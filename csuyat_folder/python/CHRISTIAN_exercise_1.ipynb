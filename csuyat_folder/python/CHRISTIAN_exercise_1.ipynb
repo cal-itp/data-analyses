{
 "cells": [
  {
   "cell_type": "markdown",
   "id": "a136f4a6-00a4-4697-bdb1-ac022a94eb38",
   "metadata": {},
   "source": [
    "# Exercise 1: Familiarize yourself with `pandas`\n",
    "If you are new to Python, check out the introductory Python courses available through Caltrans's LinkedIn Learning Library:\n",
    "* https://www.linkedin.com/learning/search?keywords=python&u=36029164\n",
    "\n",
    "Skills: \n",
    "* `pandas` is one of the base Python packages for working with tabular data.\n",
    "* Do some grouping and aggregation. Many ways to do this!\n",
    "* Export to Google Cloud Storage\n",
    "* Practice committing on GitHub\n",
    "\n",
    "References: \n",
    "* https://docs.calitp.org/data-infra/analytics_new_analysts/01-data-analysis-intro.html\n",
    "* https://docs.calitp.org/data-infra/analytics_tools/saving_code.html"
   ]
  },
  {
   "cell_type": "code",
   "execution_count": 1,
   "id": "ca35b0dc-ff9d-41ce-9d24-0fb654ea91e6",
   "metadata": {},
   "outputs": [],
   "source": [
    "from siuba import *\n",
    "from siuba.data import mtcars\n",
    "\n",
    "import pandas as pd\n"
   ]
  },
  {
   "cell_type": "markdown",
   "id": "aeb604df-dd3f-4f6b-9b9a-172f01d9cbe1",
   "metadata": {
    "tags": []
   },
   "source": [
    "## Groupby / Aggregation\n",
    "\n",
    "* By cylinder categories, calculate the average mpg and find difference between max and min weight.\n",
    "* Hint: for `pandas`: `groupby / agg`, `pivot_table`, `groupby / transform`\n",
    "* Hint: for `siuba`: `groupby`, `summarize`"
   ]
  },
  {
   "cell_type": "code",
   "execution_count": null,
   "id": "d5f94080-36ea-4586-9df4-338b7c4fafc4",
   "metadata": {},
   "outputs": [],
   "source": [
    "mtcars.columns"
   ]
  },
  {
   "cell_type": "code",
   "execution_count": null,
   "id": "894daee8-097a-4338-9c73-fb93286d6fb1",
   "metadata": {},
   "outputs": [],
   "source": [
    "#PANDAS\n",
    "#using groupby to get average MPG, grouped by cyl\n",
    "mtcars.groupby('cyl').mpg.mean()"
   ]
  },
  {
   "cell_type": "code",
   "execution_count": null,
   "id": "3275f255-ebb2-4a56-8ebe-f4a772c17226",
   "metadata": {},
   "outputs": [],
   "source": [
    "#PANDAS\n",
    "#using agg() to include other agg functions\n",
    "\n",
    "mtcars.groupby('cyl').wt.agg(['mean','min','max'])"
   ]
  },
  {
   "cell_type": "code",
   "execution_count": null,
   "id": "a1d4723d-4f94-41ac-b78f-c00ab9fab654",
   "metadata": {},
   "outputs": [],
   "source": [
    "#PANDAS\n",
    "#applying mean() to all col\n",
    "mtcars.groupby('cyl').mean()\n"
   ]
  },
  {
   "cell_type": "code",
   "execution_count": null,
   "id": "b5a80405-5055-4194-8b7d-34c6c43ad8b7",
   "metadata": {},
   "outputs": [],
   "source": [
    "# SIUBA\n",
    "# multiple summarize adds new cols.\n",
    "(mtcars\n",
    " >>group_by(_.cyl)\n",
    " >>summarize(\n",
    "     avg_mpg = _.mpg.mean(),\n",
    "     wt_diff = _.wt.max() - _.wt.min()\n",
    " )\n",
    ")"
   ]
  },
  {
   "cell_type": "markdown",
   "id": "da313574-e4ba-4aec-9cbe-32df84828ebc",
   "metadata": {},
   "source": [
    "## Functions\n",
    "\n",
    "* Create a new column using a lambda function and tag 6 cylinder values with \"six\", and all other values as \"other\"\n",
    "* Write a function that tags each cylinder value with the word (ex: 6 as \"six\", 8 as \"eight\")"
   ]
  },
  {
   "cell_type": "code",
   "execution_count": null,
   "id": "638d8f15-1577-4cfb-93cf-43411e5493d1",
   "metadata": {},
   "outputs": [],
   "source": [
    "#PANDAS\n",
    "\n",
    "#new col for cyl name\n",
    "mtcars['cyl name'] = mtcars.apply(lambda row: 'Six' if row.cyl == 6\n",
    "                                 else 'other', axis = 1)\n",
    "\n",
    "mtcars"
   ]
  },
  {
   "cell_type": "code",
   "execution_count": 3,
   "id": "29d825dd-3475-4689-a479-b14dcb3e3c58",
   "metadata": {},
   "outputs": [
    {
     "data": {
      "text/html": [
       "<div>\n",
       "<style scoped>\n",
       "    .dataframe tbody tr th:only-of-type {\n",
       "        vertical-align: middle;\n",
       "    }\n",
       "\n",
       "    .dataframe tbody tr th {\n",
       "        vertical-align: top;\n",
       "    }\n",
       "\n",
       "    .dataframe thead th {\n",
       "        text-align: right;\n",
       "    }\n",
       "</style>\n",
       "<table border=\"1\" class=\"dataframe\">\n",
       "  <thead>\n",
       "    <tr style=\"text-align: right;\">\n",
       "      <th></th>\n",
       "      <th>mpg</th>\n",
       "      <th>cyl</th>\n",
       "      <th>disp</th>\n",
       "      <th>hp</th>\n",
       "      <th>drat</th>\n",
       "      <th>wt</th>\n",
       "      <th>qsec</th>\n",
       "      <th>vs</th>\n",
       "      <th>am</th>\n",
       "      <th>gear</th>\n",
       "      <th>carb</th>\n",
       "      <th>cyl define</th>\n",
       "    </tr>\n",
       "  </thead>\n",
       "  <tbody>\n",
       "    <tr>\n",
       "      <th>0</th>\n",
       "      <td>21.0</td>\n",
       "      <td>6</td>\n",
       "      <td>160.0</td>\n",
       "      <td>110</td>\n",
       "      <td>3.90</td>\n",
       "      <td>2.620</td>\n",
       "      <td>16.46</td>\n",
       "      <td>0</td>\n",
       "      <td>1</td>\n",
       "      <td>4</td>\n",
       "      <td>4</td>\n",
       "      <td>Six</td>\n",
       "    </tr>\n",
       "    <tr>\n",
       "      <th>1</th>\n",
       "      <td>21.0</td>\n",
       "      <td>6</td>\n",
       "      <td>160.0</td>\n",
       "      <td>110</td>\n",
       "      <td>3.90</td>\n",
       "      <td>2.875</td>\n",
       "      <td>17.02</td>\n",
       "      <td>0</td>\n",
       "      <td>1</td>\n",
       "      <td>4</td>\n",
       "      <td>4</td>\n",
       "      <td>Six</td>\n",
       "    </tr>\n",
       "    <tr>\n",
       "      <th>2</th>\n",
       "      <td>22.8</td>\n",
       "      <td>4</td>\n",
       "      <td>108.0</td>\n",
       "      <td>93</td>\n",
       "      <td>3.85</td>\n",
       "      <td>2.320</td>\n",
       "      <td>18.61</td>\n",
       "      <td>1</td>\n",
       "      <td>1</td>\n",
       "      <td>4</td>\n",
       "      <td>1</td>\n",
       "      <td>Four</td>\n",
       "    </tr>\n",
       "    <tr>\n",
       "      <th>3</th>\n",
       "      <td>21.4</td>\n",
       "      <td>6</td>\n",
       "      <td>258.0</td>\n",
       "      <td>110</td>\n",
       "      <td>3.08</td>\n",
       "      <td>3.215</td>\n",
       "      <td>19.44</td>\n",
       "      <td>1</td>\n",
       "      <td>0</td>\n",
       "      <td>3</td>\n",
       "      <td>1</td>\n",
       "      <td>Six</td>\n",
       "    </tr>\n",
       "    <tr>\n",
       "      <th>4</th>\n",
       "      <td>18.7</td>\n",
       "      <td>8</td>\n",
       "      <td>360.0</td>\n",
       "      <td>175</td>\n",
       "      <td>3.15</td>\n",
       "      <td>3.440</td>\n",
       "      <td>17.02</td>\n",
       "      <td>0</td>\n",
       "      <td>0</td>\n",
       "      <td>3</td>\n",
       "      <td>2</td>\n",
       "      <td>Eight</td>\n",
       "    </tr>\n",
       "  </tbody>\n",
       "</table>\n",
       "</div>"
      ],
      "text/plain": [
       "    mpg  cyl   disp   hp  drat     wt   qsec  vs  am  gear  carb cyl define\n",
       "0  21.0    6  160.0  110  3.90  2.620  16.46   0   1     4     4        Six\n",
       "1  21.0    6  160.0  110  3.90  2.875  17.02   0   1     4     4        Six\n",
       "2  22.8    4  108.0   93  3.85  2.320  18.61   1   1     4     1       Four\n",
       "3  21.4    6  258.0  110  3.08  3.215  19.44   1   0     3     1        Six\n",
       "4  18.7    8  360.0  175  3.15  3.440  17.02   0   0     3     2      Eight"
      ]
     },
     "execution_count": 3,
     "metadata": {},
     "output_type": "execute_result"
    }
   ],
   "source": [
    "#new function to apply to entire df\n",
    "# if cyl is 6, then change to \"Six. if cyl is 8, change to \"Eight\" etc\n",
    "\n",
    "def cyl_define(row):\n",
    "    if row.cyl == 6:\n",
    "        return 'Six'\n",
    "    elif row.cyl == 8:\n",
    "        return 'Eight'\n",
    "    elif row.cyl == 4:\n",
    "        return 'Four'\n",
    "\n",
    "mtcars['cyl define'] = mtcars.apply(cyl_define,axis = 1)\n",
    "mtcars.head()"
   ]
  },
  {
   "cell_type": "code",
   "execution_count": null,
   "id": "2d2923b1-538d-4ff8-a69f-c3c31a08a6ab",
   "metadata": {},
   "outputs": [],
   "source": [
    "# SIUBA\n",
    "# Complete\n",
    "# muate. Runs the code in-place, but df not named\n",
    "(mtcars\n",
    " >>mutate(\n",
    "     cyl_rename = if_else(_.cyl == 6, 'six', 'other'))\n",
    ")"
   ]
  },
  {
   "cell_type": "code",
   "execution_count": null,
   "id": "a33b3518-951f-43d9-aaf1-20e1644a53f9",
   "metadata": {},
   "outputs": [],
   "source": [
    "mtcars2"
   ]
  },
  {
   "cell_type": "code",
   "execution_count": null,
   "id": "e3c39126-4eab-43c8-a8cb-4705fe524904",
   "metadata": {},
   "outputs": [],
   "source": [
    "# SIUBA\n",
    "# COMPLETE\n",
    "# case when to reaplce 6 with \"six\", 8 with \"eight\", 4 with \"four\".\n",
    "# used mutate and named the df 'mtcars'\n",
    "mtcars2 = (mtcars\n",
    " >>mutate(\n",
    "     cyl_cat = case_when(mtcars, { \n",
    "        _.cyl == 6: \"six\",\n",
    "        _.cyl == 8: \"eight\",\n",
    "        _.cyl == 4: \"four\",\n",
    "    })\n",
    " ))"
   ]
  },
  {
   "cell_type": "code",
   "execution_count": null,
   "id": "95425d0d-ff1f-47ca-9b0b-f8739dd80e40",
   "metadata": {},
   "outputs": [],
   "source": [
    "mtcars2"
   ]
  },
  {
   "cell_type": "code",
   "execution_count": null,
   "id": "4df2f698-bf2d-41e9-b2da-2b21a21dac60",
   "metadata": {},
   "outputs": [],
   "source": [
    "# SIUBA\n",
    "mtcars2>>mutate(\n",
    "     cyl_cat2 = case_when(mtcars, { \n",
    "        _.cyl == 6: \"other\",\n",
    "        _.cyl == 8: \"eight2\",\n",
    "        _.cyl == 4: \"four2\",\n",
    "    })\n",
    ")    "
   ]
  },
  {
   "cell_type": "markdown",
   "id": "bfa7c0fc-5078-4678-a449-66f9cdc40381",
   "metadata": {},
   "source": [
    "## Export to Google Cloud Storage (GCS)\n",
    "\n",
    "* Make sure credential works\n",
    "* Use this path: \"gs://calitp-analytics-data/data-analyses/FILENAME\"\n",
    "* Export using `df.to_parquet()` and `df.to_csv()`"
   ]
  },
  {
   "cell_type": "code",
   "execution_count": null,
   "id": "201e68ca-7e4e-4c0a-9ac0-ffabc57fb01a",
   "metadata": {},
   "outputs": [],
   "source": [
    "#getting error\n",
    "\n",
    "from calitp_data_analysis import get_fs\n",
    "fs = get_fs()\n",
    "\n",
    "mtcars2.to_parquet('gs://calitp-analytics-data/data-analyses/csuyat_folder/exercise1_v2.parquet')"
   ]
  },
  {
   "cell_type": "code",
   "execution_count": null,
   "id": "55310850-ac96-4d73-a540-7274062d59cd",
   "metadata": {},
   "outputs": [],
   "source": [
    "#export df as csv. ensure output file name is .csv, not .parquet\n",
    "\n",
    "from calitp_data_analysis import get_fs\n",
    "fs = get_fs()\n",
    "\n",
    "mtcars2.to_csv('gs://calitp-analytics-data/data-analyses/csuyat_folder/exercise1_v2.1.csv')"
   ]
  },
  {
   "cell_type": "markdown",
   "id": "4db55ea3-d19d-4bf4-9564-4685064a5a4a",
   "metadata": {},
   "source": [
    "## Make a chart\n",
    "\n",
    "* Read in the parquet file from GCS.\n",
    "* Make a visualization using one of the charting packages.\n",
    "* Name this notebook `YOURNAME_exercise1.ipynb`\n",
    "    * If you need to rename because you already named it, do it within the terminal.\n",
    "    * `git mv OLDNAME.ipynb NEWNAME.ipynb`. \n",
    "    * The `mv` stands for move, and renaming a file is basically \"moving\" its path. Doing it this way retains the git history associated with the notebook. If you rename directly with right click, rename, you destroy the git history.\n",
    "* Use a descriptive commit message (ex: adding chart, etc). GitHub already tracks who makes the commit, the date, the timestamp of it, the files being affected, so your commit message should be more descriptive than the metadata already stored."
   ]
  },
  {
   "cell_type": "code",
   "execution_count": null,
   "id": "8064ad3e-afa7-41fa-b833-4d5182085933",
   "metadata": {},
   "outputs": [],
   "source": [
    "#names df as the parquet file from gcs\n",
    "\n",
    "df = pd.read_parquet('gs://calitp-analytics-data/data-analyses/csuyat_folder/exercise1_v2.parquet')"
   ]
  },
  {
   "cell_type": "code",
   "execution_count": null,
   "id": "654bf8ae-7a69-4730-a17f-72af4652b95a",
   "metadata": {},
   "outputs": [],
   "source": [
    "#plot a chart of the exercise1_v2 df, but only show the mpg col.\n",
    "#any way to \n",
    "df['mpg'].plot()"
   ]
  },
  {
   "cell_type": "code",
   "execution_count": null,
   "id": "9e65c471-7cc5-4c92-b707-7ccd81928a94",
   "metadata": {},
   "outputs": [],
   "source": []
  }
 ],
 "metadata": {
  "kernelspec": {
   "display_name": "Python 3 (ipykernel)",
   "language": "python",
   "name": "python3"
  },
  "language_info": {
   "codemirror_mode": {
    "name": "ipython",
    "version": 3
   },
   "file_extension": ".py",
   "mimetype": "text/x-python",
   "name": "python",
   "nbconvert_exporter": "python",
   "pygments_lexer": "ipython3",
   "version": "3.9.13"
  }
 },
 "nbformat": 4,
 "nbformat_minor": 5
}
