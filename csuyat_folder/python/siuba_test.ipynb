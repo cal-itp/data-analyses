{
 "cells": [
  {
   "cell_type": "code",
   "execution_count": null,
   "id": "81d5daac-a62a-493a-8ba3-045a739625b6",
   "metadata": {},
   "outputs": [],
   "source": [
    "from siuba import *\n",
    "from siuba.data import mtcars\n",
    "from siuba.data import penguins\n"
   ]
  },
  {
   "cell_type": "code",
   "execution_count": null,
   "id": "09d9c71d-368a-45d2-8fb4-a864bee2e794",
   "metadata": {},
   "outputs": [],
   "source": [
    "#print data frams\n",
    "print (mtcars)"
   ]
  },
  {
   "cell_type": "code",
   "execution_count": null,
   "id": "3e608c45-c40c-48c2-a7dc-eb1448e427cd",
   "metadata": {},
   "outputs": [],
   "source": [
    "# COMPLETE\n",
    "# adding summerize then groups its by cyl\n",
    "\n",
    "(mtcars\n",
    " >>group_by(_.cyl)\n",
    " >>summarize(avg_mpg=_.mpg.mean())\n",
    ")"
   ]
  },
  {
   "cell_type": "code",
   "execution_count": null,
   "id": "2e910e02-c7ac-41b1-988a-84c912d736dc",
   "metadata": {},
   "outputs": [],
   "source": [
    "# Suiba test\n",
    "# group by cyl\n",
    "## guess group by doesnt sort the df by cyl?\n",
    "\n",
    "(mtcars\n",
    "  >> group_by(_.cyl)\n",
    "  )"
   ]
  },
  {
   "cell_type": "code",
   "execution_count": null,
   "id": "d38fe542-4886-4e30-866d-0c56dfee0084",
   "metadata": {},
   "outputs": [],
   "source": [
    "# TEST, dont run\n",
    "# new column for min/max weight diff, but retains initial col\n",
    "(mtcars\n",
    " >>group_by(_.cyl) >> head(5)\n",
    " >>mutate(minwt_diff = _.wt- _.wt.min())\n",
    " >>mutate(maxwt_diff = _.wt.max() - _.wt)\n",
    ")"
   ]
  },
  {
   "cell_type": "code",
   "execution_count": null,
   "id": "54456b88-ffa0-4043-81aa-6c6996ec9c1a",
   "metadata": {},
   "outputs": [],
   "source": [
    "# TEST, dont run\n",
    "#combine mutate functions?\n",
    "(mtcars\n",
    " >>group_by(_.cyl) >> head(5)\n",
    " >>mutate(\n",
    "     minwt_diff = _.wt- _.wt.min(), \n",
    "     maxwt_diff = _.wt.max() - _.wt)\n",
    ")"
   ]
  },
  {
   "cell_type": "code",
   "execution_count": null,
   "id": "3e0d7373-f5a0-4c8c-8123-e9b15a058440",
   "metadata": {},
   "outputs": [],
   "source": [
    "# TEST, dont run\n",
    "#replace mutate with summerize?\n",
    "(mtcars\n",
    " >>group_by(_.cyl) >> head(5)\n",
    " >>summarize(minwt_diff = _.wt- _.wt.min())\n",
    ")"
   ]
  },
  {
   "cell_type": "code",
   "execution_count": null,
   "id": "6315d2d6-fe59-4c46-9662-8b66369142fc",
   "metadata": {},
   "outputs": [],
   "source": [
    "# TEST, dont run\n",
    "# transmute to only see mutated col\n",
    "(mtcars\n",
    " >>group_by(_.cyl) >> head(5)\n",
    " >>transmute(minwt_diff = _.wt - _.wt.min())\n",
    " \n",
    ")"
   ]
  },
  {
   "cell_type": "code",
   "execution_count": null,
   "id": "bf2183d7-7bd9-402b-924a-839eefa9a5c6",
   "metadata": {},
   "outputs": [],
   "source": [
    "# TEST, dont run\n",
    "# use mutate to add new col to summerize?\n",
    "(mtcars\n",
    " >>group_by(_.cyl)\n",
    " >>summarize(avg_mpg=_.mpg.mean())\n",
    " >>mutate(minwt_diff = _.wt- _.wt.min())\n",
    ")"
   ]
  },
  {
   "cell_type": "code",
   "execution_count": null,
   "id": "7c8cfb30-e3b4-4804-987c-9df6bffcc47e",
   "metadata": {},
   "outputs": [],
   "source": [
    "## to return rows based off the criteria\n",
    "mtcars[_.carb == 2]\n",
    "mtcars[_.mpg > 21]"
   ]
  },
  {
   "cell_type": "code",
   "execution_count": null,
   "id": "049121e8-3915-4892-9f11-75b7cf22264a",
   "metadata": {},
   "outputs": [],
   "source": [
    "# Test, dotnt run\n",
    "# group_by & case when?\n",
    "(mtcars\n",
    " >> group_by(_.cyl)\n",
    " >>case_when({ \n",
    "    _.cyl == 6: \"six\",\n",
    "    _.cyl == 8: \"eight\",\n",
    "    _.cyl == 4: \"four\"\n",
    "})\n",
    ")"
   ]
  },
  {
   "cell_type": "code",
   "execution_count": null,
   "id": "91a10b7e-66f0-4a01-9929-5447198725b7",
   "metadata": {},
   "outputs": [],
   "source": [
    "# TEST, dont run\n",
    "# use summerize and case when? to get group by cyl and \n",
    "(mtcars\n",
    " >>group_by(_.cyl)\n",
    " >>summarize(avg_mpg=_.mpg.mean()\n",
    "case_when(mtcars, { \n",
    "    _.cyl == 6: \"six\",\n",
    "    _.cyl == 8: \"eight\",\n",
    "    _.cyl == 4: \"four\",\n",
    "})"
   ]
  },
  {
   "cell_type": "code",
   "execution_count": null,
   "id": "6ff7fd56-50f6-4b11-995d-2315684b4fd2",
   "metadata": {},
   "outputs": [],
   "source": [
    "# COMPLETE, works but dont run\n",
    "# if_else to replace 6 with \"six\"/\"other\". but only returns the results\n",
    "if_else(mtcars.cyl == 6,'six', 'other')\n"
   ]
  },
  {
   "cell_type": "code",
   "execution_count": null,
   "id": "c746a7c2-0113-4a20-b718-543f28f4dd8f",
   "metadata": {},
   "outputs": [],
   "source": [
    "mtcars.groupby('cyl')"
   ]
  },
  {
   "cell_type": "code",
   "execution_count": null,
   "id": "f9d1ddc7-c834-420e-afe6-5334efeeb3a6",
   "metadata": {},
   "outputs": [],
   "source": [
    "case_when(penguins, {\n",
    "    _.bill_depth_mm <= 18: \"short\",\n",
    "    _.bill_depth_mm <= 19: \"medium\",\n",
    "    _.bill_depth_mm > 19: \"long\"\n",
    "})"
   ]
  },
  {
   "cell_type": "code",
   "execution_count": null,
   "id": "74a9a4f8-5678-44ec-a4a9-d2f121026356",
   "metadata": {},
   "outputs": [],
   "source": [
    "# TEST, dont run"
   ]
  }
 ],
 "metadata": {
  "kernelspec": {
   "display_name": "Python 3 (ipykernel)",
   "language": "python",
   "name": "python3"
  },
  "language_info": {
   "codemirror_mode": {
    "name": "ipython",
    "version": 3
   },
   "file_extension": ".py",
   "mimetype": "text/x-python",
   "name": "python",
   "nbconvert_exporter": "python",
   "pygments_lexer": "ipython3",
   "version": "3.9.13"
  }
 },
 "nbformat": 4,
 "nbformat_minor": 5
}
