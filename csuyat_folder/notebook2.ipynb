{
 "cells": [
  {
   "cell_type": "code",
   "execution_count": 5,
   "id": "91da71d3-d76f-4ba8-92b4-1628001474b6",
   "metadata": {},
   "outputs": [],
   "source": [
    "from calitp_data_analysis.sql import to_snakecase\n",
    "import pandas as pd"
   ]
  },
  {
   "cell_type": "code",
   "execution_count": 6,
   "id": "f9480f15-f1c7-4ede-8019-e6e0c84beea8",
   "metadata": {},
   "outputs": [],
   "source": [
    "pd.options.display.max_columns = 100\n",
    "pd.options.display.float_format = \"{:.2f}\".format\n",
    "pd.set_option(\"display.max_rows\", None)\n",
    "pd.set_option(\"display.max_colwidth\", None)"
   ]
  },
  {
   "cell_type": "code",
   "execution_count": 7,
   "id": "50ec39d2-b17e-4729-9e01-f1ff62d5c535",
   "metadata": {},
   "outputs": [],
   "source": [
    "my_url = \"gs://calitp-analytics-data/data-analyses/2021-Annual-Database-Files/2021 Fare Revenue.xlsx\""
   ]
  }
 ],
 "metadata": {
  "kernelspec": {
   "display_name": "Python 3 (ipykernel)",
   "language": "python",
   "name": "python3"
  },
  "language_info": {
   "codemirror_mode": {
    "name": "ipython",
    "version": 3
   },
   "file_extension": ".py",
   "mimetype": "text/x-python",
   "name": "python",
   "nbconvert_exporter": "python",
   "pygments_lexer": "ipython3",
   "version": "3.9.13"
  }
 },
 "nbformat": 4,
 "nbformat_minor": 5
}
