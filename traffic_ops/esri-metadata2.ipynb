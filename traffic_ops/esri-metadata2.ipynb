{
 "cells": [
  {
   "cell_type": "code",
   "execution_count": null,
   "id": "ca42c11d-5400-4df5-b989-f53b5a828fa7",
   "metadata": {},
   "outputs": [],
   "source": []
  },
  {
   "cell_type": "code",
   "execution_count": 1,
   "id": "e70366a0-c255-4b3a-9e0d-19bcdc335f51",
   "metadata": {},
   "outputs": [
    {
     "name": "stdout",
     "output_type": "stream",
     "text": [
      "Collecting pyshp==1.2.12\n",
      "  Using cached pyshp-1.2.12-py3-none-any.whl\n",
      "Installing collected packages: pyshp\n",
      "Successfully installed pyshp-1.2.12\n"
     ]
    }
   ],
   "source": [
    "!pip install pyshp==1.2.12"
   ]
  },
  {
   "cell_type": "code",
   "execution_count": 2,
   "id": "54bf82ea-b255-40c2-aefa-f2512ae0a2cf",
   "metadata": {},
   "outputs": [],
   "source": [
    "from xml.etree import ElementTree\n",
    "from datetime import datetime\n",
    "import shapefile\n",
    "import os\n"
   ]
  },
  {
   "cell_type": "code",
   "execution_count": 3,
   "id": "fb9697f3-cab5-494f-9e5a-78466522dca5",
   "metadata": {},
   "outputs": [],
   "source": [
    "import shapefile\n",
    "import xml.etree.cElementTree as ET\n",
    "\n",
    "SHP_PATH = \"./test_stops/\"\n",
    "basename = \"test_stops\"\n",
    "sf = shapefile.Reader(f\"{SHP_PATH}{basename}\")\n",
    "\n",
    "metadata = ET.Element(\"metadata\")\n",
    "\n",
    "element1 = ET.SubElement(metadata, \"elements\")\n",
    "detailed = ET.SubElement(element1,\"detailed\",name=basename)\n",
    "attr = ET.SubElement(detailed,\"attr\")\n",
    "\n",
    "ET.SubElement(attr, \"title\").text = \"Shapefile Title\"\n",
    "ET.SubElement(attr, \"tags\").text = \"tag1, tag2\"\n",
    "ET.SubElement(attr, \"description\").text = \"This is the description\"\n",
    "ET.SubElement(attr, \"organization\").text = \"California Department of Transportation\"\n",
    "ET.SubElement(attr, \"place_keywords\").text = \"Statewide\"\n",
    "ET.SubElement(attr, \"update_frequency\").text = '(\"monthly\", \"005\")'\n",
    "ET.SubElement(attr, \"last_update\").text = \"01-01-2021\"\n",
    "\n",
    "# methodology, topic, next update, \n",
    "\n",
    "\n",
    "tree = ET.ElementTree(metadata)\n",
    "tree.write(f\"{SHP_PATH}{basename}_auto.xml\")"
   ]
  },
  {
   "cell_type": "code",
   "execution_count": 4,
   "id": "e65e4879-ea1f-4744-8da4-62d47f4fc092",
   "metadata": {},
   "outputs": [],
   "source": [
    "tree = ET.parse(f\"{SHP_PATH}routes.xml\")"
   ]
  },
  {
   "cell_type": "code",
   "execution_count": 5,
   "id": "71577afc-842c-48b0-b0ac-34d2c802def8",
   "metadata": {},
   "outputs": [],
   "source": [
    "root = tree.getroot()\n"
   ]
  },
  {
   "cell_type": "code",
   "execution_count": 6,
   "id": "c9e6c997-dfe2-45a1-bde2-72f9591dded6",
   "metadata": {},
   "outputs": [
    {
     "data": {
      "text/plain": [
       "'metadata'"
      ]
     },
     "execution_count": 6,
     "metadata": {},
     "output_type": "execute_result"
    }
   ],
   "source": [
    "root.tag"
   ]
  },
  {
   "cell_type": "code",
   "execution_count": 7,
   "id": "45c97c4d-7858-4f13-9bc8-01a761eeef08",
   "metadata": {},
   "outputs": [
    {
     "data": {
      "text/plain": [
       "{}"
      ]
     },
     "execution_count": 7,
     "metadata": {},
     "output_type": "execute_result"
    }
   ],
   "source": [
    "root.attrib"
   ]
  },
  {
   "cell_type": "code",
   "execution_count": 8,
   "id": "39339d55-d847-4d4c-bd1e-a9dc30306667",
   "metadata": {},
   "outputs": [
    {
     "name": "stdout",
     "output_type": "stream",
     "text": [
      "idinfo {}\n",
      "spdoinfo {}\n",
      "spref {}\n",
      "eainfo {}\n",
      "metainfo {}\n"
     ]
    }
   ],
   "source": [
    "#https://docs.python.org/3/library/xml.etree.elementtree.html\n",
    "for child in root:\n",
    "    print(child.tag, child.attrib)"
   ]
  },
  {
   "cell_type": "code",
   "execution_count": 9,
   "id": "0e288fd1-cc49-4ca1-af3a-03b040b60fee",
   "metadata": {},
   "outputs": [
    {
     "name": "stdout",
     "output_type": "stream",
     "text": [
      "idinfo\n"
     ]
    }
   ],
   "source": [
    "for child in root.iter('idinfo'):\n",
    "    print(child.tag)"
   ]
  },
  {
   "cell_type": "code",
   "execution_count": null,
   "id": "274c66ae-5892-4481-bbfa-4ff44e3f53e4",
   "metadata": {},
   "outputs": [],
   "source": [
    "# https://stackoverflow.com/questions/23013236/how-to-encode-xml-into-esri-shapefiles-using-python\n",
    "# Requires pyshp: https://pypi.python.org/pypi/pyshp\n",
    "#\n",
    "# Conversion for http://daten.berlin.de/datensaetze/liste-der-gedenktafeln-berlin\n",
    "# File: http://gedenktafeln-in-berlin.de/index.php?id=31&type=123\n",
    "#\n",
    "\n",
    "def get_value(list, index, default):\n",
    "    value = list[index]\n",
    "    if value is None:\n",
    "        value = default\n",
    "    else:\n",
    "        value = value.text\n",
    "        if value is None:\n",
    "            value = default\n",
    "        else:\n",
    "            # value = value.replace(u'\\xdf', u' ')\n",
    "            value = value.encode(\"utf-8\")\n",
    "    return value"
   ]
  },
  {
   "cell_type": "code",
   "execution_count": null,
   "id": "d40c8df6-955f-458a-9c30-f2fc63f89f1b",
   "metadata": {},
   "outputs": [],
   "source": [
    "SHP_PATH = \"./test_stops/\"\n",
    "xml_file = f'{SHP_PATH}test_stops.xml'\n",
    "shape_file = f'{SHP_PATH}test_stops.shp'\n",
    "#projection = 'GEOGCS[\"GCS_WGS_1984\",DATUM[\"D_WGS_1984\",SPHEROID[\"WGS_1984\",6378137.0,298.257223563]],PRIMEM[\"Greenwich\",0.0],UNIT[\"Degree\",0.0174532925199433]]'\n",
    "\n",
    "tree = ElementTree.parse(xml_file)\n",
    "\n",
    "root = tree.getroot()\n",
    "shapes = root.getchildren()\n",
    "\n",
    "# look it up by attribute instead of by number\n"
   ]
  },
  {
   "cell_type": "code",
   "execution_count": 17,
   "id": "7646d461-dd59-4b39-82b6-eb796a5034a0",
   "metadata": {},
   "outputs": [
    {
     "name": "stdout",
     "output_type": "stream",
     "text": [
      "idinfo {}\n",
      "spdoinfo {}\n",
      "spref {}\n",
      "eainfo {}\n",
      "metainfo {}\n"
     ]
    }
   ],
   "source": [
    "for child in root:\n",
    "    print(child.tag, child.attrib)"
   ]
  },
  {
   "cell_type": "code",
   "execution_count": 19,
   "id": "769d2980-46b1-4db0-bba8-6084ad1fae82",
   "metadata": {},
   "outputs": [
    {
     "name": "stdout",
     "output_type": "stream",
     "text": [
      "detailed {}\n"
     ]
    }
   ],
   "source": [
    "for child in root.find(\"eainfo\"):\n",
    "    print(child.tag, child.attrib)"
   ]
  },
  {
   "cell_type": "code",
   "execution_count": null,
   "id": "d7f03539-cfd7-41f6-8df6-427557fe853a",
   "metadata": {},
   "outputs": [],
   "source": [
    "#Update the MCMS polygon metadata titles, update date and edition date\n",
    "for f in os.listdir(ws):\n",
    "#Find the polygon xml file    \n",
    "    if f.endswith(\"A.shp.xml\"):\n",
    "        fpath = os.path.join(ws, f)\n",
    "#Identify the metadata tree      \n",
    "        tree = ET.parse(fpath)\n",
    "        root = tree.getroot()\n",
    "#Set the title and date variables to the relevant metadata tag index\n",
    "        metadata_dict = {\n",
    "            \"editiondate\": root[4][0][0],\n",
    "            \"reviseddate\": root[4][0][5][0],\n",
    "            \"title\": root[4][0][7],\n",
    "        }\n",
    "    \n",
    "        overwrite_values = {\n",
    "            \"editiondate\": today.strftime(\"%Y-%m-%d\"),\n",
    "            \"reviseddate\": today.strftime(\"%Y-%m-%d\") + \"T00:00:00\",\n",
    "            \"title\": \"Shapefile Title\" ,\n",
    "        }\n",
    "        \n",
    "        #Update the tags with the new data\n",
    "        for key, value in metadata_dict.items():\n",
    "            value[\"text\"] = overwrite_values[key]\n",
    " \n",
    "    #Write the updates to the xml file\n",
    "            tree.write(fpath)"
   ]
  }
 ],
 "metadata": {
  "kernelspec": {
   "display_name": "Python 3 (ipykernel)",
   "language": "python",
   "name": "python3"
  },
  "language_info": {
   "codemirror_mode": {
    "name": "ipython",
    "version": 3
   },
   "file_extension": ".py",
   "mimetype": "text/x-python",
   "name": "python",
   "nbconvert_exporter": "python",
   "pygments_lexer": "ipython3",
   "version": "3.9.7"
  }
 },
 "nbformat": 4,
 "nbformat_minor": 5
}
