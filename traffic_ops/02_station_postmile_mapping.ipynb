{
 "cells": [
  {
   "cell_type": "markdown",
   "id": "ace58342-c6db-425d-862a-fb3a8a0b0e94",
   "metadata": {},
   "source": [
    "# Get PEMS stations to match up with SHN postmiles\n",
    "\n",
    "## Takeaways\n",
    "* PEMS user guide section on postmiles vs absolute postmiles\n",
    "   * `postmiles` reset at county line\n",
    "   * `abs_postmiles` is distance is from the origin \n",
    "* SHN postmiles metadata explains that `odometer` counts the distance from the origin. \n",
    "   * `pm` is postmiles\n",
    "   * `pmc` is postmiles combined from `PmPrefix, PM, PmSuffix`\n",
    "* Since PEMS stations and SHN postmiles data sources both contain county, district, and freeway information, we'll prefer PEMS for county, district identifiers.\n",
    "   * For columns in common, we will keep names matching PEMS if it's straight rename\n",
    "   * Whatever format is the values are in PEMS, we'll clean up SHN postmiles to match\n",
    "* **Merging in SHN postmiles gets us 99.9% from PEMS**\n",
    "* 5 rows need to try again...these are all 91 freeway in Orange County.\n",
    "   * We'll do a second merge that just grabs the postmile closest.\n",
    "   * Not a big deal because we do round to 1 decimal place, but detectors can be located between 2 different postmiles, and our rounding helps us get to the closest, but no guarantee that the closest postmile actually exists.\n",
    "\n",
    "### References\n",
    "* PEMS User Guide\n",
    "* [SHN postmiles ESRI layer](https://caltrans-gis.dot.ca.gov/arcgis/rest/services/CHhighway/SHN_Postmiles_Tenth/FeatureServer/0)\n",
    "* [SHN postmiles metadata](https://caltrans-gis.dot.ca.gov/arcgis/rest/services/CHhighway/SHN_Postmiles_Tenth/FeatureServer/0/metadata)"
   ]
  },
  {
   "cell_type": "code",
   "execution_count": 1,
   "id": "4a492607-1f12-4c6d-98e1-79f837c512f0",
   "metadata": {},
   "outputs": [],
   "source": [
    "import geopandas as gpd\n",
    "import pandas as pd\n",
    "\n",
    "from utils import PROCESSED_GCS\n",
    "from shared_utils.shared_data import GCS_FILE_PATH as SHARED_GCS"
   ]
  },
  {
   "cell_type": "code",
   "execution_count": 2,
   "id": "94568303-0dca-4dc8-a6f2-4507607d950b",
   "metadata": {},
   "outputs": [],
   "source": [
    "postmiles = gpd.read_parquet(\n",
    "    f\"{SHARED_GCS}state_highway_network_postmiles.parquet\"\n",
    ")\n",
    "\n",
    "station_crosswalk = pd.read_parquet(\n",
    "    f\"{PROCESSED_GCS}station_crosswalk.parquet\",\n",
    ") "
   ]
  },
  {
   "cell_type": "code",
   "execution_count": 3,
   "id": "2319384d-6974-416d-827e-123c24309868",
   "metadata": {},
   "outputs": [],
   "source": [
    "def clean_postmiles(gdf: gpd.GeoDataFrame):\n",
    "    \"\"\"\n",
    "    Clean SHN postmiles dataset.\n",
    "    Be explicit about columns we don't want to keep\n",
    "    \n",
    "    We'll favor the PEMS data source over this one (for county, district, etc)\n",
    "    and prefer column names / value formatting that match with PEMS.\n",
    "    \n",
    "    Also, postmiles will contain information about where the postmile\n",
    "    is located, offset, etc, which we probably don't need either\n",
    "    \"\"\"\n",
    "    drop_cols = [\n",
    "        \"district\", \"county\",\n",
    "        \"direction\",\n",
    "        #route+suffix, sometimes it's 5\n",
    "        # sometimes it's 5S. either way, we have freeway_direction\n",
    "        \"routes\", \"rtesuffix\",\n",
    "        \"pmrouteid\", \n",
    "        \"pm\", \"pmc\",\n",
    "        \"pminterval\",\n",
    "        \"pmprefix\", \"pmsuffix\",\n",
    "        \"aligncode\", \"pmoffset\",\n",
    "    ]\n",
    "    \n",
    "    rename_dict = {\n",
    "        \"route\": \"freeway_id\"\n",
    "    }\n",
    "    \n",
    "    gdf = gdf.assign(\n",
    "        # NB becomes N\n",
    "        freeway_direction = gdf.direction.str.replace(\"B\", \"\"),\n",
    "        # pm gets us better merges than pmc\n",
    "        # pmc is PM(combined) which includes prefix/suffix\n",
    "        abs_pm = gdf.odometer.round(1)\n",
    "    ).drop(columns = drop_cols).rename(columns = rename_dict)\n",
    "    \n",
    "    return gdf\n",
    "\n",
    "\n",
    "def clean_station_freeway_info(df: pd.DataFrame) -> pd.DataFrame:\n",
    "    \"\"\"\n",
    "    Clean up PEMS station dataset, so we can \n",
    "    merge with SHN postmiles dataset.\n",
    "    \"\"\"\n",
    "    rename_dict = {\n",
    "        \"freeway_dir\": \"freeway_direction\"\n",
    "    }\n",
    "    # Stations have abs_postmile, numeric, and we'll round to 1 decimal\n",
    "    # place to match what SHN postmiles (odometer) would be\n",
    "    df = df.assign(\n",
    "        abs_pm = df.abs_postmile.round(1),\n",
    "    ).rename(columns = rename_dict)\n",
    "    \n",
    "    return df"
   ]
  },
  {
   "cell_type": "markdown",
   "id": "fef191ab-ff4e-4ee5-b38a-c18bdcfd6f91",
   "metadata": {},
   "source": [
    "## Merging PEMS stations with postmiles\n",
    "\n",
    "* We care about figuring out why `left_only` exists.\n",
    "* `right_only` means there is a postmile and no detector there, and that's expected.\n",
    "* `left` merge is what we want. Looks good, 99.9% of rows are in both."
   ]
  },
  {
   "cell_type": "code",
   "execution_count": 4,
   "id": "d668e21b-3858-4c53-ab97-e883cb3b792c",
   "metadata": {},
   "outputs": [
    {
     "data": {
      "text/plain": [
       "right_only    308949\n",
       "both            4334\n",
       "left_only          5\n",
       "Name: _merge, dtype: int64"
      ]
     },
     "execution_count": 4,
     "metadata": {},
     "output_type": "execute_result"
    }
   ],
   "source": [
    "merge_cols = [\"freeway_id\", \"freeway_direction\", \"abs_pm\"]\n",
    "\n",
    "m1 = pd.merge(\n",
    "    station_crosswalk.pipe(clean_station_freeway_info),\n",
    "    postmiles.pipe(clean_postmiles),\n",
    "    on = merge_cols,\n",
    "    how = \"outer\",\n",
    "    indicator = True\n",
    ")\n",
    "\n",
    "m1._merge.value_counts()"
   ]
  },
  {
   "cell_type": "code",
   "execution_count": 5,
   "id": "be2f651f-a566-4005-a21c-2bfbb9f0ad4e",
   "metadata": {},
   "outputs": [
    {
     "data": {
      "text/plain": [
       "both          0.998848\n",
       "left_only     0.001152\n",
       "right_only    0.000000\n",
       "Name: _merge, dtype: float64"
      ]
     },
     "execution_count": 5,
     "metadata": {},
     "output_type": "execute_result"
    }
   ],
   "source": [
    "m2 = pd.merge(\n",
    "    station_crosswalk.pipe(clean_station_freeway_info),\n",
    "    postmiles.pipe(clean_postmiles),\n",
    "    on = merge_cols,\n",
    "    how = \"left\",\n",
    "    indicator = True\n",
    ")\n",
    "\n",
    "m2._merge.value_counts(normalize=True)"
   ]
  },
  {
   "cell_type": "markdown",
   "id": "e05f5aae-3269-4ad5-b7a5-c8c0f508c092",
   "metadata": {},
   "source": [
    "Find out specifically what's going on in the 5 rows (5 stations, but just 2 postmile rows).\n",
    "\n",
    "Try to find a pair in the right only list."
   ]
  },
  {
   "cell_type": "code",
   "execution_count": 6,
   "id": "c4966ed7-fa97-4c25-9d8d-14ccd06a83ab",
   "metadata": {},
   "outputs": [],
   "source": [
    "station_find_me = m1[m1._merge==\"left_only\"][\n",
    "    merge_cols + [\"district_id\"]].drop_duplicates()\n",
    "postmiles_find_me = m1[m1._merge==\"right_only\"][\n",
    "    merge_cols].drop_duplicates()"
   ]
  },
  {
   "cell_type": "code",
   "execution_count": 7,
   "id": "2c89d269-594d-41b4-a855-acdbf0bc0c90",
   "metadata": {},
   "outputs": [],
   "source": [
    "stations_to_fix = m1[m1._merge==\"left_only\"].station_uuid.unique()"
   ]
  },
  {
   "cell_type": "code",
   "execution_count": 8,
   "id": "d95d9463-37a8-405f-a3ac-100e9a46e53f",
   "metadata": {},
   "outputs": [
    {
     "data": {
      "text/plain": [
       "12.0    2\n",
       "Name: district_id, dtype: int64"
      ]
     },
     "execution_count": 8,
     "metadata": {},
     "output_type": "execute_result"
    }
   ],
   "source": [
    "# All on freeway 91 in D12 (orange county)\n",
    "station_find_me[\n",
    "    (station_find_me.freeway_id==91)\n",
    "].district_id.value_counts()"
   ]
  },
  {
   "cell_type": "code",
   "execution_count": 9,
   "id": "b235d3f3-661a-4a60-aa6b-4294c9b3c1b7",
   "metadata": {},
   "outputs": [
    {
     "data": {
      "text/plain": [
       "91    5\n",
       "Name: freeway_id, dtype: int64"
      ]
     },
     "execution_count": 9,
     "metadata": {},
     "output_type": "execute_result"
    }
   ],
   "source": [
    "m1[m1._merge==\"left_only\"].freeway_id.value_counts()"
   ]
  },
  {
   "cell_type": "code",
   "execution_count": 10,
   "id": "1a9bae8f-1cf1-4576-891a-28873d1d3d48",
   "metadata": {},
   "outputs": [
    {
     "data": {
      "text/plain": [
       "36.4    4\n",
       "35.4    1\n",
       "Name: abs_pm, dtype: int64"
      ]
     },
     "execution_count": 10,
     "metadata": {},
     "output_type": "execute_result"
    }
   ],
   "source": [
    "m1[m1._merge==\"left_only\"].abs_pm.value_counts()"
   ]
  },
  {
   "cell_type": "code",
   "execution_count": 11,
   "id": "9890d90c-127d-4e1c-9d15-fa3db5f2a831",
   "metadata": {},
   "outputs": [
    {
     "data": {
      "text/plain": [
       "36.4    1\n",
       "35.4    1\n",
       "Name: abs_pm, dtype: int64"
      ]
     },
     "execution_count": 11,
     "metadata": {},
     "output_type": "execute_result"
    }
   ],
   "source": [
    "station_find_me[\n",
    "    (station_find_me.freeway_id==91)\n",
    "].abs_pm.value_counts()"
   ]
  },
  {
   "cell_type": "code",
   "execution_count": 12,
   "id": "b3f46667-0ac5-4b46-aa5d-3e7f0e8eb06a",
   "metadata": {},
   "outputs": [
    {
     "data": {
      "text/html": [
       "<div>\n",
       "<style scoped>\n",
       "    .dataframe tbody tr th:only-of-type {\n",
       "        vertical-align: middle;\n",
       "    }\n",
       "\n",
       "    .dataframe tbody tr th {\n",
       "        vertical-align: top;\n",
       "    }\n",
       "\n",
       "    .dataframe thead th {\n",
       "        text-align: right;\n",
       "    }\n",
       "</style>\n",
       "<table border=\"1\" class=\"dataframe\">\n",
       "  <thead>\n",
       "    <tr style=\"text-align: right;\">\n",
       "      <th></th>\n",
       "      <th>freeway_id</th>\n",
       "      <th>freeway_direction</th>\n",
       "      <th>abs_pm</th>\n",
       "      <th>district_id</th>\n",
       "    </tr>\n",
       "  </thead>\n",
       "  <tbody>\n",
       "    <tr>\n",
       "      <th>3513</th>\n",
       "      <td>91</td>\n",
       "      <td>E</td>\n",
       "      <td>36.4</td>\n",
       "      <td>12.0</td>\n",
       "    </tr>\n",
       "    <tr>\n",
       "      <th>3535</th>\n",
       "      <td>91</td>\n",
       "      <td>E</td>\n",
       "      <td>35.4</td>\n",
       "      <td>12.0</td>\n",
       "    </tr>\n",
       "  </tbody>\n",
       "</table>\n",
       "</div>"
      ],
      "text/plain": [
       "      freeway_id freeway_direction  abs_pm  district_id\n",
       "3513          91                 E    36.4         12.0\n",
       "3535          91                 E    35.4         12.0"
      ]
     },
     "execution_count": 12,
     "metadata": {},
     "output_type": "execute_result"
    }
   ],
   "source": [
    "station_find_me[\n",
    "    (station_find_me.freeway_id==91)\n",
    "]"
   ]
  },
  {
   "cell_type": "code",
   "execution_count": 13,
   "id": "100ed3d1-4901-4ab2-9466-030abdbd5eeb",
   "metadata": {},
   "outputs": [
    {
     "data": {
      "text/plain": [
       "array([36.4, 35.4])"
      ]
     },
     "execution_count": 13,
     "metadata": {},
     "output_type": "execute_result"
    }
   ],
   "source": [
    "station_find_me[\n",
    "    (station_find_me.freeway_id==91)\n",
    "].abs_pm.unique()"
   ]
  },
  {
   "cell_type": "code",
   "execution_count": 14,
   "id": "6df24f87-e5c6-40a8-939b-d98f463f8708",
   "metadata": {},
   "outputs": [
    {
     "data": {
      "text/html": [
       "<div>\n",
       "<style scoped>\n",
       "    .dataframe tbody tr th:only-of-type {\n",
       "        vertical-align: middle;\n",
       "    }\n",
       "\n",
       "    .dataframe tbody tr th {\n",
       "        vertical-align: top;\n",
       "    }\n",
       "\n",
       "    .dataframe thead th {\n",
       "        text-align: right;\n",
       "    }\n",
       "</style>\n",
       "<table border=\"1\" class=\"dataframe\">\n",
       "  <thead>\n",
       "    <tr style=\"text-align: right;\">\n",
       "      <th></th>\n",
       "      <th>freeway_id</th>\n",
       "      <th>freeway_direction</th>\n",
       "      <th>abs_pm</th>\n",
       "    </tr>\n",
       "  </thead>\n",
       "  <tbody>\n",
       "    <tr>\n",
       "      <th>164463</th>\n",
       "      <td>91</td>\n",
       "      <td>W</td>\n",
       "      <td>35.4</td>\n",
       "    </tr>\n",
       "  </tbody>\n",
       "</table>\n",
       "</div>"
      ],
      "text/plain": [
       "        freeway_id freeway_direction  abs_pm\n",
       "164463          91                 W    35.4"
      ]
     },
     "execution_count": 14,
     "metadata": {},
     "output_type": "execute_result"
    }
   ],
   "source": [
    "postmiles_find_me[\n",
    "    (postmiles_find_me.freeway_id==91) & \n",
    "    (postmiles_find_me.abs_pm == 35.4)  \n",
    "]"
   ]
  },
  {
   "cell_type": "code",
   "execution_count": 15,
   "id": "47114dc9-38e3-409d-902c-e4f877d35125",
   "metadata": {},
   "outputs": [
    {
     "data": {
      "text/plain": [
       "[35.2, 35.3, 35.5, 35.6, 35.7, 35.8, 36.0, 36.2, 36.3, 36.7, 36.9, 37.0]"
      ]
     },
     "execution_count": 15,
     "metadata": {},
     "output_type": "execute_result"
    }
   ],
   "source": [
    "# use the closest one, just 0.1 mile before the detector\n",
    "# make sure we pick from the same direction (eastbound)\n",
    "postmile_list = postmiles_find_me[\n",
    "    (postmiles_find_me.freeway_id==91) & \n",
    "    (postmiles_find_me.freeway_direction==\"E\") & \n",
    "    (postmiles_find_me.abs_pm >= 35) & \n",
    "    (postmiles_find_me.abs_pm <= 37)\n",
    "].abs_pm.unique()\n",
    "\n",
    "sorted(postmile_list)"
   ]
  },
  {
   "cell_type": "markdown",
   "id": "a4369434-f0c4-4f08-ad46-84a478b9a99b",
   "metadata": {},
   "source": [
    "## Functions for script"
   ]
  },
  {
   "cell_type": "code",
   "execution_count": 16,
   "id": "34a188f7-f761-4fac-b6d2-869ff059380e",
   "metadata": {},
   "outputs": [],
   "source": [
    "def merge_stations_to_shn_postmiles(\n",
    "    station_crosswalk: pd.DataFrame,\n",
    "    postmiles: pd.DataFrame\n",
    ") -> pd.DataFrame:\n",
    "    merge_cols = [\"freeway_id\", \"freeway_direction\", \"abs_pm\"]\n",
    "\n",
    "    station2 = clean_station_freeway_info(station_crosswalk)\n",
    "    postmiles2 = clean_postmiles(postmiles)\n",
    "    \n",
    "    m1 = pd.merge(\n",
    "        station2,\n",
    "        postmiles2,\n",
    "        on = merge_cols,\n",
    "        how = \"left\",\n",
    "        indicator = True\n",
    "    )\n",
    "    \n",
    "    station_cols = station2.columns.tolist()\n",
    "    print(station_cols)\n",
    "    ok_df = m1[m1._merge==\"both\"].drop(columns = \"_merge\")\n",
    "    fix_df = m1[m1._merge==\"left_only\"][station_cols]\n",
    "\n",
    "    station_fix_me = {\n",
    "        35.4: 35.3,\n",
    "        36.4: 36.3\n",
    "    }\n",
    "    \n",
    "    fix_df = fix_df.assign(\n",
    "        abs_pm = fix_df.abs_pm.map(station_fix_me)\n",
    "    )\n",
    "    \n",
    "    m2 = pd.merge(\n",
    "        fix_df,\n",
    "        postmiles2,\n",
    "        on = merge_cols,\n",
    "        how = \"inner\",\n",
    "    )\n",
    "    \n",
    "    df = pd.concat([m1, m2], axis=0, ignore_index=True)\n",
    "    \n",
    "    return df"
   ]
  },
  {
   "cell_type": "code",
   "execution_count": 17,
   "id": "61b7ee0f-9a28-446b-a58c-7fc885b1e66e",
   "metadata": {},
   "outputs": [
    {
     "name": "stdout",
     "output_type": "stream",
     "text": [
      "['station_id', 'freeway_id', 'freeway_direction', 'city_id', 'county_id', 'district_id', 'station_type', 'param_set', 'length', 'abs_postmile', 'physical_lanes', 'station_uuid', 'abs_pm']\n"
     ]
    }
   ],
   "source": [
    "final = merge_stations_to_shn_postmiles(station_crosswalk, postmiles)"
   ]
  },
  {
   "cell_type": "code",
   "execution_count": 18,
   "id": "bb0fdc31-d831-46e2-a78b-9dfed40b1aa4",
   "metadata": {},
   "outputs": [
    {
     "data": {
      "text/plain": [
       "4242"
      ]
     },
     "execution_count": 18,
     "metadata": {},
     "output_type": "execute_result"
    }
   ],
   "source": [
    "station_crosswalk.station_uuid.nunique()"
   ]
  },
  {
   "cell_type": "code",
   "execution_count": 19,
   "id": "f9463f8c-3b35-4409-939c-bbce7a2c6144",
   "metadata": {},
   "outputs": [
    {
     "data": {
      "text/plain": [
       "4242"
      ]
     },
     "execution_count": 19,
     "metadata": {},
     "output_type": "execute_result"
    }
   ],
   "source": [
    "final.station_uuid.nunique()"
   ]
  },
  {
   "cell_type": "code",
   "execution_count": 20,
   "id": "f7038d47-4627-4e1f-85ad-e49fd4ad5808",
   "metadata": {},
   "outputs": [
    {
     "data": {
      "text/plain": [
       "pandas.core.frame.DataFrame"
      ]
     },
     "execution_count": 20,
     "metadata": {},
     "output_type": "execute_result"
    }
   ],
   "source": [
    "type(final)"
   ]
  },
  {
   "cell_type": "code",
   "execution_count": 21,
   "id": "999333d1-e5ca-46fe-8b3e-6906fc4c907f",
   "metadata": {},
   "outputs": [
    {
     "data": {
      "text/plain": [
       "Index(['station_id', 'freeway_id', 'freeway_direction', 'city_id', 'county_id',\n",
       "       'district_id', 'station_type', 'param_set', 'length', 'abs_postmile',\n",
       "       'physical_lanes', 'station_uuid', 'abs_pm', 'odometer', 'hwysegment',\n",
       "       'routetype', 'geometry', '_merge'],\n",
       "      dtype='object')"
      ]
     },
     "execution_count": 21,
     "metadata": {},
     "output_type": "execute_result"
    }
   ],
   "source": [
    "final.columns"
   ]
  },
  {
   "cell_type": "code",
   "execution_count": null,
   "id": "0eff8bd2-8e68-424c-8c37-8f6a2bc0d139",
   "metadata": {},
   "outputs": [],
   "source": []
  }
 ],
 "metadata": {
  "kernelspec": {
   "display_name": "Python 3 (ipykernel)",
   "language": "python",
   "name": "python3"
  },
  "language_info": {
   "codemirror_mode": {
    "name": "ipython",
    "version": 3
   },
   "file_extension": ".py",
   "mimetype": "text/x-python",
   "name": "python",
   "nbconvert_exporter": "python",
   "pygments_lexer": "ipython3",
   "version": "3.9.13"
  }
 },
 "nbformat": 4,
 "nbformat_minor": 5
}
