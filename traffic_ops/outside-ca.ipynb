{
 "cells": [
  {
   "cell_type": "markdown",
   "id": "db2d5cf0-e639-42ed-9954-c0be0fa361d9",
   "metadata": {},
   "source": [
    "# Outside of CA stops and routes"
   ]
  },
  {
   "cell_type": "code",
   "execution_count": 4,
   "id": "7957bf3b-3e28-4f1b-b20c-09f3aa33cb49",
   "metadata": {},
   "outputs": [],
   "source": [
    "import geopandas as gpd\n",
    "import pandas as pd\n",
    "\n",
    "stops = gpd.read_parquet(\"./stops_assembled.parquet\")\n",
    "routes = gpd.read_parquet(\"./routes_assembled.parquet\")"
   ]
  },
  {
   "cell_type": "code",
   "execution_count": 13,
   "id": "49bc481f-eb1b-4937-b67d-1af4f699b7bd",
   "metadata": {},
   "outputs": [
    {
     "data": {
      "text/plain": [
       "<AxesSubplot:>"
      ]
     },
     "execution_count": 13,
     "metadata": {},
     "output_type": "execute_result"
    },
    {
     "data": {
      "image/png": "[encoded data removed]",
      "text/plain": [
       "<Figure size 432x288 with 1 Axes>"
      ]
     },
     "metadata": {
      "needs_background": "light"
     },
     "output_type": "display_data"
    }
   ],
   "source": [
    "stops.plot()"
   ]
  },
  {
   "cell_type": "code",
   "execution_count": 14,
   "id": "126c66f7-7349-448f-b97d-1f824b9ab69a",
   "metadata": {},
   "outputs": [],
   "source": [
    "URL = \"https://opendata.arcgis.com/datasets/1b02c87f62d24508970dc1a6df80c98e_0.geojson\"\n",
    "us_states = gpd.read_file(URL)\n",
    "\n",
    "us_states = us_states[[\"State_Code\", \"State_Name\", \"geometry\"]]"
   ]
  },
  {
   "cell_type": "code",
   "execution_count": 17,
   "id": "c4ea0c7d-6ea1-4c53-a52f-ad5723e02aa5",
   "metadata": {},
   "outputs": [],
   "source": [
    "stops1 = gpd.sjoin(stops, us_states)"
   ]
  },
  {
   "cell_type": "code",
   "execution_count": 18,
   "id": "384986e7-f5ce-4054-b291-3ea4b057eff7",
   "metadata": {},
   "outputs": [],
   "source": [
    "routes1 = gpd.sjoin(routes, us_states)"
   ]
  },
  {
   "cell_type": "code",
   "execution_count": 24,
   "id": "b8248a2e-4052-4ae1-8a35-4813ad0438cb",
   "metadata": {},
   "outputs": [
    {
     "data": {
      "text/plain": [
       "None, None, None, Altamont Corridor Express, Amtrak, None, None, Amtrak, Smart Way Connector, Van Galder Coach USA, RoadRunneR Shuttle, Indian Trails, Martz Trailways, BC Ferries Connector, Express Arrow, Cantrail, Peoria Charter, Badger Bus, Executive Transportation    894\n",
       "Yuma County Intergovernmental Public Transportation Authority                                                                                                                                                                                                                  527\n",
       "Norwalk Transit District                                                                                                                                                                                                                                                       418\n",
       "North Lake Tahoe Express - 24 hour advance reservations required, Tahoe Truckee Area Regional Transit                                                                                                                                                                           64\n",
       "Eastern Sierra Transit Authority                                                                                                                                                                                                                                                14\n",
       "Sage Stage                                                                                                                                                                                                                                                                       6\n",
       "Name: agency, dtype: int64"
      ]
     },
     "execution_count": 24,
     "metadata": {},
     "output_type": "execute_result"
    }
   ],
   "source": [
    "stops1[stops1.State_Code!=\"CA\"].agency.value_counts()"
   ]
  },
  {
   "cell_type": "code",
   "execution_count": 20,
   "id": "6f8df9fc-342e-4b65-925c-9b86d51d71d9",
   "metadata": {},
   "outputs": [
    {
     "data": {
      "text/plain": [
       "CA    190850\n",
       "AZ       537\n",
       "CT       455\n",
       "IL        97\n",
       "NV        89\n",
       "NY        81\n",
       "FL        55\n",
       "VA        51\n",
       "NC        47\n",
       "PA        47\n",
       "WA        38\n",
       "NJ        35\n",
       "MI        35\n",
       "TX        29\n",
       "WI        27\n",
       "MA        25\n",
       "MD        20\n",
       "MO        17\n",
       "SC        15\n",
       "OR        15\n",
       "IN        14\n",
       "NM        14\n",
       "MT        12\n",
       "OH        12\n",
       "DE        11\n",
       "CO        11\n",
       "MS        11\n",
       "LA        10\n",
       "DC        10\n",
       "VT         9\n",
       "WV         9\n",
       "KS         8\n",
       "ND         7\n",
       "GA         7\n",
       "ME         6\n",
       "MN         6\n",
       "NH         6\n",
       "IA         6\n",
       "OK         6\n",
       "WY         5\n",
       "AR         5\n",
       "NE         5\n",
       "KY         4\n",
       "RI         4\n",
       "UT         4\n",
       "AL         3\n",
       "TN         2\n",
       "ID         1\n",
       "Name: State_Code, dtype: int64"
      ]
     },
     "execution_count": 20,
     "metadata": {},
     "output_type": "execute_result"
    }
   ],
   "source": [
    "stops1.State_Code.value_counts()"
   ]
  },
  {
   "cell_type": "code",
   "execution_count": null,
   "id": "80de0e8f-de7c-4c57-8d1b-a6c27c8b7745",
   "metadata": {},
   "outputs": [],
   "source": []
  }
 ],
 "metadata": {
  "kernelspec": {
   "display_name": "Python 3 (ipykernel)",
   "language": "python",
   "name": "python3"
  },
  "language_info": {
   "codemirror_mode": {
    "name": "ipython",
    "version": 3
   },
   "file_extension": ".py",
   "mimetype": "text/x-python",
   "name": "python",
   "nbconvert_exporter": "python",
   "pygments_lexer": "ipython3",
   "version": "3.9.7"
  }
 },
 "nbformat": 4,
 "nbformat_minor": 5
}
