{
 "cells": [
  {
   "cell_type": "markdown",
   "id": "bd9c06ec-8a35-4212-8094-ec56bda4b5ca",
   "metadata": {},
   "source": [
    "# Parse the XML file for HQTA files\n",
    "\n",
    "* [Edit metadata for many ArcGIS items](https://desktop.arcgis.com/en/arcmap/latest/manage-data/metadata/editing-metadata-for-many-arcgis-items.htm)\n",
    "* [Change to JSON](https://stackoverflow.com/questions/48821725/xml-parsers-expat-expaterror-not-well-formed-invalid-token)"
   ]
  },
  {
   "cell_type": "code",
   "execution_count": 1,
   "id": "0c6ed1e1-6207-4979-991e-964ec8bbf463",
   "metadata": {},
   "outputs": [],
   "source": [
    "#!pip install xmltodict"
   ]
  },
  {
   "cell_type": "code",
   "execution_count": 2,
   "id": "3eaca36d-361f-47c5-9286-24696b0ac025",
   "metadata": {},
   "outputs": [],
   "source": [
    "import xml.etree.ElementTree as ET\n",
    "import json\n",
    "import xmltodict"
   ]
  },
  {
   "cell_type": "code",
   "execution_count": 3,
   "id": "0c548efc-10ac-479a-b143-f66e6b5c7d84",
   "metadata": {},
   "outputs": [],
   "source": [
    "XML_FILE = \"./data/ca_hq_transit_areas.xml\"\n",
    "\n",
    "# read in XML\n",
    "tree = ET.parse(XML_FILE)\n",
    "root = tree.getroot()\n",
    "\n",
    "# Not well-formed XML?\n",
    "# Figure out another way to read in as a dict\n",
    "#for elem in tree.iter():\n",
    "#    print(elem.tag, elem.attrib)"
   ]
  },
  {
   "cell_type": "code",
   "execution_count": 4,
   "id": "4ce01d7f-0964-4a54-9ab2-f9a522942ec2",
   "metadata": {},
   "outputs": [
    {
     "name": "stdout",
     "output_type": "stream",
     "text": [
      "Loading XML as JSON from ./data/ca_hq_transit_areas.xml\n"
     ]
    }
   ],
   "source": [
    "def xml_to_json(path: str) -> dict:  \n",
    "    try:\n",
    "        print(f\"Loading XML as JSON from {path}\")\n",
    "        xml = ET.tostring(ET.parse(path).getroot())\n",
    "        return xmltodict.parse(xml, \n",
    "                               #attr_prefix=\"@\", cdata_key=\"#text\", \n",
    "                               dict_constructor=dict)\n",
    "    except:\n",
    "        print(f\"Loading failed for {path}\")\n",
    "    return {}\n",
    "\n",
    "esri_metadata = xml_to_json(XML_FILE)"
   ]
  },
  {
   "cell_type": "markdown",
   "id": "09108d23-bb8a-4364-9c9d-16d402568b32",
   "metadata": {},
   "source": [
    "## Supply a dictionary to input the values we want to change\n",
    "\n",
    "Analyst overwrites values in the dictionary.\n",
    "\n",
    "Other steps to read in XML, convert to JSON, overwrite values, go back to XML...those can be automated."
   ]
  },
  {
   "cell_type": "code",
   "execution_count": 5,
   "id": "c598af5d-5c79-4544-bdb6-fd276e0aa541",
   "metadata": {},
   "outputs": [],
   "source": [
    "def fill_in_keyword_list(topic='transportation', keyword_list = []):\n",
    "    filled_out_list = [\n",
    "        {'themekt': 'ISO 19115 Topic Categories',\n",
    "         'themekey': topic},\n",
    "         {'themekt': 'None',\n",
    "          'themekey': keyword_list\n",
    "         }\n",
    "    ]\n",
    "    \n",
    "    return filled_out_list"
   ]
  },
  {
   "cell_type": "code",
   "execution_count": 6,
   "id": "abaeb355-4369-4953-938f-f0d4fa91a6dd",
   "metadata": {},
   "outputs": [
    {
     "data": {
      "text/plain": [
       "[{'themekt': 'ISO 19115 Topic Categories', 'themekey': 'transportation'},\n",
       " {'themekt': 'None',\n",
       "  'themekey': ['Transit',\n",
       "   'Land Use',\n",
       "   'GTFS',\n",
       "   'Transit-Oriented Development',\n",
       "   'TOD']}]"
      ]
     },
     "execution_count": 6,
     "metadata": {},
     "output_type": "execute_result"
    }
   ],
   "source": [
    "theme_keywords = [\"Transit\", \"Land Use\", \"GTFS\", \n",
    "                  \"Transit-Oriented Development\", \"TOD\"]\n",
    "\n",
    "topics_list = fill_in_keyword_list(\"transportation\", theme_keywords)\n",
    "topics_list"
   ]
  },
  {
   "cell_type": "code",
   "execution_count": 7,
   "id": "b88fcdcf-38c1-464a-8392-8b31c9f2e3e1",
   "metadata": {},
   "outputs": [],
   "source": [
    "#esri_metadata[\"metadata\"][\"idinfo\"][\"keywords\"][\"theme\"]"
   ]
  },
  {
   "cell_type": "code",
   "execution_count": 8,
   "id": "1da496a3-c1f2-44a0-bdf8-a6b746a5843b",
   "metadata": {},
   "outputs": [],
   "source": [
    "DATASET_INFO = {\n",
    "    ## my_json[\"metadata\"][\"idinfo\"]\n",
    "    # [\"citation\"]\n",
    "    \"dataset_name\": \"ca_hq_transit_areas\", #[\"citeinfo\"][\"title\"]\n",
    "    \"publish_entity\": \"California Integrated Travel Project\", #[\"pubinfo\"][\"publish\"]\n",
    "    # [\"descript\"]\n",
    "    \"abstract\": \"Public. EPSG: 3310\", #[\"abstract\"]\n",
    "    \"purpose\": \"Summary sentence about dataset.\", #[\"purpose\"]\n",
    "    # [\"timeperd\"]\n",
    "    \"beginning_date\": \"YYYYMMDD\", #[\"timeinfo\"][\"rngdates\"][\"begdate\"]\n",
    "    \"end_date\": \"YYYYMMDD\", #[\"timeinfo\"][\"rngdates\"][\"enddate\"]\n",
    "    \"place\": \"California\", #[\"current\"]\n",
    "    # [\"status\"]\n",
    "    \"status\": \"Complete\", #[\"progress\"]\n",
    "    \"frequency\": \"Monthly\", #[\"update\"]\n",
    "    # [\"keywords\"]\n",
    "    # transportation is probably what we always want to check off\n",
    "    #fill_in_keyword_list(topic = \"transportation\", theme_keywords = []),\n",
    "    \"theme_topics\": topics_list, \n",
    "    ## my_json[\"metadata\"][\"dataqual\"]\n",
    "    \"methodology\": \"Detailed methodology description\", #[\"lineage\"][\"procstep\"][\"procdesc\"]\n",
    "    ## my_json[\"metadata\"][\"eainfo\"]\n",
    "    # [\"detailed\"] (this outputs a list)\n",
    "    ## set this equal to dataset_name above [\"detailed\"][0][\"enttyp\"][\"enttypl\"] \n",
    "    \"data_dict_type\": \"CSV\", # [\"detailed\"][1][\"enttyp\"][\"enttypd\"],\n",
    "    \"data_dict_url\": \"some_url\", # [\"detailed\"][1][\"enttyp\"][\"enttypds\"],\n",
    "    ## my_json[\"metadata\"][\"metainfo\"]\n",
    "    #[\"metc\"]\n",
    "    \"contact_organization\": \"Caltrans\", #[\"metc\"][\"cntinfo\"][\"cntorgp\"][\"cntorg\"]\n",
    "    \"contact_person\": \"Analyst Name\", #[\"metc\"][\"cntinfo\"][\"cntorgp\"][\"cntper\"]\n",
    "    #\"contact_position\": \"California Integrated Travel Project\", #[\"metc\"][\"cntinfo\"][\"cntpos\"]\n",
    "    \"contact_email\": \"hello@calitp.org\" #[\"metc\"][\"cntinfo\"][\"cntemail\"],\n",
    "}"
   ]
  },
  {
   "cell_type": "code",
   "execution_count": 9,
   "id": "82f84f5b-4399-4f7d-970f-95f42b80b1a8",
   "metadata": {},
   "outputs": [
    {
     "data": {
      "text/plain": [
       "{'metadata': {'idinfo': {'citation': {'citeinfo': {'title': 'ca_hq_transit_areas',\n",
       "     'geoform': 'vector digital data',\n",
       "     'pubinfo': {'publish': 'California Integrated Travel Project'}}},\n",
       "   'descript': {'abstract': 'Public. EPSG: 3310',\n",
       "    'purpose': 'Estimated High Quality Transit Areas as described in Public Resources Code 21155, 21064.3, 21060.2'},\n",
       "   'timeperd': {'timeinfo': {'rngdates': {'begdate': '20220517',\n",
       "      'enddate': '20220617'}},\n",
       "    'current': 'California'},\n",
       "   'status': {'progress': 'Complete', 'update': 'Monthly'},\n",
       "   'spdom': {'bounding': {'westbc': '-124.423914',\n",
       "     'eastbc': '-113.465232',\n",
       "     'northbc': '45.362934',\n",
       "     'southbc': '32.441061'}},\n",
       "   'keywords': {'theme': [{'themekt': 'ISO 19115 Topic Categories',\n",
       "      'themekey': 'transportation'},\n",
       "     {'themekt': 'None',\n",
       "      'themekey': ['Transportation',\n",
       "       'Land Use',\n",
       "       'Transit-Oriented Development',\n",
       "       'TOD',\n",
       "       'High Quality Transit']}]},\n",
       "   'accconst': 'None',\n",
       "   'useconst': 'None',\n",
       "   'native': 'Version 6.2 (Build 9200) ; Esri ArcGIS 10.8.1.14362'},\n",
       "  'dataqual': {'lineage': {'procstep': {'procdesc': 'This data was estimated using a spatial process derived from General Transit Feed Specification (GTFS) schedule data. To find high-quality bus corridors, we split each corridor into 1500 meter segments and counted frequencies at the stop within that segment with the highest number of transit trips. If that stop saw at least 4 trips per hour for at least one hour in the morning, and again for at least one hour in the afternoon, we consider that segment a high-quality bus corridor. Segments without a stop are not considered high-quality corridors. Major transit stops were identified as either the intersection of two high-quality corridors from the previous step, a rail or bus rapid transit station, or a ferry terminal with bus service. Note that the definition of “bus rapid transit” in Public Resources Code 21060.2 includes features not captured by available data sources, these features were captured manually using information from transit agency sources and imagery. We believe this data to be broadly accurate, and fit for purposes including overall dashboards, locating facilities in relation to high quality transit areas, and assessing community transit coverage. However, the spatial determination of high-quality transit areas from GTFS data necessarily involves some assumptions as described above. Any critical determinations of whether a specific parcel is located within a high-quality transit area should be made in conjunction with local sources, such as transit agency timetables.'}}},\n",
       "  'spdoinfo': {'direct': 'Vector',\n",
       "   'ptvctinf': {'sdtsterm': {'sdtstype': 'GT-polygon composed of chains',\n",
       "     'ptvctcnt': '7960'}}},\n",
       "  'eainfo': {'detailed': [{'enttyp': {'enttypl': 'ca_hq_transit_areas'},\n",
       "     'attr': [{'attrlabl': 'OBJECTID',\n",
       "       'attrdef': 'Internal feature number.',\n",
       "       'attrdefs': 'Esri',\n",
       "       'attrdomv': {'udom': 'Sequential unique whole numbers that are automatically generated.'}},\n",
       "      {'attrlabl': 'Shape',\n",
       "       'attrdef': 'Feature geometry.',\n",
       "       'attrdefs': 'Esri',\n",
       "       'attrdomv': {'udom': 'Coordinates defining the features.'}},\n",
       "      {'attrlabl': 'calitp_itp'},\n",
       "      {'attrlabl': 'agency_nam'},\n",
       "      {'attrlabl': 'hqta_type'},\n",
       "      {'attrlabl': 'calitp_i_1'},\n",
       "      {'attrlabl': 'agency_n_1'},\n",
       "      {'attrlabl': 'Shape_Length',\n",
       "       'attrdef': 'Length of feature in internal units.',\n",
       "       'attrdefs': 'Esri',\n",
       "       'attrdomv': {'udom': 'Positive real numbers that are automatically generated.'}},\n",
       "      {'attrlabl': 'Shape_Area',\n",
       "       'attrdef': 'Area of feature in internal units squared.',\n",
       "       'attrdefs': 'Esri',\n",
       "       'attrdomv': {'udom': 'Positive real numbers that are automatically generated.'}}]},\n",
       "    {'enttyp': {'enttypd': 'CSV', 'enttypds': 'Data dictionary URL'}}]},\n",
       "  'metainfo': {'metd': '20220602',\n",
       "   'metc': {'cntinfo': {'cntorgp': {'cntorg': 'Caltrans',\n",
       "      'cntper': 'Eric Dasmalchi'},\n",
       "     'cntpos': 'California Integrated Travel Project',\n",
       "     'cntemail': 'eric.dasmalchi@dot.ca.gov'}},\n",
       "   'metstdn': 'FGDC Content Standard for Digital Geospatial Metadata',\n",
       "   'metstdv': 'FGDC-STD-001-1998',\n",
       "   'mettc': 'local time'}}}"
      ]
     },
     "execution_count": 9,
     "metadata": {},
     "output_type": "execute_result"
    }
   ],
   "source": [
    "esri_metadata"
   ]
  },
  {
   "cell_type": "markdown",
   "id": "76fd1f58-5606-44a1-a62c-8c1ee733b5cc",
   "metadata": {},
   "source": [
    "## Overwrite the JSON with new values\n",
    "\n",
    "Create a new dictionary and see"
   ]
  },
  {
   "cell_type": "code",
   "execution_count": 10,
   "id": "31c10096-4363-4486-bf42-0d9c32301fa9",
   "metadata": {},
   "outputs": [],
   "source": [
    "def overwrite_metadata_json(metadata_json, DATASET_INFO):\n",
    "    d = DATASET_INFO\n",
    "    new_metadata = metadata_json.copy()\n",
    "    m = new_metadata[\"metadata\"]\n",
    "    \n",
    "    m[\"idinfo\"][\"citation\"][\"citeinfo\"][\"title\"] = d[\"dataset_name\"]\n",
    "    m[\"idinfo\"][\"citation\"][\"citeinfo\"][\"pubinfo\"][\"publish\"] = d[\"publish_entity\"]\n",
    "    \n",
    "    m[\"idinfo\"][\"descript\"][\"abstract\"] = d[\"abstract\"]\n",
    "    m[\"idinfo\"][\"descript\"][\"purpose\"] = d[\"purpose\"]\n",
    "    \n",
    "    m[\"idinfo\"][\"timeperd\"][\"timeinfo\"][\"rngdates\"][\"begdate\"] = d[\"beginning_date\"]\n",
    "    m[\"idinfo\"][\"timeperd\"][\"timeinfo\"][\"rngdates\"][\"enddate\"] = d[\"end_date\"]\n",
    "    m[\"idinfo\"][\"timeperd\"][\"current\"] = d[\"place\"]\n",
    "    \n",
    "    m[\"idinfo\"][\"status\"][\"progress\"] = d[\"status\"]\n",
    "    m[\"idinfo\"][\"status\"][\"update\"] = d[\"frequency\"]\n",
    "\n",
    "    m[\"idinfo\"][\"keywords\"] = d[\"theme_topics\"]    \n",
    "\n",
    "    m[\"dataqual\"][\"lineage\"][\"procstep\"][\"procdesc\"] = d[\"methodology\"]    \n",
    "    \n",
    "    m[\"eainfo\"][\"detailed\"][0][\"enttyp\"][\"enttypl\"] = d[\"dataset_name\"]    \n",
    "    m[\"eainfo\"][\"detailed\"][1][\"enttyp\"][\"enttypd\"] = d[\"data_dict_type\"]    \n",
    "    m[\"eainfo\"][\"detailed\"][1][\"enttyp\"][\"enttypds\"] = d[\"data_dict_url\"]    \n",
    "  \n",
    "    m[\"metainfo\"][\"metc\"][\"cntinfo\"][\"cntorgp\"][\"cntorg\"] = d[\"contact_organization\"]    \n",
    "    m[\"metainfo\"][\"metc\"][\"cntinfo\"][\"cntorgp\"][\"cntper\"] = d[\"contact_person\"]    \n",
    "    m[\"metainfo\"][\"metc\"][\"cntinfo\"][\"cntpos\"] = d[\"publish_entity\"]    \n",
    "    m[\"metainfo\"][\"metc\"][\"cntinfo\"][\"cntemail\"] = d[\"contact_email\"]    \n",
    "\n",
    "    return new_metadata "
   ]
  },
  {
   "cell_type": "code",
   "execution_count": 11,
   "id": "c7f426ab-f1d3-486b-bfac-5200e7b8837b",
   "metadata": {},
   "outputs": [
    {
     "data": {
      "text/plain": [
       "{'metadata': {'idinfo': {'citation': {'citeinfo': {'title': 'ca_hq_transit_areas',\n",
       "     'geoform': 'vector digital data',\n",
       "     'pubinfo': {'publish': 'California Integrated Travel Project'}}},\n",
       "   'descript': {'abstract': 'Public. EPSG: 3310',\n",
       "    'purpose': 'Summary sentence about dataset.'},\n",
       "   'timeperd': {'timeinfo': {'rngdates': {'begdate': 'YYYYMMDD',\n",
       "      'enddate': 'YYYYMMDD'}},\n",
       "    'current': 'California'},\n",
       "   'status': {'progress': 'Complete', 'update': 'Monthly'},\n",
       "   'spdom': {'bounding': {'westbc': '-124.423914',\n",
       "     'eastbc': '-113.465232',\n",
       "     'northbc': '45.362934',\n",
       "     'southbc': '32.441061'}},\n",
       "   'keywords': [{'themekt': 'ISO 19115 Topic Categories',\n",
       "     'themekey': 'transportation'},\n",
       "    {'themekt': 'None',\n",
       "     'themekey': ['Transit',\n",
       "      'Land Use',\n",
       "      'GTFS',\n",
       "      'Transit-Oriented Development',\n",
       "      'TOD']}],\n",
       "   'accconst': 'None',\n",
       "   'useconst': 'None',\n",
       "   'native': 'Version 6.2 (Build 9200) ; Esri ArcGIS 10.8.1.14362'},\n",
       "  'dataqual': {'lineage': {'procstep': {'procdesc': 'Detailed methodology description'}}},\n",
       "  'spdoinfo': {'direct': 'Vector',\n",
       "   'ptvctinf': {'sdtsterm': {'sdtstype': 'GT-polygon composed of chains',\n",
       "     'ptvctcnt': '7960'}}},\n",
       "  'eainfo': {'detailed': [{'enttyp': {'enttypl': 'ca_hq_transit_areas'},\n",
       "     'attr': [{'attrlabl': 'OBJECTID',\n",
       "       'attrdef': 'Internal feature number.',\n",
       "       'attrdefs': 'Esri',\n",
       "       'attrdomv': {'udom': 'Sequential unique whole numbers that are automatically generated.'}},\n",
       "      {'attrlabl': 'Shape',\n",
       "       'attrdef': 'Feature geometry.',\n",
       "       'attrdefs': 'Esri',\n",
       "       'attrdomv': {'udom': 'Coordinates defining the features.'}},\n",
       "      {'attrlabl': 'calitp_itp'},\n",
       "      {'attrlabl': 'agency_nam'},\n",
       "      {'attrlabl': 'hqta_type'},\n",
       "      {'attrlabl': 'calitp_i_1'},\n",
       "      {'attrlabl': 'agency_n_1'},\n",
       "      {'attrlabl': 'Shape_Length',\n",
       "       'attrdef': 'Length of feature in internal units.',\n",
       "       'attrdefs': 'Esri',\n",
       "       'attrdomv': {'udom': 'Positive real numbers that are automatically generated.'}},\n",
       "      {'attrlabl': 'Shape_Area',\n",
       "       'attrdef': 'Area of feature in internal units squared.',\n",
       "       'attrdefs': 'Esri',\n",
       "       'attrdomv': {'udom': 'Positive real numbers that are automatically generated.'}}]},\n",
       "    {'enttyp': {'enttypd': 'CSV', 'enttypds': 'some_url'}}]},\n",
       "  'metainfo': {'metd': '20220602',\n",
       "   'metc': {'cntinfo': {'cntorgp': {'cntorg': 'Caltrans',\n",
       "      'cntper': 'Analyst Name'},\n",
       "     'cntpos': 'California Integrated Travel Project',\n",
       "     'cntemail': 'hello@calitp.org'}},\n",
       "   'metstdn': 'FGDC Content Standard for Digital Geospatial Metadata',\n",
       "   'metstdv': 'FGDC-STD-001-1998',\n",
       "   'mettc': 'local time'}}}"
      ]
     },
     "execution_count": 11,
     "metadata": {},
     "output_type": "execute_result"
    }
   ],
   "source": [
    "new_meta = overwrite_metadata_json(esri_metadata, DATASET_INFO)\n",
    "new_meta"
   ]
  },
  {
   "cell_type": "markdown",
   "id": "2165eaeb-14b7-4c02-a5a6-f1d73c3016ab",
   "metadata": {},
   "source": [
    "## Convert JSON back to XML\n",
    "\n",
    "Take existing values if it's not being replaced"
   ]
  },
  {
   "cell_type": "code",
   "execution_count": 12,
   "id": "e8921a15-a8d9-4579-b9e3-de3c63cf7792",
   "metadata": {},
   "outputs": [],
   "source": [
    "#esri_metadata[\"metadata\"][\"eainfo\"][\"detailed\"][1]"
   ]
  },
  {
   "cell_type": "code",
   "execution_count": 13,
   "id": "3918619f-229c-41b5-95b8-3817337b9990",
   "metadata": {},
   "outputs": [],
   "source": [
    "#for k, v in esri_metadata[\"metadata\"][\"metainfo\"].items():\n",
    "#    print(f\"Key: {k}\")\n",
    "#    print(v)        "
   ]
  },
  {
   "cell_type": "code",
   "execution_count": null,
   "id": "2274f852-8d49-4d2d-a045-5e956efa0de3",
   "metadata": {},
   "outputs": [],
   "source": []
  }
 ],
 "metadata": {
  "kernelspec": {
   "display_name": "Python 3 (ipykernel)",
   "language": "python",
   "name": "python3"
  },
  "language_info": {
   "codemirror_mode": {
    "name": "ipython",
    "version": 3
   },
   "file_extension": ".py",
   "mimetype": "text/x-python",
   "name": "python",
   "nbconvert_exporter": "python",
   "pygments_lexer": "ipython3",
   "version": "3.10.4"
  }
 },
 "nbformat": 4,
 "nbformat_minor": 5
}
