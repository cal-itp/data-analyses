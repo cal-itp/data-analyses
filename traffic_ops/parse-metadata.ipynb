{
 "cells": [
  {
   "cell_type": "markdown",
   "id": "bd9c06ec-8a35-4212-8094-ec56bda4b5ca",
   "metadata": {},
   "source": [
    "# Parse metadata created from ESRI gdb"
   ]
  },
  {
   "cell_type": "code",
   "execution_count": 1,
   "id": "152a406b-ff73-4632-90d1-0f5c395debc2",
   "metadata": {},
   "outputs": [
    {
     "name": "stdout",
     "output_type": "stream",
     "text": [
      "Collecting pyshp==1.2.12\n",
      "  Using cached pyshp-1.2.12-py3-none-any.whl\n",
      "Installing collected packages: pyshp\n",
      "Successfully installed pyshp-1.2.12\n"
     ]
    }
   ],
   "source": [
    "!pip install pyshp==1.2.12"
   ]
  },
  {
   "cell_type": "code",
   "execution_count": 2,
   "id": "3eaca36d-361f-47c5-9286-24696b0ac025",
   "metadata": {},
   "outputs": [],
   "source": [
    "import shapefile\n",
    "import xml.etree.cElementTree as ET"
   ]
  },
  {
   "cell_type": "code",
   "execution_count": 3,
   "id": "f213841e-b822-44c8-8937-0a82ab728ceb",
   "metadata": {},
   "outputs": [],
   "source": [
    "SHP_PATH = \"./data/\"\n",
    "tree = ET.parse(f\"{SHP_PATH}routes_assembled.xml\")"
   ]
  },
  {
   "cell_type": "code",
   "execution_count": 4,
   "id": "dd0dcf96-2c33-470c-9b38-6dc37398ad66",
   "metadata": {},
   "outputs": [],
   "source": [
    "root = tree.getroot()"
   ]
  },
  {
   "cell_type": "code",
   "execution_count": 6,
   "id": "7ff848db-6653-43af-8cf6-8d11258f5e06",
   "metadata": {},
   "outputs": [
    {
     "data": {
      "text/plain": [
       "'metadata'"
      ]
     },
     "execution_count": 6,
     "metadata": {},
     "output_type": "execute_result"
    }
   ],
   "source": [
    "root.tag"
   ]
  },
  {
   "cell_type": "code",
   "execution_count": 9,
   "id": "981c8a67-470f-42b9-b3f1-aacce0d96551",
   "metadata": {},
   "outputs": [
    {
     "name": "stdout",
     "output_type": "stream",
     "text": [
      "idinfo {}\n",
      "spdoinfo {}\n",
      "spref {}\n",
      "eainfo {}\n",
      "metainfo {}\n",
      "dataIdInfo {}\n",
      "Esri {}\n",
      "mdHrLv {}\n",
      "mdChar {}\n",
      "mdMaint {}\n"
     ]
    }
   ],
   "source": [
    "#https://docs.python.org/3/library/xml.etree.elementtree.html\n",
    "for child in root:\n",
    "    print(child.tag, child.attrib)"
   ]
  },
  {
   "cell_type": "code",
   "execution_count": 17,
   "id": "3f40efdc-06cf-4502-a917-5110b62009cc",
   "metadata": {},
   "outputs": [
    {
     "name": "stdout",
     "output_type": "stream",
     "text": [
      "metadata {}\n",
      "idinfo {}\n",
      "citation {}\n",
      "citeinfo {}\n",
      "title {}\n",
      "geoform {}\n",
      "spdom {}\n",
      "bounding {}\n",
      "westbc {}\n",
      "eastbc {}\n",
      "northbc {}\n",
      "southbc {}\n",
      "accconst {}\n",
      "useconst {}\n",
      "native {}\n",
      "spdoinfo {}\n",
      "direct {}\n",
      "ptvctinf {}\n",
      "sdtsterm {}\n",
      "sdtstype {}\n",
      "ptvctcnt {}\n",
      "spref {}\n",
      "horizsys {}\n",
      "geograph {}\n",
      "latres {}\n",
      "longres {}\n",
      "geogunit {}\n",
      "geodetic {}\n",
      "horizdn {}\n",
      "ellips {}\n",
      "semiaxis {}\n",
      "denflat {}\n",
      "eainfo {}\n",
      "detailed {}\n",
      "enttyp {}\n",
      "enttypl {}\n",
      "attr {}\n",
      "attrlabl {}\n",
      "attrdef {}\n",
      "attrdefs {}\n",
      "attrdomv {}\n",
      "udom {}\n",
      "attr {}\n",
      "attrlabl {}\n",
      "attrdef {}\n",
      "attrdefs {}\n",
      "attrdomv {}\n",
      "udom {}\n",
      "attr {}\n",
      "attrlabl {}\n",
      "attrdef {}\n",
      "attrtype {}\n",
      "attr {}\n",
      "attrlabl {}\n",
      "attrdef {}\n",
      "attrtype {}\n",
      "attr {}\n",
      "attrlabl {}\n",
      "attrdef {}\n",
      "attrtype {}\n",
      "attr {}\n",
      "attrlabl {}\n",
      "attr {}\n",
      "attrlabl {}\n",
      "attr {}\n",
      "attrlabl {}\n",
      "attr {}\n",
      "attrlabl {}\n",
      "attr {}\n",
      "attrlabl {}\n",
      "attrdef {}\n",
      "attrdefs {}\n",
      "attrdomv {}\n",
      "udom {}\n",
      "metainfo {}\n",
      "metd {}\n",
      "metstdn {}\n",
      "metstdv {}\n",
      "mettc {}\n",
      "dataIdInfo {}\n",
      "idCitation {}\n",
      "resTitle {}\n",
      "date {}\n",
      "createDate {}\n",
      "pubDate {}\n",
      "resConst {}\n",
      "Consts {}\n",
      "useLimit {}\n",
      "searchKeys {}\n",
      "keyword {}\n",
      "keyword {}\n",
      "keyword {}\n",
      "keyword {}\n",
      "dataChar {}\n",
      "CharSetCd {'value': '004'}\n",
      "idPurp {}\n",
      "idAbs {}\n",
      "Esri {}\n",
      "scaleRange {}\n",
      "minScale {}\n",
      "maxScale {}\n",
      "DataProperties {}\n",
      "itemProps {}\n",
      "imsContentType {'export': 'False'}\n",
      "ArcGISFormat {}\n",
      "ArcGISProfile {}\n",
      "mdHrLv {}\n",
      "ScopeCd {'value': '005'}\n",
      "mdChar {}\n",
      "CharSetCd {'value': '004'}\n",
      "mdMaint {}\n",
      "maintFreq {}\n",
      "MaintFreqCd {'value': '005'}\n",
      "dateNext {}\n",
      "maintCont {}\n",
      "rpIndName {}\n",
      "rpOrgName {}\n"
     ]
    }
   ],
   "source": [
    "# https://stackoverflow.com/questions/43921237/access-nested-children-in-xml-file-parsed-with-elementtree\n",
    "for child in root.iter():\n",
    "    print(child.tag, child.attrib)"
   ]
  },
  {
   "cell_type": "code",
   "execution_count": 30,
   "id": "49a2ca49-b77c-4048-8c8e-0aef46a0c613",
   "metadata": {},
   "outputs": [
    {
     "name": "stdout",
     "output_type": "stream",
     "text": [
      "\n"
     ]
    }
   ],
   "source": [
    "\n",
    "for each in root.findall('idinfo'):\n",
    "    title = each.find('title')\n",
    "    print('' if title is None else title.text)\n"
   ]
  },
  {
   "cell_type": "code",
   "execution_count": 33,
   "id": "f5fd2c9d-79b3-4c3d-865a-d8fa22678006",
   "metadata": {},
   "outputs": [
    {
     "name": "stdout",
     "output_type": "stream",
     "text": [
      "routes_assembled\n"
     ]
    }
   ],
   "source": [
    "print(root[0][0][0][0].text)"
   ]
  },
  {
   "cell_type": "code",
   "execution_count": 49,
   "id": "d6b207cf-a869-4916-906c-54da6709dc34",
   "metadata": {},
   "outputs": [
    {
     "name": "stdout",
     "output_type": "stream",
     "text": [
      "title\n",
      "routes_assembled\n"
     ]
    }
   ],
   "source": [
    "print(root[0][0][0][0].tag)\n",
    "print(root[0][0][0][0].text)"
   ]
  },
  {
   "cell_type": "code",
   "execution_count": 56,
   "id": "a835bc27-a5f2-4d15-93b1-684979ddc7ac",
   "metadata": {},
   "outputs": [
    {
     "name": "stdout",
     "output_type": "stream",
     "text": [
      "routes_assembled\n"
     ]
    }
   ],
   "source": [
    "for child in root.find('eainfo'):\n",
    "    print(child[0][0].text)\n",
    "\n"
   ]
  },
  {
   "cell_type": "code",
   "execution_count": null,
   "id": "d3c1fc87-07f6-44d9-90fa-19872d7548c6",
   "metadata": {},
   "outputs": [],
   "source": []
  }
 ],
 "metadata": {
  "kernelspec": {
   "display_name": "Python 3 (ipykernel)",
   "language": "python",
   "name": "python3"
  },
  "language_info": {
   "codemirror_mode": {
    "name": "ipython",
    "version": 3
   },
   "file_extension": ".py",
   "mimetype": "text/x-python",
   "name": "python",
   "nbconvert_exporter": "python",
   "pygments_lexer": "ipython3",
   "version": "3.9.7"
  }
 },
 "nbformat": 4,
 "nbformat_minor": 5
}
