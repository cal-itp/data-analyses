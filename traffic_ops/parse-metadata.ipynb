{
 "cells": [
  {
   "cell_type": "markdown",
   "id": "bd9c06ec-8a35-4212-8094-ec56bda4b5ca",
   "metadata": {},
   "source": [
    "# Parse the XML file for HQTA files\n",
    "\n",
    "* [Edit metadata for many ArcGIS items](https://desktop.arcgis.com/en/arcmap/latest/manage-data/metadata/editing-metadata-for-many-arcgis-items.htm)\n",
    "* [Change to JSON](https://stackoverflow.com/questions/48821725/xml-parsers-expat-expaterror-not-well-formed-invalid-token)"
   ]
  },
  {
   "cell_type": "code",
   "execution_count": null,
   "id": "0c6ed1e1-6207-4979-991e-964ec8bbf463",
   "metadata": {},
   "outputs": [],
   "source": [
    "#!pip install xmltodict"
   ]
  },
  {
   "cell_type": "code",
   "execution_count": 1,
   "id": "3eaca36d-361f-47c5-9286-24696b0ac025",
   "metadata": {},
   "outputs": [],
   "source": [
    "import xml.etree.ElementTree as ET\n",
    "import json\n",
    "import xmltodict"
   ]
  },
  {
   "cell_type": "code",
   "execution_count": 2,
   "id": "0c548efc-10ac-479a-b143-f66e6b5c7d84",
   "metadata": {},
   "outputs": [],
   "source": [
    "xml_file = \"./data/ca_hq_transit_areas.xml\""
   ]
  },
  {
   "cell_type": "code",
   "execution_count": 3,
   "id": "91866e99-6eeb-425f-b963-4c287f0121a5",
   "metadata": {},
   "outputs": [],
   "source": [
    "# read in XML\n",
    "tree = ET.parse(xml_file)\n",
    "root = tree.getroot()"
   ]
  },
  {
   "cell_type": "code",
   "execution_count": 28,
   "id": "c30d5645-067f-43a9-a1b9-e2dd6f146efd",
   "metadata": {},
   "outputs": [
    {
     "name": "stdout",
     "output_type": "stream",
     "text": [
      "metadata {}\n",
      "idinfo {}\n",
      "citation {}\n",
      "citeinfo {}\n",
      "title {}\n",
      "geoform {}\n",
      "pubinfo {}\n",
      "publish {}\n",
      "descript {}\n",
      "abstract {}\n",
      "purpose {}\n",
      "timeperd {}\n",
      "timeinfo {}\n",
      "rngdates {}\n",
      "begdate {}\n",
      "enddate {}\n",
      "current {}\n",
      "status {}\n",
      "progress {}\n",
      "update {}\n",
      "spdom {}\n",
      "bounding {}\n",
      "westbc {}\n",
      "eastbc {}\n",
      "northbc {}\n",
      "southbc {}\n",
      "keywords {}\n",
      "theme {}\n",
      "themekt {}\n",
      "themekey {}\n",
      "theme {}\n",
      "themekt {}\n",
      "themekey {}\n",
      "themekey {}\n",
      "themekey {}\n",
      "themekey {}\n",
      "themekey {}\n",
      "accconst {}\n",
      "useconst {}\n",
      "native {}\n",
      "dataqual {}\n",
      "lineage {}\n",
      "procstep {}\n",
      "procdesc {}\n",
      "spdoinfo {}\n",
      "direct {}\n",
      "ptvctinf {}\n",
      "sdtsterm {}\n",
      "sdtstype {}\n",
      "ptvctcnt {}\n",
      "eainfo {}\n",
      "detailed {}\n",
      "enttyp {}\n",
      "enttypl {}\n",
      "attr {}\n",
      "attrlabl {}\n",
      "attrdef {}\n",
      "attrdefs {}\n",
      "attrdomv {}\n",
      "udom {}\n",
      "attr {}\n",
      "attrlabl {}\n",
      "attrdef {}\n",
      "attrdefs {}\n",
      "attrdomv {}\n",
      "udom {}\n",
      "attr {}\n",
      "attrlabl {}\n",
      "attr {}\n",
      "attrlabl {}\n",
      "attr {}\n",
      "attrlabl {}\n",
      "attr {}\n",
      "attrlabl {}\n",
      "attr {}\n",
      "attrlabl {}\n",
      "attr {}\n",
      "attrlabl {}\n",
      "attrdef {}\n",
      "attrdefs {}\n",
      "attrdomv {}\n",
      "udom {}\n",
      "attr {}\n",
      "attrlabl {}\n",
      "attrdef {}\n",
      "attrdefs {}\n",
      "attrdomv {}\n",
      "udom {}\n",
      "detailed {}\n",
      "enttyp {}\n",
      "enttypd {}\n",
      "enttypds {}\n",
      "metainfo {}\n",
      "metd {}\n",
      "metc {}\n",
      "cntinfo {}\n",
      "cntorgp {}\n",
      "cntorg {}\n",
      "cntper {}\n",
      "cntpos {}\n",
      "cntemail {}\n",
      "metstdn {}\n",
      "metstdv {}\n",
      "mettc {}\n"
     ]
    }
   ],
   "source": [
    "# Not well-formed XML?\n",
    "# Figure out another way to read in as a dict\n",
    "#for elem in tree.iter():\n",
    "#    print(elem.tag, elem.attrib)"
   ]
  },
  {
   "cell_type": "code",
   "execution_count": 50,
   "id": "4ce01d7f-0964-4a54-9ab2-f9a522942ec2",
   "metadata": {},
   "outputs": [
    {
     "name": "stdout",
     "output_type": "stream",
     "text": [
      "Loading XML as JSON from ./data/ca_hq_transit_areas.xml\n"
     ]
    }
   ],
   "source": [
    "def xml_to_json(path: str) -> dict:  \n",
    "    try:\n",
    "        print(f\"Loading XML as JSON from {path}\")\n",
    "        xml = ET.tostring(ET.parse(path).getroot())\n",
    "        return xmltodict.parse(xml, \n",
    "                               #attr_prefix=\"@\", cdata_key=\"#text\", \n",
    "                               dict_constructor=dict)\n",
    "    except:\n",
    "        print(f\"Loading failed for {path}\")\n",
    "    return {}\n",
    "\n",
    "metadata_json = xml_to_json(xml_file)"
   ]
  },
  {
   "cell_type": "code",
   "execution_count": 75,
   "id": "2432d43d-1c6b-4dbb-af4a-e3491a739b95",
   "metadata": {},
   "outputs": [
    {
     "data": {
      "text/plain": [
       "[{'themekt': 'ISO 19115 Topic Categories', 'themekey': 'transportation'},\n",
       " {'themekt': 'None',\n",
       "  'themekey': ['Transportation',\n",
       "   'Land Use',\n",
       "   'Transit-Oriented Development',\n",
       "   'TOD',\n",
       "   'High Quality Transit']}]"
      ]
     },
     "execution_count": 75,
     "metadata": {},
     "output_type": "execute_result"
    }
   ],
   "source": [
    "keyword_list = metadata_json[\"metadata\"][\"idinfo\"][\"keywords\"][\"theme\"]"
   ]
  },
  {
   "cell_type": "code",
   "execution_count": 79,
   "id": "c598af5d-5c79-4544-bdb6-fd276e0aa541",
   "metadata": {},
   "outputs": [],
   "source": [
    "def fill_in_keyword_list(topic='transportation', keyword_list = []):\n",
    "    filled_out_list = [\n",
    "        {'themekt': 'ISO 19115 Topic Categories',\n",
    "         'themekey': topic},\n",
    "         {'themekt': 'None',\n",
    "          'themekey': keyword_list\n",
    "         }\n",
    "    ]\n",
    "    \n",
    "    return filled_out_list"
   ]
  },
  {
   "cell_type": "code",
   "execution_count": 80,
   "id": "abaeb355-4369-4953-938f-f0d4fa91a6dd",
   "metadata": {},
   "outputs": [
    {
     "data": {
      "text/plain": [
       "[{'themekt': 'ISO 19115 Topic Categories', 'themekey': 'transportation'},\n",
       " {'themekt': 'None', 'themekey': ['One', 'Two', 'Three', 'Four', 'Five']}]"
      ]
     },
     "execution_count": 80,
     "metadata": {},
     "output_type": "execute_result"
    }
   ],
   "source": [
    "theme_keywords = [\"One\", \"Two\", \"Three\", \"Four\", \"Five\"]\n",
    "fill_in_keyword_list(\"transportation\", theme_keywords)"
   ]
  },
  {
   "cell_type": "code",
   "execution_count": null,
   "id": "b88fcdcf-38c1-464a-8392-8b31c9f2e3e1",
   "metadata": {},
   "outputs": [],
   "source": [
    " metadata_json[\"metadata\"][\"idinfo\"][\"keywords\"][\"theme\"]"
   ]
  },
  {
   "cell_type": "code",
   "execution_count": 57,
   "id": "1da496a3-c1f2-44a0-bdf8-a6b746a5843b",
   "metadata": {},
   "outputs": [
    {
     "ename": "SyntaxError",
     "evalue": "':' expected after dictionary key (2595613434.py, line 4)",
     "output_type": "error",
     "traceback": [
      "\u001b[0;36m  Input \u001b[0;32mIn [57]\u001b[0;36m\u001b[0m\n\u001b[0;31m    \"\"\u001b[0m\n\u001b[0m     ^\u001b[0m\n\u001b[0;31mSyntaxError\u001b[0m\u001b[0;31m:\u001b[0m ':' expected after dictionary key\n"
     ]
    }
   ],
   "source": [
    "DATASET_INFO = {\n",
    "    ## my_json[\"metadata\"][\"idinfo\"]\n",
    "    # [\"citation\"]\n",
    "    \"dataset_name\": \"ca_hq_transit_areas\", #[\"citeinfo\"][\"title\"]\n",
    "    \"publish_entity\": \"California Integrated Travel Project\", #[\"pubinfo\"][\"publish\"]\n",
    "    # [\"descript\"]\n",
    "    \"abstract\": \"Public. EPSG: 3310\", #[\"abstract\"]\n",
    "    \"purpose\": \"Summary sentence about dataset.\", #[\"purpose\"]\n",
    "    # [\"timeperd\"]\n",
    "    \"beginning_date\": \"YYYYMMDD\", #[\"timeinfo\"][\"rngdates\"][\"begdate\"]\n",
    "    \"end_date\": \"YYYYMMDD\", #[\"timeinfo\"][\"rngdates\"][\"enddate\"]\n",
    "    \"place\": \"California\", #[\"current\"]\n",
    "    # [\"status\"]\n",
    "    \"status\": \"Complete\", #[\"progress\"]\n",
    "    \"frequency\": \"Monthly\", #[\"update\"]\n",
    "    # [\"keywords\"]\n",
    "    # transportation is probably what we always want to check off\n",
    "    # Be able to input list (5 is min)...just unpack the phrases and make list\n",
    "    \"theme_topics\": fill_in_keyword_list(topic = \"transportation\", \n",
    "                                         theme_keywords = []),\n",
    "    ## my_json[\"metadata\"][\"dataqual\"]\n",
    "    \"methodology\": \"Detailed methodology description\", #[\"lineage\"][\"procstep\"][\"procdesc\"]\n",
    "    ## my_json[\"metadata\"][\"eainfo\"]\n",
    "    # [\"detailed\"] (this outputs a list)\n",
    "    ## set this equal to dataset_name above [\"detailed\"][0][\"enttyp\"][\"enttypl\"] \n",
    "    \"data_dict_type\": \"CSV\", # [\"detailed\"][1][\"enttyp\"][\"enttypd\"],\n",
    "    \"data_dict_url\": \"some_url\", \n",
    "    ## my_json[\"metadata\"][\"metainfo\"]\n",
    "    #[\"metc\"]\n",
    "    \"contact_organization\": \"Caltrans\", #[\"metc\"][\"cntinfo\"][\"cntorgp\"][\"cntorg\"]\n",
    "    \"contact_person\": \"Analyst Name\", #[\"metc\"][\"cntinfo\"][\"cntorgp\"][\"cntper\"]\n",
    "    \"contact_position\": \"California Integrated Travel Project\", #[\"metc\"][\"cntinfo\"][\"cntpos\"]\n",
    "    \"contact_email\": \"hello@calitp.org\" #[\"metc\"][\"cntinfo\"][\"cntemail\"],\n",
    "}"
   ]
  },
  {
   "cell_type": "code",
   "execution_count": 95,
   "id": "82f84f5b-4399-4f7d-970f-95f42b80b1a8",
   "metadata": {},
   "outputs": [
    {
     "data": {
      "text/plain": [
       "{'metadata': {'idinfo': {'citation': {'citeinfo': {'title': 'ca_hq_transit_areas',\n",
       "     'geoform': 'vector digital data',\n",
       "     'pubinfo': {'publish': 'California Integrated Travel Project'}}},\n",
       "   'descript': {'abstract': 'Public. EPSG: 3310',\n",
       "    'purpose': 'Estimated High Quality Transit Areas as described in Public Resources Code 21155, 21064.3, 21060.2'},\n",
       "   'timeperd': {'timeinfo': {'rngdates': {'begdate': '20220517',\n",
       "      'enddate': '20220617'}},\n",
       "    'current': 'California'},\n",
       "   'status': {'progress': 'Complete', 'update': 'Monthly'},\n",
       "   'spdom': {'bounding': {'westbc': '-124.423914',\n",
       "     'eastbc': '-113.465232',\n",
       "     'northbc': '45.362934',\n",
       "     'southbc': '32.441061'}},\n",
       "   'keywords': {'theme': [{'themekt': 'ISO 19115 Topic Categories',\n",
       "      'themekey': 'transportation'},\n",
       "     {'themekt': 'None',\n",
       "      'themekey': ['Transportation',\n",
       "       'Land Use',\n",
       "       'Transit-Oriented Development',\n",
       "       'TOD',\n",
       "       'High Quality Transit']}]},\n",
       "   'accconst': 'None',\n",
       "   'useconst': 'None',\n",
       "   'native': 'Version 6.2 (Build 9200) ; Esri ArcGIS 10.8.1.14362'},\n",
       "  'dataqual': {'lineage': {'procstep': {'procdesc': 'This data was estimated using a spatial process derived from General Transit Feed Specification (GTFS) schedule data. To find high-quality bus corridors, we split each corridor into 1500 meter segments and counted frequencies at the stop within that segment with the highest number of transit trips. If that stop saw at least 4 trips per hour for at least one hour in the morning, and again for at least one hour in the afternoon, we consider that segment a high-quality bus corridor. Segments without a stop are not considered high-quality corridors. Major transit stops were identified as either the intersection of two high-quality corridors from the previous step, a rail or bus rapid transit station, or a ferry terminal with bus service. Note that the definition of “bus rapid transit” in Public Resources Code 21060.2 includes features not captured by available data sources, these features were captured manually using information from transit agency sources and imagery. We believe this data to be broadly accurate, and fit for purposes including overall dashboards, locating facilities in relation to high quality transit areas, and assessing community transit coverage. However, the spatial determination of high-quality transit areas from GTFS data necessarily involves some assumptions as described above. Any critical determinations of whether a specific parcel is located within a high-quality transit area should be made in conjunction with local sources, such as transit agency timetables.'}}},\n",
       "  'spdoinfo': {'direct': 'Vector',\n",
       "   'ptvctinf': {'sdtsterm': {'sdtstype': 'GT-polygon composed of chains',\n",
       "     'ptvctcnt': '7960'}}},\n",
       "  'eainfo': {'detailed': [{'enttyp': {'enttypl': 'ca_hq_transit_areas'},\n",
       "     'attr': [{'attrlabl': 'OBJECTID',\n",
       "       'attrdef': 'Internal feature number.',\n",
       "       'attrdefs': 'Esri',\n",
       "       'attrdomv': {'udom': 'Sequential unique whole numbers that are automatically generated.'}},\n",
       "      {'attrlabl': 'Shape',\n",
       "       'attrdef': 'Feature geometry.',\n",
       "       'attrdefs': 'Esri',\n",
       "       'attrdomv': {'udom': 'Coordinates defining the features.'}},\n",
       "      {'attrlabl': 'calitp_itp'},\n",
       "      {'attrlabl': 'agency_nam'},\n",
       "      {'attrlabl': 'hqta_type'},\n",
       "      {'attrlabl': 'calitp_i_1'},\n",
       "      {'attrlabl': 'agency_n_1'},\n",
       "      {'attrlabl': 'Shape_Length',\n",
       "       'attrdef': 'Length of feature in internal units.',\n",
       "       'attrdefs': 'Esri',\n",
       "       'attrdomv': {'udom': 'Positive real numbers that are automatically generated.'}},\n",
       "      {'attrlabl': 'Shape_Area',\n",
       "       'attrdef': 'Area of feature in internal units squared.',\n",
       "       'attrdefs': 'Esri',\n",
       "       'attrdomv': {'udom': 'Positive real numbers that are automatically generated.'}}]},\n",
       "    {'enttyp': {'enttypd': 'CSV', 'enttypds': 'Data dictionary URL'}}]},\n",
       "  'metainfo': {'metd': '20220602',\n",
       "   'metc': {'cntinfo': {'cntorgp': {'cntorg': 'Caltrans',\n",
       "      'cntper': 'Eric Dasmalchi'},\n",
       "     'cntpos': 'California Integrated Travel Project',\n",
       "     'cntemail': 'eric.dasmalchi@dot.ca.gov'}},\n",
       "   'metstdn': 'FGDC Content Standard for Digital Geospatial Metadata',\n",
       "   'metstdv': 'FGDC-STD-001-1998',\n",
       "   'mettc': 'local time'}}}"
      ]
     },
     "execution_count": 95,
     "metadata": {},
     "output_type": "execute_result"
    }
   ],
   "source": [
    "metadata_json"
   ]
  },
  {
   "cell_type": "code",
   "execution_count": 92,
   "id": "e8921a15-a8d9-4579-b9e3-de3c63cf7792",
   "metadata": {},
   "outputs": [],
   "source": [
    "#metadata_json[\"metadata\"][\"eainfo\"][\"detailed\"][1]"
   ]
  },
  {
   "cell_type": "code",
   "execution_count": 94,
   "id": "3918619f-229c-41b5-95b8-3817337b9990",
   "metadata": {},
   "outputs": [
    {
     "name": "stdout",
     "output_type": "stream",
     "text": [
      "Key: metd\n",
      "20220602\n",
      "Key: metc\n",
      "{'cntinfo': {'cntorgp': {'cntorg': 'Caltrans', 'cntper': 'Eric Dasmalchi'}, 'cntpos': 'California Integrated Travel Project', 'cntemail': 'eric.dasmalchi@dot.ca.gov'}}\n",
      "Key: metstdn\n",
      "FGDC Content Standard for Digital Geospatial Metadata\n",
      "Key: metstdv\n",
      "FGDC-STD-001-1998\n",
      "Key: mettc\n",
      "local time\n"
     ]
    }
   ],
   "source": [
    "#for k, v in metadata_json[\"metadata\"][\"metainfo\"].items():\n",
    "#    print(f\"Key: {k}\")\n",
    "#    print(v)        "
   ]
  },
  {
   "cell_type": "markdown",
   "id": "d63a1318-fff6-494a-aadd-8fb653fc8f18",
   "metadata": {},
   "source": []
  },
  {
   "cell_type": "code",
   "execution_count": 49,
   "id": "645870d2-405d-4052-8289-3a1f8058598d",
   "metadata": {},
   "outputs": [
    {
     "name": "stdout",
     "output_type": "stream",
     "text": [
      "{'citeinfo': {'title': 'ca_hq_transit_areas', 'geoform': 'vector digital data', 'pubinfo': {'publish': 'California Integrated Travel Project'}}}\n",
      "{'abstract': 'Public. EPSG: 3310', 'purpose': 'Estimated High Quality Transit Areas as described in Public Resources Code 21155, 21064.3, 21060.2'}\n",
      "{'timeinfo': {'rngdates': {'begdate': '20220517', 'enddate': '20220617'}}, 'current': 'California'}\n",
      "{'progress': 'Complete', 'update': 'Monthly'}\n",
      "{'bounding': {'westbc': '-124.423914', 'eastbc': '-113.465232', 'northbc': '45.362934', 'southbc': '32.441061'}}\n",
      "{'theme': [{'themekt': 'ISO 19115 Topic Categories', 'themekey': 'transportation'}, {'themekt': 'None', 'themekey': ['Transportation', 'Land Use', 'Transit-Oriented Development', 'TOD', 'High Quality Transit']}]}\n",
      "None\n",
      "None\n",
      "Version 6.2 (Build 9200) ; Esri ArcGIS 10.8.1.14362\n"
     ]
    }
   ],
   "source": [
    "for key, value in metadata_json[\"metadata\"].items():\n",
    "    #print(key, value)\n",
    "    if key == \"idinfo\":\n",
    "        for k, v in metadata_json[\"metadata\"][key].items():\n",
    "            print(v)"
   ]
  },
  {
   "cell_type": "code",
   "execution_count": null,
   "id": "2274f852-8d49-4d2d-a045-5e956efa0de3",
   "metadata": {},
   "outputs": [],
   "source": []
  }
 ],
 "metadata": {
  "kernelspec": {
   "display_name": "Python 3 (ipykernel)",
   "language": "python",
   "name": "python3"
  },
  "language_info": {
   "codemirror_mode": {
    "name": "ipython",
    "version": 3
   },
   "file_extension": ".py",
   "mimetype": "text/x-python",
   "name": "python",
   "nbconvert_exporter": "python",
   "pygments_lexer": "ipython3",
   "version": "3.10.4"
  }
 },
 "nbformat": 4,
 "nbformat_minor": 5
}
