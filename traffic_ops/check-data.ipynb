{
 "cells": [
  {
   "cell_type": "code",
   "execution_count": 1,
   "id": "ce2d8a84-8fca-4792-b8e8-b709b55b9842",
   "metadata": {},
   "outputs": [
    {
     "name": "stderr",
     "output_type": "stream",
     "text": [
      "/opt/conda/lib/python3.10/site-packages/geopandas/_compat.py:111: UserWarning: The Shapely GEOS version (3.10.2-CAPI-1.16.0) is incompatible with the GEOS version PyGEOS was compiled with (3.10.1-CAPI-1.16.0). Conversions between both will be slow.\n",
      "  warnings.warn(\n"
     ]
    }
   ],
   "source": [
    "import pandas as pd\n",
    "import geopandas as gpd\n",
    "\n",
    "import prep_data\n",
    "\n",
    "DATA_PATH = prep_data.DATA_PATH"
   ]
  },
  {
   "cell_type": "code",
   "execution_count": null,
   "id": "4974f775-d73f-411e-acca-e3b57dd03533",
   "metadata": {},
   "outputs": [],
   "source": [
    "import fiona \n",
    "#print(fiona.supported_drivers)"
   ]
  },
  {
   "cell_type": "code",
   "execution_count": 2,
   "id": "122fcb7f-bc8b-4907-8497-93d767836c2c",
   "metadata": {},
   "outputs": [
    {
     "name": "stderr",
     "output_type": "stream",
     "text": [
      "/home/jovyan/data-analyses/_shared_utils/shared_utils/utils.py:55: UserWarning: this is an initial implementation of Parquet/Feather file support and associated metadata.  This is tracking version 0.1.0 of the metadata specification at https://github.com/geopandas/geo-arrow-spec\n",
      "\n",
      "This metadata specification does not yet make stability promises.  We do not yet recommend using this in a production setting unless you are able to rewrite your Parquet/Feather files.\n",
      "\n",
      "To further ignore this warning, you can do: \n",
      "import warnings; warnings.filterwarnings('ignore', message='.*initial implementation of Parquet.*')\n",
      "/home/jovyan/data-analyses/_shared_utils/shared_utils/utils.py:55: UserWarning: this is an initial implementation of Parquet/Feather file support and associated metadata.  This is tracking version 0.1.0 of the metadata specification at https://github.com/geopandas/geo-arrow-spec\n",
      "\n",
      "This metadata specification does not yet make stability promises.  We do not yet recommend using this in a production setting unless you are able to rewrite your Parquet/Feather files.\n",
      "\n",
      "To further ignore this warning, you can do: \n",
      "import warnings; warnings.filterwarnings('ignore', message='.*initial implementation of Parquet.*')\n"
     ]
    }
   ],
   "source": [
    "from shared_utils import utils\n",
    "\n",
    "routes = utils.download_geoparquet(prep_data.GCS_FILE_PATH, \n",
    "                                   \"ca_transit_routes\")\n",
    "\n",
    "stops = utils.download_geoparquet(prep_data.GCS_FILE_PATH, \n",
    "                                  \"ca_transit_stops\")"
   ]
  },
  {
   "cell_type": "code",
   "execution_count": null,
   "id": "9723b392-31ad-45a0-8c82-57a736f3a7d8",
   "metadata": {},
   "outputs": [],
   "source": [
    "#routes.to_file(driver=\"GeoJSON\", filename=\"./data/ca_transit_routes.geojson\")\n",
    "#stops.to_file(driver=\"GeoJSON\", filename=\"./data/ca_transit_stops.geojson\")"
   ]
  },
  {
   "cell_type": "code",
   "execution_count": null,
   "id": "d10d623a-d0c7-4d2a-9c02-05544c289fc4",
   "metadata": {},
   "outputs": [],
   "source": [
    "#routes.head().to_json())\n",
    "import json\n",
    "#json.dumps(routes.head().to_json())"
   ]
  }
 ],
 "metadata": {
  "kernelspec": {
   "display_name": "Python 3 (ipykernel)",
   "language": "python",
   "name": "python3"
  },
  "language_info": {
   "codemirror_mode": {
    "name": "ipython",
    "version": 3
   },
   "file_extension": ".py",
   "mimetype": "text/x-python",
   "name": "python",
   "nbconvert_exporter": "python",
   "pygments_lexer": "ipython3",
   "version": "3.10.4"
  }
 },
 "nbformat": 4,
 "nbformat_minor": 5
}
