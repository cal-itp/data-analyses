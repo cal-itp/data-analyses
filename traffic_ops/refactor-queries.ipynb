{
 "cells": [
  {
   "cell_type": "code",
   "execution_count": 1,
   "id": "337506ce-c516-46a7-bebf-f0651a245f53",
   "metadata": {},
   "outputs": [
    {
     "name": "stdout",
     "output_type": "stream",
     "text": [
      "Requirement already satisfied: sqlalchemy-bigquery in /opt/conda/lib/python3.9/site-packages (1.4.3)\n",
      "Requirement already satisfied: google-cloud-bigquery-storage<3.0.0dev,>=2.0.0 in /opt/conda/lib/python3.9/site-packages (from sqlalchemy-bigquery) (2.13.0)\n",
      "Requirement already satisfied: google-auth<3.0.0dev,>=1.25.0 in /opt/conda/lib/python3.9/site-packages (from sqlalchemy-bigquery) (2.6.2)\n",
      "Requirement already satisfied: sqlalchemy<=1.4.27,>=1.2.0 in /opt/conda/lib/python3.9/site-packages (from sqlalchemy-bigquery) (1.4.27)\n",
      "Requirement already satisfied: google-cloud-bigquery<4.0.0dev,>=2.25.2 in /opt/conda/lib/python3.9/site-packages (from sqlalchemy-bigquery) (2.34.2)\n",
      "Requirement already satisfied: google-api-core!=2.0.*,!=2.1.*,!=2.2.*,!=2.3.0,<3.0.0dev,>=1.31.5 in /opt/conda/lib/python3.9/site-packages (from sqlalchemy-bigquery) (2.7.1)\n",
      "Requirement already satisfied: pyarrow<7.0dev,>=3.0.0 in /opt/conda/lib/python3.9/site-packages (from sqlalchemy-bigquery) (6.0.1)\n",
      "Requirement already satisfied: future in /opt/conda/lib/python3.9/site-packages (from sqlalchemy-bigquery) (0.18.2)\n",
      "Requirement already satisfied: googleapis-common-protos<2.0dev,>=1.52.0 in /opt/conda/lib/python3.9/site-packages (from google-api-core!=2.0.*,!=2.1.*,!=2.2.*,!=2.3.0,<3.0.0dev,>=1.31.5->sqlalchemy-bigquery) (1.56.0)\n",
      "Requirement already satisfied: protobuf>=3.12.0 in /opt/conda/lib/python3.9/site-packages (from google-api-core!=2.0.*,!=2.1.*,!=2.2.*,!=2.3.0,<3.0.0dev,>=1.31.5->sqlalchemy-bigquery) (3.19.4)\n",
      "Requirement already satisfied: requests<3.0.0dev,>=2.18.0 in /opt/conda/lib/python3.9/site-packages (from google-api-core!=2.0.*,!=2.1.*,!=2.2.*,!=2.3.0,<3.0.0dev,>=1.31.5->sqlalchemy-bigquery) (2.27.1)\n",
      "Requirement already satisfied: pyasn1-modules>=0.2.1 in /opt/conda/lib/python3.9/site-packages (from google-auth<3.0.0dev,>=1.25.0->sqlalchemy-bigquery) (0.2.8)\n",
      "Requirement already satisfied: cachetools<6.0,>=2.0.0 in /opt/conda/lib/python3.9/site-packages (from google-auth<3.0.0dev,>=1.25.0->sqlalchemy-bigquery) (5.0.0)\n",
      "Requirement already satisfied: six>=1.9.0 in /opt/conda/lib/python3.9/site-packages (from google-auth<3.0.0dev,>=1.25.0->sqlalchemy-bigquery) (1.16.0)\n",
      "Requirement already satisfied: rsa<5,>=3.1.4 in /opt/conda/lib/python3.9/site-packages (from google-auth<3.0.0dev,>=1.25.0->sqlalchemy-bigquery) (4.8)\n",
      "Requirement already satisfied: proto-plus>=1.15.0 in /opt/conda/lib/python3.9/site-packages (from google-cloud-bigquery<4.0.0dev,>=2.25.2->sqlalchemy-bigquery) (1.20.3)\n",
      "Requirement already satisfied: packaging>=14.3 in /opt/conda/lib/python3.9/site-packages (from google-cloud-bigquery<4.0.0dev,>=2.25.2->sqlalchemy-bigquery) (21.3)\n",
      "Requirement already satisfied: grpcio<2.0dev,>=1.38.1 in /opt/conda/lib/python3.9/site-packages (from google-cloud-bigquery<4.0.0dev,>=2.25.2->sqlalchemy-bigquery) (1.44.0)\n",
      "Requirement already satisfied: google-cloud-core<3.0.0dev,>=1.4.1 in /opt/conda/lib/python3.9/site-packages (from google-cloud-bigquery<4.0.0dev,>=2.25.2->sqlalchemy-bigquery) (2.2.3)\n",
      "Requirement already satisfied: python-dateutil<3.0dev,>=2.7.2 in /opt/conda/lib/python3.9/site-packages (from google-cloud-bigquery<4.0.0dev,>=2.25.2->sqlalchemy-bigquery) (2.8.2)\n",
      "Requirement already satisfied: google-resumable-media<3.0dev,>=0.6.0 in /opt/conda/lib/python3.9/site-packages (from google-cloud-bigquery<4.0.0dev,>=2.25.2->sqlalchemy-bigquery) (2.3.2)\n",
      "Requirement already satisfied: numpy>=1.16.6 in /opt/conda/lib/python3.9/site-packages (from pyarrow<7.0dev,>=3.0.0->sqlalchemy-bigquery) (1.21.5)\n",
      "Requirement already satisfied: greenlet!=0.4.17 in /opt/conda/lib/python3.9/site-packages (from sqlalchemy<=1.4.27,>=1.2.0->sqlalchemy-bigquery) (1.1.2)\n",
      "Requirement already satisfied: grpcio-status<2.0dev,>=1.33.2 in /opt/conda/lib/python3.9/site-packages (from google-api-core!=2.0.*,!=2.1.*,!=2.2.*,!=2.3.0,<3.0.0dev,>=1.31.5->sqlalchemy-bigquery) (1.44.0)\n",
      "Requirement already satisfied: google-crc32c<2.0dev,>=1.0 in /opt/conda/lib/python3.9/site-packages (from google-resumable-media<3.0dev,>=0.6.0->google-cloud-bigquery<4.0.0dev,>=2.25.2->sqlalchemy-bigquery) (1.3.0)\n",
      "Requirement already satisfied: pyparsing!=3.0.5,>=2.0.2 in /opt/conda/lib/python3.9/site-packages (from packaging>=14.3->google-cloud-bigquery<4.0.0dev,>=2.25.2->sqlalchemy-bigquery) (3.0.7)\n",
      "Requirement already satisfied: pyasn1<0.5.0,>=0.4.6 in /opt/conda/lib/python3.9/site-packages (from pyasn1-modules>=0.2.1->google-auth<3.0.0dev,>=1.25.0->sqlalchemy-bigquery) (0.4.8)\n",
      "Requirement already satisfied: charset-normalizer~=2.0.0 in /opt/conda/lib/python3.9/site-packages (from requests<3.0.0dev,>=2.18.0->google-api-core!=2.0.*,!=2.1.*,!=2.2.*,!=2.3.0,<3.0.0dev,>=1.31.5->sqlalchemy-bigquery) (2.0.12)\n",
      "Requirement already satisfied: idna<4,>=2.5 in /opt/conda/lib/python3.9/site-packages (from requests<3.0.0dev,>=2.18.0->google-api-core!=2.0.*,!=2.1.*,!=2.2.*,!=2.3.0,<3.0.0dev,>=1.31.5->sqlalchemy-bigquery) (3.3)\n",
      "Requirement already satisfied: certifi>=2017.4.17 in /opt/conda/lib/python3.9/site-packages (from requests<3.0.0dev,>=2.18.0->google-api-core!=2.0.*,!=2.1.*,!=2.2.*,!=2.3.0,<3.0.0dev,>=1.31.5->sqlalchemy-bigquery) (2021.10.8)\n",
      "Requirement already satisfied: urllib3<1.27,>=1.21.1 in /opt/conda/lib/python3.9/site-packages (from requests<3.0.0dev,>=2.18.0->google-api-core!=2.0.*,!=2.1.*,!=2.2.*,!=2.3.0,<3.0.0dev,>=1.31.5->sqlalchemy-bigquery) (1.26.8)\n"
     ]
    }
   ],
   "source": [
    "!pip install sqlalchemy-bigquery"
   ]
  },
  {
   "cell_type": "code",
   "execution_count": 2,
   "id": "5e749266-7489-4305-8a1e-773e766cec98",
   "metadata": {},
   "outputs": [
    {
     "name": "stderr",
     "output_type": "stream",
     "text": [
      "/opt/conda/lib/python3.9/site-packages/geopandas/_compat.py:111: UserWarning: The Shapely GEOS version (3.10.2-CAPI-1.16.0) is incompatible with the GEOS version PyGEOS was compiled with (3.10.1-CAPI-1.16.0). Conversions between both will be slow.\n",
      "  warnings.warn(\n",
      "/opt/conda/lib/python3.9/importlib/__init__.py:127: UserWarning: Obsolete pybigquery is installed, which is likely to\n",
      "interfere with sqlalchemy_bigquery.\n",
      "pybigquery should be uninstalled.\n",
      "  return _bootstrap._gcd_import(name[level:], package, level)\n",
      "E0405 19:40:48.837978529     322 fork_posix.cc:70]           Fork support is only compatible with the epoll1 and poll polling strategies\n"
     ]
    }
   ],
   "source": [
    "import geopandas as gpd\n",
    "import pandas as pd\n",
    "import glob\n",
    "import os\n",
    "\n",
    "os.environ[\"CALITP_BQ_MAX_BYTES\"] = str(100_000_000_000)\n",
    "\n",
    "from calitp.tables import tbl\n",
    "from calitp import query_sql\n",
    "from siuba import *\n",
    "\n",
    "import prep_data2 as prep_data\n",
    "\n",
    "DATA_PATH = \"./data/test/\""
   ]
  },
  {
   "cell_type": "code",
   "execution_count": 3,
   "id": "bef738c2-cd90-4fbf-bd80-c20525e4e4e6",
   "metadata": {},
   "outputs": [
    {
     "name": "stdout",
     "output_type": "stream",
     "text": [
      "Read in data: 0:00:01.386307\n"
     ]
    }
   ],
   "source": [
    "from datetime import datetime\n",
    "\n",
    "time0 = datetime.now()\n",
    "\n",
    "# Read in local parquets\n",
    "stops = pd.read_parquet(f\"{DATA_PATH}stops.parquet\")\n",
    "trips = pd.read_parquet(f\"{DATA_PATH}trips.parquet\")\n",
    "route_info = pd.read_parquet(f\"{DATA_PATH}route_info.parquet\")\n",
    "routes = gpd.read_parquet(f\"{DATA_PATH}routes.parquet\")\n",
    "latest_itp_id = pd.read_parquet(f\"{DATA_PATH}latest_itp_id.parquet\")\n",
    "\n",
    "time1 = datetime.now()\n",
    "print(f\"Read in data: {time1-time0}\")"
   ]
  },
  {
   "cell_type": "code",
   "execution_count": 4,
   "id": "86db264a-d8bd-4b91-9267-ea50c4a6a4c9",
   "metadata": {},
   "outputs": [],
   "source": [
    "# Left only means in trips, but shape_id not found in shapes.txt\n",
    "# right only means in routes, but no route that has that shape_id \n",
    "# We probably should keep how = \"left\"?\n",
    "# left only means we can assemble from stop sequence?\n",
    "routes1 = pd.merge(\n",
    "        trips,\n",
    "        routes,\n",
    "        on = [\"calitp_itp_id\", \"shape_id\"],\n",
    "        how = \"left\",\n",
    "        validate = \"m:1\",\n",
    "        indicator=True\n",
    "    )\n"
   ]
  },
  {
   "cell_type": "code",
   "execution_count": 5,
   "id": "b7bdff62-7714-4ade-9fb3-1907c771ac54",
   "metadata": {},
   "outputs": [
    {
     "data": {
      "text/plain": [
       "both          7832\n",
       "left_only      150\n",
       "right_only       0\n",
       "Name: _merge, dtype: int64"
      ]
     },
     "execution_count": 5,
     "metadata": {},
     "output_type": "execute_result"
    }
   ],
   "source": [
    "routes1._merge.value_counts()"
   ]
  },
  {
   "cell_type": "code",
   "execution_count": 6,
   "id": "93aae43d-0712-48da-b380-a033db30eee2",
   "metadata": {},
   "outputs": [
    {
     "data": {
      "text/html": [
       "<div>\n",
       "<style scoped>\n",
       "    .dataframe tbody tr th:only-of-type {\n",
       "        vertical-align: middle;\n",
       "    }\n",
       "\n",
       "    .dataframe tbody tr th {\n",
       "        vertical-align: top;\n",
       "    }\n",
       "\n",
       "    .dataframe thead th {\n",
       "        text-align: right;\n",
       "    }\n",
       "</style>\n",
       "<table border=\"1\" class=\"dataframe\">\n",
       "  <thead>\n",
       "    <tr style=\"text-align: right;\">\n",
       "      <th></th>\n",
       "      <th>calitp_itp_id</th>\n",
       "      <th>route_id</th>\n",
       "      <th>shape_id</th>\n",
       "    </tr>\n",
       "  </thead>\n",
       "  <tbody>\n",
       "    <tr>\n",
       "      <th>0</th>\n",
       "      <td>301</td>\n",
       "      <td>8</td>\n",
       "      <td>1232_shp</td>\n",
       "    </tr>\n",
       "    <tr>\n",
       "      <th>1</th>\n",
       "      <td>301</td>\n",
       "      <td>6</td>\n",
       "      <td>1205_shp</td>\n",
       "    </tr>\n",
       "  </tbody>\n",
       "</table>\n",
       "</div>"
      ],
      "text/plain": [
       "   calitp_itp_id route_id  shape_id\n",
       "0            301        8  1232_shp\n",
       "1            301        6  1205_shp"
      ]
     },
     "execution_count": 6,
     "metadata": {},
     "output_type": "execute_result"
    }
   ],
   "source": [
    "missing_shapes = (routes1[routes1._merge==\"left_only\"]\n",
    "      .drop(columns = [\"geometry\", \"_merge\"])\n",
    "      .reset_index(drop=True)\n",
    "     )\n",
    "\n",
    "missing_shapes.head(2)"
   ]
  },
  {
   "cell_type": "code",
   "execution_count": 46,
   "id": "fbc7d39d-b090-4ecc-8059-52337b552e70",
   "metadata": {},
   "outputs": [],
   "source": [
    "SELECTED_DATE = \"2022-3-15\"\n",
    "\n",
    "trip_cols = [\"calitp_itp_id\", \"route_id\", \"shape_id\"]\n",
    "\n",
    "dim_trips = (tbl.views.gtfs_schedule_dim_trips()\n",
    "             # filter first to just the smaller set of IDs in missing_shapes\n",
    "             >> filter(_.calitp_itp_id.isin(missing_shapes.calitp_itp_id))\n",
    "             # Now find those shape_ids and trips associated\n",
    "             >> filter(_.shape_id.isin(missing_shapes.shape_id))\n",
    "             >> select(*trip_cols, _.trip_key)\n",
    "             >> distinct()\n",
    "            )\n",
    "\n",
    "missing_trips = (\n",
    "    tbl.views.gtfs_schedule_fact_daily_trips()\n",
    "    >> filter(_.service_date == SELECTED_DATE, \n",
    "           _.is_in_service==True)\n",
    "    >> select(_.trip_key, _.trip_id)\n",
    "    >> inner_join(_, dim_trips, on = \"trip_key\")\n",
    "    >> distinct()\n",
    "    >> collect()\n",
    ")\n"
   ]
  },
  {
   "cell_type": "code",
   "execution_count": 47,
   "id": "72b4a969-6ff3-4b6c-a12d-e76887fcc9cc",
   "metadata": {},
   "outputs": [],
   "source": [
    "# Since there are multiple trips, we'll sort the same way, and keep the first one\n",
    "group_cols = [\"calitp_itp_id\", \"route_id\", \"shape_id\"]\n",
    "missing_trips2 = (missing_trips.sort_values(group_cols + [\"trip_id\"])\n",
    "                  .drop_duplicates(subset=group_cols)\n",
    "                  .reset_index(drop=True)\n",
    ")"
   ]
  },
  {
   "cell_type": "code",
   "execution_count": 48,
   "id": "a31dbeb1-233b-4614-ad73-d2d2e208ce6f",
   "metadata": {},
   "outputs": [
    {
     "data": {
      "text/html": [
       "<div>\n",
       "<style scoped>\n",
       "    .dataframe tbody tr th:only-of-type {\n",
       "        vertical-align: middle;\n",
       "    }\n",
       "\n",
       "    .dataframe tbody tr th {\n",
       "        vertical-align: top;\n",
       "    }\n",
       "\n",
       "    .dataframe thead th {\n",
       "        text-align: right;\n",
       "    }\n",
       "</style>\n",
       "<table border=\"1\" class=\"dataframe\">\n",
       "  <thead>\n",
       "    <tr style=\"text-align: right;\">\n",
       "      <th></th>\n",
       "      <th>trip_key</th>\n",
       "      <th>trip_id</th>\n",
       "      <th>calitp_itp_id</th>\n",
       "      <th>route_id</th>\n",
       "      <th>shape_id</th>\n",
       "    </tr>\n",
       "  </thead>\n",
       "  <tbody>\n",
       "    <tr>\n",
       "      <th>0</th>\n",
       "      <td>2608222843436200649</td>\n",
       "      <td>10001020</td>\n",
       "      <td>4</td>\n",
       "      <td>18</td>\n",
       "      <td>shp-18-18</td>\n",
       "    </tr>\n",
       "    <tr>\n",
       "      <th>1</th>\n",
       "      <td>-4284942941671306430</td>\n",
       "      <td>13543020</td>\n",
       "      <td>4</td>\n",
       "      <td>21</td>\n",
       "      <td>shp-21-13</td>\n",
       "    </tr>\n",
       "    <tr>\n",
       "      <th>2</th>\n",
       "      <td>8481064942467690783</td>\n",
       "      <td>10843020</td>\n",
       "      <td>4</td>\n",
       "      <td>215</td>\n",
       "      <td>shp-215-67</td>\n",
       "    </tr>\n",
       "    <tr>\n",
       "      <th>3</th>\n",
       "      <td>-5710070409613492543</td>\n",
       "      <td>1044020</td>\n",
       "      <td>4</td>\n",
       "      <td>239</td>\n",
       "      <td>shp-239-57</td>\n",
       "    </tr>\n",
       "    <tr>\n",
       "      <th>4</th>\n",
       "      <td>-7953694877841381049</td>\n",
       "      <td>11882020</td>\n",
       "      <td>4</td>\n",
       "      <td>28</td>\n",
       "      <td>shp-28-09</td>\n",
       "    </tr>\n",
       "  </tbody>\n",
       "</table>\n",
       "</div>"
      ],
      "text/plain": [
       "              trip_key   trip_id  calitp_itp_id route_id    shape_id\n",
       "0  2608222843436200649  10001020              4       18   shp-18-18\n",
       "1 -4284942941671306430  13543020              4       21   shp-21-13\n",
       "2  8481064942467690783  10843020              4      215  shp-215-67\n",
       "3 -5710070409613492543   1044020              4      239  shp-239-57\n",
       "4 -7953694877841381049  11882020              4       28   shp-28-09"
      ]
     },
     "execution_count": 48,
     "metadata": {},
     "output_type": "execute_result"
    }
   ],
   "source": [
    "missing_trips2.head()"
   ]
  },
  {
   "cell_type": "code",
   "execution_count": 51,
   "id": "1ac956a8-a931-4635-94c0-c6905686bf78",
   "metadata": {},
   "outputs": [
    {
     "data": {
      "text/plain": [
       "104"
      ]
     },
     "execution_count": 51,
     "metadata": {},
     "output_type": "execute_result"
    }
   ],
   "source": [
    "len(missing_trips2)"
   ]
  },
  {
   "cell_type": "code",
   "execution_count": 52,
   "id": "3879a8f7-2f24-4c27-bd89-1b2acb835c39",
   "metadata": {},
   "outputs": [
    {
     "ename": "AttributeError",
     "evalue": "'DataFrame' object has no attribute 'last_op'",
     "output_type": "error",
     "traceback": [
      "\u001b[0;31m---------------------------------------------------------------------------\u001b[0m",
      "\u001b[0;31mAttributeError\u001b[0m                            Traceback (most recent call last)",
      "Input \u001b[0;32mIn [52]\u001b[0m, in \u001b[0;36m<cell line: 2>\u001b[0;34m()\u001b[0m\n\u001b[1;32m      1\u001b[0m stop_info_trips \u001b[38;5;241m=\u001b[39m (\n\u001b[0;32m----> 2\u001b[0m     \u001b[43mtbl\u001b[49m\u001b[38;5;241;43m.\u001b[39;49m\u001b[43mviews\u001b[49m\u001b[38;5;241;43m.\u001b[39;49m\u001b[43mgtfs_schedule_dim_stop_times\u001b[49m\u001b[43m(\u001b[49m\u001b[43m)\u001b[49m\n\u001b[1;32m      3\u001b[0m \u001b[43m    \u001b[49m\u001b[38;5;241;43m>>\u001b[39;49m\u001b[43m \u001b[49m\u001b[43minner_join\u001b[49m\u001b[43m(\u001b[49m\u001b[43m_\u001b[49m\u001b[43m,\u001b[49m\u001b[43m \u001b[49m\n\u001b[1;32m      4\u001b[0m \u001b[43m                  \u001b[49m\u001b[43mmissing_trips2\u001b[49m\u001b[43m,\u001b[49m\u001b[43m \u001b[49m\n\u001b[1;32m      5\u001b[0m \u001b[43m                  \u001b[49m\u001b[43mon\u001b[49m\u001b[43m \u001b[49m\u001b[38;5;241;43m=\u001b[39;49m\u001b[43m \u001b[49m\u001b[43m[\u001b[49m\u001b[38;5;124;43m\"\u001b[39;49m\u001b[38;5;124;43mcalitp_itp_id\u001b[39;49m\u001b[38;5;124;43m\"\u001b[39;49m\u001b[43m,\u001b[49m\u001b[43m \u001b[49m\u001b[38;5;124;43m\"\u001b[39;49m\u001b[38;5;124;43mtrip_id\u001b[39;49m\u001b[38;5;124;43m\"\u001b[39;49m\u001b[43m]\u001b[49m\n\u001b[1;32m      6\u001b[0m \u001b[43m                 \u001b[49m\u001b[43m)\u001b[49m\n\u001b[1;32m      7\u001b[0m     \u001b[38;5;241m>>\u001b[39m distinct()\n\u001b[1;32m      8\u001b[0m     \u001b[38;5;241m>>\u001b[39m inner_join(_,\n\u001b[1;32m      9\u001b[0m                   tbl\u001b[38;5;241m.\u001b[39mviews\u001b[38;5;241m.\u001b[39mgtfs_schedule_dim_stops(), \n\u001b[1;32m     10\u001b[0m                   on \u001b[38;5;241m=\u001b[39m [\u001b[38;5;124m\"\u001b[39m\u001b[38;5;124mcalitp_itp_id\u001b[39m\u001b[38;5;124m\"\u001b[39m, \u001b[38;5;124m\"\u001b[39m\u001b[38;5;124mstop_id\u001b[39m\u001b[38;5;124m\"\u001b[39m])\n\u001b[1;32m     11\u001b[0m     \u001b[38;5;241m>>\u001b[39m select(_\u001b[38;5;241m.\u001b[39mcalitp_itp_id, _\u001b[38;5;241m.\u001b[39mtrip_id, \n\u001b[1;32m     12\u001b[0m               _\u001b[38;5;241m.\u001b[39mroute_id,\n\u001b[1;32m     13\u001b[0m               _\u001b[38;5;241m.\u001b[39mstop_id, _\u001b[38;5;241m.\u001b[39mstop_sequence,\n\u001b[1;32m     14\u001b[0m               _\u001b[38;5;241m.\u001b[39mstop_lon, _\u001b[38;5;241m.\u001b[39mstop_lat)\n\u001b[1;32m     15\u001b[0m     \u001b[38;5;241m>>\u001b[39m distinct()\n\u001b[1;32m     16\u001b[0m )\n",
      "File \u001b[0;32m/opt/conda/lib/python3.9/site-packages/siuba/dply/verbs.py:99\u001b[0m, in \u001b[0;36mPipeable.__rrshift__\u001b[0;34m(self, x)\u001b[0m\n\u001b[1;32m     96\u001b[0m \u001b[38;5;28;01melif\u001b[39;00m callable(x):\n\u001b[1;32m     97\u001b[0m     \u001b[38;5;28;01mreturn\u001b[39;00m Pipeable(calls \u001b[38;5;241m=\u001b[39m [x] \u001b[38;5;241m+\u001b[39m \u001b[38;5;28mself\u001b[39m\u001b[38;5;241m.\u001b[39mcalls)\n\u001b[0;32m---> 99\u001b[0m \u001b[38;5;28;01mreturn\u001b[39;00m \u001b[38;5;28;43mself\u001b[39;49m\u001b[43m(\u001b[49m\u001b[43mx\u001b[49m\u001b[43m)\u001b[49m\n",
      "File \u001b[0;32m/opt/conda/lib/python3.9/site-packages/siuba/dply/verbs.py:104\u001b[0m, in \u001b[0;36mPipeable.__call__\u001b[0;34m(self, x)\u001b[0m\n\u001b[1;32m    102\u001b[0m res \u001b[38;5;241m=\u001b[39m x\n\u001b[1;32m    103\u001b[0m \u001b[38;5;28;01mfor\u001b[39;00m f \u001b[38;5;129;01min\u001b[39;00m \u001b[38;5;28mself\u001b[39m\u001b[38;5;241m.\u001b[39mcalls:\n\u001b[0;32m--> 104\u001b[0m     res \u001b[38;5;241m=\u001b[39m \u001b[43mf\u001b[49m\u001b[43m(\u001b[49m\u001b[43mres\u001b[49m\u001b[43m)\u001b[49m\n\u001b[1;32m    105\u001b[0m \u001b[38;5;28;01mreturn\u001b[39;00m res\n",
      "File \u001b[0;32m/opt/conda/lib/python3.9/site-packages/siuba/siu.py:203\u001b[0m, in \u001b[0;36mCall.__call__\u001b[0;34m(self, x)\u001b[0m\n\u001b[1;32m    201\u001b[0m     \u001b[38;5;28;01mreturn\u001b[39;00m operator\u001b[38;5;241m.\u001b[39mgetitem(inst, \u001b[38;5;241m*\u001b[39mrest)\n\u001b[1;32m    202\u001b[0m \u001b[38;5;28;01melif\u001b[39;00m \u001b[38;5;28mself\u001b[39m\u001b[38;5;241m.\u001b[39mfunc \u001b[38;5;241m==\u001b[39m \u001b[38;5;124m\"\u001b[39m\u001b[38;5;124m__call__\u001b[39m\u001b[38;5;124m\"\u001b[39m:\n\u001b[0;32m--> 203\u001b[0m     \u001b[38;5;28;01mreturn\u001b[39;00m \u001b[38;5;28;43mgetattr\u001b[39;49m\u001b[43m(\u001b[49m\u001b[43minst\u001b[49m\u001b[43m,\u001b[49m\u001b[43m \u001b[49m\u001b[38;5;28;43mself\u001b[39;49m\u001b[38;5;241;43m.\u001b[39;49m\u001b[43mfunc\u001b[49m\u001b[43m)\u001b[49m\u001b[43m(\u001b[49m\u001b[38;5;241;43m*\u001b[39;49m\u001b[43mrest\u001b[49m\u001b[43m,\u001b[49m\u001b[43m \u001b[49m\u001b[38;5;241;43m*\u001b[39;49m\u001b[38;5;241;43m*\u001b[39;49m\u001b[43mkwargs\u001b[49m\u001b[43m)\u001b[49m\n\u001b[1;32m    205\u001b[0m \u001b[38;5;66;03m# in normal case, get method to call, and then call it\u001b[39;00m\n\u001b[1;32m    206\u001b[0m f_op \u001b[38;5;241m=\u001b[39m \u001b[38;5;28mgetattr\u001b[39m(operator, \u001b[38;5;28mself\u001b[39m\u001b[38;5;241m.\u001b[39mfunc)\n",
      "File \u001b[0;32m/opt/conda/lib/python3.9/functools.py:888\u001b[0m, in \u001b[0;36msingledispatch.<locals>.wrapper\u001b[0;34m(*args, **kw)\u001b[0m\n\u001b[1;32m    884\u001b[0m \u001b[38;5;28;01mif\u001b[39;00m \u001b[38;5;129;01mnot\u001b[39;00m args:\n\u001b[1;32m    885\u001b[0m     \u001b[38;5;28;01mraise\u001b[39;00m \u001b[38;5;167;01mTypeError\u001b[39;00m(\u001b[38;5;124mf\u001b[39m\u001b[38;5;124m'\u001b[39m\u001b[38;5;132;01m{\u001b[39;00mfuncname\u001b[38;5;132;01m}\u001b[39;00m\u001b[38;5;124m requires at least \u001b[39m\u001b[38;5;124m'\u001b[39m\n\u001b[1;32m    886\u001b[0m                     \u001b[38;5;124m'\u001b[39m\u001b[38;5;124m1 positional argument\u001b[39m\u001b[38;5;124m'\u001b[39m)\n\u001b[0;32m--> 888\u001b[0m \u001b[38;5;28;01mreturn\u001b[39;00m \u001b[43mdispatch\u001b[49m\u001b[43m(\u001b[49m\u001b[43margs\u001b[49m\u001b[43m[\u001b[49m\u001b[38;5;241;43m0\u001b[39;49m\u001b[43m]\u001b[49m\u001b[38;5;241;43m.\u001b[39;49m\u001b[38;5;18;43m__class__\u001b[39;49m\u001b[43m)\u001b[49m\u001b[43m(\u001b[49m\u001b[38;5;241;43m*\u001b[39;49m\u001b[43margs\u001b[49m\u001b[43m,\u001b[49m\u001b[43m \u001b[49m\u001b[38;5;241;43m*\u001b[39;49m\u001b[38;5;241;43m*\u001b[39;49m\u001b[43mkw\u001b[49m\u001b[43m)\u001b[49m\n",
      "File \u001b[0;32m/opt/conda/lib/python3.9/site-packages/siuba/sql/verbs.py:886\u001b[0m, in \u001b[0;36m_join\u001b[0;34m(left, right, on, how, sql_on, *args)\u001b[0m\n\u001b[1;32m    884\u001b[0m \u001b[38;5;66;03m# Needs to be on the table, not the select\u001b[39;00m\n\u001b[1;32m    885\u001b[0m left_sel \u001b[38;5;241m=\u001b[39m left\u001b[38;5;241m.\u001b[39mlast_op\u001b[38;5;241m.\u001b[39malias()\n\u001b[0;32m--> 886\u001b[0m right_sel \u001b[38;5;241m=\u001b[39m \u001b[43mright\u001b[49m\u001b[38;5;241;43m.\u001b[39;49m\u001b[43mlast_op\u001b[49m\u001b[38;5;241m.\u001b[39malias()\n\u001b[1;32m    888\u001b[0m \u001b[38;5;66;03m# handle arguments ----\u001b[39;00m\n\u001b[1;32m    889\u001b[0m on  \u001b[38;5;241m=\u001b[39m _validate_join_arg_on(on, sql_on)\n",
      "File \u001b[0;32m/opt/conda/lib/python3.9/site-packages/pandas/core/generic.py:5583\u001b[0m, in \u001b[0;36mNDFrame.__getattr__\u001b[0;34m(self, name)\u001b[0m\n\u001b[1;32m   5576\u001b[0m \u001b[38;5;28;01mif\u001b[39;00m (\n\u001b[1;32m   5577\u001b[0m     name \u001b[38;5;129;01mnot\u001b[39;00m \u001b[38;5;129;01min\u001b[39;00m \u001b[38;5;28mself\u001b[39m\u001b[38;5;241m.\u001b[39m_internal_names_set\n\u001b[1;32m   5578\u001b[0m     \u001b[38;5;129;01mand\u001b[39;00m name \u001b[38;5;129;01mnot\u001b[39;00m \u001b[38;5;129;01min\u001b[39;00m \u001b[38;5;28mself\u001b[39m\u001b[38;5;241m.\u001b[39m_metadata\n\u001b[1;32m   5579\u001b[0m     \u001b[38;5;129;01mand\u001b[39;00m name \u001b[38;5;129;01mnot\u001b[39;00m \u001b[38;5;129;01min\u001b[39;00m \u001b[38;5;28mself\u001b[39m\u001b[38;5;241m.\u001b[39m_accessors\n\u001b[1;32m   5580\u001b[0m     \u001b[38;5;129;01mand\u001b[39;00m \u001b[38;5;28mself\u001b[39m\u001b[38;5;241m.\u001b[39m_info_axis\u001b[38;5;241m.\u001b[39m_can_hold_identifiers_and_holds_name(name)\n\u001b[1;32m   5581\u001b[0m ):\n\u001b[1;32m   5582\u001b[0m     \u001b[38;5;28;01mreturn\u001b[39;00m \u001b[38;5;28mself\u001b[39m[name]\n\u001b[0;32m-> 5583\u001b[0m \u001b[38;5;28;01mreturn\u001b[39;00m \u001b[38;5;28;43mobject\u001b[39;49m\u001b[38;5;241;43m.\u001b[39;49m\u001b[38;5;21;43m__getattribute__\u001b[39;49m\u001b[43m(\u001b[49m\u001b[38;5;28;43mself\u001b[39;49m\u001b[43m,\u001b[49m\u001b[43m \u001b[49m\u001b[43mname\u001b[49m\u001b[43m)\u001b[49m\n",
      "\u001b[0;31mAttributeError\u001b[0m: 'DataFrame' object has no attribute 'last_op'"
     ]
    }
   ],
   "source": [
    "stop_info_trips = (\n",
    "    tbl.views.gtfs_schedule_dim_stop_times()\n",
    "    >> filter(_.calitp_itp_id.isin(missing_trips2.calitp_itp_id))\n",
    "    #>> filter(_.trip_id.isin(missing_trips2.trip_id))\n",
    "    >> inner_join(_, \n",
    "                  missing_trips2, \n",
    "                  on = [\"calitp_itp_id\", \"trip_id\"]\n",
    "                 )\n",
    "    >> distinct()\n",
    "    >> inner_join(_,\n",
    "                  tbl.views.gtfs_schedule_dim_stops(), \n",
    "                  on = [\"calitp_itp_id\", \"stop_id\"])\n",
    "    >> select(_.calitp_itp_id, _.trip_id, \n",
    "              _.route_id,\n",
    "              _.stop_id, _.stop_sequence,\n",
    "              _.stop_lon, _.stop_lat)\n",
    "    >> distinct()\n",
    ")"
   ]
  },
  {
   "cell_type": "code",
   "execution_count": 10,
   "id": "f706ad88-1ebc-4d6a-8f17-3f0eaf2178c8",
   "metadata": {},
   "outputs": [],
   "source": [
    "stops_df = stop_info >> collect()"
   ]
  },
  {
   "cell_type": "code",
   "execution_count": 11,
   "id": "264d5491-0059-4add-9fd4-5bd2dccd41e6",
   "metadata": {},
   "outputs": [
    {
     "data": {
      "text/plain": [
       "243160"
      ]
     },
     "execution_count": 11,
     "metadata": {},
     "output_type": "execute_result"
    }
   ],
   "source": [
    "len(stops_df)"
   ]
  },
  {
   "cell_type": "code",
   "execution_count": 12,
   "id": "7f508911-d1d4-4889-a5f8-f0c673f84c6c",
   "metadata": {},
   "outputs": [],
   "source": [
    "# Somehow, getting back some multiple points for same trip_id, stop_id\n",
    "stops_df = (stops_df.sort_values([\"calitp_itp_id\", \"trip_id\", \"stop_id\"])\n",
    "            .drop_duplicates(subset=[\"calitp_itp_id\", \"trip_id\", \"stop_id\"])\n",
    "            .reset_index(drop=True)\n",
    "           )"
   ]
  },
  {
   "cell_type": "code",
   "execution_count": 13,
   "id": "d2928a2d-47e2-4232-b28b-0a908ebaf2b4",
   "metadata": {},
   "outputs": [
    {
     "data": {
      "text/plain": [
       "230281"
      ]
     },
     "execution_count": 13,
     "metadata": {},
     "output_type": "execute_result"
    }
   ],
   "source": [
    "len(stops_df)"
   ]
  },
  {
   "cell_type": "code",
   "execution_count": 14,
   "id": "48e52662-7d7c-4143-ae43-c6eda5d955e6",
   "metadata": {},
   "outputs": [
    {
     "name": "stderr",
     "output_type": "stream",
     "text": [
      "/tmp/ipykernel_322/1288799387.py:4: UserWarning: Boolean Series key will be reindexed to match DataFrame index.\n",
      "  stops_df.sort_values([\"calitp_itp_id\", \"route_id\", \"trip_id\", \"stop_sequence\"])[\n"
     ]
    },
    {
     "data": {
      "text/html": [
       "<div>\n",
       "<style scoped>\n",
       "    .dataframe tbody tr th:only-of-type {\n",
       "        vertical-align: middle;\n",
       "    }\n",
       "\n",
       "    .dataframe tbody tr th {\n",
       "        vertical-align: top;\n",
       "    }\n",
       "\n",
       "    .dataframe thead th {\n",
       "        text-align: right;\n",
       "    }\n",
       "</style>\n",
       "<table border=\"1\" class=\"dataframe\">\n",
       "  <thead>\n",
       "    <tr style=\"text-align: right;\">\n",
       "      <th></th>\n",
       "      <th>calitp_itp_id</th>\n",
       "      <th>trip_id</th>\n",
       "      <th>route_id</th>\n",
       "      <th>stop_id</th>\n",
       "      <th>stop_sequence</th>\n",
       "      <th>stop_lon</th>\n",
       "      <th>stop_lat</th>\n",
       "    </tr>\n",
       "  </thead>\n",
       "  <tbody>\n",
       "    <tr>\n",
       "      <th>11</th>\n",
       "      <td>4</td>\n",
       "      <td>10001020</td>\n",
       "      <td>18</td>\n",
       "      <td>1584</td>\n",
       "      <td>1</td>\n",
       "      <td>-122.086950</td>\n",
       "      <td>37.669892</td>\n",
       "    </tr>\n",
       "    <tr>\n",
       "      <th>18</th>\n",
       "      <td>4</td>\n",
       "      <td>10001020</td>\n",
       "      <td>18</td>\n",
       "      <td>2309</td>\n",
       "      <td>1</td>\n",
       "      <td>-122.265807</td>\n",
       "      <td>37.797160</td>\n",
       "    </tr>\n",
       "    <tr>\n",
       "      <th>92</th>\n",
       "      <td>4</td>\n",
       "      <td>10001020</td>\n",
       "      <td>18</td>\n",
       "      <td>50555</td>\n",
       "      <td>1</td>\n",
       "      <td>-122.086950</td>\n",
       "      <td>37.669892</td>\n",
       "    </tr>\n",
       "    <tr>\n",
       "      <th>164</th>\n",
       "      <td>4</td>\n",
       "      <td>10001020</td>\n",
       "      <td>18</td>\n",
       "      <td>55833</td>\n",
       "      <td>1</td>\n",
       "      <td>-122.265807</td>\n",
       "      <td>37.797160</td>\n",
       "    </tr>\n",
       "    <tr>\n",
       "      <th>10</th>\n",
       "      <td>4</td>\n",
       "      <td>10001020</td>\n",
       "      <td>18</td>\n",
       "      <td>1479</td>\n",
       "      <td>2</td>\n",
       "      <td>-122.083060</td>\n",
       "      <td>37.670918</td>\n",
       "    </tr>\n",
       "    <tr>\n",
       "      <th>...</th>\n",
       "      <td>...</td>\n",
       "      <td>...</td>\n",
       "      <td>...</td>\n",
       "      <td>...</td>\n",
       "      <td>...</td>\n",
       "      <td>...</td>\n",
       "      <td>...</td>\n",
       "    </tr>\n",
       "    <tr>\n",
       "      <th>200353</th>\n",
       "      <td>4</td>\n",
       "      <td>9395020</td>\n",
       "      <td>18</td>\n",
       "      <td>6065</td>\n",
       "      <td>59</td>\n",
       "      <td>-122.222245</td>\n",
       "      <td>37.773170</td>\n",
       "    </tr>\n",
       "    <tr>\n",
       "      <th>200179</th>\n",
       "      <td>4</td>\n",
       "      <td>9395020</td>\n",
       "      <td>18</td>\n",
       "      <td>2839</td>\n",
       "      <td>60</td>\n",
       "      <td>-122.225458</td>\n",
       "      <td>37.775518</td>\n",
       "    </tr>\n",
       "    <tr>\n",
       "      <th>200244</th>\n",
       "      <td>4</td>\n",
       "      <td>9395020</td>\n",
       "      <td>18</td>\n",
       "      <td>51769</td>\n",
       "      <td>60</td>\n",
       "      <td>-122.299531</td>\n",
       "      <td>37.884226</td>\n",
       "    </tr>\n",
       "    <tr>\n",
       "      <th>200309</th>\n",
       "      <td>4</td>\n",
       "      <td>9395020</td>\n",
       "      <td>18</td>\n",
       "      <td>55886</td>\n",
       "      <td>60</td>\n",
       "      <td>-122.225458</td>\n",
       "      <td>37.775518</td>\n",
       "    </tr>\n",
       "    <tr>\n",
       "      <th>200314</th>\n",
       "      <td>4</td>\n",
       "      <td>9395020</td>\n",
       "      <td>18</td>\n",
       "      <td>5654</td>\n",
       "      <td>60</td>\n",
       "      <td>-122.299531</td>\n",
       "      <td>37.884226</td>\n",
       "    </tr>\n",
       "  </tbody>\n",
       "</table>\n",
       "<p>11096 rows × 7 columns</p>\n",
       "</div>"
      ],
      "text/plain": [
       "        calitp_itp_id   trip_id route_id stop_id  stop_sequence    stop_lon  \\\n",
       "11                  4  10001020       18    1584              1 -122.086950   \n",
       "18                  4  10001020       18    2309              1 -122.265807   \n",
       "92                  4  10001020       18   50555              1 -122.086950   \n",
       "164                 4  10001020       18   55833              1 -122.265807   \n",
       "10                  4  10001020       18    1479              2 -122.083060   \n",
       "...               ...       ...      ...     ...            ...         ...   \n",
       "200353              4   9395020       18    6065             59 -122.222245   \n",
       "200179              4   9395020       18    2839             60 -122.225458   \n",
       "200244              4   9395020       18   51769             60 -122.299531   \n",
       "200309              4   9395020       18   55886             60 -122.225458   \n",
       "200314              4   9395020       18    5654             60 -122.299531   \n",
       "\n",
       "         stop_lat  \n",
       "11      37.669892  \n",
       "18      37.797160  \n",
       "92      37.669892  \n",
       "164     37.797160  \n",
       "10      37.670918  \n",
       "...           ...  \n",
       "200353  37.773170  \n",
       "200179  37.775518  \n",
       "200244  37.884226  \n",
       "200309  37.775518  \n",
       "200314  37.884226  \n",
       "\n",
       "[11096 rows x 7 columns]"
      ]
     },
     "execution_count": 14,
     "metadata": {},
     "output_type": "execute_result"
    }
   ],
   "source": [
    "# At this point, there are multiple trips associated with a route\n",
    "# This is expected\n",
    "# But, maybe after the line geometry is assembled, keep the longest distance trip for each route\n",
    "stops_df.sort_values([\"calitp_itp_id\", \"route_id\", \"trip_id\", \"stop_sequence\"])[\n",
    "    (stops_df.route_id==\"18\") & (stops_df.calitp_itp_id==4)\n",
    "]"
   ]
  },
  {
   "cell_type": "code",
   "execution_count": 15,
   "id": "91c26de2-9514-440c-ae0e-946d37902413",
   "metadata": {},
   "outputs": [],
   "source": [
    "# the edge cases are have route_id assigned to be shape_id\n",
    "# let's get rid of multiple trips now\n",
    "stops_df2 = (stops_df.sort_values([\"calitp_itp_id\", \"route_id\", \"trip_id\"\"])\n",
    "             .drop_duplicates(subset=[\"calitp_itp_id\", \"route_id\"])\n",
    "             .reset_index(drop=True)\n",
    "             # We don't have calitp_url_number\n",
    "             # Add it here, but get rid of it later\n",
    "             .assign(calitp_url_number=0)\n",
    "            )"
   ]
  },
  {
   "cell_type": "code",
   "execution_count": 26,
   "id": "3fded270-8e42-466f-91f8-86c8538c9374",
   "metadata": {},
   "outputs": [
    {
     "data": {
      "text/plain": [
       "230281"
      ]
     },
     "execution_count": 26,
     "metadata": {},
     "output_type": "execute_result"
    }
   ],
   "source": [
    "len(stops_df)"
   ]
  },
  {
   "cell_type": "code",
   "execution_count": 27,
   "id": "486ee54f-071a-4720-94ad-f87c303e4c3b",
   "metadata": {},
   "outputs": [
    {
     "data": {
      "text/plain": [
       "60"
      ]
     },
     "execution_count": 27,
     "metadata": {},
     "output_type": "execute_result"
    }
   ],
   "source": [
    "len(stops_df2)"
   ]
  },
  {
   "cell_type": "code",
   "execution_count": 16,
   "id": "01938e0d-12bf-47a4-923d-338730367ba2",
   "metadata": {},
   "outputs": [],
   "source": [
    "def make_routes_line_geom_for_missing_shapes(df, CRS=\"EPSG:4326\"):\n",
    "    \"\"\"\n",
    "    Parameters:\n",
    "    df: pandas.DataFrame.\n",
    "        Compile a dataframe from gtfs_schedule_trips.\n",
    "        Find the trips that aren't in `shapes.txt`.\n",
    "        https://github.com/cal-itp/data-analyses/blob/main/traffic_ops/create_routes_data.py#L63-L69\n",
    "        Use that dataframe here.\n",
    "    CRS: str, a projected coordinated reference system.\n",
    "            Defaults to EPSG:4326 (WGS84)\n",
    "    \"\"\"\n",
    "    if \"shape_id\" not in df.columns:\n",
    "        df = df.assign(shape_id=df.route_id)\n",
    "\n",
    "    # Make a gdf\n",
    "    gdf = gpd.GeoDataFrame(\n",
    "        df,\n",
    "        geometry=gpd.points_from_xy(df.stop_lon, df.stop_lat),\n",
    "        crs=WGS84,\n",
    "    )\n",
    "\n",
    "    # Count the number of stops for a given shape_id\n",
    "    # Must be > 1 (need at least 2 points to make a line)\n",
    "    gdf = gdf.assign(\n",
    "        num_stops=(gdf.groupby(\"shape_id\")[\"stop_sequence\"].transform(\"count\"))\n",
    "    )\n",
    "\n",
    "    # Drop the shape_ids that can't make a line\n",
    "    gdf = (\n",
    "        gdf[gdf.num_stops > 1]\n",
    "        .reset_index(drop=True)\n",
    "        .assign(stop_sequence=gdf.stop_sequence.astype(int))\n",
    "        .drop(columns=\"num_stops\")\n",
    "    )\n",
    "\n",
    "    # shapely make linestring with groupby\n",
    "    # https://gis.stackexchange.com/questions/366058/pandas-dataframe-to-shapely-linestring-using-groupby-sortby\n",
    "    group_cols = [\"calitp_itp_id\", \"calitp_url_number\", \"shape_id\"]\n",
    "\n",
    "    gdf2 = (\n",
    "        gdf.sort_values(group_cols + [\"stop_sequence\"])\n",
    "        .groupby(group_cols)[\"geometry\"]\n",
    "        .apply(lambda x: shapely.geometry.LineString(x.tolist()))\n",
    "    )\n",
    "\n",
    "    gdf2 = gpd.GeoDataFrame(gdf2, geometry=\"geometry\", crs=WGS84)\n",
    "    gdf2 = (\n",
    "        gdf2.to_crs(CRS)\n",
    "        .sort_values([\"calitp_itp_id\", \"calitp_url_number\", \"shape_id\"])\n",
    "        .drop_duplicates()\n",
    "        .reset_index(drop=True)\n",
    "    )\n",
    "\n",
    "    return "
   ]
  },
  {
   "cell_type": "code",
   "execution_count": 17,
   "id": "f9d15a36-434f-4d7e-865c-3e93411f6a4b",
   "metadata": {},
   "outputs": [],
   "source": [
    "df = stops_df2.copy()"
   ]
  },
  {
   "cell_type": "code",
   "execution_count": 25,
   "id": "16afcc74-6ad9-43b4-96b1-675a5d8f6e84",
   "metadata": {},
   "outputs": [
    {
     "data": {
      "text/plain": [
       "60"
      ]
     },
     "execution_count": 25,
     "metadata": {},
     "output_type": "execute_result"
    }
   ],
   "source": [
    "len(stops_df2)"
   ]
  },
  {
   "cell_type": "code",
   "execution_count": 23,
   "id": "1c014cf8-4eaf-4e94-8cde-9fc388c57325",
   "metadata": {},
   "outputs": [],
   "source": [
    "import utils\n",
    "WGS84=utils.WGS84\n",
    "\n",
    "if \"shape_id\" not in df.columns:\n",
    "    df = df.assign(shape_id=df.route_id)\n",
    "\n",
    "# Make a gdf\n",
    "gdf = gpd.GeoDataFrame(\n",
    "    df,\n",
    "    geometry=gpd.points_from_xy(df.stop_lon, df.stop_lat),\n",
    "    crs=WGS84,\n",
    ")"
   ]
  },
  {
   "cell_type": "code",
   "execution_count": 24,
   "id": "0d89565d-9f7f-436f-a9a1-6787eb471648",
   "metadata": {},
   "outputs": [
    {
     "name": "stdout",
     "output_type": "stream",
     "text": [
      "# obs to start: 60\n",
      "# obs after trips with only 1 stop removed: 8\n"
     ]
    }
   ],
   "source": [
    "# Count the number of stops for a given shape_id\n",
    "# Must be > 1 (need at least 2 points to make a line)\n",
    "print(f\"# obs to start: {len(gdf)}\")\n",
    "gdf = gdf.assign(\n",
    "    num_stops=(gdf.groupby(\"shape_id\")[\"stop_sequence\"].transform(\"count\"))\n",
    ")\n",
    "\n",
    "# Drop the shape_ids that can't make a line\n",
    "gdf = (\n",
    "    gdf[gdf.num_stops > 1]\n",
    "    .reset_index(drop=True)\n",
    "    .assign(stop_sequence=gdf.stop_sequence.astype(int))\n",
    "    .drop(columns=\"num_stops\")\n",
    ")\n",
    "\n",
    "print(f\"# obs after trips with only 1 stop removed: {len(gdf)}\")\n"
   ]
  },
  {
   "cell_type": "code",
   "execution_count": 21,
   "id": "511e1f32-7e53-4e8c-86b6-69e088cfdc74",
   "metadata": {},
   "outputs": [
    {
     "data": {
      "text/html": [
       "<div>\n",
       "<style scoped>\n",
       "    .dataframe tbody tr th:only-of-type {\n",
       "        vertical-align: middle;\n",
       "    }\n",
       "\n",
       "    .dataframe tbody tr th {\n",
       "        vertical-align: top;\n",
       "    }\n",
       "\n",
       "    .dataframe thead th {\n",
       "        text-align: right;\n",
       "    }\n",
       "</style>\n",
       "<table border=\"1\" class=\"dataframe\">\n",
       "  <thead>\n",
       "    <tr style=\"text-align: right;\">\n",
       "      <th></th>\n",
       "      <th>calitp_itp_id</th>\n",
       "      <th>trip_id</th>\n",
       "      <th>route_id</th>\n",
       "      <th>stop_id</th>\n",
       "      <th>stop_sequence</th>\n",
       "      <th>stop_lon</th>\n",
       "      <th>stop_lat</th>\n",
       "      <th>calitp_url_number</th>\n",
       "      <th>shape_id</th>\n",
       "      <th>geometry</th>\n",
       "    </tr>\n",
       "  </thead>\n",
       "  <tbody>\n",
       "    <tr>\n",
       "      <th>0</th>\n",
       "      <td>4</td>\n",
       "      <td>10001020</td>\n",
       "      <td>18</td>\n",
       "      <td>1430</td>\n",
       "      <td>5</td>\n",
       "      <td>-122.078886</td>\n",
       "      <td>37.674847</td>\n",
       "      <td>0</td>\n",
       "      <td>18</td>\n",
       "      <td>POINT (-122.07889 37.67485)</td>\n",
       "    </tr>\n",
       "    <tr>\n",
       "      <th>1</th>\n",
       "      <td>4</td>\n",
       "      <td>10023020</td>\n",
       "      <td>40</td>\n",
       "      <td>1441</td>\n",
       "      <td>25</td>\n",
       "      <td>-122.095696</td>\n",
       "      <td>37.668723</td>\n",
       "      <td>0</td>\n",
       "      <td>40</td>\n",
       "      <td>POINT (-122.09570 37.66872)</td>\n",
       "    </tr>\n",
       "    <tr>\n",
       "      <th>2</th>\n",
       "      <td>4</td>\n",
       "      <td>10161020</td>\n",
       "      <td>6</td>\n",
       "      <td>2033</td>\n",
       "      <td>27</td>\n",
       "      <td>-122.274464</td>\n",
       "      <td>37.802963</td>\n",
       "      <td>0</td>\n",
       "      <td>6</td>\n",
       "      <td>POINT (-122.27446 37.80296)</td>\n",
       "    </tr>\n",
       "    <tr>\n",
       "      <th>3</th>\n",
       "      <td>296</td>\n",
       "      <td>3762421-202220D-vs20222D-Weekday-09</td>\n",
       "      <td>10</td>\n",
       "      <td>1341R</td>\n",
       "      <td>35</td>\n",
       "      <td>-122.053680</td>\n",
       "      <td>36.977638</td>\n",
       "      <td>0</td>\n",
       "      <td>10</td>\n",
       "      <td>POINT (-122.05368 36.97764)</td>\n",
       "    </tr>\n",
       "    <tr>\n",
       "      <th>4</th>\n",
       "      <td>296</td>\n",
       "      <td>3762844-202220D-vs20222D-Weekday-09</td>\n",
       "      <td>40</td>\n",
       "      <td>1520R</td>\n",
       "      <td>61</td>\n",
       "      <td>-122.194145</td>\n",
       "      <td>37.010872</td>\n",
       "      <td>0</td>\n",
       "      <td>40</td>\n",
       "      <td>POINT (-122.19415 37.01087)</td>\n",
       "    </tr>\n",
       "    <tr>\n",
       "      <th>5</th>\n",
       "      <td>301</td>\n",
       "      <td>t2E9-b134-slC</td>\n",
       "      <td>10</td>\n",
       "      <td>80100</td>\n",
       "      <td>4</td>\n",
       "      <td>-122.713715</td>\n",
       "      <td>38.438690</td>\n",
       "      <td>0</td>\n",
       "      <td>10</td>\n",
       "      <td>POINT (-122.71371 38.43869)</td>\n",
       "    </tr>\n",
       "    <tr>\n",
       "      <th>6</th>\n",
       "      <td>301</td>\n",
       "      <td>t3FC-b137-slC</td>\n",
       "      <td>18</td>\n",
       "      <td>80100</td>\n",
       "      <td>2</td>\n",
       "      <td>-122.713715</td>\n",
       "      <td>38.438690</td>\n",
       "      <td>0</td>\n",
       "      <td>18</td>\n",
       "      <td>POINT (-122.71371 38.43869)</td>\n",
       "    </tr>\n",
       "    <tr>\n",
       "      <th>7</th>\n",
       "      <td>301</td>\n",
       "      <td>t267-b12D-slC</td>\n",
       "      <td>6</td>\n",
       "      <td>80100</td>\n",
       "      <td>30</td>\n",
       "      <td>-122.713715</td>\n",
       "      <td>38.438690</td>\n",
       "      <td>0</td>\n",
       "      <td>6</td>\n",
       "      <td>POINT (-122.71371 38.43869)</td>\n",
       "    </tr>\n",
       "  </tbody>\n",
       "</table>\n",
       "</div>"
      ],
      "text/plain": [
       "   calitp_itp_id                              trip_id route_id stop_id  \\\n",
       "0              4                             10001020       18    1430   \n",
       "1              4                             10023020       40    1441   \n",
       "2              4                             10161020        6    2033   \n",
       "3            296  3762421-202220D-vs20222D-Weekday-09       10   1341R   \n",
       "4            296  3762844-202220D-vs20222D-Weekday-09       40   1520R   \n",
       "5            301                        t2E9-b134-slC       10   80100   \n",
       "6            301                        t3FC-b137-slC       18   80100   \n",
       "7            301                        t267-b12D-slC        6   80100   \n",
       "\n",
       "   stop_sequence    stop_lon   stop_lat  calitp_url_number shape_id  \\\n",
       "0              5 -122.078886  37.674847                  0       18   \n",
       "1             25 -122.095696  37.668723                  0       40   \n",
       "2             27 -122.274464  37.802963                  0        6   \n",
       "3             35 -122.053680  36.977638                  0       10   \n",
       "4             61 -122.194145  37.010872                  0       40   \n",
       "5              4 -122.713715  38.438690                  0       10   \n",
       "6              2 -122.713715  38.438690                  0       18   \n",
       "7             30 -122.713715  38.438690                  0        6   \n",
       "\n",
       "                      geometry  \n",
       "0  POINT (-122.07889 37.67485)  \n",
       "1  POINT (-122.09570 37.66872)  \n",
       "2  POINT (-122.27446 37.80296)  \n",
       "3  POINT (-122.05368 36.97764)  \n",
       "4  POINT (-122.19415 37.01087)  \n",
       "5  POINT (-122.71371 38.43869)  \n",
       "6  POINT (-122.71371 38.43869)  \n",
       "7  POINT (-122.71371 38.43869)  "
      ]
     },
     "execution_count": 21,
     "metadata": {},
     "output_type": "execute_result"
    }
   ],
   "source": [
    "gdf"
   ]
  },
  {
   "cell_type": "code",
   "execution_count": null,
   "id": "0381c2fc-cb52-4bc9-bde1-8c35acd61b19",
   "metadata": {},
   "outputs": [],
   "source": [
    "for i in range(len(gdf)):\n",
    "    s = gdf.sort_values([\"calitp_itp_id\", \"shape_id\", \"stop_sequence\"])[\"shape_id\"].iloc[i]\n",
    "    print(s, type(s))"
   ]
  },
  {
   "cell_type": "code",
   "execution_count": null,
   "id": "6a1e20bd-151e-41a4-9b86-90c0e6f798e3",
   "metadata": {},
   "outputs": [],
   "source": [
    "gdf.drop_duplicates(subset=[\"calitp_itp_id\", \"shape_id\", \n",
    "                            \"stop_sequence\"]).sort_values(\n",
    "    [\"calitp_itp_id\", \"shape_id\"]\n",
    ")[gdf.route_id==\"18\"].plot()"
   ]
  },
  {
   "cell_type": "code",
   "execution_count": null,
   "id": "0b5c87d9-baa4-478c-bbd9-ebe5dc019d57",
   "metadata": {},
   "outputs": [],
   "source": [
    "group_cols = [\"calitp_itp_id\", \"calitp_url_number\", \"shape_id\"]\n",
    "gdf2 = (\n",
    "    gdf.sort_values(group_cols + [\"stop_sequence\"])\n",
    "    .groupby(group_cols)[\"geometry\"]\n",
    "    .apply(lambda x: shapely.geometry.LineString(x.tolist()))\n",
    ")\n"
   ]
  },
  {
   "cell_type": "code",
   "execution_count": null,
   "id": "c140a4be-b99f-4591-84b9-7c0d8a3e328e",
   "metadata": {},
   "outputs": [],
   "source": [
    "gdf"
   ]
  },
  {
   "cell_type": "code",
   "execution_count": null,
   "id": "51beb59a-78c8-4246-bf90-d6651ce8e691",
   "metadata": {},
   "outputs": [],
   "source": [
    " gdf2 = gpd.GeoDataFrame(gdf2, geometry=\"geometry\", crs=WGS84)\n",
    "    gdf2 = (\n",
    "        gdf2.to_crs(CRS)\n",
    "        .sort_values([\"calitp_itp_id\", \"calitp_url_number\", \"shape_id\"])\n",
    "        .drop_duplicates()\n",
    "        .reset_index(drop=True)\n",
    "    )"
   ]
  },
  {
   "cell_type": "code",
   "execution_count": null,
   "id": "e1d6b70f-7c2f-4d2a-a73d-dfa6014ace3e",
   "metadata": {},
   "outputs": [],
   "source": [
    "import utils\n",
    "import shapely\n",
    "\n",
    "WGS84 = utils.WGS84\n",
    "missing_line_geom = make_routes_line_geom_for_missing_shapes(stops_df2)"
   ]
  },
  {
   "cell_type": "code",
   "execution_count": null,
   "id": "b8b5f94e-2c75-4c1a-9858-183ff9683338",
   "metadata": {},
   "outputs": [],
   "source": [
    "#routes_part2 = prep_data.attach_route_name(stops_df, route_info)"
   ]
  },
  {
   "cell_type": "code",
   "execution_count": null,
   "id": "9072fd63-23ac-4e76-9ce2-5065fb8b1455",
   "metadata": {},
   "outputs": [],
   "source": [
    "missing_shapes[[\"calitp_itp_id\", \"shape_id\"]].drop_duplicates().shape"
   ]
  },
  {
   "cell_type": "code",
   "execution_count": null,
   "id": "62a53f4c-59b8-43b2-a0fb-235b5f842cf9",
   "metadata": {},
   "outputs": [],
   "source": [
    "# Loop through each operator\n",
    "# otherwise, as soon as collect() is used, kernel crashes\n",
    "all_missing_stops = pd.DataFrame()\n",
    "\n",
    "missing_ids = list(missing_shapes.calitp_itp_id.unique())\n",
    "\n",
    "for i in missing_ids:\n",
    "    missing_stops = (\n",
    "        missing_trips\n",
    "        >> filter(_.calitp_itp_id == int(i))\n",
    "        >> inner_join(_, stop_info,\n",
    "                      on = [\"calitp_itp_id\", \"trip_id\"])\n",
    "        >> collect()\n",
    "        >> inner_join(_, missing_shapes, \n",
    "                      on = [\"calitp_itp_id\", \"route_id\", \"shape_id\"])\n",
    "        )\n",
    "    \n",
    "    # Append the missing stops for each operator together\n",
    "    all_missing_stops = pd.concat([all_missing_stops, missing_stops], \n",
    "                                  ignore_index=True)\n",
    "    "
   ]
  },
  {
   "cell_type": "code",
   "execution_count": null,
   "id": "3b0e86d1-ca3e-4825-83c0-ffff9625397f",
   "metadata": {},
   "outputs": [],
   "source": [
    "all_missing_stops.head()\n"
   ]
  },
  {
   "cell_type": "code",
   "execution_count": null,
   "id": "4138f8c7-efc7-46b0-b268-8f2cee514786",
   "metadata": {},
   "outputs": [],
   "source": [
    "def routes_for_operators_in_shapes(routes, trips, route_info):\n",
    "    # Attach route_id from gtfs_schedule.trips, using shape_id\n",
    "    routes1 = pd.merge(\n",
    "        routes,\n",
    "        trips,\n",
    "        on = [\"calitp_itp_id\", \"shape_id\"],\n",
    "        # There are shape_ids that are left_only (1,600 obs)\n",
    "        how = \"inner\",\n",
    "        validate = \"1:m\",\n",
    "    )\n",
    "\n",
    "    routes_part1 = prep_data.attach_route_name(routes1, route_info)\n",
    "    return routes_part1\n"
   ]
  },
  {
   "cell_type": "code",
   "execution_count": null,
   "id": "bc789b9d-1d24-4f93-bf27-6251111eb88a",
   "metadata": {},
   "outputs": [],
   "source": [
    "routes_part1 = routes_for_operators_in_shapes(routes, trips, route_info)\n",
    "\n",
    "time2 = datetime.now()\n",
    "print(f\"Part 1 - routes for operator-routes in shapes.txt: {time2-time1}\")"
   ]
  },
  {
   "cell_type": "code",
   "execution_count": null,
   "id": "b1e4a6c4-076e-4e79-b095-4254d0adbeb0",
   "metadata": {},
   "outputs": [],
   "source": [
    "def grab_missing_stops(ITP_ID, missing_trips_df, stops_df):\n",
    "    df = (\n",
    "        tbl.gtfs_schedule.stop_times()\n",
    "        # Loop through individual operators, then do the join to find those trips\n",
    "        # until the issue that makes kernel restarts is fixed\n",
    "        >> filter(_.calitp_itp_id == ITP_ID)\n",
    "        >> select(_.calitp_itp_id, _.stop_id, _.stop_sequence, _.trip_id)\n",
    "        # Can't do isin without the collect()\n",
    "        # But collect() is what is making kernel restart / shutting down notebook\n",
    "        >> distinct()\n",
    "        >> collect()\n",
    "        >> inner_join(_, missing_trips_df, [\"calitp_itp_id\", \"trip_id\"])\n",
    "        >> inner_join(_, stops_df, [\"calitp_itp_id\", \"stop_id\"])\n",
    "    )\n",
    "    \n",
    "    return df\n",
    "\n",
    "\n",
    "\n",
    "\n",
    "\n",
    "\n"
   ]
  },
  {
   "cell_type": "code",
   "execution_count": null,
   "id": "a2691f98-2b32-4399-88cf-5a29bc5766b1",
   "metadata": {},
   "outputs": [],
   "source": [
    "def routes_for_operators_notin_shapes(routes_part1, stops, route_info):\n",
    "    # Find the stops that aren't in `shapes.txt`\n",
    "    missing_trips = (\n",
    "        tbl.gtfs_schedule.trips()\n",
    "        >> select(_.calitp_itp_id, _.route_id, _.shape_id, _.trip_id)\n",
    "        >> distinct()\n",
    "        >> collect()\n",
    "        >> filter(~_.shape_id.isin(routes_part1.shape_id))\n",
    "    )\n",
    "    \n",
    "    missing_trips_stops = grab_missing_stops(ITP_ID, missing_trips, stops)\n",
    "\n",
    "        \n",
    "    # Rename colums to match what's used in geography_utils\n",
    "    missing_trips_stops = missing_trips_stops.rename(\n",
    "        columns = {\"stop_lon\": \"shape_pt_lon\", \n",
    "                  \"stop_lat\": \"shape_pt_lat\",\n",
    "                   \"stop_sequence\": \"shape_pt_sequence\",\n",
    "                  }\n",
    "    )\n",
    "    \n",
    "    missing_trips_stops2 = utils.make_routes_shapefile(\n",
    "        LOOP_ME, CRS = utils.WGS84, \n",
    "        alternate_df=missing_trips_stops\n",
    "    )\n",
    "    \n",
    "    missing_trips_stops2.to_parquet(f\"{DATA_PATH}missing_routes.parquet\")\n",
    "\n",
    "    routes2 = pd.merge(\n",
    "        missing_trips_stops2,\n",
    "        (missing_trips_stops[[\"calitp_itp_id\", \"route_id\", \"shape_id\"]]\n",
    "         .assign(shape_id = missing_trips_stops.route_id)\n",
    "        .drop_duplicates()\n",
    "        ),\n",
    "        on = [\"calitp_itp_id\", \"shape_id\"],\n",
    "        how = \"inner\",\n",
    "        validate = \"1:m\",\n",
    "    )\n",
    "\n",
    "    # In geography_utils.make_routes_shapefile, when alternate_df is set,\n",
    "    # the shape_id is replaced with route_id (since shape_id is None)\n",
    "    # Change it back after route line geometry created\n",
    "    routes2 = routes2.assign(shape_id = None)\n",
    "    \n",
    "    routes_part2 = prep_data.attach_route_name(routes2, route_info)\n",
    "    return routes_part2"
   ]
  },
  {
   "cell_type": "code",
   "execution_count": null,
   "id": "fce6cb5a-036f-4d3c-9848-64c8d7df828b",
   "metadata": {},
   "outputs": [],
   "source": []
  },
  {
   "cell_type": "code",
   "execution_count": null,
   "id": "23c1a06b-ae16-469e-848d-31b099b7034c",
   "metadata": {},
   "outputs": [],
   "source": [
    "routes_part2 = routes_for_operators_notin_shapes(routes_part1, stops, route_info)\n",
    "    \n",
    "time3 = datetime.now()\n",
    "print(f\"Part 2 - routes for operator-routes not in shapes.txt: {time3-time2}\")\n"
   ]
  },
  {
   "cell_type": "code",
   "execution_count": null,
   "id": "7b254def-d7aa-4146-a4e1-09948ae09c8d",
   "metadata": {},
   "outputs": [],
   "source": [
    "routes_assembled = (routes_part1.append(routes_part2)\n",
    "                    .sort_values([\"calitp_itp_id\", \"route_id\"])\n",
    "                    .drop_duplicates()\n",
    "                    .reset_index(drop=True)\n",
    "                   )"
   ]
  },
  {
   "cell_type": "code",
   "execution_count": null,
   "id": "f5904ea3-1e8a-4ea4-b95d-aa87822f5464",
   "metadata": {},
   "outputs": [],
   "source": [
    "# Attach agency_id and agency_name using calitp_itp_id\n",
    "routes_assembled2 = prep_data.attach_agency_info(routes_assembled, agencies)\n",
    "\n",
    "routes_assembled2 = (prep_data.filter_latest_itp_id(routes_assembled2, \n",
    "                                                    latest_itp_id, \n",
    "                                                    itp_id_col = \"calitp_itp_id\")\n",
    "                     # Any renaming to be done before exporting\n",
    "                     .rename(columns = prep_data.RENAME_COLS)\n",
    "                     .sort_values([\"itp_id\", \"route_id\"])\n",
    "                     .reset_index(drop=True)\n",
    "                    )\n",
    "\n",
    "print(f\"Routes script total execution time: {time3-time0}\")"
   ]
  }
 ],
 "metadata": {
  "kernelspec": {
   "display_name": "Python 3 (ipykernel)",
   "language": "python",
   "name": "python3"
  },
  "language_info": {
   "codemirror_mode": {
    "name": "ipython",
    "version": 3
   },
   "file_extension": ".py",
   "mimetype": "text/x-python",
   "name": "python",
   "nbconvert_exporter": "python",
   "pygments_lexer": "ipython3",
   "version": "3.9.10"
  }
 },
 "nbformat": 4,
 "nbformat_minor": 5
}
