{
 "cells": [
  {
   "cell_type": "code",
   "execution_count": 1,
   "id": "337506ce-c516-46a7-bebf-f0651a245f53",
   "metadata": {},
   "outputs": [
    {
     "name": "stdout",
     "output_type": "stream",
     "text": [
      "Collecting sqlalchemy-bigquery\n",
      "  Using cached sqlalchemy_bigquery-1.4.3-py2.py3-none-any.whl (32 kB)\n",
      "Requirement already satisfied: google-auth<3.0.0dev,>=1.25.0 in /opt/conda/lib/python3.9/site-packages (from sqlalchemy-bigquery) (2.6.2)\n",
      "Collecting sqlalchemy<=1.4.27,>=1.2.0\n",
      "  Using cached SQLAlchemy-1.4.27-cp39-cp39-manylinux_2_5_x86_64.manylinux1_x86_64.manylinux_2_17_x86_64.manylinux2014_x86_64.whl (1.6 MB)\n",
      "Requirement already satisfied: future in /opt/conda/lib/python3.9/site-packages (from sqlalchemy-bigquery) (0.18.2)\n",
      "Requirement already satisfied: pyarrow<7.0dev,>=3.0.0 in /opt/conda/lib/python3.9/site-packages (from sqlalchemy-bigquery) (6.0.1)\n",
      "Requirement already satisfied: google-api-core!=2.0.*,!=2.1.*,!=2.2.*,!=2.3.0,<3.0.0dev,>=1.31.5 in /opt/conda/lib/python3.9/site-packages (from sqlalchemy-bigquery) (2.7.1)\n",
      "Requirement already satisfied: google-cloud-bigquery<4.0.0dev,>=2.25.2 in /opt/conda/lib/python3.9/site-packages (from sqlalchemy-bigquery) (2.34.2)\n",
      "Requirement already satisfied: google-cloud-bigquery-storage<3.0.0dev,>=2.0.0 in /opt/conda/lib/python3.9/site-packages (from sqlalchemy-bigquery) (2.13.0)\n",
      "Requirement already satisfied: googleapis-common-protos<2.0dev,>=1.52.0 in /opt/conda/lib/python3.9/site-packages (from google-api-core!=2.0.*,!=2.1.*,!=2.2.*,!=2.3.0,<3.0.0dev,>=1.31.5->sqlalchemy-bigquery) (1.56.0)\n",
      "Requirement already satisfied: requests<3.0.0dev,>=2.18.0 in /opt/conda/lib/python3.9/site-packages (from google-api-core!=2.0.*,!=2.1.*,!=2.2.*,!=2.3.0,<3.0.0dev,>=1.31.5->sqlalchemy-bigquery) (2.27.1)\n",
      "Requirement already satisfied: protobuf>=3.12.0 in /opt/conda/lib/python3.9/site-packages (from google-api-core!=2.0.*,!=2.1.*,!=2.2.*,!=2.3.0,<3.0.0dev,>=1.31.5->sqlalchemy-bigquery) (3.19.4)\n",
      "Requirement already satisfied: pyasn1-modules>=0.2.1 in /opt/conda/lib/python3.9/site-packages (from google-auth<3.0.0dev,>=1.25.0->sqlalchemy-bigquery) (0.2.8)\n",
      "Requirement already satisfied: cachetools<6.0,>=2.0.0 in /opt/conda/lib/python3.9/site-packages (from google-auth<3.0.0dev,>=1.25.0->sqlalchemy-bigquery) (5.0.0)\n",
      "Requirement already satisfied: six>=1.9.0 in /opt/conda/lib/python3.9/site-packages (from google-auth<3.0.0dev,>=1.25.0->sqlalchemy-bigquery) (1.16.0)\n",
      "Requirement already satisfied: rsa<5,>=3.1.4 in /opt/conda/lib/python3.9/site-packages (from google-auth<3.0.0dev,>=1.25.0->sqlalchemy-bigquery) (4.8)\n",
      "Requirement already satisfied: grpcio<2.0dev,>=1.38.1 in /opt/conda/lib/python3.9/site-packages (from google-cloud-bigquery<4.0.0dev,>=2.25.2->sqlalchemy-bigquery) (1.44.0)\n",
      "Requirement already satisfied: google-resumable-media<3.0dev,>=0.6.0 in /opt/conda/lib/python3.9/site-packages (from google-cloud-bigquery<4.0.0dev,>=2.25.2->sqlalchemy-bigquery) (2.3.2)\n",
      "Requirement already satisfied: python-dateutil<3.0dev,>=2.7.2 in /opt/conda/lib/python3.9/site-packages (from google-cloud-bigquery<4.0.0dev,>=2.25.2->sqlalchemy-bigquery) (2.8.2)\n",
      "Requirement already satisfied: proto-plus>=1.15.0 in /opt/conda/lib/python3.9/site-packages (from google-cloud-bigquery<4.0.0dev,>=2.25.2->sqlalchemy-bigquery) (1.20.3)\n",
      "Requirement already satisfied: packaging>=14.3 in /opt/conda/lib/python3.9/site-packages (from google-cloud-bigquery<4.0.0dev,>=2.25.2->sqlalchemy-bigquery) (21.3)\n",
      "Requirement already satisfied: google-cloud-core<3.0.0dev,>=1.4.1 in /opt/conda/lib/python3.9/site-packages (from google-cloud-bigquery<4.0.0dev,>=2.25.2->sqlalchemy-bigquery) (2.2.3)\n",
      "Requirement already satisfied: numpy>=1.16.6 in /opt/conda/lib/python3.9/site-packages (from pyarrow<7.0dev,>=3.0.0->sqlalchemy-bigquery) (1.21.5)\n",
      "Requirement already satisfied: greenlet!=0.4.17 in /opt/conda/lib/python3.9/site-packages (from sqlalchemy<=1.4.27,>=1.2.0->sqlalchemy-bigquery) (1.1.2)\n",
      "Requirement already satisfied: grpcio-status<2.0dev,>=1.33.2 in /opt/conda/lib/python3.9/site-packages (from google-api-core!=2.0.*,!=2.1.*,!=2.2.*,!=2.3.0,<3.0.0dev,>=1.31.5->sqlalchemy-bigquery) (1.44.0)\n",
      "Requirement already satisfied: google-crc32c<2.0dev,>=1.0 in /opt/conda/lib/python3.9/site-packages (from google-resumable-media<3.0dev,>=0.6.0->google-cloud-bigquery<4.0.0dev,>=2.25.2->sqlalchemy-bigquery) (1.3.0)\n",
      "Requirement already satisfied: pyparsing!=3.0.5,>=2.0.2 in /opt/conda/lib/python3.9/site-packages (from packaging>=14.3->google-cloud-bigquery<4.0.0dev,>=2.25.2->sqlalchemy-bigquery) (3.0.7)\n",
      "Requirement already satisfied: pyasn1<0.5.0,>=0.4.6 in /opt/conda/lib/python3.9/site-packages (from pyasn1-modules>=0.2.1->google-auth<3.0.0dev,>=1.25.0->sqlalchemy-bigquery) (0.4.8)\n",
      "Requirement already satisfied: idna<4,>=2.5 in /opt/conda/lib/python3.9/site-packages (from requests<3.0.0dev,>=2.18.0->google-api-core!=2.0.*,!=2.1.*,!=2.2.*,!=2.3.0,<3.0.0dev,>=1.31.5->sqlalchemy-bigquery) (3.3)\n",
      "Requirement already satisfied: certifi>=2017.4.17 in /opt/conda/lib/python3.9/site-packages (from requests<3.0.0dev,>=2.18.0->google-api-core!=2.0.*,!=2.1.*,!=2.2.*,!=2.3.0,<3.0.0dev,>=1.31.5->sqlalchemy-bigquery) (2021.10.8)\n",
      "Requirement already satisfied: charset-normalizer~=2.0.0 in /opt/conda/lib/python3.9/site-packages (from requests<3.0.0dev,>=2.18.0->google-api-core!=2.0.*,!=2.1.*,!=2.2.*,!=2.3.0,<3.0.0dev,>=1.31.5->sqlalchemy-bigquery) (2.0.12)\n",
      "Requirement already satisfied: urllib3<1.27,>=1.21.1 in /opt/conda/lib/python3.9/site-packages (from requests<3.0.0dev,>=2.18.0->google-api-core!=2.0.*,!=2.1.*,!=2.2.*,!=2.3.0,<3.0.0dev,>=1.31.5->sqlalchemy-bigquery) (1.26.8)\n",
      "Installing collected packages: sqlalchemy, sqlalchemy-bigquery\n",
      "  Attempting uninstall: sqlalchemy\n",
      "    Found existing installation: SQLAlchemy 1.4.32\n",
      "    Uninstalling SQLAlchemy-1.4.32:\n",
      "      Successfully uninstalled SQLAlchemy-1.4.32\n",
      "Successfully installed sqlalchemy-1.4.27 sqlalchemy-bigquery-1.4.3\n"
     ]
    }
   ],
   "source": [
    "!pip install sqlalchemy-bigquery"
   ]
  },
  {
   "cell_type": "code",
   "execution_count": 2,
   "id": "5e749266-7489-4305-8a1e-773e766cec98",
   "metadata": {},
   "outputs": [
    {
     "name": "stderr",
     "output_type": "stream",
     "text": [
      "/opt/conda/lib/python3.9/site-packages/geopandas/_compat.py:111: UserWarning: The Shapely GEOS version (3.10.2-CAPI-1.16.0) is incompatible with the GEOS version PyGEOS was compiled with (3.10.1-CAPI-1.16.0). Conversions between both will be slow.\n",
      "  warnings.warn(\n",
      "/opt/conda/lib/python3.9/importlib/__init__.py:127: UserWarning: Obsolete pybigquery is installed, which is likely to\n",
      "interfere with sqlalchemy_bigquery.\n",
      "pybigquery should be uninstalled.\n",
      "  return _bootstrap._gcd_import(name[level:], package, level)\n",
      "E0406 17:34:31.874395198     319 fork_posix.cc:70]           Fork support is only compatible with the epoll1 and poll polling strategies\n"
     ]
    }
   ],
   "source": [
    "import geopandas as gpd\n",
    "import pandas as pd\n",
    "import glob\n",
    "import os\n",
    "\n",
    "os.environ[\"CALITP_BQ_MAX_BYTES\"] = str(100_000_000_000)\n",
    "\n",
    "from calitp.tables import tbl\n",
    "from calitp import query_sql\n",
    "from siuba import *\n",
    "\n",
    "import prep_data2 as prep_data\n",
    "\n",
    "DATA_PATH = \"./data/test/\""
   ]
  },
  {
   "cell_type": "code",
   "execution_count": 3,
   "id": "bef738c2-cd90-4fbf-bd80-c20525e4e4e6",
   "metadata": {},
   "outputs": [
    {
     "name": "stdout",
     "output_type": "stream",
     "text": [
      "Read in data: 0:00:02.251750\n"
     ]
    }
   ],
   "source": [
    "from datetime import datetime\n",
    "\n",
    "time0 = datetime.now()\n",
    "\n",
    "# Read in local parquets\n",
    "stops = pd.read_parquet(f\"{DATA_PATH}stops.parquet\")\n",
    "trips = pd.read_parquet(f\"{DATA_PATH}trips.parquet\")\n",
    "route_info = pd.read_parquet(f\"{DATA_PATH}route_info.parquet\")\n",
    "routes = gpd.read_parquet(f\"{DATA_PATH}routes.parquet\")\n",
    "latest_itp_id = pd.read_parquet(f\"{DATA_PATH}latest_itp_id.parquet\")\n",
    "\n",
    "time1 = datetime.now()\n",
    "print(f\"Read in data: {time1-time0}\")"
   ]
  },
  {
   "cell_type": "code",
   "execution_count": 4,
   "id": "86db264a-d8bd-4b91-9267-ea50c4a6a4c9",
   "metadata": {},
   "outputs": [],
   "source": [
    "# Left only means in trips, but shape_id not found in shapes.txt\n",
    "# right only means in routes, but no route that has that shape_id \n",
    "# We probably should keep how = \"left\"?\n",
    "# left only means we can assemble from stop sequence?\n",
    "routes1 = pd.merge(\n",
    "        trips,\n",
    "        routes,\n",
    "        on = [\"calitp_itp_id\", \"shape_id\"],\n",
    "        how = \"left\",\n",
    "        validate = \"m:1\",\n",
    "        indicator=True\n",
    "    )\n"
   ]
  },
  {
   "cell_type": "code",
   "execution_count": 5,
   "id": "b7bdff62-7714-4ade-9fb3-1907c771ac54",
   "metadata": {},
   "outputs": [
    {
     "data": {
      "text/plain": [
       "both          7482\n",
       "left_only       51\n",
       "right_only       0\n",
       "Name: _merge, dtype: int64"
      ]
     },
     "execution_count": 5,
     "metadata": {},
     "output_type": "execute_result"
    }
   ],
   "source": [
    "routes1._merge.value_counts()"
   ]
  },
  {
   "cell_type": "code",
   "execution_count": 6,
   "id": "93aae43d-0712-48da-b380-a033db30eee2",
   "metadata": {},
   "outputs": [
    {
     "data": {
      "text/html": [
       "<div>\n",
       "<style scoped>\n",
       "    .dataframe tbody tr th:only-of-type {\n",
       "        vertical-align: middle;\n",
       "    }\n",
       "\n",
       "    .dataframe tbody tr th {\n",
       "        vertical-align: top;\n",
       "    }\n",
       "\n",
       "    .dataframe thead th {\n",
       "        text-align: right;\n",
       "    }\n",
       "</style>\n",
       "<table border=\"1\" class=\"dataframe\">\n",
       "  <thead>\n",
       "    <tr style=\"text-align: right;\">\n",
       "      <th></th>\n",
       "      <th>calitp_itp_id</th>\n",
       "      <th>route_id</th>\n",
       "      <th>shape_id</th>\n",
       "    </tr>\n",
       "  </thead>\n",
       "  <tbody>\n",
       "    <tr>\n",
       "      <th>0</th>\n",
       "      <td>323</td>\n",
       "      <td>Ventura County Line</td>\n",
       "      <td>None</td>\n",
       "    </tr>\n",
       "    <tr>\n",
       "      <th>1</th>\n",
       "      <td>13</td>\n",
       "      <td>37329</td>\n",
       "      <td>None</td>\n",
       "    </tr>\n",
       "  </tbody>\n",
       "</table>\n",
       "</div>"
      ],
      "text/plain": [
       "   calitp_itp_id             route_id shape_id\n",
       "0            323  Ventura County Line     None\n",
       "1             13                37329     None"
      ]
     },
     "execution_count": 6,
     "metadata": {},
     "output_type": "execute_result"
    }
   ],
   "source": [
    "missing_shapes = (routes1[routes1._merge==\"left_only\"]\n",
    "      .drop(columns = [\"geometry\", \"_merge\"])\n",
    "      .reset_index(drop=True)\n",
    "     )\n",
    "\n",
    "missing_shapes.head(2)"
   ]
  },
  {
   "cell_type": "code",
   "execution_count": 7,
   "id": "d84249c9-b9b0-44e7-a785-441c53f04139",
   "metadata": {},
   "outputs": [],
   "source": [
    "trip_cols = [\"calitp_itp_id\", \"route_id\", \"shape_id\"]\n",
    "\n",
    "dim_trips = (tbl.views.gtfs_schedule_dim_trips()\n",
    "             # filter first to just the smaller set of IDs in missing_shapes\n",
    "             >> filter(_.calitp_itp_id.isin(missing_shapes.calitp_itp_id))\n",
    "             # Now find those shape_ids and trips associated\n",
    "             >> filter(_.shape_id.isin(missing_shapes.shape_id))\n",
    "             >> select(*trip_cols, _.trip_key)\n",
    "             >> distinct()\n",
    "            )\n",
    "\n",
    "missing_trips = (\n",
    "    tbl.views.gtfs_schedule_fact_daily_trips()\n",
    "    >> filter(_.service_date == prep_data.SELECTED_DATE, \n",
    "           _.is_in_service==True)\n",
    "    >> select(_.trip_key, _.trip_id)\n",
    "    >> inner_join(_, dim_trips, on = \"trip_key\")\n",
    "    >> distinct()\n",
    "    >> collect()\n",
    ")"
   ]
  },
  {
   "cell_type": "code",
   "execution_count": 8,
   "id": "fdee2683-2495-4619-9c45-02b49216a5ad",
   "metadata": {},
   "outputs": [
    {
     "data": {
      "text/html": [
       "<div>\n",
       "<style scoped>\n",
       "    .dataframe tbody tr th:only-of-type {\n",
       "        vertical-align: middle;\n",
       "    }\n",
       "\n",
       "    .dataframe tbody tr th {\n",
       "        vertical-align: top;\n",
       "    }\n",
       "\n",
       "    .dataframe thead th {\n",
       "        text-align: right;\n",
       "    }\n",
       "</style>\n",
       "<table border=\"1\" class=\"dataframe\">\n",
       "  <thead>\n",
       "    <tr style=\"text-align: right;\">\n",
       "      <th></th>\n",
       "      <th>trip_key</th>\n",
       "      <th>trip_id</th>\n",
       "      <th>calitp_itp_id</th>\n",
       "      <th>route_id</th>\n",
       "      <th>shape_id</th>\n",
       "    </tr>\n",
       "  </thead>\n",
       "  <tbody>\n",
       "    <tr>\n",
       "      <th>0</th>\n",
       "      <td>-2358869420915140874</td>\n",
       "      <td>t4E8-sl2-p11E-rC4</td>\n",
       "      <td>203</td>\n",
       "      <td>24</td>\n",
       "      <td>126_shp</td>\n",
       "    </tr>\n",
       "    <tr>\n",
       "      <th>1</th>\n",
       "      <td>-1930744495137898147</td>\n",
       "      <td>t4E6-sl2-p11E-r9E</td>\n",
       "      <td>203</td>\n",
       "      <td>24</td>\n",
       "      <td>126_shp</td>\n",
       "    </tr>\n",
       "  </tbody>\n",
       "</table>\n",
       "</div>"
      ],
      "text/plain": [
       "              trip_key            trip_id  calitp_itp_id route_id shape_id\n",
       "0 -2358869420915140874  t4E8-sl2-p11E-rC4            203       24  126_shp\n",
       "1 -1930744495137898147  t4E6-sl2-p11E-r9E            203       24  126_shp"
      ]
     },
     "execution_count": 8,
     "metadata": {},
     "output_type": "execute_result"
    }
   ],
   "source": [
    "missing_trips"
   ]
  },
  {
   "cell_type": "code",
   "execution_count": 9,
   "id": "72b4a969-6ff3-4b6c-a12d-e76887fcc9cc",
   "metadata": {},
   "outputs": [],
   "source": [
    "# Since there are multiple trips, we'll sort the same way, and keep the first one\n",
    "group_cols = [\"calitp_itp_id\", \"route_id\", \"shape_id\"]\n",
    "missing_trips2 = (missing_trips.sort_values(group_cols + [\"trip_id\"])\n",
    "                  .drop_duplicates(subset=group_cols)\n",
    "                  .reset_index(drop=True)\n",
    ")"
   ]
  },
  {
   "cell_type": "code",
   "execution_count": null,
   "id": "1ac956a8-a931-4635-94c0-c6905686bf78",
   "metadata": {},
   "outputs": [],
   "source": [
    "len(missing_trips2)"
   ]
  },
  {
   "cell_type": "code",
   "execution_count": null,
   "id": "3879a8f7-2f24-4c27-bd89-1b2acb835c39",
   "metadata": {},
   "outputs": [],
   "source": [
    "stop_info_trips = (\n",
    "    tbl.views.gtfs_schedule_dim_stop_times()\n",
    "    >> filter(_.calitp_itp_id.isin(missing_trips2.calitp_itp_id))\n",
    "    >> filter(_.trip_id.isin(missing_trips2.trip_id))\n",
    "    >> distinct()\n",
    "    >> inner_join(_,\n",
    "                  tbl.views.gtfs_schedule_dim_stops(), \n",
    "                  on = [\"calitp_itp_id\", \"stop_id\"])\n",
    "    >> select(_.calitp_itp_id, _.trip_id, \n",
    "              _.stop_id, _.stop_sequence,\n",
    "              _.stop_lon, _.stop_lat)\n",
    "    >> distinct()\n",
    "    >> collect()\n",
    "    # Want to merge back route_id on, but need to collect first\n",
    "    >> inner_join(_, missing_trips2)\n",
    ")"
   ]
  },
  {
   "cell_type": "code",
   "execution_count": null,
   "id": "bbcafb03-5898-43b9-addc-b1a5b231626c",
   "metadata": {},
   "outputs": [],
   "source": [
    "stop_info_trips.head(2)"
   ]
  },
  {
   "cell_type": "code",
   "execution_count": null,
   "id": "7f508911-d1d4-4889-a5f8-f0c673f84c6c",
   "metadata": {},
   "outputs": [],
   "source": [
    "# Somehow, getting back some multiple points for same trip_id, stop_id\n",
    "group_cols = [\"calitp_itp_id\", \"trip_id\", \"stop_id\"]\n",
    "stop_info_trips = (stop_info_trips.sort_values(group_cols)\n",
    "                   .drop_duplicates(subset=group_cols)\n",
    "                   .reset_index(drop=True)\n",
    "                   .assign(calitp_url_number=0)\n",
    "                  )"
   ]
  },
  {
   "cell_type": "code",
   "execution_count": null,
   "id": "d2928a2d-47e2-4232-b28b-0a908ebaf2b4",
   "metadata": {},
   "outputs": [],
   "source": [
    "len(stop_info_trips)"
   ]
  },
  {
   "cell_type": "code",
   "execution_count": null,
   "id": "372f1cdd-7652-4cc6-bd8b-d85246d1bfca",
   "metadata": {},
   "outputs": [],
   "source": [
    "import utils\n",
    "\n",
    "missing_routes = utils.make_routes_line_geom_for_missing_shapes(stop_info_trips)"
   ]
  },
  {
   "cell_type": "code",
   "execution_count": null,
   "id": "bc6ec64d-fe2b-4cc8-b965-6441253c7d0a",
   "metadata": {},
   "outputs": [],
   "source": [
    "stop_info_trips.head()"
   ]
  },
  {
   "cell_type": "code",
   "execution_count": null,
   "id": "e19e985b-24c9-4d52-87c3-95bfca87b718",
   "metadata": {},
   "outputs": [],
   "source": [
    "print(len(missing_routes))\n",
    "missing_routes.head()"
   ]
  },
  {
   "cell_type": "code",
   "execution_count": null,
   "id": "a386de7c-7794-41d0-8380-dca4bd4d078b",
   "metadata": {},
   "outputs": [],
   "source": [
    "# Merge route_id back in, which is lost when it passes through make_routes_line_geom_for_missing_shapes\n",
    "# Also, get rid of calitp_url_number\n",
    "missing_routes2 = pd.merge(\n",
    "    missing_routes.drop(columns=\"calitp_url_number\"),\n",
    "    stop_info_trips[[\"calitp_itp_id\", \"shape_id\", \"route_id\"]].drop_duplicates(),\n",
    "    on = [\"calitp_itp_id\", \"shape_id\"],\n",
    "    how = \"inner\",\n",
    "    validate = \"1:1\",\n",
    ")"
   ]
  },
  {
   "cell_type": "code",
   "execution_count": null,
   "id": "b8b5f94e-2c75-4c1a-9858-183ff9683338",
   "metadata": {},
   "outputs": [],
   "source": [
    "routes_part2 = prep_data.attach_route_name(missing_routes2, route_info)\n",
    "routes_part2.head()"
   ]
  },
  {
   "cell_type": "code",
   "execution_count": null,
   "id": "4566de91-2f7d-40a4-93f3-df16e340903d",
   "metadata": {},
   "outputs": [],
   "source": []
  },
  {
   "cell_type": "code",
   "execution_count": null,
   "id": "fce6cb5a-036f-4d3c-9848-64c8d7df828b",
   "metadata": {},
   "outputs": [],
   "source": []
  }
 ],
 "metadata": {
  "kernelspec": {
   "display_name": "Python 3 (ipykernel)",
   "language": "python",
   "name": "python3"
  },
  "language_info": {
   "codemirror_mode": {
    "name": "ipython",
    "version": 3
   },
   "file_extension": ".py",
   "mimetype": "text/x-python",
   "name": "python",
   "nbconvert_exporter": "python",
   "pygments_lexer": "ipython3",
   "version": "3.9.10"
  }
 },
 "nbformat": 4,
 "nbformat_minor": 5
}
