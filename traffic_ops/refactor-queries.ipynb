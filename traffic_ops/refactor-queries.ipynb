{
 "cells": [
  {
   "cell_type": "code",
   "execution_count": 1,
   "id": "337506ce-c516-46a7-bebf-f0651a245f53",
   "metadata": {},
   "outputs": [
    {
     "name": "stdout",
     "output_type": "stream",
     "text": [
      "Requirement already satisfied: sqlalchemy-bigquery in /opt/conda/lib/python3.9/site-packages (1.4.3)\n",
      "Requirement already satisfied: google-cloud-bigquery<4.0.0dev,>=2.25.2 in /opt/conda/lib/python3.9/site-packages (from sqlalchemy-bigquery) (2.34.2)\n",
      "Requirement already satisfied: google-api-core!=2.0.*,!=2.1.*,!=2.2.*,!=2.3.0,<3.0.0dev,>=1.31.5 in /opt/conda/lib/python3.9/site-packages (from sqlalchemy-bigquery) (2.7.1)\n",
      "Requirement already satisfied: google-cloud-bigquery-storage<3.0.0dev,>=2.0.0 in /opt/conda/lib/python3.9/site-packages (from sqlalchemy-bigquery) (2.13.0)\n",
      "Requirement already satisfied: sqlalchemy<=1.4.27,>=1.2.0 in /opt/conda/lib/python3.9/site-packages (from sqlalchemy-bigquery) (1.4.27)\n",
      "Requirement already satisfied: future in /opt/conda/lib/python3.9/site-packages (from sqlalchemy-bigquery) (0.18.2)\n",
      "Requirement already satisfied: pyarrow<7.0dev,>=3.0.0 in /opt/conda/lib/python3.9/site-packages (from sqlalchemy-bigquery) (6.0.1)\n",
      "Requirement already satisfied: google-auth<3.0.0dev,>=1.25.0 in /opt/conda/lib/python3.9/site-packages (from sqlalchemy-bigquery) (2.6.2)\n",
      "Requirement already satisfied: googleapis-common-protos<2.0dev,>=1.52.0 in /opt/conda/lib/python3.9/site-packages (from google-api-core!=2.0.*,!=2.1.*,!=2.2.*,!=2.3.0,<3.0.0dev,>=1.31.5->sqlalchemy-bigquery) (1.56.0)\n",
      "Requirement already satisfied: requests<3.0.0dev,>=2.18.0 in /opt/conda/lib/python3.9/site-packages (from google-api-core!=2.0.*,!=2.1.*,!=2.2.*,!=2.3.0,<3.0.0dev,>=1.31.5->sqlalchemy-bigquery) (2.27.1)\n",
      "Requirement already satisfied: protobuf>=3.12.0 in /opt/conda/lib/python3.9/site-packages (from google-api-core!=2.0.*,!=2.1.*,!=2.2.*,!=2.3.0,<3.0.0dev,>=1.31.5->sqlalchemy-bigquery) (3.19.4)\n",
      "Requirement already satisfied: six>=1.9.0 in /opt/conda/lib/python3.9/site-packages (from google-auth<3.0.0dev,>=1.25.0->sqlalchemy-bigquery) (1.16.0)\n",
      "Requirement already satisfied: rsa<5,>=3.1.4 in /opt/conda/lib/python3.9/site-packages (from google-auth<3.0.0dev,>=1.25.0->sqlalchemy-bigquery) (4.8)\n",
      "Requirement already satisfied: pyasn1-modules>=0.2.1 in /opt/conda/lib/python3.9/site-packages (from google-auth<3.0.0dev,>=1.25.0->sqlalchemy-bigquery) (0.2.8)\n",
      "Requirement already satisfied: cachetools<6.0,>=2.0.0 in /opt/conda/lib/python3.9/site-packages (from google-auth<3.0.0dev,>=1.25.0->sqlalchemy-bigquery) (5.0.0)\n",
      "Requirement already satisfied: proto-plus>=1.15.0 in /opt/conda/lib/python3.9/site-packages (from google-cloud-bigquery<4.0.0dev,>=2.25.2->sqlalchemy-bigquery) (1.20.3)\n",
      "Requirement already satisfied: python-dateutil<3.0dev,>=2.7.2 in /opt/conda/lib/python3.9/site-packages (from google-cloud-bigquery<4.0.0dev,>=2.25.2->sqlalchemy-bigquery) (2.8.2)\n",
      "Requirement already satisfied: google-cloud-core<3.0.0dev,>=1.4.1 in /opt/conda/lib/python3.9/site-packages (from google-cloud-bigquery<4.0.0dev,>=2.25.2->sqlalchemy-bigquery) (2.2.3)\n",
      "Requirement already satisfied: packaging>=14.3 in /opt/conda/lib/python3.9/site-packages (from google-cloud-bigquery<4.0.0dev,>=2.25.2->sqlalchemy-bigquery) (21.3)\n",
      "Requirement already satisfied: google-resumable-media<3.0dev,>=0.6.0 in /opt/conda/lib/python3.9/site-packages (from google-cloud-bigquery<4.0.0dev,>=2.25.2->sqlalchemy-bigquery) (2.3.2)\n",
      "Requirement already satisfied: grpcio<2.0dev,>=1.38.1 in /opt/conda/lib/python3.9/site-packages (from google-cloud-bigquery<4.0.0dev,>=2.25.2->sqlalchemy-bigquery) (1.44.0)\n",
      "Requirement already satisfied: numpy>=1.16.6 in /opt/conda/lib/python3.9/site-packages (from pyarrow<7.0dev,>=3.0.0->sqlalchemy-bigquery) (1.21.5)\n",
      "Requirement already satisfied: greenlet!=0.4.17 in /opt/conda/lib/python3.9/site-packages (from sqlalchemy<=1.4.27,>=1.2.0->sqlalchemy-bigquery) (1.1.2)\n",
      "Requirement already satisfied: grpcio-status<2.0dev,>=1.33.2 in /opt/conda/lib/python3.9/site-packages (from google-api-core!=2.0.*,!=2.1.*,!=2.2.*,!=2.3.0,<3.0.0dev,>=1.31.5->sqlalchemy-bigquery) (1.44.0)\n",
      "Requirement already satisfied: google-crc32c<2.0dev,>=1.0 in /opt/conda/lib/python3.9/site-packages (from google-resumable-media<3.0dev,>=0.6.0->google-cloud-bigquery<4.0.0dev,>=2.25.2->sqlalchemy-bigquery) (1.3.0)\n",
      "Requirement already satisfied: pyparsing!=3.0.5,>=2.0.2 in /opt/conda/lib/python3.9/site-packages (from packaging>=14.3->google-cloud-bigquery<4.0.0dev,>=2.25.2->sqlalchemy-bigquery) (3.0.7)\n",
      "Requirement already satisfied: pyasn1<0.5.0,>=0.4.6 in /opt/conda/lib/python3.9/site-packages (from pyasn1-modules>=0.2.1->google-auth<3.0.0dev,>=1.25.0->sqlalchemy-bigquery) (0.4.8)\n",
      "Requirement already satisfied: certifi>=2017.4.17 in /opt/conda/lib/python3.9/site-packages (from requests<3.0.0dev,>=2.18.0->google-api-core!=2.0.*,!=2.1.*,!=2.2.*,!=2.3.0,<3.0.0dev,>=1.31.5->sqlalchemy-bigquery) (2021.10.8)\n",
      "Requirement already satisfied: idna<4,>=2.5 in /opt/conda/lib/python3.9/site-packages (from requests<3.0.0dev,>=2.18.0->google-api-core!=2.0.*,!=2.1.*,!=2.2.*,!=2.3.0,<3.0.0dev,>=1.31.5->sqlalchemy-bigquery) (3.3)\n",
      "Requirement already satisfied: urllib3<1.27,>=1.21.1 in /opt/conda/lib/python3.9/site-packages (from requests<3.0.0dev,>=2.18.0->google-api-core!=2.0.*,!=2.1.*,!=2.2.*,!=2.3.0,<3.0.0dev,>=1.31.5->sqlalchemy-bigquery) (1.26.8)\n",
      "Requirement already satisfied: charset-normalizer~=2.0.0 in /opt/conda/lib/python3.9/site-packages (from requests<3.0.0dev,>=2.18.0->google-api-core!=2.0.*,!=2.1.*,!=2.2.*,!=2.3.0,<3.0.0dev,>=1.31.5->sqlalchemy-bigquery) (2.0.12)\n"
     ]
    }
   ],
   "source": [
    "!pip install sqlalchemy-bigquery"
   ]
  },
  {
   "cell_type": "code",
   "execution_count": 2,
   "id": "5e749266-7489-4305-8a1e-773e766cec98",
   "metadata": {},
   "outputs": [
    {
     "name": "stderr",
     "output_type": "stream",
     "text": [
      "/opt/conda/lib/python3.9/site-packages/geopandas/_compat.py:111: UserWarning: The Shapely GEOS version (3.10.2-CAPI-1.16.0) is incompatible with the GEOS version PyGEOS was compiled with (3.10.1-CAPI-1.16.0). Conversions between both will be slow.\n",
      "  warnings.warn(\n",
      "/opt/conda/lib/python3.9/importlib/__init__.py:127: UserWarning: Obsolete pybigquery is installed, which is likely to\n",
      "interfere with sqlalchemy_bigquery.\n",
      "pybigquery should be uninstalled.\n",
      "  return _bootstrap._gcd_import(name[level:], package, level)\n",
      "E0406 00:18:24.016299705     241 fork_posix.cc:70]           Fork support is only compatible with the epoll1 and poll polling strategies\n"
     ]
    }
   ],
   "source": [
    "import geopandas as gpd\n",
    "import pandas as pd\n",
    "import glob\n",
    "import os\n",
    "\n",
    "os.environ[\"CALITP_BQ_MAX_BYTES\"] = str(100_000_000_000)\n",
    "\n",
    "from calitp.tables import tbl\n",
    "from calitp import query_sql\n",
    "from siuba import *\n",
    "\n",
    "import prep_data2 as prep_data\n",
    "\n",
    "DATA_PATH = \"./data/test/\""
   ]
  },
  {
   "cell_type": "code",
   "execution_count": 3,
   "id": "bef738c2-cd90-4fbf-bd80-c20525e4e4e6",
   "metadata": {},
   "outputs": [
    {
     "name": "stdout",
     "output_type": "stream",
     "text": [
      "Read in data: 0:00:01.541914\n"
     ]
    }
   ],
   "source": [
    "from datetime import datetime\n",
    "\n",
    "time0 = datetime.now()\n",
    "\n",
    "# Read in local parquets\n",
    "stops = pd.read_parquet(f\"{DATA_PATH}stops.parquet\")\n",
    "trips = pd.read_parquet(f\"{DATA_PATH}trips.parquet\")\n",
    "route_info = pd.read_parquet(f\"{DATA_PATH}route_info.parquet\")\n",
    "routes = gpd.read_parquet(f\"{DATA_PATH}routes.parquet\")\n",
    "latest_itp_id = pd.read_parquet(f\"{DATA_PATH}latest_itp_id.parquet\")\n",
    "\n",
    "time1 = datetime.now()\n",
    "print(f\"Read in data: {time1-time0}\")"
   ]
  },
  {
   "cell_type": "code",
   "execution_count": 4,
   "id": "86db264a-d8bd-4b91-9267-ea50c4a6a4c9",
   "metadata": {},
   "outputs": [],
   "source": [
    "# Left only means in trips, but shape_id not found in shapes.txt\n",
    "# right only means in routes, but no route that has that shape_id \n",
    "# We probably should keep how = \"left\"?\n",
    "# left only means we can assemble from stop sequence?\n",
    "routes1 = pd.merge(\n",
    "        trips,\n",
    "        routes,\n",
    "        on = [\"calitp_itp_id\", \"shape_id\"],\n",
    "        how = \"left\",\n",
    "        validate = \"m:1\",\n",
    "        indicator=True\n",
    "    )\n"
   ]
  },
  {
   "cell_type": "code",
   "execution_count": 5,
   "id": "b7bdff62-7714-4ade-9fb3-1907c771ac54",
   "metadata": {},
   "outputs": [
    {
     "data": {
      "text/plain": [
       "both          7832\n",
       "left_only      150\n",
       "right_only       0\n",
       "Name: _merge, dtype: int64"
      ]
     },
     "execution_count": 5,
     "metadata": {},
     "output_type": "execute_result"
    }
   ],
   "source": [
    "routes1._merge.value_counts()"
   ]
  },
  {
   "cell_type": "code",
   "execution_count": 6,
   "id": "93aae43d-0712-48da-b380-a033db30eee2",
   "metadata": {},
   "outputs": [
    {
     "data": {
      "text/html": [
       "<div>\n",
       "<style scoped>\n",
       "    .dataframe tbody tr th:only-of-type {\n",
       "        vertical-align: middle;\n",
       "    }\n",
       "\n",
       "    .dataframe tbody tr th {\n",
       "        vertical-align: top;\n",
       "    }\n",
       "\n",
       "    .dataframe thead th {\n",
       "        text-align: right;\n",
       "    }\n",
       "</style>\n",
       "<table border=\"1\" class=\"dataframe\">\n",
       "  <thead>\n",
       "    <tr style=\"text-align: right;\">\n",
       "      <th></th>\n",
       "      <th>calitp_itp_id</th>\n",
       "      <th>route_id</th>\n",
       "      <th>shape_id</th>\n",
       "    </tr>\n",
       "  </thead>\n",
       "  <tbody>\n",
       "    <tr>\n",
       "      <th>0</th>\n",
       "      <td>301</td>\n",
       "      <td>8</td>\n",
       "      <td>1232_shp</td>\n",
       "    </tr>\n",
       "    <tr>\n",
       "      <th>1</th>\n",
       "      <td>301</td>\n",
       "      <td>6</td>\n",
       "      <td>1205_shp</td>\n",
       "    </tr>\n",
       "  </tbody>\n",
       "</table>\n",
       "</div>"
      ],
      "text/plain": [
       "   calitp_itp_id route_id  shape_id\n",
       "0            301        8  1232_shp\n",
       "1            301        6  1205_shp"
      ]
     },
     "execution_count": 6,
     "metadata": {},
     "output_type": "execute_result"
    }
   ],
   "source": [
    "missing_shapes = (routes1[routes1._merge==\"left_only\"]\n",
    "      .drop(columns = [\"geometry\", \"_merge\"])\n",
    "      .reset_index(drop=True)\n",
    "     )\n",
    "\n",
    "missing_shapes.head(2)"
   ]
  },
  {
   "cell_type": "code",
   "execution_count": 7,
   "id": "fbc7d39d-b090-4ecc-8059-52337b552e70",
   "metadata": {},
   "outputs": [],
   "source": [
    "SELECTED_DATE = \"2022-3-15\"\n",
    "\n",
    "trip_cols = [\"calitp_itp_id\", \"route_id\", \"shape_id\"]\n",
    "\n",
    "dim_trips = (tbl.views.gtfs_schedule_dim_trips()\n",
    "             # filter first to just the smaller set of IDs in missing_shapes\n",
    "             >> filter(_.calitp_itp_id.isin(missing_shapes.calitp_itp_id))\n",
    "             # Now find those shape_ids and trips associated\n",
    "             >> filter(_.shape_id.isin(missing_shapes.shape_id))\n",
    "             >> select(*trip_cols, _.trip_key)\n",
    "             >> distinct()\n",
    "            )\n",
    "\n",
    "missing_trips = (\n",
    "    tbl.views.gtfs_schedule_fact_daily_trips()\n",
    "    >> filter(_.service_date == SELECTED_DATE, \n",
    "           _.is_in_service==True)\n",
    "    >> select(_.trip_key, _.trip_id)\n",
    "    >> inner_join(_, dim_trips, on = \"trip_key\")\n",
    "    >> distinct()\n",
    "    >> collect()\n",
    ")\n"
   ]
  },
  {
   "cell_type": "code",
   "execution_count": 8,
   "id": "72b4a969-6ff3-4b6c-a12d-e76887fcc9cc",
   "metadata": {},
   "outputs": [],
   "source": [
    "# Since there are multiple trips, we'll sort the same way, and keep the first one\n",
    "group_cols = [\"calitp_itp_id\", \"route_id\", \"shape_id\"]\n",
    "missing_trips2 = (missing_trips.sort_values(group_cols + [\"trip_id\"])\n",
    "                  .drop_duplicates(subset=group_cols)\n",
    "                  .reset_index(drop=True)\n",
    ")"
   ]
  },
  {
   "cell_type": "code",
   "execution_count": 9,
   "id": "1ac956a8-a931-4635-94c0-c6905686bf78",
   "metadata": {},
   "outputs": [
    {
     "data": {
      "text/plain": [
       "104"
      ]
     },
     "execution_count": 9,
     "metadata": {},
     "output_type": "execute_result"
    }
   ],
   "source": [
    "len(missing_trips2)"
   ]
  },
  {
   "cell_type": "code",
   "execution_count": 10,
   "id": "3879a8f7-2f24-4c27-bd89-1b2acb835c39",
   "metadata": {},
   "outputs": [],
   "source": [
    "stop_info_trips = (\n",
    "    tbl.views.gtfs_schedule_dim_stop_times()\n",
    "    >> filter(_.calitp_itp_id.isin(missing_trips2.calitp_itp_id))\n",
    "    >> filter(_.trip_id.isin(missing_trips2.trip_id))\n",
    "    >> distinct()\n",
    "    >> inner_join(_,\n",
    "                  tbl.views.gtfs_schedule_dim_stops(), \n",
    "                  on = [\"calitp_itp_id\", \"stop_id\"])\n",
    "    >> select(_.calitp_itp_id, _.trip_id, \n",
    "              _.stop_id, _.stop_sequence,\n",
    "              _.stop_lon, _.stop_lat)\n",
    "    >> distinct()\n",
    "    >> collect()\n",
    "    # Want to merge back route_id on, but need to collect first\n",
    "    >> inner_join(_, missing_trips2)\n",
    ")"
   ]
  },
  {
   "cell_type": "code",
   "execution_count": 11,
   "id": "bbcafb03-5898-43b9-addc-b1a5b231626c",
   "metadata": {},
   "outputs": [
    {
     "data": {
      "text/html": [
       "<div>\n",
       "<style scoped>\n",
       "    .dataframe tbody tr th:only-of-type {\n",
       "        vertical-align: middle;\n",
       "    }\n",
       "\n",
       "    .dataframe tbody tr th {\n",
       "        vertical-align: top;\n",
       "    }\n",
       "\n",
       "    .dataframe thead th {\n",
       "        text-align: right;\n",
       "    }\n",
       "</style>\n",
       "<table border=\"1\" class=\"dataframe\">\n",
       "  <thead>\n",
       "    <tr style=\"text-align: right;\">\n",
       "      <th></th>\n",
       "      <th>calitp_itp_id</th>\n",
       "      <th>trip_id</th>\n",
       "      <th>stop_id</th>\n",
       "      <th>stop_sequence</th>\n",
       "      <th>stop_lon</th>\n",
       "      <th>stop_lat</th>\n",
       "      <th>trip_key</th>\n",
       "      <th>route_id</th>\n",
       "      <th>shape_id</th>\n",
       "    </tr>\n",
       "  </thead>\n",
       "  <tbody>\n",
       "    <tr>\n",
       "      <th>0</th>\n",
       "      <td>296</td>\n",
       "      <td>3762615-202220D-vs20222D-Weekday-09</td>\n",
       "      <td>1535R</td>\n",
       "      <td>28</td>\n",
       "      <td>-122.084068</td>\n",
       "      <td>37.071644</td>\n",
       "      <td>-8946882807225820515</td>\n",
       "      <td>35</td>\n",
       "      <td>350082</td>\n",
       "    </tr>\n",
       "    <tr>\n",
       "      <th>1</th>\n",
       "      <td>296</td>\n",
       "      <td>3762615-202220D-vs20222D-Weekday-09</td>\n",
       "      <td>1239R</td>\n",
       "      <td>42</td>\n",
       "      <td>-122.140900</td>\n",
       "      <td>37.135456</td>\n",
       "      <td>-8946882807225820515</td>\n",
       "      <td>35</td>\n",
       "      <td>350082</td>\n",
       "    </tr>\n",
       "  </tbody>\n",
       "</table>\n",
       "</div>"
      ],
      "text/plain": [
       "   calitp_itp_id                              trip_id stop_id  stop_sequence  \\\n",
       "0            296  3762615-202220D-vs20222D-Weekday-09   1535R             28   \n",
       "1            296  3762615-202220D-vs20222D-Weekday-09   1239R             42   \n",
       "\n",
       "     stop_lon   stop_lat             trip_key route_id shape_id  \n",
       "0 -122.084068  37.071644 -8946882807225820515       35   350082  \n",
       "1 -122.140900  37.135456 -8946882807225820515       35   350082  "
      ]
     },
     "execution_count": 11,
     "metadata": {},
     "output_type": "execute_result"
    }
   ],
   "source": [
    "stop_info_trips.head(2)"
   ]
  },
  {
   "cell_type": "code",
   "execution_count": 12,
   "id": "7f508911-d1d4-4889-a5f8-f0c673f84c6c",
   "metadata": {},
   "outputs": [],
   "source": [
    "# Somehow, getting back some multiple points for same trip_id, stop_id\n",
    "group_cols = [\"calitp_itp_id\", \"trip_id\", \"stop_id\"]\n",
    "stop_info_trips = (stop_info_trips.sort_values(group_cols)\n",
    "                   .drop_duplicates(subset=group_cols)\n",
    "                   .reset_index(drop=True)\n",
    "                   .assign(calitp_url_number=0)\n",
    "                  )"
   ]
  },
  {
   "cell_type": "code",
   "execution_count": 13,
   "id": "d2928a2d-47e2-4232-b28b-0a908ebaf2b4",
   "metadata": {},
   "outputs": [
    {
     "data": {
      "text/plain": [
       "9471"
      ]
     },
     "execution_count": 13,
     "metadata": {},
     "output_type": "execute_result"
    }
   ],
   "source": [
    "len(stop_info_trips)"
   ]
  },
  {
   "cell_type": "code",
   "execution_count": 14,
   "id": "372f1cdd-7652-4cc6-bd8b-d85246d1bfca",
   "metadata": {},
   "outputs": [],
   "source": [
    "import utils\n",
    "\n",
    "missing_routes = utils.make_routes_line_geom_for_missing_shapes(stop_info_trips)"
   ]
  },
  {
   "cell_type": "code",
   "execution_count": 15,
   "id": "bc6ec64d-fe2b-4cc8-b965-6441253c7d0a",
   "metadata": {},
   "outputs": [
    {
     "data": {
      "text/html": [
       "<div>\n",
       "<style scoped>\n",
       "    .dataframe tbody tr th:only-of-type {\n",
       "        vertical-align: middle;\n",
       "    }\n",
       "\n",
       "    .dataframe tbody tr th {\n",
       "        vertical-align: top;\n",
       "    }\n",
       "\n",
       "    .dataframe thead th {\n",
       "        text-align: right;\n",
       "    }\n",
       "</style>\n",
       "<table border=\"1\" class=\"dataframe\">\n",
       "  <thead>\n",
       "    <tr style=\"text-align: right;\">\n",
       "      <th></th>\n",
       "      <th>calitp_itp_id</th>\n",
       "      <th>trip_id</th>\n",
       "      <th>stop_id</th>\n",
       "      <th>stop_sequence</th>\n",
       "      <th>stop_lon</th>\n",
       "      <th>stop_lat</th>\n",
       "      <th>trip_key</th>\n",
       "      <th>route_id</th>\n",
       "      <th>shape_id</th>\n",
       "      <th>calitp_url_number</th>\n",
       "      <th>geometry</th>\n",
       "    </tr>\n",
       "  </thead>\n",
       "  <tbody>\n",
       "    <tr>\n",
       "      <th>0</th>\n",
       "      <td>4</td>\n",
       "      <td>10001020</td>\n",
       "      <td>1430</td>\n",
       "      <td>5</td>\n",
       "      <td>-122.078886</td>\n",
       "      <td>37.674847</td>\n",
       "      <td>2608222843436200649</td>\n",
       "      <td>18</td>\n",
       "      <td>shp-18-18</td>\n",
       "      <td>0</td>\n",
       "      <td>POINT (-122.07889 37.67485)</td>\n",
       "    </tr>\n",
       "    <tr>\n",
       "      <th>1</th>\n",
       "      <td>4</td>\n",
       "      <td>10001020</td>\n",
       "      <td>1460</td>\n",
       "      <td>6</td>\n",
       "      <td>-122.077416</td>\n",
       "      <td>37.676528</td>\n",
       "      <td>2608222843436200649</td>\n",
       "      <td>18</td>\n",
       "      <td>shp-18-18</td>\n",
       "      <td>0</td>\n",
       "      <td>POINT (-122.07742 37.67653)</td>\n",
       "    </tr>\n",
       "    <tr>\n",
       "      <th>2</th>\n",
       "      <td>4</td>\n",
       "      <td>10001020</td>\n",
       "      <td>1461</td>\n",
       "      <td>7</td>\n",
       "      <td>-122.075464</td>\n",
       "      <td>37.677914</td>\n",
       "      <td>2608222843436200649</td>\n",
       "      <td>18</td>\n",
       "      <td>shp-18-18</td>\n",
       "      <td>0</td>\n",
       "      <td>POINT (-122.07546 37.67791)</td>\n",
       "    </tr>\n",
       "    <tr>\n",
       "      <th>3</th>\n",
       "      <td>4</td>\n",
       "      <td>10001020</td>\n",
       "      <td>1463</td>\n",
       "      <td>8</td>\n",
       "      <td>-122.074150</td>\n",
       "      <td>37.678469</td>\n",
       "      <td>2608222843436200649</td>\n",
       "      <td>18</td>\n",
       "      <td>shp-18-18</td>\n",
       "      <td>0</td>\n",
       "      <td>POINT (-122.07415 37.67847)</td>\n",
       "    </tr>\n",
       "    <tr>\n",
       "      <th>4</th>\n",
       "      <td>4</td>\n",
       "      <td>10001020</td>\n",
       "      <td>1465</td>\n",
       "      <td>9</td>\n",
       "      <td>-122.072285</td>\n",
       "      <td>37.679264</td>\n",
       "      <td>2608222843436200649</td>\n",
       "      <td>18</td>\n",
       "      <td>shp-18-18</td>\n",
       "      <td>0</td>\n",
       "      <td>POINT (-122.07228 37.67926)</td>\n",
       "    </tr>\n",
       "  </tbody>\n",
       "</table>\n",
       "</div>"
      ],
      "text/plain": [
       "   calitp_itp_id   trip_id stop_id  stop_sequence    stop_lon   stop_lat  \\\n",
       "0              4  10001020    1430              5 -122.078886  37.674847   \n",
       "1              4  10001020    1460              6 -122.077416  37.676528   \n",
       "2              4  10001020    1461              7 -122.075464  37.677914   \n",
       "3              4  10001020    1463              8 -122.074150  37.678469   \n",
       "4              4  10001020    1465              9 -122.072285  37.679264   \n",
       "\n",
       "              trip_key route_id   shape_id  calitp_url_number  \\\n",
       "0  2608222843436200649       18  shp-18-18                  0   \n",
       "1  2608222843436200649       18  shp-18-18                  0   \n",
       "2  2608222843436200649       18  shp-18-18                  0   \n",
       "3  2608222843436200649       18  shp-18-18                  0   \n",
       "4  2608222843436200649       18  shp-18-18                  0   \n",
       "\n",
       "                      geometry  \n",
       "0  POINT (-122.07889 37.67485)  \n",
       "1  POINT (-122.07742 37.67653)  \n",
       "2  POINT (-122.07546 37.67791)  \n",
       "3  POINT (-122.07415 37.67847)  \n",
       "4  POINT (-122.07228 37.67926)  "
      ]
     },
     "execution_count": 15,
     "metadata": {},
     "output_type": "execute_result"
    }
   ],
   "source": [
    "stop_info_trips.head()"
   ]
  },
  {
   "cell_type": "code",
   "execution_count": 16,
   "id": "e19e985b-24c9-4d52-87c3-95bfca87b718",
   "metadata": {},
   "outputs": [
    {
     "name": "stdout",
     "output_type": "stream",
     "text": [
      "104\n"
     ]
    },
    {
     "data": {
      "text/html": [
       "<div>\n",
       "<style scoped>\n",
       "    .dataframe tbody tr th:only-of-type {\n",
       "        vertical-align: middle;\n",
       "    }\n",
       "\n",
       "    .dataframe tbody tr th {\n",
       "        vertical-align: top;\n",
       "    }\n",
       "\n",
       "    .dataframe thead th {\n",
       "        text-align: right;\n",
       "    }\n",
       "</style>\n",
       "<table border=\"1\" class=\"dataframe\">\n",
       "  <thead>\n",
       "    <tr style=\"text-align: right;\">\n",
       "      <th></th>\n",
       "      <th>calitp_itp_id</th>\n",
       "      <th>calitp_url_number</th>\n",
       "      <th>shape_id</th>\n",
       "      <th>geometry</th>\n",
       "    </tr>\n",
       "  </thead>\n",
       "  <tbody>\n",
       "    <tr>\n",
       "      <th>0</th>\n",
       "      <td>4</td>\n",
       "      <td>0</td>\n",
       "      <td>shp-18-18</td>\n",
       "      <td>LINESTRING (-122.08695 37.66989, -122.26581 37...</td>\n",
       "    </tr>\n",
       "    <tr>\n",
       "      <th>1</th>\n",
       "      <td>4</td>\n",
       "      <td>0</td>\n",
       "      <td>shp-21-13</td>\n",
       "      <td>LINESTRING (-122.08709 37.67010, -122.21236 37...</td>\n",
       "    </tr>\n",
       "    <tr>\n",
       "      <th>2</th>\n",
       "      <td>4</td>\n",
       "      <td>0</td>\n",
       "      <td>shp-215-67</td>\n",
       "      <td>LINESTRING (-121.97561 37.55791, -122.29511 37...</td>\n",
       "    </tr>\n",
       "    <tr>\n",
       "      <th>3</th>\n",
       "      <td>4</td>\n",
       "      <td>0</td>\n",
       "      <td>shp-239-57</td>\n",
       "      <td>LINESTRING (-122.08650 37.66972, -121.97549 37...</td>\n",
       "    </tr>\n",
       "    <tr>\n",
       "      <th>4</th>\n",
       "      <td>4</td>\n",
       "      <td>0</td>\n",
       "      <td>shp-28-09</td>\n",
       "      <td>LINESTRING (-122.08695 37.66989, -122.08695 37...</td>\n",
       "    </tr>\n",
       "  </tbody>\n",
       "</table>\n",
       "</div>"
      ],
      "text/plain": [
       "   calitp_itp_id  calitp_url_number    shape_id  \\\n",
       "0              4                  0   shp-18-18   \n",
       "1              4                  0   shp-21-13   \n",
       "2              4                  0  shp-215-67   \n",
       "3              4                  0  shp-239-57   \n",
       "4              4                  0   shp-28-09   \n",
       "\n",
       "                                            geometry  \n",
       "0  LINESTRING (-122.08695 37.66989, -122.26581 37...  \n",
       "1  LINESTRING (-122.08709 37.67010, -122.21236 37...  \n",
       "2  LINESTRING (-121.97561 37.55791, -122.29511 37...  \n",
       "3  LINESTRING (-122.08650 37.66972, -121.97549 37...  \n",
       "4  LINESTRING (-122.08695 37.66989, -122.08695 37...  "
      ]
     },
     "execution_count": 16,
     "metadata": {},
     "output_type": "execute_result"
    }
   ],
   "source": [
    "print(len(missing_routes))\n",
    "missing_routes.head()"
   ]
  },
  {
   "cell_type": "code",
   "execution_count": 17,
   "id": "a386de7c-7794-41d0-8380-dca4bd4d078b",
   "metadata": {},
   "outputs": [],
   "source": [
    "# Merge route_id back in, which is lost when it passes through make_routes_line_geom_for_missing_shapes\n",
    "# Also, get rid of calitp_url_number\n",
    "missing_routes2 = pd.merge(\n",
    "    missing_routes.drop(columns=\"calitp_url_number\"),\n",
    "    stop_info_trips[[\"calitp_itp_id\", \"shape_id\", \"route_id\"]].drop_duplicates(),\n",
    "    on = [\"calitp_itp_id\", \"shape_id\"],\n",
    "    how = \"inner\",\n",
    "    validate = \"1:1\",\n",
    ")"
   ]
  },
  {
   "cell_type": "code",
   "execution_count": 18,
   "id": "b8b5f94e-2c75-4c1a-9858-183ff9683338",
   "metadata": {},
   "outputs": [
    {
     "data": {
      "text/html": [
       "<div>\n",
       "<style scoped>\n",
       "    .dataframe tbody tr th:only-of-type {\n",
       "        vertical-align: middle;\n",
       "    }\n",
       "\n",
       "    .dataframe tbody tr th {\n",
       "        vertical-align: top;\n",
       "    }\n",
       "\n",
       "    .dataframe thead th {\n",
       "        text-align: right;\n",
       "    }\n",
       "</style>\n",
       "<table border=\"1\" class=\"dataframe\">\n",
       "  <thead>\n",
       "    <tr style=\"text-align: right;\">\n",
       "      <th></th>\n",
       "      <th>calitp_itp_id</th>\n",
       "      <th>shape_id</th>\n",
       "      <th>geometry</th>\n",
       "      <th>route_id</th>\n",
       "      <th>route_short_name</th>\n",
       "      <th>route_long_name</th>\n",
       "    </tr>\n",
       "  </thead>\n",
       "  <tbody>\n",
       "    <tr>\n",
       "      <th>0</th>\n",
       "      <td>4</td>\n",
       "      <td>shp-18-18</td>\n",
       "      <td>LINESTRING (-122.08695 37.66989, -122.26581 37...</td>\n",
       "      <td>18</td>\n",
       "      <td>18</td>\n",
       "      <td>Solano - Shattuck - MLK Jr.</td>\n",
       "    </tr>\n",
       "    <tr>\n",
       "      <th>1</th>\n",
       "      <td>4</td>\n",
       "      <td>shp-21-13</td>\n",
       "      <td>LINESTRING (-122.08709 37.67010, -122.21236 37...</td>\n",
       "      <td>21</td>\n",
       "      <td>21</td>\n",
       "      <td>Dimond - Fruitvale - Bay Farm</td>\n",
       "    </tr>\n",
       "    <tr>\n",
       "      <th>2</th>\n",
       "      <td>4</td>\n",
       "      <td>shp-215-67</td>\n",
       "      <td>LINESTRING (-121.97561 37.55791, -122.29511 37...</td>\n",
       "      <td>215</td>\n",
       "      <td>215</td>\n",
       "      <td>Osgood - Warm Springs - Landing</td>\n",
       "    </tr>\n",
       "    <tr>\n",
       "      <th>3</th>\n",
       "      <td>4</td>\n",
       "      <td>shp-239-57</td>\n",
       "      <td>LINESTRING (-122.08650 37.66972, -121.97549 37...</td>\n",
       "      <td>239</td>\n",
       "      <td>239</td>\n",
       "      <td>Grimmer - Warm Springs</td>\n",
       "    </tr>\n",
       "    <tr>\n",
       "      <th>4</th>\n",
       "      <td>4</td>\n",
       "      <td>shp-28-09</td>\n",
       "      <td>LINESTRING (-122.08695 37.66989, -122.08695 37...</td>\n",
       "      <td>28</td>\n",
       "      <td>28</td>\n",
       "      <td>Alvarado - Castro Valley - B St.</td>\n",
       "    </tr>\n",
       "  </tbody>\n",
       "</table>\n",
       "</div>"
      ],
      "text/plain": [
       "   calitp_itp_id    shape_id  \\\n",
       "0              4   shp-18-18   \n",
       "1              4   shp-21-13   \n",
       "2              4  shp-215-67   \n",
       "3              4  shp-239-57   \n",
       "4              4   shp-28-09   \n",
       "\n",
       "                                            geometry route_id  \\\n",
       "0  LINESTRING (-122.08695 37.66989, -122.26581 37...       18   \n",
       "1  LINESTRING (-122.08709 37.67010, -122.21236 37...       21   \n",
       "2  LINESTRING (-121.97561 37.55791, -122.29511 37...      215   \n",
       "3  LINESTRING (-122.08650 37.66972, -121.97549 37...      239   \n",
       "4  LINESTRING (-122.08695 37.66989, -122.08695 37...       28   \n",
       "\n",
       "  route_short_name                   route_long_name  \n",
       "0               18       Solano - Shattuck - MLK Jr.  \n",
       "1               21     Dimond - Fruitvale - Bay Farm  \n",
       "2              215   Osgood - Warm Springs - Landing  \n",
       "3              239            Grimmer - Warm Springs  \n",
       "4               28  Alvarado - Castro Valley - B St.  "
      ]
     },
     "execution_count": 18,
     "metadata": {},
     "output_type": "execute_result"
    }
   ],
   "source": [
    "routes_part2 = prep_data.attach_route_name(missing_routes2, route_info)\n",
    "routes_part2.head()"
   ]
  },
  {
   "cell_type": "code",
   "execution_count": null,
   "id": "4566de91-2f7d-40a4-93f3-df16e340903d",
   "metadata": {},
   "outputs": [],
   "source": []
  },
  {
   "cell_type": "code",
   "execution_count": null,
   "id": "fce6cb5a-036f-4d3c-9848-64c8d7df828b",
   "metadata": {},
   "outputs": [],
   "source": []
  }
 ],
 "metadata": {
  "kernelspec": {
   "display_name": "Python 3 (ipykernel)",
   "language": "python",
   "name": "python3"
  },
  "language_info": {
   "codemirror_mode": {
    "name": "ipython",
    "version": 3
   },
   "file_extension": ".py",
   "mimetype": "text/x-python",
   "name": "python",
   "nbconvert_exporter": "python",
   "pygments_lexer": "ipython3",
   "version": "3.9.10"
  }
 },
 "nbformat": 4,
 "nbformat_minor": 5
}
