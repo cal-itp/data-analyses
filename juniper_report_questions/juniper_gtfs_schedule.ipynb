{
 "cells": [
  {
   "cell_type": "code",
   "execution_count": 1,
   "id": "db34af7b-aea9-4549-b3d9-fd48e658b79f",
   "metadata": {
    "tags": []
   },
   "outputs": [],
   "source": [
    "from calitp.tables import tbl\n",
    "from siuba import *\n",
    "from siuba.sql import sql_raw\n",
    "from siuba.experimental import completer\n",
    "from plotnine import *"
   ]
  },
  {
   "cell_type": "markdown",
   "id": "f43aa6a4-91a7-4e2f-a1f8-cad40ae0c748",
   "metadata": {},
   "source": [
    "## Are Feed Expiration dates meaningful and reliable?"
   ]
  },
  {
   "cell_type": "code",
   "execution_count": 2,
   "id": "0a4b2b20-0504-45c7-a61b-0c821e339571",
   "metadata": {
    "jupyter": {
     "source_hidden": true
    },
    "tags": []
   },
   "outputs": [],
   "source": [
    "tbl_expired_feeds = (tbl.gtfs_schedule.feed_info()                   \n",
    " >> mutate(feed_end_date_parsed = sql_raw('PARSE_DATE(\"%Y%m%d\", feed_end_date)'))\n",
    " >> mutate( feed_date_ended = _.feed_end_date_parsed < \"2021-07-01\") \n",
    " >> count(_.feed_date_ended, _.feed_end_date_parsed, _.calitp_itp_id)\n",
    " >> collect()\n",
    " >> mutate(feed_end_date_parsed = _.feed_end_date_parsed.astype(\"datetime64[ns]\"))\n",
    ")"
   ]
  },
  {
   "cell_type": "code",
   "execution_count": 17,
   "id": "9204898b-1704-4a6c-8137-9882f057e34a",
   "metadata": {
    "jupyter": {
     "source_hidden": true
    }
   },
   "outputs": [
    {
     "data": {
      "text/html": [
       "<div>\n",
       "<style scoped>\n",
       "    .dataframe tbody tr th:only-of-type {\n",
       "        vertical-align: middle;\n",
       "    }\n",
       "\n",
       "    .dataframe tbody tr th {\n",
       "        vertical-align: top;\n",
       "    }\n",
       "\n",
       "    .dataframe thead th {\n",
       "        text-align: right;\n",
       "    }\n",
       "</style>\n",
       "<table border=\"1\" class=\"dataframe\">\n",
       "  <thead>\n",
       "    <tr style=\"text-align: right;\">\n",
       "      <th></th>\n",
       "      <th>feed_date_ended</th>\n",
       "      <th>feed_end_date_parsed</th>\n",
       "      <th>calitp_itp_id</th>\n",
       "      <th>n</th>\n",
       "    </tr>\n",
       "  </thead>\n",
       "  <tbody>\n",
       "    <tr>\n",
       "      <th>31</th>\n",
       "      <td>False</td>\n",
       "      <td>2029-12-31</td>\n",
       "      <td>281</td>\n",
       "      <td>1</td>\n",
       "    </tr>\n",
       "  </tbody>\n",
       "</table>\n",
       "</div>"
      ],
      "text/plain": [
       "   feed_date_ended feed_end_date_parsed  calitp_itp_id  n\n",
       "31           False           2029-12-31            281  1"
      ]
     },
     "execution_count": 17,
     "metadata": {},
     "output_type": "execute_result"
    }
   ],
   "source": [
    "tbl_expired_feeds >> filter(_.feed_end_date_parsed == _.feed_end_date_parsed.max()) "
   ]
  },
  {
   "cell_type": "code",
   "execution_count": 22,
   "id": "63f8d972-9b44-4595-b6d7-63fd6e0c8519",
   "metadata": {
    "jupyter": {
     "source_hidden": true
    },
    "tags": []
   },
   "outputs": [],
   "source": [
    "DATE_YEAR_AGO = \"2020-07-14\"\n",
    "DATE_YEAR_OUT = \"2022-07-12\"\n",
    "TODAY_DATE = \"2020-07-15\"\n",
    "DATE_MONTH_AGO = \"2020-06-15\"\n",
    "\n",
    "tbl_feed_info = (tbl.gtfs_schedule.feed_info()                   \n",
    "     >> mutate(\n",
    "         start_date = sql_raw('PARSE_DATE(\"%Y%m%d\", feed_start_date)'),\n",
    "         end_date = sql_raw('PARSE_DATE(\"%Y%m%d\", feed_end_date)'),\n",
    "         start_date_year_ago = _.start_date < DATE_YEAR_AGO,\n",
    "         end_date_year_out = _.end_date > DATE_YEAR_OUT,\n",
    "         date_diff_days=sql_raw(\"DATE_DIFF(end_date, start_date, DAY)\"),\n",
    "         date_diff_btn_year = _.date_diff_days < 365,\n",
    "         \n",
    "         start_date_btn_month = (_.start_date > DATE_MONTH_AGO) & (_.start_date < TODAY_DATE),\n",
    "         end_date_btn_month = (_.end_date > DATE_MONTH_AGO) & (_.end_date < TODAY_DATE)\n",
    "     )\n",
    ")\n"
   ]
  },
  {
   "cell_type": "code",
   "execution_count": 23,
   "id": "d45fc5f3-6fe5-49f6-85dd-97f4344514f0",
   "metadata": {
    "jupyter": {
     "source_hidden": true
    },
    "tags": []
   },
   "outputs": [],
   "source": [
    "\n",
    "tbl_expiration = (\n",
    "    tbl_feed_info\n",
    "    >> mutate(end_date_max=_.end_date.max(), start_date_min=_.start_date)\n",
    "    >> summarize(\n",
    "        end_date_max=_.end_date_max.max(),\n",
    "        start_date_min=_.start_date_min.min(),\n",
    "        n_end_date_max = (_.end_date == _.end_date_max).astype(int).sum(),\n",
    "        #n_start_date_min=(_.end_date == _.end_date_max).astype(int).sum(),\n",
    "        n_start_date_min=(_.start_date == _.start_date_min).astype(int).sum(),\n",
    "        n_start_date_year=(_.start_date < DATE_YEAR_AGO).astype(int).sum(),\n",
    "        n_end_date_year=(_.end_date > DATE_YEAR_OUT).astype(int).sum(),\n",
    "        avg_date_diff=_.date_diff_days.mean().round(),\n",
    "        n_date_diff_btn_year = _.date_diff_btn_year.astype(int).sum(),\n",
    "        \n",
    "        n_start_date_btn_month = _.start_date_btn_month.astype(int).sum(),\n",
    "        n_end_date_btn_month = _.end_date_btn_month.astype(int).sum(),\n",
    "    \n",
    "    )\n",
    "    #reorder in sumarize \n",
    ")"
   ]
  },
  {
   "cell_type": "code",
   "execution_count": 25,
   "id": "d2d957ae-dfb9-4e0b-87df-f9a871376082",
   "metadata": {
    "jupyter": {
     "source_hidden": true
    }
   },
   "outputs": [
    {
     "data": {
      "text/html": [
       "<div><pre># Source: lazy query\n",
       "# DB Conn: Engine(bigquery://cal-itp-data-infra/?maximum_bytes_billed=5000000000)\n",
       "# Preview:\n",
       "</pre><div>\n",
       "<style scoped>\n",
       "    .dataframe tbody tr th:only-of-type {\n",
       "        vertical-align: middle;\n",
       "    }\n",
       "\n",
       "    .dataframe tbody tr th {\n",
       "        vertical-align: top;\n",
       "    }\n",
       "\n",
       "    .dataframe thead th {\n",
       "        text-align: right;\n",
       "    }\n",
       "</style>\n",
       "<table border=\"1\" class=\"dataframe\">\n",
       "  <thead>\n",
       "    <tr style=\"text-align: right;\">\n",
       "      <th></th>\n",
       "      <th>end_date_max</th>\n",
       "      <th>start_date_min</th>\n",
       "      <th>n_end_date_max</th>\n",
       "      <th>n_start_date_min</th>\n",
       "      <th>n_start_date_year</th>\n",
       "      <th>n_end_date_year</th>\n",
       "      <th>avg_date_diff</th>\n",
       "      <th>n_date_diff_btn_year</th>\n",
       "      <th>n_start_date_btn_month</th>\n",
       "      <th>n_end_date_btn_month</th>\n",
       "    </tr>\n",
       "  </thead>\n",
       "  <tbody>\n",
       "    <tr>\n",
       "      <th>0</th>\n",
       "      <td>2029-12-31</td>\n",
       "      <td>2012-02-01</td>\n",
       "      <td>1</td>\n",
       "      <td>179</td>\n",
       "      <td>19</td>\n",
       "      <td>8</td>\n",
       "      <td>327.0</td>\n",
       "      <td>130</td>\n",
       "      <td>5</td>\n",
       "      <td>0</td>\n",
       "    </tr>\n",
       "  </tbody>\n",
       "</table>\n",
       "</div><p># .. may have more rows</p></div>"
      ],
      "text/plain": [
       "# Source: lazy query\n",
       "# DB Conn: Engine(bigquery://cal-itp-data-infra/?maximum_bytes_billed=5000000000)\n",
       "# Preview:\n",
       "  end_date_max start_date_min  n_end_date_max  n_start_date_min  \\\n",
       "0   2029-12-31     2012-02-01               1               179   \n",
       "\n",
       "   n_start_date_year  n_end_date_year  avg_date_diff  n_date_diff_btn_year  \\\n",
       "0                 19                8          327.0                   130   \n",
       "\n",
       "   n_start_date_btn_month  n_end_date_btn_month  \n",
       "0                       5                     0  \n",
       "# .. may have more rows"
      ]
     },
     "execution_count": 25,
     "metadata": {},
     "output_type": "execute_result"
    }
   ],
   "source": [
    "tbl_expiration"
   ]
  },
  {
   "cell_type": "markdown",
   "id": "41f4578e-7243-464d-8bf3-a59c8735731a",
   "metadata": {
    "tags": []
   },
   "source": [
    "* **What is the furthest future date in feed_info_end?** `2029-12-31`\n",
    "* **How many feeds share this furthest feed_into_end date?** `One`"
   ]
  },
  {
   "cell_type": "markdown",
   "id": "e1f74590-3217-422b-a2fb-32cc963f031f",
   "metadata": {
    "tags": []
   },
   "source": [
    "* **What is the oldest feed_start_date?** `2012-02-01`\n",
    "* **How many feeds share this feed_start date?** `Two`"
   ]
  },
  {
   "cell_type": "markdown",
   "id": "627eab08-e4ba-466c-90f5-92fbfe839151",
   "metadata": {
    "tags": []
   },
   "source": [
    "* **How Many feeds have a feed_info_end_date more than one year into the future?** `8`\n",
    "* **How many feeds have a feed_start_date that is more than one year in the future?** `19`"
   ]
  },
  {
   "cell_type": "markdown",
   "id": "4d1bed79-1206-442c-8a5a-2e3f412485fd",
   "metadata": {
    "tags": []
   },
   "source": [
    "* **What is the average length of time between a feed_info_start and feed_info_end?** `327 Days`\n",
    "* **How many feeds have one year or less between feed_info_start and feed_info_end?** `130`\n"
   ]
  },
  {
   "cell_type": "markdown",
   "id": "4f922128-0a1f-4210-b3dc-b0b987c51e37",
   "metadata": {
    "tags": []
   },
   "source": [
    "### Scratchpad"
   ]
  },
  {
   "cell_type": "code",
   "execution_count": 24,
   "id": "5af609dc-1360-446f-870a-00192a7c0ebf",
   "metadata": {
    "jupyter": {
     "source_hidden": true
    },
    "tags": []
   },
   "outputs": [
    {
     "data": {
      "text/html": [
       "<div><pre># Source: lazy query\n",
       "# DB Conn: Engine(bigquery://cal-itp-data-infra/?maximum_bytes_billed=5000000000)\n",
       "# Preview:\n",
       "</pre><div>\n",
       "<style scoped>\n",
       "    .dataframe tbody tr th:only-of-type {\n",
       "        vertical-align: middle;\n",
       "    }\n",
       "\n",
       "    .dataframe tbody tr th {\n",
       "        vertical-align: top;\n",
       "    }\n",
       "\n",
       "    .dataframe thead th {\n",
       "        text-align: right;\n",
       "    }\n",
       "</style>\n",
       "<table border=\"1\" class=\"dataframe\">\n",
       "  <thead>\n",
       "    <tr style=\"text-align: right;\">\n",
       "      <th></th>\n",
       "      <th>calitp_itp_id</th>\n",
       "      <th>calitp_url_number</th>\n",
       "      <th>feed_publisher_name</th>\n",
       "      <th>feed_publisher_url</th>\n",
       "      <th>feed_lang</th>\n",
       "      <th>default_lang</th>\n",
       "      <th>feed_start_date</th>\n",
       "      <th>feed_end_date</th>\n",
       "      <th>feed_version</th>\n",
       "      <th>feed_contact_email</th>\n",
       "      <th>feed_contact_url</th>\n",
       "      <th>calitp_extracted_at</th>\n",
       "      <th>start_date</th>\n",
       "      <th>end_date</th>\n",
       "      <th>start_date_year_ago</th>\n",
       "      <th>end_date_year_out</th>\n",
       "      <th>date_diff_days</th>\n",
       "      <th>date_diff_btn_year</th>\n",
       "      <th>start_date_btn_month</th>\n",
       "      <th>end_date_btn_month</th>\n",
       "    </tr>\n",
       "  </thead>\n",
       "  <tbody>\n",
       "    <tr>\n",
       "      <th>0</th>\n",
       "      <td>93</td>\n",
       "      <td>0</td>\n",
       "      <td>DART</td>\n",
       "      <td>http://www.tularecog.org/bustimes/</td>\n",
       "      <td>EN</td>\n",
       "      <td>None</td>\n",
       "      <td>20120201</td>\n",
       "      <td>20211215</td>\n",
       "      <td>20120202</td>\n",
       "      <td>None</td>\n",
       "      <td>None</td>\n",
       "      <td>2021-06-17</td>\n",
       "      <td>2012-02-01</td>\n",
       "      <td>2021-12-15</td>\n",
       "      <td>True</td>\n",
       "      <td>False</td>\n",
       "      <td>3605.0</td>\n",
       "      <td>False</td>\n",
       "      <td>False</td>\n",
       "      <td>False</td>\n",
       "    </tr>\n",
       "    <tr>\n",
       "      <th>1</th>\n",
       "      <td>294</td>\n",
       "      <td>0</td>\n",
       "      <td>Santa Clara Valley Transportation Authority</td>\n",
       "      <td>https://www.vta.org</td>\n",
       "      <td>EN</td>\n",
       "      <td>None</td>\n",
       "      <td>20210614</td>\n",
       "      <td>20211010</td>\n",
       "      <td>2021-06-08_07:31</td>\n",
       "      <td>customer.service@vta.org</td>\n",
       "      <td>https://www.vta.org/about/contact</td>\n",
       "      <td>2021-06-10</td>\n",
       "      <td>2021-06-14</td>\n",
       "      <td>2021-10-10</td>\n",
       "      <td>False</td>\n",
       "      <td>False</td>\n",
       "      <td>118.0</td>\n",
       "      <td>True</td>\n",
       "      <td>False</td>\n",
       "      <td>False</td>\n",
       "    </tr>\n",
       "    <tr>\n",
       "      <th>2</th>\n",
       "      <td>226</td>\n",
       "      <td>0</td>\n",
       "      <td>NCTD</td>\n",
       "      <td>http://www.gonctd.com</td>\n",
       "      <td>EN</td>\n",
       "      <td>None</td>\n",
       "      <td>None</td>\n",
       "      <td>None</td>\n",
       "      <td>Version_2021-05-14</td>\n",
       "      <td>None</td>\n",
       "      <td>None</td>\n",
       "      <td>2021-05-24</td>\n",
       "      <td>None</td>\n",
       "      <td>None</td>\n",
       "      <td>None</td>\n",
       "      <td>None</td>\n",
       "      <td>NaN</td>\n",
       "      <td>None</td>\n",
       "      <td>None</td>\n",
       "      <td>None</td>\n",
       "    </tr>\n",
       "    <tr>\n",
       "      <th>3</th>\n",
       "      <td>278</td>\n",
       "      <td>0</td>\n",
       "      <td>MTS</td>\n",
       "      <td>http://www.sdmts.com</td>\n",
       "      <td>EN</td>\n",
       "      <td>None</td>\n",
       "      <td>None</td>\n",
       "      <td>None</td>\n",
       "      <td>v3 Add 4th of July Trolley Modifications</td>\n",
       "      <td>None</td>\n",
       "      <td>None</td>\n",
       "      <td>2021-06-28</td>\n",
       "      <td>None</td>\n",
       "      <td>None</td>\n",
       "      <td>None</td>\n",
       "      <td>None</td>\n",
       "      <td>NaN</td>\n",
       "      <td>None</td>\n",
       "      <td>None</td>\n",
       "      <td>None</td>\n",
       "    </tr>\n",
       "    <tr>\n",
       "      <th>4</th>\n",
       "      <td>194</td>\n",
       "      <td>0</td>\n",
       "      <td>Optibus</td>\n",
       "      <td>https://www.optibus.com</td>\n",
       "      <td>en</td>\n",
       "      <td>None</td>\n",
       "      <td>20210620</td>\n",
       "      <td>20210911</td>\n",
       "      <td>None</td>\n",
       "      <td>support@optibus.com</td>\n",
       "      <td>https://support.optibus.com</td>\n",
       "      <td>2021-06-19</td>\n",
       "      <td>2021-06-20</td>\n",
       "      <td>2021-09-11</td>\n",
       "      <td>False</td>\n",
       "      <td>False</td>\n",
       "      <td>83.0</td>\n",
       "      <td>True</td>\n",
       "      <td>False</td>\n",
       "      <td>False</td>\n",
       "    </tr>\n",
       "  </tbody>\n",
       "</table>\n",
       "</div><p># .. may have more rows</p></div>"
      ],
      "text/plain": [
       "# Source: lazy query\n",
       "# DB Conn: Engine(bigquery://cal-itp-data-infra/?maximum_bytes_billed=5000000000)\n",
       "# Preview:\n",
       "   calitp_itp_id  calitp_url_number  \\\n",
       "0             93                  0   \n",
       "1            294                  0   \n",
       "2            226                  0   \n",
       "3            278                  0   \n",
       "4            194                  0   \n",
       "\n",
       "                           feed_publisher_name  \\\n",
       "0                                         DART   \n",
       "1  Santa Clara Valley Transportation Authority   \n",
       "2                                         NCTD   \n",
       "3                                          MTS   \n",
       "4                                      Optibus   \n",
       "\n",
       "                   feed_publisher_url feed_lang default_lang feed_start_date  \\\n",
       "0  http://www.tularecog.org/bustimes/        EN         None        20120201   \n",
       "1                 https://www.vta.org        EN         None        20210614   \n",
       "2               http://www.gonctd.com        EN         None            None   \n",
       "3                http://www.sdmts.com        EN         None            None   \n",
       "4             https://www.optibus.com        en         None        20210620   \n",
       "\n",
       "  feed_end_date                              feed_version  \\\n",
       "0      20211215                                  20120202   \n",
       "1      20211010                          2021-06-08_07:31   \n",
       "2          None                        Version_2021-05-14   \n",
       "3          None  v3 Add 4th of July Trolley Modifications   \n",
       "4      20210911                                      None   \n",
       "\n",
       "         feed_contact_email                   feed_contact_url  \\\n",
       "0                      None                               None   \n",
       "1  customer.service@vta.org  https://www.vta.org/about/contact   \n",
       "2                      None                               None   \n",
       "3                      None                               None   \n",
       "4       support@optibus.com        https://support.optibus.com   \n",
       "\n",
       "  calitp_extracted_at  start_date    end_date start_date_year_ago  \\\n",
       "0          2021-06-17  2012-02-01  2021-12-15                True   \n",
       "1          2021-06-10  2021-06-14  2021-10-10               False   \n",
       "2          2021-05-24        None        None                None   \n",
       "3          2021-06-28        None        None                None   \n",
       "4          2021-06-19  2021-06-20  2021-09-11               False   \n",
       "\n",
       "  end_date_year_out  date_diff_days date_diff_btn_year start_date_btn_month  \\\n",
       "0             False          3605.0              False                False   \n",
       "1             False           118.0               True                False   \n",
       "2              None             NaN               None                 None   \n",
       "3              None             NaN               None                 None   \n",
       "4             False            83.0               True                False   \n",
       "\n",
       "  end_date_btn_month  \n",
       "0              False  \n",
       "1              False  \n",
       "2               None  \n",
       "3               None  \n",
       "4              False  \n",
       "# .. may have more rows"
      ]
     },
     "execution_count": 24,
     "metadata": {},
     "output_type": "execute_result"
    }
   ],
   "source": [
    "tbl_feed_info"
   ]
  },
  {
   "cell_type": "code",
   "execution_count": 8,
   "id": "6f9ae968-a191-4f1f-8253-84603defe13d",
   "metadata": {
    "tags": []
   },
   "outputs": [
    {
     "data": {
      "image/png": "[encoded data removed]",
      "text/plain": [
       "<Figure size 640x480 with 1 Axes>"
      ]
     },
     "metadata": {},
     "output_type": "display_data"
    },
    {
     "data": {
      "text/plain": [
       "<ggplot: (303570116)>"
      ]
     },
     "execution_count": 8,
     "metadata": {},
     "output_type": "execute_result"
    }
   ],
   "source": [
    "# plot end date counts using tbl_feed_info \n",
    "(\n",
    "    tbl_feed_info \n",
    "    >> collect()\n",
    "    >> filter(_.end_date.notna())\n",
    "    >> mutate(end_date = _.end_date.astype(\"datetime64[ns]\"), n = 1)\n",
    "    >> ggplot(aes(\"end_date.dt.year\", \"n\", fill=\"end_date_year_out\")) + geom_col() + theme(axis_text_x = element_text(angle=45, hjust=1))\n",
    ")\n",
    "#missing years are not plotted"
   ]
  },
  {
   "cell_type": "code",
   "execution_count": 9,
   "id": "fc2052f6-8338-48a2-8d32-9927eaedbf35",
   "metadata": {
    "tags": []
   },
   "outputs": [
    {
     "data": {
      "image/png": "[encoded data removed]",
      "text/plain": [
       "<Figure size 640x480 with 1 Axes>"
      ]
     },
     "metadata": {},
     "output_type": "display_data"
    },
    {
     "data": {
      "text/plain": [
       "<ggplot: (303630815)>"
      ]
     },
     "execution_count": 9,
     "metadata": {},
     "output_type": "execute_result"
    }
   ],
   "source": [
    "# plot start date counts using tbl_feed_info \n",
    "(\n",
    "    tbl_feed_info \n",
    "    >> collect()\n",
    "    >> filter(_.start_date.notna())\n",
    "    >> mutate(start_date = _.start_date.astype(\"datetime64[ns]\"), n = 1)\n",
    "    >> ggplot(aes(\"start_date.dt.year\", \"n\", fill=\"start_date_year_ago\")) + geom_col() + theme(axis_text_x = element_text(angle=45, hjust=1))\n",
    ")\n",
    "#missing years are not plotted"
   ]
  },
  {
   "cell_type": "markdown",
   "id": "6887fb7d-e122-4acf-bb41-cd041139c3f2",
   "metadata": {},
   "source": [
    "## How many agencies have invalid GTFS Data? "
   ]
  },
  {
   "cell_type": "code",
   "execution_count": 178,
   "id": "fad5e2e9-49e5-46f8-8148-d96cbc21e4e2",
   "metadata": {
    "tags": []
   },
   "outputs": [],
   "source": [
    "MONTH_START=\"2021-06-01\"\n",
    "MONTH_END=\"2021-06-30\"\n",
    "\n",
    "tbl_date_range = tbl.views.dim_date() >> filter(_.full_date.between(MONTH_START, MONTH_END)) >> select(_.full_date)"
   ]
  },
  {
   "cell_type": "code",
   "execution_count": 179,
   "id": "4a009ed2-c916-4365-9096-410d19c48392",
   "metadata": {
    "tags": []
   },
   "outputs": [],
   "source": [
    "tbl_feed_info_daily = (\n",
    "    tbl.gtfs_schedule_type2.feed_info()\n",
    "    >> mutate(deleted_at=_.calitp_deleted_at.fillna(\"2099-01-01\"))\n",
    "    >> inner_join(\n",
    "        _,\n",
    "        tbl_date_range,\n",
    "        sql_on=lambda lhs, rhs: (lhs.calitp_extracted_at <= rhs.full_date)\n",
    "        & (lhs.deleted_at > rhs.full_date),\n",
    "    )\n",
    ")\n",
    "#has feed info for every feed, for every day in the past month "
   ]
  },
  {
   "cell_type": "code",
   "execution_count": 180,
   "id": "b10f8bd7-dd58-457f-a7e2-6bdf877fcac1",
   "metadata": {},
   "outputs": [
    {
     "data": {
      "text/html": [
       "<div>\n",
       "<style scoped>\n",
       "    .dataframe tbody tr th:only-of-type {\n",
       "        vertical-align: middle;\n",
       "    }\n",
       "\n",
       "    .dataframe tbody tr th {\n",
       "        vertical-align: top;\n",
       "    }\n",
       "\n",
       "    .dataframe thead th {\n",
       "        text-align: right;\n",
       "    }\n",
       "</style>\n",
       "<table border=\"1\" class=\"dataframe\">\n",
       "  <thead>\n",
       "    <tr style=\"text-align: right;\">\n",
       "      <th></th>\n",
       "      <th>full_date</th>\n",
       "      <th>date_future</th>\n",
       "      <th>date_past</th>\n",
       "    </tr>\n",
       "  </thead>\n",
       "  <tbody>\n",
       "    <tr>\n",
       "      <th>0</th>\n",
       "      <td>2021-06-01</td>\n",
       "      <td>3.0</td>\n",
       "      <td>168.0</td>\n",
       "    </tr>\n",
       "    <tr>\n",
       "      <th>1</th>\n",
       "      <td>2021-06-02</td>\n",
       "      <td>3.0</td>\n",
       "      <td>170.0</td>\n",
       "    </tr>\n",
       "    <tr>\n",
       "      <th>2</th>\n",
       "      <td>2021-06-03</td>\n",
       "      <td>3.0</td>\n",
       "      <td>165.0</td>\n",
       "    </tr>\n",
       "    <tr>\n",
       "      <th>3</th>\n",
       "      <td>2021-06-04</td>\n",
       "      <td>3.0</td>\n",
       "      <td>170.0</td>\n",
       "    </tr>\n",
       "    <tr>\n",
       "      <th>4</th>\n",
       "      <td>2021-06-05</td>\n",
       "      <td>3.0</td>\n",
       "      <td>170.0</td>\n",
       "    </tr>\n",
       "    <tr>\n",
       "      <th>5</th>\n",
       "      <td>2021-06-06</td>\n",
       "      <td>4.0</td>\n",
       "      <td>170.0</td>\n",
       "    </tr>\n",
       "    <tr>\n",
       "      <th>6</th>\n",
       "      <td>2021-06-07</td>\n",
       "      <td>1.0</td>\n",
       "      <td>168.0</td>\n",
       "    </tr>\n",
       "    <tr>\n",
       "      <th>7</th>\n",
       "      <td>2021-06-08</td>\n",
       "      <td>1.0</td>\n",
       "      <td>173.0</td>\n",
       "    </tr>\n",
       "    <tr>\n",
       "      <th>8</th>\n",
       "      <td>2021-06-09</td>\n",
       "      <td>1.0</td>\n",
       "      <td>173.0</td>\n",
       "    </tr>\n",
       "    <tr>\n",
       "      <th>9</th>\n",
       "      <td>2021-06-10</td>\n",
       "      <td>1.0</td>\n",
       "      <td>173.0</td>\n",
       "    </tr>\n",
       "    <tr>\n",
       "      <th>10</th>\n",
       "      <td>2021-06-11</td>\n",
       "      <td>1.0</td>\n",
       "      <td>173.0</td>\n",
       "    </tr>\n",
       "    <tr>\n",
       "      <th>11</th>\n",
       "      <td>2021-06-12</td>\n",
       "      <td>1.0</td>\n",
       "      <td>173.0</td>\n",
       "    </tr>\n",
       "    <tr>\n",
       "      <th>12</th>\n",
       "      <td>2021-06-13</td>\n",
       "      <td>1.0</td>\n",
       "      <td>173.0</td>\n",
       "    </tr>\n",
       "    <tr>\n",
       "      <th>13</th>\n",
       "      <td>2021-06-14</td>\n",
       "      <td>1.0</td>\n",
       "      <td>173.0</td>\n",
       "    </tr>\n",
       "    <tr>\n",
       "      <th>14</th>\n",
       "      <td>2021-06-15</td>\n",
       "      <td>1.0</td>\n",
       "      <td>173.0</td>\n",
       "    </tr>\n",
       "    <tr>\n",
       "      <th>15</th>\n",
       "      <td>2021-06-16</td>\n",
       "      <td>2.0</td>\n",
       "      <td>171.0</td>\n",
       "    </tr>\n",
       "    <tr>\n",
       "      <th>16</th>\n",
       "      <td>2021-06-17</td>\n",
       "      <td>2.0</td>\n",
       "      <td>171.0</td>\n",
       "    </tr>\n",
       "    <tr>\n",
       "      <th>17</th>\n",
       "      <td>2021-06-18</td>\n",
       "      <td>3.0</td>\n",
       "      <td>167.0</td>\n",
       "    </tr>\n",
       "    <tr>\n",
       "      <th>18</th>\n",
       "      <td>2021-06-19</td>\n",
       "      <td>4.0</td>\n",
       "      <td>170.0</td>\n",
       "    </tr>\n",
       "    <tr>\n",
       "      <th>19</th>\n",
       "      <td>2021-06-20</td>\n",
       "      <td>2.0</td>\n",
       "      <td>170.0</td>\n",
       "    </tr>\n",
       "    <tr>\n",
       "      <th>20</th>\n",
       "      <td>2021-06-21</td>\n",
       "      <td>4.0</td>\n",
       "      <td>163.0</td>\n",
       "    </tr>\n",
       "    <tr>\n",
       "      <th>21</th>\n",
       "      <td>2021-06-22</td>\n",
       "      <td>2.0</td>\n",
       "      <td>170.0</td>\n",
       "    </tr>\n",
       "    <tr>\n",
       "      <th>22</th>\n",
       "      <td>2021-06-23</td>\n",
       "      <td>2.0</td>\n",
       "      <td>166.0</td>\n",
       "    </tr>\n",
       "    <tr>\n",
       "      <th>23</th>\n",
       "      <td>2021-06-24</td>\n",
       "      <td>17.0</td>\n",
       "      <td>149.0</td>\n",
       "    </tr>\n",
       "    <tr>\n",
       "      <th>24</th>\n",
       "      <td>2021-06-25</td>\n",
       "      <td>3.0</td>\n",
       "      <td>157.0</td>\n",
       "    </tr>\n",
       "    <tr>\n",
       "      <th>25</th>\n",
       "      <td>2021-06-26</td>\n",
       "      <td>3.0</td>\n",
       "      <td>170.0</td>\n",
       "    </tr>\n",
       "    <tr>\n",
       "      <th>26</th>\n",
       "      <td>2021-06-27</td>\n",
       "      <td>1.0</td>\n",
       "      <td>170.0</td>\n",
       "    </tr>\n",
       "    <tr>\n",
       "      <th>27</th>\n",
       "      <td>2021-06-28</td>\n",
       "      <td>1.0</td>\n",
       "      <td>165.0</td>\n",
       "    </tr>\n",
       "    <tr>\n",
       "      <th>28</th>\n",
       "      <td>2021-06-29</td>\n",
       "      <td>1.0</td>\n",
       "      <td>169.0</td>\n",
       "    </tr>\n",
       "    <tr>\n",
       "      <th>29</th>\n",
       "      <td>2021-06-30</td>\n",
       "      <td>1.0</td>\n",
       "      <td>170.0</td>\n",
       "    </tr>\n",
       "  </tbody>\n",
       "</table>\n",
       "</div>"
      ],
      "text/plain": [
       "     full_date  date_future  date_past\n",
       "0   2021-06-01          3.0      168.0\n",
       "1   2021-06-02          3.0      170.0\n",
       "2   2021-06-03          3.0      165.0\n",
       "3   2021-06-04          3.0      170.0\n",
       "4   2021-06-05          3.0      170.0\n",
       "5   2021-06-06          4.0      170.0\n",
       "6   2021-06-07          1.0      168.0\n",
       "7   2021-06-08          1.0      173.0\n",
       "8   2021-06-09          1.0      173.0\n",
       "9   2021-06-10          1.0      173.0\n",
       "10  2021-06-11          1.0      173.0\n",
       "11  2021-06-12          1.0      173.0\n",
       "12  2021-06-13          1.0      173.0\n",
       "13  2021-06-14          1.0      173.0\n",
       "14  2021-06-15          1.0      173.0\n",
       "15  2021-06-16          2.0      171.0\n",
       "16  2021-06-17          2.0      171.0\n",
       "17  2021-06-18          3.0      167.0\n",
       "18  2021-06-19          4.0      170.0\n",
       "19  2021-06-20          2.0      170.0\n",
       "20  2021-06-21          4.0      163.0\n",
       "21  2021-06-22          2.0      170.0\n",
       "22  2021-06-23          2.0      166.0\n",
       "23  2021-06-24         17.0      149.0\n",
       "24  2021-06-25          3.0      157.0\n",
       "25  2021-06-26          3.0      170.0\n",
       "26  2021-06-27          1.0      170.0\n",
       "27  2021-06-28          1.0      165.0\n",
       "28  2021-06-29          1.0      169.0\n",
       "29  2021-06-30          1.0      170.0"
      ]
     },
     "execution_count": 180,
     "metadata": {},
     "output_type": "execute_result"
    }
   ],
   "source": [
    "(tbl_feed_info_daily\n",
    "    >> mutate(\n",
    "        start_date=sql_raw('PARSE_DATE(\"%Y%m%d\", feed_start_date)'),\n",
    "        end_date=sql_raw('PARSE_DATE(\"%Y%m%d\", feed_end_date)'),\n",
    "        start_date_year_ago=_.start_date < DATE_YEAR_AGO,\n",
    "        end_date_year_out=_.end_date > DATE_YEAR_OUT,\n",
    "        date_diff_days=sql_raw(\"DATE_DIFF(end_date, start_date, DAY)\"),\n",
    "        date_diff_short=_.date_diff_days < 365,\n",
    "        date_diff_future = (_.start_date > _.full_date).astype(int), #start date in future given the date the data was collected\n",
    "        date_diff_past = (_.start_date < _.full_date).astype(int),\n",
    "        mean_date_diff=_.date_diff_days.mean()\n",
    "    )\n",
    "    >>collect()\n",
    "    >> group_by(_.full_date)\n",
    "    >> summarize(\n",
    "        date_future = _.date_diff_future.sum(),\n",
    "        date_past = _.date_diff_past.sum(),\n",
    "    )\n",
    ")"
   ]
  },
  {
   "cell_type": "code",
   "execution_count": 181,
   "id": "b9a266a7-9bfe-42da-903e-d29db9388365",
   "metadata": {},
   "outputs": [
    {
     "data": {
      "image/png": "[encoded data removed]",
      "text/plain": [
       "<Figure size 640x480 with 1 Axes>"
      ]
     },
     "metadata": {},
     "output_type": "display_data"
    },
    {
     "data": {
      "text/plain": [
       "<ggplot: (303741850)>"
      ]
     },
     "execution_count": 181,
     "metadata": {},
     "output_type": "execute_result"
    }
   ],
   "source": [
    "(tbl.gtfs_schedule_type2.feed_info()\n",
    "  >> count(_.calitp_extracted_at)\n",
    "  >> filter(_.calitp_extracted_at > \"2021-06-01\")\n",
    "  >> collect()\n",
    "  >> ggplot(aes(\"calitp_extracted_at\", \"n\"))\n",
    "  + scale_x_datetime(date_breaks=\"1 weeks\") + theme(axis_text_x = element_text(angle=45, hjust=1))+ geom_col())"
   ]
  },
  {
   "cell_type": "code",
   "execution_count": 182,
   "id": "643cf49e-a1ba-4716-b9fb-721fd932a764",
   "metadata": {},
   "outputs": [
    {
     "data": {
      "image/png": "[encoded data removed]",
      "text/plain": [
       "<Figure size 640x480 with 1 Axes>"
      ]
     },
     "metadata": {},
     "output_type": "display_data"
    },
    {
     "data": {
      "text/plain": [
       "<ggplot: (308626595)>"
      ]
     },
     "execution_count": 182,
     "metadata": {},
     "output_type": "execute_result"
    }
   ],
   "source": [
    "(tbl_feed_info_daily\n",
    "    >> mutate(\n",
    "        start_date=sql_raw('PARSE_DATE(\"%Y%m%d\", feed_start_date)'),\n",
    "        end_date=sql_raw('PARSE_DATE(\"%Y%m%d\", feed_end_date)'),\n",
    "        start_date_year_ago=_.start_date < DATE_YEAR_AGO,\n",
    "        end_date_year_out=_.end_date > DATE_YEAR_OUT,\n",
    "        date_diff_days=sql_raw(\"DATE_DIFF(end_date, start_date, DAY)\"),\n",
    "        date_diff_short=_.date_diff_days < 365,\n",
    "        date_diff_future = (_.start_date > _.full_date).astype(int), #start date in future given the date the data was collected\n",
    "        date_diff_past = (_.start_date < _.full_date).astype(int),\n",
    "        mean_date_diff=_.date_diff_days.mean()\n",
    "    )\n",
    "    >>collect()\n",
    "    >> group_by(_.full_date)\n",
    "    >> summarize(\n",
    "        date_future = _.date_diff_future.sum(),\n",
    "        date_past = _.date_diff_past.sum(),     \n",
    "    )\n",
    " >> ggplot(aes(\"full_date\",\"date_future\")) + geom_col() + labs(y=\"Number of Agencies\", x=\"Date\") + scale_x_datetime(date_breaks=\"1 weeks\") + theme(axis_text_x = element_text(angle=45, hjust=1)) + ggtitle(\"Number of Agencies with Feed Start Date in the Future\")\n",
    ")"
   ]
  },
  {
   "cell_type": "markdown",
   "id": "9db53f25-5a9a-45d1-9ee3-735a76722924",
   "metadata": {},
   "source": [
    "* **For each day in the past month, how many agencies had a feed_end_date in the past?** ``\n",
    "* **For each day in the past month, how many agencies had a feed_start_date in the future?** ``"
   ]
  },
  {
   "cell_type": "code",
   "execution_count": 40,
   "id": "d44fd114-d56f-42b5-86d0-a3f97abd66bd",
   "metadata": {
    "tags": []
   },
   "outputs": [],
   "source": [
    "tbl_calendar_info = (tbl.gtfs_schedule.calendar()                   \n",
    "     >> mutate(\n",
    "         calendar_start_date = sql_raw('PARSE_DATE(\"%Y%m%d\", start_date)'),\n",
    "         calendar_end_date = sql_raw('PARSE_DATE(\"%Y%m%d\", end_date)'),\n",
    "         calendar_start_date_future = _.calendar_start_date > TODAY_DATE,\n",
    "         calendar_end_date_past = _.calendar_end_date < TODAY_DATE, \n",
    "     )\n",
    ")"
   ]
  },
  {
   "cell_type": "code",
   "execution_count": 49,
   "id": "28601e95-cdbb-42f7-b84d-c98d31673309",
   "metadata": {
    "tags": []
   },
   "outputs": [],
   "source": [
    "tbl_calendar_feed_expiration = (\n",
    "    tbl_calendar_info\n",
    "    >> mutate(calendar_end_date_max=_.calendar_end_date.max(), calendar_start_date_min=_.calendar_start_date.min())\n",
    "    >> group_by(_.calitp_itp_id, _.calitp_url_number) #grouping by feed \n",
    "    >> summarize (\n",
    "    calendar_end_date_max =_.calendar_end_date_max.max(),\n",
    "    calendar_start_date_min =_.calendar_start_date_min.min(),\n",
    "    n_calendar_start_date_expired = (_.calendar_start_date_future).astype(int).mean(),\n",
    "    n_calendar_end_date_expired = (_.calendar_end_date_past).astype(int).mean()    \n",
    "                 )\n",
    ")\n"
   ]
  },
  {
   "cell_type": "code",
   "execution_count": 57,
   "id": "88de940f-a6f6-449d-9d24-05774a6226a5",
   "metadata": {
    "tags": []
   },
   "outputs": [],
   "source": [
    "tbl_calendar_expiration = (\n",
    "    tbl_calendar_feed_expiration\n",
    "    >> summarize (\n",
    "    all_calendar_start_date_future = (_.n_calendar_start_date_expired == 1).astype(int).sum(),\n",
    "    all_calendar_end_date_expired = (_.n_calendar_end_date_expired == 1).astype(int).sum()\n",
    "    )\n",
    ")"
   ]
  },
  {
   "cell_type": "code",
   "execution_count": 56,
   "id": "a5205394-5da4-4c35-8acd-03f147de779e",
   "metadata": {
    "tags": []
   },
   "outputs": [
    {
     "data": {
      "text/html": [
       "<div><pre># Source: lazy query\n",
       "# DB Conn: Engine(bigquery://cal-itp-data-infra/?maximum_bytes_billed=5000000000)\n",
       "# Preview:\n",
       "</pre><div>\n",
       "<style scoped>\n",
       "    .dataframe tbody tr th:only-of-type {\n",
       "        vertical-align: middle;\n",
       "    }\n",
       "\n",
       "    .dataframe tbody tr th {\n",
       "        vertical-align: top;\n",
       "    }\n",
       "\n",
       "    .dataframe thead th {\n",
       "        text-align: right;\n",
       "    }\n",
       "</style>\n",
       "<table border=\"1\" class=\"dataframe\">\n",
       "  <thead>\n",
       "    <tr style=\"text-align: right;\">\n",
       "      <th></th>\n",
       "      <th>all_calendar_start_date_expired</th>\n",
       "      <th>all_calendar_end_date_expired</th>\n",
       "    </tr>\n",
       "  </thead>\n",
       "  <tbody>\n",
       "    <tr>\n",
       "      <th>0</th>\n",
       "      <td>122</td>\n",
       "      <td>5</td>\n",
       "    </tr>\n",
       "  </tbody>\n",
       "</table>\n",
       "</div><p># .. may have more rows</p></div>"
      ],
      "text/plain": [
       "# Source: lazy query\n",
       "# DB Conn: Engine(bigquery://cal-itp-data-infra/?maximum_bytes_billed=5000000000)\n",
       "# Preview:\n",
       "   all_calendar_start_date_expired  all_calendar_end_date_expired\n",
       "0                              122                              5\n",
       "# .. may have more rows"
      ]
     },
     "execution_count": 56,
     "metadata": {},
     "output_type": "execute_result"
    }
   ],
   "source": [
    "tbl_calendar_expiration"
   ]
  },
  {
   "cell_type": "markdown",
   "id": "9268d0f2-9e7d-4e37-b54d-0a53daba65b5",
   "metadata": {
    "tags": []
   },
   "source": [
    "#for calendar \n",
    "* **For how many feeds are all end_dates in the past?** `122`\n",
    "* **For how many feeds are all start_dates in the future?** `5`"
   ]
  },
  {
   "cell_type": "markdown",
   "id": "bb4b5663-921f-4d77-8594-c1618be6b311",
   "metadata": {
    "tags": []
   },
   "source": [
    "## How \"good\" is California transit data?"
   ]
  },
  {
   "cell_type": "markdown",
   "id": "63da7186-5252-4350-ba5a-16bbbc1a51f0",
   "metadata": {},
   "source": [
    "# Calculated on metabase \n",
    "\n",
    "\n",
    "* **How many feeds (as a percentage) have zero validation errors?** `25`\n",
    "* **What is the average number of unique errors per feed?** ``\n",
    "* **How many feeds are invalid?**\n",
    "* **How many routes are supported by GTFS feeds?**\n",
    "* **How many unique agency ids are supported by GTFS feeds?**"
   ]
  },
  {
   "cell_type": "code",
   "execution_count": 65,
   "id": "20712d46-fcb9-4369-a491-9f559439161d",
   "metadata": {},
   "outputs": [],
   "source": [
    "tbl_validation_notices = (tbl.gtfs_schedule_type2.validation_notices())"
   ]
  },
  {
   "cell_type": "code",
   "execution_count": 67,
   "id": "d9e7c2cb-6602-474d-9324-6e6cc5187556",
   "metadata": {},
   "outputs": [],
   "source": [
    "tbl_code_metrics = distinct(_.calitp_itp_id, _.calitp_url_number)"
   ]
  },
  {
   "cell_type": "code",
   "execution_count": 68,
   "id": "60b98cc0-7b64-4c88-912d-555228cd24c9",
   "metadata": {},
   "outputs": [],
   "source": [
    "unique_codes = tbl_code_metrics >> distinct(_.code)"
   ]
  },
  {
   "cell_type": "markdown",
   "id": "cf6915db-1f62-41b0-aa4c-2be3c963755b",
   "metadata": {},
   "source": [
    "## What errors should CAL-ITP target for resolution? "
   ]
  },
  {
   "cell_type": "markdown",
   "id": "feb84a17-0a44-4a6f-b401-1366269af9cd",
   "metadata": {},
   "source": [
    "* **In how many feeds does each error (including warning and info) appear?** "
   ]
  }
 ],
 "metadata": {
  "kernelspec": {
   "display_name": "Python 3",
   "language": "python",
   "name": "python3"
  },
  "language_info": {
   "codemirror_mode": {
    "name": "ipython",
    "version": 3
   },
   "file_extension": ".py",
   "mimetype": "text/x-python",
   "name": "python",
   "nbconvert_exporter": "python",
   "pygments_lexer": "ipython3",
   "version": "3.9.5"
  },
  "toc-showcode": false,
  "toc-showtags": true
 },
 "nbformat": 4,
 "nbformat_minor": 5
}
