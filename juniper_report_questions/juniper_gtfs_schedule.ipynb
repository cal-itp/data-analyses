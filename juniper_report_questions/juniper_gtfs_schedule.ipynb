{
 "cells": [
  {
   "cell_type": "code",
   "execution_count": 1,
   "id": "db34af7b-aea9-4549-b3d9-fd48e658b79f",
   "metadata": {},
   "outputs": [],
   "source": [
    "from calitp.tables import tbl\n",
    "from siuba import *\n",
    "from siuba.sql import sql_raw\n",
    "from siuba.experimental import completer\n",
    "from plotnine import *"
   ]
  },
  {
   "cell_type": "markdown",
   "id": "f43aa6a4-91a7-4e2f-a1f8-cad40ae0c748",
   "metadata": {},
   "source": [
    "## Are Feed Expiration dates meaningful and reliable?"
   ]
  },
  {
   "cell_type": "code",
   "execution_count": 2,
   "id": "0a4b2b20-0504-45c7-a61b-0c821e339571",
   "metadata": {
    "tags": []
   },
   "outputs": [],
   "source": [
    "tbl_expired_feeds = (tbl.gtfs_schedule.feed_info()                   \n",
    " >> mutate(feed_end_date_parsed = sql_raw('PARSE_DATE(\"%Y%m%d\", feed_end_date)'))\n",
    " >> mutate( feed_date_ended = _.feed_end_date_parsed < \"2021-07-01\") \n",
    " >> count(_.feed_date_ended, _.feed_end_date_parsed, _.calitp_itp_id)\n",
    " >> collect()\n",
    " >> mutate(feed_end_date_parsed = _.feed_end_date_parsed.astype(\"datetime64[ns]\"))\n",
    ")"
   ]
  },
  {
   "cell_type": "code",
   "execution_count": 17,
   "id": "9204898b-1704-4a6c-8137-9882f057e34a",
   "metadata": {},
   "outputs": [
    {
     "data": {
      "text/html": [
       "<div>\n",
       "<style scoped>\n",
       "    .dataframe tbody tr th:only-of-type {\n",
       "        vertical-align: middle;\n",
       "    }\n",
       "\n",
       "    .dataframe tbody tr th {\n",
       "        vertical-align: top;\n",
       "    }\n",
       "\n",
       "    .dataframe thead th {\n",
       "        text-align: right;\n",
       "    }\n",
       "</style>\n",
       "<table border=\"1\" class=\"dataframe\">\n",
       "  <thead>\n",
       "    <tr style=\"text-align: right;\">\n",
       "      <th></th>\n",
       "      <th>feed_date_ended</th>\n",
       "      <th>feed_end_date_parsed</th>\n",
       "      <th>calitp_itp_id</th>\n",
       "      <th>n</th>\n",
       "    </tr>\n",
       "  </thead>\n",
       "  <tbody>\n",
       "    <tr>\n",
       "      <th>31</th>\n",
       "      <td>False</td>\n",
       "      <td>2029-12-31</td>\n",
       "      <td>281</td>\n",
       "      <td>1</td>\n",
       "    </tr>\n",
       "  </tbody>\n",
       "</table>\n",
       "</div>"
      ],
      "text/plain": [
       "   feed_date_ended feed_end_date_parsed  calitp_itp_id  n\n",
       "31           False           2029-12-31            281  1"
      ]
     },
     "execution_count": 17,
     "metadata": {},
     "output_type": "execute_result"
    }
   ],
   "source": [
    "tbl_expired_feeds >> filter(_.feed_end_date_parsed == _.feed_end_date_parsed.max()) "
   ]
  },
  {
   "cell_type": "code",
   "execution_count": 22,
   "id": "63f8d972-9b44-4595-b6d7-63fd6e0c8519",
   "metadata": {
    "tags": []
   },
   "outputs": [],
   "source": [
    "DATE_YEAR_AGO = \"2020-07-14\"\n",
    "DATE_YEAR_OUT = \"2022-07-12\"\n",
    "TODAY_DATE = \"2020-07-15\"\n",
    "DATE_MONTH_AGO = \"2020-06-15\"\n",
    "\n",
    "tbl_feed_info = (tbl.gtfs_schedule.feed_info()                   \n",
    "     >> mutate(\n",
    "         start_date = sql_raw('PARSE_DATE(\"%Y%m%d\", feed_start_date)'),\n",
    "         end_date = sql_raw('PARSE_DATE(\"%Y%m%d\", feed_end_date)'),\n",
    "         start_date_year_ago = _.start_date < DATE_YEAR_AGO,\n",
    "         end_date_year_out = _.end_date > DATE_YEAR_OUT,\n",
    "         date_diff_days=sql_raw(\"DATE_DIFF(end_date, start_date, DAY)\"),\n",
    "         date_diff_btn_year = _.date_diff_days < 365,\n",
    "         \n",
    "         start_date_btn_month = (_.start_date > DATE_MONTH_AGO) & (_.start_date < TODAY_DATE),\n",
    "         end_date_btn_month = (_.end_date > DATE_MONTH_AGO) & (_.end_date < TODAY_DATE)\n",
    "     )\n",
    ")\n"
   ]
  },
  {
   "cell_type": "code",
   "execution_count": 23,
   "id": "d45fc5f3-6fe5-49f6-85dd-97f4344514f0",
   "metadata": {
    "tags": []
   },
   "outputs": [],
   "source": [
    "\n",
    "tbl_expiration = (\n",
    "    tbl_feed_info\n",
    "    >> mutate(end_date_max=_.end_date.max(), start_date_min=_.start_date)\n",
    "    >> summarize(\n",
    "        end_date_max=_.end_date_max.max(),\n",
    "        start_date_min=_.start_date_min.min(),\n",
    "        n_end_date_max = (_.end_date == _.end_date_max).astype(int).sum(),\n",
    "        #n_start_date_min=(_.end_date == _.end_date_max).astype(int).sum(),\n",
    "        n_start_date_min=(_.start_date == _.start_date_min).astype(int).sum(),\n",
    "        n_start_date_year=(_.start_date < DATE_YEAR_AGO).astype(int).sum(),\n",
    "        n_end_date_year=(_.end_date > DATE_YEAR_OUT).astype(int).sum(),\n",
    "        avg_date_diff=_.date_diff_days.mean().round(),\n",
    "        n_date_diff_btn_year = _.date_diff_btn_year.astype(int).sum(),\n",
    "        \n",
    "        n_start_date_btn_month = _.start_date_btn_month.astype(int).sum(),\n",
    "        n_end_date_btn_month = _.end_date_btn_month.astype(int).sum(),\n",
    "    \n",
    "    )\n",
    "    #reorder in sumarize \n",
    ")"
   ]
  },
  {
   "cell_type": "code",
   "execution_count": 25,
   "id": "d2d957ae-dfb9-4e0b-87df-f9a871376082",
   "metadata": {},
   "outputs": [
    {
     "data": {
      "text/html": [
       "<div><pre># Source: lazy query\n",
       "# DB Conn: Engine(bigquery://cal-itp-data-infra/?maximum_bytes_billed=5000000000)\n",
       "# Preview:\n",
       "</pre><div>\n",
       "<style scoped>\n",
       "    .dataframe tbody tr th:only-of-type {\n",
       "        vertical-align: middle;\n",
       "    }\n",
       "\n",
       "    .dataframe tbody tr th {\n",
       "        vertical-align: top;\n",
       "    }\n",
       "\n",
       "    .dataframe thead th {\n",
       "        text-align: right;\n",
       "    }\n",
       "</style>\n",
       "<table border=\"1\" class=\"dataframe\">\n",
       "  <thead>\n",
       "    <tr style=\"text-align: right;\">\n",
       "      <th></th>\n",
       "      <th>end_date_max</th>\n",
       "      <th>start_date_min</th>\n",
       "      <th>n_end_date_max</th>\n",
       "      <th>n_start_date_min</th>\n",
       "      <th>n_start_date_year</th>\n",
       "      <th>n_end_date_year</th>\n",
       "      <th>avg_date_diff</th>\n",
       "      <th>n_date_diff_btn_year</th>\n",
       "      <th>n_start_date_btn_month</th>\n",
       "      <th>n_end_date_btn_month</th>\n",
       "    </tr>\n",
       "  </thead>\n",
       "  <tbody>\n",
       "    <tr>\n",
       "      <th>0</th>\n",
       "      <td>2029-12-31</td>\n",
       "      <td>2012-02-01</td>\n",
       "      <td>1</td>\n",
       "      <td>179</td>\n",
       "      <td>19</td>\n",
       "      <td>8</td>\n",
       "      <td>327.0</td>\n",
       "      <td>130</td>\n",
       "      <td>5</td>\n",
       "      <td>0</td>\n",
       "    </tr>\n",
       "  </tbody>\n",
       "</table>\n",
       "</div><p># .. may have more rows</p></div>"
      ],
      "text/plain": [
       "# Source: lazy query\n",
       "# DB Conn: Engine(bigquery://cal-itp-data-infra/?maximum_bytes_billed=5000000000)\n",
       "# Preview:\n",
       "  end_date_max start_date_min  n_end_date_max  n_start_date_min  \\\n",
       "0   2029-12-31     2012-02-01               1               179   \n",
       "\n",
       "   n_start_date_year  n_end_date_year  avg_date_diff  n_date_diff_btn_year  \\\n",
       "0                 19                8          327.0                   130   \n",
       "\n",
       "   n_start_date_btn_month  n_end_date_btn_month  \n",
       "0                       5                     0  \n",
       "# .. may have more rows"
      ]
     },
     "execution_count": 25,
     "metadata": {},
     "output_type": "execute_result"
    }
   ],
   "source": [
    "tbl_expiration"
   ]
  },
  {
   "cell_type": "markdown",
   "id": "41f4578e-7243-464d-8bf3-a59c8735731a",
   "metadata": {
    "tags": []
   },
   "source": [
    "* **What is the furthest future date in feed_info_end?** `2029-12-31`\n",
    "* **How many feeds share this furthest feed_into_end date?** `One`"
   ]
  },
  {
   "cell_type": "markdown",
   "id": "e1f74590-3217-422b-a2fb-32cc963f031f",
   "metadata": {
    "tags": []
   },
   "source": [
    "* **What is the oldest feed_start_date?** `2012-02-01`\n",
    "* **How many feeds share this feed_start date?** `Two`"
   ]
  },
  {
   "cell_type": "markdown",
   "id": "627eab08-e4ba-466c-90f5-92fbfe839151",
   "metadata": {
    "tags": []
   },
   "source": [
    "* **How Many feeds have a feed_info_end_date more than one year into the future?** `8`\n",
    "* **How many feeds have a feed_start_date that is more than one year in the future?** `19`"
   ]
  },
  {
   "cell_type": "markdown",
   "id": "4d1bed79-1206-442c-8a5a-2e3f412485fd",
   "metadata": {
    "tags": []
   },
   "source": [
    "* **What is the average length of time between a feed_info_start and feed_info_end?** `327 Days`\n",
    "* **How many feeds have one year or less between feed_info_start and feed_info_end?** `130`\n"
   ]
  },
  {
   "cell_type": "markdown",
   "id": "4f922128-0a1f-4210-b3dc-b0b987c51e37",
   "metadata": {
    "tags": []
   },
   "source": [
    "### Scratchpad"
   ]
  },
  {
   "cell_type": "code",
   "execution_count": 24,
   "id": "5af609dc-1360-446f-870a-00192a7c0ebf",
   "metadata": {
    "tags": []
   },
   "outputs": [
    {
     "data": {
      "text/html": [
       "<div><pre># Source: lazy query\n",
       "# DB Conn: Engine(bigquery://cal-itp-data-infra/?maximum_bytes_billed=5000000000)\n",
       "# Preview:\n",
       "</pre><div>\n",
       "<style scoped>\n",
       "    .dataframe tbody tr th:only-of-type {\n",
       "        vertical-align: middle;\n",
       "    }\n",
       "\n",
       "    .dataframe tbody tr th {\n",
       "        vertical-align: top;\n",
       "    }\n",
       "\n",
       "    .dataframe thead th {\n",
       "        text-align: right;\n",
       "    }\n",
       "</style>\n",
       "<table border=\"1\" class=\"dataframe\">\n",
       "  <thead>\n",
       "    <tr style=\"text-align: right;\">\n",
       "      <th></th>\n",
       "      <th>calitp_itp_id</th>\n",
       "      <th>calitp_url_number</th>\n",
       "      <th>feed_publisher_name</th>\n",
       "      <th>feed_publisher_url</th>\n",
       "      <th>feed_lang</th>\n",
       "      <th>default_lang</th>\n",
       "      <th>feed_start_date</th>\n",
       "      <th>feed_end_date</th>\n",
       "      <th>feed_version</th>\n",
       "      <th>feed_contact_email</th>\n",
       "      <th>feed_contact_url</th>\n",
       "      <th>calitp_extracted_at</th>\n",
       "      <th>start_date</th>\n",
       "      <th>end_date</th>\n",
       "      <th>start_date_year_ago</th>\n",
       "      <th>end_date_year_out</th>\n",
       "      <th>date_diff_days</th>\n",
       "      <th>date_diff_btn_year</th>\n",
       "      <th>start_date_btn_month</th>\n",
       "      <th>end_date_btn_month</th>\n",
       "    </tr>\n",
       "  </thead>\n",
       "  <tbody>\n",
       "    <tr>\n",
       "      <th>0</th>\n",
       "      <td>93</td>\n",
       "      <td>0</td>\n",
       "      <td>DART</td>\n",
       "      <td>http://www.tularecog.org/bustimes/</td>\n",
       "      <td>EN</td>\n",
       "      <td>None</td>\n",
       "      <td>20120201</td>\n",
       "      <td>20211215</td>\n",
       "      <td>20120202</td>\n",
       "      <td>None</td>\n",
       "      <td>None</td>\n",
       "      <td>2021-06-17</td>\n",
       "      <td>2012-02-01</td>\n",
       "      <td>2021-12-15</td>\n",
       "      <td>True</td>\n",
       "      <td>False</td>\n",
       "      <td>3605.0</td>\n",
       "      <td>False</td>\n",
       "      <td>False</td>\n",
       "      <td>False</td>\n",
       "    </tr>\n",
       "    <tr>\n",
       "      <th>1</th>\n",
       "      <td>294</td>\n",
       "      <td>0</td>\n",
       "      <td>Santa Clara Valley Transportation Authority</td>\n",
       "      <td>https://www.vta.org</td>\n",
       "      <td>EN</td>\n",
       "      <td>None</td>\n",
       "      <td>20210614</td>\n",
       "      <td>20211010</td>\n",
       "      <td>2021-06-08_07:31</td>\n",
       "      <td>customer.service@vta.org</td>\n",
       "      <td>https://www.vta.org/about/contact</td>\n",
       "      <td>2021-06-10</td>\n",
       "      <td>2021-06-14</td>\n",
       "      <td>2021-10-10</td>\n",
       "      <td>False</td>\n",
       "      <td>False</td>\n",
       "      <td>118.0</td>\n",
       "      <td>True</td>\n",
       "      <td>False</td>\n",
       "      <td>False</td>\n",
       "    </tr>\n",
       "    <tr>\n",
       "      <th>2</th>\n",
       "      <td>226</td>\n",
       "      <td>0</td>\n",
       "      <td>NCTD</td>\n",
       "      <td>http://www.gonctd.com</td>\n",
       "      <td>EN</td>\n",
       "      <td>None</td>\n",
       "      <td>None</td>\n",
       "      <td>None</td>\n",
       "      <td>Version_2021-05-14</td>\n",
       "      <td>None</td>\n",
       "      <td>None</td>\n",
       "      <td>2021-05-24</td>\n",
       "      <td>None</td>\n",
       "      <td>None</td>\n",
       "      <td>None</td>\n",
       "      <td>None</td>\n",
       "      <td>NaN</td>\n",
       "      <td>None</td>\n",
       "      <td>None</td>\n",
       "      <td>None</td>\n",
       "    </tr>\n",
       "    <tr>\n",
       "      <th>3</th>\n",
       "      <td>278</td>\n",
       "      <td>0</td>\n",
       "      <td>MTS</td>\n",
       "      <td>http://www.sdmts.com</td>\n",
       "      <td>EN</td>\n",
       "      <td>None</td>\n",
       "      <td>None</td>\n",
       "      <td>None</td>\n",
       "      <td>v3 Add 4th of July Trolley Modifications</td>\n",
       "      <td>None</td>\n",
       "      <td>None</td>\n",
       "      <td>2021-06-28</td>\n",
       "      <td>None</td>\n",
       "      <td>None</td>\n",
       "      <td>None</td>\n",
       "      <td>None</td>\n",
       "      <td>NaN</td>\n",
       "      <td>None</td>\n",
       "      <td>None</td>\n",
       "      <td>None</td>\n",
       "    </tr>\n",
       "    <tr>\n",
       "      <th>4</th>\n",
       "      <td>194</td>\n",
       "      <td>0</td>\n",
       "      <td>Optibus</td>\n",
       "      <td>https://www.optibus.com</td>\n",
       "      <td>en</td>\n",
       "      <td>None</td>\n",
       "      <td>20210620</td>\n",
       "      <td>20210911</td>\n",
       "      <td>None</td>\n",
       "      <td>support@optibus.com</td>\n",
       "      <td>https://support.optibus.com</td>\n",
       "      <td>2021-06-19</td>\n",
       "      <td>2021-06-20</td>\n",
       "      <td>2021-09-11</td>\n",
       "      <td>False</td>\n",
       "      <td>False</td>\n",
       "      <td>83.0</td>\n",
       "      <td>True</td>\n",
       "      <td>False</td>\n",
       "      <td>False</td>\n",
       "    </tr>\n",
       "  </tbody>\n",
       "</table>\n",
       "</div><p># .. may have more rows</p></div>"
      ],
      "text/plain": [
       "# Source: lazy query\n",
       "# DB Conn: Engine(bigquery://cal-itp-data-infra/?maximum_bytes_billed=5000000000)\n",
       "# Preview:\n",
       "   calitp_itp_id  calitp_url_number  \\\n",
       "0             93                  0   \n",
       "1            294                  0   \n",
       "2            226                  0   \n",
       "3            278                  0   \n",
       "4            194                  0   \n",
       "\n",
       "                           feed_publisher_name  \\\n",
       "0                                         DART   \n",
       "1  Santa Clara Valley Transportation Authority   \n",
       "2                                         NCTD   \n",
       "3                                          MTS   \n",
       "4                                      Optibus   \n",
       "\n",
       "                   feed_publisher_url feed_lang default_lang feed_start_date  \\\n",
       "0  http://www.tularecog.org/bustimes/        EN         None        20120201   \n",
       "1                 https://www.vta.org        EN         None        20210614   \n",
       "2               http://www.gonctd.com        EN         None            None   \n",
       "3                http://www.sdmts.com        EN         None            None   \n",
       "4             https://www.optibus.com        en         None        20210620   \n",
       "\n",
       "  feed_end_date                              feed_version  \\\n",
       "0      20211215                                  20120202   \n",
       "1      20211010                          2021-06-08_07:31   \n",
       "2          None                        Version_2021-05-14   \n",
       "3          None  v3 Add 4th of July Trolley Modifications   \n",
       "4      20210911                                      None   \n",
       "\n",
       "         feed_contact_email                   feed_contact_url  \\\n",
       "0                      None                               None   \n",
       "1  customer.service@vta.org  https://www.vta.org/about/contact   \n",
       "2                      None                               None   \n",
       "3                      None                               None   \n",
       "4       support@optibus.com        https://support.optibus.com   \n",
       "\n",
       "  calitp_extracted_at  start_date    end_date start_date_year_ago  \\\n",
       "0          2021-06-17  2012-02-01  2021-12-15                True   \n",
       "1          2021-06-10  2021-06-14  2021-10-10               False   \n",
       "2          2021-05-24        None        None                None   \n",
       "3          2021-06-28        None        None                None   \n",
       "4          2021-06-19  2021-06-20  2021-09-11               False   \n",
       "\n",
       "  end_date_year_out  date_diff_days date_diff_btn_year start_date_btn_month  \\\n",
       "0             False          3605.0              False                False   \n",
       "1             False           118.0               True                False   \n",
       "2              None             NaN               None                 None   \n",
       "3              None             NaN               None                 None   \n",
       "4             False            83.0               True                False   \n",
       "\n",
       "  end_date_btn_month  \n",
       "0              False  \n",
       "1              False  \n",
       "2               None  \n",
       "3               None  \n",
       "4              False  \n",
       "# .. may have more rows"
      ]
     },
     "execution_count": 24,
     "metadata": {},
     "output_type": "execute_result"
    }
   ],
   "source": [
    "tbl_feed_info"
   ]
  },
  {
   "cell_type": "code",
   "execution_count": 27,
   "id": "31cc51e6-256f-4c58-aa7f-fbea4b07b272",
   "metadata": {
    "tags": []
   },
   "outputs": [
    {
     "name": "stderr",
     "output_type": "stream",
     "text": [
      "/Users/natalyadiaz/Cal-ITP/reports/env/lib/python3.9/site-packages/plotnine/layer.py:381: PlotnineWarning: position_stack : Removed 1 rows containing missing values.\n"
     ]
    },
    {
     "data": {
      "image/png": "[encoded data removed]",
      "text/plain": [
       "<Figure size 640x480 with 1 Axes>"
      ]
     },
     "metadata": {},
     "output_type": "display_data"
    },
    {
     "data": {
      "text/plain": [
       "<ggplot: (303882966)>"
      ]
     },
     "execution_count": 27,
     "metadata": {},
     "output_type": "execute_result"
    }
   ],
   "source": [
    "#delete\n",
    "#plot end date counts\n",
    "tbl_feed_counts >> ggplot(aes(\"end_date.dt.year\", \"n\")) + geom_col()\n",
    "\n",
    "#need to change it to not .5 year"
   ]
  },
  {
   "cell_type": "code",
   "execution_count": 8,
   "id": "6f9ae968-a191-4f1f-8253-84603defe13d",
   "metadata": {
    "tags": []
   },
   "outputs": [
    {
     "data": {
      "image/png": "[encoded data removed]",
      "text/plain": [
       "<Figure size 640x480 with 1 Axes>"
      ]
     },
     "metadata": {},
     "output_type": "display_data"
    },
    {
     "data": {
      "text/plain": [
       "<ggplot: (303570116)>"
      ]
     },
     "execution_count": 8,
     "metadata": {},
     "output_type": "execute_result"
    }
   ],
   "source": [
    "# plot end date counts using tbl_feed_info \n",
    "(\n",
    "    tbl_feed_info \n",
    "    >> collect()\n",
    "    >> filter(_.end_date.notna())\n",
    "    >> mutate(end_date = _.end_date.astype(\"datetime64[ns]\"), n = 1)\n",
    "    >> ggplot(aes(\"end_date.dt.year\", \"n\", fill=\"end_date_year_out\")) + geom_col() + theme(axis_text_x = element_text(angle=45, hjust=1))\n",
    ")\n",
    "#missing years are not plotted"
   ]
  },
  {
   "cell_type": "code",
   "execution_count": 9,
   "id": "fc2052f6-8338-48a2-8d32-9927eaedbf35",
   "metadata": {
    "tags": []
   },
   "outputs": [
    {
     "data": {
      "image/png": "[encoded data removed]",
      "text/plain": [
       "<Figure size 640x480 with 1 Axes>"
      ]
     },
     "metadata": {},
     "output_type": "display_data"
    },
    {
     "data": {
      "text/plain": [
       "<ggplot: (303630815)>"
      ]
     },
     "execution_count": 9,
     "metadata": {},
     "output_type": "execute_result"
    }
   ],
   "source": [
    "# plot start date counts using tbl_feed_info \n",
    "(\n",
    "    tbl_feed_info \n",
    "    >> collect()\n",
    "    >> filter(_.start_date.notna())\n",
    "    >> mutate(start_date = _.start_date.astype(\"datetime64[ns]\"), n = 1)\n",
    "    >> ggplot(aes(\"start_date.dt.year\", \"n\", fill=\"start_date_year_ago\")) + geom_col() + theme(axis_text_x = element_text(angle=45, hjust=1))\n",
    ")\n",
    "#missing years are not plotted"
   ]
  },
  {
   "cell_type": "markdown",
   "id": "6887fb7d-e122-4acf-bb41-cd041139c3f2",
   "metadata": {},
   "source": [
    "## How many agencies have invalid GTFS Data? "
   ]
  },
  {
   "cell_type": "code",
   "execution_count": 40,
   "id": "d44fd114-d56f-42b5-86d0-a3f97abd66bd",
   "metadata": {
    "tags": []
   },
   "outputs": [],
   "source": [
    "tbl_calendar_info = (tbl.gtfs_schedule.calendar()                   \n",
    "     >> mutate(\n",
    "         calendar_start_date = sql_raw('PARSE_DATE(\"%Y%m%d\", start_date)'),\n",
    "         calendar_end_date = sql_raw('PARSE_DATE(\"%Y%m%d\", end_date)'),\n",
    "         calendar_start_date_future = _.calendar_start_date > TODAY_DATE,\n",
    "         calendar_end_date_past = _.calendar_end_date < TODAY_DATE, \n",
    "     )\n",
    ")"
   ]
  },
  {
   "cell_type": "code",
   "execution_count": 49,
   "id": "28601e95-cdbb-42f7-b84d-c98d31673309",
   "metadata": {
    "tags": []
   },
   "outputs": [],
   "source": [
    "tbl_calendar_feed_expiration = (\n",
    "    tbl_calendar_info\n",
    "    >> mutate(calendar_end_date_max=_.calendar_end_date.max(), calendar_start_date_min=_.calendar_start_date.min())\n",
    "    >> group_by(_.calitp_itp_id, _.calitp_url_number) #grouping by feed \n",
    "    >> summarize (\n",
    "    calendar_end_date_max =_.calendar_end_date_max.max(),\n",
    "    calendar_start_date_min =_.calendar_start_date_min.min(),\n",
    "    n_calendar_start_date_expired = (_.calendar_start_date_future).astype(int).mean(),\n",
    "    n_calendar_end_date_expired = (_.calendar_end_date_past).astype(int).mean()    \n",
    "                 )\n",
    ")\n"
   ]
  },
  {
   "cell_type": "code",
   "execution_count": 57,
   "id": "88de940f-a6f6-449d-9d24-05774a6226a5",
   "metadata": {
    "tags": []
   },
   "outputs": [],
   "source": [
    "tbl_calendar_expiration = (\n",
    "    tbl_calendar_feed_expiration\n",
    "    >> summarize (\n",
    "    all_calendar_start_date_future = (_.n_calendar_start_date_expired == 1).astype(int).sum(),\n",
    "    all_calendar_end_date_expired = (_.n_calendar_end_date_expired == 1).astype(int).sum()\n",
    "    )\n",
    ")"
   ]
  },
  {
   "cell_type": "markdown",
   "id": "9db53f25-5a9a-45d1-9ee3-735a76722924",
   "metadata": {},
   "source": [
    "* **For each day in the past month, how many agencies had a feed_end_date in the past?** `5`\n",
    "* **For each day in the past month, how many agencies had a feed_start_date in the future?** `122`"
   ]
  },
  {
   "cell_type": "code",
   "execution_count": 58,
   "id": "fad5e2e9-49e5-46f8-8148-d96cbc21e4e2",
   "metadata": {
    "tags": []
   },
   "outputs": [],
   "source": [
    "MONTH_START=\"2021-06-01\"\n",
    "MONTH_END=\"2021-06-30\"\n",
    "\n",
    "tbl_date_range = tbl.views.dim_date() >> filter(_.full_date.between(MONTH_START, MONTH_END)) >> select(_.full_date)"
   ]
  },
  {
   "cell_type": "code",
   "execution_count": 59,
   "id": "4a009ed2-c916-4365-9096-410d19c48392",
   "metadata": {},
   "outputs": [],
   "source": [
    "tbl_feed_info_daily = (\n",
    "    tbl.gtfs_schedule_type2.feed_info()\n",
    "    >> mutate(deleted_at=_.calitp_deleted_at.fillna(\"2099-01-01\"))\n",
    "    >> inner_join(\n",
    "        _,\n",
    "        tbl_date_range,\n",
    "        sql_on=lambda lhs, rhs: (lhs.calitp_extracted_at <= rhs.full_date)\n",
    "        & (lhs.deleted_at > rhs.full_date),\n",
    "    )\n",
    ")"
   ]
  },
  {
   "cell_type": "code",
   "execution_count": 60,
   "id": "4245a7f5-2fc3-4d99-877a-f815eee53ac1",
   "metadata": {},
   "outputs": [
    {
     "data": {
      "text/html": [
       "<div><pre># Source: lazy query\n",
       "# DB Conn: Engine(bigquery://cal-itp-data-infra/?maximum_bytes_billed=5000000000)\n",
       "# Preview:\n",
       "</pre><div>\n",
       "<style scoped>\n",
       "    .dataframe tbody tr th:only-of-type {\n",
       "        vertical-align: middle;\n",
       "    }\n",
       "\n",
       "    .dataframe tbody tr th {\n",
       "        vertical-align: top;\n",
       "    }\n",
       "\n",
       "    .dataframe thead th {\n",
       "        text-align: right;\n",
       "    }\n",
       "</style>\n",
       "<table border=\"1\" class=\"dataframe\">\n",
       "  <thead>\n",
       "    <tr style=\"text-align: right;\">\n",
       "      <th></th>\n",
       "      <th>full_date</th>\n",
       "      <th>mean_date_diff</th>\n",
       "    </tr>\n",
       "  </thead>\n",
       "  <tbody>\n",
       "    <tr>\n",
       "      <th>0</th>\n",
       "      <td>2021-06-22</td>\n",
       "      <td>313.449704</td>\n",
       "    </tr>\n",
       "    <tr>\n",
       "      <th>1</th>\n",
       "      <td>2021-06-15</td>\n",
       "      <td>308.165680</td>\n",
       "    </tr>\n",
       "    <tr>\n",
       "      <th>2</th>\n",
       "      <td>2021-06-08</td>\n",
       "      <td>308.165680</td>\n",
       "    </tr>\n",
       "    <tr>\n",
       "      <th>3</th>\n",
       "      <td>2021-06-10</td>\n",
       "      <td>308.165680</td>\n",
       "    </tr>\n",
       "    <tr>\n",
       "      <th>4</th>\n",
       "      <td>2021-06-14</td>\n",
       "      <td>308.165680</td>\n",
       "    </tr>\n",
       "  </tbody>\n",
       "</table>\n",
       "</div><p># .. may have more rows</p></div>"
      ],
      "text/plain": [
       "# Source: lazy query\n",
       "# DB Conn: Engine(bigquery://cal-itp-data-infra/?maximum_bytes_billed=5000000000)\n",
       "# Preview:\n",
       "    full_date  mean_date_diff\n",
       "0  2021-06-22      313.449704\n",
       "1  2021-06-15      308.165680\n",
       "2  2021-06-08      308.165680\n",
       "3  2021-06-10      308.165680\n",
       "4  2021-06-14      308.165680\n",
       "# .. may have more rows"
      ]
     },
     "execution_count": 60,
     "metadata": {},
     "output_type": "execute_result"
    }
   ],
   "source": [
    "(\n",
    "    tbl_feed_info_daily\n",
    "    >> mutate(\n",
    "        start_date=sql_raw('PARSE_DATE(\"%Y%m%d\", feed_start_date)'),\n",
    "        end_date=sql_raw('PARSE_DATE(\"%Y%m%d\", feed_end_date)'),\n",
    "        start_date_year_ago=_.start_date < DATE_YEAR_AGO,\n",
    "        end_date_year_out=_.end_date > DATE_YEAR_OUT,\n",
    "        date_diff_days=sql_raw(\"DATE_DIFF(end_date, start_date, DAY)\"),\n",
    "        date_diff_short=_.date_diff_days < 365,\n",
    "    )\n",
    "    >> group_by(_.full_date)\n",
    "    >> summarize(mean_date_diff=_.date_diff_days.mean())\n",
    ")"
   ]
  },
  {
   "cell_type": "code",
   "execution_count": 61,
   "id": "280d07c5-1cdc-4a18-a128-fb3a676822a6",
   "metadata": {},
   "outputs": [
    {
     "data": {
      "text/html": [
       "<div><pre># Source: lazy query\n",
       "# DB Conn: Engine(bigquery://cal-itp-data-infra/?maximum_bytes_billed=5000000000)\n",
       "# Preview:\n",
       "</pre><div>\n",
       "<style scoped>\n",
       "    .dataframe tbody tr th:only-of-type {\n",
       "        vertical-align: middle;\n",
       "    }\n",
       "\n",
       "    .dataframe tbody tr th {\n",
       "        vertical-align: top;\n",
       "    }\n",
       "\n",
       "    .dataframe thead th {\n",
       "        text-align: right;\n",
       "    }\n",
       "</style>\n",
       "<table border=\"1\" class=\"dataframe\">\n",
       "  <thead>\n",
       "    <tr style=\"text-align: right;\">\n",
       "      <th></th>\n",
       "      <th>calitp_itp_id</th>\n",
       "      <th>calitp_url_number</th>\n",
       "      <th>feed_publisher_name</th>\n",
       "      <th>feed_publisher_url</th>\n",
       "      <th>feed_lang</th>\n",
       "      <th>default_lang</th>\n",
       "      <th>feed_start_date</th>\n",
       "      <th>feed_end_date</th>\n",
       "      <th>feed_version</th>\n",
       "      <th>feed_contact_email</th>\n",
       "      <th>feed_contact_url</th>\n",
       "      <th>calitp_extracted_at</th>\n",
       "      <th>calitp_deleted_at</th>\n",
       "      <th>calitp_hash</th>\n",
       "      <th>deleted_at</th>\n",
       "      <th>full_date</th>\n",
       "    </tr>\n",
       "  </thead>\n",
       "  <tbody>\n",
       "    <tr>\n",
       "      <th>0</th>\n",
       "      <td>280</td>\n",
       "      <td>0</td>\n",
       "      <td>Trillium Solutions, Inc.</td>\n",
       "      <td>http://www.trilliumtransit.com</td>\n",
       "      <td>en</td>\n",
       "      <td>None</td>\n",
       "      <td>20210603</td>\n",
       "      <td>20220101</td>\n",
       "      <td>UTC: 03-Jun-2021 23:47</td>\n",
       "      <td>support+test+sfbayferry-ca-us@trilliumtransit.com</td>\n",
       "      <td>http://support.trilliumtransit.com</td>\n",
       "      <td>2021-06-03</td>\n",
       "      <td>2021-06-21</td>\n",
       "      <td>MaCYtkvrO+/gTH2AFrPMcw==</td>\n",
       "      <td>2021-06-21</td>\n",
       "      <td>2021-06-10</td>\n",
       "    </tr>\n",
       "    <tr>\n",
       "      <th>1</th>\n",
       "      <td>280</td>\n",
       "      <td>0</td>\n",
       "      <td>Trillium Solutions, Inc.</td>\n",
       "      <td>http://www.trilliumtransit.com</td>\n",
       "      <td>en</td>\n",
       "      <td>None</td>\n",
       "      <td>20210603</td>\n",
       "      <td>20220101</td>\n",
       "      <td>UTC: 03-Jun-2021 23:47</td>\n",
       "      <td>support+test+sfbayferry-ca-us@trilliumtransit.com</td>\n",
       "      <td>http://support.trilliumtransit.com</td>\n",
       "      <td>2021-06-03</td>\n",
       "      <td>2021-06-21</td>\n",
       "      <td>MaCYtkvrO+/gTH2AFrPMcw==</td>\n",
       "      <td>2021-06-21</td>\n",
       "      <td>2021-06-19</td>\n",
       "    </tr>\n",
       "    <tr>\n",
       "      <th>2</th>\n",
       "      <td>280</td>\n",
       "      <td>0</td>\n",
       "      <td>Trillium Solutions, Inc.</td>\n",
       "      <td>http://www.trilliumtransit.com</td>\n",
       "      <td>en</td>\n",
       "      <td>None</td>\n",
       "      <td>20210603</td>\n",
       "      <td>20220101</td>\n",
       "      <td>UTC: 03-Jun-2021 23:47</td>\n",
       "      <td>support+test+sfbayferry-ca-us@trilliumtransit.com</td>\n",
       "      <td>http://support.trilliumtransit.com</td>\n",
       "      <td>2021-06-03</td>\n",
       "      <td>2021-06-21</td>\n",
       "      <td>MaCYtkvrO+/gTH2AFrPMcw==</td>\n",
       "      <td>2021-06-21</td>\n",
       "      <td>2021-06-05</td>\n",
       "    </tr>\n",
       "    <tr>\n",
       "      <th>3</th>\n",
       "      <td>280</td>\n",
       "      <td>0</td>\n",
       "      <td>Trillium Solutions, Inc.</td>\n",
       "      <td>http://www.trilliumtransit.com</td>\n",
       "      <td>en</td>\n",
       "      <td>None</td>\n",
       "      <td>20210603</td>\n",
       "      <td>20220101</td>\n",
       "      <td>UTC: 03-Jun-2021 23:47</td>\n",
       "      <td>support+test+sfbayferry-ca-us@trilliumtransit.com</td>\n",
       "      <td>http://support.trilliumtransit.com</td>\n",
       "      <td>2021-06-03</td>\n",
       "      <td>2021-06-21</td>\n",
       "      <td>MaCYtkvrO+/gTH2AFrPMcw==</td>\n",
       "      <td>2021-06-21</td>\n",
       "      <td>2021-06-06</td>\n",
       "    </tr>\n",
       "    <tr>\n",
       "      <th>4</th>\n",
       "      <td>280</td>\n",
       "      <td>0</td>\n",
       "      <td>Trillium Solutions, Inc.</td>\n",
       "      <td>http://www.trilliumtransit.com</td>\n",
       "      <td>en</td>\n",
       "      <td>None</td>\n",
       "      <td>20210603</td>\n",
       "      <td>20220101</td>\n",
       "      <td>UTC: 03-Jun-2021 23:47</td>\n",
       "      <td>support+test+sfbayferry-ca-us@trilliumtransit.com</td>\n",
       "      <td>http://support.trilliumtransit.com</td>\n",
       "      <td>2021-06-03</td>\n",
       "      <td>2021-06-21</td>\n",
       "      <td>MaCYtkvrO+/gTH2AFrPMcw==</td>\n",
       "      <td>2021-06-21</td>\n",
       "      <td>2021-06-03</td>\n",
       "    </tr>\n",
       "  </tbody>\n",
       "</table>\n",
       "</div><p># .. may have more rows</p></div>"
      ],
      "text/plain": [
       "# Source: lazy query\n",
       "# DB Conn: Engine(bigquery://cal-itp-data-infra/?maximum_bytes_billed=5000000000)\n",
       "# Preview:\n",
       "   calitp_itp_id  calitp_url_number       feed_publisher_name  \\\n",
       "0            280                  0  Trillium Solutions, Inc.   \n",
       "1            280                  0  Trillium Solutions, Inc.   \n",
       "2            280                  0  Trillium Solutions, Inc.   \n",
       "3            280                  0  Trillium Solutions, Inc.   \n",
       "4            280                  0  Trillium Solutions, Inc.   \n",
       "\n",
       "               feed_publisher_url feed_lang default_lang feed_start_date  \\\n",
       "0  http://www.trilliumtransit.com        en         None        20210603   \n",
       "1  http://www.trilliumtransit.com        en         None        20210603   \n",
       "2  http://www.trilliumtransit.com        en         None        20210603   \n",
       "3  http://www.trilliumtransit.com        en         None        20210603   \n",
       "4  http://www.trilliumtransit.com        en         None        20210603   \n",
       "\n",
       "  feed_end_date            feed_version  \\\n",
       "0      20220101  UTC: 03-Jun-2021 23:47   \n",
       "1      20220101  UTC: 03-Jun-2021 23:47   \n",
       "2      20220101  UTC: 03-Jun-2021 23:47   \n",
       "3      20220101  UTC: 03-Jun-2021 23:47   \n",
       "4      20220101  UTC: 03-Jun-2021 23:47   \n",
       "\n",
       "                                  feed_contact_email  \\\n",
       "0  support+test+sfbayferry-ca-us@trilliumtransit.com   \n",
       "1  support+test+sfbayferry-ca-us@trilliumtransit.com   \n",
       "2  support+test+sfbayferry-ca-us@trilliumtransit.com   \n",
       "3  support+test+sfbayferry-ca-us@trilliumtransit.com   \n",
       "4  support+test+sfbayferry-ca-us@trilliumtransit.com   \n",
       "\n",
       "                     feed_contact_url calitp_extracted_at calitp_deleted_at  \\\n",
       "0  http://support.trilliumtransit.com          2021-06-03        2021-06-21   \n",
       "1  http://support.trilliumtransit.com          2021-06-03        2021-06-21   \n",
       "2  http://support.trilliumtransit.com          2021-06-03        2021-06-21   \n",
       "3  http://support.trilliumtransit.com          2021-06-03        2021-06-21   \n",
       "4  http://support.trilliumtransit.com          2021-06-03        2021-06-21   \n",
       "\n",
       "                calitp_hash  deleted_at   full_date  \n",
       "0  MaCYtkvrO+/gTH2AFrPMcw==  2021-06-21  2021-06-10  \n",
       "1  MaCYtkvrO+/gTH2AFrPMcw==  2021-06-21  2021-06-19  \n",
       "2  MaCYtkvrO+/gTH2AFrPMcw==  2021-06-21  2021-06-05  \n",
       "3  MaCYtkvrO+/gTH2AFrPMcw==  2021-06-21  2021-06-06  \n",
       "4  MaCYtkvrO+/gTH2AFrPMcw==  2021-06-21  2021-06-03  \n",
       "# .. may have more rows"
      ]
     },
     "execution_count": 61,
     "metadata": {},
     "output_type": "execute_result"
    }
   ],
   "source": [
    "tbl_feed_info_daily #"
   ]
  },
  {
   "cell_type": "code",
   "execution_count": 56,
   "id": "a5205394-5da4-4c35-8acd-03f147de779e",
   "metadata": {
    "tags": []
   },
   "outputs": [
    {
     "data": {
      "text/html": [
       "<div><pre># Source: lazy query\n",
       "# DB Conn: Engine(bigquery://cal-itp-data-infra/?maximum_bytes_billed=5000000000)\n",
       "# Preview:\n",
       "</pre><div>\n",
       "<style scoped>\n",
       "    .dataframe tbody tr th:only-of-type {\n",
       "        vertical-align: middle;\n",
       "    }\n",
       "\n",
       "    .dataframe tbody tr th {\n",
       "        vertical-align: top;\n",
       "    }\n",
       "\n",
       "    .dataframe thead th {\n",
       "        text-align: right;\n",
       "    }\n",
       "</style>\n",
       "<table border=\"1\" class=\"dataframe\">\n",
       "  <thead>\n",
       "    <tr style=\"text-align: right;\">\n",
       "      <th></th>\n",
       "      <th>all_calendar_start_date_expired</th>\n",
       "      <th>all_calendar_end_date_expired</th>\n",
       "    </tr>\n",
       "  </thead>\n",
       "  <tbody>\n",
       "    <tr>\n",
       "      <th>0</th>\n",
       "      <td>122</td>\n",
       "      <td>5</td>\n",
       "    </tr>\n",
       "  </tbody>\n",
       "</table>\n",
       "</div><p># .. may have more rows</p></div>"
      ],
      "text/plain": [
       "# Source: lazy query\n",
       "# DB Conn: Engine(bigquery://cal-itp-data-infra/?maximum_bytes_billed=5000000000)\n",
       "# Preview:\n",
       "   all_calendar_start_date_expired  all_calendar_end_date_expired\n",
       "0                              122                              5\n",
       "# .. may have more rows"
      ]
     },
     "execution_count": 56,
     "metadata": {},
     "output_type": "execute_result"
    }
   ],
   "source": [
    "tbl_calendar_expiration"
   ]
  },
  {
   "cell_type": "code",
   "execution_count": 34,
   "id": "a632c25a-f0c2-4c73-96d3-2c3ca35d3a02",
   "metadata": {},
   "outputs": [],
   "source": [
    "tbl_counts = (\n",
    "tbl_calendar_info\n",
    "    >> count(_.calitp_itp_id, _.calitp_url_number)\n",
    ")"
   ]
  },
  {
   "cell_type": "code",
   "execution_count": 35,
   "id": "f902c823-9277-4afb-9009-292fcb4f697d",
   "metadata": {},
   "outputs": [
    {
     "data": {
      "text/html": [
       "<div><pre># Source: lazy query\n",
       "# DB Conn: Engine(bigquery://cal-itp-data-infra/?maximum_bytes_billed=5000000000)\n",
       "# Preview:\n",
       "</pre><div>\n",
       "<style scoped>\n",
       "    .dataframe tbody tr th:only-of-type {\n",
       "        vertical-align: middle;\n",
       "    }\n",
       "\n",
       "    .dataframe tbody tr th {\n",
       "        vertical-align: top;\n",
       "    }\n",
       "\n",
       "    .dataframe thead th {\n",
       "        text-align: right;\n",
       "    }\n",
       "</style>\n",
       "<table border=\"1\" class=\"dataframe\">\n",
       "  <thead>\n",
       "    <tr style=\"text-align: right;\">\n",
       "      <th></th>\n",
       "      <th>calitp_itp_id</th>\n",
       "      <th>calitp_url_number</th>\n",
       "      <th>n</th>\n",
       "    </tr>\n",
       "  </thead>\n",
       "  <tbody>\n",
       "    <tr>\n",
       "      <th>0</th>\n",
       "      <td>123</td>\n",
       "      <td>0</td>\n",
       "      <td>107</td>\n",
       "    </tr>\n",
       "    <tr>\n",
       "      <th>1</th>\n",
       "      <td>294</td>\n",
       "      <td>0</td>\n",
       "      <td>90</td>\n",
       "    </tr>\n",
       "    <tr>\n",
       "      <th>2</th>\n",
       "      <td>226</td>\n",
       "      <td>0</td>\n",
       "      <td>48</td>\n",
       "    </tr>\n",
       "    <tr>\n",
       "      <th>3</th>\n",
       "      <td>386</td>\n",
       "      <td>0</td>\n",
       "      <td>46</td>\n",
       "    </tr>\n",
       "    <tr>\n",
       "      <th>4</th>\n",
       "      <td>182</td>\n",
       "      <td>0</td>\n",
       "      <td>39</td>\n",
       "    </tr>\n",
       "  </tbody>\n",
       "</table>\n",
       "</div><p># .. may have more rows</p></div>"
      ],
      "text/plain": [
       "# Source: lazy query\n",
       "# DB Conn: Engine(bigquery://cal-itp-data-infra/?maximum_bytes_billed=5000000000)\n",
       "# Preview:\n",
       "   calitp_itp_id  calitp_url_number    n\n",
       "0            123                  0  107\n",
       "1            294                  0   90\n",
       "2            226                  0   48\n",
       "3            386                  0   46\n",
       "4            182                  0   39\n",
       "# .. may have more rows"
      ]
     },
     "execution_count": 35,
     "metadata": {},
     "output_type": "execute_result"
    }
   ],
   "source": [
    "tbl_counts"
   ]
  },
  {
   "cell_type": "code",
   "execution_count": null,
   "id": "b94bb42a-98f1-4993-83e5-947e4f5570f1",
   "metadata": {
    "tags": []
   },
   "outputs": [],
   "source": [
    "tbl_calendar_counts = (\n",
    "tbl_calendar_info\n",
    ">> count(_.calendar_end_date)\n",
    ">> collect()\n",
    ">> arrange(-_.calendar_end_date)\n",
    ">> mutate(calendar_end_date = _.calendar_end_date.astype(\"datetime64[ns]\"))\n",
    ")\n",
    "tbl_calendar_expired_feeds >> head()"
   ]
  },
  {
   "cell_type": "code",
   "execution_count": null,
   "id": "1977f150-466e-4fcf-9955-acad37388201",
   "metadata": {},
   "outputs": [],
   "source": [
    "# perform counts\n",
    "\n",
    "tbl_calendar_end_counts = (\n",
    "    tbl_calendar_info\n",
    "    >> count(_.calendar_end_date)\n",
    "    >> collect()\n",
    "    >> arrange(-_.calendar_end_date)\n",
    "    >> mutate(calendar_end_date=_.calendar_end_date.astype(\"datetime64[ns]\"))\n",
    ")\n",
    "tbl_calendar_start_counts = (\n",
    "    tbl_calendar_info\n",
    "    >> count(_.calendar_start_date)\n",
    "    >> collect()\n",
    "    >> arrange(-_.calendar_start_date)\n",
    "    >> mutate(calendar_start_date=_.calendar_start_date.astype(\"datetime64[ns]\"))\n",
    ")"
   ]
  },
  {
   "cell_type": "code",
   "execution_count": null,
   "id": "26686062-04d1-4f48-a81c-bf58395cba71",
   "metadata": {
    "tags": []
   },
   "outputs": [],
   "source": [
    "#plot calendar end dates\n",
    "tbl_calendar_counts >> ggplot(aes(\"calendar_end_date.dt.year\", \"n\")) + geom_col() + theme(axis_text_x = element_text(angle=45, hjust=1))                                                                             \n",
    "                                                                                       "
   ]
  },
  {
   "cell_type": "code",
   "execution_count": null,
   "id": "7622e37f-a88c-4b53-add9-4ace37389f15",
   "metadata": {
    "tags": []
   },
   "outputs": [],
   "source": [
    "#plot calendar start dates\n",
    "tbl_calendar_start_counts>> ggplot(aes(\"calendar_start_date.dt.year\", \"n\")) + geom_col() + theme(axis_text_x = element_text(angle=45, hjust=1))"
   ]
  },
  {
   "cell_type": "code",
   "execution_count": null,
   "id": "7dc0825d-30d5-453b-853f-194562d6ec1f",
   "metadata": {},
   "outputs": [],
   "source": [
    "#PLOT calendar end date expired\n",
    "tbl_calendar_counts >> ggplot(aes(\"calendar_end_date.dt.year\", \"n\")) + geom_col() + theme(axis_text_x = element_text(angle=45, hjust=1))\n"
   ]
  },
  {
   "cell_type": "code",
   "execution_count": null,
   "id": "16b43150-6b1d-44e3-baff-1f3bbc1505cf",
   "metadata": {},
   "outputs": [],
   "source": [
    "#FIGURE OUT HOW TO ADD CALENDAR AND FEED END_DATES TOGETHER"
   ]
  },
  {
   "cell_type": "code",
   "execution_count": null,
   "id": "2a885d19-07ed-480b-a3db-b9c26d54932a",
   "metadata": {},
   "outputs": [],
   "source": [
    "tbl_expiration >> left_join(_, tbl_calendar_expired_feeds, on = \"calitp_itp_id\")"
   ]
  },
  {
   "cell_type": "markdown",
   "id": "bb4b5663-921f-4d77-8594-c1618be6b311",
   "metadata": {
    "tags": []
   },
   "source": [
    "## How \"good\" is California transit data?"
   ]
  },
  {
   "cell_type": "code",
   "execution_count": null,
   "id": "e605a5d9-475e-4523-99b6-499b1a487340",
   "metadata": {
    "tags": []
   },
   "outputs": [],
   "source": [
    "tbl_validation_notices = (tbl.gtfs_schedule_type2.validation_notices())\n"
   ]
  },
  {
   "cell_type": "code",
   "execution_count": null,
   "id": "cd6397b2-0d3a-4be1-97b5-dfa1b93c1df8",
   "metadata": {},
   "outputs": [],
   "source": [
    "tbl_validation_notices\n"
   ]
  },
  {
   "cell_type": "code",
   "execution_count": null,
   "id": "f0b3345f-0ad0-45ee-a91a-8a1ef3319a38",
   "metadata": {},
   "outputs": [],
   "source": [
    "tbl_code_metrics = distinct(_.calitp_itp_id, _.calitp_url_number) >> count()"
   ]
  },
  {
   "cell_type": "code",
   "execution_count": null,
   "id": "4dcfb67f-6886-4b84-b85e-d9763b9ae7f0",
   "metadata": {},
   "outputs": [],
   "source": [
    "unique_codes = tbl_code_metrics >> distinct(_.code)"
   ]
  },
  {
   "cell_type": "code",
   "execution_count": null,
   "id": "99a07c77-2313-4cb4-8225-d28087b65d82",
   "metadata": {},
   "outputs": [],
   "source": [
    "tbl_code_metrics"
   ]
  },
  {
   "cell_type": "code",
   "execution_count": null,
   "id": "3d9eb960-be6e-4387-a95c-dfa9e79fc7af",
   "metadata": {},
   "outputs": [],
   "source": [
    "(\n",
    "tbl.views.gtfs_agency_names()\n",
    ">> left_join(_, unique_codes, sql_on = lambda lhs, rhs: True)\n",
    ")"
   ]
  },
  {
   "cell_type": "code",
   "execution_count": null,
   "id": "a5d99db9-6503-4a76-a991-e12065e9d22a",
   "metadata": {},
   "outputs": [],
   "source": [
    "(tbl.views.gtfs_agency_names()\n",
    ">>left_join(_, tbl_code_metrics, [\"calitp_id\", \"calitp_url_number\"]))"
   ]
  },
  {
   "cell_type": "markdown",
   "id": "cf6915db-1f62-41b0-aa4c-2be3c963755b",
   "metadata": {},
   "source": [
    "## What errors should CAL-ITP target for resolution? "
   ]
  },
  {
   "cell_type": "code",
   "execution_count": null,
   "id": "5f620de2-b200-4750-bf26-ebc71c89fbbd",
   "metadata": {
    "tags": []
   },
   "outputs": [],
   "source": []
  },
  {
   "cell_type": "markdown",
   "id": "feb84a17-0a44-4a6f-b401-1366269af9cd",
   "metadata": {},
   "source": [
    "* **In how many feeds does each error (including warning and info) appear?** "
   ]
  }
 ],
 "metadata": {
  "kernelspec": {
   "display_name": "Python 3",
   "language": "python",
   "name": "python3"
  },
  "language_info": {
   "codemirror_mode": {
    "name": "ipython",
    "version": 3
   },
   "file_extension": ".py",
   "mimetype": "text/x-python",
   "name": "python",
   "nbconvert_exporter": "python",
   "pygments_lexer": "ipython3",
   "version": "3.9.5"
  },
  "toc-showcode": false,
  "toc-showtags": true
 },
 "nbformat": 4,
 "nbformat_minor": 5
}
