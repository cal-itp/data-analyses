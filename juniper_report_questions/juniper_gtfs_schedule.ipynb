{
 "cells": [
  {
   "cell_type": "code",
   "execution_count": null,
   "id": "01ec6b3d-38e1-4bac-bcab-d4a554b6e549",
   "metadata": {},
   "outputs": [],
   "source": [
    "from calitp.tables import tbl\n",
    "from siuba import *\n",
    "from siuba.sql import sql_raw\n",
    "from plotnine import *"
   ]
  },
  {
   "cell_type": "markdown",
   "id": "3697798d-228a-4949-a24d-8cc6363f7b80",
   "metadata": {},
   "source": [
    "## How many agencies had a feed_end_date in the past?"
   ]
  },
  {
   "cell_type": "code",
   "execution_count": null,
   "id": "aa4dc052-cc83-4423-81bc-acda3b4fb0f0",
   "metadata": {},
   "outputs": [],
   "source": [
    "tbl_expired_feeds = (tbl.gtfs_schedule.feed_info() \n",
    " >> mutate(feed_end_date_parsed = sql_raw('PARSE_DATE(\"%Y%m%d\", feed_end_date)'))\n",
    " >> mutate( past_feed_date_parsed = _.feed_end_date_parsed < \"2021-07-01\") \n",
    " #>> count(_.past_feed_date_parsed)\n",
    " >> count(_.feed_end_date_parsed)\n",
    " >> collect()\n",
    " >> mutate(feed_end_date_parsed = _.feed_end_date_parsed.astype(\"datetime64[ns]\"))\n",
    ")"
   ]
  },
  {
   "cell_type": "code",
   "execution_count": null,
   "id": "319e4a7a-79ba-44bb-9adb-eda906da74cf",
   "metadata": {},
   "outputs": [],
   "source": [
    "tbl_expired_feeds >> ggplot(aes(\"feed_end_date_parsed\", \"n\"))+geom_col()"
   ]
  },
  {
   "cell_type": "code",
   "execution_count": null,
   "id": "794108a6-1d6a-4bc5-a5df-9c2bcb6f7c6f",
   "metadata": {},
   "outputs": [],
   "source": [
    "tbl.gtfs_schedule.feed_info()\n"
   ]
  },
  {
   "cell_type": "markdown",
   "id": "228b81e9-fa5a-4b4a-b909-45a821d55379",
   "metadata": {},
   "source": [
    "## What is the furthest future date in feed_info_end? How many share this date?"
   ]
  },
  {
   "cell_type": "code",
   "execution_count": null,
   "id": "dc77d10f-7886-4952-9287-409aaa4881c2",
   "metadata": {},
   "outputs": [],
   "source": [
    "tbl_expired_feeds >> arrange(_.feed_end_date_parsed)\n"
   ]
  },
  {
   "cell_type": "markdown",
   "id": "2361d0a8-120a-402e-b841-eb887713ea2b",
   "metadata": {},
   "source": [
    "## How many feeds have a start date that is more than one year into the past?"
   ]
  },
  {
   "cell_type": "code",
   "execution_count": null,
   "id": "f02720ec-5fa6-48c2-87c2-ac84dbbe3e52",
   "metadata": {},
   "outputs": [],
   "source": [
    "tbl_start_feeds = (tbl.gtfs_schedule.feed_info() \n",
    " >> mutate(feed_start_date_parsed = sql_raw('PARSE_DATE(\"%Y%m%d\", feed_start_date)'))\n",
    " >> mutate( past_feed_date_parsed = _.feed_start_date_parsed < \"2020-07-01\") \n",
    " >> count(_.feed_start_date_parsed)\n",
    " >> collect()\n",
    " >> mutate(feed_start_date_parsed = _.feed_start_date_parsed.astype(\"datetime64[ns]\"))\n",
    ")"
   ]
  },
  {
   "cell_type": "code",
   "execution_count": null,
   "id": "c2efd35d-0dd6-4905-961e-49e938d39a7f",
   "metadata": {},
   "outputs": [],
   "source": [
    "tbl_start_feeds"
   ]
  },
  {
   "cell_type": "code",
   "execution_count": null,
   "id": "d3b6ec0a-fbd8-4e33-9ce5-1f65b3c357fb",
   "metadata": {},
   "outputs": [],
   "source": [
    "tbl_start_feeds >> count(_.feed_start_date_parsed, sort = True)"
   ]
  },
  {
   "cell_type": "code",
   "execution_count": null,
   "id": "2301a16e-2c44-416b-80a3-42aa1741960e",
   "metadata": {},
   "outputs": [],
   "source": [
    "tbl_start_feeds >> arrange(_.feed_start_date_parsed)"
   ]
  },
  {
   "cell_type": "markdown",
   "id": "6223ebbd-661d-4689-b0a8-9e1bb57a4e8f",
   "metadata": {},
   "source": [
    "## What is the average length of time between a feed_info_start and _end date"
   ]
  },
  {
   "cell_type": "code",
   "execution_count": null,
   "id": "a6a566e7-1458-4417-96e4-08d29030662b",
   "metadata": {},
   "outputs": [],
   "source": [
    "tbl_average_feeds = (tbl.gtfs_schedule.feed_info() \n",
    " >> mutate(feed_end_date_parsed = sql_raw('PARSE_DATE(\"%Y%m%d\", feed_end_date)'))\n",
    " >> mutate(feed_start_date_parsed = sql_raw('PARSE_DATE(\"%Y%m%d\", feed_start_date)'))\n",
    " # mutate(feed_average = _.feed_average[['feed_start_date_parsed', 'feed_end_date_parsed']].mean(axis=1))\n",
    " >> collect()\n",
    ")"
   ]
  },
  {
   "cell_type": "code",
   "execution_count": null,
   "id": "2ba4a125-e471-4295-92ef-221dcd65b400",
   "metadata": {},
   "outputs": [],
   "source": [
    "tbl_average_feeds"
   ]
  },
  {
   "cell_type": "code",
   "execution_count": null,
   "id": "7c96d3d9-d9ff-4a8f-b020-e24b59e5e9d1",
   "metadata": {},
   "outputs": [],
   "source": []
  }
 ],
 "metadata": {
  "kernelspec": {
   "display_name": "Python 3",
   "language": "python",
   "name": "python3"
  },
  "language_info": {
   "codemirror_mode": {
    "name": "ipython",
    "version": 3
   },
   "file_extension": ".py",
   "mimetype": "text/x-python",
   "name": "python",
   "nbconvert_exporter": "python",
   "pygments_lexer": "ipython3",
   "version": "3.9.5"
  },
  "toc-showcode": true,
  "toc-showtags": false
 },
 "nbformat": 4,
 "nbformat_minor": 5
}
