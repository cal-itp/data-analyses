{
 "cells": [
  {
   "cell_type": "code",
   "execution_count": 3,
   "id": "db34af7b-aea9-4549-b3d9-fd48e658b79f",
   "metadata": {
    "collapsed": true,
    "jupyter": {
     "outputs_hidden": true
    }
   },
   "outputs": [],
   "source": [
    "from calitp.tables import tbl\n",
    "from siuba import *\n",
    "from siuba.sql import sql_raw\n",
    "from siuba.experimental import completer\n",
    "from plotnine import *"
   ]
  },
  {
   "cell_type": "markdown",
   "id": "f43aa6a4-91a7-4e2f-a1f8-cad40ae0c748",
   "metadata": {},
   "source": [
    "## Are Feed Expiration dates meaningful and reliable?"
   ]
  },
  {
   "cell_type": "code",
   "execution_count": 4,
   "id": "0a4b2b20-0504-45c7-a61b-0c821e339571",
   "metadata": {
    "collapsed": true,
    "jupyter": {
     "outputs_hidden": true
    },
    "tags": []
   },
   "outputs": [],
   "source": [
    "tbl_expired_feeds = (tbl.gtfs_schedule.feed_info()                   \n",
    " >> mutate(feed_end_date_parsed = sql_raw('PARSE_DATE(\"%Y%m%d\", feed_end_date)'))\n",
    " >> mutate( feed_date_ended = _.feed_end_date_parsed < \"2021-07-01\") \n",
    " >> count(_.feed_date_ended, _.feed_end_date_parsed, _.calitp_itp_id)\n",
    " >> collect()\n",
    " >> mutate(feed_end_date_parsed = _.feed_end_date_parsed.astype(\"datetime64[ns]\"))\n",
    ")"
   ]
  },
  {
   "cell_type": "code",
   "execution_count": 5,
   "id": "9204898b-1704-4a6c-8137-9882f057e34a",
   "metadata": {
    "collapsed": true,
    "jupyter": {
     "outputs_hidden": true
    }
   },
   "outputs": [
    {
     "data": {
      "text/html": [
       "<div>\n",
       "<style scoped>\n",
       "    .dataframe tbody tr th:only-of-type {\n",
       "        vertical-align: middle;\n",
       "    }\n",
       "\n",
       "    .dataframe tbody tr th {\n",
       "        vertical-align: top;\n",
       "    }\n",
       "\n",
       "    .dataframe thead th {\n",
       "        text-align: right;\n",
       "    }\n",
       "</style>\n",
       "<table border=\"1\" class=\"dataframe\">\n",
       "  <thead>\n",
       "    <tr style=\"text-align: right;\">\n",
       "      <th></th>\n",
       "      <th>feed_date_ended</th>\n",
       "      <th>feed_end_date_parsed</th>\n",
       "      <th>calitp_itp_id</th>\n",
       "      <th>n</th>\n",
       "    </tr>\n",
       "  </thead>\n",
       "  <tbody>\n",
       "    <tr>\n",
       "      <th>25</th>\n",
       "      <td>False</td>\n",
       "      <td>2029-12-31</td>\n",
       "      <td>281</td>\n",
       "      <td>1</td>\n",
       "    </tr>\n",
       "  </tbody>\n",
       "</table>\n",
       "</div>"
      ],
      "text/plain": [
       "   feed_date_ended feed_end_date_parsed  calitp_itp_id  n\n",
       "25           False           2029-12-31            281  1"
      ]
     },
     "execution_count": 5,
     "metadata": {},
     "output_type": "execute_result"
    }
   ],
   "source": [
    "tbl_expired_feeds >> filter(_.feed_end_date_parsed == _.feed_end_date_parsed.max()) "
   ]
  },
  {
   "cell_type": "markdown",
   "id": "41f4578e-7243-464d-8bf3-a59c8735731a",
   "metadata": {},
   "source": [
    "* **What is the furthest future date in feed_info_end?** `2029-12-31`\n",
    "* **How many feeds share this furthest feed_into_end date?** `One`"
   ]
  },
  {
   "cell_type": "markdown",
   "id": "e1f74590-3217-422b-a2fb-32cc963f031f",
   "metadata": {},
   "source": [
    "* **What is the oldest feed_start_date?** `2012-02-01`\n",
    "* **How many feeds share this feed_start date?** `Two`"
   ]
  },
  {
   "cell_type": "code",
   "execution_count": 43,
   "id": "63f8d972-9b44-4595-b6d7-63fd6e0c8519",
   "metadata": {
    "collapsed": true,
    "jupyter": {
     "outputs_hidden": true
    }
   },
   "outputs": [],
   "source": [
    "DATE_YEAR_AGO = \"2020-07-14\"\n",
    "DATE_YEAR_OUT = \"2022-07-12\"\n",
    "TODAY_DATE = \"2020-07-15\"\n",
    "\n",
    "tbl_feed_info = (tbl.gtfs_schedule.feed_info()                   \n",
    "     >> mutate(\n",
    "         start_date = sql_raw('PARSE_DATE(\"%Y%m%d\", feed_start_date)'),\n",
    "         end_date = sql_raw('PARSE_DATE(\"%Y%m%d\", feed_end_date)'),\n",
    "         start_date_year_ago = _.start_date < DATE_YEAR_AGO,\n",
    "         end_date_year_out = _.end_date > DATE_YEAR_OUT,\n",
    "         date_diff_days=sql_raw(\"DATE_DIFF(end_date, start_date, DAY)\"),\n",
    "         date_diff_btn_year = _.date_diff_days < 365\n",
    "     )\n",
    ")\n"
   ]
  },
  {
   "cell_type": "code",
   "execution_count": 8,
   "id": "019fc9ff-c291-4ce1-809f-ab4ba4677819",
   "metadata": {
    "collapsed": true,
    "jupyter": {
     "outputs_hidden": true
    },
    "tags": []
   },
   "outputs": [
    {
     "data": {
      "text/html": [
       "<div>\n",
       "<style scoped>\n",
       "    .dataframe tbody tr th:only-of-type {\n",
       "        vertical-align: middle;\n",
       "    }\n",
       "\n",
       "    .dataframe tbody tr th {\n",
       "        vertical-align: top;\n",
       "    }\n",
       "\n",
       "    .dataframe thead th {\n",
       "        text-align: right;\n",
       "    }\n",
       "</style>\n",
       "<table border=\"1\" class=\"dataframe\">\n",
       "  <thead>\n",
       "    <tr style=\"text-align: right;\">\n",
       "      <th></th>\n",
       "      <th>end_date</th>\n",
       "      <th>n</th>\n",
       "    </tr>\n",
       "  </thead>\n",
       "  <tbody>\n",
       "    <tr>\n",
       "      <th>35</th>\n",
       "      <td>2029-12-31</td>\n",
       "      <td>1</td>\n",
       "    </tr>\n",
       "    <tr>\n",
       "      <th>38</th>\n",
       "      <td>2024-06-14</td>\n",
       "      <td>1</td>\n",
       "    </tr>\n",
       "    <tr>\n",
       "      <th>12</th>\n",
       "      <td>2024-01-01</td>\n",
       "      <td>3</td>\n",
       "    </tr>\n",
       "    <tr>\n",
       "      <th>9</th>\n",
       "      <td>2022-12-31</td>\n",
       "      <td>3</td>\n",
       "    </tr>\n",
       "    <tr>\n",
       "      <th>44</th>\n",
       "      <td>2022-07-05</td>\n",
       "      <td>1</td>\n",
       "    </tr>\n",
       "  </tbody>\n",
       "</table>\n",
       "</div>"
      ],
      "text/plain": [
       "     end_date  n\n",
       "35 2029-12-31  1\n",
       "38 2024-06-14  1\n",
       "12 2024-01-01  3\n",
       "9  2022-12-31  3\n",
       "44 2022-07-05  1"
      ]
     },
     "execution_count": 8,
     "metadata": {},
     "output_type": "execute_result"
    }
   ],
   "source": [
    "tbl_feed_counts = (\n",
    "    tbl_feed_info \n",
    "    >> count(_.end_date) \n",
    "    >> collect() \n",
    "    >> arrange(-_.end_date)\n",
    "    >> mutate(end_date = _.end_date.astype(\"datetime64[ns]\"))\n",
    ")\n",
    "\n",
    "tbl_feed_counts >> head()"
   ]
  },
  {
   "cell_type": "code",
   "execution_count": 9,
   "id": "31cc51e6-256f-4c58-aa7f-fbea4b07b272",
   "metadata": {
    "tags": []
   },
   "outputs": [
    {
     "name": "stderr",
     "output_type": "stream",
     "text": [
      "/Users/natalyadiaz/Cal-ITP/reports/env/lib/python3.9/site-packages/plotnine/layer.py:381: PlotnineWarning: position_stack : Removed 1 rows containing missing values.\n"
     ]
    },
    {
     "data": {
      "image/png": "[encoded data removed]",
      "text/plain": [
       "<Figure size 640x480 with 1 Axes>"
      ]
     },
     "metadata": {},
     "output_type": "display_data"
    },
    {
     "data": {
      "text/plain": [
       "<ggplot: (312264322)>"
      ]
     },
     "execution_count": 9,
     "metadata": {},
     "output_type": "execute_result"
    }
   ],
   "source": [
    "#plot end date counts\n",
    "tbl_feed_counts >> ggplot(aes(\"end_date.dt.year\", \"n\")) + geom_col()\n",
    "\n",
    "#need to change it to not .5 year"
   ]
  },
  {
   "cell_type": "code",
   "execution_count": 21,
   "id": "6f9ae968-a191-4f1f-8253-84603defe13d",
   "metadata": {
    "collapsed": true,
    "jupyter": {
     "outputs_hidden": true,
     "source_hidden": true
    },
    "tags": []
   },
   "outputs": [
    {
     "data": {
      "image/png": "[encoded data removed]",
      "text/plain": [
       "<Figure size 640x480 with 1 Axes>"
      ]
     },
     "metadata": {},
     "output_type": "display_data"
    },
    {
     "data": {
      "text/plain": [
       "<ggplot: (312513127)>"
      ]
     },
     "execution_count": 21,
     "metadata": {},
     "output_type": "execute_result"
    }
   ],
   "source": [
    "# plot end date counts using tbl_feed_info \n",
    "(\n",
    "    tbl_feed_info \n",
    "    >> collect()\n",
    "    >> filter(_.end_date.notna())\n",
    "    >> mutate(end_date = _.end_date.astype(\"datetime64[ns]\"), n = 1)\n",
    "    >> ggplot(aes(\"end_date.dt.year\", \"n\", fill=\"end_date_year_out\")) + geom_col() + theme(axis_text_x = element_text(angle=45, hjust=1))\n",
    ")\n",
    "#missing years are not plotted"
   ]
  },
  {
   "cell_type": "code",
   "execution_count": 29,
   "id": "fc2052f6-8338-48a2-8d32-9927eaedbf35",
   "metadata": {
    "collapsed": true,
    "jupyter": {
     "outputs_hidden": true
    },
    "tags": []
   },
   "outputs": [
    {
     "data": {
      "image/png": "[encoded data removed]",
      "text/plain": [
       "<Figure size 640x480 with 1 Axes>"
      ]
     },
     "metadata": {},
     "output_type": "display_data"
    },
    {
     "data": {
      "text/plain": [
       "<ggplot: (312812782)>"
      ]
     },
     "execution_count": 29,
     "metadata": {},
     "output_type": "execute_result"
    }
   ],
   "source": [
    "# plot start date counts using tbl_feed_info \n",
    "(\n",
    "    tbl_feed_info \n",
    "    >> collect()\n",
    "    >> filter(_.start_date.notna())\n",
    "    >> mutate(start_date = _.start_date.astype(\"datetime64[ns]\"), n = 1)\n",
    "    >> ggplot(aes(\"start_date.dt.year\", \"n\", fill=\"start_date_year_ago\")) + geom_col() + theme(axis_text_x = element_text(angle=45, hjust=1))\n",
    ")\n",
    "#missing years are not plotted"
   ]
  },
  {
   "cell_type": "code",
   "execution_count": 13,
   "id": "ada7518a-3570-4bc3-aa2f-fef5c979ab74",
   "metadata": {
    "collapsed": true,
    "jupyter": {
     "outputs_hidden": true,
     "source_hidden": true
    },
    "tags": []
   },
   "outputs": [],
   "source": [
    "# perform counts\n",
    "\n",
    "tbl_feed_end_counts = (\n",
    "    tbl_feed_info\n",
    "    >> count(_.end_date)\n",
    "    >> collect()\n",
    "    >> arrange(-_.end_date)\n",
    "    >> mutate(end_date=_.end_date.astype(\"datetime64[ns]\"))\n",
    ")\n",
    "tbl_feed_start_counts = (\n",
    "    tbl_feed_info\n",
    "    >> count(_.start_date)\n",
    "    >> collect()\n",
    "    >> arrange(-_.start_date)\n",
    "    >> mutate(end_date=_.start_date.astype(\"datetime64[ns]\"))\n",
    ")\n"
   ]
  },
  {
   "cell_type": "code",
   "execution_count": 44,
   "id": "d45fc5f3-6fe5-49f6-85dd-97f4344514f0",
   "metadata": {
    "collapsed": true,
    "jupyter": {
     "outputs_hidden": true
    },
    "tags": []
   },
   "outputs": [],
   "source": [
    "\n",
    "tbl_expiration = (\n",
    "    tbl_feed_info\n",
    "    >> mutate(end_date_max=_.end_date.max(), start_date_min=_.start_date)\n",
    "    >> summarize(\n",
    "        end_date_max=_.end_date_max.max(),\n",
    "        start_date_min=_.start_date_min.min(),\n",
    "        n_end_date_max = (_.end_date == _.end_date_max).astype(int).sum(),\n",
    "        #n_start_date_min=(_.end_date == _.end_date_max).astype(int).sum(),\n",
    "        n_start_date_min=(_.start_date == _.start_date_min).astype(int).sum(),\n",
    "        n_start_date_year=(_.start_date < DATE_YEAR_AGO).astype(int).sum(),\n",
    "        n_end_date_year=(_.end_date > DATE_YEAR_OUT).astype(int).sum(),\n",
    "        avg_date_diff=_.date_diff_days.mean().round(),\n",
    "        n_date_diff_btn_year = _.date_diff_btn_year.astype(int).sum()\n",
    "    \n",
    "    )\n",
    ")"
   ]
  },
  {
   "cell_type": "code",
   "execution_count": 97,
   "id": "35b874ed-6a6a-4ec9-a0db-fbd5f544528a",
   "metadata": {
    "collapsed": true,
    "jupyter": {
     "outputs_hidden": true
    }
   },
   "outputs": [],
   "source": [
    "tbl_agency_names = (tbl.views.gtfs_agency_names())"
   ]
  },
  {
   "cell_type": "code",
   "execution_count": 99,
   "id": "2041a61e-fe3f-473e-9be4-d02290ef8a5d",
   "metadata": {
    "collapsed": true,
    "jupyter": {
     "outputs_hidden": true
    },
    "tags": []
   },
   "outputs": [
    {
     "data": {
      "text/html": [
       "<div><pre># Source: lazy query\n",
       "# DB Conn: Engine(bigquery://cal-itp-data-infra/?maximum_bytes_billed=5000000000)\n",
       "# Preview:\n",
       "</pre><div>\n",
       "<style scoped>\n",
       "    .dataframe tbody tr th:only-of-type {\n",
       "        vertical-align: middle;\n",
       "    }\n",
       "\n",
       "    .dataframe tbody tr th {\n",
       "        vertical-align: top;\n",
       "    }\n",
       "\n",
       "    .dataframe thead th {\n",
       "        text-align: right;\n",
       "    }\n",
       "</style>\n",
       "<table border=\"1\" class=\"dataframe\">\n",
       "  <thead>\n",
       "    <tr style=\"text-align: right;\">\n",
       "      <th></th>\n",
       "      <th>calitp_itp_id</th>\n",
       "      <th>calitp_url_number</th>\n",
       "      <th>agency_name</th>\n",
       "    </tr>\n",
       "  </thead>\n",
       "  <tbody>\n",
       "    <tr>\n",
       "      <th>0</th>\n",
       "      <td>256</td>\n",
       "      <td>0</td>\n",
       "      <td>Porterville Transit</td>\n",
       "    </tr>\n",
       "    <tr>\n",
       "      <th>1</th>\n",
       "      <td>257</td>\n",
       "      <td>0</td>\n",
       "      <td>PresidiGo</td>\n",
       "    </tr>\n",
       "    <tr>\n",
       "      <th>2</th>\n",
       "      <td>259</td>\n",
       "      <td>0</td>\n",
       "      <td>Redding Area Bus Authority</td>\n",
       "    </tr>\n",
       "    <tr>\n",
       "      <th>3</th>\n",
       "      <td>4</td>\n",
       "      <td>0</td>\n",
       "      <td>AC Transit</td>\n",
       "    </tr>\n",
       "    <tr>\n",
       "      <th>4</th>\n",
       "      <td>260</td>\n",
       "      <td>0</td>\n",
       "      <td>Beach Cities Transit</td>\n",
       "    </tr>\n",
       "  </tbody>\n",
       "</table>\n",
       "</div><p># .. may have more rows</p></div>"
      ],
      "text/plain": [
       "# Source: lazy query\n",
       "# DB Conn: Engine(bigquery://cal-itp-data-infra/?maximum_bytes_billed=5000000000)\n",
       "# Preview:\n",
       "   calitp_itp_id  calitp_url_number                 agency_name\n",
       "0            256                  0         Porterville Transit\n",
       "1            257                  0                   PresidiGo\n",
       "2            259                  0  Redding Area Bus Authority\n",
       "3              4                  0                  AC Transit\n",
       "4            260                  0        Beach Cities Transit\n",
       "# .. may have more rows"
      ]
     },
     "execution_count": 99,
     "metadata": {},
     "output_type": "execute_result"
    }
   ],
   "source": [
    "tbl_agency_names"
   ]
  },
  {
   "cell_type": "code",
   "execution_count": 98,
   "id": "ba1f74df-f23a-41f2-a9b9-0cd5d2cd600f",
   "metadata": {
    "collapsed": true,
    "jupyter": {
     "outputs_hidden": true
    },
    "tags": []
   },
   "outputs": [
    {
     "ename": "TypeError",
     "evalue": "on must be a Mapping (e.g. dict)",
     "output_type": "error",
     "traceback": [
      "\u001b[0;31m---------------------------------------------------------------------------\u001b[0m",
      "\u001b[0;31mTypeError\u001b[0m                                 Traceback (most recent call last)",
      "\u001b[0;32m<ipython-input-98-b26ca2358999>\u001b[0m in \u001b[0;36m<module>\u001b[0;34m\u001b[0m\n\u001b[1;32m      1\u001b[0m tbl_expired_agencies = (\n\u001b[0;32m----> 2\u001b[0;31m     \u001b[0mtbl_expiration\u001b[0m\u001b[0;34m\u001b[0m\u001b[0;34m\u001b[0m\u001b[0m\n\u001b[0m\u001b[1;32m      3\u001b[0m     >> right_join(_, tbl_agency_names, [\"calitp_itp_id\"]\n\u001b[1;32m      4\u001b[0m     >> collect())\n\u001b[1;32m      5\u001b[0m )\n",
      "\u001b[0;32m~/Cal-ITP/reports/env/lib/python3.9/site-packages/siuba/dply/verbs.py\u001b[0m in \u001b[0;36m__rrshift__\u001b[0;34m(self, x)\u001b[0m\n\u001b[1;32m     97\u001b[0m             \u001b[0;32mreturn\u001b[0m \u001b[0mPipeable\u001b[0m\u001b[0;34m(\u001b[0m\u001b[0mcalls\u001b[0m \u001b[0;34m=\u001b[0m \u001b[0;34m[\u001b[0m\u001b[0mx\u001b[0m\u001b[0;34m]\u001b[0m \u001b[0;34m+\u001b[0m \u001b[0mself\u001b[0m\u001b[0;34m.\u001b[0m\u001b[0mcalls\u001b[0m\u001b[0;34m)\u001b[0m\u001b[0;34m\u001b[0m\u001b[0;34m\u001b[0m\u001b[0m\n\u001b[1;32m     98\u001b[0m \u001b[0;34m\u001b[0m\u001b[0m\n\u001b[0;32m---> 99\u001b[0;31m         \u001b[0;32mreturn\u001b[0m \u001b[0mself\u001b[0m\u001b[0;34m(\u001b[0m\u001b[0mx\u001b[0m\u001b[0;34m)\u001b[0m\u001b[0;34m\u001b[0m\u001b[0;34m\u001b[0m\u001b[0m\n\u001b[0m\u001b[1;32m    100\u001b[0m \u001b[0;34m\u001b[0m\u001b[0m\n\u001b[1;32m    101\u001b[0m     \u001b[0;32mdef\u001b[0m \u001b[0m__call__\u001b[0m\u001b[0;34m(\u001b[0m\u001b[0mself\u001b[0m\u001b[0;34m,\u001b[0m \u001b[0mx\u001b[0m\u001b[0;34m)\u001b[0m\u001b[0;34m:\u001b[0m\u001b[0;34m\u001b[0m\u001b[0;34m\u001b[0m\u001b[0m\n",
      "\u001b[0;32m~/Cal-ITP/reports/env/lib/python3.9/site-packages/siuba/dply/verbs.py\u001b[0m in \u001b[0;36m__call__\u001b[0;34m(self, x)\u001b[0m\n\u001b[1;32m    102\u001b[0m         \u001b[0mres\u001b[0m \u001b[0;34m=\u001b[0m \u001b[0mx\u001b[0m\u001b[0;34m\u001b[0m\u001b[0;34m\u001b[0m\u001b[0m\n\u001b[1;32m    103\u001b[0m         \u001b[0;32mfor\u001b[0m \u001b[0mf\u001b[0m \u001b[0;32min\u001b[0m \u001b[0mself\u001b[0m\u001b[0;34m.\u001b[0m\u001b[0mcalls\u001b[0m\u001b[0;34m:\u001b[0m\u001b[0;34m\u001b[0m\u001b[0;34m\u001b[0m\u001b[0m\n\u001b[0;32m--> 104\u001b[0;31m             \u001b[0mres\u001b[0m \u001b[0;34m=\u001b[0m \u001b[0mf\u001b[0m\u001b[0;34m(\u001b[0m\u001b[0mres\u001b[0m\u001b[0;34m)\u001b[0m\u001b[0;34m\u001b[0m\u001b[0;34m\u001b[0m\u001b[0m\n\u001b[0m\u001b[1;32m    105\u001b[0m         \u001b[0;32mreturn\u001b[0m \u001b[0mres\u001b[0m\u001b[0;34m\u001b[0m\u001b[0;34m\u001b[0m\u001b[0m\n\u001b[1;32m    106\u001b[0m \u001b[0;34m\u001b[0m\u001b[0m\n",
      "\u001b[0;32m~/Cal-ITP/reports/env/lib/python3.9/site-packages/siuba/siu.py\u001b[0m in \u001b[0;36m__call__\u001b[0;34m(self, x)\u001b[0m\n\u001b[1;32m    201\u001b[0m             \u001b[0;32mreturn\u001b[0m \u001b[0moperator\u001b[0m\u001b[0;34m.\u001b[0m\u001b[0mgetitem\u001b[0m\u001b[0;34m(\u001b[0m\u001b[0minst\u001b[0m\u001b[0;34m,\u001b[0m \u001b[0;34m*\u001b[0m\u001b[0mrest\u001b[0m\u001b[0;34m)\u001b[0m\u001b[0;34m\u001b[0m\u001b[0;34m\u001b[0m\u001b[0m\n\u001b[1;32m    202\u001b[0m         \u001b[0;32melif\u001b[0m \u001b[0mself\u001b[0m\u001b[0;34m.\u001b[0m\u001b[0mfunc\u001b[0m \u001b[0;34m==\u001b[0m \u001b[0;34m\"__call__\"\u001b[0m\u001b[0;34m:\u001b[0m\u001b[0;34m\u001b[0m\u001b[0;34m\u001b[0m\u001b[0m\n\u001b[0;32m--> 203\u001b[0;31m             \u001b[0;32mreturn\u001b[0m \u001b[0mgetattr\u001b[0m\u001b[0;34m(\u001b[0m\u001b[0minst\u001b[0m\u001b[0;34m,\u001b[0m \u001b[0mself\u001b[0m\u001b[0;34m.\u001b[0m\u001b[0mfunc\u001b[0m\u001b[0;34m)\u001b[0m\u001b[0;34m(\u001b[0m\u001b[0;34m*\u001b[0m\u001b[0mrest\u001b[0m\u001b[0;34m,\u001b[0m \u001b[0;34m**\u001b[0m\u001b[0mkwargs\u001b[0m\u001b[0;34m)\u001b[0m\u001b[0;34m\u001b[0m\u001b[0;34m\u001b[0m\u001b[0m\n\u001b[0m\u001b[1;32m    204\u001b[0m \u001b[0;34m\u001b[0m\u001b[0m\n\u001b[1;32m    205\u001b[0m         \u001b[0;31m# in normal case, get method to call, and then call it\u001b[0m\u001b[0;34m\u001b[0m\u001b[0;34m\u001b[0m\u001b[0;34m\u001b[0m\u001b[0m\n",
      "\u001b[0;32m/usr/local/Cellar/python@3.9/3.9.5/Frameworks/Python.framework/Versions/3.9/lib/python3.9/functools.py\u001b[0m in \u001b[0;36mwrapper\u001b[0;34m(*args, **kw)\u001b[0m\n\u001b[1;32m    875\u001b[0m                             '1 positional argument')\n\u001b[1;32m    876\u001b[0m \u001b[0;34m\u001b[0m\u001b[0m\n\u001b[0;32m--> 877\u001b[0;31m         \u001b[0;32mreturn\u001b[0m \u001b[0mdispatch\u001b[0m\u001b[0;34m(\u001b[0m\u001b[0margs\u001b[0m\u001b[0;34m[\u001b[0m\u001b[0;36m0\u001b[0m\u001b[0;34m]\u001b[0m\u001b[0;34m.\u001b[0m\u001b[0m__class__\u001b[0m\u001b[0;34m)\u001b[0m\u001b[0;34m(\u001b[0m\u001b[0;34m*\u001b[0m\u001b[0margs\u001b[0m\u001b[0;34m,\u001b[0m \u001b[0;34m**\u001b[0m\u001b[0mkw\u001b[0m\u001b[0;34m)\u001b[0m\u001b[0;34m\u001b[0m\u001b[0;34m\u001b[0m\u001b[0m\n\u001b[0m\u001b[1;32m    878\u001b[0m \u001b[0;34m\u001b[0m\u001b[0m\n\u001b[1;32m    879\u001b[0m     \u001b[0mfuncname\u001b[0m \u001b[0;34m=\u001b[0m \u001b[0mgetattr\u001b[0m\u001b[0;34m(\u001b[0m\u001b[0mfunc\u001b[0m\u001b[0;34m,\u001b[0m \u001b[0;34m'__name__'\u001b[0m\u001b[0;34m,\u001b[0m \u001b[0;34m'singledispatch function'\u001b[0m\u001b[0;34m)\u001b[0m\u001b[0;34m\u001b[0m\u001b[0;34m\u001b[0m\u001b[0m\n",
      "\u001b[0;32m~/Cal-ITP/reports/env/lib/python3.9/site-packages/siuba/sql/verbs.py\u001b[0m in \u001b[0;36m_join\u001b[0;34m(left, right, on, how, sql_on, *args)\u001b[0m\n\u001b[1;32m    887\u001b[0m \u001b[0;34m\u001b[0m\u001b[0m\n\u001b[1;32m    888\u001b[0m     \u001b[0;31m# handle arguments ----\u001b[0m\u001b[0;34m\u001b[0m\u001b[0;34m\u001b[0m\u001b[0;34m\u001b[0m\u001b[0m\n\u001b[0;32m--> 889\u001b[0;31m     \u001b[0mon\u001b[0m  \u001b[0;34m=\u001b[0m \u001b[0m_validate_join_arg_on\u001b[0m\u001b[0;34m(\u001b[0m\u001b[0mon\u001b[0m\u001b[0;34m,\u001b[0m \u001b[0msql_on\u001b[0m\u001b[0;34m)\u001b[0m\u001b[0;34m\u001b[0m\u001b[0;34m\u001b[0m\u001b[0m\n\u001b[0m\u001b[1;32m    890\u001b[0m     \u001b[0mhow\u001b[0m \u001b[0;34m=\u001b[0m \u001b[0m_validate_join_arg_how\u001b[0m\u001b[0;34m(\u001b[0m\u001b[0mhow\u001b[0m\u001b[0;34m)\u001b[0m\u001b[0;34m\u001b[0m\u001b[0;34m\u001b[0m\u001b[0m\n\u001b[1;32m    891\u001b[0m \u001b[0;34m\u001b[0m\u001b[0m\n",
      "\u001b[0;32m~/Cal-ITP/reports/env/lib/python3.9/site-packages/siuba/sql/verbs.py\u001b[0m in \u001b[0;36m_validate_join_arg_on\u001b[0;34m(on, sql_on)\u001b[0m\n\u001b[1;32m    999\u001b[0m \u001b[0;34m\u001b[0m\u001b[0m\n\u001b[1;32m   1000\u001b[0m     \u001b[0;32mif\u001b[0m \u001b[0;32mnot\u001b[0m \u001b[0misinstance\u001b[0m\u001b[0;34m(\u001b[0m\u001b[0mon\u001b[0m\u001b[0;34m,\u001b[0m \u001b[0mMapping\u001b[0m\u001b[0;34m)\u001b[0m\u001b[0;34m:\u001b[0m\u001b[0;34m\u001b[0m\u001b[0;34m\u001b[0m\u001b[0m\n\u001b[0;32m-> 1001\u001b[0;31m         \u001b[0;32mraise\u001b[0m \u001b[0mTypeError\u001b[0m\u001b[0;34m(\u001b[0m\u001b[0;34m\"on must be a Mapping (e.g. dict)\"\u001b[0m\u001b[0;34m)\u001b[0m\u001b[0;34m\u001b[0m\u001b[0;34m\u001b[0m\u001b[0m\n\u001b[0m\u001b[1;32m   1002\u001b[0m \u001b[0;34m\u001b[0m\u001b[0m\n\u001b[1;32m   1003\u001b[0m     \u001b[0;32mreturn\u001b[0m \u001b[0mon\u001b[0m\u001b[0;34m\u001b[0m\u001b[0;34m\u001b[0m\u001b[0m\n",
      "\u001b[0;31mTypeError\u001b[0m: on must be a Mapping (e.g. dict)"
     ]
    }
   ],
   "source": [
    "tbl_expired_agencies = (\n",
    "    tbl_expiration\n",
    "    >> right_join(_, tbl_agency_names, [\"calitp_itp_id\"]\n",
    "    >> collect())\n",
    ")"
   ]
  },
  {
   "cell_type": "code",
   "execution_count": 96,
   "id": "dc57c330-5982-4445-9773-d13e81418d4c",
   "metadata": {
    "collapsed": true,
    "jupyter": {
     "outputs_hidden": true
    },
    "tags": []
   },
   "outputs": [
    {
     "data": {
      "text/html": [
       "<div><pre># Source: lazy query\n",
       "# DB Conn: Engine(bigquery://cal-itp-data-infra/?maximum_bytes_billed=5000000000)\n",
       "# Preview:\n",
       "</pre><div>\n",
       "<style scoped>\n",
       "    .dataframe tbody tr th:only-of-type {\n",
       "        vertical-align: middle;\n",
       "    }\n",
       "\n",
       "    .dataframe tbody tr th {\n",
       "        vertical-align: top;\n",
       "    }\n",
       "\n",
       "    .dataframe thead th {\n",
       "        text-align: right;\n",
       "    }\n",
       "</style>\n",
       "<table border=\"1\" class=\"dataframe\">\n",
       "  <thead>\n",
       "    <tr style=\"text-align: right;\">\n",
       "      <th></th>\n",
       "      <th>calitp_itp_id</th>\n",
       "      <th>calitp_url_number</th>\n",
       "      <th>feed_publisher_name</th>\n",
       "      <th>feed_publisher_url</th>\n",
       "      <th>feed_lang</th>\n",
       "      <th>default_lang</th>\n",
       "      <th>feed_start_date</th>\n",
       "      <th>feed_end_date</th>\n",
       "      <th>feed_version</th>\n",
       "      <th>feed_contact_email</th>\n",
       "      <th>feed_contact_url</th>\n",
       "      <th>calitp_extracted_at</th>\n",
       "      <th>start_date</th>\n",
       "      <th>end_date</th>\n",
       "      <th>start_date_year_ago</th>\n",
       "      <th>end_date_year_out</th>\n",
       "      <th>date_diff_days</th>\n",
       "      <th>date_diff_btn_year</th>\n",
       "    </tr>\n",
       "  </thead>\n",
       "  <tbody>\n",
       "    <tr>\n",
       "      <th>0</th>\n",
       "      <td>344</td>\n",
       "      <td>0</td>\n",
       "      <td>Trillium Solutions, Inc.</td>\n",
       "      <td>http://www.trilliumtransit.com</td>\n",
       "      <td>en</td>\n",
       "      <td>None</td>\n",
       "      <td>20181213</td>\n",
       "      <td>20200101</td>\n",
       "      <td>UTC: 13-Dec-2018 22:08</td>\n",
       "      <td>support+trinity-ca-us@trilliumtransit.com</td>\n",
       "      <td>http://support.trilliumtransit.com</td>\n",
       "      <td>2021-04-15</td>\n",
       "      <td>2018-12-13</td>\n",
       "      <td>2020-01-01</td>\n",
       "      <td>True</td>\n",
       "      <td>False</td>\n",
       "      <td>384</td>\n",
       "      <td>False</td>\n",
       "    </tr>\n",
       "    <tr>\n",
       "      <th>1</th>\n",
       "      <td>97</td>\n",
       "      <td>0</td>\n",
       "      <td>Trillium Solutions, Inc.</td>\n",
       "      <td>http://www.trilliumtransit.com</td>\n",
       "      <td>en</td>\n",
       "      <td>None</td>\n",
       "      <td>20181210</td>\n",
       "      <td>20200101</td>\n",
       "      <td>UTC: 11-Dec-2018 00:26</td>\n",
       "      <td>support+duartetransit-ca-us@trilliumtransit.com</td>\n",
       "      <td>http://support.trilliumtransit.com</td>\n",
       "      <td>2021-04-15</td>\n",
       "      <td>2018-12-10</td>\n",
       "      <td>2020-01-01</td>\n",
       "      <td>True</td>\n",
       "      <td>False</td>\n",
       "      <td>387</td>\n",
       "      <td>False</td>\n",
       "    </tr>\n",
       "  </tbody>\n",
       "</table>\n",
       "</div><p># .. may have more rows</p></div>"
      ],
      "text/plain": [
       "# Source: lazy query\n",
       "# DB Conn: Engine(bigquery://cal-itp-data-infra/?maximum_bytes_billed=5000000000)\n",
       "# Preview:\n",
       "   calitp_itp_id  calitp_url_number       feed_publisher_name  \\\n",
       "0            344                  0  Trillium Solutions, Inc.   \n",
       "1             97                  0  Trillium Solutions, Inc.   \n",
       "\n",
       "               feed_publisher_url feed_lang default_lang feed_start_date  \\\n",
       "0  http://www.trilliumtransit.com        en         None        20181213   \n",
       "1  http://www.trilliumtransit.com        en         None        20181210   \n",
       "\n",
       "  feed_end_date            feed_version  \\\n",
       "0      20200101  UTC: 13-Dec-2018 22:08   \n",
       "1      20200101  UTC: 11-Dec-2018 00:26   \n",
       "\n",
       "                                feed_contact_email  \\\n",
       "0        support+trinity-ca-us@trilliumtransit.com   \n",
       "1  support+duartetransit-ca-us@trilliumtransit.com   \n",
       "\n",
       "                     feed_contact_url calitp_extracted_at  start_date  \\\n",
       "0  http://support.trilliumtransit.com          2021-04-15  2018-12-13   \n",
       "1  http://support.trilliumtransit.com          2021-04-15  2018-12-10   \n",
       "\n",
       "     end_date  start_date_year_ago  end_date_year_out  date_diff_days  \\\n",
       "0  2020-01-01                 True              False             384   \n",
       "1  2020-01-01                 True              False             387   \n",
       "\n",
       "   date_diff_btn_year  \n",
       "0               False  \n",
       "1               False  \n",
       "# .. may have more rows"
      ]
     },
     "execution_count": 96,
     "metadata": {},
     "output_type": "execute_result"
    }
   ],
   "source": [
    "#Which agency has that end date\n",
    "tbl_feed_info >> filter(_.end_date == _.end_date.min())"
   ]
  },
  {
   "cell_type": "code",
   "execution_count": 40,
   "id": "050a94a2-d91b-4608-ad24-c745d9c14f63",
   "metadata": {
    "collapsed": true,
    "jupyter": {
     "outputs_hidden": true
    }
   },
   "outputs": [
    {
     "data": {
      "text/html": [
       "<div><pre># Source: lazy query\n",
       "# DB Conn: Engine(bigquery://cal-itp-data-infra/?maximum_bytes_billed=5000000000)\n",
       "# Preview:\n",
       "</pre><div>\n",
       "<style scoped>\n",
       "    .dataframe tbody tr th:only-of-type {\n",
       "        vertical-align: middle;\n",
       "    }\n",
       "\n",
       "    .dataframe tbody tr th {\n",
       "        vertical-align: top;\n",
       "    }\n",
       "\n",
       "    .dataframe thead th {\n",
       "        text-align: right;\n",
       "    }\n",
       "</style>\n",
       "<table border=\"1\" class=\"dataframe\">\n",
       "  <thead>\n",
       "    <tr style=\"text-align: right;\">\n",
       "      <th></th>\n",
       "      <th>calitp_itp_id</th>\n",
       "      <th>calitp_url_number</th>\n",
       "      <th>feed_publisher_name</th>\n",
       "      <th>feed_publisher_url</th>\n",
       "      <th>feed_lang</th>\n",
       "      <th>default_lang</th>\n",
       "      <th>feed_start_date</th>\n",
       "      <th>feed_end_date</th>\n",
       "      <th>feed_version</th>\n",
       "      <th>feed_contact_email</th>\n",
       "      <th>feed_contact_url</th>\n",
       "      <th>calitp_extracted_at</th>\n",
       "      <th>start_date</th>\n",
       "      <th>end_date</th>\n",
       "      <th>start_date_year_ago</th>\n",
       "      <th>end_date_year_out</th>\n",
       "      <th>date_diff_days</th>\n",
       "      <th>date_diff_btw_year</th>\n",
       "    </tr>\n",
       "  </thead>\n",
       "  <tbody>\n",
       "    <tr>\n",
       "      <th>0</th>\n",
       "      <td>256</td>\n",
       "      <td>0</td>\n",
       "      <td>National RTAP</td>\n",
       "      <td>http://www.nationalrtap.org</td>\n",
       "      <td>en</td>\n",
       "      <td>None</td>\n",
       "      <td>20120201</td>\n",
       "      <td>20201231</td>\n",
       "      <td>20170407</td>\n",
       "      <td>rtree@ci.porterville.ca.us</td>\n",
       "      <td>http://www.ridept.com</td>\n",
       "      <td>2021-04-15</td>\n",
       "      <td>2012-02-01</td>\n",
       "      <td>2020-12-31</td>\n",
       "      <td>True</td>\n",
       "      <td>False</td>\n",
       "      <td>3256</td>\n",
       "      <td>False</td>\n",
       "    </tr>\n",
       "    <tr>\n",
       "      <th>1</th>\n",
       "      <td>93</td>\n",
       "      <td>0</td>\n",
       "      <td>DART</td>\n",
       "      <td>http://www.tularecog.org/bustimes/</td>\n",
       "      <td>EN</td>\n",
       "      <td>None</td>\n",
       "      <td>20120201</td>\n",
       "      <td>20211215</td>\n",
       "      <td>20120202</td>\n",
       "      <td>None</td>\n",
       "      <td>None</td>\n",
       "      <td>2021-06-17</td>\n",
       "      <td>2012-02-01</td>\n",
       "      <td>2021-12-15</td>\n",
       "      <td>True</td>\n",
       "      <td>False</td>\n",
       "      <td>3605</td>\n",
       "      <td>False</td>\n",
       "    </tr>\n",
       "  </tbody>\n",
       "</table>\n",
       "</div><p># .. may have more rows</p></div>"
      ],
      "text/plain": [
       "# Source: lazy query\n",
       "# DB Conn: Engine(bigquery://cal-itp-data-infra/?maximum_bytes_billed=5000000000)\n",
       "# Preview:\n",
       "   calitp_itp_id  calitp_url_number feed_publisher_name  \\\n",
       "0            256                  0       National RTAP   \n",
       "1             93                  0                DART   \n",
       "\n",
       "                   feed_publisher_url feed_lang default_lang feed_start_date  \\\n",
       "0         http://www.nationalrtap.org        en         None        20120201   \n",
       "1  http://www.tularecog.org/bustimes/        EN         None        20120201   \n",
       "\n",
       "  feed_end_date feed_version          feed_contact_email  \\\n",
       "0      20201231     20170407  rtree@ci.porterville.ca.us   \n",
       "1      20211215     20120202                        None   \n",
       "\n",
       "        feed_contact_url calitp_extracted_at  start_date    end_date  \\\n",
       "0  http://www.ridept.com          2021-04-15  2012-02-01  2020-12-31   \n",
       "1                   None          2021-06-17  2012-02-01  2021-12-15   \n",
       "\n",
       "   start_date_year_ago  end_date_year_out  date_diff_days  date_diff_btw_year  \n",
       "0                 True              False            3256               False  \n",
       "1                 True              False            3605               False  \n",
       "# .. may have more rows"
      ]
     },
     "execution_count": 40,
     "metadata": {},
     "output_type": "execute_result"
    }
   ],
   "source": [
    "#which agency has that start date \n",
    "tbl_feed_info >> filter(_.start_date == _.start_date.min())"
   ]
  },
  {
   "cell_type": "code",
   "execution_count": 45,
   "id": "52454668-2bce-41f5-9dfe-baaa37238e22",
   "metadata": {
    "collapsed": true,
    "jupyter": {
     "outputs_hidden": true
    }
   },
   "outputs": [
    {
     "data": {
      "text/html": [
       "<div><pre># Source: lazy query\n",
       "# DB Conn: Engine(bigquery://cal-itp-data-infra/?maximum_bytes_billed=5000000000)\n",
       "# Preview:\n",
       "</pre><div>\n",
       "<style scoped>\n",
       "    .dataframe tbody tr th:only-of-type {\n",
       "        vertical-align: middle;\n",
       "    }\n",
       "\n",
       "    .dataframe tbody tr th {\n",
       "        vertical-align: top;\n",
       "    }\n",
       "\n",
       "    .dataframe thead th {\n",
       "        text-align: right;\n",
       "    }\n",
       "</style>\n",
       "<table border=\"1\" class=\"dataframe\">\n",
       "  <thead>\n",
       "    <tr style=\"text-align: right;\">\n",
       "      <th></th>\n",
       "      <th>end_date_max</th>\n",
       "      <th>start_date_min</th>\n",
       "      <th>n_end_date_max</th>\n",
       "      <th>n_start_date_min</th>\n",
       "      <th>n_start_date_year</th>\n",
       "      <th>n_end_date_year</th>\n",
       "      <th>avg_date_diff</th>\n",
       "      <th>n_date_diff_btn_year</th>\n",
       "    </tr>\n",
       "  </thead>\n",
       "  <tbody>\n",
       "    <tr>\n",
       "      <th>0</th>\n",
       "      <td>2029-12-31</td>\n",
       "      <td>2012-02-01</td>\n",
       "      <td>1</td>\n",
       "      <td>179</td>\n",
       "      <td>19</td>\n",
       "      <td>8</td>\n",
       "      <td>327.0</td>\n",
       "      <td>130</td>\n",
       "    </tr>\n",
       "  </tbody>\n",
       "</table>\n",
       "</div><p># .. may have more rows</p></div>"
      ],
      "text/plain": [
       "# Source: lazy query\n",
       "# DB Conn: Engine(bigquery://cal-itp-data-infra/?maximum_bytes_billed=5000000000)\n",
       "# Preview:\n",
       "  end_date_max start_date_min  n_end_date_max  n_start_date_min  \\\n",
       "0   2029-12-31     2012-02-01               1               179   \n",
       "\n",
       "   n_start_date_year  n_end_date_year  avg_date_diff  n_date_diff_btn_year  \n",
       "0                 19                8          327.0                   130  \n",
       "# .. may have more rows"
      ]
     },
     "execution_count": 45,
     "metadata": {},
     "output_type": "execute_result"
    }
   ],
   "source": [
    "tbl_expiration"
   ]
  },
  {
   "cell_type": "code",
   "execution_count": null,
   "id": "c3740f67-8409-437f-adc6-2fc6b9cf823b",
   "metadata": {
    "collapsed": true,
    "jupyter": {
     "outputs_hidden": true
    }
   },
   "outputs": [],
   "source": []
  },
  {
   "cell_type": "markdown",
   "id": "627eab08-e4ba-466c-90f5-92fbfe839151",
   "metadata": {
    "jupyter": {
     "source_hidden": true
    },
    "tags": []
   },
   "source": [
    "* **How Many feeds have a feed_info_end_date more than one year into the future?** `8`\n",
    "* **How many feeds have a feed_start_date that is more than one year in the future?** `19`"
   ]
  },
  {
   "cell_type": "markdown",
   "id": "4d1bed79-1206-442c-8a5a-2e3f412485fd",
   "metadata": {
    "jupyter": {
     "source_hidden": true
    },
    "tags": []
   },
   "source": [
    "* **What is the average length of time between a feed_info_start and feed_info_end?** `327 Days`\n",
    "* **How many feeds have one year or less between feed_info_start and feed_info_end?** `130`\n"
   ]
  },
  {
   "cell_type": "markdown",
   "id": "6887fb7d-e122-4acf-bb41-cd041139c3f2",
   "metadata": {},
   "source": [
    "## How many agencies have invalid GTFS Data? "
   ]
  },
  {
   "cell_type": "code",
   "execution_count": 136,
   "id": "545583d8-bf23-42d6-9739-39915b2fda8b",
   "metadata": {
    "tags": []
   },
   "outputs": [],
   "source": [
    "#need to add calendar_expired feeds as well? \n",
    "tbl_calendar_expired_feeds = (tbl.gtfs_schedule.calendar())\n"
   ]
  },
  {
   "cell_type": "code",
   "execution_count": 137,
   "id": "d44fd114-d56f-42b5-86d0-a3f97abd66bd",
   "metadata": {
    "tags": []
   },
   "outputs": [],
   "source": [
    "tbl_calendar_info = (tbl.gtfs_schedule.calendar()                   \n",
    "     >> mutate(\n",
    "         calendar_start_date = sql_raw('PARSE_DATE(\"%Y%m%d\", start_date)'),\n",
    "         calendar_end_date = sql_raw('PARSE_DATE(\"%Y%m%d\", end_date)'),\n",
    "     )\n",
    ")"
   ]
  },
  {
   "cell_type": "code",
   "execution_count": 138,
   "id": "28601e95-cdbb-42f7-b84d-c98d31673309",
   "metadata": {
    "tags": []
   },
   "outputs": [],
   "source": [
    "tbl_calendar_expiration = (\n",
    "    tbl_calendar_info\n",
    "    >> mutate(calendar_end_date_max=_.calendar_end_date.max(), calendar_start_date_min=_.calendar_start_date.min())\n",
    "    >> summarize (\n",
    "    calendar_end_date_max =_.calendar_end_date_max.max(),\n",
    "    calendar_start_date_min =_.calendar_start_date_min.min(),\n",
    "    n_calendar_end_date_max = (_.calendar_end_date == _.calendar_end_date_max).astype(int).sum(),\n",
    "    n_calendar_start_date_min=(_.calendar_start_date == _.calendar_start_date_min).astype(int).sum(),\n",
    "    n_calendar_start_date_expired = (_.calendar_start_date > TODAY_DATE).astype(int).sum(),\n",
    "    n_calendar_end_date_expired = (_.calendar_end_date < TODAY_DATE).astype(int).sum()    \n",
    "                 )\n",
    ")\n"
   ]
  },
  {
   "cell_type": "code",
   "execution_count": 139,
   "id": "fad5e2e9-49e5-46f8-8148-d96cbc21e4e2",
   "metadata": {
    "tags": []
   },
   "outputs": [
    {
     "data": {
      "text/html": [
       "<div><pre># Source: lazy query\n",
       "# DB Conn: Engine(bigquery://cal-itp-data-infra/?maximum_bytes_billed=5000000000)\n",
       "# Preview:\n",
       "</pre><div>\n",
       "<style scoped>\n",
       "    .dataframe tbody tr th:only-of-type {\n",
       "        vertical-align: middle;\n",
       "    }\n",
       "\n",
       "    .dataframe tbody tr th {\n",
       "        vertical-align: top;\n",
       "    }\n",
       "\n",
       "    .dataframe thead th {\n",
       "        text-align: right;\n",
       "    }\n",
       "</style>\n",
       "<table border=\"1\" class=\"dataframe\">\n",
       "  <thead>\n",
       "    <tr style=\"text-align: right;\">\n",
       "      <th></th>\n",
       "      <th>calitp_itp_id</th>\n",
       "      <th>calitp_url_number</th>\n",
       "      <th>service_id</th>\n",
       "      <th>monday</th>\n",
       "      <th>tuesday</th>\n",
       "      <th>wednesday</th>\n",
       "      <th>thursday</th>\n",
       "      <th>friday</th>\n",
       "      <th>saturday</th>\n",
       "      <th>sunday</th>\n",
       "      <th>start_date</th>\n",
       "      <th>end_date</th>\n",
       "      <th>calitp_extracted_at</th>\n",
       "      <th>calendar_start_date</th>\n",
       "      <th>calendar_end_date</th>\n",
       "    </tr>\n",
       "  </thead>\n",
       "  <tbody>\n",
       "    <tr>\n",
       "      <th>0</th>\n",
       "      <td>372</td>\n",
       "      <td>0</td>\n",
       "      <td>8f9ded8a-1484-43c6-af4a-9e2d6eebd86d</td>\n",
       "      <td>0</td>\n",
       "      <td>0</td>\n",
       "      <td>0</td>\n",
       "      <td>0</td>\n",
       "      <td>0</td>\n",
       "      <td>0</td>\n",
       "      <td>0</td>\n",
       "      <td>20160927</td>\n",
       "      <td>20170201</td>\n",
       "      <td>2021-04-15</td>\n",
       "      <td>2016-09-27</td>\n",
       "      <td>2017-02-01</td>\n",
       "    </tr>\n",
       "    <tr>\n",
       "      <th>1</th>\n",
       "      <td>372</td>\n",
       "      <td>0</td>\n",
       "      <td>3020bf5e-d46e-4ae5-ae93-d9371be32535</td>\n",
       "      <td>0</td>\n",
       "      <td>0</td>\n",
       "      <td>0</td>\n",
       "      <td>0</td>\n",
       "      <td>0</td>\n",
       "      <td>0</td>\n",
       "      <td>0</td>\n",
       "      <td>20160927</td>\n",
       "      <td>20170201</td>\n",
       "      <td>2021-04-15</td>\n",
       "      <td>2016-09-27</td>\n",
       "      <td>2017-02-01</td>\n",
       "    </tr>\n",
       "    <tr>\n",
       "      <th>2</th>\n",
       "      <td>372</td>\n",
       "      <td>0</td>\n",
       "      <td>b6f5b39c-40c8-407a-9942-1cb5080380f6</td>\n",
       "      <td>0</td>\n",
       "      <td>0</td>\n",
       "      <td>0</td>\n",
       "      <td>0</td>\n",
       "      <td>0</td>\n",
       "      <td>0</td>\n",
       "      <td>0</td>\n",
       "      <td>20160927</td>\n",
       "      <td>20170201</td>\n",
       "      <td>2021-04-15</td>\n",
       "      <td>2016-09-27</td>\n",
       "      <td>2017-02-01</td>\n",
       "    </tr>\n",
       "    <tr>\n",
       "      <th>3</th>\n",
       "      <td>372</td>\n",
       "      <td>0</td>\n",
       "      <td>109d55e2-3ef4-43bb-a939-6c8f38a6fae7</td>\n",
       "      <td>0</td>\n",
       "      <td>0</td>\n",
       "      <td>0</td>\n",
       "      <td>0</td>\n",
       "      <td>0</td>\n",
       "      <td>0</td>\n",
       "      <td>0</td>\n",
       "      <td>20160927</td>\n",
       "      <td>20170201</td>\n",
       "      <td>2021-04-15</td>\n",
       "      <td>2016-09-27</td>\n",
       "      <td>2017-02-01</td>\n",
       "    </tr>\n",
       "    <tr>\n",
       "      <th>4</th>\n",
       "      <td>372</td>\n",
       "      <td>0</td>\n",
       "      <td>8c9fbe7c-e76f-4025-bd91-7b202eddffd0</td>\n",
       "      <td>0</td>\n",
       "      <td>0</td>\n",
       "      <td>0</td>\n",
       "      <td>0</td>\n",
       "      <td>0</td>\n",
       "      <td>0</td>\n",
       "      <td>0</td>\n",
       "      <td>20160927</td>\n",
       "      <td>20170201</td>\n",
       "      <td>2021-04-15</td>\n",
       "      <td>2016-09-27</td>\n",
       "      <td>2017-02-01</td>\n",
       "    </tr>\n",
       "  </tbody>\n",
       "</table>\n",
       "</div><p># .. may have more rows</p></div>"
      ],
      "text/plain": [
       "# Source: lazy query\n",
       "# DB Conn: Engine(bigquery://cal-itp-data-infra/?maximum_bytes_billed=5000000000)\n",
       "# Preview:\n",
       "   calitp_itp_id  calitp_url_number                            service_id  \\\n",
       "0            372                  0  8f9ded8a-1484-43c6-af4a-9e2d6eebd86d   \n",
       "1            372                  0  3020bf5e-d46e-4ae5-ae93-d9371be32535   \n",
       "2            372                  0  b6f5b39c-40c8-407a-9942-1cb5080380f6   \n",
       "3            372                  0  109d55e2-3ef4-43bb-a939-6c8f38a6fae7   \n",
       "4            372                  0  8c9fbe7c-e76f-4025-bd91-7b202eddffd0   \n",
       "\n",
       "  monday tuesday wednesday thursday friday saturday sunday start_date  \\\n",
       "0      0       0         0        0      0        0      0   20160927   \n",
       "1      0       0         0        0      0        0      0   20160927   \n",
       "2      0       0         0        0      0        0      0   20160927   \n",
       "3      0       0         0        0      0        0      0   20160927   \n",
       "4      0       0         0        0      0        0      0   20160927   \n",
       "\n",
       "   end_date calitp_extracted_at calendar_start_date calendar_end_date  \n",
       "0  20170201          2021-04-15          2016-09-27        2017-02-01  \n",
       "1  20170201          2021-04-15          2016-09-27        2017-02-01  \n",
       "2  20170201          2021-04-15          2016-09-27        2017-02-01  \n",
       "3  20170201          2021-04-15          2016-09-27        2017-02-01  \n",
       "4  20170201          2021-04-15          2016-09-27        2017-02-01  \n",
       "# .. may have more rows"
      ]
     },
     "execution_count": 139,
     "metadata": {},
     "output_type": "execute_result"
    }
   ],
   "source": [
    "tbl_calendar_info >> filter(_.calendar_end_date == _.calendar_end_date.min())"
   ]
  },
  {
   "cell_type": "code",
   "execution_count": 140,
   "id": "a5205394-5da4-4c35-8acd-03f147de779e",
   "metadata": {
    "tags": []
   },
   "outputs": [
    {
     "data": {
      "text/html": [
       "<div><pre># Source: lazy query\n",
       "# DB Conn: Engine(bigquery://cal-itp-data-infra/?maximum_bytes_billed=5000000000)\n",
       "# Preview:\n",
       "</pre><div>\n",
       "<style scoped>\n",
       "    .dataframe tbody tr th:only-of-type {\n",
       "        vertical-align: middle;\n",
       "    }\n",
       "\n",
       "    .dataframe tbody tr th {\n",
       "        vertical-align: top;\n",
       "    }\n",
       "\n",
       "    .dataframe thead th {\n",
       "        text-align: right;\n",
       "    }\n",
       "</style>\n",
       "<table border=\"1\" class=\"dataframe\">\n",
       "  <thead>\n",
       "    <tr style=\"text-align: right;\">\n",
       "      <th></th>\n",
       "      <th>calendar_end_date_max</th>\n",
       "      <th>calendar_start_date_min</th>\n",
       "      <th>n_calendar_end_date_max</th>\n",
       "      <th>n_calendar_start_date_min</th>\n",
       "      <th>n_calendar_start_date_expired</th>\n",
       "      <th>n_calendar_end_date_expired</th>\n",
       "    </tr>\n",
       "  </thead>\n",
       "  <tbody>\n",
       "    <tr>\n",
       "      <th>0</th>\n",
       "      <td>2100-01-01</td>\n",
       "      <td>2010-12-31</td>\n",
       "      <td>2</td>\n",
       "      <td>3</td>\n",
       "      <td>972</td>\n",
       "      <td>36</td>\n",
       "    </tr>\n",
       "  </tbody>\n",
       "</table>\n",
       "</div><p># .. may have more rows</p></div>"
      ],
      "text/plain": [
       "# Source: lazy query\n",
       "# DB Conn: Engine(bigquery://cal-itp-data-infra/?maximum_bytes_billed=5000000000)\n",
       "# Preview:\n",
       "  calendar_end_date_max calendar_start_date_min  n_calendar_end_date_max  \\\n",
       "0            2100-01-01              2010-12-31                        2   \n",
       "\n",
       "   n_calendar_start_date_min  n_calendar_start_date_expired  \\\n",
       "0                          3                            972   \n",
       "\n",
       "   n_calendar_end_date_expired  \n",
       "0                           36  \n",
       "# .. may have more rows"
      ]
     },
     "execution_count": 140,
     "metadata": {},
     "output_type": "execute_result"
    }
   ],
   "source": [
    "tbl_calendar_expiration"
   ]
  },
  {
   "cell_type": "code",
   "execution_count": 143,
   "id": "b94bb42a-98f1-4993-83e5-947e4f5570f1",
   "metadata": {
    "tags": []
   },
   "outputs": [
    {
     "data": {
      "text/html": [
       "<div><pre># Source: lazy query\n",
       "# DB Conn: Engine(bigquery://cal-itp-data-infra/?maximum_bytes_billed=5000000000)\n",
       "# Preview:\n",
       "</pre><div>\n",
       "<style scoped>\n",
       "    .dataframe tbody tr th:only-of-type {\n",
       "        vertical-align: middle;\n",
       "    }\n",
       "\n",
       "    .dataframe tbody tr th {\n",
       "        vertical-align: top;\n",
       "    }\n",
       "\n",
       "    .dataframe thead th {\n",
       "        text-align: right;\n",
       "    }\n",
       "</style>\n",
       "<table border=\"1\" class=\"dataframe\">\n",
       "  <thead>\n",
       "    <tr style=\"text-align: right;\">\n",
       "      <th></th>\n",
       "      <th>calitp_itp_id</th>\n",
       "      <th>calitp_url_number</th>\n",
       "      <th>service_id</th>\n",
       "      <th>monday</th>\n",
       "      <th>tuesday</th>\n",
       "      <th>wednesday</th>\n",
       "      <th>thursday</th>\n",
       "      <th>friday</th>\n",
       "      <th>saturday</th>\n",
       "      <th>sunday</th>\n",
       "      <th>start_date</th>\n",
       "      <th>end_date</th>\n",
       "      <th>calitp_extracted_at</th>\n",
       "    </tr>\n",
       "  </thead>\n",
       "  <tbody>\n",
       "    <tr>\n",
       "      <th>0</th>\n",
       "      <td>4</td>\n",
       "      <td>0</td>\n",
       "      <td>1</td>\n",
       "      <td>0</td>\n",
       "      <td>0</td>\n",
       "      <td>0</td>\n",
       "      <td>0</td>\n",
       "      <td>0</td>\n",
       "      <td>0</td>\n",
       "      <td>1</td>\n",
       "      <td>20210613</td>\n",
       "      <td>20210807</td>\n",
       "      <td>2021-06-12</td>\n",
       "    </tr>\n",
       "    <tr>\n",
       "      <th>1</th>\n",
       "      <td>87</td>\n",
       "      <td>0</td>\n",
       "      <td>1</td>\n",
       "      <td>0</td>\n",
       "      <td>0</td>\n",
       "      <td>0</td>\n",
       "      <td>0</td>\n",
       "      <td>0</td>\n",
       "      <td>0</td>\n",
       "      <td>1</td>\n",
       "      <td>20210510</td>\n",
       "      <td>20210912</td>\n",
       "      <td>2021-05-10</td>\n",
       "    </tr>\n",
       "    <tr>\n",
       "      <th>2</th>\n",
       "      <td>61</td>\n",
       "      <td>0</td>\n",
       "      <td>1</td>\n",
       "      <td>1</td>\n",
       "      <td>0</td>\n",
       "      <td>0</td>\n",
       "      <td>0</td>\n",
       "      <td>0</td>\n",
       "      <td>0</td>\n",
       "      <td>0</td>\n",
       "      <td>20210606</td>\n",
       "      <td>20210807</td>\n",
       "      <td>2021-06-09</td>\n",
       "    </tr>\n",
       "    <tr>\n",
       "      <th>3</th>\n",
       "      <td>269</td>\n",
       "      <td>0</td>\n",
       "      <td>1</td>\n",
       "      <td>0</td>\n",
       "      <td>0</td>\n",
       "      <td>0</td>\n",
       "      <td>0</td>\n",
       "      <td>0</td>\n",
       "      <td>0</td>\n",
       "      <td>0</td>\n",
       "      <td>20210509</td>\n",
       "      <td>20210911</td>\n",
       "      <td>2021-05-06</td>\n",
       "    </tr>\n",
       "    <tr>\n",
       "      <th>4</th>\n",
       "      <td>361</td>\n",
       "      <td>0</td>\n",
       "      <td>1</td>\n",
       "      <td>0</td>\n",
       "      <td>0</td>\n",
       "      <td>0</td>\n",
       "      <td>0</td>\n",
       "      <td>0</td>\n",
       "      <td>1</td>\n",
       "      <td>0</td>\n",
       "      <td>20200912</td>\n",
       "      <td>20991231</td>\n",
       "      <td>2021-04-28</td>\n",
       "    </tr>\n",
       "  </tbody>\n",
       "</table>\n",
       "</div><p># .. may have more rows</p></div>"
      ],
      "text/plain": [
       "# Source: lazy query\n",
       "# DB Conn: Engine(bigquery://cal-itp-data-infra/?maximum_bytes_billed=5000000000)\n",
       "# Preview:\n",
       "   calitp_itp_id  calitp_url_number service_id monday tuesday wednesday  \\\n",
       "0              4                  0          1      0       0         0   \n",
       "1             87                  0          1      0       0         0   \n",
       "2             61                  0          1      1       0         0   \n",
       "3            269                  0          1      0       0         0   \n",
       "4            361                  0          1      0       0         0   \n",
       "\n",
       "  thursday friday saturday sunday start_date  end_date calitp_extracted_at  \n",
       "0        0      0        0      1   20210613  20210807          2021-06-12  \n",
       "1        0      0        0      1   20210510  20210912          2021-05-10  \n",
       "2        0      0        0      0   20210606  20210807          2021-06-09  \n",
       "3        0      0        0      0   20210509  20210911          2021-05-06  \n",
       "4        0      0        1      0   20200912  20991231          2021-04-28  \n",
       "# .. may have more rows"
      ]
     },
     "execution_count": 143,
     "metadata": {},
     "output_type": "execute_result"
    }
   ],
   "source": [
    "tbl_calendar_counts = (\n",
    "tbl_calendar_info\n",
    ">> count(_.calendar_end_date)\n",
    ">> collect()\n",
    ">> arrange(-_.calendar_end_date)\n",
    ">> mutate(calendar_end_date = _.calendar_end_date.astype(\"datetime64[ns]\"))\n",
    ")\n",
    "tbl_calendar_expired_feeds >> head()"
   ]
  },
  {
   "cell_type": "code",
   "execution_count": 149,
   "id": "1977f150-466e-4fcf-9955-acad37388201",
   "metadata": {},
   "outputs": [],
   "source": [
    "# perform counts\n",
    "\n",
    "tbl_calendar_end_counts = (\n",
    "    tbl_calendar_info\n",
    "    >> count(_.calendar_end_date)\n",
    "    >> collect()\n",
    "    >> arrange(-_.calendar_end_date)\n",
    "    >> mutate(calendar_end_date=_.calendar_end_date.astype(\"datetime64[ns]\"))\n",
    ")\n",
    "tbl_calendar_start_counts = (\n",
    "    tbl_calendar_info\n",
    "    >> count(_.calendar_start_date)\n",
    "    >> collect()\n",
    "    >> arrange(-_.calendar_start_date)\n",
    "    >> mutate(calendar_start_date=_.calendar_start_date.astype(\"datetime64[ns]\"))\n",
    ")"
   ]
  },
  {
   "cell_type": "code",
   "execution_count": 108,
   "id": "26686062-04d1-4f48-a81c-bf58395cba71",
   "metadata": {
    "collapsed": true,
    "jupyter": {
     "outputs_hidden": true
    },
    "tags": []
   },
   "outputs": [
    {
     "data": {
      "image/png": "[encoded data removed]",
      "text/plain": [
       "<Figure size 640x480 with 1 Axes>"
      ]
     },
     "metadata": {},
     "output_type": "display_data"
    },
    {
     "data": {
      "text/plain": [
       "<ggplot: (315061875)>"
      ]
     },
     "execution_count": 108,
     "metadata": {},
     "output_type": "execute_result"
    }
   ],
   "source": [
    "#plot calendar end dates\n",
    "tbl_calendar_counts >> ggplot(aes(\"calendar_end_date.dt.year\", \"n\")) + geom_col() + theme(axis_text_x = element_text(angle=45, hjust=1))                                                                             \n",
    "                                                                                       "
   ]
  },
  {
   "cell_type": "code",
   "execution_count": 147,
   "id": "7622e37f-a88c-4b53-add9-4ace37389f15",
   "metadata": {
    "collapsed": true,
    "jupyter": {
     "outputs_hidden": true
    },
    "tags": []
   },
   "outputs": [
    {
     "data": {
      "image/png": "[encoded data removed]",
      "text/plain": [
       "<Figure size 640x480 with 1 Axes>"
      ]
     },
     "metadata": {},
     "output_type": "display_data"
    },
    {
     "data": {
      "text/plain": [
       "<ggplot: (332797501)>"
      ]
     },
     "execution_count": 147,
     "metadata": {},
     "output_type": "execute_result"
    }
   ],
   "source": [
    "#plot calendar start dates\n",
    "tbl_calendar_start_counts>> ggplot(aes(\"calendar_start_date.dt.year\", \"n\")) + geom_col() + theme(axis_text_x = element_text(angle=45, hjust=1))"
   ]
  },
  {
   "cell_type": "code",
   "execution_count": null,
   "id": "7dc0825d-30d5-453b-853f-194562d6ec1f",
   "metadata": {},
   "outputs": [],
   "source": [
    "#PLOT calendar end date expired\n",
    "tbl_calendar_counts >> ggplot(aes(\"calendar_end_date.dt.year\", \"n\")) + geom_col() + theme(axis_text_x = element_text(angle=45, hjust=1))\n"
   ]
  },
  {
   "cell_type": "code",
   "execution_count": null,
   "id": "16b43150-6b1d-44e3-baff-1f3bbc1505cf",
   "metadata": {
    "collapsed": true,
    "jupyter": {
     "outputs_hidden": true
    }
   },
   "outputs": [],
   "source": [
    "#FIGURE OUT HOW TO ADD CALENDAR AND FEED END_DATES TOGETHER"
   ]
  },
  {
   "cell_type": "code",
   "execution_count": 95,
   "id": "2a885d19-07ed-480b-a3db-b9c26d54932a",
   "metadata": {
    "collapsed": true,
    "jupyter": {
     "outputs_hidden": true
    }
   },
   "outputs": [
    {
     "ename": "KeyError",
     "evalue": "'calitp_itp_id'",
     "output_type": "error",
     "traceback": [
      "\u001b[0;31m---------------------------------------------------------------------------\u001b[0m",
      "\u001b[0;31mKeyError\u001b[0m                                  Traceback (most recent call last)",
      "\u001b[0;32m<ipython-input-95-bdf6366454d1>\u001b[0m in \u001b[0;36m<module>\u001b[0;34m\u001b[0m\n\u001b[0;32m----> 1\u001b[0;31m \u001b[0mtbl_expiration\u001b[0m \u001b[0;34m>>\u001b[0m \u001b[0mleft_join\u001b[0m\u001b[0;34m(\u001b[0m\u001b[0m_\u001b[0m\u001b[0;34m,\u001b[0m \u001b[0mtbl_calendar_expired_feeds\u001b[0m\u001b[0;34m,\u001b[0m \u001b[0mon\u001b[0m \u001b[0;34m=\u001b[0m \u001b[0;34m\"calitp_itp_id\"\u001b[0m\u001b[0;34m)\u001b[0m\u001b[0;34m\u001b[0m\u001b[0;34m\u001b[0m\u001b[0m\n\u001b[0m",
      "\u001b[0;32m~/Cal-ITP/reports/env/lib/python3.9/site-packages/siuba/dply/verbs.py\u001b[0m in \u001b[0;36m__rrshift__\u001b[0;34m(self, x)\u001b[0m\n\u001b[1;32m     97\u001b[0m             \u001b[0;32mreturn\u001b[0m \u001b[0mPipeable\u001b[0m\u001b[0;34m(\u001b[0m\u001b[0mcalls\u001b[0m \u001b[0;34m=\u001b[0m \u001b[0;34m[\u001b[0m\u001b[0mx\u001b[0m\u001b[0;34m]\u001b[0m \u001b[0;34m+\u001b[0m \u001b[0mself\u001b[0m\u001b[0;34m.\u001b[0m\u001b[0mcalls\u001b[0m\u001b[0;34m)\u001b[0m\u001b[0;34m\u001b[0m\u001b[0;34m\u001b[0m\u001b[0m\n\u001b[1;32m     98\u001b[0m \u001b[0;34m\u001b[0m\u001b[0m\n\u001b[0;32m---> 99\u001b[0;31m         \u001b[0;32mreturn\u001b[0m \u001b[0mself\u001b[0m\u001b[0;34m(\u001b[0m\u001b[0mx\u001b[0m\u001b[0;34m)\u001b[0m\u001b[0;34m\u001b[0m\u001b[0;34m\u001b[0m\u001b[0m\n\u001b[0m\u001b[1;32m    100\u001b[0m \u001b[0;34m\u001b[0m\u001b[0m\n\u001b[1;32m    101\u001b[0m     \u001b[0;32mdef\u001b[0m \u001b[0m__call__\u001b[0m\u001b[0;34m(\u001b[0m\u001b[0mself\u001b[0m\u001b[0;34m,\u001b[0m \u001b[0mx\u001b[0m\u001b[0;34m)\u001b[0m\u001b[0;34m:\u001b[0m\u001b[0;34m\u001b[0m\u001b[0;34m\u001b[0m\u001b[0m\n",
      "\u001b[0;32m~/Cal-ITP/reports/env/lib/python3.9/site-packages/siuba/dply/verbs.py\u001b[0m in \u001b[0;36m__call__\u001b[0;34m(self, x)\u001b[0m\n\u001b[1;32m    102\u001b[0m         \u001b[0mres\u001b[0m \u001b[0;34m=\u001b[0m \u001b[0mx\u001b[0m\u001b[0;34m\u001b[0m\u001b[0;34m\u001b[0m\u001b[0m\n\u001b[1;32m    103\u001b[0m         \u001b[0;32mfor\u001b[0m \u001b[0mf\u001b[0m \u001b[0;32min\u001b[0m \u001b[0mself\u001b[0m\u001b[0;34m.\u001b[0m\u001b[0mcalls\u001b[0m\u001b[0;34m:\u001b[0m\u001b[0;34m\u001b[0m\u001b[0;34m\u001b[0m\u001b[0m\n\u001b[0;32m--> 104\u001b[0;31m             \u001b[0mres\u001b[0m \u001b[0;34m=\u001b[0m \u001b[0mf\u001b[0m\u001b[0;34m(\u001b[0m\u001b[0mres\u001b[0m\u001b[0;34m)\u001b[0m\u001b[0;34m\u001b[0m\u001b[0;34m\u001b[0m\u001b[0m\n\u001b[0m\u001b[1;32m    105\u001b[0m         \u001b[0;32mreturn\u001b[0m \u001b[0mres\u001b[0m\u001b[0;34m\u001b[0m\u001b[0;34m\u001b[0m\u001b[0m\n\u001b[1;32m    106\u001b[0m \u001b[0;34m\u001b[0m\u001b[0m\n",
      "\u001b[0;32m~/Cal-ITP/reports/env/lib/python3.9/site-packages/siuba/siu.py\u001b[0m in \u001b[0;36m__call__\u001b[0;34m(self, x)\u001b[0m\n\u001b[1;32m    201\u001b[0m             \u001b[0;32mreturn\u001b[0m \u001b[0moperator\u001b[0m\u001b[0;34m.\u001b[0m\u001b[0mgetitem\u001b[0m\u001b[0;34m(\u001b[0m\u001b[0minst\u001b[0m\u001b[0;34m,\u001b[0m \u001b[0;34m*\u001b[0m\u001b[0mrest\u001b[0m\u001b[0;34m)\u001b[0m\u001b[0;34m\u001b[0m\u001b[0;34m\u001b[0m\u001b[0m\n\u001b[1;32m    202\u001b[0m         \u001b[0;32melif\u001b[0m \u001b[0mself\u001b[0m\u001b[0;34m.\u001b[0m\u001b[0mfunc\u001b[0m \u001b[0;34m==\u001b[0m \u001b[0;34m\"__call__\"\u001b[0m\u001b[0;34m:\u001b[0m\u001b[0;34m\u001b[0m\u001b[0;34m\u001b[0m\u001b[0m\n\u001b[0;32m--> 203\u001b[0;31m             \u001b[0;32mreturn\u001b[0m \u001b[0mgetattr\u001b[0m\u001b[0;34m(\u001b[0m\u001b[0minst\u001b[0m\u001b[0;34m,\u001b[0m \u001b[0mself\u001b[0m\u001b[0;34m.\u001b[0m\u001b[0mfunc\u001b[0m\u001b[0;34m)\u001b[0m\u001b[0;34m(\u001b[0m\u001b[0;34m*\u001b[0m\u001b[0mrest\u001b[0m\u001b[0;34m,\u001b[0m \u001b[0;34m**\u001b[0m\u001b[0mkwargs\u001b[0m\u001b[0;34m)\u001b[0m\u001b[0;34m\u001b[0m\u001b[0;34m\u001b[0m\u001b[0m\n\u001b[0m\u001b[1;32m    204\u001b[0m \u001b[0;34m\u001b[0m\u001b[0m\n\u001b[1;32m    205\u001b[0m         \u001b[0;31m# in normal case, get method to call, and then call it\u001b[0m\u001b[0;34m\u001b[0m\u001b[0;34m\u001b[0m\u001b[0;34m\u001b[0m\u001b[0m\n",
      "\u001b[0;32m/usr/local/Cellar/python@3.9/3.9.5/Frameworks/Python.framework/Versions/3.9/lib/python3.9/functools.py\u001b[0m in \u001b[0;36mwrapper\u001b[0;34m(*args, **kw)\u001b[0m\n\u001b[1;32m    875\u001b[0m                             '1 positional argument')\n\u001b[1;32m    876\u001b[0m \u001b[0;34m\u001b[0m\u001b[0m\n\u001b[0;32m--> 877\u001b[0;31m         \u001b[0;32mreturn\u001b[0m \u001b[0mdispatch\u001b[0m\u001b[0;34m(\u001b[0m\u001b[0margs\u001b[0m\u001b[0;34m[\u001b[0m\u001b[0;36m0\u001b[0m\u001b[0;34m]\u001b[0m\u001b[0;34m.\u001b[0m\u001b[0m__class__\u001b[0m\u001b[0;34m)\u001b[0m\u001b[0;34m(\u001b[0m\u001b[0;34m*\u001b[0m\u001b[0margs\u001b[0m\u001b[0;34m,\u001b[0m \u001b[0;34m**\u001b[0m\u001b[0mkw\u001b[0m\u001b[0;34m)\u001b[0m\u001b[0;34m\u001b[0m\u001b[0;34m\u001b[0m\u001b[0m\n\u001b[0m\u001b[1;32m    878\u001b[0m \u001b[0;34m\u001b[0m\u001b[0m\n\u001b[1;32m    879\u001b[0m     \u001b[0mfuncname\u001b[0m \u001b[0;34m=\u001b[0m \u001b[0mgetattr\u001b[0m\u001b[0;34m(\u001b[0m\u001b[0mfunc\u001b[0m\u001b[0;34m,\u001b[0m \u001b[0;34m'__name__'\u001b[0m\u001b[0;34m,\u001b[0m \u001b[0;34m'singledispatch function'\u001b[0m\u001b[0;34m)\u001b[0m\u001b[0;34m\u001b[0m\u001b[0;34m\u001b[0m\u001b[0m\n",
      "\u001b[0;32m~/Cal-ITP/reports/env/lib/python3.9/site-packages/siuba/sql/verbs.py\u001b[0m in \u001b[0;36m_join\u001b[0;34m(left, right, on, how, sql_on, *args)\u001b[0m\n\u001b[1;32m    900\u001b[0m \u001b[0;34m\u001b[0m\u001b[0m\n\u001b[1;32m    901\u001b[0m     \u001b[0;31m# create join conditions ----\u001b[0m\u001b[0;34m\u001b[0m\u001b[0;34m\u001b[0m\u001b[0;34m\u001b[0m\u001b[0m\n\u001b[0;32m--> 902\u001b[0;31m     \u001b[0mbool_clause\u001b[0m \u001b[0;34m=\u001b[0m \u001b[0m_create_join_conds\u001b[0m\u001b[0;34m(\u001b[0m\u001b[0mleft_sel\u001b[0m\u001b[0;34m,\u001b[0m \u001b[0mright_sel\u001b[0m\u001b[0;34m,\u001b[0m \u001b[0mon\u001b[0m\u001b[0;34m)\u001b[0m\u001b[0;34m\u001b[0m\u001b[0;34m\u001b[0m\u001b[0m\n\u001b[0m\u001b[1;32m    903\u001b[0m \u001b[0;34m\u001b[0m\u001b[0m\n\u001b[1;32m    904\u001b[0m     \u001b[0;31m# create join ----\u001b[0m\u001b[0;34m\u001b[0m\u001b[0;34m\u001b[0m\u001b[0;34m\u001b[0m\u001b[0m\n",
      "\u001b[0;32m~/Cal-ITP/reports/env/lib/python3.9/site-packages/siuba/sql/verbs.py\u001b[0m in \u001b[0;36m_create_join_conds\u001b[0;34m(left_sel, right_sel, on)\u001b[0m\n\u001b[1;32m   1021\u001b[0m         \u001b[0mconds\u001b[0m \u001b[0;34m=\u001b[0m \u001b[0;34m[\u001b[0m\u001b[0;34m]\u001b[0m\u001b[0;34m\u001b[0m\u001b[0;34m\u001b[0m\u001b[0m\n\u001b[1;32m   1022\u001b[0m         \u001b[0;32mfor\u001b[0m \u001b[0ml\u001b[0m\u001b[0;34m,\u001b[0m \u001b[0mr\u001b[0m \u001b[0;32min\u001b[0m \u001b[0mon\u001b[0m\u001b[0;34m.\u001b[0m\u001b[0mitems\u001b[0m\u001b[0;34m(\u001b[0m\u001b[0;34m)\u001b[0m\u001b[0;34m:\u001b[0m\u001b[0;34m\u001b[0m\u001b[0;34m\u001b[0m\u001b[0m\n\u001b[0;32m-> 1023\u001b[0;31m             \u001b[0mcol_expr\u001b[0m \u001b[0;34m=\u001b[0m \u001b[0mleft_cols\u001b[0m\u001b[0;34m[\u001b[0m\u001b[0ml\u001b[0m\u001b[0;34m]\u001b[0m \u001b[0;34m==\u001b[0m \u001b[0mright_cols\u001b[0m\u001b[0;34m[\u001b[0m\u001b[0mr\u001b[0m\u001b[0;34m]\u001b[0m\u001b[0;34m\u001b[0m\u001b[0;34m\u001b[0m\u001b[0m\n\u001b[0m\u001b[1;32m   1024\u001b[0m             \u001b[0mconds\u001b[0m\u001b[0;34m.\u001b[0m\u001b[0mappend\u001b[0m\u001b[0;34m(\u001b[0m\u001b[0mcol_expr\u001b[0m\u001b[0;34m)\u001b[0m\u001b[0;34m\u001b[0m\u001b[0;34m\u001b[0m\u001b[0m\n\u001b[1;32m   1025\u001b[0m \u001b[0;34m\u001b[0m\u001b[0m\n",
      "\u001b[0;32m~/Cal-ITP/reports/env/lib/python3.9/site-packages/sqlalchemy/util/_collections.py\u001b[0m in \u001b[0;36m__getitem__\u001b[0;34m(self, key)\u001b[0m\n\u001b[1;32m    192\u001b[0m \u001b[0;34m\u001b[0m\u001b[0m\n\u001b[1;32m    193\u001b[0m     \u001b[0;32mdef\u001b[0m \u001b[0m__getitem__\u001b[0m\u001b[0;34m(\u001b[0m\u001b[0mself\u001b[0m\u001b[0;34m,\u001b[0m \u001b[0mkey\u001b[0m\u001b[0;34m)\u001b[0m\u001b[0;34m:\u001b[0m\u001b[0;34m\u001b[0m\u001b[0;34m\u001b[0m\u001b[0m\n\u001b[0;32m--> 194\u001b[0;31m         \u001b[0;32mreturn\u001b[0m \u001b[0mself\u001b[0m\u001b[0;34m.\u001b[0m\u001b[0m_data\u001b[0m\u001b[0;34m[\u001b[0m\u001b[0mkey\u001b[0m\u001b[0;34m]\u001b[0m\u001b[0;34m\u001b[0m\u001b[0;34m\u001b[0m\u001b[0m\n\u001b[0m\u001b[1;32m    195\u001b[0m \u001b[0;34m\u001b[0m\u001b[0m\n\u001b[1;32m    196\u001b[0m     \u001b[0;32mdef\u001b[0m \u001b[0m__delitem__\u001b[0m\u001b[0;34m(\u001b[0m\u001b[0mself\u001b[0m\u001b[0;34m,\u001b[0m \u001b[0mkey\u001b[0m\u001b[0;34m)\u001b[0m\u001b[0;34m:\u001b[0m\u001b[0;34m\u001b[0m\u001b[0;34m\u001b[0m\u001b[0m\n",
      "\u001b[0;31mKeyError\u001b[0m: 'calitp_itp_id'"
     ]
    }
   ],
   "source": [
    "tbl_expiration >> left_join(_, tbl_calendar_expired_feeds, on = \"calitp_itp_id\")"
   ]
  },
  {
   "cell_type": "markdown",
   "id": "bb4b5663-921f-4d77-8594-c1618be6b311",
   "metadata": {
    "jupyter": {
     "source_hidden": true
    },
    "tags": []
   },
   "source": [
    "## How \"good\" is California transit data?"
   ]
  },
  {
   "cell_type": "code",
   "execution_count": 50,
   "id": "e605a5d9-475e-4523-99b6-499b1a487340",
   "metadata": {
    "collapsed": true,
    "jupyter": {
     "outputs_hidden": true,
     "source_hidden": true
    },
    "tags": []
   },
   "outputs": [],
   "source": [
    "tbl_validation_notices = (tbl.gtfs_schedule_type2.validation_notices())\n"
   ]
  },
  {
   "cell_type": "code",
   "execution_count": 51,
   "id": "cd6397b2-0d3a-4be1-97b5-dfa1b93c1df8",
   "metadata": {
    "collapsed": true,
    "jupyter": {
     "outputs_hidden": true
    }
   },
   "outputs": [
    {
     "data": {
      "text/html": [
       "<div><pre># Source: lazy query\n",
       "# DB Conn: Engine(bigquery://cal-itp-data-infra/?maximum_bytes_billed=5000000000)\n",
       "# Preview:\n",
       "</pre><div>\n",
       "<style scoped>\n",
       "    .dataframe tbody tr th:only-of-type {\n",
       "        vertical-align: middle;\n",
       "    }\n",
       "\n",
       "    .dataframe tbody tr th {\n",
       "        vertical-align: top;\n",
       "    }\n",
       "\n",
       "    .dataframe thead th {\n",
       "        text-align: right;\n",
       "    }\n",
       "</style>\n",
       "<table border=\"1\" class=\"dataframe\">\n",
       "  <thead>\n",
       "    <tr style=\"text-align: right;\">\n",
       "      <th></th>\n",
       "      <th>calitp_itp_id</th>\n",
       "      <th>calitp_url_number</th>\n",
       "      <th>calitp_extracted_at</th>\n",
       "      <th>calitp_deleted_at</th>\n",
       "      <th>code</th>\n",
       "      <th>severity</th>\n",
       "      <th>csvRowNumber</th>\n",
       "      <th>oldCsvRowNumber</th>\n",
       "      <th>newCsvRowNumber</th>\n",
       "      <th>csvRowNumberA</th>\n",
       "      <th>...</th>\n",
       "      <th>blockId</th>\n",
       "      <th>intersection</th>\n",
       "      <th>departureTime</th>\n",
       "      <th>arrivalTime</th>\n",
       "      <th>expectedLocationType</th>\n",
       "      <th>locationType</th>\n",
       "      <th>parentCsvRowNumber</th>\n",
       "      <th>parentLocationType</th>\n",
       "      <th>parentStation</th>\n",
       "      <th>parentStopName</th>\n",
       "    </tr>\n",
       "  </thead>\n",
       "  <tbody>\n",
       "    <tr>\n",
       "      <th>0</th>\n",
       "      <td>380</td>\n",
       "      <td>0</td>\n",
       "      <td>2021-06-25</td>\n",
       "      <td>None</td>\n",
       "      <td>unknown_column</td>\n",
       "      <td>INFO</td>\n",
       "      <td>NaN</td>\n",
       "      <td>None</td>\n",
       "      <td>None</td>\n",
       "      <td>None</td>\n",
       "      <td>...</td>\n",
       "      <td>None</td>\n",
       "      <td>None</td>\n",
       "      <td>None</td>\n",
       "      <td>None</td>\n",
       "      <td>None</td>\n",
       "      <td>None</td>\n",
       "      <td>None</td>\n",
       "      <td>None</td>\n",
       "      <td>None</td>\n",
       "      <td>None</td>\n",
       "    </tr>\n",
       "    <tr>\n",
       "      <th>1</th>\n",
       "      <td>380</td>\n",
       "      <td>0</td>\n",
       "      <td>2021-06-25</td>\n",
       "      <td>None</td>\n",
       "      <td>unknown_column</td>\n",
       "      <td>INFO</td>\n",
       "      <td>NaN</td>\n",
       "      <td>None</td>\n",
       "      <td>None</td>\n",
       "      <td>None</td>\n",
       "      <td>...</td>\n",
       "      <td>None</td>\n",
       "      <td>None</td>\n",
       "      <td>None</td>\n",
       "      <td>None</td>\n",
       "      <td>None</td>\n",
       "      <td>None</td>\n",
       "      <td>None</td>\n",
       "      <td>None</td>\n",
       "      <td>None</td>\n",
       "      <td>None</td>\n",
       "    </tr>\n",
       "    <tr>\n",
       "      <th>2</th>\n",
       "      <td>183</td>\n",
       "      <td>0</td>\n",
       "      <td>2021-04-15</td>\n",
       "      <td>None</td>\n",
       "      <td>decreasing_or_equal_shape_distance</td>\n",
       "      <td>ERROR</td>\n",
       "      <td>32385.0</td>\n",
       "      <td>None</td>\n",
       "      <td>None</td>\n",
       "      <td>None</td>\n",
       "      <td>...</td>\n",
       "      <td>None</td>\n",
       "      <td>None</td>\n",
       "      <td>None</td>\n",
       "      <td>None</td>\n",
       "      <td>None</td>\n",
       "      <td>None</td>\n",
       "      <td>None</td>\n",
       "      <td>None</td>\n",
       "      <td>None</td>\n",
       "      <td>None</td>\n",
       "    </tr>\n",
       "    <tr>\n",
       "      <th>3</th>\n",
       "      <td>183</td>\n",
       "      <td>0</td>\n",
       "      <td>2021-04-15</td>\n",
       "      <td>None</td>\n",
       "      <td>leading_or_trailing_whitespaces</td>\n",
       "      <td>ERROR</td>\n",
       "      <td>2371.0</td>\n",
       "      <td>None</td>\n",
       "      <td>None</td>\n",
       "      <td>None</td>\n",
       "      <td>...</td>\n",
       "      <td>None</td>\n",
       "      <td>None</td>\n",
       "      <td>None</td>\n",
       "      <td>None</td>\n",
       "      <td>None</td>\n",
       "      <td>None</td>\n",
       "      <td>None</td>\n",
       "      <td>None</td>\n",
       "      <td>None</td>\n",
       "      <td>None</td>\n",
       "    </tr>\n",
       "    <tr>\n",
       "      <th>4</th>\n",
       "      <td>18</td>\n",
       "      <td>0</td>\n",
       "      <td>2021-04-15</td>\n",
       "      <td>2021-06-15</td>\n",
       "      <td>unknown_column</td>\n",
       "      <td>INFO</td>\n",
       "      <td>NaN</td>\n",
       "      <td>None</td>\n",
       "      <td>None</td>\n",
       "      <td>None</td>\n",
       "      <td>...</td>\n",
       "      <td>None</td>\n",
       "      <td>None</td>\n",
       "      <td>None</td>\n",
       "      <td>None</td>\n",
       "      <td>None</td>\n",
       "      <td>None</td>\n",
       "      <td>None</td>\n",
       "      <td>None</td>\n",
       "      <td>None</td>\n",
       "      <td>None</td>\n",
       "    </tr>\n",
       "  </tbody>\n",
       "</table>\n",
       "<p>5 rows × 69 columns</p>\n",
       "</div><p># .. may have more rows</p></div>"
      ],
      "text/plain": [
       "# Source: lazy query\n",
       "# DB Conn: Engine(bigquery://cal-itp-data-infra/?maximum_bytes_billed=5000000000)\n",
       "# Preview:\n",
       "   calitp_itp_id  calitp_url_number calitp_extracted_at calitp_deleted_at  \\\n",
       "0            380                  0          2021-06-25              None   \n",
       "1            380                  0          2021-06-25              None   \n",
       "2            183                  0          2021-04-15              None   \n",
       "3            183                  0          2021-04-15              None   \n",
       "4             18                  0          2021-04-15        2021-06-15   \n",
       "\n",
       "                                 code severity  csvRowNumber oldCsvRowNumber  \\\n",
       "0                      unknown_column     INFO           NaN            None   \n",
       "1                      unknown_column     INFO           NaN            None   \n",
       "2  decreasing_or_equal_shape_distance    ERROR       32385.0            None   \n",
       "3     leading_or_trailing_whitespaces    ERROR        2371.0            None   \n",
       "4                      unknown_column     INFO           NaN            None   \n",
       "\n",
       "  newCsvRowNumber csvRowNumberA  ... blockId intersection departureTime  \\\n",
       "0            None          None  ...    None         None          None   \n",
       "1            None          None  ...    None         None          None   \n",
       "2            None          None  ...    None         None          None   \n",
       "3            None          None  ...    None         None          None   \n",
       "4            None          None  ...    None         None          None   \n",
       "\n",
       "  arrivalTime expectedLocationType locationType parentCsvRowNumber  \\\n",
       "0        None                 None         None               None   \n",
       "1        None                 None         None               None   \n",
       "2        None                 None         None               None   \n",
       "3        None                 None         None               None   \n",
       "4        None                 None         None               None   \n",
       "\n",
       "  parentLocationType parentStation parentStopName  \n",
       "0               None          None           None  \n",
       "1               None          None           None  \n",
       "2               None          None           None  \n",
       "3               None          None           None  \n",
       "4               None          None           None  \n",
       "\n",
       "[5 rows x 69 columns]\n",
       "# .. may have more rows"
      ]
     },
     "execution_count": 51,
     "metadata": {},
     "output_type": "execute_result"
    }
   ],
   "source": [
    "tbl_validation_notices\n"
   ]
  },
  {
   "cell_type": "code",
   "execution_count": 55,
   "id": "f0b3345f-0ad0-45ee-a91a-8a1ef3319a38",
   "metadata": {
    "collapsed": true,
    "jupyter": {
     "outputs_hidden": true
    }
   },
   "outputs": [],
   "source": [
    "tbl_code_metrics = distinct(_.calitp_itp_id, _.calitp_url_number) >> count()"
   ]
  },
  {
   "cell_type": "code",
   "execution_count": 56,
   "id": "4dcfb67f-6886-4b84-b85e-d9763b9ae7f0",
   "metadata": {
    "collapsed": true,
    "jupyter": {
     "outputs_hidden": true
    }
   },
   "outputs": [],
   "source": [
    "unique_codes = tbl_code_metrics >> distinct(_.code)"
   ]
  },
  {
   "cell_type": "code",
   "execution_count": 60,
   "id": "99a07c77-2313-4cb4-8225-d28087b65d82",
   "metadata": {
    "collapsed": true,
    "jupyter": {
     "outputs_hidden": true
    }
   },
   "outputs": [
    {
     "data": {
      "text/plain": [
       "<siuba.dply.verbs.Pipeable at 0x129e8d370>"
      ]
     },
     "execution_count": 60,
     "metadata": {},
     "output_type": "execute_result"
    }
   ],
   "source": [
    "tbl_code_metrics"
   ]
  },
  {
   "cell_type": "code",
   "execution_count": 57,
   "id": "3d9eb960-be6e-4387-a95c-dfa9e79fc7af",
   "metadata": {
    "collapsed": true,
    "jupyter": {
     "outputs_hidden": true
    }
   },
   "outputs": [
    {
     "ename": "AttributeError",
     "evalue": "'Pipeable' object has no attribute 'last_op'",
     "output_type": "error",
     "traceback": [
      "\u001b[0;31m---------------------------------------------------------------------------\u001b[0m",
      "\u001b[0;31mAttributeError\u001b[0m                            Traceback (most recent call last)",
      "\u001b[0;32m<ipython-input-57-bc500128b5c0>\u001b[0m in \u001b[0;36m<module>\u001b[0;34m\u001b[0m\n\u001b[1;32m      1\u001b[0m (\n\u001b[0;32m----> 2\u001b[0;31m \u001b[0mtbl\u001b[0m\u001b[0;34m.\u001b[0m\u001b[0mviews\u001b[0m\u001b[0;34m.\u001b[0m\u001b[0mgtfs_agency_names\u001b[0m\u001b[0;34m(\u001b[0m\u001b[0;34m)\u001b[0m\u001b[0;34m\u001b[0m\u001b[0;34m\u001b[0m\u001b[0m\n\u001b[0m\u001b[1;32m      3\u001b[0m \u001b[0;34m>>\u001b[0m \u001b[0mleft_join\u001b[0m\u001b[0;34m(\u001b[0m\u001b[0m_\u001b[0m\u001b[0;34m,\u001b[0m \u001b[0munique_codes\u001b[0m\u001b[0;34m,\u001b[0m \u001b[0msql_on\u001b[0m \u001b[0;34m=\u001b[0m \u001b[0;32mlambda\u001b[0m \u001b[0mlhs\u001b[0m\u001b[0;34m,\u001b[0m \u001b[0mrhs\u001b[0m\u001b[0;34m:\u001b[0m \u001b[0;32mTrue\u001b[0m\u001b[0;34m)\u001b[0m\u001b[0;34m\u001b[0m\u001b[0;34m\u001b[0m\u001b[0m\n\u001b[1;32m      4\u001b[0m )\n",
      "\u001b[0;32m~/Cal-ITP/reports/env/lib/python3.9/site-packages/siuba/dply/verbs.py\u001b[0m in \u001b[0;36m__rrshift__\u001b[0;34m(self, x)\u001b[0m\n\u001b[1;32m     97\u001b[0m             \u001b[0;32mreturn\u001b[0m \u001b[0mPipeable\u001b[0m\u001b[0;34m(\u001b[0m\u001b[0mcalls\u001b[0m \u001b[0;34m=\u001b[0m \u001b[0;34m[\u001b[0m\u001b[0mx\u001b[0m\u001b[0;34m]\u001b[0m \u001b[0;34m+\u001b[0m \u001b[0mself\u001b[0m\u001b[0;34m.\u001b[0m\u001b[0mcalls\u001b[0m\u001b[0;34m)\u001b[0m\u001b[0;34m\u001b[0m\u001b[0;34m\u001b[0m\u001b[0m\n\u001b[1;32m     98\u001b[0m \u001b[0;34m\u001b[0m\u001b[0m\n\u001b[0;32m---> 99\u001b[0;31m         \u001b[0;32mreturn\u001b[0m \u001b[0mself\u001b[0m\u001b[0;34m(\u001b[0m\u001b[0mx\u001b[0m\u001b[0;34m)\u001b[0m\u001b[0;34m\u001b[0m\u001b[0;34m\u001b[0m\u001b[0m\n\u001b[0m\u001b[1;32m    100\u001b[0m \u001b[0;34m\u001b[0m\u001b[0m\n\u001b[1;32m    101\u001b[0m     \u001b[0;32mdef\u001b[0m \u001b[0m__call__\u001b[0m\u001b[0;34m(\u001b[0m\u001b[0mself\u001b[0m\u001b[0;34m,\u001b[0m \u001b[0mx\u001b[0m\u001b[0;34m)\u001b[0m\u001b[0;34m:\u001b[0m\u001b[0;34m\u001b[0m\u001b[0;34m\u001b[0m\u001b[0m\n",
      "\u001b[0;32m~/Cal-ITP/reports/env/lib/python3.9/site-packages/siuba/dply/verbs.py\u001b[0m in \u001b[0;36m__call__\u001b[0;34m(self, x)\u001b[0m\n\u001b[1;32m    102\u001b[0m         \u001b[0mres\u001b[0m \u001b[0;34m=\u001b[0m \u001b[0mx\u001b[0m\u001b[0;34m\u001b[0m\u001b[0;34m\u001b[0m\u001b[0m\n\u001b[1;32m    103\u001b[0m         \u001b[0;32mfor\u001b[0m \u001b[0mf\u001b[0m \u001b[0;32min\u001b[0m \u001b[0mself\u001b[0m\u001b[0;34m.\u001b[0m\u001b[0mcalls\u001b[0m\u001b[0;34m:\u001b[0m\u001b[0;34m\u001b[0m\u001b[0;34m\u001b[0m\u001b[0m\n\u001b[0;32m--> 104\u001b[0;31m             \u001b[0mres\u001b[0m \u001b[0;34m=\u001b[0m \u001b[0mf\u001b[0m\u001b[0;34m(\u001b[0m\u001b[0mres\u001b[0m\u001b[0;34m)\u001b[0m\u001b[0;34m\u001b[0m\u001b[0;34m\u001b[0m\u001b[0m\n\u001b[0m\u001b[1;32m    105\u001b[0m         \u001b[0;32mreturn\u001b[0m \u001b[0mres\u001b[0m\u001b[0;34m\u001b[0m\u001b[0;34m\u001b[0m\u001b[0m\n\u001b[1;32m    106\u001b[0m \u001b[0;34m\u001b[0m\u001b[0m\n",
      "\u001b[0;32m~/Cal-ITP/reports/env/lib/python3.9/site-packages/siuba/siu.py\u001b[0m in \u001b[0;36m__call__\u001b[0;34m(self, x)\u001b[0m\n\u001b[1;32m    201\u001b[0m             \u001b[0;32mreturn\u001b[0m \u001b[0moperator\u001b[0m\u001b[0;34m.\u001b[0m\u001b[0mgetitem\u001b[0m\u001b[0;34m(\u001b[0m\u001b[0minst\u001b[0m\u001b[0;34m,\u001b[0m \u001b[0;34m*\u001b[0m\u001b[0mrest\u001b[0m\u001b[0;34m)\u001b[0m\u001b[0;34m\u001b[0m\u001b[0;34m\u001b[0m\u001b[0m\n\u001b[1;32m    202\u001b[0m         \u001b[0;32melif\u001b[0m \u001b[0mself\u001b[0m\u001b[0;34m.\u001b[0m\u001b[0mfunc\u001b[0m \u001b[0;34m==\u001b[0m \u001b[0;34m\"__call__\"\u001b[0m\u001b[0;34m:\u001b[0m\u001b[0;34m\u001b[0m\u001b[0;34m\u001b[0m\u001b[0m\n\u001b[0;32m--> 203\u001b[0;31m             \u001b[0;32mreturn\u001b[0m \u001b[0mgetattr\u001b[0m\u001b[0;34m(\u001b[0m\u001b[0minst\u001b[0m\u001b[0;34m,\u001b[0m \u001b[0mself\u001b[0m\u001b[0;34m.\u001b[0m\u001b[0mfunc\u001b[0m\u001b[0;34m)\u001b[0m\u001b[0;34m(\u001b[0m\u001b[0;34m*\u001b[0m\u001b[0mrest\u001b[0m\u001b[0;34m,\u001b[0m \u001b[0;34m**\u001b[0m\u001b[0mkwargs\u001b[0m\u001b[0;34m)\u001b[0m\u001b[0;34m\u001b[0m\u001b[0;34m\u001b[0m\u001b[0m\n\u001b[0m\u001b[1;32m    204\u001b[0m \u001b[0;34m\u001b[0m\u001b[0m\n\u001b[1;32m    205\u001b[0m         \u001b[0;31m# in normal case, get method to call, and then call it\u001b[0m\u001b[0;34m\u001b[0m\u001b[0;34m\u001b[0m\u001b[0;34m\u001b[0m\u001b[0m\n",
      "\u001b[0;32m/usr/local/Cellar/python@3.9/3.9.5/Frameworks/Python.framework/Versions/3.9/lib/python3.9/functools.py\u001b[0m in \u001b[0;36mwrapper\u001b[0;34m(*args, **kw)\u001b[0m\n\u001b[1;32m    875\u001b[0m                             '1 positional argument')\n\u001b[1;32m    876\u001b[0m \u001b[0;34m\u001b[0m\u001b[0m\n\u001b[0;32m--> 877\u001b[0;31m         \u001b[0;32mreturn\u001b[0m \u001b[0mdispatch\u001b[0m\u001b[0;34m(\u001b[0m\u001b[0margs\u001b[0m\u001b[0;34m[\u001b[0m\u001b[0;36m0\u001b[0m\u001b[0;34m]\u001b[0m\u001b[0;34m.\u001b[0m\u001b[0m__class__\u001b[0m\u001b[0;34m)\u001b[0m\u001b[0;34m(\u001b[0m\u001b[0;34m*\u001b[0m\u001b[0margs\u001b[0m\u001b[0;34m,\u001b[0m \u001b[0;34m**\u001b[0m\u001b[0mkw\u001b[0m\u001b[0;34m)\u001b[0m\u001b[0;34m\u001b[0m\u001b[0;34m\u001b[0m\u001b[0m\n\u001b[0m\u001b[1;32m    878\u001b[0m \u001b[0;34m\u001b[0m\u001b[0m\n\u001b[1;32m    879\u001b[0m     \u001b[0mfuncname\u001b[0m \u001b[0;34m=\u001b[0m \u001b[0mgetattr\u001b[0m\u001b[0;34m(\u001b[0m\u001b[0mfunc\u001b[0m\u001b[0;34m,\u001b[0m \u001b[0;34m'__name__'\u001b[0m\u001b[0;34m,\u001b[0m \u001b[0;34m'singledispatch function'\u001b[0m\u001b[0;34m)\u001b[0m\u001b[0;34m\u001b[0m\u001b[0;34m\u001b[0m\u001b[0m\n",
      "\u001b[0;32m~/Cal-ITP/reports/env/lib/python3.9/site-packages/siuba/sql/verbs.py\u001b[0m in \u001b[0;36m_join\u001b[0;34m(left, right, on, how, sql_on, *args)\u001b[0m\n\u001b[1;32m    884\u001b[0m     \u001b[0;31m# Needs to be on the table, not the select\u001b[0m\u001b[0;34m\u001b[0m\u001b[0;34m\u001b[0m\u001b[0;34m\u001b[0m\u001b[0m\n\u001b[1;32m    885\u001b[0m     \u001b[0mleft_sel\u001b[0m \u001b[0;34m=\u001b[0m \u001b[0mleft\u001b[0m\u001b[0;34m.\u001b[0m\u001b[0mlast_op\u001b[0m\u001b[0;34m.\u001b[0m\u001b[0malias\u001b[0m\u001b[0;34m(\u001b[0m\u001b[0;34m)\u001b[0m\u001b[0;34m\u001b[0m\u001b[0;34m\u001b[0m\u001b[0m\n\u001b[0;32m--> 886\u001b[0;31m     \u001b[0mright_sel\u001b[0m \u001b[0;34m=\u001b[0m \u001b[0mright\u001b[0m\u001b[0;34m.\u001b[0m\u001b[0mlast_op\u001b[0m\u001b[0;34m.\u001b[0m\u001b[0malias\u001b[0m\u001b[0;34m(\u001b[0m\u001b[0;34m)\u001b[0m\u001b[0;34m\u001b[0m\u001b[0;34m\u001b[0m\u001b[0m\n\u001b[0m\u001b[1;32m    887\u001b[0m \u001b[0;34m\u001b[0m\u001b[0m\n\u001b[1;32m    888\u001b[0m     \u001b[0;31m# handle arguments ----\u001b[0m\u001b[0;34m\u001b[0m\u001b[0;34m\u001b[0m\u001b[0;34m\u001b[0m\u001b[0m\n",
      "\u001b[0;31mAttributeError\u001b[0m: 'Pipeable' object has no attribute 'last_op'"
     ]
    }
   ],
   "source": [
    "(\n",
    "tbl.views.gtfs_agency_names()\n",
    ">> left_join(_, unique_codes, sql_on = lambda lhs, rhs: True)\n",
    ")"
   ]
  },
  {
   "cell_type": "code",
   "execution_count": 53,
   "id": "a5d99db9-6503-4a76-a991-e12065e9d22a",
   "metadata": {
    "collapsed": true,
    "jupyter": {
     "outputs_hidden": true
    }
   },
   "outputs": [
    {
     "ename": "NameError",
     "evalue": "name 'tbl_code_metrics' is not defined",
     "output_type": "error",
     "traceback": [
      "\u001b[0;31m---------------------------------------------------------------------------\u001b[0m",
      "\u001b[0;31mNameError\u001b[0m                                 Traceback (most recent call last)",
      "\u001b[0;32m<ipython-input-53-1047ab5c8c63>\u001b[0m in \u001b[0;36m<module>\u001b[0;34m\u001b[0m\n\u001b[1;32m      1\u001b[0m (tbl.views.gtfs_agency_names()\n\u001b[0;32m----> 2\u001b[0;31m >>left_join(_, tbl_code_metrics, [\"calitp_id\", \"calitp_url_number\"]))\n\u001b[0m",
      "\u001b[0;31mNameError\u001b[0m: name 'tbl_code_metrics' is not defined"
     ]
    }
   ],
   "source": [
    "(tbl.views.gtfs_agency_names()\n",
    ">>left_join(_, tbl_code_metrics, [\"calitp_id\", \"calitp_url_number\"]))"
   ]
  },
  {
   "cell_type": "markdown",
   "id": "cf6915db-1f62-41b0-aa4c-2be3c963755b",
   "metadata": {},
   "source": [
    "## What errors should CAL-ITP target for resolution? "
   ]
  },
  {
   "cell_type": "code",
   "execution_count": null,
   "id": "5f620de2-b200-4750-bf26-ebc71c89fbbd",
   "metadata": {
    "tags": []
   },
   "outputs": [],
   "source": []
  },
  {
   "cell_type": "markdown",
   "id": "feb84a17-0a44-4a6f-b401-1366269af9cd",
   "metadata": {},
   "source": [
    "* **In how many feeds does each error (including warning and info) appear?** "
   ]
  }
 ],
 "metadata": {
  "kernelspec": {
   "display_name": "Python 3",
   "language": "python",
   "name": "python3"
  },
  "language_info": {
   "codemirror_mode": {
    "name": "ipython",
    "version": 3
   },
   "file_extension": ".py",
   "mimetype": "text/x-python",
   "name": "python",
   "nbconvert_exporter": "python",
   "pygments_lexer": "ipython3",
   "version": "3.9.5"
  }
 },
 "nbformat": 4,
 "nbformat_minor": 5
}
