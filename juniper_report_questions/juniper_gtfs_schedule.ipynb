{
 "cells": [
  {
   "cell_type": "code",
   "execution_count": 1,
   "id": "01ec6b3d-38e1-4bac-bcab-d4a554b6e549",
   "metadata": {},
   "outputs": [],
   "source": [
    "from calitp.tables import tbl\n",
    "from siuba import *\n",
    "from siuba.sql import sql_raw\n",
    "from siuba.experimental import completer\n",
    "from plotnine import *"
   ]
  },
  {
   "cell_type": "markdown",
   "id": "3697798d-228a-4949-a24d-8cc6363f7b80",
   "metadata": {},
   "source": [
    "## How many agencies had a feed_end_date in the past? In the future?"
   ]
  },
  {
   "cell_type": "code",
   "execution_count": 2,
   "id": "aa4dc052-cc83-4423-81bc-acda3b4fb0f0",
   "metadata": {},
   "outputs": [],
   "source": [
    "tbl_expired_feeds = (tbl.gtfs_schedule.feed_info()                   \n",
    " >> mutate(feed_end_date_parsed = sql_raw('PARSE_DATE(\"%Y%m%d\", feed_end_date)'))\n",
    " >> mutate( feed_date_ended = _.feed_end_date_parsed < \"2021-07-01\") \n",
    " >> count(_.feed_date_ended, _.feed_end_date_parsed, _.calitp_itp_id)\n",
    " >> collect()\n",
    " >> mutate(feed_end_date_parsed = _.feed_end_date_parsed.astype(\"datetime64[ns]\"))\n",
    ")"
   ]
  },
  {
   "cell_type": "code",
   "execution_count": 14,
   "id": "c68c19f6-81b0-4f45-b42e-b27d22c5270b",
   "metadata": {},
   "outputs": [
    {
     "data": {
      "text/html": [
       "<div>\n",
       "<style scoped>\n",
       "    .dataframe tbody tr th:only-of-type {\n",
       "        vertical-align: middle;\n",
       "    }\n",
       "\n",
       "    .dataframe tbody tr th {\n",
       "        vertical-align: top;\n",
       "    }\n",
       "\n",
       "    .dataframe thead th {\n",
       "        text-align: right;\n",
       "    }\n",
       "</style>\n",
       "<table border=\"1\" class=\"dataframe\">\n",
       "  <thead>\n",
       "    <tr style=\"text-align: right;\">\n",
       "      <th></th>\n",
       "      <th>feed_date_ended</th>\n",
       "      <th>feed_end_date_parsed</th>\n",
       "      <th>calitp_itp_id</th>\n",
       "      <th>n</th>\n",
       "    </tr>\n",
       "  </thead>\n",
       "  <tbody>\n",
       "    <tr>\n",
       "      <th>19</th>\n",
       "      <td>False</td>\n",
       "      <td>2029-12-31</td>\n",
       "      <td>281</td>\n",
       "      <td>1</td>\n",
       "    </tr>\n",
       "  </tbody>\n",
       "</table>\n",
       "</div>"
      ],
      "text/plain": [
       "   feed_date_ended feed_end_date_parsed  calitp_itp_id  n\n",
       "19           False           2029-12-31            281  1"
      ]
     },
     "execution_count": 14,
     "metadata": {},
     "output_type": "execute_result"
    }
   ],
   "source": [
    "tbl_expired_feeds >> filter(_.feed_end_date_parsed == _.feed_end_date_parsed.max()) "
   ]
  },
  {
   "cell_type": "code",
   "execution_count": 3,
   "id": "319e4a7a-79ba-44bb-9adb-eda906da74cf",
   "metadata": {
    "tags": []
   },
   "outputs": [
    {
     "data": {
      "image/png": "[encoded data removed]",
      "text/plain": [
       "<Figure size 640x480 with 1 Axes>"
      ]
     },
     "metadata": {},
     "output_type": "display_data"
    },
    {
     "data": {
      "text/plain": [
       "<ggplot: (307001335)>"
      ]
     },
     "execution_count": 3,
     "metadata": {},
     "output_type": "execute_result"
    }
   ],
   "source": [
    "(tbl_expired_feeds\n",
    " >> filter(_.feed_end_date_parsed.notna())\n",
    " >> mutate (\n",
    "     feed_end_date_parsed = _.feed_end_date_parsed.dt.year.astype(str))\n",
    " >> ggplot(aes(\"feed_end_date_parsed\", \"n\", fill= \"feed_date_ended\"))+geom_col() + theme(axis_text_x = element_text(angle=45, hjust=1))\n",
    " )\n",
    "#missing years are not plotted"
   ]
  },
  {
   "cell_type": "markdown",
   "id": "7ad9dbf4-1092-4a88-95bc-618f8e5f45ee",
   "metadata": {},
   "source": [
    "What is the furthest future date in feed_info_end? How many feeds share this?\n",
    "* 2029, 1 \n",
    " \n"
   ]
  },
  {
   "cell_type": "markdown",
   "id": "f64fb69e-aaa9-424f-a34d-a267184f9cda",
   "metadata": {},
   "source": []
  },
  {
   "cell_type": "code",
   "execution_count": 10,
   "id": "794108a6-1d6a-4bc5-a5df-9c2bcb6f7c6f",
   "metadata": {
    "tags": []
   },
   "outputs": [
    {
     "data": {
      "text/html": [
       "<div>\n",
       "<style scoped>\n",
       "    .dataframe tbody tr th:only-of-type {\n",
       "        vertical-align: middle;\n",
       "    }\n",
       "\n",
       "    .dataframe tbody tr th {\n",
       "        vertical-align: top;\n",
       "    }\n",
       "\n",
       "    .dataframe thead th {\n",
       "        text-align: right;\n",
       "    }\n",
       "</style>\n",
       "<table border=\"1\" class=\"dataframe\">\n",
       "  <thead>\n",
       "    <tr style=\"text-align: right;\">\n",
       "      <th></th>\n",
       "      <th>feed_publisher_name</th>\n",
       "      <th>n</th>\n",
       "    </tr>\n",
       "  </thead>\n",
       "  <tbody>\n",
       "    <tr>\n",
       "      <th>0</th>\n",
       "      <td>Trillium Solutions, Inc.</td>\n",
       "      <td>133</td>\n",
       "    </tr>\n",
       "    <tr>\n",
       "      <th>1</th>\n",
       "      <td>511 SF Bay</td>\n",
       "      <td>15</td>\n",
       "    </tr>\n",
       "    <tr>\n",
       "      <th>2</th>\n",
       "      <td>GMV Syncromatics</td>\n",
       "      <td>5</td>\n",
       "    </tr>\n",
       "    <tr>\n",
       "      <th>3</th>\n",
       "      <td>Transnnovation</td>\n",
       "      <td>3</td>\n",
       "    </tr>\n",
       "    <tr>\n",
       "      <th>4</th>\n",
       "      <td>MST</td>\n",
       "      <td>2</td>\n",
       "    </tr>\n",
       "    <tr>\n",
       "      <th>5</th>\n",
       "      <td>Big Blue Bus</td>\n",
       "      <td>2</td>\n",
       "    </tr>\n",
       "    <tr>\n",
       "      <th>6</th>\n",
       "      <td>Long Beach Transit</td>\n",
       "      <td>2</td>\n",
       "    </tr>\n",
       "    <tr>\n",
       "      <th>7</th>\n",
       "      <td>Transnnovation Inc</td>\n",
       "      <td>2</td>\n",
       "    </tr>\n",
       "    <tr>\n",
       "      <th>8</th>\n",
       "      <td>Los Angeles County Metropolitan Transportation...</td>\n",
       "      <td>2</td>\n",
       "    </tr>\n",
       "    <tr>\n",
       "      <th>9</th>\n",
       "      <td>MTS</td>\n",
       "      <td>1</td>\n",
       "    </tr>\n",
       "    <tr>\n",
       "      <th>10</th>\n",
       "      <td>DART</td>\n",
       "      <td>1</td>\n",
       "    </tr>\n",
       "    <tr>\n",
       "      <th>11</th>\n",
       "      <td>NCTD</td>\n",
       "      <td>1</td>\n",
       "    </tr>\n",
       "    <tr>\n",
       "      <th>12</th>\n",
       "      <td>SBMTD</td>\n",
       "      <td>1</td>\n",
       "    </tr>\n",
       "    <tr>\n",
       "      <th>13</th>\n",
       "      <td>Optibus</td>\n",
       "      <td>1</td>\n",
       "    </tr>\n",
       "    <tr>\n",
       "      <th>14</th>\n",
       "      <td>Whitney</td>\n",
       "      <td>1</td>\n",
       "    </tr>\n",
       "    <tr>\n",
       "      <th>15</th>\n",
       "      <td>AC TRANSIT</td>\n",
       "      <td>1</td>\n",
       "    </tr>\n",
       "    <tr>\n",
       "      <th>16</th>\n",
       "      <td>City of Lodi</td>\n",
       "      <td>1</td>\n",
       "    </tr>\n",
       "    <tr>\n",
       "      <th>17</th>\n",
       "      <td>National RTAP</td>\n",
       "      <td>1</td>\n",
       "    </tr>\n",
       "    <tr>\n",
       "      <th>18</th>\n",
       "      <td>Culver CityBus</td>\n",
       "      <td>1</td>\n",
       "    </tr>\n",
       "    <tr>\n",
       "      <th>19</th>\n",
       "      <td>Metrolink Trains</td>\n",
       "      <td>1</td>\n",
       "    </tr>\n",
       "    <tr>\n",
       "      <th>20</th>\n",
       "      <td>Roseville Transit</td>\n",
       "      <td>1</td>\n",
       "    </tr>\n",
       "    <tr>\n",
       "      <th>21</th>\n",
       "      <td>Modesto Area Express</td>\n",
       "      <td>1</td>\n",
       "    </tr>\n",
       "    <tr>\n",
       "      <th>22</th>\n",
       "      <td>Bay Area Rapid Transit</td>\n",
       "      <td>1</td>\n",
       "    </tr>\n",
       "    <tr>\n",
       "      <th>23</th>\n",
       "      <td>Sunline Transit Agency</td>\n",
       "      <td>1</td>\n",
       "    </tr>\n",
       "    <tr>\n",
       "      <th>24</th>\n",
       "      <td>TORRANCE TRANSIT SYSTEM</td>\n",
       "      <td>1</td>\n",
       "    </tr>\n",
       "    <tr>\n",
       "      <th>25</th>\n",
       "      <td>Riverside Transit Agency</td>\n",
       "      <td>1</td>\n",
       "    </tr>\n",
       "    <tr>\n",
       "      <th>26</th>\n",
       "      <td>Sacramento Regional Transit</td>\n",
       "      <td>1</td>\n",
       "    </tr>\n",
       "    <tr>\n",
       "      <th>27</th>\n",
       "      <td>Fresno Public Transportation (FAX)</td>\n",
       "      <td>1</td>\n",
       "    </tr>\n",
       "    <tr>\n",
       "      <th>28</th>\n",
       "      <td>Santa Clara Valley Transportation Authority</td>\n",
       "      <td>1</td>\n",
       "    </tr>\n",
       "  </tbody>\n",
       "</table>\n",
       "</div>"
      ],
      "text/plain": [
       "                                  feed_publisher_name    n\n",
       "0                            Trillium Solutions, Inc.  133\n",
       "1                                          511 SF Bay   15\n",
       "2                                    GMV Syncromatics    5\n",
       "3                                      Transnnovation    3\n",
       "4                                                 MST    2\n",
       "5                                        Big Blue Bus    2\n",
       "6                                  Long Beach Transit    2\n",
       "7                                  Transnnovation Inc    2\n",
       "8   Los Angeles County Metropolitan Transportation...    2\n",
       "9                                                 MTS    1\n",
       "10                                               DART    1\n",
       "11                                               NCTD    1\n",
       "12                                              SBMTD    1\n",
       "13                                            Optibus    1\n",
       "14                                           Whitney     1\n",
       "15                                         AC TRANSIT    1\n",
       "16                                       City of Lodi    1\n",
       "17                                      National RTAP    1\n",
       "18                                     Culver CityBus    1\n",
       "19                                   Metrolink Trains    1\n",
       "20                                  Roseville Transit    1\n",
       "21                               Modesto Area Express    1\n",
       "22                             Bay Area Rapid Transit    1\n",
       "23                             Sunline Transit Agency    1\n",
       "24                            TORRANCE TRANSIT SYSTEM    1\n",
       "25                           Riverside Transit Agency    1\n",
       "26                        Sacramento Regional Transit    1\n",
       "27                 Fresno Public Transportation (FAX)    1\n",
       "28        Santa Clara Valley Transportation Authority    1"
      ]
     },
     "execution_count": 10,
     "metadata": {},
     "output_type": "execute_result"
    }
   ],
   "source": [
    "tbl.gtfs_schedule.feed_info() >> count(_.feed_publisher_name) >> collect()\n"
   ]
  },
  {
   "cell_type": "code",
   "execution_count": null,
   "id": "baa47aac-9c40-4728-a0b6-2769db177a2c",
   "metadata": {},
   "outputs": [],
   "source": [
    "tbl_feed_publishers = \n",
    "  "
   ]
  },
  {
   "cell_type": "code",
   "execution_count": 5,
   "id": "49029c86-2e8e-4e44-b499-a7c78d153a6c",
   "metadata": {
    "tags": []
   },
   "outputs": [
    {
     "data": {
      "text/html": [
       "<div>\n",
       "<style scoped>\n",
       "    .dataframe tbody tr th:only-of-type {\n",
       "        vertical-align: middle;\n",
       "    }\n",
       "\n",
       "    .dataframe tbody tr th {\n",
       "        vertical-align: top;\n",
       "    }\n",
       "\n",
       "    .dataframe thead th {\n",
       "        text-align: right;\n",
       "    }\n",
       "</style>\n",
       "<table border=\"1\" class=\"dataframe\">\n",
       "  <thead>\n",
       "    <tr style=\"text-align: right;\">\n",
       "      <th></th>\n",
       "      <th>feed_date_ended</th>\n",
       "      <th>feed_end_date_parsed</th>\n",
       "      <th>calitp_itp_id</th>\n",
       "      <th>n</th>\n",
       "    </tr>\n",
       "  </thead>\n",
       "  <tbody>\n",
       "    <tr>\n",
       "      <th>0</th>\n",
       "      <td>False</td>\n",
       "      <td>2021-07-01</td>\n",
       "      <td>2</td>\n",
       "      <td>3</td>\n",
       "    </tr>\n",
       "    <tr>\n",
       "      <th>1</th>\n",
       "      <td>False</td>\n",
       "      <td>2021-12-31</td>\n",
       "      <td>6</td>\n",
       "      <td>2</td>\n",
       "    </tr>\n",
       "    <tr>\n",
       "      <th>2</th>\n",
       "      <td>False</td>\n",
       "      <td>2021-12-31</td>\n",
       "      <td>350</td>\n",
       "      <td>2</td>\n",
       "    </tr>\n",
       "    <tr>\n",
       "      <th>3</th>\n",
       "      <td>False</td>\n",
       "      <td>2021-07-31</td>\n",
       "      <td>310</td>\n",
       "      <td>2</td>\n",
       "    </tr>\n",
       "    <tr>\n",
       "      <th>4</th>\n",
       "      <td>False</td>\n",
       "      <td>2021-12-31</td>\n",
       "      <td>110</td>\n",
       "      <td>2</td>\n",
       "    </tr>\n",
       "    <tr>\n",
       "      <th>...</th>\n",
       "      <td>...</td>\n",
       "      <td>...</td>\n",
       "      <td>...</td>\n",
       "      <td>...</td>\n",
       "    </tr>\n",
       "    <tr>\n",
       "      <th>170</th>\n",
       "      <td>False</td>\n",
       "      <td>2022-03-01</td>\n",
       "      <td>2</td>\n",
       "      <td>1</td>\n",
       "    </tr>\n",
       "    <tr>\n",
       "      <th>171</th>\n",
       "      <td>False</td>\n",
       "      <td>2021-08-16</td>\n",
       "      <td>247</td>\n",
       "      <td>1</td>\n",
       "    </tr>\n",
       "    <tr>\n",
       "      <th>172</th>\n",
       "      <td>False</td>\n",
       "      <td>2021-08-28</td>\n",
       "      <td>273</td>\n",
       "      <td>1</td>\n",
       "    </tr>\n",
       "    <tr>\n",
       "      <th>173</th>\n",
       "      <td>False</td>\n",
       "      <td>2021-08-01</td>\n",
       "      <td>116</td>\n",
       "      <td>1</td>\n",
       "    </tr>\n",
       "    <tr>\n",
       "      <th>174</th>\n",
       "      <td>False</td>\n",
       "      <td>2021-10-10</td>\n",
       "      <td>294</td>\n",
       "      <td>1</td>\n",
       "    </tr>\n",
       "  </tbody>\n",
       "</table>\n",
       "<p>175 rows × 4 columns</p>\n",
       "</div>"
      ],
      "text/plain": [
       "    feed_date_ended feed_end_date_parsed  calitp_itp_id  n\n",
       "0             False           2021-07-01              2  3\n",
       "1             False           2021-12-31              6  2\n",
       "2             False           2021-12-31            350  2\n",
       "3             False           2021-07-31            310  2\n",
       "4             False           2021-12-31            110  2\n",
       "..              ...                  ...            ... ..\n",
       "170           False           2022-03-01              2  1\n",
       "171           False           2021-08-16            247  1\n",
       "172           False           2021-08-28            273  1\n",
       "173           False           2021-08-01            116  1\n",
       "174           False           2021-10-10            294  1\n",
       "\n",
       "[175 rows x 4 columns]"
      ]
     },
     "execution_count": 5,
     "metadata": {},
     "output_type": "execute_result"
    }
   ],
   "source": [
    "tbl_expired_feeds"
   ]
  },
  {
   "cell_type": "code",
   "execution_count": 6,
   "id": "b477d94f-3b37-4528-9241-62fff5b94e53",
   "metadata": {
    "tags": []
   },
   "outputs": [
    {
     "ename": "NameError",
     "evalue": "name 'tbl_agency_names_enddate' is not defined",
     "output_type": "error",
     "traceback": [
      "\u001b[0;31m---------------------------------------------------------------------------\u001b[0m",
      "\u001b[0;31mNameError\u001b[0m                                 Traceback (most recent call last)",
      "\u001b[0;32m<ipython-input-6-adfddec195db>\u001b[0m in \u001b[0;36m<module>\u001b[0;34m\u001b[0m\n\u001b[1;32m      2\u001b[0m     \u001b[0mtbl_expired_feeds\u001b[0m\u001b[0;34m\u001b[0m\u001b[0;34m\u001b[0m\u001b[0m\n\u001b[1;32m      3\u001b[0m     \u001b[0;34m>>\u001b[0m \u001b[0mfilter\u001b[0m\u001b[0;34m(\u001b[0m\u001b[0m_\u001b[0m\u001b[0;34m.\u001b[0m\u001b[0mfeed_date_ended\u001b[0m \u001b[0;34m==\u001b[0m \u001b[0;32mTrue\u001b[0m\u001b[0;34m)\u001b[0m\u001b[0;34m\u001b[0m\u001b[0;34m\u001b[0m\u001b[0m\n\u001b[0;32m----> 4\u001b[0;31m     \u001b[0;34m>>\u001b[0m \u001b[0mright_join\u001b[0m\u001b[0;34m(\u001b[0m\u001b[0m_\u001b[0m\u001b[0;34m,\u001b[0m\u001b[0mtbl_agency_names_enddate\u001b[0m\u001b[0;34m,\u001b[0m \u001b[0;34m[\u001b[0m\u001b[0;34m\"calitp_itp_id\"\u001b[0m\u001b[0;34m]\u001b[0m\u001b[0;34m)\u001b[0m\u001b[0;34m\u001b[0m\u001b[0;34m\u001b[0m\u001b[0m\n\u001b[0m\u001b[1;32m      5\u001b[0m     \u001b[0;34m>>\u001b[0m \u001b[0mcollect\u001b[0m\u001b[0;34m(\u001b[0m\u001b[0;34m)\u001b[0m\u001b[0;34m\u001b[0m\u001b[0;34m\u001b[0m\u001b[0m\n\u001b[1;32m      6\u001b[0m )\n",
      "\u001b[0;31mNameError\u001b[0m: name 'tbl_agency_names_enddate' is not defined"
     ]
    }
   ],
   "source": [
    "tbl_expired_agencies = (\n",
    "    tbl_expired_feeds\n",
    "    >> filter(_.feed_date_ended == True)\n",
    "    >> right_join(_,tbl_agency_names_enddate, [\"calitp_itp_id\"])\n",
    "    >> collect()\n",
    ")"
   ]
  },
  {
   "cell_type": "code",
   "execution_count": null,
   "id": "3486712c-85c6-4a8d-87f5-d422a0ebca2f",
   "metadata": {
    "jupyter": {
     "source_hidden": true
    },
    "tags": []
   },
   "outputs": [],
   "source": [
    "tbl_expired_agencies"
   ]
  },
  {
   "cell_type": "code",
   "execution_count": null,
   "id": "8ba7204c-c7fe-4711-acc1-7f167ca61aa5",
   "metadata": {},
   "outputs": [],
   "source": [
    "tbl_agency_names"
   ]
  },
  {
   "cell_type": "code",
   "execution_count": null,
   "id": "27640fd9-9b5a-45bd-a4a9-c63b54e340bc",
   "metadata": {},
   "outputs": [],
   "source": [
    "#tbl_agency_names_enddate = (\n",
    " #   tbl.views.gtfs_agency_names\n",
    "#)"
   ]
  },
  {
   "cell_type": "markdown",
   "id": "8e4823f1-d209-4672-8b97-419782e75997",
   "metadata": {},
   "source": [
    "## What are the agency names?"
   ]
  },
  {
   "cell_type": "code",
   "execution_count": null,
   "id": "21972c33-d317-4397-b7df-377a356c459e",
   "metadata": {},
   "outputs": [],
   "source": [
    "tbl_agency_names_end = (\n",
    "    tbl.views.gtfs_agency_names()\n",
    "    >> select(_.calitp_itp_id, _.agency_name)\n",
    "    >> right_join(_, tbl_expired_feeds, [\"calitp_itp_id\"])\n",
    ")"
   ]
  },
  {
   "cell_type": "code",
   "execution_count": null,
   "id": "68b4df24-d24f-437e-a80d-fa92d94f8754",
   "metadata": {
    "tags": []
   },
   "outputs": [],
   "source": [
    "tbl_expired_feeds"
   ]
  },
  {
   "cell_type": "code",
   "execution_count": null,
   "id": "8c992580-4f0e-42c5-8a1d-f9c7a5ca1a7c",
   "metadata": {},
   "outputs": [],
   "source": [
    "tbl_agency_names_end"
   ]
  },
  {
   "cell_type": "markdown",
   "id": "228b81e9-fa5a-4b4a-b909-45a821d55379",
   "metadata": {},
   "source": [
    "## What is the furthest future date in feed_info_end? How many share this date?"
   ]
  },
  {
   "cell_type": "code",
   "execution_count": null,
   "id": "dc77d10f-7886-4952-9287-409aaa4881c2",
   "metadata": {},
   "outputs": [],
   "source": [
    "tbl_expired_feeds >> arrange(-_.feed_end_date_parsed) >> head(10) >> ggplot(aes(\"feed_end_date_parsed.astype(str)\", \"n\"))+geom_col() + theme(axis_text_x = element_text(angle=45, hjust=1)                                                                                                                                     )\n",
    "#shows top 10 \n"
   ]
  },
  {
   "cell_type": "code",
   "execution_count": null,
   "id": "4cd727da-27a8-47f4-85c4-1aa4c2c18bf4",
   "metadata": {},
   "outputs": [],
   "source": [
    "tbl_expired_feeds >> ggplot(aes(\"feed_end_date_parsed\", \"n\"))+geom_col()"
   ]
  },
  {
   "cell_type": "code",
   "execution_count": null,
   "id": "83d9170e-eb46-4211-a467-091248cc45ec",
   "metadata": {},
   "outputs": [],
   "source": [
    "tbl_expired_feed\n"
   ]
  },
  {
   "cell_type": "markdown",
   "id": "2361d0a8-120a-402e-b841-eb887713ea2b",
   "metadata": {},
   "source": [
    "## How many feeds have a start date that is more than one year into the past?"
   ]
  },
  {
   "cell_type": "code",
   "execution_count": null,
   "id": "f02720ec-5fa6-48c2-87c2-ac84dbbe3e52",
   "metadata": {},
   "outputs": [],
   "source": [
    "tbl_start_feeds = (tbl.gtfs_schedule.feed_info()\n",
    " >> mutate(calitp_itp_id = _.calitp_itp_id)                 \n",
    " >> mutate(feed_start_date_parsed = sql_raw('PARSE_DATE(\"%Y%m%d\", feed_start_date)'))\n",
    " >> mutate( past_feed_date_parsed = _.feed_start_date_parsed < \"2020-07-01\") \n",
    " >> count(_.feed_start_date_parsed, _.calitp_itp_id)\n",
    " >> collect()\n",
    " >> mutate(feed_start_date_parsed = _.feed_start_date_parsed.astype(\"datetime64[ns]\"))\n",
    ")"
   ]
  },
  {
   "cell_type": "code",
   "execution_count": null,
   "id": "c2efd35d-0dd6-4905-961e-49e938d39a7f",
   "metadata": {},
   "outputs": [],
   "source": [
    "tbl_start_feeds"
   ]
  },
  {
   "cell_type": "code",
   "execution_count": null,
   "id": "d3b6ec0a-fbd8-4e33-9ce5-1f65b3c357fb",
   "metadata": {},
   "outputs": [],
   "source": [
    "tbl_start_feeds >> count(_.feed_start_date_parsed, sort = True)"
   ]
  },
  {
   "cell_type": "code",
   "execution_count": null,
   "id": "2301a16e-2c44-416b-80a3-42aa1741960e",
   "metadata": {},
   "outputs": [],
   "source": [
    "tbl_start_feeds >> arrange(_.feed_start_date_parsed)"
   ]
  },
  {
   "cell_type": "markdown",
   "id": "6223ebbd-661d-4689-b0a8-9e1bb57a4e8f",
   "metadata": {},
   "source": [
    "## What is the average length of time between a feed_info_start and _end date"
   ]
  },
  {
   "cell_type": "code",
   "execution_count": null,
   "id": "a6a566e7-1458-4417-96e4-08d29030662b",
   "metadata": {},
   "outputs": [],
   "source": [
    "tbl_average_feeds = (tbl.gtfs_schedule.feed_info() \n",
    " >> mutate(feed_end_date_parsed = sql_raw('PARSE_DATE(\"%Y%m%d\", feed_end_date)'))\n",
    " >> mutate(feed_start_date_parsed = sql_raw('PARSE_DATE(\"%Y%m%d\", feed_start_date)'))                    \n",
    " # mutate(feed_average = _.feed_average[['feed_start_date_parsed', 'feed_end_date_parsed']].mean(axis=1))\n",
    " >> collect()\n",
    " >> mutate(feed_date_difference = ((_.feed_end_date_parsed - _.feed_start_date_parsed).dt.days/365))\n",
    " >> mutate(feed_end_date_parsed - _.f)\n",
    ")"
   ]
  },
  {
   "cell_type": "markdown",
   "id": "05c7dd83-8c1d-4f68-8046-e8170086e7e1",
   "metadata": {},
   "source": [
    "## What are the unique errors for each of a vendors clients?"
   ]
  },
  {
   "cell_type": "code",
   "execution_count": null,
   "id": "97cc5bb4-a778-4c6a-bd77-b3282f70f223",
   "metadata": {},
   "outputs": [],
   "source": [
    " tbl_unique_errors = (tbl.gtfs_schedule.feed_info())"
   ]
  },
  {
   "cell_type": "code",
   "execution_count": null,
   "id": "42468a5a-e9ae-43d9-9e0a-98347667c168",
   "metadata": {},
   "outputs": [],
   "source": [
    "tbl_unique_errors"
   ]
  },
  {
   "cell_type": "code",
   "execution_count": null,
   "id": "08ceafbd-fd3c-47f9-b0f3-dff8f19e36e9",
   "metadata": {},
   "outputs": [],
   "source": []
  }
 ],
 "metadata": {
  "kernelspec": {
   "display_name": "Python 3",
   "language": "python",
   "name": "python3"
  },
  "language_info": {
   "codemirror_mode": {
    "name": "ipython",
    "version": 3
   },
   "file_extension": ".py",
   "mimetype": "text/x-python",
   "name": "python",
   "nbconvert_exporter": "python",
   "pygments_lexer": "ipython3",
   "version": "3.9.5"
  },
  "toc-showcode": true,
  "toc-showtags": false
 },
 "nbformat": 4,
 "nbformat_minor": 5
}
