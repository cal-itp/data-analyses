{
 "cells": [
  {
   "cell_type": "code",
   "execution_count": null,
   "id": "6f4f64bc-2ed7-4cde-94f8-5ed3d27ea8be",
   "metadata": {},
   "outputs": [],
   "source": [
    "import pandas as pd\n",
    "import geopandas as gpd\n",
    "from siuba import *\n",
    "\n",
    "import dask.dataframe as dd\n",
    "\n",
    "from segment_speed_utils import helpers\n",
    "from segment_speed_utils.project_vars import SEGMENT_GCS, analysis_date\n",
    "\n",
    "import intake"
   ]
  },
  {
   "cell_type": "code",
   "execution_count": null,
   "id": "c617b1fa-7359-4b09-aa8d-2c6cf499964e",
   "metadata": {},
   "outputs": [],
   "source": [
    "from calitp_data_analysis import geography_utils"
   ]
  },
  {
   "cell_type": "markdown",
   "id": "1ce58349-128c-4bc3-a962-436941e7ed76",
   "metadata": {},
   "source": [
    "# scratch"
   ]
  },
  {
   "cell_type": "code",
   "execution_count": null,
   "id": "9387caf5-e40d-45b0-8e10-2ab2a859bbe5",
   "metadata": {
    "tags": []
   },
   "outputs": [],
   "source": [
    "# gdf = gpd.read_file('gs://calitp-analytics-data/data-analyses/BRT Infrastructure/District 7/District 7.geojson')"
   ]
  },
  {
   "cell_type": "markdown",
   "id": "bd52224f-d256-47da-b7db-a9436e87ee0d",
   "metadata": {},
   "source": [
    "# Add interpolated segments to pipeline\n",
    "\n",
    "* Additional detail between widely spaced stops is more useful for speed analysis"
   ]
  },
  {
   "cell_type": "markdown",
   "id": "caba4d72-7e58-4abc-88fa-83425df20a14",
   "metadata": {},
   "source": [
    "## Check existing segments"
   ]
  },
  {
   "cell_type": "code",
   "execution_count": 3,
   "id": "4800d684-7e82-4f6f-a1a5-4056e207aa1e",
   "metadata": {},
   "outputs": [],
   "source": [
    "# cat = intake.open_catalog('catalog.yml')"
   ]
  },
  {
   "cell_type": "code",
   "execution_count": 4,
   "id": "9baa12b4-7f9c-491f-9465-7d963b6920fd",
   "metadata": {},
   "outputs": [],
   "source": [
    "# cat.stop_segments.read()"
   ]
  },
  {
   "cell_type": "code",
   "execution_count": null,
   "id": "b0a70df9-f929-46c3-8082-7a4e9030700f",
   "metadata": {},
   "outputs": [],
   "source": [
    "path = 'gs://calitp-analytics-data/data-analyses/rt_segment_speeds/segment_options/stop_segments_2024-03-13.parquet'"
   ]
  },
  {
   "cell_type": "code",
   "execution_count": 6,
   "id": "46158cda-fccb-40e7-b322-46ef22de46b9",
   "metadata": {},
   "outputs": [],
   "source": [
    "#  read via geopandas so that geometry stays intact\n",
    "# segs = gpd.read_parquet(path)"
   ]
  },
  {
   "cell_type": "code",
   "execution_count": 7,
   "id": "439cc654-8e02-4804-9692-d7b9395104ea",
   "metadata": {},
   "outputs": [],
   "source": [
    "# segs >> head(3)"
   ]
  },
  {
   "cell_type": "code",
   "execution_count": 8,
   "id": "b3322885-e4ed-4abd-a3c5-81941dbd0952",
   "metadata": {},
   "outputs": [],
   "source": [
    "# segs >> filter(_.shape_array_key == '37bb198ccd3af93e3b7f10bb7602faff') >> count(_.trip_instance_key)"
   ]
  },
  {
   "cell_type": "code",
   "execution_count": 9,
   "id": "e75fe998-7cb1-40c2-a89e-6a22e893e42c",
   "metadata": {},
   "outputs": [
    {
     "ename": "NameError",
     "evalue": "name 'segs' is not defined",
     "output_type": "error",
     "traceback": [
      "\u001b[0;31m---------------------------------------------------------------------------\u001b[0m",
      "\u001b[0;31mNameError\u001b[0m                                 Traceback (most recent call last)",
      "Cell \u001b[0;32mIn[9], line 1\u001b[0m\n\u001b[0;32m----> 1\u001b[0m \u001b[43msegs\u001b[49m\u001b[38;5;241m.\u001b[39mlength\u001b[38;5;241m.\u001b[39mquantile(\u001b[38;5;241m.94\u001b[39m)\n",
      "\u001b[0;31mNameError\u001b[0m: name 'segs' is not defined"
     ]
    }
   ],
   "source": [
    "segs.length.quantile(.94)"
   ]
  },
  {
   "cell_type": "code",
   "execution_count": 10,
   "id": "149c5692-84bf-40f1-b5d8-55b122e13439",
   "metadata": {},
   "outputs": [],
   "source": [
    "# segs >> count(_.segment_id) >> arrange(-_.n)"
   ]
  },
  {
   "cell_type": "code",
   "execution_count": 11,
   "id": "63d3884e-9b4c-4d0d-9199-e00c04408795",
   "metadata": {},
   "outputs": [],
   "source": [
    "# (segs >> filter(_.segment_id == '5138-7345-1')).explore()"
   ]
  },
  {
   "cell_type": "code",
   "execution_count": 12,
   "id": "43df0db6-2a15-4fe1-8ae8-6f2006c87076",
   "metadata": {},
   "outputs": [],
   "source": [
    "segs_ddf = dd.from_pandas(segs, npartitions=50)"
   ]
  },
  {
   "cell_type": "code",
   "execution_count": 13,
   "id": "e5c76cae-3b64-460a-a271-c96e84767e5b",
   "metadata": {},
   "outputs": [],
   "source": [
    "segs_ddf = segs_ddf.assign(length=lambda x: x.geometry.length)"
   ]
  },
  {
   "cell_type": "code",
   "execution_count": 14,
   "id": "c597c559-9d37-4983-9942-897bb8c4c349",
   "metadata": {},
   "outputs": [
    {
     "name": "stderr",
     "output_type": "stream",
     "text": [
      "/tmp/ipykernel_1311/231179082.py:1: UserWarning: `meta` is not specified, inferred from partial data. Please provide `meta` if the result is unexpected.\n",
      "  Before: .shift(1)\n",
      "  After:  .shift(1, meta={'x': 'f8', 'y': 'f8'}) for dataframe result\n",
      "  or:     .shift(1, meta=('x', 'f8'))            for series result\n",
      "  next_sequence_ddf = segs_ddf[['trip_instance_key', 'stop_sequence']].groupby('trip_instance_key').shift(-1)\n"
     ]
    }
   ],
   "source": [
    "next_sequence_ddf = segs_ddf[['trip_instance_key', 'stop_sequence']].groupby('trip_instance_key').shift(-1)\n",
    "next_sequence_ddf = next_sequence_ddf.rename(columns={'stop_sequence': 'next_stop_sequence'})"
   ]
  },
  {
   "cell_type": "code",
   "execution_count": 15,
   "id": "2608af32-fcd3-4964-a808-e0f9d099a929",
   "metadata": {
    "tags": []
   },
   "outputs": [],
   "source": [
    "#  note this relies on the index\n",
    "segs_ddf = segs_ddf.join(next_sequence_ddf)"
   ]
  },
  {
   "cell_type": "code",
   "execution_count": 16,
   "id": "4968ba05-ded8-4595-b2de-8d470bec7575",
   "metadata": {},
   "outputs": [],
   "source": [
    "# !mkdir test_segs"
   ]
  },
  {
   "cell_type": "code",
   "execution_count": 17,
   "id": "c874c4e0-0ec0-42ad-b1e5-553fe9b7cf7c",
   "metadata": {},
   "outputs": [],
   "source": [
    "segs_ddf[['next_stop_sequence', 'length']].to_parquet('test_segs/')"
   ]
  },
  {
   "cell_type": "code",
   "execution_count": null,
   "id": "38100bfb-dbe8-485e-930b-9e2fe72c11b2",
   "metadata": {},
   "outputs": [],
   "source": [
    "# new_cols = segs_ddf.compute()"
   ]
  },
  {
   "cell_type": "code",
   "execution_count": 7,
   "id": "9e5ddeb7-94bf-4ee2-b56b-796d0fa13d1e",
   "metadata": {},
   "outputs": [],
   "source": [
    "segs_ddf = dd.read_parquet('test_segs/')"
   ]
  },
  {
   "cell_type": "code",
   "execution_count": 9,
   "id": "83c10d05-4965-40de-b041-b27aa5fb4c91",
   "metadata": {},
   "outputs": [
    {
     "data": {
      "text/html": [
       "<div><strong>Dask DataFrame Structure:</strong></div>\n",
       "<div>\n",
       "<style scoped>\n",
       "    .dataframe tbody tr th:only-of-type {\n",
       "        vertical-align: middle;\n",
       "    }\n",
       "\n",
       "    .dataframe tbody tr th {\n",
       "        vertical-align: top;\n",
       "    }\n",
       "\n",
       "    .dataframe thead th {\n",
       "        text-align: right;\n",
       "    }\n",
       "</style>\n",
       "<table border=\"1\" class=\"dataframe\">\n",
       "  <thead>\n",
       "    <tr style=\"text-align: right;\">\n",
       "      <th></th>\n",
       "      <th>next_stop_sequence</th>\n",
       "      <th>length</th>\n",
       "    </tr>\n",
       "    <tr>\n",
       "      <th>npartitions=50</th>\n",
       "      <th></th>\n",
       "      <th></th>\n",
       "    </tr>\n",
       "  </thead>\n",
       "  <tbody>\n",
       "    <tr>\n",
       "      <th></th>\n",
       "      <td>float64</td>\n",
       "      <td>float64</td>\n",
       "    </tr>\n",
       "    <tr>\n",
       "      <th></th>\n",
       "      <td>...</td>\n",
       "      <td>...</td>\n",
       "    </tr>\n",
       "    <tr>\n",
       "      <th>...</th>\n",
       "      <td>...</td>\n",
       "      <td>...</td>\n",
       "    </tr>\n",
       "    <tr>\n",
       "      <th></th>\n",
       "      <td>...</td>\n",
       "      <td>...</td>\n",
       "    </tr>\n",
       "    <tr>\n",
       "      <th></th>\n",
       "      <td>...</td>\n",
       "      <td>...</td>\n",
       "    </tr>\n",
       "  </tbody>\n",
       "</table>\n",
       "</div>\n",
       "<div>Dask Name: read-parquet, 1 graph layer</div>"
      ],
      "text/plain": [
       "Dask DataFrame Structure:\n",
       "               next_stop_sequence   length\n",
       "npartitions=50                            \n",
       "                          float64  float64\n",
       "                              ...      ...\n",
       "...                           ...      ...\n",
       "                              ...      ...\n",
       "                              ...      ...\n",
       "Dask Name: read-parquet, 1 graph layer"
      ]
     },
     "execution_count": 9,
     "metadata": {},
     "output_type": "execute_result"
    }
   ],
   "source": [
    "segs_ddf"
   ]
  },
  {
   "cell_type": "code",
   "execution_count": 14,
   "id": "4cd2b38e-18c2-4c81-9bea-e2770f1d4588",
   "metadata": {},
   "outputs": [],
   "source": [
    "#  restart kernel/seperate script"
   ]
  },
  {
   "cell_type": "code",
   "execution_count": 10,
   "id": "f7082595-cd7b-4865-9da7-6b71ebea9af7",
   "metadata": {},
   "outputs": [],
   "source": [
    "segs = segs.join(segs_ddf.compute())"
   ]
  },
  {
   "cell_type": "code",
   "execution_count": 11,
   "id": "b3b5f759-9f08-415e-99c7-390a4b308cbd",
   "metadata": {},
   "outputs": [],
   "source": [
    "segs.to_parquet('test_interpolated_segs.parquet')"
   ]
  },
  {
   "cell_type": "code",
   "execution_count": null,
   "id": "f42cd425-4512-4f4d-b9a3-fdeb8493d009",
   "metadata": {},
   "outputs": [],
   "source": [
    "segs = gpd.read_parquet('test_interpolated_segs.parquet')"
   ]
  },
  {
   "cell_type": "code",
   "execution_count": null,
   "id": "2a8cd3ec-f093-4bde-a4d0-70e41b286c1b",
   "metadata": {
    "tags": []
   },
   "outputs": [
    {
     "data": {
      "text/html": [
       "<div>\n",
       "<style scoped>\n",
       "    .dataframe tbody tr th:only-of-type {\n",
       "        vertical-align: middle;\n",
       "    }\n",
       "\n",
       "    .dataframe tbody tr th {\n",
       "        vertical-align: top;\n",
       "    }\n",
       "\n",
       "    .dataframe thead th {\n",
       "        text-align: right;\n",
       "    }\n",
       "</style>\n",
       "<table border=\"1\" class=\"dataframe\">\n",
       "  <thead>\n",
       "    <tr style=\"text-align: right;\">\n",
       "      <th></th>\n",
       "      <th>trip_instance_key</th>\n",
       "      <th>shape_array_key</th>\n",
       "      <th>stop_id1</th>\n",
       "      <th>stop_sequence</th>\n",
       "      <th>geometry</th>\n",
       "      <th>stop_id2</th>\n",
       "      <th>segment_id</th>\n",
       "      <th>stop_pair</th>\n",
       "      <th>schedule_gtfs_dataset_key</th>\n",
       "      <th>route_id</th>\n",
       "      <th>direction_id</th>\n",
       "      <th>next_stop_sequence</th>\n",
       "      <th>length</th>\n",
       "    </tr>\n",
       "  </thead>\n",
       "  <tbody>\n",
       "    <tr>\n",
       "      <th>0</th>\n",
       "      <td>0000dbb743b258f707687f2dc14ad90f</td>\n",
       "      <td>37bb198ccd3af93e3b7f10bb7602faff</td>\n",
       "      <td>178</td>\n",
       "      <td>0</td>\n",
       "      <td>LINESTRING (194586.662 -428941.623, 194587.395...</td>\n",
       "      <td>1240</td>\n",
       "      <td>178-1240-1</td>\n",
       "      <td>178__1240</td>\n",
       "      <td>f74424acf8c41e4c1e9fd42838c4875c</td>\n",
       "      <td>488</td>\n",
       "      <td>1.0</td>\n",
       "      <td>108.0</td>\n",
       "      <td>784.47941</td>\n",
       "    </tr>\n",
       "  </tbody>\n",
       "</table>\n",
       "</div>"
      ],
      "text/plain": [
       "                  trip_instance_key                   shape_array_key  \\\n",
       "0  0000dbb743b258f707687f2dc14ad90f  37bb198ccd3af93e3b7f10bb7602faff   \n",
       "\n",
       "  stop_id1  stop_sequence                                           geometry  \\\n",
       "0      178              0  LINESTRING (194586.662 -428941.623, 194587.395...   \n",
       "\n",
       "  stop_id2  segment_id  stop_pair         schedule_gtfs_dataset_key route_id  \\\n",
       "0     1240  178-1240-1  178__1240  f74424acf8c41e4c1e9fd42838c4875c      488   \n",
       "\n",
       "   direction_id  next_stop_sequence     length  \n",
       "0           1.0               108.0  784.47941  "
      ]
     },
     "execution_count": 14,
     "metadata": {},
     "output_type": "execute_result"
    }
   ],
   "source": [
    "segs"
   ]
  },
  {
   "cell_type": "markdown",
   "id": "8c9ba88b-27a4-4288-88ce-f368d1507ba3",
   "metadata": {
    "jp-MarkdownHeadingCollapsed": true,
    "tags": []
   },
   "source": [
    "## Find BBBR10"
   ]
  },
  {
   "cell_type": "code",
   "execution_count": 27,
   "id": "c4df9522-1103-4a91-a001-f45b19212757",
   "metadata": {},
   "outputs": [],
   "source": [
    "import os\n",
    "os.environ[\"CALITP_BQ_MAX_BYTES\"] = str(800_000_000_000)\n",
    "\n",
    "from calitp_data_analysis.tables import tbls\n",
    "from shared_utils import gtfs_utils_v2"
   ]
  },
  {
   "cell_type": "code",
   "execution_count": 24,
   "id": "b892f6ea-67d0-4295-b014-10532d2408b9",
   "metadata": {},
   "outputs": [],
   "source": [
    "bbb = gtfs_utils_v2.schedule_daily_feed_to_gtfs_dataset_name('2024-03-13') >> filter(_.name.str.contains('Big Blue'))"
   ]
  },
  {
   "cell_type": "code",
   "execution_count": 25,
   "id": "1fc3d7d1-8b0d-4d2b-82d6-cbb741ae4ff1",
   "metadata": {},
   "outputs": [
    {
     "data": {
      "text/html": [
       "<div>\n",
       "<style scoped>\n",
       "    .dataframe tbody tr th:only-of-type {\n",
       "        vertical-align: middle;\n",
       "    }\n",
       "\n",
       "    .dataframe tbody tr th {\n",
       "        vertical-align: top;\n",
       "    }\n",
       "\n",
       "    .dataframe thead th {\n",
       "        text-align: right;\n",
       "    }\n",
       "</style>\n",
       "<table border=\"1\" class=\"dataframe\">\n",
       "  <thead>\n",
       "    <tr style=\"text-align: right;\">\n",
       "      <th></th>\n",
       "      <th>key</th>\n",
       "      <th>date</th>\n",
       "      <th>feed_key</th>\n",
       "      <th>feed_timezone</th>\n",
       "      <th>base64_url</th>\n",
       "      <th>gtfs_dataset_key</th>\n",
       "      <th>gtfs_dataset_name</th>\n",
       "      <th>type</th>\n",
       "      <th>name</th>\n",
       "      <th>regional_feed_type</th>\n",
       "    </tr>\n",
       "  </thead>\n",
       "  <tbody>\n",
       "    <tr>\n",
       "      <th>219</th>\n",
       "      <td>c35ae2a7cb1f9ad2cf0a5bce84ccf298</td>\n",
       "      <td>2024-03-13</td>\n",
       "      <td>4f9888472a8dad0f66bdbbd002312789</td>\n",
       "      <td>America/Los_Angeles</td>\n",
       "      <td>aHR0cDovL2d0ZnMuYmlnYmx1ZWJ1cy5jb20vY3VycmVudC...</td>\n",
       "      <td>efbbd5293be71f7a5de0cf82b59febe1</td>\n",
       "      <td>Big Blue Bus Schedule</td>\n",
       "      <td>schedule</td>\n",
       "      <td>Big Blue Bus Schedule</td>\n",
       "      <td>None</td>\n",
       "    </tr>\n",
       "  </tbody>\n",
       "</table>\n",
       "</div>"
      ],
      "text/plain": [
       "                                  key       date  \\\n",
       "219  c35ae2a7cb1f9ad2cf0a5bce84ccf298 2024-03-13   \n",
       "\n",
       "                             feed_key        feed_timezone  \\\n",
       "219  4f9888472a8dad0f66bdbbd002312789  America/Los_Angeles   \n",
       "\n",
       "                                            base64_url  \\\n",
       "219  aHR0cDovL2d0ZnMuYmlnYmx1ZWJ1cy5jb20vY3VycmVudC...   \n",
       "\n",
       "                     gtfs_dataset_key      gtfs_dataset_name      type  \\\n",
       "219  efbbd5293be71f7a5de0cf82b59febe1  Big Blue Bus Schedule  schedule   \n",
       "\n",
       "                      name regional_feed_type  \n",
       "219  Big Blue Bus Schedule               None  "
      ]
     },
     "execution_count": 25,
     "metadata": {},
     "output_type": "execute_result"
    }
   ],
   "source": [
    "bbb"
   ]
  },
  {
   "cell_type": "code",
   "execution_count": 40,
   "id": "579807e7-0602-41a1-a1dc-e7d4d64c3c0b",
   "metadata": {},
   "outputs": [],
   "source": [
    "bbbr10 = (tbls.mart_gtfs.fct_scheduled_trips()\n",
    " >> filter(_.gtfs_dataset_key.isin(bbb.gtfs_dataset_key),\n",
    "          _.route_short_name.str.contains('R10'),\n",
    "          _.service_date == '2024-03-13')\n",
    ") >> collect()"
   ]
  },
  {
   "cell_type": "code",
   "execution_count": 41,
   "id": "55ce4e1a-205d-4f5a-baf0-d6adac265942",
   "metadata": {},
   "outputs": [
    {
     "data": {
      "text/html": [
       "<div>\n",
       "<style scoped>\n",
       "    .dataframe tbody tr th:only-of-type {\n",
       "        vertical-align: middle;\n",
       "    }\n",
       "\n",
       "    .dataframe tbody tr th {\n",
       "        vertical-align: top;\n",
       "    }\n",
       "\n",
       "    .dataframe thead th {\n",
       "        text-align: right;\n",
       "    }\n",
       "</style>\n",
       "<table border=\"1\" class=\"dataframe\">\n",
       "  <thead>\n",
       "    <tr style=\"text-align: right;\">\n",
       "      <th></th>\n",
       "      <th>key</th>\n",
       "      <th>trip_instance_key</th>\n",
       "      <th>feed_timezone</th>\n",
       "      <th>base64_url</th>\n",
       "      <th>name</th>\n",
       "      <th>regional_feed_type</th>\n",
       "      <th>gtfs_dataset_key</th>\n",
       "      <th>service_date</th>\n",
       "      <th>feed_key</th>\n",
       "      <th>service_id</th>\n",
       "      <th>...</th>\n",
       "      <th>trip_last_arrival_datetime_pacific</th>\n",
       "      <th>trip_start_date_local_tz</th>\n",
       "      <th>trip_first_departure_datetime_local_tz</th>\n",
       "      <th>trip_last_arrival_datetime_local_tz</th>\n",
       "      <th>trip_first_start_pickup_drop_off_window_date_pacific</th>\n",
       "      <th>trip_first_start_pickup_drop_off_window_datetime_pacific</th>\n",
       "      <th>trip_last_end_pickup_drop_off_window_pacific</th>\n",
       "      <th>trip_first_start_pickup_drop_off_window_date_local_tz</th>\n",
       "      <th>trip_first_start_pickup_drop_off_window_datetime_local_tz</th>\n",
       "      <th>trip_last_end_pickup_drop_off_window_datetime_local_tz</th>\n",
       "    </tr>\n",
       "  </thead>\n",
       "  <tbody>\n",
       "    <tr>\n",
       "      <th>0</th>\n",
       "      <td>90db8c72792ec17cbfbcea25c4755ee1</td>\n",
       "      <td>d98e5cc1fb62e6e5ed0030934ef8a396</td>\n",
       "      <td>America/Los_Angeles</td>\n",
       "      <td>aHR0cDovL2d0ZnMuYmlnYmx1ZWJ1cy5jb20vY3VycmVudC...</td>\n",
       "      <td>Big Blue Bus Schedule</td>\n",
       "      <td>None</td>\n",
       "      <td>efbbd5293be71f7a5de0cf82b59febe1</td>\n",
       "      <td>2024-03-13</td>\n",
       "      <td>4f9888472a8dad0f66bdbbd002312789</td>\n",
       "      <td>10</td>\n",
       "      <td>...</td>\n",
       "      <td>2024-03-13 06:48:33</td>\n",
       "      <td>2024-03-13</td>\n",
       "      <td>2024-03-13 06:00:00</td>\n",
       "      <td>2024-03-13 06:48:33</td>\n",
       "      <td>None</td>\n",
       "      <td>None</td>\n",
       "      <td>None</td>\n",
       "      <td>None</td>\n",
       "      <td>None</td>\n",
       "      <td>None</td>\n",
       "    </tr>\n",
       "    <tr>\n",
       "      <th>1</th>\n",
       "      <td>3fe37ab5b4a46d3be38536059411b341</td>\n",
       "      <td>3505bf6a20e8d29e83e545784a421bc7</td>\n",
       "      <td>America/Los_Angeles</td>\n",
       "      <td>aHR0cDovL2d0ZnMuYmlnYmx1ZWJ1cy5jb20vY3VycmVudC...</td>\n",
       "      <td>Big Blue Bus Schedule</td>\n",
       "      <td>None</td>\n",
       "      <td>efbbd5293be71f7a5de0cf82b59febe1</td>\n",
       "      <td>2024-03-13</td>\n",
       "      <td>4f9888472a8dad0f66bdbbd002312789</td>\n",
       "      <td>10</td>\n",
       "      <td>...</td>\n",
       "      <td>2024-03-13 08:09:24</td>\n",
       "      <td>2024-03-13</td>\n",
       "      <td>2024-03-13 07:00:00</td>\n",
       "      <td>2024-03-13 08:09:24</td>\n",
       "      <td>None</td>\n",
       "      <td>None</td>\n",
       "      <td>None</td>\n",
       "      <td>None</td>\n",
       "      <td>None</td>\n",
       "      <td>None</td>\n",
       "    </tr>\n",
       "    <tr>\n",
       "      <th>2</th>\n",
       "      <td>89f1fb4c504b72d70209787272cdf30e</td>\n",
       "      <td>c3577c96a714df975f5525b246987e41</td>\n",
       "      <td>America/Los_Angeles</td>\n",
       "      <td>aHR0cDovL2d0ZnMuYmlnYmx1ZWJ1cy5jb20vY3VycmVudC...</td>\n",
       "      <td>Big Blue Bus Schedule</td>\n",
       "      <td>None</td>\n",
       "      <td>efbbd5293be71f7a5de0cf82b59febe1</td>\n",
       "      <td>2024-03-13</td>\n",
       "      <td>4f9888472a8dad0f66bdbbd002312789</td>\n",
       "      <td>10</td>\n",
       "      <td>...</td>\n",
       "      <td>2024-03-13 09:22:20</td>\n",
       "      <td>2024-03-13</td>\n",
       "      <td>2024-03-13 08:04:00</td>\n",
       "      <td>2024-03-13 09:22:20</td>\n",
       "      <td>None</td>\n",
       "      <td>None</td>\n",
       "      <td>None</td>\n",
       "      <td>None</td>\n",
       "      <td>None</td>\n",
       "      <td>None</td>\n",
       "    </tr>\n",
       "    <tr>\n",
       "      <th>3</th>\n",
       "      <td>f0853c83ae28356bf98795ffd26bf2b6</td>\n",
       "      <td>f1866ab43b90dd43adb557fe527177d2</td>\n",
       "      <td>America/Los_Angeles</td>\n",
       "      <td>aHR0cDovL2d0ZnMuYmlnYmx1ZWJ1cy5jb20vY3VycmVudC...</td>\n",
       "      <td>Big Blue Bus Schedule</td>\n",
       "      <td>None</td>\n",
       "      <td>efbbd5293be71f7a5de0cf82b59febe1</td>\n",
       "      <td>2024-03-13</td>\n",
       "      <td>4f9888472a8dad0f66bdbbd002312789</td>\n",
       "      <td>10</td>\n",
       "      <td>...</td>\n",
       "      <td>2024-03-13 16:35:00</td>\n",
       "      <td>2024-03-13</td>\n",
       "      <td>2024-03-13 15:35:00</td>\n",
       "      <td>2024-03-13 16:35:00</td>\n",
       "      <td>None</td>\n",
       "      <td>None</td>\n",
       "      <td>None</td>\n",
       "      <td>None</td>\n",
       "      <td>None</td>\n",
       "      <td>None</td>\n",
       "    </tr>\n",
       "    <tr>\n",
       "      <th>4</th>\n",
       "      <td>9688636df1f105e304939f80869ff475</td>\n",
       "      <td>8a452661390b69cd00fdcde92066cc4a</td>\n",
       "      <td>America/Los_Angeles</td>\n",
       "      <td>aHR0cDovL2d0ZnMuYmlnYmx1ZWJ1cy5jb20vY3VycmVudC...</td>\n",
       "      <td>Big Blue Bus Schedule</td>\n",
       "      <td>None</td>\n",
       "      <td>efbbd5293be71f7a5de0cf82b59febe1</td>\n",
       "      <td>2024-03-13</td>\n",
       "      <td>4f9888472a8dad0f66bdbbd002312789</td>\n",
       "      <td>10</td>\n",
       "      <td>...</td>\n",
       "      <td>2024-03-13 18:29:00</td>\n",
       "      <td>2024-03-13</td>\n",
       "      <td>2024-03-13 17:05:00</td>\n",
       "      <td>2024-03-13 18:29:00</td>\n",
       "      <td>None</td>\n",
       "      <td>None</td>\n",
       "      <td>None</td>\n",
       "      <td>None</td>\n",
       "      <td>None</td>\n",
       "      <td>None</td>\n",
       "    </tr>\n",
       "    <tr>\n",
       "      <th>5</th>\n",
       "      <td>ca6cc33527b7e8079279008ed55b09af</td>\n",
       "      <td>5d3dc572ce27ef902024f6f135cf59c2</td>\n",
       "      <td>America/Los_Angeles</td>\n",
       "      <td>aHR0cDovL2d0ZnMuYmlnYmx1ZWJ1cy5jb20vY3VycmVudC...</td>\n",
       "      <td>Big Blue Bus Schedule</td>\n",
       "      <td>None</td>\n",
       "      <td>efbbd5293be71f7a5de0cf82b59febe1</td>\n",
       "      <td>2024-03-13</td>\n",
       "      <td>4f9888472a8dad0f66bdbbd002312789</td>\n",
       "      <td>10</td>\n",
       "      <td>...</td>\n",
       "      <td>2024-03-13 19:15:00</td>\n",
       "      <td>2024-03-13</td>\n",
       "      <td>2024-03-13 18:05:00</td>\n",
       "      <td>2024-03-13 19:15:00</td>\n",
       "      <td>None</td>\n",
       "      <td>None</td>\n",
       "      <td>None</td>\n",
       "      <td>None</td>\n",
       "      <td>None</td>\n",
       "      <td>None</td>\n",
       "    </tr>\n",
       "  </tbody>\n",
       "</table>\n",
       "<p>6 rows × 65 columns</p>\n",
       "</div>"
      ],
      "text/plain": [
       "                                key                 trip_instance_key  \\\n",
       "0  90db8c72792ec17cbfbcea25c4755ee1  d98e5cc1fb62e6e5ed0030934ef8a396   \n",
       "1  3fe37ab5b4a46d3be38536059411b341  3505bf6a20e8d29e83e545784a421bc7   \n",
       "2  89f1fb4c504b72d70209787272cdf30e  c3577c96a714df975f5525b246987e41   \n",
       "3  f0853c83ae28356bf98795ffd26bf2b6  f1866ab43b90dd43adb557fe527177d2   \n",
       "4  9688636df1f105e304939f80869ff475  8a452661390b69cd00fdcde92066cc4a   \n",
       "5  ca6cc33527b7e8079279008ed55b09af  5d3dc572ce27ef902024f6f135cf59c2   \n",
       "\n",
       "         feed_timezone                                         base64_url  \\\n",
       "0  America/Los_Angeles  aHR0cDovL2d0ZnMuYmlnYmx1ZWJ1cy5jb20vY3VycmVudC...   \n",
       "1  America/Los_Angeles  aHR0cDovL2d0ZnMuYmlnYmx1ZWJ1cy5jb20vY3VycmVudC...   \n",
       "2  America/Los_Angeles  aHR0cDovL2d0ZnMuYmlnYmx1ZWJ1cy5jb20vY3VycmVudC...   \n",
       "3  America/Los_Angeles  aHR0cDovL2d0ZnMuYmlnYmx1ZWJ1cy5jb20vY3VycmVudC...   \n",
       "4  America/Los_Angeles  aHR0cDovL2d0ZnMuYmlnYmx1ZWJ1cy5jb20vY3VycmVudC...   \n",
       "5  America/Los_Angeles  aHR0cDovL2d0ZnMuYmlnYmx1ZWJ1cy5jb20vY3VycmVudC...   \n",
       "\n",
       "                    name regional_feed_type                  gtfs_dataset_key  \\\n",
       "0  Big Blue Bus Schedule               None  efbbd5293be71f7a5de0cf82b59febe1   \n",
       "1  Big Blue Bus Schedule               None  efbbd5293be71f7a5de0cf82b59febe1   \n",
       "2  Big Blue Bus Schedule               None  efbbd5293be71f7a5de0cf82b59febe1   \n",
       "3  Big Blue Bus Schedule               None  efbbd5293be71f7a5de0cf82b59febe1   \n",
       "4  Big Blue Bus Schedule               None  efbbd5293be71f7a5de0cf82b59febe1   \n",
       "5  Big Blue Bus Schedule               None  efbbd5293be71f7a5de0cf82b59febe1   \n",
       "\n",
       "  service_date                          feed_key service_id  ...  \\\n",
       "0   2024-03-13  4f9888472a8dad0f66bdbbd002312789         10  ...   \n",
       "1   2024-03-13  4f9888472a8dad0f66bdbbd002312789         10  ...   \n",
       "2   2024-03-13  4f9888472a8dad0f66bdbbd002312789         10  ...   \n",
       "3   2024-03-13  4f9888472a8dad0f66bdbbd002312789         10  ...   \n",
       "4   2024-03-13  4f9888472a8dad0f66bdbbd002312789         10  ...   \n",
       "5   2024-03-13  4f9888472a8dad0f66bdbbd002312789         10  ...   \n",
       "\n",
       "  trip_last_arrival_datetime_pacific trip_start_date_local_tz  \\\n",
       "0                2024-03-13 06:48:33               2024-03-13   \n",
       "1                2024-03-13 08:09:24               2024-03-13   \n",
       "2                2024-03-13 09:22:20               2024-03-13   \n",
       "3                2024-03-13 16:35:00               2024-03-13   \n",
       "4                2024-03-13 18:29:00               2024-03-13   \n",
       "5                2024-03-13 19:15:00               2024-03-13   \n",
       "\n",
       "   trip_first_departure_datetime_local_tz  \\\n",
       "0                     2024-03-13 06:00:00   \n",
       "1                     2024-03-13 07:00:00   \n",
       "2                     2024-03-13 08:04:00   \n",
       "3                     2024-03-13 15:35:00   \n",
       "4                     2024-03-13 17:05:00   \n",
       "5                     2024-03-13 18:05:00   \n",
       "\n",
       "   trip_last_arrival_datetime_local_tz  \\\n",
       "0                  2024-03-13 06:48:33   \n",
       "1                  2024-03-13 08:09:24   \n",
       "2                  2024-03-13 09:22:20   \n",
       "3                  2024-03-13 16:35:00   \n",
       "4                  2024-03-13 18:29:00   \n",
       "5                  2024-03-13 19:15:00   \n",
       "\n",
       "  trip_first_start_pickup_drop_off_window_date_pacific  \\\n",
       "0                                               None     \n",
       "1                                               None     \n",
       "2                                               None     \n",
       "3                                               None     \n",
       "4                                               None     \n",
       "5                                               None     \n",
       "\n",
       "   trip_first_start_pickup_drop_off_window_datetime_pacific  \\\n",
       "0                                               None          \n",
       "1                                               None          \n",
       "2                                               None          \n",
       "3                                               None          \n",
       "4                                               None          \n",
       "5                                               None          \n",
       "\n",
       "  trip_last_end_pickup_drop_off_window_pacific  \\\n",
       "0                                         None   \n",
       "1                                         None   \n",
       "2                                         None   \n",
       "3                                         None   \n",
       "4                                         None   \n",
       "5                                         None   \n",
       "\n",
       "  trip_first_start_pickup_drop_off_window_date_local_tz  \\\n",
       "0                                               None      \n",
       "1                                               None      \n",
       "2                                               None      \n",
       "3                                               None      \n",
       "4                                               None      \n",
       "5                                               None      \n",
       "\n",
       "  trip_first_start_pickup_drop_off_window_datetime_local_tz  \\\n",
       "0                                               None          \n",
       "1                                               None          \n",
       "2                                               None          \n",
       "3                                               None          \n",
       "4                                               None          \n",
       "5                                               None          \n",
       "\n",
       "  trip_last_end_pickup_drop_off_window_datetime_local_tz  \n",
       "0                                               None      \n",
       "1                                               None      \n",
       "2                                               None      \n",
       "3                                               None      \n",
       "4                                               None      \n",
       "5                                               None      \n",
       "\n",
       "[6 rows x 65 columns]"
      ]
     },
     "execution_count": 41,
     "metadata": {},
     "output_type": "execute_result"
    }
   ],
   "source": [
    "bbbr10"
   ]
  },
  {
   "cell_type": "markdown",
   "id": "91721d4c-7ff8-4606-bcee-2b421694f48a",
   "metadata": {},
   "source": [
    "## Work out function"
   ]
  },
  {
   "cell_type": "code",
   "execution_count": 18,
   "id": "b66bd308-aa7a-4fb3-be90-d0be4855c25f",
   "metadata": {},
   "outputs": [],
   "source": [
    "import shapely"
   ]
  },
  {
   "cell_type": "code",
   "execution_count": 19,
   "id": "de875b9a-3bb5-4be7-9dc0-7d09f33226e4",
   "metadata": {},
   "outputs": [
    {
     "data": {
      "text/plain": [
       "'2.0.1'"
      ]
     },
     "execution_count": 19,
     "metadata": {},
     "output_type": "execute_result"
    }
   ],
   "source": [
    "shapely.__version__"
   ]
  },
  {
   "cell_type": "code",
   "execution_count": 20,
   "id": "c97b6aaa-8e28-4e06-b209-4051aabf834f",
   "metadata": {},
   "outputs": [],
   "source": [
    "test = segs >> filter(_.trip_instance_key == '3505bf6a20e8d29e83e545784a421bc7')"
   ]
  },
  {
   "cell_type": "code",
   "execution_count": 21,
   "id": "ed74402c-0d2b-42bb-9fb8-7e926e6f15c5",
   "metadata": {},
   "outputs": [],
   "source": [
    "long = test >> filter(_.stop_sequence == 18)"
   ]
  },
  {
   "cell_type": "code",
   "execution_count": 22,
   "id": "bacc740d-3192-4283-a39d-c0fa140df9ec",
   "metadata": {},
   "outputs": [],
   "source": [
    "geom = long.geometry.iloc[0]"
   ]
  },
  {
   "cell_type": "code",
   "execution_count": 23,
   "id": "1a3481ae-9b85-4c95-94a7-a8215796259e",
   "metadata": {},
   "outputs": [
    {
     "data": {
      "text/plain": [
       "17696.81706739369"
      ]
     },
     "execution_count": 23,
     "metadata": {},
     "output_type": "execute_result"
    }
   ],
   "source": [
    "geom.length"
   ]
  },
  {
   "cell_type": "code",
   "execution_count": 24,
   "id": "ccf6bc5f-4e95-480f-acf1-998e924dddf6",
   "metadata": {},
   "outputs": [
    {
     "data": {
      "text/plain": [
       "17.0"
      ]
     },
     "execution_count": 24,
     "metadata": {},
     "output_type": "execute_result"
    }
   ],
   "source": [
    "km_segs = geom.length // 1000\n",
    "km_segs"
   ]
  },
  {
   "cell_type": "code",
   "execution_count": 25,
   "id": "3e86bf11-82b7-44c2-aa58-32031c7cbbe7",
   "metadata": {},
   "outputs": [],
   "source": [
    "def split_distance(geom, dist=1000):\n",
    "    '''\n",
    "    geom: shapely.LineString\n",
    "    \n",
    "    returns a shapely.MultiLineString split every dist (meters)\n",
    "    '''\n",
    "    \n",
    "    split_segs = geom.length // dist\n",
    "    substrings = []\n",
    "    for i in range(0, int(split_segs)):\n",
    "        substrings += [shapely.ops.substring(geom, i * dist, (i+1) * dist)]\n",
    "    substrings += [shapely.ops.substring(geom, split_segs * dist, geom.length)]\n",
    "    new_geom = shapely.MultiLineString(substrings)\n",
    "    \n",
    "    return new_geom"
   ]
  },
  {
   "cell_type": "code",
   "execution_count": 26,
   "id": "886c6d18-db65-405b-8eb0-db45a4b80945",
   "metadata": {},
   "outputs": [],
   "source": [
    "new_geom = split_distance(geom)"
   ]
  },
  {
   "cell_type": "code",
   "execution_count": 27,
   "id": "6fdc3e6c-58f4-4725-9c9d-c229db6f7dfd",
   "metadata": {},
   "outputs": [
    {
     "data": {
      "image/svg+xml": [
       "<svg xmlns=\"http://www.w3.org/2000/svg\" xmlns:xlink=\"http://www.w3.org/1999/xlink\" width=\"300\" height=\"300\" viewBox=\"142427.690326348 -442583.0499273801 18367.224581820716 2753.8086332919775\" preserveAspectRatio=\"xMinYMin meet\"><g transform=\"matrix(1,0,0,-1,0,-882412.2912214682)\"><polyline fill=\"none\" stroke=\"#66cc99\" stroke-width=\"122.44816387880478\" points=\"143107.95790345248,-441727.4303912716 143118.4068674092,-441739.4630661374 143131.62433540088,-441756.99750373745 143148.62607169247,-441780.01708010584 143157.9834119566,-441793.0660195858 143165.64421975263,-441804.03481783904 143170.27764900032,-441810.6154889534 143175.00523787396,-441817.3055580929 143184.47313490786,-441831.4620647016 143192.04166901793,-441842.432345842 143199.7025610148,-441853.4011088195 143211.97881973453,-441869.8413988771 143219.56556455852,-441881.92076184694 143232.83788074375,-441902.78235027567 143433.57228843938,-441814.18243313767 143485.0290092511,-441792.2604638301 143526.12681102564,-441763.85156886326 143631.6776507333,-441728.838196632 143683.2062000122,-441711.3514886489 143717.11497344417,-441700.81020337716 143733.66291583836,-441696.1008886914 143785.24390425486,-441681.82999662217 143800.77788604787,-441677.2481477577 143845.8592075392,-441666.522826836 143862.40519667478,-441661.702356298 143882.64830240133,-441657.0429727109 143916.70184932894,-441649.7158134021 144006.10760565283,-441632.8247641809 144246.4308436757,-441587.8199884859 144303.51492162896,-441576.8945060172 144354.15361360172,-441567.18434449844 144502.39208096045,-441539.1112641725 144587.93588493942,-441523.3873818461 144618.42391471082,-441518.33518258156 144643.3014237902,-441514.706875341 144650.57761886768,-441513.4772364008 144669.08027560858,-441509.73230547924 144676.4487989131,-441508.5011190763 144699.3688781133,-441503.79558700323 144777.6340220714,-441489.1886151219 144862.45288612362,-441474.36154890293 144908.530569197,-441468.1628117645 144948.08545014838,-441464.0687816022 144996.10206312136,-441457.83747696877 145056.8939292474,-441453.39117696276 145113.29226835727,-441451.3470558892 145176.9111123754,-441450.29224599106 145259.08928851027,-441448.92903509224 145331.12901366645,-441448.8427864555 145529.64927199946,-441445.5448201294 145670.07231197724,-441442.0998726222 145729.07434181034,-441441.1178720775 145735.63012249436,-441441.00873635756 145865.71155441826,-441437.73280615546 145970.04998566597,-441435.99364611553 145994.98040422297,-441435.57791053364 145998.67379946457,-441435.51631403854 146025.5617498247,-441436.1772610126 146105.85607406875,-441432.61868856754 146172.33716195522,-441431.50887122843 146180.64729734836,-441431.3701085611 146359.87142032105,-441434.03353351867 146423.6385478415,-441441.8425239022 146437.61823058882,-441443.82752095256 146458.00428971494,-441447.8132121796 146489.45433308688,-441456.16233398113 146548.8829979957,-441475.1371884085 146596.36535765167,-441492.203805848 146726.56261792022,-441545.3825034769 146765.53033000644,-441561.3705504448 146803.61136187238,-441574.0450419225 146840.73379434858,-441584.6275549568 146912.0562107562,-441596.7439354863 147057.3227197818,-441612.055583396 147227.61121134466,-441626.8331087637 147244.27102764885,-441628.8826893014 147257.1245157043,-441629.7759065898 147342.29749049517,-441636.10871357704 147456.92719531874,-441647.49166525155 147781.59017962118,-441675.18866356974 147810.36516431934,-441678.1420641681 147965.67901644623,-441692.048669301 148039.64473216905,-441696.4562289817 148076.69088161684,-441696.9391063354 148089.50705157963,-441695.612899045 148179.07113486363,-441688.43933940306 148236.05905262704,-441677.48979431903 148286.73220151107,-441664.53894482274 148371.08264075065,-441633.1554409247 148445.2530702786,-441595.176270694 148506.57308271018,-441556.52691450994 148566.7978077476,-441513.2361253402 148628.77825586303,-441464.58986132406 148703.6245796225,-441412.17443309445 149010.20815443178,-441191.8438412957 149039.357947775,-441168.0496606855 149067.62014881696,-441146.37839926546 149161.57098950032,-441077.21393842855 149419.668882666,-440890.75499006687 149519.4906134549,-440835.79786434583 149601.15557564542,-440810.1060275547 149670.21214527285,-440797.8312384072 149712.64325921083,-440794.7758285445 149777.42409908542,-440797.10686716903 149815.35266877385,-440800.7845875374 149888.5597104932,-440815.1743331179 149906.17616984074,-440819.19944689004 149921.94987660524,-440823.4779726793 149967.26948735787,-440832.6865470088 149995.08017241117,-440838.7556896107 150302.11308634552,-440911.1493916507 150409.63924197108,-440939.3680604673 150507.96140430708,-440958.6463333629 150512.50463716488,-440959.67764812754 150556.16368144716,-440968.91173472954 150637.7034285618,-440989.6975569953 150651.61212708603,-440992.8974342933 150655.32442375086,-440993.94297557464 150759.19269424077,-441018.7810798157 150974.44621413486,-441070.43187913904 151043.9102596592,-441087.0954069514 151070.00845161907,-441095.5204971861 151071.76274621513,-441095.4902219884 151229.1439835455,-441111.63306832453 151234.5915399233,-441111.5389556936 151396.32502936845,-441117.6187326079 151698.9955989464,-441096.8467979375 151757.93761882512,-441092.496866968 151796.76869057957,-441089.4937880314 151836.3210744477,-441085.4795360393 151993.2030847783,-441072.7720825379 152339.02396723095,-441047.900332293 152347.33373846876,-441047.7557157031 152350.19599297404,-441047.7059014961 152357.58245614028,-441047.57734437846 152803.07726030177,-441013.2967439969 153019.7461840923,-440997.1971966722 153029.9948425704,-440997.0180381001 153251.3738195609,-440980.94134566747 153270.74565970607,-440979.6036871546 153275.3621632807,-440979.52285420895 153282.74856891335,-440979.3935164311 153422.87934852784,-440970.17104696017 153503.24234601116,-440965.54481310025 153656.33478014584,-440952.8739264882 153758.60967036278,-440944.3104870338 153839.85661990527,-440937.4467532486 153856.4564587515,-440936.0455673756 153861.07293935443,-440935.96442553867 153870.21357082168,-440935.80375751806 153934.8761616267,-440931.22762982454 154074.04527962435,-440919.90368910134 154154.38804417255,-440914.16238109395 154204.18729410353,-440909.9569390551 154222.65316122342,-440909.63162355544 154274.2242079684,-440906.3930613026 154352.66499311107,-440902.7913844222 154358.2970780468,-440902.69207179174 154380.43653988335,-440901.19220390776 154538.78041785496,-440877.4297686559 154790.20518178167,-440831.93810245674 154793.87870957036,-440830.76370097464 154930.13227189932,-440806.16435694974 155012.99003169648,-440791.27320071403 155052.4828694981,-440784.0280361301 155074.65336048545,-440779.0865839091 155197.9265250553,-440756.93186867423 155243.0294183407,-440748.3659823607 155338.756884958,-440730.1370210494 155401.38202069208,-440720.14990033535 155460.44368438958,-440712.333559521 155511.10544730388,-440704.7769972752 155588.42370161586,-440690.0897056777 155703.58230697882,-440679.16648737853 155740.45584097304,-440675.2931198911 155954.6259042067,-440664.7123586987 156088.53922864606,-440664.5443534851 156130.10802452592,-440665.0233970331 156132.87782713343,-440664.973992778 156148.4810482022,-440664.6956657651 156447.59782338425,-440658.1343129142 156479.91216073956,-440657.55670333887 156536.32375598533,-440656.5480761528 156619.439575831,-440656.2817119914 156946.34062031543,-440659.19116254756 157123.64964484473,-440658.3400834338 157254.88569409028,-440658.2022950584 157302.76337769118,-440655.1231405777 157311.99604254967,-440654.95721945213 157469.029131283,-440656.46051990474 157492.2031232831,-440656.0435992428 157505.95979530324,-440655.7960754889 157533.75011812907,-440655.2959783268 157750.77766338256,-440654.7157987114 157870.86429634254,-440655.99009613646 158018.4325338861,-440649.8880951884 158083.984411359,-440648.7044848222 158161.69318371624,-440650.74002757855 158218.1786869013,-440664.0311315176 158264.39628288278,-440661.08766512014 158320.58312766446,-440657.85270257667 158340.02393166165,-440655.2821575147 158395.22724568914,-440648.7361542294 158444.19243155114,-440644.52162110433 158448.8087584099,-440644.438059791 158485.67712108,-440640.33131123055 158503.0866619095,-440637.797179529 158530.83876308933,-440635.18665101426 158589.7468339521,-440624.13451340934 158628.21047290505,-440611.2335924171 158651.24363181117,-440603.0499924449 158699.87282997547,-440585.41574405506 158727.31738464747,-440576.04250636464 158771.50481014772,-440563.03714868287 158796.33415264933,-440557.1504284856 158824.8544726471,-440551.08572091814 158841.4328194723,-440548.5659913756 158860.73865222192,-440543.66687948536 158870.87432435845,-440542.37347073294 158951.95960111197,-440532.02577779535 159015.58551097507,-440526.5432813475 159186.2259140718,-440514.56604718184 159281.2602807742,-440509.5088711926 159338.60077482695,-440513.901588887 159358.95269310576,-440515.7499983539 159375.59343836844,-440516.6674245419 159393.17561616038,-440518.56618470047 159426.51167177685,-440523.3954079491 159462.71108500852,-440538.3793190685 159502.84690669735,-440556.50876786886 159528.78766936608,-440566.0211188891 159549.28126656648,-440575.6326823626 159593.2297877427,-440600.23799621454 159609.0149022382,-440609.935264478 159631.55069624932,-440625.1676090318 159679.28252420106,-440659.68856992014 159696.12592778617,-440671.696224764 159733.58286373876,-440699.8585587768 159787.90192140816,-440741.026368672 159811.21545724283,-440758.3520040568 159862.8172140481,-440797.3500423338 159950.56513659484,-440853.3276377027 160005.82069267734,-440890.0391484983 160012.27452402387,-440894.4699274893 160082.42502238537,-440937.5653689024 160088.63147322182,-440928.46531309513 160097.674803722,-440912.87855084706 160114.64733106425,-440881.3925330518\" opacity=\"0.8\" /></g></svg>"
      ],
      "text/plain": [
       "<LINESTRING (143107.958 -441727.43, 143118.407 -441739.463, 143131.624 -4417...>"
      ]
     },
     "execution_count": 27,
     "metadata": {},
     "output_type": "execute_result"
    }
   ],
   "source": [
    "geom"
   ]
  },
  {
   "cell_type": "code",
   "execution_count": 28,
   "id": "f6a3b041-6ea1-4c1c-8d01-d1a20bc2b1a2",
   "metadata": {},
   "outputs": [
    {
     "data": {
      "image/svg+xml": [
       "<svg xmlns=\"http://www.w3.org/2000/svg\" xmlns:xlink=\"http://www.w3.org/1999/xlink\" width=\"300\" height=\"300\" viewBox=\"142427.690326348 -442583.0499273801 18367.224581820716 2753.8086332919775\" preserveAspectRatio=\"xMinYMin meet\"><g transform=\"matrix(1,0,0,-1,0,-882412.2912214682)\"><g><polyline fill=\"none\" stroke=\"#66cc99\" stroke-width=\"122.44816387880478\" points=\"143107.95790345248,-441727.4303912716 143118.4068674092,-441739.4630661374 143131.62433540088,-441756.99750373745 143148.62607169247,-441780.01708010584 143157.9834119566,-441793.0660195858 143165.64421975263,-441804.03481783904 143170.27764900032,-441810.6154889534 143175.00523787396,-441817.3055580929 143184.47313490786,-441831.4620647016 143192.04166901793,-441842.432345842 143199.7025610148,-441853.4011088195 143211.97881973453,-441869.8413988771 143219.56556455852,-441881.92076184694 143232.83788074375,-441902.78235027567 143433.57228843938,-441814.18243313767 143485.0290092511,-441792.2604638301 143526.12681102564,-441763.85156886326 143631.6776507333,-441728.838196632 143683.2062000122,-441711.3514886489 143717.11497344417,-441700.81020337716 143733.66291583836,-441696.1008886914 143785.24390425486,-441681.82999662217 143800.77788604787,-441677.2481477577 143845.8592075392,-441666.522826836 143862.40519667478,-441661.702356298 143882.64830240133,-441657.0429727109 143916.70184932894,-441649.7158134021 143967.8234564715,-441640.0576256297\" opacity=\"0.8\" /><polyline fill=\"none\" stroke=\"#66cc99\" stroke-width=\"122.44816387880478\" points=\"143967.8234564715,-441640.0576256297 144006.10760565283,-441632.8247641809 144246.4308436757,-441587.8199884859 144303.51492162896,-441576.8945060172 144354.15361360172,-441567.18434449844 144502.39208096045,-441539.1112641725 144587.93588493942,-441523.3873818461 144618.42391471082,-441518.33518258156 144643.3014237902,-441514.706875341 144650.57761886768,-441513.4772364008 144669.08027560858,-441509.73230547924 144676.4487989131,-441508.5011190763 144699.3688781133,-441503.79558700323 144777.6340220714,-441489.1886151219 144862.45288612362,-441474.36154890293 144908.530569197,-441468.1628117645 144948.08545014838,-441464.0687816022 144951.90838311682,-441463.57266456174\" opacity=\"0.8\" /><polyline fill=\"none\" stroke=\"#66cc99\" stroke-width=\"122.44816387880478\" points=\"144951.90838311682,-441463.57266456174 144996.10206312136,-441457.83747696877 145056.8939292474,-441453.39117696276 145113.29226835727,-441451.3470558892 145176.9111123754,-441450.29224599106 145259.08928851027,-441448.92903509224 145331.12901366645,-441448.8427864555 145529.64927199946,-441445.5448201294 145670.07231197724,-441442.0998726222 145729.07434181034,-441441.1178720775 145735.63012249436,-441441.00873635756 145865.71155441826,-441437.73280615546 145951.18644186118,-441436.30807217315\" opacity=\"0.8\" /><polyline fill=\"none\" stroke=\"#66cc99\" stroke-width=\"122.44816387880478\" points=\"145951.18644186118,-441436.30807217315 145970.04998566597,-441435.99364611553 145994.98040422297,-441435.57791053364 145998.67379946457,-441435.51631403854 146025.5617498247,-441436.1772610126 146105.85607406875,-441432.61868856754 146172.33716195522,-441431.50887122843 146180.64729734836,-441431.3701085611 146359.87142032105,-441434.03353351867 146423.6385478415,-441441.8425239022 146437.61823058882,-441443.82752095256 146458.00428971494,-441447.8132121796 146489.45433308688,-441456.16233398113 146548.8829979957,-441475.1371884085 146596.36535765167,-441492.203805848 146726.56261792022,-441545.3825034769 146765.53033000644,-441561.3705504448 146803.61136187238,-441574.0450419225 146840.73379434858,-441584.6275549568 146912.0562107562,-441596.7439354863 146924.82172044308,-441598.0894692299\" opacity=\"0.8\" /><polyline fill=\"none\" stroke=\"#66cc99\" stroke-width=\"122.44816387880478\" points=\"146924.82172044308,-441598.0894692299 147057.3227197818,-441612.055583396 147227.61121134466,-441626.8331087637 147244.27102764885,-441628.8826893014 147257.1245157043,-441629.7759065898 147342.29749049517,-441636.10871357704 147456.92719531874,-441647.49166525155 147781.59017962118,-441675.18866356974 147810.36516431934,-441678.1420641681 147920.72030232064,-441688.0231231178\" opacity=\"0.8\" /><polyline fill=\"none\" stroke=\"#66cc99\" stroke-width=\"122.44816387880478\" points=\"147920.72030232064,-441688.0231231178 147965.67901644623,-441692.048669301 148039.64473216905,-441696.4562289817 148076.69088161684,-441696.9391063354 148089.50705157963,-441695.612899045 148179.07113486363,-441688.43933940306 148236.05905262704,-441677.48979431903 148286.73220151107,-441664.53894482274 148371.08264075065,-441633.1554409247 148445.2530702786,-441595.176270694 148506.57308271018,-441556.52691450994 148566.7978077476,-441513.2361253402 148628.77825586303,-441464.58986132406 148703.6245796225,-441412.17443309445 148817.71737613203,-441330.1800425255\" opacity=\"0.8\" /><polyline fill=\"none\" stroke=\"#66cc99\" stroke-width=\"122.44816387880478\" points=\"148817.71737613203,-441330.1800425255 149010.20815443178,-441191.8438412957 149039.357947775,-441168.0496606855 149067.62014881696,-441146.37839926546 149161.57098950032,-441077.21393842855 149419.668882666,-440890.75499006687 149519.4906134549,-440835.79786434583 149601.15557564542,-440810.1060275547 149655.389614869,-440800.4659397299\" opacity=\"0.8\" /><polyline fill=\"none\" stroke=\"#66cc99\" stroke-width=\"122.44816387880478\" points=\"149655.389614869,-440800.4659397299 149670.21214527285,-440797.8312384072 149712.64325921083,-440794.7758285445 149777.42409908542,-440797.10686716903 149815.35266877385,-440800.7845875374 149888.5597104932,-440815.1743331179 149906.17616984074,-440819.19944689004 149921.94987660524,-440823.4779726793 149967.26948735787,-440832.6865470088 149995.08017241117,-440838.7556896107 150302.11308634552,-440911.1493916507 150409.63924197108,-440939.3680604673 150507.96140430708,-440958.6463333629 150512.50463716488,-440959.67764812754 150556.16368144716,-440968.91173472954 150633.34014149106,-440988.58528337715\" opacity=\"0.8\" /><polyline fill=\"none\" stroke=\"#66cc99\" stroke-width=\"122.44816387880478\" points=\"150633.34014149106,-440988.58528337715 150637.7034285618,-440989.6975569953 150651.61212708603,-440992.8974342933 150655.32442375086,-440993.94297557464 150759.19269424077,-441018.7810798157 150974.44621413486,-441070.43187913904 151043.9102596592,-441087.0954069514 151070.00845161907,-441095.5204971861 151071.76274621513,-441095.4902219884 151229.1439835455,-441111.63306832453 151234.5915399233,-441111.5389556936 151396.32502936845,-441117.6187326079 151618.89267586087,-441102.3441698411\" opacity=\"0.8\" /><polyline fill=\"none\" stroke=\"#66cc99\" stroke-width=\"122.44816387880478\" points=\"151618.89267586087,-441102.3441698411 151698.9955989464,-441096.8467979375 151757.93761882512,-441092.496866968 151796.76869057957,-441089.4937880314 151836.3210744477,-441085.4795360393 151993.2030847783,-441072.7720825379 152339.02396723095,-441047.900332293 152347.33373846876,-441047.7557157031 152350.19599297404,-441047.7059014961 152357.58245614028,-441047.57734437846 152616.05086416905,-441027.688330805\" opacity=\"0.8\" /><polyline fill=\"none\" stroke=\"#66cc99\" stroke-width=\"122.44816387880478\" points=\"152616.05086416905,-441027.688330805 152803.07726030177,-441013.2967439969 153019.7461840923,-440997.1971966722 153029.9948425704,-440997.0180381001 153251.3738195609,-440980.94134566747 153270.74565970607,-440979.6036871546 153275.3621632807,-440979.52285420895 153282.74856891335,-440979.3935164311 153422.87934852784,-440970.17104696017 153503.24234601116,-440965.54481310025 153613.45508850284,-440956.42291774857\" opacity=\"0.8\" /><polyline fill=\"none\" stroke=\"#66cc99\" stroke-width=\"122.44816387880478\" points=\"153613.45508850284,-440956.42291774857 153656.33478014584,-440952.8739264882 153758.60967036278,-440944.3104870338 153839.85661990527,-440937.4467532486 153856.4564587515,-440936.0455673756 153861.07293935443,-440935.96442553867 153870.21357082168,-440935.80375751806 153934.8761616267,-440931.22762982454 154074.04527962435,-440919.90368910134 154154.38804417255,-440914.16238109395 154204.18729410353,-440909.9569390551 154222.65316122342,-440909.63162355544 154274.2242079684,-440906.3930613026 154352.66499311107,-440902.7913844222 154358.2970780468,-440902.69207179174 154380.43653988335,-440901.19220390776 154538.78041785496,-440877.4297686559 154608.45316102172,-440864.82349580585\" opacity=\"0.8\" /><polyline fill=\"none\" stroke=\"#66cc99\" stroke-width=\"122.44816387880478\" points=\"154608.45316102172,-440864.82349580585 154790.20518178167,-440831.93810245674 154793.87870957036,-440830.76370097464 154930.13227189932,-440806.16435694974 155012.99003169648,-440791.27320071403 155052.4828694981,-440784.0280361301 155074.65336048545,-440779.0865839091 155197.9265250553,-440756.93186867423 155243.0294183407,-440748.3659823607 155338.756884958,-440730.1370210494 155401.38202069208,-440720.14990033535 155460.44368438958,-440712.333559521 155511.10544730388,-440704.7769972752 155588.42370161586,-440690.0897056777 155592.81502939932,-440689.67317204695\" opacity=\"0.8\" /><polyline fill=\"none\" stroke=\"#66cc99\" stroke-width=\"122.44816387880478\" points=\"155592.81502939932,-440689.67317204695 155703.58230697882,-440679.16648737853 155740.45584097304,-440675.2931198911 155954.6259042067,-440664.7123586987 156088.53922864606,-440664.5443534851 156130.10802452592,-440665.0233970331 156132.87782713343,-440664.973992778 156148.4810482022,-440664.6956657651 156447.59782338425,-440658.1343129142 156479.91216073956,-440657.55670333887 156536.32375598533,-440656.5480761528 156591.76155524052,-440656.37041270756\" opacity=\"0.8\" /><polyline fill=\"none\" stroke=\"#66cc99\" stroke-width=\"122.44816387880478\" points=\"156591.76155524052,-440656.37041270756 156619.439575831,-440656.2817119914 156946.34062031543,-440659.19116254756 157123.64964484473,-440658.3400834338 157254.88569409028,-440658.2022950584 157302.76337769118,-440655.1231405777 157311.99604254967,-440654.95721945213 157469.029131283,-440656.46051990474 157492.2031232831,-440656.0435992428 157505.95979530324,-440655.7960754889 157533.75011812907,-440655.2959783268 157591.6280695303,-440655.1412532317\" opacity=\"0.8\" /><polyline fill=\"none\" stroke=\"#66cc99\" stroke-width=\"122.44816387880478\" points=\"157591.6280695303,-440655.1412532317 157750.77766338256,-440654.7157987114 157870.86429634254,-440655.99009613646 158018.4325338861,-440649.8880951884 158083.984411359,-440648.7044848222 158161.69318371624,-440650.74002757855 158218.1786869013,-440664.0311315176 158264.39628288278,-440661.08766512014 158320.58312766446,-440657.85270257667 158340.02393166165,-440655.2821575147 158395.22724568914,-440648.7361542294 158444.19243155114,-440644.52162110433 158448.8087584099,-440644.438059791 158485.67712108,-440640.33131123055 158503.0866619095,-440637.797179529 158530.83876308933,-440635.18665101426 158587.4681487519,-440624.56203279714\" opacity=\"0.8\" /><polyline fill=\"none\" stroke=\"#66cc99\" stroke-width=\"122.44816387880478\" points=\"158587.4681487519,-440624.56203279714 158589.7468339521,-440624.13451340934 158628.21047290505,-440611.2335924171 158651.24363181117,-440603.0499924449 158699.87282997547,-440585.41574405506 158727.31738464747,-440576.04250636464 158771.50481014772,-440563.03714868287 158796.33415264933,-440557.1504284856 158824.8544726471,-440551.08572091814 158841.4328194723,-440548.5659913756 158860.73865222192,-440543.66687948536 158870.87432435845,-440542.37347073294 158951.95960111197,-440532.02577779535 159015.58551097507,-440526.5432813475 159186.2259140718,-440514.56604718184 159281.2602807742,-440509.5088711926 159338.60077482695,-440513.901588887 159358.95269310576,-440515.7499983539 159375.59343836844,-440516.6674245419 159393.17561616038,-440518.56618470047 159426.51167177685,-440523.3954079491 159462.71108500852,-440538.3793190685 159502.84690669735,-440556.50876786886 159528.78766936608,-440566.0211188891 159549.28126656648,-440575.6326823626 159560.6260170881,-440581.98423048493\" opacity=\"0.8\" /><polyline fill=\"none\" stroke=\"#66cc99\" stroke-width=\"122.44816387880478\" points=\"159560.6260170881,-440581.98423048493 159593.2297877427,-440600.23799621454 159609.0149022382,-440609.935264478 159631.55069624932,-440625.1676090318 159679.28252420106,-440659.68856992014 159696.12592778617,-440671.696224764 159733.58286373876,-440699.8585587768 159787.90192140816,-440741.026368672 159811.21545724283,-440758.3520040568 159862.8172140481,-440797.3500423338 159950.56513659484,-440853.3276377027 160005.82069267734,-440890.0391484983 160012.27452402387,-440894.4699274893 160082.42502238537,-440937.5653689024 160088.63147322182,-440928.46531309513 160097.674803722,-440912.87855084706 160114.64733106425,-440881.3925330518\" opacity=\"0.8\" /></g></g></svg>"
      ],
      "text/plain": [
       "<MULTILINESTRING ((143107.958 -441727.43, 143118.407 -441739.463, 143131.624...>"
      ]
     },
     "execution_count": 28,
     "metadata": {},
     "output_type": "execute_result"
    }
   ],
   "source": [
    "new_geom"
   ]
  },
  {
   "cell_type": "code",
   "execution_count": 29,
   "id": "2fa3c835-5fb3-48bd-a099-e063943a1068",
   "metadata": {},
   "outputs": [],
   "source": [
    "# geom.wkt"
   ]
  },
  {
   "cell_type": "code",
   "execution_count": 30,
   "id": "fda14a05-d0d4-4768-9063-9e115a52a367",
   "metadata": {},
   "outputs": [],
   "source": [
    "# new_geom.wkt"
   ]
  },
  {
   "cell_type": "code",
   "execution_count": 31,
   "id": "fd136876-14d5-4e85-a448-4ed1101889c0",
   "metadata": {},
   "outputs": [
    {
     "name": "stderr",
     "output_type": "stream",
     "text": [
      "/opt/conda/lib/python3.9/site-packages/geopandas/geodataframe.py:1543: SettingWithCopyWarning: \n",
      "A value is trying to be set on a copy of a slice from a DataFrame.\n",
      "Try using .loc[row_indexer,col_indexer] = value instead\n",
      "\n",
      "See the caveats in the documentation: https://pandas.pydata.org/pandas-docs/stable/user_guide/indexing.html#returning-a-view-versus-a-copy\n",
      "  super().__setitem__(key, value)\n"
     ]
    }
   ],
   "source": [
    "long.geometry = [new_geom]"
   ]
  },
  {
   "cell_type": "code",
   "execution_count": 32,
   "id": "c85e3ca0-f32a-43ff-b3d4-7c09c09a456a",
   "metadata": {},
   "outputs": [
    {
     "name": "stderr",
     "output_type": "stream",
     "text": [
      "/tmp/ipykernel_361/1845589243.py:1: FutureWarning: Currently, index_parts defaults to True, but in the future, it will default to False to be consistent with Pandas. Use `index_parts=True` to keep the current behavior and True/False to silence the warning.\n",
      "  exploded = long.explode()\n"
     ]
    }
   ],
   "source": [
    "exploded = long.explode()"
   ]
  },
  {
   "cell_type": "code",
   "execution_count": 34,
   "id": "a33dd638-dccc-4b36-b09b-b81de3c31084",
   "metadata": {
    "tags": []
   },
   "outputs": [],
   "source": [
    "#  note order remains from list order passed to MultiLineString constructor\n",
    "# exploded"
   ]
  },
  {
   "cell_type": "code",
   "execution_count": 35,
   "id": "c4611733-f871-4da3-85d1-3f5033716c91",
   "metadata": {},
   "outputs": [],
   "source": [
    "import numpy as np"
   ]
  },
  {
   "cell_type": "code",
   "execution_count": 36,
   "id": "173449e3-48cd-489c-b9da-dd2777457d7a",
   "metadata": {},
   "outputs": [],
   "source": [
    "def process_exploded(gdf):\n",
    "    '''\n",
    "    update required cols in exploded gdf\n",
    "    \n",
    "    stop_sequence: add decimal proportional to segment distance\n",
    "    segment_id: postfix _(int) per segment to maintain uniqueness\n",
    "    '''\n",
    "    gdf.length = gdf.geometry.apply(lambda x: x.length)\n",
    "    \n",
    "    min_stop = int(gdf.stop_sequence.min())\n",
    "    next_stop = int(gdf.next_stop_sequence.max())\n",
    "    stop_seq_chg = gdf.next_stop_sequence.max() - min_stop\n",
    "    \n",
    "    #  increment stop sequence proportional to distance traveled \n",
    "    seq_per_km = stop_seq_chg / gdf.length.sum() \n",
    "    seq_changes = gdf.length * seq_per_km\n",
    "    stop_sequences_scaled = np.flip(next_stop - np.flip(seq_changes).cumsum())\n",
    "    \n",
    "    gdf.stop_sequence = stop_sequences_scaled\n",
    "    \n",
    "    #  postfix to segment_id so that it remains unique\n",
    "    postfixes = np.arange(0, gdf.shape[0]).astype(str)\n",
    "    underscores = np.full(gdf.shape[0], '_')\n",
    "    postfixes = np.char.add(underscores, postfixes)\n",
    "    gdf.segment_id = gdf.segment_id + postfixes\n",
    "    \n",
    "    return(gdf)"
   ]
  },
  {
   "cell_type": "code",
   "execution_count": 37,
   "id": "60a09e07-9882-44f5-990d-e35c3d7b9b6b",
   "metadata": {},
   "outputs": [],
   "source": [
    "processed = process_exploded(exploded)"
   ]
  },
  {
   "cell_type": "code",
   "execution_count": 38,
   "id": "fc4e415c-435b-452d-ae0c-23c2260cd852",
   "metadata": {},
   "outputs": [],
   "source": [
    "from shared_utils.rt_utils import arrowize_segment"
   ]
  },
  {
   "cell_type": "code",
   "execution_count": 39,
   "id": "10ea37f3-d285-4988-a663-9f333f815fc9",
   "metadata": {},
   "outputs": [
    {
     "data": {
      "text/plain": [
       "\u001b[0;31mSignature:\u001b[0m \u001b[0marrowize_segment\u001b[0m\u001b[0;34m(\u001b[0m\u001b[0mline_geometry\u001b[0m\u001b[0;34m,\u001b[0m \u001b[0mbuffer_distance\u001b[0m\u001b[0;34m:\u001b[0m \u001b[0mint\u001b[0m \u001b[0;34m=\u001b[0m \u001b[0;36m20\u001b[0m\u001b[0;34m)\u001b[0m\u001b[0;34m\u001b[0m\u001b[0;34m\u001b[0m\u001b[0m\n",
       "\u001b[0;31mDocstring:\u001b[0m\n",
       "Given a linestring segment from a gtfs shape,\n",
       "buffer and clip to show direction of progression\n",
       "\u001b[0;31mFile:\u001b[0m      ~/data-analyses/_shared_utils/shared_utils/rt_utils.py\n",
       "\u001b[0;31mType:\u001b[0m      function"
      ]
     },
     "metadata": {},
     "output_type": "display_data"
    }
   ],
   "source": [
    "arrowize_segment?"
   ]
  },
  {
   "cell_type": "code",
   "execution_count": 40,
   "id": "a78f13ca-3f22-4e60-b3ec-9bc1c0a73c04",
   "metadata": {},
   "outputs": [],
   "source": [
    "processed.geometry = processed.geometry.apply(lambda x: arrowize_segment(x))"
   ]
  },
  {
   "cell_type": "code",
   "execution_count": 42,
   "id": "1003a058-4b1e-4aa8-aeba-d4a52fb12731",
   "metadata": {
    "tags": []
   },
   "outputs": [],
   "source": [
    "# processed"
   ]
  },
  {
   "cell_type": "code",
   "execution_count": 44,
   "id": "c13b133d-27ef-43e8-ad3a-ee803c0788c4",
   "metadata": {},
   "outputs": [],
   "source": [
    "# processed.explore()"
   ]
  },
  {
   "cell_type": "markdown",
   "id": "9cb8d0de-12fd-471d-95c3-bb258a334add",
   "metadata": {},
   "source": [
    "## Abstracting -- drop long geoms from overall, process as array of gdfs, merge?"
   ]
  },
  {
   "cell_type": "code",
   "execution_count": 45,
   "id": "ba047670-b2fc-4a41-a342-5ed9323ad94b",
   "metadata": {},
   "outputs": [],
   "source": [
    "shorts = (segs[segs['length'] < 1000]).copy()"
   ]
  },
  {
   "cell_type": "code",
   "execution_count": 46,
   "id": "bcb9dfe0-c8b9-474f-ad1f-3c5c14923452",
   "metadata": {},
   "outputs": [],
   "source": [
    "longs = (segs[segs['length'] > 1000]).copy()"
   ]
  },
  {
   "cell_type": "code",
   "execution_count": 47,
   "id": "112b7f03-1399-41a5-85e8-501717e31647",
   "metadata": {},
   "outputs": [
    {
     "data": {
      "text/plain": [
       "(177840, 13)"
      ]
     },
     "execution_count": 47,
     "metadata": {},
     "output_type": "execute_result"
    }
   ],
   "source": [
    "longs.shape"
   ]
  },
  {
   "cell_type": "code",
   "execution_count": 34,
   "id": "d5f71050-2201-4d95-b0cc-b539999e2039",
   "metadata": {},
   "outputs": [],
   "source": [
    "test_longs = longs.iloc[:1000,:]"
   ]
  },
  {
   "cell_type": "code",
   "execution_count": 35,
   "id": "425245ff-4c54-4992-be17-0f31520908e1",
   "metadata": {},
   "outputs": [
    {
     "data": {
      "text/html": [
       "<div>\n",
       "<style scoped>\n",
       "    .dataframe tbody tr th:only-of-type {\n",
       "        vertical-align: middle;\n",
       "    }\n",
       "\n",
       "    .dataframe tbody tr th {\n",
       "        vertical-align: top;\n",
       "    }\n",
       "\n",
       "    .dataframe thead th {\n",
       "        text-align: right;\n",
       "    }\n",
       "</style>\n",
       "<table border=\"1\" class=\"dataframe\">\n",
       "  <thead>\n",
       "    <tr style=\"text-align: right;\">\n",
       "      <th></th>\n",
       "      <th>trip_instance_key</th>\n",
       "      <th>shape_array_key</th>\n",
       "      <th>stop_id1</th>\n",
       "      <th>stop_sequence</th>\n",
       "      <th>geometry</th>\n",
       "      <th>stop_id2</th>\n",
       "      <th>segment_id</th>\n",
       "      <th>stop_pair</th>\n",
       "      <th>schedule_gtfs_dataset_key</th>\n",
       "      <th>route_id</th>\n",
       "      <th>direction_id</th>\n",
       "      <th>next_stop_sequence</th>\n",
       "      <th>length</th>\n",
       "    </tr>\n",
       "  </thead>\n",
       "  <tbody>\n",
       "    <tr>\n",
       "      <th>22</th>\n",
       "      <td>0000dbb743b258f707687f2dc14ad90f</td>\n",
       "      <td>37bb198ccd3af93e3b7f10bb7602faff</td>\n",
       "      <td>819</td>\n",
       "      <td>1672</td>\n",
       "      <td>LINESTRING (195533.932 -435807.899, 195532.071...</td>\n",
       "      <td>2304</td>\n",
       "      <td>819-2304-1</td>\n",
       "      <td>819__2304</td>\n",
       "      <td>f74424acf8c41e4c1e9fd42838c4875c</td>\n",
       "      <td>488</td>\n",
       "      <td>1.0</td>\n",
       "      <td>1959.0</td>\n",
       "      <td>1734.469963</td>\n",
       "    </tr>\n",
       "    <tr>\n",
       "      <th>78</th>\n",
       "      <td>09e32488392ad4c1684b0108f3bba8b3</td>\n",
       "      <td>37bb198ccd3af93e3b7f10bb7602faff</td>\n",
       "      <td>819</td>\n",
       "      <td>1532</td>\n",
       "      <td>LINESTRING (195533.932 -435807.899, 195532.071...</td>\n",
       "      <td>2304</td>\n",
       "      <td>819-2304-1</td>\n",
       "      <td>819__2304</td>\n",
       "      <td>f74424acf8c41e4c1e9fd42838c4875c</td>\n",
       "      <td>488</td>\n",
       "      <td>1.0</td>\n",
       "      <td>1767.0</td>\n",
       "      <td>1734.469963</td>\n",
       "    </tr>\n",
       "    <tr>\n",
       "      <th>134</th>\n",
       "      <td>0aaeb33101f4ac9ebb7851388c355825</td>\n",
       "      <td>37bb198ccd3af93e3b7f10bb7602faff</td>\n",
       "      <td>819</td>\n",
       "      <td>1672</td>\n",
       "      <td>LINESTRING (195533.932 -435807.899, 195532.071...</td>\n",
       "      <td>2304</td>\n",
       "      <td>819-2304-1</td>\n",
       "      <td>819__2304</td>\n",
       "      <td>f74424acf8c41e4c1e9fd42838c4875c</td>\n",
       "      <td>488</td>\n",
       "      <td>1.0</td>\n",
       "      <td>1959.0</td>\n",
       "      <td>1734.469963</td>\n",
       "    </tr>\n",
       "  </tbody>\n",
       "</table>\n",
       "</div>"
      ],
      "text/plain": [
       "                    trip_instance_key                   shape_array_key  \\\n",
       "22   0000dbb743b258f707687f2dc14ad90f  37bb198ccd3af93e3b7f10bb7602faff   \n",
       "78   09e32488392ad4c1684b0108f3bba8b3  37bb198ccd3af93e3b7f10bb7602faff   \n",
       "134  0aaeb33101f4ac9ebb7851388c355825  37bb198ccd3af93e3b7f10bb7602faff   \n",
       "\n",
       "    stop_id1  stop_sequence  \\\n",
       "22       819           1672   \n",
       "78       819           1532   \n",
       "134      819           1672   \n",
       "\n",
       "                                              geometry stop_id2  segment_id  \\\n",
       "22   LINESTRING (195533.932 -435807.899, 195532.071...     2304  819-2304-1   \n",
       "78   LINESTRING (195533.932 -435807.899, 195532.071...     2304  819-2304-1   \n",
       "134  LINESTRING (195533.932 -435807.899, 195532.071...     2304  819-2304-1   \n",
       "\n",
       "     stop_pair         schedule_gtfs_dataset_key route_id  direction_id  \\\n",
       "22   819__2304  f74424acf8c41e4c1e9fd42838c4875c      488           1.0   \n",
       "78   819__2304  f74424acf8c41e4c1e9fd42838c4875c      488           1.0   \n",
       "134  819__2304  f74424acf8c41e4c1e9fd42838c4875c      488           1.0   \n",
       "\n",
       "     next_stop_sequence       length  \n",
       "22               1959.0  1734.469963  \n",
       "78               1767.0  1734.469963  \n",
       "134              1959.0  1734.469963  "
      ]
     },
     "execution_count": 35,
     "metadata": {},
     "output_type": "execute_result"
    }
   ],
   "source": [
    "test_longs.head(3)"
   ]
  },
  {
   "cell_type": "markdown",
   "id": "90f76913-57fb-4af3-a330-95215b55eec2",
   "metadata": {},
   "source": [
    "### Rowwise apply and accumulate?"
   ]
  },
  {
   "cell_type": "code",
   "execution_count": 52,
   "id": "1f3bf3e2-9d83-4db0-bfb8-191f9991581e",
   "metadata": {},
   "outputs": [],
   "source": [
    "interpolated_longs = []\n",
    "\n",
    "def interpolate_segments(row):\n",
    "    '''\n",
    "    \n",
    "    '''\n",
    "    global interpolated_longs\n",
    "    new_geom = split_distance(row.geometry)\n",
    "\n",
    "    row.geometry = new_geom\n",
    "    #  back to gdf to use .explode()\n",
    "    row = (gpd.GeoDataFrame(row)\n",
    "           .transpose()\n",
    "           .set_geometry('geometry')\n",
    "           .set_crs(geography_utils.CA_NAD83Albers)\n",
    "          )\n",
    "    exploded = gpd.GeoDataFrame.explode(row, column='geometry', index_parts=False)\n",
    "    # return exploded\n",
    "    processed = process_exploded(exploded)\n",
    "    \n",
    "    interpolated_longs += [processed]\n",
    "    return"
   ]
  },
  {
   "cell_type": "code",
   "execution_count": 56,
   "id": "8007f5dd-2e83-4210-bebe-06faa5bcc5e0",
   "metadata": {},
   "outputs": [],
   "source": [
    "# test1 = test_longs.head(1)\n",
    "\n",
    "# x = test1.apply(interpolate_segments, axis=1)\n",
    "\n",
    "# gdf = pd.concat(interpolated_longs)\n",
    "\n",
    "# #  can't split at endpoints (no next stop seq, must calculate upstream instead of shift!)\n",
    "# #  drop for now to test\n",
    "# test_longs = test_longs >> filter(-_.next_stop_sequence.isna())\n",
    "\n",
    "# %%timeit\n",
    "\n",
    "# interpolated_longs = []\n",
    "\n",
    "# _ = test_longs.apply(interpolate_segments, axis=1)\n",
    "\n",
    "# (14 * 177) / 60 #  41min to interpolate all -- not entirely ideal\n",
    "\n",
    "# interpolated.shape\n",
    "\n",
    "# (interpolated >> distinct(_.segment_id, _keep_all=True)).shape"
   ]
  },
  {
   "cell_type": "markdown",
   "id": "f899c508-b508-472d-89f4-fe22a89fb561",
   "metadata": {},
   "source": [
    "## once per geom, join\n",
    "\n",
    "##  much of this compute is going to the same segments... better to do once and join to trips?\n",
    "\n",
    "* compute/join on `shape_array_key, segment_id`\n",
    "* accumulate geoms only in dict; lookup/replace geoms in full df, then use `gdf.explode()`"
   ]
  },
  {
   "cell_type": "code",
   "execution_count": 139,
   "id": "98206243-676b-4233-8b87-26d845918469",
   "metadata": {},
   "outputs": [
    {
     "data": {
      "text/html": [
       "<div>\n",
       "<style scoped>\n",
       "    .dataframe tbody tr th:only-of-type {\n",
       "        vertical-align: middle;\n",
       "    }\n",
       "\n",
       "    .dataframe tbody tr th {\n",
       "        vertical-align: top;\n",
       "    }\n",
       "\n",
       "    .dataframe thead th {\n",
       "        text-align: right;\n",
       "    }\n",
       "</style>\n",
       "<table border=\"1\" class=\"dataframe\">\n",
       "  <thead>\n",
       "    <tr style=\"text-align: right;\">\n",
       "      <th></th>\n",
       "      <th>trip_instance_key</th>\n",
       "      <th>shape_array_key</th>\n",
       "      <th>stop_id1</th>\n",
       "      <th>stop_sequence</th>\n",
       "      <th>geometry</th>\n",
       "      <th>stop_id2</th>\n",
       "      <th>segment_id</th>\n",
       "      <th>stop_pair</th>\n",
       "      <th>schedule_gtfs_dataset_key</th>\n",
       "      <th>route_id</th>\n",
       "      <th>direction_id</th>\n",
       "      <th>next_stop_sequence</th>\n",
       "      <th>length</th>\n",
       "    </tr>\n",
       "  </thead>\n",
       "  <tbody>\n",
       "    <tr>\n",
       "      <th>22</th>\n",
       "      <td>0000dbb743b258f707687f2dc14ad90f</td>\n",
       "      <td>37bb198ccd3af93e3b7f10bb7602faff</td>\n",
       "      <td>819</td>\n",
       "      <td>1672</td>\n",
       "      <td>LINESTRING (195533.932 -435807.899, 195532.071...</td>\n",
       "      <td>2304</td>\n",
       "      <td>819-2304-1</td>\n",
       "      <td>819__2304</td>\n",
       "      <td>f74424acf8c41e4c1e9fd42838c4875c</td>\n",
       "      <td>488</td>\n",
       "      <td>1.0</td>\n",
       "      <td>1959.0</td>\n",
       "      <td>1734.469963</td>\n",
       "    </tr>\n",
       "  </tbody>\n",
       "</table>\n",
       "</div>"
      ],
      "text/plain": [
       "                   trip_instance_key                   shape_array_key  \\\n",
       "22  0000dbb743b258f707687f2dc14ad90f  37bb198ccd3af93e3b7f10bb7602faff   \n",
       "\n",
       "   stop_id1  stop_sequence                                           geometry  \\\n",
       "22      819           1672  LINESTRING (195533.932 -435807.899, 195532.071...   \n",
       "\n",
       "   stop_id2  segment_id  stop_pair         schedule_gtfs_dataset_key route_id  \\\n",
       "22     2304  819-2304-1  819__2304  f74424acf8c41e4c1e9fd42838c4875c      488   \n",
       "\n",
       "    direction_id  next_stop_sequence       length  \n",
       "22           1.0              1959.0  1734.469963  "
      ]
     },
     "execution_count": 139,
     "metadata": {},
     "output_type": "execute_result"
    }
   ],
   "source": [
    "longs.head(1)"
   ]
  },
  {
   "cell_type": "code",
   "execution_count": 49,
   "id": "bb3b2fd0-16eb-45db-891e-a5b85e48701e",
   "metadata": {},
   "outputs": [],
   "source": [
    "to_interpolate = (longs >> distinct(_.shape_array_key, _.segment_id, _keep_all=True)\n",
    "                     >> filter(-_.next_stop_sequence.isna()) #  fix upstream (include final next seq...)\n",
    "                 )"
   ]
  },
  {
   "cell_type": "code",
   "execution_count": 54,
   "id": "c0b8d61c-3c27-44a5-888c-33277c2c8650",
   "metadata": {},
   "outputs": [
    {
     "data": {
      "text/html": [
       "<div>\n",
       "<style scoped>\n",
       "    .dataframe tbody tr th:only-of-type {\n",
       "        vertical-align: middle;\n",
       "    }\n",
       "\n",
       "    .dataframe tbody tr th {\n",
       "        vertical-align: top;\n",
       "    }\n",
       "\n",
       "    .dataframe thead th {\n",
       "        text-align: right;\n",
       "    }\n",
       "</style>\n",
       "<table border=\"1\" class=\"dataframe\">\n",
       "  <thead>\n",
       "    <tr style=\"text-align: right;\">\n",
       "      <th></th>\n",
       "      <th>trip_instance_key</th>\n",
       "      <th>shape_array_key</th>\n",
       "      <th>stop_id1</th>\n",
       "      <th>stop_sequence</th>\n",
       "      <th>geometry</th>\n",
       "      <th>stop_id2</th>\n",
       "      <th>segment_id</th>\n",
       "      <th>stop_pair</th>\n",
       "      <th>schedule_gtfs_dataset_key</th>\n",
       "      <th>route_id</th>\n",
       "      <th>direction_id</th>\n",
       "      <th>next_stop_sequence</th>\n",
       "      <th>length</th>\n",
       "    </tr>\n",
       "  </thead>\n",
       "  <tbody>\n",
       "    <tr>\n",
       "      <th>0</th>\n",
       "      <td>0000dbb743b258f707687f2dc14ad90f</td>\n",
       "      <td>37bb198ccd3af93e3b7f10bb7602faff</td>\n",
       "      <td>819</td>\n",
       "      <td>1672</td>\n",
       "      <td>LINESTRING (195533.932 -435807.899, 195532.071...</td>\n",
       "      <td>2304</td>\n",
       "      <td>819-2304-1</td>\n",
       "      <td>819__2304</td>\n",
       "      <td>f74424acf8c41e4c1e9fd42838c4875c</td>\n",
       "      <td>488</td>\n",
       "      <td>1.0</td>\n",
       "      <td>1959.0</td>\n",
       "      <td>1734.469963</td>\n",
       "    </tr>\n",
       "  </tbody>\n",
       "</table>\n",
       "</div>"
      ],
      "text/plain": [
       "                  trip_instance_key                   shape_array_key  \\\n",
       "0  0000dbb743b258f707687f2dc14ad90f  37bb198ccd3af93e3b7f10bb7602faff   \n",
       "\n",
       "  stop_id1  stop_sequence                                           geometry  \\\n",
       "0      819           1672  LINESTRING (195533.932 -435807.899, 195532.071...   \n",
       "\n",
       "  stop_id2  segment_id  stop_pair         schedule_gtfs_dataset_key route_id  \\\n",
       "0     2304  819-2304-1  819__2304  f74424acf8c41e4c1e9fd42838c4875c      488   \n",
       "\n",
       "   direction_id  next_stop_sequence       length  \n",
       "0           1.0              1959.0  1734.469963  "
      ]
     },
     "execution_count": 54,
     "metadata": {},
     "output_type": "execute_result"
    }
   ],
   "source": [
    "to_interpolate >> head(1)"
   ]
  },
  {
   "cell_type": "code",
   "execution_count": 53,
   "id": "c7af0e87-941c-4542-8955-1e45eff3f805",
   "metadata": {},
   "outputs": [
    {
     "name": "stdout",
     "output_type": "stream",
     "text": [
      "CPU times: user 3min 51s, sys: 5.01 s, total: 3min 56s\n",
      "Wall time: 3min 58s\n"
     ]
    }
   ],
   "source": [
    "%%time\n",
    "\n",
    "interpolated_longs = []\n",
    "\n",
    "_ = to_interpolate.apply(interpolate_segments, axis=1)"
   ]
  },
  {
   "cell_type": "code",
   "execution_count": 55,
   "id": "11817c00-4d3b-43b4-bb08-eda917712f7c",
   "metadata": {},
   "outputs": [],
   "source": [
    "interpolated = pd.concat(interpolated_longs)\n",
    "interpolated.geometry = interpolated.geometry.apply(lambda x: arrowize_segment(x))"
   ]
  },
  {
   "cell_type": "code",
   "execution_count": 59,
   "id": "e9f97bab-634c-4567-b2c1-9efb396347e1",
   "metadata": {},
   "outputs": [
    {
     "data": {
      "text/plain": [
       "(56538, 13)"
      ]
     },
     "execution_count": 59,
     "metadata": {},
     "output_type": "execute_result"
    }
   ],
   "source": [
    "interpolated.shape"
   ]
  },
  {
   "cell_type": "code",
   "execution_count": 62,
   "id": "c07b473a-5db1-4307-98bb-f43e99425855",
   "metadata": {},
   "outputs": [],
   "source": [
    "# (interpolated.iloc[:10000,:]).explore()"
   ]
  },
  {
   "cell_type": "code",
   "execution_count": null,
   "id": "f88049ae-4614-496c-a0bb-c618dff460ab",
   "metadata": {},
   "outputs": [],
   "source": []
  }
 ],
 "metadata": {
  "kernelspec": {
   "display_name": "Python 3 (ipykernel)",
   "language": "python",
   "name": "python3"
  },
  "language_info": {
   "codemirror_mode": {
    "name": "ipython",
    "version": 3
   },
   "file_extension": ".py",
   "mimetype": "text/x-python",
   "name": "python",
   "nbconvert_exporter": "python",
   "pygments_lexer": "ipython3",
   "version": "3.9.13"
  },
  "widgets": {
   "application/vnd.jupyter.widget-state+json": {
    "state": {},
    "version_major": 2,
    "version_minor": 0
   }
  }
 },
 "nbformat": 4,
 "nbformat_minor": 5
}
