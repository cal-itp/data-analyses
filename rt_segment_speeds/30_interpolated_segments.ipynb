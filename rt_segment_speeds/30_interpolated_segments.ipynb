{
 "cells": [
  {
   "cell_type": "code",
   "execution_count": null,
   "id": "b61fc969-d940-4f3d-97d3-dd666c02bf2e",
   "metadata": {
    "tags": []
   },
   "outputs": [],
   "source": [
    "import os\n",
    "os.environ[\"CALITP_BQ_MAX_BYTES\"] = str(800_000_000_000)\n",
    "\n",
    "import pandas as pd\n",
    "import geopandas as gpd\n",
    "\n",
    "import dask.dataframe as dd\n",
    "\n",
    "from segment_speed_utils import helpers\n",
    "from segment_speed_utils.project_vars import SEGMENT_GCS, analysis_date\n",
    "from shared_utils.rt_utils import arrowize_segment\n",
    "from shared_utils import gtfs_utils_v2\n",
    "from calitp_data_analysis import geography_utils\n",
    "from calitp_data_analysis.tables import tbls\n",
    "\n",
    "\n",
    "import numpy as np\n",
    "import shapely\n",
    "from siuba import *"
   ]
  },
  {
   "cell_type": "markdown",
   "id": "bd52224f-d256-47da-b7db-a9436e87ee0d",
   "metadata": {},
   "source": [
    "# Add interpolated segments to pipeline\n",
    "\n",
    "* Additional detail between widely spaced stops is more useful for speed analysis"
   ]
  },
  {
   "cell_type": "markdown",
   "id": "caba4d72-7e58-4abc-88fa-83425df20a14",
   "metadata": {},
   "source": [
    "## Check existing segments"
   ]
  },
  {
   "cell_type": "code",
   "execution_count": null,
   "id": "b0a70df9-f929-46c3-8082-7a4e9030700f",
   "metadata": {},
   "outputs": [],
   "source": [
    "path = 'gs://calitp-analytics-data/data-analyses/rt_segment_speeds/segment_options/stop_segments_2024-03-13.parquet'"
   ]
  },
  {
   "cell_type": "code",
   "execution_count": null,
   "id": "46158cda-fccb-40e7-b322-46ef22de46b9",
   "metadata": {},
   "outputs": [],
   "source": [
    "# read via geopandas so that geometry stays intact\n",
    "segs = gpd.read_parquet(path)"
   ]
  },
  {
   "cell_type": "code",
   "execution_count": null,
   "id": "439cc654-8e02-4804-9692-d7b9395104ea",
   "metadata": {},
   "outputs": [],
   "source": [
    "# segs >> head(3)"
   ]
  },
  {
   "cell_type": "code",
   "execution_count": null,
   "id": "e75fe998-7cb1-40c2-a89e-6a22e893e42c",
   "metadata": {},
   "outputs": [],
   "source": [
    "#  Less than 6% of segments need to be interpolated...\n",
    "segs.length.quantile(.94)"
   ]
  },
  {
   "cell_type": "code",
   "execution_count": null,
   "id": "149c5692-84bf-40f1-b5d8-55b122e13439",
   "metadata": {},
   "outputs": [],
   "source": [
    "# segs >> count(_.segment_id) >> arrange(-_.n)"
   ]
  },
  {
   "cell_type": "markdown",
   "id": "f6b1e941-11d5-474a-9250-b5b47fb6c49d",
   "metadata": {},
   "source": [
    "# Additional Columns Required\n",
    "\n",
    "Should probably happen upstream in `cut_stop_segments.py`, related scripts...\n",
    "\n",
    "* `length`: float, `geometry.length`\n",
    "* `next_stop_sequence`: lead of `stop_sequence`, should include final stop seq (final stop seq unavailable here since shifting from existing df...)\n",
    "    * alternatively, rename `stop_sequence` -> `stop_sequence1` and add `stop_sequence2` (consistent with existing `stop_id1` and `stop_id2`)"
   ]
  },
  {
   "cell_type": "markdown",
   "id": "d624a026-968f-49b2-b6e6-ad38811fa924",
   "metadata": {
    "tags": []
   },
   "source": [
    "## Adding these after the fact for testing..."
   ]
  },
  {
   "cell_type": "code",
   "execution_count": null,
   "id": "5dd7612b-3922-42ca-bd73-84b923099f6f",
   "metadata": {},
   "outputs": [],
   "source": [
    "# segs_ddf = dd.from_pandas(segs, npartitions=50)\n",
    "\n",
    "# segs_ddf = segs_ddf.assign(length=lambda x: x.geometry.length)\n",
    "\n",
    "# next_sequence_ddf = segs_ddf[['trip_instance_key', 'stop_sequence']].groupby('trip_instance_key').shift(-1)\n",
    "# next_sequence_ddf = next_sequence_ddf.rename(columns={'stop_sequence': 'next_stop_sequence'})\n",
    "\n",
    "# #  note this relies on the index\n",
    "# segs_ddf = segs_ddf.join(next_sequence_ddf)\n",
    "\n",
    "# !mkdir test_segs\n",
    "\n",
    "# segs_ddf[['next_stop_sequence', 'length']].to_parquet('test_segs/')\n",
    "\n",
    "# new_cols = segs_ddf.compute()\n",
    "\n",
    "# segs_ddf = dd.read_parquet('test_segs/')"
   ]
  },
  {
   "cell_type": "code",
   "execution_count": null,
   "id": "83c10d05-4965-40de-b041-b27aa5fb4c91",
   "metadata": {},
   "outputs": [],
   "source": [
    "# segs_ddf"
   ]
  },
  {
   "cell_type": "code",
   "execution_count": null,
   "id": "4cd2b38e-18c2-4c81-9bea-e2770f1d4588",
   "metadata": {},
   "outputs": [],
   "source": [
    "#  restart kernel/seperate script"
   ]
  },
  {
   "cell_type": "code",
   "execution_count": null,
   "id": "f7082595-cd7b-4865-9da7-6b71ebea9af7",
   "metadata": {},
   "outputs": [],
   "source": [
    "# segs = segs.join(segs_ddf.compute())"
   ]
  },
  {
   "cell_type": "code",
   "execution_count": null,
   "id": "b3b5f759-9f08-415e-99c7-390a4b308cbd",
   "metadata": {},
   "outputs": [],
   "source": [
    "# segs.to_parquet('test_interpolated_segs.parquet')"
   ]
  },
  {
   "cell_type": "code",
   "execution_count": null,
   "id": "f42cd425-4512-4f4d-b9a3-fdeb8493d009",
   "metadata": {},
   "outputs": [],
   "source": [
    "segs = gpd.read_parquet('test_interpolated_segs.parquet')"
   ]
  },
  {
   "cell_type": "markdown",
   "id": "8c9ba88b-27a4-4288-88ce-f368d1507ba3",
   "metadata": {
    "tags": []
   },
   "source": [
    "## Find BBBR10"
   ]
  },
  {
   "cell_type": "code",
   "execution_count": null,
   "id": "b892f6ea-67d0-4295-b014-10532d2408b9",
   "metadata": {},
   "outputs": [],
   "source": [
    "bbb = gtfs_utils_v2.schedule_daily_feed_to_gtfs_dataset_name('2024-03-13') >> filter(_.name.str.contains('Big Blue'))"
   ]
  },
  {
   "cell_type": "code",
   "execution_count": null,
   "id": "1fc3d7d1-8b0d-4d2b-82d6-cbb741ae4ff1",
   "metadata": {},
   "outputs": [],
   "source": [
    "bbb"
   ]
  },
  {
   "cell_type": "code",
   "execution_count": null,
   "id": "9b9963d4-9a87-46de-9c62-cf70d97c7a49",
   "metadata": {
    "tags": []
   },
   "outputs": [],
   "source": [
    "str10 = tbls.mart_gtfs.dim_stop_times() >> filter(_.feed_key == '4f9888472a8dad0f66bdbbd002312789', _.trip_id == '919600') >> collect()"
   ]
  },
  {
   "cell_type": "code",
   "execution_count": null,
   "id": "fd382312-3069-44a5-96de-3e25a29d40fd",
   "metadata": {},
   "outputs": [],
   "source": [
    "# segs >> filter(_.trip_instance_key == 'd98e5cc1fb62e6e5ed0030934ef8a396') >> arrange(_.stop_sequence)"
   ]
  },
  {
   "cell_type": "code",
   "execution_count": null,
   "id": "8282707d-d5f3-465a-8c04-0cf161fb04cb",
   "metadata": {
    "tags": []
   },
   "outputs": [],
   "source": [
    "str10 >> select(_.trip_id, _.stop_id, _.stop_sequence, _.arrival_time, _.departure_time) >> arrange(_.stop_sequence) >> head (3)"
   ]
  },
  {
   "cell_type": "code",
   "execution_count": null,
   "id": "579807e7-0602-41a1-a1dc-e7d4d64c3c0b",
   "metadata": {},
   "outputs": [],
   "source": [
    "bbbr10 = (tbls.mart_gtfs.fct_scheduled_trips()\n",
    " >> filter(_.gtfs_dataset_key.isin(bbb.gtfs_dataset_key),\n",
    "          _.route_short_name.str.contains('R10'),\n",
    "          _.service_date == '2024-03-13')\n",
    ") >> collect()"
   ]
  },
  {
   "cell_type": "code",
   "execution_count": null,
   "id": "55ce4e1a-205d-4f5a-baf0-d6adac265942",
   "metadata": {},
   "outputs": [],
   "source": [
    "# bbbr10"
   ]
  },
  {
   "cell_type": "code",
   "execution_count": null,
   "id": "46cc6303-2103-46d8-970a-d0a08b4f5bdd",
   "metadata": {},
   "outputs": [],
   "source": [
    "# bbbr10.trip_id"
   ]
  },
  {
   "cell_type": "markdown",
   "id": "91721d4c-7ff8-4606-bcee-2b421694f48a",
   "metadata": {},
   "source": [
    "## Work out function"
   ]
  },
  {
   "cell_type": "code",
   "execution_count": null,
   "id": "c97b6aaa-8e28-4e06-b209-4051aabf834f",
   "metadata": {},
   "outputs": [],
   "source": [
    "test = segs >> filter(_.trip_instance_key == '3505bf6a20e8d29e83e545784a421bc7')"
   ]
  },
  {
   "cell_type": "code",
   "execution_count": null,
   "id": "ed74402c-0d2b-42bb-9fb8-7e926e6f15c5",
   "metadata": {},
   "outputs": [],
   "source": [
    "long = test >> filter(_.stop_sequence == 18)"
   ]
  },
  {
   "cell_type": "code",
   "execution_count": null,
   "id": "bacc740d-3192-4283-a39d-c0fa140df9ec",
   "metadata": {},
   "outputs": [],
   "source": [
    "geom = long.geometry.iloc[0]"
   ]
  },
  {
   "cell_type": "code",
   "execution_count": null,
   "id": "1a3481ae-9b85-4c95-94a7-a8215796259e",
   "metadata": {},
   "outputs": [],
   "source": [
    "geom.length"
   ]
  },
  {
   "cell_type": "code",
   "execution_count": null,
   "id": "ccf6bc5f-4e95-480f-acf1-998e924dddf6",
   "metadata": {},
   "outputs": [],
   "source": [
    "km_segs = geom.length // 1000\n",
    "km_segs"
   ]
  },
  {
   "cell_type": "code",
   "execution_count": null,
   "id": "3e86bf11-82b7-44c2-aa58-32031c7cbbe7",
   "metadata": {},
   "outputs": [],
   "source": [
    "def split_distance(geom, dist=1000):\n",
    "    '''\n",
    "    geom: shapely.LineString\n",
    "    \n",
    "    returns a shapely.MultiLineString split every dist (meters)\n",
    "    '''\n",
    "    \n",
    "    split_segs = geom.length // dist\n",
    "    substrings = []\n",
    "    for i in range(0, int(split_segs)):\n",
    "        substrings += [shapely.ops.substring(geom, i * dist, (i+1) * dist)]\n",
    "    substrings += [shapely.ops.substring(geom, split_segs * dist, geom.length)]\n",
    "    new_geom = shapely.MultiLineString(substrings)\n",
    "    \n",
    "    return new_geom"
   ]
  },
  {
   "cell_type": "code",
   "execution_count": null,
   "id": "886c6d18-db65-405b-8eb0-db45a4b80945",
   "metadata": {},
   "outputs": [],
   "source": [
    "new_geom = split_distance(geom)"
   ]
  },
  {
   "cell_type": "code",
   "execution_count": null,
   "id": "6fdc3e6c-58f4-4725-9c9d-c229db6f7dfd",
   "metadata": {},
   "outputs": [],
   "source": [
    "geom"
   ]
  },
  {
   "cell_type": "code",
   "execution_count": null,
   "id": "f6a3b041-6ea1-4c1c-8d01-d1a20bc2b1a2",
   "metadata": {},
   "outputs": [],
   "source": [
    "new_geom"
   ]
  },
  {
   "cell_type": "code",
   "execution_count": null,
   "id": "2fa3c835-5fb3-48bd-a099-e063943a1068",
   "metadata": {},
   "outputs": [],
   "source": [
    "# geom.wkt"
   ]
  },
  {
   "cell_type": "code",
   "execution_count": null,
   "id": "fda14a05-d0d4-4768-9063-9e115a52a367",
   "metadata": {},
   "outputs": [],
   "source": [
    "# new_geom.wkt"
   ]
  },
  {
   "cell_type": "code",
   "execution_count": null,
   "id": "fd136876-14d5-4e85-a448-4ed1101889c0",
   "metadata": {},
   "outputs": [],
   "source": [
    "long.geometry = [new_geom]"
   ]
  },
  {
   "cell_type": "code",
   "execution_count": null,
   "id": "c85e3ca0-f32a-43ff-b3d4-7c09c09a456a",
   "metadata": {},
   "outputs": [],
   "source": [
    "exploded = long.explode()"
   ]
  },
  {
   "cell_type": "code",
   "execution_count": null,
   "id": "a33dd638-dccc-4b36-b09b-b81de3c31084",
   "metadata": {
    "tags": []
   },
   "outputs": [],
   "source": [
    "#  note order remains from list order passed to MultiLineString constructor\n",
    "exploded.head(2)"
   ]
  },
  {
   "cell_type": "code",
   "execution_count": null,
   "id": "173449e3-48cd-489c-b9da-dd2777457d7a",
   "metadata": {},
   "outputs": [],
   "source": [
    "def process_exploded(gdf):\n",
    "    #  TODO assert gdf is grouped (to all same trip x original seg), handle sorting here!\n",
    "    '''\n",
    "    update required cols in exploded gdf\n",
    "    \n",
    "    stop_sequence: increment proportional to segment distance within arbitrary stop sequence increment\n",
    "    segment_id: postfix _(int) per segment to maintain uniqueness\n",
    "    '''\n",
    "    gdf['length'] = gdf.geometry.apply(lambda x: x.length) #  maybe move this to keep geopandas out of the rest?\n",
    "    \n",
    "    min_stop = int(gdf.stop_sequence.min())\n",
    "    next_stop = int(gdf.next_stop_sequence.max())\n",
    "    stop_seq_chg = gdf.next_stop_sequence.max() - min_stop\n",
    "    \n",
    "    #  increment stop sequence proportional to distance traveled \n",
    "    seq_per_km = stop_seq_chg / gdf.length.sum() \n",
    "    seq_changes = gdf.length * seq_per_km\n",
    "    stop_sequences_scaled = np.flip(next_stop - np.flip(seq_changes).cumsum())\n",
    "    \n",
    "    gdf['stop_sequence'] = stop_sequences_scaled\n",
    "    \n",
    "    #  postfix to segment_id so that it remains unique\n",
    "    postfixes = np.arange(0, gdf.shape[0]).astype(str)\n",
    "    underscores = np.full(gdf.shape[0], '_')\n",
    "    postfixes = np.char.add(underscores, postfixes)\n",
    "    gdf['segment_id'] = gdf.segment_id + postfixes\n",
    "    \n",
    "    return(gdf)"
   ]
  },
  {
   "cell_type": "code",
   "execution_count": null,
   "id": "60a09e07-9882-44f5-990d-e35c3d7b9b6b",
   "metadata": {},
   "outputs": [],
   "source": [
    "processed = process_exploded(exploded)"
   ]
  },
  {
   "cell_type": "code",
   "execution_count": null,
   "id": "10ea37f3-d285-4988-a663-9f333f815fc9",
   "metadata": {},
   "outputs": [],
   "source": [
    "arrowize_segment?"
   ]
  },
  {
   "cell_type": "code",
   "execution_count": null,
   "id": "a78f13ca-3f22-4e60-b3ec-9bc1c0a73c04",
   "metadata": {},
   "outputs": [],
   "source": [
    "processed.geometry = processed.geometry.apply(lambda x: arrowize_segment(x))"
   ]
  },
  {
   "cell_type": "code",
   "execution_count": null,
   "id": "1003a058-4b1e-4aa8-aeba-d4a52fb12731",
   "metadata": {
    "tags": []
   },
   "outputs": [],
   "source": [
    "processed.head(3)"
   ]
  },
  {
   "cell_type": "code",
   "execution_count": null,
   "id": "c13b133d-27ef-43e8-ad3a-ee803c0788c4",
   "metadata": {},
   "outputs": [],
   "source": [
    "# processed.explore()"
   ]
  },
  {
   "cell_type": "markdown",
   "id": "9cb8d0de-12fd-471d-95c3-bb258a334add",
   "metadata": {},
   "source": [
    "## Abstracting -- drop long geoms from overall, process as array of gdfs, merge?"
   ]
  },
  {
   "cell_type": "code",
   "execution_count": null,
   "id": "ba047670-b2fc-4a41-a342-5ed9323ad94b",
   "metadata": {},
   "outputs": [],
   "source": [
    "shorts = (segs[segs['length'] < 1000]).copy()"
   ]
  },
  {
   "cell_type": "code",
   "execution_count": null,
   "id": "bcb9dfe0-c8b9-474f-ad1f-3c5c14923452",
   "metadata": {},
   "outputs": [],
   "source": [
    "longs = (segs[segs['length'] > 1000]).copy()"
   ]
  },
  {
   "cell_type": "code",
   "execution_count": null,
   "id": "8f6d0468-d15e-4663-965a-095d8dcad12c",
   "metadata": {},
   "outputs": [],
   "source": [
    "longs = longs >> filter(-_.next_stop_sequence.isna()) #  fix upstream (include final next seq...)"
   ]
  },
  {
   "cell_type": "code",
   "execution_count": null,
   "id": "112b7f03-1399-41a5-85e8-501717e31647",
   "metadata": {},
   "outputs": [],
   "source": [
    "longs.shape"
   ]
  },
  {
   "cell_type": "code",
   "execution_count": null,
   "id": "d5f71050-2201-4d95-b0cc-b539999e2039",
   "metadata": {},
   "outputs": [],
   "source": [
    "test_longs = longs.iloc[:1000,:]"
   ]
  },
  {
   "cell_type": "code",
   "execution_count": null,
   "id": "425245ff-4c54-4992-be17-0f31520908e1",
   "metadata": {},
   "outputs": [],
   "source": [
    "test_longs.head(3)"
   ]
  },
  {
   "cell_type": "markdown",
   "id": "90f76913-57fb-4af3-a330-95215b55eec2",
   "metadata": {},
   "source": [
    "## Rowwise apply and accumulate?\n",
    "\n",
    "* row-wise makes sense (each row has the information we need to split into n rows of interpolated segments)"
   ]
  },
  {
   "cell_type": "code",
   "execution_count": null,
   "id": "1f3bf3e2-9d83-4db0-bfb8-191f9991581e",
   "metadata": {},
   "outputs": [],
   "source": [
    "def interpolate_segments(row):\n",
    "    '''\n",
    "    wrapper function -- rowwise apply to a gdf of \"long\" (>1000m) segments\n",
    "    '''\n",
    "    global interpolated_longs\n",
    "    new_geom = split_distance(row.geometry)\n",
    "\n",
    "    row.geometry = new_geom\n",
    "    #  back to gdf to use .explode()\n",
    "    row = (gpd.GeoDataFrame(row)\n",
    "           .transpose()\n",
    "           .set_geometry('geometry')\n",
    "           .set_crs(geography_utils.CA_NAD83Albers)\n",
    "          )\n",
    "    exploded = gpd.GeoDataFrame.explode(row, column='geometry', index_parts=False)\n",
    "    # return exploded\n",
    "    processed = process_exploded(exploded)\n",
    "    \n",
    "    interpolated_longs += [processed]\n",
    "    return"
   ]
  },
  {
   "cell_type": "code",
   "execution_count": null,
   "id": "8007f5dd-2e83-4210-bebe-06faa5bcc5e0",
   "metadata": {},
   "outputs": [],
   "source": [
    "# test1 = test_longs.head(1)\n",
    "\n",
    "# x = test1.apply(interpolate_segments, axis=1)\n",
    "\n",
    "# gdf = pd.concat(interpolated_longs)\n",
    "\n",
    "# #  can't split at endpoints (no next stop seq, must calculate upstream instead of shift!)\n",
    "# #  drop for now to test\n",
    "# test_longs = test_longs >> filter(-_.next_stop_sequence.isna())\n",
    "\n",
    "# %%timeit\n",
    "\n",
    "# interpolated_longs = []\n",
    "\n",
    "# _ = test_longs.apply(interpolate_segments, axis=1)\n",
    "\n",
    "# (14 * 177) / 60 #  41min to interpolate all -- not entirely ideal\n",
    "\n",
    "# (interpolated >> distinct(_.segment_id, _keep_all=True)).shape"
   ]
  },
  {
   "cell_type": "code",
   "execution_count": null,
   "id": "11817c00-4d3b-43b4-bb08-eda917712f7c",
   "metadata": {},
   "outputs": [],
   "source": [
    "# interpolated = pd.concat(interpolated_longs)"
   ]
  },
  {
   "cell_type": "markdown",
   "id": "f899c508-b508-472d-89f4-fe22a89fb561",
   "metadata": {},
   "source": [
    "##  much of this compute is going to the same segments... better to do once and join to trips?\n",
    "\n",
    "* compute/join on `shape_array_key, segment_id`\n",
    "* accumulate geoms only in dict; lookup/replace geoms in full df, then use `gdf.explode()`?\n",
    "    * elegantly deal with repeated columns...\n",
    "    * refactor process_exploded to go here, could groupby/dask that"
   ]
  },
  {
   "cell_type": "code",
   "execution_count": null,
   "id": "98206243-676b-4233-8b87-26d845918469",
   "metadata": {},
   "outputs": [],
   "source": [
    "longs.head(1)"
   ]
  },
  {
   "cell_type": "code",
   "execution_count": null,
   "id": "095240b9-1137-480c-82ab-1b3b5f00ee8d",
   "metadata": {},
   "outputs": [],
   "source": [
    "#  segments missing from interpolation because we're missing the last stop sequence in testing\n",
    "#  should be fixed in prod!\n",
    "\n",
    "# (longs >> distinct(_.shape_array_key, _.segment_id, _keep_all=True)\n",
    "#                      >> filter(_.next_stop_sequence.isna())).explore()"
   ]
  },
  {
   "cell_type": "code",
   "execution_count": null,
   "id": "26dba8e0-bc65-424f-9c04-65b84fd84571",
   "metadata": {},
   "outputs": [],
   "source": [
    "def store_new_geoms(row):\n",
    "    '''\n",
    "    wrapper function -- rowwise apply to a gdf of \"long\" (>1000m) segments\n",
    "    \n",
    "    accumulate results in a dict: segment_geoms (init empty dict outside function)\n",
    "    '''\n",
    "    global segment_geoms\n",
    "    new_geom = split_distance(row.geometry)\n",
    "    # row.geometry = new_geom\n",
    "    \n",
    "    geom_key = (row.shape_array_key, row.segment_id)\n",
    "    segment_geoms[geom_key] = new_geom\n",
    "    #  TODO store key:geom in dict/something fast...\n",
    "    \n",
    "    return"
   ]
  },
  {
   "cell_type": "code",
   "execution_count": null,
   "id": "8603a84a-cc7b-4f58-b229-6417d8014ed1",
   "metadata": {},
   "outputs": [],
   "source": [
    "def lookup_geom(row):\n",
    "    '''\n",
    "    after running store_new_geoms on unique segments, apply this to \n",
    "    a gdf of all segments to lookup new geom by shape_array_key, segment_id\n",
    "    '''\n",
    "    row.geometry = segment_geoms[(row.shape_array_key, row.segment_id)]\n",
    "    return row"
   ]
  },
  {
   "cell_type": "code",
   "execution_count": null,
   "id": "bb3b2fd0-16eb-45db-891e-a5b85e48701e",
   "metadata": {},
   "outputs": [],
   "source": [
    "to_interpolate = (longs >> distinct(_.shape_array_key, _.segment_id, _keep_all=True)\n",
    "                 )"
   ]
  },
  {
   "cell_type": "code",
   "execution_count": null,
   "id": "c0b8d61c-3c27-44a5-888c-33277c2c8650",
   "metadata": {},
   "outputs": [],
   "source": [
    "to_interpolate >> head(1)"
   ]
  },
  {
   "cell_type": "code",
   "execution_count": null,
   "id": "577f76c8-2910-4fab-8edb-c6f8dfb0c64e",
   "metadata": {},
   "outputs": [],
   "source": [
    "%%time\n",
    "\n",
    "segment_geoms = {}\n",
    "\n",
    "_ = to_interpolate.apply(store_new_geoms, axis=1)"
   ]
  },
  {
   "cell_type": "code",
   "execution_count": null,
   "id": "cb53c1dd-a736-4113-a41d-24398fd95f28",
   "metadata": {
    "tags": []
   },
   "outputs": [],
   "source": [
    "%%time\n",
    "#  now, add geometries to long list...\n",
    "interpolated = longs.apply(lookup_geom, axis = 1)"
   ]
  },
  {
   "cell_type": "code",
   "execution_count": null,
   "id": "58a26367-7ee0-41ba-a860-ec768e09163d",
   "metadata": {},
   "outputs": [],
   "source": [
    "interpolated = interpolated.explode(index_parts=False).reset_index(drop=True)"
   ]
  },
  {
   "cell_type": "code",
   "execution_count": null,
   "id": "19964085-d53d-4f1b-868d-0e406cca4cf4",
   "metadata": {},
   "outputs": [],
   "source": [
    "interpolated"
   ]
  },
  {
   "cell_type": "code",
   "execution_count": null,
   "id": "186654d3-5132-42b2-8c72-7c2f7252fef5",
   "metadata": {},
   "outputs": [],
   "source": [
    "interpolated.shape"
   ]
  },
  {
   "cell_type": "code",
   "execution_count": null,
   "id": "860b037f-7076-4b49-b9ee-8ccf4af352df",
   "metadata": {},
   "outputs": [],
   "source": [
    "recombined = pd.concat([shorts, interpolated]).reset_index(drop=True)"
   ]
  },
  {
   "cell_type": "code",
   "execution_count": null,
   "id": "d6970871-2e68-42d9-99e1-509ccbd26b78",
   "metadata": {},
   "outputs": [],
   "source": [
    "recombined.shape"
   ]
  },
  {
   "cell_type": "markdown",
   "id": "7548823a-e980-4c61-93df-9b9ccfc22db1",
   "metadata": {
    "jp-MarkdownHeadingCollapsed": true,
    "tags": []
   },
   "source": [
    "# Taking a look: Big Blue Bus R10\n",
    "\n",
    "* split and merge with untouched segments looks good!"
   ]
  },
  {
   "cell_type": "code",
   "execution_count": null,
   "id": "526df16a-b1f6-4045-a212-4857d27e8181",
   "metadata": {},
   "outputs": [],
   "source": [
    "# processed.shape_array_key"
   ]
  },
  {
   "cell_type": "code",
   "execution_count": null,
   "id": "6c9799d2-b433-4dfe-9f59-44159aa30e7e",
   "metadata": {},
   "outputs": [],
   "source": [
    "from siuba import * #  re-import to fix bug? TODO report..."
   ]
  },
  {
   "cell_type": "code",
   "execution_count": null,
   "id": "f88049ae-4614-496c-a0bb-c618dff460ab",
   "metadata": {},
   "outputs": [],
   "source": [
    "test = recombined[recombined.trip_instance_key == '3505bf6a20e8d29e83e545784a421bc7']"
   ]
  },
  {
   "cell_type": "code",
   "execution_count": null,
   "id": "0e1dfbe2-7c40-4fad-af6b-bf3d121e7335",
   "metadata": {},
   "outputs": [],
   "source": [
    "test.geometry = test.geometry.apply(lambda x: arrowize_segment(x))"
   ]
  },
  {
   "cell_type": "code",
   "execution_count": null,
   "id": "236a583f-fd3d-475a-9d67-c15fe579264d",
   "metadata": {
    "tags": []
   },
   "outputs": [],
   "source": [
    "test.explore()"
   ]
  },
  {
   "cell_type": "code",
   "execution_count": null,
   "id": "18a82bbe-2284-4520-8177-3f449b0569d0",
   "metadata": {},
   "outputs": [],
   "source": [
    "##  TODO fix process explode first..."
   ]
  },
  {
   "cell_type": "code",
   "execution_count": null,
   "id": "8dbce55b-7c34-400d-ad82-c144af43eb61",
   "metadata": {},
   "outputs": [],
   "source": [
    "bigtest = (recombined >> filter(_.trip_instance_key.isin(longs.trip_instance_key[:500])))"
   ]
  },
  {
   "cell_type": "code",
   "execution_count": null,
   "id": "a04cf6dc-1958-490b-9fea-1c0bc42f1b6d",
   "metadata": {},
   "outputs": [],
   "source": [
    "bigtest.shape"
   ]
  },
  {
   "cell_type": "code",
   "execution_count": null,
   "id": "530cb1cc-dcba-4085-b241-53997dfaf164",
   "metadata": {},
   "outputs": [],
   "source": [
    "bigtest.geometry = bigtest.geometry.apply(lambda x: arrowize_segment(x))"
   ]
  },
  {
   "cell_type": "code",
   "execution_count": null,
   "id": "9bb5e2bb-1758-4616-b2c2-ecb767b820ef",
   "metadata": {},
   "outputs": [],
   "source": [
    "bigtest.explore()"
   ]
  }
 ],
 "metadata": {
  "kernelspec": {
   "display_name": "Python 3 (ipykernel)",
   "language": "python",
   "name": "python3"
  },
  "language_info": {
   "codemirror_mode": {
    "name": "ipython",
    "version": 3
   },
   "file_extension": ".py",
   "mimetype": "text/x-python",
   "name": "python",
   "nbconvert_exporter": "python",
   "pygments_lexer": "ipython3",
   "version": "3.9.13"
  },
  "widgets": {
   "application/vnd.jupyter.widget-state+json": {
    "state": {},
    "version_major": 2,
    "version_minor": 0
   }
  }
 },
 "nbformat": 4,
 "nbformat_minor": 5
}
