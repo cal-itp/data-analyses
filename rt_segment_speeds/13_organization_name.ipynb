{
 "cells": [
  {
   "cell_type": "markdown",
   "id": "d0b604a6-d5f6-4f2e-9d4b-c30add806fd3",
   "metadata": {},
   "source": [
    "# From `gtfs_dataset_key` to `organization_source_record_id` for open data portal\n",
    "\n",
    "* Move to what Caltrans is trying to implement: `agency_id`. \n",
    "* Our closest equivalent is `organization_source_record_id`\n",
    "* Need new Airtable column that reflects this and isn't going to create fanout\n",
    "* There are a couple of `gtfs_dataset_key` values that have multiple organizations associated\n",
    "   * if it's combined feed (VCTC), it needs to reflect one organization for export\n",
    "   * Bay Area combined feed is not used for RT, we are using agency subfeeds already\n",
    "   * Foothill Transit / Duarte is another one that should appear as Foothill"
   ]
  },
  {
   "cell_type": "code",
   "execution_count": null,
   "id": "1f575b57-df61-45ba-b1d8-b14ce43a7254",
   "metadata": {},
   "outputs": [],
   "source": [
    "import os\n",
    "os.environ['USE_PYGEOS'] = '0'\n",
    "\n",
    "import dask.dataframe as dd\n",
    "import dask_geopandas as dg\n",
    "import geopandas as gpd\n",
    "import pandas as pd\n",
    "\n",
    "from calitp_data_analysis.tables import tbls\n",
    "from siuba import *\n",
    "\n",
    "from shared_utils import gtfs_utils_v2, portfolio_utils, utils\n",
    "from segment_speed_utils import helpers\n",
    "from segment_speed_utils.project_vars import SEGMENT_GCS, analysis_date"
   ]
  },
  {
   "cell_type": "code",
   "execution_count": null,
   "id": "08d71624-18f4-4d64-9b55-8c6e6b3838c7",
   "metadata": {},
   "outputs": [],
   "source": [
    "CONFIG_PATH = \"./scripts/config.yml\"\n",
    "STOP_SEG_DICT = helpers.get_parameters(CONFIG_PATH, \"stop_segments\")\n",
    "INPUT_FILE = f'{STOP_SEG_DICT[\"stage5\"]}_{analysis_date}'\n",
    "SEGMENT_FILE = f'{STOP_SEG_DICT[\"segments_file\"]}'\n",
    "\n",
    "#gdf = gpd.read_parquet(\n",
    "#    f\"{SEGMENT_GCS}{INPUT_FILE}.parquet\"\n",
    "#)"
   ]
  },
  {
   "cell_type": "code",
   "execution_count": null,
   "id": "4217b36d-251f-44fb-94de-aed3890a4834",
   "metadata": {},
   "outputs": [],
   "source": [
    "date = analysis_date\n",
    "\n",
    "dim_provider_gtfs_data = (\n",
    "    tbls.mart_transit_database.dim_provider_gtfs_data()\n",
    "    >> filter(_._valid_from <= pd.to_datetime(date), \n",
    "              _._valid_to >= pd.to_datetime(date))\n",
    "    >> distinct()\n",
    "    >> collect()\n",
    ")"
   ]
  },
  {
   "cell_type": "code",
   "execution_count": null,
   "id": "0fa5c867-398a-457a-9826-ba9a6b6fd9b4",
   "metadata": {},
   "outputs": [],
   "source": [
    "merge_cols = [\"vehicle_positions_gtfs_dataset_key\", \n",
    "              \"vehicle_positions_gtfs_dataset_name\"]\n",
    "m1 = pd.merge(\n",
    "    df,\n",
    "    dim_provider_gtfs_data,\n",
    "    on = merge_cols,\n",
    "    how = \"inner\",\n",
    ")"
   ]
  },
  {
   "cell_type": "code",
   "execution_count": null,
   "id": "4bf2a5c6-85c4-4aa9-8108-4d9d9c8045a3",
   "metadata": {},
   "outputs": [],
   "source": [
    "col = \"vehicle_positions_gtfs_dataset_key\"\n",
    "m1[col].value_counts()"
   ]
  },
  {
   "cell_type": "code",
   "execution_count": null,
   "id": "bb39c156-0be5-409d-93eb-4288653750f7",
   "metadata": {},
   "outputs": [],
   "source": [
    "dups = m1[m1[col].duplicated()][col].unique().tolist()"
   ]
  },
  {
   "cell_type": "code",
   "execution_count": null,
   "id": "f076ae41-5ad9-416a-baaa-f99d0dd4d17b",
   "metadata": {},
   "outputs": [],
   "source": [
    "m1[m1[col].isin(dups)][\n",
    "    merge_cols + \n",
    "    [\n",
    "        \"_valid_from\", \"_valid_to\", \"_is_current\", \n",
    "        \"regional_feed_type\",\n",
    "        \"organization_name\", \"organization_source_record_id\",  \n",
    "        \"service_name\", \n",
    "        \"public_customer_facing_or_regional_subfeed_fixed_route\"\n",
    "    ]\n",
    "].sort_values(col)"
   ]
  },
  {
   "cell_type": "code",
   "execution_count": null,
   "id": "c99aa4a9-10ae-496e-b41e-ee223c580a61",
   "metadata": {},
   "outputs": [],
   "source": [
    "m1.columns"
   ]
  },
  {
   "cell_type": "code",
   "execution_count": null,
   "id": "21977ed8-edec-4978-9c73-9b8dea80ccb4",
   "metadata": {},
   "outputs": [],
   "source": []
  }
 ],
 "metadata": {
  "kernelspec": {
   "display_name": "Python 3 (ipykernel)",
   "language": "python",
   "name": "python3"
  },
  "language_info": {
   "codemirror_mode": {
    "name": "ipython",
    "version": 3
   },
   "file_extension": ".py",
   "mimetype": "text/x-python",
   "name": "python",
   "nbconvert_exporter": "python",
   "pygments_lexer": "ipython3",
   "version": "3.9.13"
  }
 },
 "nbformat": 4,
 "nbformat_minor": 5
}
