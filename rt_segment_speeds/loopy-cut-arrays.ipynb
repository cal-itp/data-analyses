{
 "cells": [
  {
   "cell_type": "markdown",
   "id": "3f381ba2-8302-4f84-8359-4cbecaad63cf",
   "metadata": {},
   "source": [
    "# Grab all the loopy/inlining/odd shapes\n",
    "Select a couple of examples to see what the pattern is for `stop_sequence` and `shape_meters`."
   ]
  },
  {
   "cell_type": "code",
   "execution_count": 1,
   "id": "8074ea58-0f53-4812-bc36-34b938e73495",
   "metadata": {},
   "outputs": [],
   "source": [
    "import os\n",
    "os.environ['USE_PYGEOS'] = '0'\n",
    "\n",
    "import dask.dataframe as dd\n",
    "import geopandas as gpd\n",
    "import pandas as pd\n",
    "import numpy as np\n",
    "import shapely\n",
    "import sys\n",
    "\n",
    "from segment_speed_utils import (helpers, gtfs_schedule_wrangling, \n",
    "                                 wrangle_shapes)\n",
    "from segment_speed_utils.project_vars import SEGMENT_GCS, analysis_date\n",
    "\n",
    "# Temp append so we can import functions from scripts/\n",
    "sys.path.append(\"./scripts/\")\n",
    "import prep_stop_segments\n",
    "import cut_stop_segments\n",
    "import loop_utils\n",
    "\n",
    "shape_with_utc = \"f765b9d12fcca0173b4e3ddbc0374d18\"\n",
    "another_shape = \"007cf76062f5957d4e38ea54e624c0ad\""
   ]
  },
  {
   "cell_type": "code",
   "execution_count": 2,
   "id": "d7070059-6941-4b2d-be14-d935f9823edd",
   "metadata": {},
   "outputs": [],
   "source": [
    "loop_shapes = loop_utils.grab_loop_shapes(analysis_date)\n",
    "\n",
    "stop_times_with_geom = prep_stop_segments.stop_times_aggregated_to_shape_array_key(\n",
    "        analysis_date, loop_shapes)\n",
    "\n",
    "st_loops = stop_times_with_geom.compute()"
   ]
  },
  {
   "cell_type": "code",
   "execution_count": 3,
   "id": "c67d4a1b-d078-4377-b5cb-b49bd9d8af14",
   "metadata": {},
   "outputs": [],
   "source": [
    "gdf = (loop_utils.assign_visits_to_stop(st_loops)\n",
    "       .sort_values([\"shape_array_key\", \"stop_sequence\"])\n",
    "       .reset_index(drop=True)\n",
    "      )"
   ]
  },
  {
   "cell_type": "code",
   "execution_count": 4,
   "id": "ab089322-8bc6-497e-b77a-09505c30785a",
   "metadata": {},
   "outputs": [],
   "source": [
    "gdf2 = gdf[gdf.shape_array_key.isin([another_shape])]"
   ]
  },
  {
   "cell_type": "code",
   "execution_count": 6,
   "id": "0d45e7ca-89f7-4d33-a2d9-f353f9aa0dd6",
   "metadata": {},
   "outputs": [],
   "source": [
    "#https://www.geeksforgeeks.org/how-to-find-the-index-of-value-in-numpy-array/\n",
    "def get_index(array, item):\n",
    "    for idx, val in np.ndenumerate(array):\n",
    "        if val == item:\n",
    "            return idx[0]\n",
    "        \n",
    "        \n",
    "def include_prior_and_subsequent(array: np.ndarray, value: int):\n",
    "    idx = get_index(array, value)\n",
    "    return array[idx-1: idx+2]"
   ]
  },
  {
   "cell_type": "code",
   "execution_count": 24,
   "id": "a9474098-affe-49b2-aedd-20c4918230bd",
   "metadata": {},
   "outputs": [],
   "source": [
    "shape_geom = gdf2.geometry.iloc[0]\n",
    "stop_geom_array = np.array(gdf2.stop_geometry)\n",
    "stop_seq_array = np.array(gdf2.stop_sequence)"
   ]
  },
  {
   "cell_type": "code",
   "execution_count": 25,
   "id": "791fe7cf-a4dc-44e0-86f5-824f183dadb3",
   "metadata": {},
   "outputs": [
    {
     "data": {
      "text/plain": [
       "array([14, 15, 16])"
      ]
     },
     "execution_count": 25,
     "metadata": {},
     "output_type": "execute_result"
    }
   ],
   "source": [
    "stop_seq = 15\n",
    "subset_seq = include_prior_and_subsequent(stop_seq_array, stop_seq)\n",
    "subset_seq"
   ]
  },
  {
   "cell_type": "code",
   "execution_count": 29,
   "id": "8fb33f50-8d31-4276-b9a4-32d07ed08b0c",
   "metadata": {},
   "outputs": [
    {
     "data": {
      "text/plain": [
       "array([<POINT (262999.929 -582806.103)>, <POINT (262637.538 -582897.777)>,\n",
       "       <POINT (262509.32 -582899.685)>], dtype=object)"
      ]
     },
     "execution_count": 29,
     "metadata": {},
     "output_type": "execute_result"
    }
   ],
   "source": [
    "#https://stackoverflow.com/questions/5508352/indexing-numpy-array-with-another-numpy-array\n",
    "subset_stop_geom = stop_geom_array[subset_seq]\n",
    "subset_stop_geom"
   ]
  },
  {
   "cell_type": "code",
   "execution_count": 48,
   "id": "986245a8-4549-4feb-befb-51ada451b202",
   "metadata": {},
   "outputs": [
    {
     "data": {
      "text/plain": [
       "((262509.32000442955, -582899.6846790994),\n",
       " (262999.92859736393, -582806.1029309039))"
      ]
     },
     "execution_count": 48,
     "metadata": {},
     "output_type": "execute_result"
    }
   ],
   "source": [
    "# get a vector between the subsequent and prior stops (we draw \n",
    "# right through our stop of interest)\n",
    "stop_vec_end = (subset_stop_geom[-1].x, subset_stop_geom[-1].y)\n",
    "stop_vec_start = (subset_stop_geom[0].x, subset_stop_geom[0].y)\n",
    "\n",
    "stop_vec_end, stop_vec_start"
   ]
  },
  {
   "cell_type": "code",
   "execution_count": 49,
   "id": "ae5748e2-42d5-490c-a075-a9d1cc07c492",
   "metadata": {},
   "outputs": [
    {
     "name": "stderr",
     "output_type": "stream",
     "text": [
      "/opt/conda/lib/python3.9/site-packages/shapely/linear.py:90: RuntimeWarning: invalid value encountered in line_locate_point\n"
     ]
    },
    {
     "data": {
      "text/plain": [
       "array([5503.02579871, 5877.33959251, 6007.87823823])"
      ]
     },
     "execution_count": 49,
     "metadata": {},
     "output_type": "execute_result"
    }
   ],
   "source": [
    "# Now project this vector of 3 stops\n",
    "# because we need to know which part to subset\n",
    "# off of the shape's shape_meters array\n",
    "subset_stop_projected = np.array(\n",
    "    [shape_geom.project(i) for i in subset_stop_geom]\n",
    ")\n",
    "subset_stop_projected"
   ]
  },
  {
   "cell_type": "code",
   "execution_count": 53,
   "id": "1025cc9b-27a7-489d-945b-2b8dfe516363",
   "metadata": {},
   "outputs": [
    {
     "data": {
      "text/plain": [
       "array([  0.        ,  14.50702629, 100.6041139 , 126.5169287 ,\n",
       "       126.5169287 ])"
      ]
     },
     "execution_count": 53,
     "metadata": {},
     "output_type": "execute_result"
    }
   ],
   "source": [
    "shape_path_dist = np.array(\n",
    "            [shape_geom.project(shapely.geometry.Point(p)) \n",
    "            for p in shape_geom.coords]\n",
    ")\n",
    "\n",
    "shape_path_dist[:5]"
   ]
  },
  {
   "cell_type": "code",
   "execution_count": 55,
   "id": "c12f3b8b-c4cd-4055-8386-c37c9335189a",
   "metadata": {},
   "outputs": [
    {
     "data": {
      "text/plain": [
       "array([5503.17692096, 5503.17692096, 5517.81052203, 5533.71996806,\n",
       "       5549.33373331, 5582.26940738, 5603.59423777, 5664.84485808,\n",
       "       5848.62988146, 5859.68089117, 5877.38668559, 5877.38668559,\n",
       "       5907.37737327])"
      ]
     },
     "execution_count": 55,
     "metadata": {},
     "output_type": "execute_result"
    }
   ],
   "source": [
    "# Get the subset of shape_path points that\n",
    "# covers start_dist to end_dist\n",
    "# https://stackoverflow.com/questions/16343752/numpy-where-function-multiple-conditions\n",
    "\n",
    "# the start_dist and end_dist take the prior/subsequent stop\n",
    "# to use to check against direction\n",
    "shape_path_subset = shape_path_dist[\n",
    "    (np.where(\n",
    "        (shape_path_dist >= subset_stop_projected[0]) & \n",
    "        (shape_path_dist <= subset_stop_projected[-1]))\n",
    "    )]\n",
    "\n",
    "shape_path_subset"
   ]
  },
  {
   "cell_type": "code",
   "execution_count": 59,
   "id": "f7054c99-5c02-4598-a8d3-016fe1870197",
   "metadata": {},
   "outputs": [
    {
     "data": {
      "text/plain": [
       "[<POINT (262997.813 -582813.923)>,\n",
       " <POINT (262997.813 -582813.923)>,\n",
       " <POINT (262983.621 -582810.354)>,\n",
       " <POINT (262967.951 -582807.605)>,\n",
       " <POINT (262952.346 -582807.069)>,\n",
       " <POINT (262919.819 -582812.24)>,\n",
       " <POINT (262899.646 -582819.152)>,\n",
       " <POINT (262842.14 -582840.24)>,\n",
       " <POINT (262666.016 -582892.75)>,\n",
       " <POINT (262655.505 -582896.162)>,\n",
       " <POINT (262638.566 -582901.316)>,\n",
       " <POINT (262638.566 -582901.316)>,\n",
       " <POINT (262609.902 -582910.139)>]"
      ]
     },
     "execution_count": 59,
     "metadata": {},
     "output_type": "execute_result"
    }
   ],
   "source": [
    "shape_path_interp = [shape_geom.interpolate(i) \n",
    "                     for i in shape_path_subset]\n",
    "\n",
    "shape_path_interp"
   ]
  },
  {
   "cell_type": "code",
   "execution_count": 60,
   "id": "9d5b76da-4bcf-4b5a-a367-aa6b9854cc07",
   "metadata": {},
   "outputs": [
    {
     "data": {
      "text/plain": [
       "((262997.81276319915, -582813.9233183321),\n",
       " (262609.9021033956, -582910.1389678828))"
      ]
     },
     "execution_count": 60,
     "metadata": {},
     "output_type": "execute_result"
    }
   ],
   "source": [
    "# take the shape's vector and take the start/end of that\n",
    "# and create vector\n",
    "# get a vector between the subsequent and prior stops (we draw \n",
    "# right through our stop of interest)\n",
    "shape_vec_start = (shape_path_interp[0].x, shape_path_interp[0].y)\n",
    "shape_vec_end = (shape_path_interp[-1].x, shape_path_interp[-1].y)\n",
    "\n",
    "shape_vec_start, shape_vec_end"
   ]
  },
  {
   "cell_type": "code",
   "execution_count": 67,
   "id": "000b8214-d16e-4bf8-8179-77c3e3683a6b",
   "metadata": {},
   "outputs": [
    {
     "data": {
      "text/plain": [
       "(-387.91065980354324, -96.21564955078065)"
      ]
     },
     "execution_count": 67,
     "metadata": {},
     "output_type": "execute_result"
    }
   ],
   "source": [
    "shape_vec = (shape_vec_end[0] - shape_vec_start[0],\n",
    "             shape_vec_end[1] - shape_vec_start[1])\n",
    "\n",
    "shape_vec"
   ]
  },
  {
   "cell_type": "code",
   "execution_count": 68,
   "id": "be9a449e-c83f-4231-a836-bfa34ab7f2bf",
   "metadata": {},
   "outputs": [
    {
     "data": {
      "text/plain": [
       "(-490.6085929343826, -93.5817481954582)"
      ]
     },
     "execution_count": 68,
     "metadata": {},
     "output_type": "execute_result"
    }
   ],
   "source": [
    "stop_vec = (stop_vec_end[0] - stop_vec_start[0],\n",
    "             stop_vec_end[1] - stop_vec_start[1])\n",
    "\n",
    "stop_vec"
   ]
  },
  {
   "cell_type": "code",
   "execution_count": 69,
   "id": "6472e1ba-7fc7-4a84-9de9-e6733fc5a402",
   "metadata": {},
   "outputs": [
    {
     "data": {
      "text/plain": [
       "199316.33167918792"
      ]
     },
     "execution_count": 69,
     "metadata": {},
     "output_type": "execute_result"
    }
   ],
   "source": [
    "stop_vec[0]*shape_vec[0] + stop_vec[1]*shape_vec[1]"
   ]
  },
  {
   "cell_type": "code",
   "execution_count": 64,
   "id": "df82e297-6a70-48c2-bf40-45f767c209e6",
   "metadata": {},
   "outputs": [
    {
     "data": {
      "text/plain": [
       "(262999.92859736393, -582806.1029309039)"
      ]
     },
     "execution_count": 64,
     "metadata": {},
     "output_type": "execute_result"
    }
   ],
   "source": [
    "stop_vec_start"
   ]
  },
  {
   "cell_type": "code",
   "execution_count": null,
   "id": "655c7a05-50cb-4e78-aa64-08cef892c518",
   "metadata": {},
   "outputs": [],
   "source": [
    "# Take current stop\n",
    "# find stop_sequence before and after\n",
    "def super_project(\n",
    "    current_stop: shapely.geometry.Point, \n",
    "    shape_geometry: shapely.geometry.LineString,\n",
    "    stop_geometry_array: np.ndarray\n",
    "):\n",
    "    \n",
    "    shape_path_array = np.array(\n",
    "            [shape_geometry.project(shapely.geometry.Point(p)) \n",
    "            for p in shape_geometry.coords]\n",
    "        )\n",
    "    \n",
    "    stop_vec = include_prior_and_subsequent(\n",
    "        stop_geometry_array, current_stop)\n",
    "    shape_vec = \n",
    "    \n",
    "  "
   ]
  },
  {
   "cell_type": "code",
   "execution_count": null,
   "id": "ccdf6cef-2d89-4ad0-9b97-a28d6a02adf7",
   "metadata": {},
   "outputs": [],
   "source": []
  },
  {
   "cell_type": "code",
   "execution_count": null,
   "id": "b020d9af-c309-4008-8ee3-bac95bf30f07",
   "metadata": {},
   "outputs": [],
   "source": [
    " shape_path_dist = np.array(\n",
    "            [shape_geom.project(shapely.geometry.Point(p)) \n",
    "            for p in shape_geom.coords]\n",
    "        )"
   ]
  },
  {
   "cell_type": "code",
   "execution_count": null,
   "id": "e041e2aa-9aee-48d8-a50f-b69f925b2cfb",
   "metadata": {},
   "outputs": [],
   "source": [
    "shape_path_dist"
   ]
  },
  {
   "cell_type": "code",
   "execution_count": null,
   "id": "2680665b-25e5-48ca-82be-d8f9dddd94b2",
   "metadata": {},
   "outputs": [],
   "source": [
    "# Turn the stop_geometry and shape_geometry columns into geoseries\n",
    "shape_geoseries = gpd.GeoSeries(gdf.geometry)\n",
    "stop_geoseries = gpd.GeoSeries(gdf.stop_geometry)\n",
    "\n",
    "# Get projected shape_meters as dask array\n",
    "shape_meters_geoseries = wrangle_shapes.project_point_geom_onto_linestring(\n",
    "    shape_geoseries,\n",
    "    stop_geoseries,\n",
    "    get_dask_array=False\n",
    ")\n",
    "\n",
    "# Attach dask array as a column\n",
    "gdf[\"shape_meters\"] = shape_meters_geoseries"
   ]
  },
  {
   "cell_type": "code",
   "execution_count": null,
   "id": "5ca4d57e-696b-4f41-8903-723fffdb9369",
   "metadata": {},
   "outputs": [],
   "source": [
    "def add_prior_stop_info(\n",
    "    gdf: gpd.GeoDataFrame, \n",
    "    trip_grouping_cols: list = [\"shape_array_key\"],\n",
    "    segment_identifier_cols: list = [\"shape_array_key\", \"stop_sequence\"]\n",
    "):\n",
    "    # prior stop location won't be available if the first/last stop \n",
    "    # is the one being visited twice (which is often the case)\n",
    "    gdf = gdf.assign(\n",
    "        prior_stop_location = (gdf.sort_values(segment_identifier_cols)\n",
    "                               .groupby(trip_grouping_cols)\n",
    "                               [\"stop_geometry\"]\n",
    "                               .apply(lambda x: x.shift(1))\n",
    "                              ),\n",
    "        #prior_shape_meters = (gdf.sort_values(segment_identifier_cols)\n",
    "        #                       .groupby(trip_grouping_cols)\n",
    "        #                      [\"shape_meters\"]\n",
    "        #                       .apply(lambda x: x.shift(1))\n",
    "        #                     ),\n",
    "    )\n",
    "    \n",
    "    return gdf"
   ]
  },
  {
   "cell_type": "code",
   "execution_count": null,
   "id": "052ffcbe-fe1b-41a8-9893-0eece70de307",
   "metadata": {},
   "outputs": [],
   "source": [
    "gdf = add_prior_stop_info(\n",
    "    gdf,\n",
    "    trip_grouping_cols = [\"shape_array_key\"],\n",
    "    segment_identifier_cols = [\"shape_array_key\", \"stop_sequence\"]\n",
    ")"
   ]
  },
  {
   "cell_type": "markdown",
   "id": "08c46081-54ab-49db-8444-9aaa17b000af",
   "metadata": {},
   "source": [
    "This is a case where there's not a monotonically increasing `shape_meters` column.\n",
    "\n",
    "But, where it's not monotonically increasing is not only where stops are visited twice. It's also happening at `stop_sequence==2`. \n",
    "* `stop_sequence==1` is where the shape begins, and it's also a portion of a loop.\n",
    "* `stop_sequence==2` is not visited twice, but since it's occurring during the loop, the `shape_meters` calculated is against the end of the shape, not the beginning.\n",
    "* For a stop's 2nd visit, we want to look at the prior stop and calculate distance, and overwrite `shape_meters` so it **is** monotonically increasing.\n",
    "* For a stop's 1st visit, we may not be able to look prior (stop 0), and even if we look ahead, stop 2 might have an issue. **But**, if we get the distance between stop 1 and 2, we still might be able to back out the same coordinates from the line geometry, even if the array is not monotonically increasing. The numbers are just our ordered perspective, but maybe for coordinates, it's still able to grab the same ones. "
   ]
  },
  {
   "cell_type": "code",
   "execution_count": null,
   "id": "017d5e88-ca1a-43ed-b18a-d5f8b6f95018",
   "metadata": {},
   "outputs": [],
   "source": [
    "display_cols = [\n",
    "    \"shape_array_key\", \"stop_id\", \"stop_sequence\",\n",
    "    \"num_visits\", \"visit_order\", \n",
    "    \"shape_meters\", \n",
    "    \"prior_stop_location\", \n",
    "]\n",
    "another_shape_gdf = gdf[gdf.shape_array_key==another_shape][\n",
    "    display_cols + [\"geometry\", \"stop_geometry\"]]\n",
    "\n",
    "another_shape_gdf[[\"stop_id\", \"stop_sequence\", \n",
    "                   \"shape_meters\"]]"
   ]
  },
  {
   "cell_type": "code",
   "execution_count": null,
   "id": "eb02bf19-3d3b-40a0-8353-325e4e9d8dfd",
   "metadata": {},
   "outputs": [],
   "source": [
    "shape_geom = another_shape_gdf.geometry.iloc[0]\n",
    "shape_dist_array = np.array([shape_geom.project(shapely.geometry.Point(p)) \n",
    "          for p in shape_geom.coords])"
   ]
  },
  {
   "cell_type": "code",
   "execution_count": null,
   "id": "275fc1a2-4637-4509-b7a9-b0986aea2d97",
   "metadata": {},
   "outputs": [],
   "source": [
    "len(shape_dist_array), len(np.unique(shape_dist_array))"
   ]
  },
  {
   "cell_type": "code",
   "execution_count": null,
   "id": "0face89e-c18c-4ed8-9ad1-d8777655cf6c",
   "metadata": {},
   "outputs": [],
   "source": [
    "shape_dist_array"
   ]
  },
  {
   "cell_type": "code",
   "execution_count": null,
   "id": "9b7bb538-6d17-4206-b3e2-30c49f150f86",
   "metadata": {},
   "outputs": [],
   "source": [
    "np.unique(shape_dist_array)"
   ]
  },
  {
   "cell_type": "code",
   "execution_count": null,
   "id": "b4e80b14-c4c6-4d7a-8ac6-5db680dc24b6",
   "metadata": {},
   "outputs": [],
   "source": [
    "another_shape_gdf.set_geometry(\"stop_geometry\").explore(\n",
    "    \"stop_sequence\",\n",
    "    tiles=\"CartoDB Positron\", \n",
    "    categorical=True, legend=False\n",
    ")"
   ]
  },
  {
   "cell_type": "markdown",
   "id": "5edf0650-3b99-40c2-9ff8-8de97fbce9cf",
   "metadata": {},
   "source": [
    "For these shapes, do we want to sort `stop_sequence` instead by `shape_meters`?\n",
    "\n",
    "Then pick a non-loopy route and see. If we sort and enforce the monotonically increasing rule, what will happen? There was a Sacramento Schedule route that was cut haphazardly.\n",
    "\n",
    "Look at the array of line geometry coords, and those are also not monotonically increasing. So, it looks like we need to factor in what subset has been grabbed vs not yet (eligible to)."
   ]
  },
  {
   "cell_type": "code",
   "execution_count": null,
   "id": "71e76c65-d9cb-4fc1-b1a5-d0f7812aceb5",
   "metadata": {},
   "outputs": [],
   "source": [
    "test_gdf = another_shape_gdf[another_shape_gdf.stop_sequence.isin([1,2])\n",
    "                             ].reset_index(drop=True)\n",
    "display(test_gdf[[\"stop_id\", \"stop_sequence\", \"shape_meters\"]])\n",
    "\n",
    "result = cut_stop_segments.get_shape_coords_up_to_stop(\n",
    "    shape_geom,\n",
    "    shape_dist_array,\n",
    "    np.array(test_gdf.shape_meters),\n",
    "    (test_gdf.shape_meters[0], test_gdf.shape_meters[1])\n",
    ")\n",
    "\n",
    "gpd.GeoSeries(result, crs=\"EPSG:3310\").explore(\n",
    "    tiles=\"CartoDB Positron\")"
   ]
  },
  {
   "cell_type": "code",
   "execution_count": null,
   "id": "cb0f114d-2d37-491b-8574-094c0e963482",
   "metadata": {},
   "outputs": [],
   "source": [
    "stop_geom = gpd.GeoSeries(another_shape_gdf.stop_geometry)\n",
    "prior_stop_geom = gpd.GeoSeries(another_shape_gdf.prior_stop_location)\n",
    "distance_from_prior = stop_geom.distance(prior_stop_geom, align=True)\n",
    "\n",
    "another_shape_gdf[\"distance_from_prior_stop\"] = distance_from_prior"
   ]
  },
  {
   "cell_type": "code",
   "execution_count": null,
   "id": "627a9f3d-a7a3-4e3c-b6d0-14e09506f8c0",
   "metadata": {},
   "outputs": [],
   "source": [
    "# Get the cumulative distance \n",
    "another_shape_gdf = another_shape_gdf.assign(\n",
    "    cumulative_dist = (another_shape_gdf.sort_values(\n",
    "                        [\"shape_array_key\", \"stop_sequence\"])\n",
    "                       .groupby(\"shape_array_key\")\n",
    "                       .distance_from_prior_stop\n",
    "                       .cumsum()\n",
    "                      ),\n",
    "    shape_meters_adj = (another_shape_gdf[[\"shape_meters\", \n",
    "                                           \"distance_from_prior_stop\"]].sum(axis=1)\n",
    "                       )\n",
    ")"
   ]
  },
  {
   "cell_type": "code",
   "execution_count": null,
   "id": "14e73779-e21f-4e9f-9d6c-f89ec6ed3bfa",
   "metadata": {},
   "outputs": [],
   "source": [
    "test_gdf = another_shape_gdf[another_shape_gdf.stop_sequence.isin([4,5])\n",
    "                             ].reset_index(drop=True)\n",
    "display(test_gdf[[\"stop_id\", \"stop_sequence\", \"shape_meters\", \n",
    "                  \"distance_from_prior_stop\",\n",
    "                  \"cumulative_dist\", \"shape_meters_adj\"]])\n",
    "\n",
    "m = test_gdf.set_geometry(\"stop_geometry\").explore(\n",
    "    \"stop_sequence\", tiles='CartoDB Positron'\n",
    ")\n",
    "\n",
    "meters_col = \"cumulative_dist\"\n",
    "\n",
    "result = cut_stop_segments.get_shape_coords_up_to_stop(\n",
    "    shape_geom,\n",
    "    np.unique(shape_dist_array),\n",
    "    np.array(test_gdf[meters_col]),\n",
    "    (test_gdf[meters_col][0], test_gdf[meters_col][1])\n",
    ")\n",
    "\n",
    "gpd.GeoSeries(result, crs=\"EPSG:3310\").explore(\n",
    "    tiles=\"CartoDB Positron\", m=m)"
   ]
  },
  {
   "cell_type": "code",
   "execution_count": null,
   "id": "337414c4-0fb0-4e47-a9ce-343b5659c872",
   "metadata": {},
   "outputs": [],
   "source": [
    "test_gdf = another_shape_gdf[another_shape_gdf.stop_sequence.isin([29,30])\n",
    "                             ].reset_index(drop=True)\n",
    "display(test_gdf[[\"stop_id\", \"stop_sequence\", \"shape_meters\", \n",
    "                  \"distance_from_prior_stop\",\n",
    "                  \"cumulative_dist\", \"shape_meters_adj\"]])\n",
    "\n",
    "m = test_gdf.set_geometry(\"stop_geometry\").explore(\n",
    "    \"stop_sequence\", tiles='CartoDB Positron'\n",
    ")\n",
    "\n",
    "meters_col = \"shape_meters_adj\"\n",
    "result = cut_stop_segments.get_shape_coords_up_to_stop(\n",
    "    shape_geom,\n",
    "    shape_dist_array,\n",
    "    np.array(test_gdf[meters_col]),\n",
    "    (test_gdf[meters_col][0], test_gdf[meters_col][1])\n",
    ")\n",
    "\n",
    "gpd.GeoSeries(result, crs=\"EPSG:3310\").explore(\n",
    "    tiles=\"CartoDB Positron\", m=m)"
   ]
  },
  {
   "cell_type": "code",
   "execution_count": null,
   "id": "1253be11-1ec2-4438-9ba8-1c365f42e0bd",
   "metadata": {},
   "outputs": [],
   "source": [
    "test_gdf = another_shape_gdf[another_shape_gdf.stop_sequence.isin([28, 29])\n",
    "                             ].reset_index(drop=True)\n",
    "display(test_gdf[[\"stop_id\", \"stop_sequence\", \"shape_meters\", \n",
    "                 \"cumulative_dist\", \"shape_meters_adj\"]])\n",
    "\n",
    "m = test_gdf.set_geometry(\"stop_geometry\").explore(\n",
    "    \"stop_sequence\", tiles='CartoDB Positron'\n",
    ")\n",
    "\n",
    "meters_col = \"cumulative_dist\"\n",
    "\n",
    "result = cut_stop_segments.get_shape_coords_up_to_stop(\n",
    "    shape_geom,\n",
    "    shape_dist_array,\n",
    "    np.array(test_gdf[meters_col]),\n",
    "    (test_gdf[meters_col][0], test_gdf[meters_col][1])\n",
    ")\n",
    "\n",
    "gpd.GeoSeries(result, crs=\"EPSG:3310\").explore(\n",
    "    tiles=\"CartoDB Positron\", m=m)"
   ]
  },
  {
   "cell_type": "code",
   "execution_count": null,
   "id": "2f7e6af2-c559-46e2-bf37-27b013b08caf",
   "metadata": {},
   "outputs": [],
   "source": [
    "stop_segments = helpers.import_segments(\n",
    "    SEGMENT_GCS,\n",
    "    f\"stop_segments_{analysis_date}\", \n",
    "    filters=[[(\"shape_array_key\", \"==\", shape_with_utc)],\n",
    "             [(\"shape_array_key\", \"==\", another_shape)]\n",
    "            ]\n",
    ")"
   ]
  },
  {
   "cell_type": "code",
   "execution_count": null,
   "id": "3a1a3c21-469d-4093-9ad4-bcecd72b8136",
   "metadata": {},
   "outputs": [],
   "source": [
    "stop_segments[stop_segments.geometry.notna()\n",
    "             ].explore(\"stop_sequence\", tiles=\"CartoDB Positron\")"
   ]
  },
  {
   "cell_type": "code",
   "execution_count": null,
   "id": "8424e422-6a77-4cb6-acfa-9cd0c40b9b42",
   "metadata": {},
   "outputs": [],
   "source": []
  }
 ],
 "metadata": {
  "kernelspec": {
   "display_name": "Python 3 (ipykernel)",
   "language": "python",
   "name": "python3"
  },
  "language_info": {
   "codemirror_mode": {
    "name": "ipython",
    "version": 3
   },
   "file_extension": ".py",
   "mimetype": "text/x-python",
   "name": "python",
   "nbconvert_exporter": "python",
   "pygments_lexer": "ipython3",
   "version": "3.9.13"
  }
 },
 "nbformat": 4,
 "nbformat_minor": 5
}
