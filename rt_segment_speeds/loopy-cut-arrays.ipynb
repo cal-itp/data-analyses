{
 "cells": [
  {
   "cell_type": "markdown",
   "id": "3f381ba2-8302-4f84-8359-4cbecaad63cf",
   "metadata": {},
   "source": [
    "# Grab all the loopy/inlining/odd shapes\n",
    "Select a couple of examples to see what the pattern is for `stop_sequence` and `shape_meters`."
   ]
  },
  {
   "cell_type": "code",
   "execution_count": 1,
   "id": "8074ea58-0f53-4812-bc36-34b938e73495",
   "metadata": {},
   "outputs": [],
   "source": [
    "import os\n",
    "os.environ['USE_PYGEOS'] = '0'\n",
    "\n",
    "import dask.dataframe as dd\n",
    "import geopandas as gpd\n",
    "import pandas as pd\n",
    "import numpy as np\n",
    "import shapely\n",
    "import sys\n",
    "\n",
    "from segment_speed_utils import (helpers, gtfs_schedule_wrangling, \n",
    "                                 wrangle_shapes)\n",
    "from segment_speed_utils.project_vars import SEGMENT_GCS, analysis_date\n",
    "\n",
    "# Temp append so we can import functions from scripts/\n",
    "sys.path.append(\"./scripts/\")\n",
    "import prep_stop_segments\n",
    "import cut_stop_segments\n",
    "import loop_utils\n",
    "\n",
    "shape_with_utc = \"f765b9d12fcca0173b4e3ddbc0374d18\"\n",
    "another_shape = \"007cf76062f5957d4e38ea54e624c0ad\""
   ]
  },
  {
   "cell_type": "code",
   "execution_count": 2,
   "id": "d7070059-6941-4b2d-be14-d935f9823edd",
   "metadata": {},
   "outputs": [],
   "source": [
    "loop_shapes = loop_utils.grab_loop_shapes(analysis_date)\n",
    "\n",
    "stop_times_with_geom = prep_stop_segments.stop_times_aggregated_to_shape_array_key(\n",
    "        analysis_date, loop_shapes)\n",
    "\n",
    "st_loops = stop_times_with_geom.compute()"
   ]
  },
  {
   "cell_type": "code",
   "execution_count": 3,
   "id": "c67d4a1b-d078-4377-b5cb-b49bd9d8af14",
   "metadata": {},
   "outputs": [],
   "source": [
    "gdf = (loop_utils.assign_visits_to_stop(st_loops)\n",
    "       .sort_values([\"shape_array_key\", \"stop_sequence\"])\n",
    "       .reset_index(drop=True)\n",
    "      )"
   ]
  },
  {
   "cell_type": "code",
   "execution_count": 4,
   "id": "ab089322-8bc6-497e-b77a-09505c30785a",
   "metadata": {},
   "outputs": [],
   "source": [
    "gdf2 = gdf[gdf.shape_array_key.isin([another_shape])]"
   ]
  },
  {
   "cell_type": "code",
   "execution_count": 60,
   "id": "0d45e7ca-89f7-4d33-a2d9-f353f9aa0dd6",
   "metadata": {},
   "outputs": [],
   "source": [
    "def get_index(array: np.ndarray, item) -> int:\n",
    "    \"\"\"\n",
    "    \"\"\"\n",
    "    #https://www.geeksforgeeks.org/how-to-find-the-index-of-value-in-numpy-array/\n",
    "    for idx, val in np.ndenumerate(array):\n",
    "        if val == item:\n",
    "            return idx[0]\n",
    "        \n",
    "        \n",
    "def include_prior_and_subsequent(\n",
    "    array: np.ndarray, value: int\n",
    ") -> np.ndarray:\n",
    "    idx = get_index(array, value)\n",
    "    \n",
    "    subset_array = array[idx-1: idx+2]\n",
    "    \n",
    "    # For the first stop sequence, there is no prior, \n",
    "    # but the result of that is grabbing nothing\n",
    "    if len(subset_array) == 0:\n",
    "        subset_array  = array[idx: idx+2]\n",
    "        \n",
    "    # for the last stop sequence, there is no subsequent,\n",
    "    # and the subset of array grabs 2 items, which is ok        \n",
    "    \n",
    "    return subset_array"
   ]
  },
  {
   "cell_type": "code",
   "execution_count": 65,
   "id": "af685505-b1d2-4e89-bcc1-d04090aa95d4",
   "metadata": {},
   "outputs": [
    {
     "data": {
      "text/plain": [
       "array([32, 33])"
      ]
     },
     "execution_count": 65,
     "metadata": {},
     "output_type": "execute_result"
    }
   ],
   "source": [
    "test = include_prior_and_subsequent(stop_seq_array, 33)\n",
    "test"
   ]
  },
  {
   "cell_type": "code",
   "execution_count": 6,
   "id": "a9474098-affe-49b2-aedd-20c4918230bd",
   "metadata": {},
   "outputs": [],
   "source": [
    "shape_geom = gdf2.geometry.iloc[0]\n",
    "stop_geom_array = np.array(gdf2.stop_geometry)\n",
    "stop_seq_array = np.array(gdf2.stop_sequence)"
   ]
  },
  {
   "cell_type": "code",
   "execution_count": 7,
   "id": "791fe7cf-a4dc-44e0-86f5-824f183dadb3",
   "metadata": {},
   "outputs": [
    {
     "data": {
      "text/plain": [
       "array([14, 15, 16])"
      ]
     },
     "execution_count": 7,
     "metadata": {},
     "output_type": "execute_result"
    }
   ],
   "source": [
    "# For a stop sequence value, find the prior and subsequent stop sequence\n",
    "# this is important especially because stop_sequence does not have \n",
    "# to be increasing in increments of 1, but it has to be monotonically increasing\n",
    "stop_seq = 15\n",
    "subset_seq = include_prior_and_subsequent(stop_seq_array, stop_seq)\n",
    "subset_seq"
   ]
  },
  {
   "cell_type": "code",
   "execution_count": 43,
   "id": "8fb33f50-8d31-4276-b9a4-32d07ed08b0c",
   "metadata": {},
   "outputs": [],
   "source": [
    "# Grab relevant subset based on stop sequence values to get stop geometry subset\n",
    "#https://stackoverflow.com/questions/5508352/indexing-numpy-array-with-another-numpy-array\n",
    "subset_stop_geom = stop_geom_array[subset_seq]"
   ]
  },
  {
   "cell_type": "code",
   "execution_count": 67,
   "id": "0e9554c7-75f3-4cc0-87c6-a2e2b1fb9f27",
   "metadata": {},
   "outputs": [],
   "source": [
    "def get_direction_vector(\n",
    "    start: shapely.geometry.Point, \n",
    "    end: shapely.geometry.Point\n",
    ") -> tuple:\n",
    "    \"\"\"\n",
    "    Given 2 points (in a projected CRS...not WGS84), return a \n",
    "    tuple that shows (delta_x, delta_y).\n",
    "\n",
    "    https://www.varsitytutors.com/precalculus-help/find-a-direction-vector-when-given-two-points\n",
    "    \"\"\"\n",
    "    return ((end.x - start.x), (end.y - start.y))\n",
    "    \n",
    "    \n",
    "def distill_array_into_direction_vector(array: np.ndarray) -> tuple:\n",
    "    \"\"\"\n",
    "    Given an array of n items, let's take the start/end of that.\n",
    "    From start/end, we can turn 2 coordinate points into 1 distance vector.\n",
    "    Distance vector is a tuple that equals (delta_x, delta_y).\n",
    "    \"\"\"\n",
    "    return get_direction_vector(array[0], array[-1])\n"
   ]
  },
  {
   "cell_type": "code",
   "execution_count": 68,
   "id": "f5022ee3-ee19-4e8a-aec8-a2dc3280a673",
   "metadata": {},
   "outputs": [],
   "source": [
    "def get_vector_norm(vector: tuple) -> float:\n",
    "    \"\"\"\n",
    "    Get the length (off of Pythagorean Theorem) by summing up\n",
    "    the squares of the components and then taking square root.\n",
    "    \n",
    "    Use Pythagorean Theorem to get unit vector. Divide the vector \n",
    "    by the length of the vector to get unit/normalized vector.\n",
    "    This equation tells us what we need to divide by.\n",
    "    \"\"\"\n",
    "    return np.sqrt(vector[0]**2 + vector[1]**2)\n",
    "\n",
    "\n",
    "def get_normalized_vector(vector: tuple) -> tuple:\n",
    "    \"\"\"\n",
    "    Apply Pythagorean Theorem and normalize the vector of distances.\n",
    "    \"\"\"\n",
    "    x_norm = vector[0] / get_vector_norm(vector)\n",
    "    y_norm = vector[1] / get_vector_norm(vector)\n",
    "\n",
    "    return (x_norm, y_norm)\n",
    "\n",
    "\n",
    "def dot_product(vec1: tuple, vec2: tuple) -> float:\n",
    "    \"\"\"\n",
    "    Take the dot product. Multiply the x components, the y components, and \n",
    "    sum it up.\n",
    "    \"\"\"\n",
    "    return vec1[0]*vec2[0] + vec1[1]*vec2[1]"
   ]
  },
  {
   "cell_type": "code",
   "execution_count": 69,
   "id": "655c7a05-50cb-4e78-aa64-08cef892c518",
   "metadata": {},
   "outputs": [],
   "source": [
    "# Take current stop\n",
    "# find stop_sequence before and after\n",
    "\n",
    "## NEED THIS\n",
    "#stop_geom_array = np.array(gdf2.stop_geometry)\n",
    "#stop_seq_array = np.array(gdf2.stop_sequence)\n",
    "\n",
    "def super_project(\n",
    "    current_stop_seq: int,\n",
    "    shape_geometry: shapely.geometry.LineString,\n",
    "    stop_geometry_array: np.ndarray,\n",
    "    stop_sequence_array: np.ndarray,\n",
    "):\n",
    "    \n",
    "    # Set up: project each of the coordinates in the shape_geometry\n",
    "    # to be shape_meters\n",
    "    shape_dist_array = np.array(\n",
    "            [shape_geometry.project(shapely.geometry.Point(p)) \n",
    "            for p in shape_geometry.coords]\n",
    "        )\n",
    "    \n",
    "    # (1) Given a stop sequence value, find the stop_sequence values \n",
    "    # just flanking it (prior and subsequent).\n",
    "    subset_seq = include_prior_and_subsequent(\n",
    "        stop_sequence_array, current_stop_seq)\n",
    "\n",
    "    \n",
    "    # (2) Grab relevant subset based on stop sequence values to get stop geometry subset\n",
    "    # https://stackoverflow.com/questions/5508352/indexing-numpy-array-with-another-numpy-array\n",
    "    subset_stop_geom = stop_geometry_array[subset_seq]\n",
    "\n",
    "    # (3) Project this vector of 3 stops\n",
    "    # because we need to know which part to subset\n",
    "    # off of the shape's shape_meters array\n",
    "    subset_stop_proj = np.array(\n",
    "        [shape_geometry.project(i) for i in subset_stop_geom]\n",
    "    )\n",
    "\n",
    "    # (4) Get the subset of shape_path points that\n",
    "    # spans a start distance position and end distance position \n",
    "    # We have 2 stops, and let's grab the chunk of the shape that spans that\n",
    "    # https://stackoverflow.com/questions/16343752/numpy-where-function-multiple-conditions\n",
    "\n",
    "    # the start_dist and end_dist take the prior/subsequent stop\n",
    "    # to use to check against direction\n",
    "    shape_dist_subset = shape_dist_array[\n",
    "        (np.where(\n",
    "            (shape_dist_array >= subset_stop_proj[0]) & \n",
    "            (shape_dist_array <= subset_stop_proj[-1]))\n",
    "        )]\n",
    "    \n",
    "    # Interpolate again so we change the shape_meters back into coordinate points\n",
    "    subset_shape_geom = [shape_geometry.interpolate(i) \n",
    "                           for i in shape_dist_subset]\n",
    "\n",
    "    # If the stop vector and shape vector run in the same direction,\n",
    "    # then we want to cut a segment from prior to current stop.\n",
    "    dot_prod = find_if_two_arrays_same_direction(\n",
    "        subset_stop_geom,\n",
    "        subset_shape_geom\n",
    "    )\n",
    "    \n",
    "    \n",
    "\n"
   ]
  },
  {
   "cell_type": "code",
   "execution_count": 70,
   "id": "8e5c8655-20d8-4f0c-ae56-91fbef19dac5",
   "metadata": {},
   "outputs": [],
   "source": [
    "def find_if_two_arrays_same_direction(\n",
    "    subset_stop_geom_array: np.ndarray, \n",
    "    subset_shape_geom_array: np.ndarray\n",
    ") -> float:\n",
    "    \"\"\"\n",
    "    \"\"\"\n",
    "    # Get vectors for stop and shape\n",
    "    stop_vec = distill_array_into_direction_vector(subset_stop_geom_array)\n",
    "    shape_vec = distill_array_into_direction_vector(subset_shape_geom_array)\n",
    "    \n",
    "    # Normalize the vectors (divide by length) to get unit vector\n",
    "    stop_norm = get_normalized_vector(stop_vec)\n",
    "    shape_norm = get_normalized_vector(shape_vec)\n",
    "    \n",
    "    dot_result = dot_product(stop_norm, shape_norm)\n",
    "    \n",
    "    return dot_result"
   ]
  },
  {
   "cell_type": "code",
   "execution_count": 71,
   "id": "04c4593b-d974-4644-a279-8d517b434833",
   "metadata": {},
   "outputs": [],
   "source": [
    "start_stop = subset_stop_geom[0]\n",
    "end_stop = subset_stop_geom[-1]\n",
    "\n",
    "stop_vec = get_direction_vector(start_stop, end_stop)"
   ]
  },
  {
   "cell_type": "code",
   "execution_count": 72,
   "id": "ae5748e2-42d5-490c-a075-a9d1cc07c492",
   "metadata": {},
   "outputs": [
    {
     "name": "stderr",
     "output_type": "stream",
     "text": [
      "/opt/conda/lib/python3.9/site-packages/shapely/linear.py:90: RuntimeWarning: invalid value encountered in line_locate_point\n"
     ]
    },
    {
     "data": {
      "text/plain": [
       "array([5503.02579871, 5877.33959251, 6007.87823823])"
      ]
     },
     "execution_count": 72,
     "metadata": {},
     "output_type": "execute_result"
    }
   ],
   "source": [
    "# Now project this vector of 3 stops\n",
    "# because we need to know which part to subset\n",
    "# off of the shape's shape_meters array\n",
    "subset_stop_projected = np.array(\n",
    "    [shape_geom.project(i) for i in subset_stop_geom]\n",
    ")\n",
    "subset_stop_projected"
   ]
  },
  {
   "cell_type": "code",
   "execution_count": 18,
   "id": "1025cc9b-27a7-489d-945b-2b8dfe516363",
   "metadata": {},
   "outputs": [
    {
     "data": {
      "text/plain": [
       "array([  0.        ,  14.50702629, 100.6041139 , 126.5169287 ,\n",
       "       126.5169287 ])"
      ]
     },
     "execution_count": 18,
     "metadata": {},
     "output_type": "execute_result"
    }
   ],
   "source": [
    "shape_path_dist = np.array(\n",
    "            [shape_geom.project(shapely.geometry.Point(p)) \n",
    "            for p in shape_geom.coords]\n",
    ")\n",
    "\n",
    "shape_path_dist[:5]"
   ]
  },
  {
   "cell_type": "code",
   "execution_count": 19,
   "id": "c12f3b8b-c4cd-4055-8386-c37c9335189a",
   "metadata": {},
   "outputs": [
    {
     "data": {
      "text/plain": [
       "array([5503.17692096, 5503.17692096, 5517.81052203, 5533.71996806,\n",
       "       5549.33373331, 5582.26940738, 5603.59423777, 5664.84485808,\n",
       "       5848.62988146, 5859.68089117, 5877.38668559, 5877.38668559,\n",
       "       5907.37737327])"
      ]
     },
     "execution_count": 19,
     "metadata": {},
     "output_type": "execute_result"
    }
   ],
   "source": [
    "# Get the subset of shape_path points that\n",
    "# covers start_dist to end_dist\n",
    "# https://stackoverflow.com/questions/16343752/numpy-where-function-multiple-conditions\n",
    "\n",
    "# the start_dist and end_dist take the prior/subsequent stop\n",
    "# to use to check against direction\n",
    "shape_path_subset = shape_path_dist[\n",
    "    (np.where(\n",
    "        (shape_path_dist >= subset_stop_projected[0]) & \n",
    "        (shape_path_dist <= subset_stop_projected[-1]))\n",
    "    )]\n",
    "\n",
    "shape_path_subset"
   ]
  },
  {
   "cell_type": "code",
   "execution_count": 41,
   "id": "f7054c99-5c02-4598-a8d3-016fe1870197",
   "metadata": {},
   "outputs": [],
   "source": [
    "shape_path_interp = [shape_geom.interpolate(i) \n",
    "                     for i in shape_path_subset]"
   ]
  },
  {
   "cell_type": "code",
   "execution_count": 21,
   "id": "9d5b76da-4bcf-4b5a-a367-aa6b9854cc07",
   "metadata": {},
   "outputs": [
    {
     "data": {
      "text/plain": [
       "(-387.91065980354324, -96.21564955078065)"
      ]
     },
     "execution_count": 21,
     "metadata": {},
     "output_type": "execute_result"
    }
   ],
   "source": [
    "# take the shape's vector and take the start/end of that\n",
    "# and create vector\n",
    "# get a vector between the subsequent and prior stops (we draw \n",
    "# right through our stop of interest)\n",
    "start_shape = shape_path_interp[0]\n",
    "end_shape = shape_path_interp[-1]\n",
    "\n",
    "shape_vec = get_direction_vector(start_shape, end_shape)\n",
    "shape_vec"
   ]
  },
  {
   "cell_type": "code",
   "execution_count": 23,
   "id": "7346f380-a011-44a7-8bc5-15d8a703cf71",
   "metadata": {},
   "outputs": [
    {
     "data": {
      "text/plain": [
       "((-490.6085929343826, -93.5817481954582),\n",
       " (-387.91065980354324, -96.21564955078065))"
      ]
     },
     "execution_count": 23,
     "metadata": {},
     "output_type": "execute_result"
    }
   ],
   "source": [
    "#https://stackoverflow.com/questions/17332759/finding-vectors-with-2-points\n",
    "# normalize to unit vector\n",
    "# https://stackoverflow.com/questions/21030391/how-to-normalize-a-numpy-array-to-a-unit-vector\n",
    "stop_vec, shape_vec"
   ]
  },
  {
   "cell_type": "code",
   "execution_count": 38,
   "id": "1f3464ce-c6c5-4fd2-93d7-30cc1f5bf2e2",
   "metadata": {},
   "outputs": [
    {
     "data": {
      "text/plain": [
       "((-0.9822897736499571, -0.18736808848551603),\n",
       " (-0.9705894605575428, -0.24074072994534598))"
      ]
     },
     "execution_count": 38,
     "metadata": {},
     "output_type": "execute_result"
    }
   ],
   "source": [
    "stop_norm = get_normalized_vector(stop_vec)\n",
    "shape_norm = get_normalized_vector(shape_vec)\n",
    "\n",
    "stop_norm, shape_norm"
   ]
  },
  {
   "cell_type": "code",
   "execution_count": 73,
   "id": "3becf1db-c528-4290-98b2-3a09aa94be96",
   "metadata": {},
   "outputs": [
    {
     "data": {
      "text/plain": [
       "0.9985072319085699"
      ]
     },
     "execution_count": 73,
     "metadata": {},
     "output_type": "execute_result"
    }
   ],
   "source": [
    "dot_prod = find_if_two_arrays_same_direction(\n",
    "    subset_stop_geom,\n",
    "    shape_path_interp\n",
    ")\n",
    "\n",
    "dot_prod"
   ]
  },
  {
   "cell_type": "code",
   "execution_count": null,
   "id": "ccdf6cef-2d89-4ad0-9b97-a28d6a02adf7",
   "metadata": {},
   "outputs": [],
   "source": [
    "if dot_prod > 0:\n",
    "    shape_path_interp"
   ]
  },
  {
   "cell_type": "code",
   "execution_count": 77,
   "id": "b0bef4a7-7d56-4499-9fd9-ea7e96ddcc5b",
   "metadata": {},
   "outputs": [],
   "source": [
    "use_these_stops = subset_stop_geom[:2]"
   ]
  },
  {
   "cell_type": "code",
   "execution_count": 78,
   "id": "96719107-2765-490e-8c9a-ec07734ba58f",
   "metadata": {},
   "outputs": [
    {
     "data": {
      "text/plain": [
       "array([5503.02579871, 5877.33959251])"
      ]
     },
     "execution_count": 78,
     "metadata": {},
     "output_type": "execute_result"
    }
   ],
   "source": [
    "# Now project this vector of 3 stops\n",
    "# because we need to know which part to subset\n",
    "# off of the shape's shape_meters array\n",
    "use_these_stops_proj = np.array(\n",
    "    [shape_geom.project(i) for i in use_these_stops]\n",
    ")\n",
    "use_these_stops_proj"
   ]
  },
  {
   "cell_type": "code",
   "execution_count": 82,
   "id": "9999cf8d-85ef-49ae-868b-121ed3108775",
   "metadata": {},
   "outputs": [
    {
     "data": {
      "text/plain": [
       "array([5503.17692096, 5503.17692096, 5517.81052203, 5533.71996806,\n",
       "       5549.33373331, 5582.26940738, 5603.59423777, 5664.84485808,\n",
       "       5848.62988146, 5859.68089117])"
      ]
     },
     "execution_count": 82,
     "metadata": {},
     "output_type": "execute_result"
    }
   ],
   "source": [
    "use_me_shape = shape_path_dist[\n",
    "    (np.where(\n",
    "        (shape_path_dist >= use_these_stops_proj[0]) & \n",
    "        (shape_path_dist <= use_these_stops_proj[-1]))\n",
    "    )]\n",
    "\n",
    "use_me_shape"
   ]
  },
  {
   "cell_type": "code",
   "execution_count": 84,
   "id": "d6f9e97a-4f65-4d23-b81a-37f27d8146fe",
   "metadata": {},
   "outputs": [],
   "source": [
    "use_me_shape_interp = [shape_geom.interpolate(i) \n",
    "                     for i in use_me_shape]"
   ]
  },
  {
   "cell_type": "code",
   "execution_count": 92,
   "id": "ed9b0c01-7f34-4321-a057-ad9b1ae21653",
   "metadata": {},
   "outputs": [],
   "source": [
    "segment_geom = gpd.GeoSeries(\n",
    "    shapely.geometry.LineString(use_me_shape_interp), \n",
    "    crs=\"EPSG:3310\"\n",
    ")"
   ]
  },
  {
   "cell_type": "code",
   "execution_count": 96,
   "id": "8f1176bc-b6be-4813-9b30-63ceab2e48af",
   "metadata": {},
   "outputs": [],
   "source": [
    "use_stops_geom = gpd.GeoSeries(use_these_stops, crs=\"EPSG:3310\")"
   ]
  },
  {
   "cell_type": "code",
   "execution_count": 97,
   "id": "e67947bc-c2ee-480d-90b3-eef4acd086f3",
   "metadata": {},
   "outputs": [],
   "source": [
    "import folium"
   ]
  },
  {
   "cell_type": "code",
   "execution_count": 98,
   "id": "a6d02df8-0c7a-43a5-aad4-4dbb87818311",
   "metadata": {},
   "outputs": [
    {
     "data": {
      "text/plain": [
       "<folium.map.LayerControl at 0x7f0a48e2dd30>"
      ]
     },
     "execution_count": 98,
     "metadata": {},
     "output_type": "execute_result"
    }
   ],
   "source": [
    "m = segment_geom.explore(tiles=\"CartoDB Positron\", name=\"segment\")\n",
    "m = use_stops_geom.explore(m=m, name=\"stops\")\n",
    "folium.LayerControl().add_to(m)"
   ]
  },
  {
   "cell_type": "code",
   "execution_count": 99,
   "id": "a37ecbbc-1fab-4e0b-86c7-fae1fac199c2",
   "metadata": {},
   "outputs": [
    {
     "data": {
      "text/html": [
       "<div style=\"width:100%;\"><div style=\"position:relative;width:100%;height:0;padding-bottom:60%;\"><span style=\"color:#565656\">Make this Notebook Trusted to load map: File -> Trust Notebook</span><iframe src=\"about:blank\" style=\"position:absolute;width:100%;height:100%;left:0;top:0;border:none !important;\" data-html=%3C%21DOCTYPE%20html%3E%0A%3Chead%3E%20%20%20%20%0A%20%20%20%20%3Cmeta%20http-equiv%3D%22content-type%22%20content%3D%22text/html%3B%20charset%3DUTF-8%22%20/%3E%0A%20%20%20%20%0A%20%20%20%20%20%20%20%20%3Cscript%3E%0A%20%20%20%20%20%20%20%20%20%20%20%20L_NO_TOUCH%20%3D%20false%3B%0A%20%20%20%20%20%20%20%20%20%20%20%20L_DISABLE_3D%20%3D%20false%3B%0A%20%20%20%20%20%20%20%20%3C/script%3E%0A%20%20%20%20%0A%20%20%20%20%3Cstyle%3Ehtml%2C%20body%20%7Bwidth%3A%20100%25%3Bheight%3A%20100%25%3Bmargin%3A%200%3Bpadding%3A%200%3B%7D%3C/style%3E%0A%20%20%20%20%3Cstyle%3E%23map%20%7Bposition%3Aabsolute%3Btop%3A0%3Bbottom%3A0%3Bright%3A0%3Bleft%3A0%3B%7D%3C/style%3E%0A%20%20%20%20%3Cscript%20src%3D%22https%3A//cdn.jsdelivr.net/npm/leaflet%401.6.0/dist/leaflet.js%22%3E%3C/script%3E%0A%20%20%20%20%3Cscript%20src%3D%22https%3A//code.jquery.com/jquery-1.12.4.min.js%22%3E%3C/script%3E%0A%20%20%20%20%3Cscript%20src%3D%22https%3A//maxcdn.bootstrapcdn.com/bootstrap/3.2.0/js/bootstrap.min.js%22%3E%3C/script%3E%0A%20%20%20%20%3Cscript%20src%3D%22https%3A//cdnjs.cloudflare.com/ajax/libs/Leaflet.awesome-markers/2.0.2/leaflet.awesome-markers.js%22%3E%3C/script%3E%0A%20%20%20%20%3Clink%20rel%3D%22stylesheet%22%20href%3D%22https%3A//cdn.jsdelivr.net/npm/leaflet%401.6.0/dist/leaflet.css%22/%3E%0A%20%20%20%20%3Clink%20rel%3D%22stylesheet%22%20href%3D%22https%3A//maxcdn.bootstrapcdn.com/bootstrap/3.2.0/css/bootstrap.min.css%22/%3E%0A%20%20%20%20%3Clink%20rel%3D%22stylesheet%22%20href%3D%22https%3A//maxcdn.bootstrapcdn.com/bootstrap/3.2.0/css/bootstrap-theme.min.css%22/%3E%0A%20%20%20%20%3Clink%20rel%3D%22stylesheet%22%20href%3D%22https%3A//maxcdn.bootstrapcdn.com/font-awesome/4.6.3/css/font-awesome.min.css%22/%3E%0A%20%20%20%20%3Clink%20rel%3D%22stylesheet%22%20href%3D%22https%3A//cdnjs.cloudflare.com/ajax/libs/Leaflet.awesome-markers/2.0.2/leaflet.awesome-markers.css%22/%3E%0A%20%20%20%20%3Clink%20rel%3D%22stylesheet%22%20href%3D%22https%3A//cdn.jsdelivr.net/gh/python-visualization/folium/folium/templates/leaflet.awesome.rotate.min.css%22/%3E%0A%20%20%20%20%0A%20%20%20%20%20%20%20%20%20%20%20%20%3Cmeta%20name%3D%22viewport%22%20content%3D%22width%3Ddevice-width%2C%0A%20%20%20%20%20%20%20%20%20%20%20%20%20%20%20%20initial-scale%3D1.0%2C%20maximum-scale%3D1.0%2C%20user-scalable%3Dno%22%20/%3E%0A%20%20%20%20%20%20%20%20%20%20%20%20%3Cstyle%3E%0A%20%20%20%20%20%20%20%20%20%20%20%20%20%20%20%20%23map_23f910e0714e45fda97b6f2f119adfce%20%7B%0A%20%20%20%20%20%20%20%20%20%20%20%20%20%20%20%20%20%20%20%20position%3A%20relative%3B%0A%20%20%20%20%20%20%20%20%20%20%20%20%20%20%20%20%20%20%20%20width%3A%20100.0%25%3B%0A%20%20%20%20%20%20%20%20%20%20%20%20%20%20%20%20%20%20%20%20height%3A%20100.0%25%3B%0A%20%20%20%20%20%20%20%20%20%20%20%20%20%20%20%20%20%20%20%20left%3A%200.0%25%3B%0A%20%20%20%20%20%20%20%20%20%20%20%20%20%20%20%20%20%20%20%20top%3A%200.0%25%3B%0A%20%20%20%20%20%20%20%20%20%20%20%20%20%20%20%20%7D%0A%20%20%20%20%20%20%20%20%20%20%20%20%3C/style%3E%0A%20%20%20%20%20%20%20%20%0A%3C/head%3E%0A%3Cbody%3E%20%20%20%20%0A%20%20%20%20%0A%20%20%20%20%20%20%20%20%20%20%20%20%3Cdiv%20class%3D%22folium-map%22%20id%3D%22map_23f910e0714e45fda97b6f2f119adfce%22%20%3E%3C/div%3E%0A%20%20%20%20%20%20%20%20%0A%3C/body%3E%0A%3Cscript%3E%20%20%20%20%0A%20%20%20%20%0A%20%20%20%20%20%20%20%20%20%20%20%20var%20map_23f910e0714e45fda97b6f2f119adfce%20%3D%20L.map%28%0A%20%20%20%20%20%20%20%20%20%20%20%20%20%20%20%20%22map_23f910e0714e45fda97b6f2f119adfce%22%2C%0A%20%20%20%20%20%20%20%20%20%20%20%20%20%20%20%20%7B%0A%20%20%20%20%20%20%20%20%20%20%20%20%20%20%20%20%20%20%20%20center%3A%20%5B32.731774500000014%2C%20-117.19961650000002%5D%2C%0A%20%20%20%20%20%20%20%20%20%20%20%20%20%20%20%20%20%20%20%20crs%3A%20L.CRS.EPSG3857%2C%0A%20%20%20%20%20%20%20%20%20%20%20%20%20%20%20%20%20%20%20%20zoom%3A%2010%2C%0A%20%20%20%20%20%20%20%20%20%20%20%20%20%20%20%20%20%20%20%20zoomControl%3A%20true%2C%0A%20%20%20%20%20%20%20%20%20%20%20%20%20%20%20%20%20%20%20%20preferCanvas%3A%20false%2C%0A%20%20%20%20%20%20%20%20%20%20%20%20%20%20%20%20%7D%0A%20%20%20%20%20%20%20%20%20%20%20%20%29%3B%0A%20%20%20%20%20%20%20%20%20%20%20%20L.control.scale%28%29.addTo%28map_23f910e0714e45fda97b6f2f119adfce%29%3B%0A%0A%20%20%20%20%20%20%20%20%20%20%20%20%0A%0A%20%20%20%20%20%20%20%20%0A%20%20%20%20%0A%20%20%20%20%20%20%20%20%20%20%20%20var%20tile_layer_1ff00fc279d04e9db1839287dd8fd38e%20%3D%20L.tileLayer%28%0A%20%20%20%20%20%20%20%20%20%20%20%20%20%20%20%20%22https%3A//a.basemaps.cartocdn.com/light_all/%7Bz%7D/%7Bx%7D/%7By%7D%7Br%7D.png%22%2C%0A%20%20%20%20%20%20%20%20%20%20%20%20%20%20%20%20%7B%22attribution%22%3A%20%22%5Cu0026copy%3B%20%5Cu003ca%20href%3D%5C%22https%3A//www.openstreetmap.org/copyright%5C%22%5Cu003eOpenStreetMap%5Cu003c/a%5Cu003e%20contributors%20%5Cu0026copy%3B%20%5Cu003ca%20href%3D%5C%22https%3A//carto.com/attributions%5C%22%5Cu003eCARTO%5Cu003c/a%5Cu003e%22%2C%20%22detectRetina%22%3A%20false%2C%20%22maxNativeZoom%22%3A%2020%2C%20%22maxZoom%22%3A%2020%2C%20%22minZoom%22%3A%200%2C%20%22noWrap%22%3A%20false%2C%20%22opacity%22%3A%201%2C%20%22subdomains%22%3A%20%22abc%22%2C%20%22tms%22%3A%20false%7D%0A%20%20%20%20%20%20%20%20%20%20%20%20%29.addTo%28map_23f910e0714e45fda97b6f2f119adfce%29%3B%0A%20%20%20%20%20%20%20%20%0A%20%20%20%20%0A%20%20%20%20%20%20%20%20%20%20%20%20map_23f910e0714e45fda97b6f2f119adfce.fitBounds%28%0A%20%20%20%20%20%20%20%20%20%20%20%20%20%20%20%20%5B%5B32.73141200000001%2C%20-117.201452%5D%2C%20%5B32.732137000000016%2C%20-117.19778100000002%5D%5D%2C%0A%20%20%20%20%20%20%20%20%20%20%20%20%20%20%20%20%7B%7D%0A%20%20%20%20%20%20%20%20%20%20%20%20%29%3B%0A%20%20%20%20%20%20%20%20%0A%20%20%20%20%0A%20%20%20%20%20%20%20%20function%20geo_json_b11d537e30244e49bca4945488fdb13e_styler%28feature%29%20%7B%0A%20%20%20%20%20%20%20%20%20%20%20%20switch%28feature.id%29%20%7B%0A%20%20%20%20%20%20%20%20%20%20%20%20%20%20%20%20default%3A%0A%20%20%20%20%20%20%20%20%20%20%20%20%20%20%20%20%20%20%20%20return%20%7B%22fillOpacity%22%3A%200.5%2C%20%22weight%22%3A%202%7D%3B%0A%20%20%20%20%20%20%20%20%20%20%20%20%7D%0A%20%20%20%20%20%20%20%20%7D%0A%20%20%20%20%20%20%20%20function%20geo_json_b11d537e30244e49bca4945488fdb13e_highlighter%28feature%29%20%7B%0A%20%20%20%20%20%20%20%20%20%20%20%20switch%28feature.id%29%20%7B%0A%20%20%20%20%20%20%20%20%20%20%20%20%20%20%20%20default%3A%0A%20%20%20%20%20%20%20%20%20%20%20%20%20%20%20%20%20%20%20%20return%20%7B%22fillOpacity%22%3A%200.75%7D%3B%0A%20%20%20%20%20%20%20%20%20%20%20%20%7D%0A%20%20%20%20%20%20%20%20%7D%0A%20%20%20%20%20%20%20%20function%20geo_json_b11d537e30244e49bca4945488fdb13e_pointToLayer%28feature%2C%20latlng%29%20%7B%0A%20%20%20%20%20%20%20%20%20%20%20%20var%20opts%20%3D%20%7B%22bubblingMouseEvents%22%3A%20true%2C%20%22color%22%3A%20%22%233388ff%22%2C%20%22dashArray%22%3A%20null%2C%20%22dashOffset%22%3A%20null%2C%20%22fill%22%3A%20true%2C%20%22fillColor%22%3A%20%22%233388ff%22%2C%20%22fillOpacity%22%3A%200.2%2C%20%22fillRule%22%3A%20%22evenodd%22%2C%20%22lineCap%22%3A%20%22round%22%2C%20%22lineJoin%22%3A%20%22round%22%2C%20%22opacity%22%3A%201.0%2C%20%22radius%22%3A%202%2C%20%22stroke%22%3A%20true%2C%20%22weight%22%3A%203%7D%3B%0A%20%20%20%20%20%20%20%20%20%20%20%20%0A%20%20%20%20%20%20%20%20%20%20%20%20let%20style%20%3D%20geo_json_b11d537e30244e49bca4945488fdb13e_styler%28feature%29%0A%20%20%20%20%20%20%20%20%20%20%20%20Object.assign%28opts%2C%20style%29%0A%20%20%20%20%20%20%20%20%20%20%20%20%0A%20%20%20%20%20%20%20%20%20%20%20%20return%20new%20L.CircleMarker%28latlng%2C%20opts%29%0A%20%20%20%20%20%20%20%20%7D%0A%0A%20%20%20%20%20%20%20%20function%20geo_json_b11d537e30244e49bca4945488fdb13e_onEachFeature%28feature%2C%20layer%29%20%7B%0A%20%20%20%20%20%20%20%20%20%20%20%20layer.on%28%7B%0A%20%20%20%20%20%20%20%20%20%20%20%20%20%20%20%20mouseout%3A%20function%28e%29%20%7B%0A%20%20%20%20%20%20%20%20%20%20%20%20%20%20%20%20%20%20%20%20if%28typeof%20e.target.setStyle%20%3D%3D%3D%20%22function%22%29%7B%0A%20%20%20%20%20%20%20%20%20%20%20%20%20%20%20%20%20%20%20%20%20%20%20%20geo_json_b11d537e30244e49bca4945488fdb13e.resetStyle%28e.target%29%3B%0A%20%20%20%20%20%20%20%20%20%20%20%20%20%20%20%20%20%20%20%20%7D%0A%20%20%20%20%20%20%20%20%20%20%20%20%20%20%20%20%7D%2C%0A%20%20%20%20%20%20%20%20%20%20%20%20%20%20%20%20mouseover%3A%20function%28e%29%20%7B%0A%20%20%20%20%20%20%20%20%20%20%20%20%20%20%20%20%20%20%20%20if%28typeof%20e.target.setStyle%20%3D%3D%3D%20%22function%22%29%7B%0A%20%20%20%20%20%20%20%20%20%20%20%20%20%20%20%20%20%20%20%20%20%20%20%20const%20highlightStyle%20%3D%20geo_json_b11d537e30244e49bca4945488fdb13e_highlighter%28e.target.feature%29%0A%20%20%20%20%20%20%20%20%20%20%20%20%20%20%20%20%20%20%20%20%20%20%20%20e.target.setStyle%28highlightStyle%29%3B%0A%20%20%20%20%20%20%20%20%20%20%20%20%20%20%20%20%20%20%20%20%7D%0A%20%20%20%20%20%20%20%20%20%20%20%20%20%20%20%20%7D%2C%0A%20%20%20%20%20%20%20%20%20%20%20%20%7D%29%3B%0A%20%20%20%20%20%20%20%20%7D%3B%0A%20%20%20%20%20%20%20%20var%20geo_json_b11d537e30244e49bca4945488fdb13e%20%3D%20L.geoJson%28null%2C%20%7B%0A%20%20%20%20%20%20%20%20%20%20%20%20%20%20%20%20onEachFeature%3A%20geo_json_b11d537e30244e49bca4945488fdb13e_onEachFeature%2C%0A%20%20%20%20%20%20%20%20%20%20%20%20%0A%20%20%20%20%20%20%20%20%20%20%20%20%20%20%20%20style%3A%20geo_json_b11d537e30244e49bca4945488fdb13e_styler%2C%0A%20%20%20%20%20%20%20%20%20%20%20%20%20%20%20%20pointToLayer%3A%20geo_json_b11d537e30244e49bca4945488fdb13e_pointToLayer%0A%20%20%20%20%20%20%20%20%7D%29%3B%0A%0A%20%20%20%20%20%20%20%20function%20geo_json_b11d537e30244e49bca4945488fdb13e_add%20%28data%29%20%7B%0A%20%20%20%20%20%20%20%20%20%20%20%20geo_json_b11d537e30244e49bca4945488fdb13e%0A%20%20%20%20%20%20%20%20%20%20%20%20%20%20%20%20.addData%28data%29%0A%20%20%20%20%20%20%20%20%20%20%20%20%20%20%20%20.addTo%28map_23f910e0714e45fda97b6f2f119adfce%29%3B%0A%20%20%20%20%20%20%20%20%7D%0A%20%20%20%20%20%20%20%20%20%20%20%20geo_json_b11d537e30244e49bca4945488fdb13e_add%28%7B%22bbox%22%3A%20%5B-117.201452%2C%2032.73141200000001%2C%20-117.19778100000002%2C%2032.732137000000016%5D%2C%20%22features%22%3A%20%5B%7B%22bbox%22%3A%20%5B-117.201452%2C%2032.73141200000001%2C%20-117.19778100000002%2C%2032.732137000000016%5D%2C%20%22geometry%22%3A%20%7B%22coordinates%22%3A%20%5B%5B-117.19778100000002%2C%2032.73206300000003%5D%2C%20%5B-117.19778100000002%2C%2032.73206300000003%5D%2C%20%5B-117.197931%2C%2032.73209900000004%5D%2C%20%5B-117.19809699999999%2C%2032.73212799999999%5D%2C%20%5B-117.19826299999998%2C%2032.732137000000016%5D%2C%20%5B-117.19861099999999%2C%2032.73209900000004%5D%2C%20%5B-117.198828%2C%2032.73204200000001%5D%2C%20%5B-117.19944700000002%2C%2032.73186699999999%5D%2C%20%5B-117.20133900000002%2C%2032.73144000000002%5D%2C%20%5B-117.201452%2C%2032.73141200000001%5D%5D%2C%20%22type%22%3A%20%22LineString%22%7D%2C%20%22id%22%3A%20%220%22%2C%20%22properties%22%3A%20%7B%7D%2C%20%22type%22%3A%20%22Feature%22%7D%5D%2C%20%22type%22%3A%20%22FeatureCollection%22%7D%29%3B%0A%0A%20%20%20%20%20%20%20%20%0A%20%20%20%20%0A%20%20%20%20%20%20%20%20function%20geo_json_87d0778b306547e594c6e03e2c224178_styler%28feature%29%20%7B%0A%20%20%20%20%20%20%20%20%20%20%20%20switch%28feature.id%29%20%7B%0A%20%20%20%20%20%20%20%20%20%20%20%20%20%20%20%20default%3A%0A%20%20%20%20%20%20%20%20%20%20%20%20%20%20%20%20%20%20%20%20return%20%7B%22fillOpacity%22%3A%200.5%2C%20%22weight%22%3A%202%7D%3B%0A%20%20%20%20%20%20%20%20%20%20%20%20%7D%0A%20%20%20%20%20%20%20%20%7D%0A%20%20%20%20%20%20%20%20function%20geo_json_87d0778b306547e594c6e03e2c224178_highlighter%28feature%29%20%7B%0A%20%20%20%20%20%20%20%20%20%20%20%20switch%28feature.id%29%20%7B%0A%20%20%20%20%20%20%20%20%20%20%20%20%20%20%20%20default%3A%0A%20%20%20%20%20%20%20%20%20%20%20%20%20%20%20%20%20%20%20%20return%20%7B%22fillOpacity%22%3A%200.75%7D%3B%0A%20%20%20%20%20%20%20%20%20%20%20%20%7D%0A%20%20%20%20%20%20%20%20%7D%0A%20%20%20%20%20%20%20%20function%20geo_json_87d0778b306547e594c6e03e2c224178_pointToLayer%28feature%2C%20latlng%29%20%7B%0A%20%20%20%20%20%20%20%20%20%20%20%20var%20opts%20%3D%20%7B%22bubblingMouseEvents%22%3A%20true%2C%20%22color%22%3A%20%22%233388ff%22%2C%20%22dashArray%22%3A%20null%2C%20%22dashOffset%22%3A%20null%2C%20%22fill%22%3A%20true%2C%20%22fillColor%22%3A%20%22%233388ff%22%2C%20%22fillOpacity%22%3A%200.2%2C%20%22fillRule%22%3A%20%22evenodd%22%2C%20%22lineCap%22%3A%20%22round%22%2C%20%22lineJoin%22%3A%20%22round%22%2C%20%22opacity%22%3A%201.0%2C%20%22radius%22%3A%202%2C%20%22stroke%22%3A%20true%2C%20%22weight%22%3A%203%7D%3B%0A%20%20%20%20%20%20%20%20%20%20%20%20%0A%20%20%20%20%20%20%20%20%20%20%20%20let%20style%20%3D%20geo_json_87d0778b306547e594c6e03e2c224178_styler%28feature%29%0A%20%20%20%20%20%20%20%20%20%20%20%20Object.assign%28opts%2C%20style%29%0A%20%20%20%20%20%20%20%20%20%20%20%20%0A%20%20%20%20%20%20%20%20%20%20%20%20return%20new%20L.CircleMarker%28latlng%2C%20opts%29%0A%20%20%20%20%20%20%20%20%7D%0A%0A%20%20%20%20%20%20%20%20function%20geo_json_87d0778b306547e594c6e03e2c224178_onEachFeature%28feature%2C%20layer%29%20%7B%0A%20%20%20%20%20%20%20%20%20%20%20%20layer.on%28%7B%0A%20%20%20%20%20%20%20%20%20%20%20%20%20%20%20%20mouseout%3A%20function%28e%29%20%7B%0A%20%20%20%20%20%20%20%20%20%20%20%20%20%20%20%20%20%20%20%20if%28typeof%20e.target.setStyle%20%3D%3D%3D%20%22function%22%29%7B%0A%20%20%20%20%20%20%20%20%20%20%20%20%20%20%20%20%20%20%20%20%20%20%20%20geo_json_87d0778b306547e594c6e03e2c224178.resetStyle%28e.target%29%3B%0A%20%20%20%20%20%20%20%20%20%20%20%20%20%20%20%20%20%20%20%20%7D%0A%20%20%20%20%20%20%20%20%20%20%20%20%20%20%20%20%7D%2C%0A%20%20%20%20%20%20%20%20%20%20%20%20%20%20%20%20mouseover%3A%20function%28e%29%20%7B%0A%20%20%20%20%20%20%20%20%20%20%20%20%20%20%20%20%20%20%20%20if%28typeof%20e.target.setStyle%20%3D%3D%3D%20%22function%22%29%7B%0A%20%20%20%20%20%20%20%20%20%20%20%20%20%20%20%20%20%20%20%20%20%20%20%20const%20highlightStyle%20%3D%20geo_json_87d0778b306547e594c6e03e2c224178_highlighter%28e.target.feature%29%0A%20%20%20%20%20%20%20%20%20%20%20%20%20%20%20%20%20%20%20%20%20%20%20%20e.target.setStyle%28highlightStyle%29%3B%0A%20%20%20%20%20%20%20%20%20%20%20%20%20%20%20%20%20%20%20%20%7D%0A%20%20%20%20%20%20%20%20%20%20%20%20%20%20%20%20%7D%2C%0A%20%20%20%20%20%20%20%20%20%20%20%20%7D%29%3B%0A%20%20%20%20%20%20%20%20%7D%3B%0A%20%20%20%20%20%20%20%20var%20geo_json_87d0778b306547e594c6e03e2c224178%20%3D%20L.geoJson%28null%2C%20%7B%0A%20%20%20%20%20%20%20%20%20%20%20%20%20%20%20%20onEachFeature%3A%20geo_json_87d0778b306547e594c6e03e2c224178_onEachFeature%2C%0A%20%20%20%20%20%20%20%20%20%20%20%20%0A%20%20%20%20%20%20%20%20%20%20%20%20%20%20%20%20style%3A%20geo_json_87d0778b306547e594c6e03e2c224178_styler%2C%0A%20%20%20%20%20%20%20%20%20%20%20%20%20%20%20%20pointToLayer%3A%20geo_json_87d0778b306547e594c6e03e2c224178_pointToLayer%0A%20%20%20%20%20%20%20%20%7D%29%3B%0A%0A%20%20%20%20%20%20%20%20function%20geo_json_87d0778b306547e594c6e03e2c224178_add%20%28data%29%20%7B%0A%20%20%20%20%20%20%20%20%20%20%20%20geo_json_87d0778b306547e594c6e03e2c224178%0A%20%20%20%20%20%20%20%20%20%20%20%20%20%20%20%20.addData%28data%29%0A%20%20%20%20%20%20%20%20%20%20%20%20%20%20%20%20.addTo%28map_23f910e0714e45fda97b6f2f119adfce%29%3B%0A%20%20%20%20%20%20%20%20%7D%0A%20%20%20%20%20%20%20%20%20%20%20%20geo_json_87d0778b306547e594c6e03e2c224178_add%28%7B%22bbox%22%3A%20%5B-117.201643827964%2C%2032.73140221615097%2C%20-117.197756006971%2C%2032.732133021813034%5D%2C%20%22features%22%3A%20%5B%7B%22bbox%22%3A%20%5B-117.197756006971%2C%2032.732133021813034%2C%20-117.197756006971%2C%2032.732133021813034%5D%2C%20%22geometry%22%3A%20%7B%22coordinates%22%3A%20%5B-117.197756006971%2C%2032.732133021813034%5D%2C%20%22type%22%3A%20%22Point%22%7D%2C%20%22id%22%3A%20%220%22%2C%20%22properties%22%3A%20%7B%7D%2C%20%22type%22%3A%20%22Feature%22%7D%2C%20%7B%22bbox%22%3A%20%5B-117.201643827964%2C%2032.73140221615097%2C%20-117.201643827964%2C%2032.73140221615097%5D%2C%20%22geometry%22%3A%20%7B%22coordinates%22%3A%20%5B-117.201643827964%2C%2032.73140221615097%5D%2C%20%22type%22%3A%20%22Point%22%7D%2C%20%22id%22%3A%20%221%22%2C%20%22properties%22%3A%20%7B%7D%2C%20%22type%22%3A%20%22Feature%22%7D%5D%2C%20%22type%22%3A%20%22FeatureCollection%22%7D%29%3B%0A%0A%20%20%20%20%20%20%20%20%0A%20%20%20%20%0A%20%20%20%20%20%20%20%20%20%20%20%20var%20layer_control_ea480a78f63b4f73a84d627b206855d9%20%3D%20%7B%0A%20%20%20%20%20%20%20%20%20%20%20%20%20%20%20%20base_layers%20%3A%20%7B%0A%20%20%20%20%20%20%20%20%20%20%20%20%20%20%20%20%20%20%20%20%22https%3A//a.basemaps.cartocdn.com/light_all/%7Bz%7D/%7Bx%7D/%7By%7D%7Br%7D.png%22%20%3A%20tile_layer_1ff00fc279d04e9db1839287dd8fd38e%2C%0A%20%20%20%20%20%20%20%20%20%20%20%20%20%20%20%20%7D%2C%0A%20%20%20%20%20%20%20%20%20%20%20%20%20%20%20%20overlays%20%3A%20%20%7B%0A%20%20%20%20%20%20%20%20%20%20%20%20%20%20%20%20%20%20%20%20%22segment%22%20%3A%20geo_json_b11d537e30244e49bca4945488fdb13e%2C%0A%20%20%20%20%20%20%20%20%20%20%20%20%20%20%20%20%20%20%20%20%22stops%22%20%3A%20geo_json_87d0778b306547e594c6e03e2c224178%2C%0A%20%20%20%20%20%20%20%20%20%20%20%20%20%20%20%20%7D%2C%0A%20%20%20%20%20%20%20%20%20%20%20%20%7D%3B%0A%20%20%20%20%20%20%20%20%20%20%20%20L.control.layers%28%0A%20%20%20%20%20%20%20%20%20%20%20%20%20%20%20%20layer_control_ea480a78f63b4f73a84d627b206855d9.base_layers%2C%0A%20%20%20%20%20%20%20%20%20%20%20%20%20%20%20%20layer_control_ea480a78f63b4f73a84d627b206855d9.overlays%2C%0A%20%20%20%20%20%20%20%20%20%20%20%20%20%20%20%20%7B%22autoZIndex%22%3A%20true%2C%20%22collapsed%22%3A%20true%2C%20%22position%22%3A%20%22topright%22%7D%0A%20%20%20%20%20%20%20%20%20%20%20%20%29.addTo%28map_23f910e0714e45fda97b6f2f119adfce%29%3B%0A%20%20%20%20%20%20%20%20%0A%3C/script%3E onload=\"this.contentDocument.open();this.contentDocument.write(    decodeURIComponent(this.getAttribute('data-html')));this.contentDocument.close();\" allowfullscreen webkitallowfullscreen mozallowfullscreen></iframe></div></div>"
      ],
      "text/plain": [
       "<folium.folium.Map at 0x7f0a4a8f3370>"
      ]
     },
     "execution_count": 99,
     "metadata": {},
     "output_type": "execute_result"
    }
   ],
   "source": [
    "m"
   ]
  },
  {
   "cell_type": "code",
   "execution_count": null,
   "id": "b020d9af-c309-4008-8ee3-bac95bf30f07",
   "metadata": {},
   "outputs": [],
   "source": [
    " shape_path_dist = np.array(\n",
    "            [shape_geom.project(shapely.geometry.Point(p)) \n",
    "            for p in shape_geom.coords]\n",
    "        )"
   ]
  },
  {
   "cell_type": "code",
   "execution_count": null,
   "id": "e041e2aa-9aee-48d8-a50f-b69f925b2cfb",
   "metadata": {},
   "outputs": [],
   "source": [
    "shape_path_dist"
   ]
  },
  {
   "cell_type": "code",
   "execution_count": null,
   "id": "2680665b-25e5-48ca-82be-d8f9dddd94b2",
   "metadata": {},
   "outputs": [],
   "source": [
    "# Turn the stop_geometry and shape_geometry columns into geoseries\n",
    "shape_geoseries = gpd.GeoSeries(gdf.geometry)\n",
    "stop_geoseries = gpd.GeoSeries(gdf.stop_geometry)\n",
    "\n",
    "# Get projected shape_meters as dask array\n",
    "shape_meters_geoseries = wrangle_shapes.project_point_geom_onto_linestring(\n",
    "    shape_geoseries,\n",
    "    stop_geoseries,\n",
    "    get_dask_array=False\n",
    ")\n",
    "\n",
    "# Attach dask array as a column\n",
    "gdf[\"shape_meters\"] = shape_meters_geoseries"
   ]
  },
  {
   "cell_type": "code",
   "execution_count": null,
   "id": "5ca4d57e-696b-4f41-8903-723fffdb9369",
   "metadata": {},
   "outputs": [],
   "source": [
    "def add_prior_stop_info(\n",
    "    gdf: gpd.GeoDataFrame, \n",
    "    trip_grouping_cols: list = [\"shape_array_key\"],\n",
    "    segment_identifier_cols: list = [\"shape_array_key\", \"stop_sequence\"]\n",
    "):\n",
    "    # prior stop location won't be available if the first/last stop \n",
    "    # is the one being visited twice (which is often the case)\n",
    "    gdf = gdf.assign(\n",
    "        prior_stop_location = (gdf.sort_values(segment_identifier_cols)\n",
    "                               .groupby(trip_grouping_cols)\n",
    "                               [\"stop_geometry\"]\n",
    "                               .apply(lambda x: x.shift(1))\n",
    "                              ),\n",
    "        #prior_shape_meters = (gdf.sort_values(segment_identifier_cols)\n",
    "        #                       .groupby(trip_grouping_cols)\n",
    "        #                      [\"shape_meters\"]\n",
    "        #                       .apply(lambda x: x.shift(1))\n",
    "        #                     ),\n",
    "    )\n",
    "    \n",
    "    return gdf"
   ]
  },
  {
   "cell_type": "code",
   "execution_count": null,
   "id": "052ffcbe-fe1b-41a8-9893-0eece70de307",
   "metadata": {},
   "outputs": [],
   "source": [
    "gdf = add_prior_stop_info(\n",
    "    gdf,\n",
    "    trip_grouping_cols = [\"shape_array_key\"],\n",
    "    segment_identifier_cols = [\"shape_array_key\", \"stop_sequence\"]\n",
    ")"
   ]
  },
  {
   "cell_type": "markdown",
   "id": "08c46081-54ab-49db-8444-9aaa17b000af",
   "metadata": {},
   "source": [
    "This is a case where there's not a monotonically increasing `shape_meters` column.\n",
    "\n",
    "But, where it's not monotonically increasing is not only where stops are visited twice. It's also happening at `stop_sequence==2`. \n",
    "* `stop_sequence==1` is where the shape begins, and it's also a portion of a loop.\n",
    "* `stop_sequence==2` is not visited twice, but since it's occurring during the loop, the `shape_meters` calculated is against the end of the shape, not the beginning.\n",
    "* For a stop's 2nd visit, we want to look at the prior stop and calculate distance, and overwrite `shape_meters` so it **is** monotonically increasing.\n",
    "* For a stop's 1st visit, we may not be able to look prior (stop 0), and even if we look ahead, stop 2 might have an issue. **But**, if we get the distance between stop 1 and 2, we still might be able to back out the same coordinates from the line geometry, even if the array is not monotonically increasing. The numbers are just our ordered perspective, but maybe for coordinates, it's still able to grab the same ones. "
   ]
  },
  {
   "cell_type": "code",
   "execution_count": null,
   "id": "017d5e88-ca1a-43ed-b18a-d5f8b6f95018",
   "metadata": {},
   "outputs": [],
   "source": [
    "display_cols = [\n",
    "    \"shape_array_key\", \"stop_id\", \"stop_sequence\",\n",
    "    \"num_visits\", \"visit_order\", \n",
    "    \"shape_meters\", \n",
    "    \"prior_stop_location\", \n",
    "]\n",
    "another_shape_gdf = gdf[gdf.shape_array_key==another_shape][\n",
    "    display_cols + [\"geometry\", \"stop_geometry\"]]\n",
    "\n",
    "another_shape_gdf[[\"stop_id\", \"stop_sequence\", \n",
    "                   \"shape_meters\"]]"
   ]
  },
  {
   "cell_type": "code",
   "execution_count": null,
   "id": "eb02bf19-3d3b-40a0-8353-325e4e9d8dfd",
   "metadata": {},
   "outputs": [],
   "source": [
    "shape_geom = another_shape_gdf.geometry.iloc[0]\n",
    "shape_dist_array = np.array([shape_geom.project(shapely.geometry.Point(p)) \n",
    "          for p in shape_geom.coords])"
   ]
  },
  {
   "cell_type": "code",
   "execution_count": null,
   "id": "275fc1a2-4637-4509-b7a9-b0986aea2d97",
   "metadata": {},
   "outputs": [],
   "source": [
    "len(shape_dist_array), len(np.unique(shape_dist_array))"
   ]
  },
  {
   "cell_type": "code",
   "execution_count": null,
   "id": "0face89e-c18c-4ed8-9ad1-d8777655cf6c",
   "metadata": {},
   "outputs": [],
   "source": [
    "shape_dist_array"
   ]
  },
  {
   "cell_type": "code",
   "execution_count": null,
   "id": "9b7bb538-6d17-4206-b3e2-30c49f150f86",
   "metadata": {},
   "outputs": [],
   "source": [
    "np.unique(shape_dist_array)"
   ]
  },
  {
   "cell_type": "code",
   "execution_count": null,
   "id": "b4e80b14-c4c6-4d7a-8ac6-5db680dc24b6",
   "metadata": {},
   "outputs": [],
   "source": [
    "another_shape_gdf.set_geometry(\"stop_geometry\").explore(\n",
    "    \"stop_sequence\",\n",
    "    tiles=\"CartoDB Positron\", \n",
    "    categorical=True, legend=False\n",
    ")"
   ]
  },
  {
   "cell_type": "markdown",
   "id": "5edf0650-3b99-40c2-9ff8-8de97fbce9cf",
   "metadata": {},
   "source": [
    "For these shapes, do we want to sort `stop_sequence` instead by `shape_meters`?\n",
    "\n",
    "Then pick a non-loopy route and see. If we sort and enforce the monotonically increasing rule, what will happen? There was a Sacramento Schedule route that was cut haphazardly.\n",
    "\n",
    "Look at the array of line geometry coords, and those are also not monotonically increasing. So, it looks like we need to factor in what subset has been grabbed vs not yet (eligible to)."
   ]
  },
  {
   "cell_type": "code",
   "execution_count": null,
   "id": "71e76c65-d9cb-4fc1-b1a5-d0f7812aceb5",
   "metadata": {},
   "outputs": [],
   "source": [
    "test_gdf = another_shape_gdf[another_shape_gdf.stop_sequence.isin([1,2])\n",
    "                             ].reset_index(drop=True)\n",
    "display(test_gdf[[\"stop_id\", \"stop_sequence\", \"shape_meters\"]])\n",
    "\n",
    "result = cut_stop_segments.get_shape_coords_up_to_stop(\n",
    "    shape_geom,\n",
    "    shape_dist_array,\n",
    "    np.array(test_gdf.shape_meters),\n",
    "    (test_gdf.shape_meters[0], test_gdf.shape_meters[1])\n",
    ")\n",
    "\n",
    "gpd.GeoSeries(result, crs=\"EPSG:3310\").explore(\n",
    "    tiles=\"CartoDB Positron\")"
   ]
  },
  {
   "cell_type": "code",
   "execution_count": null,
   "id": "cb0f114d-2d37-491b-8574-094c0e963482",
   "metadata": {},
   "outputs": [],
   "source": [
    "stop_geom = gpd.GeoSeries(another_shape_gdf.stop_geometry)\n",
    "prior_stop_geom = gpd.GeoSeries(another_shape_gdf.prior_stop_location)\n",
    "distance_from_prior = stop_geom.distance(prior_stop_geom, align=True)\n",
    "\n",
    "another_shape_gdf[\"distance_from_prior_stop\"] = distance_from_prior"
   ]
  },
  {
   "cell_type": "code",
   "execution_count": null,
   "id": "627a9f3d-a7a3-4e3c-b6d0-14e09506f8c0",
   "metadata": {},
   "outputs": [],
   "source": [
    "# Get the cumulative distance \n",
    "another_shape_gdf = another_shape_gdf.assign(\n",
    "    cumulative_dist = (another_shape_gdf.sort_values(\n",
    "                        [\"shape_array_key\", \"stop_sequence\"])\n",
    "                       .groupby(\"shape_array_key\")\n",
    "                       .distance_from_prior_stop\n",
    "                       .cumsum()\n",
    "                      ),\n",
    "    shape_meters_adj = (another_shape_gdf[[\"shape_meters\", \n",
    "                                           \"distance_from_prior_stop\"]].sum(axis=1)\n",
    "                       )\n",
    ")"
   ]
  },
  {
   "cell_type": "code",
   "execution_count": null,
   "id": "14e73779-e21f-4e9f-9d6c-f89ec6ed3bfa",
   "metadata": {},
   "outputs": [],
   "source": [
    "test_gdf = another_shape_gdf[another_shape_gdf.stop_sequence.isin([4,5])\n",
    "                             ].reset_index(drop=True)\n",
    "display(test_gdf[[\"stop_id\", \"stop_sequence\", \"shape_meters\", \n",
    "                  \"distance_from_prior_stop\",\n",
    "                  \"cumulative_dist\", \"shape_meters_adj\"]])\n",
    "\n",
    "m = test_gdf.set_geometry(\"stop_geometry\").explore(\n",
    "    \"stop_sequence\", tiles='CartoDB Positron'\n",
    ")\n",
    "\n",
    "meters_col = \"cumulative_dist\"\n",
    "\n",
    "result = cut_stop_segments.get_shape_coords_up_to_stop(\n",
    "    shape_geom,\n",
    "    np.unique(shape_dist_array),\n",
    "    np.array(test_gdf[meters_col]),\n",
    "    (test_gdf[meters_col][0], test_gdf[meters_col][1])\n",
    ")\n",
    "\n",
    "gpd.GeoSeries(result, crs=\"EPSG:3310\").explore(\n",
    "    tiles=\"CartoDB Positron\", m=m)"
   ]
  },
  {
   "cell_type": "code",
   "execution_count": null,
   "id": "337414c4-0fb0-4e47-a9ce-343b5659c872",
   "metadata": {},
   "outputs": [],
   "source": [
    "test_gdf = another_shape_gdf[another_shape_gdf.stop_sequence.isin([29,30])\n",
    "                             ].reset_index(drop=True)\n",
    "display(test_gdf[[\"stop_id\", \"stop_sequence\", \"shape_meters\", \n",
    "                  \"distance_from_prior_stop\",\n",
    "                  \"cumulative_dist\", \"shape_meters_adj\"]])\n",
    "\n",
    "m = test_gdf.set_geometry(\"stop_geometry\").explore(\n",
    "    \"stop_sequence\", tiles='CartoDB Positron'\n",
    ")\n",
    "\n",
    "meters_col = \"shape_meters_adj\"\n",
    "result = cut_stop_segments.get_shape_coords_up_to_stop(\n",
    "    shape_geom,\n",
    "    shape_dist_array,\n",
    "    np.array(test_gdf[meters_col]),\n",
    "    (test_gdf[meters_col][0], test_gdf[meters_col][1])\n",
    ")\n",
    "\n",
    "gpd.GeoSeries(result, crs=\"EPSG:3310\").explore(\n",
    "    tiles=\"CartoDB Positron\", m=m)"
   ]
  },
  {
   "cell_type": "code",
   "execution_count": null,
   "id": "1253be11-1ec2-4438-9ba8-1c365f42e0bd",
   "metadata": {},
   "outputs": [],
   "source": [
    "test_gdf = another_shape_gdf[another_shape_gdf.stop_sequence.isin([28, 29])\n",
    "                             ].reset_index(drop=True)\n",
    "display(test_gdf[[\"stop_id\", \"stop_sequence\", \"shape_meters\", \n",
    "                 \"cumulative_dist\", \"shape_meters_adj\"]])\n",
    "\n",
    "m = test_gdf.set_geometry(\"stop_geometry\").explore(\n",
    "    \"stop_sequence\", tiles='CartoDB Positron'\n",
    ")\n",
    "\n",
    "meters_col = \"cumulative_dist\"\n",
    "\n",
    "result = cut_stop_segments.get_shape_coords_up_to_stop(\n",
    "    shape_geom,\n",
    "    shape_dist_array,\n",
    "    np.array(test_gdf[meters_col]),\n",
    "    (test_gdf[meters_col][0], test_gdf[meters_col][1])\n",
    ")\n",
    "\n",
    "gpd.GeoSeries(result, crs=\"EPSG:3310\").explore(\n",
    "    tiles=\"CartoDB Positron\", m=m)"
   ]
  },
  {
   "cell_type": "code",
   "execution_count": null,
   "id": "2f7e6af2-c559-46e2-bf37-27b013b08caf",
   "metadata": {},
   "outputs": [],
   "source": [
    "stop_segments = helpers.import_segments(\n",
    "    SEGMENT_GCS,\n",
    "    f\"stop_segments_{analysis_date}\", \n",
    "    filters=[[(\"shape_array_key\", \"==\", shape_with_utc)],\n",
    "             [(\"shape_array_key\", \"==\", another_shape)]\n",
    "            ]\n",
    ")"
   ]
  },
  {
   "cell_type": "code",
   "execution_count": null,
   "id": "3a1a3c21-469d-4093-9ad4-bcecd72b8136",
   "metadata": {},
   "outputs": [],
   "source": [
    "stop_segments[stop_segments.geometry.notna()\n",
    "             ].explore(\"stop_sequence\", tiles=\"CartoDB Positron\")"
   ]
  },
  {
   "cell_type": "code",
   "execution_count": null,
   "id": "8424e422-6a77-4cb6-acfa-9cd0c40b9b42",
   "metadata": {},
   "outputs": [],
   "source": []
  }
 ],
 "metadata": {
  "kernelspec": {
   "display_name": "Python 3 (ipykernel)",
   "language": "python",
   "name": "python3"
  },
  "language_info": {
   "codemirror_mode": {
    "name": "ipython",
    "version": 3
   },
   "file_extension": ".py",
   "mimetype": "text/x-python",
   "name": "python",
   "nbconvert_exporter": "python",
   "pygments_lexer": "ipython3",
   "version": "3.9.13"
  }
 },
 "nbformat": 4,
 "nbformat_minor": 5
}
