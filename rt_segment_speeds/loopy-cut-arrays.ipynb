{
 "cells": [
  {
   "cell_type": "markdown",
   "id": "3f381ba2-8302-4f84-8359-4cbecaad63cf",
   "metadata": {},
   "source": [
    "# Grab all the loopy/inlining/odd shapes\n",
    "Select a couple of examples to see what the pattern is for `stop_sequence` and `shape_meters`."
   ]
  },
  {
   "cell_type": "code",
   "execution_count": null,
   "id": "8074ea58-0f53-4812-bc36-34b938e73495",
   "metadata": {},
   "outputs": [],
   "source": [
    "import os\n",
    "os.environ['USE_PYGEOS'] = '0'\n",
    "\n",
    "import dask.dataframe as dd\n",
    "import geopandas as gpd\n",
    "import pandas as pd\n",
    "import numpy as np\n",
    "import shapely\n",
    "import sys\n",
    "\n",
    "from segment_speed_utils import (helpers, gtfs_schedule_wrangling, \n",
    "                                 wrangle_shapes)\n",
    "from segment_speed_utils.project_vars import SEGMENT_GCS, analysis_date\n",
    "\n",
    "# Temp append so we can import functions from scripts/\n",
    "sys.path.append(\"./scripts/\")\n",
    "import prep_stop_segments\n",
    "import cut_stop_segments\n",
    "import loop_utils\n",
    "\n",
    "shape_with_utc = \"f765b9d12fcca0173b4e3ddbc0374d18\"\n",
    "another_shape = \"007cf76062f5957d4e38ea54e624c0ad\"\n",
    "\n",
    "import folium"
   ]
  },
  {
   "cell_type": "code",
   "execution_count": null,
   "id": "d7070059-6941-4b2d-be14-d935f9823edd",
   "metadata": {},
   "outputs": [],
   "source": [
    "loop_shapes = loop_utils.grab_loop_shapes(analysis_date)\n",
    "\n",
    "stop_times_with_geom = prep_stop_segments.stop_times_aggregated_to_shape_array_key(\n",
    "        analysis_date, loop_shapes)\n",
    "\n",
    "st_loops = stop_times_with_geom.compute()"
   ]
  },
  {
   "cell_type": "code",
   "execution_count": null,
   "id": "c67d4a1b-d078-4377-b5cb-b49bd9d8af14",
   "metadata": {},
   "outputs": [],
   "source": [
    "gdf = (loop_utils.assign_visits_to_stop(st_loops)\n",
    "       .sort_values([\"shape_array_key\", \"stop_sequence\"])\n",
    "       .reset_index(drop=True)\n",
    "      )"
   ]
  },
  {
   "cell_type": "code",
   "execution_count": null,
   "id": "ab089322-8bc6-497e-b77a-09505c30785a",
   "metadata": {},
   "outputs": [],
   "source": [
    "gdf2 = gdf[gdf.shape_array_key.isin([another_shape])]"
   ]
  },
  {
   "cell_type": "code",
   "execution_count": null,
   "id": "8fb33f50-8d31-4276-b9a4-32d07ed08b0c",
   "metadata": {},
   "outputs": [],
   "source": [
    "# Grab relevant subset based on stop sequence values to get stop geometry subset\n",
    "#https://stackoverflow.com/questions/5508352/indexing-numpy-array-with-another-numpy-array\n",
    "#subset_stop_geom = stop_geom_array[subset_seq]"
   ]
  },
  {
   "cell_type": "code",
   "execution_count": null,
   "id": "f5022ee3-ee19-4e8a-aec8-a2dc3280a673",
   "metadata": {},
   "outputs": [],
   "source": [
    "import loopy\n",
    "\n",
    "shape_geometry = gdf2.geometry.iloc[0]\n",
    "stop_geometry_array = np.array(gdf2.stop_geometry)\n",
    "stop_sequence_array = np.array(gdf2.stop_sequence)\n",
    "\n",
    "current_stop_seq = 17"
   ]
  },
  {
   "cell_type": "code",
   "execution_count": null,
   "id": "f635c7c4-302c-4ed9-8df3-699ea0e1e688",
   "metadata": {},
   "outputs": [],
   "source": [
    "# Set up: project each of the coordinates in the shape_geometry\n",
    "# to be shape_meters\n",
    "shape_dist_array = loopy.project_list_of_coords(\n",
    "    shape_geometry, [], use_shapely_coords = True)\n",
    "\n",
    "shape_dist_ordered = np.unique(shape_dist_array)"
   ]
  },
  {
   "cell_type": "code",
   "execution_count": null,
   "id": "e58edc8b-403f-48c7-95c6-a2e59c3fb18d",
   "metadata": {},
   "outputs": [],
   "source": [
    "# (1) Given a stop sequence value, find the stop_sequence values \n",
    "# just flanking it (prior and subsequent).\n",
    "# this is important especially because stop_sequence does not have \n",
    "# to be increasing in increments of 1, but it has to be monotonically increasing\n",
    "subset_seq = loopy.include_prior_and_subsequent(\n",
    "    stop_sequence_array, current_stop_seq)\n",
    "print(f\"subset of stop sequences: {subset_seq}\")\n",
    "\n",
    "# (2) Grab relevant subset based on stop sequence values to get stop geometry subset\n",
    "# https://stackoverflow.com/questions/5508352/indexing-numpy-array-with-another-numpy-array\n",
    "subset_stop_geom = stop_geometry_array[subset_seq]\n",
    "print(f\"subset of stop geometry: {subset_stop_geom}\")"
   ]
  },
  {
   "cell_type": "code",
   "execution_count": null,
   "id": "dbe6d0d5-06f3-4c9e-82e8-1bdf9e9a375f",
   "metadata": {},
   "outputs": [],
   "source": [
    "# (3) Project this vector of 3 stops\n",
    "# because we need to know which part to subset\n",
    "# off of the shape's shape_meters array\n",
    "subset_stop_proj = loopy.project_list_of_coords(\n",
    "    shape_geometry, subset_stop_geom)\n",
    "    \n",
    "print(f\"subset stops projected: {subset_stop_proj}\")\n",
    "    \n",
    "# (4) Get the subset of shape_path points that\n",
    "# spans a start distance position and end distance position \n",
    "# We have 2 stops, and let's grab the chunk of the shape that spans that\n",
    "# https://stackoverflow.com/questions/16343752/numpy-where-function-multiple-conditions\n",
    "\n",
    "# the start_dist and end_dist take the prior/subsequent stop\n",
    "# to use to check against direction\n",
    "start_stop = subset_stop_proj[0]\n",
    "end_stop = subset_stop_proj[-1]\n",
    "\n",
    "print(f\"origin: {start_stop}, destination: {end_stop}\")"
   ]
  },
  {
   "cell_type": "code",
   "execution_count": null,
   "id": "41e7e303-8ed3-4be4-a2d7-0c2262f01345",
   "metadata": {},
   "outputs": [],
   "source": [
    "points_list = [shapely.Point(i) for i in shape_geometry.simplify(0).coords]"
   ]
  },
  {
   "cell_type": "code",
   "execution_count": null,
   "id": "05592e39-0eb9-4fd3-9d11-d945bb17d984",
   "metadata": {},
   "outputs": [],
   "source": [
    "gpd.GeoSeries(points_list, crs=\"EPSG:3310\").head()"
   ]
  },
  {
   "cell_type": "code",
   "execution_count": null,
   "id": "1a6de0ac-d141-44a8-8fb1-c373d54c89dd",
   "metadata": {},
   "outputs": [],
   "source": [
    "points_series_wo_idx0 = gpd.GeoSeries(points_list[1:], crs=\"EPSG:3310\")\n",
    "points_series = gpd.GeoSeries(points_list, crs=\"EPSG:3310\")\n",
    "distance_from_prior = np.array(\n",
    "    points_series_wo_idx0.distance(points_series)\n",
    ")"
   ]
  },
  {
   "cell_type": "code",
   "execution_count": null,
   "id": "a979dc35-cb10-4ef3-b013-ffab3c9c23cc",
   "metadata": {},
   "outputs": [],
   "source": [
    "cumulative_distances = np.array(\n",
    "    [0] + list(np.cumsum(distance_from_prior))\n",
    ")"
   ]
  },
  {
   "cell_type": "code",
   "execution_count": null,
   "id": "0e4813f2-bd75-4618-8fb8-04614dd34608",
   "metadata": {},
   "outputs": [],
   "source": [
    "subset_stop_geom\n",
    "# Maybe we calculate distance between point 1 and 2\n",
    "# then point 2 and 3"
   ]
  },
  {
   "cell_type": "code",
   "execution_count": null,
   "id": "dbc8f595-4934-4cff-b97b-94033678348f",
   "metadata": {},
   "outputs": [],
   "source": [
    "origin, destination = (subset_stop_geom[0], subset_stop_geom[1])\n",
    "origin, destination"
   ]
  },
  {
   "cell_type": "code",
   "execution_count": null,
   "id": "9121116f-c8e7-4ca1-8cac-42714e0240da",
   "metadata": {},
   "outputs": [],
   "source": [
    "distance_between_stops = origin.distance(destination)\n",
    "distance_between_stops"
   ]
  },
  {
   "cell_type": "code",
   "execution_count": null,
   "id": "719c6576-329f-446d-b638-d6803fbf66fb",
   "metadata": {},
   "outputs": [],
   "source": [
    "origin_stop_dist = subset_stop_proj[0]\n",
    "destin_stop_dist = subset_stop_proj[0] + distance_between_stops"
   ]
  },
  {
   "cell_type": "code",
   "execution_count": null,
   "id": "a91a00af-548e-4d42-8a11-7abe134290ea",
   "metadata": {},
   "outputs": [],
   "source": [
    "origin_stop_dist, destin_stop_dist"
   ]
  },
  {
   "cell_type": "code",
   "execution_count": null,
   "id": "0d4ff435-7379-435b-8ef7-2bf95d54f4d5",
   "metadata": {},
   "outputs": [],
   "source": [
    "# change this to point\n",
    "origin_destin_interp = [shape_geometry.interpolate(i) \n",
    "                        for i in [origin_stop_dist, destin_stop_dist]]\n"
   ]
  },
  {
   "cell_type": "code",
   "execution_count": null,
   "id": "9f993f4c-6b18-457d-aca9-bfa575edb5a4",
   "metadata": {},
   "outputs": [],
   "source": [
    "cumulative_distances[\n",
    "    np.where(\n",
    "        (cumulative_distances >= origin_stop_dist) & \n",
    "        (cumulative_distances <= destin_stop_dist)\n",
    "    )\n",
    "]"
   ]
  },
  {
   "cell_type": "code",
   "execution_count": null,
   "id": "a9a3cd1a-c3e4-4d6e-ba63-b2aaa71440dd",
   "metadata": {},
   "outputs": [],
   "source": [
    "indices_grab_from_shape_coords = np.argwhere(\n",
    "        (cumulative_distances >= origin_stop_dist) & \n",
    "        (cumulative_distances <= destin_stop_dist)\n",
    "    ).flatten()\n",
    "indices_grab_from_shape_coords"
   ]
  },
  {
   "cell_type": "code",
   "execution_count": null,
   "id": "05ff0bc4-c0da-45ac-8ec8-b1f48a4c5a0e",
   "metadata": {},
   "outputs": [],
   "source": [
    "indices_grab_from_shape_coords"
   ]
  },
  {
   "cell_type": "code",
   "execution_count": null,
   "id": "a4978aec-2052-4936-a5d4-25fd6fe52e80",
   "metadata": {},
   "outputs": [],
   "source": [
    "points_list[indices_grab_from_shape_coords[0]: \n",
    "            indices_grab_from_shape_coords[-1]+1]"
   ]
  },
  {
   "cell_type": "code",
   "execution_count": null,
   "id": "554f0eba-0a96-4f49-b901-56d501616367",
   "metadata": {},
   "outputs": [],
   "source": [
    "grabbed_from_shape_coords = points_list[indices_grab_from_shape_coords[0]: \n",
    "            indices_grab_from_shape_coords[-1]+1]\n",
    "grabbed_from_shape_coords\n",
    "\n",
    "test_segment = shapely.geometry.LineString(\n",
    "    [origin_destin_interp[0]] + grabbed_from_shape_coords + \n",
    "    [origin_destin_interp[-1]])"
   ]
  },
  {
   "cell_type": "code",
   "execution_count": null,
   "id": "5a11a006-16e5-41df-9f43-5b7abeee308c",
   "metadata": {},
   "outputs": [],
   "source": [
    "import folium"
   ]
  },
  {
   "cell_type": "code",
   "execution_count": null,
   "id": "9cf91438-6c87-4234-a24d-0565e084839a",
   "metadata": {},
   "outputs": [],
   "source": [
    "subset_stops = subset_stop_geom[0:2]"
   ]
  },
  {
   "cell_type": "code",
   "execution_count": null,
   "id": "6dfbe7a7-93c6-41c0-ab94-4445becbb5f9",
   "metadata": {},
   "outputs": [],
   "source": [
    "subset_stops_series = gpd.GeoSeries(subset_stops, crs=\"EPSG:3310\")\n",
    "test_segment_series = gpd.GeoSeries(test_segment, crs=\"EPSG:3310\")"
   ]
  },
  {
   "cell_type": "code",
   "execution_count": null,
   "id": "ef8754ef-a22d-43f6-8320-206d60c145ed",
   "metadata": {},
   "outputs": [],
   "source": [
    "m = test_segment_series.explore(tiles=\"CartoDB Positron\", name=\"segment\")\n",
    "m = subset_stops_series.explore(m=m, name=\"stops\")\n",
    "\n",
    "folium.LayerControl().add_to(m)\n",
    "m"
   ]
  },
  {
   "cell_type": "code",
   "execution_count": null,
   "id": "2458c259-d820-4c52-a899-5cd10131e28c",
   "metadata": {},
   "outputs": [],
   "source": []
  },
  {
   "cell_type": "code",
   "execution_count": null,
   "id": "ffb7f112-2c15-48fb-ac30-b82b3824c023",
   "metadata": {},
   "outputs": [],
   "source": [
    "m"
   ]
  },
  {
   "cell_type": "code",
   "execution_count": null,
   "id": "fef13ea0-f255-4942-81b0-9c5a266a2109",
   "metadata": {},
   "outputs": [],
   "source": [
    "# find the index in shape_dist_array of closest to stop 1\n",
    "# condition should be less than or equal to\n",
    "def find_nearest(array, value):\n",
    "    # https://stackoverflow.com/questions/2566412/find-nearest-value-in-numpy-array\n",
    "    array = np.asarray(array)\n",
    "    idx = (np.abs(array - value)).argmin()\n",
    "    #return array[idx]\n",
    "    return idx"
   ]
  },
  {
   "cell_type": "code",
   "execution_count": null,
   "id": "73674f1e-4e09-4b1c-bc9c-0f5bc05ac939",
   "metadata": {},
   "outputs": [],
   "source": [
    "nearest_val_0 = find_nearest(shape_dist_array, subset_stop_proj[1]) \n",
    "nearest_val_1 = find_nearest(shape_dist_array, subset_stop_proj[2])"
   ]
  },
  {
   "cell_type": "code",
   "execution_count": null,
   "id": "74abe072-aef2-4703-95fa-6aaaddf3677d",
   "metadata": {},
   "outputs": [],
   "source": [
    "subset_stop_proj[1], subset_stop_proj[2]"
   ]
  },
  {
   "cell_type": "code",
   "execution_count": null,
   "id": "25debc4e-416b-4ed2-afe5-0dc5ac599e18",
   "metadata": {},
   "outputs": [],
   "source": [
    "nearest_val_0, nearest_val_1"
   ]
  },
  {
   "cell_type": "code",
   "execution_count": null,
   "id": "ab5e7e98-eea3-418f-8344-cb1362bc87df",
   "metadata": {},
   "outputs": [],
   "source": [
    "shape_dist_array"
   ]
  },
  {
   "cell_type": "code",
   "execution_count": null,
   "id": "4e39b905-6cb8-42b6-b8e2-addb590eef23",
   "metadata": {},
   "outputs": [],
   "source": []
  },
  {
   "cell_type": "code",
   "execution_count": null,
   "id": "84da0315-b924-4cac-9d9b-075590387f40",
   "metadata": {},
   "outputs": [],
   "source": [
    "#shape_dist_cumsum = np.cumsum(shape_dist_array)"
   ]
  },
  {
   "cell_type": "code",
   "execution_count": null,
   "id": "2cbcb778-17b8-404b-8749-f6c9d43967e6",
   "metadata": {},
   "outputs": [],
   "source": [
    "shape_dist_cumsum[:10]"
   ]
  },
  {
   "cell_type": "code",
   "execution_count": null,
   "id": "5a19fe13-a143-442b-875a-84ce26678728",
   "metadata": {},
   "outputs": [],
   "source": []
  },
  {
   "cell_type": "code",
   "execution_count": null,
   "id": "f1dd7545-4d89-423d-9442-286e23715927",
   "metadata": {},
   "outputs": [],
   "source": []
  },
  {
   "cell_type": "code",
   "execution_count": null,
   "id": "50b6c3be-9da3-4be9-9748-ecf3baf3db46",
   "metadata": {},
   "outputs": [],
   "source": [
    "# typical, the end_stop should be progressing further\n",
    "if end_stop > start_stop: \n",
    "    shape_dist_subset = loopy.cut_shape_projected_by_origin_destination(\n",
    "        shape_dist_array, \n",
    "        (start_stop, end_stop)\n",
    "    )\n",
    "    print(f\"cut shape by od: {shape_dist_subset}\")\n",
    "\n",
    "elif end_stop < start_stop:\n",
    "    shape_dist_subset = loopy.cut_shape_projected_by_origin_destination(\n",
    "        shape_dist_ordered, \n",
    "        (end_stop, start_stop)\n",
    "    )\n",
    "    print(f\"cut shape by od: {shape_dist_subset}\")        \n",
    "\n",
    "    shape_dist_subset = np.flip(shape_dist_subset)\n",
    "    print(f\"flipped: cut shape by od: {shape_dist_subset}\")        \n"
   ]
  },
  {
   "cell_type": "code",
   "execution_count": null,
   "id": "82f647df-7f1c-419c-be9e-79cc555f3fec",
   "metadata": {},
   "outputs": [],
   "source": [
    "# Interpolate again so we change the shape_meters back into coordinate points\n",
    "subset_shape_geom = loopy.interpolate_projected_points(\n",
    "    shape_geometry, shape_dist_subset)\n",
    "\n",
    "    print(f\"interpolated subset of shape: {subset_shape_geom}\")\n",
    "    \n",
    "    # If the stop vector and shape vector run in the same direction,\n",
    "    # then we want to cut a segment from prior to current stop.\n",
    "    dot_prod = find_if_two_arrays_same_direction(\n",
    "        subset_stop_geom,\n",
    "        subset_shape_geom\n",
    "    )"
   ]
  },
  {
   "cell_type": "code",
   "execution_count": null,
   "id": "0a4bc60d-bb13-47f1-8514-e79beea0705d",
   "metadata": {},
   "outputs": [],
   "source": []
  },
  {
   "cell_type": "code",
   "execution_count": null,
   "id": "54a8769b-a5c0-4d2e-be87-cb035267bb75",
   "metadata": {},
   "outputs": [],
   "source": []
  },
  {
   "cell_type": "code",
   "execution_count": null,
   "id": "61755d56-73a9-4db7-95e1-2e424bec775b",
   "metadata": {},
   "outputs": [],
   "source": []
  },
  {
   "cell_type": "code",
   "execution_count": null,
   "id": "655c7a05-50cb-4e78-aa64-08cef892c518",
   "metadata": {},
   "outputs": [],
   "source": [
    "# Take current stop\n",
    "# find stop_sequence before and after\n",
    "\n",
    "## NEED THIS\n",
    "#stop_geom_array = np.array(gdf2.stop_geometry)\n",
    "#stop_seq_array = np.array(gdf2.stop_sequence)\n",
    "\n",
    "def super_project(\n",
    "    current_stop_seq: int,\n",
    "    shape_geometry: shapely.geometry.LineString,\n",
    "    stop_geometry_array: np.ndarray,\n",
    "    stop_sequence_array: np.ndarray,\n",
    "):\n",
    "    \n",
    "    # Set up: project each of the coordinates in the shape_geometry\n",
    "    # to be shape_meters\n",
    "    shape_dist_array = project_list_of_coords(\n",
    "        shape_geometry, [], use_shapely_coords = True)\n",
    "    \n",
    "    shape_dist_ordered = np.unique(shape_dist_array)\n",
    "    \n",
    "    # (1) Given a stop sequence value, find the stop_sequence values \n",
    "    # just flanking it (prior and subsequent).\n",
    "    # this is important especially because stop_sequence does not have \n",
    "    # to be increasing in increments of 1, but it has to be monotonically increasing\n",
    "    subset_seq = include_prior_and_subsequent(\n",
    "        stop_sequence_array, current_stop_seq)\n",
    "    print(f\"subset of stop sequences: {subset_seq}\")\n",
    "    \n",
    "    # (2) Grab relevant subset based on stop sequence values to get stop geometry subset\n",
    "    # https://stackoverflow.com/questions/5508352/indexing-numpy-array-with-another-numpy-array\n",
    "    subset_stop_geom = stop_geometry_array[subset_seq]\n",
    "    print(f\"subset of stop geometry: {subset_stop_geom}\")\n",
    "    \n",
    "    # (3) Project this vector of 3 stops\n",
    "    # because we need to know which part to subset\n",
    "    # off of the shape's shape_meters array\n",
    "    subset_stop_proj = project_list_of_coords(\n",
    "        shape_geometry, subset_stop_geom)\n",
    "    \n",
    "    print(f\"subset stops projected: {subset_stop_proj}\")\n",
    "    \n",
    "    # (4) Get the subset of shape_path points that\n",
    "    # spans a start distance position and end distance position \n",
    "    # We have 2 stops, and let's grab the chunk of the shape that spans that\n",
    "    # https://stackoverflow.com/questions/16343752/numpy-where-function-multiple-conditions\n",
    "\n",
    "    # the start_dist and end_dist take the prior/subsequent stop\n",
    "    # to use to check against direction\n",
    "    start_stop = subset_stop_proj[0]\n",
    "    end_stop = subset_stop_proj[-1]\n",
    "    \n",
    "    print(f\"origin: {start_stop}, destination: {end_stop}\")\n",
    "    \n",
    "    # typical, the end_stop should be progressing further\n",
    "    if end_stop > start_stop: \n",
    "        shape_dist_subset = cut_shape_projected_by_origin_destination(\n",
    "            shape_dist_array, \n",
    "            (start_stop, end_stop)\n",
    "        )\n",
    "        print(f\"cut shape by od: {shape_dist_subset}\")\n",
    "    \n",
    "    elif end_stop < start_stop:\n",
    "        shape_dist_subset = cut_shape_projected_by_origin_destination(\n",
    "            shape_dist_ordered, \n",
    "            (end_stop, start_stop)\n",
    "        )\n",
    "        print(f\"cut shape by od: {shape_dist_subset}\")        \n",
    "    \n",
    "        shape_dist_subset = np.flip(shape_dist_subset)\n",
    "        print(f\"flipped: cut shape by od: {shape_dist_subset}\")        \n",
    "\n",
    "    \n",
    "    # Interpolate again so we change the shape_meters back into coordinate points\n",
    "    subset_shape_geom = interpolate_projected_points(\n",
    "        shape_geometry, shape_dist_subset)\n",
    "    \n",
    "    print(f\"interpolated subset of shape: {subset_shape_geom}\")\n",
    "    \n",
    "    # If the stop vector and shape vector run in the same direction,\n",
    "    # then we want to cut a segment from prior to current stop.\n",
    "    dot_prod = find_if_two_arrays_same_direction(\n",
    "        subset_stop_geom,\n",
    "        subset_shape_geom\n",
    "    )\n",
    "    \n",
    "    return dot_prod, subset_stop_geom, subset_shape_geom\n"
   ]
  },
  {
   "cell_type": "code",
   "execution_count": null,
   "id": "8e5c8655-20d8-4f0c-ae56-91fbef19dac5",
   "metadata": {},
   "outputs": [],
   "source": [
    "def find_if_two_arrays_same_direction(\n",
    "    subset_stop_geom_array: np.ndarray, \n",
    "    subset_shape_geom_array: np.ndarray\n",
    ") -> float:\n",
    "    \"\"\"\n",
    "    \"\"\"\n",
    "    # Get vectors for stop and shape\n",
    "    stop_vec = distill_array_into_direction_vector(\n",
    "        subset_stop_geom_array)\n",
    "    shape_vec = distill_array_into_direction_vector(\n",
    "        subset_shape_geom_array)\n",
    "    \n",
    "    print(f\"stop vector: {stop_vec}\")\n",
    "    print(f\"shape vector: {shape_vec}\")\n",
    "    \n",
    "    # Normalize the vectors (divide by length) to get unit vector\n",
    "    stop_norm = get_normalized_vector(stop_vec)\n",
    "    shape_norm = get_normalized_vector(shape_vec)\n",
    "    \n",
    "    print(f\"stop_norm: {stop_norm}, shape_norm: {shape_norm}\")\n",
    "    \n",
    "    dot_result = dot_product(stop_norm, shape_norm)\n",
    "    \n",
    "    print(f\"dot product: {dot_result}\")\n",
    "    \n",
    "    return dot_result"
   ]
  },
  {
   "cell_type": "code",
   "execution_count": null,
   "id": "9d5b76da-4bcf-4b5a-a367-aa6b9854cc07",
   "metadata": {},
   "outputs": [],
   "source": [
    "# take the shape's vector and take the start/end of that\n",
    "# and create vector\n",
    "# get a vector between the subsequent and prior stops (we draw \n",
    "# right through our stop of interest)"
   ]
  },
  {
   "cell_type": "code",
   "execution_count": null,
   "id": "7346f380-a011-44a7-8bc5-15d8a703cf71",
   "metadata": {},
   "outputs": [],
   "source": [
    "#https://stackoverflow.com/questions/17332759/finding-vectors-with-2-points\n",
    "# normalize to unit vector\n",
    "# https://stackoverflow.com/questions/21030391/how-to-normalize-a-numpy-array-to-a-unit-vector\n"
   ]
  },
  {
   "cell_type": "code",
   "execution_count": null,
   "id": "b210bdb6-28ed-43c2-ae14-60f1929c5a30",
   "metadata": {},
   "outputs": [],
   "source": [
    "from typing import Literal\n",
    "\n",
    "def array_to_geoseries(\n",
    "    array: np.ndarray,\n",
    "    geom_type: Literal[\"point\", \"line\", \"polygon\"],\n",
    "    crs: str = \"EPSG:3310\"\n",
    ")-> gpd.GeoSeries: \n",
    "    \n",
    "    if geom_type == \"point\":\n",
    "        gdf = gpd.GeoSeries(array, crs=crs)\n",
    "        \n",
    "    elif geom_type == \"line\":\n",
    "        gdf = gpd.GeoSeries(\n",
    "            shapely.geometry.LineString(array), \n",
    "            crs=crs)\n",
    "        \n",
    "    elif geom_type == \"polygon\":\n",
    "        gdf = gpd.GeoSeries(\n",
    "            shapely.geometry.Polygon(array),\n",
    "            crs = crs)\n",
    "    \n",
    "    return gdf"
   ]
  },
  {
   "cell_type": "code",
   "execution_count": null,
   "id": "44a1355e-ea6c-4c4a-a933-683419ac28f1",
   "metadata": {},
   "outputs": [],
   "source": [
    "stop_seq = 2\n",
    "shape_geom = gdf2.geometry.iloc[0]\n",
    "stop_geom_array = gdf2.stop_geometry\n",
    "stop_seq_array = gdf2.stop_sequence\n",
    "\n",
    "dot_prod, subset_stop_geom, subset_shape_geom = super_project(\n",
    "    stop_seq,\n",
    "    shape_geom,\n",
    "    stop_geom_array,\n",
    "    stop_seq_array\n",
    ")"
   ]
  },
  {
   "cell_type": "code",
   "execution_count": null,
   "id": "98f709be-0434-4c86-8924-29d5758c9c50",
   "metadata": {},
   "outputs": [],
   "source": [
    "stop_series = array_to_geoseries(subset_stop_geom, \"point\")\n",
    "shape_series = array_to_geoseries(subset_shape_geom, \"line\")\n",
    "\n",
    "m = stop_series.explore(tiles=\"CartoDBPositron\", name=\"stops\")\n",
    "m = shape_series.explore(m=m, name=\"segment\")\n",
    "folium.LayerControl().add_to(m)\n",
    "m"
   ]
  },
  {
   "cell_type": "code",
   "execution_count": null,
   "id": "be13481c-3e4f-4c4a-bc72-e70fe2d7bbc4",
   "metadata": {},
   "outputs": [],
   "source": [
    "dot_prod"
   ]
  },
  {
   "cell_type": "code",
   "execution_count": null,
   "id": "b0bef4a7-7d56-4499-9fd9-ea7e96ddcc5b",
   "metadata": {},
   "outputs": [],
   "source": [
    "segment_stops = subset_stop_geom[:2]\n",
    "segment_stops"
   ]
  },
  {
   "cell_type": "code",
   "execution_count": null,
   "id": "96719107-2765-490e-8c9a-ec07734ba58f",
   "metadata": {},
   "outputs": [],
   "source": [
    "# Now project this vector of 3 stops\n",
    "# because we need to know which part to subset\n",
    "# off of the shape's shape_meters array\n",
    "segment_stops_proj = project_list_of_coords(shape_geom, segment_stops)\n",
    "segment_stops_proj"
   ]
  },
  {
   "cell_type": "code",
   "execution_count": null,
   "id": "9999cf8d-85ef-49ae-868b-121ed3108775",
   "metadata": {},
   "outputs": [],
   "source": [
    "# need this again\n",
    "shape_dist_array = np.array(\n",
    "        [shape_geom.project(shapely.geometry.Point(p)) \n",
    "        for p in shape_geom.coords]\n",
    "    )\n",
    "\n",
    "segment_shape_proj = cut_shape_projected_by_origin_destination(\n",
    "    shape_dist_array, segment_stops_proj)\n",
    "\n",
    "segment_shape_proj"
   ]
  },
  {
   "cell_type": "code",
   "execution_count": null,
   "id": "d6f9e97a-4f65-4d23-b81a-37f27d8146fe",
   "metadata": {},
   "outputs": [],
   "source": [
    "segment_shape = interpolate_projected_points(shape_geom, segment_shape_proj)"
   ]
  },
  {
   "cell_type": "code",
   "execution_count": null,
   "id": "ed9b0c01-7f34-4321-a057-ad9b1ae21653",
   "metadata": {},
   "outputs": [],
   "source": [
    "segment_geom = gpd.GeoSeries(\n",
    "    shapely.geometry.LineString(segment_shape), \n",
    "    crs=\"EPSG:3310\"\n",
    ")\n",
    "\n",
    "use_stops_geom = gpd.GeoSeries(segment_stops, crs=\"EPSG:3310\")"
   ]
  },
  {
   "cell_type": "code",
   "execution_count": null,
   "id": "e67947bc-c2ee-480d-90b3-eef4acd086f3",
   "metadata": {},
   "outputs": [],
   "source": [
    "import folium"
   ]
  },
  {
   "cell_type": "code",
   "execution_count": null,
   "id": "a6d02df8-0c7a-43a5-aad4-4dbb87818311",
   "metadata": {},
   "outputs": [],
   "source": [
    "m = segment_geom.explore(tiles=\"CartoDB Positron\", name=\"segment\")\n",
    "m = use_stops_geom.explore(m=m, name=\"stops\")\n",
    "folium.LayerControl().add_to(m)\n",
    "m"
   ]
  },
  {
   "cell_type": "code",
   "execution_count": null,
   "id": "b020d9af-c309-4008-8ee3-bac95bf30f07",
   "metadata": {},
   "outputs": [],
   "source": [
    " shape_path_dist = np.array(\n",
    "            [shape_geom.project(shapely.geometry.Point(p)) \n",
    "            for p in shape_geom.coords]\n",
    "        )"
   ]
  },
  {
   "cell_type": "code",
   "execution_count": null,
   "id": "e041e2aa-9aee-48d8-a50f-b69f925b2cfb",
   "metadata": {},
   "outputs": [],
   "source": [
    "shape_path_dist"
   ]
  },
  {
   "cell_type": "code",
   "execution_count": null,
   "id": "2680665b-25e5-48ca-82be-d8f9dddd94b2",
   "metadata": {},
   "outputs": [],
   "source": [
    "# Turn the stop_geometry and shape_geometry columns into geoseries\n",
    "shape_geoseries = gpd.GeoSeries(gdf.geometry)\n",
    "stop_geoseries = gpd.GeoSeries(gdf.stop_geometry)\n",
    "\n",
    "# Get projected shape_meters as dask array\n",
    "shape_meters_geoseries = wrangle_shapes.project_point_geom_onto_linestring(\n",
    "    shape_geoseries,\n",
    "    stop_geoseries,\n",
    "    get_dask_array=False\n",
    ")\n",
    "\n",
    "# Attach dask array as a column\n",
    "gdf[\"shape_meters\"] = shape_meters_geoseries"
   ]
  },
  {
   "cell_type": "code",
   "execution_count": null,
   "id": "5ca4d57e-696b-4f41-8903-723fffdb9369",
   "metadata": {},
   "outputs": [],
   "source": [
    "def add_prior_stop_info(\n",
    "    gdf: gpd.GeoDataFrame, \n",
    "    trip_grouping_cols: list = [\"shape_array_key\"],\n",
    "    segment_identifier_cols: list = [\"shape_array_key\", \"stop_sequence\"]\n",
    "):\n",
    "    # prior stop location won't be available if the first/last stop \n",
    "    # is the one being visited twice (which is often the case)\n",
    "    gdf = gdf.assign(\n",
    "        prior_stop_location = (gdf.sort_values(segment_identifier_cols)\n",
    "                               .groupby(trip_grouping_cols)\n",
    "                               [\"stop_geometry\"]\n",
    "                               .apply(lambda x: x.shift(1))\n",
    "                              ),\n",
    "        #prior_shape_meters = (gdf.sort_values(segment_identifier_cols)\n",
    "        #                       .groupby(trip_grouping_cols)\n",
    "        #                      [\"shape_meters\"]\n",
    "        #                       .apply(lambda x: x.shift(1))\n",
    "        #                     ),\n",
    "    )\n",
    "    \n",
    "    return gdf"
   ]
  },
  {
   "cell_type": "code",
   "execution_count": null,
   "id": "052ffcbe-fe1b-41a8-9893-0eece70de307",
   "metadata": {},
   "outputs": [],
   "source": [
    "gdf = add_prior_stop_info(\n",
    "    gdf,\n",
    "    trip_grouping_cols = [\"shape_array_key\"],\n",
    "    segment_identifier_cols = [\"shape_array_key\", \"stop_sequence\"]\n",
    ")"
   ]
  },
  {
   "cell_type": "markdown",
   "id": "08c46081-54ab-49db-8444-9aaa17b000af",
   "metadata": {},
   "source": [
    "This is a case where there's not a monotonically increasing `shape_meters` column.\n",
    "\n",
    "But, where it's not monotonically increasing is not only where stops are visited twice. It's also happening at `stop_sequence==2`. \n",
    "* `stop_sequence==1` is where the shape begins, and it's also a portion of a loop.\n",
    "* `stop_sequence==2` is not visited twice, but since it's occurring during the loop, the `shape_meters` calculated is against the end of the shape, not the beginning.\n",
    "* For a stop's 2nd visit, we want to look at the prior stop and calculate distance, and overwrite `shape_meters` so it **is** monotonically increasing.\n",
    "* For a stop's 1st visit, we may not be able to look prior (stop 0), and even if we look ahead, stop 2 might have an issue. **But**, if we get the distance between stop 1 and 2, we still might be able to back out the same coordinates from the line geometry, even if the array is not monotonically increasing. The numbers are just our ordered perspective, but maybe for coordinates, it's still able to grab the same ones. "
   ]
  },
  {
   "cell_type": "code",
   "execution_count": null,
   "id": "017d5e88-ca1a-43ed-b18a-d5f8b6f95018",
   "metadata": {},
   "outputs": [],
   "source": [
    "display_cols = [\n",
    "    \"shape_array_key\", \"stop_id\", \"stop_sequence\",\n",
    "    \"num_visits\", \"visit_order\", \n",
    "    \"shape_meters\", \n",
    "    \"prior_stop_location\", \n",
    "]\n",
    "another_shape_gdf = gdf[gdf.shape_array_key==another_shape][\n",
    "    display_cols + [\"geometry\", \"stop_geometry\"]]\n",
    "\n",
    "another_shape_gdf[[\"stop_id\", \"stop_sequence\", \n",
    "                   \"shape_meters\"]]"
   ]
  },
  {
   "cell_type": "code",
   "execution_count": null,
   "id": "eb02bf19-3d3b-40a0-8353-325e4e9d8dfd",
   "metadata": {},
   "outputs": [],
   "source": [
    "shape_geom = another_shape_gdf.geometry.iloc[0]\n",
    "shape_dist_array = np.array([shape_geom.project(shapely.geometry.Point(p)) \n",
    "          for p in shape_geom.coords])"
   ]
  },
  {
   "cell_type": "code",
   "execution_count": null,
   "id": "275fc1a2-4637-4509-b7a9-b0986aea2d97",
   "metadata": {},
   "outputs": [],
   "source": [
    "len(shape_dist_array), len(np.unique(shape_dist_array))"
   ]
  },
  {
   "cell_type": "code",
   "execution_count": null,
   "id": "0face89e-c18c-4ed8-9ad1-d8777655cf6c",
   "metadata": {},
   "outputs": [],
   "source": [
    "shape_dist_array"
   ]
  },
  {
   "cell_type": "code",
   "execution_count": null,
   "id": "9b7bb538-6d17-4206-b3e2-30c49f150f86",
   "metadata": {},
   "outputs": [],
   "source": [
    "np.unique(shape_dist_array)"
   ]
  },
  {
   "cell_type": "code",
   "execution_count": null,
   "id": "b4e80b14-c4c6-4d7a-8ac6-5db680dc24b6",
   "metadata": {},
   "outputs": [],
   "source": [
    "another_shape_gdf.set_geometry(\"stop_geometry\").explore(\n",
    "    \"stop_sequence\",\n",
    "    tiles=\"CartoDB Positron\", \n",
    "    categorical=True, legend=False\n",
    ")"
   ]
  },
  {
   "cell_type": "markdown",
   "id": "5edf0650-3b99-40c2-9ff8-8de97fbce9cf",
   "metadata": {},
   "source": [
    "For these shapes, do we want to sort `stop_sequence` instead by `shape_meters`?\n",
    "\n",
    "Then pick a non-loopy route and see. If we sort and enforce the monotonically increasing rule, what will happen? There was a Sacramento Schedule route that was cut haphazardly.\n",
    "\n",
    "Look at the array of line geometry coords, and those are also not monotonically increasing. So, it looks like we need to factor in what subset has been grabbed vs not yet (eligible to)."
   ]
  },
  {
   "cell_type": "code",
   "execution_count": null,
   "id": "71e76c65-d9cb-4fc1-b1a5-d0f7812aceb5",
   "metadata": {},
   "outputs": [],
   "source": [
    "test_gdf = another_shape_gdf[another_shape_gdf.stop_sequence.isin([1,2])\n",
    "                             ].reset_index(drop=True)\n",
    "display(test_gdf[[\"stop_id\", \"stop_sequence\", \"shape_meters\"]])\n",
    "\n",
    "result = cut_stop_segments.get_shape_coords_up_to_stop(\n",
    "    shape_geom,\n",
    "    shape_dist_array,\n",
    "    np.array(test_gdf.shape_meters),\n",
    "    (test_gdf.shape_meters[0], test_gdf.shape_meters[1])\n",
    ")\n",
    "\n",
    "gpd.GeoSeries(result, crs=\"EPSG:3310\").explore(\n",
    "    tiles=\"CartoDB Positron\")"
   ]
  },
  {
   "cell_type": "code",
   "execution_count": null,
   "id": "cb0f114d-2d37-491b-8574-094c0e963482",
   "metadata": {},
   "outputs": [],
   "source": [
    "stop_geom = gpd.GeoSeries(another_shape_gdf.stop_geometry)\n",
    "prior_stop_geom = gpd.GeoSeries(another_shape_gdf.prior_stop_location)\n",
    "distance_from_prior = stop_geom.distance(prior_stop_geom, align=True)\n",
    "\n",
    "another_shape_gdf[\"distance_from_prior_stop\"] = distance_from_prior"
   ]
  },
  {
   "cell_type": "code",
   "execution_count": null,
   "id": "627a9f3d-a7a3-4e3c-b6d0-14e09506f8c0",
   "metadata": {},
   "outputs": [],
   "source": [
    "# Get the cumulative distance \n",
    "another_shape_gdf = another_shape_gdf.assign(\n",
    "    cumulative_dist = (another_shape_gdf.sort_values(\n",
    "                        [\"shape_array_key\", \"stop_sequence\"])\n",
    "                       .groupby(\"shape_array_key\")\n",
    "                       .distance_from_prior_stop\n",
    "                       .cumsum()\n",
    "                      ),\n",
    "    shape_meters_adj = (another_shape_gdf[[\"shape_meters\", \n",
    "                                           \"distance_from_prior_stop\"]].sum(axis=1)\n",
    "                       )\n",
    ")"
   ]
  },
  {
   "cell_type": "code",
   "execution_count": null,
   "id": "14e73779-e21f-4e9f-9d6c-f89ec6ed3bfa",
   "metadata": {},
   "outputs": [],
   "source": [
    "test_gdf = another_shape_gdf[another_shape_gdf.stop_sequence.isin([4,5])\n",
    "                             ].reset_index(drop=True)\n",
    "display(test_gdf[[\"stop_id\", \"stop_sequence\", \"shape_meters\", \n",
    "                  \"distance_from_prior_stop\",\n",
    "                  \"cumulative_dist\", \"shape_meters_adj\"]])\n",
    "\n",
    "m = test_gdf.set_geometry(\"stop_geometry\").explore(\n",
    "    \"stop_sequence\", tiles='CartoDB Positron'\n",
    ")\n",
    "\n",
    "meters_col = \"cumulative_dist\"\n",
    "\n",
    "result = cut_stop_segments.get_shape_coords_up_to_stop(\n",
    "    shape_geom,\n",
    "    np.unique(shape_dist_array),\n",
    "    np.array(test_gdf[meters_col]),\n",
    "    (test_gdf[meters_col][0], test_gdf[meters_col][1])\n",
    ")\n",
    "\n",
    "gpd.GeoSeries(result, crs=\"EPSG:3310\").explore(\n",
    "    tiles=\"CartoDB Positron\", m=m)"
   ]
  },
  {
   "cell_type": "code",
   "execution_count": null,
   "id": "337414c4-0fb0-4e47-a9ce-343b5659c872",
   "metadata": {},
   "outputs": [],
   "source": [
    "test_gdf = another_shape_gdf[another_shape_gdf.stop_sequence.isin([29,30])\n",
    "                             ].reset_index(drop=True)\n",
    "display(test_gdf[[\"stop_id\", \"stop_sequence\", \"shape_meters\", \n",
    "                  \"distance_from_prior_stop\",\n",
    "                  \"cumulative_dist\", \"shape_meters_adj\"]])\n",
    "\n",
    "m = test_gdf.set_geometry(\"stop_geometry\").explore(\n",
    "    \"stop_sequence\", tiles='CartoDB Positron'\n",
    ")\n",
    "\n",
    "meters_col = \"shape_meters_adj\"\n",
    "result = cut_stop_segments.get_shape_coords_up_to_stop(\n",
    "    shape_geom,\n",
    "    shape_dist_array,\n",
    "    np.array(test_gdf[meters_col]),\n",
    "    (test_gdf[meters_col][0], test_gdf[meters_col][1])\n",
    ")\n",
    "\n",
    "gpd.GeoSeries(result, crs=\"EPSG:3310\").explore(\n",
    "    tiles=\"CartoDB Positron\", m=m)"
   ]
  },
  {
   "cell_type": "code",
   "execution_count": null,
   "id": "1253be11-1ec2-4438-9ba8-1c365f42e0bd",
   "metadata": {},
   "outputs": [],
   "source": [
    "test_gdf = another_shape_gdf[another_shape_gdf.stop_sequence.isin([28, 29])\n",
    "                             ].reset_index(drop=True)\n",
    "display(test_gdf[[\"stop_id\", \"stop_sequence\", \"shape_meters\", \n",
    "                 \"cumulative_dist\", \"shape_meters_adj\"]])\n",
    "\n",
    "m = test_gdf.set_geometry(\"stop_geometry\").explore(\n",
    "    \"stop_sequence\", tiles='CartoDB Positron'\n",
    ")\n",
    "\n",
    "meters_col = \"cumulative_dist\"\n",
    "\n",
    "result = cut_stop_segments.get_shape_coords_up_to_stop(\n",
    "    shape_geom,\n",
    "    shape_dist_array,\n",
    "    np.array(test_gdf[meters_col]),\n",
    "    (test_gdf[meters_col][0], test_gdf[meters_col][1])\n",
    ")\n",
    "\n",
    "gpd.GeoSeries(result, crs=\"EPSG:3310\").explore(\n",
    "    tiles=\"CartoDB Positron\", m=m)"
   ]
  },
  {
   "cell_type": "code",
   "execution_count": null,
   "id": "2f7e6af2-c559-46e2-bf37-27b013b08caf",
   "metadata": {},
   "outputs": [],
   "source": [
    "stop_segments = helpers.import_segments(\n",
    "    SEGMENT_GCS,\n",
    "    f\"stop_segments_{analysis_date}\", \n",
    "    filters=[[(\"shape_array_key\", \"==\", shape_with_utc)],\n",
    "             [(\"shape_array_key\", \"==\", another_shape)]\n",
    "            ]\n",
    ")"
   ]
  },
  {
   "cell_type": "code",
   "execution_count": null,
   "id": "3a1a3c21-469d-4093-9ad4-bcecd72b8136",
   "metadata": {},
   "outputs": [],
   "source": [
    "stop_segments[stop_segments.geometry.notna()\n",
    "             ].explore(\"stop_sequence\", tiles=\"CartoDB Positron\")"
   ]
  },
  {
   "cell_type": "code",
   "execution_count": null,
   "id": "8424e422-6a77-4cb6-acfa-9cd0c40b9b42",
   "metadata": {},
   "outputs": [],
   "source": []
  }
 ],
 "metadata": {
  "kernelspec": {
   "display_name": "Python 3 (ipykernel)",
   "language": "python",
   "name": "python3"
  },
  "language_info": {
   "codemirror_mode": {
    "name": "ipython",
    "version": 3
   },
   "file_extension": ".py",
   "mimetype": "text/x-python",
   "name": "python",
   "nbconvert_exporter": "python",
   "pygments_lexer": "ipython3",
   "version": "3.9.13"
  }
 },
 "nbformat": 4,
 "nbformat_minor": 5
}
