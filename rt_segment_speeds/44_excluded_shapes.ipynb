{
 "cells": [
  {
   "cell_type": "code",
   "execution_count": null,
   "id": "d528f399-cf33-459e-b5dc-92e0b4ae389a",
   "metadata": {},
   "outputs": [],
   "source": [
    "import pandas as pd\n",
    "import geopandas as gpd\n",
    "from siuba import *\n",
    "import shared_utils\n",
    "\n",
    "from calitp_data_analysis import get_fs, geography_utils\n",
    "from segment_speed_utils import helpers, time_series_utils, gtfs_schedule_wrangling\n",
    "from segment_speed_utils.project_vars import SCHED_GCS, SEGMENT_GCS, GTFS_DATA_DICT, analysis_date"
   ]
  },
  {
   "cell_type": "markdown",
   "id": "83bf87cf-a9f5-4acd-afa6-d0d8920f4a73",
   "metadata": {},
   "source": [
    "# Scratchpad for displaying excluded shapes on speedmaps\n",
    "\n",
    "* implemented via `ca_transit_speedmaps/speedmap_utils.py` for now\n",
    "* TODO: more systematic/clarify cause as speed data gap or shape not running in time period"
   ]
  },
  {
   "cell_type": "code",
   "execution_count": null,
   "id": "6cd318e5-5c4e-4249-b158-232f4d940770",
   "metadata": {},
   "outputs": [],
   "source": [
    "catalog = shared_utils.catalog_utils.get_catalog('gtfs_analytics_data')"
   ]
  },
  {
   "cell_type": "code",
   "execution_count": null,
   "id": "6e86c1a8-d3de-4fc6-9478-c03133b6745c",
   "metadata": {},
   "outputs": [],
   "source": [
    "catalog.speedmap_segments"
   ]
  },
  {
   "cell_type": "code",
   "execution_count": null,
   "id": "f766b50a-c70d-4681-992c-d7f8979ada69",
   "metadata": {},
   "outputs": [],
   "source": [
    "analysis_date"
   ]
  },
  {
   "cell_type": "code",
   "execution_count": null,
   "id": "82598ccf-876a-4ab2-959c-7af1b120e1e5",
   "metadata": {},
   "outputs": [],
   "source": [
    "helpers.import_scheduled_shapes?"
   ]
  },
  {
   "cell_type": "code",
   "execution_count": null,
   "id": "d2e5a320-d728-49c6-99e6-a1af00c7a37c",
   "metadata": {},
   "outputs": [],
   "source": [
    "shapes = helpers.import_scheduled_shapes(analysis_date, columns=['shape_array_key', 'geometry'])"
   ]
  },
  {
   "cell_type": "code",
   "execution_count": null,
   "id": "2a652a6d-bf87-4f6c-a6ba-ab65d7bd029f",
   "metadata": {},
   "outputs": [],
   "source": [
    "trips = helpers.import_scheduled_trips(analysis_date, columns=['shape_array_key', 'shape_id', 'route_id',\n",
    "                                                               'route_short_name', 'gtfs_dataset_key']).drop_duplicates()"
   ]
  },
  {
   "cell_type": "code",
   "execution_count": null,
   "id": "82e1e9ee-78b1-4c32-9adb-be8b8b9639f6",
   "metadata": {},
   "outputs": [],
   "source": [
    "shapes = shapes.merge(trips, on='shape_array_key')"
   ]
  },
  {
   "cell_type": "code",
   "execution_count": null,
   "id": "756f4b22-e55f-40d8-ac5b-b4f493787ac2",
   "metadata": {},
   "outputs": [],
   "source": [
    "helpers.import_scheduled_trips?"
   ]
  },
  {
   "cell_type": "code",
   "execution_count": null,
   "id": "baa0be3a-5171-4915-92a9-b83f6bd1485e",
   "metadata": {},
   "outputs": [],
   "source": [
    "path = f\"{catalog.speedmap_segments.dir}{catalog.speedmap_segments.shape_stop_single_segment_detail}_{analysis_date}.parquet\""
   ]
  },
  {
   "cell_type": "code",
   "execution_count": null,
   "id": "e340a558-84ca-4d23-8758-983169f58ad3",
   "metadata": {},
   "outputs": [],
   "source": [
    "path"
   ]
  },
  {
   "cell_type": "code",
   "execution_count": null,
   "id": "98022a2b-46c2-46ab-b4f0-774235b81663",
   "metadata": {},
   "outputs": [],
   "source": [
    "gdf = gpd.read_parquet(path)"
   ]
  },
  {
   "cell_type": "code",
   "execution_count": null,
   "id": "2f572c39-8380-460a-a013-f23129d3c3bb",
   "metadata": {},
   "outputs": [],
   "source": [
    "gdf.columns"
   ]
  },
  {
   "cell_type": "code",
   "execution_count": null,
   "id": "598ce854-dbfa-4a75-9002-ff284f1b6bdf",
   "metadata": {},
   "outputs": [],
   "source": [
    "pd.read_parquet('../ca_transit_speed_maps/_rt_progress_2024-12-11.parquet').query('name.str.contains(\"Muni\")')"
   ]
  },
  {
   "cell_type": "code",
   "execution_count": null,
   "id": "765c2082-8362-4719-b8f7-2760564426aa",
   "metadata": {},
   "outputs": [],
   "source": [
    "sf_speeds = gdf.query('organization_source_record_id == \"rechaapWbeffO33OX\"')"
   ]
  },
  {
   "cell_type": "code",
   "execution_count": null,
   "id": "f4e3cb12-fc35-45a1-819c-c8edd7c147da",
   "metadata": {
    "tags": []
   },
   "outputs": [],
   "source": [
    "sf_speeds"
   ]
  },
  {
   "cell_type": "code",
   "execution_count": null,
   "id": "65df0527-dff2-4170-84e2-33f57d6b6ac2",
   "metadata": {},
   "outputs": [],
   "source": [
    "sf_shapes = shapes.query('schedule_gtfs_dataset_key == \"7cc0cb1871dfd558f11a2885c145d144\"')"
   ]
  },
  {
   "cell_type": "code",
   "execution_count": null,
   "id": "c6710343-3567-4e68-8f5d-df221cf30d23",
   "metadata": {},
   "outputs": [],
   "source": [
    "sf_shapes"
   ]
  },
  {
   "cell_type": "code",
   "execution_count": null,
   "id": "f4365b44-c3ae-4cfc-959c-6e6d03a1e11f",
   "metadata": {},
   "outputs": [],
   "source": [
    "sf_am = sf_speeds.query('time_of_day == \"AM Peak\"')"
   ]
  },
  {
   "cell_type": "code",
   "execution_count": null,
   "id": "71d26c00-ead6-4fbe-a159-b21ddecf35a9",
   "metadata": {},
   "outputs": [],
   "source": [
    "sf_am = sf_am.to_crs(geography_utils.CA_NAD83Albers)"
   ]
  },
  {
   "cell_type": "code",
   "execution_count": null,
   "id": "4a23deac-7ce0-4703-86c4-b7008a91dc9a",
   "metadata": {},
   "outputs": [],
   "source": [
    "## shift to right side of road to display direction\n",
    "sf_am.geometry = sf_am.geometry.apply(shared_utils.rt_utils.try_parallel)\n",
    "sf_am = sf_am.apply(shared_utils.rt_utils.arrowize_by_frequency, axis=1, frequency_col='trips_hr_sch')"
   ]
  },
  {
   "cell_type": "code",
   "execution_count": null,
   "id": "7fdf4b78-f5e9-4bdf-a9eb-f33696b03aff",
   "metadata": {},
   "outputs": [],
   "source": [
    "sf_am = sf_am.dissolve()\n",
    "\n",
    "sf_am.geometry = sf_am.buffer(35)"
   ]
  },
  {
   "cell_type": "code",
   "execution_count": null,
   "id": "7d68511b-1eb0-494c-ba12-bc9d8f187e78",
   "metadata": {},
   "outputs": [],
   "source": [
    "sf_am.explore()"
   ]
  },
  {
   "cell_type": "code",
   "execution_count": null,
   "id": "d53eaf2e-7cdb-483c-9f40-c9d0304f4d7d",
   "metadata": {},
   "outputs": [],
   "source": [
    "gdf = sf_shapes.overlay(sf_am, how='difference')"
   ]
  },
  {
   "cell_type": "code",
   "execution_count": null,
   "id": "ec1bbcee-b29b-431b-9552-1c9d97207053",
   "metadata": {},
   "outputs": [],
   "source": [
    "gdf.explore()"
   ]
  }
 ],
 "metadata": {
  "kernelspec": {
   "display_name": "Python 3 (ipykernel)",
   "language": "python",
   "name": "python3"
  },
  "language_info": {
   "codemirror_mode": {
    "name": "ipython",
    "version": 3
   },
   "file_extension": ".py",
   "mimetype": "text/x-python",
   "name": "python",
   "nbconvert_exporter": "python",
   "pygments_lexer": "ipython3",
   "version": "3.9.13"
  },
  "widgets": {
   "application/vnd.jupyter.widget-state+json": {
    "state": {},
    "version_major": 2,
    "version_minor": 0
   }
  }
 },
 "nbformat": 4,
 "nbformat_minor": 5
}
