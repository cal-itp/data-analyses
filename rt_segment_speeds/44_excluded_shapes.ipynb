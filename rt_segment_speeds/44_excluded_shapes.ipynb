{
 "cells": [
  {
   "cell_type": "code",
   "execution_count": 1,
   "id": "d528f399-cf33-459e-b5dc-92e0b4ae389a",
   "metadata": {},
   "outputs": [],
   "source": [
    "import pandas as pd\n",
    "import geopandas as gpd\n",
    "from siuba import *\n",
    "import shared_utils\n",
    "\n",
    "from calitp_data_analysis import get_fs\n",
    "from segment_speed_utils import helpers, time_series_utils, gtfs_schedule_wrangling\n",
    "from segment_speed_utils.project_vars import SCHED_GCS, SEGMENT_GCS, GTFS_DATA_DICT, analysis_date"
   ]
  },
  {
   "cell_type": "code",
   "execution_count": 2,
   "id": "6cd318e5-5c4e-4249-b158-232f4d940770",
   "metadata": {},
   "outputs": [],
   "source": [
    "catalog = shared_utils.catalog_utils.get_catalog('gtfs_analytics_data')"
   ]
  },
  {
   "cell_type": "code",
   "execution_count": 5,
   "id": "6e86c1a8-d3de-4fc6-9478-c03133b6745c",
   "metadata": {},
   "outputs": [
    {
     "data": {
      "text/plain": [
       "{'dir': '${gcs_paths.SEGMENT_GCS}', 'stage1': '${speeds_tables.vp_dwell}', 'proxy_stop_times': 'stop_time_expansion/speedmap_stop_times', 'stage2': 'nearest/nearest_vp_speedmap_proxy', 'stage3': 'speedmap/stop_arrivals_proxy', 'stage3b': 'speedmap/stop_arrivals', 'stage4': 'speedmap/speeds', 'trip_stop_cols': ['trip_instance_key', 'stop_sequence', 'stop_sequence1'], 'shape_stop_cols': ['shape_array_key', 'shape_id'], 'stop_pair_cols': ['stop_pair', 'stop_pair_name', 'segment_id'], 'route_dir_cols': ['route_id', 'direction_id'], 'segments_file': 'segment_options/speedmap_segments', 'shape_stop_single_segment': 'rollup_singleday/speeds_shape_speedmap_segments', 'shape_stop_single_segment_detail': 'rollup_singleday/speeds_shape_speedmap_segments_detail', 'excluded_shapes_by_time_of_day': 'rollup_singleday/excluded_shapes_by_time_of_day', 'route_dir_single_segment': 'rollup_singleday/speeds_route_dir_speedmap_segments', 'route_dir_multi_segment': 'rollup_multiday/speeds_route_dir_speedmap_segments', 'min_trip_minutes': '${speed_vars.time_min_cutoff}', 'max_trip_minutes': 180, 'max_speed': '${speed_vars.max_speed}', 'min_meters_elapsed': 1609, 'segment_meters': 1000}"
      ]
     },
     "execution_count": 5,
     "metadata": {},
     "output_type": "execute_result"
    }
   ],
   "source": [
    "catalog.speedmap_segments"
   ]
  },
  {
   "cell_type": "code",
   "execution_count": 4,
   "id": "f766b50a-c70d-4681-992c-d7f8979ada69",
   "metadata": {},
   "outputs": [
    {
     "data": {
      "text/plain": [
       "'2024-12-11'"
      ]
     },
     "execution_count": 4,
     "metadata": {},
     "output_type": "execute_result"
    }
   ],
   "source": [
    "analysis_date"
   ]
  },
  {
   "cell_type": "code",
   "execution_count": 6,
   "id": "82598ccf-876a-4ab2-959c-7af1b120e1e5",
   "metadata": {},
   "outputs": [
    {
     "data": {
      "text/plain": [
       "\u001b[0;31mSignature:\u001b[0m\n",
       "\u001b[0mhelpers\u001b[0m\u001b[0;34m.\u001b[0m\u001b[0mimport_scheduled_shapes\u001b[0m\u001b[0;34m(\u001b[0m\u001b[0;34m\u001b[0m\n",
       "\u001b[0;34m\u001b[0m    \u001b[0manalysis_date\u001b[0m\u001b[0;34m:\u001b[0m \u001b[0mstr\u001b[0m\u001b[0;34m,\u001b[0m\u001b[0;34m\u001b[0m\n",
       "\u001b[0;34m\u001b[0m    \u001b[0mfilters\u001b[0m\u001b[0;34m:\u001b[0m \u001b[0mtuple\u001b[0m \u001b[0;34m=\u001b[0m \u001b[0;32mNone\u001b[0m\u001b[0;34m,\u001b[0m\u001b[0;34m\u001b[0m\n",
       "\u001b[0;34m\u001b[0m    \u001b[0mcolumns\u001b[0m\u001b[0;34m:\u001b[0m \u001b[0mlist\u001b[0m \u001b[0;34m=\u001b[0m \u001b[0;34m[\u001b[0m\u001b[0;34m'shape_array_key'\u001b[0m\u001b[0;34m,\u001b[0m \u001b[0;34m'geometry'\u001b[0m\u001b[0;34m]\u001b[0m\u001b[0;34m,\u001b[0m\u001b[0;34m\u001b[0m\n",
       "\u001b[0;34m\u001b[0m    \u001b[0mget_pandas\u001b[0m\u001b[0;34m:\u001b[0m \u001b[0mbool\u001b[0m \u001b[0;34m=\u001b[0m \u001b[0;32mTrue\u001b[0m\u001b[0;34m,\u001b[0m\u001b[0;34m\u001b[0m\n",
       "\u001b[0;34m\u001b[0m    \u001b[0mcrs\u001b[0m\u001b[0;34m:\u001b[0m \u001b[0mstr\u001b[0m \u001b[0;34m=\u001b[0m \u001b[0;34m'EPSG:3310'\u001b[0m\u001b[0;34m,\u001b[0m\u001b[0;34m\u001b[0m\n",
       "\u001b[0;34m\u001b[0m\u001b[0;34m)\u001b[0m \u001b[0;34m->\u001b[0m \u001b[0mUnion\u001b[0m\u001b[0;34m[\u001b[0m\u001b[0mgeopandas\u001b[0m\u001b[0;34m.\u001b[0m\u001b[0mgeodataframe\u001b[0m\u001b[0;34m.\u001b[0m\u001b[0mGeoDataFrame\u001b[0m\u001b[0;34m,\u001b[0m \u001b[0mdask_geopandas\u001b[0m\u001b[0;34m.\u001b[0m\u001b[0mcore\u001b[0m\u001b[0;34m.\u001b[0m\u001b[0mGeoDataFrame\u001b[0m\u001b[0;34m]\u001b[0m\u001b[0;34m\u001b[0m\u001b[0;34m\u001b[0m\u001b[0m\n",
       "\u001b[0;31mDocstring:\u001b[0m Import shapes.\n",
       "\u001b[0;31mFile:\u001b[0m      ~/data-analyses/rt_segment_speeds/segment_speed_utils/helpers.py\n",
       "\u001b[0;31mType:\u001b[0m      function"
      ]
     },
     "metadata": {},
     "output_type": "display_data"
    }
   ],
   "source": [
    "helpers.import_scheduled_shapes?"
   ]
  },
  {
   "cell_type": "code",
   "execution_count": 7,
   "id": "d2e5a320-d728-49c6-99e6-a1af00c7a37c",
   "metadata": {},
   "outputs": [],
   "source": [
    "shapes = helpers.import_scheduled_shapes(analysis_date)"
   ]
  },
  {
   "cell_type": "code",
   "execution_count": 9,
   "id": "756f4b22-e55f-40d8-ac5b-b4f493787ac2",
   "metadata": {},
   "outputs": [
    {
     "data": {
      "text/plain": [
       "\u001b[0;31mSignature:\u001b[0m\n",
       "\u001b[0mhelpers\u001b[0m\u001b[0;34m.\u001b[0m\u001b[0mimport_scheduled_trips\u001b[0m\u001b[0;34m(\u001b[0m\u001b[0;34m\u001b[0m\n",
       "\u001b[0;34m\u001b[0m    \u001b[0manalysis_date\u001b[0m\u001b[0;34m:\u001b[0m \u001b[0mstr\u001b[0m\u001b[0;34m,\u001b[0m\u001b[0;34m\u001b[0m\n",
       "\u001b[0;34m\u001b[0m    \u001b[0mfilters\u001b[0m\u001b[0;34m:\u001b[0m \u001b[0mtuple\u001b[0m \u001b[0;34m=\u001b[0m \u001b[0;32mNone\u001b[0m\u001b[0;34m,\u001b[0m\u001b[0;34m\u001b[0m\n",
       "\u001b[0;34m\u001b[0m    \u001b[0mcolumns\u001b[0m\u001b[0;34m:\u001b[0m \u001b[0mlist\u001b[0m \u001b[0;34m=\u001b[0m \u001b[0;34m[\u001b[0m\u001b[0;34m'gtfs_dataset_key'\u001b[0m\u001b[0;34m,\u001b[0m \u001b[0;34m'name'\u001b[0m\u001b[0;34m,\u001b[0m \u001b[0;34m'trip_id'\u001b[0m\u001b[0;34m,\u001b[0m \u001b[0;34m'shape_id'\u001b[0m\u001b[0;34m,\u001b[0m \u001b[0;34m'shape_array_key'\u001b[0m\u001b[0;34m,\u001b[0m \u001b[0;34m'route_id'\u001b[0m\u001b[0;34m,\u001b[0m \u001b[0;34m'route_key'\u001b[0m\u001b[0;34m,\u001b[0m \u001b[0;34m'direction_id'\u001b[0m\u001b[0;34m,\u001b[0m \u001b[0;34m'route_short_name'\u001b[0m\u001b[0;34m]\u001b[0m\u001b[0;34m,\u001b[0m\u001b[0;34m\u001b[0m\n",
       "\u001b[0;34m\u001b[0m    \u001b[0mget_pandas\u001b[0m\u001b[0;34m:\u001b[0m \u001b[0mbool\u001b[0m \u001b[0;34m=\u001b[0m \u001b[0;32mTrue\u001b[0m\u001b[0;34m,\u001b[0m\u001b[0;34m\u001b[0m\n",
       "\u001b[0;34m\u001b[0m\u001b[0;34m)\u001b[0m \u001b[0;34m->\u001b[0m \u001b[0mUnion\u001b[0m\u001b[0;34m[\u001b[0m\u001b[0mpandas\u001b[0m\u001b[0;34m.\u001b[0m\u001b[0mcore\u001b[0m\u001b[0;34m.\u001b[0m\u001b[0mframe\u001b[0m\u001b[0;34m.\u001b[0m\u001b[0mDataFrame\u001b[0m\u001b[0;34m,\u001b[0m \u001b[0mdask\u001b[0m\u001b[0;34m.\u001b[0m\u001b[0mdataframe\u001b[0m\u001b[0;34m.\u001b[0m\u001b[0mcore\u001b[0m\u001b[0;34m.\u001b[0m\u001b[0mDataFrame\u001b[0m\u001b[0;34m]\u001b[0m\u001b[0;34m\u001b[0m\u001b[0;34m\u001b[0m\u001b[0m\n",
       "\u001b[0;31mDocstring:\u001b[0m\n",
       "Get scheduled trips info (all operators) for single day, \n",
       "and keep subset of columns.\n",
       "\u001b[0;31mFile:\u001b[0m      ~/data-analyses/rt_segment_speeds/segment_speed_utils/helpers.py\n",
       "\u001b[0;31mType:\u001b[0m      function"
      ]
     },
     "metadata": {},
     "output_type": "display_data"
    }
   ],
   "source": [
    "helpers.import_scheduled_trips?"
   ]
  },
  {
   "cell_type": "code",
   "execution_count": 13,
   "id": "2a652a6d-bf87-4f6c-a6ba-ab65d7bd029f",
   "metadata": {},
   "outputs": [],
   "source": [
    "trips = helpers.import_scheduled_trips(analysis_date, columns=['shape_array_key', 'shape_id', 'route_id',\n",
    "                                                               'route_short_name', 'gtfs_dataset_key']).drop_duplicates()"
   ]
  },
  {
   "cell_type": "code",
   "execution_count": 14,
   "id": "82e1e9ee-78b1-4c32-9adb-be8b8b9639f6",
   "metadata": {},
   "outputs": [
    {
     "data": {
      "text/html": [
       "<div>\n",
       "<style scoped>\n",
       "    .dataframe tbody tr th:only-of-type {\n",
       "        vertical-align: middle;\n",
       "    }\n",
       "\n",
       "    .dataframe tbody tr th {\n",
       "        vertical-align: top;\n",
       "    }\n",
       "\n",
       "    .dataframe thead th {\n",
       "        text-align: right;\n",
       "    }\n",
       "</style>\n",
       "<table border=\"1\" class=\"dataframe\">\n",
       "  <thead>\n",
       "    <tr style=\"text-align: right;\">\n",
       "      <th></th>\n",
       "      <th>shape_array_key</th>\n",
       "      <th>geometry</th>\n",
       "      <th>shape_id</th>\n",
       "      <th>route_id</th>\n",
       "      <th>route_short_name</th>\n",
       "      <th>schedule_gtfs_dataset_key</th>\n",
       "    </tr>\n",
       "  </thead>\n",
       "  <tbody>\n",
       "    <tr>\n",
       "      <th>0</th>\n",
       "      <td>13cb51c5ed7990a71a227d7d096426b9</td>\n",
       "      <td>LINESTRING (294120.912 -448955.567, 294061.160...</td>\n",
       "      <td>p_1432525</td>\n",
       "      <td>355</td>\n",
       "      <td>1</td>\n",
       "      <td>ebc783bace70899492d6206c352547d6</td>\n",
       "    </tr>\n",
       "    <tr>\n",
       "      <th>1</th>\n",
       "      <td>229051b21f5e16ec5841ecabf98a12c7</td>\n",
       "      <td>LINESTRING (-78208.700 215570.571, -77955.213 ...</td>\n",
       "      <td>p_1426803</td>\n",
       "      <td>126</td>\n",
       "      <td>None</td>\n",
       "      <td>96a5b8c5bc22b3936ddee01cac7b5fb6</td>\n",
       "    </tr>\n",
       "    <tr>\n",
       "      <th>2</th>\n",
       "      <td>f08b835c09fe1d9e38199ad09c9327d8</td>\n",
       "      <td>LINESTRING (91775.849 -41429.921, 91784.599 -4...</td>\n",
       "      <td>p_1435920</td>\n",
       "      <td>76755</td>\n",
       "      <td>None</td>\n",
       "      <td>cb8a465cffec67c8fd90f31b389ed4c3</td>\n",
       "    </tr>\n",
       "    <tr>\n",
       "      <th>3</th>\n",
       "      <td>6be599a186ee46f51fe77bb0bc0ffc50</td>\n",
       "      <td>LINESTRING (-118608.801 41853.097, -118632.536...</td>\n",
       "      <td>8377</td>\n",
       "      <td>3431</td>\n",
       "      <td>13</td>\n",
       "      <td>63029a23cb0e73f2a5d98a345c5e2e40</td>\n",
       "    </tr>\n",
       "    <tr>\n",
       "      <th>4</th>\n",
       "      <td>3c2b4b3de0eef26767c626504e7a839e</td>\n",
       "      <td>LINESTRING (-210809.438 -23394.433, -210787.18...</td>\n",
       "      <td>1540061</td>\n",
       "      <td>154</td>\n",
       "      <td>154</td>\n",
       "      <td>aea4108997c66a74fbdae27b34b69fde</td>\n",
       "    </tr>\n",
       "    <tr>\n",
       "      <th>...</th>\n",
       "      <td>...</td>\n",
       "      <td>...</td>\n",
       "      <td>...</td>\n",
       "      <td>...</td>\n",
       "      <td>...</td>\n",
       "      <td>...</td>\n",
       "    </tr>\n",
       "    <tr>\n",
       "      <th>7564</th>\n",
       "      <td>f90c7ca85f79cec1cf718ffe3a5ea804</td>\n",
       "      <td>LINESTRING (173733.400 -444977.431, 173388.307...</td>\n",
       "      <td>8577_shp</td>\n",
       "      <td>50</td>\n",
       "      <td>None</td>\n",
       "      <td>84d3c3507a4c8df851d935b63908bbd5</td>\n",
       "    </tr>\n",
       "    <tr>\n",
       "      <th>7565</th>\n",
       "      <td>4e41a760292c44d8c07b5e187903d3cb</td>\n",
       "      <td>LINESTRING (169600.675 -449977.512, 169620.127...</td>\n",
       "      <td>8582_shp</td>\n",
       "      <td>30</td>\n",
       "      <td>None</td>\n",
       "      <td>84d3c3507a4c8df851d935b63908bbd5</td>\n",
       "    </tr>\n",
       "    <tr>\n",
       "      <th>7566</th>\n",
       "      <td>8bf6f14bb04f53e24929661cf9aee280</td>\n",
       "      <td>LINESTRING (176938.852 -444188.785, 176853.905...</td>\n",
       "      <td>8659_shp</td>\n",
       "      <td>10</td>\n",
       "      <td>None</td>\n",
       "      <td>84d3c3507a4c8df851d935b63908bbd5</td>\n",
       "    </tr>\n",
       "    <tr>\n",
       "      <th>7567</th>\n",
       "      <td>7ed83def41f1f965236ca51c4e059d5b</td>\n",
       "      <td>LINESTRING (168680.735 -437987.848, 168658.352...</td>\n",
       "      <td>8656_shp</td>\n",
       "      <td>10</td>\n",
       "      <td>None</td>\n",
       "      <td>84d3c3507a4c8df851d935b63908bbd5</td>\n",
       "    </tr>\n",
       "    <tr>\n",
       "      <th>7568</th>\n",
       "      <td>565c495078a145e5e9e8aedf2d3c8a02</td>\n",
       "      <td>LINESTRING (177015.581 -444190.563, 177062.596...</td>\n",
       "      <td>8724_shp</td>\n",
       "      <td>60</td>\n",
       "      <td>None</td>\n",
       "      <td>84d3c3507a4c8df851d935b63908bbd5</td>\n",
       "    </tr>\n",
       "  </tbody>\n",
       "</table>\n",
       "<p>7569 rows × 6 columns</p>\n",
       "</div>"
      ],
      "text/plain": [
       "                       shape_array_key  \\\n",
       "0     13cb51c5ed7990a71a227d7d096426b9   \n",
       "1     229051b21f5e16ec5841ecabf98a12c7   \n",
       "2     f08b835c09fe1d9e38199ad09c9327d8   \n",
       "3     6be599a186ee46f51fe77bb0bc0ffc50   \n",
       "4     3c2b4b3de0eef26767c626504e7a839e   \n",
       "...                                ...   \n",
       "7564  f90c7ca85f79cec1cf718ffe3a5ea804   \n",
       "7565  4e41a760292c44d8c07b5e187903d3cb   \n",
       "7566  8bf6f14bb04f53e24929661cf9aee280   \n",
       "7567  7ed83def41f1f965236ca51c4e059d5b   \n",
       "7568  565c495078a145e5e9e8aedf2d3c8a02   \n",
       "\n",
       "                                               geometry   shape_id route_id  \\\n",
       "0     LINESTRING (294120.912 -448955.567, 294061.160...  p_1432525      355   \n",
       "1     LINESTRING (-78208.700 215570.571, -77955.213 ...  p_1426803      126   \n",
       "2     LINESTRING (91775.849 -41429.921, 91784.599 -4...  p_1435920    76755   \n",
       "3     LINESTRING (-118608.801 41853.097, -118632.536...       8377     3431   \n",
       "4     LINESTRING (-210809.438 -23394.433, -210787.18...    1540061      154   \n",
       "...                                                 ...        ...      ...   \n",
       "7564  LINESTRING (173733.400 -444977.431, 173388.307...   8577_shp       50   \n",
       "7565  LINESTRING (169600.675 -449977.512, 169620.127...   8582_shp       30   \n",
       "7566  LINESTRING (176938.852 -444188.785, 176853.905...   8659_shp       10   \n",
       "7567  LINESTRING (168680.735 -437987.848, 168658.352...   8656_shp       10   \n",
       "7568  LINESTRING (177015.581 -444190.563, 177062.596...   8724_shp       60   \n",
       "\n",
       "     route_short_name         schedule_gtfs_dataset_key  \n",
       "0                   1  ebc783bace70899492d6206c352547d6  \n",
       "1                None  96a5b8c5bc22b3936ddee01cac7b5fb6  \n",
       "2                None  cb8a465cffec67c8fd90f31b389ed4c3  \n",
       "3                  13  63029a23cb0e73f2a5d98a345c5e2e40  \n",
       "4                 154  aea4108997c66a74fbdae27b34b69fde  \n",
       "...               ...                               ...  \n",
       "7564             None  84d3c3507a4c8df851d935b63908bbd5  \n",
       "7565             None  84d3c3507a4c8df851d935b63908bbd5  \n",
       "7566             None  84d3c3507a4c8df851d935b63908bbd5  \n",
       "7567             None  84d3c3507a4c8df851d935b63908bbd5  \n",
       "7568             None  84d3c3507a4c8df851d935b63908bbd5  \n",
       "\n",
       "[7569 rows x 6 columns]"
      ]
     },
     "execution_count": 14,
     "metadata": {},
     "output_type": "execute_result"
    }
   ],
   "source": [
    "shapes.merge(trips, on='shape_array_key')"
   ]
  },
  {
   "cell_type": "code",
   "execution_count": 24,
   "id": "baa0be3a-5171-4915-92a9-b83f6bd1485e",
   "metadata": {},
   "outputs": [],
   "source": [
    "path = f\"{catalog.speedmap_segments.dir}{catalog.speedmap_segments.shape_stop_single_segment_detail}_{analysis_date}.parquet\""
   ]
  },
  {
   "cell_type": "code",
   "execution_count": 25,
   "id": "e340a558-84ca-4d23-8758-983169f58ad3",
   "metadata": {},
   "outputs": [
    {
     "data": {
      "text/plain": [
       "'gs://calitp-analytics-data/data-analyses/rt_segment_speeds/rollup_singleday/speeds_shape_speedmap_segments_detail_2024-12-11.parquet'"
      ]
     },
     "execution_count": 25,
     "metadata": {},
     "output_type": "execute_result"
    }
   ],
   "source": [
    "path"
   ]
  },
  {
   "cell_type": "code",
   "execution_count": 26,
   "id": "98022a2b-46c2-46ab-b4f0-774235b81663",
   "metadata": {},
   "outputs": [],
   "source": [
    "gdf = gpd.read_parquet(path)"
   ]
  },
  {
   "cell_type": "code",
   "execution_count": 27,
   "id": "2f572c39-8380-460a-a013-f23129d3c3bb",
   "metadata": {},
   "outputs": [
    {
     "data": {
      "text/plain": [
       "Index(['schedule_gtfs_dataset_key', 'shape_array_key', 'shape_id', 'route_id',\n",
       "       'direction_id', 'stop_pair', 'stop_pair_name', 'segment_id',\n",
       "       'time_of_day', 'p50_mph', 'n_trips', 'p20_mph', 'p80_mph', 'name',\n",
       "       'caltrans_district', 'organization_source_record_id',\n",
       "       'organization_name', 'base64_url', 'geometry', 'n_trips_sch',\n",
       "       'trips_hr_sch', 'route_short_name'],\n",
       "      dtype='object')"
      ]
     },
     "execution_count": 27,
     "metadata": {},
     "output_type": "execute_result"
    }
   ],
   "source": [
    "gdf.columns"
   ]
  },
  {
   "cell_type": "markdown",
   "id": "68892471-46c0-4142-9e4f-ae6fdda2ad34",
   "metadata": {},
   "source": [
    "could presumably iterate over `schedule_gtfs_dataset_key` and append to one gdf to have one file..."
   ]
  },
  {
   "cell_type": "code",
   "execution_count": null,
   "id": "d89e67be-79df-4b0b-b316-641dd34d7154",
   "metadata": {},
   "outputs": [],
   "source": []
  }
 ],
 "metadata": {
  "kernelspec": {
   "display_name": "Python 3 (ipykernel)",
   "language": "python",
   "name": "python3"
  },
  "language_info": {
   "codemirror_mode": {
    "name": "ipython",
    "version": 3
   },
   "file_extension": ".py",
   "mimetype": "text/x-python",
   "name": "python",
   "nbconvert_exporter": "python",
   "pygments_lexer": "ipython3",
   "version": "3.9.13"
  },
  "widgets": {
   "application/vnd.jupyter.widget-state+json": {
    "state": {},
    "version_major": 2,
    "version_minor": 0
   }
  }
 },
 "nbformat": 4,
 "nbformat_minor": 5
}
