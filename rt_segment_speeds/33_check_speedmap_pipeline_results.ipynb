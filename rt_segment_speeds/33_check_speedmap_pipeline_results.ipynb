{
 "cells": [
  {
   "cell_type": "markdown",
   "id": "c612c6c9-65c3-4713-b0ab-04cf2d41340d",
   "metadata": {},
   "source": [
    "# Sanity check: does`test_speedmap_pipe` results\n",
    "\n",
    "* Check to see we can merge speeds back to segments\n",
    "* Need to dive into which grouping cols should be used when taking the average"
   ]
  },
  {
   "cell_type": "code",
   "execution_count": null,
   "id": "736684be-d47f-43e6-9602-2413f32a5f8c",
   "metadata": {},
   "outputs": [],
   "source": [
    "import geopandas as gpd\n",
    "import pandas as pd\n",
    "\n",
    "from shared_utils import rt_dates\n",
    "from segment_speed_utils.project_vars import SEGMENT_GCS, GTFS_DATA_DICT\n",
    "\n",
    "analysis_date = rt_dates.DATES[\"mar2024\"]"
   ]
  },
  {
   "cell_type": "code",
   "execution_count": null,
   "id": "2163c61a-613d-4d81-b5c1-cbeceb995cc3",
   "metadata": {},
   "outputs": [],
   "source": [
    "file = GTFS_DATA_DICT.speedmap_segments.stage4\n",
    "segments_file = GTFS_DATA_DICT.speedmap_segments.segments_file"
   ]
  },
  {
   "cell_type": "code",
   "execution_count": null,
   "id": "80450cf7-9adb-4d2f-adbd-2d2d884c150a",
   "metadata": {},
   "outputs": [],
   "source": [
    "speeds = pd.read_parquet(\n",
    "    f\"{SEGMENT_GCS}{file}_{analysis_date}.parquet\",\n",
    ")"
   ]
  },
  {
   "cell_type": "code",
   "execution_count": null,
   "id": "af8f8897-a06a-472c-a594-9f6f5e64e925",
   "metadata": {},
   "outputs": [],
   "source": [
    "segments_gdf = gpd.read_parquet(\n",
    "    f\"{SEGMENT_GCS}{segments_file}_{analysis_date}.parquet\",\n",
    "    columns = [\"trip_instance_key\", \"stop_id1\", \"stop_sequence\", \n",
    "               \"stop_sequence1\", \n",
    "               \"segment_id\",\n",
    "               \"geometry\"],\n",
    ")"
   ]
  },
  {
   "cell_type": "code",
   "execution_count": null,
   "id": "d5960f23-12ea-478d-a7f3-0ab14e41b781",
   "metadata": {},
   "outputs": [],
   "source": [
    "gdf = pd.merge(\n",
    "    segments_gdf,\n",
    "    speeds.rename(columns = {\"stop_id\": \"stop_id1\"}),\n",
    "    on = [\"trip_instance_key\", \"stop_id1\", \n",
    "          \"stop_sequence\", \"stop_sequence1\"],\n",
    ")"
   ]
  },
  {
   "cell_type": "code",
   "execution_count": null,
   "id": "a44fc072-9e81-4bfe-a4f9-4850dc637bbc",
   "metadata": {},
   "outputs": [],
   "source": [
    "# Roughly, this passes a gut check that most \n",
    "# things join up (0.8% missing) \n",
    "\n",
    "# should this switch to stop_pair though?\n",
    "# actually, when we use trip_instance_key, it doesn't matter\n",
    "# but if we go any level above trip, we should use stop_pair\n",
    "gdf.shape, speeds.shape"
   ]
  },
  {
   "cell_type": "code",
   "execution_count": null,
   "id": "c1e6d10f-2c2c-42f9-b70f-314eee92a1fe",
   "metadata": {},
   "outputs": [],
   "source": [
    "from segment_speed_utils import metrics, gtfs_schedule_wrangling\n",
    "\n",
    "gdf2 = gdf.assign(\n",
    "    service_date = pd.to_datetime(analysis_date)\n",
    ").pipe(\n",
    "    gtfs_schedule_wrangling.add_peak_offpeak_column\n",
    ").pipe(\n",
    "    gtfs_schedule_wrangling.add_weekday_weekend_column\n",
    ")"
   ]
  },
  {
   "cell_type": "code",
   "execution_count": null,
   "id": "754b011b-d67c-4bb5-bb7c-3c3f3b27da99",
   "metadata": {},
   "outputs": [],
   "source": [
    "gdf2.speed_mph.describe()"
   ]
  },
  {
   "cell_type": "code",
   "execution_count": null,
   "id": "1c1de5db-197d-4137-a6e5-f63953c2c785",
   "metadata": {},
   "outputs": [],
   "source": [
    "gdf2.speed_mph.hist(bins=range(0, 80, 5))"
   ]
  },
  {
   "cell_type": "code",
   "execution_count": null,
   "id": "043f75e0-4576-44c8-886b-5ba48f8ef027",
   "metadata": {},
   "outputs": [],
   "source": [
    "gdf2.loc[gdf2.speed_mph <= 80].describe() # we set max_speed at 80"
   ]
  },
  {
   "cell_type": "markdown",
   "id": "0b7780cc-90c0-420e-95f8-dc6825785779",
   "metadata": {},
   "source": [
    "Need to figure out the right grouping columns to use"
   ]
  },
  {
   "cell_type": "code",
   "execution_count": null,
   "id": "a7b4ac68-dc66-4f5a-8c60-3901c4e4c5e9",
   "metadata": {},
   "outputs": [],
   "source": [
    "avg_speeds = metrics.concatenate_peak_offpeak_allday_averages(\n",
    "    gdf2[gdf2.speed_mph <= 80], \n",
    "    group_cols = [\"schedule_gtfs_dataset_key\", \n",
    "                  \"route_id\", \"direction_id\",\n",
    "                  \"segment_id\", \n",
    "                 ],\n",
    "    metric_type = \"segment_speeds\"\n",
    ")"
   ]
  },
  {
   "cell_type": "code",
   "execution_count": null,
   "id": "79fe0204-9dc7-4893-9cf4-6187d4b52beb",
   "metadata": {},
   "outputs": [],
   "source": [
    "avg_speeds_with_geom = pd.merge(\n",
    "    segments_gdf[[\"segment_id\", \"geometry\"]].drop_duplicates(),\n",
    "    avg_speeds,\n",
    "    on = \"segment_id\",\n",
    "    how = \"inner\"\n",
    ")"
   ]
  },
  {
   "cell_type": "code",
   "execution_count": null,
   "id": "00cad9e5-9384-4871-a7b3-43aad38d0d19",
   "metadata": {},
   "outputs": [],
   "source": [
    "#import branca\n",
    "#COLORSCALE = branca.colormap.step.RdYlGn_10.scale(\n",
    "#    vmin=0, vmax=50)\n",
    "\n",
    "\n",
    "avg_speeds_with_geom[\n",
    "    avg_speeds_with_geom.time_period==\"offpeak\"\n",
    "].explore(\n",
    "    \"p20_mph\", \n",
    "    cmap=rt_utils.ZERO_THIRTY_COLORSCALE,\n",
    "    tiles = \"CartoDB Positron\"\n",
    ")"
   ]
  },
  {
   "cell_type": "code",
   "execution_count": null,
   "id": "237b310d-3fdf-48f4-ba56-81e53824a582",
   "metadata": {},
   "outputs": [],
   "source": []
  }
 ],
 "metadata": {
  "kernelspec": {
   "display_name": "Python 3 (ipykernel)",
   "language": "python",
   "name": "python3"
  },
  "language_info": {
   "codemirror_mode": {
    "name": "ipython",
    "version": 3
   },
   "file_extension": ".py",
   "mimetype": "text/x-python",
   "name": "python",
   "nbconvert_exporter": "python",
   "pygments_lexer": "ipython3",
   "version": "3.9.13"
  }
 },
 "nbformat": 4,
 "nbformat_minor": 5
}
