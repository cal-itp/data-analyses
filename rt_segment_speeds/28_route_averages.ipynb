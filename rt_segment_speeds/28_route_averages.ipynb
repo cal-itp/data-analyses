{
 "cells": [
  {
   "cell_type": "code",
   "execution_count": null,
   "id": "239e2616-2e4c-4b99-a7dc-80b5e939db6e",
   "metadata": {},
   "outputs": [],
   "source": [
    "%%capture\n",
    "import warnings\n",
    "warnings.filterwarnings('ignore')\n",
    "\n",
    "import altair as alt\n",
    "import calitp_data_analysis.magics\n",
    "import pandas as pd\n",
    "\n",
    "from calitp_data_analysis import calitp_color_palette as cp\n",
    "from segment_speed_utils.project_vars import SEGMENT_GCS, SCHED_GCS\n",
    "from shared_utils import rt_dates\n",
    "\n",
    "analysis_date_list = rt_dates.y2024_dates + rt_dates.y2023_dates\n",
    "\n",
    "alt.renderers.enable(\"html\")\n",
    "alt.data_transformers.enable('default', max_rows=None)"
   ]
  },
  {
   "cell_type": "code",
   "execution_count": null,
   "id": "da73bfe7-2c6f-4809-942b-459b93c87d57",
   "metadata": {
    "tags": [
     "parameters"
    ]
   },
   "outputs": [],
   "source": [
    "#name = \"Big Blue Bus Schedule\""
   ]
  },
  {
   "cell_type": "code",
   "execution_count": null,
   "id": "caa8f356-0d84-457e-ae5e-c6ac438feeae",
   "metadata": {},
   "outputs": [],
   "source": [
    "%%capture_parameters\n",
    "name"
   ]
  },
  {
   "cell_type": "code",
   "execution_count": null,
   "id": "d7bc0914-677d-4e83-9ca3-afe40dee80cd",
   "metadata": {},
   "outputs": [],
   "source": [
    "def merge_in_standardized_route_names(\n",
    "    df: pd.DataFrame, \n",
    "    operator_name: str\n",
    ") -> pd.DataFrame:\n",
    "    standardized_route_names = pd.read_parquet(\n",
    "        f\"{SCHED_GCS}standardized_route_ids.parquet\",\n",
    "        columns = [\"schedule_gtfs_dataset_key\", \"name\", \n",
    "                   \"route_id\", \"service_date\",\n",
    "                   \"recent_route_id2\", \"recent_combined_name\"\n",
    "                  ],\n",
    "        filters = [[(\"name\", \"==\", name)]]\n",
    "    )\n",
    "    \n",
    "    df = pd.merge(\n",
    "        df,\n",
    "        standardized_route_names,\n",
    "        on = [\"schedule_gtfs_dataset_key\", \"route_id\", \"service_date\"],\n",
    "        how = \"left\",\n",
    "    )\n",
    "    \n",
    "    df = df.assign(\n",
    "        route_short_name = (df.recent_combined_name\n",
    "                            .str.split(\"__\", expand=True)[0]),\n",
    "        route_long_name = (df.recent_combined_name\n",
    "                           .str.split(\"__\", expand=True)[1]),\n",
    "    ).drop(\n",
    "        columns = [\"route_id\", \"recent_combined_name\"]\n",
    "    ).rename(\n",
    "        columns = {\"recent_route_id2\": \"route_id\"}\n",
    "    )\n",
    "    \n",
    "    return df"
   ]
  },
  {
   "cell_type": "code",
   "execution_count": null,
   "id": "296b6bc2-68ba-4e2f-8261-05d401a1c91b",
   "metadata": {},
   "outputs": [],
   "source": [
    "df = pd.concat([\n",
    "    pd.read_parquet(\n",
    "        f\"{SEGMENT_GCS}rollup_singleday/speeds_route_dir_{d}.parquet\",\n",
    "        filters = [[(\"name\", \"==\", name)]]\n",
    "    ).drop(\n",
    "        columns = \"geometry\"\n",
    "    ).assign(\n",
    "        service_date = pd.to_datetime(d)\n",
    "    ) for d in analysis_date_list], \n",
    "    axis=0, ignore_index = True\n",
    ").pipe(merge_in_standardized_route_names, name) "
   ]
  },
  {
   "cell_type": "code",
   "execution_count": null,
   "id": "4bfb201a-558b-459e-bc87-a931a2a0cee0",
   "metadata": {},
   "outputs": [],
   "source": [
    "def base_chart(df: pd.DataFrame, y_col: str) -> alt.Chart:\n",
    "    \n",
    "    df = df.reset_index(drop=True)\n",
    "    \n",
    "    selected_colors = cp.CALITP_CATEGORY_BRIGHT_COLORS[3:]\n",
    "    \n",
    "    snakecase_ycol = y_col.replace('_', ' ')\n",
    "    \n",
    "    chart = (alt.Chart(df)\n",
    "         .mark_bar(width=15)\n",
    "         .encode(\n",
    "             x = alt.X(\"yearmonthdate(service_date):O\", title = \"Date\",\n",
    "                       axis = alt.Axis(format = '%b %Y')\n",
    "                      ),\n",
    "             y = alt.Y(f\"{y_col}:Q\", title = snakecase_ycol,\n",
    "                       #scale = alt.Scale(domain=[0, 50])\n",
    "                      ),\n",
    "             color = alt.Color(\n",
    "                 \"time_period:N\", title = \"\",\n",
    "                 scale = alt.Scale(range = selected_colors)\n",
    "             ),\n",
    "             tooltip = [\"route_id\", \"direction_id\", \n",
    "                        \"time_period\", y_col]\n",
    "         ).facet(\n",
    "             column = alt.Column(\"time_period:O\", title=\"Time Period\"),\n",
    "             row = alt.Row(\"direction_id:N\", title=\"Direction\")\n",
    "         ).interactive()\n",
    "    )\n",
    "    \n",
    "    return chart"
   ]
  },
  {
   "cell_type": "code",
   "execution_count": null,
   "id": "f409e14a-471c-4771-a151-f942ec6051d8",
   "metadata": {},
   "outputs": [],
   "source": [
    "def dual_chart(\n",
    "    df, \n",
    "    control_field: str,\n",
    "    y_col: str\n",
    "):\n",
    "    \"\"\"\n",
    "    https://stackoverflow.com/questions/58919888/multiple-selections-in-altair\n",
    "    \"\"\"\n",
    "    route_dropdown = alt.binding_select(\n",
    "        options=sorted(df[control_field].unique().tolist()), \n",
    "        name='Routes '\n",
    "    )\n",
    "        \n",
    "    # Column that controls the bar charts\n",
    "    route_selector = alt.selection_point(\n",
    "        fields=[control_field], \n",
    "        bind=route_dropdown\n",
    "    )\n",
    "                \n",
    "    chart = base_chart(\n",
    "        df, y_col\n",
    "    ).add_params(route_selector).transform_filter(route_selector)\n",
    "   \n",
    "    return chart"
   ]
  },
  {
   "cell_type": "markdown",
   "id": "fdd70b84-251e-42cb-baae-94dfafe2c204",
   "metadata": {},
   "source": [
    "# {name}\n",
    "## Route Average Speeds\n",
    "\n",
    "Some of the routes have average speeds that jump wildly from month to month. Let's take a look at these."
   ]
  },
  {
   "cell_type": "code",
   "execution_count": null,
   "id": "c4a5c454-96dd-41cf-935a-4b4bf1db3177",
   "metadata": {},
   "outputs": [],
   "source": [
    "chart = dual_chart(\n",
    "    df, \n",
    "    control_field = \"route_id\", \n",
    "    y_col = \"speed_mph\"\n",
    ")\n",
    "\n",
    "chart"
   ]
  },
  {
   "cell_type": "code",
   "execution_count": null,
   "id": "add10fb3-1b11-4df4-82ea-7f21586bda80",
   "metadata": {},
   "outputs": [],
   "source": []
  }
 ],
 "metadata": {
  "kernelspec": {
   "display_name": "Python 3 (ipykernel)",
   "language": "python",
   "name": "python3"
  },
  "language_info": {
   "codemirror_mode": {
    "name": "ipython",
    "version": 3
   },
   "file_extension": ".py",
   "mimetype": "text/x-python",
   "name": "python",
   "nbconvert_exporter": "python",
   "pygments_lexer": "ipython3",
   "version": "3.9.13"
  }
 },
 "nbformat": 4,
 "nbformat_minor": 5
}
