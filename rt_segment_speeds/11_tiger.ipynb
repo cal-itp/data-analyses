{
 "cells": [
  {
   "cell_type": "markdown",
   "id": "18ada7ff-048d-4c5c-9523-9f191e772137",
   "metadata": {},
   "source": [
    "## Tiger Census\n",
    "* https://www2.census.gov/geo/pdfs/maps-data/data/tiger/tgrshp2019/TGRSHP2019_TechDoc.pdf\n",
    "* S1200 - secondary road\n",
    "* S1100 - primary road\n",
    "* S1400 - local roads\n"
   ]
  },
  {
   "cell_type": "code",
   "execution_count": null,
   "id": "e1409ea6-c44a-45af-9a4b-7752f5f8cfd5",
   "metadata": {},
   "outputs": [],
   "source": [
    "import dask.dataframe as dd\n",
    "import dask_geopandas as dg\n",
    "\n",
    "import geopandas as gpd\n",
    "import pandas as pd\n",
    "from calitp_data_analysis.sql import to_snakecase\n",
    "import datetime\n",
    "\n",
    "\n",
    "from segment_speed_utils.project_vars import analysis_date\n",
    "from segment_speed_utils import helpers\n",
    "from shared_utils import  dask_utils, geography_utils, utils\n",
    "\n",
    "GCS_FILE_PATH = \"gs://calitp-analytics-data/data-analyses/\"\n",
    "SHARED_GCS = f\"{GCS_FILE_PATH}shared_data/\""
   ]
  },
  {
   "cell_type": "code",
   "execution_count": null,
   "id": "c69abcdb-7509-47c8-b891-a99c899db38b",
   "metadata": {},
   "outputs": [],
   "source": [
    "pd.options.display.max_columns = 100\n",
    "pd.options.display.float_format = \"{:.2f}\".format\n",
    "pd.set_option(\"display.max_rows\", None)\n",
    "pd.set_option(\"display.max_colwidth\", None)"
   ]
  },
  {
   "cell_type": "markdown",
   "id": "45bdd874-29bf-4e67-8c07-04bd9cdda0d6",
   "metadata": {},
   "source": [
    "### GTFS Shapes"
   ]
  },
  {
   "cell_type": "code",
   "execution_count": null,
   "id": "af866cf6-65d8-4d4f-96d4-a2eb8f3bf88b",
   "metadata": {},
   "outputs": [],
   "source": [
    "def gtfs_shapes_operators(date):\n",
    "    \"\"\"\n",
    "    Load and merge gtfs_shapes \n",
    "    with trips to get operator and \n",
    "    feed key information.\n",
    "    \n",
    "    Returns a gpd.DataFrame.\n",
    "    \"\"\"\n",
    "    gtfs_shapes = helpers.import_scheduled_shapes(date).compute()\n",
    "    \n",
    "    trips = helpers.import_scheduled_trips(date,(),['feed_key','name','shape_array_key']).compute().drop_duplicates()\n",
    "    \n",
    "    m1 = pd.merge(gtfs_shapes, trips, how=\"outer\", on=\"shape_array_key\")\n",
    "    return m1"
   ]
  },
  {
   "cell_type": "code",
   "execution_count": null,
   "id": "fc9fe8ca-cff9-460d-aaf7-86a6f4518794",
   "metadata": {},
   "outputs": [],
   "source": [
    "# merge1 = gtfs_shapes_operators(analysis_date)"
   ]
  },
  {
   "cell_type": "code",
   "execution_count": null,
   "id": "74169c08-27b3-4033-b54b-9d75d38b23cd",
   "metadata": {},
   "outputs": [],
   "source": [
    "# merge1.shape"
   ]
  },
  {
   "cell_type": "code",
   "execution_count": null,
   "id": "d297ff67-ff89-4c76-a558-e0b57676aeea",
   "metadata": {},
   "outputs": [],
   "source": [
    "# type(merge1)"
   ]
  },
  {
   "cell_type": "code",
   "execution_count": null,
   "id": "562dda44-719f-49cc-818d-3f0d562409b8",
   "metadata": {},
   "outputs": [],
   "source": [
    "# merge1.plot()"
   ]
  },
  {
   "cell_type": "markdown",
   "id": "616273a8-4f58-4eae-b1f3-43ce2d4dd501",
   "metadata": {},
   "source": [
    "* https://www.energy.ca.gov/data-reports/energy-almanac/transportation-energy/public-transit-california"
   ]
  },
  {
   "cell_type": "code",
   "execution_count": null,
   "id": "ee6d2496-861a-4cbb-a3d9-98fab1735da5",
   "metadata": {},
   "outputs": [],
   "source": [
    "def order_operators(date):\n",
    "    operator_list = helpers.import_scheduled_trips(analysis_date,(),['name']).compute().sort_values('name')\n",
    "    operator_list = operator_list.name.unique().tolist()\n",
    "    \n",
    "    # Reorder list so the biggest operators are at the beginning\n",
    "    # based on NTD services data \n",
    "    big_operators = ['LA DOT Schedule',\n",
    "     'LA Metro Bus Schedule',\n",
    "     'LA Metro Rail Schedule',\n",
    "     'Bay Area 511 Muni Schedule',\n",
    "     'Bay Area 511 AC Transit Schedule',\n",
    "     'Bay Area 511 Santa Clara Transit Schedule',\n",
    "     'Bay Area 511 BART Schedule',\n",
    "     'San Diego Schedule','OCTA Schedule','Sacramento Schedule',\n",
    "    ]\n",
    "    i = 0\n",
    "    for operator in big_operators:\n",
    "        operator_list.remove(operator)\n",
    "        operator_list.insert(i, operator)\n",
    "        ++i\n",
    "    return operator_list"
   ]
  },
  {
   "cell_type": "code",
   "execution_count": null,
   "id": "7bdbb195-9b3e-43a4-8f3e-3a2f898bb505",
   "metadata": {},
   "outputs": [],
   "source": [
    "# test_list = order_operators(analysis_date)"
   ]
  },
  {
   "cell_type": "markdown",
   "id": "af59e43d-f137-4a0a-9fb9-e6ebd0a6d030",
   "metadata": {},
   "source": [
    "### Tiger Primary Secondary Roads"
   ]
  },
  {
   "cell_type": "code",
   "execution_count": null,
   "id": "5cbbfa01-2132-4bda-8fd3-d88e62e2a8d0",
   "metadata": {},
   "outputs": [],
   "source": [
    "#roads = to_snakecase(gpd.read_parquet(\n",
    "  #       f\"{SHARED_GCS}all_roads_2020_state06.parquet\")).to_crs(geography_utils.CA_NAD83Albers)"
   ]
  },
  {
   "cell_type": "code",
   "execution_count": null,
   "id": "aa88066b-0ce3-4370-8423-3307968f9078",
   "metadata": {},
   "outputs": [],
   "source": [
    "primary_secondary_mtfcc = ['S1100','S1200']"
   ]
  },
  {
   "cell_type": "code",
   "execution_count": null,
   "id": "61786354-ec33-47bd-9891-cb292068c703",
   "metadata": {},
   "outputs": [],
   "source": [
    "def load_roads(road_type_wanted:list):\n",
    "    df = gpd.read_parquet(\n",
    "         f\"{SHARED_GCS}all_roads_2020_state06.parquet\", \n",
    "         filters =[('MTFCC', 'in', road_type_wanted)],\n",
    "         columns = [\"LINEARID\", \"MTFCC\", \"geometry\"]\n",
    "    ).to_crs(geography_utils.CA_NAD83Albers)\n",
    "    \n",
    "    df = df.assign(\n",
    "        geometry = df.geometry.buffer(200)\n",
    "    )\n",
    "    \n",
    "    df = to_snakecase(df)\n",
    "    \n",
    "    return df"
   ]
  },
  {
   "cell_type": "code",
   "execution_count": null,
   "id": "8f76b8b4-3a93-465c-9654-d54e7110a83f",
   "metadata": {},
   "outputs": [],
   "source": [
    "# primary_secondary_roads = load_roads(primary_secondary_mtfcc)"
   ]
  },
  {
   "cell_type": "code",
   "execution_count": null,
   "id": "3e9b1926-baca-4b14-8086-c98442307fe2",
   "metadata": {},
   "outputs": [],
   "source": [
    "# primary_secondary_roads.mtfcc.value_counts()"
   ]
  },
  {
   "cell_type": "code",
   "execution_count": null,
   "id": "b0e1c714-64f8-40ab-bc0d-5fd42904d82c",
   "metadata": {},
   "outputs": [],
   "source": [
    "# primary_secondary_roads.shape"
   ]
  },
  {
   "cell_type": "code",
   "execution_count": null,
   "id": "d73691b1-fcda-42c7-8b59-04890d5e8e80",
   "metadata": {},
   "outputs": [],
   "source": [
    "# primary_secondary_roads.plot()"
   ]
  },
  {
   "cell_type": "code",
   "execution_count": null,
   "id": "592f3f1b-930c-41b9-88bb-26d4e4ce9241",
   "metadata": {},
   "outputs": [],
   "source": [
    "def join_primary_secondary_v1():\n",
    "    start = datetime.datetime.now()\n",
    "    # Load Shapes\n",
    "    shapes = gtfs_shapes_operators(analysis_date)\n",
    "    \n",
    "    # Load secondary-primary shapes\n",
    "    primary_secondary_mtfcc = ['S1100','S1200']\n",
    "    primary_secondary_roads = load_roads(primary_secondary_mtfcc)\n",
    "    \n",
    "    sjoin1 = gpd.sjoin(\n",
    "        primary_secondary_roads,\n",
    "        shapes,\n",
    "        how = \"inner\",\n",
    "        predicate = \"intersects\"\n",
    "    ).drop_duplicates().reset_index(drop=True)\n",
    "    \n",
    "    end = datetime.datetime.now()\n",
    "    print(f\"time lapsed: {end-start}\")\n",
    "    \n",
    "    return sjoin1"
   ]
  },
  {
   "cell_type": "code",
   "execution_count": null,
   "id": "b8220f17-6e71-4a7c-b6b6-0f646365ceac",
   "metadata": {},
   "outputs": [],
   "source": [
    "#test = join_primary_secondary()"
   ]
  },
  {
   "cell_type": "code",
   "execution_count": null,
   "id": "290db63d-e99a-4238-ae8e-8fe3bcc2a266",
   "metadata": {},
   "outputs": [],
   "source": [
    "#test.plot()"
   ]
  },
  {
   "cell_type": "markdown",
   "id": "f4cb4382-e097-4788-b09a-923a78612f1c",
   "metadata": {},
   "source": [
    "### Tiger Local Roads"
   ]
  },
  {
   "cell_type": "markdown",
   "id": "99425eea-3374-4f05-b40a-608344f2552d",
   "metadata": {},
   "source": [
    "#### Test with one operator first"
   ]
  },
  {
   "cell_type": "code",
   "execution_count": null,
   "id": "fc474532-0f56-4984-b660-54373f67c72e",
   "metadata": {},
   "outputs": [],
   "source": [
    "#one_op = 'Bear Schedule'"
   ]
  },
  {
   "cell_type": "code",
   "execution_count": null,
   "id": "42625854-036c-4f40-84d0-dbca51ce725b",
   "metadata": {},
   "outputs": [],
   "source": [
    "#shapes_filtered = shapes.loc[shapes.name == one_op].reset_index(drop = True)"
   ]
  },
  {
   "cell_type": "code",
   "execution_count": null,
   "id": "f5c34a82-d2ad-4143-aa3b-5cca496571f4",
   "metadata": {},
   "outputs": [],
   "source": [
    "#sjoin1 = gpd.sjoin(\n",
    "#        local_roads,\n",
    "#       shapes_filtered,\n",
    " #       how = \"inner\",\n",
    " #     predicate = \"intersects\").drop_duplicates().reset_index(drop=True)"
   ]
  },
  {
   "cell_type": "code",
   "execution_count": null,
   "id": "451c8a7b-cd9e-461f-be36-0003dbba723f",
   "metadata": {},
   "outputs": [],
   "source": [
    "#sjoin1.shape"
   ]
  },
  {
   "cell_type": "code",
   "execution_count": null,
   "id": "4e6362a1-2d37-4f36-a577-e9f20f7f226d",
   "metadata": {},
   "outputs": [],
   "source": [
    "#sjoin1.linearid.nunique()"
   ]
  },
  {
   "cell_type": "code",
   "execution_count": null,
   "id": "43862ddd-285a-464c-9d04-2d67daebbab6",
   "metadata": {},
   "outputs": [],
   "source": [
    "#sjoin1.columns"
   ]
  },
  {
   "cell_type": "code",
   "execution_count": null,
   "id": "5c1815b5-2c89-44ce-ab3d-2e5ca402dac8",
   "metadata": {},
   "outputs": [],
   "source": [
    "#linearid_del = sjoin1.linearid.unique().tolist()"
   ]
  },
  {
   "cell_type": "code",
   "execution_count": null,
   "id": "1915dac5-c38c-4036-b804-0d6f98ed1111",
   "metadata": {
    "tags": []
   },
   "outputs": [],
   "source": [
    "#localroads_filtered = local_roads[~local_roads.linearid.isin(linearid_del)].reset_index(drop = True)"
   ]
  },
  {
   "cell_type": "code",
   "execution_count": null,
   "id": "735ea0c0-1130-4b83-b07a-756ae604429b",
   "metadata": {},
   "outputs": [],
   "source": [
    "#local_roads.linearid.nunique() - localroads_filtered.linearid.nunique()"
   ]
  },
  {
   "cell_type": "markdown",
   "id": "efcde490-ff51-41bf-8e7e-64e0e6857dc0",
   "metadata": {},
   "source": [
    "#### A few operators"
   ]
  },
  {
   "cell_type": "code",
   "execution_count": null,
   "id": "2c39602c-3efb-42c1-9a6c-47611532d6ba",
   "metadata": {},
   "outputs": [],
   "source": [
    "# shapes = gtfs_shapes_operators(analysis_date)"
   ]
  },
  {
   "cell_type": "code",
   "execution_count": null,
   "id": "4ef841d0-8eb5-4700-bab4-21f0dd25ed21",
   "metadata": {},
   "outputs": [],
   "source": [
    "# local_roads.linearid.nunique(), local_roads.linearid.count()"
   ]
  },
  {
   "cell_type": "code",
   "execution_count": null,
   "id": "0b33ec0b-2d19-4d8f-b322-e31af18693c8",
   "metadata": {},
   "outputs": [],
   "source": [
    "# local_roads.linearid.count()-local_roads.linearid.nunique()"
   ]
  },
  {
   "cell_type": "code",
   "execution_count": null,
   "id": "ff370da7-3291-4bbe-82a9-7c684d0aa945",
   "metadata": {},
   "outputs": [],
   "source": [
    "# shapes_filtered.name.unique()"
   ]
  },
  {
   "cell_type": "code",
   "execution_count": null,
   "id": "9bb7cdbe-e055-4c5d-b442-828d95ca886a",
   "metadata": {},
   "outputs": [],
   "source": [
    "# sjoin_full_results = pd.DataFrame()"
   ]
  },
  {
   "cell_type": "code",
   "execution_count": null,
   "id": "70d675c9-bcf7-47bf-b411-5091da4ed271",
   "metadata": {},
   "outputs": [],
   "source": [
    "\"\"\"\n",
    "for operator in test_operators:\n",
    "        try:\n",
    "            linearid_to_delete = sjoin_full_results.linearid.unique().tolist()\n",
    "            local_roads = local_roads[~local_roads.linearid.isin(linearid_to_delete)].reset_index(drop = True)\n",
    "        except:\n",
    "            pass\n",
    "        \n",
    "        shapes_filtered = shapes.loc[shapes.name == operator].reset_index(drop = True)\n",
    "    \n",
    "        sjoin1 = gpd.sjoin(\n",
    "        local_roads,\n",
    "        shapes_filtered,\n",
    "        how = \"inner\",\n",
    "        predicate = \"intersects\").drop_duplicates().reset_index(drop=True)\n",
    "        \n",
    "        sjoin_full_results = pd.concat([sjoin_full_results, sjoin1], axis=0)\"\"\""
   ]
  },
  {
   "cell_type": "code",
   "execution_count": null,
   "id": "0cfb3da4-1b08-405d-9545-008ad23f15be",
   "metadata": {},
   "outputs": [],
   "source": [
    "#sjoin_full_results.shape"
   ]
  },
  {
   "cell_type": "code",
   "execution_count": null,
   "id": "a33857db-e9f6-42e1-81cf-58e315a9c9bb",
   "metadata": {},
   "outputs": [],
   "source": [
    "#sjoin_full_results.linearid.nunique()"
   ]
  },
  {
   "cell_type": "code",
   "execution_count": null,
   "id": "c915d771-e044-412e-87e6-077aa74fd801",
   "metadata": {},
   "outputs": [],
   "source": [
    "#sjoin_full_results.linearid.count()"
   ]
  },
  {
   "cell_type": "code",
   "execution_count": null,
   "id": "e385cc25-197b-419e-a51e-5f52e0971e1c",
   "metadata": {},
   "outputs": [],
   "source": [
    "#sjoin_full_results.drop(columns = ['geometry']).sample(5)"
   ]
  },
  {
   "cell_type": "code",
   "execution_count": null,
   "id": "84a64006-2fce-4de2-ab76-0b87793ba50b",
   "metadata": {},
   "outputs": [],
   "source": [
    "def join_local_roads_v2(date):\n",
    "    \n",
    "    start = datetime.datetime.now()\n",
    "    print(start)\n",
    " \n",
    "    # Load GTFS Shapes\n",
    "    shapes = gtfs_shapes_operators(date)\n",
    "    \n",
    "    # Load local roads\n",
    "    local_roads = load_roads(['S1400'])\n",
    "    \n",
    "    # Loop through operators \n",
    "    operators_list = order_operators(date)\n",
    "    \n",
    "    # Empty dataframe\n",
    "    sjoin_full_results = pd.DataFrame()\n",
    "    \n",
    "    for operator in operators_list:\n",
    "        # Delete any local road linearids that have already been found by an operator\n",
    "        try:\n",
    "            linearid_to_delete = sjoin_full_results.linearid.unique().tolist()\n",
    "            local_roads = local_roads[~local_roads.linearid.isin(linearid_to_delete)].reset_index(drop = True)\n",
    "        except:\n",
    "            pass\n",
    "        \n",
    "        shapes_filtered = shapes.loc[shapes.name == operator].reset_index(drop = True)\n",
    "    \n",
    "        sjoin1 = gpd.sjoin(\n",
    "        local_roads,\n",
    "        shapes_filtered,\n",
    "        how = \"inner\",\n",
    "        predicate = \"intersects\").drop_duplicates().reset_index(drop=True)\n",
    "        \n",
    "        sjoin_full_results = pd.concat([sjoin_full_results, sjoin1], axis=0)\n",
    "        \n",
    "    # Save\n",
    "    sjoin_full_results.to_parquet(f'{SHARED_GCS}local_roads_gtfs_shapes.parquet')\n",
    "    \n",
    "    end = datetime.datetime.now()\n",
    "   \n",
    "    print(f\"time lapsed: {end-start}\")    \n",
    "    return sjoin_full_results"
   ]
  },
  {
   "cell_type": "code",
   "execution_count": null,
   "id": "efb390bf-6f81-42a9-9d6d-d70b47796b26",
   "metadata": {},
   "outputs": [],
   "source": [
    "# test_operators = ['LA DOT Schedule','Bell Gardens Schedule','Nevada County Schedule','San Diego Schedule','OCTA Schedule','Sacramento Schedule']"
   ]
  },
  {
   "cell_type": "code",
   "execution_count": null,
   "id": "68a98b14-c904-49c4-8325-311f6877a111",
   "metadata": {},
   "outputs": [],
   "source": [
    "test_localroads = join_local_roads(analysis_date)"
   ]
  },
  {
   "cell_type": "code",
   "execution_count": null,
   "id": "4ee7a2a3-3cc2-4924-8870-4538bcb7d5e7",
   "metadata": {},
   "outputs": [],
   "source": [
    "# test_localroads.shape"
   ]
  },
  {
   "cell_type": "code",
   "execution_count": null,
   "id": "a811b853-3d9b-4d79-856e-40a46362a7d9",
   "metadata": {},
   "outputs": [],
   "source": [
    "# f\"{GCS_FILE_PATH}shared_data/\""
   ]
  },
  {
   "cell_type": "code",
   "execution_count": null,
   "id": "09a4259d-6fe7-49dd-bd4a-5b0b519539b4",
   "metadata": {},
   "outputs": [],
   "source": [
    "# f'{SHARED_GCS}local_roads_gtfs_shapes.parquet'"
   ]
  },
  {
   "cell_type": "code",
   "execution_count": null,
   "id": "a0302b27-932d-4e23-9ba3-d88c66ab67c0",
   "metadata": {},
   "outputs": [],
   "source": [
    "test_localroads.linearid.nunique()"
   ]
  },
  {
   "cell_type": "code",
   "execution_count": null,
   "id": "ff6680fe-d393-4ee3-8347-aa4fa1759af9",
   "metadata": {},
   "outputs": [],
   "source": [
    "# local_roads = load_roads(['S1400'])"
   ]
  },
  {
   "cell_type": "code",
   "execution_count": null,
   "id": "125d0e20-38bd-4f10-927e-787038228ebf",
   "metadata": {},
   "outputs": [],
   "source": [
    "# local_roads.linearid.nunique()"
   ]
  },
  {
   "cell_type": "code",
   "execution_count": null,
   "id": "9943e778-8c15-45ae-b5b2-e20d0ae97b7d",
   "metadata": {},
   "outputs": [],
   "source": [
    "# test_localroads.linearid.nunique()"
   ]
  },
  {
   "cell_type": "markdown",
   "id": "76fc064d-991c-4bd1-aa7d-8cf36dac1630",
   "metadata": {},
   "source": [
    "### Concat local roads and primary/secondary ones"
   ]
  },
  {
   "cell_type": "code",
   "execution_count": null,
   "id": "a7dad6db-fb7c-4b67-b783-fd7a2714365f",
   "metadata": {},
   "outputs": [],
   "source": [
    "def join_primary_secondary(gtfs_shape_gdf):\n",
    "    \n",
    "    # Load secondary-primary shapes\n",
    "    primary_secondary_mtfcc = ['S1100','S1200']\n",
    "    primary_secondary_roads = load_roads(primary_secondary_mtfcc)\n",
    "    \n",
    "    sjoin1 = gpd.sjoin(\n",
    "        primary_secondary_roads,\n",
    "        gtfs_shape_gdf,\n",
    "        how = \"inner\",\n",
    "        predicate = \"intersects\"\n",
    "    ).drop_duplicates().reset_index(drop=True)\n",
    "    \n",
    "    # Save to GCS\n",
    "    sjoin1.to_parquet(f'{SHARED_GCS}primary_secondary_roads_gtfs_shapes.parquet')\n",
    "    print('Done with primary and secondary roads')\n",
    "    return sjoin1"
   ]
  },
  {
   "cell_type": "code",
   "execution_count": null,
   "id": "4790b37b-1545-4637-86d3-e34e268f9315",
   "metadata": {},
   "outputs": [],
   "source": [
    "def join_local_roads(gtfs_shape_gdf):\n",
    "     # Load local roads\n",
    "    local_roads = load_roads(['S1400'])\n",
    "    \n",
    "    # Find all unique operators, ordered by\n",
    "    # largest operators first\n",
    "    operators_list = order_operators(date)\n",
    "    \n",
    "    # Empty dataframe\n",
    "    sjoin_full_results = pd.DataFrame()\n",
    "    \n",
    "    # Loop through and join by operator\n",
    "    for operator in operators_list:\n",
    "        # Delete any local road linearids that have already been found by an operator\n",
    "        try:\n",
    "            linearid_to_delete = sjoin_full_results.linearid.unique().tolist()\n",
    "            local_roads = local_roads[~local_roads.linearid.isin(linearid_to_delete)].reset_index(drop = True)\n",
    "        except:\n",
    "            pass\n",
    "        \n",
    "        shapes_filtered = shapes.loc[shapes.name == operator].reset_index(drop = True)\n",
    "    \n",
    "        sjoin1 = gpd.sjoin(\n",
    "        local_roads,\n",
    "        shapes_filtered,\n",
    "        how = \"inner\",\n",
    "        predicate = \"intersects\").drop_duplicates().reset_index(drop=True)\n",
    "        \n",
    "        sjoin_full_results = pd.concat([sjoin_full_results, sjoin1], axis=0)\n",
    "        \n",
    "    # Save\n",
    "    sjoin_full_results.to_parquet(f'{SHARED_GCS}local_roads_gtfs_shapes.parquet')\n",
    "    print('Done with local roads')\n",
    "    \n",
    "    return sjoin_full_results"
   ]
  },
  {
   "cell_type": "code",
   "execution_count": null,
   "id": "4566492f-36b9-44a5-90bb-5117ebaff339",
   "metadata": {},
   "outputs": [],
   "source": [
    "def gtfs_shapes_all_roads(date):\n",
    "    start = datetime.datetime.now()\n",
    "    # Load Shapes\n",
    "    shapes = gtfs_shapes_operators(date)\n",
    "    \n",
    "    # Find primary & secondary raods\n",
    "    primary_secondary_roads_gdf = join_primary_secondary(shapes)\n",
    "    \n",
    "    # Find local raods\n",
    "    local_roads_gdf = join_local_roads(shapes)\n",
    "    \n",
    "    # Concat \n",
    "    all_roads = pd.concat([primary_secondary_roads_gdf, local_roads_gdf], axis=0)\n",
    "    \n",
    "    # Save\n",
    "    all_roads.to_parquet(f'{SHARED_GCS}all_roads_gtfs_shapes.parquet')\n",
    "    end = datetime.datetime.now()\n",
    "    \n",
    "    print(f\"time lapsed: {end-start}\")\n",
    "    \n",
    "    return all_roads"
   ]
  }
 ],
 "metadata": {
  "kernelspec": {
   "display_name": "Python 3 (ipykernel)",
   "language": "python",
   "name": "python3"
  },
  "language_info": {
   "codemirror_mode": {
    "name": "ipython",
    "version": 3
   },
   "file_extension": ".py",
   "mimetype": "text/x-python",
   "name": "python",
   "nbconvert_exporter": "python",
   "pygments_lexer": "ipython3",
   "version": "3.9.13"
  }
 },
 "nbformat": 4,
 "nbformat_minor": 5
}
