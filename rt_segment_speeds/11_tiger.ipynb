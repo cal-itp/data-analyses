{
 "cells": [
  {
   "cell_type": "markdown",
   "id": "18ada7ff-048d-4c5c-9523-9f191e772137",
   "metadata": {},
   "source": [
    "## Tiger Census\n",
    "* https://www2.census.gov/geo/pdfs/maps-data/data/tiger/tgrshp2019/TGRSHP2019_TechDoc.pdf\n",
    "* S1200 - secondary road\n",
    "* S1100 - primary road\n",
    "* S1400 - local roads\n"
   ]
  },
  {
   "cell_type": "code",
   "execution_count": 1,
   "id": "e1409ea6-c44a-45af-9a4b-7752f5f8cfd5",
   "metadata": {},
   "outputs": [
    {
     "name": "stderr",
     "output_type": "stream",
     "text": [
      "/opt/conda/lib/python3.9/site-packages/geopandas/_compat.py:123: UserWarning: The Shapely GEOS version (3.11.1-CAPI-1.17.1) is incompatible with the GEOS version PyGEOS was compiled with (3.10.1-CAPI-1.16.0). Conversions between both will be slow.\n",
      "  warnings.warn(\n",
      "/opt/conda/lib/python3.9/site-packages/dask_geopandas/backends.py:13: UserWarning: Shapely 2.0 is installed, but because PyGEOS is also installed, GeoPandas will still use PyGEOS by default for now. To force to use and test Shapely 2.0, you have to set the environment variable USE_PYGEOS=0. You can do this before starting the Python process, or in your code before importing geopandas:\n",
      "\n",
      "import os\n",
      "os.environ['USE_PYGEOS'] = '0'\n",
      "import geopandas\n",
      "\n",
      "In a future release, GeoPandas will switch to using Shapely by default. If you are using PyGEOS directly (calling PyGEOS functions on geometries from GeoPandas), this will then stop working and you are encouraged to migrate from PyGEOS to Shapely 2.0 (https://shapely.readthedocs.io/en/latest/migration_pygeos.html).\n",
      "  import geopandas\n"
     ]
    }
   ],
   "source": [
    "import dask.dataframe as dd\n",
    "import dask_geopandas as dg\n",
    "\n",
    "import geopandas as gpd\n",
    "import pandas as pd\n",
    "from calitp_data_analysis.sql import to_snakecase\n",
    "import datetime\n",
    "\n",
    "\n",
    "from segment_speed_utils.project_vars import analysis_date\n",
    "from segment_speed_utils import helpers\n",
    "from shared_utils import  dask_utils, geography_utils, utils\n",
    "\n",
    "GCS_FILE_PATH = \"gs://calitp-analytics-data/data-analyses/\"\n",
    "SHARED_GCS = f\"{GCS_FILE_PATH}shared_data/\""
   ]
  },
  {
   "cell_type": "code",
   "execution_count": 2,
   "id": "c69abcdb-7509-47c8-b891-a99c899db38b",
   "metadata": {},
   "outputs": [],
   "source": [
    "pd.options.display.max_columns = 100\n",
    "pd.options.display.float_format = \"{:.2f}\".format\n",
    "pd.set_option(\"display.max_rows\", None)\n",
    "pd.set_option(\"display.max_colwidth\", None)"
   ]
  },
  {
   "cell_type": "code",
   "execution_count": 3,
   "id": "15340a83-0098-4758-a1ba-458aa9c1c441",
   "metadata": {},
   "outputs": [],
   "source": [
    "local_roads_sjoin = gpd.read_parquet('gs://calitp-analytics-data/data-analyses/shared_data/local_roads_gtfs_shapes_sjoin.parquet')"
   ]
  },
  {
   "cell_type": "code",
   "execution_count": 5,
   "id": "1db9e750-c747-4118-a5ef-b3963694913f",
   "metadata": {},
   "outputs": [
    {
     "data": {
      "text/html": [
       "<div>\n",
       "<style scoped>\n",
       "    .dataframe tbody tr th:only-of-type {\n",
       "        vertical-align: middle;\n",
       "    }\n",
       "\n",
       "    .dataframe tbody tr th {\n",
       "        vertical-align: top;\n",
       "    }\n",
       "\n",
       "    .dataframe thead th {\n",
       "        text-align: right;\n",
       "    }\n",
       "</style>\n",
       "<table border=\"1\" class=\"dataframe\">\n",
       "  <thead>\n",
       "    <tr style=\"text-align: right;\">\n",
       "      <th></th>\n",
       "      <th>linearid</th>\n",
       "      <th>geometry</th>\n",
       "      <th>fullname</th>\n",
       "    </tr>\n",
       "  </thead>\n",
       "  <tbody>\n",
       "    <tr>\n",
       "      <th>242347</th>\n",
       "      <td>110510176452</td>\n",
       "      <td>LINESTRING (-55786.089 -322715.425, -55823.625 -322702.634, -55924.015 -322662.454, -55940.827 -322656.459, -55995.533 -322636.783, -56066.301 -322607.897, -56103.465 -322593.998, -56114.822 -322589.593, -56215.573 -322549.184, -56325.675 -322504.383, -56418.163 -322468.245, -56433.701 -322462.480, -56546.179 -322419.215, -56589.971 -322402.383, -56653.473 -322377.204, -56667.372 -322371.560, -56678.370 -322368.157, -56740.423 -322344.319, -56765.219 -322333.718, -56874.963 -322290.577, -56983.790 -322246.775, -57004.867 -322238.641)</td>\n",
       "      <td>Farroll Rd</td>\n",
       "    </tr>\n",
       "  </tbody>\n",
       "</table>\n",
       "</div>"
      ],
      "text/plain": [
       "            linearid  \\\n",
       "242347  110510176452   \n",
       "\n",
       "                                                                                                                                                                                                                                                                                                                                                                                                                                                                                                                                                           geometry  \\\n",
       "242347  LINESTRING (-55786.089 -322715.425, -55823.625 -322702.634, -55924.015 -322662.454, -55940.827 -322656.459, -55995.533 -322636.783, -56066.301 -322607.897, -56103.465 -322593.998, -56114.822 -322589.593, -56215.573 -322549.184, -56325.675 -322504.383, -56418.163 -322468.245, -56433.701 -322462.480, -56546.179 -322419.215, -56589.971 -322402.383, -56653.473 -322377.204, -56667.372 -322371.560, -56678.370 -322368.157, -56740.423 -322344.319, -56765.219 -322333.718, -56874.963 -322290.577, -56983.790 -322246.775, -57004.867 -322238.641)   \n",
       "\n",
       "          fullname  \n",
       "242347  Farroll Rd  "
      ]
     },
     "execution_count": 5,
     "metadata": {},
     "output_type": "execute_result"
    }
   ],
   "source": [
    "local_roads_sjoin.sample()"
   ]
  },
  {
   "cell_type": "code",
   "execution_count": 9,
   "id": "53d96f1f-1586-4f86-a538-e120010e8c7f",
   "metadata": {},
   "outputs": [
    {
     "name": "stdout",
     "output_type": "stream",
     "text": [
      "<class 'geopandas.geodataframe.GeoDataFrame'>\n",
      "Int64Index: 310501 entries, 0 to 310500\n",
      "Data columns (total 3 columns):\n",
      " #   Column    Non-Null Count   Dtype   \n",
      "---  ------    --------------   -----   \n",
      " 0   linearid  310501 non-null  object  \n",
      " 1   geometry  310501 non-null  geometry\n",
      " 2   fullname  310501 non-null  object  \n",
      "dtypes: geometry(1), object(2)\n",
      "memory usage: 9.5+ MB\n"
     ]
    }
   ],
   "source": [
    "local_roads_sjoin.info()"
   ]
  },
  {
   "cell_type": "code",
   "execution_count": 10,
   "id": "801e6562-3d0c-4e22-bf40-9aac3ba1ee67",
   "metadata": {},
   "outputs": [
    {
     "data": {
      "text/plain": [
       "None       52813\n",
       "2nd St       253\n",
       "Main St      247\n",
       "3rd St       247\n",
       "4th St       231\n",
       "Name: fullname, dtype: int64"
      ]
     },
     "execution_count": 10,
     "metadata": {},
     "output_type": "execute_result"
    }
   ],
   "source": [
    "local_roads_sjoin.fullname.value_counts().head()"
   ]
  },
  {
   "cell_type": "code",
   "execution_count": 8,
   "id": "ecb55b96-9050-4e18-b83f-748a5bcaa202",
   "metadata": {},
   "outputs": [
    {
     "data": {
      "text/plain": [
       "(123475, 310430)"
      ]
     },
     "execution_count": 8,
     "metadata": {},
     "output_type": "execute_result"
    }
   ],
   "source": [
    "local_roads_sjoin.fullname.nunique(), local_roads_sjoin.linearid.nunique()"
   ]
  },
  {
   "cell_type": "code",
   "execution_count": 6,
   "id": "cac493c8-2ef3-40d1-9b34-69b6a9b1aaf3",
   "metadata": {},
   "outputs": [
    {
     "data": {
      "text/plain": [
       "<AxesSubplot:>"
      ]
     },
     "execution_count": 6,
     "metadata": {},
     "output_type": "execute_result"
    },
    {
     "data": {
      "image/png": "[encoded data removed]",
      "text/plain": [
       "<Figure size 640x480 with 1 Axes>"
      ]
     },
     "metadata": {},
     "output_type": "display_data"
    }
   ],
   "source": [
    "local_roads_sjoin.plot()"
   ]
  },
  {
   "cell_type": "markdown",
   "id": "45bdd874-29bf-4e67-8c07-04bd9cdda0d6",
   "metadata": {},
   "source": [
    "### GTFS Shapes"
   ]
  },
  {
   "cell_type": "code",
   "execution_count": null,
   "id": "d62da853-fe8f-4e3d-93e4-0b431b93a740",
   "metadata": {},
   "outputs": [],
   "source": [
    "def gtfs_shapes_operators_dask(date):\n",
    "    \"\"\"\n",
    "    Load and merge gtfs_shapes \n",
    "    with trips to get operator and \n",
    "    feed key information.\n",
    "    \n",
    "    Args:\n",
    "        date: date wanted for the datasets to be drawn from\n",
    "        \n",
    "    Returns:\n",
    "        GeoDataFrame\n",
    "    \"\"\"\n",
    "    gtfs_shapes = helpers.import_scheduled_shapes(date)\n",
    "    \n",
    "    trips = helpers.import_scheduled_trips(date,(),['name','shape_array_key']).drop_duplicates()\n",
    "    \n",
    "    m1 = dd.merge(gtfs_shapes, trips, how=\"outer\", on=\"shape_array_key\")\n",
    "    \n",
    "    return m1"
   ]
  },
  {
   "cell_type": "code",
   "execution_count": null,
   "id": "af866cf6-65d8-4d4f-96d4-a2eb8f3bf88b",
   "metadata": {},
   "outputs": [],
   "source": [
    "def gtfs_shapes_operators(date):\n",
    "    \"\"\"\n",
    "    Load and merge gtfs_shapes \n",
    "    with trips to get operator and \n",
    "    feed key information.\n",
    "    \n",
    "    Args:\n",
    "        date: date wanted for the datasets to be drawn from\n",
    "        \n",
    "    Returns:\n",
    "        GeoDataFrame\n",
    "    \"\"\"\n",
    "    gtfs_shapes = helpers.import_scheduled_shapes(date).compute()\n",
    "    \n",
    "    trips = helpers.import_scheduled_trips(date,(),['name','shape_array_key']).compute().drop_duplicates()\n",
    "    \n",
    "    m1 = pd.merge(gtfs_shapes, trips, how=\"outer\", on=\"shape_array_key\")\n",
    "    \n",
    "    return m1"
   ]
  },
  {
   "cell_type": "code",
   "execution_count": null,
   "id": "ee6d2496-861a-4cbb-a3d9-98fab1735da5",
   "metadata": {},
   "outputs": [],
   "source": [
    "def order_operators(date) -> list:\n",
    "    \"\"\"\n",
    "    Re order a list of operators so some of the largest\n",
    "    ones will be at the top of the list.\n",
    "     \n",
    "    Args:\n",
    "        date: date wanted for the datasets to be drawn from   \n",
    "    \"\"\"\n",
    "    operator_list = helpers.import_scheduled_trips(analysis_date,(),['name']).compute().sort_values('name')\n",
    "    operator_list = operator_list.name.unique().tolist()\n",
    "    \n",
    "    # Reorder list so the biggest operators are at the beginning\n",
    "    # based on NTD services data \n",
    "    big_operators = ['LA DOT Schedule',\n",
    "     'LA Metro Bus Schedule',\n",
    "     'LA Metro Rail Schedule',\n",
    "     'Bay Area 511 Muni Schedule',\n",
    "     'Bay Area 511 AC Transit Schedule',\n",
    "     'Bay Area 511 Santa Clara Transit Schedule',\n",
    "     'Bay Area 511 BART Schedule',\n",
    "     'San Diego Schedule','OCTA Schedule','Sacramento Schedule',\n",
    "    ]\n",
    "    i = 0\n",
    "    for operator in big_operators:\n",
    "        operator_list.remove(operator)\n",
    "        operator_list.insert(i, operator)\n",
    "        ++i\n",
    "    return operator_list"
   ]
  },
  {
   "cell_type": "markdown",
   "id": "af59e43d-f137-4a0a-9fb9-e6ebd0a6d030",
   "metadata": {},
   "source": [
    "### Tiger - Load Roads"
   ]
  },
  {
   "cell_type": "code",
   "execution_count": null,
   "id": "61786354-ec33-47bd-9891-cb292068c703",
   "metadata": {},
   "outputs": [],
   "source": [
    "def load_roads(road_type_wanted:list, buffer_or_not: bool = False):\n",
    "    \"\"\"\n",
    "    Load some or all of the roads based on what you filter.\n",
    "    Can also buffer the roads or not. \n",
    "    \n",
    "    Args:\n",
    "        road_type_wanted (list): the type of roads you want.\n",
    "        https://www2.census.gov/geo/pdfs/maps-data/data/tiger/tgrshp2019/TGRSHP2019_TechDoc.pdf\n",
    "        \n",
    "        buffer_or_not (bool): add a buffer of 200 or not\n",
    "    \n",
    "    Returns: \n",
    "        GeoDataFrame\n",
    "    \"\"\"\n",
    "    df = gpd.read_parquet(\n",
    "         f\"{SHARED_GCS}all_roads_2020_state06.parquet\", \n",
    "         filters =[('MTFCC', 'in', road_type_wanted)],\n",
    "         columns = [\"LINEARID\",\"geometry\", \"FULLNAME\"]\n",
    "    ).to_crs(geography_utils.CA_NAD83Albers)\n",
    "    \n",
    "        \n",
    "    if buffer_or_not:\n",
    "        df = df.assign(\n",
    "            geometry = df.geometry.buffer(200)\n",
    "        )\n",
    "    else:\n",
    "        df\n",
    "        \n",
    "    df = to_snakecase(df)\n",
    "    \n",
    "    return df"
   ]
  },
  {
   "cell_type": "markdown",
   "id": "f4cb4382-e097-4788-b09a-923a78612f1c",
   "metadata": {},
   "source": [
    "### Tiger Local Roads\n",
    "#### Test w/ LA Metro first - 25 minutes long"
   ]
  },
  {
   "cell_type": "code",
   "execution_count": null,
   "id": "fc474532-0f56-4984-b660-54373f67c72e",
   "metadata": {},
   "outputs": [],
   "source": [
    "#one_op = 'Bear Schedule'"
   ]
  },
  {
   "cell_type": "code",
   "execution_count": null,
   "id": "42625854-036c-4f40-84d0-dbca51ce725b",
   "metadata": {},
   "outputs": [],
   "source": [
    "#shapes_filtered = shapes.loc[shapes.name == one_op].reset_index(drop = True)"
   ]
  },
  {
   "cell_type": "code",
   "execution_count": null,
   "id": "f5c34a82-d2ad-4143-aa3b-5cca496571f4",
   "metadata": {},
   "outputs": [],
   "source": [
    "#sjoin1 = gpd.sjoin(\n",
    "#        local_roads,\n",
    "#       shapes_filtered,\n",
    " #       how = \"inner\",\n",
    " #     predicate = \"intersects\").drop_duplicates().reset_index(drop=True)"
   ]
  },
  {
   "cell_type": "code",
   "execution_count": null,
   "id": "451c8a7b-cd9e-461f-be36-0003dbba723f",
   "metadata": {},
   "outputs": [],
   "source": [
    "#sjoin1.shape"
   ]
  },
  {
   "cell_type": "code",
   "execution_count": null,
   "id": "4e6362a1-2d37-4f36-a577-e9f20f7f226d",
   "metadata": {},
   "outputs": [],
   "source": [
    "#sjoin1.linearid.nunique()"
   ]
  },
  {
   "cell_type": "code",
   "execution_count": null,
   "id": "43862ddd-285a-464c-9d04-2d67daebbab6",
   "metadata": {},
   "outputs": [],
   "source": [
    "#sjoin1.columns"
   ]
  },
  {
   "cell_type": "code",
   "execution_count": null,
   "id": "5c1815b5-2c89-44ce-ab3d-2e5ca402dac8",
   "metadata": {},
   "outputs": [],
   "source": [
    "#linearid_del = sjoin1.linearid.unique().tolist()"
   ]
  },
  {
   "cell_type": "code",
   "execution_count": null,
   "id": "1915dac5-c38c-4036-b804-0d6f98ed1111",
   "metadata": {
    "tags": []
   },
   "outputs": [],
   "source": [
    "#localroads_filtered = local_roads[~local_roads.linearid.isin(linearid_del)].reset_index(drop = True)"
   ]
  },
  {
   "cell_type": "code",
   "execution_count": null,
   "id": "735ea0c0-1130-4b83-b07a-756ae604429b",
   "metadata": {},
   "outputs": [],
   "source": [
    "#local_roads.linearid.nunique() - localroads_filtered.linearid.nunique()"
   ]
  },
  {
   "cell_type": "code",
   "execution_count": null,
   "id": "2c39602c-3efb-42c1-9a6c-47611532d6ba",
   "metadata": {},
   "outputs": [],
   "source": [
    "# shapes = gtfs_shapes_operators(analysis_date)"
   ]
  },
  {
   "cell_type": "code",
   "execution_count": null,
   "id": "4ef841d0-8eb5-4700-bab4-21f0dd25ed21",
   "metadata": {},
   "outputs": [],
   "source": [
    "# local_roads.linearid.nunique(), local_roads.linearid.count()"
   ]
  },
  {
   "cell_type": "code",
   "execution_count": null,
   "id": "0b33ec0b-2d19-4d8f-b322-e31af18693c8",
   "metadata": {},
   "outputs": [],
   "source": [
    "# local_roads.linearid.count()-local_roads.linearid.nunique()"
   ]
  },
  {
   "cell_type": "code",
   "execution_count": null,
   "id": "ff370da7-3291-4bbe-82a9-7c684d0aa945",
   "metadata": {},
   "outputs": [],
   "source": [
    "# shapes_filtered.name.unique()"
   ]
  },
  {
   "cell_type": "code",
   "execution_count": null,
   "id": "9bb7cdbe-e055-4c5d-b442-828d95ca886a",
   "metadata": {},
   "outputs": [],
   "source": [
    "# sjoin_full_results = pd.DataFrame()"
   ]
  },
  {
   "cell_type": "code",
   "execution_count": null,
   "id": "70d675c9-bcf7-47bf-b411-5091da4ed271",
   "metadata": {},
   "outputs": [],
   "source": [
    "\"\"\"\n",
    "for operator in test_operators:\n",
    "        try:\n",
    "            linearid_to_delete = sjoin_full_results.linearid.unique().tolist()\n",
    "            local_roads = local_roads[~local_roads.linearid.isin(linearid_to_delete)].reset_index(drop = True)\n",
    "        except:\n",
    "            pass\n",
    "        \n",
    "        shapes_filtered = shapes.loc[shapes.name == operator].reset_index(drop = True)\n",
    "    \n",
    "        sjoin1 = gpd.sjoin(\n",
    "        local_roads,\n",
    "        shapes_filtered,\n",
    "        how = \"inner\",\n",
    "        predicate = \"intersects\").drop_duplicates().reset_index(drop=True)\n",
    "        \n",
    "        sjoin_full_results = pd.concat([sjoin_full_results, sjoin1], axis=0)\"\"\""
   ]
  },
  {
   "cell_type": "code",
   "execution_count": null,
   "id": "0cfb3da4-1b08-405d-9545-008ad23f15be",
   "metadata": {},
   "outputs": [],
   "source": [
    "#sjoin_full_results.shape"
   ]
  },
  {
   "cell_type": "code",
   "execution_count": null,
   "id": "a33857db-e9f6-42e1-81cf-58e315a9c9bb",
   "metadata": {},
   "outputs": [],
   "source": [
    "#sjoin_full_results.linearid.nunique()"
   ]
  },
  {
   "cell_type": "code",
   "execution_count": null,
   "id": "c915d771-e044-412e-87e6-077aa74fd801",
   "metadata": {},
   "outputs": [],
   "source": [
    "#sjoin_full_results.linearid.count()"
   ]
  },
  {
   "cell_type": "code",
   "execution_count": null,
   "id": "e385cc25-197b-419e-a51e-5f52e0971e1c",
   "metadata": {},
   "outputs": [],
   "source": [
    "#sjoin_full_results.drop(columns = ['geometry']).sample(5)"
   ]
  },
  {
   "cell_type": "code",
   "execution_count": null,
   "id": "efb390bf-6f81-42a9-9d6d-d70b47796b26",
   "metadata": {},
   "outputs": [],
   "source": [
    "# test_operators = ['LA DOT Schedule','Bell Gardens Schedule','Nevada County Schedule','San Diego Schedule','OCTA Schedule','Sacramento Schedule']"
   ]
  },
  {
   "cell_type": "code",
   "execution_count": null,
   "id": "68a98b14-c904-49c4-8325-311f6877a111",
   "metadata": {},
   "outputs": [],
   "source": [
    "# test_localroads = join_local_roads(analysis_date)"
   ]
  },
  {
   "cell_type": "code",
   "execution_count": null,
   "id": "4ee7a2a3-3cc2-4924-8870-4538bcb7d5e7",
   "metadata": {},
   "outputs": [],
   "source": [
    "# test_localroads.shape"
   ]
  },
  {
   "cell_type": "code",
   "execution_count": null,
   "id": "a811b853-3d9b-4d79-856e-40a46362a7d9",
   "metadata": {},
   "outputs": [],
   "source": [
    "# f\"{GCS_FILE_PATH}shared_data/\""
   ]
  },
  {
   "cell_type": "code",
   "execution_count": null,
   "id": "09a4259d-6fe7-49dd-bd4a-5b0b519539b4",
   "metadata": {},
   "outputs": [],
   "source": [
    "# f'{SHARED_GCS}local_roads_gtfs_shapes.parquet'"
   ]
  },
  {
   "cell_type": "code",
   "execution_count": null,
   "id": "a0302b27-932d-4e23-9ba3-d88c66ab67c0",
   "metadata": {},
   "outputs": [],
   "source": [
    "# test_localroads.linearid.nunique()"
   ]
  },
  {
   "cell_type": "code",
   "execution_count": null,
   "id": "ff6680fe-d393-4ee3-8347-aa4fa1759af9",
   "metadata": {},
   "outputs": [],
   "source": [
    "# local_roads = load_roads(['S1400'])"
   ]
  },
  {
   "cell_type": "code",
   "execution_count": null,
   "id": "125d0e20-38bd-4f10-927e-787038228ebf",
   "metadata": {},
   "outputs": [],
   "source": [
    "# local_roads.linearid.nunique()"
   ]
  },
  {
   "cell_type": "code",
   "execution_count": null,
   "id": "9943e778-8c15-45ae-b5b2-e20d0ae97b7d",
   "metadata": {},
   "outputs": [],
   "source": [
    "# test_localroads.linearid.nunique()"
   ]
  },
  {
   "cell_type": "code",
   "execution_count": null,
   "id": "cc02467a-d8dd-42ba-a782-75cb4bdb379d",
   "metadata": {},
   "outputs": [],
   "source": [
    "def la_metro(date):\n",
    "    \n",
    "    # Load Shapes\n",
    "    gtfs_shape_gdf = gtfs_shapes_operators(date)\n",
    "    \n",
    "    # Load local roads - buffered\n",
    "    local_roads_buffered = load_roads(['S1400'], True)\n",
    "\n",
    "    # Load local roads - not buffered\n",
    "    local_roads_og = load_roads(['S1400'], False)\n",
    "    \n",
    "    # Empty dataframe\n",
    "    sjoin_full_results = pd.DataFrame()\n",
    "    \n",
    "    # Loop through and join by operator\n",
    "    for operator in ['LA Metro Bus Schedule',\n",
    "     'LA Metro Rail Schedule',]:\n",
    "        \n",
    "        shapes_filtered = gtfs_shape_gdf.loc[gtfs_shape_gdf.name == operator].reset_index(drop = True)\n",
    "        \n",
    "        # Delete any local road linearids that have already been found by an operator\n",
    "        try:\n",
    "            linearid_to_delete = sjoin_full_results.linearid.unique().tolist()\n",
    "            local_roads_buffered = local_roads_buffered[~local_roads_buffered.linearid.isin(linearid_to_delete)].reset_index(drop = True)\n",
    "        except:\n",
    "            pass\n",
    "        \n",
    "        sjoin1 = (gpd.sjoin(\n",
    "        local_roads_buffered,\n",
    "        shapes_filtered,\n",
    "        how = \"inner\",\n",
    "        predicate = \"intersects\")\n",
    "                  [['linearid']]\n",
    "                  .drop_duplicates()\n",
    "                  .reset_index(drop=True)\n",
    "                 )\n",
    "        \n",
    "        sjoin_full_results = pd.concat([sjoin_full_results, sjoin1], axis=0)\n",
    "    \n",
    "    sjoin_full_results = sjoin_full_results.drop_duplicates()\n",
    "    \n",
    "    # Merge back to original local roads -> a GDF\n",
    "    merge1 = pd.merge(\n",
    "        local_roads_og,\n",
    "        sjoin_full_results,\n",
    "        on = \"linearid\",\n",
    "        how = \"inner\")\n",
    "    \n",
    "    # Fill in null values for fullname\n",
    "    merge1.fullname = merge1.fullname.fillna('None') \n",
    "    \n",
    "    # Save\n",
    "    print('Done with LA Metro')\n",
    "    \n",
    "    return merge1"
   ]
  },
  {
   "cell_type": "code",
   "execution_count": null,
   "id": "63b5b9cd-11b3-4e52-b50d-809d1091626c",
   "metadata": {},
   "outputs": [],
   "source": [
    "# 2023-04-10 11:20:11.194365\n",
    "# Done with LA Metro\n",
    "# time lapsed: 0:25:57.435602\n",
    "def cut_metro(date):\n",
    "    start = datetime.datetime.now()\n",
    "    print(start)\n",
    "    \n",
    "    # Find local roads that intersect  with LA Metro\n",
    "    local_roads = la_metro(date)\n",
    "    \n",
    "    segments = geography_utils.cut_segments(\n",
    "        local_roads,\n",
    "        [\"linearid\", \"fullname\"],\n",
    "        1_000 # 1 km segments\n",
    "    )\n",
    "    \n",
    "    end = datetime.datetime.now()\n",
    "    print(f\"time lapsed: {end-start}\")\n",
    "    \n",
    "    return segments\n",
    "    "
   ]
  },
  {
   "cell_type": "markdown",
   "id": "4002d6ad-0bac-45f5-a7a0-c9358fc39376",
   "metadata": {},
   "source": [
    "#### Cut all roads"
   ]
  },
  {
   "cell_type": "code",
   "execution_count": null,
   "id": "4790b37b-1545-4637-86d3-e34e268f9315",
   "metadata": {},
   "outputs": [],
   "source": [
    "def cut_local_roads(date):\n",
    "    start = datetime.datetime.now()\n",
    "    # Load Shapes\n",
    "    gtfs_shape_gdf = gtfs_shapes_operators(date)\n",
    "    \n",
    "    # Load local roads - buffered\n",
    "    local_roads_buffered = load_roads(['S1400'], True)\n",
    "\n",
    "    # Load local roads - not buffered\n",
    "    local_roads_og = load_roads(['S1400'], False)\n",
    "    \n",
    "    # Find all unique operators, ordered by\n",
    "    # largest operators first\n",
    "    operators_list = order_operators(date)\n",
    "    \n",
    "    # Empty dataframe\n",
    "    sjoin_full_results = pd.DataFrame()\n",
    "    \n",
    "    # Loop through and join by operator\n",
    "    for operator in operators_list:\n",
    "        \n",
    "        shapes_filtered = gtfs_shape_gdf.loc[gtfs_shape_gdf.name == operator].reset_index(drop = True)\n",
    "        \n",
    "        # Delete any local road linearids that have already been found by an operator\n",
    "        try:\n",
    "            linearid_to_delete = sjoin_full_results.linearid.unique().tolist()\n",
    "            local_roads_buffered = local_roads_buffered[~local_roads_buffered.linearid.isin(linearid_to_delete)].reset_index(drop = True)\n",
    "        except:\n",
    "            pass\n",
    "        \n",
    "        sjoin1 = (gpd.sjoin(\n",
    "        local_roads_buffered,\n",
    "        shapes_filtered,\n",
    "        how = \"inner\",\n",
    "        predicate = \"intersects\")\n",
    "                  [['linearid']]\n",
    "                  .drop_duplicates()\n",
    "                  .reset_index(drop=True)\n",
    "                 )\n",
    "        \n",
    "        sjoin_full_results = pd.concat([sjoin_full_results, sjoin1], axis=0)\n",
    "    \n",
    "    sjoin_full_results = sjoin_full_results.drop_duplicates()\n",
    "    sjoin_full_results.to_parquet(f'{SHARED_GCS}local_roads_gtfs_shapes.parquet')\n",
    "    \n",
    "    # Merge back to original local roads -> a GDF\n",
    "    merge1 = pd.merge(\n",
    "        local_roads_og,\n",
    "        sjoin_full_results,\n",
    "        on = \"linearid\",\n",
    "        how = \"inner\")\n",
    "    \n",
    "    \n",
    "    # Fill in null values for fullname\n",
    "    merge1.fullname = merge1.fullname.fillna('None') \n",
    "    \n",
    "    # Save\n",
    "    merge1.to_parquet(f'{SHARED_GCS}local_roads_gtfs_shapes_sjoin.parquet')\n",
    "    print('Done with sjoin local roads')\n",
    "\n",
    "    segments = geography_utils.cut_segments(\n",
    "        merge1,\n",
    "        [\"linearid\", \"fullname\"],\n",
    "        1_000 # 1 km segments\n",
    "    )\n",
    "    \n",
    "    segments.to_parquet(f'{SHARED_GCS}segmented_local_roads_gtfs_shapes.parquet')\n",
    "    end = datetime.datetime.now()\n",
    "    print(f\"time lapsed for cutting local roads: {end-start}\")\n",
    "    return segments"
   ]
  },
  {
   "cell_type": "markdown",
   "id": "76fc064d-991c-4bd1-aa7d-8cf36dac1630",
   "metadata": {},
   "source": [
    "### Concat local roads and primary/secondary ones"
   ]
  },
  {
   "cell_type": "code",
   "execution_count": null,
   "id": "4566492f-36b9-44a5-90bb-5117ebaff339",
   "metadata": {},
   "outputs": [],
   "source": [
    "def gtfs_shapes_all_roads(date):\n",
    "    \n",
    "    start = datetime.datetime.now()\n",
    "    print(start)\n",
    "    \n",
    "    # Find all primary and secondary roads\n",
    "    # regardless of intersection\n",
    "    primary_secondary_mtfcc = ['S1100','S1200']\n",
    "    primary_secondary_roads = load_roads(primary_secondary_mtfcc)\n",
    "    \n",
    "    # Find local roads that intersect  with GTFS shapes\n",
    "    local_roads_gdf = join_local_roads(date)\n",
    "    \n",
    "    # Concat \n",
    "    all_roads = pd.concat([primary_secondary_roads, local_roads_gdf], axis=0)\n",
    "    \n",
    "    # Save\n",
    "    all_roads.to_parquet(f'{SHARED_GCS}intersected_local_all_primary_sec_roads.parquet')\n",
    "    \n",
    "    \"\"\"\n",
    "    # Find segments\n",
    "    segments = geography_utils.cut_segments(\n",
    "        all_roads,\n",
    "        [\"linearid\", \"fullname\"],\n",
    "        1_000 # 1 km segments\n",
    "    )\n",
    "    \n",
    "    segments.to_parquet(f\"{SHARED_GCS}census_road_segments.parquet\")\n",
    "    \"\"\"\n",
    "    end = datetime.datetime.now()\n",
    "    print(f\"time lapsed: {end-start}\")\n",
    "    return all_roads"
   ]
  },
  {
   "cell_type": "code",
   "execution_count": null,
   "id": "89d85183-516f-4b88-a6c7-5da78281fc48",
   "metadata": {},
   "outputs": [],
   "source": [
    "def cut_primary_secondary_roads():\n",
    "    start = datetime.datetime.now()\n",
    "    print(start)\n",
    "    \n",
    "    # Find all primary and secondary roads\n",
    "    # regardless of intersection w/ GTFS shapes\n",
    "    primary_secondary_mtfcc = ['S1100','S1200']\n",
    "    primary_secondary_roads = load_roads(primary_secondary_mtfcc)\n",
    "    \n",
    "    segments = geography_utils.cut_segments(\n",
    "        primary_secondary_roads,\n",
    "        [\"linearid\", \"fullname\"],\n",
    "        1_000 # 1 km segments\n",
    "    )\n",
    "    \n",
    "    segments.to_parquet(f\"{SHARED_GCS}segmented_primary_secondary_roads.parquet\")\n",
    "    \n",
    "    end = datetime.datetime.now()\n",
    "    print(f\"time lapsed for cutting primary & secondary roads: {end-start}\")\n",
    "    return segments\n",
    "    "
   ]
  },
  {
   "cell_type": "code",
   "execution_count": null,
   "id": "c0ff123b-81fa-44b3-825d-ea9b8b68625d",
   "metadata": {},
   "outputs": [],
   "source": [
    "def cut_all_roads(date):\n",
    "    start = datetime.datetime.now()\n",
    "    \n",
    "    # Segment primary and secondary roads\n",
    "    segmented_primary_secondary_rds = cut_primary_secondary_roads()\n",
    "    \n",
    "    # Find local roads that intersect  with GTFS shapes, then\n",
    "    # segment them\n",
    "    local_roads_gdf = cut_local_roads(date)\n",
    "    \n",
    "    # Concat \n",
    "    all_roads = pd.concat([segmented_primary_secondary_rds, segmented_local_rds], axis=0)\n",
    "    all_roads.to_parquet(f\"{SHARED_GCS}segmented_all_roads.parquet\")\n",
    "    \n",
    "    end = datetime.datetime.now()\n",
    "    print(f\"time lapsed: {end-start}\")"
   ]
  },
  {
   "cell_type": "code",
   "execution_count": null,
   "id": "3482f156-a50b-4eb9-8a3e-130e9fe2b7c1",
   "metadata": {},
   "outputs": [],
   "source": [
    "test_all_roads = cut_all_roads(analysis_date)"
   ]
  },
  {
   "cell_type": "markdown",
   "id": "791d8a17-f512-4a82-b465-b0f4ef2cdbbc",
   "metadata": {},
   "source": [
    "### Draft"
   ]
  },
  {
   "cell_type": "code",
   "execution_count": null,
   "id": "a7dad6db-fb7c-4b67-b783-fd7a2714365f",
   "metadata": {},
   "outputs": [],
   "source": [
    "\"\"\"\n",
    "def join_primary_secondary(gtfs_shape_gdf):\n",
    "    \n",
    "    # Load secondary-primary roads\n",
    "    primary_secondary_mtfcc = ['S1100','S1200']\n",
    "    primary_secondary_roads = load_roads(primary_secondary_mtfcc)\n",
    "    \n",
    "    sjoin1 = gpd.sjoin(\n",
    "        primary_secondary_roads,\n",
    "        gtfs_shape_gdf,\n",
    "        how = \"inner\",\n",
    "        predicate = \"intersects\"\n",
    "    ).drop_duplicates().reset_index(drop=True)\n",
    "    \n",
    "    # Save to GCS\n",
    "    sjoin1.to_parquet(f'{SHARED_GCS}primary_secondary_roads_gtfs_shapes.parquet')\n",
    "    print('Done with primary and secondary roads')\n",
    "    return sjoin1\n",
    "    \"\"\""
   ]
  }
 ],
 "metadata": {
  "kernelspec": {
   "display_name": "Python 3 (ipykernel)",
   "language": "python",
   "name": "python3"
  },
  "language_info": {
   "codemirror_mode": {
    "name": "ipython",
    "version": 3
   },
   "file_extension": ".py",
   "mimetype": "text/x-python",
   "name": "python",
   "nbconvert_exporter": "python",
   "pygments_lexer": "ipython3",
   "version": "3.9.13"
  }
 },
 "nbformat": 4,
 "nbformat_minor": 5
}
