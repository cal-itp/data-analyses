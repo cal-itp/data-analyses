{
 "cells": [
  {
   "cell_type": "code",
   "execution_count": 1,
   "id": "ec2db834-e355-4f8e-9427-46e666de3181",
   "metadata": {},
   "outputs": [
    {
     "name": "stderr",
     "output_type": "stream",
     "text": [
      "/opt/conda/lib/python3.9/site-packages/geopandas/_compat.py:123: UserWarning: The Shapely GEOS version (3.11.1-CAPI-1.17.1) is incompatible with the GEOS version PyGEOS was compiled with (3.10.1-CAPI-1.16.0). Conversions between both will be slow.\n",
      "  warnings.warn(\n",
      "/opt/conda/lib/python3.9/site-packages/dask_geopandas/backends.py:13: UserWarning: Shapely 2.0 is installed, but because PyGEOS is also installed, GeoPandas will still use PyGEOS by default for now. To force to use and test Shapely 2.0, you have to set the environment variable USE_PYGEOS=0. You can do this before starting the Python process, or in your code before importing geopandas:\n",
      "\n",
      "import os\n",
      "os.environ['USE_PYGEOS'] = '0'\n",
      "import geopandas\n",
      "\n",
      "In a future release, GeoPandas will switch to using Shapely by default. If you are using PyGEOS directly (calling PyGEOS functions on geometries from GeoPandas), this will then stop working and you are encouraged to migrate from PyGEOS to Shapely 2.0 (https://shapely.readthedocs.io/en/latest/migration_pygeos.html).\n",
      "  import geopandas\n"
     ]
    }
   ],
   "source": [
    "import dask.dataframe as dd\n",
    "import dask_geopandas as dg\n",
    "import datetime\n",
    "import geopandas as gpd\n",
    "import pandas as pd\n",
    "\n",
    "from shared_utils import dask_utils, utils\n",
    "from segment_speed_utils import helpers, sched_rt_utils\n",
    "from segment_speed_utils.project_vars import (SEGMENT_GCS, \n",
    "                                              CONFIG_PATH, analysis_date)"
   ]
  },
  {
   "cell_type": "code",
   "execution_count": 2,
   "id": "8123380a-aeee-484e-b357-70094a96c3f9",
   "metadata": {},
   "outputs": [],
   "source": [
    "STOP_SEG_DICT = helpers.get_parameters(CONFIG_PATH, \"stop_segments\")"
   ]
  },
  {
   "cell_type": "code",
   "execution_count": 3,
   "id": "eebe7998-3887-4b6d-aa60-51c7af156095",
   "metadata": {},
   "outputs": [],
   "source": [
    "dict_inputs = STOP_SEG_DICT\n",
    "\n",
    "INPUT_FILE_PREFIX = dict_inputs[\"stage2\"]\n",
    "SEGMENT_IDENTIFIER_COLS = dict_inputs[\"segment_identifier_cols\"]\n",
    "GROUPING_COL = dict_inputs[\"grouping_col\"]\n",
    "TIMESTAMP_COL = dict_inputs[\"timestamp_col\"]\n",
    "EXPORT_FILE = dict_inputs[\"stage3\"]"
   ]
  },
  {
   "cell_type": "code",
   "execution_count": 4,
   "id": "e290d2a5-7c46-4c3f-9577-113c000d4ddc",
   "metadata": {},
   "outputs": [],
   "source": [
    "shape_cases = pd.read_parquet(\n",
    "    f\"{SEGMENT_GCS}stops_projected_{analysis_date}/\",\n",
    "    filters = [[(\"loop_or_inlining\", \"==\", 1)]],\n",
    "    columns = [\"shape_array_key\"]\n",
    ").shape_array_key.unique().tolist()\n",
    "    "
   ]
  },
  {
   "cell_type": "code",
   "execution_count": 5,
   "id": "88c92b91-59f6-42d7-82b9-7ded8eef0fd3",
   "metadata": {},
   "outputs": [],
   "source": [
    "test_shapes = shape_cases[:2]"
   ]
  },
  {
   "cell_type": "code",
   "execution_count": 6,
   "id": "234612e6-9f17-4e7e-80fa-4cf1ae803a09",
   "metadata": {},
   "outputs": [],
   "source": [
    "# https://docs.dask.org/en/stable/delayed-collections.html\n",
    "vp_joined_to_segments = helpers.import_vehicle_positions(\n",
    "    f\"{SEGMENT_GCS}vp_sjoin/\",\n",
    "    f\"{INPUT_FILE_PREFIX}_{analysis_date}\",\n",
    "    file_type = \"df\",\n",
    "    filters = [[(\"shape_array_key\", \"in\", test_shapes)]],\n",
    "    partitioned=True\n",
    ")"
   ]
  },
  {
   "cell_type": "code",
   "execution_count": 8,
   "id": "0e5e2b62-fc82-4cef-91a2-35db31ccac94",
   "metadata": {},
   "outputs": [],
   "source": [
    "df = vp_joined_to_segments.compute()"
   ]
  },
  {
   "cell_type": "code",
   "execution_count": 17,
   "id": "10c63938-a580-41f4-8888-44f6488ad492",
   "metadata": {},
   "outputs": [],
   "source": [
    "mean_time = (df.groupby([\"shape_array_key\", \"stop_sequence\", \n",
    "                         \"trip_id\"])\n",
    "             .agg({\"location_timestamp_local\": \"mean\"})\n",
    "             .reset_index()\n",
    "             .rename(columns = {\"location_timestamp_local\": \"mean_time\"})\n",
    "            )"
   ]
  },
  {
   "cell_type": "code",
   "execution_count": 18,
   "id": "e1d2b6e8-f319-4e4b-8cb7-ef970087a462",
   "metadata": {},
   "outputs": [],
   "source": [
    "df2 = pd.merge(\n",
    "    df,\n",
    "    mean_time,\n",
    "    on = [\"shape_array_key\", \"stop_sequence\", \"trip_id\"],\n",
    ")"
   ]
  },
  {
   "cell_type": "code",
   "execution_count": 20,
   "id": "cc55a608-0231-469d-aeaa-f336e29fab76",
   "metadata": {},
   "outputs": [],
   "source": [
    "df2 = df2.assign(\n",
    "    group = df2.apply(\n",
    "        lambda x: 0 if x.location_timestamp_local <= x.mean_time \n",
    "        else 1, axis=1)\n",
    ")"
   ]
  },
  {
   "cell_type": "code",
   "execution_count": 23,
   "id": "5083e5b3-89c0-46ba-a39e-6364c8fa79c3",
   "metadata": {},
   "outputs": [],
   "source": [
    "one_trip = df2.trip_id.unique().tolist()[10]"
   ]
  },
  {
   "cell_type": "code",
   "execution_count": 27,
   "id": "a413c562",
   "metadata": {},
   "outputs": [
    {
     "data": {
      "text/html": [
       "<div>\n",
       "<style scoped>\n",
       "    .dataframe tbody tr th:only-of-type {\n",
       "        vertical-align: middle;\n",
       "    }\n",
       "\n",
       "    .dataframe tbody tr th {\n",
       "        vertical-align: top;\n",
       "    }\n",
       "\n",
       "    .dataframe thead th {\n",
       "        text-align: right;\n",
       "    }\n",
       "</style>\n",
       "<table border=\"1\" class=\"dataframe\">\n",
       "  <thead>\n",
       "    <tr style=\"text-align: right;\">\n",
       "      <th></th>\n",
       "      <th>stop_sequence</th>\n",
       "      <th>location_timestamp_local</th>\n",
       "      <th>mean_time</th>\n",
       "      <th>group</th>\n",
       "    </tr>\n",
       "  </thead>\n",
       "  <tbody>\n",
       "    <tr>\n",
       "      <th>130</th>\n",
       "      <td>1723</td>\n",
       "      <td>2023-03-15 07:30:21</td>\n",
       "      <td>2023-03-15 07:53:42.142857216</td>\n",
       "      <td>0</td>\n",
       "    </tr>\n",
       "    <tr>\n",
       "      <th>131</th>\n",
       "      <td>1723</td>\n",
       "      <td>2023-03-15 08:19:24</td>\n",
       "      <td>2023-03-15 07:53:42.142857216</td>\n",
       "      <td>1</td>\n",
       "    </tr>\n",
       "    <tr>\n",
       "      <th>132</th>\n",
       "      <td>1723</td>\n",
       "      <td>2023-03-15 07:31:06</td>\n",
       "      <td>2023-03-15 07:53:42.142857216</td>\n",
       "      <td>0</td>\n",
       "    </tr>\n",
       "    <tr>\n",
       "      <th>133</th>\n",
       "      <td>1723</td>\n",
       "      <td>2023-03-15 08:18:49</td>\n",
       "      <td>2023-03-15 07:53:42.142857216</td>\n",
       "      <td>1</td>\n",
       "    </tr>\n",
       "    <tr>\n",
       "      <th>134</th>\n",
       "      <td>1723</td>\n",
       "      <td>2023-03-15 07:46:14</td>\n",
       "      <td>2023-03-15 07:53:42.142857216</td>\n",
       "      <td>0</td>\n",
       "    </tr>\n",
       "    <tr>\n",
       "      <th>...</th>\n",
       "      <td>...</td>\n",
       "      <td>...</td>\n",
       "      <td>...</td>\n",
       "      <td>...</td>\n",
       "    </tr>\n",
       "    <tr>\n",
       "      <th>7602</th>\n",
       "      <td>588</td>\n",
       "      <td>2023-03-15 07:59:12</td>\n",
       "      <td>2023-03-15 07:59:28.333333248</td>\n",
       "      <td>0</td>\n",
       "    </tr>\n",
       "    <tr>\n",
       "      <th>7734</th>\n",
       "      <td>816</td>\n",
       "      <td>2023-03-15 08:03:00</td>\n",
       "      <td>2023-03-15 08:03:00.000000000</td>\n",
       "      <td>0</td>\n",
       "    </tr>\n",
       "    <tr>\n",
       "      <th>7824</th>\n",
       "      <td>379</td>\n",
       "      <td>2023-03-15 07:56:47</td>\n",
       "      <td>2023-03-15 07:56:46.333333504</td>\n",
       "      <td>1</td>\n",
       "    </tr>\n",
       "    <tr>\n",
       "      <th>7825</th>\n",
       "      <td>379</td>\n",
       "      <td>2023-03-15 07:56:32</td>\n",
       "      <td>2023-03-15 07:56:46.333333504</td>\n",
       "      <td>0</td>\n",
       "    </tr>\n",
       "    <tr>\n",
       "      <th>7826</th>\n",
       "      <td>379</td>\n",
       "      <td>2023-03-15 07:57:00</td>\n",
       "      <td>2023-03-15 07:56:46.333333504</td>\n",
       "      <td>1</td>\n",
       "    </tr>\n",
       "  </tbody>\n",
       "</table>\n",
       "<p>196 rows × 4 columns</p>\n",
       "</div>"
      ],
      "text/plain": [
       "      stop_sequence location_timestamp_local                     mean_time  \\\n",
       "130            1723      2023-03-15 07:30:21 2023-03-15 07:53:42.142857216   \n",
       "131            1723      2023-03-15 08:19:24 2023-03-15 07:53:42.142857216   \n",
       "132            1723      2023-03-15 07:31:06 2023-03-15 07:53:42.142857216   \n",
       "133            1723      2023-03-15 08:18:49 2023-03-15 07:53:42.142857216   \n",
       "134            1723      2023-03-15 07:46:14 2023-03-15 07:53:42.142857216   \n",
       "...             ...                      ...                           ...   \n",
       "7602            588      2023-03-15 07:59:12 2023-03-15 07:59:28.333333248   \n",
       "7734            816      2023-03-15 08:03:00 2023-03-15 08:03:00.000000000   \n",
       "7824            379      2023-03-15 07:56:47 2023-03-15 07:56:46.333333504   \n",
       "7825            379      2023-03-15 07:56:32 2023-03-15 07:56:46.333333504   \n",
       "7826            379      2023-03-15 07:57:00 2023-03-15 07:56:46.333333504   \n",
       "\n",
       "      group  \n",
       "130       0  \n",
       "131       1  \n",
       "132       0  \n",
       "133       1  \n",
       "134       0  \n",
       "...     ...  \n",
       "7602      0  \n",
       "7734      0  \n",
       "7824      1  \n",
       "7825      0  \n",
       "7826      1  \n",
       "\n",
       "[196 rows x 4 columns]"
      ]
     },
     "execution_count": 25,
     "metadata": {},
     "output_type": "execute_result"
    }
   ],
   "source": [
    "df2[df2.trip_id==one_trip][[\"stop_sequence\", \n",
    "                            \"location_timestamp_local\", \n",
    "                            \"mean_time\", \"group\"]\n",
    "                          ].sort_values(\"location_timestamp_local\")"
   ]
  },
  {
   "cell_type": "code",
   "execution_count": null,
   "id": "cb679872-ee78-4791-8659-7ecd81a89a0e",
   "metadata": {},
   "outputs": [],
   "source": [
    "stop_segments = gpd.read_parquet(\n",
    "    f\"{SEGMENT_GCS}stop_segments_{analysis_date}.parquet\",\n",
    "    filters = [[(\"shape_array_key\", \"==\", one_shape)]]\n",
    ")"
   ]
  },
  {
   "cell_type": "code",
   "execution_count": null,
   "id": "1f8a06f6-2ec5-4092-99a7-7c50eb205a34",
   "metadata": {},
   "outputs": [],
   "source": [
    "one_shape = \"085811097c87489feebe8206770b3cd7\"\n",
    "stop_seq = 600\n",
    "one_trip = \"t14A-b1B59-sl4\""
   ]
  },
  {
   "cell_type": "code",
   "execution_count": null,
   "id": "2c5978fc-db8b-4fcc-b91d-34b4a933557d",
   "metadata": {},
   "outputs": [],
   "source": [
    "stop_segments[stop_segments.stop_sequence < 3600].explore(\"stop_sequence\", \n",
    "                    tiles=\"CartoDB Positron\", categorical=True)"
   ]
  },
  {
   "cell_type": "code",
   "execution_count": null,
   "id": "292c12d6-194c-4800-801f-a49a2d8f27d6",
   "metadata": {},
   "outputs": [],
   "source": [
    "df = vp_joined_to_segments_special[\n",
    "    (vp_joined_to_segments_special.shape_array_key==one_shape) & \n",
    "    (vp_joined_to_segments_special.stop_sequence==stop_seq) & \n",
    "    (vp_joined_to_segments_special.trip_id==one_trip)\n",
    "]"
   ]
  },
  {
   "cell_type": "code",
   "execution_count": null,
   "id": "34b7a920-473b-4ff1-a31a-6270028f099a",
   "metadata": {},
   "outputs": [],
   "source": [
    "df[[\"trip_id\", \"location_timestamp_local\"]].sort_values(\"location_timestamp_local\")"
   ]
  },
  {
   "cell_type": "code",
   "execution_count": null,
   "id": "58ec36b3-35f6-44db-b8bd-08fbb42bd7b2",
   "metadata": {},
   "outputs": [],
   "source": []
  }
 ],
 "metadata": {
  "kernelspec": {
   "display_name": "Python 3 (ipykernel)",
   "language": "python",
   "name": "python3"
  },
  "language_info": {
   "codemirror_mode": {
    "name": "ipython",
    "version": 3
   },
   "file_extension": ".py",
   "mimetype": "text/x-python",
   "name": "python",
   "nbconvert_exporter": "python",
   "pygments_lexer": "ipython3",
   "version": "3.9.13"
  }
 },
 "nbformat": 4,
 "nbformat_minor": 5
}
