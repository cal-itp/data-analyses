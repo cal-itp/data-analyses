{
 "cells": [
  {
   "cell_type": "markdown",
   "id": "8f0f779b-50a4-4fa6-9fe9-9632c161316a",
   "metadata": {},
   "source": [
    "# Average speeds across entire trip"
   ]
  },
  {
   "cell_type": "code",
   "execution_count": 1,
   "id": "52c8d239-4897-42e0-80e0-2352d4b0a79b",
   "metadata": {},
   "outputs": [],
   "source": [
    "import os\n",
    "os.environ['USE_PYGEOS'] = '0'\n",
    "\n",
    "import dask.dataframe as dd\n",
    "import pandas as pd\n",
    "\n",
    "from segment_speed_utils import helpers, sched_rt_utils\n",
    "from segment_speed_utils.project_vars import (analysis_date, SEGMENT_GCS, \n",
    "                                              CONFIG_PATH, PROJECT_CRS)"
   ]
  },
  {
   "cell_type": "code",
   "execution_count": 2,
   "id": "dd4e62b5-2f98-4428-b109-b97dccae5f31",
   "metadata": {},
   "outputs": [
    {
     "data": {
      "text/plain": [
       "'vp_stop_segment_2023-05-17'"
      ]
     },
     "execution_count": 2,
     "metadata": {},
     "output_type": "execute_result"
    }
   ],
   "source": [
    "STOP_SEG_DICT = helpers.get_parameters(CONFIG_PATH, \"stop_segments\")\n",
    "\n",
    "INPUT_FILE = f'{STOP_SEG_DICT[\"stage2\"]}_{analysis_date}'\n",
    "INPUT_FILE"
   ]
  },
  {
   "cell_type": "code",
   "execution_count": 3,
   "id": "6ca60770-45c1-4aab-b0e9-8b1830d9250e",
   "metadata": {},
   "outputs": [],
   "source": [
    "#test_key = \"00accf770009aafd5dc103ff2eeddb37\"\n",
    "#test_trip = \"t_1995375_b_33395_tn_0\""
   ]
  },
  {
   "cell_type": "code",
   "execution_count": 10,
   "id": "a71d943a-6391-4aba-bc05-0abc8763b8a4",
   "metadata": {},
   "outputs": [],
   "source": [
    "ddf = dd.read_parquet(\n",
    "    f\"{SEGMENT_GCS}vp_sjoin/{INPUT_FILE}\", \n",
    ")"
   ]
  },
  {
   "cell_type": "code",
   "execution_count": 12,
   "id": "b9c971bb-cdbb-45bb-9c2a-1053f4bcecf4",
   "metadata": {},
   "outputs": [
    {
     "data": {
      "text/plain": [
       "27188771"
      ]
     },
     "execution_count": 12,
     "metadata": {},
     "output_type": "execute_result"
    }
   ],
   "source": [
    "len(ddf.index)"
   ]
  },
  {
   "cell_type": "code",
   "execution_count": null,
   "id": "e3defe7e-2f37-4b9e-b149-200433924255",
   "metadata": {},
   "outputs": [],
   "source": [
    "operators = dd.read_parquet(\n",
    "    f\"{SEGMENT_GCS}{INPUT_FILE}\", \n",
    "    columns = [\"gtfs_dataset_key\"]\n",
    ").gtfs_dataset_key.unique().compute().tolist()"
   ]
  },
  {
   "cell_type": "code",
   "execution_count": null,
   "id": "87843b73-9963-4ad6-8239-af991b2fdb47",
   "metadata": {},
   "outputs": [],
   "source": [
    "subset_operators = operators[:2]\n",
    "subset_operators"
   ]
  },
  {
   "cell_type": "code",
   "execution_count": null,
   "id": "02d6ccf0-5f72-4502-a0a0-43da58b088e1",
   "metadata": {},
   "outputs": [],
   "source": [
    "ddf = dd.read_parquet(\n",
    "    f\"{SEGMENT_GCS}{INPUT_FILE}\", \n",
    "    filters = [[(\"gtfs_dataset_key\", \"in\", subset_operators)]],\n",
    "    columns = [\"vp_idx\"]\n",
    ")"
   ]
  },
  {
   "cell_type": "code",
   "execution_count": null,
   "id": "bc95f22a-549e-4176-9ff5-4d2f0dbaac0d",
   "metadata": {},
   "outputs": [],
   "source": [
    "trip_cols = [\"gtfs_dataset_key\", \"trip_id\"]\n",
    "hour_min_cols = [\"hour\", \"minute\"]"
   ]
  },
  {
   "cell_type": "markdown",
   "id": "5cb85263-ca3c-49ac-acc8-2b03bb173a9b",
   "metadata": {},
   "source": [
    "## Pings per minute for service hours"
   ]
  },
  {
   "cell_type": "code",
   "execution_count": null,
   "id": "22f194bd-5713-478e-b7ab-5634a6c86a53",
   "metadata": {},
   "outputs": [],
   "source": [
    "ddf = ddf.repartition(npartitions=5)\n",
    "\n",
    "ddf = ddf.assign(\n",
    "    minute = ddf.location_timestamp_local.dt.minute\n",
    ")"
   ]
  },
  {
   "cell_type": "code",
   "execution_count": null,
   "id": "b26e222c-8c20-43f3-b706-4bf311a7fda8",
   "metadata": {},
   "outputs": [],
   "source": [
    "ddf.dtypes"
   ]
  },
  {
   "cell_type": "code",
   "execution_count": null,
   "id": "de3ab88f-97b3-45d3-95ef-28a907a25d1f",
   "metadata": {},
   "outputs": [],
   "source": [
    "num_vp_pings = (ddf.groupby(trip_cols + hour_min_cols, observed=True)\n",
    "                [\"location_timestamp_local\"]\n",
    "                .count()\n",
    "                .dropna()\n",
    "                .reset_index()\n",
    "                .rename(columns = {\"location_timestamp_local\": \"num_pings\"})\n",
    "               )"
   ]
  },
  {
   "cell_type": "code",
   "execution_count": null,
   "id": "4938392d-a2ee-473e-91b5-9805b0aceb14",
   "metadata": {},
   "outputs": [],
   "source": [
    "num_vp_pings = num_vp_pings.assign(\n",
    "        atleast2 = num_vp_pings.apply(\n",
    "            lambda x: 1 if x.num_pings >= 2\n",
    "            else 0, axis=1, meta=('atleast2', 'int8'))\n",
    "    )    "
   ]
  },
  {
   "cell_type": "code",
   "execution_count": null,
   "id": "0fcb4ff1-04f6-4870-9e67-4391be2508a3",
   "metadata": {},
   "outputs": [],
   "source": [
    "vp_pings = (num_vp_pings.groupby(trip_cols)\n",
    "            .agg({\n",
    "               \"hour\": \"size\",\n",
    "               \"atleast2\": \"sum\"})\n",
    "            .dropna()\n",
    "            .reset_index()\n",
    "           ).rename(columns = {\n",
    "            \"hour\": \"trip_min_elapsed\"})"
   ]
  },
  {
   "cell_type": "code",
   "execution_count": null,
   "id": "813ec2d3-8cf8-4e44-96bd-405ad65c19a9",
   "metadata": {},
   "outputs": [],
   "source": [
    "vp_pings = vp_pings.persist()"
   ]
  },
  {
   "cell_type": "code",
   "execution_count": null,
   "id": "b427d9db-0c0e-43b9-9b82-464dd923d3e0",
   "metadata": {},
   "outputs": [],
   "source": [
    "vp_pings.compute()"
   ]
  },
  {
   "cell_type": "markdown",
   "id": "b50419c6-7124-4ce7-a6e5-c5dc9e482a52",
   "metadata": {},
   "source": [
    "## Triangulate vp for lengths"
   ]
  },
  {
   "cell_type": "code",
   "execution_count": null,
   "id": "43b64889-0b17-4da1-be83-97d6d790b902",
   "metadata": {},
   "outputs": [],
   "source": [
    "from dask import delayed, compute\n",
    "\n",
    "df_orig = delayed(pd.read_parquet)(\n",
    "    f\"{SEGMENT_GCS}{INPUT_FILE}\", \n",
    "    filters = [[(\"gtfs_dataset_key\", \"in\", subset_operators)]],\n",
    "    columns = [\"gtfs_dataset_key\", \"trip_id\", \"vp_idx\", \n",
    "               \"location_timestamp_local\"]\n",
    ")"
   ]
  },
  {
   "cell_type": "code",
   "execution_count": null,
   "id": "557195bc-4500-4348-8005-2dfd8aa6b308",
   "metadata": {},
   "outputs": [],
   "source": [
    "df_orig2 = df_orig.groupby(trip_cols, observed=True).agg(\n",
    "    {\"vp_idx\": list}).reset_index()"
   ]
  },
  {
   "cell_type": "code",
   "execution_count": null,
   "id": "c418b89d-ae82-432d-9898-0db1377c876b",
   "metadata": {},
   "outputs": [],
   "source": [
    "df_orig3 = compute(df_orig2)[0]"
   ]
  },
  {
   "cell_type": "code",
   "execution_count": null,
   "id": "9fc748d6-3eb7-4bf5-b3af-f7f571d55746",
   "metadata": {},
   "outputs": [],
   "source": [
    "import numpy as np\n",
    "\n",
    "def count_vp_and_get_every_10_min(my_list: list):\n",
    "    vp_idx_arr = np.asarray(my_list)\n",
    "    subset_arr = vp_idx_arr[::30]\n",
    "    \n",
    "    if len(subset_arr) < 2:\n",
    "        subset_arr = vp_idx_arr[:15]\n",
    "    \n",
    "    return list(subset_arr)"
   ]
  },
  {
   "cell_type": "code",
   "execution_count": null,
   "id": "d318e616-d0a1-4c7a-8891-3ae10c115aaa",
   "metadata": {},
   "outputs": [],
   "source": [
    "df_orig3 = df_orig3.assign(\n",
    "    vp_idx2 = df_orig3.apply(lambda x: \n",
    "                             count_vp_and_get_every_10_min(x.vp_idx), \n",
    "                             axis=1)\n",
    ")"
   ]
  },
  {
   "cell_type": "code",
   "execution_count": null,
   "id": "190000d7-31cd-4e1f-a45c-976f5d7fecd0",
   "metadata": {},
   "outputs": [],
   "source": [
    "keep_subset_vp = list(df_orig3.vp_idx2.explode())"
   ]
  },
  {
   "cell_type": "code",
   "execution_count": null,
   "id": "b4e05e50-d6ae-4ea8-b783-dc5aed904fb7",
   "metadata": {},
   "outputs": [],
   "source": [
    "ddf = dd.read_parquet(\n",
    "    f\"{SEGMENT_GCS}{INPUT_FILE}\", \n",
    "    filters = [[(\"gtfs_dataset_key\", \"in\", subset_operators), \n",
    "               (\"vp_idx\", \"in\", keep_subset_vp)]],\n",
    "    columns = [\"gtfs_dataset_key\", \"trip_id\", \n",
    "               \"location_timestamp_local\", \n",
    "               \"x\", \"y\",\n",
    "               \"vp_idx\"]\n",
    ").compute()"
   ]
  },
  {
   "cell_type": "code",
   "execution_count": null,
   "id": "9bc1d4a7-7054-4c23-abcb-4a10b7a10813",
   "metadata": {},
   "outputs": [],
   "source": [
    "trip_grouping_cols = [\"shape_array_key\"]\n",
    "crosswalk = sched_rt_utils.crosswalk_scheduled_trip_grouping_with_rt_key(\n",
    "        analysis_date, \n",
    "        [\"feed_key\", \"trip_id\"] + trip_grouping_cols\n",
    "    )"
   ]
  },
  {
   "cell_type": "code",
   "execution_count": null,
   "id": "476e7cd5-585c-49fe-a09d-de5cd240e31d",
   "metadata": {},
   "outputs": [],
   "source": [
    "vp_with_shape = dd.merge(\n",
    "    ddf,\n",
    "    crosswalk,\n",
    "    on = [\"gtfs_dataset_key\", \"trip_id\"],\n",
    "    how = \"inner\"\n",
    ").drop_duplicates()"
   ]
  },
  {
   "cell_type": "code",
   "execution_count": null,
   "id": "8a20779b-dc37-41d5-9385-444669298c24",
   "metadata": {},
   "outputs": [],
   "source": [
    "subset_shapes = vp_with_shape.shape_array_key.unique().tolist()"
   ]
  },
  {
   "cell_type": "code",
   "execution_count": null,
   "id": "907176ff-d983-4c65-a436-c8ae2d6bcab2",
   "metadata": {},
   "outputs": [],
   "source": [
    "shapes = helpers.import_scheduled_shapes(\n",
    "    analysis_date,\n",
    "    columns = [\"shape_array_key\", \"geometry\"],\n",
    "    filters = [[(\"shape_array_key\", \"in\", subset_shapes)]],\n",
    "    get_pandas = True,\n",
    "    crs = PROJECT_CRS\n",
    ")"
   ]
  },
  {
   "cell_type": "code",
   "execution_count": null,
   "id": "e2b2b2fe-7229-4702-bfd5-632574e2ed69",
   "metadata": {},
   "outputs": [],
   "source": [
    "from segment_speed_utils import wrangle_shapes\n",
    "import dask_geopandas as dg\n",
    "import geopandas as gpd"
   ]
  },
  {
   "cell_type": "code",
   "execution_count": null,
   "id": "d145ebde-bcd5-459e-b156-a18a72d21776",
   "metadata": {},
   "outputs": [],
   "source": [
    "triangulated_vp_with_shape = dd.from_pandas(vp_with_shape, npartitions=1)\n"
   ]
  },
  {
   "cell_type": "code",
   "execution_count": null,
   "id": "c95f62a0-ca9c-4018-b39e-af29a663f612",
   "metadata": {},
   "outputs": [],
   "source": [
    "triangulated_vp_with_shape[\"geometry\"] = dg.points_from_xy(\n",
    "    triangulated_vp_with_shape, \"x\", \"y\")\n",
    "\n",
    "# Refer to the geometry column by name\n",
    "vp_gddf = dg.from_dask_dataframe(\n",
    "    triangulated_vp_with_shape, \n",
    "    geometry=\"geometry\"\n",
    ").set_crs(\"EPSG:4326\").to_crs(PROJECT_CRS)"
   ]
  },
  {
   "cell_type": "code",
   "execution_count": null,
   "id": "32e2b268-85f6-465a-a224-d860e819e470",
   "metadata": {},
   "outputs": [],
   "source": [
    "vp_gddf2 = dd.merge(\n",
    "    vp_gddf,\n",
    "    shapes,\n",
    "    on = \"shape_array_key\",\n",
    "    how = \"inner\"\n",
    ")"
   ]
  },
  {
   "cell_type": "code",
   "execution_count": null,
   "id": "fc8708c6-a26d-46fa-9d4e-7dedf6f9c00e",
   "metadata": {},
   "outputs": [],
   "source": [
    "vp_geoseries = gpd.GeoSeries(vp_gddf2.geometry_x.compute())\n",
    "shape_geoseries = gpd.GeoSeries(vp_gddf2.geometry_y.compute())"
   ]
  },
  {
   "cell_type": "code",
   "execution_count": null,
   "id": "18e2b778-ea55-4445-b72b-7f71dae9e996",
   "metadata": {},
   "outputs": [],
   "source": [
    "vp_geoseries_buff = vp_geoseries.buffer(25)"
   ]
  },
  {
   "cell_type": "code",
   "execution_count": null,
   "id": "df59cdf3-8f87-4a11-b199-4be9f965deb2",
   "metadata": {},
   "outputs": [],
   "source": [
    "intersecting_line = vp_geoseries_buff.intersection(shape_geoseries)"
   ]
  },
  {
   "cell_type": "code",
   "execution_count": null,
   "id": "f53f3d83-e720-4b5f-840f-ae0dd8a19692",
   "metadata": {},
   "outputs": [],
   "source": [
    "gdf = vp_gddf2.compute()\n",
    "gdf[\"area_of_intersection\"] = intersecting_line"
   ]
  },
  {
   "cell_type": "code",
   "execution_count": null,
   "id": "9e6b750c-9a17-4bbc-ae0f-c2b96dcf8f5f",
   "metadata": {},
   "outputs": [],
   "source": [
    "gdf.area_of_intersection.is_empty"
   ]
  },
  {
   "cell_type": "code",
   "execution_count": null,
   "id": "f45902db-7cfb-46ad-83a5-49e4913feeb0",
   "metadata": {},
   "outputs": [],
   "source": [
    "gdf = gdf.set_geometry(\"area_of_intersection\").set_crs(PROJECT_CRS)\n",
    "gdf2 = gdf[~gdf.set_geometry(\"area_of_intersection\").is_empty]"
   ]
  },
  {
   "cell_type": "code",
   "execution_count": null,
   "id": "4ce13dc4-0a89-4879-9077-c4ba486a4540",
   "metadata": {},
   "outputs": [],
   "source": [
    "test_key = \"00accf770009aafd5dc103ff2eeddb37\"\n",
    "test_trip = \"t_1995375_b_33395_tn_0\"\n",
    "gdf2[gdf2.trip_id == \"t_1995375_b_33395_tn_0\"]"
   ]
  },
  {
   "cell_type": "code",
   "execution_count": null,
   "id": "b47fe4b6-67cb-494c-9a40-3c5b129770cf",
   "metadata": {},
   "outputs": [],
   "source": [
    "#points_plot = vp_gddf[\n",
    "#    vp_gddf.trip_id == \"t_1995375_b_33395_tn_0\"].compute()[\n",
    "#    [\"vp_idx\", \"shape_array_key\", \"geometry\"]]\n",
    "\n",
    "\n",
    "points_plot = pd.read_parquet(\n",
    "    f\"{SEGMENT_GCS}{INPUT_FILE}\", \n",
    "    filters = [[(\"gtfs_dataset_key\", \"in\", subset_operators), \n",
    "               (\"trip_id\", \"==\", \"t_1995375_b_33395_tn_0\")]],\n",
    "    columns = [\"gtfs_dataset_key\", \"trip_id\", \n",
    "               #\"location_timestamp_local\", \n",
    "               \"x\", \"y\",\n",
    "               \"vp_idx\"]\n",
    ")#.compute()"
   ]
  },
  {
   "cell_type": "code",
   "execution_count": null,
   "id": "da5a12cb-f869-445a-acb1-d2c03e1100ff",
   "metadata": {},
   "outputs": [],
   "source": [
    "crosswalk[crosswalk.trip_id==\"t_1995375_b_33395_tn_0\"].shape_array_key.iloc[0]"
   ]
  },
  {
   "cell_type": "code",
   "execution_count": null,
   "id": "72a15812-5842-4bdc-8a23-1fc0a559afab",
   "metadata": {},
   "outputs": [],
   "source": [
    "points_plot[\"geometry\"] = gpd.points_from_xy(points_plot.x, points_plot.y, \n",
    "                                             crs=\"EPSG:4326\")"
   ]
  },
  {
   "cell_type": "code",
   "execution_count": null,
   "id": "d71676d3-26c0-4cf1-b15e-19a543918689",
   "metadata": {},
   "outputs": [],
   "source": [
    "points_plot = points_plot.set_geometry(\"geometry\").to_crs(PROJECT_CRS)"
   ]
  },
  {
   "cell_type": "code",
   "execution_count": null,
   "id": "ecdddef6-4d21-4313-9f3f-c79a64c7b147",
   "metadata": {},
   "outputs": [],
   "source": [
    "shape_layer = shapes[shapes.shape_array_key==points_plot.shape_array_key.iloc[0]]"
   ]
  },
  {
   "cell_type": "code",
   "execution_count": null,
   "id": "0867f3d6-1096-4bd7-a011-0fd4b74754dc",
   "metadata": {},
   "outputs": [],
   "source": []
  },
  {
   "cell_type": "code",
   "execution_count": null,
   "id": "dcac6ad5-c750-4b29-8c9a-53ccce331ac6",
   "metadata": {},
   "outputs": [],
   "source": [
    "import folium"
   ]
  },
  {
   "cell_type": "code",
   "execution_count": null,
   "id": "6b8b22be-e7e0-4697-be08-da5e746cb817",
   "metadata": {},
   "outputs": [],
   "source": [
    "m = points_plot.explore(\"vp_idx\", tiles = \"CartoDB Positron\", )\n",
    "m = shape_layer.explore(m=m, color=\"red\", name=\"shape\")\n",
    "folium.LayerControl().add_to(m)\n",
    "m"
   ]
  },
  {
   "cell_type": "code",
   "execution_count": null,
   "id": "0c63f7ef-eab6-4b18-b9d1-bca91668928f",
   "metadata": {},
   "outputs": [],
   "source": [
    "sample2 = pd.merge(\n",
    "    sample,\n",
    "    shapes,\n",
    "    on = \"shape_array_key\",\n",
    "    how = \"inner\"\n",
    ")"
   ]
  },
  {
   "cell_type": "code",
   "execution_count": null,
   "id": "7d14c91f-acb8-4660-835d-3fb0d3205c3f",
   "metadata": {},
   "outputs": [],
   "source": [
    "one_shape_geom = sample2.geometry_y.iloc[0]"
   ]
  },
  {
   "cell_type": "code",
   "execution_count": null,
   "id": "5e81ea62-b117-4bcb-95e2-b2fca0bb9092",
   "metadata": {},
   "outputs": [],
   "source": [
    "one_shape_geom.unary_union"
   ]
  },
  {
   "cell_type": "code",
   "execution_count": null,
   "id": "eb071117-51c7-4618-934b-169178d6ac47",
   "metadata": {},
   "outputs": [],
   "source": [
    "import shapely"
   ]
  },
  {
   "cell_type": "code",
   "execution_count": null,
   "id": "c6950997-f62d-4bed-82d1-fbfa51b8026a",
   "metadata": {},
   "outputs": [],
   "source": [
    "sample2 = sample2.assign(\n",
    "    shape_meters = sample2.apply(\n",
    "        lambda x: x.geometry_y.unary_union.project(x.geometry_x), \n",
    "        axis=1)\n",
    ")"
   ]
  },
  {
   "cell_type": "code",
   "execution_count": null,
   "id": "6b5092ed-9fb5-4cf2-a582-b320decf5e47",
   "metadata": {},
   "outputs": [],
   "source": []
  },
  {
   "cell_type": "code",
   "execution_count": null,
   "id": "fd607666-30d5-401e-a5df-3e0638c84631",
   "metadata": {},
   "outputs": [],
   "source": [
    "shapes[shapes.shape_array_key==\"70f010e0dba18191937ed4b5bea42e8a\"].explore(\n",
    "    tiles = \"CartoDB Positron\")"
   ]
  },
  {
   "cell_type": "code",
   "execution_count": null,
   "id": "06e76028-c17d-4d4b-af5b-9c85e9fc09e9",
   "metadata": {},
   "outputs": [],
   "source": [
    "one_shape = shapes[\n",
    "    shapes.shape_array_key==\"70f010e0dba18191937ed4b5bea42e8a\"].geometry.iloc[0]"
   ]
  },
  {
   "cell_type": "code",
   "execution_count": null,
   "id": "23d68c19-d7bb-4ae6-bdf3-6d726da62c20",
   "metadata": {},
   "outputs": [],
   "source": [
    "test = wrangle_shapes.project_list_of_coords(one_shape, [], use_shapely_coords=True)"
   ]
  },
  {
   "cell_type": "code",
   "execution_count": null,
   "id": "f9e10653-d721-4949-afb2-6c52a666e47a",
   "metadata": {},
   "outputs": [],
   "source": [
    "test"
   ]
  },
  {
   "cell_type": "code",
   "execution_count": null,
   "id": "589f1940-3d0a-4a11-bcb9-b4bdc5f8bfa9",
   "metadata": {},
   "outputs": [],
   "source": [
    "df2 = wrangle_shapes.linear_reference_vp_against_segment(\n",
    "    triangulated_vp_with_shape,\n",
    "    shapes,\n",
    "    segment_identifier_cols = [\"shape_array_key\"]\n",
    ")"
   ]
  },
  {
   "cell_type": "code",
   "execution_count": null,
   "id": "45dafce6-68a1-4275-afce-5b0c1be696b4",
   "metadata": {},
   "outputs": [],
   "source": [
    "df2.compute()"
   ]
  },
  {
   "cell_type": "code",
   "execution_count": null,
   "id": "ceba2caa-d364-40ca-bc88-27e22e6930ba",
   "metadata": {},
   "outputs": [],
   "source": []
  }
 ],
 "metadata": {
  "kernelspec": {
   "display_name": "Python 3 (ipykernel)",
   "language": "python",
   "name": "python3"
  },
  "language_info": {
   "codemirror_mode": {
    "name": "ipython",
    "version": 3
   },
   "file_extension": ".py",
   "mimetype": "text/x-python",
   "name": "python",
   "nbconvert_exporter": "python",
   "pygments_lexer": "ipython3",
   "version": "3.9.13"
  }
 },
 "nbformat": 4,
 "nbformat_minor": 5
}
