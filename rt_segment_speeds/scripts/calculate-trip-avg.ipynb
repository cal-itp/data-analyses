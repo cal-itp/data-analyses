{
 "cells": [
  {
   "cell_type": "markdown",
   "id": "8f0f779b-50a4-4fa6-9fe9-9632c161316a",
   "metadata": {},
   "source": [
    "# Average speeds across entire trip"
   ]
  },
  {
   "cell_type": "code",
   "execution_count": 1,
   "id": "52c8d239-4897-42e0-80e0-2352d4b0a79b",
   "metadata": {},
   "outputs": [
    {
     "name": "stderr",
     "output_type": "stream",
     "text": [
      "/opt/conda/lib/python3.9/site-packages/geopandas/_compat.py:123: UserWarning: The Shapely GEOS version (3.11.1-CAPI-1.17.1) is incompatible with the GEOS version PyGEOS was compiled with (3.10.1-CAPI-1.16.0). Conversions between both will be slow.\n",
      "  warnings.warn(\n",
      "/opt/conda/lib/python3.9/site-packages/dask_geopandas/backends.py:13: UserWarning: Shapely 2.0 is installed, but because PyGEOS is also installed, GeoPandas will still use PyGEOS by default for now. To force to use and test Shapely 2.0, you have to set the environment variable USE_PYGEOS=0. You can do this before starting the Python process, or in your code before importing geopandas:\n",
      "\n",
      "import os\n",
      "os.environ['USE_PYGEOS'] = '0'\n",
      "import geopandas\n",
      "\n",
      "In a future release, GeoPandas will switch to using Shapely by default. If you are using PyGEOS directly (calling PyGEOS functions on geometries from GeoPandas), this will then stop working and you are encouraged to migrate from PyGEOS to Shapely 2.0 (https://shapely.readthedocs.io/en/latest/migration_pygeos.html).\n",
      "  import geopandas\n"
     ]
    }
   ],
   "source": [
    "#import os\n",
    "#os.environ['USE_PYGEOS'] = '0'\n",
    "# turning this off makes to_crs really slow\n",
    "\n",
    "import dask.dataframe as dd\n",
    "import dask_geopandas as dg\n",
    "import folium\n",
    "import geopandas as gpd\n",
    "import numpy as np\n",
    "import pandas as pd\n",
    "import shapely\n",
    "\n",
    "from segment_speed_utils import helpers, sched_rt_utils, wrangle_shapes\n",
    "from segment_speed_utils.project_vars import (SEGMENT_GCS,\n",
    "                                              CONFIG_PATH, PROJECT_CRS\n",
    "                                             )\n",
    "analysis_date = \"2023-05-17\""
   ]
  },
  {
   "cell_type": "code",
   "execution_count": 2,
   "id": "5e5d3ceb-f859-4583-b361-e1b51c668a68",
   "metadata": {},
   "outputs": [],
   "source": [
    "df = pd.read_parquet(f\"{SEGMENT_GCS}trip_summary/vp_subset_{analysis_date}.parquet\")"
   ]
  },
  {
   "cell_type": "code",
   "execution_count": 3,
   "id": "7e3f17f1-1883-41c0-aee2-6f560812442a",
   "metadata": {},
   "outputs": [],
   "source": [
    "# in case there are fewer shapes to grab\n",
    "shapes_list = df.shape_array_key.unique().tolist()\n",
    "\n",
    "shapes = helpers.import_scheduled_shapes(\n",
    "    analysis_date,\n",
    "    columns = [\"shape_array_key\",\"geometry\"],\n",
    "    filters = [[(\"shape_array_key\", \"in\", shapes_list)]],\n",
    "    get_pandas = True,\n",
    "    crs = PROJECT_CRS\n",
    ")"
   ]
  },
  {
   "cell_type": "code",
   "execution_count": 4,
   "id": "0122c274-e71c-407e-84c3-743899e9b525",
   "metadata": {},
   "outputs": [
    {
     "name": "stderr",
     "output_type": "stream",
     "text": [
      "/opt/conda/lib/python3.9/site-packages/pygeos/linear.py:87: RuntimeWarning: invalid value encountered in line_locate_point\n"
     ]
    }
   ],
   "source": [
    "linear_ref = wrangle_shapes.linear_reference_vp_against_segment(\n",
    "    df,\n",
    "    shapes,\n",
    "    segment_identifier_cols = [\"shape_array_key\"]\n",
    ").compute()\n",
    "\n",
    "linear_ref.to_parquet(\"test.parquet\")"
   ]
  },
  {
   "cell_type": "code",
   "execution_count": null,
   "id": "0c66c64a-a4b9-454a-9e7e-f6253085c160",
   "metadata": {},
   "outputs": [],
   "source": [
    "linear_ref = pd.read_parquet(\"test.parquet\")"
   ]
  },
  {
   "cell_type": "code",
   "execution_count": 7,
   "id": "f4b557a8-019a-4ea5-b544-2a810515c5ab",
   "metadata": {},
   "outputs": [],
   "source": [
    "def distance_and_seconds_elapsed(\n",
    "    df: pd.DataFrame, \n",
    "    group_cols: list\n",
    ") -> pd.DataFrame:\n",
    "    \"\"\"\n",
    "    If every trip has 3 vp, we want the change in time and distance\n",
    "    between 1st and 2nd, 2nd and 3rd.\n",
    "    Then, sum up the change in time and change by trip.\n",
    "    \"\"\"\n",
    "    dist_col = \"shape_meters\"\n",
    "    time_col = \"location_timestamp_local\"\n",
    "    sort_cols = group_cols + [\"vp_idx\"]\n",
    "    \n",
    "\n",
    "    df = df.assign(\n",
    "        prior_dist = (df.sort_values(sort_cols)\n",
    "                      .groupby(group_cols, \n",
    "                               observed=True, group_keys=False)\n",
    "                      [dist_col]\n",
    "                      .apply(lambda x: x.shift(1))\n",
    "                     ),\n",
    "        prior_time = (df.sort_values(sort_cols)\n",
    "                      .groupby(group_cols, \n",
    "                               observed=True, group_keys=False)\n",
    "                      [time_col]\n",
    "                      .apply(lambda x: x.shift(1))\n",
    "                     )   \n",
    "    )\n",
    "    \n",
    "    df = df.assign(\n",
    "        change_meters = df[dist_col] - df.prior_dist,\n",
    "        change_sec = (df[time_col] - df.prior_time).divide(\n",
    "                       np.timedelta64(1, 's'))\n",
    "    )\n",
    "    \n",
    "    df2 = (df.groupby(group_cols, \n",
    "                     observed=True, group_keys=False)\n",
    "           .agg({\"change_meters\": \"sum\", \n",
    "                 \"change_sec\": \"sum\"})\n",
    "           .reset_index()\n",
    "          )\n",
    "    \n",
    "    df2 = df2.assign(\n",
    "        speed_mph = (df2.change_meters.divide(df2.change_sec) * \n",
    "                     rt_utils.MPH_PER_MPS)\n",
    "    )\n",
    "    \n",
    "    return df2"
   ]
  },
  {
   "cell_type": "code",
   "execution_count": 8,
   "id": "192d6fd1-c8c3-461f-a3fe-1c350fb6096c",
   "metadata": {},
   "outputs": [],
   "source": [
    "from shared_utils import rt_utils\n",
    "\n",
    "speed = distance_and_seconds_elapsed(\n",
    "    linear_ref, \n",
    "    group_cols = [\"gtfs_dataset_key\", \"trip_id\"]\n",
    ")"
   ]
  },
  {
   "cell_type": "code",
   "execution_count": 9,
   "id": "9cdf3484-20d8-499a-a3e4-41f7afae23a3",
   "metadata": {},
   "outputs": [
    {
     "data": {
      "text/plain": [
       "(68556, 5)"
      ]
     },
     "execution_count": 9,
     "metadata": {},
     "output_type": "execute_result"
    }
   ],
   "source": [
    "speed.shape"
   ]
  },
  {
   "cell_type": "code",
   "execution_count": 10,
   "id": "f28f722f-b481-4543-ae5c-f678e69b30a2",
   "metadata": {},
   "outputs": [
    {
     "data": {
      "text/plain": [
       "(20, 5)"
      ]
     },
     "execution_count": 10,
     "metadata": {},
     "output_type": "execute_result"
    }
   ],
   "source": [
    "speed[speed.speed_mph>=70].shape"
   ]
  },
  {
   "cell_type": "code",
   "execution_count": 13,
   "id": "1346a085-dc35-4792-b487-71dd0b559d80",
   "metadata": {},
   "outputs": [
    {
     "data": {
      "text/plain": [
       "(4378, 5)"
      ]
     },
     "execution_count": 13,
     "metadata": {},
     "output_type": "execute_result"
    }
   ],
   "source": [
    "speed[speed.speed_mph<=2].shape"
   ]
  },
  {
   "cell_type": "code",
   "execution_count": null,
   "id": "4420a0f0-c63d-4d24-9e80-919a7fe32744",
   "metadata": {},
   "outputs": [],
   "source": [
    "def aggregate_by_operator_route_time_of_day():"
   ]
  },
  {
   "cell_type": "code",
   "execution_count": null,
   "id": "6ca60770-45c1-4aab-b0e9-8b1830d9250e",
   "metadata": {},
   "outputs": [],
   "source": [
    "#test_key = \"00accf770009aafd5dc103ff2eeddb37\"\n",
    "#test_trip = \"t_1995375_b_33395_tn_0\"\n",
    "test_shape = \"70f010e0dba18191937ed4b5bea42e8a\""
   ]
  },
  {
   "cell_type": "markdown",
   "id": "dd00a9e9-f60a-4cff-9870-b8d93b763a7d",
   "metadata": {},
   "source": [
    "This trip has a lot of vp that end up not being joined to any segment.\n",
    "Including those vp far away from the shape mean that the interpolation results show the same thing, because essentially, all those points fall closest to the one end of the shape, and when taking the difference in `shape_meters`, the difference is zero.\n",
    "\n",
    "This is a compelling reason to add the % of segments touched in the sjoin results. Before, we used time cutoff, because it's easier to implement. '\n",
    "\n",
    "At least for calculating trip average speeds, we do need to touch at least 50% of the segments, or even 70% of segments as recommended in notebook, to only calculate entire trip averages on trips that have enough vp.\n",
    "\n",
    "The con of using % of segments is that it becomes even more crucial that segments are cut correctly. If we miss a segment (which we might, currently), there are vp that are not being joined, and we may throw out too many trips because it fails the % segments threshold.\n",
    "\n",
    "For now, let's take the sjoin results and use a couple points to triangulate the distance. Make an array, and pick points either every 10 min or at least 3 points to calculate distance."
   ]
  },
  {
   "cell_type": "code",
   "execution_count": null,
   "id": "25017d03-f86a-4cc3-a5f6-584e6b647952",
   "metadata": {},
   "outputs": [],
   "source": [
    "ddf = A2.merge_usable_vp_with_sjoin_vpidx(\n",
    "    [test_shape],\n",
    "    USABLE_FILE,\n",
    "    SJOIN_FILE,\n",
    "    SEGMENT_IDENTIFIER_COLS,\n",
    "    GROUPING_COL\n",
    ")"
   ]
  },
  {
   "cell_type": "code",
   "execution_count": null,
   "id": "c9ecb54b-6a8c-4b43-abcd-40d652ac92cd",
   "metadata": {},
   "outputs": [],
   "source": [
    "ddf = ddf.compute()"
   ]
  },
  {
   "cell_type": "code",
   "execution_count": null,
   "id": "f5bc03d7-5ebf-4100-bdc0-250876f1c04e",
   "metadata": {},
   "outputs": [],
   "source": [
    "from shared_utils import geography_utils\n",
    "\n",
    "ddf = geography_utils.create_point_geometry(ddf, \"x\", \"y\")"
   ]
  },
  {
   "cell_type": "code",
   "execution_count": null,
   "id": "f940224a-57e1-4d67-a0d7-8706733aa9fd",
   "metadata": {},
   "outputs": [],
   "source": [
    "crosswalk = sched_rt_utils.crosswalk_scheduled_trip_grouping_with_rt_key(\n",
    "        analysis_date, \n",
    "        [\"feed_key\", \"trip_id\", GROUPING_COL, \"shape_id\"] \n",
    "    )"
   ]
  },
  {
   "cell_type": "code",
   "execution_count": null,
   "id": "50cc7daf-b044-4add-9f4e-85424e7b514c",
   "metadata": {},
   "outputs": [],
   "source": [
    "shapes = helpers.import_scheduled_shapes(\n",
    "    analysis_date,\n",
    "    columns = [\"shape_array_key\", \"geometry\"],\n",
    "    filters = [[(\"shape_array_key\", \"in\", [test_shape])]],\n",
    "    get_pandas = True,\n",
    "    crs = PROJECT_CRS\n",
    ")"
   ]
  },
  {
   "cell_type": "code",
   "execution_count": null,
   "id": "c9ac9777-0fd1-4cb7-90bf-1718a7e75e93",
   "metadata": {},
   "outputs": [],
   "source": [
    "shapes2 = pd.merge(\n",
    "    shapes,\n",
    "    crosswalk,\n",
    "    on = \"shape_array_key\",\n",
    "    how = \"inner\"\n",
    ")"
   ]
  },
  {
   "cell_type": "code",
   "execution_count": null,
   "id": "785628db-70b1-4152-a507-d35cb610f29c",
   "metadata": {},
   "outputs": [],
   "source": [
    "ddf2 = ddf.to_crs(PROJECT_CRS).drop(\n",
    "    columns = [\"location_timestamp\", \"location_timestamp_local\", \n",
    "               \"activity_date\"])"
   ]
  },
  {
   "cell_type": "code",
   "execution_count": null,
   "id": "956f499e-475f-4427-9338-c9c6062d97af",
   "metadata": {},
   "outputs": [],
   "source": [
    "m = ddf2.explore(\"trip_id\", tiles = \"CartoDB Positron\")\n",
    "m = shapes2.explore(m=m, color=\"yellow\", name=\"shape\")\n",
    "folium.LayerControl().add_to(m)\n",
    "m"
   ]
  },
  {
   "cell_type": "markdown",
   "id": "1450a48c-47f8-429a-b92b-b4b73f6893a9",
   "metadata": {},
   "source": [
    "## Triangulate vp based on sjoin results"
   ]
  },
  {
   "cell_type": "code",
   "execution_count": null,
   "id": "2a377e7e-e6c6-489f-b035-f4937622b3a8",
   "metadata": {},
   "outputs": [],
   "source": [
    "def list_of_vp_by_trip(\n",
    "    df: pd.DataFrame, \n",
    "    group_cols: list = [\"gtfs_dataset_key\", \"trip_id\"]\n",
    ") -> pd.DataFrame:\n",
    "\n",
    "    df2 = (df.groupby(trip_cols, observed=True)\n",
    "           .agg({\"vp_idx\": list})\n",
    "           .reset_index()\n",
    "          )\n",
    "    \n",
    "    return df2"
   ]
  },
  {
   "cell_type": "code",
   "execution_count": null,
   "id": "2f294723-e7c9-46aa-bea1-7ea8397b781b",
   "metadata": {},
   "outputs": [],
   "source": []
  },
  {
   "cell_type": "code",
   "execution_count": null,
   "id": "20d94c32-2b9d-448b-bfa4-d4834f923dd4",
   "metadata": {},
   "outputs": [],
   "source": []
  },
  {
   "cell_type": "code",
   "execution_count": null,
   "id": "4f475c8d-caae-4a13-a3ef-a1d7a8943752",
   "metadata": {},
   "outputs": [],
   "source": []
  },
  {
   "cell_type": "code",
   "execution_count": null,
   "id": "e2e2ab41-148b-44e4-976f-1a5c836405ec",
   "metadata": {},
   "outputs": [],
   "source": []
  },
  {
   "cell_type": "code",
   "execution_count": null,
   "id": "2cd529e8-4dca-446b-a540-236e99d6f78d",
   "metadata": {},
   "outputs": [],
   "source": [
    "by_trip_ddfs = [list_of_vp_by_trip(df, trip_cols) for df in subset_vp_ddfs]"
   ]
  },
  {
   "cell_type": "code",
   "execution_count": null,
   "id": "6c59093a-5f29-408b-a460-fcea81d44c0c",
   "metadata": {},
   "outputs": [],
   "source": [
    "one = by_trip_ddfs[0]"
   ]
  },
  {
   "cell_type": "code",
   "execution_count": null,
   "id": "c70056d1-7a0b-4b59-a5c3-d84bc328b4e6",
   "metadata": {},
   "outputs": [],
   "source": [
    "trip_df = compute(one)[0]"
   ]
  },
  {
   "cell_type": "code",
   "execution_count": null,
   "id": "c4df9dfb-5e12-4e16-8078-ed8e8be1c95d",
   "metadata": {},
   "outputs": [],
   "source": [
    "def count_vp_and_get_every_10_min(my_list: list):\n",
    "    vp_idx_arr = np.asarray(my_list)\n",
    "    subset_arr = vp_idx_arr[::30]\n",
    "    \n",
    "    if len(subset_arr) < 3:\n",
    "        subset_arr = vp_idx_arr[:15]\n",
    "    \n",
    "    return list(subset_arr)"
   ]
  },
  {
   "cell_type": "code",
   "execution_count": null,
   "id": "d674a955-b843-4045-9f85-47293aadecaa",
   "metadata": {},
   "outputs": [],
   "source": [
    "trip_df = trip_df.assign(\n",
    "    vp_idx2 = trip_df.apply(\n",
    "        lambda x: \n",
    "        count_vp_and_get_every_10_min(x.vp_idx), \n",
    "        axis=1, meta=('vp_idx2', 'object'))\n",
    ")"
   ]
  },
  {
   "cell_type": "code",
   "execution_count": null,
   "id": "6beb7014-d275-4a7e-92ff-ad94787602c3",
   "metadata": {},
   "outputs": [],
   "source": [
    "keep_subset_vp = trip_df.vp_idx2.explode()"
   ]
  },
  {
   "cell_type": "code",
   "execution_count": null,
   "id": "8bf189ec-f3c5-4e99-8879-531fecca531d",
   "metadata": {},
   "outputs": [],
   "source": [
    "ddf_subset = ddf[ddf.vp_idx.isin(keep_subset_vp)][\n",
    "    [\"gtfs_dataset_key\", \"trip_id\",\n",
    "     \"location_timestamp_local\",\n",
    "     \"x\", \"y\", \"vp_idx\"]]"
   ]
  },
  {
   "cell_type": "code",
   "execution_count": null,
   "id": "747033ce-549a-4dc7-9877-b3c758a6d692",
   "metadata": {},
   "outputs": [],
   "source": [
    "crosswalk = sched_rt_utils.crosswalk_scheduled_trip_grouping_with_rt_key(\n",
    "        analysis_date, \n",
    "        [\"feed_key\", \"trip_id\", GROUPING_COL]\n",
    "    )"
   ]
  },
  {
   "cell_type": "code",
   "execution_count": null,
   "id": "e4ca3a07-1246-41a9-baa9-666e01f6c8dd",
   "metadata": {},
   "outputs": [],
   "source": [
    "subset_vp_shape = delayed(dd.merge)(\n",
    "    ddf_subset,\n",
    "    crosswalk,\n",
    "    on = [\"gtfs_dataset_key\", \"trip_id\"],\n",
    "    how = \"inner\"\n",
    ").drop_duplicates()"
   ]
  },
  {
   "cell_type": "code",
   "execution_count": null,
   "id": "95b33d2c-7991-44af-b087-7720ad90762a",
   "metadata": {},
   "outputs": [],
   "source": [
    "subset_shapes = subset_vp_shape.shape_array_key.unique().persist()"
   ]
  },
  {
   "cell_type": "code",
   "execution_count": null,
   "id": "3034219b-99d2-4f64-bcb4-f6082e32760e",
   "metadata": {},
   "outputs": [],
   "source": [
    "subset_shapes"
   ]
  },
  {
   "cell_type": "code",
   "execution_count": null,
   "id": "2a5214d5-6523-4eeb-800f-dc4088aa7a13",
   "metadata": {},
   "outputs": [],
   "source": [
    "shapes = helpers.import_scheduled_shapes(\n",
    "    analysis_date,\n",
    "    columns = [\"shape_array_key\", \"geometry\"],\n",
    "    filters = [[(\"shape_array_key\", \"in\", subset_shapes)]],\n",
    "    get_pandas = True,\n",
    "    crs = PROJECT_CRS\n",
    ")"
   ]
  },
  {
   "cell_type": "code",
   "execution_count": null,
   "id": "f0c78935-f7ab-4d78-9261-fdacf96e8abe",
   "metadata": {},
   "outputs": [],
   "source": [
    "RT_OPERATORS = subset_vp_shape.gtfs_dataset_key.unique().compute()"
   ]
  },
  {
   "cell_type": "code",
   "execution_count": null,
   "id": "9155289c-35bc-4bdc-bfe6-a67b670309dc",
   "metadata": {},
   "outputs": [],
   "source": [
    "test_operator = RT_OPERATORS[0]"
   ]
  },
  {
   "cell_type": "code",
   "execution_count": null,
   "id": "18b2632f-c9da-4161-9efc-dc7d773cb3c1",
   "metadata": {},
   "outputs": [],
   "source": [
    "subset_vp_operator = subset_vp_shape[\n",
    "    subset_vp_shape.gtfs_dataset_key==test_operator]"
   ]
  },
  {
   "cell_type": "code",
   "execution_count": null,
   "id": "d2c209eb-b7d5-40ac-b208-6be674e59308",
   "metadata": {},
   "outputs": [],
   "source": [
    "linear_ref_operator = delayed(\n",
    "    wrangle_shapes.linear_reference_vp_against_segment)(\n",
    "    subset_vp_operator,\n",
    "    shapes,\n",
    "    segment_identifier_cols = [GROUPING_COL]\n",
    ")"
   ]
  },
  {
   "cell_type": "code",
   "execution_count": null,
   "id": "28593d93-f10e-4b55-8113-2a4b96a0664a",
   "metadata": {},
   "outputs": [],
   "source": [
    "linear_ref = delayed(wrangle_shapes.linear_reference_vp_against_segment)(\n",
    "    subset_vp_shape,\n",
    "    shapes,\n",
    "    segment_identifier_cols = [GROUPING_COL]\n",
    ")"
   ]
  },
  {
   "cell_type": "code",
   "execution_count": null,
   "id": "71530c79-c2cf-4d54-8b14-fdd9d0810c26",
   "metadata": {},
   "outputs": [],
   "source": [
    "linear_ref"
   ]
  },
  {
   "cell_type": "code",
   "execution_count": null,
   "id": "2b1a5e65-92ea-4687-af86-306efc54cd27",
   "metadata": {},
   "outputs": [],
   "source": []
  },
  {
   "cell_type": "code",
   "execution_count": null,
   "id": "9135590c-d7e2-4fc7-876b-88b9e99cf5a5",
   "metadata": {},
   "outputs": [],
   "source": []
  },
  {
   "cell_type": "code",
   "execution_count": null,
   "id": "e3defe7e-2f37-4b9e-b149-200433924255",
   "metadata": {},
   "outputs": [],
   "source": [
    "operators = dd.read_parquet(\n",
    "    f\"{SEGMENT_GCS}{INPUT_FILE}\", \n",
    "    columns = [\"gtfs_dataset_key\"]\n",
    ").gtfs_dataset_key.unique().compute().tolist()"
   ]
  },
  {
   "cell_type": "code",
   "execution_count": null,
   "id": "010db624-33bc-4fe7-8f9f-f957ff183f8a",
   "metadata": {},
   "outputs": [],
   "source": []
  },
  {
   "cell_type": "code",
   "execution_count": null,
   "id": "87843b73-9963-4ad6-8239-af991b2fdb47",
   "metadata": {},
   "outputs": [],
   "source": [
    "subset_operators = operators[:2]\n",
    "subset_operators"
   ]
  },
  {
   "cell_type": "code",
   "execution_count": null,
   "id": "02d6ccf0-5f72-4502-a0a0-43da58b088e1",
   "metadata": {},
   "outputs": [],
   "source": [
    "ddf = dd.read_parquet(\n",
    "    f\"{SEGMENT_GCS}{INPUT_FILE}\", \n",
    "    filters = [[(\"gtfs_dataset_key\", \"in\", subset_operators)]],\n",
    "    columns = [\"vp_idx\"]\n",
    ")"
   ]
  },
  {
   "cell_type": "code",
   "execution_count": null,
   "id": "bc95f22a-549e-4176-9ff5-4d2f0dbaac0d",
   "metadata": {},
   "outputs": [],
   "source": [
    "trip_cols = [\"gtfs_dataset_key\", \"trip_id\"]\n",
    "hour_min_cols = [\"hour\", \"minute\"]"
   ]
  },
  {
   "cell_type": "markdown",
   "id": "5cb85263-ca3c-49ac-acc8-2b03bb173a9b",
   "metadata": {},
   "source": [
    "## Pings per minute for service hours"
   ]
  },
  {
   "cell_type": "code",
   "execution_count": null,
   "id": "22f194bd-5713-478e-b7ab-5634a6c86a53",
   "metadata": {},
   "outputs": [],
   "source": [
    "ddf = ddf.repartition(npartitions=5)\n",
    "\n",
    "ddf = ddf.assign(\n",
    "    minute = ddf.location_timestamp_local.dt.minute\n",
    ")"
   ]
  },
  {
   "cell_type": "code",
   "execution_count": null,
   "id": "b26e222c-8c20-43f3-b706-4bf311a7fda8",
   "metadata": {},
   "outputs": [],
   "source": [
    "ddf.dtypes"
   ]
  },
  {
   "cell_type": "code",
   "execution_count": null,
   "id": "de3ab88f-97b3-45d3-95ef-28a907a25d1f",
   "metadata": {},
   "outputs": [],
   "source": [
    "num_vp_pings = (ddf.groupby(trip_cols + hour_min_cols, observed=True)\n",
    "                [\"location_timestamp_local\"]\n",
    "                .count()\n",
    "                .dropna()\n",
    "                .reset_index()\n",
    "                .rename(columns = {\"location_timestamp_local\": \"num_pings\"})\n",
    "               )"
   ]
  },
  {
   "cell_type": "code",
   "execution_count": null,
   "id": "4938392d-a2ee-473e-91b5-9805b0aceb14",
   "metadata": {},
   "outputs": [],
   "source": [
    "num_vp_pings = num_vp_pings.assign(\n",
    "        atleast2 = num_vp_pings.apply(\n",
    "            lambda x: 1 if x.num_pings >= 2\n",
    "            else 0, axis=1, meta=('atleast2', 'int8'))\n",
    "    )    "
   ]
  },
  {
   "cell_type": "code",
   "execution_count": null,
   "id": "0fcb4ff1-04f6-4870-9e67-4391be2508a3",
   "metadata": {},
   "outputs": [],
   "source": [
    "vp_pings = (num_vp_pings.groupby(trip_cols)\n",
    "            .agg({\n",
    "               \"hour\": \"size\",\n",
    "               \"atleast2\": \"sum\"})\n",
    "            .dropna()\n",
    "            .reset_index()\n",
    "           ).rename(columns = {\n",
    "            \"hour\": \"trip_min_elapsed\"})"
   ]
  },
  {
   "cell_type": "code",
   "execution_count": null,
   "id": "813ec2d3-8cf8-4e44-96bd-405ad65c19a9",
   "metadata": {},
   "outputs": [],
   "source": [
    "vp_pings = vp_pings.persist()"
   ]
  },
  {
   "cell_type": "code",
   "execution_count": null,
   "id": "b427d9db-0c0e-43b9-9b82-464dd923d3e0",
   "metadata": {},
   "outputs": [],
   "source": [
    "vp_pings.compute()"
   ]
  }
 ],
 "metadata": {
  "kernelspec": {
   "display_name": "Python 3 (ipykernel)",
   "language": "python",
   "name": "python3"
  },
  "language_info": {
   "codemirror_mode": {
    "name": "ipython",
    "version": 3
   },
   "file_extension": ".py",
   "mimetype": "text/x-python",
   "name": "python",
   "nbconvert_exporter": "python",
   "pygments_lexer": "ipython3",
   "version": "3.9.13"
  }
 },
 "nbformat": 4,
 "nbformat_minor": 5
}
