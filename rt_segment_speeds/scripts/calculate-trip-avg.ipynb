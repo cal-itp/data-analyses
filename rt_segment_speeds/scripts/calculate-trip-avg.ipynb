{
 "cells": [
  {
   "cell_type": "markdown",
   "id": "8f0f779b-50a4-4fa6-9fe9-9632c161316a",
   "metadata": {},
   "source": [
    "# Average speeds across entire trip"
   ]
  },
  {
   "cell_type": "code",
   "execution_count": 1,
   "id": "52c8d239-4897-42e0-80e0-2352d4b0a79b",
   "metadata": {},
   "outputs": [],
   "source": [
    "import os\n",
    "os.environ['USE_PYGEOS'] = '0'\n",
    "\n",
    "import dask.dataframe as dd\n",
    "import pandas as pd\n",
    "\n",
    "from segment_speed_utils import helpers, sched_rt_utils\n",
    "from segment_speed_utils.project_vars import (analysis_date, SEGMENT_GCS, \n",
    "                                              CONFIG_PATH, PROJECT_CRS)"
   ]
  },
  {
   "cell_type": "code",
   "execution_count": 2,
   "id": "dd4e62b5-2f98-4428-b109-b97dccae5f31",
   "metadata": {},
   "outputs": [
    {
     "data": {
      "text/plain": [
       "'vp_usable_2023-05-17'"
      ]
     },
     "execution_count": 2,
     "metadata": {},
     "output_type": "execute_result"
    }
   ],
   "source": [
    "STOP_SEG_DICT = helpers.get_parameters(CONFIG_PATH, \"stop_segments\")\n",
    "\n",
    "INPUT_FILE = f'{STOP_SEG_DICT[\"stage1\"]}_{analysis_date}'\n",
    "INPUT_FILE"
   ]
  },
  {
   "cell_type": "code",
   "execution_count": 3,
   "id": "e3defe7e-2f37-4b9e-b149-200433924255",
   "metadata": {},
   "outputs": [],
   "source": [
    "operators = dd.read_parquet(\n",
    "    f\"{SEGMENT_GCS}{INPUT_FILE}\", \n",
    "    columns = [\"gtfs_dataset_key\"]\n",
    ").gtfs_dataset_key.unique().compute().tolist()"
   ]
  },
  {
   "cell_type": "code",
   "execution_count": 4,
   "id": "87843b73-9963-4ad6-8239-af991b2fdb47",
   "metadata": {},
   "outputs": [],
   "source": [
    "subset_operators = operators[:2]"
   ]
  },
  {
   "cell_type": "code",
   "execution_count": 5,
   "id": "02d6ccf0-5f72-4502-a0a0-43da58b088e1",
   "metadata": {},
   "outputs": [],
   "source": [
    "ddf = dd.read_parquet(\n",
    "    f\"{SEGMENT_GCS}{INPUT_FILE}\", \n",
    "    filters = [[(\"gtfs_dataset_key\", \"in\", subset_operators)]],\n",
    ")"
   ]
  },
  {
   "cell_type": "code",
   "execution_count": 6,
   "id": "bc95f22a-549e-4176-9ff5-4d2f0dbaac0d",
   "metadata": {},
   "outputs": [],
   "source": [
    "trip_cols = [\"gtfs_dataset_key\", \"trip_id\"]\n",
    "hour_min_cols = [\"hour\", \"minute\"]"
   ]
  },
  {
   "cell_type": "markdown",
   "id": "5cb85263-ca3c-49ac-acc8-2b03bb173a9b",
   "metadata": {},
   "source": [
    "## Pings per minute for service hours"
   ]
  },
  {
   "cell_type": "code",
   "execution_count": null,
   "id": "22f194bd-5713-478e-b7ab-5634a6c86a53",
   "metadata": {},
   "outputs": [],
   "source": [
    "ddf = ddf.repartition(npartitions=5)\n",
    "\n",
    "ddf = ddf.assign(\n",
    "    minute = ddf.location_timestamp_local.dt.minute\n",
    ")"
   ]
  },
  {
   "cell_type": "code",
   "execution_count": null,
   "id": "b26e222c-8c20-43f3-b706-4bf311a7fda8",
   "metadata": {},
   "outputs": [],
   "source": [
    "ddf.dtypes"
   ]
  },
  {
   "cell_type": "code",
   "execution_count": null,
   "id": "de3ab88f-97b3-45d3-95ef-28a907a25d1f",
   "metadata": {},
   "outputs": [],
   "source": [
    "num_vp_pings = (ddf.groupby(trip_cols + hour_min_cols, observed=True)\n",
    "                [\"location_timestamp_local\"]\n",
    "                .count()\n",
    "                .dropna()\n",
    "                .reset_index()\n",
    "                .rename(columns = {\"location_timestamp_local\": \"num_pings\"})\n",
    "               )"
   ]
  },
  {
   "cell_type": "code",
   "execution_count": null,
   "id": "4938392d-a2ee-473e-91b5-9805b0aceb14",
   "metadata": {},
   "outputs": [],
   "source": [
    "num_vp_pings = num_vp_pings.assign(\n",
    "        atleast2 = num_vp_pings.apply(\n",
    "            lambda x: 1 if x.num_pings >= 2\n",
    "            else 0, axis=1, meta=('atleast2', 'int8'))\n",
    "    )    "
   ]
  },
  {
   "cell_type": "code",
   "execution_count": null,
   "id": "0fcb4ff1-04f6-4870-9e67-4391be2508a3",
   "metadata": {},
   "outputs": [],
   "source": [
    "vp_pings = (num_vp_pings.groupby(trip_cols)\n",
    "            .agg({\n",
    "               \"hour\": \"size\",\n",
    "               \"atleast2\": \"sum\"})\n",
    "            .dropna()\n",
    "            .reset_index()\n",
    "           ).rename(columns = {\n",
    "            \"hour\": \"trip_min_elapsed\"})"
   ]
  },
  {
   "cell_type": "code",
   "execution_count": null,
   "id": "813ec2d3-8cf8-4e44-96bd-405ad65c19a9",
   "metadata": {},
   "outputs": [],
   "source": [
    "vp_pings = vp_pings.persist()"
   ]
  },
  {
   "cell_type": "code",
   "execution_count": null,
   "id": "b427d9db-0c0e-43b9-9b82-464dd923d3e0",
   "metadata": {},
   "outputs": [],
   "source": [
    "vp_pings.compute()"
   ]
  },
  {
   "cell_type": "markdown",
   "id": "b50419c6-7124-4ce7-a6e5-c5dc9e482a52",
   "metadata": {},
   "source": [
    "## Triangulate vp for lengths"
   ]
  },
  {
   "cell_type": "code",
   "execution_count": 7,
   "id": "0c98c8c7-72f0-4458-b47a-2b84d13af903",
   "metadata": {},
   "outputs": [],
   "source": [
    "def get_aggregation(ddf: dd.DataFrame, trip_cols: list):\n",
    "    \n",
    "    def remove_extra(df: dd.DataFrame):\n",
    "        return df.dropna().reset_index()\n",
    "    \n",
    "    first_vp = (ddf.groupby(trip_cols, observed=True)\n",
    "                .vp_idx.min()\n",
    "                .pipe(remove_extra)\n",
    "               )\n",
    "    last_vp = (ddf.groupby(trip_cols, observed=True)\n",
    "               .vp_idx.max()\n",
    "               .pipe(remove_extra)\n",
    "              )\n",
    "    middle_vp = (ddf.groupby(trip_cols, observed=True)\n",
    "                 .vp_idx.mean().round(0)\n",
    "                 .pipe(remove_extra)\n",
    "                )\n",
    "    triangulate_vp = dd.multi.concat(\n",
    "        [first_vp, middle_vp, last_vp], axis=0\n",
    "    )\n",
    "    \n",
    "    return triangulate_vp"
   ]
  },
  {
   "cell_type": "code",
   "execution_count": 8,
   "id": "cc9db089-a62e-4913-99fb-bf8f0f0426c8",
   "metadata": {},
   "outputs": [],
   "source": [
    "df = get_aggregation(ddf, trip_cols).compute().astype({\"vp_idx\": \"int\"})"
   ]
  },
  {
   "cell_type": "code",
   "execution_count": 9,
   "id": "c90fe465-266d-47ec-8215-226941ca09b6",
   "metadata": {},
   "outputs": [],
   "source": [
    "triangulated_vp2 = dd.merge(\n",
    "    ddf,\n",
    "    df[[\"vp_idx\"]],\n",
    "    on = \"vp_idx\",\n",
    "    how = \"inner\"\n",
    ")[[\"gtfs_dataset_key\", \"_gtfs_dataset_name\", \n",
    "   \"trip_id\", \"location_timestamp_local\", \n",
    "   \"x\", \"y\", \"vp_idx\"]]"
   ]
  },
  {
   "cell_type": "code",
   "execution_count": 10,
   "id": "9bc1d4a7-7054-4c23-abcb-4a10b7a10813",
   "metadata": {},
   "outputs": [],
   "source": [
    "trip_grouping_cols = [\"shape_array_key\"]\n",
    "crosswalk = sched_rt_utils.crosswalk_scheduled_trip_grouping_with_rt_key(\n",
    "        analysis_date, \n",
    "        [\"feed_key\", \"trip_id\"] + trip_grouping_cols\n",
    "    )"
   ]
  },
  {
   "cell_type": "code",
   "execution_count": 33,
   "id": "476e7cd5-585c-49fe-a09d-de5cd240e31d",
   "metadata": {},
   "outputs": [],
   "source": [
    "triangulated_vp_with_shape = dd.merge(\n",
    "    triangulated_vp2,\n",
    "    crosswalk,\n",
    "    on = [\"gtfs_dataset_key\", \"trip_id\"],\n",
    "    how = \"inner\"\n",
    ").drop_duplicates()"
   ]
  },
  {
   "cell_type": "code",
   "execution_count": 12,
   "id": "8a20779b-dc37-41d5-9385-444669298c24",
   "metadata": {},
   "outputs": [],
   "source": [
    "subset_shapes = triangulated_vp_with_shape.shape_array_key.unique().compute().tolist()"
   ]
  },
  {
   "cell_type": "code",
   "execution_count": 14,
   "id": "907176ff-d983-4c65-a436-c8ae2d6bcab2",
   "metadata": {},
   "outputs": [],
   "source": [
    "shapes = helpers.import_scheduled_shapes(\n",
    "    analysis_date,\n",
    "    columns = [\"shape_array_key\", \"geometry\"],\n",
    "    filters = [[(\"shape_array_key\", \"in\", subset_shapes)]],\n",
    "    get_pandas = True,\n",
    "    crs = PROJECT_CRS\n",
    ")"
   ]
  },
  {
   "cell_type": "code",
   "execution_count": 40,
   "id": "e2b2b2fe-7229-4702-bfd5-632574e2ed69",
   "metadata": {},
   "outputs": [],
   "source": [
    "from segment_speed_utils import wrangle_shapes\n",
    "import dask_geopandas as dg\n",
    "import geopandas as gpd"
   ]
  },
  {
   "cell_type": "code",
   "execution_count": 35,
   "id": "d145ebde-bcd5-459e-b156-a18a72d21776",
   "metadata": {},
   "outputs": [],
   "source": [
    "triangulated_vp_with_shape = triangulated_vp_with_shape.repartition(npartitions=1)"
   ]
  },
  {
   "cell_type": "code",
   "execution_count": 41,
   "id": "c95f62a0-ca9c-4018-b39e-af29a663f612",
   "metadata": {},
   "outputs": [],
   "source": [
    "triangulated_vp_with_shape[\"geometry\"] = dg.points_from_xy(triangulated_vp_with_shape, \"x\", \"y\")\n",
    "\n",
    "# Refer to the geometry column by name\n",
    "vp_gddf = dg.from_dask_dataframe(\n",
    "    triangulated_vp_with_shape, \n",
    "    geometry=\"geometry\"\n",
    ").set_crs(\"EPSG:4326\").to_crs(PROJECT_CRS)"
   ]
  },
  {
   "cell_type": "code",
   "execution_count": 55,
   "id": "32e2b268-85f6-465a-a224-d860e819e470",
   "metadata": {},
   "outputs": [],
   "source": [
    "vp_gddf2 = dd.merge(\n",
    "    vp_gddf,\n",
    "    shapes,\n",
    "    on = \"shape_array_key\",\n",
    "    how = \"inner\"\n",
    ")"
   ]
  },
  {
   "cell_type": "code",
   "execution_count": 59,
   "id": "fc8708c6-a26d-46fa-9d4e-7dedf6f9c00e",
   "metadata": {},
   "outputs": [],
   "source": [
    "vp_geoseries = gpd.GeoSeries(vp_gddf2.geometry_x.compute())\n",
    "shape_geoseries = gpd.GeoSeries(vp_gddf2.geometry_y.compute())"
   ]
  },
  {
   "cell_type": "code",
   "execution_count": 60,
   "id": "b8c57790-c24d-428c-a4e7-2fba8565a03a",
   "metadata": {},
   "outputs": [],
   "source": [
    "shape_meters_geoseries = wrangle_shapes.project_point_geom_onto_linestring(\n",
    "        shape_geoseries,\n",
    "        vp_geoseries,\n",
    "        get_dask_array=True\n",
    "    )\n"
   ]
  },
  {
   "cell_type": "code",
   "execution_count": 61,
   "id": "d4c56e9f-bf64-47cc-9e1d-5458df5b3032",
   "metadata": {},
   "outputs": [],
   "source": [
    "vp_gddf2['shape_meters'] = shape_meters_geoseries\n"
   ]
  },
  {
   "cell_type": "code",
   "execution_count": 65,
   "id": "4ce13dc4-0a89-4879-9077-c4ba486a4540",
   "metadata": {},
   "outputs": [
    {
     "data": {
      "text/html": [
       "<div>\n",
       "<style scoped>\n",
       "    .dataframe tbody tr th:only-of-type {\n",
       "        vertical-align: middle;\n",
       "    }\n",
       "\n",
       "    .dataframe tbody tr th {\n",
       "        vertical-align: top;\n",
       "    }\n",
       "\n",
       "    .dataframe thead th {\n",
       "        text-align: right;\n",
       "    }\n",
       "</style>\n",
       "<table border=\"1\" class=\"dataframe\">\n",
       "  <thead>\n",
       "    <tr style=\"text-align: right;\">\n",
       "      <th></th>\n",
       "      <th>gtfs_dataset_key</th>\n",
       "      <th>_gtfs_dataset_name</th>\n",
       "      <th>trip_id</th>\n",
       "      <th>location_timestamp_local</th>\n",
       "      <th>x</th>\n",
       "      <th>y</th>\n",
       "      <th>vp_idx</th>\n",
       "      <th>feed_key</th>\n",
       "      <th>shape_array_key</th>\n",
       "      <th>geometry_x</th>\n",
       "      <th>geometry_y</th>\n",
       "      <th>shape_meters</th>\n",
       "    </tr>\n",
       "  </thead>\n",
       "  <tbody>\n",
       "    <tr>\n",
       "      <th>0</th>\n",
       "      <td>00accf770009aafd5dc103ff2eeddb37</td>\n",
       "      <td>Bay Area 511 Sonoma County Transit Vehicle Pos...</td>\n",
       "      <td>t_1995375_b_33395_tn_0</td>\n",
       "      <td>2023-05-17 10:58:06</td>\n",
       "      <td>-122.732470</td>\n",
       "      <td>38.459064</td>\n",
       "      <td>0</td>\n",
       "      <td>9c93eedde54ab5f9a25ba51b977358b8</td>\n",
       "      <td>70f010e0dba18191937ed4b5bea42e8a</td>\n",
       "      <td>POINT (-238128.395 52644.088)</td>\n",
       "      <td>LINESTRING (-234388.650 40690.714, -234390.234...</td>\n",
       "      <td>3989.879409</td>\n",
       "    </tr>\n",
       "    <tr>\n",
       "      <th>1</th>\n",
       "      <td>00accf770009aafd5dc103ff2eeddb37</td>\n",
       "      <td>Bay Area 511 Sonoma County Transit Vehicle Pos...</td>\n",
       "      <td>t_1995375_b_33395_tn_0</td>\n",
       "      <td>2023-05-17 11:33:14</td>\n",
       "      <td>-122.724620</td>\n",
       "      <td>38.395050</td>\n",
       "      <td>105</td>\n",
       "      <td>9c93eedde54ab5f9a25ba51b977358b8</td>\n",
       "      <td>70f010e0dba18191937ed4b5bea42e8a</td>\n",
       "      <td>POINT (-237648.944 45511.435)</td>\n",
       "      <td>LINESTRING (-234388.650 40690.714, -234390.234...</td>\n",
       "      <td>3989.879409</td>\n",
       "    </tr>\n",
       "    <tr>\n",
       "      <th>2</th>\n",
       "      <td>00accf770009aafd5dc103ff2eeddb37</td>\n",
       "      <td>Bay Area 511 Sonoma County Transit Vehicle Pos...</td>\n",
       "      <td>t_1995375_b_33395_tn_0</td>\n",
       "      <td>2023-05-17 15:19:09</td>\n",
       "      <td>-122.708565</td>\n",
       "      <td>38.345200</td>\n",
       "      <td>210</td>\n",
       "      <td>9c93eedde54ab5f9a25ba51b977358b8</td>\n",
       "      <td>70f010e0dba18191937ed4b5bea42e8a</td>\n",
       "      <td>POINT (-236407.255 39932.111)</td>\n",
       "      <td>LINESTRING (-234388.650 40690.714, -234390.234...</td>\n",
       "      <td>4874.678103</td>\n",
       "    </tr>\n",
       "  </tbody>\n",
       "</table>\n",
       "</div>"
      ],
      "text/plain": [
       "                   gtfs_dataset_key  \\\n",
       "0  00accf770009aafd5dc103ff2eeddb37   \n",
       "1  00accf770009aafd5dc103ff2eeddb37   \n",
       "2  00accf770009aafd5dc103ff2eeddb37   \n",
       "\n",
       "                                  _gtfs_dataset_name                 trip_id  \\\n",
       "0  Bay Area 511 Sonoma County Transit Vehicle Pos...  t_1995375_b_33395_tn_0   \n",
       "1  Bay Area 511 Sonoma County Transit Vehicle Pos...  t_1995375_b_33395_tn_0   \n",
       "2  Bay Area 511 Sonoma County Transit Vehicle Pos...  t_1995375_b_33395_tn_0   \n",
       "\n",
       "  location_timestamp_local           x          y  vp_idx  \\\n",
       "0      2023-05-17 10:58:06 -122.732470  38.459064       0   \n",
       "1      2023-05-17 11:33:14 -122.724620  38.395050     105   \n",
       "2      2023-05-17 15:19:09 -122.708565  38.345200     210   \n",
       "\n",
       "                           feed_key                   shape_array_key  \\\n",
       "0  9c93eedde54ab5f9a25ba51b977358b8  70f010e0dba18191937ed4b5bea42e8a   \n",
       "1  9c93eedde54ab5f9a25ba51b977358b8  70f010e0dba18191937ed4b5bea42e8a   \n",
       "2  9c93eedde54ab5f9a25ba51b977358b8  70f010e0dba18191937ed4b5bea42e8a   \n",
       "\n",
       "                      geometry_x  \\\n",
       "0  POINT (-238128.395 52644.088)   \n",
       "1  POINT (-237648.944 45511.435)   \n",
       "2  POINT (-236407.255 39932.111)   \n",
       "\n",
       "                                          geometry_y  shape_meters  \n",
       "0  LINESTRING (-234388.650 40690.714, -234390.234...   3989.879409  \n",
       "1  LINESTRING (-234388.650 40690.714, -234390.234...   3989.879409  \n",
       "2  LINESTRING (-234388.650 40690.714, -234390.234...   4874.678103  "
      ]
     },
     "execution_count": 65,
     "metadata": {},
     "output_type": "execute_result"
    }
   ],
   "source": [
    "vp_gddf2[vp_gddf2.trip_id == \"t_1995375_b_33395_tn_0\"].compute()"
   ]
  },
  {
   "cell_type": "code",
   "execution_count": 48,
   "id": "b47fe4b6-67cb-494c-9a40-3c5b129770cf",
   "metadata": {},
   "outputs": [
    {
     "data": {
      "text/html": [
       "<div style=\"width:100%;\"><div style=\"position:relative;width:100%;height:0;padding-bottom:60%;\"><span style=\"color:#565656\">Make this Notebook Trusted to load map: File -> Trust Notebook</span><iframe src=\"about:blank\" style=\"position:absolute;width:100%;height:100%;left:0;top:0;border:none !important;\" data-html=%3C%21DOCTYPE%20html%3E%0A%3Chead%3E%20%20%20%20%0A%20%20%20%20%3Cmeta%20http-equiv%3D%22content-type%22%20content%3D%22text/html%3B%20charset%3DUTF-8%22%20/%3E%0A%20%20%20%20%0A%20%20%20%20%20%20%20%20%3Cscript%3E%0A%20%20%20%20%20%20%20%20%20%20%20%20L_NO_TOUCH%20%3D%20false%3B%0A%20%20%20%20%20%20%20%20%20%20%20%20L_DISABLE_3D%20%3D%20false%3B%0A%20%20%20%20%20%20%20%20%3C/script%3E%0A%20%20%20%20%0A%20%20%20%20%3Cstyle%3Ehtml%2C%20body%20%7Bwidth%3A%20100%25%3Bheight%3A%20100%25%3Bmargin%3A%200%3Bpadding%3A%200%3B%7D%3C/style%3E%0A%20%20%20%20%3Cstyle%3E%23map%20%7Bposition%3Aabsolute%3Btop%3A0%3Bbottom%3A0%3Bright%3A0%3Bleft%3A0%3B%7D%3C/style%3E%0A%20%20%20%20%3Cscript%20src%3D%22https%3A//cdn.jsdelivr.net/npm/leaflet%401.6.0/dist/leaflet.js%22%3E%3C/script%3E%0A%20%20%20%20%3Cscript%20src%3D%22https%3A//code.jquery.com/jquery-1.12.4.min.js%22%3E%3C/script%3E%0A%20%20%20%20%3Cscript%20src%3D%22https%3A//maxcdn.bootstrapcdn.com/bootstrap/3.2.0/js/bootstrap.min.js%22%3E%3C/script%3E%0A%20%20%20%20%3Cscript%20src%3D%22https%3A//cdnjs.cloudflare.com/ajax/libs/Leaflet.awesome-markers/2.0.2/leaflet.awesome-markers.js%22%3E%3C/script%3E%0A%20%20%20%20%3Clink%20rel%3D%22stylesheet%22%20href%3D%22https%3A//cdn.jsdelivr.net/npm/leaflet%401.6.0/dist/leaflet.css%22/%3E%0A%20%20%20%20%3Clink%20rel%3D%22stylesheet%22%20href%3D%22https%3A//maxcdn.bootstrapcdn.com/bootstrap/3.2.0/css/bootstrap.min.css%22/%3E%0A%20%20%20%20%3Clink%20rel%3D%22stylesheet%22%20href%3D%22https%3A//maxcdn.bootstrapcdn.com/bootstrap/3.2.0/css/bootstrap-theme.min.css%22/%3E%0A%20%20%20%20%3Clink%20rel%3D%22stylesheet%22%20href%3D%22https%3A//maxcdn.bootstrapcdn.com/font-awesome/4.6.3/css/font-awesome.min.css%22/%3E%0A%20%20%20%20%3Clink%20rel%3D%22stylesheet%22%20href%3D%22https%3A//cdnjs.cloudflare.com/ajax/libs/Leaflet.awesome-markers/2.0.2/leaflet.awesome-markers.css%22/%3E%0A%20%20%20%20%3Clink%20rel%3D%22stylesheet%22%20href%3D%22https%3A//cdn.jsdelivr.net/gh/python-visualization/folium/folium/templates/leaflet.awesome.rotate.min.css%22/%3E%0A%20%20%20%20%0A%20%20%20%20%20%20%20%20%20%20%20%20%3Cmeta%20name%3D%22viewport%22%20content%3D%22width%3Ddevice-width%2C%0A%20%20%20%20%20%20%20%20%20%20%20%20%20%20%20%20initial-scale%3D1.0%2C%20maximum-scale%3D1.0%2C%20user-scalable%3Dno%22%20/%3E%0A%20%20%20%20%20%20%20%20%20%20%20%20%3Cstyle%3E%0A%20%20%20%20%20%20%20%20%20%20%20%20%20%20%20%20%23map_097a769f8b434dc28ce5b8bd3e465f80%20%7B%0A%20%20%20%20%20%20%20%20%20%20%20%20%20%20%20%20%20%20%20%20position%3A%20relative%3B%0A%20%20%20%20%20%20%20%20%20%20%20%20%20%20%20%20%20%20%20%20width%3A%20100.0%25%3B%0A%20%20%20%20%20%20%20%20%20%20%20%20%20%20%20%20%20%20%20%20height%3A%20100.0%25%3B%0A%20%20%20%20%20%20%20%20%20%20%20%20%20%20%20%20%20%20%20%20left%3A%200.0%25%3B%0A%20%20%20%20%20%20%20%20%20%20%20%20%20%20%20%20%20%20%20%20top%3A%200.0%25%3B%0A%20%20%20%20%20%20%20%20%20%20%20%20%20%20%20%20%7D%0A%20%20%20%20%20%20%20%20%20%20%20%20%3C/style%3E%0A%20%20%20%20%20%20%20%20%0A%20%20%20%20%0A%20%20%20%20%20%20%20%20%20%20%20%20%20%20%20%20%20%20%20%20%3Cstyle%3E%0A%20%20%20%20%20%20%20%20%20%20%20%20%20%20%20%20%20%20%20%20%20%20%20%20.foliumtooltip%20%7B%0A%20%20%20%20%20%20%20%20%20%20%20%20%20%20%20%20%20%20%20%20%20%20%20%20%20%20%20%20%0A%20%20%20%20%20%20%20%20%20%20%20%20%20%20%20%20%20%20%20%20%20%20%20%20%7D%0A%20%20%20%20%20%20%20%20%20%20%20%20%20%20%20%20%20%20%20%20%20%20%20.foliumtooltip%20table%7B%0A%20%20%20%20%20%20%20%20%20%20%20%20%20%20%20%20%20%20%20%20%20%20%20%20%20%20%20%20margin%3A%20auto%3B%0A%20%20%20%20%20%20%20%20%20%20%20%20%20%20%20%20%20%20%20%20%20%20%20%20%7D%0A%20%20%20%20%20%20%20%20%20%20%20%20%20%20%20%20%20%20%20%20%20%20%20%20.foliumtooltip%20tr%7B%0A%20%20%20%20%20%20%20%20%20%20%20%20%20%20%20%20%20%20%20%20%20%20%20%20%20%20%20%20text-align%3A%20left%3B%0A%20%20%20%20%20%20%20%20%20%20%20%20%20%20%20%20%20%20%20%20%20%20%20%20%7D%0A%20%20%20%20%20%20%20%20%20%20%20%20%20%20%20%20%20%20%20%20%20%20%20%20.foliumtooltip%20th%7B%0A%20%20%20%20%20%20%20%20%20%20%20%20%20%20%20%20%20%20%20%20%20%20%20%20%20%20%20%20padding%3A%202px%3B%20padding-right%3A%208px%3B%0A%20%20%20%20%20%20%20%20%20%20%20%20%20%20%20%20%20%20%20%20%20%20%20%20%7D%0A%20%20%20%20%20%20%20%20%20%20%20%20%20%20%20%20%20%20%20%20%3C/style%3E%0A%20%20%20%20%20%20%20%20%20%20%20%20%0A%20%20%20%20%3Cscript%20src%3D%22https%3A//cdnjs.cloudflare.com/ajax/libs/d3/3.5.5/d3.min.js%22%3E%3C/script%3E%0A%3C/head%3E%0A%3Cbody%3E%20%20%20%20%0A%20%20%20%20%0A%20%20%20%20%20%20%20%20%20%20%20%20%3Cdiv%20class%3D%22folium-map%22%20id%3D%22map_097a769f8b434dc28ce5b8bd3e465f80%22%20%3E%3C/div%3E%0A%20%20%20%20%20%20%20%20%0A%3C/body%3E%0A%3Cscript%3E%20%20%20%20%0A%20%20%20%20%0A%20%20%20%20%20%20%20%20%20%20%20%20var%20map_097a769f8b434dc28ce5b8bd3e465f80%20%3D%20L.map%28%0A%20%20%20%20%20%20%20%20%20%20%20%20%20%20%20%20%22map_097a769f8b434dc28ce5b8bd3e465f80%22%2C%0A%20%20%20%20%20%20%20%20%20%20%20%20%20%20%20%20%7B%0A%20%20%20%20%20%20%20%20%20%20%20%20%20%20%20%20%20%20%20%20center%3A%20%5B38.402131999999995%2C%20-122.72051750000001%5D%2C%0A%20%20%20%20%20%20%20%20%20%20%20%20%20%20%20%20%20%20%20%20crs%3A%20L.CRS.EPSG3857%2C%0A%20%20%20%20%20%20%20%20%20%20%20%20%20%20%20%20%20%20%20%20zoom%3A%2010%2C%0A%20%20%20%20%20%20%20%20%20%20%20%20%20%20%20%20%20%20%20%20zoomControl%3A%20true%2C%0A%20%20%20%20%20%20%20%20%20%20%20%20%20%20%20%20%20%20%20%20preferCanvas%3A%20false%2C%0A%20%20%20%20%20%20%20%20%20%20%20%20%20%20%20%20%7D%0A%20%20%20%20%20%20%20%20%20%20%20%20%29%3B%0A%20%20%20%20%20%20%20%20%20%20%20%20L.control.scale%28%29.addTo%28map_097a769f8b434dc28ce5b8bd3e465f80%29%3B%0A%0A%20%20%20%20%20%20%20%20%20%20%20%20%0A%0A%20%20%20%20%20%20%20%20%0A%20%20%20%20%0A%20%20%20%20%20%20%20%20%20%20%20%20var%20tile_layer_f2786dc7c68b481ba0bcf74e573da72b%20%3D%20L.tileLayer%28%0A%20%20%20%20%20%20%20%20%20%20%20%20%20%20%20%20%22https%3A//a.basemaps.cartocdn.com/light_all/%7Bz%7D/%7Bx%7D/%7By%7D%7Br%7D.png%22%2C%0A%20%20%20%20%20%20%20%20%20%20%20%20%20%20%20%20%7B%22attribution%22%3A%20%22%5Cu0026copy%3B%20%5Cu003ca%20href%3D%5C%22https%3A//www.openstreetmap.org/copyright%5C%22%5Cu003eOpenStreetMap%5Cu003c/a%5Cu003e%20contributors%20%5Cu0026copy%3B%20%5Cu003ca%20href%3D%5C%22https%3A//carto.com/attributions%5C%22%5Cu003eCARTO%5Cu003c/a%5Cu003e%22%2C%20%22detectRetina%22%3A%20false%2C%20%22maxNativeZoom%22%3A%2020%2C%20%22maxZoom%22%3A%2020%2C%20%22minZoom%22%3A%200%2C%20%22noWrap%22%3A%20false%2C%20%22opacity%22%3A%201%2C%20%22subdomains%22%3A%20%22abc%22%2C%20%22tms%22%3A%20false%7D%0A%20%20%20%20%20%20%20%20%20%20%20%20%29.addTo%28map_097a769f8b434dc28ce5b8bd3e465f80%29%3B%0A%20%20%20%20%20%20%20%20%0A%20%20%20%20%0A%20%20%20%20%20%20%20%20%20%20%20%20map_097a769f8b434dc28ce5b8bd3e465f80.fitBounds%28%0A%20%20%20%20%20%20%20%20%20%20%20%20%20%20%20%20%5B%5B38.3452%2C%20-122.73247000000002%5D%2C%20%5B38.459063999999984%2C%20-122.70856500000001%5D%5D%2C%0A%20%20%20%20%20%20%20%20%20%20%20%20%20%20%20%20%7B%7D%0A%20%20%20%20%20%20%20%20%20%20%20%20%29%3B%0A%20%20%20%20%20%20%20%20%0A%20%20%20%20%0A%20%20%20%20%20%20%20%20function%20geo_json_f8fa5b735fae4efdb8e62b26381e458f_styler%28feature%29%20%7B%0A%20%20%20%20%20%20%20%20%20%20%20%20switch%28feature.id%29%20%7B%0A%20%20%20%20%20%20%20%20%20%20%20%20%20%20%20%20case%20%220%22%3A%20%0A%20%20%20%20%20%20%20%20%20%20%20%20%20%20%20%20%20%20%20%20return%20%7B%22color%22%3A%20%22%23440154%22%2C%20%22fillColor%22%3A%20%22%23440154%22%2C%20%22fillOpacity%22%3A%200.5%2C%20%22weight%22%3A%202%7D%3B%0A%20%20%20%20%20%20%20%20%20%20%20%20%20%20%20%20case%20%221%22%3A%20%0A%20%20%20%20%20%20%20%20%20%20%20%20%20%20%20%20%20%20%20%20return%20%7B%22color%22%3A%20%22%2321908d%22%2C%20%22fillColor%22%3A%20%22%2321908d%22%2C%20%22fillOpacity%22%3A%200.5%2C%20%22weight%22%3A%202%7D%3B%0A%20%20%20%20%20%20%20%20%20%20%20%20%20%20%20%20default%3A%0A%20%20%20%20%20%20%20%20%20%20%20%20%20%20%20%20%20%20%20%20return%20%7B%22color%22%3A%20%22%23fde725%22%2C%20%22fillColor%22%3A%20%22%23fde725%22%2C%20%22fillOpacity%22%3A%200.5%2C%20%22weight%22%3A%202%7D%3B%0A%20%20%20%20%20%20%20%20%20%20%20%20%7D%0A%20%20%20%20%20%20%20%20%7D%0A%20%20%20%20%20%20%20%20function%20geo_json_f8fa5b735fae4efdb8e62b26381e458f_highlighter%28feature%29%20%7B%0A%20%20%20%20%20%20%20%20%20%20%20%20switch%28feature.id%29%20%7B%0A%20%20%20%20%20%20%20%20%20%20%20%20%20%20%20%20default%3A%0A%20%20%20%20%20%20%20%20%20%20%20%20%20%20%20%20%20%20%20%20return%20%7B%22fillOpacity%22%3A%200.75%7D%3B%0A%20%20%20%20%20%20%20%20%20%20%20%20%7D%0A%20%20%20%20%20%20%20%20%7D%0A%20%20%20%20%20%20%20%20function%20geo_json_f8fa5b735fae4efdb8e62b26381e458f_pointToLayer%28feature%2C%20latlng%29%20%7B%0A%20%20%20%20%20%20%20%20%20%20%20%20var%20opts%20%3D%20%7B%22bubblingMouseEvents%22%3A%20true%2C%20%22color%22%3A%20%22%233388ff%22%2C%20%22dashArray%22%3A%20null%2C%20%22dashOffset%22%3A%20null%2C%20%22fill%22%3A%20true%2C%20%22fillColor%22%3A%20%22%233388ff%22%2C%20%22fillOpacity%22%3A%200.2%2C%20%22fillRule%22%3A%20%22evenodd%22%2C%20%22lineCap%22%3A%20%22round%22%2C%20%22lineJoin%22%3A%20%22round%22%2C%20%22opacity%22%3A%201.0%2C%20%22radius%22%3A%202%2C%20%22stroke%22%3A%20true%2C%20%22weight%22%3A%203%7D%3B%0A%20%20%20%20%20%20%20%20%20%20%20%20%0A%20%20%20%20%20%20%20%20%20%20%20%20let%20style%20%3D%20geo_json_f8fa5b735fae4efdb8e62b26381e458f_styler%28feature%29%0A%20%20%20%20%20%20%20%20%20%20%20%20Object.assign%28opts%2C%20style%29%0A%20%20%20%20%20%20%20%20%20%20%20%20%0A%20%20%20%20%20%20%20%20%20%20%20%20return%20new%20L.CircleMarker%28latlng%2C%20opts%29%0A%20%20%20%20%20%20%20%20%7D%0A%0A%20%20%20%20%20%20%20%20function%20geo_json_f8fa5b735fae4efdb8e62b26381e458f_onEachFeature%28feature%2C%20layer%29%20%7B%0A%20%20%20%20%20%20%20%20%20%20%20%20layer.on%28%7B%0A%20%20%20%20%20%20%20%20%20%20%20%20%20%20%20%20mouseout%3A%20function%28e%29%20%7B%0A%20%20%20%20%20%20%20%20%20%20%20%20%20%20%20%20%20%20%20%20if%28typeof%20e.target.setStyle%20%3D%3D%3D%20%22function%22%29%7B%0A%20%20%20%20%20%20%20%20%20%20%20%20%20%20%20%20%20%20%20%20%20%20%20%20geo_json_f8fa5b735fae4efdb8e62b26381e458f.resetStyle%28e.target%29%3B%0A%20%20%20%20%20%20%20%20%20%20%20%20%20%20%20%20%20%20%20%20%7D%0A%20%20%20%20%20%20%20%20%20%20%20%20%20%20%20%20%7D%2C%0A%20%20%20%20%20%20%20%20%20%20%20%20%20%20%20%20mouseover%3A%20function%28e%29%20%7B%0A%20%20%20%20%20%20%20%20%20%20%20%20%20%20%20%20%20%20%20%20if%28typeof%20e.target.setStyle%20%3D%3D%3D%20%22function%22%29%7B%0A%20%20%20%20%20%20%20%20%20%20%20%20%20%20%20%20%20%20%20%20%20%20%20%20const%20highlightStyle%20%3D%20geo_json_f8fa5b735fae4efdb8e62b26381e458f_highlighter%28e.target.feature%29%0A%20%20%20%20%20%20%20%20%20%20%20%20%20%20%20%20%20%20%20%20%20%20%20%20e.target.setStyle%28highlightStyle%29%3B%0A%20%20%20%20%20%20%20%20%20%20%20%20%20%20%20%20%20%20%20%20%7D%0A%20%20%20%20%20%20%20%20%20%20%20%20%20%20%20%20%7D%2C%0A%20%20%20%20%20%20%20%20%20%20%20%20%7D%29%3B%0A%20%20%20%20%20%20%20%20%7D%3B%0A%20%20%20%20%20%20%20%20var%20geo_json_f8fa5b735fae4efdb8e62b26381e458f%20%3D%20L.geoJson%28null%2C%20%7B%0A%20%20%20%20%20%20%20%20%20%20%20%20%20%20%20%20onEachFeature%3A%20geo_json_f8fa5b735fae4efdb8e62b26381e458f_onEachFeature%2C%0A%20%20%20%20%20%20%20%20%20%20%20%20%0A%20%20%20%20%20%20%20%20%20%20%20%20%20%20%20%20style%3A%20geo_json_f8fa5b735fae4efdb8e62b26381e458f_styler%2C%0A%20%20%20%20%20%20%20%20%20%20%20%20%20%20%20%20pointToLayer%3A%20geo_json_f8fa5b735fae4efdb8e62b26381e458f_pointToLayer%0A%20%20%20%20%20%20%20%20%7D%29%3B%0A%0A%20%20%20%20%20%20%20%20function%20geo_json_f8fa5b735fae4efdb8e62b26381e458f_add%20%28data%29%20%7B%0A%20%20%20%20%20%20%20%20%20%20%20%20geo_json_f8fa5b735fae4efdb8e62b26381e458f%0A%20%20%20%20%20%20%20%20%20%20%20%20%20%20%20%20.addData%28data%29%0A%20%20%20%20%20%20%20%20%20%20%20%20%20%20%20%20.addTo%28map_097a769f8b434dc28ce5b8bd3e465f80%29%3B%0A%20%20%20%20%20%20%20%20%7D%0A%20%20%20%20%20%20%20%20%20%20%20%20geo_json_f8fa5b735fae4efdb8e62b26381e458f_add%28%7B%22bbox%22%3A%20%5B-122.73247000000002%2C%2038.3452%2C%20-122.70856500000001%2C%2038.459063999999984%5D%2C%20%22features%22%3A%20%5B%7B%22bbox%22%3A%20%5B-122.73247000000002%2C%2038.459063999999984%2C%20-122.73247000000002%2C%2038.459063999999984%5D%2C%20%22geometry%22%3A%20%7B%22coordinates%22%3A%20%5B-122.73247000000002%2C%2038.459063999999984%5D%2C%20%22type%22%3A%20%22Point%22%7D%2C%20%22id%22%3A%20%220%22%2C%20%22properties%22%3A%20%7B%22__folium_color%22%3A%20%22%23440154%22%2C%20%22_gtfs_dataset_name%22%3A%20%22Bay%20Area%20511%20Sonoma%20County%20Transit%20Vehicle%20Positions%22%2C%20%22feed_key%22%3A%20%229c93eedde54ab5f9a25ba51b977358b8%22%2C%20%22gtfs_dataset_key%22%3A%20%2200accf770009aafd5dc103ff2eeddb37%22%2C%20%22shape_array_key%22%3A%20%2270f010e0dba18191937ed4b5bea42e8a%22%2C%20%22trip_id%22%3A%20%22t_1995375_b_33395_tn_0%22%2C%20%22vp_idx%22%3A%200%2C%20%22x%22%3A%20-122.73247%2C%20%22y%22%3A%2038.459064%7D%2C%20%22type%22%3A%20%22Feature%22%7D%2C%20%7B%22bbox%22%3A%20%5B-122.72462%2C%2038.39504999999999%2C%20-122.72462%2C%2038.39504999999999%5D%2C%20%22geometry%22%3A%20%7B%22coordinates%22%3A%20%5B-122.72462%2C%2038.39504999999999%5D%2C%20%22type%22%3A%20%22Point%22%7D%2C%20%22id%22%3A%20%221%22%2C%20%22properties%22%3A%20%7B%22__folium_color%22%3A%20%22%2321908d%22%2C%20%22_gtfs_dataset_name%22%3A%20%22Bay%20Area%20511%20Sonoma%20County%20Transit%20Vehicle%20Positions%22%2C%20%22feed_key%22%3A%20%229c93eedde54ab5f9a25ba51b977358b8%22%2C%20%22gtfs_dataset_key%22%3A%20%2200accf770009aafd5dc103ff2eeddb37%22%2C%20%22shape_array_key%22%3A%20%2270f010e0dba18191937ed4b5bea42e8a%22%2C%20%22trip_id%22%3A%20%22t_1995375_b_33395_tn_0%22%2C%20%22vp_idx%22%3A%20105%2C%20%22x%22%3A%20-122.72462%2C%20%22y%22%3A%2038.39505%7D%2C%20%22type%22%3A%20%22Feature%22%7D%2C%20%7B%22bbox%22%3A%20%5B-122.70856500000001%2C%2038.3452%2C%20-122.70856500000001%2C%2038.3452%5D%2C%20%22geometry%22%3A%20%7B%22coordinates%22%3A%20%5B-122.70856500000001%2C%2038.3452%5D%2C%20%22type%22%3A%20%22Point%22%7D%2C%20%22id%22%3A%20%222%22%2C%20%22properties%22%3A%20%7B%22__folium_color%22%3A%20%22%23fde725%22%2C%20%22_gtfs_dataset_name%22%3A%20%22Bay%20Area%20511%20Sonoma%20County%20Transit%20Vehicle%20Positions%22%2C%20%22feed_key%22%3A%20%229c93eedde54ab5f9a25ba51b977358b8%22%2C%20%22gtfs_dataset_key%22%3A%20%2200accf770009aafd5dc103ff2eeddb37%22%2C%20%22shape_array_key%22%3A%20%2270f010e0dba18191937ed4b5bea42e8a%22%2C%20%22trip_id%22%3A%20%22t_1995375_b_33395_tn_0%22%2C%20%22vp_idx%22%3A%20210%2C%20%22x%22%3A%20-122.708565%2C%20%22y%22%3A%2038.3452%7D%2C%20%22type%22%3A%20%22Feature%22%7D%5D%2C%20%22type%22%3A%20%22FeatureCollection%22%7D%29%3B%0A%0A%20%20%20%20%20%20%20%20%0A%20%20%20%20%0A%20%20%20%20geo_json_f8fa5b735fae4efdb8e62b26381e458f.bindTooltip%28%0A%20%20%20%20function%28layer%29%7B%0A%20%20%20%20let%20div%20%3D%20L.DomUtil.create%28%27div%27%29%3B%0A%20%20%20%20%0A%20%20%20%20let%20handleObject%20%3D%20feature%3D%3Etypeof%28feature%29%3D%3D%27object%27%20%3F%20JSON.stringify%28feature%29%20%3A%20feature%3B%0A%20%20%20%20let%20fields%20%3D%20%5B%22gtfs_dataset_key%22%2C%20%22_gtfs_dataset_name%22%2C%20%22trip_id%22%2C%20%22x%22%2C%20%22y%22%2C%20%22vp_idx%22%2C%20%22feed_key%22%2C%20%22shape_array_key%22%5D%3B%0A%20%20%20%20let%20aliases%20%3D%20%5B%22gtfs_dataset_key%22%2C%20%22_gtfs_dataset_name%22%2C%20%22trip_id%22%2C%20%22x%22%2C%20%22y%22%2C%20%22vp_idx%22%2C%20%22feed_key%22%2C%20%22shape_array_key%22%5D%3B%0A%20%20%20%20let%20table%20%3D%20%27%3Ctable%3E%27%20%2B%0A%20%20%20%20%20%20%20%20String%28%0A%20%20%20%20%20%20%20%20fields.map%28%0A%20%20%20%20%20%20%20%20%28v%2Ci%29%3D%3E%0A%20%20%20%20%20%20%20%20%60%3Ctr%3E%0A%20%20%20%20%20%20%20%20%20%20%20%20%3Cth%3E%24%7Baliases%5Bi%5D%7D%3C/th%3E%0A%20%20%20%20%20%20%20%20%20%20%20%20%0A%20%20%20%20%20%20%20%20%20%20%20%20%3Ctd%3E%24%7BhandleObject%28layer.feature.properties%5Bv%5D%29%7D%3C/td%3E%0A%20%20%20%20%20%20%20%20%3C/tr%3E%60%29.join%28%27%27%29%29%0A%20%20%20%20%2B%27%3C/table%3E%27%3B%0A%20%20%20%20div.innerHTML%3Dtable%3B%0A%20%20%20%20%0A%20%20%20%20return%20div%0A%20%20%20%20%7D%0A%20%20%20%20%2C%7B%22className%22%3A%20%22foliumtooltip%22%2C%20%22sticky%22%3A%20true%7D%29%3B%0A%20%20%20%20%20%20%20%20%20%20%20%20%20%20%20%20%20%20%20%20%20%0A%20%20%20%20%0A%20%20%20%20var%20color_map_ee3dcaff4c8f4983a886f2665e6e329a%20%3D%20%7B%7D%3B%0A%0A%20%20%20%20%0A%20%20%20%20color_map_ee3dcaff4c8f4983a886f2665e6e329a.color%20%3D%20d3.scale.threshold%28%29%0A%20%20%20%20%20%20%20%20%20%20%20%20%20%20.domain%28%5B0.0%2C%200.42084168336673344%2C%200.8416833667334669%2C%201.2625250501002003%2C%201.6833667334669338%2C%202.1042084168336674%2C%202.5250501002004007%2C%202.9458917835671343%2C%203.3667334669338675%2C%203.787575150300601%2C%204.208416833667335%2C%204.629258517034068%2C%205.050100200400801%2C%205.470941883767535%2C%205.891783567134269%2C%206.312625250501002%2C%206.733466933867735%2C%207.154308617234469%2C%207.575150300601202%2C%207.995991983967936%2C%208.41683366733467%2C%208.837675350701403%2C%209.258517034068136%2C%209.67935871743487%2C%2010.100200400801603%2C%2010.521042084168336%2C%2010.94188376753507%2C%2011.362725450901804%2C%2011.783567134268537%2C%2012.20440881763527%2C%2012.625250501002004%2C%2013.046092184368737%2C%2013.46693386773547%2C%2013.887775551102205%2C%2014.308617234468938%2C%2014.729458917835672%2C%2015.150300601202405%2C%2015.571142284569138%2C%2015.991983967935871%2C%2016.412825651302605%2C%2016.83366733466934%2C%2017.25450901803607%2C%2017.675350701402806%2C%2018.096192384769537%2C%2018.517034068136272%2C%2018.937875751503007%2C%2019.35871743486974%2C%2019.779559118236474%2C%2020.200400801603205%2C%2020.62124248496994%2C%2021.04208416833667%2C%2021.462925851703407%2C%2021.88376753507014%2C%2022.304609218436873%2C%2022.725450901803608%2C%2023.14629258517034%2C%2023.567134268537075%2C%2023.987975951903806%2C%2024.40881763527054%2C%2024.829659318637276%2C%2025.250501002004007%2C%2025.671342685370742%2C%2026.092184368737474%2C%2026.51302605210421%2C%2026.93386773547094%2C%2027.354709418837675%2C%2027.77555110220441%2C%2028.196392785571142%2C%2028.617234468937877%2C%2029.03807615230461%2C%2029.458917835671343%2C%2029.879759519038075%2C%2030.30060120240481%2C%2030.721442885771545%2C%2031.142284569138276%2C%2031.56312625250501%2C%2031.983967935871743%2C%2032.40480961923848%2C%2032.82565130260521%2C%2033.24649298597194%2C%2033.66733466933868%2C%2034.08817635270541%2C%2034.50901803607214%2C%2034.92985971943888%2C%2035.35070140280561%2C%2035.77154308617234%2C%2036.192384769539075%2C%2036.61322645290581%2C%2037.034068136272545%2C%2037.454909819639276%2C%2037.875751503006015%2C%2038.296593186372746%2C%2038.71743486973948%2C%2039.13827655310621%2C%2039.55911823647295%2C%2039.97995991983968%2C%2040.40080160320641%2C%2040.82164328657315%2C%2041.24248496993988%2C%2041.66332665330661%2C%2042.08416833667334%2C%2042.50501002004008%2C%2042.92585170340681%2C%2043.346693386773545%2C%2043.76753507014028%2C%2044.188376753507015%2C%2044.609218436873746%2C%2045.03006012024048%2C%2045.450901803607216%2C%2045.87174348697395%2C%2046.29258517034068%2C%2046.71342685370742%2C%2047.13426853707415%2C%2047.55511022044088%2C%2047.97595190380761%2C%2048.39679358717435%2C%2048.81763527054108%2C%2049.23847695390781%2C%2049.65931863727455%2C%2050.08016032064128%2C%2050.501002004008015%2C%2050.921843687374746%2C%2051.342685370741485%2C%2051.763527054108216%2C%2052.18436873747495%2C%2052.605210420841686%2C%2053.02605210420842%2C%2053.44689378757515%2C%2053.86773547094188%2C%2054.28857715430862%2C%2054.70941883767535%2C%2055.13026052104208%2C%2055.55110220440882%2C%2055.97194388777555%2C%2056.392785571142284%2C%2056.813627254509015%2C%2057.234468937875754%2C%2057.655310621242485%2C%2058.07615230460922%2C%2058.496993987975955%2C%2058.91783567134269%2C%2059.33867735470942%2C%2059.75951903807615%2C%2060.18036072144289%2C%2060.60120240480962%2C%2061.02204408817635%2C%2061.44288577154309%2C%2061.86372745490982%2C%2062.28456913827655%2C%2062.705410821643284%2C%2063.12625250501002%2C%2063.547094188376754%2C%2063.967935871743485%2C%2064.38877755511022%2C%2064.80961923847696%2C%2065.23046092184369%2C%2065.65130260521042%2C%2066.07214428857715%2C%2066.49298597194388%2C%2066.91382765531063%2C%2067.33466933867736%2C%2067.75551102204409%2C%2068.17635270541082%2C%2068.59719438877755%2C%2069.01803607214428%2C%2069.43887775551102%2C%2069.85971943887776%2C%2070.28056112224449%2C%2070.70140280561122%2C%2071.12224448897796%2C%2071.54308617234469%2C%2071.96392785571142%2C%2072.38476953907815%2C%2072.8056112224449%2C%2073.22645290581163%2C%2073.64729458917836%2C%2074.06813627254509%2C%2074.48897795591182%2C%2074.90981963927855%2C%2075.33066132264528%2C%2075.75150300601203%2C%2076.17234468937876%2C%2076.59318637274549%2C%2077.01402805611222%2C%2077.43486973947896%2C%2077.85571142284569%2C%2078.27655310621242%2C%2078.69739478957916%2C%2079.1182364729459%2C%2079.53907815631263%2C%2079.95991983967936%2C%2080.38076152304609%2C%2080.80160320641282%2C%2081.22244488977955%2C%2081.6432865731463%2C%2082.06412825651303%2C%2082.48496993987976%2C%2082.90581162324649%2C%2083.32665330661322%2C%2083.74749498997996%2C%2084.16833667334669%2C%2084.58917835671343%2C%2085.01002004008016%2C%2085.4308617234469%2C%2085.85170340681363%2C%2086.27254509018036%2C%2086.69338677354709%2C%2087.11422845691382%2C%2087.53507014028057%2C%2087.9559118236473%2C%2088.37675350701403%2C%2088.79759519038076%2C%2089.21843687374749%2C%2089.63927855711422%2C%2090.06012024048096%2C%2090.4809619238477%2C%2090.90180360721443%2C%2091.32264529058116%2C%2091.7434869739479%2C%2092.16432865731463%2C%2092.58517034068136%2C%2093.00601202404809%2C%2093.42685370741484%2C%2093.84769539078157%2C%2094.2685370741483%2C%2094.68937875751503%2C%2095.11022044088176%2C%2095.53106212424849%2C%2095.95190380761522%2C%2096.37274549098197%2C%2096.7935871743487%2C%2097.21442885771543%2C%2097.63527054108216%2C%2098.0561122244489%2C%2098.47695390781563%2C%2098.89779559118236%2C%2099.3186372745491%2C%2099.73947895791584%2C%20100.16032064128257%2C%20100.5811623246493%2C%20101.00200400801603%2C%20101.42284569138276%2C%20101.84368737474949%2C%20102.26452905811624%2C%20102.68537074148297%2C%20103.1062124248497%2C%20103.52705410821643%2C%20103.94789579158316%2C%20104.3687374749499%2C%20104.78957915831663%2C%20105.21042084168337%2C%20105.6312625250501%2C%20106.05210420841684%2C%20106.47294589178357%2C%20106.8937875751503%2C%20107.31462925851703%2C%20107.73547094188376%2C%20108.15631262525051%2C%20108.57715430861724%2C%20108.99799599198397%2C%20109.4188376753507%2C%20109.83967935871743%2C%20110.26052104208416%2C%20110.6813627254509%2C%20111.10220440881764%2C%20111.52304609218437%2C%20111.9438877755511%2C%20112.36472945891784%2C%20112.78557114228457%2C%20113.2064128256513%2C%20113.62725450901803%2C%20114.04809619238478%2C%20114.46893787575151%2C%20114.88977955911824%2C%20115.31062124248497%2C%20115.7314629258517%2C%20116.15230460921843%2C%20116.57314629258516%2C%20116.99398797595191%2C%20117.41482965931864%2C%20117.83567134268537%2C%20118.2565130260521%2C%20118.67735470941884%2C%20119.09819639278557%2C%20119.5190380761523%2C%20119.93987975951904%2C%20120.36072144288578%2C%20120.78156312625251%2C%20121.20240480961924%2C%20121.62324649298597%2C%20122.0440881763527%2C%20122.46492985971943%2C%20122.88577154308618%2C%20123.30661322645291%2C%20123.72745490981964%2C%20124.14829659318637%2C%20124.5691382765531%2C%20124.98997995991984%2C%20125.41082164328657%2C%20125.83166332665331%2C%20126.25250501002004%2C%20126.67334669338678%2C%20127.09418837675351%2C%20127.51503006012024%2C%20127.93587174348697%2C%20128.3567134268537%2C%20128.77755511022045%2C%20129.19839679358716%2C%20129.6192384769539%2C%20130.04008016032063%2C%20130.46092184368737%2C%20130.88176352705412%2C%20131.30260521042084%2C%20131.72344689378758%2C%20132.1442885771543%2C%20132.56513026052104%2C%20132.98597194388776%2C%20133.4068136272545%2C%20133.82765531062125%2C%20134.24849699398797%2C%20134.66933867735472%2C%20135.09018036072143%2C%20135.51102204408818%2C%20135.9318637274549%2C%20136.35270541082164%2C%20136.7735470941884%2C%20137.1943887775551%2C%20137.61523046092185%2C%20138.03607214428857%2C%20138.4569138276553%2C%20138.87775551102203%2C%20139.29859719438878%2C%20139.71943887775552%2C%20140.14028056112224%2C%20140.56112224448898%2C%20140.9819639278557%2C%20141.40280561122245%2C%20141.82364729458916%2C%20142.2444889779559%2C%20142.66533066132266%2C%20143.08617234468937%2C%20143.50701402805612%2C%20143.92785571142284%2C%20144.34869739478958%2C%20144.7695390781563%2C%20145.19038076152304%2C%20145.6112224448898%2C%20146.0320641282565%2C%20146.45290581162325%2C%20146.87374749498997%2C%20147.29458917835672%2C%20147.71543086172343%2C%20148.13627254509018%2C%20148.55711422845692%2C%20148.97795591182364%2C%20149.3987975951904%2C%20149.8196392785571%2C%20150.24048096192385%2C%20150.66132264529057%2C%20151.0821643286573%2C%20151.50300601202406%2C%20151.92384769539078%2C%20152.34468937875752%2C%20152.76553106212424%2C%20153.18637274549098%2C%20153.6072144288577%2C%20154.02805611222445%2C%20154.4488977955912%2C%20154.8697394789579%2C%20155.29058116232466%2C%20155.71142284569137%2C%20156.13226452905812%2C%20156.55310621242484%2C%20156.97394789579158%2C%20157.39478957915833%2C%20157.81563126252505%2C%20158.2364729458918%2C%20158.6573146292585%2C%20159.07815631262525%2C%20159.49899799599197%2C%20159.91983967935872%2C%20160.34068136272546%2C%20160.76152304609218%2C%20161.18236472945893%2C%20161.60320641282564%2C%20162.0240480961924%2C%20162.4448897795591%2C%20162.86573146292585%2C%20163.2865731462926%2C%20163.7074148296593%2C%20164.12825651302606%2C%20164.54909819639278%2C%20164.96993987975952%2C%20165.39078156312624%2C%20165.81162324649299%2C%20166.23246492985973%2C%20166.65330661322645%2C%20167.0741482965932%2C%20167.4949899799599%2C%20167.91583166332666%2C%20168.33667334669337%2C%20168.75751503006012%2C%20169.17835671342687%2C%20169.59919839679358%2C%20170.02004008016033%2C%20170.44088176352705%2C%20170.8617234468938%2C%20171.2825651302605%2C%20171.70340681362725%2C%20172.124248496994%2C%20172.54509018036072%2C%20172.96593186372746%2C%20173.38677354709418%2C%20173.80761523046093%2C%20174.22845691382764%2C%20174.6492985971944%2C%20175.07014028056113%2C%20175.49098196392785%2C%20175.9118236472946%2C%20176.3326653306613%2C%20176.75350701402806%2C%20177.17434869739478%2C%20177.59519038076152%2C%20178.01603206412827%2C%20178.43687374749499%2C%20178.85771543086173%2C%20179.27855711422845%2C%20179.6993987975952%2C%20180.1202404809619%2C%20180.54108216432866%2C%20180.9619238476954%2C%20181.38276553106212%2C%20181.80360721442887%2C%20182.22444889779558%2C%20182.64529058116233%2C%20183.06613226452905%2C%20183.4869739478958%2C%20183.90781563126254%2C%20184.32865731462925%2C%20184.749498997996%2C%20185.17034068136272%2C%20185.59118236472946%2C%20186.01202404809618%2C%20186.43286573146293%2C%20186.85370741482967%2C%20187.2745490981964%2C%20187.69539078156313%2C%20188.11623246492985%2C%20188.5370741482966%2C%20188.9579158316633%2C%20189.37875751503006%2C%20189.7995991983968%2C%20190.22044088176352%2C%20190.64128256513027%2C%20191.06212424849699%2C%20191.48296593186373%2C%20191.90380761523045%2C%20192.3246492985972%2C%20192.74549098196394%2C%20193.16633266533066%2C%20193.5871743486974%2C%20194.00801603206412%2C%20194.42885771543087%2C%20194.84969939879758%2C%20195.27054108216433%2C%20195.69138276553107%2C%20196.1122244488978%2C%20196.53306613226454%2C%20196.95390781563125%2C%20197.374749498998%2C%20197.79559118236472%2C%20198.21643286573146%2C%20198.6372745490982%2C%20199.05811623246493%2C%20199.47895791583167%2C%20199.8997995991984%2C%20200.32064128256513%2C%20200.74148296593185%2C%20201.1623246492986%2C%20201.58316633266534%2C%20202.00400801603206%2C%20202.4248496993988%2C%20202.84569138276552%2C%20203.26653306613227%2C%20203.68737474949899%2C%20204.10821643286573%2C%20204.52905811623248%2C%20204.9498997995992%2C%20205.37074148296594%2C%20205.79158316633266%2C%20206.2124248496994%2C%20206.63326653306612%2C%20207.05410821643287%2C%20207.4749498997996%2C%20207.89579158316633%2C%20208.31663326653307%2C%20208.7374749498998%2C%20209.15831663326654%2C%20209.57915831663325%2C%20210.0%5D%29%0A%20%20%20%20%20%20%20%20%20%20%20%20%20%20.range%28%5B%27%23440154ff%27%2C%20%27%23440155ff%27%2C%20%27%23440256ff%27%2C%20%27%23440356ff%27%2C%20%27%23450457ff%27%2C%20%27%23450458ff%27%2C%20%27%23450559ff%27%2C%20%27%23450659ff%27%2C%20%27%2346075aff%27%2C%20%27%2346075bff%27%2C%20%27%2346085cff%27%2C%20%27%2346095cff%27%2C%20%27%23460a5dff%27%2C%20%27%23460a5eff%27%2C%20%27%23460b5eff%27%2C%20%27%23460c5fff%27%2C%20%27%23470d60ff%27%2C%20%27%23470d61ff%27%2C%20%27%23470e61ff%27%2C%20%27%23470f62ff%27%2C%20%27%23471063ff%27%2C%20%27%23471064ff%27%2C%20%27%23471164ff%27%2C%20%27%23471265ff%27%2C%20%27%23471365ff%27%2C%20%27%23481366ff%27%2C%20%27%23481467ff%27%2C%20%27%23481568ff%27%2C%20%27%23481668ff%27%2C%20%27%23481669ff%27%2C%20%27%23481769ff%27%2C%20%27%2348176aff%27%2C%20%27%2348186bff%27%2C%20%27%2348196cff%27%2C%20%27%23481a6cff%27%2C%20%27%23481a6dff%27%2C%20%27%23481b6dff%27%2C%20%27%23481c6eff%27%2C%20%27%23481c6eff%27%2C%20%27%23481d6fff%27%2C%20%27%23481d6fff%27%2C%20%27%23481f70ff%27%2C%20%27%23481f70ff%27%2C%20%27%23482071ff%27%2C%20%27%23482072ff%27%2C%20%27%23482173ff%27%2C%20%27%23482273ff%27%2C%20%27%23482374ff%27%2C%20%27%23482374ff%27%2C%20%27%23482475ff%27%2C%20%27%23482476ff%27%2C%20%27%23482576ff%27%2C%20%27%23482577ff%27%2C%20%27%23482677ff%27%2C%20%27%23482778ff%27%2C%20%27%23482878ff%27%2C%20%27%23482879ff%27%2C%20%27%23482979ff%27%2C%20%27%2347297aff%27%2C%20%27%23472a7aff%27%2C%20%27%23472b7aff%27%2C%20%27%23472c7aff%27%2C%20%27%23472c7bff%27%2C%20%27%23472d7bff%27%2C%20%27%23472d7cff%27%2C%20%27%23472e7cff%27%2C%20%27%23472e7dff%27%2C%20%27%23472f7dff%27%2C%20%27%23462f7eff%27%2C%20%27%2346307eff%27%2C%20%27%2346317eff%27%2C%20%27%2346327eff%27%2C%20%27%2346327fff%27%2C%20%27%2346337fff%27%2C%20%27%23463480ff%27%2C%20%27%23453480ff%27%2C%20%27%23453581ff%27%2C%20%27%23453581ff%27%2C%20%27%23453681ff%27%2C%20%27%23453781ff%27%2C%20%27%23453882ff%27%2C%20%27%23443882ff%27%2C%20%27%23443983ff%27%2C%20%27%23443983ff%27%2C%20%27%23443a83ff%27%2C%20%27%23443a83ff%27%2C%20%27%23443b84ff%27%2C%20%27%23433c84ff%27%2C%20%27%23433d84ff%27%2C%20%27%23433d85ff%27%2C%20%27%23433e85ff%27%2C%20%27%23423e85ff%27%2C%20%27%23423f85ff%27%2C%20%27%23423f86ff%27%2C%20%27%23424086ff%27%2C%20%27%23424086ff%27%2C%20%27%23424186ff%27%2C%20%27%23414187ff%27%2C%20%27%23414287ff%27%2C%20%27%23414387ff%27%2C%20%27%23414487ff%27%2C%20%27%23404488ff%27%2C%20%27%23404588ff%27%2C%20%27%23404588ff%27%2C%20%27%23404688ff%27%2C%20%27%233f4688ff%27%2C%20%27%233f4788ff%27%2C%20%27%233f4789ff%27%2C%20%27%233f4889ff%27%2C%20%27%233e4889ff%27%2C%20%27%233e4989ff%27%2C%20%27%233e4a89ff%27%2C%20%27%233e4a89ff%27%2C%20%27%233e4b8aff%27%2C%20%27%233d4c8aff%27%2C%20%27%233d4d8aff%27%2C%20%27%233d4d8aff%27%2C%20%27%233d4e8aff%27%2C%20%27%233c4e8aff%27%2C%20%27%233c4f8aff%27%2C%20%27%233c4f8aff%27%2C%20%27%233c508bff%27%2C%20%27%233b508bff%27%2C%20%27%233b518bff%27%2C%20%27%233b518bff%27%2C%20%27%233b528bff%27%2C%20%27%233a528bff%27%2C%20%27%233a538bff%27%2C%20%27%233a538bff%27%2C%20%27%233a548cff%27%2C%20%27%2339548cff%27%2C%20%27%2339558cff%27%2C%20%27%2339558cff%27%2C%20%27%2339568cff%27%2C%20%27%2338578cff%27%2C%20%27%2338588cff%27%2C%20%27%2338588cff%27%2C%20%27%2338598cff%27%2C%20%27%2337598cff%27%2C%20%27%23375a8cff%27%2C%20%27%23375a8dff%27%2C%20%27%23375b8dff%27%2C%20%27%23365b8dff%27%2C%20%27%23365c8dff%27%2C%20%27%23365c8dff%27%2C%20%27%23365d8dff%27%2C%20%27%23355d8dff%27%2C%20%27%23355e8dff%27%2C%20%27%23355f8dff%27%2C%20%27%23355f8dff%27%2C%20%27%2334608dff%27%2C%20%27%2334608dff%27%2C%20%27%2334618dff%27%2C%20%27%2334618dff%27%2C%20%27%2333628dff%27%2C%20%27%2333628dff%27%2C%20%27%2333638dff%27%2C%20%27%2332638dff%27%2C%20%27%2332648eff%27%2C%20%27%2332648eff%27%2C%20%27%2332658eff%27%2C%20%27%2331658eff%27%2C%20%27%2331668eff%27%2C%20%27%2331668eff%27%2C%20%27%2331678eff%27%2C%20%27%2331678eff%27%2C%20%27%2331688eff%27%2C%20%27%2330688eff%27%2C%20%27%2330698eff%27%2C%20%27%2330698eff%27%2C%20%27%23306a8eff%27%2C%20%27%232f6a8eff%27%2C%20%27%232f6b8eff%27%2C%20%27%232f6b8eff%27%2C%20%27%232f6c8eff%27%2C%20%27%232e6c8eff%27%2C%20%27%232e6d8eff%27%2C%20%27%232e6d8eff%27%2C%20%27%232e6e8eff%27%2C%20%27%232e6e8eff%27%2C%20%27%232e6f8eff%27%2C%20%27%232d6f8eff%27%2C%20%27%232d708eff%27%2C%20%27%232d708eff%27%2C%20%27%232d718eff%27%2C%20%27%232c718eff%27%2C%20%27%232c718eff%27%2C%20%27%232c728eff%27%2C%20%27%232c728eff%27%2C%20%27%232c738eff%27%2C%20%27%232c738eff%27%2C%20%27%232b748eff%27%2C%20%27%232b748eff%27%2C%20%27%232b758eff%27%2C%20%27%232b758eff%27%2C%20%27%232a768eff%27%2C%20%27%232a768eff%27%2C%20%27%232a778eff%27%2C%20%27%232a778eff%27%2C%20%27%232a788eff%27%2C%20%27%2329788eff%27%2C%20%27%2329798eff%27%2C%20%27%2329798eff%27%2C%20%27%23297a8eff%27%2C%20%27%23297a8eff%27%2C%20%27%23297b8eff%27%2C%20%27%23287b8eff%27%2C%20%27%23287c8eff%27%2C%20%27%23287c8eff%27%2C%20%27%23287d8eff%27%2C%20%27%23277d8eff%27%2C%20%27%23277e8eff%27%2C%20%27%23277e8eff%27%2C%20%27%23277f8eff%27%2C%20%27%23277f8eff%27%2C%20%27%2327808eff%27%2C%20%27%2326808eff%27%2C%20%27%2326818eff%27%2C%20%27%2326818eff%27%2C%20%27%2326828eff%27%2C%20%27%2326828eff%27%2C%20%27%2326828eff%27%2C%20%27%2325828eff%27%2C%20%27%2325838eff%27%2C%20%27%2325838eff%27%2C%20%27%2325848eff%27%2C%20%27%2325858eff%27%2C%20%27%2325858eff%27%2C%20%27%2324868eff%27%2C%20%27%2324868eff%27%2C%20%27%2324878eff%27%2C%20%27%2324878eff%27%2C%20%27%2323888eff%27%2C%20%27%2323888eff%27%2C%20%27%2323898eff%27%2C%20%27%2323898eff%27%2C%20%27%23238a8dff%27%2C%20%27%23238a8dff%27%2C%20%27%23228b8dff%27%2C%20%27%23228b8dff%27%2C%20%27%23228c8dff%27%2C%20%27%23228c8dff%27%2C%20%27%23228d8dff%27%2C%20%27%23218d8dff%27%2C%20%27%23218e8dff%27%2C%20%27%23218e8dff%27%2C%20%27%23218f8dff%27%2C%20%27%23218f8dff%27%2C%20%27%2321908dff%27%2C%20%27%2321908dff%27%2C%20%27%2321918cff%27%2C%20%27%2320918cff%27%2C%20%27%2320928cff%27%2C%20%27%2320928cff%27%2C%20%27%2320928cff%27%2C%20%27%2320928cff%27%2C%20%27%2320938cff%27%2C%20%27%231f938cff%27%2C%20%27%231f948cff%27%2C%20%27%231f948cff%27%2C%20%27%231f958bff%27%2C%20%27%231f958bff%27%2C%20%27%231f968bff%27%2C%20%27%231f968bff%27%2C%20%27%231f978bff%27%2C%20%27%231f988bff%27%2C%20%27%231f988bff%27%2C%20%27%231f998bff%27%2C%20%27%231f998aff%27%2C%20%27%231f9a8aff%27%2C%20%27%231f9a8aff%27%2C%20%27%231e9b8aff%27%2C%20%27%231e9b8aff%27%2C%20%27%231e9c8aff%27%2C%20%27%231e9c89ff%27%2C%20%27%231e9d89ff%27%2C%20%27%231e9d89ff%27%2C%20%27%231e9e89ff%27%2C%20%27%231f9e89ff%27%2C%20%27%231f9f88ff%27%2C%20%27%231f9f88ff%27%2C%20%27%231fa088ff%27%2C%20%27%231fa088ff%27%2C%20%27%231fa188ff%27%2C%20%27%231fa188ff%27%2C%20%27%231fa187ff%27%2C%20%27%231fa187ff%27%2C%20%27%231fa287ff%27%2C%20%27%231fa287ff%27%2C%20%27%231fa386ff%27%2C%20%27%2320a386ff%27%2C%20%27%2320a486ff%27%2C%20%27%2320a486ff%27%2C%20%27%2320a585ff%27%2C%20%27%2321a585ff%27%2C%20%27%2321a685ff%27%2C%20%27%2321a685ff%27%2C%20%27%2321a785ff%27%2C%20%27%2322a785ff%27%2C%20%27%2322a884ff%27%2C%20%27%2322a884ff%27%2C%20%27%2322a983ff%27%2C%20%27%2323a983ff%27%2C%20%27%2323aa83ff%27%2C%20%27%2324ab83ff%27%2C%20%27%2325ab82ff%27%2C%20%27%2325ac82ff%27%2C%20%27%2325ac82ff%27%2C%20%27%2325ad82ff%27%2C%20%27%2326ad81ff%27%2C%20%27%2326ad81ff%27%2C%20%27%2327ad81ff%27%2C%20%27%2327ae81ff%27%2C%20%27%2328ae80ff%27%2C%20%27%2328af80ff%27%2C%20%27%2329af7fff%27%2C%20%27%2329b07fff%27%2C%20%27%232ab07fff%27%2C%20%27%232bb17eff%27%2C%20%27%232cb17eff%27%2C%20%27%232cb27dff%27%2C%20%27%232db27dff%27%2C%20%27%232db37cff%27%2C%20%27%232eb37cff%27%2C%20%27%232eb47cff%27%2C%20%27%232fb47cff%27%2C%20%27%2330b57bff%27%2C%20%27%2331b57bff%27%2C%20%27%2331b67aff%27%2C%20%27%2332b67aff%27%2C%20%27%2333b679ff%27%2C%20%27%2334b679ff%27%2C%20%27%2334b779ff%27%2C%20%27%2335b779ff%27%2C%20%27%2336b878ff%27%2C%20%27%2337b878ff%27%2C%20%27%2337b977ff%27%2C%20%27%2338b977ff%27%2C%20%27%2339ba76ff%27%2C%20%27%233aba76ff%27%2C%20%27%233abb75ff%27%2C%20%27%233bbb75ff%27%2C%20%27%233cbc74ff%27%2C%20%27%233dbc74ff%27%2C%20%27%233ebc73ff%27%2C%20%27%233fbd73ff%27%2C%20%27%2340bd72ff%27%2C%20%27%2340be72ff%27%2C%20%27%2341be71ff%27%2C%20%27%2342bf71ff%27%2C%20%27%2343bf70ff%27%2C%20%27%2345c070ff%27%2C%20%27%2346c06fff%27%2C%20%27%2347c16fff%27%2C%20%27%2348c16eff%27%2C%20%27%2349c16eff%27%2C%20%27%234ac16dff%27%2C%20%27%234bc26cff%27%2C%20%27%234cc26cff%27%2C%20%27%234dc36bff%27%2C%20%27%234ec36bff%27%2C%20%27%234fc46aff%27%2C%20%27%2350c46aff%27%2C%20%27%2351c569ff%27%2C%20%27%2352c569ff%27%2C%20%27%2353c568ff%27%2C%20%27%2354c568ff%27%2C%20%27%2355c667ff%27%2C%20%27%2356c667ff%27%2C%20%27%2357c766ff%27%2C%20%27%2358c765ff%27%2C%20%27%2359c864ff%27%2C%20%27%235ac864ff%27%2C%20%27%235bc863ff%27%2C%20%27%235cc863ff%27%2C%20%27%235dc962ff%27%2C%20%27%235ec962ff%27%2C%20%27%235fca61ff%27%2C%20%27%2360ca60ff%27%2C%20%27%2362cb5fff%27%2C%20%27%2363cb5fff%27%2C%20%27%2364cb5eff%27%2C%20%27%2365cc5dff%27%2C%20%27%2366cc5cff%27%2C%20%27%2367cd5cff%27%2C%20%27%2368cd5bff%27%2C%20%27%236acd5bff%27%2C%20%27%236bcd5aff%27%2C%20%27%236cce59ff%27%2C%20%27%236ece58ff%27%2C%20%27%236fcf58ff%27%2C%20%27%2370cf57ff%27%2C%20%27%2371d057ff%27%2C%20%27%2372d056ff%27%2C%20%27%2374d055ff%27%2C%20%27%2375d054ff%27%2C%20%27%2376d153ff%27%2C%20%27%2377d153ff%27%2C%20%27%2378d152ff%27%2C%20%27%237ad151ff%27%2C%20%27%237bd250ff%27%2C%20%27%237cd250ff%27%2C%20%27%237dd34fff%27%2C%20%27%237fd34eff%27%2C%20%27%2380d34dff%27%2C%20%27%2381d34dff%27%2C%20%27%2382d44cff%27%2C%20%27%2384d44bff%27%2C%20%27%2385d54aff%27%2C%20%27%2386d549ff%27%2C%20%27%2388d548ff%27%2C%20%27%2389d548ff%27%2C%20%27%238ad647ff%27%2C%20%27%238bd646ff%27%2C%20%27%238dd645ff%27%2C%20%27%238ed645ff%27%2C%20%27%238fd744ff%27%2C%20%27%2390d743ff%27%2C%20%27%2392d742ff%27%2C%20%27%2393d741ff%27%2C%20%27%2394d840ff%27%2C%20%27%2396d83fff%27%2C%20%27%2397d83eff%27%2C%20%27%2399d93dff%27%2C%20%27%239ad93cff%27%2C%20%27%239bd93cff%27%2C%20%27%239dd93bff%27%2C%20%27%239eda3aff%27%2C%20%27%239fda39ff%27%2C%20%27%23a1da38ff%27%2C%20%27%23a2da37ff%27%2C%20%27%23a3db36ff%27%2C%20%27%23a4db36ff%27%2C%20%27%23a6db35ff%27%2C%20%27%23a8db34ff%27%2C%20%27%23a9dc33ff%27%2C%20%27%23aadc32ff%27%2C%20%27%23abdc31ff%27%2C%20%27%23addc30ff%27%2C%20%27%23aedd2fff%27%2C%20%27%23b0dd2fff%27%2C%20%27%23b1dd2eff%27%2C%20%27%23b2dd2dff%27%2C%20%27%23b3de2cff%27%2C%20%27%23b5de2bff%27%2C%20%27%23b6de2aff%27%2C%20%27%23b8de29ff%27%2C%20%27%23b9de28ff%27%2C%20%27%23bade28ff%27%2C%20%27%23bcdf27ff%27%2C%20%27%23bddf26ff%27%2C%20%27%23bfdf25ff%27%2C%20%27%23c0df25ff%27%2C%20%27%23c1df24ff%27%2C%20%27%23c2df23ff%27%2C%20%27%23c4e022ff%27%2C%20%27%23c5e021ff%27%2C%20%27%23c7e020ff%27%2C%20%27%23c8e020ff%27%2C%20%27%23c9e11fff%27%2C%20%27%23cbe11eff%27%2C%20%27%23cce11dff%27%2C%20%27%23cee11dff%27%2C%20%27%23cfe11cff%27%2C%20%27%23d1e11bff%27%2C%20%27%23d2e21bff%27%2C%20%27%23d3e21aff%27%2C%20%27%23d4e21aff%27%2C%20%27%23d6e219ff%27%2C%20%27%23d7e219ff%27%2C%20%27%23d9e319ff%27%2C%20%27%23dae319ff%27%2C%20%27%23dbe318ff%27%2C%20%27%23dde318ff%27%2C%20%27%23dee318ff%27%2C%20%27%23dfe318ff%27%2C%20%27%23e0e418ff%27%2C%20%27%23e2e418ff%27%2C%20%27%23e3e418ff%27%2C%20%27%23e5e418ff%27%2C%20%27%23e6e419ff%27%2C%20%27%23e7e419ff%27%2C%20%27%23e8e519ff%27%2C%20%27%23eae519ff%27%2C%20%27%23ebe51aff%27%2C%20%27%23ece51aff%27%2C%20%27%23ede51bff%27%2C%20%27%23efe51bff%27%2C%20%27%23f0e51cff%27%2C%20%27%23f1e51dff%27%2C%20%27%23f3e61dff%27%2C%20%27%23f4e61eff%27%2C%20%27%23f5e61eff%27%2C%20%27%23f6e61fff%27%2C%20%27%23f7e620ff%27%2C%20%27%23f8e621ff%27%2C%20%27%23fae722ff%27%2C%20%27%23fbe723ff%27%2C%20%27%23fce724ff%27%2C%20%27%23fde725ff%27%5D%29%3B%0A%20%20%20%20%0A%0A%20%20%20%20color_map_ee3dcaff4c8f4983a886f2665e6e329a.x%20%3D%20d3.scale.linear%28%29%0A%20%20%20%20%20%20%20%20%20%20%20%20%20%20.domain%28%5B0.0%2C%20210.0%5D%29%0A%20%20%20%20%20%20%20%20%20%20%20%20%20%20.range%28%5B0%2C%20400%5D%29%3B%0A%0A%20%20%20%20color_map_ee3dcaff4c8f4983a886f2665e6e329a.legend%20%3D%20L.control%28%7Bposition%3A%20%27topright%27%7D%29%3B%0A%20%20%20%20color_map_ee3dcaff4c8f4983a886f2665e6e329a.legend.onAdd%20%3D%20function%20%28map%29%20%7Bvar%20div%20%3D%20L.DomUtil.create%28%27div%27%2C%20%27legend%27%29%3B%20return%20div%7D%3B%0A%20%20%20%20color_map_ee3dcaff4c8f4983a886f2665e6e329a.legend.addTo%28map_097a769f8b434dc28ce5b8bd3e465f80%29%3B%0A%0A%20%20%20%20color_map_ee3dcaff4c8f4983a886f2665e6e329a.xAxis%20%3D%20d3.svg.axis%28%29%0A%20%20%20%20%20%20%20%20.scale%28color_map_ee3dcaff4c8f4983a886f2665e6e329a.x%29%0A%20%20%20%20%20%20%20%20.orient%28%22top%22%29%0A%20%20%20%20%20%20%20%20.tickSize%281%29%0A%20%20%20%20%20%20%20%20.tickValues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color_map_ee3dcaff4c8f4983a886f2665e6e329a.svg%20%3D%20d3.select%28%22.legend.leaflet-control%22%29.append%28%22svg%22%29%0A%20%20%20%20%20%20%20%20.attr%28%22id%22%2C%20%27legend%27%29%0A%20%20%20%20%20%20%20%20.attr%28%22width%22%2C%20450%29%0A%20%20%20%20%20%20%20%20.attr%28%22height%22%2C%2040%29%3B%0A%0A%20%20%20%20color_map_ee3dcaff4c8f4983a886f2665e6e329a.g%20%3D%20color_map_ee3dcaff4c8f4983a886f2665e6e329a.svg.append%28%22g%22%29%0A%20%20%20%20%20%20%20%20.attr%28%22class%22%2C%20%22key%22%29%0A%20%20%20%20%20%20%20%20.attr%28%22transform%22%2C%20%22translate%2825%2C16%29%22%29%3B%0A%0A%20%20%20%20color_map_ee3dcaff4c8f4983a886f2665e6e329a.g.selectAll%28%22rect%22%29%0A%20%20%20%20%20%20%20%20.data%28color_map_ee3dcaff4c8f4983a886f2665e6e329a.color.range%28%29.map%28function%28d%2C%20i%29%20%7B%0A%20%20%20%20%20%20%20%20%20%20return%20%7B%0A%20%20%20%20%20%20%20%20%20%20%20%20x0%3A%20i%20%3F%20color_map_ee3dcaff4c8f4983a886f2665e6e329a.x%28color_map_ee3dcaff4c8f4983a886f2665e6e329a.color.domain%28%29%5Bi%20-%201%5D%29%20%3A%20color_map_ee3dcaff4c8f4983a886f2665e6e329a.x.range%28%29%5B0%5D%2C%0A%20%20%20%20%20%20%20%20%20%20%20%20x1%3A%20i%20%3C%20color_map_ee3dcaff4c8f4983a886f2665e6e329a.color.domain%28%29.length%20%3F%20color_map_ee3dcaff4c8f4983a886f2665e6e329a.x%28color_map_ee3dcaff4c8f4983a886f2665e6e329a.color.domain%28%29%5Bi%5D%29%20%3A%20color_map_ee3dcaff4c8f4983a886f2665e6e329a.x.range%28%29%5B1%5D%2C%0A%20%20%20%20%20%20%20%20%20%20%20%20z%3A%20d%0A%20%20%20%20%20%20%20%20%20%20%7D%3B%0A%20%20%20%20%20%20%20%20%7D%29%29%0A%20%20%20%20%20%20.enter%28%29.append%28%22rect%22%29%0A%20%20%20%20%20%20%20%20.attr%28%22height%22%2C%2010%29%0A%20%20%20%20%20%20%20%20.attr%28%22x%22%2C%20function%28d%29%20%7B%20return%20d.x0%3B%20%7D%29%0A%20%20%20%20%20%20%20%20.attr%28%22width%22%2C%20function%28d%29%20%7B%20return%20d.x1%20-%20d.x0%3B%20%7D%29%0A%20%20%20%20%20%20%20%20.style%28%22fill%22%2C%20function%28d%29%20%7B%20return%20d.z%3B%20%7D%29%3B%0A%0A%20%20%20%20color_map_ee3dcaff4c8f4983a886f2665e6e329a.g.call%28color_map_ee3dcaff4c8f4983a886f2665e6e329a.xAxis%29.append%28%22text%22%29%0A%20%20%20%20%20%20%20%20.attr%28%22class%22%2C%20%22caption%22%29%0A%20%20%20%20%20%20%20%20.attr%28%22y%22%2C%2021%29%0A%20%20%20%20%20%20%20%20.text%28%27vp_idx%27%29%3B%0A%3C/script%3E onload=\"this.contentDocument.open();this.contentDocument.write(    decodeURIComponent(this.getAttribute('data-html')));this.contentDocument.close();\" allowfullscreen webkitallowfullscreen mozallowfullscreen></iframe></div></div>"
      ],
      "text/plain": [
       "<folium.folium.Map at 0x7fd424f17280>"
      ]
     },
     "execution_count": 48,
     "metadata": {},
     "output_type": "execute_result"
    }
   ],
   "source": [
    "vp_gddf[vp_gddf.vp_idx.isin([0, 105, 210])].compute().drop(\n",
    "    columns = \"location_timestamp_local\").explore(\"vp_idx\", tiles=\"CartoDB Positron\")"
   ]
  },
  {
   "cell_type": "code",
   "execution_count": 50,
   "id": "fd607666-30d5-401e-a5df-3e0638c84631",
   "metadata": {},
   "outputs": [
    {
     "data": {
      "text/html": [
       "<div style=\"width:100%;\"><div style=\"position:relative;width:100%;height:0;padding-bottom:60%;\"><span style=\"color:#565656\">Make this Notebook Trusted to load map: File -> Trust Notebook</span><iframe src=\"about:blank\" style=\"position:absolute;width:100%;height:100%;left:0;top:0;border:none !important;\" data-html=%3C%21DOCTYPE%20html%3E%0A%3Chead%3E%20%20%20%20%0A%20%20%20%20%3Cmeta%20http-equiv%3D%22content-type%22%20content%3D%22text/html%3B%20charset%3DUTF-8%22%20/%3E%0A%20%20%20%20%0A%20%20%20%20%20%20%20%20%3Cscript%3E%0A%20%20%20%20%20%20%20%20%20%20%20%20L_NO_TOUCH%20%3D%20false%3B%0A%20%20%20%20%20%20%20%20%20%20%20%20L_DISABLE_3D%20%3D%20false%3B%0A%20%20%20%20%20%20%20%20%3C/script%3E%0A%20%20%20%20%0A%20%20%20%20%3Cstyle%3Ehtml%2C%20body%20%7Bwidth%3A%20100%25%3Bheight%3A%20100%25%3Bmargin%3A%200%3Bpadding%3A%200%3B%7D%3C/style%3E%0A%20%20%20%20%3Cstyle%3E%23map%20%7Bposition%3Aabsolute%3Btop%3A0%3Bbottom%3A0%3Bright%3A0%3Bleft%3A0%3B%7D%3C/style%3E%0A%20%20%20%20%3Cscript%20src%3D%22https%3A//cdn.jsdelivr.net/npm/leaflet%401.6.0/dist/leaflet.js%22%3E%3C/script%3E%0A%20%20%20%20%3Cscript%20src%3D%22https%3A//code.jquery.com/jquery-1.12.4.min.js%22%3E%3C/script%3E%0A%20%20%20%20%3Cscript%20src%3D%22https%3A//maxcdn.bootstrapcdn.com/bootstrap/3.2.0/js/bootstrap.min.js%22%3E%3C/script%3E%0A%20%20%20%20%3Cscript%20src%3D%22https%3A//cdnjs.cloudflare.com/ajax/libs/Leaflet.awesome-markers/2.0.2/leaflet.awesome-markers.js%22%3E%3C/script%3E%0A%20%20%20%20%3Clink%20rel%3D%22stylesheet%22%20href%3D%22https%3A//cdn.jsdelivr.net/npm/leaflet%401.6.0/dist/leaflet.css%22/%3E%0A%20%20%20%20%3Clink%20rel%3D%22stylesheet%22%20href%3D%22https%3A//maxcdn.bootstrapcdn.com/bootstrap/3.2.0/css/bootstrap.min.css%22/%3E%0A%20%20%20%20%3Clink%20rel%3D%22stylesheet%22%20href%3D%22https%3A//maxcdn.bootstrapcdn.com/bootstrap/3.2.0/css/bootstrap-theme.min.css%22/%3E%0A%20%20%20%20%3Clink%20rel%3D%22stylesheet%22%20href%3D%22https%3A//maxcdn.bootstrapcdn.com/font-awesome/4.6.3/css/font-awesome.min.css%22/%3E%0A%20%20%20%20%3Clink%20rel%3D%22stylesheet%22%20href%3D%22https%3A//cdnjs.cloudflare.com/ajax/libs/Leaflet.awesome-markers/2.0.2/leaflet.awesome-markers.css%22/%3E%0A%20%20%20%20%3Clink%20rel%3D%22stylesheet%22%20href%3D%22https%3A//cdn.jsdelivr.net/gh/python-visualization/folium/folium/templates/leaflet.awesome.rotate.min.css%22/%3E%0A%20%20%20%20%0A%20%20%20%20%20%20%20%20%20%20%20%20%3Cmeta%20name%3D%22viewport%22%20content%3D%22width%3Ddevice-width%2C%0A%20%20%20%20%20%20%20%20%20%20%20%20%20%20%20%20initial-scale%3D1.0%2C%20maximum-scale%3D1.0%2C%20user-scalable%3Dno%22%20/%3E%0A%20%20%20%20%20%20%20%20%20%20%20%20%3Cstyle%3E%0A%20%20%20%20%20%20%20%20%20%20%20%20%20%20%20%20%23map_d2dfd4a4365e4cf7b6f869d80952d128%20%7B%0A%20%20%20%20%20%20%20%20%20%20%20%20%20%20%20%20%20%20%20%20position%3A%20relative%3B%0A%20%20%20%20%20%20%20%20%20%20%20%20%20%20%20%20%20%20%20%20width%3A%20100.0%25%3B%0A%20%20%20%20%20%20%20%20%20%20%20%20%20%20%20%20%20%20%20%20height%3A%20100.0%25%3B%0A%20%20%20%20%20%20%20%20%20%20%20%20%20%20%20%20%20%20%20%20left%3A%200.0%25%3B%0A%20%20%20%20%20%20%20%20%20%20%20%20%20%20%20%20%20%20%20%20top%3A%200.0%25%3B%0A%20%20%20%20%20%20%20%20%20%20%20%20%20%20%20%20%7D%0A%20%20%20%20%20%20%20%20%20%20%20%20%3C/style%3E%0A%20%20%20%20%20%20%20%20%0A%20%20%20%20%0A%20%20%20%20%20%20%20%20%20%20%20%20%20%20%20%20%20%20%20%20%3Cstyle%3E%0A%20%20%20%20%20%20%20%20%20%20%20%20%20%20%20%20%20%20%20%20%20%20%20%20.foliumtooltip%20%7B%0A%20%20%20%20%20%20%20%20%20%20%20%20%20%20%20%20%20%20%20%20%20%20%20%20%20%20%20%20%0A%20%20%20%20%20%20%20%20%20%20%20%20%20%20%20%20%20%20%20%20%20%20%20%20%7D%0A%20%20%20%20%20%20%20%20%20%20%20%20%20%20%20%20%20%20%20%20%20%20%20.foliumtooltip%20table%7B%0A%20%20%20%20%20%20%20%20%20%20%20%20%20%20%20%20%20%20%20%20%20%20%20%20%20%20%20%20margin%3A%20auto%3B%0A%20%20%20%20%20%20%20%20%20%20%20%20%20%20%20%20%20%20%20%20%20%20%20%20%7D%0A%20%20%20%20%20%20%20%20%20%20%20%20%20%20%20%20%20%20%20%20%20%20%20%20.foliumtooltip%20tr%7B%0A%20%20%20%20%20%20%20%20%20%20%20%20%20%20%20%20%20%20%20%20%20%20%20%20%20%20%20%20text-align%3A%20left%3B%0A%20%20%20%20%20%20%20%20%20%20%20%20%20%20%20%20%20%20%20%20%20%20%20%20%7D%0A%20%20%20%20%20%20%20%20%20%20%20%20%20%20%20%20%20%20%20%20%20%20%20%20.foliumtooltip%20th%7B%0A%20%20%20%20%20%20%20%20%20%20%20%20%20%20%20%20%20%20%20%20%20%20%20%20%20%20%20%20padding%3A%202px%3B%20padding-right%3A%208px%3B%0A%20%20%20%20%20%20%20%20%20%20%20%20%20%20%20%20%20%20%20%20%20%20%20%20%7D%0A%20%20%20%20%20%20%20%20%20%20%20%20%20%20%20%20%20%20%20%20%3C/style%3E%0A%20%20%20%20%20%20%20%20%20%20%20%20%0A%3C/head%3E%0A%3Cbody%3E%20%20%20%20%0A%20%20%20%20%0A%20%20%20%20%20%20%20%20%20%20%20%20%3Cdiv%20class%3D%22folium-map%22%20id%3D%22map_d2dfd4a4365e4cf7b6f869d80952d128%22%20%3E%3C/div%3E%0A%20%20%20%20%20%20%20%20%0A%3C/body%3E%0A%3Cscript%3E%20%20%20%20%0A%20%20%20%20%0A%20%20%20%20%20%20%20%20%20%20%20%20var%20map_d2dfd4a4365e4cf7b6f869d80952d128%20%3D%20L.map%28%0A%20%20%20%20%20%20%20%20%20%20%20%20%20%20%20%20%22map_d2dfd4a4365e4cf7b6f869d80952d128%22%2C%0A%20%20%20%20%20%20%20%20%20%20%20%20%20%20%20%20%7B%0A%20%20%20%20%20%20%20%20%20%20%20%20%20%20%20%20%20%20%20%20center%3A%20%5B38.346073499999996%2C%20-122.6972155%5D%2C%0A%20%20%20%20%20%20%20%20%20%20%20%20%20%20%20%20%20%20%20%20crs%3A%20L.CRS.EPSG3857%2C%0A%20%20%20%20%20%20%20%20%20%20%20%20%20%20%20%20%20%20%20%20zoom%3A%2010%2C%0A%20%20%20%20%20%20%20%20%20%20%20%20%20%20%20%20%20%20%20%20zoomControl%3A%20true%2C%0A%20%20%20%20%20%20%20%20%20%20%20%20%20%20%20%20%20%20%20%20preferCanvas%3A%20false%2C%0A%20%20%20%20%20%20%20%20%20%20%20%20%20%20%20%20%7D%0A%20%20%20%20%20%20%20%20%20%20%20%20%29%3B%0A%20%20%20%20%20%20%20%20%20%20%20%20L.control.scale%28%29.addTo%28map_d2dfd4a4365e4cf7b6f869d80952d128%29%3B%0A%0A%20%20%20%20%20%20%20%20%20%20%20%20%0A%0A%20%20%20%20%20%20%20%20%0A%20%20%20%20%0A%20%20%20%20%20%20%20%20%20%20%20%20var%20tile_layer_0c6157f5d50a4cc994023cbc06a465be%20%3D%20L.tileLayer%28%0A%20%20%20%20%20%20%20%20%20%20%20%20%20%20%20%20%22https%3A//a.basemaps.cartocdn.com/light_all/%7Bz%7D/%7Bx%7D/%7By%7D%7Br%7D.png%22%2C%0A%20%20%20%20%20%20%20%20%20%20%20%20%20%20%20%20%7B%22attribution%22%3A%20%22%5Cu0026copy%3B%20%5Cu003ca%20href%3D%5C%22https%3A//www.openstreetmap.org/copyright%5C%22%5Cu003eOpenStreetMap%5Cu003c/a%5Cu003e%20contributors%20%5Cu0026copy%3B%20%5Cu003ca%20href%3D%5C%22https%3A//carto.com/attributions%5C%22%5Cu003eCARTO%5Cu003c/a%5Cu003e%22%2C%20%22detectRetina%22%3A%20false%2C%20%22maxNativeZoom%22%3A%2020%2C%20%22maxZoom%22%3A%2020%2C%20%22minZoom%22%3A%200%2C%20%22noWrap%22%3A%20false%2C%20%22opacity%22%3A%201%2C%20%22subdomains%22%3A%20%22abc%22%2C%20%22tms%22%3A%20false%7D%0A%20%20%20%20%20%20%20%20%20%20%20%20%29.addTo%28map_d2dfd4a4365e4cf7b6f869d80952d128%29%3B%0A%20%20%20%20%20%20%20%20%0A%20%20%20%20%0A%20%20%20%20%20%20%20%20%20%20%20%20map_d2dfd4a4365e4cf7b6f869d80952d128.fitBounds%28%0A%20%20%20%20%20%20%20%20%20%20%20%20%20%20%20%20%5B%5B38.33960900000002%2C%20-122.709023%5D%2C%20%5B38.352537999999974%2C%20-122.68540799999998%5D%5D%2C%0A%20%20%20%20%20%20%20%20%20%20%20%20%20%20%20%20%7B%7D%0A%20%20%20%20%20%20%20%20%20%20%20%20%29%3B%0A%20%20%20%20%20%20%20%20%0A%20%20%20%20%0A%20%20%20%20%20%20%20%20function%20geo_json_5da8c9fc374448df9aa3c16da2a349e7_styler%28feature%29%20%7B%0A%20%20%20%20%20%20%20%20%20%20%20%20switch%28feature.id%29%20%7B%0A%20%20%20%20%20%20%20%20%20%20%20%20%20%20%20%20default%3A%0A%20%20%20%20%20%20%20%20%20%20%20%20%20%20%20%20%20%20%20%20return%20%7B%22fillOpacity%22%3A%200.5%2C%20%22weight%22%3A%202%7D%3B%0A%20%20%20%20%20%20%20%20%20%20%20%20%7D%0A%20%20%20%20%20%20%20%20%7D%0A%20%20%20%20%20%20%20%20function%20geo_json_5da8c9fc374448df9aa3c16da2a349e7_highlighter%28feature%29%20%7B%0A%20%20%20%20%20%20%20%20%20%20%20%20switch%28feature.id%29%20%7B%0A%20%20%20%20%20%20%20%20%20%20%20%20%20%20%20%20default%3A%0A%20%20%20%20%20%20%20%20%20%20%20%20%20%20%20%20%20%20%20%20return%20%7B%22fillOpacity%22%3A%200.75%7D%3B%0A%20%20%20%20%20%20%20%20%20%20%20%20%7D%0A%20%20%20%20%20%20%20%20%7D%0A%20%20%20%20%20%20%20%20function%20geo_json_5da8c9fc374448df9aa3c16da2a349e7_pointToLayer%28feature%2C%20latlng%29%20%7B%0A%20%20%20%20%20%20%20%20%20%20%20%20var%20opts%20%3D%20%7B%22bubblingMouseEvents%22%3A%20true%2C%20%22color%22%3A%20%22%233388ff%22%2C%20%22dashArray%22%3A%20null%2C%20%22dashOffset%22%3A%20null%2C%20%22fill%22%3A%20true%2C%20%22fillColor%22%3A%20%22%233388ff%22%2C%20%22fillOpacity%22%3A%200.2%2C%20%22fillRule%22%3A%20%22evenodd%22%2C%20%22lineCap%22%3A%20%22round%22%2C%20%22lineJoin%22%3A%20%22round%22%2C%20%22opacity%22%3A%201.0%2C%20%22radius%22%3A%202%2C%20%22stroke%22%3A%20true%2C%20%22weight%22%3A%203%7D%3B%0A%20%20%20%20%20%20%20%20%20%20%20%20%0A%20%20%20%20%20%20%20%20%20%20%20%20let%20style%20%3D%20geo_json_5da8c9fc374448df9aa3c16da2a349e7_styler%28feature%29%0A%20%20%20%20%20%20%20%20%20%20%20%20Object.assign%28opts%2C%20style%29%0A%20%20%20%20%20%20%20%20%20%20%20%20%0A%20%20%20%20%20%20%20%20%20%20%20%20return%20new%20L.CircleMarker%28latlng%2C%20opts%29%0A%20%20%20%20%20%20%20%20%7D%0A%0A%20%20%20%20%20%20%20%20function%20geo_json_5da8c9fc374448df9aa3c16da2a349e7_onEachFeature%28feature%2C%20layer%29%20%7B%0A%20%20%20%20%20%20%20%20%20%20%20%20layer.on%28%7B%0A%20%20%20%20%20%20%20%20%20%20%20%20%20%20%20%20mouseout%3A%20function%28e%29%20%7B%0A%20%20%20%20%20%20%20%20%20%20%20%20%20%20%20%20%20%20%20%20if%28typeof%20e.target.setStyle%20%3D%3D%3D%20%22function%22%29%7B%0A%20%20%20%20%20%20%20%20%20%20%20%20%20%20%20%20%20%20%20%20%20%20%20%20geo_json_5da8c9fc374448df9aa3c16da2a349e7.resetStyle%28e.target%29%3B%0A%20%20%20%20%20%20%20%20%20%20%20%20%20%20%20%20%20%20%20%20%7D%0A%20%20%20%20%20%20%20%20%20%20%20%20%20%20%20%20%7D%2C%0A%20%20%20%20%20%20%20%20%20%20%20%20%20%20%20%20mouseover%3A%20function%28e%29%20%7B%0A%20%20%20%20%20%20%20%20%20%20%20%20%20%20%20%20%20%20%20%20if%28typeof%20e.target.setStyle%20%3D%3D%3D%20%22function%22%29%7B%0A%20%20%20%20%20%20%20%20%20%20%20%20%20%20%20%20%20%20%20%20%20%20%20%20const%20highlightStyle%20%3D%20geo_json_5da8c9fc374448df9aa3c16da2a349e7_highlighter%28e.target.feature%29%0A%20%20%20%20%20%20%20%20%20%20%20%20%20%20%20%20%20%20%20%20%20%20%20%20e.target.setStyle%28highlightStyle%29%3B%0A%20%20%20%20%20%20%20%20%20%20%20%20%20%20%20%20%20%20%20%20%7D%0A%20%20%20%20%20%20%20%20%20%20%20%20%20%20%20%20%7D%2C%0A%20%20%20%20%20%20%20%20%20%20%20%20%7D%29%3B%0A%20%20%20%20%20%20%20%20%7D%3B%0A%20%20%20%20%20%20%20%20var%20geo_json_5da8c9fc374448df9aa3c16da2a349e7%20%3D%20L.geoJson%28null%2C%20%7B%0A%20%20%20%20%20%20%20%20%20%20%20%20%20%20%20%20onEachFeature%3A%20geo_json_5da8c9fc374448df9aa3c16da2a349e7_onEachFeature%2C%0A%20%20%20%20%20%20%20%20%20%20%20%20%0A%20%20%20%20%20%20%20%20%20%20%20%20%20%20%20%20style%3A%20geo_json_5da8c9fc374448df9aa3c16da2a349e7_styler%2C%0A%20%20%20%20%20%20%20%20%20%20%20%20%20%20%20%20pointToLayer%3A%20geo_json_5da8c9fc374448df9aa3c16da2a349e7_pointToLayer%0A%20%20%20%20%20%20%20%20%7D%29%3B%0A%0A%20%20%20%20%20%20%20%20function%20geo_json_5da8c9fc374448df9aa3c16da2a349e7_add%20%28data%29%20%7B%0A%20%20%20%20%20%20%20%20%20%20%20%20geo_json_5da8c9fc374448df9aa3c16da2a349e7%0A%20%20%20%20%20%20%20%20%20%20%20%20%20%20%20%20.addData%28data%29%0A%20%20%20%20%20%20%20%20%20%20%20%20%20%20%20%20.addTo%28map_d2dfd4a4365e4cf7b6f869d80952d128%29%3B%0A%20%20%20%20%20%20%20%20%7D%0A%20%20%20%20%20%20%20%20%20%20%20%20geo_json_5da8c9fc374448df9aa3c16da2a349e7_add%28%7B%22bbox%22%3A%20%5B-122.709023%2C%2038.33960900000002%2C%20-122.68540799999998%2C%2038.352537999999974%5D%2C%20%22features%22%3A%20%5B%7B%22bbox%22%3A%20%5B-122.709023%2C%2038.33960900000002%2C%20-122.68540799999998%2C%2038.352537999999974%5D%2C%20%22geometry%22%3A%20%7B%22coordinates%22%3A%20%5B%5B-122.68569600000001%2C%2038.352537999999974%5D%2C%20%5B-122.685546%2C%2038.34787799999995%5D%2C%20%5B-122.68552%2C%2038.344928000000024%5D%2C%20%5B-122.685483%2C%2038.34156999999993%5D%2C%20%5B-122.68540799999998%2C%2038.339658%5D%2C%20%5B-122.685945%2C%2038.33965000000001%5D%2C%20%5B-122.688899%2C%2038.33960900000002%5D%2C%20%5B-122.689794%2C%2038.33961199999997%5D%2C%20%5B-122.69032%2C%2038.339659999999974%5D%2C%20%5B-122.69074%2C%2038.33975099999999%5D%2C%20%5B-122.691218%2C%2038.339917999999976%5D%2C%20%5B-122.692509%2C%2038.34058200000008%5D%2C%20%5B-122.693464%2C%2038.34107099999995%5D%2C%20%5B-122.693918%2C%2038.341251%5D%2C%20%5B-122.69444200000001%2C%2038.34137800000004%5D%2C%20%5B-122.69446299999998%2C%2038.34133400000001%5D%2C%20%5B-122.694515%2C%2038.341345999999966%5D%2C%20%5B-122.69488299999999%2C%2038.341415999999974%5D%2C%20%5B-122.694793%2C%2038.341859000000014%5D%2C%20%5B-122.69474%2C%2038.342101000000035%5D%2C%20%5B-122.69474%2C%2038.34234300000002%5D%2C%20%5B-122.69479600000001%2C%2038.34258099999995%5D%2C%20%5B-122.69494300000001%2C%2038.342840999999986%5D%2C%20%5B-122.695053%2C%2038.342997999999994%5D%2C%20%5B-122.695121%2C%2038.343093999999994%5D%2C%20%5B-122.695176%2C%2038.343161999999964%5D%2C%20%5B-122.695295%2C%2038.343305000000065%5D%2C%20%5B-122.695392%2C%2038.343394999999994%5D%2C%20%5B-122.695788%2C%2038.343818%5D%2C%20%5B-122.695908%2C%2038.34397899999996%5D%2C%20%5B-122.69596999999999%2C%2038.3441%5D%2C%20%5B-122.69604500000001%2C%2038.344298999999985%5D%2C%20%5B-122.69620000000002%2C%2038.344713000000006%5D%2C%20%5B-122.696493%2C%2038.34549300000001%5D%2C%20%5B-122.69651300000001%2C%2038.34555000000007%5D%2C%20%5B-122.696545%2C%2038.34570199999998%5D%2C%20%5B-122.69656%2C%2038.34586000000002%5D%2C%20%5B-122.69655400000002%2C%2038.346045999999966%5D%2C%20%5B-122.696467%2C%2038.34664000000007%5D%2C%20%5B-122.696439%2C%2038.34682200000002%5D%2C%20%5B-122.69642600000002%2C%2038.34689800000002%5D%2C%20%5B-122.696396%2C%2038.347106000000004%5D%2C%20%5B-122.69633399999998%2C%2038.34733299999996%5D%2C%20%5B-122.69623900000002%2C%2038.347560999999985%5D%2C%20%5B-122.69613500000001%2C%2038.34795500000005%5D%2C%20%5B-122.69612000000001%2C%2038.34803200000001%5D%2C%20%5B-122.696022%2C%2038.348180000000056%5D%2C%20%5B-122.696166%2C%2038.34819000000004%5D%2C%20%5B-122.69628200000001%2C%2038.34819799999998%5D%2C%20%5B-122.69654800000002%2C%2038.348209000000054%5D%2C%20%5B-122.701468%2C%2038.34837300000001%5D%2C%20%5B-122.701519%2C%2038.34837399999995%5D%2C%20%5B-122.701789%2C%2038.34837900000001%5D%2C%20%5B-122.70228700000001%2C%2038.34839300000001%5D%2C%20%5B-122.70385999999999%2C%2038.34844900000003%5D%2C%20%5B-122.70406%2C%2038.34845599999999%5D%2C%20%5B-122.704153%2C%2038.34845900000002%5D%2C%20%5B-122.705855%2C%2038.348519999999915%5D%2C%20%5B-122.70596200000001%2C%2038.34852599999999%5D%2C%20%5B-122.70608800000001%2C%2038.34852700000005%5D%2C%20%5B-122.706093%2C%2038.348350999999994%5D%2C%20%5B-122.706098%2C%2038.34828000000003%5D%2C%20%5B-122.70611599999998%2C%2038.347978999999995%5D%2C%20%5B-122.706104%2C%2038.34777800000005%5D%2C%20%5B-122.70609100000001%2C%2038.34771%5D%2C%20%5B-122.706059%2C%2038.347631999999955%5D%2C%20%5B-122.70585300000002%2C%2038.34735199999996%5D%2C%20%5B-122.70554499999999%2C%2038.34694499999996%5D%2C%20%5B-122.70538%2C%2038.34672699999998%5D%2C%20%5B-122.705033%2C%2038.34626800000001%5D%2C%20%5B-122.70451499999999%2C%2038.34551299999998%5D%2C%20%5B-122.70435%2C%2038.34527400000002%5D%2C%20%5B-122.70434000000002%2C%2038.345260000000025%5D%2C%20%5B-122.704291%2C%2038.345144000000005%5D%2C%20%5B-122.70427700000002%2C%2038.345068000000005%5D%2C%20%5B-122.70427400000001%2C%2038.344771999999956%5D%2C%20%5B-122.70427400000001%2C%2038.34475300000001%5D%2C%20%5B-122.70427500000001%2C%2038.344666999999966%5D%2C%20%5B-122.704372%2C%2038.344681999999956%5D%2C%20%5B-122.70452700000001%2C%2038.34468399999994%5D%2C%20%5B-122.705152%2C%2038.344700000000024%5D%2C%20%5B-122.70592900000001%2C%2038.344687999999955%5D%2C%20%5B-122.70641899999998%2C%2038.34468300000001%5D%2C%20%5B-122.707395%2C%2038.34467300000006%5D%2C%20%5B-122.70813600000001%2C%2038.344666999999966%5D%2C%20%5B-122.708161%2C%2038.344666999999966%5D%2C%20%5B-122.70825300000001%2C%2038.344666000000025%5D%2C%20%5B-122.708255%2C%2038.344727999999954%5D%2C%20%5B-122.708255%2C%2038.34475100000001%5D%2C%20%5B-122.708275%2C%2038.344853%5D%2C%20%5B-122.708329%2C%2038.344947000000005%5D%2C%20%5B-122.70838100000002%2C%2038.34501299999995%5D%2C%20%5B-122.70843200000002%2C%2038.345078000000015%5D%2C%20%5B-122.70876099999998%2C%2038.34529100000002%5D%2C%20%5B-122.709023%2C%2038.345460999999915%5D%5D%2C%20%22type%22%3A%20%22LineString%22%7D%2C%20%22id%22%3A%20%2216%22%2C%20%22properties%22%3A%20%7B%22shape_array_key%22%3A%20%2270f010e0dba18191937ed4b5bea42e8a%22%7D%2C%20%22type%22%3A%20%22Feature%22%7D%5D%2C%20%22type%22%3A%20%22FeatureCollection%22%7D%29%3B%0A%0A%20%20%20%20%20%20%20%20%0A%20%20%20%20%0A%20%20%20%20geo_json_5da8c9fc374448df9aa3c16da2a349e7.bindTooltip%28%0A%20%20%20%20function%28layer%29%7B%0A%20%20%20%20let%20div%20%3D%20L.DomUtil.create%28%27div%27%29%3B%0A%20%20%20%20%0A%20%20%20%20let%20handleObject%20%3D%20feature%3D%3Etypeof%28feature%29%3D%3D%27object%27%20%3F%20JSON.stringify%28feature%29%20%3A%20feature%3B%0A%20%20%20%20let%20fields%20%3D%20%5B%22shape_array_key%22%5D%3B%0A%20%20%20%20let%20aliases%20%3D%20%5B%22shape_array_key%22%5D%3B%0A%20%20%20%20let%20table%20%3D%20%27%3Ctable%3E%27%20%2B%0A%20%20%20%20%20%20%20%20String%28%0A%20%20%20%20%20%20%20%20fields.map%28%0A%20%20%20%20%20%20%20%20%28v%2Ci%29%3D%3E%0A%20%20%20%20%20%20%20%20%60%3Ctr%3E%0A%20%20%20%20%20%20%20%20%20%20%20%20%3Cth%3E%24%7Baliases%5Bi%5D%7D%3C/th%3E%0A%20%20%20%20%20%20%20%20%20%20%20%20%0A%20%20%20%20%20%20%20%20%20%20%20%20%3Ctd%3E%24%7BhandleObject%28layer.feature.properties%5Bv%5D%29%7D%3C/td%3E%0A%20%20%20%20%20%20%20%20%3C/tr%3E%60%29.join%28%27%27%29%29%0A%20%20%20%20%2B%27%3C/table%3E%27%3B%0A%20%20%20%20div.innerHTML%3Dtable%3B%0A%20%20%20%20%0A%20%20%20%20return%20div%0A%20%20%20%20%7D%0A%20%20%20%20%2C%7B%22className%22%3A%20%22foliumtooltip%22%2C%20%22sticky%22%3A%20true%7D%29%3B%0A%20%20%20%20%20%20%20%20%20%20%20%20%20%20%20%20%20%20%20%20%20%0A%3C/script%3E onload=\"this.contentDocument.open();this.contentDocument.write(    decodeURIComponent(this.getAttribute('data-html')));this.contentDocument.close();\" allowfullscreen webkitallowfullscreen mozallowfullscreen></iframe></div></div>"
      ],
      "text/plain": [
       "<folium.folium.Map at 0x7fd424f2f5e0>"
      ]
     },
     "execution_count": 50,
     "metadata": {},
     "output_type": "execute_result"
    }
   ],
   "source": [
    "shapes[shapes.shape_array_key==\"70f010e0dba18191937ed4b5bea42e8a\"].explore(\n",
    "    tiles = \"CartoDB Positron\")"
   ]
  },
  {
   "cell_type": "code",
   "execution_count": 52,
   "id": "06e76028-c17d-4d4b-af5b-9c85e9fc09e9",
   "metadata": {},
   "outputs": [],
   "source": [
    "one_shape = shapes[\n",
    "    shapes.shape_array_key==\"70f010e0dba18191937ed4b5bea42e8a\"].geometry.iloc[0]"
   ]
  },
  {
   "cell_type": "code",
   "execution_count": 53,
   "id": "23d68c19-d7bb-4ae6-bdf3-6d726da62c20",
   "metadata": {},
   "outputs": [
    {
     "data": {
      "text/plain": [
       "[(-234388.6499281881, 40690.71433703462),\n",
       " (-234390.23394866896, 40172.53155302256),\n",
       " (-234397.25296085997, 39844.66767196357),\n",
       " (-234404.5964268675, 39471.44006559346),\n",
       " (-234404.07114788066, 39258.79586155666),\n",
       " (-234450.95749054762, 39259.23472119542),\n",
       " (-234708.86659612018, 39261.987792056985),\n",
       " (-234786.95902140392, 39264.53718635766),\n",
       " (-234832.70883840334, 39271.173603437375),\n",
       " (-234869.07290717046, 39282.32576754643),\n",
       " (-234910.25843166377, 39302.06679882575),\n",
       " (-235020.8206284654, 39379.048921857495),\n",
       " (-235102.61311525982, 39435.75355679914),\n",
       " (-235141.66197301535, 39456.88076046249),\n",
       " (-235186.98641954607, 39472.29252156941),\n",
       " (-235188.9579202701, 39467.455410534516),\n",
       " (-235193.45766453695, 39468.917826281395),\n",
       " (-235225.34911167898, 39477.60907329479),\n",
       " (-235216.09595789693, 39526.61117921909),\n",
       " (-235210.70656007362, 39553.37031211937),\n",
       " (-235209.94204285313, 39580.26093362132),\n",
       " (-235214.07678118767, 39606.84601219278),\n",
       " (-235226.08271141475, 39636.10146657331),\n",
       " (-235235.18534689856, 39653.81995433476),\n",
       " (-235240.81574220132, 39664.65602686722),\n",
       " (-235245.40020867292, 39672.34853577614),\n",
       " (-235255.33233817315, 39688.53372094873),\n",
       " (-235263.5121830757, 39698.77505922504),\n",
       " (-235296.73032826633, 39746.760793539695),\n",
       " (-235306.69263170287, 39764.94864826603),\n",
       " (-235311.72028046043, 39778.54783098539),\n",
       " (-235317.635745921, 39800.84650199348),\n",
       " (-235329.85229021386, 39847.23415632453),\n",
       " (-235352.95328609442, 39934.63363755075),\n",
       " (-235354.51824735806, 39941.01702080341),\n",
       " (-235356.8299742231, 39957.986418283544),\n",
       " (-235357.63935005016, 39975.580323103815),\n",
       " (-235356.52780781037, 39996.23340423452),\n",
       " (-235347.05871016986, 40062.02161424793),\n",
       " (-235344.04020563874, 40082.175610692706),\n",
       " (-235342.66563082312, 40090.58831933187),\n",
       " (-235339.3904434056, 40113.62642358197),\n",
       " (-235333.26303627188, 40138.69634219073),\n",
       " (-235324.25308029997, 40163.795472768135),\n",
       " (-235313.93318880466, 40207.317884202115),\n",
       " (-235312.38098823055, 40215.83675050363),\n",
       " (-235303.36225666988, 40232.03900496755),\n",
       " (-235315.89528981518, 40233.50758644706),\n",
       " (-235325.99151705284, 40234.6844509854),\n",
       " (-235349.16642004688, 40236.56702627987),\n",
       " (-235777.93839816513, 40267.01473350078),\n",
       " (-235782.38518948888, 40267.252683789004),\n",
       " (-235805.92795437435, 40268.479778712615),\n",
       " (-235849.33612693637, 40271.27415959537),\n",
       " (-235986.4091919355, 40281.410953821614),\n",
       " (-236003.83778796354, 40282.6866140631),\n",
       " (-236011.94289204056, 40283.25147353718),\n",
       " (-236160.2555160769, 40294.26787180826),\n",
       " (-236169.57263866236, 40295.2011120487),\n",
       " (-236180.56344355835, 40295.62610517675),\n",
       " (-236181.55806636033, 40276.081829729956),\n",
       " (-236182.2195817675, 40268.20492220763),\n",
       " (-236184.7450752924, 40234.80330684036),\n",
       " (-236184.33569031153, 40212.43873515539),\n",
       " (-236183.4171071866, 40204.85033947183),\n",
       " (-236180.87240459432, 40196.10343402717),\n",
       " (-236163.78611955693, 40164.47729178518),\n",
       " (-236138.20245842717, 40118.48516453151),\n",
       " (-236124.49669054325, 40093.85052477522),\n",
       " (-236095.67447852177, 40041.9832659387),\n",
       " (-236052.86944396366, 39956.79944378091),\n",
       " (-236039.22971056943, 39929.83146403171),\n",
       " (-236038.4015198989, 39928.25091705704),\n",
       " (-236034.49365564217, 39915.23924935004),\n",
       " (-236033.5129921858, 39906.759434342384),\n",
       " (-236034.18963765944, 39873.861064631026),\n",
       " (-236034.24987402413, 39871.74982432276),\n",
       " (-236034.60978119355, 39862.19617347),\n",
       " (-236043.0262849847, 39864.104436920024),\n",
       " (-236056.54498567578, 39864.712584387045),\n",
       " (-236111.03069547325, 39868.046790242195),\n",
       " (-236178.8684505533, 39868.64869351126),\n",
       " (-236221.64087339432, 39869.313860731665),\n",
       " (-236306.83668430662, 39870.634888738394),\n",
       " (-236371.51410309804, 39871.81535045942),\n",
       " (-236373.69555948678, 39871.877679399215),\n",
       " (-236381.7264938559, 39871.99593707919),\n",
       " (-236381.70416030978, 39878.89022588357),\n",
       " (-236381.63113529052, 39881.44593479065),\n",
       " (-236383.05244589897, 39892.829813254066),\n",
       " (-236387.46592148658, 39903.40952175157),\n",
       " (-236391.79377363517, 39910.87294816878),\n",
       " (-236396.03753511194, 39918.22276562173),\n",
       " (-236424.06893738225, 39942.71122724656),\n",
       " (-236446.390500496, 39962.25462452788)]"
      ]
     },
     "execution_count": 53,
     "metadata": {},
     "output_type": "execute_result"
    }
   ],
   "source": [
    "[i for i in one_shape.coords]"
   ]
  },
  {
   "cell_type": "code",
   "execution_count": 27,
   "id": "589f1940-3d0a-4a11-bcb9-b4bdc5f8bfa9",
   "metadata": {},
   "outputs": [],
   "source": [
    "df2 = wrangle_shapes.linear_reference_vp_against_segment(\n",
    "    triangulated_vp_with_shape,\n",
    "    shapes,\n",
    "    segment_identifier_cols = [\"shape_array_key\"]\n",
    ")"
   ]
  },
  {
   "cell_type": "code",
   "execution_count": 29,
   "id": "45dafce6-68a1-4275-afce-5b0c1be696b4",
   "metadata": {},
   "outputs": [
    {
     "data": {
      "text/html": [
       "<div>\n",
       "<style scoped>\n",
       "    .dataframe tbody tr th:only-of-type {\n",
       "        vertical-align: middle;\n",
       "    }\n",
       "\n",
       "    .dataframe tbody tr th {\n",
       "        vertical-align: top;\n",
       "    }\n",
       "\n",
       "    .dataframe thead th {\n",
       "        text-align: right;\n",
       "    }\n",
       "</style>\n",
       "<table border=\"1\" class=\"dataframe\">\n",
       "  <thead>\n",
       "    <tr style=\"text-align: right;\">\n",
       "      <th></th>\n",
       "      <th>gtfs_dataset_key</th>\n",
       "      <th>_gtfs_dataset_name</th>\n",
       "      <th>trip_id</th>\n",
       "      <th>location_timestamp_local</th>\n",
       "      <th>vp_idx</th>\n",
       "      <th>feed_key</th>\n",
       "      <th>shape_array_key</th>\n",
       "      <th>shape_meters</th>\n",
       "    </tr>\n",
       "  </thead>\n",
       "  <tbody>\n",
       "    <tr>\n",
       "      <th>0</th>\n",
       "      <td>00accf770009aafd5dc103ff2eeddb37</td>\n",
       "      <td>Bay Area 511 Sonoma County Transit Vehicle Pos...</td>\n",
       "      <td>t_1995375_b_33395_tn_0</td>\n",
       "      <td>2023-05-17 10:58:06</td>\n",
       "      <td>0</td>\n",
       "      <td>9c93eedde54ab5f9a25ba51b977358b8</td>\n",
       "      <td>70f010e0dba18191937ed4b5bea42e8a</td>\n",
       "      <td>3989.879409</td>\n",
       "    </tr>\n",
       "    <tr>\n",
       "      <th>1</th>\n",
       "      <td>00accf770009aafd5dc103ff2eeddb37</td>\n",
       "      <td>Bay Area 511 Sonoma County Transit Vehicle Pos...</td>\n",
       "      <td>t_1995375_b_33395_tn_0</td>\n",
       "      <td>2023-05-17 11:33:14</td>\n",
       "      <td>105</td>\n",
       "      <td>9c93eedde54ab5f9a25ba51b977358b8</td>\n",
       "      <td>70f010e0dba18191937ed4b5bea42e8a</td>\n",
       "      <td>3989.879409</td>\n",
       "    </tr>\n",
       "    <tr>\n",
       "      <th>2</th>\n",
       "      <td>00accf770009aafd5dc103ff2eeddb37</td>\n",
       "      <td>Bay Area 511 Sonoma County Transit Vehicle Pos...</td>\n",
       "      <td>t_1995375_b_33395_tn_0</td>\n",
       "      <td>2023-05-17 15:19:09</td>\n",
       "      <td>210</td>\n",
       "      <td>9c93eedde54ab5f9a25ba51b977358b8</td>\n",
       "      <td>70f010e0dba18191937ed4b5bea42e8a</td>\n",
       "      <td>4874.678103</td>\n",
       "    </tr>\n",
       "    <tr>\n",
       "      <th>3</th>\n",
       "      <td>00accf770009aafd5dc103ff2eeddb37</td>\n",
       "      <td>Bay Area 511 Sonoma County Transit Vehicle Pos...</td>\n",
       "      <td>t_1995378_b_33395_tn_0</td>\n",
       "      <td>2023-05-17 15:35:13</td>\n",
       "      <td>211</td>\n",
       "      <td>9c93eedde54ab5f9a25ba51b977358b8</td>\n",
       "      <td>b09dd070bdd68ca007a683a522af4c32</td>\n",
       "      <td>5369.104340</td>\n",
       "    </tr>\n",
       "    <tr>\n",
       "      <th>4</th>\n",
       "      <td>00accf770009aafd5dc103ff2eeddb37</td>\n",
       "      <td>Bay Area 511 Sonoma County Transit Vehicle Pos...</td>\n",
       "      <td>t_1995378_b_33395_tn_0</td>\n",
       "      <td>2023-05-17 15:49:31</td>\n",
       "      <td>254</td>\n",
       "      <td>9c93eedde54ab5f9a25ba51b977358b8</td>\n",
       "      <td>b09dd070bdd68ca007a683a522af4c32</td>\n",
       "      <td>12736.932143</td>\n",
       "    </tr>\n",
       "    <tr>\n",
       "      <th>...</th>\n",
       "      <td>...</td>\n",
       "      <td>...</td>\n",
       "      <td>...</td>\n",
       "      <td>...</td>\n",
       "      <td>...</td>\n",
       "      <td>...</td>\n",
       "      <td>...</td>\n",
       "      <td>...</td>\n",
       "    </tr>\n",
       "    <tr>\n",
       "      <th>433</th>\n",
       "      <td>00accf770009aafd5dc103ff2eeddb37</td>\n",
       "      <td>Bay Area 511 Sonoma County Transit Vehicle Pos...</td>\n",
       "      <td>t_5561800_b_80156_tn_0</td>\n",
       "      <td>2023-05-17 08:06:40</td>\n",
       "      <td>31742</td>\n",
       "      <td>9c93eedde54ab5f9a25ba51b977358b8</td>\n",
       "      <td>1c31b8e8f6cfa9b1edeea8f6c5fcddb2</td>\n",
       "      <td>22384.842522</td>\n",
       "    </tr>\n",
       "    <tr>\n",
       "      <th>434</th>\n",
       "      <td>00accf770009aafd5dc103ff2eeddb37</td>\n",
       "      <td>Bay Area 511 Sonoma County Transit Vehicle Pos...</td>\n",
       "      <td>t_5561800_b_80156_tn_0</td>\n",
       "      <td>2023-05-17 08:59:37</td>\n",
       "      <td>31893</td>\n",
       "      <td>9c93eedde54ab5f9a25ba51b977358b8</td>\n",
       "      <td>1c31b8e8f6cfa9b1edeea8f6c5fcddb2</td>\n",
       "      <td>44355.356656</td>\n",
       "    </tr>\n",
       "    <tr>\n",
       "      <th>435</th>\n",
       "      <td>00accf770009aafd5dc103ff2eeddb37</td>\n",
       "      <td>Bay Area 511 Sonoma County Transit Vehicle Pos...</td>\n",
       "      <td>t_5562081_b_80156_tn_0</td>\n",
       "      <td>2023-05-17 07:31:16</td>\n",
       "      <td>32887</td>\n",
       "      <td>9c93eedde54ab5f9a25ba51b977358b8</td>\n",
       "      <td>0e69f3b447f85898af234663d28cf1e4</td>\n",
       "      <td>0.000000</td>\n",
       "    </tr>\n",
       "    <tr>\n",
       "      <th>436</th>\n",
       "      <td>00accf770009aafd5dc103ff2eeddb37</td>\n",
       "      <td>Bay Area 511 Sonoma County Transit Vehicle Pos...</td>\n",
       "      <td>t_5562081_b_80156_tn_0</td>\n",
       "      <td>2023-05-17 07:48:35</td>\n",
       "      <td>32939</td>\n",
       "      <td>9c93eedde54ab5f9a25ba51b977358b8</td>\n",
       "      <td>0e69f3b447f85898af234663d28cf1e4</td>\n",
       "      <td>5667.411467</td>\n",
       "    </tr>\n",
       "    <tr>\n",
       "      <th>437</th>\n",
       "      <td>00accf770009aafd5dc103ff2eeddb37</td>\n",
       "      <td>Bay Area 511 Sonoma County Transit Vehicle Pos...</td>\n",
       "      <td>t_5562081_b_80156_tn_0</td>\n",
       "      <td>2023-05-17 08:10:56</td>\n",
       "      <td>32991</td>\n",
       "      <td>9c93eedde54ab5f9a25ba51b977358b8</td>\n",
       "      <td>0e69f3b447f85898af234663d28cf1e4</td>\n",
       "      <td>16068.813410</td>\n",
       "    </tr>\n",
       "  </tbody>\n",
       "</table>\n",
       "<p>438 rows × 8 columns</p>\n",
       "</div>"
      ],
      "text/plain": [
       "                     gtfs_dataset_key  \\\n",
       "0    00accf770009aafd5dc103ff2eeddb37   \n",
       "1    00accf770009aafd5dc103ff2eeddb37   \n",
       "2    00accf770009aafd5dc103ff2eeddb37   \n",
       "3    00accf770009aafd5dc103ff2eeddb37   \n",
       "4    00accf770009aafd5dc103ff2eeddb37   \n",
       "..                                ...   \n",
       "433  00accf770009aafd5dc103ff2eeddb37   \n",
       "434  00accf770009aafd5dc103ff2eeddb37   \n",
       "435  00accf770009aafd5dc103ff2eeddb37   \n",
       "436  00accf770009aafd5dc103ff2eeddb37   \n",
       "437  00accf770009aafd5dc103ff2eeddb37   \n",
       "\n",
       "                                    _gtfs_dataset_name  \\\n",
       "0    Bay Area 511 Sonoma County Transit Vehicle Pos...   \n",
       "1    Bay Area 511 Sonoma County Transit Vehicle Pos...   \n",
       "2    Bay Area 511 Sonoma County Transit Vehicle Pos...   \n",
       "3    Bay Area 511 Sonoma County Transit Vehicle Pos...   \n",
       "4    Bay Area 511 Sonoma County Transit Vehicle Pos...   \n",
       "..                                                 ...   \n",
       "433  Bay Area 511 Sonoma County Transit Vehicle Pos...   \n",
       "434  Bay Area 511 Sonoma County Transit Vehicle Pos...   \n",
       "435  Bay Area 511 Sonoma County Transit Vehicle Pos...   \n",
       "436  Bay Area 511 Sonoma County Transit Vehicle Pos...   \n",
       "437  Bay Area 511 Sonoma County Transit Vehicle Pos...   \n",
       "\n",
       "                    trip_id location_timestamp_local  vp_idx  \\\n",
       "0    t_1995375_b_33395_tn_0      2023-05-17 10:58:06       0   \n",
       "1    t_1995375_b_33395_tn_0      2023-05-17 11:33:14     105   \n",
       "2    t_1995375_b_33395_tn_0      2023-05-17 15:19:09     210   \n",
       "3    t_1995378_b_33395_tn_0      2023-05-17 15:35:13     211   \n",
       "4    t_1995378_b_33395_tn_0      2023-05-17 15:49:31     254   \n",
       "..                      ...                      ...     ...   \n",
       "433  t_5561800_b_80156_tn_0      2023-05-17 08:06:40   31742   \n",
       "434  t_5561800_b_80156_tn_0      2023-05-17 08:59:37   31893   \n",
       "435  t_5562081_b_80156_tn_0      2023-05-17 07:31:16   32887   \n",
       "436  t_5562081_b_80156_tn_0      2023-05-17 07:48:35   32939   \n",
       "437  t_5562081_b_80156_tn_0      2023-05-17 08:10:56   32991   \n",
       "\n",
       "                             feed_key                   shape_array_key  \\\n",
       "0    9c93eedde54ab5f9a25ba51b977358b8  70f010e0dba18191937ed4b5bea42e8a   \n",
       "1    9c93eedde54ab5f9a25ba51b977358b8  70f010e0dba18191937ed4b5bea42e8a   \n",
       "2    9c93eedde54ab5f9a25ba51b977358b8  70f010e0dba18191937ed4b5bea42e8a   \n",
       "3    9c93eedde54ab5f9a25ba51b977358b8  b09dd070bdd68ca007a683a522af4c32   \n",
       "4    9c93eedde54ab5f9a25ba51b977358b8  b09dd070bdd68ca007a683a522af4c32   \n",
       "..                                ...                               ...   \n",
       "433  9c93eedde54ab5f9a25ba51b977358b8  1c31b8e8f6cfa9b1edeea8f6c5fcddb2   \n",
       "434  9c93eedde54ab5f9a25ba51b977358b8  1c31b8e8f6cfa9b1edeea8f6c5fcddb2   \n",
       "435  9c93eedde54ab5f9a25ba51b977358b8  0e69f3b447f85898af234663d28cf1e4   \n",
       "436  9c93eedde54ab5f9a25ba51b977358b8  0e69f3b447f85898af234663d28cf1e4   \n",
       "437  9c93eedde54ab5f9a25ba51b977358b8  0e69f3b447f85898af234663d28cf1e4   \n",
       "\n",
       "     shape_meters  \n",
       "0     3989.879409  \n",
       "1     3989.879409  \n",
       "2     4874.678103  \n",
       "3     5369.104340  \n",
       "4    12736.932143  \n",
       "..            ...  \n",
       "433  22384.842522  \n",
       "434  44355.356656  \n",
       "435      0.000000  \n",
       "436   5667.411467  \n",
       "437  16068.813410  \n",
       "\n",
       "[438 rows x 8 columns]"
      ]
     },
     "execution_count": 29,
     "metadata": {},
     "output_type": "execute_result"
    }
   ],
   "source": [
    "df2.compute()"
   ]
  },
  {
   "cell_type": "code",
   "execution_count": null,
   "id": "ceba2caa-d364-40ca-bc88-27e22e6930ba",
   "metadata": {},
   "outputs": [],
   "source": []
  }
 ],
 "metadata": {
  "kernelspec": {
   "display_name": "Python 3 (ipykernel)",
   "language": "python",
   "name": "python3"
  },
  "language_info": {
   "codemirror_mode": {
    "name": "ipython",
    "version": 3
   },
   "file_extension": ".py",
   "mimetype": "text/x-python",
   "name": "python",
   "nbconvert_exporter": "python",
   "pygments_lexer": "ipython3",
   "version": "3.9.13"
  }
 },
 "nbformat": 4,
 "nbformat_minor": 5
}
