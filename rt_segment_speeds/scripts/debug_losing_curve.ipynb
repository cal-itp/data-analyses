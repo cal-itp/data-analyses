{
 "cells": [
  {
   "cell_type": "markdown",
   "id": "cadc58c2-8def-4b59-8e3a-56b24bad7598",
   "metadata": {},
   "source": [
    "# stop-to-stop segments"
   ]
  },
  {
   "cell_type": "code",
   "execution_count": 1,
   "id": "5b7df073-bf19-4fa6-bf3a-64dd18204457",
   "metadata": {},
   "outputs": [
    {
     "name": "stderr",
     "output_type": "stream",
     "text": [
      "/opt/conda/lib/python3.9/site-packages/geopandas/_compat.py:123: UserWarning: The Shapely GEOS version (3.10.3-CAPI-1.16.1) is incompatible with the GEOS version PyGEOS was compiled with (3.10.1-CAPI-1.16.0). Conversions between both will be slow.\n",
      "  warnings.warn(\n"
     ]
    }
   ],
   "source": [
    "import dask_geopandas as dg\n",
    "import dask.dataframe as dd\n",
    "import geopandas as gpd\n",
    "import pandas as pd\n",
    "import shapely\n",
    "\n",
    "from update_vars import SEGMENT_GCS, COMPILED_CACHED_VIEWS, analysis_date"
   ]
  },
  {
   "cell_type": "code",
   "execution_count": 37,
   "id": "2b559812-14a4-4888-80be-871454d9ac1a",
   "metadata": {},
   "outputs": [],
   "source": [
    "#test_shape = \"b315bbbd7eff442b38f52615fde4a2d2\"\n",
    "df = gpd.read_parquet(\n",
    "    f\"./data/stops_projected.parquet\", \n",
    "    #filters = [[(\"shape_array_key\", \"==\", test_shape)]]\n",
    ")"
   ]
  },
  {
   "cell_type": "code",
   "execution_count": 53,
   "id": "1498892d-75fa-4c2c-98a6-5990f9022032",
   "metadata": {},
   "outputs": [],
   "source": [
    "test = df.head(100)"
   ]
  },
  {
   "cell_type": "code",
   "execution_count": 62,
   "id": "41d761f1-cf13-4e77-933c-97ea9ded03f3",
   "metadata": {},
   "outputs": [],
   "source": [
    "segment_endpoint_x = np.array(test.stop_interpolated.x)\n",
    "segment_endpoint_y = np.array(test.stop_interpolated.y)"
   ]
  },
  {
   "cell_type": "code",
   "execution_count": 65,
   "id": "9b38f9af-29b5-4ec1-a525-e162afe35d64",
   "metadata": {},
   "outputs": [],
   "source": [
    "#for x, y in zip(segment_endpoint_x, segment_endpoint_y):\n"
   ]
  },
  {
   "cell_type": "code",
   "execution_count": 8,
   "id": "9519d3fd-6b42-491d-b3e5-9ca496aeebfb",
   "metadata": {},
   "outputs": [],
   "source": [
    "break_dist = df.shape_meters.iloc[0].tolist()\n",
    "test_geom = df.shape_geometry.iloc[0]"
   ]
  },
  {
   "cell_type": "code",
   "execution_count": 11,
   "id": "62a0fcb3-e110-41b6-b3f2-94899500bdde",
   "metadata": {},
   "outputs": [],
   "source": [
    "import shapely\n",
    "import numpy as np"
   ]
  },
  {
   "cell_type": "code",
   "execution_count": 80,
   "id": "314f695d-7195-4dbd-af1c-f925ddc8301a",
   "metadata": {},
   "outputs": [
    {
     "data": {
      "text/plain": [
       "(-131169.64161250877, 73212.3800774184)"
      ]
     },
     "execution_count": 80,
     "metadata": {},
     "output_type": "execute_result"
    }
   ],
   "source": [
    "test_geom.coords[0]"
   ]
  },
  {
   "cell_type": "code",
   "execution_count": 29,
   "id": "a03c84eb-38f1-4465-b0a1-808cd6b51685",
   "metadata": {},
   "outputs": [],
   "source": [
    "shape_path_dist = np.array([test_geom.project(shapely.geometry.Point(p)) \n",
    "                   for p in test_geom.coords])"
   ]
  },
  {
   "cell_type": "code",
   "execution_count": 30,
   "id": "36637278-6f23-4ad4-9c3d-5299c78adcc1",
   "metadata": {},
   "outputs": [
    {
     "data": {
      "text/plain": [
       "array([  0.        ,  30.07007915,  72.12851382,  98.20208521,\n",
       "       101.03665904])"
      ]
     },
     "execution_count": 30,
     "metadata": {},
     "output_type": "execute_result"
    }
   ],
   "source": [
    "shape_path_dist[:5]"
   ]
  },
  {
   "cell_type": "code",
   "execution_count": 31,
   "id": "bea06768-1359-423b-b4aa-ad35b99b8f76",
   "metadata": {},
   "outputs": [],
   "source": [
    "first_cut = break_dist[0]"
   ]
  },
  {
   "cell_type": "code",
   "execution_count": 32,
   "id": "7a9d33b5-52d9-4afd-9f56-096095951590",
   "metadata": {},
   "outputs": [
    {
     "data": {
      "text/plain": [
       "numpy.ndarray"
      ]
     },
     "execution_count": 32,
     "metadata": {},
     "output_type": "execute_result"
    }
   ],
   "source": [
    "type(shape_path_dist)"
   ]
  },
  {
   "cell_type": "code",
   "execution_count": 71,
   "id": "56c8e0d4-7d1f-4a3b-b523-8744d83da869",
   "metadata": {},
   "outputs": [],
   "source": [
    "subset = np.where(shape_path_dist <= first_cut)[0]"
   ]
  },
  {
   "cell_type": "code",
   "execution_count": 86,
   "id": "8de37891-666a-4474-98a9-e35aa66bc6f3",
   "metadata": {},
   "outputs": [],
   "source": [
    "last_point = segment_endpoint_x[0], segment_endpoint_y[0]\n"
   ]
  },
  {
   "cell_type": "code",
   "execution_count": 83,
   "id": "e0788df0-0070-43f3-ac04-1601c890f795",
   "metadata": {},
   "outputs": [
    {
     "data": {
      "text/plain": [
       "array([ 0.        , 30.07007915])"
      ]
     },
     "execution_count": 83,
     "metadata": {},
     "output_type": "execute_result"
    }
   ],
   "source": [
    "shape_path_dist[subset] "
   ]
  },
  {
   "cell_type": "code",
   "execution_count": 88,
   "id": "8e48fd59-48d8-4be0-9040-a80b53a77ecc",
   "metadata": {},
   "outputs": [],
   "source": [
    "\n",
    "segmented_line = [test_geom.coords[0], test_geom.coords[1], last_point ]"
   ]
  },
  {
   "cell_type": "code",
   "execution_count": 92,
   "id": "7b33814d-2ca8-4633-8422-4683a51ab8db",
   "metadata": {},
   "outputs": [
    {
     "data": {
      "image/svg+xml": [
       "<svg xmlns=\"http://www.w3.org/2000/svg\" xmlns:xlink=\"http://www.w3.org/1999/xlink\" width=\"100.0\" height=\"100.0\" viewBox=\"-131171.96607743707 73196.52645558167 62.76055306420312 18.178086765037733\" preserveAspectRatio=\"xMinYMin meet\"><g transform=\"matrix(1,0,0,-1,0,146411.23099792836)\"><polyline fill=\"none\" stroke=\"#66cc99\" stroke-width=\"1.2552110612840623\" points=\"-131169.64161250877,73212.3800774184 -131140.18181688062,73206.35263170302 -131111.52998930117,73198.85092050997\" opacity=\"0.8\" /></g></svg>"
      ],
      "text/plain": [
       "<shapely.geometry.linestring.LineString at 0x7f1214325c40>"
      ]
     },
     "execution_count": 92,
     "metadata": {},
     "output_type": "execute_result"
    }
   ],
   "source": [
    "shapely.geometry.LineString(segmented_line)"
   ]
  },
  {
   "cell_type": "code",
   "execution_count": null,
   "id": "0e08d096-2b91-4272-a4f6-41c7a4548463",
   "metadata": {},
   "outputs": [],
   "source": [
    "# Find the endpoint of that segment\n",
    "# but also keep all the other shapely objects in between\n",
    "# otherwise we lose the curves\n"
   ]
  },
  {
   "cell_type": "code",
   "execution_count": 10,
   "id": "135d5c9c-255a-4f49-93ed-7f2d460e8438",
   "metadata": {},
   "outputs": [
    {
     "name": "stdout",
     "output_type": "stream",
     "text": [
      "0 59.68769037507417\n",
      "1 1031.7252200790044\n"
     ]
    }
   ],
   "source": [
    "for i, dist in enumerate(break_dist[:2]):\n",
    "    # First segment, there's no previous element to take difference against\n",
    "    if i == 0:\n",
    "        return test_geom.coords[0]\n",
    "    # subsequent segment, look for previous breaking distance to continue\n",
    "    elif i > 0:"
   ]
  },
  {
   "cell_type": "code",
   "execution_count": null,
   "id": "e4acfcf7-bb58-4b29-a0ba-1f8e0a1f496f",
   "metadata": {},
   "outputs": [],
   "source": [
    "from shapely.geometry import Point, LineString\n",
    "\n",
    "def cut(line, distance):\n",
    "    if distance <= 0.0 :#line.length:\n",
    "        return [None, LineString(line)]\n",
    "    elif distance >= 1.0:\n",
    "        return [LineString(line), None]\n",
    "    coords = list(line.coords)\n",
    "    for i, p in enumerate(coords):\n",
    "        pd = line.project(Point(p), normalized=True)\n",
    "        if pd == distance:\n",
    "            return [\n",
    "                LineString(coords[:i+1]),\n",
    "                LineString(coords[i:])]\n",
    "        if pd > distance:\n",
    "            cp = line.interpolate(distance, normalized=True)\n",
    "            return [\n",
    "                LineString(coords[:i] + [(cp.x, cp.y)]),\n",
    "                LineString([(cp.x, cp.y)] + coords[i:])]\n",
    "        \n",
    "        \n",
    "def cut_piece(line,distance1, distance2):\n",
    "    \"\"\" From a linestring, this cuts a piece of length lgth at distance.\n",
    "    Needs cut(line,distance) func from above ;-) \n",
    "    \"\"\"\n",
    "    l1 = cut(line, distance1)[1]\n",
    "    l2 = cut(line, distance2)[0]\n",
    "    result = l1.intersection(l2)\n",
    "    return result"
   ]
  },
  {
   "cell_type": "code",
   "execution_count": null,
   "id": "b23fc2ed-7c98-43e4-922e-523a03b84253",
   "metadata": {},
   "outputs": [],
   "source": [
    "test = dg.read_parquet(\n",
    "    f\"{SEGMENT_GCS}test_stop_segments_{analysis_date}\"\n",
    ").compute()"
   ]
  },
  {
   "cell_type": "code",
   "execution_count": null,
   "id": "e902b31a-a444-4f9b-a75b-56b77045253c",
   "metadata": {},
   "outputs": [],
   "source": [
    "test_shape = \"b315bbbd7eff442b38f52615fde4a2d2\"\n",
    "stops = gpd.read_parquet(f\"./data/stops_projected.parquet\", \n",
    "                         filters = [[(\"shape_array_key\", \"==\", test_shape)]]\n",
    "                        )"
   ]
  },
  {
   "cell_type": "code",
   "execution_count": null,
   "id": "3e89ef01-af17-41bc-9137-05f7c6cf5de1",
   "metadata": {},
   "outputs": [],
   "source": [
    "import folium"
   ]
  },
  {
   "cell_type": "code",
   "execution_count": null,
   "id": "bec1058d-4b20-4430-a66a-8bf9178beca0",
   "metadata": {},
   "outputs": [],
   "source": [
    "test[test.shape_array_key==test_shape].tail(3).explore('segment_sequence',\n",
    "    tiles='CartoDB Positron', categorical=True)"
   ]
  },
  {
   "cell_type": "code",
   "execution_count": null,
   "id": "e0cb1e41-3ea1-4f10-a80b-f5ac95154da4",
   "metadata": {},
   "outputs": [],
   "source": [
    "m = test[test.shape_array_key==test_shape].explore(\n",
    "    \"segment_sequence\", tiles=\"CartoDB Positron\", \n",
    "    name = \"segments\", legend=False,\n",
    "    categorical = True, cmap = \"tab20\",\n",
    "    highlight = True,\n",
    "    highlight_kwds = {'fillColor': '#DD1C77',\"fillOpacity\": 0.6},\n",
    "    style_kwds = {\n",
    "        \"width\": 5\n",
    "    }\n",
    ")\n",
    "\n",
    "stops.explore(\"stop_sequence\", m=m, categorical = False, name=\"stops\")\n",
    "folium.LayerControl().add_to(m)\n",
    "m"
   ]
  },
  {
   "cell_type": "code",
   "execution_count": null,
   "id": "a322768e-6f6c-421b-8fcb-1cde1728912d",
   "metadata": {},
   "outputs": [],
   "source": [
    "stops_projected = gpd.read_parquet(\"./data/stops_projected.parquet\")"
   ]
  },
  {
   "cell_type": "code",
   "execution_count": null,
   "id": "5a919230-efb1-4323-9fc8-20c5f941e648",
   "metadata": {},
   "outputs": [],
   "source": [
    "r1 = results[0].compute()"
   ]
  },
  {
   "cell_type": "code",
   "execution_count": null,
   "id": "79567d0f-ef27-47ee-a891-294ce4699a6a",
   "metadata": {},
   "outputs": [],
   "source": [
    "r1[r1.segment_sequence <= 1].explore(\n",
    "    \"segment_sequence\", tiles=\"Carto DB Positron\")"
   ]
  },
  {
   "cell_type": "code",
   "execution_count": null,
   "id": "301f33f0-5abd-42c4-a98c-f9e7a3cebf3d",
   "metadata": {},
   "outputs": [],
   "source": [
    "r1.shape_array_key.unique()"
   ]
  },
  {
   "cell_type": "code",
   "execution_count": null,
   "id": "a6352e22-2f39-494b-9833-6db442fa0ac7",
   "metadata": {},
   "outputs": [],
   "source": [
    "stops = stops_projected[\n",
    "    stops_projected.shape_array_key==r1.shape_array_key.iloc[0]]"
   ]
  },
  {
   "cell_type": "code",
   "execution_count": null,
   "id": "87e17b78-a3e2-4cd1-939d-6e7756b9eaf2",
   "metadata": {},
   "outputs": [],
   "source": [
    "stops[[\"stop_id\", \"stop_sequence\", \"geometry\"]]"
   ]
  },
  {
   "cell_type": "code",
   "execution_count": null,
   "id": "1a47e033-d778-47da-84b2-01d49006637a",
   "metadata": {},
   "outputs": [],
   "source": [
    "r1.plot(\"segment_sequence\")"
   ]
  },
  {
   "cell_type": "code",
   "execution_count": null,
   "id": "b88f6dc2-4141-4808-84fc-805209ae6a86",
   "metadata": {},
   "outputs": [],
   "source": [
    "r1.segment_sequence.max()"
   ]
  },
  {
   "cell_type": "code",
   "execution_count": null,
   "id": "9a6a76c8-20f9-4554-a7f9-8f7e94068f2e",
   "metadata": {},
   "outputs": [],
   "source": [
    "r1.segment_sequence.min()"
   ]
  },
  {
   "cell_type": "code",
   "execution_count": null,
   "id": "86100006-3507-411b-a044-3d7e1aa20437",
   "metadata": {},
   "outputs": [],
   "source": []
  }
 ],
 "metadata": {
  "kernelspec": {
   "display_name": "Python 3 (ipykernel)",
   "language": "python",
   "name": "python3"
  },
  "language_info": {
   "codemirror_mode": {
    "name": "ipython",
    "version": 3
   },
   "file_extension": ".py",
   "mimetype": "text/x-python",
   "name": "python",
   "nbconvert_exporter": "python",
   "pygments_lexer": "ipython3",
   "version": "3.9.13"
  }
 },
 "nbformat": 4,
 "nbformat_minor": 5
}
