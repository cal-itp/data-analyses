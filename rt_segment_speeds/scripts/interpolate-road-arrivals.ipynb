{
 "cells": [
  {
   "cell_type": "code",
   "execution_count": null,
   "id": "587aceb5-de68-4b6f-9810-1adce8d7a60b",
   "metadata": {},
   "outputs": [],
   "source": [
    "#!pip install shapely==2.0.2"
   ]
  },
  {
   "cell_type": "code",
   "execution_count": 2,
   "id": "5734f6b0-2fb6-40c3-99b5-14d5cb459511",
   "metadata": {},
   "outputs": [],
   "source": [
    "import dask.dataframe as dd\n",
    "import geopandas as gpd\n",
    "import numpy as np\n",
    "import pandas as pd\n",
    "import shapely\n",
    "\n",
    "from segment_speed_utils import helpers, wrangle_shapes\n",
    "from segment_speed_utils.project_vars import SEGMENT_GCS, analysis_date"
   ]
  },
  {
   "cell_type": "code",
   "execution_count": 3,
   "id": "02429796-db0a-4a81-8807-a72d6535db0a",
   "metadata": {},
   "outputs": [],
   "source": [
    "vp_usable = dd.read_parquet(\n",
    "    f\"{SEGMENT_GCS}vp_usable_{analysis_date}/\",\n",
    "    columns = [\"vp_idx\",  \"location_timestamp_local\"],\n",
    ")"
   ]
  },
  {
   "cell_type": "code",
   "execution_count": 4,
   "id": "ee326ded-177d-468c-9d45-94a48c3a988e",
   "metadata": {},
   "outputs": [],
   "source": [
    "# shape_meters is here\n",
    "vp_projected = pd.read_parquet(\n",
    "    f\"{SEGMENT_GCS}projection/vp_projected_roads_{analysis_date}.parquet\",\n",
    ")"
   ]
  },
  {
   "cell_type": "code",
   "execution_count": 5,
   "id": "d88e260b-8829-4f16-a967-851b7ee7b334",
   "metadata": {},
   "outputs": [
    {
     "data": {
      "text/plain": [
       "(Index(['vp_idx', 'location_timestamp_local'], dtype='object'),\n",
       " Index(['vp_idx', 'trip_instance_key', 'linearid', 'mtfcc', 'shape_meters'], dtype='object'))"
      ]
     },
     "execution_count": 5,
     "metadata": {},
     "output_type": "execute_result"
    }
   ],
   "source": [
    "vp_usable.columns, vp_projected.columns"
   ]
  },
  {
   "cell_type": "code",
   "execution_count": 6,
   "id": "fd51e987-0a02-4c70-b645-a79548f341d5",
   "metadata": {},
   "outputs": [],
   "source": [
    "vp_info = dd.merge(\n",
    "    vp_usable,\n",
    "    vp_projected,\n",
    "    on = \"vp_idx\",\n",
    "    how = \"inner\"\n",
    ")"
   ]
  },
  {
   "cell_type": "code",
   "execution_count": 8,
   "id": "1395a1db-8a62-430c-b13e-a07a106a6321",
   "metadata": {},
   "outputs": [],
   "source": [
    "vp_info = vp_info.persist()"
   ]
  },
  {
   "cell_type": "code",
   "execution_count": 9,
   "id": "5307079a-ca4c-4291-9322-285032c24ea4",
   "metadata": {},
   "outputs": [],
   "source": [
    "nearest_df = pd.read_parquet(\n",
    "    f\"{SEGMENT_GCS}nearest_vp_roads_{analysis_date}.parquet\"\n",
    ")"
   ]
  },
  {
   "cell_type": "code",
   "execution_count": 10,
   "id": "72224d18-35e0-4403-8b1e-842c808859d8",
   "metadata": {},
   "outputs": [],
   "source": [
    "vp_df = vp_info.compute()"
   ]
  },
  {
   "cell_type": "code",
   "execution_count": 15,
   "id": "268bf12b-2d34-4833-a7ac-5f9ac1631beb",
   "metadata": {},
   "outputs": [
    {
     "data": {
      "text/html": [
       "<div>\n",
       "<style scoped>\n",
       "    .dataframe tbody tr th:only-of-type {\n",
       "        vertical-align: middle;\n",
       "    }\n",
       "\n",
       "    .dataframe tbody tr th {\n",
       "        vertical-align: top;\n",
       "    }\n",
       "\n",
       "    .dataframe thead th {\n",
       "        text-align: right;\n",
       "    }\n",
       "</style>\n",
       "<table border=\"1\" class=\"dataframe\">\n",
       "  <thead>\n",
       "    <tr style=\"text-align: right;\">\n",
       "      <th></th>\n",
       "      <th>vp_idx</th>\n",
       "      <th>location_timestamp_local</th>\n",
       "      <th>trip_instance_key</th>\n",
       "      <th>linearid</th>\n",
       "      <th>mtfcc</th>\n",
       "      <th>shape_meters</th>\n",
       "    </tr>\n",
       "  </thead>\n",
       "  <tbody>\n",
       "    <tr>\n",
       "      <th>0</th>\n",
       "      <td>68016</td>\n",
       "      <td>2023-10-11 10:09:15</td>\n",
       "      <td>f26f828162f83b19644fdebcabb2439c</td>\n",
       "      <td>11010927740446</td>\n",
       "      <td>S1200</td>\n",
       "      <td>3109.907089</td>\n",
       "    </tr>\n",
       "    <tr>\n",
       "      <th>1</th>\n",
       "      <td>68017</td>\n",
       "      <td>2023-10-11 10:09:30</td>\n",
       "      <td>f26f828162f83b19644fdebcabb2439c</td>\n",
       "      <td>11010927740446</td>\n",
       "      <td>S1200</td>\n",
       "      <td>3127.906806</td>\n",
       "    </tr>\n",
       "  </tbody>\n",
       "</table>\n",
       "</div>"
      ],
      "text/plain": [
       "   vp_idx location_timestamp_local                 trip_instance_key  \\\n",
       "0   68016      2023-10-11 10:09:15  f26f828162f83b19644fdebcabb2439c   \n",
       "1   68017      2023-10-11 10:09:30  f26f828162f83b19644fdebcabb2439c   \n",
       "\n",
       "         linearid  mtfcc  shape_meters  \n",
       "0  11010927740446  S1200   3109.907089  \n",
       "1  11010927740446  S1200   3127.906806  "
      ]
     },
     "execution_count": 15,
     "metadata": {},
     "output_type": "execute_result"
    }
   ],
   "source": [
    "vp_df.head(2)"
   ]
  },
  {
   "cell_type": "code",
   "execution_count": 17,
   "id": "5ed1559f-7b6b-4247-8769-04383cbb01ad",
   "metadata": {},
   "outputs": [
    {
     "data": {
      "text/plain": [
       "Index(['linearid', 'mtfcc', 'segment_sequence', 'primary_direction',\n",
       "       'road_meters', 'trip_instance_key', 'nearest_vp_idx', 'subseq_vp_idx'],\n",
       "      dtype='object')"
      ]
     },
     "execution_count": 17,
     "metadata": {},
     "output_type": "execute_result"
    }
   ],
   "source": [
    "nearest_df.columns"
   ]
  },
  {
   "cell_type": "code",
   "execution_count": 21,
   "id": "98310204-b9f0-4ee0-a51f-00599dd66746",
   "metadata": {},
   "outputs": [],
   "source": [
    "road_id_cols = [\"linearid\", \"mtfcc\"]\n",
    "\n",
    "vp_with_nearest_info = pd.merge(\n",
    "    nearest_df,\n",
    "    vp_df.rename(columns = {\n",
    "        \"vp_idx\": \"nearest_vp_idx\",\n",
    "        \"location_timestamp_local\": \"nearest_location_timestamp_local\",\n",
    "        \"shape_meters\": \"nearest_shape_meters\"\n",
    "    }),\n",
    "    on = road_id_cols + [\"trip_instance_key\", \"nearest_vp_idx\"],\n",
    "    how = \"inner\"\n",
    ")"
   ]
  },
  {
   "cell_type": "code",
   "execution_count": 22,
   "id": "6b57ae01-32d1-4bf4-93f7-ea0bbeb28d29",
   "metadata": {},
   "outputs": [],
   "source": [
    "df = pd.merge(\n",
    "    vp_with_nearest_info,\n",
    "    vp_df.rename(columns = {\n",
    "        \"vp_idx\": \"subseq_vp_idx\",\n",
    "        \"location_timestamp_local\": \"subseq_location_timestamp_local\",\n",
    "        \"shape_meters\": \"subseq_shape_meters\"\n",
    "    }),    \n",
    "    on = road_id_cols + [\"trip_instance_key\", \"subseq_vp_idx\"],\n",
    "    how = \"inner\"\n",
    ")"
   ]
  },
  {
   "cell_type": "code",
   "execution_count": 24,
   "id": "44977c15-1198-4c6a-ae5c-31e200d5181e",
   "metadata": {},
   "outputs": [],
   "source": [
    "def get_stop_arrivals(df: pd.DataFrame) -> pd.DataFrame:\n",
    "    \"\"\"\n",
    "    Apply np.interp to df.\n",
    "    df must be set up so that a given stop is populated with its\n",
    "    own stop_meters, as well as columns for nearest and subseq \n",
    "    shape_meters / location_timestamp_local_sec.\n",
    "    \"\"\"\n",
    "    x_col = \"shape_meters\"\n",
    "    y_col = \"location_timestamp_local\"\n",
    "    \n",
    "    stop_arrival_series = []\n",
    "    for row in df.itertuples():\n",
    "\n",
    "        xp = np.asarray([\n",
    "            getattr(row, f\"nearest_{x_col}\"), \n",
    "            getattr(row, f\"subseq_{x_col}\")\n",
    "        ])\n",
    "\n",
    "        yp = np.asarray([\n",
    "            getattr(row, f\"nearest_{y_col}\"), \n",
    "            getattr(row, f\"subseq_{y_col}\")\n",
    "        ]).astype(\"datetime64[s]\").astype(\"float64\")\n",
    "\n",
    "        stop_position = getattr(row, \"road_meters\")\n",
    "        interpolated_arrival = np.interp(stop_position, xp, yp)\n",
    "        stop_arrival_series.append(interpolated_arrival)\n",
    "        \n",
    "    df = df.assign(\n",
    "        arrival_time = stop_arrival_series,\n",
    "    ).astype(\n",
    "        {\"arrival_time\": \"datetime64[s]\"}\n",
    "    ).sort_values(\n",
    "        [\"trip_instance_key\", \n",
    "        \"linearid\", \"mtfcc\", \"segment_sequence\"]\n",
    "    ).reset_index(drop=True)\n",
    "    \n",
    "    return df"
   ]
  },
  {
   "cell_type": "code",
   "execution_count": 26,
   "id": "3b7304ba-6b69-4846-b41a-bc63330ef172",
   "metadata": {},
   "outputs": [],
   "source": [
    "stop_arrivals = get_stop_arrivals(df)"
   ]
  },
  {
   "cell_type": "code",
   "execution_count": 31,
   "id": "1f3efa8d-3169-46e9-975a-141543b8a673",
   "metadata": {},
   "outputs": [],
   "source": [
    "STOP_ARRIVALS_FILE = f\"stop_arrivals_roads_{analysis_date}\"\n",
    "stop_arrivals.to_parquet(\n",
    "        f\"{SEGMENT_GCS}{STOP_ARRIVALS_FILE}.parquet\")"
   ]
  },
  {
   "cell_type": "markdown",
   "id": "00d84c3d-262d-43e5-9fdd-a6bc0252d9ed",
   "metadata": {},
   "source": [
    "References:\n",
    "* https://gis.stackexchange.com/questions/416284/splitting-multiline-or-linestring-into-equal-segments-of-particular-length-using\n",
    "* https://gis.stackexchange.com/questions/250784/splitting-line-shapefile-into-segments-of-equal-length-using-python/414888#414888\n",
    "* https://gis.stackexchange.com/questions/464336/change-geopandas-geometry-from-geometrycollection-to-multipolygon"
   ]
  },
  {
   "cell_type": "code",
   "execution_count": null,
   "id": "a7f066be-b6cc-459c-969c-6760610d9857",
   "metadata": {},
   "outputs": [],
   "source": []
  },
  {
   "cell_type": "code",
   "execution_count": null,
   "id": "43320d0a-c515-465b-98ff-ed99e893ebad",
   "metadata": {},
   "outputs": [],
   "source": []
  },
  {
   "cell_type": "code",
   "execution_count": null,
   "id": "33b9cb86-faa7-4b9c-8b16-20e8caa30eb7",
   "metadata": {},
   "outputs": [],
   "source": []
  }
 ],
 "metadata": {
  "kernelspec": {
   "display_name": "Python 3 (ipykernel)",
   "language": "python",
   "name": "python3"
  },
  "language_info": {
   "codemirror_mode": {
    "name": "ipython",
    "version": 3
   },
   "file_extension": ".py",
   "mimetype": "text/x-python",
   "name": "python",
   "nbconvert_exporter": "python",
   "pygments_lexer": "ipython3",
   "version": "3.9.13"
  }
 },
 "nbformat": 4,
 "nbformat_minor": 5
}
