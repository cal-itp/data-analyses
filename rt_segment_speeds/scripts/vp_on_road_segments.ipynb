{
 "cells": [
  {
   "cell_type": "code",
   "execution_count": 1,
   "id": "2f5664d9-95fb-4d90-8a96-5c73fcbf1db2",
   "metadata": {},
   "outputs": [],
   "source": [
    "import dask.dataframe as dd\n",
    "import geopandas as gpd\n",
    "import numpy as np\n",
    "import pandas as pd\n",
    "\n",
    "from segment_speed_utils import helpers, wrangle_shapes\n",
    "from segment_speed_utils.project_vars import (SEGMENT_GCS, \n",
    "                                              CONFIG_PATH, PROJECT_CRS)\n",
    "\n",
    "from segment_speed_utils.project_vars import analysis_date_list\n",
    "analysis_date = analysis_date_list[0]\n",
    "\n",
    "road_id_cols = [\"linearid\", \"mtfcc\"]\n",
    "segment_identifier_cols = road_id_cols + [\"segment_sequence\"]\n",
    "\n",
    "test_trip = \"00139041e36b607c7e10cb7ec023e837\""
   ]
  },
  {
   "cell_type": "code",
   "execution_count": 18,
   "id": "6d256a6f-9849-415b-9c00-7166396633d9",
   "metadata": {},
   "outputs": [],
   "source": [
    "def merge_vp_to_crosswalk(\n",
    "    analysis_date: str, \n",
    "    filters: tuple\n",
    "):\n",
    "    # vp to road segment crosswalk\n",
    "    df = pd.read_parquet(\n",
    "        f\"{SEGMENT_GCS}vp_sjoin/vp_road_segments_wide_{analysis_date}.parquet\",\n",
    "        filters = filters\n",
    "    )\n",
    "    \n",
    "    # only keep the road segments that have at least 2 vp\n",
    "    df = df.assign(\n",
    "        n_vp = df.apply(lambda x: len(x.vp_idx_arr), axis=1)\n",
    "    ).query('n_vp > 1').drop(columns = \"n_vp\").reset_index(drop=True)\n",
    "    \n",
    "    df_long = df.explode(\n",
    "        \"vp_idx_arr\", \n",
    "        ignore_index=True\n",
    "    ).rename(columns = {\"vp_idx_arr\": \"vp_idx\"}).astype({\"vp_idx\": \"int64\"})\n",
    "        \n",
    "    # Turn series of arrays into 1d array\n",
    "    #subset_vp = np.concatenate(np.asarray(df.vp_idx_arr))\n",
    "    subset_vp = df_long.vp_idx.tolist()\n",
    "    \n",
    "    # Pull the vp info for ones that join to road segments\n",
    "    vp_usable = dd.read_parquet(\n",
    "        f\"{SEGMENT_GCS}vp_usable_{analysis_date}\",\n",
    "        filters = [[(\"vp_idx\", \"in\", subset_vp)]],\n",
    "        columns = [\"vp_idx\", \"x\", \"y\"],\n",
    "    )\n",
    "    \n",
    "    vp_with_roads = dd.merge(\n",
    "        vp_usable,\n",
    "        df_long,\n",
    "        on = \"vp_idx\",\n",
    "        how = \"inner\"\n",
    "    )\n",
    "    \n",
    "    return vp_with_roads"
   ]
  },
  {
   "cell_type": "code",
   "execution_count": 19,
   "id": "251c4aad-b470-4ee6-b52d-f7b151dc46af",
   "metadata": {},
   "outputs": [
    {
     "name": "stdout",
     "output_type": "stream",
     "text": [
      "Index(['trip_instance_key', 'linearid', 'mtfcc', 'primary_direction',\n",
      "       'vp_idx'],\n",
      "      dtype='object')\n"
     ]
    }
   ],
   "source": [
    "vp = merge_vp_to_crosswalk(\n",
    "    analysis_date,\n",
    "    filters = [[(\"trip_instance_key\", \"==\", test_trip)]]\n",
    ")"
   ]
  },
  {
   "cell_type": "code",
   "execution_count": 22,
   "id": "b81717ec-0985-4fd4-8c7c-9326127851d3",
   "metadata": {},
   "outputs": [],
   "source": [
    "subset_roads = vp.linearid.unique().compute().tolist()"
   ]
  },
  {
   "cell_type": "code",
   "execution_count": 23,
   "id": "d4d5f5e0-7650-4bfc-bfbd-dbce2bd2ac5f",
   "metadata": {},
   "outputs": [],
   "source": [
    "def expand_relevant_road_segments(\n",
    "    analysis_date: str,\n",
    "    segment_identifier_cols: list = [\"linearid\", \"mtfcc\",\n",
    "                                     \"segment_sequence\"],\n",
    "    filtering = None\n",
    "):\n",
    "    sjoin_results = pd.read_parquet(\n",
    "        f\"{SEGMENT_GCS}vp_sjoin/vp_road_segments_{analysis_date}\",\n",
    "        columns = segment_identifier_cols\n",
    "    ).drop_duplicates()\n",
    "    \n",
    "    \n",
    "    full_road_info = gpd.read_parquet(\n",
    "        f\"{SEGMENT_GCS}segments_staging/\"\n",
    "        f\"roads_with_cutpoints_long_{analysis_date}.parquet\",\n",
    "        filters = filtering\n",
    "    )\n",
    "    \n",
    "    road_segments = gpd.read_parquet(\n",
    "        f\"{SEGMENT_GCS}road_segments_{analysis_date}\",\n",
    "        filters = [[(\"mtfcc\", \"in\", [\"S1100\", \"S1200\"])]],\n",
    "        columns = segment_identifier_cols + [\n",
    "            \"primary_direction\", \"destination\"],\n",
    "    ).merge(\n",
    "        sjoin_results,\n",
    "        on = segment_identifier_cols,\n",
    "        how = \"inner\"\n",
    "    ).merge(\n",
    "        full_road_info,\n",
    "        on = segment_identifier_cols,\n",
    "        how = \"inner\"\n",
    "    )\n",
    "    \n",
    "    return road_segments"
   ]
  },
  {
   "cell_type": "code",
   "execution_count": 24,
   "id": "e22e5754-9dac-447b-bfb5-dfb33e734552",
   "metadata": {},
   "outputs": [],
   "source": [
    "road_segments = expand_relevant_road_segments(\n",
    "    analysis_date,\n",
    "    segment_identifier_cols = segment_identifier_cols,\n",
    "    filtering = [[(\"linearid\", \"in\", subset_roads)]],\n",
    ")"
   ]
  },
  {
   "cell_type": "code",
   "execution_count": 25,
   "id": "5a9f7bb4-c767-4264-b24f-f4bd9689f18c",
   "metadata": {},
   "outputs": [],
   "source": [
    "vp = vp.repartition(npartitions=3)"
   ]
  },
  {
   "cell_type": "code",
   "execution_count": 26,
   "id": "fc2dc807-c97c-4a20-98da-fa97ad3835fc",
   "metadata": {},
   "outputs": [],
   "source": [
    "road_dtypes = vp[road_id_cols].dtypes.to_dict()\n",
    "\n",
    "res = vp.map_partitions(\n",
    "    wrangle_shapes.project_vp_onto_segment_geometry,\n",
    "    road_segments,\n",
    "    grouping_cols = road_id_cols,\n",
    "    meta = {\n",
    "        \"vp_idx\": \"int64\",\n",
    "        **road_dtypes,\n",
    "        \"shape_meters\": \"float\"},\n",
    "    align_dataframes = False\n",
    ")"
   ]
  },
  {
   "cell_type": "code",
   "execution_count": 27,
   "id": "1edb825e-de02-467a-ad09-2e616af908ff",
   "metadata": {},
   "outputs": [],
   "source": [
    "result = res.compute()"
   ]
  },
  {
   "cell_type": "code",
   "execution_count": 28,
   "id": "0f1f0622-5d93-4a6a-81b9-8003a9d0ae31",
   "metadata": {},
   "outputs": [
    {
     "data": {
      "text/html": [
       "<div>\n",
       "<style scoped>\n",
       "    .dataframe tbody tr th:only-of-type {\n",
       "        vertical-align: middle;\n",
       "    }\n",
       "\n",
       "    .dataframe tbody tr th {\n",
       "        vertical-align: top;\n",
       "    }\n",
       "\n",
       "    .dataframe thead th {\n",
       "        text-align: right;\n",
       "    }\n",
       "</style>\n",
       "<table border=\"1\" class=\"dataframe\">\n",
       "  <thead>\n",
       "    <tr style=\"text-align: right;\">\n",
       "      <th></th>\n",
       "      <th>vp_idx</th>\n",
       "      <th>linearid</th>\n",
       "      <th>mtfcc</th>\n",
       "      <th>shape_meters</th>\n",
       "    </tr>\n",
       "  </thead>\n",
       "  <tbody>\n",
       "    <tr>\n",
       "      <th>0</th>\n",
       "      <td>6911436</td>\n",
       "      <td>1104475175563</td>\n",
       "      <td>S1200</td>\n",
       "      <td>3434.340438</td>\n",
       "    </tr>\n",
       "    <tr>\n",
       "      <th>6</th>\n",
       "      <td>6911437</td>\n",
       "      <td>1104475175563</td>\n",
       "      <td>S1200</td>\n",
       "      <td>3586.273915</td>\n",
       "    </tr>\n",
       "    <tr>\n",
       "      <th>12</th>\n",
       "      <td>6911438</td>\n",
       "      <td>1104475175563</td>\n",
       "      <td>S1200</td>\n",
       "      <td>3665.615087</td>\n",
       "    </tr>\n",
       "    <tr>\n",
       "      <th>18</th>\n",
       "      <td>6911439</td>\n",
       "      <td>1104475175563</td>\n",
       "      <td>S1200</td>\n",
       "      <td>3693.597353</td>\n",
       "    </tr>\n",
       "    <tr>\n",
       "      <th>24</th>\n",
       "      <td>6911441</td>\n",
       "      <td>1104475175563</td>\n",
       "      <td>S1200</td>\n",
       "      <td>3838.608471</td>\n",
       "    </tr>\n",
       "    <tr>\n",
       "      <th>0</th>\n",
       "      <td>6911442</td>\n",
       "      <td>1104475157864</td>\n",
       "      <td>S1200</td>\n",
       "      <td>2341.209261</td>\n",
       "    </tr>\n",
       "    <tr>\n",
       "      <th>4</th>\n",
       "      <td>6911447</td>\n",
       "      <td>1104475157864</td>\n",
       "      <td>S1200</td>\n",
       "      <td>2757.580687</td>\n",
       "    </tr>\n",
       "    <tr>\n",
       "      <th>8</th>\n",
       "      <td>6911448</td>\n",
       "      <td>1104475157864</td>\n",
       "      <td>S1200</td>\n",
       "      <td>2757.580687</td>\n",
       "    </tr>\n",
       "    <tr>\n",
       "      <th>12</th>\n",
       "      <td>6911443</td>\n",
       "      <td>1104475175563</td>\n",
       "      <td>S1200</td>\n",
       "      <td>3874.573489</td>\n",
       "    </tr>\n",
       "    <tr>\n",
       "      <th>18</th>\n",
       "      <td>6911444</td>\n",
       "      <td>1104475175563</td>\n",
       "      <td>S1200</td>\n",
       "      <td>3949.629694</td>\n",
       "    </tr>\n",
       "    <tr>\n",
       "      <th>0</th>\n",
       "      <td>6911449</td>\n",
       "      <td>1104475157864</td>\n",
       "      <td>S1200</td>\n",
       "      <td>2757.580687</td>\n",
       "    </tr>\n",
       "    <tr>\n",
       "      <th>4</th>\n",
       "      <td>6911463</td>\n",
       "      <td>1104475175526</td>\n",
       "      <td>S1200</td>\n",
       "      <td>0.000000</td>\n",
       "    </tr>\n",
       "    <tr>\n",
       "      <th>6</th>\n",
       "      <td>6911464</td>\n",
       "      <td>1104475175526</td>\n",
       "      <td>S1200</td>\n",
       "      <td>643.824159</td>\n",
       "    </tr>\n",
       "    <tr>\n",
       "      <th>8</th>\n",
       "      <td>6911465</td>\n",
       "      <td>1104475175526</td>\n",
       "      <td>S1200</td>\n",
       "      <td>908.193792</td>\n",
       "    </tr>\n",
       "    <tr>\n",
       "      <th>10</th>\n",
       "      <td>6911464</td>\n",
       "      <td>1104475175553</td>\n",
       "      <td>S1200</td>\n",
       "      <td>55.140382</td>\n",
       "    </tr>\n",
       "    <tr>\n",
       "      <th>11</th>\n",
       "      <td>6911465</td>\n",
       "      <td>1104475175553</td>\n",
       "      <td>S1200</td>\n",
       "      <td>319.510016</td>\n",
       "    </tr>\n",
       "  </tbody>\n",
       "</table>\n",
       "</div>"
      ],
      "text/plain": [
       "     vp_idx       linearid  mtfcc  shape_meters\n",
       "0   6911436  1104475175563  S1200   3434.340438\n",
       "6   6911437  1104475175563  S1200   3586.273915\n",
       "12  6911438  1104475175563  S1200   3665.615087\n",
       "18  6911439  1104475175563  S1200   3693.597353\n",
       "24  6911441  1104475175563  S1200   3838.608471\n",
       "0   6911442  1104475157864  S1200   2341.209261\n",
       "4   6911447  1104475157864  S1200   2757.580687\n",
       "8   6911448  1104475157864  S1200   2757.580687\n",
       "12  6911443  1104475175563  S1200   3874.573489\n",
       "18  6911444  1104475175563  S1200   3949.629694\n",
       "0   6911449  1104475157864  S1200   2757.580687\n",
       "4   6911463  1104475175526  S1200      0.000000\n",
       "6   6911464  1104475175526  S1200    643.824159\n",
       "8   6911465  1104475175526  S1200    908.193792\n",
       "10  6911464  1104475175553  S1200     55.140382\n",
       "11  6911465  1104475175553  S1200    319.510016"
      ]
     },
     "execution_count": 28,
     "metadata": {},
     "output_type": "execute_result"
    }
   ],
   "source": [
    "result"
   ]
  },
  {
   "cell_type": "code",
   "execution_count": null,
   "id": "5e579aeb-312d-482e-8895-209a84c8b1c0",
   "metadata": {},
   "outputs": [],
   "source": [
    "df_with_projection = dd.merge(\n",
    "    vp,\n",
    "    result,\n",
    "    on = [\"vp_idx\"] + road_id_cols,\n",
    "    how = \"inner\"\n",
    ").drop(columns = [\"x\", \"y\"]).rename(\n",
    "    columns = {\"shape_meters\": \"road_meters\"}\n",
    ")\n",
    "\n",
    "df_result = df_with_projection.compute()"
   ]
  },
  {
   "cell_type": "code",
   "execution_count": null,
   "id": "a28184ff-64a7-44e6-8441-d3fd890e8792",
   "metadata": {},
   "outputs": [],
   "source": [
    "df_result2 = (df_result\n",
    "                   .groupby([\"trip_instance_key\"] + road_id_cols)\n",
    "                   .agg({\"road_meters\": lambda x: list(x)})\n",
    "                   .reset_index()\n",
    "                  )\n"
   ]
  },
  {
   "cell_type": "code",
   "execution_count": null,
   "id": "292fdbfc-ce49-4806-9a62-1e7249b94a6a",
   "metadata": {},
   "outputs": [],
   "source": [
    "road_segments.head(2)"
   ]
  },
  {
   "cell_type": "code",
   "execution_count": null,
   "id": "4100a2ae-4d21-484d-a390-7f51be49c87d",
   "metadata": {},
   "outputs": [],
   "source": [
    "gdf = pd.merge(\n",
    "    road_segments,\n",
    "    df_result,\n",
    "    on = road_id_cols + [\"primary_direction\"],\n",
    "    how = \"inner\"\n",
    ")"
   ]
  },
  {
   "cell_type": "code",
   "execution_count": null,
   "id": "c344276e-08b7-4ce7-a4cd-e9b86c264d27",
   "metadata": {},
   "outputs": [],
   "source": [
    "gdf.head(2)"
   ]
  },
  {
   "cell_type": "code",
   "execution_count": null,
   "id": "0c81a245-6f96-41a0-9243-a63547565705",
   "metadata": {},
   "outputs": [],
   "source": [
    "for row in gdf.itertuples():\n",
    "    \n",
    "    this_stop_meters = getattr(row, \"road_meters\")\n",
    "    valid_shape_meters_array = getattr(row, \"road_meters_arr\")\n",
    "    \n",
    "    idx = np.searchsorted(\n",
    "        valid_shape_meters_array,\n",
    "        getattr(row, \"road_meters\"),\n",
    "        side=\"right\" \n",
    "        # want our stop_meters value to be < vp_shape_meters,\n",
    "        # side = \"left\" would be stop_meters <= vp_shape_meters\n",
    "    )\n",
    "\n",
    "    # For the next value, if there's nothing to index into, \n",
    "    # just set it to the same position\n",
    "    # if we set subseq_value = getattr(row, )[idx], \n",
    "    # we might not get a consecutive vp\n",
    "    nearest_value = valid_vp_idx_array[idx-1]\n",
    "    subseq_value = nearest_value + 1"
   ]
  },
  {
   "cell_type": "code",
   "execution_count": null,
   "id": "37ab1ef4-9140-4690-ac97-b07a34fd78ef",
   "metadata": {},
   "outputs": [],
   "source": [
    "df_result"
   ]
  },
  {
   "cell_type": "code",
   "execution_count": null,
   "id": "36821511-25cd-4238-b319-b34dd08706b5",
   "metadata": {},
   "outputs": [],
   "source": []
  },
  {
   "cell_type": "code",
   "execution_count": null,
   "id": "f202317d-5ff2-4f97-bcf2-84384bc869c2",
   "metadata": {},
   "outputs": [],
   "source": [
    "df_result = df_with_projection.compute()"
   ]
  },
  {
   "cell_type": "code",
   "execution_count": null,
   "id": "6472a4ee-9938-419d-8695-77e58d67bf69",
   "metadata": {},
   "outputs": [],
   "source": [
    "df_result"
   ]
  },
  {
   "cell_type": "code",
   "execution_count": null,
   "id": "e32ffe83-1af9-4cd1-a4ed-f1ac173bf835",
   "metadata": {},
   "outputs": [],
   "source": []
  },
  {
   "cell_type": "code",
   "execution_count": null,
   "id": "74749441-d855-470f-8e3e-7bb5f50d46b9",
   "metadata": {},
   "outputs": [],
   "source": [
    "road_cutpoints_with_vp_sjoin[\"shape_meters_arr\"] = shape_meters_series"
   ]
  },
  {
   "cell_type": "code",
   "execution_count": null,
   "id": "ebf04877-ad72-45d8-a653-4119b673c4c5",
   "metadata": {},
   "outputs": [],
   "source": [
    "road_cutpoints_with_vp_sjoin[[\"linearid\", \"mtfcc\", \"geometry\",\n",
    "                              #\"trip_instance_key\",\n",
    "                              \"vp_idx_arr\",\n",
    "                             \"road_meters_arr\",\n",
    "                             \"shape_meters_arr\"]]"
   ]
  },
  {
   "cell_type": "markdown",
   "id": "907a3230-7e9f-4557-84fa-89c8c439077d",
   "metadata": {},
   "source": [
    "once the sjoin is done and we know which trip_instance_keys are linked\n",
    "to what road segments,\n",
    "those roads should be expanded from 1 row to many rows.\n",
    "go back to long for road segments, but it should be filtered down so that only the relevant cutpoints are included.\n",
    "\n",
    "then, for vp, that entire array that attached onto the linearid, is put in as an input for search. also leave vp primary direction in.\n",
    "filter that vp array down for just the direction we want, and find the \"nearest\" vp as that array has been projected against the road."
   ]
  },
  {
   "cell_type": "code",
   "execution_count": null,
   "id": "02e3519e-8f46-4d6a-b067-598538dc697e",
   "metadata": {},
   "outputs": [],
   "source": [
    "road_cutpoints_with_vp_sjoin.road_meters_arr.iloc[2]"
   ]
  },
  {
   "cell_type": "code",
   "execution_count": null,
   "id": "b822ee28-d6ca-4189-b3d7-b6adf7c8d0a3",
   "metadata": {},
   "outputs": [],
   "source": [
    "road_cutpoints_with_vp_sjoin.shape_meters_arr.iloc[2]"
   ]
  },
  {
   "cell_type": "code",
   "execution_count": null,
   "id": "01311abd-05df-48ab-9372-0b8889882d42",
   "metadata": {},
   "outputs": [],
   "source": [
    "# modify this from shapely_project_vp\n",
    "def project_vp_to_road(\n",
    "    vp: dd.DataFrame, \n",
    "    roads: gpd.GeoDataFrame\n",
    "):\n",
    "    \"\"\"\n",
    "    shapely.project vp point geom onto shape_geometry.\n",
    "    \"\"\"\n",
    "    roads = roads.rename(columns = {\"geometry\": \"shape_geometry\"})\n",
    "    \n",
    "    vp_gdf = vp_as_gdf(vp)\n",
    "    \n",
    "    gdf = pd.merge(\n",
    "        vp_gdf,\n",
    "        roads,\n",
    "        on = \"shape_array_key\",\n",
    "        how = \"inner\"\n",
    "    )\n",
    "    \n",
    "    gdf = gdf.assign(\n",
    "        shape_meters = gdf.shape_geometry.project(gdf.geometry)\n",
    "    )\n",
    "    \n",
    "    vp_projected_result = gdf[[\"vp_idx\", \"shape_meters\"]]\n",
    "    \n",
    "    return vp_projected_result"
   ]
  },
  {
   "cell_type": "code",
   "execution_count": null,
   "id": "50b299dc-895c-401a-8aca-e75194187a69",
   "metadata": {},
   "outputs": [],
   "source": []
  },
  {
   "cell_type": "code",
   "execution_count": null,
   "id": "770ce817-75e1-4f5d-a2b7-293fe9d22e34",
   "metadata": {},
   "outputs": [],
   "source": []
  },
  {
   "cell_type": "code",
   "execution_count": null,
   "id": "9afea472-d18d-4203-9455-c01351ad9aeb",
   "metadata": {},
   "outputs": [],
   "source": []
  },
  {
   "cell_type": "code",
   "execution_count": null,
   "id": "197b1c39-4485-4e6b-b6b8-3795c841340f",
   "metadata": {},
   "outputs": [],
   "source": []
  }
 ],
 "metadata": {
  "kernelspec": {
   "display_name": "Python 3 (ipykernel)",
   "language": "python",
   "name": "python3"
  },
  "language_info": {
   "codemirror_mode": {
    "name": "ipython",
    "version": 3
   },
   "file_extension": ".py",
   "mimetype": "text/x-python",
   "name": "python",
   "nbconvert_exporter": "python",
   "pygments_lexer": "ipython3",
   "version": "3.9.13"
  }
 },
 "nbformat": 4,
 "nbformat_minor": 5
}
