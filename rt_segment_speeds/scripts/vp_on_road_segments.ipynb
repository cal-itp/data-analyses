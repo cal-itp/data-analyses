{
 "cells": [
  {
   "cell_type": "code",
   "execution_count": 1,
   "id": "2f5664d9-95fb-4d90-8a96-5c73fcbf1db2",
   "metadata": {},
   "outputs": [],
   "source": [
    "import geopandas as gpd\n",
    "import numpy as np\n",
    "import pandas as pd\n",
    "\n",
    "from shared_utils import rt_dates\n",
    "from segment_speed_utils import helpers, wrangle_shapes\n",
    "from segment_speed_utils.project_vars import SEGMENT_GCS, SHARED_GCS\n",
    "\n",
    "analysis_date = rt_dates.DATES[\"oct2023\"]\n",
    "\n",
    "road_id_cols = [\"linearid\", \"mtfcc\", \"primary_direction\"]\n",
    "segment_identifier_cols = road_id_cols + [\"segment_sequence\"]\n",
    "\n",
    "two_roads = [\n",
    "    \"1104259334520\",\n",
    "    \"110413812414\"\n",
    "]"
   ]
  },
  {
   "cell_type": "code",
   "execution_count": 2,
   "id": "c234ba77-c074-4d54-8ad9-a27b902e901e",
   "metadata": {},
   "outputs": [],
   "source": [
    "df = pd.read_parquet(\n",
    "    f\"{SEGMENT_GCS}roads_staging/\"\n",
    "    f\"test_speeds_{analysis_date}.parquet\"\n",
    ")        "
   ]
  },
  {
   "cell_type": "code",
   "execution_count": 13,
   "id": "8797146e-6c3a-4dbf-93a7-7e0491d9f371",
   "metadata": {},
   "outputs": [
    {
     "data": {
      "text/plain": [
       "count    13825.000000\n",
       "mean        62.515942\n",
       "std         14.945324\n",
       "min         50.008048\n",
       "25%         55.929349\n",
       "50%         60.148924\n",
       "75%         63.596422\n",
       "max        325.685493\n",
       "Name: speed_mph, dtype: float64"
      ]
     },
     "execution_count": 13,
     "metadata": {},
     "output_type": "execute_result"
    }
   ],
   "source": [
    "df[(df.speed_mph >= 50) & (df.sec_elapsed >= 20)].speed_mph.describe()"
   ]
  },
  {
   "cell_type": "code",
   "execution_count": 12,
   "id": "4eb05c24-a7b8-496b-a84c-b515935f870c",
   "metadata": {},
   "outputs": [
    {
     "data": {
      "text/plain": [
       "count    14171.000000\n",
       "mean       146.109375\n",
       "std        361.584684\n",
       "min         50.008048\n",
       "25%         56.920457\n",
       "50%         60.638919\n",
       "75%         66.134505\n",
       "max       4364.788886\n",
       "Name: speed_mph, dtype: float64"
      ]
     },
     "execution_count": 12,
     "metadata": {},
     "output_type": "execute_result"
    }
   ],
   "source": [
    "df[(df.speed_mph >= 50) & (df.meters_elapsed >= 1609/2)].speed_mph.describe()"
   ]
  },
  {
   "cell_type": "code",
   "execution_count": 5,
   "id": "c1df84ba-c420-40f9-98df-4791b67ef4a4",
   "metadata": {},
   "outputs": [
    {
     "data": {
      "text/plain": [
       "<AxesSubplot:>"
      ]
     },
     "execution_count": 5,
     "metadata": {},
     "output_type": "execute_result"
    },
    {
     "data": {
      "image/png": "[encoded data removed]",
      "text/plain": [
       "<Figure size 640x480 with 1 Axes>"
      ]
     },
     "metadata": {},
     "output_type": "display_data"
    }
   ],
   "source": [
    "df.speed_mph.hist(bins=range(0, 100, 5))"
   ]
  },
  {
   "cell_type": "code",
   "execution_count": null,
   "id": "0092cfd5-80e5-4f00-8ffd-89b804ddbb2d",
   "metadata": {},
   "outputs": [],
   "source": [
    "shape_road_crosswalk"
   ]
  },
  {
   "cell_type": "code",
   "execution_count": null,
   "id": "5e9bff1f-fb34-4016-a9e0-d37daf0f3227",
   "metadata": {},
   "outputs": [],
   "source": [
    "shape_road_crosswalk = pd.read_parquet(\n",
    "    f\"{SEGMENT_GCS}roads_staging/\"\n",
    "    f\"shape_road_crosswalk_{analysis_date}.parquet\",\n",
    "    filters = [[(\"linearid\", \"in\", two_roads)]]\n",
    ")"
   ]
  },
  {
   "cell_type": "code",
   "execution_count": null,
   "id": "196c42ef-fbb3-410a-9cf7-ef560380b9b9",
   "metadata": {},
   "outputs": [],
   "source": [
    "one_shape = \"2419613ed3a3e49420a24f8d7efd3a4e\"\n",
    "\n",
    "shape_to_trip = helpers.import_scheduled_trips(\n",
    "    analysis_date,\n",
    "    columns = [\"trip_instance_key\", \"shape_array_key\"],\n",
    "    filters = [[(\"shape_array_key\", \"==\", one_shape)]]\n",
    ")\n",
    "\n",
    "one_trip = shape_to_trip.trip_instance_key[5]\n",
    "one_trip"
   ]
  },
  {
   "cell_type": "code",
   "execution_count": null,
   "id": "11360899-7b76-4710-871f-818cf1e68082",
   "metadata": {},
   "outputs": [],
   "source": [
    "shape_road_crosswalk = shape_road_crosswalk.merge(\n",
    "    shape_to_trip,\n",
    "    on = \"shape_array_key\",\n",
    "    how = \"inner\"\n",
    ")"
   ]
  },
  {
   "cell_type": "code",
   "execution_count": null,
   "id": "d6d09963-2e38-428a-a3d2-881e7725325f",
   "metadata": {},
   "outputs": [],
   "source": [
    "vp_nn = gpd.read_parquet(\n",
    "    f\"{SEGMENT_GCS}condensed/vp_nearest_neighbor_{analysis_date}.parquet\",\n",
    "    filters = [[(\"trip_instance_key\", \"==\", one_trip)]]\n",
    ")"
   ]
  },
  {
   "cell_type": "code",
   "execution_count": null,
   "id": "19ffa1f2-861c-4898-8906-dc3639221486",
   "metadata": {},
   "outputs": [],
   "source": [
    "subset_shape = helpers.import_scheduled_trips(\n",
    "    analysis_date,\n",
    "    columns = [\"trip_instance_key\", \"shape_array_key\"],\n",
    "    filters = [[(\"trip_instance_key\", \"==\", one_trip)]],\n",
    "    get_pandas = True\n",
    ")\n",
    "\n",
    "shapes = helpers.import_scheduled_shapes(\n",
    "    analysis_date,\n",
    "    columns = [\"shape_array_key\", \"geometry\"],\n",
    "    filters = [[(\"shape_array_key\", \"in\", subset_shape.shape_array_key)]],\n",
    "    crs = \"EPSG:3310\"\n",
    ").merge(subset_shape)\n",
    "\n",
    "shapes = shapes.assign(\n",
    "    geometry = shapes.geometry.buffer(25)\n",
    ").to_crs(\"EPSG:4326\")"
   ]
  },
  {
   "cell_type": "code",
   "execution_count": null,
   "id": "532418d9-0bf8-4ff3-8ae9-6d0f08c2770a",
   "metadata": {},
   "outputs": [],
   "source": [
    "shapes"
   ]
  },
  {
   "cell_type": "code",
   "execution_count": null,
   "id": "a2cb0b70-89cd-445e-ba4e-a7610681ba40",
   "metadata": {},
   "outputs": [],
   "source": [
    "road_segments = gpd.read_parquet(\n",
    "    f\"{SHARED_GCS}road_segments/\",\n",
    "    columns = segment_identifier_cols + [\"geometry\"],\n",
    "    filters = [[(\"linearid\", \"in\", two_roads)]]\n",
    ")"
   ]
  },
  {
   "cell_type": "code",
   "execution_count": null,
   "id": "475f17f6-58e0-4a2d-b91f-a493beefd8bd",
   "metadata": {},
   "outputs": [],
   "source": [
    "# We can substitute this step when we have already generated crosswalk\n",
    "def sjoin_shape_to_road(shapes, roads):\n",
    "  \n",
    "    keep_cols = [\"shape_array_key\", \"trip_instance_key\", \n",
    "                 \"linearid\", \n",
    "       \"mtfcc\", \"segment_sequence\"]\n",
    "    \n",
    "    roads = roads.to_crs(shapes.crs)\n",
    "    \n",
    "    shapes_to_roads = gpd.sjoin(\n",
    "        shapes,\n",
    "        roads,\n",
    "        how = \"inner\",\n",
    "        predicate = \"intersects\"\n",
    "    )[keep_cols].drop_duplicates()\n",
    "    \n",
    "    return shapes_to_roads\n",
    "\n",
    "#road_segments_sjoin = sjoin_shape_to_road(shapes, road_segments)"
   ]
  },
  {
   "cell_type": "code",
   "execution_count": null,
   "id": "dbd38536-12dd-4c80-8bb6-9cb2838a6db1",
   "metadata": {},
   "outputs": [],
   "source": [
    "road_segments2 = pd.merge(\n",
    "    road_segments,\n",
    "    shape_road_crosswalk,\n",
    "    on = [\"linearid\", \"mtfcc\", \"segment_sequence\"], \n",
    "    how = \"inner\"\n",
    ")"
   ]
  },
  {
   "cell_type": "code",
   "execution_count": null,
   "id": "91cee88b-c60e-4c6a-b809-4d99ff31ebcf",
   "metadata": {},
   "outputs": [],
   "source": [
    "road_segments2"
   ]
  },
  {
   "cell_type": "code",
   "execution_count": null,
   "id": "79a0e0e2-554f-47bf-9069-ec09a1963526",
   "metadata": {},
   "outputs": [],
   "source": [
    "import shapely\n",
    "\n",
    "road_segments0 = road_segments2.assign(\n",
    "    geometry = road_segments2.apply(\n",
    "        lambda x: shapely.Point(x.geometry.coords[0]), \n",
    "        axis=1),\n",
    ").assign(stop_type=0)\n",
    "\n",
    "road_segments1 = road_segments2.assign(\n",
    "    geometry = road_segments2.apply(\n",
    "        lambda x: shapely.Point(x.geometry.coords[-1]), \n",
    "        axis=1),\n",
    ").assign(stop_type=1)"
   ]
  },
  {
   "cell_type": "code",
   "execution_count": null,
   "id": "02ba0a84-5d1d-4255-ade1-fb96e1f87b69",
   "metadata": {},
   "outputs": [],
   "source": [
    "road_segments_long = pd.concat(\n",
    "    [road_segments0, road_segments1], \n",
    "    axis=0\n",
    ").sort_values(\n",
    "    [\"linearid\", \"segment_sequence\", \"stop_type\"]\n",
    ").rename(\n",
    "    columns = {\"primary_direction\": \"stop_primary_direction\"}\n",
    ").reset_index(drop=True)"
   ]
  },
  {
   "cell_type": "code",
   "execution_count": null,
   "id": "34404271-3665-4c1c-b256-2557b0a3094a",
   "metadata": {},
   "outputs": [],
   "source": [
    "road_segments_long"
   ]
  },
  {
   "cell_type": "code",
   "execution_count": null,
   "id": "8cf6f7ea-015e-42e4-ade4-4ec1d59847e4",
   "metadata": {},
   "outputs": [],
   "source": [
    "from segment_speed_utils import neighbor\n",
    "\n",
    "gdf = neighbor.merge_stop_vp_for_nearest_neighbor(\n",
    "    road_segments_long, \n",
    "    analysis_date\n",
    ")"
   ]
  },
  {
   "cell_type": "code",
   "execution_count": null,
   "id": "bd51a842-5b37-4aee-a664-d3ce751421be",
   "metadata": {},
   "outputs": [],
   "source": [
    "results = neighbor.add_nearest_neighbor_result(gdf, analysis_date)"
   ]
  },
  {
   "cell_type": "code",
   "execution_count": null,
   "id": "fae3db53-a575-4e5d-810e-b7a81ff9908a",
   "metadata": {},
   "outputs": [],
   "source": [
    "results2 = results.copy()"
   ]
  },
  {
   "cell_type": "code",
   "execution_count": null,
   "id": "bf01b87b-a45b-4e1e-8fbe-c7b4ad7b5237",
   "metadata": {},
   "outputs": [],
   "source": [
    "PROJECT_CRS = \"EPSG:3310\"\n",
    "\n",
    "results2 = results2.assign(\n",
    "    stop_geometry = results2.stop_geometry.to_crs(PROJECT_CRS),\n",
    "    vp_coords_trio = results2.vp_coords_trio.to_crs(PROJECT_CRS)\n",
    ")"
   ]
  },
  {
   "cell_type": "code",
   "execution_count": null,
   "id": "ff9567a4-f988-4739-9df3-3806611976f3",
   "metadata": {},
   "outputs": [],
   "source": [
    "shapes = helpers.import_scheduled_shapes(\n",
    "    analysis_date,\n",
    "    columns = [\"shape_array_key\", \"geometry\"],\n",
    "    crs = PROJECT_CRS\n",
    ").dropna(subset=\"geometry\")\n",
    "\n",
    "gdf = pd.merge(\n",
    "    results2,\n",
    "    shapes.rename(columns = {\"geometry\": \"shape_geometry\"}),\n",
    "    on = \"shape_array_key\",\n",
    "    how = \"inner\"\n",
    ")"
   ]
  },
  {
   "cell_type": "code",
   "execution_count": null,
   "id": "3832f8fe-cfa0-4b3d-a542-04383f3c2ec3",
   "metadata": {},
   "outputs": [],
   "source": [
    "results2.dtypes"
   ]
  },
  {
   "cell_type": "code",
   "execution_count": null,
   "id": "cc950435-0bd7-42bd-88de-a9cc1e18974d",
   "metadata": {},
   "outputs": [],
   "source": [
    "import interpolate_stop_arrival"
   ]
  },
  {
   "cell_type": "code",
   "execution_count": null,
   "id": "9c0d9294-563a-435a-a4b8-e502bf1856c6",
   "metadata": {},
   "outputs": [],
   "source": [
    "segment_identifier_cols2 = ['linearid', 'mtfcc', \n",
    "                            'stop_primary_direction', 'segment_sequence']"
   ]
  },
  {
   "cell_type": "code",
   "execution_count": null,
   "id": "931aa474-dca9-4e4b-ab6a-b576ad5b052a",
   "metadata": {},
   "outputs": [],
   "source": [
    "stop_meters_series = []\n",
    "stop_arrival_series = []\n",
    "for row in gdf.itertuples():\n",
    "\n",
    "    stop_meters, interpolated_arrival = interpolate_stop_arrival.project_points_onto_shape(\n",
    "        getattr(row, \"stop_geometry\"),\n",
    "        getattr(row, \"vp_coords_trio\"),\n",
    "        getattr(row, \"shape_geometry\"),\n",
    "        getattr(row, \"location_timestamp_local_trio\")\n",
    "    )\n",
    "\n",
    "    stop_meters_series.append(stop_meters)\n",
    "    stop_arrival_series.append(interpolated_arrival)\n",
    "\n",
    "results2 = gdf.assign(\n",
    "    stop_meters = stop_meters_series,\n",
    "    arrival_time = stop_arrival_series,\n",
    ")[segment_identifier_cols2 + [\n",
    "    \"trip_instance_key\", \"shape_array_key\", \n",
    "    \"stop_type\",\n",
    "     \"stop_meters\", \"arrival_time\"]\n",
    " ].sort_values(\n",
    "    segment_identifier_cols2 + [\"trip_instance_key\", \"stop_type\", ]\n",
    ").reset_index(drop=True)"
   ]
  },
  {
   "cell_type": "code",
   "execution_count": null,
   "id": "54bcd8a0-ead6-4ac5-89f2-4cb5291ccda2",
   "metadata": {},
   "outputs": [],
   "source": [
    "grouped_df = results2.groupby(segment_identifier_cols2 + \n",
    "                               [\"trip_instance_key\"])\n",
    "\n",
    "min_arrival = grouped_df.agg({\"arrival_time\": \"min\"}).reset_index()\n",
    "max_arrival = grouped_df.agg({\"arrival_time\": \"max\"}).reset_index()\n",
    "\n",
    "min_max_arrival = pd.merge(\n",
    "    min_arrival,\n",
    "    max_arrival,\n",
    "    on = segment_identifier_cols2 + [\"trip_instance_key\"]\n",
    ").query('arrival_time_x != arrival_time_y')"
   ]
  },
  {
   "cell_type": "code",
   "execution_count": null,
   "id": "9ee89cc4-2a7d-44fd-901a-37ac301898ec",
   "metadata": {},
   "outputs": [],
   "source": [
    "results3 = pd.merge(\n",
    "    results2,\n",
    "    min_max_arrival[segment_identifier_cols2 + [\"trip_instance_key\"]],\n",
    "    on = segment_identifier_cols2 + [\"trip_instance_key\"],\n",
    "    how = \"inner\"\n",
    ")"
   ]
  },
  {
   "cell_type": "code",
   "execution_count": null,
   "id": "975614bf-ee0b-4a3e-9e5c-02345149d584",
   "metadata": {},
   "outputs": [],
   "source": [
    "from segment_speed_utils import segment_calcs\n",
    "\n",
    "results3 = segment_calcs.convert_timestamp_to_seconds(\n",
    "    results3, [\"arrival_time\"]\n",
    ").sort_values(segment_identifier_cols2 + [\"trip_instance_key\"]).reset_index(drop=True)"
   ]
  },
  {
   "cell_type": "code",
   "execution_count": null,
   "id": "a067dea3-67f5-4faf-b5ca-b2eab8ee80b9",
   "metadata": {},
   "outputs": [],
   "source": [
    "trip_cols = segment_identifier_cols2 + [\"trip_instance_key\"]\n",
    "results3 = results3.assign(\n",
    "        subseq_arrival_time_sec = (results3.groupby(trip_cols, \n",
    "                                             observed=True, group_keys=False)\n",
    "                                  .arrival_time_sec\n",
    "                                  .shift(-1)\n",
    "                                 ),\n",
    "        subseq_stop_meters = (results3.groupby(trip_cols, \n",
    "                                        observed=True, group_keys=False)\n",
    "                             .stop_meters\n",
    "                             .shift(-1)\n",
    "                            )\n",
    "    )"
   ]
  },
  {
   "cell_type": "code",
   "execution_count": null,
   "id": "05034a5e-cf9d-411d-9293-a1b67387f336",
   "metadata": {},
   "outputs": [],
   "source": [
    "speed = results3.assign(\n",
    "    meters_elapsed = results3.subseq_stop_meters - results3.stop_meters, \n",
    "    sec_elapsed = results3.subseq_arrival_time_sec - results3.arrival_time_sec,\n",
    ").pipe(\n",
    "    segment_calcs.derive_speed, \n",
    "    (\"stop_meters\", \"subseq_stop_meters\"), \n",
    "    (\"arrival_time_sec\", \"subseq_arrival_time_sec\")\n",
    ")"
   ]
  },
  {
   "cell_type": "code",
   "execution_count": null,
   "id": "530215e0-bcdc-4b04-a487-1b63ee14034a",
   "metadata": {},
   "outputs": [],
   "source": [
    "speed.dropna().query(\n",
    "    'meters_elapsed > 250 & sec_elapsed > 60'\n",
    ").speed_mph.describe()"
   ]
  },
  {
   "cell_type": "code",
   "execution_count": null,
   "id": "7a3230f5-57d6-41f2-9d3b-8e838ffc470c",
   "metadata": {},
   "outputs": [],
   "source": []
  }
 ],
 "metadata": {
  "kernelspec": {
   "display_name": "Python 3 (ipykernel)",
   "language": "python",
   "name": "python3"
  },
  "language_info": {
   "codemirror_mode": {
    "name": "ipython",
    "version": 3
   },
   "file_extension": ".py",
   "mimetype": "text/x-python",
   "name": "python",
   "nbconvert_exporter": "python",
   "pygments_lexer": "ipython3",
   "version": "3.9.13"
  }
 },
 "nbformat": 4,
 "nbformat_minor": 5
}
