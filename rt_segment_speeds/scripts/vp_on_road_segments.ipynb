{
 "cells": [
  {
   "cell_type": "code",
   "execution_count": 1,
   "id": "2f5664d9-95fb-4d90-8a96-5c73fcbf1db2",
   "metadata": {},
   "outputs": [],
   "source": [
    "import dask.dataframe as dd\n",
    "import geopandas as gpd\n",
    "import numpy as np\n",
    "import pandas as pd\n",
    "\n",
    "from segment_speed_utils import helpers, wrangle_shapes\n",
    "from segment_speed_utils.project_vars import (SEGMENT_GCS, \n",
    "                                              CONFIG_PATH, PROJECT_CRS)\n",
    "\n",
    "from segment_speed_utils.project_vars import analysis_date_list\n",
    "analysis_date = analysis_date_list[0]\n",
    "\n",
    "road_id_cols = [\"linearid\", \"mtfcc\"]\n",
    "segment_identifier_cols = road_id_cols + [\"segment_sequence\"]\n",
    "\n",
    "test_trip = \"00139041e36b607c7e10cb7ec023e837\""
   ]
  },
  {
   "cell_type": "code",
   "execution_count": null,
   "id": "d6d09963-2e38-428a-a3d2-881e7725325f",
   "metadata": {},
   "outputs": [],
   "source": [
    "df = pd.read_parquet(\n",
    "    f\"{SEGMENT_GCS}vp_sjoin/vp_road_segments_wide_{analysis_date}.parquet\",\n",
    "    columns = [\"trip_instance_key\"]\n",
    ").drop_duplicates()"
   ]
  },
  {
   "cell_type": "code",
   "execution_count": null,
   "id": "51e8ebcb-fb45-40ec-a461-352e46616627",
   "metadata": {},
   "outputs": [],
   "source": [
    "test_trips = ['00062c6db9dbef9c80f5ada74b31e257',\n",
    "       '0009c78b48866a26d664ab00f67d1606',\n",
    "       '00139041e36b607c7e10cb7ec023e837',\n",
    "       'ff780650b98209acf69a71a7dab2502c',\n",
    "       'ff86898d6a8ff5df82912699133bf4b6',\n",
    "       'ffb44943b394f891d2b2286bb3902305']"
   ]
  },
  {
   "cell_type": "code",
   "execution_count": null,
   "id": "6d256a6f-9849-415b-9c00-7166396633d9",
   "metadata": {},
   "outputs": [],
   "source": [
    "def merge_vp_to_crosswalk(\n",
    "    analysis_date: str, \n",
    "    filters: tuple\n",
    "):\n",
    "    # vp to road segment crosswalk\n",
    "    df = pd.read_parquet(\n",
    "        f\"{SEGMENT_GCS}vp_sjoin/vp_road_segments_wide_{analysis_date}.parquet\",\n",
    "        filters = filters\n",
    "    )\n",
    "    \n",
    "    # only keep the road segments that have at least 2 vp\n",
    "    df = df.assign(\n",
    "        n_vp = df.apply(lambda x: len(x.vp_idx_arr), axis=1)\n",
    "    ).query('n_vp > 1').drop(columns = \"n_vp\").reset_index(drop=True)\n",
    "    \n",
    "    df_long = df.explode(\n",
    "        \"vp_idx_arr\", \n",
    "        ignore_index=True\n",
    "    ).rename(\n",
    "        columns = {\"vp_idx_arr\": \"vp_idx\"}\n",
    "    ).astype({\"vp_idx\": \"int64\"})\n",
    "        \n",
    "    # Turn series of arrays into 1d array\n",
    "    #subset_vp = np.concatenate(np.asarray(df.vp_idx_arr))\n",
    "    subset_vp = df_long.vp_idx.tolist()\n",
    "    \n",
    "    # Pull the vp info for ones that join to road segments\n",
    "    vp_usable = dd.read_parquet(\n",
    "        f\"{SEGMENT_GCS}vp_usable_{analysis_date}\",\n",
    "        filters = [[(\"vp_idx\", \"in\", subset_vp)]],\n",
    "        columns = [\"vp_idx\", \"x\", \"y\"],\n",
    "    )\n",
    "    \n",
    "    vp_with_roads = dd.merge(\n",
    "        vp_usable,\n",
    "        df_long,\n",
    "        on = \"vp_idx\",\n",
    "        how = \"inner\"\n",
    "    )\n",
    "    \n",
    "    return vp_with_roads"
   ]
  },
  {
   "cell_type": "code",
   "execution_count": null,
   "id": "251c4aad-b470-4ee6-b52d-f7b151dc46af",
   "metadata": {},
   "outputs": [],
   "source": [
    "vp = merge_vp_to_crosswalk(\n",
    "    analysis_date,\n",
    "    filters = [[(\"trip_instance_key\", \"==\", test_trip)]]\n",
    ")"
   ]
  },
  {
   "cell_type": "code",
   "execution_count": null,
   "id": "b81717ec-0985-4fd4-8c7c-9326127851d3",
   "metadata": {},
   "outputs": [],
   "source": [
    "subset_roads = vp.linearid.unique().compute().tolist()"
   ]
  },
  {
   "cell_type": "code",
   "execution_count": null,
   "id": "d4d5f5e0-7650-4bfc-bfbd-dbce2bd2ac5f",
   "metadata": {},
   "outputs": [],
   "source": [
    "def expand_relevant_road_segments(\n",
    "    analysis_date: str,\n",
    "    segment_identifier_cols: list = [\"linearid\", \"mtfcc\",\n",
    "                                     \"segment_sequence\"],\n",
    "    filtering = None\n",
    "):\n",
    "    sjoin_results = pd.read_parquet(\n",
    "        f\"{SEGMENT_GCS}vp_sjoin/vp_road_segments_{analysis_date}\",\n",
    "        columns = segment_identifier_cols\n",
    "    ).drop_duplicates()\n",
    "    \n",
    "    \n",
    "    full_road_info = gpd.read_parquet(\n",
    "        f\"{SEGMENT_GCS}segments_staging/\"\n",
    "        f\"roads_with_cutpoints_long_{analysis_date}.parquet\",\n",
    "        filters = filtering\n",
    "    )\n",
    "    \n",
    "    road_segments = gpd.read_parquet(\n",
    "        f\"{SEGMENT_GCS}road_segments_{analysis_date}\",\n",
    "        filters = [[(\"mtfcc\", \"in\", [\"S1100\", \"S1200\"])]],\n",
    "        columns = segment_identifier_cols + [\n",
    "            \"primary_direction\", \"destination\"],\n",
    "    ).merge(\n",
    "        sjoin_results,\n",
    "        on = segment_identifier_cols,\n",
    "        how = \"inner\"\n",
    "    ).merge(\n",
    "        full_road_info,\n",
    "        on = segment_identifier_cols,\n",
    "        how = \"inner\"\n",
    "    )\n",
    "    \n",
    "    return road_segments"
   ]
  },
  {
   "cell_type": "code",
   "execution_count": null,
   "id": "e22e5754-9dac-447b-bfb5-dfb33e734552",
   "metadata": {},
   "outputs": [],
   "source": [
    "road_segments = expand_relevant_road_segments(\n",
    "    analysis_date,\n",
    "    segment_identifier_cols = segment_identifier_cols,\n",
    "    filtering = [[(\"linearid\", \"in\", subset_roads)]],\n",
    ")"
   ]
  },
  {
   "cell_type": "code",
   "execution_count": null,
   "id": "5a9f7bb4-c767-4264-b24f-f4bd9689f18c",
   "metadata": {},
   "outputs": [],
   "source": [
    "vp = vp.repartition(npartitions=3)"
   ]
  },
  {
   "cell_type": "code",
   "execution_count": null,
   "id": "fc2dc807-c97c-4a20-98da-fa97ad3835fc",
   "metadata": {},
   "outputs": [],
   "source": [
    "road_dtypes = vp[road_id_cols].dtypes.to_dict()\n",
    "\n",
    "vp_projected = vp.map_partitions(\n",
    "    wrangle_shapes.project_vp_onto_segment_geometry,\n",
    "    road_segments,\n",
    "    grouping_cols = road_id_cols,\n",
    "    meta = {\n",
    "        \"vp_idx\": \"int64\",\n",
    "        **road_dtypes,\n",
    "        \"shape_meters\": \"float\"},\n",
    "    align_dataframes = False\n",
    ").compute()"
   ]
  },
  {
   "cell_type": "code",
   "execution_count": null,
   "id": "d768c0be-82d7-4274-9db4-2fc72eab9e1e",
   "metadata": {},
   "outputs": [],
   "source": [
    "vp_projected.head(2)"
   ]
  },
  {
   "cell_type": "code",
   "execution_count": null,
   "id": "5e579aeb-312d-482e-8895-209a84c8b1c0",
   "metadata": {},
   "outputs": [],
   "source": [
    "# Merge vp with road segment info \n",
    "# with projected shape meters against the full road \n",
    "df_with_projection = dd.merge(\n",
    "    vp,\n",
    "    vp_projected,\n",
    "    on = [\"vp_idx\"] + road_id_cols,\n",
    "    how = \"inner\"\n",
    ").drop(columns = [\"x\", \"y\"]).compute()"
   ]
  },
  {
   "cell_type": "code",
   "execution_count": null,
   "id": "139b7c68-9a02-44f9-83a3-aedf067b6d39",
   "metadata": {},
   "outputs": [],
   "source": [
    "df_with_projection.columns"
   ]
  },
  {
   "cell_type": "code",
   "execution_count": null,
   "id": "a28184ff-64a7-44e6-8441-d3fd890e8792",
   "metadata": {},
   "outputs": [],
   "source": [
    "df_with_projection_wide = (df_with_projection\n",
    "                           .groupby([\"trip_instance_key\"] + road_id_cols)\n",
    "                           .agg({\n",
    "                               \"vp_idx\": lambda x: list(x),\n",
    "                               \"shape_meters\": lambda x: list(x)})\n",
    "                           .reset_index()\n",
    "                           .rename(columns = {\n",
    "                               \"vp_idx\": \"vp_idx_arr\",\n",
    "                               \"shape_meters\": \"shape_meters_arr\"\n",
    "                           })\n",
    "                  )"
   ]
  },
  {
   "cell_type": "code",
   "execution_count": null,
   "id": "7b1cb352-a07b-4a00-8546-995801b51ef8",
   "metadata": {},
   "outputs": [],
   "source": [
    "# Now merge road segments with each destination acting as the road's stop\n",
    "# and merge on arrays of projected vp against that road\n",
    "gdf = pd.merge(\n",
    "    road_segments,\n",
    "    df_with_projection_wide,\n",
    "    on = road_id_cols,\n",
    "    how = \"inner\"\n",
    ")"
   ]
  },
  {
   "cell_type": "code",
   "execution_count": null,
   "id": "5c73f3ed-5f06-419d-9ec4-025c7cbfe49b",
   "metadata": {},
   "outputs": [],
   "source": [
    "gdf.head(2)"
   ]
  },
  {
   "cell_type": "code",
   "execution_count": null,
   "id": "0c81a245-6f96-41a0-9243-a63547565705",
   "metadata": {},
   "outputs": [],
   "source": [
    "nearest_vp_idx = []\n",
    "subseq_vp_idx = []\n",
    "\n",
    "for row in gdf.itertuples():\n",
    "    \n",
    "    this_stop_meters = getattr(row, \"road_meters\")\n",
    "    valid_shape_meters_array = getattr(row, \"shape_meters_arr\")\n",
    "    valid_vp_idx_array = np.asarray(getattr(row, \"vp_idx_arr\"))\n",
    "\n",
    "    idx = np.searchsorted(\n",
    "        valid_shape_meters_array,\n",
    "        this_stop_meters,\n",
    "        side=\"right\" \n",
    "        # want our stop_meters value to be < vp_shape_meters,\n",
    "        # side = \"left\" would be stop_meters <= vp_shape_meters\n",
    "    )\n",
    "\n",
    "    # For the next value, if there's nothing to index into, \n",
    "    # just set it to the same position\n",
    "    # if we set subseq_value = getattr(row, )[idx], \n",
    "    # we might not get a consecutive vp\n",
    "    nearest_value = valid_vp_idx_array[idx-1]\n",
    "    subseq_value = nearest_value + 1\n",
    "\n",
    "    nearest_vp_idx.append(nearest_value)\n",
    "    subseq_vp_idx.append(subseq_value)"
   ]
  },
  {
   "cell_type": "code",
   "execution_count": null,
   "id": "b4dc8169-bdc3-4a57-aca5-e4266db8a190",
   "metadata": {},
   "outputs": [],
   "source": [
    "gdf.columns"
   ]
  },
  {
   "cell_type": "code",
   "execution_count": null,
   "id": "37ab1ef4-9140-4690-ac97-b07a34fd78ef",
   "metadata": {},
   "outputs": [],
   "source": [
    "result = gdf[segment_identifier_cols + [\n",
    "    \"primary_direction\", \"fullname\", \"road_meters\", \n",
    "    \"trip_instance_key\"]]\n",
    "\n",
    "# Now assign the nearest vp for each trip that's nearest to\n",
    "# a given stop\n",
    "# Need to find the one after the stop later\n",
    "result = result.assign(\n",
    "    nearest_vp_idx = nearest_vp_idx,\n",
    "    subseq_vp_idx = subseq_vp_idx,\n",
    ")"
   ]
  },
  {
   "cell_type": "code",
   "execution_count": null,
   "id": "f202317d-5ff2-4f97-bcf2-84384bc869c2",
   "metadata": {},
   "outputs": [],
   "source": [
    "result.head()"
   ]
  },
  {
   "cell_type": "markdown",
   "id": "907a3230-7e9f-4557-84fa-89c8c439077d",
   "metadata": {},
   "source": [
    "once the sjoin is done and we know which trip_instance_keys are linked\n",
    "to what road segments,\n",
    "those roads should be expanded from 1 row to many rows.\n",
    "go back to long for road segments, but it should be filtered down so that only the relevant cutpoints are included.\n",
    "\n",
    "then, for vp, that entire array that attached onto the linearid, is put in as an input for search. also leave vp primary direction in.\n",
    "filter that vp array down for just the direction we want, and find the \"nearest\" vp as that array has been projected against the road."
   ]
  },
  {
   "cell_type": "code",
   "execution_count": 2,
   "id": "197b1c39-4485-4e6b-b6b8-3795c841340f",
   "metadata": {},
   "outputs": [],
   "source": [
    "df = pd.read_parquet(\n",
    "    f\"{SEGMENT_GCS}nearest_vp_roads_{analysis_date}.parquet\"\n",
    ")"
   ]
  },
  {
   "cell_type": "code",
   "execution_count": 3,
   "id": "4f27fc9c-120c-46da-b9ef-e7222576d4ee",
   "metadata": {},
   "outputs": [],
   "source": [
    "subset_vp = np.union1d(\n",
    "        df.nearest_vp_idx.unique(), \n",
    "        df.subseq_vp_idx.unique()\n",
    "    )"
   ]
  },
  {
   "cell_type": "code",
   "execution_count": 4,
   "id": "7099bef9-a2d6-46f8-b336-7bdfa40dd7ad",
   "metadata": {},
   "outputs": [],
   "source": [
    "# modify this from interpolate_stop_arrivals\n",
    "def attach_vp_shape_meters_with_timestamp(\n",
    "    analysis_date: str, **kwargs\n",
    ") -> pd.DataFrame:\n",
    "    \"\"\"\n",
    "    \"\"\"\n",
    "    # shape_meters is here\n",
    "    vp_projected = pd.read_parquet(\n",
    "        f\"{SEGMENT_GCS}projection/vp_projected_roads_{analysis_date}.parquet\",\n",
    "        **kwargs\n",
    "    )\n",
    "    \n",
    "    # location_timestamp_local is here, and needs to be converted to seconds\n",
    "    vp_usable = pd.read_parquet(\n",
    "        f\"{SEGMENT_GCS}vp_usable_{analysis_date}/\",\n",
    "        columns = [\"vp_idx\",  \"location_timestamp_local\"],\n",
    "        **kwargs,\n",
    "    )\n",
    "\n",
    "    vp_info = pd.merge(\n",
    "        vp_projected,\n",
    "        vp_usable,\n",
    "        on = \"vp_idx\",\n",
    "        how = \"inner\"\n",
    "    )\n",
    "    \n",
    "    return vp_info"
   ]
  },
  {
   "cell_type": "code",
   "execution_count": 5,
   "id": "9d4aa630-762c-4c47-b8c0-b90e81075c2b",
   "metadata": {},
   "outputs": [],
   "source": [
    "vp_info = attach_vp_shape_meters_with_timestamp(\n",
    "    analysis_date, \n",
    "    filters = [[(\"vp_idx\", \"in\", subset_vp)]]\n",
    ")"
   ]
  },
  {
   "cell_type": "code",
   "execution_count": 6,
   "id": "e439b456-d90a-49c3-8ed5-57401b53246e",
   "metadata": {},
   "outputs": [],
   "source": [
    "road_trip_cols = road_id_cols + [\n",
    "    \"primary_direction\", \"trip_instance_key\"]\n",
    "\n",
    "vp_with_nearest_info = pd.merge(\n",
    "    df,\n",
    "    vp_info.rename(columns = {\n",
    "        \"vp_idx\": \"nearest_vp_idx\",\n",
    "        \"shape_meters\": \"nearest_shape_meters\",\n",
    "        \"location_timestamp_local\": \"nearest_location_timestamp_local\"\n",
    "    }),\n",
    "    on = [\"nearest_vp_idx\"] + road_trip_cols,\n",
    "    how = \"inner\"\n",
    ")"
   ]
  },
  {
   "cell_type": "code",
   "execution_count": 7,
   "id": "329c055e-7071-4247-a4b9-fe7649acdb53",
   "metadata": {},
   "outputs": [],
   "source": [
    "df2 = pd.merge(\n",
    "    vp_with_nearest_info,\n",
    "    vp_info.rename(columns = {\n",
    "        \"vp_idx\": \"subseq_vp_idx\",\n",
    "        \"shape_meters\": \"subseq_shape_meters\",\n",
    "        \"location_timestamp_local\": \"subseq_location_timestamp_local\"\n",
    "    }),\n",
    "    on = [\"subseq_vp_idx\"] + road_trip_cols,\n",
    "    how = \"inner\"\n",
    ")\n"
   ]
  },
  {
   "cell_type": "code",
   "execution_count": 8,
   "id": "b7de2f78-3793-401e-b836-7dc3085b92e9",
   "metadata": {},
   "outputs": [],
   "source": [
    "sjoin_results = pd.read_parquet(\n",
    "    f\"{SEGMENT_GCS}vp_sjoin/\"\n",
    "    f\"vp_road_segments_wide_{analysis_date}.parquet\",\n",
    "    #filters = [[(\"trip_instance_key\", \"in\", test_trips)]]\n",
    ")"
   ]
  },
  {
   "cell_type": "code",
   "execution_count": null,
   "id": "8163e08f-3bee-45f1-86e2-68c84d60789a",
   "metadata": {},
   "outputs": [],
   "source": [
    "sjoin_results.trip_instance_key.nunique()"
   ]
  },
  {
   "cell_type": "code",
   "execution_count": null,
   "id": "4f7dfc71-0a3d-4a86-90c8-88fd79a3ee94",
   "metadata": {},
   "outputs": [],
   "source": [
    "one_road_id = \"1104475175563\"\n",
    "sjoin_results[sjoin_results.linearid==one_road_id]"
   ]
  },
  {
   "cell_type": "code",
   "execution_count": null,
   "id": "787acf45-8592-47d9-9290-01122be138c4",
   "metadata": {},
   "outputs": [],
   "source": [
    "df2.shape"
   ]
  },
  {
   "cell_type": "code",
   "execution_count": null,
   "id": "5f68b8a2-52ac-4676-acf9-27fea9ebb438",
   "metadata": {},
   "outputs": [],
   "source": [
    "df2.columns"
   ]
  },
  {
   "cell_type": "code",
   "execution_count": 9,
   "id": "00c90d27-c2b0-44c4-a959-064d2ea227bd",
   "metadata": {},
   "outputs": [],
   "source": [
    "def get_stop_arrivals(df: pd.DataFrame) -> pd.DataFrame:\n",
    "    \"\"\"\n",
    "    Apply np.interp to df.\n",
    "    df must be set up so that a given stop is populated with its\n",
    "    own stop_meters, as well as columns for nearest and subseq \n",
    "    shape_meters / location_timestamp_local_sec.\n",
    "    \"\"\"\n",
    "    x_col = \"shape_meters\"\n",
    "    y_col = \"location_timestamp_local\"\n",
    "    \n",
    "    stop_arrival_series = []\n",
    "    for row in df.itertuples():\n",
    "\n",
    "        xp = np.asarray([\n",
    "            getattr(row, f\"nearest_{x_col}\"), \n",
    "            getattr(row, f\"subseq_{x_col}\")\n",
    "        ])\n",
    "\n",
    "        yp = np.asarray([\n",
    "            getattr(row, f\"nearest_{y_col}\"), \n",
    "            getattr(row, f\"subseq_{y_col}\")\n",
    "        ]).astype(\"datetime64[s]\").astype(\"float64\")\n",
    "\n",
    "        stop_position = getattr(row, \"road_meters\")\n",
    "        interpolated_arrival = np.interp(stop_position, xp, yp)\n",
    "        stop_arrival_series.append(interpolated_arrival)\n",
    "        \n",
    "    df = df.assign(\n",
    "        arrival_time = stop_arrival_series,\n",
    "    ).astype(\n",
    "        {\"arrival_time\": \"datetime64[s]\"}\n",
    "    ).sort_values(\n",
    "        [\"trip_instance_key\", \n",
    "        \"linearid\", \"mtfcc\"]\n",
    "    ).reset_index(drop=True)\n",
    "    \n",
    "    return df"
   ]
  },
  {
   "cell_type": "code",
   "execution_count": 10,
   "id": "7c6c8cc7-4c3d-4269-8f40-43a856d7f8b1",
   "metadata": {},
   "outputs": [],
   "source": [
    "df3 = get_stop_arrivals(df2)"
   ]
  },
  {
   "cell_type": "code",
   "execution_count": 11,
   "id": "78c0370c-8c52-4369-bc10-d0713e91f44d",
   "metadata": {},
   "outputs": [
    {
     "data": {
      "text/plain": [
       "(1582, 14)"
      ]
     },
     "execution_count": 11,
     "metadata": {},
     "output_type": "execute_result"
    }
   ],
   "source": [
    "df3[(df3.subseq_location_timestamp_local > df3.arrival_time) & \n",
    "   (df3.nearest_location_timestamp_local < df3.arrival_time)].shape"
   ]
  },
  {
   "cell_type": "code",
   "execution_count": null,
   "id": "70e79902-c2f6-4dfe-ba6d-69411ea013e7",
   "metadata": {},
   "outputs": [],
   "source": [
    "# Something weird is happening here"
   ]
  },
  {
   "cell_type": "code",
   "execution_count": 12,
   "id": "5628d473-5777-4c28-933c-e8736b1a318e",
   "metadata": {},
   "outputs": [
    {
     "data": {
      "text/plain": [
       "(299069, 14)"
      ]
     },
     "execution_count": 12,
     "metadata": {},
     "output_type": "execute_result"
    }
   ],
   "source": [
    "df3.shape"
   ]
  },
  {
   "cell_type": "code",
   "execution_count": null,
   "id": "4fb5f201-8abd-40db-9b57-bcbc21d26e27",
   "metadata": {},
   "outputs": [],
   "source": [
    "df3[[\"road_meters\", \"nearest_vp_idx\", \"subseq_vp_idx\", \"nearest_shape_meters\",\n",
    "   \"subseq_shape_meters\",\n",
    "   \"nearest_location_timestamp_local\",\n",
    "   \"subseq_location_timestamp_local\", \"arrival_time\"]]"
   ]
  },
  {
   "cell_type": "code",
   "execution_count": null,
   "id": "b5f1328b-067a-484b-bbf3-87e16ac5c12d",
   "metadata": {},
   "outputs": [],
   "source": []
  }
 ],
 "metadata": {
  "kernelspec": {
   "display_name": "Python 3 (ipykernel)",
   "language": "python",
   "name": "python3"
  },
  "language_info": {
   "codemirror_mode": {
    "name": "ipython",
    "version": 3
   },
   "file_extension": ".py",
   "mimetype": "text/x-python",
   "name": "python",
   "nbconvert_exporter": "python",
   "pygments_lexer": "ipython3",
   "version": "3.9.13"
  }
 },
 "nbformat": 4,
 "nbformat_minor": 5
}
