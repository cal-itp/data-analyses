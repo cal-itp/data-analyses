{
 "cells": [
  {
   "cell_type": "code",
   "execution_count": null,
   "id": "edce2634-d521-4b36-aa63-bd2d82c17060",
   "metadata": {},
   "outputs": [],
   "source": [
    "import geopandas as gpd\n",
    "import pandas as pd\n",
    "\n",
    "GCS_FILE_PATH = \"gs://calitp-analytics-data/data-analyses/shared_data/\""
   ]
  },
  {
   "cell_type": "code",
   "execution_count": null,
   "id": "33130655-300c-433e-8b88-80f236125df9",
   "metadata": {},
   "outputs": [],
   "source": [
    "gdf = gpd.read_parquet(f\"{GCS_FILE_PATH}caltrans_all_roads_lrs.parquet\")"
   ]
  },
  {
   "cell_type": "code",
   "execution_count": null,
   "id": "b3f8047d-91a0-4972-8968-f5b30982c7ff",
   "metadata": {},
   "outputs": [],
   "source": [
    "la = gdf[gdf.county_code==37]"
   ]
  },
  {
   "cell_type": "code",
   "execution_count": null,
   "id": "aa28e014-666e-4ac5-b42c-177f81d33a11",
   "metadata": {},
   "outputs": [],
   "source": [
    "la.columns"
   ]
  },
  {
   "cell_type": "code",
   "execution_count": null,
   "id": "910250f3-6bc5-474f-9d3b-9fa06fbd3f20",
   "metadata": {},
   "outputs": [],
   "source": [
    "la[la.geometry.notna()].explore(\"route_id\", tiles='CartoDB Positron')"
   ]
  },
  {
   "cell_type": "code",
   "execution_count": null,
   "id": "0346aa77-8960-4b0f-957e-eba11b7b2caf",
   "metadata": {},
   "outputs": [],
   "source": []
  }
 ],
 "metadata": {
  "kernelspec": {
   "display_name": "Python 3 (ipykernel)",
   "language": "python",
   "name": "python3"
  },
  "language_info": {
   "codemirror_mode": {
    "name": "ipython",
    "version": 3
   },
   "file_extension": ".py",
   "mimetype": "text/x-python",
   "name": "python",
   "nbconvert_exporter": "python",
   "pygments_lexer": "ipython3",
   "version": "3.9.13"
  }
 },
 "nbformat": 4,
 "nbformat_minor": 5
}
