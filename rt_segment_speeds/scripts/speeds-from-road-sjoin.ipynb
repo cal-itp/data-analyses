{
 "cells": [
  {
   "cell_type": "code",
   "execution_count": 1,
   "id": "41ffa7b3-b119-470b-9615-3242efae335c",
   "metadata": {},
   "outputs": [],
   "source": [
    "import dask.dataframe as dd\n",
    "import dask_geopandas as dg\n",
    "import datetime\n",
    "import geopandas as gpd\n",
    "import pandas as pd\n",
    "\n",
    "from segment_speed_utils.project_vars import (SEGMENT_GCS, analysis_date,\n",
    "                                              SHARED_GCS,\n",
    "                                              PROJECT_CRS)\n",
    "from segment_speed_utils import helpers, segment_calcs, wrangle_shapes\n"
   ]
  },
  {
   "cell_type": "code",
   "execution_count": 2,
   "id": "96d460fc-d46b-4541-8198-a30a0c324ee2",
   "metadata": {},
   "outputs": [],
   "source": [
    "df = pd.read_parquet(\n",
    "    f\"{SEGMENT_GCS}vp_sjoin/vp_road_segments_{analysis_date}\"\n",
    ")"
   ]
  },
  {
   "cell_type": "code",
   "execution_count": 3,
   "id": "870fa869-663f-4f96-ad76-afd464418499",
   "metadata": {},
   "outputs": [],
   "source": [
    "vp_with_projected = pd.read_parquet(\n",
    "    f\"{SEGMENT_GCS}projection/vp_projected_roads_{analysis_date}.parquet\"\n",
    ")"
   ]
  },
  {
   "cell_type": "code",
   "execution_count": 4,
   "id": "b32f3424-2fad-4c70-92c1-421c404ce8c1",
   "metadata": {},
   "outputs": [],
   "source": [
    "df2 = pd.merge(\n",
    "    df, \n",
    "    vp_with_projected,\n",
    "    on = [\"linearid\", \"mtfcc\", \"segment_sequence\", \n",
    "          \"trip_instance_key\", \"vp_idx\"],\n",
    "    how = \"inner\"\n",
    ")"
   ]
  },
  {
   "cell_type": "code",
   "execution_count": 5,
   "id": "da8e96c1-b4c5-4c01-be93-106f2271993d",
   "metadata": {},
   "outputs": [],
   "source": [
    "subset_vp = df2.vp_idx.unique().tolist()"
   ]
  },
  {
   "cell_type": "code",
   "execution_count": 6,
   "id": "5f360b5c-53d6-4436-99ac-47f8134d68de",
   "metadata": {},
   "outputs": [],
   "source": [
    "vp_usable = pd.read_parquet(\n",
    "    f\"{SEGMENT_GCS}vp_usable_{analysis_date}\",\n",
    "    columns = [\"vp_idx\", \"location_timestamp_local\"],\n",
    "    filters = [[(\"vp_idx\", \"in\", subset_vp)]]\n",
    ")"
   ]
  },
  {
   "cell_type": "code",
   "execution_count": 7,
   "id": "9566587d-c171-4ae4-a3f8-a978bb5fad28",
   "metadata": {},
   "outputs": [],
   "source": [
    "vp_usable = segment_calcs.convert_timestamp_to_seconds(\n",
    "    vp_usable, \n",
    "    [\"location_timestamp_local\"]\n",
    ").drop(columns = \"location_timestamp_local\")"
   ]
  },
  {
   "cell_type": "code",
   "execution_count": 8,
   "id": "a45a6622-7b25-4f57-b168-01c9e22fadd9",
   "metadata": {},
   "outputs": [],
   "source": [
    "df3 = pd.merge(\n",
    "    df2,\n",
    "    vp_usable,\n",
    "    on = \"vp_idx\",\n",
    "    how = \"inner\"\n",
    ")"
   ]
  },
  {
   "cell_type": "code",
   "execution_count": 9,
   "id": "49d3e32d-8d6f-44cf-a90e-99a202468257",
   "metadata": {},
   "outputs": [],
   "source": [
    "min_shape = df3.groupby([\"linearid\", \"mtfcc\", \"segment_sequence\",\n",
    "             \"trip_instance_key\"]).agg(\n",
    "    {\"shape_meters\": \"min\",\n",
    "    \"location_timestamp_local_sec\": \"min\"}).reset_index()\n",
    "\n",
    "max_shape = df3.groupby([\"linearid\", \"mtfcc\", \"segment_sequence\",\n",
    "             \"trip_instance_key\"]).agg(\n",
    "    {\"shape_meters\": \"max\", \n",
    "    \"location_timestamp_local_sec\": \"max\"}).reset_index()"
   ]
  },
  {
   "cell_type": "code",
   "execution_count": 10,
   "id": "74e447da-bbb9-45ab-bcd7-1c7d467da1ef",
   "metadata": {},
   "outputs": [],
   "source": [
    "df4 = pd.merge(\n",
    "    min_shape.rename(columns = {\n",
    "        \"shape_meters\": \"min_shape_meters\",\n",
    "        \"location_timestamp_local_sec\": \"min_sec\",\n",
    "    }),\n",
    "    max_shape.rename(columns = {\n",
    "        \"shape_meters\": \"max_shape_meters\",\n",
    "        \"location_timestamp_local_sec\": \"max_sec\"\n",
    "    }),\n",
    "    on = [\"linearid\", \"mtfcc\", \"segment_sequence\", \"trip_instance_key\"],\n",
    "    how = \"inner\"\n",
    ").query('min_shape_meters != max_shape_meters')"
   ]
  },
  {
   "cell_type": "code",
   "execution_count": 11,
   "id": "59aa562b-9b3d-413d-99b3-0abc66cb267b",
   "metadata": {},
   "outputs": [],
   "source": [
    "df5 = segment_calcs.derive_speed(\n",
    "    df4,\n",
    "    distance_cols = (\"min_shape_meters\", \"max_shape_meters\"),\n",
    "    time_cols = (\"min_sec\", \"max_sec\")\n",
    ")"
   ]
  },
  {
   "cell_type": "code",
   "execution_count": 12,
   "id": "91c16d2a-87d2-426f-ba60-e4cb6e93c86f",
   "metadata": {},
   "outputs": [
    {
     "data": {
      "text/plain": [
       "<AxesSubplot:>"
      ]
     },
     "execution_count": 12,
     "metadata": {},
     "output_type": "execute_result"
    },
    {
     "data": {
      "image/png": "[encoded data removed]",
      "text/plain": [
       "<Figure size 640x480 with 1 Axes>"
      ]
     },
     "metadata": {},
     "output_type": "display_data"
    }
   ],
   "source": [
    "df5.speed_mph.hist(bins = range(0, 75, 5))"
   ]
  },
  {
   "cell_type": "code",
   "execution_count": null,
   "id": "c47f0062-b264-4217-8585-e1c539565d74",
   "metadata": {},
   "outputs": [],
   "source": []
  }
 ],
 "metadata": {
  "kernelspec": {
   "display_name": "Python 3 (ipykernel)",
   "language": "python",
   "name": "python3"
  },
  "language_info": {
   "codemirror_mode": {
    "name": "ipython",
    "version": 3
   },
   "file_extension": ".py",
   "mimetype": "text/x-python",
   "name": "python",
   "nbconvert_exporter": "python",
   "pygments_lexer": "ipython3",
   "version": "3.9.13"
  }
 },
 "nbformat": 4,
 "nbformat_minor": 5
}
