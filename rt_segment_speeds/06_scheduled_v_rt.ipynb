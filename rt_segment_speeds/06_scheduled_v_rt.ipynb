{
 "cells": [
  {
   "cell_type": "markdown",
   "id": "bca2191e-1144-4049-82bc-dc3ed316452f",
   "metadata": {},
   "source": [
    "## Scheduled vs, RT total trip time"
   ]
  },
  {
   "cell_type": "code",
   "execution_count": 1,
   "id": "8572a0ff-ca54-41c7-9ea8-4fc8c378b180",
   "metadata": {},
   "outputs": [
    {
     "name": "stderr",
     "output_type": "stream",
     "text": [
      "/opt/conda/lib/python3.9/site-packages/geopandas/_compat.py:123: UserWarning: The Shapely GEOS version (3.10.3-CAPI-1.16.1) is incompatible with the GEOS version PyGEOS was compiled with (3.10.1-CAPI-1.16.0). Conversions between both will be slow.\n",
      "  warnings.warn(\n"
     ]
    }
   ],
   "source": [
    "import geopandas as gpd\n",
    "import numpy as np\n",
    "import pandas as pd\n",
    "import dask.dataframe as dd\n",
    "import datetime \n",
    "\n",
    "from calitp_data_analysis.sql import to_snakecase\n",
    "import _threshold_utils as threshold_utils\n",
    "import altair as alt\n",
    "from shared_utils import calitp_color_palette as cp\n",
    "from segment_speed_utils import helpers, sched_rt_utils\n",
    "from segment_speed_utils.project_vars import SEGMENT_GCS, analysis_date"
   ]
  },
  {
   "cell_type": "code",
   "execution_count": 2,
   "id": "bafee781-998e-42b8-a1a2-b1509fadc873",
   "metadata": {},
   "outputs": [],
   "source": [
    "pd.options.display.max_columns = 100\n",
    "pd.options.display.float_format = \"{:.2f}\".format\n",
    "pd.set_option(\"display.max_rows\", None)\n",
    "pd.set_option(\"display.max_colwidth\", None)"
   ]
  },
  {
   "cell_type": "code",
   "execution_count": 3,
   "id": "aece263c-c415-4343-b726-ef2acbff7817",
   "metadata": {},
   "outputs": [],
   "source": [
    "import gcsfs\n",
    "fs = gcsfs.GCSFileSystem()"
   ]
  },
  {
   "cell_type": "code",
   "execution_count": 4,
   "id": "8c9860ab-9118-4fbf-a455-580a3244f2e1",
   "metadata": {},
   "outputs": [],
   "source": [
    "import intake\n",
    "catalog = intake.open_catalog(\"./catalog.yml\")"
   ]
  },
  {
   "cell_type": "markdown",
   "id": "a8d007df-109d-4123-8f74-57eb9ff5b234",
   "metadata": {
    "tags": []
   },
   "source": [
    "### RT"
   ]
  },
  {
   "cell_type": "markdown",
   "id": "0e81a899-7848-4e32-b6fc-fdbb2f255d45",
   "metadata": {},
   "source": [
    "#### Original file from `b1_rt_trip_diagnostics`"
   ]
  },
  {
   "cell_type": "code",
   "execution_count": 5,
   "id": "7aeeff05-75b6-4f33-955f-15bcad235048",
   "metadata": {},
   "outputs": [
    {
     "data": {
      "text/plain": [
       "'\\nddf = helpers.import_vehicle_positions(\\n        gcs_folder = f\"{SEGMENT_GCS}vp_sjoin/\",\\n        file_name = f\"vp_route_segment_{analysis_date}/\",\\n        file_type = \"df\",\\n        columns = [\"gtfs_dataset_key\", \"_gtfs_dataset_name\", \\n                   \"trip_id\", \"route_dir_identifier\",\\n                   \"location_timestamp\"],\\n        partitioned = True\\n    ).repartition(partition_size=\"85MB\")\\n'"
      ]
     },
     "execution_count": 5,
     "metadata": {},
     "output_type": "execute_result"
    }
   ],
   "source": [
    "\"\"\"\n",
    "ddf = helpers.import_vehicle_positions(\n",
    "        gcs_folder = f\"{SEGMENT_GCS}vp_sjoin/\",\n",
    "        file_name = f\"vp_route_segment_{analysis_date}/\",\n",
    "        file_type = \"df\",\n",
    "        columns = [\"gtfs_dataset_key\", \"_gtfs_dataset_name\", \n",
    "                   \"trip_id\", \"route_dir_identifier\",\n",
    "                   \"location_timestamp\"],\n",
    "        partitioned = True\n",
    "    ).repartition(partition_size=\"85MB\")\n",
    "\"\"\""
   ]
  },
  {
   "cell_type": "code",
   "execution_count": 6,
   "id": "1891dd7c-2415-4e52-8b2b-7e771cf29e4b",
   "metadata": {},
   "outputs": [],
   "source": [
    "# vp = ddf.compute()"
   ]
  },
  {
   "cell_type": "code",
   "execution_count": 7,
   "id": "7f29a231-181e-480e-9881-ea766a9f8136",
   "metadata": {},
   "outputs": [],
   "source": [
    "# vp[\"location_timestamp\"] = pd.to_datetime(vp[\"location_timestamp\"])"
   ]
  },
  {
   "cell_type": "code",
   "execution_count": 8,
   "id": "66655d19-6fb3-4f31-8627-8449886bf1ee",
   "metadata": {},
   "outputs": [],
   "source": [
    "# vp.info()"
   ]
  },
  {
   "cell_type": "code",
   "execution_count": 9,
   "id": "294ac86c-f597-4c7c-9a23-445eea89e4b6",
   "metadata": {},
   "outputs": [],
   "source": [
    "def count_rt_min(df):\n",
    "    \"\"\"\n",
    "    Find total RT minute coverage\n",
    "    for each trip-operator\n",
    "    \"\"\"\n",
    "    # Extract hour and minute\n",
    "    df['hour'] = df.location_timestamp.dt.hour\n",
    "    df['minute'] = df.location_timestamp.dt.minute\n",
    "    \n",
    "    # Drop duplicates\n",
    "    df = df.drop_duplicates(subset = ['gtfs_dataset_key', 'trip_id','hour', 'minute']).reset_index(drop = True)\n",
    "    \n",
    "    # Count # of rows to get minutes \n",
    "    # of RT data. \n",
    "    df = (df\n",
    "          .groupby(['gtfs_dataset_key','trip_id'])\n",
    "          .agg({'hour':'count'})\n",
    "          .reset_index()\n",
    "          .rename(columns = {'hour':'total_rt_min_coverage'})\n",
    "         )\n",
    "    return df"
   ]
  },
  {
   "cell_type": "code",
   "execution_count": 10,
   "id": "0dc45b04-a191-4c88-919f-b93d636291e2",
   "metadata": {},
   "outputs": [],
   "source": [
    "# Extract hour-minute\n",
    "#vp['hour'] = vp.location_timestamp.dt.hour\n",
    "# vp['minute'] = vp.location_timestamp.dt.minute"
   ]
  },
  {
   "cell_type": "code",
   "execution_count": 11,
   "id": "8b64807d-f2d1-4830-8224-ae19c1253c22",
   "metadata": {},
   "outputs": [],
   "source": [
    "# vp.sample(3)"
   ]
  },
  {
   "cell_type": "code",
   "execution_count": 12,
   "id": "a1791c43-4c42-42a0-90c6-c0ac7ec564c7",
   "metadata": {},
   "outputs": [],
   "source": [
    "# test = vp.drop_duplicates(subset = ['gtfs_dataset_key', 'trip_id','hour', 'minute']).reset_index(drop = True)"
   ]
  },
  {
   "cell_type": "code",
   "execution_count": 13,
   "id": "c9f8343c-e4d5-4291-ab3e-832777106bd9",
   "metadata": {},
   "outputs": [],
   "source": [
    "# len(vp) - len(test)"
   ]
  },
  {
   "cell_type": "code",
   "execution_count": 14,
   "id": "f549cdd6-0723-4f6d-a2d1-a118dea64fc0",
   "metadata": {},
   "outputs": [],
   "source": [
    "# agg = test.groupby(['gtfs_dataset_key','trip_id']).agg({'hour':'count'}).reset_index()"
   ]
  },
  {
   "cell_type": "code",
   "execution_count": 15,
   "id": "7f1a0730-aee4-45fd-b1ce-e93ff1159b4d",
   "metadata": {},
   "outputs": [],
   "source": [
    "def find_start_end_times(df, groupby_cols:list):\n",
    "    \"\"\"\n",
    "    Find the max and min location stamp \n",
    "    to determine start and end date. \n",
    "    \"\"\"\n",
    "    start_end = (df.groupby(groupby_cols)\n",
    "        .agg({\"location_timestamp\": [ \"min\", \"max\"]})\n",
    "        .reset_index()\n",
    "        .rename(columns = {'min':'start', 'max':'end'})\n",
    "      ) \n",
    "    \n",
    "    # Clean up columns\n",
    "    start_end.columns = start_end.columns.droplevel()\n",
    "    start_end.columns.values[0] = \"_gtfs_dataset_name\"\n",
    "    start_end.columns.values[1] = \"gtfs_dataset_key\"\n",
    "    start_end.columns.values[2] = \"trip_id\"\n",
    "    \n",
    "    return start_end"
   ]
  },
  {
   "cell_type": "code",
   "execution_count": 16,
   "id": "6fd55593-134c-4735-bd80-365ad4cb407d",
   "metadata": {},
   "outputs": [],
   "source": [
    "# test.shape"
   ]
  },
  {
   "cell_type": "markdown",
   "id": "02639577-2f00-444a-8115-6f56d0db52ed",
   "metadata": {
    "tags": []
   },
   "source": [
    "### Timezone\n",
    "* Convert from UTC to Pacific to Naive\n",
    "* https://stackoverflow.com/questions/24281525/what-is-the-point-of-a-naive-datetimedf.select_dtypes(include=['datetime64'])"
   ]
  },
  {
   "cell_type": "code",
   "execution_count": 17,
   "id": "c165e988-d9e6-47c3-95a0-368941511072",
   "metadata": {},
   "outputs": [],
   "source": [
    "def naive_timezone(df):\n",
    "    \"\"\"\n",
    "    Convert UTC to PST to Naive. \n",
    "    \"\"\"\n",
    "    PACIFIC_TIMEZONE = \"US/Pacific\"\n",
    "    \n",
    "    # Grab datetime columns\n",
    "    dt_cols = [col for col in df.columns if df[col].dtype == 'datetime64[ns, UTC]']\n",
    "    \n",
    "    for col in dt_cols:\n",
    "        df[col] = df[col].dt.tz_convert(PACIFIC_TIMEZONE).apply(lambda t: t.replace(tzinfo=None))\n",
    "        \n",
    "    return df "
   ]
  },
  {
   "cell_type": "code",
   "execution_count": 18,
   "id": "4603392f-4c35-4711-83da-bb6efe1f8113",
   "metadata": {},
   "outputs": [],
   "source": [
    "# vp2 = naive_timezone(vp2)"
   ]
  },
  {
   "cell_type": "code",
   "execution_count": 19,
   "id": "bea460b6-1b89-4ff0-9141-d92353d851d4",
   "metadata": {},
   "outputs": [],
   "source": [
    "# vp2.end.dt.tz, vp2.start.dt.tz"
   ]
  },
  {
   "cell_type": "code",
   "execution_count": 20,
   "id": "80fb6367-6821-4e16-82b1-5c848ce3b97d",
   "metadata": {},
   "outputs": [],
   "source": [
    "# vp2.sample()"
   ]
  },
  {
   "cell_type": "code",
   "execution_count": 21,
   "id": "3dc4d7b4-460b-420f-8d74-2d33f8313b13",
   "metadata": {},
   "outputs": [],
   "source": [
    "def convert_timestamp_to_hrs_mins(\n",
    "    df: pd.DataFrame, \n",
    "    timestamp_col: list,\n",
    "    minutes: bool = True,\n",
    ") -> pd.DataFrame: \n",
    "    \"\"\"\n",
    "    Convert datetime col into minutes or seconds.\n",
    "    \"\"\"\n",
    "    if minutes:\n",
    "        for c in timestamp_col:\n",
    "            df = df.assign(\n",
    "                time_min = ((df[c].dt.hour * 60) + \n",
    "                                (df[c].dt.minute) + \n",
    "                                (df[c].dt.second/60)\n",
    "                           ),\n",
    "            ).rename(columns = {\"time_min\": f\"{c}_minutes\"})\n",
    "    \n",
    "    else:\n",
    "        for c in timestamp_col:\n",
    "            df = df.assign(\n",
    "                time_sec = ((df[timestamp_col].dt.hour * 3_600) + \n",
    "                                (df[timestamp_col].dt.minute * 60) + \n",
    "                                (df[timestamp_col].dt.second)\n",
    "                           ),\n",
    "            ).rename(columns = {\"time_sec\": f\"{timestamp_col}_sec\"})\n",
    "\n",
    "    return df"
   ]
  },
  {
   "cell_type": "code",
   "execution_count": 22,
   "id": "a3474ef5-7ccf-4c6d-b35e-007aabb4bf22",
   "metadata": {},
   "outputs": [],
   "source": [
    "# vp2 = convert_timestamp_to_hrs_mins(vp2, ['start','end'])"
   ]
  },
  {
   "cell_type": "code",
   "execution_count": 23,
   "id": "df9e91b7-497f-4eb6-ab81-eb7ac3d5efd9",
   "metadata": {},
   "outputs": [],
   "source": [
    "# vp2._gtfs_dataset_name.nunique(), vp2.gtfs_dataset_key.nunique()"
   ]
  },
  {
   "cell_type": "code",
   "execution_count": 24,
   "id": "4014dd05-7ac0-4ef1-868e-8ae2657ca650",
   "metadata": {},
   "outputs": [],
   "source": [
    "def find_metrics(gcs:str, date:str):\n",
    "    \"\"\"\n",
    "    Find metrics such as number of pings,\n",
    "    start and end time, and RT coverage for a trip.\n",
    "    \n",
    "    gcs (str): file path\n",
    "    date (str): the analysis date\n",
    "    \"\"\"\n",
    "    group_cols = [\"_gtfs_dataset_name\", \"gtfs_dataset_key\", \"trip_id\"]\n",
    "    \n",
    "    # Load in file.\n",
    "    ddf = helpers.import_vehicle_positions(\n",
    "        gcs_folder = f\"{gcs}vp_sjoin/\",\n",
    "        file_name = f\"vp_route_segment_{date}/\",\n",
    "        file_type = \"df\",\n",
    "        columns = [\"gtfs_dataset_key\", \"_gtfs_dataset_name\", \n",
    "                   \"trip_id\", \"route_dir_identifier\",\n",
    "                   \"location_timestamp\"],\n",
    "        partitioned = True\n",
    "    ).repartition(partition_size=\"85MB\")\n",
    "    \n",
    "    df = ddf.compute()\n",
    "    \n",
    "    # Find number of RT minutes\n",
    "    rt_min_avail = count_rt_min(df)\n",
    "    \n",
    "    # Find start and end time for a trip\n",
    "    start_end = find_start_end_times(df, group_cols)\n",
    "    \n",
    "    # Find number of pings by \n",
    "    # counting nunique location_timestamps\n",
    "    pings = (df.groupby(group_cols)\n",
    "          .agg({'location_timestamp':'nunique'})\n",
    "          .reset_index()\n",
    "          .rename(columns = {'location_timestamp':'trip_ping_count'})\n",
    "         )\n",
    "    \n",
    "    # Find number of trips for each operator\n",
    "    #trips_ops = (df\n",
    "    #             .groupby([\"gtfs_dataset_key\", \"_gtfs_dataset_name\"])\n",
    "    #             .agg({'trip_id':'nunique'})\n",
    "    #             .reset_index()\n",
    "     #            .rename(columns = {'trip_id':'rt_trip_counts_by_operator'})\n",
    "    #     )\n",
    "    \n",
    "    m1 = (start_end.merge(pings, how=\"inner\", on = group_cols)\n",
    "                   .merge(rt_min_avail, how = \"inner\", on = ['gtfs_dataset_key','trip_id'])\n",
    "         )\n",
    "    \n",
    "    # Convert to naive timezone\n",
    "    m1 = naive_timezone(m1)\n",
    "    \n",
    "    # Convert timestamp to minutes\n",
    "    m1 = convert_timestamp_to_hrs_mins(m1, ['start','end'])\n",
    "          \n",
    "    return m1"
   ]
  },
  {
   "cell_type": "code",
   "execution_count": 25,
   "id": "31207b02-50d0-4a7c-955b-3d2c63202852",
   "metadata": {},
   "outputs": [],
   "source": [
    "vp2 = find_metrics(SEGMENT_GCS, analysis_date)"
   ]
  },
  {
   "cell_type": "code",
   "execution_count": 26,
   "id": "d4fe834a-fe52-4dde-90e0-5aef2099e2a1",
   "metadata": {},
   "outputs": [
    {
     "data": {
      "text/plain": [
       "(None, None)"
      ]
     },
     "execution_count": 26,
     "metadata": {},
     "output_type": "execute_result"
    }
   ],
   "source": [
    "vp2.end.dt.tz, vp2.start.dt.tz"
   ]
  },
  {
   "cell_type": "code",
   "execution_count": 27,
   "id": "3b2a2916-0fd6-4531-91d5-f7ae1ee81c25",
   "metadata": {},
   "outputs": [
    {
     "data": {
      "text/plain": [
       "(72302, 9)"
      ]
     },
     "execution_count": 27,
     "metadata": {},
     "output_type": "execute_result"
    }
   ],
   "source": [
    "vp2.shape"
   ]
  },
  {
   "cell_type": "markdown",
   "id": "e0f2f842-9286-4e05-a054-af7a1e8e467e",
   "metadata": {
    "tags": []
   },
   "source": [
    "### Subset trips to 6am to 8pm to test - TEMP\n",
    "* Should subsetting occur before changing to the naive time zone?\n",
    "* <b>Move actual trip duration & total operator trips portion away to `find_metrics` once Time Zone answered</b>\n",
    "* Only have trips that appear on January 18. \n",
    "* Trips that start after 6AM\n",
    "* Trips that end at 8PM."
   ]
  },
  {
   "cell_type": "code",
   "execution_count": 28,
   "id": "9d3e258c-ee38-4b96-ab7c-96bc274db501",
   "metadata": {},
   "outputs": [],
   "source": [
    "def filter_trips(df, date:str):\n",
    "    \n",
    "    # Filter by day\n",
    "    df = df[(df['start'].dt.strftime('%Y-%m-%d') == date) & (df['end'].dt.strftime('%Y-%m-%d') == date)].reset_index()\n",
    "    \n",
    "    # Filter by time. Keep trips that begin at  6am and end before 8pm.\n",
    "    # https://stackoverflow.com/questions/65510529/how-to-filter-pandas-dataframe-by-time\n",
    "    time1 = pd.to_datetime(f'{date}  06:00:00').strftime('%H:%M')\n",
    "    time2 = pd.to_datetime(f'{date} 20:00:00').strftime('%H:%M')\n",
    "    df = df.loc[(df['start'].dt.strftime('%H:%M') >= time1 ) & (df['end'].dt.strftime('%H:%M') <= time2)].reset_index()\n",
    "    \n",
    "    # Find actual trip times\n",
    "    df['actual_trip_duration_minutes'] = (df['end_minutes']-df['start_minutes'])\n",
    "    \n",
    "    df = df.drop(columns = ['level_0', 'index'])\n",
    "    \n",
    "    # Find trip by operators\n",
    "    trips_ops = (df\n",
    "                .groupby([\"gtfs_dataset_key\", \"_gtfs_dataset_name\"])\n",
    "                .agg({'trip_id':'nunique'})\n",
    "                .reset_index()\n",
    "                .rename(columns = {'trip_id':'rt_trip_counts_by_operator'})\n",
    "        )\n",
    "    m1 = (df.merge(trips_ops, how=\"inner\", on =  [\"gtfs_dataset_key\", \"_gtfs_dataset_name\"]))\n",
    "    \n",
    "    return m1 "
   ]
  },
  {
   "cell_type": "code",
   "execution_count": 29,
   "id": "acdc4421-1aad-4980-9d11-d3d15b9b59c5",
   "metadata": {},
   "outputs": [],
   "source": [
    "subset_vp = filter_trips(vp2, analysis_date)"
   ]
  },
  {
   "cell_type": "code",
   "execution_count": 30,
   "id": "da3dc24c-9805-4f82-9e91-95764fecf2d2",
   "metadata": {},
   "outputs": [
    {
     "data": {
      "text/plain": [
       "0"
      ]
     },
     "execution_count": 30,
     "metadata": {},
     "output_type": "execute_result"
    }
   ],
   "source": [
    "# No more negative trips\n",
    "len(subset_vp.loc[subset_vp.actual_trip_duration_minutes < 0])"
   ]
  },
  {
   "cell_type": "markdown",
   "id": "9314194a-70eb-4127-b49a-29b28f2b0536",
   "metadata": {},
   "source": [
    "### Deliverable 1\n",
    "* A script to generate a parquet table within GCS bucket rt_vs_schedule that holds the counts and proportions for each gtfs_dataset_key-feed_key-trip_id (use an outer join in case there are trip_ids that appear in RT but not in schedule or vice versa\n",
    "* Use an outer join in case there are trip_ids that appear in RT but not in schedule or vice versa (https://github.com/cal-itp/data-analyses/issues/668).\n",
    "* More trips in scheduled than RT."
   ]
  },
  {
   "cell_type": "code",
   "execution_count": 31,
   "id": "4081e559-335e-4eb0-99ea-2ae9e30b65e4",
   "metadata": {},
   "outputs": [],
   "source": [
    "def merge_schedule_vp(vp_df, date: str):\n",
    "\n",
    "    # Load scheduled trips\n",
    "    scheduled_trips = sched_rt_utils.crosswalk_scheduled_trip_grouping_with_rt_key(analysis_date = date, \n",
    "    keep_trip_cols = [\"feed_key\", \"trip_id\", \"service_hours\"])\n",
    "    \n",
    "    # Convert trip hours to minutes\n",
    "    scheduled_trips['scheduled_service_minutes'] = scheduled_trips.service_hours * 60\n",
    "    \n",
    "    # Merge scheduled with RT. \n",
    "    merge1 = pd.merge(vp_df, scheduled_trips, how=\"outer\", on=[\"gtfs_dataset_key\", \"trip_id\"], indicator=True)\n",
    "    \n",
    "    return merge1"
   ]
  },
  {
   "cell_type": "markdown",
   "id": "13e4a96a-29a7-4a31-b617-dad3e72c817d",
   "metadata": {},
   "source": [
    "* Another function to return a final dataframe because it could be useful to do a `value_counts()` on the `_merge` column"
   ]
  },
  {
   "cell_type": "code",
   "execution_count": 32,
   "id": "520ee687-3d21-46b0-956d-be9b685a19b9",
   "metadata": {},
   "outputs": [],
   "source": [
    "def trip_duration_categories(row):\n",
    "    if row.actual_trip_duration_minutes < 30:\n",
    "        return \"0 - 30 minutes\"\n",
    "    elif 31 < row.actual_trip_duration_minutes < 61:\n",
    "        return \"31-60 minutes\"\n",
    "    elif 61 < row.actual_trip_duration_minutes < 91:\n",
    "        return \"61-90 minutes\"\n",
    "    else:\n",
    "        return \"90 + minutes\""
   ]
  },
  {
   "cell_type": "code",
   "execution_count": 33,
   "id": "7354af5b-eaa1-4f88-83f7-f6e4e3d231f7",
   "metadata": {},
   "outputs": [],
   "source": [
    "def rt_data_proportion(row):\n",
    "    if  row.rt_data_proportion_percentage < 20:\n",
    "        return \"0-20%\"\n",
    "    elif 21 < row.rt_data_proportion_percentage < 40:\n",
    "        return \"21-40%\"\n",
    "    elif 41 < row.rt_data_proportion_percentage < 60:\n",
    "        return \"41-60%\"\n",
    "    elif 61 < row.rt_data_proportion_percentage < 80:\n",
    "        return \"61-80%\"\n",
    "    else:\n",
    "        return \"81-100%\""
   ]
  },
  {
   "cell_type": "code",
   "execution_count": 34,
   "id": "cc6caef3-1b99-45e6-88c9-e04308155179",
   "metadata": {},
   "outputs": [],
   "source": [
    "def final_df(vp_df, date: str):\n",
    "    df = merge_schedule_vp(vp_df, date).drop(columns = ['_merge'])\n",
    "    \n",
    "    # Find RT trip time versus scheduled trip time.\n",
    "    # Find pings per minute.\n",
    "    df = df.assign(\n",
    "        rt_data_proportion_percentage = ((df.total_rt_min_coverage/df.scheduled_service_minutes)*100).fillna(0),\n",
    "        pings_per_minute = (df.trip_ping_count/df.total_rt_min_coverage).fillna(0))\n",
    "    \n",
    "    # Any proportion above 100, mask as 100\n",
    "    df[\"rt_data_proportion_percentage\"] = df[\"rt_data_proportion_percentage\"].mask(df[\"rt_data_proportion_percentage\"] > 100, 100)\n",
    "  \n",
    "    # Fill in \n",
    "    df = df.fillna(\n",
    "    df.dtypes.replace({\"float64\": 0.0, \"object\": \"None\"}))\n",
    "    \n",
    "    # Round certain columns to eyeball\n",
    "    for i in ['rt_data_proportion_percentage','actual_trip_duration_minutes']:\n",
    "        df[f\"rounded_{i}\"] = (((df[i]/100)*10).astype(int)*10)\n",
    "        # .astype(str) + '%'\n",
    "        \n",
    "    # Categorize actual trip duration\n",
    "    df[\"trip_category\"] = df.apply(trip_duration_categories, axis=1)\n",
    "    \n",
    "    # Categorize RT vs. scheduled coverage\n",
    "    df[\"rt_category\"] = df.apply(rt_data_proportion, axis=1)\n",
    "    \n",
    "    # Clean df\n",
    "    df = df.drop(columns = ['start','end', 'service_hours'])\n",
    "    \n",
    "    return df"
   ]
  },
  {
   "cell_type": "code",
   "execution_count": 35,
   "id": "185e4011-1ee2-4d6b-ab0f-7e5645068bfa",
   "metadata": {},
   "outputs": [],
   "source": [
    "final = final_df(subset_vp, analysis_date)"
   ]
  },
  {
   "cell_type": "code",
   "execution_count": 36,
   "id": "a7ca9d1b-cc04-4d0b-9657-ea08606e7160",
   "metadata": {},
   "outputs": [
    {
     "data": {
      "text/plain": [
       "(98105, 17)"
      ]
     },
     "execution_count": 36,
     "metadata": {},
     "output_type": "execute_result"
    }
   ],
   "source": [
    "final.shape"
   ]
  },
  {
   "cell_type": "code",
   "execution_count": 37,
   "id": "74c957f0-3cb6-44aa-ac36-cc2fca2d4651",
   "metadata": {},
   "outputs": [
    {
     "data": {
      "text/html": [
       "<div>\n",
       "<style scoped>\n",
       "    .dataframe tbody tr th:only-of-type {\n",
       "        vertical-align: middle;\n",
       "    }\n",
       "\n",
       "    .dataframe tbody tr th {\n",
       "        vertical-align: top;\n",
       "    }\n",
       "\n",
       "    .dataframe thead th {\n",
       "        text-align: right;\n",
       "    }\n",
       "</style>\n",
       "<table border=\"1\" class=\"dataframe\">\n",
       "  <thead>\n",
       "    <tr style=\"text-align: right;\">\n",
       "      <th></th>\n",
       "      <th>_gtfs_dataset_name</th>\n",
       "      <th>gtfs_dataset_key</th>\n",
       "      <th>trip_id</th>\n",
       "      <th>trip_ping_count</th>\n",
       "      <th>total_rt_min_coverage</th>\n",
       "      <th>start_minutes</th>\n",
       "      <th>end_minutes</th>\n",
       "      <th>actual_trip_duration_minutes</th>\n",
       "      <th>rt_trip_counts_by_operator</th>\n",
       "      <th>feed_key</th>\n",
       "      <th>scheduled_service_minutes</th>\n",
       "      <th>rt_data_proportion_percentage</th>\n",
       "      <th>pings_per_minute</th>\n",
       "      <th>rounded_rt_data_proportion_percentage</th>\n",
       "      <th>rounded_actual_trip_duration_minutes</th>\n",
       "      <th>trip_category</th>\n",
       "      <th>rt_category</th>\n",
       "    </tr>\n",
       "  </thead>\n",
       "  <tbody>\n",
       "    <tr>\n",
       "      <th>23177</th>\n",
       "      <td>Foothill Vehicle Positions</td>\n",
       "      <td>4594028c6c1ebbb6dbfb4284d7510b4e</td>\n",
       "      <td>t3F2-b15FA9-sl5</td>\n",
       "      <td>134.00</td>\n",
       "      <td>73.00</td>\n",
       "      <td>613.07</td>\n",
       "      <td>687.40</td>\n",
       "      <td>74.33</td>\n",
       "      <td>1482.00</td>\n",
       "      <td>ac6628ccaa0137f5fe3663210b87c4e8</td>\n",
       "      <td>79.00</td>\n",
       "      <td>92.41</td>\n",
       "      <td>1.84</td>\n",
       "      <td>90</td>\n",
       "      <td>70</td>\n",
       "      <td>61-90 minutes</td>\n",
       "      <td>81-100%</td>\n",
       "    </tr>\n",
       "    <tr>\n",
       "      <th>68390</th>\n",
       "      <td>None</td>\n",
       "      <td>318c6bc87acccb67fb00aa9180aa5a12</td>\n",
       "      <td>16877334</td>\n",
       "      <td>0.00</td>\n",
       "      <td>0.00</td>\n",
       "      <td>0.00</td>\n",
       "      <td>0.00</td>\n",
       "      <td>0.00</td>\n",
       "      <td>0.00</td>\n",
       "      <td>a7ba6f075198e9bf9152fab6c7faf0f6</td>\n",
       "      <td>50.00</td>\n",
       "      <td>0.00</td>\n",
       "      <td>0.00</td>\n",
       "      <td>0</td>\n",
       "      <td>0</td>\n",
       "      <td>0 - 30 minutes</td>\n",
       "      <td>0-20%</td>\n",
       "    </tr>\n",
       "    <tr>\n",
       "      <th>59491</th>\n",
       "      <td>None</td>\n",
       "      <td>7c9fed045db42e3243ed76d228978321</td>\n",
       "      <td>t348-b70-sl2_merged_1853</td>\n",
       "      <td>0.00</td>\n",
       "      <td>0.00</td>\n",
       "      <td>0.00</td>\n",
       "      <td>0.00</td>\n",
       "      <td>0.00</td>\n",
       "      <td>0.00</td>\n",
       "      <td>25172f15a0229eca251fdeb5ab37e827</td>\n",
       "      <td>48.00</td>\n",
       "      <td>0.00</td>\n",
       "      <td>0.00</td>\n",
       "      <td>0</td>\n",
       "      <td>0</td>\n",
       "      <td>0 - 30 minutes</td>\n",
       "      <td>0-20%</td>\n",
       "    </tr>\n",
       "    <tr>\n",
       "      <th>47103</th>\n",
       "      <td>Riverside VehiclePositions</td>\n",
       "      <td>f1497340b654f3ce925f8b8c2f83e1c2</td>\n",
       "      <td>1467020</td>\n",
       "      <td>85.00</td>\n",
       "      <td>44.00</td>\n",
       "      <td>779.93</td>\n",
       "      <td>826.80</td>\n",
       "      <td>46.87</td>\n",
       "      <td>917.00</td>\n",
       "      <td>9520692b76037537fb6c14d126542292</td>\n",
       "      <td>45.00</td>\n",
       "      <td>97.78</td>\n",
       "      <td>1.93</td>\n",
       "      <td>90</td>\n",
       "      <td>40</td>\n",
       "      <td>31-60 minutes</td>\n",
       "      <td>81-100%</td>\n",
       "    </tr>\n",
       "    <tr>\n",
       "      <th>57919</th>\n",
       "      <td>Victor Valley Vehicle Position</td>\n",
       "      <td>d2f0224819832ba7d0039ff5e84c5bdd</td>\n",
       "      <td>03003</td>\n",
       "      <td>175.00</td>\n",
       "      <td>62.00</td>\n",
       "      <td>466.98</td>\n",
       "      <td>527.62</td>\n",
       "      <td>60.63</td>\n",
       "      <td>721.00</td>\n",
       "      <td>17511975e027808131693786ab09493b</td>\n",
       "      <td>48.00</td>\n",
       "      <td>100.00</td>\n",
       "      <td>2.82</td>\n",
       "      <td>100</td>\n",
       "      <td>60</td>\n",
       "      <td>31-60 minutes</td>\n",
       "      <td>81-100%</td>\n",
       "    </tr>\n",
       "    <tr>\n",
       "      <th>30774</th>\n",
       "      <td>LA Metro Bus Vehicle Positions</td>\n",
       "      <td>7c48cc5675c9266fb6851070489c53e9</td>\n",
       "      <td>10051003300653-DEC22</td>\n",
       "      <td>222.00</td>\n",
       "      <td>75.00</td>\n",
       "      <td>395.17</td>\n",
       "      <td>471.15</td>\n",
       "      <td>75.98</td>\n",
       "      <td>10485.00</td>\n",
       "      <td>6adf6cd9b6d24ab4ee8ee220e3697a73</td>\n",
       "      <td>60.00</td>\n",
       "      <td>100.00</td>\n",
       "      <td>2.96</td>\n",
       "      <td>100</td>\n",
       "      <td>70</td>\n",
       "      <td>61-90 minutes</td>\n",
       "      <td>81-100%</td>\n",
       "    </tr>\n",
       "    <tr>\n",
       "      <th>95777</th>\n",
       "      <td>None</td>\n",
       "      <td>bfe6e539e689a9f4f49941a1cf6f2387</td>\n",
       "      <td>1299</td>\n",
       "      <td>0.00</td>\n",
       "      <td>0.00</td>\n",
       "      <td>0.00</td>\n",
       "      <td>0.00</td>\n",
       "      <td>0.00</td>\n",
       "      <td>0.00</td>\n",
       "      <td>d1b694a25d2e172e9ea98abe1829a0fd</td>\n",
       "      <td>23.68</td>\n",
       "      <td>0.00</td>\n",
       "      <td>0.00</td>\n",
       "      <td>0</td>\n",
       "      <td>0</td>\n",
       "      <td>0 - 30 minutes</td>\n",
       "      <td>0-20%</td>\n",
       "    </tr>\n",
       "    <tr>\n",
       "      <th>84243</th>\n",
       "      <td>None</td>\n",
       "      <td>c1f526828c8d4bba1c71bf647443f534</td>\n",
       "      <td>232977b3-f1c0-45b0-b70f-c98e57f4cd34:12</td>\n",
       "      <td>0.00</td>\n",
       "      <td>0.00</td>\n",
       "      <td>0.00</td>\n",
       "      <td>0.00</td>\n",
       "      <td>0.00</td>\n",
       "      <td>0.00</td>\n",
       "      <td>9bc1318305865dedb7d5a7049de0cb01</td>\n",
       "      <td>12.00</td>\n",
       "      <td>0.00</td>\n",
       "      <td>0.00</td>\n",
       "      <td>0</td>\n",
       "      <td>0</td>\n",
       "      <td>0 - 30 minutes</td>\n",
       "      <td>0-20%</td>\n",
       "    </tr>\n",
       "    <tr>\n",
       "      <th>19462</th>\n",
       "      <td>Bay Area 511 Tri Delta VehiclePositions</td>\n",
       "      <td>6ef1ef238c89b672380a82b091df9a2b</td>\n",
       "      <td>250</td>\n",
       "      <td>103.00</td>\n",
       "      <td>53.00</td>\n",
       "      <td>600.00</td>\n",
       "      <td>652.00</td>\n",
       "      <td>52.00</td>\n",
       "      <td>423.00</td>\n",
       "      <td>e5ca47feef0faf28ac77c8323489000a</td>\n",
       "      <td>41.00</td>\n",
       "      <td>100.00</td>\n",
       "      <td>1.94</td>\n",
       "      <td>100</td>\n",
       "      <td>50</td>\n",
       "      <td>31-60 minutes</td>\n",
       "      <td>81-100%</td>\n",
       "    </tr>\n",
       "    <tr>\n",
       "      <th>43890</th>\n",
       "      <td>OCTA VehiclePositions</td>\n",
       "      <td>0f68ec4d97d179570b494c74b6fca55d</td>\n",
       "      <td>10815774</td>\n",
       "      <td>354.00</td>\n",
       "      <td>123.00</td>\n",
       "      <td>984.63</td>\n",
       "      <td>1134.27</td>\n",
       "      <td>149.63</td>\n",
       "      <td>2499.00</td>\n",
       "      <td>8a47f5aa51f481e9ddc7c497bd72d264</td>\n",
       "      <td>122.00</td>\n",
       "      <td>100.00</td>\n",
       "      <td>2.88</td>\n",
       "      <td>100</td>\n",
       "      <td>140</td>\n",
       "      <td>90 + minutes</td>\n",
       "      <td>81-100%</td>\n",
       "    </tr>\n",
       "  </tbody>\n",
       "</table>\n",
       "</div>"
      ],
      "text/plain": [
       "                            _gtfs_dataset_name  \\\n",
       "23177               Foothill Vehicle Positions   \n",
       "68390                                     None   \n",
       "59491                                     None   \n",
       "47103               Riverside VehiclePositions   \n",
       "57919           Victor Valley Vehicle Position   \n",
       "30774           LA Metro Bus Vehicle Positions   \n",
       "95777                                     None   \n",
       "84243                                     None   \n",
       "19462  Bay Area 511 Tri Delta VehiclePositions   \n",
       "43890                    OCTA VehiclePositions   \n",
       "\n",
       "                       gtfs_dataset_key  \\\n",
       "23177  4594028c6c1ebbb6dbfb4284d7510b4e   \n",
       "68390  318c6bc87acccb67fb00aa9180aa5a12   \n",
       "59491  7c9fed045db42e3243ed76d228978321   \n",
       "47103  f1497340b654f3ce925f8b8c2f83e1c2   \n",
       "57919  d2f0224819832ba7d0039ff5e84c5bdd   \n",
       "30774  7c48cc5675c9266fb6851070489c53e9   \n",
       "95777  bfe6e539e689a9f4f49941a1cf6f2387   \n",
       "84243  c1f526828c8d4bba1c71bf647443f534   \n",
       "19462  6ef1ef238c89b672380a82b091df9a2b   \n",
       "43890  0f68ec4d97d179570b494c74b6fca55d   \n",
       "\n",
       "                                       trip_id  trip_ping_count  \\\n",
       "23177                          t3F2-b15FA9-sl5           134.00   \n",
       "68390                                 16877334             0.00   \n",
       "59491                 t348-b70-sl2_merged_1853             0.00   \n",
       "47103                                  1467020            85.00   \n",
       "57919                                    03003           175.00   \n",
       "30774                     10051003300653-DEC22           222.00   \n",
       "95777                                     1299             0.00   \n",
       "84243  232977b3-f1c0-45b0-b70f-c98e57f4cd34:12             0.00   \n",
       "19462                                      250           103.00   \n",
       "43890                                 10815774           354.00   \n",
       "\n",
       "       total_rt_min_coverage  start_minutes  end_minutes  \\\n",
       "23177                  73.00         613.07       687.40   \n",
       "68390                   0.00           0.00         0.00   \n",
       "59491                   0.00           0.00         0.00   \n",
       "47103                  44.00         779.93       826.80   \n",
       "57919                  62.00         466.98       527.62   \n",
       "30774                  75.00         395.17       471.15   \n",
       "95777                   0.00           0.00         0.00   \n",
       "84243                   0.00           0.00         0.00   \n",
       "19462                  53.00         600.00       652.00   \n",
       "43890                 123.00         984.63      1134.27   \n",
       "\n",
       "       actual_trip_duration_minutes  rt_trip_counts_by_operator  \\\n",
       "23177                         74.33                     1482.00   \n",
       "68390                          0.00                        0.00   \n",
       "59491                          0.00                        0.00   \n",
       "47103                         46.87                      917.00   \n",
       "57919                         60.63                      721.00   \n",
       "30774                         75.98                    10485.00   \n",
       "95777                          0.00                        0.00   \n",
       "84243                          0.00                        0.00   \n",
       "19462                         52.00                      423.00   \n",
       "43890                        149.63                     2499.00   \n",
       "\n",
       "                               feed_key  scheduled_service_minutes  \\\n",
       "23177  ac6628ccaa0137f5fe3663210b87c4e8                      79.00   \n",
       "68390  a7ba6f075198e9bf9152fab6c7faf0f6                      50.00   \n",
       "59491  25172f15a0229eca251fdeb5ab37e827                      48.00   \n",
       "47103  9520692b76037537fb6c14d126542292                      45.00   \n",
       "57919  17511975e027808131693786ab09493b                      48.00   \n",
       "30774  6adf6cd9b6d24ab4ee8ee220e3697a73                      60.00   \n",
       "95777  d1b694a25d2e172e9ea98abe1829a0fd                      23.68   \n",
       "84243  9bc1318305865dedb7d5a7049de0cb01                      12.00   \n",
       "19462  e5ca47feef0faf28ac77c8323489000a                      41.00   \n",
       "43890  8a47f5aa51f481e9ddc7c497bd72d264                     122.00   \n",
       "\n",
       "       rt_data_proportion_percentage  pings_per_minute  \\\n",
       "23177                          92.41              1.84   \n",
       "68390                           0.00              0.00   \n",
       "59491                           0.00              0.00   \n",
       "47103                          97.78              1.93   \n",
       "57919                         100.00              2.82   \n",
       "30774                         100.00              2.96   \n",
       "95777                           0.00              0.00   \n",
       "84243                           0.00              0.00   \n",
       "19462                         100.00              1.94   \n",
       "43890                         100.00              2.88   \n",
       "\n",
       "       rounded_rt_data_proportion_percentage  \\\n",
       "23177                                     90   \n",
       "68390                                      0   \n",
       "59491                                      0   \n",
       "47103                                     90   \n",
       "57919                                    100   \n",
       "30774                                    100   \n",
       "95777                                      0   \n",
       "84243                                      0   \n",
       "19462                                    100   \n",
       "43890                                    100   \n",
       "\n",
       "       rounded_actual_trip_duration_minutes   trip_category rt_category  \n",
       "23177                                    70   61-90 minutes     81-100%  \n",
       "68390                                     0  0 - 30 minutes       0-20%  \n",
       "59491                                     0  0 - 30 minutes       0-20%  \n",
       "47103                                    40   31-60 minutes     81-100%  \n",
       "57919                                    60   31-60 minutes     81-100%  \n",
       "30774                                    70   61-90 minutes     81-100%  \n",
       "95777                                     0  0 - 30 minutes       0-20%  \n",
       "84243                                     0  0 - 30 minutes       0-20%  \n",
       "19462                                    50   31-60 minutes     81-100%  \n",
       "43890                                   140    90 + minutes     81-100%  "
      ]
     },
     "execution_count": 37,
     "metadata": {},
     "output_type": "execute_result"
    }
   ],
   "source": [
    "final.sample(10)"
   ]
  },
  {
   "cell_type": "code",
   "execution_count": 38,
   "id": "7051573f-0dee-4718-8b21-fd2f42aa84e3",
   "metadata": {},
   "outputs": [],
   "source": [
    "# final.rounded_rt_data_proportion.value_counts()"
   ]
  },
  {
   "cell_type": "markdown",
   "id": "c6505c1e-3b25-45bd-a8fb-2cedc2f345a3",
   "metadata": {
    "toc-hr-collapsed": true
   },
   "source": [
    "### Deliverable 2 - Charts "
   ]
  },
  {
   "cell_type": "markdown",
   "id": "4e12b234-d05e-4eb1-9f4e-7ee314ee9346",
   "metadata": {},
   "source": [
    "#### Operator"
   ]
  },
  {
   "cell_type": "code",
   "execution_count": 39,
   "id": "f358a715-47c2-422b-b307-b0a95f77a74d",
   "metadata": {},
   "outputs": [],
   "source": [
    "# Exclude \"none\" operators which are only scheduled data\n",
    "# for the operator charts\n",
    "operator_wo_none = final.loc[final._gtfs_dataset_name != \"None\"][['_gtfs_dataset_name']]"
   ]
  },
  {
   "cell_type": "code",
   "execution_count": 40,
   "id": "af9f8ad0-320d-4273-9fe6-aadbb2cf7eed",
   "metadata": {},
   "outputs": [],
   "source": [
    "dropdown_list = operator_wo_none[\"_gtfs_dataset_name\"].unique().tolist()\n",
    "dropdown = alt.binding_select(options=[None] + dropdown_list, labels = ['All'] + dropdown_list, name = \"Operator\")    \n",
    "selection = alt.selection_single(fields=['_gtfs_dataset_name'], bind=dropdown)"
   ]
  },
  {
   "cell_type": "code",
   "execution_count": 41,
   "id": "26f441c1-2046-424b-971c-6017697ee999",
   "metadata": {},
   "outputs": [],
   "source": [
    "rt_scheduled = (final\n",
    "                .groupby(['_gtfs_dataset_name','rounded_rt_data_proportion_percentage'])\n",
    "                .agg({'rt_trip_counts_by_operator':'max','trip_id':'nunique'})\n",
    "                .reset_index()\n",
    "                .rename(columns = {'trip_id':'total_trips'})\n",
    "               )"
   ]
  },
  {
   "cell_type": "code",
   "execution_count": 42,
   "id": "8f7af80e-6581-4b6d-8fc7-f787fbc90adc",
   "metadata": {},
   "outputs": [],
   "source": [
    "rt_scheduled['percentage_of_trips'] = rt_scheduled.total_trips/rt_scheduled.rt_trip_counts_by_operator * 100"
   ]
  },
  {
   "cell_type": "code",
   "execution_count": 43,
   "id": "ac3f1d89-77f3-45f8-b263-0e56dc9800de",
   "metadata": {},
   "outputs": [],
   "source": [
    "rt_scheduled_chart = alt.Chart(rt_scheduled).mark_bar(size=30).encode(\n",
    "    x=alt.X('rounded_rt_data_proportion_percentage:N',\n",
    "        scale=alt.Scale(domain = [0,10,20,30,40,50,60,70,80,90,100])),\n",
    "    y=alt.Y('percentage_of_trips',),\n",
    "    color=alt.Color(\"rounded_rt_data_proportion_percentage\",\n",
    "            scale=alt.Scale(range=cp.CALITP_CATEGORY_BRIGHT_COLORS), legend=None),\n",
    "    tooltip = rt_scheduled.columns.tolist()\n",
    ").properties(title=\"% of RT minutes vs. Scheduled\").add_selection(selection).transform_filter(selection) "
   ]
  },
  {
   "cell_type": "code",
   "execution_count": 44,
   "id": "e0b4f09c-1e71-4835-9db3-4142ef0a0bac",
   "metadata": {},
   "outputs": [
    {
     "data": {
      "text/html": [
       "\n",
       "<div id=\"altair-viz-5553914e6e014826be38671daca05db5\"></div>\n",
       "<script type=\"text/javascript\">\n",
       "  var VEGA_DEBUG = (typeof VEGA_DEBUG == \"undefined\") ? {} : VEGA_DEBUG;\n",
       "  (function(spec, embedOpt){\n",
       "    let outputDiv = document.currentScript.previousElementSibling;\n",
       "    if (outputDiv.id !== \"altair-viz-5553914e6e014826be38671daca05db5\") {\n",
       "      outputDiv = document.getElementById(\"altair-viz-5553914e6e014826be38671daca05db5\");\n",
       "    }\n",
       "    const paths = {\n",
       "      \"vega\": \"https://cdn.jsdelivr.net/npm//vega@5?noext\",\n",
       "      \"vega-lib\": \"https://cdn.jsdelivr.net/npm//vega-lib?noext\",\n",
       "      \"vega-lite\": \"https://cdn.jsdelivr.net/npm//vega-lite@4.17.0?noext\",\n",
       "      \"vega-embed\": \"https://cdn.jsdelivr.net/npm//vega-embed@6?noext\",\n",
       "    };\n",
       "\n",
       "    function maybeLoadScript(lib, version) {\n",
       "      var key = `${lib.replace(\"-\", \"\")}_version`;\n",
       "      return (VEGA_DEBUG[key] == version) ?\n",
       "        Promise.resolve(paths[lib]) :\n",
       "        new Promise(function(resolve, reject) {\n",
       "          var s = document.createElement('script');\n",
       "          document.getElementsByTagName(\"head\")[0].appendChild(s);\n",
       "          s.async = true;\n",
       "          s.onload = () => {\n",
       "            VEGA_DEBUG[key] = version;\n",
       "            return resolve(paths[lib]);\n",
       "          };\n",
       "          s.onerror = () => reject(`Error loading script: ${paths[lib]}`);\n",
       "          s.src = paths[lib];\n",
       "        });\n",
       "    }\n",
       "\n",
       "    function showError(err) {\n",
       "      outputDiv.innerHTML = `<div class=\"error\" style=\"color:red;\">${err}</div>`;\n",
       "      throw err;\n",
       "    }\n",
       "\n",
       "    function displayChart(vegaEmbed) {\n",
       "      vegaEmbed(outputDiv, spec, embedOpt)\n",
       "        .catch(err => showError(`Javascript Error: ${err.message}<br>This usually means there's a typo in your chart specification. See the javascript console for the full traceback.`));\n",
       "    }\n",
       "\n",
       "    if(typeof define === \"function\" && define.amd) {\n",
       "      requirejs.config({paths});\n",
       "      require([\"vega-embed\"], displayChart, err => showError(`Error loading script: ${err.message}`));\n",
       "    } else {\n",
       "      maybeLoadScript(\"vega\", \"5\")\n",
       "        .then(() => maybeLoadScript(\"vega-lite\", \"4.17.0\"))\n",
       "        .then(() => maybeLoadScript(\"vega-embed\", \"6\"))\n",
       "        .catch(showError)\n",
       "        .then(() => displayChart(vegaEmbed));\n",
       "    }\n",
       "  })({\"config\": {\"view\": {\"continuousWidth\": 400, \"continuousHeight\": 300}}, \"data\": {\"name\": \"data-bdfd4dd2ecaf3bc852d8a6ada50d7f38\"}, \"mark\": {\"type\": \"bar\", \"size\": 30}, \"encoding\": {\"color\": {\"field\": \"rounded_rt_data_proportion_percentage\", \"legend\": null, \"scale\": {\"range\": [\"#2EA8CE\", \"#EB9F3C\", \"#F4D837\", \"#51BF9D\", \"#8CBCCB\", \"#9487C0\"]}, \"type\": \"quantitative\"}, \"tooltip\": [{\"field\": \"_gtfs_dataset_name\", \"type\": \"nominal\"}, {\"field\": \"rounded_rt_data_proportion_percentage\", \"type\": \"quantitative\"}, {\"field\": \"rt_trip_counts_by_operator\", \"type\": \"quantitative\"}, {\"field\": \"total_trips\", \"type\": \"quantitative\"}, {\"field\": \"percentage_of_trips\", \"type\": \"quantitative\"}], \"x\": {\"field\": \"rounded_rt_data_proportion_percentage\", \"scale\": {\"domain\": [0, 10, 20, 30, 40, 50, 60, 70, 80, 90, 100]}, \"type\": \"nominal\"}, \"y\": {\"field\": \"percentage_of_trips\", \"type\": \"quantitative\"}}, \"height\": 400, \"selection\": {\"selector001\": {\"type\": \"single\", \"fields\": [\"_gtfs_dataset_name\"], \"bind\": {\"input\": \"select\", \"options\": [null, \"Anaheim Resort VehiclePositions\", \"Antelope Valley Transit Authority Vehicle Positions\", \"Banning Pass Vehicle Positions\", \"Bay Area 511 AC Transit Vehicle Position\", \"Bay Area 511 Caltrain VehiclePositions\", \"Bay Area 511 County Connection VehiclePositions\", \"Bay Area 511 Dumbarton Express VehiclePositions\", \"Bay Area 511 Emery Go-Round VehiclePositions\", \"Bay Area 511 Fairfield and Suisun Transit Vehicle Positions\", \"Bay Area 511 Golden Gate Transit Vehicle Positions\", \"Bay Area 511 MVGO VehiclePositions\", \"Bay Area 511 Marin VehiclePositions\", \"Bay Area 511 Muni VehiclePositions\", \"Bay Area 511 Petaluma VehiclePositions\", \"Bay Area 511 SamTrans VehiclePositions\", \"Bay Area 511 San Francisco Bay Ferry VehiclePositions\", \"Bay Area 511 Santa Clara Transit VehiclePositions\", \"Bay Area 511 Santa Rosa CityBus VehiclePositions\", \"Bay Area 511 SolTrans VehiclePositions\", \"Bay Area 511 Sonoma County Transit Vehicle Positions\", \"Bay Area 511 Sonoma-Marin Area Rail Transit VehiclePositions\", \"Bay Area 511 Tri Delta VehiclePositions\", \"Bay Area 511 Tri-Valley Wheels VehiclePositions\", \"Bay Area 511 Union City Transit VehiclePositions\", \"Bay Area 511 Vine Transit VehiclePositions\", \"Bay Area 511 WestCAT VehiclePositions\", \"Beach Cities VehiclePositions\", \"Bear Vehicle Positions\", \"Beaumont Pass Vehicle Positions\", \"Big Blue Bus VehiclePositions\", \"BruinBus Vehicle Positions\", \"Burbank VehiclePositions\", \"Commerce VehiclePositions\", \"Eastern Sierra Vehicle Positions\", \"Elk Grove VehiclePositions\", \"Foothill Vehicle Positions\", \"Fresno Vehicle Positions\", \"GET VehiclePositions\", \"Humboldt Vehicle Positions\", \"Kings Vehicle Positions\", \"LA DOT VehiclePositions\", \"LA Metro Bus Vehicle Positions\", \"LA Metro Rail Vehicle Positions\", \"Lake Vehicle Positions\", \"Long Beach VehiclePositions\", \"Madera County Connection Vehicle Positions\", \"Montebello Vehicle Positions\", \"Monterey Salinas VehiclePositions\", \"Nevada County Vehicle Positions\", \"North County Vehicle Positions\", \"Norwalk Vehicle Positions\", \"OCTA VehiclePositions\", \"Pasadena VehiclePositions\", \"PresidiGo VehiclePositions\", \"Redding Vehicle Positions\", \"Redwood Coast Vehicle Positions\", \"Riverside VehiclePositions\", \"San Diego Vehicle Positions\", \"San Joaquin Vehicle Positions\", \"Santa Clarita VehiclePositions\", \"Santa Maria Vehicle Positions\", \"Santa Ynez Vehicle Positions\", \"StanRTA Vehicle Positions\", \"Tahoe Transportation Vehicle Positions\", \"Torrance Swiftly Vehicle Positions\", \"Torrance Vehicle Positions\", \"Turlock Vehicle Positions\", \"Unitrans Vehicle Positions\", \"VCTC Vehicle Positions\", \"Victor Valley Vehicle Position\", \"Visalia VehiclePositions\", \"WeHo Vehicle Positions\"], \"labels\": [\"All\", \"Anaheim Resort VehiclePositions\", \"Antelope Valley Transit Authority Vehicle Positions\", \"Banning Pass Vehicle Positions\", \"Bay Area 511 AC Transit Vehicle Position\", \"Bay Area 511 Caltrain VehiclePositions\", \"Bay Area 511 County Connection VehiclePositions\", \"Bay Area 511 Dumbarton Express VehiclePositions\", \"Bay Area 511 Emery Go-Round VehiclePositions\", \"Bay Area 511 Fairfield and Suisun Transit Vehicle Positions\", \"Bay Area 511 Golden Gate Transit Vehicle Positions\", \"Bay Area 511 MVGO VehiclePositions\", \"Bay Area 511 Marin VehiclePositions\", \"Bay Area 511 Muni VehiclePositions\", \"Bay Area 511 Petaluma VehiclePositions\", \"Bay Area 511 SamTrans VehiclePositions\", \"Bay Area 511 San Francisco Bay Ferry VehiclePositions\", \"Bay Area 511 Santa Clara Transit VehiclePositions\", \"Bay Area 511 Santa Rosa CityBus VehiclePositions\", \"Bay Area 511 SolTrans VehiclePositions\", \"Bay Area 511 Sonoma County Transit Vehicle Positions\", \"Bay Area 511 Sonoma-Marin Area Rail Transit VehiclePositions\", \"Bay Area 511 Tri Delta VehiclePositions\", \"Bay Area 511 Tri-Valley Wheels VehiclePositions\", \"Bay Area 511 Union City Transit VehiclePositions\", \"Bay Area 511 Vine Transit VehiclePositions\", \"Bay Area 511 WestCAT VehiclePositions\", \"Beach Cities VehiclePositions\", \"Bear Vehicle Positions\", \"Beaumont Pass Vehicle Positions\", \"Big Blue Bus VehiclePositions\", \"BruinBus Vehicle Positions\", \"Burbank VehiclePositions\", \"Commerce VehiclePositions\", \"Eastern Sierra Vehicle Positions\", \"Elk Grove VehiclePositions\", \"Foothill Vehicle Positions\", \"Fresno Vehicle Positions\", \"GET VehiclePositions\", \"Humboldt Vehicle Positions\", \"Kings Vehicle Positions\", \"LA DOT VehiclePositions\", \"LA Metro Bus Vehicle Positions\", \"LA Metro Rail Vehicle Positions\", \"Lake Vehicle Positions\", \"Long Beach VehiclePositions\", \"Madera County Connection Vehicle Positions\", \"Montebello Vehicle Positions\", \"Monterey Salinas VehiclePositions\", \"Nevada County Vehicle Positions\", \"North County Vehicle Positions\", \"Norwalk Vehicle Positions\", \"OCTA VehiclePositions\", \"Pasadena VehiclePositions\", \"PresidiGo VehiclePositions\", \"Redding Vehicle Positions\", \"Redwood Coast Vehicle Positions\", \"Riverside VehiclePositions\", \"San Diego Vehicle Positions\", \"San Joaquin Vehicle Positions\", \"Santa Clarita VehiclePositions\", \"Santa Maria Vehicle Positions\", \"Santa Ynez Vehicle Positions\", \"StanRTA Vehicle Positions\", \"Tahoe Transportation Vehicle Positions\", \"Torrance Swiftly Vehicle Positions\", \"Torrance Vehicle Positions\", \"Turlock Vehicle Positions\", \"Unitrans Vehicle Positions\", \"VCTC Vehicle Positions\", \"Victor Valley Vehicle Position\", \"Visalia VehiclePositions\", \"WeHo Vehicle Positions\"], \"name\": \"Operator\"}}}, \"title\": \"% of RT minutes vs. Scheduled\", \"transform\": [{\"filter\": {\"selection\": \"selector001\"}}], \"width\": 500, \"$schema\": \"https://vega.github.io/schema/vega-lite/v4.17.0.json\", \"datasets\": {\"data-bdfd4dd2ecaf3bc852d8a6ada50d7f38\": [{\"_gtfs_dataset_name\": \"Anaheim Resort VehiclePositions\", \"rounded_rt_data_proportion_percentage\": 0, \"rt_trip_counts_by_operator\": 336.0, \"total_trips\": 2, \"percentage_of_trips\": 0.5952380952380952}, {\"_gtfs_dataset_name\": \"Anaheim Resort VehiclePositions\", \"rounded_rt_data_proportion_percentage\": 10, \"rt_trip_counts_by_operator\": 336.0, \"total_trips\": 1, \"percentage_of_trips\": 0.2976190476190476}, {\"_gtfs_dataset_name\": \"Anaheim Resort VehiclePositions\", \"rounded_rt_data_proportion_percentage\": 20, \"rt_trip_counts_by_operator\": 336.0, \"total_trips\": 1, \"percentage_of_trips\": 0.2976190476190476}, {\"_gtfs_dataset_name\": \"Anaheim Resort VehiclePositions\", \"rounded_rt_data_proportion_percentage\": 30, \"rt_trip_counts_by_operator\": 336.0, \"total_trips\": 4, \"percentage_of_trips\": 1.1904761904761905}, {\"_gtfs_dataset_name\": \"Anaheim Resort VehiclePositions\", \"rounded_rt_data_proportion_percentage\": 40, \"rt_trip_counts_by_operator\": 336.0, \"total_trips\": 3, \"percentage_of_trips\": 0.8928571428571428}, {\"_gtfs_dataset_name\": \"Anaheim Resort VehiclePositions\", \"rounded_rt_data_proportion_percentage\": 50, \"rt_trip_counts_by_operator\": 336.0, \"total_trips\": 1, \"percentage_of_trips\": 0.2976190476190476}, {\"_gtfs_dataset_name\": \"Anaheim Resort VehiclePositions\", \"rounded_rt_data_proportion_percentage\": 60, \"rt_trip_counts_by_operator\": 336.0, \"total_trips\": 1, \"percentage_of_trips\": 0.2976190476190476}, {\"_gtfs_dataset_name\": \"Anaheim Resort VehiclePositions\", \"rounded_rt_data_proportion_percentage\": 70, \"rt_trip_counts_by_operator\": 336.0, \"total_trips\": 1, \"percentage_of_trips\": 0.2976190476190476}, {\"_gtfs_dataset_name\": \"Anaheim Resort VehiclePositions\", \"rounded_rt_data_proportion_percentage\": 80, \"rt_trip_counts_by_operator\": 336.0, \"total_trips\": 7, \"percentage_of_trips\": 2.083333333333333}, {\"_gtfs_dataset_name\": \"Anaheim Resort VehiclePositions\", \"rounded_rt_data_proportion_percentage\": 90, \"rt_trip_counts_by_operator\": 336.0, \"total_trips\": 7, \"percentage_of_trips\": 2.083333333333333}, {\"_gtfs_dataset_name\": \"Anaheim Resort VehiclePositions\", \"rounded_rt_data_proportion_percentage\": 100, \"rt_trip_counts_by_operator\": 336.0, \"total_trips\": 308, \"percentage_of_trips\": 91.66666666666666}, {\"_gtfs_dataset_name\": \"Antelope Valley Transit Authority Vehicle Positions\", \"rounded_rt_data_proportion_percentage\": 10, \"rt_trip_counts_by_operator\": 412.0, \"total_trips\": 1, \"percentage_of_trips\": 0.24271844660194172}, {\"_gtfs_dataset_name\": \"Antelope Valley Transit Authority Vehicle Positions\", \"rounded_rt_data_proportion_percentage\": 20, \"rt_trip_counts_by_operator\": 412.0, \"total_trips\": 3, \"percentage_of_trips\": 0.7281553398058253}, {\"_gtfs_dataset_name\": \"Antelope Valley Transit Authority Vehicle Positions\", \"rounded_rt_data_proportion_percentage\": 40, \"rt_trip_counts_by_operator\": 412.0, \"total_trips\": 3, \"percentage_of_trips\": 0.7281553398058253}, {\"_gtfs_dataset_name\": \"Antelope Valley Transit Authority Vehicle Positions\", \"rounded_rt_data_proportion_percentage\": 50, \"rt_trip_counts_by_operator\": 412.0, \"total_trips\": 5, \"percentage_of_trips\": 1.2135922330097086}, {\"_gtfs_dataset_name\": \"Antelope Valley Transit Authority Vehicle Positions\", \"rounded_rt_data_proportion_percentage\": 60, \"rt_trip_counts_by_operator\": 412.0, \"total_trips\": 3, \"percentage_of_trips\": 0.7281553398058253}, {\"_gtfs_dataset_name\": \"Antelope Valley Transit Authority Vehicle Positions\", \"rounded_rt_data_proportion_percentage\": 70, \"rt_trip_counts_by_operator\": 412.0, \"total_trips\": 10, \"percentage_of_trips\": 2.4271844660194173}, {\"_gtfs_dataset_name\": \"Antelope Valley Transit Authority Vehicle Positions\", \"rounded_rt_data_proportion_percentage\": 80, \"rt_trip_counts_by_operator\": 412.0, \"total_trips\": 48, \"percentage_of_trips\": 11.650485436893204}, {\"_gtfs_dataset_name\": \"Antelope Valley Transit Authority Vehicle Positions\", \"rounded_rt_data_proportion_percentage\": 90, \"rt_trip_counts_by_operator\": 412.0, \"total_trips\": 72, \"percentage_of_trips\": 17.475728155339805}, {\"_gtfs_dataset_name\": \"Antelope Valley Transit Authority Vehicle Positions\", \"rounded_rt_data_proportion_percentage\": 100, \"rt_trip_counts_by_operator\": 412.0, \"total_trips\": 267, \"percentage_of_trips\": 64.80582524271846}, {\"_gtfs_dataset_name\": \"Banning Pass Vehicle Positions\", \"rounded_rt_data_proportion_percentage\": 30, \"rt_trip_counts_by_operator\": 40.0, \"total_trips\": 2, \"percentage_of_trips\": 5.0}, {\"_gtfs_dataset_name\": \"Banning Pass Vehicle Positions\", \"rounded_rt_data_proportion_percentage\": 40, \"rt_trip_counts_by_operator\": 40.0, \"total_trips\": 5, \"percentage_of_trips\": 12.5}, {\"_gtfs_dataset_name\": \"Banning Pass Vehicle Positions\", \"rounded_rt_data_proportion_percentage\": 50, \"rt_trip_counts_by_operator\": 40.0, \"total_trips\": 1, \"percentage_of_trips\": 2.5}, {\"_gtfs_dataset_name\": \"Banning Pass Vehicle Positions\", \"rounded_rt_data_proportion_percentage\": 60, \"rt_trip_counts_by_operator\": 40.0, \"total_trips\": 2, \"percentage_of_trips\": 5.0}, {\"_gtfs_dataset_name\": \"Banning Pass Vehicle Positions\", \"rounded_rt_data_proportion_percentage\": 70, \"rt_trip_counts_by_operator\": 40.0, \"total_trips\": 10, \"percentage_of_trips\": 25.0}, {\"_gtfs_dataset_name\": \"Banning Pass Vehicle Positions\", \"rounded_rt_data_proportion_percentage\": 80, \"rt_trip_counts_by_operator\": 40.0, \"total_trips\": 14, \"percentage_of_trips\": 35.0}, {\"_gtfs_dataset_name\": \"Banning Pass Vehicle Positions\", \"rounded_rt_data_proportion_percentage\": 90, \"rt_trip_counts_by_operator\": 40.0, \"total_trips\": 5, \"percentage_of_trips\": 12.5}, {\"_gtfs_dataset_name\": \"Banning Pass Vehicle Positions\", \"rounded_rt_data_proportion_percentage\": 100, \"rt_trip_counts_by_operator\": 40.0, \"total_trips\": 1, \"percentage_of_trips\": 2.5}, {\"_gtfs_dataset_name\": \"Bay Area 511 AC Transit Vehicle Position\", \"rounded_rt_data_proportion_percentage\": 0, \"rt_trip_counts_by_operator\": 4068.0, \"total_trips\": 3, \"percentage_of_trips\": 0.07374631268436578}, {\"_gtfs_dataset_name\": \"Bay Area 511 AC Transit Vehicle Position\", \"rounded_rt_data_proportion_percentage\": 10, \"rt_trip_counts_by_operator\": 4068.0, \"total_trips\": 3, \"percentage_of_trips\": 0.07374631268436578}, {\"_gtfs_dataset_name\": \"Bay Area 511 AC Transit Vehicle Position\", \"rounded_rt_data_proportion_percentage\": 20, \"rt_trip_counts_by_operator\": 4068.0, \"total_trips\": 5, \"percentage_of_trips\": 0.12291052114060963}, {\"_gtfs_dataset_name\": \"Bay Area 511 AC Transit Vehicle Position\", \"rounded_rt_data_proportion_percentage\": 30, \"rt_trip_counts_by_operator\": 4068.0, \"total_trips\": 5, \"percentage_of_trips\": 0.12291052114060963}, {\"_gtfs_dataset_name\": \"Bay Area 511 AC Transit Vehicle Position\", \"rounded_rt_data_proportion_percentage\": 40, \"rt_trip_counts_by_operator\": 4068.0, \"total_trips\": 6, \"percentage_of_trips\": 0.14749262536873156}, {\"_gtfs_dataset_name\": \"Bay Area 511 AC Transit Vehicle Position\", \"rounded_rt_data_proportion_percentage\": 50, \"rt_trip_counts_by_operator\": 4068.0, \"total_trips\": 12, \"percentage_of_trips\": 0.2949852507374631}, {\"_gtfs_dataset_name\": \"Bay Area 511 AC Transit Vehicle Position\", \"rounded_rt_data_proportion_percentage\": 60, \"rt_trip_counts_by_operator\": 4068.0, \"total_trips\": 14, \"percentage_of_trips\": 0.344149459193707}, {\"_gtfs_dataset_name\": \"Bay Area 511 AC Transit Vehicle Position\", \"rounded_rt_data_proportion_percentage\": 70, \"rt_trip_counts_by_operator\": 4068.0, \"total_trips\": 31, \"percentage_of_trips\": 0.7620452310717798}, {\"_gtfs_dataset_name\": \"Bay Area 511 AC Transit Vehicle Position\", \"rounded_rt_data_proportion_percentage\": 80, \"rt_trip_counts_by_operator\": 4068.0, \"total_trips\": 70, \"percentage_of_trips\": 1.720747295968535}, {\"_gtfs_dataset_name\": \"Bay Area 511 AC Transit Vehicle Position\", \"rounded_rt_data_proportion_percentage\": 90, \"rt_trip_counts_by_operator\": 4068.0, \"total_trips\": 98, \"percentage_of_trips\": 2.4090462143559486}, {\"_gtfs_dataset_name\": \"Bay Area 511 AC Transit Vehicle Position\", \"rounded_rt_data_proportion_percentage\": 100, \"rt_trip_counts_by_operator\": 4068.0, \"total_trips\": 3821, \"percentage_of_trips\": 93.92822025565388}, {\"_gtfs_dataset_name\": \"Bay Area 511 Caltrain VehiclePositions\", \"rounded_rt_data_proportion_percentage\": 30, \"rt_trip_counts_by_operator\": 52.0, \"total_trips\": 1, \"percentage_of_trips\": 1.9230769230769231}, {\"_gtfs_dataset_name\": \"Bay Area 511 Caltrain VehiclePositions\", \"rounded_rt_data_proportion_percentage\": 40, \"rt_trip_counts_by_operator\": 52.0, \"total_trips\": 1, \"percentage_of_trips\": 1.9230769230769231}, {\"_gtfs_dataset_name\": \"Bay Area 511 Caltrain VehiclePositions\", \"rounded_rt_data_proportion_percentage\": 80, \"rt_trip_counts_by_operator\": 52.0, \"total_trips\": 2, \"percentage_of_trips\": 3.8461538461538463}, {\"_gtfs_dataset_name\": \"Bay Area 511 Caltrain VehiclePositions\", \"rounded_rt_data_proportion_percentage\": 90, \"rt_trip_counts_by_operator\": 52.0, \"total_trips\": 5, \"percentage_of_trips\": 9.615384615384617}, {\"_gtfs_dataset_name\": \"Bay Area 511 Caltrain VehiclePositions\", \"rounded_rt_data_proportion_percentage\": 100, \"rt_trip_counts_by_operator\": 52.0, \"total_trips\": 43, \"percentage_of_trips\": 82.6923076923077}, {\"_gtfs_dataset_name\": \"Bay Area 511 County Connection VehiclePositions\", \"rounded_rt_data_proportion_percentage\": 0, \"rt_trip_counts_by_operator\": 777.0, \"total_trips\": 1, \"percentage_of_trips\": 0.1287001287001287}, {\"_gtfs_dataset_name\": \"Bay Area 511 County Connection VehiclePositions\", \"rounded_rt_data_proportion_percentage\": 10, \"rt_trip_counts_by_operator\": 777.0, \"total_trips\": 2, \"percentage_of_trips\": 0.2574002574002574}, {\"_gtfs_dataset_name\": \"Bay Area 511 County Connection VehiclePositions\", \"rounded_rt_data_proportion_percentage\": 20, \"rt_trip_counts_by_operator\": 777.0, \"total_trips\": 1, \"percentage_of_trips\": 0.1287001287001287}, {\"_gtfs_dataset_name\": \"Bay Area 511 County Connection VehiclePositions\", \"rounded_rt_data_proportion_percentage\": 30, \"rt_trip_counts_by_operator\": 777.0, \"total_trips\": 4, \"percentage_of_trips\": 0.5148005148005148}, {\"_gtfs_dataset_name\": \"Bay Area 511 County Connection VehiclePositions\", \"rounded_rt_data_proportion_percentage\": 40, \"rt_trip_counts_by_operator\": 777.0, \"total_trips\": 2, \"percentage_of_trips\": 0.2574002574002574}, {\"_gtfs_dataset_name\": \"Bay Area 511 County Connection VehiclePositions\", \"rounded_rt_data_proportion_percentage\": 50, \"rt_trip_counts_by_operator\": 777.0, \"total_trips\": 5, \"percentage_of_trips\": 0.6435006435006435}, {\"_gtfs_dataset_name\": \"Bay Area 511 County Connection VehiclePositions\", \"rounded_rt_data_proportion_percentage\": 60, \"rt_trip_counts_by_operator\": 777.0, \"total_trips\": 4, \"percentage_of_trips\": 0.5148005148005148}, {\"_gtfs_dataset_name\": \"Bay Area 511 County Connection VehiclePositions\", \"rounded_rt_data_proportion_percentage\": 70, \"rt_trip_counts_by_operator\": 777.0, \"total_trips\": 9, \"percentage_of_trips\": 1.1583011583011582}, {\"_gtfs_dataset_name\": \"Bay Area 511 County Connection VehiclePositions\", \"rounded_rt_data_proportion_percentage\": 80, \"rt_trip_counts_by_operator\": 777.0, \"total_trips\": 20, \"percentage_of_trips\": 2.574002574002574}, {\"_gtfs_dataset_name\": \"Bay Area 511 County Connection VehiclePositions\", \"rounded_rt_data_proportion_percentage\": 90, \"rt_trip_counts_by_operator\": 777.0, \"total_trips\": 39, \"percentage_of_trips\": 5.019305019305019}, {\"_gtfs_dataset_name\": \"Bay Area 511 County Connection VehiclePositions\", \"rounded_rt_data_proportion_percentage\": 100, \"rt_trip_counts_by_operator\": 777.0, \"total_trips\": 690, \"percentage_of_trips\": 88.8030888030888}, {\"_gtfs_dataset_name\": \"Bay Area 511 Dumbarton Express VehiclePositions\", \"rounded_rt_data_proportion_percentage\": 60, \"rt_trip_counts_by_operator\": 40.0, \"total_trips\": 2, \"percentage_of_trips\": 5.0}, {\"_gtfs_dataset_name\": \"Bay Area 511 Dumbarton Express VehiclePositions\", \"rounded_rt_data_proportion_percentage\": 70, \"rt_trip_counts_by_operator\": 40.0, \"total_trips\": 1, \"percentage_of_trips\": 2.5}, {\"_gtfs_dataset_name\": \"Bay Area 511 Dumbarton Express VehiclePositions\", \"rounded_rt_data_proportion_percentage\": 80, \"rt_trip_counts_by_operator\": 40.0, \"total_trips\": 2, \"percentage_of_trips\": 5.0}, {\"_gtfs_dataset_name\": \"Bay Area 511 Dumbarton Express VehiclePositions\", \"rounded_rt_data_proportion_percentage\": 90, \"rt_trip_counts_by_operator\": 40.0, \"total_trips\": 4, \"percentage_of_trips\": 10.0}, {\"_gtfs_dataset_name\": \"Bay Area 511 Dumbarton Express VehiclePositions\", \"rounded_rt_data_proportion_percentage\": 100, \"rt_trip_counts_by_operator\": 40.0, \"total_trips\": 31, \"percentage_of_trips\": 77.5}, {\"_gtfs_dataset_name\": \"Bay Area 511 Emery Go-Round VehiclePositions\", \"rounded_rt_data_proportion_percentage\": 70, \"rt_trip_counts_by_operator\": 109.0, \"total_trips\": 2, \"percentage_of_trips\": 1.834862385321101}, {\"_gtfs_dataset_name\": \"Bay Area 511 Emery Go-Round VehiclePositions\", \"rounded_rt_data_proportion_percentage\": 90, \"rt_trip_counts_by_operator\": 109.0, \"total_trips\": 3, \"percentage_of_trips\": 2.7522935779816518}, {\"_gtfs_dataset_name\": \"Bay Area 511 Emery Go-Round VehiclePositions\", \"rounded_rt_data_proportion_percentage\": 100, \"rt_trip_counts_by_operator\": 109.0, \"total_trips\": 104, \"percentage_of_trips\": 95.41284403669725}, {\"_gtfs_dataset_name\": \"Bay Area 511 Fairfield and Suisun Transit Vehicle Positions\", \"rounded_rt_data_proportion_percentage\": 50, \"rt_trip_counts_by_operator\": 258.0, \"total_trips\": 1, \"percentage_of_trips\": 0.3875968992248062}, {\"_gtfs_dataset_name\": \"Bay Area 511 Fairfield and Suisun Transit Vehicle Positions\", \"rounded_rt_data_proportion_percentage\": 70, \"rt_trip_counts_by_operator\": 258.0, \"total_trips\": 7, \"percentage_of_trips\": 2.7131782945736433}, {\"_gtfs_dataset_name\": \"Bay Area 511 Fairfield and Suisun Transit Vehicle Positions\", \"rounded_rt_data_proportion_percentage\": 80, \"rt_trip_counts_by_operator\": 258.0, \"total_trips\": 6, \"percentage_of_trips\": 2.3255813953488373}, {\"_gtfs_dataset_name\": \"Bay Area 511 Fairfield and Suisun Transit Vehicle Positions\", \"rounded_rt_data_proportion_percentage\": 90, \"rt_trip_counts_by_operator\": 258.0, \"total_trips\": 25, \"percentage_of_trips\": 9.689922480620156}, {\"_gtfs_dataset_name\": \"Bay Area 511 Fairfield and Suisun Transit Vehicle Positions\", \"rounded_rt_data_proportion_percentage\": 100, \"rt_trip_counts_by_operator\": 258.0, \"total_trips\": 219, \"percentage_of_trips\": 84.88372093023256}, {\"_gtfs_dataset_name\": \"Bay Area 511 Golden Gate Transit Vehicle Positions\", \"rounded_rt_data_proportion_percentage\": 60, \"rt_trip_counts_by_operator\": 148.0, \"total_trips\": 1, \"percentage_of_trips\": 0.6756756756756757}, {\"_gtfs_dataset_name\": \"Bay Area 511 Golden Gate Transit Vehicle Positions\", \"rounded_rt_data_proportion_percentage\": 70, \"rt_trip_counts_by_operator\": 148.0, \"total_trips\": 3, \"percentage_of_trips\": 2.027027027027027}, {\"_gtfs_dataset_name\": \"Bay Area 511 Golden Gate Transit Vehicle Positions\", \"rounded_rt_data_proportion_percentage\": 80, \"rt_trip_counts_by_operator\": 148.0, \"total_trips\": 24, \"percentage_of_trips\": 16.216216216216218}, {\"_gtfs_dataset_name\": \"Bay Area 511 Golden Gate Transit Vehicle Positions\", \"rounded_rt_data_proportion_percentage\": 90, \"rt_trip_counts_by_operator\": 148.0, \"total_trips\": 56, \"percentage_of_trips\": 37.83783783783784}, {\"_gtfs_dataset_name\": \"Bay Area 511 Golden Gate Transit Vehicle Positions\", \"rounded_rt_data_proportion_percentage\": 100, \"rt_trip_counts_by_operator\": 148.0, \"total_trips\": 64, \"percentage_of_trips\": 43.24324324324324}, {\"_gtfs_dataset_name\": \"Bay Area 511 MVGO VehiclePositions\", \"rounded_rt_data_proportion_percentage\": 80, \"rt_trip_counts_by_operator\": 78.0, \"total_trips\": 1, \"percentage_of_trips\": 1.282051282051282}, {\"_gtfs_dataset_name\": \"Bay Area 511 MVGO VehiclePositions\", \"rounded_rt_data_proportion_percentage\": 90, \"rt_trip_counts_by_operator\": 78.0, \"total_trips\": 1, \"percentage_of_trips\": 1.282051282051282}, {\"_gtfs_dataset_name\": \"Bay Area 511 MVGO VehiclePositions\", \"rounded_rt_data_proportion_percentage\": 100, \"rt_trip_counts_by_operator\": 78.0, \"total_trips\": 76, \"percentage_of_trips\": 97.43589743589743}, {\"_gtfs_dataset_name\": \"Bay Area 511 Marin VehiclePositions\", \"rounded_rt_data_proportion_percentage\": 0, \"rt_trip_counts_by_operator\": 544.0, \"total_trips\": 3, \"percentage_of_trips\": 0.5514705882352942}, {\"_gtfs_dataset_name\": \"Bay Area 511 Marin VehiclePositions\", \"rounded_rt_data_proportion_percentage\": 10, \"rt_trip_counts_by_operator\": 544.0, \"total_trips\": 3, \"percentage_of_trips\": 0.5514705882352942}, {\"_gtfs_dataset_name\": \"Bay Area 511 Marin VehiclePositions\", \"rounded_rt_data_proportion_percentage\": 40, \"rt_trip_counts_by_operator\": 544.0, \"total_trips\": 2, \"percentage_of_trips\": 0.3676470588235294}, {\"_gtfs_dataset_name\": \"Bay Area 511 Marin VehiclePositions\", \"rounded_rt_data_proportion_percentage\": 50, \"rt_trip_counts_by_operator\": 544.0, \"total_trips\": 6, \"percentage_of_trips\": 1.1029411764705883}, {\"_gtfs_dataset_name\": \"Bay Area 511 Marin VehiclePositions\", \"rounded_rt_data_proportion_percentage\": 60, \"rt_trip_counts_by_operator\": 544.0, \"total_trips\": 7, \"percentage_of_trips\": 1.2867647058823528}, {\"_gtfs_dataset_name\": \"Bay Area 511 Marin VehiclePositions\", \"rounded_rt_data_proportion_percentage\": 70, \"rt_trip_counts_by_operator\": 544.0, \"total_trips\": 13, \"percentage_of_trips\": 2.389705882352941}, {\"_gtfs_dataset_name\": \"Bay Area 511 Marin VehiclePositions\", \"rounded_rt_data_proportion_percentage\": 80, \"rt_trip_counts_by_operator\": 544.0, \"total_trips\": 40, \"percentage_of_trips\": 7.352941176470589}, {\"_gtfs_dataset_name\": \"Bay Area 511 Marin VehiclePositions\", \"rounded_rt_data_proportion_percentage\": 90, \"rt_trip_counts_by_operator\": 544.0, \"total_trips\": 88, \"percentage_of_trips\": 16.176470588235293}, {\"_gtfs_dataset_name\": \"Bay Area 511 Marin VehiclePositions\", \"rounded_rt_data_proportion_percentage\": 100, \"rt_trip_counts_by_operator\": 544.0, \"total_trips\": 382, \"percentage_of_trips\": 70.22058823529412}, {\"_gtfs_dataset_name\": \"Bay Area 511 Muni VehiclePositions\", \"rounded_rt_data_proportion_percentage\": 0, \"rt_trip_counts_by_operator\": 6919.0, \"total_trips\": 12, \"percentage_of_trips\": 0.1734354675531146}, {\"_gtfs_dataset_name\": \"Bay Area 511 Muni VehiclePositions\", \"rounded_rt_data_proportion_percentage\": 10, \"rt_trip_counts_by_operator\": 6919.0, \"total_trips\": 15, \"percentage_of_trips\": 0.21679433444139326}, {\"_gtfs_dataset_name\": \"Bay Area 511 Muni VehiclePositions\", \"rounded_rt_data_proportion_percentage\": 20, \"rt_trip_counts_by_operator\": 6919.0, \"total_trips\": 12, \"percentage_of_trips\": 0.1734354675531146}, {\"_gtfs_dataset_name\": \"Bay Area 511 Muni VehiclePositions\", \"rounded_rt_data_proportion_percentage\": 30, \"rt_trip_counts_by_operator\": 6919.0, \"total_trips\": 18, \"percentage_of_trips\": 0.26015320132967196}, {\"_gtfs_dataset_name\": \"Bay Area 511 Muni VehiclePositions\", \"rounded_rt_data_proportion_percentage\": 40, \"rt_trip_counts_by_operator\": 6919.0, \"total_trips\": 18, \"percentage_of_trips\": 0.26015320132967196}, {\"_gtfs_dataset_name\": \"Bay Area 511 Muni VehiclePositions\", \"rounded_rt_data_proportion_percentage\": 50, \"rt_trip_counts_by_operator\": 6919.0, \"total_trips\": 31, \"percentage_of_trips\": 0.44804162451221274}, {\"_gtfs_dataset_name\": \"Bay Area 511 Muni VehiclePositions\", \"rounded_rt_data_proportion_percentage\": 60, \"rt_trip_counts_by_operator\": 6919.0, \"total_trips\": 32, \"percentage_of_trips\": 0.462494580141639}, {\"_gtfs_dataset_name\": \"Bay Area 511 Muni VehiclePositions\", \"rounded_rt_data_proportion_percentage\": 70, \"rt_trip_counts_by_operator\": 6919.0, \"total_trips\": 42, \"percentage_of_trips\": 0.6070241364359011}, {\"_gtfs_dataset_name\": \"Bay Area 511 Muni VehiclePositions\", \"rounded_rt_data_proportion_percentage\": 80, \"rt_trip_counts_by_operator\": 6919.0, \"total_trips\": 164, \"percentage_of_trips\": 2.3702847232258994}, {\"_gtfs_dataset_name\": \"Bay Area 511 Muni VehiclePositions\", \"rounded_rt_data_proportion_percentage\": 90, \"rt_trip_counts_by_operator\": 6919.0, \"total_trips\": 431, \"percentage_of_trips\": 6.2292238762827}, {\"_gtfs_dataset_name\": \"Bay Area 511 Muni VehiclePositions\", \"rounded_rt_data_proportion_percentage\": 100, \"rt_trip_counts_by_operator\": 6919.0, \"total_trips\": 6144, \"percentage_of_trips\": 88.79895938719467}, {\"_gtfs_dataset_name\": \"Bay Area 511 Petaluma VehiclePositions\", \"rounded_rt_data_proportion_percentage\": 10, \"rt_trip_counts_by_operator\": 120.0, \"total_trips\": 1, \"percentage_of_trips\": 0.8333333333333334}, {\"_gtfs_dataset_name\": \"Bay Area 511 Petaluma VehiclePositions\", \"rounded_rt_data_proportion_percentage\": 20, \"rt_trip_counts_by_operator\": 120.0, \"total_trips\": 1, \"percentage_of_trips\": 0.8333333333333334}, {\"_gtfs_dataset_name\": \"Bay Area 511 Petaluma VehiclePositions\", \"rounded_rt_data_proportion_percentage\": 50, \"rt_trip_counts_by_operator\": 120.0, \"total_trips\": 3, \"percentage_of_trips\": 2.5}, {\"_gtfs_dataset_name\": \"Bay Area 511 Petaluma VehiclePositions\", \"rounded_rt_data_proportion_percentage\": 70, \"rt_trip_counts_by_operator\": 120.0, \"total_trips\": 3, \"percentage_of_trips\": 2.5}, {\"_gtfs_dataset_name\": \"Bay Area 511 Petaluma VehiclePositions\", \"rounded_rt_data_proportion_percentage\": 80, \"rt_trip_counts_by_operator\": 120.0, \"total_trips\": 6, \"percentage_of_trips\": 5.0}, {\"_gtfs_dataset_name\": \"Bay Area 511 Petaluma VehiclePositions\", \"rounded_rt_data_proportion_percentage\": 90, \"rt_trip_counts_by_operator\": 120.0, \"total_trips\": 11, \"percentage_of_trips\": 9.166666666666666}, {\"_gtfs_dataset_name\": \"Bay Area 511 Petaluma VehiclePositions\", \"rounded_rt_data_proportion_percentage\": 100, \"rt_trip_counts_by_operator\": 120.0, \"total_trips\": 95, \"percentage_of_trips\": 79.16666666666666}, {\"_gtfs_dataset_name\": \"Bay Area 511 SamTrans VehiclePositions\", \"rounded_rt_data_proportion_percentage\": 0, \"rt_trip_counts_by_operator\": 1129.0, \"total_trips\": 2, \"percentage_of_trips\": 0.1771479185119575}, {\"_gtfs_dataset_name\": \"Bay Area 511 SamTrans VehiclePositions\", \"rounded_rt_data_proportion_percentage\": 10, \"rt_trip_counts_by_operator\": 1129.0, \"total_trips\": 5, \"percentage_of_trips\": 0.44286979627989376}, {\"_gtfs_dataset_name\": \"Bay Area 511 SamTrans VehiclePositions\", \"rounded_rt_data_proportion_percentage\": 20, \"rt_trip_counts_by_operator\": 1129.0, \"total_trips\": 7, \"percentage_of_trips\": 0.6200177147918512}, {\"_gtfs_dataset_name\": \"Bay Area 511 SamTrans VehiclePositions\", \"rounded_rt_data_proportion_percentage\": 30, \"rt_trip_counts_by_operator\": 1129.0, \"total_trips\": 3, \"percentage_of_trips\": 0.2657218777679362}, {\"_gtfs_dataset_name\": \"Bay Area 511 SamTrans VehiclePositions\", \"rounded_rt_data_proportion_percentage\": 40, \"rt_trip_counts_by_operator\": 1129.0, \"total_trips\": 1, \"percentage_of_trips\": 0.08857395925597875}, {\"_gtfs_dataset_name\": \"Bay Area 511 SamTrans VehiclePositions\", \"rounded_rt_data_proportion_percentage\": 50, \"rt_trip_counts_by_operator\": 1129.0, \"total_trips\": 5, \"percentage_of_trips\": 0.44286979627989376}, {\"_gtfs_dataset_name\": \"Bay Area 511 SamTrans VehiclePositions\", \"rounded_rt_data_proportion_percentage\": 60, \"rt_trip_counts_by_operator\": 1129.0, \"total_trips\": 7, \"percentage_of_trips\": 0.6200177147918512}, {\"_gtfs_dataset_name\": \"Bay Area 511 SamTrans VehiclePositions\", \"rounded_rt_data_proportion_percentage\": 70, \"rt_trip_counts_by_operator\": 1129.0, \"total_trips\": 15, \"percentage_of_trips\": 1.328609388839681}, {\"_gtfs_dataset_name\": \"Bay Area 511 SamTrans VehiclePositions\", \"rounded_rt_data_proportion_percentage\": 80, \"rt_trip_counts_by_operator\": 1129.0, \"total_trips\": 57, \"percentage_of_trips\": 5.048715677590788}, {\"_gtfs_dataset_name\": \"Bay Area 511 SamTrans VehiclePositions\", \"rounded_rt_data_proportion_percentage\": 90, \"rt_trip_counts_by_operator\": 1129.0, \"total_trips\": 278, \"percentage_of_trips\": 24.62356067316209}, {\"_gtfs_dataset_name\": \"Bay Area 511 SamTrans VehiclePositions\", \"rounded_rt_data_proportion_percentage\": 100, \"rt_trip_counts_by_operator\": 1129.0, \"total_trips\": 749, \"percentage_of_trips\": 66.34189548272808}, {\"_gtfs_dataset_name\": \"Bay Area 511 San Francisco Bay Ferry VehiclePositions\", \"rounded_rt_data_proportion_percentage\": 10, \"rt_trip_counts_by_operator\": 133.0, \"total_trips\": 4, \"percentage_of_trips\": 3.007518796992481}, {\"_gtfs_dataset_name\": \"Bay Area 511 San Francisco Bay Ferry VehiclePositions\", \"rounded_rt_data_proportion_percentage\": 20, \"rt_trip_counts_by_operator\": 133.0, \"total_trips\": 6, \"percentage_of_trips\": 4.511278195488721}, {\"_gtfs_dataset_name\": \"Bay Area 511 San Francisco Bay Ferry VehiclePositions\", \"rounded_rt_data_proportion_percentage\": 30, \"rt_trip_counts_by_operator\": 133.0, \"total_trips\": 3, \"percentage_of_trips\": 2.2556390977443606}, {\"_gtfs_dataset_name\": \"Bay Area 511 San Francisco Bay Ferry VehiclePositions\", \"rounded_rt_data_proportion_percentage\": 40, \"rt_trip_counts_by_operator\": 133.0, \"total_trips\": 13, \"percentage_of_trips\": 9.774436090225564}, {\"_gtfs_dataset_name\": \"Bay Area 511 San Francisco Bay Ferry VehiclePositions\", \"rounded_rt_data_proportion_percentage\": 50, \"rt_trip_counts_by_operator\": 133.0, \"total_trips\": 20, \"percentage_of_trips\": 15.037593984962406}, {\"_gtfs_dataset_name\": \"Bay Area 511 San Francisco Bay Ferry VehiclePositions\", \"rounded_rt_data_proportion_percentage\": 60, \"rt_trip_counts_by_operator\": 133.0, \"total_trips\": 12, \"percentage_of_trips\": 9.022556390977442}, {\"_gtfs_dataset_name\": \"Bay Area 511 San Francisco Bay Ferry VehiclePositions\", \"rounded_rt_data_proportion_percentage\": 70, \"rt_trip_counts_by_operator\": 133.0, \"total_trips\": 5, \"percentage_of_trips\": 3.7593984962406015}, {\"_gtfs_dataset_name\": \"Bay Area 511 San Francisco Bay Ferry VehiclePositions\", \"rounded_rt_data_proportion_percentage\": 80, \"rt_trip_counts_by_operator\": 133.0, \"total_trips\": 16, \"percentage_of_trips\": 12.030075187969924}, {\"_gtfs_dataset_name\": \"Bay Area 511 San Francisco Bay Ferry VehiclePositions\", \"rounded_rt_data_proportion_percentage\": 90, \"rt_trip_counts_by_operator\": 133.0, \"total_trips\": 5, \"percentage_of_trips\": 3.7593984962406015}, {\"_gtfs_dataset_name\": \"Bay Area 511 San Francisco Bay Ferry VehiclePositions\", \"rounded_rt_data_proportion_percentage\": 100, \"rt_trip_counts_by_operator\": 133.0, \"total_trips\": 49, \"percentage_of_trips\": 36.84210526315789}, {\"_gtfs_dataset_name\": \"Bay Area 511 Santa Clara Transit VehiclePositions\", \"rounded_rt_data_proportion_percentage\": 0, \"rt_trip_counts_by_operator\": 3109.0, \"total_trips\": 23, \"percentage_of_trips\": 0.7397877130910261}, {\"_gtfs_dataset_name\": \"Bay Area 511 Santa Clara Transit VehiclePositions\", \"rounded_rt_data_proportion_percentage\": 10, \"rt_trip_counts_by_operator\": 3109.0, \"total_trips\": 13, \"percentage_of_trips\": 0.418140881312319}, {\"_gtfs_dataset_name\": \"Bay Area 511 Santa Clara Transit VehiclePositions\", \"rounded_rt_data_proportion_percentage\": 20, \"rt_trip_counts_by_operator\": 3109.0, \"total_trips\": 4, \"percentage_of_trips\": 0.1286587327114828}, {\"_gtfs_dataset_name\": \"Bay Area 511 Santa Clara Transit VehiclePositions\", \"rounded_rt_data_proportion_percentage\": 30, \"rt_trip_counts_by_operator\": 3109.0, \"total_trips\": 3, \"percentage_of_trips\": 0.0964940495336121}, {\"_gtfs_dataset_name\": \"Bay Area 511 Santa Clara Transit VehiclePositions\", \"rounded_rt_data_proportion_percentage\": 40, \"rt_trip_counts_by_operator\": 3109.0, \"total_trips\": 7, \"percentage_of_trips\": 0.2251527822450949}, {\"_gtfs_dataset_name\": \"Bay Area 511 Santa Clara Transit VehiclePositions\", \"rounded_rt_data_proportion_percentage\": 50, \"rt_trip_counts_by_operator\": 3109.0, \"total_trips\": 9, \"percentage_of_trips\": 0.2894821486008363}, {\"_gtfs_dataset_name\": \"Bay Area 511 Santa Clara Transit VehiclePositions\", \"rounded_rt_data_proportion_percentage\": 60, \"rt_trip_counts_by_operator\": 3109.0, \"total_trips\": 5, \"percentage_of_trips\": 0.16082341588935348}, {\"_gtfs_dataset_name\": \"Bay Area 511 Santa Clara Transit VehiclePositions\", \"rounded_rt_data_proportion_percentage\": 70, \"rt_trip_counts_by_operator\": 3109.0, \"total_trips\": 13, \"percentage_of_trips\": 0.418140881312319}, {\"_gtfs_dataset_name\": \"Bay Area 511 Santa Clara Transit VehiclePositions\", \"rounded_rt_data_proportion_percentage\": 80, \"rt_trip_counts_by_operator\": 3109.0, \"total_trips\": 67, \"percentage_of_trips\": 2.1550337729173368}, {\"_gtfs_dataset_name\": \"Bay Area 511 Santa Clara Transit VehiclePositions\", \"rounded_rt_data_proportion_percentage\": 90, \"rt_trip_counts_by_operator\": 3109.0, \"total_trips\": 155, \"percentage_of_trips\": 4.9855258925699575}, {\"_gtfs_dataset_name\": \"Bay Area 511 Santa Clara Transit VehiclePositions\", \"rounded_rt_data_proportion_percentage\": 100, \"rt_trip_counts_by_operator\": 3109.0, \"total_trips\": 2810, \"percentage_of_trips\": 90.38275972981667}, {\"_gtfs_dataset_name\": \"Bay Area 511 Santa Rosa CityBus VehiclePositions\", \"rounded_rt_data_proportion_percentage\": 20, \"rt_trip_counts_by_operator\": 516.0, \"total_trips\": 1, \"percentage_of_trips\": 0.1937984496124031}, {\"_gtfs_dataset_name\": \"Bay Area 511 Santa Rosa CityBus VehiclePositions\", \"rounded_rt_data_proportion_percentage\": 40, \"rt_trip_counts_by_operator\": 516.0, \"total_trips\": 12, \"percentage_of_trips\": 2.3255813953488373}, {\"_gtfs_dataset_name\": \"Bay Area 511 Santa Rosa CityBus VehiclePositions\", \"rounded_rt_data_proportion_percentage\": 50, \"rt_trip_counts_by_operator\": 516.0, \"total_trips\": 15, \"percentage_of_trips\": 2.9069767441860463}, {\"_gtfs_dataset_name\": \"Bay Area 511 Santa Rosa CityBus VehiclePositions\", \"rounded_rt_data_proportion_percentage\": 60, \"rt_trip_counts_by_operator\": 516.0, \"total_trips\": 18, \"percentage_of_trips\": 3.488372093023256}, {\"_gtfs_dataset_name\": \"Bay Area 511 Santa Rosa CityBus VehiclePositions\", \"rounded_rt_data_proportion_percentage\": 70, \"rt_trip_counts_by_operator\": 516.0, \"total_trips\": 39, \"percentage_of_trips\": 7.55813953488372}, {\"_gtfs_dataset_name\": \"Bay Area 511 Santa Rosa CityBus VehiclePositions\", \"rounded_rt_data_proportion_percentage\": 80, \"rt_trip_counts_by_operator\": 516.0, \"total_trips\": 42, \"percentage_of_trips\": 8.13953488372093}, {\"_gtfs_dataset_name\": \"Bay Area 511 Santa Rosa CityBus VehiclePositions\", \"rounded_rt_data_proportion_percentage\": 90, \"rt_trip_counts_by_operator\": 516.0, \"total_trips\": 59, \"percentage_of_trips\": 11.434108527131782}, {\"_gtfs_dataset_name\": \"Bay Area 511 Santa Rosa CityBus VehiclePositions\", \"rounded_rt_data_proportion_percentage\": 100, \"rt_trip_counts_by_operator\": 516.0, \"total_trips\": 330, \"percentage_of_trips\": 63.95348837209303}, {\"_gtfs_dataset_name\": \"Bay Area 511 SolTrans VehiclePositions\", \"rounded_rt_data_proportion_percentage\": 40, \"rt_trip_counts_by_operator\": 351.0, \"total_trips\": 3, \"percentage_of_trips\": 0.8547008547008548}, {\"_gtfs_dataset_name\": \"Bay Area 511 SolTrans VehiclePositions\", \"rounded_rt_data_proportion_percentage\": 50, \"rt_trip_counts_by_operator\": 351.0, \"total_trips\": 2, \"percentage_of_trips\": 0.5698005698005698}, {\"_gtfs_dataset_name\": \"Bay Area 511 SolTrans VehiclePositions\", \"rounded_rt_data_proportion_percentage\": 60, \"rt_trip_counts_by_operator\": 351.0, \"total_trips\": 7, \"percentage_of_trips\": 1.9943019943019942}, {\"_gtfs_dataset_name\": \"Bay Area 511 SolTrans VehiclePositions\", \"rounded_rt_data_proportion_percentage\": 70, \"rt_trip_counts_by_operator\": 351.0, \"total_trips\": 14, \"percentage_of_trips\": 3.9886039886039883}, {\"_gtfs_dataset_name\": \"Bay Area 511 SolTrans VehiclePositions\", \"rounded_rt_data_proportion_percentage\": 80, \"rt_trip_counts_by_operator\": 351.0, \"total_trips\": 30, \"percentage_of_trips\": 8.547008547008547}, {\"_gtfs_dataset_name\": \"Bay Area 511 SolTrans VehiclePositions\", \"rounded_rt_data_proportion_percentage\": 90, \"rt_trip_counts_by_operator\": 351.0, \"total_trips\": 35, \"percentage_of_trips\": 9.971509971509972}, {\"_gtfs_dataset_name\": \"Bay Area 511 SolTrans VehiclePositions\", \"rounded_rt_data_proportion_percentage\": 100, \"rt_trip_counts_by_operator\": 351.0, \"total_trips\": 260, \"percentage_of_trips\": 74.07407407407408}, {\"_gtfs_dataset_name\": \"Bay Area 511 Sonoma County Transit Vehicle Positions\", \"rounded_rt_data_proportion_percentage\": 0, \"rt_trip_counts_by_operator\": 140.0, \"total_trips\": 1, \"percentage_of_trips\": 0.7142857142857143}, {\"_gtfs_dataset_name\": \"Bay Area 511 Sonoma County Transit Vehicle Positions\", \"rounded_rt_data_proportion_percentage\": 10, \"rt_trip_counts_by_operator\": 140.0, \"total_trips\": 4, \"percentage_of_trips\": 2.857142857142857}, {\"_gtfs_dataset_name\": \"Bay Area 511 Sonoma County Transit Vehicle Positions\", \"rounded_rt_data_proportion_percentage\": 30, \"rt_trip_counts_by_operator\": 140.0, \"total_trips\": 3, \"percentage_of_trips\": 2.142857142857143}, {\"_gtfs_dataset_name\": \"Bay Area 511 Sonoma County Transit Vehicle Positions\", \"rounded_rt_data_proportion_percentage\": 40, \"rt_trip_counts_by_operator\": 140.0, \"total_trips\": 3, \"percentage_of_trips\": 2.142857142857143}, {\"_gtfs_dataset_name\": \"Bay Area 511 Sonoma County Transit Vehicle Positions\", \"rounded_rt_data_proportion_percentage\": 50, \"rt_trip_counts_by_operator\": 140.0, \"total_trips\": 3, \"percentage_of_trips\": 2.142857142857143}, {\"_gtfs_dataset_name\": \"Bay Area 511 Sonoma County Transit Vehicle Positions\", \"rounded_rt_data_proportion_percentage\": 60, \"rt_trip_counts_by_operator\": 140.0, \"total_trips\": 6, \"percentage_of_trips\": 4.285714285714286}, {\"_gtfs_dataset_name\": \"Bay Area 511 Sonoma County Transit Vehicle Positions\", \"rounded_rt_data_proportion_percentage\": 70, \"rt_trip_counts_by_operator\": 140.0, \"total_trips\": 6, \"percentage_of_trips\": 4.285714285714286}, {\"_gtfs_dataset_name\": \"Bay Area 511 Sonoma County Transit Vehicle Positions\", \"rounded_rt_data_proportion_percentage\": 80, \"rt_trip_counts_by_operator\": 140.0, \"total_trips\": 3, \"percentage_of_trips\": 2.142857142857143}, {\"_gtfs_dataset_name\": \"Bay Area 511 Sonoma County Transit Vehicle Positions\", \"rounded_rt_data_proportion_percentage\": 90, \"rt_trip_counts_by_operator\": 140.0, \"total_trips\": 9, \"percentage_of_trips\": 6.428571428571428}, {\"_gtfs_dataset_name\": \"Bay Area 511 Sonoma County Transit Vehicle Positions\", \"rounded_rt_data_proportion_percentage\": 100, \"rt_trip_counts_by_operator\": 140.0, \"total_trips\": 102, \"percentage_of_trips\": 72.85714285714285}, {\"_gtfs_dataset_name\": \"Bay Area 511 Sonoma-Marin Area Rail Transit VehiclePositions\", \"rounded_rt_data_proportion_percentage\": 90, \"rt_trip_counts_by_operator\": 33.0, \"total_trips\": 20, \"percentage_of_trips\": 60.60606060606061}, {\"_gtfs_dataset_name\": \"Bay Area 511 Sonoma-Marin Area Rail Transit VehiclePositions\", \"rounded_rt_data_proportion_percentage\": 100, \"rt_trip_counts_by_operator\": 33.0, \"total_trips\": 13, \"percentage_of_trips\": 39.39393939393939}, {\"_gtfs_dataset_name\": \"Bay Area 511 Tri Delta VehiclePositions\", \"rounded_rt_data_proportion_percentage\": 30, \"rt_trip_counts_by_operator\": 423.0, \"total_trips\": 1, \"percentage_of_trips\": 0.2364066193853428}, {\"_gtfs_dataset_name\": \"Bay Area 511 Tri Delta VehiclePositions\", \"rounded_rt_data_proportion_percentage\": 50, \"rt_trip_counts_by_operator\": 423.0, \"total_trips\": 3, \"percentage_of_trips\": 0.7092198581560284}, {\"_gtfs_dataset_name\": \"Bay Area 511 Tri Delta VehiclePositions\", \"rounded_rt_data_proportion_percentage\": 60, \"rt_trip_counts_by_operator\": 423.0, \"total_trips\": 2, \"percentage_of_trips\": 0.4728132387706856}, {\"_gtfs_dataset_name\": \"Bay Area 511 Tri Delta VehiclePositions\", \"rounded_rt_data_proportion_percentage\": 70, \"rt_trip_counts_by_operator\": 423.0, \"total_trips\": 10, \"percentage_of_trips\": 2.3640661938534278}, {\"_gtfs_dataset_name\": \"Bay Area 511 Tri Delta VehiclePositions\", \"rounded_rt_data_proportion_percentage\": 80, \"rt_trip_counts_by_operator\": 423.0, \"total_trips\": 37, \"percentage_of_trips\": 8.747044917257684}, {\"_gtfs_dataset_name\": \"Bay Area 511 Tri Delta VehiclePositions\", \"rounded_rt_data_proportion_percentage\": 90, \"rt_trip_counts_by_operator\": 423.0, \"total_trips\": 68, \"percentage_of_trips\": 16.07565011820331}, {\"_gtfs_dataset_name\": \"Bay Area 511 Tri Delta VehiclePositions\", \"rounded_rt_data_proportion_percentage\": 100, \"rt_trip_counts_by_operator\": 423.0, \"total_trips\": 302, \"percentage_of_trips\": 71.39479905437352}, {\"_gtfs_dataset_name\": \"Bay Area 511 Tri-Valley Wheels VehiclePositions\", \"rounded_rt_data_proportion_percentage\": 0, \"rt_trip_counts_by_operator\": 358.0, \"total_trips\": 1, \"percentage_of_trips\": 0.27932960893854747}, {\"_gtfs_dataset_name\": \"Bay Area 511 Tri-Valley Wheels VehiclePositions\", \"rounded_rt_data_proportion_percentage\": 30, \"rt_trip_counts_by_operator\": 358.0, \"total_trips\": 1, \"percentage_of_trips\": 0.27932960893854747}, {\"_gtfs_dataset_name\": \"Bay Area 511 Tri-Valley Wheels VehiclePositions\", \"rounded_rt_data_proportion_percentage\": 50, \"rt_trip_counts_by_operator\": 358.0, \"total_trips\": 2, \"percentage_of_trips\": 0.5586592178770949}, {\"_gtfs_dataset_name\": \"Bay Area 511 Tri-Valley Wheels VehiclePositions\", \"rounded_rt_data_proportion_percentage\": 60, \"rt_trip_counts_by_operator\": 358.0, \"total_trips\": 2, \"percentage_of_trips\": 0.5586592178770949}, {\"_gtfs_dataset_name\": \"Bay Area 511 Tri-Valley Wheels VehiclePositions\", \"rounded_rt_data_proportion_percentage\": 70, \"rt_trip_counts_by_operator\": 358.0, \"total_trips\": 2, \"percentage_of_trips\": 0.5586592178770949}, {\"_gtfs_dataset_name\": \"Bay Area 511 Tri-Valley Wheels VehiclePositions\", \"rounded_rt_data_proportion_percentage\": 80, \"rt_trip_counts_by_operator\": 358.0, \"total_trips\": 15, \"percentage_of_trips\": 4.189944134078212}, {\"_gtfs_dataset_name\": \"Bay Area 511 Tri-Valley Wheels VehiclePositions\", \"rounded_rt_data_proportion_percentage\": 90, \"rt_trip_counts_by_operator\": 358.0, \"total_trips\": 41, \"percentage_of_trips\": 11.452513966480447}, {\"_gtfs_dataset_name\": \"Bay Area 511 Tri-Valley Wheels VehiclePositions\", \"rounded_rt_data_proportion_percentage\": 100, \"rt_trip_counts_by_operator\": 358.0, \"total_trips\": 294, \"percentage_of_trips\": 82.12290502793296}, {\"_gtfs_dataset_name\": \"Bay Area 511 Union City Transit VehiclePositions\", \"rounded_rt_data_proportion_percentage\": 0, \"rt_trip_counts_by_operator\": 132.0, \"total_trips\": 1, \"percentage_of_trips\": 0.7575757575757576}, {\"_gtfs_dataset_name\": \"Bay Area 511 Union City Transit VehiclePositions\", \"rounded_rt_data_proportion_percentage\": 10, \"rt_trip_counts_by_operator\": 132.0, \"total_trips\": 1, \"percentage_of_trips\": 0.7575757575757576}, {\"_gtfs_dataset_name\": \"Bay Area 511 Union City Transit VehiclePositions\", \"rounded_rt_data_proportion_percentage\": 20, \"rt_trip_counts_by_operator\": 132.0, \"total_trips\": 2, \"percentage_of_trips\": 1.5151515151515151}, {\"_gtfs_dataset_name\": \"Bay Area 511 Union City Transit VehiclePositions\", \"rounded_rt_data_proportion_percentage\": 40, \"rt_trip_counts_by_operator\": 132.0, \"total_trips\": 1, \"percentage_of_trips\": 0.7575757575757576}, {\"_gtfs_dataset_name\": \"Bay Area 511 Union City Transit VehiclePositions\", \"rounded_rt_data_proportion_percentage\": 50, \"rt_trip_counts_by_operator\": 132.0, \"total_trips\": 1, \"percentage_of_trips\": 0.7575757575757576}, {\"_gtfs_dataset_name\": \"Bay Area 511 Union City Transit VehiclePositions\", \"rounded_rt_data_proportion_percentage\": 60, \"rt_trip_counts_by_operator\": 132.0, \"total_trips\": 2, \"percentage_of_trips\": 1.5151515151515151}, {\"_gtfs_dataset_name\": \"Bay Area 511 Union City Transit VehiclePositions\", \"rounded_rt_data_proportion_percentage\": 70, \"rt_trip_counts_by_operator\": 132.0, \"total_trips\": 3, \"percentage_of_trips\": 2.272727272727273}, {\"_gtfs_dataset_name\": \"Bay Area 511 Union City Transit VehiclePositions\", \"rounded_rt_data_proportion_percentage\": 80, \"rt_trip_counts_by_operator\": 132.0, \"total_trips\": 6, \"percentage_of_trips\": 4.545454545454546}, {\"_gtfs_dataset_name\": \"Bay Area 511 Union City Transit VehiclePositions\", \"rounded_rt_data_proportion_percentage\": 90, \"rt_trip_counts_by_operator\": 132.0, \"total_trips\": 7, \"percentage_of_trips\": 5.303030303030303}, {\"_gtfs_dataset_name\": \"Bay Area 511 Union City Transit VehiclePositions\", \"rounded_rt_data_proportion_percentage\": 100, \"rt_trip_counts_by_operator\": 132.0, \"total_trips\": 108, \"percentage_of_trips\": 81.81818181818183}, {\"_gtfs_dataset_name\": \"Bay Area 511 Vine Transit VehiclePositions\", \"rounded_rt_data_proportion_percentage\": 20, \"rt_trip_counts_by_operator\": 98.0, \"total_trips\": 1, \"percentage_of_trips\": 1.0204081632653061}, {\"_gtfs_dataset_name\": \"Bay Area 511 Vine Transit VehiclePositions\", \"rounded_rt_data_proportion_percentage\": 50, \"rt_trip_counts_by_operator\": 98.0, \"total_trips\": 1, \"percentage_of_trips\": 1.0204081632653061}, {\"_gtfs_dataset_name\": \"Bay Area 511 Vine Transit VehiclePositions\", \"rounded_rt_data_proportion_percentage\": 70, \"rt_trip_counts_by_operator\": 98.0, \"total_trips\": 3, \"percentage_of_trips\": 3.061224489795918}, {\"_gtfs_dataset_name\": \"Bay Area 511 Vine Transit VehiclePositions\", \"rounded_rt_data_proportion_percentage\": 80, \"rt_trip_counts_by_operator\": 98.0, \"total_trips\": 5, \"percentage_of_trips\": 5.1020408163265305}, {\"_gtfs_dataset_name\": \"Bay Area 511 Vine Transit VehiclePositions\", \"rounded_rt_data_proportion_percentage\": 90, \"rt_trip_counts_by_operator\": 98.0, \"total_trips\": 10, \"percentage_of_trips\": 10.204081632653061}, {\"_gtfs_dataset_name\": \"Bay Area 511 Vine Transit VehiclePositions\", \"rounded_rt_data_proportion_percentage\": 100, \"rt_trip_counts_by_operator\": 98.0, \"total_trips\": 78, \"percentage_of_trips\": 79.59183673469387}, {\"_gtfs_dataset_name\": \"Bay Area 511 WestCAT VehiclePositions\", \"rounded_rt_data_proportion_percentage\": 0, \"rt_trip_counts_by_operator\": 359.0, \"total_trips\": 1, \"percentage_of_trips\": 0.2785515320334262}, {\"_gtfs_dataset_name\": \"Bay Area 511 WestCAT VehiclePositions\", \"rounded_rt_data_proportion_percentage\": 10, \"rt_trip_counts_by_operator\": 359.0, \"total_trips\": 1, \"percentage_of_trips\": 0.2785515320334262}, {\"_gtfs_dataset_name\": \"Bay Area 511 WestCAT VehiclePositions\", \"rounded_rt_data_proportion_percentage\": 40, \"rt_trip_counts_by_operator\": 359.0, \"total_trips\": 2, \"percentage_of_trips\": 0.5571030640668524}, {\"_gtfs_dataset_name\": \"Bay Area 511 WestCAT VehiclePositions\", \"rounded_rt_data_proportion_percentage\": 50, \"rt_trip_counts_by_operator\": 359.0, \"total_trips\": 5, \"percentage_of_trips\": 1.392757660167131}, {\"_gtfs_dataset_name\": \"Bay Area 511 WestCAT VehiclePositions\", \"rounded_rt_data_proportion_percentage\": 60, \"rt_trip_counts_by_operator\": 359.0, \"total_trips\": 28, \"percentage_of_trips\": 7.7994428969359335}, {\"_gtfs_dataset_name\": \"Bay Area 511 WestCAT VehiclePositions\", \"rounded_rt_data_proportion_percentage\": 70, \"rt_trip_counts_by_operator\": 359.0, \"total_trips\": 28, \"percentage_of_trips\": 7.7994428969359335}, {\"_gtfs_dataset_name\": \"Bay Area 511 WestCAT VehiclePositions\", \"rounded_rt_data_proportion_percentage\": 80, \"rt_trip_counts_by_operator\": 359.0, \"total_trips\": 72, \"percentage_of_trips\": 20.055710306406684}, {\"_gtfs_dataset_name\": \"Bay Area 511 WestCAT VehiclePositions\", \"rounded_rt_data_proportion_percentage\": 90, \"rt_trip_counts_by_operator\": 359.0, \"total_trips\": 70, \"percentage_of_trips\": 19.498607242339833}, {\"_gtfs_dataset_name\": \"Bay Area 511 WestCAT VehiclePositions\", \"rounded_rt_data_proportion_percentage\": 100, \"rt_trip_counts_by_operator\": 359.0, \"total_trips\": 152, \"percentage_of_trips\": 42.33983286908078}, {\"_gtfs_dataset_name\": \"Beach Cities VehiclePositions\", \"rounded_rt_data_proportion_percentage\": 70, \"rt_trip_counts_by_operator\": 27.0, \"total_trips\": 1, \"percentage_of_trips\": 3.7037037037037033}, {\"_gtfs_dataset_name\": \"Beach Cities VehiclePositions\", \"rounded_rt_data_proportion_percentage\": 90, \"rt_trip_counts_by_operator\": 27.0, \"total_trips\": 3, \"percentage_of_trips\": 11.11111111111111}, {\"_gtfs_dataset_name\": \"Beach Cities VehiclePositions\", \"rounded_rt_data_proportion_percentage\": 100, \"rt_trip_counts_by_operator\": 27.0, \"total_trips\": 23, \"percentage_of_trips\": 85.18518518518519}, {\"_gtfs_dataset_name\": \"Bear Vehicle Positions\", \"rounded_rt_data_proportion_percentage\": 0, \"rt_trip_counts_by_operator\": 61.0, \"total_trips\": 7, \"percentage_of_trips\": 11.475409836065573}, {\"_gtfs_dataset_name\": \"Bear Vehicle Positions\", \"rounded_rt_data_proportion_percentage\": 10, \"rt_trip_counts_by_operator\": 61.0, \"total_trips\": 3, \"percentage_of_trips\": 4.918032786885246}, {\"_gtfs_dataset_name\": \"Bear Vehicle Positions\", \"rounded_rt_data_proportion_percentage\": 20, \"rt_trip_counts_by_operator\": 61.0, \"total_trips\": 9, \"percentage_of_trips\": 14.754098360655737}, {\"_gtfs_dataset_name\": \"Bear Vehicle Positions\", \"rounded_rt_data_proportion_percentage\": 30, \"rt_trip_counts_by_operator\": 61.0, \"total_trips\": 4, \"percentage_of_trips\": 6.557377049180328}, {\"_gtfs_dataset_name\": \"Bear Vehicle Positions\", \"rounded_rt_data_proportion_percentage\": 50, \"rt_trip_counts_by_operator\": 61.0, \"total_trips\": 2, \"percentage_of_trips\": 3.278688524590164}, {\"_gtfs_dataset_name\": \"Bear Vehicle Positions\", \"rounded_rt_data_proportion_percentage\": 60, \"rt_trip_counts_by_operator\": 61.0, \"total_trips\": 1, \"percentage_of_trips\": 1.639344262295082}, {\"_gtfs_dataset_name\": \"Bear Vehicle Positions\", \"rounded_rt_data_proportion_percentage\": 70, \"rt_trip_counts_by_operator\": 61.0, \"total_trips\": 3, \"percentage_of_trips\": 4.918032786885246}, {\"_gtfs_dataset_name\": \"Bear Vehicle Positions\", \"rounded_rt_data_proportion_percentage\": 80, \"rt_trip_counts_by_operator\": 61.0, \"total_trips\": 5, \"percentage_of_trips\": 8.19672131147541}, {\"_gtfs_dataset_name\": \"Bear Vehicle Positions\", \"rounded_rt_data_proportion_percentage\": 90, \"rt_trip_counts_by_operator\": 61.0, \"total_trips\": 4, \"percentage_of_trips\": 6.557377049180328}, {\"_gtfs_dataset_name\": \"Bear Vehicle Positions\", \"rounded_rt_data_proportion_percentage\": 100, \"rt_trip_counts_by_operator\": 61.0, \"total_trips\": 23, \"percentage_of_trips\": 37.704918032786885}, {\"_gtfs_dataset_name\": \"Beaumont Pass Vehicle Positions\", \"rounded_rt_data_proportion_percentage\": 0, \"rt_trip_counts_by_operator\": 86.0, \"total_trips\": 1, \"percentage_of_trips\": 1.1627906976744187}, {\"_gtfs_dataset_name\": \"Beaumont Pass Vehicle Positions\", \"rounded_rt_data_proportion_percentage\": 10, \"rt_trip_counts_by_operator\": 86.0, \"total_trips\": 1, \"percentage_of_trips\": 1.1627906976744187}, {\"_gtfs_dataset_name\": \"Beaumont Pass Vehicle Positions\", \"rounded_rt_data_proportion_percentage\": 30, \"rt_trip_counts_by_operator\": 86.0, \"total_trips\": 1, \"percentage_of_trips\": 1.1627906976744187}, {\"_gtfs_dataset_name\": \"Beaumont Pass Vehicle Positions\", \"rounded_rt_data_proportion_percentage\": 60, \"rt_trip_counts_by_operator\": 86.0, \"total_trips\": 2, \"percentage_of_trips\": 2.3255813953488373}, {\"_gtfs_dataset_name\": \"Beaumont Pass Vehicle Positions\", \"rounded_rt_data_proportion_percentage\": 70, \"rt_trip_counts_by_operator\": 86.0, \"total_trips\": 1, \"percentage_of_trips\": 1.1627906976744187}, {\"_gtfs_dataset_name\": \"Beaumont Pass Vehicle Positions\", \"rounded_rt_data_proportion_percentage\": 80, \"rt_trip_counts_by_operator\": 86.0, \"total_trips\": 7, \"percentage_of_trips\": 8.13953488372093}, {\"_gtfs_dataset_name\": \"Beaumont Pass Vehicle Positions\", \"rounded_rt_data_proportion_percentage\": 90, \"rt_trip_counts_by_operator\": 86.0, \"total_trips\": 18, \"percentage_of_trips\": 20.930232558139537}, {\"_gtfs_dataset_name\": \"Beaumont Pass Vehicle Positions\", \"rounded_rt_data_proportion_percentage\": 100, \"rt_trip_counts_by_operator\": 86.0, \"total_trips\": 55, \"percentage_of_trips\": 63.95348837209303}, {\"_gtfs_dataset_name\": \"Big Blue Bus VehiclePositions\", \"rounded_rt_data_proportion_percentage\": 0, \"rt_trip_counts_by_operator\": 1132.0, \"total_trips\": 7, \"percentage_of_trips\": 0.6183745583038869}, {\"_gtfs_dataset_name\": \"Big Blue Bus VehiclePositions\", \"rounded_rt_data_proportion_percentage\": 10, \"rt_trip_counts_by_operator\": 1132.0, \"total_trips\": 7, \"percentage_of_trips\": 0.6183745583038869}, {\"_gtfs_dataset_name\": \"Big Blue Bus VehiclePositions\", \"rounded_rt_data_proportion_percentage\": 20, \"rt_trip_counts_by_operator\": 1132.0, \"total_trips\": 8, \"percentage_of_trips\": 0.7067137809187279}, {\"_gtfs_dataset_name\": \"Big Blue Bus VehiclePositions\", \"rounded_rt_data_proportion_percentage\": 30, \"rt_trip_counts_by_operator\": 1132.0, \"total_trips\": 14, \"percentage_of_trips\": 1.2367491166077738}, {\"_gtfs_dataset_name\": \"Big Blue Bus VehiclePositions\", \"rounded_rt_data_proportion_percentage\": 40, \"rt_trip_counts_by_operator\": 1132.0, \"total_trips\": 21, \"percentage_of_trips\": 1.8551236749116609}, {\"_gtfs_dataset_name\": \"Big Blue Bus VehiclePositions\", \"rounded_rt_data_proportion_percentage\": 50, \"rt_trip_counts_by_operator\": 1132.0, \"total_trips\": 51, \"percentage_of_trips\": 4.5053003533568905}, {\"_gtfs_dataset_name\": \"Big Blue Bus VehiclePositions\", \"rounded_rt_data_proportion_percentage\": 60, \"rt_trip_counts_by_operator\": 1132.0, \"total_trips\": 104, \"percentage_of_trips\": 9.187279151943462}, {\"_gtfs_dataset_name\": \"Big Blue Bus VehiclePositions\", \"rounded_rt_data_proportion_percentage\": 70, \"rt_trip_counts_by_operator\": 1132.0, \"total_trips\": 142, \"percentage_of_trips\": 12.54416961130742}, {\"_gtfs_dataset_name\": \"Big Blue Bus VehiclePositions\", \"rounded_rt_data_proportion_percentage\": 80, \"rt_trip_counts_by_operator\": 1132.0, \"total_trips\": 175, \"percentage_of_trips\": 15.459363957597173}, {\"_gtfs_dataset_name\": \"Big Blue Bus VehiclePositions\", \"rounded_rt_data_proportion_percentage\": 90, \"rt_trip_counts_by_operator\": 1132.0, \"total_trips\": 152, \"percentage_of_trips\": 13.427561837455832}, {\"_gtfs_dataset_name\": \"Big Blue Bus VehiclePositions\", \"rounded_rt_data_proportion_percentage\": 100, \"rt_trip_counts_by_operator\": 1132.0, \"total_trips\": 451, \"percentage_of_trips\": 39.840989399293285}, {\"_gtfs_dataset_name\": \"BruinBus Vehicle Positions\", \"rounded_rt_data_proportion_percentage\": 90, \"rt_trip_counts_by_operator\": 81.0, \"total_trips\": 1, \"percentage_of_trips\": 1.2345679012345678}, {\"_gtfs_dataset_name\": \"BruinBus Vehicle Positions\", \"rounded_rt_data_proportion_percentage\": 100, \"rt_trip_counts_by_operator\": 81.0, \"total_trips\": 80, \"percentage_of_trips\": 98.76543209876543}, {\"_gtfs_dataset_name\": \"Burbank VehiclePositions\", \"rounded_rt_data_proportion_percentage\": 0, \"rt_trip_counts_by_operator\": 66.0, \"total_trips\": 7, \"percentage_of_trips\": 10.606060606060606}, {\"_gtfs_dataset_name\": \"Burbank VehiclePositions\", \"rounded_rt_data_proportion_percentage\": 10, \"rt_trip_counts_by_operator\": 66.0, \"total_trips\": 2, \"percentage_of_trips\": 3.0303030303030303}, {\"_gtfs_dataset_name\": \"Burbank VehiclePositions\", \"rounded_rt_data_proportion_percentage\": 30, \"rt_trip_counts_by_operator\": 66.0, \"total_trips\": 1, \"percentage_of_trips\": 1.5151515151515151}, {\"_gtfs_dataset_name\": \"Burbank VehiclePositions\", \"rounded_rt_data_proportion_percentage\": 50, \"rt_trip_counts_by_operator\": 66.0, \"total_trips\": 1, \"percentage_of_trips\": 1.5151515151515151}, {\"_gtfs_dataset_name\": \"Burbank VehiclePositions\", \"rounded_rt_data_proportion_percentage\": 60, \"rt_trip_counts_by_operator\": 66.0, \"total_trips\": 1, \"percentage_of_trips\": 1.5151515151515151}, {\"_gtfs_dataset_name\": \"Burbank VehiclePositions\", \"rounded_rt_data_proportion_percentage\": 70, \"rt_trip_counts_by_operator\": 66.0, \"total_trips\": 2, \"percentage_of_trips\": 3.0303030303030303}, {\"_gtfs_dataset_name\": \"Burbank VehiclePositions\", \"rounded_rt_data_proportion_percentage\": 80, \"rt_trip_counts_by_operator\": 66.0, \"total_trips\": 1, \"percentage_of_trips\": 1.5151515151515151}, {\"_gtfs_dataset_name\": \"Burbank VehiclePositions\", \"rounded_rt_data_proportion_percentage\": 90, \"rt_trip_counts_by_operator\": 66.0, \"total_trips\": 3, \"percentage_of_trips\": 4.545454545454546}, {\"_gtfs_dataset_name\": \"Burbank VehiclePositions\", \"rounded_rt_data_proportion_percentage\": 100, \"rt_trip_counts_by_operator\": 66.0, \"total_trips\": 48, \"percentage_of_trips\": 72.72727272727273}, {\"_gtfs_dataset_name\": \"Commerce VehiclePositions\", \"rounded_rt_data_proportion_percentage\": 40, \"rt_trip_counts_by_operator\": 89.0, \"total_trips\": 2, \"percentage_of_trips\": 2.247191011235955}, {\"_gtfs_dataset_name\": \"Commerce VehiclePositions\", \"rounded_rt_data_proportion_percentage\": 70, \"rt_trip_counts_by_operator\": 89.0, \"total_trips\": 1, \"percentage_of_trips\": 1.1235955056179776}, {\"_gtfs_dataset_name\": \"Commerce VehiclePositions\", \"rounded_rt_data_proportion_percentage\": 80, \"rt_trip_counts_by_operator\": 89.0, \"total_trips\": 3, \"percentage_of_trips\": 3.3707865168539324}, {\"_gtfs_dataset_name\": \"Commerce VehiclePositions\", \"rounded_rt_data_proportion_percentage\": 90, \"rt_trip_counts_by_operator\": 89.0, \"total_trips\": 13, \"percentage_of_trips\": 14.606741573033707}, {\"_gtfs_dataset_name\": \"Commerce VehiclePositions\", \"rounded_rt_data_proportion_percentage\": 100, \"rt_trip_counts_by_operator\": 89.0, \"total_trips\": 70, \"percentage_of_trips\": 78.65168539325843}, {\"_gtfs_dataset_name\": \"Eastern Sierra Vehicle Positions\", \"rounded_rt_data_proportion_percentage\": 0, \"rt_trip_counts_by_operator\": 217.0, \"total_trips\": 3, \"percentage_of_trips\": 1.3824884792626728}, {\"_gtfs_dataset_name\": \"Eastern Sierra Vehicle Positions\", \"rounded_rt_data_proportion_percentage\": 10, \"rt_trip_counts_by_operator\": 217.0, \"total_trips\": 2, \"percentage_of_trips\": 0.9216589861751152}, {\"_gtfs_dataset_name\": \"Eastern Sierra Vehicle Positions\", \"rounded_rt_data_proportion_percentage\": 20, \"rt_trip_counts_by_operator\": 217.0, \"total_trips\": 5, \"percentage_of_trips\": 2.3041474654377883}, {\"_gtfs_dataset_name\": \"Eastern Sierra Vehicle Positions\", \"rounded_rt_data_proportion_percentage\": 50, \"rt_trip_counts_by_operator\": 217.0, \"total_trips\": 8, \"percentage_of_trips\": 3.686635944700461}, {\"_gtfs_dataset_name\": \"Eastern Sierra Vehicle Positions\", \"rounded_rt_data_proportion_percentage\": 60, \"rt_trip_counts_by_operator\": 217.0, \"total_trips\": 24, \"percentage_of_trips\": 11.059907834101383}, {\"_gtfs_dataset_name\": \"Eastern Sierra Vehicle Positions\", \"rounded_rt_data_proportion_percentage\": 70, \"rt_trip_counts_by_operator\": 217.0, \"total_trips\": 32, \"percentage_of_trips\": 14.746543778801843}, {\"_gtfs_dataset_name\": \"Eastern Sierra Vehicle Positions\", \"rounded_rt_data_proportion_percentage\": 80, \"rt_trip_counts_by_operator\": 217.0, \"total_trips\": 10, \"percentage_of_trips\": 4.6082949308755765}, {\"_gtfs_dataset_name\": \"Eastern Sierra Vehicle Positions\", \"rounded_rt_data_proportion_percentage\": 90, \"rt_trip_counts_by_operator\": 217.0, \"total_trips\": 4, \"percentage_of_trips\": 1.8433179723502304}, {\"_gtfs_dataset_name\": \"Eastern Sierra Vehicle Positions\", \"rounded_rt_data_proportion_percentage\": 100, \"rt_trip_counts_by_operator\": 217.0, \"total_trips\": 129, \"percentage_of_trips\": 59.44700460829493}, {\"_gtfs_dataset_name\": \"Elk Grove VehiclePositions\", \"rounded_rt_data_proportion_percentage\": 0, \"rt_trip_counts_by_operator\": 212.0, \"total_trips\": 1, \"percentage_of_trips\": 0.4716981132075472}, {\"_gtfs_dataset_name\": \"Elk Grove VehiclePositions\", \"rounded_rt_data_proportion_percentage\": 10, \"rt_trip_counts_by_operator\": 212.0, \"total_trips\": 2, \"percentage_of_trips\": 0.9433962264150944}, {\"_gtfs_dataset_name\": \"Elk Grove VehiclePositions\", \"rounded_rt_data_proportion_percentage\": 20, \"rt_trip_counts_by_operator\": 212.0, \"total_trips\": 1, \"percentage_of_trips\": 0.4716981132075472}, {\"_gtfs_dataset_name\": \"Elk Grove VehiclePositions\", \"rounded_rt_data_proportion_percentage\": 30, \"rt_trip_counts_by_operator\": 212.0, \"total_trips\": 2, \"percentage_of_trips\": 0.9433962264150944}, {\"_gtfs_dataset_name\": \"Elk Grove VehiclePositions\", \"rounded_rt_data_proportion_percentage\": 50, \"rt_trip_counts_by_operator\": 212.0, \"total_trips\": 1, \"percentage_of_trips\": 0.4716981132075472}, {\"_gtfs_dataset_name\": \"Elk Grove VehiclePositions\", \"rounded_rt_data_proportion_percentage\": 60, \"rt_trip_counts_by_operator\": 212.0, \"total_trips\": 3, \"percentage_of_trips\": 1.4150943396226416}, {\"_gtfs_dataset_name\": \"Elk Grove VehiclePositions\", \"rounded_rt_data_proportion_percentage\": 70, \"rt_trip_counts_by_operator\": 212.0, \"total_trips\": 6, \"percentage_of_trips\": 2.8301886792452833}, {\"_gtfs_dataset_name\": \"Elk Grove VehiclePositions\", \"rounded_rt_data_proportion_percentage\": 80, \"rt_trip_counts_by_operator\": 212.0, \"total_trips\": 9, \"percentage_of_trips\": 4.245283018867925}, {\"_gtfs_dataset_name\": \"Elk Grove VehiclePositions\", \"rounded_rt_data_proportion_percentage\": 90, \"rt_trip_counts_by_operator\": 212.0, \"total_trips\": 22, \"percentage_of_trips\": 10.377358490566039}, {\"_gtfs_dataset_name\": \"Elk Grove VehiclePositions\", \"rounded_rt_data_proportion_percentage\": 100, \"rt_trip_counts_by_operator\": 212.0, \"total_trips\": 165, \"percentage_of_trips\": 77.83018867924528}, {\"_gtfs_dataset_name\": \"Foothill Vehicle Positions\", \"rounded_rt_data_proportion_percentage\": 0, \"rt_trip_counts_by_operator\": 1482.0, \"total_trips\": 9, \"percentage_of_trips\": 0.6072874493927125}, {\"_gtfs_dataset_name\": \"Foothill Vehicle Positions\", \"rounded_rt_data_proportion_percentage\": 10, \"rt_trip_counts_by_operator\": 1482.0, \"total_trips\": 7, \"percentage_of_trips\": 0.47233468286099867}, {\"_gtfs_dataset_name\": \"Foothill Vehicle Positions\", \"rounded_rt_data_proportion_percentage\": 20, \"rt_trip_counts_by_operator\": 1482.0, \"total_trips\": 6, \"percentage_of_trips\": 0.4048582995951417}, {\"_gtfs_dataset_name\": \"Foothill Vehicle Positions\", \"rounded_rt_data_proportion_percentage\": 30, \"rt_trip_counts_by_operator\": 1482.0, \"total_trips\": 6, \"percentage_of_trips\": 0.4048582995951417}, {\"_gtfs_dataset_name\": \"Foothill Vehicle Positions\", \"rounded_rt_data_proportion_percentage\": 40, \"rt_trip_counts_by_operator\": 1482.0, \"total_trips\": 6, \"percentage_of_trips\": 0.4048582995951417}, {\"_gtfs_dataset_name\": \"Foothill Vehicle Positions\", \"rounded_rt_data_proportion_percentage\": 50, \"rt_trip_counts_by_operator\": 1482.0, \"total_trips\": 19, \"percentage_of_trips\": 1.282051282051282}, {\"_gtfs_dataset_name\": \"Foothill Vehicle Positions\", \"rounded_rt_data_proportion_percentage\": 60, \"rt_trip_counts_by_operator\": 1482.0, \"total_trips\": 29, \"percentage_of_trips\": 1.9568151147098516}, {\"_gtfs_dataset_name\": \"Foothill Vehicle Positions\", \"rounded_rt_data_proportion_percentage\": 70, \"rt_trip_counts_by_operator\": 1482.0, \"total_trips\": 88, \"percentage_of_trips\": 5.937921727395412}, {\"_gtfs_dataset_name\": \"Foothill Vehicle Positions\", \"rounded_rt_data_proportion_percentage\": 80, \"rt_trip_counts_by_operator\": 1482.0, \"total_trips\": 272, \"percentage_of_trips\": 18.353576248313093}, {\"_gtfs_dataset_name\": \"Foothill Vehicle Positions\", \"rounded_rt_data_proportion_percentage\": 90, \"rt_trip_counts_by_operator\": 1482.0, \"total_trips\": 402, \"percentage_of_trips\": 27.125506072874494}, {\"_gtfs_dataset_name\": \"Foothill Vehicle Positions\", \"rounded_rt_data_proportion_percentage\": 100, \"rt_trip_counts_by_operator\": 1482.0, \"total_trips\": 638, \"percentage_of_trips\": 43.04993252361673}, {\"_gtfs_dataset_name\": \"Fresno Vehicle Positions\", \"rounded_rt_data_proportion_percentage\": 0, \"rt_trip_counts_by_operator\": 1034.0, \"total_trips\": 1, \"percentage_of_trips\": 0.09671179883945842}, {\"_gtfs_dataset_name\": \"Fresno Vehicle Positions\", \"rounded_rt_data_proportion_percentage\": 20, \"rt_trip_counts_by_operator\": 1034.0, \"total_trips\": 3, \"percentage_of_trips\": 0.2901353965183753}, {\"_gtfs_dataset_name\": \"Fresno Vehicle Positions\", \"rounded_rt_data_proportion_percentage\": 40, \"rt_trip_counts_by_operator\": 1034.0, \"total_trips\": 2, \"percentage_of_trips\": 0.19342359767891684}, {\"_gtfs_dataset_name\": \"Fresno Vehicle Positions\", \"rounded_rt_data_proportion_percentage\": 50, \"rt_trip_counts_by_operator\": 1034.0, \"total_trips\": 2, \"percentage_of_trips\": 0.19342359767891684}, {\"_gtfs_dataset_name\": \"Fresno Vehicle Positions\", \"rounded_rt_data_proportion_percentage\": 60, \"rt_trip_counts_by_operator\": 1034.0, \"total_trips\": 7, \"percentage_of_trips\": 0.6769825918762089}, {\"_gtfs_dataset_name\": \"Fresno Vehicle Positions\", \"rounded_rt_data_proportion_percentage\": 70, \"rt_trip_counts_by_operator\": 1034.0, \"total_trips\": 8, \"percentage_of_trips\": 0.7736943907156674}, {\"_gtfs_dataset_name\": \"Fresno Vehicle Positions\", \"rounded_rt_data_proportion_percentage\": 80, \"rt_trip_counts_by_operator\": 1034.0, \"total_trips\": 30, \"percentage_of_trips\": 2.9013539651837523}, {\"_gtfs_dataset_name\": \"Fresno Vehicle Positions\", \"rounded_rt_data_proportion_percentage\": 90, \"rt_trip_counts_by_operator\": 1034.0, \"total_trips\": 182, \"percentage_of_trips\": 17.60154738878143}, {\"_gtfs_dataset_name\": \"Fresno Vehicle Positions\", \"rounded_rt_data_proportion_percentage\": 100, \"rt_trip_counts_by_operator\": 1034.0, \"total_trips\": 799, \"percentage_of_trips\": 77.27272727272727}, {\"_gtfs_dataset_name\": \"GET VehiclePositions\", \"rounded_rt_data_proportion_percentage\": 0, \"rt_trip_counts_by_operator\": 549.0, \"total_trips\": 1, \"percentage_of_trips\": 0.18214936247723132}, {\"_gtfs_dataset_name\": \"GET VehiclePositions\", \"rounded_rt_data_proportion_percentage\": 20, \"rt_trip_counts_by_operator\": 549.0, \"total_trips\": 1, \"percentage_of_trips\": 0.18214936247723132}, {\"_gtfs_dataset_name\": \"GET VehiclePositions\", \"rounded_rt_data_proportion_percentage\": 30, \"rt_trip_counts_by_operator\": 549.0, \"total_trips\": 1, \"percentage_of_trips\": 0.18214936247723132}, {\"_gtfs_dataset_name\": \"GET VehiclePositions\", \"rounded_rt_data_proportion_percentage\": 40, \"rt_trip_counts_by_operator\": 549.0, \"total_trips\": 3, \"percentage_of_trips\": 0.546448087431694}, {\"_gtfs_dataset_name\": \"GET VehiclePositions\", \"rounded_rt_data_proportion_percentage\": 50, \"rt_trip_counts_by_operator\": 549.0, \"total_trips\": 6, \"percentage_of_trips\": 1.092896174863388}, {\"_gtfs_dataset_name\": \"GET VehiclePositions\", \"rounded_rt_data_proportion_percentage\": 60, \"rt_trip_counts_by_operator\": 549.0, \"total_trips\": 30, \"percentage_of_trips\": 5.46448087431694}, {\"_gtfs_dataset_name\": \"GET VehiclePositions\", \"rounded_rt_data_proportion_percentage\": 70, \"rt_trip_counts_by_operator\": 549.0, \"total_trips\": 137, \"percentage_of_trips\": 24.95446265938069}, {\"_gtfs_dataset_name\": \"GET VehiclePositions\", \"rounded_rt_data_proportion_percentage\": 80, \"rt_trip_counts_by_operator\": 549.0, \"total_trips\": 233, \"percentage_of_trips\": 42.4408014571949}, {\"_gtfs_dataset_name\": \"GET VehiclePositions\", \"rounded_rt_data_proportion_percentage\": 90, \"rt_trip_counts_by_operator\": 549.0, \"total_trips\": 110, \"percentage_of_trips\": 20.036429872495447}, {\"_gtfs_dataset_name\": \"GET VehiclePositions\", \"rounded_rt_data_proportion_percentage\": 100, \"rt_trip_counts_by_operator\": 549.0, \"total_trips\": 27, \"percentage_of_trips\": 4.918032786885246}, {\"_gtfs_dataset_name\": \"Humboldt Vehicle Positions\", \"rounded_rt_data_proportion_percentage\": 0, \"rt_trip_counts_by_operator\": 102.0, \"total_trips\": 2, \"percentage_of_trips\": 1.9607843137254901}, {\"_gtfs_dataset_name\": \"Humboldt Vehicle Positions\", \"rounded_rt_data_proportion_percentage\": 70, \"rt_trip_counts_by_operator\": 102.0, \"total_trips\": 2, \"percentage_of_trips\": 1.9607843137254901}, {\"_gtfs_dataset_name\": \"Humboldt Vehicle Positions\", \"rounded_rt_data_proportion_percentage\": 80, \"rt_trip_counts_by_operator\": 102.0, \"total_trips\": 9, \"percentage_of_trips\": 8.823529411764707}, {\"_gtfs_dataset_name\": \"Humboldt Vehicle Positions\", \"rounded_rt_data_proportion_percentage\": 90, \"rt_trip_counts_by_operator\": 102.0, \"total_trips\": 22, \"percentage_of_trips\": 21.568627450980394}, {\"_gtfs_dataset_name\": \"Humboldt Vehicle Positions\", \"rounded_rt_data_proportion_percentage\": 100, \"rt_trip_counts_by_operator\": 102.0, \"total_trips\": 67, \"percentage_of_trips\": 65.68627450980392}, {\"_gtfs_dataset_name\": \"Kings Vehicle Positions\", \"rounded_rt_data_proportion_percentage\": 30, \"rt_trip_counts_by_operator\": 246.0, \"total_trips\": 1, \"percentage_of_trips\": 0.40650406504065045}, {\"_gtfs_dataset_name\": \"Kings Vehicle Positions\", \"rounded_rt_data_proportion_percentage\": 40, \"rt_trip_counts_by_operator\": 246.0, \"total_trips\": 1, \"percentage_of_trips\": 0.40650406504065045}, {\"_gtfs_dataset_name\": \"Kings Vehicle Positions\", \"rounded_rt_data_proportion_percentage\": 60, \"rt_trip_counts_by_operator\": 246.0, \"total_trips\": 5, \"percentage_of_trips\": 2.0325203252032518}, {\"_gtfs_dataset_name\": \"Kings Vehicle Positions\", \"rounded_rt_data_proportion_percentage\": 70, \"rt_trip_counts_by_operator\": 246.0, \"total_trips\": 37, \"percentage_of_trips\": 15.040650406504067}, {\"_gtfs_dataset_name\": \"Kings Vehicle Positions\", \"rounded_rt_data_proportion_percentage\": 80, \"rt_trip_counts_by_operator\": 246.0, \"total_trips\": 92, \"percentage_of_trips\": 37.39837398373984}, {\"_gtfs_dataset_name\": \"Kings Vehicle Positions\", \"rounded_rt_data_proportion_percentage\": 90, \"rt_trip_counts_by_operator\": 246.0, \"total_trips\": 63, \"percentage_of_trips\": 25.609756097560975}, {\"_gtfs_dataset_name\": \"Kings Vehicle Positions\", \"rounded_rt_data_proportion_percentage\": 100, \"rt_trip_counts_by_operator\": 246.0, \"total_trips\": 47, \"percentage_of_trips\": 19.10569105691057}, {\"_gtfs_dataset_name\": \"LA DOT VehiclePositions\", \"rounded_rt_data_proportion_percentage\": 0, \"rt_trip_counts_by_operator\": 2557.0, \"total_trips\": 35, \"percentage_of_trips\": 1.368791552600704}, {\"_gtfs_dataset_name\": \"LA DOT VehiclePositions\", \"rounded_rt_data_proportion_percentage\": 10, \"rt_trip_counts_by_operator\": 2557.0, \"total_trips\": 28, \"percentage_of_trips\": 1.095033242080563}, {\"_gtfs_dataset_name\": \"LA DOT VehiclePositions\", \"rounded_rt_data_proportion_percentage\": 20, \"rt_trip_counts_by_operator\": 2557.0, \"total_trips\": 34, \"percentage_of_trips\": 1.3296832225263981}, {\"_gtfs_dataset_name\": \"LA DOT VehiclePositions\", \"rounded_rt_data_proportion_percentage\": 30, \"rt_trip_counts_by_operator\": 2557.0, \"total_trips\": 26, \"percentage_of_trips\": 1.0168165819319515}, {\"_gtfs_dataset_name\": \"LA DOT VehiclePositions\", \"rounded_rt_data_proportion_percentage\": 40, \"rt_trip_counts_by_operator\": 2557.0, \"total_trips\": 23, \"percentage_of_trips\": 0.899491591709034}, {\"_gtfs_dataset_name\": \"LA DOT VehiclePositions\", \"rounded_rt_data_proportion_percentage\": 50, \"rt_trip_counts_by_operator\": 2557.0, \"total_trips\": 36, \"percentage_of_trips\": 1.4078998826750098}, {\"_gtfs_dataset_name\": \"LA DOT VehiclePositions\", \"rounded_rt_data_proportion_percentage\": 60, \"rt_trip_counts_by_operator\": 2557.0, \"total_trips\": 39, \"percentage_of_trips\": 1.5252248728979272}, {\"_gtfs_dataset_name\": \"LA DOT VehiclePositions\", \"rounded_rt_data_proportion_percentage\": 70, \"rt_trip_counts_by_operator\": 2557.0, \"total_trips\": 76, \"percentage_of_trips\": 2.9722330856472428}, {\"_gtfs_dataset_name\": \"LA DOT VehiclePositions\", \"rounded_rt_data_proportion_percentage\": 80, \"rt_trip_counts_by_operator\": 2557.0, \"total_trips\": 171, \"percentage_of_trips\": 6.687524442706297}, {\"_gtfs_dataset_name\": \"LA DOT VehiclePositions\", \"rounded_rt_data_proportion_percentage\": 90, \"rt_trip_counts_by_operator\": 2557.0, \"total_trips\": 270, \"percentage_of_trips\": 10.559249120062573}, {\"_gtfs_dataset_name\": \"LA DOT VehiclePositions\", \"rounded_rt_data_proportion_percentage\": 100, \"rt_trip_counts_by_operator\": 2557.0, \"total_trips\": 1819, \"percentage_of_trips\": 71.1380524051623}, {\"_gtfs_dataset_name\": \"LA Metro Bus Vehicle Positions\", \"rounded_rt_data_proportion_percentage\": 0, \"rt_trip_counts_by_operator\": 10485.0, \"total_trips\": 56, \"percentage_of_trips\": 0.5340963280877444}, {\"_gtfs_dataset_name\": \"LA Metro Bus Vehicle Positions\", \"rounded_rt_data_proportion_percentage\": 10, \"rt_trip_counts_by_operator\": 10485.0, \"total_trips\": 54, \"percentage_of_trips\": 0.5150214592274678}, {\"_gtfs_dataset_name\": \"LA Metro Bus Vehicle Positions\", \"rounded_rt_data_proportion_percentage\": 20, \"rt_trip_counts_by_operator\": 10485.0, \"total_trips\": 140, \"percentage_of_trips\": 1.335240820219361}, {\"_gtfs_dataset_name\": \"LA Metro Bus Vehicle Positions\", \"rounded_rt_data_proportion_percentage\": 30, \"rt_trip_counts_by_operator\": 10485.0, \"total_trips\": 484, \"percentage_of_trips\": 4.616118264186934}, {\"_gtfs_dataset_name\": \"LA Metro Bus Vehicle Positions\", \"rounded_rt_data_proportion_percentage\": 40, \"rt_trip_counts_by_operator\": 10485.0, \"total_trips\": 374, \"percentage_of_trips\": 3.5670004768717214}, {\"_gtfs_dataset_name\": \"LA Metro Bus Vehicle Positions\", \"rounded_rt_data_proportion_percentage\": 50, \"rt_trip_counts_by_operator\": 10485.0, \"total_trips\": 107, \"percentage_of_trips\": 1.0205054840247973}, {\"_gtfs_dataset_name\": \"LA Metro Bus Vehicle Positions\", \"rounded_rt_data_proportion_percentage\": 60, \"rt_trip_counts_by_operator\": 10485.0, \"total_trips\": 80, \"percentage_of_trips\": 0.7629947544110633}, {\"_gtfs_dataset_name\": \"LA Metro Bus Vehicle Positions\", \"rounded_rt_data_proportion_percentage\": 70, \"rt_trip_counts_by_operator\": 10485.0, \"total_trips\": 117, \"percentage_of_trips\": 1.1158798283261802}, {\"_gtfs_dataset_name\": \"LA Metro Bus Vehicle Positions\", \"rounded_rt_data_proportion_percentage\": 80, \"rt_trip_counts_by_operator\": 10485.0, \"total_trips\": 366, \"percentage_of_trips\": 3.490701001430615}, {\"_gtfs_dataset_name\": \"LA Metro Bus Vehicle Positions\", \"rounded_rt_data_proportion_percentage\": 90, \"rt_trip_counts_by_operator\": 10485.0, \"total_trips\": 1033, \"percentage_of_trips\": 9.852169766332857}, {\"_gtfs_dataset_name\": \"LA Metro Bus Vehicle Positions\", \"rounded_rt_data_proportion_percentage\": 100, \"rt_trip_counts_by_operator\": 10485.0, \"total_trips\": 7674, \"percentage_of_trips\": 73.19027181688126}, {\"_gtfs_dataset_name\": \"LA Metro Rail Vehicle Positions\", \"rounded_rt_data_proportion_percentage\": 0, \"rt_trip_counts_by_operator\": 1006.0, \"total_trips\": 10, \"percentage_of_trips\": 0.9940357852882704}, {\"_gtfs_dataset_name\": \"LA Metro Rail Vehicle Positions\", \"rounded_rt_data_proportion_percentage\": 10, \"rt_trip_counts_by_operator\": 1006.0, \"total_trips\": 7, \"percentage_of_trips\": 0.6958250497017893}, {\"_gtfs_dataset_name\": \"LA Metro Rail Vehicle Positions\", \"rounded_rt_data_proportion_percentage\": 20, \"rt_trip_counts_by_operator\": 1006.0, \"total_trips\": 7, \"percentage_of_trips\": 0.6958250497017893}, {\"_gtfs_dataset_name\": \"LA Metro Rail Vehicle Positions\", \"rounded_rt_data_proportion_percentage\": 30, \"rt_trip_counts_by_operator\": 1006.0, \"total_trips\": 9, \"percentage_of_trips\": 0.8946322067594433}, {\"_gtfs_dataset_name\": \"LA Metro Rail Vehicle Positions\", \"rounded_rt_data_proportion_percentage\": 40, \"rt_trip_counts_by_operator\": 1006.0, \"total_trips\": 5, \"percentage_of_trips\": 0.4970178926441352}, {\"_gtfs_dataset_name\": \"LA Metro Rail Vehicle Positions\", \"rounded_rt_data_proportion_percentage\": 50, \"rt_trip_counts_by_operator\": 1006.0, \"total_trips\": 3, \"percentage_of_trips\": 0.2982107355864811}, {\"_gtfs_dataset_name\": \"LA Metro Rail Vehicle Positions\", \"rounded_rt_data_proportion_percentage\": 60, \"rt_trip_counts_by_operator\": 1006.0, \"total_trips\": 14, \"percentage_of_trips\": 1.3916500994035785}, {\"_gtfs_dataset_name\": \"LA Metro Rail Vehicle Positions\", \"rounded_rt_data_proportion_percentage\": 70, \"rt_trip_counts_by_operator\": 1006.0, \"total_trips\": 17, \"percentage_of_trips\": 1.6898608349900597}, {\"_gtfs_dataset_name\": \"LA Metro Rail Vehicle Positions\", \"rounded_rt_data_proportion_percentage\": 80, \"rt_trip_counts_by_operator\": 1006.0, \"total_trips\": 28, \"percentage_of_trips\": 2.783300198807157}, {\"_gtfs_dataset_name\": \"LA Metro Rail Vehicle Positions\", \"rounded_rt_data_proportion_percentage\": 90, \"rt_trip_counts_by_operator\": 1006.0, \"total_trips\": 83, \"percentage_of_trips\": 8.250497017892645}, {\"_gtfs_dataset_name\": \"LA Metro Rail Vehicle Positions\", \"rounded_rt_data_proportion_percentage\": 100, \"rt_trip_counts_by_operator\": 1006.0, \"total_trips\": 823, \"percentage_of_trips\": 81.80914512922465}, {\"_gtfs_dataset_name\": \"Lake Vehicle Positions\", \"rounded_rt_data_proportion_percentage\": 0, \"rt_trip_counts_by_operator\": 54.0, \"total_trips\": 4, \"percentage_of_trips\": 7.4074074074074066}, {\"_gtfs_dataset_name\": \"Lake Vehicle Positions\", \"rounded_rt_data_proportion_percentage\": 10, \"rt_trip_counts_by_operator\": 54.0, \"total_trips\": 2, \"percentage_of_trips\": 3.7037037037037033}, {\"_gtfs_dataset_name\": \"Lake Vehicle Positions\", \"rounded_rt_data_proportion_percentage\": 20, \"rt_trip_counts_by_operator\": 54.0, \"total_trips\": 2, \"percentage_of_trips\": 3.7037037037037033}, {\"_gtfs_dataset_name\": \"Lake Vehicle Positions\", \"rounded_rt_data_proportion_percentage\": 60, \"rt_trip_counts_by_operator\": 54.0, \"total_trips\": 1, \"percentage_of_trips\": 1.8518518518518516}, {\"_gtfs_dataset_name\": \"Lake Vehicle Positions\", \"rounded_rt_data_proportion_percentage\": 70, \"rt_trip_counts_by_operator\": 54.0, \"total_trips\": 4, \"percentage_of_trips\": 7.4074074074074066}, {\"_gtfs_dataset_name\": \"Lake Vehicle Positions\", \"rounded_rt_data_proportion_percentage\": 80, \"rt_trip_counts_by_operator\": 54.0, \"total_trips\": 15, \"percentage_of_trips\": 27.77777777777778}, {\"_gtfs_dataset_name\": \"Lake Vehicle Positions\", \"rounded_rt_data_proportion_percentage\": 90, \"rt_trip_counts_by_operator\": 54.0, \"total_trips\": 14, \"percentage_of_trips\": 25.925925925925924}, {\"_gtfs_dataset_name\": \"Lake Vehicle Positions\", \"rounded_rt_data_proportion_percentage\": 100, \"rt_trip_counts_by_operator\": 54.0, \"total_trips\": 12, \"percentage_of_trips\": 22.22222222222222}, {\"_gtfs_dataset_name\": \"Long Beach VehiclePositions\", \"rounded_rt_data_proportion_percentage\": 0, \"rt_trip_counts_by_operator\": 1549.0, \"total_trips\": 3, \"percentage_of_trips\": 0.19367333763718528}, {\"_gtfs_dataset_name\": \"Long Beach VehiclePositions\", \"rounded_rt_data_proportion_percentage\": 20, \"rt_trip_counts_by_operator\": 1549.0, \"total_trips\": 1, \"percentage_of_trips\": 0.06455777921239508}, {\"_gtfs_dataset_name\": \"Long Beach VehiclePositions\", \"rounded_rt_data_proportion_percentage\": 30, \"rt_trip_counts_by_operator\": 1549.0, \"total_trips\": 3, \"percentage_of_trips\": 0.19367333763718528}, {\"_gtfs_dataset_name\": \"Long Beach VehiclePositions\", \"rounded_rt_data_proportion_percentage\": 40, \"rt_trip_counts_by_operator\": 1549.0, \"total_trips\": 1, \"percentage_of_trips\": 0.06455777921239508}, {\"_gtfs_dataset_name\": \"Long Beach VehiclePositions\", \"rounded_rt_data_proportion_percentage\": 60, \"rt_trip_counts_by_operator\": 1549.0, \"total_trips\": 3, \"percentage_of_trips\": 0.19367333763718528}, {\"_gtfs_dataset_name\": \"Long Beach VehiclePositions\", \"rounded_rt_data_proportion_percentage\": 70, \"rt_trip_counts_by_operator\": 1549.0, \"total_trips\": 11, \"percentage_of_trips\": 0.7101355713363461}, {\"_gtfs_dataset_name\": \"Long Beach VehiclePositions\", \"rounded_rt_data_proportion_percentage\": 80, \"rt_trip_counts_by_operator\": 1549.0, \"total_trips\": 21, \"percentage_of_trips\": 1.355713363460297}, {\"_gtfs_dataset_name\": \"Long Beach VehiclePositions\", \"rounded_rt_data_proportion_percentage\": 90, \"rt_trip_counts_by_operator\": 1549.0, \"total_trips\": 50, \"percentage_of_trips\": 3.227888960619755}, {\"_gtfs_dataset_name\": \"Long Beach VehiclePositions\", \"rounded_rt_data_proportion_percentage\": 100, \"rt_trip_counts_by_operator\": 1549.0, \"total_trips\": 1456, \"percentage_of_trips\": 93.99612653324726}, {\"_gtfs_dataset_name\": \"Madera County Connection Vehicle Positions\", \"rounded_rt_data_proportion_percentage\": 40, \"rt_trip_counts_by_operator\": 23.0, \"total_trips\": 1, \"percentage_of_trips\": 4.3478260869565215}, {\"_gtfs_dataset_name\": \"Madera County Connection Vehicle Positions\", \"rounded_rt_data_proportion_percentage\": 70, \"rt_trip_counts_by_operator\": 23.0, \"total_trips\": 2, \"percentage_of_trips\": 8.695652173913043}, {\"_gtfs_dataset_name\": \"Madera County Connection Vehicle Positions\", \"rounded_rt_data_proportion_percentage\": 80, \"rt_trip_counts_by_operator\": 23.0, \"total_trips\": 13, \"percentage_of_trips\": 56.52173913043478}, {\"_gtfs_dataset_name\": \"Madera County Connection Vehicle Positions\", \"rounded_rt_data_proportion_percentage\": 90, \"rt_trip_counts_by_operator\": 23.0, \"total_trips\": 7, \"percentage_of_trips\": 30.434782608695656}, {\"_gtfs_dataset_name\": \"Montebello Vehicle Positions\", \"rounded_rt_data_proportion_percentage\": 70, \"rt_trip_counts_by_operator\": 21.0, \"total_trips\": 1, \"percentage_of_trips\": 4.761904761904762}, {\"_gtfs_dataset_name\": \"Montebello Vehicle Positions\", \"rounded_rt_data_proportion_percentage\": 80, \"rt_trip_counts_by_operator\": 21.0, \"total_trips\": 2, \"percentage_of_trips\": 9.523809523809524}, {\"_gtfs_dataset_name\": \"Montebello Vehicle Positions\", \"rounded_rt_data_proportion_percentage\": 90, \"rt_trip_counts_by_operator\": 21.0, \"total_trips\": 4, \"percentage_of_trips\": 19.047619047619047}, {\"_gtfs_dataset_name\": \"Montebello Vehicle Positions\", \"rounded_rt_data_proportion_percentage\": 100, \"rt_trip_counts_by_operator\": 21.0, \"total_trips\": 14, \"percentage_of_trips\": 66.66666666666666}, {\"_gtfs_dataset_name\": \"Monterey Salinas VehiclePositions\", \"rounded_rt_data_proportion_percentage\": 10, \"rt_trip_counts_by_operator\": 870.0, \"total_trips\": 1, \"percentage_of_trips\": 0.11494252873563218}, {\"_gtfs_dataset_name\": \"Monterey Salinas VehiclePositions\", \"rounded_rt_data_proportion_percentage\": 20, \"rt_trip_counts_by_operator\": 870.0, \"total_trips\": 4, \"percentage_of_trips\": 0.45977011494252873}, {\"_gtfs_dataset_name\": \"Monterey Salinas VehiclePositions\", \"rounded_rt_data_proportion_percentage\": 30, \"rt_trip_counts_by_operator\": 870.0, \"total_trips\": 4, \"percentage_of_trips\": 0.45977011494252873}, {\"_gtfs_dataset_name\": \"Monterey Salinas VehiclePositions\", \"rounded_rt_data_proportion_percentage\": 40, \"rt_trip_counts_by_operator\": 870.0, \"total_trips\": 6, \"percentage_of_trips\": 0.6896551724137931}, {\"_gtfs_dataset_name\": \"Monterey Salinas VehiclePositions\", \"rounded_rt_data_proportion_percentage\": 50, \"rt_trip_counts_by_operator\": 870.0, \"total_trips\": 4, \"percentage_of_trips\": 0.45977011494252873}, {\"_gtfs_dataset_name\": \"Monterey Salinas VehiclePositions\", \"rounded_rt_data_proportion_percentage\": 60, \"rt_trip_counts_by_operator\": 870.0, \"total_trips\": 2, \"percentage_of_trips\": 0.22988505747126436}, {\"_gtfs_dataset_name\": \"Monterey Salinas VehiclePositions\", \"rounded_rt_data_proportion_percentage\": 70, \"rt_trip_counts_by_operator\": 870.0, \"total_trips\": 17, \"percentage_of_trips\": 1.9540229885057472}, {\"_gtfs_dataset_name\": \"Monterey Salinas VehiclePositions\", \"rounded_rt_data_proportion_percentage\": 80, \"rt_trip_counts_by_operator\": 870.0, \"total_trips\": 43, \"percentage_of_trips\": 4.942528735632184}, {\"_gtfs_dataset_name\": \"Monterey Salinas VehiclePositions\", \"rounded_rt_data_proportion_percentage\": 90, \"rt_trip_counts_by_operator\": 870.0, \"total_trips\": 72, \"percentage_of_trips\": 8.275862068965518}, {\"_gtfs_dataset_name\": \"Monterey Salinas VehiclePositions\", \"rounded_rt_data_proportion_percentage\": 100, \"rt_trip_counts_by_operator\": 870.0, \"total_trips\": 717, \"percentage_of_trips\": 82.41379310344827}, {\"_gtfs_dataset_name\": \"Nevada County Vehicle Positions\", \"rounded_rt_data_proportion_percentage\": 0, \"rt_trip_counts_by_operator\": 104.0, \"total_trips\": 4, \"percentage_of_trips\": 3.8461538461538463}, {\"_gtfs_dataset_name\": \"Nevada County Vehicle Positions\", \"rounded_rt_data_proportion_percentage\": 10, \"rt_trip_counts_by_operator\": 104.0, \"total_trips\": 4, \"percentage_of_trips\": 3.8461538461538463}, {\"_gtfs_dataset_name\": \"Nevada County Vehicle Positions\", \"rounded_rt_data_proportion_percentage\": 20, \"rt_trip_counts_by_operator\": 104.0, \"total_trips\": 2, \"percentage_of_trips\": 1.9230769230769231}, {\"_gtfs_dataset_name\": \"Nevada County Vehicle Positions\", \"rounded_rt_data_proportion_percentage\": 50, \"rt_trip_counts_by_operator\": 104.0, \"total_trips\": 4, \"percentage_of_trips\": 3.8461538461538463}, {\"_gtfs_dataset_name\": \"Nevada County Vehicle Positions\", \"rounded_rt_data_proportion_percentage\": 60, \"rt_trip_counts_by_operator\": 104.0, \"total_trips\": 4, \"percentage_of_trips\": 3.8461538461538463}, {\"_gtfs_dataset_name\": \"Nevada County Vehicle Positions\", \"rounded_rt_data_proportion_percentage\": 70, \"rt_trip_counts_by_operator\": 104.0, \"total_trips\": 6, \"percentage_of_trips\": 5.769230769230769}, {\"_gtfs_dataset_name\": \"Nevada County Vehicle Positions\", \"rounded_rt_data_proportion_percentage\": 80, \"rt_trip_counts_by_operator\": 104.0, \"total_trips\": 6, \"percentage_of_trips\": 5.769230769230769}, {\"_gtfs_dataset_name\": \"Nevada County Vehicle Positions\", \"rounded_rt_data_proportion_percentage\": 90, \"rt_trip_counts_by_operator\": 104.0, \"total_trips\": 6, \"percentage_of_trips\": 5.769230769230769}, {\"_gtfs_dataset_name\": \"Nevada County Vehicle Positions\", \"rounded_rt_data_proportion_percentage\": 100, \"rt_trip_counts_by_operator\": 104.0, \"total_trips\": 68, \"percentage_of_trips\": 65.38461538461539}, {\"_gtfs_dataset_name\": \"None\", \"rounded_rt_data_proportion_percentage\": 0, \"rt_trip_counts_by_operator\": 0.0, \"total_trips\": 38525, \"percentage_of_trips\": null}, {\"_gtfs_dataset_name\": \"North County Vehicle Positions\", \"rounded_rt_data_proportion_percentage\": 0, \"rt_trip_counts_by_operator\": 1026.0, \"total_trips\": 2, \"percentage_of_trips\": 0.1949317738791423}, {\"_gtfs_dataset_name\": \"North County Vehicle Positions\", \"rounded_rt_data_proportion_percentage\": 10, \"rt_trip_counts_by_operator\": 1026.0, \"total_trips\": 2, \"percentage_of_trips\": 0.1949317738791423}, {\"_gtfs_dataset_name\": \"North County Vehicle Positions\", \"rounded_rt_data_proportion_percentage\": 20, \"rt_trip_counts_by_operator\": 1026.0, \"total_trips\": 1, \"percentage_of_trips\": 0.09746588693957114}, {\"_gtfs_dataset_name\": \"North County Vehicle Positions\", \"rounded_rt_data_proportion_percentage\": 60, \"rt_trip_counts_by_operator\": 1026.0, \"total_trips\": 2, \"percentage_of_trips\": 0.1949317738791423}, {\"_gtfs_dataset_name\": \"North County Vehicle Positions\", \"rounded_rt_data_proportion_percentage\": 70, \"rt_trip_counts_by_operator\": 1026.0, \"total_trips\": 7, \"percentage_of_trips\": 0.682261208576998}, {\"_gtfs_dataset_name\": \"North County Vehicle Positions\", \"rounded_rt_data_proportion_percentage\": 80, \"rt_trip_counts_by_operator\": 1026.0, \"total_trips\": 39, \"percentage_of_trips\": 3.8011695906432745}, {\"_gtfs_dataset_name\": \"North County Vehicle Positions\", \"rounded_rt_data_proportion_percentage\": 90, \"rt_trip_counts_by_operator\": 1026.0, \"total_trips\": 84, \"percentage_of_trips\": 8.187134502923977}, {\"_gtfs_dataset_name\": \"North County Vehicle Positions\", \"rounded_rt_data_proportion_percentage\": 100, \"rt_trip_counts_by_operator\": 1026.0, \"total_trips\": 889, \"percentage_of_trips\": 86.64717348927876}, {\"_gtfs_dataset_name\": \"Norwalk Vehicle Positions\", \"rounded_rt_data_proportion_percentage\": 80, \"rt_trip_counts_by_operator\": 13.0, \"total_trips\": 1, \"percentage_of_trips\": 7.6923076923076925}, {\"_gtfs_dataset_name\": \"Norwalk Vehicle Positions\", \"rounded_rt_data_proportion_percentage\": 100, \"rt_trip_counts_by_operator\": 13.0, \"total_trips\": 12, \"percentage_of_trips\": 92.3076923076923}, {\"_gtfs_dataset_name\": \"OCTA VehiclePositions\", \"rounded_rt_data_proportion_percentage\": 0, \"rt_trip_counts_by_operator\": 2499.0, \"total_trips\": 2, \"percentage_of_trips\": 0.08003201280512205}, {\"_gtfs_dataset_name\": \"OCTA VehiclePositions\", \"rounded_rt_data_proportion_percentage\": 10, \"rt_trip_counts_by_operator\": 2499.0, \"total_trips\": 3, \"percentage_of_trips\": 0.12004801920768307}, {\"_gtfs_dataset_name\": \"OCTA VehiclePositions\", \"rounded_rt_data_proportion_percentage\": 50, \"rt_trip_counts_by_operator\": 2499.0, \"total_trips\": 2, \"percentage_of_trips\": 0.08003201280512205}, {\"_gtfs_dataset_name\": \"OCTA VehiclePositions\", \"rounded_rt_data_proportion_percentage\": 60, \"rt_trip_counts_by_operator\": 2499.0, \"total_trips\": 13, \"percentage_of_trips\": 0.5202080832332933}, {\"_gtfs_dataset_name\": \"OCTA VehiclePositions\", \"rounded_rt_data_proportion_percentage\": 70, \"rt_trip_counts_by_operator\": 2499.0, \"total_trips\": 47, \"percentage_of_trips\": 1.8807523009203682}, {\"_gtfs_dataset_name\": \"OCTA VehiclePositions\", \"rounded_rt_data_proportion_percentage\": 80, \"rt_trip_counts_by_operator\": 2499.0, \"total_trips\": 133, \"percentage_of_trips\": 5.322128851540616}, {\"_gtfs_dataset_name\": \"OCTA VehiclePositions\", \"rounded_rt_data_proportion_percentage\": 90, \"rt_trip_counts_by_operator\": 2499.0, \"total_trips\": 250, \"percentage_of_trips\": 10.004001600640255}, {\"_gtfs_dataset_name\": \"OCTA VehiclePositions\", \"rounded_rt_data_proportion_percentage\": 100, \"rt_trip_counts_by_operator\": 2499.0, \"total_trips\": 2049, \"percentage_of_trips\": 81.99279711884753}, {\"_gtfs_dataset_name\": \"Pasadena VehiclePositions\", \"rounded_rt_data_proportion_percentage\": 0, \"rt_trip_counts_by_operator\": 293.0, \"total_trips\": 2, \"percentage_of_trips\": 0.6825938566552902}, {\"_gtfs_dataset_name\": \"Pasadena VehiclePositions\", \"rounded_rt_data_proportion_percentage\": 20, \"rt_trip_counts_by_operator\": 293.0, \"total_trips\": 1, \"percentage_of_trips\": 0.3412969283276451}, {\"_gtfs_dataset_name\": \"Pasadena VehiclePositions\", \"rounded_rt_data_proportion_percentage\": 30, \"rt_trip_counts_by_operator\": 293.0, \"total_trips\": 1, \"percentage_of_trips\": 0.3412969283276451}, {\"_gtfs_dataset_name\": \"Pasadena VehiclePositions\", \"rounded_rt_data_proportion_percentage\": 60, \"rt_trip_counts_by_operator\": 293.0, \"total_trips\": 2, \"percentage_of_trips\": 0.6825938566552902}, {\"_gtfs_dataset_name\": \"Pasadena VehiclePositions\", \"rounded_rt_data_proportion_percentage\": 70, \"rt_trip_counts_by_operator\": 293.0, \"total_trips\": 1, \"percentage_of_trips\": 0.3412969283276451}, {\"_gtfs_dataset_name\": \"Pasadena VehiclePositions\", \"rounded_rt_data_proportion_percentage\": 80, \"rt_trip_counts_by_operator\": 293.0, \"total_trips\": 21, \"percentage_of_trips\": 7.167235494880546}, {\"_gtfs_dataset_name\": \"Pasadena VehiclePositions\", \"rounded_rt_data_proportion_percentage\": 90, \"rt_trip_counts_by_operator\": 293.0, \"total_trips\": 34, \"percentage_of_trips\": 11.604095563139932}, {\"_gtfs_dataset_name\": \"Pasadena VehiclePositions\", \"rounded_rt_data_proportion_percentage\": 100, \"rt_trip_counts_by_operator\": 293.0, \"total_trips\": 231, \"percentage_of_trips\": 78.839590443686}, {\"_gtfs_dataset_name\": \"PresidiGo VehiclePositions\", \"rounded_rt_data_proportion_percentage\": 70, \"rt_trip_counts_by_operator\": 18.0, \"total_trips\": 1, \"percentage_of_trips\": 5.555555555555555}, {\"_gtfs_dataset_name\": \"PresidiGo VehiclePositions\", \"rounded_rt_data_proportion_percentage\": 80, \"rt_trip_counts_by_operator\": 18.0, \"total_trips\": 2, \"percentage_of_trips\": 11.11111111111111}, {\"_gtfs_dataset_name\": \"PresidiGo VehiclePositions\", \"rounded_rt_data_proportion_percentage\": 90, \"rt_trip_counts_by_operator\": 18.0, \"total_trips\": 5, \"percentage_of_trips\": 27.77777777777778}, {\"_gtfs_dataset_name\": \"PresidiGo VehiclePositions\", \"rounded_rt_data_proportion_percentage\": 100, \"rt_trip_counts_by_operator\": 18.0, \"total_trips\": 10, \"percentage_of_trips\": 55.55555555555556}, {\"_gtfs_dataset_name\": \"Redding Vehicle Positions\", \"rounded_rt_data_proportion_percentage\": 30, \"rt_trip_counts_by_operator\": 230.0, \"total_trips\": 1, \"percentage_of_trips\": 0.43478260869565216}, {\"_gtfs_dataset_name\": \"Redding Vehicle Positions\", \"rounded_rt_data_proportion_percentage\": 40, \"rt_trip_counts_by_operator\": 230.0, \"total_trips\": 3, \"percentage_of_trips\": 1.3043478260869565}, {\"_gtfs_dataset_name\": \"Redding Vehicle Positions\", \"rounded_rt_data_proportion_percentage\": 60, \"rt_trip_counts_by_operator\": 230.0, \"total_trips\": 6, \"percentage_of_trips\": 2.608695652173913}, {\"_gtfs_dataset_name\": \"Redding Vehicle Positions\", \"rounded_rt_data_proportion_percentage\": 70, \"rt_trip_counts_by_operator\": 230.0, \"total_trips\": 9, \"percentage_of_trips\": 3.91304347826087}, {\"_gtfs_dataset_name\": \"Redding Vehicle Positions\", \"rounded_rt_data_proportion_percentage\": 80, \"rt_trip_counts_by_operator\": 230.0, \"total_trips\": 18, \"percentage_of_trips\": 7.82608695652174}, {\"_gtfs_dataset_name\": \"Redding Vehicle Positions\", \"rounded_rt_data_proportion_percentage\": 90, \"rt_trip_counts_by_operator\": 230.0, \"total_trips\": 18, \"percentage_of_trips\": 7.82608695652174}, {\"_gtfs_dataset_name\": \"Redding Vehicle Positions\", \"rounded_rt_data_proportion_percentage\": 100, \"rt_trip_counts_by_operator\": 230.0, \"total_trips\": 175, \"percentage_of_trips\": 76.08695652173914}, {\"_gtfs_dataset_name\": \"Redwood Coast Vehicle Positions\", \"rounded_rt_data_proportion_percentage\": 30, \"rt_trip_counts_by_operator\": 60.0, \"total_trips\": 2, \"percentage_of_trips\": 3.3333333333333335}, {\"_gtfs_dataset_name\": \"Redwood Coast Vehicle Positions\", \"rounded_rt_data_proportion_percentage\": 40, \"rt_trip_counts_by_operator\": 60.0, \"total_trips\": 2, \"percentage_of_trips\": 3.3333333333333335}, {\"_gtfs_dataset_name\": \"Redwood Coast Vehicle Positions\", \"rounded_rt_data_proportion_percentage\": 60, \"rt_trip_counts_by_operator\": 60.0, \"total_trips\": 2, \"percentage_of_trips\": 3.3333333333333335}, {\"_gtfs_dataset_name\": \"Redwood Coast Vehicle Positions\", \"rounded_rt_data_proportion_percentage\": 70, \"rt_trip_counts_by_operator\": 60.0, \"total_trips\": 1, \"percentage_of_trips\": 1.6666666666666667}, {\"_gtfs_dataset_name\": \"Redwood Coast Vehicle Positions\", \"rounded_rt_data_proportion_percentage\": 80, \"rt_trip_counts_by_operator\": 60.0, \"total_trips\": 6, \"percentage_of_trips\": 10.0}, {\"_gtfs_dataset_name\": \"Redwood Coast Vehicle Positions\", \"rounded_rt_data_proportion_percentage\": 90, \"rt_trip_counts_by_operator\": 60.0, \"total_trips\": 5, \"percentage_of_trips\": 8.333333333333332}, {\"_gtfs_dataset_name\": \"Redwood Coast Vehicle Positions\", \"rounded_rt_data_proportion_percentage\": 100, \"rt_trip_counts_by_operator\": 60.0, \"total_trips\": 42, \"percentage_of_trips\": 70.0}, {\"_gtfs_dataset_name\": \"Riverside VehiclePositions\", \"rounded_rt_data_proportion_percentage\": 0, \"rt_trip_counts_by_operator\": 917.0, \"total_trips\": 2, \"percentage_of_trips\": 0.21810250817884408}, {\"_gtfs_dataset_name\": \"Riverside VehiclePositions\", \"rounded_rt_data_proportion_percentage\": 10, \"rt_trip_counts_by_operator\": 917.0, \"total_trips\": 4, \"percentage_of_trips\": 0.43620501635768816}, {\"_gtfs_dataset_name\": \"Riverside VehiclePositions\", \"rounded_rt_data_proportion_percentage\": 20, \"rt_trip_counts_by_operator\": 917.0, \"total_trips\": 3, \"percentage_of_trips\": 0.3271537622682661}, {\"_gtfs_dataset_name\": \"Riverside VehiclePositions\", \"rounded_rt_data_proportion_percentage\": 40, \"rt_trip_counts_by_operator\": 917.0, \"total_trips\": 1, \"percentage_of_trips\": 0.10905125408942204}, {\"_gtfs_dataset_name\": \"Riverside VehiclePositions\", \"rounded_rt_data_proportion_percentage\": 50, \"rt_trip_counts_by_operator\": 917.0, \"total_trips\": 3, \"percentage_of_trips\": 0.3271537622682661}, {\"_gtfs_dataset_name\": \"Riverside VehiclePositions\", \"rounded_rt_data_proportion_percentage\": 60, \"rt_trip_counts_by_operator\": 917.0, \"total_trips\": 2, \"percentage_of_trips\": 0.21810250817884408}, {\"_gtfs_dataset_name\": \"Riverside VehiclePositions\", \"rounded_rt_data_proportion_percentage\": 70, \"rt_trip_counts_by_operator\": 917.0, \"total_trips\": 3, \"percentage_of_trips\": 0.3271537622682661}, {\"_gtfs_dataset_name\": \"Riverside VehiclePositions\", \"rounded_rt_data_proportion_percentage\": 80, \"rt_trip_counts_by_operator\": 917.0, \"total_trips\": 19, \"percentage_of_trips\": 2.0719738276990185}, {\"_gtfs_dataset_name\": \"Riverside VehiclePositions\", \"rounded_rt_data_proportion_percentage\": 90, \"rt_trip_counts_by_operator\": 917.0, \"total_trips\": 59, \"percentage_of_trips\": 6.4340239912759}, {\"_gtfs_dataset_name\": \"Riverside VehiclePositions\", \"rounded_rt_data_proportion_percentage\": 100, \"rt_trip_counts_by_operator\": 917.0, \"total_trips\": 821, \"percentage_of_trips\": 89.53107960741549}, {\"_gtfs_dataset_name\": \"San Diego Vehicle Positions\", \"rounded_rt_data_proportion_percentage\": 0, \"rt_trip_counts_by_operator\": 5719.0, \"total_trips\": 13, \"percentage_of_trips\": 0.227312467214548}, {\"_gtfs_dataset_name\": \"San Diego Vehicle Positions\", \"rounded_rt_data_proportion_percentage\": 10, \"rt_trip_counts_by_operator\": 5719.0, \"total_trips\": 5, \"percentage_of_trips\": 0.08742787200559538}, {\"_gtfs_dataset_name\": \"San Diego Vehicle Positions\", \"rounded_rt_data_proportion_percentage\": 20, \"rt_trip_counts_by_operator\": 5719.0, \"total_trips\": 3, \"percentage_of_trips\": 0.05245672320335724}, {\"_gtfs_dataset_name\": \"San Diego Vehicle Positions\", \"rounded_rt_data_proportion_percentage\": 30, \"rt_trip_counts_by_operator\": 5719.0, \"total_trips\": 4, \"percentage_of_trips\": 0.0699422976044763}, {\"_gtfs_dataset_name\": \"San Diego Vehicle Positions\", \"rounded_rt_data_proportion_percentage\": 40, \"rt_trip_counts_by_operator\": 5719.0, \"total_trips\": 3, \"percentage_of_trips\": 0.05245672320335724}, {\"_gtfs_dataset_name\": \"San Diego Vehicle Positions\", \"rounded_rt_data_proportion_percentage\": 50, \"rt_trip_counts_by_operator\": 5719.0, \"total_trips\": 6, \"percentage_of_trips\": 0.10491344640671448}, {\"_gtfs_dataset_name\": \"San Diego Vehicle Positions\", \"rounded_rt_data_proportion_percentage\": 60, \"rt_trip_counts_by_operator\": 5719.0, \"total_trips\": 12, \"percentage_of_trips\": 0.20982689281342895}, {\"_gtfs_dataset_name\": \"San Diego Vehicle Positions\", \"rounded_rt_data_proportion_percentage\": 70, \"rt_trip_counts_by_operator\": 5719.0, \"total_trips\": 22, \"percentage_of_trips\": 0.3846826368246197}, {\"_gtfs_dataset_name\": \"San Diego Vehicle Positions\", \"rounded_rt_data_proportion_percentage\": 80, \"rt_trip_counts_by_operator\": 5719.0, \"total_trips\": 70, \"percentage_of_trips\": 1.2239902080783354}, {\"_gtfs_dataset_name\": \"San Diego Vehicle Positions\", \"rounded_rt_data_proportion_percentage\": 90, \"rt_trip_counts_by_operator\": 5719.0, \"total_trips\": 335, \"percentage_of_trips\": 5.85766742437489}, {\"_gtfs_dataset_name\": \"San Diego Vehicle Positions\", \"rounded_rt_data_proportion_percentage\": 100, \"rt_trip_counts_by_operator\": 5719.0, \"total_trips\": 5246, \"percentage_of_trips\": 91.72932330827066}, {\"_gtfs_dataset_name\": \"San Joaquin Vehicle Positions\", \"rounded_rt_data_proportion_percentage\": 0, \"rt_trip_counts_by_operator\": 855.0, \"total_trips\": 7, \"percentage_of_trips\": 0.8187134502923977}, {\"_gtfs_dataset_name\": \"San Joaquin Vehicle Positions\", \"rounded_rt_data_proportion_percentage\": 10, \"rt_trip_counts_by_operator\": 855.0, \"total_trips\": 6, \"percentage_of_trips\": 0.7017543859649122}, {\"_gtfs_dataset_name\": \"San Joaquin Vehicle Positions\", \"rounded_rt_data_proportion_percentage\": 20, \"rt_trip_counts_by_operator\": 855.0, \"total_trips\": 4, \"percentage_of_trips\": 0.46783625730994155}, {\"_gtfs_dataset_name\": \"San Joaquin Vehicle Positions\", \"rounded_rt_data_proportion_percentage\": 30, \"rt_trip_counts_by_operator\": 855.0, \"total_trips\": 4, \"percentage_of_trips\": 0.46783625730994155}, {\"_gtfs_dataset_name\": \"San Joaquin Vehicle Positions\", \"rounded_rt_data_proportion_percentage\": 40, \"rt_trip_counts_by_operator\": 855.0, \"total_trips\": 7, \"percentage_of_trips\": 0.8187134502923977}, {\"_gtfs_dataset_name\": \"San Joaquin Vehicle Positions\", \"rounded_rt_data_proportion_percentage\": 50, \"rt_trip_counts_by_operator\": 855.0, \"total_trips\": 12, \"percentage_of_trips\": 1.4035087719298245}, {\"_gtfs_dataset_name\": \"San Joaquin Vehicle Positions\", \"rounded_rt_data_proportion_percentage\": 60, \"rt_trip_counts_by_operator\": 855.0, \"total_trips\": 22, \"percentage_of_trips\": 2.5730994152046787}, {\"_gtfs_dataset_name\": \"San Joaquin Vehicle Positions\", \"rounded_rt_data_proportion_percentage\": 70, \"rt_trip_counts_by_operator\": 855.0, \"total_trips\": 40, \"percentage_of_trips\": 4.678362573099415}, {\"_gtfs_dataset_name\": \"San Joaquin Vehicle Positions\", \"rounded_rt_data_proportion_percentage\": 80, \"rt_trip_counts_by_operator\": 855.0, \"total_trips\": 106, \"percentage_of_trips\": 12.397660818713451}, {\"_gtfs_dataset_name\": \"San Joaquin Vehicle Positions\", \"rounded_rt_data_proportion_percentage\": 90, \"rt_trip_counts_by_operator\": 855.0, \"total_trips\": 108, \"percentage_of_trips\": 12.631578947368421}, {\"_gtfs_dataset_name\": \"San Joaquin Vehicle Positions\", \"rounded_rt_data_proportion_percentage\": 100, \"rt_trip_counts_by_operator\": 855.0, \"total_trips\": 539, \"percentage_of_trips\": 63.04093567251462}, {\"_gtfs_dataset_name\": \"Santa Clarita VehiclePositions\", \"rounded_rt_data_proportion_percentage\": 30, \"rt_trip_counts_by_operator\": 341.0, \"total_trips\": 1, \"percentage_of_trips\": 0.2932551319648094}, {\"_gtfs_dataset_name\": \"Santa Clarita VehiclePositions\", \"rounded_rt_data_proportion_percentage\": 40, \"rt_trip_counts_by_operator\": 341.0, \"total_trips\": 3, \"percentage_of_trips\": 0.8797653958944283}, {\"_gtfs_dataset_name\": \"Santa Clarita VehiclePositions\", \"rounded_rt_data_proportion_percentage\": 50, \"rt_trip_counts_by_operator\": 341.0, \"total_trips\": 1, \"percentage_of_trips\": 0.2932551319648094}, {\"_gtfs_dataset_name\": \"Santa Clarita VehiclePositions\", \"rounded_rt_data_proportion_percentage\": 60, \"rt_trip_counts_by_operator\": 341.0, \"total_trips\": 6, \"percentage_of_trips\": 1.7595307917888565}, {\"_gtfs_dataset_name\": \"Santa Clarita VehiclePositions\", \"rounded_rt_data_proportion_percentage\": 70, \"rt_trip_counts_by_operator\": 341.0, \"total_trips\": 32, \"percentage_of_trips\": 9.3841642228739}, {\"_gtfs_dataset_name\": \"Santa Clarita VehiclePositions\", \"rounded_rt_data_proportion_percentage\": 80, \"rt_trip_counts_by_operator\": 341.0, \"total_trips\": 39, \"percentage_of_trips\": 11.436950146627565}, {\"_gtfs_dataset_name\": \"Santa Clarita VehiclePositions\", \"rounded_rt_data_proportion_percentage\": 90, \"rt_trip_counts_by_operator\": 341.0, \"total_trips\": 68, \"percentage_of_trips\": 19.941348973607038}, {\"_gtfs_dataset_name\": \"Santa Clarita VehiclePositions\", \"rounded_rt_data_proportion_percentage\": 100, \"rt_trip_counts_by_operator\": 341.0, \"total_trips\": 191, \"percentage_of_trips\": 56.01173020527859}, {\"_gtfs_dataset_name\": \"Santa Maria Vehicle Positions\", \"rounded_rt_data_proportion_percentage\": 0, \"rt_trip_counts_by_operator\": 140.0, \"total_trips\": 4, \"percentage_of_trips\": 2.857142857142857}, {\"_gtfs_dataset_name\": \"Santa Maria Vehicle Positions\", \"rounded_rt_data_proportion_percentage\": 20, \"rt_trip_counts_by_operator\": 140.0, \"total_trips\": 1, \"percentage_of_trips\": 0.7142857142857143}, {\"_gtfs_dataset_name\": \"Santa Maria Vehicle Positions\", \"rounded_rt_data_proportion_percentage\": 50, \"rt_trip_counts_by_operator\": 140.0, \"total_trips\": 2, \"percentage_of_trips\": 1.4285714285714286}, {\"_gtfs_dataset_name\": \"Santa Maria Vehicle Positions\", \"rounded_rt_data_proportion_percentage\": 70, \"rt_trip_counts_by_operator\": 140.0, \"total_trips\": 4, \"percentage_of_trips\": 2.857142857142857}, {\"_gtfs_dataset_name\": \"Santa Maria Vehicle Positions\", \"rounded_rt_data_proportion_percentage\": 80, \"rt_trip_counts_by_operator\": 140.0, \"total_trips\": 11, \"percentage_of_trips\": 7.857142857142857}, {\"_gtfs_dataset_name\": \"Santa Maria Vehicle Positions\", \"rounded_rt_data_proportion_percentage\": 90, \"rt_trip_counts_by_operator\": 140.0, \"total_trips\": 37, \"percentage_of_trips\": 26.42857142857143}, {\"_gtfs_dataset_name\": \"Santa Maria Vehicle Positions\", \"rounded_rt_data_proportion_percentage\": 100, \"rt_trip_counts_by_operator\": 140.0, \"total_trips\": 81, \"percentage_of_trips\": 57.85714285714286}, {\"_gtfs_dataset_name\": \"Santa Ynez Vehicle Positions\", \"rounded_rt_data_proportion_percentage\": 0, \"rt_trip_counts_by_operator\": 18.0, \"total_trips\": 1, \"percentage_of_trips\": 5.555555555555555}, {\"_gtfs_dataset_name\": \"Santa Ynez Vehicle Positions\", \"rounded_rt_data_proportion_percentage\": 20, \"rt_trip_counts_by_operator\": 18.0, \"total_trips\": 1, \"percentage_of_trips\": 5.555555555555555}, {\"_gtfs_dataset_name\": \"Santa Ynez Vehicle Positions\", \"rounded_rt_data_proportion_percentage\": 30, \"rt_trip_counts_by_operator\": 18.0, \"total_trips\": 1, \"percentage_of_trips\": 5.555555555555555}, {\"_gtfs_dataset_name\": \"Santa Ynez Vehicle Positions\", \"rounded_rt_data_proportion_percentage\": 80, \"rt_trip_counts_by_operator\": 18.0, \"total_trips\": 7, \"percentage_of_trips\": 38.88888888888889}, {\"_gtfs_dataset_name\": \"Santa Ynez Vehicle Positions\", \"rounded_rt_data_proportion_percentage\": 90, \"rt_trip_counts_by_operator\": 18.0, \"total_trips\": 3, \"percentage_of_trips\": 16.666666666666664}, {\"_gtfs_dataset_name\": \"Santa Ynez Vehicle Positions\", \"rounded_rt_data_proportion_percentage\": 100, \"rt_trip_counts_by_operator\": 18.0, \"total_trips\": 5, \"percentage_of_trips\": 27.77777777777778}, {\"_gtfs_dataset_name\": \"StanRTA Vehicle Positions\", \"rounded_rt_data_proportion_percentage\": 0, \"rt_trip_counts_by_operator\": 939.0, \"total_trips\": 1, \"percentage_of_trips\": 0.10649627263045794}, {\"_gtfs_dataset_name\": \"StanRTA Vehicle Positions\", \"rounded_rt_data_proportion_percentage\": 20, \"rt_trip_counts_by_operator\": 939.0, \"total_trips\": 1, \"percentage_of_trips\": 0.10649627263045794}, {\"_gtfs_dataset_name\": \"StanRTA Vehicle Positions\", \"rounded_rt_data_proportion_percentage\": 30, \"rt_trip_counts_by_operator\": 939.0, \"total_trips\": 3, \"percentage_of_trips\": 0.3194888178913738}, {\"_gtfs_dataset_name\": \"StanRTA Vehicle Positions\", \"rounded_rt_data_proportion_percentage\": 40, \"rt_trip_counts_by_operator\": 939.0, \"total_trips\": 7, \"percentage_of_trips\": 0.7454739084132056}, {\"_gtfs_dataset_name\": \"StanRTA Vehicle Positions\", \"rounded_rt_data_proportion_percentage\": 50, \"rt_trip_counts_by_operator\": 939.0, \"total_trips\": 5, \"percentage_of_trips\": 0.5324813631522897}, {\"_gtfs_dataset_name\": \"StanRTA Vehicle Positions\", \"rounded_rt_data_proportion_percentage\": 60, \"rt_trip_counts_by_operator\": 939.0, \"total_trips\": 14, \"percentage_of_trips\": 1.4909478168264112}, {\"_gtfs_dataset_name\": \"StanRTA Vehicle Positions\", \"rounded_rt_data_proportion_percentage\": 70, \"rt_trip_counts_by_operator\": 939.0, \"total_trips\": 49, \"percentage_of_trips\": 5.218317358892439}, {\"_gtfs_dataset_name\": \"StanRTA Vehicle Positions\", \"rounded_rt_data_proportion_percentage\": 80, \"rt_trip_counts_by_operator\": 939.0, \"total_trips\": 76, \"percentage_of_trips\": 8.093716719914804}, {\"_gtfs_dataset_name\": \"StanRTA Vehicle Positions\", \"rounded_rt_data_proportion_percentage\": 90, \"rt_trip_counts_by_operator\": 939.0, \"total_trips\": 129, \"percentage_of_trips\": 13.738019169329075}, {\"_gtfs_dataset_name\": \"StanRTA Vehicle Positions\", \"rounded_rt_data_proportion_percentage\": 100, \"rt_trip_counts_by_operator\": 939.0, \"total_trips\": 654, \"percentage_of_trips\": 69.6485623003195}, {\"_gtfs_dataset_name\": \"Tahoe Transportation Vehicle Positions\", \"rounded_rt_data_proportion_percentage\": 0, \"rt_trip_counts_by_operator\": 54.0, \"total_trips\": 5, \"percentage_of_trips\": 9.25925925925926}, {\"_gtfs_dataset_name\": \"Tahoe Transportation Vehicle Positions\", \"rounded_rt_data_proportion_percentage\": 40, \"rt_trip_counts_by_operator\": 54.0, \"total_trips\": 1, \"percentage_of_trips\": 1.8518518518518516}, {\"_gtfs_dataset_name\": \"Tahoe Transportation Vehicle Positions\", \"rounded_rt_data_proportion_percentage\": 60, \"rt_trip_counts_by_operator\": 54.0, \"total_trips\": 1, \"percentage_of_trips\": 1.8518518518518516}, {\"_gtfs_dataset_name\": \"Tahoe Transportation Vehicle Positions\", \"rounded_rt_data_proportion_percentage\": 70, \"rt_trip_counts_by_operator\": 54.0, \"total_trips\": 2, \"percentage_of_trips\": 3.7037037037037033}, {\"_gtfs_dataset_name\": \"Tahoe Transportation Vehicle Positions\", \"rounded_rt_data_proportion_percentage\": 80, \"rt_trip_counts_by_operator\": 54.0, \"total_trips\": 4, \"percentage_of_trips\": 7.4074074074074066}, {\"_gtfs_dataset_name\": \"Tahoe Transportation Vehicle Positions\", \"rounded_rt_data_proportion_percentage\": 90, \"rt_trip_counts_by_operator\": 54.0, \"total_trips\": 3, \"percentage_of_trips\": 5.555555555555555}, {\"_gtfs_dataset_name\": \"Tahoe Transportation Vehicle Positions\", \"rounded_rt_data_proportion_percentage\": 100, \"rt_trip_counts_by_operator\": 54.0, \"total_trips\": 38, \"percentage_of_trips\": 70.37037037037037}, {\"_gtfs_dataset_name\": \"Torrance Swiftly Vehicle Positions\", \"rounded_rt_data_proportion_percentage\": 0, \"rt_trip_counts_by_operator\": 114.0, \"total_trips\": 6, \"percentage_of_trips\": 5.263157894736842}, {\"_gtfs_dataset_name\": \"Torrance Swiftly Vehicle Positions\", \"rounded_rt_data_proportion_percentage\": 10, \"rt_trip_counts_by_operator\": 114.0, \"total_trips\": 1, \"percentage_of_trips\": 0.8771929824561403}, {\"_gtfs_dataset_name\": \"Torrance Swiftly Vehicle Positions\", \"rounded_rt_data_proportion_percentage\": 30, \"rt_trip_counts_by_operator\": 114.0, \"total_trips\": 2, \"percentage_of_trips\": 1.7543859649122806}, {\"_gtfs_dataset_name\": \"Torrance Swiftly Vehicle Positions\", \"rounded_rt_data_proportion_percentage\": 40, \"rt_trip_counts_by_operator\": 114.0, \"total_trips\": 2, \"percentage_of_trips\": 1.7543859649122806}, {\"_gtfs_dataset_name\": \"Torrance Swiftly Vehicle Positions\", \"rounded_rt_data_proportion_percentage\": 50, \"rt_trip_counts_by_operator\": 114.0, \"total_trips\": 2, \"percentage_of_trips\": 1.7543859649122806}, {\"_gtfs_dataset_name\": \"Torrance Swiftly Vehicle Positions\", \"rounded_rt_data_proportion_percentage\": 60, \"rt_trip_counts_by_operator\": 114.0, \"total_trips\": 2, \"percentage_of_trips\": 1.7543859649122806}, {\"_gtfs_dataset_name\": \"Torrance Swiftly Vehicle Positions\", \"rounded_rt_data_proportion_percentage\": 70, \"rt_trip_counts_by_operator\": 114.0, \"total_trips\": 3, \"percentage_of_trips\": 2.631578947368421}, {\"_gtfs_dataset_name\": \"Torrance Swiftly Vehicle Positions\", \"rounded_rt_data_proportion_percentage\": 80, \"rt_trip_counts_by_operator\": 114.0, \"total_trips\": 6, \"percentage_of_trips\": 5.263157894736842}, {\"_gtfs_dataset_name\": \"Torrance Swiftly Vehicle Positions\", \"rounded_rt_data_proportion_percentage\": 90, \"rt_trip_counts_by_operator\": 114.0, \"total_trips\": 11, \"percentage_of_trips\": 9.649122807017543}, {\"_gtfs_dataset_name\": \"Torrance Swiftly Vehicle Positions\", \"rounded_rt_data_proportion_percentage\": 100, \"rt_trip_counts_by_operator\": 114.0, \"total_trips\": 79, \"percentage_of_trips\": 69.2982456140351}, {\"_gtfs_dataset_name\": \"Torrance Vehicle Positions\", \"rounded_rt_data_proportion_percentage\": 0, \"rt_trip_counts_by_operator\": 97.0, \"total_trips\": 4, \"percentage_of_trips\": 4.123711340206185}, {\"_gtfs_dataset_name\": \"Torrance Vehicle Positions\", \"rounded_rt_data_proportion_percentage\": 10, \"rt_trip_counts_by_operator\": 97.0, \"total_trips\": 4, \"percentage_of_trips\": 4.123711340206185}, {\"_gtfs_dataset_name\": \"Torrance Vehicle Positions\", \"rounded_rt_data_proportion_percentage\": 20, \"rt_trip_counts_by_operator\": 97.0, \"total_trips\": 7, \"percentage_of_trips\": 7.216494845360824}, {\"_gtfs_dataset_name\": \"Torrance Vehicle Positions\", \"rounded_rt_data_proportion_percentage\": 30, \"rt_trip_counts_by_operator\": 97.0, \"total_trips\": 3, \"percentage_of_trips\": 3.0927835051546393}, {\"_gtfs_dataset_name\": \"Torrance Vehicle Positions\", \"rounded_rt_data_proportion_percentage\": 40, \"rt_trip_counts_by_operator\": 97.0, \"total_trips\": 3, \"percentage_of_trips\": 3.0927835051546393}, {\"_gtfs_dataset_name\": \"Torrance Vehicle Positions\", \"rounded_rt_data_proportion_percentage\": 50, \"rt_trip_counts_by_operator\": 97.0, \"total_trips\": 5, \"percentage_of_trips\": 5.154639175257731}, {\"_gtfs_dataset_name\": \"Torrance Vehicle Positions\", \"rounded_rt_data_proportion_percentage\": 60, \"rt_trip_counts_by_operator\": 97.0, \"total_trips\": 3, \"percentage_of_trips\": 3.0927835051546393}, {\"_gtfs_dataset_name\": \"Torrance Vehicle Positions\", \"rounded_rt_data_proportion_percentage\": 70, \"rt_trip_counts_by_operator\": 97.0, \"total_trips\": 5, \"percentage_of_trips\": 5.154639175257731}, {\"_gtfs_dataset_name\": \"Torrance Vehicle Positions\", \"rounded_rt_data_proportion_percentage\": 80, \"rt_trip_counts_by_operator\": 97.0, \"total_trips\": 4, \"percentage_of_trips\": 4.123711340206185}, {\"_gtfs_dataset_name\": \"Torrance Vehicle Positions\", \"rounded_rt_data_proportion_percentage\": 90, \"rt_trip_counts_by_operator\": 97.0, \"total_trips\": 8, \"percentage_of_trips\": 8.24742268041237}, {\"_gtfs_dataset_name\": \"Torrance Vehicle Positions\", \"rounded_rt_data_proportion_percentage\": 100, \"rt_trip_counts_by_operator\": 97.0, \"total_trips\": 51, \"percentage_of_trips\": 52.57731958762887}, {\"_gtfs_dataset_name\": \"Turlock Vehicle Positions\", \"rounded_rt_data_proportion_percentage\": 10, \"rt_trip_counts_by_operator\": 236.0, \"total_trips\": 1, \"percentage_of_trips\": 0.423728813559322}, {\"_gtfs_dataset_name\": \"Turlock Vehicle Positions\", \"rounded_rt_data_proportion_percentage\": 20, \"rt_trip_counts_by_operator\": 236.0, \"total_trips\": 1, \"percentage_of_trips\": 0.423728813559322}, {\"_gtfs_dataset_name\": \"Turlock Vehicle Positions\", \"rounded_rt_data_proportion_percentage\": 30, \"rt_trip_counts_by_operator\": 236.0, \"total_trips\": 3, \"percentage_of_trips\": 1.2711864406779663}, {\"_gtfs_dataset_name\": \"Turlock Vehicle Positions\", \"rounded_rt_data_proportion_percentage\": 40, \"rt_trip_counts_by_operator\": 236.0, \"total_trips\": 2, \"percentage_of_trips\": 0.847457627118644}, {\"_gtfs_dataset_name\": \"Turlock Vehicle Positions\", \"rounded_rt_data_proportion_percentage\": 50, \"rt_trip_counts_by_operator\": 236.0, \"total_trips\": 4, \"percentage_of_trips\": 1.694915254237288}, {\"_gtfs_dataset_name\": \"Turlock Vehicle Positions\", \"rounded_rt_data_proportion_percentage\": 60, \"rt_trip_counts_by_operator\": 236.0, \"total_trips\": 4, \"percentage_of_trips\": 1.694915254237288}, {\"_gtfs_dataset_name\": \"Turlock Vehicle Positions\", \"rounded_rt_data_proportion_percentage\": 70, \"rt_trip_counts_by_operator\": 236.0, \"total_trips\": 17, \"percentage_of_trips\": 7.203389830508475}, {\"_gtfs_dataset_name\": \"Turlock Vehicle Positions\", \"rounded_rt_data_proportion_percentage\": 80, \"rt_trip_counts_by_operator\": 236.0, \"total_trips\": 9, \"percentage_of_trips\": 3.8135593220338984}, {\"_gtfs_dataset_name\": \"Turlock Vehicle Positions\", \"rounded_rt_data_proportion_percentage\": 90, \"rt_trip_counts_by_operator\": 236.0, \"total_trips\": 4, \"percentage_of_trips\": 1.694915254237288}, {\"_gtfs_dataset_name\": \"Turlock Vehicle Positions\", \"rounded_rt_data_proportion_percentage\": 100, \"rt_trip_counts_by_operator\": 236.0, \"total_trips\": 191, \"percentage_of_trips\": 80.9322033898305}, {\"_gtfs_dataset_name\": \"Unitrans Vehicle Positions\", \"rounded_rt_data_proportion_percentage\": 0, \"rt_trip_counts_by_operator\": 620.0, \"total_trips\": 4, \"percentage_of_trips\": 0.6451612903225806}, {\"_gtfs_dataset_name\": \"Unitrans Vehicle Positions\", \"rounded_rt_data_proportion_percentage\": 10, \"rt_trip_counts_by_operator\": 620.0, \"total_trips\": 1, \"percentage_of_trips\": 0.16129032258064516}, {\"_gtfs_dataset_name\": \"Unitrans Vehicle Positions\", \"rounded_rt_data_proportion_percentage\": 20, \"rt_trip_counts_by_operator\": 620.0, \"total_trips\": 5, \"percentage_of_trips\": 0.8064516129032258}, {\"_gtfs_dataset_name\": \"Unitrans Vehicle Positions\", \"rounded_rt_data_proportion_percentage\": 30, \"rt_trip_counts_by_operator\": 620.0, \"total_trips\": 2, \"percentage_of_trips\": 0.3225806451612903}, {\"_gtfs_dataset_name\": \"Unitrans Vehicle Positions\", \"rounded_rt_data_proportion_percentage\": 40, \"rt_trip_counts_by_operator\": 620.0, \"total_trips\": 3, \"percentage_of_trips\": 0.4838709677419355}, {\"_gtfs_dataset_name\": \"Unitrans Vehicle Positions\", \"rounded_rt_data_proportion_percentage\": 50, \"rt_trip_counts_by_operator\": 620.0, \"total_trips\": 7, \"percentage_of_trips\": 1.129032258064516}, {\"_gtfs_dataset_name\": \"Unitrans Vehicle Positions\", \"rounded_rt_data_proportion_percentage\": 60, \"rt_trip_counts_by_operator\": 620.0, \"total_trips\": 21, \"percentage_of_trips\": 3.387096774193549}, {\"_gtfs_dataset_name\": \"Unitrans Vehicle Positions\", \"rounded_rt_data_proportion_percentage\": 70, \"rt_trip_counts_by_operator\": 620.0, \"total_trips\": 15, \"percentage_of_trips\": 2.4193548387096775}, {\"_gtfs_dataset_name\": \"Unitrans Vehicle Positions\", \"rounded_rt_data_proportion_percentage\": 80, \"rt_trip_counts_by_operator\": 620.0, \"total_trips\": 41, \"percentage_of_trips\": 6.612903225806452}, {\"_gtfs_dataset_name\": \"Unitrans Vehicle Positions\", \"rounded_rt_data_proportion_percentage\": 90, \"rt_trip_counts_by_operator\": 620.0, \"total_trips\": 51, \"percentage_of_trips\": 8.225806451612904}, {\"_gtfs_dataset_name\": \"Unitrans Vehicle Positions\", \"rounded_rt_data_proportion_percentage\": 100, \"rt_trip_counts_by_operator\": 620.0, \"total_trips\": 470, \"percentage_of_trips\": 75.80645161290323}, {\"_gtfs_dataset_name\": \"VCTC Vehicle Positions\", \"rounded_rt_data_proportion_percentage\": 0, \"rt_trip_counts_by_operator\": 941.0, \"total_trips\": 17, \"percentage_of_trips\": 1.8065887353878853}, {\"_gtfs_dataset_name\": \"VCTC Vehicle Positions\", \"rounded_rt_data_proportion_percentage\": 10, \"rt_trip_counts_by_operator\": 941.0, \"total_trips\": 1, \"percentage_of_trips\": 0.10626992561105207}, {\"_gtfs_dataset_name\": \"VCTC Vehicle Positions\", \"rounded_rt_data_proportion_percentage\": 20, \"rt_trip_counts_by_operator\": 941.0, \"total_trips\": 3, \"percentage_of_trips\": 0.3188097768331562}, {\"_gtfs_dataset_name\": \"VCTC Vehicle Positions\", \"rounded_rt_data_proportion_percentage\": 30, \"rt_trip_counts_by_operator\": 941.0, \"total_trips\": 1, \"percentage_of_trips\": 0.10626992561105207}, {\"_gtfs_dataset_name\": \"VCTC Vehicle Positions\", \"rounded_rt_data_proportion_percentage\": 40, \"rt_trip_counts_by_operator\": 941.0, \"total_trips\": 5, \"percentage_of_trips\": 0.5313496280552604}, {\"_gtfs_dataset_name\": \"VCTC Vehicle Positions\", \"rounded_rt_data_proportion_percentage\": 50, \"rt_trip_counts_by_operator\": 941.0, \"total_trips\": 14, \"percentage_of_trips\": 1.487778958554729}, {\"_gtfs_dataset_name\": \"VCTC Vehicle Positions\", \"rounded_rt_data_proportion_percentage\": 60, \"rt_trip_counts_by_operator\": 941.0, \"total_trips\": 19, \"percentage_of_trips\": 2.0191285866099893}, {\"_gtfs_dataset_name\": \"VCTC Vehicle Positions\", \"rounded_rt_data_proportion_percentage\": 70, \"rt_trip_counts_by_operator\": 941.0, \"total_trips\": 18, \"percentage_of_trips\": 1.9128586609989375}, {\"_gtfs_dataset_name\": \"VCTC Vehicle Positions\", \"rounded_rt_data_proportion_percentage\": 80, \"rt_trip_counts_by_operator\": 941.0, \"total_trips\": 57, \"percentage_of_trips\": 6.057385759829968}, {\"_gtfs_dataset_name\": \"VCTC Vehicle Positions\", \"rounded_rt_data_proportion_percentage\": 90, \"rt_trip_counts_by_operator\": 941.0, \"total_trips\": 82, \"percentage_of_trips\": 8.71413390010627}, {\"_gtfs_dataset_name\": \"VCTC Vehicle Positions\", \"rounded_rt_data_proportion_percentage\": 100, \"rt_trip_counts_by_operator\": 941.0, \"total_trips\": 724, \"percentage_of_trips\": 76.9394261424017}, {\"_gtfs_dataset_name\": \"Victor Valley Vehicle Position\", \"rounded_rt_data_proportion_percentage\": 0, \"rt_trip_counts_by_operator\": 721.0, \"total_trips\": 5, \"percentage_of_trips\": 0.6934812760055479}, {\"_gtfs_dataset_name\": \"Victor Valley Vehicle Position\", \"rounded_rt_data_proportion_percentage\": 10, \"rt_trip_counts_by_operator\": 721.0, \"total_trips\": 1, \"percentage_of_trips\": 0.13869625520110956}, {\"_gtfs_dataset_name\": \"Victor Valley Vehicle Position\", \"rounded_rt_data_proportion_percentage\": 20, \"rt_trip_counts_by_operator\": 721.0, \"total_trips\": 1, \"percentage_of_trips\": 0.13869625520110956}, {\"_gtfs_dataset_name\": \"Victor Valley Vehicle Position\", \"rounded_rt_data_proportion_percentage\": 50, \"rt_trip_counts_by_operator\": 721.0, \"total_trips\": 3, \"percentage_of_trips\": 0.4160887656033287}, {\"_gtfs_dataset_name\": \"Victor Valley Vehicle Position\", \"rounded_rt_data_proportion_percentage\": 70, \"rt_trip_counts_by_operator\": 721.0, \"total_trips\": 2, \"percentage_of_trips\": 0.27739251040221913}, {\"_gtfs_dataset_name\": \"Victor Valley Vehicle Position\", \"rounded_rt_data_proportion_percentage\": 80, \"rt_trip_counts_by_operator\": 721.0, \"total_trips\": 11, \"percentage_of_trips\": 1.5256588072122053}, {\"_gtfs_dataset_name\": \"Victor Valley Vehicle Position\", \"rounded_rt_data_proportion_percentage\": 90, \"rt_trip_counts_by_operator\": 721.0, \"total_trips\": 22, \"percentage_of_trips\": 3.0513176144244105}, {\"_gtfs_dataset_name\": \"Victor Valley Vehicle Position\", \"rounded_rt_data_proportion_percentage\": 100, \"rt_trip_counts_by_operator\": 721.0, \"total_trips\": 676, \"percentage_of_trips\": 93.75866851595008}, {\"_gtfs_dataset_name\": \"Visalia VehiclePositions\", \"rounded_rt_data_proportion_percentage\": 0, \"rt_trip_counts_by_operator\": 328.0, \"total_trips\": 5, \"percentage_of_trips\": 1.524390243902439}, {\"_gtfs_dataset_name\": \"Visalia VehiclePositions\", \"rounded_rt_data_proportion_percentage\": 10, \"rt_trip_counts_by_operator\": 328.0, \"total_trips\": 2, \"percentage_of_trips\": 0.6097560975609756}, {\"_gtfs_dataset_name\": \"Visalia VehiclePositions\", \"rounded_rt_data_proportion_percentage\": 20, \"rt_trip_counts_by_operator\": 328.0, \"total_trips\": 3, \"percentage_of_trips\": 0.9146341463414633}, {\"_gtfs_dataset_name\": \"Visalia VehiclePositions\", \"rounded_rt_data_proportion_percentage\": 30, \"rt_trip_counts_by_operator\": 328.0, \"total_trips\": 2, \"percentage_of_trips\": 0.6097560975609756}, {\"_gtfs_dataset_name\": \"Visalia VehiclePositions\", \"rounded_rt_data_proportion_percentage\": 40, \"rt_trip_counts_by_operator\": 328.0, \"total_trips\": 3, \"percentage_of_trips\": 0.9146341463414633}, {\"_gtfs_dataset_name\": \"Visalia VehiclePositions\", \"rounded_rt_data_proportion_percentage\": 50, \"rt_trip_counts_by_operator\": 328.0, \"total_trips\": 5, \"percentage_of_trips\": 1.524390243902439}, {\"_gtfs_dataset_name\": \"Visalia VehiclePositions\", \"rounded_rt_data_proportion_percentage\": 60, \"rt_trip_counts_by_operator\": 328.0, \"total_trips\": 10, \"percentage_of_trips\": 3.048780487804878}, {\"_gtfs_dataset_name\": \"Visalia VehiclePositions\", \"rounded_rt_data_proportion_percentage\": 70, \"rt_trip_counts_by_operator\": 328.0, \"total_trips\": 17, \"percentage_of_trips\": 5.182926829268292}, {\"_gtfs_dataset_name\": \"Visalia VehiclePositions\", \"rounded_rt_data_proportion_percentage\": 80, \"rt_trip_counts_by_operator\": 328.0, \"total_trips\": 29, \"percentage_of_trips\": 8.841463414634147}, {\"_gtfs_dataset_name\": \"Visalia VehiclePositions\", \"rounded_rt_data_proportion_percentage\": 90, \"rt_trip_counts_by_operator\": 328.0, \"total_trips\": 39, \"percentage_of_trips\": 11.890243902439025}, {\"_gtfs_dataset_name\": \"Visalia VehiclePositions\", \"rounded_rt_data_proportion_percentage\": 100, \"rt_trip_counts_by_operator\": 328.0, \"total_trips\": 213, \"percentage_of_trips\": 64.9390243902439}, {\"_gtfs_dataset_name\": \"WeHo Vehicle Positions\", \"rounded_rt_data_proportion_percentage\": 50, \"rt_trip_counts_by_operator\": 30.0, \"total_trips\": 2, \"percentage_of_trips\": 6.666666666666667}, {\"_gtfs_dataset_name\": \"WeHo Vehicle Positions\", \"rounded_rt_data_proportion_percentage\": 60, \"rt_trip_counts_by_operator\": 30.0, \"total_trips\": 4, \"percentage_of_trips\": 13.333333333333334}, {\"_gtfs_dataset_name\": \"WeHo Vehicle Positions\", \"rounded_rt_data_proportion_percentage\": 70, \"rt_trip_counts_by_operator\": 30.0, \"total_trips\": 1, \"percentage_of_trips\": 3.3333333333333335}, {\"_gtfs_dataset_name\": \"WeHo Vehicle Positions\", \"rounded_rt_data_proportion_percentage\": 80, \"rt_trip_counts_by_operator\": 30.0, \"total_trips\": 1, \"percentage_of_trips\": 3.3333333333333335}, {\"_gtfs_dataset_name\": \"WeHo Vehicle Positions\", \"rounded_rt_data_proportion_percentage\": 90, \"rt_trip_counts_by_operator\": 30.0, \"total_trips\": 4, \"percentage_of_trips\": 13.333333333333334}, {\"_gtfs_dataset_name\": \"WeHo Vehicle Positions\", \"rounded_rt_data_proportion_percentage\": 100, \"rt_trip_counts_by_operator\": 30.0, \"total_trips\": 18, \"percentage_of_trips\": 60.0}]}}, {\"mode\": \"vega-lite\"});\n",
       "</script>"
      ],
      "text/plain": [
       "alt.Chart(...)"
      ]
     },
     "execution_count": 44,
     "metadata": {},
     "output_type": "execute_result"
    }
   ],
   "source": [
    "threshold_utils.chart_size(rt_scheduled_chart,500,400)"
   ]
  },
  {
   "cell_type": "code",
   "execution_count": 45,
   "id": "ac243d19-49b8-42c4-b3f7-f5cf4f9763a1",
   "metadata": {},
   "outputs": [],
   "source": [
    "rt_trip_time = (final\n",
    "                .groupby(['_gtfs_dataset_name','trip_category','rt_category'])\n",
    "                .agg({'rt_trip_counts_by_operator':'max','trip_id':'nunique'})\n",
    "                .reset_index()\n",
    "                .rename(columns = {'trip_id':'total_trips'})\n",
    "               )"
   ]
  },
  {
   "cell_type": "code",
   "execution_count": 46,
   "id": "6793fda3-3ec5-49ab-a14d-dcdc9bc65039",
   "metadata": {},
   "outputs": [],
   "source": [
    "rt_trip_time.total_trips = (rt_trip_time.total_trips).astype(int)"
   ]
  },
  {
   "cell_type": "code",
   "execution_count": 47,
   "id": "8243a0d7-3564-4c4b-9358-804222062f82",
   "metadata": {},
   "outputs": [],
   "source": [
    "rt_trip_time['percentage_of_trips'] = (rt_trip_time.total_trips).divide(rt_trip_time.rt_trip_counts_by_operator)*100"
   ]
  },
  {
   "cell_type": "code",
   "execution_count": 102,
   "id": "00d4d74d-6254-42a1-9fbf-2b15f3a8d6d6",
   "metadata": {},
   "outputs": [],
   "source": [
    "rt_trip_time_chart = (alt.Chart(rt_trip_time).mark_bar(clip = True).encode(\n",
    "    x=alt.X('trip_category', axis=alt.Axis(labelAngle=-45)),\n",
    "    y=alt.Y('percentage_of_trips', scale=alt.Scale(domain=(0, 100))),\n",
    "    color=alt.Color(\"rt_category\", scale=alt.Scale(range=cp.CALITP_CATEGORY_BRIGHT_COLORS)),\n",
    "    tooltip = rt_trip_time.columns.tolist())\n",
    "    .properties(title=\"RT Trip Duration and % of RT vs. Scheduled\")).add_selection(selection).transform_filter(selection)"
   ]
  },
  {
   "cell_type": "code",
   "execution_count": 103,
   "id": "82571474-578d-4026-ab66-374b0d869893",
   "metadata": {},
   "outputs": [
    {
     "data": {
      "text/html": [
       "\n",
       "<div id=\"altair-viz-591a47a7ad72455ca7ef4f11221ab554\"></div>\n",
       "<script type=\"text/javascript\">\n",
       "  var VEGA_DEBUG = (typeof VEGA_DEBUG == \"undefined\") ? {} : VEGA_DEBUG;\n",
       "  (function(spec, embedOpt){\n",
       "    let outputDiv = document.currentScript.previousElementSibling;\n",
       "    if (outputDiv.id !== \"altair-viz-591a47a7ad72455ca7ef4f11221ab554\") {\n",
       "      outputDiv = document.getElementById(\"altair-viz-591a47a7ad72455ca7ef4f11221ab554\");\n",
       "    }\n",
       "    const paths = {\n",
       "      \"vega\": \"https://cdn.jsdelivr.net/npm//vega@5?noext\",\n",
       "      \"vega-lib\": \"https://cdn.jsdelivr.net/npm//vega-lib?noext\",\n",
       "      \"vega-lite\": \"https://cdn.jsdelivr.net/npm//vega-lite@4.17.0?noext\",\n",
       "      \"vega-embed\": \"https://cdn.jsdelivr.net/npm//vega-embed@6?noext\",\n",
       "    };\n",
       "\n",
       "    function maybeLoadScript(lib, version) {\n",
       "      var key = `${lib.replace(\"-\", \"\")}_version`;\n",
       "      return (VEGA_DEBUG[key] == version) ?\n",
       "        Promise.resolve(paths[lib]) :\n",
       "        new Promise(function(resolve, reject) {\n",
       "          var s = document.createElement('script');\n",
       "          document.getElementsByTagName(\"head\")[0].appendChild(s);\n",
       "          s.async = true;\n",
       "          s.onload = () => {\n",
       "            VEGA_DEBUG[key] = version;\n",
       "            return resolve(paths[lib]);\n",
       "          };\n",
       "          s.onerror = () => reject(`Error loading script: ${paths[lib]}`);\n",
       "          s.src = paths[lib];\n",
       "        });\n",
       "    }\n",
       "\n",
       "    function showError(err) {\n",
       "      outputDiv.innerHTML = `<div class=\"error\" style=\"color:red;\">${err}</div>`;\n",
       "      throw err;\n",
       "    }\n",
       "\n",
       "    function displayChart(vegaEmbed) {\n",
       "      vegaEmbed(outputDiv, spec, embedOpt)\n",
       "        .catch(err => showError(`Javascript Error: ${err.message}<br>This usually means there's a typo in your chart specification. See the javascript console for the full traceback.`));\n",
       "    }\n",
       "\n",
       "    if(typeof define === \"function\" && define.amd) {\n",
       "      requirejs.config({paths});\n",
       "      require([\"vega-embed\"], displayChart, err => showError(`Error loading script: ${err.message}`));\n",
       "    } else {\n",
       "      maybeLoadScript(\"vega\", \"5\")\n",
       "        .then(() => maybeLoadScript(\"vega-lite\", \"4.17.0\"))\n",
       "        .then(() => maybeLoadScript(\"vega-embed\", \"6\"))\n",
       "        .catch(showError)\n",
       "        .then(() => displayChart(vegaEmbed));\n",
       "    }\n",
       "  })({\"config\": {\"view\": {\"continuousWidth\": 400, \"continuousHeight\": 300}}, \"data\": {\"name\": \"data-44883a11d2d7008e758d3f28af818c15\"}, \"mark\": {\"type\": \"bar\", \"clip\": true}, \"encoding\": {\"color\": {\"field\": \"rt_category\", \"scale\": {\"range\": [\"#2EA8CE\", \"#EB9F3C\", \"#F4D837\", \"#51BF9D\", \"#8CBCCB\", \"#9487C0\"]}, \"type\": \"nominal\"}, \"tooltip\": [{\"field\": \"_gtfs_dataset_name\", \"type\": \"nominal\"}, {\"field\": \"trip_category\", \"type\": \"nominal\"}, {\"field\": \"rt_category\", \"type\": \"nominal\"}, {\"field\": \"rt_trip_counts_by_operator\", \"type\": \"quantitative\"}, {\"field\": \"total_trips\", \"type\": \"quantitative\"}, {\"field\": \"percentage_of_trips\", \"type\": \"quantitative\"}], \"x\": {\"axis\": {\"labelAngle\": -45}, \"field\": \"trip_category\", \"type\": \"nominal\"}, \"y\": {\"field\": \"percentage_of_trips\", \"scale\": {\"domain\": [0, 100]}, \"type\": \"quantitative\"}}, \"height\": 400, \"selection\": {\"selector001\": {\"type\": \"single\", \"fields\": [\"_gtfs_dataset_name\"], \"bind\": {\"input\": \"select\", \"options\": [null, \"Anaheim Resort VehiclePositions\", \"Antelope Valley Transit Authority Vehicle Positions\", \"Banning Pass Vehicle Positions\", \"Bay Area 511 AC Transit Vehicle Position\", \"Bay Area 511 Caltrain VehiclePositions\", \"Bay Area 511 County Connection VehiclePositions\", \"Bay Area 511 Dumbarton Express VehiclePositions\", \"Bay Area 511 Emery Go-Round VehiclePositions\", \"Bay Area 511 Fairfield and Suisun Transit Vehicle Positions\", \"Bay Area 511 Golden Gate Transit Vehicle Positions\", \"Bay Area 511 MVGO VehiclePositions\", \"Bay Area 511 Marin VehiclePositions\", \"Bay Area 511 Muni VehiclePositions\", \"Bay Area 511 Petaluma VehiclePositions\", \"Bay Area 511 SamTrans VehiclePositions\", \"Bay Area 511 San Francisco Bay Ferry VehiclePositions\", \"Bay Area 511 Santa Clara Transit VehiclePositions\", \"Bay Area 511 Santa Rosa CityBus VehiclePositions\", \"Bay Area 511 SolTrans VehiclePositions\", \"Bay Area 511 Sonoma County Transit Vehicle Positions\", \"Bay Area 511 Sonoma-Marin Area Rail Transit VehiclePositions\", \"Bay Area 511 Tri Delta VehiclePositions\", \"Bay Area 511 Tri-Valley Wheels VehiclePositions\", \"Bay Area 511 Union City Transit VehiclePositions\", \"Bay Area 511 Vine Transit VehiclePositions\", \"Bay Area 511 WestCAT VehiclePositions\", \"Beach Cities VehiclePositions\", \"Bear Vehicle Positions\", \"Beaumont Pass Vehicle Positions\", \"Big Blue Bus VehiclePositions\", \"BruinBus Vehicle Positions\", \"Burbank VehiclePositions\", \"Commerce VehiclePositions\", \"Eastern Sierra Vehicle Positions\", \"Elk Grove VehiclePositions\", \"Foothill Vehicle Positions\", \"Fresno Vehicle Positions\", \"GET VehiclePositions\", \"Humboldt Vehicle Positions\", \"Kings Vehicle Positions\", \"LA DOT VehiclePositions\", \"LA Metro Bus Vehicle Positions\", \"LA Metro Rail Vehicle Positions\", \"Lake Vehicle Positions\", \"Long Beach VehiclePositions\", \"Madera County Connection Vehicle Positions\", \"Montebello Vehicle Positions\", \"Monterey Salinas VehiclePositions\", \"Nevada County Vehicle Positions\", \"North County Vehicle Positions\", \"Norwalk Vehicle Positions\", \"OCTA VehiclePositions\", \"Pasadena VehiclePositions\", \"PresidiGo VehiclePositions\", \"Redding Vehicle Positions\", \"Redwood Coast Vehicle Positions\", \"Riverside VehiclePositions\", \"San Diego Vehicle Positions\", \"San Joaquin Vehicle Positions\", \"Santa Clarita VehiclePositions\", \"Santa Maria Vehicle Positions\", \"Santa Ynez Vehicle Positions\", \"StanRTA Vehicle Positions\", \"Tahoe Transportation Vehicle Positions\", \"Torrance Swiftly Vehicle Positions\", \"Torrance Vehicle Positions\", \"Turlock Vehicle Positions\", \"Unitrans Vehicle Positions\", \"VCTC Vehicle Positions\", \"Victor Valley Vehicle Position\", \"Visalia VehiclePositions\", \"WeHo Vehicle Positions\"], \"labels\": [\"All\", \"Anaheim Resort VehiclePositions\", \"Antelope Valley Transit Authority Vehicle Positions\", \"Banning Pass Vehicle Positions\", \"Bay Area 511 AC Transit Vehicle Position\", \"Bay Area 511 Caltrain VehiclePositions\", \"Bay Area 511 County Connection VehiclePositions\", \"Bay Area 511 Dumbarton Express VehiclePositions\", \"Bay Area 511 Emery Go-Round VehiclePositions\", \"Bay Area 511 Fairfield and Suisun Transit Vehicle Positions\", \"Bay Area 511 Golden Gate Transit Vehicle Positions\", \"Bay Area 511 MVGO VehiclePositions\", \"Bay Area 511 Marin VehiclePositions\", \"Bay Area 511 Muni VehiclePositions\", \"Bay Area 511 Petaluma VehiclePositions\", \"Bay Area 511 SamTrans VehiclePositions\", \"Bay Area 511 San Francisco Bay Ferry VehiclePositions\", \"Bay Area 511 Santa Clara Transit VehiclePositions\", \"Bay Area 511 Santa Rosa CityBus VehiclePositions\", \"Bay Area 511 SolTrans VehiclePositions\", \"Bay Area 511 Sonoma County Transit Vehicle Positions\", \"Bay Area 511 Sonoma-Marin Area Rail Transit VehiclePositions\", \"Bay Area 511 Tri Delta VehiclePositions\", \"Bay Area 511 Tri-Valley Wheels VehiclePositions\", \"Bay Area 511 Union City Transit VehiclePositions\", \"Bay Area 511 Vine Transit VehiclePositions\", \"Bay Area 511 WestCAT VehiclePositions\", \"Beach Cities VehiclePositions\", \"Bear Vehicle Positions\", \"Beaumont Pass Vehicle Positions\", \"Big Blue Bus VehiclePositions\", \"BruinBus Vehicle Positions\", \"Burbank VehiclePositions\", \"Commerce VehiclePositions\", \"Eastern Sierra Vehicle Positions\", \"Elk Grove VehiclePositions\", \"Foothill Vehicle Positions\", \"Fresno Vehicle Positions\", \"GET VehiclePositions\", \"Humboldt Vehicle Positions\", \"Kings Vehicle Positions\", \"LA DOT VehiclePositions\", \"LA Metro Bus Vehicle Positions\", \"LA Metro Rail Vehicle Positions\", \"Lake Vehicle Positions\", \"Long Beach VehiclePositions\", \"Madera County Connection Vehicle Positions\", \"Montebello Vehicle Positions\", \"Monterey Salinas VehiclePositions\", \"Nevada County Vehicle Positions\", \"North County Vehicle Positions\", \"Norwalk Vehicle Positions\", \"OCTA VehiclePositions\", \"Pasadena VehiclePositions\", \"PresidiGo VehiclePositions\", \"Redding Vehicle Positions\", \"Redwood Coast Vehicle Positions\", \"Riverside VehiclePositions\", \"San Diego Vehicle Positions\", \"San Joaquin Vehicle Positions\", \"Santa Clarita VehiclePositions\", \"Santa Maria Vehicle Positions\", \"Santa Ynez Vehicle Positions\", \"StanRTA Vehicle Positions\", \"Tahoe Transportation Vehicle Positions\", \"Torrance Swiftly Vehicle Positions\", \"Torrance Vehicle Positions\", \"Turlock Vehicle Positions\", \"Unitrans Vehicle Positions\", \"VCTC Vehicle Positions\", \"Victor Valley Vehicle Position\", \"Visalia VehiclePositions\", \"WeHo Vehicle Positions\"], \"name\": \"Operator\"}}}, \"title\": \"RT Trip Duration and % of RT vs. Scheduled\", \"transform\": [{\"filter\": {\"selection\": \"selector001\"}}], \"width\": 500, \"$schema\": \"https://vega.github.io/schema/vega-lite/v4.17.0.json\", \"datasets\": {\"data-44883a11d2d7008e758d3f28af818c15\": [{\"_gtfs_dataset_name\": \"Anaheim Resort VehiclePositions\", \"trip_category\": \"0 - 30 minutes\", \"rt_category\": \"0-20%\", \"rt_trip_counts_by_operator\": 336.0, \"total_trips\": 3, \"percentage_of_trips\": 0.8928571428571428}, {\"_gtfs_dataset_name\": \"Anaheim Resort VehiclePositions\", \"trip_category\": \"0 - 30 minutes\", \"rt_category\": \"21-40%\", \"rt_trip_counts_by_operator\": 336.0, \"total_trips\": 5, \"percentage_of_trips\": 1.488095238095238}, {\"_gtfs_dataset_name\": \"Anaheim Resort VehiclePositions\", \"trip_category\": \"0 - 30 minutes\", \"rt_category\": \"41-60%\", \"rt_trip_counts_by_operator\": 336.0, \"total_trips\": 4, \"percentage_of_trips\": 1.1904761904761905}, {\"_gtfs_dataset_name\": \"Anaheim Resort VehiclePositions\", \"trip_category\": \"0 - 30 minutes\", \"rt_category\": \"61-80%\", \"rt_trip_counts_by_operator\": 336.0, \"total_trips\": 2, \"percentage_of_trips\": 0.5952380952380952}, {\"_gtfs_dataset_name\": \"Anaheim Resort VehiclePositions\", \"trip_category\": \"0 - 30 minutes\", \"rt_category\": \"81-100%\", \"rt_trip_counts_by_operator\": 336.0, \"total_trips\": 184, \"percentage_of_trips\": 54.761904761904766}, {\"_gtfs_dataset_name\": \"Anaheim Resort VehiclePositions\", \"trip_category\": \"31-60 minutes\", \"rt_category\": \"81-100%\", \"rt_trip_counts_by_operator\": 336.0, \"total_trips\": 102, \"percentage_of_trips\": 30.357142857142854}, {\"_gtfs_dataset_name\": \"Anaheim Resort VehiclePositions\", \"trip_category\": \"61-90 minutes\", \"rt_category\": \"81-100%\", \"rt_trip_counts_by_operator\": 336.0, \"total_trips\": 22, \"percentage_of_trips\": 6.547619047619048}, {\"_gtfs_dataset_name\": \"Anaheim Resort VehiclePositions\", \"trip_category\": \"90 + minutes\", \"rt_category\": \"81-100%\", \"rt_trip_counts_by_operator\": 336.0, \"total_trips\": 14, \"percentage_of_trips\": 4.166666666666666}, {\"_gtfs_dataset_name\": \"Antelope Valley Transit Authority Vehicle Positions\", \"trip_category\": \"0 - 30 minutes\", \"rt_category\": \"0-20%\", \"rt_trip_counts_by_operator\": 412.0, \"total_trips\": 1, \"percentage_of_trips\": 0.24271844660194172}, {\"_gtfs_dataset_name\": \"Antelope Valley Transit Authority Vehicle Positions\", \"trip_category\": \"0 - 30 minutes\", \"rt_category\": \"21-40%\", \"rt_trip_counts_by_operator\": 412.0, \"total_trips\": 3, \"percentage_of_trips\": 0.7281553398058253}, {\"_gtfs_dataset_name\": \"Antelope Valley Transit Authority Vehicle Positions\", \"trip_category\": \"0 - 30 minutes\", \"rt_category\": \"41-60%\", \"rt_trip_counts_by_operator\": 412.0, \"total_trips\": 7, \"percentage_of_trips\": 1.6990291262135921}, {\"_gtfs_dataset_name\": \"Antelope Valley Transit Authority Vehicle Positions\", \"trip_category\": \"0 - 30 minutes\", \"rt_category\": \"61-80%\", \"rt_trip_counts_by_operator\": 412.0, \"total_trips\": 2, \"percentage_of_trips\": 0.48543689320388345}, {\"_gtfs_dataset_name\": \"Antelope Valley Transit Authority Vehicle Positions\", \"trip_category\": \"0 - 30 minutes\", \"rt_category\": \"81-100%\", \"rt_trip_counts_by_operator\": 412.0, \"total_trips\": 24, \"percentage_of_trips\": 5.825242718446602}, {\"_gtfs_dataset_name\": \"Antelope Valley Transit Authority Vehicle Positions\", \"trip_category\": \"31-60 minutes\", \"rt_category\": \"61-80%\", \"rt_trip_counts_by_operator\": 412.0, \"total_trips\": 9, \"percentage_of_trips\": 2.1844660194174756}, {\"_gtfs_dataset_name\": \"Antelope Valley Transit Authority Vehicle Positions\", \"trip_category\": \"31-60 minutes\", \"rt_category\": \"81-100%\", \"rt_trip_counts_by_operator\": 412.0, \"total_trips\": 195, \"percentage_of_trips\": 47.33009708737864}, {\"_gtfs_dataset_name\": \"Antelope Valley Transit Authority Vehicle Positions\", \"trip_category\": \"61-90 minutes\", \"rt_category\": \"81-100%\", \"rt_trip_counts_by_operator\": 412.0, \"total_trips\": 152, \"percentage_of_trips\": 36.89320388349515}, {\"_gtfs_dataset_name\": \"Antelope Valley Transit Authority Vehicle Positions\", \"trip_category\": \"90 + minutes\", \"rt_category\": \"61-80%\", \"rt_trip_counts_by_operator\": 412.0, \"total_trips\": 2, \"percentage_of_trips\": 0.48543689320388345}, {\"_gtfs_dataset_name\": \"Antelope Valley Transit Authority Vehicle Positions\", \"trip_category\": \"90 + minutes\", \"rt_category\": \"81-100%\", \"rt_trip_counts_by_operator\": 412.0, \"total_trips\": 17, \"percentage_of_trips\": 4.12621359223301}, {\"_gtfs_dataset_name\": \"Banning Pass Vehicle Positions\", \"trip_category\": \"0 - 30 minutes\", \"rt_category\": \"21-40%\", \"rt_trip_counts_by_operator\": 40.0, \"total_trips\": 2, \"percentage_of_trips\": 5.0}, {\"_gtfs_dataset_name\": \"Banning Pass Vehicle Positions\", \"trip_category\": \"0 - 30 minutes\", \"rt_category\": \"41-60%\", \"rt_trip_counts_by_operator\": 40.0, \"total_trips\": 2, \"percentage_of_trips\": 5.0}, {\"_gtfs_dataset_name\": \"Banning Pass Vehicle Positions\", \"trip_category\": \"0 - 30 minutes\", \"rt_category\": \"81-100%\", \"rt_trip_counts_by_operator\": 40.0, \"total_trips\": 1, \"percentage_of_trips\": 2.5}, {\"_gtfs_dataset_name\": \"Banning Pass Vehicle Positions\", \"trip_category\": \"31-60 minutes\", \"rt_category\": \"41-60%\", \"rt_trip_counts_by_operator\": 40.0, \"total_trips\": 3, \"percentage_of_trips\": 7.5}, {\"_gtfs_dataset_name\": \"Banning Pass Vehicle Positions\", \"trip_category\": \"31-60 minutes\", \"rt_category\": \"61-80%\", \"rt_trip_counts_by_operator\": 40.0, \"total_trips\": 3, \"percentage_of_trips\": 7.5}, {\"_gtfs_dataset_name\": \"Banning Pass Vehicle Positions\", \"trip_category\": \"31-60 minutes\", \"rt_category\": \"81-100%\", \"rt_trip_counts_by_operator\": 40.0, \"total_trips\": 12, \"percentage_of_trips\": 30.0}, {\"_gtfs_dataset_name\": \"Banning Pass Vehicle Positions\", \"trip_category\": \"61-90 minutes\", \"rt_category\": \"61-80%\", \"rt_trip_counts_by_operator\": 40.0, \"total_trips\": 4, \"percentage_of_trips\": 10.0}, {\"_gtfs_dataset_name\": \"Banning Pass Vehicle Positions\", \"trip_category\": \"61-90 minutes\", \"rt_category\": \"81-100%\", \"rt_trip_counts_by_operator\": 40.0, \"total_trips\": 1, \"percentage_of_trips\": 2.5}, {\"_gtfs_dataset_name\": \"Banning Pass Vehicle Positions\", \"trip_category\": \"90 + minutes\", \"rt_category\": \"61-80%\", \"rt_trip_counts_by_operator\": 40.0, \"total_trips\": 5, \"percentage_of_trips\": 12.5}, {\"_gtfs_dataset_name\": \"Banning Pass Vehicle Positions\", \"trip_category\": \"90 + minutes\", \"rt_category\": \"81-100%\", \"rt_trip_counts_by_operator\": 40.0, \"total_trips\": 7, \"percentage_of_trips\": 17.5}, {\"_gtfs_dataset_name\": \"Bay Area 511 AC Transit Vehicle Position\", \"trip_category\": \"0 - 30 minutes\", \"rt_category\": \"0-20%\", \"rt_trip_counts_by_operator\": 4068.0, \"total_trips\": 5, \"percentage_of_trips\": 0.12291052114060963}, {\"_gtfs_dataset_name\": \"Bay Area 511 AC Transit Vehicle Position\", \"trip_category\": \"0 - 30 minutes\", \"rt_category\": \"21-40%\", \"rt_trip_counts_by_operator\": 4068.0, \"total_trips\": 9, \"percentage_of_trips\": 0.22123893805309736}, {\"_gtfs_dataset_name\": \"Bay Area 511 AC Transit Vehicle Position\", \"trip_category\": \"0 - 30 minutes\", \"rt_category\": \"41-60%\", \"rt_trip_counts_by_operator\": 4068.0, \"total_trips\": 15, \"percentage_of_trips\": 0.3687315634218289}, {\"_gtfs_dataset_name\": \"Bay Area 511 AC Transit Vehicle Position\", \"trip_category\": \"0 - 30 minutes\", \"rt_category\": \"61-80%\", \"rt_trip_counts_by_operator\": 4068.0, \"total_trips\": 32, \"percentage_of_trips\": 0.7866273352999017}, {\"_gtfs_dataset_name\": \"Bay Area 511 AC Transit Vehicle Position\", \"trip_category\": \"0 - 30 minutes\", \"rt_category\": \"81-100%\", \"rt_trip_counts_by_operator\": 4068.0, \"total_trips\": 402, \"percentage_of_trips\": 9.882005899705016}, {\"_gtfs_dataset_name\": \"Bay Area 511 AC Transit Vehicle Position\", \"trip_category\": \"31-60 minutes\", \"rt_category\": \"0-20%\", \"rt_trip_counts_by_operator\": 4068.0, \"total_trips\": 1, \"percentage_of_trips\": 0.024582104228121928}, {\"_gtfs_dataset_name\": \"Bay Area 511 AC Transit Vehicle Position\", \"trip_category\": \"31-60 minutes\", \"rt_category\": \"41-60%\", \"rt_trip_counts_by_operator\": 4068.0, \"total_trips\": 3, \"percentage_of_trips\": 0.07374631268436578}, {\"_gtfs_dataset_name\": \"Bay Area 511 AC Transit Vehicle Position\", \"trip_category\": \"31-60 minutes\", \"rt_category\": \"61-80%\", \"rt_trip_counts_by_operator\": 4068.0, \"total_trips\": 9, \"percentage_of_trips\": 0.22123893805309736}, {\"_gtfs_dataset_name\": \"Bay Area 511 AC Transit Vehicle Position\", \"trip_category\": \"31-60 minutes\", \"rt_category\": \"81-100%\", \"rt_trip_counts_by_operator\": 4068.0, \"total_trips\": 1969, \"percentage_of_trips\": 48.402163225172075}, {\"_gtfs_dataset_name\": \"Bay Area 511 AC Transit Vehicle Position\", \"trip_category\": \"61-90 minutes\", \"rt_category\": \"61-80%\", \"rt_trip_counts_by_operator\": 4068.0, \"total_trips\": 1, \"percentage_of_trips\": 0.024582104228121928}, {\"_gtfs_dataset_name\": \"Bay Area 511 AC Transit Vehicle Position\", \"trip_category\": \"61-90 minutes\", \"rt_category\": \"81-100%\", \"rt_trip_counts_by_operator\": 4068.0, \"total_trips\": 1446, \"percentage_of_trips\": 35.54572271386431}, {\"_gtfs_dataset_name\": \"Bay Area 511 AC Transit Vehicle Position\", \"trip_category\": \"90 + minutes\", \"rt_category\": \"21-40%\", \"rt_trip_counts_by_operator\": 4068.0, \"total_trips\": 1, \"percentage_of_trips\": 0.024582104228121928}, {\"_gtfs_dataset_name\": \"Bay Area 511 AC Transit Vehicle Position\", \"trip_category\": \"90 + minutes\", \"rt_category\": \"61-80%\", \"rt_trip_counts_by_operator\": 4068.0, \"total_trips\": 2, \"percentage_of_trips\": 0.049164208456243856}, {\"_gtfs_dataset_name\": \"Bay Area 511 AC Transit Vehicle Position\", \"trip_category\": \"90 + minutes\", \"rt_category\": \"81-100%\", \"rt_trip_counts_by_operator\": 4068.0, \"total_trips\": 173, \"percentage_of_trips\": 4.252704031465093}, {\"_gtfs_dataset_name\": \"Bay Area 511 Caltrain VehiclePositions\", \"trip_category\": \"0 - 30 minutes\", \"rt_category\": \"21-40%\", \"rt_trip_counts_by_operator\": 52.0, \"total_trips\": 1, \"percentage_of_trips\": 1.9230769230769231}, {\"_gtfs_dataset_name\": \"Bay Area 511 Caltrain VehiclePositions\", \"trip_category\": \"31-60 minutes\", \"rt_category\": \"41-60%\", \"rt_trip_counts_by_operator\": 52.0, \"total_trips\": 1, \"percentage_of_trips\": 1.9230769230769231}, {\"_gtfs_dataset_name\": \"Bay Area 511 Caltrain VehiclePositions\", \"trip_category\": \"31-60 minutes\", \"rt_category\": \"81-100%\", \"rt_trip_counts_by_operator\": 52.0, \"total_trips\": 2, \"percentage_of_trips\": 3.8461538461538463}, {\"_gtfs_dataset_name\": \"Bay Area 511 Caltrain VehiclePositions\", \"trip_category\": \"61-90 minutes\", \"rt_category\": \"81-100%\", \"rt_trip_counts_by_operator\": 52.0, \"total_trips\": 11, \"percentage_of_trips\": 21.153846153846153}, {\"_gtfs_dataset_name\": \"Bay Area 511 Caltrain VehiclePositions\", \"trip_category\": \"90 + minutes\", \"rt_category\": \"81-100%\", \"rt_trip_counts_by_operator\": 52.0, \"total_trips\": 37, \"percentage_of_trips\": 71.15384615384616}, {\"_gtfs_dataset_name\": \"Bay Area 511 County Connection VehiclePositions\", \"trip_category\": \"0 - 30 minutes\", \"rt_category\": \"0-20%\", \"rt_trip_counts_by_operator\": 777.0, \"total_trips\": 3, \"percentage_of_trips\": 0.3861003861003861}, {\"_gtfs_dataset_name\": \"Bay Area 511 County Connection VehiclePositions\", \"trip_category\": \"0 - 30 minutes\", \"rt_category\": \"21-40%\", \"rt_trip_counts_by_operator\": 777.0, \"total_trips\": 5, \"percentage_of_trips\": 0.6435006435006435}, {\"_gtfs_dataset_name\": \"Bay Area 511 County Connection VehiclePositions\", \"trip_category\": \"0 - 30 minutes\", \"rt_category\": \"41-60%\", \"rt_trip_counts_by_operator\": 777.0, \"total_trips\": 7, \"percentage_of_trips\": 0.9009009009009009}, {\"_gtfs_dataset_name\": \"Bay Area 511 County Connection VehiclePositions\", \"trip_category\": \"0 - 30 minutes\", \"rt_category\": \"61-80%\", \"rt_trip_counts_by_operator\": 777.0, \"total_trips\": 8, \"percentage_of_trips\": 1.0296010296010296}, {\"_gtfs_dataset_name\": \"Bay Area 511 County Connection VehiclePositions\", \"trip_category\": \"0 - 30 minutes\", \"rt_category\": \"81-100%\", \"rt_trip_counts_by_operator\": 777.0, \"total_trips\": 213, \"percentage_of_trips\": 27.413127413127413}, {\"_gtfs_dataset_name\": \"Bay Area 511 County Connection VehiclePositions\", \"trip_category\": \"31-60 minutes\", \"rt_category\": \"61-80%\", \"rt_trip_counts_by_operator\": 777.0, \"total_trips\": 3, \"percentage_of_trips\": 0.3861003861003861}, {\"_gtfs_dataset_name\": \"Bay Area 511 County Connection VehiclePositions\", \"trip_category\": \"31-60 minutes\", \"rt_category\": \"81-100%\", \"rt_trip_counts_by_operator\": 777.0, \"total_trips\": 406, \"percentage_of_trips\": 52.25225225225225}, {\"_gtfs_dataset_name\": \"Bay Area 511 County Connection VehiclePositions\", \"trip_category\": \"61-90 minutes\", \"rt_category\": \"81-100%\", \"rt_trip_counts_by_operator\": 777.0, \"total_trips\": 114, \"percentage_of_trips\": 14.671814671814673}, {\"_gtfs_dataset_name\": \"Bay Area 511 County Connection VehiclePositions\", \"trip_category\": \"90 + minutes\", \"rt_category\": \"81-100%\", \"rt_trip_counts_by_operator\": 777.0, \"total_trips\": 18, \"percentage_of_trips\": 2.3166023166023164}, {\"_gtfs_dataset_name\": \"Bay Area 511 Dumbarton Express VehiclePositions\", \"trip_category\": \"0 - 30 minutes\", \"rt_category\": \"61-80%\", \"rt_trip_counts_by_operator\": 40.0, \"total_trips\": 2, \"percentage_of_trips\": 5.0}, {\"_gtfs_dataset_name\": \"Bay Area 511 Dumbarton Express VehiclePositions\", \"trip_category\": \"31-60 minutes\", \"rt_category\": \"61-80%\", \"rt_trip_counts_by_operator\": 40.0, \"total_trips\": 1, \"percentage_of_trips\": 2.5}, {\"_gtfs_dataset_name\": \"Bay Area 511 Dumbarton Express VehiclePositions\", \"trip_category\": \"31-60 minutes\", \"rt_category\": \"81-100%\", \"rt_trip_counts_by_operator\": 40.0, \"total_trips\": 15, \"percentage_of_trips\": 37.5}, {\"_gtfs_dataset_name\": \"Bay Area 511 Dumbarton Express VehiclePositions\", \"trip_category\": \"61-90 minutes\", \"rt_category\": \"81-100%\", \"rt_trip_counts_by_operator\": 40.0, \"total_trips\": 16, \"percentage_of_trips\": 40.0}, {\"_gtfs_dataset_name\": \"Bay Area 511 Dumbarton Express VehiclePositions\", \"trip_category\": \"90 + minutes\", \"rt_category\": \"81-100%\", \"rt_trip_counts_by_operator\": 40.0, \"total_trips\": 6, \"percentage_of_trips\": 15.0}, {\"_gtfs_dataset_name\": \"Bay Area 511 Emery Go-Round VehiclePositions\", \"trip_category\": \"0 - 30 minutes\", \"rt_category\": \"61-80%\", \"rt_trip_counts_by_operator\": 109.0, \"total_trips\": 2, \"percentage_of_trips\": 1.834862385321101}, {\"_gtfs_dataset_name\": \"Bay Area 511 Emery Go-Round VehiclePositions\", \"trip_category\": \"31-60 minutes\", \"rt_category\": \"81-100%\", \"rt_trip_counts_by_operator\": 109.0, \"total_trips\": 78, \"percentage_of_trips\": 71.55963302752293}, {\"_gtfs_dataset_name\": \"Bay Area 511 Emery Go-Round VehiclePositions\", \"trip_category\": \"61-90 minutes\", \"rt_category\": \"81-100%\", \"rt_trip_counts_by_operator\": 109.0, \"total_trips\": 18, \"percentage_of_trips\": 16.51376146788991}, {\"_gtfs_dataset_name\": \"Bay Area 511 Emery Go-Round VehiclePositions\", \"trip_category\": \"90 + minutes\", \"rt_category\": \"81-100%\", \"rt_trip_counts_by_operator\": 109.0, \"total_trips\": 11, \"percentage_of_trips\": 10.091743119266056}, {\"_gtfs_dataset_name\": \"Bay Area 511 Fairfield and Suisun Transit Vehicle Positions\", \"trip_category\": \"0 - 30 minutes\", \"rt_category\": \"41-60%\", \"rt_trip_counts_by_operator\": 258.0, \"total_trips\": 1, \"percentage_of_trips\": 0.3875968992248062}, {\"_gtfs_dataset_name\": \"Bay Area 511 Fairfield and Suisun Transit Vehicle Positions\", \"trip_category\": \"0 - 30 minutes\", \"rt_category\": \"61-80%\", \"rt_trip_counts_by_operator\": 258.0, \"total_trips\": 7, \"percentage_of_trips\": 2.7131782945736433}, {\"_gtfs_dataset_name\": \"Bay Area 511 Fairfield and Suisun Transit Vehicle Positions\", \"trip_category\": \"0 - 30 minutes\", \"rt_category\": \"81-100%\", \"rt_trip_counts_by_operator\": 258.0, \"total_trips\": 136, \"percentage_of_trips\": 52.71317829457365}, {\"_gtfs_dataset_name\": \"Bay Area 511 Fairfield and Suisun Transit Vehicle Positions\", \"trip_category\": \"31-60 minutes\", \"rt_category\": \"81-100%\", \"rt_trip_counts_by_operator\": 258.0, \"total_trips\": 98, \"percentage_of_trips\": 37.98449612403101}, {\"_gtfs_dataset_name\": \"Bay Area 511 Fairfield and Suisun Transit Vehicle Positions\", \"trip_category\": \"90 + minutes\", \"rt_category\": \"81-100%\", \"rt_trip_counts_by_operator\": 258.0, \"total_trips\": 16, \"percentage_of_trips\": 6.2015503875969}, {\"_gtfs_dataset_name\": \"Bay Area 511 Golden Gate Transit Vehicle Positions\", \"trip_category\": \"0 - 30 minutes\", \"rt_category\": \"61-80%\", \"rt_trip_counts_by_operator\": 148.0, \"total_trips\": 1, \"percentage_of_trips\": 0.6756756756756757}, {\"_gtfs_dataset_name\": \"Bay Area 511 Golden Gate Transit Vehicle Positions\", \"trip_category\": \"31-60 minutes\", \"rt_category\": \"61-80%\", \"rt_trip_counts_by_operator\": 148.0, \"total_trips\": 2, \"percentage_of_trips\": 1.3513513513513513}, {\"_gtfs_dataset_name\": \"Bay Area 511 Golden Gate Transit Vehicle Positions\", \"trip_category\": \"31-60 minutes\", \"rt_category\": \"81-100%\", \"rt_trip_counts_by_operator\": 148.0, \"total_trips\": 38, \"percentage_of_trips\": 25.675675675675674}, {\"_gtfs_dataset_name\": \"Bay Area 511 Golden Gate Transit Vehicle Positions\", \"trip_category\": \"61-90 minutes\", \"rt_category\": \"61-80%\", \"rt_trip_counts_by_operator\": 148.0, \"total_trips\": 1, \"percentage_of_trips\": 0.6756756756756757}, {\"_gtfs_dataset_name\": \"Bay Area 511 Golden Gate Transit Vehicle Positions\", \"trip_category\": \"61-90 minutes\", \"rt_category\": \"81-100%\", \"rt_trip_counts_by_operator\": 148.0, \"total_trips\": 64, \"percentage_of_trips\": 43.24324324324324}, {\"_gtfs_dataset_name\": \"Bay Area 511 Golden Gate Transit Vehicle Positions\", \"trip_category\": \"90 + minutes\", \"rt_category\": \"81-100%\", \"rt_trip_counts_by_operator\": 148.0, \"total_trips\": 42, \"percentage_of_trips\": 28.37837837837838}, {\"_gtfs_dataset_name\": \"Bay Area 511 MVGO VehiclePositions\", \"trip_category\": \"0 - 30 minutes\", \"rt_category\": \"81-100%\", \"rt_trip_counts_by_operator\": 78.0, \"total_trips\": 4, \"percentage_of_trips\": 5.128205128205128}, {\"_gtfs_dataset_name\": \"Bay Area 511 MVGO VehiclePositions\", \"trip_category\": \"31-60 minutes\", \"rt_category\": \"81-100%\", \"rt_trip_counts_by_operator\": 78.0, \"total_trips\": 59, \"percentage_of_trips\": 75.64102564102564}, {\"_gtfs_dataset_name\": \"Bay Area 511 MVGO VehiclePositions\", \"trip_category\": \"61-90 minutes\", \"rt_category\": \"81-100%\", \"rt_trip_counts_by_operator\": 78.0, \"total_trips\": 7, \"percentage_of_trips\": 8.974358974358974}, {\"_gtfs_dataset_name\": \"Bay Area 511 MVGO VehiclePositions\", \"trip_category\": \"90 + minutes\", \"rt_category\": \"81-100%\", \"rt_trip_counts_by_operator\": 78.0, \"total_trips\": 8, \"percentage_of_trips\": 10.256410256410255}, {\"_gtfs_dataset_name\": \"Bay Area 511 Marin VehiclePositions\", \"trip_category\": \"0 - 30 minutes\", \"rt_category\": \"0-20%\", \"rt_trip_counts_by_operator\": 544.0, \"total_trips\": 5, \"percentage_of_trips\": 0.9191176470588236}, {\"_gtfs_dataset_name\": \"Bay Area 511 Marin VehiclePositions\", \"trip_category\": \"0 - 30 minutes\", \"rt_category\": \"41-60%\", \"rt_trip_counts_by_operator\": 544.0, \"total_trips\": 7, \"percentage_of_trips\": 1.2867647058823528}, {\"_gtfs_dataset_name\": \"Bay Area 511 Marin VehiclePositions\", \"trip_category\": \"0 - 30 minutes\", \"rt_category\": \"61-80%\", \"rt_trip_counts_by_operator\": 544.0, \"total_trips\": 15, \"percentage_of_trips\": 2.7573529411764706}, {\"_gtfs_dataset_name\": \"Bay Area 511 Marin VehiclePositions\", \"trip_category\": \"0 - 30 minutes\", \"rt_category\": \"81-100%\", \"rt_trip_counts_by_operator\": 544.0, \"total_trips\": 102, \"percentage_of_trips\": 18.75}, {\"_gtfs_dataset_name\": \"Bay Area 511 Marin VehiclePositions\", \"trip_category\": \"31-60 minutes\", \"rt_category\": \"0-20%\", \"rt_trip_counts_by_operator\": 544.0, \"total_trips\": 1, \"percentage_of_trips\": 0.1838235294117647}, {\"_gtfs_dataset_name\": \"Bay Area 511 Marin VehiclePositions\", \"trip_category\": \"31-60 minutes\", \"rt_category\": \"41-60%\", \"rt_trip_counts_by_operator\": 544.0, \"total_trips\": 1, \"percentage_of_trips\": 0.1838235294117647}, {\"_gtfs_dataset_name\": \"Bay Area 511 Marin VehiclePositions\", \"trip_category\": \"31-60 minutes\", \"rt_category\": \"61-80%\", \"rt_trip_counts_by_operator\": 544.0, \"total_trips\": 5, \"percentage_of_trips\": 0.9191176470588236}, {\"_gtfs_dataset_name\": \"Bay Area 511 Marin VehiclePositions\", \"trip_category\": \"31-60 minutes\", \"rt_category\": \"81-100%\", \"rt_trip_counts_by_operator\": 544.0, \"total_trips\": 252, \"percentage_of_trips\": 46.32352941176471}, {\"_gtfs_dataset_name\": \"Bay Area 511 Marin VehiclePositions\", \"trip_category\": \"61-90 minutes\", \"rt_category\": \"81-100%\", \"rt_trip_counts_by_operator\": 544.0, \"total_trips\": 117, \"percentage_of_trips\": 21.50735294117647}, {\"_gtfs_dataset_name\": \"Bay Area 511 Marin VehiclePositions\", \"trip_category\": \"90 + minutes\", \"rt_category\": \"81-100%\", \"rt_trip_counts_by_operator\": 544.0, \"total_trips\": 39, \"percentage_of_trips\": 7.169117647058823}, {\"_gtfs_dataset_name\": \"Bay Area 511 Muni VehiclePositions\", \"trip_category\": \"0 - 30 minutes\", \"rt_category\": \"0-20%\", \"rt_trip_counts_by_operator\": 6919.0, \"total_trips\": 25, \"percentage_of_trips\": 0.36132389073565546}, {\"_gtfs_dataset_name\": \"Bay Area 511 Muni VehiclePositions\", \"trip_category\": \"0 - 30 minutes\", \"rt_category\": \"21-40%\", \"rt_trip_counts_by_operator\": 6919.0, \"total_trips\": 23, \"percentage_of_trips\": 0.332417979476803}, {\"_gtfs_dataset_name\": \"Bay Area 511 Muni VehiclePositions\", \"trip_category\": \"0 - 30 minutes\", \"rt_category\": \"41-60%\", \"rt_trip_counts_by_operator\": 6919.0, \"total_trips\": 32, \"percentage_of_trips\": 0.462494580141639}, {\"_gtfs_dataset_name\": \"Bay Area 511 Muni VehiclePositions\", \"trip_category\": \"0 - 30 minutes\", \"rt_category\": \"61-80%\", \"rt_trip_counts_by_operator\": 6919.0, \"total_trips\": 42, \"percentage_of_trips\": 0.6070241364359011}, {\"_gtfs_dataset_name\": \"Bay Area 511 Muni VehiclePositions\", \"trip_category\": \"0 - 30 minutes\", \"rt_category\": \"81-100%\", \"rt_trip_counts_by_operator\": 6919.0, \"total_trips\": 965, \"percentage_of_trips\": 13.947102182396302}, {\"_gtfs_dataset_name\": \"Bay Area 511 Muni VehiclePositions\", \"trip_category\": \"31-60 minutes\", \"rt_category\": \"0-20%\", \"rt_trip_counts_by_operator\": 6919.0, \"total_trips\": 1, \"percentage_of_trips\": 0.01445295562942622}, {\"_gtfs_dataset_name\": \"Bay Area 511 Muni VehiclePositions\", \"trip_category\": \"31-60 minutes\", \"rt_category\": \"21-40%\", \"rt_trip_counts_by_operator\": 6919.0, \"total_trips\": 2, \"percentage_of_trips\": 0.02890591125885244}, {\"_gtfs_dataset_name\": \"Bay Area 511 Muni VehiclePositions\", \"trip_category\": \"31-60 minutes\", \"rt_category\": \"41-60%\", \"rt_trip_counts_by_operator\": 6919.0, \"total_trips\": 10, \"percentage_of_trips\": 0.14452955629426217}, {\"_gtfs_dataset_name\": \"Bay Area 511 Muni VehiclePositions\", \"trip_category\": \"31-60 minutes\", \"rt_category\": \"61-80%\", \"rt_trip_counts_by_operator\": 6919.0, \"total_trips\": 27, \"percentage_of_trips\": 0.39022980199450785}, {\"_gtfs_dataset_name\": \"Bay Area 511 Muni VehiclePositions\", \"trip_category\": \"31-60 minutes\", \"rt_category\": \"81-100%\", \"rt_trip_counts_by_operator\": 6919.0, \"total_trips\": 2632, \"percentage_of_trips\": 38.040179216649804}, {\"_gtfs_dataset_name\": \"Bay Area 511 Muni VehiclePositions\", \"trip_category\": \"61-90 minutes\", \"rt_category\": \"21-40%\", \"rt_trip_counts_by_operator\": 6919.0, \"total_trips\": 2, \"percentage_of_trips\": 0.02890591125885244}, {\"_gtfs_dataset_name\": \"Bay Area 511 Muni VehiclePositions\", \"trip_category\": \"61-90 minutes\", \"rt_category\": \"41-60%\", \"rt_trip_counts_by_operator\": 6919.0, \"total_trips\": 3, \"percentage_of_trips\": 0.04335886688827865}, {\"_gtfs_dataset_name\": \"Bay Area 511 Muni VehiclePositions\", \"trip_category\": \"61-90 minutes\", \"rt_category\": \"61-80%\", \"rt_trip_counts_by_operator\": 6919.0, \"total_trips\": 2, \"percentage_of_trips\": 0.02890591125885244}, {\"_gtfs_dataset_name\": \"Bay Area 511 Muni VehiclePositions\", \"trip_category\": \"61-90 minutes\", \"rt_category\": \"81-100%\", \"rt_trip_counts_by_operator\": 6919.0, \"total_trips\": 2763, \"percentage_of_trips\": 39.933516404104644}, {\"_gtfs_dataset_name\": \"Bay Area 511 Muni VehiclePositions\", \"trip_category\": \"90 + minutes\", \"rt_category\": \"0-20%\", \"rt_trip_counts_by_operator\": 6919.0, \"total_trips\": 1, \"percentage_of_trips\": 0.01445295562942622}, {\"_gtfs_dataset_name\": \"Bay Area 511 Muni VehiclePositions\", \"trip_category\": \"90 + minutes\", \"rt_category\": \"21-40%\", \"rt_trip_counts_by_operator\": 6919.0, \"total_trips\": 1, \"percentage_of_trips\": 0.01445295562942622}, {\"_gtfs_dataset_name\": \"Bay Area 511 Muni VehiclePositions\", \"trip_category\": \"90 + minutes\", \"rt_category\": \"41-60%\", \"rt_trip_counts_by_operator\": 6919.0, \"total_trips\": 2, \"percentage_of_trips\": 0.02890591125885244}, {\"_gtfs_dataset_name\": \"Bay Area 511 Muni VehiclePositions\", \"trip_category\": \"90 + minutes\", \"rt_category\": \"61-80%\", \"rt_trip_counts_by_operator\": 6919.0, \"total_trips\": 2, \"percentage_of_trips\": 0.02890591125885244}, {\"_gtfs_dataset_name\": \"Bay Area 511 Muni VehiclePositions\", \"trip_category\": \"90 + minutes\", \"rt_category\": \"81-100%\", \"rt_trip_counts_by_operator\": 6919.0, \"total_trips\": 384, \"percentage_of_trips\": 5.549934961699667}, {\"_gtfs_dataset_name\": \"Bay Area 511 Petaluma VehiclePositions\", \"trip_category\": \"0 - 30 minutes\", \"rt_category\": \"21-40%\", \"rt_trip_counts_by_operator\": 120.0, \"total_trips\": 1, \"percentage_of_trips\": 0.8333333333333334}, {\"_gtfs_dataset_name\": \"Bay Area 511 Petaluma VehiclePositions\", \"trip_category\": \"0 - 30 minutes\", \"rt_category\": \"41-60%\", \"rt_trip_counts_by_operator\": 120.0, \"total_trips\": 3, \"percentage_of_trips\": 2.5}, {\"_gtfs_dataset_name\": \"Bay Area 511 Petaluma VehiclePositions\", \"trip_category\": \"0 - 30 minutes\", \"rt_category\": \"61-80%\", \"rt_trip_counts_by_operator\": 120.0, \"total_trips\": 3, \"percentage_of_trips\": 2.5}, {\"_gtfs_dataset_name\": \"Bay Area 511 Petaluma VehiclePositions\", \"trip_category\": \"0 - 30 minutes\", \"rt_category\": \"81-100%\", \"rt_trip_counts_by_operator\": 120.0, \"total_trips\": 90, \"percentage_of_trips\": 75.0}, {\"_gtfs_dataset_name\": \"Bay Area 511 Petaluma VehiclePositions\", \"trip_category\": \"31-60 minutes\", \"rt_category\": \"0-20%\", \"rt_trip_counts_by_operator\": 120.0, \"total_trips\": 1, \"percentage_of_trips\": 0.8333333333333334}, {\"_gtfs_dataset_name\": \"Bay Area 511 Petaluma VehiclePositions\", \"trip_category\": \"31-60 minutes\", \"rt_category\": \"81-100%\", \"rt_trip_counts_by_operator\": 120.0, \"total_trips\": 20, \"percentage_of_trips\": 16.666666666666664}, {\"_gtfs_dataset_name\": \"Bay Area 511 Petaluma VehiclePositions\", \"trip_category\": \"90 + minutes\", \"rt_category\": \"81-100%\", \"rt_trip_counts_by_operator\": 120.0, \"total_trips\": 2, \"percentage_of_trips\": 1.6666666666666667}, {\"_gtfs_dataset_name\": \"Bay Area 511 SamTrans VehiclePositions\", \"trip_category\": \"0 - 30 minutes\", \"rt_category\": \"0-20%\", \"rt_trip_counts_by_operator\": 1129.0, \"total_trips\": 7, \"percentage_of_trips\": 0.6200177147918512}, {\"_gtfs_dataset_name\": \"Bay Area 511 SamTrans VehiclePositions\", \"trip_category\": \"0 - 30 minutes\", \"rt_category\": \"21-40%\", \"rt_trip_counts_by_operator\": 1129.0, \"total_trips\": 4, \"percentage_of_trips\": 0.354295837023915}, {\"_gtfs_dataset_name\": \"Bay Area 511 SamTrans VehiclePositions\", \"trip_category\": \"0 - 30 minutes\", \"rt_category\": \"41-60%\", \"rt_trip_counts_by_operator\": 1129.0, \"total_trips\": 3, \"percentage_of_trips\": 0.2657218777679362}, {\"_gtfs_dataset_name\": \"Bay Area 511 SamTrans VehiclePositions\", \"trip_category\": \"0 - 30 minutes\", \"rt_category\": \"61-80%\", \"rt_trip_counts_by_operator\": 1129.0, \"total_trips\": 14, \"percentage_of_trips\": 1.2400354295837024}, {\"_gtfs_dataset_name\": \"Bay Area 511 SamTrans VehiclePositions\", \"trip_category\": \"0 - 30 minutes\", \"rt_category\": \"81-100%\", \"rt_trip_counts_by_operator\": 1129.0, \"total_trips\": 107, \"percentage_of_trips\": 9.477413640389726}, {\"_gtfs_dataset_name\": \"Bay Area 511 SamTrans VehiclePositions\", \"trip_category\": \"31-60 minutes\", \"rt_category\": \"21-40%\", \"rt_trip_counts_by_operator\": 1129.0, \"total_trips\": 1, \"percentage_of_trips\": 0.08857395925597875}, {\"_gtfs_dataset_name\": \"Bay Area 511 SamTrans VehiclePositions\", \"trip_category\": \"31-60 minutes\", \"rt_category\": \"41-60%\", \"rt_trip_counts_by_operator\": 1129.0, \"total_trips\": 2, \"percentage_of_trips\": 0.1771479185119575}, {\"_gtfs_dataset_name\": \"Bay Area 511 SamTrans VehiclePositions\", \"trip_category\": \"31-60 minutes\", \"rt_category\": \"61-80%\", \"rt_trip_counts_by_operator\": 1129.0, \"total_trips\": 3, \"percentage_of_trips\": 0.2657218777679362}, {\"_gtfs_dataset_name\": \"Bay Area 511 SamTrans VehiclePositions\", \"trip_category\": \"31-60 minutes\", \"rt_category\": \"81-100%\", \"rt_trip_counts_by_operator\": 1129.0, \"total_trips\": 536, \"percentage_of_trips\": 47.475642161204604}, {\"_gtfs_dataset_name\": \"Bay Area 511 SamTrans VehiclePositions\", \"trip_category\": \"61-90 minutes\", \"rt_category\": \"61-80%\", \"rt_trip_counts_by_operator\": 1129.0, \"total_trips\": 2, \"percentage_of_trips\": 0.1771479185119575}, {\"_gtfs_dataset_name\": \"Bay Area 511 SamTrans VehiclePositions\", \"trip_category\": \"61-90 minutes\", \"rt_category\": \"81-100%\", \"rt_trip_counts_by_operator\": 1129.0, \"total_trips\": 239, \"percentage_of_trips\": 21.16917626217892}, {\"_gtfs_dataset_name\": \"Bay Area 511 SamTrans VehiclePositions\", \"trip_category\": \"90 + minutes\", \"rt_category\": \"41-60%\", \"rt_trip_counts_by_operator\": 1129.0, \"total_trips\": 1, \"percentage_of_trips\": 0.08857395925597875}, {\"_gtfs_dataset_name\": \"Bay Area 511 SamTrans VehiclePositions\", \"trip_category\": \"90 + minutes\", \"rt_category\": \"61-80%\", \"rt_trip_counts_by_operator\": 1129.0, \"total_trips\": 2, \"percentage_of_trips\": 0.1771479185119575}, {\"_gtfs_dataset_name\": \"Bay Area 511 SamTrans VehiclePositions\", \"trip_category\": \"90 + minutes\", \"rt_category\": \"81-100%\", \"rt_trip_counts_by_operator\": 1129.0, \"total_trips\": 208, \"percentage_of_trips\": 18.42338352524358}, {\"_gtfs_dataset_name\": \"Bay Area 511 San Francisco Bay Ferry VehiclePositions\", \"trip_category\": \"0 - 30 minutes\", \"rt_category\": \"0-20%\", \"rt_trip_counts_by_operator\": 133.0, \"total_trips\": 3, \"percentage_of_trips\": 2.2556390977443606}, {\"_gtfs_dataset_name\": \"Bay Area 511 San Francisco Bay Ferry VehiclePositions\", \"trip_category\": \"0 - 30 minutes\", \"rt_category\": \"21-40%\", \"rt_trip_counts_by_operator\": 133.0, \"total_trips\": 1, \"percentage_of_trips\": 0.7518796992481203}, {\"_gtfs_dataset_name\": \"Bay Area 511 San Francisco Bay Ferry VehiclePositions\", \"trip_category\": \"0 - 30 minutes\", \"rt_category\": \"41-60%\", \"rt_trip_counts_by_operator\": 133.0, \"total_trips\": 14, \"percentage_of_trips\": 10.526315789473683}, {\"_gtfs_dataset_name\": \"Bay Area 511 San Francisco Bay Ferry VehiclePositions\", \"trip_category\": \"0 - 30 minutes\", \"rt_category\": \"61-80%\", \"rt_trip_counts_by_operator\": 133.0, \"total_trips\": 4, \"percentage_of_trips\": 3.007518796992481}, {\"_gtfs_dataset_name\": \"Bay Area 511 San Francisco Bay Ferry VehiclePositions\", \"trip_category\": \"0 - 30 minutes\", \"rt_category\": \"81-100%\", \"rt_trip_counts_by_operator\": 133.0, \"total_trips\": 21, \"percentage_of_trips\": 15.789473684210526}, {\"_gtfs_dataset_name\": \"Bay Area 511 San Francisco Bay Ferry VehiclePositions\", \"trip_category\": \"31-60 minutes\", \"rt_category\": \"0-20%\", \"rt_trip_counts_by_operator\": 133.0, \"total_trips\": 1, \"percentage_of_trips\": 0.7518796992481203}, {\"_gtfs_dataset_name\": \"Bay Area 511 San Francisco Bay Ferry VehiclePositions\", \"trip_category\": \"31-60 minutes\", \"rt_category\": \"21-40%\", \"rt_trip_counts_by_operator\": 133.0, \"total_trips\": 4, \"percentage_of_trips\": 3.007518796992481}, {\"_gtfs_dataset_name\": \"Bay Area 511 San Francisco Bay Ferry VehiclePositions\", \"trip_category\": \"31-60 minutes\", \"rt_category\": \"41-60%\", \"rt_trip_counts_by_operator\": 133.0, \"total_trips\": 5, \"percentage_of_trips\": 3.7593984962406015}, {\"_gtfs_dataset_name\": \"Bay Area 511 San Francisco Bay Ferry VehiclePositions\", \"trip_category\": \"31-60 minutes\", \"rt_category\": \"61-80%\", \"rt_trip_counts_by_operator\": 133.0, \"total_trips\": 6, \"percentage_of_trips\": 4.511278195488721}, {\"_gtfs_dataset_name\": \"Bay Area 511 San Francisco Bay Ferry VehiclePositions\", \"trip_category\": \"31-60 minutes\", \"rt_category\": \"81-100%\", \"rt_trip_counts_by_operator\": 133.0, \"total_trips\": 32, \"percentage_of_trips\": 24.06015037593985}, {\"_gtfs_dataset_name\": \"Bay Area 511 San Francisco Bay Ferry VehiclePositions\", \"trip_category\": \"61-90 minutes\", \"rt_category\": \"41-60%\", \"rt_trip_counts_by_operator\": 133.0, \"total_trips\": 11, \"percentage_of_trips\": 8.270676691729323}, {\"_gtfs_dataset_name\": \"Bay Area 511 San Francisco Bay Ferry VehiclePositions\", \"trip_category\": \"61-90 minutes\", \"rt_category\": \"61-80%\", \"rt_trip_counts_by_operator\": 133.0, \"total_trips\": 3, \"percentage_of_trips\": 2.2556390977443606}, {\"_gtfs_dataset_name\": \"Bay Area 511 San Francisco Bay Ferry VehiclePositions\", \"trip_category\": \"61-90 minutes\", \"rt_category\": \"81-100%\", \"rt_trip_counts_by_operator\": 133.0, \"total_trips\": 13, \"percentage_of_trips\": 9.774436090225564}, {\"_gtfs_dataset_name\": \"Bay Area 511 San Francisco Bay Ferry VehiclePositions\", \"trip_category\": \"90 + minutes\", \"rt_category\": \"41-60%\", \"rt_trip_counts_by_operator\": 133.0, \"total_trips\": 2, \"percentage_of_trips\": 1.5037593984962405}, {\"_gtfs_dataset_name\": \"Bay Area 511 San Francisco Bay Ferry VehiclePositions\", \"trip_category\": \"90 + minutes\", \"rt_category\": \"61-80%\", \"rt_trip_counts_by_operator\": 133.0, \"total_trips\": 1, \"percentage_of_trips\": 0.7518796992481203}, {\"_gtfs_dataset_name\": \"Bay Area 511 San Francisco Bay Ferry VehiclePositions\", \"trip_category\": \"90 + minutes\", \"rt_category\": \"81-100%\", \"rt_trip_counts_by_operator\": 133.0, \"total_trips\": 12, \"percentage_of_trips\": 9.022556390977442}, {\"_gtfs_dataset_name\": \"Bay Area 511 Santa Clara Transit VehiclePositions\", \"trip_category\": \"0 - 30 minutes\", \"rt_category\": \"0-20%\", \"rt_trip_counts_by_operator\": 3109.0, \"total_trips\": 28, \"percentage_of_trips\": 0.9006111289803796}, {\"_gtfs_dataset_name\": \"Bay Area 511 Santa Clara Transit VehiclePositions\", \"trip_category\": \"0 - 30 minutes\", \"rt_category\": \"21-40%\", \"rt_trip_counts_by_operator\": 3109.0, \"total_trips\": 2, \"percentage_of_trips\": 0.0643293663557414}, {\"_gtfs_dataset_name\": \"Bay Area 511 Santa Clara Transit VehiclePositions\", \"trip_category\": \"0 - 30 minutes\", \"rt_category\": \"41-60%\", \"rt_trip_counts_by_operator\": 3109.0, \"total_trips\": 3, \"percentage_of_trips\": 0.0964940495336121}, {\"_gtfs_dataset_name\": \"Bay Area 511 Santa Clara Transit VehiclePositions\", \"trip_category\": \"0 - 30 minutes\", \"rt_category\": \"61-80%\", \"rt_trip_counts_by_operator\": 3109.0, \"total_trips\": 5, \"percentage_of_trips\": 0.16082341588935348}, {\"_gtfs_dataset_name\": \"Bay Area 511 Santa Clara Transit VehiclePositions\", \"trip_category\": \"0 - 30 minutes\", \"rt_category\": \"81-100%\", \"rt_trip_counts_by_operator\": 3109.0, \"total_trips\": 270, \"percentage_of_trips\": 8.684464458025088}, {\"_gtfs_dataset_name\": \"Bay Area 511 Santa Clara Transit VehiclePositions\", \"trip_category\": \"31-60 minutes\", \"rt_category\": \"0-20%\", \"rt_trip_counts_by_operator\": 3109.0, \"total_trips\": 5, \"percentage_of_trips\": 0.16082341588935348}, {\"_gtfs_dataset_name\": \"Bay Area 511 Santa Clara Transit VehiclePositions\", \"trip_category\": \"31-60 minutes\", \"rt_category\": \"21-40%\", \"rt_trip_counts_by_operator\": 3109.0, \"total_trips\": 3, \"percentage_of_trips\": 0.0964940495336121}, {\"_gtfs_dataset_name\": \"Bay Area 511 Santa Clara Transit VehiclePositions\", \"trip_category\": \"31-60 minutes\", \"rt_category\": \"41-60%\", \"rt_trip_counts_by_operator\": 3109.0, \"total_trips\": 5, \"percentage_of_trips\": 0.16082341588935348}, {\"_gtfs_dataset_name\": \"Bay Area 511 Santa Clara Transit VehiclePositions\", \"trip_category\": \"31-60 minutes\", \"rt_category\": \"61-80%\", \"rt_trip_counts_by_operator\": 3109.0, \"total_trips\": 4, \"percentage_of_trips\": 0.1286587327114828}, {\"_gtfs_dataset_name\": \"Bay Area 511 Santa Clara Transit VehiclePositions\", \"trip_category\": \"31-60 minutes\", \"rt_category\": \"81-100%\", \"rt_trip_counts_by_operator\": 3109.0, \"total_trips\": 781, \"percentage_of_trips\": 25.120617561917015}, {\"_gtfs_dataset_name\": \"Bay Area 511 Santa Clara Transit VehiclePositions\", \"trip_category\": \"61-90 minutes\", \"rt_category\": \"0-20%\", \"rt_trip_counts_by_operator\": 3109.0, \"total_trips\": 3, \"percentage_of_trips\": 0.0964940495336121}, {\"_gtfs_dataset_name\": \"Bay Area 511 Santa Clara Transit VehiclePositions\", \"trip_category\": \"61-90 minutes\", \"rt_category\": \"21-40%\", \"rt_trip_counts_by_operator\": 3109.0, \"total_trips\": 1, \"percentage_of_trips\": 0.0321646831778707}, {\"_gtfs_dataset_name\": \"Bay Area 511 Santa Clara Transit VehiclePositions\", \"trip_category\": \"61-90 minutes\", \"rt_category\": \"41-60%\", \"rt_trip_counts_by_operator\": 3109.0, \"total_trips\": 6, \"percentage_of_trips\": 0.1929880990672242}, {\"_gtfs_dataset_name\": \"Bay Area 511 Santa Clara Transit VehiclePositions\", \"trip_category\": \"61-90 minutes\", \"rt_category\": \"61-80%\", \"rt_trip_counts_by_operator\": 3109.0, \"total_trips\": 4, \"percentage_of_trips\": 0.1286587327114828}, {\"_gtfs_dataset_name\": \"Bay Area 511 Santa Clara Transit VehiclePositions\", \"trip_category\": \"61-90 minutes\", \"rt_category\": \"81-100%\", \"rt_trip_counts_by_operator\": 3109.0, \"total_trips\": 1134, \"percentage_of_trips\": 36.47475072370538}, {\"_gtfs_dataset_name\": \"Bay Area 511 Santa Clara Transit VehiclePositions\", \"trip_category\": \"90 + minutes\", \"rt_category\": \"41-60%\", \"rt_trip_counts_by_operator\": 3109.0, \"total_trips\": 2, \"percentage_of_trips\": 0.0643293663557414}, {\"_gtfs_dataset_name\": \"Bay Area 511 Santa Clara Transit VehiclePositions\", \"trip_category\": \"90 + minutes\", \"rt_category\": \"61-80%\", \"rt_trip_counts_by_operator\": 3109.0, \"total_trips\": 4, \"percentage_of_trips\": 0.1286587327114828}, {\"_gtfs_dataset_name\": \"Bay Area 511 Santa Clara Transit VehiclePositions\", \"trip_category\": \"90 + minutes\", \"rt_category\": \"81-100%\", \"rt_trip_counts_by_operator\": 3109.0, \"total_trips\": 849, \"percentage_of_trips\": 27.307816018012222}, {\"_gtfs_dataset_name\": \"Bay Area 511 Santa Rosa CityBus VehiclePositions\", \"trip_category\": \"0 - 30 minutes\", \"rt_category\": \"21-40%\", \"rt_trip_counts_by_operator\": 516.0, \"total_trips\": 1, \"percentage_of_trips\": 0.1937984496124031}, {\"_gtfs_dataset_name\": \"Bay Area 511 Santa Rosa CityBus VehiclePositions\", \"trip_category\": \"0 - 30 minutes\", \"rt_category\": \"41-60%\", \"rt_trip_counts_by_operator\": 516.0, \"total_trips\": 23, \"percentage_of_trips\": 4.457364341085271}, {\"_gtfs_dataset_name\": \"Bay Area 511 Santa Rosa CityBus VehiclePositions\", \"trip_category\": \"0 - 30 minutes\", \"rt_category\": \"61-80%\", \"rt_trip_counts_by_operator\": 516.0, \"total_trips\": 49, \"percentage_of_trips\": 9.496124031007753}, {\"_gtfs_dataset_name\": \"Bay Area 511 Santa Rosa CityBus VehiclePositions\", \"trip_category\": \"0 - 30 minutes\", \"rt_category\": \"81-100%\", \"rt_trip_counts_by_operator\": 516.0, \"total_trips\": 341, \"percentage_of_trips\": 66.08527131782945}, {\"_gtfs_dataset_name\": \"Bay Area 511 Santa Rosa CityBus VehiclePositions\", \"trip_category\": \"31-60 minutes\", \"rt_category\": \"81-100%\", \"rt_trip_counts_by_operator\": 516.0, \"total_trips\": 81, \"percentage_of_trips\": 15.69767441860465}, {\"_gtfs_dataset_name\": \"Bay Area 511 Santa Rosa CityBus VehiclePositions\", \"trip_category\": \"90 + minutes\", \"rt_category\": \"61-80%\", \"rt_trip_counts_by_operator\": 516.0, \"total_trips\": 1, \"percentage_of_trips\": 0.1937984496124031}, {\"_gtfs_dataset_name\": \"Bay Area 511 Santa Rosa CityBus VehiclePositions\", \"trip_category\": \"90 + minutes\", \"rt_category\": \"81-100%\", \"rt_trip_counts_by_operator\": 516.0, \"total_trips\": 20, \"percentage_of_trips\": 3.875968992248062}, {\"_gtfs_dataset_name\": \"Bay Area 511 SolTrans VehiclePositions\", \"trip_category\": \"0 - 30 minutes\", \"rt_category\": \"41-60%\", \"rt_trip_counts_by_operator\": 351.0, \"total_trips\": 4, \"percentage_of_trips\": 1.1396011396011396}, {\"_gtfs_dataset_name\": \"Bay Area 511 SolTrans VehiclePositions\", \"trip_category\": \"0 - 30 minutes\", \"rt_category\": \"61-80%\", \"rt_trip_counts_by_operator\": 351.0, \"total_trips\": 14, \"percentage_of_trips\": 3.9886039886039883}, {\"_gtfs_dataset_name\": \"Bay Area 511 SolTrans VehiclePositions\", \"trip_category\": \"0 - 30 minutes\", \"rt_category\": \"81-100%\", \"rt_trip_counts_by_operator\": 351.0, \"total_trips\": 108, \"percentage_of_trips\": 30.76923076923077}, {\"_gtfs_dataset_name\": \"Bay Area 511 SolTrans VehiclePositions\", \"trip_category\": \"31-60 minutes\", \"rt_category\": \"61-80%\", \"rt_trip_counts_by_operator\": 351.0, \"total_trips\": 7, \"percentage_of_trips\": 1.9943019943019942}, {\"_gtfs_dataset_name\": \"Bay Area 511 SolTrans VehiclePositions\", \"trip_category\": \"31-60 minutes\", \"rt_category\": \"81-100%\", \"rt_trip_counts_by_operator\": 351.0, \"total_trips\": 135, \"percentage_of_trips\": 38.46153846153847}, {\"_gtfs_dataset_name\": \"Bay Area 511 SolTrans VehiclePositions\", \"trip_category\": \"61-90 minutes\", \"rt_category\": \"81-100%\", \"rt_trip_counts_by_operator\": 351.0, \"total_trips\": 41, \"percentage_of_trips\": 11.68091168091168}, {\"_gtfs_dataset_name\": \"Bay Area 511 SolTrans VehiclePositions\", \"trip_category\": \"90 + minutes\", \"rt_category\": \"81-100%\", \"rt_trip_counts_by_operator\": 351.0, \"total_trips\": 42, \"percentage_of_trips\": 11.965811965811966}, {\"_gtfs_dataset_name\": \"Bay Area 511 Sonoma County Transit Vehicle Positions\", \"trip_category\": \"0 - 30 minutes\", \"rt_category\": \"0-20%\", \"rt_trip_counts_by_operator\": 140.0, \"total_trips\": 5, \"percentage_of_trips\": 3.571428571428571}, {\"_gtfs_dataset_name\": \"Bay Area 511 Sonoma County Transit Vehicle Positions\", \"trip_category\": \"0 - 30 minutes\", \"rt_category\": \"21-40%\", \"rt_trip_counts_by_operator\": 140.0, \"total_trips\": 2, \"percentage_of_trips\": 1.4285714285714286}, {\"_gtfs_dataset_name\": \"Bay Area 511 Sonoma County Transit Vehicle Positions\", \"trip_category\": \"0 - 30 minutes\", \"rt_category\": \"41-60%\", \"rt_trip_counts_by_operator\": 140.0, \"total_trips\": 2, \"percentage_of_trips\": 1.4285714285714286}, {\"_gtfs_dataset_name\": \"Bay Area 511 Sonoma County Transit Vehicle Positions\", \"trip_category\": \"0 - 30 minutes\", \"rt_category\": \"61-80%\", \"rt_trip_counts_by_operator\": 140.0, \"total_trips\": 1, \"percentage_of_trips\": 0.7142857142857143}, {\"_gtfs_dataset_name\": \"Bay Area 511 Sonoma County Transit Vehicle Positions\", \"trip_category\": \"0 - 30 minutes\", \"rt_category\": \"81-100%\", \"rt_trip_counts_by_operator\": 140.0, \"total_trips\": 13, \"percentage_of_trips\": 9.285714285714286}, {\"_gtfs_dataset_name\": \"Bay Area 511 Sonoma County Transit Vehicle Positions\", \"trip_category\": \"31-60 minutes\", \"rt_category\": \"21-40%\", \"rt_trip_counts_by_operator\": 140.0, \"total_trips\": 1, \"percentage_of_trips\": 0.7142857142857143}, {\"_gtfs_dataset_name\": \"Bay Area 511 Sonoma County Transit Vehicle Positions\", \"trip_category\": \"31-60 minutes\", \"rt_category\": \"41-60%\", \"rt_trip_counts_by_operator\": 140.0, \"total_trips\": 3, \"percentage_of_trips\": 2.142857142857143}, {\"_gtfs_dataset_name\": \"Bay Area 511 Sonoma County Transit Vehicle Positions\", \"trip_category\": \"31-60 minutes\", \"rt_category\": \"61-80%\", \"rt_trip_counts_by_operator\": 140.0, \"total_trips\": 2, \"percentage_of_trips\": 1.4285714285714286}, {\"_gtfs_dataset_name\": \"Bay Area 511 Sonoma County Transit Vehicle Positions\", \"trip_category\": \"31-60 minutes\", \"rt_category\": \"81-100%\", \"rt_trip_counts_by_operator\": 140.0, \"total_trips\": 47, \"percentage_of_trips\": 33.57142857142857}, {\"_gtfs_dataset_name\": \"Bay Area 511 Sonoma County Transit Vehicle Positions\", \"trip_category\": \"61-90 minutes\", \"rt_category\": \"61-80%\", \"rt_trip_counts_by_operator\": 140.0, \"total_trips\": 5, \"percentage_of_trips\": 3.571428571428571}, {\"_gtfs_dataset_name\": \"Bay Area 511 Sonoma County Transit Vehicle Positions\", \"trip_category\": \"61-90 minutes\", \"rt_category\": \"81-100%\", \"rt_trip_counts_by_operator\": 140.0, \"total_trips\": 19, \"percentage_of_trips\": 13.571428571428571}, {\"_gtfs_dataset_name\": \"Bay Area 511 Sonoma County Transit Vehicle Positions\", \"trip_category\": \"90 + minutes\", \"rt_category\": \"41-60%\", \"rt_trip_counts_by_operator\": 140.0, \"total_trips\": 1, \"percentage_of_trips\": 0.7142857142857143}, {\"_gtfs_dataset_name\": \"Bay Area 511 Sonoma County Transit Vehicle Positions\", \"trip_category\": \"90 + minutes\", \"rt_category\": \"61-80%\", \"rt_trip_counts_by_operator\": 140.0, \"total_trips\": 1, \"percentage_of_trips\": 0.7142857142857143}, {\"_gtfs_dataset_name\": \"Bay Area 511 Sonoma County Transit Vehicle Positions\", \"trip_category\": \"90 + minutes\", \"rt_category\": \"81-100%\", \"rt_trip_counts_by_operator\": 140.0, \"total_trips\": 38, \"percentage_of_trips\": 27.142857142857142}, {\"_gtfs_dataset_name\": \"Bay Area 511 Sonoma-Marin Area Rail Transit VehiclePositions\", \"trip_category\": \"61-90 minutes\", \"rt_category\": \"81-100%\", \"rt_trip_counts_by_operator\": 33.0, \"total_trips\": 33, \"percentage_of_trips\": 100.0}, {\"_gtfs_dataset_name\": \"Bay Area 511 Tri Delta VehiclePositions\", \"trip_category\": \"0 - 30 minutes\", \"rt_category\": \"21-40%\", \"rt_trip_counts_by_operator\": 423.0, \"total_trips\": 1, \"percentage_of_trips\": 0.2364066193853428}, {\"_gtfs_dataset_name\": \"Bay Area 511 Tri Delta VehiclePositions\", \"trip_category\": \"0 - 30 minutes\", \"rt_category\": \"41-60%\", \"rt_trip_counts_by_operator\": 423.0, \"total_trips\": 3, \"percentage_of_trips\": 0.7092198581560284}, {\"_gtfs_dataset_name\": \"Bay Area 511 Tri Delta VehiclePositions\", \"trip_category\": \"0 - 30 minutes\", \"rt_category\": \"61-80%\", \"rt_trip_counts_by_operator\": 423.0, \"total_trips\": 3, \"percentage_of_trips\": 0.7092198581560284}, {\"_gtfs_dataset_name\": \"Bay Area 511 Tri Delta VehiclePositions\", \"trip_category\": \"0 - 30 minutes\", \"rt_category\": \"81-100%\", \"rt_trip_counts_by_operator\": 423.0, \"total_trips\": 44, \"percentage_of_trips\": 10.401891252955082}, {\"_gtfs_dataset_name\": \"Bay Area 511 Tri Delta VehiclePositions\", \"trip_category\": \"31-60 minutes\", \"rt_category\": \"61-80%\", \"rt_trip_counts_by_operator\": 423.0, \"total_trips\": 2, \"percentage_of_trips\": 0.4728132387706856}, {\"_gtfs_dataset_name\": \"Bay Area 511 Tri Delta VehiclePositions\", \"trip_category\": \"31-60 minutes\", \"rt_category\": \"81-100%\", \"rt_trip_counts_by_operator\": 423.0, \"total_trips\": 190, \"percentage_of_trips\": 44.91725768321513}, {\"_gtfs_dataset_name\": \"Bay Area 511 Tri Delta VehiclePositions\", \"trip_category\": \"61-90 minutes\", \"rt_category\": \"61-80%\", \"rt_trip_counts_by_operator\": 423.0, \"total_trips\": 2, \"percentage_of_trips\": 0.4728132387706856}, {\"_gtfs_dataset_name\": \"Bay Area 511 Tri Delta VehiclePositions\", \"trip_category\": \"61-90 minutes\", \"rt_category\": \"81-100%\", \"rt_trip_counts_by_operator\": 423.0, \"total_trips\": 71, \"percentage_of_trips\": 16.78486997635934}, {\"_gtfs_dataset_name\": \"Bay Area 511 Tri Delta VehiclePositions\", \"trip_category\": \"90 + minutes\", \"rt_category\": \"61-80%\", \"rt_trip_counts_by_operator\": 423.0, \"total_trips\": 5, \"percentage_of_trips\": 1.1820330969267139}, {\"_gtfs_dataset_name\": \"Bay Area 511 Tri Delta VehiclePositions\", \"trip_category\": \"90 + minutes\", \"rt_category\": \"81-100%\", \"rt_trip_counts_by_operator\": 423.0, \"total_trips\": 102, \"percentage_of_trips\": 24.113475177304963}, {\"_gtfs_dataset_name\": \"Bay Area 511 Tri-Valley Wheels VehiclePositions\", \"trip_category\": \"0 - 30 minutes\", \"rt_category\": \"0-20%\", \"rt_trip_counts_by_operator\": 358.0, \"total_trips\": 1, \"percentage_of_trips\": 0.27932960893854747}, {\"_gtfs_dataset_name\": \"Bay Area 511 Tri-Valley Wheels VehiclePositions\", \"trip_category\": \"0 - 30 minutes\", \"rt_category\": \"21-40%\", \"rt_trip_counts_by_operator\": 358.0, \"total_trips\": 1, \"percentage_of_trips\": 0.27932960893854747}, {\"_gtfs_dataset_name\": \"Bay Area 511 Tri-Valley Wheels VehiclePositions\", \"trip_category\": \"0 - 30 minutes\", \"rt_category\": \"41-60%\", \"rt_trip_counts_by_operator\": 358.0, \"total_trips\": 1, \"percentage_of_trips\": 0.27932960893854747}, {\"_gtfs_dataset_name\": \"Bay Area 511 Tri-Valley Wheels VehiclePositions\", \"trip_category\": \"0 - 30 minutes\", \"rt_category\": \"81-100%\", \"rt_trip_counts_by_operator\": 358.0, \"total_trips\": 27, \"percentage_of_trips\": 7.5418994413407825}, {\"_gtfs_dataset_name\": \"Bay Area 511 Tri-Valley Wheels VehiclePositions\", \"trip_category\": \"31-60 minutes\", \"rt_category\": \"41-60%\", \"rt_trip_counts_by_operator\": 358.0, \"total_trips\": 1, \"percentage_of_trips\": 0.27932960893854747}, {\"_gtfs_dataset_name\": \"Bay Area 511 Tri-Valley Wheels VehiclePositions\", \"trip_category\": \"31-60 minutes\", \"rt_category\": \"61-80%\", \"rt_trip_counts_by_operator\": 358.0, \"total_trips\": 2, \"percentage_of_trips\": 0.5586592178770949}, {\"_gtfs_dataset_name\": \"Bay Area 511 Tri-Valley Wheels VehiclePositions\", \"trip_category\": \"31-60 minutes\", \"rt_category\": \"81-100%\", \"rt_trip_counts_by_operator\": 358.0, \"total_trips\": 163, \"percentage_of_trips\": 45.530726256983236}, {\"_gtfs_dataset_name\": \"Bay Area 511 Tri-Valley Wheels VehiclePositions\", \"trip_category\": \"61-90 minutes\", \"rt_category\": \"61-80%\", \"rt_trip_counts_by_operator\": 358.0, \"total_trips\": 2, \"percentage_of_trips\": 0.5586592178770949}, {\"_gtfs_dataset_name\": \"Bay Area 511 Tri-Valley Wheels VehiclePositions\", \"trip_category\": \"61-90 minutes\", \"rt_category\": \"81-100%\", \"rt_trip_counts_by_operator\": 358.0, \"total_trips\": 142, \"percentage_of_trips\": 39.66480446927375}, {\"_gtfs_dataset_name\": \"Bay Area 511 Tri-Valley Wheels VehiclePositions\", \"trip_category\": \"90 + minutes\", \"rt_category\": \"81-100%\", \"rt_trip_counts_by_operator\": 358.0, \"total_trips\": 18, \"percentage_of_trips\": 5.027932960893855}, {\"_gtfs_dataset_name\": \"Bay Area 511 Union City Transit VehiclePositions\", \"trip_category\": \"0 - 30 minutes\", \"rt_category\": \"0-20%\", \"rt_trip_counts_by_operator\": 132.0, \"total_trips\": 2, \"percentage_of_trips\": 1.5151515151515151}, {\"_gtfs_dataset_name\": \"Bay Area 511 Union City Transit VehiclePositions\", \"trip_category\": \"0 - 30 minutes\", \"rt_category\": \"21-40%\", \"rt_trip_counts_by_operator\": 132.0, \"total_trips\": 1, \"percentage_of_trips\": 0.7575757575757576}, {\"_gtfs_dataset_name\": \"Bay Area 511 Union City Transit VehiclePositions\", \"trip_category\": \"0 - 30 minutes\", \"rt_category\": \"41-60%\", \"rt_trip_counts_by_operator\": 132.0, \"total_trips\": 1, \"percentage_of_trips\": 0.7575757575757576}, {\"_gtfs_dataset_name\": \"Bay Area 511 Union City Transit VehiclePositions\", \"trip_category\": \"0 - 30 minutes\", \"rt_category\": \"61-80%\", \"rt_trip_counts_by_operator\": 132.0, \"total_trips\": 4, \"percentage_of_trips\": 3.0303030303030303}, {\"_gtfs_dataset_name\": \"Bay Area 511 Union City Transit VehiclePositions\", \"trip_category\": \"0 - 30 minutes\", \"rt_category\": \"81-100%\", \"rt_trip_counts_by_operator\": 132.0, \"total_trips\": 41, \"percentage_of_trips\": 31.060606060606062}, {\"_gtfs_dataset_name\": \"Bay Area 511 Union City Transit VehiclePositions\", \"trip_category\": \"31-60 minutes\", \"rt_category\": \"61-80%\", \"rt_trip_counts_by_operator\": 132.0, \"total_trips\": 1, \"percentage_of_trips\": 0.7575757575757576}, {\"_gtfs_dataset_name\": \"Bay Area 511 Union City Transit VehiclePositions\", \"trip_category\": \"31-60 minutes\", \"rt_category\": \"81-100%\", \"rt_trip_counts_by_operator\": 132.0, \"total_trips\": 61, \"percentage_of_trips\": 46.21212121212121}, {\"_gtfs_dataset_name\": \"Bay Area 511 Union City Transit VehiclePositions\", \"trip_category\": \"61-90 minutes\", \"rt_category\": \"81-100%\", \"rt_trip_counts_by_operator\": 132.0, \"total_trips\": 6, \"percentage_of_trips\": 4.545454545454546}, {\"_gtfs_dataset_name\": \"Bay Area 511 Union City Transit VehiclePositions\", \"trip_category\": \"90 + minutes\", \"rt_category\": \"41-60%\", \"rt_trip_counts_by_operator\": 132.0, \"total_trips\": 1, \"percentage_of_trips\": 0.7575757575757576}, {\"_gtfs_dataset_name\": \"Bay Area 511 Union City Transit VehiclePositions\", \"trip_category\": \"90 + minutes\", \"rt_category\": \"81-100%\", \"rt_trip_counts_by_operator\": 132.0, \"total_trips\": 14, \"percentage_of_trips\": 10.606060606060606}, {\"_gtfs_dataset_name\": \"Bay Area 511 Vine Transit VehiclePositions\", \"trip_category\": \"0 - 30 minutes\", \"rt_category\": \"61-80%\", \"rt_trip_counts_by_operator\": 98.0, \"total_trips\": 2, \"percentage_of_trips\": 2.0408163265306123}, {\"_gtfs_dataset_name\": \"Bay Area 511 Vine Transit VehiclePositions\", \"trip_category\": \"0 - 30 minutes\", \"rt_category\": \"81-100%\", \"rt_trip_counts_by_operator\": 98.0, \"total_trips\": 5, \"percentage_of_trips\": 5.1020408163265305}, {\"_gtfs_dataset_name\": \"Bay Area 511 Vine Transit VehiclePositions\", \"trip_category\": \"31-60 minutes\", \"rt_category\": \"41-60%\", \"rt_trip_counts_by_operator\": 98.0, \"total_trips\": 1, \"percentage_of_trips\": 1.0204081632653061}, {\"_gtfs_dataset_name\": \"Bay Area 511 Vine Transit VehiclePositions\", \"trip_category\": \"31-60 minutes\", \"rt_category\": \"61-80%\", \"rt_trip_counts_by_operator\": 98.0, \"total_trips\": 1, \"percentage_of_trips\": 1.0204081632653061}, {\"_gtfs_dataset_name\": \"Bay Area 511 Vine Transit VehiclePositions\", \"trip_category\": \"31-60 minutes\", \"rt_category\": \"81-100%\", \"rt_trip_counts_by_operator\": 98.0, \"total_trips\": 34, \"percentage_of_trips\": 34.69387755102041}, {\"_gtfs_dataset_name\": \"Bay Area 511 Vine Transit VehiclePositions\", \"trip_category\": \"61-90 minutes\", \"rt_category\": \"81-100%\", \"rt_trip_counts_by_operator\": 98.0, \"total_trips\": 20, \"percentage_of_trips\": 20.408163265306122}, {\"_gtfs_dataset_name\": \"Bay Area 511 Vine Transit VehiclePositions\", \"trip_category\": \"90 + minutes\", \"rt_category\": \"81-100%\", \"rt_trip_counts_by_operator\": 98.0, \"total_trips\": 35, \"percentage_of_trips\": 35.714285714285715}, {\"_gtfs_dataset_name\": \"Bay Area 511 WestCAT VehiclePositions\", \"trip_category\": \"0 - 30 minutes\", \"rt_category\": \"0-20%\", \"rt_trip_counts_by_operator\": 359.0, \"total_trips\": 2, \"percentage_of_trips\": 0.5571030640668524}, {\"_gtfs_dataset_name\": \"Bay Area 511 WestCAT VehiclePositions\", \"trip_category\": \"0 - 30 minutes\", \"rt_category\": \"41-60%\", \"rt_trip_counts_by_operator\": 359.0, \"total_trips\": 4, \"percentage_of_trips\": 1.1142061281337048}, {\"_gtfs_dataset_name\": \"Bay Area 511 WestCAT VehiclePositions\", \"trip_category\": \"0 - 30 minutes\", \"rt_category\": \"61-80%\", \"rt_trip_counts_by_operator\": 359.0, \"total_trips\": 39, \"percentage_of_trips\": 10.86350974930362}, {\"_gtfs_dataset_name\": \"Bay Area 511 WestCAT VehiclePositions\", \"trip_category\": \"0 - 30 minutes\", \"rt_category\": \"81-100%\", \"rt_trip_counts_by_operator\": 359.0, \"total_trips\": 216, \"percentage_of_trips\": 60.16713091922006}, {\"_gtfs_dataset_name\": \"Bay Area 511 WestCAT VehiclePositions\", \"trip_category\": \"31-60 minutes\", \"rt_category\": \"41-60%\", \"rt_trip_counts_by_operator\": 359.0, \"total_trips\": 1, \"percentage_of_trips\": 0.2785515320334262}, {\"_gtfs_dataset_name\": \"Bay Area 511 WestCAT VehiclePositions\", \"trip_category\": \"31-60 minutes\", \"rt_category\": \"61-80%\", \"rt_trip_counts_by_operator\": 359.0, \"total_trips\": 14, \"percentage_of_trips\": 3.8997214484679668}, {\"_gtfs_dataset_name\": \"Bay Area 511 WestCAT VehiclePositions\", \"trip_category\": \"31-60 minutes\", \"rt_category\": \"81-100%\", \"rt_trip_counts_by_operator\": 359.0, \"total_trips\": 71, \"percentage_of_trips\": 19.77715877437326}, {\"_gtfs_dataset_name\": \"Bay Area 511 WestCAT VehiclePositions\", \"trip_category\": \"61-90 minutes\", \"rt_category\": \"81-100%\", \"rt_trip_counts_by_operator\": 359.0, \"total_trips\": 3, \"percentage_of_trips\": 0.8356545961002786}, {\"_gtfs_dataset_name\": \"Bay Area 511 WestCAT VehiclePositions\", \"trip_category\": \"90 + minutes\", \"rt_category\": \"41-60%\", \"rt_trip_counts_by_operator\": 359.0, \"total_trips\": 1, \"percentage_of_trips\": 0.2785515320334262}, {\"_gtfs_dataset_name\": \"Bay Area 511 WestCAT VehiclePositions\", \"trip_category\": \"90 + minutes\", \"rt_category\": \"61-80%\", \"rt_trip_counts_by_operator\": 359.0, \"total_trips\": 2, \"percentage_of_trips\": 0.5571030640668524}, {\"_gtfs_dataset_name\": \"Bay Area 511 WestCAT VehiclePositions\", \"trip_category\": \"90 + minutes\", \"rt_category\": \"81-100%\", \"rt_trip_counts_by_operator\": 359.0, \"total_trips\": 6, \"percentage_of_trips\": 1.6713091922005572}, {\"_gtfs_dataset_name\": \"Beach Cities VehiclePositions\", \"trip_category\": \"31-60 minutes\", \"rt_category\": \"61-80%\", \"rt_trip_counts_by_operator\": 27.0, \"total_trips\": 1, \"percentage_of_trips\": 3.7037037037037033}, {\"_gtfs_dataset_name\": \"Beach Cities VehiclePositions\", \"trip_category\": \"31-60 minutes\", \"rt_category\": \"81-100%\", \"rt_trip_counts_by_operator\": 27.0, \"total_trips\": 1, \"percentage_of_trips\": 3.7037037037037033}, {\"_gtfs_dataset_name\": \"Beach Cities VehiclePositions\", \"trip_category\": \"61-90 minutes\", \"rt_category\": \"81-100%\", \"rt_trip_counts_by_operator\": 27.0, \"total_trips\": 12, \"percentage_of_trips\": 44.44444444444444}, {\"_gtfs_dataset_name\": \"Beach Cities VehiclePositions\", \"trip_category\": \"90 + minutes\", \"rt_category\": \"81-100%\", \"rt_trip_counts_by_operator\": 27.0, \"total_trips\": 13, \"percentage_of_trips\": 48.148148148148145}, {\"_gtfs_dataset_name\": \"Bear Vehicle Positions\", \"trip_category\": \"0 - 30 minutes\", \"rt_category\": \"0-20%\", \"rt_trip_counts_by_operator\": 61.0, \"total_trips\": 10, \"percentage_of_trips\": 16.39344262295082}, {\"_gtfs_dataset_name\": \"Bear Vehicle Positions\", \"trip_category\": \"0 - 30 minutes\", \"rt_category\": \"21-40%\", \"rt_trip_counts_by_operator\": 61.0, \"total_trips\": 12, \"percentage_of_trips\": 19.672131147540984}, {\"_gtfs_dataset_name\": \"Bear Vehicle Positions\", \"trip_category\": \"0 - 30 minutes\", \"rt_category\": \"41-60%\", \"rt_trip_counts_by_operator\": 61.0, \"total_trips\": 2, \"percentage_of_trips\": 3.278688524590164}, {\"_gtfs_dataset_name\": \"Bear Vehicle Positions\", \"trip_category\": \"0 - 30 minutes\", \"rt_category\": \"61-80%\", \"rt_trip_counts_by_operator\": 61.0, \"total_trips\": 4, \"percentage_of_trips\": 6.557377049180328}, {\"_gtfs_dataset_name\": \"Bear Vehicle Positions\", \"trip_category\": \"0 - 30 minutes\", \"rt_category\": \"81-100%\", \"rt_trip_counts_by_operator\": 61.0, \"total_trips\": 31, \"percentage_of_trips\": 50.81967213114754}, {\"_gtfs_dataset_name\": \"Bear Vehicle Positions\", \"trip_category\": \"31-60 minutes\", \"rt_category\": \"81-100%\", \"rt_trip_counts_by_operator\": 61.0, \"total_trips\": 1, \"percentage_of_trips\": 1.639344262295082}, {\"_gtfs_dataset_name\": \"Bear Vehicle Positions\", \"trip_category\": \"90 + minutes\", \"rt_category\": \"81-100%\", \"rt_trip_counts_by_operator\": 61.0, \"total_trips\": 1, \"percentage_of_trips\": 1.639344262295082}, {\"_gtfs_dataset_name\": \"Beaumont Pass Vehicle Positions\", \"trip_category\": \"0 - 30 minutes\", \"rt_category\": \"0-20%\", \"rt_trip_counts_by_operator\": 86.0, \"total_trips\": 2, \"percentage_of_trips\": 2.3255813953488373}, {\"_gtfs_dataset_name\": \"Beaumont Pass Vehicle Positions\", \"trip_category\": \"0 - 30 minutes\", \"rt_category\": \"21-40%\", \"rt_trip_counts_by_operator\": 86.0, \"total_trips\": 1, \"percentage_of_trips\": 1.1627906976744187}, {\"_gtfs_dataset_name\": \"Beaumont Pass Vehicle Positions\", \"trip_category\": \"0 - 30 minutes\", \"rt_category\": \"61-80%\", \"rt_trip_counts_by_operator\": 86.0, \"total_trips\": 2, \"percentage_of_trips\": 2.3255813953488373}, {\"_gtfs_dataset_name\": \"Beaumont Pass Vehicle Positions\", \"trip_category\": \"0 - 30 minutes\", \"rt_category\": \"81-100%\", \"rt_trip_counts_by_operator\": 86.0, \"total_trips\": 24, \"percentage_of_trips\": 27.906976744186046}, {\"_gtfs_dataset_name\": \"Beaumont Pass Vehicle Positions\", \"trip_category\": \"31-60 minutes\", \"rt_category\": \"61-80%\", \"rt_trip_counts_by_operator\": 86.0, \"total_trips\": 1, \"percentage_of_trips\": 1.1627906976744187}, {\"_gtfs_dataset_name\": \"Beaumont Pass Vehicle Positions\", \"trip_category\": \"31-60 minutes\", \"rt_category\": \"81-100%\", \"rt_trip_counts_by_operator\": 86.0, \"total_trips\": 44, \"percentage_of_trips\": 51.162790697674424}, {\"_gtfs_dataset_name\": \"Beaumont Pass Vehicle Positions\", \"trip_category\": \"61-90 minutes\", \"rt_category\": \"81-100%\", \"rt_trip_counts_by_operator\": 86.0, \"total_trips\": 8, \"percentage_of_trips\": 9.30232558139535}, {\"_gtfs_dataset_name\": \"Beaumont Pass Vehicle Positions\", \"trip_category\": \"90 + minutes\", \"rt_category\": \"81-100%\", \"rt_trip_counts_by_operator\": 86.0, \"total_trips\": 4, \"percentage_of_trips\": 4.651162790697675}, {\"_gtfs_dataset_name\": \"Big Blue Bus VehiclePositions\", \"trip_category\": \"0 - 30 minutes\", \"rt_category\": \"0-20%\", \"rt_trip_counts_by_operator\": 1132.0, \"total_trips\": 12, \"percentage_of_trips\": 1.0600706713780919}, {\"_gtfs_dataset_name\": \"Big Blue Bus VehiclePositions\", \"trip_category\": \"0 - 30 minutes\", \"rt_category\": \"21-40%\", \"rt_trip_counts_by_operator\": 1132.0, \"total_trips\": 11, \"percentage_of_trips\": 0.9717314487632509}, {\"_gtfs_dataset_name\": \"Big Blue Bus VehiclePositions\", \"trip_category\": \"0 - 30 minutes\", \"rt_category\": \"41-60%\", \"rt_trip_counts_by_operator\": 1132.0, \"total_trips\": 14, \"percentage_of_trips\": 1.2367491166077738}, {\"_gtfs_dataset_name\": \"Big Blue Bus VehiclePositions\", \"trip_category\": \"0 - 30 minutes\", \"rt_category\": \"61-80%\", \"rt_trip_counts_by_operator\": 1132.0, \"total_trips\": 24, \"percentage_of_trips\": 2.1201413427561837}, {\"_gtfs_dataset_name\": \"Big Blue Bus VehiclePositions\", \"trip_category\": \"0 - 30 minutes\", \"rt_category\": \"81-100%\", \"rt_trip_counts_by_operator\": 1132.0, \"total_trips\": 77, \"percentage_of_trips\": 6.802120141342756}, {\"_gtfs_dataset_name\": \"Big Blue Bus VehiclePositions\", \"trip_category\": \"31-60 minutes\", \"rt_category\": \"0-20%\", \"rt_trip_counts_by_operator\": 1132.0, \"total_trips\": 1, \"percentage_of_trips\": 0.08833922261484099}, {\"_gtfs_dataset_name\": \"Big Blue Bus VehiclePositions\", \"trip_category\": \"31-60 minutes\", \"rt_category\": \"21-40%\", \"rt_trip_counts_by_operator\": 1132.0, \"total_trips\": 10, \"percentage_of_trips\": 0.88339222614841}, {\"_gtfs_dataset_name\": \"Big Blue Bus VehiclePositions\", \"trip_category\": \"31-60 minutes\", \"rt_category\": \"41-60%\", \"rt_trip_counts_by_operator\": 1132.0, \"total_trips\": 51, \"percentage_of_trips\": 4.5053003533568905}, {\"_gtfs_dataset_name\": \"Big Blue Bus VehiclePositions\", \"trip_category\": \"31-60 minutes\", \"rt_category\": \"61-80%\", \"rt_trip_counts_by_operator\": 1132.0, \"total_trips\": 161, \"percentage_of_trips\": 14.2226148409894}, {\"_gtfs_dataset_name\": \"Big Blue Bus VehiclePositions\", \"trip_category\": \"31-60 minutes\", \"rt_category\": \"81-100%\", \"rt_trip_counts_by_operator\": 1132.0, \"total_trips\": 297, \"percentage_of_trips\": 26.236749116607772}, {\"_gtfs_dataset_name\": \"Big Blue Bus VehiclePositions\", \"trip_category\": \"61-90 minutes\", \"rt_category\": \"41-60%\", \"rt_trip_counts_by_operator\": 1132.0, \"total_trips\": 4, \"percentage_of_trips\": 0.35335689045936397}, {\"_gtfs_dataset_name\": \"Big Blue Bus VehiclePositions\", \"trip_category\": \"61-90 minutes\", \"rt_category\": \"61-80%\", \"rt_trip_counts_by_operator\": 1132.0, \"total_trips\": 47, \"percentage_of_trips\": 4.151943462897526}, {\"_gtfs_dataset_name\": \"Big Blue Bus VehiclePositions\", \"trip_category\": \"61-90 minutes\", \"rt_category\": \"81-100%\", \"rt_trip_counts_by_operator\": 1132.0, \"total_trips\": 297, \"percentage_of_trips\": 26.236749116607772}, {\"_gtfs_dataset_name\": \"Big Blue Bus VehiclePositions\", \"trip_category\": \"90 + minutes\", \"rt_category\": \"0-20%\", \"rt_trip_counts_by_operator\": 1132.0, \"total_trips\": 1, \"percentage_of_trips\": 0.08833922261484099}, {\"_gtfs_dataset_name\": \"Big Blue Bus VehiclePositions\", \"trip_category\": \"90 + minutes\", \"rt_category\": \"21-40%\", \"rt_trip_counts_by_operator\": 1132.0, \"total_trips\": 1, \"percentage_of_trips\": 0.08833922261484099}, {\"_gtfs_dataset_name\": \"Big Blue Bus VehiclePositions\", \"trip_category\": \"90 + minutes\", \"rt_category\": \"41-60%\", \"rt_trip_counts_by_operator\": 1132.0, \"total_trips\": 1, \"percentage_of_trips\": 0.08833922261484099}, {\"_gtfs_dataset_name\": \"Big Blue Bus VehiclePositions\", \"trip_category\": \"90 + minutes\", \"rt_category\": \"61-80%\", \"rt_trip_counts_by_operator\": 1132.0, \"total_trips\": 7, \"percentage_of_trips\": 0.6183745583038869}, {\"_gtfs_dataset_name\": \"Big Blue Bus VehiclePositions\", \"trip_category\": \"90 + minutes\", \"rt_category\": \"81-100%\", \"rt_trip_counts_by_operator\": 1132.0, \"total_trips\": 116, \"percentage_of_trips\": 10.247349823321555}, {\"_gtfs_dataset_name\": \"BruinBus Vehicle Positions\", \"trip_category\": \"0 - 30 minutes\", \"rt_category\": \"81-100%\", \"rt_trip_counts_by_operator\": 81.0, \"total_trips\": 28, \"percentage_of_trips\": 34.5679012345679}, {\"_gtfs_dataset_name\": \"BruinBus Vehicle Positions\", \"trip_category\": \"31-60 minutes\", \"rt_category\": \"81-100%\", \"rt_trip_counts_by_operator\": 81.0, \"total_trips\": 37, \"percentage_of_trips\": 45.67901234567901}, {\"_gtfs_dataset_name\": \"BruinBus Vehicle Positions\", \"trip_category\": \"61-90 minutes\", \"rt_category\": \"81-100%\", \"rt_trip_counts_by_operator\": 81.0, \"total_trips\": 11, \"percentage_of_trips\": 13.580246913580247}, {\"_gtfs_dataset_name\": \"BruinBus Vehicle Positions\", \"trip_category\": \"90 + minutes\", \"rt_category\": \"81-100%\", \"rt_trip_counts_by_operator\": 81.0, \"total_trips\": 5, \"percentage_of_trips\": 6.172839506172839}, {\"_gtfs_dataset_name\": \"Burbank VehiclePositions\", \"trip_category\": \"0 - 30 minutes\", \"rt_category\": \"0-20%\", \"rt_trip_counts_by_operator\": 66.0, \"total_trips\": 6, \"percentage_of_trips\": 9.090909090909092}, {\"_gtfs_dataset_name\": \"Burbank VehiclePositions\", \"trip_category\": \"0 - 30 minutes\", \"rt_category\": \"21-40%\", \"rt_trip_counts_by_operator\": 66.0, \"total_trips\": 1, \"percentage_of_trips\": 1.5151515151515151}, {\"_gtfs_dataset_name\": \"Burbank VehiclePositions\", \"trip_category\": \"0 - 30 minutes\", \"rt_category\": \"81-100%\", \"rt_trip_counts_by_operator\": 66.0, \"total_trips\": 1, \"percentage_of_trips\": 1.5151515151515151}, {\"_gtfs_dataset_name\": \"Burbank VehiclePositions\", \"trip_category\": \"31-60 minutes\", \"rt_category\": \"0-20%\", \"rt_trip_counts_by_operator\": 66.0, \"total_trips\": 3, \"percentage_of_trips\": 4.545454545454546}, {\"_gtfs_dataset_name\": \"Burbank VehiclePositions\", \"trip_category\": \"31-60 minutes\", \"rt_category\": \"41-60%\", \"rt_trip_counts_by_operator\": 66.0, \"total_trips\": 1, \"percentage_of_trips\": 1.5151515151515151}, {\"_gtfs_dataset_name\": \"Burbank VehiclePositions\", \"trip_category\": \"31-60 minutes\", \"rt_category\": \"61-80%\", \"rt_trip_counts_by_operator\": 66.0, \"total_trips\": 2, \"percentage_of_trips\": 3.0303030303030303}, {\"_gtfs_dataset_name\": \"Burbank VehiclePositions\", \"trip_category\": \"31-60 minutes\", \"rt_category\": \"81-100%\", \"rt_trip_counts_by_operator\": 66.0, \"total_trips\": 24, \"percentage_of_trips\": 36.36363636363637}, {\"_gtfs_dataset_name\": \"Burbank VehiclePositions\", \"trip_category\": \"61-90 minutes\", \"rt_category\": \"81-100%\", \"rt_trip_counts_by_operator\": 66.0, \"total_trips\": 22, \"percentage_of_trips\": 33.33333333333333}, {\"_gtfs_dataset_name\": \"Burbank VehiclePositions\", \"trip_category\": \"90 + minutes\", \"rt_category\": \"61-80%\", \"rt_trip_counts_by_operator\": 66.0, \"total_trips\": 1, \"percentage_of_trips\": 1.5151515151515151}, {\"_gtfs_dataset_name\": \"Burbank VehiclePositions\", \"trip_category\": \"90 + minutes\", \"rt_category\": \"81-100%\", \"rt_trip_counts_by_operator\": 66.0, \"total_trips\": 5, \"percentage_of_trips\": 7.575757575757576}, {\"_gtfs_dataset_name\": \"Commerce VehiclePositions\", \"trip_category\": \"0 - 30 minutes\", \"rt_category\": \"41-60%\", \"rt_trip_counts_by_operator\": 89.0, \"total_trips\": 2, \"percentage_of_trips\": 2.247191011235955}, {\"_gtfs_dataset_name\": \"Commerce VehiclePositions\", \"trip_category\": \"0 - 30 minutes\", \"rt_category\": \"81-100%\", \"rt_trip_counts_by_operator\": 89.0, \"total_trips\": 1, \"percentage_of_trips\": 1.1235955056179776}, {\"_gtfs_dataset_name\": \"Commerce VehiclePositions\", \"trip_category\": \"31-60 minutes\", \"rt_category\": \"81-100%\", \"rt_trip_counts_by_operator\": 89.0, \"total_trips\": 27, \"percentage_of_trips\": 30.337078651685395}, {\"_gtfs_dataset_name\": \"Commerce VehiclePositions\", \"trip_category\": \"61-90 minutes\", \"rt_category\": \"61-80%\", \"rt_trip_counts_by_operator\": 89.0, \"total_trips\": 1, \"percentage_of_trips\": 1.1235955056179776}, {\"_gtfs_dataset_name\": \"Commerce VehiclePositions\", \"trip_category\": \"61-90 minutes\", \"rt_category\": \"81-100%\", \"rt_trip_counts_by_operator\": 89.0, \"total_trips\": 30, \"percentage_of_trips\": 33.70786516853933}, {\"_gtfs_dataset_name\": \"Commerce VehiclePositions\", \"trip_category\": \"90 + minutes\", \"rt_category\": \"81-100%\", \"rt_trip_counts_by_operator\": 89.0, \"total_trips\": 28, \"percentage_of_trips\": 31.46067415730337}, {\"_gtfs_dataset_name\": \"Eastern Sierra Vehicle Positions\", \"trip_category\": \"0 - 30 minutes\", \"rt_category\": \"0-20%\", \"rt_trip_counts_by_operator\": 217.0, \"total_trips\": 5, \"percentage_of_trips\": 2.3041474654377883}, {\"_gtfs_dataset_name\": \"Eastern Sierra Vehicle Positions\", \"trip_category\": \"0 - 30 minutes\", \"rt_category\": \"21-40%\", \"rt_trip_counts_by_operator\": 217.0, \"total_trips\": 2, \"percentage_of_trips\": 0.9216589861751152}, {\"_gtfs_dataset_name\": \"Eastern Sierra Vehicle Positions\", \"trip_category\": \"0 - 30 minutes\", \"rt_category\": \"41-60%\", \"rt_trip_counts_by_operator\": 217.0, \"total_trips\": 8, \"percentage_of_trips\": 3.686635944700461}, {\"_gtfs_dataset_name\": \"Eastern Sierra Vehicle Positions\", \"trip_category\": \"0 - 30 minutes\", \"rt_category\": \"61-80%\", \"rt_trip_counts_by_operator\": 217.0, \"total_trips\": 39, \"percentage_of_trips\": 17.972350230414747}, {\"_gtfs_dataset_name\": \"Eastern Sierra Vehicle Positions\", \"trip_category\": \"0 - 30 minutes\", \"rt_category\": \"81-100%\", \"rt_trip_counts_by_operator\": 217.0, \"total_trips\": 138, \"percentage_of_trips\": 63.594470046082954}, {\"_gtfs_dataset_name\": \"Eastern Sierra Vehicle Positions\", \"trip_category\": \"31-60 minutes\", \"rt_category\": \"81-100%\", \"rt_trip_counts_by_operator\": 217.0, \"total_trips\": 14, \"percentage_of_trips\": 6.451612903225806}, {\"_gtfs_dataset_name\": \"Eastern Sierra Vehicle Positions\", \"trip_category\": \"61-90 minutes\", \"rt_category\": \"81-100%\", \"rt_trip_counts_by_operator\": 217.0, \"total_trips\": 2, \"percentage_of_trips\": 0.9216589861751152}, {\"_gtfs_dataset_name\": \"Eastern Sierra Vehicle Positions\", \"trip_category\": \"90 + minutes\", \"rt_category\": \"81-100%\", \"rt_trip_counts_by_operator\": 217.0, \"total_trips\": 9, \"percentage_of_trips\": 4.147465437788019}, {\"_gtfs_dataset_name\": \"Elk Grove VehiclePositions\", \"trip_category\": \"0 - 30 minutes\", \"rt_category\": \"0-20%\", \"rt_trip_counts_by_operator\": 212.0, \"total_trips\": 2, \"percentage_of_trips\": 0.9433962264150944}, {\"_gtfs_dataset_name\": \"Elk Grove VehiclePositions\", \"trip_category\": \"0 - 30 minutes\", \"rt_category\": \"21-40%\", \"rt_trip_counts_by_operator\": 212.0, \"total_trips\": 2, \"percentage_of_trips\": 0.9433962264150944}, {\"_gtfs_dataset_name\": \"Elk Grove VehiclePositions\", \"trip_category\": \"0 - 30 minutes\", \"rt_category\": \"41-60%\", \"rt_trip_counts_by_operator\": 212.0, \"total_trips\": 1, \"percentage_of_trips\": 0.4716981132075472}, {\"_gtfs_dataset_name\": \"Elk Grove VehiclePositions\", \"trip_category\": \"0 - 30 minutes\", \"rt_category\": \"61-80%\", \"rt_trip_counts_by_operator\": 212.0, \"total_trips\": 3, \"percentage_of_trips\": 1.4150943396226416}, {\"_gtfs_dataset_name\": \"Elk Grove VehiclePositions\", \"trip_category\": \"0 - 30 minutes\", \"rt_category\": \"81-100%\", \"rt_trip_counts_by_operator\": 212.0, \"total_trips\": 37, \"percentage_of_trips\": 17.452830188679243}, {\"_gtfs_dataset_name\": \"Elk Grove VehiclePositions\", \"trip_category\": \"31-60 minutes\", \"rt_category\": \"61-80%\", \"rt_trip_counts_by_operator\": 212.0, \"total_trips\": 6, \"percentage_of_trips\": 2.8301886792452833}, {\"_gtfs_dataset_name\": \"Elk Grove VehiclePositions\", \"trip_category\": \"31-60 minutes\", \"rt_category\": \"81-100%\", \"rt_trip_counts_by_operator\": 212.0, \"total_trips\": 136, \"percentage_of_trips\": 64.15094339622641}, {\"_gtfs_dataset_name\": \"Elk Grove VehiclePositions\", \"trip_category\": \"61-90 minutes\", \"rt_category\": \"21-40%\", \"rt_trip_counts_by_operator\": 212.0, \"total_trips\": 1, \"percentage_of_trips\": 0.4716981132075472}, {\"_gtfs_dataset_name\": \"Elk Grove VehiclePositions\", \"trip_category\": \"61-90 minutes\", \"rt_category\": \"81-100%\", \"rt_trip_counts_by_operator\": 212.0, \"total_trips\": 12, \"percentage_of_trips\": 5.660377358490567}, {\"_gtfs_dataset_name\": \"Elk Grove VehiclePositions\", \"trip_category\": \"90 + minutes\", \"rt_category\": \"0-20%\", \"rt_trip_counts_by_operator\": 212.0, \"total_trips\": 1, \"percentage_of_trips\": 0.4716981132075472}, {\"_gtfs_dataset_name\": \"Elk Grove VehiclePositions\", \"trip_category\": \"90 + minutes\", \"rt_category\": \"81-100%\", \"rt_trip_counts_by_operator\": 212.0, \"total_trips\": 11, \"percentage_of_trips\": 5.188679245283019}, {\"_gtfs_dataset_name\": \"Foothill Vehicle Positions\", \"trip_category\": \"0 - 30 minutes\", \"rt_category\": \"0-20%\", \"rt_trip_counts_by_operator\": 1482.0, \"total_trips\": 10, \"percentage_of_trips\": 0.6747638326585695}, {\"_gtfs_dataset_name\": \"Foothill Vehicle Positions\", \"trip_category\": \"0 - 30 minutes\", \"rt_category\": \"21-40%\", \"rt_trip_counts_by_operator\": 1482.0, \"total_trips\": 4, \"percentage_of_trips\": 0.2699055330634278}, {\"_gtfs_dataset_name\": \"Foothill Vehicle Positions\", \"trip_category\": \"0 - 30 minutes\", \"rt_category\": \"41-60%\", \"rt_trip_counts_by_operator\": 1482.0, \"total_trips\": 7, \"percentage_of_trips\": 0.47233468286099867}, {\"_gtfs_dataset_name\": \"Foothill Vehicle Positions\", \"trip_category\": \"0 - 30 minutes\", \"rt_category\": \"61-80%\", \"rt_trip_counts_by_operator\": 1482.0, \"total_trips\": 9, \"percentage_of_trips\": 0.6072874493927125}, {\"_gtfs_dataset_name\": \"Foothill Vehicle Positions\", \"trip_category\": \"0 - 30 minutes\", \"rt_category\": \"81-100%\", \"rt_trip_counts_by_operator\": 1482.0, \"total_trips\": 24, \"percentage_of_trips\": 1.6194331983805668}, {\"_gtfs_dataset_name\": \"Foothill Vehicle Positions\", \"trip_category\": \"31-60 minutes\", \"rt_category\": \"0-20%\", \"rt_trip_counts_by_operator\": 1482.0, \"total_trips\": 3, \"percentage_of_trips\": 0.20242914979757085}, {\"_gtfs_dataset_name\": \"Foothill Vehicle Positions\", \"trip_category\": \"31-60 minutes\", \"rt_category\": \"21-40%\", \"rt_trip_counts_by_operator\": 1482.0, \"total_trips\": 5, \"percentage_of_trips\": 0.33738191632928477}, {\"_gtfs_dataset_name\": \"Foothill Vehicle Positions\", \"trip_category\": \"31-60 minutes\", \"rt_category\": \"41-60%\", \"rt_trip_counts_by_operator\": 1482.0, \"total_trips\": 13, \"percentage_of_trips\": 0.8771929824561403}, {\"_gtfs_dataset_name\": \"Foothill Vehicle Positions\", \"trip_category\": \"31-60 minutes\", \"rt_category\": \"61-80%\", \"rt_trip_counts_by_operator\": 1482.0, \"total_trips\": 62, \"percentage_of_trips\": 4.183535762483131}, {\"_gtfs_dataset_name\": \"Foothill Vehicle Positions\", \"trip_category\": \"31-60 minutes\", \"rt_category\": \"81-100%\", \"rt_trip_counts_by_operator\": 1482.0, \"total_trips\": 453, \"percentage_of_trips\": 30.5668016194332}, {\"_gtfs_dataset_name\": \"Foothill Vehicle Positions\", \"trip_category\": \"61-90 minutes\", \"rt_category\": \"0-20%\", \"rt_trip_counts_by_operator\": 1482.0, \"total_trips\": 1, \"percentage_of_trips\": 0.06747638326585695}, {\"_gtfs_dataset_name\": \"Foothill Vehicle Positions\", \"trip_category\": \"61-90 minutes\", \"rt_category\": \"21-40%\", \"rt_trip_counts_by_operator\": 1482.0, \"total_trips\": 2, \"percentage_of_trips\": 0.1349527665317139}, {\"_gtfs_dataset_name\": \"Foothill Vehicle Positions\", \"trip_category\": \"61-90 minutes\", \"rt_category\": \"41-60%\", \"rt_trip_counts_by_operator\": 1482.0, \"total_trips\": 4, \"percentage_of_trips\": 0.2699055330634278}, {\"_gtfs_dataset_name\": \"Foothill Vehicle Positions\", \"trip_category\": \"61-90 minutes\", \"rt_category\": \"61-80%\", \"rt_trip_counts_by_operator\": 1482.0, \"total_trips\": 29, \"percentage_of_trips\": 1.9568151147098516}, {\"_gtfs_dataset_name\": \"Foothill Vehicle Positions\", \"trip_category\": \"61-90 minutes\", \"rt_category\": \"81-100%\", \"rt_trip_counts_by_operator\": 1482.0, \"total_trips\": 590, \"percentage_of_trips\": 39.8110661268556}, {\"_gtfs_dataset_name\": \"Foothill Vehicle Positions\", \"trip_category\": \"90 + minutes\", \"rt_category\": \"0-20%\", \"rt_trip_counts_by_operator\": 1482.0, \"total_trips\": 2, \"percentage_of_trips\": 0.1349527665317139}, {\"_gtfs_dataset_name\": \"Foothill Vehicle Positions\", \"trip_category\": \"90 + minutes\", \"rt_category\": \"41-60%\", \"rt_trip_counts_by_operator\": 1482.0, \"total_trips\": 1, \"percentage_of_trips\": 0.06747638326585695}, {\"_gtfs_dataset_name\": \"Foothill Vehicle Positions\", \"trip_category\": \"90 + minutes\", \"rt_category\": \"61-80%\", \"rt_trip_counts_by_operator\": 1482.0, \"total_trips\": 16, \"percentage_of_trips\": 1.0796221322537112}, {\"_gtfs_dataset_name\": \"Foothill Vehicle Positions\", \"trip_category\": \"90 + minutes\", \"rt_category\": \"81-100%\", \"rt_trip_counts_by_operator\": 1482.0, \"total_trips\": 247, \"percentage_of_trips\": 16.666666666666664}, {\"_gtfs_dataset_name\": \"Fresno Vehicle Positions\", \"trip_category\": \"0 - 30 minutes\", \"rt_category\": \"0-20%\", \"rt_trip_counts_by_operator\": 1034.0, \"total_trips\": 1, \"percentage_of_trips\": 0.09671179883945842}, {\"_gtfs_dataset_name\": \"Fresno Vehicle Positions\", \"trip_category\": \"0 - 30 minutes\", \"rt_category\": \"21-40%\", \"rt_trip_counts_by_operator\": 1034.0, \"total_trips\": 2, \"percentage_of_trips\": 0.19342359767891684}, {\"_gtfs_dataset_name\": \"Fresno Vehicle Positions\", \"trip_category\": \"0 - 30 minutes\", \"rt_category\": \"61-80%\", \"rt_trip_counts_by_operator\": 1034.0, \"total_trips\": 11, \"percentage_of_trips\": 1.0638297872340425}, {\"_gtfs_dataset_name\": \"Fresno Vehicle Positions\", \"trip_category\": \"0 - 30 minutes\", \"rt_category\": \"81-100%\", \"rt_trip_counts_by_operator\": 1034.0, \"total_trips\": 126, \"percentage_of_trips\": 12.18568665377176}, {\"_gtfs_dataset_name\": \"Fresno Vehicle Positions\", \"trip_category\": \"31-60 minutes\", \"rt_category\": \"41-60%\", \"rt_trip_counts_by_operator\": 1034.0, \"total_trips\": 3, \"percentage_of_trips\": 0.2901353965183753}, {\"_gtfs_dataset_name\": \"Fresno Vehicle Positions\", \"trip_category\": \"31-60 minutes\", \"rt_category\": \"61-80%\", \"rt_trip_counts_by_operator\": 1034.0, \"total_trips\": 2, \"percentage_of_trips\": 0.19342359767891684}, {\"_gtfs_dataset_name\": \"Fresno Vehicle Positions\", \"trip_category\": \"31-60 minutes\", \"rt_category\": \"81-100%\", \"rt_trip_counts_by_operator\": 1034.0, \"total_trips\": 227, \"percentage_of_trips\": 21.953578336557058}, {\"_gtfs_dataset_name\": \"Fresno Vehicle Positions\", \"trip_category\": \"61-90 minutes\", \"rt_category\": \"41-60%\", \"rt_trip_counts_by_operator\": 1034.0, \"total_trips\": 1, \"percentage_of_trips\": 0.09671179883945842}, {\"_gtfs_dataset_name\": \"Fresno Vehicle Positions\", \"trip_category\": \"61-90 minutes\", \"rt_category\": \"81-100%\", \"rt_trip_counts_by_operator\": 1034.0, \"total_trips\": 573, \"percentage_of_trips\": 55.41586073500967}, {\"_gtfs_dataset_name\": \"Fresno Vehicle Positions\", \"trip_category\": \"90 + minutes\", \"rt_category\": \"81-100%\", \"rt_trip_counts_by_operator\": 1034.0, \"total_trips\": 88, \"percentage_of_trips\": 8.51063829787234}, {\"_gtfs_dataset_name\": \"GET VehiclePositions\", \"trip_category\": \"0 - 30 minutes\", \"rt_category\": \"0-20%\", \"rt_trip_counts_by_operator\": 549.0, \"total_trips\": 1, \"percentage_of_trips\": 0.18214936247723132}, {\"_gtfs_dataset_name\": \"GET VehiclePositions\", \"trip_category\": \"0 - 30 minutes\", \"rt_category\": \"41-60%\", \"rt_trip_counts_by_operator\": 549.0, \"total_trips\": 3, \"percentage_of_trips\": 0.546448087431694}, {\"_gtfs_dataset_name\": \"GET VehiclePositions\", \"trip_category\": \"0 - 30 minutes\", \"rt_category\": \"61-80%\", \"rt_trip_counts_by_operator\": 549.0, \"total_trips\": 12, \"percentage_of_trips\": 2.185792349726776}, {\"_gtfs_dataset_name\": \"GET VehiclePositions\", \"trip_category\": \"0 - 30 minutes\", \"rt_category\": \"81-100%\", \"rt_trip_counts_by_operator\": 549.0, \"total_trips\": 13, \"percentage_of_trips\": 2.3679417122040074}, {\"_gtfs_dataset_name\": \"GET VehiclePositions\", \"trip_category\": \"31-60 minutes\", \"rt_category\": \"41-60%\", \"rt_trip_counts_by_operator\": 549.0, \"total_trips\": 2, \"percentage_of_trips\": 0.36429872495446264}, {\"_gtfs_dataset_name\": \"GET VehiclePositions\", \"trip_category\": \"31-60 minutes\", \"rt_category\": \"61-80%\", \"rt_trip_counts_by_operator\": 549.0, \"total_trips\": 94, \"percentage_of_trips\": 17.122040072859747}, {\"_gtfs_dataset_name\": \"GET VehiclePositions\", \"trip_category\": \"31-60 minutes\", \"rt_category\": \"81-100%\", \"rt_trip_counts_by_operator\": 549.0, \"total_trips\": 133, \"percentage_of_trips\": 24.225865209471767}, {\"_gtfs_dataset_name\": \"GET VehiclePositions\", \"trip_category\": \"61-90 minutes\", \"rt_category\": \"21-40%\", \"rt_trip_counts_by_operator\": 549.0, \"total_trips\": 1, \"percentage_of_trips\": 0.18214936247723132}, {\"_gtfs_dataset_name\": \"GET VehiclePositions\", \"trip_category\": \"61-90 minutes\", \"rt_category\": \"41-60%\", \"rt_trip_counts_by_operator\": 549.0, \"total_trips\": 3, \"percentage_of_trips\": 0.546448087431694}, {\"_gtfs_dataset_name\": \"GET VehiclePositions\", \"trip_category\": \"61-90 minutes\", \"rt_category\": \"61-80%\", \"rt_trip_counts_by_operator\": 549.0, \"total_trips\": 55, \"percentage_of_trips\": 10.018214936247723}, {\"_gtfs_dataset_name\": \"GET VehiclePositions\", \"trip_category\": \"61-90 minutes\", \"rt_category\": \"81-100%\", \"rt_trip_counts_by_operator\": 549.0, \"total_trips\": 181, \"percentage_of_trips\": 32.96903460837887}, {\"_gtfs_dataset_name\": \"GET VehiclePositions\", \"trip_category\": \"90 + minutes\", \"rt_category\": \"21-40%\", \"rt_trip_counts_by_operator\": 549.0, \"total_trips\": 1, \"percentage_of_trips\": 0.18214936247723132}, {\"_gtfs_dataset_name\": \"GET VehiclePositions\", \"trip_category\": \"90 + minutes\", \"rt_category\": \"61-80%\", \"rt_trip_counts_by_operator\": 549.0, \"total_trips\": 5, \"percentage_of_trips\": 0.9107468123861567}, {\"_gtfs_dataset_name\": \"GET VehiclePositions\", \"trip_category\": \"90 + minutes\", \"rt_category\": \"81-100%\", \"rt_trip_counts_by_operator\": 549.0, \"total_trips\": 45, \"percentage_of_trips\": 8.19672131147541}, {\"_gtfs_dataset_name\": \"Humboldt Vehicle Positions\", \"trip_category\": \"0 - 30 minutes\", \"rt_category\": \"0-20%\", \"rt_trip_counts_by_operator\": 102.0, \"total_trips\": 2, \"percentage_of_trips\": 1.9607843137254901}, {\"_gtfs_dataset_name\": \"Humboldt Vehicle Positions\", \"trip_category\": \"31-60 minutes\", \"rt_category\": \"81-100%\", \"rt_trip_counts_by_operator\": 102.0, \"total_trips\": 51, \"percentage_of_trips\": 50.0}, {\"_gtfs_dataset_name\": \"Humboldt Vehicle Positions\", \"trip_category\": \"61-90 minutes\", \"rt_category\": \"61-80%\", \"rt_trip_counts_by_operator\": 102.0, \"total_trips\": 1, \"percentage_of_trips\": 0.9803921568627451}, {\"_gtfs_dataset_name\": \"Humboldt Vehicle Positions\", \"trip_category\": \"61-90 minutes\", \"rt_category\": \"81-100%\", \"rt_trip_counts_by_operator\": 102.0, \"total_trips\": 19, \"percentage_of_trips\": 18.627450980392158}, {\"_gtfs_dataset_name\": \"Humboldt Vehicle Positions\", \"trip_category\": \"90 + minutes\", \"rt_category\": \"61-80%\", \"rt_trip_counts_by_operator\": 102.0, \"total_trips\": 1, \"percentage_of_trips\": 0.9803921568627451}, {\"_gtfs_dataset_name\": \"Humboldt Vehicle Positions\", \"trip_category\": \"90 + minutes\", \"rt_category\": \"81-100%\", \"rt_trip_counts_by_operator\": 102.0, \"total_trips\": 28, \"percentage_of_trips\": 27.450980392156865}, {\"_gtfs_dataset_name\": \"Kings Vehicle Positions\", \"trip_category\": \"0 - 30 minutes\", \"rt_category\": \"41-60%\", \"rt_trip_counts_by_operator\": 246.0, \"total_trips\": 1, \"percentage_of_trips\": 0.40650406504065045}, {\"_gtfs_dataset_name\": \"Kings Vehicle Positions\", \"trip_category\": \"0 - 30 minutes\", \"rt_category\": \"61-80%\", \"rt_trip_counts_by_operator\": 246.0, \"total_trips\": 29, \"percentage_of_trips\": 11.788617886178862}, {\"_gtfs_dataset_name\": \"Kings Vehicle Positions\", \"trip_category\": \"0 - 30 minutes\", \"rt_category\": \"81-100%\", \"rt_trip_counts_by_operator\": 246.0, \"total_trips\": 86, \"percentage_of_trips\": 34.959349593495936}, {\"_gtfs_dataset_name\": \"Kings Vehicle Positions\", \"trip_category\": \"31-60 minutes\", \"rt_category\": \"61-80%\", \"rt_trip_counts_by_operator\": 246.0, \"total_trips\": 4, \"percentage_of_trips\": 1.6260162601626018}, {\"_gtfs_dataset_name\": \"Kings Vehicle Positions\", \"trip_category\": \"31-60 minutes\", \"rt_category\": \"81-100%\", \"rt_trip_counts_by_operator\": 246.0, \"total_trips\": 52, \"percentage_of_trips\": 21.138211382113823}, {\"_gtfs_dataset_name\": \"Kings Vehicle Positions\", \"trip_category\": \"61-90 minutes\", \"rt_category\": \"21-40%\", \"rt_trip_counts_by_operator\": 246.0, \"total_trips\": 1, \"percentage_of_trips\": 0.40650406504065045}, {\"_gtfs_dataset_name\": \"Kings Vehicle Positions\", \"trip_category\": \"61-90 minutes\", \"rt_category\": \"81-100%\", \"rt_trip_counts_by_operator\": 246.0, \"total_trips\": 20, \"percentage_of_trips\": 8.130081300813007}, {\"_gtfs_dataset_name\": \"Kings Vehicle Positions\", \"trip_category\": \"90 + minutes\", \"rt_category\": \"61-80%\", \"rt_trip_counts_by_operator\": 246.0, \"total_trips\": 8, \"percentage_of_trips\": 3.2520325203252036}, {\"_gtfs_dataset_name\": \"Kings Vehicle Positions\", \"trip_category\": \"90 + minutes\", \"rt_category\": \"81-100%\", \"rt_trip_counts_by_operator\": 246.0, \"total_trips\": 45, \"percentage_of_trips\": 18.29268292682927}, {\"_gtfs_dataset_name\": \"LA DOT VehiclePositions\", \"trip_category\": \"0 - 30 minutes\", \"rt_category\": \"0-20%\", \"rt_trip_counts_by_operator\": 2557.0, \"total_trips\": 57, \"percentage_of_trips\": 2.2291748142354324}, {\"_gtfs_dataset_name\": \"LA DOT VehiclePositions\", \"trip_category\": \"0 - 30 minutes\", \"rt_category\": \"21-40%\", \"rt_trip_counts_by_operator\": 2557.0, \"total_trips\": 46, \"percentage_of_trips\": 1.798983183418068}, {\"_gtfs_dataset_name\": \"LA DOT VehiclePositions\", \"trip_category\": \"0 - 30 minutes\", \"rt_category\": \"41-60%\", \"rt_trip_counts_by_operator\": 2557.0, \"total_trips\": 33, \"percentage_of_trips\": 1.2905748924520923}, {\"_gtfs_dataset_name\": \"LA DOT VehiclePositions\", \"trip_category\": \"0 - 30 minutes\", \"rt_category\": \"61-80%\", \"rt_trip_counts_by_operator\": 2557.0, \"total_trips\": 53, \"percentage_of_trips\": 2.0727414939382087}, {\"_gtfs_dataset_name\": \"LA DOT VehiclePositions\", \"trip_category\": \"0 - 30 minutes\", \"rt_category\": \"81-100%\", \"rt_trip_counts_by_operator\": 2557.0, \"total_trips\": 444, \"percentage_of_trips\": 17.364098552991788}, {\"_gtfs_dataset_name\": \"LA DOT VehiclePositions\", \"trip_category\": \"31-60 minutes\", \"rt_category\": \"0-20%\", \"rt_trip_counts_by_operator\": 2557.0, \"total_trips\": 3, \"percentage_of_trips\": 0.11732499022291748}, {\"_gtfs_dataset_name\": \"LA DOT VehiclePositions\", \"trip_category\": \"31-60 minutes\", \"rt_category\": \"21-40%\", \"rt_trip_counts_by_operator\": 2557.0, \"total_trips\": 6, \"percentage_of_trips\": 0.23464998044583496}, {\"_gtfs_dataset_name\": \"LA DOT VehiclePositions\", \"trip_category\": \"31-60 minutes\", \"rt_category\": \"41-60%\", \"rt_trip_counts_by_operator\": 2557.0, \"total_trips\": 17, \"percentage_of_trips\": 0.6648416112631991}, {\"_gtfs_dataset_name\": \"LA DOT VehiclePositions\", \"trip_category\": \"31-60 minutes\", \"rt_category\": \"61-80%\", \"rt_trip_counts_by_operator\": 2557.0, \"total_trips\": 45, \"percentage_of_trips\": 1.759874853343762}, {\"_gtfs_dataset_name\": \"LA DOT VehiclePositions\", \"trip_category\": \"31-60 minutes\", \"rt_category\": \"81-100%\", \"rt_trip_counts_by_operator\": 2557.0, \"total_trips\": 1189, \"percentage_of_trips\": 46.49980445834963}, {\"_gtfs_dataset_name\": \"LA DOT VehiclePositions\", \"trip_category\": \"61-90 minutes\", \"rt_category\": \"0-20%\", \"rt_trip_counts_by_operator\": 2557.0, \"total_trips\": 1, \"percentage_of_trips\": 0.03910833007430582}, {\"_gtfs_dataset_name\": \"LA DOT VehiclePositions\", \"trip_category\": \"61-90 minutes\", \"rt_category\": \"41-60%\", \"rt_trip_counts_by_operator\": 2557.0, \"total_trips\": 2, \"percentage_of_trips\": 0.07821666014861164}, {\"_gtfs_dataset_name\": \"LA DOT VehiclePositions\", \"trip_category\": \"61-90 minutes\", \"rt_category\": \"61-80%\", \"rt_trip_counts_by_operator\": 2557.0, \"total_trips\": 5, \"percentage_of_trips\": 0.19554165037152915}, {\"_gtfs_dataset_name\": \"LA DOT VehiclePositions\", \"trip_category\": \"61-90 minutes\", \"rt_category\": \"81-100%\", \"rt_trip_counts_by_operator\": 2557.0, \"total_trips\": 415, \"percentage_of_trips\": 16.229956980836917}, {\"_gtfs_dataset_name\": \"LA DOT VehiclePositions\", \"trip_category\": \"90 + minutes\", \"rt_category\": \"0-20%\", \"rt_trip_counts_by_operator\": 2557.0, \"total_trips\": 2, \"percentage_of_trips\": 0.07821666014861164}, {\"_gtfs_dataset_name\": \"LA DOT VehiclePositions\", \"trip_category\": \"90 + minutes\", \"rt_category\": \"21-40%\", \"rt_trip_counts_by_operator\": 2557.0, \"total_trips\": 1, \"percentage_of_trips\": 0.03910833007430582}, {\"_gtfs_dataset_name\": \"LA DOT VehiclePositions\", \"trip_category\": \"90 + minutes\", \"rt_category\": \"41-60%\", \"rt_trip_counts_by_operator\": 2557.0, \"total_trips\": 2, \"percentage_of_trips\": 0.07821666014861164}, {\"_gtfs_dataset_name\": \"LA DOT VehiclePositions\", \"trip_category\": \"90 + minutes\", \"rt_category\": \"61-80%\", \"rt_trip_counts_by_operator\": 2557.0, \"total_trips\": 9, \"percentage_of_trips\": 0.35197497066875244}, {\"_gtfs_dataset_name\": \"LA DOT VehiclePositions\", \"trip_category\": \"90 + minutes\", \"rt_category\": \"81-100%\", \"rt_trip_counts_by_operator\": 2557.0, \"total_trips\": 227, \"percentage_of_trips\": 8.877590926867422}, {\"_gtfs_dataset_name\": \"LA Metro Bus Vehicle Positions\", \"trip_category\": \"0 - 30 minutes\", \"rt_category\": \"0-20%\", \"rt_trip_counts_by_operator\": 10485.0, \"total_trips\": 67, \"percentage_of_trips\": 0.6390081068192656}, {\"_gtfs_dataset_name\": \"LA Metro Bus Vehicle Positions\", \"trip_category\": \"0 - 30 minutes\", \"rt_category\": \"21-40%\", \"rt_trip_counts_by_operator\": 10485.0, \"total_trips\": 22, \"percentage_of_trips\": 0.20982355746304243}, {\"_gtfs_dataset_name\": \"LA Metro Bus Vehicle Positions\", \"trip_category\": \"0 - 30 minutes\", \"rt_category\": \"41-60%\", \"rt_trip_counts_by_operator\": 10485.0, \"total_trips\": 6, \"percentage_of_trips\": 0.057224606580829764}, {\"_gtfs_dataset_name\": \"LA Metro Bus Vehicle Positions\", \"trip_category\": \"0 - 30 minutes\", \"rt_category\": \"61-80%\", \"rt_trip_counts_by_operator\": 10485.0, \"total_trips\": 24, \"percentage_of_trips\": 0.22889842632331905}, {\"_gtfs_dataset_name\": \"LA Metro Bus Vehicle Positions\", \"trip_category\": \"0 - 30 minutes\", \"rt_category\": \"81-100%\", \"rt_trip_counts_by_operator\": 10485.0, \"total_trips\": 342, \"percentage_of_trips\": 3.2618025751072963}, {\"_gtfs_dataset_name\": \"LA Metro Bus Vehicle Positions\", \"trip_category\": \"31-60 minutes\", \"rt_category\": \"0-20%\", \"rt_trip_counts_by_operator\": 10485.0, \"total_trips\": 19, \"percentage_of_trips\": 0.18121125417262757}, {\"_gtfs_dataset_name\": \"LA Metro Bus Vehicle Positions\", \"trip_category\": \"31-60 minutes\", \"rt_category\": \"21-40%\", \"rt_trip_counts_by_operator\": 10485.0, \"total_trips\": 121, \"percentage_of_trips\": 1.1540295660467335}, {\"_gtfs_dataset_name\": \"LA Metro Bus Vehicle Positions\", \"trip_category\": \"31-60 minutes\", \"rt_category\": \"41-60%\", \"rt_trip_counts_by_operator\": 10485.0, \"total_trips\": 40, \"percentage_of_trips\": 0.3814973772055317}, {\"_gtfs_dataset_name\": \"LA Metro Bus Vehicle Positions\", \"trip_category\": \"31-60 minutes\", \"rt_category\": \"61-80%\", \"rt_trip_counts_by_operator\": 10485.0, \"total_trips\": 63, \"percentage_of_trips\": 0.6008583690987125}, {\"_gtfs_dataset_name\": \"LA Metro Bus Vehicle Positions\", \"trip_category\": \"31-60 minutes\", \"rt_category\": \"81-100%\", \"rt_trip_counts_by_operator\": 10485.0, \"total_trips\": 1020, \"percentage_of_trips\": 9.72818311874106}, {\"_gtfs_dataset_name\": \"LA Metro Bus Vehicle Positions\", \"trip_category\": \"61-90 minutes\", \"rt_category\": \"0-20%\", \"rt_trip_counts_by_operator\": 10485.0, \"total_trips\": 11, \"percentage_of_trips\": 0.10491177873152122}, {\"_gtfs_dataset_name\": \"LA Metro Bus Vehicle Positions\", \"trip_category\": \"61-90 minutes\", \"rt_category\": \"21-40%\", \"rt_trip_counts_by_operator\": 10485.0, \"total_trips\": 213, \"percentage_of_trips\": 2.0314735336194563}, {\"_gtfs_dataset_name\": \"LA Metro Bus Vehicle Positions\", \"trip_category\": \"61-90 minutes\", \"rt_category\": \"41-60%\", \"rt_trip_counts_by_operator\": 10485.0, \"total_trips\": 140, \"percentage_of_trips\": 1.335240820219361}, {\"_gtfs_dataset_name\": \"LA Metro Bus Vehicle Positions\", \"trip_category\": \"61-90 minutes\", \"rt_category\": \"61-80%\", \"rt_trip_counts_by_operator\": 10485.0, \"total_trips\": 61, \"percentage_of_trips\": 0.5817835002384358}, {\"_gtfs_dataset_name\": \"LA Metro Bus Vehicle Positions\", \"trip_category\": \"61-90 minutes\", \"rt_category\": \"81-100%\", \"rt_trip_counts_by_operator\": 10485.0, \"total_trips\": 3060, \"percentage_of_trips\": 29.184549356223176}, {\"_gtfs_dataset_name\": \"LA Metro Bus Vehicle Positions\", \"trip_category\": \"90 + minutes\", \"rt_category\": \"0-20%\", \"rt_trip_counts_by_operator\": 10485.0, \"total_trips\": 13, \"percentage_of_trips\": 0.12398664759179781}, {\"_gtfs_dataset_name\": \"LA Metro Bus Vehicle Positions\", \"trip_category\": \"90 + minutes\", \"rt_category\": \"21-40%\", \"rt_trip_counts_by_operator\": 10485.0, \"total_trips\": 262, \"percentage_of_trips\": 2.4988078206962325}, {\"_gtfs_dataset_name\": \"LA Metro Bus Vehicle Positions\", \"trip_category\": \"90 + minutes\", \"rt_category\": \"41-60%\", \"rt_trip_counts_by_operator\": 10485.0, \"total_trips\": 231, \"percentage_of_trips\": 2.203147353361946}, {\"_gtfs_dataset_name\": \"LA Metro Bus Vehicle Positions\", \"trip_category\": \"90 + minutes\", \"rt_category\": \"61-80%\", \"rt_trip_counts_by_operator\": 10485.0, \"total_trips\": 41, \"percentage_of_trips\": 0.39103481163567005}, {\"_gtfs_dataset_name\": \"LA Metro Bus Vehicle Positions\", \"trip_category\": \"90 + minutes\", \"rt_category\": \"81-100%\", \"rt_trip_counts_by_operator\": 10485.0, \"total_trips\": 4729, \"percentage_of_trips\": 45.10252742012399}, {\"_gtfs_dataset_name\": \"LA Metro Rail Vehicle Positions\", \"trip_category\": \"0 - 30 minutes\", \"rt_category\": \"0-20%\", \"rt_trip_counts_by_operator\": 1006.0, \"total_trips\": 12, \"percentage_of_trips\": 1.1928429423459244}, {\"_gtfs_dataset_name\": \"LA Metro Rail Vehicle Positions\", \"trip_category\": \"0 - 30 minutes\", \"rt_category\": \"21-40%\", \"rt_trip_counts_by_operator\": 1006.0, \"total_trips\": 16, \"percentage_of_trips\": 1.5904572564612325}, {\"_gtfs_dataset_name\": \"LA Metro Rail Vehicle Positions\", \"trip_category\": \"0 - 30 minutes\", \"rt_category\": \"41-60%\", \"rt_trip_counts_by_operator\": 1006.0, \"total_trips\": 5, \"percentage_of_trips\": 0.4970178926441352}, {\"_gtfs_dataset_name\": \"LA Metro Rail Vehicle Positions\", \"trip_category\": \"0 - 30 minutes\", \"rt_category\": \"61-80%\", \"rt_trip_counts_by_operator\": 1006.0, \"total_trips\": 10, \"percentage_of_trips\": 0.9940357852882704}, {\"_gtfs_dataset_name\": \"LA Metro Rail Vehicle Positions\", \"trip_category\": \"0 - 30 minutes\", \"rt_category\": \"81-100%\", \"rt_trip_counts_by_operator\": 1006.0, \"total_trips\": 250, \"percentage_of_trips\": 24.85089463220676}, {\"_gtfs_dataset_name\": \"LA Metro Rail Vehicle Positions\", \"trip_category\": \"31-60 minutes\", \"rt_category\": \"41-60%\", \"rt_trip_counts_by_operator\": 1006.0, \"total_trips\": 3, \"percentage_of_trips\": 0.2982107355864811}, {\"_gtfs_dataset_name\": \"LA Metro Rail Vehicle Positions\", \"trip_category\": \"31-60 minutes\", \"rt_category\": \"61-80%\", \"rt_trip_counts_by_operator\": 1006.0, \"total_trips\": 18, \"percentage_of_trips\": 1.7892644135188867}, {\"_gtfs_dataset_name\": \"LA Metro Rail Vehicle Positions\", \"trip_category\": \"31-60 minutes\", \"rt_category\": \"81-100%\", \"rt_trip_counts_by_operator\": 1006.0, \"total_trips\": 518, \"percentage_of_trips\": 51.491053677932406}, {\"_gtfs_dataset_name\": \"LA Metro Rail Vehicle Positions\", \"trip_category\": \"61-90 minutes\", \"rt_category\": \"0-20%\", \"rt_trip_counts_by_operator\": 1006.0, \"total_trips\": 4, \"percentage_of_trips\": 0.3976143141153081}, {\"_gtfs_dataset_name\": \"LA Metro Rail Vehicle Positions\", \"trip_category\": \"61-90 minutes\", \"rt_category\": \"61-80%\", \"rt_trip_counts_by_operator\": 1006.0, \"total_trips\": 3, \"percentage_of_trips\": 0.2982107355864811}, {\"_gtfs_dataset_name\": \"LA Metro Rail Vehicle Positions\", \"trip_category\": \"61-90 minutes\", \"rt_category\": \"81-100%\", \"rt_trip_counts_by_operator\": 1006.0, \"total_trips\": 163, \"percentage_of_trips\": 16.202783300198806}, {\"_gtfs_dataset_name\": \"LA Metro Rail Vehicle Positions\", \"trip_category\": \"90 + minutes\", \"rt_category\": \"0-20%\", \"rt_trip_counts_by_operator\": 1006.0, \"total_trips\": 1, \"percentage_of_trips\": 0.09940357852882703}, {\"_gtfs_dataset_name\": \"LA Metro Rail Vehicle Positions\", \"trip_category\": \"90 + minutes\", \"rt_category\": \"81-100%\", \"rt_trip_counts_by_operator\": 1006.0, \"total_trips\": 3, \"percentage_of_trips\": 0.2982107355864811}, {\"_gtfs_dataset_name\": \"Lake Vehicle Positions\", \"trip_category\": \"0 - 30 minutes\", \"rt_category\": \"0-20%\", \"rt_trip_counts_by_operator\": 54.0, \"total_trips\": 6, \"percentage_of_trips\": 11.11111111111111}, {\"_gtfs_dataset_name\": \"Lake Vehicle Positions\", \"trip_category\": \"0 - 30 minutes\", \"rt_category\": \"21-40%\", \"rt_trip_counts_by_operator\": 54.0, \"total_trips\": 2, \"percentage_of_trips\": 3.7037037037037033}, {\"_gtfs_dataset_name\": \"Lake Vehicle Positions\", \"trip_category\": \"0 - 30 minutes\", \"rt_category\": \"81-100%\", \"rt_trip_counts_by_operator\": 54.0, \"total_trips\": 2, \"percentage_of_trips\": 3.7037037037037033}, {\"_gtfs_dataset_name\": \"Lake Vehicle Positions\", \"trip_category\": \"31-60 minutes\", \"rt_category\": \"61-80%\", \"rt_trip_counts_by_operator\": 54.0, \"total_trips\": 3, \"percentage_of_trips\": 5.555555555555555}, {\"_gtfs_dataset_name\": \"Lake Vehicle Positions\", \"trip_category\": \"31-60 minutes\", \"rt_category\": \"81-100%\", \"rt_trip_counts_by_operator\": 54.0, \"total_trips\": 18, \"percentage_of_trips\": 33.33333333333333}, {\"_gtfs_dataset_name\": \"Lake Vehicle Positions\", \"trip_category\": \"61-90 minutes\", \"rt_category\": \"61-80%\", \"rt_trip_counts_by_operator\": 54.0, \"total_trips\": 1, \"percentage_of_trips\": 1.8518518518518516}, {\"_gtfs_dataset_name\": \"Lake Vehicle Positions\", \"trip_category\": \"61-90 minutes\", \"rt_category\": \"81-100%\", \"rt_trip_counts_by_operator\": 54.0, \"total_trips\": 14, \"percentage_of_trips\": 25.925925925925924}, {\"_gtfs_dataset_name\": \"Lake Vehicle Positions\", \"trip_category\": \"90 + minutes\", \"rt_category\": \"61-80%\", \"rt_trip_counts_by_operator\": 54.0, \"total_trips\": 1, \"percentage_of_trips\": 1.8518518518518516}, {\"_gtfs_dataset_name\": \"Lake Vehicle Positions\", \"trip_category\": \"90 + minutes\", \"rt_category\": \"81-100%\", \"rt_trip_counts_by_operator\": 54.0, \"total_trips\": 7, \"percentage_of_trips\": 12.962962962962962}, {\"_gtfs_dataset_name\": \"Long Beach VehiclePositions\", \"trip_category\": \"0 - 30 minutes\", \"rt_category\": \"0-20%\", \"rt_trip_counts_by_operator\": 1549.0, \"total_trips\": 3, \"percentage_of_trips\": 0.19367333763718528}, {\"_gtfs_dataset_name\": \"Long Beach VehiclePositions\", \"trip_category\": \"0 - 30 minutes\", \"rt_category\": \"21-40%\", \"rt_trip_counts_by_operator\": 1549.0, \"total_trips\": 1, \"percentage_of_trips\": 0.06455777921239508}, {\"_gtfs_dataset_name\": \"Long Beach VehiclePositions\", \"trip_category\": \"0 - 30 minutes\", \"rt_category\": \"41-60%\", \"rt_trip_counts_by_operator\": 1549.0, \"total_trips\": 1, \"percentage_of_trips\": 0.06455777921239508}, {\"_gtfs_dataset_name\": \"Long Beach VehiclePositions\", \"trip_category\": \"0 - 30 minutes\", \"rt_category\": \"61-80%\", \"rt_trip_counts_by_operator\": 1549.0, \"total_trips\": 1, \"percentage_of_trips\": 0.06455777921239508}, {\"_gtfs_dataset_name\": \"Long Beach VehiclePositions\", \"trip_category\": \"0 - 30 minutes\", \"rt_category\": \"81-100%\", \"rt_trip_counts_by_operator\": 1549.0, \"total_trips\": 112, \"percentage_of_trips\": 7.230471271788251}, {\"_gtfs_dataset_name\": \"Long Beach VehiclePositions\", \"trip_category\": \"31-60 minutes\", \"rt_category\": \"21-40%\", \"rt_trip_counts_by_operator\": 1549.0, \"total_trips\": 3, \"percentage_of_trips\": 0.19367333763718528}, {\"_gtfs_dataset_name\": \"Long Beach VehiclePositions\", \"trip_category\": \"31-60 minutes\", \"rt_category\": \"61-80%\", \"rt_trip_counts_by_operator\": 1549.0, \"total_trips\": 6, \"percentage_of_trips\": 0.38734667527437056}, {\"_gtfs_dataset_name\": \"Long Beach VehiclePositions\", \"trip_category\": \"31-60 minutes\", \"rt_category\": \"81-100%\", \"rt_trip_counts_by_operator\": 1549.0, \"total_trips\": 431, \"percentage_of_trips\": 27.824402840542284}, {\"_gtfs_dataset_name\": \"Long Beach VehiclePositions\", \"trip_category\": \"61-90 minutes\", \"rt_category\": \"61-80%\", \"rt_trip_counts_by_operator\": 1549.0, \"total_trips\": 6, \"percentage_of_trips\": 0.38734667527437056}, {\"_gtfs_dataset_name\": \"Long Beach VehiclePositions\", \"trip_category\": \"61-90 minutes\", \"rt_category\": \"81-100%\", \"rt_trip_counts_by_operator\": 1549.0, \"total_trips\": 709, \"percentage_of_trips\": 45.77146546158812}, {\"_gtfs_dataset_name\": \"Long Beach VehiclePositions\", \"trip_category\": \"90 + minutes\", \"rt_category\": \"61-80%\", \"rt_trip_counts_by_operator\": 1549.0, \"total_trips\": 1, \"percentage_of_trips\": 0.06455777921239508}, {\"_gtfs_dataset_name\": \"Long Beach VehiclePositions\", \"trip_category\": \"90 + minutes\", \"rt_category\": \"81-100%\", \"rt_trip_counts_by_operator\": 1549.0, \"total_trips\": 275, \"percentage_of_trips\": 17.75338928340865}, {\"_gtfs_dataset_name\": \"Madera County Connection Vehicle Positions\", \"trip_category\": \"0 - 30 minutes\", \"rt_category\": \"41-60%\", \"rt_trip_counts_by_operator\": 23.0, \"total_trips\": 1, \"percentage_of_trips\": 4.3478260869565215}, {\"_gtfs_dataset_name\": \"Madera County Connection Vehicle Positions\", \"trip_category\": \"0 - 30 minutes\", \"rt_category\": \"81-100%\", \"rt_trip_counts_by_operator\": 23.0, \"total_trips\": 1, \"percentage_of_trips\": 4.3478260869565215}, {\"_gtfs_dataset_name\": \"Madera County Connection Vehicle Positions\", \"trip_category\": \"31-60 minutes\", \"rt_category\": \"61-80%\", \"rt_trip_counts_by_operator\": 23.0, \"total_trips\": 2, \"percentage_of_trips\": 8.695652173913043}, {\"_gtfs_dataset_name\": \"Madera County Connection Vehicle Positions\", \"trip_category\": \"31-60 minutes\", \"rt_category\": \"81-100%\", \"rt_trip_counts_by_operator\": 23.0, \"total_trips\": 11, \"percentage_of_trips\": 47.82608695652174}, {\"_gtfs_dataset_name\": \"Madera County Connection Vehicle Positions\", \"trip_category\": \"90 + minutes\", \"rt_category\": \"81-100%\", \"rt_trip_counts_by_operator\": 23.0, \"total_trips\": 8, \"percentage_of_trips\": 34.78260869565217}, {\"_gtfs_dataset_name\": \"Montebello Vehicle Positions\", \"trip_category\": \"31-60 minutes\", \"rt_category\": \"61-80%\", \"rt_trip_counts_by_operator\": 21.0, \"total_trips\": 1, \"percentage_of_trips\": 4.761904761904762}, {\"_gtfs_dataset_name\": \"Montebello Vehicle Positions\", \"trip_category\": \"31-60 minutes\", \"rt_category\": \"81-100%\", \"rt_trip_counts_by_operator\": 21.0, \"total_trips\": 20, \"percentage_of_trips\": 95.23809523809523}, {\"_gtfs_dataset_name\": \"Monterey Salinas VehiclePositions\", \"trip_category\": \"0 - 30 minutes\", \"rt_category\": \"0-20%\", \"rt_trip_counts_by_operator\": 870.0, \"total_trips\": 1, \"percentage_of_trips\": 0.11494252873563218}, {\"_gtfs_dataset_name\": \"Monterey Salinas VehiclePositions\", \"trip_category\": \"0 - 30 minutes\", \"rt_category\": \"21-40%\", \"rt_trip_counts_by_operator\": 870.0, \"total_trips\": 4, \"percentage_of_trips\": 0.45977011494252873}, {\"_gtfs_dataset_name\": \"Monterey Salinas VehiclePositions\", \"trip_category\": \"0 - 30 minutes\", \"rt_category\": \"41-60%\", \"rt_trip_counts_by_operator\": 870.0, \"total_trips\": 3, \"percentage_of_trips\": 0.3448275862068966}, {\"_gtfs_dataset_name\": \"Monterey Salinas VehiclePositions\", \"trip_category\": \"0 - 30 minutes\", \"rt_category\": \"61-80%\", \"rt_trip_counts_by_operator\": 870.0, \"total_trips\": 9, \"percentage_of_trips\": 1.0344827586206897}, {\"_gtfs_dataset_name\": \"Monterey Salinas VehiclePositions\", \"trip_category\": \"0 - 30 minutes\", \"rt_category\": \"81-100%\", \"rt_trip_counts_by_operator\": 870.0, \"total_trips\": 315, \"percentage_of_trips\": 36.206896551724135}, {\"_gtfs_dataset_name\": \"Monterey Salinas VehiclePositions\", \"trip_category\": \"31-60 minutes\", \"rt_category\": \"21-40%\", \"rt_trip_counts_by_operator\": 870.0, \"total_trips\": 4, \"percentage_of_trips\": 0.45977011494252873}, {\"_gtfs_dataset_name\": \"Monterey Salinas VehiclePositions\", \"trip_category\": \"31-60 minutes\", \"rt_category\": \"41-60%\", \"rt_trip_counts_by_operator\": 870.0, \"total_trips\": 5, \"percentage_of_trips\": 0.5747126436781609}, {\"_gtfs_dataset_name\": \"Monterey Salinas VehiclePositions\", \"trip_category\": \"31-60 minutes\", \"rt_category\": \"61-80%\", \"rt_trip_counts_by_operator\": 870.0, \"total_trips\": 6, \"percentage_of_trips\": 0.6896551724137931}, {\"_gtfs_dataset_name\": \"Monterey Salinas VehiclePositions\", \"trip_category\": \"31-60 minutes\", \"rt_category\": \"81-100%\", \"rt_trip_counts_by_operator\": 870.0, \"total_trips\": 407, \"percentage_of_trips\": 46.7816091954023}, {\"_gtfs_dataset_name\": \"Monterey Salinas VehiclePositions\", \"trip_category\": \"61-90 minutes\", \"rt_category\": \"61-80%\", \"rt_trip_counts_by_operator\": 870.0, \"total_trips\": 3, \"percentage_of_trips\": 0.3448275862068966}, {\"_gtfs_dataset_name\": \"Monterey Salinas VehiclePositions\", \"trip_category\": \"61-90 minutes\", \"rt_category\": \"81-100%\", \"rt_trip_counts_by_operator\": 870.0, \"total_trips\": 69, \"percentage_of_trips\": 7.931034482758621}, {\"_gtfs_dataset_name\": \"Monterey Salinas VehiclePositions\", \"trip_category\": \"90 + minutes\", \"rt_category\": \"61-80%\", \"rt_trip_counts_by_operator\": 870.0, \"total_trips\": 1, \"percentage_of_trips\": 0.11494252873563218}, {\"_gtfs_dataset_name\": \"Monterey Salinas VehiclePositions\", \"trip_category\": \"90 + minutes\", \"rt_category\": \"81-100%\", \"rt_trip_counts_by_operator\": 870.0, \"total_trips\": 43, \"percentage_of_trips\": 4.942528735632184}, {\"_gtfs_dataset_name\": \"Nevada County Vehicle Positions\", \"trip_category\": \"0 - 30 minutes\", \"rt_category\": \"0-20%\", \"rt_trip_counts_by_operator\": 104.0, \"total_trips\": 7, \"percentage_of_trips\": 6.730769230769231}, {\"_gtfs_dataset_name\": \"Nevada County Vehicle Positions\", \"trip_category\": \"0 - 30 minutes\", \"rt_category\": \"21-40%\", \"rt_trip_counts_by_operator\": 104.0, \"total_trips\": 1, \"percentage_of_trips\": 0.9615384615384616}, {\"_gtfs_dataset_name\": \"Nevada County Vehicle Positions\", \"trip_category\": \"0 - 30 minutes\", \"rt_category\": \"41-60%\", \"rt_trip_counts_by_operator\": 104.0, \"total_trips\": 3, \"percentage_of_trips\": 2.8846153846153846}, {\"_gtfs_dataset_name\": \"Nevada County Vehicle Positions\", \"trip_category\": \"0 - 30 minutes\", \"rt_category\": \"61-80%\", \"rt_trip_counts_by_operator\": 104.0, \"total_trips\": 2, \"percentage_of_trips\": 1.9230769230769231}, {\"_gtfs_dataset_name\": \"Nevada County Vehicle Positions\", \"trip_category\": \"0 - 30 minutes\", \"rt_category\": \"81-100%\", \"rt_trip_counts_by_operator\": 104.0, \"total_trips\": 40, \"percentage_of_trips\": 38.46153846153847}, {\"_gtfs_dataset_name\": \"Nevada County Vehicle Positions\", \"trip_category\": \"31-60 minutes\", \"rt_category\": \"41-60%\", \"rt_trip_counts_by_operator\": 104.0, \"total_trips\": 1, \"percentage_of_trips\": 0.9615384615384616}, {\"_gtfs_dataset_name\": \"Nevada County Vehicle Positions\", \"trip_category\": \"31-60 minutes\", \"rt_category\": \"61-80%\", \"rt_trip_counts_by_operator\": 104.0, \"total_trips\": 5, \"percentage_of_trips\": 4.807692307692308}, {\"_gtfs_dataset_name\": \"Nevada County Vehicle Positions\", \"trip_category\": \"31-60 minutes\", \"rt_category\": \"81-100%\", \"rt_trip_counts_by_operator\": 104.0, \"total_trips\": 30, \"percentage_of_trips\": 28.846153846153843}, {\"_gtfs_dataset_name\": \"Nevada County Vehicle Positions\", \"trip_category\": \"61-90 minutes\", \"rt_category\": \"0-20%\", \"rt_trip_counts_by_operator\": 104.0, \"total_trips\": 1, \"percentage_of_trips\": 0.9615384615384616}, {\"_gtfs_dataset_name\": \"Nevada County Vehicle Positions\", \"trip_category\": \"61-90 minutes\", \"rt_category\": \"81-100%\", \"rt_trip_counts_by_operator\": 104.0, \"total_trips\": 4, \"percentage_of_trips\": 3.8461538461538463}, {\"_gtfs_dataset_name\": \"Nevada County Vehicle Positions\", \"trip_category\": \"90 + minutes\", \"rt_category\": \"61-80%\", \"rt_trip_counts_by_operator\": 104.0, \"total_trips\": 3, \"percentage_of_trips\": 2.8846153846153846}, {\"_gtfs_dataset_name\": \"Nevada County Vehicle Positions\", \"trip_category\": \"90 + minutes\", \"rt_category\": \"81-100%\", \"rt_trip_counts_by_operator\": 104.0, \"total_trips\": 7, \"percentage_of_trips\": 6.730769230769231}, {\"_gtfs_dataset_name\": \"None\", \"trip_category\": \"0 - 30 minutes\", \"rt_category\": \"0-20%\", \"rt_trip_counts_by_operator\": 0.0, \"total_trips\": 38525, \"percentage_of_trips\": null}, {\"_gtfs_dataset_name\": \"North County Vehicle Positions\", \"trip_category\": \"0 - 30 minutes\", \"rt_category\": \"0-20%\", \"rt_trip_counts_by_operator\": 1026.0, \"total_trips\": 4, \"percentage_of_trips\": 0.3898635477582846}, {\"_gtfs_dataset_name\": \"North County Vehicle Positions\", \"trip_category\": \"0 - 30 minutes\", \"rt_category\": \"61-80%\", \"rt_trip_counts_by_operator\": 1026.0, \"total_trips\": 3, \"percentage_of_trips\": 0.29239766081871343}, {\"_gtfs_dataset_name\": \"North County Vehicle Positions\", \"trip_category\": \"0 - 30 minutes\", \"rt_category\": \"81-100%\", \"rt_trip_counts_by_operator\": 1026.0, \"total_trips\": 98, \"percentage_of_trips\": 9.551656920077972}, {\"_gtfs_dataset_name\": \"North County Vehicle Positions\", \"trip_category\": \"31-60 minutes\", \"rt_category\": \"21-40%\", \"rt_trip_counts_by_operator\": 1026.0, \"total_trips\": 1, \"percentage_of_trips\": 0.09746588693957114}, {\"_gtfs_dataset_name\": \"North County Vehicle Positions\", \"trip_category\": \"31-60 minutes\", \"rt_category\": \"61-80%\", \"rt_trip_counts_by_operator\": 1026.0, \"total_trips\": 6, \"percentage_of_trips\": 0.5847953216374269}, {\"_gtfs_dataset_name\": \"North County Vehicle Positions\", \"trip_category\": \"31-60 minutes\", \"rt_category\": \"81-100%\", \"rt_trip_counts_by_operator\": 1026.0, \"total_trips\": 471, \"percentage_of_trips\": 45.90643274853801}, {\"_gtfs_dataset_name\": \"North County Vehicle Positions\", \"trip_category\": \"61-90 minutes\", \"rt_category\": \"81-100%\", \"rt_trip_counts_by_operator\": 1026.0, \"total_trips\": 266, \"percentage_of_trips\": 25.925925925925924}, {\"_gtfs_dataset_name\": \"North County Vehicle Positions\", \"trip_category\": \"90 + minutes\", \"rt_category\": \"81-100%\", \"rt_trip_counts_by_operator\": 1026.0, \"total_trips\": 177, \"percentage_of_trips\": 17.251461988304094}, {\"_gtfs_dataset_name\": \"Norwalk Vehicle Positions\", \"trip_category\": \"61-90 minutes\", \"rt_category\": \"81-100%\", \"rt_trip_counts_by_operator\": 13.0, \"total_trips\": 7, \"percentage_of_trips\": 53.84615384615385}, {\"_gtfs_dataset_name\": \"Norwalk Vehicle Positions\", \"trip_category\": \"90 + minutes\", \"rt_category\": \"81-100%\", \"rt_trip_counts_by_operator\": 13.0, \"total_trips\": 6, \"percentage_of_trips\": 46.15384615384615}, {\"_gtfs_dataset_name\": \"OCTA VehiclePositions\", \"trip_category\": \"0 - 30 minutes\", \"rt_category\": \"0-20%\", \"rt_trip_counts_by_operator\": 2499.0, \"total_trips\": 4, \"percentage_of_trips\": 0.1600640256102441}, {\"_gtfs_dataset_name\": \"OCTA VehiclePositions\", \"trip_category\": \"0 - 30 minutes\", \"rt_category\": \"61-80%\", \"rt_trip_counts_by_operator\": 2499.0, \"total_trips\": 29, \"percentage_of_trips\": 1.1604641856742697}, {\"_gtfs_dataset_name\": \"OCTA VehiclePositions\", \"trip_category\": \"0 - 30 minutes\", \"rt_category\": \"81-100%\", \"rt_trip_counts_by_operator\": 2499.0, \"total_trips\": 149, \"percentage_of_trips\": 5.9623849539815925}, {\"_gtfs_dataset_name\": \"OCTA VehiclePositions\", \"trip_category\": \"31-60 minutes\", \"rt_category\": \"0-20%\", \"rt_trip_counts_by_operator\": 2499.0, \"total_trips\": 1, \"percentage_of_trips\": 0.040016006402561026}, {\"_gtfs_dataset_name\": \"OCTA VehiclePositions\", \"trip_category\": \"31-60 minutes\", \"rt_category\": \"41-60%\", \"rt_trip_counts_by_operator\": 2499.0, \"total_trips\": 1, \"percentage_of_trips\": 0.040016006402561026}, {\"_gtfs_dataset_name\": \"OCTA VehiclePositions\", \"trip_category\": \"31-60 minutes\", \"rt_category\": \"61-80%\", \"rt_trip_counts_by_operator\": 2499.0, \"total_trips\": 16, \"percentage_of_trips\": 0.6402561024409764}, {\"_gtfs_dataset_name\": \"OCTA VehiclePositions\", \"trip_category\": \"31-60 minutes\", \"rt_category\": \"81-100%\", \"rt_trip_counts_by_operator\": 2499.0, \"total_trips\": 400, \"percentage_of_trips\": 16.00640256102441}, {\"_gtfs_dataset_name\": \"OCTA VehiclePositions\", \"trip_category\": \"61-90 minutes\", \"rt_category\": \"61-80%\", \"rt_trip_counts_by_operator\": 2499.0, \"total_trips\": 9, \"percentage_of_trips\": 0.36014405762304924}, {\"_gtfs_dataset_name\": \"OCTA VehiclePositions\", \"trip_category\": \"61-90 minutes\", \"rt_category\": \"81-100%\", \"rt_trip_counts_by_operator\": 2499.0, \"total_trips\": 866, \"percentage_of_trips\": 34.65386154461785}, {\"_gtfs_dataset_name\": \"OCTA VehiclePositions\", \"trip_category\": \"90 + minutes\", \"rt_category\": \"41-60%\", \"rt_trip_counts_by_operator\": 2499.0, \"total_trips\": 1, \"percentage_of_trips\": 0.040016006402561026}, {\"_gtfs_dataset_name\": \"OCTA VehiclePositions\", \"trip_category\": \"90 + minutes\", \"rt_category\": \"61-80%\", \"rt_trip_counts_by_operator\": 2499.0, \"total_trips\": 5, \"percentage_of_trips\": 0.20008003201280514}, {\"_gtfs_dataset_name\": \"OCTA VehiclePositions\", \"trip_category\": \"90 + minutes\", \"rt_category\": \"81-100%\", \"rt_trip_counts_by_operator\": 2499.0, \"total_trips\": 1018, \"percentage_of_trips\": 40.73629451780712}, {\"_gtfs_dataset_name\": \"Pasadena VehiclePositions\", \"trip_category\": \"0 - 30 minutes\", \"rt_category\": \"0-20%\", \"rt_trip_counts_by_operator\": 293.0, \"total_trips\": 2, \"percentage_of_trips\": 0.6825938566552902}, {\"_gtfs_dataset_name\": \"Pasadena VehiclePositions\", \"trip_category\": \"0 - 30 minutes\", \"rt_category\": \"21-40%\", \"rt_trip_counts_by_operator\": 293.0, \"total_trips\": 2, \"percentage_of_trips\": 0.6825938566552902}, {\"_gtfs_dataset_name\": \"Pasadena VehiclePositions\", \"trip_category\": \"0 - 30 minutes\", \"rt_category\": \"61-80%\", \"rt_trip_counts_by_operator\": 293.0, \"total_trips\": 1, \"percentage_of_trips\": 0.3412969283276451}, {\"_gtfs_dataset_name\": \"Pasadena VehiclePositions\", \"trip_category\": \"0 - 30 minutes\", \"rt_category\": \"81-100%\", \"rt_trip_counts_by_operator\": 293.0, \"total_trips\": 106, \"percentage_of_trips\": 36.177474402730375}, {\"_gtfs_dataset_name\": \"Pasadena VehiclePositions\", \"trip_category\": \"31-60 minutes\", \"rt_category\": \"61-80%\", \"rt_trip_counts_by_operator\": 293.0, \"total_trips\": 2, \"percentage_of_trips\": 0.6825938566552902}, {\"_gtfs_dataset_name\": \"Pasadena VehiclePositions\", \"trip_category\": \"31-60 minutes\", \"rt_category\": \"81-100%\", \"rt_trip_counts_by_operator\": 293.0, \"total_trips\": 110, \"percentage_of_trips\": 37.54266211604095}, {\"_gtfs_dataset_name\": \"Pasadena VehiclePositions\", \"trip_category\": \"61-90 minutes\", \"rt_category\": \"81-100%\", \"rt_trip_counts_by_operator\": 293.0, \"total_trips\": 57, \"percentage_of_trips\": 19.453924914675767}, {\"_gtfs_dataset_name\": \"Pasadena VehiclePositions\", \"trip_category\": \"90 + minutes\", \"rt_category\": \"81-100%\", \"rt_trip_counts_by_operator\": 293.0, \"total_trips\": 13, \"percentage_of_trips\": 4.436860068259386}, {\"_gtfs_dataset_name\": \"PresidiGo VehiclePositions\", \"trip_category\": \"0 - 30 minutes\", \"rt_category\": \"81-100%\", \"rt_trip_counts_by_operator\": 18.0, \"total_trips\": 4, \"percentage_of_trips\": 22.22222222222222}, {\"_gtfs_dataset_name\": \"PresidiGo VehiclePositions\", \"trip_category\": \"31-60 minutes\", \"rt_category\": \"61-80%\", \"rt_trip_counts_by_operator\": 18.0, \"total_trips\": 1, \"percentage_of_trips\": 5.555555555555555}, {\"_gtfs_dataset_name\": \"PresidiGo VehiclePositions\", \"trip_category\": \"31-60 minutes\", \"rt_category\": \"81-100%\", \"rt_trip_counts_by_operator\": 18.0, \"total_trips\": 9, \"percentage_of_trips\": 50.0}, {\"_gtfs_dataset_name\": \"PresidiGo VehiclePositions\", \"trip_category\": \"61-90 minutes\", \"rt_category\": \"81-100%\", \"rt_trip_counts_by_operator\": 18.0, \"total_trips\": 2, \"percentage_of_trips\": 11.11111111111111}, {\"_gtfs_dataset_name\": \"PresidiGo VehiclePositions\", \"trip_category\": \"90 + minutes\", \"rt_category\": \"81-100%\", \"rt_trip_counts_by_operator\": 18.0, \"total_trips\": 2, \"percentage_of_trips\": 11.11111111111111}, {\"_gtfs_dataset_name\": \"Redding Vehicle Positions\", \"trip_category\": \"0 - 30 minutes\", \"rt_category\": \"21-40%\", \"rt_trip_counts_by_operator\": 230.0, \"total_trips\": 1, \"percentage_of_trips\": 0.43478260869565216}, {\"_gtfs_dataset_name\": \"Redding Vehicle Positions\", \"trip_category\": \"0 - 30 minutes\", \"rt_category\": \"41-60%\", \"rt_trip_counts_by_operator\": 230.0, \"total_trips\": 2, \"percentage_of_trips\": 0.8695652173913043}, {\"_gtfs_dataset_name\": \"Redding Vehicle Positions\", \"trip_category\": \"0 - 30 minutes\", \"rt_category\": \"61-80%\", \"rt_trip_counts_by_operator\": 230.0, \"total_trips\": 12, \"percentage_of_trips\": 5.217391304347826}, {\"_gtfs_dataset_name\": \"Redding Vehicle Positions\", \"trip_category\": \"0 - 30 minutes\", \"rt_category\": \"81-100%\", \"rt_trip_counts_by_operator\": 230.0, \"total_trips\": 138, \"percentage_of_trips\": 60.0}, {\"_gtfs_dataset_name\": \"Redding Vehicle Positions\", \"trip_category\": \"31-60 minutes\", \"rt_category\": \"61-80%\", \"rt_trip_counts_by_operator\": 230.0, \"total_trips\": 2, \"percentage_of_trips\": 0.8695652173913043}, {\"_gtfs_dataset_name\": \"Redding Vehicle Positions\", \"trip_category\": \"31-60 minutes\", \"rt_category\": \"81-100%\", \"rt_trip_counts_by_operator\": 230.0, \"total_trips\": 51, \"percentage_of_trips\": 22.17391304347826}, {\"_gtfs_dataset_name\": \"Redding Vehicle Positions\", \"trip_category\": \"61-90 minutes\", \"rt_category\": \"61-80%\", \"rt_trip_counts_by_operator\": 230.0, \"total_trips\": 1, \"percentage_of_trips\": 0.43478260869565216}, {\"_gtfs_dataset_name\": \"Redding Vehicle Positions\", \"trip_category\": \"61-90 minutes\", \"rt_category\": \"81-100%\", \"rt_trip_counts_by_operator\": 230.0, \"total_trips\": 11, \"percentage_of_trips\": 4.782608695652174}, {\"_gtfs_dataset_name\": \"Redding Vehicle Positions\", \"trip_category\": \"90 + minutes\", \"rt_category\": \"81-100%\", \"rt_trip_counts_by_operator\": 230.0, \"total_trips\": 12, \"percentage_of_trips\": 5.217391304347826}, {\"_gtfs_dataset_name\": \"Redwood Coast Vehicle Positions\", \"trip_category\": \"0 - 30 minutes\", \"rt_category\": \"21-40%\", \"rt_trip_counts_by_operator\": 60.0, \"total_trips\": 1, \"percentage_of_trips\": 1.6666666666666667}, {\"_gtfs_dataset_name\": \"Redwood Coast Vehicle Positions\", \"trip_category\": \"0 - 30 minutes\", \"rt_category\": \"61-80%\", \"rt_trip_counts_by_operator\": 60.0, \"total_trips\": 1, \"percentage_of_trips\": 1.6666666666666667}, {\"_gtfs_dataset_name\": \"Redwood Coast Vehicle Positions\", \"trip_category\": \"0 - 30 minutes\", \"rt_category\": \"81-100%\", \"rt_trip_counts_by_operator\": 60.0, \"total_trips\": 22, \"percentage_of_trips\": 36.666666666666664}, {\"_gtfs_dataset_name\": \"Redwood Coast Vehicle Positions\", \"trip_category\": \"31-60 minutes\", \"rt_category\": \"21-40%\", \"rt_trip_counts_by_operator\": 60.0, \"total_trips\": 1, \"percentage_of_trips\": 1.6666666666666667}, {\"_gtfs_dataset_name\": \"Redwood Coast Vehicle Positions\", \"trip_category\": \"31-60 minutes\", \"rt_category\": \"81-100%\", \"rt_trip_counts_by_operator\": 60.0, \"total_trips\": 21, \"percentage_of_trips\": 35.0}, {\"_gtfs_dataset_name\": \"Redwood Coast Vehicle Positions\", \"trip_category\": \"61-90 minutes\", \"rt_category\": \"81-100%\", \"rt_trip_counts_by_operator\": 60.0, \"total_trips\": 4, \"percentage_of_trips\": 6.666666666666667}, {\"_gtfs_dataset_name\": \"Redwood Coast Vehicle Positions\", \"trip_category\": \"90 + minutes\", \"rt_category\": \"41-60%\", \"rt_trip_counts_by_operator\": 60.0, \"total_trips\": 1, \"percentage_of_trips\": 1.6666666666666667}, {\"_gtfs_dataset_name\": \"Redwood Coast Vehicle Positions\", \"trip_category\": \"90 + minutes\", \"rt_category\": \"61-80%\", \"rt_trip_counts_by_operator\": 60.0, \"total_trips\": 2, \"percentage_of_trips\": 3.3333333333333335}, {\"_gtfs_dataset_name\": \"Redwood Coast Vehicle Positions\", \"trip_category\": \"90 + minutes\", \"rt_category\": \"81-100%\", \"rt_trip_counts_by_operator\": 60.0, \"total_trips\": 7, \"percentage_of_trips\": 11.666666666666666}, {\"_gtfs_dataset_name\": \"Riverside VehiclePositions\", \"trip_category\": \"0 - 30 minutes\", \"rt_category\": \"0-20%\", \"rt_trip_counts_by_operator\": 917.0, \"total_trips\": 5, \"percentage_of_trips\": 0.5452562704471101}, {\"_gtfs_dataset_name\": \"Riverside VehiclePositions\", \"trip_category\": \"0 - 30 minutes\", \"rt_category\": \"21-40%\", \"rt_trip_counts_by_operator\": 917.0, \"total_trips\": 1, \"percentage_of_trips\": 0.10905125408942204}, {\"_gtfs_dataset_name\": \"Riverside VehiclePositions\", \"trip_category\": \"0 - 30 minutes\", \"rt_category\": \"41-60%\", \"rt_trip_counts_by_operator\": 917.0, \"total_trips\": 1, \"percentage_of_trips\": 0.10905125408942204}, {\"_gtfs_dataset_name\": \"Riverside VehiclePositions\", \"trip_category\": \"0 - 30 minutes\", \"rt_category\": \"61-80%\", \"rt_trip_counts_by_operator\": 917.0, \"total_trips\": 2, \"percentage_of_trips\": 0.21810250817884408}, {\"_gtfs_dataset_name\": \"Riverside VehiclePositions\", \"trip_category\": \"0 - 30 minutes\", \"rt_category\": \"81-100%\", \"rt_trip_counts_by_operator\": 917.0, \"total_trips\": 6, \"percentage_of_trips\": 0.6543075245365322}, {\"_gtfs_dataset_name\": \"Riverside VehiclePositions\", \"trip_category\": \"31-60 minutes\", \"rt_category\": \"41-60%\", \"rt_trip_counts_by_operator\": 917.0, \"total_trips\": 1, \"percentage_of_trips\": 0.10905125408942204}, {\"_gtfs_dataset_name\": \"Riverside VehiclePositions\", \"trip_category\": \"31-60 minutes\", \"rt_category\": \"61-80%\", \"rt_trip_counts_by_operator\": 917.0, \"total_trips\": 2, \"percentage_of_trips\": 0.21810250817884408}, {\"_gtfs_dataset_name\": \"Riverside VehiclePositions\", \"trip_category\": \"31-60 minutes\", \"rt_category\": \"81-100%\", \"rt_trip_counts_by_operator\": 917.0, \"total_trips\": 228, \"percentage_of_trips\": 24.863685932388222}, {\"_gtfs_dataset_name\": \"Riverside VehiclePositions\", \"trip_category\": \"61-90 minutes\", \"rt_category\": \"81-100%\", \"rt_trip_counts_by_operator\": 917.0, \"total_trips\": 332, \"percentage_of_trips\": 36.205016357688116}, {\"_gtfs_dataset_name\": \"Riverside VehiclePositions\", \"trip_category\": \"90 + minutes\", \"rt_category\": \"0-20%\", \"rt_trip_counts_by_operator\": 917.0, \"total_trips\": 1, \"percentage_of_trips\": 0.10905125408942204}, {\"_gtfs_dataset_name\": \"Riverside VehiclePositions\", \"trip_category\": \"90 + minutes\", \"rt_category\": \"21-40%\", \"rt_trip_counts_by_operator\": 917.0, \"total_trips\": 1, \"percentage_of_trips\": 0.10905125408942204}, {\"_gtfs_dataset_name\": \"Riverside VehiclePositions\", \"trip_category\": \"90 + minutes\", \"rt_category\": \"41-60%\", \"rt_trip_counts_by_operator\": 917.0, \"total_trips\": 2, \"percentage_of_trips\": 0.21810250817884408}, {\"_gtfs_dataset_name\": \"Riverside VehiclePositions\", \"trip_category\": \"90 + minutes\", \"rt_category\": \"81-100%\", \"rt_trip_counts_by_operator\": 917.0, \"total_trips\": 335, \"percentage_of_trips\": 36.53217011995638}, {\"_gtfs_dataset_name\": \"San Diego Vehicle Positions\", \"trip_category\": \"0 - 30 minutes\", \"rt_category\": \"0-20%\", \"rt_trip_counts_by_operator\": 5719.0, \"total_trips\": 16, \"percentage_of_trips\": 0.2797691904179052}, {\"_gtfs_dataset_name\": \"San Diego Vehicle Positions\", \"trip_category\": \"0 - 30 minutes\", \"rt_category\": \"21-40%\", \"rt_trip_counts_by_operator\": 5719.0, \"total_trips\": 4, \"percentage_of_trips\": 0.0699422976044763}, {\"_gtfs_dataset_name\": \"San Diego Vehicle Positions\", \"trip_category\": \"0 - 30 minutes\", \"rt_category\": \"41-60%\", \"rt_trip_counts_by_operator\": 5719.0, \"total_trips\": 5, \"percentage_of_trips\": 0.08742787200559538}, {\"_gtfs_dataset_name\": \"San Diego Vehicle Positions\", \"trip_category\": \"0 - 30 minutes\", \"rt_category\": \"61-80%\", \"rt_trip_counts_by_operator\": 5719.0, \"total_trips\": 13, \"percentage_of_trips\": 0.227312467214548}, {\"_gtfs_dataset_name\": \"San Diego Vehicle Positions\", \"trip_category\": \"0 - 30 minutes\", \"rt_category\": \"81-100%\", \"rt_trip_counts_by_operator\": 5719.0, \"total_trips\": 790, \"percentage_of_trips\": 13.81360377688407}, {\"_gtfs_dataset_name\": \"San Diego Vehicle Positions\", \"trip_category\": \"31-60 minutes\", \"rt_category\": \"0-20%\", \"rt_trip_counts_by_operator\": 5719.0, \"total_trips\": 1, \"percentage_of_trips\": 0.017485574401119076}, {\"_gtfs_dataset_name\": \"San Diego Vehicle Positions\", \"trip_category\": \"31-60 minutes\", \"rt_category\": \"41-60%\", \"rt_trip_counts_by_operator\": 5719.0, \"total_trips\": 1, \"percentage_of_trips\": 0.017485574401119076}, {\"_gtfs_dataset_name\": \"San Diego Vehicle Positions\", \"trip_category\": \"31-60 minutes\", \"rt_category\": \"61-80%\", \"rt_trip_counts_by_operator\": 5719.0, \"total_trips\": 18, \"percentage_of_trips\": 0.3147403392201434}, {\"_gtfs_dataset_name\": \"San Diego Vehicle Positions\", \"trip_category\": \"31-60 minutes\", \"rt_category\": \"81-100%\", \"rt_trip_counts_by_operator\": 5719.0, \"total_trips\": 2884, \"percentage_of_trips\": 50.42839657282742}, {\"_gtfs_dataset_name\": \"San Diego Vehicle Positions\", \"trip_category\": \"61-90 minutes\", \"rt_category\": \"21-40%\", \"rt_trip_counts_by_operator\": 5719.0, \"total_trips\": 2, \"percentage_of_trips\": 0.03497114880223815}, {\"_gtfs_dataset_name\": \"San Diego Vehicle Positions\", \"trip_category\": \"61-90 minutes\", \"rt_category\": \"41-60%\", \"rt_trip_counts_by_operator\": 5719.0, \"total_trips\": 3, \"percentage_of_trips\": 0.05245672320335724}, {\"_gtfs_dataset_name\": \"San Diego Vehicle Positions\", \"trip_category\": \"61-90 minutes\", \"rt_category\": \"61-80%\", \"rt_trip_counts_by_operator\": 5719.0, \"total_trips\": 3, \"percentage_of_trips\": 0.05245672320335724}, {\"_gtfs_dataset_name\": \"San Diego Vehicle Positions\", \"trip_category\": \"61-90 minutes\", \"rt_category\": \"81-100%\", \"rt_trip_counts_by_operator\": 5719.0, \"total_trips\": 1653, \"percentage_of_trips\": 28.903654485049834}, {\"_gtfs_dataset_name\": \"San Diego Vehicle Positions\", \"trip_category\": \"90 + minutes\", \"rt_category\": \"0-20%\", \"rt_trip_counts_by_operator\": 5719.0, \"total_trips\": 1, \"percentage_of_trips\": 0.017485574401119076}, {\"_gtfs_dataset_name\": \"San Diego Vehicle Positions\", \"trip_category\": \"90 + minutes\", \"rt_category\": \"81-100%\", \"rt_trip_counts_by_operator\": 5719.0, \"total_trips\": 325, \"percentage_of_trips\": 5.6828116803637005}, {\"_gtfs_dataset_name\": \"San Joaquin Vehicle Positions\", \"trip_category\": \"0 - 30 minutes\", \"rt_category\": \"0-20%\", \"rt_trip_counts_by_operator\": 855.0, \"total_trips\": 13, \"percentage_of_trips\": 1.5204678362573099}, {\"_gtfs_dataset_name\": \"San Joaquin Vehicle Positions\", \"trip_category\": \"0 - 30 minutes\", \"rt_category\": \"21-40%\", \"rt_trip_counts_by_operator\": 855.0, \"total_trips\": 6, \"percentage_of_trips\": 0.7017543859649122}, {\"_gtfs_dataset_name\": \"San Joaquin Vehicle Positions\", \"trip_category\": \"0 - 30 minutes\", \"rt_category\": \"41-60%\", \"rt_trip_counts_by_operator\": 855.0, \"total_trips\": 4, \"percentage_of_trips\": 0.46783625730994155}, {\"_gtfs_dataset_name\": \"San Joaquin Vehicle Positions\", \"trip_category\": \"0 - 30 minutes\", \"rt_category\": \"61-80%\", \"rt_trip_counts_by_operator\": 855.0, \"total_trips\": 41, \"percentage_of_trips\": 4.7953216374269}, {\"_gtfs_dataset_name\": \"San Joaquin Vehicle Positions\", \"trip_category\": \"0 - 30 minutes\", \"rt_category\": \"81-100%\", \"rt_trip_counts_by_operator\": 855.0, \"total_trips\": 339, \"percentage_of_trips\": 39.64912280701755}, {\"_gtfs_dataset_name\": \"San Joaquin Vehicle Positions\", \"trip_category\": \"31-60 minutes\", \"rt_category\": \"21-40%\", \"rt_trip_counts_by_operator\": 855.0, \"total_trips\": 1, \"percentage_of_trips\": 0.11695906432748539}, {\"_gtfs_dataset_name\": \"San Joaquin Vehicle Positions\", \"trip_category\": \"31-60 minutes\", \"rt_category\": \"41-60%\", \"rt_trip_counts_by_operator\": 855.0, \"total_trips\": 8, \"percentage_of_trips\": 0.9356725146198831}, {\"_gtfs_dataset_name\": \"San Joaquin Vehicle Positions\", \"trip_category\": \"31-60 minutes\", \"rt_category\": \"61-80%\", \"rt_trip_counts_by_operator\": 855.0, \"total_trips\": 10, \"percentage_of_trips\": 1.1695906432748537}, {\"_gtfs_dataset_name\": \"San Joaquin Vehicle Positions\", \"trip_category\": \"31-60 minutes\", \"rt_category\": \"81-100%\", \"rt_trip_counts_by_operator\": 855.0, \"total_trips\": 344, \"percentage_of_trips\": 40.23391812865497}, {\"_gtfs_dataset_name\": \"San Joaquin Vehicle Positions\", \"trip_category\": \"61-90 minutes\", \"rt_category\": \"21-40%\", \"rt_trip_counts_by_operator\": 855.0, \"total_trips\": 1, \"percentage_of_trips\": 0.11695906432748539}, {\"_gtfs_dataset_name\": \"San Joaquin Vehicle Positions\", \"trip_category\": \"61-90 minutes\", \"rt_category\": \"41-60%\", \"rt_trip_counts_by_operator\": 855.0, \"total_trips\": 4, \"percentage_of_trips\": 0.46783625730994155}, {\"_gtfs_dataset_name\": \"San Joaquin Vehicle Positions\", \"trip_category\": \"61-90 minutes\", \"rt_category\": \"61-80%\", \"rt_trip_counts_by_operator\": 855.0, \"total_trips\": 6, \"percentage_of_trips\": 0.7017543859649122}, {\"_gtfs_dataset_name\": \"San Joaquin Vehicle Positions\", \"trip_category\": \"61-90 minutes\", \"rt_category\": \"81-100%\", \"rt_trip_counts_by_operator\": 855.0, \"total_trips\": 34, \"percentage_of_trips\": 3.976608187134503}, {\"_gtfs_dataset_name\": \"San Joaquin Vehicle Positions\", \"trip_category\": \"90 + minutes\", \"rt_category\": \"41-60%\", \"rt_trip_counts_by_operator\": 855.0, \"total_trips\": 2, \"percentage_of_trips\": 0.23391812865497078}, {\"_gtfs_dataset_name\": \"San Joaquin Vehicle Positions\", \"trip_category\": \"90 + minutes\", \"rt_category\": \"61-80%\", \"rt_trip_counts_by_operator\": 855.0, \"total_trips\": 3, \"percentage_of_trips\": 0.3508771929824561}, {\"_gtfs_dataset_name\": \"San Joaquin Vehicle Positions\", \"trip_category\": \"90 + minutes\", \"rt_category\": \"81-100%\", \"rt_trip_counts_by_operator\": 855.0, \"total_trips\": 39, \"percentage_of_trips\": 4.56140350877193}, {\"_gtfs_dataset_name\": \"Santa Clarita VehiclePositions\", \"trip_category\": \"0 - 30 minutes\", \"rt_category\": \"21-40%\", \"rt_trip_counts_by_operator\": 341.0, \"total_trips\": 1, \"percentage_of_trips\": 0.2932551319648094}, {\"_gtfs_dataset_name\": \"Santa Clarita VehiclePositions\", \"trip_category\": \"0 - 30 minutes\", \"rt_category\": \"41-60%\", \"rt_trip_counts_by_operator\": 341.0, \"total_trips\": 2, \"percentage_of_trips\": 0.5865102639296188}, {\"_gtfs_dataset_name\": \"Santa Clarita VehiclePositions\", \"trip_category\": \"0 - 30 minutes\", \"rt_category\": \"61-80%\", \"rt_trip_counts_by_operator\": 341.0, \"total_trips\": 15, \"percentage_of_trips\": 4.398826979472141}, {\"_gtfs_dataset_name\": \"Santa Clarita VehiclePositions\", \"trip_category\": \"0 - 30 minutes\", \"rt_category\": \"81-100%\", \"rt_trip_counts_by_operator\": 341.0, \"total_trips\": 36, \"percentage_of_trips\": 10.557184750733137}, {\"_gtfs_dataset_name\": \"Santa Clarita VehiclePositions\", \"trip_category\": \"31-60 minutes\", \"rt_category\": \"41-60%\", \"rt_trip_counts_by_operator\": 341.0, \"total_trips\": 1, \"percentage_of_trips\": 0.2932551319648094}, {\"_gtfs_dataset_name\": \"Santa Clarita VehiclePositions\", \"trip_category\": \"31-60 minutes\", \"rt_category\": \"61-80%\", \"rt_trip_counts_by_operator\": 341.0, \"total_trips\": 19, \"percentage_of_trips\": 5.571847507331378}, {\"_gtfs_dataset_name\": \"Santa Clarita VehiclePositions\", \"trip_category\": \"31-60 minutes\", \"rt_category\": \"81-100%\", \"rt_trip_counts_by_operator\": 341.0, \"total_trips\": 130, \"percentage_of_trips\": 38.12316715542522}, {\"_gtfs_dataset_name\": \"Santa Clarita VehiclePositions\", \"trip_category\": \"61-90 minutes\", \"rt_category\": \"61-80%\", \"rt_trip_counts_by_operator\": 341.0, \"total_trips\": 1, \"percentage_of_trips\": 0.2932551319648094}, {\"_gtfs_dataset_name\": \"Santa Clarita VehiclePositions\", \"trip_category\": \"61-90 minutes\", \"rt_category\": \"81-100%\", \"rt_trip_counts_by_operator\": 341.0, \"total_trips\": 91, \"percentage_of_trips\": 26.68621700879765}, {\"_gtfs_dataset_name\": \"Santa Clarita VehiclePositions\", \"trip_category\": \"90 + minutes\", \"rt_category\": \"41-60%\", \"rt_trip_counts_by_operator\": 341.0, \"total_trips\": 1, \"percentage_of_trips\": 0.2932551319648094}, {\"_gtfs_dataset_name\": \"Santa Clarita VehiclePositions\", \"trip_category\": \"90 + minutes\", \"rt_category\": \"61-80%\", \"rt_trip_counts_by_operator\": 341.0, \"total_trips\": 3, \"percentage_of_trips\": 0.8797653958944283}, {\"_gtfs_dataset_name\": \"Santa Clarita VehiclePositions\", \"trip_category\": \"90 + minutes\", \"rt_category\": \"81-100%\", \"rt_trip_counts_by_operator\": 341.0, \"total_trips\": 41, \"percentage_of_trips\": 12.023460410557185}, {\"_gtfs_dataset_name\": \"Santa Maria Vehicle Positions\", \"trip_category\": \"0 - 30 minutes\", \"rt_category\": \"0-20%\", \"rt_trip_counts_by_operator\": 140.0, \"total_trips\": 4, \"percentage_of_trips\": 2.857142857142857}, {\"_gtfs_dataset_name\": \"Santa Maria Vehicle Positions\", \"trip_category\": \"0 - 30 minutes\", \"rt_category\": \"21-40%\", \"rt_trip_counts_by_operator\": 140.0, \"total_trips\": 1, \"percentage_of_trips\": 0.7142857142857143}, {\"_gtfs_dataset_name\": \"Santa Maria Vehicle Positions\", \"trip_category\": \"0 - 30 minutes\", \"rt_category\": \"41-60%\", \"rt_trip_counts_by_operator\": 140.0, \"total_trips\": 2, \"percentage_of_trips\": 1.4285714285714286}, {\"_gtfs_dataset_name\": \"Santa Maria Vehicle Positions\", \"trip_category\": \"0 - 30 minutes\", \"rt_category\": \"61-80%\", \"rt_trip_counts_by_operator\": 140.0, \"total_trips\": 2, \"percentage_of_trips\": 1.4285714285714286}, {\"_gtfs_dataset_name\": \"Santa Maria Vehicle Positions\", \"trip_category\": \"0 - 30 minutes\", \"rt_category\": \"81-100%\", \"rt_trip_counts_by_operator\": 140.0, \"total_trips\": 5, \"percentage_of_trips\": 3.571428571428571}, {\"_gtfs_dataset_name\": \"Santa Maria Vehicle Positions\", \"trip_category\": \"31-60 minutes\", \"rt_category\": \"61-80%\", \"rt_trip_counts_by_operator\": 140.0, \"total_trips\": 2, \"percentage_of_trips\": 1.4285714285714286}, {\"_gtfs_dataset_name\": \"Santa Maria Vehicle Positions\", \"trip_category\": \"31-60 minutes\", \"rt_category\": \"81-100%\", \"rt_trip_counts_by_operator\": 140.0, \"total_trips\": 105, \"percentage_of_trips\": 75.0}, {\"_gtfs_dataset_name\": \"Santa Maria Vehicle Positions\", \"trip_category\": \"61-90 minutes\", \"rt_category\": \"81-100%\", \"rt_trip_counts_by_operator\": 140.0, \"total_trips\": 10, \"percentage_of_trips\": 7.142857142857142}, {\"_gtfs_dataset_name\": \"Santa Maria Vehicle Positions\", \"trip_category\": \"90 + minutes\", \"rt_category\": \"81-100%\", \"rt_trip_counts_by_operator\": 140.0, \"total_trips\": 9, \"percentage_of_trips\": 6.428571428571428}, {\"_gtfs_dataset_name\": \"Santa Ynez Vehicle Positions\", \"trip_category\": \"0 - 30 minutes\", \"rt_category\": \"0-20%\", \"rt_trip_counts_by_operator\": 18.0, \"total_trips\": 1, \"percentage_of_trips\": 5.555555555555555}, {\"_gtfs_dataset_name\": \"Santa Ynez Vehicle Positions\", \"trip_category\": \"0 - 30 minutes\", \"rt_category\": \"21-40%\", \"rt_trip_counts_by_operator\": 18.0, \"total_trips\": 2, \"percentage_of_trips\": 11.11111111111111}, {\"_gtfs_dataset_name\": \"Santa Ynez Vehicle Positions\", \"trip_category\": \"0 - 30 minutes\", \"rt_category\": \"81-100%\", \"rt_trip_counts_by_operator\": 18.0, \"total_trips\": 4, \"percentage_of_trips\": 22.22222222222222}, {\"_gtfs_dataset_name\": \"Santa Ynez Vehicle Positions\", \"trip_category\": \"31-60 minutes\", \"rt_category\": \"81-100%\", \"rt_trip_counts_by_operator\": 18.0, \"total_trips\": 6, \"percentage_of_trips\": 33.33333333333333}, {\"_gtfs_dataset_name\": \"Santa Ynez Vehicle Positions\", \"trip_category\": \"61-90 minutes\", \"rt_category\": \"81-100%\", \"rt_trip_counts_by_operator\": 18.0, \"total_trips\": 1, \"percentage_of_trips\": 5.555555555555555}, {\"_gtfs_dataset_name\": \"Santa Ynez Vehicle Positions\", \"trip_category\": \"90 + minutes\", \"rt_category\": \"81-100%\", \"rt_trip_counts_by_operator\": 18.0, \"total_trips\": 4, \"percentage_of_trips\": 22.22222222222222}, {\"_gtfs_dataset_name\": \"StanRTA Vehicle Positions\", \"trip_category\": \"0 - 30 minutes\", \"rt_category\": \"0-20%\", \"rt_trip_counts_by_operator\": 939.0, \"total_trips\": 1, \"percentage_of_trips\": 0.10649627263045794}, {\"_gtfs_dataset_name\": \"StanRTA Vehicle Positions\", \"trip_category\": \"0 - 30 minutes\", \"rt_category\": \"21-40%\", \"rt_trip_counts_by_operator\": 939.0, \"total_trips\": 3, \"percentage_of_trips\": 0.3194888178913738}, {\"_gtfs_dataset_name\": \"StanRTA Vehicle Positions\", \"trip_category\": \"0 - 30 minutes\", \"rt_category\": \"41-60%\", \"rt_trip_counts_by_operator\": 939.0, \"total_trips\": 7, \"percentage_of_trips\": 0.7454739084132056}, {\"_gtfs_dataset_name\": \"StanRTA Vehicle Positions\", \"trip_category\": \"0 - 30 minutes\", \"rt_category\": \"61-80%\", \"rt_trip_counts_by_operator\": 939.0, \"total_trips\": 48, \"percentage_of_trips\": 5.111821086261981}, {\"_gtfs_dataset_name\": \"StanRTA Vehicle Positions\", \"trip_category\": \"0 - 30 minutes\", \"rt_category\": \"81-100%\", \"rt_trip_counts_by_operator\": 939.0, \"total_trips\": 182, \"percentage_of_trips\": 19.382321618743344}, {\"_gtfs_dataset_name\": \"StanRTA Vehicle Positions\", \"trip_category\": \"31-60 minutes\", \"rt_category\": \"41-60%\", \"rt_trip_counts_by_operator\": 939.0, \"total_trips\": 2, \"percentage_of_trips\": 0.21299254526091588}, {\"_gtfs_dataset_name\": \"StanRTA Vehicle Positions\", \"trip_category\": \"31-60 minutes\", \"rt_category\": \"61-80%\", \"rt_trip_counts_by_operator\": 939.0, \"total_trips\": 12, \"percentage_of_trips\": 1.2779552715654952}, {\"_gtfs_dataset_name\": \"StanRTA Vehicle Positions\", \"trip_category\": \"31-60 minutes\", \"rt_category\": \"81-100%\", \"rt_trip_counts_by_operator\": 939.0, \"total_trips\": 526, \"percentage_of_trips\": 56.01703940362087}, {\"_gtfs_dataset_name\": \"StanRTA Vehicle Positions\", \"trip_category\": \"61-90 minutes\", \"rt_category\": \"41-60%\", \"rt_trip_counts_by_operator\": 939.0, \"total_trips\": 2, \"percentage_of_trips\": 0.21299254526091588}, {\"_gtfs_dataset_name\": \"StanRTA Vehicle Positions\", \"trip_category\": \"61-90 minutes\", \"rt_category\": \"61-80%\", \"rt_trip_counts_by_operator\": 939.0, \"total_trips\": 1, \"percentage_of_trips\": 0.10649627263045794}, {\"_gtfs_dataset_name\": \"StanRTA Vehicle Positions\", \"trip_category\": \"61-90 minutes\", \"rt_category\": \"81-100%\", \"rt_trip_counts_by_operator\": 939.0, \"total_trips\": 129, \"percentage_of_trips\": 13.738019169329075}, {\"_gtfs_dataset_name\": \"StanRTA Vehicle Positions\", \"trip_category\": \"90 + minutes\", \"rt_category\": \"21-40%\", \"rt_trip_counts_by_operator\": 939.0, \"total_trips\": 1, \"percentage_of_trips\": 0.10649627263045794}, {\"_gtfs_dataset_name\": \"StanRTA Vehicle Positions\", \"trip_category\": \"90 + minutes\", \"rt_category\": \"61-80%\", \"rt_trip_counts_by_operator\": 939.0, \"total_trips\": 1, \"percentage_of_trips\": 0.10649627263045794}, {\"_gtfs_dataset_name\": \"StanRTA Vehicle Positions\", \"trip_category\": \"90 + minutes\", \"rt_category\": \"81-100%\", \"rt_trip_counts_by_operator\": 939.0, \"total_trips\": 24, \"percentage_of_trips\": 2.5559105431309903}, {\"_gtfs_dataset_name\": \"Tahoe Transportation Vehicle Positions\", \"trip_category\": \"0 - 30 minutes\", \"rt_category\": \"0-20%\", \"rt_trip_counts_by_operator\": 54.0, \"total_trips\": 5, \"percentage_of_trips\": 9.25925925925926}, {\"_gtfs_dataset_name\": \"Tahoe Transportation Vehicle Positions\", \"trip_category\": \"0 - 30 minutes\", \"rt_category\": \"81-100%\", \"rt_trip_counts_by_operator\": 54.0, \"total_trips\": 15, \"percentage_of_trips\": 27.77777777777778}, {\"_gtfs_dataset_name\": \"Tahoe Transportation Vehicle Positions\", \"trip_category\": \"31-60 minutes\", \"rt_category\": \"61-80%\", \"rt_trip_counts_by_operator\": 54.0, \"total_trips\": 3, \"percentage_of_trips\": 5.555555555555555}, {\"_gtfs_dataset_name\": \"Tahoe Transportation Vehicle Positions\", \"trip_category\": \"31-60 minutes\", \"rt_category\": \"81-100%\", \"rt_trip_counts_by_operator\": 54.0, \"total_trips\": 21, \"percentage_of_trips\": 38.88888888888889}, {\"_gtfs_dataset_name\": \"Tahoe Transportation Vehicle Positions\", \"trip_category\": \"61-90 minutes\", \"rt_category\": \"81-100%\", \"rt_trip_counts_by_operator\": 54.0, \"total_trips\": 7, \"percentage_of_trips\": 12.962962962962962}, {\"_gtfs_dataset_name\": \"Tahoe Transportation Vehicle Positions\", \"trip_category\": \"90 + minutes\", \"rt_category\": \"41-60%\", \"rt_trip_counts_by_operator\": 54.0, \"total_trips\": 1, \"percentage_of_trips\": 1.8518518518518516}, {\"_gtfs_dataset_name\": \"Tahoe Transportation Vehicle Positions\", \"trip_category\": \"90 + minutes\", \"rt_category\": \"81-100%\", \"rt_trip_counts_by_operator\": 54.0, \"total_trips\": 2, \"percentage_of_trips\": 3.7037037037037033}, {\"_gtfs_dataset_name\": \"Torrance Swiftly Vehicle Positions\", \"trip_category\": \"0 - 30 minutes\", \"rt_category\": \"0-20%\", \"rt_trip_counts_by_operator\": 114.0, \"total_trips\": 7, \"percentage_of_trips\": 6.140350877192982}, {\"_gtfs_dataset_name\": \"Torrance Swiftly Vehicle Positions\", \"trip_category\": \"0 - 30 minutes\", \"rt_category\": \"81-100%\", \"rt_trip_counts_by_operator\": 114.0, \"total_trips\": 2, \"percentage_of_trips\": 1.7543859649122806}, {\"_gtfs_dataset_name\": \"Torrance Swiftly Vehicle Positions\", \"trip_category\": \"31-60 minutes\", \"rt_category\": \"21-40%\", \"rt_trip_counts_by_operator\": 114.0, \"total_trips\": 2, \"percentage_of_trips\": 1.7543859649122806}, {\"_gtfs_dataset_name\": \"Torrance Swiftly Vehicle Positions\", \"trip_category\": \"31-60 minutes\", \"rt_category\": \"41-60%\", \"rt_trip_counts_by_operator\": 114.0, \"total_trips\": 3, \"percentage_of_trips\": 2.631578947368421}, {\"_gtfs_dataset_name\": \"Torrance Swiftly Vehicle Positions\", \"trip_category\": \"31-60 minutes\", \"rt_category\": \"61-80%\", \"rt_trip_counts_by_operator\": 114.0, \"total_trips\": 4, \"percentage_of_trips\": 3.508771929824561}, {\"_gtfs_dataset_name\": \"Torrance Swiftly Vehicle Positions\", \"trip_category\": \"31-60 minutes\", \"rt_category\": \"81-100%\", \"rt_trip_counts_by_operator\": 114.0, \"total_trips\": 36, \"percentage_of_trips\": 31.57894736842105}, {\"_gtfs_dataset_name\": \"Torrance Swiftly Vehicle Positions\", \"trip_category\": \"61-90 minutes\", \"rt_category\": \"61-80%\", \"rt_trip_counts_by_operator\": 114.0, \"total_trips\": 1, \"percentage_of_trips\": 0.8771929824561403}, {\"_gtfs_dataset_name\": \"Torrance Swiftly Vehicle Positions\", \"trip_category\": \"61-90 minutes\", \"rt_category\": \"81-100%\", \"rt_trip_counts_by_operator\": 114.0, \"total_trips\": 37, \"percentage_of_trips\": 32.45614035087719}, {\"_gtfs_dataset_name\": \"Torrance Swiftly Vehicle Positions\", \"trip_category\": \"90 + minutes\", \"rt_category\": \"41-60%\", \"rt_trip_counts_by_operator\": 114.0, \"total_trips\": 1, \"percentage_of_trips\": 0.8771929824561403}, {\"_gtfs_dataset_name\": \"Torrance Swiftly Vehicle Positions\", \"trip_category\": \"90 + minutes\", \"rt_category\": \"81-100%\", \"rt_trip_counts_by_operator\": 114.0, \"total_trips\": 21, \"percentage_of_trips\": 18.421052631578945}, {\"_gtfs_dataset_name\": \"Torrance Vehicle Positions\", \"trip_category\": \"0 - 30 minutes\", \"rt_category\": \"0-20%\", \"rt_trip_counts_by_operator\": 97.0, \"total_trips\": 8, \"percentage_of_trips\": 8.24742268041237}, {\"_gtfs_dataset_name\": \"Torrance Vehicle Positions\", \"trip_category\": \"0 - 30 minutes\", \"rt_category\": \"21-40%\", \"rt_trip_counts_by_operator\": 97.0, \"total_trips\": 10, \"percentage_of_trips\": 10.309278350515463}, {\"_gtfs_dataset_name\": \"Torrance Vehicle Positions\", \"trip_category\": \"0 - 30 minutes\", \"rt_category\": \"41-60%\", \"rt_trip_counts_by_operator\": 97.0, \"total_trips\": 3, \"percentage_of_trips\": 3.0927835051546393}, {\"_gtfs_dataset_name\": \"Torrance Vehicle Positions\", \"trip_category\": \"31-60 minutes\", \"rt_category\": \"41-60%\", \"rt_trip_counts_by_operator\": 97.0, \"total_trips\": 4, \"percentage_of_trips\": 4.123711340206185}, {\"_gtfs_dataset_name\": \"Torrance Vehicle Positions\", \"trip_category\": \"31-60 minutes\", \"rt_category\": \"61-80%\", \"rt_trip_counts_by_operator\": 97.0, \"total_trips\": 5, \"percentage_of_trips\": 5.154639175257731}, {\"_gtfs_dataset_name\": \"Torrance Vehicle Positions\", \"trip_category\": \"31-60 minutes\", \"rt_category\": \"81-100%\", \"rt_trip_counts_by_operator\": 97.0, \"total_trips\": 26, \"percentage_of_trips\": 26.804123711340207}, {\"_gtfs_dataset_name\": \"Torrance Vehicle Positions\", \"trip_category\": \"61-90 minutes\", \"rt_category\": \"41-60%\", \"rt_trip_counts_by_operator\": 97.0, \"total_trips\": 1, \"percentage_of_trips\": 1.0309278350515463}, {\"_gtfs_dataset_name\": \"Torrance Vehicle Positions\", \"trip_category\": \"61-90 minutes\", \"rt_category\": \"61-80%\", \"rt_trip_counts_by_operator\": 97.0, \"total_trips\": 2, \"percentage_of_trips\": 2.0618556701030926}, {\"_gtfs_dataset_name\": \"Torrance Vehicle Positions\", \"trip_category\": \"61-90 minutes\", \"rt_category\": \"81-100%\", \"rt_trip_counts_by_operator\": 97.0, \"total_trips\": 23, \"percentage_of_trips\": 23.711340206185564}, {\"_gtfs_dataset_name\": \"Torrance Vehicle Positions\", \"trip_category\": \"90 + minutes\", \"rt_category\": \"61-80%\", \"rt_trip_counts_by_operator\": 97.0, \"total_trips\": 1, \"percentage_of_trips\": 1.0309278350515463}, {\"_gtfs_dataset_name\": \"Torrance Vehicle Positions\", \"trip_category\": \"90 + minutes\", \"rt_category\": \"81-100%\", \"rt_trip_counts_by_operator\": 97.0, \"total_trips\": 14, \"percentage_of_trips\": 14.432989690721648}, {\"_gtfs_dataset_name\": \"Turlock Vehicle Positions\", \"trip_category\": \"0 - 30 minutes\", \"rt_category\": \"0-20%\", \"rt_trip_counts_by_operator\": 236.0, \"total_trips\": 1, \"percentage_of_trips\": 0.423728813559322}, {\"_gtfs_dataset_name\": \"Turlock Vehicle Positions\", \"trip_category\": \"0 - 30 minutes\", \"rt_category\": \"21-40%\", \"rt_trip_counts_by_operator\": 236.0, \"total_trips\": 3, \"percentage_of_trips\": 1.2711864406779663}, {\"_gtfs_dataset_name\": \"Turlock Vehicle Positions\", \"trip_category\": \"0 - 30 minutes\", \"rt_category\": \"41-60%\", \"rt_trip_counts_by_operator\": 236.0, \"total_trips\": 3, \"percentage_of_trips\": 1.2711864406779663}, {\"_gtfs_dataset_name\": \"Turlock Vehicle Positions\", \"trip_category\": \"0 - 30 minutes\", \"rt_category\": \"61-80%\", \"rt_trip_counts_by_operator\": 236.0, \"total_trips\": 21, \"percentage_of_trips\": 8.898305084745763}, {\"_gtfs_dataset_name\": \"Turlock Vehicle Positions\", \"trip_category\": \"0 - 30 minutes\", \"rt_category\": \"81-100%\", \"rt_trip_counts_by_operator\": 236.0, \"total_trips\": 145, \"percentage_of_trips\": 61.440677966101696}, {\"_gtfs_dataset_name\": \"Turlock Vehicle Positions\", \"trip_category\": \"31-60 minutes\", \"rt_category\": \"21-40%\", \"rt_trip_counts_by_operator\": 236.0, \"total_trips\": 1, \"percentage_of_trips\": 0.423728813559322}, {\"_gtfs_dataset_name\": \"Turlock Vehicle Positions\", \"trip_category\": \"31-60 minutes\", \"rt_category\": \"41-60%\", \"rt_trip_counts_by_operator\": 236.0, \"total_trips\": 1, \"percentage_of_trips\": 0.423728813559322}, {\"_gtfs_dataset_name\": \"Turlock Vehicle Positions\", \"trip_category\": \"31-60 minutes\", \"rt_category\": \"81-100%\", \"rt_trip_counts_by_operator\": 236.0, \"total_trips\": 47, \"percentage_of_trips\": 19.915254237288135}, {\"_gtfs_dataset_name\": \"Turlock Vehicle Positions\", \"trip_category\": \"61-90 minutes\", \"rt_category\": \"81-100%\", \"rt_trip_counts_by_operator\": 236.0, \"total_trips\": 8, \"percentage_of_trips\": 3.389830508474576}, {\"_gtfs_dataset_name\": \"Turlock Vehicle Positions\", \"trip_category\": \"90 + minutes\", \"rt_category\": \"81-100%\", \"rt_trip_counts_by_operator\": 236.0, \"total_trips\": 6, \"percentage_of_trips\": 2.5423728813559325}, {\"_gtfs_dataset_name\": \"Unitrans Vehicle Positions\", \"trip_category\": \"0 - 30 minutes\", \"rt_category\": \"0-20%\", \"rt_trip_counts_by_operator\": 620.0, \"total_trips\": 5, \"percentage_of_trips\": 0.8064516129032258}, {\"_gtfs_dataset_name\": \"Unitrans Vehicle Positions\", \"trip_category\": \"0 - 30 minutes\", \"rt_category\": \"21-40%\", \"rt_trip_counts_by_operator\": 620.0, \"total_trips\": 6, \"percentage_of_trips\": 0.967741935483871}, {\"_gtfs_dataset_name\": \"Unitrans Vehicle Positions\", \"trip_category\": \"0 - 30 minutes\", \"rt_category\": \"41-60%\", \"rt_trip_counts_by_operator\": 620.0, \"total_trips\": 10, \"percentage_of_trips\": 1.6129032258064515}, {\"_gtfs_dataset_name\": \"Unitrans Vehicle Positions\", \"trip_category\": \"0 - 30 minutes\", \"rt_category\": \"61-80%\", \"rt_trip_counts_by_operator\": 620.0, \"total_trips\": 27, \"percentage_of_trips\": 4.354838709677419}, {\"_gtfs_dataset_name\": \"Unitrans Vehicle Positions\", \"trip_category\": \"0 - 30 minutes\", \"rt_category\": \"81-100%\", \"rt_trip_counts_by_operator\": 620.0, \"total_trips\": 426, \"percentage_of_trips\": 68.70967741935485}, {\"_gtfs_dataset_name\": \"Unitrans Vehicle Positions\", \"trip_category\": \"31-60 minutes\", \"rt_category\": \"61-80%\", \"rt_trip_counts_by_operator\": 620.0, \"total_trips\": 3, \"percentage_of_trips\": 0.4838709677419355}, {\"_gtfs_dataset_name\": \"Unitrans Vehicle Positions\", \"trip_category\": \"31-60 minutes\", \"rt_category\": \"81-100%\", \"rt_trip_counts_by_operator\": 620.0, \"total_trips\": 109, \"percentage_of_trips\": 17.580645161290324}, {\"_gtfs_dataset_name\": \"Unitrans Vehicle Positions\", \"trip_category\": \"61-90 minutes\", \"rt_category\": \"21-40%\", \"rt_trip_counts_by_operator\": 620.0, \"total_trips\": 1, \"percentage_of_trips\": 0.16129032258064516}, {\"_gtfs_dataset_name\": \"Unitrans Vehicle Positions\", \"trip_category\": \"61-90 minutes\", \"rt_category\": \"81-100%\", \"rt_trip_counts_by_operator\": 620.0, \"total_trips\": 27, \"percentage_of_trips\": 4.354838709677419}, {\"_gtfs_dataset_name\": \"Unitrans Vehicle Positions\", \"trip_category\": \"90 + minutes\", \"rt_category\": \"81-100%\", \"rt_trip_counts_by_operator\": 620.0, \"total_trips\": 6, \"percentage_of_trips\": 0.967741935483871}, {\"_gtfs_dataset_name\": \"VCTC Vehicle Positions\", \"trip_category\": \"0 - 30 minutes\", \"rt_category\": \"0-20%\", \"rt_trip_counts_by_operator\": 941.0, \"total_trips\": 16, \"percentage_of_trips\": 1.7003188097768331}, {\"_gtfs_dataset_name\": \"VCTC Vehicle Positions\", \"trip_category\": \"0 - 30 minutes\", \"rt_category\": \"21-40%\", \"rt_trip_counts_by_operator\": 941.0, \"total_trips\": 3, \"percentage_of_trips\": 0.3188097768331562}, {\"_gtfs_dataset_name\": \"VCTC Vehicle Positions\", \"trip_category\": \"0 - 30 minutes\", \"rt_category\": \"41-60%\", \"rt_trip_counts_by_operator\": 941.0, \"total_trips\": 15, \"percentage_of_trips\": 1.5940488841657812}, {\"_gtfs_dataset_name\": \"VCTC Vehicle Positions\", \"trip_category\": \"0 - 30 minutes\", \"rt_category\": \"61-80%\", \"rt_trip_counts_by_operator\": 941.0, \"total_trips\": 18, \"percentage_of_trips\": 1.9128586609989375}, {\"_gtfs_dataset_name\": \"VCTC Vehicle Positions\", \"trip_category\": \"0 - 30 minutes\", \"rt_category\": \"81-100%\", \"rt_trip_counts_by_operator\": 941.0, \"total_trips\": 158, \"percentage_of_trips\": 16.790648246546226}, {\"_gtfs_dataset_name\": \"VCTC Vehicle Positions\", \"trip_category\": \"31-60 minutes\", \"rt_category\": \"0-20%\", \"rt_trip_counts_by_operator\": 941.0, \"total_trips\": 2, \"percentage_of_trips\": 0.21253985122210414}, {\"_gtfs_dataset_name\": \"VCTC Vehicle Positions\", \"trip_category\": \"31-60 minutes\", \"rt_category\": \"21-40%\", \"rt_trip_counts_by_operator\": 941.0, \"total_trips\": 1, \"percentage_of_trips\": 0.10626992561105207}, {\"_gtfs_dataset_name\": \"VCTC Vehicle Positions\", \"trip_category\": \"31-60 minutes\", \"rt_category\": \"41-60%\", \"rt_trip_counts_by_operator\": 941.0, \"total_trips\": 3, \"percentage_of_trips\": 0.3188097768331562}, {\"_gtfs_dataset_name\": \"VCTC Vehicle Positions\", \"trip_category\": \"31-60 minutes\", \"rt_category\": \"61-80%\", \"rt_trip_counts_by_operator\": 941.0, \"total_trips\": 13, \"percentage_of_trips\": 1.381509032943677}, {\"_gtfs_dataset_name\": \"VCTC Vehicle Positions\", \"trip_category\": \"31-60 minutes\", \"rt_category\": \"81-100%\", \"rt_trip_counts_by_operator\": 941.0, \"total_trips\": 438, \"percentage_of_trips\": 46.54622741764081}, {\"_gtfs_dataset_name\": \"VCTC Vehicle Positions\", \"trip_category\": \"61-90 minutes\", \"rt_category\": \"41-60%\", \"rt_trip_counts_by_operator\": 941.0, \"total_trips\": 1, \"percentage_of_trips\": 0.10626992561105207}, {\"_gtfs_dataset_name\": \"VCTC Vehicle Positions\", \"trip_category\": \"61-90 minutes\", \"rt_category\": \"61-80%\", \"rt_trip_counts_by_operator\": 941.0, \"total_trips\": 1, \"percentage_of_trips\": 0.10626992561105207}, {\"_gtfs_dataset_name\": \"VCTC Vehicle Positions\", \"trip_category\": \"61-90 minutes\", \"rt_category\": \"81-100%\", \"rt_trip_counts_by_operator\": 941.0, \"total_trips\": 144, \"percentage_of_trips\": 15.3028692879915}, {\"_gtfs_dataset_name\": \"VCTC Vehicle Positions\", \"trip_category\": \"90 + minutes\", \"rt_category\": \"61-80%\", \"rt_trip_counts_by_operator\": 941.0, \"total_trips\": 4, \"percentage_of_trips\": 0.4250797024442083}, {\"_gtfs_dataset_name\": \"VCTC Vehicle Positions\", \"trip_category\": \"90 + minutes\", \"rt_category\": \"81-100%\", \"rt_trip_counts_by_operator\": 941.0, \"total_trips\": 124, \"percentage_of_trips\": 13.177470775770455}, {\"_gtfs_dataset_name\": \"Victor Valley Vehicle Position\", \"trip_category\": \"0 - 30 minutes\", \"rt_category\": \"0-20%\", \"rt_trip_counts_by_operator\": 721.0, \"total_trips\": 5, \"percentage_of_trips\": 0.6934812760055479}, {\"_gtfs_dataset_name\": \"Victor Valley Vehicle Position\", \"trip_category\": \"0 - 30 minutes\", \"rt_category\": \"21-40%\", \"rt_trip_counts_by_operator\": 721.0, \"total_trips\": 1, \"percentage_of_trips\": 0.13869625520110956}, {\"_gtfs_dataset_name\": \"Victor Valley Vehicle Position\", \"trip_category\": \"0 - 30 minutes\", \"rt_category\": \"41-60%\", \"rt_trip_counts_by_operator\": 721.0, \"total_trips\": 3, \"percentage_of_trips\": 0.4160887656033287}, {\"_gtfs_dataset_name\": \"Victor Valley Vehicle Position\", \"trip_category\": \"0 - 30 minutes\", \"rt_category\": \"61-80%\", \"rt_trip_counts_by_operator\": 721.0, \"total_trips\": 1, \"percentage_of_trips\": 0.13869625520110956}, {\"_gtfs_dataset_name\": \"Victor Valley Vehicle Position\", \"trip_category\": \"0 - 30 minutes\", \"rt_category\": \"81-100%\", \"rt_trip_counts_by_operator\": 721.0, \"total_trips\": 198, \"percentage_of_trips\": 27.461858529819693}, {\"_gtfs_dataset_name\": \"Victor Valley Vehicle Position\", \"trip_category\": \"31-60 minutes\", \"rt_category\": \"0-20%\", \"rt_trip_counts_by_operator\": 721.0, \"total_trips\": 1, \"percentage_of_trips\": 0.13869625520110956}, {\"_gtfs_dataset_name\": \"Victor Valley Vehicle Position\", \"trip_category\": \"31-60 minutes\", \"rt_category\": \"61-80%\", \"rt_trip_counts_by_operator\": 721.0, \"total_trips\": 1, \"percentage_of_trips\": 0.13869625520110956}, {\"_gtfs_dataset_name\": \"Victor Valley Vehicle Position\", \"trip_category\": \"31-60 minutes\", \"rt_category\": \"81-100%\", \"rt_trip_counts_by_operator\": 721.0, \"total_trips\": 346, \"percentage_of_trips\": 47.988904299583915}, {\"_gtfs_dataset_name\": \"Victor Valley Vehicle Position\", \"trip_category\": \"61-90 minutes\", \"rt_category\": \"81-100%\", \"rt_trip_counts_by_operator\": 721.0, \"total_trips\": 92, \"percentage_of_trips\": 12.76005547850208}, {\"_gtfs_dataset_name\": \"Victor Valley Vehicle Position\", \"trip_category\": \"90 + minutes\", \"rt_category\": \"81-100%\", \"rt_trip_counts_by_operator\": 721.0, \"total_trips\": 73, \"percentage_of_trips\": 10.124826629680998}, {\"_gtfs_dataset_name\": \"Visalia VehiclePositions\", \"trip_category\": \"0 - 30 minutes\", \"rt_category\": \"0-20%\", \"rt_trip_counts_by_operator\": 328.0, \"total_trips\": 5, \"percentage_of_trips\": 1.524390243902439}, {\"_gtfs_dataset_name\": \"Visalia VehiclePositions\", \"trip_category\": \"0 - 30 minutes\", \"rt_category\": \"21-40%\", \"rt_trip_counts_by_operator\": 328.0, \"total_trips\": 5, \"percentage_of_trips\": 1.524390243902439}, {\"_gtfs_dataset_name\": \"Visalia VehiclePositions\", \"trip_category\": \"0 - 30 minutes\", \"rt_category\": \"41-60%\", \"rt_trip_counts_by_operator\": 328.0, \"total_trips\": 8, \"percentage_of_trips\": 2.4390243902439024}, {\"_gtfs_dataset_name\": \"Visalia VehiclePositions\", \"trip_category\": \"0 - 30 minutes\", \"rt_category\": \"61-80%\", \"rt_trip_counts_by_operator\": 328.0, \"total_trips\": 20, \"percentage_of_trips\": 6.097560975609756}, {\"_gtfs_dataset_name\": \"Visalia VehiclePositions\", \"trip_category\": \"0 - 30 minutes\", \"rt_category\": \"81-100%\", \"rt_trip_counts_by_operator\": 328.0, \"total_trips\": 98, \"percentage_of_trips\": 29.878048780487802}, {\"_gtfs_dataset_name\": \"Visalia VehiclePositions\", \"trip_category\": \"31-60 minutes\", \"rt_category\": \"0-20%\", \"rt_trip_counts_by_operator\": 328.0, \"total_trips\": 2, \"percentage_of_trips\": 0.6097560975609756}, {\"_gtfs_dataset_name\": \"Visalia VehiclePositions\", \"trip_category\": \"31-60 minutes\", \"rt_category\": \"61-80%\", \"rt_trip_counts_by_operator\": 328.0, \"total_trips\": 4, \"percentage_of_trips\": 1.2195121951219512}, {\"_gtfs_dataset_name\": \"Visalia VehiclePositions\", \"trip_category\": \"31-60 minutes\", \"rt_category\": \"81-100%\", \"rt_trip_counts_by_operator\": 328.0, \"total_trips\": 168, \"percentage_of_trips\": 51.21951219512195}, {\"_gtfs_dataset_name\": \"Visalia VehiclePositions\", \"trip_category\": \"61-90 minutes\", \"rt_category\": \"81-100%\", \"rt_trip_counts_by_operator\": 328.0, \"total_trips\": 2, \"percentage_of_trips\": 0.6097560975609756}, {\"_gtfs_dataset_name\": \"Visalia VehiclePositions\", \"trip_category\": \"90 + minutes\", \"rt_category\": \"61-80%\", \"rt_trip_counts_by_operator\": 328.0, \"total_trips\": 1, \"percentage_of_trips\": 0.3048780487804878}, {\"_gtfs_dataset_name\": \"Visalia VehiclePositions\", \"trip_category\": \"90 + minutes\", \"rt_category\": \"81-100%\", \"rt_trip_counts_by_operator\": 328.0, \"total_trips\": 15, \"percentage_of_trips\": 4.573170731707317}, {\"_gtfs_dataset_name\": \"WeHo Vehicle Positions\", \"trip_category\": \"0 - 30 minutes\", \"rt_category\": \"41-60%\", \"rt_trip_counts_by_operator\": 30.0, \"total_trips\": 2, \"percentage_of_trips\": 6.666666666666667}, {\"_gtfs_dataset_name\": \"WeHo Vehicle Positions\", \"trip_category\": \"0 - 30 minutes\", \"rt_category\": \"61-80%\", \"rt_trip_counts_by_operator\": 30.0, \"total_trips\": 2, \"percentage_of_trips\": 6.666666666666667}, {\"_gtfs_dataset_name\": \"WeHo Vehicle Positions\", \"trip_category\": \"0 - 30 minutes\", \"rt_category\": \"81-100%\", \"rt_trip_counts_by_operator\": 30.0, \"total_trips\": 4, \"percentage_of_trips\": 13.333333333333334}, {\"_gtfs_dataset_name\": \"WeHo Vehicle Positions\", \"trip_category\": \"31-60 minutes\", \"rt_category\": \"61-80%\", \"rt_trip_counts_by_operator\": 30.0, \"total_trips\": 2, \"percentage_of_trips\": 6.666666666666667}, {\"_gtfs_dataset_name\": \"WeHo Vehicle Positions\", \"trip_category\": \"31-60 minutes\", \"rt_category\": \"81-100%\", \"rt_trip_counts_by_operator\": 30.0, \"total_trips\": 7, \"percentage_of_trips\": 23.333333333333332}, {\"_gtfs_dataset_name\": \"WeHo Vehicle Positions\", \"trip_category\": \"61-90 minutes\", \"rt_category\": \"81-100%\", \"rt_trip_counts_by_operator\": 30.0, \"total_trips\": 11, \"percentage_of_trips\": 36.666666666666664}, {\"_gtfs_dataset_name\": \"WeHo Vehicle Positions\", \"trip_category\": \"90 + minutes\", \"rt_category\": \"61-80%\", \"rt_trip_counts_by_operator\": 30.0, \"total_trips\": 1, \"percentage_of_trips\": 3.3333333333333335}, {\"_gtfs_dataset_name\": \"WeHo Vehicle Positions\", \"trip_category\": \"90 + minutes\", \"rt_category\": \"81-100%\", \"rt_trip_counts_by_operator\": 30.0, \"total_trips\": 1, \"percentage_of_trips\": 3.3333333333333335}]}}, {\"mode\": \"vega-lite\"});\n",
       "</script>"
      ],
      "text/plain": [
       "alt.Chart(...)"
      ]
     },
     "execution_count": 103,
     "metadata": {},
     "output_type": "execute_result"
    }
   ],
   "source": [
    "threshold_utils.chart_size(rt_trip_time_chart,500,400)"
   ]
  },
  {
   "cell_type": "markdown",
   "id": "b20c1284-58d3-40f3-a2dd-4cab971ad2a4",
   "metadata": {},
   "source": [
    "#### Statewide\n",
    "* why is `len(final.loc[final.rounded_rt_data_proportion_percentage == 0])` yielding different results than my graph?\n",
    "* bc I used `trip_id:nunique` instead of `trip_id:count`"
   ]
  },
  {
   "cell_type": "code",
   "execution_count": 50,
   "id": "c773604e-1d6d-48d6-8890-8d798199e852",
   "metadata": {},
   "outputs": [],
   "source": [
    "all_trips = final.trip_id.nunique()"
   ]
  },
  {
   "cell_type": "code",
   "execution_count": 107,
   "id": "21a738de-ac54-4154-bfb7-3abd0c60bac7",
   "metadata": {},
   "outputs": [
    {
     "data": {
      "text/plain": [
       "95184"
      ]
     },
     "execution_count": 107,
     "metadata": {},
     "output_type": "execute_result"
    }
   ],
   "source": [
    "all_trips"
   ]
  },
  {
   "cell_type": "code",
   "execution_count": 77,
   "id": "5e083847-020a-4625-8109-1e5ae108b2c1",
   "metadata": {},
   "outputs": [
    {
     "name": "stdout",
     "output_type": "stream",
     "text": [
      "39442\n",
      "205\n",
      "302\n",
      "634\n",
      "572\n",
      "448\n",
      "649\n",
      "1277\n",
      "2975\n",
      "5499\n",
      "46102\n"
     ]
    }
   ],
   "source": [
    "for i in [0,10,20,30,40,50,60,70,80,90,100]:\n",
    "    print(len(final.loc[final.rounded_rt_data_proportion_percentage == i]))"
   ]
  },
  {
   "cell_type": "code",
   "execution_count": 53,
   "id": "6c0237aa-440e-4894-914f-895751df5e7e",
   "metadata": {},
   "outputs": [],
   "source": [
    "total_sw_rt = rt_scheduled.groupby(['rounded_rt_data_proportion_percentage']).agg({'total_trips':'sum'}).reset_index()"
   ]
  },
  {
   "cell_type": "code",
   "execution_count": 54,
   "id": "55051b94-bb5c-4736-84c5-3e2db965864d",
   "metadata": {},
   "outputs": [],
   "source": [
    "total_sw_rt['Percentage of Usable Trips'] = total_sw_rt['total_trips'].div(all_trips)*100"
   ]
  },
  {
   "cell_type": "code",
   "execution_count": 109,
   "id": "8de24756-33ca-498b-a3d5-4e21ddacdea3",
   "metadata": {},
   "outputs": [
    {
     "data": {
      "text/plain": [
       "636"
      ]
     },
     "execution_count": 109,
     "metadata": {},
     "output_type": "execute_result"
    }
   ],
   "source": [
    "39442-38806"
   ]
  },
  {
   "cell_type": "code",
   "execution_count": 106,
   "id": "9718e0a4-495d-4513-a705-6b15c5900d34",
   "metadata": {},
   "outputs": [
    {
     "data": {
      "text/html": [
       "<div>\n",
       "<style scoped>\n",
       "    .dataframe tbody tr th:only-of-type {\n",
       "        vertical-align: middle;\n",
       "    }\n",
       "\n",
       "    .dataframe tbody tr th {\n",
       "        vertical-align: top;\n",
       "    }\n",
       "\n",
       "    .dataframe thead th {\n",
       "        text-align: right;\n",
       "    }\n",
       "</style>\n",
       "<table border=\"1\" class=\"dataframe\">\n",
       "  <thead>\n",
       "    <tr style=\"text-align: right;\">\n",
       "      <th></th>\n",
       "      <th>rounded_rt_data_proportion_percentage</th>\n",
       "      <th>total_trips</th>\n",
       "      <th>Percentage of Usable Trips</th>\n",
       "    </tr>\n",
       "  </thead>\n",
       "  <tbody>\n",
       "    <tr>\n",
       "      <th>0</th>\n",
       "      <td>0</td>\n",
       "      <td>38806</td>\n",
       "      <td>40.77</td>\n",
       "    </tr>\n",
       "    <tr>\n",
       "      <th>1</th>\n",
       "      <td>10</td>\n",
       "      <td>205</td>\n",
       "      <td>0.22</td>\n",
       "    </tr>\n",
       "    <tr>\n",
       "      <th>2</th>\n",
       "      <td>20</td>\n",
       "      <td>302</td>\n",
       "      <td>0.32</td>\n",
       "    </tr>\n",
       "    <tr>\n",
       "      <th>3</th>\n",
       "      <td>30</td>\n",
       "      <td>634</td>\n",
       "      <td>0.67</td>\n",
       "    </tr>\n",
       "    <tr>\n",
       "      <th>4</th>\n",
       "      <td>40</td>\n",
       "      <td>572</td>\n",
       "      <td>0.60</td>\n",
       "    </tr>\n",
       "    <tr>\n",
       "      <th>5</th>\n",
       "      <td>50</td>\n",
       "      <td>448</td>\n",
       "      <td>0.47</td>\n",
       "    </tr>\n",
       "    <tr>\n",
       "      <th>6</th>\n",
       "      <td>60</td>\n",
       "      <td>649</td>\n",
       "      <td>0.68</td>\n",
       "    </tr>\n",
       "    <tr>\n",
       "      <th>7</th>\n",
       "      <td>70</td>\n",
       "      <td>1277</td>\n",
       "      <td>1.34</td>\n",
       "    </tr>\n",
       "    <tr>\n",
       "      <th>8</th>\n",
       "      <td>80</td>\n",
       "      <td>2975</td>\n",
       "      <td>3.13</td>\n",
       "    </tr>\n",
       "    <tr>\n",
       "      <th>9</th>\n",
       "      <td>90</td>\n",
       "      <td>5499</td>\n",
       "      <td>5.78</td>\n",
       "    </tr>\n",
       "    <tr>\n",
       "      <th>10</th>\n",
       "      <td>100</td>\n",
       "      <td>46102</td>\n",
       "      <td>48.43</td>\n",
       "    </tr>\n",
       "  </tbody>\n",
       "</table>\n",
       "</div>"
      ],
      "text/plain": [
       "    rounded_rt_data_proportion_percentage  total_trips  \\\n",
       "0                                       0        38806   \n",
       "1                                      10          205   \n",
       "2                                      20          302   \n",
       "3                                      30          634   \n",
       "4                                      40          572   \n",
       "5                                      50          448   \n",
       "6                                      60          649   \n",
       "7                                      70         1277   \n",
       "8                                      80         2975   \n",
       "9                                      90         5499   \n",
       "10                                    100        46102   \n",
       "\n",
       "    Percentage of Usable Trips  \n",
       "0                        40.77  \n",
       "1                         0.22  \n",
       "2                         0.32  \n",
       "3                         0.67  \n",
       "4                         0.60  \n",
       "5                         0.47  \n",
       "6                         0.68  \n",
       "7                         1.34  \n",
       "8                         3.13  \n",
       "9                         5.78  \n",
       "10                       48.43  "
      ]
     },
     "execution_count": 106,
     "metadata": {},
     "output_type": "execute_result"
    }
   ],
   "source": [
    "total_sw_rt"
   ]
  },
  {
   "cell_type": "code",
   "execution_count": 55,
   "id": "10563a41-458e-4ed7-9cc3-3566dcadc96d",
   "metadata": {},
   "outputs": [
    {
     "data": {
      "text/html": [
       "\n",
       "<div id=\"altair-viz-3ece37362cb24b5d99c6eeb89d024117\"></div>\n",
       "<script type=\"text/javascript\">\n",
       "  var VEGA_DEBUG = (typeof VEGA_DEBUG == \"undefined\") ? {} : VEGA_DEBUG;\n",
       "  (function(spec, embedOpt){\n",
       "    let outputDiv = document.currentScript.previousElementSibling;\n",
       "    if (outputDiv.id !== \"altair-viz-3ece37362cb24b5d99c6eeb89d024117\") {\n",
       "      outputDiv = document.getElementById(\"altair-viz-3ece37362cb24b5d99c6eeb89d024117\");\n",
       "    }\n",
       "    const paths = {\n",
       "      \"vega\": \"https://cdn.jsdelivr.net/npm//vega@5?noext\",\n",
       "      \"vega-lib\": \"https://cdn.jsdelivr.net/npm//vega-lib?noext\",\n",
       "      \"vega-lite\": \"https://cdn.jsdelivr.net/npm//vega-lite@4.17.0?noext\",\n",
       "      \"vega-embed\": \"https://cdn.jsdelivr.net/npm//vega-embed@6?noext\",\n",
       "    };\n",
       "\n",
       "    function maybeLoadScript(lib, version) {\n",
       "      var key = `${lib.replace(\"-\", \"\")}_version`;\n",
       "      return (VEGA_DEBUG[key] == version) ?\n",
       "        Promise.resolve(paths[lib]) :\n",
       "        new Promise(function(resolve, reject) {\n",
       "          var s = document.createElement('script');\n",
       "          document.getElementsByTagName(\"head\")[0].appendChild(s);\n",
       "          s.async = true;\n",
       "          s.onload = () => {\n",
       "            VEGA_DEBUG[key] = version;\n",
       "            return resolve(paths[lib]);\n",
       "          };\n",
       "          s.onerror = () => reject(`Error loading script: ${paths[lib]}`);\n",
       "          s.src = paths[lib];\n",
       "        });\n",
       "    }\n",
       "\n",
       "    function showError(err) {\n",
       "      outputDiv.innerHTML = `<div class=\"error\" style=\"color:red;\">${err}</div>`;\n",
       "      throw err;\n",
       "    }\n",
       "\n",
       "    function displayChart(vegaEmbed) {\n",
       "      vegaEmbed(outputDiv, spec, embedOpt)\n",
       "        .catch(err => showError(`Javascript Error: ${err.message}<br>This usually means there's a typo in your chart specification. See the javascript console for the full traceback.`));\n",
       "    }\n",
       "\n",
       "    if(typeof define === \"function\" && define.amd) {\n",
       "      requirejs.config({paths});\n",
       "      require([\"vega-embed\"], displayChart, err => showError(`Error loading script: ${err.message}`));\n",
       "    } else {\n",
       "      maybeLoadScript(\"vega\", \"5\")\n",
       "        .then(() => maybeLoadScript(\"vega-lite\", \"4.17.0\"))\n",
       "        .then(() => maybeLoadScript(\"vega-embed\", \"6\"))\n",
       "        .catch(showError)\n",
       "        .then(() => displayChart(vegaEmbed));\n",
       "    }\n",
       "  })({\"config\": {\"view\": {\"continuousWidth\": 400, \"continuousHeight\": 300}}, \"data\": {\"name\": \"data-351bc67be02c591490fe623d8fa9048b\"}, \"mark\": {\"type\": \"bar\", \"size\": 30}, \"encoding\": {\"color\": {\"field\": \"rounded_rt_data_proportion_percentage\", \"legend\": null, \"scale\": {\"range\": [\"#2EA8CE\", \"#EB9F3C\", \"#F4D837\", \"#51BF9D\", \"#8CBCCB\", \"#9487C0\"]}, \"type\": \"quantitative\"}, \"tooltip\": [{\"field\": \"rounded_rt_data_proportion_percentage\", \"type\": \"quantitative\"}, {\"field\": \"total_trips\", \"type\": \"quantitative\"}, {\"field\": \"Percentage of Usable Trips\", \"type\": \"quantitative\"}], \"x\": {\"field\": \"rounded_rt_data_proportion_percentage\", \"scale\": {\"domain\": [0, 10, 20, 30, 40, 50, 60, 70, 80, 90, 100]}, \"type\": \"nominal\"}, \"y\": {\"field\": \"Percentage of Usable Trips\", \"type\": \"quantitative\"}}, \"height\": 400, \"width\": 500, \"$schema\": \"https://vega.github.io/schema/vega-lite/v4.17.0.json\", \"datasets\": {\"data-351bc67be02c591490fe623d8fa9048b\": [{\"rounded_rt_data_proportion_percentage\": 0, \"total_trips\": 38806, \"Percentage of Usable Trips\": 40.769457051605315}, {\"rounded_rt_data_proportion_percentage\": 10, \"total_trips\": 205, \"Percentage of Usable Trips\": 0.21537233148428309}, {\"rounded_rt_data_proportion_percentage\": 20, \"total_trips\": 302, \"Percentage of Usable Trips\": 0.3172802151622121}, {\"rounded_rt_data_proportion_percentage\": 30, \"total_trips\": 634, \"Percentage of Usable Trips\": 0.666078332492856}, {\"rounded_rt_data_proportion_percentage\": 40, \"total_trips\": 572, \"Percentage of Usable Trips\": 0.6009413346780972}, {\"rounded_rt_data_proportion_percentage\": 50, \"total_trips\": 448, \"Percentage of Usable Trips\": 0.4706673390485796}, {\"rounded_rt_data_proportion_percentage\": 60, \"total_trips\": 649, \"Percentage of Usable Trips\": 0.6818372835770717}, {\"rounded_rt_data_proportion_percentage\": 70, \"total_trips\": 1277, \"Percentage of Usable Trips\": 1.3416120356362413}, {\"rounded_rt_data_proportion_percentage\": 80, \"total_trips\": 2975, \"Percentage of Usable Trips\": 3.125525298369474}, {\"rounded_rt_data_proportion_percentage\": 90, \"total_trips\": 5499, \"Percentage of Usable Trips\": 5.777231467473525}, {\"rounded_rt_data_proportion_percentage\": 100, \"total_trips\": 46102, \"Percentage of Usable Trips\": 48.43461085896789}]}}, {\"mode\": \"vega-lite\"});\n",
       "</script>"
      ],
      "text/plain": [
       "alt.Chart(...)"
      ]
     },
     "execution_count": 55,
     "metadata": {},
     "output_type": "execute_result"
    }
   ],
   "source": [
    "threshold_utils.chart_size(alt.Chart(total_sw_rt).mark_bar(size=30).encode(\n",
    "    x=alt.X('rounded_rt_data_proportion_percentage:N',\n",
    "        scale=alt.Scale(domain = [0,10,20,30,40,50,60,70,80,90,100])),\n",
    "    y=alt.Y('Percentage of Usable Trips',),\n",
    "    color=alt.Color(\"rounded_rt_data_proportion_percentage\",\n",
    "            scale=alt.Scale(range=cp.CALITP_CATEGORY_BRIGHT_COLORS), legend=None),\n",
    "    tooltip = total_sw_rt.columns.tolist()\n",
    "),500,400)"
   ]
  },
  {
   "cell_type": "code",
   "execution_count": 57,
   "id": "f900a814-da27-47c2-83d4-7ffd160dc81b",
   "metadata": {},
   "outputs": [],
   "source": [
    "sw_rt_trips = rt_trip_time.groupby(['rt_category','trip_category']).agg({'total_trips':'sum'}).reset_index()"
   ]
  },
  {
   "cell_type": "code",
   "execution_count": 58,
   "id": "8255a32b-9bff-4e50-860e-c01b950856a4",
   "metadata": {},
   "outputs": [],
   "source": [
    "sw_rt_trips['Percentage of Usable Trips'] = sw_rt_trips['total_trips'].div(all_trips)*100\n"
   ]
  },
  {
   "cell_type": "code",
   "execution_count": 59,
   "id": "b30b4778-0a58-4bf6-811e-ab2c343687f7",
   "metadata": {},
   "outputs": [
    {
     "data": {
      "text/html": [
       "\n",
       "<div id=\"altair-viz-cc90469592844f19910ddbf2e5a450c8\"></div>\n",
       "<script type=\"text/javascript\">\n",
       "  var VEGA_DEBUG = (typeof VEGA_DEBUG == \"undefined\") ? {} : VEGA_DEBUG;\n",
       "  (function(spec, embedOpt){\n",
       "    let outputDiv = document.currentScript.previousElementSibling;\n",
       "    if (outputDiv.id !== \"altair-viz-cc90469592844f19910ddbf2e5a450c8\") {\n",
       "      outputDiv = document.getElementById(\"altair-viz-cc90469592844f19910ddbf2e5a450c8\");\n",
       "    }\n",
       "    const paths = {\n",
       "      \"vega\": \"https://cdn.jsdelivr.net/npm//vega@5?noext\",\n",
       "      \"vega-lib\": \"https://cdn.jsdelivr.net/npm//vega-lib?noext\",\n",
       "      \"vega-lite\": \"https://cdn.jsdelivr.net/npm//vega-lite@4.17.0?noext\",\n",
       "      \"vega-embed\": \"https://cdn.jsdelivr.net/npm//vega-embed@6?noext\",\n",
       "    };\n",
       "\n",
       "    function maybeLoadScript(lib, version) {\n",
       "      var key = `${lib.replace(\"-\", \"\")}_version`;\n",
       "      return (VEGA_DEBUG[key] == version) ?\n",
       "        Promise.resolve(paths[lib]) :\n",
       "        new Promise(function(resolve, reject) {\n",
       "          var s = document.createElement('script');\n",
       "          document.getElementsByTagName(\"head\")[0].appendChild(s);\n",
       "          s.async = true;\n",
       "          s.onload = () => {\n",
       "            VEGA_DEBUG[key] = version;\n",
       "            return resolve(paths[lib]);\n",
       "          };\n",
       "          s.onerror = () => reject(`Error loading script: ${paths[lib]}`);\n",
       "          s.src = paths[lib];\n",
       "        });\n",
       "    }\n",
       "\n",
       "    function showError(err) {\n",
       "      outputDiv.innerHTML = `<div class=\"error\" style=\"color:red;\">${err}</div>`;\n",
       "      throw err;\n",
       "    }\n",
       "\n",
       "    function displayChart(vegaEmbed) {\n",
       "      vegaEmbed(outputDiv, spec, embedOpt)\n",
       "        .catch(err => showError(`Javascript Error: ${err.message}<br>This usually means there's a typo in your chart specification. See the javascript console for the full traceback.`));\n",
       "    }\n",
       "\n",
       "    if(typeof define === \"function\" && define.amd) {\n",
       "      requirejs.config({paths});\n",
       "      require([\"vega-embed\"], displayChart, err => showError(`Error loading script: ${err.message}`));\n",
       "    } else {\n",
       "      maybeLoadScript(\"vega\", \"5\")\n",
       "        .then(() => maybeLoadScript(\"vega-lite\", \"4.17.0\"))\n",
       "        .then(() => maybeLoadScript(\"vega-embed\", \"6\"))\n",
       "        .catch(showError)\n",
       "        .then(() => displayChart(vegaEmbed));\n",
       "    }\n",
       "  })({\"config\": {\"view\": {\"continuousWidth\": 400, \"continuousHeight\": 300}}, \"data\": {\"name\": \"data-d31e390ee1200c28d381983d82665cce\"}, \"mark\": \"bar\", \"encoding\": {\"color\": {\"field\": \"rt_category\", \"scale\": {\"range\": [\"#2EA8CE\", \"#EB9F3C\", \"#F4D837\", \"#51BF9D\", \"#8CBCCB\", \"#9487C0\"]}, \"type\": \"nominal\"}, \"tooltip\": [{\"field\": \"rt_category\", \"type\": \"nominal\"}, {\"field\": \"trip_category\", \"type\": \"nominal\"}, {\"field\": \"total_trips\", \"type\": \"quantitative\"}, {\"field\": \"Percentage of Usable Trips\", \"type\": \"quantitative\"}], \"x\": {\"axis\": {\"labelAngle\": -45}, \"field\": \"trip_category\", \"type\": \"nominal\"}, \"y\": {\"field\": \"Percentage of Usable Trips\", \"type\": \"quantitative\"}}, \"height\": 400, \"width\": 500, \"$schema\": \"https://vega.github.io/schema/vega-lite/v4.17.0.json\", \"datasets\": {\"data-d31e390ee1200c28d381983d82665cce\": [{\"rt_category\": \"0-20%\", \"trip_category\": \"0 - 30 minutes\", \"total_trips\": 38921, \"Percentage of Usable Trips\": 40.890275676584295}, {\"rt_category\": \"0-20%\", \"trip_category\": \"31-60 minutes\", \"total_trips\": 46, \"Percentage of Usable Trips\": 0.04832744999159523}, {\"rt_category\": \"0-20%\", \"trip_category\": \"61-90 minutes\", \"total_trips\": 21, \"Percentage of Usable Trips\": 0.02206253151790217}, {\"rt_category\": \"0-20%\", \"trip_category\": \"90 + minutes\", \"total_trips\": 23, \"Percentage of Usable Trips\": 0.024163724995797616}, {\"rt_category\": \"21-40%\", \"trip_category\": \"0 - 30 minutes\", \"total_trips\": 239, \"Percentage of Usable Trips\": 0.2510926206085056}, {\"rt_category\": \"21-40%\", \"trip_category\": \"31-60 minutes\", \"total_trips\": 167, \"Percentage of Usable Trips\": 0.17544965540426963}, {\"rt_category\": \"21-40%\", \"trip_category\": \"61-90 minutes\", \"total_trips\": 225, \"Percentage of Usable Trips\": 0.23638426626323752}, {\"rt_category\": \"21-40%\", \"trip_category\": \"90 + minutes\", \"total_trips\": 269, \"Percentage of Usable Trips\": 0.2826105227769373}, {\"rt_category\": \"41-60%\", \"trip_category\": \"0 - 30 minutes\", \"total_trips\": 293, \"Percentage of Usable Trips\": 0.3078248445116826}, {\"rt_category\": \"41-60%\", \"trip_category\": \"31-60 minutes\", \"total_trips\": 197, \"Percentage of Usable Trips\": 0.2069675575727013}, {\"rt_category\": \"41-60%\", \"trip_category\": \"61-90 minutes\", \"total_trips\": 185, \"Percentage of Usable Trips\": 0.19436039670532862}, {\"rt_category\": \"41-60%\", \"trip_category\": \"90 + minutes\", \"total_trips\": 254, \"Percentage of Usable Trips\": 0.2668515716927215}, {\"rt_category\": \"61-80%\", \"trip_category\": \"0 - 30 minutes\", \"total_trips\": 739, \"Percentage of Usable Trips\": 0.7763909900823668}, {\"rt_category\": \"61-80%\", \"trip_category\": \"31-60 minutes\", \"total_trips\": 708, \"Percentage of Usable Trips\": 0.7438224911749873}, {\"rt_category\": \"61-80%\", \"trip_category\": \"61-90 minutes\", \"total_trips\": 263, \"Percentage of Usable Trips\": 0.2763069423432509}, {\"rt_category\": \"61-80%\", \"trip_category\": \"90 + minutes\", \"total_trips\": 142, \"Percentage of Usable Trips\": 0.14918473693057654}, {\"rt_category\": \"81-100%\", \"trip_category\": \"0 - 30 minutes\", \"total_trips\": 8331, \"Percentage of Usable Trips\": 8.752521432173474}, {\"rt_category\": \"81-100%\", \"trip_category\": \"31-60 minutes\", \"total_trips\": 19633, \"Percentage of Usable Trips\": 20.626365775760632}, {\"rt_category\": \"81-100%\", \"trip_category\": \"61-90 minutes\", \"total_trips\": 16477, \"Percentage of Usable Trips\": 17.31068246764162}, {\"rt_category\": \"81-100%\", \"trip_category\": \"90 + minutes\", \"total_trips\": 10336, \"Percentage of Usable Trips\": 10.858967893763657}]}}, {\"mode\": \"vega-lite\"});\n",
       "</script>"
      ],
      "text/plain": [
       "alt.Chart(...)"
      ]
     },
     "execution_count": 59,
     "metadata": {},
     "output_type": "execute_result"
    }
   ],
   "source": [
    "threshold_utils.chart_size(alt.Chart(sw_rt_trips).mark_bar().encode(\n",
    "    x=alt.X('trip_category', axis=alt.Axis(labelAngle=-45)),\n",
    "    y='Percentage of Usable Trips',\n",
    "    color=alt.Color(\"rt_category\", scale=alt.Scale(range=cp.CALITP_CATEGORY_BRIGHT_COLORS)),\n",
    "    tooltip = sw_rt_trips.columns.tolist()\n",
    "),500,400)"
   ]
  },
  {
   "cell_type": "markdown",
   "id": "11e71f72-431c-4a8e-ba15-c3ee9215b46a",
   "metadata": {},
   "source": [
    "#### Scratch"
   ]
  },
  {
   "cell_type": "code",
   "execution_count": 60,
   "id": "60936113-75ab-4067-b014-b30dbc54153f",
   "metadata": {},
   "outputs": [],
   "source": [
    "def summary_valid_trips_by_cutoff(df, time_col:str, phrase:str,\n",
    "                                  time_cutoffs: list, ping_cutoffs: list,\n",
    "                                  pings: bool = True):\n",
    "    \"\"\"\n",
    "    Find percentage & number of trips that meet trip time elapsed\n",
    "    and pings. \n",
    "    \"\"\"\n",
    "    group_by_cols = [\"gtfs_dataset_key\", \"_gtfs_dataset_name\", \"rt_trip_counts_by_operator\"]\n",
    "    final = pd.DataFrame()\n",
    "\n",
    "    if pings:\n",
    "        for t in time_cutoffs:\n",
    "            for s in ping_cutoffs:\n",
    "                valid = (\n",
    "                df[(df[time_col] >= t) & (df.pings_per_minute >= s)]\n",
    "                .groupby(group_by_cols)\n",
    "                .trip_id.nunique()\n",
    "                .reset_index()\n",
    "                .rename(columns={\"trip_id\": \"n_trips\"})\n",
    "                )\n",
    "                \n",
    "                valid = valid.assign(\n",
    "                trip_cutoff=t, pings=s, cutoff=f\"{t} {phrase} & {s} ping(s)+ per minute\")\n",
    "\n",
    "                final = pd.concat([final, valid], axis=0)\n",
    "    else:\n",
    "        for t in time_cutoffs:\n",
    "            valid = (\n",
    "                df[(df[time_col] >= t)]\n",
    "                .groupby(group_by_cols)\n",
    "                .trip_id.nunique()\n",
    "                .reset_index()\n",
    "                .rename(columns={\"trip_id\": \"n_trips\"})\n",
    "                )\n",
    "\n",
    "            valid = valid.assign(\n",
    "                 trip_cutoff=t,cutoff=f\"{t}{phrase}\"\n",
    "                )\n",
    "\n",
    "            final = pd.concat([final, valid], axis=0)\n",
    "\n",
    "    final = final.assign(percentage_usable_trips=final.n_trips.divide(final.rt_trip_counts_by_operator) * 100)\n",
    "    final = final.sort_values('_gtfs_dataset_name')\n",
    "    return final"
   ]
  },
  {
   "cell_type": "code",
   "execution_count": 61,
   "id": "2b48705b-1149-4819-9252-fb4f6b4a0968",
   "metadata": {},
   "outputs": [],
   "source": [
    "def create_valid_stats(df):\n",
    "    # Prepare valid stats\n",
    "    pings_trip_duration_ops = summary_valid_trips_by_cutoff(df, \"actual_trip_duration_minutes\", \"+ min\", [15,30,60], [1,2,3])\n",
    "    rt_data_available = summary_valid_trips_by_cutoff(df,\"rt_data_proportion\", \"%+\", [20,40,60,80,100], [1,2,3], True)\n",
    "    \n",
    "     # Clean df\n",
    "    pings_trip_duration_ops = threshold_utils.pre_clean(pings_trip_duration_ops)\n",
    "    rt_data_available = threshold_utils.pre_clean(rt_data_available)\n",
    "    \n",
    "    return pings_trip_duration_ops,rt_data_available"
   ]
  },
  {
   "cell_type": "code",
   "execution_count": 62,
   "id": "16908890-c998-4b80-9d6c-6c7cfa8fcad7",
   "metadata": {},
   "outputs": [],
   "source": [
    "def operator_visuals(df):\n",
    "    \"\"\"\n",
    "    Return one chart for trip time & # of pings\n",
    "    and another chart for RT vs Scheduled\n",
    "    data\n",
    "    \"\"\"\n",
    "    pings_trip_duration_ops,rt_data_available = create_valid_stats(df)\n",
    "    \n",
    "    # Prepare dropdown menu\n",
    "    dropdown_list = pings_trip_duration_ops[\"Gtfs Dataset Name\"].sort_values().unique().tolist()\n",
    "    dropdown = alt.binding_select(options=[None] + dropdown_list, labels = ['All'] + dropdown_list, name = \"Operator\")    \n",
    "    selection = alt.selection_single(fields=['Gtfs Dataset Name'], bind=dropdown)\n",
    "    \n",
    "    # Create charts\n",
    "    pings_chart = threshold_utils.bar_chart(pings_trip_duration_ops, 'Percentage Usable Trips', \"Cutoff\",\n",
    "    ['Gtfs Dataset Key', 'Gtfs Dataset Name','N Trips',\n",
    "    'Cutoff', 'Percentage Usable Trips'], \"Pings and RT Trip Time Elapsed\") \n",
    "    \n",
    "    rt_chart = threshold_utils.bar_chart(rt_data_available, 'Percentage Usable Trips', \"Cutoff\", \n",
    "                                         ['Gtfs Dataset Key', 'Gtfs Dataset Name','Trip Cutoff', 'Percentage Usable Trips', 'N Trips'],\n",
    "                          \"Real Time vs. Scheduled Data Percentage\")\n",
    "    \n",
    "    # Clean Charts\n",
    "    pings_chart = threshold_utils.chart_size(pings_chart.add_selection(selection).transform_filter(selection).interactive(), 500, 400)\n",
    "    rt_chart = threshold_utils.chart_size(rt_chart.add_selection(selection).transform_filter(selection).interactive(), 500, 400)\n",
    "    \n",
    "    return pings_chart & rt_chart"
   ]
  },
  {
   "cell_type": "code",
   "execution_count": 63,
   "id": "6646a7ab-3e80-4254-b240-a7fa267686bd",
   "metadata": {},
   "outputs": [],
   "source": [
    "# operator_visuals(final)"
   ]
  },
  {
   "cell_type": "markdown",
   "id": "5bf4ce18-dff1-4660-8c8c-aa79e3707ece",
   "metadata": {},
   "source": [
    "* Double check with Unitrans"
   ]
  },
  {
   "cell_type": "code",
   "execution_count": 64,
   "id": "dfbafc59-4311-445f-a65a-9d2fe3ad4e03",
   "metadata": {
    "tags": []
   },
   "outputs": [],
   "source": [
    "# len(final[(final[\"_gtfs_dataset_name\"] == \"Unitrans Vehicle Positions\") & (final[\"pings_per_minute\"] > 1) & (final[\"actual_trip_duration_minutes\"] > 15)])"
   ]
  },
  {
   "cell_type": "code",
   "execution_count": 65,
   "id": "b34434b0-9b88-4069-8b97-7d2018019398",
   "metadata": {},
   "outputs": [],
   "source": [
    "# len(final.loc[final._gtfs_dataset_name == \"Unitrans Vehicle Positions\"])"
   ]
  },
  {
   "cell_type": "code",
   "execution_count": 66,
   "id": "d1a7951a-3cc5-4233-9156-1af74e3ba2db",
   "metadata": {
    "scrolled": true,
    "tags": []
   },
   "outputs": [],
   "source": [
    "# final.loc[final._gtfs_dataset_name == \"Unitrans Vehicle Positions\"][['actual_trip_duration_minutes', 'rt_data_proportion','pings_per_minute']].sort_values('actual_trip_duration_minutes')"
   ]
  },
  {
   "cell_type": "code",
   "execution_count": 67,
   "id": "849c9555-dacc-4308-bff1-512f821baa74",
   "metadata": {
    "scrolled": true,
    "tags": []
   },
   "outputs": [],
   "source": [
    "# final[(final[\"_gtfs_dataset_name\"] == \"Unitrans Vehicle Positions\") & (final[\"pings_per_minute\"] > 1) & (final[\"actual_trip_duration_minutes\"] > 15)]"
   ]
  },
  {
   "cell_type": "markdown",
   "id": "7b285f3e-656a-4b46-9676-03459e2b6d6f",
   "metadata": {},
   "source": [
    "* Check with Redding"
   ]
  },
  {
   "cell_type": "code",
   "execution_count": 68,
   "id": "37e23fe3-dd89-45ac-b83f-6af7916c05c6",
   "metadata": {},
   "outputs": [],
   "source": [
    "# final[(final[\"_gtfs_dataset_name\"] == \"Redding Vehicle Positions\")].shape"
   ]
  },
  {
   "cell_type": "code",
   "execution_count": 69,
   "id": "82d1727e-e1db-4583-89d3-3db5c826fb7c",
   "metadata": {},
   "outputs": [],
   "source": [
    "# final[(final[\"_gtfs_dataset_name\"] == \"Redding Vehicle Positions\") & (final[\"rt_data_proportion\"] < 20)]"
   ]
  },
  {
   "cell_type": "code",
   "execution_count": 70,
   "id": "c1ae657e-4199-40b2-9279-ccba5c39a16a",
   "metadata": {
    "tags": []
   },
   "outputs": [],
   "source": [
    "# len(final[(final[\"_gtfs_dataset_name\"] == \"Redding Vehicle Positions\") & (final[\"rt_data_proportion\"] > 20)])"
   ]
  },
  {
   "cell_type": "markdown",
   "id": "96738d9d-9383-4010-a696-b8f14a7b280a",
   "metadata": {},
   "source": [
    "#### Statewide"
   ]
  },
  {
   "cell_type": "code",
   "execution_count": 71,
   "id": "ba975a10-322e-4c06-a710-71d25af03512",
   "metadata": {},
   "outputs": [],
   "source": [
    "def statewide_visuals(df):\n",
    "    # Prepare valid stats\n",
    "    pings_trip_duration_ops,rt_data_available = create_valid_stats(df)\n",
    "    \n",
    "    # Summarize to statewide level\n",
    "    def statewide(df): \n",
    "        summary = (df\n",
    "             .groupby(['Cutoff',])\n",
    "             .agg({'Rt Trip Counts By Operator':'max','N Trips':'max'})\n",
    "             .reset_index()\n",
    "             .rename(columns = {'Rt Trip Counts By Operator':'All Trips'})\n",
    "            )\n",
    "        \n",
    "        summary['Percentage of Usable Trips'] = summary['N Trips']/summary['All Trips']*100\n",
    "        return summary\n",
    "    \n",
    "    # Aggregate valid stats to statewide level\n",
    "    statewide_pings = statewide(pings_trip_duration_ops)\n",
    "    statewide_rt = statewide(rt_data_available)\n",
    "    \n",
    "    # Charts\n",
    "    pings_chart = threshold_utils.bar_chart(statewide_pings,  'Percentage of Usable Trips', \"Cutoff\", statewide_pings.columns.tolist(), \"Statewide Pings and RT Trip Time Elapsed\") \n",
    "    rt_chart = threshold_utils.bar_chart(statewide_rt,  'Percentage of Usable Trips', \"Cutoff\",statewide_rt.columns.tolist(), \"Statewide RT vs. Scheduled Data\") \n",
    "    \n",
    "     # Clean Charts\n",
    "    pings_chart = threshold_utils.chart_size(pings_chart.interactive(), 500, 400)\n",
    "    rt_chart = threshold_utils.chart_size(rt_chart.interactive(), 500, 400)\n",
    "    \n",
    "    return pings_chart & rt_chart"
   ]
  },
  {
   "cell_type": "code",
   "execution_count": 72,
   "id": "a69e3d08-e90f-40f5-9125-1d36c5b9fab6",
   "metadata": {},
   "outputs": [],
   "source": [
    "# statewide_visuals(final)"
   ]
  }
 ],
 "metadata": {
  "kernelspec": {
   "display_name": "Python 3 (ipykernel)",
   "language": "python",
   "name": "python3"
  },
  "language_info": {
   "codemirror_mode": {
    "name": "ipython",
    "version": 3
   },
   "file_extension": ".py",
   "mimetype": "text/x-python",
   "name": "python",
   "nbconvert_exporter": "python",
   "pygments_lexer": "ipython3",
   "version": "3.9.13"
  }
 },
 "nbformat": 4,
 "nbformat_minor": 5
}
