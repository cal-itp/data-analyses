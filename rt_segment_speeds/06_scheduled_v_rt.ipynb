{
 "cells": [
  {
   "cell_type": "markdown",
   "id": "bca2191e-1144-4049-82bc-dc3ed316452f",
   "metadata": {},
   "source": [
    "## Scheduled vs, RT total trip time"
   ]
  },
  {
   "cell_type": "code",
   "execution_count": 1,
   "id": "8572a0ff-ca54-41c7-9ea8-4fc8c378b180",
   "metadata": {},
   "outputs": [
    {
     "name": "stderr",
     "output_type": "stream",
     "text": [
      "/opt/conda/lib/python3.9/site-packages/geopandas/_compat.py:123: UserWarning: The Shapely GEOS version (3.10.3-CAPI-1.16.1) is incompatible with the GEOS version PyGEOS was compiled with (3.10.1-CAPI-1.16.0). Conversions between both will be slow.\n",
      "  warnings.warn(\n"
     ]
    }
   ],
   "source": [
    "import geopandas as gpd\n",
    "import numpy as np\n",
    "import pandas as pd\n",
    "import dask.dataframe as dd\n",
    "import datetime \n",
    "\n",
    "from calitp_data_analysis.sql import to_snakecase\n",
    "import _threshold_utils as threshold_utils\n",
    "import altair as alt\n",
    "from segment_speed_utils import helpers, sched_rt_utils\n",
    "from segment_speed_utils.project_vars import SEGMENT_GCS, analysis_date"
   ]
  },
  {
   "cell_type": "code",
   "execution_count": 2,
   "id": "bafee781-998e-42b8-a1a2-b1509fadc873",
   "metadata": {},
   "outputs": [],
   "source": [
    "pd.options.display.max_columns = 100\n",
    "pd.options.display.float_format = \"{:.2f}\".format\n",
    "pd.set_option(\"display.max_rows\", None)\n",
    "pd.set_option(\"display.max_colwidth\", None)"
   ]
  },
  {
   "cell_type": "code",
   "execution_count": 3,
   "id": "aece263c-c415-4343-b726-ef2acbff7817",
   "metadata": {},
   "outputs": [],
   "source": [
    "import gcsfs\n",
    "fs = gcsfs.GCSFileSystem()"
   ]
  },
  {
   "cell_type": "code",
   "execution_count": 4,
   "id": "8c9860ab-9118-4fbf-a455-580a3244f2e1",
   "metadata": {},
   "outputs": [],
   "source": [
    "import intake\n",
    "catalog = intake.open_catalog(\"./catalog.yml\")"
   ]
  },
  {
   "cell_type": "code",
   "execution_count": 5,
   "id": "336557fc-b97f-4cb7-af5e-e064cc4ed9bb",
   "metadata": {},
   "outputs": [],
   "source": [
    "# analysis_date = \"2023-01-18\""
   ]
  },
  {
   "cell_type": "markdown",
   "id": "a8d007df-109d-4123-8f74-57eb9ff5b234",
   "metadata": {
    "tags": []
   },
   "source": [
    "### RT"
   ]
  },
  {
   "cell_type": "markdown",
   "id": "0e81a899-7848-4e32-b6fc-fdbb2f255d45",
   "metadata": {},
   "source": [
    "#### Original file from `b1_rt_trip_diagnostics`\n",
    "* vp._gtfs_dataset_name.nunique() == vp.gtfs_dataset_key.nunique() is true\n",
    "* 10668072 rows \n",
    "*  len(vp.drop_duplicates(subset = ['trip_id','location_timestamp'])) produces 10658575 rows"
   ]
  },
  {
   "cell_type": "code",
   "execution_count": 6,
   "id": "7aeeff05-75b6-4f33-955f-15bcad235048",
   "metadata": {},
   "outputs": [
    {
     "data": {
      "text/plain": [
       "'\\nddf = helpers.import_vehicle_positions(\\n        gcs_folder = f\"{SEGMENT_GCS}vp_sjoin/\",\\n        file_name = f\"vp_route_segment_{analysis_date}/\",\\n        file_type = \"df\",\\n        columns = [\"gtfs_dataset_key\", \"_gtfs_dataset_name\", \\n                   \"trip_id\", \"route_dir_identifier\",\\n                   \"location_timestamp\"],\\n        partitioned = True\\n    ).repartition(partition_size=\"85MB\")\\n'"
      ]
     },
     "execution_count": 6,
     "metadata": {},
     "output_type": "execute_result"
    }
   ],
   "source": [
    "\"\"\"\n",
    "ddf = helpers.import_vehicle_positions(\n",
    "        gcs_folder = f\"{SEGMENT_GCS}vp_sjoin/\",\n",
    "        file_name = f\"vp_route_segment_{analysis_date}/\",\n",
    "        file_type = \"df\",\n",
    "        columns = [\"gtfs_dataset_key\", \"_gtfs_dataset_name\", \n",
    "                   \"trip_id\", \"route_dir_identifier\",\n",
    "                   \"location_timestamp\"],\n",
    "        partitioned = True\n",
    "    ).repartition(partition_size=\"85MB\")\n",
    "\"\"\""
   ]
  },
  {
   "cell_type": "code",
   "execution_count": 7,
   "id": "1891dd7c-2415-4e52-8b2b-7e771cf29e4b",
   "metadata": {},
   "outputs": [],
   "source": [
    "# vp = ddf.compute()"
   ]
  },
  {
   "cell_type": "code",
   "execution_count": 8,
   "id": "7f29a231-181e-480e-9881-ea766a9f8136",
   "metadata": {},
   "outputs": [],
   "source": [
    "# vp[\"location_timestamp\"] = pd.to_datetime(vp[\"location_timestamp\"])"
   ]
  },
  {
   "cell_type": "code",
   "execution_count": 9,
   "id": "66655d19-6fb3-4f31-8627-8449886bf1ee",
   "metadata": {},
   "outputs": [],
   "source": [
    "# vp.info()"
   ]
  },
  {
   "cell_type": "code",
   "execution_count": 10,
   "id": "294ac86c-f597-4c7c-9a23-445eea89e4b6",
   "metadata": {},
   "outputs": [],
   "source": [
    "def count_rt_min(df):\n",
    "    # Extract hour and minute\n",
    "    df['hour'] = df.location_timestamp.dt.hour\n",
    "    df['minute'] = df.location_timestamp.dt.minute\n",
    "    \n",
    "    # Drop duplicates\n",
    "    df = df.drop_duplicates(subset = ['gtfs_dataset_key', 'trip_id','hour', 'minute']).reset_index(drop = True)\n",
    "    \n",
    "    # Count # of rows\n",
    "    df = (df\n",
    "          .groupby(['gtfs_dataset_key','trip_id'])\n",
    "          .agg({'hour':'count'})\n",
    "          .reset_index()\n",
    "          .rename(columns = {'hour':'total_rt_min_coverage'})\n",
    "         )\n",
    "    return df"
   ]
  },
  {
   "cell_type": "code",
   "execution_count": 11,
   "id": "0dc45b04-a191-4c88-919f-b93d636291e2",
   "metadata": {},
   "outputs": [],
   "source": [
    "# Extract hour-minute\n",
    "#vp['hour'] = vp.location_timestamp.dt.hour\n",
    "# vp['minute'] = vp.location_timestamp.dt.minute"
   ]
  },
  {
   "cell_type": "code",
   "execution_count": 12,
   "id": "8b64807d-f2d1-4830-8224-ae19c1253c22",
   "metadata": {},
   "outputs": [],
   "source": [
    "# vp.sample(3)"
   ]
  },
  {
   "cell_type": "code",
   "execution_count": 13,
   "id": "a1791c43-4c42-42a0-90c6-c0ac7ec564c7",
   "metadata": {},
   "outputs": [],
   "source": [
    "# test = vp.drop_duplicates(subset = ['gtfs_dataset_key', 'trip_id','hour', 'minute']).reset_index(drop = True)"
   ]
  },
  {
   "cell_type": "code",
   "execution_count": 14,
   "id": "c9f8343c-e4d5-4291-ab3e-832777106bd9",
   "metadata": {},
   "outputs": [],
   "source": [
    "# len(vp) - len(test)"
   ]
  },
  {
   "cell_type": "code",
   "execution_count": 15,
   "id": "f549cdd6-0723-4f6d-a2d1-a118dea64fc0",
   "metadata": {},
   "outputs": [],
   "source": [
    "# agg = test.groupby(['gtfs_dataset_key','trip_id']).agg({'hour':'count'}).reset_index()"
   ]
  },
  {
   "cell_type": "code",
   "execution_count": 16,
   "id": "7f1a0730-aee4-45fd-b1ce-e93ff1159b4d",
   "metadata": {},
   "outputs": [],
   "source": [
    "def find_start_end_times(df, groupby_cols:list):\n",
    "    \"\"\"\n",
    "    Find the max and min location stamp \n",
    "    to determine start and end date. \n",
    "    \"\"\"\n",
    "    start_end = (df.groupby(groupby_cols)\n",
    "        .agg({\"location_timestamp\": [ \"min\", \"max\"]})\n",
    "        .reset_index()\n",
    "        .rename(columns = {'min':'start', 'max':'end'})\n",
    "      ) \n",
    "    \n",
    "    # Clean up columns\n",
    "    start_end.columns = start_end.columns.droplevel()\n",
    "    start_end.columns.values[0] = \"_gtfs_dataset_name\"\n",
    "    start_end.columns.values[1] = \"gtfs_dataset_key\"\n",
    "    start_end.columns.values[2] = \"trip_id\"\n",
    "    \n",
    "    return start_end"
   ]
  },
  {
   "cell_type": "code",
   "execution_count": 17,
   "id": "6fd55593-134c-4735-bd80-365ad4cb407d",
   "metadata": {},
   "outputs": [],
   "source": [
    "# test.shape"
   ]
  },
  {
   "cell_type": "code",
   "execution_count": 18,
   "id": "4014dd05-7ac0-4ef1-868e-8ae2657ca650",
   "metadata": {},
   "outputs": [],
   "source": [
    "def start_end_pings(gcs:str, date:str):\n",
    "    \"\"\"\n",
    "    Find number of pings and \n",
    "    start and end time for a trip.\n",
    "    \n",
    "    gcs (str): file path\n",
    "    date (str): the analysis date\n",
    "    \"\"\"\n",
    "    group_cols = [\"_gtfs_dataset_name\", \"gtfs_dataset_key\", \"trip_id\"]\n",
    "    \n",
    "    # Load in file.\n",
    "    ddf = helpers.import_vehicle_positions(\n",
    "        gcs_folder = f\"{gcs}vp_sjoin/\",\n",
    "        file_name = f\"vp_route_segment_{date}/\",\n",
    "        file_type = \"df\",\n",
    "        columns = [\"gtfs_dataset_key\", \"_gtfs_dataset_name\", \n",
    "                   \"trip_id\", \"route_dir_identifier\",\n",
    "                   \"location_timestamp\"],\n",
    "        partitioned = True\n",
    "    ).repartition(partition_size=\"85MB\")\n",
    "    \n",
    "    df = ddf.compute()\n",
    "    \n",
    "    # Find number of RT minutes\n",
    "    rt_min_avail = count_rt_min(df)\n",
    "    \n",
    "    # Find start and end time for a trip\n",
    "    start_end = find_start_end_times(df, group_cols)\n",
    "    \n",
    "    # Find number of pings by \n",
    "    # counting nunique location_timestamps\n",
    "    pings = (df.groupby(group_cols)\n",
    "          .agg({'location_timestamp':'nunique'})\n",
    "          .reset_index()\n",
    "          .rename(columns = {'location_timestamp':'trip_ping_count'})\n",
    "         )\n",
    "    \n",
    "    # Find number of trips for each operator\n",
    "    #trips_ops = (df\n",
    "    #             .groupby([\"gtfs_dataset_key\", \"_gtfs_dataset_name\"])\n",
    "    #             .agg({'trip_id':'nunique'})\n",
    "    #             .reset_index()\n",
    "     #            .rename(columns = {'trip_id':'rt_trip_counts_by_operator'})\n",
    "    #     )\n",
    "    \n",
    "    # Merge\n",
    "    # m1 = (start_end\n",
    "    #      .merge(pings, how=\"inner\", on = group_cols)\n",
    "    #      .merge(trips_ops, how = \"inner\", on = [\"gtfs_dataset_key\", \"_gtfs_dataset_name\"])\n",
    "    #     )\n",
    "    \n",
    "    m1 = (start_end.merge(pings, how=\"inner\", on = group_cols)\n",
    "                   .merge(rt_min_avail, how = \"inner\", on = ['gtfs_dataset_key','trip_id'])\n",
    "         )\n",
    "          \n",
    "    return m1"
   ]
  },
  {
   "cell_type": "code",
   "execution_count": 19,
   "id": "31207b02-50d0-4a7c-955b-3d2c63202852",
   "metadata": {},
   "outputs": [],
   "source": [
    "vp2 = start_end_pings(SEGMENT_GCS, analysis_date)"
   ]
  },
  {
   "cell_type": "code",
   "execution_count": 20,
   "id": "d4fe834a-fe52-4dde-90e0-5aef2099e2a1",
   "metadata": {},
   "outputs": [
    {
     "data": {
      "text/plain": [
       "(<UTC>, <UTC>)"
      ]
     },
     "execution_count": 20,
     "metadata": {},
     "output_type": "execute_result"
    }
   ],
   "source": [
    "vp2.end.dt.tz, vp2.start.dt.tz"
   ]
  },
  {
   "cell_type": "code",
   "execution_count": 21,
   "id": "3b2a2916-0fd6-4531-91d5-f7ae1ee81c25",
   "metadata": {},
   "outputs": [
    {
     "data": {
      "text/plain": [
       "(72302, 7)"
      ]
     },
     "execution_count": 21,
     "metadata": {},
     "output_type": "execute_result"
    }
   ],
   "source": [
    "vp2.shape"
   ]
  },
  {
   "cell_type": "code",
   "execution_count": 22,
   "id": "4769d163-d54b-4654-8ef7-f374f6bdf668",
   "metadata": {},
   "outputs": [
    {
     "data": {
      "text/html": [
       "<div>\n",
       "<style scoped>\n",
       "    .dataframe tbody tr th:only-of-type {\n",
       "        vertical-align: middle;\n",
       "    }\n",
       "\n",
       "    .dataframe tbody tr th {\n",
       "        vertical-align: top;\n",
       "    }\n",
       "\n",
       "    .dataframe thead th {\n",
       "        text-align: right;\n",
       "    }\n",
       "</style>\n",
       "<table border=\"1\" class=\"dataframe\">\n",
       "  <thead>\n",
       "    <tr style=\"text-align: right;\">\n",
       "      <th></th>\n",
       "      <th>_gtfs_dataset_name</th>\n",
       "      <th>gtfs_dataset_key</th>\n",
       "      <th>trip_id</th>\n",
       "      <th>start</th>\n",
       "      <th>end</th>\n",
       "      <th>trip_ping_count</th>\n",
       "      <th>total_rt_min_coverage</th>\n",
       "    </tr>\n",
       "  </thead>\n",
       "  <tbody>\n",
       "    <tr>\n",
       "      <th>22135</th>\n",
       "      <td>Bay Area 511 Santa Clara Transit VehiclePositions</td>\n",
       "      <td>03cadbffef6f3cd4ce839b218bc65e82</td>\n",
       "      <td>3293567</td>\n",
       "      <td>2023-02-16 03:11:06+00:00</td>\n",
       "      <td>2023-02-16 03:52:38+00:00</td>\n",
       "      <td>125</td>\n",
       "      <td>42</td>\n",
       "    </tr>\n",
       "  </tbody>\n",
       "</table>\n",
       "</div>"
      ],
      "text/plain": [
       "                                      _gtfs_dataset_name  \\\n",
       "22135  Bay Area 511 Santa Clara Transit VehiclePositions   \n",
       "\n",
       "                       gtfs_dataset_key  trip_id                     start  \\\n",
       "22135  03cadbffef6f3cd4ce839b218bc65e82  3293567 2023-02-16 03:11:06+00:00   \n",
       "\n",
       "                            end  trip_ping_count  total_rt_min_coverage  \n",
       "22135 2023-02-16 03:52:38+00:00              125                     42  "
      ]
     },
     "execution_count": 22,
     "metadata": {},
     "output_type": "execute_result"
    }
   ],
   "source": [
    "vp2.sample()"
   ]
  },
  {
   "cell_type": "code",
   "execution_count": 23,
   "id": "b3f55945-673a-478b-8972-a0b49b5718c6",
   "metadata": {},
   "outputs": [],
   "source": [
    "# Extract hour-minute\n",
    "vp2['start_hour'] = vp2.start.dt.hour\n",
    "vp2['start_minute'] = vp2.start.dt.minute"
   ]
  },
  {
   "cell_type": "code",
   "execution_count": 24,
   "id": "80cef416-1521-4705-82c5-a093bade4830",
   "metadata": {},
   "outputs": [],
   "source": [
    "vp2['combo'] = vp2.gtfs_dataset_key + vp2.trip_id"
   ]
  },
  {
   "cell_type": "code",
   "execution_count": 25,
   "id": "502356e9-1e4f-4b20-adde-6296f392a611",
   "metadata": {},
   "outputs": [
    {
     "data": {
      "text/plain": [
       "(72302, 10)"
      ]
     },
     "execution_count": 25,
     "metadata": {},
     "output_type": "execute_result"
    }
   ],
   "source": [
    "vp2.shape"
   ]
  },
  {
   "cell_type": "code",
   "execution_count": 26,
   "id": "93ab9eba-823f-4423-b443-7fb43da18e5c",
   "metadata": {},
   "outputs": [
    {
     "data": {
      "text/html": [
       "<div>\n",
       "<style scoped>\n",
       "    .dataframe tbody tr th:only-of-type {\n",
       "        vertical-align: middle;\n",
       "    }\n",
       "\n",
       "    .dataframe tbody tr th {\n",
       "        vertical-align: top;\n",
       "    }\n",
       "\n",
       "    .dataframe thead th {\n",
       "        text-align: right;\n",
       "    }\n",
       "</style>\n",
       "<table border=\"1\" class=\"dataframe\">\n",
       "  <thead>\n",
       "    <tr style=\"text-align: right;\">\n",
       "      <th></th>\n",
       "      <th>_gtfs_dataset_name</th>\n",
       "      <th>gtfs_dataset_key</th>\n",
       "      <th>trip_id</th>\n",
       "      <th>start</th>\n",
       "      <th>end</th>\n",
       "      <th>trip_ping_count</th>\n",
       "      <th>total_rt_min_coverage</th>\n",
       "      <th>start_hour</th>\n",
       "      <th>start_minute</th>\n",
       "      <th>combo</th>\n",
       "    </tr>\n",
       "  </thead>\n",
       "  <tbody>\n",
       "    <tr>\n",
       "      <th>61034</th>\n",
       "      <td>San Diego Vehicle Positions</td>\n",
       "      <td>318c6bc87acccb67fb00aa9180aa5a12</td>\n",
       "      <td>16875333</td>\n",
       "      <td>2023-02-15 16:03:04+00:00</td>\n",
       "      <td>2023-02-15 16:43:01+00:00</td>\n",
       "      <td>74</td>\n",
       "      <td>40</td>\n",
       "      <td>16</td>\n",
       "      <td>3</td>\n",
       "      <td>318c6bc87acccb67fb00aa9180aa5a1216875333</td>\n",
       "    </tr>\n",
       "  </tbody>\n",
       "</table>\n",
       "</div>"
      ],
      "text/plain": [
       "                _gtfs_dataset_name                  gtfs_dataset_key  \\\n",
       "61034  San Diego Vehicle Positions  318c6bc87acccb67fb00aa9180aa5a12   \n",
       "\n",
       "        trip_id                     start                       end  \\\n",
       "61034  16875333 2023-02-15 16:03:04+00:00 2023-02-15 16:43:01+00:00   \n",
       "\n",
       "       trip_ping_count  total_rt_min_coverage  start_hour  start_minute  \\\n",
       "61034               74                     40          16             3   \n",
       "\n",
       "                                          combo  \n",
       "61034  318c6bc87acccb67fb00aa9180aa5a1216875333  "
      ]
     },
     "execution_count": 26,
     "metadata": {},
     "output_type": "execute_result"
    }
   ],
   "source": [
    "vp2.sample()"
   ]
  },
  {
   "cell_type": "code",
   "execution_count": 27,
   "id": "cab675e9-8b3d-4593-af53-5de20aa3c51d",
   "metadata": {},
   "outputs": [],
   "source": [
    "test = vp2.drop_duplicates(subset = ['gtfs_dataset_key', 'trip_id','start_hour','start_minute']).reset_index(drop = True)"
   ]
  },
  {
   "cell_type": "code",
   "execution_count": 28,
   "id": "2ee3d860-4a29-4955-9ae5-b82ec932dd61",
   "metadata": {},
   "outputs": [
    {
     "data": {
      "text/html": [
       "<div>\n",
       "<style scoped>\n",
       "    .dataframe tbody tr th:only-of-type {\n",
       "        vertical-align: middle;\n",
       "    }\n",
       "\n",
       "    .dataframe tbody tr th {\n",
       "        vertical-align: top;\n",
       "    }\n",
       "\n",
       "    .dataframe thead th {\n",
       "        text-align: right;\n",
       "    }\n",
       "</style>\n",
       "<table border=\"1\" class=\"dataframe\">\n",
       "  <thead>\n",
       "    <tr style=\"text-align: right;\">\n",
       "      <th></th>\n",
       "      <th>_gtfs_dataset_name</th>\n",
       "      <th>gtfs_dataset_key</th>\n",
       "      <th>trip_id</th>\n",
       "      <th>start</th>\n",
       "      <th>end</th>\n",
       "      <th>trip_ping_count</th>\n",
       "      <th>total_rt_min_coverage</th>\n",
       "      <th>start_hour</th>\n",
       "      <th>start_minute</th>\n",
       "      <th>combo</th>\n",
       "    </tr>\n",
       "  </thead>\n",
       "  <tbody>\n",
       "  </tbody>\n",
       "</table>\n",
       "</div>"
      ],
      "text/plain": [
       "Empty DataFrame\n",
       "Columns: [_gtfs_dataset_name, gtfs_dataset_key, trip_id, start, end, trip_ping_count, total_rt_min_coverage, start_hour, start_minute, combo]\n",
       "Index: []"
      ]
     },
     "execution_count": 28,
     "metadata": {},
     "output_type": "execute_result"
    }
   ],
   "source": [
    "test.loc[test.trip_id == '339040']"
   ]
  },
  {
   "cell_type": "code",
   "execution_count": 29,
   "id": "26c18c01-b819-4b1d-8448-e62d22533e75",
   "metadata": {},
   "outputs": [],
   "source": [
    "agg = test.groupby(['gtfs_dataset_key','trip_id']).agg({'start_hour':'count'})"
   ]
  },
  {
   "cell_type": "code",
   "execution_count": 30,
   "id": "5d953845-1d93-4bc4-b53a-719eff55ffe9",
   "metadata": {},
   "outputs": [],
   "source": [
    "# test2 = vp2[['gtfs_dataset_key', 'trip_id','start_hour','start_minute']].drop_duplicates(subset = ['gtfs_dataset_key', 'trip_id','start_hour','start_minute']).reset_index(drop = True)"
   ]
  },
  {
   "cell_type": "code",
   "execution_count": 31,
   "id": "54103613-09ea-4ded-95e2-b8fe191dccc1",
   "metadata": {},
   "outputs": [],
   "source": [
    "# test2.shape"
   ]
  },
  {
   "cell_type": "code",
   "execution_count": 32,
   "id": "822e6d21-f5d1-464f-88cc-b8b14d304bcc",
   "metadata": {},
   "outputs": [],
   "source": [
    "# test3 = vp2.drop_duplicates(subset = ['combo','start_hour','start_minute']).reset_index(drop = True)"
   ]
  },
  {
   "cell_type": "code",
   "execution_count": 33,
   "id": "3cf92c91-ec23-470a-983f-76e8ee9d4d2d",
   "metadata": {},
   "outputs": [],
   "source": [
    "# test4 = vp2[['combo','start_hour','start_minute']].drop_duplicates(subset = ['combo','start_hour','start_minute']).reset_index(drop = True)"
   ]
  },
  {
   "cell_type": "code",
   "execution_count": 34,
   "id": "fcf7f6c9-ef4a-4840-bf8b-a64353d78c08",
   "metadata": {},
   "outputs": [],
   "source": [
    "# test4.shape"
   ]
  },
  {
   "cell_type": "code",
   "execution_count": 35,
   "id": "fbda63e0-7814-4d54-91af-d1ad5dc0ad3b",
   "metadata": {},
   "outputs": [
    {
     "ename": "NameError",
     "evalue": "name 'test3' is not defined",
     "output_type": "error",
     "traceback": [
      "\u001b[0;31m---------------------------------------------------------------------------\u001b[0m",
      "\u001b[0;31mNameError\u001b[0m                                 Traceback (most recent call last)",
      "Cell \u001b[0;32mIn[35], line 1\u001b[0m\n\u001b[0;32m----> 1\u001b[0m \u001b[43mtest3\u001b[49m\u001b[38;5;241m.\u001b[39mshape\n",
      "\u001b[0;31mNameError\u001b[0m: name 'test3' is not defined"
     ]
    }
   ],
   "source": [
    "test3.shape"
   ]
  },
  {
   "cell_type": "markdown",
   "id": "02639577-2f00-444a-8115-6f56d0db52ed",
   "metadata": {},
   "source": [
    "### Timezone\n",
    "* Convert from UTC to Pacific to Naive\n",
    "* https://stackoverflow.com/questions/24281525/what-is-the-point-of-a-naive-datetimedf.select_dtypes(include=['datetime64'])"
   ]
  },
  {
   "cell_type": "code",
   "execution_count": 36,
   "id": "c165e988-d9e6-47c3-95a0-368941511072",
   "metadata": {},
   "outputs": [],
   "source": [
    "def naive_timezone(df):\n",
    "    \"\"\"\n",
    "    Convert UTC to PST to Naive. \n",
    "    \"\"\"\n",
    "    PACIFIC_TIMEZONE = \"US/Pacific\"\n",
    "    \n",
    "    # Grab datetime columns\n",
    "    dt_cols = [col for col in df.columns if df[col].dtype == 'datetime64[ns, UTC]']\n",
    "    \n",
    "    for col in dt_cols:\n",
    "        df[col] = df[col].dt.tz_convert(PACIFIC_TIMEZONE).apply(lambda t: t.replace(tzinfo=None))\n",
    "        \n",
    "    return df "
   ]
  },
  {
   "cell_type": "code",
   "execution_count": 37,
   "id": "4603392f-4c35-4711-83da-bb6efe1f8113",
   "metadata": {},
   "outputs": [],
   "source": [
    "vp2 = naive_timezone(vp2)"
   ]
  },
  {
   "cell_type": "code",
   "execution_count": 38,
   "id": "bea460b6-1b89-4ff0-9141-d92353d851d4",
   "metadata": {},
   "outputs": [
    {
     "data": {
      "text/plain": [
       "(None, None)"
      ]
     },
     "execution_count": 38,
     "metadata": {},
     "output_type": "execute_result"
    }
   ],
   "source": [
    "vp2.end.dt.tz, vp2.start.dt.tz"
   ]
  },
  {
   "cell_type": "code",
   "execution_count": 39,
   "id": "80fb6367-6821-4e16-82b1-5c848ce3b97d",
   "metadata": {},
   "outputs": [
    {
     "data": {
      "text/html": [
       "<div>\n",
       "<style scoped>\n",
       "    .dataframe tbody tr th:only-of-type {\n",
       "        vertical-align: middle;\n",
       "    }\n",
       "\n",
       "    .dataframe tbody tr th {\n",
       "        vertical-align: top;\n",
       "    }\n",
       "\n",
       "    .dataframe thead th {\n",
       "        text-align: right;\n",
       "    }\n",
       "</style>\n",
       "<table border=\"1\" class=\"dataframe\">\n",
       "  <thead>\n",
       "    <tr style=\"text-align: right;\">\n",
       "      <th></th>\n",
       "      <th>_gtfs_dataset_name</th>\n",
       "      <th>gtfs_dataset_key</th>\n",
       "      <th>trip_id</th>\n",
       "      <th>start</th>\n",
       "      <th>end</th>\n",
       "      <th>trip_ping_count</th>\n",
       "      <th>total_rt_min_coverage</th>\n",
       "      <th>start_hour</th>\n",
       "      <th>start_minute</th>\n",
       "      <th>combo</th>\n",
       "    </tr>\n",
       "  </thead>\n",
       "  <tbody>\n",
       "    <tr>\n",
       "      <th>21721</th>\n",
       "      <td>Bay Area 511 Santa Clara Transit VehiclePositions</td>\n",
       "      <td>03cadbffef6f3cd4ce839b218bc65e82</td>\n",
       "      <td>3288351</td>\n",
       "      <td>2023-02-15 11:10:24</td>\n",
       "      <td>2023-02-15 13:18:44</td>\n",
       "      <td>383</td>\n",
       "      <td>128</td>\n",
       "      <td>19</td>\n",
       "      <td>10</td>\n",
       "      <td>03cadbffef6f3cd4ce839b218bc65e823288351</td>\n",
       "    </tr>\n",
       "  </tbody>\n",
       "</table>\n",
       "</div>"
      ],
      "text/plain": [
       "                                      _gtfs_dataset_name  \\\n",
       "21721  Bay Area 511 Santa Clara Transit VehiclePositions   \n",
       "\n",
       "                       gtfs_dataset_key  trip_id               start  \\\n",
       "21721  03cadbffef6f3cd4ce839b218bc65e82  3288351 2023-02-15 11:10:24   \n",
       "\n",
       "                      end  trip_ping_count  total_rt_min_coverage  start_hour  \\\n",
       "21721 2023-02-15 13:18:44              383                    128          19   \n",
       "\n",
       "       start_minute                                    combo  \n",
       "21721            10  03cadbffef6f3cd4ce839b218bc65e823288351  "
      ]
     },
     "execution_count": 39,
     "metadata": {},
     "output_type": "execute_result"
    }
   ],
   "source": [
    "vp2.sample()"
   ]
  },
  {
   "cell_type": "code",
   "execution_count": 40,
   "id": "3dc4d7b4-460b-420f-8d74-2d33f8313b13",
   "metadata": {},
   "outputs": [],
   "source": [
    "def convert_timestamp_to_hrs_mins(\n",
    "    df: pd.DataFrame, \n",
    "    timestamp_col: list,\n",
    "    minutes: bool = True,\n",
    ") -> pd.DataFrame: \n",
    "    \"\"\"\n",
    "    Convert datetime col into minutes or seconds.\n",
    "    \"\"\"\n",
    "    if minutes:\n",
    "        for c in timestamp_col:\n",
    "            df = df.assign(\n",
    "                time_min = ((df[c].dt.hour * 60) + \n",
    "                                (df[c].dt.minute) + \n",
    "                                (df[c].dt.second/60)\n",
    "                           ),\n",
    "            ).rename(columns = {\"time_min\": f\"{c}_minutes\"})\n",
    "    \n",
    "    else:\n",
    "        for c in timestamp_col:\n",
    "            df = df.assign(\n",
    "                time_sec = ((df[timestamp_col].dt.hour * 3_600) + \n",
    "                                (df[timestamp_col].dt.minute * 60) + \n",
    "                                (df[timestamp_col].dt.second)\n",
    "                           ),\n",
    "            ).rename(columns = {\"time_sec\": f\"{timestamp_col}_sec\"})\n",
    "\n",
    "    return df"
   ]
  },
  {
   "cell_type": "code",
   "execution_count": 41,
   "id": "a3474ef5-7ccf-4c6d-b35e-007aabb4bf22",
   "metadata": {},
   "outputs": [],
   "source": [
    "vp2 = convert_timestamp_to_hrs_mins(vp2, ['start','end'])"
   ]
  },
  {
   "cell_type": "code",
   "execution_count": 42,
   "id": "df9e91b7-497f-4eb6-ab81-eb7ac3d5efd9",
   "metadata": {},
   "outputs": [
    {
     "data": {
      "text/plain": [
       "(72, 72)"
      ]
     },
     "execution_count": 42,
     "metadata": {},
     "output_type": "execute_result"
    }
   ],
   "source": [
    "vp2._gtfs_dataset_name.nunique(), vp2.gtfs_dataset_key.nunique()"
   ]
  },
  {
   "cell_type": "markdown",
   "id": "e0f2f842-9286-4e05-a054-af7a1e8e467e",
   "metadata": {
    "tags": []
   },
   "source": [
    "### Subset trips to 6am to 8pm to test - TEMP\n",
    "* Should subsetting occur before changing to the naive time zone?\n",
    "* <b>Move actual trip duration & total operator trips portion away</b>\n",
    "* Only have trips that appear on January 18. \n",
    "* Trips that start after 6AM\n",
    "* Trips that end at 8PM."
   ]
  },
  {
   "cell_type": "code",
   "execution_count": 43,
   "id": "9d3e258c-ee38-4b96-ab7c-96bc274db501",
   "metadata": {},
   "outputs": [],
   "source": [
    "def filter_trips(df, date:str):\n",
    "    \n",
    "    # Filter by day\n",
    "    df = df[(df['start'].dt.strftime('%Y-%m-%d') == date) & (df['end'].dt.strftime('%Y-%m-%d') == date)].reset_index()\n",
    "    \n",
    "    # Filter by time. Keep trips that begin at  6am and end before 8pm.\n",
    "    # https://stackoverflow.com/questions/65510529/how-to-filter-pandas-dataframe-by-time\n",
    "    time1 = pd.to_datetime(f'{date}  06:00:00').strftime('%H:%M')\n",
    "    time2 = pd.to_datetime(f'{date} 20:00:00').strftime('%H:%M')\n",
    "    df = df.loc[(df['start'].dt.strftime('%H:%M') >= time1 ) & (df['end'].dt.strftime('%H:%M') <= time2)].reset_index()\n",
    "    \n",
    "    # Find actual trip times\n",
    "    df['actual_trip_duration_minutes'] = (df['end_minutes']-df['start_minutes'])\n",
    "    \n",
    "    df = df.drop(columns = ['level_0', 'index'])\n",
    "    \n",
    "    # Find trip by operators\n",
    "    trips_ops = (df\n",
    "                .groupby([\"gtfs_dataset_key\", \"_gtfs_dataset_name\"])\n",
    "                .agg({'trip_id':'nunique'})\n",
    "                .reset_index()\n",
    "                .rename(columns = {'trip_id':'rt_trip_counts_by_operator'})\n",
    "        )\n",
    "    m1 = (df.merge(trips_ops, how=\"inner\", on =  [\"gtfs_dataset_key\", \"_gtfs_dataset_name\"]))\n",
    "    \n",
    "    return m1 "
   ]
  },
  {
   "cell_type": "code",
   "execution_count": 44,
   "id": "acdc4421-1aad-4980-9d11-d3d15b9b59c5",
   "metadata": {},
   "outputs": [],
   "source": [
    "subset_vp = filter_trips(vp2, analysis_date)"
   ]
  },
  {
   "cell_type": "code",
   "execution_count": 45,
   "id": "da3dc24c-9805-4f82-9e91-95764fecf2d2",
   "metadata": {},
   "outputs": [
    {
     "data": {
      "text/plain": [
       "0"
      ]
     },
     "execution_count": 45,
     "metadata": {},
     "output_type": "execute_result"
    }
   ],
   "source": [
    "# No more negative trips\n",
    "len(subset_vp.loc[subset_vp.actual_trip_duration_minutes < 0])"
   ]
  },
  {
   "cell_type": "markdown",
   "id": "9314194a-70eb-4127-b49a-29b28f2b0536",
   "metadata": {},
   "source": [
    "### Deliverable 1\n",
    "* A script to generate a parquet table within GCS bucket rt_vs_schedule that holds the counts and proportions for each gtfs_dataset_key-feed_key-trip_id (use an outer join in case there are trip_ids that appear in RT but not in schedule or vice versa\n",
    "* Use an outer join in case there are trip_ids that appear in RT but not in schedule or vice versa (https://github.com/cal-itp/data-analyses/issues/668).\n",
    "* More trips in scheduled than RT."
   ]
  },
  {
   "cell_type": "code",
   "execution_count": 46,
   "id": "4081e559-335e-4eb0-99ea-2ae9e30b65e4",
   "metadata": {},
   "outputs": [],
   "source": [
    "def merge_schedule_vp(vp_df, date: str):\n",
    "\n",
    "    # Load scheduled trips\n",
    "    scheduled_trips = sched_rt_utils.crosswalk_scheduled_trip_grouping_with_rt_key(analysis_date = date, \n",
    "    keep_trip_cols = [\"feed_key\", \"trip_id\", \"service_hours\"])\n",
    "    \n",
    "    # Convert trip hours to minutes\n",
    "    scheduled_trips['scheduled_service_minutes'] = scheduled_trips.service_hours * 60\n",
    "    \n",
    "    # Merge scheduled with RT. \n",
    "    merge1 = pd.merge(vp_df, scheduled_trips, how=\"outer\", on=[\"gtfs_dataset_key\", \"trip_id\"], indicator=True)\n",
    "    \n",
    "    return merge1"
   ]
  },
  {
   "cell_type": "markdown",
   "id": "13e4a96a-29a7-4a31-b617-dad3e72c817d",
   "metadata": {},
   "source": [
    "* Another function to return a final dataframe because it would be useful to do a `value_counts()` on the `_merge` column"
   ]
  },
  {
   "cell_type": "code",
   "execution_count": 47,
   "id": "cc6caef3-1b99-45e6-88c9-e04308155179",
   "metadata": {},
   "outputs": [],
   "source": [
    "def final_df(vp_df, date: str):\n",
    "    df = merge_schedule_vp(vp_df, date).drop(columns = ['_merge'])\n",
    "    \n",
    "    # Find RT trip time versus scheduled trip time.\n",
    "    # Find pings per minute.\n",
    "    df = df.assign(\n",
    "        rt_data_proportion_percentage = ((df.total_rt_min_coverage/df.scheduled_service_minutes)*100).fillna(0),\n",
    "        pings_per_minute = (df.trip_ping_count/df.total_rt_min_coverage).fillna(0))\n",
    "    \n",
    "    # Any proportion above 100, mask as 100\n",
    "    df[\"rt_data_proportion_percentage\"] = df[\"rt_data_proportion_percentage\"].mask(df[\"rt_data_proportion_percentage\"] > 100, 100)\n",
    "  \n",
    "    # Fill in \n",
    "    df = df.fillna(\n",
    "    df.dtypes.replace({\"float64\": 0.0, \"object\": \"None\"}))\n",
    "    \n",
    "    # Round certain columns to eyeball\n",
    "    for i in ['rt_data_proportion_percentage','actual_trip_duration_minutes']:\n",
    "        df[f\"rounded_{i}\"] = ((df[i]/100)*10).astype(int)*10\n",
    "    \n",
    "    df = df.drop(columns = ['start','end', 'service_hours'])\n",
    "    return df"
   ]
  },
  {
   "cell_type": "code",
   "execution_count": 48,
   "id": "185e4011-1ee2-4d6b-ab0f-7e5645068bfa",
   "metadata": {},
   "outputs": [],
   "source": [
    "final = final_df(subset_vp, analysis_date)"
   ]
  },
  {
   "cell_type": "code",
   "execution_count": 49,
   "id": "a7ca9d1b-cc04-4d0b-9657-ea08606e7160",
   "metadata": {},
   "outputs": [
    {
     "data": {
      "text/plain": [
       "(98105, 18)"
      ]
     },
     "execution_count": 49,
     "metadata": {},
     "output_type": "execute_result"
    }
   ],
   "source": [
    "final.shape"
   ]
  },
  {
   "cell_type": "code",
   "execution_count": 50,
   "id": "7051573f-0dee-4718-8b21-fd2f42aa84e3",
   "metadata": {},
   "outputs": [],
   "source": [
    "# final.rounded_rt_data_proportion.value_counts()"
   ]
  },
  {
   "cell_type": "markdown",
   "id": "c6505c1e-3b25-45bd-a8fb-2cedc2f345a3",
   "metadata": {
    "toc-hr-collapsed": true
   },
   "source": [
    "### Deliverable 2 - Charts "
   ]
  },
  {
   "cell_type": "code",
   "execution_count": 51,
   "id": "60936113-75ab-4067-b014-b30dbc54153f",
   "metadata": {},
   "outputs": [],
   "source": [
    "def summary_valid_trips_by_cutoff(df, time_col:str, phrase:str,\n",
    "                                  time_cutoffs: list, ping_cutoffs: list,\n",
    "                                  pings: bool = True):\n",
    "    \"\"\"\n",
    "    Find percentage & number of trips that meet trip time elapsed\n",
    "    and pings. \n",
    "    \"\"\"\n",
    "    group_by_cols = [\"gtfs_dataset_key\", \"_gtfs_dataset_name\", \"rt_trip_counts_by_operator\"]\n",
    "    final = pd.DataFrame()\n",
    "\n",
    "    if pings:\n",
    "        for t in time_cutoffs:\n",
    "            for s in ping_cutoffs:\n",
    "                valid = (\n",
    "                df[(df[time_col] >= t) & (df.pings_per_minute >= s)]\n",
    "                .groupby(group_by_cols)\n",
    "                .trip_id.nunique()\n",
    "                .reset_index()\n",
    "                .rename(columns={\"trip_id\": \"n_trips\"})\n",
    "                )\n",
    "                \n",
    "                valid = valid.assign(\n",
    "                trip_cutoff=t, pings=s, cutoff=f\"{t} {phrase} & {s} ping(s)+ per minute\")\n",
    "\n",
    "                final = pd.concat([final, valid], axis=0)\n",
    "    else:\n",
    "        for t in time_cutoffs:\n",
    "            valid = (\n",
    "                df[(df[time_col] >= t)]\n",
    "                .groupby(group_by_cols)\n",
    "                .trip_id.nunique()\n",
    "                .reset_index()\n",
    "                .rename(columns={\"trip_id\": \"n_trips\"})\n",
    "                )\n",
    "\n",
    "            valid = valid.assign(\n",
    "                 trip_cutoff=t,cutoff=f\"{t}{phrase}\"\n",
    "                )\n",
    "\n",
    "            final = pd.concat([final, valid], axis=0)\n",
    "\n",
    "    final = final.assign(percentage_usable_trips=final.n_trips.divide(final.rt_trip_counts_by_operator) * 100)\n",
    "    final = final.sort_values('_gtfs_dataset_name')\n",
    "    return final"
   ]
  },
  {
   "cell_type": "code",
   "execution_count": 52,
   "id": "26f441c1-2046-424b-971c-6017697ee999",
   "metadata": {},
   "outputs": [],
   "source": [
    "rt_scheduled = (final\n",
    "                .groupby(['_gtfs_dataset_name','rounded_rt_data_proportion_percentage'])\n",
    "                .agg({'rt_trip_counts_by_operator':'max','trip_id':'nunique'})\n",
    "                .reset_index()\n",
    "                .rename(columns = {'trip_id':'total_trips'})\n",
    "               )"
   ]
  },
  {
   "cell_type": "code",
   "execution_count": 53,
   "id": "8f7af80e-6581-4b6d-8fc7-f787fbc90adc",
   "metadata": {},
   "outputs": [],
   "source": [
    "rt_scheduled['percentage_of_trips'] = rt_scheduled.total_trips/rt_scheduled.rt_trip_counts_by_operator * 100"
   ]
  },
  {
   "cell_type": "code",
   "execution_count": 54,
   "id": "af9f8ad0-320d-4273-9fe6-aadbb2cf7eed",
   "metadata": {},
   "outputs": [],
   "source": [
    "dropdown_list = rt_scheduled[\"_gtfs_dataset_name\"].sort_values().unique().tolist()\n",
    "dropdown = alt.binding_select(options=[None] + dropdown_list, labels = ['All'] + dropdown_list, name = \"Operator\")    \n",
    "selection = alt.selection_single(fields=['_gtfs_dataset_name'], bind=dropdown)"
   ]
  },
  {
   "cell_type": "code",
   "execution_count": 55,
   "id": "522d3eaf-b36c-4c7c-9c09-fbe8d03ae9e8",
   "metadata": {},
   "outputs": [
    {
     "data": {
      "text/html": [
       "\n",
       "<div id=\"altair-viz-d7ae87be196844e0becf7c04f4eb546e\"></div>\n",
       "<script type=\"text/javascript\">\n",
       "  var VEGA_DEBUG = (typeof VEGA_DEBUG == \"undefined\") ? {} : VEGA_DEBUG;\n",
       "  (function(spec, embedOpt){\n",
       "    let outputDiv = document.currentScript.previousElementSibling;\n",
       "    if (outputDiv.id !== \"altair-viz-d7ae87be196844e0becf7c04f4eb546e\") {\n",
       "      outputDiv = document.getElementById(\"altair-viz-d7ae87be196844e0becf7c04f4eb546e\");\n",
       "    }\n",
       "    const paths = {\n",
       "      \"vega\": \"https://cdn.jsdelivr.net/npm//vega@5?noext\",\n",
       "      \"vega-lib\": \"https://cdn.jsdelivr.net/npm//vega-lib?noext\",\n",
       "      \"vega-lite\": \"https://cdn.jsdelivr.net/npm//vega-lite@4.17.0?noext\",\n",
       "      \"vega-embed\": \"https://cdn.jsdelivr.net/npm//vega-embed@6?noext\",\n",
       "    };\n",
       "\n",
       "    function maybeLoadScript(lib, version) {\n",
       "      var key = `${lib.replace(\"-\", \"\")}_version`;\n",
       "      return (VEGA_DEBUG[key] == version) ?\n",
       "        Promise.resolve(paths[lib]) :\n",
       "        new Promise(function(resolve, reject) {\n",
       "          var s = document.createElement('script');\n",
       "          document.getElementsByTagName(\"head\")[0].appendChild(s);\n",
       "          s.async = true;\n",
       "          s.onload = () => {\n",
       "            VEGA_DEBUG[key] = version;\n",
       "            return resolve(paths[lib]);\n",
       "          };\n",
       "          s.onerror = () => reject(`Error loading script: ${paths[lib]}`);\n",
       "          s.src = paths[lib];\n",
       "        });\n",
       "    }\n",
       "\n",
       "    function showError(err) {\n",
       "      outputDiv.innerHTML = `<div class=\"error\" style=\"color:red;\">${err}</div>`;\n",
       "      throw err;\n",
       "    }\n",
       "\n",
       "    function displayChart(vegaEmbed) {\n",
       "      vegaEmbed(outputDiv, spec, embedOpt)\n",
       "        .catch(err => showError(`Javascript Error: ${err.message}<br>This usually means there's a typo in your chart specification. See the javascript console for the full traceback.`));\n",
       "    }\n",
       "\n",
       "    if(typeof define === \"function\" && define.amd) {\n",
       "      requirejs.config({paths});\n",
       "      require([\"vega-embed\"], displayChart, err => showError(`Error loading script: ${err.message}`));\n",
       "    } else {\n",
       "      maybeLoadScript(\"vega\", \"5\")\n",
       "        .then(() => maybeLoadScript(\"vega-lite\", \"4.17.0\"))\n",
       "        .then(() => maybeLoadScript(\"vega-embed\", \"6\"))\n",
       "        .catch(showError)\n",
       "        .then(() => displayChart(vegaEmbed));\n",
       "    }\n",
       "  })({\"config\": {\"view\": {\"continuousWidth\": 400, \"continuousHeight\": 300}}, \"data\": {\"name\": \"data-bdfd4dd2ecaf3bc852d8a6ada50d7f38\"}, \"mark\": \"bar\", \"encoding\": {\"color\": {\"field\": \"rounded_rt_data_proportion_percentage\", \"legend\": null, \"scale\": {\"range\": [\"#2EA8CE\", \"#EB9F3C\", \"#F4D837\", \"#51BF9D\", \"#8CBCCB\", \"#9487C0\"]}, \"type\": \"nominal\"}, \"tooltip\": [{\"field\": \"_gtfs_dataset_name\", \"type\": \"nominal\"}, {\"field\": \"rounded_rt_data_proportion_percentage\", \"type\": \"quantitative\"}, {\"field\": \"rt_trip_counts_by_operator\", \"type\": \"quantitative\"}, {\"field\": \"total_trips\", \"type\": \"quantitative\"}, {\"field\": \"percentage_of_trips\", \"type\": \"quantitative\"}], \"x\": {\"field\": \"percentage_of_trips\", \"sort\": {\"field\": \"percentage_of_trips\", \"order\": \"descending\"}, \"type\": \"quantitative\"}, \"y\": {\"field\": \"rounded_rt_data_proportion_percentage\", \"sort\": {\"field\": \"percentage_of_trips\", \"order\": \"descending\"}, \"type\": \"nominal\"}}, \"selection\": {\"selector001\": {\"type\": \"single\", \"fields\": [\"_gtfs_dataset_name\"], \"bind\": {\"input\": \"select\", \"options\": [null, \"Anaheim Resort VehiclePositions\", \"Antelope Valley Transit Authority Vehicle Positions\", \"Banning Pass Vehicle Positions\", \"Bay Area 511 AC Transit Vehicle Position\", \"Bay Area 511 Caltrain VehiclePositions\", \"Bay Area 511 County Connection VehiclePositions\", \"Bay Area 511 Dumbarton Express VehiclePositions\", \"Bay Area 511 Emery Go-Round VehiclePositions\", \"Bay Area 511 Fairfield and Suisun Transit Vehicle Positions\", \"Bay Area 511 Golden Gate Transit Vehicle Positions\", \"Bay Area 511 MVGO VehiclePositions\", \"Bay Area 511 Marin VehiclePositions\", \"Bay Area 511 Muni VehiclePositions\", \"Bay Area 511 Petaluma VehiclePositions\", \"Bay Area 511 SamTrans VehiclePositions\", \"Bay Area 511 San Francisco Bay Ferry VehiclePositions\", \"Bay Area 511 Santa Clara Transit VehiclePositions\", \"Bay Area 511 Santa Rosa CityBus VehiclePositions\", \"Bay Area 511 SolTrans VehiclePositions\", \"Bay Area 511 Sonoma County Transit Vehicle Positions\", \"Bay Area 511 Sonoma-Marin Area Rail Transit VehiclePositions\", \"Bay Area 511 Tri Delta VehiclePositions\", \"Bay Area 511 Tri-Valley Wheels VehiclePositions\", \"Bay Area 511 Union City Transit VehiclePositions\", \"Bay Area 511 Vine Transit VehiclePositions\", \"Bay Area 511 WestCAT VehiclePositions\", \"Beach Cities VehiclePositions\", \"Bear Vehicle Positions\", \"Beaumont Pass Vehicle Positions\", \"Big Blue Bus VehiclePositions\", \"BruinBus Vehicle Positions\", \"Burbank VehiclePositions\", \"Commerce VehiclePositions\", \"Eastern Sierra Vehicle Positions\", \"Elk Grove VehiclePositions\", \"Foothill Vehicle Positions\", \"Fresno Vehicle Positions\", \"GET VehiclePositions\", \"Humboldt Vehicle Positions\", \"Kings Vehicle Positions\", \"LA DOT VehiclePositions\", \"LA Metro Bus Vehicle Positions\", \"LA Metro Rail Vehicle Positions\", \"Lake Vehicle Positions\", \"Long Beach VehiclePositions\", \"Madera County Connection Vehicle Positions\", \"Montebello Vehicle Positions\", \"Monterey Salinas VehiclePositions\", \"Nevada County Vehicle Positions\", \"None\", \"North County Vehicle Positions\", \"Norwalk Vehicle Positions\", \"OCTA VehiclePositions\", \"Pasadena VehiclePositions\", \"PresidiGo VehiclePositions\", \"Redding Vehicle Positions\", \"Redwood Coast Vehicle Positions\", \"Riverside VehiclePositions\", \"San Diego Vehicle Positions\", \"San Joaquin Vehicle Positions\", \"Santa Clarita VehiclePositions\", \"Santa Maria Vehicle Positions\", \"Santa Ynez Vehicle Positions\", \"StanRTA Vehicle Positions\", \"Tahoe Transportation Vehicle Positions\", \"Torrance Swiftly Vehicle Positions\", \"Torrance Vehicle Positions\", \"Turlock Vehicle Positions\", \"Unitrans Vehicle Positions\", \"VCTC Vehicle Positions\", \"Victor Valley Vehicle Position\", \"Visalia VehiclePositions\", \"WeHo Vehicle Positions\"], \"labels\": [\"All\", \"Anaheim Resort VehiclePositions\", \"Antelope Valley Transit Authority Vehicle Positions\", \"Banning Pass Vehicle Positions\", \"Bay Area 511 AC Transit Vehicle Position\", \"Bay Area 511 Caltrain VehiclePositions\", \"Bay Area 511 County Connection VehiclePositions\", \"Bay Area 511 Dumbarton Express VehiclePositions\", \"Bay Area 511 Emery Go-Round VehiclePositions\", \"Bay Area 511 Fairfield and Suisun Transit Vehicle Positions\", \"Bay Area 511 Golden Gate Transit Vehicle Positions\", \"Bay Area 511 MVGO VehiclePositions\", \"Bay Area 511 Marin VehiclePositions\", \"Bay Area 511 Muni VehiclePositions\", \"Bay Area 511 Petaluma VehiclePositions\", \"Bay Area 511 SamTrans VehiclePositions\", \"Bay Area 511 San Francisco Bay Ferry VehiclePositions\", \"Bay Area 511 Santa Clara Transit VehiclePositions\", \"Bay Area 511 Santa Rosa CityBus VehiclePositions\", \"Bay Area 511 SolTrans VehiclePositions\", \"Bay Area 511 Sonoma County Transit Vehicle Positions\", \"Bay Area 511 Sonoma-Marin Area Rail Transit VehiclePositions\", \"Bay Area 511 Tri Delta VehiclePositions\", \"Bay Area 511 Tri-Valley Wheels VehiclePositions\", \"Bay Area 511 Union City Transit VehiclePositions\", \"Bay Area 511 Vine Transit VehiclePositions\", \"Bay Area 511 WestCAT VehiclePositions\", \"Beach Cities VehiclePositions\", \"Bear Vehicle Positions\", \"Beaumont Pass Vehicle Positions\", \"Big Blue Bus VehiclePositions\", \"BruinBus Vehicle Positions\", \"Burbank VehiclePositions\", \"Commerce VehiclePositions\", \"Eastern Sierra Vehicle Positions\", \"Elk Grove VehiclePositions\", \"Foothill Vehicle Positions\", \"Fresno Vehicle Positions\", \"GET VehiclePositions\", \"Humboldt Vehicle Positions\", \"Kings Vehicle Positions\", \"LA DOT VehiclePositions\", \"LA Metro Bus Vehicle Positions\", \"LA Metro Rail Vehicle Positions\", \"Lake Vehicle Positions\", \"Long Beach VehiclePositions\", \"Madera County Connection Vehicle Positions\", \"Montebello Vehicle Positions\", \"Monterey Salinas VehiclePositions\", \"Nevada County Vehicle Positions\", \"None\", \"North County Vehicle Positions\", \"Norwalk Vehicle Positions\", \"OCTA VehiclePositions\", \"Pasadena VehiclePositions\", \"PresidiGo VehiclePositions\", \"Redding Vehicle Positions\", \"Redwood Coast Vehicle Positions\", \"Riverside VehiclePositions\", \"San Diego Vehicle Positions\", \"San Joaquin Vehicle Positions\", \"Santa Clarita VehiclePositions\", \"Santa Maria Vehicle Positions\", \"Santa Ynez Vehicle Positions\", \"StanRTA Vehicle Positions\", \"Tahoe Transportation Vehicle Positions\", \"Torrance Swiftly Vehicle Positions\", \"Torrance Vehicle Positions\", \"Turlock Vehicle Positions\", \"Unitrans Vehicle Positions\", \"VCTC Vehicle Positions\", \"Victor Valley Vehicle Position\", \"Visalia VehiclePositions\", \"WeHo Vehicle Positions\"], \"name\": \"Operator\"}}}, \"title\": \"% of RT Minutes vs Scheduled Trip\", \"transform\": [{\"filter\": {\"selection\": \"selector001\"}}], \"$schema\": \"https://vega.github.io/schema/vega-lite/v4.17.0.json\", \"datasets\": {\"data-bdfd4dd2ecaf3bc852d8a6ada50d7f38\": [{\"_gtfs_dataset_name\": \"Anaheim Resort VehiclePositions\", \"rounded_rt_data_proportion_percentage\": 0, \"rt_trip_counts_by_operator\": 336.0, \"total_trips\": 2, \"percentage_of_trips\": 0.5952380952380952}, {\"_gtfs_dataset_name\": \"Anaheim Resort VehiclePositions\", \"rounded_rt_data_proportion_percentage\": 10, \"rt_trip_counts_by_operator\": 336.0, \"total_trips\": 1, \"percentage_of_trips\": 0.2976190476190476}, {\"_gtfs_dataset_name\": \"Anaheim Resort VehiclePositions\", \"rounded_rt_data_proportion_percentage\": 20, \"rt_trip_counts_by_operator\": 336.0, \"total_trips\": 1, \"percentage_of_trips\": 0.2976190476190476}, {\"_gtfs_dataset_name\": \"Anaheim Resort VehiclePositions\", \"rounded_rt_data_proportion_percentage\": 30, \"rt_trip_counts_by_operator\": 336.0, \"total_trips\": 4, \"percentage_of_trips\": 1.1904761904761905}, {\"_gtfs_dataset_name\": \"Anaheim Resort VehiclePositions\", \"rounded_rt_data_proportion_percentage\": 40, \"rt_trip_counts_by_operator\": 336.0, \"total_trips\": 3, \"percentage_of_trips\": 0.8928571428571428}, {\"_gtfs_dataset_name\": \"Anaheim Resort VehiclePositions\", \"rounded_rt_data_proportion_percentage\": 50, \"rt_trip_counts_by_operator\": 336.0, \"total_trips\": 1, \"percentage_of_trips\": 0.2976190476190476}, {\"_gtfs_dataset_name\": \"Anaheim Resort VehiclePositions\", \"rounded_rt_data_proportion_percentage\": 60, \"rt_trip_counts_by_operator\": 336.0, \"total_trips\": 1, \"percentage_of_trips\": 0.2976190476190476}, {\"_gtfs_dataset_name\": \"Anaheim Resort VehiclePositions\", \"rounded_rt_data_proportion_percentage\": 70, \"rt_trip_counts_by_operator\": 336.0, \"total_trips\": 1, \"percentage_of_trips\": 0.2976190476190476}, {\"_gtfs_dataset_name\": \"Anaheim Resort VehiclePositions\", \"rounded_rt_data_proportion_percentage\": 80, \"rt_trip_counts_by_operator\": 336.0, \"total_trips\": 7, \"percentage_of_trips\": 2.083333333333333}, {\"_gtfs_dataset_name\": \"Anaheim Resort VehiclePositions\", \"rounded_rt_data_proportion_percentage\": 90, \"rt_trip_counts_by_operator\": 336.0, \"total_trips\": 7, \"percentage_of_trips\": 2.083333333333333}, {\"_gtfs_dataset_name\": \"Anaheim Resort VehiclePositions\", \"rounded_rt_data_proportion_percentage\": 100, \"rt_trip_counts_by_operator\": 336.0, \"total_trips\": 308, \"percentage_of_trips\": 91.66666666666666}, {\"_gtfs_dataset_name\": \"Antelope Valley Transit Authority Vehicle Positions\", \"rounded_rt_data_proportion_percentage\": 10, \"rt_trip_counts_by_operator\": 412.0, \"total_trips\": 1, \"percentage_of_trips\": 0.24271844660194172}, {\"_gtfs_dataset_name\": \"Antelope Valley Transit Authority Vehicle Positions\", \"rounded_rt_data_proportion_percentage\": 20, \"rt_trip_counts_by_operator\": 412.0, \"total_trips\": 3, \"percentage_of_trips\": 0.7281553398058253}, {\"_gtfs_dataset_name\": \"Antelope Valley Transit Authority Vehicle Positions\", \"rounded_rt_data_proportion_percentage\": 40, \"rt_trip_counts_by_operator\": 412.0, \"total_trips\": 3, \"percentage_of_trips\": 0.7281553398058253}, {\"_gtfs_dataset_name\": \"Antelope Valley Transit Authority Vehicle Positions\", \"rounded_rt_data_proportion_percentage\": 50, \"rt_trip_counts_by_operator\": 412.0, \"total_trips\": 5, \"percentage_of_trips\": 1.2135922330097086}, {\"_gtfs_dataset_name\": \"Antelope Valley Transit Authority Vehicle Positions\", \"rounded_rt_data_proportion_percentage\": 60, \"rt_trip_counts_by_operator\": 412.0, \"total_trips\": 3, \"percentage_of_trips\": 0.7281553398058253}, {\"_gtfs_dataset_name\": \"Antelope Valley Transit Authority Vehicle Positions\", \"rounded_rt_data_proportion_percentage\": 70, \"rt_trip_counts_by_operator\": 412.0, \"total_trips\": 10, \"percentage_of_trips\": 2.4271844660194173}, {\"_gtfs_dataset_name\": \"Antelope Valley Transit Authority Vehicle Positions\", \"rounded_rt_data_proportion_percentage\": 80, \"rt_trip_counts_by_operator\": 412.0, \"total_trips\": 48, \"percentage_of_trips\": 11.650485436893204}, {\"_gtfs_dataset_name\": \"Antelope Valley Transit Authority Vehicle Positions\", \"rounded_rt_data_proportion_percentage\": 90, \"rt_trip_counts_by_operator\": 412.0, \"total_trips\": 72, \"percentage_of_trips\": 17.475728155339805}, {\"_gtfs_dataset_name\": \"Antelope Valley Transit Authority Vehicle Positions\", \"rounded_rt_data_proportion_percentage\": 100, \"rt_trip_counts_by_operator\": 412.0, \"total_trips\": 267, \"percentage_of_trips\": 64.80582524271846}, {\"_gtfs_dataset_name\": \"Banning Pass Vehicle Positions\", \"rounded_rt_data_proportion_percentage\": 30, \"rt_trip_counts_by_operator\": 40.0, \"total_trips\": 2, \"percentage_of_trips\": 5.0}, {\"_gtfs_dataset_name\": \"Banning Pass Vehicle Positions\", \"rounded_rt_data_proportion_percentage\": 40, \"rt_trip_counts_by_operator\": 40.0, \"total_trips\": 5, \"percentage_of_trips\": 12.5}, {\"_gtfs_dataset_name\": \"Banning Pass Vehicle Positions\", \"rounded_rt_data_proportion_percentage\": 50, \"rt_trip_counts_by_operator\": 40.0, \"total_trips\": 1, \"percentage_of_trips\": 2.5}, {\"_gtfs_dataset_name\": \"Banning Pass Vehicle Positions\", \"rounded_rt_data_proportion_percentage\": 60, \"rt_trip_counts_by_operator\": 40.0, \"total_trips\": 2, \"percentage_of_trips\": 5.0}, {\"_gtfs_dataset_name\": \"Banning Pass Vehicle Positions\", \"rounded_rt_data_proportion_percentage\": 70, \"rt_trip_counts_by_operator\": 40.0, \"total_trips\": 10, \"percentage_of_trips\": 25.0}, {\"_gtfs_dataset_name\": \"Banning Pass Vehicle Positions\", \"rounded_rt_data_proportion_percentage\": 80, \"rt_trip_counts_by_operator\": 40.0, \"total_trips\": 14, \"percentage_of_trips\": 35.0}, {\"_gtfs_dataset_name\": \"Banning Pass Vehicle Positions\", \"rounded_rt_data_proportion_percentage\": 90, \"rt_trip_counts_by_operator\": 40.0, \"total_trips\": 5, \"percentage_of_trips\": 12.5}, {\"_gtfs_dataset_name\": \"Banning Pass Vehicle Positions\", \"rounded_rt_data_proportion_percentage\": 100, \"rt_trip_counts_by_operator\": 40.0, \"total_trips\": 1, \"percentage_of_trips\": 2.5}, {\"_gtfs_dataset_name\": \"Bay Area 511 AC Transit Vehicle Position\", \"rounded_rt_data_proportion_percentage\": 0, \"rt_trip_counts_by_operator\": 4068.0, \"total_trips\": 3, \"percentage_of_trips\": 0.07374631268436578}, {\"_gtfs_dataset_name\": \"Bay Area 511 AC Transit Vehicle Position\", \"rounded_rt_data_proportion_percentage\": 10, \"rt_trip_counts_by_operator\": 4068.0, \"total_trips\": 3, \"percentage_of_trips\": 0.07374631268436578}, {\"_gtfs_dataset_name\": \"Bay Area 511 AC Transit Vehicle Position\", \"rounded_rt_data_proportion_percentage\": 20, \"rt_trip_counts_by_operator\": 4068.0, \"total_trips\": 5, \"percentage_of_trips\": 0.12291052114060963}, {\"_gtfs_dataset_name\": \"Bay Area 511 AC Transit Vehicle Position\", \"rounded_rt_data_proportion_percentage\": 30, \"rt_trip_counts_by_operator\": 4068.0, \"total_trips\": 5, \"percentage_of_trips\": 0.12291052114060963}, {\"_gtfs_dataset_name\": \"Bay Area 511 AC Transit Vehicle Position\", \"rounded_rt_data_proportion_percentage\": 40, \"rt_trip_counts_by_operator\": 4068.0, \"total_trips\": 6, \"percentage_of_trips\": 0.14749262536873156}, {\"_gtfs_dataset_name\": \"Bay Area 511 AC Transit Vehicle Position\", \"rounded_rt_data_proportion_percentage\": 50, \"rt_trip_counts_by_operator\": 4068.0, \"total_trips\": 12, \"percentage_of_trips\": 0.2949852507374631}, {\"_gtfs_dataset_name\": \"Bay Area 511 AC Transit Vehicle Position\", \"rounded_rt_data_proportion_percentage\": 60, \"rt_trip_counts_by_operator\": 4068.0, \"total_trips\": 14, \"percentage_of_trips\": 0.344149459193707}, {\"_gtfs_dataset_name\": \"Bay Area 511 AC Transit Vehicle Position\", \"rounded_rt_data_proportion_percentage\": 70, \"rt_trip_counts_by_operator\": 4068.0, \"total_trips\": 31, \"percentage_of_trips\": 0.7620452310717798}, {\"_gtfs_dataset_name\": \"Bay Area 511 AC Transit Vehicle Position\", \"rounded_rt_data_proportion_percentage\": 80, \"rt_trip_counts_by_operator\": 4068.0, \"total_trips\": 70, \"percentage_of_trips\": 1.720747295968535}, {\"_gtfs_dataset_name\": \"Bay Area 511 AC Transit Vehicle Position\", \"rounded_rt_data_proportion_percentage\": 90, \"rt_trip_counts_by_operator\": 4068.0, \"total_trips\": 98, \"percentage_of_trips\": 2.4090462143559486}, {\"_gtfs_dataset_name\": \"Bay Area 511 AC Transit Vehicle Position\", \"rounded_rt_data_proportion_percentage\": 100, \"rt_trip_counts_by_operator\": 4068.0, \"total_trips\": 3821, \"percentage_of_trips\": 93.92822025565388}, {\"_gtfs_dataset_name\": \"Bay Area 511 Caltrain VehiclePositions\", \"rounded_rt_data_proportion_percentage\": 30, \"rt_trip_counts_by_operator\": 52.0, \"total_trips\": 1, \"percentage_of_trips\": 1.9230769230769231}, {\"_gtfs_dataset_name\": \"Bay Area 511 Caltrain VehiclePositions\", \"rounded_rt_data_proportion_percentage\": 40, \"rt_trip_counts_by_operator\": 52.0, \"total_trips\": 1, \"percentage_of_trips\": 1.9230769230769231}, {\"_gtfs_dataset_name\": \"Bay Area 511 Caltrain VehiclePositions\", \"rounded_rt_data_proportion_percentage\": 80, \"rt_trip_counts_by_operator\": 52.0, \"total_trips\": 2, \"percentage_of_trips\": 3.8461538461538463}, {\"_gtfs_dataset_name\": \"Bay Area 511 Caltrain VehiclePositions\", \"rounded_rt_data_proportion_percentage\": 90, \"rt_trip_counts_by_operator\": 52.0, \"total_trips\": 5, \"percentage_of_trips\": 9.615384615384617}, {\"_gtfs_dataset_name\": \"Bay Area 511 Caltrain VehiclePositions\", \"rounded_rt_data_proportion_percentage\": 100, \"rt_trip_counts_by_operator\": 52.0, \"total_trips\": 43, \"percentage_of_trips\": 82.6923076923077}, {\"_gtfs_dataset_name\": \"Bay Area 511 County Connection VehiclePositions\", \"rounded_rt_data_proportion_percentage\": 0, \"rt_trip_counts_by_operator\": 777.0, \"total_trips\": 1, \"percentage_of_trips\": 0.1287001287001287}, {\"_gtfs_dataset_name\": \"Bay Area 511 County Connection VehiclePositions\", \"rounded_rt_data_proportion_percentage\": 10, \"rt_trip_counts_by_operator\": 777.0, \"total_trips\": 2, \"percentage_of_trips\": 0.2574002574002574}, {\"_gtfs_dataset_name\": \"Bay Area 511 County Connection VehiclePositions\", \"rounded_rt_data_proportion_percentage\": 20, \"rt_trip_counts_by_operator\": 777.0, \"total_trips\": 1, \"percentage_of_trips\": 0.1287001287001287}, {\"_gtfs_dataset_name\": \"Bay Area 511 County Connection VehiclePositions\", \"rounded_rt_data_proportion_percentage\": 30, \"rt_trip_counts_by_operator\": 777.0, \"total_trips\": 4, \"percentage_of_trips\": 0.5148005148005148}, {\"_gtfs_dataset_name\": \"Bay Area 511 County Connection VehiclePositions\", \"rounded_rt_data_proportion_percentage\": 40, \"rt_trip_counts_by_operator\": 777.0, \"total_trips\": 2, \"percentage_of_trips\": 0.2574002574002574}, {\"_gtfs_dataset_name\": \"Bay Area 511 County Connection VehiclePositions\", \"rounded_rt_data_proportion_percentage\": 50, \"rt_trip_counts_by_operator\": 777.0, \"total_trips\": 5, \"percentage_of_trips\": 0.6435006435006435}, {\"_gtfs_dataset_name\": \"Bay Area 511 County Connection VehiclePositions\", \"rounded_rt_data_proportion_percentage\": 60, \"rt_trip_counts_by_operator\": 777.0, \"total_trips\": 4, \"percentage_of_trips\": 0.5148005148005148}, {\"_gtfs_dataset_name\": \"Bay Area 511 County Connection VehiclePositions\", \"rounded_rt_data_proportion_percentage\": 70, \"rt_trip_counts_by_operator\": 777.0, \"total_trips\": 9, \"percentage_of_trips\": 1.1583011583011582}, {\"_gtfs_dataset_name\": \"Bay Area 511 County Connection VehiclePositions\", \"rounded_rt_data_proportion_percentage\": 80, \"rt_trip_counts_by_operator\": 777.0, \"total_trips\": 20, \"percentage_of_trips\": 2.574002574002574}, {\"_gtfs_dataset_name\": \"Bay Area 511 County Connection VehiclePositions\", \"rounded_rt_data_proportion_percentage\": 90, \"rt_trip_counts_by_operator\": 777.0, \"total_trips\": 39, \"percentage_of_trips\": 5.019305019305019}, {\"_gtfs_dataset_name\": \"Bay Area 511 County Connection VehiclePositions\", \"rounded_rt_data_proportion_percentage\": 100, \"rt_trip_counts_by_operator\": 777.0, \"total_trips\": 690, \"percentage_of_trips\": 88.8030888030888}, {\"_gtfs_dataset_name\": \"Bay Area 511 Dumbarton Express VehiclePositions\", \"rounded_rt_data_proportion_percentage\": 60, \"rt_trip_counts_by_operator\": 40.0, \"total_trips\": 2, \"percentage_of_trips\": 5.0}, {\"_gtfs_dataset_name\": \"Bay Area 511 Dumbarton Express VehiclePositions\", \"rounded_rt_data_proportion_percentage\": 70, \"rt_trip_counts_by_operator\": 40.0, \"total_trips\": 1, \"percentage_of_trips\": 2.5}, {\"_gtfs_dataset_name\": \"Bay Area 511 Dumbarton Express VehiclePositions\", \"rounded_rt_data_proportion_percentage\": 80, \"rt_trip_counts_by_operator\": 40.0, \"total_trips\": 2, \"percentage_of_trips\": 5.0}, {\"_gtfs_dataset_name\": \"Bay Area 511 Dumbarton Express VehiclePositions\", \"rounded_rt_data_proportion_percentage\": 90, \"rt_trip_counts_by_operator\": 40.0, \"total_trips\": 4, \"percentage_of_trips\": 10.0}, {\"_gtfs_dataset_name\": \"Bay Area 511 Dumbarton Express VehiclePositions\", \"rounded_rt_data_proportion_percentage\": 100, \"rt_trip_counts_by_operator\": 40.0, \"total_trips\": 31, \"percentage_of_trips\": 77.5}, {\"_gtfs_dataset_name\": \"Bay Area 511 Emery Go-Round VehiclePositions\", \"rounded_rt_data_proportion_percentage\": 70, \"rt_trip_counts_by_operator\": 109.0, \"total_trips\": 2, \"percentage_of_trips\": 1.834862385321101}, {\"_gtfs_dataset_name\": \"Bay Area 511 Emery Go-Round VehiclePositions\", \"rounded_rt_data_proportion_percentage\": 90, \"rt_trip_counts_by_operator\": 109.0, \"total_trips\": 3, \"percentage_of_trips\": 2.7522935779816518}, {\"_gtfs_dataset_name\": \"Bay Area 511 Emery Go-Round VehiclePositions\", \"rounded_rt_data_proportion_percentage\": 100, \"rt_trip_counts_by_operator\": 109.0, \"total_trips\": 104, \"percentage_of_trips\": 95.41284403669725}, {\"_gtfs_dataset_name\": \"Bay Area 511 Fairfield and Suisun Transit Vehicle Positions\", \"rounded_rt_data_proportion_percentage\": 50, \"rt_trip_counts_by_operator\": 258.0, \"total_trips\": 1, \"percentage_of_trips\": 0.3875968992248062}, {\"_gtfs_dataset_name\": \"Bay Area 511 Fairfield and Suisun Transit Vehicle Positions\", \"rounded_rt_data_proportion_percentage\": 70, \"rt_trip_counts_by_operator\": 258.0, \"total_trips\": 7, \"percentage_of_trips\": 2.7131782945736433}, {\"_gtfs_dataset_name\": \"Bay Area 511 Fairfield and Suisun Transit Vehicle Positions\", \"rounded_rt_data_proportion_percentage\": 80, \"rt_trip_counts_by_operator\": 258.0, \"total_trips\": 6, \"percentage_of_trips\": 2.3255813953488373}, {\"_gtfs_dataset_name\": \"Bay Area 511 Fairfield and Suisun Transit Vehicle Positions\", \"rounded_rt_data_proportion_percentage\": 90, \"rt_trip_counts_by_operator\": 258.0, \"total_trips\": 25, \"percentage_of_trips\": 9.689922480620156}, {\"_gtfs_dataset_name\": \"Bay Area 511 Fairfield and Suisun Transit Vehicle Positions\", \"rounded_rt_data_proportion_percentage\": 100, \"rt_trip_counts_by_operator\": 258.0, \"total_trips\": 219, \"percentage_of_trips\": 84.88372093023256}, {\"_gtfs_dataset_name\": \"Bay Area 511 Golden Gate Transit Vehicle Positions\", \"rounded_rt_data_proportion_percentage\": 60, \"rt_trip_counts_by_operator\": 148.0, \"total_trips\": 1, \"percentage_of_trips\": 0.6756756756756757}, {\"_gtfs_dataset_name\": \"Bay Area 511 Golden Gate Transit Vehicle Positions\", \"rounded_rt_data_proportion_percentage\": 70, \"rt_trip_counts_by_operator\": 148.0, \"total_trips\": 3, \"percentage_of_trips\": 2.027027027027027}, {\"_gtfs_dataset_name\": \"Bay Area 511 Golden Gate Transit Vehicle Positions\", \"rounded_rt_data_proportion_percentage\": 80, \"rt_trip_counts_by_operator\": 148.0, \"total_trips\": 24, \"percentage_of_trips\": 16.216216216216218}, {\"_gtfs_dataset_name\": \"Bay Area 511 Golden Gate Transit Vehicle Positions\", \"rounded_rt_data_proportion_percentage\": 90, \"rt_trip_counts_by_operator\": 148.0, \"total_trips\": 56, \"percentage_of_trips\": 37.83783783783784}, {\"_gtfs_dataset_name\": \"Bay Area 511 Golden Gate Transit Vehicle Positions\", \"rounded_rt_data_proportion_percentage\": 100, \"rt_trip_counts_by_operator\": 148.0, \"total_trips\": 64, \"percentage_of_trips\": 43.24324324324324}, {\"_gtfs_dataset_name\": \"Bay Area 511 MVGO VehiclePositions\", \"rounded_rt_data_proportion_percentage\": 80, \"rt_trip_counts_by_operator\": 78.0, \"total_trips\": 1, \"percentage_of_trips\": 1.282051282051282}, {\"_gtfs_dataset_name\": \"Bay Area 511 MVGO VehiclePositions\", \"rounded_rt_data_proportion_percentage\": 90, \"rt_trip_counts_by_operator\": 78.0, \"total_trips\": 1, \"percentage_of_trips\": 1.282051282051282}, {\"_gtfs_dataset_name\": \"Bay Area 511 MVGO VehiclePositions\", \"rounded_rt_data_proportion_percentage\": 100, \"rt_trip_counts_by_operator\": 78.0, \"total_trips\": 76, \"percentage_of_trips\": 97.43589743589743}, {\"_gtfs_dataset_name\": \"Bay Area 511 Marin VehiclePositions\", \"rounded_rt_data_proportion_percentage\": 0, \"rt_trip_counts_by_operator\": 544.0, \"total_trips\": 3, \"percentage_of_trips\": 0.5514705882352942}, {\"_gtfs_dataset_name\": \"Bay Area 511 Marin VehiclePositions\", \"rounded_rt_data_proportion_percentage\": 10, \"rt_trip_counts_by_operator\": 544.0, \"total_trips\": 3, \"percentage_of_trips\": 0.5514705882352942}, {\"_gtfs_dataset_name\": \"Bay Area 511 Marin VehiclePositions\", \"rounded_rt_data_proportion_percentage\": 40, \"rt_trip_counts_by_operator\": 544.0, \"total_trips\": 2, \"percentage_of_trips\": 0.3676470588235294}, {\"_gtfs_dataset_name\": \"Bay Area 511 Marin VehiclePositions\", \"rounded_rt_data_proportion_percentage\": 50, \"rt_trip_counts_by_operator\": 544.0, \"total_trips\": 6, \"percentage_of_trips\": 1.1029411764705883}, {\"_gtfs_dataset_name\": \"Bay Area 511 Marin VehiclePositions\", \"rounded_rt_data_proportion_percentage\": 60, \"rt_trip_counts_by_operator\": 544.0, \"total_trips\": 7, \"percentage_of_trips\": 1.2867647058823528}, {\"_gtfs_dataset_name\": \"Bay Area 511 Marin VehiclePositions\", \"rounded_rt_data_proportion_percentage\": 70, \"rt_trip_counts_by_operator\": 544.0, \"total_trips\": 13, \"percentage_of_trips\": 2.389705882352941}, {\"_gtfs_dataset_name\": \"Bay Area 511 Marin VehiclePositions\", \"rounded_rt_data_proportion_percentage\": 80, \"rt_trip_counts_by_operator\": 544.0, \"total_trips\": 40, \"percentage_of_trips\": 7.352941176470589}, {\"_gtfs_dataset_name\": \"Bay Area 511 Marin VehiclePositions\", \"rounded_rt_data_proportion_percentage\": 90, \"rt_trip_counts_by_operator\": 544.0, \"total_trips\": 88, \"percentage_of_trips\": 16.176470588235293}, {\"_gtfs_dataset_name\": \"Bay Area 511 Marin VehiclePositions\", \"rounded_rt_data_proportion_percentage\": 100, \"rt_trip_counts_by_operator\": 544.0, \"total_trips\": 382, \"percentage_of_trips\": 70.22058823529412}, {\"_gtfs_dataset_name\": \"Bay Area 511 Muni VehiclePositions\", \"rounded_rt_data_proportion_percentage\": 0, \"rt_trip_counts_by_operator\": 6919.0, \"total_trips\": 12, \"percentage_of_trips\": 0.1734354675531146}, {\"_gtfs_dataset_name\": \"Bay Area 511 Muni VehiclePositions\", \"rounded_rt_data_proportion_percentage\": 10, \"rt_trip_counts_by_operator\": 6919.0, \"total_trips\": 15, \"percentage_of_trips\": 0.21679433444139326}, {\"_gtfs_dataset_name\": \"Bay Area 511 Muni VehiclePositions\", \"rounded_rt_data_proportion_percentage\": 20, \"rt_trip_counts_by_operator\": 6919.0, \"total_trips\": 12, \"percentage_of_trips\": 0.1734354675531146}, {\"_gtfs_dataset_name\": \"Bay Area 511 Muni VehiclePositions\", \"rounded_rt_data_proportion_percentage\": 30, \"rt_trip_counts_by_operator\": 6919.0, \"total_trips\": 18, \"percentage_of_trips\": 0.26015320132967196}, {\"_gtfs_dataset_name\": \"Bay Area 511 Muni VehiclePositions\", \"rounded_rt_data_proportion_percentage\": 40, \"rt_trip_counts_by_operator\": 6919.0, \"total_trips\": 18, \"percentage_of_trips\": 0.26015320132967196}, {\"_gtfs_dataset_name\": \"Bay Area 511 Muni VehiclePositions\", \"rounded_rt_data_proportion_percentage\": 50, \"rt_trip_counts_by_operator\": 6919.0, \"total_trips\": 31, \"percentage_of_trips\": 0.44804162451221274}, {\"_gtfs_dataset_name\": \"Bay Area 511 Muni VehiclePositions\", \"rounded_rt_data_proportion_percentage\": 60, \"rt_trip_counts_by_operator\": 6919.0, \"total_trips\": 32, \"percentage_of_trips\": 0.462494580141639}, {\"_gtfs_dataset_name\": \"Bay Area 511 Muni VehiclePositions\", \"rounded_rt_data_proportion_percentage\": 70, \"rt_trip_counts_by_operator\": 6919.0, \"total_trips\": 42, \"percentage_of_trips\": 0.6070241364359011}, {\"_gtfs_dataset_name\": \"Bay Area 511 Muni VehiclePositions\", \"rounded_rt_data_proportion_percentage\": 80, \"rt_trip_counts_by_operator\": 6919.0, \"total_trips\": 164, \"percentage_of_trips\": 2.3702847232258994}, {\"_gtfs_dataset_name\": \"Bay Area 511 Muni VehiclePositions\", \"rounded_rt_data_proportion_percentage\": 90, \"rt_trip_counts_by_operator\": 6919.0, \"total_trips\": 431, \"percentage_of_trips\": 6.2292238762827}, {\"_gtfs_dataset_name\": \"Bay Area 511 Muni VehiclePositions\", \"rounded_rt_data_proportion_percentage\": 100, \"rt_trip_counts_by_operator\": 6919.0, \"total_trips\": 6144, \"percentage_of_trips\": 88.79895938719467}, {\"_gtfs_dataset_name\": \"Bay Area 511 Petaluma VehiclePositions\", \"rounded_rt_data_proportion_percentage\": 10, \"rt_trip_counts_by_operator\": 120.0, \"total_trips\": 1, \"percentage_of_trips\": 0.8333333333333334}, {\"_gtfs_dataset_name\": \"Bay Area 511 Petaluma VehiclePositions\", \"rounded_rt_data_proportion_percentage\": 20, \"rt_trip_counts_by_operator\": 120.0, \"total_trips\": 1, \"percentage_of_trips\": 0.8333333333333334}, {\"_gtfs_dataset_name\": \"Bay Area 511 Petaluma VehiclePositions\", \"rounded_rt_data_proportion_percentage\": 50, \"rt_trip_counts_by_operator\": 120.0, \"total_trips\": 3, \"percentage_of_trips\": 2.5}, {\"_gtfs_dataset_name\": \"Bay Area 511 Petaluma VehiclePositions\", \"rounded_rt_data_proportion_percentage\": 70, \"rt_trip_counts_by_operator\": 120.0, \"total_trips\": 3, \"percentage_of_trips\": 2.5}, {\"_gtfs_dataset_name\": \"Bay Area 511 Petaluma VehiclePositions\", \"rounded_rt_data_proportion_percentage\": 80, \"rt_trip_counts_by_operator\": 120.0, \"total_trips\": 6, \"percentage_of_trips\": 5.0}, {\"_gtfs_dataset_name\": \"Bay Area 511 Petaluma VehiclePositions\", \"rounded_rt_data_proportion_percentage\": 90, \"rt_trip_counts_by_operator\": 120.0, \"total_trips\": 11, \"percentage_of_trips\": 9.166666666666666}, {\"_gtfs_dataset_name\": \"Bay Area 511 Petaluma VehiclePositions\", \"rounded_rt_data_proportion_percentage\": 100, \"rt_trip_counts_by_operator\": 120.0, \"total_trips\": 95, \"percentage_of_trips\": 79.16666666666666}, {\"_gtfs_dataset_name\": \"Bay Area 511 SamTrans VehiclePositions\", \"rounded_rt_data_proportion_percentage\": 0, \"rt_trip_counts_by_operator\": 1129.0, \"total_trips\": 2, \"percentage_of_trips\": 0.1771479185119575}, {\"_gtfs_dataset_name\": \"Bay Area 511 SamTrans VehiclePositions\", \"rounded_rt_data_proportion_percentage\": 10, \"rt_trip_counts_by_operator\": 1129.0, \"total_trips\": 5, \"percentage_of_trips\": 0.44286979627989376}, {\"_gtfs_dataset_name\": \"Bay Area 511 SamTrans VehiclePositions\", \"rounded_rt_data_proportion_percentage\": 20, \"rt_trip_counts_by_operator\": 1129.0, \"total_trips\": 7, \"percentage_of_trips\": 0.6200177147918512}, {\"_gtfs_dataset_name\": \"Bay Area 511 SamTrans VehiclePositions\", \"rounded_rt_data_proportion_percentage\": 30, \"rt_trip_counts_by_operator\": 1129.0, \"total_trips\": 3, \"percentage_of_trips\": 0.2657218777679362}, {\"_gtfs_dataset_name\": \"Bay Area 511 SamTrans VehiclePositions\", \"rounded_rt_data_proportion_percentage\": 40, \"rt_trip_counts_by_operator\": 1129.0, \"total_trips\": 1, \"percentage_of_trips\": 0.08857395925597875}, {\"_gtfs_dataset_name\": \"Bay Area 511 SamTrans VehiclePositions\", \"rounded_rt_data_proportion_percentage\": 50, \"rt_trip_counts_by_operator\": 1129.0, \"total_trips\": 5, \"percentage_of_trips\": 0.44286979627989376}, {\"_gtfs_dataset_name\": \"Bay Area 511 SamTrans VehiclePositions\", \"rounded_rt_data_proportion_percentage\": 60, \"rt_trip_counts_by_operator\": 1129.0, \"total_trips\": 7, \"percentage_of_trips\": 0.6200177147918512}, {\"_gtfs_dataset_name\": \"Bay Area 511 SamTrans VehiclePositions\", \"rounded_rt_data_proportion_percentage\": 70, \"rt_trip_counts_by_operator\": 1129.0, \"total_trips\": 15, \"percentage_of_trips\": 1.328609388839681}, {\"_gtfs_dataset_name\": \"Bay Area 511 SamTrans VehiclePositions\", \"rounded_rt_data_proportion_percentage\": 80, \"rt_trip_counts_by_operator\": 1129.0, \"total_trips\": 57, \"percentage_of_trips\": 5.048715677590788}, {\"_gtfs_dataset_name\": \"Bay Area 511 SamTrans VehiclePositions\", \"rounded_rt_data_proportion_percentage\": 90, \"rt_trip_counts_by_operator\": 1129.0, \"total_trips\": 278, \"percentage_of_trips\": 24.62356067316209}, {\"_gtfs_dataset_name\": \"Bay Area 511 SamTrans VehiclePositions\", \"rounded_rt_data_proportion_percentage\": 100, \"rt_trip_counts_by_operator\": 1129.0, \"total_trips\": 749, \"percentage_of_trips\": 66.34189548272808}, {\"_gtfs_dataset_name\": \"Bay Area 511 San Francisco Bay Ferry VehiclePositions\", \"rounded_rt_data_proportion_percentage\": 10, \"rt_trip_counts_by_operator\": 133.0, \"total_trips\": 4, \"percentage_of_trips\": 3.007518796992481}, {\"_gtfs_dataset_name\": \"Bay Area 511 San Francisco Bay Ferry VehiclePositions\", \"rounded_rt_data_proportion_percentage\": 20, \"rt_trip_counts_by_operator\": 133.0, \"total_trips\": 6, \"percentage_of_trips\": 4.511278195488721}, {\"_gtfs_dataset_name\": \"Bay Area 511 San Francisco Bay Ferry VehiclePositions\", \"rounded_rt_data_proportion_percentage\": 30, \"rt_trip_counts_by_operator\": 133.0, \"total_trips\": 3, \"percentage_of_trips\": 2.2556390977443606}, {\"_gtfs_dataset_name\": \"Bay Area 511 San Francisco Bay Ferry VehiclePositions\", \"rounded_rt_data_proportion_percentage\": 40, \"rt_trip_counts_by_operator\": 133.0, \"total_trips\": 13, \"percentage_of_trips\": 9.774436090225564}, {\"_gtfs_dataset_name\": \"Bay Area 511 San Francisco Bay Ferry VehiclePositions\", \"rounded_rt_data_proportion_percentage\": 50, \"rt_trip_counts_by_operator\": 133.0, \"total_trips\": 20, \"percentage_of_trips\": 15.037593984962406}, {\"_gtfs_dataset_name\": \"Bay Area 511 San Francisco Bay Ferry VehiclePositions\", \"rounded_rt_data_proportion_percentage\": 60, \"rt_trip_counts_by_operator\": 133.0, \"total_trips\": 12, \"percentage_of_trips\": 9.022556390977442}, {\"_gtfs_dataset_name\": \"Bay Area 511 San Francisco Bay Ferry VehiclePositions\", \"rounded_rt_data_proportion_percentage\": 70, \"rt_trip_counts_by_operator\": 133.0, \"total_trips\": 5, \"percentage_of_trips\": 3.7593984962406015}, {\"_gtfs_dataset_name\": \"Bay Area 511 San Francisco Bay Ferry VehiclePositions\", \"rounded_rt_data_proportion_percentage\": 80, \"rt_trip_counts_by_operator\": 133.0, \"total_trips\": 16, \"percentage_of_trips\": 12.030075187969924}, {\"_gtfs_dataset_name\": \"Bay Area 511 San Francisco Bay Ferry VehiclePositions\", \"rounded_rt_data_proportion_percentage\": 90, \"rt_trip_counts_by_operator\": 133.0, \"total_trips\": 5, \"percentage_of_trips\": 3.7593984962406015}, {\"_gtfs_dataset_name\": \"Bay Area 511 San Francisco Bay Ferry VehiclePositions\", \"rounded_rt_data_proportion_percentage\": 100, \"rt_trip_counts_by_operator\": 133.0, \"total_trips\": 49, \"percentage_of_trips\": 36.84210526315789}, {\"_gtfs_dataset_name\": \"Bay Area 511 Santa Clara Transit VehiclePositions\", \"rounded_rt_data_proportion_percentage\": 0, \"rt_trip_counts_by_operator\": 3109.0, \"total_trips\": 23, \"percentage_of_trips\": 0.7397877130910261}, {\"_gtfs_dataset_name\": \"Bay Area 511 Santa Clara Transit VehiclePositions\", \"rounded_rt_data_proportion_percentage\": 10, \"rt_trip_counts_by_operator\": 3109.0, \"total_trips\": 13, \"percentage_of_trips\": 0.418140881312319}, {\"_gtfs_dataset_name\": \"Bay Area 511 Santa Clara Transit VehiclePositions\", \"rounded_rt_data_proportion_percentage\": 20, \"rt_trip_counts_by_operator\": 3109.0, \"total_trips\": 4, \"percentage_of_trips\": 0.1286587327114828}, {\"_gtfs_dataset_name\": \"Bay Area 511 Santa Clara Transit VehiclePositions\", \"rounded_rt_data_proportion_percentage\": 30, \"rt_trip_counts_by_operator\": 3109.0, \"total_trips\": 3, \"percentage_of_trips\": 0.0964940495336121}, {\"_gtfs_dataset_name\": \"Bay Area 511 Santa Clara Transit VehiclePositions\", \"rounded_rt_data_proportion_percentage\": 40, \"rt_trip_counts_by_operator\": 3109.0, \"total_trips\": 7, \"percentage_of_trips\": 0.2251527822450949}, {\"_gtfs_dataset_name\": \"Bay Area 511 Santa Clara Transit VehiclePositions\", \"rounded_rt_data_proportion_percentage\": 50, \"rt_trip_counts_by_operator\": 3109.0, \"total_trips\": 9, \"percentage_of_trips\": 0.2894821486008363}, {\"_gtfs_dataset_name\": \"Bay Area 511 Santa Clara Transit VehiclePositions\", \"rounded_rt_data_proportion_percentage\": 60, \"rt_trip_counts_by_operator\": 3109.0, \"total_trips\": 5, \"percentage_of_trips\": 0.16082341588935348}, {\"_gtfs_dataset_name\": \"Bay Area 511 Santa Clara Transit VehiclePositions\", \"rounded_rt_data_proportion_percentage\": 70, \"rt_trip_counts_by_operator\": 3109.0, \"total_trips\": 13, \"percentage_of_trips\": 0.418140881312319}, {\"_gtfs_dataset_name\": \"Bay Area 511 Santa Clara Transit VehiclePositions\", \"rounded_rt_data_proportion_percentage\": 80, \"rt_trip_counts_by_operator\": 3109.0, \"total_trips\": 67, \"percentage_of_trips\": 2.1550337729173368}, {\"_gtfs_dataset_name\": \"Bay Area 511 Santa Clara Transit VehiclePositions\", \"rounded_rt_data_proportion_percentage\": 90, \"rt_trip_counts_by_operator\": 3109.0, \"total_trips\": 155, \"percentage_of_trips\": 4.9855258925699575}, {\"_gtfs_dataset_name\": \"Bay Area 511 Santa Clara Transit VehiclePositions\", \"rounded_rt_data_proportion_percentage\": 100, \"rt_trip_counts_by_operator\": 3109.0, \"total_trips\": 2810, \"percentage_of_trips\": 90.38275972981667}, {\"_gtfs_dataset_name\": \"Bay Area 511 Santa Rosa CityBus VehiclePositions\", \"rounded_rt_data_proportion_percentage\": 20, \"rt_trip_counts_by_operator\": 516.0, \"total_trips\": 1, \"percentage_of_trips\": 0.1937984496124031}, {\"_gtfs_dataset_name\": \"Bay Area 511 Santa Rosa CityBus VehiclePositions\", \"rounded_rt_data_proportion_percentage\": 40, \"rt_trip_counts_by_operator\": 516.0, \"total_trips\": 12, \"percentage_of_trips\": 2.3255813953488373}, {\"_gtfs_dataset_name\": \"Bay Area 511 Santa Rosa CityBus VehiclePositions\", \"rounded_rt_data_proportion_percentage\": 50, \"rt_trip_counts_by_operator\": 516.0, \"total_trips\": 15, \"percentage_of_trips\": 2.9069767441860463}, {\"_gtfs_dataset_name\": \"Bay Area 511 Santa Rosa CityBus VehiclePositions\", \"rounded_rt_data_proportion_percentage\": 60, \"rt_trip_counts_by_operator\": 516.0, \"total_trips\": 18, \"percentage_of_trips\": 3.488372093023256}, {\"_gtfs_dataset_name\": \"Bay Area 511 Santa Rosa CityBus VehiclePositions\", \"rounded_rt_data_proportion_percentage\": 70, \"rt_trip_counts_by_operator\": 516.0, \"total_trips\": 39, \"percentage_of_trips\": 7.55813953488372}, {\"_gtfs_dataset_name\": \"Bay Area 511 Santa Rosa CityBus VehiclePositions\", \"rounded_rt_data_proportion_percentage\": 80, \"rt_trip_counts_by_operator\": 516.0, \"total_trips\": 42, \"percentage_of_trips\": 8.13953488372093}, {\"_gtfs_dataset_name\": \"Bay Area 511 Santa Rosa CityBus VehiclePositions\", \"rounded_rt_data_proportion_percentage\": 90, \"rt_trip_counts_by_operator\": 516.0, \"total_trips\": 59, \"percentage_of_trips\": 11.434108527131782}, {\"_gtfs_dataset_name\": \"Bay Area 511 Santa Rosa CityBus VehiclePositions\", \"rounded_rt_data_proportion_percentage\": 100, \"rt_trip_counts_by_operator\": 516.0, \"total_trips\": 330, \"percentage_of_trips\": 63.95348837209303}, {\"_gtfs_dataset_name\": \"Bay Area 511 SolTrans VehiclePositions\", \"rounded_rt_data_proportion_percentage\": 40, \"rt_trip_counts_by_operator\": 351.0, \"total_trips\": 3, \"percentage_of_trips\": 0.8547008547008548}, {\"_gtfs_dataset_name\": \"Bay Area 511 SolTrans VehiclePositions\", \"rounded_rt_data_proportion_percentage\": 50, \"rt_trip_counts_by_operator\": 351.0, \"total_trips\": 2, \"percentage_of_trips\": 0.5698005698005698}, {\"_gtfs_dataset_name\": \"Bay Area 511 SolTrans VehiclePositions\", \"rounded_rt_data_proportion_percentage\": 60, \"rt_trip_counts_by_operator\": 351.0, \"total_trips\": 7, \"percentage_of_trips\": 1.9943019943019942}, {\"_gtfs_dataset_name\": \"Bay Area 511 SolTrans VehiclePositions\", \"rounded_rt_data_proportion_percentage\": 70, \"rt_trip_counts_by_operator\": 351.0, \"total_trips\": 14, \"percentage_of_trips\": 3.9886039886039883}, {\"_gtfs_dataset_name\": \"Bay Area 511 SolTrans VehiclePositions\", \"rounded_rt_data_proportion_percentage\": 80, \"rt_trip_counts_by_operator\": 351.0, \"total_trips\": 30, \"percentage_of_trips\": 8.547008547008547}, {\"_gtfs_dataset_name\": \"Bay Area 511 SolTrans VehiclePositions\", \"rounded_rt_data_proportion_percentage\": 90, \"rt_trip_counts_by_operator\": 351.0, \"total_trips\": 35, \"percentage_of_trips\": 9.971509971509972}, {\"_gtfs_dataset_name\": \"Bay Area 511 SolTrans VehiclePositions\", \"rounded_rt_data_proportion_percentage\": 100, \"rt_trip_counts_by_operator\": 351.0, \"total_trips\": 260, \"percentage_of_trips\": 74.07407407407408}, {\"_gtfs_dataset_name\": \"Bay Area 511 Sonoma County Transit Vehicle Positions\", \"rounded_rt_data_proportion_percentage\": 0, \"rt_trip_counts_by_operator\": 140.0, \"total_trips\": 1, \"percentage_of_trips\": 0.7142857142857143}, {\"_gtfs_dataset_name\": \"Bay Area 511 Sonoma County Transit Vehicle Positions\", \"rounded_rt_data_proportion_percentage\": 10, \"rt_trip_counts_by_operator\": 140.0, \"total_trips\": 4, \"percentage_of_trips\": 2.857142857142857}, {\"_gtfs_dataset_name\": \"Bay Area 511 Sonoma County Transit Vehicle Positions\", \"rounded_rt_data_proportion_percentage\": 30, \"rt_trip_counts_by_operator\": 140.0, \"total_trips\": 3, \"percentage_of_trips\": 2.142857142857143}, {\"_gtfs_dataset_name\": \"Bay Area 511 Sonoma County Transit Vehicle Positions\", \"rounded_rt_data_proportion_percentage\": 40, \"rt_trip_counts_by_operator\": 140.0, \"total_trips\": 3, \"percentage_of_trips\": 2.142857142857143}, {\"_gtfs_dataset_name\": \"Bay Area 511 Sonoma County Transit Vehicle Positions\", \"rounded_rt_data_proportion_percentage\": 50, \"rt_trip_counts_by_operator\": 140.0, \"total_trips\": 3, \"percentage_of_trips\": 2.142857142857143}, {\"_gtfs_dataset_name\": \"Bay Area 511 Sonoma County Transit Vehicle Positions\", \"rounded_rt_data_proportion_percentage\": 60, \"rt_trip_counts_by_operator\": 140.0, \"total_trips\": 6, \"percentage_of_trips\": 4.285714285714286}, {\"_gtfs_dataset_name\": \"Bay Area 511 Sonoma County Transit Vehicle Positions\", \"rounded_rt_data_proportion_percentage\": 70, \"rt_trip_counts_by_operator\": 140.0, \"total_trips\": 6, \"percentage_of_trips\": 4.285714285714286}, {\"_gtfs_dataset_name\": \"Bay Area 511 Sonoma County Transit Vehicle Positions\", \"rounded_rt_data_proportion_percentage\": 80, \"rt_trip_counts_by_operator\": 140.0, \"total_trips\": 3, \"percentage_of_trips\": 2.142857142857143}, {\"_gtfs_dataset_name\": \"Bay Area 511 Sonoma County Transit Vehicle Positions\", \"rounded_rt_data_proportion_percentage\": 90, \"rt_trip_counts_by_operator\": 140.0, \"total_trips\": 9, \"percentage_of_trips\": 6.428571428571428}, {\"_gtfs_dataset_name\": \"Bay Area 511 Sonoma County Transit Vehicle Positions\", \"rounded_rt_data_proportion_percentage\": 100, \"rt_trip_counts_by_operator\": 140.0, \"total_trips\": 102, \"percentage_of_trips\": 72.85714285714285}, {\"_gtfs_dataset_name\": \"Bay Area 511 Sonoma-Marin Area Rail Transit VehiclePositions\", \"rounded_rt_data_proportion_percentage\": 90, \"rt_trip_counts_by_operator\": 33.0, \"total_trips\": 20, \"percentage_of_trips\": 60.60606060606061}, {\"_gtfs_dataset_name\": \"Bay Area 511 Sonoma-Marin Area Rail Transit VehiclePositions\", \"rounded_rt_data_proportion_percentage\": 100, \"rt_trip_counts_by_operator\": 33.0, \"total_trips\": 13, \"percentage_of_trips\": 39.39393939393939}, {\"_gtfs_dataset_name\": \"Bay Area 511 Tri Delta VehiclePositions\", \"rounded_rt_data_proportion_percentage\": 30, \"rt_trip_counts_by_operator\": 423.0, \"total_trips\": 1, \"percentage_of_trips\": 0.2364066193853428}, {\"_gtfs_dataset_name\": \"Bay Area 511 Tri Delta VehiclePositions\", \"rounded_rt_data_proportion_percentage\": 50, \"rt_trip_counts_by_operator\": 423.0, \"total_trips\": 3, \"percentage_of_trips\": 0.7092198581560284}, {\"_gtfs_dataset_name\": \"Bay Area 511 Tri Delta VehiclePositions\", \"rounded_rt_data_proportion_percentage\": 60, \"rt_trip_counts_by_operator\": 423.0, \"total_trips\": 2, \"percentage_of_trips\": 0.4728132387706856}, {\"_gtfs_dataset_name\": \"Bay Area 511 Tri Delta VehiclePositions\", \"rounded_rt_data_proportion_percentage\": 70, \"rt_trip_counts_by_operator\": 423.0, \"total_trips\": 10, \"percentage_of_trips\": 2.3640661938534278}, {\"_gtfs_dataset_name\": \"Bay Area 511 Tri Delta VehiclePositions\", \"rounded_rt_data_proportion_percentage\": 80, \"rt_trip_counts_by_operator\": 423.0, \"total_trips\": 37, \"percentage_of_trips\": 8.747044917257684}, {\"_gtfs_dataset_name\": \"Bay Area 511 Tri Delta VehiclePositions\", \"rounded_rt_data_proportion_percentage\": 90, \"rt_trip_counts_by_operator\": 423.0, \"total_trips\": 68, \"percentage_of_trips\": 16.07565011820331}, {\"_gtfs_dataset_name\": \"Bay Area 511 Tri Delta VehiclePositions\", \"rounded_rt_data_proportion_percentage\": 100, \"rt_trip_counts_by_operator\": 423.0, \"total_trips\": 302, \"percentage_of_trips\": 71.39479905437352}, {\"_gtfs_dataset_name\": \"Bay Area 511 Tri-Valley Wheels VehiclePositions\", \"rounded_rt_data_proportion_percentage\": 0, \"rt_trip_counts_by_operator\": 358.0, \"total_trips\": 1, \"percentage_of_trips\": 0.27932960893854747}, {\"_gtfs_dataset_name\": \"Bay Area 511 Tri-Valley Wheels VehiclePositions\", \"rounded_rt_data_proportion_percentage\": 30, \"rt_trip_counts_by_operator\": 358.0, \"total_trips\": 1, \"percentage_of_trips\": 0.27932960893854747}, {\"_gtfs_dataset_name\": \"Bay Area 511 Tri-Valley Wheels VehiclePositions\", \"rounded_rt_data_proportion_percentage\": 50, \"rt_trip_counts_by_operator\": 358.0, \"total_trips\": 2, \"percentage_of_trips\": 0.5586592178770949}, {\"_gtfs_dataset_name\": \"Bay Area 511 Tri-Valley Wheels VehiclePositions\", \"rounded_rt_data_proportion_percentage\": 60, \"rt_trip_counts_by_operator\": 358.0, \"total_trips\": 2, \"percentage_of_trips\": 0.5586592178770949}, {\"_gtfs_dataset_name\": \"Bay Area 511 Tri-Valley Wheels VehiclePositions\", \"rounded_rt_data_proportion_percentage\": 70, \"rt_trip_counts_by_operator\": 358.0, \"total_trips\": 2, \"percentage_of_trips\": 0.5586592178770949}, {\"_gtfs_dataset_name\": \"Bay Area 511 Tri-Valley Wheels VehiclePositions\", \"rounded_rt_data_proportion_percentage\": 80, \"rt_trip_counts_by_operator\": 358.0, \"total_trips\": 15, \"percentage_of_trips\": 4.189944134078212}, {\"_gtfs_dataset_name\": \"Bay Area 511 Tri-Valley Wheels VehiclePositions\", \"rounded_rt_data_proportion_percentage\": 90, \"rt_trip_counts_by_operator\": 358.0, \"total_trips\": 41, \"percentage_of_trips\": 11.452513966480447}, {\"_gtfs_dataset_name\": \"Bay Area 511 Tri-Valley Wheels VehiclePositions\", \"rounded_rt_data_proportion_percentage\": 100, \"rt_trip_counts_by_operator\": 358.0, \"total_trips\": 294, \"percentage_of_trips\": 82.12290502793296}, {\"_gtfs_dataset_name\": \"Bay Area 511 Union City Transit VehiclePositions\", \"rounded_rt_data_proportion_percentage\": 0, \"rt_trip_counts_by_operator\": 132.0, \"total_trips\": 1, \"percentage_of_trips\": 0.7575757575757576}, {\"_gtfs_dataset_name\": \"Bay Area 511 Union City Transit VehiclePositions\", \"rounded_rt_data_proportion_percentage\": 10, \"rt_trip_counts_by_operator\": 132.0, \"total_trips\": 1, \"percentage_of_trips\": 0.7575757575757576}, {\"_gtfs_dataset_name\": \"Bay Area 511 Union City Transit VehiclePositions\", \"rounded_rt_data_proportion_percentage\": 20, \"rt_trip_counts_by_operator\": 132.0, \"total_trips\": 2, \"percentage_of_trips\": 1.5151515151515151}, {\"_gtfs_dataset_name\": \"Bay Area 511 Union City Transit VehiclePositions\", \"rounded_rt_data_proportion_percentage\": 40, \"rt_trip_counts_by_operator\": 132.0, \"total_trips\": 1, \"percentage_of_trips\": 0.7575757575757576}, {\"_gtfs_dataset_name\": \"Bay Area 511 Union City Transit VehiclePositions\", \"rounded_rt_data_proportion_percentage\": 50, \"rt_trip_counts_by_operator\": 132.0, \"total_trips\": 1, \"percentage_of_trips\": 0.7575757575757576}, {\"_gtfs_dataset_name\": \"Bay Area 511 Union City Transit VehiclePositions\", \"rounded_rt_data_proportion_percentage\": 60, \"rt_trip_counts_by_operator\": 132.0, \"total_trips\": 2, \"percentage_of_trips\": 1.5151515151515151}, {\"_gtfs_dataset_name\": \"Bay Area 511 Union City Transit VehiclePositions\", \"rounded_rt_data_proportion_percentage\": 70, \"rt_trip_counts_by_operator\": 132.0, \"total_trips\": 3, \"percentage_of_trips\": 2.272727272727273}, {\"_gtfs_dataset_name\": \"Bay Area 511 Union City Transit VehiclePositions\", \"rounded_rt_data_proportion_percentage\": 80, \"rt_trip_counts_by_operator\": 132.0, \"total_trips\": 6, \"percentage_of_trips\": 4.545454545454546}, {\"_gtfs_dataset_name\": \"Bay Area 511 Union City Transit VehiclePositions\", \"rounded_rt_data_proportion_percentage\": 90, \"rt_trip_counts_by_operator\": 132.0, \"total_trips\": 7, \"percentage_of_trips\": 5.303030303030303}, {\"_gtfs_dataset_name\": \"Bay Area 511 Union City Transit VehiclePositions\", \"rounded_rt_data_proportion_percentage\": 100, \"rt_trip_counts_by_operator\": 132.0, \"total_trips\": 108, \"percentage_of_trips\": 81.81818181818183}, {\"_gtfs_dataset_name\": \"Bay Area 511 Vine Transit VehiclePositions\", \"rounded_rt_data_proportion_percentage\": 20, \"rt_trip_counts_by_operator\": 98.0, \"total_trips\": 1, \"percentage_of_trips\": 1.0204081632653061}, {\"_gtfs_dataset_name\": \"Bay Area 511 Vine Transit VehiclePositions\", \"rounded_rt_data_proportion_percentage\": 50, \"rt_trip_counts_by_operator\": 98.0, \"total_trips\": 1, \"percentage_of_trips\": 1.0204081632653061}, {\"_gtfs_dataset_name\": \"Bay Area 511 Vine Transit VehiclePositions\", \"rounded_rt_data_proportion_percentage\": 70, \"rt_trip_counts_by_operator\": 98.0, \"total_trips\": 3, \"percentage_of_trips\": 3.061224489795918}, {\"_gtfs_dataset_name\": \"Bay Area 511 Vine Transit VehiclePositions\", \"rounded_rt_data_proportion_percentage\": 80, \"rt_trip_counts_by_operator\": 98.0, \"total_trips\": 5, \"percentage_of_trips\": 5.1020408163265305}, {\"_gtfs_dataset_name\": \"Bay Area 511 Vine Transit VehiclePositions\", \"rounded_rt_data_proportion_percentage\": 90, \"rt_trip_counts_by_operator\": 98.0, \"total_trips\": 10, \"percentage_of_trips\": 10.204081632653061}, {\"_gtfs_dataset_name\": \"Bay Area 511 Vine Transit VehiclePositions\", \"rounded_rt_data_proportion_percentage\": 100, \"rt_trip_counts_by_operator\": 98.0, \"total_trips\": 78, \"percentage_of_trips\": 79.59183673469387}, {\"_gtfs_dataset_name\": \"Bay Area 511 WestCAT VehiclePositions\", \"rounded_rt_data_proportion_percentage\": 0, \"rt_trip_counts_by_operator\": 359.0, \"total_trips\": 1, \"percentage_of_trips\": 0.2785515320334262}, {\"_gtfs_dataset_name\": \"Bay Area 511 WestCAT VehiclePositions\", \"rounded_rt_data_proportion_percentage\": 10, \"rt_trip_counts_by_operator\": 359.0, \"total_trips\": 1, \"percentage_of_trips\": 0.2785515320334262}, {\"_gtfs_dataset_name\": \"Bay Area 511 WestCAT VehiclePositions\", \"rounded_rt_data_proportion_percentage\": 40, \"rt_trip_counts_by_operator\": 359.0, \"total_trips\": 2, \"percentage_of_trips\": 0.5571030640668524}, {\"_gtfs_dataset_name\": \"Bay Area 511 WestCAT VehiclePositions\", \"rounded_rt_data_proportion_percentage\": 50, \"rt_trip_counts_by_operator\": 359.0, \"total_trips\": 5, \"percentage_of_trips\": 1.392757660167131}, {\"_gtfs_dataset_name\": \"Bay Area 511 WestCAT VehiclePositions\", \"rounded_rt_data_proportion_percentage\": 60, \"rt_trip_counts_by_operator\": 359.0, \"total_trips\": 28, \"percentage_of_trips\": 7.7994428969359335}, {\"_gtfs_dataset_name\": \"Bay Area 511 WestCAT VehiclePositions\", \"rounded_rt_data_proportion_percentage\": 70, \"rt_trip_counts_by_operator\": 359.0, \"total_trips\": 28, \"percentage_of_trips\": 7.7994428969359335}, {\"_gtfs_dataset_name\": \"Bay Area 511 WestCAT VehiclePositions\", \"rounded_rt_data_proportion_percentage\": 80, \"rt_trip_counts_by_operator\": 359.0, \"total_trips\": 72, \"percentage_of_trips\": 20.055710306406684}, {\"_gtfs_dataset_name\": \"Bay Area 511 WestCAT VehiclePositions\", \"rounded_rt_data_proportion_percentage\": 90, \"rt_trip_counts_by_operator\": 359.0, \"total_trips\": 70, \"percentage_of_trips\": 19.498607242339833}, {\"_gtfs_dataset_name\": \"Bay Area 511 WestCAT VehiclePositions\", \"rounded_rt_data_proportion_percentage\": 100, \"rt_trip_counts_by_operator\": 359.0, \"total_trips\": 152, \"percentage_of_trips\": 42.33983286908078}, {\"_gtfs_dataset_name\": \"Beach Cities VehiclePositions\", \"rounded_rt_data_proportion_percentage\": 70, \"rt_trip_counts_by_operator\": 27.0, \"total_trips\": 1, \"percentage_of_trips\": 3.7037037037037033}, {\"_gtfs_dataset_name\": \"Beach Cities VehiclePositions\", \"rounded_rt_data_proportion_percentage\": 90, \"rt_trip_counts_by_operator\": 27.0, \"total_trips\": 3, \"percentage_of_trips\": 11.11111111111111}, {\"_gtfs_dataset_name\": \"Beach Cities VehiclePositions\", \"rounded_rt_data_proportion_percentage\": 100, \"rt_trip_counts_by_operator\": 27.0, \"total_trips\": 23, \"percentage_of_trips\": 85.18518518518519}, {\"_gtfs_dataset_name\": \"Bear Vehicle Positions\", \"rounded_rt_data_proportion_percentage\": 0, \"rt_trip_counts_by_operator\": 61.0, \"total_trips\": 7, \"percentage_of_trips\": 11.475409836065573}, {\"_gtfs_dataset_name\": \"Bear Vehicle Positions\", \"rounded_rt_data_proportion_percentage\": 10, \"rt_trip_counts_by_operator\": 61.0, \"total_trips\": 3, \"percentage_of_trips\": 4.918032786885246}, {\"_gtfs_dataset_name\": \"Bear Vehicle Positions\", \"rounded_rt_data_proportion_percentage\": 20, \"rt_trip_counts_by_operator\": 61.0, \"total_trips\": 9, \"percentage_of_trips\": 14.754098360655737}, {\"_gtfs_dataset_name\": \"Bear Vehicle Positions\", \"rounded_rt_data_proportion_percentage\": 30, \"rt_trip_counts_by_operator\": 61.0, \"total_trips\": 4, \"percentage_of_trips\": 6.557377049180328}, {\"_gtfs_dataset_name\": \"Bear Vehicle Positions\", \"rounded_rt_data_proportion_percentage\": 50, \"rt_trip_counts_by_operator\": 61.0, \"total_trips\": 2, \"percentage_of_trips\": 3.278688524590164}, {\"_gtfs_dataset_name\": \"Bear Vehicle Positions\", \"rounded_rt_data_proportion_percentage\": 60, \"rt_trip_counts_by_operator\": 61.0, \"total_trips\": 1, \"percentage_of_trips\": 1.639344262295082}, {\"_gtfs_dataset_name\": \"Bear Vehicle Positions\", \"rounded_rt_data_proportion_percentage\": 70, \"rt_trip_counts_by_operator\": 61.0, \"total_trips\": 3, \"percentage_of_trips\": 4.918032786885246}, {\"_gtfs_dataset_name\": \"Bear Vehicle Positions\", \"rounded_rt_data_proportion_percentage\": 80, \"rt_trip_counts_by_operator\": 61.0, \"total_trips\": 5, \"percentage_of_trips\": 8.19672131147541}, {\"_gtfs_dataset_name\": \"Bear Vehicle Positions\", \"rounded_rt_data_proportion_percentage\": 90, \"rt_trip_counts_by_operator\": 61.0, \"total_trips\": 4, \"percentage_of_trips\": 6.557377049180328}, {\"_gtfs_dataset_name\": \"Bear Vehicle Positions\", \"rounded_rt_data_proportion_percentage\": 100, \"rt_trip_counts_by_operator\": 61.0, \"total_trips\": 23, \"percentage_of_trips\": 37.704918032786885}, {\"_gtfs_dataset_name\": \"Beaumont Pass Vehicle Positions\", \"rounded_rt_data_proportion_percentage\": 0, \"rt_trip_counts_by_operator\": 86.0, \"total_trips\": 1, \"percentage_of_trips\": 1.1627906976744187}, {\"_gtfs_dataset_name\": \"Beaumont Pass Vehicle Positions\", \"rounded_rt_data_proportion_percentage\": 10, \"rt_trip_counts_by_operator\": 86.0, \"total_trips\": 1, \"percentage_of_trips\": 1.1627906976744187}, {\"_gtfs_dataset_name\": \"Beaumont Pass Vehicle Positions\", \"rounded_rt_data_proportion_percentage\": 30, \"rt_trip_counts_by_operator\": 86.0, \"total_trips\": 1, \"percentage_of_trips\": 1.1627906976744187}, {\"_gtfs_dataset_name\": \"Beaumont Pass Vehicle Positions\", \"rounded_rt_data_proportion_percentage\": 60, \"rt_trip_counts_by_operator\": 86.0, \"total_trips\": 2, \"percentage_of_trips\": 2.3255813953488373}, {\"_gtfs_dataset_name\": \"Beaumont Pass Vehicle Positions\", \"rounded_rt_data_proportion_percentage\": 70, \"rt_trip_counts_by_operator\": 86.0, \"total_trips\": 1, \"percentage_of_trips\": 1.1627906976744187}, {\"_gtfs_dataset_name\": \"Beaumont Pass Vehicle Positions\", \"rounded_rt_data_proportion_percentage\": 80, \"rt_trip_counts_by_operator\": 86.0, \"total_trips\": 7, \"percentage_of_trips\": 8.13953488372093}, {\"_gtfs_dataset_name\": \"Beaumont Pass Vehicle Positions\", \"rounded_rt_data_proportion_percentage\": 90, \"rt_trip_counts_by_operator\": 86.0, \"total_trips\": 18, \"percentage_of_trips\": 20.930232558139537}, {\"_gtfs_dataset_name\": \"Beaumont Pass Vehicle Positions\", \"rounded_rt_data_proportion_percentage\": 100, \"rt_trip_counts_by_operator\": 86.0, \"total_trips\": 55, \"percentage_of_trips\": 63.95348837209303}, {\"_gtfs_dataset_name\": \"Big Blue Bus VehiclePositions\", \"rounded_rt_data_proportion_percentage\": 0, \"rt_trip_counts_by_operator\": 1132.0, \"total_trips\": 7, \"percentage_of_trips\": 0.6183745583038869}, {\"_gtfs_dataset_name\": \"Big Blue Bus VehiclePositions\", \"rounded_rt_data_proportion_percentage\": 10, \"rt_trip_counts_by_operator\": 1132.0, \"total_trips\": 7, \"percentage_of_trips\": 0.6183745583038869}, {\"_gtfs_dataset_name\": \"Big Blue Bus VehiclePositions\", \"rounded_rt_data_proportion_percentage\": 20, \"rt_trip_counts_by_operator\": 1132.0, \"total_trips\": 8, \"percentage_of_trips\": 0.7067137809187279}, {\"_gtfs_dataset_name\": \"Big Blue Bus VehiclePositions\", \"rounded_rt_data_proportion_percentage\": 30, \"rt_trip_counts_by_operator\": 1132.0, \"total_trips\": 14, \"percentage_of_trips\": 1.2367491166077738}, {\"_gtfs_dataset_name\": \"Big Blue Bus VehiclePositions\", \"rounded_rt_data_proportion_percentage\": 40, \"rt_trip_counts_by_operator\": 1132.0, \"total_trips\": 21, \"percentage_of_trips\": 1.8551236749116609}, {\"_gtfs_dataset_name\": \"Big Blue Bus VehiclePositions\", \"rounded_rt_data_proportion_percentage\": 50, \"rt_trip_counts_by_operator\": 1132.0, \"total_trips\": 51, \"percentage_of_trips\": 4.5053003533568905}, {\"_gtfs_dataset_name\": \"Big Blue Bus VehiclePositions\", \"rounded_rt_data_proportion_percentage\": 60, \"rt_trip_counts_by_operator\": 1132.0, \"total_trips\": 104, \"percentage_of_trips\": 9.187279151943462}, {\"_gtfs_dataset_name\": \"Big Blue Bus VehiclePositions\", \"rounded_rt_data_proportion_percentage\": 70, \"rt_trip_counts_by_operator\": 1132.0, \"total_trips\": 142, \"percentage_of_trips\": 12.54416961130742}, {\"_gtfs_dataset_name\": \"Big Blue Bus VehiclePositions\", \"rounded_rt_data_proportion_percentage\": 80, \"rt_trip_counts_by_operator\": 1132.0, \"total_trips\": 175, \"percentage_of_trips\": 15.459363957597173}, {\"_gtfs_dataset_name\": \"Big Blue Bus VehiclePositions\", \"rounded_rt_data_proportion_percentage\": 90, \"rt_trip_counts_by_operator\": 1132.0, \"total_trips\": 152, \"percentage_of_trips\": 13.427561837455832}, {\"_gtfs_dataset_name\": \"Big Blue Bus VehiclePositions\", \"rounded_rt_data_proportion_percentage\": 100, \"rt_trip_counts_by_operator\": 1132.0, \"total_trips\": 451, \"percentage_of_trips\": 39.840989399293285}, {\"_gtfs_dataset_name\": \"BruinBus Vehicle Positions\", \"rounded_rt_data_proportion_percentage\": 90, \"rt_trip_counts_by_operator\": 81.0, \"total_trips\": 1, \"percentage_of_trips\": 1.2345679012345678}, {\"_gtfs_dataset_name\": \"BruinBus Vehicle Positions\", \"rounded_rt_data_proportion_percentage\": 100, \"rt_trip_counts_by_operator\": 81.0, \"total_trips\": 80, \"percentage_of_trips\": 98.76543209876543}, {\"_gtfs_dataset_name\": \"Burbank VehiclePositions\", \"rounded_rt_data_proportion_percentage\": 0, \"rt_trip_counts_by_operator\": 66.0, \"total_trips\": 7, \"percentage_of_trips\": 10.606060606060606}, {\"_gtfs_dataset_name\": \"Burbank VehiclePositions\", \"rounded_rt_data_proportion_percentage\": 10, \"rt_trip_counts_by_operator\": 66.0, \"total_trips\": 2, \"percentage_of_trips\": 3.0303030303030303}, {\"_gtfs_dataset_name\": \"Burbank VehiclePositions\", \"rounded_rt_data_proportion_percentage\": 30, \"rt_trip_counts_by_operator\": 66.0, \"total_trips\": 1, \"percentage_of_trips\": 1.5151515151515151}, {\"_gtfs_dataset_name\": \"Burbank VehiclePositions\", \"rounded_rt_data_proportion_percentage\": 50, \"rt_trip_counts_by_operator\": 66.0, \"total_trips\": 1, \"percentage_of_trips\": 1.5151515151515151}, {\"_gtfs_dataset_name\": \"Burbank VehiclePositions\", \"rounded_rt_data_proportion_percentage\": 60, \"rt_trip_counts_by_operator\": 66.0, \"total_trips\": 1, \"percentage_of_trips\": 1.5151515151515151}, {\"_gtfs_dataset_name\": \"Burbank VehiclePositions\", \"rounded_rt_data_proportion_percentage\": 70, \"rt_trip_counts_by_operator\": 66.0, \"total_trips\": 2, \"percentage_of_trips\": 3.0303030303030303}, {\"_gtfs_dataset_name\": \"Burbank VehiclePositions\", \"rounded_rt_data_proportion_percentage\": 80, \"rt_trip_counts_by_operator\": 66.0, \"total_trips\": 1, \"percentage_of_trips\": 1.5151515151515151}, {\"_gtfs_dataset_name\": \"Burbank VehiclePositions\", \"rounded_rt_data_proportion_percentage\": 90, \"rt_trip_counts_by_operator\": 66.0, \"total_trips\": 3, \"percentage_of_trips\": 4.545454545454546}, {\"_gtfs_dataset_name\": \"Burbank VehiclePositions\", \"rounded_rt_data_proportion_percentage\": 100, \"rt_trip_counts_by_operator\": 66.0, \"total_trips\": 48, \"percentage_of_trips\": 72.72727272727273}, {\"_gtfs_dataset_name\": \"Commerce VehiclePositions\", \"rounded_rt_data_proportion_percentage\": 40, \"rt_trip_counts_by_operator\": 89.0, \"total_trips\": 2, \"percentage_of_trips\": 2.247191011235955}, {\"_gtfs_dataset_name\": \"Commerce VehiclePositions\", \"rounded_rt_data_proportion_percentage\": 70, \"rt_trip_counts_by_operator\": 89.0, \"total_trips\": 1, \"percentage_of_trips\": 1.1235955056179776}, {\"_gtfs_dataset_name\": \"Commerce VehiclePositions\", \"rounded_rt_data_proportion_percentage\": 80, \"rt_trip_counts_by_operator\": 89.0, \"total_trips\": 3, \"percentage_of_trips\": 3.3707865168539324}, {\"_gtfs_dataset_name\": \"Commerce VehiclePositions\", \"rounded_rt_data_proportion_percentage\": 90, \"rt_trip_counts_by_operator\": 89.0, \"total_trips\": 13, \"percentage_of_trips\": 14.606741573033707}, {\"_gtfs_dataset_name\": \"Commerce VehiclePositions\", \"rounded_rt_data_proportion_percentage\": 100, \"rt_trip_counts_by_operator\": 89.0, \"total_trips\": 70, \"percentage_of_trips\": 78.65168539325843}, {\"_gtfs_dataset_name\": \"Eastern Sierra Vehicle Positions\", \"rounded_rt_data_proportion_percentage\": 0, \"rt_trip_counts_by_operator\": 217.0, \"total_trips\": 3, \"percentage_of_trips\": 1.3824884792626728}, {\"_gtfs_dataset_name\": \"Eastern Sierra Vehicle Positions\", \"rounded_rt_data_proportion_percentage\": 10, \"rt_trip_counts_by_operator\": 217.0, \"total_trips\": 2, \"percentage_of_trips\": 0.9216589861751152}, {\"_gtfs_dataset_name\": \"Eastern Sierra Vehicle Positions\", \"rounded_rt_data_proportion_percentage\": 20, \"rt_trip_counts_by_operator\": 217.0, \"total_trips\": 5, \"percentage_of_trips\": 2.3041474654377883}, {\"_gtfs_dataset_name\": \"Eastern Sierra Vehicle Positions\", \"rounded_rt_data_proportion_percentage\": 50, \"rt_trip_counts_by_operator\": 217.0, \"total_trips\": 8, \"percentage_of_trips\": 3.686635944700461}, {\"_gtfs_dataset_name\": \"Eastern Sierra Vehicle Positions\", \"rounded_rt_data_proportion_percentage\": 60, \"rt_trip_counts_by_operator\": 217.0, \"total_trips\": 24, \"percentage_of_trips\": 11.059907834101383}, {\"_gtfs_dataset_name\": \"Eastern Sierra Vehicle Positions\", \"rounded_rt_data_proportion_percentage\": 70, \"rt_trip_counts_by_operator\": 217.0, \"total_trips\": 32, \"percentage_of_trips\": 14.746543778801843}, {\"_gtfs_dataset_name\": \"Eastern Sierra Vehicle Positions\", \"rounded_rt_data_proportion_percentage\": 80, \"rt_trip_counts_by_operator\": 217.0, \"total_trips\": 10, \"percentage_of_trips\": 4.6082949308755765}, {\"_gtfs_dataset_name\": \"Eastern Sierra Vehicle Positions\", \"rounded_rt_data_proportion_percentage\": 90, \"rt_trip_counts_by_operator\": 217.0, \"total_trips\": 4, \"percentage_of_trips\": 1.8433179723502304}, {\"_gtfs_dataset_name\": \"Eastern Sierra Vehicle Positions\", \"rounded_rt_data_proportion_percentage\": 100, \"rt_trip_counts_by_operator\": 217.0, \"total_trips\": 129, \"percentage_of_trips\": 59.44700460829493}, {\"_gtfs_dataset_name\": \"Elk Grove VehiclePositions\", \"rounded_rt_data_proportion_percentage\": 0, \"rt_trip_counts_by_operator\": 212.0, \"total_trips\": 1, \"percentage_of_trips\": 0.4716981132075472}, {\"_gtfs_dataset_name\": \"Elk Grove VehiclePositions\", \"rounded_rt_data_proportion_percentage\": 10, \"rt_trip_counts_by_operator\": 212.0, \"total_trips\": 2, \"percentage_of_trips\": 0.9433962264150944}, {\"_gtfs_dataset_name\": \"Elk Grove VehiclePositions\", \"rounded_rt_data_proportion_percentage\": 20, \"rt_trip_counts_by_operator\": 212.0, \"total_trips\": 1, \"percentage_of_trips\": 0.4716981132075472}, {\"_gtfs_dataset_name\": \"Elk Grove VehiclePositions\", \"rounded_rt_data_proportion_percentage\": 30, \"rt_trip_counts_by_operator\": 212.0, \"total_trips\": 2, \"percentage_of_trips\": 0.9433962264150944}, {\"_gtfs_dataset_name\": \"Elk Grove VehiclePositions\", \"rounded_rt_data_proportion_percentage\": 50, \"rt_trip_counts_by_operator\": 212.0, \"total_trips\": 1, \"percentage_of_trips\": 0.4716981132075472}, {\"_gtfs_dataset_name\": \"Elk Grove VehiclePositions\", \"rounded_rt_data_proportion_percentage\": 60, \"rt_trip_counts_by_operator\": 212.0, \"total_trips\": 3, \"percentage_of_trips\": 1.4150943396226416}, {\"_gtfs_dataset_name\": \"Elk Grove VehiclePositions\", \"rounded_rt_data_proportion_percentage\": 70, \"rt_trip_counts_by_operator\": 212.0, \"total_trips\": 6, \"percentage_of_trips\": 2.8301886792452833}, {\"_gtfs_dataset_name\": \"Elk Grove VehiclePositions\", \"rounded_rt_data_proportion_percentage\": 80, \"rt_trip_counts_by_operator\": 212.0, \"total_trips\": 9, \"percentage_of_trips\": 4.245283018867925}, {\"_gtfs_dataset_name\": \"Elk Grove VehiclePositions\", \"rounded_rt_data_proportion_percentage\": 90, \"rt_trip_counts_by_operator\": 212.0, \"total_trips\": 22, \"percentage_of_trips\": 10.377358490566039}, {\"_gtfs_dataset_name\": \"Elk Grove VehiclePositions\", \"rounded_rt_data_proportion_percentage\": 100, \"rt_trip_counts_by_operator\": 212.0, \"total_trips\": 165, \"percentage_of_trips\": 77.83018867924528}, {\"_gtfs_dataset_name\": \"Foothill Vehicle Positions\", \"rounded_rt_data_proportion_percentage\": 0, \"rt_trip_counts_by_operator\": 1482.0, \"total_trips\": 9, \"percentage_of_trips\": 0.6072874493927125}, {\"_gtfs_dataset_name\": \"Foothill Vehicle Positions\", \"rounded_rt_data_proportion_percentage\": 10, \"rt_trip_counts_by_operator\": 1482.0, \"total_trips\": 7, \"percentage_of_trips\": 0.47233468286099867}, {\"_gtfs_dataset_name\": \"Foothill Vehicle Positions\", \"rounded_rt_data_proportion_percentage\": 20, \"rt_trip_counts_by_operator\": 1482.0, \"total_trips\": 6, \"percentage_of_trips\": 0.4048582995951417}, {\"_gtfs_dataset_name\": \"Foothill Vehicle Positions\", \"rounded_rt_data_proportion_percentage\": 30, \"rt_trip_counts_by_operator\": 1482.0, \"total_trips\": 6, \"percentage_of_trips\": 0.4048582995951417}, {\"_gtfs_dataset_name\": \"Foothill Vehicle Positions\", \"rounded_rt_data_proportion_percentage\": 40, \"rt_trip_counts_by_operator\": 1482.0, \"total_trips\": 6, \"percentage_of_trips\": 0.4048582995951417}, {\"_gtfs_dataset_name\": \"Foothill Vehicle Positions\", \"rounded_rt_data_proportion_percentage\": 50, \"rt_trip_counts_by_operator\": 1482.0, \"total_trips\": 19, \"percentage_of_trips\": 1.282051282051282}, {\"_gtfs_dataset_name\": \"Foothill Vehicle Positions\", \"rounded_rt_data_proportion_percentage\": 60, \"rt_trip_counts_by_operator\": 1482.0, \"total_trips\": 29, \"percentage_of_trips\": 1.9568151147098516}, {\"_gtfs_dataset_name\": \"Foothill Vehicle Positions\", \"rounded_rt_data_proportion_percentage\": 70, \"rt_trip_counts_by_operator\": 1482.0, \"total_trips\": 88, \"percentage_of_trips\": 5.937921727395412}, {\"_gtfs_dataset_name\": \"Foothill Vehicle Positions\", \"rounded_rt_data_proportion_percentage\": 80, \"rt_trip_counts_by_operator\": 1482.0, \"total_trips\": 272, \"percentage_of_trips\": 18.353576248313093}, {\"_gtfs_dataset_name\": \"Foothill Vehicle Positions\", \"rounded_rt_data_proportion_percentage\": 90, \"rt_trip_counts_by_operator\": 1482.0, \"total_trips\": 402, \"percentage_of_trips\": 27.125506072874494}, {\"_gtfs_dataset_name\": \"Foothill Vehicle Positions\", \"rounded_rt_data_proportion_percentage\": 100, \"rt_trip_counts_by_operator\": 1482.0, \"total_trips\": 638, \"percentage_of_trips\": 43.04993252361673}, {\"_gtfs_dataset_name\": \"Fresno Vehicle Positions\", \"rounded_rt_data_proportion_percentage\": 0, \"rt_trip_counts_by_operator\": 1034.0, \"total_trips\": 1, \"percentage_of_trips\": 0.09671179883945842}, {\"_gtfs_dataset_name\": \"Fresno Vehicle Positions\", \"rounded_rt_data_proportion_percentage\": 20, \"rt_trip_counts_by_operator\": 1034.0, \"total_trips\": 3, \"percentage_of_trips\": 0.2901353965183753}, {\"_gtfs_dataset_name\": \"Fresno Vehicle Positions\", \"rounded_rt_data_proportion_percentage\": 40, \"rt_trip_counts_by_operator\": 1034.0, \"total_trips\": 2, \"percentage_of_trips\": 0.19342359767891684}, {\"_gtfs_dataset_name\": \"Fresno Vehicle Positions\", \"rounded_rt_data_proportion_percentage\": 50, \"rt_trip_counts_by_operator\": 1034.0, \"total_trips\": 2, \"percentage_of_trips\": 0.19342359767891684}, {\"_gtfs_dataset_name\": \"Fresno Vehicle Positions\", \"rounded_rt_data_proportion_percentage\": 60, \"rt_trip_counts_by_operator\": 1034.0, \"total_trips\": 7, \"percentage_of_trips\": 0.6769825918762089}, {\"_gtfs_dataset_name\": \"Fresno Vehicle Positions\", \"rounded_rt_data_proportion_percentage\": 70, \"rt_trip_counts_by_operator\": 1034.0, \"total_trips\": 8, \"percentage_of_trips\": 0.7736943907156674}, {\"_gtfs_dataset_name\": \"Fresno Vehicle Positions\", \"rounded_rt_data_proportion_percentage\": 80, \"rt_trip_counts_by_operator\": 1034.0, \"total_trips\": 30, \"percentage_of_trips\": 2.9013539651837523}, {\"_gtfs_dataset_name\": \"Fresno Vehicle Positions\", \"rounded_rt_data_proportion_percentage\": 90, \"rt_trip_counts_by_operator\": 1034.0, \"total_trips\": 182, \"percentage_of_trips\": 17.60154738878143}, {\"_gtfs_dataset_name\": \"Fresno Vehicle Positions\", \"rounded_rt_data_proportion_percentage\": 100, \"rt_trip_counts_by_operator\": 1034.0, \"total_trips\": 799, \"percentage_of_trips\": 77.27272727272727}, {\"_gtfs_dataset_name\": \"GET VehiclePositions\", \"rounded_rt_data_proportion_percentage\": 0, \"rt_trip_counts_by_operator\": 549.0, \"total_trips\": 1, \"percentage_of_trips\": 0.18214936247723132}, {\"_gtfs_dataset_name\": \"GET VehiclePositions\", \"rounded_rt_data_proportion_percentage\": 20, \"rt_trip_counts_by_operator\": 549.0, \"total_trips\": 1, \"percentage_of_trips\": 0.18214936247723132}, {\"_gtfs_dataset_name\": \"GET VehiclePositions\", \"rounded_rt_data_proportion_percentage\": 30, \"rt_trip_counts_by_operator\": 549.0, \"total_trips\": 1, \"percentage_of_trips\": 0.18214936247723132}, {\"_gtfs_dataset_name\": \"GET VehiclePositions\", \"rounded_rt_data_proportion_percentage\": 40, \"rt_trip_counts_by_operator\": 549.0, \"total_trips\": 3, \"percentage_of_trips\": 0.546448087431694}, {\"_gtfs_dataset_name\": \"GET VehiclePositions\", \"rounded_rt_data_proportion_percentage\": 50, \"rt_trip_counts_by_operator\": 549.0, \"total_trips\": 6, \"percentage_of_trips\": 1.092896174863388}, {\"_gtfs_dataset_name\": \"GET VehiclePositions\", \"rounded_rt_data_proportion_percentage\": 60, \"rt_trip_counts_by_operator\": 549.0, \"total_trips\": 30, \"percentage_of_trips\": 5.46448087431694}, {\"_gtfs_dataset_name\": \"GET VehiclePositions\", \"rounded_rt_data_proportion_percentage\": 70, \"rt_trip_counts_by_operator\": 549.0, \"total_trips\": 137, \"percentage_of_trips\": 24.95446265938069}, {\"_gtfs_dataset_name\": \"GET VehiclePositions\", \"rounded_rt_data_proportion_percentage\": 80, \"rt_trip_counts_by_operator\": 549.0, \"total_trips\": 233, \"percentage_of_trips\": 42.4408014571949}, {\"_gtfs_dataset_name\": \"GET VehiclePositions\", \"rounded_rt_data_proportion_percentage\": 90, \"rt_trip_counts_by_operator\": 549.0, \"total_trips\": 110, \"percentage_of_trips\": 20.036429872495447}, {\"_gtfs_dataset_name\": \"GET VehiclePositions\", \"rounded_rt_data_proportion_percentage\": 100, \"rt_trip_counts_by_operator\": 549.0, \"total_trips\": 27, \"percentage_of_trips\": 4.918032786885246}, {\"_gtfs_dataset_name\": \"Humboldt Vehicle Positions\", \"rounded_rt_data_proportion_percentage\": 0, \"rt_trip_counts_by_operator\": 102.0, \"total_trips\": 2, \"percentage_of_trips\": 1.9607843137254901}, {\"_gtfs_dataset_name\": \"Humboldt Vehicle Positions\", \"rounded_rt_data_proportion_percentage\": 70, \"rt_trip_counts_by_operator\": 102.0, \"total_trips\": 2, \"percentage_of_trips\": 1.9607843137254901}, {\"_gtfs_dataset_name\": \"Humboldt Vehicle Positions\", \"rounded_rt_data_proportion_percentage\": 80, \"rt_trip_counts_by_operator\": 102.0, \"total_trips\": 9, \"percentage_of_trips\": 8.823529411764707}, {\"_gtfs_dataset_name\": \"Humboldt Vehicle Positions\", \"rounded_rt_data_proportion_percentage\": 90, \"rt_trip_counts_by_operator\": 102.0, \"total_trips\": 22, \"percentage_of_trips\": 21.568627450980394}, {\"_gtfs_dataset_name\": \"Humboldt Vehicle Positions\", \"rounded_rt_data_proportion_percentage\": 100, \"rt_trip_counts_by_operator\": 102.0, \"total_trips\": 67, \"percentage_of_trips\": 65.68627450980392}, {\"_gtfs_dataset_name\": \"Kings Vehicle Positions\", \"rounded_rt_data_proportion_percentage\": 30, \"rt_trip_counts_by_operator\": 246.0, \"total_trips\": 1, \"percentage_of_trips\": 0.40650406504065045}, {\"_gtfs_dataset_name\": \"Kings Vehicle Positions\", \"rounded_rt_data_proportion_percentage\": 40, \"rt_trip_counts_by_operator\": 246.0, \"total_trips\": 1, \"percentage_of_trips\": 0.40650406504065045}, {\"_gtfs_dataset_name\": \"Kings Vehicle Positions\", \"rounded_rt_data_proportion_percentage\": 60, \"rt_trip_counts_by_operator\": 246.0, \"total_trips\": 5, \"percentage_of_trips\": 2.0325203252032518}, {\"_gtfs_dataset_name\": \"Kings Vehicle Positions\", \"rounded_rt_data_proportion_percentage\": 70, \"rt_trip_counts_by_operator\": 246.0, \"total_trips\": 37, \"percentage_of_trips\": 15.040650406504067}, {\"_gtfs_dataset_name\": \"Kings Vehicle Positions\", \"rounded_rt_data_proportion_percentage\": 80, \"rt_trip_counts_by_operator\": 246.0, \"total_trips\": 92, \"percentage_of_trips\": 37.39837398373984}, {\"_gtfs_dataset_name\": \"Kings Vehicle Positions\", \"rounded_rt_data_proportion_percentage\": 90, \"rt_trip_counts_by_operator\": 246.0, \"total_trips\": 63, \"percentage_of_trips\": 25.609756097560975}, {\"_gtfs_dataset_name\": \"Kings Vehicle Positions\", \"rounded_rt_data_proportion_percentage\": 100, \"rt_trip_counts_by_operator\": 246.0, \"total_trips\": 47, \"percentage_of_trips\": 19.10569105691057}, {\"_gtfs_dataset_name\": \"LA DOT VehiclePositions\", \"rounded_rt_data_proportion_percentage\": 0, \"rt_trip_counts_by_operator\": 2557.0, \"total_trips\": 35, \"percentage_of_trips\": 1.368791552600704}, {\"_gtfs_dataset_name\": \"LA DOT VehiclePositions\", \"rounded_rt_data_proportion_percentage\": 10, \"rt_trip_counts_by_operator\": 2557.0, \"total_trips\": 28, \"percentage_of_trips\": 1.095033242080563}, {\"_gtfs_dataset_name\": \"LA DOT VehiclePositions\", \"rounded_rt_data_proportion_percentage\": 20, \"rt_trip_counts_by_operator\": 2557.0, \"total_trips\": 34, \"percentage_of_trips\": 1.3296832225263981}, {\"_gtfs_dataset_name\": \"LA DOT VehiclePositions\", \"rounded_rt_data_proportion_percentage\": 30, \"rt_trip_counts_by_operator\": 2557.0, \"total_trips\": 26, \"percentage_of_trips\": 1.0168165819319515}, {\"_gtfs_dataset_name\": \"LA DOT VehiclePositions\", \"rounded_rt_data_proportion_percentage\": 40, \"rt_trip_counts_by_operator\": 2557.0, \"total_trips\": 23, \"percentage_of_trips\": 0.899491591709034}, {\"_gtfs_dataset_name\": \"LA DOT VehiclePositions\", \"rounded_rt_data_proportion_percentage\": 50, \"rt_trip_counts_by_operator\": 2557.0, \"total_trips\": 36, \"percentage_of_trips\": 1.4078998826750098}, {\"_gtfs_dataset_name\": \"LA DOT VehiclePositions\", \"rounded_rt_data_proportion_percentage\": 60, \"rt_trip_counts_by_operator\": 2557.0, \"total_trips\": 39, \"percentage_of_trips\": 1.5252248728979272}, {\"_gtfs_dataset_name\": \"LA DOT VehiclePositions\", \"rounded_rt_data_proportion_percentage\": 70, \"rt_trip_counts_by_operator\": 2557.0, \"total_trips\": 76, \"percentage_of_trips\": 2.9722330856472428}, {\"_gtfs_dataset_name\": \"LA DOT VehiclePositions\", \"rounded_rt_data_proportion_percentage\": 80, \"rt_trip_counts_by_operator\": 2557.0, \"total_trips\": 171, \"percentage_of_trips\": 6.687524442706297}, {\"_gtfs_dataset_name\": \"LA DOT VehiclePositions\", \"rounded_rt_data_proportion_percentage\": 90, \"rt_trip_counts_by_operator\": 2557.0, \"total_trips\": 270, \"percentage_of_trips\": 10.559249120062573}, {\"_gtfs_dataset_name\": \"LA DOT VehiclePositions\", \"rounded_rt_data_proportion_percentage\": 100, \"rt_trip_counts_by_operator\": 2557.0, \"total_trips\": 1819, \"percentage_of_trips\": 71.1380524051623}, {\"_gtfs_dataset_name\": \"LA Metro Bus Vehicle Positions\", \"rounded_rt_data_proportion_percentage\": 0, \"rt_trip_counts_by_operator\": 10485.0, \"total_trips\": 56, \"percentage_of_trips\": 0.5340963280877444}, {\"_gtfs_dataset_name\": \"LA Metro Bus Vehicle Positions\", \"rounded_rt_data_proportion_percentage\": 10, \"rt_trip_counts_by_operator\": 10485.0, \"total_trips\": 54, \"percentage_of_trips\": 0.5150214592274678}, {\"_gtfs_dataset_name\": \"LA Metro Bus Vehicle Positions\", \"rounded_rt_data_proportion_percentage\": 20, \"rt_trip_counts_by_operator\": 10485.0, \"total_trips\": 140, \"percentage_of_trips\": 1.335240820219361}, {\"_gtfs_dataset_name\": \"LA Metro Bus Vehicle Positions\", \"rounded_rt_data_proportion_percentage\": 30, \"rt_trip_counts_by_operator\": 10485.0, \"total_trips\": 484, \"percentage_of_trips\": 4.616118264186934}, {\"_gtfs_dataset_name\": \"LA Metro Bus Vehicle Positions\", \"rounded_rt_data_proportion_percentage\": 40, \"rt_trip_counts_by_operator\": 10485.0, \"total_trips\": 374, \"percentage_of_trips\": 3.5670004768717214}, {\"_gtfs_dataset_name\": \"LA Metro Bus Vehicle Positions\", \"rounded_rt_data_proportion_percentage\": 50, \"rt_trip_counts_by_operator\": 10485.0, \"total_trips\": 107, \"percentage_of_trips\": 1.0205054840247973}, {\"_gtfs_dataset_name\": \"LA Metro Bus Vehicle Positions\", \"rounded_rt_data_proportion_percentage\": 60, \"rt_trip_counts_by_operator\": 10485.0, \"total_trips\": 80, \"percentage_of_trips\": 0.7629947544110633}, {\"_gtfs_dataset_name\": \"LA Metro Bus Vehicle Positions\", \"rounded_rt_data_proportion_percentage\": 70, \"rt_trip_counts_by_operator\": 10485.0, \"total_trips\": 117, \"percentage_of_trips\": 1.1158798283261802}, {\"_gtfs_dataset_name\": \"LA Metro Bus Vehicle Positions\", \"rounded_rt_data_proportion_percentage\": 80, \"rt_trip_counts_by_operator\": 10485.0, \"total_trips\": 366, \"percentage_of_trips\": 3.490701001430615}, {\"_gtfs_dataset_name\": \"LA Metro Bus Vehicle Positions\", \"rounded_rt_data_proportion_percentage\": 90, \"rt_trip_counts_by_operator\": 10485.0, \"total_trips\": 1033, \"percentage_of_trips\": 9.852169766332857}, {\"_gtfs_dataset_name\": \"LA Metro Bus Vehicle Positions\", \"rounded_rt_data_proportion_percentage\": 100, \"rt_trip_counts_by_operator\": 10485.0, \"total_trips\": 7674, \"percentage_of_trips\": 73.19027181688126}, {\"_gtfs_dataset_name\": \"LA Metro Rail Vehicle Positions\", \"rounded_rt_data_proportion_percentage\": 0, \"rt_trip_counts_by_operator\": 1006.0, \"total_trips\": 10, \"percentage_of_trips\": 0.9940357852882704}, {\"_gtfs_dataset_name\": \"LA Metro Rail Vehicle Positions\", \"rounded_rt_data_proportion_percentage\": 10, \"rt_trip_counts_by_operator\": 1006.0, \"total_trips\": 7, \"percentage_of_trips\": 0.6958250497017893}, {\"_gtfs_dataset_name\": \"LA Metro Rail Vehicle Positions\", \"rounded_rt_data_proportion_percentage\": 20, \"rt_trip_counts_by_operator\": 1006.0, \"total_trips\": 7, \"percentage_of_trips\": 0.6958250497017893}, {\"_gtfs_dataset_name\": \"LA Metro Rail Vehicle Positions\", \"rounded_rt_data_proportion_percentage\": 30, \"rt_trip_counts_by_operator\": 1006.0, \"total_trips\": 9, \"percentage_of_trips\": 0.8946322067594433}, {\"_gtfs_dataset_name\": \"LA Metro Rail Vehicle Positions\", \"rounded_rt_data_proportion_percentage\": 40, \"rt_trip_counts_by_operator\": 1006.0, \"total_trips\": 5, \"percentage_of_trips\": 0.4970178926441352}, {\"_gtfs_dataset_name\": \"LA Metro Rail Vehicle Positions\", \"rounded_rt_data_proportion_percentage\": 50, \"rt_trip_counts_by_operator\": 1006.0, \"total_trips\": 3, \"percentage_of_trips\": 0.2982107355864811}, {\"_gtfs_dataset_name\": \"LA Metro Rail Vehicle Positions\", \"rounded_rt_data_proportion_percentage\": 60, \"rt_trip_counts_by_operator\": 1006.0, \"total_trips\": 14, \"percentage_of_trips\": 1.3916500994035785}, {\"_gtfs_dataset_name\": \"LA Metro Rail Vehicle Positions\", \"rounded_rt_data_proportion_percentage\": 70, \"rt_trip_counts_by_operator\": 1006.0, \"total_trips\": 17, \"percentage_of_trips\": 1.6898608349900597}, {\"_gtfs_dataset_name\": \"LA Metro Rail Vehicle Positions\", \"rounded_rt_data_proportion_percentage\": 80, \"rt_trip_counts_by_operator\": 1006.0, \"total_trips\": 28, \"percentage_of_trips\": 2.783300198807157}, {\"_gtfs_dataset_name\": \"LA Metro Rail Vehicle Positions\", \"rounded_rt_data_proportion_percentage\": 90, \"rt_trip_counts_by_operator\": 1006.0, \"total_trips\": 83, \"percentage_of_trips\": 8.250497017892645}, {\"_gtfs_dataset_name\": \"LA Metro Rail Vehicle Positions\", \"rounded_rt_data_proportion_percentage\": 100, \"rt_trip_counts_by_operator\": 1006.0, \"total_trips\": 823, \"percentage_of_trips\": 81.80914512922465}, {\"_gtfs_dataset_name\": \"Lake Vehicle Positions\", \"rounded_rt_data_proportion_percentage\": 0, \"rt_trip_counts_by_operator\": 54.0, \"total_trips\": 4, \"percentage_of_trips\": 7.4074074074074066}, {\"_gtfs_dataset_name\": \"Lake Vehicle Positions\", \"rounded_rt_data_proportion_percentage\": 10, \"rt_trip_counts_by_operator\": 54.0, \"total_trips\": 2, \"percentage_of_trips\": 3.7037037037037033}, {\"_gtfs_dataset_name\": \"Lake Vehicle Positions\", \"rounded_rt_data_proportion_percentage\": 20, \"rt_trip_counts_by_operator\": 54.0, \"total_trips\": 2, \"percentage_of_trips\": 3.7037037037037033}, {\"_gtfs_dataset_name\": \"Lake Vehicle Positions\", \"rounded_rt_data_proportion_percentage\": 60, \"rt_trip_counts_by_operator\": 54.0, \"total_trips\": 1, \"percentage_of_trips\": 1.8518518518518516}, {\"_gtfs_dataset_name\": \"Lake Vehicle Positions\", \"rounded_rt_data_proportion_percentage\": 70, \"rt_trip_counts_by_operator\": 54.0, \"total_trips\": 4, \"percentage_of_trips\": 7.4074074074074066}, {\"_gtfs_dataset_name\": \"Lake Vehicle Positions\", \"rounded_rt_data_proportion_percentage\": 80, \"rt_trip_counts_by_operator\": 54.0, \"total_trips\": 15, \"percentage_of_trips\": 27.77777777777778}, {\"_gtfs_dataset_name\": \"Lake Vehicle Positions\", \"rounded_rt_data_proportion_percentage\": 90, \"rt_trip_counts_by_operator\": 54.0, \"total_trips\": 14, \"percentage_of_trips\": 25.925925925925924}, {\"_gtfs_dataset_name\": \"Lake Vehicle Positions\", \"rounded_rt_data_proportion_percentage\": 100, \"rt_trip_counts_by_operator\": 54.0, \"total_trips\": 12, \"percentage_of_trips\": 22.22222222222222}, {\"_gtfs_dataset_name\": \"Long Beach VehiclePositions\", \"rounded_rt_data_proportion_percentage\": 0, \"rt_trip_counts_by_operator\": 1549.0, \"total_trips\": 3, \"percentage_of_trips\": 0.19367333763718528}, {\"_gtfs_dataset_name\": \"Long Beach VehiclePositions\", \"rounded_rt_data_proportion_percentage\": 20, \"rt_trip_counts_by_operator\": 1549.0, \"total_trips\": 1, \"percentage_of_trips\": 0.06455777921239508}, {\"_gtfs_dataset_name\": \"Long Beach VehiclePositions\", \"rounded_rt_data_proportion_percentage\": 30, \"rt_trip_counts_by_operator\": 1549.0, \"total_trips\": 3, \"percentage_of_trips\": 0.19367333763718528}, {\"_gtfs_dataset_name\": \"Long Beach VehiclePositions\", \"rounded_rt_data_proportion_percentage\": 40, \"rt_trip_counts_by_operator\": 1549.0, \"total_trips\": 1, \"percentage_of_trips\": 0.06455777921239508}, {\"_gtfs_dataset_name\": \"Long Beach VehiclePositions\", \"rounded_rt_data_proportion_percentage\": 60, \"rt_trip_counts_by_operator\": 1549.0, \"total_trips\": 3, \"percentage_of_trips\": 0.19367333763718528}, {\"_gtfs_dataset_name\": \"Long Beach VehiclePositions\", \"rounded_rt_data_proportion_percentage\": 70, \"rt_trip_counts_by_operator\": 1549.0, \"total_trips\": 11, \"percentage_of_trips\": 0.7101355713363461}, {\"_gtfs_dataset_name\": \"Long Beach VehiclePositions\", \"rounded_rt_data_proportion_percentage\": 80, \"rt_trip_counts_by_operator\": 1549.0, \"total_trips\": 21, \"percentage_of_trips\": 1.355713363460297}, {\"_gtfs_dataset_name\": \"Long Beach VehiclePositions\", \"rounded_rt_data_proportion_percentage\": 90, \"rt_trip_counts_by_operator\": 1549.0, \"total_trips\": 50, \"percentage_of_trips\": 3.227888960619755}, {\"_gtfs_dataset_name\": \"Long Beach VehiclePositions\", \"rounded_rt_data_proportion_percentage\": 100, \"rt_trip_counts_by_operator\": 1549.0, \"total_trips\": 1456, \"percentage_of_trips\": 93.99612653324726}, {\"_gtfs_dataset_name\": \"Madera County Connection Vehicle Positions\", \"rounded_rt_data_proportion_percentage\": 40, \"rt_trip_counts_by_operator\": 23.0, \"total_trips\": 1, \"percentage_of_trips\": 4.3478260869565215}, {\"_gtfs_dataset_name\": \"Madera County Connection Vehicle Positions\", \"rounded_rt_data_proportion_percentage\": 70, \"rt_trip_counts_by_operator\": 23.0, \"total_trips\": 2, \"percentage_of_trips\": 8.695652173913043}, {\"_gtfs_dataset_name\": \"Madera County Connection Vehicle Positions\", \"rounded_rt_data_proportion_percentage\": 80, \"rt_trip_counts_by_operator\": 23.0, \"total_trips\": 13, \"percentage_of_trips\": 56.52173913043478}, {\"_gtfs_dataset_name\": \"Madera County Connection Vehicle Positions\", \"rounded_rt_data_proportion_percentage\": 90, \"rt_trip_counts_by_operator\": 23.0, \"total_trips\": 7, \"percentage_of_trips\": 30.434782608695656}, {\"_gtfs_dataset_name\": \"Montebello Vehicle Positions\", \"rounded_rt_data_proportion_percentage\": 70, \"rt_trip_counts_by_operator\": 21.0, \"total_trips\": 1, \"percentage_of_trips\": 4.761904761904762}, {\"_gtfs_dataset_name\": \"Montebello Vehicle Positions\", \"rounded_rt_data_proportion_percentage\": 80, \"rt_trip_counts_by_operator\": 21.0, \"total_trips\": 2, \"percentage_of_trips\": 9.523809523809524}, {\"_gtfs_dataset_name\": \"Montebello Vehicle Positions\", \"rounded_rt_data_proportion_percentage\": 90, \"rt_trip_counts_by_operator\": 21.0, \"total_trips\": 4, \"percentage_of_trips\": 19.047619047619047}, {\"_gtfs_dataset_name\": \"Montebello Vehicle Positions\", \"rounded_rt_data_proportion_percentage\": 100, \"rt_trip_counts_by_operator\": 21.0, \"total_trips\": 14, \"percentage_of_trips\": 66.66666666666666}, {\"_gtfs_dataset_name\": \"Monterey Salinas VehiclePositions\", \"rounded_rt_data_proportion_percentage\": 10, \"rt_trip_counts_by_operator\": 870.0, \"total_trips\": 1, \"percentage_of_trips\": 0.11494252873563218}, {\"_gtfs_dataset_name\": \"Monterey Salinas VehiclePositions\", \"rounded_rt_data_proportion_percentage\": 20, \"rt_trip_counts_by_operator\": 870.0, \"total_trips\": 4, \"percentage_of_trips\": 0.45977011494252873}, {\"_gtfs_dataset_name\": \"Monterey Salinas VehiclePositions\", \"rounded_rt_data_proportion_percentage\": 30, \"rt_trip_counts_by_operator\": 870.0, \"total_trips\": 4, \"percentage_of_trips\": 0.45977011494252873}, {\"_gtfs_dataset_name\": \"Monterey Salinas VehiclePositions\", \"rounded_rt_data_proportion_percentage\": 40, \"rt_trip_counts_by_operator\": 870.0, \"total_trips\": 6, \"percentage_of_trips\": 0.6896551724137931}, {\"_gtfs_dataset_name\": \"Monterey Salinas VehiclePositions\", \"rounded_rt_data_proportion_percentage\": 50, \"rt_trip_counts_by_operator\": 870.0, \"total_trips\": 4, \"percentage_of_trips\": 0.45977011494252873}, {\"_gtfs_dataset_name\": \"Monterey Salinas VehiclePositions\", \"rounded_rt_data_proportion_percentage\": 60, \"rt_trip_counts_by_operator\": 870.0, \"total_trips\": 2, \"percentage_of_trips\": 0.22988505747126436}, {\"_gtfs_dataset_name\": \"Monterey Salinas VehiclePositions\", \"rounded_rt_data_proportion_percentage\": 70, \"rt_trip_counts_by_operator\": 870.0, \"total_trips\": 17, \"percentage_of_trips\": 1.9540229885057472}, {\"_gtfs_dataset_name\": \"Monterey Salinas VehiclePositions\", \"rounded_rt_data_proportion_percentage\": 80, \"rt_trip_counts_by_operator\": 870.0, \"total_trips\": 43, \"percentage_of_trips\": 4.942528735632184}, {\"_gtfs_dataset_name\": \"Monterey Salinas VehiclePositions\", \"rounded_rt_data_proportion_percentage\": 90, \"rt_trip_counts_by_operator\": 870.0, \"total_trips\": 72, \"percentage_of_trips\": 8.275862068965518}, {\"_gtfs_dataset_name\": \"Monterey Salinas VehiclePositions\", \"rounded_rt_data_proportion_percentage\": 100, \"rt_trip_counts_by_operator\": 870.0, \"total_trips\": 717, \"percentage_of_trips\": 82.41379310344827}, {\"_gtfs_dataset_name\": \"Nevada County Vehicle Positions\", \"rounded_rt_data_proportion_percentage\": 0, \"rt_trip_counts_by_operator\": 104.0, \"total_trips\": 4, \"percentage_of_trips\": 3.8461538461538463}, {\"_gtfs_dataset_name\": \"Nevada County Vehicle Positions\", \"rounded_rt_data_proportion_percentage\": 10, \"rt_trip_counts_by_operator\": 104.0, \"total_trips\": 4, \"percentage_of_trips\": 3.8461538461538463}, {\"_gtfs_dataset_name\": \"Nevada County Vehicle Positions\", \"rounded_rt_data_proportion_percentage\": 20, \"rt_trip_counts_by_operator\": 104.0, \"total_trips\": 2, \"percentage_of_trips\": 1.9230769230769231}, {\"_gtfs_dataset_name\": \"Nevada County Vehicle Positions\", \"rounded_rt_data_proportion_percentage\": 50, \"rt_trip_counts_by_operator\": 104.0, \"total_trips\": 4, \"percentage_of_trips\": 3.8461538461538463}, {\"_gtfs_dataset_name\": \"Nevada County Vehicle Positions\", \"rounded_rt_data_proportion_percentage\": 60, \"rt_trip_counts_by_operator\": 104.0, \"total_trips\": 4, \"percentage_of_trips\": 3.8461538461538463}, {\"_gtfs_dataset_name\": \"Nevada County Vehicle Positions\", \"rounded_rt_data_proportion_percentage\": 70, \"rt_trip_counts_by_operator\": 104.0, \"total_trips\": 6, \"percentage_of_trips\": 5.769230769230769}, {\"_gtfs_dataset_name\": \"Nevada County Vehicle Positions\", \"rounded_rt_data_proportion_percentage\": 80, \"rt_trip_counts_by_operator\": 104.0, \"total_trips\": 6, \"percentage_of_trips\": 5.769230769230769}, {\"_gtfs_dataset_name\": \"Nevada County Vehicle Positions\", \"rounded_rt_data_proportion_percentage\": 90, \"rt_trip_counts_by_operator\": 104.0, \"total_trips\": 6, \"percentage_of_trips\": 5.769230769230769}, {\"_gtfs_dataset_name\": \"Nevada County Vehicle Positions\", \"rounded_rt_data_proportion_percentage\": 100, \"rt_trip_counts_by_operator\": 104.0, \"total_trips\": 68, \"percentage_of_trips\": 65.38461538461539}, {\"_gtfs_dataset_name\": \"None\", \"rounded_rt_data_proportion_percentage\": 0, \"rt_trip_counts_by_operator\": 0.0, \"total_trips\": 38525, \"percentage_of_trips\": null}, {\"_gtfs_dataset_name\": \"North County Vehicle Positions\", \"rounded_rt_data_proportion_percentage\": 0, \"rt_trip_counts_by_operator\": 1026.0, \"total_trips\": 2, \"percentage_of_trips\": 0.1949317738791423}, {\"_gtfs_dataset_name\": \"North County Vehicle Positions\", \"rounded_rt_data_proportion_percentage\": 10, \"rt_trip_counts_by_operator\": 1026.0, \"total_trips\": 2, \"percentage_of_trips\": 0.1949317738791423}, {\"_gtfs_dataset_name\": \"North County Vehicle Positions\", \"rounded_rt_data_proportion_percentage\": 20, \"rt_trip_counts_by_operator\": 1026.0, \"total_trips\": 1, \"percentage_of_trips\": 0.09746588693957114}, {\"_gtfs_dataset_name\": \"North County Vehicle Positions\", \"rounded_rt_data_proportion_percentage\": 60, \"rt_trip_counts_by_operator\": 1026.0, \"total_trips\": 2, \"percentage_of_trips\": 0.1949317738791423}, {\"_gtfs_dataset_name\": \"North County Vehicle Positions\", \"rounded_rt_data_proportion_percentage\": 70, \"rt_trip_counts_by_operator\": 1026.0, \"total_trips\": 7, \"percentage_of_trips\": 0.682261208576998}, {\"_gtfs_dataset_name\": \"North County Vehicle Positions\", \"rounded_rt_data_proportion_percentage\": 80, \"rt_trip_counts_by_operator\": 1026.0, \"total_trips\": 39, \"percentage_of_trips\": 3.8011695906432745}, {\"_gtfs_dataset_name\": \"North County Vehicle Positions\", \"rounded_rt_data_proportion_percentage\": 90, \"rt_trip_counts_by_operator\": 1026.0, \"total_trips\": 84, \"percentage_of_trips\": 8.187134502923977}, {\"_gtfs_dataset_name\": \"North County Vehicle Positions\", \"rounded_rt_data_proportion_percentage\": 100, \"rt_trip_counts_by_operator\": 1026.0, \"total_trips\": 889, \"percentage_of_trips\": 86.64717348927876}, {\"_gtfs_dataset_name\": \"Norwalk Vehicle Positions\", \"rounded_rt_data_proportion_percentage\": 80, \"rt_trip_counts_by_operator\": 13.0, \"total_trips\": 1, \"percentage_of_trips\": 7.6923076923076925}, {\"_gtfs_dataset_name\": \"Norwalk Vehicle Positions\", \"rounded_rt_data_proportion_percentage\": 100, \"rt_trip_counts_by_operator\": 13.0, \"total_trips\": 12, \"percentage_of_trips\": 92.3076923076923}, {\"_gtfs_dataset_name\": \"OCTA VehiclePositions\", \"rounded_rt_data_proportion_percentage\": 0, \"rt_trip_counts_by_operator\": 2499.0, \"total_trips\": 2, \"percentage_of_trips\": 0.08003201280512205}, {\"_gtfs_dataset_name\": \"OCTA VehiclePositions\", \"rounded_rt_data_proportion_percentage\": 10, \"rt_trip_counts_by_operator\": 2499.0, \"total_trips\": 3, \"percentage_of_trips\": 0.12004801920768307}, {\"_gtfs_dataset_name\": \"OCTA VehiclePositions\", \"rounded_rt_data_proportion_percentage\": 50, \"rt_trip_counts_by_operator\": 2499.0, \"total_trips\": 2, \"percentage_of_trips\": 0.08003201280512205}, {\"_gtfs_dataset_name\": \"OCTA VehiclePositions\", \"rounded_rt_data_proportion_percentage\": 60, \"rt_trip_counts_by_operator\": 2499.0, \"total_trips\": 13, \"percentage_of_trips\": 0.5202080832332933}, {\"_gtfs_dataset_name\": \"OCTA VehiclePositions\", \"rounded_rt_data_proportion_percentage\": 70, \"rt_trip_counts_by_operator\": 2499.0, \"total_trips\": 47, \"percentage_of_trips\": 1.8807523009203682}, {\"_gtfs_dataset_name\": \"OCTA VehiclePositions\", \"rounded_rt_data_proportion_percentage\": 80, \"rt_trip_counts_by_operator\": 2499.0, \"total_trips\": 133, \"percentage_of_trips\": 5.322128851540616}, {\"_gtfs_dataset_name\": \"OCTA VehiclePositions\", \"rounded_rt_data_proportion_percentage\": 90, \"rt_trip_counts_by_operator\": 2499.0, \"total_trips\": 250, \"percentage_of_trips\": 10.004001600640255}, {\"_gtfs_dataset_name\": \"OCTA VehiclePositions\", \"rounded_rt_data_proportion_percentage\": 100, \"rt_trip_counts_by_operator\": 2499.0, \"total_trips\": 2049, \"percentage_of_trips\": 81.99279711884753}, {\"_gtfs_dataset_name\": \"Pasadena VehiclePositions\", \"rounded_rt_data_proportion_percentage\": 0, \"rt_trip_counts_by_operator\": 293.0, \"total_trips\": 2, \"percentage_of_trips\": 0.6825938566552902}, {\"_gtfs_dataset_name\": \"Pasadena VehiclePositions\", \"rounded_rt_data_proportion_percentage\": 20, \"rt_trip_counts_by_operator\": 293.0, \"total_trips\": 1, \"percentage_of_trips\": 0.3412969283276451}, {\"_gtfs_dataset_name\": \"Pasadena VehiclePositions\", \"rounded_rt_data_proportion_percentage\": 30, \"rt_trip_counts_by_operator\": 293.0, \"total_trips\": 1, \"percentage_of_trips\": 0.3412969283276451}, {\"_gtfs_dataset_name\": \"Pasadena VehiclePositions\", \"rounded_rt_data_proportion_percentage\": 60, \"rt_trip_counts_by_operator\": 293.0, \"total_trips\": 2, \"percentage_of_trips\": 0.6825938566552902}, {\"_gtfs_dataset_name\": \"Pasadena VehiclePositions\", \"rounded_rt_data_proportion_percentage\": 70, \"rt_trip_counts_by_operator\": 293.0, \"total_trips\": 1, \"percentage_of_trips\": 0.3412969283276451}, {\"_gtfs_dataset_name\": \"Pasadena VehiclePositions\", \"rounded_rt_data_proportion_percentage\": 80, \"rt_trip_counts_by_operator\": 293.0, \"total_trips\": 21, \"percentage_of_trips\": 7.167235494880546}, {\"_gtfs_dataset_name\": \"Pasadena VehiclePositions\", \"rounded_rt_data_proportion_percentage\": 90, \"rt_trip_counts_by_operator\": 293.0, \"total_trips\": 34, \"percentage_of_trips\": 11.604095563139932}, {\"_gtfs_dataset_name\": \"Pasadena VehiclePositions\", \"rounded_rt_data_proportion_percentage\": 100, \"rt_trip_counts_by_operator\": 293.0, \"total_trips\": 231, \"percentage_of_trips\": 78.839590443686}, {\"_gtfs_dataset_name\": \"PresidiGo VehiclePositions\", \"rounded_rt_data_proportion_percentage\": 70, \"rt_trip_counts_by_operator\": 18.0, \"total_trips\": 1, \"percentage_of_trips\": 5.555555555555555}, {\"_gtfs_dataset_name\": \"PresidiGo VehiclePositions\", \"rounded_rt_data_proportion_percentage\": 80, \"rt_trip_counts_by_operator\": 18.0, \"total_trips\": 2, \"percentage_of_trips\": 11.11111111111111}, {\"_gtfs_dataset_name\": \"PresidiGo VehiclePositions\", \"rounded_rt_data_proportion_percentage\": 90, \"rt_trip_counts_by_operator\": 18.0, \"total_trips\": 5, \"percentage_of_trips\": 27.77777777777778}, {\"_gtfs_dataset_name\": \"PresidiGo VehiclePositions\", \"rounded_rt_data_proportion_percentage\": 100, \"rt_trip_counts_by_operator\": 18.0, \"total_trips\": 10, \"percentage_of_trips\": 55.55555555555556}, {\"_gtfs_dataset_name\": \"Redding Vehicle Positions\", \"rounded_rt_data_proportion_percentage\": 30, \"rt_trip_counts_by_operator\": 230.0, \"total_trips\": 1, \"percentage_of_trips\": 0.43478260869565216}, {\"_gtfs_dataset_name\": \"Redding Vehicle Positions\", \"rounded_rt_data_proportion_percentage\": 40, \"rt_trip_counts_by_operator\": 230.0, \"total_trips\": 3, \"percentage_of_trips\": 1.3043478260869565}, {\"_gtfs_dataset_name\": \"Redding Vehicle Positions\", \"rounded_rt_data_proportion_percentage\": 60, \"rt_trip_counts_by_operator\": 230.0, \"total_trips\": 6, \"percentage_of_trips\": 2.608695652173913}, {\"_gtfs_dataset_name\": \"Redding Vehicle Positions\", \"rounded_rt_data_proportion_percentage\": 70, \"rt_trip_counts_by_operator\": 230.0, \"total_trips\": 9, \"percentage_of_trips\": 3.91304347826087}, {\"_gtfs_dataset_name\": \"Redding Vehicle Positions\", \"rounded_rt_data_proportion_percentage\": 80, \"rt_trip_counts_by_operator\": 230.0, \"total_trips\": 18, \"percentage_of_trips\": 7.82608695652174}, {\"_gtfs_dataset_name\": \"Redding Vehicle Positions\", \"rounded_rt_data_proportion_percentage\": 90, \"rt_trip_counts_by_operator\": 230.0, \"total_trips\": 18, \"percentage_of_trips\": 7.82608695652174}, {\"_gtfs_dataset_name\": \"Redding Vehicle Positions\", \"rounded_rt_data_proportion_percentage\": 100, \"rt_trip_counts_by_operator\": 230.0, \"total_trips\": 175, \"percentage_of_trips\": 76.08695652173914}, {\"_gtfs_dataset_name\": \"Redwood Coast Vehicle Positions\", \"rounded_rt_data_proportion_percentage\": 30, \"rt_trip_counts_by_operator\": 60.0, \"total_trips\": 2, \"percentage_of_trips\": 3.3333333333333335}, {\"_gtfs_dataset_name\": \"Redwood Coast Vehicle Positions\", \"rounded_rt_data_proportion_percentage\": 40, \"rt_trip_counts_by_operator\": 60.0, \"total_trips\": 2, \"percentage_of_trips\": 3.3333333333333335}, {\"_gtfs_dataset_name\": \"Redwood Coast Vehicle Positions\", \"rounded_rt_data_proportion_percentage\": 60, \"rt_trip_counts_by_operator\": 60.0, \"total_trips\": 2, \"percentage_of_trips\": 3.3333333333333335}, {\"_gtfs_dataset_name\": \"Redwood Coast Vehicle Positions\", \"rounded_rt_data_proportion_percentage\": 70, \"rt_trip_counts_by_operator\": 60.0, \"total_trips\": 1, \"percentage_of_trips\": 1.6666666666666667}, {\"_gtfs_dataset_name\": \"Redwood Coast Vehicle Positions\", \"rounded_rt_data_proportion_percentage\": 80, \"rt_trip_counts_by_operator\": 60.0, \"total_trips\": 6, \"percentage_of_trips\": 10.0}, {\"_gtfs_dataset_name\": \"Redwood Coast Vehicle Positions\", \"rounded_rt_data_proportion_percentage\": 90, \"rt_trip_counts_by_operator\": 60.0, \"total_trips\": 5, \"percentage_of_trips\": 8.333333333333332}, {\"_gtfs_dataset_name\": \"Redwood Coast Vehicle Positions\", \"rounded_rt_data_proportion_percentage\": 100, \"rt_trip_counts_by_operator\": 60.0, \"total_trips\": 42, \"percentage_of_trips\": 70.0}, {\"_gtfs_dataset_name\": \"Riverside VehiclePositions\", \"rounded_rt_data_proportion_percentage\": 0, \"rt_trip_counts_by_operator\": 917.0, \"total_trips\": 2, \"percentage_of_trips\": 0.21810250817884408}, {\"_gtfs_dataset_name\": \"Riverside VehiclePositions\", \"rounded_rt_data_proportion_percentage\": 10, \"rt_trip_counts_by_operator\": 917.0, \"total_trips\": 4, \"percentage_of_trips\": 0.43620501635768816}, {\"_gtfs_dataset_name\": \"Riverside VehiclePositions\", \"rounded_rt_data_proportion_percentage\": 20, \"rt_trip_counts_by_operator\": 917.0, \"total_trips\": 3, \"percentage_of_trips\": 0.3271537622682661}, {\"_gtfs_dataset_name\": \"Riverside VehiclePositions\", \"rounded_rt_data_proportion_percentage\": 40, \"rt_trip_counts_by_operator\": 917.0, \"total_trips\": 1, \"percentage_of_trips\": 0.10905125408942204}, {\"_gtfs_dataset_name\": \"Riverside VehiclePositions\", \"rounded_rt_data_proportion_percentage\": 50, \"rt_trip_counts_by_operator\": 917.0, \"total_trips\": 3, \"percentage_of_trips\": 0.3271537622682661}, {\"_gtfs_dataset_name\": \"Riverside VehiclePositions\", \"rounded_rt_data_proportion_percentage\": 60, \"rt_trip_counts_by_operator\": 917.0, \"total_trips\": 2, \"percentage_of_trips\": 0.21810250817884408}, {\"_gtfs_dataset_name\": \"Riverside VehiclePositions\", \"rounded_rt_data_proportion_percentage\": 70, \"rt_trip_counts_by_operator\": 917.0, \"total_trips\": 3, \"percentage_of_trips\": 0.3271537622682661}, {\"_gtfs_dataset_name\": \"Riverside VehiclePositions\", \"rounded_rt_data_proportion_percentage\": 80, \"rt_trip_counts_by_operator\": 917.0, \"total_trips\": 19, \"percentage_of_trips\": 2.0719738276990185}, {\"_gtfs_dataset_name\": \"Riverside VehiclePositions\", \"rounded_rt_data_proportion_percentage\": 90, \"rt_trip_counts_by_operator\": 917.0, \"total_trips\": 59, \"percentage_of_trips\": 6.4340239912759}, {\"_gtfs_dataset_name\": \"Riverside VehiclePositions\", \"rounded_rt_data_proportion_percentage\": 100, \"rt_trip_counts_by_operator\": 917.0, \"total_trips\": 821, \"percentage_of_trips\": 89.53107960741549}, {\"_gtfs_dataset_name\": \"San Diego Vehicle Positions\", \"rounded_rt_data_proportion_percentage\": 0, \"rt_trip_counts_by_operator\": 5719.0, \"total_trips\": 13, \"percentage_of_trips\": 0.227312467214548}, {\"_gtfs_dataset_name\": \"San Diego Vehicle Positions\", \"rounded_rt_data_proportion_percentage\": 10, \"rt_trip_counts_by_operator\": 5719.0, \"total_trips\": 5, \"percentage_of_trips\": 0.08742787200559538}, {\"_gtfs_dataset_name\": \"San Diego Vehicle Positions\", \"rounded_rt_data_proportion_percentage\": 20, \"rt_trip_counts_by_operator\": 5719.0, \"total_trips\": 3, \"percentage_of_trips\": 0.05245672320335724}, {\"_gtfs_dataset_name\": \"San Diego Vehicle Positions\", \"rounded_rt_data_proportion_percentage\": 30, \"rt_trip_counts_by_operator\": 5719.0, \"total_trips\": 4, \"percentage_of_trips\": 0.0699422976044763}, {\"_gtfs_dataset_name\": \"San Diego Vehicle Positions\", \"rounded_rt_data_proportion_percentage\": 40, \"rt_trip_counts_by_operator\": 5719.0, \"total_trips\": 3, \"percentage_of_trips\": 0.05245672320335724}, {\"_gtfs_dataset_name\": \"San Diego Vehicle Positions\", \"rounded_rt_data_proportion_percentage\": 50, \"rt_trip_counts_by_operator\": 5719.0, \"total_trips\": 6, \"percentage_of_trips\": 0.10491344640671448}, {\"_gtfs_dataset_name\": \"San Diego Vehicle Positions\", \"rounded_rt_data_proportion_percentage\": 60, \"rt_trip_counts_by_operator\": 5719.0, \"total_trips\": 12, \"percentage_of_trips\": 0.20982689281342895}, {\"_gtfs_dataset_name\": \"San Diego Vehicle Positions\", \"rounded_rt_data_proportion_percentage\": 70, \"rt_trip_counts_by_operator\": 5719.0, \"total_trips\": 22, \"percentage_of_trips\": 0.3846826368246197}, {\"_gtfs_dataset_name\": \"San Diego Vehicle Positions\", \"rounded_rt_data_proportion_percentage\": 80, \"rt_trip_counts_by_operator\": 5719.0, \"total_trips\": 70, \"percentage_of_trips\": 1.2239902080783354}, {\"_gtfs_dataset_name\": \"San Diego Vehicle Positions\", \"rounded_rt_data_proportion_percentage\": 90, \"rt_trip_counts_by_operator\": 5719.0, \"total_trips\": 335, \"percentage_of_trips\": 5.85766742437489}, {\"_gtfs_dataset_name\": \"San Diego Vehicle Positions\", \"rounded_rt_data_proportion_percentage\": 100, \"rt_trip_counts_by_operator\": 5719.0, \"total_trips\": 5246, \"percentage_of_trips\": 91.72932330827066}, {\"_gtfs_dataset_name\": \"San Joaquin Vehicle Positions\", \"rounded_rt_data_proportion_percentage\": 0, \"rt_trip_counts_by_operator\": 855.0, \"total_trips\": 7, \"percentage_of_trips\": 0.8187134502923977}, {\"_gtfs_dataset_name\": \"San Joaquin Vehicle Positions\", \"rounded_rt_data_proportion_percentage\": 10, \"rt_trip_counts_by_operator\": 855.0, \"total_trips\": 6, \"percentage_of_trips\": 0.7017543859649122}, {\"_gtfs_dataset_name\": \"San Joaquin Vehicle Positions\", \"rounded_rt_data_proportion_percentage\": 20, \"rt_trip_counts_by_operator\": 855.0, \"total_trips\": 4, \"percentage_of_trips\": 0.46783625730994155}, {\"_gtfs_dataset_name\": \"San Joaquin Vehicle Positions\", \"rounded_rt_data_proportion_percentage\": 30, \"rt_trip_counts_by_operator\": 855.0, \"total_trips\": 4, \"percentage_of_trips\": 0.46783625730994155}, {\"_gtfs_dataset_name\": \"San Joaquin Vehicle Positions\", \"rounded_rt_data_proportion_percentage\": 40, \"rt_trip_counts_by_operator\": 855.0, \"total_trips\": 7, \"percentage_of_trips\": 0.8187134502923977}, {\"_gtfs_dataset_name\": \"San Joaquin Vehicle Positions\", \"rounded_rt_data_proportion_percentage\": 50, \"rt_trip_counts_by_operator\": 855.0, \"total_trips\": 12, \"percentage_of_trips\": 1.4035087719298245}, {\"_gtfs_dataset_name\": \"San Joaquin Vehicle Positions\", \"rounded_rt_data_proportion_percentage\": 60, \"rt_trip_counts_by_operator\": 855.0, \"total_trips\": 22, \"percentage_of_trips\": 2.5730994152046787}, {\"_gtfs_dataset_name\": \"San Joaquin Vehicle Positions\", \"rounded_rt_data_proportion_percentage\": 70, \"rt_trip_counts_by_operator\": 855.0, \"total_trips\": 40, \"percentage_of_trips\": 4.678362573099415}, {\"_gtfs_dataset_name\": \"San Joaquin Vehicle Positions\", \"rounded_rt_data_proportion_percentage\": 80, \"rt_trip_counts_by_operator\": 855.0, \"total_trips\": 106, \"percentage_of_trips\": 12.397660818713451}, {\"_gtfs_dataset_name\": \"San Joaquin Vehicle Positions\", \"rounded_rt_data_proportion_percentage\": 90, \"rt_trip_counts_by_operator\": 855.0, \"total_trips\": 108, \"percentage_of_trips\": 12.631578947368421}, {\"_gtfs_dataset_name\": \"San Joaquin Vehicle Positions\", \"rounded_rt_data_proportion_percentage\": 100, \"rt_trip_counts_by_operator\": 855.0, \"total_trips\": 539, \"percentage_of_trips\": 63.04093567251462}, {\"_gtfs_dataset_name\": \"Santa Clarita VehiclePositions\", \"rounded_rt_data_proportion_percentage\": 30, \"rt_trip_counts_by_operator\": 341.0, \"total_trips\": 1, \"percentage_of_trips\": 0.2932551319648094}, {\"_gtfs_dataset_name\": \"Santa Clarita VehiclePositions\", \"rounded_rt_data_proportion_percentage\": 40, \"rt_trip_counts_by_operator\": 341.0, \"total_trips\": 3, \"percentage_of_trips\": 0.8797653958944283}, {\"_gtfs_dataset_name\": \"Santa Clarita VehiclePositions\", \"rounded_rt_data_proportion_percentage\": 50, \"rt_trip_counts_by_operator\": 341.0, \"total_trips\": 1, \"percentage_of_trips\": 0.2932551319648094}, {\"_gtfs_dataset_name\": \"Santa Clarita VehiclePositions\", \"rounded_rt_data_proportion_percentage\": 60, \"rt_trip_counts_by_operator\": 341.0, \"total_trips\": 6, \"percentage_of_trips\": 1.7595307917888565}, {\"_gtfs_dataset_name\": \"Santa Clarita VehiclePositions\", \"rounded_rt_data_proportion_percentage\": 70, \"rt_trip_counts_by_operator\": 341.0, \"total_trips\": 32, \"percentage_of_trips\": 9.3841642228739}, {\"_gtfs_dataset_name\": \"Santa Clarita VehiclePositions\", \"rounded_rt_data_proportion_percentage\": 80, \"rt_trip_counts_by_operator\": 341.0, \"total_trips\": 39, \"percentage_of_trips\": 11.436950146627565}, {\"_gtfs_dataset_name\": \"Santa Clarita VehiclePositions\", \"rounded_rt_data_proportion_percentage\": 90, \"rt_trip_counts_by_operator\": 341.0, \"total_trips\": 68, \"percentage_of_trips\": 19.941348973607038}, {\"_gtfs_dataset_name\": \"Santa Clarita VehiclePositions\", \"rounded_rt_data_proportion_percentage\": 100, \"rt_trip_counts_by_operator\": 341.0, \"total_trips\": 191, \"percentage_of_trips\": 56.01173020527859}, {\"_gtfs_dataset_name\": \"Santa Maria Vehicle Positions\", \"rounded_rt_data_proportion_percentage\": 0, \"rt_trip_counts_by_operator\": 140.0, \"total_trips\": 4, \"percentage_of_trips\": 2.857142857142857}, {\"_gtfs_dataset_name\": \"Santa Maria Vehicle Positions\", \"rounded_rt_data_proportion_percentage\": 20, \"rt_trip_counts_by_operator\": 140.0, \"total_trips\": 1, \"percentage_of_trips\": 0.7142857142857143}, {\"_gtfs_dataset_name\": \"Santa Maria Vehicle Positions\", \"rounded_rt_data_proportion_percentage\": 50, \"rt_trip_counts_by_operator\": 140.0, \"total_trips\": 2, \"percentage_of_trips\": 1.4285714285714286}, {\"_gtfs_dataset_name\": \"Santa Maria Vehicle Positions\", \"rounded_rt_data_proportion_percentage\": 70, \"rt_trip_counts_by_operator\": 140.0, \"total_trips\": 4, \"percentage_of_trips\": 2.857142857142857}, {\"_gtfs_dataset_name\": \"Santa Maria Vehicle Positions\", \"rounded_rt_data_proportion_percentage\": 80, \"rt_trip_counts_by_operator\": 140.0, \"total_trips\": 11, \"percentage_of_trips\": 7.857142857142857}, {\"_gtfs_dataset_name\": \"Santa Maria Vehicle Positions\", \"rounded_rt_data_proportion_percentage\": 90, \"rt_trip_counts_by_operator\": 140.0, \"total_trips\": 37, \"percentage_of_trips\": 26.42857142857143}, {\"_gtfs_dataset_name\": \"Santa Maria Vehicle Positions\", \"rounded_rt_data_proportion_percentage\": 100, \"rt_trip_counts_by_operator\": 140.0, \"total_trips\": 81, \"percentage_of_trips\": 57.85714285714286}, {\"_gtfs_dataset_name\": \"Santa Ynez Vehicle Positions\", \"rounded_rt_data_proportion_percentage\": 0, \"rt_trip_counts_by_operator\": 18.0, \"total_trips\": 1, \"percentage_of_trips\": 5.555555555555555}, {\"_gtfs_dataset_name\": \"Santa Ynez Vehicle Positions\", \"rounded_rt_data_proportion_percentage\": 20, \"rt_trip_counts_by_operator\": 18.0, \"total_trips\": 1, \"percentage_of_trips\": 5.555555555555555}, {\"_gtfs_dataset_name\": \"Santa Ynez Vehicle Positions\", \"rounded_rt_data_proportion_percentage\": 30, \"rt_trip_counts_by_operator\": 18.0, \"total_trips\": 1, \"percentage_of_trips\": 5.555555555555555}, {\"_gtfs_dataset_name\": \"Santa Ynez Vehicle Positions\", \"rounded_rt_data_proportion_percentage\": 80, \"rt_trip_counts_by_operator\": 18.0, \"total_trips\": 7, \"percentage_of_trips\": 38.88888888888889}, {\"_gtfs_dataset_name\": \"Santa Ynez Vehicle Positions\", \"rounded_rt_data_proportion_percentage\": 90, \"rt_trip_counts_by_operator\": 18.0, \"total_trips\": 3, \"percentage_of_trips\": 16.666666666666664}, {\"_gtfs_dataset_name\": \"Santa Ynez Vehicle Positions\", \"rounded_rt_data_proportion_percentage\": 100, \"rt_trip_counts_by_operator\": 18.0, \"total_trips\": 5, \"percentage_of_trips\": 27.77777777777778}, {\"_gtfs_dataset_name\": \"StanRTA Vehicle Positions\", \"rounded_rt_data_proportion_percentage\": 0, \"rt_trip_counts_by_operator\": 939.0, \"total_trips\": 1, \"percentage_of_trips\": 0.10649627263045794}, {\"_gtfs_dataset_name\": \"StanRTA Vehicle Positions\", \"rounded_rt_data_proportion_percentage\": 20, \"rt_trip_counts_by_operator\": 939.0, \"total_trips\": 1, \"percentage_of_trips\": 0.10649627263045794}, {\"_gtfs_dataset_name\": \"StanRTA Vehicle Positions\", \"rounded_rt_data_proportion_percentage\": 30, \"rt_trip_counts_by_operator\": 939.0, \"total_trips\": 3, \"percentage_of_trips\": 0.3194888178913738}, {\"_gtfs_dataset_name\": \"StanRTA Vehicle Positions\", \"rounded_rt_data_proportion_percentage\": 40, \"rt_trip_counts_by_operator\": 939.0, \"total_trips\": 7, \"percentage_of_trips\": 0.7454739084132056}, {\"_gtfs_dataset_name\": \"StanRTA Vehicle Positions\", \"rounded_rt_data_proportion_percentage\": 50, \"rt_trip_counts_by_operator\": 939.0, \"total_trips\": 5, \"percentage_of_trips\": 0.5324813631522897}, {\"_gtfs_dataset_name\": \"StanRTA Vehicle Positions\", \"rounded_rt_data_proportion_percentage\": 60, \"rt_trip_counts_by_operator\": 939.0, \"total_trips\": 14, \"percentage_of_trips\": 1.4909478168264112}, {\"_gtfs_dataset_name\": \"StanRTA Vehicle Positions\", \"rounded_rt_data_proportion_percentage\": 70, \"rt_trip_counts_by_operator\": 939.0, \"total_trips\": 49, \"percentage_of_trips\": 5.218317358892439}, {\"_gtfs_dataset_name\": \"StanRTA Vehicle Positions\", \"rounded_rt_data_proportion_percentage\": 80, \"rt_trip_counts_by_operator\": 939.0, \"total_trips\": 76, \"percentage_of_trips\": 8.093716719914804}, {\"_gtfs_dataset_name\": \"StanRTA Vehicle Positions\", \"rounded_rt_data_proportion_percentage\": 90, \"rt_trip_counts_by_operator\": 939.0, \"total_trips\": 129, \"percentage_of_trips\": 13.738019169329075}, {\"_gtfs_dataset_name\": \"StanRTA Vehicle Positions\", \"rounded_rt_data_proportion_percentage\": 100, \"rt_trip_counts_by_operator\": 939.0, \"total_trips\": 654, \"percentage_of_trips\": 69.6485623003195}, {\"_gtfs_dataset_name\": \"Tahoe Transportation Vehicle Positions\", \"rounded_rt_data_proportion_percentage\": 0, \"rt_trip_counts_by_operator\": 54.0, \"total_trips\": 5, \"percentage_of_trips\": 9.25925925925926}, {\"_gtfs_dataset_name\": \"Tahoe Transportation Vehicle Positions\", \"rounded_rt_data_proportion_percentage\": 40, \"rt_trip_counts_by_operator\": 54.0, \"total_trips\": 1, \"percentage_of_trips\": 1.8518518518518516}, {\"_gtfs_dataset_name\": \"Tahoe Transportation Vehicle Positions\", \"rounded_rt_data_proportion_percentage\": 60, \"rt_trip_counts_by_operator\": 54.0, \"total_trips\": 1, \"percentage_of_trips\": 1.8518518518518516}, {\"_gtfs_dataset_name\": \"Tahoe Transportation Vehicle Positions\", \"rounded_rt_data_proportion_percentage\": 70, \"rt_trip_counts_by_operator\": 54.0, \"total_trips\": 2, \"percentage_of_trips\": 3.7037037037037033}, {\"_gtfs_dataset_name\": \"Tahoe Transportation Vehicle Positions\", \"rounded_rt_data_proportion_percentage\": 80, \"rt_trip_counts_by_operator\": 54.0, \"total_trips\": 4, \"percentage_of_trips\": 7.4074074074074066}, {\"_gtfs_dataset_name\": \"Tahoe Transportation Vehicle Positions\", \"rounded_rt_data_proportion_percentage\": 90, \"rt_trip_counts_by_operator\": 54.0, \"total_trips\": 3, \"percentage_of_trips\": 5.555555555555555}, {\"_gtfs_dataset_name\": \"Tahoe Transportation Vehicle Positions\", \"rounded_rt_data_proportion_percentage\": 100, \"rt_trip_counts_by_operator\": 54.0, \"total_trips\": 38, \"percentage_of_trips\": 70.37037037037037}, {\"_gtfs_dataset_name\": \"Torrance Swiftly Vehicle Positions\", \"rounded_rt_data_proportion_percentage\": 0, \"rt_trip_counts_by_operator\": 114.0, \"total_trips\": 6, \"percentage_of_trips\": 5.263157894736842}, {\"_gtfs_dataset_name\": \"Torrance Swiftly Vehicle Positions\", \"rounded_rt_data_proportion_percentage\": 10, \"rt_trip_counts_by_operator\": 114.0, \"total_trips\": 1, \"percentage_of_trips\": 0.8771929824561403}, {\"_gtfs_dataset_name\": \"Torrance Swiftly Vehicle Positions\", \"rounded_rt_data_proportion_percentage\": 30, \"rt_trip_counts_by_operator\": 114.0, \"total_trips\": 2, \"percentage_of_trips\": 1.7543859649122806}, {\"_gtfs_dataset_name\": \"Torrance Swiftly Vehicle Positions\", \"rounded_rt_data_proportion_percentage\": 40, \"rt_trip_counts_by_operator\": 114.0, \"total_trips\": 2, \"percentage_of_trips\": 1.7543859649122806}, {\"_gtfs_dataset_name\": \"Torrance Swiftly Vehicle Positions\", \"rounded_rt_data_proportion_percentage\": 50, \"rt_trip_counts_by_operator\": 114.0, \"total_trips\": 2, \"percentage_of_trips\": 1.7543859649122806}, {\"_gtfs_dataset_name\": \"Torrance Swiftly Vehicle Positions\", \"rounded_rt_data_proportion_percentage\": 60, \"rt_trip_counts_by_operator\": 114.0, \"total_trips\": 2, \"percentage_of_trips\": 1.7543859649122806}, {\"_gtfs_dataset_name\": \"Torrance Swiftly Vehicle Positions\", \"rounded_rt_data_proportion_percentage\": 70, \"rt_trip_counts_by_operator\": 114.0, \"total_trips\": 3, \"percentage_of_trips\": 2.631578947368421}, {\"_gtfs_dataset_name\": \"Torrance Swiftly Vehicle Positions\", \"rounded_rt_data_proportion_percentage\": 80, \"rt_trip_counts_by_operator\": 114.0, \"total_trips\": 6, \"percentage_of_trips\": 5.263157894736842}, {\"_gtfs_dataset_name\": \"Torrance Swiftly Vehicle Positions\", \"rounded_rt_data_proportion_percentage\": 90, \"rt_trip_counts_by_operator\": 114.0, \"total_trips\": 11, \"percentage_of_trips\": 9.649122807017543}, {\"_gtfs_dataset_name\": \"Torrance Swiftly Vehicle Positions\", \"rounded_rt_data_proportion_percentage\": 100, \"rt_trip_counts_by_operator\": 114.0, \"total_trips\": 79, \"percentage_of_trips\": 69.2982456140351}, {\"_gtfs_dataset_name\": \"Torrance Vehicle Positions\", \"rounded_rt_data_proportion_percentage\": 0, \"rt_trip_counts_by_operator\": 97.0, \"total_trips\": 4, \"percentage_of_trips\": 4.123711340206185}, {\"_gtfs_dataset_name\": \"Torrance Vehicle Positions\", \"rounded_rt_data_proportion_percentage\": 10, \"rt_trip_counts_by_operator\": 97.0, \"total_trips\": 4, \"percentage_of_trips\": 4.123711340206185}, {\"_gtfs_dataset_name\": \"Torrance Vehicle Positions\", \"rounded_rt_data_proportion_percentage\": 20, \"rt_trip_counts_by_operator\": 97.0, \"total_trips\": 7, \"percentage_of_trips\": 7.216494845360824}, {\"_gtfs_dataset_name\": \"Torrance Vehicle Positions\", \"rounded_rt_data_proportion_percentage\": 30, \"rt_trip_counts_by_operator\": 97.0, \"total_trips\": 3, \"percentage_of_trips\": 3.0927835051546393}, {\"_gtfs_dataset_name\": \"Torrance Vehicle Positions\", \"rounded_rt_data_proportion_percentage\": 40, \"rt_trip_counts_by_operator\": 97.0, \"total_trips\": 3, \"percentage_of_trips\": 3.0927835051546393}, {\"_gtfs_dataset_name\": \"Torrance Vehicle Positions\", \"rounded_rt_data_proportion_percentage\": 50, \"rt_trip_counts_by_operator\": 97.0, \"total_trips\": 5, \"percentage_of_trips\": 5.154639175257731}, {\"_gtfs_dataset_name\": \"Torrance Vehicle Positions\", \"rounded_rt_data_proportion_percentage\": 60, \"rt_trip_counts_by_operator\": 97.0, \"total_trips\": 3, \"percentage_of_trips\": 3.0927835051546393}, {\"_gtfs_dataset_name\": \"Torrance Vehicle Positions\", \"rounded_rt_data_proportion_percentage\": 70, \"rt_trip_counts_by_operator\": 97.0, \"total_trips\": 5, \"percentage_of_trips\": 5.154639175257731}, {\"_gtfs_dataset_name\": \"Torrance Vehicle Positions\", \"rounded_rt_data_proportion_percentage\": 80, \"rt_trip_counts_by_operator\": 97.0, \"total_trips\": 4, \"percentage_of_trips\": 4.123711340206185}, {\"_gtfs_dataset_name\": \"Torrance Vehicle Positions\", \"rounded_rt_data_proportion_percentage\": 90, \"rt_trip_counts_by_operator\": 97.0, \"total_trips\": 8, \"percentage_of_trips\": 8.24742268041237}, {\"_gtfs_dataset_name\": \"Torrance Vehicle Positions\", \"rounded_rt_data_proportion_percentage\": 100, \"rt_trip_counts_by_operator\": 97.0, \"total_trips\": 51, \"percentage_of_trips\": 52.57731958762887}, {\"_gtfs_dataset_name\": \"Turlock Vehicle Positions\", \"rounded_rt_data_proportion_percentage\": 10, \"rt_trip_counts_by_operator\": 236.0, \"total_trips\": 1, \"percentage_of_trips\": 0.423728813559322}, {\"_gtfs_dataset_name\": \"Turlock Vehicle Positions\", \"rounded_rt_data_proportion_percentage\": 20, \"rt_trip_counts_by_operator\": 236.0, \"total_trips\": 1, \"percentage_of_trips\": 0.423728813559322}, {\"_gtfs_dataset_name\": \"Turlock Vehicle Positions\", \"rounded_rt_data_proportion_percentage\": 30, \"rt_trip_counts_by_operator\": 236.0, \"total_trips\": 3, \"percentage_of_trips\": 1.2711864406779663}, {\"_gtfs_dataset_name\": \"Turlock Vehicle Positions\", \"rounded_rt_data_proportion_percentage\": 40, \"rt_trip_counts_by_operator\": 236.0, \"total_trips\": 2, \"percentage_of_trips\": 0.847457627118644}, {\"_gtfs_dataset_name\": \"Turlock Vehicle Positions\", \"rounded_rt_data_proportion_percentage\": 50, \"rt_trip_counts_by_operator\": 236.0, \"total_trips\": 4, \"percentage_of_trips\": 1.694915254237288}, {\"_gtfs_dataset_name\": \"Turlock Vehicle Positions\", \"rounded_rt_data_proportion_percentage\": 60, \"rt_trip_counts_by_operator\": 236.0, \"total_trips\": 4, \"percentage_of_trips\": 1.694915254237288}, {\"_gtfs_dataset_name\": \"Turlock Vehicle Positions\", \"rounded_rt_data_proportion_percentage\": 70, \"rt_trip_counts_by_operator\": 236.0, \"total_trips\": 17, \"percentage_of_trips\": 7.203389830508475}, {\"_gtfs_dataset_name\": \"Turlock Vehicle Positions\", \"rounded_rt_data_proportion_percentage\": 80, \"rt_trip_counts_by_operator\": 236.0, \"total_trips\": 9, \"percentage_of_trips\": 3.8135593220338984}, {\"_gtfs_dataset_name\": \"Turlock Vehicle Positions\", \"rounded_rt_data_proportion_percentage\": 90, \"rt_trip_counts_by_operator\": 236.0, \"total_trips\": 4, \"percentage_of_trips\": 1.694915254237288}, {\"_gtfs_dataset_name\": \"Turlock Vehicle Positions\", \"rounded_rt_data_proportion_percentage\": 100, \"rt_trip_counts_by_operator\": 236.0, \"total_trips\": 191, \"percentage_of_trips\": 80.9322033898305}, {\"_gtfs_dataset_name\": \"Unitrans Vehicle Positions\", \"rounded_rt_data_proportion_percentage\": 0, \"rt_trip_counts_by_operator\": 620.0, \"total_trips\": 4, \"percentage_of_trips\": 0.6451612903225806}, {\"_gtfs_dataset_name\": \"Unitrans Vehicle Positions\", \"rounded_rt_data_proportion_percentage\": 10, \"rt_trip_counts_by_operator\": 620.0, \"total_trips\": 1, \"percentage_of_trips\": 0.16129032258064516}, {\"_gtfs_dataset_name\": \"Unitrans Vehicle Positions\", \"rounded_rt_data_proportion_percentage\": 20, \"rt_trip_counts_by_operator\": 620.0, \"total_trips\": 5, \"percentage_of_trips\": 0.8064516129032258}, {\"_gtfs_dataset_name\": \"Unitrans Vehicle Positions\", \"rounded_rt_data_proportion_percentage\": 30, \"rt_trip_counts_by_operator\": 620.0, \"total_trips\": 2, \"percentage_of_trips\": 0.3225806451612903}, {\"_gtfs_dataset_name\": \"Unitrans Vehicle Positions\", \"rounded_rt_data_proportion_percentage\": 40, \"rt_trip_counts_by_operator\": 620.0, \"total_trips\": 3, \"percentage_of_trips\": 0.4838709677419355}, {\"_gtfs_dataset_name\": \"Unitrans Vehicle Positions\", \"rounded_rt_data_proportion_percentage\": 50, \"rt_trip_counts_by_operator\": 620.0, \"total_trips\": 7, \"percentage_of_trips\": 1.129032258064516}, {\"_gtfs_dataset_name\": \"Unitrans Vehicle Positions\", \"rounded_rt_data_proportion_percentage\": 60, \"rt_trip_counts_by_operator\": 620.0, \"total_trips\": 21, \"percentage_of_trips\": 3.387096774193549}, {\"_gtfs_dataset_name\": \"Unitrans Vehicle Positions\", \"rounded_rt_data_proportion_percentage\": 70, \"rt_trip_counts_by_operator\": 620.0, \"total_trips\": 15, \"percentage_of_trips\": 2.4193548387096775}, {\"_gtfs_dataset_name\": \"Unitrans Vehicle Positions\", \"rounded_rt_data_proportion_percentage\": 80, \"rt_trip_counts_by_operator\": 620.0, \"total_trips\": 41, \"percentage_of_trips\": 6.612903225806452}, {\"_gtfs_dataset_name\": \"Unitrans Vehicle Positions\", \"rounded_rt_data_proportion_percentage\": 90, \"rt_trip_counts_by_operator\": 620.0, \"total_trips\": 51, \"percentage_of_trips\": 8.225806451612904}, {\"_gtfs_dataset_name\": \"Unitrans Vehicle Positions\", \"rounded_rt_data_proportion_percentage\": 100, \"rt_trip_counts_by_operator\": 620.0, \"total_trips\": 470, \"percentage_of_trips\": 75.80645161290323}, {\"_gtfs_dataset_name\": \"VCTC Vehicle Positions\", \"rounded_rt_data_proportion_percentage\": 0, \"rt_trip_counts_by_operator\": 941.0, \"total_trips\": 17, \"percentage_of_trips\": 1.8065887353878853}, {\"_gtfs_dataset_name\": \"VCTC Vehicle Positions\", \"rounded_rt_data_proportion_percentage\": 10, \"rt_trip_counts_by_operator\": 941.0, \"total_trips\": 1, \"percentage_of_trips\": 0.10626992561105207}, {\"_gtfs_dataset_name\": \"VCTC Vehicle Positions\", \"rounded_rt_data_proportion_percentage\": 20, \"rt_trip_counts_by_operator\": 941.0, \"total_trips\": 3, \"percentage_of_trips\": 0.3188097768331562}, {\"_gtfs_dataset_name\": \"VCTC Vehicle Positions\", \"rounded_rt_data_proportion_percentage\": 30, \"rt_trip_counts_by_operator\": 941.0, \"total_trips\": 1, \"percentage_of_trips\": 0.10626992561105207}, {\"_gtfs_dataset_name\": \"VCTC Vehicle Positions\", \"rounded_rt_data_proportion_percentage\": 40, \"rt_trip_counts_by_operator\": 941.0, \"total_trips\": 5, \"percentage_of_trips\": 0.5313496280552604}, {\"_gtfs_dataset_name\": \"VCTC Vehicle Positions\", \"rounded_rt_data_proportion_percentage\": 50, \"rt_trip_counts_by_operator\": 941.0, \"total_trips\": 14, \"percentage_of_trips\": 1.487778958554729}, {\"_gtfs_dataset_name\": \"VCTC Vehicle Positions\", \"rounded_rt_data_proportion_percentage\": 60, \"rt_trip_counts_by_operator\": 941.0, \"total_trips\": 19, \"percentage_of_trips\": 2.0191285866099893}, {\"_gtfs_dataset_name\": \"VCTC Vehicle Positions\", \"rounded_rt_data_proportion_percentage\": 70, \"rt_trip_counts_by_operator\": 941.0, \"total_trips\": 18, \"percentage_of_trips\": 1.9128586609989375}, {\"_gtfs_dataset_name\": \"VCTC Vehicle Positions\", \"rounded_rt_data_proportion_percentage\": 80, \"rt_trip_counts_by_operator\": 941.0, \"total_trips\": 57, \"percentage_of_trips\": 6.057385759829968}, {\"_gtfs_dataset_name\": \"VCTC Vehicle Positions\", \"rounded_rt_data_proportion_percentage\": 90, \"rt_trip_counts_by_operator\": 941.0, \"total_trips\": 82, \"percentage_of_trips\": 8.71413390010627}, {\"_gtfs_dataset_name\": \"VCTC Vehicle Positions\", \"rounded_rt_data_proportion_percentage\": 100, \"rt_trip_counts_by_operator\": 941.0, \"total_trips\": 724, \"percentage_of_trips\": 76.9394261424017}, {\"_gtfs_dataset_name\": \"Victor Valley Vehicle Position\", \"rounded_rt_data_proportion_percentage\": 0, \"rt_trip_counts_by_operator\": 721.0, \"total_trips\": 5, \"percentage_of_trips\": 0.6934812760055479}, {\"_gtfs_dataset_name\": \"Victor Valley Vehicle Position\", \"rounded_rt_data_proportion_percentage\": 10, \"rt_trip_counts_by_operator\": 721.0, \"total_trips\": 1, \"percentage_of_trips\": 0.13869625520110956}, {\"_gtfs_dataset_name\": \"Victor Valley Vehicle Position\", \"rounded_rt_data_proportion_percentage\": 20, \"rt_trip_counts_by_operator\": 721.0, \"total_trips\": 1, \"percentage_of_trips\": 0.13869625520110956}, {\"_gtfs_dataset_name\": \"Victor Valley Vehicle Position\", \"rounded_rt_data_proportion_percentage\": 50, \"rt_trip_counts_by_operator\": 721.0, \"total_trips\": 3, \"percentage_of_trips\": 0.4160887656033287}, {\"_gtfs_dataset_name\": \"Victor Valley Vehicle Position\", \"rounded_rt_data_proportion_percentage\": 70, \"rt_trip_counts_by_operator\": 721.0, \"total_trips\": 2, \"percentage_of_trips\": 0.27739251040221913}, {\"_gtfs_dataset_name\": \"Victor Valley Vehicle Position\", \"rounded_rt_data_proportion_percentage\": 80, \"rt_trip_counts_by_operator\": 721.0, \"total_trips\": 11, \"percentage_of_trips\": 1.5256588072122053}, {\"_gtfs_dataset_name\": \"Victor Valley Vehicle Position\", \"rounded_rt_data_proportion_percentage\": 90, \"rt_trip_counts_by_operator\": 721.0, \"total_trips\": 22, \"percentage_of_trips\": 3.0513176144244105}, {\"_gtfs_dataset_name\": \"Victor Valley Vehicle Position\", \"rounded_rt_data_proportion_percentage\": 100, \"rt_trip_counts_by_operator\": 721.0, \"total_trips\": 676, \"percentage_of_trips\": 93.75866851595008}, {\"_gtfs_dataset_name\": \"Visalia VehiclePositions\", \"rounded_rt_data_proportion_percentage\": 0, \"rt_trip_counts_by_operator\": 328.0, \"total_trips\": 5, \"percentage_of_trips\": 1.524390243902439}, {\"_gtfs_dataset_name\": \"Visalia VehiclePositions\", \"rounded_rt_data_proportion_percentage\": 10, \"rt_trip_counts_by_operator\": 328.0, \"total_trips\": 2, \"percentage_of_trips\": 0.6097560975609756}, {\"_gtfs_dataset_name\": \"Visalia VehiclePositions\", \"rounded_rt_data_proportion_percentage\": 20, \"rt_trip_counts_by_operator\": 328.0, \"total_trips\": 3, \"percentage_of_trips\": 0.9146341463414633}, {\"_gtfs_dataset_name\": \"Visalia VehiclePositions\", \"rounded_rt_data_proportion_percentage\": 30, \"rt_trip_counts_by_operator\": 328.0, \"total_trips\": 2, \"percentage_of_trips\": 0.6097560975609756}, {\"_gtfs_dataset_name\": \"Visalia VehiclePositions\", \"rounded_rt_data_proportion_percentage\": 40, \"rt_trip_counts_by_operator\": 328.0, \"total_trips\": 3, \"percentage_of_trips\": 0.9146341463414633}, {\"_gtfs_dataset_name\": \"Visalia VehiclePositions\", \"rounded_rt_data_proportion_percentage\": 50, \"rt_trip_counts_by_operator\": 328.0, \"total_trips\": 5, \"percentage_of_trips\": 1.524390243902439}, {\"_gtfs_dataset_name\": \"Visalia VehiclePositions\", \"rounded_rt_data_proportion_percentage\": 60, \"rt_trip_counts_by_operator\": 328.0, \"total_trips\": 10, \"percentage_of_trips\": 3.048780487804878}, {\"_gtfs_dataset_name\": \"Visalia VehiclePositions\", \"rounded_rt_data_proportion_percentage\": 70, \"rt_trip_counts_by_operator\": 328.0, \"total_trips\": 17, \"percentage_of_trips\": 5.182926829268292}, {\"_gtfs_dataset_name\": \"Visalia VehiclePositions\", \"rounded_rt_data_proportion_percentage\": 80, \"rt_trip_counts_by_operator\": 328.0, \"total_trips\": 29, \"percentage_of_trips\": 8.841463414634147}, {\"_gtfs_dataset_name\": \"Visalia VehiclePositions\", \"rounded_rt_data_proportion_percentage\": 90, \"rt_trip_counts_by_operator\": 328.0, \"total_trips\": 39, \"percentage_of_trips\": 11.890243902439025}, {\"_gtfs_dataset_name\": \"Visalia VehiclePositions\", \"rounded_rt_data_proportion_percentage\": 100, \"rt_trip_counts_by_operator\": 328.0, \"total_trips\": 213, \"percentage_of_trips\": 64.9390243902439}, {\"_gtfs_dataset_name\": \"WeHo Vehicle Positions\", \"rounded_rt_data_proportion_percentage\": 50, \"rt_trip_counts_by_operator\": 30.0, \"total_trips\": 2, \"percentage_of_trips\": 6.666666666666667}, {\"_gtfs_dataset_name\": \"WeHo Vehicle Positions\", \"rounded_rt_data_proportion_percentage\": 60, \"rt_trip_counts_by_operator\": 30.0, \"total_trips\": 4, \"percentage_of_trips\": 13.333333333333334}, {\"_gtfs_dataset_name\": \"WeHo Vehicle Positions\", \"rounded_rt_data_proportion_percentage\": 70, \"rt_trip_counts_by_operator\": 30.0, \"total_trips\": 1, \"percentage_of_trips\": 3.3333333333333335}, {\"_gtfs_dataset_name\": \"WeHo Vehicle Positions\", \"rounded_rt_data_proportion_percentage\": 80, \"rt_trip_counts_by_operator\": 30.0, \"total_trips\": 1, \"percentage_of_trips\": 3.3333333333333335}, {\"_gtfs_dataset_name\": \"WeHo Vehicle Positions\", \"rounded_rt_data_proportion_percentage\": 90, \"rt_trip_counts_by_operator\": 30.0, \"total_trips\": 4, \"percentage_of_trips\": 13.333333333333334}, {\"_gtfs_dataset_name\": \"WeHo Vehicle Positions\", \"rounded_rt_data_proportion_percentage\": 100, \"rt_trip_counts_by_operator\": 30.0, \"total_trips\": 18, \"percentage_of_trips\": 60.0}]}}, {\"mode\": \"vega-lite\"});\n",
       "</script>"
      ],
      "text/plain": [
       "alt.Chart(...)"
      ]
     },
     "execution_count": 55,
     "metadata": {},
     "output_type": "execute_result"
    }
   ],
   "source": [
    "threshold_utils.bar_chart(rt_scheduled,  \"percentage_of_trips\",'rounded_rt_data_proportion_percentage',\n",
    "    rt_scheduled.columns.tolist(), \"% of RT Minutes vs Scheduled Trip\").add_selection(selection).transform_filter(selection) "
   ]
  },
  {
   "cell_type": "code",
   "execution_count": 56,
   "id": "520ee687-3d21-46b0-956d-be9b685a19b9",
   "metadata": {},
   "outputs": [],
   "source": [
    "def trip_duration_categories(row):\n",
    "    if row.actual_trip_duration_minutes < 30:\n",
    "        return \"Trip < 30 minutes\"\n",
    "    if 31 < row.actual_trip_duration_minutes < 61:\n",
    "        return \"Trip < 60 minutes\"\n",
    "    if 61 < row.actual_trip_duration_minutes < 91:\n",
    "        return \"Trip < 1.5 hours\"\n",
    "    else:\n",
    "        return \"Trip > 1.5 hours\""
   ]
  },
  {
   "cell_type": "code",
   "execution_count": 57,
   "id": "367c109e-4ede-4146-9cfa-3f02afa68fbb",
   "metadata": {},
   "outputs": [],
   "source": [
    "final[\"trip_duration\"] = final.apply(trip_duration_categories, axis=1)"
   ]
  },
  {
   "cell_type": "code",
   "execution_count": 58,
   "id": "205ed7ec-dc76-4991-9747-b9882a33b814",
   "metadata": {},
   "outputs": [
    {
     "data": {
      "text/plain": [
       "Index(['_gtfs_dataset_name', 'gtfs_dataset_key', 'trip_id', 'trip_ping_count',\n",
       "       'total_rt_min_coverage', 'start_hour', 'start_minute', 'combo',\n",
       "       'start_minutes', 'end_minutes', 'actual_trip_duration_minutes',\n",
       "       'rt_trip_counts_by_operator', 'feed_key', 'scheduled_service_minutes',\n",
       "       'rt_data_proportion_percentage', 'pings_per_minute',\n",
       "       'rounded_rt_data_proportion_percentage',\n",
       "       'rounded_actual_trip_duration_minutes', 'trip_duration'],\n",
       "      dtype='object')"
      ]
     },
     "execution_count": 58,
     "metadata": {},
     "output_type": "execute_result"
    }
   ],
   "source": [
    "final.columns"
   ]
  },
  {
   "cell_type": "code",
   "execution_count": 60,
   "id": "ac243d19-49b8-42c4-b3f7-f5cf4f9763a1",
   "metadata": {},
   "outputs": [],
   "source": [
    "rt_trip_time = (final\n",
    "                .groupby(['_gtfs_dataset_name','trip_duration','rounded_rt_data_proportion_percentage'])\n",
    "                .agg({'rt_trip_counts_by_operator':'max','trip_id':'nunique'})\n",
    "                .reset_index()\n",
    "                .rename(columns = {'trip_id':'total_trips'})\n",
    "               )"
   ]
  },
  {
   "cell_type": "code",
   "execution_count": 61,
   "id": "50cc3669-4ff3-4224-ab24-4a5409250651",
   "metadata": {},
   "outputs": [
    {
     "data": {
      "text/plain": [
       "(1329, 5)"
      ]
     },
     "execution_count": 61,
     "metadata": {},
     "output_type": "execute_result"
    }
   ],
   "source": [
    "rt_trip_time.shape"
   ]
  },
  {
   "cell_type": "code",
   "execution_count": 62,
   "id": "be3f8ace-9f56-4f2e-b929-2c724a469d23",
   "metadata": {},
   "outputs": [
    {
     "data": {
      "text/html": [
       "<div>\n",
       "<style scoped>\n",
       "    .dataframe tbody tr th:only-of-type {\n",
       "        vertical-align: middle;\n",
       "    }\n",
       "\n",
       "    .dataframe tbody tr th {\n",
       "        vertical-align: top;\n",
       "    }\n",
       "\n",
       "    .dataframe thead th {\n",
       "        text-align: right;\n",
       "    }\n",
       "</style>\n",
       "<table border=\"1\" class=\"dataframe\">\n",
       "  <thead>\n",
       "    <tr style=\"text-align: right;\">\n",
       "      <th></th>\n",
       "      <th>_gtfs_dataset_name</th>\n",
       "      <th>trip_duration</th>\n",
       "      <th>rounded_rt_data_proportion_percentage</th>\n",
       "      <th>rt_trip_counts_by_operator</th>\n",
       "      <th>total_trips</th>\n",
       "    </tr>\n",
       "  </thead>\n",
       "  <tbody>\n",
       "    <tr>\n",
       "      <th>0</th>\n",
       "      <td>Anaheim Resort VehiclePositions</td>\n",
       "      <td>Trip &lt; 1.5 hours</td>\n",
       "      <td>100</td>\n",
       "      <td>336.00</td>\n",
       "      <td>22</td>\n",
       "    </tr>\n",
       "    <tr>\n",
       "      <th>1</th>\n",
       "      <td>Anaheim Resort VehiclePositions</td>\n",
       "      <td>Trip &lt; 30 minutes</td>\n",
       "      <td>0</td>\n",
       "      <td>336.00</td>\n",
       "      <td>2</td>\n",
       "    </tr>\n",
       "    <tr>\n",
       "      <th>2</th>\n",
       "      <td>Anaheim Resort VehiclePositions</td>\n",
       "      <td>Trip &lt; 30 minutes</td>\n",
       "      <td>10</td>\n",
       "      <td>336.00</td>\n",
       "      <td>1</td>\n",
       "    </tr>\n",
       "    <tr>\n",
       "      <th>3</th>\n",
       "      <td>Anaheim Resort VehiclePositions</td>\n",
       "      <td>Trip &lt; 30 minutes</td>\n",
       "      <td>20</td>\n",
       "      <td>336.00</td>\n",
       "      <td>1</td>\n",
       "    </tr>\n",
       "    <tr>\n",
       "      <th>4</th>\n",
       "      <td>Anaheim Resort VehiclePositions</td>\n",
       "      <td>Trip &lt; 30 minutes</td>\n",
       "      <td>30</td>\n",
       "      <td>336.00</td>\n",
       "      <td>4</td>\n",
       "    </tr>\n",
       "  </tbody>\n",
       "</table>\n",
       "</div>"
      ],
      "text/plain": [
       "                _gtfs_dataset_name      trip_duration  \\\n",
       "0  Anaheim Resort VehiclePositions   Trip < 1.5 hours   \n",
       "1  Anaheim Resort VehiclePositions  Trip < 30 minutes   \n",
       "2  Anaheim Resort VehiclePositions  Trip < 30 minutes   \n",
       "3  Anaheim Resort VehiclePositions  Trip < 30 minutes   \n",
       "4  Anaheim Resort VehiclePositions  Trip < 30 minutes   \n",
       "\n",
       "   rounded_rt_data_proportion_percentage  rt_trip_counts_by_operator  \\\n",
       "0                                    100                      336.00   \n",
       "1                                      0                      336.00   \n",
       "2                                     10                      336.00   \n",
       "3                                     20                      336.00   \n",
       "4                                     30                      336.00   \n",
       "\n",
       "   total_trips  \n",
       "0           22  \n",
       "1            2  \n",
       "2            1  \n",
       "3            1  \n",
       "4            4  "
      ]
     },
     "execution_count": 62,
     "metadata": {},
     "output_type": "execute_result"
    }
   ],
   "source": [
    "rt_trip_time.head()"
   ]
  },
  {
   "cell_type": "code",
   "execution_count": 64,
   "id": "3f487d2d-20db-4a31-96a3-e626c9f3c248",
   "metadata": {},
   "outputs": [],
   "source": [
    "rt_trip_time['categories'] = rt_trip_time.trip_duration + ' ' + rt_trip_time.rounded_rt_data_proportion_percentage.astype(str) + '% of RT vs. Scheduled'"
   ]
  },
  {
   "cell_type": "markdown",
   "id": "95aa4cc3-f12b-400e-9931-3816700dcd00",
   "metadata": {},
   "source": [
    "* Percentages are wrong."
   ]
  },
  {
   "cell_type": "code",
   "execution_count": 65,
   "id": "8243a0d7-3564-4c4b-9358-804222062f82",
   "metadata": {},
   "outputs": [],
   "source": [
    "rt_trip_time['percentage_of_trips'] = rt_trip_time.total_trips/rt_scheduled.rt_trip_counts_by_operator * 100"
   ]
  },
  {
   "cell_type": "code",
   "execution_count": 68,
   "id": "22eaacea-8868-4d05-b372-21045fc015f0",
   "metadata": {
    "tags": []
   },
   "outputs": [
    {
     "data": {
      "text/html": [
       "<div>\n",
       "<style scoped>\n",
       "    .dataframe tbody tr th:only-of-type {\n",
       "        vertical-align: middle;\n",
       "    }\n",
       "\n",
       "    .dataframe tbody tr th {\n",
       "        vertical-align: top;\n",
       "    }\n",
       "\n",
       "    .dataframe thead th {\n",
       "        text-align: right;\n",
       "    }\n",
       "</style>\n",
       "<table border=\"1\" class=\"dataframe\">\n",
       "  <thead>\n",
       "    <tr style=\"text-align: right;\">\n",
       "      <th></th>\n",
       "      <th>_gtfs_dataset_name</th>\n",
       "      <th>trip_duration</th>\n",
       "      <th>rounded_rt_data_proportion_percentage</th>\n",
       "      <th>rt_trip_counts_by_operator</th>\n",
       "      <th>total_trips</th>\n",
       "      <th>categories</th>\n",
       "      <th>percentage_of_trips</th>\n",
       "    </tr>\n",
       "  </thead>\n",
       "  <tbody>\n",
       "    <tr>\n",
       "      <th>0</th>\n",
       "      <td>Anaheim Resort VehiclePositions</td>\n",
       "      <td>Trip &lt; 1.5 hours</td>\n",
       "      <td>100</td>\n",
       "      <td>336.00</td>\n",
       "      <td>22</td>\n",
       "      <td>Trip &lt; 1.5 hours 100% of RT vs. Scheduled</td>\n",
       "      <td>6.55</td>\n",
       "    </tr>\n",
       "    <tr>\n",
       "      <th>1</th>\n",
       "      <td>Anaheim Resort VehiclePositions</td>\n",
       "      <td>Trip &lt; 30 minutes</td>\n",
       "      <td>0</td>\n",
       "      <td>336.00</td>\n",
       "      <td>2</td>\n",
       "      <td>Trip &lt; 30 minutes 0% of RT vs. Scheduled</td>\n",
       "      <td>0.60</td>\n",
       "    </tr>\n",
       "    <tr>\n",
       "      <th>2</th>\n",
       "      <td>Anaheim Resort VehiclePositions</td>\n",
       "      <td>Trip &lt; 30 minutes</td>\n",
       "      <td>10</td>\n",
       "      <td>336.00</td>\n",
       "      <td>1</td>\n",
       "      <td>Trip &lt; 30 minutes 10% of RT vs. Scheduled</td>\n",
       "      <td>0.30</td>\n",
       "    </tr>\n",
       "    <tr>\n",
       "      <th>3</th>\n",
       "      <td>Anaheim Resort VehiclePositions</td>\n",
       "      <td>Trip &lt; 30 minutes</td>\n",
       "      <td>20</td>\n",
       "      <td>336.00</td>\n",
       "      <td>1</td>\n",
       "      <td>Trip &lt; 30 minutes 20% of RT vs. Scheduled</td>\n",
       "      <td>0.30</td>\n",
       "    </tr>\n",
       "    <tr>\n",
       "      <th>4</th>\n",
       "      <td>Anaheim Resort VehiclePositions</td>\n",
       "      <td>Trip &lt; 30 minutes</td>\n",
       "      <td>30</td>\n",
       "      <td>336.00</td>\n",
       "      <td>4</td>\n",
       "      <td>Trip &lt; 30 minutes 30% of RT vs. Scheduled</td>\n",
       "      <td>1.19</td>\n",
       "    </tr>\n",
       "    <tr>\n",
       "      <th>5</th>\n",
       "      <td>Anaheim Resort VehiclePositions</td>\n",
       "      <td>Trip &lt; 30 minutes</td>\n",
       "      <td>40</td>\n",
       "      <td>336.00</td>\n",
       "      <td>3</td>\n",
       "      <td>Trip &lt; 30 minutes 40% of RT vs. Scheduled</td>\n",
       "      <td>0.89</td>\n",
       "    </tr>\n",
       "    <tr>\n",
       "      <th>6</th>\n",
       "      <td>Anaheim Resort VehiclePositions</td>\n",
       "      <td>Trip &lt; 30 minutes</td>\n",
       "      <td>50</td>\n",
       "      <td>336.00</td>\n",
       "      <td>1</td>\n",
       "      <td>Trip &lt; 30 minutes 50% of RT vs. Scheduled</td>\n",
       "      <td>0.30</td>\n",
       "    </tr>\n",
       "    <tr>\n",
       "      <th>7</th>\n",
       "      <td>Anaheim Resort VehiclePositions</td>\n",
       "      <td>Trip &lt; 30 minutes</td>\n",
       "      <td>60</td>\n",
       "      <td>336.00</td>\n",
       "      <td>1</td>\n",
       "      <td>Trip &lt; 30 minutes 60% of RT vs. Scheduled</td>\n",
       "      <td>0.30</td>\n",
       "    </tr>\n",
       "    <tr>\n",
       "      <th>8</th>\n",
       "      <td>Anaheim Resort VehiclePositions</td>\n",
       "      <td>Trip &lt; 30 minutes</td>\n",
       "      <td>70</td>\n",
       "      <td>336.00</td>\n",
       "      <td>1</td>\n",
       "      <td>Trip &lt; 30 minutes 70% of RT vs. Scheduled</td>\n",
       "      <td>0.30</td>\n",
       "    </tr>\n",
       "    <tr>\n",
       "      <th>9</th>\n",
       "      <td>Anaheim Resort VehiclePositions</td>\n",
       "      <td>Trip &lt; 30 minutes</td>\n",
       "      <td>80</td>\n",
       "      <td>336.00</td>\n",
       "      <td>7</td>\n",
       "      <td>Trip &lt; 30 minutes 80% of RT vs. Scheduled</td>\n",
       "      <td>2.08</td>\n",
       "    </tr>\n",
       "  </tbody>\n",
       "</table>\n",
       "</div>"
      ],
      "text/plain": [
       "                _gtfs_dataset_name      trip_duration  \\\n",
       "0  Anaheim Resort VehiclePositions   Trip < 1.5 hours   \n",
       "1  Anaheim Resort VehiclePositions  Trip < 30 minutes   \n",
       "2  Anaheim Resort VehiclePositions  Trip < 30 minutes   \n",
       "3  Anaheim Resort VehiclePositions  Trip < 30 minutes   \n",
       "4  Anaheim Resort VehiclePositions  Trip < 30 minutes   \n",
       "5  Anaheim Resort VehiclePositions  Trip < 30 minutes   \n",
       "6  Anaheim Resort VehiclePositions  Trip < 30 minutes   \n",
       "7  Anaheim Resort VehiclePositions  Trip < 30 minutes   \n",
       "8  Anaheim Resort VehiclePositions  Trip < 30 minutes   \n",
       "9  Anaheim Resort VehiclePositions  Trip < 30 minutes   \n",
       "\n",
       "   rounded_rt_data_proportion_percentage  rt_trip_counts_by_operator  \\\n",
       "0                                    100                      336.00   \n",
       "1                                      0                      336.00   \n",
       "2                                     10                      336.00   \n",
       "3                                     20                      336.00   \n",
       "4                                     30                      336.00   \n",
       "5                                     40                      336.00   \n",
       "6                                     50                      336.00   \n",
       "7                                     60                      336.00   \n",
       "8                                     70                      336.00   \n",
       "9                                     80                      336.00   \n",
       "\n",
       "   total_trips                                 categories  percentage_of_trips  \n",
       "0           22  Trip < 1.5 hours 100% of RT vs. Scheduled                 6.55  \n",
       "1            2   Trip < 30 minutes 0% of RT vs. Scheduled                 0.60  \n",
       "2            1  Trip < 30 minutes 10% of RT vs. Scheduled                 0.30  \n",
       "3            1  Trip < 30 minutes 20% of RT vs. Scheduled                 0.30  \n",
       "4            4  Trip < 30 minutes 30% of RT vs. Scheduled                 1.19  \n",
       "5            3  Trip < 30 minutes 40% of RT vs. Scheduled                 0.89  \n",
       "6            1  Trip < 30 minutes 50% of RT vs. Scheduled                 0.30  \n",
       "7            1  Trip < 30 minutes 60% of RT vs. Scheduled                 0.30  \n",
       "8            1  Trip < 30 minutes 70% of RT vs. Scheduled                 0.30  \n",
       "9            7  Trip < 30 minutes 80% of RT vs. Scheduled                 2.08  "
      ]
     },
     "execution_count": 68,
     "metadata": {},
     "output_type": "execute_result"
    }
   ],
   "source": [
    "rt_trip_time.head(10)"
   ]
  },
  {
   "cell_type": "code",
   "execution_count": null,
   "id": "b6401fc5-f53a-45d6-9429-3020d9ce1654",
   "metadata": {},
   "outputs": [],
   "source": [
    "threshold_utils.bar_chart(rt_trip_time,  \"percentage_of_trips\",'categories',\n",
    "    rt_trip_time.columns.tolist(), \"% of RT Minutes vs Scheduled Trip\").add_selection(selection).transform_filter(selection) "
   ]
  },
  {
   "cell_type": "markdown",
   "id": "11e71f72-431c-4a8e-ba15-c3ee9215b46a",
   "metadata": {},
   "source": [
    "#### Scratch"
   ]
  },
  {
   "cell_type": "code",
   "execution_count": null,
   "id": "2b48705b-1149-4819-9252-fb4f6b4a0968",
   "metadata": {},
   "outputs": [],
   "source": [
    "def create_valid_stats(df):\n",
    "    # Prepare valid stats\n",
    "    pings_trip_duration_ops = summary_valid_trips_by_cutoff(df, \"actual_trip_duration_minutes\", \"+ min\", [15,30,60], [1,2,3])\n",
    "    rt_data_available = summary_valid_trips_by_cutoff(df,\"rt_data_proportion\", \"%+\", [20,40,60,80,100], [1,2,3], True)\n",
    "    \n",
    "     # Clean df\n",
    "    pings_trip_duration_ops = threshold_utils.pre_clean(pings_trip_duration_ops)\n",
    "    rt_data_available = threshold_utils.pre_clean(rt_data_available)\n",
    "    \n",
    "    return pings_trip_duration_ops,rt_data_available"
   ]
  },
  {
   "cell_type": "code",
   "execution_count": null,
   "id": "16908890-c998-4b80-9d6c-6c7cfa8fcad7",
   "metadata": {},
   "outputs": [],
   "source": [
    "def operator_visuals(df):\n",
    "    \"\"\"\n",
    "    Return one chart for trip time & # of pings\n",
    "    and another chart for RT vs Scheduled\n",
    "    data\n",
    "    \"\"\"\n",
    "    pings_trip_duration_ops,rt_data_available = create_valid_stats(df)\n",
    "    \n",
    "    # Prepare dropdown menu\n",
    "    dropdown_list = pings_trip_duration_ops[\"Gtfs Dataset Name\"].sort_values().unique().tolist()\n",
    "    dropdown = alt.binding_select(options=[None] + dropdown_list, labels = ['All'] + dropdown_list, name = \"Operator\")    \n",
    "    selection = alt.selection_single(fields=['Gtfs Dataset Name'], bind=dropdown)\n",
    "    \n",
    "    # Create charts\n",
    "    pings_chart = threshold_utils.bar_chart(pings_trip_duration_ops, 'Percentage Usable Trips', \"Cutoff\",\n",
    "    ['Gtfs Dataset Key', 'Gtfs Dataset Name','N Trips',\n",
    "    'Cutoff', 'Percentage Usable Trips'], \"Pings and RT Trip Time Elapsed\") \n",
    "    \n",
    "    rt_chart = threshold_utils.bar_chart(rt_data_available, 'Percentage Usable Trips', \"Cutoff\", \n",
    "                                         ['Gtfs Dataset Key', 'Gtfs Dataset Name','Trip Cutoff', 'Percentage Usable Trips', 'N Trips'],\n",
    "                          \"Real Time vs. Scheduled Data Percentage\")\n",
    "    \n",
    "    # Clean Charts\n",
    "    pings_chart = threshold_utils.chart_size(pings_chart.add_selection(selection).transform_filter(selection).interactive(), 500, 400)\n",
    "    rt_chart = threshold_utils.chart_size(rt_chart.add_selection(selection).transform_filter(selection).interactive(), 500, 400)\n",
    "    \n",
    "    return pings_chart & rt_chart"
   ]
  },
  {
   "cell_type": "code",
   "execution_count": null,
   "id": "6646a7ab-3e80-4254-b240-a7fa267686bd",
   "metadata": {},
   "outputs": [],
   "source": [
    "# operator_visuals(final)"
   ]
  },
  {
   "cell_type": "markdown",
   "id": "5bf4ce18-dff1-4660-8c8c-aa79e3707ece",
   "metadata": {},
   "source": [
    "* Double check with Unitrans"
   ]
  },
  {
   "cell_type": "code",
   "execution_count": null,
   "id": "dfbafc59-4311-445f-a65a-9d2fe3ad4e03",
   "metadata": {
    "tags": []
   },
   "outputs": [],
   "source": [
    "# len(final[(final[\"_gtfs_dataset_name\"] == \"Unitrans Vehicle Positions\") & (final[\"pings_per_minute\"] > 1) & (final[\"actual_trip_duration_minutes\"] > 15)])"
   ]
  },
  {
   "cell_type": "code",
   "execution_count": null,
   "id": "b34434b0-9b88-4069-8b97-7d2018019398",
   "metadata": {},
   "outputs": [],
   "source": [
    "# len(final.loc[final._gtfs_dataset_name == \"Unitrans Vehicle Positions\"])"
   ]
  },
  {
   "cell_type": "code",
   "execution_count": null,
   "id": "d1a7951a-3cc5-4233-9156-1af74e3ba2db",
   "metadata": {
    "scrolled": true,
    "tags": []
   },
   "outputs": [],
   "source": [
    "# final.loc[final._gtfs_dataset_name == \"Unitrans Vehicle Positions\"][['actual_trip_duration_minutes', 'rt_data_proportion','pings_per_minute']].sort_values('actual_trip_duration_minutes')"
   ]
  },
  {
   "cell_type": "code",
   "execution_count": null,
   "id": "849c9555-dacc-4308-bff1-512f821baa74",
   "metadata": {
    "scrolled": true,
    "tags": []
   },
   "outputs": [],
   "source": [
    "# final[(final[\"_gtfs_dataset_name\"] == \"Unitrans Vehicle Positions\") & (final[\"pings_per_minute\"] > 1) & (final[\"actual_trip_duration_minutes\"] > 15)]"
   ]
  },
  {
   "cell_type": "markdown",
   "id": "7b285f3e-656a-4b46-9676-03459e2b6d6f",
   "metadata": {},
   "source": [
    "* Check with Redding"
   ]
  },
  {
   "cell_type": "code",
   "execution_count": null,
   "id": "37e23fe3-dd89-45ac-b83f-6af7916c05c6",
   "metadata": {},
   "outputs": [],
   "source": [
    "# final[(final[\"_gtfs_dataset_name\"] == \"Redding Vehicle Positions\")].shape"
   ]
  },
  {
   "cell_type": "code",
   "execution_count": null,
   "id": "82d1727e-e1db-4583-89d3-3db5c826fb7c",
   "metadata": {},
   "outputs": [],
   "source": [
    "# final[(final[\"_gtfs_dataset_name\"] == \"Redding Vehicle Positions\") & (final[\"rt_data_proportion\"] < 20)]"
   ]
  },
  {
   "cell_type": "code",
   "execution_count": null,
   "id": "c1ae657e-4199-40b2-9279-ccba5c39a16a",
   "metadata": {
    "tags": []
   },
   "outputs": [],
   "source": [
    "# len(final[(final[\"_gtfs_dataset_name\"] == \"Redding Vehicle Positions\") & (final[\"rt_data_proportion\"] > 20)])"
   ]
  },
  {
   "cell_type": "markdown",
   "id": "96738d9d-9383-4010-a696-b8f14a7b280a",
   "metadata": {},
   "source": [
    "#### Statewide"
   ]
  },
  {
   "cell_type": "code",
   "execution_count": null,
   "id": "ba975a10-322e-4c06-a710-71d25af03512",
   "metadata": {},
   "outputs": [],
   "source": [
    "def statewide_visuals(df):\n",
    "    # Prepare valid stats\n",
    "    pings_trip_duration_ops,rt_data_available = create_valid_stats(df)\n",
    "    \n",
    "    # Summarize to statewide level\n",
    "    def statewide(df): \n",
    "        summary = (df\n",
    "             .groupby(['Cutoff',])\n",
    "             .agg({'Rt Trip Counts By Operator':'max','N Trips':'max'})\n",
    "             .reset_index()\n",
    "             .rename(columns = {'Rt Trip Counts By Operator':'All Trips'})\n",
    "            )\n",
    "        \n",
    "        summary['Percentage of Usable Trips'] = summary['N Trips']/summary['All Trips']*100\n",
    "        return summary\n",
    "    \n",
    "    # Aggregate valid stats to statewide level\n",
    "    statewide_pings = statewide(pings_trip_duration_ops)\n",
    "    statewide_rt = statewide(rt_data_available)\n",
    "    \n",
    "    # Charts\n",
    "    pings_chart = threshold_utils.bar_chart(statewide_pings,  'Percentage of Usable Trips', \"Cutoff\", statewide_pings.columns.tolist(), \"Statewide Pings and RT Trip Time Elapsed\") \n",
    "    rt_chart = threshold_utils.bar_chart(statewide_rt,  'Percentage of Usable Trips', \"Cutoff\",statewide_rt.columns.tolist(), \"Statewide RT vs. Scheduled Data\") \n",
    "    \n",
    "     # Clean Charts\n",
    "    pings_chart = threshold_utils.chart_size(pings_chart.interactive(), 500, 400)\n",
    "    rt_chart = threshold_utils.chart_size(rt_chart.interactive(), 500, 400)\n",
    "    \n",
    "    return pings_chart & rt_chart"
   ]
  },
  {
   "cell_type": "code",
   "execution_count": null,
   "id": "a69e3d08-e90f-40f5-9125-1d36c5b9fab6",
   "metadata": {},
   "outputs": [],
   "source": [
    "# statewide_visuals(final)"
   ]
  }
 ],
 "metadata": {
  "kernelspec": {
   "display_name": "Python 3 (ipykernel)",
   "language": "python",
   "name": "python3"
  },
  "language_info": {
   "codemirror_mode": {
    "name": "ipython",
    "version": 3
   },
   "file_extension": ".py",
   "mimetype": "text/x-python",
   "name": "python",
   "nbconvert_exporter": "python",
   "pygments_lexer": "ipython3",
   "version": "3.9.13"
  }
 },
 "nbformat": 4,
 "nbformat_minor": 5
}
