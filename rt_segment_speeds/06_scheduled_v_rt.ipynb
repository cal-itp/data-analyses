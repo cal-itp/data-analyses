{
 "cells": [
  {
   "cell_type": "markdown",
   "id": "bca2191e-1144-4049-82bc-dc3ed316452f",
   "metadata": {},
   "source": [
    "## Scheduled vs, RT total trip time"
   ]
  },
  {
   "cell_type": "code",
   "execution_count": 1,
   "id": "8572a0ff-ca54-41c7-9ea8-4fc8c378b180",
   "metadata": {},
   "outputs": [
    {
     "name": "stderr",
     "output_type": "stream",
     "text": [
      "/opt/conda/lib/python3.9/site-packages/geopandas/_compat.py:123: UserWarning: The Shapely GEOS version (3.10.3-CAPI-1.16.1) is incompatible with the GEOS version PyGEOS was compiled with (3.10.1-CAPI-1.16.0). Conversions between both will be slow.\n",
      "  warnings.warn(\n"
     ]
    }
   ],
   "source": [
    "import geopandas as gpd\n",
    "import numpy as np\n",
    "import pandas as pd\n",
    "import dask.dataframe as dd\n",
    "import datetime \n",
    "from calitp_data_analysis.sql import to_snakecase"
   ]
  },
  {
   "cell_type": "code",
   "execution_count": 2,
   "id": "bafee781-998e-42b8-a1a2-b1509fadc873",
   "metadata": {},
   "outputs": [],
   "source": [
    "pd.options.display.max_columns = 100\n",
    "pd.options.display.float_format = \"{:.2f}\".format\n",
    "pd.set_option(\"display.max_rows\", None)\n",
    "pd.set_option(\"display.max_colwidth\", None)"
   ]
  },
  {
   "cell_type": "code",
   "execution_count": 3,
   "id": "491c1fad-499d-4ce0-b5f2-1dbebd242fe3",
   "metadata": {},
   "outputs": [],
   "source": [
    "import _threshold_utils as threshold_utils\n",
    "import altair as alt\n",
    "from segment_speed_utils import helpers, sched_rt_utils\n",
    "from segment_speed_utils.project_vars import analysis_date, SEGMENT_GCS"
   ]
  },
  {
   "cell_type": "code",
   "execution_count": 4,
   "id": "aece263c-c415-4343-b726-ef2acbff7817",
   "metadata": {},
   "outputs": [],
   "source": [
    "import gcsfs\n",
    "fs = gcsfs.GCSFileSystem()"
   ]
  },
  {
   "cell_type": "code",
   "execution_count": 5,
   "id": "8c9860ab-9118-4fbf-a455-580a3244f2e1",
   "metadata": {},
   "outputs": [],
   "source": [
    "import intake\n",
    "catalog = intake.open_catalog(\"./catalog.yml\")"
   ]
  },
  {
   "cell_type": "markdown",
   "id": "a8d007df-109d-4123-8f74-57eb9ff5b234",
   "metadata": {
    "tags": []
   },
   "source": [
    "### RT\n",
    "#### Catalog"
   ]
  },
  {
   "cell_type": "code",
   "execution_count": 6,
   "id": "500833f0-6b78-4dc1-9444-022423e27848",
   "metadata": {},
   "outputs": [],
   "source": [
    "#rt_trips = catalog.rt_trip_diagnostics(analysis_date = analysis_date).read()"
   ]
  },
  {
   "cell_type": "markdown",
   "id": "0e81a899-7848-4e32-b6fc-fdbb2f255d45",
   "metadata": {},
   "source": [
    "#### Original file from `b1_rt_trip_diagnostics`"
   ]
  },
  {
   "cell_type": "code",
   "execution_count": 7,
   "id": "7aeeff05-75b6-4f33-955f-15bcad235048",
   "metadata": {},
   "outputs": [],
   "source": [
    "ddf = helpers.import_vehicle_positions(\n",
    "        gcs_folder = f\"{SEGMENT_GCS}vp_sjoin/\",\n",
    "        file_name = f\"vp_route_segment_{analysis_date}/\",\n",
    "        file_type = \"df\",\n",
    "        columns = [\"gtfs_dataset_key\", \"_gtfs_dataset_name\", \n",
    "                   \"trip_id\", \"route_dir_identifier\",\n",
    "                   \"location_timestamp\"],\n",
    "        partitioned = True\n",
    "    ).repartition(partition_size=\"85MB\")"
   ]
  },
  {
   "cell_type": "code",
   "execution_count": 8,
   "id": "1891dd7c-2415-4e52-8b2b-7e771cf29e4b",
   "metadata": {},
   "outputs": [],
   "source": [
    "vp = ddf.compute()"
   ]
  },
  {
   "cell_type": "code",
   "execution_count": 9,
   "id": "f7306b94-502f-4071-b63e-5a647287445e",
   "metadata": {},
   "outputs": [
    {
     "data": {
      "text/plain": [
       "(10668072, 5)"
      ]
     },
     "execution_count": 9,
     "metadata": {},
     "output_type": "execute_result"
    }
   ],
   "source": [
    "vp.shape"
   ]
  },
  {
   "cell_type": "code",
   "execution_count": 10,
   "id": "a1791c43-4c42-42a0-90c6-c0ac7ec564c7",
   "metadata": {},
   "outputs": [
    {
     "data": {
      "text/plain": [
       "10658575"
      ]
     },
     "execution_count": 10,
     "metadata": {},
     "output_type": "execute_result"
    }
   ],
   "source": [
    "# Checkout duplicates - 9,500 less rows.\n",
    "len(vp.drop_duplicates(subset = ['trip_id','location_timestamp']))"
   ]
  },
  {
   "cell_type": "code",
   "execution_count": 11,
   "id": "c9f8343c-e4d5-4291-ab3e-832777106bd9",
   "metadata": {},
   "outputs": [
    {
     "data": {
      "text/plain": [
       "9497"
      ]
     },
     "execution_count": 11,
     "metadata": {},
     "output_type": "execute_result"
    }
   ],
   "source": [
    "10668072-10658575"
   ]
  },
  {
   "cell_type": "code",
   "execution_count": 12,
   "id": "aa623b09-5c6d-4b85-856e-6b14a49be6aa",
   "metadata": {},
   "outputs": [
    {
     "data": {
      "text/plain": [
       "10668072"
      ]
     },
     "execution_count": 12,
     "metadata": {},
     "output_type": "execute_result"
    }
   ],
   "source": [
    "len(vp.drop_duplicates(subset = [\"gtfs_dataset_key\",'trip_id','location_timestamp']))"
   ]
  },
  {
   "cell_type": "code",
   "execution_count": 13,
   "id": "229db28f-1e73-4c2a-bd23-b5fc256a4b54",
   "metadata": {},
   "outputs": [
    {
     "data": {
      "text/html": [
       "<div>\n",
       "<style scoped>\n",
       "    .dataframe tbody tr th:only-of-type {\n",
       "        vertical-align: middle;\n",
       "    }\n",
       "\n",
       "    .dataframe tbody tr th {\n",
       "        vertical-align: top;\n",
       "    }\n",
       "\n",
       "    .dataframe thead th {\n",
       "        text-align: right;\n",
       "    }\n",
       "</style>\n",
       "<table border=\"1\" class=\"dataframe\">\n",
       "  <thead>\n",
       "    <tr style=\"text-align: right;\">\n",
       "      <th></th>\n",
       "      <th>gtfs_dataset_key</th>\n",
       "      <th>_gtfs_dataset_name</th>\n",
       "      <th>trip_id</th>\n",
       "      <th>route_dir_identifier</th>\n",
       "      <th>location_timestamp</th>\n",
       "    </tr>\n",
       "  </thead>\n",
       "  <tbody>\n",
       "    <tr>\n",
       "      <th>9615417</th>\n",
       "      <td>4594028c6c1ebbb6dbfb4284d7510b4e</td>\n",
       "      <td>Foothill Vehicle Positions</td>\n",
       "      <td>t4D8-b27E6-sl5</td>\n",
       "      <td>3732307419</td>\n",
       "      <td>2023-01-18 21:46:12+00:00</td>\n",
       "    </tr>\n",
       "  </tbody>\n",
       "</table>\n",
       "</div>"
      ],
      "text/plain": [
       "                         gtfs_dataset_key          _gtfs_dataset_name  \\\n",
       "9615417  4594028c6c1ebbb6dbfb4284d7510b4e  Foothill Vehicle Positions   \n",
       "\n",
       "                trip_id  route_dir_identifier        location_timestamp  \n",
       "9615417  t4D8-b27E6-sl5            3732307419 2023-01-18 21:46:12+00:00  "
      ]
     },
     "execution_count": 13,
     "metadata": {},
     "output_type": "execute_result"
    }
   ],
   "source": [
    "vp.sample()"
   ]
  },
  {
   "cell_type": "code",
   "execution_count": 29,
   "id": "4014dd05-7ac0-4ef1-868e-8ae2657ca650",
   "metadata": {},
   "outputs": [],
   "source": [
    "def start_end_pings(df):\n",
    "    group_cols = [\"_gtfs_dataset_name\", \"gtfs_dataset_key\", \"trip_id\"]\n",
    "    \n",
    "    # Find the max and min location stamp \n",
    "    # for each gtfs dataset-trip_id to determine\n",
    "    # start and end date\n",
    "    start_end = (df.groupby(group_cols)\n",
    "        .agg({\"location_timestamp\": [ \"min\", \"max\"]})\n",
    "        .reset_index()\n",
    "        .rename(columns = {'min':'start', 'max':'end'})\n",
    "      ) \n",
    "\n",
    "    start_end.columns = start_end.columns.droplevel()\n",
    "    start_end.columns.values[0] = \"_gtfs_dataset_name\"\n",
    "    start_end.columns.values[1] = \"gtfs_dataset_key\"\n",
    "    start_end.columns.values[2] = \"trip_id\"\n",
    "    \n",
    "    # Find number of pings by \n",
    "    # counting nunique location_timestamps\n",
    "    pings = (df.groupby(group_cols)\n",
    "          .agg({'location_timestamp':'nunique'})\n",
    "          .reset_index()\n",
    "          .rename(columns = {'location_timestamp':'trip_ping_count'})\n",
    "         )\n",
    "    \n",
    "    # Find number of trips for each operator\n",
    "    trips_ops = (df\n",
    "                 .groupby([\"_gtfs_dataset_name\", \"gtfs_dataset_key\"])\n",
    "                 .agg({'trip_id':'nunique'})\n",
    "                 .reset_index()\n",
    "                 .rename(columns = {'trip_id':'trips_by_operator'})\n",
    "         )\n",
    "                 \n",
    "    # Merge these 2 \n",
    "    m1 = (\n",
    "        start_end.merge(\n",
    "            pings, how=\"inner\", on = group_cols\n",
    "        )\n",
    "        .merge(trips_ops, how=\"inner\", on= [\"_gtfs_dataset_name\", \"gtfs_dataset_key\"])\n",
    "    )\n",
    "    return m1"
   ]
  },
  {
   "cell_type": "code",
   "execution_count": 30,
   "id": "31207b02-50d0-4a7c-955b-3d2c63202852",
   "metadata": {},
   "outputs": [],
   "source": [
    "vp2 = start_end_pings(vp)"
   ]
  },
  {
   "cell_type": "code",
   "execution_count": 31,
   "id": "0341472d-6a1d-48fe-a77a-191452ccde03",
   "metadata": {},
   "outputs": [
    {
     "data": {
      "text/html": [
       "<div>\n",
       "<style scoped>\n",
       "    .dataframe tbody tr th:only-of-type {\n",
       "        vertical-align: middle;\n",
       "    }\n",
       "\n",
       "    .dataframe tbody tr th {\n",
       "        vertical-align: top;\n",
       "    }\n",
       "\n",
       "    .dataframe thead th {\n",
       "        text-align: right;\n",
       "    }\n",
       "</style>\n",
       "<table border=\"1\" class=\"dataframe\">\n",
       "  <thead>\n",
       "    <tr style=\"text-align: right;\">\n",
       "      <th></th>\n",
       "      <th>_gtfs_dataset_name</th>\n",
       "      <th>gtfs_dataset_key</th>\n",
       "      <th>trip_id</th>\n",
       "      <th>start</th>\n",
       "      <th>end</th>\n",
       "      <th>trip_ping_count</th>\n",
       "      <th>trips_by_operator</th>\n",
       "    </tr>\n",
       "  </thead>\n",
       "  <tbody>\n",
       "    <tr>\n",
       "      <th>56658</th>\n",
       "      <td>Riverside VehiclePositions</td>\n",
       "      <td>f1497340b654f3ce925f8b8c2f83e1c2</td>\n",
       "      <td>1468020</td>\n",
       "      <td>2023-01-18 18:07:31+00:00</td>\n",
       "      <td>2023-01-18 19:39:42+00:00</td>\n",
       "      <td>183</td>\n",
       "      <td>1094</td>\n",
       "    </tr>\n",
       "  </tbody>\n",
       "</table>\n",
       "</div>"
      ],
      "text/plain": [
       "               _gtfs_dataset_name                  gtfs_dataset_key  trip_id  \\\n",
       "56658  Riverside VehiclePositions  f1497340b654f3ce925f8b8c2f83e1c2  1468020   \n",
       "\n",
       "                          start                       end  trip_ping_count  \\\n",
       "56658 2023-01-18 18:07:31+00:00 2023-01-18 19:39:42+00:00              183   \n",
       "\n",
       "       trips_by_operator  \n",
       "56658               1094  "
      ]
     },
     "execution_count": 31,
     "metadata": {},
     "output_type": "execute_result"
    }
   ],
   "source": [
    "vp2.sample()"
   ]
  },
  {
   "cell_type": "code",
   "execution_count": 18,
   "id": "4ba79238-a965-4cb1-9d1b-80db28da50e8",
   "metadata": {},
   "outputs": [
    {
     "data": {
      "text/plain": [
       "69975"
      ]
     },
     "execution_count": 18,
     "metadata": {},
     "output_type": "execute_result"
    }
   ],
   "source": [
    "# No duplicates. \n",
    "len(vp2.drop_duplicates(subset = ['trip_id','start','end']))"
   ]
  },
  {
   "cell_type": "code",
   "execution_count": 43,
   "id": "d4fe834a-fe52-4dde-90e0-5aef2099e2a1",
   "metadata": {},
   "outputs": [
    {
     "data": {
      "text/plain": [
       "(<UTC>, <UTC>)"
      ]
     },
     "execution_count": 43,
     "metadata": {},
     "output_type": "execute_result"
    }
   ],
   "source": [
    "vp2.end.dt.tz, vp2.start.dt.tz"
   ]
  },
  {
   "cell_type": "markdown",
   "id": "02639577-2f00-444a-8115-6f56d0db52ed",
   "metadata": {},
   "source": [
    "### Timezone\n",
    "* Convert from UTC to Pacific to Naive\n",
    "* https://stackoverflow.com/questions/24281525/what-is-the-point-of-a-naive-datetimedf.select_dtypes(include=['datetime64'])"
   ]
  },
  {
   "cell_type": "code",
   "execution_count": 45,
   "id": "c165e988-d9e6-47c3-95a0-368941511072",
   "metadata": {},
   "outputs": [],
   "source": [
    "def naive_timezone(df):\n",
    "    \"\"\"\n",
    "    Convert UTC to PST to Naive. \n",
    "    \"\"\"\n",
    "    PACIFIC_TIMEZONE = \"US/Pacific\"\n",
    "    \n",
    "    # Grab datetime columns\n",
    "    dt_cols = [col for col in df.columns if df[col].dtype == 'datetime64[ns, UTC]']\n",
    "    \n",
    "    for col in dt_cols:\n",
    "        df[col] = df[col].dt.tz_convert(PACIFIC_TIMEZONE).apply(lambda t: t.replace(tzinfo=None))\n",
    "        \n",
    "    return df "
   ]
  },
  {
   "cell_type": "code",
   "execution_count": 46,
   "id": "4603392f-4c35-4711-83da-bb6efe1f8113",
   "metadata": {},
   "outputs": [],
   "source": [
    "vp2 = naive_timezone(vp2)"
   ]
  },
  {
   "cell_type": "code",
   "execution_count": 47,
   "id": "bea460b6-1b89-4ff0-9141-d92353d851d4",
   "metadata": {},
   "outputs": [
    {
     "data": {
      "text/plain": [
       "(None, None)"
      ]
     },
     "execution_count": 47,
     "metadata": {},
     "output_type": "execute_result"
    }
   ],
   "source": [
    "vp2.end.dt.tz, vp2.start.dt.tz"
   ]
  },
  {
   "cell_type": "code",
   "execution_count": 48,
   "id": "3dc4d7b4-460b-420f-8d74-2d33f8313b13",
   "metadata": {},
   "outputs": [],
   "source": [
    "def convert_timestamp_to_hrs_mins(\n",
    "    df: pd.DataFrame, \n",
    "    timestamp_col: list,\n",
    "    minutes: bool = True,\n",
    ") -> pd.DataFrame: \n",
    "    \"\"\"\n",
    "    Convert timestamp into minutes or seconds.\n",
    "    \"\"\"\n",
    "    if minutes:\n",
    "        for c in timestamp_col:\n",
    "            df = df.assign(\n",
    "                time_min = ((df[c].dt.hour * 60) + \n",
    "                                (df[c].dt.minute) + \n",
    "                                (df[c].dt.second/60)\n",
    "                           ),\n",
    "            ).rename(columns = {\"time_min\": f\"{c}_minutes\"})\n",
    "    \n",
    "    else:\n",
    "        for c in timestamp_col:\n",
    "            df = df.assign(\n",
    "                time_sec = ((df[timestamp_col].dt.hour * 3_600) + \n",
    "                                (df[timestamp_col].dt.minute * 60) + \n",
    "                                (df[timestamp_col].dt.second)\n",
    "                           ),\n",
    "            ).rename(columns = {\"time_sec\": f\"{timestamp_col}_sec\"})\n",
    "\n",
    "    return df"
   ]
  },
  {
   "cell_type": "code",
   "execution_count": 49,
   "id": "a3474ef5-7ccf-4c6d-b35e-007aabb4bf22",
   "metadata": {},
   "outputs": [],
   "source": [
    "vp2 = convert_timestamp_to_hrs_mins(vp2, ['start','end'])"
   ]
  },
  {
   "cell_type": "code",
   "execution_count": 50,
   "id": "d092cfd2-94a3-4e56-96d3-fa5de6f4477a",
   "metadata": {},
   "outputs": [
    {
     "data": {
      "text/plain": [
       "69975"
      ]
     },
     "execution_count": 50,
     "metadata": {},
     "output_type": "execute_result"
    }
   ],
   "source": [
    "len(vp2.drop_duplicates(subset = ['_gtfs_dataset_name','gtfs_dataset_key','trip_id','trip_ping_count','start_minutes','end_minutes']))"
   ]
  },
  {
   "cell_type": "code",
   "execution_count": 51,
   "id": "143add83-6603-44d7-8d88-b11d7c3477a7",
   "metadata": {},
   "outputs": [
    {
     "data": {
      "text/plain": [
       "69975"
      ]
     },
     "execution_count": 51,
     "metadata": {},
     "output_type": "execute_result"
    }
   ],
   "source": [
    "len(vp2.drop_duplicates(subset = ['trip_id','start_minutes','end_minutes']))"
   ]
  },
  {
   "cell_type": "code",
   "execution_count": 52,
   "id": "db55bad3-32b9-4676-b111-c0f570da6354",
   "metadata": {},
   "outputs": [
    {
     "data": {
      "text/html": [
       "<div>\n",
       "<style scoped>\n",
       "    .dataframe tbody tr th:only-of-type {\n",
       "        vertical-align: middle;\n",
       "    }\n",
       "\n",
       "    .dataframe tbody tr th {\n",
       "        vertical-align: top;\n",
       "    }\n",
       "\n",
       "    .dataframe thead th {\n",
       "        text-align: right;\n",
       "    }\n",
       "</style>\n",
       "<table border=\"1\" class=\"dataframe\">\n",
       "  <thead>\n",
       "    <tr style=\"text-align: right;\">\n",
       "      <th></th>\n",
       "      <th>_gtfs_dataset_name</th>\n",
       "      <th>gtfs_dataset_key</th>\n",
       "      <th>trip_id</th>\n",
       "      <th>start</th>\n",
       "      <th>end</th>\n",
       "      <th>trip_ping_count</th>\n",
       "      <th>trips_by_operator</th>\n",
       "      <th>start_minutes</th>\n",
       "      <th>end_minutes</th>\n",
       "    </tr>\n",
       "  </thead>\n",
       "  <tbody>\n",
       "    <tr>\n",
       "      <th>34493</th>\n",
       "      <td>LA Metro Bus Vehicle Positions</td>\n",
       "      <td>7c48cc5675c9266fb6851070489c53e9</td>\n",
       "      <td>10014005020744-DEC22</td>\n",
       "      <td>2023-01-18 07:31:47</td>\n",
       "      <td>2023-01-18 09:32:09</td>\n",
       "      <td>362</td>\n",
       "      <td>13812</td>\n",
       "      <td>451.78</td>\n",
       "      <td>572.15</td>\n",
       "    </tr>\n",
       "  </tbody>\n",
       "</table>\n",
       "</div>"
      ],
      "text/plain": [
       "                   _gtfs_dataset_name                  gtfs_dataset_key  \\\n",
       "34493  LA Metro Bus Vehicle Positions  7c48cc5675c9266fb6851070489c53e9   \n",
       "\n",
       "                    trip_id               start                 end  \\\n",
       "34493  10014005020744-DEC22 2023-01-18 07:31:47 2023-01-18 09:32:09   \n",
       "\n",
       "       trip_ping_count  trips_by_operator  start_minutes  end_minutes  \n",
       "34493              362              13812         451.78       572.15  "
      ]
     },
     "execution_count": 52,
     "metadata": {},
     "output_type": "execute_result"
    }
   ],
   "source": [
    "vp2.sample()"
   ]
  },
  {
   "cell_type": "code",
   "execution_count": 53,
   "id": "df9e91b7-497f-4eb6-ab81-eb7ac3d5efd9",
   "metadata": {},
   "outputs": [
    {
     "data": {
      "text/plain": [
       "(70, 70)"
      ]
     },
     "execution_count": 53,
     "metadata": {},
     "output_type": "execute_result"
    }
   ],
   "source": [
    "vp2._gtfs_dataset_name.nunique(), vp2.gtfs_dataset_key.nunique()"
   ]
  },
  {
   "cell_type": "markdown",
   "id": "e0f2f842-9286-4e05-a054-af7a1e8e467e",
   "metadata": {
    "tags": []
   },
   "source": [
    "### Subset trips to 6am to 8pm to test\n",
    "* Only have trips that appear on January 18. \n",
    "* Trips that start after 6AM\n",
    "* Trips that end at 8PM."
   ]
  },
  {
   "cell_type": "code",
   "execution_count": 102,
   "id": "9d3e258c-ee38-4b96-ab7c-96bc274db501",
   "metadata": {},
   "outputs": [],
   "source": [
    "def filter_trips(df, date:str):\n",
    "    \n",
    "    # Filter by day\n",
    "    df = df[(df['start'].dt.strftime('%Y-%m-%d') == date) & (df['end'].dt.strftime('%Y-%m-%d') == date)].reset_index()\n",
    "    \n",
    "    # Filter by time\n",
    "    # https://stackoverflow.com/questions/65510529/how-to-filter-pandas-dataframe-by-time\n",
    "    time1 = pd.to_datetime('2023-01-18  06:00:00').strftime('%H:%M')\n",
    "    time2 = pd.to_datetime('2023-01-18  20:00:00').strftime('%H:%M')\n",
    "    df =df.loc[(df['start'].dt.strftime('%H:%M') >= time1 ) & (df['end'].dt.strftime('%H:%M') <= time2)].reset_index()\n",
    "    \n",
    "    # Find actual trip times\n",
    "    df['actual_trip_duration_minutes'] = (df['end_minutes']-df['start_minutes'])\n",
    "    \n",
    "    df = df.drop(columns = ['level_0', 'index'])\n",
    "    return df "
   ]
  },
  {
   "cell_type": "code",
   "execution_count": 103,
   "id": "acdc4421-1aad-4980-9d11-d3d15b9b59c5",
   "metadata": {},
   "outputs": [],
   "source": [
    "subset_vp = filter_trips(vp2, analysis_date)"
   ]
  },
  {
   "cell_type": "code",
   "execution_count": 57,
   "id": "d1e77b1d-89b6-49b0-8f13-a61179b14607",
   "metadata": {},
   "outputs": [],
   "source": [
    "# 5,000 less rows?? \n",
    "# len(m3) - len(m3.loc[(m3['start'].dt.strftime('%H:%M') >= time1 ) & (m3['end'].dt.strftime('%H:%M') <= time2)])"
   ]
  },
  {
   "cell_type": "code",
   "execution_count": 60,
   "id": "da3dc24c-9805-4f82-9e91-95764fecf2d2",
   "metadata": {},
   "outputs": [
    {
     "data": {
      "text/plain": [
       "0"
      ]
     },
     "execution_count": 60,
     "metadata": {},
     "output_type": "execute_result"
    }
   ],
   "source": [
    "# No more negative trips\n",
    "len(subset_vp.loc[subset_vp.actual_trip_duration_minutes < 0])"
   ]
  },
  {
   "cell_type": "code",
   "execution_count": 104,
   "id": "29ce9a9c-5e07-4ec1-9a2a-30707ea4fbb4",
   "metadata": {},
   "outputs": [
    {
     "data": {
      "text/html": [
       "<div>\n",
       "<style scoped>\n",
       "    .dataframe tbody tr th:only-of-type {\n",
       "        vertical-align: middle;\n",
       "    }\n",
       "\n",
       "    .dataframe tbody tr th {\n",
       "        vertical-align: top;\n",
       "    }\n",
       "\n",
       "    .dataframe thead th {\n",
       "        text-align: right;\n",
       "    }\n",
       "</style>\n",
       "<table border=\"1\" class=\"dataframe\">\n",
       "  <thead>\n",
       "    <tr style=\"text-align: right;\">\n",
       "      <th></th>\n",
       "      <th>_gtfs_dataset_name</th>\n",
       "      <th>gtfs_dataset_key</th>\n",
       "      <th>trip_id</th>\n",
       "      <th>start</th>\n",
       "      <th>end</th>\n",
       "      <th>trip_ping_count</th>\n",
       "      <th>trips_by_operator</th>\n",
       "      <th>start_minutes</th>\n",
       "      <th>end_minutes</th>\n",
       "      <th>actual_trip_duration_minutes</th>\n",
       "    </tr>\n",
       "  </thead>\n",
       "  <tbody>\n",
       "    <tr>\n",
       "      <th>27023</th>\n",
       "      <td>LA Metro Bus Vehicle Positions</td>\n",
       "      <td>7c48cc5675c9266fb6851070489c53e9</td>\n",
       "      <td>10901000571457-DEC22</td>\n",
       "      <td>2023-01-18 14:37:26</td>\n",
       "      <td>2023-01-18 15:34:45</td>\n",
       "      <td>165</td>\n",
       "      <td>13812</td>\n",
       "      <td>877.43</td>\n",
       "      <td>934.75</td>\n",
       "      <td>57.32</td>\n",
       "    </tr>\n",
       "  </tbody>\n",
       "</table>\n",
       "</div>"
      ],
      "text/plain": [
       "                   _gtfs_dataset_name                  gtfs_dataset_key  \\\n",
       "27023  LA Metro Bus Vehicle Positions  7c48cc5675c9266fb6851070489c53e9   \n",
       "\n",
       "                    trip_id               start                 end  \\\n",
       "27023  10901000571457-DEC22 2023-01-18 14:37:26 2023-01-18 15:34:45   \n",
       "\n",
       "       trip_ping_count  trips_by_operator  start_minutes  end_minutes  \\\n",
       "27023              165              13812         877.43       934.75   \n",
       "\n",
       "       actual_trip_duration_minutes  \n",
       "27023                         57.32  "
      ]
     },
     "execution_count": 104,
     "metadata": {},
     "output_type": "execute_result"
    }
   ],
   "source": [
    "subset_vp.sample()"
   ]
  },
  {
   "cell_type": "markdown",
   "id": "9314194a-70eb-4127-b49a-29b28f2b0536",
   "metadata": {},
   "source": [
    "### Outer Merge\n",
    "* Use an outer join in case there are trip_ids that appear in RT but not in schedule or vice versa\n",
    "* More trips in scheduled than RT."
   ]
  },
  {
   "cell_type": "code",
   "execution_count": 105,
   "id": "4081e559-335e-4eb0-99ea-2ae9e30b65e4",
   "metadata": {},
   "outputs": [],
   "source": [
    "def m_schedule_vp(vp_df, date: str):\n",
    "    \n",
    "    # Load scheduled trips\n",
    "    scheduled_trips = sched_rt_utils.crosswalk_scheduled_trip_grouping_with_rt_key(analysis_date = date, \n",
    "    keep_trip_cols = [\"feed_key\", \"trip_id\", \"service_hours\"])\n",
    "    \n",
    "    # Convert trip hours to minutes\n",
    "    scheduled_trips['scheduled_service_minutes'] = scheduled_trips.service_hours * 60\n",
    "    \n",
    "    # Merge\n",
    "    merge1 = pd.merge(vp_df, scheduled_trips, how=\"outer\", on=[\"gtfs_dataset_key\", \"trip_id\"], indicator=True)\n",
    "        \n",
    "    # Fill NA\n",
    "    #merge1 = merge1.fillna(\n",
    "    #merge1.dtypes.replace({\"float64\": 0.0, \"object\": \"None\"}))\n",
    "    \n",
    "    # Metrics\n",
    "    #merge1 = merge1.assign(\n",
    "   # rt_data_proportion = ((merge1.actual_trip_duration_minutes/merge1.scheduled_service_minutes)*100).fillna(0),\n",
    "   # pings_per_minute = (merge1.trip_ping_count/merge1.actual_trip_duration_minutes).fillna(0),\n",
    "\n",
    "   # )\n",
    "    \n",
    "    # Any proportion above 100, mask as 100\n",
    "   # merge1[\"rt_data_proportion\"] = merge1[\"rt_data_proportion\"].mask(merge1[\"rt_data_proportion\"] > 100, 100)\n",
    "    \n",
    "   # merge1 = merge1.assign(\n",
    "   # rounded_rt_data_proportion = ((merge1.rt_data_proportion/100)*10).astype(int)*10,\n",
    "  #  rounded_actual_trip_duration_minutes = ((merge1.actual_trip_duration_minutes/100)*10).astype(int)*10,\n",
    "  #  )\n",
    "    return merge1"
   ]
  },
  {
   "cell_type": "code",
   "execution_count": 106,
   "id": "8b08041b-3e80-4018-ade7-816672d50374",
   "metadata": {},
   "outputs": [],
   "source": [
    "merge1 = m_schedule_vp(subset_vp, analysis_date)"
   ]
  },
  {
   "cell_type": "code",
   "execution_count": 96,
   "id": "ff179c5b-084e-43a6-bf67-b9dce0cbf7c1",
   "metadata": {},
   "outputs": [
    {
     "data": {
      "text/plain": [
       "right_only    56259\n",
       "both          40834\n",
       "left_only         0\n",
       "Name: _merge, dtype: int64"
      ]
     },
     "execution_count": 96,
     "metadata": {},
     "output_type": "execute_result"
    }
   ],
   "source": [
    "merge1._merge.value_counts()"
   ]
  },
  {
   "cell_type": "code",
   "execution_count": 97,
   "id": "1318b0e1-e230-42e2-a63f-4dbc736dfa88",
   "metadata": {},
   "outputs": [
    {
     "data": {
      "text/html": [
       "<div>\n",
       "<style scoped>\n",
       "    .dataframe tbody tr th:only-of-type {\n",
       "        vertical-align: middle;\n",
       "    }\n",
       "\n",
       "    .dataframe tbody tr th {\n",
       "        vertical-align: top;\n",
       "    }\n",
       "\n",
       "    .dataframe thead th {\n",
       "        text-align: right;\n",
       "    }\n",
       "</style>\n",
       "<table border=\"1\" class=\"dataframe\">\n",
       "  <thead>\n",
       "    <tr style=\"text-align: right;\">\n",
       "      <th></th>\n",
       "      <th>level_0</th>\n",
       "      <th>index</th>\n",
       "      <th>_gtfs_dataset_name</th>\n",
       "      <th>gtfs_dataset_key</th>\n",
       "      <th>trip_id</th>\n",
       "      <th>start</th>\n",
       "      <th>end</th>\n",
       "      <th>trip_ping_count</th>\n",
       "      <th>trips_by_operator</th>\n",
       "      <th>start_minutes</th>\n",
       "      <th>end_minutes</th>\n",
       "      <th>actual_trip_duration_minutes</th>\n",
       "      <th>feed_key</th>\n",
       "      <th>service_hours</th>\n",
       "      <th>scheduled_service_minutes</th>\n",
       "      <th>_merge</th>\n",
       "    </tr>\n",
       "  </thead>\n",
       "  <tbody>\n",
       "    <tr>\n",
       "      <th>95562</th>\n",
       "      <td>NaN</td>\n",
       "      <td>NaN</td>\n",
       "      <td>NaN</td>\n",
       "      <td>03cadbffef6f3cd4ce839b218bc65e82</td>\n",
       "      <td>3283532</td>\n",
       "      <td>NaT</td>\n",
       "      <td>NaT</td>\n",
       "      <td>NaN</td>\n",
       "      <td>NaN</td>\n",
       "      <td>NaN</td>\n",
       "      <td>NaN</td>\n",
       "      <td>NaN</td>\n",
       "      <td>b9a0bc47bcf6590c67677f3af358f490</td>\n",
       "      <td>0.70</td>\n",
       "      <td>42.00</td>\n",
       "      <td>right_only</td>\n",
       "    </tr>\n",
       "  </tbody>\n",
       "</table>\n",
       "</div>"
      ],
      "text/plain": [
       "       level_0  index _gtfs_dataset_name                  gtfs_dataset_key  \\\n",
       "95562      NaN    NaN                NaN  03cadbffef6f3cd4ce839b218bc65e82   \n",
       "\n",
       "       trip_id start end  trip_ping_count  trips_by_operator  start_minutes  \\\n",
       "95562  3283532   NaT NaT              NaN                NaN            NaN   \n",
       "\n",
       "       end_minutes  actual_trip_duration_minutes  \\\n",
       "95562          NaN                           NaN   \n",
       "\n",
       "                               feed_key  service_hours  \\\n",
       "95562  b9a0bc47bcf6590c67677f3af358f490           0.70   \n",
       "\n",
       "       scheduled_service_minutes      _merge  \n",
       "95562                      42.00  right_only  "
      ]
     },
     "execution_count": 97,
     "metadata": {},
     "output_type": "execute_result"
    }
   ],
   "source": [
    "merge1.sample()"
   ]
  },
  {
   "cell_type": "code",
   "execution_count": null,
   "id": "2f2308c1-b6e0-4a7e-b6a5-9bcc37dbf5f3",
   "metadata": {},
   "outputs": [],
   "source": [
    "# Compare actual minutes recorded vs scheduled minutes\n",
    "m5['rt_data_proportion'] = ((m5.actual_trip_duration_minutes/m5.scheduled_service_minutes)*100).fillna(0)"
   ]
  },
  {
   "cell_type": "code",
   "execution_count": null,
   "id": "6cb74580-60e3-4e30-baed-c8bc0aa5577b",
   "metadata": {},
   "outputs": [],
   "source": [
    "# Any proportion above 100, mask as 100\n",
    "m5[\"rt_data_proportion\"] = m5[\"rt_data_proportion\"].mask(m5[\"rt_data_proportion\"] > 100, 100)"
   ]
  },
  {
   "cell_type": "code",
   "execution_count": null,
   "id": "f9642038-c444-4482-b499-c2f004a9b083",
   "metadata": {},
   "outputs": [],
   "source": [
    "m5.rt_data_proportion.value_counts().head(10)"
   ]
  },
  {
   "cell_type": "code",
   "execution_count": null,
   "id": "45e71d08-7af7-4637-93cf-22b91b606dca",
   "metadata": {},
   "outputs": [],
   "source": [
    "# Calculate the number of pings per minute \n",
    "m5['pings_per_minute'] =  (m5.trip_ping_count/m5.actual_trip_duration_minutes).fillna(0)"
   ]
  },
  {
   "cell_type": "code",
   "execution_count": null,
   "id": "432fe2b6-c620-4fb6-9d4f-5143b3db6192",
   "metadata": {},
   "outputs": [],
   "source": [
    "m5 = m5.drop(columns = ['_merge'])"
   ]
  },
  {
   "cell_type": "code",
   "execution_count": null,
   "id": "61bff6e8-1cb2-46dc-93d2-5ff5de31c153",
   "metadata": {},
   "outputs": [],
   "source": [
    "m5 = m5.fillna(\n",
    "    m5.dtypes.replace({\"float64\": 0.0, \"object\": \"None\"})\n",
    ")"
   ]
  },
  {
   "cell_type": "code",
   "execution_count": null,
   "id": "3b1a7caf-e639-4d36-90f2-620b07a19c71",
   "metadata": {},
   "outputs": [],
   "source": [
    "# Any figures below 0, replace it with 0 \n",
    "# m3.actual_trip_duration_minutes = m3.actual_trip_duration_minutes.clip(lower=0)"
   ]
  },
  {
   "cell_type": "code",
   "execution_count": null,
   "id": "76f427fe-17a4-437b-ae42-28fa63f5d42d",
   "metadata": {},
   "outputs": [],
   "source": [
    "# Round certain cols for plotting\n",
    "m5['rounded_rt_data_proportion'] = ((m5.rt_data_proportion/100)*10).astype(int)*10"
   ]
  },
  {
   "cell_type": "code",
   "execution_count": null,
   "id": "19256c83-6b93-442a-acbd-5790bba8e7d7",
   "metadata": {},
   "outputs": [],
   "source": [
    "m5['rounded_actual_trip_duration_minutes'] = ((m5.actual_trip_duration_minutes/100)*10).astype(int)*10"
   ]
  },
  {
   "cell_type": "code",
   "execution_count": null,
   "id": "7cdb49ad-c483-46d4-b217-1958af6258a2",
   "metadata": {},
   "outputs": [],
   "source": [
    "m5.gtfs_dataset_key.nunique(), m5._gtfs_dataset_name.nunique()"
   ]
  },
  {
   "cell_type": "code",
   "execution_count": null,
   "id": "475075aa-c1b1-4dcb-b41b-984ca9a4d534",
   "metadata": {},
   "outputs": [],
   "source": [
    "m6.rounded_rt_data_proportion.unique()"
   ]
  },
  {
   "cell_type": "code",
   "execution_count": null,
   "id": "5729f98e-a279-423f-9b65-4f3d73fafc24",
   "metadata": {
    "scrolled": true,
    "tags": []
   },
   "outputs": [],
   "source": [
    "m6.drop_duplicates(subset = ['gtfs_dataset_key', '_gtfs_dataset_name'])[[ '_gtfs_dataset_name','total_trips']]"
   ]
  },
  {
   "cell_type": "code",
   "execution_count": null,
   "id": "4006aff9-3efb-40e4-b25a-18fc7dabebd3",
   "metadata": {},
   "outputs": [],
   "source": [
    "# A lot of trips have only scheduled data \n",
    "m6.rounded_actual_trip_duration_minutes.value_counts()"
   ]
  },
  {
   "cell_type": "code",
   "execution_count": null,
   "id": "fa60e0eb-5263-4d2e-910d-1ed29daf5ddf",
   "metadata": {},
   "outputs": [],
   "source": [
    "m6_names = set(m6._gtfs_dataset_name.unique().tolist())"
   ]
  },
  {
   "cell_type": "code",
   "execution_count": null,
   "id": "9e350f25-fb6f-4622-86b3-b30a3a55077f",
   "metadata": {},
   "outputs": [],
   "source": [
    "m1_names = set(m1._gtfs_dataset_name.unique().tolist())"
   ]
  },
  {
   "cell_type": "code",
   "execution_count": null,
   "id": "fb89f226-a5dd-426c-b4a4-d830b56ec624",
   "metadata": {},
   "outputs": [],
   "source": [
    "m6_names - m1_names"
   ]
  },
  {
   "cell_type": "markdown",
   "id": "c6505c1e-3b25-45bd-a8fb-2cedc2f345a3",
   "metadata": {},
   "source": [
    "### Chart"
   ]
  },
  {
   "cell_type": "code",
   "execution_count": null,
   "id": "60936113-75ab-4067-b014-b30dbc54153f",
   "metadata": {},
   "outputs": [],
   "source": [
    "def summary_valid_trips_by_cutoff(df, time_col:str, phrase:str,\n",
    "                                  time_cutoffs: list, ping_cutoffs: list,\n",
    "                                  pings: bool = True):\n",
    "    \"\"\"\n",
    "    Find percentage & number of trips that meet trip time elapsed\n",
    "    and pings. \n",
    "    \"\"\"\n",
    "    final = pd.DataFrame()\n",
    "\n",
    "    if pings:\n",
    "        for t in time_cutoffs:\n",
    "            for s in ping_cutoffs:\n",
    "                valid = (\n",
    "                df[(df[time_col] >= t) & (df.pings_per_minute >= s)]\n",
    "                .groupby([\"gtfs_dataset_key\", \"_gtfs_dataset_name\", \"total_trips\"])\n",
    "                .trip_id.nunique()\n",
    "                .reset_index()\n",
    "                .rename(columns={\"trip_id\": \"n_trips\"})\n",
    "                )\n",
    "                \n",
    "                valid = valid.assign(\n",
    "                trip_cutoff=t, pings=s, cutoff=f\"{t} {phrase} & {s} ping(s)+ per minute\")\n",
    "\n",
    "            final = pd.concat([final, valid], axis=0)\n",
    "    else:\n",
    "        for t in time_cutoffs:\n",
    "            valid = (\n",
    "                df[(df[time_col] >= t)]\n",
    "                .groupby([\"gtfs_dataset_key\", \"_gtfs_dataset_name\", \"total_trips\"])\n",
    "                .trip_id.nunique()\n",
    "                .reset_index()\n",
    "                .rename(columns={\"trip_id\": \"n_trips\"})\n",
    "                )\n",
    "\n",
    "            valid = valid.assign(\n",
    "                 trip_cutoff=t,cutoff=f\"{t}{phrase}\"\n",
    "                )\n",
    "\n",
    "            final = pd.concat([final, valid], axis=0)\n",
    "\n",
    "    final = final.assign(percentage_usable_trips=final.n_trips.divide(final.total_trips) * 100)\n",
    "\n",
    "    return final"
   ]
  },
  {
   "cell_type": "code",
   "execution_count": null,
   "id": "e073f7c4-47b8-4a0f-a8dd-c5bc90e4f5df",
   "metadata": {},
   "outputs": [],
   "source": [
    "valid1 = summary_valid_trips_by_cutoff(m6, \"actual_trip_duration_minutes\", \"+ min\", [15,30,60,90,120], [1,2,3])"
   ]
  },
  {
   "cell_type": "code",
   "execution_count": null,
   "id": "9114d4f2-38f2-4807-a346-d8e87e2a3b16",
   "metadata": {},
   "outputs": [],
   "source": [
    "valid1.shape"
   ]
  },
  {
   "cell_type": "code",
   "execution_count": null,
   "id": "a41ac7d7-7f72-4150-a153-538a5a521e31",
   "metadata": {},
   "outputs": [],
   "source": [
    "valid1.columns"
   ]
  },
  {
   "cell_type": "code",
   "execution_count": null,
   "id": "3555080c-e881-411b-bfed-1790a9e7e61e",
   "metadata": {},
   "outputs": [],
   "source": [
    "dropdown_list = valid1[\"_gtfs_dataset_name\"].sort_values().unique().tolist()"
   ]
  },
  {
   "cell_type": "code",
   "execution_count": null,
   "id": "1a1469e3-2b1b-4f05-9542-2a99b992e38a",
   "metadata": {},
   "outputs": [],
   "source": [
    "dropdown = alt.binding_select(options=[None] + dropdown_list, labels = ['All'] + dropdown_list, name = \"Operator\")    \n",
    "selection = alt.selection_single(fields=['Gtfs Dataset Name'], bind=dropdown)"
   ]
  },
  {
   "cell_type": "code",
   "execution_count": null,
   "id": "f5d49ed5-97b3-400d-bd7c-99b18f68aa85",
   "metadata": {},
   "outputs": [],
   "source": [
    "valid1 = threshold_utils.pre_clean(valid1)"
   ]
  },
  {
   "cell_type": "code",
   "execution_count": null,
   "id": "8cb27e3c-ac06-40d0-ada0-e8f190009d53",
   "metadata": {},
   "outputs": [],
   "source": [
    "threshold_utils.bar_chart(valid1, 'Percentage Usable Trips', \"Cutoff\",\n",
    "['Gtfs Dataset Key', 'Gtfs Dataset Name','N Trips',\n",
    " 'Cutoff', 'Percentage Usable Trips'], \"Pings and RT Trip Time Elapsed\").add_selection(selection).transform_filter(selection).interactive()"
   ]
  },
  {
   "cell_type": "code",
   "execution_count": null,
   "id": "dfbafc59-4311-445f-a65a-9d2fe3ad4e03",
   "metadata": {
    "tags": []
   },
   "outputs": [],
   "source": [
    "# Check with just Unitrans\n",
    "len(m6[(m6[\"_gtfs_dataset_name\"] == \"Unitrans Vehicle Positions\") & (m6[\"pings_per_minute\"] > 1) & (m6[\"actual_trip_duration_minutes\"] > 15)])"
   ]
  },
  {
   "cell_type": "code",
   "execution_count": null,
   "id": "858ec5ff-581c-4c9d-887b-642886524b7f",
   "metadata": {
    "scrolled": true,
    "tags": []
   },
   "outputs": [],
   "source": [
    "# m1[(m1[\"_gtfs_dataset_name\"] == \"Unitrans Vehicle Positions\")]"
   ]
  },
  {
   "cell_type": "code",
   "execution_count": null,
   "id": "68099b29-e9f6-49d8-912d-d5c32f127828",
   "metadata": {
    "scrolled": true,
    "tags": []
   },
   "outputs": [],
   "source": [
    "# m6[(m6[\"_gtfs_dataset_name\"] == \"Unitrans Vehicle Positions\")][['_gtfs_dataset_name','actual_trip_duration_minutes','pings_per_minute']].sort_values('actual_trip_duration_minutes')                                  "
   ]
  },
  {
   "cell_type": "code",
   "execution_count": null,
   "id": "3a2bdb80-ae4d-4c96-b749-470306faea80",
   "metadata": {},
   "outputs": [],
   "source": [
    "(m5[(m5[\"_gtfs_dataset_name\"] == \"Unitrans Vehicle Positions\")])[['trip_id']].nunique()"
   ]
  },
  {
   "cell_type": "code",
   "execution_count": null,
   "id": "1bc13064-2758-4949-a074-c21e29f89835",
   "metadata": {},
   "outputs": [],
   "source": [
    "valid1.loc[valid1['Gtfs Dataset Name'] == \"Unitrans Vehicle Positions\"]"
   ]
  },
  {
   "cell_type": "code",
   "execution_count": null,
   "id": "c06881ce-d93e-4021-8792-b7a1cd6922f4",
   "metadata": {},
   "outputs": [],
   "source": [
    "valid2 = summary_valid_trips_by_cutoff(m6,\"rt_data_proportion\", \"%+\", [20,40,60,80,100], [], False)"
   ]
  },
  {
   "cell_type": "code",
   "execution_count": null,
   "id": "9d1988f5-d1eb-4724-89f6-2fb96c5b6851",
   "metadata": {},
   "outputs": [],
   "source": [
    "valid2.shape"
   ]
  },
  {
   "cell_type": "code",
   "execution_count": null,
   "id": "c7a1f376-7a0b-491b-89e6-861b6e76e279",
   "metadata": {},
   "outputs": [],
   "source": [
    "valid2 = threshold_utils.pre_clean(valid2)"
   ]
  },
  {
   "cell_type": "code",
   "execution_count": null,
   "id": "3169d93d-057f-402f-a634-38dac056fcdb",
   "metadata": {
    "tags": []
   },
   "outputs": [],
   "source": [
    "threshold_utils.bar_chart(valid2, 'Percentage Usable Trips', \"Cutoff\",\n",
    "['Gtfs Dataset Key', 'Gtfs Dataset Name','Trip Cutoff', 'Percentage Usable Trips', 'N Trips'],\n",
    "                          \"Real Time vs. Scheduled Data Percentage\").add_selection(selection).transform_filter(selection).interactive()"
   ]
  },
  {
   "cell_type": "code",
   "execution_count": null,
   "id": "3d0146b4-95e7-4eef-833c-b5dad516e150",
   "metadata": {},
   "outputs": [],
   "source": [
    "statewide = (valid1\n",
    "             .groupby(['Cutoff',])\n",
    "             .agg({'Total Trips':'max','N Trips':'max'})\n",
    "             .reset_index()\n",
    "            )"
   ]
  },
  {
   "cell_type": "code",
   "execution_count": null,
   "id": "b0a7275d-2457-4495-b3aa-e4ab0915c3fd",
   "metadata": {},
   "outputs": [],
   "source": [
    "statewide['Percentage of Usable Trips'] = statewide['N Trips']/statewide['Total Trips']*100"
   ]
  },
  {
   "cell_type": "code",
   "execution_count": null,
   "id": "1308535c-5baf-489f-b5a9-f06dcc3e4dd4",
   "metadata": {},
   "outputs": [],
   "source": [
    "statewide\n"
   ]
  }
 ],
 "metadata": {
  "kernelspec": {
   "display_name": "Python 3 (ipykernel)",
   "language": "python",
   "name": "python3"
  },
  "language_info": {
   "codemirror_mode": {
    "name": "ipython",
    "version": 3
   },
   "file_extension": ".py",
   "mimetype": "text/x-python",
   "name": "python",
   "nbconvert_exporter": "python",
   "pygments_lexer": "ipython3",
   "version": "3.9.13"
  }
 },
 "nbformat": 4,
 "nbformat_minor": 5
}
