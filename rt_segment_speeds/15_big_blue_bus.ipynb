{
 "cells": [
  {
   "cell_type": "code",
   "execution_count": null,
   "id": "7c35dc01-485e-4599-a808-7e81c309bb20",
   "metadata": {},
   "outputs": [],
   "source": [
    "import datetime\n",
    "import _speed_utils as speed_utils\n",
    "import dask.dataframe as dd\n",
    "import numpy as np\n",
    "import geopandas as gpd\n",
    "import pandas as pd\n",
    "from segment_speed_utils import gtfs_schedule_wrangling, helpers, segment_calcs,sched_rt_utils\n",
    "from segment_speed_utils.project_vars import (\n",
    "    COMPILED_CACHED_VIEWS,\n",
    "    PROJECT_CRS,\n",
    "    SEGMENT_GCS,\n",
    ")\n",
    "from scripts import (A1_sjoin_vp_segments, A2_valid_vehicle_positions)\n",
    "from shared_utils import calitp_color_palette as cp\n",
    "\n",
    "CONFIG_PATH = './scripts/config.yml'\n",
    "STOP_SEG_DICT = helpers.get_parameters(CONFIG_PATH, \"stop_segments\")"
   ]
  },
  {
   "cell_type": "code",
   "execution_count": null,
   "id": "72f7caae-8f6e-4b16-8333-a27c0a4fb11f",
   "metadata": {},
   "outputs": [],
   "source": [
    "pd.options.display.max_columns = 100\n",
    "pd.options.display.float_format = \"{:.2f}\".format\n",
    "pd.set_option(\"display.max_rows\", None)\n",
    "pd.set_option(\"display.max_colwidth\", None)"
   ]
  },
  {
   "cell_type": "code",
   "execution_count": null,
   "id": "0aa1e0d5-6e49-4a3f-a54f-92e3f1ebee0d",
   "metadata": {},
   "outputs": [],
   "source": [
    "analysis_date = '2023-07-12'"
   ]
  },
  {
   "cell_type": "markdown",
   "id": "770f38a8-fe20-44ff-9005-80f5d31b155c",
   "metadata": {},
   "source": [
    "### All operators"
   ]
  },
  {
   "cell_type": "code",
   "execution_count": null,
   "id": "01392150-a643-4b9e-819b-1204221c909b",
   "metadata": {},
   "outputs": [],
   "source": [
    "# Flagged: all the rows in the df flagged\n",
    "# divide_by_zero: only the rows that have 0 for meters and sec elapsed\n",
    "# trips_count: % of trips with 1+ division by 0 row for a route\n",
    "# route_most_populated_df: the trip for a route with the smallest % of rows that are divided by 0\n",
    "flagged, divide_by_zero, trips_count, route_most_populated_df = speed_utils.flagging_stage(analysis_date)"
   ]
  },
  {
   "cell_type": "code",
   "execution_count": null,
   "id": "e9883e88-c319-40ed-afbe-2919eeacec42",
   "metadata": {},
   "outputs": [],
   "source": [
    "# all_ops = list(flagged._gtfs_dataset_name.sort_values().unique())"
   ]
  },
  {
   "cell_type": "code",
   "execution_count": null,
   "id": "ec1ffbfb-b3dc-4cfa-bd09-e665518bcdbe",
   "metadata": {},
   "outputs": [],
   "source": [
    "# Find unique trips per operator\n",
    "unique_trips = (flagged\n",
    "                     .groupby(['_gtfs_dataset_name'])\n",
    "                     .agg({'trip_id':'nunique'})\n",
    "                     .sort_values(by = ['trip_id'],ascending = False)\n",
    "                     \n",
    "                     .reset_index()\n",
    "                    )"
   ]
  },
  {
   "cell_type": "code",
   "execution_count": null,
   "id": "8ab9403f-181f-4757-8c04-164bb37922de",
   "metadata": {},
   "outputs": [],
   "source": [
    "# Find total first and last stops recorded for a segment\n",
    "recorded_firstlast= (flagged\n",
    "                     .groupby(['_gtfs_dataset_name'])\n",
    "                     .agg({'flag':'count'})\n",
    "                     .sort_values(by = ['flag'],ascending = False)\n",
    "                     \n",
    "                     .reset_index()\n",
    "                    )"
   ]
  },
  {
   "cell_type": "code",
   "execution_count": null,
   "id": "d5b5c844-4c08-4f72-ac9e-255b32840c32",
   "metadata": {},
   "outputs": [],
   "source": [
    "# See number of recorded positions for each trip\n",
    "# Divide to see number of positions per trip, a rough estimate\n",
    "vps_vs_routes = pd.merge(unique_trips,recorded_firstlast, on = [\"_gtfs_dataset_name\"], how = \"inner\")"
   ]
  },
  {
   "cell_type": "code",
   "execution_count": null,
   "id": "d961c8cc-881e-47b5-9ad1-4408ad86e464",
   "metadata": {},
   "outputs": [],
   "source": [
    "vps_vs_routes['proportion']= vps_vs_routes.flag / vps_vs_routes.trip_id"
   ]
  },
  {
   "cell_type": "markdown",
   "id": "10c97097-7778-444e-ae29-da0460078fab",
   "metadata": {
    "tags": []
   },
   "source": [
    "### Filtering out for Big Blue Bus Only"
   ]
  },
  {
   "cell_type": "code",
   "execution_count": null,
   "id": "2613d8ad-2b28-4682-9339-97a7b6503080",
   "metadata": {},
   "outputs": [],
   "source": [
    "big_blue_bus = \"Big Blue Bus VehiclePositions\""
   ]
  },
  {
   "cell_type": "code",
   "execution_count": null,
   "id": "f6f02c09-b48c-42e9-82c8-60f68349b758",
   "metadata": {},
   "outputs": [],
   "source": [
    "# There are about 26 collected first and last points for each trip\n",
    "vps_vs_routes[vps_vs_routes._gtfs_dataset_name == big_blue_bus]"
   ]
  },
  {
   "cell_type": "code",
   "execution_count": null,
   "id": "3257e075-4f2a-48dd-9364-8d5b389473dd",
   "metadata": {},
   "outputs": [],
   "source": [
    "bbb_only = flagged[flagged._gtfs_dataset_name == big_blue_bus].reset_index(drop = True)"
   ]
  },
  {
   "cell_type": "code",
   "execution_count": null,
   "id": "af87a9a9-079d-4a4e-b6b7-dca2de3ece21",
   "metadata": {},
   "outputs": [],
   "source": [
    "bbb_only.sample(5)"
   ]
  },
  {
   "cell_type": "code",
   "execution_count": null,
   "id": "b8cf7a58-7dea-47cc-9070-03f13ebafbd0",
   "metadata": {},
   "outputs": [],
   "source": [
    "bbb_key = \"6c2d7daaf979779fa2089c6395baf98b\""
   ]
  },
  {
   "cell_type": "code",
   "execution_count": null,
   "id": "8533a9bd-7950-44f0-a73a-5ecc5b00c316",
   "metadata": {},
   "outputs": [],
   "source": [
    "bbb_routes = list(bbb_only.shape_array_key.unique())"
   ]
  },
  {
   "cell_type": "code",
   "execution_count": null,
   "id": "33adf145-eab8-4532-a073-9eb5e5ceb0dd",
   "metadata": {},
   "outputs": [],
   "source": [
    "f\"{len(bbb_routes)} total routes\""
   ]
  },
  {
   "cell_type": "code",
   "execution_count": null,
   "id": "85470fc0-8cc5-471c-865c-e7dbf8102416",
   "metadata": {},
   "outputs": [],
   "source": [
    "# Rows that are divided by 0\n",
    "bbb_only_zero = divide_by_zero[divide_by_zero._gtfs_dataset_name == big_blue_bus].reset_index(drop = True)"
   ]
  },
  {
   "cell_type": "code",
   "execution_count": null,
   "id": "dc6d03e2-f4c8-4f77-a0cf-8dc761280bdf",
   "metadata": {},
   "outputs": [],
   "source": [
    "f\"{len(bbb_only_zero)} or {len(bbb_only_zero)/len(bbb_only)*100} rows are divided by 0.\""
   ]
  },
  {
   "cell_type": "code",
   "execution_count": null,
   "id": "9f9cdb9e-73c2-4c13-bf29-f776f3e611a4",
   "metadata": {},
   "outputs": [],
   "source": [
    "f\"{bbb_only_zero.shape_array_key.nunique()} routes have 1+ row that is divided by 0\""
   ]
  },
  {
   "cell_type": "code",
   "execution_count": null,
   "id": "bac6e1b9-424e-47fd-a51d-b19d95034f76",
   "metadata": {},
   "outputs": [],
   "source": [
    "# % of trips with 1+ row that has zeroes\n",
    "bbb_trips_count = trips_count[trips_count.shape_array_key.isin(bbb_routes)].reset_index(drop = True)"
   ]
  },
  {
   "cell_type": "code",
   "execution_count": null,
   "id": "5cea31a9-5428-468a-a63d-68533593a92d",
   "metadata": {},
   "outputs": [],
   "source": [
    "bbb_trips_count.sample()"
   ]
  },
  {
   "cell_type": "markdown",
   "id": "f0644107-33c2-430c-a5c7-169a5a3ef64b",
   "metadata": {
    "tags": []
   },
   "source": [
    "#### 78% of Big Blue Bus trips has 1+ row that is divided by 0, compared with the overall mean of 52% across all operators. "
   ]
  },
  {
   "cell_type": "code",
   "execution_count": null,
   "id": "6873abd2-6b2b-4633-97cf-90763fc7602d",
   "metadata": {},
   "outputs": [],
   "source": [
    "trips_count.percent_of_trips_with_problematic_rows.describe()"
   ]
  },
  {
   "cell_type": "code",
   "execution_count": null,
   "id": "4e818afd-901d-4d45-8369-1535e72bc3a3",
   "metadata": {
    "tags": []
   },
   "outputs": [],
   "source": [
    "bbb_trips_count.percent_of_trips_with_problematic_rows.describe()"
   ]
  },
  {
   "cell_type": "markdown",
   "id": "927456cd-9787-43db-84be-debac507fb3c",
   "metadata": {
    "tags": []
   },
   "source": [
    "#### Does BBB have more \"not ok\" rows compared to other operators?  \n",
    "* Yes, Big Blue Bus ranks the highest. \n",
    "* 42% of their total rows are divided by 0 compared to the mean of 12%.\n",
    "* 49% of their total rows are ok, compared to the mean  of 72%. \n",
    "* 5% of their total rows record \"meters too low\", compared to the mean of 4%.\n",
    "* However, Big Blue Bus has a lower than average % of rows flagged as \"seconds too high\" - 3% compared to 13%. "
   ]
  },
  {
   "cell_type": "code",
   "execution_count": null,
   "id": "d3665f91-8bf3-4977-9987-f485547959ec",
   "metadata": {
    "scrolled": true,
    "tags": []
   },
   "outputs": [],
   "source": [
    "# Counting number of rows that are flagged ok, secs too high, meters too low\n",
    "agg1 = (flagged\n",
    "        .groupby(['_gtfs_dataset_name','flag'])\n",
    "        .agg({'trip_id':'count'})\n",
    "        .reset_index()\n",
    "        .rename(columns = {'trip_id':'count_of_rows'})\n",
    "       )"
   ]
  },
  {
   "cell_type": "code",
   "execution_count": null,
   "id": "80e5b453-6087-4798-9a8f-76320c9c168e",
   "metadata": {},
   "outputs": [],
   "source": [
    "# Counting number of rows in general\n",
    "agg2 = (flagged\n",
    "        .groupby(['_gtfs_dataset_name'])\n",
    "        .agg({'trip_id':'count'})\n",
    "        .reset_index()\n",
    "        .rename(columns = {'trip_id':'total_rows'})\n",
    "       )"
   ]
  },
  {
   "cell_type": "code",
   "execution_count": null,
   "id": "adcc9306-2dfb-40ee-907e-985db6579e17",
   "metadata": {},
   "outputs": [],
   "source": [
    "# Merge \n",
    "agg3 = pd.merge(agg1, agg2, on = ['_gtfs_dataset_name'], how = 'inner') "
   ]
  },
  {
   "cell_type": "code",
   "execution_count": null,
   "id": "706d6c6c-8cb1-46a3-9d79-2105453a395a",
   "metadata": {},
   "outputs": [],
   "source": [
    "agg3['percent_of_rows'] = agg3.count_of_rows/agg3.total_rows * 100"
   ]
  },
  {
   "cell_type": "code",
   "execution_count": null,
   "id": "44926bc8-10f3-42a2-aee5-c854c68c7cca",
   "metadata": {
    "tags": []
   },
   "outputs": [],
   "source": [
    "agg3[agg3._gtfs_dataset_name == big_blue_bus]"
   ]
  },
  {
   "cell_type": "code",
   "execution_count": null,
   "id": "4f1bf70b-7d4d-4787-b581-d4bc56516465",
   "metadata": {
    "tags": []
   },
   "outputs": [],
   "source": [
    "agg3[agg3.flag == \"division by 0\"].percent_of_rows.describe()"
   ]
  },
  {
   "cell_type": "code",
   "execution_count": null,
   "id": "b1f13527-70d7-4d0c-bb36-93af5d61f0cf",
   "metadata": {},
   "outputs": [],
   "source": [
    "agg3[agg3.flag == \"meters too low\"].percent_of_rows.describe()"
   ]
  },
  {
   "cell_type": "code",
   "execution_count": null,
   "id": "df0ef874-4b32-4ea2-8ddd-1a5f35b24b15",
   "metadata": {},
   "outputs": [],
   "source": [
    "agg3[agg3.flag == \"seconds too high\"].percent_of_rows.describe()"
   ]
  },
  {
   "cell_type": "code",
   "execution_count": null,
   "id": "35c90762-f0dd-4d77-8e97-1de78b28ac6d",
   "metadata": {},
   "outputs": [],
   "source": [
    "agg3[agg3.flag == \"ok\"].percent_of_rows.describe()"
   ]
  },
  {
   "cell_type": "code",
   "execution_count": null,
   "id": "f5a5d6eb-4b07-41c0-8116-991c987a7d09",
   "metadata": {},
   "outputs": [],
   "source": [
    "agg3[agg3._gtfs_dataset_name == big_blue_bus][['count_of_rows']].sum()"
   ]
  },
  {
   "cell_type": "markdown",
   "id": "d681e5be-21bb-4764-be8d-99f8100f9716",
   "metadata": {},
   "source": [
    "#### Proportion of first and last vps kept doesn't seem to have a relationship with the % of ok rows."
   ]
  },
  {
   "cell_type": "code",
   "execution_count": null,
   "id": "f624e41a-a182-4729-82f6-a9e1ead46d93",
   "metadata": {},
   "outputs": [],
   "source": [
    "# Merge proportion of first nad last points per trip with this agg\n",
    "# to see if the more points, the better the quality of the data\n",
    "agg4 = pd.merge(agg3, vps_vs_routes, on = ['_gtfs_dataset_name'], how = 'inner')"
   ]
  },
  {
   "cell_type": "code",
   "execution_count": null,
   "id": "124fb04e-d5c5-400a-9ea7-7261e6ca3100",
   "metadata": {},
   "outputs": [],
   "source": [
    "agg4.proportion.describe()"
   ]
  },
  {
   "cell_type": "code",
   "execution_count": null,
   "id": "39ef88cd-b95f-4aab-9ad2-697ad45049e2",
   "metadata": {
    "tags": []
   },
   "outputs": [],
   "source": [
    "agg4[agg4.flag_x == \"ok\"].sort_values(['trip_id','percent_of_rows'], ascending = False).head(10)"
   ]
  },
  {
   "cell_type": "code",
   "execution_count": null,
   "id": "4ee4a1f0-a6cb-4718-80b3-ca80289a932d",
   "metadata": {},
   "outputs": [],
   "source": [
    "agg4[agg4._gtfs_dataset_name == big_blue_bus]"
   ]
  },
  {
   "cell_type": "markdown",
   "id": "69cd62d4-a271-400e-bf7a-1cced3b6a885",
   "metadata": {
    "tags": []
   },
   "source": [
    "#### Find average points by route"
   ]
  },
  {
   "cell_type": "code",
   "execution_count": null,
   "id": "e865c2cd-6667-451a-96dc-f6b3d9dcdcf7",
   "metadata": {},
   "outputs": [],
   "source": [
    "shape_vps_trips = bbb_only.groupby(['shape_array_key','trip_id']).agg({'flag':'count'}).reset_index().rename(columns = {'flag':'collected_points'})"
   ]
  },
  {
   "cell_type": "code",
   "execution_count": null,
   "id": "9a2e0805-ca87-4100-bc53-a4222c584c6c",
   "metadata": {},
   "outputs": [],
   "source": [
    "shape_vps_trips.head(2)"
   ]
  },
  {
   "cell_type": "code",
   "execution_count": null,
   "id": "011a0987-32e5-4890-8bf0-b518c2752a94",
   "metadata": {},
   "outputs": [],
   "source": [
    "shape_vps_avg = shape_vps_trips.groupby(['shape_array_key']).agg({'collected_points':'mean'}).reset_index().rename(columns = {'collected_points':'collected_points_mean'})"
   ]
  },
  {
   "cell_type": "code",
   "execution_count": null,
   "id": "d746f49c-d668-4ba9-b2e3-1dace0e77f5b",
   "metadata": {},
   "outputs": [],
   "source": [
    "shape_vps_avg.head(2)"
   ]
  },
  {
   "cell_type": "code",
   "execution_count": null,
   "id": "ca44c81f-c55a-4c49-8497-e039283532ba",
   "metadata": {},
   "outputs": [],
   "source": [
    "shape_vps_avg_merge = pd.merge(shape_vps_avg, shape_vps_trips, on = ['shape_array_key'], how = 'inner')"
   ]
  },
  {
   "cell_type": "code",
   "execution_count": null,
   "id": "e75f764c-9891-417a-8248-3ab4361734e0",
   "metadata": {},
   "outputs": [],
   "source": [
    "shape_vps_avg_merge['comparison'] = np.where(shape_vps_avg_merge[\"collected_points\"] < shape_vps_avg_merge[\"collected_points_mean\"],0,1)"
   ]
  },
  {
   "cell_type": "code",
   "execution_count": null,
   "id": "f44039ab-fd43-4246-ac14-179fa8f6c1d7",
   "metadata": {},
   "outputs": [],
   "source": [
    "shape_vps_avg_merge['percent_of_vps_captured'] =  (shape_vps_avg_merge[\"collected_points\"]/shape_vps_avg_merge[\"collected_points_mean\"]) * 100"
   ]
  },
  {
   "cell_type": "code",
   "execution_count": null,
   "id": "619b2744-32a3-4198-a1d8-ef13aca9e640",
   "metadata": {},
   "outputs": [],
   "source": [
    "# Any proportion above 100, mask as 100\n",
    "shape_vps_avg_merge[\"percent_of_vps_captured\"] = shape_vps_avg_merge[\"percent_of_vps_captured\"].mask(shape_vps_avg_merge[\"percent_of_vps_captured\"] > 100, 100)"
   ]
  },
  {
   "cell_type": "code",
   "execution_count": null,
   "id": "5e43d923-d352-4000-85ff-619a8f174f0b",
   "metadata": {},
   "outputs": [],
   "source": [
    "shape_vps_avg_merge.percent_of_vps_captured.describe()"
   ]
  },
  {
   "cell_type": "code",
   "execution_count": null,
   "id": "88efa531-48d0-40d4-9cc9-6f30965e5a9b",
   "metadata": {},
   "outputs": [],
   "source": [
    "mean = shape_vps_avg_merge.percent_of_vps_captured.mean()"
   ]
  },
  {
   "cell_type": "code",
   "execution_count": null,
   "id": "fe1828ac-6cbf-47e0-afb4-58e95bb2f708",
   "metadata": {},
   "outputs": [],
   "source": [
    "# \"low\" percentage of points captured for that route\n",
    "low_points = (shape_vps_avg_merge[(shape_vps_avg_merge.comparison == 0) & (shape_vps_avg_merge.percent_of_vps_captured <  mean)])"
   ]
  },
  {
   "cell_type": "code",
   "execution_count": null,
   "id": "db4d188a-3452-4c9e-abc3-34b3d0dffd9b",
   "metadata": {},
   "outputs": [],
   "source": [
    "shape_vps_avg_merge.trip_id.nunique()"
   ]
  },
  {
   "cell_type": "code",
   "execution_count": null,
   "id": "77fcf67c-89ce-43d4-b75a-03b02961bc39",
   "metadata": {},
   "outputs": [],
   "source": [
    "len(low_points)"
   ]
  },
  {
   "cell_type": "code",
   "execution_count": null,
   "id": "4690adad-a08f-4201-8c97-e83bd1b46e3e",
   "metadata": {
    "scrolled": true,
    "tags": []
   },
   "outputs": [],
   "source": [
    "low_points.sort_values(['difference', 'percent_of_vps_captured'], ascending = [True, False])"
   ]
  },
  {
   "cell_type": "code",
   "execution_count": null,
   "id": "ae1bbc7e-0c78-439d-9334-f0ef7edd1fda",
   "metadata": {},
   "outputs": [],
   "source": [
    "shape_vps_avg_merge[shape_vps_avg_merge.trip_id == \"904790\"]"
   ]
  },
  {
   "cell_type": "code",
   "execution_count": null,
   "id": "8f7cc273-9195-4ec9-8ba2-a21889e09cc8",
   "metadata": {},
   "outputs": [],
   "source": [
    "shape_vps_avg_merge.comparison.value_counts()"
   ]
  },
  {
   "cell_type": "code",
   "execution_count": null,
   "id": "07bb00ec-c67d-49b3-a2ec-c2556f2ff82f",
   "metadata": {},
   "outputs": [],
   "source": [
    "500/(809+500)"
   ]
  },
  {
   "cell_type": "markdown",
   "id": "17bb9b27-b0e8-4162-af74-08e4a9eb7a0d",
   "metadata": {},
   "source": [
    "#### Which operators have the highest % of ok routes so I can draw a comparison.\n",
    "* Using LA DOT since it is also a big operator\n",
    "* LA DOT has 74k first and last positions, Big Blue Bus only has 35k\n",
    "* However LA DOT has 110 routes, Big Blue Bus has 62.\n"
   ]
  },
  {
   "cell_type": "code",
   "execution_count": null,
   "id": "bbfff578-58e8-4058-a9e8-1d353a44a6fb",
   "metadata": {},
   "outputs": [],
   "source": [
    "agg3[agg3.flag == \"ok\"].sort_values(['percent_of_rows'], ascending = False).head()"
   ]
  },
  {
   "cell_type": "code",
   "execution_count": null,
   "id": "bcbab89d-5717-4343-80f1-19dc369946dc",
   "metadata": {},
   "outputs": [],
   "source": [
    "agg3[agg3._gtfs_dataset_name == \"LA DOT VehiclePositions\"][['count_of_rows']].sum()"
   ]
  },
  {
   "cell_type": "code",
   "execution_count": null,
   "id": "3772af77-5939-445a-a356-c6c7b7ab3b8b",
   "metadata": {},
   "outputs": [],
   "source": [
    "agg3[agg3._gtfs_dataset_name == \"LA DOT VehiclePositions\"]"
   ]
  },
  {
   "cell_type": "code",
   "execution_count": null,
   "id": "770eeb03-5e4a-4a17-9d79-5c4e01794bd8",
   "metadata": {},
   "outputs": [],
   "source": [
    "ladot_only = flagged[flagged._gtfs_dataset_name == \"LA DOT VehiclePositions\"]"
   ]
  },
  {
   "cell_type": "code",
   "execution_count": null,
   "id": "b7d74626-3ec0-4107-9fcb-933ff2fbc30b",
   "metadata": {},
   "outputs": [],
   "source": [
    "ladot_routes = list(ladot_only.shape_array_key.unique())"
   ]
  },
  {
   "cell_type": "code",
   "execution_count": null,
   "id": "670ca10f-f4af-47dd-afa8-c5780e54095f",
   "metadata": {},
   "outputs": [],
   "source": [
    "len(ladot_routes)"
   ]
  },
  {
   "cell_type": "code",
   "execution_count": null,
   "id": "d95d3406-1710-4b42-b95b-89ea8f623464",
   "metadata": {},
   "outputs": [],
   "source": [
    "ladot_key = \"5222fe2cf728fd3f16b2ff51e133fe8c\""
   ]
  },
  {
   "cell_type": "markdown",
   "id": "d7ad622d-862a-458a-8f11-f821b95a9c90",
   "metadata": {},
   "source": [
    "### Stage 3 \n",
    "* Checking out rows that are all divided zero without an obviously repeated location/timestamp/both"
   ]
  },
  {
   "cell_type": "code",
   "execution_count": null,
   "id": "9786c545-98b3-4052-a794-eaa9dbc31ad1",
   "metadata": {},
   "outputs": [],
   "source": [
    "stage3 = speed_utils.flag_stage3(divide_by_zero, analysis_date)"
   ]
  },
  {
   "cell_type": "code",
   "execution_count": null,
   "id": "38556b8d-a0cc-426f-a7f6-2e476de88f17",
   "metadata": {},
   "outputs": [],
   "source": [
    "sort_by_cols = ['_gtfs_dataset_name','shape_array_key','trip_id','stop_sequence']"
   ]
  },
  {
   "cell_type": "code",
   "execution_count": null,
   "id": "38921035-da5c-41ca-8ead-d6bc08341caa",
   "metadata": {},
   "outputs": [],
   "source": [
    "preview_cols = sort_by_cols + ['stop_id','gtfs_dataset_key','location_timestamp_local','pair','stage3_flag','flag']"
   ]
  },
  {
   "cell_type": "code",
   "execution_count": null,
   "id": "7c09d06e-6b53-479b-a476-c4cdcce68afd",
   "metadata": {},
   "outputs": [],
   "source": [
    "stage3 = stage3.sort_values(by = sort_by_cols).reset_index(drop = True)"
   ]
  },
  {
   "cell_type": "code",
   "execution_count": null,
   "id": "eff6fced-e852-4735-95cc-ba96c9bde144",
   "metadata": {
    "tags": []
   },
   "outputs": [],
   "source": [
    "# Looking at a \"normal\" route that need to be divided by 0 \n",
    "# stage3[(stage3.shape_array_key == \"b7ed7b6ed70a7553118c8e065b79cb8d\") & (stage3.trip_id == \"1101539\")][preview_cols]"
   ]
  },
  {
   "cell_type": "code",
   "execution_count": null,
   "id": "696f0ef7-8b13-4a07-8195-8973cbc77f65",
   "metadata": {},
   "outputs": [],
   "source": [
    "preview_cols2 =['shape_array_key', 'stop_sequence', 'stop_id',\n",
    " '_gtfs_dataset_name', 'trip_id', 'flag']"
   ]
  },
  {
   "cell_type": "code",
   "execution_count": null,
   "id": "12f74b70-c946-4bd0-9986-d7c32451eb27",
   "metadata": {},
   "outputs": [],
   "source": [
    "bbb_stage3 = stage3[stage3._gtfs_dataset_name == big_blue_bus].reset_index(drop = True)"
   ]
  },
  {
   "cell_type": "code",
   "execution_count": null,
   "id": "fb50901b-4d3f-4627-8efb-8573d6ee488a",
   "metadata": {},
   "outputs": [],
   "source": [
    "bbb_stage3.stage3_flag.value_counts()"
   ]
  },
  {
   "cell_type": "markdown",
   "id": "8adbc88d-4f98-4e27-8f83-e153a48408b8",
   "metadata": {},
   "source": [
    "### Map BBB\n",
    "* Only mapping shapes where there is 1+ trip that has 1+ row that is divided by 0. \n",
    "* Only mapping the trip that has the highest % of ok rows.\n",
    "* As of 7/24, there are 50 routes and corresponding 50  trips.\n",
    "* Doing this to avoid visual overload."
   ]
  },
  {
   "cell_type": "markdown",
   "id": "46f17b64-46aa-4cd3-af79-6830d99d5293",
   "metadata": {
    "tags": []
   },
   "source": [
    "#### Find shapes for Big Blue Bus in which all the trips have  1+ division by 0 row to observe\n",
    "* Filter down so we can map the most problematic routes, instead of all of them?"
   ]
  },
  {
   "cell_type": "code",
   "execution_count": null,
   "id": "73ede407-6891-4403-919f-e365e6fcefb0",
   "metadata": {
    "scrolled": true,
    "tags": []
   },
   "outputs": [],
   "source": [
    "# Find routes with trips that record zeroes\n",
    "bbb_shapes_with_zeroes = (bbb_trips_count[bbb_trips_count.percent_of_trips_with_problematic_rows != 0]\n",
    " .sort_values(by = ['all_trips'], ascending = False)\n",
    " .reset_index(drop = True)\n",
    ")"
   ]
  },
  {
   "cell_type": "code",
   "execution_count": null,
   "id": "34a34e6c-b39d-4c69-a930-d9e24dc579b3",
   "metadata": {},
   "outputs": [],
   "source": [
    "bbb_shapes_with_zeroes = list(bbb_shapes_with_zeroes.shape_array_key.unique())"
   ]
  },
  {
   "cell_type": "code",
   "execution_count": null,
   "id": "bc838399-441f-4b9c-ab2c-16645a79ddd6",
   "metadata": {},
   "outputs": [],
   "source": [
    "len(bbb_shapes_with_zeroes)"
   ]
  },
  {
   "cell_type": "code",
   "execution_count": null,
   "id": "a55fe379-25af-4d32-bb5a-826ab0b3d76a",
   "metadata": {},
   "outputs": [],
   "source": [
    "# Grab the trip from routes that are the most populated.\n",
    "bbb_route_most_populated_df = route_most_populated_df[route_most_populated_df.shape_array_key.isin(bbb_routes)].reset_index(drop = True)"
   ]
  },
  {
   "cell_type": "code",
   "execution_count": null,
   "id": "f2460d07-0b2c-4d05-994e-c9c342a8726d",
   "metadata": {
    "scrolled": true,
    "tags": []
   },
   "outputs": [],
   "source": [
    "# bbb_route_most_populated_df.sort_values(by = ['percent_of_ok_rows', 'total_rows'], ascending = False)"
   ]
  },
  {
   "cell_type": "code",
   "execution_count": null,
   "id": "b2f7edcc-d503-466f-8c73-62eb9b0b5ab3",
   "metadata": {},
   "outputs": [],
   "source": [
    "# Grabbing the trip ids to sample\n",
    "# With the most populated ones\n",
    "bbb_trips_zero_tripids = bbb_route_most_populated_df[bbb_route_most_populated_df.shape_array_key.isin(bbb_shapes_with_zeroes)]"
   ]
  },
  {
   "cell_type": "code",
   "execution_count": null,
   "id": "831edebb-a67a-4538-b575-f7dfddc66049",
   "metadata": {},
   "outputs": [],
   "source": [
    "bbb_trips_zero_tripids = list(bbb_trips_zero_tripids.trip_id.unique())"
   ]
  },
  {
   "cell_type": "code",
   "execution_count": null,
   "id": "dbf04fbc-e3fe-4c67-86c8-16e3ea352420",
   "metadata": {},
   "outputs": [],
   "source": [
    "# Remove a specific trip id since it only has 2 vehicle positions collected\n",
    "bbb_trips_zero_tripids.remove('904790')"
   ]
  },
  {
   "cell_type": "code",
   "execution_count": null,
   "id": "2419bd52-8626-415e-84a9-7c13053b4498",
   "metadata": {},
   "outputs": [],
   "source": [
    "bbb_trips_zero_tripids.append('904739')"
   ]
  },
  {
   "cell_type": "code",
   "execution_count": null,
   "id": "fee22c5b-08db-47d6-bd4e-347cf83203c7",
   "metadata": {},
   "outputs": [],
   "source": [
    "len(bbb_trips_zero_tripids)"
   ]
  },
  {
   "cell_type": "code",
   "execution_count": null,
   "id": "e393aad0-dd5b-4f3d-a0ca-eb3f71f41642",
   "metadata": {},
   "outputs": [],
   "source": [
    "def import_unique_trips(gtfs_key:str, routes:list, analysis_date:str):\n",
    "    \"\"\"\n",
    "    Read vp_usable file for one \n",
    "    trip/route/operator and find the unique trips.\n",
    "    \"\"\"\n",
    "    FILE = STOP_SEG_DICT['stage1']\n",
    "    vp_trips = A1_sjoin_vp_segments.add_grouping_col_to_vp(\n",
    "        f\"{FILE}_{analysis_date}\",\n",
    "        analysis_date,\n",
    "       [\"shape_array_key\"]\n",
    "    )\n",
    "    \n",
    "    return vp_trips"
   ]
  },
  {
   "cell_type": "code",
   "execution_count": null,
   "id": "61c26f50-c533-41fa-9f0b-d91efa21ae86",
   "metadata": {},
   "outputs": [],
   "source": [
    "unique_trips = import_unique_trips(bbb_key,bbb_shapes_with_zeroes, analysis_date)"
   ]
  },
  {
   "cell_type": "code",
   "execution_count": null,
   "id": "55bc5bb8-bc40-4590-a581-41179f7ffb3c",
   "metadata": {},
   "outputs": [],
   "source": [
    "len(unique_trips)"
   ]
  },
  {
   "cell_type": "code",
   "execution_count": null,
   "id": "3ec1f44a-c2bd-44cb-b6e3-1284dfa08837",
   "metadata": {},
   "outputs": [],
   "source": [
    "def import_vehicle_positions(unique_trips:pd.DataFrame, \n",
    "                             gtfs_key:str,\n",
    "                             analysis_date:str,\n",
    "                             trips:list)-> gpd.GeoDataFrame:\n",
    "    \"\"\"\n",
    "    Find ALL points for the trip.\n",
    "    \n",
    "    Args:\n",
    "        unique_trips: df from import_unique_trips()\n",
    "    \"\"\"\n",
    "    FILE = STOP_SEG_DICT['stage0']\n",
    "    \n",
    "    vp = helpers.import_vehicle_positions(\n",
    "            SEGMENT_GCS,\n",
    "            f\"{FILE}_{analysis_date}/\",\n",
    "            \"gdf\",\n",
    "            filters = [[(\"gtfs_dataset_key\", \"==\", gtfs_key)]],\n",
    "            columns = [\"gtfs_dataset_key\", \"trip_id\",\"geometry\"],\n",
    "            partitioned = False\n",
    "        )\n",
    "    vp = vp.compute()\n",
    "\n",
    "    vp = vp.merge(unique_trips, on = [\"gtfs_dataset_key\", \"trip_id\"],\n",
    "            how = \"inner\"\n",
    "        )\n",
    "    \n",
    "    vp = vp[vp.trip_id.isin(trips)]\n",
    "    return vp"
   ]
  },
  {
   "cell_type": "code",
   "execution_count": null,
   "id": "765e6002-8a0c-43f8-91c3-f17bb2061ca0",
   "metadata": {},
   "outputs": [],
   "source": [
    "vps = import_vehicle_positions(unique_trips, bbb_key, analysis_date,bbb_trips_zero_tripids)"
   ]
  },
  {
   "cell_type": "code",
   "execution_count": null,
   "id": "7b875eb1-2c3f-4453-9d35-40b2bae73b7c",
   "metadata": {},
   "outputs": [],
   "source": [
    "len(vps)"
   ]
  },
  {
   "cell_type": "code",
   "execution_count": null,
   "id": "7e126328-80b3-4804-9df0-29c99189e502",
   "metadata": {},
   "outputs": [],
   "source": [
    "vps.trip_id.nunique(), vps.shape_array_key.nunique()"
   ]
  },
  {
   "cell_type": "code",
   "execution_count": null,
   "id": "b48cafa9-bb44-427b-b540-8444d676e08d",
   "metadata": {},
   "outputs": [],
   "source": [
    "vps.sample()"
   ]
  },
  {
   "cell_type": "code",
   "execution_count": null,
   "id": "3b5b53a8-4bb7-45cd-adcd-b963c048ebd7",
   "metadata": {},
   "outputs": [],
   "source": [
    "def import_segments(flagged_df: pd.DataFrame, \n",
    "                    gtfs_key:str,\n",
    "                    shapes:list) -> gpd.GeoDataFrame:\n",
    "    \"\"\"\n",
    "    Import cut segments and colorcode  them based on \n",
    "    whether or not it has 1+ rows that is divided by 0.\n",
    "    Cavaet: even if a segment records only 1 row that is divided by 0,\n",
    "    it will be color coded as so.\n",
    "    \n",
    "    Args:\n",
    "        flagged_df: result from df from categorize_meters_speeds_pandas()\n",
    "    \"\"\"\n",
    "    # Load in ALL segments, flag them.\n",
    "    FILE = STOP_SEG_DICT['segments_file']\n",
    "    gdf = gpd.read_parquet(f\"{SEGMENT_GCS}{FILE}_{analysis_date}.parquet\",\n",
    "                           filters = [[(\"shape_array_key\", \"in\", shapes),\n",
    "                                      (\"gtfs_dataset_key\", \"==\", gtfs_key),\n",
    "                                     ]]).to_crs(PROJECT_CRS)\n",
    "    \n",
    "    gdf[\"geometry_buffered\"] = gdf.geometry.buffer(35)\n",
    "    gdf = gdf.set_geometry('geometry_buffered')\n",
    "    \n",
    "    return gdf"
   ]
  },
  {
   "cell_type": "code",
   "execution_count": null,
   "id": "de961a31-4731-415a-b259-d998b8ce067d",
   "metadata": {},
   "outputs": [],
   "source": [
    "segs = import_segments(bbb_only, bbb_key, bbb_shapes_with_zeroes)"
   ]
  },
  {
   "cell_type": "code",
   "execution_count": null,
   "id": "54b34181-aba4-43b9-b44c-f5eb228944d7",
   "metadata": {},
   "outputs": [],
   "source": [
    "segs_ladot = import_segments(ladot_only, ladot_key, ladot_routes)"
   ]
  },
  {
   "cell_type": "code",
   "execution_count": null,
   "id": "9aea959f-f094-4b28-a231-0f37f23e7fe2",
   "metadata": {},
   "outputs": [],
   "source": [
    "segs.shape_array_key.nunique()"
   ]
  },
  {
   "cell_type": "markdown",
   "id": "d43cdad4-b980-45bf-a8c1-57536356cb58",
   "metadata": {},
   "source": [
    "#### A lot of routes overlap for Big Blue Bus\n",
    "* Checking LA DOT if this is similar: there are also a lot of overlapping routes too."
   ]
  },
  {
   "cell_type": "code",
   "execution_count": null,
   "id": "9153563d-ecc5-4022-87d7-8919579585e2",
   "metadata": {},
   "outputs": [],
   "source": [
    "# segs.explore('shape_array_key',cmap= 'tab10', height = 400, width = 600, name = 'segments', legend = False)"
   ]
  },
  {
   "cell_type": "code",
   "execution_count": null,
   "id": "323d19e6-b2f6-4b60-8ed3-9a0147934c7f",
   "metadata": {},
   "outputs": [],
   "source": [
    "# segs_ladot.explore('shape_array_key',cmap= 'tab10', height = 400, width = 600, name = 'segments', legend = False)"
   ]
  },
  {
   "cell_type": "code",
   "execution_count": null,
   "id": "061d3645-2ed3-4ca3-867f-a8a94fe0baf8",
   "metadata": {},
   "outputs": [],
   "source": [
    "def find_first_last_points(gtfs_key:str, analysis_date:str)-> gpd.GeoDataFrame:\n",
    "    \"\"\"\n",
    "    Load gdf with only the first and last points pared. \n",
    "    \"\"\"\n",
    "    FILE = STOP_SEG_DICT['stage3']\n",
    "    \n",
    "    df = pd.read_parquet(f\"{SEGMENT_GCS}{FILE}_{analysis_date}\",\n",
    "        filters = [[('gtfs_dataset_key', \"==\", gtfs_key)]],)\n",
    "    \n",
    "    gdf =  gpd.GeoDataFrame(\n",
    "        df, \n",
    "        geometry = gpd.points_from_xy(df.x, df.y, crs = \"EPSG:4326\")\n",
    "    ).to_crs(PROJECT_CRS).drop(columns = [\"x\", \"y\"])\n",
    "    gdf = gdf[['geometry','stop_sequence']]\n",
    "    \n",
    "    \n",
    "    return gdf"
   ]
  },
  {
   "cell_type": "code",
   "execution_count": null,
   "id": "f6b77550-c5b8-4472-86ea-9ced2b397838",
   "metadata": {},
   "outputs": [],
   "source": [
    "first_last = find_first_last_points(bbb_key, analysis_date)"
   ]
  },
  {
   "cell_type": "code",
   "execution_count": null,
   "id": "e89bb3e3-1146-4d3e-b2dd-2b97a350eef2",
   "metadata": {},
   "outputs": [],
   "source": [
    "# Sjoin all vehicle positions\n",
    "sjoined_results = speed_utils.sjoin_vp_segments(segs, vps)\n",
    "sjoined_results = sjoined_results.set_geometry('geometry_left')"
   ]
  },
  {
   "cell_type": "code",
   "execution_count": null,
   "id": "8c8d3a60-baf0-4e71-b8ab-e02123bc3035",
   "metadata": {},
   "outputs": [],
   "source": [
    "# Sjoin first and last points\n",
    "sjoined_firstslast = speed_utils.sjoin_vp_segments(segs, first_last)\n",
    "sjoined_firstslast = sjoined_firstslast.set_geometry('geometry_left')"
   ]
  },
  {
   "cell_type": "code",
   "execution_count": null,
   "id": "a8cfda76-8571-4b41-b7af-93919b0df451",
   "metadata": {},
   "outputs": [],
   "source": [
    "# First and last is much longer because there isn't a filter for the trips\n",
    "len(sjoined_firstslast), len(sjoined_results)"
   ]
  },
  {
   "cell_type": "code",
   "execution_count": null,
   "id": "c37d8516-35db-4a3a-885d-2f2fbb4306d5",
   "metadata": {},
   "outputs": [],
   "source": [
    "len(vps), len(first_last)"
   ]
  },
  {
   "cell_type": "code",
   "execution_count": null,
   "id": "07676a13-52c4-4b6d-923d-9e4990d10e0a",
   "metadata": {},
   "outputs": [],
   "source": [
    "base1 = segs.explore('shape_array_key',cmap= 'tab10', height = 400, width = 600, name = 'segments', legend = False)\n",
    "all_points_map = vps.explore(m = base1, color = 'red',style_kwds = {'weight':5}, name= 'points')"
   ]
  },
  {
   "cell_type": "code",
   "execution_count": null,
   "id": "6b52653b-7130-4a69-92b2-035f7d73bbfe",
   "metadata": {},
   "outputs": [],
   "source": [
    "all_points_map"
   ]
  },
  {
   "cell_type": "code",
   "execution_count": null,
   "id": "e6c8009a-94d7-4891-bdc3-f85f7f7f69f7",
   "metadata": {},
   "outputs": [],
   "source": [
    "base2 = segs.explore('shape_array_key',cmap= 'tab10', height = 400, width = 600, name = 'segments', legend = False)\n",
    "sjoin_map = sjoined_results.explore(m = base2, color = 'blue',style_kwds = {'weight':5}, name= 'points')"
   ]
  },
  {
   "cell_type": "code",
   "execution_count": null,
   "id": "b491f24d-88a4-4c33-80b1-c122fdcb5c7a",
   "metadata": {},
   "outputs": [],
   "source": [
    "sjoin_map"
   ]
  },
  {
   "cell_type": "code",
   "execution_count": null,
   "id": "e18269b2-ca96-444a-88ce-b9d0957ed7ba",
   "metadata": {
    "scrolled": true,
    "tags": []
   },
   "outputs": [],
   "source": [
    "# Look at the trips chosen for these 50 routes to investigate\n",
    "(bbb_route_most_populated_df[bbb_route_most_populated_df\n",
    "  .shape_array_key.isin(bbb_shapes_with_zeroes)]\n",
    " .sort_values(['percent_of_ok_rows'])\n",
    " .drop(columns = ['gtfs_dataset_key'])\n",
    "      )"
   ]
  },
  {
   "cell_type": "markdown",
   "id": "ed9359d6-58de-4a73-808c-b571d4262b1e",
   "metadata": {},
   "source": [
    "#### Look at routes with a high % of ok rows"
   ]
  },
  {
   "cell_type": "code",
   "execution_count": null,
   "id": "b915f448-c3a8-494a-b5e8-349ac1a2d190",
   "metadata": {},
   "outputs": [],
   "source": [
    "def one_route_sjoined(segments:gpd.GeoDataFrame, points:gpd.GeoDataFrame, shape_key:str):\n",
    "    base = segments[segments.shape_array_key == shape_key]\n",
    "    points = points[points.shape_array_key_left == shape_key]\n",
    "    base_map = base.explore('shape_array_key',cmap= 'tab10', height = 400, width = 600, name = 'segments', legend = False)\n",
    "    points_map = points.explore(m = base_map, color = 'blue',style_kwds = {'weight':5}, name= 'points')\n",
    "    display(points_map)"
   ]
  },
  {
   "cell_type": "code",
   "execution_count": null,
   "id": "31a217da-5b9b-4cbb-a3d8-8794805eac92",
   "metadata": {},
   "outputs": [],
   "source": [
    "def one_route_allpts(segments:gpd.GeoDataFrame, points:gpd.GeoDataFrame, shape_key:str):\n",
    "    base = segments[segments.shape_array_key == shape_key]\n",
    "    points = points[points.shape_array_key == shape_key]\n",
    "    base_map = base.explore('shape_array_key',cmap= 'tab10', height = 400, width = 600, name = 'segments', legend = False)\n",
    "    points_map = points.explore(m = base_map, color = 'red',style_kwds = {'weight':5}, name= 'points')\n",
    "    display(points_map)"
   ]
  },
  {
   "cell_type": "markdown",
   "id": "63775638-76a6-4275-bb74-71085ef50cf5",
   "metadata": {},
   "source": [
    "##### Ex 1 ec24d2f734c25d27c5206af1960c7c20\n",
    "* Seq 4 is the only segment without two points."
   ]
  },
  {
   "cell_type": "code",
   "execution_count": null,
   "id": "2a92e38b-c802-413f-87c8-5cefb58fada2",
   "metadata": {},
   "outputs": [],
   "source": [
    "highest_key1 = \"ec24d2f734c25d27c5206af1960c7c20\""
   ]
  },
  {
   "cell_type": "code",
   "execution_count": null,
   "id": "70760011-9d74-4001-b90e-ce8911dedc8a",
   "metadata": {},
   "outputs": [],
   "source": [
    "# Find rows associated with each trip\n",
    "((bbb_only[bbb_only\n",
    ".shape_array_key == highest_key1])\n",
    " .groupby(['trip_id'])\n",
    " .agg({'meters_elapsed':'count'})\n",
    ")"
   ]
  },
  {
   "cell_type": "code",
   "execution_count": null,
   "id": "4d56b533-62e0-431e-a191-2833e247d494",
   "metadata": {
    "scrolled": true,
    "tags": []
   },
   "outputs": [],
   "source": [
    "# Look at each row from the flagged dataframe.\n",
    "speed_utils.original_df_rows(bbb_only, \n",
    "                             \"904961\",\n",
    "                             highest_key1,\n",
    "                             )"
   ]
  },
  {
   "cell_type": "code",
   "execution_count": null,
   "id": "6a5fd02d-cd97-4a0c-85db-6b074d22b8fe",
   "metadata": {},
   "outputs": [],
   "source": [
    "(bbb_route_most_populated_df[bbb_route_most_populated_df\n",
    "                             .shape_array_key == highest_key1])"
   ]
  },
  {
   "cell_type": "code",
   "execution_count": null,
   "id": "6fc2927f-c0e9-41aa-9901-9690402a547d",
   "metadata": {},
   "outputs": [],
   "source": [
    "one_route_allpts(segs, vps, highest_key1)"
   ]
  },
  {
   "cell_type": "markdown",
   "id": "6a02b5bd-a881-4da4-990d-f8621212c0f6",
   "metadata": {},
   "source": [
    "##### Ex 2 dead94426ea657d608284943e60043d5"
   ]
  },
  {
   "cell_type": "code",
   "execution_count": null,
   "id": "03927e49-ac67-4270-adb7-b67ae291e7cf",
   "metadata": {},
   "outputs": [],
   "source": [
    "high_key2 = \"dead94426ea657d608284943e60043d5\""
   ]
  },
  {
   "cell_type": "code",
   "execution_count": null,
   "id": "788d58eb-cb2a-4764-88af-8bd50b9af85f",
   "metadata": {
    "scrolled": true,
    "tags": []
   },
   "outputs": [],
   "source": [
    "speed_utils.original_df_rows(bbb_only, \n",
    "                             \"904739\",\n",
    "                             high_key2,\n",
    "                             )"
   ]
  },
  {
   "cell_type": "code",
   "execution_count": null,
   "id": "e4649a93-7dcc-419e-9139-a7e8f459be7f",
   "metadata": {},
   "outputs": [],
   "source": [
    "one_route_allpts(segs, vps, high_key2)"
   ]
  },
  {
   "cell_type": "code",
   "execution_count": null,
   "id": "ad671044-9893-4d8e-a397-9092d92ea95a",
   "metadata": {},
   "outputs": [],
   "source": [
    "sjoined_results.columns"
   ]
  },
  {
   "cell_type": "code",
   "execution_count": null,
   "id": "5cadd04f-cf32-42ca-bd2d-6f98590165ae",
   "metadata": {},
   "outputs": [],
   "source": [
    "one_route_sjoined(segs, sjoined_results, high_key2)"
   ]
  },
  {
   "cell_type": "markdown",
   "id": "4d78cd82-a3e4-4028-92b8-8a185785e563",
   "metadata": {},
   "source": [
    "##### Ex 3 26cf9105aaf5efa345fe565befc7b67d\n",
    "* Seq 13,14,17 only have one point recorded."
   ]
  },
  {
   "cell_type": "code",
   "execution_count": null,
   "id": "a8b432cf-4181-408a-b297-b17f11c815fb",
   "metadata": {},
   "outputs": [],
   "source": [
    "high_key3 = \"26cf9105aaf5efa345fe565befc7b67d\""
   ]
  },
  {
   "cell_type": "code",
   "execution_count": null,
   "id": "06c4fda7-d055-4a6b-81ab-725e7bdbf79e",
   "metadata": {},
   "outputs": [],
   "source": [
    "(bbb_route_most_populated_df[bbb_route_most_populated_df\n",
    "                             .shape_array_key == high_key3])"
   ]
  },
  {
   "cell_type": "code",
   "execution_count": null,
   "id": "c035a2f5-8f64-4a8b-bd40-171c6c752a48",
   "metadata": {
    "scrolled": true,
    "tags": []
   },
   "outputs": [],
   "source": [
    "speed_utils.original_df_rows(bbb_only, \n",
    "                             \"905271\",\n",
    "                             high_key3,\n",
    "                             )"
   ]
  },
  {
   "cell_type": "code",
   "execution_count": null,
   "id": "31ec2e3b-6d6a-49fb-a307-ed064efebd65",
   "metadata": {},
   "outputs": [],
   "source": [
    "one_route_allpts(segs, vps, high_key3)"
   ]
  },
  {
   "cell_type": "markdown",
   "id": "2feec5eb-de6a-407c-ac7a-b11625b1147b",
   "metadata": {},
   "source": [
    "#### Look at routes with a low % of ok rows"
   ]
  },
  {
   "cell_type": "markdown",
   "id": "4f062554-5d72-4552-8ad6-06fbd9c16762",
   "metadata": {},
   "source": [
    "##### Ex 1 de70089f186a809de6685c056377f892\n",
    "* Seq 13-15 only have one point recorded per segment."
   ]
  },
  {
   "cell_type": "code",
   "execution_count": null,
   "id": "fd95695c-7060-46c2-b77e-760ba9d00ce6",
   "metadata": {},
   "outputs": [],
   "source": [
    "low_key1= \"de70089f186a809de6685c056377f892\""
   ]
  },
  {
   "cell_type": "code",
   "execution_count": null,
   "id": "031c2fba-5aeb-448b-8f89-a95e4e83b2a9",
   "metadata": {},
   "outputs": [],
   "source": [
    "(bbb_route_most_populated_df[bbb_route_most_populated_df\n",
    "                             .shape_array_key == low_key1])"
   ]
  },
  {
   "cell_type": "code",
   "execution_count": null,
   "id": "17591ccf-6d83-4e82-93ff-bf359ee84795",
   "metadata": {
    "scrolled": true,
    "tags": []
   },
   "outputs": [],
   "source": [
    "speed_utils.original_df_rows(bbb_only, \n",
    "                             \"903024\",\n",
    "                             low_key1,\n",
    "                             )"
   ]
  },
  {
   "cell_type": "code",
   "execution_count": null,
   "id": "2583d9a7-e6c8-4a88-931a-1d9cd6f98d2a",
   "metadata": {},
   "outputs": [],
   "source": [
    "one_route_allpts(segs, vps, low_key1)"
   ]
  },
  {
   "cell_type": "markdown",
   "id": "e110356e-caca-4674-aa20-1f369fca8cef",
   "metadata": {},
   "source": [
    "##### Ex 2 7e229c2580722238014a0d6c2c7910ed\n",
    "* Error category: sequences 34,35,36 don't have enough points recorded."
   ]
  },
  {
   "cell_type": "code",
   "execution_count": null,
   "id": "21509d65-4014-4eb6-aa70-bd86cc057233",
   "metadata": {},
   "outputs": [],
   "source": [
    "low_key2 = \"7e229c2580722238014a0d6c2c7910ed\""
   ]
  },
  {
   "cell_type": "code",
   "execution_count": null,
   "id": "69a224b3-22a1-4c1b-9696-f4a6048dc887",
   "metadata": {},
   "outputs": [],
   "source": [
    "(bbb_route_most_populated_df[bbb_route_most_populated_df\n",
    "                             .shape_array_key == low_key2])"
   ]
  },
  {
   "cell_type": "code",
   "execution_count": null,
   "id": "a3b5f0b0-c7ab-410c-946a-85c189845c51",
   "metadata": {},
   "outputs": [],
   "source": [
    "((bbb_only[bbb_only\n",
    ".shape_array_key == low_key2])\n",
    " .groupby(['trip_id'])\n",
    " .agg({'meters_elapsed':'count'})\n",
    ")"
   ]
  },
  {
   "cell_type": "code",
   "execution_count": null,
   "id": "5117b1c9-986b-4ed3-ba5a-3dfeea6b2c40",
   "metadata": {
    "scrolled": true,
    "tags": []
   },
   "outputs": [],
   "source": [
    "speed_utils.original_df_rows(bbb_only, \n",
    "                             \"903732\",\n",
    "                             low_key2,\n",
    "                             )"
   ]
  },
  {
   "cell_type": "code",
   "execution_count": null,
   "id": "cd4fcc5b-3955-4b92-9880-c5107257d9e0",
   "metadata": {},
   "outputs": [],
   "source": [
    "one_route_allpts(segs, vps, low_key2)"
   ]
  },
  {
   "cell_type": "markdown",
   "id": "38568a2e-aa07-4ce8-92e9-f1cfbcc3d42c",
   "metadata": {},
   "source": [
    "##### Ex 3 5d82ee44ca90417fb18e53af793be3b6\n",
    "* Same category as Ex 1 in sequences 8 and 9: only one point was recorded for this segment.\n",
    "* "
   ]
  },
  {
   "cell_type": "code",
   "execution_count": null,
   "id": "c53dcb03-d7d3-426a-b6de-ffebbfa2a908",
   "metadata": {},
   "outputs": [],
   "source": [
    "low_key3 = \"5d82ee44ca90417fb18e53af793be3b6\""
   ]
  },
  {
   "cell_type": "code",
   "execution_count": null,
   "id": "8bd9d6a9-9edc-44b4-ad04-5e07f8f404a2",
   "metadata": {},
   "outputs": [],
   "source": [
    "(bbb_route_most_populated_df[bbb_route_most_populated_df\n",
    "                             .shape_array_key == low_key3])"
   ]
  },
  {
   "cell_type": "code",
   "execution_count": null,
   "id": "f60c02e4-1d09-4af0-bee4-0643bb9cbe27",
   "metadata": {
    "scrolled": true,
    "tags": []
   },
   "outputs": [],
   "source": [
    "speed_utils.original_df_rows(bbb_only, \n",
    "                             \"904307\",\n",
    "                             low_key3,\n",
    "                             )"
   ]
  },
  {
   "cell_type": "code",
   "execution_count": null,
   "id": "0a56f138-bd53-4cbf-9b76-6b4ceae0e84f",
   "metadata": {},
   "outputs": [],
   "source": [
    "one_route_allpts(segs, vps, low_key3)"
   ]
  },
  {
   "cell_type": "markdown",
   "id": "2b53b3db-8cde-4404-bad8-8ecb4909de22",
   "metadata": {},
   "source": [
    "##### Ex 4 5a788bd9c9aa5c5465875689a626baa9\n",
    "* Seq 21 and 22 are sharing the segment.\n",
    "* Seq 6 shows up even though there are no points at all.\n",
    "* Seq isn't even mapped as a segment."
   ]
  },
  {
   "cell_type": "code",
   "execution_count": null,
   "id": "57e8102c-40d9-4ac8-be5b-7f40dac7690b",
   "metadata": {},
   "outputs": [],
   "source": [
    "low_key4 = \"5a788bd9c9aa5c5465875689a626baa9\""
   ]
  },
  {
   "cell_type": "code",
   "execution_count": null,
   "id": "cfadacd2-3087-48ac-945e-cd8ae89cb396",
   "metadata": {},
   "outputs": [],
   "source": [
    "(bbb_route_most_populated_df[bbb_route_most_populated_df\n",
    "                             .shape_array_key == low_key4])"
   ]
  },
  {
   "cell_type": "code",
   "execution_count": null,
   "id": "95822a9f-4d08-4eeb-9015-743669071364",
   "metadata": {
    "scrolled": true,
    "tags": []
   },
   "outputs": [],
   "source": [
    "speed_utils.original_df_rows(bbb_only, \n",
    "                             \"904484\",\n",
    "                             low_key4,\n",
    "                             )"
   ]
  },
  {
   "cell_type": "code",
   "execution_count": null,
   "id": "26a131e8-d4e6-4f54-893d-239d59605755",
   "metadata": {},
   "outputs": [],
   "source": [
    "one_route_allpts(segs, vps, low_key4)"
   ]
  },
  {
   "cell_type": "markdown",
   "id": "affbc723-56c3-4e10-8488-d0130e6c8c55",
   "metadata": {},
   "source": [
    "##### Ex 5 0dd7a7c593c82cd0141235fe6a930324"
   ]
  },
  {
   "cell_type": "code",
   "execution_count": null,
   "id": "bb328df6-643f-41bf-b319-0042bfa79a10",
   "metadata": {},
   "outputs": [],
   "source": [
    "low_key5 = \"0dd7a7c593c82cd0141235fe6a930324\""
   ]
  },
  {
   "cell_type": "code",
   "execution_count": null,
   "id": "3cc1bc57-a3c8-4d54-8ec4-fbe544653ac5",
   "metadata": {},
   "outputs": [],
   "source": [
    "(bbb_route_most_populated_df[bbb_route_most_populated_df\n",
    "                             .shape_array_key == low_key5])"
   ]
  },
  {
   "cell_type": "code",
   "execution_count": null,
   "id": "58d52df2-0098-4735-86a7-73ce224ae060",
   "metadata": {
    "scrolled": true,
    "tags": []
   },
   "outputs": [],
   "source": [
    "speed_utils.original_df_rows(bbb_only, \n",
    "                             \"904341\",\n",
    "                             low_key5,\n",
    "                             )"
   ]
  },
  {
   "cell_type": "code",
   "execution_count": null,
   "id": "40f582c6-7ac9-4ea0-804a-6e9dcb002f37",
   "metadata": {},
   "outputs": [],
   "source": [
    "one_route_allpts(segs, vps, low_key5)"
   ]
  },
  {
   "cell_type": "markdown",
   "id": "629c03d5-55e6-4819-bab0-63ce5d9637c7",
   "metadata": {},
   "source": [
    "#### Look at overlapping routes"
   ]
  },
  {
   "cell_type": "code",
   "execution_count": null,
   "id": "95cacc7b-2929-47ba-a194-49ed132c1c82",
   "metadata": {},
   "outputs": [],
   "source": [
    "overlap_key1 = \"26cf9105aaf5efa345fe565befc7b67d\""
   ]
  },
  {
   "cell_type": "code",
   "execution_count": null,
   "id": "8c8a02f0-2a03-4fac-9221-d4bff8546974",
   "metadata": {},
   "outputs": [],
   "source": [
    "(bbb_route_most_populated_df[bbb_route_most_populated_df\n",
    "                             .shape_array_key == overlap_key1])"
   ]
  },
  {
   "cell_type": "code",
   "execution_count": null,
   "id": "de8e89a8-0780-4b4f-a6bd-a875b070c0e3",
   "metadata": {},
   "outputs": [],
   "source": [
    "overlap_key2 = \"dc0b97c39be8b2f825f345f600742f81\""
   ]
  },
  {
   "cell_type": "code",
   "execution_count": null,
   "id": "97ccbdc7-6d12-45e7-999c-008a7591fc44",
   "metadata": {},
   "outputs": [],
   "source": [
    "(bbb_route_most_populated_df[bbb_route_most_populated_df\n",
    "                             .shape_array_key == overlap_key2])"
   ]
  },
  {
   "cell_type": "code",
   "execution_count": null,
   "id": "9ac3054a-5bdd-4cb9-b27b-30bdda797dd5",
   "metadata": {},
   "outputs": [],
   "source": [
    "one_route_allpts(segs, vps, overlap_key1)"
   ]
  },
  {
   "cell_type": "code",
   "execution_count": null,
   "id": "82693d91-3f29-4d08-9e15-07e42d26945f",
   "metadata": {
    "scrolled": true,
    "tags": []
   },
   "outputs": [],
   "source": [
    "speed_utils.original_df_rows(bbb_only, \n",
    "                             \"905377\",\n",
    "                             overlap_key2,\n",
    "                             )"
   ]
  },
  {
   "cell_type": "code",
   "execution_count": null,
   "id": "45fd6007-8cc4-4991-9413-f43e0f8703f3",
   "metadata": {},
   "outputs": [],
   "source": [
    "one_route_allpts(segs, vps, overlap_key2)"
   ]
  }
 ],
 "metadata": {
  "kernelspec": {
   "display_name": "Python 3 (ipykernel)",
   "language": "python",
   "name": "python3"
  },
  "language_info": {
   "codemirror_mode": {
    "name": "ipython",
    "version": 3
   },
   "file_extension": ".py",
   "mimetype": "text/x-python",
   "name": "python",
   "nbconvert_exporter": "python",
   "pygments_lexer": "ipython3",
   "version": "3.9.13"
  }
 },
 "nbformat": 4,
 "nbformat_minor": 5
}
