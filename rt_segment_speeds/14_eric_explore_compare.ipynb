{
 "cells": [
  {
   "cell_type": "code",
   "execution_count": null,
   "id": "d4569891-685c-4985-a703-65555bc00126",
   "metadata": {},
   "outputs": [],
   "source": [
    "import os\n",
    "os.environ[\"CALITP_BQ_MAX_BYTES\"] = str(800_000_000_000)\n",
    "os.environ['USE_PYGEOS'] = '0'\n",
    "import shared_utils\n",
    "\n",
    "from calitp_data_analysis.tables import tbls\n",
    "import calitp_data_analysis.magics\n",
    "from calitp_data.storage import get_fs\n",
    "\n",
    "from siuba import *\n",
    "import pandas as pd\n",
    "import geopandas as gpd\n",
    "\n",
    "import datetime as dt"
   ]
  },
  {
   "cell_type": "code",
   "execution_count": null,
   "id": "f99d98da-7f32-4d1f-8817-3d4fe786f873",
   "metadata": {},
   "outputs": [],
   "source": [
    "import segment_speed_utils"
   ]
  },
  {
   "cell_type": "code",
   "execution_count": null,
   "id": "b6efb97e-282d-44b1-861a-66466ab1dffb",
   "metadata": {},
   "outputs": [],
   "source": [
    "analysis_date = dt.date(2023, 4, 12)"
   ]
  },
  {
   "cell_type": "code",
   "execution_count": null,
   "id": "49d174fe-41c6-4ab3-b3af-b11632f490f7",
   "metadata": {},
   "outputs": [],
   "source": [
    "fs = get_fs()"
   ]
  },
  {
   "cell_type": "code",
   "execution_count": null,
   "id": "67749804-c5fa-4d75-a835-e59a81cbf18e",
   "metadata": {},
   "outputs": [],
   "source": [
    "# path = 'gs://calitp-analytics-data/data-analyses/rt_segment_speeds/export/avg_speeds_stop_segments_2023-04-12.parquet'"
   ]
  },
  {
   "cell_type": "code",
   "execution_count": null,
   "id": "41cf88f7-2a6c-46c1-93c3-72598728f9a5",
   "metadata": {},
   "outputs": [],
   "source": [
    "# fs.get(path, './avg_speeds_stop_segments_2023-04-12.parquet')"
   ]
  },
  {
   "cell_type": "code",
   "execution_count": null,
   "id": "3b148cf2-9648-494f-89ce-a12be20e6fba",
   "metadata": {},
   "outputs": [],
   "source": [
    "exported_segments = pd.read_parquet('./avg_speeds_stop_segments_2023-04-12.parquet')"
   ]
  },
  {
   "cell_type": "code",
   "execution_count": null,
   "id": "5927a590-1a17-49a4-a73a-a1adeb21c8b2",
   "metadata": {},
   "outputs": [],
   "source": [
    "exported_segments >> head(1)"
   ]
  },
  {
   "cell_type": "code",
   "execution_count": null,
   "id": "9c89cc9b-1d09-4c03-9cef-5f2b99c86b04",
   "metadata": {},
   "outputs": [],
   "source": [
    "gdf = gpd.GeoDataFrame(exported_segments,\n",
    "                 geometry=gpd.GeoSeries.from_wkb(exported_segments.geometry),\n",
    "                 crs=segment_speed_utils.project_vars.PROJECT_CRS\n",
    "                )"
   ]
  },
  {
   "cell_type": "code",
   "execution_count": null,
   "id": "296bf041-357b-4adf-8663-84a83f3e7a0c",
   "metadata": {},
   "outputs": [],
   "source": [
    "gdf >> head(3)"
   ]
  },
  {
   "cell_type": "code",
   "execution_count": null,
   "id": "13017c40-e306-4322-849b-b14c37e5cb17",
   "metadata": {
    "tags": []
   },
   "outputs": [],
   "source": [
    "# opening direct from gcs seemed to hang?\n",
    "# gpd.read_file('./avg_speeds_stop_segments_2023-04-12.parquet')"
   ]
  },
  {
   "cell_type": "code",
   "execution_count": null,
   "id": "591e632b-7042-46f6-bb25-eb24f13ca697",
   "metadata": {},
   "outputs": [],
   "source": [
    "shared_utils.rt_utils.get_speedmaps_ix_df?"
   ]
  },
  {
   "cell_type": "code",
   "execution_count": null,
   "id": "8f684b58-a644-4e9e-b931-78c6c283ecfe",
   "metadata": {},
   "outputs": [],
   "source": [
    "shared_utils.rt_utils.get_speedmaps_ix_df(analysis_date) >> filter(_.organization_name.str.contains('Santa')) >> head(5)"
   ]
  },
  {
   "cell_type": "code",
   "execution_count": null,
   "id": "47895df5-ac22-49af-aba2-ac5fd8e35c30",
   "metadata": {},
   "outputs": [],
   "source": [
    "samo_url = (tbls.mart_transit_database.dim_gtfs_datasets()\n",
    "          >> filter(_.key == '6c2d7daaf979779fa2089c6395baf98b') # Santa Monica\n",
    "          >> collect()\n",
    "         ).base64_url.iloc[0]"
   ]
  },
  {
   "cell_type": "code",
   "execution_count": null,
   "id": "f21a1dfa-c53e-48cb-8e80-c933e28c6119",
   "metadata": {},
   "outputs": [],
   "source": [
    "segments_samo = (gdf >> filter(_.time_of_day == 'all_day', _.base64_url == samo_url)).copy()"
   ]
  },
  {
   "cell_type": "code",
   "execution_count": null,
   "id": "18c3fecc-d3ae-45fd-8549-647076b24e93",
   "metadata": {},
   "outputs": [],
   "source": [
    "segments_samo >> head(3)"
   ]
  },
  {
   "cell_type": "code",
   "execution_count": null,
   "id": "78e02089-beea-4781-941d-cbbcfa807f47",
   "metadata": {},
   "outputs": [],
   "source": [
    "type(ZERO_THIRTY_COLORSCALE)"
   ]
  },
  {
   "cell_type": "code",
   "execution_count": null,
   "id": "7466cfa4-e737-4194-9c0f-1792feee3905",
   "metadata": {},
   "outputs": [],
   "source": [
    "import branca"
   ]
  },
  {
   "cell_type": "code",
   "execution_count": null,
   "id": "a6afbf82-9ac1-4ca3-9f1d-3c96a46aff05",
   "metadata": {},
   "outputs": [],
   "source": [
    "isinstance(ZERO_THIRTY_COLORSCALE, branca.colormap.ColorMap)"
   ]
  },
  {
   "cell_type": "code",
   "execution_count": null,
   "id": "912d1c94-6738-4eab-8b49-baaaf7beac86",
   "metadata": {},
   "outputs": [],
   "source": [
    "from shared_utils.rt_utils import try_parallel, arrowize_by_frequency, ZERO_THIRTY_COLORSCALE"
   ]
  },
  {
   "cell_type": "code",
   "execution_count": null,
   "id": "1933b57d-1875-4c67-9538-a8e31767cbb7",
   "metadata": {},
   "outputs": [],
   "source": [
    "segments_samo.geometry = segments_samo.geometry.apply(try_parallel)"
   ]
  },
  {
   "cell_type": "code",
   "execution_count": null,
   "id": "898bc441-51a6-48dc-baf8-9e9a6981ffb1",
   "metadata": {},
   "outputs": [],
   "source": [
    "segments_samo = segments_samo.apply(arrowize_by_frequency, axis=1, args=['n_trips'])"
   ]
  },
  {
   "cell_type": "code",
   "execution_count": null,
   "id": "c78f6c3b-79b5-43d9-a2e7-382509999f6a",
   "metadata": {
    "tags": []
   },
   "outputs": [],
   "source": [
    "segments_samo.explore()"
   ]
  },
  {
   "cell_type": "code",
   "execution_count": null,
   "id": "cd09c584-77f0-4df6-8add-6c4fa9a2c542",
   "metadata": {},
   "outputs": [],
   "source": [
    "## TODO this on an SPA map... "
   ]
  },
  {
   "cell_type": "markdown",
   "id": "74f56649-0096-4588-bfdf-49841c7453f3",
   "metadata": {},
   "source": [
    "## Segs to spa util"
   ]
  },
  {
   "cell_type": "code",
   "execution_count": null,
   "id": "03de4513-70a1-4666-ba54-3ec103cb52b3",
   "metadata": {},
   "outputs": [],
   "source": [
    "SPA_MAP_SITE = 'https://embeddable-maps.calitp.org/'\n",
    "SPA_MAP_BUCKET = 'calitp-map-tiles/'\n",
    "SPEEDMAP_LEGEND_URL = 'https://storage.googleapis.com/calitp-map-tiles/speeds_legend.svg'"
   ]
  },
  {
   "cell_type": "code",
   "execution_count": null,
   "id": "a1860744-fbd5-41d6-85dd-edaca1366c24",
   "metadata": {},
   "outputs": [],
   "source": [
    "import gzip\n",
    "import base64\n",
    "import json\n",
    "from calitp_data.storage import get_fs"
   ]
  },
  {
   "cell_type": "code",
   "execution_count": null,
   "id": "d3a7908a-5a86-465b-9fa8-9a0434837380",
   "metadata": {},
   "outputs": [],
   "source": [
    "def spa_map_export_link(gdf: gpd.GeoDataFrame, path: str, state: dict, site: str=SPA_MAP_SITE):\n",
    "## TODO generalize and --> shared_utils\n",
    "    fs = get_fs()\n",
    "\n",
    "    geojson_str = gdf.to_json()\n",
    "    geojson_bytes = geojson_str.encode('utf-8')\n",
    "    print(f'writing to {path}')\n",
    "    with fs.open(path, 'wb') as writer:  # write out to public-facing GCS?\n",
    "        with gzip.GzipFile(fileobj=writer, mode=\"w\") as gz:\n",
    "            gz.write(geojson_bytes)\n",
    "    base64state = base64.urlsafe_b64encode(json.dumps(state).encode()).decode()\n",
    "    spa_map_url = f'{site}?state={base64state}'\n",
    "    return spa_map_url"
   ]
  },
  {
   "cell_type": "code",
   "execution_count": null,
   "id": "580f0136-3c7f-4106-bcdf-df2dd4d3cd34",
   "metadata": {},
   "outputs": [],
   "source": [
    "if 1 == 1: print('yeah') "
   ]
  },
  {
   "cell_type": "code",
   "execution_count": null,
   "id": "ccb78d98-d4e7-4b2e-b298-103ead9fa302",
   "metadata": {},
   "outputs": [],
   "source": [
    "{} or {2:'2'}"
   ]
  },
  {
   "cell_type": "code",
   "execution_count": null,
   "id": "e895887a-1483-4da3-a4da-3f9760bf8ee8",
   "metadata": {},
   "outputs": [],
   "source": [
    "def set_state_export(gdf, bucket: str=SPA_MAP_BUCKET, subfolder: str='testing/',\n",
    "                     filename: str='test2', map_type: str=None, map_title: str='Map',\n",
    "                    cbar: branca.colormap.ColorMap=None, color_col: str=None,\n",
    "                    legend_url: str=None, existing_layers: list=[]):\n",
    "    '''\n",
    "    \n",
    "    '''\n",
    "    \n",
    "    spa_map_state = {\"name\": \"null\", \"layers\": existing_layers, \"lat_lon\": (),\n",
    "                             \"zoom\": 13}\n",
    "    path = f'{bucket}{subfolder}{filename}.geojson.gz'\n",
    "    gdf = gdf.to_crs(shared_utils.geography_utils.WGS84)\n",
    "    if cbar and color_col:\n",
    "        gdf['color'] = gdf[color_col].apply(lambda x: cbar.rgb_bytes_tuple(x))\n",
    "    gdf = gdf.round(2) # round for map display\n",
    "    this_layer = [{\n",
    "        \"name\": f\"{map_title}\",\n",
    "        \"url\": f\"https://storage.googleapis.com/{path}\",\n",
    "        'properties': {'stroked': False, 'highlight_saturation_multiplier': 0.5}\n",
    "        }]\n",
    "    if map_type: this_layer[0]['type'] = map_type \n",
    "    if map_type == 'speedmap':\n",
    "        this_layer[0]['properties']['tooltip_speed_key'] = 'p20_mph'\n",
    "    spa_map_state[\"layers\"] += this_layer\n",
    "    centroid = (gdf.geometry.centroid.y.mean(), gdf.geometry.centroid.x.mean())\n",
    "    spa_map_state[\"lat_lon\"] = centroid\n",
    "    if legend_url:\n",
    "        spa_map_state['legend_url'] = legend_url\n",
    "    return {'state_dict': spa_map_state, 'spa_link': spa_map_export_link(gdf = gdf, path = path, state = spa_map_state)}"
   ]
  },
  {
   "cell_type": "code",
   "execution_count": null,
   "id": "ae5cb7d0-770b-400c-b4af-634a5f94c81e",
   "metadata": {},
   "outputs": [],
   "source": [
    "set_state_export(segments_samo, cbar=ZERO_THIRTY_COLORSCALE, legend_url=SPEEDMAP_LEGEND_URL, map_type='speedmap')"
   ]
  },
  {
   "cell_type": "code",
   "execution_count": null,
   "id": "f5539507-7e35-4766-a02c-90698057aca1",
   "metadata": {},
   "outputs": [],
   "source": [
    "set_state_export(segments_samo)"
   ]
  },
  {
   "cell_type": "markdown",
   "id": "aa7732b8-0ea3-439f-9dd6-a86bc99e234f",
   "metadata": {},
   "source": [
    "## Speedmap Comparision"
   ]
  },
  {
   "cell_type": "code",
   "execution_count": null,
   "id": "1ffe6178-cb0d-4b4d-9909-981ca1a9ce36",
   "metadata": {},
   "outputs": [],
   "source": [
    "from rt_analysis import rt_filter_map_plot"
   ]
  },
  {
   "cell_type": "code",
   "execution_count": null,
   "id": "f53c6fb2-cab3-4056-8d6e-321e93808dc2",
   "metadata": {},
   "outputs": [],
   "source": [
    "rt_day = rt_filter_map_plot.from_gcs(300, analysis_date)"
   ]
  },
  {
   "cell_type": "code",
   "execution_count": null,
   "id": "86744a30-39ba-4e5a-89ee-c52de3304024",
   "metadata": {},
   "outputs": [],
   "source": [
    "_m = rt_day.segment_speed_map(no_render=True)"
   ]
  },
  {
   "cell_type": "code",
   "execution_count": null,
   "id": "9c4d258c-9be3-48bc-b04c-eed4dc557bdc",
   "metadata": {},
   "outputs": [],
   "source": [
    "rt_day.map_gz_export()"
   ]
  },
  {
   "cell_type": "code",
   "execution_count": null,
   "id": "ef1bde48-f9d3-4df6-9885-cc96c1f099d7",
   "metadata": {},
   "outputs": [],
   "source": [
    "rt_day.spa_map_state"
   ]
  },
  {
   "cell_type": "code",
   "execution_count": null,
   "id": "b69a0f04-8154-4bc9-afaf-32fcdb5664cd",
   "metadata": {},
   "outputs": [],
   "source": [
    "rt_day.spa_map_url"
   ]
  },
  {
   "cell_type": "code",
   "execution_count": null,
   "id": "5f7e3da5-8d72-458e-a601-dcafa32e49a5",
   "metadata": {},
   "outputs": [],
   "source": [
    "## TODO shn?"
   ]
  },
  {
   "cell_type": "code",
   "execution_count": null,
   "id": "0d5681c2-3594-49a9-aa1c-3a92f8a0b94f",
   "metadata": {},
   "outputs": [],
   "source": [
    "rt_day.display_spa_map()"
   ]
  },
  {
   "cell_type": "code",
   "execution_count": null,
   "id": "3359f7be-bd7f-4f27-bf83-2bea9bdd446c",
   "metadata": {},
   "outputs": [],
   "source": []
  }
 ],
 "metadata": {
  "kernelspec": {
   "display_name": "Python 3 (ipykernel)",
   "language": "python",
   "name": "python3"
  },
  "language_info": {
   "codemirror_mode": {
    "name": "ipython",
    "version": 3
   },
   "file_extension": ".py",
   "mimetype": "text/x-python",
   "name": "python",
   "nbconvert_exporter": "python",
   "pygments_lexer": "ipython3",
   "version": "3.9.13"
  },
  "widgets": {
   "application/vnd.jupyter.widget-state+json": {
    "state": {},
    "version_major": 2,
    "version_minor": 0
   }
  }
 },
 "nbformat": 4,
 "nbformat_minor": 5
}
