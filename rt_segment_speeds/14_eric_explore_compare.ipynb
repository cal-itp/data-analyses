{
 "cells": [
  {
   "cell_type": "code",
   "execution_count": 1,
   "id": "d4569891-685c-4985-a703-65555bc00126",
   "metadata": {},
   "outputs": [
    {
     "ename": "ModuleNotFoundError",
     "evalue": "No module named 'shared_utils'",
     "output_type": "error",
     "traceback": [
      "\u001b[0;31m---------------------------------------------------------------------------\u001b[0m",
      "\u001b[0;31mModuleNotFoundError\u001b[0m                       Traceback (most recent call last)",
      "Cell \u001b[0;32mIn[1], line 8\u001b[0m\n\u001b[1;32m      6\u001b[0m \u001b[38;5;28;01mimport\u001b[39;00m \u001b[38;5;21;01mcalitp_data_analysis\u001b[39;00m\u001b[38;5;21;01m.\u001b[39;00m\u001b[38;5;21;01mmagics\u001b[39;00m\n\u001b[1;32m      7\u001b[0m \u001b[38;5;28;01mfrom\u001b[39;00m \u001b[38;5;21;01mcalitp_data_analysis\u001b[39;00m \u001b[38;5;28;01mimport\u001b[39;00m get_fs, geography_utils\n\u001b[0;32m----> 8\u001b[0m \u001b[38;5;28;01mfrom\u001b[39;00m \u001b[38;5;21;01mshared_utils\u001b[39;00m \u001b[38;5;28;01mimport\u001b[39;00m rt_utils, rt_dates\n\u001b[1;32m     10\u001b[0m \u001b[38;5;28;01mfrom\u001b[39;00m \u001b[38;5;21;01msiuba\u001b[39;00m \u001b[38;5;28;01mimport\u001b[39;00m \u001b[38;5;241m*\u001b[39m\n\u001b[1;32m     11\u001b[0m \u001b[38;5;28;01mimport\u001b[39;00m \u001b[38;5;21;01mpandas\u001b[39;00m \u001b[38;5;28;01mas\u001b[39;00m \u001b[38;5;21;01mpd\u001b[39;00m\n",
      "\u001b[0;31mModuleNotFoundError\u001b[0m: No module named 'shared_utils'"
     ]
    }
   ],
   "source": [
    "import os\n",
    "os.environ[\"CALITP_BQ_MAX_BYTES\"] = str(800_000_000_000)\n",
    "os.environ['USE_PYGEOS'] = '0'\n",
    "\n",
    "from calitp_data_analysis.tables import tbls\n",
    "import calitp_data_analysis.magics\n",
    "from calitp_data_analysis import get_fs, geography_utils\n",
    "from shared_utils import rt_utils, rt_dates\n",
    "\n",
    "from siuba import *\n",
    "import pandas as pd\n",
    "import geopandas as gpd\n",
    "\n",
    "import datetime as dt"
   ]
  },
  {
   "cell_type": "code",
   "execution_count": null,
   "id": "f99d98da-7f32-4d1f-8817-3d4fe786f873",
   "metadata": {},
   "outputs": [],
   "source": [
    "import segment_speed_utils"
   ]
  },
  {
   "cell_type": "code",
   "execution_count": null,
   "id": "b6efb97e-282d-44b1-861a-66466ab1dffb",
   "metadata": {},
   "outputs": [],
   "source": [
    "analysis_date = rt_dates.DATES['sep2023']"
   ]
  },
  {
   "cell_type": "code",
   "execution_count": 4,
   "id": "49d174fe-41c6-4ab3-b3af-b11632f490f7",
   "metadata": {},
   "outputs": [],
   "source": [
    "fs = get_fs()"
   ]
  },
  {
   "cell_type": "code",
   "execution_count": 5,
   "id": "67749804-c5fa-4d75-a835-e59a81cbf18e",
   "metadata": {},
   "outputs": [],
   "source": [
    "path = 'gs://calitp-analytics-data/data-analyses/rt_segment_speeds/avg_speeds_stop_segments_2023-09-13.parquet'"
   ]
  },
  {
   "cell_type": "code",
   "execution_count": 6,
   "id": "41cf88f7-2a6c-46c1-93c3-72598728f9a5",
   "metadata": {},
   "outputs": [
    {
     "data": {
      "text/plain": [
       "[None]"
      ]
     },
     "execution_count": 6,
     "metadata": {},
     "output_type": "execute_result"
    }
   ],
   "source": [
    "fs.get(path, './avg_speeds_stop_segments_2023-09-13.parquet')"
   ]
  },
  {
   "cell_type": "code",
   "execution_count": 41,
   "id": "13017c40-e306-4322-849b-b14c37e5cb17",
   "metadata": {
    "tags": []
   },
   "outputs": [],
   "source": [
    "gdf = gpd.read_parquet(path).to_crs(geography_utils.CA_NAD83Albers)"
   ]
  },
  {
   "cell_type": "code",
   "execution_count": 42,
   "id": "296bf041-357b-4adf-8663-84a83f3e7a0c",
   "metadata": {},
   "outputs": [
    {
     "data": {
      "text/html": [
       "<div>\n",
       "<style scoped>\n",
       "    .dataframe tbody tr th:only-of-type {\n",
       "        vertical-align: middle;\n",
       "    }\n",
       "\n",
       "    .dataframe tbody tr th {\n",
       "        vertical-align: top;\n",
       "    }\n",
       "\n",
       "    .dataframe thead th {\n",
       "        text-align: right;\n",
       "    }\n",
       "</style>\n",
       "<table border=\"1\" class=\"dataframe\">\n",
       "  <thead>\n",
       "    <tr style=\"text-align: right;\">\n",
       "      <th></th>\n",
       "      <th>shape_array_key</th>\n",
       "      <th>stop_sequence</th>\n",
       "      <th>schedule_gtfs_dataset_key</th>\n",
       "      <th>stop_id</th>\n",
       "      <th>loop_or_inlining</th>\n",
       "      <th>geometry</th>\n",
       "      <th>district_name</th>\n",
       "      <th>p50_mph</th>\n",
       "      <th>n_trips</th>\n",
       "      <th>p20_mph</th>\n",
       "      <th>p80_mph</th>\n",
       "      <th>time_of_day</th>\n",
       "    </tr>\n",
       "  </thead>\n",
       "  <tbody>\n",
       "    <tr>\n",
       "      <th>0</th>\n",
       "      <td>00116752596dddc4b59481bed1ce62be</td>\n",
       "      <td>840</td>\n",
       "      <td>84d3c3507a4c8df851d935b63908bbd5</td>\n",
       "      <td>4044</td>\n",
       "      <td>0</td>\n",
       "      <td>LINESTRING (179705.832 -444552.051, 179668.180...</td>\n",
       "      <td>District 7 - Los Angeles</td>\n",
       "      <td>17.56</td>\n",
       "      <td>1</td>\n",
       "      <td>17.56</td>\n",
       "      <td>17.56</td>\n",
       "      <td>all_day</td>\n",
       "    </tr>\n",
       "    <tr>\n",
       "      <th>1</th>\n",
       "      <td>00116752596dddc4b59481bed1ce62be</td>\n",
       "      <td>960</td>\n",
       "      <td>84d3c3507a4c8df851d935b63908bbd5</td>\n",
       "      <td>4052</td>\n",
       "      <td>0</td>\n",
       "      <td>LINESTRING (173246.127 -442114.715, 173246.127...</td>\n",
       "      <td>District 7 - Los Angeles</td>\n",
       "      <td>18.22</td>\n",
       "      <td>1</td>\n",
       "      <td>18.22</td>\n",
       "      <td>18.22</td>\n",
       "      <td>all_day</td>\n",
       "    </tr>\n",
       "    <tr>\n",
       "      <th>2</th>\n",
       "      <td>00116752596dddc4b59481bed1ce62be</td>\n",
       "      <td>1200</td>\n",
       "      <td>84d3c3507a4c8df851d935b63908bbd5</td>\n",
       "      <td>4068</td>\n",
       "      <td>0</td>\n",
       "      <td>LINESTRING (172375.056 -442007.187, 172247.238...</td>\n",
       "      <td>District 7 - Los Angeles</td>\n",
       "      <td>15.10</td>\n",
       "      <td>1</td>\n",
       "      <td>15.10</td>\n",
       "      <td>15.10</td>\n",
       "      <td>all_day</td>\n",
       "    </tr>\n",
       "  </tbody>\n",
       "</table>\n",
       "</div>"
      ],
      "text/plain": [
       "                    shape_array_key  stop_sequence  \\\n",
       "0  00116752596dddc4b59481bed1ce62be            840   \n",
       "1  00116752596dddc4b59481bed1ce62be            960   \n",
       "2  00116752596dddc4b59481bed1ce62be           1200   \n",
       "\n",
       "          schedule_gtfs_dataset_key stop_id  loop_or_inlining  \\\n",
       "0  84d3c3507a4c8df851d935b63908bbd5    4044                 0   \n",
       "1  84d3c3507a4c8df851d935b63908bbd5    4052                 0   \n",
       "2  84d3c3507a4c8df851d935b63908bbd5    4068                 0   \n",
       "\n",
       "                                            geometry  \\\n",
       "0  LINESTRING (179705.832 -444552.051, 179668.180...   \n",
       "1  LINESTRING (173246.127 -442114.715, 173246.127...   \n",
       "2  LINESTRING (172375.056 -442007.187, 172247.238...   \n",
       "\n",
       "              district_name  p50_mph  n_trips  p20_mph  p80_mph time_of_day  \n",
       "0  District 7 - Los Angeles    17.56        1    17.56    17.56     all_day  \n",
       "1  District 7 - Los Angeles    18.22        1    18.22    18.22     all_day  \n",
       "2  District 7 - Los Angeles    15.10        1    15.10    15.10     all_day  "
      ]
     },
     "execution_count": 42,
     "metadata": {},
     "output_type": "execute_result"
    }
   ],
   "source": [
    "gdf >> head(3)"
   ]
  },
  {
   "cell_type": "code",
   "execution_count": 43,
   "id": "591e632b-7042-46f6-bb25-eb24f13ca697",
   "metadata": {},
   "outputs": [
    {
     "data": {
      "text/plain": [
       "\u001b[0;31mSignature:\u001b[0m\n",
       "\u001b[0mrt_utils\u001b[0m\u001b[0;34m.\u001b[0m\u001b[0mget_speedmaps_ix_df\u001b[0m\u001b[0;34m(\u001b[0m\u001b[0;34m\u001b[0m\n",
       "\u001b[0;34m\u001b[0m    \u001b[0manalysis_date\u001b[0m\u001b[0;34m:\u001b[0m \u001b[0mdatetime\u001b[0m\u001b[0;34m.\u001b[0m\u001b[0mdate\u001b[0m\u001b[0;34m,\u001b[0m\u001b[0;34m\u001b[0m\n",
       "\u001b[0;34m\u001b[0m    \u001b[0mitp_id\u001b[0m\u001b[0;34m:\u001b[0m \u001b[0mOptional\u001b[0m\u001b[0;34m[\u001b[0m\u001b[0mint\u001b[0m\u001b[0;34m]\u001b[0m \u001b[0;34m=\u001b[0m \u001b[0;32mNone\u001b[0m\u001b[0;34m,\u001b[0m\u001b[0;34m\u001b[0m\n",
       "\u001b[0;34m\u001b[0m\u001b[0;34m)\u001b[0m \u001b[0;34m->\u001b[0m \u001b[0mpandas\u001b[0m\u001b[0;34m.\u001b[0m\u001b[0mcore\u001b[0m\u001b[0;34m.\u001b[0m\u001b[0mframe\u001b[0m\u001b[0;34m.\u001b[0m\u001b[0mDataFrame\u001b[0m\u001b[0;34m\u001b[0m\u001b[0;34m\u001b[0m\u001b[0m\n",
       "\u001b[0;31mDocstring:\u001b[0m\n",
       "Collect relevant keys for finding all schedule and rt data for a reports-assessed organization.\n",
       "Note that organizations may have multiple sets of feeds, or share feeds with other orgs.\n",
       "\n",
       "Used with specific itp_id in rt_analysis.rt_parser.OperatorDayAnalysis, or without specifying itp_id\n",
       "to get an overall table of which datasets were processed and how to deduplicate if needed\n",
       "\u001b[0;31mFile:\u001b[0m      ~/data-analyses/_shared_utils/shared_utils/rt_utils.py\n",
       "\u001b[0;31mType:\u001b[0m      function"
      ]
     },
     "metadata": {},
     "output_type": "display_data"
    }
   ],
   "source": [
    "rt_utils.get_speedmaps_ix_df?"
   ]
  },
  {
   "cell_type": "code",
   "execution_count": 44,
   "id": "8f684b58-a644-4e9e-b931-78c6c283ecfe",
   "metadata": {},
   "outputs": [],
   "source": [
    "samo = rt_utils.get_speedmaps_ix_df(analysis_date) >> filter(_.organization_name.str.contains('Santa Monica')) >> head(10)"
   ]
  },
  {
   "cell_type": "code",
   "execution_count": 45,
   "id": "f21a1dfa-c53e-48cb-8e80-c933e28c6119",
   "metadata": {},
   "outputs": [],
   "source": [
    "segments_samo = (gdf >> filter(_.time_of_day == 'all_day', _.schedule_gtfs_dataset_key.isin(samo.schedule_gtfs_dataset_key))).copy()"
   ]
  },
  {
   "cell_type": "code",
   "execution_count": 46,
   "id": "18c3fecc-d3ae-45fd-8549-647076b24e93",
   "metadata": {},
   "outputs": [
    {
     "data": {
      "text/html": [
       "<div>\n",
       "<style scoped>\n",
       "    .dataframe tbody tr th:only-of-type {\n",
       "        vertical-align: middle;\n",
       "    }\n",
       "\n",
       "    .dataframe tbody tr th {\n",
       "        vertical-align: top;\n",
       "    }\n",
       "\n",
       "    .dataframe thead th {\n",
       "        text-align: right;\n",
       "    }\n",
       "</style>\n",
       "<table border=\"1\" class=\"dataframe\">\n",
       "  <thead>\n",
       "    <tr style=\"text-align: right;\">\n",
       "      <th></th>\n",
       "      <th>shape_array_key</th>\n",
       "      <th>stop_sequence</th>\n",
       "      <th>schedule_gtfs_dataset_key</th>\n",
       "      <th>stop_id</th>\n",
       "      <th>loop_or_inlining</th>\n",
       "      <th>geometry</th>\n",
       "      <th>district_name</th>\n",
       "      <th>p50_mph</th>\n",
       "      <th>n_trips</th>\n",
       "      <th>p20_mph</th>\n",
       "      <th>p80_mph</th>\n",
       "      <th>time_of_day</th>\n",
       "    </tr>\n",
       "  </thead>\n",
       "  <tbody>\n",
       "    <tr>\n",
       "      <th>2733</th>\n",
       "      <td>02d3552393ac04db7f4adccd79cbd019</td>\n",
       "      <td>2</td>\n",
       "      <td>efbbd5293be71f7a5de0cf82b59febe1</td>\n",
       "      <td>1126</td>\n",
       "      <td>0</td>\n",
       "      <td>LINESTRING (139241.450 -443495.408, 139250.645...</td>\n",
       "      <td>District 7 - Los Angeles</td>\n",
       "      <td>7.98</td>\n",
       "      <td>1</td>\n",
       "      <td>7.98</td>\n",
       "      <td>7.98</td>\n",
       "      <td>all_day</td>\n",
       "    </tr>\n",
       "    <tr>\n",
       "      <th>2734</th>\n",
       "      <td>02d3552393ac04db7f4adccd79cbd019</td>\n",
       "      <td>3</td>\n",
       "      <td>efbbd5293be71f7a5de0cf82b59febe1</td>\n",
       "      <td>286</td>\n",
       "      <td>0</td>\n",
       "      <td>LINESTRING (139591.223 -443837.363, 139601.611...</td>\n",
       "      <td>District 7 - Los Angeles</td>\n",
       "      <td>16.76</td>\n",
       "      <td>1</td>\n",
       "      <td>16.76</td>\n",
       "      <td>16.76</td>\n",
       "      <td>all_day</td>\n",
       "    </tr>\n",
       "    <tr>\n",
       "      <th>2735</th>\n",
       "      <td>02d3552393ac04db7f4adccd79cbd019</td>\n",
       "      <td>4</td>\n",
       "      <td>efbbd5293be71f7a5de0cf82b59febe1</td>\n",
       "      <td>1666</td>\n",
       "      <td>0</td>\n",
       "      <td>LINESTRING (139702.986 -444005.741, 139690.139...</td>\n",
       "      <td>District 7 - Los Angeles</td>\n",
       "      <td>11.75</td>\n",
       "      <td>1</td>\n",
       "      <td>11.75</td>\n",
       "      <td>11.75</td>\n",
       "      <td>all_day</td>\n",
       "    </tr>\n",
       "  </tbody>\n",
       "</table>\n",
       "</div>"
      ],
      "text/plain": [
       "                       shape_array_key  stop_sequence  \\\n",
       "2733  02d3552393ac04db7f4adccd79cbd019              2   \n",
       "2734  02d3552393ac04db7f4adccd79cbd019              3   \n",
       "2735  02d3552393ac04db7f4adccd79cbd019              4   \n",
       "\n",
       "             schedule_gtfs_dataset_key stop_id  loop_or_inlining  \\\n",
       "2733  efbbd5293be71f7a5de0cf82b59febe1    1126                 0   \n",
       "2734  efbbd5293be71f7a5de0cf82b59febe1     286                 0   \n",
       "2735  efbbd5293be71f7a5de0cf82b59febe1    1666                 0   \n",
       "\n",
       "                                               geometry  \\\n",
       "2733  LINESTRING (139241.450 -443495.408, 139250.645...   \n",
       "2734  LINESTRING (139591.223 -443837.363, 139601.611...   \n",
       "2735  LINESTRING (139702.986 -444005.741, 139690.139...   \n",
       "\n",
       "                 district_name  p50_mph  n_trips  p20_mph  p80_mph time_of_day  \n",
       "2733  District 7 - Los Angeles     7.98        1     7.98     7.98     all_day  \n",
       "2734  District 7 - Los Angeles    16.76        1    16.76    16.76     all_day  \n",
       "2735  District 7 - Los Angeles    11.75        1    11.75    11.75     all_day  "
      ]
     },
     "execution_count": 46,
     "metadata": {},
     "output_type": "execute_result"
    }
   ],
   "source": [
    "segments_samo >> head(3)"
   ]
  },
  {
   "cell_type": "code",
   "execution_count": 47,
   "id": "1933b57d-1875-4c67-9538-a8e31767cbb7",
   "metadata": {},
   "outputs": [],
   "source": [
    "segments_samo.geometry = segments_samo.geometry.apply(rt_utils.try_parallel)"
   ]
  },
  {
   "cell_type": "code",
   "execution_count": 48,
   "id": "898bc441-51a6-48dc-baf8-9e9a6981ffb1",
   "metadata": {},
   "outputs": [],
   "source": [
    "segments_samo = segments_samo.apply(rt_utils.arrowize_by_frequency, axis=1, args=['n_trips'])"
   ]
  },
  {
   "cell_type": "code",
   "execution_count": 49,
   "id": "c78f6c3b-79b5-43d9-a2e7-382509999f6a",
   "metadata": {
    "tags": []
   },
   "outputs": [
    {
     "data": {
      "text/html": [
       "<div>\n",
       "<style scoped>\n",
       "    .dataframe tbody tr th:only-of-type {\n",
       "        vertical-align: middle;\n",
       "    }\n",
       "\n",
       "    .dataframe tbody tr th {\n",
       "        vertical-align: top;\n",
       "    }\n",
       "\n",
       "    .dataframe thead th {\n",
       "        text-align: right;\n",
       "    }\n",
       "</style>\n",
       "<table border=\"1\" class=\"dataframe\">\n",
       "  <thead>\n",
       "    <tr style=\"text-align: right;\">\n",
       "      <th></th>\n",
       "      <th>shape_array_key</th>\n",
       "      <th>stop_sequence</th>\n",
       "      <th>schedule_gtfs_dataset_key</th>\n",
       "      <th>stop_id</th>\n",
       "      <th>loop_or_inlining</th>\n",
       "      <th>geometry</th>\n",
       "      <th>district_name</th>\n",
       "      <th>p50_mph</th>\n",
       "      <th>n_trips</th>\n",
       "      <th>p20_mph</th>\n",
       "      <th>p80_mph</th>\n",
       "      <th>time_of_day</th>\n",
       "    </tr>\n",
       "  </thead>\n",
       "  <tbody>\n",
       "    <tr>\n",
       "      <th>2733</th>\n",
       "      <td>02d3552393ac04db7f4adccd79cbd019</td>\n",
       "      <td>2</td>\n",
       "      <td>efbbd5293be71f7a5de0cf82b59febe1</td>\n",
       "      <td>1126</td>\n",
       "      <td>0</td>\n",
       "      <td>POLYGON ((139210.510 -443528.088, 139233.062 -...</td>\n",
       "      <td>District 7 - Los Angeles</td>\n",
       "      <td>7.98</td>\n",
       "      <td>1</td>\n",
       "      <td>7.98</td>\n",
       "      <td>7.98</td>\n",
       "      <td>all_day</td>\n",
       "    </tr>\n",
       "    <tr>\n",
       "      <th>2734</th>\n",
       "      <td>02d3552393ac04db7f4adccd79cbd019</td>\n",
       "      <td>3</td>\n",
       "      <td>efbbd5293be71f7a5de0cf82b59febe1</td>\n",
       "      <td>286</td>\n",
       "      <td>0</td>\n",
       "      <td>POLYGON ((139560.045 -443869.871, 139582.498 -...</td>\n",
       "      <td>District 7 - Los Angeles</td>\n",
       "      <td>16.76</td>\n",
       "      <td>1</td>\n",
       "      <td>16.76</td>\n",
       "      <td>16.76</td>\n",
       "      <td>all_day</td>\n",
       "    </tr>\n",
       "    <tr>\n",
       "      <th>2735</th>\n",
       "      <td>02d3552393ac04db7f4adccd79cbd019</td>\n",
       "      <td>4</td>\n",
       "      <td>efbbd5293be71f7a5de0cf82b59febe1</td>\n",
       "      <td>1666</td>\n",
       "      <td>0</td>\n",
       "      <td>POLYGON ((139497.765 -444186.178, 139575.026 -...</td>\n",
       "      <td>District 7 - Los Angeles</td>\n",
       "      <td>11.75</td>\n",
       "      <td>1</td>\n",
       "      <td>11.75</td>\n",
       "      <td>11.75</td>\n",
       "      <td>all_day</td>\n",
       "    </tr>\n",
       "  </tbody>\n",
       "</table>\n",
       "</div>"
      ],
      "text/plain": [
       "                       shape_array_key  stop_sequence  \\\n",
       "2733  02d3552393ac04db7f4adccd79cbd019              2   \n",
       "2734  02d3552393ac04db7f4adccd79cbd019              3   \n",
       "2735  02d3552393ac04db7f4adccd79cbd019              4   \n",
       "\n",
       "             schedule_gtfs_dataset_key stop_id  loop_or_inlining  \\\n",
       "2733  efbbd5293be71f7a5de0cf82b59febe1    1126                 0   \n",
       "2734  efbbd5293be71f7a5de0cf82b59febe1     286                 0   \n",
       "2735  efbbd5293be71f7a5de0cf82b59febe1    1666                 0   \n",
       "\n",
       "                                               geometry  \\\n",
       "2733  POLYGON ((139210.510 -443528.088, 139233.062 -...   \n",
       "2734  POLYGON ((139560.045 -443869.871, 139582.498 -...   \n",
       "2735  POLYGON ((139497.765 -444186.178, 139575.026 -...   \n",
       "\n",
       "                 district_name  p50_mph  n_trips  p20_mph  p80_mph time_of_day  \n",
       "2733  District 7 - Los Angeles     7.98        1     7.98     7.98     all_day  \n",
       "2734  District 7 - Los Angeles    16.76        1    16.76    16.76     all_day  \n",
       "2735  District 7 - Los Angeles    11.75        1    11.75    11.75     all_day  "
      ]
     },
     "execution_count": 49,
     "metadata": {},
     "output_type": "execute_result"
    }
   ],
   "source": [
    "segments_samo >> head(3)"
   ]
  },
  {
   "cell_type": "code",
   "execution_count": 50,
   "id": "cd88c72a-dfb7-4cf1-a6b3-bdd35b36144e",
   "metadata": {},
   "outputs": [
    {
     "data": {
      "text/plain": [
       "<Projected CRS: EPSG:3310>\n",
       "Name: NAD83 / California Albers\n",
       "Axis Info [cartesian]:\n",
       "- X[east]: Easting (metre)\n",
       "- Y[north]: Northing (metre)\n",
       "Area of Use:\n",
       "- name: United States (USA) - California.\n",
       "- bounds: (-124.45, 32.53, -114.12, 42.01)\n",
       "Coordinate Operation:\n",
       "- name: California Albers\n",
       "- method: Albers Equal Area\n",
       "Datum: North American Datum 1983\n",
       "- Ellipsoid: GRS 1980\n",
       "- Prime Meridian: Greenwich"
      ]
     },
     "execution_count": 50,
     "metadata": {},
     "output_type": "execute_result"
    }
   ],
   "source": [
    "segments_samo.crs"
   ]
  },
  {
   "cell_type": "code",
   "execution_count": 51,
   "id": "f5e34915-cc43-492d-a2fd-65cb429776e0",
   "metadata": {},
   "outputs": [],
   "source": [
    "import shapely"
   ]
  },
  {
   "cell_type": "markdown",
   "id": "74f56649-0096-4588-bfdf-49841c7453f3",
   "metadata": {},
   "source": [
    "## Segs to spa util"
   ]
  },
  {
   "cell_type": "code",
   "execution_count": 53,
   "id": "443a7356-92ca-410d-98cc-1002cd159700",
   "metadata": {},
   "outputs": [],
   "source": [
    "## TODO ignore centroid warning"
   ]
  },
  {
   "cell_type": "code",
   "execution_count": 60,
   "id": "ae5cb7d0-770b-400c-b4af-634a5f94c81e",
   "metadata": {},
   "outputs": [
    {
     "name": "stderr",
     "output_type": "stream",
     "text": [
      "/home/jovyan/data-analyses/_shared_utils/shared_utils/rt_utils.py:877: UserWarning: Geometry is in a geographic CRS. Results from 'centroid' are likely incorrect. Use 'GeoSeries.to_crs()' to re-project geometries to a projected CRS before this operation.\n",
      "\n",
      "  centroid = (gdf.geometry.centroid.y.mean(), gdf.geometry.centroid.x.mean())\n"
     ]
    },
    {
     "name": "stdout",
     "output_type": "stream",
     "text": [
      "writing to calitp-map-tiles/testing/samo_segments_test2.geojson.gz\n"
     ]
    },
    {
     "data": {
      "text/plain": [
       "{'state_dict': {'name': 'null',\n",
       "  'layers': [{'name': 'Map',\n",
       "    'url': 'https://storage.googleapis.com/calitp-map-tiles/testing/samo_segments_test2.geojson.gz',\n",
       "    'properties': {'stroked': False,\n",
       "     'highlight_saturation_multiplier': 0.5,\n",
       "     'tooltip_speed_key': 'p20_mph'},\n",
       "    'type': 'speedmap'}],\n",
       "  'lat_lon': (34.02783664626179, -118.44884642755206),\n",
       "  'zoom': 13,\n",
       "  'legend_url': 'https://storage.googleapis.com/calitp-map-tiles/speeds_legend.svg'},\n",
       " 'spa_link': 'https://embeddable-maps.calitp.org/?state=eyJuYW1lIjogIm51bGwiLCAibGF5ZXJzIjogW3sibmFtZSI6ICJNYXAiLCAidXJsIjogImh0dHBzOi8vc3RvcmFnZS5nb29nbGVhcGlzLmNvbS9jYWxpdHAtbWFwLXRpbGVzL3Rlc3Rpbmcvc2Ftb19zZWdtZW50c190ZXN0Mi5nZW9qc29uLmd6IiwgInByb3BlcnRpZXMiOiB7InN0cm9rZWQiOiBmYWxzZSwgImhpZ2hsaWdodF9zYXR1cmF0aW9uX211bHRpcGxpZXIiOiAwLjUsICJ0b29sdGlwX3NwZWVkX2tleSI6ICJwMjBfbXBoIn0sICJ0eXBlIjogInNwZWVkbWFwIn1dLCAibGF0X2xvbiI6IFszNC4wMjc4MzY2NDYyNjE3OSwgLTExOC40NDg4NDY0Mjc1NTIwNl0sICJ6b29tIjogMTMsICJsZWdlbmRfdXJsIjogImh0dHBzOi8vc3RvcmFnZS5nb29nbGVhcGlzLmNvbS9jYWxpdHAtbWFwLXRpbGVzL3NwZWVkc19sZWdlbmQuc3ZnIn0='}"
      ]
     },
     "execution_count": 60,
     "metadata": {},
     "output_type": "execute_result"
    }
   ],
   "source": [
    "rt_utils.set_state_export(segments_samo, cmap=rt_utils.ZERO_THIRTY_COLORSCALE, legend_url=rt_utils.SPEEDMAP_LEGEND_URL,\n",
    "                                      map_type='speedmap',\n",
    "                          color_col='p20_mph', filename='samo_segments_test2')"
   ]
  },
  {
   "cell_type": "markdown",
   "id": "aa7732b8-0ea3-439f-9dd6-a86bc99e234f",
   "metadata": {},
   "source": [
    "## Speedmap Comparision"
   ]
  },
  {
   "cell_type": "code",
   "execution_count": null,
   "id": "1ffe6178-cb0d-4b4d-9909-981ca1a9ce36",
   "metadata": {},
   "outputs": [],
   "source": [
    "from rt_analysis import rt_filter_map_plot"
   ]
  },
  {
   "cell_type": "code",
   "execution_count": null,
   "id": "f53c6fb2-cab3-4056-8d6e-321e93808dc2",
   "metadata": {},
   "outputs": [],
   "source": [
    "rt_day = rt_filter_map_plot.from_gcs(300, analysis_date)"
   ]
  },
  {
   "cell_type": "code",
   "execution_count": null,
   "id": "86744a30-39ba-4e5a-89ee-c52de3304024",
   "metadata": {},
   "outputs": [],
   "source": [
    "_m = rt_day.segment_speed_map(no_render=True)"
   ]
  },
  {
   "cell_type": "code",
   "execution_count": null,
   "id": "9c4d258c-9be3-48bc-b04c-eed4dc557bdc",
   "metadata": {},
   "outputs": [],
   "source": [
    "rt_day.map_gz_export()"
   ]
  },
  {
   "cell_type": "code",
   "execution_count": null,
   "id": "ef1bde48-f9d3-4df6-9885-cc96c1f099d7",
   "metadata": {},
   "outputs": [],
   "source": [
    "rt_day.spa_map_state"
   ]
  },
  {
   "cell_type": "code",
   "execution_count": null,
   "id": "b69a0f04-8154-4bc9-afaf-32fcdb5664cd",
   "metadata": {},
   "outputs": [],
   "source": [
    "rt_day.spa_map_url"
   ]
  },
  {
   "cell_type": "code",
   "execution_count": null,
   "id": "5f7e3da5-8d72-458e-a601-dcafa32e49a5",
   "metadata": {},
   "outputs": [],
   "source": [
    "## TODO shn?"
   ]
  },
  {
   "cell_type": "code",
   "execution_count": null,
   "id": "0d5681c2-3594-49a9-aa1c-3a92f8a0b94f",
   "metadata": {},
   "outputs": [],
   "source": [
    "rt_day.display_spa_map()"
   ]
  },
  {
   "cell_type": "code",
   "execution_count": null,
   "id": "3359f7be-bd7f-4f27-bf83-2bea9bdd446c",
   "metadata": {},
   "outputs": [],
   "source": []
  }
 ],
 "metadata": {
  "kernelspec": {
   "display_name": "Python 3 (ipykernel)",
   "language": "python",
   "name": "python3"
  },
  "language_info": {
   "codemirror_mode": {
    "name": "ipython",
    "version": 3
   },
   "file_extension": ".py",
   "mimetype": "text/x-python",
   "name": "python",
   "nbconvert_exporter": "python",
   "pygments_lexer": "ipython3",
   "version": "3.9.13"
  },
  "widgets": {
   "application/vnd.jupyter.widget-state+json": {
    "state": {},
    "version_major": 2,
    "version_minor": 0
   }
  }
 },
 "nbformat": 4,
 "nbformat_minor": 5
}
