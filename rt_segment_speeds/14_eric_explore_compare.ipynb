{
 "cells": [
  {
   "cell_type": "code",
   "execution_count": 1,
   "id": "d4569891-685c-4985-a703-65555bc00126",
   "metadata": {},
   "outputs": [],
   "source": [
    "import os\n",
    "os.environ[\"CALITP_BQ_MAX_BYTES\"] = str(800_000_000_000)\n",
    "os.environ['USE_PYGEOS'] = '0'\n",
    "import shared_utils\n",
    "\n",
    "from calitp_data_analysis.tables import tbls\n",
    "import calitp_data_analysis.magics\n",
    "from calitp_data.storage import get_fs\n",
    "\n",
    "from siuba import *\n",
    "import pandas as pd\n",
    "import geopandas as gpd\n",
    "\n",
    "import datetime as dt"
   ]
  },
  {
   "cell_type": "code",
   "execution_count": 2,
   "id": "f99d98da-7f32-4d1f-8817-3d4fe786f873",
   "metadata": {},
   "outputs": [],
   "source": [
    "import segment_speed_utils"
   ]
  },
  {
   "cell_type": "code",
   "execution_count": 3,
   "id": "b6efb97e-282d-44b1-861a-66466ab1dffb",
   "metadata": {},
   "outputs": [],
   "source": [
    "analysis_date = dt.date(2023, 4, 12)"
   ]
  },
  {
   "cell_type": "code",
   "execution_count": 4,
   "id": "49d174fe-41c6-4ab3-b3af-b11632f490f7",
   "metadata": {},
   "outputs": [],
   "source": [
    "fs = get_fs()"
   ]
  },
  {
   "cell_type": "code",
   "execution_count": 5,
   "id": "67749804-c5fa-4d75-a835-e59a81cbf18e",
   "metadata": {},
   "outputs": [],
   "source": [
    "# path = 'gs://calitp-analytics-data/data-analyses/rt_segment_speeds/export/avg_speeds_stop_segments_2023-04-12.parquet'"
   ]
  },
  {
   "cell_type": "code",
   "execution_count": 6,
   "id": "41cf88f7-2a6c-46c1-93c3-72598728f9a5",
   "metadata": {},
   "outputs": [],
   "source": [
    "# fs.get(path, './avg_speeds_stop_segments_2023-04-12.parquet')"
   ]
  },
  {
   "cell_type": "code",
   "execution_count": 7,
   "id": "3b148cf2-9648-494f-89ce-a12be20e6fba",
   "metadata": {},
   "outputs": [],
   "source": [
    "exported_segments = pd.read_parquet('./avg_speeds_stop_segments_2023-04-12.parquet')"
   ]
  },
  {
   "cell_type": "code",
   "execution_count": 8,
   "id": "5927a590-1a17-49a4-a73a-a1adeb21c8b2",
   "metadata": {},
   "outputs": [
    {
     "data": {
      "text/html": [
       "<div>\n",
       "<style scoped>\n",
       "    .dataframe tbody tr th:only-of-type {\n",
       "        vertical-align: middle;\n",
       "    }\n",
       "\n",
       "    .dataframe tbody tr th {\n",
       "        vertical-align: top;\n",
       "    }\n",
       "\n",
       "    .dataframe thead th {\n",
       "        text-align: right;\n",
       "    }\n",
       "</style>\n",
       "<table border=\"1\" class=\"dataframe\">\n",
       "  <thead>\n",
       "    <tr style=\"text-align: right;\">\n",
       "      <th></th>\n",
       "      <th>org_id</th>\n",
       "      <th>agency_name</th>\n",
       "      <th>shape_id</th>\n",
       "      <th>stop_sequence</th>\n",
       "      <th>stop_id</th>\n",
       "      <th>geometry</th>\n",
       "      <th>p50_mph</th>\n",
       "      <th>p20_mph</th>\n",
       "      <th>p80_mph</th>\n",
       "      <th>n_trips</th>\n",
       "      <th>time_of_day</th>\n",
       "      <th>base64_url</th>\n",
       "      <th>district</th>\n",
       "      <th>district_name</th>\n",
       "    </tr>\n",
       "  </thead>\n",
       "  <tbody>\n",
       "    <tr>\n",
       "      <th>0</th>\n",
       "      <td>recOZgevYf7Jimm9L</td>\n",
       "      <td>Alameda-Contra Costa Transit District</td>\n",
       "      <td>shp-10-09</td>\n",
       "      <td>2</td>\n",
       "      <td>55050</td>\n",
       "      <td>b'\\x01\\x02\\x00\\x00\\x00\\x1d\\x00\\x00\\x00Q\\x86\\xb...</td>\n",
       "      <td>2.19</td>\n",
       "      <td>1.75</td>\n",
       "      <td>3.13</td>\n",
       "      <td>63</td>\n",
       "      <td>all_day</td>\n",
       "      <td>aHR0cHM6Ly9hcGkuNTExLm9yZy90cmFuc2l0L3ZlaGljbG...</td>\n",
       "      <td>4</td>\n",
       "      <td>District 4 - Oakland</td>\n",
       "    </tr>\n",
       "  </tbody>\n",
       "</table>\n",
       "</div>"
      ],
      "text/plain": [
       "              org_id                            agency_name   shape_id  \\\n",
       "0  recOZgevYf7Jimm9L  Alameda-Contra Costa Transit District  shp-10-09   \n",
       "\n",
       "   stop_sequence stop_id                                           geometry  \\\n",
       "0              2   55050  b'\\x01\\x02\\x00\\x00\\x00\\x1d\\x00\\x00\\x00Q\\x86\\xb...   \n",
       "\n",
       "   p50_mph  p20_mph  p80_mph  n_trips time_of_day  \\\n",
       "0     2.19     1.75     3.13       63     all_day   \n",
       "\n",
       "                                          base64_url  district  \\\n",
       "0  aHR0cHM6Ly9hcGkuNTExLm9yZy90cmFuc2l0L3ZlaGljbG...         4   \n",
       "\n",
       "          district_name  \n",
       "0  District 4 - Oakland  "
      ]
     },
     "execution_count": 8,
     "metadata": {},
     "output_type": "execute_result"
    }
   ],
   "source": [
    "exported_segments >> head(1)"
   ]
  },
  {
   "cell_type": "code",
   "execution_count": 9,
   "id": "9c89cc9b-1d09-4c03-9cef-5f2b99c86b04",
   "metadata": {},
   "outputs": [],
   "source": [
    "gdf = gpd.GeoDataFrame(exported_segments,\n",
    "                 geometry=gpd.GeoSeries.from_wkb(exported_segments.geometry),\n",
    "                 crs=segment_speed_utils.project_vars.PROJECT_CRS\n",
    "                )"
   ]
  },
  {
   "cell_type": "code",
   "execution_count": 10,
   "id": "296bf041-357b-4adf-8663-84a83f3e7a0c",
   "metadata": {},
   "outputs": [
    {
     "data": {
      "text/html": [
       "<div>\n",
       "<style scoped>\n",
       "    .dataframe tbody tr th:only-of-type {\n",
       "        vertical-align: middle;\n",
       "    }\n",
       "\n",
       "    .dataframe tbody tr th {\n",
       "        vertical-align: top;\n",
       "    }\n",
       "\n",
       "    .dataframe thead th {\n",
       "        text-align: right;\n",
       "    }\n",
       "</style>\n",
       "<table border=\"1\" class=\"dataframe\">\n",
       "  <thead>\n",
       "    <tr style=\"text-align: right;\">\n",
       "      <th></th>\n",
       "      <th>org_id</th>\n",
       "      <th>agency_name</th>\n",
       "      <th>shape_id</th>\n",
       "      <th>stop_sequence</th>\n",
       "      <th>stop_id</th>\n",
       "      <th>geometry</th>\n",
       "      <th>p50_mph</th>\n",
       "      <th>p20_mph</th>\n",
       "      <th>p80_mph</th>\n",
       "      <th>n_trips</th>\n",
       "      <th>time_of_day</th>\n",
       "      <th>base64_url</th>\n",
       "      <th>district</th>\n",
       "      <th>district_name</th>\n",
       "    </tr>\n",
       "  </thead>\n",
       "  <tbody>\n",
       "    <tr>\n",
       "      <th>0</th>\n",
       "      <td>recOZgevYf7Jimm9L</td>\n",
       "      <td>Alameda-Contra Costa Transit District</td>\n",
       "      <td>shp-10-09</td>\n",
       "      <td>2</td>\n",
       "      <td>55050</td>\n",
       "      <td>LINESTRING (-183825.823 -36469.556, -183825.82...</td>\n",
       "      <td>2.19</td>\n",
       "      <td>1.75</td>\n",
       "      <td>3.13</td>\n",
       "      <td>63</td>\n",
       "      <td>all_day</td>\n",
       "      <td>aHR0cHM6Ly9hcGkuNTExLm9yZy90cmFuc2l0L3ZlaGljbG...</td>\n",
       "      <td>4</td>\n",
       "      <td>District 4 - Oakland</td>\n",
       "    </tr>\n",
       "    <tr>\n",
       "      <th>1</th>\n",
       "      <td>recOZgevYf7Jimm9L</td>\n",
       "      <td>Alameda-Contra Costa Transit District</td>\n",
       "      <td>shp-10-09</td>\n",
       "      <td>2</td>\n",
       "      <td>55050</td>\n",
       "      <td>LINESTRING (-183825.823 -36469.556, -183825.82...</td>\n",
       "      <td>2.20</td>\n",
       "      <td>1.71</td>\n",
       "      <td>2.41</td>\n",
       "      <td>24</td>\n",
       "      <td>peak</td>\n",
       "      <td>aHR0cHM6Ly9hcGkuNTExLm9yZy90cmFuc2l0L3ZlaGljbG...</td>\n",
       "      <td>4</td>\n",
       "      <td>District 4 - Oakland</td>\n",
       "    </tr>\n",
       "    <tr>\n",
       "      <th>2</th>\n",
       "      <td>recOZgevYf7Jimm9L</td>\n",
       "      <td>Alameda-Contra Costa Transit District</td>\n",
       "      <td>shp-10-09</td>\n",
       "      <td>3</td>\n",
       "      <td>51207</td>\n",
       "      <td>LINESTRING (-183469.198 -36386.667, -183469.19...</td>\n",
       "      <td>10.08</td>\n",
       "      <td>7.09</td>\n",
       "      <td>16.05</td>\n",
       "      <td>61</td>\n",
       "      <td>all_day</td>\n",
       "      <td>aHR0cHM6Ly9hcGkuNTExLm9yZy90cmFuc2l0L3ZlaGljbG...</td>\n",
       "      <td>4</td>\n",
       "      <td>District 4 - Oakland</td>\n",
       "    </tr>\n",
       "  </tbody>\n",
       "</table>\n",
       "</div>"
      ],
      "text/plain": [
       "              org_id                            agency_name   shape_id  \\\n",
       "0  recOZgevYf7Jimm9L  Alameda-Contra Costa Transit District  shp-10-09   \n",
       "1  recOZgevYf7Jimm9L  Alameda-Contra Costa Transit District  shp-10-09   \n",
       "2  recOZgevYf7Jimm9L  Alameda-Contra Costa Transit District  shp-10-09   \n",
       "\n",
       "   stop_sequence stop_id                                           geometry  \\\n",
       "0              2   55050  LINESTRING (-183825.823 -36469.556, -183825.82...   \n",
       "1              2   55050  LINESTRING (-183825.823 -36469.556, -183825.82...   \n",
       "2              3   51207  LINESTRING (-183469.198 -36386.667, -183469.19...   \n",
       "\n",
       "   p50_mph  p20_mph  p80_mph  n_trips time_of_day  \\\n",
       "0     2.19     1.75     3.13       63     all_day   \n",
       "1     2.20     1.71     2.41       24        peak   \n",
       "2    10.08     7.09    16.05       61     all_day   \n",
       "\n",
       "                                          base64_url  district  \\\n",
       "0  aHR0cHM6Ly9hcGkuNTExLm9yZy90cmFuc2l0L3ZlaGljbG...         4   \n",
       "1  aHR0cHM6Ly9hcGkuNTExLm9yZy90cmFuc2l0L3ZlaGljbG...         4   \n",
       "2  aHR0cHM6Ly9hcGkuNTExLm9yZy90cmFuc2l0L3ZlaGljbG...         4   \n",
       "\n",
       "          district_name  \n",
       "0  District 4 - Oakland  \n",
       "1  District 4 - Oakland  \n",
       "2  District 4 - Oakland  "
      ]
     },
     "execution_count": 10,
     "metadata": {},
     "output_type": "execute_result"
    }
   ],
   "source": [
    "gdf >> head(3)"
   ]
  },
  {
   "cell_type": "code",
   "execution_count": 11,
   "id": "13017c40-e306-4322-849b-b14c37e5cb17",
   "metadata": {
    "tags": []
   },
   "outputs": [],
   "source": [
    "# opening direct from gcs seemed to hang?\n",
    "# gpd.read_file('./avg_speeds_stop_segments_2023-04-12.parquet')"
   ]
  },
  {
   "cell_type": "code",
   "execution_count": 12,
   "id": "591e632b-7042-46f6-bb25-eb24f13ca697",
   "metadata": {},
   "outputs": [
    {
     "data": {
      "text/plain": [
       "\u001b[0;31mSignature:\u001b[0m\n",
       "\u001b[0mshared_utils\u001b[0m\u001b[0;34m.\u001b[0m\u001b[0mrt_utils\u001b[0m\u001b[0;34m.\u001b[0m\u001b[0mget_speedmaps_ix_df\u001b[0m\u001b[0;34m(\u001b[0m\u001b[0;34m\u001b[0m\n",
       "\u001b[0;34m\u001b[0m    \u001b[0manalysis_date\u001b[0m\u001b[0;34m:\u001b[0m \u001b[0mdatetime\u001b[0m\u001b[0;34m.\u001b[0m\u001b[0mdate\u001b[0m\u001b[0;34m,\u001b[0m\u001b[0;34m\u001b[0m\n",
       "\u001b[0;34m\u001b[0m    \u001b[0mitp_id\u001b[0m\u001b[0;34m:\u001b[0m \u001b[0mOptional\u001b[0m\u001b[0;34m[\u001b[0m\u001b[0mint\u001b[0m\u001b[0;34m]\u001b[0m \u001b[0;34m=\u001b[0m \u001b[0;32mNone\u001b[0m\u001b[0;34m,\u001b[0m\u001b[0;34m\u001b[0m\n",
       "\u001b[0;34m\u001b[0m\u001b[0;34m)\u001b[0m \u001b[0;34m->\u001b[0m \u001b[0mpandas\u001b[0m\u001b[0;34m.\u001b[0m\u001b[0mcore\u001b[0m\u001b[0;34m.\u001b[0m\u001b[0mframe\u001b[0m\u001b[0;34m.\u001b[0m\u001b[0mDataFrame\u001b[0m\u001b[0;34m\u001b[0m\u001b[0;34m\u001b[0m\u001b[0m\n",
       "\u001b[0;31mDocstring:\u001b[0m\n",
       "Collect relevant keys for finding all schedule and rt data for a reports-assessed organization.\n",
       "Note that organizations may have multiple sets of feeds, or share feeds with other orgs.\n",
       "\n",
       "Used with specific itp_id in rt_analysis.rt_parser.OperatorDayAnalysis, or without specifying itp_id\n",
       "to get an overall table of which datasets were processed and how to deduplicate if needed\n",
       "\u001b[0;31mFile:\u001b[0m      ~/data-analyses/_shared_utils/shared_utils/rt_utils.py\n",
       "\u001b[0;31mType:\u001b[0m      function"
      ]
     },
     "metadata": {},
     "output_type": "display_data"
    }
   ],
   "source": [
    "shared_utils.rt_utils.get_speedmaps_ix_df?"
   ]
  },
  {
   "cell_type": "code",
   "execution_count": 13,
   "id": "8f684b58-a644-4e9e-b931-78c6c283ecfe",
   "metadata": {},
   "outputs": [
    {
     "data": {
      "text/html": [
       "<div>\n",
       "<style scoped>\n",
       "    .dataframe tbody tr th:only-of-type {\n",
       "        vertical-align: middle;\n",
       "    }\n",
       "\n",
       "    .dataframe tbody tr th {\n",
       "        vertical-align: top;\n",
       "    }\n",
       "\n",
       "    .dataframe thead th {\n",
       "        text-align: right;\n",
       "    }\n",
       "</style>\n",
       "<table border=\"1\" class=\"dataframe\">\n",
       "  <thead>\n",
       "    <tr style=\"text-align: right;\">\n",
       "      <th></th>\n",
       "      <th>feed_key</th>\n",
       "      <th>schedule_gtfs_dataset_key</th>\n",
       "      <th>vehicle_positions_gtfs_dataset_key</th>\n",
       "      <th>organization_itp_id</th>\n",
       "      <th>caltrans_district</th>\n",
       "      <th>organization_name</th>\n",
       "      <th>service_date</th>\n",
       "    </tr>\n",
       "  </thead>\n",
       "  <tbody>\n",
       "    <tr>\n",
       "      <th>23</th>\n",
       "      <td>199d652b518af1f2aef47e9c3c4f82e0</td>\n",
       "      <td>de792182088eecc3d5c0bd3f1df62965</td>\n",
       "      <td>33dd64366cfab802596d05a407a4a35a</td>\n",
       "      <td>293</td>\n",
       "      <td>05 - San Luis Obispo</td>\n",
       "      <td>Santa Barbara Metropolitan Transit District</td>\n",
       "      <td>2023-04-12</td>\n",
       "    </tr>\n",
       "    <tr>\n",
       "      <th>25</th>\n",
       "      <td>c82ceee91cd115a3c6a2b8bd6f939f68</td>\n",
       "      <td>73105f2d1cabc8170ab066d96863c5d5</td>\n",
       "      <td>3b7fb85888dc9a73f89b9a28272390b5</td>\n",
       "      <td>298</td>\n",
       "      <td>05 - San Luis Obispo</td>\n",
       "      <td>City of Santa Maria</td>\n",
       "      <td>2023-04-12</td>\n",
       "    </tr>\n",
       "    <tr>\n",
       "      <th>26</th>\n",
       "      <td>9621db94d9cef22bd14e817828f18540</td>\n",
       "      <td>8fa3380c9291d3694494c34b014642d0</td>\n",
       "      <td>4340d7ccf61d3a169068ffef1e310daf</td>\n",
       "      <td>301</td>\n",
       "      <td>04 - Oakland</td>\n",
       "      <td>City of Santa Rosa</td>\n",
       "      <td>2023-04-12</td>\n",
       "    </tr>\n",
       "    <tr>\n",
       "      <th>40</th>\n",
       "      <td>8b1e14f57472d6a2047dd501f28770c8</td>\n",
       "      <td>8f152d5328f38ce505eb9c647e08375e</td>\n",
       "      <td>64d857846a5263527036e2abd63e28df</td>\n",
       "      <td>295</td>\n",
       "      <td>07 - Los Angeles</td>\n",
       "      <td>City of Santa Clarita</td>\n",
       "      <td>2023-04-12</td>\n",
       "    </tr>\n",
       "    <tr>\n",
       "      <th>46</th>\n",
       "      <td>d979fbca8ab07423a0cd4d2d76ae1a45</td>\n",
       "      <td>dbbe8ee4864a2715a40749605395d584</td>\n",
       "      <td>6c2d7daaf979779fa2089c6395baf98b</td>\n",
       "      <td>300</td>\n",
       "      <td>07 - Los Angeles</td>\n",
       "      <td>City of Santa Monica</td>\n",
       "      <td>2023-04-12</td>\n",
       "    </tr>\n",
       "  </tbody>\n",
       "</table>\n",
       "</div>"
      ],
      "text/plain": [
       "                            feed_key         schedule_gtfs_dataset_key  \\\n",
       "23  199d652b518af1f2aef47e9c3c4f82e0  de792182088eecc3d5c0bd3f1df62965   \n",
       "25  c82ceee91cd115a3c6a2b8bd6f939f68  73105f2d1cabc8170ab066d96863c5d5   \n",
       "26  9621db94d9cef22bd14e817828f18540  8fa3380c9291d3694494c34b014642d0   \n",
       "40  8b1e14f57472d6a2047dd501f28770c8  8f152d5328f38ce505eb9c647e08375e   \n",
       "46  d979fbca8ab07423a0cd4d2d76ae1a45  dbbe8ee4864a2715a40749605395d584   \n",
       "\n",
       "   vehicle_positions_gtfs_dataset_key  organization_itp_id  \\\n",
       "23   33dd64366cfab802596d05a407a4a35a                  293   \n",
       "25   3b7fb85888dc9a73f89b9a28272390b5                  298   \n",
       "26   4340d7ccf61d3a169068ffef1e310daf                  301   \n",
       "40   64d857846a5263527036e2abd63e28df                  295   \n",
       "46   6c2d7daaf979779fa2089c6395baf98b                  300   \n",
       "\n",
       "       caltrans_district                            organization_name  \\\n",
       "23  05 - San Luis Obispo  Santa Barbara Metropolitan Transit District   \n",
       "25  05 - San Luis Obispo                          City of Santa Maria   \n",
       "26          04 - Oakland                           City of Santa Rosa   \n",
       "40      07 - Los Angeles                        City of Santa Clarita   \n",
       "46      07 - Los Angeles                         City of Santa Monica   \n",
       "\n",
       "   service_date  \n",
       "23   2023-04-12  \n",
       "25   2023-04-12  \n",
       "26   2023-04-12  \n",
       "40   2023-04-12  \n",
       "46   2023-04-12  "
      ]
     },
     "execution_count": 13,
     "metadata": {},
     "output_type": "execute_result"
    }
   ],
   "source": [
    "shared_utils.rt_utils.get_speedmaps_ix_df(analysis_date) >> filter(_.organization_name.str.contains('Santa')) >> head(5)"
   ]
  },
  {
   "cell_type": "code",
   "execution_count": 14,
   "id": "47895df5-ac22-49af-aba2-ac5fd8e35c30",
   "metadata": {},
   "outputs": [],
   "source": [
    "samo_url = (tbls.mart_transit_database.dim_gtfs_datasets()\n",
    "          >> filter(_.key == '6c2d7daaf979779fa2089c6395baf98b') # Santa Monica\n",
    "          >> collect()\n",
    "         ).base64_url.iloc[0]"
   ]
  },
  {
   "cell_type": "code",
   "execution_count": 15,
   "id": "f21a1dfa-c53e-48cb-8e80-c933e28c6119",
   "metadata": {},
   "outputs": [],
   "source": [
    "segments_samo = (gdf >> filter(_.time_of_day == 'all_day', _.base64_url == samo_url)).copy()"
   ]
  },
  {
   "cell_type": "code",
   "execution_count": 16,
   "id": "18c3fecc-d3ae-45fd-8549-647076b24e93",
   "metadata": {},
   "outputs": [
    {
     "data": {
      "text/html": [
       "<div>\n",
       "<style scoped>\n",
       "    .dataframe tbody tr th:only-of-type {\n",
       "        vertical-align: middle;\n",
       "    }\n",
       "\n",
       "    .dataframe tbody tr th {\n",
       "        vertical-align: top;\n",
       "    }\n",
       "\n",
       "    .dataframe thead th {\n",
       "        text-align: right;\n",
       "    }\n",
       "</style>\n",
       "<table border=\"1\" class=\"dataframe\">\n",
       "  <thead>\n",
       "    <tr style=\"text-align: right;\">\n",
       "      <th></th>\n",
       "      <th>org_id</th>\n",
       "      <th>agency_name</th>\n",
       "      <th>shape_id</th>\n",
       "      <th>stop_sequence</th>\n",
       "      <th>stop_id</th>\n",
       "      <th>geometry</th>\n",
       "      <th>p50_mph</th>\n",
       "      <th>p20_mph</th>\n",
       "      <th>p80_mph</th>\n",
       "      <th>n_trips</th>\n",
       "      <th>time_of_day</th>\n",
       "      <th>base64_url</th>\n",
       "      <th>district</th>\n",
       "      <th>district_name</th>\n",
       "    </tr>\n",
       "  </thead>\n",
       "  <tbody>\n",
       "    <tr>\n",
       "      <th>96104</th>\n",
       "      <td>recJHFDLpGRMIFgnL</td>\n",
       "      <td>City of Santa Monica</td>\n",
       "      <td>26156</td>\n",
       "      <td>2</td>\n",
       "      <td>361</td>\n",
       "      <td>LINESTRING (141218.168 -446285.286, 141214.980...</td>\n",
       "      <td>8.31</td>\n",
       "      <td>2.89</td>\n",
       "      <td>14.55</td>\n",
       "      <td>5</td>\n",
       "      <td>all_day</td>\n",
       "      <td>aHR0cDovL2d0ZnMuYmlnYmx1ZWJ1cy5jb20vdmVoaWNsZX...</td>\n",
       "      <td>7</td>\n",
       "      <td>District 7 - Los Angeles</td>\n",
       "    </tr>\n",
       "    <tr>\n",
       "      <th>96106</th>\n",
       "      <td>recJHFDLpGRMIFgnL</td>\n",
       "      <td>City of Santa Monica</td>\n",
       "      <td>26156</td>\n",
       "      <td>3</td>\n",
       "      <td>362</td>\n",
       "      <td>LINESTRING (140978.029 -445890.403, 140974.817...</td>\n",
       "      <td>14.25</td>\n",
       "      <td>14.25</td>\n",
       "      <td>14.25</td>\n",
       "      <td>1</td>\n",
       "      <td>all_day</td>\n",
       "      <td>aHR0cDovL2d0ZnMuYmlnYmx1ZWJ1cy5jb20vdmVoaWNsZX...</td>\n",
       "      <td>7</td>\n",
       "      <td>District 7 - Los Angeles</td>\n",
       "    </tr>\n",
       "    <tr>\n",
       "      <th>96107</th>\n",
       "      <td>recJHFDLpGRMIFgnL</td>\n",
       "      <td>City of Santa Monica</td>\n",
       "      <td>26156</td>\n",
       "      <td>4</td>\n",
       "      <td>363</td>\n",
       "      <td>LINESTRING (140761.165 -445640.587, 140728.254...</td>\n",
       "      <td>5.20</td>\n",
       "      <td>5.20</td>\n",
       "      <td>5.20</td>\n",
       "      <td>1</td>\n",
       "      <td>all_day</td>\n",
       "      <td>aHR0cDovL2d0ZnMuYmlnYmx1ZWJ1cy5jb20vdmVoaWNsZX...</td>\n",
       "      <td>7</td>\n",
       "      <td>District 7 - Los Angeles</td>\n",
       "    </tr>\n",
       "  </tbody>\n",
       "</table>\n",
       "</div>"
      ],
      "text/plain": [
       "                  org_id           agency_name shape_id  stop_sequence  \\\n",
       "96104  recJHFDLpGRMIFgnL  City of Santa Monica    26156              2   \n",
       "96106  recJHFDLpGRMIFgnL  City of Santa Monica    26156              3   \n",
       "96107  recJHFDLpGRMIFgnL  City of Santa Monica    26156              4   \n",
       "\n",
       "      stop_id                                           geometry  p50_mph  \\\n",
       "96104     361  LINESTRING (141218.168 -446285.286, 141214.980...     8.31   \n",
       "96106     362  LINESTRING (140978.029 -445890.403, 140974.817...    14.25   \n",
       "96107     363  LINESTRING (140761.165 -445640.587, 140728.254...     5.20   \n",
       "\n",
       "       p20_mph  p80_mph  n_trips time_of_day  \\\n",
       "96104     2.89    14.55        5     all_day   \n",
       "96106    14.25    14.25        1     all_day   \n",
       "96107     5.20     5.20        1     all_day   \n",
       "\n",
       "                                              base64_url  district  \\\n",
       "96104  aHR0cDovL2d0ZnMuYmlnYmx1ZWJ1cy5jb20vdmVoaWNsZX...         7   \n",
       "96106  aHR0cDovL2d0ZnMuYmlnYmx1ZWJ1cy5jb20vdmVoaWNsZX...         7   \n",
       "96107  aHR0cDovL2d0ZnMuYmlnYmx1ZWJ1cy5jb20vdmVoaWNsZX...         7   \n",
       "\n",
       "                  district_name  \n",
       "96104  District 7 - Los Angeles  \n",
       "96106  District 7 - Los Angeles  \n",
       "96107  District 7 - Los Angeles  "
      ]
     },
     "execution_count": 16,
     "metadata": {},
     "output_type": "execute_result"
    }
   ],
   "source": [
    "segments_samo >> head(3)"
   ]
  },
  {
   "cell_type": "code",
   "execution_count": 26,
   "id": "912d1c94-6738-4eab-8b49-baaaf7beac86",
   "metadata": {},
   "outputs": [],
   "source": [
    "from shared_utils.rt_utils import try_parallel, arrowize_by_frequency, ZERO_THIRTY_COLORSCALE, SPEEDMAP_LEGEND_URL"
   ]
  },
  {
   "cell_type": "code",
   "execution_count": 19,
   "id": "1933b57d-1875-4c67-9538-a8e31767cbb7",
   "metadata": {},
   "outputs": [],
   "source": [
    "segments_samo.geometry = segments_samo.geometry.apply(try_parallel)"
   ]
  },
  {
   "cell_type": "code",
   "execution_count": 20,
   "id": "898bc441-51a6-48dc-baf8-9e9a6981ffb1",
   "metadata": {},
   "outputs": [],
   "source": [
    "segments_samo = segments_samo.apply(arrowize_by_frequency, axis=1, args=['n_trips'])"
   ]
  },
  {
   "cell_type": "code",
   "execution_count": 32,
   "id": "c78f6c3b-79b5-43d9-a2e7-382509999f6a",
   "metadata": {
    "tags": []
   },
   "outputs": [
    {
     "data": {
      "text/html": [
       "<div>\n",
       "<style scoped>\n",
       "    .dataframe tbody tr th:only-of-type {\n",
       "        vertical-align: middle;\n",
       "    }\n",
       "\n",
       "    .dataframe tbody tr th {\n",
       "        vertical-align: top;\n",
       "    }\n",
       "\n",
       "    .dataframe thead th {\n",
       "        text-align: right;\n",
       "    }\n",
       "</style>\n",
       "<table border=\"1\" class=\"dataframe\">\n",
       "  <thead>\n",
       "    <tr style=\"text-align: right;\">\n",
       "      <th></th>\n",
       "      <th>org_id</th>\n",
       "      <th>agency_name</th>\n",
       "      <th>shape_id</th>\n",
       "      <th>stop_sequence</th>\n",
       "      <th>stop_id</th>\n",
       "      <th>geometry</th>\n",
       "      <th>p50_mph</th>\n",
       "      <th>p20_mph</th>\n",
       "      <th>p80_mph</th>\n",
       "      <th>n_trips</th>\n",
       "      <th>time_of_day</th>\n",
       "      <th>base64_url</th>\n",
       "      <th>district</th>\n",
       "      <th>district_name</th>\n",
       "    </tr>\n",
       "  </thead>\n",
       "  <tbody>\n",
       "    <tr>\n",
       "      <th>96104</th>\n",
       "      <td>recJHFDLpGRMIFgnL</td>\n",
       "      <td>City of Santa Monica</td>\n",
       "      <td>26156</td>\n",
       "      <td>2</td>\n",
       "      <td>361</td>\n",
       "      <td>POLYGON ((141143.668 -446163.831, 141063.982 -...</td>\n",
       "      <td>8.31</td>\n",
       "      <td>2.89</td>\n",
       "      <td>14.55</td>\n",
       "      <td>5</td>\n",
       "      <td>all_day</td>\n",
       "      <td>aHR0cDovL2d0ZnMuYmlnYmx1ZWJ1cy5jb20vdmVoaWNsZX...</td>\n",
       "      <td>7</td>\n",
       "      <td>District 7 - Los Angeles</td>\n",
       "    </tr>\n",
       "    <tr>\n",
       "      <th>96106</th>\n",
       "      <td>recJHFDLpGRMIFgnL</td>\n",
       "      <td>City of Santa Monica</td>\n",
       "      <td>26156</td>\n",
       "      <td>3</td>\n",
       "      <td>362</td>\n",
       "      <td>POLYGON ((140784.705 -445643.610, 140783.928 -...</td>\n",
       "      <td>14.25</td>\n",
       "      <td>14.25</td>\n",
       "      <td>14.25</td>\n",
       "      <td>1</td>\n",
       "      <td>all_day</td>\n",
       "      <td>aHR0cDovL2d0ZnMuYmlnYmx1ZWJ1cy5jb20vdmVoaWNsZX...</td>\n",
       "      <td>7</td>\n",
       "      <td>District 7 - Los Angeles</td>\n",
       "    </tr>\n",
       "    <tr>\n",
       "      <th>96107</th>\n",
       "      <td>recJHFDLpGRMIFgnL</td>\n",
       "      <td>City of Santa Monica</td>\n",
       "      <td>26156</td>\n",
       "      <td>4</td>\n",
       "      <td>363</td>\n",
       "      <td>POLYGON ((140795.451 -445611.377, 140773.422 -...</td>\n",
       "      <td>5.20</td>\n",
       "      <td>5.20</td>\n",
       "      <td>5.20</td>\n",
       "      <td>1</td>\n",
       "      <td>all_day</td>\n",
       "      <td>aHR0cDovL2d0ZnMuYmlnYmx1ZWJ1cy5jb20vdmVoaWNsZX...</td>\n",
       "      <td>7</td>\n",
       "      <td>District 7 - Los Angeles</td>\n",
       "    </tr>\n",
       "  </tbody>\n",
       "</table>\n",
       "</div>"
      ],
      "text/plain": [
       "                  org_id           agency_name shape_id  stop_sequence  \\\n",
       "96104  recJHFDLpGRMIFgnL  City of Santa Monica    26156              2   \n",
       "96106  recJHFDLpGRMIFgnL  City of Santa Monica    26156              3   \n",
       "96107  recJHFDLpGRMIFgnL  City of Santa Monica    26156              4   \n",
       "\n",
       "      stop_id                                           geometry  p50_mph  \\\n",
       "96104     361  POLYGON ((141143.668 -446163.831, 141063.982 -...     8.31   \n",
       "96106     362  POLYGON ((140784.705 -445643.610, 140783.928 -...    14.25   \n",
       "96107     363  POLYGON ((140795.451 -445611.377, 140773.422 -...     5.20   \n",
       "\n",
       "       p20_mph  p80_mph  n_trips time_of_day  \\\n",
       "96104     2.89    14.55        5     all_day   \n",
       "96106    14.25    14.25        1     all_day   \n",
       "96107     5.20     5.20        1     all_day   \n",
       "\n",
       "                                              base64_url  district  \\\n",
       "96104  aHR0cDovL2d0ZnMuYmlnYmx1ZWJ1cy5jb20vdmVoaWNsZX...         7   \n",
       "96106  aHR0cDovL2d0ZnMuYmlnYmx1ZWJ1cy5jb20vdmVoaWNsZX...         7   \n",
       "96107  aHR0cDovL2d0ZnMuYmlnYmx1ZWJ1cy5jb20vdmVoaWNsZX...         7   \n",
       "\n",
       "                  district_name  \n",
       "96104  District 7 - Los Angeles  \n",
       "96106  District 7 - Los Angeles  \n",
       "96107  District 7 - Los Angeles  "
      ]
     },
     "execution_count": 32,
     "metadata": {},
     "output_type": "execute_result"
    }
   ],
   "source": [
    "segments_samo >> head(3)"
   ]
  },
  {
   "cell_type": "markdown",
   "id": "74f56649-0096-4588-bfdf-49841c7453f3",
   "metadata": {},
   "source": [
    "## Segs to spa util"
   ]
  },
  {
   "cell_type": "code",
   "execution_count": null,
   "id": "443a7356-92ca-410d-98cc-1002cd159700",
   "metadata": {},
   "outputs": [],
   "source": [
    "## TODO ignore centroid warning"
   ]
  },
  {
   "cell_type": "code",
   "execution_count": 34,
   "id": "08cd8213-8296-4a01-8d93-c67513ec5fb3",
   "metadata": {},
   "outputs": [
    {
     "name": "stderr",
     "output_type": "stream",
     "text": [
      "/home/jovyan/data-analyses/_shared_utils/shared_utils/rt_utils.py:865: UserWarning: Geometry is in a geographic CRS. Results from 'centroid' are likely incorrect. Use 'GeoSeries.to_crs()' to re-project geometries to a projected CRS before this operation.\n",
      "\n",
      "/home/jovyan/data-analyses/_shared_utils/shared_utils/rt_utils.py:865: UserWarning: Geometry is in a geographic CRS. Results from 'centroid' are likely incorrect. Use 'GeoSeries.to_crs()' to re-project geometries to a projected CRS before this operation.\n",
      "\n"
     ]
    },
    {
     "name": "stdout",
     "output_type": "stream",
     "text": [
      "writing to calitp-map-tiles/testing/test2.geojson.gz\n"
     ]
    },
    {
     "data": {
      "text/plain": [
       "{'state_dict': {'name': 'null',\n",
       "  'layers': [{'name': 'Map',\n",
       "    'url': 'https://storage.googleapis.com/calitp-map-tiles/testing/test2.geojson.gz',\n",
       "    'properties': {'stroked': False, 'highlight_saturation_multiplier': 0.5}}],\n",
       "  'lat_lon': (34.02814634975405, -118.44655745935492),\n",
       "  'zoom': 13},\n",
       " 'spa_link': 'https://embeddable-maps.calitp.org/?state=eyJuYW1lIjogIm51bGwiLCAibGF5ZXJzIjogW3sibmFtZSI6ICJNYXAiLCAidXJsIjogImh0dHBzOi8vc3RvcmFnZS5nb29nbGVhcGlzLmNvbS9jYWxpdHAtbWFwLXRpbGVzL3Rlc3RpbmcvdGVzdDIuZ2VvanNvbi5neiIsICJwcm9wZXJ0aWVzIjogeyJzdHJva2VkIjogZmFsc2UsICJoaWdobGlnaHRfc2F0dXJhdGlvbl9tdWx0aXBsaWVyIjogMC41fX1dLCAibGF0X2xvbiI6IFszNC4wMjgxNDYzNDk3NTQwNSwgLTExOC40NDY1NTc0NTkzNTQ5Ml0sICJ6b29tIjogMTN9'}"
      ]
     },
     "execution_count": 34,
     "metadata": {},
     "output_type": "execute_result"
    }
   ],
   "source": [
    "shared_utils.rt_utils.set_state_export(segments_samo)"
   ]
  },
  {
   "cell_type": "code",
   "execution_count": 35,
   "id": "ae5cb7d0-770b-400c-b4af-634a5f94c81e",
   "metadata": {},
   "outputs": [
    {
     "name": "stderr",
     "output_type": "stream",
     "text": [
      "/home/jovyan/data-analyses/_shared_utils/shared_utils/rt_utils.py:865: UserWarning: Geometry is in a geographic CRS. Results from 'centroid' are likely incorrect. Use 'GeoSeries.to_crs()' to re-project geometries to a projected CRS before this operation.\n",
      "\n",
      "/home/jovyan/data-analyses/_shared_utils/shared_utils/rt_utils.py:865: UserWarning: Geometry is in a geographic CRS. Results from 'centroid' are likely incorrect. Use 'GeoSeries.to_crs()' to re-project geometries to a projected CRS before this operation.\n",
      "\n"
     ]
    },
    {
     "name": "stdout",
     "output_type": "stream",
     "text": [
      "writing to calitp-map-tiles/testing/samo_segments_test.geojson.gz\n"
     ]
    },
    {
     "data": {
      "text/plain": [
       "{'state_dict': {'name': 'null',\n",
       "  'layers': [{'name': 'Map',\n",
       "    'url': 'https://storage.googleapis.com/calitp-map-tiles/testing/samo_segments_test.geojson.gz',\n",
       "    'properties': {'stroked': False,\n",
       "     'highlight_saturation_multiplier': 0.5,\n",
       "     'tooltip_speed_key': 'p20_mph'},\n",
       "    'type': 'speedmap'}],\n",
       "  'lat_lon': (34.02814634975405, -118.44655745935492),\n",
       "  'zoom': 13,\n",
       "  'legend_url': 'https://storage.googleapis.com/calitp-map-tiles/speeds_legend.svg'},\n",
       " 'spa_link': 'https://embeddable-maps.calitp.org/?state=eyJuYW1lIjogIm51bGwiLCAibGF5ZXJzIjogW3sibmFtZSI6ICJNYXAiLCAidXJsIjogImh0dHBzOi8vc3RvcmFnZS5nb29nbGVhcGlzLmNvbS9jYWxpdHAtbWFwLXRpbGVzL3Rlc3Rpbmcvc2Ftb19zZWdtZW50c190ZXN0Lmdlb2pzb24uZ3oiLCAicHJvcGVydGllcyI6IHsic3Ryb2tlZCI6IGZhbHNlLCAiaGlnaGxpZ2h0X3NhdHVyYXRpb25fbXVsdGlwbGllciI6IDAuNSwgInRvb2x0aXBfc3BlZWRfa2V5IjogInAyMF9tcGgifSwgInR5cGUiOiAic3BlZWRtYXAifV0sICJsYXRfbG9uIjogWzM0LjAyODE0NjM0OTc1NDA1LCAtMTE4LjQ0NjU1NzQ1OTM1NDkyXSwgInpvb20iOiAxMywgImxlZ2VuZF91cmwiOiAiaHR0cHM6Ly9zdG9yYWdlLmdvb2dsZWFwaXMuY29tL2NhbGl0cC1tYXAtdGlsZXMvc3BlZWRzX2xlZ2VuZC5zdmcifQ=='}"
      ]
     },
     "execution_count": 35,
     "metadata": {},
     "output_type": "execute_result"
    }
   ],
   "source": [
    "shared_utils.rt_utils.set_state_export(segments_samo, cmap=ZERO_THIRTY_COLORSCALE, legend_url=SPEEDMAP_LEGEND_URL,\n",
    "                                      map_type='speedmap', color_col='p20_mph', filename='samo_segments_test')"
   ]
  },
  {
   "cell_type": "markdown",
   "id": "aa7732b8-0ea3-439f-9dd6-a86bc99e234f",
   "metadata": {},
   "source": [
    "## Speedmap Comparision"
   ]
  },
  {
   "cell_type": "code",
   "execution_count": null,
   "id": "1ffe6178-cb0d-4b4d-9909-981ca1a9ce36",
   "metadata": {},
   "outputs": [],
   "source": [
    "from rt_analysis import rt_filter_map_plot"
   ]
  },
  {
   "cell_type": "code",
   "execution_count": null,
   "id": "f53c6fb2-cab3-4056-8d6e-321e93808dc2",
   "metadata": {},
   "outputs": [],
   "source": [
    "rt_day = rt_filter_map_plot.from_gcs(300, analysis_date)"
   ]
  },
  {
   "cell_type": "code",
   "execution_count": null,
   "id": "86744a30-39ba-4e5a-89ee-c52de3304024",
   "metadata": {},
   "outputs": [],
   "source": [
    "_m = rt_day.segment_speed_map(no_render=True)"
   ]
  },
  {
   "cell_type": "code",
   "execution_count": null,
   "id": "9c4d258c-9be3-48bc-b04c-eed4dc557bdc",
   "metadata": {},
   "outputs": [],
   "source": [
    "rt_day.map_gz_export()"
   ]
  },
  {
   "cell_type": "code",
   "execution_count": null,
   "id": "ef1bde48-f9d3-4df6-9885-cc96c1f099d7",
   "metadata": {},
   "outputs": [],
   "source": [
    "rt_day.spa_map_state"
   ]
  },
  {
   "cell_type": "code",
   "execution_count": null,
   "id": "b69a0f04-8154-4bc9-afaf-32fcdb5664cd",
   "metadata": {},
   "outputs": [],
   "source": [
    "rt_day.spa_map_url"
   ]
  },
  {
   "cell_type": "code",
   "execution_count": null,
   "id": "5f7e3da5-8d72-458e-a601-dcafa32e49a5",
   "metadata": {},
   "outputs": [],
   "source": [
    "## TODO shn?"
   ]
  },
  {
   "cell_type": "code",
   "execution_count": null,
   "id": "0d5681c2-3594-49a9-aa1c-3a92f8a0b94f",
   "metadata": {},
   "outputs": [],
   "source": [
    "rt_day.display_spa_map()"
   ]
  },
  {
   "cell_type": "code",
   "execution_count": null,
   "id": "3359f7be-bd7f-4f27-bf83-2bea9bdd446c",
   "metadata": {},
   "outputs": [],
   "source": []
  }
 ],
 "metadata": {
  "kernelspec": {
   "display_name": "Python 3 (ipykernel)",
   "language": "python",
   "name": "python3"
  },
  "language_info": {
   "codemirror_mode": {
    "name": "ipython",
    "version": 3
   },
   "file_extension": ".py",
   "mimetype": "text/x-python",
   "name": "python",
   "nbconvert_exporter": "python",
   "pygments_lexer": "ipython3",
   "version": "3.9.13"
  },
  "widgets": {
   "application/vnd.jupyter.widget-state+json": {
    "state": {},
    "version_major": 2,
    "version_minor": 0
   }
  }
 },
 "nbformat": 4,
 "nbformat_minor": 5
}
