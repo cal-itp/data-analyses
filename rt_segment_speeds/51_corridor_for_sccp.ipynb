{
 "cells": [
  {
   "cell_type": "code",
   "execution_count": 54,
   "id": "a2b3e31e-d61a-4eae-8f94-f8a2c3b8793f",
   "metadata": {},
   "outputs": [],
   "source": [
    "import pandas as pd\n",
    "import geopandas as gpd\n",
    "\n",
    "from shared_utils import rt_utils, catalog_utils, rt_dates, webmap_utils\n",
    "\n",
    "from calitp_data_analysis import get_fs, geography_utils\n",
    "from calitp_data_analysis.gcs_geopandas import GCSGeoPandas\n",
    "gcsgp = GCSGeoPandas()\n",
    "from segment_speed_utils import helpers, time_series_utils, gtfs_schedule_wrangling, corridor_analysis\n",
    "from segment_speed_utils.project_vars import SCHED_GCS, SEGMENT_GCS, GTFS_DATA_DICT\n",
    "import numpy as np\n",
    "import datetime as dt\n",
    "\n",
    "ADHOC_PATH = \"gs://calitp-analytics-data/data-analyses/rt_segment_speeds/adhoc/\""
   ]
  },
  {
   "cell_type": "markdown",
   "id": "5641327c-0c33-45f2-9874-aa5a9e88e12c",
   "metadata": {},
   "source": [
    "# Run SCCP/LPP Level of Transit Delay Metric using newer corridor tools\n",
    "\n",
    "> The speed-based metric for the corridor provided is 2,160 minutes. This is the sum of delays for each trip traversing the corridor as compared to a reference speed of 16 miles per hour. To further explain, we took each corridor trip that we have data for and calculated the hypothetical time it would take for that trip to traverse the corridor at a speed of 16 mph. The difference between the actual time it took for the trip to traverse the corridor and that hypothetical time is the speed-based delay for that trip, and we summed those delays to create the metric for a day (October 15, 2025).\n",
    ">\n",
    "> This metric is intended to provide a more consistent basis for comparison independent of scheduling practices.\n",
    ">\n",
    "> To calculate which routes we consider to be along the corridor, we first filtered to routes stopping within the corridor. We then filtered our data for those trips to the subset of each trip from the last stop before entering the corridor to the first stop after leaving the corridor.\n",
    ">\n",
    "> Here is a list of routes included in our analysis: E13, 103, E14, 11, 33, 106, 62, 134, 109, 86, E18, E11, E15, E16, 102, 142, E10, 129, 38, 30, 51, E17, E12, 88\n",
    ">\n",
    ">Additionally, attached is a map of the corridor and transit routes within it.\n"
   ]
  },
  {
   "cell_type": "code",
   "execution_count": 55,
   "id": "e68f1b1a-6547-4be4-bf57-463edbc4c4df",
   "metadata": {
    "tags": []
   },
   "outputs": [],
   "source": [
    "corridor = gcsgp.read_file(f'{ADHOC_PATH}sccp_sacramento_2025_10_08.geojson').assign(corridor_id = 1, corridor_distance_meters = 2250)\n",
    "#  use short side for distance"
   ]
  },
  {
   "cell_type": "code",
   "execution_count": 56,
   "id": "4240ce27-9024-476e-8295-d3ef5e44357f",
   "metadata": {
    "tags": []
   },
   "outputs": [],
   "source": [
    "analysis_date = rt_dates.DATES['oct2025']"
   ]
  },
  {
   "cell_type": "code",
   "execution_count": 57,
   "id": "7ce2ab37-d11a-45de-be95-39914a70a18b",
   "metadata": {
    "tags": []
   },
   "outputs": [
    {
     "data": {
      "text/plain": [
       "'2025-10-15'"
      ]
     },
     "execution_count": 57,
     "metadata": {},
     "output_type": "execute_result"
    }
   ],
   "source": [
    "analysis_date"
   ]
  },
  {
   "cell_type": "code",
   "execution_count": 58,
   "id": "70918f92-8e8b-4656-95ed-eb0e241e896e",
   "metadata": {
    "tags": []
   },
   "outputs": [
    {
     "data": {
      "text/plain": [
       "<module 'segment_speed_utils.corridor_analysis' from '/home/jovyan/data-analyses/rt_segment_speeds/segment_speed_utils/corridor_analysis.py'>"
      ]
     },
     "execution_count": 58,
     "metadata": {},
     "output_type": "execute_result"
    }
   ],
   "source": [
    "import importlib\n",
    "importlib.reload(corridor_analysis)"
   ]
  },
  {
   "cell_type": "code",
   "execution_count": 59,
   "id": "90ca4587-7638-4d45-91e6-9b0d18fa02d1",
   "metadata": {
    "tags": []
   },
   "outputs": [
    {
     "name": "stdout",
     "output_type": "stream",
     "text": [
      "2.5 percent of segments have no speed\n"
     ]
    }
   ],
   "source": [
    "segment_speeds = corridor_analysis.import_speedmap_segment_speeds(analysis_date)\n",
    "frequencies = corridor_analysis.get_max_frequencies(segment_speeds)\n",
    "trip_speeds = corridor_analysis.import_trip_speeds(analysis_date)"
   ]
  },
  {
   "cell_type": "code",
   "execution_count": 73,
   "id": "2d5e6b13-5da1-4e0d-8c19-81133f4fb1dd",
   "metadata": {
    "tags": []
   },
   "outputs": [],
   "source": [
    "feeds = [\"Sacramento Schedule\", \"Elk Grove Schedule\"]"
   ]
  },
  {
   "cell_type": "code",
   "execution_count": 74,
   "id": "3a30c136-9469-40d9-9077-f38e6e860479",
   "metadata": {
    "tags": []
   },
   "outputs": [],
   "source": [
    "segment_speeds = segment_speeds.query('name.isin(@feeds)')"
   ]
  },
  {
   "cell_type": "code",
   "execution_count": 75,
   "id": "2901a40e-33b0-4893-a163-5404227519ef",
   "metadata": {
    "tags": []
   },
   "outputs": [
    {
     "name": "stdout",
     "output_type": "stream",
     "text": [
      "1.8 percent of trips with zero seconds\n",
      "0.4 percent of trips with speeds > 80mph or < 3mph\n"
     ]
    }
   ],
   "source": [
    "corridor_trips = corridor_analysis.find_corridor_data(segment_speeds, corridor, trip_speeds,\n",
    "                                                     custom_relevance_meters=100)\n",
    "corridor_results = corridor_analysis.analyze_corridor_trips(corridor_trips)"
   ]
  },
  {
   "cell_type": "code",
   "execution_count": 76,
   "id": "a69cbf9a-cf58-43c3-aadc-5aad787b3188",
   "metadata": {
    "tags": []
   },
   "outputs": [
    {
     "data": {
      "text/plain": [
       "array(['E13', '103', 'E14', '11', '33', '106', '62', '134', '109', '86',\n",
       "       'E18', 'E11', 'E15', 'E16', '102', '142', 'E10', '129', '38', '30',\n",
       "       '51', 'E17', 'E12', '88'], dtype=object)"
      ]
     },
     "execution_count": 76,
     "metadata": {},
     "output_type": "execute_result"
    }
   ],
   "source": [
    "corridor_trips.route_short_name.unique()"
   ]
  },
  {
   "cell_type": "code",
   "execution_count": 77,
   "id": "9a009e24-6e4b-4943-9f14-c4c77272ca8a",
   "metadata": {
    "tags": []
   },
   "outputs": [
    {
     "data": {
      "text/plain": [
       "'E13, 103, E14, 11, 33, 106, 62, 134, 109, 86, E18, E11, E15, E16, 102, 142, E10, 129, 38, 30, 51, E17, E12, 88'"
      ]
     },
     "execution_count": 77,
     "metadata": {},
     "output_type": "execute_result"
    }
   ],
   "source": [
    "', '.join(corridor_trips.route_short_name.unique())"
   ]
  },
  {
   "cell_type": "code",
   "execution_count": 78,
   "id": "504ab7c9-3a67-4d41-8118-620c88010b22",
   "metadata": {
    "tags": []
   },
   "outputs": [],
   "source": [
    "import pandas as pd\n",
    "import geopandas as gpd\n",
    "\n",
    "from shared_utils import rt_utils, catalog_utils, rt_dates, webmap_utils\n",
    "\n",
    "from calitp_data_analysis import get_fs, geography_utils\n",
    "from segment_speed_utils import helpers, time_series_utils, gtfs_schedule_wrangling, corridor_analysis\n",
    "from segment_speed_utils.project_vars import SCHED_GCS, SEGMENT_GCS, GTFS_DATA_DICT\n",
    "import numpy as np\n",
    "import datetime as dt\n",
    "\n",
    "ADHOC_PATH = \"gs://calitp-analytics-data/data-analyses/rt_segment_speeds/adhoc/\""
   ]
  },
  {
   "cell_type": "code",
   "execution_count": 85,
   "id": "d5ab84db-e377-4b89-96ce-0d97a0d56945",
   "metadata": {
    "tags": []
   },
   "outputs": [],
   "source": [
    "# corridor_analysis.validate_corridor_routes(corridor, corridor_trips)"
   ]
  },
  {
   "cell_type": "code",
   "execution_count": 80,
   "id": "cbd0242b-1d5a-434c-a0f9-910bf499f628",
   "metadata": {
    "tags": []
   },
   "outputs": [
    {
     "name": "stdout",
     "output_type": "stream",
     "text": [
      "median: 10.01mph... mph floor mode: 16mph\n"
     ]
    }
   ],
   "source": [
    "corridor_improvements = corridor_analysis.analyze_corridor_improvements(corridor_results, **{'trip_mph_floor': 16, 'trip_percent_speedup': 15})"
   ]
  },
  {
   "cell_type": "code",
   "execution_count": 81,
   "id": "f5fef51b-b2ee-4920-9272-9294859756b2",
   "metadata": {
    "tags": []
   },
   "outputs": [
    {
     "data": {
      "text/html": [
       "<div>\n",
       "<style scoped>\n",
       "    .dataframe tbody tr th:only-of-type {\n",
       "        vertical-align: middle;\n",
       "    }\n",
       "\n",
       "    .dataframe tbody tr th {\n",
       "        vertical-align: top;\n",
       "    }\n",
       "\n",
       "    .dataframe thead th {\n",
       "        text-align: right;\n",
       "    }\n",
       "</style>\n",
       "<table border=\"1\" class=\"dataframe\">\n",
       "  <thead>\n",
       "    <tr style=\"text-align: right;\">\n",
       "      <th></th>\n",
       "      <th>trip_instance_key</th>\n",
       "      <th>corridor_meters</th>\n",
       "      <th>corridor_seconds</th>\n",
       "      <th>corridor_speed_mps</th>\n",
       "      <th>corridor_speed_mph</th>\n",
       "      <th>route_short_name</th>\n",
       "      <th>route_id</th>\n",
       "      <th>shape_array_key</th>\n",
       "      <th>shape_id</th>\n",
       "      <th>schedule_gtfs_dataset_key</th>\n",
       "      <th>time_of_day</th>\n",
       "      <th>corridor_id</th>\n",
       "      <th>improved_corridor_speed_mph</th>\n",
       "      <th>intervention_assumption</th>\n",
       "      <th>improved_corridor_speed_mps</th>\n",
       "      <th>improved_corridor_seconds</th>\n",
       "    </tr>\n",
       "  </thead>\n",
       "  <tbody>\n",
       "    <tr>\n",
       "      <th>0</th>\n",
       "      <td>000896d582b06b37fe4b501bc55fffea</td>\n",
       "      <td>1335.012451</td>\n",
       "      <td>266.0</td>\n",
       "      <td>5.018844</td>\n",
       "      <td>11.227154</td>\n",
       "      <td>86</td>\n",
       "      <td>086</td>\n",
       "      <td>b2643db097730669909d9a65882069e7</td>\n",
       "      <td>51158</td>\n",
       "      <td>5ebc3170011ae80d56831184d5035743</td>\n",
       "      <td>PM Peak</td>\n",
       "      <td>1</td>\n",
       "      <td>16.0</td>\n",
       "      <td>trips achieve 16mph or existing spd if higher</td>\n",
       "      <td>7.152436</td>\n",
       "      <td>186.651428</td>\n",
       "    </tr>\n",
       "    <tr>\n",
       "      <th>1</th>\n",
       "      <td>00c33cd6e4c7ef7c6e29d5f371bb17bc</td>\n",
       "      <td>3838.166749</td>\n",
       "      <td>710.0</td>\n",
       "      <td>5.405869</td>\n",
       "      <td>12.092928</td>\n",
       "      <td>11</td>\n",
       "      <td>011</td>\n",
       "      <td>f3c8087de50c58703ee97ef16d264934</td>\n",
       "      <td>51086</td>\n",
       "      <td>5ebc3170011ae80d56831184d5035743</td>\n",
       "      <td>Midday</td>\n",
       "      <td>1</td>\n",
       "      <td>16.0</td>\n",
       "      <td>trips achieve 16mph or existing spd if higher</td>\n",
       "      <td>7.152436</td>\n",
       "      <td>536.623689</td>\n",
       "    </tr>\n",
       "    <tr>\n",
       "      <th>2</th>\n",
       "      <td>0156358cbde57d5e9d43164e319e6c0f</td>\n",
       "      <td>1496.585551</td>\n",
       "      <td>269.0</td>\n",
       "      <td>5.563515</td>\n",
       "      <td>12.445583</td>\n",
       "      <td>86</td>\n",
       "      <td>086</td>\n",
       "      <td>b2643db097730669909d9a65882069e7</td>\n",
       "      <td>51158</td>\n",
       "      <td>5ebc3170011ae80d56831184d5035743</td>\n",
       "      <td>AM Peak</td>\n",
       "      <td>1</td>\n",
       "      <td>16.0</td>\n",
       "      <td>trips achieve 16mph or existing spd if higher</td>\n",
       "      <td>7.152436</td>\n",
       "      <td>209.241367</td>\n",
       "    </tr>\n",
       "  </tbody>\n",
       "</table>\n",
       "</div>"
      ],
      "text/plain": [
       "                  trip_instance_key  ...  improved_corridor_seconds\n",
       "0  000896d582b06b37fe4b501bc55fffea  ...                 186.651428\n",
       "1  00c33cd6e4c7ef7c6e29d5f371bb17bc  ...                 536.623689\n",
       "2  0156358cbde57d5e9d43164e319e6c0f  ...                 209.241367\n",
       "\n",
       "[3 rows x 16 columns]"
      ]
     },
     "execution_count": 81,
     "metadata": {},
     "output_type": "execute_result"
    }
   ],
   "source": [
    "corridor_improvements.head(3)"
   ]
  },
  {
   "cell_type": "code",
   "execution_count": 82,
   "id": "c1557976-d208-4c63-97ba-71751663a63b",
   "metadata": {
    "tags": []
   },
   "outputs": [],
   "source": [
    "summarized = corridor_analysis.summarize_corridor_improvements(corridor_improvements, frequencies, corridor)"
   ]
  },
  {
   "cell_type": "code",
   "execution_count": 84,
   "id": "524afa51-5edd-41dc-b744-a64c6380c282",
   "metadata": {
    "tags": []
   },
   "outputs": [
    {
     "data": {
      "text/plain": [
       "2159.5"
      ]
     },
     "execution_count": 84,
     "metadata": {},
     "output_type": "execute_result"
    }
   ],
   "source": [
    "summarized.delay_minutes.sum()"
   ]
  },
  {
   "cell_type": "code",
   "execution_count": null,
   "id": "b2a997e6-2f39-41a6-a7d7-6f725260ec7b",
   "metadata": {},
   "outputs": [],
   "source": []
  }
 ],
 "metadata": {
  "kernelspec": {
   "display_name": "Python 3 (ipykernel)",
   "language": "python",
   "name": "python3"
  },
  "language_info": {
   "codemirror_mode": {
    "name": "ipython",
    "version": 3
   },
   "file_extension": ".py",
   "mimetype": "text/x-python",
   "name": "python",
   "nbconvert_exporter": "python",
   "pygments_lexer": "ipython3",
   "version": "3.11.10"
  },
  "widgets": {
   "application/vnd.jupyter.widget-state+json": {
    "state": {},
    "version_major": 2,
    "version_minor": 0
   }
  }
 },
 "nbformat": 4,
 "nbformat_minor": 5
}
