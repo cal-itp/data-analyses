{
 "cells": [
  {
   "cell_type": "markdown",
   "id": "fe5aafc6-e153-4727-a26c-cfbf6ea892c4",
   "metadata": {},
   "source": [
    "# Big Blue Bus speeds using `vp_usable_with_dwell`, comparison w/ legacy speedmaps\n",
    "\n",
    "## (based on 37)\n",
    "\n",
    "> ## Alignments\n",
    "> * Align nearest neighbor and interpolation steps\n",
    "> * Dwell times are factored in\n",
    "> * Interpolation of stop arrival looks at the previous `moving_timestamp_local` which is after the bus gets moving again, and this stop's `location_timestamp_local`, which is the beginning of the bus's dwelling at a stop.\n",
    "\n",
    "> ## Speed\n",
    "> * Retain how speed is calculated - even remove filters (in averaging, speeds over 80 mph are filtered out) to show full distribution\n",
    "> * In the full distribution, we'll keep extra high speeds in, and decide on where are high/low filters should be"
   ]
  },
  {
   "cell_type": "code",
   "execution_count": 1,
   "id": "667c4b7f-f402-4a03-9ea6-77bfbdf84ca1",
   "metadata": {},
   "outputs": [],
   "source": [
    "import folium\n",
    "import geopandas as gpd\n",
    "import pandas as pd\n",
    "\n",
    "from segment_speed_utils.project_vars import SEGMENT_GCS\n",
    "from shared_utils import rt_dates, rt_utils\n",
    "\n",
    "analysis_date = rt_dates.DATES[\"apr2024\"]"
   ]
  },
  {
   "cell_type": "code",
   "execution_count": 2,
   "id": "139f6ffe-a1fb-45df-90a4-b3318e006f39",
   "metadata": {},
   "outputs": [],
   "source": [
    "from rt_analysis import rt_filter_map_plot\n",
    "import datetime as dt\n",
    "from siuba import *\n",
    "from tqdm.notebook import tqdm"
   ]
  },
  {
   "cell_type": "code",
   "execution_count": 3,
   "id": "197232ec-c256-4aee-92d4-97815558e1d2",
   "metadata": {},
   "outputs": [],
   "source": [
    "speeds = pd.read_parquet(\n",
    "    f\"{SEGMENT_GCS}bbb_speeds_by_trip_{analysis_date}.parquet\"\n",
    ")\n",
    "   \n",
    "segment_speeds = gpd.read_parquet(\n",
    "    f\"{SEGMENT_GCS}bbb_segment_speeds_gdf_{analysis_date}.parquet\"\n",
    ")"
   ]
  },
  {
   "cell_type": "code",
   "execution_count": 4,
   "id": "40514b39-dcd7-4fd9-8b37-6ef7bd9242d8",
   "metadata": {},
   "outputs": [
    {
     "data": {
      "text/plain": [
       "count    32161.000000\n",
       "mean        14.200993\n",
       "std          8.277521\n",
       "min          0.033953\n",
       "25%          8.890265\n",
       "50%         12.699928\n",
       "75%         17.480291\n",
       "max         79.641062\n",
       "Name: speed_mph, dtype: float64"
      ]
     },
     "execution_count": 4,
     "metadata": {},
     "output_type": "execute_result"
    }
   ],
   "source": [
    "speeds[speeds.speed_mph <= 80].speed_mph.describe()"
   ]
  },
  {
   "cell_type": "code",
   "execution_count": 5,
   "id": "2f446c73-2623-4c40-ba2d-db20ea9a6068",
   "metadata": {},
   "outputs": [
    {
     "data": {
      "text/plain": [
       "<AxesSubplot:>"
      ]
     },
     "execution_count": 5,
     "metadata": {},
     "output_type": "execute_result"
    },
    {
     "data": {
      "image/png": "[encoded data removed]",
      "text/plain": [
       "<Figure size 640x480 with 1 Axes>"
      ]
     },
     "metadata": {},
     "output_type": "display_data"
    }
   ],
   "source": [
    "speeds.speed_mph.hist(bins=range(0, 80, 1))"
   ]
  },
  {
   "cell_type": "markdown",
   "id": "b1cf8677-a577-49e8-91b2-7b80353f88e5",
   "metadata": {},
   "source": [
    "## comparison -- all trip speeds \n",
    "\n",
    "*  substantially equivalent!"
   ]
  },
  {
   "cell_type": "code",
   "execution_count": 6,
   "id": "dade8ab3-aa2a-4aef-9512-37b143e42c49",
   "metadata": {},
   "outputs": [
    {
     "data": {
      "application/vnd.jupyter.widget-view+json": {
       "model_id": "cf0f16b5d8d9438dbe9b88160498a002",
       "version_major": 2,
       "version_minor": 0
      },
      "text/plain": [
       "0it [00:00, ?it/s]"
      ]
     },
     "metadata": {},
     "output_type": "display_data"
    }
   ],
   "source": [
    "pbar = tqdm()"
   ]
  },
  {
   "cell_type": "code",
   "execution_count": 7,
   "id": "8aaec517-802e-4296-83a5-2767036484ff",
   "metadata": {},
   "outputs": [
    {
     "name": "stdout",
     "output_type": "stream",
     "text": [
      "found shapes parquet at gs://calitp-analytics-data/data-analyses/rt_delay/v2_cached_views/shapes_300_2024-04-17.parquet\n"
     ]
    }
   ],
   "source": [
    "rt_day = rt_filter_map_plot.from_gcs(300, analysis_date, pbar)"
   ]
  },
  {
   "cell_type": "code",
   "execution_count": 9,
   "id": "efcd4fab-3ac6-43c2-bc8f-fb055c70ce2a",
   "metadata": {},
   "outputs": [
    {
     "name": "stdout",
     "output_type": "stream",
     "text": [
      "stop_speeds shape: (0, 17), shape_id: 26773\n",
      "stop speeds gdf is empty!\n"
     ]
    }
   ],
   "source": [
    "rt_day.segment_speed_map(no_render=True) # calculate all speeds"
   ]
  },
  {
   "cell_type": "code",
   "execution_count": 25,
   "id": "7e018ba5-283c-4746-8639-0b09762e55fc",
   "metadata": {},
   "outputs": [],
   "source": [
    "legacy_all_day = rt_day.stop_segment_speed_view.copy()"
   ]
  },
  {
   "cell_type": "code",
   "execution_count": 26,
   "id": "e6c3e1c3-73c1-4dda-975e-f63496a38272",
   "metadata": {},
   "outputs": [
    {
     "data": {
      "text/html": [
       "<div>\n",
       "<style scoped>\n",
       "    .dataframe tbody tr th:only-of-type {\n",
       "        vertical-align: middle;\n",
       "    }\n",
       "\n",
       "    .dataframe tbody tr th {\n",
       "        vertical-align: top;\n",
       "    }\n",
       "\n",
       "    .dataframe thead th {\n",
       "        text-align: right;\n",
       "    }\n",
       "</style>\n",
       "<table border=\"1\" class=\"dataframe\">\n",
       "  <thead>\n",
       "    <tr style=\"text-align: right;\">\n",
       "      <th></th>\n",
       "      <th>stop_id</th>\n",
       "      <th>stop_name</th>\n",
       "      <th>geometry</th>\n",
       "      <th>shape_id</th>\n",
       "      <th>shape_meters</th>\n",
       "      <th>trip_id</th>\n",
       "      <th>stop_sequence</th>\n",
       "      <th>route_id</th>\n",
       "      <th>route_short_name</th>\n",
       "      <th>direction_id</th>\n",
       "      <th>...</th>\n",
       "      <th>meters_from_last</th>\n",
       "      <th>speed_from_last</th>\n",
       "      <th>delay_chg_sec</th>\n",
       "      <th>speed_mph</th>\n",
       "      <th>n_trips_shp</th>\n",
       "      <th>p50_mph</th>\n",
       "      <th>p20_mph</th>\n",
       "      <th>p80_mph</th>\n",
       "      <th>fast_slow_ratio</th>\n",
       "      <th>trips_per_hour</th>\n",
       "    </tr>\n",
       "  </thead>\n",
       "  <tbody>\n",
       "    <tr>\n",
       "      <th>29252</th>\n",
       "      <td>616</td>\n",
       "      <td>CENTURY EB &amp; AVIATION NS</td>\n",
       "      <td>LINESTRING (149725.104 -450726.953, 149755.002...</td>\n",
       "      <td>26730</td>\n",
       "      <td>16670.916411</td>\n",
       "      <td>918827</td>\n",
       "      <td>37.0</td>\n",
       "      <td>3707</td>\n",
       "      <td>3</td>\n",
       "      <td>1.0</td>\n",
       "      <td>...</td>\n",
       "      <td>328.488683</td>\n",
       "      <td>2.507547</td>\n",
       "      <td>0.0</td>\n",
       "      <td>5.609383</td>\n",
       "      <td>114</td>\n",
       "      <td>16.469685</td>\n",
       "      <td>6.768571</td>\n",
       "      <td>24.653475</td>\n",
       "      <td>3.642346</td>\n",
       "      <td>3.268945</td>\n",
       "    </tr>\n",
       "    <tr>\n",
       "      <th>29253</th>\n",
       "      <td>None</td>\n",
       "      <td>None</td>\n",
       "      <td>LINESTRING (149848.468 -450938.303, 149878.806...</td>\n",
       "      <td>26730</td>\n",
       "      <td>18000.000000</td>\n",
       "      <td>918827</td>\n",
       "      <td>37.0</td>\n",
       "      <td>3707</td>\n",
       "      <td>3</td>\n",
       "      <td>1.0</td>\n",
       "      <td>...</td>\n",
       "      <td>1329.083589</td>\n",
       "      <td>16.013055</td>\n",
       "      <td>NaN</td>\n",
       "      <td>35.821205</td>\n",
       "      <td>114</td>\n",
       "      <td>16.469685</td>\n",
       "      <td>6.768571</td>\n",
       "      <td>24.653475</td>\n",
       "      <td>3.642346</td>\n",
       "      <td>3.268945</td>\n",
       "    </tr>\n",
       "    <tr>\n",
       "      <th>29254</th>\n",
       "      <td>616</td>\n",
       "      <td>CENTURY EB &amp; AVIATION NS</td>\n",
       "      <td>LINESTRING (149725.104 -450726.953, 149755.002...</td>\n",
       "      <td>26730</td>\n",
       "      <td>16670.916411</td>\n",
       "      <td>918826</td>\n",
       "      <td>37.0</td>\n",
       "      <td>3707</td>\n",
       "      <td>3</td>\n",
       "      <td>1.0</td>\n",
       "      <td>...</td>\n",
       "      <td>328.488683</td>\n",
       "      <td>3.189211</td>\n",
       "      <td>0.0</td>\n",
       "      <td>7.134264</td>\n",
       "      <td>114</td>\n",
       "      <td>16.469685</td>\n",
       "      <td>6.768571</td>\n",
       "      <td>24.653475</td>\n",
       "      <td>3.642346</td>\n",
       "      <td>3.268945</td>\n",
       "    </tr>\n",
       "  </tbody>\n",
       "</table>\n",
       "<p>3 rows × 23 columns</p>\n",
       "</div>"
      ],
      "text/plain": [
       "      stop_id                 stop_name  \\\n",
       "29252     616  CENTURY EB & AVIATION NS   \n",
       "29253    None                      None   \n",
       "29254     616  CENTURY EB & AVIATION NS   \n",
       "\n",
       "                                                geometry shape_id  \\\n",
       "29252  LINESTRING (149725.104 -450726.953, 149755.002...    26730   \n",
       "29253  LINESTRING (149848.468 -450938.303, 149878.806...    26730   \n",
       "29254  LINESTRING (149725.104 -450726.953, 149755.002...    26730   \n",
       "\n",
       "       shape_meters trip_id  stop_sequence route_id route_short_name  \\\n",
       "29252  16670.916411  918827           37.0     3707                3   \n",
       "29253  18000.000000  918827           37.0     3707                3   \n",
       "29254  16670.916411  918826           37.0     3707                3   \n",
       "\n",
       "       direction_id  ...  meters_from_last  speed_from_last  delay_chg_sec  \\\n",
       "29252           1.0  ...        328.488683         2.507547            0.0   \n",
       "29253           1.0  ...       1329.083589        16.013055            NaN   \n",
       "29254           1.0  ...        328.488683         3.189211            0.0   \n",
       "\n",
       "       speed_mph  n_trips_shp    p50_mph   p20_mph    p80_mph  \\\n",
       "29252   5.609383          114  16.469685  6.768571  24.653475   \n",
       "29253  35.821205          114  16.469685  6.768571  24.653475   \n",
       "29254   7.134264          114  16.469685  6.768571  24.653475   \n",
       "\n",
       "       fast_slow_ratio  trips_per_hour  \n",
       "29252         3.642346        3.268945  \n",
       "29253         3.642346        3.268945  \n",
       "29254         3.642346        3.268945  \n",
       "\n",
       "[3 rows x 23 columns]"
      ]
     },
     "execution_count": 26,
     "metadata": {},
     "output_type": "execute_result"
    }
   ],
   "source": [
    "legacy_all_day >> arrange(-_.n_trips_shp) >> head(3)"
   ]
  },
  {
   "cell_type": "code",
   "execution_count": 28,
   "id": "3a752d8b-cec7-4752-b388-fd9e6c100392",
   "metadata": {},
   "outputs": [
    {
     "data": {
      "text/plain": [
       "count    29482.000000\n",
       "mean        14.103988\n",
       "std          8.354021\n",
       "min          0.238520\n",
       "25%          8.649934\n",
       "50%         12.560240\n",
       "75%         17.460138\n",
       "max         79.567103\n",
       "Name: speed_mph, dtype: float64"
      ]
     },
     "execution_count": 28,
     "metadata": {},
     "output_type": "execute_result"
    }
   ],
   "source": [
    "legacy_all_day[legacy_all_day.speed_mph <= 80].speed_mph.describe()"
   ]
  },
  {
   "cell_type": "code",
   "execution_count": 29,
   "id": "60d10fc1-86e2-4251-a65d-798757fd7c78",
   "metadata": {},
   "outputs": [
    {
     "data": {
      "text/plain": [
       "<AxesSubplot:>"
      ]
     },
     "execution_count": 29,
     "metadata": {},
     "output_type": "execute_result"
    },
    {
     "data": {
      "image/png": "[encoded data removed]",
      "text/plain": [
       "<Figure size 640x480 with 1 Axes>"
      ]
     },
     "metadata": {},
     "output_type": "display_data"
    }
   ],
   "source": [
    "legacy_all_day.speed_mph.hist(bins=range(0, 80, 1))"
   ]
  },
  {
   "cell_type": "markdown",
   "id": "86d6c5dd-0d78-4c92-860a-b225a692bd06",
   "metadata": {},
   "source": [
    "## Aggregations diverge?\n",
    "\n",
    "* comparison isn't 1:1, speedmaps here are a single, all-day agg while segment speeds is both peak and offpeak aggs\n",
    "* just look at p20 for now, but others show same patterns"
   ]
  },
  {
   "cell_type": "code",
   "execution_count": 24,
   "id": "45a5ef8b-5e7d-485f-a27e-506a7af64f0f",
   "metadata": {
    "collapsed": true,
    "jupyter": {
     "outputs_hidden": true
    },
    "tags": []
   },
   "outputs": [
    {
     "name": "stdout",
     "output_type": "stream",
     "text": [
      "0, Owl\n",
      "1, Owl\n",
      "2, Owl\n",
      "3, Owl\n",
      "4, Early AM\n",
      "5, Early AM\n",
      "6, Early AM\n",
      "7, AM Peak\n",
      "8, AM Peak\n",
      "9, AM Peak\n",
      "10, Midday\n",
      "11, Midday\n",
      "12, Midday\n",
      "13, Midday\n",
      "14, Midday\n",
      "15, PM Peak\n",
      "16, PM Peak\n",
      "17, PM Peak\n",
      "18, PM Peak\n",
      "19, PM Peak\n",
      "20, Evening\n",
      "21, Evening\n",
      "22, Evening\n",
      "23, Evening\n",
      "24, Evening\n"
     ]
    }
   ],
   "source": [
    "for i in range(25):\n",
    "    print(f'{i}, {rt_utils.categorize_time_of_day(i)}') #  rt_segment_speeds peak is this AM + PM"
   ]
  },
  {
   "cell_type": "code",
   "execution_count": 30,
   "id": "d56f3973-55a4-4ecc-9f30-7b2bf4ae116e",
   "metadata": {},
   "outputs": [
    {
     "data": {
      "text/plain": [
       "count    29482.000000\n",
       "mean         9.464578\n",
       "std          3.994089\n",
       "min          0.353960\n",
       "25%          6.885652\n",
       "50%          8.976900\n",
       "75%         11.322425\n",
       "max         72.619081\n",
       "Name: p20_mph, dtype: float64"
      ]
     },
     "execution_count": 30,
     "metadata": {},
     "output_type": "execute_result"
    }
   ],
   "source": [
    "legacy_all_day.p20_mph.describe() #  ignore count, showing unaggregated..."
   ]
  },
  {
   "cell_type": "code",
   "execution_count": 17,
   "id": "ef42d97c-3fa4-4251-b448-c69dc97e9918",
   "metadata": {},
   "outputs": [
    {
     "data": {
      "text/plain": [
       "count    67701.000000\n",
       "mean         6.209578\n",
       "std          3.949743\n",
       "min          0.050000\n",
       "25%          3.700000\n",
       "50%          5.610000\n",
       "75%          7.790000\n",
       "max         65.790000\n",
       "Name: p20_mph, dtype: float64"
      ]
     },
     "execution_count": 17,
     "metadata": {},
     "output_type": "execute_result"
    }
   ],
   "source": [
    "segment_speeds.p20_mph.describe()"
   ]
  },
  {
   "cell_type": "code",
   "execution_count": 51,
   "id": "c2b0b178-1b11-40cb-941c-045deb79e5ed",
   "metadata": {},
   "outputs": [
    {
     "data": {
      "text/plain": [
       "<AxesSubplot:>"
      ]
     },
     "execution_count": 51,
     "metadata": {},
     "output_type": "execute_result"
    },
    {
     "data": {
      "image/png": "[encoded data removed]",
      "text/plain": [
       "<Figure size 640x480 with 1 Axes>"
      ]
     },
     "metadata": {},
     "output_type": "display_data"
    }
   ],
   "source": [
    "legacy_all_day.p20_mph.hist(bins=range(0, 30, 1))"
   ]
  },
  {
   "cell_type": "code",
   "execution_count": 52,
   "id": "b65718eb-75ce-4fe7-9d75-c3a762cf00b5",
   "metadata": {},
   "outputs": [
    {
     "data": {
      "text/plain": [
       "<AxesSubplot:>"
      ]
     },
     "execution_count": 52,
     "metadata": {},
     "output_type": "execute_result"
    },
    {
     "data": {
      "image/png": "[encoded data removed]",
      "text/plain": [
       "<Figure size 640x480 with 1 Axes>"
      ]
     },
     "metadata": {},
     "output_type": "display_data"
    }
   ],
   "source": [
    "segment_speeds.p20_mph.hist(bins=range(0, 30, 1))"
   ]
  },
  {
   "cell_type": "markdown",
   "id": "da8c7899-5adb-4294-b126-eb7eb0c762f0",
   "metadata": {
    "tags": []
   },
   "source": [
    "## segment Peak vs speedmaps AM"
   ]
  },
  {
   "cell_type": "code",
   "execution_count": 37,
   "id": "9cbb2b4f-4d1c-409b-9230-855927ab0900",
   "metadata": {},
   "outputs": [],
   "source": [
    "rt_day.set_filter(start_time='07:00', end_time='10:00')"
   ]
  },
  {
   "cell_type": "code",
   "execution_count": 38,
   "id": "2d4825fc-22eb-4e3a-8fea-ea36c21038dd",
   "metadata": {},
   "outputs": [
    {
     "name": "stdout",
     "output_type": "stream",
     "text": [
      "stop_speeds shape: (0, 17), shape_id: 26773\n",
      "stop speeds gdf is empty!\n"
     ]
    }
   ],
   "source": [
    "rt_day.segment_speed_map(no_render=True) # calculate all speeds"
   ]
  },
  {
   "cell_type": "code",
   "execution_count": 39,
   "id": "44322ecb-92ec-4b87-94a7-5ae9cc74650d",
   "metadata": {},
   "outputs": [],
   "source": [
    "legacy_am = rt_day.stop_segment_speed_view.copy()"
   ]
  },
  {
   "cell_type": "code",
   "execution_count": 40,
   "id": "34c80fb3-7a7d-4a6f-a180-98de2c2c34e9",
   "metadata": {},
   "outputs": [],
   "source": [
    "segment_speeds_peak = segment_speeds[segment_speeds['peak_offpeak'] == 'peak']"
   ]
  },
  {
   "cell_type": "code",
   "execution_count": 41,
   "id": "277a4536-8e9d-49a2-a4af-9c8582f77140",
   "metadata": {},
   "outputs": [
    {
     "data": {
      "text/plain": [
       "count    5888.000000\n",
       "mean       10.486114\n",
       "std         4.847688\n",
       "min         0.436987\n",
       "25%         7.308957\n",
       "50%        10.085025\n",
       "75%        12.501387\n",
       "max        63.914286\n",
       "Name: p20_mph, dtype: float64"
      ]
     },
     "execution_count": 41,
     "metadata": {},
     "output_type": "execute_result"
    }
   ],
   "source": [
    "legacy_am.p20_mph.describe() #  ignore count, showing unaggregated..."
   ]
  },
  {
   "cell_type": "code",
   "execution_count": 42,
   "id": "947de0c0-0233-4e6f-a7be-4ce865a81f3d",
   "metadata": {},
   "outputs": [
    {
     "data": {
      "text/plain": [
       "count    34087.000000\n",
       "mean         5.984834\n",
       "std          3.731273\n",
       "min          0.260000\n",
       "25%          3.730000\n",
       "50%          5.360000\n",
       "75%          7.420000\n",
       "max         63.910000\n",
       "Name: p20_mph, dtype: float64"
      ]
     },
     "execution_count": 42,
     "metadata": {},
     "output_type": "execute_result"
    }
   ],
   "source": [
    "segment_speeds_peak.p20_mph.describe()"
   ]
  },
  {
   "cell_type": "code",
   "execution_count": 53,
   "id": "7e8670ef-9788-4132-918d-0beb983db2d1",
   "metadata": {},
   "outputs": [
    {
     "data": {
      "text/plain": [
       "<AxesSubplot:>"
      ]
     },
     "execution_count": 53,
     "metadata": {},
     "output_type": "execute_result"
    },
    {
     "data": {
      "image/png": "[encoded data removed]",
      "text/plain": [
       "<Figure size 640x480 with 1 Axes>"
      ]
     },
     "metadata": {},
     "output_type": "display_data"
    }
   ],
   "source": [
    "legacy_am.p20_mph.hist(bins=range(0, 30, 1))"
   ]
  },
  {
   "cell_type": "code",
   "execution_count": 54,
   "id": "d5d1b68c-597e-46eb-be0b-c5f9f84227db",
   "metadata": {},
   "outputs": [
    {
     "data": {
      "text/plain": [
       "<AxesSubplot:>"
      ]
     },
     "execution_count": 54,
     "metadata": {},
     "output_type": "execute_result"
    },
    {
     "data": {
      "image/png": "[encoded data removed]",
      "text/plain": [
       "<Figure size 640x480 with 1 Axes>"
      ]
     },
     "metadata": {},
     "output_type": "display_data"
    }
   ],
   "source": [
    "segment_speeds_peak.p20_mph.hist(bins=range(0, 30, 1))"
   ]
  },
  {
   "cell_type": "code",
   "execution_count": 47,
   "id": "765542dd-b8b9-42be-8b30-3addf1910f64",
   "metadata": {},
   "outputs": [],
   "source": [
    "# rt_day.stop_segment_speed_view.p50_mph.describe()"
   ]
  },
  {
   "cell_type": "code",
   "execution_count": 48,
   "id": "4d3fc8a8-fb8e-4fb5-89e9-6875f7fe3ec1",
   "metadata": {},
   "outputs": [],
   "source": [
    "# segment_speeds.p50_mph.describe()"
   ]
  },
  {
   "cell_type": "code",
   "execution_count": 49,
   "id": "e0f1f680-d24c-46c1-8b0b-8c6b8ac1ef7c",
   "metadata": {},
   "outputs": [],
   "source": [
    "# rt_day.stop_segment_speed_view.p80_mph.describe()"
   ]
  },
  {
   "cell_type": "code",
   "execution_count": 50,
   "id": "535fbd03-c995-47bb-8e5e-016937121a9f",
   "metadata": {},
   "outputs": [],
   "source": [
    "# segment_speeds.p80_mph.describe()"
   ]
  },
  {
   "cell_type": "markdown",
   "id": "a8ea9f0e-d99f-49d2-906e-b62401af440e",
   "metadata": {
    "tags": []
   },
   "source": [
    "## segment Peak vs speedmaps PM"
   ]
  },
  {
   "cell_type": "code",
   "execution_count": 55,
   "id": "40412454-631f-4742-a10a-c60517c15cc9",
   "metadata": {},
   "outputs": [],
   "source": [
    "rt_day.set_filter(start_time='15:00', end_time='20:00')"
   ]
  },
  {
   "cell_type": "code",
   "execution_count": 56,
   "id": "03100631-de3b-4adf-9dc5-407bdba449f9",
   "metadata": {},
   "outputs": [],
   "source": [
    "rt_day.segment_speed_map(no_render=True) # calculate all speeds"
   ]
  },
  {
   "cell_type": "code",
   "execution_count": 58,
   "id": "886424fd-a0ea-42c2-a399-f3f3e2bc6cae",
   "metadata": {},
   "outputs": [],
   "source": [
    "legacy_pm = rt_day.stop_segment_speed_view.copy()"
   ]
  },
  {
   "cell_type": "code",
   "execution_count": 59,
   "id": "3f9495f3-7cf2-41bf-8f1f-fca8f5a13110",
   "metadata": {},
   "outputs": [
    {
     "data": {
      "text/plain": [
       "count    9254.000000\n",
       "mean        9.086085\n",
       "std         4.418013\n",
       "min         0.734085\n",
       "25%         6.213072\n",
       "50%         8.455280\n",
       "75%        11.271350\n",
       "max        72.619081\n",
       "Name: p20_mph, dtype: float64"
      ]
     },
     "execution_count": 59,
     "metadata": {},
     "output_type": "execute_result"
    }
   ],
   "source": [
    "legacy_pm.p20_mph.describe() #  ignore count, showing unaggregated..."
   ]
  },
  {
   "cell_type": "code",
   "execution_count": 60,
   "id": "6bbd3108-a226-4e6e-b443-96ce90c99e25",
   "metadata": {},
   "outputs": [
    {
     "data": {
      "text/plain": [
       "count    34087.000000\n",
       "mean         5.984834\n",
       "std          3.731273\n",
       "min          0.260000\n",
       "25%          3.730000\n",
       "50%          5.360000\n",
       "75%          7.420000\n",
       "max         63.910000\n",
       "Name: p20_mph, dtype: float64"
      ]
     },
     "execution_count": 60,
     "metadata": {},
     "output_type": "execute_result"
    }
   ],
   "source": [
    "segment_speeds_peak.p20_mph.describe()"
   ]
  },
  {
   "cell_type": "code",
   "execution_count": 61,
   "id": "fdc595c4-ef10-4b0b-82f6-4d47dfc4f3df",
   "metadata": {},
   "outputs": [
    {
     "data": {
      "text/plain": [
       "<AxesSubplot:>"
      ]
     },
     "execution_count": 61,
     "metadata": {},
     "output_type": "execute_result"
    },
    {
     "data": {
      "image/png": "[encoded data removed]",
      "text/plain": [
       "<Figure size 640x480 with 1 Axes>"
      ]
     },
     "metadata": {},
     "output_type": "display_data"
    }
   ],
   "source": [
    "legacy_pm.p20_mph.hist(bins=range(0, 30, 1))"
   ]
  },
  {
   "cell_type": "code",
   "execution_count": 62,
   "id": "f8cdf415-175b-46a4-b2ce-09909e660f9f",
   "metadata": {},
   "outputs": [
    {
     "data": {
      "text/plain": [
       "<AxesSubplot:>"
      ]
     },
     "execution_count": 62,
     "metadata": {},
     "output_type": "execute_result"
    },
    {
     "data": {
      "image/png": "[encoded data removed]",
      "text/plain": [
       "<Figure size 640x480 with 1 Axes>"
      ]
     },
     "metadata": {},
     "output_type": "display_data"
    }
   ],
   "source": [
    "segment_speeds_peak.p20_mph.hist(bins=range(0, 30, 1))"
   ]
  }
 ],
 "metadata": {
  "kernelspec": {
   "display_name": "Python 3 (ipykernel)",
   "language": "python",
   "name": "python3"
  },
  "language_info": {
   "codemirror_mode": {
    "name": "ipython",
    "version": 3
   },
   "file_extension": ".py",
   "mimetype": "text/x-python",
   "name": "python",
   "nbconvert_exporter": "python",
   "pygments_lexer": "ipython3",
   "version": "3.9.13"
  },
  "widgets": {
   "application/vnd.jupyter.widget-state+json": {
    "state": {
     "083456bcc0a147359eb5f807768d88c2": {
      "model_module": "@jupyter-widgets/controls",
      "model_module_version": "1.5.0",
      "model_name": "DescriptionStyleModel",
      "state": {
       "description_width": ""
      }
     },
     "0b51df5a7d69435bbf3f6a25b586586a": {
      "model_module": "@jupyter-widgets/controls",
      "model_module_version": "1.5.0",
      "model_name": "FloatProgressModel",
      "state": {
       "layout": "IPY_MODEL_33467c7caf8c4461b7a539845a4a1599",
       "max": 38,
       "style": "IPY_MODEL_7f887e722fe64acaab5811235e45ad24",
       "value": 38
      }
     },
     "33467c7caf8c4461b7a539845a4a1599": {
      "model_module": "@jupyter-widgets/base",
      "model_module_version": "1.2.0",
      "model_name": "LayoutModel",
      "state": {}
     },
     "3e4266fd66fa4e298372511cb6057f81": {
      "model_module": "@jupyter-widgets/base",
      "model_module_version": "1.2.0",
      "model_name": "LayoutModel",
      "state": {}
     },
     "706315634129422a8c6aaad04554dda1": {
      "model_module": "@jupyter-widgets/controls",
      "model_module_version": "1.5.0",
      "model_name": "DescriptionStyleModel",
      "state": {
       "description_width": ""
      }
     },
     "7f887e722fe64acaab5811235e45ad24": {
      "model_module": "@jupyter-widgets/controls",
      "model_module_version": "1.5.0",
      "model_name": "ProgressStyleModel",
      "state": {
       "description_width": ""
      }
     },
     "800392dc20fd4b19988d9dd0e541a196": {
      "model_module": "@jupyter-widgets/controls",
      "model_module_version": "1.5.0",
      "model_name": "HTMLModel",
      "state": {
       "layout": "IPY_MODEL_e3b23504393e49b0be55177874653d71",
       "style": "IPY_MODEL_083456bcc0a147359eb5f807768d88c2",
       "value": " 38/38 [00:46&lt;00:00,  1.42s/it]"
      }
     },
     "b33cb2f0f2484ec18342d4f5db21437b": {
      "model_module": "@jupyter-widgets/base",
      "model_module_version": "1.2.0",
      "model_name": "LayoutModel",
      "state": {}
     },
     "cddb99e5c41142e7b67e973ac34410c7": {
      "model_module": "@jupyter-widgets/controls",
      "model_module_version": "1.5.0",
      "model_name": "HTMLModel",
      "state": {
       "layout": "IPY_MODEL_3e4266fd66fa4e298372511cb6057f81",
       "style": "IPY_MODEL_706315634129422a8c6aaad04554dda1",
       "value": "Generating segment speeds itp_id: 300 org: City of Santa M: 100%"
      }
     },
     "cf0f16b5d8d9438dbe9b88160498a002": {
      "model_module": "@jupyter-widgets/controls",
      "model_module_version": "1.5.0",
      "model_name": "HBoxModel",
      "state": {
       "children": [
        "IPY_MODEL_cddb99e5c41142e7b67e973ac34410c7",
        "IPY_MODEL_0b51df5a7d69435bbf3f6a25b586586a",
        "IPY_MODEL_800392dc20fd4b19988d9dd0e541a196"
       ],
       "layout": "IPY_MODEL_b33cb2f0f2484ec18342d4f5db21437b"
      }
     },
     "e3b23504393e49b0be55177874653d71": {
      "model_module": "@jupyter-widgets/base",
      "model_module_version": "1.2.0",
      "model_name": "LayoutModel",
      "state": {}
     }
    },
    "version_major": 2,
    "version_minor": 0
   }
  }
 },
 "nbformat": 4,
 "nbformat_minor": 5
}
