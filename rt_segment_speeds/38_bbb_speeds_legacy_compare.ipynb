{
 "cells": [
  {
   "cell_type": "markdown",
   "id": "fe5aafc6-e153-4727-a26c-cfbf6ea892c4",
   "metadata": {},
   "source": [
    "# Big Blue Bus speeds using `vp_usable_with_dwell`, comparison w/ legacy speedmaps\n",
    "\n",
    "## (based on 37)\n",
    "\n",
    "> ## Alignments\n",
    "> * Align nearest neighbor and interpolation steps\n",
    "> * Dwell times are factored in\n",
    "> * Interpolation of stop arrival looks at the previous `moving_timestamp_local` which is after the bus gets moving again, and this stop's `location_timestamp_local`, which is the beginning of the bus's dwelling at a stop.\n",
    "\n",
    "> ## Speed\n",
    "> * Retain how speed is calculated - even remove filters (in averaging, speeds over 80 mph are filtered out) to show full distribution\n",
    "> * In the full distribution, we'll keep extra high speeds in, and decide on where are high/low filters should be"
   ]
  },
  {
   "cell_type": "code",
   "execution_count": 120,
   "id": "667c4b7f-f402-4a03-9ea6-77bfbdf84ca1",
   "metadata": {},
   "outputs": [],
   "source": [
    "import folium\n",
    "import geopandas as gpd\n",
    "import pandas as pd\n",
    "import numpy as np\n",
    "\n",
    "from segment_speed_utils.project_vars import SEGMENT_GCS\n",
    "from shared_utils import rt_dates, rt_utils\n",
    "\n",
    "analysis_date = rt_dates.DATES[\"apr2024\"]"
   ]
  },
  {
   "cell_type": "code",
   "execution_count": 2,
   "id": "139f6ffe-a1fb-45df-90a4-b3318e006f39",
   "metadata": {},
   "outputs": [],
   "source": [
    "from rt_analysis import rt_filter_map_plot\n",
    "import datetime as dt\n",
    "from siuba import *\n",
    "from tqdm.notebook import tqdm"
   ]
  },
  {
   "cell_type": "code",
   "execution_count": 3,
   "id": "197232ec-c256-4aee-92d4-97815558e1d2",
   "metadata": {},
   "outputs": [],
   "source": [
    "speeds = pd.read_parquet(\n",
    "    f\"{SEGMENT_GCS}bbb_speeds_by_trip_{analysis_date}.parquet\"\n",
    ")\n",
    "   \n",
    "segment_speeds = gpd.read_parquet(\n",
    "    f\"{SEGMENT_GCS}bbb_segment_speeds_gdf_{analysis_date}.parquet\"\n",
    ")"
   ]
  },
  {
   "cell_type": "code",
   "execution_count": 4,
   "id": "40514b39-dcd7-4fd9-8b37-6ef7bd9242d8",
   "metadata": {},
   "outputs": [
    {
     "data": {
      "text/plain": [
       "count    32161.000000\n",
       "mean        14.200993\n",
       "std          8.277521\n",
       "min          0.033953\n",
       "25%          8.890265\n",
       "50%         12.699928\n",
       "75%         17.480291\n",
       "max         79.641062\n",
       "Name: speed_mph, dtype: float64"
      ]
     },
     "execution_count": 4,
     "metadata": {},
     "output_type": "execute_result"
    }
   ],
   "source": [
    "speeds[speeds.speed_mph <= 80].speed_mph.describe()"
   ]
  },
  {
   "cell_type": "code",
   "execution_count": 5,
   "id": "2f446c73-2623-4c40-ba2d-db20ea9a6068",
   "metadata": {},
   "outputs": [
    {
     "data": {
      "text/plain": [
       "<AxesSubplot:>"
      ]
     },
     "execution_count": 5,
     "metadata": {},
     "output_type": "execute_result"
    },
    {
     "data": {
      "image/png": "[encoded data removed]",
      "text/plain": [
       "<Figure size 640x480 with 1 Axes>"
      ]
     },
     "metadata": {},
     "output_type": "display_data"
    }
   ],
   "source": [
    "speeds.speed_mph.hist(bins=range(0, 80, 1))"
   ]
  },
  {
   "cell_type": "markdown",
   "id": "b1cf8677-a577-49e8-91b2-7b80353f88e5",
   "metadata": {},
   "source": [
    "## comparison -- all trip speeds \n",
    "\n",
    "*  substantially equivalent!"
   ]
  },
  {
   "cell_type": "code",
   "execution_count": 6,
   "id": "dade8ab3-aa2a-4aef-9512-37b143e42c49",
   "metadata": {},
   "outputs": [
    {
     "data": {
      "application/vnd.jupyter.widget-view+json": {
       "model_id": "46156819cf9445c8b3a54a999679fda1",
       "version_major": 2,
       "version_minor": 0
      },
      "text/plain": [
       "0it [00:00, ?it/s]"
      ]
     },
     "metadata": {},
     "output_type": "display_data"
    }
   ],
   "source": [
    "pbar = tqdm()"
   ]
  },
  {
   "cell_type": "code",
   "execution_count": 7,
   "id": "8aaec517-802e-4296-83a5-2767036484ff",
   "metadata": {},
   "outputs": [
    {
     "name": "stdout",
     "output_type": "stream",
     "text": [
      "found shapes parquet at gs://calitp-analytics-data/data-analyses/rt_delay/v2_cached_views/shapes_300_2024-04-17.parquet\n"
     ]
    }
   ],
   "source": [
    "rt_day = rt_filter_map_plot.from_gcs(300, analysis_date, pbar)"
   ]
  },
  {
   "cell_type": "code",
   "execution_count": 8,
   "id": "efcd4fab-3ac6-43c2-bc8f-fb055c70ce2a",
   "metadata": {},
   "outputs": [],
   "source": [
    "rt_day.segment_speed_map(no_render=True) # calculate all speeds"
   ]
  },
  {
   "cell_type": "code",
   "execution_count": 9,
   "id": "7e018ba5-283c-4746-8639-0b09762e55fc",
   "metadata": {},
   "outputs": [],
   "source": [
    "legacy_all_day = rt_day.stop_segment_speed_view.copy()"
   ]
  },
  {
   "cell_type": "code",
   "execution_count": 10,
   "id": "e6c3e1c3-73c1-4dda-975e-f63496a38272",
   "metadata": {},
   "outputs": [
    {
     "data": {
      "text/html": [
       "<div>\n",
       "<style scoped>\n",
       "    .dataframe tbody tr th:only-of-type {\n",
       "        vertical-align: middle;\n",
       "    }\n",
       "\n",
       "    .dataframe tbody tr th {\n",
       "        vertical-align: top;\n",
       "    }\n",
       "\n",
       "    .dataframe thead th {\n",
       "        text-align: right;\n",
       "    }\n",
       "</style>\n",
       "<table border=\"1\" class=\"dataframe\">\n",
       "  <thead>\n",
       "    <tr style=\"text-align: right;\">\n",
       "      <th></th>\n",
       "      <th>stop_id</th>\n",
       "      <th>stop_name</th>\n",
       "      <th>geometry</th>\n",
       "      <th>shape_id</th>\n",
       "      <th>shape_meters</th>\n",
       "      <th>trip_id</th>\n",
       "      <th>stop_sequence</th>\n",
       "      <th>route_id</th>\n",
       "      <th>route_short_name</th>\n",
       "      <th>direction_id</th>\n",
       "      <th>...</th>\n",
       "      <th>meters_from_last</th>\n",
       "      <th>speed_from_last</th>\n",
       "      <th>delay_chg_sec</th>\n",
       "      <th>speed_mph</th>\n",
       "      <th>n_trips_shp</th>\n",
       "      <th>p50_mph</th>\n",
       "      <th>p20_mph</th>\n",
       "      <th>p80_mph</th>\n",
       "      <th>fast_slow_ratio</th>\n",
       "      <th>trips_per_hour</th>\n",
       "    </tr>\n",
       "  </thead>\n",
       "  <tbody>\n",
       "    <tr>\n",
       "      <th>29252</th>\n",
       "      <td>616</td>\n",
       "      <td>CENTURY EB &amp; AVIATION NS</td>\n",
       "      <td>LINESTRING (149725.104 -450726.953, 149755.002...</td>\n",
       "      <td>26730</td>\n",
       "      <td>16670.916411</td>\n",
       "      <td>918827</td>\n",
       "      <td>37.0</td>\n",
       "      <td>3707</td>\n",
       "      <td>3</td>\n",
       "      <td>1.0</td>\n",
       "      <td>...</td>\n",
       "      <td>328.488683</td>\n",
       "      <td>2.507547</td>\n",
       "      <td>0.0</td>\n",
       "      <td>5.609383</td>\n",
       "      <td>114</td>\n",
       "      <td>16.469685</td>\n",
       "      <td>6.768571</td>\n",
       "      <td>24.653475</td>\n",
       "      <td>3.642346</td>\n",
       "      <td>3.268945</td>\n",
       "    </tr>\n",
       "    <tr>\n",
       "      <th>29253</th>\n",
       "      <td>None</td>\n",
       "      <td>None</td>\n",
       "      <td>LINESTRING (149848.468 -450938.303, 149878.806...</td>\n",
       "      <td>26730</td>\n",
       "      <td>18000.000000</td>\n",
       "      <td>918827</td>\n",
       "      <td>37.0</td>\n",
       "      <td>3707</td>\n",
       "      <td>3</td>\n",
       "      <td>1.0</td>\n",
       "      <td>...</td>\n",
       "      <td>1329.083589</td>\n",
       "      <td>16.013055</td>\n",
       "      <td>NaN</td>\n",
       "      <td>35.821205</td>\n",
       "      <td>114</td>\n",
       "      <td>16.469685</td>\n",
       "      <td>6.768571</td>\n",
       "      <td>24.653475</td>\n",
       "      <td>3.642346</td>\n",
       "      <td>3.268945</td>\n",
       "    </tr>\n",
       "    <tr>\n",
       "      <th>29254</th>\n",
       "      <td>616</td>\n",
       "      <td>CENTURY EB &amp; AVIATION NS</td>\n",
       "      <td>LINESTRING (149725.104 -450726.953, 149755.002...</td>\n",
       "      <td>26730</td>\n",
       "      <td>16670.916411</td>\n",
       "      <td>918826</td>\n",
       "      <td>37.0</td>\n",
       "      <td>3707</td>\n",
       "      <td>3</td>\n",
       "      <td>1.0</td>\n",
       "      <td>...</td>\n",
       "      <td>328.488683</td>\n",
       "      <td>3.189211</td>\n",
       "      <td>0.0</td>\n",
       "      <td>7.134264</td>\n",
       "      <td>114</td>\n",
       "      <td>16.469685</td>\n",
       "      <td>6.768571</td>\n",
       "      <td>24.653475</td>\n",
       "      <td>3.642346</td>\n",
       "      <td>3.268945</td>\n",
       "    </tr>\n",
       "  </tbody>\n",
       "</table>\n",
       "<p>3 rows × 23 columns</p>\n",
       "</div>"
      ],
      "text/plain": [
       "      stop_id                 stop_name  \\\n",
       "29252     616  CENTURY EB & AVIATION NS   \n",
       "29253    None                      None   \n",
       "29254     616  CENTURY EB & AVIATION NS   \n",
       "\n",
       "                                                geometry shape_id  \\\n",
       "29252  LINESTRING (149725.104 -450726.953, 149755.002...    26730   \n",
       "29253  LINESTRING (149848.468 -450938.303, 149878.806...    26730   \n",
       "29254  LINESTRING (149725.104 -450726.953, 149755.002...    26730   \n",
       "\n",
       "       shape_meters trip_id  stop_sequence route_id route_short_name  \\\n",
       "29252  16670.916411  918827           37.0     3707                3   \n",
       "29253  18000.000000  918827           37.0     3707                3   \n",
       "29254  16670.916411  918826           37.0     3707                3   \n",
       "\n",
       "       direction_id  ...  meters_from_last  speed_from_last  delay_chg_sec  \\\n",
       "29252           1.0  ...        328.488683         2.507547            0.0   \n",
       "29253           1.0  ...       1329.083589        16.013055            NaN   \n",
       "29254           1.0  ...        328.488683         3.189211            0.0   \n",
       "\n",
       "       speed_mph  n_trips_shp    p50_mph   p20_mph    p80_mph  \\\n",
       "29252   5.609383          114  16.469685  6.768571  24.653475   \n",
       "29253  35.821205          114  16.469685  6.768571  24.653475   \n",
       "29254   7.134264          114  16.469685  6.768571  24.653475   \n",
       "\n",
       "       fast_slow_ratio  trips_per_hour  \n",
       "29252         3.642346        3.268945  \n",
       "29253         3.642346        3.268945  \n",
       "29254         3.642346        3.268945  \n",
       "\n",
       "[3 rows x 23 columns]"
      ]
     },
     "execution_count": 10,
     "metadata": {},
     "output_type": "execute_result"
    }
   ],
   "source": [
    "legacy_all_day >> arrange(-_.n_trips_shp) >> head(3)"
   ]
  },
  {
   "cell_type": "code",
   "execution_count": 11,
   "id": "3a752d8b-cec7-4752-b388-fd9e6c100392",
   "metadata": {},
   "outputs": [
    {
     "data": {
      "text/plain": [
       "count    29482.000000\n",
       "mean        14.103988\n",
       "std          8.354021\n",
       "min          0.238520\n",
       "25%          8.649934\n",
       "50%         12.560240\n",
       "75%         17.460138\n",
       "max         79.567103\n",
       "Name: speed_mph, dtype: float64"
      ]
     },
     "execution_count": 11,
     "metadata": {},
     "output_type": "execute_result"
    }
   ],
   "source": [
    "legacy_all_day[legacy_all_day.speed_mph <= 80].speed_mph.describe()"
   ]
  },
  {
   "cell_type": "code",
   "execution_count": 12,
   "id": "60d10fc1-86e2-4251-a65d-798757fd7c78",
   "metadata": {},
   "outputs": [
    {
     "data": {
      "text/plain": [
       "<AxesSubplot:>"
      ]
     },
     "execution_count": 12,
     "metadata": {},
     "output_type": "execute_result"
    },
    {
     "data": {
      "image/png": "[encoded data removed]",
      "text/plain": [
       "<Figure size 640x480 with 1 Axes>"
      ]
     },
     "metadata": {},
     "output_type": "display_data"
    }
   ],
   "source": [
    "legacy_all_day.speed_mph.hist(bins=range(0, 80, 1))"
   ]
  },
  {
   "cell_type": "markdown",
   "id": "86d6c5dd-0d78-4c92-860a-b225a692bd06",
   "metadata": {},
   "source": [
    "## Aggregations diverge?\n",
    "\n",
    "* comparison isn't 1:1, speedmaps here are a single, all-day agg while segment speeds is both peak and offpeak aggs\n",
    "* just look at p20 for now, but others show same patterns"
   ]
  },
  {
   "cell_type": "code",
   "execution_count": 13,
   "id": "45a5ef8b-5e7d-485f-a27e-506a7af64f0f",
   "metadata": {
    "tags": []
   },
   "outputs": [
    {
     "name": "stdout",
     "output_type": "stream",
     "text": [
      "0, Owl\n",
      "1, Owl\n",
      "2, Owl\n",
      "3, Owl\n",
      "4, Early AM\n",
      "5, Early AM\n",
      "6, Early AM\n",
      "7, AM Peak\n",
      "8, AM Peak\n",
      "9, AM Peak\n",
      "10, Midday\n",
      "11, Midday\n",
      "12, Midday\n",
      "13, Midday\n",
      "14, Midday\n",
      "15, PM Peak\n",
      "16, PM Peak\n",
      "17, PM Peak\n",
      "18, PM Peak\n",
      "19, PM Peak\n",
      "20, Evening\n",
      "21, Evening\n",
      "22, Evening\n",
      "23, Evening\n",
      "24, Evening\n"
     ]
    }
   ],
   "source": [
    "for i in range(25):\n",
    "    print(f'{i}, {rt_utils.categorize_time_of_day(i)}') #  rt_segment_speeds peak is this AM + PM"
   ]
  },
  {
   "cell_type": "code",
   "execution_count": 14,
   "id": "d56f3973-55a4-4ecc-9f30-7b2bf4ae116e",
   "metadata": {},
   "outputs": [
    {
     "data": {
      "text/plain": [
       "count    29482.000000\n",
       "mean         9.464578\n",
       "std          3.994089\n",
       "min          0.353960\n",
       "25%          6.885652\n",
       "50%          8.976900\n",
       "75%         11.322425\n",
       "max         72.619081\n",
       "Name: p20_mph, dtype: float64"
      ]
     },
     "execution_count": 14,
     "metadata": {},
     "output_type": "execute_result"
    }
   ],
   "source": [
    "legacy_all_day.p20_mph.describe() #  ignore count, showing unaggregated..."
   ]
  },
  {
   "cell_type": "code",
   "execution_count": 15,
   "id": "ef42d97c-3fa4-4251-b448-c69dc97e9918",
   "metadata": {},
   "outputs": [
    {
     "data": {
      "text/plain": [
       "count    67701.000000\n",
       "mean         6.209578\n",
       "std          3.949743\n",
       "min          0.050000\n",
       "25%          3.700000\n",
       "50%          5.610000\n",
       "75%          7.790000\n",
       "max         65.790000\n",
       "Name: p20_mph, dtype: float64"
      ]
     },
     "execution_count": 15,
     "metadata": {},
     "output_type": "execute_result"
    }
   ],
   "source": [
    "segment_speeds.p20_mph.describe()"
   ]
  },
  {
   "cell_type": "code",
   "execution_count": 16,
   "id": "c2b0b178-1b11-40cb-941c-045deb79e5ed",
   "metadata": {},
   "outputs": [
    {
     "data": {
      "text/plain": [
       "<AxesSubplot:>"
      ]
     },
     "execution_count": 16,
     "metadata": {},
     "output_type": "execute_result"
    },
    {
     "data": {
      "image/png": "[encoded data removed]",
      "text/plain": [
       "<Figure size 640x480 with 1 Axes>"
      ]
     },
     "metadata": {},
     "output_type": "display_data"
    }
   ],
   "source": [
    "legacy_all_day.p20_mph.hist(bins=range(0, 30, 1))"
   ]
  },
  {
   "cell_type": "code",
   "execution_count": 17,
   "id": "b65718eb-75ce-4fe7-9d75-c3a762cf00b5",
   "metadata": {},
   "outputs": [
    {
     "data": {
      "text/plain": [
       "<AxesSubplot:>"
      ]
     },
     "execution_count": 17,
     "metadata": {},
     "output_type": "execute_result"
    },
    {
     "data": {
      "image/png": "[encoded data removed]",
      "text/plain": [
       "<Figure size 640x480 with 1 Axes>"
      ]
     },
     "metadata": {},
     "output_type": "display_data"
    }
   ],
   "source": [
    "segment_speeds.p20_mph.hist(bins=range(0, 30, 1))"
   ]
  },
  {
   "cell_type": "markdown",
   "id": "da8c7899-5adb-4294-b126-eb7eb0c762f0",
   "metadata": {
    "tags": []
   },
   "source": [
    "## segment Peak vs speedmaps AM"
   ]
  },
  {
   "cell_type": "code",
   "execution_count": 18,
   "id": "9cbb2b4f-4d1c-409b-9230-855927ab0900",
   "metadata": {},
   "outputs": [],
   "source": [
    "rt_day.set_filter(start_time='07:00', end_time='10:00')"
   ]
  },
  {
   "cell_type": "code",
   "execution_count": 19,
   "id": "2d4825fc-22eb-4e3a-8fea-ea36c21038dd",
   "metadata": {},
   "outputs": [
    {
     "name": "stdout",
     "output_type": "stream",
     "text": [
      "stop_speeds shape: (0, 17), shape_id: 26773\n",
      "stop speeds gdf is empty!\n"
     ]
    }
   ],
   "source": [
    "rt_day.segment_speed_map(no_render=True) # calculate all speeds"
   ]
  },
  {
   "cell_type": "code",
   "execution_count": 20,
   "id": "44322ecb-92ec-4b87-94a7-5ae9cc74650d",
   "metadata": {},
   "outputs": [],
   "source": [
    "legacy_am = rt_day.stop_segment_speed_view.copy()"
   ]
  },
  {
   "cell_type": "code",
   "execution_count": 21,
   "id": "34c80fb3-7a7d-4a6f-a180-98de2c2c34e9",
   "metadata": {},
   "outputs": [],
   "source": [
    "segment_speeds_peak = segment_speeds[segment_speeds['peak_offpeak'] == 'peak']"
   ]
  },
  {
   "cell_type": "code",
   "execution_count": 22,
   "id": "277a4536-8e9d-49a2-a4af-9c8582f77140",
   "metadata": {},
   "outputs": [
    {
     "data": {
      "text/plain": [
       "count    5888.000000\n",
       "mean       10.486114\n",
       "std         4.847688\n",
       "min         0.436987\n",
       "25%         7.308957\n",
       "50%        10.085025\n",
       "75%        12.501387\n",
       "max        63.914286\n",
       "Name: p20_mph, dtype: float64"
      ]
     },
     "execution_count": 22,
     "metadata": {},
     "output_type": "execute_result"
    }
   ],
   "source": [
    "legacy_am.p20_mph.describe() #  ignore count, showing unaggregated..."
   ]
  },
  {
   "cell_type": "code",
   "execution_count": 23,
   "id": "947de0c0-0233-4e6f-a7be-4ce865a81f3d",
   "metadata": {},
   "outputs": [
    {
     "data": {
      "text/plain": [
       "count    34087.000000\n",
       "mean         5.984834\n",
       "std          3.731273\n",
       "min          0.260000\n",
       "25%          3.730000\n",
       "50%          5.360000\n",
       "75%          7.420000\n",
       "max         63.910000\n",
       "Name: p20_mph, dtype: float64"
      ]
     },
     "execution_count": 23,
     "metadata": {},
     "output_type": "execute_result"
    }
   ],
   "source": [
    "segment_speeds_peak.p20_mph.describe()"
   ]
  },
  {
   "cell_type": "code",
   "execution_count": 81,
   "id": "b275af4d-ff59-41e1-bed0-54b77fa8219e",
   "metadata": {},
   "outputs": [],
   "source": [
    "def speed_hist(df, col='p20_mph'):\n",
    "    print(f'column: {col}')\n",
    "    display(df[col].hist(bins=range(0, 30, 1)))"
   ]
  },
  {
   "cell_type": "code",
   "execution_count": 66,
   "id": "ffb34f2b-5055-4909-bb36-0eef38a5228e",
   "metadata": {},
   "outputs": [
    {
     "data": {
      "text/plain": [
       "<AxesSubplot:>"
      ]
     },
     "metadata": {},
     "output_type": "display_data"
    },
    {
     "data": {
      "image/png": "[encoded data removed]",
      "text/plain": [
       "<Figure size 640x480 with 1 Axes>"
      ]
     },
     "metadata": {},
     "output_type": "display_data"
    }
   ],
   "source": [
    "speed_hist(legacy_am)"
   ]
  },
  {
   "cell_type": "code",
   "execution_count": 56,
   "id": "d5d1b68c-597e-46eb-be0b-c5f9f84227db",
   "metadata": {},
   "outputs": [
    {
     "data": {
      "text/plain": [
       "<AxesSubplot:>"
      ]
     },
     "metadata": {},
     "output_type": "display_data"
    },
    {
     "data": {
      "image/png": "[encoded data removed]",
      "text/plain": [
       "<Figure size 640x480 with 1 Axes>"
      ]
     },
     "metadata": {},
     "output_type": "display_data"
    }
   ],
   "source": [
    "speed_hist(segment_speeds_peak)"
   ]
  },
  {
   "cell_type": "code",
   "execution_count": 26,
   "id": "765542dd-b8b9-42be-8b30-3addf1910f64",
   "metadata": {},
   "outputs": [],
   "source": [
    "# rt_day.stop_segment_speed_view.p50_mph.describe()"
   ]
  },
  {
   "cell_type": "code",
   "execution_count": 27,
   "id": "4d3fc8a8-fb8e-4fb5-89e9-6875f7fe3ec1",
   "metadata": {},
   "outputs": [],
   "source": [
    "# segment_speeds.p50_mph.describe()"
   ]
  },
  {
   "cell_type": "code",
   "execution_count": 28,
   "id": "e0f1f680-d24c-46c1-8b0b-8c6b8ac1ef7c",
   "metadata": {},
   "outputs": [],
   "source": [
    "# rt_day.stop_segment_speed_view.p80_mph.describe()"
   ]
  },
  {
   "cell_type": "code",
   "execution_count": 29,
   "id": "535fbd03-c995-47bb-8e5e-016937121a9f",
   "metadata": {},
   "outputs": [],
   "source": [
    "# segment_speeds.p80_mph.describe()"
   ]
  },
  {
   "cell_type": "markdown",
   "id": "a8ea9f0e-d99f-49d2-906e-b62401af440e",
   "metadata": {
    "tags": []
   },
   "source": [
    "## segment Peak vs speedmaps PM"
   ]
  },
  {
   "cell_type": "code",
   "execution_count": 30,
   "id": "40412454-631f-4742-a10a-c60517c15cc9",
   "metadata": {},
   "outputs": [],
   "source": [
    "rt_day.set_filter(start_time='15:00', end_time='20:00')"
   ]
  },
  {
   "cell_type": "code",
   "execution_count": 31,
   "id": "03100631-de3b-4adf-9dc5-407bdba449f9",
   "metadata": {},
   "outputs": [],
   "source": [
    "rt_day.segment_speed_map(no_render=True) # calculate all speeds"
   ]
  },
  {
   "cell_type": "code",
   "execution_count": 32,
   "id": "886424fd-a0ea-42c2-a399-f3f3e2bc6cae",
   "metadata": {},
   "outputs": [],
   "source": [
    "legacy_pm = rt_day.stop_segment_speed_view.copy()"
   ]
  },
  {
   "cell_type": "code",
   "execution_count": 33,
   "id": "3f9495f3-7cf2-41bf-8f1f-fca8f5a13110",
   "metadata": {},
   "outputs": [
    {
     "data": {
      "text/plain": [
       "count    9254.000000\n",
       "mean        9.086085\n",
       "std         4.418013\n",
       "min         0.734085\n",
       "25%         6.213072\n",
       "50%         8.455280\n",
       "75%        11.271350\n",
       "max        72.619081\n",
       "Name: p20_mph, dtype: float64"
      ]
     },
     "execution_count": 33,
     "metadata": {},
     "output_type": "execute_result"
    }
   ],
   "source": [
    "legacy_pm.p20_mph.describe() #  ignore count, showing unaggregated..."
   ]
  },
  {
   "cell_type": "code",
   "execution_count": 34,
   "id": "6bbd3108-a226-4e6e-b443-96ce90c99e25",
   "metadata": {},
   "outputs": [
    {
     "data": {
      "text/plain": [
       "count    34087.000000\n",
       "mean         5.984834\n",
       "std          3.731273\n",
       "min          0.260000\n",
       "25%          3.730000\n",
       "50%          5.360000\n",
       "75%          7.420000\n",
       "max         63.910000\n",
       "Name: p20_mph, dtype: float64"
      ]
     },
     "execution_count": 34,
     "metadata": {},
     "output_type": "execute_result"
    }
   ],
   "source": [
    "segment_speeds_peak.p20_mph.describe()"
   ]
  },
  {
   "cell_type": "code",
   "execution_count": 57,
   "id": "fdc595c4-ef10-4b0b-82f6-4d47dfc4f3df",
   "metadata": {},
   "outputs": [
    {
     "data": {
      "text/plain": [
       "<AxesSubplot:>"
      ]
     },
     "metadata": {},
     "output_type": "display_data"
    },
    {
     "data": {
      "image/png": "[encoded data removed]",
      "text/plain": [
       "<Figure size 640x480 with 1 Axes>"
      ]
     },
     "metadata": {},
     "output_type": "display_data"
    }
   ],
   "source": [
    "speed_hist(legacy_pm)"
   ]
  },
  {
   "cell_type": "code",
   "execution_count": 58,
   "id": "f8cdf415-175b-46a4-b2ce-09909e660f9f",
   "metadata": {},
   "outputs": [
    {
     "data": {
      "text/plain": [
       "<AxesSubplot:>"
      ]
     },
     "metadata": {},
     "output_type": "display_data"
    },
    {
     "data": {
      "image/png": "[encoded data removed]",
      "text/plain": [
       "<Figure size 640x480 with 1 Axes>"
      ]
     },
     "metadata": {},
     "output_type": "display_data"
    }
   ],
   "source": [
    "speed_hist(segment_speeds_peak)"
   ]
  },
  {
   "cell_type": "markdown",
   "id": "2386c649-e177-4aaa-a147-60efb2d988d0",
   "metadata": {},
   "source": [
    "## specific route?"
   ]
  },
  {
   "cell_type": "code",
   "execution_count": 43,
   "id": "b511fd78-6e67-41ab-8c2b-40ebb314059b",
   "metadata": {},
   "outputs": [
    {
     "data": {
      "text/plain": [
       "array(['7', '14', '5', '15', '43', '1', '2', '8', '17', '16', '18', 'R7',\n",
       "       '9', '41', '3', 'R3'], dtype=object)"
      ]
     },
     "execution_count": 43,
     "metadata": {},
     "output_type": "execute_result"
    }
   ],
   "source": [
    "legacy_pm.route_short_name.unique()"
   ]
  },
  {
   "cell_type": "code",
   "execution_count": 46,
   "id": "1cf73336-8dba-43c1-9f20-34589c33829f",
   "metadata": {},
   "outputs": [
    {
     "data": {
      "text/html": [
       "<div>\n",
       "<style scoped>\n",
       "    .dataframe tbody tr th:only-of-type {\n",
       "        vertical-align: middle;\n",
       "    }\n",
       "\n",
       "    .dataframe tbody tr th {\n",
       "        vertical-align: top;\n",
       "    }\n",
       "\n",
       "    .dataframe thead th {\n",
       "        text-align: right;\n",
       "    }\n",
       "</style>\n",
       "<table border=\"1\" class=\"dataframe\">\n",
       "  <thead>\n",
       "    <tr style=\"text-align: right;\">\n",
       "      <th></th>\n",
       "      <th>stop_id</th>\n",
       "      <th>stop_name</th>\n",
       "      <th>geometry</th>\n",
       "      <th>shape_id</th>\n",
       "      <th>shape_meters</th>\n",
       "      <th>trip_id</th>\n",
       "      <th>stop_sequence</th>\n",
       "      <th>route_id</th>\n",
       "      <th>route_short_name</th>\n",
       "      <th>direction_id</th>\n",
       "      <th>...</th>\n",
       "      <th>meters_from_last</th>\n",
       "      <th>speed_from_last</th>\n",
       "      <th>delay_chg_sec</th>\n",
       "      <th>speed_mph</th>\n",
       "      <th>n_trips_shp</th>\n",
       "      <th>p50_mph</th>\n",
       "      <th>p20_mph</th>\n",
       "      <th>p80_mph</th>\n",
       "      <th>fast_slow_ratio</th>\n",
       "      <th>trips_per_hour</th>\n",
       "    </tr>\n",
       "  </thead>\n",
       "  <tbody>\n",
       "    <tr>\n",
       "      <th>7985</th>\n",
       "      <td>None</td>\n",
       "      <td>None</td>\n",
       "      <td>LINESTRING (149929.456 -452514.478, 149927.734...</td>\n",
       "      <td>26729</td>\n",
       "      <td>2000.0</td>\n",
       "      <td>918710</td>\n",
       "      <td>2.5</td>\n",
       "      <td>3707</td>\n",
       "      <td>3</td>\n",
       "      <td>0.0</td>\n",
       "      <td>...</td>\n",
       "      <td>1514.419202</td>\n",
       "      <td>4.853908</td>\n",
       "      <td>NaN</td>\n",
       "      <td>10.858192</td>\n",
       "      <td>17</td>\n",
       "      <td>20.285963</td>\n",
       "      <td>16.724663</td>\n",
       "      <td>25.757519</td>\n",
       "      <td>1.540092</td>\n",
       "      <td>3.4</td>\n",
       "    </tr>\n",
       "    <tr>\n",
       "      <th>7986</th>\n",
       "      <td>None</td>\n",
       "      <td>None</td>\n",
       "      <td>LINESTRING (149929.456 -452514.478, 149927.734...</td>\n",
       "      <td>26729</td>\n",
       "      <td>2000.0</td>\n",
       "      <td>918708</td>\n",
       "      <td>2.5</td>\n",
       "      <td>3707</td>\n",
       "      <td>3</td>\n",
       "      <td>0.0</td>\n",
       "      <td>...</td>\n",
       "      <td>1514.419202</td>\n",
       "      <td>10.974052</td>\n",
       "      <td>NaN</td>\n",
       "      <td>24.548955</td>\n",
       "      <td>17</td>\n",
       "      <td>20.285963</td>\n",
       "      <td>16.724663</td>\n",
       "      <td>25.757519</td>\n",
       "      <td>1.540092</td>\n",
       "      <td>3.4</td>\n",
       "    </tr>\n",
       "    <tr>\n",
       "      <th>7987</th>\n",
       "      <td>None</td>\n",
       "      <td>None</td>\n",
       "      <td>LINESTRING (149929.456 -452514.478, 149927.734...</td>\n",
       "      <td>26729</td>\n",
       "      <td>2000.0</td>\n",
       "      <td>918707</td>\n",
       "      <td>2.5</td>\n",
       "      <td>3707</td>\n",
       "      <td>3</td>\n",
       "      <td>0.0</td>\n",
       "      <td>...</td>\n",
       "      <td>1514.419202</td>\n",
       "      <td>9.068378</td>\n",
       "      <td>NaN</td>\n",
       "      <td>20.285963</td>\n",
       "      <td>17</td>\n",
       "      <td>20.285963</td>\n",
       "      <td>16.724663</td>\n",
       "      <td>25.757519</td>\n",
       "      <td>1.540092</td>\n",
       "      <td>3.4</td>\n",
       "    </tr>\n",
       "  </tbody>\n",
       "</table>\n",
       "<p>3 rows × 23 columns</p>\n",
       "</div>"
      ],
      "text/plain": [
       "     stop_id stop_name                                           geometry  \\\n",
       "7985    None      None  LINESTRING (149929.456 -452514.478, 149927.734...   \n",
       "7986    None      None  LINESTRING (149929.456 -452514.478, 149927.734...   \n",
       "7987    None      None  LINESTRING (149929.456 -452514.478, 149927.734...   \n",
       "\n",
       "     shape_id  shape_meters trip_id  stop_sequence route_id route_short_name  \\\n",
       "7985    26729        2000.0  918710            2.5     3707                3   \n",
       "7986    26729        2000.0  918708            2.5     3707                3   \n",
       "7987    26729        2000.0  918707            2.5     3707                3   \n",
       "\n",
       "      direction_id  ...  meters_from_last  speed_from_last  delay_chg_sec  \\\n",
       "7985           0.0  ...       1514.419202         4.853908            NaN   \n",
       "7986           0.0  ...       1514.419202        10.974052            NaN   \n",
       "7987           0.0  ...       1514.419202         9.068378            NaN   \n",
       "\n",
       "      speed_mph  n_trips_shp    p50_mph    p20_mph    p80_mph  \\\n",
       "7985  10.858192           17  20.285963  16.724663  25.757519   \n",
       "7986  24.548955           17  20.285963  16.724663  25.757519   \n",
       "7987  20.285963           17  20.285963  16.724663  25.757519   \n",
       "\n",
       "      fast_slow_ratio  trips_per_hour  \n",
       "7985         1.540092             3.4  \n",
       "7986         1.540092             3.4  \n",
       "7987         1.540092             3.4  \n",
       "\n",
       "[3 rows x 23 columns]"
      ]
     },
     "execution_count": 46,
     "metadata": {},
     "output_type": "execute_result"
    }
   ],
   "source": [
    "one_route_legacy = legacy_pm >> filter(_.route_short_name == '3', _.direction_id == 0)\n",
    "one_route_legacy >> head(3)"
   ]
  },
  {
   "cell_type": "code",
   "execution_count": 63,
   "id": "80549d54-28c9-4651-a45f-a072e232439f",
   "metadata": {},
   "outputs": [
    {
     "data": {
      "text/plain": [
       "(581, 23)"
      ]
     },
     "execution_count": 63,
     "metadata": {},
     "output_type": "execute_result"
    }
   ],
   "source": [
    "one_route_legacy.shape"
   ]
  },
  {
   "cell_type": "code",
   "execution_count": 72,
   "id": "37bf51b8-cadc-4233-a193-cdd931155144",
   "metadata": {},
   "outputs": [],
   "source": [
    "one_route_speeds = speeds >> filter(_.time_of_day == 'PM Peak', _.shape_array_key == 'dd73fa792f7bb6fe8e22ccea7fbb109c')"
   ]
  },
  {
   "cell_type": "code",
   "execution_count": 73,
   "id": "713239f0-c32b-4437-b8b0-45b56736a027",
   "metadata": {},
   "outputs": [],
   "source": [
    "one_route_segments = segment_speeds_peak >> filter(_.route_id == '3707', _.direction_id == 0)\n",
    "# one_route_segments >> head(3)"
   ]
  },
  {
   "cell_type": "code",
   "execution_count": 82,
   "id": "eb762635-97ee-4cd8-877c-40b974197679",
   "metadata": {},
   "outputs": [
    {
     "name": "stdout",
     "output_type": "stream",
     "text": [
      "column: speed_mph\n"
     ]
    },
    {
     "data": {
      "text/plain": [
       "<AxesSubplot:>"
      ]
     },
     "metadata": {},
     "output_type": "display_data"
    },
    {
     "data": {
      "image/png": "[encoded data removed]",
      "text/plain": [
       "<Figure size 640x480 with 1 Axes>"
      ]
     },
     "metadata": {},
     "output_type": "display_data"
    }
   ],
   "source": [
    "speed_hist(one_route_legacy, 'speed_mph')"
   ]
  },
  {
   "cell_type": "code",
   "execution_count": 83,
   "id": "cb5c2847-34bd-43ee-b3c8-73e9782803db",
   "metadata": {},
   "outputs": [
    {
     "name": "stdout",
     "output_type": "stream",
     "text": [
      "column: speed_mph\n"
     ]
    },
    {
     "data": {
      "text/plain": [
       "<AxesSubplot:>"
      ]
     },
     "metadata": {},
     "output_type": "display_data"
    },
    {
     "data": {
      "image/png": "[encoded data removed]",
      "text/plain": [
       "<Figure size 640x480 with 1 Axes>"
      ]
     },
     "metadata": {},
     "output_type": "display_data"
    }
   ],
   "source": [
    "speed_hist(one_route_speeds, 'speed_mph')"
   ]
  },
  {
   "cell_type": "code",
   "execution_count": 76,
   "id": "02811db8-6fd0-4806-b2c2-e929c7585ec4",
   "metadata": {},
   "outputs": [
    {
     "data": {
      "text/html": [
       "<div>\n",
       "<style scoped>\n",
       "    .dataframe tbody tr th:only-of-type {\n",
       "        vertical-align: middle;\n",
       "    }\n",
       "\n",
       "    .dataframe tbody tr th {\n",
       "        vertical-align: top;\n",
       "    }\n",
       "\n",
       "    .dataframe thead th {\n",
       "        text-align: right;\n",
       "    }\n",
       "</style>\n",
       "<table border=\"1\" class=\"dataframe\">\n",
       "  <thead>\n",
       "    <tr style=\"text-align: right;\">\n",
       "      <th></th>\n",
       "      <th>trip_instance_key</th>\n",
       "      <th>stop_sequence</th>\n",
       "      <th>stop_sequence1</th>\n",
       "      <th>shape_array_key</th>\n",
       "      <th>stop_pair</th>\n",
       "      <th>stop_meters</th>\n",
       "      <th>arrival_time</th>\n",
       "      <th>arrival_time_sec</th>\n",
       "      <th>subseq_arrival_time_sec</th>\n",
       "      <th>subseq_stop_meters</th>\n",
       "      <th>meters_elapsed</th>\n",
       "      <th>sec_elapsed</th>\n",
       "      <th>speed_mph</th>\n",
       "      <th>service_date</th>\n",
       "      <th>time_of_day</th>\n",
       "      <th>peak_offpeak</th>\n",
       "      <th>weekday_weekend</th>\n",
       "    </tr>\n",
       "  </thead>\n",
       "  <tbody>\n",
       "    <tr>\n",
       "      <th>2978</th>\n",
       "      <td>1ad0cefc1696fb7fdf83a75156cfae8e</td>\n",
       "      <td>2</td>\n",
       "      <td>2.00</td>\n",
       "      <td>dd73fa792f7bb6fe8e22ccea7fbb109c</td>\n",
       "      <td>529__532</td>\n",
       "      <td>448.605524</td>\n",
       "      <td>2024-04-17 18:23:14</td>\n",
       "      <td>66194</td>\n",
       "      <td>66328.0</td>\n",
       "      <td>1448.605524</td>\n",
       "      <td>1000.000000</td>\n",
       "      <td>134.0</td>\n",
       "      <td>16.694030</td>\n",
       "      <td>2024-04-17</td>\n",
       "      <td>PM Peak</td>\n",
       "      <td>peak</td>\n",
       "      <td>weekday</td>\n",
       "    </tr>\n",
       "    <tr>\n",
       "      <th>2979</th>\n",
       "      <td>1ad0cefc1696fb7fdf83a75156cfae8e</td>\n",
       "      <td>2</td>\n",
       "      <td>2.61</td>\n",
       "      <td>dd73fa792f7bb6fe8e22ccea7fbb109c</td>\n",
       "      <td>529__532</td>\n",
       "      <td>1448.605524</td>\n",
       "      <td>2024-04-17 18:25:28</td>\n",
       "      <td>66328</td>\n",
       "      <td>66198.0</td>\n",
       "      <td>485.580798</td>\n",
       "      <td>963.024726</td>\n",
       "      <td>130.0</td>\n",
       "      <td>16.571433</td>\n",
       "      <td>2024-04-17</td>\n",
       "      <td>PM Peak</td>\n",
       "      <td>peak</td>\n",
       "      <td>weekday</td>\n",
       "    </tr>\n",
       "    <tr>\n",
       "      <th>2980</th>\n",
       "      <td>1ad0cefc1696fb7fdf83a75156cfae8e</td>\n",
       "      <td>2</td>\n",
       "      <td>2.00</td>\n",
       "      <td>dd73fa792f7bb6fe8e22ccea7fbb109c</td>\n",
       "      <td>529__532</td>\n",
       "      <td>485.580798</td>\n",
       "      <td>2024-04-17 18:23:18</td>\n",
       "      <td>66198</td>\n",
       "      <td>66418.0</td>\n",
       "      <td>2109.272210</td>\n",
       "      <td>1623.691412</td>\n",
       "      <td>220.0</td>\n",
       "      <td>16.509989</td>\n",
       "      <td>2024-04-17</td>\n",
       "      <td>PM Peak</td>\n",
       "      <td>peak</td>\n",
       "      <td>weekday</td>\n",
       "    </tr>\n",
       "    <tr>\n",
       "      <th>2981</th>\n",
       "      <td>1ad0cefc1696fb7fdf83a75156cfae8e</td>\n",
       "      <td>3</td>\n",
       "      <td>3.00</td>\n",
       "      <td>dd73fa792f7bb6fe8e22ccea7fbb109c</td>\n",
       "      <td>532__1668</td>\n",
       "      <td>2109.272210</td>\n",
       "      <td>2024-04-17 18:26:58</td>\n",
       "      <td>66418</td>\n",
       "      <td>66496.0</td>\n",
       "      <td>2452.466233</td>\n",
       "      <td>343.194022</td>\n",
       "      <td>78.0</td>\n",
       "      <td>9.842629</td>\n",
       "      <td>2024-04-17</td>\n",
       "      <td>PM Peak</td>\n",
       "      <td>peak</td>\n",
       "      <td>weekday</td>\n",
       "    </tr>\n",
       "    <tr>\n",
       "      <th>2982</th>\n",
       "      <td>1ad0cefc1696fb7fdf83a75156cfae8e</td>\n",
       "      <td>4</td>\n",
       "      <td>4.00</td>\n",
       "      <td>dd73fa792f7bb6fe8e22ccea7fbb109c</td>\n",
       "      <td>1668__1670</td>\n",
       "      <td>2452.466233</td>\n",
       "      <td>2024-04-17 18:28:16</td>\n",
       "      <td>66496</td>\n",
       "      <td>66564.0</td>\n",
       "      <td>2937.211151</td>\n",
       "      <td>484.744919</td>\n",
       "      <td>68.0</td>\n",
       "      <td>15.946682</td>\n",
       "      <td>2024-04-17</td>\n",
       "      <td>PM Peak</td>\n",
       "      <td>peak</td>\n",
       "      <td>weekday</td>\n",
       "    </tr>\n",
       "    <tr>\n",
       "      <th>...</th>\n",
       "      <td>...</td>\n",
       "      <td>...</td>\n",
       "      <td>...</td>\n",
       "      <td>...</td>\n",
       "      <td>...</td>\n",
       "      <td>...</td>\n",
       "      <td>...</td>\n",
       "      <td>...</td>\n",
       "      <td>...</td>\n",
       "      <td>...</td>\n",
       "      <td>...</td>\n",
       "      <td>...</td>\n",
       "      <td>...</td>\n",
       "      <td>...</td>\n",
       "      <td>...</td>\n",
       "      <td>...</td>\n",
       "      <td>...</td>\n",
       "    </tr>\n",
       "    <tr>\n",
       "      <th>33651</th>\n",
       "      <td>fe03a3f802e8fbb5cc97e61356195453</td>\n",
       "      <td>32</td>\n",
       "      <td>32.00</td>\n",
       "      <td>dd73fa792f7bb6fe8e22ccea7fbb109c</td>\n",
       "      <td>560__72</td>\n",
       "      <td>16165.878233</td>\n",
       "      <td>2024-04-17 18:25:29</td>\n",
       "      <td>66329</td>\n",
       "      <td>66448.0</td>\n",
       "      <td>16687.300728</td>\n",
       "      <td>521.422495</td>\n",
       "      <td>119.0</td>\n",
       "      <td>9.801867</td>\n",
       "      <td>2024-04-17</td>\n",
       "      <td>PM Peak</td>\n",
       "      <td>peak</td>\n",
       "      <td>weekday</td>\n",
       "    </tr>\n",
       "    <tr>\n",
       "      <th>33652</th>\n",
       "      <td>fe03a3f802e8fbb5cc97e61356195453</td>\n",
       "      <td>33</td>\n",
       "      <td>33.00</td>\n",
       "      <td>dd73fa792f7bb6fe8e22ccea7fbb109c</td>\n",
       "      <td>72__283</td>\n",
       "      <td>16687.300728</td>\n",
       "      <td>2024-04-17 18:27:28</td>\n",
       "      <td>66448</td>\n",
       "      <td>66507.0</td>\n",
       "      <td>17119.635984</td>\n",
       "      <td>432.335256</td>\n",
       "      <td>59.0</td>\n",
       "      <td>16.392101</td>\n",
       "      <td>2024-04-17</td>\n",
       "      <td>PM Peak</td>\n",
       "      <td>peak</td>\n",
       "      <td>weekday</td>\n",
       "    </tr>\n",
       "    <tr>\n",
       "      <th>33653</th>\n",
       "      <td>fe03a3f802e8fbb5cc97e61356195453</td>\n",
       "      <td>34</td>\n",
       "      <td>34.00</td>\n",
       "      <td>dd73fa792f7bb6fe8e22ccea7fbb109c</td>\n",
       "      <td>283__21</td>\n",
       "      <td>17119.635984</td>\n",
       "      <td>2024-04-17 18:28:27</td>\n",
       "      <td>66507</td>\n",
       "      <td>66507.0</td>\n",
       "      <td>17751.739876</td>\n",
       "      <td>632.103892</td>\n",
       "      <td>0.0</td>\n",
       "      <td>inf</td>\n",
       "      <td>2024-04-17</td>\n",
       "      <td>PM Peak</td>\n",
       "      <td>peak</td>\n",
       "      <td>weekday</td>\n",
       "    </tr>\n",
       "    <tr>\n",
       "      <th>33654</th>\n",
       "      <td>fe03a3f802e8fbb5cc97e61356195453</td>\n",
       "      <td>35</td>\n",
       "      <td>35.00</td>\n",
       "      <td>dd73fa792f7bb6fe8e22ccea7fbb109c</td>\n",
       "      <td>21__4</td>\n",
       "      <td>17751.739876</td>\n",
       "      <td>2024-04-17 18:28:27</td>\n",
       "      <td>66507</td>\n",
       "      <td>66507.0</td>\n",
       "      <td>18099.617806</td>\n",
       "      <td>347.877930</td>\n",
       "      <td>0.0</td>\n",
       "      <td>inf</td>\n",
       "      <td>2024-04-17</td>\n",
       "      <td>PM Peak</td>\n",
       "      <td>peak</td>\n",
       "      <td>weekday</td>\n",
       "    </tr>\n",
       "    <tr>\n",
       "      <th>33655</th>\n",
       "      <td>fe03a3f802e8fbb5cc97e61356195453</td>\n",
       "      <td>36</td>\n",
       "      <td>36.00</td>\n",
       "      <td>dd73fa792f7bb6fe8e22ccea7fbb109c</td>\n",
       "      <td>4__43</td>\n",
       "      <td>18099.617806</td>\n",
       "      <td>2024-04-17 18:28:27</td>\n",
       "      <td>66507</td>\n",
       "      <td>NaN</td>\n",
       "      <td>NaN</td>\n",
       "      <td>NaN</td>\n",
       "      <td>NaN</td>\n",
       "      <td>NaN</td>\n",
       "      <td>2024-04-17</td>\n",
       "      <td>PM Peak</td>\n",
       "      <td>peak</td>\n",
       "      <td>weekday</td>\n",
       "    </tr>\n",
       "  </tbody>\n",
       "</table>\n",
       "<p>612 rows × 17 columns</p>\n",
       "</div>"
      ],
      "text/plain": [
       "                      trip_instance_key  stop_sequence  stop_sequence1  \\\n",
       "2978   1ad0cefc1696fb7fdf83a75156cfae8e              2            2.00   \n",
       "2979   1ad0cefc1696fb7fdf83a75156cfae8e              2            2.61   \n",
       "2980   1ad0cefc1696fb7fdf83a75156cfae8e              2            2.00   \n",
       "2981   1ad0cefc1696fb7fdf83a75156cfae8e              3            3.00   \n",
       "2982   1ad0cefc1696fb7fdf83a75156cfae8e              4            4.00   \n",
       "...                                 ...            ...             ...   \n",
       "33651  fe03a3f802e8fbb5cc97e61356195453             32           32.00   \n",
       "33652  fe03a3f802e8fbb5cc97e61356195453             33           33.00   \n",
       "33653  fe03a3f802e8fbb5cc97e61356195453             34           34.00   \n",
       "33654  fe03a3f802e8fbb5cc97e61356195453             35           35.00   \n",
       "33655  fe03a3f802e8fbb5cc97e61356195453             36           36.00   \n",
       "\n",
       "                        shape_array_key   stop_pair   stop_meters  \\\n",
       "2978   dd73fa792f7bb6fe8e22ccea7fbb109c    529__532    448.605524   \n",
       "2979   dd73fa792f7bb6fe8e22ccea7fbb109c    529__532   1448.605524   \n",
       "2980   dd73fa792f7bb6fe8e22ccea7fbb109c    529__532    485.580798   \n",
       "2981   dd73fa792f7bb6fe8e22ccea7fbb109c   532__1668   2109.272210   \n",
       "2982   dd73fa792f7bb6fe8e22ccea7fbb109c  1668__1670   2452.466233   \n",
       "...                                 ...         ...           ...   \n",
       "33651  dd73fa792f7bb6fe8e22ccea7fbb109c     560__72  16165.878233   \n",
       "33652  dd73fa792f7bb6fe8e22ccea7fbb109c     72__283  16687.300728   \n",
       "33653  dd73fa792f7bb6fe8e22ccea7fbb109c     283__21  17119.635984   \n",
       "33654  dd73fa792f7bb6fe8e22ccea7fbb109c       21__4  17751.739876   \n",
       "33655  dd73fa792f7bb6fe8e22ccea7fbb109c       4__43  18099.617806   \n",
       "\n",
       "             arrival_time  arrival_time_sec  subseq_arrival_time_sec  \\\n",
       "2978  2024-04-17 18:23:14             66194                  66328.0   \n",
       "2979  2024-04-17 18:25:28             66328                  66198.0   \n",
       "2980  2024-04-17 18:23:18             66198                  66418.0   \n",
       "2981  2024-04-17 18:26:58             66418                  66496.0   \n",
       "2982  2024-04-17 18:28:16             66496                  66564.0   \n",
       "...                   ...               ...                      ...   \n",
       "33651 2024-04-17 18:25:29             66329                  66448.0   \n",
       "33652 2024-04-17 18:27:28             66448                  66507.0   \n",
       "33653 2024-04-17 18:28:27             66507                  66507.0   \n",
       "33654 2024-04-17 18:28:27             66507                  66507.0   \n",
       "33655 2024-04-17 18:28:27             66507                      NaN   \n",
       "\n",
       "       subseq_stop_meters  meters_elapsed  sec_elapsed  speed_mph  \\\n",
       "2978          1448.605524     1000.000000        134.0  16.694030   \n",
       "2979           485.580798      963.024726        130.0  16.571433   \n",
       "2980          2109.272210     1623.691412        220.0  16.509989   \n",
       "2981          2452.466233      343.194022         78.0   9.842629   \n",
       "2982          2937.211151      484.744919         68.0  15.946682   \n",
       "...                   ...             ...          ...        ...   \n",
       "33651        16687.300728      521.422495        119.0   9.801867   \n",
       "33652        17119.635984      432.335256         59.0  16.392101   \n",
       "33653        17751.739876      632.103892          0.0        inf   \n",
       "33654        18099.617806      347.877930          0.0        inf   \n",
       "33655                 NaN             NaN          NaN        NaN   \n",
       "\n",
       "      service_date time_of_day peak_offpeak weekday_weekend  \n",
       "2978    2024-04-17     PM Peak         peak         weekday  \n",
       "2979    2024-04-17     PM Peak         peak         weekday  \n",
       "2980    2024-04-17     PM Peak         peak         weekday  \n",
       "2981    2024-04-17     PM Peak         peak         weekday  \n",
       "2982    2024-04-17     PM Peak         peak         weekday  \n",
       "...            ...         ...          ...             ...  \n",
       "33651   2024-04-17     PM Peak         peak         weekday  \n",
       "33652   2024-04-17     PM Peak         peak         weekday  \n",
       "33653   2024-04-17     PM Peak         peak         weekday  \n",
       "33654   2024-04-17     PM Peak         peak         weekday  \n",
       "33655   2024-04-17     PM Peak         peak         weekday  \n",
       "\n",
       "[612 rows x 17 columns]"
      ]
     },
     "execution_count": 76,
     "metadata": {},
     "output_type": "execute_result"
    }
   ],
   "source": [
    "one_route_speeds"
   ]
  },
  {
   "cell_type": "code",
   "execution_count": 105,
   "id": "5dcba75d-5218-4dc1-abcb-ce22fa8dfa06",
   "metadata": {},
   "outputs": [],
   "source": [
    "def speedmap_aggregate(df):\n",
    "    \n",
    "    stop_speeds = (df\n",
    "         # >> mutate(speed_mph = _.speed_from_last * MPH_PER_MPS)\n",
    "         >> filter(_.speed_mph < 80, _.speed_mph > 0) ## drop impossible speeds, TODO logging?\n",
    "         >> group_by(_.stop_sequence1) #  stop_sequence->stop_sequence1 reflect speedmap segments\n",
    "         >> mutate(n_trips_shp = _.stop_sequence1.size, # filtered to shape\n",
    "                    p50_mph = _.speed_mph.median(),\n",
    "                    p20_mph = _.speed_mph.quantile(.2),\n",
    "                    p80_mph = _.speed_mph.quantile(.8),\n",
    "                    fast_slow_ratio = _.p80_mph / _.p20_mph # new intuitive variation measure\n",
    "                    # var_mph = _.speed_mph.var() # old statistical variance\n",
    "                  )\n",
    "         >> ungroup()\n",
    "         >> select(-_.arrival_time, -_.actual_time, -_.delay, -_.last_delay)\n",
    "        )\n",
    "    \n",
    "    return stop_speeds"
   ]
  },
  {
   "cell_type": "markdown",
   "id": "11b0b77e-436a-48a1-a497-08819ee356fd",
   "metadata": {},
   "source": [
    "## when aggregating using speedmap method, both sources are ~consistent"
   ]
  },
  {
   "cell_type": "code",
   "execution_count": 84,
   "id": "d59ebd54-d62d-4cd5-b873-86bd4b47ce1f",
   "metadata": {},
   "outputs": [
    {
     "name": "stdout",
     "output_type": "stream",
     "text": [
      "column: p20_mph\n"
     ]
    },
    {
     "data": {
      "text/plain": [
       "<AxesSubplot:>"
      ]
     },
     "metadata": {},
     "output_type": "display_data"
    },
    {
     "data": {
      "image/png": "[encoded data removed]",
      "text/plain": [
       "<Figure size 640x480 with 1 Axes>"
      ]
     },
     "metadata": {},
     "output_type": "display_data"
    }
   ],
   "source": [
    "speed_hist(speedmap_aggregate(one_route_speeds))"
   ]
  },
  {
   "cell_type": "code",
   "execution_count": 85,
   "id": "cc198a15-fcc3-45e5-815d-4b8b72f26964",
   "metadata": {},
   "outputs": [
    {
     "name": "stdout",
     "output_type": "stream",
     "text": [
      "column: p20_mph\n"
     ]
    },
    {
     "data": {
      "text/plain": [
       "<AxesSubplot:>"
      ]
     },
     "metadata": {},
     "output_type": "display_data"
    },
    {
     "data": {
      "image/png": "[encoded data removed]",
      "text/plain": [
       "<Figure size 640x480 with 1 Axes>"
      ]
     },
     "metadata": {},
     "output_type": "display_data"
    }
   ],
   "source": [
    "speed_hist(one_route_legacy)"
   ]
  },
  {
   "cell_type": "markdown",
   "id": "9c1a77b6-ce5b-4d4e-b69d-febe6d583c49",
   "metadata": {},
   "source": [
    "## when aggregating using segment_speed_utils, both sources are ~consistent, _but lower_"
   ]
  },
  {
   "cell_type": "code",
   "execution_count": 87,
   "id": "08c3a939-ced0-4c97-bca4-116724ec4c3d",
   "metadata": {},
   "outputs": [],
   "source": [
    "from segment_speed_utils import segment_calcs"
   ]
  },
  {
   "cell_type": "code",
   "execution_count": 88,
   "id": "489d4ea4-b100-4011-888e-c6635a619739",
   "metadata": {},
   "outputs": [
    {
     "data": {
      "text/plain": [
       "\u001b[0;31mSignature:\u001b[0m\n",
       "\u001b[0msegment_calcs\u001b[0m\u001b[0;34m.\u001b[0m\u001b[0mcalculate_avg_speeds\u001b[0m\u001b[0;34m(\u001b[0m\u001b[0;34m\u001b[0m\n",
       "\u001b[0;34m\u001b[0m    \u001b[0mdf\u001b[0m\u001b[0;34m:\u001b[0m \u001b[0mpandas\u001b[0m\u001b[0;34m.\u001b[0m\u001b[0mcore\u001b[0m\u001b[0;34m.\u001b[0m\u001b[0mframe\u001b[0m\u001b[0;34m.\u001b[0m\u001b[0mDataFrame\u001b[0m\u001b[0;34m,\u001b[0m\u001b[0;34m\u001b[0m\n",
       "\u001b[0;34m\u001b[0m    \u001b[0mgroup_cols\u001b[0m\u001b[0;34m:\u001b[0m \u001b[0mlist\u001b[0m\u001b[0;34m,\u001b[0m\u001b[0;34m\u001b[0m\n",
       "\u001b[0;34m\u001b[0m\u001b[0;34m)\u001b[0m \u001b[0;34m->\u001b[0m \u001b[0mpandas\u001b[0m\u001b[0;34m.\u001b[0m\u001b[0mcore\u001b[0m\u001b[0;34m.\u001b[0m\u001b[0mframe\u001b[0m\u001b[0;34m.\u001b[0m\u001b[0mDataFrame\u001b[0m\u001b[0;34m\u001b[0m\u001b[0;34m\u001b[0m\u001b[0m\n",
       "\u001b[0;31mDocstring:\u001b[0m\n",
       "Calculate the median, 20th, and 80th percentile speeds \n",
       "by groups.\n",
       "\u001b[0;31mFile:\u001b[0m      ~/data-analyses/rt_segment_speeds/segment_speed_utils/segment_calcs.py\n",
       "\u001b[0;31mType:\u001b[0m      function"
      ]
     },
     "metadata": {},
     "output_type": "display_data"
    }
   ],
   "source": [
    "segment_calcs.calculate_avg_speeds?"
   ]
  },
  {
   "cell_type": "code",
   "execution_count": 95,
   "id": "f9d68282-0112-4ed9-ba2b-4d3fa25eaaa2",
   "metadata": {},
   "outputs": [],
   "source": [
    "# speed_hist(one_route_segments)  # confirmed this is equivalent to below"
   ]
  },
  {
   "cell_type": "code",
   "execution_count": 91,
   "id": "1f65f487-418f-4b96-be37-68f71721b2df",
   "metadata": {},
   "outputs": [
    {
     "name": "stdout",
     "output_type": "stream",
     "text": [
      "column: p20_mph\n"
     ]
    },
    {
     "data": {
      "text/plain": [
       "<AxesSubplot:>"
      ]
     },
     "metadata": {},
     "output_type": "display_data"
    },
    {
     "data": {
      "image/png": "[encoded data removed]",
      "text/plain": [
       "<Figure size 640x480 with 1 Axes>"
      ]
     },
     "metadata": {},
     "output_type": "display_data"
    }
   ],
   "source": [
    "speed_hist(segment_calcs.calculate_avg_speeds(one_route_speeds, ['stop_sequence1']))"
   ]
  },
  {
   "cell_type": "code",
   "execution_count": 93,
   "id": "84722b0e-08d8-4d67-b7b9-3eaa171b447c",
   "metadata": {},
   "outputs": [
    {
     "name": "stdout",
     "output_type": "stream",
     "text": [
      "column: p20_mph\n"
     ]
    },
    {
     "data": {
      "text/plain": [
       "<AxesSubplot:>"
      ]
     },
     "metadata": {},
     "output_type": "display_data"
    },
    {
     "data": {
      "image/png": "[encoded data removed]",
      "text/plain": [
       "<Figure size 640x480 with 1 Axes>"
      ]
     },
     "metadata": {},
     "output_type": "display_data"
    }
   ],
   "source": [
    "speed_hist(segment_calcs.calculate_avg_speeds(one_route_legacy, ['stop_sequence']))"
   ]
  },
  {
   "cell_type": "markdown",
   "id": "43f5ecb7-4abe-4ddd-b816-22bafb4ef323",
   "metadata": {},
   "source": [
    "## can we test these functions?"
   ]
  },
  {
   "cell_type": "code",
   "execution_count": 107,
   "id": "e96ea7de-ba67-4e1c-b321-de88d304b690",
   "metadata": {},
   "outputs": [],
   "source": [
    "test = pd.DataFrame({'speed_mph': range(81), 'stop_sequence1': '1'})"
   ]
  },
  {
   "cell_type": "code",
   "execution_count": 122,
   "id": "ac93ecd2-b663-4bfa-96e2-d7d31bd736fd",
   "metadata": {},
   "outputs": [],
   "source": [
    "def calculate_avg_speeds_rev(\n",
    "    df: pd.DataFrame,\n",
    "    group_cols: list\n",
    ") -> pd.DataFrame:\n",
    "    \"\"\"\n",
    "    Calculate the median, 20th, and 80th percentile speeds \n",
    "    by groups.\n",
    "    \"\"\"\n",
    "    # pd.groupby and pd.quantile is so slow\n",
    "    # create our own list of speeds and use np\n",
    "    df2 = (df.groupby(group_cols, \n",
    "                      observed=True, group_keys=False)\n",
    "           .agg({\"speed_mph\": lambda x: sorted(list(x))})\n",
    "           .reset_index()\n",
    "           .rename(columns = {\"speed_mph\": \"speed_mph_list\"})\n",
    "    )\n",
    "                        \n",
    "    df2 = df2.assign(\n",
    "        p50_mph = df2.apply(lambda x: np.percentile(x.speed_mph_list, q=50), axis=1),\n",
    "        n_trips = df2.apply(lambda x: len(x.speed_mph_list), axis=1).astype(\"int16\"),\n",
    "        p20_mph = df2.apply(lambda x: np.percentile(x.speed_mph_list, q=20), axis=1),\n",
    "        p80_mph = df2.apply(lambda x: np.percentile(x.speed_mph_list, q=80), axis=1),\n",
    "    )\n",
    "    \n",
    "    stats = df2.drop(columns = \"speed_mph_list\")\n",
    "    \n",
    "    # Clean up for map\n",
    "    speed_cols = [c for c in stats.columns if \"_mph\" in c]\n",
    "    stats[speed_cols] = stats[speed_cols].round(2)\n",
    "    \n",
    "    return stats"
   ]
  },
  {
   "cell_type": "markdown",
   "id": "6074191b-10d5-4094-957c-cdfc47003ec3",
   "metadata": {},
   "source": [
    "original function: note that https://numpy.org/doc/stable/reference/generated/numpy.percentile.html, wants 0<q<100, unlike `pd.quantile` or indeed `np.quantile` which is 0<q<1. So we seem to be inadvertantly pulling .2, .5, and .8th%ile speeds rather than 20, 50, 80. Additionally, numpy linearly interpolates by default"
   ]
  },
  {
   "cell_type": "code",
   "execution_count": 108,
   "id": "b923e045-334e-4bd2-8feb-9dfe44800ee5",
   "metadata": {},
   "outputs": [
    {
     "data": {
      "text/html": [
       "<div>\n",
       "<style scoped>\n",
       "    .dataframe tbody tr th:only-of-type {\n",
       "        vertical-align: middle;\n",
       "    }\n",
       "\n",
       "    .dataframe tbody tr th {\n",
       "        vertical-align: top;\n",
       "    }\n",
       "\n",
       "    .dataframe thead th {\n",
       "        text-align: right;\n",
       "    }\n",
       "</style>\n",
       "<table border=\"1\" class=\"dataframe\">\n",
       "  <thead>\n",
       "    <tr style=\"text-align: right;\">\n",
       "      <th></th>\n",
       "      <th>stop_sequence1</th>\n",
       "      <th>p50_mph</th>\n",
       "      <th>n_trips</th>\n",
       "      <th>p20_mph</th>\n",
       "      <th>p80_mph</th>\n",
       "    </tr>\n",
       "  </thead>\n",
       "  <tbody>\n",
       "    <tr>\n",
       "      <th>0</th>\n",
       "      <td>1</td>\n",
       "      <td>0.4</td>\n",
       "      <td>81</td>\n",
       "      <td>0.16</td>\n",
       "      <td>0.64</td>\n",
       "    </tr>\n",
       "  </tbody>\n",
       "</table>\n",
       "</div>"
      ],
      "text/plain": [
       "  stop_sequence1  p50_mph  n_trips  p20_mph  p80_mph\n",
       "0              1      0.4       81     0.16     0.64"
      ]
     },
     "execution_count": 108,
     "metadata": {},
     "output_type": "execute_result"
    }
   ],
   "source": [
    "segment_calcs.calculate_avg_speeds(test, 'stop_sequence1')"
   ]
  },
  {
   "cell_type": "markdown",
   "id": "a222ffed-cb43-442b-be1a-a441db5d0888",
   "metadata": {},
   "source": [
    "in notebook revised `np.percentile` args to make q a keyword arg, and *100 each q value (20, 50, 80)"
   ]
  },
  {
   "cell_type": "code",
   "execution_count": 123,
   "id": "9e9609c9-75d5-4f56-9132-76d58c0e4548",
   "metadata": {},
   "outputs": [
    {
     "data": {
      "text/html": [
       "<div>\n",
       "<style scoped>\n",
       "    .dataframe tbody tr th:only-of-type {\n",
       "        vertical-align: middle;\n",
       "    }\n",
       "\n",
       "    .dataframe tbody tr th {\n",
       "        vertical-align: top;\n",
       "    }\n",
       "\n",
       "    .dataframe thead th {\n",
       "        text-align: right;\n",
       "    }\n",
       "</style>\n",
       "<table border=\"1\" class=\"dataframe\">\n",
       "  <thead>\n",
       "    <tr style=\"text-align: right;\">\n",
       "      <th></th>\n",
       "      <th>stop_sequence1</th>\n",
       "      <th>p50_mph</th>\n",
       "      <th>n_trips</th>\n",
       "      <th>p20_mph</th>\n",
       "      <th>p80_mph</th>\n",
       "    </tr>\n",
       "  </thead>\n",
       "  <tbody>\n",
       "    <tr>\n",
       "      <th>0</th>\n",
       "      <td>1</td>\n",
       "      <td>40.0</td>\n",
       "      <td>81</td>\n",
       "      <td>16.0</td>\n",
       "      <td>64.0</td>\n",
       "    </tr>\n",
       "  </tbody>\n",
       "</table>\n",
       "</div>"
      ],
      "text/plain": [
       "  stop_sequence1  p50_mph  n_trips  p20_mph  p80_mph\n",
       "0              1     40.0       81     16.0     64.0"
      ]
     },
     "execution_count": 123,
     "metadata": {},
     "output_type": "execute_result"
    }
   ],
   "source": [
    "calculate_avg_speeds_rev(test, 'stop_sequence1')"
   ]
  },
  {
   "cell_type": "markdown",
   "id": "2521e0ad-0062-44a8-9c3b-620675a00199",
   "metadata": {},
   "source": [
    "with change, matches speedmap version"
   ]
  },
  {
   "cell_type": "code",
   "execution_count": 124,
   "id": "6df4fe9e-600d-4527-8bbd-b750231f34aa",
   "metadata": {},
   "outputs": [
    {
     "data": {
      "text/html": [
       "<div>\n",
       "<style scoped>\n",
       "    .dataframe tbody tr th:only-of-type {\n",
       "        vertical-align: middle;\n",
       "    }\n",
       "\n",
       "    .dataframe tbody tr th {\n",
       "        vertical-align: top;\n",
       "    }\n",
       "\n",
       "    .dataframe thead th {\n",
       "        text-align: right;\n",
       "    }\n",
       "</style>\n",
       "<table border=\"1\" class=\"dataframe\">\n",
       "  <thead>\n",
       "    <tr style=\"text-align: right;\">\n",
       "      <th></th>\n",
       "      <th>speed_mph</th>\n",
       "      <th>stop_sequence1</th>\n",
       "      <th>n_trips_shp</th>\n",
       "      <th>p50_mph</th>\n",
       "      <th>p20_mph</th>\n",
       "      <th>p80_mph</th>\n",
       "      <th>fast_slow_ratio</th>\n",
       "    </tr>\n",
       "  </thead>\n",
       "  <tbody>\n",
       "    <tr>\n",
       "      <th>1</th>\n",
       "      <td>1</td>\n",
       "      <td>1</td>\n",
       "      <td>79</td>\n",
       "      <td>40.0</td>\n",
       "      <td>16.6</td>\n",
       "      <td>63.4</td>\n",
       "      <td>3.819277</td>\n",
       "    </tr>\n",
       "    <tr>\n",
       "      <th>2</th>\n",
       "      <td>2</td>\n",
       "      <td>1</td>\n",
       "      <td>79</td>\n",
       "      <td>40.0</td>\n",
       "      <td>16.6</td>\n",
       "      <td>63.4</td>\n",
       "      <td>3.819277</td>\n",
       "    </tr>\n",
       "    <tr>\n",
       "      <th>3</th>\n",
       "      <td>3</td>\n",
       "      <td>1</td>\n",
       "      <td>79</td>\n",
       "      <td>40.0</td>\n",
       "      <td>16.6</td>\n",
       "      <td>63.4</td>\n",
       "      <td>3.819277</td>\n",
       "    </tr>\n",
       "    <tr>\n",
       "      <th>4</th>\n",
       "      <td>4</td>\n",
       "      <td>1</td>\n",
       "      <td>79</td>\n",
       "      <td>40.0</td>\n",
       "      <td>16.6</td>\n",
       "      <td>63.4</td>\n",
       "      <td>3.819277</td>\n",
       "    </tr>\n",
       "    <tr>\n",
       "      <th>5</th>\n",
       "      <td>5</td>\n",
       "      <td>1</td>\n",
       "      <td>79</td>\n",
       "      <td>40.0</td>\n",
       "      <td>16.6</td>\n",
       "      <td>63.4</td>\n",
       "      <td>3.819277</td>\n",
       "    </tr>\n",
       "    <tr>\n",
       "      <th>...</th>\n",
       "      <td>...</td>\n",
       "      <td>...</td>\n",
       "      <td>...</td>\n",
       "      <td>...</td>\n",
       "      <td>...</td>\n",
       "      <td>...</td>\n",
       "      <td>...</td>\n",
       "    </tr>\n",
       "    <tr>\n",
       "      <th>75</th>\n",
       "      <td>75</td>\n",
       "      <td>1</td>\n",
       "      <td>79</td>\n",
       "      <td>40.0</td>\n",
       "      <td>16.6</td>\n",
       "      <td>63.4</td>\n",
       "      <td>3.819277</td>\n",
       "    </tr>\n",
       "    <tr>\n",
       "      <th>76</th>\n",
       "      <td>76</td>\n",
       "      <td>1</td>\n",
       "      <td>79</td>\n",
       "      <td>40.0</td>\n",
       "      <td>16.6</td>\n",
       "      <td>63.4</td>\n",
       "      <td>3.819277</td>\n",
       "    </tr>\n",
       "    <tr>\n",
       "      <th>77</th>\n",
       "      <td>77</td>\n",
       "      <td>1</td>\n",
       "      <td>79</td>\n",
       "      <td>40.0</td>\n",
       "      <td>16.6</td>\n",
       "      <td>63.4</td>\n",
       "      <td>3.819277</td>\n",
       "    </tr>\n",
       "    <tr>\n",
       "      <th>78</th>\n",
       "      <td>78</td>\n",
       "      <td>1</td>\n",
       "      <td>79</td>\n",
       "      <td>40.0</td>\n",
       "      <td>16.6</td>\n",
       "      <td>63.4</td>\n",
       "      <td>3.819277</td>\n",
       "    </tr>\n",
       "    <tr>\n",
       "      <th>79</th>\n",
       "      <td>79</td>\n",
       "      <td>1</td>\n",
       "      <td>79</td>\n",
       "      <td>40.0</td>\n",
       "      <td>16.6</td>\n",
       "      <td>63.4</td>\n",
       "      <td>3.819277</td>\n",
       "    </tr>\n",
       "  </tbody>\n",
       "</table>\n",
       "<p>79 rows × 7 columns</p>\n",
       "</div>"
      ],
      "text/plain": [
       "    speed_mph stop_sequence1  n_trips_shp  p50_mph  p20_mph  p80_mph  \\\n",
       "1           1              1           79     40.0     16.6     63.4   \n",
       "2           2              1           79     40.0     16.6     63.4   \n",
       "3           3              1           79     40.0     16.6     63.4   \n",
       "4           4              1           79     40.0     16.6     63.4   \n",
       "5           5              1           79     40.0     16.6     63.4   \n",
       "..        ...            ...          ...      ...      ...      ...   \n",
       "75         75              1           79     40.0     16.6     63.4   \n",
       "76         76              1           79     40.0     16.6     63.4   \n",
       "77         77              1           79     40.0     16.6     63.4   \n",
       "78         78              1           79     40.0     16.6     63.4   \n",
       "79         79              1           79     40.0     16.6     63.4   \n",
       "\n",
       "    fast_slow_ratio  \n",
       "1          3.819277  \n",
       "2          3.819277  \n",
       "3          3.819277  \n",
       "4          3.819277  \n",
       "5          3.819277  \n",
       "..              ...  \n",
       "75         3.819277  \n",
       "76         3.819277  \n",
       "77         3.819277  \n",
       "78         3.819277  \n",
       "79         3.819277  \n",
       "\n",
       "[79 rows x 7 columns]"
      ]
     },
     "execution_count": 124,
     "metadata": {},
     "output_type": "execute_result"
    }
   ],
   "source": [
    "speedmap_aggregate(test)"
   ]
  },
  {
   "cell_type": "code",
   "execution_count": 113,
   "id": "aa698885-8cdd-4de6-a1d1-731bd32ddf86",
   "metadata": {},
   "outputs": [
    {
     "data": {
      "text/html": [
       "<div>\n",
       "<style scoped>\n",
       "    .dataframe tbody tr th:only-of-type {\n",
       "        vertical-align: middle;\n",
       "    }\n",
       "\n",
       "    .dataframe tbody tr th {\n",
       "        vertical-align: top;\n",
       "    }\n",
       "\n",
       "    .dataframe thead th {\n",
       "        text-align: right;\n",
       "    }\n",
       "</style>\n",
       "<table border=\"1\" class=\"dataframe\">\n",
       "  <thead>\n",
       "    <tr style=\"text-align: right;\">\n",
       "      <th></th>\n",
       "      <th>stop_id</th>\n",
       "      <th>stop_name</th>\n",
       "      <th>geometry</th>\n",
       "      <th>shape_id</th>\n",
       "      <th>shape_meters</th>\n",
       "      <th>trip_id</th>\n",
       "      <th>stop_sequence</th>\n",
       "      <th>route_id</th>\n",
       "      <th>route_short_name</th>\n",
       "      <th>direction_id</th>\n",
       "      <th>...</th>\n",
       "      <th>meters_from_last</th>\n",
       "      <th>speed_from_last</th>\n",
       "      <th>delay_chg_sec</th>\n",
       "      <th>speed_mph</th>\n",
       "      <th>n_trips_shp</th>\n",
       "      <th>p50_mph</th>\n",
       "      <th>p20_mph</th>\n",
       "      <th>p80_mph</th>\n",
       "      <th>fast_slow_ratio</th>\n",
       "      <th>trips_per_hour</th>\n",
       "    </tr>\n",
       "  </thead>\n",
       "  <tbody>\n",
       "    <tr>\n",
       "      <th>0</th>\n",
       "      <td>None</td>\n",
       "      <td>None</td>\n",
       "      <td>LINESTRING (149929.456 -452514.478, 149927.734...</td>\n",
       "      <td>26729</td>\n",
       "      <td>2000.000000</td>\n",
       "      <td>918710</td>\n",
       "      <td>2.5</td>\n",
       "      <td>3707</td>\n",
       "      <td>3</td>\n",
       "      <td>0.0</td>\n",
       "      <td>...</td>\n",
       "      <td>1514.419202</td>\n",
       "      <td>4.853908</td>\n",
       "      <td>NaN</td>\n",
       "      <td>10.858192</td>\n",
       "      <td>17</td>\n",
       "      <td>20.285963</td>\n",
       "      <td>16.724663</td>\n",
       "      <td>25.757519</td>\n",
       "      <td>1.540092</td>\n",
       "      <td>3.4</td>\n",
       "    </tr>\n",
       "    <tr>\n",
       "      <th>1</th>\n",
       "      <td>532</td>\n",
       "      <td>CENTURY WB &amp; AVIATION FS</td>\n",
       "      <td>LINESTRING (149900.136 -451000.371, 149899.070...</td>\n",
       "      <td>26729</td>\n",
       "      <td>2109.272210</td>\n",
       "      <td>918710</td>\n",
       "      <td>3.0</td>\n",
       "      <td>3707</td>\n",
       "      <td>3</td>\n",
       "      <td>0.0</td>\n",
       "      <td>...</td>\n",
       "      <td>109.272210</td>\n",
       "      <td>2.375483</td>\n",
       "      <td>NaN</td>\n",
       "      <td>5.313955</td>\n",
       "      <td>17</td>\n",
       "      <td>7.638810</td>\n",
       "      <td>5.473374</td>\n",
       "      <td>15.097884</td>\n",
       "      <td>2.758424</td>\n",
       "      <td>3.4</td>\n",
       "    </tr>\n",
       "    <tr>\n",
       "      <th>2</th>\n",
       "      <td>1668</td>\n",
       "      <td>98TH WB &amp; BELLANCA FS</td>\n",
       "      <td>LINESTRING (149867.450 -450921.944, 149813.838...</td>\n",
       "      <td>26729</td>\n",
       "      <td>2452.466233</td>\n",
       "      <td>918710</td>\n",
       "      <td>4.0</td>\n",
       "      <td>3707</td>\n",
       "      <td>3</td>\n",
       "      <td>0.0</td>\n",
       "      <td>...</td>\n",
       "      <td>343.194022</td>\n",
       "      <td>7.799864</td>\n",
       "      <td>-5.0</td>\n",
       "      <td>17.448296</td>\n",
       "      <td>17</td>\n",
       "      <td>13.468860</td>\n",
       "      <td>11.469281</td>\n",
       "      <td>16.266514</td>\n",
       "      <td>1.418268</td>\n",
       "      <td>3.4</td>\n",
       "    </tr>\n",
       "    <tr>\n",
       "      <th>3</th>\n",
       "      <td>1670</td>\n",
       "      <td>98TH WB &amp; AIRPORT NS</td>\n",
       "      <td>LINESTRING (149713.916 -450727.198, 149301.194...</td>\n",
       "      <td>26729</td>\n",
       "      <td>2937.211151</td>\n",
       "      <td>918710</td>\n",
       "      <td>5.0</td>\n",
       "      <td>3707</td>\n",
       "      <td>3</td>\n",
       "      <td>0.0</td>\n",
       "      <td>...</td>\n",
       "      <td>484.744919</td>\n",
       "      <td>6.214678</td>\n",
       "      <td>7.0</td>\n",
       "      <td>13.902236</td>\n",
       "      <td>17</td>\n",
       "      <td>18.072906</td>\n",
       "      <td>14.220001</td>\n",
       "      <td>21.687488</td>\n",
       "      <td>1.525140</td>\n",
       "      <td>3.4</td>\n",
       "    </tr>\n",
       "    <tr>\n",
       "      <th>4</th>\n",
       "      <td>1677</td>\n",
       "      <td>98TH WB &amp; AVION FS</td>\n",
       "      <td>LINESTRING (149229.281 -450737.483, 149202.291...</td>\n",
       "      <td>26729</td>\n",
       "      <td>3392.105663</td>\n",
       "      <td>918710</td>\n",
       "      <td>6.0</td>\n",
       "      <td>3707</td>\n",
       "      <td>3</td>\n",
       "      <td>0.0</td>\n",
       "      <td>...</td>\n",
       "      <td>454.894511</td>\n",
       "      <td>8.270809</td>\n",
       "      <td>-11.0</td>\n",
       "      <td>18.501800</td>\n",
       "      <td>17</td>\n",
       "      <td>16.412887</td>\n",
       "      <td>11.468179</td>\n",
       "      <td>18.435723</td>\n",
       "      <td>1.607554</td>\n",
       "      <td>3.4</td>\n",
       "    </tr>\n",
       "  </tbody>\n",
       "</table>\n",
       "<p>5 rows × 23 columns</p>\n",
       "</div>"
      ],
      "text/plain": [
       "  stop_id                 stop_name  \\\n",
       "0    None                      None   \n",
       "1     532  CENTURY WB & AVIATION FS   \n",
       "2    1668     98TH WB & BELLANCA FS   \n",
       "3    1670      98TH WB & AIRPORT NS   \n",
       "4    1677        98TH WB & AVION FS   \n",
       "\n",
       "                                            geometry shape_id  shape_meters  \\\n",
       "0  LINESTRING (149929.456 -452514.478, 149927.734...    26729   2000.000000   \n",
       "1  LINESTRING (149900.136 -451000.371, 149899.070...    26729   2109.272210   \n",
       "2  LINESTRING (149867.450 -450921.944, 149813.838...    26729   2452.466233   \n",
       "3  LINESTRING (149713.916 -450727.198, 149301.194...    26729   2937.211151   \n",
       "4  LINESTRING (149229.281 -450737.483, 149202.291...    26729   3392.105663   \n",
       "\n",
       "  trip_id  stop_sequence route_id route_short_name  direction_id  ...  \\\n",
       "0  918710            2.5     3707                3           0.0  ...   \n",
       "1  918710            3.0     3707                3           0.0  ...   \n",
       "2  918710            4.0     3707                3           0.0  ...   \n",
       "3  918710            5.0     3707                3           0.0  ...   \n",
       "4  918710            6.0     3707                3           0.0  ...   \n",
       "\n",
       "   meters_from_last  speed_from_last  delay_chg_sec  speed_mph  n_trips_shp  \\\n",
       "0       1514.419202         4.853908            NaN  10.858192           17   \n",
       "1        109.272210         2.375483            NaN   5.313955           17   \n",
       "2        343.194022         7.799864           -5.0  17.448296           17   \n",
       "3        484.744919         6.214678            7.0  13.902236           17   \n",
       "4        454.894511         8.270809          -11.0  18.501800           17   \n",
       "\n",
       "     p50_mph    p20_mph    p80_mph  fast_slow_ratio  trips_per_hour  \n",
       "0  20.285963  16.724663  25.757519         1.540092             3.4  \n",
       "1   7.638810   5.473374  15.097884         2.758424             3.4  \n",
       "2  13.468860  11.469281  16.266514         1.418268             3.4  \n",
       "3  18.072906  14.220001  21.687488         1.525140             3.4  \n",
       "4  16.412887  11.468179  18.435723         1.607554             3.4  \n",
       "\n",
       "[5 rows x 23 columns]"
      ]
     },
     "execution_count": 113,
     "metadata": {},
     "output_type": "execute_result"
    }
   ],
   "source": [
    "one_route_legacy >> distinct(_.stop_sequence, _keep_all=True) >> arrange(_.stop_sequence) >> head(5)"
   ]
  },
  {
   "cell_type": "code",
   "execution_count": 116,
   "id": "ac40a906-2d4b-4d94-85c2-64446b6b52ab",
   "metadata": {},
   "outputs": [
    {
     "data": {
      "text/html": [
       "<div>\n",
       "<style scoped>\n",
       "    .dataframe tbody tr th:only-of-type {\n",
       "        vertical-align: middle;\n",
       "    }\n",
       "\n",
       "    .dataframe tbody tr th {\n",
       "        vertical-align: top;\n",
       "    }\n",
       "\n",
       "    .dataframe thead th {\n",
       "        text-align: right;\n",
       "    }\n",
       "</style>\n",
       "<table border=\"1\" class=\"dataframe\">\n",
       "  <thead>\n",
       "    <tr style=\"text-align: right;\">\n",
       "      <th></th>\n",
       "      <th>route_id</th>\n",
       "      <th>direction_id</th>\n",
       "      <th>stop_id1</th>\n",
       "      <th>stop_sequence</th>\n",
       "      <th>stop_id2</th>\n",
       "      <th>stop_sequence1</th>\n",
       "      <th>shape_array_key</th>\n",
       "      <th>segment_id</th>\n",
       "      <th>stop_pair</th>\n",
       "      <th>geometry</th>\n",
       "      <th>peak_offpeak</th>\n",
       "      <th>p50_mph</th>\n",
       "      <th>n_trips</th>\n",
       "      <th>p20_mph</th>\n",
       "      <th>p80_mph</th>\n",
       "    </tr>\n",
       "  </thead>\n",
       "  <tbody>\n",
       "    <tr>\n",
       "      <th>0</th>\n",
       "      <td>3707</td>\n",
       "      <td>0.0</td>\n",
       "      <td>529</td>\n",
       "      <td>2</td>\n",
       "      <td>532</td>\n",
       "      <td>2.0</td>\n",
       "      <td>dd73fa792f7bb6fe8e22ccea7fbb109c</td>\n",
       "      <td>529-532-1</td>\n",
       "      <td>529__532</td>\n",
       "      <td>LINESTRING (149960.362 -452550.929, 149960.307...</td>\n",
       "      <td>peak</td>\n",
       "      <td>7.10</td>\n",
       "      <td>50</td>\n",
       "      <td>7.10</td>\n",
       "      <td>7.11</td>\n",
       "    </tr>\n",
       "    <tr>\n",
       "      <th>1</th>\n",
       "      <td>3707</td>\n",
       "      <td>0.0</td>\n",
       "      <td>532</td>\n",
       "      <td>3</td>\n",
       "      <td>1668</td>\n",
       "      <td>3.0</td>\n",
       "      <td>dd73fa792f7bb6fe8e22ccea7fbb109c</td>\n",
       "      <td>532-1668-1</td>\n",
       "      <td>532__1668</td>\n",
       "      <td>LINESTRING (149889.029 -450891.570, 149878.029...</td>\n",
       "      <td>peak</td>\n",
       "      <td>7.07</td>\n",
       "      <td>27</td>\n",
       "      <td>7.05</td>\n",
       "      <td>7.08</td>\n",
       "    </tr>\n",
       "    <tr>\n",
       "      <th>2</th>\n",
       "      <td>3707</td>\n",
       "      <td>0.0</td>\n",
       "      <td>1668</td>\n",
       "      <td>4</td>\n",
       "      <td>1670</td>\n",
       "      <td>4.0</td>\n",
       "      <td>dd73fa792f7bb6fe8e22ccea7fbb109c</td>\n",
       "      <td>1668-1670-1</td>\n",
       "      <td>1668__1670</td>\n",
       "      <td>LINESTRING (149788.859 -450795.753, 149787.442...</td>\n",
       "      <td>peak</td>\n",
       "      <td>6.10</td>\n",
       "      <td>27</td>\n",
       "      <td>5.96</td>\n",
       "      <td>6.24</td>\n",
       "    </tr>\n",
       "    <tr>\n",
       "      <th>3</th>\n",
       "      <td>3707</td>\n",
       "      <td>0.0</td>\n",
       "      <td>1670</td>\n",
       "      <td>5</td>\n",
       "      <td>1677</td>\n",
       "      <td>5.0</td>\n",
       "      <td>dd73fa792f7bb6fe8e22ccea7fbb109c</td>\n",
       "      <td>1670-1677-1</td>\n",
       "      <td>1670__1677</td>\n",
       "      <td>LINESTRING (149201.780 -450707.947, 149130.670...</td>\n",
       "      <td>peak</td>\n",
       "      <td>9.02</td>\n",
       "      <td>27</td>\n",
       "      <td>9.01</td>\n",
       "      <td>9.02</td>\n",
       "    </tr>\n",
       "    <tr>\n",
       "      <th>4</th>\n",
       "      <td>3707</td>\n",
       "      <td>0.0</td>\n",
       "      <td>1677</td>\n",
       "      <td>6</td>\n",
       "      <td>1636</td>\n",
       "      <td>6.0</td>\n",
       "      <td>dd73fa792f7bb6fe8e22ccea7fbb109c</td>\n",
       "      <td>1677-1636-1</td>\n",
       "      <td>1677__1636</td>\n",
       "      <td>LINESTRING (148866.138 -450712.546, 148817.149...</td>\n",
       "      <td>peak</td>\n",
       "      <td>9.85</td>\n",
       "      <td>27</td>\n",
       "      <td>9.84</td>\n",
       "      <td>9.86</td>\n",
       "    </tr>\n",
       "  </tbody>\n",
       "</table>\n",
       "</div>"
      ],
      "text/plain": [
       "  route_id  direction_id stop_id1  stop_sequence stop_id2  stop_sequence1  \\\n",
       "0     3707           0.0      529              2      532             2.0   \n",
       "1     3707           0.0      532              3     1668             3.0   \n",
       "2     3707           0.0     1668              4     1670             4.0   \n",
       "3     3707           0.0     1670              5     1677             5.0   \n",
       "4     3707           0.0     1677              6     1636             6.0   \n",
       "\n",
       "                    shape_array_key   segment_id   stop_pair  \\\n",
       "0  dd73fa792f7bb6fe8e22ccea7fbb109c    529-532-1    529__532   \n",
       "1  dd73fa792f7bb6fe8e22ccea7fbb109c   532-1668-1   532__1668   \n",
       "2  dd73fa792f7bb6fe8e22ccea7fbb109c  1668-1670-1  1668__1670   \n",
       "3  dd73fa792f7bb6fe8e22ccea7fbb109c  1670-1677-1  1670__1677   \n",
       "4  dd73fa792f7bb6fe8e22ccea7fbb109c  1677-1636-1  1677__1636   \n",
       "\n",
       "                                            geometry peak_offpeak  p50_mph  \\\n",
       "0  LINESTRING (149960.362 -452550.929, 149960.307...         peak     7.10   \n",
       "1  LINESTRING (149889.029 -450891.570, 149878.029...         peak     7.07   \n",
       "2  LINESTRING (149788.859 -450795.753, 149787.442...         peak     6.10   \n",
       "3  LINESTRING (149201.780 -450707.947, 149130.670...         peak     9.02   \n",
       "4  LINESTRING (148866.138 -450712.546, 148817.149...         peak     9.85   \n",
       "\n",
       "   n_trips  p20_mph  p80_mph  \n",
       "0       50     7.10     7.11  \n",
       "1       27     7.05     7.08  \n",
       "2       27     5.96     6.24  \n",
       "3       27     9.01     9.02  \n",
       "4       27     9.84     9.86  "
      ]
     },
     "execution_count": 116,
     "metadata": {},
     "output_type": "execute_result"
    }
   ],
   "source": [
    "one_route_segments >> distinct(_.stop_sequence, _keep_all=True) >> arrange(_.stop_sequence) >> head(5)"
   ]
  },
  {
   "cell_type": "code",
   "execution_count": null,
   "id": "6eb977cb-5647-4ff7-a153-ecae324de94d",
   "metadata": {},
   "outputs": [],
   "source": []
  }
 ],
 "metadata": {
  "kernelspec": {
   "display_name": "Python 3 (ipykernel)",
   "language": "python",
   "name": "python3"
  },
  "language_info": {
   "codemirror_mode": {
    "name": "ipython",
    "version": 3
   },
   "file_extension": ".py",
   "mimetype": "text/x-python",
   "name": "python",
   "nbconvert_exporter": "python",
   "pygments_lexer": "ipython3",
   "version": "3.9.13"
  },
  "widgets": {
   "application/vnd.jupyter.widget-state+json": {
    "state": {
     "1028e7ba152a4335bb78cf8228f741cd": {
      "model_module": "@jupyter-widgets/base",
      "model_module_version": "1.2.0",
      "model_name": "LayoutModel",
      "state": {}
     },
     "265aeda36f814a9b9bf242222ff788fa": {
      "model_module": "@jupyter-widgets/controls",
      "model_module_version": "1.5.0",
      "model_name": "DescriptionStyleModel",
      "state": {
       "description_width": ""
      }
     },
     "2a70137930a44691ab5aa541330842b8": {
      "model_module": "@jupyter-widgets/base",
      "model_module_version": "1.2.0",
      "model_name": "LayoutModel",
      "state": {}
     },
     "3109e7eaa3f44f748af8ff43c5b7f367": {
      "model_module": "@jupyter-widgets/controls",
      "model_module_version": "1.5.0",
      "model_name": "HTMLModel",
      "state": {
       "layout": "IPY_MODEL_6c7cd064f44b44399df39dfee783b83b",
       "style": "IPY_MODEL_d6fb5de50fa84c18a6e5a61ef92bda9e",
       "value": " 38/38 [00:45&lt;00:00,  1.41s/it]"
      }
     },
     "46156819cf9445c8b3a54a999679fda1": {
      "model_module": "@jupyter-widgets/controls",
      "model_module_version": "1.5.0",
      "model_name": "HBoxModel",
      "state": {
       "children": [
        "IPY_MODEL_c5ec442df66f4efb90a56400466bc805",
        "IPY_MODEL_9eef241b32794baeb6146e19b51ce86e",
        "IPY_MODEL_3109e7eaa3f44f748af8ff43c5b7f367"
       ],
       "layout": "IPY_MODEL_e3941d00c8f64f5c8c7b45ccf314d787"
      }
     },
     "58e8724db04a46b299186d0cbaf15e5c": {
      "model_module": "@jupyter-widgets/controls",
      "model_module_version": "1.5.0",
      "model_name": "ProgressStyleModel",
      "state": {
       "description_width": ""
      }
     },
     "6c7cd064f44b44399df39dfee783b83b": {
      "model_module": "@jupyter-widgets/base",
      "model_module_version": "1.2.0",
      "model_name": "LayoutModel",
      "state": {}
     },
     "9eef241b32794baeb6146e19b51ce86e": {
      "model_module": "@jupyter-widgets/controls",
      "model_module_version": "1.5.0",
      "model_name": "FloatProgressModel",
      "state": {
       "layout": "IPY_MODEL_2a70137930a44691ab5aa541330842b8",
       "max": 38,
       "style": "IPY_MODEL_58e8724db04a46b299186d0cbaf15e5c",
       "value": 38
      }
     },
     "c5ec442df66f4efb90a56400466bc805": {
      "model_module": "@jupyter-widgets/controls",
      "model_module_version": "1.5.0",
      "model_name": "HTMLModel",
      "state": {
       "layout": "IPY_MODEL_1028e7ba152a4335bb78cf8228f741cd",
       "style": "IPY_MODEL_265aeda36f814a9b9bf242222ff788fa",
       "value": "Generating segment speeds itp_id: 300 org: City of Santa M: 100%"
      }
     },
     "d6fb5de50fa84c18a6e5a61ef92bda9e": {
      "model_module": "@jupyter-widgets/controls",
      "model_module_version": "1.5.0",
      "model_name": "DescriptionStyleModel",
      "state": {
       "description_width": ""
      }
     },
     "e3941d00c8f64f5c8c7b45ccf314d787": {
      "model_module": "@jupyter-widgets/base",
      "model_module_version": "1.2.0",
      "model_name": "LayoutModel",
      "state": {}
     }
    },
    "version_major": 2,
    "version_minor": 0
   }
  }
 },
 "nbformat": 4,
 "nbformat_minor": 5
}
