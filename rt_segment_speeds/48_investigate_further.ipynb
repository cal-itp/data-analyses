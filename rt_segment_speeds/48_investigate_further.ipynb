{
 "cells": [
  {
   "cell_type": "code",
   "execution_count": 1,
   "id": "d528f399-cf33-459e-b5dc-92e0b4ae389a",
   "metadata": {},
   "outputs": [],
   "source": [
    "import pandas as pd\n",
    "import geopandas as gpd\n",
    "from siuba import *\n",
    "import shared_utils\n",
    "\n",
    "from calitp_data_analysis import get_fs, geography_utils\n",
    "from segment_speed_utils import helpers, time_series_utils, gtfs_schedule_wrangling\n",
    "from segment_speed_utils.project_vars import SCHED_GCS, SEGMENT_GCS, GTFS_DATA_DICT, analysis_date"
   ]
  },
  {
   "cell_type": "code",
   "execution_count": 2,
   "id": "42a16a99-113f-48e9-9f8e-f5cea66952ed",
   "metadata": {},
   "outputs": [],
   "source": [
    "import dask.dataframe as dd\n",
    "import dask_geopandas as dg\n",
    "from dask import delayed, compute"
   ]
  },
  {
   "cell_type": "markdown",
   "id": "83bf87cf-a9f5-4acd-afa6-d0d8920f4a73",
   "metadata": {},
   "source": [
    "# Further investigation after 45_diff_tables\n",
    "\n",
    "* https://github.com/cal-itp/data-analyses/pull/1356\n",
    "* average_segment_speeds looks OK\n",
    "* issue upstream, specifically with differing segment definitions (stop_pair) supplied via https://github.com/cal-itp/data-analyses/blob/5e83acbafe8312415f1752f25083688561dd42a6/gtfs_funnel/stop_times_with_direction.py vs. those from `gtfs_segments`\n",
    "* "
   ]
  },
  {
   "cell_type": "code",
   "execution_count": 3,
   "id": "6cd318e5-5c4e-4249-b158-232f4d940770",
   "metadata": {},
   "outputs": [],
   "source": [
    "catalog = shared_utils.catalog_utils.get_catalog('gtfs_analytics_data')"
   ]
  },
  {
   "cell_type": "code",
   "execution_count": 4,
   "id": "87d3822b-e000-40c8-99a9-8b88bb50364d",
   "metadata": {},
   "outputs": [],
   "source": [
    "import sys\n",
    "sys.path.append('./scripts')"
   ]
  },
  {
   "cell_type": "code",
   "execution_count": 5,
   "id": "f393cf1d-bf99-4d95-8df3-a351e6e07137",
   "metadata": {},
   "outputs": [],
   "source": [
    "import average_segment_speeds as aseg"
   ]
  },
  {
   "cell_type": "code",
   "execution_count": 6,
   "id": "ed2065bd-6b66-4623-92ca-5409ac798f65",
   "metadata": {},
   "outputs": [],
   "source": [
    "from segment_speed_utils.project_vars import analysis_date_list, oct2024_week"
   ]
  },
  {
   "cell_type": "code",
   "execution_count": 7,
   "id": "5369fb08-a16d-4bc0-9230-a47f0ce81272",
   "metadata": {},
   "outputs": [],
   "source": [
    "from shared_utils import time_helpers, dask_utils"
   ]
  },
  {
   "cell_type": "code",
   "execution_count": 8,
   "id": "e74bca08-b455-4139-a5c7-56b85e41c250",
   "metadata": {},
   "outputs": [],
   "source": [
    "import nearest_vp_to_stop as nvp\n",
    "import pipeline_segment_speeds as ps"
   ]
  },
  {
   "cell_type": "markdown",
   "id": "e4c663e1-dc62-4c7f-815a-e48e52736b18",
   "metadata": {},
   "source": [
    "## explode steps in: [nearest_vp_to_stop](https://github.com/cal-itp/data-analyses/blob/5e83acbafe8312415f1752f25083688561dd42a6/rt_segment_speeds/scripts/nearest_vp_to_stop.py#L20)\n",
    "\n",
    "Also compare with December."
   ]
  },
  {
   "cell_type": "code",
   "execution_count": 9,
   "id": "a6c22411-fd51-4214-a2b1-da6bce206cbd",
   "metadata": {},
   "outputs": [],
   "source": [
    "segment_type = \"stop_segments\"\n",
    "# segment_type = \"speedmap_segments\""
   ]
  },
  {
   "cell_type": "code",
   "execution_count": 10,
   "id": "f5f1f2f7-efee-4091-b14d-7e84bb16cfd6",
   "metadata": {},
   "outputs": [],
   "source": [
    "SEGMENT_FILE = GTFS_DATA_DICT[segment_type]['segments_file']"
   ]
  },
  {
   "cell_type": "code",
   "execution_count": 11,
   "id": "763e56ed-a8bd-42f0-826c-61e269095e4a",
   "metadata": {},
   "outputs": [],
   "source": [
    "analysis_date_dec = shared_utils.rt_dates.DATES['dec2024']"
   ]
  },
  {
   "cell_type": "code",
   "execution_count": 13,
   "id": "9a31e7f3-1d94-49de-b72f-08bf145ac5ee",
   "metadata": {},
   "outputs": [],
   "source": [
    "rt_trips = helpers.import_unique_vp_trips(analysis_date)\n",
    "rt_trips2 = helpers.import_unique_vp_trips(analysis_date_dec)"
   ]
  },
  {
   "cell_type": "code",
   "execution_count": 14,
   "id": "ef8fb6e2-be9a-4e40-a785-c34a6e782119",
   "metadata": {},
   "outputs": [],
   "source": [
    "shape_stop_combinations = pd.read_parquet(\n",
    "        f\"{SEGMENT_GCS}{SEGMENT_FILE}_{analysis_date}.parquet\",\n",
    "            columns = [\"trip_instance_key\",\n",
    "                   \"stop_id1\", \"stop_pair\",\n",
    "                   \"st_trip_instance_key\"],\n",
    "filters = [[(\"trip_instance_key\", \"in\", rt_trips)]]).rename(columns = {\"stop_id1\": \"stop_id\"})"
   ]
  },
  {
   "cell_type": "code",
   "execution_count": 15,
   "id": "9b68691a-6962-4093-a7da-d0440f2cc3c4",
   "metadata": {},
   "outputs": [],
   "source": [
    "shape_stop_combinations2 = pd.read_parquet(\n",
    "        f\"{SEGMENT_GCS}{SEGMENT_FILE}_{shared_utils.rt_dates.DATES['dec2024']}.parquet\",\n",
    "            columns = [\"trip_instance_key\",\n",
    "                   \"stop_id1\", \"stop_pair\",\n",
    "                   \"st_trip_instance_key\"],\n",
    "filters = [[(\"trip_instance_key\", \"in\", rt_trips2)]]).rename(columns = {\"stop_id1\": \"stop_id\"})"
   ]
  },
  {
   "cell_type": "code",
   "execution_count": 16,
   "id": "e1ef784d-156f-4466-9215-002c9dced420",
   "metadata": {},
   "outputs": [
    {
     "name": "stdout",
     "output_type": "stream",
     "text": [
      "<class 'pandas.core.frame.DataFrame'>\n",
      "Int64Index: 3151412 entries, 0 to 3151411\n",
      "Data columns (total 4 columns):\n",
      " #   Column                Dtype \n",
      "---  ------                ----- \n",
      " 0   trip_instance_key     object\n",
      " 1   stop_id               object\n",
      " 2   stop_pair             object\n",
      " 3   st_trip_instance_key  object\n",
      "dtypes: object(4)\n",
      "memory usage: 120.2+ MB\n"
     ]
    }
   ],
   "source": [
    "shape_stop_combinations.info()"
   ]
  },
  {
   "cell_type": "code",
   "execution_count": 17,
   "id": "6ea2ac1b-e3fa-43ae-998e-ae916c877917",
   "metadata": {},
   "outputs": [
    {
     "name": "stdout",
     "output_type": "stream",
     "text": [
      "<class 'pandas.core.frame.DataFrame'>\n",
      "Int64Index: 3150548 entries, 0 to 3150652\n",
      "Data columns (total 4 columns):\n",
      " #   Column                Dtype \n",
      "---  ------                ----- \n",
      " 0   trip_instance_key     object\n",
      " 1   stop_id               object\n",
      " 2   stop_pair             object\n",
      " 3   st_trip_instance_key  object\n",
      "dtypes: object(4)\n",
      "memory usage: 120.2+ MB\n"
     ]
    }
   ],
   "source": [
    "shape_stop_combinations2.info()"
   ]
  },
  {
   "cell_type": "code",
   "execution_count": 18,
   "id": "0692ff77-fee2-402c-abd8-f428f9d3d6fd",
   "metadata": {},
   "outputs": [],
   "source": [
    "subset_trips2 = shape_stop_combinations2.st_trip_instance_key.unique()"
   ]
  },
  {
   "cell_type": "code",
   "execution_count": 19,
   "id": "b3074fcb-b597-43b2-8642-366fde4a2af4",
   "metadata": {},
   "outputs": [],
   "source": [
    "subset_trips = shape_stop_combinations.st_trip_instance_key.unique()"
   ]
  },
  {
   "cell_type": "code",
   "execution_count": 20,
   "id": "a8ee02be-4725-401f-95c6-0a66f7b36c16",
   "metadata": {},
   "outputs": [],
   "source": [
    "#  GTFS_DATA_DICT.rt_vs_schedule_tables.stop_times_direction\n",
    "#  written in gtfs_funnel/stop_times_with_direction.py\n",
    "stops_to_use = helpers.import_scheduled_stop_times(\n",
    "    analysis_date,\n",
    "    columns = [\"trip_instance_key\", \"shape_array_key\",\n",
    "               \"stop_sequence\", \"stop_id\", \"stop_pair\",\n",
    "               \"stop_primary_direction\", \"geometry\"],\n",
    "    filters = [[(\"trip_instance_key\", \"in\", subset_trips)]],\n",
    "    get_pandas = True,\n",
    "    with_direction = True\n",
    ").rename(columns = {\"trip_instance_key\": \"st_trip_instance_key\"})"
   ]
  },
  {
   "cell_type": "code",
   "execution_count": 21,
   "id": "d78bc54d-0441-4181-aaf5-d4a588326c69",
   "metadata": {},
   "outputs": [
    {
     "data": {
      "text/html": [
       "<div>\n",
       "<style scoped>\n",
       "    .dataframe tbody tr th:only-of-type {\n",
       "        vertical-align: middle;\n",
       "    }\n",
       "\n",
       "    .dataframe tbody tr th {\n",
       "        vertical-align: top;\n",
       "    }\n",
       "\n",
       "    .dataframe thead th {\n",
       "        text-align: right;\n",
       "    }\n",
       "</style>\n",
       "<table border=\"1\" class=\"dataframe\">\n",
       "  <thead>\n",
       "    <tr style=\"text-align: right;\">\n",
       "      <th></th>\n",
       "      <th>st_trip_instance_key</th>\n",
       "      <th>shape_array_key</th>\n",
       "      <th>stop_sequence</th>\n",
       "      <th>stop_id</th>\n",
       "      <th>stop_pair</th>\n",
       "      <th>stop_primary_direction</th>\n",
       "      <th>geometry</th>\n",
       "    </tr>\n",
       "  </thead>\n",
       "  <tbody>\n",
       "    <tr>\n",
       "      <th>0</th>\n",
       "      <td>00001f273308970887743ce0c3acf068</td>\n",
       "      <td>5abad00eed316250607a32ab7aa38fa7</td>\n",
       "      <td>1</td>\n",
       "      <td>88878</td>\n",
       "      <td>88878__60308</td>\n",
       "      <td>Unknown</td>\n",
       "      <td>POINT (275996.236 -600448.777)</td>\n",
       "    </tr>\n",
       "    <tr>\n",
       "      <th>1</th>\n",
       "      <td>00001f273308970887743ce0c3acf068</td>\n",
       "      <td>5abad00eed316250607a32ab7aa38fa7</td>\n",
       "      <td>2</td>\n",
       "      <td>60308</td>\n",
       "      <td>60308__60310</td>\n",
       "      <td>Eastbound</td>\n",
       "      <td>POINT (276129.555 -600498.971)</td>\n",
       "    </tr>\n",
       "    <tr>\n",
       "      <th>2</th>\n",
       "      <td>00001f273308970887743ce0c3acf068</td>\n",
       "      <td>5abad00eed316250607a32ab7aa38fa7</td>\n",
       "      <td>3</td>\n",
       "      <td>60309</td>\n",
       "      <td>60309__60249</td>\n",
       "      <td>Northbound</td>\n",
       "      <td>POINT (276315.087 -600745.139)</td>\n",
       "    </tr>\n",
       "  </tbody>\n",
       "</table>\n",
       "</div>"
      ],
      "text/plain": [
       "               st_trip_instance_key                   shape_array_key  \\\n",
       "0  00001f273308970887743ce0c3acf068  5abad00eed316250607a32ab7aa38fa7   \n",
       "1  00001f273308970887743ce0c3acf068  5abad00eed316250607a32ab7aa38fa7   \n",
       "2  00001f273308970887743ce0c3acf068  5abad00eed316250607a32ab7aa38fa7   \n",
       "\n",
       "   stop_sequence stop_id     stop_pair stop_primary_direction  \\\n",
       "0              1   88878  88878__60308                Unknown   \n",
       "1              2   60308  60308__60310              Eastbound   \n",
       "2              3   60309  60309__60249             Northbound   \n",
       "\n",
       "                         geometry  \n",
       "0  POINT (275996.236 -600448.777)  \n",
       "1  POINT (276129.555 -600498.971)  \n",
       "2  POINT (276315.087 -600745.139)  "
      ]
     },
     "execution_count": 21,
     "metadata": {},
     "output_type": "execute_result"
    }
   ],
   "source": [
    "stops_to_use.head(3)"
   ]
  },
  {
   "cell_type": "code",
   "execution_count": 22,
   "id": "d86add72-0c08-4262-a1be-d8ec0da936de",
   "metadata": {},
   "outputs": [
    {
     "data": {
      "text/html": [
       "<div>\n",
       "<style scoped>\n",
       "    .dataframe tbody tr th:only-of-type {\n",
       "        vertical-align: middle;\n",
       "    }\n",
       "\n",
       "    .dataframe tbody tr th {\n",
       "        vertical-align: top;\n",
       "    }\n",
       "\n",
       "    .dataframe thead th {\n",
       "        text-align: right;\n",
       "    }\n",
       "</style>\n",
       "<table border=\"1\" class=\"dataframe\">\n",
       "  <thead>\n",
       "    <tr style=\"text-align: right;\">\n",
       "      <th></th>\n",
       "      <th>trip_instance_key</th>\n",
       "      <th>stop_id</th>\n",
       "      <th>stop_pair</th>\n",
       "      <th>st_trip_instance_key</th>\n",
       "    </tr>\n",
       "  </thead>\n",
       "  <tbody>\n",
       "    <tr>\n",
       "      <th>0</th>\n",
       "      <td>00001f273308970887743ce0c3acf068</td>\n",
       "      <td>88878</td>\n",
       "      <td>88878__60308</td>\n",
       "      <td>00001f273308970887743ce0c3acf068</td>\n",
       "    </tr>\n",
       "    <tr>\n",
       "      <th>1</th>\n",
       "      <td>00001f273308970887743ce0c3acf068</td>\n",
       "      <td>60308</td>\n",
       "      <td>60308__60309</td>\n",
       "      <td>00001f273308970887743ce0c3acf068</td>\n",
       "    </tr>\n",
       "    <tr>\n",
       "      <th>2</th>\n",
       "      <td>00001f273308970887743ce0c3acf068</td>\n",
       "      <td>60309</td>\n",
       "      <td>60309__60310</td>\n",
       "      <td>00001f273308970887743ce0c3acf068</td>\n",
       "    </tr>\n",
       "  </tbody>\n",
       "</table>\n",
       "</div>"
      ],
      "text/plain": [
       "                  trip_instance_key stop_id     stop_pair  \\\n",
       "0  00001f273308970887743ce0c3acf068   88878  88878__60308   \n",
       "1  00001f273308970887743ce0c3acf068   60308  60308__60309   \n",
       "2  00001f273308970887743ce0c3acf068   60309  60309__60310   \n",
       "\n",
       "               st_trip_instance_key  \n",
       "0  00001f273308970887743ce0c3acf068  \n",
       "1  00001f273308970887743ce0c3acf068  \n",
       "2  00001f273308970887743ce0c3acf068  "
      ]
     },
     "execution_count": 22,
     "metadata": {},
     "output_type": "execute_result"
    }
   ],
   "source": [
    "shape_stop_combinations.head(3)"
   ]
  },
  {
   "cell_type": "code",
   "execution_count": 25,
   "id": "e13c5f90-7c3e-4ffa-b85f-6da54416e1fe",
   "metadata": {},
   "outputs": [
    {
     "data": {
      "text/html": [
       "<div>\n",
       "<style scoped>\n",
       "    .dataframe tbody tr th:only-of-type {\n",
       "        vertical-align: middle;\n",
       "    }\n",
       "\n",
       "    .dataframe tbody tr th {\n",
       "        vertical-align: top;\n",
       "    }\n",
       "\n",
       "    .dataframe thead th {\n",
       "        text-align: right;\n",
       "    }\n",
       "</style>\n",
       "<table border=\"1\" class=\"dataframe\">\n",
       "  <thead>\n",
       "    <tr style=\"text-align: right;\">\n",
       "      <th></th>\n",
       "      <th>trip_instance_key</th>\n",
       "      <th>route_short_name</th>\n",
       "      <th>name</th>\n",
       "      <th>feed_key</th>\n",
       "      <th>trip_id</th>\n",
       "    </tr>\n",
       "  </thead>\n",
       "  <tbody>\n",
       "    <tr>\n",
       "      <th>33114</th>\n",
       "      <td>ffd7d651605dbca64e7b3f46945f5817</td>\n",
       "      <td>194</td>\n",
       "      <td>Foothill Schedule</td>\n",
       "      <td>e920f063b73c35605bb16e98f63d2e6f</td>\n",
       "      <td>t90B-b2812-sl5</td>\n",
       "    </tr>\n",
       "  </tbody>\n",
       "</table>\n",
       "</div>"
      ],
      "text/plain": [
       "                      trip_instance_key route_short_name               name  \\\n",
       "33114  ffd7d651605dbca64e7b3f46945f5817              194  Foothill Schedule   \n",
       "\n",
       "                               feed_key         trip_id  \n",
       "33114  e920f063b73c35605bb16e98f63d2e6f  t90B-b2812-sl5  "
      ]
     },
     "execution_count": 25,
     "metadata": {},
     "output_type": "execute_result"
    }
   ],
   "source": [
    "trips.query('trip_instance_key == \"ffd7d651605dbca64e7b3f46945f5817\"')"
   ]
  },
  {
   "cell_type": "code",
   "execution_count": 26,
   "id": "58dd10a4-86fc-482d-8c04-d9e5441c4eca",
   "metadata": {},
   "outputs": [],
   "source": [
    "left_merge = pd.merge(\n",
    "    stops_to_use,\n",
    "    shape_stop_combinations,\n",
    "    on = [\"st_trip_instance_key\", \"stop_id\", \"stop_pair\"],\n",
    "    how = \"left\",\n",
    "    indicator=True\n",
    ")"
   ]
  },
  {
   "cell_type": "code",
   "execution_count": 29,
   "id": "d951ba50-3fab-4f24-8542-baa32fe204e6",
   "metadata": {},
   "outputs": [
    {
     "data": {
      "text/plain": [
       "both          235026\n",
       "left_only     155801\n",
       "right_only         0\n",
       "Name: _merge, dtype: int64"
      ]
     },
     "execution_count": 29,
     "metadata": {},
     "output_type": "execute_result"
    }
   ],
   "source": [
    "left_merge._merge.value_counts()"
   ]
  },
  {
   "cell_type": "code",
   "execution_count": 37,
   "id": "60452325-4b1a-4ada-bc1b-ea7b0471698d",
   "metadata": {},
   "outputs": [
    {
     "data": {
      "text/plain": [
       "st_trip_instance_key                    ffd7d651605dbca64e7b3f46945f5817\n",
       "shape_array_key                         a094fd659ed5dffd9c4526cbd6df96c2\n",
       "stop_sequence                                                       2609\n",
       "stop_id                                                             1648\n",
       "stop_pair                                                     1648__2877\n",
       "stop_primary_direction                                        Northbound\n",
       "geometry                  POINT (199462.02638845713 -439913.87381394114)\n",
       "trip_instance_key                                                    NaN\n",
       "_merge                                                         left_only\n",
       "Name: 390823, dtype: object"
      ]
     },
     "execution_count": 37,
     "metadata": {},
     "output_type": "execute_result"
    }
   ],
   "source": [
    "row = left_merge.loc[390823]\n",
    "row"
   ]
  },
  {
   "cell_type": "code",
   "execution_count": 38,
   "id": "925baa69-daa5-492e-938e-81e885e4e566",
   "metadata": {},
   "outputs": [
    {
     "data": {
      "text/html": [
       "<div>\n",
       "<style scoped>\n",
       "    .dataframe tbody tr th:only-of-type {\n",
       "        vertical-align: middle;\n",
       "    }\n",
       "\n",
       "    .dataframe tbody tr th {\n",
       "        vertical-align: top;\n",
       "    }\n",
       "\n",
       "    .dataframe thead th {\n",
       "        text-align: right;\n",
       "    }\n",
       "</style>\n",
       "<table border=\"1\" class=\"dataframe\">\n",
       "  <thead>\n",
       "    <tr style=\"text-align: right;\">\n",
       "      <th></th>\n",
       "      <th>trip_instance_key</th>\n",
       "      <th>stop_id</th>\n",
       "      <th>stop_pair</th>\n",
       "      <th>st_trip_instance_key</th>\n",
       "    </tr>\n",
       "  </thead>\n",
       "  <tbody>\n",
       "    <tr>\n",
       "      <th>3151409</th>\n",
       "      <td>ffd7d651605dbca64e7b3f46945f5817</td>\n",
       "      <td>1648</td>\n",
       "      <td>1648__2544</td>\n",
       "      <td>ffd7d651605dbca64e7b3f46945f5817</td>\n",
       "    </tr>\n",
       "  </tbody>\n",
       "</table>\n",
       "</div>"
      ],
      "text/plain": [
       "                        trip_instance_key stop_id   stop_pair  \\\n",
       "3151409  ffd7d651605dbca64e7b3f46945f5817    1648  1648__2544   \n",
       "\n",
       "                     st_trip_instance_key  \n",
       "3151409  ffd7d651605dbca64e7b3f46945f5817  "
      ]
     },
     "execution_count": 38,
     "metadata": {},
     "output_type": "execute_result"
    }
   ],
   "source": [
    "shape_stop_combinations.query('st_trip_instance_key == @row.st_trip_instance_key & stop_id == @row.stop_id')"
   ]
  },
  {
   "cell_type": "code",
   "execution_count": 39,
   "id": "2a2ae364-8337-4bc2-9924-01636c323db8",
   "metadata": {},
   "outputs": [],
   "source": [
    "gdf1 = stops_to_use.query('st_trip_instance_key == @row.st_trip_instance_key & stop_id == @row.stop_id')\n",
    "\n",
    "# map pair from shape_stop_combinations_combinations, only using stops_to_use for geom\n",
    "gdf2 = stops_to_use.query('st_trip_instance_key == @row.st_trip_instance_key & stop_id == \"2544\"')"
   ]
  },
  {
   "cell_type": "markdown",
   "id": "b9542072-9bbf-4b70-ad7b-16801c8fcc10",
   "metadata": {},
   "source": [
    "correct, consecutive stops"
   ]
  },
  {
   "cell_type": "code",
   "execution_count": 40,
   "id": "053ace16-8eb0-4260-b39b-c464be6c1077",
   "metadata": {},
   "outputs": [
    {
     "data": {
      "text/html": [
       "<div style=\"width:100%;\"><div style=\"position:relative;width:100%;height:0;padding-bottom:60%;\"><span style=\"color:#565656\">Make this Notebook Trusted to load map: File -> Trust Notebook</span><iframe src=\"about:blank\" style=\"position:absolute;width:100%;height:100%;left:0;top:0;border:none !important;\" data-html=%3C%21DOCTYPE%20html%3E%0A%3Chead%3E%20%20%20%20%0A%20%20%20%20%3Cmeta%20http-equiv%3D%22content-type%22%20content%3D%22text/html%3B%20charset%3DUTF-8%22%20/%3E%0A%20%20%20%20%0A%20%20%20%20%20%20%20%20%3Cscript%3E%0A%20%20%20%20%20%20%20%20%20%20%20%20L_NO_TOUCH%20%3D%20false%3B%0A%20%20%20%20%20%20%20%20%20%20%20%20L_DISABLE_3D%20%3D%20false%3B%0A%20%20%20%20%20%20%20%20%3C/script%3E%0A%20%20%20%20%0A%20%20%20%20%3Cstyle%3Ehtml%2C%20body%20%7Bwidth%3A%20100%25%3Bheight%3A%20100%25%3Bmargin%3A%200%3Bpadding%3A%200%3B%7D%3C/style%3E%0A%20%20%20%20%3Cstyle%3E%23map%20%7Bposition%3Aabsolute%3Btop%3A0%3Bbottom%3A0%3Bright%3A0%3Bleft%3A0%3B%7D%3C/style%3E%0A%20%20%20%20%3Cscript%20src%3D%22https%3A//cdn.jsdelivr.net/npm/leaflet%401.6.0/dist/leaflet.js%22%3E%3C/script%3E%0A%20%20%20%20%3Cscript%20src%3D%22https%3A//code.jquery.com/jquery-1.12.4.min.js%22%3E%3C/script%3E%0A%20%20%20%20%3Cscript%20src%3D%22https%3A//maxcdn.bootstrapcdn.com/bootstrap/3.2.0/js/bootstrap.min.js%22%3E%3C/script%3E%0A%20%20%20%20%3Cscript%20src%3D%22https%3A//cdnjs.cloudflare.com/ajax/libs/Leaflet.awesome-markers/2.0.2/leaflet.awesome-markers.js%22%3E%3C/script%3E%0A%20%20%20%20%3Clink%20rel%3D%22stylesheet%22%20href%3D%22https%3A//cdn.jsdelivr.net/npm/leaflet%401.6.0/dist/leaflet.css%22/%3E%0A%20%20%20%20%3Clink%20rel%3D%22stylesheet%22%20href%3D%22https%3A//maxcdn.bootstrapcdn.com/bootstrap/3.2.0/css/bootstrap.min.css%22/%3E%0A%20%20%20%20%3Clink%20rel%3D%22stylesheet%22%20href%3D%22https%3A//maxcdn.bootstrapcdn.com/bootstrap/3.2.0/css/bootstrap-theme.min.css%22/%3E%0A%20%20%20%20%3Clink%20rel%3D%22stylesheet%22%20href%3D%22https%3A//maxcdn.bootstrapcdn.com/font-awesome/4.6.3/css/font-awesome.min.css%22/%3E%0A%20%20%20%20%3Clink%20rel%3D%22stylesheet%22%20href%3D%22https%3A//cdnjs.cloudflare.com/ajax/libs/Leaflet.awesome-markers/2.0.2/leaflet.awesome-markers.css%22/%3E%0A%20%20%20%20%3Clink%20rel%3D%22stylesheet%22%20href%3D%22https%3A//cdn.jsdelivr.net/gh/python-visualization/folium/folium/templates/leaflet.awesome.rotate.min.css%22/%3E%0A%20%20%20%20%0A%20%20%20%20%20%20%20%20%20%20%20%20%3Cmeta%20name%3D%22viewport%22%20content%3D%22width%3Ddevice-width%2C%0A%20%20%20%20%20%20%20%20%20%20%20%20%20%20%20%20initial-scale%3D1.0%2C%20maximum-scale%3D1.0%2C%20user-scalable%3Dno%22%20/%3E%0A%20%20%20%20%20%20%20%20%20%20%20%20%3Cstyle%3E%0A%20%20%20%20%20%20%20%20%20%20%20%20%20%20%20%20%23map_94eb992bfdc84b40a80f6a3744ead78b%20%7B%0A%20%20%20%20%20%20%20%20%20%20%20%20%20%20%20%20%20%20%20%20position%3A%20relative%3B%0A%20%20%20%20%20%20%20%20%20%20%20%20%20%20%20%20%20%20%20%20width%3A%20100.0%25%3B%0A%20%20%20%20%20%20%20%20%20%20%20%20%20%20%20%20%20%20%20%20height%3A%20100.0%25%3B%0A%20%20%20%20%20%20%20%20%20%20%20%20%20%20%20%20%20%20%20%20left%3A%200.0%25%3B%0A%20%20%20%20%20%20%20%20%20%20%20%20%20%20%20%20%20%20%20%20top%3A%200.0%25%3B%0A%20%20%20%20%20%20%20%20%20%20%20%20%20%20%20%20%7D%0A%20%20%20%20%20%20%20%20%20%20%20%20%3C/style%3E%0A%20%20%20%20%20%20%20%20%0A%20%20%20%20%0A%20%20%20%20%20%20%20%20%20%20%20%20%20%20%20%20%20%20%20%20%3Cstyle%3E%0A%20%20%20%20%20%20%20%20%20%20%20%20%20%20%20%20%20%20%20%20%20%20%20%20.foliumtooltip%20%7B%0A%20%20%20%20%20%20%20%20%20%20%20%20%20%20%20%20%20%20%20%20%20%20%20%20%20%20%20%20%0A%20%20%20%20%20%20%20%20%20%20%20%20%20%20%20%20%20%20%20%20%20%20%20%20%7D%0A%20%20%20%20%20%20%20%20%20%20%20%20%20%20%20%20%20%20%20%20%20%20%20.foliumtooltip%20table%7B%0A%20%20%20%20%20%20%20%20%20%20%20%20%20%20%20%20%20%20%20%20%20%20%20%20%20%20%20%20margin%3A%20auto%3B%0A%20%20%20%20%20%20%20%20%20%20%20%20%20%20%20%20%20%20%20%20%20%20%20%20%7D%0A%20%20%20%20%20%20%20%20%20%20%20%20%20%20%20%20%20%20%20%20%20%20%20%20.foliumtooltip%20tr%7B%0A%20%20%20%20%20%20%20%20%20%20%20%20%20%20%20%20%20%20%20%20%20%20%20%20%20%20%20%20text-align%3A%20left%3B%0A%20%20%20%20%20%20%20%20%20%20%20%20%20%20%20%20%20%20%20%20%20%20%20%20%7D%0A%20%20%20%20%20%20%20%20%20%20%20%20%20%20%20%20%20%20%20%20%20%20%20%20.foliumtooltip%20th%7B%0A%20%20%20%20%20%20%20%20%20%20%20%20%20%20%20%20%20%20%20%20%20%20%20%20%20%20%20%20padding%3A%202px%3B%20padding-right%3A%208px%3B%0A%20%20%20%20%20%20%20%20%20%20%20%20%20%20%20%20%20%20%20%20%20%20%20%20%7D%0A%20%20%20%20%20%20%20%20%20%20%20%20%20%20%20%20%20%20%20%20%3C/style%3E%0A%20%20%20%20%20%20%20%20%20%20%20%20%0A%3C/head%3E%0A%3Cbody%3E%20%20%20%20%0A%20%20%20%20%0A%20%20%20%20%20%20%20%20%20%20%20%20%3Cdiv%20class%3D%22folium-map%22%20id%3D%22map_94eb992bfdc84b40a80f6a3744ead78b%22%20%3E%3C/div%3E%0A%20%20%20%20%20%20%20%20%0A%3C/body%3E%0A%3Cscript%3E%20%20%20%20%0A%20%20%20%20%0A%20%20%20%20%20%20%20%20%20%20%20%20var%20map_94eb992bfdc84b40a80f6a3744ead78b%20%3D%20L.map%28%0A%20%20%20%20%20%20%20%20%20%20%20%20%20%20%20%20%22map_94eb992bfdc84b40a80f6a3744ead78b%22%2C%0A%20%20%20%20%20%20%20%20%20%20%20%20%20%20%20%20%7B%0A%20%20%20%20%20%20%20%20%20%20%20%20%20%20%20%20%20%20%20%20center%3A%20%5B34.03945850000002%2C%20-117.84343900000002%5D%2C%0A%20%20%20%20%20%20%20%20%20%20%20%20%20%20%20%20%20%20%20%20crs%3A%20L.CRS.EPSG3857%2C%0A%20%20%20%20%20%20%20%20%20%20%20%20%20%20%20%20%20%20%20%20zoom%3A%2010%2C%0A%20%20%20%20%20%20%20%20%20%20%20%20%20%20%20%20%20%20%20%20zoomControl%3A%20true%2C%0A%20%20%20%20%20%20%20%20%20%20%20%20%20%20%20%20%20%20%20%20preferCanvas%3A%20false%2C%0A%20%20%20%20%20%20%20%20%20%20%20%20%20%20%20%20%7D%0A%20%20%20%20%20%20%20%20%20%20%20%20%29%3B%0A%20%20%20%20%20%20%20%20%20%20%20%20L.control.scale%28%29.addTo%28map_94eb992bfdc84b40a80f6a3744ead78b%29%3B%0A%0A%20%20%20%20%20%20%20%20%20%20%20%20%0A%0A%20%20%20%20%20%20%20%20%0A%20%20%20%20%0A%20%20%20%20%20%20%20%20%20%20%20%20var%20tile_layer_d6595755053540b1b65f389e64fb46c6%20%3D%20L.tileLayer%28%0A%20%20%20%20%20%20%20%20%20%20%20%20%20%20%20%20%22https%3A//%7Bs%7D.tile.openstreetmap.org/%7Bz%7D/%7Bx%7D/%7By%7D.png%22%2C%0A%20%20%20%20%20%20%20%20%20%20%20%20%20%20%20%20%7B%22attribution%22%3A%20%22Data%20by%20%5Cu0026copy%3B%20%5Cu003ca%20href%3D%5C%22http%3A//openstreetmap.org%5C%22%5Cu003eOpenStreetMap%5Cu003c/a%5Cu003e%2C%20under%20%5Cu003ca%20href%3D%5C%22http%3A//www.openstreetmap.org/copyright%5C%22%5Cu003eODbL%5Cu003c/a%5Cu003e.%22%2C%20%22detectRetina%22%3A%20false%2C%20%22maxNativeZoom%22%3A%2018%2C%20%22maxZoom%22%3A%2018%2C%20%22minZoom%22%3A%200%2C%20%22noWrap%22%3A%20false%2C%20%22opacity%22%3A%201%2C%20%22subdomains%22%3A%20%22abc%22%2C%20%22tms%22%3A%20false%7D%0A%20%20%20%20%20%20%20%20%20%20%20%20%29.addTo%28map_94eb992bfdc84b40a80f6a3744ead78b%29%3B%0A%20%20%20%20%20%20%20%20%0A%20%20%20%20%0A%20%20%20%20%20%20%20%20%20%20%20%20map_94eb992bfdc84b40a80f6a3744ead78b.fitBounds%28%0A%20%20%20%20%20%20%20%20%20%20%20%20%20%20%20%20%5B%5B34.03588600000003%2C%20-117.84708200000001%5D%2C%20%5B34.043031000000006%2C%20-117.839796%5D%5D%2C%0A%20%20%20%20%20%20%20%20%20%20%20%20%20%20%20%20%7B%7D%0A%20%20%20%20%20%20%20%20%20%20%20%20%29%3B%0A%20%20%20%20%20%20%20%20%0A%20%20%20%20%0A%20%20%20%20%20%20%20%20function%20geo_json_7754f8b7b081434486277484a08a61a5_styler%28feature%29%20%7B%0A%20%20%20%20%20%20%20%20%20%20%20%20switch%28feature.id%29%20%7B%0A%20%20%20%20%20%20%20%20%20%20%20%20%20%20%20%20default%3A%0A%20%20%20%20%20%20%20%20%20%20%20%20%20%20%20%20%20%20%20%20return%20%7B%22fillOpacity%22%3A%200.5%2C%20%22weight%22%3A%202%7D%3B%0A%20%20%20%20%20%20%20%20%20%20%20%20%7D%0A%20%20%20%20%20%20%20%20%7D%0A%20%20%20%20%20%20%20%20function%20geo_json_7754f8b7b081434486277484a08a61a5_highlighter%28feature%29%20%7B%0A%20%20%20%20%20%20%20%20%20%20%20%20switch%28feature.id%29%20%7B%0A%20%20%20%20%20%20%20%20%20%20%20%20%20%20%20%20default%3A%0A%20%20%20%20%20%20%20%20%20%20%20%20%20%20%20%20%20%20%20%20return%20%7B%22fillOpacity%22%3A%200.75%7D%3B%0A%20%20%20%20%20%20%20%20%20%20%20%20%7D%0A%20%20%20%20%20%20%20%20%7D%0A%20%20%20%20%20%20%20%20function%20geo_json_7754f8b7b081434486277484a08a61a5_pointToLayer%28feature%2C%20latlng%29%20%7B%0A%20%20%20%20%20%20%20%20%20%20%20%20var%20opts%20%3D%20%7B%22bubblingMouseEvents%22%3A%20true%2C%20%22color%22%3A%20%22%233388ff%22%2C%20%22dashArray%22%3A%20null%2C%20%22dashOffset%22%3A%20null%2C%20%22fill%22%3A%20true%2C%20%22fillColor%22%3A%20%22%233388ff%22%2C%20%22fillOpacity%22%3A%200.2%2C%20%22fillRule%22%3A%20%22evenodd%22%2C%20%22lineCap%22%3A%20%22round%22%2C%20%22lineJoin%22%3A%20%22round%22%2C%20%22opacity%22%3A%201.0%2C%20%22radius%22%3A%202%2C%20%22stroke%22%3A%20true%2C%20%22weight%22%3A%203%7D%3B%0A%20%20%20%20%20%20%20%20%20%20%20%20%0A%20%20%20%20%20%20%20%20%20%20%20%20let%20style%20%3D%20geo_json_7754f8b7b081434486277484a08a61a5_styler%28feature%29%0A%20%20%20%20%20%20%20%20%20%20%20%20Object.assign%28opts%2C%20style%29%0A%20%20%20%20%20%20%20%20%20%20%20%20%0A%20%20%20%20%20%20%20%20%20%20%20%20return%20new%20L.CircleMarker%28latlng%2C%20opts%29%0A%20%20%20%20%20%20%20%20%7D%0A%0A%20%20%20%20%20%20%20%20function%20geo_json_7754f8b7b081434486277484a08a61a5_onEachFeature%28feature%2C%20layer%29%20%7B%0A%20%20%20%20%20%20%20%20%20%20%20%20layer.on%28%7B%0A%20%20%20%20%20%20%20%20%20%20%20%20%20%20%20%20mouseout%3A%20function%28e%29%20%7B%0A%20%20%20%20%20%20%20%20%20%20%20%20%20%20%20%20%20%20%20%20if%28typeof%20e.target.setStyle%20%3D%3D%3D%20%22function%22%29%7B%0A%20%20%20%20%20%20%20%20%20%20%20%20%20%20%20%20%20%20%20%20%20%20%20%20geo_json_7754f8b7b081434486277484a08a61a5.resetStyle%28e.target%29%3B%0A%20%20%20%20%20%20%20%20%20%20%20%20%20%20%20%20%20%20%20%20%7D%0A%20%20%20%20%20%20%20%20%20%20%20%20%20%20%20%20%7D%2C%0A%20%20%20%20%20%20%20%20%20%20%20%20%20%20%20%20mouseover%3A%20function%28e%29%20%7B%0A%20%20%20%20%20%20%20%20%20%20%20%20%20%20%20%20%20%20%20%20if%28typeof%20e.target.setStyle%20%3D%3D%3D%20%22function%22%29%7B%0A%20%20%20%20%20%20%20%20%20%20%20%20%20%20%20%20%20%20%20%20%20%20%20%20const%20highlightStyle%20%3D%20geo_json_7754f8b7b081434486277484a08a61a5_highlighter%28e.target.feature%29%0A%20%20%20%20%20%20%20%20%20%20%20%20%20%20%20%20%20%20%20%20%20%20%20%20e.target.setStyle%28highlightStyle%29%3B%0A%20%20%20%20%20%20%20%20%20%20%20%20%20%20%20%20%20%20%20%20%7D%0A%20%20%20%20%20%20%20%20%20%20%20%20%20%20%20%20%7D%2C%0A%20%20%20%20%20%20%20%20%20%20%20%20%7D%29%3B%0A%20%20%20%20%20%20%20%20%7D%3B%0A%20%20%20%20%20%20%20%20var%20geo_json_7754f8b7b081434486277484a08a61a5%20%3D%20L.geoJson%28null%2C%20%7B%0A%20%20%20%20%20%20%20%20%20%20%20%20%20%20%20%20onEachFeature%3A%20geo_json_7754f8b7b081434486277484a08a61a5_onEachFeature%2C%0A%20%20%20%20%20%20%20%20%20%20%20%20%0A%20%20%20%20%20%20%20%20%20%20%20%20%20%20%20%20style%3A%20geo_json_7754f8b7b081434486277484a08a61a5_styler%2C%0A%20%20%20%20%20%20%20%20%20%20%20%20%20%20%20%20pointToLayer%3A%20geo_json_7754f8b7b081434486277484a08a61a5_pointToLayer%0A%20%20%20%20%20%20%20%20%7D%29%3B%0A%0A%20%20%20%20%20%20%20%20function%20geo_json_7754f8b7b081434486277484a08a61a5_add%20%28data%29%20%7B%0A%20%20%20%20%20%20%20%20%20%20%20%20geo_json_7754f8b7b081434486277484a08a61a5%0A%20%20%20%20%20%20%20%20%20%20%20%20%20%20%20%20.addData%28data%29%0A%20%20%20%20%20%20%20%20%20%20%20%20%20%20%20%20.addTo%28map_94eb992bfdc84b40a80f6a3744ead78b%29%3B%0A%20%20%20%20%20%20%20%20%7D%0A%20%20%20%20%20%20%20%20%20%20%20%20geo_json_7754f8b7b081434486277484a08a61a5_add%28%7B%22bbox%22%3A%20%5B-117.84708200000001%2C%2034.03588600000003%2C%20-117.839796%2C%2034.043031000000006%5D%2C%20%22features%22%3A%20%5B%7B%22bbox%22%3A%20%5B-117.839796%2C%2034.03588600000003%2C%20-117.839796%2C%2034.03588600000003%5D%2C%20%22geometry%22%3A%20%7B%22coordinates%22%3A%20%5B-117.839796%2C%2034.03588600000003%5D%2C%20%22type%22%3A%20%22Point%22%7D%2C%20%22id%22%3A%20%22169577%22%2C%20%22properties%22%3A%20%7B%22shape_array_key%22%3A%20%22a094fd659ed5dffd9c4526cbd6df96c2%22%2C%20%22st_trip_instance_key%22%3A%20%22ffd7d651605dbca64e7b3f46945f5817%22%2C%20%22stop_id%22%3A%20%221648%22%2C%20%22stop_pair%22%3A%20%221648__2877%22%2C%20%22stop_primary_direction%22%3A%20%22Northbound%22%2C%20%22stop_sequence%22%3A%202609%7D%2C%20%22type%22%3A%20%22Feature%22%7D%2C%20%7B%22bbox%22%3A%20%5B-117.84708200000001%2C%2034.043031000000006%2C%20-117.84708200000001%2C%2034.043031000000006%5D%2C%20%22geometry%22%3A%20%7B%22coordinates%22%3A%20%5B-117.84708200000001%2C%2034.043031000000006%5D%2C%20%22type%22%3A%20%22Point%22%7D%2C%20%22id%22%3A%20%22169578%22%2C%20%22properties%22%3A%20%7B%22shape_array_key%22%3A%20%22a094fd659ed5dffd9c4526cbd6df96c2%22%2C%20%22st_trip_instance_key%22%3A%20%22ffd7d651605dbca64e7b3f46945f5817%22%2C%20%22stop_id%22%3A%20%222544%22%2C%20%22stop_pair%22%3A%20%222544__1627%22%2C%20%22stop_primary_direction%22%3A%20%22Westbound%22%2C%20%22stop_sequence%22%3A%202736%7D%2C%20%22type%22%3A%20%22Feature%22%7D%5D%2C%20%22type%22%3A%20%22FeatureCollection%22%7D%29%3B%0A%0A%20%20%20%20%20%20%20%20%0A%20%20%20%20%0A%20%20%20%20geo_json_7754f8b7b081434486277484a08a61a5.bindTooltip%28%0A%20%20%20%20function%28layer%29%7B%0A%20%20%20%20let%20div%20%3D%20L.DomUtil.create%28%27div%27%29%3B%0A%20%20%20%20%0A%20%20%20%20let%20handleObject%20%3D%20feature%3D%3Etypeof%28feature%29%3D%3D%27object%27%20%3F%20JSON.stringify%28feature%29%20%3A%20feature%3B%0A%20%20%20%20let%20fields%20%3D%20%5B%22st_trip_instance_key%22%2C%20%22shape_array_key%22%2C%20%22stop_sequence%22%2C%20%22stop_id%22%2C%20%22stop_pair%22%2C%20%22stop_primary_direction%22%5D%3B%0A%20%20%20%20let%20aliases%20%3D%20%5B%22st_trip_instance_key%22%2C%20%22shape_array_key%22%2C%20%22stop_sequence%22%2C%20%22stop_id%22%2C%20%22stop_pair%22%2C%20%22stop_primary_direction%22%5D%3B%0A%20%20%20%20let%20table%20%3D%20%27%3Ctable%3E%27%20%2B%0A%20%20%20%20%20%20%20%20String%28%0A%20%20%20%20%20%20%20%20fields.map%28%0A%20%20%20%20%20%20%20%20%28v%2Ci%29%3D%3E%0A%20%20%20%20%20%20%20%20%60%3Ctr%3E%0A%20%20%20%20%20%20%20%20%20%20%20%20%3Cth%3E%24%7Baliases%5Bi%5D%7D%3C/th%3E%0A%20%20%20%20%20%20%20%20%20%20%20%20%0A%20%20%20%20%20%20%20%20%20%20%20%20%3Ctd%3E%24%7BhandleObject%28layer.feature.properties%5Bv%5D%29%7D%3C/td%3E%0A%20%20%20%20%20%20%20%20%3C/tr%3E%60%29.join%28%27%27%29%29%0A%20%20%20%20%2B%27%3C/table%3E%27%3B%0A%20%20%20%20div.innerHTML%3Dtable%3B%0A%20%20%20%20%0A%20%20%20%20return%20div%0A%20%20%20%20%7D%0A%20%20%20%20%2C%7B%22className%22%3A%20%22foliumtooltip%22%2C%20%22sticky%22%3A%20true%7D%29%3B%0A%20%20%20%20%20%20%20%20%20%20%20%20%20%20%20%20%20%20%20%20%20%0A%3C/script%3E onload=\"this.contentDocument.open();this.contentDocument.write(    decodeURIComponent(this.getAttribute('data-html')));this.contentDocument.close();\" allowfullscreen webkitallowfullscreen mozallowfullscreen></iframe></div></div>"
      ],
      "text/plain": [
       "<folium.folium.Map at 0x7bd3d03952e0>"
      ]
     },
     "execution_count": 40,
     "metadata": {},
     "output_type": "execute_result"
    }
   ],
   "source": [
    "pd.concat([gdf1, gdf2]).explore()"
   ]
  },
  {
   "cell_type": "code",
   "execution_count": 41,
   "id": "12fe3e45-d612-4812-94ed-3002cc06bb6b",
   "metadata": {},
   "outputs": [],
   "source": [
    "gdf1 = stops_to_use.query('st_trip_instance_key == @row.st_trip_instance_key & stop_id == @row.stop_id')\n",
    "#  from stops_to_use via helpers.import_scheduled_stop_times\n",
    "#  GTFS_DATA_DICT.rt_vs_schedule_tables.stop_times_direction\n",
    "#  written in gtfs_funnel/stop_times_with_direction.py\n",
    "gdf2 = stops_to_use.query('st_trip_instance_key == @row.st_trip_instance_key & stop_id == \"2877\"')"
   ]
  },
  {
   "cell_type": "markdown",
   "id": "76f0b7b9-2394-4731-a95e-2662f5e5b712",
   "metadata": {},
   "source": [
    "very far apart, skipping 20+ stops"
   ]
  },
  {
   "cell_type": "code",
   "execution_count": 42,
   "id": "f153a325-729b-457f-bf51-b0bb4a361603",
   "metadata": {},
   "outputs": [
    {
     "data": {
      "text/html": [
       "<div style=\"width:100%;\"><div style=\"position:relative;width:100%;height:0;padding-bottom:60%;\"><span style=\"color:#565656\">Make this Notebook Trusted to load map: File -> Trust Notebook</span><iframe src=\"about:blank\" style=\"position:absolute;width:100%;height:100%;left:0;top:0;border:none !important;\" data-html=%3C%21DOCTYPE%20html%3E%0A%3Chead%3E%20%20%20%20%0A%20%20%20%20%3Cmeta%20http-equiv%3D%22content-type%22%20content%3D%22text/html%3B%20charset%3DUTF-8%22%20/%3E%0A%20%20%20%20%0A%20%20%20%20%20%20%20%20%3Cscript%3E%0A%20%20%20%20%20%20%20%20%20%20%20%20L_NO_TOUCH%20%3D%20false%3B%0A%20%20%20%20%20%20%20%20%20%20%20%20L_DISABLE_3D%20%3D%20false%3B%0A%20%20%20%20%20%20%20%20%3C/script%3E%0A%20%20%20%20%0A%20%20%20%20%3Cstyle%3Ehtml%2C%20body%20%7Bwidth%3A%20100%25%3Bheight%3A%20100%25%3Bmargin%3A%200%3Bpadding%3A%200%3B%7D%3C/style%3E%0A%20%20%20%20%3Cstyle%3E%23map%20%7Bposition%3Aabsolute%3Btop%3A0%3Bbottom%3A0%3Bright%3A0%3Bleft%3A0%3B%7D%3C/style%3E%0A%20%20%20%20%3Cscript%20src%3D%22https%3A//cdn.jsdelivr.net/npm/leaflet%401.6.0/dist/leaflet.js%22%3E%3C/script%3E%0A%20%20%20%20%3Cscript%20src%3D%22https%3A//code.jquery.com/jquery-1.12.4.min.js%22%3E%3C/script%3E%0A%20%20%20%20%3Cscript%20src%3D%22https%3A//maxcdn.bootstrapcdn.com/bootstrap/3.2.0/js/bootstrap.min.js%22%3E%3C/script%3E%0A%20%20%20%20%3Cscript%20src%3D%22https%3A//cdnjs.cloudflare.com/ajax/libs/Leaflet.awesome-markers/2.0.2/leaflet.awesome-markers.js%22%3E%3C/script%3E%0A%20%20%20%20%3Clink%20rel%3D%22stylesheet%22%20href%3D%22https%3A//cdn.jsdelivr.net/npm/leaflet%401.6.0/dist/leaflet.css%22/%3E%0A%20%20%20%20%3Clink%20rel%3D%22stylesheet%22%20href%3D%22https%3A//maxcdn.bootstrapcdn.com/bootstrap/3.2.0/css/bootstrap.min.css%22/%3E%0A%20%20%20%20%3Clink%20rel%3D%22stylesheet%22%20href%3D%22https%3A//maxcdn.bootstrapcdn.com/bootstrap/3.2.0/css/bootstrap-theme.min.css%22/%3E%0A%20%20%20%20%3Clink%20rel%3D%22stylesheet%22%20href%3D%22https%3A//maxcdn.bootstrapcdn.com/font-awesome/4.6.3/css/font-awesome.min.css%22/%3E%0A%20%20%20%20%3Clink%20rel%3D%22stylesheet%22%20href%3D%22https%3A//cdnjs.cloudflare.com/ajax/libs/Leaflet.awesome-markers/2.0.2/leaflet.awesome-markers.css%22/%3E%0A%20%20%20%20%3Clink%20rel%3D%22stylesheet%22%20href%3D%22https%3A//cdn.jsdelivr.net/gh/python-visualization/folium/folium/templates/leaflet.awesome.rotate.min.css%22/%3E%0A%20%20%20%20%0A%20%20%20%20%20%20%20%20%20%20%20%20%3Cmeta%20name%3D%22viewport%22%20content%3D%22width%3Ddevice-width%2C%0A%20%20%20%20%20%20%20%20%20%20%20%20%20%20%20%20initial-scale%3D1.0%2C%20maximum-scale%3D1.0%2C%20user-scalable%3Dno%22%20/%3E%0A%20%20%20%20%20%20%20%20%20%20%20%20%3Cstyle%3E%0A%20%20%20%20%20%20%20%20%20%20%20%20%20%20%20%20%23map_ebfc56a716c8469cb03e583f4e1a9a6e%20%7B%0A%20%20%20%20%20%20%20%20%20%20%20%20%20%20%20%20%20%20%20%20position%3A%20relative%3B%0A%20%20%20%20%20%20%20%20%20%20%20%20%20%20%20%20%20%20%20%20width%3A%20100.0%25%3B%0A%20%20%20%20%20%20%20%20%20%20%20%20%20%20%20%20%20%20%20%20height%3A%20100.0%25%3B%0A%20%20%20%20%20%20%20%20%20%20%20%20%20%20%20%20%20%20%20%20left%3A%200.0%25%3B%0A%20%20%20%20%20%20%20%20%20%20%20%20%20%20%20%20%20%20%20%20top%3A%200.0%25%3B%0A%20%20%20%20%20%20%20%20%20%20%20%20%20%20%20%20%7D%0A%20%20%20%20%20%20%20%20%20%20%20%20%3C/style%3E%0A%20%20%20%20%20%20%20%20%0A%20%20%20%20%0A%20%20%20%20%20%20%20%20%20%20%20%20%20%20%20%20%20%20%20%20%3Cstyle%3E%0A%20%20%20%20%20%20%20%20%20%20%20%20%20%20%20%20%20%20%20%20%20%20%20%20.foliumtooltip%20%7B%0A%20%20%20%20%20%20%20%20%20%20%20%20%20%20%20%20%20%20%20%20%20%20%20%20%20%20%20%20%0A%20%20%20%20%20%20%20%20%20%20%20%20%20%20%20%20%20%20%20%20%20%20%20%20%7D%0A%20%20%20%20%20%20%20%20%20%20%20%20%20%20%20%20%20%20%20%20%20%20%20.foliumtooltip%20table%7B%0A%20%20%20%20%20%20%20%20%20%20%20%20%20%20%20%20%20%20%20%20%20%20%20%20%20%20%20%20margin%3A%20auto%3B%0A%20%20%20%20%20%20%20%20%20%20%20%20%20%20%20%20%20%20%20%20%20%20%20%20%7D%0A%20%20%20%20%20%20%20%20%20%20%20%20%20%20%20%20%20%20%20%20%20%20%20%20.foliumtooltip%20tr%7B%0A%20%20%20%20%20%20%20%20%20%20%20%20%20%20%20%20%20%20%20%20%20%20%20%20%20%20%20%20text-align%3A%20left%3B%0A%20%20%20%20%20%20%20%20%20%20%20%20%20%20%20%20%20%20%20%20%20%20%20%20%7D%0A%20%20%20%20%20%20%20%20%20%20%20%20%20%20%20%20%20%20%20%20%20%20%20%20.foliumtooltip%20th%7B%0A%20%20%20%20%20%20%20%20%20%20%20%20%20%20%20%20%20%20%20%20%20%20%20%20%20%20%20%20padding%3A%202px%3B%20padding-right%3A%208px%3B%0A%20%20%20%20%20%20%20%20%20%20%20%20%20%20%20%20%20%20%20%20%20%20%20%20%7D%0A%20%20%20%20%20%20%20%20%20%20%20%20%20%20%20%20%20%20%20%20%3C/style%3E%0A%20%20%20%20%20%20%20%20%20%20%20%20%0A%3C/head%3E%0A%3Cbody%3E%20%20%20%20%0A%20%20%20%20%0A%20%20%20%20%20%20%20%20%20%20%20%20%3Cdiv%20class%3D%22folium-map%22%20id%3D%22map_ebfc56a716c8469cb03e583f4e1a9a6e%22%20%3E%3C/div%3E%0A%20%20%20%20%20%20%20%20%0A%3C/body%3E%0A%3Cscript%3E%20%20%20%20%0A%20%20%20%20%0A%20%20%20%20%20%20%20%20%20%20%20%20var%20map_ebfc56a716c8469cb03e583f4e1a9a6e%20%3D%20L.map%28%0A%20%20%20%20%20%20%20%20%20%20%20%20%20%20%20%20%22map_ebfc56a716c8469cb03e583f4e1a9a6e%22%2C%0A%20%20%20%20%20%20%20%20%20%20%20%20%20%20%20%20%7B%0A%20%20%20%20%20%20%20%20%20%20%20%20%20%20%20%20%20%20%20%20center%3A%20%5B34.03695950000001%2C%20-117.9096605%5D%2C%0A%20%20%20%20%20%20%20%20%20%20%20%20%20%20%20%20%20%20%20%20crs%3A%20L.CRS.EPSG3857%2C%0A%20%20%20%20%20%20%20%20%20%20%20%20%20%20%20%20%20%20%20%20zoom%3A%2010%2C%0A%20%20%20%20%20%20%20%20%20%20%20%20%20%20%20%20%20%20%20%20zoomControl%3A%20true%2C%0A%20%20%20%20%20%20%20%20%20%20%20%20%20%20%20%20%20%20%20%20preferCanvas%3A%20false%2C%0A%20%20%20%20%20%20%20%20%20%20%20%20%20%20%20%20%7D%0A%20%20%20%20%20%20%20%20%20%20%20%20%29%3B%0A%20%20%20%20%20%20%20%20%20%20%20%20L.control.scale%28%29.addTo%28map_ebfc56a716c8469cb03e583f4e1a9a6e%29%3B%0A%0A%20%20%20%20%20%20%20%20%20%20%20%20%0A%0A%20%20%20%20%20%20%20%20%0A%20%20%20%20%0A%20%20%20%20%20%20%20%20%20%20%20%20var%20tile_layer_4c4c2906ac2b4428b06ddd42345a9479%20%3D%20L.tileLayer%28%0A%20%20%20%20%20%20%20%20%20%20%20%20%20%20%20%20%22https%3A//%7Bs%7D.tile.openstreetmap.org/%7Bz%7D/%7Bx%7D/%7By%7D.png%22%2C%0A%20%20%20%20%20%20%20%20%20%20%20%20%20%20%20%20%7B%22attribution%22%3A%20%22Data%20by%20%5Cu0026copy%3B%20%5Cu003ca%20href%3D%5C%22http%3A//openstreetmap.org%5C%22%5Cu003eOpenStreetMap%5Cu003c/a%5Cu003e%2C%20under%20%5Cu003ca%20href%3D%5C%22http%3A//www.openstreetmap.org/copyright%5C%22%5Cu003eODbL%5Cu003c/a%5Cu003e.%22%2C%20%22detectRetina%22%3A%20false%2C%20%22maxNativeZoom%22%3A%2018%2C%20%22maxZoom%22%3A%2018%2C%20%22minZoom%22%3A%200%2C%20%22noWrap%22%3A%20false%2C%20%22opacity%22%3A%201%2C%20%22subdomains%22%3A%20%22abc%22%2C%20%22tms%22%3A%20false%7D%0A%20%20%20%20%20%20%20%20%20%20%20%20%29.addTo%28map_ebfc56a716c8469cb03e583f4e1a9a6e%29%3B%0A%20%20%20%20%20%20%20%20%0A%20%20%20%20%0A%20%20%20%20%20%20%20%20%20%20%20%20map_ebfc56a716c8469cb03e583f4e1a9a6e.fitBounds%28%0A%20%20%20%20%20%20%20%20%20%20%20%20%20%20%20%20%5B%5B34.03588600000003%2C%20-117.979525%5D%2C%20%5B34.038032999999984%2C%20-117.839796%5D%5D%2C%0A%20%20%20%20%20%20%20%20%20%20%20%20%20%20%20%20%7B%7D%0A%20%20%20%20%20%20%20%20%20%20%20%20%29%3B%0A%20%20%20%20%20%20%20%20%0A%20%20%20%20%0A%20%20%20%20%20%20%20%20function%20geo_json_b700f06186754c84b4b0994bddfee573_styler%28feature%29%20%7B%0A%20%20%20%20%20%20%20%20%20%20%20%20switch%28feature.id%29%20%7B%0A%20%20%20%20%20%20%20%20%20%20%20%20%20%20%20%20default%3A%0A%20%20%20%20%20%20%20%20%20%20%20%20%20%20%20%20%20%20%20%20return%20%7B%22fillOpacity%22%3A%200.5%2C%20%22weight%22%3A%202%7D%3B%0A%20%20%20%20%20%20%20%20%20%20%20%20%7D%0A%20%20%20%20%20%20%20%20%7D%0A%20%20%20%20%20%20%20%20function%20geo_json_b700f06186754c84b4b0994bddfee573_highlighter%28feature%29%20%7B%0A%20%20%20%20%20%20%20%20%20%20%20%20switch%28feature.id%29%20%7B%0A%20%20%20%20%20%20%20%20%20%20%20%20%20%20%20%20default%3A%0A%20%20%20%20%20%20%20%20%20%20%20%20%20%20%20%20%20%20%20%20return%20%7B%22fillOpacity%22%3A%200.75%7D%3B%0A%20%20%20%20%20%20%20%20%20%20%20%20%7D%0A%20%20%20%20%20%20%20%20%7D%0A%20%20%20%20%20%20%20%20function%20geo_json_b700f06186754c84b4b0994bddfee573_pointToLayer%28feature%2C%20latlng%29%20%7B%0A%20%20%20%20%20%20%20%20%20%20%20%20var%20opts%20%3D%20%7B%22bubblingMouseEvents%22%3A%20true%2C%20%22color%22%3A%20%22%233388ff%22%2C%20%22dashArray%22%3A%20null%2C%20%22dashOffset%22%3A%20null%2C%20%22fill%22%3A%20true%2C%20%22fillColor%22%3A%20%22%233388ff%22%2C%20%22fillOpacity%22%3A%200.2%2C%20%22fillRule%22%3A%20%22evenodd%22%2C%20%22lineCap%22%3A%20%22round%22%2C%20%22lineJoin%22%3A%20%22round%22%2C%20%22opacity%22%3A%201.0%2C%20%22radius%22%3A%202%2C%20%22stroke%22%3A%20true%2C%20%22weight%22%3A%203%7D%3B%0A%20%20%20%20%20%20%20%20%20%20%20%20%0A%20%20%20%20%20%20%20%20%20%20%20%20let%20style%20%3D%20geo_json_b700f06186754c84b4b0994bddfee573_styler%28feature%29%0A%20%20%20%20%20%20%20%20%20%20%20%20Object.assign%28opts%2C%20style%29%0A%20%20%20%20%20%20%20%20%20%20%20%20%0A%20%20%20%20%20%20%20%20%20%20%20%20return%20new%20L.CircleMarker%28latlng%2C%20opts%29%0A%20%20%20%20%20%20%20%20%7D%0A%0A%20%20%20%20%20%20%20%20function%20geo_json_b700f06186754c84b4b0994bddfee573_onEachFeature%28feature%2C%20layer%29%20%7B%0A%20%20%20%20%20%20%20%20%20%20%20%20layer.on%28%7B%0A%20%20%20%20%20%20%20%20%20%20%20%20%20%20%20%20mouseout%3A%20function%28e%29%20%7B%0A%20%20%20%20%20%20%20%20%20%20%20%20%20%20%20%20%20%20%20%20if%28typeof%20e.target.setStyle%20%3D%3D%3D%20%22function%22%29%7B%0A%20%20%20%20%20%20%20%20%20%20%20%20%20%20%20%20%20%20%20%20%20%20%20%20geo_json_b700f06186754c84b4b0994bddfee573.resetStyle%28e.target%29%3B%0A%20%20%20%20%20%20%20%20%20%20%20%20%20%20%20%20%20%20%20%20%7D%0A%20%20%20%20%20%20%20%20%20%20%20%20%20%20%20%20%7D%2C%0A%20%20%20%20%20%20%20%20%20%20%20%20%20%20%20%20mouseover%3A%20function%28e%29%20%7B%0A%20%20%20%20%20%20%20%20%20%20%20%20%20%20%20%20%20%20%20%20if%28typeof%20e.target.setStyle%20%3D%3D%3D%20%22function%22%29%7B%0A%20%20%20%20%20%20%20%20%20%20%20%20%20%20%20%20%20%20%20%20%20%20%20%20const%20highlightStyle%20%3D%20geo_json_b700f06186754c84b4b0994bddfee573_highlighter%28e.target.feature%29%0A%20%20%20%20%20%20%20%20%20%20%20%20%20%20%20%20%20%20%20%20%20%20%20%20e.target.setStyle%28highlightStyle%29%3B%0A%20%20%20%20%20%20%20%20%20%20%20%20%20%20%20%20%20%20%20%20%7D%0A%20%20%20%20%20%20%20%20%20%20%20%20%20%20%20%20%7D%2C%0A%20%20%20%20%20%20%20%20%20%20%20%20%7D%29%3B%0A%20%20%20%20%20%20%20%20%7D%3B%0A%20%20%20%20%20%20%20%20var%20geo_json_b700f06186754c84b4b0994bddfee573%20%3D%20L.geoJson%28null%2C%20%7B%0A%20%20%20%20%20%20%20%20%20%20%20%20%20%20%20%20onEachFeature%3A%20geo_json_b700f06186754c84b4b0994bddfee573_onEachFeature%2C%0A%20%20%20%20%20%20%20%20%20%20%20%20%0A%20%20%20%20%20%20%20%20%20%20%20%20%20%20%20%20style%3A%20geo_json_b700f06186754c84b4b0994bddfee573_styler%2C%0A%20%20%20%20%20%20%20%20%20%20%20%20%20%20%20%20pointToLayer%3A%20geo_json_b700f06186754c84b4b0994bddfee573_pointToLayer%0A%20%20%20%20%20%20%20%20%7D%29%3B%0A%0A%20%20%20%20%20%20%20%20function%20geo_json_b700f06186754c84b4b0994bddfee573_add%20%28data%29%20%7B%0A%20%20%20%20%20%20%20%20%20%20%20%20geo_json_b700f06186754c84b4b0994bddfee573%0A%20%20%20%20%20%20%20%20%20%20%20%20%20%20%20%20.addData%28data%29%0A%20%20%20%20%20%20%20%20%20%20%20%20%20%20%20%20.addTo%28map_ebfc56a716c8469cb03e583f4e1a9a6e%29%3B%0A%20%20%20%20%20%20%20%20%7D%0A%20%20%20%20%20%20%20%20%20%20%20%20geo_json_b700f06186754c84b4b0994bddfee573_add%28%7B%22bbox%22%3A%20%5B-117.979525%2C%2034.03588600000003%2C%20-117.839796%2C%2034.038032999999984%5D%2C%20%22features%22%3A%20%5B%7B%22bbox%22%3A%20%5B-117.839796%2C%2034.03588600000003%2C%20-117.839796%2C%2034.03588600000003%5D%2C%20%22geometry%22%3A%20%7B%22coordinates%22%3A%20%5B-117.839796%2C%2034.03588600000003%5D%2C%20%22type%22%3A%20%22Point%22%7D%2C%20%22id%22%3A%20%22169577%22%2C%20%22properties%22%3A%20%7B%22shape_array_key%22%3A%20%22a094fd659ed5dffd9c4526cbd6df96c2%22%2C%20%22st_trip_instance_key%22%3A%20%22ffd7d651605dbca64e7b3f46945f5817%22%2C%20%22stop_id%22%3A%20%221648%22%2C%20%22stop_pair%22%3A%20%221648__2877%22%2C%20%22stop_primary_direction%22%3A%20%22Northbound%22%2C%20%22stop_sequence%22%3A%202609%7D%2C%20%22type%22%3A%20%22Feature%22%7D%2C%20%7B%22bbox%22%3A%20%5B-117.979525%2C%2034.038032999999984%2C%20-117.979525%2C%2034.038032999999984%5D%2C%20%22geometry%22%3A%20%7B%22coordinates%22%3A%20%5B-117.979525%2C%2034.038032999999984%5D%2C%20%22type%22%3A%20%22Point%22%7D%2C%20%22id%22%3A%20%22169549%22%2C%20%22properties%22%3A%20%7B%22shape_array_key%22%3A%20%22a094fd659ed5dffd9c4526cbd6df96c2%22%2C%20%22st_trip_instance_key%22%3A%20%22ffd7d651605dbca64e7b3f46945f5817%22%2C%20%22stop_id%22%3A%20%222877%22%2C%20%22stop_pair%22%3A%20%222877__2627%22%2C%20%22stop_primary_direction%22%3A%20%22Westbound%22%2C%20%22stop_sequence%22%3A%201002%7D%2C%20%22type%22%3A%20%22Feature%22%7D%5D%2C%20%22type%22%3A%20%22FeatureCollection%22%7D%29%3B%0A%0A%20%20%20%20%20%20%20%20%0A%20%20%20%20%0A%20%20%20%20geo_json_b700f06186754c84b4b0994bddfee573.bindTooltip%28%0A%20%20%20%20function%28layer%29%7B%0A%20%20%20%20let%20div%20%3D%20L.DomUtil.create%28%27div%27%29%3B%0A%20%20%20%20%0A%20%20%20%20let%20handleObject%20%3D%20feature%3D%3Etypeof%28feature%29%3D%3D%27object%27%20%3F%20JSON.stringify%28feature%29%20%3A%20feature%3B%0A%20%20%20%20let%20fields%20%3D%20%5B%22st_trip_instance_key%22%2C%20%22shape_array_key%22%2C%20%22stop_sequence%22%2C%20%22stop_id%22%2C%20%22stop_pair%22%2C%20%22stop_primary_direction%22%5D%3B%0A%20%20%20%20let%20aliases%20%3D%20%5B%22st_trip_instance_key%22%2C%20%22shape_array_key%22%2C%20%22stop_sequence%22%2C%20%22stop_id%22%2C%20%22stop_pair%22%2C%20%22stop_primary_direction%22%5D%3B%0A%20%20%20%20let%20table%20%3D%20%27%3Ctable%3E%27%20%2B%0A%20%20%20%20%20%20%20%20String%28%0A%20%20%20%20%20%20%20%20fields.map%28%0A%20%20%20%20%20%20%20%20%28v%2Ci%29%3D%3E%0A%20%20%20%20%20%20%20%20%60%3Ctr%3E%0A%20%20%20%20%20%20%20%20%20%20%20%20%3Cth%3E%24%7Baliases%5Bi%5D%7D%3C/th%3E%0A%20%20%20%20%20%20%20%20%20%20%20%20%0A%20%20%20%20%20%20%20%20%20%20%20%20%3Ctd%3E%24%7BhandleObject%28layer.feature.properties%5Bv%5D%29%7D%3C/td%3E%0A%20%20%20%20%20%20%20%20%3C/tr%3E%60%29.join%28%27%27%29%29%0A%20%20%20%20%2B%27%3C/table%3E%27%3B%0A%20%20%20%20div.innerHTML%3Dtable%3B%0A%20%20%20%20%0A%20%20%20%20return%20div%0A%20%20%20%20%7D%0A%20%20%20%20%2C%7B%22className%22%3A%20%22foliumtooltip%22%2C%20%22sticky%22%3A%20true%7D%29%3B%0A%20%20%20%20%20%20%20%20%20%20%20%20%20%20%20%20%20%20%20%20%20%0A%3C/script%3E onload=\"this.contentDocument.open();this.contentDocument.write(    decodeURIComponent(this.getAttribute('data-html')));this.contentDocument.close();\" allowfullscreen webkitallowfullscreen mozallowfullscreen></iframe></div></div>"
      ],
      "text/plain": [
       "<folium.folium.Map at 0x7bd36e52e9a0>"
      ]
     },
     "execution_count": 42,
     "metadata": {},
     "output_type": "execute_result"
    }
   ],
   "source": [
    "pd.concat([gdf1, gdf2]).explore()"
   ]
  },
  {
   "cell_type": "code",
   "execution_count": 43,
   "id": "8d4f2550-8632-40a9-9c60-a2efaed5c09f",
   "metadata": {},
   "outputs": [],
   "source": [
    "trips = helpers.import_scheduled_trips(analysis_date, columns=['trip_instance_key', 'route_short_name', 'name',\n",
    "                                                              'feed_key', 'trip_id'])"
   ]
  },
  {
   "cell_type": "markdown",
   "id": "0b698e74-19c7-4421-8d2f-37acf037905d",
   "metadata": {},
   "source": [
    "### Another comparison\n",
    "\n",
    "referrring back to plain stop_times, the stop_pairs from shape_stop_combinations are in sequence while those from stops_to_use again skip many stops. It seems like the first part of stop_pair there is correct, but the second part is not actually the subsequent stop"
   ]
  },
  {
   "cell_type": "code",
   "execution_count": 44,
   "id": "f3f912c2-474a-4384-9530-e31ebe5f4806",
   "metadata": {},
   "outputs": [
    {
     "data": {
      "text/html": [
       "<div>\n",
       "<style scoped>\n",
       "    .dataframe tbody tr th:only-of-type {\n",
       "        vertical-align: middle;\n",
       "    }\n",
       "\n",
       "    .dataframe tbody tr th {\n",
       "        vertical-align: top;\n",
       "    }\n",
       "\n",
       "    .dataframe thead th {\n",
       "        text-align: right;\n",
       "    }\n",
       "</style>\n",
       "<table border=\"1\" class=\"dataframe\">\n",
       "  <thead>\n",
       "    <tr style=\"text-align: right;\">\n",
       "      <th></th>\n",
       "      <th>trip_instance_key</th>\n",
       "      <th>route_short_name</th>\n",
       "      <th>name</th>\n",
       "      <th>feed_key</th>\n",
       "      <th>trip_id</th>\n",
       "    </tr>\n",
       "  </thead>\n",
       "  <tbody>\n",
       "    <tr>\n",
       "      <th>36933</th>\n",
       "      <td>0c9b170807546736de0820cf8860bc00</td>\n",
       "      <td>169</td>\n",
       "      <td>LA Metro Bus Schedule</td>\n",
       "      <td>7a5a0fa93eb3c7a402c0887a4f11f066</td>\n",
       "      <td>10169001531434-DEC24</td>\n",
       "    </tr>\n",
       "  </tbody>\n",
       "</table>\n",
       "</div>"
      ],
      "text/plain": [
       "                      trip_instance_key route_short_name  \\\n",
       "36933  0c9b170807546736de0820cf8860bc00              169   \n",
       "\n",
       "                        name                          feed_key  \\\n",
       "36933  LA Metro Bus Schedule  7a5a0fa93eb3c7a402c0887a4f11f066   \n",
       "\n",
       "                    trip_id  \n",
       "36933  10169001531434-DEC24  "
      ]
     },
     "execution_count": 44,
     "metadata": {},
     "output_type": "execute_result"
    }
   ],
   "source": [
    "trips.query('trip_instance_key == \"0c9b170807546736de0820cf8860bc00\"')"
   ]
  },
  {
   "cell_type": "code",
   "execution_count": 54,
   "id": "24a2ee38-5e50-452f-bab8-406fdfbcfb90",
   "metadata": {},
   "outputs": [
    {
     "data": {
      "text/html": [
       "<div>\n",
       "<style scoped>\n",
       "    .dataframe tbody tr th:only-of-type {\n",
       "        vertical-align: middle;\n",
       "    }\n",
       "\n",
       "    .dataframe tbody tr th {\n",
       "        vertical-align: top;\n",
       "    }\n",
       "\n",
       "    .dataframe thead th {\n",
       "        text-align: right;\n",
       "    }\n",
       "</style>\n",
       "<table border=\"1\" class=\"dataframe\">\n",
       "  <thead>\n",
       "    <tr style=\"text-align: right;\">\n",
       "      <th></th>\n",
       "      <th>trip_instance_key</th>\n",
       "      <th>stop_id</th>\n",
       "      <th>stop_pair</th>\n",
       "      <th>st_trip_instance_key</th>\n",
       "    </tr>\n",
       "  </thead>\n",
       "  <tbody>\n",
       "    <tr>\n",
       "      <th>2432353</th>\n",
       "      <td>0c9b170807546736de0820cf8860bc00</td>\n",
       "      <td>30021</td>\n",
       "      <td>30021__3625</td>\n",
       "      <td>0c9b170807546736de0820cf8860bc00</td>\n",
       "    </tr>\n",
       "    <tr>\n",
       "      <th>2432354</th>\n",
       "      <td>0c9b170807546736de0820cf8860bc00</td>\n",
       "      <td>3625</td>\n",
       "      <td>3625__12116</td>\n",
       "      <td>0c9b170807546736de0820cf8860bc00</td>\n",
       "    </tr>\n",
       "    <tr>\n",
       "      <th>2432355</th>\n",
       "      <td>0c9b170807546736de0820cf8860bc00</td>\n",
       "      <td>12116</td>\n",
       "      <td>12116__2499</td>\n",
       "      <td>0c9b170807546736de0820cf8860bc00</td>\n",
       "    </tr>\n",
       "  </tbody>\n",
       "</table>\n",
       "</div>"
      ],
      "text/plain": [
       "                        trip_instance_key stop_id    stop_pair  \\\n",
       "2432353  0c9b170807546736de0820cf8860bc00   30021  30021__3625   \n",
       "2432354  0c9b170807546736de0820cf8860bc00    3625  3625__12116   \n",
       "2432355  0c9b170807546736de0820cf8860bc00   12116  12116__2499   \n",
       "\n",
       "                     st_trip_instance_key  \n",
       "2432353  0c9b170807546736de0820cf8860bc00  \n",
       "2432354  0c9b170807546736de0820cf8860bc00  \n",
       "2432355  0c9b170807546736de0820cf8860bc00  "
      ]
     },
     "execution_count": 54,
     "metadata": {},
     "output_type": "execute_result"
    }
   ],
   "source": [
    "shape_stop_combinations.query('trip_instance_key == \"0c9b170807546736de0820cf8860bc00\"').head(3)"
   ]
  },
  {
   "cell_type": "code",
   "execution_count": 53,
   "id": "416c311e-d4d3-4f0f-9384-3befe2e6e71c",
   "metadata": {},
   "outputs": [
    {
     "data": {
      "text/html": [
       "<div>\n",
       "<style scoped>\n",
       "    .dataframe tbody tr th:only-of-type {\n",
       "        vertical-align: middle;\n",
       "    }\n",
       "\n",
       "    .dataframe tbody tr th {\n",
       "        vertical-align: top;\n",
       "    }\n",
       "\n",
       "    .dataframe thead th {\n",
       "        text-align: right;\n",
       "    }\n",
       "</style>\n",
       "<table border=\"1\" class=\"dataframe\">\n",
       "  <thead>\n",
       "    <tr style=\"text-align: right;\">\n",
       "      <th></th>\n",
       "      <th>st_trip_instance_key</th>\n",
       "      <th>shape_array_key</th>\n",
       "      <th>stop_sequence</th>\n",
       "      <th>stop_id</th>\n",
       "      <th>stop_pair</th>\n",
       "      <th>stop_primary_direction</th>\n",
       "      <th>geometry</th>\n",
       "    </tr>\n",
       "  </thead>\n",
       "  <tbody>\n",
       "    <tr>\n",
       "      <th>69818</th>\n",
       "      <td>0c9b170807546736de0820cf8860bc00</td>\n",
       "      <td>59459dbb9f7ce418d6f88f65e905d583</td>\n",
       "      <td>1</td>\n",
       "      <td>30021</td>\n",
       "      <td>30021__3325</td>\n",
       "      <td>Eastbound</td>\n",
       "      <td>POINT (151920.171 -423388.371)</td>\n",
       "    </tr>\n",
       "    <tr>\n",
       "      <th>69819</th>\n",
       "      <td>0c9b170807546736de0820cf8860bc00</td>\n",
       "      <td>59459dbb9f7ce418d6f88f65e905d583</td>\n",
       "      <td>2</td>\n",
       "      <td>3625</td>\n",
       "      <td>3625__3252</td>\n",
       "      <td>Eastbound</td>\n",
       "      <td>POINT (152164.852 -423047.563)</td>\n",
       "    </tr>\n",
       "    <tr>\n",
       "      <th>69820</th>\n",
       "      <td>0c9b170807546736de0820cf8860bc00</td>\n",
       "      <td>59459dbb9f7ce418d6f88f65e905d583</td>\n",
       "      <td>3</td>\n",
       "      <td>12116</td>\n",
       "      <td>12116__14463</td>\n",
       "      <td>Eastbound</td>\n",
       "      <td>POINT (152163.927 -422698.157)</td>\n",
       "    </tr>\n",
       "  </tbody>\n",
       "</table>\n",
       "</div>"
      ],
      "text/plain": [
       "                   st_trip_instance_key                   shape_array_key  \\\n",
       "69818  0c9b170807546736de0820cf8860bc00  59459dbb9f7ce418d6f88f65e905d583   \n",
       "69819  0c9b170807546736de0820cf8860bc00  59459dbb9f7ce418d6f88f65e905d583   \n",
       "69820  0c9b170807546736de0820cf8860bc00  59459dbb9f7ce418d6f88f65e905d583   \n",
       "\n",
       "       stop_sequence stop_id     stop_pair stop_primary_direction  \\\n",
       "69818              1   30021   30021__3325              Eastbound   \n",
       "69819              2    3625    3625__3252              Eastbound   \n",
       "69820              3   12116  12116__14463              Eastbound   \n",
       "\n",
       "                             geometry  \n",
       "69818  POINT (151920.171 -423388.371)  \n",
       "69819  POINT (152164.852 -423047.563)  \n",
       "69820  POINT (152163.927 -422698.157)  "
      ]
     },
     "execution_count": 53,
     "metadata": {},
     "output_type": "execute_result"
    }
   ],
   "source": [
    "stops_to_use.query('st_trip_instance_key == \"0c9b170807546736de0820cf8860bc00\"').head(3)"
   ]
  },
  {
   "cell_type": "code",
   "execution_count": 47,
   "id": "114d69ac-6ca8-43c9-8271-b722edf2aa27",
   "metadata": {},
   "outputs": [],
   "source": [
    "st_no_dir = helpers.import_scheduled_stop_times(analysis_date, with_direction=False, get_pandas=True,\n",
    "                                               columns=['feed_key', 'trip_id', 'stop_sequence',\n",
    "                                                       'stop_id'])"
   ]
  },
  {
   "cell_type": "code",
   "execution_count": 48,
   "id": "07329da2-611a-4ffc-81de-cd84837b1bce",
   "metadata": {},
   "outputs": [
    {
     "data": {
      "text/html": [
       "<div>\n",
       "<style scoped>\n",
       "    .dataframe tbody tr th:only-of-type {\n",
       "        vertical-align: middle;\n",
       "    }\n",
       "\n",
       "    .dataframe tbody tr th {\n",
       "        vertical-align: top;\n",
       "    }\n",
       "\n",
       "    .dataframe thead th {\n",
       "        text-align: right;\n",
       "    }\n",
       "</style>\n",
       "<table border=\"1\" class=\"dataframe\">\n",
       "  <thead>\n",
       "    <tr style=\"text-align: right;\">\n",
       "      <th></th>\n",
       "      <th>feed_key</th>\n",
       "      <th>trip_id</th>\n",
       "      <th>stop_sequence</th>\n",
       "      <th>stop_id</th>\n",
       "    </tr>\n",
       "  </thead>\n",
       "  <tbody>\n",
       "    <tr>\n",
       "      <th>2448922</th>\n",
       "      <td>7a5a0fa93eb3c7a402c0887a4f11f066</td>\n",
       "      <td>10169001531434-DEC24</td>\n",
       "      <td>1</td>\n",
       "      <td>30021</td>\n",
       "    </tr>\n",
       "    <tr>\n",
       "      <th>1766211</th>\n",
       "      <td>7a5a0fa93eb3c7a402c0887a4f11f066</td>\n",
       "      <td>10169001531434-DEC24</td>\n",
       "      <td>2</td>\n",
       "      <td>3625</td>\n",
       "    </tr>\n",
       "    <tr>\n",
       "      <th>3255026</th>\n",
       "      <td>7a5a0fa93eb3c7a402c0887a4f11f066</td>\n",
       "      <td>10169001531434-DEC24</td>\n",
       "      <td>3</td>\n",
       "      <td>12116</td>\n",
       "    </tr>\n",
       "    <tr>\n",
       "      <th>1279772</th>\n",
       "      <td>7a5a0fa93eb3c7a402c0887a4f11f066</td>\n",
       "      <td>10169001531434-DEC24</td>\n",
       "      <td>4</td>\n",
       "      <td>2499</td>\n",
       "    </tr>\n",
       "    <tr>\n",
       "      <th>779733</th>\n",
       "      <td>7a5a0fa93eb3c7a402c0887a4f11f066</td>\n",
       "      <td>10169001531434-DEC24</td>\n",
       "      <td>5</td>\n",
       "      <td>3567</td>\n",
       "    </tr>\n",
       "    <tr>\n",
       "      <th>...</th>\n",
       "      <td>...</td>\n",
       "      <td>...</td>\n",
       "      <td>...</td>\n",
       "      <td>...</td>\n",
       "    </tr>\n",
       "    <tr>\n",
       "      <th>1278824</th>\n",
       "      <td>7a5a0fa93eb3c7a402c0887a4f11f066</td>\n",
       "      <td>10169001531434-DEC24</td>\n",
       "      <td>130</td>\n",
       "      <td>6575</td>\n",
       "    </tr>\n",
       "    <tr>\n",
       "      <th>2925060</th>\n",
       "      <td>7a5a0fa93eb3c7a402c0887a4f11f066</td>\n",
       "      <td>10169001531434-DEC24</td>\n",
       "      <td>131</td>\n",
       "      <td>6597</td>\n",
       "    </tr>\n",
       "    <tr>\n",
       "      <th>2753655</th>\n",
       "      <td>7a5a0fa93eb3c7a402c0887a4f11f066</td>\n",
       "      <td>10169001531434-DEC24</td>\n",
       "      <td>132</td>\n",
       "      <td>7148</td>\n",
       "    </tr>\n",
       "    <tr>\n",
       "      <th>1436805</th>\n",
       "      <td>7a5a0fa93eb3c7a402c0887a4f11f066</td>\n",
       "      <td>10169001531434-DEC24</td>\n",
       "      <td>133</td>\n",
       "      <td>5507</td>\n",
       "    </tr>\n",
       "    <tr>\n",
       "      <th>1623189</th>\n",
       "      <td>7a5a0fa93eb3c7a402c0887a4f11f066</td>\n",
       "      <td>10169001531434-DEC24</td>\n",
       "      <td>134</td>\n",
       "      <td>5505</td>\n",
       "    </tr>\n",
       "  </tbody>\n",
       "</table>\n",
       "<p>134 rows × 4 columns</p>\n",
       "</div>"
      ],
      "text/plain": [
       "                                 feed_key               trip_id  \\\n",
       "2448922  7a5a0fa93eb3c7a402c0887a4f11f066  10169001531434-DEC24   \n",
       "1766211  7a5a0fa93eb3c7a402c0887a4f11f066  10169001531434-DEC24   \n",
       "3255026  7a5a0fa93eb3c7a402c0887a4f11f066  10169001531434-DEC24   \n",
       "1279772  7a5a0fa93eb3c7a402c0887a4f11f066  10169001531434-DEC24   \n",
       "779733   7a5a0fa93eb3c7a402c0887a4f11f066  10169001531434-DEC24   \n",
       "...                                   ...                   ...   \n",
       "1278824  7a5a0fa93eb3c7a402c0887a4f11f066  10169001531434-DEC24   \n",
       "2925060  7a5a0fa93eb3c7a402c0887a4f11f066  10169001531434-DEC24   \n",
       "2753655  7a5a0fa93eb3c7a402c0887a4f11f066  10169001531434-DEC24   \n",
       "1436805  7a5a0fa93eb3c7a402c0887a4f11f066  10169001531434-DEC24   \n",
       "1623189  7a5a0fa93eb3c7a402c0887a4f11f066  10169001531434-DEC24   \n",
       "\n",
       "         stop_sequence stop_id  \n",
       "2448922              1   30021  \n",
       "1766211              2    3625  \n",
       "3255026              3   12116  \n",
       "1279772              4    2499  \n",
       "779733               5    3567  \n",
       "...                ...     ...  \n",
       "1278824            130    6575  \n",
       "2925060            131    6597  \n",
       "2753655            132    7148  \n",
       "1436805            133    5507  \n",
       "1623189            134    5505  \n",
       "\n",
       "[134 rows x 4 columns]"
      ]
     },
     "execution_count": 48,
     "metadata": {},
     "output_type": "execute_result"
    }
   ],
   "source": [
    "st_no_dir.query('feed_key == \"7a5a0fa93eb3c7a402c0887a4f11f066\" & trip_id == \"10169001531434-DEC24\"').sort_values('stop_sequence')"
   ]
  },
  {
   "cell_type": "code",
   "execution_count": 52,
   "id": "e44785f7-d8cc-4a84-8290-41f5ad590b4b",
   "metadata": {},
   "outputs": [
    {
     "data": {
      "text/html": [
       "<div>\n",
       "<style scoped>\n",
       "    .dataframe tbody tr th:only-of-type {\n",
       "        vertical-align: middle;\n",
       "    }\n",
       "\n",
       "    .dataframe tbody tr th {\n",
       "        vertical-align: top;\n",
       "    }\n",
       "\n",
       "    .dataframe thead th {\n",
       "        text-align: right;\n",
       "    }\n",
       "</style>\n",
       "<table border=\"1\" class=\"dataframe\">\n",
       "  <thead>\n",
       "    <tr style=\"text-align: right;\">\n",
       "      <th></th>\n",
       "      <th>feed_key</th>\n",
       "      <th>trip_id</th>\n",
       "      <th>stop_sequence</th>\n",
       "      <th>stop_id</th>\n",
       "    </tr>\n",
       "  </thead>\n",
       "  <tbody>\n",
       "    <tr>\n",
       "      <th>1608478</th>\n",
       "      <td>7a5a0fa93eb3c7a402c0887a4f11f066</td>\n",
       "      <td>10169001531434-DEC24</td>\n",
       "      <td>118</td>\n",
       "      <td>3325</td>\n",
       "    </tr>\n",
       "  </tbody>\n",
       "</table>\n",
       "</div>"
      ],
      "text/plain": [
       "                                 feed_key               trip_id  \\\n",
       "1608478  7a5a0fa93eb3c7a402c0887a4f11f066  10169001531434-DEC24   \n",
       "\n",
       "         stop_sequence stop_id  \n",
       "1608478            118    3325  "
      ]
     },
     "execution_count": 52,
     "metadata": {},
     "output_type": "execute_result"
    }
   ],
   "source": [
    "(st_no_dir.query('feed_key == \"7a5a0fa93eb3c7a402c0887a4f11f066\" & trip_id == \"10169001531434-DEC24\"'\n",
    "                ).sort_values('stop_sequence'\n",
    "                ).query('stop_id == \"3325\"')\n",
    "\n",
    ")\n",
    "#  stop_sequence 118 but expect 2!"
   ]
  },
  {
   "cell_type": "markdown",
   "id": "09acfafa-fa1e-4137-ad76-3d4a893743c2",
   "metadata": {},
   "source": [
    "### December data"
   ]
  },
  {
   "cell_type": "code",
   "execution_count": 49,
   "id": "3ce7796d-d15d-4257-9d80-d1021e5211d1",
   "metadata": {},
   "outputs": [],
   "source": [
    "stops_to_use2 = helpers.import_scheduled_stop_times(\n",
    "    analysis_date_dec,\n",
    "    columns = [\"trip_instance_key\", \"shape_array_key\",\n",
    "               \"stop_sequence\", \"stop_id\", \"stop_pair\",\n",
    "               \"stop_primary_direction\", \"geometry\"],\n",
    "    filters = [[(\"trip_instance_key\", \"in\", subset_trips2)]],\n",
    "    get_pandas = True,\n",
    "    with_direction = True\n",
    ").rename(columns = {\"trip_instance_key\": \"st_trip_instance_key\"})"
   ]
  },
  {
   "cell_type": "code",
   "execution_count": 50,
   "id": "7319e8b3-2ba6-47b9-a552-c635d8ce4a2d",
   "metadata": {},
   "outputs": [],
   "source": [
    "left_merge2 = pd.merge(\n",
    "    stops_to_use2,\n",
    "    shape_stop_combinations2,\n",
    "    on = [\"st_trip_instance_key\", \"stop_id\", \"stop_pair\"],\n",
    "    how = \"left\",\n",
    "    indicator=True\n",
    ")"
   ]
  },
  {
   "cell_type": "code",
   "execution_count": 51,
   "id": "ca6140c6-5574-4c1c-9034-c6e12722b16c",
   "metadata": {},
   "outputs": [
    {
     "data": {
      "text/plain": [
       "both          3134260\n",
       "left_only        5232\n",
       "right_only          0\n",
       "Name: _merge, dtype: int64"
      ]
     },
     "execution_count": 51,
     "metadata": {},
     "output_type": "execute_result"
    }
   ],
   "source": [
    "left_merge2._merge.value_counts()"
   ]
  },
  {
   "cell_type": "markdown",
   "id": "4231d5de-2fbf-47f8-88cb-7648c3186e79",
   "metadata": {
    "jp-MarkdownHeadingCollapsed": true,
    "tags": []
   },
   "source": [
    "# Averaging seems to work OK actually, problem in previous step"
   ]
  },
  {
   "cell_type": "code",
   "execution_count": 38,
   "id": "1b82a625-85a5-47d0-b7c5-4ef19d70139e",
   "metadata": {},
   "outputs": [],
   "source": [
    "dict_inputs = catalog[\"stop_segments\"]\n",
    "shape_stop_combinations_COLS = [*dict_inputs[\"shape_stop_combinations_cols\"]]\n",
    "ROUTE_DIR_COLS = [*dict_inputs[\"route_dir_cols\"]]\n",
    "STOP_PAIR_COLS = [*dict_inputs[\"stop_pair_cols\"]]"
   ]
  },
  {
   "cell_type": "code",
   "execution_count": 39,
   "id": "1f3a3b54-4e78-4e1c-b82b-afe6b56a76f7",
   "metadata": {},
   "outputs": [],
   "source": [
    "SPEED_FILE = dict_inputs[\"stage4\"]\n",
    "MAX_SPEED = dict_inputs[\"max_speed\"]"
   ]
  },
  {
   "cell_type": "code",
   "execution_count": 45,
   "id": "e20de26d-facd-4a55-91be-58655308cc17",
   "metadata": {},
   "outputs": [
    {
     "data": {
      "text/plain": [
       "['2025-01-15']"
      ]
     },
     "execution_count": 45,
     "metadata": {},
     "output_type": "execute_result"
    }
   ],
   "source": [
    "analysis_date_list"
   ]
  },
  {
   "cell_type": "code",
   "execution_count": 71,
   "id": "b6c7206e-e2e8-490d-9979-3ba08f12c483",
   "metadata": {},
   "outputs": [
    {
     "data": {
      "text/plain": [
       "'speeds_stop_segments'"
      ]
     },
     "execution_count": 71,
     "metadata": {},
     "output_type": "execute_result"
    }
   ],
   "source": [
    "SPEED_FILE"
   ]
  },
  {
   "cell_type": "code",
   "execution_count": 46,
   "id": "aa1ef396-7508-4852-adf6-f48f1f889a54",
   "metadata": {},
   "outputs": [],
   "source": [
    "path = 'gs://calitp-analytics-data/data-analyses/rt_segment_speeds/speedmap/speeds_2025-01-15.parquet'"
   ]
  },
  {
   "cell_type": "code",
   "execution_count": 48,
   "id": "fa747a53-ab29-47e0-aab6-9f0b45b81450",
   "metadata": {},
   "outputs": [],
   "source": [
    "df = pd.read_parquet(\n",
    "            path,\n",
    "            # **kwargs,\n",
    "        ).drop_duplicates()"
   ]
  },
  {
   "cell_type": "code",
   "execution_count": 53,
   "id": "8cff9d11-716d-4ba2-b4d1-4e28db42cdc4",
   "metadata": {},
   "outputs": [],
   "source": [
    "path = 'gs://calitp-analytics-data/data-analyses/rt_segment_speeds/speedmap/speeds'"
   ]
  },
  {
   "cell_type": "code",
   "execution_count": 55,
   "id": "fbff6d6b-94c7-4d6a-83e9-9cf8f869c350",
   "metadata": {},
   "outputs": [
    {
     "data": {
      "text/plain": [
       "['2025-01-15']"
      ]
     },
     "execution_count": 55,
     "metadata": {},
     "output_type": "execute_result"
    }
   ],
   "source": [
    "analysis_date_list"
   ]
  },
  {
   "cell_type": "code",
   "execution_count": 68,
   "id": "3f10f9f4-9046-4b12-a086-2034b1e1bdf1",
   "metadata": {},
   "outputs": [],
   "source": [
    "# ddf=dask_utils.get_ddf([path], analysis_date_list, 'df', get_pandas = False, add_date = True) #  this is fine\n",
    "ddf=dask_utils.get_ddf([path], analysis_date_list, 'df', get_pandas = False,\n",
    "                       add_date = True, columns = cols, filters = [[(\"speed_mph\", \"<=\", MAX_SPEED)]])"
   ]
  },
  {
   "cell_type": "code",
   "execution_count": 69,
   "id": "2a22ab6e-fe10-48c3-a2e9-1ef44aa249e1",
   "metadata": {},
   "outputs": [
    {
     "data": {
      "text/html": [
       "<div>\n",
       "<style scoped>\n",
       "    .dataframe tbody tr th:only-of-type {\n",
       "        vertical-align: middle;\n",
       "    }\n",
       "\n",
       "    .dataframe tbody tr th {\n",
       "        vertical-align: top;\n",
       "    }\n",
       "\n",
       "    .dataframe thead th {\n",
       "        text-align: right;\n",
       "    }\n",
       "</style>\n",
       "<table border=\"1\" class=\"dataframe\">\n",
       "  <thead>\n",
       "    <tr style=\"text-align: right;\">\n",
       "      <th></th>\n",
       "      <th>schedule_gtfs_dataset_key</th>\n",
       "      <th>shape_array_key</th>\n",
       "      <th>shape_id</th>\n",
       "      <th>stop_sequence</th>\n",
       "      <th>route_id</th>\n",
       "      <th>direction_id</th>\n",
       "      <th>stop_pair</th>\n",
       "      <th>stop_pair_name</th>\n",
       "      <th>trip_instance_key</th>\n",
       "      <th>speed_mph</th>\n",
       "      <th>meters_elapsed</th>\n",
       "      <th>sec_elapsed</th>\n",
       "      <th>time_of_day</th>\n",
       "      <th>arrival_time</th>\n",
       "      <th>service_date</th>\n",
       "    </tr>\n",
       "  </thead>\n",
       "  <tbody>\n",
       "    <tr>\n",
       "      <th>0</th>\n",
       "      <td>baeeb157e85a901e47b828ef9fe75091</td>\n",
       "      <td>5abad00eed316250607a32ab7aa38fa7</td>\n",
       "      <td>906_8_38</td>\n",
       "      <td>2</td>\n",
       "      <td>906</td>\n",
       "      <td>0.0</td>\n",
       "      <td>60308__60310</td>\n",
       "      <td>Beyer Bl &amp; Iris Av__Beyer Bl &amp; Precision Park Ln</td>\n",
       "      <td>00001f273308970887743ce0c3acf068</td>\n",
       "      <td>3.443793</td>\n",
       "      <td>307.893917</td>\n",
       "      <td>200.0</td>\n",
       "      <td>PM Peak</td>\n",
       "      <td>2025-01-15 18:09:27</td>\n",
       "      <td>2025-01-15</td>\n",
       "    </tr>\n",
       "    <tr>\n",
       "      <th>1</th>\n",
       "      <td>baeeb157e85a901e47b828ef9fe75091</td>\n",
       "      <td>5abad00eed316250607a32ab7aa38fa7</td>\n",
       "      <td>906_8_38</td>\n",
       "      <td>3</td>\n",
       "      <td>906</td>\n",
       "      <td>0.0</td>\n",
       "      <td>60309__60249</td>\n",
       "      <td>Beyer Bl &amp; Dairy Mart Rd__San Ysidro Bl &amp; Virg...</td>\n",
       "      <td>00001f273308970887743ce0c3acf068</td>\n",
       "      <td>10.917496</td>\n",
       "      <td>229.379660</td>\n",
       "      <td>47.0</td>\n",
       "      <td>PM Peak</td>\n",
       "      <td>2025-01-15 18:12:47</td>\n",
       "      <td>2025-01-15</td>\n",
       "    </tr>\n",
       "    <tr>\n",
       "      <th>2</th>\n",
       "      <td>baeeb157e85a901e47b828ef9fe75091</td>\n",
       "      <td>5abad00eed316250607a32ab7aa38fa7</td>\n",
       "      <td>906_8_38</td>\n",
       "      <td>4</td>\n",
       "      <td>906</td>\n",
       "      <td>0.0</td>\n",
       "      <td>60310__60568</td>\n",
       "      <td>Beyer Bl &amp; Precision Park Ln__San Ysidro Bl &amp; ...</td>\n",
       "      <td>00001f273308970887743ce0c3acf068</td>\n",
       "      <td>10.915386</td>\n",
       "      <td>1039.328261</td>\n",
       "      <td>213.0</td>\n",
       "      <td>PM Peak</td>\n",
       "      <td>2025-01-15 18:13:34</td>\n",
       "      <td>2025-01-15</td>\n",
       "    </tr>\n",
       "    <tr>\n",
       "      <th>3</th>\n",
       "      <td>baeeb157e85a901e47b828ef9fe75091</td>\n",
       "      <td>5abad00eed316250607a32ab7aa38fa7</td>\n",
       "      <td>906_8_38</td>\n",
       "      <td>6</td>\n",
       "      <td>906</td>\n",
       "      <td>0.0</td>\n",
       "      <td>60245__60567</td>\n",
       "      <td>Beyer Bl &amp; Poplar St__San Ysidro Bl &amp; Dairy Ma...</td>\n",
       "      <td>00001f273308970887743ce0c3acf068</td>\n",
       "      <td>10.445412</td>\n",
       "      <td>364.211940</td>\n",
       "      <td>78.0</td>\n",
       "      <td>PM Peak</td>\n",
       "      <td>2025-01-15 18:17:07</td>\n",
       "      <td>2025-01-15</td>\n",
       "    </tr>\n",
       "    <tr>\n",
       "      <th>4</th>\n",
       "      <td>baeeb157e85a901e47b828ef9fe75091</td>\n",
       "      <td>5abad00eed316250607a32ab7aa38fa7</td>\n",
       "      <td>906_8_38</td>\n",
       "      <td>7</td>\n",
       "      <td>906</td>\n",
       "      <td>0.0</td>\n",
       "      <td>60052__60574</td>\n",
       "      <td>South Vista Av &amp; Sunset Ln__San Ysidro Bl &amp; Cy...</td>\n",
       "      <td>00001f273308970887743ce0c3acf068</td>\n",
       "      <td>14.550872</td>\n",
       "      <td>136.597364</td>\n",
       "      <td>21.0</td>\n",
       "      <td>PM Peak</td>\n",
       "      <td>2025-01-15 18:18:25</td>\n",
       "      <td>2025-01-15</td>\n",
       "    </tr>\n",
       "    <tr>\n",
       "      <th>...</th>\n",
       "      <td>...</td>\n",
       "      <td>...</td>\n",
       "      <td>...</td>\n",
       "      <td>...</td>\n",
       "      <td>...</td>\n",
       "      <td>...</td>\n",
       "      <td>...</td>\n",
       "      <td>...</td>\n",
       "      <td>...</td>\n",
       "      <td>...</td>\n",
       "      <td>...</td>\n",
       "      <td>...</td>\n",
       "      <td>...</td>\n",
       "      <td>...</td>\n",
       "      <td>...</td>\n",
       "    </tr>\n",
       "    <tr>\n",
       "      <th>3074227</th>\n",
       "      <td>f74424acf8c41e4c1e9fd42838c4875c</td>\n",
       "      <td>a094fd659ed5dffd9c4526cbd6df96c2</td>\n",
       "      <td>18468_shp</td>\n",
       "      <td>2160</td>\n",
       "      <td>194</td>\n",
       "      <td>0.0</td>\n",
       "      <td>3356__3324</td>\n",
       "      <td>Valley Blvd and Lemon Ave__Valley Blvd and Max...</td>\n",
       "      <td>ffd7d651605dbca64e7b3f46945f5817</td>\n",
       "      <td>36.749597</td>\n",
       "      <td>1002.112387</td>\n",
       "      <td>61.0</td>\n",
       "      <td>Evening</td>\n",
       "      <td>2025-01-15 23:54:48</td>\n",
       "      <td>2025-01-15</td>\n",
       "    </tr>\n",
       "    <tr>\n",
       "      <th>3074228</th>\n",
       "      <td>f74424acf8c41e4c1e9fd42838c4875c</td>\n",
       "      <td>a094fd659ed5dffd9c4526cbd6df96c2</td>\n",
       "      <td>18468_shp</td>\n",
       "      <td>2280</td>\n",
       "      <td>194</td>\n",
       "      <td>0.0</td>\n",
       "      <td>3324__3337</td>\n",
       "      <td>Valley Blvd and Pierre Rd E__Old Valley Blvd a...</td>\n",
       "      <td>ffd7d651605dbca64e7b3f46945f5817</td>\n",
       "      <td>39.970207</td>\n",
       "      <td>375.223222</td>\n",
       "      <td>21.0</td>\n",
       "      <td>Evening</td>\n",
       "      <td>2025-01-15 23:54:54</td>\n",
       "      <td>2025-01-15</td>\n",
       "    </tr>\n",
       "    <tr>\n",
       "      <th>3074229</th>\n",
       "      <td>f74424acf8c41e4c1e9fd42838c4875c</td>\n",
       "      <td>a094fd659ed5dffd9c4526cbd6df96c2</td>\n",
       "      <td>18468_shp</td>\n",
       "      <td>2322</td>\n",
       "      <td>194</td>\n",
       "      <td>0.0</td>\n",
       "      <td>3329__3342</td>\n",
       "      <td>Valley Blvd and Suzanne Rd E__Azusa Way and Va...</td>\n",
       "      <td>ffd7d651605dbca64e7b3f46945f5817</td>\n",
       "      <td>23.061093</td>\n",
       "      <td>639.154132</td>\n",
       "      <td>62.0</td>\n",
       "      <td>Evening</td>\n",
       "      <td>2025-01-15 23:55:15</td>\n",
       "      <td>2025-01-15</td>\n",
       "    </tr>\n",
       "    <tr>\n",
       "      <th>3074230</th>\n",
       "      <td>f74424acf8c41e4c1e9fd42838c4875c</td>\n",
       "      <td>a094fd659ed5dffd9c4526cbd6df96c2</td>\n",
       "      <td>18468_shp</td>\n",
       "      <td>2393</td>\n",
       "      <td>194</td>\n",
       "      <td>0.0</td>\n",
       "      <td>3319__3340</td>\n",
       "      <td>Valley Blvd and Brea Canyon Rd E__Mayor Dave W...</td>\n",
       "      <td>ffd7d651605dbca64e7b3f46945f5817</td>\n",
       "      <td>25.971102</td>\n",
       "      <td>940.393061</td>\n",
       "      <td>81.0</td>\n",
       "      <td>Evening</td>\n",
       "      <td>2025-01-15 23:56:17</td>\n",
       "      <td>2025-01-15</td>\n",
       "    </tr>\n",
       "    <tr>\n",
       "      <th>3074231</th>\n",
       "      <td>f74424acf8c41e4c1e9fd42838c4875c</td>\n",
       "      <td>a094fd659ed5dffd9c4526cbd6df96c2</td>\n",
       "      <td>18468_shp</td>\n",
       "      <td>2498</td>\n",
       "      <td>194</td>\n",
       "      <td>0.0</td>\n",
       "      <td>3371__3316</td>\n",
       "      <td>Grand Ave and Valley Blvd__Central Ave and 2nd St</td>\n",
       "      <td>ffd7d651605dbca64e7b3f46945f5817</td>\n",
       "      <td>36.815938</td>\n",
       "      <td>987.463706</td>\n",
       "      <td>60.0</td>\n",
       "      <td>Evening</td>\n",
       "      <td>2025-01-15 23:57:38</td>\n",
       "      <td>2025-01-15</td>\n",
       "    </tr>\n",
       "  </tbody>\n",
       "</table>\n",
       "<p>2897310 rows × 15 columns</p>\n",
       "</div>"
      ],
      "text/plain": [
       "                schedule_gtfs_dataset_key                   shape_array_key  \\\n",
       "0        baeeb157e85a901e47b828ef9fe75091  5abad00eed316250607a32ab7aa38fa7   \n",
       "1        baeeb157e85a901e47b828ef9fe75091  5abad00eed316250607a32ab7aa38fa7   \n",
       "2        baeeb157e85a901e47b828ef9fe75091  5abad00eed316250607a32ab7aa38fa7   \n",
       "3        baeeb157e85a901e47b828ef9fe75091  5abad00eed316250607a32ab7aa38fa7   \n",
       "4        baeeb157e85a901e47b828ef9fe75091  5abad00eed316250607a32ab7aa38fa7   \n",
       "...                                   ...                               ...   \n",
       "3074227  f74424acf8c41e4c1e9fd42838c4875c  a094fd659ed5dffd9c4526cbd6df96c2   \n",
       "3074228  f74424acf8c41e4c1e9fd42838c4875c  a094fd659ed5dffd9c4526cbd6df96c2   \n",
       "3074229  f74424acf8c41e4c1e9fd42838c4875c  a094fd659ed5dffd9c4526cbd6df96c2   \n",
       "3074230  f74424acf8c41e4c1e9fd42838c4875c  a094fd659ed5dffd9c4526cbd6df96c2   \n",
       "3074231  f74424acf8c41e4c1e9fd42838c4875c  a094fd659ed5dffd9c4526cbd6df96c2   \n",
       "\n",
       "          shape_id  stop_sequence route_id  direction_id     stop_pair  \\\n",
       "0         906_8_38              2      906           0.0  60308__60310   \n",
       "1         906_8_38              3      906           0.0  60309__60249   \n",
       "2         906_8_38              4      906           0.0  60310__60568   \n",
       "3         906_8_38              6      906           0.0  60245__60567   \n",
       "4         906_8_38              7      906           0.0  60052__60574   \n",
       "...            ...            ...      ...           ...           ...   \n",
       "3074227  18468_shp           2160      194           0.0    3356__3324   \n",
       "3074228  18468_shp           2280      194           0.0    3324__3337   \n",
       "3074229  18468_shp           2322      194           0.0    3329__3342   \n",
       "3074230  18468_shp           2393      194           0.0    3319__3340   \n",
       "3074231  18468_shp           2498      194           0.0    3371__3316   \n",
       "\n",
       "                                            stop_pair_name  \\\n",
       "0         Beyer Bl & Iris Av__Beyer Bl & Precision Park Ln   \n",
       "1        Beyer Bl & Dairy Mart Rd__San Ysidro Bl & Virg...   \n",
       "2        Beyer Bl & Precision Park Ln__San Ysidro Bl & ...   \n",
       "3        Beyer Bl & Poplar St__San Ysidro Bl & Dairy Ma...   \n",
       "4        South Vista Av & Sunset Ln__San Ysidro Bl & Cy...   \n",
       "...                                                    ...   \n",
       "3074227  Valley Blvd and Lemon Ave__Valley Blvd and Max...   \n",
       "3074228  Valley Blvd and Pierre Rd E__Old Valley Blvd a...   \n",
       "3074229  Valley Blvd and Suzanne Rd E__Azusa Way and Va...   \n",
       "3074230  Valley Blvd and Brea Canyon Rd E__Mayor Dave W...   \n",
       "3074231  Grand Ave and Valley Blvd__Central Ave and 2nd St   \n",
       "\n",
       "                        trip_instance_key  speed_mph  meters_elapsed  \\\n",
       "0        00001f273308970887743ce0c3acf068   3.443793      307.893917   \n",
       "1        00001f273308970887743ce0c3acf068  10.917496      229.379660   \n",
       "2        00001f273308970887743ce0c3acf068  10.915386     1039.328261   \n",
       "3        00001f273308970887743ce0c3acf068  10.445412      364.211940   \n",
       "4        00001f273308970887743ce0c3acf068  14.550872      136.597364   \n",
       "...                                   ...        ...             ...   \n",
       "3074227  ffd7d651605dbca64e7b3f46945f5817  36.749597     1002.112387   \n",
       "3074228  ffd7d651605dbca64e7b3f46945f5817  39.970207      375.223222   \n",
       "3074229  ffd7d651605dbca64e7b3f46945f5817  23.061093      639.154132   \n",
       "3074230  ffd7d651605dbca64e7b3f46945f5817  25.971102      940.393061   \n",
       "3074231  ffd7d651605dbca64e7b3f46945f5817  36.815938      987.463706   \n",
       "\n",
       "         sec_elapsed time_of_day        arrival_time service_date  \n",
       "0              200.0     PM Peak 2025-01-15 18:09:27   2025-01-15  \n",
       "1               47.0     PM Peak 2025-01-15 18:12:47   2025-01-15  \n",
       "2              213.0     PM Peak 2025-01-15 18:13:34   2025-01-15  \n",
       "3               78.0     PM Peak 2025-01-15 18:17:07   2025-01-15  \n",
       "4               21.0     PM Peak 2025-01-15 18:18:25   2025-01-15  \n",
       "...              ...         ...                 ...          ...  \n",
       "3074227         61.0     Evening 2025-01-15 23:54:48   2025-01-15  \n",
       "3074228         21.0     Evening 2025-01-15 23:54:54   2025-01-15  \n",
       "3074229         62.0     Evening 2025-01-15 23:55:15   2025-01-15  \n",
       "3074230         81.0     Evening 2025-01-15 23:56:17   2025-01-15  \n",
       "3074231         60.0     Evening 2025-01-15 23:57:38   2025-01-15  \n",
       "\n",
       "[2897310 rows x 15 columns]"
      ]
     },
     "execution_count": 69,
     "metadata": {},
     "output_type": "execute_result"
    }
   ],
   "source": [
    "ddf.compute()"
   ]
  },
  {
   "cell_type": "code",
   "execution_count": 64,
   "id": "505d5d05-3b24-46f5-8ffe-7f098daa56da",
   "metadata": {},
   "outputs": [],
   "source": [
    "cols = helpers.unique_list(\n",
    "        aseg.OPERATOR_COLS + shape_stop_combinations_COLS + \n",
    "        ROUTE_DIR_COLS + STOP_PAIR_COLS + [\n",
    "            \"trip_instance_key\", \"speed_mph\", \n",
    "            \"meters_elapsed\", \"sec_elapsed\", \n",
    "            \"time_of_day\", \"arrival_time\"])"
   ]
  },
  {
   "cell_type": "code",
   "execution_count": 67,
   "id": "1efe821e-0148-4ff9-8b53-21fd97d455e7",
   "metadata": {},
   "outputs": [
    {
     "data": {
      "text/plain": [
       "['schedule_gtfs_dataset_key',\n",
       " 'shape_array_key',\n",
       " 'shape_id',\n",
       " 'stop_sequence',\n",
       " 'route_id',\n",
       " 'direction_id',\n",
       " 'stop_pair',\n",
       " 'stop_pair_name',\n",
       " 'trip_instance_key',\n",
       " 'speed_mph',\n",
       " 'meters_elapsed',\n",
       " 'sec_elapsed',\n",
       " 'time_of_day',\n",
       " 'arrival_time']"
      ]
     },
     "execution_count": 67,
     "metadata": {},
     "output_type": "execute_result"
    }
   ],
   "source": [
    "cols"
   ]
  },
  {
   "cell_type": "code",
   "execution_count": 63,
   "id": "391bb3a8-d110-4b1b-ac00-3c78e02e597b",
   "metadata": {},
   "outputs": [
    {
     "data": {
      "text/plain": [
       "Index(['trip_instance_key', 'stop_sequence', 'stop_sequence1',\n",
       "       'shape_array_key', 'stop_meters', 'arrival_time', 'arrival_time_sec',\n",
       "       'subseq_arrival_time_sec', 'subseq_stop_meters', 'meters_elapsed',\n",
       "       'sec_elapsed', 'speed_mph', 'schedule_gtfs_dataset_key', 'route_id',\n",
       "       'direction_id', 'route_short_name', 'scheduled_service_minutes',\n",
       "       'sched_rt_category', 'time_of_day', 'shape_id', 'segment_id',\n",
       "       'stop_pair_name', 'stop_pair'],\n",
       "      dtype='object')"
      ]
     },
     "execution_count": 63,
     "metadata": {},
     "output_type": "execute_result"
    }
   ],
   "source": [
    "df.columns"
   ]
  },
  {
   "cell_type": "code",
   "execution_count": 70,
   "id": "c02cccde-0885-42ef-8c64-5bf65c4c6ec7",
   "metadata": {},
   "outputs": [
    {
     "data": {
      "text/plain": [
       "'gs://calitp-analytics-data/data-analyses/rt_segment_speeds/'"
      ]
     },
     "execution_count": 70,
     "metadata": {},
     "output_type": "execute_result"
    }
   ],
   "source": [
    "aseg.SEGMENT_GCS"
   ]
  },
  {
   "cell_type": "code",
   "execution_count": 41,
   "id": "fe322754-74d1-4976-bee6-099c7518f6d8",
   "metadata": {},
   "outputs": [],
   "source": [
    "df = time_series_utils.concatenate_datasets_across_dates(\n",
    "    aseg.SEGMENT_GCS, \n",
    "    SPEED_FILE,\n",
    "    analysis_date_list,\n",
    "    data_type  = \"df\",\n",
    "    columns = helpers.unique_list(\n",
    "        aseg.OPERATOR_COLS + SHAPE_STOP_COLS + \n",
    "        ROUTE_DIR_COLS + STOP_PAIR_COLS + [\n",
    "            \"trip_instance_key\", \"speed_mph\", \n",
    "            \"meters_elapsed\", \"sec_elapsed\", \n",
    "            \"time_of_day\", \"arrival_time\"]),\n",
    "    filters = [[(\"speed_mph\", \"<=\", MAX_SPEED)]],\n",
    "    get_pandas=False\n",
    ")"
   ]
  },
  {
   "cell_type": "code",
   "execution_count": 43,
   "id": "7402508c-5fee-45d9-9b18-18b085194dea",
   "metadata": {},
   "outputs": [
    {
     "data": {
      "text/html": [
       "<div>\n",
       "<style scoped>\n",
       "    .dataframe tbody tr th:only-of-type {\n",
       "        vertical-align: middle;\n",
       "    }\n",
       "\n",
       "    .dataframe tbody tr th {\n",
       "        vertical-align: top;\n",
       "    }\n",
       "\n",
       "    .dataframe thead th {\n",
       "        text-align: right;\n",
       "    }\n",
       "</style>\n",
       "<table border=\"1\" class=\"dataframe\">\n",
       "  <thead>\n",
       "    <tr style=\"text-align: right;\">\n",
       "      <th></th>\n",
       "      <th>schedule_gtfs_dataset_key</th>\n",
       "      <th>shape_array_key</th>\n",
       "      <th>shape_id</th>\n",
       "      <th>stop_sequence</th>\n",
       "      <th>route_id</th>\n",
       "      <th>direction_id</th>\n",
       "      <th>stop_pair</th>\n",
       "      <th>stop_pair_name</th>\n",
       "      <th>trip_instance_key</th>\n",
       "      <th>speed_mph</th>\n",
       "      <th>meters_elapsed</th>\n",
       "      <th>sec_elapsed</th>\n",
       "      <th>time_of_day</th>\n",
       "      <th>arrival_time</th>\n",
       "      <th>service_date</th>\n",
       "    </tr>\n",
       "  </thead>\n",
       "  <tbody>\n",
       "    <tr>\n",
       "      <th>0</th>\n",
       "      <td>baeeb157e85a901e47b828ef9fe75091</td>\n",
       "      <td>5abad00eed316250607a32ab7aa38fa7</td>\n",
       "      <td>906_8_38</td>\n",
       "      <td>12</td>\n",
       "      <td>906</td>\n",
       "      <td>0.0</td>\n",
       "      <td>60314__60315</td>\n",
       "      <td>San Ysidro Bl &amp; I-805 (Ramp)__San Ysidro Bl &amp; ...</td>\n",
       "      <td>00001f273308970887743ce0c3acf068</td>\n",
       "      <td>5.870617</td>\n",
       "      <td>3584.829289</td>\n",
       "      <td>1366.0</td>\n",
       "      <td>PM Peak</td>\n",
       "      <td>2025-01-15 18:22:03</td>\n",
       "      <td>2025-01-15</td>\n",
       "    </tr>\n",
       "    <tr>\n",
       "      <th>1</th>\n",
       "      <td>baeeb157e85a901e47b828ef9fe75091</td>\n",
       "      <td>5abad00eed316250607a32ab7aa38fa7</td>\n",
       "      <td>906_8_38</td>\n",
       "      <td>12</td>\n",
       "      <td>906</td>\n",
       "      <td>0.0</td>\n",
       "      <td>60314__60315</td>\n",
       "      <td>San Ysidro Bl &amp; I-805 (Ramp)__San Ysidro Bl &amp; ...</td>\n",
       "      <td>093275bdc15202d91c8bea881866e7b2</td>\n",
       "      <td>6.446353</td>\n",
       "      <td>3584.829289</td>\n",
       "      <td>1244.0</td>\n",
       "      <td>Midday</td>\n",
       "      <td>2025-01-15 13:49:05</td>\n",
       "      <td>2025-01-15</td>\n",
       "    </tr>\n",
       "    <tr>\n",
       "      <th>2</th>\n",
       "      <td>baeeb157e85a901e47b828ef9fe75091</td>\n",
       "      <td>5abad00eed316250607a32ab7aa38fa7</td>\n",
       "      <td>906_8_38</td>\n",
       "      <td>12</td>\n",
       "      <td>906</td>\n",
       "      <td>0.0</td>\n",
       "      <td>60314__60315</td>\n",
       "      <td>San Ysidro Bl &amp; I-805 (Ramp)__San Ysidro Bl &amp; ...</td>\n",
       "      <td>0b309afa2d5bef3c2028961646c94ba3</td>\n",
       "      <td>7.077902</td>\n",
       "      <td>3584.829289</td>\n",
       "      <td>1133.0</td>\n",
       "      <td>PM Peak</td>\n",
       "      <td>2025-01-15 17:09:01</td>\n",
       "      <td>2025-01-15</td>\n",
       "    </tr>\n",
       "    <tr>\n",
       "      <th>3</th>\n",
       "      <td>baeeb157e85a901e47b828ef9fe75091</td>\n",
       "      <td>5abad00eed316250607a32ab7aa38fa7</td>\n",
       "      <td>906_8_38</td>\n",
       "      <td>12</td>\n",
       "      <td>906</td>\n",
       "      <td>0.0</td>\n",
       "      <td>60314__60315</td>\n",
       "      <td>San Ysidro Bl &amp; I-805 (Ramp)__San Ysidro Bl &amp; ...</td>\n",
       "      <td>0f5769de811a55b20dc44ffa816de412</td>\n",
       "      <td>5.289751</td>\n",
       "      <td>3584.829289</td>\n",
       "      <td>1516.0</td>\n",
       "      <td>PM Peak</td>\n",
       "      <td>2025-01-15 16:54:38</td>\n",
       "      <td>2025-01-15</td>\n",
       "    </tr>\n",
       "    <tr>\n",
       "      <th>4</th>\n",
       "      <td>baeeb157e85a901e47b828ef9fe75091</td>\n",
       "      <td>5abad00eed316250607a32ab7aa38fa7</td>\n",
       "      <td>906_8_38</td>\n",
       "      <td>12</td>\n",
       "      <td>906</td>\n",
       "      <td>0.0</td>\n",
       "      <td>60314__60315</td>\n",
       "      <td>San Ysidro Bl &amp; I-805 (Ramp)__San Ysidro Bl &amp; ...</td>\n",
       "      <td>1288107588bb83361fda270fee48bdba</td>\n",
       "      <td>6.836541</td>\n",
       "      <td>3584.829289</td>\n",
       "      <td>1173.0</td>\n",
       "      <td>PM Peak</td>\n",
       "      <td>2025-01-15 19:34:48</td>\n",
       "      <td>2025-01-15</td>\n",
       "    </tr>\n",
       "    <tr>\n",
       "      <th>...</th>\n",
       "      <td>...</td>\n",
       "      <td>...</td>\n",
       "      <td>...</td>\n",
       "      <td>...</td>\n",
       "      <td>...</td>\n",
       "      <td>...</td>\n",
       "      <td>...</td>\n",
       "      <td>...</td>\n",
       "      <td>...</td>\n",
       "      <td>...</td>\n",
       "      <td>...</td>\n",
       "      <td>...</td>\n",
       "      <td>...</td>\n",
       "      <td>...</td>\n",
       "      <td>...</td>\n",
       "    </tr>\n",
       "    <tr>\n",
       "      <th>191821</th>\n",
       "      <td>c499f905e33929a641f083dad55c521e</td>\n",
       "      <td>0227946648df4c7ba490c34bdc6c6ee3</td>\n",
       "      <td>shp-696-02</td>\n",
       "      <td>26</td>\n",
       "      <td>696</td>\n",
       "      <td>0.0</td>\n",
       "      <td>50127__57896</td>\n",
       "      <td>Florence Av &amp; Hermosa Av__Florence Av &amp; Broadw...</td>\n",
       "      <td>fddaf72e40d72fbfea96f069a272451b</td>\n",
       "      <td>11.322115</td>\n",
       "      <td>313.800230</td>\n",
       "      <td>62.0</td>\n",
       "      <td>AM Peak</td>\n",
       "      <td>2025-01-15 08:33:13</td>\n",
       "      <td>2025-01-15</td>\n",
       "    </tr>\n",
       "    <tr>\n",
       "      <th>191822</th>\n",
       "      <td>c499f905e33929a641f083dad55c521e</td>\n",
       "      <td>0227946648df4c7ba490c34bdc6c6ee3</td>\n",
       "      <td>shp-696-02</td>\n",
       "      <td>27</td>\n",
       "      <td>696</td>\n",
       "      <td>0.0</td>\n",
       "      <td>57896__59519</td>\n",
       "      <td>Florence Av &amp; Broadway Ter__Broadway Ter &amp; Her...</td>\n",
       "      <td>fddaf72e40d72fbfea96f069a272451b</td>\n",
       "      <td>14.082307</td>\n",
       "      <td>2379.576195</td>\n",
       "      <td>378.0</td>\n",
       "      <td>AM Peak</td>\n",
       "      <td>2025-01-15 08:34:15</td>\n",
       "      <td>2025-01-15</td>\n",
       "    </tr>\n",
       "    <tr>\n",
       "      <th>191826</th>\n",
       "      <td>364d59b3aea55aec2962a0b3244a40e0</td>\n",
       "      <td>24d7ff7f53f1dd1ac665462891afdde6</td>\n",
       "      <td>162</td>\n",
       "      <td>13</td>\n",
       "      <td>1</td>\n",
       "      <td>0.0</td>\n",
       "      <td>208__210</td>\n",
       "      <td>Vanderbilt Wy &amp; Westinghouse Pl__Ave Stanford ...</td>\n",
       "      <td>fe6f2489a8dc41b382f4491539db22c7</td>\n",
       "      <td>16.131704</td>\n",
       "      <td>2105.703045</td>\n",
       "      <td>292.0</td>\n",
       "      <td>AM Peak</td>\n",
       "      <td>2025-01-15 09:23:13</td>\n",
       "      <td>2025-01-15</td>\n",
       "    </tr>\n",
       "    <tr>\n",
       "      <th>191828</th>\n",
       "      <td>0666caf3ec1ecc96b74f4477ee4bc939</td>\n",
       "      <td>f82809b9f53bd208c67890c43aa4dcec</td>\n",
       "      <td>2420002_DEC24</td>\n",
       "      <td>12</td>\n",
       "      <td>242-13186</td>\n",
       "      <td>0.0</td>\n",
       "      <td>8492__8483</td>\n",
       "      <td>Winnetka / Vanowen__Winnetka / Hart</td>\n",
       "      <td>fe970eb78c0742910069087708c74666</td>\n",
       "      <td>10.843088</td>\n",
       "      <td>9888.197968</td>\n",
       "      <td>2040.0</td>\n",
       "      <td>PM Peak</td>\n",
       "      <td>2025-01-15 16:09:53</td>\n",
       "      <td>2025-01-15</td>\n",
       "    </tr>\n",
       "    <tr>\n",
       "      <th>191832</th>\n",
       "      <td>f74424acf8c41e4c1e9fd42838c4875c</td>\n",
       "      <td>a094fd659ed5dffd9c4526cbd6df96c2</td>\n",
       "      <td>18468_shp</td>\n",
       "      <td>758</td>\n",
       "      <td>194</td>\n",
       "      <td>0.0</td>\n",
       "      <td>3326__3321</td>\n",
       "      <td>Valley Blvd and San Angelo Ave__Valley Blvd an...</td>\n",
       "      <td>ffd7d651605dbca64e7b3f46945f5817</td>\n",
       "      <td>24.445431</td>\n",
       "      <td>13725.284327</td>\n",
       "      <td>1256.0</td>\n",
       "      <td>Evening</td>\n",
       "      <td>2025-01-15 23:29:05</td>\n",
       "      <td>2025-01-15</td>\n",
       "    </tr>\n",
       "  </tbody>\n",
       "</table>\n",
       "<p>122021 rows × 15 columns</p>\n",
       "</div>"
      ],
      "text/plain": [
       "               schedule_gtfs_dataset_key                   shape_array_key  \\\n",
       "0       baeeb157e85a901e47b828ef9fe75091  5abad00eed316250607a32ab7aa38fa7   \n",
       "1       baeeb157e85a901e47b828ef9fe75091  5abad00eed316250607a32ab7aa38fa7   \n",
       "2       baeeb157e85a901e47b828ef9fe75091  5abad00eed316250607a32ab7aa38fa7   \n",
       "3       baeeb157e85a901e47b828ef9fe75091  5abad00eed316250607a32ab7aa38fa7   \n",
       "4       baeeb157e85a901e47b828ef9fe75091  5abad00eed316250607a32ab7aa38fa7   \n",
       "...                                  ...                               ...   \n",
       "191821  c499f905e33929a641f083dad55c521e  0227946648df4c7ba490c34bdc6c6ee3   \n",
       "191822  c499f905e33929a641f083dad55c521e  0227946648df4c7ba490c34bdc6c6ee3   \n",
       "191826  364d59b3aea55aec2962a0b3244a40e0  24d7ff7f53f1dd1ac665462891afdde6   \n",
       "191828  0666caf3ec1ecc96b74f4477ee4bc939  f82809b9f53bd208c67890c43aa4dcec   \n",
       "191832  f74424acf8c41e4c1e9fd42838c4875c  a094fd659ed5dffd9c4526cbd6df96c2   \n",
       "\n",
       "             shape_id  stop_sequence   route_id  direction_id     stop_pair  \\\n",
       "0            906_8_38             12        906           0.0  60314__60315   \n",
       "1            906_8_38             12        906           0.0  60314__60315   \n",
       "2            906_8_38             12        906           0.0  60314__60315   \n",
       "3            906_8_38             12        906           0.0  60314__60315   \n",
       "4            906_8_38             12        906           0.0  60314__60315   \n",
       "...               ...            ...        ...           ...           ...   \n",
       "191821     shp-696-02             26        696           0.0  50127__57896   \n",
       "191822     shp-696-02             27        696           0.0  57896__59519   \n",
       "191826            162             13          1           0.0      208__210   \n",
       "191828  2420002_DEC24             12  242-13186           0.0    8492__8483   \n",
       "191832      18468_shp            758        194           0.0    3326__3321   \n",
       "\n",
       "                                           stop_pair_name  \\\n",
       "0       San Ysidro Bl & I-805 (Ramp)__San Ysidro Bl & ...   \n",
       "1       San Ysidro Bl & I-805 (Ramp)__San Ysidro Bl & ...   \n",
       "2       San Ysidro Bl & I-805 (Ramp)__San Ysidro Bl & ...   \n",
       "3       San Ysidro Bl & I-805 (Ramp)__San Ysidro Bl & ...   \n",
       "4       San Ysidro Bl & I-805 (Ramp)__San Ysidro Bl & ...   \n",
       "...                                                   ...   \n",
       "191821  Florence Av & Hermosa Av__Florence Av & Broadw...   \n",
       "191822  Florence Av & Broadway Ter__Broadway Ter & Her...   \n",
       "191826  Vanderbilt Wy & Westinghouse Pl__Ave Stanford ...   \n",
       "191828                Winnetka / Vanowen__Winnetka / Hart   \n",
       "191832  Valley Blvd and San Angelo Ave__Valley Blvd an...   \n",
       "\n",
       "                       trip_instance_key  speed_mph  meters_elapsed  \\\n",
       "0       00001f273308970887743ce0c3acf068   5.870617     3584.829289   \n",
       "1       093275bdc15202d91c8bea881866e7b2   6.446353     3584.829289   \n",
       "2       0b309afa2d5bef3c2028961646c94ba3   7.077902     3584.829289   \n",
       "3       0f5769de811a55b20dc44ffa816de412   5.289751     3584.829289   \n",
       "4       1288107588bb83361fda270fee48bdba   6.836541     3584.829289   \n",
       "...                                  ...        ...             ...   \n",
       "191821  fddaf72e40d72fbfea96f069a272451b  11.322115      313.800230   \n",
       "191822  fddaf72e40d72fbfea96f069a272451b  14.082307     2379.576195   \n",
       "191826  fe6f2489a8dc41b382f4491539db22c7  16.131704     2105.703045   \n",
       "191828  fe970eb78c0742910069087708c74666  10.843088     9888.197968   \n",
       "191832  ffd7d651605dbca64e7b3f46945f5817  24.445431    13725.284327   \n",
       "\n",
       "        sec_elapsed time_of_day        arrival_time service_date  \n",
       "0            1366.0     PM Peak 2025-01-15 18:22:03   2025-01-15  \n",
       "1            1244.0      Midday 2025-01-15 13:49:05   2025-01-15  \n",
       "2            1133.0     PM Peak 2025-01-15 17:09:01   2025-01-15  \n",
       "3            1516.0     PM Peak 2025-01-15 16:54:38   2025-01-15  \n",
       "4            1173.0     PM Peak 2025-01-15 19:34:48   2025-01-15  \n",
       "...             ...         ...                 ...          ...  \n",
       "191821         62.0     AM Peak 2025-01-15 08:33:13   2025-01-15  \n",
       "191822        378.0     AM Peak 2025-01-15 08:34:15   2025-01-15  \n",
       "191826        292.0     AM Peak 2025-01-15 09:23:13   2025-01-15  \n",
       "191828       2040.0     PM Peak 2025-01-15 16:09:53   2025-01-15  \n",
       "191832       1256.0     Evening 2025-01-15 23:29:05   2025-01-15  \n",
       "\n",
       "[122021 rows x 15 columns]"
      ]
     },
     "execution_count": 43,
     "metadata": {},
     "output_type": "execute_result"
    }
   ],
   "source": [
    "df.compute()"
   ]
  },
  {
   "cell_type": "code",
   "execution_count": null,
   "id": "9ba9c7a7-e198-4c2d-8544-b6a896793ed5",
   "metadata": {},
   "outputs": [],
   "source": [
    "df = aseg.concatenate_trip_segment_speeds(\n",
    "        analysis_date_list,\n",
    "        \"stop_segments\",\n",
    "        get_pandas = False\n",
    "    )"
   ]
  },
  {
   "cell_type": "code",
   "execution_count": null,
   "id": "58fdebe4-2794-402f-a22d-a203c5c9b336",
   "metadata": {},
   "outputs": [],
   "source": [
    "df"
   ]
  },
  {
   "cell_type": "code",
   "execution_count": null,
   "id": "b903a02c-5c7d-4ef8-bf03-ec8c63cd51ce",
   "metadata": {},
   "outputs": [],
   "source": [
    "trip_speeds = df.compute()"
   ]
  },
  {
   "cell_type": "code",
   "execution_count": null,
   "id": "9e962769-d08a-4c2a-9168-67638049dfd4",
   "metadata": {},
   "outputs": [],
   "source": [
    "trip_speeds"
   ]
  },
  {
   "cell_type": "code",
   "execution_count": null,
   "id": "39b9d782-d52f-4309-a563-7b21de27dc72",
   "metadata": {},
   "outputs": [],
   "source": [
    "group_cols = aseg.OPERATOR_COLS + ROUTE_DIR_COLS + STOP_PAIR_COLS"
   ]
  },
  {
   "cell_type": "code",
   "execution_count": null,
   "id": "ba487f4a-21d7-4227-a8a0-b80a7cdcec9c",
   "metadata": {},
   "outputs": [],
   "source": [
    "group_cols"
   ]
  },
  {
   "cell_type": "code",
   "execution_count": null,
   "id": "a52bec21-d581-417e-9fec-fbabf590ed89",
   "metadata": {},
   "outputs": [],
   "source": [
    "avg_speeds = delayed(aseg.metrics.concatenate_peak_offpeak_allday_averages)(\n",
    "            df, \n",
    "            group_cols,\n",
    "            metric_type = \"segment_speeds\"\n",
    "        )"
   ]
  },
  {
   "cell_type": "code",
   "execution_count": null,
   "id": "6c007925-36e4-4842-b75f-2d81d596f313",
   "metadata": {},
   "outputs": [],
   "source": [
    "avg_spds = avg_speeds.compute()"
   ]
  },
  {
   "cell_type": "code",
   "execution_count": null,
   "id": "6debb886-1690-4e46-a674-6aa6ec81f993",
   "metadata": {},
   "outputs": [],
   "source": [
    "avg_spds"
   ]
  },
  {
   "cell_type": "code",
   "execution_count": null,
   "id": "628a1a82-1164-48f2-ba76-5a9126e8bc75",
   "metadata": {},
   "outputs": [],
   "source": [
    "avg_spds = avg_spds.pipe(\n",
    "            gtfs_schedule_wrangling.merge_operator_identifiers, \n",
    "            analysis_date_list,\n",
    "            columns = aseg.CROSSWALK_COLS\n",
    "        )"
   ]
  }
 ],
 "metadata": {
  "kernelspec": {
   "display_name": "Python 3 (ipykernel)",
   "language": "python",
   "name": "python3"
  },
  "language_info": {
   "codemirror_mode": {
    "name": "ipython",
    "version": 3
   },
   "file_extension": ".py",
   "mimetype": "text/x-python",
   "name": "python",
   "nbconvert_exporter": "python",
   "pygments_lexer": "ipython3",
   "version": "3.9.13"
  },
  "widgets": {
   "application/vnd.jupyter.widget-state+json": {
    "state": {},
    "version_major": 2,
    "version_minor": 0
   }
  }
 },
 "nbformat": 4,
 "nbformat_minor": 5
}
