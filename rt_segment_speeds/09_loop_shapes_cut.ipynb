{
 "cells": [
  {
   "cell_type": "markdown",
   "id": "3f381ba2-8302-4f84-8359-4cbecaad63cf",
   "metadata": {},
   "source": [
    "# Grab all the loopy/inlining/odd shapes\n",
    "Select a couple of examples to see what the pattern is for `stop_sequence` and `shape_meters`."
   ]
  },
  {
   "cell_type": "code",
   "execution_count": 1,
   "id": "8074ea58-0f53-4812-bc36-34b938e73495",
   "metadata": {},
   "outputs": [],
   "source": [
    "import os\n",
    "os.environ['USE_PYGEOS'] = '0'\n",
    "\n",
    "import dask.dataframe as dd\n",
    "import folium\n",
    "import geopandas as gpd\n",
    "import pandas as pd\n",
    "import numpy as np\n",
    "import shapely\n",
    "import sys\n",
    "\n",
    "from segment_speed_utils.project_vars import SEGMENT_GCS, analysis_date\n",
    "\n",
    "# Temp append so we can import functions from scripts/\n",
    "sys.path.append(\"./scripts/\")\n",
    "import prep_stop_segments\n",
    "import cut_stop_segments\n",
    "import loop_utils\n",
    "import loopy\n",
    "\n",
    "shape_with_utc = \"f765b9d12fcca0173b4e3ddbc0374d18\"\n",
    "another_shape = \"007cf76062f5957d4e38ea54e624c0ad\""
   ]
  },
  {
   "cell_type": "code",
   "execution_count": null,
   "id": "d7070059-6941-4b2d-be14-d935f9823edd",
   "metadata": {},
   "outputs": [],
   "source": [
    "loop_shapes = loop_utils.grab_loop_shapes(analysis_date)\n",
    "\n",
    "stop_times_with_geom = prep_stop_segments.stop_times_aggregated_to_shape_array_key(\n",
    "        analysis_date, loop_shapes)\n",
    "\n",
    "st_loops = stop_times_with_geom.compute()"
   ]
  },
  {
   "cell_type": "code",
   "execution_count": null,
   "id": "c67d4a1b-d078-4377-b5cb-b49bd9d8af14",
   "metadata": {},
   "outputs": [],
   "source": [
    "gdf = (loop_utils.assign_visits_to_stop(st_loops)\n",
    "       .sort_values([\"shape_array_key\", \"stop_sequence\"])\n",
    "       .reset_index(drop=True)\n",
    "      )"
   ]
  },
  {
   "cell_type": "code",
   "execution_count": 2,
   "id": "da83f152-5531-444b-a277-a698fcacfa6a",
   "metadata": {},
   "outputs": [],
   "source": [
    "from segment_speed_utils import helpers, gtfs_schedule_wrangling, wrangle_shapes"
   ]
  },
  {
   "cell_type": "code",
   "execution_count": 3,
   "id": "b3b0a6c7-35ac-4c2b-948d-447d936e80e8",
   "metadata": {},
   "outputs": [],
   "source": [
    "trips_with_geom = gtfs_schedule_wrangling.get_trips_with_geom(\n",
    "    analysis_date)\n",
    "stop_times_with_geom = prep_stop_segments.stop_times_aggregated_to_shape_array_key(\n",
    "    analysis_date, trips_with_geom)"
   ]
  },
  {
   "cell_type": "code",
   "execution_count": 4,
   "id": "efe224b1-1fd3-46f0-bce8-d85cecb18faf",
   "metadata": {},
   "outputs": [
    {
     "name": "stderr",
     "output_type": "stream",
     "text": [
      "/opt/conda/lib/python3.9/site-packages/shapely/linear.py:90: RuntimeWarning: invalid value encountered in line_locate_point\n"
     ]
    }
   ],
   "source": [
    "shape_geoseries = gpd.GeoSeries(stop_times_with_geom.geometry.compute())\n",
    "stop_geoseries = gpd.GeoSeries(stop_times_with_geom.stop_geometry.compute())\n",
    "\n",
    "# Get projected shape_meters as dask array\n",
    "shape_meters_geoseries = wrangle_shapes.project_point_geom_onto_linestring(\n",
    "    shape_geoseries,\n",
    "    stop_geoseries,\n",
    "    get_dask_array=True\n",
    ")\n",
    "    "
   ]
  },
  {
   "cell_type": "code",
   "execution_count": 5,
   "id": "025808df-0530-4f5d-be88-27d1e7b21491",
   "metadata": {},
   "outputs": [],
   "source": [
    "stop_times_with_geom[\"shape_meters\"] = shape_meters_geoseries"
   ]
  },
  {
   "cell_type": "code",
   "execution_count": 6,
   "id": "f722de8c-4c82-4a31-8ea8-43a72ce87bec",
   "metadata": {},
   "outputs": [],
   "source": [
    "stop_times_with_geom = stop_times_with_geom.drop(columns = \"stop_geometry\")"
   ]
  },
  {
   "cell_type": "code",
   "execution_count": 7,
   "id": "e3d0ff1f-001a-4ae7-9223-2e47542f66f2",
   "metadata": {},
   "outputs": [],
   "source": [
    "gdf = stop_times_with_geom.compute()"
   ]
  },
  {
   "cell_type": "code",
   "execution_count": 8,
   "id": "9f5af528-b64b-4193-9555-85470dbce070",
   "metadata": {},
   "outputs": [],
   "source": [
    "shape_cols = [\"shape_array_key\"]    \n",
    "unique_shapes = (stop_times_with_geom\n",
    "                     [shape_cols + [\"geometry\"]]\n",
    "                     .drop_duplicates()\n",
    "                    )"
   ]
  },
  {
   "cell_type": "code",
   "execution_count": 15,
   "id": "2cf03aef-e915-43ed-a05f-126a31ad16cc",
   "metadata": {},
   "outputs": [],
   "source": [
    "gdf_wide = (gdf.sort_values(shape_cols + [\"stop_sequence\"])\n",
    "            .groupby(shape_cols)\n",
    "            .agg({\n",
    "                \"shape_meters\": lambda x: list(x), \n",
    "                \"stop_sequence\": lambda x: list(x)\n",
    "            }).reset_index()\n",
    "           )"
   ]
  },
  {
   "cell_type": "code",
   "execution_count": 30,
   "id": "c6169826-4627-4495-9621-0be22e3234e0",
   "metadata": {},
   "outputs": [],
   "source": [
    "monotonic_results = []\n",
    "for row in gdf_wide.itertuples():\n",
    "    stops_proj_on_shape = np.array(getattr(row, \"shape_meters\"))\n",
    "    monotonic_increasing = np.all(np.diff(stops_proj_on_shape) > 0)\n",
    "    monotonic_results.append(monotonic_increasing)"
   ]
  },
  {
   "cell_type": "code",
   "execution_count": 31,
   "id": "96497c18-2c17-4188-8525-4034f7bc3330",
   "metadata": {},
   "outputs": [],
   "source": [
    "gdf_wide = gdf_wide.assign(\n",
    "    is_monotonic = monotonic_results\n",
    ")"
   ]
  },
  {
   "cell_type": "code",
   "execution_count": 34,
   "id": "3bf83635-cdd0-4b30-82e3-51b893089801",
   "metadata": {},
   "outputs": [
    {
     "data": {
      "text/plain": [
       "True     5071\n",
       "False    1177\n",
       "Name: is_monotonic, dtype: int64"
      ]
     },
     "execution_count": 34,
     "metadata": {},
     "output_type": "execute_result"
    }
   ],
   "source": [
    "gdf_wide.is_monotonic.value_counts()"
   ]
  },
  {
   "cell_type": "code",
   "execution_count": 33,
   "id": "02b3a3f3-afd7-4d87-9a08-11793ad49466",
   "metadata": {},
   "outputs": [
    {
     "data": {
      "text/html": [
       "<div>\n",
       "<style scoped>\n",
       "    .dataframe tbody tr th:only-of-type {\n",
       "        vertical-align: middle;\n",
       "    }\n",
       "\n",
       "    .dataframe tbody tr th {\n",
       "        vertical-align: top;\n",
       "    }\n",
       "\n",
       "    .dataframe thead th {\n",
       "        text-align: right;\n",
       "    }\n",
       "</style>\n",
       "<table border=\"1\" class=\"dataframe\">\n",
       "  <thead>\n",
       "    <tr style=\"text-align: right;\">\n",
       "      <th></th>\n",
       "      <th>shape_array_key</th>\n",
       "      <th>shape_meters</th>\n",
       "      <th>stop_sequence</th>\n",
       "      <th>is_monotonic</th>\n",
       "    </tr>\n",
       "  </thead>\n",
       "  <tbody>\n",
       "    <tr>\n",
       "      <th>6034</th>\n",
       "      <td>f765b9d12fcca0173b4e3ddbc0374d18</td>\n",
       "      <td>[0.04571602426616189, 1056.7484483794988, 1610...</td>\n",
       "      <td>[1, 2, 3, 4, 5, 6, 7, 8, 9, 10, 11, 12, 13, 14]</td>\n",
       "      <td>False</td>\n",
       "    </tr>\n",
       "  </tbody>\n",
       "</table>\n",
       "</div>"
      ],
      "text/plain": [
       "                       shape_array_key  \\\n",
       "6034  f765b9d12fcca0173b4e3ddbc0374d18   \n",
       "\n",
       "                                           shape_meters  \\\n",
       "6034  [0.04571602426616189, 1056.7484483794988, 1610...   \n",
       "\n",
       "                                        stop_sequence  is_monotonic  \n",
       "6034  [1, 2, 3, 4, 5, 6, 7, 8, 9, 10, 11, 12, 13, 14]         False  "
      ]
     },
     "execution_count": 33,
     "metadata": {},
     "output_type": "execute_result"
    }
   ],
   "source": [
    "gdf_wide[gdf_wide.shape_array_key==shape_with_utc]"
   ]
  },
  {
   "cell_type": "code",
   "execution_count": null,
   "id": "7e01d1df-2c03-4532-8a20-8464db86ef86",
   "metadata": {},
   "outputs": [],
   "source": [
    "shapes = helpers.import_scheduled_shapes(analysis_date).compute()"
   ]
  },
  {
   "cell_type": "code",
   "execution_count": null,
   "id": "52ebdae2-883b-4b7d-ac57-e7d86351a14a",
   "metadata": {},
   "outputs": [],
   "source": [
    "# Check if shape coords are projected in a fairly monotonic way?"
   ]
  },
  {
   "cell_type": "code",
   "execution_count": null,
   "id": "b0e49c51-a171-451b-b8d9-f0e6d8f3020e",
   "metadata": {},
   "outputs": [],
   "source": [
    "results = []\n",
    "for row in shapes.itertuples():\n",
    "    shape_geom = getattr(row, \"geometry\")\n",
    "    shape_path_dist = np.array(\n",
    "            [shape_geom.simplify(0).project(shapely.geometry.Point(p)) \n",
    "            for p in shape_geom.coords]\n",
    "        )\n",
    "    results.append(shape_path_dist)\n"
   ]
  },
  {
   "cell_type": "code",
   "execution_count": null,
   "id": "94bce765-2223-4797-920e-4f25f6c774f6",
   "metadata": {},
   "outputs": [],
   "source": [
    "results"
   ]
  },
  {
   "cell_type": "code",
   "execution_count": null,
   "id": "090f69ba-c49d-4be0-b0fa-763d76178f3e",
   "metadata": {},
   "outputs": [],
   "source": [
    "simple_series = [shapely.is_simple(i) \n",
    "                 for i in shapes.geometry]\n",
    "\n",
    "shapes = shapes.assign(\n",
    "    is_simple = simple_series\n",
    ")\n",
    "\n",
    "shapes.is_simple.value_counts()"
   ]
  },
  {
   "cell_type": "code",
   "execution_count": null,
   "id": "60c043ea-891d-4a38-bfa4-157a8cca9096",
   "metadata": {},
   "outputs": [],
   "source": [
    "#https://gis.stackexchange.com/questions/423351/identifying-self-intersections-in-linestring-using-shapely\n",
    "test_geom = shapes.geometry.iloc[2]\n",
    "gpd.GeoSeries(shapely.ops.polygonize_full(test_geom), crs='EPSG:3310').explore()"
   ]
  },
  {
   "cell_type": "code",
   "execution_count": null,
   "id": "12cf1931-fada-4fea-acbe-148c179eec8c",
   "metadata": {},
   "outputs": [],
   "source": [
    "test_geom"
   ]
  },
  {
   "cell_type": "code",
   "execution_count": null,
   "id": "2a546f41-22e8-450e-9d8b-393d1e4fd424",
   "metadata": {},
   "outputs": [],
   "source": [
    "gpd.GeoSeries(polygons, crs=\"EPSG:3310\"\n",
    "             ).explore(tiles=\"CartoDB Positron\")"
   ]
  },
  {
   "cell_type": "code",
   "execution_count": null,
   "id": "05208ca1-b9c9-47d2-8c16-4c34bfb1a0f7",
   "metadata": {},
   "outputs": [],
   "source": [
    "polygons"
   ]
  },
  {
   "cell_type": "code",
   "execution_count": null,
   "id": "073e1f69-5aed-46bc-90e3-b311c7eb77a2",
   "metadata": {},
   "outputs": [],
   "source": []
  },
  {
   "cell_type": "code",
   "execution_count": null,
   "id": "ddcc3efa-2d99-4bdf-ae42-6b46e11592f9",
   "metadata": {},
   "outputs": [],
   "source": []
  },
  {
   "cell_type": "code",
   "execution_count": null,
   "id": "f147517e-2c8d-4e74-9c5a-71cc27daf532",
   "metadata": {},
   "outputs": [],
   "source": [
    "# check how many intersections. maybe we want at least 2 intersections\n",
    "#https://gis.stackexchange.com/questions/423351/identifying-self-intersections-in-linestring-using-shapely"
   ]
  },
  {
   "cell_type": "code",
   "execution_count": null,
   "id": "44cf8844-03f4-4c73-a799-3e088b8f8469",
   "metadata": {},
   "outputs": [],
   "source": [
    "shapes[shapes.is_simple==False].head(10).shape_array_key.value_counts()\n",
    "#.explore(\n",
    "#    \"shape_array_key\", tiles='CartoDB Positron'\n",
    "#)"
   ]
  },
  {
   "cell_type": "code",
   "execution_count": null,
   "id": "6e8a59ee-c038-4eeb-b88a-81c6c37e69bb",
   "metadata": {},
   "outputs": [],
   "source": [
    "test_shape = \"68d21e7b7cb2aaad6f07de925cab61f2\""
   ]
  },
  {
   "cell_type": "code",
   "execution_count": null,
   "id": "259f9dfc-692b-44da-a067-17bdaf3f03ca",
   "metadata": {},
   "outputs": [],
   "source": []
  },
  {
   "cell_type": "code",
   "execution_count": null,
   "id": "fdd5f8c8-4157-4854-8ccb-cb21a69cb21c",
   "metadata": {},
   "outputs": [],
   "source": [
    "stop_segments = gpd.read_parquet(\n",
    "    f\"{SEGMENT_GCS}stop_segments_{analysis_date}.parquet\", \n",
    "    #filters = [[(\"shape_array_key\", \"==\", test_shape)]]\n",
    ")"
   ]
  },
  {
   "cell_type": "code",
   "execution_count": null,
   "id": "012a872e-239d-4151-b106-685c36e46a35",
   "metadata": {},
   "outputs": [],
   "source": [
    "stop_segments[stop_segments.shape_array_key==test_shape]"
   ]
  },
  {
   "cell_type": "code",
   "execution_count": null,
   "id": "2925fc7b-90b7-47a4-8e78-0b5fbf47a51b",
   "metadata": {},
   "outputs": [],
   "source": [
    "\n",
    "shape_df[shape_df.is_simple==  True].head(1).explore(tiles='CartoDB Positron')"
   ]
  },
  {
   "cell_type": "code",
   "execution_count": null,
   "id": "ab089322-8bc6-497e-b77a-09505c30785a",
   "metadata": {},
   "outputs": [],
   "source": [
    "gdf2 = gdf[gdf.shape_array_key.isin([another_shape])]"
   ]
  },
  {
   "cell_type": "code",
   "execution_count": null,
   "id": "38d957c8-f9b8-422d-adbc-760e83fcd0d5",
   "metadata": {},
   "outputs": [],
   "source": [
    "gdf2.head()"
   ]
  },
  {
   "cell_type": "code",
   "execution_count": null,
   "id": "615ac7ff-3461-4d80-8501-6cc6e80c1140",
   "metadata": {},
   "outputs": [],
   "source": [
    "shape_geometry = gdf2.geometry.iloc[0]\n",
    "stop_geometry_array = np.array(gdf2.stop_geometry)\n",
    "stop_sequence_array = np.array(gdf2.stop_sequence)"
   ]
  },
  {
   "cell_type": "code",
   "execution_count": null,
   "id": "83aac0ef-90da-4faa-a001-9bfc80d7918e",
   "metadata": {},
   "outputs": [],
   "source": [
    "current_stop_seq = 21\n",
    "\n",
    "test_segment, test_stops = loopy.super_project(\n",
    "    current_stop_seq,\n",
    "    shape_geometry,\n",
    "    stop_geometry_array,\n",
    "    stop_sequence_array,\n",
    ")\n",
    "\n",
    "segment_to_plot, stops_to_plot = loopy.stop_segment_components_to_geoseries(\n",
    "    test_segment, test_stops)\n",
    "\n",
    "loopy.plot_segments_and_stops(segment_to_plot, stops_to_plot)"
   ]
  },
  {
   "cell_type": "code",
   "execution_count": null,
   "id": "36a974e7-7fe1-43a1-a7e5-ac193ba40e4c",
   "metadata": {},
   "outputs": [],
   "source": [
    "current_stop_seq = 33\n",
    "\n",
    "test_segment, test_stops = loopy.super_project(\n",
    "    current_stop_seq,\n",
    "    shape_geometry,\n",
    "    stop_geometry_array,\n",
    "    stop_sequence_array,\n",
    ")\n",
    "\n",
    "segment_to_plot, stops_to_plot = loopy.stop_segment_components_to_geoseries(\n",
    "    test_segment, test_stops)\n",
    "\n",
    "loopy.plot_segments_and_stops(segment_to_plot, stops_to_plot)"
   ]
  },
  {
   "cell_type": "markdown",
   "id": "9f2c8c9d-b54f-4492-8fc3-fd9c9fe8e43d",
   "metadata": {},
   "source": [
    "## Expand to multiple stops within same shape"
   ]
  },
  {
   "cell_type": "code",
   "execution_count": null,
   "id": "169fb5f9-d4d5-42b4-aade-3c227c2e5a2a",
   "metadata": {},
   "outputs": [],
   "source": [
    "subset_df = gdf2[gdf2.shape_array_key==another_shape\n",
    "                ].reset_index(drop=True)\n",
    "\n",
    "shape_geometry = subset_df.geometry.iloc[0]\n",
    "stop_geometry_array = np.array(subset_df.stop_geometry)\n",
    "stop_sequence_array = np.array(subset_df.stop_sequence)\n",
    "\n",
    "segment_results = []\n",
    "\n",
    "for stop_seq in stop_sequence_array:\n",
    "        \n",
    "    segment_i, _ = loopy.super_project(\n",
    "        stop_seq,\n",
    "        shape_geometry,\n",
    "        stop_geometry_array,\n",
    "        stop_sequence_array,\n",
    "    )\n",
    "    segment_i_series = loopy.stop_segment_components_to_geoseries(\n",
    "        segment_i, [])\n",
    "    \n",
    "    segment_results.append(segment_i_series)\n"
   ]
  },
  {
   "cell_type": "code",
   "execution_count": null,
   "id": "61c294e6-9fb7-4e5b-bf7a-a5008885df89",
   "metadata": {},
   "outputs": [],
   "source": [
    "stop_segments = pd.concat(segment_results, \n",
    "                          axis=0).reset_index(drop=True)"
   ]
  },
  {
   "cell_type": "code",
   "execution_count": null,
   "id": "2ac54802-6a87-425f-9260-68260e12a3fc",
   "metadata": {},
   "outputs": [],
   "source": [
    "subset_df = subset_df.assign(\n",
    "    stop_segments_geometry = stop_segments\n",
    ")"
   ]
  },
  {
   "cell_type": "code",
   "execution_count": null,
   "id": "f9a0c258-0748-4de9-9fbb-05dac0cbef50",
   "metadata": {},
   "outputs": [],
   "source": [
    "subset_df[subset_df.stop_segments_geometry.isna()]"
   ]
  },
  {
   "cell_type": "markdown",
   "id": "33098f52-6f85-4ec0-9745-ff66aeb3190b",
   "metadata": {},
   "source": [
    "## Expand to multiple shapes"
   ]
  },
  {
   "cell_type": "code",
   "execution_count": null,
   "id": "f999fe37-8b8e-4ed8-9574-bd7679c7b272",
   "metadata": {},
   "outputs": [],
   "source": [
    "gdf3 = gdf[gdf.shape_array_key.isin([shape_with_utc, another_shape])]"
   ]
  },
  {
   "cell_type": "code",
   "execution_count": null,
   "id": "b783df07-c7c0-4ed9-8b2c-9c6720c19b43",
   "metadata": {},
   "outputs": [],
   "source": [
    "def super_cut_stop_segments(\n",
    "    gdf: gpd.GeoDataFrame, \n",
    "    one_shape: str\n",
    ") -> gpd.GeoDataFrame:\n",
    "    \n",
    "    subset_df = (gdf[gdf.shape_array_key==one_shape]\n",
    "                 .reset_index(drop=True)\n",
    "                )\n",
    "\n",
    "    shape_geometry = subset_df.geometry.iloc[0]\n",
    "    stop_geometry_array = np.array(subset_df.stop_geometry)\n",
    "    stop_sequence_array = np.array(subset_df.stop_sequence)\n",
    "\n",
    "    segment_results = []\n",
    "\n",
    "    for stop_seq in stop_sequence_array:\n",
    "\n",
    "        segment_i, _ = loopy.super_project(\n",
    "            stop_seq,\n",
    "            shape_geometry,\n",
    "            stop_geometry_array,\n",
    "            stop_sequence_array,\n",
    "        )\n",
    "        segment_i_series = loopy.stop_segment_components_to_geoseries(\n",
    "            segment_i, [])\n",
    "    \n",
    "        segment_results.append(segment_i_series)\n",
    "    \n",
    "    stop_segments = (pd.concat(segment_results, axis=0)\n",
    "                     .reset_index(drop=True)\n",
    "                    )\n",
    "    subset_df = subset_df.assign(\n",
    "        stop_segments_geometry = stop_segments\n",
    "    )\n",
    "    \n",
    "    return subset_df\n"
   ]
  },
  {
   "cell_type": "code",
   "execution_count": null,
   "id": "82793e7b-af1e-4cae-91b4-3dda6c50af61",
   "metadata": {},
   "outputs": [],
   "source": [
    "results_df = gpd.GeoDataFrame()\n",
    "\n",
    "results = []\n",
    "\n",
    "for i in gdf3.shape_array_key.unique():\n",
    "    segments_for_shape = super_cut_stop_segments(gdf3, i)\n",
    "    results.append(segments_for_shape)"
   ]
  },
  {
   "cell_type": "code",
   "execution_count": null,
   "id": "633e3ee2-84c3-49ea-8383-e6b0a2970d82",
   "metadata": {},
   "outputs": [],
   "source": [
    "results_df = pd.concat(results, axis=0)"
   ]
  },
  {
   "cell_type": "code",
   "execution_count": null,
   "id": "0fec460d-355a-4c56-a18f-41fd6eac650f",
   "metadata": {},
   "outputs": [],
   "source": [
    "results_df.shape_array_key.value_counts()"
   ]
  },
  {
   "cell_type": "code",
   "execution_count": null,
   "id": "4bab2689-93c4-47ae-9029-d5451c63da0d",
   "metadata": {},
   "outputs": [],
   "source": [
    "results_df.shape, gdf3.shape"
   ]
  },
  {
   "cell_type": "code",
   "execution_count": null,
   "id": "cb2e02d7-4d58-4277-a343-923fd08e09eb",
   "metadata": {},
   "outputs": [],
   "source": [
    "results_df[results_df.stop_segments_geometry.isna()].shape"
   ]
  },
  {
   "cell_type": "code",
   "execution_count": null,
   "id": "2a416b08-b0c1-45d6-8af6-b66339ce4cd1",
   "metadata": {},
   "outputs": [],
   "source": [
    "from segment_speed_utils import wrangle_shapes\n",
    "from shared_utils import rt_utils"
   ]
  },
  {
   "cell_type": "code",
   "execution_count": null,
   "id": "eabe6847-bc47-4f3d-96df-76364f0ad186",
   "metadata": {},
   "outputs": [],
   "source": [
    "results_df2 = results_df.drop(columns = [\"geometry\", \"stop_geometry\"]\n",
    "                             ).rename(columns = {\"stop_segments_geometry\": \"geometry\"})"
   ]
  },
  {
   "cell_type": "code",
   "execution_count": null,
   "id": "cc81823f-77d3-4361-be61-2211dcf1541c",
   "metadata": {},
   "outputs": [],
   "source": [
    "segment_geom = gpd.GeoSeries(results_df2.geometry)\n",
    "CRS = results_df2.crs.to_epsg()\n",
    "    \n",
    "geom_parallel = gpd.GeoSeries(\n",
    "    [i.parallel_offset(30, \"right\") for i in segment_geom], \n",
    "    crs=CRS\n",
    ")\n"
   ]
  },
  {
   "cell_type": "code",
   "execution_count": null,
   "id": "246d2ae7-8aed-438c-838d-a02b84870ce7",
   "metadata": {},
   "outputs": [],
   "source": [
    "geom_arrowized = rt_utils.arrowize_segment(\n",
    "    geom_parallel, \n",
    "    buffer_distance = 20\n",
    ")\n",
    "\n",
    "results_df2 = results_df2.assign(\n",
    "    geometry_arrowized = geom_arrowized\n",
    ")"
   ]
  },
  {
   "cell_type": "code",
   "execution_count": null,
   "id": "9efcac69-c1b3-4fbd-b2cb-e256118a25fc",
   "metadata": {},
   "outputs": [],
   "source": [
    "results_df2.plot()"
   ]
  },
  {
   "cell_type": "code",
   "execution_count": null,
   "id": "e0a32815-8d09-4abb-a908-deacc5a00fba",
   "metadata": {},
   "outputs": [],
   "source": [
    "#results_df2 = wrangle_shapes.add_arrowized_geometry(results_df2)\n",
    "\n",
    "results_df2.set_geometry(\"geometry_arrowized\").explore(\n",
    "    \"stop_id\", tiles=\"CartoDB Positron\")"
   ]
  },
  {
   "cell_type": "code",
   "execution_count": null,
   "id": "b6cc9bff-23a7-4994-b922-870667b287bf",
   "metadata": {},
   "outputs": [],
   "source": []
  }
 ],
 "metadata": {
  "kernelspec": {
   "display_name": "Python 3 (ipykernel)",
   "language": "python",
   "name": "python3"
  },
  "language_info": {
   "codemirror_mode": {
    "name": "ipython",
    "version": 3
   },
   "file_extension": ".py",
   "mimetype": "text/x-python",
   "name": "python",
   "nbconvert_exporter": "python",
   "pygments_lexer": "ipython3",
   "version": "3.9.13"
  }
 },
 "nbformat": 4,
 "nbformat_minor": 5
}
