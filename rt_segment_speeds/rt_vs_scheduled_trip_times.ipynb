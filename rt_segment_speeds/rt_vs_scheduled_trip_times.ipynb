{
 "cells": [
  {
   "cell_type": "code",
   "execution_count": null,
   "id": "c08f5c2c-a7c4-4f89-8bde-5667a8a463c9",
   "metadata": {},
   "outputs": [],
   "source": [
    "import dask.dataframe as dd\n",
    "import geopandas as gpd\n",
    "import intake\n",
    "import pandas as pd\n",
    "\n",
    "from segment_speed_utils import helpers, sched_rt_utils\n",
    "from segment_speed_utils.project_vars import analysis_date, SEGMENT_GCS\n",
    "\n",
    "catalog = intake.open_catalog(\"../*.yml\")"
   ]
  },
  {
   "cell_type": "code",
   "execution_count": null,
   "id": "8fd84cf7-f3a9-4297-a980-f95cdefd950b",
   "metadata": {},
   "outputs": [],
   "source": [
    "scheduled_trips = sched_rt_utils.crosswalk_scheduled_trip_grouping_with_rt_key(\n",
    "    analysis_date = analysis_date, \n",
    "    keep_trip_cols = [\"feed_key\", \"trip_id\", \"service_hours\"]\n",
    ")"
   ]
  },
  {
   "cell_type": "code",
   "execution_count": null,
   "id": "46b3eb94-6b28-4647-aa88-0a19f3e77e7e",
   "metadata": {},
   "outputs": [],
   "source": [
    "rt_trips = catalog.rt_trip_diagnostics(analysis_date = analysis_date).read()"
   ]
  },
  {
   "cell_type": "code",
   "execution_count": null,
   "id": "12296e09-069b-4c88-8798-9a40b2807382",
   "metadata": {},
   "outputs": [],
   "source": []
  }
 ],
 "metadata": {
  "kernelspec": {
   "display_name": "Python 3 (ipykernel)",
   "language": "python",
   "name": "python3"
  },
  "language_info": {
   "codemirror_mode": {
    "name": "ipython",
    "version": 3
   },
   "file_extension": ".py",
   "mimetype": "text/x-python",
   "name": "python",
   "nbconvert_exporter": "python",
   "pygments_lexer": "ipython3",
   "version": "3.9.13"
  }
 },
 "nbformat": 4,
 "nbformat_minor": 5
}
