{
 "cells": [
  {
   "cell_type": "code",
   "execution_count": 1,
   "id": "9f04613d-8fa7-44d1-8827-3c55e2351ab0",
   "metadata": {},
   "outputs": [],
   "source": [
    "%%capture\n",
    "import warnings\n",
    "warnings.filterwarnings(\"ignore\")\n",
    "\n",
    "import branca\n",
    "import calitp.magics\n",
    "import geopandas as gpd\n",
    "import pandas as pd\n",
    "\n",
    "from shared_utils import portfolio_utils\n",
    "from update_vars import SEGMENT_GCS, analysis_date\n",
    "\n",
    "ZERO_FIFTY_COLORSCALE = branca.colormap.step.RdYlGn_10.scale(\n",
    "    vmin=0, \n",
    "    vmax=50\n",
    ")"
   ]
  },
  {
   "cell_type": "code",
   "execution_count": 2,
   "id": "4e37258d-b752-467f-948c-6a2d5391e8b0",
   "metadata": {},
   "outputs": [
    {
     "ename": "NameError",
     "evalue": "name 'district' is not defined",
     "output_type": "error",
     "traceback": [
      "\u001b[0;31m---------------------------------------------------------------------------\u001b[0m",
      "\u001b[0;31mNameError\u001b[0m                                 Traceback (most recent call last)",
      "Cell \u001b[0;32mIn[2], line 3\u001b[0m\n\u001b[1;32m      1\u001b[0m \u001b[38;5;66;03m# Read in data\u001b[39;00m\n\u001b[1;32m      2\u001b[0m gdf \u001b[38;5;241m=\u001b[39m gpd\u001b[38;5;241m.\u001b[39mread_parquet(\u001b[38;5;124mf\u001b[39m\u001b[38;5;124m\"\u001b[39m\u001b[38;5;132;01m{\u001b[39;00mSEGMENT_GCS\u001b[38;5;132;01m}\u001b[39;00m\u001b[38;5;124mavg_speeds_\u001b[39m\u001b[38;5;132;01m{\u001b[39;00manalysis_date\u001b[38;5;132;01m}\u001b[39;00m\u001b[38;5;124m.parquet\u001b[39m\u001b[38;5;124m\"\u001b[39m)\n\u001b[0;32m----> 3\u001b[0m gdf \u001b[38;5;241m=\u001b[39m gdf[gdf\u001b[38;5;241m.\u001b[39mdistrict\u001b[38;5;241m==\u001b[39m\u001b[43mdistrict\u001b[49m]\u001b[38;5;241m.\u001b[39mreset_index(drop\u001b[38;5;241m=\u001b[39m\u001b[38;5;28;01mTrue\u001b[39;00m)\n\u001b[1;32m      5\u001b[0m \u001b[38;5;66;03m# Use dict to key into district name because D9 is missing data\u001b[39;00m\n\u001b[1;32m      6\u001b[0m district_name \u001b[38;5;241m=\u001b[39m portfolio_utils\u001b[38;5;241m.\u001b[39mdistrict_name_dict[district]\n",
      "\u001b[0;31mNameError\u001b[0m: name 'district' is not defined"
     ]
    }
   ],
   "source": [
    "# Read in data\n",
    "gdf = gpd.read_parquet(f\"{SEGMENT_GCS}avg_speeds_{analysis_date}.parquet\")\n",
    "gdf = gdf[gdf.district==district].reset_index(drop=True)\n",
    "\n",
    "# Use dict to key into district name because D9 is missing data\n",
    "district_name = portfolio_utils.district_name_dict[district]"
   ]
  },
  {
   "cell_type": "code",
   "execution_count": null,
   "id": "7a222bbd-4fb0-43f4-b189-63edc35ce1f8",
   "metadata": {},
   "outputs": [],
   "source": [
    "%%capture_parameters\n",
    "district, district_name"
   ]
  },
  {
   "cell_type": "markdown",
   "id": "0dda7c36-29f0-457f-9932-f2277d2c8ea1",
   "metadata": {},
   "source": [
    "# {district_name}\n",
    "\n",
    "* Goal: statewide map for daily segment speeds\n",
    "* v2 warehouse (01/18/23)\n",
    "* calculate time-of-day averages"
   ]
  },
  {
   "cell_type": "code",
   "execution_count": null,
   "id": "0ae01433-865d-4820-94fe-a62a6c4c6376",
   "metadata": {},
   "outputs": [],
   "source": [
    "#for s in range(30, 75, 5):\n",
    "#    print(f\"# rows with over {s} mph: {len(gdf[gdf.speed_mph > s])}\")"
   ]
  },
  {
   "cell_type": "code",
   "execution_count": null,
   "id": "113b8300-6992-497f-977e-5bdac9650d15",
   "metadata": {},
   "outputs": [],
   "source": [
    "def make_map(gdf: gpd.GeoDataFrame, district: int):\n",
    "    if len(gdf) > 0:\n",
    "        m = gdf.explore(\n",
    "            \"speed_mph\",\n",
    "            tiles = \"CartoDB Positron\",\n",
    "            cmap = ZERO_FIFTY_COLORSCALE\n",
    "        )\n",
    "\n",
    "        display(m)\n",
    "    else:\n",
    "        print(f\"No RT trip info available in district {district}.\")"
   ]
  },
  {
   "cell_type": "code",
   "execution_count": null,
   "id": "e92ff10b-ff10-4900-b503-e64848ee8f54",
   "metadata": {},
   "outputs": [],
   "source": [
    "make_map(gdf, district)"
   ]
  }
 ],
 "metadata": {
  "kernelspec": {
   "display_name": "Python 3 (ipykernel)",
   "language": "python",
   "name": "python3"
  },
  "language_info": {
   "codemirror_mode": {
    "name": "ipython",
    "version": 3
   },
   "file_extension": ".py",
   "mimetype": "text/x-python",
   "name": "python",
   "nbconvert_exporter": "python",
   "pygments_lexer": "ipython3",
   "version": "3.9.13"
  }
 },
 "nbformat": 4,
 "nbformat_minor": 5
}
