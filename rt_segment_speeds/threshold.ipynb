{
 "cells": [
  {
   "cell_type": "markdown",
   "id": "503781ab-a3cb-4092-ab73-ea76ffd696c3",
   "metadata": {},
   "source": [
    "## RT trip diagnostics: thresholds for usable trips \n",
    "### Other Questions\n",
    "* Should thresholds be on the operator or the operator-route ID level?\n",
    "* How to figure out whether a segment is acceptable or not?\n",
    "* Is the `proportion_route_length` tied with usable segments?"
   ]
  },
  {
   "cell_type": "code",
   "execution_count": 20,
   "id": "1faeb7ff-1ebc-4ced-afb0-c813f863d3d8",
   "metadata": {
    "scrolled": true,
    "tags": []
   },
   "outputs": [],
   "source": [
    "import altair as alt\n",
    "import dask.dataframe as dd\n",
    "import dask_geopandas as dg\n",
    "import geopandas as gpd\n",
    "import pandas as pd\n",
    "import numpy as np\n",
    "from calitp.sql import to_snakecase\n",
    "\n",
    "#from shared_utils import calitp_color_palette as cp\n",
    "# from shared_utils import geography_utils, styleguide, utils"
   ]
  },
  {
   "cell_type": "code",
   "execution_count": 2,
   "id": "9f13f204-138e-4b10-94a8-ead22461dad0",
   "metadata": {},
   "outputs": [],
   "source": [
    "# Save files to GCS\n",
    "from calitp.storage import get_fs\n",
    "\n",
    "fs = get_fs()"
   ]
  },
  {
   "cell_type": "code",
   "execution_count": 3,
   "id": "35a36bc4-4f66-4285-8025-a5eaccc3a266",
   "metadata": {},
   "outputs": [],
   "source": [
    "# Record start and end time\n",
    "import datetime\n",
    "\n",
    "from loguru import logger"
   ]
  },
  {
   "cell_type": "code",
   "execution_count": 4,
   "id": "a18b7f72-6ca7-4e95-a2a6-5cafb03702eb",
   "metadata": {},
   "outputs": [],
   "source": [
    "import intake\n",
    "\n",
    "catalog = intake.open_catalog(\"./catalog_threshold.yml\")"
   ]
  },
  {
   "cell_type": "code",
   "execution_count": 5,
   "id": "f6233726-eb99-4f7e-9a90-842872f36ed7",
   "metadata": {},
   "outputs": [],
   "source": [
    "pd.options.display.max_columns = 100\n",
    "pd.options.display.float_format = \"{:.2f}\".format\n",
    "pd.set_option(\"display.max_rows\", None)\n",
    "pd.set_option(\"display.max_colwidth\", None)"
   ]
  },
  {
   "cell_type": "markdown",
   "id": "b26bf5e4-5ced-43dd-b792-12fa0e2376c0",
   "metadata": {},
   "source": [
    "### Load Files"
   ]
  },
  {
   "cell_type": "code",
   "execution_count": 6,
   "id": "2f333522-803a-4b60-b4af-b2edd0a274df",
   "metadata": {},
   "outputs": [],
   "source": [
    "GCS_DASK_PATH = \"gs://calitp-analytics-data/data-analyses/dask_test/\"\n",
    "GCS_RT_PATH = \"gs://calitp-analytics-data/data-analyses/rt_delay/\""
   ]
  },
  {
   "cell_type": "code",
   "execution_count": 7,
   "id": "cdd7ae15-7777-4c40-94be-f441f68f9b6a",
   "metadata": {},
   "outputs": [],
   "source": [
    "analysis_date = \"2022-10-12\""
   ]
  },
  {
   "cell_type": "code",
   "execution_count": 8,
   "id": "54f14c56-e931-4c9f-8a8b-be7d90f813a0",
   "metadata": {},
   "outputs": [],
   "source": [
    "agency = 282"
   ]
  },
  {
   "cell_type": "code",
   "execution_count": 9,
   "id": "7ddaf111-2652-4162-85fc-bd4e884bfb48",
   "metadata": {},
   "outputs": [],
   "source": [
    "operator = pd.read_parquet(\n",
    "    f\"{GCS_DASK_PATH}vp_sjoin/vp_segment_{agency}_{analysis_date}.parquet\"\n",
    ")"
   ]
  },
  {
   "cell_type": "code",
   "execution_count": 10,
   "id": "0405d769-f4f2-4239-aa4d-c6c0931781bd",
   "metadata": {},
   "outputs": [],
   "source": [
    "# routelines = catalog.route_lines.read()"
   ]
  },
  {
   "cell_type": "code",
   "execution_count": 11,
   "id": "fa0434e8-d4ed-4d38-b61b-7d4bc81a2ba2",
   "metadata": {},
   "outputs": [],
   "source": [
    "# trips = catalog.trips.read()"
   ]
  },
  {
   "cell_type": "code",
   "execution_count": 12,
   "id": "5792e0cf-b66e-489d-9e27-1cef748983f0",
   "metadata": {},
   "outputs": [],
   "source": [
    "# longest_shape = catalog.longest_shape.read()"
   ]
  },
  {
   "cell_type": "code",
   "execution_count": 13,
   "id": "8bfb6fd7-5b9e-48f9-9430-ac65f0499f03",
   "metadata": {},
   "outputs": [],
   "source": [
    "# crosswalk = catalog.crosswalk.read()"
   ]
  },
  {
   "cell_type": "markdown",
   "id": "30ea0f95-de9d-4b1e-92bd-95111ba0e2d7",
   "metadata": {
    "tags": []
   },
   "source": [
    "### Task 1\n",
    "* Using GTFS schedule data, by route_id-shape_id, calculate the route_length of each shape_id as a proportion of the longest shape_id. \n",
    "* For <b>each route_id</b>, what's the shortest shape_id length, in proportion to the longest shape_id's length. if it's 100%, then all shape_ids are equal length for that route. if it's 50%, there's a short trip that exists that only runs 50% of the length and turns around.\n",
    "\n",
    "<b>How</b>\n",
    "* Need table `trips` from compile cached views -> shape ID and route ID and direction ID -> merge in segments crosswalk with route direction identifier \n",
    "* Shapes table -> attach route dir identifier\n",
    "* Merge in longest shape line using  routes and direction take the fraction. "
   ]
  },
  {
   "cell_type": "code",
   "execution_count": 14,
   "id": "5eebc5f1-4825-48f0-b25b-76ab44b7b2c9",
   "metadata": {},
   "outputs": [],
   "source": [
    "def clean_trips():\n",
    "    df = catalog.trips.read()\n",
    "\n",
    "    subset = [\n",
    "        \"calitp_itp_id\",\n",
    "        \"route_id\",\n",
    "        \"direction_id\",\n",
    "        \"shape_id\",\n",
    "    ]\n",
    "\n",
    "    df = df[subset]\n",
    "\n",
    "    df = df.drop_duplicates().reset_index(drop=True)\n",
    "\n",
    "    return df"
   ]
  },
  {
   "cell_type": "code",
   "execution_count": 15,
   "id": "e777c75d-c670-45b1-b85d-a92d276e418a",
   "metadata": {},
   "outputs": [],
   "source": [
    "def clean_routelines():\n",
    "    df = catalog.route_lines.read()\n",
    "\n",
    "    # Drop CalITP since it's no longer needed\n",
    "    df = df.drop(columns=[\"calitp_url_number\"])\n",
    "\n",
    "    df = (df.drop_duplicates()).reset_index(drop=True)\n",
    "\n",
    "    # Calculate length of geometry\n",
    "    df = df.assign(\n",
    "        actual_route_length=(df.geometry.to_crs(geography_utils.CA_NAD83Albers).length)\n",
    "    )\n",
    "\n",
    "    return df"
   ]
  },
  {
   "cell_type": "code",
   "execution_count": 16,
   "id": "ed4cb6ab-98a3-4de0-beaf-27782914b5e4",
   "metadata": {},
   "outputs": [],
   "source": [
    "def clean_longest_shape():\n",
    "    df = catalog.longest_shape.read()\n",
    "\n",
    "    df = df.rename(columns={\"route_length\": \"longest_route_length\"})\n",
    "\n",
    "    return df"
   ]
  },
  {
   "cell_type": "code",
   "execution_count": 17,
   "id": "c66d520b-588c-4724-a07b-3a4abe9fdb67",
   "metadata": {},
   "outputs": [],
   "source": [
    "def merge_trips_routes_longest_shape():\n",
    "    trips = clean_trips()\n",
    "    crosswalk = catalog.crosswalk.read()\n",
    "    routelines = clean_routelines()\n",
    "    longest_shape = clean_longest_shape()\n",
    "\n",
    "    m1 = (\n",
    "        trips.merge(\n",
    "            crosswalk, how=\"inner\", on=[\"calitp_itp_id\", \"route_id\", \"direction_id\"]\n",
    "        )\n",
    "        .merge(routelines, how=\"inner\", on=[\"calitp_itp_id\", \"shape_id\"])\n",
    "        .merge(\n",
    "            longest_shape.drop(columns=[\"geometry\"]),\n",
    "            how=\"inner\",\n",
    "            on=[\"calitp_itp_id\", \"direction_id\", \"route_id\", \"route_dir_identifier\"],\n",
    "        )\n",
    "    )\n",
    "\n",
    "    # Calculate out proportion of route length against longest.\n",
    "    m1[\"proportion_route_length\"] = ((m1[\"actual_route_length\"] / m1[\"longest_route_length\"]) * 100).astype(int)\n",
    "\n",
    "    m1 = (\n",
    "    m1.groupby(\n",
    "        [\n",
    "            \"route_id\",\n",
    "            \"calitp_itp_id\",\n",
    "            \"route_dir_identifier\",\n",
    "            \"shape_id\",\n",
    "            \"longest_shape_id\",\n",
    "            \"proportion_route_length\",\n",
    "        ]\n",
    "    )\n",
    "    .agg({\"segment_sequence\": \"count\"})\n",
    "    .rename(columns = {'segment_sequence':'total_segments'})\n",
    "    .reset_index())\n",
    "    \n",
    "    return m1"
   ]
  },
  {
   "cell_type": "code",
   "execution_count": 18,
   "id": "9a491c0f-b98c-4ee5-a782-e701c56ed6e7",
   "metadata": {},
   "outputs": [
    {
     "ename": "NameError",
     "evalue": "name 'geography_utils' is not defined",
     "output_type": "error",
     "traceback": [
      "\u001b[0;31m---------------------------------------------------------------------------\u001b[0m",
      "\u001b[0;31mNameError\u001b[0m                                 Traceback (most recent call last)",
      "Cell \u001b[0;32mIn[18], line 1\u001b[0m\n\u001b[0;32m----> 1\u001b[0m trips_routes_shape \u001b[38;5;241m=\u001b[39m \u001b[43mmerge_trips_routes_longest_shape\u001b[49m\u001b[43m(\u001b[49m\u001b[43m)\u001b[49m\n",
      "Cell \u001b[0;32mIn[17], line 4\u001b[0m, in \u001b[0;36mmerge_trips_routes_longest_shape\u001b[0;34m()\u001b[0m\n\u001b[1;32m      2\u001b[0m trips \u001b[38;5;241m=\u001b[39m clean_trips()\n\u001b[1;32m      3\u001b[0m crosswalk \u001b[38;5;241m=\u001b[39m catalog\u001b[38;5;241m.\u001b[39mcrosswalk\u001b[38;5;241m.\u001b[39mread()\n\u001b[0;32m----> 4\u001b[0m routelines \u001b[38;5;241m=\u001b[39m \u001b[43mclean_routelines\u001b[49m\u001b[43m(\u001b[49m\u001b[43m)\u001b[49m\n\u001b[1;32m      5\u001b[0m longest_shape \u001b[38;5;241m=\u001b[39m clean_longest_shape()\n\u001b[1;32m      7\u001b[0m m1 \u001b[38;5;241m=\u001b[39m (\n\u001b[1;32m      8\u001b[0m     trips\u001b[38;5;241m.\u001b[39mmerge(\n\u001b[1;32m      9\u001b[0m         crosswalk, how\u001b[38;5;241m=\u001b[39m\u001b[38;5;124m\"\u001b[39m\u001b[38;5;124minner\u001b[39m\u001b[38;5;124m\"\u001b[39m, on\u001b[38;5;241m=\u001b[39m[\u001b[38;5;124m\"\u001b[39m\u001b[38;5;124mcalitp_itp_id\u001b[39m\u001b[38;5;124m\"\u001b[39m, \u001b[38;5;124m\"\u001b[39m\u001b[38;5;124mroute_id\u001b[39m\u001b[38;5;124m\"\u001b[39m, \u001b[38;5;124m\"\u001b[39m\u001b[38;5;124mdirection_id\u001b[39m\u001b[38;5;124m\"\u001b[39m]\n\u001b[0;32m   (...)\u001b[0m\n\u001b[1;32m     16\u001b[0m     )\n\u001b[1;32m     17\u001b[0m )\n",
      "Cell \u001b[0;32mIn[15], line 11\u001b[0m, in \u001b[0;36mclean_routelines\u001b[0;34m()\u001b[0m\n\u001b[1;32m      7\u001b[0m df \u001b[38;5;241m=\u001b[39m (df\u001b[38;5;241m.\u001b[39mdrop_duplicates())\u001b[38;5;241m.\u001b[39mreset_index(drop\u001b[38;5;241m=\u001b[39m\u001b[38;5;28;01mTrue\u001b[39;00m)\n\u001b[1;32m      9\u001b[0m \u001b[38;5;66;03m# Calculate length of geometry\u001b[39;00m\n\u001b[1;32m     10\u001b[0m df \u001b[38;5;241m=\u001b[39m df\u001b[38;5;241m.\u001b[39massign(\n\u001b[0;32m---> 11\u001b[0m     actual_route_length\u001b[38;5;241m=\u001b[39m(df\u001b[38;5;241m.\u001b[39mgeometry\u001b[38;5;241m.\u001b[39mto_crs(\u001b[43mgeography_utils\u001b[49m\u001b[38;5;241m.\u001b[39mCA_NAD83Albers)\u001b[38;5;241m.\u001b[39mlength)\n\u001b[1;32m     12\u001b[0m )\n\u001b[1;32m     14\u001b[0m \u001b[38;5;28;01mreturn\u001b[39;00m df\n",
      "\u001b[0;31mNameError\u001b[0m: name 'geography_utils' is not defined"
     ]
    }
   ],
   "source": [
    "trips_routes_shape = merge_trips_routes_longest_shape()"
   ]
  },
  {
   "cell_type": "markdown",
   "id": "319681c5-9f85-4e85-83ac-1b211d6d0189",
   "metadata": {
    "jp-MarkdownHeadingCollapsed": true,
    "tags": []
   },
   "source": [
    "### Task 2\n",
    "* Testing with Agency 4. \n",
    "* Calculate time of trips?\n"
   ]
  },
  {
   "cell_type": "code",
   "execution_count": null,
   "id": "3c057b6d-9b02-4e02-8932-8af2c12f769d",
   "metadata": {},
   "outputs": [],
   "source": [
    "def merge_trip_diagnostics_with_total_segments():\n",
    "    trip_diagnostics = pd.read_parquet(\"gs://calitp-analytics-data/data-analyses/dask_test/trip_diagnostics_2022-10-12.parquet\", \n",
    "    )\n",
    "    \n",
    "    segments = gpd.read_parquet(\n",
    "        f\"{GCS_DASK_PATH}longest_shape_segments_{analysis_date}.parquet\")\n",
    "    \n",
    "    total_segments_by_shape = (segments.groupby(\n",
    "            [\"calitp_itp_id\", \"route_dir_identifier\"])\n",
    "            .segment_sequence.nunique()\n",
    "            .reset_index()\n",
    "            .rename(columns = {\"segment_sequence\": \"total_segments\"})\n",
    "           )\n",
    "    \n",
    "    df = pd.merge(\n",
    "        trip_diagnostics,\n",
    "        total_segments_by_shape,\n",
    "        on = [\"calitp_itp_id\", \"route_dir_identifier\"],\n",
    "        how = \"inner\",\n",
    "        validate = \"m:1\",\n",
    "    )\n",
    "    \n",
    "    df = df.assign(\n",
    "        pct_vp_segments = df.num_segments_with_vp.divide(df.total_segments),\n",
    "        trip_time = (df.trip_end - df.trip_start) / np.timedelta64(1, 's'),\n",
    "        total_trips = df.groupby(\"calitp_itp_id\").trip_id.transform(\"nunique\"),\n",
    "    )\n",
    "    \n",
    "    return df"
   ]
  },
  {
   "cell_type": "code",
   "execution_count": null,
   "id": "f1817a2d-540a-4209-8fb2-218cf5b9948c",
   "metadata": {},
   "outputs": [],
   "source": [
    "operator_282 = merge_trip_diagnostics_with_total_segments()"
   ]
  },
  {
   "cell_type": "code",
   "execution_count": null,
   "id": "7ba1e541-65ed-4101-a703-8139fbf5bd26",
   "metadata": {},
   "outputs": [],
   "source": [
    "operator_282 = operator_282.loc[operator_282.calitp_itp_id == 282].reset_index(drop = True)"
   ]
  },
  {
   "cell_type": "code",
   "execution_count": null,
   "id": "452980ac-4f08-4520-a092-a6f54ae5b2fa",
   "metadata": {},
   "outputs": [],
   "source": [
    "operator_282.head()"
   ]
  },
  {
   "cell_type": "code",
   "execution_count": null,
   "id": "f8981af1-1c17-4057-affa-916ad6dcb619",
   "metadata": {},
   "outputs": [],
   "source": [
    "def summary_valid_trips_by_cutoff(\n",
    "    df, time_cutoffs: list, segment_cutoffs: list): \n",
    "\n",
    "    final = pd.DataFrame()\n",
    "\n",
    "    for t in time_cutoffs:\n",
    "        for s in segment_cutoffs:\n",
    "            valid = (df[(df.trip_time >= t) & (df.pct_vp_segments >= s)]\n",
    "                     .groupby([\"calitp_itp_id\", \"total_trips\"])\n",
    "                     .trip_id.nunique()\n",
    "                     .reset_index()\n",
    "                     .rename(columns = {\"trip_id\": \"n_trips\"})\n",
    "                    )\n",
    "\n",
    "            valid = valid.assign(\n",
    "                trip_cutoff = t,\n",
    "                segment_cutoff = s,\n",
    "                cutoff = f\"{t}+ min & {s*100}%+ segments\"\n",
    "            )\n",
    "\n",
    "            final = pd.concat([final, valid], axis=0)\n",
    "    \n",
    "    \n",
    "    final = final.assign(\n",
    "        pct_usable_trips = final.n_trips.divide(final.total_trips)\n",
    "    )\n",
    "    \n",
    "    return final"
   ]
  },
  {
   "cell_type": "code",
   "execution_count": null,
   "id": "33c1fc4d-fab4-4c1f-8434-4672bfa7cf87",
   "metadata": {},
   "outputs": [],
   "source": [
    "TIME_CUTOFFS = [5, 10, 15]\n",
    "SEGMENT_CUTOFFS = [0.1, 0.2, 0.25, 0.3, 0.4, 0.5, 0.6, 0.7, 0.75]"
   ]
  },
  {
   "cell_type": "code",
   "execution_count": null,
   "id": "0b7a8152-29c1-4ff5-9091-eab753bc6671",
   "metadata": {},
   "outputs": [],
   "source": [
    "valid_stats = summary_valid_trips_by_cutoff(\n",
    "    operator_282, TIME_CUTOFFS, SEGMENT_CUTOFFS)"
   ]
  },
  {
   "cell_type": "code",
   "execution_count": null,
   "id": "535efa94-9037-4e54-b7dd-486a68641f88",
   "metadata": {},
   "outputs": [],
   "source": [
    "valid_stats"
   ]
  },
  {
   "cell_type": "code",
   "execution_count": null,
   "id": "b4b81857-fe11-4cc0-9270-ea5dc0af5f72",
   "metadata": {},
   "outputs": [],
   "source": [
    "# Find the total number of segments in the specific operator file\n",
    "# vs. what was recorded in `longest_shape`\n",
    "m2[\"segment_proportion\"] = ((m2.number_of_segments / m2.segment_sequence) * 100).astype(\n",
    "    \"int64\"\n",
    ")"
   ]
  },
  {
   "cell_type": "code",
   "execution_count": null,
   "id": "f5ebc9a8-37f2-4314-a3a1-6ae1d05d24f8",
   "metadata": {
    "tags": []
   },
   "outputs": [],
   "source": [
    "m2.sample()"
   ]
  },
  {
   "cell_type": "code",
   "execution_count": null,
   "id": "8df2648e-fcba-47f5-a356-46b63827ab3b",
   "metadata": {},
   "outputs": [],
   "source": [
    "m2.segment_proportion.value_counts().head()"
   ]
  },
  {
   "cell_type": "code",
   "execution_count": null,
   "id": "c98aeb4a-2374-4032-bed5-3fa2d28e06aa",
   "metadata": {},
   "outputs": [],
   "source": [
    "m2.loc[m2.route_id == \"U\"]"
   ]
  },
  {
   "cell_type": "code",
   "execution_count": null,
   "id": "fffbd488-73b5-4ed2-a7ac-a60f20547141",
   "metadata": {},
   "outputs": [],
   "source": [
    "m2.loc[m2.route_dir_identifier == 4105021223].shape_id.nunique()"
   ]
  },
  {
   "cell_type": "code",
   "execution_count": null,
   "id": "1dff260d-aa00-40d6-9e71-572d02b8207b",
   "metadata": {},
   "outputs": [],
   "source": [
    "m2.loc[m2.route_dir_identifier == 4105021223].longest_shape_id.nunique()"
   ]
  },
  {
   "cell_type": "code",
   "execution_count": null,
   "id": "73413c04-40a9-4db9-ae31-63a2d4128ecc",
   "metadata": {},
   "outputs": [],
   "source": [
    "m2.loc[m2.route_dir_identifier == 4105021223].trip_id.nunique()"
   ]
  },
  {
   "cell_type": "code",
   "execution_count": null,
   "id": "d4ac4d75-b29d-436b-bb8d-d92638f9fec9",
   "metadata": {
    "tags": []
   },
   "outputs": [],
   "source": [
    "m2.loc[m2.route_dir_identifier == 4105021223].sample(5)"
   ]
  },
  {
   "cell_type": "code",
   "execution_count": null,
   "id": "9d6a2218-8508-4b45-be3d-391501e84f4d",
   "metadata": {},
   "outputs": [],
   "source": [
    "m2.loc[m2.trip_id == \"6566020\"]"
   ]
  },
  {
   "cell_type": "code",
   "execution_count": null,
   "id": "b343ad65-01e9-4950-894b-7a95df8e1e23",
   "metadata": {},
   "outputs": [],
   "source": [
    "operator_4.loc[operator_4.trip_id == \"6566020\"].head()"
   ]
  },
  {
   "cell_type": "code",
   "execution_count": null,
   "id": "4f754700-966f-4367-bf38-1f08509ee8a6",
   "metadata": {},
   "outputs": [],
   "source": [
    "operator_4_metrics.loc[operator_4_metrics.trip_id == \"6566020\"]"
   ]
  },
  {
   "cell_type": "code",
   "execution_count": null,
   "id": "c4882b64-c753-4d6c-857f-82b3625f44f8",
   "metadata": {
    "scrolled": true,
    "tags": []
   },
   "outputs": [],
   "source": [
    "# Can't find 1244740981 in this list.\n",
    "# operator_4.route_dir_identifier.unique().tolist()"
   ]
  },
  {
   "cell_type": "code",
   "execution_count": null,
   "id": "cc96cc89-3c0a-444d-b7a7-128c3da90030",
   "metadata": {},
   "outputs": [],
   "source": [
    "# Total route ids using longest_shape/trips/routelines.\n",
    "routelines_final.loc[routelines_final.calitp_itp_id == 4][[\"route_id\"]].nunique()"
   ]
  },
  {
   "cell_type": "code",
   "execution_count": null,
   "id": "73385a6a-71b8-46ad-a8f8-1ad1cb2d2d57",
   "metadata": {},
   "outputs": [],
   "source": [
    "m2.route_id.nunique()"
   ]
  },
  {
   "cell_type": "code",
   "execution_count": null,
   "id": "6100b941-6025-4a6c-a982-634392c40bee",
   "metadata": {
    "scrolled": true,
    "tags": []
   },
   "outputs": [],
   "source": [
    "merged_routeid = set(m2.route_id.unique().tolist())"
   ]
  },
  {
   "cell_type": "code",
   "execution_count": null,
   "id": "9b571d5d-0cba-4a67-addb-b37af57b23a2",
   "metadata": {
    "scrolled": true,
    "tags": []
   },
   "outputs": [],
   "source": [
    "routelines_routeid = set(routelines_final.route_id.unique().tolist())"
   ]
  },
  {
   "cell_type": "code",
   "execution_count": null,
   "id": "56efe490-a7e7-4c58-bdfb-ae97e130efb4",
   "metadata": {
    "tags": []
   },
   "outputs": [],
   "source": [
    "merged_routeid - routelines_routeid"
   ]
  },
  {
   "cell_type": "code",
   "execution_count": null,
   "id": "c065e394-fa4c-4ed1-b216-7148efd606c3",
   "metadata": {
    "scrolled": true,
    "tags": []
   },
   "outputs": [],
   "source": [
    "# routelines_routeid - merged_routeid"
   ]
  },
  {
   "cell_type": "markdown",
   "id": "267d4a6a-9d17-404d-8639-96088cb678b0",
   "metadata": {},
   "source": [
    "### Ask\n",
    "Github\n",
    "* For each operator, what's the % of RT trip_ids that would remain after those thresholds are used? Make a chart function that takes a single operator. Produce charts for all operators. Is the time or geographic coverage that's driving this excluding of trips? What is a recommended threshold to use?\n",
    "* For short trips, do they tend to be 50% of the longest route length? 40% 30%? \n",
    "\n",
    "Meeting\n",
    "* Filter out for trips that provide useful information before attaching segments to it. \n",
    "* How many shape ID's for that route are usable? \n",
    "* What's the typical threshold of the actual length of the route versus the longest length we have on record?\n",
    "* Example: How many 10 minute unique trip IDs will remain and segments will remain after filtering ones that don't provide insights?\n",
    "* % of segments that actually show up reflects how much of a trip was recorded in GTFS. "
   ]
  },
  {
   "cell_type": "code",
   "execution_count": null,
   "id": "e0c987b0-43eb-43e2-8bae-5ddb1454b3d3",
   "metadata": {},
   "outputs": [],
   "source": [
    "len(m2)"
   ]
  },
  {
   "cell_type": "code",
   "execution_count": null,
   "id": "4441580b-1bf1-4a51-aaad-8d2af7cd62d1",
   "metadata": {},
   "outputs": [],
   "source": [
    "(m2.proportion_route_length.value_counts() / len(m2) * 100).head(15)"
   ]
  },
  {
   "cell_type": "code",
   "execution_count": null,
   "id": "40071754-83b2-42ce-86c4-4cff85c67a63",
   "metadata": {
    "tags": []
   },
   "outputs": [],
   "source": [
    "(m2.segment_proportion.value_counts() / len(m2) * 100).head(15)"
   ]
  },
  {
   "cell_type": "code",
   "execution_count": null,
   "id": "40e87845-6b6e-4e6c-8b16-0f4c9ff1745e",
   "metadata": {},
   "outputs": [],
   "source": [
    "m2.minutes_elapsed.describe()"
   ]
  },
  {
   "cell_type": "code",
   "execution_count": null,
   "id": "8037b58d-63a0-4894-bf7d-0e43415c2298",
   "metadata": {},
   "outputs": [],
   "source": [
    "p25_time = m2.minutes_elapsed.quantile(0.25).astype(int)\n",
    "p50_time = m2.minutes_elapsed.quantile(0.50).astype(int)\n",
    "p75_time = m2.minutes_elapsed.quantile(0.75).astype(int)"
   ]
  },
  {
   "cell_type": "code",
   "execution_count": null,
   "id": "6da4e978-6ec9-490a-9f02-d2b655fc9ecf",
   "metadata": {},
   "outputs": [],
   "source": [
    "def trip_duration(row):\n",
    "    if (row.minutes_elapsed > 0) and (row.minutes_elapsed <= p25_time):\n",
    "        return f\"Short Trip <= {p25_time} min\"\n",
    "    elif (row.minutes_elapsed > p25_time) and (row.minutes_elapsed <= p75_time):\n",
    "        return f\"Medium Trip <= {p75_time} min\"\n",
    "    else:\n",
    "        return f\"Long Trip > {p75_time} min\""
   ]
  },
  {
   "cell_type": "code",
   "execution_count": null,
   "id": "dbefc934-cc4c-4964-85a0-cf71357683f6",
   "metadata": {},
   "outputs": [],
   "source": [
    "m2[\"trip_duration_categories\"] = m2.apply(lambda x: trip_duration(x), axis=1)"
   ]
  },
  {
   "cell_type": "code",
   "execution_count": null,
   "id": "570d529d-0fe3-4905-9901-b8f97ce77364",
   "metadata": {},
   "outputs": [],
   "source": [
    "m2.trip_duration_categories.value_counts()"
   ]
  },
  {
   "cell_type": "code",
   "execution_count": null,
   "id": "38a4b6d7-98a5-4edb-8ddd-be2e371cfeda",
   "metadata": {},
   "outputs": [],
   "source": [
    "test = m2.loc[m2.segment_proportion < 100][[\"segment_proportion\"]]"
   ]
  },
  {
   "cell_type": "code",
   "execution_count": null,
   "id": "2589195f-c00a-464c-b066-90325d54a76b",
   "metadata": {},
   "outputs": [],
   "source": [
    "test.describe()"
   ]
  },
  {
   "cell_type": "code",
   "execution_count": null,
   "id": "271ba605-3759-438d-ae48-7e35f9fff25a",
   "metadata": {},
   "outputs": [],
   "source": [
    "p25_length = test.segment_proportion.quantile(0.25).astype(int)\n",
    "p75_length = test.segment_proportion.quantile(0.75).astype(int)"
   ]
  },
  {
   "cell_type": "code",
   "execution_count": null,
   "id": "56770e74-7b5b-4978-87a7-6e6234940f44",
   "metadata": {},
   "outputs": [],
   "source": [
    "def shape_id_comparison(row):\n",
    "    if (row.segment_proportion > 0) and (row.segment_proportion <= p25_length):\n",
    "        return f\" <={p25_length}% of segments appear\"\n",
    "    elif (row.segment_proportion > p25_length) and (\n",
    "        row.segment_proportion <= p75_length\n",
    "    ):\n",
    "        return f\"<= {p75_length}% of segments appear\"\n",
    "    else:\n",
    "        return f\">= {p75_length}% of segments appear\""
   ]
  },
  {
   "cell_type": "code",
   "execution_count": null,
   "id": "9cfacf3f-38a5-4ed3-9974-0e5ced53aaa1",
   "metadata": {},
   "outputs": [],
   "source": [
    "m2[\"shapeid_vs_longest_shapeid_length\"] = m2.apply(\n",
    "    lambda x: shape_id_comparison(x), axis=1\n",
    ")"
   ]
  },
  {
   "cell_type": "code",
   "execution_count": null,
   "id": "5b45cd81-7560-4605-b147-ac523e83d890",
   "metadata": {},
   "outputs": [],
   "source": [
    "m2.shapeid_vs_longest_shapeid_length.value_counts()"
   ]
  },
  {
   "cell_type": "code",
   "execution_count": null,
   "id": "3c224f89-3bd7-4c7c-ae46-bd33c27cd1e0",
   "metadata": {},
   "outputs": [],
   "source": [
    "m2.loc[m2.trip_id == \"6566020\"]"
   ]
  },
  {
   "cell_type": "code",
   "execution_count": null,
   "id": "30048c66-e3b6-4a5c-ba4c-36a6378da209",
   "metadata": {},
   "outputs": [],
   "source": [
    "len(m2), len(m2.drop_duplicates())"
   ]
  },
  {
   "cell_type": "markdown",
   "id": "df7e4a5d-fe29-41bc-810e-00350c529927",
   "metadata": {},
   "source": [
    "##### How to incorporate time element?\n",
    "* Same route_dir_identifier falls into a few different categories? Shouldn't they all be around the same duration in terms of minutes?\n",
    "* How could the time vary so drastically when the # of segments match up?"
   ]
  },
  {
   "cell_type": "code",
   "execution_count": null,
   "id": "a0e624a2-6a67-41ae-911e-bd4885a26e75",
   "metadata": {},
   "outputs": [],
   "source": [
    "m2.loc[m2.route_dir_identifier == 2184919314].minutes_elapsed.describe()"
   ]
  },
  {
   "cell_type": "code",
   "execution_count": null,
   "id": "23016e27-c9d0-4365-a797-c1210c06aaa3",
   "metadata": {},
   "outputs": [],
   "source": [
    "m2.loc[m2.route_dir_identifier == 2184919314][\n",
    "    [\"trip_id\", \"minutes_elapsed\", \"trip_duration_categories\"]\n",
    "].head(10)"
   ]
  },
  {
   "cell_type": "code",
   "execution_count": null,
   "id": "ce52754e-01fd-4dc3-82f7-088330cf344d",
   "metadata": {},
   "outputs": [],
   "source": [
    "def usable(row):\n",
    "    if row.shapeid_vs_longest_shapeid_length == (\n",
    "        f\" <={p25_length}% of segments appear\"\n",
    "    ):\n",
    "        return \"Unusable\"\n",
    "    else:\n",
    "        return \"Usable\""
   ]
  },
  {
   "cell_type": "code",
   "execution_count": null,
   "id": "92c8ec4a-c369-40c6-af09-7081a6f6a0dc",
   "metadata": {},
   "outputs": [],
   "source": [
    "m2[\"usable_y_n\"] = m2.apply(lambda x: usable(x), axis=1)"
   ]
  },
  {
   "cell_type": "markdown",
   "id": "bf25021e-8b11-4ad1-a5f5-290750cefa65",
   "metadata": {},
   "source": [
    "### Already Answered Notes/Questions\n",
    "* What is the calitp url number? What does 0 or 1 mean? V1, operator has different feeds. \n",
    "    * 0 could be primary, 1 is backup. This column will be deleted in V2. \n",
    "* Do you think that most shape IDS are going to be less than 100% of the length of the longest shape ID? \n",
    "    * Not necessarily, shape ID can be a short version of the trip.\n",
    "* What’s the difference between direction ID and route dir identifier? What does the 0 and 1 mean in direction ID?\n",
    "    * We don't know where the bus is going, so just do 0 and 1.\n",
    "    * Route dir identifier: captures route info and direction it is going to capture all the trips. Helps with groupby. \n",
    "    * We don't want to stick with trip id, we need to get to route level. \n",
    "    * Don't want to lose info on the direction. \n",
    "    * Have to distinguish direction or else it'll look like the bus is going backwards when plotting.\n",
    "    * RT data comes with direction id and can get which direction it ran in from schedule data. \n",
    "    * Attach route, join coordinate data to segments. \n",
    "    * Use segments and average out trips that occurred on that segment. \n",
    "* Ask about graph on Slack. \n",
    "* Should I use this `get_routelines` from `A1_vehicle_positions`. \n",
    "    * Just read it directly from GCS, don't need buffer.\n",
    "* Why would the same route ID for the other direction have more segments? \n",
    "   * Can have a layover. \n",
    "   * A segment must be 1000 meters or less.\n",
    "* The `route_dir_identifier` is used for segments to cut segments\n",
    "for both directions the route runs.\n",
    "\n",
    "* How come there are so many different timestamps within a 30 second increments of each either within the same segment? GTFS pings every 30 seconds."
   ]
  }
 ],
 "metadata": {
  "kernelspec": {
   "display_name": "Python 3 (ipykernel)",
   "language": "python",
   "name": "python3"
  },
  "language_info": {
   "codemirror_mode": {
    "name": "ipython",
    "version": 3
   },
   "file_extension": ".py",
   "mimetype": "text/x-python",
   "name": "python",
   "nbconvert_exporter": "python",
   "pygments_lexer": "ipython3",
   "version": "3.9.13"
  }
 },
 "nbformat": 4,
 "nbformat_minor": 5
}
