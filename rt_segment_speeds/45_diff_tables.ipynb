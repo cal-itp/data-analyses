{
 "cells": [
  {
   "cell_type": "code",
   "execution_count": 2,
   "id": "d528f399-cf33-459e-b5dc-92e0b4ae389a",
   "metadata": {},
   "outputs": [],
   "source": [
    "import pandas as pd\n",
    "import geopandas as gpd\n",
    "from siuba import *\n",
    "import shared_utils\n",
    "\n",
    "from calitp_data_analysis import get_fs, geography_utils\n",
    "from segment_speed_utils import helpers, time_series_utils, gtfs_schedule_wrangling\n",
    "from segment_speed_utils.project_vars import SCHED_GCS, SEGMENT_GCS, GTFS_DATA_DICT, analysis_date"
   ]
  },
  {
   "cell_type": "code",
   "execution_count": 3,
   "id": "42a16a99-113f-48e9-9f8e-f5cea66952ed",
   "metadata": {},
   "outputs": [],
   "source": [
    "import dask.dataframe as dd\n",
    "import dask_geopandas as dg"
   ]
  },
  {
   "cell_type": "markdown",
   "id": "83bf87cf-a9f5-4acd-afa6-d0d8920f4a73",
   "metadata": {},
   "source": [
    "# What's up with January?\n",
    "\n",
    "* Follow Tiffany suggestion to look at speed tables...\n",
    "* https://github.com/cal-itp/data-analyses/pull/1356"
   ]
  },
  {
   "cell_type": "code",
   "execution_count": 4,
   "id": "6cd318e5-5c4e-4249-b158-232f4d940770",
   "metadata": {},
   "outputs": [],
   "source": [
    "catalog = shared_utils.catalog_utils.get_catalog('gtfs_analytics_data')"
   ]
  },
  {
   "cell_type": "code",
   "execution_count": 5,
   "id": "02f9dbd8-cc31-4a7e-bccc-f5241b9144bf",
   "metadata": {},
   "outputs": [],
   "source": [
    "vp_tables = [key for key in catalog.speeds_tables.keys() if 'vp' in key]"
   ]
  },
  {
   "cell_type": "code",
   "execution_count": 6,
   "id": "292a5d47-daaf-47bf-976f-0f1b8e28cc77",
   "metadata": {},
   "outputs": [
    {
     "data": {
      "text/plain": [
       "['raw_vp', 'usable_vp', 'vp_dwell', 'vp_condensed_line']"
      ]
     },
     "execution_count": 6,
     "metadata": {},
     "output_type": "execute_result"
    }
   ],
   "source": [
    "vp_tables"
   ]
  },
  {
   "cell_type": "code",
   "execution_count": 7,
   "id": "f7d06216-4755-44e2-afd3-2a2b8ac2e1f5",
   "metadata": {},
   "outputs": [],
   "source": [
    "paths = [catalog.speeds_tables[key] for key in catalog.speeds_tables.keys() if 'vp' in key]"
   ]
  },
  {
   "cell_type": "code",
   "execution_count": 8,
   "id": "3fa5e88a-16a6-4556-8d32-af691bcbbc7e",
   "metadata": {},
   "outputs": [
    {
     "data": {
      "text/plain": [
       "['vp', 'vp_usable', 'vp_usable_dwell', 'condensed/vp_condensed']"
      ]
     },
     "execution_count": 8,
     "metadata": {},
     "output_type": "execute_result"
    }
   ],
   "source": [
    "paths"
   ]
  },
  {
   "cell_type": "code",
   "execution_count": 19,
   "id": "8d30e38f-a1af-4528-8f9c-e0cf367e1623",
   "metadata": {},
   "outputs": [],
   "source": [
    "def diff_tables(paths: list, dates: tuple, gcs_dir = catalog.speeds_tables.dir):\n",
    "    for table in paths:\n",
    "        for date in dates:\n",
    "            try:\n",
    "                path = f'{gcs_dir}{table}_{date}.parquet'\n",
    "                df = pd.read_parquet(path)\n",
    "                print(path)\n",
    "                print('~~~~~~~~~~~~~~~~~~~~~~~~~~~~~~~~~~~~~~~~~~~~~~~~~~')\n",
    "                print(df.info())\n",
    "                print(f'unique trips: {len(df.trip_instance_key.unique())}')\n",
    "            except:\n",
    "                path = f'{gcs_dir}{table}_{date}/'\n",
    "                ddf = dd.read_parquet(path)\n",
    "                print(path)\n",
    "                print('~~~~~~~~~~~~~~~~~~~~~~~~~~~~~~~~~~~~~~~~~~~~~~~~~~')\n",
    "                print(f'length: {ddf.shape[0].compute()}')\n",
    "                print(f'unique trips: {len(ddf.trip_instance_key.unique().compute())}')\n",
    "                print(ddf.info())"
   ]
  },
  {
   "cell_type": "code",
   "execution_count": 20,
   "id": "81a221c1-7797-48ff-ad26-55acf5f90eec",
   "metadata": {},
   "outputs": [],
   "source": [
    "dates = (shared_utils.rt_dates.DATES['dec2024'],\n",
    "        shared_utils.rt_dates.DATES['jan2025']\n",
    ")"
   ]
  },
  {
   "cell_type": "code",
   "execution_count": 21,
   "id": "8cf736da-4380-49bf-bcd2-db845b81e6a4",
   "metadata": {},
   "outputs": [
    {
     "data": {
      "text/plain": [
       "['vp', 'vp_usable', 'vp_usable_dwell', 'condensed/vp_condensed']"
      ]
     },
     "execution_count": 21,
     "metadata": {},
     "output_type": "execute_result"
    }
   ],
   "source": [
    "paths"
   ]
  },
  {
   "cell_type": "code",
   "execution_count": 22,
   "id": "f722eb8a-6d6f-4b33-8b85-5d008f2f682a",
   "metadata": {
    "tags": []
   },
   "outputs": [
    {
     "name": "stdout",
     "output_type": "stream",
     "text": [
      "gs://calitp-analytics-data/data-analyses/rt_segment_speeds/vp_2024-12-11.parquet\n",
      "~~~~~~~~~~~~~~~~~~~~~~~~~~~~~~~~~~~~~~~~~~~~~~~~~~\n",
      "<class 'pandas.core.frame.DataFrame'>\n",
      "RangeIndex: 15204207 entries, 0 to 15204206\n",
      "Data columns (total 8 columns):\n",
      " #   Column                     Dtype              \n",
      "---  ------                     -----              \n",
      " 0   gtfs_dataset_name          object             \n",
      " 1   schedule_gtfs_dataset_key  object             \n",
      " 2   trip_id                    object             \n",
      " 3   trip_instance_key          object             \n",
      " 4   location_timestamp         datetime64[ns, UTC]\n",
      " 5   location_timestamp_local   datetime64[ns]     \n",
      " 6   gtfs_dataset_key           category           \n",
      " 7   geometry                   object             \n",
      "dtypes: category(1), datetime64[ns, UTC](1), datetime64[ns](1), object(5)\n",
      "memory usage: 826.5+ MB\n",
      "None\n",
      "unique trips: 93389\n",
      "gs://calitp-analytics-data/data-analyses/rt_segment_speeds/vp_2025-01-15.parquet\n",
      "~~~~~~~~~~~~~~~~~~~~~~~~~~~~~~~~~~~~~~~~~~~~~~~~~~\n",
      "<class 'pandas.core.frame.DataFrame'>\n",
      "RangeIndex: 15516326 entries, 0 to 15516325\n",
      "Data columns (total 8 columns):\n",
      " #   Column                     Dtype              \n",
      "---  ------                     -----              \n",
      " 0   gtfs_dataset_name          object             \n",
      " 1   schedule_gtfs_dataset_key  object             \n",
      " 2   trip_id                    object             \n",
      " 3   trip_instance_key          object             \n",
      " 4   location_timestamp         datetime64[ns, UTC]\n",
      " 5   location_timestamp_local   datetime64[ns]     \n",
      " 6   gtfs_dataset_key           category           \n",
      " 7   geometry                   object             \n",
      "dtypes: category(1), datetime64[ns, UTC](1), datetime64[ns](1), object(5)\n",
      "memory usage: 843.5+ MB\n",
      "None\n",
      "unique trips: 93802\n",
      "gs://calitp-analytics-data/data-analyses/rt_segment_speeds/vp_usable_2024-12-11/\n",
      "~~~~~~~~~~~~~~~~~~~~~~~~~~~~~~~~~~~~~~~~~~~~~~~~~~\n",
      "length: 15146974\n",
      "unique trips: 90707\n",
      "<class 'dask.dataframe.core.DataFrame'>\n",
      "Columns: 11 entries, gtfs_dataset_name to y\n",
      "dtypes: category(1), datetime64[ns, UTC](1), datetime64[ns](1), object(5), float64(2), int64(1)None\n",
      "gs://calitp-analytics-data/data-analyses/rt_segment_speeds/vp_usable_2025-01-15/\n",
      "~~~~~~~~~~~~~~~~~~~~~~~~~~~~~~~~~~~~~~~~~~~~~~~~~~\n",
      "length: 15452403\n",
      "unique trips: 90910\n",
      "<class 'dask.dataframe.core.DataFrame'>\n",
      "Columns: 11 entries, gtfs_dataset_name to y\n",
      "dtypes: category(1), datetime64[ns, UTC](1), datetime64[ns](1), object(5), float64(2), int64(1)None\n",
      "gs://calitp-analytics-data/data-analyses/rt_segment_speeds/vp_usable_dwell_2024-12-11/\n",
      "~~~~~~~~~~~~~~~~~~~~~~~~~~~~~~~~~~~~~~~~~~~~~~~~~~\n",
      "length: 12555541\n",
      "unique trips: 90707\n",
      "<class 'dask.dataframe.core.DataFrame'>\n",
      "Columns: 16 entries, gtfs_dataset_name to dwell_sec\n",
      "dtypes: category(1), datetime64[ns, UTC](1), datetime64[ns](2), object(5), float64(2), int64(5)None\n",
      "gs://calitp-analytics-data/data-analyses/rt_segment_speeds/vp_usable_dwell_2025-01-15/\n",
      "~~~~~~~~~~~~~~~~~~~~~~~~~~~~~~~~~~~~~~~~~~~~~~~~~~\n",
      "length: 12641977\n",
      "unique trips: 90910\n",
      "<class 'dask.dataframe.core.DataFrame'>\n",
      "Columns: 16 entries, gtfs_dataset_name to dwell_sec\n",
      "dtypes: category(1), datetime64[ns, UTC](1), datetime64[ns](2), object(5), float64(2), int64(5)None\n",
      "gs://calitp-analytics-data/data-analyses/rt_segment_speeds/condensed/vp_condensed_2024-12-11.parquet\n",
      "~~~~~~~~~~~~~~~~~~~~~~~~~~~~~~~~~~~~~~~~~~~~~~~~~~\n",
      "<class 'pandas.core.frame.DataFrame'>\n",
      "RangeIndex: 90707 entries, 0 to 90706\n",
      "Data columns (total 6 columns):\n",
      " #   Column                    Non-Null Count  Dtype \n",
      "---  ------                    --------------  ----- \n",
      " 0   trip_instance_key         90707 non-null  object\n",
      " 1   geometry                  90707 non-null  object\n",
      " 2   vp_idx                    90707 non-null  object\n",
      " 3   location_timestamp_local  90707 non-null  object\n",
      " 4   moving_timestamp_local    90707 non-null  object\n",
      " 5   vp_primary_direction      90707 non-null  object\n",
      "dtypes: object(6)\n",
      "memory usage: 4.2+ MB\n",
      "None\n",
      "unique trips: 90707\n",
      "gs://calitp-analytics-data/data-analyses/rt_segment_speeds/condensed/vp_condensed_2025-01-15.parquet\n",
      "~~~~~~~~~~~~~~~~~~~~~~~~~~~~~~~~~~~~~~~~~~~~~~~~~~\n",
      "<class 'pandas.core.frame.DataFrame'>\n",
      "RangeIndex: 90910 entries, 0 to 90909\n",
      "Data columns (total 6 columns):\n",
      " #   Column                    Non-Null Count  Dtype \n",
      "---  ------                    --------------  ----- \n",
      " 0   trip_instance_key         90910 non-null  object\n",
      " 1   geometry                  90910 non-null  object\n",
      " 2   vp_idx                    90910 non-null  object\n",
      " 3   location_timestamp_local  90910 non-null  object\n",
      " 4   moving_timestamp_local    90910 non-null  object\n",
      " 5   vp_primary_direction      90910 non-null  object\n",
      "dtypes: object(6)\n",
      "memory usage: 4.2+ MB\n",
      "None\n",
      "unique trips: 90910\n"
     ]
    }
   ],
   "source": [
    "diff_tables(paths=paths, dates=dates)"
   ]
  },
  {
   "cell_type": "markdown",
   "id": "573f80e1-fc06-4f29-8b05-849da0680db8",
   "metadata": {},
   "source": [
    "## compare stage4 (trip speeds)"
   ]
  },
  {
   "cell_type": "code",
   "execution_count": 15,
   "id": "f1fde5f6-ba02-4c90-836e-649e19de684d",
   "metadata": {},
   "outputs": [
    {
     "data": {
      "text/plain": [
       "'gs://calitp-analytics-data/data-analyses/rt_segment_speeds/'"
      ]
     },
     "execution_count": 15,
     "metadata": {},
     "output_type": "execute_result"
    }
   ],
   "source": [
    "catalog.stop_segments.dir"
   ]
  },
  {
   "cell_type": "code",
   "execution_count": 16,
   "id": "8e9bc2a1-abef-4866-9cb4-bb4e93a8bede",
   "metadata": {},
   "outputs": [
    {
     "data": {
      "text/plain": [
       "'speeds_stop_segments'"
      ]
     },
     "execution_count": 16,
     "metadata": {},
     "output_type": "execute_result"
    }
   ],
   "source": [
    "catalog.stop_segments.stage4"
   ]
  },
  {
   "cell_type": "code",
   "execution_count": 23,
   "id": "430430b0-fd8a-45a9-9f17-3f0f23ff80b8",
   "metadata": {},
   "outputs": [
    {
     "name": "stdout",
     "output_type": "stream",
     "text": [
      "gs://calitp-analytics-data/data-analyses/rt_segment_speeds/nearest/nearest_vp_shape_segments_2024-12-11.parquet\n",
      "~~~~~~~~~~~~~~~~~~~~~~~~~~~~~~~~~~~~~~~~~~~~~~~~~~\n",
      "<class 'pandas.core.frame.DataFrame'>\n",
      "Int64Index: 3120555 entries, 0 to 3120554\n",
      "Data columns (total 8 columns):\n",
      " #   Column             Dtype  \n",
      "---  ------             -----  \n",
      " 0   trip_instance_key  object \n",
      " 1   stop_sequence      int64  \n",
      " 2   shape_array_key    object \n",
      " 3   stop_meters        float64\n",
      " 4   prior_vp_idx       int64  \n",
      " 5   subseq_vp_idx      int64  \n",
      " 6   prior_vp_meters    int64  \n",
      " 7   subseq_vp_meters   float64\n",
      "dtypes: float64(2), int64(4), object(2)\n",
      "memory usage: 214.3+ MB\n",
      "None\n",
      "unique trips: 79652\n",
      "gs://calitp-analytics-data/data-analyses/rt_segment_speeds/nearest/nearest_vp_shape_segments_2025-01-15.parquet\n",
      "~~~~~~~~~~~~~~~~~~~~~~~~~~~~~~~~~~~~~~~~~~~~~~~~~~\n",
      "<class 'pandas.core.frame.DataFrame'>\n",
      "Int64Index: 235003 entries, 0 to 235002\n",
      "Data columns (total 8 columns):\n",
      " #   Column             Non-Null Count   Dtype  \n",
      "---  ------             --------------   -----  \n",
      " 0   trip_instance_key  235003 non-null  object \n",
      " 1   stop_sequence      235003 non-null  int64  \n",
      " 2   shape_array_key    235003 non-null  object \n",
      " 3   stop_meters        235003 non-null  float64\n",
      " 4   prior_vp_idx       235003 non-null  int64  \n",
      " 5   subseq_vp_idx      235003 non-null  int64  \n",
      " 6   prior_vp_meters    235003 non-null  float64\n",
      " 7   subseq_vp_meters   235003 non-null  int64  \n",
      "dtypes: float64(2), int64(4), object(2)\n",
      "memory usage: 16.1+ MB\n",
      "None\n",
      "unique trips: 72366\n"
     ]
    }
   ],
   "source": [
    "diff_tables([catalog.stop_segments.stage2], dates, catalog.stop_segments.dir)"
   ]
  },
  {
   "cell_type": "code",
   "execution_count": 24,
   "id": "f12b6af2-953d-4c7b-8770-3cf880e96b88",
   "metadata": {},
   "outputs": [
    {
     "name": "stdout",
     "output_type": "stream",
     "text": [
      "gs://calitp-analytics-data/data-analyses/rt_segment_speeds/nearest/nearest_vp_speedmap_proxy_2024-12-11.parquet\n",
      "~~~~~~~~~~~~~~~~~~~~~~~~~~~~~~~~~~~~~~~~~~~~~~~~~~\n",
      "<class 'pandas.core.frame.DataFrame'>\n",
      "Int64Index: 577121 entries, 0 to 577120\n",
      "Data columns (total 9 columns):\n",
      " #   Column             Non-Null Count   Dtype  \n",
      "---  ------             --------------   -----  \n",
      " 0   trip_instance_key  577121 non-null  object \n",
      " 1   stop_sequence      577121 non-null  int64  \n",
      " 2   stop_sequence1     577121 non-null  float64\n",
      " 3   shape_array_key    577121 non-null  object \n",
      " 4   stop_meters        577121 non-null  float64\n",
      " 5   prior_vp_idx       577121 non-null  int64  \n",
      " 6   subseq_vp_idx      577121 non-null  int64  \n",
      " 7   prior_vp_meters    577121 non-null  int64  \n",
      " 8   subseq_vp_meters   577121 non-null  float64\n",
      "dtypes: float64(3), int64(4), object(2)\n",
      "memory usage: 44.0+ MB\n",
      "None\n",
      "unique trips: 51468\n",
      "gs://calitp-analytics-data/data-analyses/rt_segment_speeds/nearest/nearest_vp_speedmap_proxy_2025-01-15.parquet\n",
      "~~~~~~~~~~~~~~~~~~~~~~~~~~~~~~~~~~~~~~~~~~~~~~~~~~\n",
      "<class 'pandas.core.frame.DataFrame'>\n",
      "Int64Index: 604807 entries, 0 to 604806\n",
      "Data columns (total 9 columns):\n",
      " #   Column             Non-Null Count   Dtype  \n",
      "---  ------             --------------   -----  \n",
      " 0   trip_instance_key  604807 non-null  object \n",
      " 1   stop_sequence      604807 non-null  int64  \n",
      " 2   stop_sequence1     604807 non-null  float64\n",
      " 3   shape_array_key    604807 non-null  object \n",
      " 4   stop_meters        604807 non-null  float64\n",
      " 5   prior_vp_idx       604807 non-null  int64  \n",
      " 6   subseq_vp_idx      604807 non-null  int64  \n",
      " 7   prior_vp_meters    604807 non-null  float64\n",
      " 8   subseq_vp_meters   604807 non-null  float64\n",
      "dtypes: float64(4), int64(3), object(2)\n",
      "memory usage: 46.1+ MB\n",
      "None\n",
      "unique trips: 51487\n"
     ]
    }
   ],
   "source": [
    "diff_tables([catalog.speedmap_segments.stage2], dates, catalog.speedmap_segments.dir)"
   ]
  }
 ],
 "metadata": {
  "kernelspec": {
   "display_name": "Python 3 (ipykernel)",
   "language": "python",
   "name": "python3"
  },
  "language_info": {
   "codemirror_mode": {
    "name": "ipython",
    "version": 3
   },
   "file_extension": ".py",
   "mimetype": "text/x-python",
   "name": "python",
   "nbconvert_exporter": "python",
   "pygments_lexer": "ipython3",
   "version": "3.9.13"
  },
  "widgets": {
   "application/vnd.jupyter.widget-state+json": {
    "state": {},
    "version_major": 2,
    "version_minor": 0
   }
  }
 },
 "nbformat": 4,
 "nbformat_minor": 5
}
