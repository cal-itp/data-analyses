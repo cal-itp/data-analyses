{
 "cells": [
  {
   "cell_type": "code",
   "execution_count": 3,
   "id": "d528f399-cf33-459e-b5dc-92e0b4ae389a",
   "metadata": {},
   "outputs": [],
   "source": [
    "import pandas as pd\n",
    "import geopandas as gpd\n",
    "from siuba import *\n",
    "import shared_utils\n",
    "\n",
    "from calitp_data_analysis import get_fs, geography_utils\n",
    "from segment_speed_utils import helpers, time_series_utils, gtfs_schedule_wrangling\n",
    "from segment_speed_utils.project_vars import SCHED_GCS, SEGMENT_GCS, GTFS_DATA_DICT, analysis_date"
   ]
  },
  {
   "cell_type": "code",
   "execution_count": 4,
   "id": "42a16a99-113f-48e9-9f8e-f5cea66952ed",
   "metadata": {},
   "outputs": [],
   "source": [
    "import dask.dataframe as dd\n",
    "import dask_geopandas as dg"
   ]
  },
  {
   "cell_type": "markdown",
   "id": "83bf87cf-a9f5-4acd-afa6-d0d8920f4a73",
   "metadata": {},
   "source": [
    "# Scratchpad for displaying excluded shapes on speedmaps\n",
    "\n",
    "* implemented via `ca_transit_speedmaps/speedmap_utils.py` for now\n",
    "* TODO: more systematic/clarify cause as speed data gap or shape not running in time period"
   ]
  },
  {
   "cell_type": "code",
   "execution_count": 5,
   "id": "6cd318e5-5c4e-4249-b158-232f4d940770",
   "metadata": {},
   "outputs": [],
   "source": [
    "catalog = shared_utils.catalog_utils.get_catalog('gtfs_analytics_data')"
   ]
  },
  {
   "cell_type": "code",
   "execution_count": 6,
   "id": "66ff6c3d-1386-47dd-b10e-7fff3f4ff470",
   "metadata": {},
   "outputs": [
    {
     "data": {
      "text/plain": [
       "{'gcs_paths': {'GCS': 'gs://calitp-analytics-data/data-analyses/', 'COMPILED_CACHED_VIEWS': '${.GCS}rt_delay/compiled_cached_views/', 'SEGMENT_GCS': '${.GCS}rt_segment_speeds/', 'SCHED_GCS': '${.GCS}gtfs_schedule/', 'RT_SCHED_GCS': '${.GCS}rt_vs_schedule/', 'SHARED_GCS': '${.GCS}shared_data/', 'PREDICTIONS_GCS': '${.GCS}rt_predictions/', 'PUBLIC_GCS': 'gs://calitp-publish-data-analysis/'}, 'speed_vars': {'timestamp_col': 'location_timestamp_local', 'max_speed': 80, 'time_min_cutoff': 10, 'timestamp_cols': ['location_timestamp_local', 'moving_timestamp_local']}, 'schedule_downloads': {'dir': '${gcs_paths.COMPILED_CACHED_VIEWS}', 'trips': 'trips', 'shapes': 'routelines', 'stops': 'stops', 'stop_times': 'st'}, 'speeds_tables': {'dir': '${gcs_paths.SEGMENT_GCS}', 'raw_vp': 'vp', 'usable_vp': 'vp_usable', 'vp_dwell': 'vp_usable_dwell', 'vp_condensed_line': 'condensed/vp_condensed', 'timestamp_col': '${speed_vars.timestamp_col}', 'time_min_cutoff': '${speed_vars.time_min_cutoff}'}, 'schedule_tables': {'dir': '${gcs_paths.SCHED_GCS}', 'gtfs_key_crosswalk': 'crosswalk/gtfs_key_organization', 'route_identification': 'standardized_route_ids', 'route_typologies': 'nacto_typologies/route_typologies', 'monthly_scheduled_service': 'scheduled_service_by_route', 'operator_scheduled_stats': 'operator_profiles/operator_scheduled_stats', 'operator_routes': 'operator_profiles/operator_routes'}, 'rt_vs_schedule_tables': {'dir': '${gcs_paths.RT_SCHED_GCS}', 'stop_times_direction': 'stop_times_direction', 'sched_trip_metrics': 'schedule_trip/schedule_trip_metrics', 'sched_route_direction_metrics': 'schedule_route_dir/schedule_route_direction_metrics', 'vp_trip_metrics': 'vp_trip/trip_metrics', 'vp_route_direction_metrics': 'vp_route_dir/route_direction_metrics', 'vp_operator_metrics': 'vp_operator/operator_metrics', 'sched_stop_metrics': 'schedule_stop/schedule_stop_metrics', 'schedule_rt_stop_times': 'schedule_rt_stop_times', 'early_trip_minutes': -5, 'late_trip_minutes': 5}, 'digest_tables': {'dir': '${gcs_paths.RT_SCHED_GCS}', 'route_schedule_vp': 'digest/schedule_vp_metrics', 'route_segment_speeds': 'digest/segment_speeds', 'route_segment_geometry': 'digest/segment_speeds_geom', 'operator_profiles': 'digest/operator_profiles', 'operator_routes_map': 'digest/operator_routes', 'operator_sched_rt': 'digest/operator_schedule_rt_category', 'scheduled_service_hours': 'digest/total_scheduled_service_hours'}, 'stop_segments': {'dir': '${gcs_paths.SEGMENT_GCS}', 'stage1': '${speeds_tables.vp_dwell}', 'stage2': 'nearest/nearest_vp_shape_segments', 'stage3': 'stop_arrivals', 'stage4': 'speeds_stop_segments', 'trip_stop_cols': ['trip_instance_key', 'stop_sequence'], 'shape_stop_cols': ['shape_array_key', 'shape_id', 'stop_sequence'], 'stop_pair_cols': ['stop_pair', 'stop_pair_name'], 'route_dir_cols': ['route_id', 'direction_id'], 'segment_cols': ['route_id', 'direction_id', 'stop_pair', 'geometry'], 'route_dir_single_segment': 'rollup_singleday/speeds_route_dir_segments', 'route_dir_single_segment_detail': 'rollup_singleday/speeds_route_dir_segments_detail', 'route_dir_multi_segment': 'rollup_multiday/speeds_route_dir_segments', 'segments_file': 'segment_options/shape_stop_segments', 'max_speed': '${speed_vars.max_speed}', 'route_dir_quarter_segment': 'rollup_multiday/quarter_speeds_route_dir_segments', 'route_dir_year_segment': 'rollup_multiday/year_speeds_route_dir_segments'}, 'rt_stop_times': {'dir': '${gcs_paths.SEGMENT_GCS}', 'stage1': '${speeds_tables.vp_dwell}', 'stage2': 'nearest/nearest_vp_rt_stop_times', 'stage3': 'rt_stop_times/stop_arrivals', 'stage4': 'rt_stop_times/speeds', 'trip_stop_cols': ['trip_instance_key', 'stop_sequence'], 'shape_stop_cols': ['shape_array_key', 'shape_id', 'stop_sequence'], 'stop_pair_cols': ['stop_pair', 'stop_pair_name'], 'route_dir_cols': ['route_id', 'direction_id'], 'segments_file': 'segment_options/stop_segments', 'trip_speeds_single_summary': 'rollup_singleday/speeds_trip', 'route_dir_single_summary': 'rollup_singleday/speeds_route_dir', 'route_dir_multi_summary': 'rollup_multiday/speeds_route_dir', 'min_trip_minutes': '${speed_vars.time_min_cutoff}', 'max_trip_minutes': 180, 'max_speed': '${speed_vars.max_speed}', 'min_meters_elapsed': 1609}, 'speedmap_segments': {'dir': '${gcs_paths.SEGMENT_GCS}', 'stage1': '${speeds_tables.vp_dwell}', 'proxy_stop_times': 'stop_time_expansion/speedmap_stop_times', 'stage2': 'nearest/nearest_vp_speedmap_proxy', 'stage3': 'speedmap/stop_arrivals_proxy', 'stage3b': 'speedmap/stop_arrivals', 'stage4': 'speedmap/speeds', 'trip_stop_cols': ['trip_instance_key', 'stop_sequence', 'stop_sequence1'], 'shape_stop_cols': ['shape_array_key', 'shape_id'], 'stop_pair_cols': ['stop_pair', 'stop_pair_name', 'segment_id'], 'route_dir_cols': ['route_id', 'direction_id'], 'segments_file': 'segment_options/speedmap_segments', 'shape_stop_single_segment': 'rollup_singleday/speeds_shape_speedmap_segments', 'shape_stop_single_segment_detail': 'rollup_singleday/speeds_shape_speedmap_segments_detail', 'route_dir_single_segment': 'rollup_singleday/speeds_route_dir_speedmap_segments', 'route_dir_multi_segment': 'rollup_multiday/speeds_route_dir_speedmap_segments', 'min_trip_minutes': '${speed_vars.time_min_cutoff}', 'max_trip_minutes': 180, 'max_speed': '${speed_vars.max_speed}', 'min_meters_elapsed': 1609, 'segment_meters': 1000}, 'road_segments': {'dir': '${gcs_paths.SEGMENT_GCS}', 'stage1': '${speeds_tables.vp_dwell}', 'proxy_stop_times': 'stop_time_expansion/roads_stop_times', 'stage2': 'nearest/nearest_vp_roads', 'stage3': 'road_segments/stop_arrivals', 'stage4': 'speeds_road_segments', 'road_cols': ['linearid', 'mtfcc'], 'road_segment_cols': ['linearid', 'mtfcc', 'segment_sequence'], 'trip_stop_cols': ['trip_instance_key', 'linaerid', 'mtfcc', 'segment_sequence'], 'timestamp_col': '${speed_vars.timestamp_col}'}, 'shared_data': {'dir': '${gcs_paths.SHARED_GCS}', 'road_segments_twomile': 'segmented_roads_twomile_2020', 'road_segments_onekm': 'segmented_roads_onekm_2020'}}"
      ]
     },
     "execution_count": 6,
     "metadata": {},
     "output_type": "execute_result"
    }
   ],
   "source": [
    "catalog"
   ]
  },
  {
   "cell_type": "code",
   "execution_count": 7,
   "id": "02f9dbd8-cc31-4a7e-bccc-f5241b9144bf",
   "metadata": {},
   "outputs": [],
   "source": [
    "vp_tables = [key for key in catalog.speeds_tables.keys() if 'vp' in key]"
   ]
  },
  {
   "cell_type": "code",
   "execution_count": 8,
   "id": "292a5d47-daaf-47bf-976f-0f1b8e28cc77",
   "metadata": {},
   "outputs": [
    {
     "data": {
      "text/plain": [
       "['raw_vp', 'usable_vp', 'vp_dwell', 'vp_condensed_line']"
      ]
     },
     "execution_count": 8,
     "metadata": {},
     "output_type": "execute_result"
    }
   ],
   "source": [
    "vp_tables"
   ]
  },
  {
   "cell_type": "code",
   "execution_count": 17,
   "id": "f7d06216-4755-44e2-afd3-2a2b8ac2e1f5",
   "metadata": {},
   "outputs": [],
   "source": [
    "paths = [catalog.speeds_tables[key] for key in catalog.speeds_tables.keys() if 'vp' in key]"
   ]
  },
  {
   "cell_type": "code",
   "execution_count": 22,
   "id": "8d30e38f-a1af-4528-8f9c-e0cf367e1623",
   "metadata": {},
   "outputs": [],
   "source": [
    "def diff_vp_tables(paths: list, dates: tuple):\n",
    "    for table in paths:\n",
    "        for date in dates:\n",
    "            try:\n",
    "                path = f'{catalog.speeds_tables.dir}{table}_{date}.parquet'\n",
    "                df = pd.read_parquet(path)\n",
    "                print(path)\n",
    "                print('~~~~~~~~~~~~~~~~~~~~~~~~~~~~~~~~~~~~~~~~~~~~~~~~~~')\n",
    "                print(df.info())\n",
    "                print(f'unique trips: {len(df.trip_instance_key.unique())}')\n",
    "            except:\n",
    "                path = f'{catalog.speeds_tables.dir}{table}_{date}/'\n",
    "                ddf = dd.read_parquet(path)\n",
    "                print(path)\n",
    "                print('~~~~~~~~~~~~~~~~~~~~~~~~~~~~~~~~~~~~~~~~~~~~~~~~~~')\n",
    "                print(f'length: {ddf.shape[0].compute()}')\n",
    "                print(f'unique trips: {len(ddf.trip_instance_key.unique().compute())}')\n",
    "                print(ddf.info())"
   ]
  },
  {
   "cell_type": "code",
   "execution_count": 23,
   "id": "81a221c1-7797-48ff-ad26-55acf5f90eec",
   "metadata": {},
   "outputs": [],
   "source": [
    "dates = (shared_utils.rt_dates.DATES['dec2024'],\n",
    "        shared_utils.rt_dates.DATES['jan2025']\n",
    ")"
   ]
  },
  {
   "cell_type": "code",
   "execution_count": 24,
   "id": "8cf736da-4380-49bf-bcd2-db845b81e6a4",
   "metadata": {},
   "outputs": [
    {
     "data": {
      "text/plain": [
       "['vp', 'vp_usable', 'vp_usable_dwell', 'condensed/vp_condensed']"
      ]
     },
     "execution_count": 24,
     "metadata": {},
     "output_type": "execute_result"
    }
   ],
   "source": [
    "paths"
   ]
  },
  {
   "cell_type": "code",
   "execution_count": 25,
   "id": "f722eb8a-6d6f-4b33-8b85-5d008f2f682a",
   "metadata": {},
   "outputs": [
    {
     "name": "stdout",
     "output_type": "stream",
     "text": [
      "gs://calitp-analytics-data/data-analyses/rt_segment_speeds/vp_2024-12-11.parquet\n",
      "~~~~~~~~~~~~~~~~~~~~~~~~~~~~~~~~~~~~~~~~~~~~~~~~~~\n",
      "<class 'pandas.core.frame.DataFrame'>\n",
      "RangeIndex: 15204207 entries, 0 to 15204206\n",
      "Data columns (total 8 columns):\n",
      " #   Column                     Dtype              \n",
      "---  ------                     -----              \n",
      " 0   gtfs_dataset_name          object             \n",
      " 1   schedule_gtfs_dataset_key  object             \n",
      " 2   trip_id                    object             \n",
      " 3   trip_instance_key          object             \n",
      " 4   location_timestamp         datetime64[ns, UTC]\n",
      " 5   location_timestamp_local   datetime64[ns]     \n",
      " 6   gtfs_dataset_key           category           \n",
      " 7   geometry                   object             \n",
      "dtypes: category(1), datetime64[ns, UTC](1), datetime64[ns](1), object(5)\n",
      "memory usage: 826.5+ MB\n",
      "None\n",
      "unique trips: 93389\n",
      "gs://calitp-analytics-data/data-analyses/rt_segment_speeds/vp_2025-01-15.parquet\n",
      "~~~~~~~~~~~~~~~~~~~~~~~~~~~~~~~~~~~~~~~~~~~~~~~~~~\n",
      "<class 'pandas.core.frame.DataFrame'>\n",
      "RangeIndex: 15516326 entries, 0 to 15516325\n",
      "Data columns (total 8 columns):\n",
      " #   Column                     Dtype              \n",
      "---  ------                     -----              \n",
      " 0   gtfs_dataset_name          object             \n",
      " 1   schedule_gtfs_dataset_key  object             \n",
      " 2   trip_id                    object             \n",
      " 3   trip_instance_key          object             \n",
      " 4   location_timestamp         datetime64[ns, UTC]\n",
      " 5   location_timestamp_local   datetime64[ns]     \n",
      " 6   gtfs_dataset_key           category           \n",
      " 7   geometry                   object             \n",
      "dtypes: category(1), datetime64[ns, UTC](1), datetime64[ns](1), object(5)\n",
      "memory usage: 843.5+ MB\n",
      "None\n",
      "unique trips: 93802\n",
      "gs://calitp-analytics-data/data-analyses/rt_segment_speeds/vp_usable_2024-12-11/\n",
      "~~~~~~~~~~~~~~~~~~~~~~~~~~~~~~~~~~~~~~~~~~~~~~~~~~\n",
      "length: 15146974\n",
      "unique trips: 90707\n",
      "<class 'dask.dataframe.core.DataFrame'>\n",
      "Columns: 11 entries, gtfs_dataset_name to y\n",
      "dtypes: category(1), datetime64[ns, UTC](1), datetime64[ns](1), object(5), float64(2), int64(1)None\n",
      "gs://calitp-analytics-data/data-analyses/rt_segment_speeds/vp_usable_2025-01-15/\n",
      "~~~~~~~~~~~~~~~~~~~~~~~~~~~~~~~~~~~~~~~~~~~~~~~~~~\n",
      "length: 15452403\n",
      "unique trips: 90910\n",
      "<class 'dask.dataframe.core.DataFrame'>\n",
      "Columns: 11 entries, gtfs_dataset_name to y\n",
      "dtypes: category(1), datetime64[ns, UTC](1), datetime64[ns](1), object(5), float64(2), int64(1)None\n",
      "gs://calitp-analytics-data/data-analyses/rt_segment_speeds/vp_usable_dwell_2024-12-11/\n",
      "~~~~~~~~~~~~~~~~~~~~~~~~~~~~~~~~~~~~~~~~~~~~~~~~~~\n",
      "length: 12555541\n",
      "unique trips: 90707\n",
      "<class 'dask.dataframe.core.DataFrame'>\n",
      "Columns: 16 entries, gtfs_dataset_name to dwell_sec\n",
      "dtypes: category(1), datetime64[ns, UTC](1), datetime64[ns](2), object(5), float64(2), int64(5)None\n",
      "gs://calitp-analytics-data/data-analyses/rt_segment_speeds/vp_usable_dwell_2025-01-15/\n",
      "~~~~~~~~~~~~~~~~~~~~~~~~~~~~~~~~~~~~~~~~~~~~~~~~~~\n",
      "length: 12641977\n",
      "unique trips: 90910\n",
      "<class 'dask.dataframe.core.DataFrame'>\n",
      "Columns: 16 entries, gtfs_dataset_name to dwell_sec\n",
      "dtypes: category(1), datetime64[ns, UTC](1), datetime64[ns](2), object(5), float64(2), int64(5)None\n",
      "gs://calitp-analytics-data/data-analyses/rt_segment_speeds/condensed/vp_condensed_2024-12-11.parquet\n",
      "~~~~~~~~~~~~~~~~~~~~~~~~~~~~~~~~~~~~~~~~~~~~~~~~~~\n",
      "<class 'pandas.core.frame.DataFrame'>\n",
      "RangeIndex: 90707 entries, 0 to 90706\n",
      "Data columns (total 6 columns):\n",
      " #   Column                    Non-Null Count  Dtype \n",
      "---  ------                    --------------  ----- \n",
      " 0   trip_instance_key         90707 non-null  object\n",
      " 1   geometry                  90707 non-null  object\n",
      " 2   vp_idx                    90707 non-null  object\n",
      " 3   location_timestamp_local  90707 non-null  object\n",
      " 4   moving_timestamp_local    90707 non-null  object\n",
      " 5   vp_primary_direction      90707 non-null  object\n",
      "dtypes: object(6)\n",
      "memory usage: 4.2+ MB\n",
      "None\n",
      "unique trips: 90707\n",
      "gs://calitp-analytics-data/data-analyses/rt_segment_speeds/condensed/vp_condensed_2025-01-15.parquet\n",
      "~~~~~~~~~~~~~~~~~~~~~~~~~~~~~~~~~~~~~~~~~~~~~~~~~~\n",
      "<class 'pandas.core.frame.DataFrame'>\n",
      "RangeIndex: 90910 entries, 0 to 90909\n",
      "Data columns (total 6 columns):\n",
      " #   Column                    Non-Null Count  Dtype \n",
      "---  ------                    --------------  ----- \n",
      " 0   trip_instance_key         90910 non-null  object\n",
      " 1   geometry                  90910 non-null  object\n",
      " 2   vp_idx                    90910 non-null  object\n",
      " 3   location_timestamp_local  90910 non-null  object\n",
      " 4   moving_timestamp_local    90910 non-null  object\n",
      " 5   vp_primary_direction      90910 non-null  object\n",
      "dtypes: object(6)\n",
      "memory usage: 4.2+ MB\n",
      "None\n",
      "unique trips: 90910\n"
     ]
    }
   ],
   "source": [
    "diff_vp_tables(paths, dates)"
   ]
  },
  {
   "cell_type": "code",
   "execution_count": 30,
   "id": "58e76e14-1e69-4b11-a87b-9c7c8572e82d",
   "metadata": {},
   "outputs": [],
   "source": [
    "cond1 = gpd.read_parquet('gs://calitp-analytics-data/data-analyses/rt_segment_speeds/condensed/vp_condensed_2024-12-11.parquet')"
   ]
  },
  {
   "cell_type": "code",
   "execution_count": 31,
   "id": "a50beca0-f0f2-48b0-bc28-b07b51f9b4ef",
   "metadata": {},
   "outputs": [],
   "source": [
    "cond2 = gpd.read_parquet('gs://calitp-analytics-data/data-analyses/rt_segment_speeds/condensed/vp_condensed_2025-01-15.parquet')"
   ]
  },
  {
   "cell_type": "code",
   "execution_count": 33,
   "id": "94107516-838d-4234-9ae0-53fc64a68183",
   "metadata": {},
   "outputs": [
    {
     "data": {
      "text/plain": [
       "Eastbound     2804652\n",
       "Westbound     2771695\n",
       "Southbound    2679640\n",
       "Northbound    2672020\n",
       "Unknown       1627534\n",
       "Name: vp_primary_direction, dtype: int64"
      ]
     },
     "execution_count": 33,
     "metadata": {},
     "output_type": "execute_result"
    }
   ],
   "source": [
    "cond1.vp_primary_direction.explode().value_counts()"
   ]
  },
  {
   "cell_type": "code",
   "execution_count": 34,
   "id": "bb986dd0-00aa-43c2-85c6-befed15277e9",
   "metadata": {},
   "outputs": [
    {
     "data": {
      "text/plain": [
       "Eastbound     2825746\n",
       "Westbound     2792007\n",
       "Southbound    2703923\n",
       "Northbound    2692053\n",
       "Unknown       1628248\n",
       "Name: vp_primary_direction, dtype: int64"
      ]
     },
     "execution_count": 34,
     "metadata": {},
     "output_type": "execute_result"
    }
   ],
   "source": [
    "cond2.vp_primary_direction.explode().value_counts()"
   ]
  },
  {
   "cell_type": "code",
   "execution_count": 35,
   "id": "8d04dc9c-2b04-43d3-97e4-b1e09feb1320",
   "metadata": {},
   "outputs": [
    {
     "data": {
      "text/html": [
       "<div>\n",
       "<style scoped>\n",
       "    .dataframe tbody tr th:only-of-type {\n",
       "        vertical-align: middle;\n",
       "    }\n",
       "\n",
       "    .dataframe tbody tr th {\n",
       "        vertical-align: top;\n",
       "    }\n",
       "\n",
       "    .dataframe thead th {\n",
       "        text-align: right;\n",
       "    }\n",
       "</style>\n",
       "<table border=\"1\" class=\"dataframe\">\n",
       "  <thead>\n",
       "    <tr style=\"text-align: right;\">\n",
       "      <th></th>\n",
       "      <th>trip_instance_key</th>\n",
       "      <th>geometry</th>\n",
       "      <th>vp_idx</th>\n",
       "      <th>location_timestamp_local</th>\n",
       "      <th>moving_timestamp_local</th>\n",
       "      <th>vp_primary_direction</th>\n",
       "    </tr>\n",
       "  </thead>\n",
       "  <tbody>\n",
       "    <tr>\n",
       "      <th>0</th>\n",
       "      <td>00001f273308970887743ce0c3acf068</td>\n",
       "      <td>LINESTRING (-117.06536 32.56955, -117.06539 32...</td>\n",
       "      <td>[8622806, 8622807, 8622808, 8622809, 8622812, ...</td>\n",
       "      <td>[2025-01-15T18:02:45.000000, 2025-01-15T18:03:...</td>\n",
       "      <td>[2025-01-15T18:02:45.000000, 2025-01-15T18:03:...</td>\n",
       "      <td>[Unknown, Westbound, Northbound, Unknown, East...</td>\n",
       "    </tr>\n",
       "    <tr>\n",
       "      <th>1</th>\n",
       "      <td>00005ffae19105cd3addbd6642d7873a</td>\n",
       "      <td>LINESTRING (-122.21661 37.79909, -122.21661 37...</td>\n",
       "      <td>[12821471, 12821472, 12821474, 12821475, 12821...</td>\n",
       "      <td>[2025-01-15T18:16:54.000000, 2025-01-15T18:17:...</td>\n",
       "      <td>[2025-01-15T18:16:54.000000, 2025-01-15T18:17:...</td>\n",
       "      <td>[Unknown, Unknown, Southbound, Northbound, Unk...</td>\n",
       "    </tr>\n",
       "    <tr>\n",
       "      <th>2</th>\n",
       "      <td>0000b6cbbfc0fb65ecefcc495349015e</td>\n",
       "      <td>LINESTRING (-122.52319 37.97165, -122.52321 37...</td>\n",
       "      <td>[14157063, 14157064, 14157065, 14157066, 14157...</td>\n",
       "      <td>[2025-01-15T07:47:56.000000, 2025-01-15T07:48:...</td>\n",
       "      <td>[2025-01-15T07:47:56.000000, 2025-01-15T07:48:...</td>\n",
       "      <td>[Unknown, Southbound, Southbound, Northbound, ...</td>\n",
       "    </tr>\n",
       "    <tr>\n",
       "      <th>3</th>\n",
       "      <td>00012e56c8260fd35926619339b4fe17</td>\n",
       "      <td>LINESTRING (-122.46008 37.70635, -122.46008 37...</td>\n",
       "      <td>[10710639, 10710640, 10710648, 10710649, 10710...</td>\n",
       "      <td>[2025-01-15T13:26:18.000000, 2025-01-15T13:26:...</td>\n",
       "      <td>[2025-01-15T13:26:18.000000, 2025-01-15T13:28:...</td>\n",
       "      <td>[Unknown, Unknown, Eastbound, Unknown, Eastbou...</td>\n",
       "    </tr>\n",
       "    <tr>\n",
       "      <th>4</th>\n",
       "      <td>0002cdd1d51f33e7543289688c01c6e5</td>\n",
       "      <td>LINESTRING (-117.88335 33.91635, -117.88369 33...</td>\n",
       "      <td>[9327071, 9327072, 9327073, 9327076, 9327077, ...</td>\n",
       "      <td>[2025-01-15T16:10:31.000000, 2025-01-15T16:10:...</td>\n",
       "      <td>[2025-01-15T16:10:31.000000, 2025-01-15T16:10:...</td>\n",
       "      <td>[Unknown, Southbound, Unknown, Southbound, Sou...</td>\n",
       "    </tr>\n",
       "    <tr>\n",
       "      <th>...</th>\n",
       "      <td>...</td>\n",
       "      <td>...</td>\n",
       "      <td>...</td>\n",
       "      <td>...</td>\n",
       "      <td>...</td>\n",
       "      <td>...</td>\n",
       "    </tr>\n",
       "    <tr>\n",
       "      <th>90905</th>\n",
       "      <td>fffdd30816e4022838ee42dd45e59318</td>\n",
       "      <td>LINESTRING (-122.29901 37.90289, -122.29901 37...</td>\n",
       "      <td>[14686171, 14686172, 14686193, 14686194, 14686...</td>\n",
       "      <td>[2025-01-15T12:49:16.000000, 2025-01-15T12:49:...</td>\n",
       "      <td>[2025-01-15T12:49:16.000000, 2025-01-15T12:56:...</td>\n",
       "      <td>[Unknown, Unknown, Westbound, Westbound, Westb...</td>\n",
       "    </tr>\n",
       "    <tr>\n",
       "      <th>90906</th>\n",
       "      <td>fffe75702726c5c94333254be21e475f</td>\n",
       "      <td>LINESTRING (-117.15356 32.71582, -117.15356 32...</td>\n",
       "      <td>[8085607, 8085608, 8085611, 8085612, 8085614, ...</td>\n",
       "      <td>[2025-01-15T07:57:40.000000, 2025-01-15T07:58:...</td>\n",
       "      <td>[2025-01-15T07:57:40.000000, 2025-01-15T07:59:...</td>\n",
       "      <td>[Unknown, Unknown, Eastbound, Unknown, Westbou...</td>\n",
       "    </tr>\n",
       "    <tr>\n",
       "      <th>90907</th>\n",
       "      <td>fffed00f13282ae103eb572cd9cb9d6b</td>\n",
       "      <td>LINESTRING (-117.10793 32.66203, -117.10793 32...</td>\n",
       "      <td>[8197030, 8197031, 8197032, 8197033, 8197034, ...</td>\n",
       "      <td>[2025-01-15T17:58:12.000000, 2025-01-15T17:58:...</td>\n",
       "      <td>[2025-01-15T17:58:12.000000, 2025-01-15T17:58:...</td>\n",
       "      <td>[Unknown, Unknown, Southbound, Northbound, Nor...</td>\n",
       "    </tr>\n",
       "    <tr>\n",
       "      <th>90908</th>\n",
       "      <td>fffed04d5fcb59b478ff147c07f5e948</td>\n",
       "      <td>LINESTRING (-122.50857 37.76033, -122.50857 37...</td>\n",
       "      <td>[11921403, 11921404, 11921410, 11921411, 11921...</td>\n",
       "      <td>[2025-01-15T21:07:00.000000, 2025-01-15T21:07:...</td>\n",
       "      <td>[2025-01-15T21:07:00.000000, 2025-01-15T21:08:...</td>\n",
       "      <td>[Unknown, Unknown, Eastbound, Unknown, Northbo...</td>\n",
       "    </tr>\n",
       "    <tr>\n",
       "      <th>90909</th>\n",
       "      <td>fffedef7f35089715dc786c7398ce3ac</td>\n",
       "      <td>LINESTRING (-121.76472 38.65993, -121.76444 38...</td>\n",
       "      <td>[6072838, 6072839, 6072840, 6072841, 6072844, ...</td>\n",
       "      <td>[2025-01-15T14:59:35.000000, 2025-01-15T14:59:...</td>\n",
       "      <td>[2025-01-15T14:59:35.000000, 2025-01-15T14:59:...</td>\n",
       "      <td>[Unknown, Eastbound, Eastbound, Unknown, Eastb...</td>\n",
       "    </tr>\n",
       "  </tbody>\n",
       "</table>\n",
       "<p>90910 rows × 6 columns</p>\n",
       "</div>"
      ],
      "text/plain": [
       "                      trip_instance_key  \\\n",
       "0      00001f273308970887743ce0c3acf068   \n",
       "1      00005ffae19105cd3addbd6642d7873a   \n",
       "2      0000b6cbbfc0fb65ecefcc495349015e   \n",
       "3      00012e56c8260fd35926619339b4fe17   \n",
       "4      0002cdd1d51f33e7543289688c01c6e5   \n",
       "...                                 ...   \n",
       "90905  fffdd30816e4022838ee42dd45e59318   \n",
       "90906  fffe75702726c5c94333254be21e475f   \n",
       "90907  fffed00f13282ae103eb572cd9cb9d6b   \n",
       "90908  fffed04d5fcb59b478ff147c07f5e948   \n",
       "90909  fffedef7f35089715dc786c7398ce3ac   \n",
       "\n",
       "                                                geometry  \\\n",
       "0      LINESTRING (-117.06536 32.56955, -117.06539 32...   \n",
       "1      LINESTRING (-122.21661 37.79909, -122.21661 37...   \n",
       "2      LINESTRING (-122.52319 37.97165, -122.52321 37...   \n",
       "3      LINESTRING (-122.46008 37.70635, -122.46008 37...   \n",
       "4      LINESTRING (-117.88335 33.91635, -117.88369 33...   \n",
       "...                                                  ...   \n",
       "90905  LINESTRING (-122.29901 37.90289, -122.29901 37...   \n",
       "90906  LINESTRING (-117.15356 32.71582, -117.15356 32...   \n",
       "90907  LINESTRING (-117.10793 32.66203, -117.10793 32...   \n",
       "90908  LINESTRING (-122.50857 37.76033, -122.50857 37...   \n",
       "90909  LINESTRING (-121.76472 38.65993, -121.76444 38...   \n",
       "\n",
       "                                                  vp_idx  \\\n",
       "0      [8622806, 8622807, 8622808, 8622809, 8622812, ...   \n",
       "1      [12821471, 12821472, 12821474, 12821475, 12821...   \n",
       "2      [14157063, 14157064, 14157065, 14157066, 14157...   \n",
       "3      [10710639, 10710640, 10710648, 10710649, 10710...   \n",
       "4      [9327071, 9327072, 9327073, 9327076, 9327077, ...   \n",
       "...                                                  ...   \n",
       "90905  [14686171, 14686172, 14686193, 14686194, 14686...   \n",
       "90906  [8085607, 8085608, 8085611, 8085612, 8085614, ...   \n",
       "90907  [8197030, 8197031, 8197032, 8197033, 8197034, ...   \n",
       "90908  [11921403, 11921404, 11921410, 11921411, 11921...   \n",
       "90909  [6072838, 6072839, 6072840, 6072841, 6072844, ...   \n",
       "\n",
       "                                location_timestamp_local  \\\n",
       "0      [2025-01-15T18:02:45.000000, 2025-01-15T18:03:...   \n",
       "1      [2025-01-15T18:16:54.000000, 2025-01-15T18:17:...   \n",
       "2      [2025-01-15T07:47:56.000000, 2025-01-15T07:48:...   \n",
       "3      [2025-01-15T13:26:18.000000, 2025-01-15T13:26:...   \n",
       "4      [2025-01-15T16:10:31.000000, 2025-01-15T16:10:...   \n",
       "...                                                  ...   \n",
       "90905  [2025-01-15T12:49:16.000000, 2025-01-15T12:49:...   \n",
       "90906  [2025-01-15T07:57:40.000000, 2025-01-15T07:58:...   \n",
       "90907  [2025-01-15T17:58:12.000000, 2025-01-15T17:58:...   \n",
       "90908  [2025-01-15T21:07:00.000000, 2025-01-15T21:07:...   \n",
       "90909  [2025-01-15T14:59:35.000000, 2025-01-15T14:59:...   \n",
       "\n",
       "                                  moving_timestamp_local  \\\n",
       "0      [2025-01-15T18:02:45.000000, 2025-01-15T18:03:...   \n",
       "1      [2025-01-15T18:16:54.000000, 2025-01-15T18:17:...   \n",
       "2      [2025-01-15T07:47:56.000000, 2025-01-15T07:48:...   \n",
       "3      [2025-01-15T13:26:18.000000, 2025-01-15T13:28:...   \n",
       "4      [2025-01-15T16:10:31.000000, 2025-01-15T16:10:...   \n",
       "...                                                  ...   \n",
       "90905  [2025-01-15T12:49:16.000000, 2025-01-15T12:56:...   \n",
       "90906  [2025-01-15T07:57:40.000000, 2025-01-15T07:59:...   \n",
       "90907  [2025-01-15T17:58:12.000000, 2025-01-15T17:58:...   \n",
       "90908  [2025-01-15T21:07:00.000000, 2025-01-15T21:08:...   \n",
       "90909  [2025-01-15T14:59:35.000000, 2025-01-15T14:59:...   \n",
       "\n",
       "                                    vp_primary_direction  \n",
       "0      [Unknown, Westbound, Northbound, Unknown, East...  \n",
       "1      [Unknown, Unknown, Southbound, Northbound, Unk...  \n",
       "2      [Unknown, Southbound, Southbound, Northbound, ...  \n",
       "3      [Unknown, Unknown, Eastbound, Unknown, Eastbou...  \n",
       "4      [Unknown, Southbound, Unknown, Southbound, Sou...  \n",
       "...                                                  ...  \n",
       "90905  [Unknown, Unknown, Westbound, Westbound, Westb...  \n",
       "90906  [Unknown, Unknown, Eastbound, Unknown, Westbou...  \n",
       "90907  [Unknown, Unknown, Southbound, Northbound, Nor...  \n",
       "90908  [Unknown, Unknown, Eastbound, Unknown, Northbo...  \n",
       "90909  [Unknown, Eastbound, Eastbound, Unknown, Eastb...  \n",
       "\n",
       "[90910 rows x 6 columns]"
      ]
     },
     "execution_count": 35,
     "metadata": {},
     "output_type": "execute_result"
    }
   ],
   "source": [
    "cond2.geometry"
   ]
  },
  {
   "cell_type": "code",
   "execution_count": null,
   "id": "1d7ae3b1-b3c7-47ab-939f-24917678961d",
   "metadata": {},
   "outputs": [],
   "source": []
  }
 ],
 "metadata": {
  "kernelspec": {
   "display_name": "Python 3 (ipykernel)",
   "language": "python",
   "name": "python3"
  },
  "language_info": {
   "codemirror_mode": {
    "name": "ipython",
    "version": 3
   },
   "file_extension": ".py",
   "mimetype": "text/x-python",
   "name": "python",
   "nbconvert_exporter": "python",
   "pygments_lexer": "ipython3",
   "version": "3.9.13"
  },
  "widgets": {
   "application/vnd.jupyter.widget-state+json": {
    "state": {},
    "version_major": 2,
    "version_minor": 0
   }
  }
 },
 "nbformat": 4,
 "nbformat_minor": 5
}
