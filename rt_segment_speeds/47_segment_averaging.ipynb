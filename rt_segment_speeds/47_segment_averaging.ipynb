{
 "cells": [
  {
   "cell_type": "markdown",
   "id": "a8949032-f941-402a-9c1d-301b1872d522",
   "metadata": {},
   "source": [
    "# Segment averaging by various grains\n",
    "\n",
    "Let's see how well we can do across time, across space.\n",
    "\n",
    "Next: across operators and space and time. how well we can take segments that travel along one major boulevard with multiple operators and see how we can combine those.\n",
    "\n",
    "Scripts:\n",
    "* [quarterly and annual averages](https://github.com/cal-itp/data-analyses/blob/main/rt_segment_speeds/scripts/quarter_year_averages.py)\n",
    "\n",
    "Past notebooks:\n",
    "* [segment stability notebook](https://github.com/cal-itp/data-analyses/blob/main/rt_segment_speeds/39_segment_stability.ipynb)\n",
    "* [weekly average speeds](https://github.com/cal-itp/data-analyses/blob/main/rt_segment_speeds/26_weekly_avg_speeds.ipynb)\n",
    "* [stop combinations notebook](https://github.com/cal-itp/data-analyses/blob/main/rt_segment_speeds/16_stop_combos_for_segments.ipynb)"
   ]
  },
  {
   "cell_type": "code",
   "execution_count": null,
   "id": "a60485ac-256b-4972-8b55-35dfee7faf6c",
   "metadata": {},
   "outputs": [],
   "source": [
    "import folium\n",
    "import geopandas as gpd\n",
    "import pandas as pd\n",
    "\n",
    "from shared_utils import rt_dates, rt_utils\n",
    "from segment_speed_utils.project_vars import GTFS_DATA_DICT, SEGMENT_GCS, SCHED_GCS\n",
    "from segment_speed_utils import time_series_utils"
   ]
  },
  {
   "cell_type": "code",
   "execution_count": null,
   "id": "e7e2de38-67f9-4744-b17c-dfe9e42fa306",
   "metadata": {},
   "outputs": [],
   "source": [
    "#QUARTER_FILE = GTFS_DATA_DICT.stop_segments.route_dir_quarter_segment\n",
    "YEAR_FILE = GTFS_DATA_DICT.stop_segments.route_dir_year_segment\n",
    "\n",
    "# In case route_ids don't match, use crosswalk to find unharmonized version\n",
    "CLEANED_ROUTE_NAMING = GTFS_DATA_DICT.schedule_tables.route_identification\n",
    "route_df = pd.read_parquet(f\"{SCHED_GCS}{CLEANED_ROUTE_NAMING}.parquet\")"
   ]
  },
  {
   "cell_type": "code",
   "execution_count": null,
   "id": "dab7a85b-a98d-44ce-8e2a-be1c627a1f18",
   "metadata": {},
   "outputs": [],
   "source": [
    "def basic_formatting(\n",
    "    df: gpd.GeoDataFrame\n",
    ") -> gpd.GeoDataFrame:\n",
    "    speed_cols = [c for c in df.columns if \"_mph\" in c]\n",
    "    df[speed_cols] = df[speed_cols].round(1)\n",
    "    \n",
    "    return df"
   ]
  },
  {
   "cell_type": "markdown",
   "id": "a4f07e26-a03a-47bc-a2e6-3570b5bf70bc",
   "metadata": {},
   "source": [
    "## Annual Averages"
   ]
  },
  {
   "cell_type": "code",
   "execution_count": null,
   "id": "fc6ac61f-014b-4912-bb47-5f8682abd992",
   "metadata": {},
   "outputs": [],
   "source": [
    "subset_operators = [    \n",
    "    \"Culver City Schedule\",\n",
    "    \"Big Blue Bus Schedule\",\n",
    "]\n",
    "\n",
    "gdf = gpd.read_parquet(\n",
    "    f\"{SEGMENT_GCS}{YEAR_FILE}.parquet\",\n",
    "    filters = [[\n",
    "        (\"name\", \"in\", subset_operators),\n",
    "        (\"year\", \"==\", 2024)\n",
    "    ]]\n",
    ").pipe(basic_formatting)"
   ]
  },
  {
   "cell_type": "markdown",
   "id": "0a2034d6-2640-40ff-aab1-70ff008ac46a",
   "metadata": {},
   "source": [
    "Culver City Route 6\n",
    "\n",
    "Big Blue Bus Route 3740 and 3744"
   ]
  },
  {
   "cell_type": "code",
   "execution_count": null,
   "id": "3cefe54a-decd-4a30-ab84-85937b46f2a2",
   "metadata": {},
   "outputs": [],
   "source": [
    "culver_route = \"6\"\n",
    "bbb_route1 = \"3740\"\n",
    "bbb_route2 = \"3744\"\n",
    "bbb_route = [bbb_route1, bbb_route2]"
   ]
  },
  {
   "cell_type": "code",
   "execution_count": null,
   "id": "5849192f-a259-4855-ac0e-f4083dea520b",
   "metadata": {},
   "outputs": [],
   "source": [
    "route_df[\n",
    "    (route_df.name==\"Big Blue Bus Schedule\") & \n",
    "    (route_df.route_id.isin(bbb_route))\n",
    "]"
   ]
  },
  {
   "cell_type": "code",
   "execution_count": null,
   "id": "63725c06-9d43-4441-906c-831a0626fceb",
   "metadata": {},
   "outputs": [],
   "source": [
    "culver_gdf = gdf[\n",
    "    (gdf.name == \"Culver City Schedule\") & \n",
    "    (gdf.route_id==culver_route)\n",
    "]\n",
    "\n",
    "bbb_gdf = gdf[\n",
    "    (gdf.name == \"Big Blue Bus Schedule\") & \n",
    "    (gdf.route_id.isin(bbb_route))\n",
    "]"
   ]
  },
  {
   "cell_type": "code",
   "execution_count": null,
   "id": "83e1f35c-4800-4670-a989-3bad5b658a3f",
   "metadata": {},
   "outputs": [],
   "source": [
    "def plot_two_operators(\n",
    "    operator1_gdf: gpd.GeoDataFrame,\n",
    "    operator2_gdf: gpd.GeoDataFrame,\n",
    "    plot_col: str = \"p50_mph\"\n",
    "):\n",
    "    \n",
    "    layer1_name = operator1_gdf.name.unique()[0].replace(\" Schedule\", \"\")\n",
    "    layer2_name = operator2_gdf.name.unique()[0].replace(\" Schedule\", \"\")\n",
    "    \n",
    "    m = operator1_gdf.explore(\n",
    "        plot_col, \n",
    "        tiles = \"CartoDB Positron\",\n",
    "        cmap = rt_utils.ACCESS_ZERO_THIRTY_COLORSCALE,\n",
    "        name = layer1_name\n",
    "    )\n",
    "    \n",
    "    m = operator2_gdf.explore(\n",
    "        plot_col, \n",
    "        m=m, \n",
    "        cmap = rt_utils.ACCESS_ZERO_THIRTY_COLORSCALE,\n",
    "        name = layer2_name\n",
    "    )\n",
    "    \n",
    "    folium.LayerControl().add_to(m)\n",
    "    \n",
    "    return m "
   ]
  },
  {
   "cell_type": "code",
   "execution_count": null,
   "id": "c7407025-05c8-40c9-b8c4-6bf55994e14c",
   "metadata": {},
   "outputs": [],
   "source": [
    "plot_two_operators(\n",
    "    culver_gdf,\n",
    "    bbb_gdf,\n",
    "    \"p50_mph\"\n",
    ")"
   ]
  },
  {
   "cell_type": "code",
   "execution_count": null,
   "id": "a18a471c-f8a8-4b69-a625-69ed7c666c2a",
   "metadata": {},
   "outputs": [],
   "source": [
    "def find_intersecting_segments(\n",
    "    operator1_route: str,\n",
    "    operator2_route: str,\n",
    "    segment_cols: list\n",
    ") -> pd.DataFrame:\n",
    "    s1 = gpd.sjoin(\n",
    "        operator1_route[segment_cols + [\"geometry\"]],\n",
    "        operator2_route[segment_cols + [\"geometry\"]],\n",
    "        how = \"inner\",\n",
    "        predicate = \"intersects\"\n",
    "    ).drop(columns = [\"geometry\", \"index_right\"]).drop_duplicates()\n",
    "    \n",
    "    return s1"
   ]
  },
  {
   "cell_type": "code",
   "execution_count": null,
   "id": "1ef1c413-1e81-4660-9241-b6b1f0938829",
   "metadata": {},
   "outputs": [],
   "source": [
    "segment_crosswalk = find_intersecting_segments(\n",
    "    gdf[gdf.route_id==culver_route],\n",
    "    gdf[gdf.route_id.isin(bbb_route)],\n",
    "    [\"stop_pair_name\"]\n",
    ")"
   ]
  },
  {
   "cell_type": "code",
   "execution_count": null,
   "id": "c788b76f-24ec-4bb1-a531-cc9d09de36e3",
   "metadata": {},
   "outputs": [],
   "source": [
    "segment_crosswalk.head(2)"
   ]
  },
  {
   "cell_type": "code",
   "execution_count": null,
   "id": "e386b246-0724-402d-b351-2a16626e7f1d",
   "metadata": {},
   "outputs": [],
   "source": [
    "plot_two_operators(\n",
    "    culver_gdf[culver_gdf.stop_pair_name.isin(segment_crosswalk.stop_pair_name_left)],\n",
    "    bbb_gdf[bbb_gdf.stop_pair_name.isin(segment_crosswalk.stop_pair_name_right)],\n",
    "    \"p50_mph\"\n",
    ")"
   ]
  },
  {
   "cell_type": "code",
   "execution_count": null,
   "id": "fda3b0b5-051a-4800-b2cf-759388ace794",
   "metadata": {},
   "outputs": [],
   "source": [
    "plot_two_operators(\n",
    "    culver_gdf[culver_gdf.stop_pair_name.isin(segment_crosswalk.stop_pair_name_left)],\n",
    "    bbb_gdf[bbb_gdf.stop_pair_name.isin(segment_crosswalk.stop_pair_name_right)],\n",
    ")"
   ]
  },
  {
   "cell_type": "code",
   "execution_count": null,
   "id": "4b305381-7b6a-486f-aa38-6fe4b5f462f9",
   "metadata": {},
   "outputs": [],
   "source": []
  },
  {
   "cell_type": "code",
   "execution_count": null,
   "id": "b5d941f3-db2f-4571-a48b-50f45fa5e7e8",
   "metadata": {},
   "outputs": [],
   "source": []
  }
 ],
 "metadata": {
  "kernelspec": {
   "display_name": "Python 3 (ipykernel)",
   "language": "python",
   "name": "python3"
  },
  "language_info": {
   "codemirror_mode": {
    "name": "ipython",
    "version": 3
   },
   "file_extension": ".py",
   "mimetype": "text/x-python",
   "name": "python",
   "nbconvert_exporter": "python",
   "pygments_lexer": "ipython3",
   "version": "3.9.13"
  }
 },
 "nbformat": 4,
 "nbformat_minor": 5
}
