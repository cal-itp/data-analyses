{
 "cells": [
  {
   "cell_type": "code",
   "execution_count": 67,
   "id": "757c9afd-328f-45eb-910a-b104b2d251e5",
   "metadata": {
    "tags": []
   },
   "outputs": [],
   "source": [
    "import pandas as pd\n",
    "import geopandas as gpd\n",
    "\n",
    "from shared_utils import catalog_utils, rt_dates, rt_utils\n",
    "from calitp_data_analysis.gcs_geopandas import GCSGeoPandas\n",
    "gcsgp = GCSGeoPandas()"
   ]
  },
  {
   "cell_type": "markdown",
   "id": "a64a7447-b128-47b0-9c97-8f961480a85e",
   "metadata": {},
   "source": [
    "# Culver City Runtime Export\n",
    "\n",
    "Simple example of filtering for single-day speed data over the last 12 months and calculating runtimes. Request from Culver City."
   ]
  },
  {
   "cell_type": "code",
   "execution_count": 2,
   "id": "bbaa9a24-d2d0-4e0f-85d0-5ca0ebfd56c9",
   "metadata": {},
   "outputs": [
    {
     "data": {
      "text/plain": [
       "<module 'shared_utils.catalog_utils' from '/home/jovyan/data-analyses/_shared_utils/shared_utils/catalog_utils.py'>"
      ]
     },
     "execution_count": 2,
     "metadata": {},
     "output_type": "execute_result"
    }
   ],
   "source": [
    "catalog_utils"
   ]
  },
  {
   "cell_type": "code",
   "execution_count": 3,
   "id": "228bf46d-d8a5-4dcd-bf5e-e8a6003c2df5",
   "metadata": {
    "tags": []
   },
   "outputs": [
    {
     "data": {
      "text/plain": [
       "\u001b[0;31mSignature:\u001b[0m\n",
       "\u001b[0mcatalog_utils\u001b[0m\u001b[0;34m.\u001b[0m\u001b[0mget_catalog\u001b[0m\u001b[0;34m(\u001b[0m\u001b[0;34m\u001b[0m\n",
       "\u001b[0;34m\u001b[0m    \u001b[0mcatalog_name\u001b[0m\u001b[0;34m:\u001b[0m \u001b[0mLiteral\u001b[0m\u001b[0;34m[\u001b[0m\u001b[0;34m'shared_data_catalog'\u001b[0m\u001b[0;34m,\u001b[0m \u001b[0;34m'gtfs_analytics_data'\u001b[0m\u001b[0;34m]\u001b[0m\u001b[0;34m,\u001b[0m\u001b[0;34m\u001b[0m\n",
       "\u001b[0;34m\u001b[0m\u001b[0;34m)\u001b[0m \u001b[0;34m->\u001b[0m \u001b[0mpathlib\u001b[0m\u001b[0;34m.\u001b[0m\u001b[0mPath\u001b[0m\u001b[0;34m\u001b[0m\u001b[0;34m\u001b[0m\u001b[0m\n",
       "\u001b[0;31mDocstring:\u001b[0m\n",
       "Grab either the shared_data_catalog (uses intake driver) or\n",
       "gtfs_analytics_data catalog (uses OmegaConf yaml parser).\n",
       "\u001b[0;31mFile:\u001b[0m      ~/data-analyses/_shared_utils/shared_utils/catalog_utils.py\n",
       "\u001b[0;31mType:\u001b[0m      function"
      ]
     },
     "metadata": {},
     "output_type": "display_data"
    }
   ],
   "source": [
    "catalog_utils.get_catalog?"
   ]
  },
  {
   "cell_type": "code",
   "execution_count": 4,
   "id": "458935d7-5d40-4292-93e6-64d4c0224dae",
   "metadata": {
    "tags": []
   },
   "outputs": [],
   "source": [
    "catalog = catalog_utils.get_catalog('gtfs_analytics_data')"
   ]
  },
  {
   "cell_type": "code",
   "execution_count": 5,
   "id": "4f8648ac-7242-4bf4-8043-83655db021ae",
   "metadata": {
    "tags": []
   },
   "outputs": [],
   "source": [
    "speedmap_dir = catalog.speedmap_segments.dir"
   ]
  },
  {
   "cell_type": "code",
   "execution_count": 49,
   "id": "2433631e-f68e-4888-b78b-d4a9d7217455",
   "metadata": {
    "tags": []
   },
   "outputs": [],
   "source": [
    "analysis_date = rt_dates.DATES['sep2025']"
   ]
  },
  {
   "cell_type": "code",
   "execution_count": 50,
   "id": "9964a8c7-27eb-4c26-a39c-4879359887b2",
   "metadata": {
    "tags": []
   },
   "outputs": [
    {
     "data": {
      "text/plain": [
       "'gs://calitp-analytics-data/data-analyses/rt_segment_speeds/rollup_singleday/speeds_shape_timeofday_speedmap_segments_2025-09-24.parquet'"
      ]
     },
     "execution_count": 50,
     "metadata": {},
     "output_type": "execute_result"
    }
   ],
   "source": [
    "path = f\"{speedmap_dir}{catalog.speedmap_segments.segment_timeofday}_{analysis_date}.parquet\"\n",
    "path"
   ]
  },
  {
   "cell_type": "code",
   "execution_count": 51,
   "id": "be50e247-c31d-4f0e-b937-8ca857c156d3",
   "metadata": {
    "tags": []
   },
   "outputs": [],
   "source": [
    "speeds = gcsgp.read_parquet(path)"
   ]
  },
  {
   "cell_type": "code",
   "execution_count": 52,
   "id": "dcffca10-f73f-459d-821a-87052a56430e",
   "metadata": {
    "tags": []
   },
   "outputs": [
    {
     "data": {
      "text/plain": [
       "Index(['schedule_gtfs_dataset_key', 'shape_id', 'shape_array_key', 'route_id',\n",
       "       'direction_id', 'stop_pair', 'segment_id', 'stop_pair_name',\n",
       "       'time_of_day', 'p50_mph', 'n_trips', 'p20_mph', 'p80_mph',\n",
       "       'n_trips_sch', 'trips_hr_sch', 'route_short_name', 'geometry', 'name',\n",
       "       'base64_url', 'caltrans_district', 'analysis_name', 'source_record_id'],\n",
       "      dtype='object')"
      ]
     },
     "execution_count": 52,
     "metadata": {},
     "output_type": "execute_result"
    }
   ],
   "source": [
    "speeds.columns"
   ]
  },
  {
   "cell_type": "code",
   "execution_count": 53,
   "id": "a5be2d68-76a1-4591-97b5-d3a38c6ee6b2",
   "metadata": {
    "tags": []
   },
   "outputs": [],
   "source": [
    "metro_stop_pairs = ['16530__2755', '2755__5222']"
   ]
  },
  {
   "cell_type": "code",
   "execution_count": 40,
   "id": "8bf8f8af-15c3-49aa-aa50-9c51a3c0f0cb",
   "metadata": {
    "tags": []
   },
   "outputs": [],
   "source": [
    "all_dates = rt_dates.y2024_dates[8:] + rt_dates.y2025_dates"
   ]
  },
  {
   "cell_type": "code",
   "execution_count": 41,
   "id": "6125a279-95bf-4922-a2a2-fdd95d8f2f63",
   "metadata": {
    "tags": []
   },
   "outputs": [
    {
     "data": {
      "text/plain": [
       "['2024-09-18',\n",
       " '2024-10-16',\n",
       " '2024-11-13',\n",
       " '2024-12-11',\n",
       " '2025-01-15',\n",
       " '2025-02-12',\n",
       " '2025-03-12',\n",
       " '2025-04-16',\n",
       " '2025-05-14',\n",
       " '2025-06-11',\n",
       " '2025-07-16',\n",
       " '2025-08-20',\n",
       " '2025-09-24']"
      ]
     },
     "execution_count": 41,
     "metadata": {},
     "output_type": "execute_result"
    }
   ],
   "source": [
    "all_dates"
   ]
  },
  {
   "cell_type": "code",
   "execution_count": 55,
   "id": "e1de5f9e-7450-4f00-8992-08ef2b8dcae0",
   "metadata": {
    "tags": []
   },
   "outputs": [
    {
     "name": "stdout",
     "output_type": "stream",
     "text": [
      "2024-09-18\n",
      "(10, 23)\n",
      "2024-10-16\n",
      "(11, 23)\n",
      "2024-11-13\n",
      "(11, 23)\n",
      "2024-12-11\n",
      "(11, 23)\n",
      "2025-01-15\n",
      "(12, 23)\n",
      "2025-02-12\n",
      "(12, 23)\n",
      "2025-03-12\n",
      "(11, 23)\n",
      "2025-04-16\n",
      "(12, 23)\n",
      "2025-05-14\n",
      "(11, 23)\n",
      "2025-06-11\n",
      "(12, 23)\n",
      "2025-07-16\n",
      "(11, 23)\n",
      "2025-08-20\n",
      "(11, 23)\n",
      "2025-09-24\n",
      "(12, 23)\n"
     ]
    }
   ],
   "source": [
    "dfs = []\n",
    "for analysis_date in all_dates:\n",
    "    path = f\"{speedmap_dir}{catalog.speedmap_segments.segment_timeofday}_{analysis_date}.parquet\"\n",
    "    speeds = gcsgp.read_parquet(path, filters=[(\"name\", \"==\", \"LA Metro Bus Schedule\")])\n",
    "    speeds = speeds.query('stop_pair.isin(@metro_stop_pairs)')\n",
    "    speeds = speeds.assign(analysis_date = analysis_date)\n",
    "    print(analysis_date)\n",
    "    print(speeds.shape)\n",
    "    dfs += [speeds]"
   ]
  },
  {
   "cell_type": "code",
   "execution_count": 61,
   "id": "06d87bc4-0447-4752-8f97-8a7d7a9e8457",
   "metadata": {
    "tags": []
   },
   "outputs": [],
   "source": [
    "drop_cols = ['analysis_name', 'source_record_id', 'organization_name',\n",
    "            'organization_source_record_id']"
   ]
  },
  {
   "cell_type": "code",
   "execution_count": 95,
   "id": "31fcdc8b-cc5d-477b-9337-0d6dc6b78cd8",
   "metadata": {
    "tags": []
   },
   "outputs": [],
   "source": [
    "gdf = pd.concat(dfs).drop(columns=drop_cols)"
   ]
  },
  {
   "cell_type": "code",
   "execution_count": 96,
   "id": "3ad2d737-4664-4f68-b27b-3c1c03d72a28",
   "metadata": {
    "tags": []
   },
   "outputs": [],
   "source": [
    "from calitp_data_analysis.geography_utils import CA_NAD83Albers_m"
   ]
  },
  {
   "cell_type": "code",
   "execution_count": 97,
   "id": "db4f33f8-f245-44ca-bc9d-d82b4ace00da",
   "metadata": {
    "tags": []
   },
   "outputs": [
    {
     "data": {
      "text/plain": [
       "2.237"
      ]
     },
     "execution_count": 97,
     "metadata": {},
     "output_type": "execute_result"
    }
   ],
   "source": [
    "rt_utils.MPH_PER_MPS"
   ]
  },
  {
   "cell_type": "code",
   "execution_count": 98,
   "id": "d5ca8864-edf0-4da0-be30-9eeca9b70ead",
   "metadata": {
    "tags": []
   },
   "outputs": [
    {
     "data": {
      "text/plain": [
       "1609.34"
      ]
     },
     "execution_count": 98,
     "metadata": {},
     "output_type": "execute_result"
    }
   ],
   "source": [
    "rt_utils.METERS_PER_MILE"
   ]
  },
  {
   "cell_type": "code",
   "execution_count": 99,
   "id": "34113fc9-fb35-4fb4-b621-d7a4e2b33e23",
   "metadata": {
    "tags": []
   },
   "outputs": [],
   "source": [
    "gdf = gdf.to_crs(CA_NAD83Albers_m)\n",
    "gdf['segment_miles'] = gdf.geometry.map(lambda x: x.length / rt_utils.METERS_PER_MILE)"
   ]
  },
  {
   "cell_type": "code",
   "execution_count": 100,
   "id": "14213317-d60b-4135-bb4c-4dc5f1dde84a",
   "metadata": {
    "tags": []
   },
   "outputs": [],
   "source": [
    "def runtime_from_row(row, col):\n",
    "    hours = row.segment_miles / row[col]\n",
    "    seconds = hours * 60**2\n",
    "    return seconds"
   ]
  },
  {
   "cell_type": "code",
   "execution_count": 102,
   "id": "108d142b-a235-4006-ad78-f7f0c9f50323",
   "metadata": {
    "tags": []
   },
   "outputs": [],
   "source": [
    "gdf = gdf.assign(seconds_p50_speed = gdf.apply(runtime_from_row, axis=1, col='p50_mph'),\n",
    "                seconds_p20_speed = gdf.apply(runtime_from_row, axis=1, col='p20_mph'),\n",
    "                seconds_p80_speed = gdf.apply(runtime_from_row, axis=1, col='p80_mph'))"
   ]
  },
  {
   "cell_type": "code",
   "execution_count": 103,
   "id": "24cd6a33-be84-480a-bf1b-46cf7eeb65cc",
   "metadata": {
    "tags": []
   },
   "outputs": [
    {
     "data": {
      "text/html": [
       "<div>\n",
       "<style scoped>\n",
       "    .dataframe tbody tr th:only-of-type {\n",
       "        vertical-align: middle;\n",
       "    }\n",
       "\n",
       "    .dataframe tbody tr th {\n",
       "        vertical-align: top;\n",
       "    }\n",
       "\n",
       "    .dataframe thead th {\n",
       "        text-align: right;\n",
       "    }\n",
       "</style>\n",
       "<table border=\"1\" class=\"dataframe\">\n",
       "  <thead>\n",
       "    <tr style=\"text-align: right;\">\n",
       "      <th></th>\n",
       "      <th>schedule_gtfs_dataset_key</th>\n",
       "      <th>shape_id</th>\n",
       "      <th>shape_array_key</th>\n",
       "      <th>route_id</th>\n",
       "      <th>direction_id</th>\n",
       "      <th>stop_pair</th>\n",
       "      <th>segment_id</th>\n",
       "      <th>stop_pair_name</th>\n",
       "      <th>time_of_day</th>\n",
       "      <th>p50_mph</th>\n",
       "      <th>...</th>\n",
       "      <th>route_short_name</th>\n",
       "      <th>name</th>\n",
       "      <th>caltrans_district</th>\n",
       "      <th>base64_url</th>\n",
       "      <th>geometry</th>\n",
       "      <th>analysis_date</th>\n",
       "      <th>segment_miles</th>\n",
       "      <th>seconds_p50_speed</th>\n",
       "      <th>seconds_p20_speed</th>\n",
       "      <th>seconds_p80_speed</th>\n",
       "    </tr>\n",
       "  </thead>\n",
       "  <tbody>\n",
       "    <tr>\n",
       "      <th>3750</th>\n",
       "      <td>0666caf3ec1ecc96b74f4477ee4bc939</td>\n",
       "      <td>350276_JUNE24</td>\n",
       "      <td>707ecc7c9a60834da53fc4c536184ade</td>\n",
       "      <td>35-13183</td>\n",
       "      <td>0.0</td>\n",
       "      <td>16530__2755</td>\n",
       "      <td>16530-2755-1</td>\n",
       "      <td>Washington / Fairfax__Fairfax / Adams</td>\n",
       "      <td>Evening</td>\n",
       "      <td>12.84</td>\n",
       "      <td>...</td>\n",
       "      <td>35/38</td>\n",
       "      <td>LA Metro Bus Schedule</td>\n",
       "      <td>07 - Los Angeles</td>\n",
       "      <td>aHR0cHM6Ly9naXRsYWIuY29tL0xBQ01UQS9ndGZzX2J1cy...</td>\n",
       "      <td>LINESTRING (150586.014 -441021.241, 150586.014...</td>\n",
       "      <td>2024-09-18</td>\n",
       "      <td>0.430914</td>\n",
       "      <td>120.816935</td>\n",
       "      <td>233.276608</td>\n",
       "      <td>81.560959</td>\n",
       "    </tr>\n",
       "    <tr>\n",
       "      <th>3751</th>\n",
       "      <td>0666caf3ec1ecc96b74f4477ee4bc939</td>\n",
       "      <td>350276_JUNE24</td>\n",
       "      <td>707ecc7c9a60834da53fc4c536184ade</td>\n",
       "      <td>35-13183</td>\n",
       "      <td>0.0</td>\n",
       "      <td>2755__5222</td>\n",
       "      <td>2755-5222-1</td>\n",
       "      <td>Fairfax / Adams__Jefferson / La Cienega</td>\n",
       "      <td>Evening</td>\n",
       "      <td>8.34</td>\n",
       "      <td>...</td>\n",
       "      <td>35/38</td>\n",
       "      <td>LA Metro Bus Schedule</td>\n",
       "      <td>07 - Los Angeles</td>\n",
       "      <td>aHR0cHM6Ly9naXRsYWIuY29tL0xBQ01UQS9ndGZzX2J1cy...</td>\n",
       "      <td>LINESTRING (150433.352 -441316.744, 150433.352...</td>\n",
       "      <td>2024-09-18</td>\n",
       "      <td>0.436072</td>\n",
       "      <td>188.232698</td>\n",
       "      <td>192.384890</td>\n",
       "      <td>184.472468</td>\n",
       "    </tr>\n",
       "    <tr>\n",
       "      <th>53137</th>\n",
       "      <td>0666caf3ec1ecc96b74f4477ee4bc939</td>\n",
       "      <td>350275_JUNE24</td>\n",
       "      <td>5a6bc72c5f95666b6f8cbd6121276b6c</td>\n",
       "      <td>35-13183</td>\n",
       "      <td>0.0</td>\n",
       "      <td>16530__2755</td>\n",
       "      <td>16530-2755-1</td>\n",
       "      <td>Washington / Fairfax__Fairfax / Adams</td>\n",
       "      <td>Early AM</td>\n",
       "      <td>19.88</td>\n",
       "      <td>...</td>\n",
       "      <td>35/38</td>\n",
       "      <td>LA Metro Bus Schedule</td>\n",
       "      <td>07 - Los Angeles</td>\n",
       "      <td>aHR0cHM6Ly9naXRsYWIuY29tL0xBQ01UQS9ndGZzX2J1cy...</td>\n",
       "      <td>LINESTRING (150586.014 -441021.241, 150586.014...</td>\n",
       "      <td>2024-09-18</td>\n",
       "      <td>0.430914</td>\n",
       "      <td>78.032668</td>\n",
       "      <td>78.032668</td>\n",
       "      <td>78.032668</td>\n",
       "    </tr>\n",
       "    <tr>\n",
       "      <th>53138</th>\n",
       "      <td>0666caf3ec1ecc96b74f4477ee4bc939</td>\n",
       "      <td>350275_JUNE24</td>\n",
       "      <td>5a6bc72c5f95666b6f8cbd6121276b6c</td>\n",
       "      <td>35-13183</td>\n",
       "      <td>0.0</td>\n",
       "      <td>16530__2755</td>\n",
       "      <td>16530-2755-1</td>\n",
       "      <td>Washington / Fairfax__Fairfax / Adams</td>\n",
       "      <td>Midday</td>\n",
       "      <td>1.01</td>\n",
       "      <td>...</td>\n",
       "      <td>35/38</td>\n",
       "      <td>LA Metro Bus Schedule</td>\n",
       "      <td>07 - Los Angeles</td>\n",
       "      <td>aHR0cHM6Ly9naXRsYWIuY29tL0xBQ01UQS9ndGZzX2J1cy...</td>\n",
       "      <td>LINESTRING (150586.014 -441021.241, 150586.014...</td>\n",
       "      <td>2024-09-18</td>\n",
       "      <td>0.430914</td>\n",
       "      <td>1535.930142</td>\n",
       "      <td>2462.364196</td>\n",
       "      <td>135.129742</td>\n",
       "    </tr>\n",
       "    <tr>\n",
       "      <th>53139</th>\n",
       "      <td>0666caf3ec1ecc96b74f4477ee4bc939</td>\n",
       "      <td>350275_JUNE24</td>\n",
       "      <td>5a6bc72c5f95666b6f8cbd6121276b6c</td>\n",
       "      <td>35-13183</td>\n",
       "      <td>0.0</td>\n",
       "      <td>16530__2755</td>\n",
       "      <td>16530-2755-1</td>\n",
       "      <td>Washington / Fairfax__Fairfax / Adams</td>\n",
       "      <td>PM Peak</td>\n",
       "      <td>3.58</td>\n",
       "      <td>...</td>\n",
       "      <td>35/38</td>\n",
       "      <td>LA Metro Bus Schedule</td>\n",
       "      <td>07 - Los Angeles</td>\n",
       "      <td>aHR0cHM6Ly9naXRsYWIuY29tL0xBQ01UQS9ndGZzX2J1cy...</td>\n",
       "      <td>LINESTRING (150586.014 -441021.241, 150586.014...</td>\n",
       "      <td>2024-09-18</td>\n",
       "      <td>0.430914</td>\n",
       "      <td>433.321074</td>\n",
       "      <td>628.052406</td>\n",
       "      <td>330.061584</td>\n",
       "    </tr>\n",
       "    <tr>\n",
       "      <th>...</th>\n",
       "      <td>...</td>\n",
       "      <td>...</td>\n",
       "      <td>...</td>\n",
       "      <td>...</td>\n",
       "      <td>...</td>\n",
       "      <td>...</td>\n",
       "      <td>...</td>\n",
       "      <td>...</td>\n",
       "      <td>...</td>\n",
       "      <td>...</td>\n",
       "      <td>...</td>\n",
       "      <td>...</td>\n",
       "      <td>...</td>\n",
       "      <td>...</td>\n",
       "      <td>...</td>\n",
       "      <td>...</td>\n",
       "      <td>...</td>\n",
       "      <td>...</td>\n",
       "      <td>...</td>\n",
       "      <td>...</td>\n",
       "      <td>...</td>\n",
       "    </tr>\n",
       "    <tr>\n",
       "      <th>622389</th>\n",
       "      <td>d4a07b520153bd5c27860835bc42610e</td>\n",
       "      <td>350287_JUNE25</td>\n",
       "      <td>e50881577fd0bd6c35a271dd4b5e4e1c</td>\n",
       "      <td>35-13188</td>\n",
       "      <td>0.0</td>\n",
       "      <td>2755__5222</td>\n",
       "      <td>2755-5222-1</td>\n",
       "      <td>Fairfax / Adams__Jefferson / La Cienega</td>\n",
       "      <td>Evening</td>\n",
       "      <td>5.99</td>\n",
       "      <td>...</td>\n",
       "      <td>35/38</td>\n",
       "      <td>LA Metro Bus Schedule</td>\n",
       "      <td>07 - Los Angeles / Ventura</td>\n",
       "      <td>aHR0cHM6Ly9naXRsYWIuY29tL0xBQ01UQS9ndGZzX2J1cy...</td>\n",
       "      <td>LINESTRING (150433.352 -441316.744, 150433.352...</td>\n",
       "      <td>2025-09-24</td>\n",
       "      <td>0.436072</td>\n",
       "      <td>262.080251</td>\n",
       "      <td>262.080251</td>\n",
       "      <td>262.080251</td>\n",
       "    </tr>\n",
       "    <tr>\n",
       "      <th>622390</th>\n",
       "      <td>d4a07b520153bd5c27860835bc42610e</td>\n",
       "      <td>350287_JUNE25</td>\n",
       "      <td>e50881577fd0bd6c35a271dd4b5e4e1c</td>\n",
       "      <td>35-13188</td>\n",
       "      <td>0.0</td>\n",
       "      <td>2755__5222</td>\n",
       "      <td>2755-5222-1</td>\n",
       "      <td>Fairfax / Adams__Jefferson / La Cienega</td>\n",
       "      <td>Midday</td>\n",
       "      <td>6.88</td>\n",
       "      <td>...</td>\n",
       "      <td>35/38</td>\n",
       "      <td>LA Metro Bus Schedule</td>\n",
       "      <td>07 - Los Angeles / Ventura</td>\n",
       "      <td>aHR0cHM6Ly9naXRsYWIuY29tL0xBQ01UQS9ndGZzX2J1cy...</td>\n",
       "      <td>LINESTRING (150433.352 -441316.744, 150433.352...</td>\n",
       "      <td>2025-09-24</td>\n",
       "      <td>0.436072</td>\n",
       "      <td>228.177428</td>\n",
       "      <td>323.682620</td>\n",
       "      <td>183.609439</td>\n",
       "    </tr>\n",
       "    <tr>\n",
       "      <th>622391</th>\n",
       "      <td>d4a07b520153bd5c27860835bc42610e</td>\n",
       "      <td>350287_JUNE25</td>\n",
       "      <td>e50881577fd0bd6c35a271dd4b5e4e1c</td>\n",
       "      <td>35-13188</td>\n",
       "      <td>0.0</td>\n",
       "      <td>2755__5222</td>\n",
       "      <td>2755-5222-1</td>\n",
       "      <td>Fairfax / Adams__Jefferson / La Cienega</td>\n",
       "      <td>PM Peak</td>\n",
       "      <td>3.18</td>\n",
       "      <td>...</td>\n",
       "      <td>35/38</td>\n",
       "      <td>LA Metro Bus Schedule</td>\n",
       "      <td>07 - Los Angeles / Ventura</td>\n",
       "      <td>aHR0cHM6Ly9naXRsYWIuY29tL0xBQ01UQS9ndGZzX2J1cy...</td>\n",
       "      <td>LINESTRING (150433.352 -441316.744, 150433.352...</td>\n",
       "      <td>2025-09-24</td>\n",
       "      <td>0.436072</td>\n",
       "      <td>493.666888</td>\n",
       "      <td>740.500333</td>\n",
       "      <td>327.054314</td>\n",
       "    </tr>\n",
       "    <tr>\n",
       "      <th>665067</th>\n",
       "      <td>d4a07b520153bd5c27860835bc42610e</td>\n",
       "      <td>350288_JUNE25</td>\n",
       "      <td>e0e9a22bd1326809333cd877de4ee836</td>\n",
       "      <td>35-13188</td>\n",
       "      <td>0.0</td>\n",
       "      <td>16530__2755</td>\n",
       "      <td>16530-2755-1</td>\n",
       "      <td>Washington / Fairfax__Fairfax / Adams</td>\n",
       "      <td>Evening</td>\n",
       "      <td>9.34</td>\n",
       "      <td>...</td>\n",
       "      <td>35/38</td>\n",
       "      <td>LA Metro Bus Schedule</td>\n",
       "      <td>07 - Los Angeles / Ventura</td>\n",
       "      <td>aHR0cHM6Ly9naXRsYWIuY29tL0xBQ01UQS9ndGZzX2J1cy...</td>\n",
       "      <td>LINESTRING (150586.014 -441021.241, 150586.014...</td>\n",
       "      <td>2025-09-24</td>\n",
       "      <td>0.430914</td>\n",
       "      <td>166.090947</td>\n",
       "      <td>166.090947</td>\n",
       "      <td>166.090947</td>\n",
       "    </tr>\n",
       "    <tr>\n",
       "      <th>665068</th>\n",
       "      <td>d4a07b520153bd5c27860835bc42610e</td>\n",
       "      <td>350288_JUNE25</td>\n",
       "      <td>e0e9a22bd1326809333cd877de4ee836</td>\n",
       "      <td>35-13188</td>\n",
       "      <td>0.0</td>\n",
       "      <td>2755__5222</td>\n",
       "      <td>2755-5222-1</td>\n",
       "      <td>Fairfax / Adams__Jefferson / La Cienega</td>\n",
       "      <td>Evening</td>\n",
       "      <td>10.25</td>\n",
       "      <td>...</td>\n",
       "      <td>35/38</td>\n",
       "      <td>LA Metro Bus Schedule</td>\n",
       "      <td>07 - Los Angeles / Ventura</td>\n",
       "      <td>aHR0cHM6Ly9naXRsYWIuY29tL0xBQ01UQS9ndGZzX2J1cy...</td>\n",
       "      <td>LINESTRING (150433.352 -441316.744, 150433.352...</td>\n",
       "      <td>2025-09-24</td>\n",
       "      <td>0.436072</td>\n",
       "      <td>153.157142</td>\n",
       "      <td>170.451760</td>\n",
       "      <td>139.048778</td>\n",
       "    </tr>\n",
       "  </tbody>\n",
       "</table>\n",
       "<p>147 rows × 25 columns</p>\n",
       "</div>"
      ],
      "text/plain": [
       "               schedule_gtfs_dataset_key       shape_id  \\\n",
       "3750    0666caf3ec1ecc96b74f4477ee4bc939  350276_JUNE24   \n",
       "3751    0666caf3ec1ecc96b74f4477ee4bc939  350276_JUNE24   \n",
       "53137   0666caf3ec1ecc96b74f4477ee4bc939  350275_JUNE24   \n",
       "53138   0666caf3ec1ecc96b74f4477ee4bc939  350275_JUNE24   \n",
       "53139   0666caf3ec1ecc96b74f4477ee4bc939  350275_JUNE24   \n",
       "...                                  ...            ...   \n",
       "622389  d4a07b520153bd5c27860835bc42610e  350287_JUNE25   \n",
       "622390  d4a07b520153bd5c27860835bc42610e  350287_JUNE25   \n",
       "622391  d4a07b520153bd5c27860835bc42610e  350287_JUNE25   \n",
       "665067  d4a07b520153bd5c27860835bc42610e  350288_JUNE25   \n",
       "665068  d4a07b520153bd5c27860835bc42610e  350288_JUNE25   \n",
       "\n",
       "                         shape_array_key  route_id  direction_id    stop_pair  \\\n",
       "3750    707ecc7c9a60834da53fc4c536184ade  35-13183           0.0  16530__2755   \n",
       "3751    707ecc7c9a60834da53fc4c536184ade  35-13183           0.0   2755__5222   \n",
       "53137   5a6bc72c5f95666b6f8cbd6121276b6c  35-13183           0.0  16530__2755   \n",
       "53138   5a6bc72c5f95666b6f8cbd6121276b6c  35-13183           0.0  16530__2755   \n",
       "53139   5a6bc72c5f95666b6f8cbd6121276b6c  35-13183           0.0  16530__2755   \n",
       "...                                  ...       ...           ...          ...   \n",
       "622389  e50881577fd0bd6c35a271dd4b5e4e1c  35-13188           0.0   2755__5222   \n",
       "622390  e50881577fd0bd6c35a271dd4b5e4e1c  35-13188           0.0   2755__5222   \n",
       "622391  e50881577fd0bd6c35a271dd4b5e4e1c  35-13188           0.0   2755__5222   \n",
       "665067  e0e9a22bd1326809333cd877de4ee836  35-13188           0.0  16530__2755   \n",
       "665068  e0e9a22bd1326809333cd877de4ee836  35-13188           0.0   2755__5222   \n",
       "\n",
       "          segment_id                           stop_pair_name time_of_day  \\\n",
       "3750    16530-2755-1    Washington / Fairfax__Fairfax / Adams     Evening   \n",
       "3751     2755-5222-1  Fairfax / Adams__Jefferson / La Cienega     Evening   \n",
       "53137   16530-2755-1    Washington / Fairfax__Fairfax / Adams    Early AM   \n",
       "53138   16530-2755-1    Washington / Fairfax__Fairfax / Adams      Midday   \n",
       "53139   16530-2755-1    Washington / Fairfax__Fairfax / Adams     PM Peak   \n",
       "...              ...                                      ...         ...   \n",
       "622389   2755-5222-1  Fairfax / Adams__Jefferson / La Cienega     Evening   \n",
       "622390   2755-5222-1  Fairfax / Adams__Jefferson / La Cienega      Midday   \n",
       "622391   2755-5222-1  Fairfax / Adams__Jefferson / La Cienega     PM Peak   \n",
       "665067  16530-2755-1    Washington / Fairfax__Fairfax / Adams     Evening   \n",
       "665068   2755-5222-1  Fairfax / Adams__Jefferson / La Cienega     Evening   \n",
       "\n",
       "        p50_mph  ...  route_short_name                   name  \\\n",
       "3750      12.84  ...             35/38  LA Metro Bus Schedule   \n",
       "3751       8.34  ...             35/38  LA Metro Bus Schedule   \n",
       "53137     19.88  ...             35/38  LA Metro Bus Schedule   \n",
       "53138      1.01  ...             35/38  LA Metro Bus Schedule   \n",
       "53139      3.58  ...             35/38  LA Metro Bus Schedule   \n",
       "...         ...  ...               ...                    ...   \n",
       "622389     5.99  ...             35/38  LA Metro Bus Schedule   \n",
       "622390     6.88  ...             35/38  LA Metro Bus Schedule   \n",
       "622391     3.18  ...             35/38  LA Metro Bus Schedule   \n",
       "665067     9.34  ...             35/38  LA Metro Bus Schedule   \n",
       "665068    10.25  ...             35/38  LA Metro Bus Schedule   \n",
       "\n",
       "                 caltrans_district  \\\n",
       "3750              07 - Los Angeles   \n",
       "3751              07 - Los Angeles   \n",
       "53137             07 - Los Angeles   \n",
       "53138             07 - Los Angeles   \n",
       "53139             07 - Los Angeles   \n",
       "...                            ...   \n",
       "622389  07 - Los Angeles / Ventura   \n",
       "622390  07 - Los Angeles / Ventura   \n",
       "622391  07 - Los Angeles / Ventura   \n",
       "665067  07 - Los Angeles / Ventura   \n",
       "665068  07 - Los Angeles / Ventura   \n",
       "\n",
       "                                               base64_url  \\\n",
       "3750    aHR0cHM6Ly9naXRsYWIuY29tL0xBQ01UQS9ndGZzX2J1cy...   \n",
       "3751    aHR0cHM6Ly9naXRsYWIuY29tL0xBQ01UQS9ndGZzX2J1cy...   \n",
       "53137   aHR0cHM6Ly9naXRsYWIuY29tL0xBQ01UQS9ndGZzX2J1cy...   \n",
       "53138   aHR0cHM6Ly9naXRsYWIuY29tL0xBQ01UQS9ndGZzX2J1cy...   \n",
       "53139   aHR0cHM6Ly9naXRsYWIuY29tL0xBQ01UQS9ndGZzX2J1cy...   \n",
       "...                                                   ...   \n",
       "622389  aHR0cHM6Ly9naXRsYWIuY29tL0xBQ01UQS9ndGZzX2J1cy...   \n",
       "622390  aHR0cHM6Ly9naXRsYWIuY29tL0xBQ01UQS9ndGZzX2J1cy...   \n",
       "622391  aHR0cHM6Ly9naXRsYWIuY29tL0xBQ01UQS9ndGZzX2J1cy...   \n",
       "665067  aHR0cHM6Ly9naXRsYWIuY29tL0xBQ01UQS9ndGZzX2J1cy...   \n",
       "665068  aHR0cHM6Ly9naXRsYWIuY29tL0xBQ01UQS9ndGZzX2J1cy...   \n",
       "\n",
       "                                                 geometry analysis_date  \\\n",
       "3750    LINESTRING (150586.014 -441021.241, 150586.014...    2024-09-18   \n",
       "3751    LINESTRING (150433.352 -441316.744, 150433.352...    2024-09-18   \n",
       "53137   LINESTRING (150586.014 -441021.241, 150586.014...    2024-09-18   \n",
       "53138   LINESTRING (150586.014 -441021.241, 150586.014...    2024-09-18   \n",
       "53139   LINESTRING (150586.014 -441021.241, 150586.014...    2024-09-18   \n",
       "...                                                   ...           ...   \n",
       "622389  LINESTRING (150433.352 -441316.744, 150433.352...    2025-09-24   \n",
       "622390  LINESTRING (150433.352 -441316.744, 150433.352...    2025-09-24   \n",
       "622391  LINESTRING (150433.352 -441316.744, 150433.352...    2025-09-24   \n",
       "665067  LINESTRING (150586.014 -441021.241, 150586.014...    2025-09-24   \n",
       "665068  LINESTRING (150433.352 -441316.744, 150433.352...    2025-09-24   \n",
       "\n",
       "       segment_miles seconds_p50_speed seconds_p20_speed seconds_p80_speed  \n",
       "3750        0.430914        120.816935        233.276608         81.560959  \n",
       "3751        0.436072        188.232698        192.384890        184.472468  \n",
       "53137       0.430914         78.032668         78.032668         78.032668  \n",
       "53138       0.430914       1535.930142       2462.364196        135.129742  \n",
       "53139       0.430914        433.321074        628.052406        330.061584  \n",
       "...              ...               ...               ...               ...  \n",
       "622389      0.436072        262.080251        262.080251        262.080251  \n",
       "622390      0.436072        228.177428        323.682620        183.609439  \n",
       "622391      0.436072        493.666888        740.500333        327.054314  \n",
       "665067      0.430914        166.090947        166.090947        166.090947  \n",
       "665068      0.436072        153.157142        170.451760        139.048778  \n",
       "\n",
       "[147 rows x 25 columns]"
      ]
     },
     "execution_count": 103,
     "metadata": {},
     "output_type": "execute_result"
    }
   ],
   "source": [
    "gdf"
   ]
  },
  {
   "cell_type": "code",
   "execution_count": 107,
   "id": "56e9988c-9fe9-464d-b54c-c1171fa0079e",
   "metadata": {
    "tags": []
   },
   "outputs": [],
   "source": [
    "gdf.to_file('metro_38_2024_2025.geojson')"
   ]
  },
  {
   "cell_type": "code",
   "execution_count": 108,
   "id": "f18451d8-0cc4-4d72-af07-0b8192c08e39",
   "metadata": {
    "tags": []
   },
   "outputs": [],
   "source": [
    "gdf.drop(columns=['geometry']).to_csv('metro_38_2024_2025.csv')"
   ]
  }
 ],
 "metadata": {
  "kernelspec": {
   "display_name": "Python 3 (ipykernel)",
   "language": "python",
   "name": "python3"
  },
  "language_info": {
   "codemirror_mode": {
    "name": "ipython",
    "version": 3
   },
   "file_extension": ".py",
   "mimetype": "text/x-python",
   "name": "python",
   "nbconvert_exporter": "python",
   "pygments_lexer": "ipython3",
   "version": "3.11.10"
  },
  "widgets": {
   "application/vnd.jupyter.widget-state+json": {
    "state": {},
    "version_major": 2,
    "version_minor": 0
   }
  }
 },
 "nbformat": 4,
 "nbformat_minor": 5
}
