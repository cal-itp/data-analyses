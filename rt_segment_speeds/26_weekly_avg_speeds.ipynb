{
 "cells": [
  {
   "cell_type": "code",
   "execution_count": null,
   "id": "a7daafbe-3e88-4eb4-b9cb-128b1526431c",
   "metadata": {},
   "outputs": [],
   "source": [
    "%%capture\n",
    "import warnings\n",
    "warnings.filterwarnings('ignore')\n",
    "\n",
    "import altair as alt\n",
    "import calitp_data_analysis.magics\n",
    "import geopandas as gpd\n",
    "import pandas as pd\n",
    "\n",
    "from IPython.display import Markdown\n",
    "\n",
    "import deploy_portfolio_yaml\n",
    "from calitp_data_analysis import calitp_color_palette as cp\n",
    "from calitp_data_analysis import styleguide\n",
    "from segment_speed_utils.project_vars import SEGMENT_GCS\n",
    "\n",
    "alt.renderers.enable(\"html\")\n",
    "alt.data_transformers.enable('default', max_rows=None)"
   ]
  },
  {
   "cell_type": "code",
   "execution_count": null,
   "id": "b67468fc-f493-4687-92d7-98578c7502ea",
   "metadata": {
    "tags": [
     "parameters"
    ]
   },
   "outputs": [],
   "source": [
    "# parameters cell\n",
    "org_name = \"City of Santa Monica\" "
   ]
  },
  {
   "cell_type": "code",
   "execution_count": null,
   "id": "5ca61315-61fc-4207-a97c-97f4cf60b804",
   "metadata": {},
   "outputs": [],
   "source": [
    "SPEEDS_SHAPE = \"speeds_by_shape_peak_daytype\"\n",
    "SPEEDS_ROUTE = \"speeds_by_route_direction_peak_daytype\"\n",
    "\n",
    "months = [\"apr\", \"oct\"]\n",
    "\n",
    "df = pd.concat(\n",
    "    [pd.read_parquet(\n",
    "            f\"{SEGMENT_GCS}rollup/{SPEEDS_ROUTE}_{m}2023.parquet\",\n",
    "        filters = [[(\"organization_name\", \"==\", org_name)]],\n",
    "        ) for m in months\n",
    "    ], axis=0, ignore_index=True\n",
    ").astype({\"direction_id\": \"int\"})"
   ]
  },
  {
   "cell_type": "code",
   "execution_count": null,
   "id": "b0bce3e0-9116-48a8-9d7a-e6bd3ed49a05",
   "metadata": {},
   "outputs": [],
   "source": [
    "%%capture_parameters\n",
    "org_name = df.organization_name.iloc[0]\n",
    "\n",
    "org_name"
   ]
  },
  {
   "cell_type": "markdown",
   "id": "14adce3f-20f2-4815-a036-52d24f3c77d8",
   "metadata": {},
   "source": [
    "# {org_name} average speeds by day type and peak\n",
    "**By `route_id-direction_id-mean_stop_sequence`**"
   ]
  },
  {
   "cell_type": "code",
   "execution_count": null,
   "id": "fd23ebb7-9fc7-4cdc-a23b-5e9bd5c973b8",
   "metadata": {},
   "outputs": [],
   "source": [
    "def base_bar_by_time_bin(df: pd.DataFrame, y_col: str) -> alt.Chart:\n",
    "    \n",
    "    this_route = df.route_id.unique()[0]\n",
    "    this_month = df.month.unique()[0]\n",
    "    this_direction = df.direction_id.unique()[0]\n",
    "    selected_colors = cp.CALITP_CATEGORY_BRIGHT_COLORS[2:]\n",
    "    \n",
    "    chart = (alt.Chart(df)\n",
    "         .mark_line()\n",
    "         .encode(\n",
    "             x = alt.X(\"stop_pair:O\", title = \"Stop Pair\",\n",
    "                    #axis=alt.Axis(labels=False)\n",
    "                     #sort = \"mean_stop_sequence\"\n",
    "                    ),\n",
    "             y = alt.Y(f\"{y_col}:Q\", scale = alt.Scale(domain=[0, 50])),\n",
    "             color = alt.Color(\n",
    "                 \"weekday_weekend:N\", title = \"\",\n",
    "                 scale = alt.Scale(range = selected_colors)\n",
    "             ),\n",
    "             tooltip = [\"organization_name\", \"route_id\", \"direction_id\", \n",
    "                        \"stop_pair\", y_col]\n",
    "         ).properties(\n",
    "             width=350, height=250,\n",
    "        ).facet(\n",
    "             alt.Column(\"peak_offpeak:N\"), columns=2,\n",
    "             title = {\n",
    "                 \"text\": f\"route_id: {this_route}  direction: {this_direction} speeds\",\n",
    "                 \"subtitle\": f\"month: {this_month}\"\n",
    "             })\n",
    "        .interactive()\n",
    "    )\n",
    "    \n",
    "    return chart"
   ]
  },
  {
   "cell_type": "code",
   "execution_count": null,
   "id": "fbcfd678-e8d7-40a9-95e4-d97678012d3b",
   "metadata": {},
   "outputs": [],
   "source": [
    "def dual_bar_chart(\n",
    "    df, \n",
    "    control_field: str,\n",
    "    y_col: str\n",
    "):\n",
    "    \"\"\"\n",
    "    https://stackoverflow.com/questions/58919888/multiple-selections-in-altair\n",
    "    \"\"\"\n",
    "    input_dropdown = alt.binding_select(\n",
    "        options=df.route_id.unique().tolist(), \n",
    "        name='Routes '\n",
    "    )\n",
    "        \n",
    "    # Column that controls the bar charts\n",
    "    category_selector = alt.selection_multi(\n",
    "        fields=[control_field], \n",
    "        bind=input_dropdown\n",
    "    )\n",
    "    \n",
    "    # Build first chart\n",
    "    chart1 = base_bar_by_time_bin(\n",
    "        df[df.direction_id==0].reset_index(drop=True),\n",
    "        y_col = y_col,\n",
    "    ).add_params(category_selector).transform_filter(category_selector)\n",
    "    \n",
    "    # Build second chart\n",
    "    chart2 = base_bar_by_time_bin(\n",
    "        df[df.direction_id==1].reset_index(drop=True),\n",
    "        y_col = y_col,\n",
    "    ).transform_filter(category_selector)\n",
    "    \n",
    "    chart = alt.vconcat(chart1, chart2)\n",
    "   \n",
    "    return chart"
   ]
  },
  {
   "cell_type": "markdown",
   "id": "5517b46d-06c8-40dd-920c-719fc39f58f0",
   "metadata": {},
   "source": [
    "## April 2023"
   ]
  },
  {
   "cell_type": "code",
   "execution_count": null,
   "id": "cf970a63-dd66-4fd9-b74e-89d541b76e2b",
   "metadata": {},
   "outputs": [],
   "source": [
    "dual_bar_chart(\n",
    "    df[df.month==4].reset_index(drop=True), \n",
    "    \"route_id\", \n",
    "    y_col = \"p50_mph\"\n",
    ")"
   ]
  },
  {
   "cell_type": "markdown",
   "id": "22b28704-4493-49f2-b88d-447a98aa730e",
   "metadata": {},
   "source": [
    "## Oct 2023"
   ]
  },
  {
   "cell_type": "code",
   "execution_count": null,
   "id": "fc5c2d8e-c574-4689-a40b-229a27ca0587",
   "metadata": {},
   "outputs": [],
   "source": [
    "dual_bar_chart(\n",
    "    df[df.month==10].reset_index(drop=True), \n",
    "    \"route_id\", \n",
    "    y_col = \"p50_mph\"\n",
    ")"
   ]
  },
  {
   "cell_type": "code",
   "execution_count": null,
   "id": "25c11b6d-dc1c-4ab0-b98f-bc5d37d732e7",
   "metadata": {},
   "outputs": [],
   "source": []
  }
 ],
 "metadata": {
  "kernelspec": {
   "display_name": "Python 3 (ipykernel)",
   "language": "python",
   "name": "python3"
  },
  "language_info": {
   "codemirror_mode": {
    "name": "ipython",
    "version": 3
   },
   "file_extension": ".py",
   "mimetype": "text/x-python",
   "name": "python",
   "nbconvert_exporter": "python",
   "pygments_lexer": "ipython3",
   "version": "3.9.13"
  }
 },
 "nbformat": 4,
 "nbformat_minor": 5
}
