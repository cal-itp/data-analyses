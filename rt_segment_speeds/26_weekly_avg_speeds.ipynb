{
 "cells": [
  {
   "cell_type": "markdown",
   "id": "86a615d1-c336-4acf-a957-0ce69f4f9136",
   "metadata": {},
   "source": [
    "# Weekly speed averages"
   ]
  },
  {
   "cell_type": "code",
   "execution_count": null,
   "id": "a7daafbe-3e88-4eb4-b9cb-128b1526431c",
   "metadata": {},
   "outputs": [],
   "source": [
    "import altair as alt\n",
    "import pandas as pd\n",
    "\n",
    "from calitp_data_analysis import calitp_color_palette as cp\n",
    "from calitp_data_analysis import styleguide\n",
    "from segment_speed_utils.project_vars import SEGMENT_GCS"
   ]
  },
  {
   "cell_type": "code",
   "execution_count": null,
   "id": "5ca61315-61fc-4207-a97c-97f4cf60b804",
   "metadata": {},
   "outputs": [],
   "source": [
    "df = pd.read_parquet(\n",
    "    f\"{SEGMENT_GCS}rollup/speeds_by_peak_daytype_apr2023.parquet\"\n",
    ")"
   ]
  },
  {
   "cell_type": "code",
   "execution_count": null,
   "id": "db71c88d-051e-4676-b3c2-3e040280f86e",
   "metadata": {},
   "outputs": [],
   "source": [
    "test = df[(df.schedule_gtfs_dataset_key==\"015d67d5b75b5cf2b710bbadadfb75f5\") & \n",
    "  (df.shape_id==\"102\") \n",
    "  #(df.stop_sequence==20)\n",
    "         ].reset_index(drop=True)"
   ]
  },
  {
   "cell_type": "code",
   "execution_count": null,
   "id": "e4a54200-085d-439e-929a-93c119a96969",
   "metadata": {},
   "outputs": [],
   "source": [
    "test = test.assign(\n",
    "    category = test.apply(\n",
    "        lambda x: x.weekday_weekend + \" \" + x.peak_offpeak, axis=1)\n",
    ")"
   ]
  },
  {
   "cell_type": "code",
   "execution_count": null,
   "id": "a4ceb498-1c1c-42ef-bf8f-653fce724d04",
   "metadata": {},
   "outputs": [],
   "source": [
    "chart = (alt.Chart(test)\n",
    "         .mark_bar()\n",
    "         .encode(\n",
    "             x=alt.X(\"category:O\"),\n",
    "             y=alt.Y(\"p50_mph:Q\"),\n",
    "             column=alt.Column(\"stop_sequence:O\"),\n",
    "             color=alt.Color(\"category:N\")\n",
    "         )\n",
    "        )\n",
    "\n",
    "chart"
   ]
  },
  {
   "cell_type": "code",
   "execution_count": null,
   "id": "1e9a42cb-4649-44a7-af61-b95cdaf24667",
   "metadata": {},
   "outputs": [],
   "source": [
    "(alt.Chart(test)\n",
    "         .mark_line()\n",
    "         .encode(\n",
    "             x=alt.X(\"stop_sequence:O\"),\n",
    "             y=alt.Y(\"p50_mph:Q\"),\n",
    "             color=alt.Color(\"category:N\")\n",
    "         )\n",
    "        )"
   ]
  },
  {
   "cell_type": "code",
   "execution_count": null,
   "id": "fa91fbbf-5cc0-4796-a16f-b5733b3f9133",
   "metadata": {},
   "outputs": [],
   "source": [
    "df[df.p20_mph > 3].groupby([\"schedule_gtfs_dataset_key\", \"shape_id\", \n",
    "            \"stop_sequence\", \"stop_id\"]\n",
    "          ).agg({\"peak_offpeak\": \"count\"}\n",
    ").reset_index().query('peak_offpeak == 4')"
   ]
  },
  {
   "cell_type": "code",
   "execution_count": null,
   "id": "725e48f1-d13f-4adf-99f7-0868c513e3ec",
   "metadata": {},
   "outputs": [],
   "source": [
    "df[(df.schedule_gtfs_dataset_key==\"015d67d5b75b5cf2b710bbadadfb75f5\") & \n",
    "  (df.shape_id==\"102\") & \n",
    "  (df.stop_sequence==20)]"
   ]
  },
  {
   "cell_type": "markdown",
   "id": "ad378e77-cae1-4f32-b35d-f2dd9484cb14",
   "metadata": {},
   "source": [
    "## Further route-direction aggregation\n",
    "\n",
    "Since we're not sure if `stop_sequence-stop_id` line up across shapes...we should add a column that tracks `prior_stop_id-stop_id` and use that to aggregate. The segments that do line up (between the same stops) would get aggregated, the ones that don't line up nicely would remain (with much smaller `n_trips`)."
   ]
  },
  {
   "cell_type": "code",
   "execution_count": null,
   "id": "fc5c2d8e-c574-4689-a40b-229a27ca0587",
   "metadata": {},
   "outputs": [],
   "source": []
  }
 ],
 "metadata": {
  "kernelspec": {
   "display_name": "Python 3 (ipykernel)",
   "language": "python",
   "name": "python3"
  },
  "language_info": {
   "codemirror_mode": {
    "name": "ipython",
    "version": 3
   },
   "file_extension": ".py",
   "mimetype": "text/x-python",
   "name": "python",
   "nbconvert_exporter": "python",
   "pygments_lexer": "ipython3",
   "version": "3.9.13"
  }
 },
 "nbformat": 4,
 "nbformat_minor": 5
}
