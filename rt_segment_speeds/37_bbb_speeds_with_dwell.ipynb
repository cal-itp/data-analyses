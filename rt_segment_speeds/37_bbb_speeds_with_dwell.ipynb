{
 "cells": [
  {
   "cell_type": "markdown",
   "id": "fe5aafc6-e153-4727-a26c-cfbf6ea892c4",
   "metadata": {},
   "source": [
    "# Big Blue Bus speeds using `vp_usable_with_dwell`\n",
    "\n",
    "## Alignments\n",
    "* Align nearest neighbor and interpolation steps\n",
    "* Dwell times are factored in\n",
    "* Interpolation of stop arrival looks at the previous `moving_timestamp_local` which is after the bus gets moving again, and this stop's `location_timestamp_local`, which is the beginning of the bus's dwelling at a stop.\n",
    "\n",
    "## Speed\n",
    "* Retain how speed is calculated - even remove filters (in averaging, speeds over 80 mph are filtered out) to show full distribution\n",
    "* In the full distribution, we'll keep extra high speeds in, and decide on where are high/low filters should be"
   ]
  },
  {
   "cell_type": "code",
   "execution_count": 1,
   "id": "667c4b7f-f402-4a03-9ea6-77bfbdf84ca1",
   "metadata": {},
   "outputs": [],
   "source": [
    "import folium\n",
    "import geopandas as gpd\n",
    "import pandas as pd\n",
    "\n",
    "from segment_speed_utils.project_vars import SEGMENT_GCS\n",
    "from shared_utils import rt_dates, rt_utils\n",
    "\n",
    "analysis_date = rt_dates.DATES[\"apr2024\"]"
   ]
  },
  {
   "cell_type": "code",
   "execution_count": 2,
   "id": "197232ec-c256-4aee-92d4-97815558e1d2",
   "metadata": {},
   "outputs": [],
   "source": [
    "speeds = pd.read_parquet(\n",
    "    f\"{SEGMENT_GCS}bbb_speeds_by_trip_{analysis_date}.parquet\"\n",
    ")\n",
    "   \n",
    "segment_speeds = gpd.read_parquet(\n",
    "    f\"{SEGMENT_GCS}bbb_segment_speeds_gdf_{analysis_date}.parquet\"\n",
    ")"
   ]
  },
  {
   "cell_type": "code",
   "execution_count": 3,
   "id": "40514b39-dcd7-4fd9-8b37-6ef7bd9242d8",
   "metadata": {},
   "outputs": [
    {
     "data": {
      "text/plain": [
       "count    32161.000000\n",
       "mean        14.200993\n",
       "std          8.277521\n",
       "min          0.033953\n",
       "25%          8.890265\n",
       "50%         12.699928\n",
       "75%         17.480291\n",
       "max         79.641062\n",
       "Name: speed_mph, dtype: float64"
      ]
     },
     "execution_count": 3,
     "metadata": {},
     "output_type": "execute_result"
    }
   ],
   "source": [
    "speeds[speeds.speed_mph <= 80].speed_mph.describe()"
   ]
  },
  {
   "cell_type": "code",
   "execution_count": 4,
   "id": "2f446c73-2623-4c40-ba2d-db20ea9a6068",
   "metadata": {},
   "outputs": [
    {
     "data": {
      "text/plain": [
       "<AxesSubplot:>"
      ]
     },
     "execution_count": 4,
     "metadata": {},
     "output_type": "execute_result"
    },
    {
     "data": {
      "image/png": "[encoded data removed]",
      "text/plain": [
       "<Figure size 640x480 with 1 Axes>"
      ]
     },
     "metadata": {},
     "output_type": "display_data"
    }
   ],
   "source": [
    "speeds.speed_mph.hist(bins=range(0, 80, 1))"
   ]
  },
  {
   "cell_type": "code",
   "execution_count": 5,
   "id": "ef42d97c-3fa4-4251-b448-c69dc97e9918",
   "metadata": {},
   "outputs": [
    {
     "data": {
      "text/plain": [
       "count    67701.000000\n",
       "mean         6.209578\n",
       "std          3.949743\n",
       "min          0.050000\n",
       "25%          3.700000\n",
       "50%          5.610000\n",
       "75%          7.790000\n",
       "max         65.790000\n",
       "Name: p20_mph, dtype: float64"
      ]
     },
     "execution_count": 5,
     "metadata": {},
     "output_type": "execute_result"
    }
   ],
   "source": [
    "segment_speeds.p20_mph.describe()"
   ]
  },
  {
   "cell_type": "code",
   "execution_count": 6,
   "id": "709faeac-5687-4951-af33-d3af4a1e0e08",
   "metadata": {},
   "outputs": [
    {
     "data": {
      "text/plain": [
       "count    67701.000000\n",
       "mean         6.294138\n",
       "std          3.925301\n",
       "min          0.070000\n",
       "25%          3.760000\n",
       "50%          5.690000\n",
       "75%          7.850000\n",
       "max         65.790000\n",
       "Name: p50_mph, dtype: float64"
      ]
     },
     "execution_count": 6,
     "metadata": {},
     "output_type": "execute_result"
    }
   ],
   "source": [
    "segment_speeds.p50_mph.describe()"
   ]
  },
  {
   "cell_type": "code",
   "execution_count": 7,
   "id": "afb4134a-92c9-402e-b26d-192dd7a7e72a",
   "metadata": {},
   "outputs": [
    {
     "data": {
      "text/plain": [
       "count    67701.000000\n",
       "mean         6.378770\n",
       "std          3.903607\n",
       "min          0.090000\n",
       "25%          3.910000\n",
       "50%          5.760000\n",
       "75%          7.900000\n",
       "max         65.790000\n",
       "Name: p80_mph, dtype: float64"
      ]
     },
     "execution_count": 7,
     "metadata": {},
     "output_type": "execute_result"
    }
   ],
   "source": [
    "segment_speeds.p80_mph.describe()"
   ]
  },
  {
   "cell_type": "code",
   "execution_count": 8,
   "id": "38ff2c1b-9014-4242-b597-faa22997d30f",
   "metadata": {},
   "outputs": [],
   "source": [
    "def filter_specific_stops(\n",
    "    speeds, \n",
    "    stop_pair: str\n",
    "):\n",
    "    \"\"\"\n",
    "    Pull out a specific stop (using stop_pair)\n",
    "    and show the distribution of speeds.\n",
    "    First table shows time-of-day distribution (AM Peak)\n",
    "    and second table shows how certain time-of-day aggregations\n",
    "    get rolled into peak vs offpeak.\n",
    "    \"\"\"\n",
    "    \n",
    "    speeds_subset = speeds[\n",
    "        speeds.stop_pair == stop_pair].sort_values(\"speed_mph\")\n",
    "    \n",
    "    list_of_speeds = speeds_subset.groupby(\n",
    "        [\"time_of_day\", \"peak_offpeak\", \n",
    "         \"stop_pair\",\n",
    "         \"stop_sequence\", \"stop_sequence1\"]).agg(\n",
    "        {\"speed_mph\": lambda x: list(round(x, 2))}\n",
    "    ).reset_index()\n",
    "\n",
    "\n",
    "    list_of_speeds2 = speeds_subset.groupby(\n",
    "        [\"peak_offpeak\", \n",
    "         \"stop_pair\",\n",
    "         \"stop_sequence\", \"stop_sequence1\"]).agg(\n",
    "        {\"speed_mph\": lambda x: list(round(x, 2))}\n",
    "    ).reset_index()\n",
    "\n",
    "    with pd.option_context(\n",
    "        'display.max_rows', None, \n",
    "        'display.max_columns', None,\n",
    "        # bump the last column so we can print out all the values in the\n",
    "        # distribution of speeds\n",
    "        'display.max_colwidth', None\n",
    "    ):  # more options can be specified also\n",
    "        display(list_of_speeds) \n",
    "        display(list_of_speeds2)\n"
   ]
  },
  {
   "cell_type": "code",
   "execution_count": 9,
   "id": "92df9bc8-c502-4a29-8dc3-e49282036142",
   "metadata": {},
   "outputs": [],
   "source": [
    "# Find some stops that show up as green on the 20th percentile \n",
    "# either AM Peak, Midday, or PM Peak\n",
    "find_me = {\n",
    "    \"Olympic & Veteran to Olympic and Westwood\": \"688__59\",\n",
    "    \"some_other_stop\": \"1530__1531\",\n",
    "    \"Barrington & La Grange to Barrington & Olympic (Sawtelle)\":\"1392__1393\"\n",
    "}"
   ]
  },
  {
   "cell_type": "code",
   "execution_count": 10,
   "id": "72c0d264-b116-440e-a3d1-232eb763ef50",
   "metadata": {},
   "outputs": [
    {
     "data": {
      "text/html": [
       "<div>\n",
       "<style scoped>\n",
       "    .dataframe tbody tr th:only-of-type {\n",
       "        vertical-align: middle;\n",
       "    }\n",
       "\n",
       "    .dataframe tbody tr th {\n",
       "        vertical-align: top;\n",
       "    }\n",
       "\n",
       "    .dataframe thead th {\n",
       "        text-align: right;\n",
       "    }\n",
       "</style>\n",
       "<table border=\"1\" class=\"dataframe\">\n",
       "  <thead>\n",
       "    <tr style=\"text-align: right;\">\n",
       "      <th></th>\n",
       "      <th>time_of_day</th>\n",
       "      <th>peak_offpeak</th>\n",
       "      <th>stop_pair</th>\n",
       "      <th>stop_sequence</th>\n",
       "      <th>stop_sequence1</th>\n",
       "      <th>speed_mph</th>\n",
       "    </tr>\n",
       "  </thead>\n",
       "  <tbody>\n",
       "    <tr>\n",
       "      <th>0</th>\n",
       "      <td>AM Peak</td>\n",
       "      <td>peak</td>\n",
       "      <td>688__59</td>\n",
       "      <td>26</td>\n",
       "      <td>26.0</td>\n",
       "      <td>[16.85, 25.57]</td>\n",
       "    </tr>\n",
       "    <tr>\n",
       "      <th>1</th>\n",
       "      <td>Midday</td>\n",
       "      <td>offpeak</td>\n",
       "      <td>688__59</td>\n",
       "      <td>26</td>\n",
       "      <td>26.0</td>\n",
       "      <td>[13.01, 13.99, 17.24, 24.71]</td>\n",
       "    </tr>\n",
       "    <tr>\n",
       "      <th>2</th>\n",
       "      <td>PM Peak</td>\n",
       "      <td>peak</td>\n",
       "      <td>688__59</td>\n",
       "      <td>26</td>\n",
       "      <td>26.0</td>\n",
       "      <td>[7.49, 10.3, 14.83, 26.48]</td>\n",
       "    </tr>\n",
       "  </tbody>\n",
       "</table>\n",
       "</div>"
      ],
      "text/plain": [
       "  time_of_day peak_offpeak stop_pair  stop_sequence  stop_sequence1  \\\n",
       "0     AM Peak         peak   688__59             26            26.0   \n",
       "1      Midday      offpeak   688__59             26            26.0   \n",
       "2     PM Peak         peak   688__59             26            26.0   \n",
       "\n",
       "                      speed_mph  \n",
       "0                [16.85, 25.57]  \n",
       "1  [13.01, 13.99, 17.24, 24.71]  \n",
       "2    [7.49, 10.3, 14.83, 26.48]  "
      ]
     },
     "metadata": {},
     "output_type": "display_data"
    },
    {
     "data": {
      "text/html": [
       "<div>\n",
       "<style scoped>\n",
       "    .dataframe tbody tr th:only-of-type {\n",
       "        vertical-align: middle;\n",
       "    }\n",
       "\n",
       "    .dataframe tbody tr th {\n",
       "        vertical-align: top;\n",
       "    }\n",
       "\n",
       "    .dataframe thead th {\n",
       "        text-align: right;\n",
       "    }\n",
       "</style>\n",
       "<table border=\"1\" class=\"dataframe\">\n",
       "  <thead>\n",
       "    <tr style=\"text-align: right;\">\n",
       "      <th></th>\n",
       "      <th>peak_offpeak</th>\n",
       "      <th>stop_pair</th>\n",
       "      <th>stop_sequence</th>\n",
       "      <th>stop_sequence1</th>\n",
       "      <th>speed_mph</th>\n",
       "    </tr>\n",
       "  </thead>\n",
       "  <tbody>\n",
       "    <tr>\n",
       "      <th>0</th>\n",
       "      <td>offpeak</td>\n",
       "      <td>688__59</td>\n",
       "      <td>26</td>\n",
       "      <td>26.0</td>\n",
       "      <td>[13.01, 13.99, 17.24, 24.71]</td>\n",
       "    </tr>\n",
       "    <tr>\n",
       "      <th>1</th>\n",
       "      <td>peak</td>\n",
       "      <td>688__59</td>\n",
       "      <td>26</td>\n",
       "      <td>26.0</td>\n",
       "      <td>[7.49, 10.3, 14.83, 16.85, 25.57, 26.48]</td>\n",
       "    </tr>\n",
       "  </tbody>\n",
       "</table>\n",
       "</div>"
      ],
      "text/plain": [
       "  peak_offpeak stop_pair  stop_sequence  stop_sequence1  \\\n",
       "0      offpeak   688__59             26            26.0   \n",
       "1         peak   688__59             26            26.0   \n",
       "\n",
       "                                  speed_mph  \n",
       "0              [13.01, 13.99, 17.24, 24.71]  \n",
       "1  [7.49, 10.3, 14.83, 16.85, 25.57, 26.48]  "
      ]
     },
     "metadata": {},
     "output_type": "display_data"
    }
   ],
   "source": [
    "filter_specific_stops(speeds, \"688__59\")"
   ]
  },
  {
   "cell_type": "code",
   "execution_count": 11,
   "id": "31bb3991-aa77-4729-b400-5cebf14bd884",
   "metadata": {},
   "outputs": [
    {
     "data": {
      "text/html": [
       "<div>\n",
       "<style scoped>\n",
       "    .dataframe tbody tr th:only-of-type {\n",
       "        vertical-align: middle;\n",
       "    }\n",
       "\n",
       "    .dataframe tbody tr th {\n",
       "        vertical-align: top;\n",
       "    }\n",
       "\n",
       "    .dataframe thead th {\n",
       "        text-align: right;\n",
       "    }\n",
       "</style>\n",
       "<table border=\"1\" class=\"dataframe\">\n",
       "  <thead>\n",
       "    <tr style=\"text-align: right;\">\n",
       "      <th></th>\n",
       "      <th>time_of_day</th>\n",
       "      <th>peak_offpeak</th>\n",
       "      <th>stop_pair</th>\n",
       "      <th>stop_sequence</th>\n",
       "      <th>stop_sequence1</th>\n",
       "      <th>speed_mph</th>\n",
       "    </tr>\n",
       "  </thead>\n",
       "  <tbody>\n",
       "    <tr>\n",
       "      <th>0</th>\n",
       "      <td>AM Peak</td>\n",
       "      <td>peak</td>\n",
       "      <td>1530__1531</td>\n",
       "      <td>20</td>\n",
       "      <td>20.0</td>\n",
       "      <td>[4.95, 8.37, 15.87, 17.72, 18.14, 22.41, 25.39]</td>\n",
       "    </tr>\n",
       "    <tr>\n",
       "      <th>1</th>\n",
       "      <td>Early AM</td>\n",
       "      <td>offpeak</td>\n",
       "      <td>1530__1531</td>\n",
       "      <td>20</td>\n",
       "      <td>20.0</td>\n",
       "      <td>[15.87, 18.58]</td>\n",
       "    </tr>\n",
       "    <tr>\n",
       "      <th>2</th>\n",
       "      <td>Evening</td>\n",
       "      <td>offpeak</td>\n",
       "      <td>1530__1531</td>\n",
       "      <td>20</td>\n",
       "      <td>20.0</td>\n",
       "      <td>[6.0, 18.58]</td>\n",
       "    </tr>\n",
       "    <tr>\n",
       "      <th>3</th>\n",
       "      <td>Midday</td>\n",
       "      <td>offpeak</td>\n",
       "      <td>1530__1531</td>\n",
       "      <td>20</td>\n",
       "      <td>20.0</td>\n",
       "      <td>[10.73, 11.54, 13.6, 13.6, 14.11, 14.65, 14.65, 15.55, 21.16, 24.57, 26.27, 29.3, 29.3, 58.6]</td>\n",
       "    </tr>\n",
       "    <tr>\n",
       "      <th>4</th>\n",
       "      <td>PM Peak</td>\n",
       "      <td>peak</td>\n",
       "      <td>1530__1531</td>\n",
       "      <td>20</td>\n",
       "      <td>20.0</td>\n",
       "      <td>[9.4, 9.64, 10.16, 10.29, 13.6, 13.85, 15.24, 15.87, 16.21, 16.93, 20.59, 21.77]</td>\n",
       "    </tr>\n",
       "  </tbody>\n",
       "</table>\n",
       "</div>"
      ],
      "text/plain": [
       "  time_of_day peak_offpeak   stop_pair  stop_sequence  stop_sequence1  \\\n",
       "0     AM Peak         peak  1530__1531             20            20.0   \n",
       "1    Early AM      offpeak  1530__1531             20            20.0   \n",
       "2     Evening      offpeak  1530__1531             20            20.0   \n",
       "3      Midday      offpeak  1530__1531             20            20.0   \n",
       "4     PM Peak         peak  1530__1531             20            20.0   \n",
       "\n",
       "                                                                                       speed_mph  \n",
       "0                                                [4.95, 8.37, 15.87, 17.72, 18.14, 22.41, 25.39]  \n",
       "1                                                                                 [15.87, 18.58]  \n",
       "2                                                                                   [6.0, 18.58]  \n",
       "3  [10.73, 11.54, 13.6, 13.6, 14.11, 14.65, 14.65, 15.55, 21.16, 24.57, 26.27, 29.3, 29.3, 58.6]  \n",
       "4               [9.4, 9.64, 10.16, 10.29, 13.6, 13.85, 15.24, 15.87, 16.21, 16.93, 20.59, 21.77]  "
      ]
     },
     "metadata": {},
     "output_type": "display_data"
    },
    {
     "data": {
      "text/html": [
       "<div>\n",
       "<style scoped>\n",
       "    .dataframe tbody tr th:only-of-type {\n",
       "        vertical-align: middle;\n",
       "    }\n",
       "\n",
       "    .dataframe tbody tr th {\n",
       "        vertical-align: top;\n",
       "    }\n",
       "\n",
       "    .dataframe thead th {\n",
       "        text-align: right;\n",
       "    }\n",
       "</style>\n",
       "<table border=\"1\" class=\"dataframe\">\n",
       "  <thead>\n",
       "    <tr style=\"text-align: right;\">\n",
       "      <th></th>\n",
       "      <th>peak_offpeak</th>\n",
       "      <th>stop_pair</th>\n",
       "      <th>stop_sequence</th>\n",
       "      <th>stop_sequence1</th>\n",
       "      <th>speed_mph</th>\n",
       "    </tr>\n",
       "  </thead>\n",
       "  <tbody>\n",
       "    <tr>\n",
       "      <th>0</th>\n",
       "      <td>offpeak</td>\n",
       "      <td>1530__1531</td>\n",
       "      <td>20</td>\n",
       "      <td>20.0</td>\n",
       "      <td>[6.0, 10.73, 11.54, 13.6, 13.6, 14.11, 14.65, 14.65, 15.55, 15.87, 18.58, 18.58, 21.16, 24.57, 26.27, 29.3, 29.3, 58.6]</td>\n",
       "    </tr>\n",
       "    <tr>\n",
       "      <th>1</th>\n",
       "      <td>peak</td>\n",
       "      <td>1530__1531</td>\n",
       "      <td>20</td>\n",
       "      <td>20.0</td>\n",
       "      <td>[4.95, 8.37, 9.4, 9.64, 10.16, 10.29, 13.6, 13.85, 15.24, 15.87, 15.87, 16.21, 16.93, 17.72, 18.14, 20.59, 21.77, 22.41, 25.39]</td>\n",
       "    </tr>\n",
       "  </tbody>\n",
       "</table>\n",
       "</div>"
      ],
      "text/plain": [
       "  peak_offpeak   stop_pair  stop_sequence  stop_sequence1  \\\n",
       "0      offpeak  1530__1531             20            20.0   \n",
       "1         peak  1530__1531             20            20.0   \n",
       "\n",
       "                                                                                                                         speed_mph  \n",
       "0          [6.0, 10.73, 11.54, 13.6, 13.6, 14.11, 14.65, 14.65, 15.55, 15.87, 18.58, 18.58, 21.16, 24.57, 26.27, 29.3, 29.3, 58.6]  \n",
       "1  [4.95, 8.37, 9.4, 9.64, 10.16, 10.29, 13.6, 13.85, 15.24, 15.87, 15.87, 16.21, 16.93, 17.72, 18.14, 20.59, 21.77, 22.41, 25.39]  "
      ]
     },
     "metadata": {},
     "output_type": "display_data"
    }
   ],
   "source": [
    "filter_specific_stops(speeds, \"1530__1531\")"
   ]
  },
  {
   "cell_type": "code",
   "execution_count": 12,
   "id": "8b1c2a8c-0db9-4be8-ada2-ecc8d423a26c",
   "metadata": {},
   "outputs": [
    {
     "data": {
      "text/html": [
       "<div>\n",
       "<style scoped>\n",
       "    .dataframe tbody tr th:only-of-type {\n",
       "        vertical-align: middle;\n",
       "    }\n",
       "\n",
       "    .dataframe tbody tr th {\n",
       "        vertical-align: top;\n",
       "    }\n",
       "\n",
       "    .dataframe thead th {\n",
       "        text-align: right;\n",
       "    }\n",
       "</style>\n",
       "<table border=\"1\" class=\"dataframe\">\n",
       "  <thead>\n",
       "    <tr style=\"text-align: right;\">\n",
       "      <th></th>\n",
       "      <th>time_of_day</th>\n",
       "      <th>peak_offpeak</th>\n",
       "      <th>stop_pair</th>\n",
       "      <th>stop_sequence</th>\n",
       "      <th>stop_sequence1</th>\n",
       "      <th>speed_mph</th>\n",
       "    </tr>\n",
       "  </thead>\n",
       "  <tbody>\n",
       "    <tr>\n",
       "      <th>0</th>\n",
       "      <td>AM Peak</td>\n",
       "      <td>peak</td>\n",
       "      <td>1392__1393</td>\n",
       "      <td>12</td>\n",
       "      <td>12.0</td>\n",
       "      <td>[2.69, 18.21, 29.68, inf]</td>\n",
       "    </tr>\n",
       "    <tr>\n",
       "      <th>1</th>\n",
       "      <td>Midday</td>\n",
       "      <td>offpeak</td>\n",
       "      <td>1392__1393</td>\n",
       "      <td>12</td>\n",
       "      <td>12.0</td>\n",
       "      <td>[6.21, 13.13, 15.41, 19.08, 19.54, 22.89]</td>\n",
       "    </tr>\n",
       "    <tr>\n",
       "      <th>2</th>\n",
       "      <td>PM Peak</td>\n",
       "      <td>peak</td>\n",
       "      <td>1392__1393</td>\n",
       "      <td>12</td>\n",
       "      <td>12.0</td>\n",
       "      <td>[2.88, 8.09, 12.52]</td>\n",
       "    </tr>\n",
       "  </tbody>\n",
       "</table>\n",
       "</div>"
      ],
      "text/plain": [
       "  time_of_day peak_offpeak   stop_pair  stop_sequence  stop_sequence1  \\\n",
       "0     AM Peak         peak  1392__1393             12            12.0   \n",
       "1      Midday      offpeak  1392__1393             12            12.0   \n",
       "2     PM Peak         peak  1392__1393             12            12.0   \n",
       "\n",
       "                                   speed_mph  \n",
       "0                  [2.69, 18.21, 29.68, inf]  \n",
       "1  [6.21, 13.13, 15.41, 19.08, 19.54, 22.89]  \n",
       "2                        [2.88, 8.09, 12.52]  "
      ]
     },
     "metadata": {},
     "output_type": "display_data"
    },
    {
     "data": {
      "text/html": [
       "<div>\n",
       "<style scoped>\n",
       "    .dataframe tbody tr th:only-of-type {\n",
       "        vertical-align: middle;\n",
       "    }\n",
       "\n",
       "    .dataframe tbody tr th {\n",
       "        vertical-align: top;\n",
       "    }\n",
       "\n",
       "    .dataframe thead th {\n",
       "        text-align: right;\n",
       "    }\n",
       "</style>\n",
       "<table border=\"1\" class=\"dataframe\">\n",
       "  <thead>\n",
       "    <tr style=\"text-align: right;\">\n",
       "      <th></th>\n",
       "      <th>peak_offpeak</th>\n",
       "      <th>stop_pair</th>\n",
       "      <th>stop_sequence</th>\n",
       "      <th>stop_sequence1</th>\n",
       "      <th>speed_mph</th>\n",
       "    </tr>\n",
       "  </thead>\n",
       "  <tbody>\n",
       "    <tr>\n",
       "      <th>0</th>\n",
       "      <td>offpeak</td>\n",
       "      <td>1392__1393</td>\n",
       "      <td>12</td>\n",
       "      <td>12.0</td>\n",
       "      <td>[6.21, 13.13, 15.41, 19.08, 19.54, 22.89]</td>\n",
       "    </tr>\n",
       "    <tr>\n",
       "      <th>1</th>\n",
       "      <td>peak</td>\n",
       "      <td>1392__1393</td>\n",
       "      <td>12</td>\n",
       "      <td>12.0</td>\n",
       "      <td>[2.69, 2.88, 8.09, 12.52, 18.21, 29.68, inf]</td>\n",
       "    </tr>\n",
       "  </tbody>\n",
       "</table>\n",
       "</div>"
      ],
      "text/plain": [
       "  peak_offpeak   stop_pair  stop_sequence  stop_sequence1  \\\n",
       "0      offpeak  1392__1393             12            12.0   \n",
       "1         peak  1392__1393             12            12.0   \n",
       "\n",
       "                                      speed_mph  \n",
       "0     [6.21, 13.13, 15.41, 19.08, 19.54, 22.89]  \n",
       "1  [2.69, 2.88, 8.09, 12.52, 18.21, 29.68, inf]  "
      ]
     },
     "metadata": {},
     "output_type": "display_data"
    }
   ],
   "source": [
    "filter_specific_stops(speeds, \"1392__1393\")"
   ]
  },
  {
   "cell_type": "code",
   "execution_count": null,
   "id": "b9ce865d-1003-462c-ba57-bda7e4b30190",
   "metadata": {},
   "outputs": [],
   "source": []
  }
 ],
 "metadata": {
  "kernelspec": {
   "display_name": "Python 3 (ipykernel)",
   "language": "python",
   "name": "python3"
  },
  "language_info": {
   "codemirror_mode": {
    "name": "ipython",
    "version": 3
   },
   "file_extension": ".py",
   "mimetype": "text/x-python",
   "name": "python",
   "nbconvert_exporter": "python",
   "pygments_lexer": "ipython3",
   "version": "3.9.13"
  }
 },
 "nbformat": 4,
 "nbformat_minor": 5
}
