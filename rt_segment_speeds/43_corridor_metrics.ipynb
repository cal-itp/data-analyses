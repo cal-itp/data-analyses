{
 "cells": [
  {
   "cell_type": "code",
   "execution_count": null,
   "id": "d528f399-cf33-459e-b5dc-92e0b4ae389a",
   "metadata": {},
   "outputs": [],
   "source": [
    "import pandas as pd\n",
    "import geopandas as gpd\n",
    "\n",
    "from shared_utils import rt_utils, catalog_utils\n",
    "\n",
    "from calitp_data_analysis import get_fs, geography_utils\n",
    "from segment_speed_utils import helpers, time_series_utils, gtfs_schedule_wrangling, corridor_analysis\n",
    "from segment_speed_utils.project_vars import SCHED_GCS, SEGMENT_GCS, GTFS_DATA_DICT, analysis_date"
   ]
  },
  {
   "cell_type": "markdown",
   "id": "4d47cbc7-52e7-4f13-80a4-46bba9b03cca",
   "metadata": {},
   "source": [
    "# develop and test some basic tools for corridor analysis"
   ]
  },
  {
   "cell_type": "code",
   "execution_count": null,
   "id": "6cd318e5-5c4e-4249-b158-232f4d940770",
   "metadata": {},
   "outputs": [],
   "source": [
    "catalog = catalog_utils.get_catalog('gtfs_analytics_data')"
   ]
  },
  {
   "cell_type": "code",
   "execution_count": null,
   "id": "6e86c1a8-d3de-4fc6-9478-c03133b6745c",
   "metadata": {},
   "outputs": [],
   "source": [
    "catalog.speedmap_segments"
   ]
  },
  {
   "cell_type": "code",
   "execution_count": null,
   "id": "f766b50a-c70d-4681-992c-d7f8979ada69",
   "metadata": {},
   "outputs": [],
   "source": [
    "analysis_date"
   ]
  },
  {
   "cell_type": "code",
   "execution_count": null,
   "id": "b4dd7af7-0cfa-4d94-a96d-f11e7cdc12f9",
   "metadata": {},
   "outputs": [],
   "source": [
    "# path = f'{catalog.speedmap_segments.dir}{catalog.speedmap_segments.stage4}_{analysis_date}.parquet'"
   ]
  },
  {
   "cell_type": "code",
   "execution_count": null,
   "id": "12b824f2-4326-4f5e-ae86-95a46703c948",
   "metadata": {},
   "outputs": [],
   "source": [
    "path = f'{catalog.speedmap_segments.dir}{catalog.speedmap_segments.shape_stop_single_segment_detail}_{analysis_date}.parquet'"
   ]
  },
  {
   "cell_type": "code",
   "execution_count": null,
   "id": "2743cbe7-b472-4ea2-af08-13d2003e93db",
   "metadata": {},
   "outputs": [],
   "source": [
    "path"
   ]
  },
  {
   "cell_type": "code",
   "execution_count": null,
   "id": "7669d09d-c49e-448c-b57a-299112614bd0",
   "metadata": {},
   "outputs": [],
   "source": [
    "detail = gpd.read_parquet(path).round(2)"
   ]
  },
  {
   "cell_type": "code",
   "execution_count": null,
   "id": "ddf376af-9781-4943-b0d7-5f5418e07735",
   "metadata": {},
   "outputs": [],
   "source": [
    "detail.head(3)"
   ]
  },
  {
   "cell_type": "markdown",
   "id": "fb80931f-f02c-4933-bb0c-8deb698cc89a",
   "metadata": {},
   "source": [
    "## need trip-level (pre-aggregation) gdf to properly calculate metrics"
   ]
  },
  {
   "cell_type": "code",
   "execution_count": null,
   "id": "34d55973-57d6-40c7-ab4b-b2edb71363a6",
   "metadata": {
    "tags": []
   },
   "outputs": [],
   "source": [
    "st4 = corridor_analysis.import_trip_speeds(analysis_date)"
   ]
  },
  {
   "cell_type": "markdown",
   "id": "a2057b2d-b1b9-4780-91e3-a2ba4c7ea48d",
   "metadata": {},
   "source": [
    "## corridor specification"
   ]
  },
  {
   "cell_type": "code",
   "execution_count": null,
   "id": "f894127b-313d-4931-8be0-03b5fd112478",
   "metadata": {
    "tags": []
   },
   "outputs": [],
   "source": [
    "# rt_utils.show_full_df(pd.read_parquet('../ca_transit_speed_maps/_rt_progress_2024-12-11.parquet').sort_values(['caltrans_district', 'organization_name']))"
   ]
  },
  {
   "cell_type": "markdown",
   "id": "a0cfadc6-776c-4402-abad-23899bedc09b",
   "metadata": {},
   "source": [
    "## define corridor"
   ]
  },
  {
   "cell_type": "code",
   "execution_count": null,
   "id": "ce9e7154-22cc-448d-bade-2bedd752d600",
   "metadata": {
    "tags": []
   },
   "outputs": [],
   "source": [
    "# shape_id = '4953'\n",
    "# start_seg_id = '18088-18089-1'\n",
    "# end_seg_id = '16800-16806-1'\n",
    "\n",
    "sf = 'rechaapWbeffO33OX'\n",
    "shape_id = '800'\n",
    "start_seg_id = '14970-17900-2'\n",
    "end_seg_id = '16357-16358-1'\n",
    "\n",
    "# hum = 'recynxkqEoo9dJEvw'\n",
    "# shape_id = 'p_1435936'\n",
    "# start_seg_id = '1252-4209812-1'\n",
    "# end_seg_id = '1276-1277-1'"
   ]
  },
  {
   "cell_type": "code",
   "execution_count": null,
   "id": "456ba49d-2f78-4371-b942-f195099108ce",
   "metadata": {
    "tags": []
   },
   "outputs": [],
   "source": [
    "gdf = corridor_analysis.corridor_from_segments(speed_segments_gdf=detail, organization_source_record_id=sf, shape_id=shape_id,\n",
    "                      start_seg_id=start_seg_id, end_seg_id=end_seg_id)"
   ]
  },
  {
   "cell_type": "markdown",
   "id": "d66850e3-583b-4fca-bc4d-8ed30dddaf44",
   "metadata": {},
   "source": [
    "## Corridor Measurements\n",
    "\n",
    "Previous logic:\n",
    "\n",
    "For each trip, get from the last stop before entering corridor to the first stop after exiting corridor. This was done on stop_sequence\n",
    "\n",
    "Now,\n",
    "\n",
    "* first sjoin with aggregated data (has geom). Sjoining on segments is equivalent to previous methodology, since it will yield the last stop before entry to the first stop after exiting...\n",
    "* avoid doing scheduled delay metric for now...\n",
    "* "
   ]
  },
  {
   "cell_type": "code",
   "execution_count": null,
   "id": "8d31925e-1ad6-409a-89ac-edd9fcd53959",
   "metadata": {
    "tags": []
   },
   "outputs": [],
   "source": [
    "def find_corridor_data(\n",
    "    speed_segments_gdf: gpd.GeoDataFrame,\n",
    "    corridor_gdf: gpd.GeoDataFrame,\n",
    "    trip_speeds_df: pd.DataFrame\n",
    ") -> gpd.GeoDataFrame:\n",
    "    '''\n",
    "    With a buffered corridor defined, use the aggregated speed segments data to find relevant segments,\n",
    "    then merge with trip-level speeds.\n",
    "    '''\n",
    "    speed_segments_gdf = speed_segments_gdf.to_crs(geography_utils.CA_NAD83Albers_m)\n",
    "    corridor_segments = speed_segments_gdf.clip(corridor_gdf)\n",
    "    attach_geom = corridor_segments[['shape_array_key', 'segment_id', 'trips_hr_sch',\n",
    "                                     'geometry']].drop_duplicates()\n",
    "    trip_speeds_df = attach_geom.merge(trip_speeds_df, on=['shape_array_key', 'segment_id']).assign(\n",
    "                        corridor_id = corridor_gdf.corridor_id.iloc[0])\n",
    "    \n",
    "    trip_speeds_df['shape_length'] = trip_speeds_df.geometry.apply(lambda x: x.length)\n",
    "    shape_lengths = (trip_speeds_df.drop_duplicates(\n",
    "        subset=['schedule_gtfs_dataset_key', 'segment_id']).groupby(\n",
    "        ['shape_id', 'schedule_gtfs_dataset_key'])[['shape_length']].sum(\n",
    "        ).reset_index()\n",
    "                    )\n",
    "    return trip_speeds_df\n",
    "    trip_speeds_df = trip_speeds_df.drop(columns=['shape_length']).merge(shape_lengths, on=['shape_id', 'schedule_gtfs_dataset_key'])\n",
    "    half_corr = corridor_gdf.corridor_distance_meters.iloc[0] / 2\n",
    "    corridor_relevance_threshold = min(half_corr, corridor_analysis.CORRIDOR_RELEVANCE)\n",
    "    trip_speeds_df = trip_speeds_df.query('shape_length >= @corridor_relevance_threshold')\n",
    "    \n",
    "    return trip_speeds_df"
   ]
  },
  {
   "cell_type": "code",
   "execution_count": null,
   "id": "85077ea9-6813-49b4-b391-de99100ca32e",
   "metadata": {
    "tags": []
   },
   "outputs": [],
   "source": [
    "corridor_trips = find_corridor_data(detail, gdf, st4)"
   ]
  },
  {
   "cell_type": "code",
   "execution_count": null,
   "id": "4082b626-4057-4cfc-a641-6041529b5080",
   "metadata": {
    "tags": []
   },
   "outputs": [],
   "source": [
    "# corridor_trips = corridor_analysis.find_corridor_data(detail, gdf, st4)\n",
    "# corridor_results = corridor_analysis.analyze_corridor_trips(corridor_trips)"
   ]
  },
  {
   "cell_type": "code",
   "execution_count": null,
   "id": "d86c0d9c-275a-4478-aadb-69e52033a2cf",
   "metadata": {
    "tags": []
   },
   "outputs": [],
   "source": [
    "corridor_trips"
   ]
  },
  {
   "cell_type": "code",
   "execution_count": null,
   "id": "f712b83e-0a25-477a-b271-1bcabae4da43",
   "metadata": {
    "tags": []
   },
   "outputs": [],
   "source": [
    "corridor_trips['shape_length'] = corridor_trips.geometry.apply(lambda x: x.length)\n",
    "shape_lengths = corridor_trips.drop_duplicates(subset=['schedule_gtfs_dataset_key', 'segment_id', 'shape_id']).groupby(['shape_id', 'schedule_gtfs_dataset_key', 'route_id'])[['shape_length']].sum().reset_index()"
   ]
  },
  {
   "cell_type": "code",
   "execution_count": null,
   "id": "aa6fb397-ea3e-493b-a5c5-b3b65a796c7a",
   "metadata": {
    "tags": []
   },
   "outputs": [],
   "source": [
    "corridor_trips['shape_length'] = corridor_trips.geometry.apply(lambda x: x.length)\n",
    "shape_lengths = corridor_trips.drop_duplicates(subset=['schedule_gtfs_dataset_key', 'segment_id']).groupby(['shape_id', 'schedule_gtfs_dataset_key'])[['shape_length']].sum().reset_index()\n",
    "\n",
    "corridor_trips = corridor_trips.drop(columns=['shape_length']).merge(shape_lengths, on=['shape_id', 'schedule_gtfs_dataset_key'])"
   ]
  },
  {
   "cell_type": "code",
   "execution_count": null,
   "id": "d73f30bc-4328-45f2-924c-4fb89734b39c",
   "metadata": {},
   "outputs": [],
   "source": [
    "corr"
   ]
  },
  {
   "cell_type": "code",
   "execution_count": null,
   "id": "25ab5ef1-4c9e-4af1-ae8c-3bd7d429c903",
   "metadata": {
    "tags": []
   },
   "outputs": [],
   "source": [
    "m = gdf.explore(color='gray')"
   ]
  },
  {
   "cell_type": "code",
   "execution_count": null,
   "id": "78e7c9e2-438b-4ea8-bfe5-ce4268699000",
   "metadata": {
    "tags": []
   },
   "outputs": [],
   "source": [
    "corridor_trips[['route_short_name', 'shape_length', 'geometry']].explore(m=m, column='shape_length')"
   ]
  },
  {
   "cell_type": "code",
   "execution_count": null,
   "id": "f145f03e-df25-4858-8350-89cd87ec63d5",
   "metadata": {
    "tags": []
   },
   "outputs": [],
   "source": [
    "corridor_trips.plot.scatter(x='route_short_name', y='shape_length')"
   ]
  },
  {
   "cell_type": "code",
   "execution_count": null,
   "id": "e4c97443-88ab-467b-a2ce-ef73eabe5efc",
   "metadata": {
    "tags": []
   },
   "outputs": [],
   "source": [
    "# corridor_results.head(3)"
   ]
  },
  {
   "cell_type": "code",
   "execution_count": null,
   "id": "8ff789bb-065e-4d7f-a350-9f64d07b66f8",
   "metadata": {
    "tags": []
   },
   "outputs": [],
   "source": [
    "# routes = ['8AX', '8BX', '8']\n",
    "# rt8 = corridor_results.query('route_short_name in @routes')\n",
    "# df = corridor_analysis.analyze_corridor_improvements(rt8, trip_seconds_saved=30)\n",
    "\n",
    "df = corridor_analysis.analyze_corridor_improvements(corridor_results, trip_seconds_saved=30)"
   ]
  },
  {
   "cell_type": "code",
   "execution_count": null,
   "id": "6fd6c78f-16c2-4291-84d8-06a94e47a1b5",
   "metadata": {
    "tags": []
   },
   "outputs": [],
   "source": [
    "df.head(3)"
   ]
  },
  {
   "cell_type": "code",
   "execution_count": null,
   "id": "6226b0b5-c3f9-4571-8b72-6916e5045d15",
   "metadata": {
    "tags": []
   },
   "outputs": [],
   "source": [
    "frequencies = detail[['route_id', 'schedule_gtfs_dataset_key', 'trips_hr_sch']].drop_duplicates()\n",
    "frequencies = frequencies.groupby(['route_id', 'schedule_gtfs_dataset_key']).max().reset_index().sort_values('trips_hr_sch', ascending=False)"
   ]
  },
  {
   "cell_type": "code",
   "execution_count": null,
   "id": "86e223b3-3430-4993-bdfc-9fe2087f7de4",
   "metadata": {
    "tags": []
   },
   "outputs": [],
   "source": [
    "SUMMARY_GROUP_COLS = ['route_short_name', 'route_id', 'time_of_day',\n",
    "                     'corridor_id']\n",
    "\n",
    "def summarize_corridor_improvements(df: pd.DataFrame, group_cols = SUMMARY_GROUP_COLS):\n",
    "    '''\n",
    "    \n",
    "    '''\n",
    "    sum_cols = ['corridor_seconds', 'improved_corridor_seconds', 'delay_seconds',\n",
    "                   'delay_minutes']\n",
    "    array_cols = ['route_short_name', 'route_id']\n",
    "    df = df.assign(delay_seconds = df.corridor_seconds - df.improved_corridor_seconds)\n",
    "                  # corridor_miles = df.corridor_meters / rt_utils.METERS_PER_MILE)\n",
    "    df = df.assign(delay_minutes = df.delay_seconds / 60)\n",
    "    df = df.merge(frequencies, on=['route_id', 'schedule_gtfs_dataset_key'])\n",
    "    group = df.groupby(group_cols)[sum_cols + array_cols + ['schedule_gtfs_dataset_key']]\n",
    "    df = group.agg({**{x:'sum' for x in sum_cols},\n",
    "                    **{x:'unique' for x in array_cols},\n",
    "                    'schedule_gtfs_dataset_key': 'min'})\n",
    "    freq = df.explode(['route_short_name', 'route_id']).merge(frequencies, on=['route_id', 'schedule_gtfs_dataset_key'])\n",
    "    df = df.assign(trips_hr_sch = [freq.trips_hr_sch.to_list()], total_trips_hr = freq.trips_hr_sch.sum())\n",
    "    \n",
    "    return df.round(1)"
   ]
  },
  {
   "cell_type": "code",
   "execution_count": null,
   "id": "f9246650-362f-4f9c-ba3e-e689a2becddb",
   "metadata": {
    "tags": []
   },
   "outputs": [],
   "source": [
    "test = summarize_corridor_improvements(df, group_cols=['corridor_id'])"
   ]
  },
  {
   "cell_type": "code",
   "execution_count": null,
   "id": "f84c77de-e15f-4ba5-a5ba-58b0088d2a4e",
   "metadata": {
    "tags": []
   },
   "outputs": [],
   "source": [
    "test"
   ]
  },
  {
   "cell_type": "code",
   "execution_count": null,
   "id": "ed93e7fa-8139-4aa4-a3be-ddced7b6ea27",
   "metadata": {
    "tags": []
   },
   "outputs": [],
   "source": [
    "corr = pd.read_excel('./_temp/corr_hs.xlsx', sheet_name='Corridors')"
   ]
  },
  {
   "cell_type": "code",
   "execution_count": null,
   "id": "25cd184d-3971-4952-8cda-90731b40a010",
   "metadata": {
    "tags": []
   },
   "outputs": [],
   "source": [
    "hs = pd.read_excel('./_temp/corr_hs.xlsx', sheet_name='Hotspots')"
   ]
  },
  {
   "cell_type": "code",
   "execution_count": null,
   "id": "bda3bb4c-e498-4362-8360-63bdd776b34b",
   "metadata": {
    "tags": []
   },
   "outputs": [],
   "source": [
    "corr = corr.astype({'start_segment_id': str, 'end_segment_id': str, 'shape_id':str})\n",
    "hs = hs.astype({'start_segment_id': str, 'end_segment_id': str, 'shape_id':str})"
   ]
  },
  {
   "cell_type": "code",
   "execution_count": null,
   "id": "77316eb2-5399-4cf6-968c-b26c27f06b25",
   "metadata": {
    "tags": []
   },
   "outputs": [],
   "source": [
    "row = corr.iloc[0,:]"
   ]
  },
  {
   "cell_type": "code",
   "execution_count": null,
   "id": "1d3175f8-e9d3-4480-9903-363b54580cb5",
   "metadata": {
    "tags": []
   },
   "outputs": [],
   "source": [
    "row"
   ]
  },
  {
   "cell_type": "code",
   "execution_count": null,
   "id": "2e589cf0-d0c2-4fe8-b45b-cd5075dc5bd6",
   "metadata": {
    "tags": []
   },
   "outputs": [],
   "source": [
    "gdf = corridor_analysis.corridor_from_segments(speed_segments_gdf=detail, organization_source_record_id=row.organization_source_record_id, shape_id=row.shape_id,\n",
    "                      start_seg_id=row.start_segment_id, end_seg_id=row.end_segment_id)"
   ]
  },
  {
   "cell_type": "code",
   "execution_count": null,
   "id": "fddab223-ef1f-4733-aa68-fd95bac6719b",
   "metadata": {
    "tags": []
   },
   "outputs": [],
   "source": [
    "def corridor_from_row(df, intervention_dict):\n",
    "    all_corridors = []\n",
    "    for _, row in df.iterrows():\n",
    "        try:\n",
    "            print(row[\"SHS Segment\"])\n",
    "            corr = corridor_analysis.corridor_from_segments(speed_segments_gdf=detail, organization_source_record_id=row.organization_source_record_id, shape_id=row.shape_id,\n",
    "                          start_seg_id=row.start_segment_id, end_seg_id=row.end_segment_id, name=row['SHS Segment'])\n",
    "            corridor_trips = corridor_analysis.find_corridor_data(detail, corr, st4)\n",
    "            corridor_results = corridor_analysis.analyze_corridor_trips(corridor_trips)\n",
    "            df = corridor_analysis.analyze_corridor_improvements(corridor_results, **intervention_dict)\n",
    "            summ = summarize_corridor_improvements(df, group_cols=['corridor_id']).reset_index(drop=True)\n",
    "            corr = pd.concat([corr, summ], axis=1)\n",
    "            corr = corr.assign(corridor_miles = corr.corridor_distance_meters / rt_utils.METERS_PER_MILE) #  from corridor def, not trip distance\n",
    "            corr = corr.assign(minutes_per_mile = corr.delay_minutes / corr.corridor_miles)\n",
    "            all_corridors += [corr]\n",
    "        except Exception as e:\n",
    "            print(f'failed for{row[\"SHS Segment\"]}')\n",
    "            print(e)\n",
    "            pass\n",
    "    return pd.concat(all_corridors)"
   ]
  },
  {
   "cell_type": "code",
   "execution_count": null,
   "id": "6f1f99f1-2431-44bd-b0fc-0db50e451141",
   "metadata": {
    "tags": []
   },
   "outputs": [],
   "source": [
    "corr.loc[15]"
   ]
  },
  {
   "cell_type": "code",
   "execution_count": null,
   "id": "491f3623-c5c5-415e-bdf4-b7d90101b873",
   "metadata": {
    "tags": []
   },
   "outputs": [],
   "source": [
    "corr_gdf = corridor_from_row(corr, intervention_dict={'trip_mph_target': 16})\n",
    "# corr.iloc[:3,:].apply(corridor_from_row, axis=1)"
   ]
  },
  {
   "cell_type": "code",
   "execution_count": null,
   "id": "e3b9f4be-0c46-42ce-aa76-af67f7ada857",
   "metadata": {
    "tags": []
   },
   "outputs": [],
   "source": [
    "corr_gdf"
   ]
  },
  {
   "cell_type": "code",
   "execution_count": null,
   "id": "9fe6ae61-e72f-4454-83d5-09ced63383c8",
   "metadata": {
    "tags": []
   },
   "outputs": [],
   "source": [
    "corr_gdf = pd.concat(all_corridors)[['corridor_name', 'name', 'corridor_miles', 'delay_minutes',\n",
    "        'minutes_per_mile', 'geometry']]"
   ]
  },
  {
   "cell_type": "code",
   "execution_count": null,
   "id": "25ed74c0-57ac-4721-bec0-16018207f9c4",
   "metadata": {
    "tags": []
   },
   "outputs": [],
   "source": [
    "corr_gdf.explore(column='minutes_per_mile')"
   ]
  },
  {
   "cell_type": "code",
   "execution_count": null,
   "id": "86a47c87-8c94-4acd-95f2-456f29802423",
   "metadata": {
    "tags": []
   },
   "outputs": [],
   "source": [
    "all_corridors = []\n",
    "hs.apply(corridor_from_row, axis=1, intervention_dict={'trip_mph_target': 16})"
   ]
  },
  {
   "cell_type": "code",
   "execution_count": null,
   "id": "53d23fd1-0374-4cca-83d7-f71e7a42a23a",
   "metadata": {
    "tags": []
   },
   "outputs": [],
   "source": [
    "hs_gdf = pd.concat(all_corridors)[['corridor_name', 'name', 'corridor_miles', 'delay_minutes',\n",
    "        'minutes_per_mile', 'geometry']]"
   ]
  },
  {
   "cell_type": "code",
   "execution_count": null,
   "id": "4d32fd4e-5ebd-4a96-90ab-4bc6f0fc01ba",
   "metadata": {
    "tags": []
   },
   "outputs": [],
   "source": [
    "hs_gdf.explore(column='delay_minutes')"
   ]
  },
  {
   "cell_type": "code",
   "execution_count": null,
   "id": "70436156-eace-479d-9e06-d88ab2c3b3f9",
   "metadata": {
    "tags": []
   },
   "outputs": [],
   "source": [
    "corr_gdf.sort_values('minutes_per_mile', ascending=False)"
   ]
  },
  {
   "cell_type": "code",
   "execution_count": null,
   "id": "8c2a90c6-ae61-4f4c-9d28-00fd79bb7d94",
   "metadata": {
    "tags": []
   },
   "outputs": [],
   "source": [
    "hs_gdf.sort_values('delay_minutes', ascending=False)"
   ]
  },
  {
   "cell_type": "markdown",
   "id": "fb9a8f59-90e8-4b56-a8e9-edecd8896c6d",
   "metadata": {},
   "source": [
    "## Discussion\n",
    "\n",
    "* Which other metrics?\n",
    "\n",
    "after screening:\n",
    "\n",
    "ridership/person-hours of delay\n",
    "accessibility, equity\n",
    "\n",
    "* Is our list complete?\n",
    "\n",
    "Include Tempo, Van Ness, can we compare?\n",
    "\n",
    "* Exclude routes where necessary (current corridor join is just spatial...)\n",
    "\n",
    "* Add location-specific interventions, and [guidance](https://caltrans.sharepoint.com/:w:/s/DOTPMPHQ-DataandDigitalServices/EdG0YNQcQMBJmKncAuNva9wBjpxVq2sD8p3C5azumXFNRA?e=TO7CbB)\n",
    "\n",
    "* How much should we focus on freeways?\n",
    "\n",
    "Yes, include (Bay Bridge, others, SDMTS freeway service, launch service with new HOT...)\n",
    "\n",
    "District transit plans, express/rapid on freeways...?"
   ]
  },
  {
   "cell_type": "code",
   "execution_count": null,
   "id": "d2e72d64-d352-4163-af2a-a49e4abde6d5",
   "metadata": {},
   "outputs": [],
   "source": []
  }
 ],
 "metadata": {
  "kernelspec": {
   "display_name": "Python 3 (ipykernel)",
   "language": "python",
   "name": "python3"
  },
  "language_info": {
   "codemirror_mode": {
    "name": "ipython",
    "version": 3
   },
   "file_extension": ".py",
   "mimetype": "text/x-python",
   "name": "python",
   "nbconvert_exporter": "python",
   "pygments_lexer": "ipython3",
   "version": "3.11.6"
  },
  "widgets": {
   "application/vnd.jupyter.widget-state+json": {
    "state": {},
    "version_major": 2,
    "version_minor": 0
   }
  }
 },
 "nbformat": 4,
 "nbformat_minor": 5
}
