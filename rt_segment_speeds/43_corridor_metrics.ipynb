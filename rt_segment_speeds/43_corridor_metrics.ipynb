{
 "cells": [
  {
   "cell_type": "code",
   "execution_count": 1,
   "id": "d528f399-cf33-459e-b5dc-92e0b4ae389a",
   "metadata": {},
   "outputs": [
    {
     "ename": "ModuleNotFoundError",
     "evalue": "No module named 'shared_utils'",
     "output_type": "error",
     "traceback": [
      "\u001b[0;31m---------------------------------------------------------------------------\u001b[0m",
      "\u001b[0;31mModuleNotFoundError\u001b[0m                       Traceback (most recent call last)",
      "Cell \u001b[0;32mIn[1], line 4\u001b[0m\n\u001b[1;32m      1\u001b[0m \u001b[38;5;28;01mimport\u001b[39;00m\u001b[38;5;250m \u001b[39m\u001b[38;5;21;01mpandas\u001b[39;00m\u001b[38;5;250m \u001b[39m\u001b[38;5;28;01mas\u001b[39;00m\u001b[38;5;250m \u001b[39m\u001b[38;5;21;01mpd\u001b[39;00m\n\u001b[1;32m      2\u001b[0m \u001b[38;5;28;01mimport\u001b[39;00m\u001b[38;5;250m \u001b[39m\u001b[38;5;21;01mgeopandas\u001b[39;00m\u001b[38;5;250m \u001b[39m\u001b[38;5;28;01mas\u001b[39;00m\u001b[38;5;250m \u001b[39m\u001b[38;5;21;01mgpd\u001b[39;00m\n\u001b[0;32m----> 4\u001b[0m \u001b[38;5;28;01mfrom\u001b[39;00m\u001b[38;5;250m \u001b[39m\u001b[38;5;21;01mshared_utils\u001b[39;00m\u001b[38;5;250m \u001b[39m\u001b[38;5;28;01mimport\u001b[39;00m rt_utils, catalog_utils\n\u001b[1;32m      6\u001b[0m \u001b[38;5;28;01mfrom\u001b[39;00m\u001b[38;5;250m \u001b[39m\u001b[38;5;21;01mcalitp_data_analysis\u001b[39;00m\u001b[38;5;250m \u001b[39m\u001b[38;5;28;01mimport\u001b[39;00m get_fs, geography_utils\n\u001b[1;32m      7\u001b[0m \u001b[38;5;28;01mfrom\u001b[39;00m\u001b[38;5;250m \u001b[39m\u001b[38;5;21;01msegment_speed_utils\u001b[39;00m\u001b[38;5;250m \u001b[39m\u001b[38;5;28;01mimport\u001b[39;00m helpers, time_series_utils, gtfs_schedule_wrangling, corridor_analysis\n",
      "\u001b[0;31mModuleNotFoundError\u001b[0m: No module named 'shared_utils'"
     ]
    }
   ],
   "source": [
    "import pandas as pd\n",
    "import geopandas as gpd\n",
    "\n",
    "from shared_utils import rt_utils, catalog_utils\n",
    "\n",
    "from calitp_data_analysis import get_fs, geography_utils\n",
    "from segment_speed_utils import helpers, time_series_utils, gtfs_schedule_wrangling, corridor_analysis\n",
    "from segment_speed_utils.project_vars import SCHED_GCS, SEGMENT_GCS, GTFS_DATA_DICT, analysis_date"
   ]
  },
  {
   "cell_type": "markdown",
   "id": "4d47cbc7-52e7-4f13-80a4-46bba9b03cca",
   "metadata": {},
   "source": [
    "# develop and test some basic tools for corridor analysis"
   ]
  },
  {
   "cell_type": "code",
   "execution_count": null,
   "id": "6cd318e5-5c4e-4249-b158-232f4d940770",
   "metadata": {},
   "outputs": [],
   "source": [
    "catalog = catalog_utils.get_catalog('gtfs_analytics_data')"
   ]
  },
  {
   "cell_type": "code",
   "execution_count": null,
   "id": "6e86c1a8-d3de-4fc6-9478-c03133b6745c",
   "metadata": {},
   "outputs": [],
   "source": [
    "catalog.speedmap_segments"
   ]
  },
  {
   "cell_type": "code",
   "execution_count": null,
   "id": "f766b50a-c70d-4681-992c-d7f8979ada69",
   "metadata": {},
   "outputs": [],
   "source": [
    "analysis_date"
   ]
  },
  {
   "cell_type": "code",
   "execution_count": null,
   "id": "b4dd7af7-0cfa-4d94-a96d-f11e7cdc12f9",
   "metadata": {},
   "outputs": [],
   "source": [
    "# path = f'{catalog.speedmap_segments.dir}{catalog.speedmap_segments.stage4}_{analysis_date}.parquet'"
   ]
  },
  {
   "cell_type": "code",
   "execution_count": null,
   "id": "12b824f2-4326-4f5e-ae86-95a46703c948",
   "metadata": {},
   "outputs": [],
   "source": [
    "path = f'{catalog.speedmap_segments.dir}{catalog.speedmap_segments.shape_stop_single_segment_detail}_{analysis_date}.parquet'"
   ]
  },
  {
   "cell_type": "code",
   "execution_count": null,
   "id": "2743cbe7-b472-4ea2-af08-13d2003e93db",
   "metadata": {},
   "outputs": [],
   "source": [
    "path"
   ]
  },
  {
   "cell_type": "code",
   "execution_count": null,
   "id": "7669d09d-c49e-448c-b57a-299112614bd0",
   "metadata": {},
   "outputs": [],
   "source": [
    "detail = gpd.read_parquet(path)"
   ]
  },
  {
   "cell_type": "code",
   "execution_count": null,
   "id": "ddf376af-9781-4943-b0d7-5f5418e07735",
   "metadata": {},
   "outputs": [],
   "source": [
    "detail.head(3)"
   ]
  },
  {
   "cell_type": "markdown",
   "id": "fb80931f-f02c-4933-bb0c-8deb698cc89a",
   "metadata": {},
   "source": [
    "## need trip-level (pre-aggregation) gdf to properly calculate metrics"
   ]
  },
  {
   "cell_type": "code",
   "execution_count": null,
   "id": "34d55973-57d6-40c7-ab4b-b2edb71363a6",
   "metadata": {
    "tags": []
   },
   "outputs": [],
   "source": [
    "st4 = corridor_analysis.import_trip_speeds(analysis_date)"
   ]
  },
  {
   "cell_type": "markdown",
   "id": "a2057b2d-b1b9-4780-91e3-a2ba4c7ea48d",
   "metadata": {},
   "source": [
    "## corridor specification"
   ]
  },
  {
   "cell_type": "code",
   "execution_count": null,
   "id": "5678a894-bee2-4c1e-bade-392f344dfcbb",
   "metadata": {
    "tags": []
   },
   "outputs": [],
   "source": [
    "orgs = detail.drop_duplicates(subset=['organization_source_record_id', 'organization_name'])[['organization_source_record_id', 'organization_name']]"
   ]
  },
  {
   "cell_type": "code",
   "execution_count": null,
   "id": "3a7c1d45-76bb-4442-9b24-35f8a0d60b6c",
   "metadata": {
    "tags": []
   },
   "outputs": [],
   "source": [
    "orgs[orgs.organization_name.str.contains('San Fr')]"
   ]
  },
  {
   "cell_type": "markdown",
   "id": "a0cfadc6-776c-4402-abad-23899bedc09b",
   "metadata": {},
   "source": [
    "## define corridor"
   ]
  },
  {
   "cell_type": "code",
   "execution_count": null,
   "id": "ce9e7154-22cc-448d-bade-2bedd752d600",
   "metadata": {
    "tags": []
   },
   "outputs": [],
   "source": [
    "# shape_id = '4953'\n",
    "# start_seg_id = '18088-18089-1'\n",
    "# end_seg_id = '16800-16806-1'\n",
    "\n",
    "sf = 'rechaapWbeffO33OX'\n",
    "shape_id = '800'\n",
    "start_seg_id = '14970-17900-2'\n",
    "end_seg_id = '16357-16358-1'"
   ]
  },
  {
   "cell_type": "code",
   "execution_count": null,
   "id": "456ba49d-2f78-4371-b942-f195099108ce",
   "metadata": {
    "tags": []
   },
   "outputs": [],
   "source": [
    "gdf = corridor_analysis.corridor_from_segments(speed_segments_gdf=detail, organization_source_record_id=sf, shape_id=shape_id,\n",
    "                      start_seg_id=start_seg_id, end_seg_id=end_seg_id)"
   ]
  },
  {
   "cell_type": "code",
   "execution_count": null,
   "id": "ce92fc09-45cf-4e0b-9d9c-3293839436e7",
   "metadata": {
    "tags": []
   },
   "outputs": [],
   "source": [
    "# gdf.explore()"
   ]
  },
  {
   "cell_type": "markdown",
   "id": "d66850e3-583b-4fca-bc4d-8ed30dddaf44",
   "metadata": {},
   "source": [
    "## Corridor Measurements\n",
    "\n",
    "Previous logic:\n",
    "\n",
    "For each trip, get from the last stop before entering corridor to the first stop after exiting corridor. This was done on stop_sequence\n",
    "\n",
    "Now,\n",
    "\n",
    "* first sjoin with aggregated data (has geom). Sjoining on segments is equivalent to previous methodology, since it will yield the last stop before entry to the first stop after exiting...\n",
    "* avoid doing scheduled delay metric for now...\n",
    "* "
   ]
  },
  {
   "cell_type": "code",
   "execution_count": null,
   "id": "1cb3be15-bfe6-4cd8-a880-91201aa1d10d",
   "metadata": {},
   "outputs": [],
   "source": [
    "corridor_trips = corridor_analysis.find_corridor_data(detail, gdf, st4)"
   ]
  },
  {
   "cell_type": "code",
   "execution_count": null,
   "id": "31d5273e-5dfe-445f-9e41-439ce0e4140a",
   "metadata": {
    "tags": []
   },
   "outputs": [],
   "source": [
    "corridor_results = corridor_analysis.analyze_corridor_trips(corridor_trips)"
   ]
  },
  {
   "cell_type": "code",
   "execution_count": null,
   "id": "e4c97443-88ab-467b-a2ce-ef73eabe5efc",
   "metadata": {
    "tags": []
   },
   "outputs": [],
   "source": [
    "corridor_results"
   ]
  },
  {
   "cell_type": "code",
   "execution_count": null,
   "id": "e63c4a24-a39c-4d11-9074-719d98582e75",
   "metadata": {
    "tags": []
   },
   "outputs": [],
   "source": [
    "corridor_results.groupby('route_short_name')['corridor_speed_mph'].describe()"
   ]
  },
  {
   "cell_type": "code",
   "execution_count": null,
   "id": "0e4e4c48-e829-4e81-a90e-a6c5816404fd",
   "metadata": {
    "tags": []
   },
   "outputs": [],
   "source": [
    "routes = ['8AX', '8BX', '8']\n",
    "rt8 = corridor_results.query('route_short_name in @routes')"
   ]
  },
  {
   "cell_type": "code",
   "execution_count": null,
   "id": "a9911dc4-f077-4e79-a4d9-908544c2f539",
   "metadata": {
    "tags": []
   },
   "outputs": [],
   "source": [
    "corridor_analysis.analyze_corridor_improvements(rt8, trip_seconds_saved=30)"
   ]
  }
 ],
 "metadata": {
  "kernelspec": {
   "display_name": "Python 3 (ipykernel)",
   "language": "python",
   "name": "python3"
  },
  "language_info": {
   "codemirror_mode": {
    "name": "ipython",
    "version": 3
   },
   "file_extension": ".py",
   "mimetype": "text/x-python",
   "name": "python",
   "nbconvert_exporter": "python",
   "pygments_lexer": "ipython3",
   "version": "3.11.6"
  },
  "widgets": {
   "application/vnd.jupyter.widget-state+json": {
    "state": {},
    "version_major": 2,
    "version_minor": 0
   }
  }
 },
 "nbformat": 4,
 "nbformat_minor": 5
}
