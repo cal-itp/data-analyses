{
 "cells": [
  {
   "cell_type": "code",
   "execution_count": 1,
   "id": "d528f399-cf33-459e-b5dc-92e0b4ae389a",
   "metadata": {},
   "outputs": [],
   "source": [
    "import pandas as pd\n",
    "import geopandas as gpd\n",
    "\n",
    "from shared_utils import rt_utils, catalog_utils\n",
    "\n",
    "from calitp_data_analysis import get_fs, geography_utils\n",
    "from segment_speed_utils import helpers, time_series_utils, gtfs_schedule_wrangling, corridor_analysis\n",
    "from segment_speed_utils.project_vars import SCHED_GCS, SEGMENT_GCS, GTFS_DATA_DICT, analysis_date\n",
    "import numpy as np"
   ]
  },
  {
   "cell_type": "code",
   "execution_count": 282,
   "id": "ead443bd-d51c-49c0-a032-8e53fd591a50",
   "metadata": {
    "tags": []
   },
   "outputs": [
    {
     "data": {
      "text/plain": [
       "<module 'segment_speed_utils.corridor_analysis' from '/home/jovyan/data-analyses/rt_segment_speeds/segment_speed_utils/corridor_analysis.py'>"
      ]
     },
     "execution_count": 282,
     "metadata": {},
     "output_type": "execute_result"
    }
   ],
   "source": [
    "import importlib\n",
    "importlib.reload(corridor_analysis)"
   ]
  },
  {
   "cell_type": "markdown",
   "id": "4d47cbc7-52e7-4f13-80a4-46bba9b03cca",
   "metadata": {},
   "source": [
    "# develop and test some basic tools for corridor analysis"
   ]
  },
  {
   "cell_type": "code",
   "execution_count": 3,
   "id": "6cd318e5-5c4e-4249-b158-232f4d940770",
   "metadata": {},
   "outputs": [],
   "source": [
    "catalog = catalog_utils.get_catalog('gtfs_analytics_data')"
   ]
  },
  {
   "cell_type": "code",
   "execution_count": 4,
   "id": "6e86c1a8-d3de-4fc6-9478-c03133b6745c",
   "metadata": {},
   "outputs": [
    {
     "data": {
      "text/plain": [
       "{'dir': '${gcs_paths.SEGMENT_GCS}', 'stage1': '${speeds_tables.vp_dwell}', 'proxy_stop_times': 'stop_time_expansion/speedmap_stop_times', 'stage2': 'nearest/nearest_vp_speedmap_proxy', 'stage3': 'speedmap/stop_arrivals_proxy', 'stage3b': 'speedmap/stop_arrivals', 'stage4': 'speedmap/speeds', 'trip_stop_cols': ['trip_instance_key', 'stop_sequence', 'stop_sequence1'], 'shape_stop_cols': ['shape_array_key', 'shape_id'], 'stop_pair_cols': ['stop_pair', 'stop_pair_name', 'segment_id'], 'route_dir_cols': ['route_id', 'direction_id'], 'segments_file': 'segment_options/speedmap_segments', 'shape_stop_single_segment': 'rollup_singleday/speeds_shape_speedmap_segments', 'shape_stop_single_segment_detail': 'rollup_singleday/speeds_shape_speedmap_segments_detail', 'route_dir_single_segment': 'rollup_singleday/speeds_route_dir_speedmap_segments', 'route_dir_multi_segment': 'rollup_multiday/speeds_route_dir_speedmap_segments', 'min_trip_minutes': '${speed_vars.time_min_cutoff}', 'max_trip_minutes': 180, 'max_speed': '${speed_vars.max_speed}', 'min_meters_elapsed': 1609, 'segment_meters': 1000}"
      ]
     },
     "execution_count": 4,
     "metadata": {},
     "output_type": "execute_result"
    }
   ],
   "source": [
    "catalog.speedmap_segments"
   ]
  },
  {
   "cell_type": "code",
   "execution_count": 5,
   "id": "f766b50a-c70d-4681-992c-d7f8979ada69",
   "metadata": {},
   "outputs": [
    {
     "data": {
      "text/plain": [
       "'2024-12-11'"
      ]
     },
     "execution_count": 5,
     "metadata": {},
     "output_type": "execute_result"
    }
   ],
   "source": [
    "analysis_date"
   ]
  },
  {
   "cell_type": "code",
   "execution_count": 6,
   "id": "b4dd7af7-0cfa-4d94-a96d-f11e7cdc12f9",
   "metadata": {},
   "outputs": [],
   "source": [
    "# path = f'{catalog.speedmap_segments.dir}{catalog.speedmap_segments.stage4}_{analysis_date}.parquet'"
   ]
  },
  {
   "cell_type": "code",
   "execution_count": 7,
   "id": "12b824f2-4326-4f5e-ae86-95a46703c948",
   "metadata": {},
   "outputs": [],
   "source": [
    "path = f'{catalog.speedmap_segments.dir}{catalog.speedmap_segments.shape_stop_single_segment_detail}_{analysis_date}.parquet'"
   ]
  },
  {
   "cell_type": "code",
   "execution_count": 8,
   "id": "2743cbe7-b472-4ea2-af08-13d2003e93db",
   "metadata": {},
   "outputs": [
    {
     "data": {
      "text/plain": [
       "'gs://calitp-analytics-data/data-analyses/rt_segment_speeds/rollup_singleday/speeds_shape_speedmap_segments_detail_2024-12-11.parquet'"
      ]
     },
     "execution_count": 8,
     "metadata": {},
     "output_type": "execute_result"
    }
   ],
   "source": [
    "path"
   ]
  },
  {
   "cell_type": "code",
   "execution_count": 9,
   "id": "7669d09d-c49e-448c-b57a-299112614bd0",
   "metadata": {},
   "outputs": [],
   "source": [
    "detail = gpd.read_parquet(path).round(2)"
   ]
  },
  {
   "cell_type": "code",
   "execution_count": 10,
   "id": "6226b0b5-c3f9-4571-8b72-6916e5045d15",
   "metadata": {
    "tags": []
   },
   "outputs": [],
   "source": [
    "frequencies = detail[['route_id', 'schedule_gtfs_dataset_key', 'trips_hr_sch']].drop_duplicates()\n",
    "frequencies = frequencies.groupby(['route_id', 'schedule_gtfs_dataset_key']).max().reset_index().sort_values('trips_hr_sch', ascending=False)"
   ]
  },
  {
   "cell_type": "code",
   "execution_count": 11,
   "id": "005f97f9-abe8-472d-9b15-d10905bb2078",
   "metadata": {
    "tags": []
   },
   "outputs": [],
   "source": [
    "# frequencies = (detail[['shape_array_key', 'route_id', 'schedule_gtfs_dataset_key']].drop_duplicates(\n",
    "#                     ).merge(frequencies, on=['route_id', 'schedule_gtfs_dataset_key'])\n",
    "#               )"
   ]
  },
  {
   "cell_type": "code",
   "execution_count": 12,
   "id": "ef0703b7-4c98-4bab-b2e7-141c6b09560c",
   "metadata": {
    "tags": []
   },
   "outputs": [
    {
     "data": {
      "text/html": [
       "<div>\n",
       "<style scoped>\n",
       "    .dataframe tbody tr th:only-of-type {\n",
       "        vertical-align: middle;\n",
       "    }\n",
       "\n",
       "    .dataframe tbody tr th {\n",
       "        vertical-align: top;\n",
       "    }\n",
       "\n",
       "    .dataframe thead th {\n",
       "        text-align: right;\n",
       "    }\n",
       "</style>\n",
       "<table border=\"1\" class=\"dataframe\">\n",
       "  <thead>\n",
       "    <tr style=\"text-align: right;\">\n",
       "      <th></th>\n",
       "      <th>route_id</th>\n",
       "      <th>schedule_gtfs_dataset_key</th>\n",
       "      <th>trips_hr_sch</th>\n",
       "    </tr>\n",
       "  </thead>\n",
       "  <tbody>\n",
       "    <tr>\n",
       "      <th>1511</th>\n",
       "      <td>807</td>\n",
       "      <td>2a0571758141f412b6a546fd70a65bf3</td>\n",
       "      <td>12.00</td>\n",
       "    </tr>\n",
       "    <tr>\n",
       "      <th>849</th>\n",
       "      <td>38R</td>\n",
       "      <td>7cc0cb1871dfd558f11a2885c145d144</td>\n",
       "      <td>10.67</td>\n",
       "    </tr>\n",
       "    <tr>\n",
       "      <th>1031</th>\n",
       "      <td>49</td>\n",
       "      <td>7cc0cb1871dfd558f11a2885c145d144</td>\n",
       "      <td>10.33</td>\n",
       "    </tr>\n",
       "    <tr>\n",
       "      <th>978</th>\n",
       "      <td>4444</td>\n",
       "      <td>cc53a0dbf5df90e3009b9cb5d89d80ba</td>\n",
       "      <td>10.00</td>\n",
       "    </tr>\n",
       "    <tr>\n",
       "      <th>495</th>\n",
       "      <td>22</td>\n",
       "      <td>7cc0cb1871dfd558f11a2885c145d144</td>\n",
       "      <td>10.00</td>\n",
       "    </tr>\n",
       "    <tr>\n",
       "      <th>...</th>\n",
       "      <td>...</td>\n",
       "      <td>...</td>\n",
       "      <td>...</td>\n",
       "    </tr>\n",
       "    <tr>\n",
       "      <th>1251</th>\n",
       "      <td>613</td>\n",
       "      <td>587e730fac4db21d54037e0f12b0dd5d</td>\n",
       "      <td>0.20</td>\n",
       "    </tr>\n",
       "    <tr>\n",
       "      <th>1299</th>\n",
       "      <td>635</td>\n",
       "      <td>364d59b3aea55aec2962a0b3244a40e0</td>\n",
       "      <td>0.20</td>\n",
       "    </tr>\n",
       "    <tr>\n",
       "      <th>1430</th>\n",
       "      <td>72</td>\n",
       "      <td>5456c80d420043e15c8eb7368a8a4d89</td>\n",
       "      <td>0.20</td>\n",
       "    </tr>\n",
       "    <tr>\n",
       "      <th>1327</th>\n",
       "      <td>654</td>\n",
       "      <td>015d67d5b75b5cf2b710bbadadfb75f5</td>\n",
       "      <td>0.20</td>\n",
       "    </tr>\n",
       "    <tr>\n",
       "      <th>518</th>\n",
       "      <td>230</td>\n",
       "      <td>770072d7a8d356b529ef34fe01715bcb</td>\n",
       "      <td>0.20</td>\n",
       "    </tr>\n",
       "  </tbody>\n",
       "</table>\n",
       "<p>1784 rows × 3 columns</p>\n",
       "</div>"
      ],
      "text/plain": [
       "     route_id         schedule_gtfs_dataset_key  trips_hr_sch\n",
       "1511      807  2a0571758141f412b6a546fd70a65bf3         12.00\n",
       "849       38R  7cc0cb1871dfd558f11a2885c145d144         10.67\n",
       "1031       49  7cc0cb1871dfd558f11a2885c145d144         10.33\n",
       "978      4444  cc53a0dbf5df90e3009b9cb5d89d80ba         10.00\n",
       "495        22  7cc0cb1871dfd558f11a2885c145d144         10.00\n",
       "...       ...                               ...           ...\n",
       "1251      613  587e730fac4db21d54037e0f12b0dd5d          0.20\n",
       "1299      635  364d59b3aea55aec2962a0b3244a40e0          0.20\n",
       "1430       72  5456c80d420043e15c8eb7368a8a4d89          0.20\n",
       "1327      654  015d67d5b75b5cf2b710bbadadfb75f5          0.20\n",
       "518       230  770072d7a8d356b529ef34fe01715bcb          0.20\n",
       "\n",
       "[1784 rows x 3 columns]"
      ]
     },
     "execution_count": 12,
     "metadata": {},
     "output_type": "execute_result"
    }
   ],
   "source": [
    "frequencies"
   ]
  },
  {
   "cell_type": "code",
   "execution_count": 13,
   "id": "ddf376af-9781-4943-b0d7-5f5418e07735",
   "metadata": {},
   "outputs": [
    {
     "data": {
      "text/html": [
       "<div>\n",
       "<style scoped>\n",
       "    .dataframe tbody tr th:only-of-type {\n",
       "        vertical-align: middle;\n",
       "    }\n",
       "\n",
       "    .dataframe tbody tr th {\n",
       "        vertical-align: top;\n",
       "    }\n",
       "\n",
       "    .dataframe thead th {\n",
       "        text-align: right;\n",
       "    }\n",
       "</style>\n",
       "<table border=\"1\" class=\"dataframe\">\n",
       "  <thead>\n",
       "    <tr style=\"text-align: right;\">\n",
       "      <th></th>\n",
       "      <th>schedule_gtfs_dataset_key</th>\n",
       "      <th>shape_array_key</th>\n",
       "      <th>shape_id</th>\n",
       "      <th>route_id</th>\n",
       "      <th>direction_id</th>\n",
       "      <th>stop_pair</th>\n",
       "      <th>stop_pair_name</th>\n",
       "      <th>segment_id</th>\n",
       "      <th>time_of_day</th>\n",
       "      <th>p50_mph</th>\n",
       "      <th>...</th>\n",
       "      <th>p80_mph</th>\n",
       "      <th>name</th>\n",
       "      <th>caltrans_district</th>\n",
       "      <th>organization_source_record_id</th>\n",
       "      <th>organization_name</th>\n",
       "      <th>base64_url</th>\n",
       "      <th>geometry</th>\n",
       "      <th>n_trips_sch</th>\n",
       "      <th>trips_hr_sch</th>\n",
       "      <th>route_short_name</th>\n",
       "    </tr>\n",
       "  </thead>\n",
       "  <tbody>\n",
       "    <tr>\n",
       "      <th>0</th>\n",
       "      <td>015d67d5b75b5cf2b710bbadadfb75f5</td>\n",
       "      <td>43f0d67e5131502a51f9330e04bacc55</td>\n",
       "      <td>20</td>\n",
       "      <td>228</td>\n",
       "      <td>0.0</td>\n",
       "      <td>40512__40514</td>\n",
       "      <td>Sir Francis Drake Blvd &amp; Olema Rd__Sir Francis...</td>\n",
       "      <td>40512-40514-1</td>\n",
       "      <td>AM Peak</td>\n",
       "      <td>11.83</td>\n",
       "      <td>...</td>\n",
       "      <td>11.83</td>\n",
       "      <td>Bay Area 511 Marin Schedule</td>\n",
       "      <td>04 - Oakland</td>\n",
       "      <td>recNOb7pqBRlQVG5e</td>\n",
       "      <td>Marin County Transit District</td>\n",
       "      <td>aHR0cHM6Ly9hcGkuNTExLm9yZy90cmFuc2l0L2RhdGFmZW...</td>\n",
       "      <td>LINESTRING (-122.60413 38.00022, -122.60416 38...</td>\n",
       "      <td>3</td>\n",
       "      <td>1.0</td>\n",
       "      <td>228</td>\n",
       "    </tr>\n",
       "    <tr>\n",
       "      <th>1</th>\n",
       "      <td>015d67d5b75b5cf2b710bbadadfb75f5</td>\n",
       "      <td>43f0d67e5131502a51f9330e04bacc55</td>\n",
       "      <td>20</td>\n",
       "      <td>228</td>\n",
       "      <td>0.0</td>\n",
       "      <td>40514__40516</td>\n",
       "      <td>Sir Francis Drake Blvd &amp; Alhambra Circle__Sir ...</td>\n",
       "      <td>40514-40516-1</td>\n",
       "      <td>AM Peak</td>\n",
       "      <td>15.52</td>\n",
       "      <td>...</td>\n",
       "      <td>19.79</td>\n",
       "      <td>Bay Area 511 Marin Schedule</td>\n",
       "      <td>04 - Oakland</td>\n",
       "      <td>recNOb7pqBRlQVG5e</td>\n",
       "      <td>Marin County Transit District</td>\n",
       "      <td>aHR0cHM6Ly9hcGkuNTExLm9yZy90cmFuc2l0L2RhdGFmZW...</td>\n",
       "      <td>LINESTRING (-122.60045 37.99908, -122.60037 37...</td>\n",
       "      <td>3</td>\n",
       "      <td>1.0</td>\n",
       "      <td>228</td>\n",
       "    </tr>\n",
       "    <tr>\n",
       "      <th>2</th>\n",
       "      <td>015d67d5b75b5cf2b710bbadadfb75f5</td>\n",
       "      <td>43f0d67e5131502a51f9330e04bacc55</td>\n",
       "      <td>20</td>\n",
       "      <td>228</td>\n",
       "      <td>0.0</td>\n",
       "      <td>40516__40518</td>\n",
       "      <td>Sir Francis Drake Blvd At Drake Manor Apts__Si...</td>\n",
       "      <td>40516-40518-1</td>\n",
       "      <td>AM Peak</td>\n",
       "      <td>15.69</td>\n",
       "      <td>...</td>\n",
       "      <td>20.79</td>\n",
       "      <td>Bay Area 511 Marin Schedule</td>\n",
       "      <td>04 - Oakland</td>\n",
       "      <td>recNOb7pqBRlQVG5e</td>\n",
       "      <td>Marin County Transit District</td>\n",
       "      <td>aHR0cHM6Ly9hcGkuNTExLm9yZy90cmFuc2l0L2RhdGFmZW...</td>\n",
       "      <td>LINESTRING (-122.59907 37.99704, -122.59894 37...</td>\n",
       "      <td>3</td>\n",
       "      <td>1.0</td>\n",
       "      <td>228</td>\n",
       "    </tr>\n",
       "  </tbody>\n",
       "</table>\n",
       "<p>3 rows × 22 columns</p>\n",
       "</div>"
      ],
      "text/plain": [
       "          schedule_gtfs_dataset_key                   shape_array_key  \\\n",
       "0  015d67d5b75b5cf2b710bbadadfb75f5  43f0d67e5131502a51f9330e04bacc55   \n",
       "1  015d67d5b75b5cf2b710bbadadfb75f5  43f0d67e5131502a51f9330e04bacc55   \n",
       "2  015d67d5b75b5cf2b710bbadadfb75f5  43f0d67e5131502a51f9330e04bacc55   \n",
       "\n",
       "  shape_id route_id  direction_id     stop_pair  \\\n",
       "0       20      228           0.0  40512__40514   \n",
       "1       20      228           0.0  40514__40516   \n",
       "2       20      228           0.0  40516__40518   \n",
       "\n",
       "                                      stop_pair_name     segment_id  \\\n",
       "0  Sir Francis Drake Blvd & Olema Rd__Sir Francis...  40512-40514-1   \n",
       "1  Sir Francis Drake Blvd & Alhambra Circle__Sir ...  40514-40516-1   \n",
       "2  Sir Francis Drake Blvd At Drake Manor Apts__Si...  40516-40518-1   \n",
       "\n",
       "  time_of_day  p50_mph  ...  p80_mph                         name  \\\n",
       "0     AM Peak    11.83  ...    11.83  Bay Area 511 Marin Schedule   \n",
       "1     AM Peak    15.52  ...    19.79  Bay Area 511 Marin Schedule   \n",
       "2     AM Peak    15.69  ...    20.79  Bay Area 511 Marin Schedule   \n",
       "\n",
       "   caltrans_district organization_source_record_id  \\\n",
       "0       04 - Oakland             recNOb7pqBRlQVG5e   \n",
       "1       04 - Oakland             recNOb7pqBRlQVG5e   \n",
       "2       04 - Oakland             recNOb7pqBRlQVG5e   \n",
       "\n",
       "               organization_name  \\\n",
       "0  Marin County Transit District   \n",
       "1  Marin County Transit District   \n",
       "2  Marin County Transit District   \n",
       "\n",
       "                                          base64_url  \\\n",
       "0  aHR0cHM6Ly9hcGkuNTExLm9yZy90cmFuc2l0L2RhdGFmZW...   \n",
       "1  aHR0cHM6Ly9hcGkuNTExLm9yZy90cmFuc2l0L2RhdGFmZW...   \n",
       "2  aHR0cHM6Ly9hcGkuNTExLm9yZy90cmFuc2l0L2RhdGFmZW...   \n",
       "\n",
       "                                            geometry n_trips_sch trips_hr_sch  \\\n",
       "0  LINESTRING (-122.60413 38.00022, -122.60416 38...           3          1.0   \n",
       "1  LINESTRING (-122.60045 37.99908, -122.60037 37...           3          1.0   \n",
       "2  LINESTRING (-122.59907 37.99704, -122.59894 37...           3          1.0   \n",
       "\n",
       "   route_short_name  \n",
       "0               228  \n",
       "1               228  \n",
       "2               228  \n",
       "\n",
       "[3 rows x 22 columns]"
      ]
     },
     "execution_count": 13,
     "metadata": {},
     "output_type": "execute_result"
    }
   ],
   "source": [
    "detail.head(3)"
   ]
  },
  {
   "cell_type": "markdown",
   "id": "fb80931f-f02c-4933-bb0c-8deb698cc89a",
   "metadata": {},
   "source": [
    "## need trip-level (pre-aggregation) gdf to properly calculate metrics"
   ]
  },
  {
   "cell_type": "code",
   "execution_count": 14,
   "id": "34d55973-57d6-40c7-ab4b-b2edb71363a6",
   "metadata": {
    "tags": []
   },
   "outputs": [
    {
     "name": "stdout",
     "output_type": "stream",
     "text": [
      "2.2 percent of segments have no speed\n"
     ]
    }
   ],
   "source": [
    "st4 = corridor_analysis.import_trip_speeds(analysis_date)"
   ]
  },
  {
   "cell_type": "markdown",
   "id": "a2057b2d-b1b9-4780-91e3-a2ba4c7ea48d",
   "metadata": {},
   "source": [
    "## corridor specification"
   ]
  },
  {
   "cell_type": "code",
   "execution_count": 15,
   "id": "f894127b-313d-4931-8be0-03b5fd112478",
   "metadata": {
    "tags": []
   },
   "outputs": [],
   "source": [
    "# rt_utils.show_full_df(pd.read_parquet('../ca_transit_speed_maps/_rt_progress_2024-12-11.parquet').sort_values(['caltrans_district', 'organization_name']))"
   ]
  },
  {
   "cell_type": "markdown",
   "id": "a0cfadc6-776c-4402-abad-23899bedc09b",
   "metadata": {},
   "source": [
    "## define corridor"
   ]
  },
  {
   "cell_type": "code",
   "execution_count": 16,
   "id": "ce9e7154-22cc-448d-bade-2bedd752d600",
   "metadata": {
    "tags": []
   },
   "outputs": [],
   "source": [
    "# shape_id = '4953'\n",
    "# start_seg_id = '18088-18089-1'\n",
    "# end_seg_id = '16800-16806-1'\n",
    "\n",
    "sf = 'rechaapWbeffO33OX'\n",
    "shape_id = '800'\n",
    "start_seg_id = '14970-17900-2'\n",
    "end_seg_id = '16357-16358-1'\n",
    "\n",
    "# hum = 'recynxkqEoo9dJEvw'\n",
    "# shape_id = 'p_1435936'\n",
    "# start_seg_id = '1252-4209812-1'\n",
    "# end_seg_id = '1276-1277-1'"
   ]
  },
  {
   "cell_type": "code",
   "execution_count": 17,
   "id": "456ba49d-2f78-4371-b942-f195099108ce",
   "metadata": {
    "tags": []
   },
   "outputs": [],
   "source": [
    "gdf = corridor_analysis.corridor_from_segments(speed_segments_gdf=detail, organization_source_record_id=sf, shape_id=shape_id,\n",
    "                      start_seg_id=start_seg_id, end_seg_id=end_seg_id)"
   ]
  },
  {
   "cell_type": "markdown",
   "id": "d66850e3-583b-4fca-bc4d-8ed30dddaf44",
   "metadata": {},
   "source": [
    "## Corridor Measurements\n",
    "\n",
    "Previous logic:\n",
    "\n",
    "For each trip, get from the last stop before entering corridor to the first stop after exiting corridor. This was done on stop_sequence\n",
    "\n",
    "Now,\n",
    "\n",
    "* first sjoin with aggregated data (has geom). Sjoining on segments is equivalent to previous methodology, since it will yield the last stop before entry to the first stop after exiting...\n",
    "* avoid doing scheduled delay metric for now...\n",
    "* "
   ]
  },
  {
   "cell_type": "code",
   "execution_count": 18,
   "id": "4082b626-4057-4cfc-a641-6041529b5080",
   "metadata": {
    "tags": []
   },
   "outputs": [
    {
     "name": "stdout",
     "output_type": "stream",
     "text": [
      "0.8 percent of trips with zero seconds\n",
      "0.8 percent of trips with speeds > 80mph\n"
     ]
    }
   ],
   "source": [
    "corridor_trips = corridor_analysis.find_corridor_data(detail, gdf, st4)\n",
    "corridor_results = corridor_analysis.analyze_corridor_trips(corridor_trips)"
   ]
  },
  {
   "cell_type": "code",
   "execution_count": 19,
   "id": "a355f340-b268-49a2-89f7-1adf5d3b1677",
   "metadata": {
    "tags": []
   },
   "outputs": [],
   "source": [
    "# m = gdf.explore(color='gray')\n",
    "\n",
    "# corridor_trips[['route_short_name', 'shape_length', 'geometry']].explore(m=m, column='shape_length')"
   ]
  },
  {
   "cell_type": "code",
   "execution_count": 20,
   "id": "e4c97443-88ab-467b-a2ce-ef73eabe5efc",
   "metadata": {
    "tags": []
   },
   "outputs": [],
   "source": [
    "# corridor_results.head(3)"
   ]
  },
  {
   "cell_type": "code",
   "execution_count": 77,
   "id": "8ff789bb-065e-4d7f-a350-9f64d07b66f8",
   "metadata": {
    "tags": []
   },
   "outputs": [
    {
     "name": "stdout",
     "output_type": "stream",
     "text": [
      "median: 10.91mph... percent mode: 0.3\n"
     ]
    }
   ],
   "source": [
    "# routes = ['8AX', '8BX', '8']\n",
    "# rt8 = corridor_results.query('route_short_name in @routes')\n",
    "# df = corridor_analysis.analyze_corridor_improvements(rt8, trip_seconds_saved=30)\n",
    "\n",
    "# df = corridor_analysis.analyze_corridor_improvements(corridor_results, trip_seconds_saved=30)\n",
    "df = corridor_analysis.analyze_corridor_improvements(corridor_results, trip_percent_speedup=.30)"
   ]
  },
  {
   "cell_type": "code",
   "execution_count": 78,
   "id": "6fd6c78f-16c2-4291-84d8-06a94e47a1b5",
   "metadata": {
    "tags": []
   },
   "outputs": [
    {
     "data": {
      "text/html": [
       "<div>\n",
       "<style scoped>\n",
       "    .dataframe tbody tr th:only-of-type {\n",
       "        vertical-align: middle;\n",
       "    }\n",
       "\n",
       "    .dataframe tbody tr th {\n",
       "        vertical-align: top;\n",
       "    }\n",
       "\n",
       "    .dataframe thead th {\n",
       "        text-align: right;\n",
       "    }\n",
       "</style>\n",
       "<table border=\"1\" class=\"dataframe\">\n",
       "  <thead>\n",
       "    <tr style=\"text-align: right;\">\n",
       "      <th></th>\n",
       "      <th>trip_instance_key</th>\n",
       "      <th>corridor_meters</th>\n",
       "      <th>corridor_seconds</th>\n",
       "      <th>corridor_speed_mps</th>\n",
       "      <th>corridor_speed_mph</th>\n",
       "      <th>route_short_name</th>\n",
       "      <th>route_id</th>\n",
       "      <th>shape_array_key</th>\n",
       "      <th>shape_id</th>\n",
       "      <th>schedule_gtfs_dataset_key</th>\n",
       "      <th>time_of_day</th>\n",
       "      <th>corridor_id</th>\n",
       "      <th>improved_corridor_speed_mph</th>\n",
       "      <th>improved_corridor_speed_mps</th>\n",
       "      <th>improved_corridor_seconds</th>\n",
       "    </tr>\n",
       "  </thead>\n",
       "  <tbody>\n",
       "    <tr>\n",
       "      <th>0</th>\n",
       "      <td>00eec7a988d3afb24ea22340eb4929c9</td>\n",
       "      <td>7535.184523</td>\n",
       "      <td>1562.0</td>\n",
       "      <td>4.824062</td>\n",
       "      <td>10.791426</td>\n",
       "      <td>8AX</td>\n",
       "      <td>8AX</td>\n",
       "      <td>5183639c45e26411e1562c1534f7af26</td>\n",
       "      <td>36</td>\n",
       "      <td>7cc0cb1871dfd558f11a2885c145d144</td>\n",
       "      <td>AM Peak</td>\n",
       "      <td>5645694497374636135</td>\n",
       "      <td>14.028854</td>\n",
       "      <td>6.271280</td>\n",
       "      <td>1201.538462</td>\n",
       "    </tr>\n",
       "    <tr>\n",
       "      <th>1</th>\n",
       "      <td>020b55f09bec8a995b77fd470167f2e5</td>\n",
       "      <td>4903.795632</td>\n",
       "      <td>1021.0</td>\n",
       "      <td>4.802934</td>\n",
       "      <td>10.744163</td>\n",
       "      <td>9</td>\n",
       "      <td>9</td>\n",
       "      <td>bc2f9da35043207727c2fd2bc9a5b2ad</td>\n",
       "      <td>915</td>\n",
       "      <td>7cc0cb1871dfd558f11a2885c145d144</td>\n",
       "      <td>PM Peak</td>\n",
       "      <td>5645694497374636135</td>\n",
       "      <td>13.967412</td>\n",
       "      <td>6.243814</td>\n",
       "      <td>785.384615</td>\n",
       "    </tr>\n",
       "    <tr>\n",
       "      <th>2</th>\n",
       "      <td>0274459938044131634a5acaef1ffab5</td>\n",
       "      <td>5645.089521</td>\n",
       "      <td>1236.0</td>\n",
       "      <td>4.567225</td>\n",
       "      <td>10.216881</td>\n",
       "      <td>9R</td>\n",
       "      <td>9R</td>\n",
       "      <td>516956ffa95db3a152bf0ca679c8d5f5</td>\n",
       "      <td>210</td>\n",
       "      <td>7cc0cb1871dfd558f11a2885c145d144</td>\n",
       "      <td>PM Peak</td>\n",
       "      <td>5645694497374636135</td>\n",
       "      <td>13.281946</td>\n",
       "      <td>5.937392</td>\n",
       "      <td>950.769231</td>\n",
       "    </tr>\n",
       "  </tbody>\n",
       "</table>\n",
       "</div>"
      ],
      "text/plain": [
       "                  trip_instance_key  corridor_meters  corridor_seconds  \\\n",
       "0  00eec7a988d3afb24ea22340eb4929c9      7535.184523            1562.0   \n",
       "1  020b55f09bec8a995b77fd470167f2e5      4903.795632            1021.0   \n",
       "2  0274459938044131634a5acaef1ffab5      5645.089521            1236.0   \n",
       "\n",
       "   corridor_speed_mps  corridor_speed_mph route_short_name route_id  \\\n",
       "0            4.824062           10.791426              8AX      8AX   \n",
       "1            4.802934           10.744163                9        9   \n",
       "2            4.567225           10.216881               9R       9R   \n",
       "\n",
       "                    shape_array_key shape_id  \\\n",
       "0  5183639c45e26411e1562c1534f7af26       36   \n",
       "1  bc2f9da35043207727c2fd2bc9a5b2ad      915   \n",
       "2  516956ffa95db3a152bf0ca679c8d5f5      210   \n",
       "\n",
       "          schedule_gtfs_dataset_key time_of_day          corridor_id  \\\n",
       "0  7cc0cb1871dfd558f11a2885c145d144     AM Peak  5645694497374636135   \n",
       "1  7cc0cb1871dfd558f11a2885c145d144     PM Peak  5645694497374636135   \n",
       "2  7cc0cb1871dfd558f11a2885c145d144     PM Peak  5645694497374636135   \n",
       "\n",
       "   improved_corridor_speed_mph  improved_corridor_speed_mps  \\\n",
       "0                    14.028854                     6.271280   \n",
       "1                    13.967412                     6.243814   \n",
       "2                    13.281946                     5.937392   \n",
       "\n",
       "   improved_corridor_seconds  \n",
       "0                1201.538462  \n",
       "1                 785.384615  \n",
       "2                 950.769231  "
      ]
     },
     "execution_count": 78,
     "metadata": {},
     "output_type": "execute_result"
    }
   ],
   "source": [
    "df.head(3)"
   ]
  },
  {
   "cell_type": "code",
   "execution_count": 79,
   "id": "86e223b3-3430-4993-bdfc-9fe2087f7de4",
   "metadata": {
    "tags": []
   },
   "outputs": [],
   "source": [
    "def summarize_corridor_improvements(analysis_df: pd.DataFrame, extra_group_cols: list = []):\n",
    "    '''\n",
    "    \n",
    "    '''\n",
    "    group_cols=['corridor_id', 'schedule_gtfs_dataset_key'] + extra_group_cols\n",
    "    sum_cols = ['corridor_seconds', 'improved_corridor_seconds', 'delay_seconds',\n",
    "                   'delay_minutes']\n",
    "    array_cols = ['route_short_name', 'route_id']\n",
    "    analysis_df = analysis_df.assign(delay_seconds = analysis_df.corridor_seconds - analysis_df.improved_corridor_seconds)\n",
    "                  # corridor_miles = analysis_df.corridor_meters / rt_utils.METERS_PER_MILE)\n",
    "    analysis_df = analysis_df.assign(delay_minutes = analysis_df.delay_seconds / 60)\n",
    "    \n",
    "    group = analysis_df.groupby(group_cols)[sum_cols + array_cols + ['corridor_speed_mph']]\n",
    "    # display(group)\n",
    "    analysis_df = group.agg({**{x:'sum' for x in sum_cols},\n",
    "                    **{x:'unique' for x in array_cols},\n",
    "                            'corridor_speed_mph': np.median})\n",
    "    analysis_df = analysis_df.rename(columns={'corridor_speed_mph': 'median_corridor_mph'})\n",
    "    analysis_df = analysis_df.merge(group.agg({'corridor_speed_mph':'count'}).rename(\n",
    "        columns={'corridor_speed_mph':'n_trips_daily'}), on=['corridor_id', 'schedule_gtfs_dataset_key'])\n",
    "    # return analysis_df\n",
    "    #  join in max route frequencies\n",
    "    freq = (analysis_df.explode(['route_short_name', 'route_id']).reset_index(\n",
    "                ).merge(frequencies, on=['route_id', 'schedule_gtfs_dataset_key'])\n",
    "           )\n",
    "    #  add frequencies to output to match array cols; allow inspection before summing delay metrics and frequencies\n",
    "    analysis_df = (analysis_df.reset_index().merge(\n",
    "        freq.groupby('schedule_gtfs_dataset_key').agg(\n",
    "            {'trips_hr_sch': lambda x: list(x)}), on='schedule_gtfs_dataset_key')\n",
    "         )\n",
    "    return analysis_df.round(1)"
   ]
  },
  {
   "cell_type": "code",
   "execution_count": 80,
   "id": "25d79da2-59de-4b51-b3fb-b38ba613d86e",
   "metadata": {
    "tags": []
   },
   "outputs": [],
   "source": [
    "df = summarize_corridor_improvements(df)"
   ]
  },
  {
   "cell_type": "code",
   "execution_count": 82,
   "id": "c97317c0-b434-40e8-aa7b-2cd0b5ca6417",
   "metadata": {
    "tags": []
   },
   "outputs": [
    {
     "data": {
      "text/html": [
       "<div>\n",
       "<style scoped>\n",
       "    .dataframe tbody tr th:only-of-type {\n",
       "        vertical-align: middle;\n",
       "    }\n",
       "\n",
       "    .dataframe tbody tr th {\n",
       "        vertical-align: top;\n",
       "    }\n",
       "\n",
       "    .dataframe thead th {\n",
       "        text-align: right;\n",
       "    }\n",
       "</style>\n",
       "<table border=\"1\" class=\"dataframe\">\n",
       "  <thead>\n",
       "    <tr style=\"text-align: right;\">\n",
       "      <th></th>\n",
       "      <th>corridor_id</th>\n",
       "      <th>schedule_gtfs_dataset_key</th>\n",
       "      <th>corridor_seconds</th>\n",
       "      <th>improved_corridor_seconds</th>\n",
       "      <th>delay_seconds</th>\n",
       "      <th>delay_minutes</th>\n",
       "      <th>route_short_name</th>\n",
       "      <th>route_id</th>\n",
       "      <th>median_corridor_mph</th>\n",
       "      <th>n_trips_daily</th>\n",
       "      <th>trips_hr_sch</th>\n",
       "    </tr>\n",
       "  </thead>\n",
       "  <tbody>\n",
       "    <tr>\n",
       "      <th>0</th>\n",
       "      <td>5645694497374636135</td>\n",
       "      <td>5456c80d420043e15c8eb7368a8a4d89</td>\n",
       "      <td>47953.0</td>\n",
       "      <td>36886.9</td>\n",
       "      <td>11066.1</td>\n",
       "      <td>184.4</td>\n",
       "      <td>[292, EPX, 397, FCX]</td>\n",
       "      <td>[292, EPX, 397, FCX]</td>\n",
       "      <td>13.2</td>\n",
       "      <td>65</td>\n",
       "      <td>[3.0, 1.4, 0.75, 1.2]</td>\n",
       "    </tr>\n",
       "    <tr>\n",
       "      <th>1</th>\n",
       "      <td>5645694497374636135</td>\n",
       "      <td>7cc0cb1871dfd558f11a2885c145d144</td>\n",
       "      <td>755851.0</td>\n",
       "      <td>581423.8</td>\n",
       "      <td>174427.2</td>\n",
       "      <td>2907.1</td>\n",
       "      <td>[8AX, 9, 9R, 8, 90, 8BX]</td>\n",
       "      <td>[8AX, 9, 9R, 8, 90, 8BX]</td>\n",
       "      <td>10.5</td>\n",
       "      <td>550</td>\n",
       "      <td>[6.33, 5.0, 5.0, 7.6, 2.0, 5.33]</td>\n",
       "    </tr>\n",
       "  </tbody>\n",
       "</table>\n",
       "</div>"
      ],
      "text/plain": [
       "           corridor_id         schedule_gtfs_dataset_key  corridor_seconds  \\\n",
       "0  5645694497374636135  5456c80d420043e15c8eb7368a8a4d89           47953.0   \n",
       "1  5645694497374636135  7cc0cb1871dfd558f11a2885c145d144          755851.0   \n",
       "\n",
       "   improved_corridor_seconds  delay_seconds  delay_minutes  \\\n",
       "0                    36886.9        11066.1          184.4   \n",
       "1                   581423.8       174427.2         2907.1   \n",
       "\n",
       "           route_short_name                  route_id  median_corridor_mph  \\\n",
       "0      [292, EPX, 397, FCX]      [292, EPX, 397, FCX]                 13.2   \n",
       "1  [8AX, 9, 9R, 8, 90, 8BX]  [8AX, 9, 9R, 8, 90, 8BX]                 10.5   \n",
       "\n",
       "   n_trips_daily                      trips_hr_sch  \n",
       "0             65             [3.0, 1.4, 0.75, 1.2]  \n",
       "1            550  [6.33, 5.0, 5.0, 7.6, 2.0, 5.33]  "
      ]
     },
     "execution_count": 82,
     "metadata": {},
     "output_type": "execute_result"
    }
   ],
   "source": [
    "df"
   ]
  },
  {
   "cell_type": "code",
   "execution_count": 212,
   "id": "ed93e7fa-8139-4aa4-a3be-ddced7b6ea27",
   "metadata": {
    "tags": []
   },
   "outputs": [],
   "source": [
    "corr = pd.read_excel('./_temp/corr_hs.xlsx', sheet_name='Corridors')"
   ]
  },
  {
   "cell_type": "code",
   "execution_count": 213,
   "id": "25cd184d-3971-4952-8cda-90731b40a010",
   "metadata": {
    "tags": []
   },
   "outputs": [],
   "source": [
    "hs = pd.read_excel('./_temp/corr_hs.xlsx', sheet_name='Hotspots')"
   ]
  },
  {
   "cell_type": "code",
   "execution_count": 214,
   "id": "bda3bb4c-e498-4362-8360-63bdd776b34b",
   "metadata": {
    "tags": []
   },
   "outputs": [],
   "source": [
    "corr = corr.astype({'start_segment_id': str, 'end_segment_id': str, 'shape_id':str})\n",
    "hs = hs.astype({'start_segment_id': str, 'end_segment_id': str, 'shape_id':str})"
   ]
  },
  {
   "cell_type": "code",
   "execution_count": 215,
   "id": "77316eb2-5399-4cf6-968c-b26c27f06b25",
   "metadata": {
    "tags": []
   },
   "outputs": [],
   "source": [
    "row = corr.iloc[3,:]"
   ]
  },
  {
   "cell_type": "code",
   "execution_count": 216,
   "id": "1d3175f8-e9d3-4480-9903-363b54580cb5",
   "metadata": {
    "tags": []
   },
   "outputs": [
    {
     "data": {
      "text/plain": [
       "SHS Segment                         US101 Van Ness\n",
       "County                               San Francisco\n",
       "District                                         4\n",
       "Corridor Length (mi)                           NaN\n",
       "Transit Operators                     SFMTA (Muni)\n",
       "Treatments                                     NaN\n",
       "fwy_xpwy                                     False\n",
       "organization_source_record_id    rechaapWbeffO33OX\n",
       "start_segment_id                     18088-18089-1\n",
       "end_segment_id                       18096-16800-1\n",
       "shape_id                                      4953\n",
       "Notes                                          NaN\n",
       "Name: 3, dtype: object"
      ]
     },
     "execution_count": 216,
     "metadata": {},
     "output_type": "execute_result"
    }
   ],
   "source": [
    "row"
   ]
  },
  {
   "cell_type": "code",
   "execution_count": 217,
   "id": "2e589cf0-d0c2-4fe8-b45b-cd5075dc5bd6",
   "metadata": {
    "tags": []
   },
   "outputs": [],
   "source": [
    "gdf = corridor_analysis.corridor_from_segments(speed_segments_gdf=detail, organization_source_record_id=row.organization_source_record_id, shape_id=row.shape_id,\n",
    "                      start_seg_id=row.start_segment_id, end_seg_id=row.end_segment_id)"
   ]
  },
  {
   "cell_type": "code",
   "execution_count": 218,
   "id": "fddab223-ef1f-4733-aa68-fd95bac6719b",
   "metadata": {
    "tags": []
   },
   "outputs": [],
   "source": [
    "def corridor_from_row(df, intervention_dict, fwy_xpwy_floor = None):\n",
    "    all_corridors = []\n",
    "    for _, row in df.iterrows():\n",
    "        try:\n",
    "            print(row[\"SHS Segment\"])\n",
    "            corr = corridor_analysis.corridor_from_segments(speed_segments_gdf=detail, organization_source_record_id=row.organization_source_record_id, shape_id=row.shape_id,\n",
    "                          start_seg_id=row.start_segment_id, end_seg_id=row.end_segment_id, name=row['SHS Segment'])\n",
    "            corridor_trips = corridor_analysis.find_corridor_data(detail, corr, st4)\n",
    "            corridor_results = corridor_analysis.analyze_corridor_trips(corridor_trips)\n",
    "            if hasattr(row, 'fwy_xpwy')  and row.fwy_xpwy:\n",
    "                analyzed_interventions = intervention_dict.copy()\n",
    "                analyzed_interventions['trip_mph_floor'] = fwy_xpwy_floor\n",
    "                df = corridor_analysis.analyze_corridor_improvements(corridor_results, **analyzed_interventions)\n",
    "            else:\n",
    "                df = corridor_analysis.analyze_corridor_improvements(corridor_results, **intervention_dict)\n",
    "            summ = summarize_corridor_improvements(df).reset_index(drop=True)\n",
    "            corr = pd.merge(corr, summ, on='corridor_id')\n",
    "            corr = corr.assign(corridor_miles = corr.corridor_distance_meters / rt_utils.METERS_PER_MILE) #  from corridor def, not trip distance\n",
    "            corr = corr.assign(minutes_per_mile = corr.delay_minutes / corr.corridor_miles)\n",
    "            all_corridors += [corr]\n",
    "        except Exception as e:\n",
    "            print(f'failed for{row[\"SHS Segment\"]}')\n",
    "            print(e)\n",
    "            pass\n",
    "    return pd.concat(all_corridors)"
   ]
  },
  {
   "cell_type": "code",
   "execution_count": 288,
   "id": "6f1f99f1-2431-44bd-b0fc-0db50e451141",
   "metadata": {
    "tags": []
   },
   "outputs": [
    {
     "data": {
      "text/plain": [
       "SHS Segment                         US101 Van Ness\n",
       "County                               San Francisco\n",
       "District                                         4\n",
       "Corridor Length (mi)                           NaN\n",
       "Transit Operators                     SFMTA (Muni)\n",
       "Treatments                                     NaN\n",
       "fwy_xpwy                                     False\n",
       "organization_source_record_id    rechaapWbeffO33OX\n",
       "start_segment_id                     18088-18089-1\n",
       "end_segment_id                       18096-16800-1\n",
       "shape_id                                      4953\n",
       "Notes                                          NaN\n",
       "Name: 3, dtype: object"
      ]
     },
     "execution_count": 288,
     "metadata": {},
     "output_type": "execute_result"
    }
   ],
   "source": [
    "corr.loc[3]"
   ]
  },
  {
   "cell_type": "code",
   "execution_count": 289,
   "id": "491f3623-c5c5-415e-bdf4-b7d90101b873",
   "metadata": {
    "tags": []
   },
   "outputs": [
    {
     "name": "stdout",
     "output_type": "stream",
     "text": [
      "US101 Van Ness\n",
      "0.2 percent of trips with zero seconds\n",
      "2.0 percent of trips with speeds > 80mph\n",
      "median: 8.45mph... mph floor mode: 16mph\n"
     ]
    }
   ],
   "source": [
    "# corr_gdf = corridor_from_row(corr, intervention_dict={'trip_mph_floor': 16, 'trip_percent_speedup': 15}, fwy_xpwy_floor = 35)\n",
    "corr_gdf = corridor_from_row(corr.iloc[3:4,:], intervention_dict={'trip_mph_floor': 16, 'trip_percent_speedup': 15}, fwy_xpwy_floor = 35)"
   ]
  },
  {
   "cell_type": "code",
   "execution_count": null,
   "id": "86a47c87-8c94-4acd-95f2-456f29802423",
   "metadata": {
    "tags": []
   },
   "outputs": [],
   "source": [
    "hs_gdf = corridor_from_row(hs, intervention_dict={'trip_mph_target': 16})"
   ]
  },
  {
   "cell_type": "code",
   "execution_count": null,
   "id": "53d23fd1-0374-4cca-83d7-f71e7a42a23a",
   "metadata": {
    "tags": []
   },
   "outputs": [],
   "source": [
    "hs_gdf = pd.concat(all_corridors)[['corridor_name', 'name', 'corridor_miles', 'delay_minutes',\n",
    "        'minutes_per_mile', 'geometry']]"
   ]
  },
  {
   "cell_type": "code",
   "execution_count": null,
   "id": "4d32fd4e-5ebd-4a96-90ab-4bc6f0fc01ba",
   "metadata": {
    "tags": []
   },
   "outputs": [],
   "source": [
    "hs_gdf.explore(column='delay_minutes')"
   ]
  },
  {
   "cell_type": "code",
   "execution_count": 221,
   "id": "3b38b5c2-d53c-40d3-a9cc-48ac569a1342",
   "metadata": {
    "tags": []
   },
   "outputs": [],
   "source": [
    "corr_gdf = corr_gdf.assign(trips_per_hr_peak_directional = corr_gdf.trips_hr_sch.map(lambda x: sum(x)))"
   ]
  },
  {
   "cell_type": "code",
   "execution_count": 222,
   "id": "f0fc0465-610b-46ba-94ec-9bfb78ece97f",
   "metadata": {
    "tags": []
   },
   "outputs": [],
   "source": [
    "overall = corr_gdf.groupby(['corridor_id', 'corridor_name', 'geometry']).agg({\n",
    "        'corridor_miles': 'min', 'delay_minutes': 'sum', 'minutes_per_mile': 'sum', 'median_corridor_mph': np.median,\n",
    "        'trips_per_hr_peak_directional': 'sum', 'n_trips_daily':'sum',\n",
    "}).reset_index()"
   ]
  },
  {
   "cell_type": "code",
   "execution_count": 290,
   "id": "1a6bcdf0-7b81-448e-9259-f6af674d9f52",
   "metadata": {
    "tags": []
   },
   "outputs": [],
   "source": [
    "# overall.sort_values('minutes_per_mile', ascending=False)"
   ]
  },
  {
   "cell_type": "code",
   "execution_count": 333,
   "id": "7f312270-5005-4a55-9264-f6675fa073af",
   "metadata": {
    "tags": []
   },
   "outputs": [],
   "source": [
    "# gpd.GeoDataFrame(overall, crs=geography_utils.CA_NAD83Albers_m).explore(column='minutes_per_mile')"
   ]
  },
  {
   "cell_type": "markdown",
   "id": "fb9a8f59-90e8-4b56-a8e9-edecd8896c6d",
   "metadata": {},
   "source": [
    "## Discussion\n",
    "\n",
    "* Which other metrics?\n",
    "\n",
    "after screening:\n",
    "\n",
    "ridership/person-hours of delay\n",
    "accessibility, equity\n",
    "\n",
    "* Is our list complete?\n",
    "\n",
    "Include Tempo, Van Ness, can we compare?\n",
    "\n",
    "* Exclude routes where necessary (current corridor join is just spatial...)\n",
    "\n",
    "* Add location-specific interventions, and [guidance](https://caltrans.sharepoint.com/:w:/s/DOTPMPHQ-DataandDigitalServices/EdG0YNQcQMBJmKncAuNva9wBjpxVq2sD8p3C5azumXFNRA?e=TO7CbB)\n",
    "\n",
    "* How much should we focus on freeways?\n",
    "\n",
    "Yes, include (Bay Bridge, others, SDMTS freeway service, launch service with new HOT...)\n",
    "\n",
    "District transit plans, express/rapid on freeways...?"
   ]
  },
  {
   "cell_type": "code",
   "execution_count": 100,
   "id": "d2e72d64-d352-4163-af2a-a49e4abde6d5",
   "metadata": {},
   "outputs": [],
   "source": [
    "old_sfmta = gpd.read_parquet('gs://calitp-analytics-data/data-analyses/rt_delay/stop_delay_views/282_2022-02-08.parquet')"
   ]
  },
  {
   "cell_type": "code",
   "execution_count": 103,
   "id": "254181ce-d6e1-43a7-82b4-2ebd5968e0f4",
   "metadata": {
    "tags": []
   },
   "outputs": [],
   "source": [
    "import rt_analysis"
   ]
  },
  {
   "cell_type": "markdown",
   "id": "caefcd2b-4f30-4ae8-b532-0b5c6ccf9458",
   "metadata": {},
   "source": [
    "## bespoke van ness\n",
    "\n",
    "* v2 warehouse doesn't include RT before Sep 2022, and Van Ness opened Apr 2022\n",
    "* get old rt_analysis code working"
   ]
  },
  {
   "cell_type": "code",
   "execution_count": 126,
   "id": "a95bf330-2595-4be6-a323-6cc627ac5d74",
   "metadata": {
    "tags": []
   },
   "outputs": [
    {
     "data": {
      "text/plain": [
       "\u001b[0;31mSignature:\u001b[0m \u001b[0mrt_analysis\u001b[0m\u001b[0;34m.\u001b[0m\u001b[0mrt_filter_map_plot\u001b[0m\u001b[0;34m.\u001b[0m\u001b[0mfrom_gcs\u001b[0m\u001b[0;34m(\u001b[0m\u001b[0mitp_id\u001b[0m\u001b[0;34m,\u001b[0m \u001b[0manalysis_date\u001b[0m\u001b[0;34m,\u001b[0m \u001b[0mpbar\u001b[0m\u001b[0;34m=\u001b[0m\u001b[0;32mNone\u001b[0m\u001b[0;34m)\u001b[0m\u001b[0;34m\u001b[0m\u001b[0;34m\u001b[0m\u001b[0m\n",
       "\u001b[0;31mDocstring:\u001b[0m\n",
       "Generates RtFilterMapper from cached artifacts in GCS. Generate using rt_parser.OperatorDayAnalysis.export_views_gcs()\n",
       "    \n",
       "\u001b[0;31mFile:\u001b[0m      ~/data-analyses/rt_delay/rt_analysis/rt_filter_map_plot.py\n",
       "\u001b[0;31mType:\u001b[0m      function"
      ]
     },
     "metadata": {},
     "output_type": "display_data"
    }
   ],
   "source": [
    "rt_analysis.rt_filter_map_plot.from_gcs?"
   ]
  },
  {
   "cell_type": "code",
   "execution_count": 127,
   "id": "794cbc66-d477-4665-8738-0b5be3be4436",
   "metadata": {
    "tags": []
   },
   "outputs": [],
   "source": [
    "from rt_analysis import rt_filter_map_plot"
   ]
  },
  {
   "cell_type": "code",
   "execution_count": 128,
   "id": "5d8da1ec-b717-4fe1-9271-65387b4eae82",
   "metadata": {
    "tags": []
   },
   "outputs": [
    {
     "data": {
      "text/plain": [
       "<module 'rt_analysis.rt_filter_map_plot' from '/home/jovyan/data-analyses/rt_delay/rt_analysis/rt_filter_map_plot.py'>"
      ]
     },
     "execution_count": 128,
     "metadata": {},
     "output_type": "execute_result"
    }
   ],
   "source": [
    "importlib.reload(rt_filter_map_plot)"
   ]
  },
  {
   "cell_type": "code",
   "execution_count": 129,
   "id": "5a5b6c49-e653-4363-a632-31699f91396a",
   "metadata": {
    "tags": []
   },
   "outputs": [
    {
     "name": "stdout",
     "output_type": "stream",
     "text": [
      "found parquet\n"
     ]
    }
   ],
   "source": [
    "sfmta = rt_analysis.rt_filter_map_plot.from_gcs(282, '2022-02-08')"
   ]
  },
  {
   "cell_type": "code",
   "execution_count": 144,
   "id": "762338cf-ece5-4ce5-ba82-22323469f01d",
   "metadata": {
    "tags": []
   },
   "outputs": [],
   "source": [
    "sfmta.set_filter(route_names=['49'])"
   ]
  },
  {
   "cell_type": "code",
   "execution_count": 145,
   "id": "48afa505-0ea0-496b-958e-a4e06e85ba06",
   "metadata": {
    "tags": []
   },
   "outputs": [
    {
     "data": {
      "text/plain": [
       "\u001b[0;31mSignature:\u001b[0m\n",
       "\u001b[0msfmta\u001b[0m\u001b[0;34m.\u001b[0m\u001b[0msegment_speed_map\u001b[0m\u001b[0;34m(\u001b[0m\u001b[0;34m\u001b[0m\n",
       "\u001b[0;34m\u001b[0m    \u001b[0msegments\u001b[0m\u001b[0;34m:\u001b[0m \u001b[0mstr\u001b[0m \u001b[0;34m=\u001b[0m \u001b[0;34m'stops'\u001b[0m\u001b[0;34m,\u001b[0m\u001b[0;34m\u001b[0m\n",
       "\u001b[0;34m\u001b[0m    \u001b[0mhow\u001b[0m\u001b[0;34m:\u001b[0m \u001b[0mstr\u001b[0m \u001b[0;34m=\u001b[0m \u001b[0;34m'low_speeds'\u001b[0m\u001b[0;34m,\u001b[0m\u001b[0;34m\u001b[0m\n",
       "\u001b[0;34m\u001b[0m    \u001b[0mcolorscale\u001b[0m\u001b[0;34m=\u001b[0m\u001b[0;34m<\u001b[0m\u001b[0mbranca\u001b[0m\u001b[0;34m.\u001b[0m\u001b[0mcolormap\u001b[0m\u001b[0;34m.\u001b[0m\u001b[0mStepColormap\u001b[0m \u001b[0mobject\u001b[0m \u001b[0mat\u001b[0m \u001b[0;36m0x7a4ac851dc90\u001b[0m\u001b[0;34m>\u001b[0m\u001b[0;34m,\u001b[0m\u001b[0;34m\u001b[0m\n",
       "\u001b[0;34m\u001b[0m    \u001b[0msize\u001b[0m\u001b[0;34m:\u001b[0m \u001b[0mlist\u001b[0m \u001b[0;34m=\u001b[0m \u001b[0;34m[\u001b[0m\u001b[0;36m900\u001b[0m\u001b[0;34m,\u001b[0m \u001b[0;36m550\u001b[0m\u001b[0;34m]\u001b[0m\u001b[0;34m,\u001b[0m\u001b[0;34m\u001b[0m\n",
       "\u001b[0;34m\u001b[0m    \u001b[0mno_title\u001b[0m\u001b[0;34m=\u001b[0m\u001b[0;32mFalse\u001b[0m\u001b[0;34m,\u001b[0m\u001b[0;34m\u001b[0m\n",
       "\u001b[0;34m\u001b[0m    \u001b[0mcorridor\u001b[0m\u001b[0;34m=\u001b[0m\u001b[0;32mFalse\u001b[0m\u001b[0;34m,\u001b[0m\u001b[0;34m\u001b[0m\n",
       "\u001b[0;34m\u001b[0m    \u001b[0mshn\u001b[0m\u001b[0;34m=\u001b[0m\u001b[0;32mFalse\u001b[0m\u001b[0;34m,\u001b[0m\u001b[0;34m\u001b[0m\n",
       "\u001b[0;34m\u001b[0m    \u001b[0mno_render\u001b[0m\u001b[0;34m=\u001b[0m\u001b[0;32mFalse\u001b[0m\u001b[0;34m,\u001b[0m\u001b[0;34m\u001b[0m\n",
       "\u001b[0;34m\u001b[0m\u001b[0;34m)\u001b[0m\u001b[0;34m\u001b[0m\u001b[0;34m\u001b[0m\u001b[0m\n",
       "\u001b[0;31mDocstring:\u001b[0m\n",
       "Generate a map of segment speeds aggregated across all trips for each shape, either as medians\n",
       "or 20th percentile speeds.\n",
       "\n",
       "segments: 'stops' or 'detailed' (detailed not yet implemented)\n",
       "how: 'median', 'low_speeds' (20%ile)\n",
       "colorscale: branca.colormap\n",
       "size: [x, y]\n",
       "no_title: don't show title in folium map\n",
       "corridor: if corridor set, only map segments relevant to that corridor\n",
       "shn: show state highway network\n",
       "no_render: don't remder map using folium, only store as self.detailed_map_view\n",
       "\u001b[0;31mFile:\u001b[0m      ~/data-analyses/rt_delay/rt_analysis/rt_filter_map_plot.py\n",
       "\u001b[0;31mType:\u001b[0m      method"
      ]
     },
     "metadata": {},
     "output_type": "display_data"
    }
   ],
   "source": [
    "sfmta.segment_speed_map?"
   ]
  },
  {
   "cell_type": "code",
   "execution_count": 332,
   "id": "b3452b81-c3be-4138-a487-795a187c64af",
   "metadata": {
    "tags": []
   },
   "outputs": [],
   "source": [
    "# sfmta.segment_speed_map()"
   ]
  },
  {
   "cell_type": "code",
   "execution_count": 147,
   "id": "7114e65b-3a32-4f84-9a26-86bb707d228e",
   "metadata": {
    "tags": []
   },
   "outputs": [
    {
     "data": {
      "text/plain": [
       "\u001b[0;31mSignature:\u001b[0m \u001b[0msfmta\u001b[0m\u001b[0;34m.\u001b[0m\u001b[0mautocorridor\u001b[0m\u001b[0;34m(\u001b[0m\u001b[0mshape_id\u001b[0m\u001b[0;34m:\u001b[0m \u001b[0mstr\u001b[0m\u001b[0;34m,\u001b[0m \u001b[0mstop_seq_range\u001b[0m\u001b[0;34m:\u001b[0m \u001b[0mlist\u001b[0m\u001b[0;34m,\u001b[0m \u001b[0mmanual_exclude\u001b[0m\u001b[0;34m=\u001b[0m\u001b[0;34m{\u001b[0m\u001b[0;34m}\u001b[0m\u001b[0;34m)\u001b[0m\u001b[0;34m\u001b[0m\u001b[0;34m\u001b[0m\u001b[0m\n",
       "\u001b[0;31mDocstring:\u001b[0m\n",
       "Defines a corridor for delay analysis using existing GTFS Shapes data,\n",
       "without the need for externally defining the corridor bounding box.\n",
       "Designed to be used alongside segment_speed_map in a notebook, i.e.\n",
       "by viewing speeds to decide on bounds and inputting the corresponding\n",
       "shape_id and stop sequence range. Attaches corridor for corridor maps/metrics.\n",
       "\n",
       "shape_id: string, GTFS shape_id\n",
       "stop_seq_range: list, containing 2 ints/floats, any order\n",
       "exclude_stops: stop_id to exclude manually (optional)\n",
       "\n",
       "example:\n",
       "shape_id = '27_3_87'\n",
       "stop_range = [16, 31]\n",
       "\n",
       "NOTE: last generated speedmap must include shape_id of interest for this to work\n",
       "\n",
       "manual_exclude: dict in {'shape': {'min': int, 'max': int}, ...} format (values are stop sequence)\n",
       "\u001b[0;31mFile:\u001b[0m      ~/data-analyses/rt_delay/rt_analysis/rt_filter_map_plot.py\n",
       "\u001b[0;31mType:\u001b[0m      method"
      ]
     },
     "metadata": {},
     "output_type": "display_data"
    }
   ],
   "source": [
    "sfmta.autocorridor?"
   ]
  },
  {
   "cell_type": "code",
   "execution_count": 205,
   "id": "3052fd3a-8f31-4dce-bf76-88e896607cf3",
   "metadata": {
    "tags": []
   },
   "outputs": [],
   "source": [
    "sfmta.autocorridor('194252', [27, 37])"
   ]
  },
  {
   "cell_type": "code",
   "execution_count": 206,
   "id": "6986a740-1b78-472d-b0ad-d0e5e93905cd",
   "metadata": {
    "tags": []
   },
   "outputs": [
    {
     "name": "stdout",
     "output_type": "stream",
     "text": [
      "metrics attached to self.corridor: \n"
     ]
    }
   ],
   "source": [
    "old_van_ness = sfmta.corridor_metrics()"
   ]
  },
  {
   "cell_type": "code",
   "execution_count": 291,
   "id": "b213a8aa-18bd-4588-bb09-9167051088f2",
   "metadata": {
    "tags": []
   },
   "outputs": [],
   "source": [
    "new_van_ness = corr_gdf.query('corridor_name == \"US101 Van Ness\" & schedule_gtfs_dataset_key_y == \"7cc0cb1871dfd558f11a2885c145d144\"')"
   ]
  },
  {
   "cell_type": "code",
   "execution_count": 226,
   "id": "ab9c3bd6-8bcc-4c7a-9c22-4bdaade8274b",
   "metadata": {
    "tags": []
   },
   "outputs": [
    {
     "data": {
      "text/html": [
       "<div>\n",
       "<style scoped>\n",
       "    .dataframe tbody tr th:only-of-type {\n",
       "        vertical-align: middle;\n",
       "    }\n",
       "\n",
       "    .dataframe tbody tr th {\n",
       "        vertical-align: top;\n",
       "    }\n",
       "\n",
       "    .dataframe thead th {\n",
       "        text-align: right;\n",
       "    }\n",
       "</style>\n",
       "<table border=\"1\" class=\"dataframe\">\n",
       "  <thead>\n",
       "    <tr style=\"text-align: right;\">\n",
       "      <th></th>\n",
       "      <th>route_id</th>\n",
       "      <th>route_short_name</th>\n",
       "      <th>organization</th>\n",
       "      <th>p20_corr_mph</th>\n",
       "      <th>p50_corr_mph</th>\n",
       "      <th>avg_corr_mph</th>\n",
       "      <th>speed_delay_minutes</th>\n",
       "      <th>total_speed_delay</th>\n",
       "      <th>p50_runtime_minutes</th>\n",
       "      <th>n_trips</th>\n",
       "      <th>span_hours</th>\n",
       "      <th>daily_avg_trips_hr</th>\n",
       "      <th>trips_added</th>\n",
       "      <th>new_avg_trips_hr</th>\n",
       "      <th>length_miles</th>\n",
       "      <th>distance_meters</th>\n",
       "      <th>target_mph</th>\n",
       "      <th>geometry</th>\n",
       "    </tr>\n",
       "  </thead>\n",
       "  <tbody>\n",
       "    <tr>\n",
       "      <th>0</th>\n",
       "      <td>49</td>\n",
       "      <td>49</td>\n",
       "      <td>MUNI</td>\n",
       "      <td>6.1</td>\n",
       "      <td>6.8</td>\n",
       "      <td>7.0</td>\n",
       "      <td>2103.1</td>\n",
       "      <td>2103.1</td>\n",
       "      <td>50.8</td>\n",
       "      <td>175</td>\n",
       "      <td>12.8</td>\n",
       "      <td>6.8</td>\n",
       "      <td>41.4</td>\n",
       "      <td>8.5</td>\n",
       "      <td>2.0</td>\n",
       "      <td>3234.5</td>\n",
       "      <td>16</td>\n",
       "      <td>POLYGON ((-213084.569 -22572.553, -213091.504 ...</td>\n",
       "    </tr>\n",
       "  </tbody>\n",
       "</table>\n",
       "</div>"
      ],
      "text/plain": [
       "  route_id route_short_name organization  p20_corr_mph  p50_corr_mph  \\\n",
       "0       49               49         MUNI           6.1           6.8   \n",
       "\n",
       "   avg_corr_mph  speed_delay_minutes  total_speed_delay  p50_runtime_minutes  \\\n",
       "0           7.0               2103.1             2103.1                 50.8   \n",
       "\n",
       "   n_trips  span_hours  daily_avg_trips_hr  trips_added  new_avg_trips_hr  \\\n",
       "0      175        12.8                 6.8         41.4               8.5   \n",
       "\n",
       "   length_miles  distance_meters  target_mph  \\\n",
       "0           2.0           3234.5          16   \n",
       "\n",
       "                                            geometry  \n",
       "0  POLYGON ((-213084.569 -22572.553, -213091.504 ...  "
      ]
     },
     "execution_count": 226,
     "metadata": {},
     "output_type": "execute_result"
    }
   ],
   "source": [
    "old_van_ness"
   ]
  },
  {
   "cell_type": "code",
   "execution_count": 227,
   "id": "017a42c4-edce-4aff-9b9d-c245b37da650",
   "metadata": {
    "tags": []
   },
   "outputs": [],
   "source": [
    "old_segments = sfmta.stop_segment_speed_view[sfmta.stop_segment_speed_view.corridor]"
   ]
  },
  {
   "cell_type": "code",
   "execution_count": 292,
   "id": "f7634e3e-92cc-4c37-a622-39a8a74e5b1e",
   "metadata": {
    "tags": []
   },
   "outputs": [
    {
     "data": {
      "text/html": [
       "<div>\n",
       "<style scoped>\n",
       "    .dataframe tbody tr th:only-of-type {\n",
       "        vertical-align: middle;\n",
       "    }\n",
       "\n",
       "    .dataframe tbody tr th {\n",
       "        vertical-align: top;\n",
       "    }\n",
       "\n",
       "    .dataframe thead th {\n",
       "        text-align: right;\n",
       "    }\n",
       "</style>\n",
       "<table border=\"1\" class=\"dataframe\">\n",
       "  <thead>\n",
       "    <tr style=\"text-align: right;\">\n",
       "      <th></th>\n",
       "      <th>schedule_gtfs_dataset_key_x</th>\n",
       "      <th>shape_array_key</th>\n",
       "      <th>shape_id</th>\n",
       "      <th>name</th>\n",
       "      <th>organization_source_record_id</th>\n",
       "      <th>geometry</th>\n",
       "      <th>corridor_distance_meters</th>\n",
       "      <th>corridor_id</th>\n",
       "      <th>corridor_name</th>\n",
       "      <th>schedule_gtfs_dataset_key_y</th>\n",
       "      <th>...</th>\n",
       "      <th>improved_corridor_seconds</th>\n",
       "      <th>delay_seconds</th>\n",
       "      <th>delay_minutes</th>\n",
       "      <th>route_short_name</th>\n",
       "      <th>route_id</th>\n",
       "      <th>median_corridor_mph</th>\n",
       "      <th>n_trips_daily</th>\n",
       "      <th>trips_hr_sch</th>\n",
       "      <th>corridor_miles</th>\n",
       "      <th>minutes_per_mile</th>\n",
       "    </tr>\n",
       "  </thead>\n",
       "  <tbody>\n",
       "    <tr>\n",
       "      <th>0</th>\n",
       "      <td>7cc0cb1871dfd558f11a2885c145d144</td>\n",
       "      <td>e66a1abc19b32a2e0768176fef0592b0</td>\n",
       "      <td>4953</td>\n",
       "      <td>Bay Area 511 Muni Schedule</td>\n",
       "      <td>rechaapWbeffO33OX</td>\n",
       "      <td>POLYGON ((-213199.450 -21493.302, -213199.452 ...</td>\n",
       "      <td>3093.087752</td>\n",
       "      <td>-8229464306598664376</td>\n",
       "      <td>US101 Van Ness</td>\n",
       "      <td>7cc0cb1871dfd558f11a2885c145d144</td>\n",
       "      <td>...</td>\n",
       "      <td>152832.6</td>\n",
       "      <td>410730.4</td>\n",
       "      <td>6845.5</td>\n",
       "      <td>[49, 90]</td>\n",
       "      <td>[49, 90]</td>\n",
       "      <td>8.1</td>\n",
       "      <td>320</td>\n",
       "      <td>[10.33, 2.0]</td>\n",
       "      <td>1.92196</td>\n",
       "      <td>3561.727909</td>\n",
       "    </tr>\n",
       "  </tbody>\n",
       "</table>\n",
       "<p>1 rows × 21 columns</p>\n",
       "</div>"
      ],
      "text/plain": [
       "        schedule_gtfs_dataset_key_x                   shape_array_key  \\\n",
       "0  7cc0cb1871dfd558f11a2885c145d144  e66a1abc19b32a2e0768176fef0592b0   \n",
       "\n",
       "  shape_id                        name organization_source_record_id  \\\n",
       "0     4953  Bay Area 511 Muni Schedule             rechaapWbeffO33OX   \n",
       "\n",
       "                                            geometry  \\\n",
       "0  POLYGON ((-213199.450 -21493.302, -213199.452 ...   \n",
       "\n",
       "   corridor_distance_meters          corridor_id   corridor_name  \\\n",
       "0               3093.087752 -8229464306598664376  US101 Van Ness   \n",
       "\n",
       "        schedule_gtfs_dataset_key_y  ...  improved_corridor_seconds  \\\n",
       "0  7cc0cb1871dfd558f11a2885c145d144  ...                   152832.6   \n",
       "\n",
       "   delay_seconds  delay_minutes  route_short_name  route_id  \\\n",
       "0       410730.4         6845.5          [49, 90]  [49, 90]   \n",
       "\n",
       "  median_corridor_mph  n_trips_daily  trips_hr_sch corridor_miles  \\\n",
       "0                 8.1            320  [10.33, 2.0]        1.92196   \n",
       "\n",
       "   minutes_per_mile  \n",
       "0       3561.727909  \n",
       "\n",
       "[1 rows x 21 columns]"
      ]
     },
     "execution_count": 292,
     "metadata": {},
     "output_type": "execute_result"
    }
   ],
   "source": [
    "new_van_ness"
   ]
  },
  {
   "cell_type": "code",
   "execution_count": 293,
   "id": "f15a8a0e-8394-4e22-b5cc-bf9806ed8b54",
   "metadata": {
    "tags": []
   },
   "outputs": [],
   "source": [
    "row = corr.iloc[3,:]"
   ]
  },
  {
   "cell_type": "code",
   "execution_count": 294,
   "id": "95122b9c-c7bc-4a42-b58a-20ed8a7954a2",
   "metadata": {
    "tags": []
   },
   "outputs": [
    {
     "data": {
      "text/plain": [
       "SHS Segment                         US101 Van Ness\n",
       "County                               San Francisco\n",
       "District                                         4\n",
       "Corridor Length (mi)                           NaN\n",
       "Transit Operators                     SFMTA (Muni)\n",
       "Treatments                                     NaN\n",
       "fwy_xpwy                                     False\n",
       "organization_source_record_id    rechaapWbeffO33OX\n",
       "start_segment_id                     18088-18089-1\n",
       "end_segment_id                       18096-16800-1\n",
       "shape_id                                      4953\n",
       "Notes                                          NaN\n",
       "Name: 3, dtype: object"
      ]
     },
     "execution_count": 294,
     "metadata": {},
     "output_type": "execute_result"
    }
   ],
   "source": [
    "row"
   ]
  },
  {
   "cell_type": "code",
   "execution_count": 295,
   "id": "9bb4ee11-637c-4ca8-8824-41ebe467ab2c",
   "metadata": {
    "tags": []
   },
   "outputs": [],
   "source": [
    "gdf = corridor_analysis.corridor_from_segments(speed_segments_gdf=detail,\n",
    "                                               organization_source_record_id=row.organization_source_record_id,\n",
    "                                               shape_id=row.shape_id,\n",
    "                                               start_seg_id=row.start_segment_id,\n",
    "                                               end_seg_id=row.end_segment_id)"
   ]
  },
  {
   "cell_type": "code",
   "execution_count": 305,
   "id": "b5338b33-8823-4468-bdc3-428da71e5cbf",
   "metadata": {
    "tags": []
   },
   "outputs": [],
   "source": [
    "corridor_trips = corridor_analysis.find_corridor_data(detail, gdf, st4)\n",
    "# corridor_results = corridor_analysis.analyze_corridor_trips(corridor_trips)"
   ]
  },
  {
   "cell_type": "code",
   "execution_count": 306,
   "id": "76b63963-4497-4bcb-8e14-661e99cdbca7",
   "metadata": {
    "tags": []
   },
   "outputs": [],
   "source": [
    "corridor_trips = corridor_trips.query('speed_mph <= 30')"
   ]
  },
  {
   "cell_type": "code",
   "execution_count": 307,
   "id": "7e263f4b-7f2c-4662-9fcd-9d34b7ff8b94",
   "metadata": {
    "tags": []
   },
   "outputs": [],
   "source": [
    "corridor_trips = corridor_trips.query('route_short_name == \"49\"')"
   ]
  },
  {
   "cell_type": "code",
   "execution_count": 308,
   "id": "b31adfc8-d721-4402-8666-1339c7a9a6e4",
   "metadata": {
    "tags": []
   },
   "outputs": [
    {
     "data": {
      "text/plain": [
       "Index(['shape_array_key', 'segment_id', 'geometry', 'trips_hr_sch',\n",
       "       'trip_instance_key', 'stop_sequence', 'stop_sequence1', 'stop_meters',\n",
       "       'arrival_time', 'arrival_time_sec', 'subseq_arrival_time_sec',\n",
       "       'subseq_stop_meters', 'meters_elapsed', 'sec_elapsed', 'speed_mph',\n",
       "       'schedule_gtfs_dataset_key', 'route_id', 'direction_id',\n",
       "       'route_short_name', 'scheduled_service_minutes', 'sched_rt_category',\n",
       "       'time_of_day', 'shape_id', 'stop_pair_name', 'stop_pair', 'corridor_id',\n",
       "       'shape_length'],\n",
       "      dtype='object')"
      ]
     },
     "execution_count": 308,
     "metadata": {},
     "output_type": "execute_result"
    }
   ],
   "source": [
    "corridor_trips.columns"
   ]
  },
  {
   "cell_type": "code",
   "execution_count": 309,
   "id": "4589dd07-1d4f-49af-b2d2-3595941619cd",
   "metadata": {
    "tags": []
   },
   "outputs": [],
   "source": [
    "old_segments = old_segments.query('speed_mph <= 30')"
   ]
  },
  {
   "cell_type": "code",
   "execution_count": 322,
   "id": "2a587596-34a2-4e0e-9e77-74e7ad1083ec",
   "metadata": {
    "tags": []
   },
   "outputs": [
    {
     "data": {
      "image/png": "[encoded data removed]",
      "text/plain": [
       "<Figure size 640x480 with 1 Axes>"
      ]
     },
     "metadata": {},
     "output_type": "display_data"
    }
   ],
   "source": [
    "fig = old_segments.speed_mph.hist(bins=30)"
   ]
  },
  {
   "cell_type": "code",
   "execution_count": 327,
   "id": "8aa98866-15a8-494b-a776-7f07830343ed",
   "metadata": {
    "tags": []
   },
   "outputs": [
    {
     "data": {
      "text/plain": [
       "<AxesSubplot:>"
      ]
     },
     "execution_count": 327,
     "metadata": {},
     "output_type": "execute_result"
    },
    {
     "data": {
      "image/png": "[encoded data removed]",
      "text/plain": [
       "<Figure size 640x480 with 1 Axes>"
      ]
     },
     "metadata": {},
     "output_type": "display_data"
    }
   ],
   "source": [
    "corridor_trips.speed_mph.hist(bins=30)"
   ]
  },
  {
   "cell_type": "code",
   "execution_count": 331,
   "id": "65de7cee-e38d-48c6-8733-4185439ca536",
   "metadata": {
    "tags": []
   },
   "outputs": [
    {
     "data": {
      "image/png": "[encoded data removed]",
      "text/plain": [
       "<Figure size 640x480 with 1 Axes>"
      ]
     },
     "metadata": {},
     "output_type": "display_data"
    }
   ],
   "source": [
    "import matplotlib.pyplot as plt\n",
    "\n",
    "plt.hist(old_segments['speed_mph'],  \n",
    "         alpha=0.5, # the transaparency parameter \n",
    "         label='feb 2022',\n",
    "         bins=20) \n",
    "  \n",
    "plt.hist(corridor_trips['speed_mph'], \n",
    "         alpha=0.5, \n",
    "         label='dec 2024',\n",
    "         bins=20) \n",
    "  \n",
    "plt.legend(loc='upper right') \n",
    "plt.title('Van Ness BRT segment speeds') \n",
    "plt.show()"
   ]
  },
  {
   "cell_type": "code",
   "execution_count": 317,
   "id": "3d9609e3-7a1f-4964-97af-250e3f0ec609",
   "metadata": {
    "tags": []
   },
   "outputs": [
    {
     "data": {
      "text/plain": [
       "310"
      ]
     },
     "execution_count": 317,
     "metadata": {},
     "output_type": "execute_result"
    }
   ],
   "source": [
    "len(corridor_trips.trip_instance_key.unique())"
   ]
  },
  {
   "cell_type": "code",
   "execution_count": 318,
   "id": "68483bde-6add-403b-a82c-3e2d9cc4d2ce",
   "metadata": {
    "tags": []
   },
   "outputs": [
    {
     "data": {
      "text/plain": [
       "182"
      ]
     },
     "execution_count": 318,
     "metadata": {},
     "output_type": "execute_result"
    }
   ],
   "source": [
    "len(old_segments.trip_key.unique())"
   ]
  },
  {
   "cell_type": "code",
   "execution_count": 252,
   "id": "c39b65a3-ee29-4188-b405-7c6cb0d69adb",
   "metadata": {
    "tags": []
   },
   "outputs": [
    {
     "data": {
      "text/plain": [
       "(2322, 25)"
      ]
     },
     "execution_count": 252,
     "metadata": {},
     "output_type": "execute_result"
    }
   ],
   "source": [
    "old_segments.shape"
   ]
  },
  {
   "cell_type": "code",
   "execution_count": 253,
   "id": "402e3457-44ff-4f65-9d6b-223a9b1850cf",
   "metadata": {
    "tags": []
   },
   "outputs": [
    {
     "data": {
      "text/plain": [
       "(15387, 27)"
      ]
     },
     "execution_count": 253,
     "metadata": {},
     "output_type": "execute_result"
    }
   ],
   "source": [
    "corridor_trips.shape"
   ]
  },
  {
   "cell_type": "code",
   "execution_count": 259,
   "id": "cd834b01-5e8a-438e-a6b1-841c23183d55",
   "metadata": {
    "tags": []
   },
   "outputs": [
    {
     "data": {
      "text/plain": [
       "(22,)"
      ]
     },
     "execution_count": 259,
     "metadata": {},
     "output_type": "execute_result"
    }
   ],
   "source": [
    "corridor_trips.segment_id.unique().shape"
   ]
  },
  {
   "cell_type": "code",
   "execution_count": 258,
   "id": "2c7c1382-a3e2-47f6-ab12-0a9820ed2511",
   "metadata": {
    "tags": []
   },
   "outputs": [
    {
     "data": {
      "text/plain": [
       "(29,)"
      ]
     },
     "execution_count": 258,
     "metadata": {},
     "output_type": "execute_result"
    }
   ],
   "source": [
    "old_segments.stop_sequence.unique().shape"
   ]
  }
 ],
 "metadata": {
  "kernelspec": {
   "display_name": "Python 3 (ipykernel)",
   "language": "python",
   "name": "python3"
  },
  "language_info": {
   "codemirror_mode": {
    "name": "ipython",
    "version": 3
   },
   "file_extension": ".py",
   "mimetype": "text/x-python",
   "name": "python",
   "nbconvert_exporter": "python",
   "pygments_lexer": "ipython3",
   "version": "3.11.6"
  },
  "widgets": {
   "application/vnd.jupyter.widget-state+json": {
    "state": {},
    "version_major": 2,
    "version_minor": 0
   }
  }
 },
 "nbformat": 4,
 "nbformat_minor": 5
}
