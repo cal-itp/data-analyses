{
 "cells": [
  {
   "cell_type": "code",
   "execution_count": null,
   "id": "d528f399-cf33-459e-b5dc-92e0b4ae389a",
   "metadata": {},
   "outputs": [],
   "source": [
    "import pandas as pd\n",
    "import geopandas as gpd\n",
    "\n",
    "from shared_utils import rt_utils, catalog_utils, rt_dates\n",
    "\n",
    "from calitp_data_analysis import get_fs, geography_utils\n",
    "from segment_speed_utils import helpers, time_series_utils, gtfs_schedule_wrangling, corridor_analysis\n",
    "from segment_speed_utils.project_vars import SCHED_GCS, SEGMENT_GCS, GTFS_DATA_DICT, analysis_date\n",
    "import numpy as np"
   ]
  },
  {
   "cell_type": "markdown",
   "id": "98c0881c-7012-446e-81e2-ebfb70e7a587",
   "metadata": {},
   "source": [
    "# Transit Priority on SHS Feb 2025\n",
    "\n",
    "## Methodology and Assumptions\n",
    "\n",
    "* manually create lists of corridors and hotspots based on speedmaps, judgement\n",
    "* find relevant trip data (segments) for each corridor, from the first segment that intersects the defined corridor to the last.\n",
    "* only keep routes that travel along the corridor for at least half of the corridor length (exclude cross-street routes)\n",
    "* exclude trips with apparent zero seconds in corridor, speeds above 80mph, speeds below the 5th or above the 95th percentile.\n",
    "* calculate speed and travel times for trips through corridor\n",
    "* for each trip, roughly estimate effects of transit priority\n",
    "    * corridors: either all trip speeds increase to 16mph if current conditions median speed less than 13.6mph, otherwise all trip speeds increase by 15%\n",
    "    * hotspots: all trips save 30 seconds of travel time through hotspot\n",
    "* track total daily trips and peak frequency across all routes\n",
    "* estimate average trip delay by dividing total minutes of delay by daily trip count\n",
    "* estimate rider delay for certain examples by multiplying average trip delay by ridership\n",
    "* \"minutes_per_mile\" is a metric created by dividing total daily minutes of delay by the length of the corridor, it's intended to provide a rough measure of delay intensity or cost-effectiveness"
   ]
  },
  {
   "cell_type": "code",
   "execution_count": null,
   "id": "ead443bd-d51c-49c0-a032-8e53fd591a50",
   "metadata": {
    "tags": []
   },
   "outputs": [],
   "source": [
    "import importlib\n",
    "importlib.reload(corridor_analysis)"
   ]
  },
  {
   "cell_type": "markdown",
   "id": "fb80931f-f02c-4933-bb0c-8deb698cc89a",
   "metadata": {},
   "source": [
    "## need trip-level (pre-aggregation) gdf to properly calculate metrics"
   ]
  },
  {
   "cell_type": "code",
   "execution_count": null,
   "id": "1f8fef26-bd35-4269-bba1-51bcc2fe4a76",
   "metadata": {
    "tags": []
   },
   "outputs": [],
   "source": [
    "segment_speeds = corridor_analysis.import_speedmap_segment_speeds(analysis_date)"
   ]
  },
  {
   "cell_type": "code",
   "execution_count": null,
   "id": "564a2053-972c-4e4d-8cb7-2643764b235e",
   "metadata": {
    "tags": []
   },
   "outputs": [],
   "source": [
    "frequencies = corridor_analysis.get_max_frequencies(segment_speeds)"
   ]
  },
  {
   "cell_type": "code",
   "execution_count": null,
   "id": "34d55973-57d6-40c7-ab4b-b2edb71363a6",
   "metadata": {
    "tags": []
   },
   "outputs": [],
   "source": [
    "trip_speeds = corridor_analysis.import_trip_speeds(analysis_date)"
   ]
  },
  {
   "cell_type": "markdown",
   "id": "a2057b2d-b1b9-4780-91e3-a2ba4c7ea48d",
   "metadata": {},
   "source": [
    "## corridor specification"
   ]
  },
  {
   "cell_type": "code",
   "execution_count": null,
   "id": "f894127b-313d-4931-8be0-03b5fd112478",
   "metadata": {
    "tags": []
   },
   "outputs": [],
   "source": [
    "# rt_utils.show_full_df(pd.read_parquet('../ca_transit_speed_maps/_rt_progress_2024-12-11.parquet').sort_values(['caltrans_district', 'organization_name']))"
   ]
  },
  {
   "cell_type": "markdown",
   "id": "d66850e3-583b-4fca-bc4d-8ed30dddaf44",
   "metadata": {},
   "source": [
    "## Corridor Measurements\n",
    "\n",
    "Previous logic:\n",
    "\n",
    "For each trip, get from the last stop before entering corridor to the first stop after exiting corridor. This was done on stop_sequence\n",
    "\n",
    "Now,\n",
    "\n",
    "* first sjoin with aggregated data (has geom). Sjoining on segments is equivalent to previous methodology, since it will yield the last stop before entry to the first stop after exiting...\n",
    "* avoid doing scheduled delay metric for now...\n",
    "* "
   ]
  },
  {
   "cell_type": "code",
   "execution_count": null,
   "id": "06ded344-41e1-46bb-9720-9d30f087d7ed",
   "metadata": {
    "tags": []
   },
   "outputs": [],
   "source": [
    "corr = pd.read_excel('./_temp/corr_hs.xlsx', sheet_name='Corridor Input')\n",
    "hs = pd.read_excel('./_temp/corr_hs.xlsx', sheet_name='Hotspot Input')\n",
    "corr = corr.astype({'start_segment_id': str, 'end_segment_id': str, 'shape_id':str})\n",
    "hs = hs.astype({'start_segment_id': str, 'end_segment_id': str, 'shape_id':str})"
   ]
  },
  {
   "cell_type": "code",
   "execution_count": null,
   "id": "be124b87-f373-425b-aba6-ce7261d8c7e8",
   "metadata": {
    "tags": []
   },
   "outputs": [],
   "source": [
    "row = corr.loc[15]"
   ]
  },
  {
   "cell_type": "code",
   "execution_count": null,
   "id": "321281ef-426b-4e83-b167-5d374eeae7a5",
   "metadata": {
    "tags": []
   },
   "outputs": [],
   "source": [
    "gdf = corridor_analysis.corridor_from_segments(speed_segments_gdf=segment_speeds,\n",
    "                                               organization_source_record_id=row.organization_source_record_id,\n",
    "                                               shape_id=row.shape_id,\n",
    "                                               start_seg_id=row.start_segment_id,\n",
    "                                               end_seg_id=row.end_segment_id)"
   ]
  },
  {
   "cell_type": "code",
   "execution_count": null,
   "id": "4082b626-4057-4cfc-a641-6041529b5080",
   "metadata": {
    "tags": []
   },
   "outputs": [],
   "source": [
    "corridor_trips = corridor_analysis.find_corridor_data(segment_speeds, gdf, trip_speeds)\n",
    "corridor_results = corridor_analysis.analyze_corridor_trips(corridor_trips)"
   ]
  },
  {
   "cell_type": "code",
   "execution_count": null,
   "id": "eb407313-5ea4-43d0-a2b7-bb2b41bf08b0",
   "metadata": {
    "tags": []
   },
   "outputs": [],
   "source": [
    "corridor_analysis.validate_corridor_routes(gdf, corridor_trips)"
   ]
  },
  {
   "cell_type": "code",
   "execution_count": null,
   "id": "8ff789bb-065e-4d7f-a350-9f64d07b66f8",
   "metadata": {
    "tags": []
   },
   "outputs": [],
   "source": [
    "corridor_improvements = corridor_analysis.analyze_corridor_improvements(corridor_results, **{'trip_mph_floor': 16, 'trip_percent_speedup': 15})"
   ]
  },
  {
   "cell_type": "code",
   "execution_count": null,
   "id": "6fd6c78f-16c2-4291-84d8-06a94e47a1b5",
   "metadata": {
    "tags": []
   },
   "outputs": [],
   "source": [
    "corridor_improvements.head(3)"
   ]
  },
  {
   "cell_type": "code",
   "execution_count": null,
   "id": "d467de42-37f4-4457-8326-35d2260161df",
   "metadata": {
    "tags": []
   },
   "outputs": [],
   "source": [
    "summarized = corridor_analysis.summarize_corridor_improvements(corridor_improvements, frequencies)"
   ]
  },
  {
   "cell_type": "code",
   "execution_count": null,
   "id": "c97317c0-b434-40e8-aa7b-2cd0b5ca6417",
   "metadata": {
    "tags": []
   },
   "outputs": [],
   "source": [
    "summarized"
   ]
  },
  {
   "cell_type": "code",
   "execution_count": null,
   "id": "491f3623-c5c5-415e-bdf4-b7d90101b873",
   "metadata": {
    "tags": []
   },
   "outputs": [],
   "source": [
    "# corr_gdf = corridor_from_sheet(corr, intervention_dict={'trip_mph_floor': 16, 'trip_percent_speedup': 15}, fwy_xpwy_floor = 35)\n",
    "corr_gdf = corridor_analysis.corridor_from_sheet(corr,\n",
    "                                                 segment_speeds,\n",
    "                                                 trip_speeds,\n",
    "                                                 frequencies,\n",
    "                                                 intervention_dict={'trip_mph_floor': 16, 'trip_percent_speedup': 15},\n",
    "                                                 fwy_xpwy_floor = 35)"
   ]
  },
  {
   "cell_type": "code",
   "execution_count": null,
   "id": "26a7ce78-8ca5-488e-8485-ec38481a8164",
   "metadata": {
    "tags": []
   },
   "outputs": [],
   "source": [
    "corr_gdf.to_excel('corridors.xlsx')"
   ]
  },
  {
   "cell_type": "code",
   "execution_count": null,
   "id": "81c8f10f-f67e-48b0-bd0e-116b588e6cee",
   "metadata": {
    "tags": []
   },
   "outputs": [],
   "source": [
    "corr_gdf.to_file(f'corridors_{analysis_date}.geojson')"
   ]
  },
  {
   "cell_type": "code",
   "execution_count": null,
   "id": "7f312270-5005-4a55-9264-f6675fa073af",
   "metadata": {
    "tags": []
   },
   "outputs": [],
   "source": [
    "# corr_gdf.iloc[1:,:].explore(column='minutes_per_mile')"
   ]
  },
  {
   "cell_type": "code",
   "execution_count": null,
   "id": "86a47c87-8c94-4acd-95f2-456f29802423",
   "metadata": {
    "tags": []
   },
   "outputs": [],
   "source": [
    "hs_gdf = corridor_analysis.corridor_from_sheet(hs,\n",
    "                             segment_speeds,\n",
    "                             trip_speeds,\n",
    "                             frequencies,\n",
    "                             intervention_dict={'trip_seconds_saved': 30})"
   ]
  },
  {
   "cell_type": "code",
   "execution_count": null,
   "id": "d02fd260-4100-4ff9-aab5-3046da5f6ff6",
   "metadata": {
    "tags": []
   },
   "outputs": [],
   "source": [
    "hs_gdf.to_excel('hotspots.xlsx')"
   ]
  },
  {
   "cell_type": "code",
   "execution_count": null,
   "id": "ca4c2e30-618c-4a4a-b886-0eae4b59065b",
   "metadata": {
    "tags": []
   },
   "outputs": [],
   "source": [
    "hs_gdf.to_file(f'hotspots_{analysis_date}.geojson')"
   ]
  },
  {
   "cell_type": "markdown",
   "id": "fb9a8f59-90e8-4b56-a8e9-edecd8896c6d",
   "metadata": {
    "tags": []
   },
   "source": [
    "## Discussion\n",
    "\n",
    "* Which other metrics?\n",
    "\n",
    "after screening:\n",
    "\n",
    "ridership/person-hours of delay\n",
    "accessibility, equity\n",
    "\n",
    "* Is our list complete?\n",
    "\n",
    "Include Tempo, Van Ness, can we compare?\n",
    "\n",
    "* Exclude routes where necessary (current corridor join is just spatial...)\n",
    "\n",
    "* Add location-specific interventions, and [guidance](https://caltrans.sharepoint.com/:w:/s/DOTPMPHQ-DataandDigitalServices/EdG0YNQcQMBJmKncAuNva9wBjpxVq2sD8p3C5azumXFNRA?e=TO7CbB)\n",
    "\n",
    "* How much should we focus on freeways?\n",
    "\n",
    "Yes, include (Bay Bridge, others, SDMTS freeway service, launch service with new HOT...)\n",
    "\n",
    "District transit plans, express/rapid on freeways...?"
   ]
  },
  {
   "cell_type": "markdown",
   "id": "7dc41027-136b-4fb2-bf99-2a82e2eb79d4",
   "metadata": {},
   "source": [
    "## webmaps"
   ]
  },
  {
   "cell_type": "code",
   "execution_count": null,
   "id": "17eff5f1-e92c-4903-9dbe-72dc0da36c15",
   "metadata": {
    "tags": []
   },
   "outputs": [],
   "source": [
    "rt_utils.set_state_export?"
   ]
  },
  {
   "cell_type": "code",
   "execution_count": null,
   "id": "0cb0dbe6-19fe-4055-bd1c-23163b0693c3",
   "metadata": {
    "tags": []
   },
   "outputs": [],
   "source": [
    "import branca"
   ]
  },
  {
   "cell_type": "code",
   "execution_count": null,
   "id": "82da91b5-672b-4f05-b3d4-bb1c393d2d97",
   "metadata": {
    "tags": []
   },
   "outputs": [],
   "source": [
    "import sys\n",
    "sys.path.append('../ca_transit_speed_maps/')"
   ]
  },
  {
   "cell_type": "code",
   "execution_count": null,
   "id": "cd4b839e-a19e-4c38-9304-bd059f3446a4",
   "metadata": {
    "tags": []
   },
   "outputs": [],
   "source": [
    "import export_legends"
   ]
  },
  {
   "cell_type": "code",
   "execution_count": null,
   "id": "5dda676e-cf27-4b5d-9767-e45b2630c0f8",
   "metadata": {
    "tags": []
   },
   "outputs": [],
   "source": [
    "# colors = branca.colormap.step.Reds_08.colors[3:]\n",
    "# cmap = branca.colormap.LinearColormap(colors=colors).to_step(data=corr_gdf.iloc[1:,:].delay_minutes, method='quant', n=5)"
   ]
  },
  {
   "cell_type": "code",
   "execution_count": null,
   "id": "0044b1b9-0e69-423f-8b78-7865697788dd",
   "metadata": {
    "tags": []
   },
   "outputs": [],
   "source": [
    "# corr_gdf.iloc[1:,:].explore(cmap=cmap, column='delay_minutes')"
   ]
  },
  {
   "cell_type": "code",
   "execution_count": null,
   "id": "9e87cd40-87be-470f-b096-1802cc49d924",
   "metadata": {},
   "outputs": [],
   "source": [
    "labels = [int(x) for x in cmap.tick_labels[1:-1]]\n",
    "export_legends.export_legend(cmap, filename='transit_delay_quantiles.svg', inner_labels=labels)"
   ]
  },
  {
   "cell_type": "code",
   "execution_count": null,
   "id": "1813bbc2-300f-4202-8230-6de68194763b",
   "metadata": {
    "tags": []
   },
   "outputs": [],
   "source": [
    "# colors = branca.colormap.step.Reds_08.colors[3:]\n",
    "# cmap = branca.colormap.LinearColormap(colors=colors).to_step(data=hs_gdf.delay_minutes, method='quant', n=5)\n",
    "# hs_gdf.explore(cmap=cmap, column='delay_minutes')"
   ]
  },
  {
   "cell_type": "code",
   "execution_count": null,
   "id": "d4c91e32-75c6-4e63-8fb8-00d4358a54d4",
   "metadata": {
    "tags": []
   },
   "outputs": [],
   "source": [
    "labels = [int(x) for x in cmap.tick_labels[1:-1]]\n",
    "export_legends.export_legend(cmap, filename='transit_delay_quantiles_hs.svg', inner_labels=labels)"
   ]
  },
  {
   "cell_type": "code",
   "execution_count": null,
   "id": "99265826-0703-4339-84e2-1e9d4b345bf9",
   "metadata": {
    "tags": []
   },
   "outputs": [],
   "source": [
    "shn = gpd.read_parquet(rt_utils.SHN_PATH)"
   ]
  },
  {
   "cell_type": "code",
   "execution_count": null,
   "id": "004cc571-e318-4c72-84c1-cbeb75cf2771",
   "metadata": {
    "tags": []
   },
   "outputs": [],
   "source": [
    "drop_van_ness = corr_gdf.iloc[1:,:]"
   ]
  },
  {
   "cell_type": "code",
   "execution_count": null,
   "id": "d7db6e40-1e6e-4c42-bdc9-24bcab2fd9e9",
   "metadata": {
    "tags": []
   },
   "outputs": [],
   "source": [
    "drop_van_ness.columns"
   ]
  },
  {
   "cell_type": "code",
   "execution_count": null,
   "id": "aaddf846-e3cc-473e-8514-22662e4345ce",
   "metadata": {
    "tags": []
   },
   "outputs": [],
   "source": [
    "gdf = drop_van_ness.drop(columns=['corridor_id', 'intervention_assumption']).rename(columns={'trips_per_hr_peak_directional': 'trips/hr'})"
   ]
  },
  {
   "cell_type": "code",
   "execution_count": null,
   "id": "114dc55f-2e91-400d-902b-bd1a213b72c7",
   "metadata": {
    "tags": []
   },
   "outputs": [],
   "source": [
    "export_result = rt_utils.set_state_export(shn, subfolder = 'transit_delay/', filename = 'shn',\n",
    "                    map_type = 'state_highway_network')\n",
    "shn_state = export_result['state_dict']"
   ]
  },
  {
   "cell_type": "code",
   "execution_count": null,
   "id": "1c28fe98-c3be-4321-ac5d-1a9be3413b26",
   "metadata": {
    "tags": []
   },
   "outputs": [],
   "source": [
    "export_result = rt_utils.set_state_export(\n",
    "    gdf, subfolder = 'transit_delay/', filename=f'corridors_{analysis_date}',\n",
    "    color_col='delay_minutes', cmap=cmap, legend_url=\"https://storage.googleapis.com/calitp-map-tiles/transit_delay_quantiles.svg\",\n",
    "    map_title='Corridor Transit Delay Dec 2024 (total daily vehicle-minutes)',\n",
    "    existing_state = shn_state)"
   ]
  },
  {
   "cell_type": "code",
   "execution_count": null,
   "id": "207456ae-fe1e-4769-b9ca-508615223510",
   "metadata": {
    "tags": []
   },
   "outputs": [],
   "source": [
    "export_result"
   ]
  },
  {
   "cell_type": "code",
   "execution_count": null,
   "id": "5c1f25bb-4eac-4e36-b30a-905464cb809b",
   "metadata": {
    "tags": []
   },
   "outputs": [],
   "source": [
    "gdf2 = hs_gdf.drop(columns=['corridor_id', 'intervention_assumption']).rename(columns={'trips_per_hr_peak_directional': 'trips/hr'})"
   ]
  },
  {
   "cell_type": "code",
   "execution_count": null,
   "id": "bc86e79a-351c-4fcf-a0e0-01ea6be34bb5",
   "metadata": {
    "tags": []
   },
   "outputs": [],
   "source": [
    "export_result = rt_utils.set_state_export(shn, subfolder = 'transit_delay/', filename = 'shn',\n",
    "                    map_type = 'state_highway_network')\n",
    "shn_state = export_result['state_dict']"
   ]
  },
  {
   "cell_type": "code",
   "execution_count": null,
   "id": "325ebb80-ba14-40c6-9c81-dfcf6b468333",
   "metadata": {
    "tags": []
   },
   "outputs": [],
   "source": [
    "export_result = rt_utils.set_state_export(\n",
    "    gdf2, subfolder = 'transit_delay/', filename=f'hotspots2_{analysis_date}',\n",
    "    color_col='delay_minutes', cmap=cmap, legend_url=\"https://storage.googleapis.com/calitp-map-tiles/transit_delay_quantiles_hs.svg\",\n",
    "    map_title='Hotspot Transit Delay Dec 2024 (total daily vehicle-minutes)',\n",
    "    existing_state = shn_state)"
   ]
  },
  {
   "cell_type": "code",
   "execution_count": null,
   "id": "fbfaccc7-c278-401e-bf5b-a105d0133ba0",
   "metadata": {
    "tags": []
   },
   "outputs": [],
   "source": [
    "export_result"
   ]
  },
  {
   "cell_type": "markdown",
   "id": "caefcd2b-4f30-4ae8-b532-0b5c6ccf9458",
   "metadata": {},
   "source": [
    "## bespoke van ness\n",
    "\n",
    "* v2 warehouse doesn't include RT before Sep 2022, and Van Ness opened Apr 2022\n",
    "* get old rt_analysis code working"
   ]
  },
  {
   "cell_type": "code",
   "execution_count": null,
   "id": "d2e72d64-d352-4163-af2a-a49e4abde6d5",
   "metadata": {},
   "outputs": [],
   "source": [
    "old_sfmta = gpd.read_parquet('gs://calitp-analytics-data/data-analyses/rt_delay/stop_delay_views/282_2022-02-08.parquet')"
   ]
  },
  {
   "cell_type": "code",
   "execution_count": null,
   "id": "254181ce-d6e1-43a7-82b4-2ebd5968e0f4",
   "metadata": {
    "tags": []
   },
   "outputs": [],
   "source": [
    "import rt_analysis"
   ]
  },
  {
   "cell_type": "code",
   "execution_count": null,
   "id": "a95bf330-2595-4be6-a323-6cc627ac5d74",
   "metadata": {
    "tags": []
   },
   "outputs": [],
   "source": [
    "rt_analysis.rt_filter_map_plot.from_gcs?"
   ]
  },
  {
   "cell_type": "code",
   "execution_count": null,
   "id": "794cbc66-d477-4665-8738-0b5be3be4436",
   "metadata": {
    "tags": []
   },
   "outputs": [],
   "source": [
    "from rt_analysis import rt_filter_map_plot"
   ]
  },
  {
   "cell_type": "code",
   "execution_count": null,
   "id": "5d8da1ec-b717-4fe1-9271-65387b4eae82",
   "metadata": {
    "tags": []
   },
   "outputs": [],
   "source": [
    "importlib.reload(rt_filter_map_plot)"
   ]
  },
  {
   "cell_type": "code",
   "execution_count": null,
   "id": "5a5b6c49-e653-4363-a632-31699f91396a",
   "metadata": {
    "tags": []
   },
   "outputs": [],
   "source": [
    "sfmta = rt_analysis.rt_filter_map_plot.from_gcs(282, '2022-02-08')"
   ]
  },
  {
   "cell_type": "code",
   "execution_count": null,
   "id": "762338cf-ece5-4ce5-ba82-22323469f01d",
   "metadata": {
    "tags": []
   },
   "outputs": [],
   "source": [
    "sfmta.set_filter(route_names=['49'])"
   ]
  },
  {
   "cell_type": "code",
   "execution_count": null,
   "id": "48afa505-0ea0-496b-958e-a4e06e85ba06",
   "metadata": {
    "tags": []
   },
   "outputs": [],
   "source": [
    "sfmta.segment_speed_map?"
   ]
  },
  {
   "cell_type": "code",
   "execution_count": null,
   "id": "b3452b81-c3be-4138-a487-795a187c64af",
   "metadata": {
    "tags": []
   },
   "outputs": [],
   "source": [
    "sfmta.segment_speed_map()"
   ]
  },
  {
   "cell_type": "code",
   "execution_count": null,
   "id": "7114e65b-3a32-4f84-9a26-86bb707d228e",
   "metadata": {
    "tags": []
   },
   "outputs": [],
   "source": [
    "sfmta.autocorridor?"
   ]
  },
  {
   "cell_type": "code",
   "execution_count": null,
   "id": "3052fd3a-8f31-4dce-bf76-88e896607cf3",
   "metadata": {
    "tags": []
   },
   "outputs": [],
   "source": [
    "sfmta.autocorridor('194252', [27, 37])"
   ]
  },
  {
   "cell_type": "code",
   "execution_count": null,
   "id": "6986a740-1b78-472d-b0ad-d0e5e93905cd",
   "metadata": {
    "tags": []
   },
   "outputs": [],
   "source": [
    "old_van_ness = sfmta.corridor_metrics()"
   ]
  },
  {
   "cell_type": "code",
   "execution_count": null,
   "id": "b213a8aa-18bd-4588-bb09-9167051088f2",
   "metadata": {
    "tags": []
   },
   "outputs": [],
   "source": [
    "new_van_ness = corr_gdf.query('corridor_name == \"US101 Van Ness\"')"
   ]
  },
  {
   "cell_type": "code",
   "execution_count": null,
   "id": "ab9c3bd6-8bcc-4c7a-9c22-4bdaade8274b",
   "metadata": {
    "tags": []
   },
   "outputs": [],
   "source": [
    "old_van_ness"
   ]
  },
  {
   "cell_type": "code",
   "execution_count": null,
   "id": "7e198be1-3c87-4d82-99d6-b651ffb91c59",
   "metadata": {
    "tags": []
   },
   "outputs": [],
   "source": [
    "sfmta.segment_speed_map(corridor=True, no_render=True)"
   ]
  },
  {
   "cell_type": "code",
   "execution_count": null,
   "id": "017a42c4-edce-4aff-9b9d-c245b37da650",
   "metadata": {
    "tags": []
   },
   "outputs": [],
   "source": [
    "old_segments = sfmta.stop_segment_speed_view[sfmta.stop_segment_speed_view.corridor]"
   ]
  },
  {
   "cell_type": "code",
   "execution_count": null,
   "id": "f7634e3e-92cc-4c37-a622-39a8a74e5b1e",
   "metadata": {
    "tags": []
   },
   "outputs": [],
   "source": [
    "new_van_ness"
   ]
  },
  {
   "cell_type": "code",
   "execution_count": null,
   "id": "f15a8a0e-8394-4e22-b5cc-bf9806ed8b54",
   "metadata": {
    "tags": []
   },
   "outputs": [],
   "source": [
    "row = corr.iloc[3,:]"
   ]
  },
  {
   "cell_type": "code",
   "execution_count": null,
   "id": "95122b9c-c7bc-4a42-b58a-20ed8a7954a2",
   "metadata": {
    "tags": []
   },
   "outputs": [],
   "source": [
    "row"
   ]
  },
  {
   "cell_type": "code",
   "execution_count": null,
   "id": "9bb4ee11-637c-4ca8-8824-41ebe467ab2c",
   "metadata": {
    "tags": []
   },
   "outputs": [],
   "source": [
    "gdf = corridor_analysis.corridor_from_segments(speed_segments_gdf=segment_speeds,\n",
    "                                               organization_source_record_id=row.organization_source_record_id,\n",
    "                                               shape_id=row.shape_id,\n",
    "                                               start_seg_id=row.start_segment_id,\n",
    "                                               end_seg_id=row.end_segment_id)"
   ]
  },
  {
   "cell_type": "code",
   "execution_count": null,
   "id": "b5338b33-8823-4468-bdc3-428da71e5cbf",
   "metadata": {
    "tags": []
   },
   "outputs": [],
   "source": [
    "corridor_trips = corridor_analysis.find_corridor_data(segment_speeds, gdf, trip_speeds)\n",
    "corridor_results = corridor_analysis.analyze_corridor_trips(corridor_trips)"
   ]
  },
  {
   "cell_type": "code",
   "execution_count": null,
   "id": "6b6358d6-377c-4f6e-ab1f-61be86ab0007",
   "metadata": {
    "tags": []
   },
   "outputs": [],
   "source": [
    "corridor_results.corridor_speed_mph.median()"
   ]
  },
  {
   "cell_type": "code",
   "execution_count": null,
   "id": "ac5eb76d-6fb0-4b15-bcc5-4195b915c451",
   "metadata": {
    "tags": []
   },
   "outputs": [],
   "source": [
    "(8.4 - 6.8) / 6.8"
   ]
  },
  {
   "cell_type": "code",
   "execution_count": null,
   "id": "76b63963-4497-4bcb-8e14-661e99cdbca7",
   "metadata": {
    "tags": []
   },
   "outputs": [],
   "source": [
    "corridor_trips = corridor_trips.query('speed_mph <= 30 & speed_mph > speed_mph.quantile(.05)')"
   ]
  },
  {
   "cell_type": "code",
   "execution_count": null,
   "id": "7e263f4b-7f2c-4662-9fcd-9d34b7ff8b94",
   "metadata": {
    "tags": []
   },
   "outputs": [],
   "source": [
    "corridor_trips = corridor_trips.query('route_short_name == \"49\"')"
   ]
  },
  {
   "cell_type": "code",
   "execution_count": null,
   "id": "b31adfc8-d721-4402-8666-1339c7a9a6e4",
   "metadata": {
    "tags": []
   },
   "outputs": [],
   "source": [
    "corridor_trips.columns"
   ]
  },
  {
   "cell_type": "code",
   "execution_count": null,
   "id": "4589dd07-1d4f-49af-b2d2-3595941619cd",
   "metadata": {
    "tags": []
   },
   "outputs": [],
   "source": [
    "old_segments = old_segments.query('speed_mph <= 30')"
   ]
  },
  {
   "cell_type": "code",
   "execution_count": null,
   "id": "65de7cee-e38d-48c6-8733-4185439ca536",
   "metadata": {
    "tags": []
   },
   "outputs": [],
   "source": [
    "import matplotlib.pyplot as plt\n",
    "\n",
    "plt.hist(old_segments['speed_mph'],  \n",
    "         alpha=0.5, # the transaparency parameter \n",
    "         label='Feb 2022',\n",
    "         bins=20) \n",
    "  \n",
    "plt.hist(corridor_trips['speed_mph'], \n",
    "         alpha=0.5, \n",
    "         label='Feb 2023',\n",
    "         bins=20) \n",
    "  \n",
    "plt.legend(loc='upper right') \n",
    "plt.title('Van Ness BRT segment speeds')\n",
    "plt.xlabel('Speed (mph)')\n",
    "plt.ylabel('Trips (count)')\n",
    "plt.show()"
   ]
  },
  {
   "cell_type": "code",
   "execution_count": null,
   "id": "55a57259-3350-485d-9735-e29dae093dfc",
   "metadata": {},
   "outputs": [],
   "source": []
  }
 ],
 "metadata": {
  "kernelspec": {
   "display_name": "Python 3 (ipykernel)",
   "language": "python",
   "name": "python3"
  },
  "language_info": {
   "codemirror_mode": {
    "name": "ipython",
    "version": 3
   },
   "file_extension": ".py",
   "mimetype": "text/x-python",
   "name": "python",
   "nbconvert_exporter": "python",
   "pygments_lexer": "ipython3",
   "version": "3.11.6"
  },
  "widgets": {
   "application/vnd.jupyter.widget-state+json": {
    "state": {},
    "version_major": 2,
    "version_minor": 0
   }
  }
 },
 "nbformat": 4,
 "nbformat_minor": 5
}
