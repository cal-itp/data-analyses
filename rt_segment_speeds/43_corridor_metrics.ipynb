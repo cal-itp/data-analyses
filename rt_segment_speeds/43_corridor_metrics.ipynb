{
 "cells": [
  {
   "cell_type": "code",
   "execution_count": 53,
   "id": "d528f399-cf33-459e-b5dc-92e0b4ae389a",
   "metadata": {},
   "outputs": [],
   "source": [
    "import pandas as pd\n",
    "import geopandas as gpd\n",
    "from siuba import *\n",
    "import shared_utils\n",
    "\n",
    "from calitp_data_analysis import get_fs, geography_utils\n",
    "from segment_speed_utils import helpers, time_series_utils, gtfs_schedule_wrangling\n",
    "from segment_speed_utils.project_vars import SCHED_GCS, SEGMENT_GCS, GTFS_DATA_DICT, analysis_date"
   ]
  },
  {
   "cell_type": "markdown",
   "id": "82c092ac-157e-435c-be60-2f86a11a996e",
   "metadata": {},
   "source": [
    "i'd start with 5, checking if the columns you want are already there in this file (saved out at the end of stop_arrivals_to_speed, and is a speeds by trip table for that day)"
   ]
  },
  {
   "cell_type": "code",
   "execution_count": 2,
   "id": "6cd318e5-5c4e-4249-b158-232f4d940770",
   "metadata": {},
   "outputs": [],
   "source": [
    "catalog = shared_utils.catalog_utils.get_catalog('gtfs_analytics_data')"
   ]
  },
  {
   "cell_type": "code",
   "execution_count": 3,
   "id": "6e86c1a8-d3de-4fc6-9478-c03133b6745c",
   "metadata": {},
   "outputs": [
    {
     "data": {
      "text/plain": [
       "{'dir': '${gcs_paths.SEGMENT_GCS}', 'stage1': '${speeds_tables.vp_dwell}', 'proxy_stop_times': 'stop_time_expansion/speedmap_stop_times', 'stage2': 'nearest/nearest_vp_speedmap_proxy', 'stage3': 'speedmap/stop_arrivals_proxy', 'stage3b': 'speedmap/stop_arrivals', 'stage4': 'speedmap/speeds', 'trip_stop_cols': ['trip_instance_key', 'stop_sequence', 'stop_sequence1'], 'shape_stop_cols': ['shape_array_key', 'shape_id'], 'stop_pair_cols': ['stop_pair', 'stop_pair_name', 'segment_id'], 'route_dir_cols': ['route_id', 'direction_id'], 'segments_file': 'segment_options/speedmap_segments', 'shape_stop_single_segment': 'rollup_singleday/speeds_shape_speedmap_segments', 'shape_stop_single_segment_detail': 'rollup_singleday/speeds_shape_speedmap_segments_detail', 'route_dir_single_segment': 'rollup_singleday/speeds_route_dir_speedmap_segments', 'route_dir_multi_segment': 'rollup_multiday/speeds_route_dir_speedmap_segments', 'min_trip_minutes': '${speed_vars.time_min_cutoff}', 'max_trip_minutes': 180, 'max_speed': '${speed_vars.max_speed}', 'min_meters_elapsed': 1609, 'segment_meters': 1000}"
      ]
     },
     "execution_count": 3,
     "metadata": {},
     "output_type": "execute_result"
    }
   ],
   "source": [
    "catalog.speedmap_segments"
   ]
  },
  {
   "cell_type": "code",
   "execution_count": 4,
   "id": "f766b50a-c70d-4681-992c-d7f8979ada69",
   "metadata": {},
   "outputs": [
    {
     "data": {
      "text/plain": [
       "'2024-12-11'"
      ]
     },
     "execution_count": 4,
     "metadata": {},
     "output_type": "execute_result"
    }
   ],
   "source": [
    "analysis_date"
   ]
  },
  {
   "cell_type": "code",
   "execution_count": 5,
   "id": "b4dd7af7-0cfa-4d94-a96d-f11e7cdc12f9",
   "metadata": {},
   "outputs": [],
   "source": [
    "# path = f'{catalog.speedmap_segments.dir}{catalog.speedmap_segments.stage4}_{analysis_date}.parquet'"
   ]
  },
  {
   "cell_type": "code",
   "execution_count": 6,
   "id": "12b824f2-4326-4f5e-ae86-95a46703c948",
   "metadata": {},
   "outputs": [],
   "source": [
    "path = f'{catalog.speedmap_segments.dir}{catalog.speedmap_segments.shape_stop_single_segment_detail}_{analysis_date}.parquet'"
   ]
  },
  {
   "cell_type": "code",
   "execution_count": 7,
   "id": "2743cbe7-b472-4ea2-af08-13d2003e93db",
   "metadata": {},
   "outputs": [
    {
     "data": {
      "text/plain": [
       "'gs://calitp-analytics-data/data-analyses/rt_segment_speeds/rollup_singleday/speeds_shape_speedmap_segments_detail_2024-12-11.parquet'"
      ]
     },
     "execution_count": 7,
     "metadata": {},
     "output_type": "execute_result"
    }
   ],
   "source": [
    "path"
   ]
  },
  {
   "cell_type": "code",
   "execution_count": 8,
   "id": "7669d09d-c49e-448c-b57a-299112614bd0",
   "metadata": {},
   "outputs": [],
   "source": [
    "detail = gpd.read_parquet(path)"
   ]
  },
  {
   "cell_type": "code",
   "execution_count": 9,
   "id": "ddf376af-9781-4943-b0d7-5f5418e07735",
   "metadata": {},
   "outputs": [
    {
     "data": {
      "text/html": [
       "<div>\n",
       "<style scoped>\n",
       "    .dataframe tbody tr th:only-of-type {\n",
       "        vertical-align: middle;\n",
       "    }\n",
       "\n",
       "    .dataframe tbody tr th {\n",
       "        vertical-align: top;\n",
       "    }\n",
       "\n",
       "    .dataframe thead th {\n",
       "        text-align: right;\n",
       "    }\n",
       "</style>\n",
       "<table border=\"1\" class=\"dataframe\">\n",
       "  <thead>\n",
       "    <tr style=\"text-align: right;\">\n",
       "      <th></th>\n",
       "      <th>schedule_gtfs_dataset_key</th>\n",
       "      <th>shape_array_key</th>\n",
       "      <th>shape_id</th>\n",
       "      <th>route_id</th>\n",
       "      <th>direction_id</th>\n",
       "      <th>stop_pair</th>\n",
       "      <th>stop_pair_name</th>\n",
       "      <th>segment_id</th>\n",
       "      <th>time_of_day</th>\n",
       "      <th>p50_mph</th>\n",
       "      <th>...</th>\n",
       "      <th>p80_mph</th>\n",
       "      <th>name</th>\n",
       "      <th>caltrans_district</th>\n",
       "      <th>organization_source_record_id</th>\n",
       "      <th>organization_name</th>\n",
       "      <th>base64_url</th>\n",
       "      <th>geometry</th>\n",
       "      <th>n_trips_sch</th>\n",
       "      <th>trips_hr_sch</th>\n",
       "      <th>route_short_name</th>\n",
       "    </tr>\n",
       "  </thead>\n",
       "  <tbody>\n",
       "    <tr>\n",
       "      <th>0</th>\n",
       "      <td>015d67d5b75b5cf2b710bbadadfb75f5</td>\n",
       "      <td>43f0d67e5131502a51f9330e04bacc55</td>\n",
       "      <td>20</td>\n",
       "      <td>228</td>\n",
       "      <td>0.0</td>\n",
       "      <td>40512__40514</td>\n",
       "      <td>Sir Francis Drake Blvd &amp; Olema Rd__Sir Francis...</td>\n",
       "      <td>40512-40514-1</td>\n",
       "      <td>AM Peak</td>\n",
       "      <td>11.83</td>\n",
       "      <td>...</td>\n",
       "      <td>11.83</td>\n",
       "      <td>Bay Area 511 Marin Schedule</td>\n",
       "      <td>04 - Oakland</td>\n",
       "      <td>recNOb7pqBRlQVG5e</td>\n",
       "      <td>Marin County Transit District</td>\n",
       "      <td>aHR0cHM6Ly9hcGkuNTExLm9yZy90cmFuc2l0L2RhdGFmZW...</td>\n",
       "      <td>LINESTRING (-122.60413 38.00022, -122.60416 38...</td>\n",
       "      <td>3</td>\n",
       "      <td>1.0</td>\n",
       "      <td>228</td>\n",
       "    </tr>\n",
       "    <tr>\n",
       "      <th>1</th>\n",
       "      <td>015d67d5b75b5cf2b710bbadadfb75f5</td>\n",
       "      <td>43f0d67e5131502a51f9330e04bacc55</td>\n",
       "      <td>20</td>\n",
       "      <td>228</td>\n",
       "      <td>0.0</td>\n",
       "      <td>40514__40516</td>\n",
       "      <td>Sir Francis Drake Blvd &amp; Alhambra Circle__Sir ...</td>\n",
       "      <td>40514-40516-1</td>\n",
       "      <td>AM Peak</td>\n",
       "      <td>15.52</td>\n",
       "      <td>...</td>\n",
       "      <td>19.79</td>\n",
       "      <td>Bay Area 511 Marin Schedule</td>\n",
       "      <td>04 - Oakland</td>\n",
       "      <td>recNOb7pqBRlQVG5e</td>\n",
       "      <td>Marin County Transit District</td>\n",
       "      <td>aHR0cHM6Ly9hcGkuNTExLm9yZy90cmFuc2l0L2RhdGFmZW...</td>\n",
       "      <td>LINESTRING (-122.60045 37.99908, -122.60037 37...</td>\n",
       "      <td>3</td>\n",
       "      <td>1.0</td>\n",
       "      <td>228</td>\n",
       "    </tr>\n",
       "    <tr>\n",
       "      <th>2</th>\n",
       "      <td>015d67d5b75b5cf2b710bbadadfb75f5</td>\n",
       "      <td>43f0d67e5131502a51f9330e04bacc55</td>\n",
       "      <td>20</td>\n",
       "      <td>228</td>\n",
       "      <td>0.0</td>\n",
       "      <td>40516__40518</td>\n",
       "      <td>Sir Francis Drake Blvd At Drake Manor Apts__Si...</td>\n",
       "      <td>40516-40518-1</td>\n",
       "      <td>AM Peak</td>\n",
       "      <td>15.69</td>\n",
       "      <td>...</td>\n",
       "      <td>20.79</td>\n",
       "      <td>Bay Area 511 Marin Schedule</td>\n",
       "      <td>04 - Oakland</td>\n",
       "      <td>recNOb7pqBRlQVG5e</td>\n",
       "      <td>Marin County Transit District</td>\n",
       "      <td>aHR0cHM6Ly9hcGkuNTExLm9yZy90cmFuc2l0L2RhdGFmZW...</td>\n",
       "      <td>LINESTRING (-122.59907 37.99704, -122.59894 37...</td>\n",
       "      <td>3</td>\n",
       "      <td>1.0</td>\n",
       "      <td>228</td>\n",
       "    </tr>\n",
       "  </tbody>\n",
       "</table>\n",
       "<p>3 rows × 22 columns</p>\n",
       "</div>"
      ],
      "text/plain": [
       "          schedule_gtfs_dataset_key                   shape_array_key  \\\n",
       "0  015d67d5b75b5cf2b710bbadadfb75f5  43f0d67e5131502a51f9330e04bacc55   \n",
       "1  015d67d5b75b5cf2b710bbadadfb75f5  43f0d67e5131502a51f9330e04bacc55   \n",
       "2  015d67d5b75b5cf2b710bbadadfb75f5  43f0d67e5131502a51f9330e04bacc55   \n",
       "\n",
       "  shape_id route_id  direction_id     stop_pair  \\\n",
       "0       20      228           0.0  40512__40514   \n",
       "1       20      228           0.0  40514__40516   \n",
       "2       20      228           0.0  40516__40518   \n",
       "\n",
       "                                      stop_pair_name     segment_id  \\\n",
       "0  Sir Francis Drake Blvd & Olema Rd__Sir Francis...  40512-40514-1   \n",
       "1  Sir Francis Drake Blvd & Alhambra Circle__Sir ...  40514-40516-1   \n",
       "2  Sir Francis Drake Blvd At Drake Manor Apts__Si...  40516-40518-1   \n",
       "\n",
       "  time_of_day  p50_mph  ...  p80_mph                         name  \\\n",
       "0     AM Peak    11.83  ...    11.83  Bay Area 511 Marin Schedule   \n",
       "1     AM Peak    15.52  ...    19.79  Bay Area 511 Marin Schedule   \n",
       "2     AM Peak    15.69  ...    20.79  Bay Area 511 Marin Schedule   \n",
       "\n",
       "   caltrans_district organization_source_record_id  \\\n",
       "0       04 - Oakland             recNOb7pqBRlQVG5e   \n",
       "1       04 - Oakland             recNOb7pqBRlQVG5e   \n",
       "2       04 - Oakland             recNOb7pqBRlQVG5e   \n",
       "\n",
       "               organization_name  \\\n",
       "0  Marin County Transit District   \n",
       "1  Marin County Transit District   \n",
       "2  Marin County Transit District   \n",
       "\n",
       "                                          base64_url  \\\n",
       "0  aHR0cHM6Ly9hcGkuNTExLm9yZy90cmFuc2l0L2RhdGFmZW...   \n",
       "1  aHR0cHM6Ly9hcGkuNTExLm9yZy90cmFuc2l0L2RhdGFmZW...   \n",
       "2  aHR0cHM6Ly9hcGkuNTExLm9yZy90cmFuc2l0L2RhdGFmZW...   \n",
       "\n",
       "                                            geometry n_trips_sch trips_hr_sch  \\\n",
       "0  LINESTRING (-122.60413 38.00022, -122.60416 38...           3          1.0   \n",
       "1  LINESTRING (-122.60045 37.99908, -122.60037 37...           3          1.0   \n",
       "2  LINESTRING (-122.59907 37.99704, -122.59894 37...           3          1.0   \n",
       "\n",
       "   route_short_name  \n",
       "0               228  \n",
       "1               228  \n",
       "2               228  \n",
       "\n",
       "[3 rows x 22 columns]"
      ]
     },
     "execution_count": 9,
     "metadata": {},
     "output_type": "execute_result"
    }
   ],
   "source": [
    "detail >> head(3)"
   ]
  },
  {
   "cell_type": "markdown",
   "id": "fb80931f-f02c-4933-bb0c-8deb698cc89a",
   "metadata": {},
   "source": [
    "## need trip-level (pre-aggregation) gdf to properly calculate metrics"
   ]
  },
  {
   "cell_type": "code",
   "execution_count": 10,
   "id": "de1a46cb-4aec-4ff8-a5f6-d7c691233d62",
   "metadata": {
    "tags": []
   },
   "outputs": [],
   "source": [
    "path = f'{catalog.speedmap_segments.dir}{catalog.speedmap_segments.stage4}_{analysis_date}.parquet'"
   ]
  },
  {
   "cell_type": "code",
   "execution_count": 11,
   "id": "12db520b-6604-463f-a4e4-84c89a989271",
   "metadata": {
    "tags": []
   },
   "outputs": [],
   "source": [
    "st4 = pd.read_parquet(path)"
   ]
  },
  {
   "cell_type": "code",
   "execution_count": 12,
   "id": "429f9be0-d723-4a53-951f-0fca9d2e7ce3",
   "metadata": {
    "tags": []
   },
   "outputs": [
    {
     "data": {
      "text/plain": [
       "Index(['trip_instance_key', 'stop_sequence', 'stop_sequence1',\n",
       "       'shape_array_key', 'stop_meters', 'arrival_time', 'arrival_time_sec',\n",
       "       'subseq_arrival_time_sec', 'subseq_stop_meters', 'meters_elapsed',\n",
       "       'sec_elapsed', 'speed_mph', 'schedule_gtfs_dataset_key', 'route_id',\n",
       "       'direction_id', 'route_short_name', 'scheduled_service_minutes',\n",
       "       'sched_rt_category', 'time_of_day', 'shape_id', 'segment_id',\n",
       "       'stop_pair_name', 'stop_pair'],\n",
       "      dtype='object')"
      ]
     },
     "execution_count": 12,
     "metadata": {},
     "output_type": "execute_result"
    }
   ],
   "source": [
    "st4.columns"
   ]
  },
  {
   "cell_type": "code",
   "execution_count": 13,
   "id": "cce5628e-68a8-4c9e-952d-4d34bf2ff761",
   "metadata": {
    "tags": []
   },
   "outputs": [
    {
     "data": {
      "text/html": [
       "<div>\n",
       "<style scoped>\n",
       "    .dataframe tbody tr th:only-of-type {\n",
       "        vertical-align: middle;\n",
       "    }\n",
       "\n",
       "    .dataframe tbody tr th {\n",
       "        vertical-align: top;\n",
       "    }\n",
       "\n",
       "    .dataframe thead th {\n",
       "        text-align: right;\n",
       "    }\n",
       "</style>\n",
       "<table border=\"1\" class=\"dataframe\">\n",
       "  <thead>\n",
       "    <tr style=\"text-align: right;\">\n",
       "      <th></th>\n",
       "      <th>trip_instance_key</th>\n",
       "      <th>stop_sequence</th>\n",
       "      <th>stop_sequence1</th>\n",
       "      <th>shape_array_key</th>\n",
       "      <th>stop_meters</th>\n",
       "      <th>arrival_time</th>\n",
       "      <th>arrival_time_sec</th>\n",
       "      <th>subseq_arrival_time_sec</th>\n",
       "      <th>subseq_stop_meters</th>\n",
       "      <th>meters_elapsed</th>\n",
       "      <th>...</th>\n",
       "      <th>route_id</th>\n",
       "      <th>direction_id</th>\n",
       "      <th>route_short_name</th>\n",
       "      <th>scheduled_service_minutes</th>\n",
       "      <th>sched_rt_category</th>\n",
       "      <th>time_of_day</th>\n",
       "      <th>shape_id</th>\n",
       "      <th>segment_id</th>\n",
       "      <th>stop_pair_name</th>\n",
       "      <th>stop_pair</th>\n",
       "    </tr>\n",
       "  </thead>\n",
       "  <tbody>\n",
       "    <tr>\n",
       "      <th>0</th>\n",
       "      <td>0001b91f4f2c8ace7b3ebbefd5e9465b</td>\n",
       "      <td>1</td>\n",
       "      <td>1.0</td>\n",
       "      <td>b1e9813cd5549488c1770dd31bfcc739</td>\n",
       "      <td>506.474524</td>\n",
       "      <td>2024-12-11 19:02:41</td>\n",
       "      <td>68561</td>\n",
       "      <td>68610.0</td>\n",
       "      <td>777.366754</td>\n",
       "      <td>270.892229</td>\n",
       "      <td>...</td>\n",
       "      <td>9</td>\n",
       "      <td>0.0</td>\n",
       "      <td>9</td>\n",
       "      <td>20.0</td>\n",
       "      <td>schedule_and_vp</td>\n",
       "      <td>PM Peak</td>\n",
       "      <td>26481</td>\n",
       "      <td>80550-80253-1</td>\n",
       "      <td>3rd St at Morgan St__West Third St at Wilson S...</td>\n",
       "      <td>80550__80253</td>\n",
       "    </tr>\n",
       "    <tr>\n",
       "      <th>1</th>\n",
       "      <td>0001b91f4f2c8ace7b3ebbefd5e9465b</td>\n",
       "      <td>2</td>\n",
       "      <td>2.0</td>\n",
       "      <td>b1e9813cd5549488c1770dd31bfcc739</td>\n",
       "      <td>777.366754</td>\n",
       "      <td>2024-12-11 19:03:30</td>\n",
       "      <td>68610</td>\n",
       "      <td>68637.0</td>\n",
       "      <td>1053.968008</td>\n",
       "      <td>276.601254</td>\n",
       "      <td>...</td>\n",
       "      <td>9</td>\n",
       "      <td>0.0</td>\n",
       "      <td>9</td>\n",
       "      <td>20.0</td>\n",
       "      <td>schedule_and_vp</td>\n",
       "      <td>PM Peak</td>\n",
       "      <td>26481</td>\n",
       "      <td>80253-80548-1</td>\n",
       "      <td>West Third St at Wilson St-Downtown SMART__W 3...</td>\n",
       "      <td>80253__80548</td>\n",
       "    </tr>\n",
       "    <tr>\n",
       "      <th>2</th>\n",
       "      <td>0001b91f4f2c8ace7b3ebbefd5e9465b</td>\n",
       "      <td>3</td>\n",
       "      <td>3.0</td>\n",
       "      <td>b1e9813cd5549488c1770dd31bfcc739</td>\n",
       "      <td>1053.968008</td>\n",
       "      <td>2024-12-11 19:03:57</td>\n",
       "      <td>68637</td>\n",
       "      <td>68671.0</td>\n",
       "      <td>1383.761588</td>\n",
       "      <td>329.793579</td>\n",
       "      <td>...</td>\n",
       "      <td>9</td>\n",
       "      <td>0.0</td>\n",
       "      <td>9</td>\n",
       "      <td>20.0</td>\n",
       "      <td>schedule_and_vp</td>\n",
       "      <td>PM Peak</td>\n",
       "      <td>26481</td>\n",
       "      <td>80548-80342-1</td>\n",
       "      <td>W 3rd at Pierson St__North Dutton Ave at West ...</td>\n",
       "      <td>80548__80342</td>\n",
       "    </tr>\n",
       "  </tbody>\n",
       "</table>\n",
       "<p>3 rows × 23 columns</p>\n",
       "</div>"
      ],
      "text/plain": [
       "                  trip_instance_key  stop_sequence  stop_sequence1  \\\n",
       "0  0001b91f4f2c8ace7b3ebbefd5e9465b              1             1.0   \n",
       "1  0001b91f4f2c8ace7b3ebbefd5e9465b              2             2.0   \n",
       "2  0001b91f4f2c8ace7b3ebbefd5e9465b              3             3.0   \n",
       "\n",
       "                    shape_array_key  stop_meters        arrival_time  \\\n",
       "0  b1e9813cd5549488c1770dd31bfcc739   506.474524 2024-12-11 19:02:41   \n",
       "1  b1e9813cd5549488c1770dd31bfcc739   777.366754 2024-12-11 19:03:30   \n",
       "2  b1e9813cd5549488c1770dd31bfcc739  1053.968008 2024-12-11 19:03:57   \n",
       "\n",
       "   arrival_time_sec  subseq_arrival_time_sec  subseq_stop_meters  \\\n",
       "0             68561                  68610.0          777.366754   \n",
       "1             68610                  68637.0         1053.968008   \n",
       "2             68637                  68671.0         1383.761588   \n",
       "\n",
       "   meters_elapsed  ...  route_id  direction_id route_short_name  \\\n",
       "0      270.892229  ...         9           0.0                9   \n",
       "1      276.601254  ...         9           0.0                9   \n",
       "2      329.793579  ...         9           0.0                9   \n",
       "\n",
       "  scheduled_service_minutes  sched_rt_category time_of_day  shape_id  \\\n",
       "0                      20.0    schedule_and_vp     PM Peak     26481   \n",
       "1                      20.0    schedule_and_vp     PM Peak     26481   \n",
       "2                      20.0    schedule_and_vp     PM Peak     26481   \n",
       "\n",
       "      segment_id                                     stop_pair_name  \\\n",
       "0  80550-80253-1  3rd St at Morgan St__West Third St at Wilson S...   \n",
       "1  80253-80548-1  West Third St at Wilson St-Downtown SMART__W 3...   \n",
       "2  80548-80342-1  W 3rd at Pierson St__North Dutton Ave at West ...   \n",
       "\n",
       "      stop_pair  \n",
       "0  80550__80253  \n",
       "1  80253__80548  \n",
       "2  80548__80342  \n",
       "\n",
       "[3 rows x 23 columns]"
      ]
     },
     "execution_count": 13,
     "metadata": {},
     "output_type": "execute_result"
    }
   ],
   "source": [
    "st4 >> head(3)"
   ]
  },
  {
   "cell_type": "markdown",
   "id": "a2057b2d-b1b9-4780-91e3-a2ba4c7ea48d",
   "metadata": {},
   "source": [
    "## corridor specification"
   ]
  },
  {
   "cell_type": "code",
   "execution_count": 14,
   "id": "5678a894-bee2-4c1e-bade-392f344dfcbb",
   "metadata": {
    "tags": []
   },
   "outputs": [],
   "source": [
    "orgs = detail.drop_duplicates(subset=['organization_source_record_id', 'organization_name'])[['organization_source_record_id', 'organization_name']]"
   ]
  },
  {
   "cell_type": "code",
   "execution_count": 15,
   "id": "3a7c1d45-76bb-4442-9b24-35f8a0d60b6c",
   "metadata": {
    "tags": []
   },
   "outputs": [
    {
     "data": {
      "text/html": [
       "<div>\n",
       "<style scoped>\n",
       "    .dataframe tbody tr th:only-of-type {\n",
       "        vertical-align: middle;\n",
       "    }\n",
       "\n",
       "    .dataframe tbody tr th {\n",
       "        vertical-align: top;\n",
       "    }\n",
       "\n",
       "    .dataframe thead th {\n",
       "        text-align: right;\n",
       "    }\n",
       "</style>\n",
       "<table border=\"1\" class=\"dataframe\">\n",
       "  <thead>\n",
       "    <tr style=\"text-align: right;\">\n",
       "      <th></th>\n",
       "      <th>organization_source_record_id</th>\n",
       "      <th>organization_name</th>\n",
       "    </tr>\n",
       "  </thead>\n",
       "  <tbody>\n",
       "    <tr>\n",
       "      <th>365619</th>\n",
       "      <td>rechaapWbeffO33OX</td>\n",
       "      <td>City and County of San Francisco</td>\n",
       "    </tr>\n",
       "    <tr>\n",
       "      <th>403280</th>\n",
       "      <td>recmatCuQAUrNcs8j</td>\n",
       "      <td>San Francisco Bay Area Water Emergency Transit...</td>\n",
       "    </tr>\n",
       "  </tbody>\n",
       "</table>\n",
       "</div>"
      ],
      "text/plain": [
       "       organization_source_record_id  \\\n",
       "365619             rechaapWbeffO33OX   \n",
       "403280             recmatCuQAUrNcs8j   \n",
       "\n",
       "                                        organization_name  \n",
       "365619                   City and County of San Francisco  \n",
       "403280  San Francisco Bay Area Water Emergency Transit...  "
      ]
     },
     "execution_count": 15,
     "metadata": {},
     "output_type": "execute_result"
    }
   ],
   "source": [
    "orgs[orgs.organization_name.str.contains('San Fr')]"
   ]
  },
  {
   "cell_type": "code",
   "execution_count": 117,
   "id": "ef745e6e-e25d-4650-a94a-b1f6ca55de4e",
   "metadata": {},
   "outputs": [],
   "source": [
    "def corridor_from_segments(\n",
    "    speed_segments_gdf: gpd.GeoDataFrame,\n",
    "    organization_source_record_id: str,\n",
    "    shape_id: str,\n",
    "    start_seg_id: str,\n",
    "    end_seg_id: str\n",
    ") -> gpd.GeoDataFrame:\n",
    "    '''\n",
    "    \n",
    "    '''\n",
    "    \n",
    "    shape_filtered = speed_segments_gdf.query(\"organization_source_record_id == @organization_source_record_id & shape_id == @shape_id\")\n",
    "    \n",
    "    shape_filtered = shape_filtered.assign(start_point = shape_filtered.geometry.apply(lambda x: x.boundary.geoms[0]),\n",
    "                      end_point = shape_filtered.geometry.apply(lambda x: x.boundary.geoms[1])\n",
    "                     )\n",
    "\n",
    "    filter_ids = [start_seg_id, end_seg_id]\n",
    "    current_seg_id = start_seg_id\n",
    "    assert start_seg_id in shape_filtered.segment_id.values and end_seg_id in shape_filtered.segment_id.values\n",
    "\n",
    "    for _ in shape_filtered.segment_id:\n",
    "        if current_seg_id == end_seg_id: break\n",
    "        current_end = shape_filtered.loc[shape_filtered['segment_id'] == current_seg_id]['end_point'].iloc[0]\n",
    "        next_segment = shape_filtered.loc[shape_filtered['start_point'] == current_end]\n",
    "        assert not next_segment.empty, f'unable to locate segment after {current_seg_id}'\n",
    "        current_seg_id = next_segment.segment_id.iloc[0]\n",
    "        filter_ids += next_segment.segment_id.to_list()\n",
    "        \n",
    "    relevant_segments = shape_filtered.query(\"segment_id in @filter_ids\").drop_duplicates(subset='segment_id')\n",
    "    corridor = relevant_segments.dissolve()[['schedule_gtfs_dataset_key', 'shape_array_key', 'shape_id',\n",
    "                                            'name', 'organization_source_record_id', 'geometry']]\n",
    "    corridor_start = corridor.geometry.iloc[0].boundary.geoms[0]\n",
    "    corridor_end = corridor.geometry.iloc[0].boundary.geoms[1]\n",
    "    print(corridor_start, corridor_end)\n",
    "    corridor = corridor.to_crs(geography_utils.CA_NAD83Albers).assign(distance_meters = lambda x: x.geometry.length)\n",
    "    corridor.geometry = corridor.buffer(100) #  100m corridor buffer\n",
    "    \n",
    "    return corridor"
   ]
  },
  {
   "cell_type": "code",
   "execution_count": null,
   "id": "0b452179-38b5-411a-9f11-754598d4f91f",
   "metadata": {},
   "outputs": [],
   "source": [
    "## move to shared_utils/geo_utils..."
   ]
  },
  {
   "cell_type": "code",
   "execution_count": null,
   "id": "797933cd-f830-4ca2-aa90-8ff2e9939629",
   "metadata": {},
   "outputs": [],
   "source": [
    "corridor_start = corridor.geometry.iloc[0].boundary.geoms[0]\n",
    "corridor_end = corridor.geometry.iloc[0].boundary.geoms[1]"
   ]
  },
  {
   "cell_type": "code",
   "execution_count": 102,
   "id": "92be4361-c074-4490-8f9f-b287eac540ae",
   "metadata": {
    "tags": []
   },
   "outputs": [],
   "source": [
    "import pyproj\n",
    "geodesic = pyproj.Geod(ellps=\"WGS84\")"
   ]
  },
  {
   "cell_type": "code",
   "execution_count": 112,
   "id": "9642c40c-be69-4eb4-8a64-0b0561711fc6",
   "metadata": {
    "tags": []
   },
   "outputs": [],
   "source": [
    "long1, lat1 = (-122.40550254785889, 37.76900326502991)\n",
    "long2, lat2 = (-122.40217200000001, 37.724137999999975)"
   ]
  },
  {
   "cell_type": "code",
   "execution_count": 113,
   "id": "4ad70cea-2750-46a3-a854-15eb3ce559ec",
   "metadata": {
    "tags": []
   },
   "outputs": [],
   "source": [
    "fwd_azimuth,back_azimuth,distance = geodesic.inv(long1, lat1, long2, lat2)"
   ]
  },
  {
   "cell_type": "code",
   "execution_count": 114,
   "id": "cf3f8b91-10be-4588-bb4a-fb943dc790b4",
   "metadata": {
    "tags": []
   },
   "outputs": [
    {
     "data": {
      "text/plain": [
       "176.62550029429215"
      ]
     },
     "execution_count": 114,
     "metadata": {},
     "output_type": "execute_result"
    }
   ],
   "source": [
    "fwd_azimuth"
   ]
  },
  {
   "cell_type": "code",
   "execution_count": 115,
   "id": "44c98c4e-f1b8-4451-8459-139e533ce023",
   "metadata": {
    "tags": []
   },
   "outputs": [
    {
     "data": {
      "text/plain": [
       "-3.3724608442238946"
      ]
     },
     "execution_count": 115,
     "metadata": {},
     "output_type": "execute_result"
    }
   ],
   "source": [
    "back_azimuth"
   ]
  },
  {
   "cell_type": "code",
   "execution_count": 116,
   "id": "cb60e4a7-b08e-446b-96c4-d0e36cdb35cc",
   "metadata": {
    "tags": []
   },
   "outputs": [
    {
     "data": {
      "text/plain": [
       "4988.315323644854"
      ]
     },
     "execution_count": 116,
     "metadata": {},
     "output_type": "execute_result"
    }
   ],
   "source": [
    "distance"
   ]
  },
  {
   "cell_type": "code",
   "execution_count": 109,
   "id": "ce9e7154-22cc-448d-bade-2bedd752d600",
   "metadata": {
    "tags": []
   },
   "outputs": [],
   "source": [
    "# shape_id = '4953'\n",
    "# start_seg_id = '18088-18089-1'\n",
    "# end_seg_id = '16800-16806-1'\n",
    "\n",
    "shape_id = '800'\n",
    "start_seg_id = '14970-17900-2'\n",
    "end_seg_id = '16357-16358-1'"
   ]
  },
  {
   "cell_type": "code",
   "execution_count": 118,
   "id": "456ba49d-2f78-4371-b942-f195099108ce",
   "metadata": {
    "tags": []
   },
   "outputs": [
    {
     "name": "stdout",
     "output_type": "stream",
     "text": [
      "POINT (-122.40550254785889 37.76900326502991) POINT (-122.40217200000001 37.724137999999975)\n"
     ]
    }
   ],
   "source": [
    "gdf = corridor_from_segments(speed_segments_gdf=detail, organization_source_record_id=sf, shape_id=shape_id,\n",
    "                      start_seg_id=start_seg_id, end_seg_id=end_seg_id)"
   ]
  },
  {
   "cell_type": "code",
   "execution_count": 143,
   "id": "ce92fc09-45cf-4e0b-9d9c-3293839436e7",
   "metadata": {
    "tags": []
   },
   "outputs": [],
   "source": [
    "# gdf.explore()"
   ]
  },
  {
   "cell_type": "code",
   "execution_count": 80,
   "id": "39740be5-1859-440b-8213-a4ffa9183425",
   "metadata": {
    "tags": []
   },
   "outputs": [
    {
     "data": {
      "text/html": [
       "<div>\n",
       "<style scoped>\n",
       "    .dataframe tbody tr th:only-of-type {\n",
       "        vertical-align: middle;\n",
       "    }\n",
       "\n",
       "    .dataframe tbody tr th {\n",
       "        vertical-align: top;\n",
       "    }\n",
       "\n",
       "    .dataframe thead th {\n",
       "        text-align: right;\n",
       "    }\n",
       "</style>\n",
       "<table border=\"1\" class=\"dataframe\">\n",
       "  <thead>\n",
       "    <tr style=\"text-align: right;\">\n",
       "      <th></th>\n",
       "      <th>schedule_gtfs_dataset_key</th>\n",
       "      <th>shape_array_key</th>\n",
       "      <th>shape_id</th>\n",
       "      <th>name</th>\n",
       "      <th>organization_source_record_id</th>\n",
       "      <th>geometry</th>\n",
       "      <th>distance_meters</th>\n",
       "    </tr>\n",
       "  </thead>\n",
       "  <tbody>\n",
       "    <tr>\n",
       "      <th>0</th>\n",
       "      <td>7cc0cb1871dfd558f11a2885c145d144</td>\n",
       "      <td>88039de0a52cdf6be3d52ebe6315a48f</td>\n",
       "      <td>800</td>\n",
       "      <td>Bay Area 511 Muni Schedule</td>\n",
       "      <td>rechaapWbeffO33OX</td>\n",
       "      <td>POLYGON ((-211888.036 -28619.355, -211905.357 ...</td>\n",
       "      <td>5297.946134</td>\n",
       "    </tr>\n",
       "  </tbody>\n",
       "</table>\n",
       "</div>"
      ],
      "text/plain": [
       "          schedule_gtfs_dataset_key                   shape_array_key  \\\n",
       "0  7cc0cb1871dfd558f11a2885c145d144  88039de0a52cdf6be3d52ebe6315a48f   \n",
       "\n",
       "  shape_id                        name organization_source_record_id  \\\n",
       "0      800  Bay Area 511 Muni Schedule             rechaapWbeffO33OX   \n",
       "\n",
       "                                            geometry  distance_meters  \n",
       "0  POLYGON ((-211888.036 -28619.355, -211905.357 ...      5297.946134  "
      ]
     },
     "execution_count": 80,
     "metadata": {},
     "output_type": "execute_result"
    }
   ],
   "source": [
    "gdf"
   ]
  }
 ],
 "metadata": {
  "kernelspec": {
   "display_name": "Python 3 (ipykernel)",
   "language": "python",
   "name": "python3"
  },
  "language_info": {
   "codemirror_mode": {
    "name": "ipython",
    "version": 3
   },
   "file_extension": ".py",
   "mimetype": "text/x-python",
   "name": "python",
   "nbconvert_exporter": "python",
   "pygments_lexer": "ipython3",
   "version": "3.11.6"
  },
  "widgets": {
   "application/vnd.jupyter.widget-state+json": {
    "state": {},
    "version_major": 2,
    "version_minor": 0
   }
  }
 },
 "nbformat": 4,
 "nbformat_minor": 5
}
