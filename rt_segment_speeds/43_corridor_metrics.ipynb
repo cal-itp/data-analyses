{
 "cells": [
  {
   "cell_type": "code",
   "execution_count": 100,
   "id": "d528f399-cf33-459e-b5dc-92e0b4ae389a",
   "metadata": {},
   "outputs": [],
   "source": [
    "import pandas as pd\n",
    "import geopandas as gpd\n",
    "\n",
    "from shared_utils import rt_utils, catalog_utils, rt_dates\n",
    "\n",
    "from calitp_data_analysis import get_fs, geography_utils\n",
    "from segment_speed_utils import helpers, time_series_utils, gtfs_schedule_wrangling, corridor_analysis\n",
    "from segment_speed_utils.project_vars import SCHED_GCS, SEGMENT_GCS, GTFS_DATA_DICT\n",
    "import numpy as np\n",
    "import datetime as dt\n",
    "\n",
    "ADHOC_PATH = \"gs://calitp-analytics-data/data-analyses/rt_segment_speeds/adhoc/\""
   ]
  },
  {
   "cell_type": "markdown",
   "id": "98c0881c-7012-446e-81e2-ebfb70e7a587",
   "metadata": {},
   "source": [
    "# Transit Priority on SHS Feb 2025\n",
    "\n",
    "## Methodology and Assumptions\n",
    "\n",
    "* manually create lists of corridors and hotspots based on speedmaps, judgement\n",
    "* find relevant trip data (segments) for each corridor, from the first segment that intersects the defined corridor to the last.\n",
    "* only keep routes that travel along the corridor for at least half of the corridor length (exclude cross-street routes)\n",
    "* exclude trips with apparent zero seconds in corridor, speeds above 80mph, speeds below the 5th or above the 95th percentile.\n",
    "* calculate speed and travel times for trips through corridor\n",
    "* for each trip, roughly estimate effects of transit priority\n",
    "    * corridors: either all trip speeds increase to 16mph if current conditions median speed less than 13.6mph, otherwise all trip speeds increase by 15%\n",
    "    * hotspots: all trips save 30 seconds of travel time through hotspot\n",
    "* track total daily trips and peak frequency across all routes\n",
    "* estimate average trip delay by dividing total minutes of delay by daily trip count\n",
    "* estimate rider delay for certain examples by multiplying average trip delay by ridership\n",
    "* \"minutes_per_mile\" is a metric created by dividing total daily minutes of delay by the length of the corridor, it's intended to provide a rough measure of delay intensity or cost-effectiveness"
   ]
  },
  {
   "cell_type": "code",
   "execution_count": 47,
   "id": "ead443bd-d51c-49c0-a032-8e53fd591a50",
   "metadata": {
    "tags": []
   },
   "outputs": [
    {
     "data": {
      "text/plain": [
       "<module 'segment_speed_utils.corridor_analysis' from '/home/jovyan/data-analyses/rt_segment_speeds/segment_speed_utils/corridor_analysis.py'>"
      ]
     },
     "execution_count": 47,
     "metadata": {},
     "output_type": "execute_result"
    }
   ],
   "source": [
    "import importlib\n",
    "importlib.reload(corridor_analysis)"
   ]
  },
  {
   "cell_type": "code",
   "execution_count": 3,
   "id": "76d8bf9e-bfd1-42a9-a629-930c88737f36",
   "metadata": {
    "tags": []
   },
   "outputs": [],
   "source": [
    "analysis_date = rt_dates.DATES['dec2024']"
   ]
  },
  {
   "cell_type": "markdown",
   "id": "fb80931f-f02c-4933-bb0c-8deb698cc89a",
   "metadata": {},
   "source": [
    "## need trip-level (pre-aggregation) gdf to properly calculate metrics"
   ]
  },
  {
   "cell_type": "code",
   "execution_count": 4,
   "id": "1f8fef26-bd35-4269-bba1-51bcc2fe4a76",
   "metadata": {
    "tags": []
   },
   "outputs": [],
   "source": [
    "segment_speeds = corridor_analysis.import_speedmap_segment_speeds(analysis_date)"
   ]
  },
  {
   "cell_type": "code",
   "execution_count": 5,
   "id": "564a2053-972c-4e4d-8cb7-2643764b235e",
   "metadata": {
    "tags": []
   },
   "outputs": [
    {
     "name": "stderr",
     "output_type": "stream",
     "text": [
      "/home/jovyan/data-analyses/rt_segment_speeds/segment_speed_utils/corridor_analysis.py:29: FutureWarning: The default value of numeric_only in DataFrameGroupBy.sum is deprecated. In a future version, numeric_only will default to False. Either specify numeric_only or select only columns which should be valid for the function.\n",
      "  group_cols + ['direction_id']).sum().groupby(\n"
     ]
    }
   ],
   "source": [
    "frequencies = corridor_analysis.get_max_frequencies(segment_speeds)"
   ]
  },
  {
   "cell_type": "code",
   "execution_count": 6,
   "id": "34d55973-57d6-40c7-ab4b-b2edb71363a6",
   "metadata": {
    "tags": []
   },
   "outputs": [
    {
     "name": "stdout",
     "output_type": "stream",
     "text": [
      "2.2 percent of segments have no speed\n"
     ]
    }
   ],
   "source": [
    "trip_speeds = corridor_analysis.import_trip_speeds(analysis_date)"
   ]
  },
  {
   "cell_type": "markdown",
   "id": "a2057b2d-b1b9-4780-91e3-a2ba4c7ea48d",
   "metadata": {},
   "source": [
    "## corridor specification"
   ]
  },
  {
   "cell_type": "code",
   "execution_count": null,
   "id": "f894127b-313d-4931-8be0-03b5fd112478",
   "metadata": {
    "tags": []
   },
   "outputs": [],
   "source": [
    "# rt_utils.show_full_df(pd.read_parquet('../ca_transit_speed_maps/_rt_progress_2024-12-11.parquet').sort_values(['caltrans_district', 'organization_name']))"
   ]
  },
  {
   "cell_type": "markdown",
   "id": "d66850e3-583b-4fca-bc4d-8ed30dddaf44",
   "metadata": {},
   "source": [
    "## Corridor Measurements\n",
    "\n",
    "Previous logic:\n",
    "\n",
    "For each trip, get from the last stop before entering corridor to the first stop after exiting corridor. This was done on stop_sequence\n",
    "\n",
    "Now,\n",
    "\n",
    "* first sjoin with aggregated data (has geom). Sjoining on segments is equivalent to previous methodology, since it will yield the last stop before entry to the first stop after exiting...\n",
    "* avoid doing scheduled delay metric for now...\n",
    "* "
   ]
  },
  {
   "cell_type": "code",
   "execution_count": null,
   "id": "06ded344-41e1-46bb-9720-9d30f087d7ed",
   "metadata": {
    "tags": []
   },
   "outputs": [],
   "source": [
    "corr = pd.read_excel(f'{ADHOC_PATH}corr_hs.xlsx', sheet_name='Corridor Input')\n",
    "hs = pd.read_excel(f'{ADHOC_PATH}corr_hs.xlsx', sheet_name='Hotspot Input')\n",
    "corr = corr.astype({'start_segment_id': str, 'end_segment_id': str, 'shape_id':str})\n",
    "hs = hs.astype({'start_segment_id': str, 'end_segment_id': str, 'shape_id':str})"
   ]
  },
  {
   "cell_type": "code",
   "execution_count": null,
   "id": "be124b87-f373-425b-aba6-ce7261d8c7e8",
   "metadata": {
    "tags": []
   },
   "outputs": [],
   "source": [
    "row = corr.loc[15]"
   ]
  },
  {
   "cell_type": "code",
   "execution_count": null,
   "id": "321281ef-426b-4e83-b167-5d374eeae7a5",
   "metadata": {
    "tags": []
   },
   "outputs": [],
   "source": [
    "gdf = corridor_analysis.corridor_from_segments(speed_segments_gdf=segment_speeds,\n",
    "                                               organization_source_record_id=row.organization_source_record_id,\n",
    "                                               shape_id=row.shape_id,\n",
    "                                               start_seg_id=row.start_segment_id,\n",
    "                                               end_seg_id=row.end_segment_id)"
   ]
  },
  {
   "cell_type": "code",
   "execution_count": null,
   "id": "4082b626-4057-4cfc-a641-6041529b5080",
   "metadata": {
    "tags": []
   },
   "outputs": [],
   "source": [
    "corridor_trips = corridor_analysis.find_corridor_data(segment_speeds, gdf, trip_speeds)\n",
    "corridor_results = corridor_analysis.analyze_corridor_trips(corridor_trips)"
   ]
  },
  {
   "cell_type": "code",
   "execution_count": null,
   "id": "eb407313-5ea4-43d0-a2b7-bb2b41bf08b0",
   "metadata": {
    "tags": []
   },
   "outputs": [],
   "source": [
    "corridor_analysis.validate_corridor_routes(gdf, corridor_trips)"
   ]
  },
  {
   "cell_type": "code",
   "execution_count": null,
   "id": "8ff789bb-065e-4d7f-a350-9f64d07b66f8",
   "metadata": {
    "tags": []
   },
   "outputs": [],
   "source": [
    "corridor_improvements = corridor_analysis.analyze_corridor_improvements(corridor_results, **{'trip_mph_floor': 16, 'trip_percent_speedup': 15})"
   ]
  },
  {
   "cell_type": "code",
   "execution_count": null,
   "id": "6fd6c78f-16c2-4291-84d8-06a94e47a1b5",
   "metadata": {
    "tags": []
   },
   "outputs": [],
   "source": [
    "corridor_improvements.head(3)"
   ]
  },
  {
   "cell_type": "code",
   "execution_count": null,
   "id": "d467de42-37f4-4457-8326-35d2260161df",
   "metadata": {
    "tags": []
   },
   "outputs": [],
   "source": [
    "summarized = corridor_analysis.summarize_corridor_improvements(corridor_improvements, frequencies)"
   ]
  },
  {
   "cell_type": "code",
   "execution_count": null,
   "id": "c97317c0-b434-40e8-aa7b-2cd0b5ca6417",
   "metadata": {
    "tags": []
   },
   "outputs": [],
   "source": [
    "summarized"
   ]
  },
  {
   "cell_type": "code",
   "execution_count": null,
   "id": "491f3623-c5c5-415e-bdf4-b7d90101b873",
   "metadata": {
    "tags": []
   },
   "outputs": [],
   "source": [
    "# corr_gdf = corridor_from_sheet(corr, intervention_dict={'trip_mph_floor': 16, 'trip_percent_speedup': 15}, fwy_xpwy_floor = 35)\n",
    "corr_gdf = corridor_analysis.corridor_from_sheet(corr,\n",
    "                                                 segment_speeds,\n",
    "                                                 trip_speeds,\n",
    "                                                 frequencies,\n",
    "                                                 intervention_dict={'trip_mph_floor': 16, 'trip_percent_speedup': 15},\n",
    "                                                 fwy_xpwy_floor = 35)"
   ]
  },
  {
   "cell_type": "code",
   "execution_count": null,
   "id": "26a7ce78-8ca5-488e-8485-ec38481a8164",
   "metadata": {
    "tags": []
   },
   "outputs": [],
   "source": [
    "corr_gdf.to_excel(f'{ADHOC_PATH}corridors.xlsx')"
   ]
  },
  {
   "cell_type": "code",
   "execution_count": null,
   "id": "7f312270-5005-4a55-9264-f6675fa073af",
   "metadata": {
    "tags": []
   },
   "outputs": [],
   "source": [
    "# corr_gdf.iloc[1:,:].explore(column='minutes_per_mile')"
   ]
  },
  {
   "cell_type": "code",
   "execution_count": null,
   "id": "86a47c87-8c94-4acd-95f2-456f29802423",
   "metadata": {
    "tags": []
   },
   "outputs": [],
   "source": [
    "hs_gdf = corridor_analysis.corridor_from_sheet(hs,\n",
    "                             segment_speeds,\n",
    "                             trip_speeds,\n",
    "                             frequencies,\n",
    "                             intervention_dict={'trip_seconds_saved': 30})"
   ]
  },
  {
   "cell_type": "code",
   "execution_count": null,
   "id": "d02fd260-4100-4ff9-aab5-3046da5f6ff6",
   "metadata": {
    "tags": []
   },
   "outputs": [],
   "source": [
    "hs_gdf.to_excel(f'{ADHOC_PATH}hotspots.xlsx')"
   ]
  },
  {
   "cell_type": "markdown",
   "id": "fb9a8f59-90e8-4b56-a8e9-edecd8896c6d",
   "metadata": {
    "tags": []
   },
   "source": [
    "## Discussion\n",
    "\n",
    "* Which other metrics?\n",
    "\n",
    "after screening:\n",
    "\n",
    "ridership/person-hours of delay\n",
    "accessibility, equity\n",
    "\n",
    "* Is our list complete?\n",
    "\n",
    "Include Tempo, Van Ness, can we compare?\n",
    "\n",
    "* Exclude routes where necessary (current corridor join is just spatial...)\n",
    "\n",
    "* Add location-specific interventions, and [guidance](https://caltrans.sharepoint.com/:w:/s/DOTPMPHQ-DataandDigitalServices/EdG0YNQcQMBJmKncAuNva9wBjpxVq2sD8p3C5azumXFNRA?e=TO7CbB)\n",
    "\n",
    "* How much should we focus on freeways?\n",
    "\n",
    "Yes, include (Bay Bridge, others, SDMTS freeway service, launch service with new HOT...)\n",
    "\n",
    "District transit plans, express/rapid on freeways...?"
   ]
  },
  {
   "cell_type": "markdown",
   "id": "7dc41027-136b-4fb2-bf99-2a82e2eb79d4",
   "metadata": {
    "jp-MarkdownHeadingCollapsed": true,
    "tags": []
   },
   "source": [
    "## webmaps"
   ]
  },
  {
   "cell_type": "code",
   "execution_count": null,
   "id": "0cb0dbe6-19fe-4055-bd1c-23163b0693c3",
   "metadata": {
    "tags": []
   },
   "outputs": [],
   "source": [
    "import branca"
   ]
  },
  {
   "cell_type": "code",
   "execution_count": null,
   "id": "82da91b5-672b-4f05-b3d4-bb1c393d2d97",
   "metadata": {
    "tags": []
   },
   "outputs": [],
   "source": [
    "import sys\n",
    "sys.path.append('../ca_transit_speed_maps/')"
   ]
  },
  {
   "cell_type": "code",
   "execution_count": null,
   "id": "cd4b839e-a19e-4c38-9304-bd059f3446a4",
   "metadata": {
    "tags": []
   },
   "outputs": [],
   "source": [
    "import export_legends"
   ]
  },
  {
   "cell_type": "code",
   "execution_count": null,
   "id": "5dda676e-cf27-4b5d-9767-e45b2630c0f8",
   "metadata": {
    "tags": []
   },
   "outputs": [],
   "source": [
    "# colors = branca.colormap.step.Reds_08.colors[3:]\n",
    "# cmap = branca.colormap.LinearColormap(colors=colors).to_step(data=corr_gdf.iloc[1:,:].delay_minutes, method='quant', n=5)"
   ]
  },
  {
   "cell_type": "code",
   "execution_count": null,
   "id": "0044b1b9-0e69-423f-8b78-7865697788dd",
   "metadata": {
    "tags": []
   },
   "outputs": [],
   "source": [
    "# corr_gdf.iloc[1:,:].explore(cmap=cmap, column='delay_minutes')"
   ]
  },
  {
   "cell_type": "code",
   "execution_count": null,
   "id": "9e87cd40-87be-470f-b096-1802cc49d924",
   "metadata": {},
   "outputs": [],
   "source": [
    "# labels = [int(x) for x in cmap.tick_labels[1:-1]]\n",
    "# export_legends.export_legend(cmap, filename='transit_delay_quantiles.svg', inner_labels=labels)"
   ]
  },
  {
   "cell_type": "code",
   "execution_count": null,
   "id": "1813bbc2-300f-4202-8230-6de68194763b",
   "metadata": {
    "tags": []
   },
   "outputs": [],
   "source": [
    "# colors = branca.colormap.step.Reds_08.colors[3:]\n",
    "# cmap = branca.colormap.LinearColormap(colors=colors).to_step(data=hs_gdf.delay_minutes, method='quant', n=5)\n",
    "# hs_gdf.explore(cmap=cmap, column='delay_minutes')"
   ]
  },
  {
   "cell_type": "code",
   "execution_count": null,
   "id": "d4c91e32-75c6-4e63-8fb8-00d4358a54d4",
   "metadata": {
    "tags": []
   },
   "outputs": [],
   "source": [
    "# labels = [int(x) for x in cmap.tick_labels[1:-1]]\n",
    "# export_legends.export_legend(cmap, filename='transit_delay_quantiles_hs.svg', inner_labels=labels)"
   ]
  },
  {
   "cell_type": "code",
   "execution_count": null,
   "id": "99265826-0703-4339-84e2-1e9d4b345bf9",
   "metadata": {
    "tags": []
   },
   "outputs": [],
   "source": [
    "shn = gpd.read_parquet(rt_utils.SHN_PATH)"
   ]
  },
  {
   "cell_type": "code",
   "execution_count": null,
   "id": "004cc571-e318-4c72-84c1-cbeb75cf2771",
   "metadata": {
    "tags": []
   },
   "outputs": [],
   "source": [
    "drop_van_ness = corr_gdf.iloc[1:,:]"
   ]
  },
  {
   "cell_type": "code",
   "execution_count": null,
   "id": "d7db6e40-1e6e-4c42-bdc9-24bcab2fd9e9",
   "metadata": {
    "tags": []
   },
   "outputs": [],
   "source": [
    "drop_van_ness.columns"
   ]
  },
  {
   "cell_type": "code",
   "execution_count": null,
   "id": "aaddf846-e3cc-473e-8514-22662e4345ce",
   "metadata": {
    "tags": []
   },
   "outputs": [],
   "source": [
    "gdf = drop_van_ness.drop(columns=['corridor_id', 'intervention_assumption']).rename(columns={'trips_per_hr_peak_directional': 'trips/hr'})"
   ]
  },
  {
   "cell_type": "code",
   "execution_count": null,
   "id": "114dc55f-2e91-400d-902b-bd1a213b72c7",
   "metadata": {
    "tags": []
   },
   "outputs": [],
   "source": [
    "export_result = rt_utils.set_state_export(shn, subfolder = 'transit_delay/', filename = 'shn',\n",
    "                    map_type = 'state_highway_network')\n",
    "shn_state = export_result['state_dict']"
   ]
  },
  {
   "cell_type": "code",
   "execution_count": null,
   "id": "1c28fe98-c3be-4321-ac5d-1a9be3413b26",
   "metadata": {
    "tags": []
   },
   "outputs": [],
   "source": [
    "export_result = rt_utils.set_state_export(\n",
    "    gdf, subfolder = 'transit_delay/', filename=f'corridors_{analysis_date}',\n",
    "    color_col='delay_minutes', cmap=cmap, legend_url=\"https://storage.googleapis.com/calitp-map-tiles/transit_delay_quantiles.svg\",\n",
    "    map_title='Corridor Transit Delay Dec 2024 (total daily vehicle-minutes)',\n",
    "    existing_state = shn_state)"
   ]
  },
  {
   "cell_type": "code",
   "execution_count": null,
   "id": "207456ae-fe1e-4769-b9ca-508615223510",
   "metadata": {
    "tags": []
   },
   "outputs": [],
   "source": [
    "export_result"
   ]
  },
  {
   "cell_type": "code",
   "execution_count": null,
   "id": "5c1f25bb-4eac-4e36-b30a-905464cb809b",
   "metadata": {
    "tags": []
   },
   "outputs": [],
   "source": [
    "gdf2 = hs_gdf.drop(columns=['corridor_id', 'intervention_assumption']).rename(columns={'trips_per_hr_peak_directional': 'trips/hr'})"
   ]
  },
  {
   "cell_type": "code",
   "execution_count": null,
   "id": "bc86e79a-351c-4fcf-a0e0-01ea6be34bb5",
   "metadata": {
    "tags": []
   },
   "outputs": [],
   "source": [
    "export_result = rt_utils.set_state_export(shn, subfolder = 'transit_delay/', filename = 'shn',\n",
    "                    map_type = 'state_highway_network')\n",
    "shn_state = export_result['state_dict']"
   ]
  },
  {
   "cell_type": "code",
   "execution_count": null,
   "id": "325ebb80-ba14-40c6-9c81-dfcf6b468333",
   "metadata": {
    "tags": []
   },
   "outputs": [],
   "source": [
    "export_result = rt_utils.set_state_export(\n",
    "    gdf2, subfolder = 'transit_delay/', filename=f'hotspots2_{analysis_date}',\n",
    "    color_col='delay_minutes', cmap=cmap, legend_url=\"https://storage.googleapis.com/calitp-map-tiles/transit_delay_quantiles_hs.svg\",\n",
    "    map_title='Hotspot Transit Delay Dec 2024 (total daily vehicle-minutes)',\n",
    "    existing_state = shn_state)"
   ]
  },
  {
   "cell_type": "code",
   "execution_count": null,
   "id": "fbfaccc7-c278-401e-bf5b-a105d0133ba0",
   "metadata": {
    "tags": []
   },
   "outputs": [],
   "source": [
    "export_result"
   ]
  },
  {
   "cell_type": "markdown",
   "id": "caefcd2b-4f30-4ae8-b532-0b5c6ccf9458",
   "metadata": {
    "jp-MarkdownHeadingCollapsed": true,
    "tags": []
   },
   "source": [
    "## bespoke van ness\n",
    "\n",
    "* v2 warehouse doesn't include RT before Sep 2022, and Van Ness opened Apr 2022\n",
    "* get old rt_analysis code working"
   ]
  },
  {
   "cell_type": "code",
   "execution_count": null,
   "id": "d2e72d64-d352-4163-af2a-a49e4abde6d5",
   "metadata": {},
   "outputs": [],
   "source": [
    "old_sfmta = gpd.read_parquet('gs://calitp-analytics-data/data-analyses/rt_delay/stop_delay_views/282_2022-02-08.parquet')"
   ]
  },
  {
   "cell_type": "code",
   "execution_count": null,
   "id": "254181ce-d6e1-43a7-82b4-2ebd5968e0f4",
   "metadata": {
    "tags": []
   },
   "outputs": [],
   "source": [
    "import rt_analysis"
   ]
  },
  {
   "cell_type": "code",
   "execution_count": null,
   "id": "a95bf330-2595-4be6-a323-6cc627ac5d74",
   "metadata": {
    "tags": []
   },
   "outputs": [],
   "source": [
    "rt_analysis.rt_filter_map_plot.from_gcs?"
   ]
  },
  {
   "cell_type": "code",
   "execution_count": null,
   "id": "794cbc66-d477-4665-8738-0b5be3be4436",
   "metadata": {
    "tags": []
   },
   "outputs": [],
   "source": [
    "from rt_analysis import rt_filter_map_plot"
   ]
  },
  {
   "cell_type": "code",
   "execution_count": null,
   "id": "5d8da1ec-b717-4fe1-9271-65387b4eae82",
   "metadata": {
    "tags": []
   },
   "outputs": [],
   "source": [
    "importlib.reload(rt_filter_map_plot)"
   ]
  },
  {
   "cell_type": "code",
   "execution_count": null,
   "id": "5a5b6c49-e653-4363-a632-31699f91396a",
   "metadata": {
    "tags": []
   },
   "outputs": [],
   "source": [
    "sfmta = rt_analysis.rt_filter_map_plot.from_gcs(282, '2022-02-08')"
   ]
  },
  {
   "cell_type": "code",
   "execution_count": null,
   "id": "762338cf-ece5-4ce5-ba82-22323469f01d",
   "metadata": {
    "tags": []
   },
   "outputs": [],
   "source": [
    "sfmta.set_filter(route_names=['49'])"
   ]
  },
  {
   "cell_type": "code",
   "execution_count": null,
   "id": "48afa505-0ea0-496b-958e-a4e06e85ba06",
   "metadata": {
    "tags": []
   },
   "outputs": [],
   "source": [
    "sfmta.segment_speed_map?"
   ]
  },
  {
   "cell_type": "code",
   "execution_count": null,
   "id": "b3452b81-c3be-4138-a487-795a187c64af",
   "metadata": {
    "tags": []
   },
   "outputs": [],
   "source": [
    "sfmta.segment_speed_map()"
   ]
  },
  {
   "cell_type": "code",
   "execution_count": null,
   "id": "7114e65b-3a32-4f84-9a26-86bb707d228e",
   "metadata": {
    "tags": []
   },
   "outputs": [],
   "source": [
    "sfmta.autocorridor?"
   ]
  },
  {
   "cell_type": "code",
   "execution_count": null,
   "id": "3052fd3a-8f31-4dce-bf76-88e896607cf3",
   "metadata": {
    "tags": []
   },
   "outputs": [],
   "source": [
    "sfmta.autocorridor('194252', [27, 37])"
   ]
  },
  {
   "cell_type": "code",
   "execution_count": null,
   "id": "6986a740-1b78-472d-b0ad-d0e5e93905cd",
   "metadata": {
    "tags": []
   },
   "outputs": [],
   "source": [
    "old_van_ness = sfmta.corridor_metrics()"
   ]
  },
  {
   "cell_type": "code",
   "execution_count": null,
   "id": "b213a8aa-18bd-4588-bb09-9167051088f2",
   "metadata": {
    "tags": []
   },
   "outputs": [],
   "source": [
    "new_van_ness = corr_gdf.query('corridor_name == \"US101 Van Ness\"')"
   ]
  },
  {
   "cell_type": "code",
   "execution_count": null,
   "id": "ab9c3bd6-8bcc-4c7a-9c22-4bdaade8274b",
   "metadata": {
    "tags": []
   },
   "outputs": [],
   "source": [
    "old_van_ness"
   ]
  },
  {
   "cell_type": "code",
   "execution_count": null,
   "id": "7e198be1-3c87-4d82-99d6-b651ffb91c59",
   "metadata": {
    "tags": []
   },
   "outputs": [],
   "source": [
    "sfmta.segment_speed_map(corridor=True, no_render=True)"
   ]
  },
  {
   "cell_type": "code",
   "execution_count": null,
   "id": "017a42c4-edce-4aff-9b9d-c245b37da650",
   "metadata": {
    "tags": []
   },
   "outputs": [],
   "source": [
    "old_segments = sfmta.stop_segment_speed_view[sfmta.stop_segment_speed_view.corridor]"
   ]
  },
  {
   "cell_type": "code",
   "execution_count": null,
   "id": "f7634e3e-92cc-4c37-a622-39a8a74e5b1e",
   "metadata": {
    "tags": []
   },
   "outputs": [],
   "source": [
    "new_van_ness"
   ]
  },
  {
   "cell_type": "code",
   "execution_count": null,
   "id": "f15a8a0e-8394-4e22-b5cc-bf9806ed8b54",
   "metadata": {
    "tags": []
   },
   "outputs": [],
   "source": [
    "row = corr.iloc[3,:]"
   ]
  },
  {
   "cell_type": "code",
   "execution_count": null,
   "id": "95122b9c-c7bc-4a42-b58a-20ed8a7954a2",
   "metadata": {
    "tags": []
   },
   "outputs": [],
   "source": [
    "row"
   ]
  },
  {
   "cell_type": "code",
   "execution_count": null,
   "id": "9bb4ee11-637c-4ca8-8824-41ebe467ab2c",
   "metadata": {
    "tags": []
   },
   "outputs": [],
   "source": [
    "gdf = corridor_analysis.corridor_from_segments(speed_segments_gdf=segment_speeds,\n",
    "                                               organization_source_record_id=row.organization_source_record_id,\n",
    "                                               shape_id=row.shape_id,\n",
    "                                               start_seg_id=row.start_segment_id,\n",
    "                                               end_seg_id=row.end_segment_id)"
   ]
  },
  {
   "cell_type": "code",
   "execution_count": null,
   "id": "b5338b33-8823-4468-bdc3-428da71e5cbf",
   "metadata": {
    "tags": []
   },
   "outputs": [],
   "source": [
    "corridor_trips = corridor_analysis.find_corridor_data(segment_speeds, gdf, trip_speeds)\n",
    "corridor_results = corridor_analysis.analyze_corridor_trips(corridor_trips)"
   ]
  },
  {
   "cell_type": "code",
   "execution_count": null,
   "id": "6b6358d6-377c-4f6e-ab1f-61be86ab0007",
   "metadata": {
    "tags": []
   },
   "outputs": [],
   "source": [
    "corridor_results.corridor_speed_mph.median()"
   ]
  },
  {
   "cell_type": "code",
   "execution_count": null,
   "id": "ac5eb76d-6fb0-4b15-bcc5-4195b915c451",
   "metadata": {
    "tags": []
   },
   "outputs": [],
   "source": [
    "(8.4 - 6.8) / 6.8"
   ]
  },
  {
   "cell_type": "code",
   "execution_count": null,
   "id": "76b63963-4497-4bcb-8e14-661e99cdbca7",
   "metadata": {
    "tags": []
   },
   "outputs": [],
   "source": [
    "corridor_trips = corridor_trips.query('speed_mph <= 30 & speed_mph > speed_mph.quantile(.05)')"
   ]
  },
  {
   "cell_type": "code",
   "execution_count": null,
   "id": "7e263f4b-7f2c-4662-9fcd-9d34b7ff8b94",
   "metadata": {
    "tags": []
   },
   "outputs": [],
   "source": [
    "corridor_trips = corridor_trips.query('route_short_name == \"49\"')"
   ]
  },
  {
   "cell_type": "code",
   "execution_count": null,
   "id": "b31adfc8-d721-4402-8666-1339c7a9a6e4",
   "metadata": {
    "tags": []
   },
   "outputs": [],
   "source": [
    "corridor_trips.columns"
   ]
  },
  {
   "cell_type": "code",
   "execution_count": null,
   "id": "4589dd07-1d4f-49af-b2d2-3595941619cd",
   "metadata": {
    "tags": []
   },
   "outputs": [],
   "source": [
    "old_segments = old_segments.query('speed_mph <= 30')"
   ]
  },
  {
   "cell_type": "code",
   "execution_count": null,
   "id": "65de7cee-e38d-48c6-8733-4185439ca536",
   "metadata": {
    "tags": []
   },
   "outputs": [],
   "source": [
    "import matplotlib.pyplot as plt\n",
    "\n",
    "plt.hist(old_segments['speed_mph'],  \n",
    "         alpha=0.5, # the transaparency parameter \n",
    "         label='Feb 2022',\n",
    "         bins=20) \n",
    "  \n",
    "plt.hist(corridor_trips['speed_mph'], \n",
    "         alpha=0.5, \n",
    "         label='Feb 2023',\n",
    "         bins=20) \n",
    "  \n",
    "plt.legend(loc='upper right') \n",
    "plt.title('Van Ness BRT segment speeds')\n",
    "plt.xlabel('Speed (mph)')\n",
    "plt.ylabel('Trips (count)')\n",
    "plt.show()"
   ]
  },
  {
   "cell_type": "markdown",
   "id": "a766c168-9318-4e1e-92e1-4411ee1dd5be",
   "metadata": {},
   "source": [
    "## Extra LA Metro Corridors"
   ]
  },
  {
   "cell_type": "markdown",
   "id": "761b259c-9d73-4822-aef9-5ccc5d35b078",
   "metadata": {
    "jp-MarkdownHeadingCollapsed": true,
    "tags": []
   },
   "source": [
    "### SR2 Glendale Bl Alvarado St\n",
    "\n",
    "* multi-route corridor"
   ]
  },
  {
   "cell_type": "code",
   "execution_count": 7,
   "id": "d247569e-a969-41f0-bbfe-a886a04b91b5",
   "metadata": {
    "tags": []
   },
   "outputs": [
    {
     "data": {
      "text/plain": [
       "'gs://calitp-analytics-data/data-analyses/rt_segment_speeds/adhoc/sr2_glendale_alvarado.geojson'"
      ]
     },
     "execution_count": 7,
     "metadata": {},
     "output_type": "execute_result"
    }
   ],
   "source": [
    "f'{ADHOC_PATH}sr2_glendale_alvarado.geojson'"
   ]
  },
  {
   "cell_type": "code",
   "execution_count": 12,
   "id": "fe5f9e27-3e6f-4304-aa57-a172b30ca234",
   "metadata": {
    "tags": []
   },
   "outputs": [],
   "source": [
    "from calitp_data_analysis import get_fs"
   ]
  },
  {
   "cell_type": "code",
   "execution_count": 13,
   "id": "d5e99117-c204-4144-9f19-214e58709461",
   "metadata": {
    "tags": []
   },
   "outputs": [],
   "source": [
    "fs = get_fs()"
   ]
  },
  {
   "cell_type": "code",
   "execution_count": 33,
   "id": "c2483c79-c3a9-43c4-b8b3-e0b7d62239c2",
   "metadata": {
    "tags": []
   },
   "outputs": [],
   "source": [
    "with fs.open(f'{ADHOC_PATH}sr2_glendale_alvarado.geojson') as f:\n",
    "    sr2_glen_alv = gpd.read_file(f).to_crs(geography_utils.CA_NAD83Albers_m)\n",
    "    sr2_glen_alv['corridor_distance_meters']= sr2_glen_alv.geometry.iloc[0].length\n",
    "    sr2_glen_alv.geometry = sr2_glen_alv.buffer(corridor_analysis.CORRIDOR_BUFFER)"
   ]
  },
  {
   "cell_type": "code",
   "execution_count": 144,
   "id": "cbb19dba-32d4-48d9-819c-ff977ddb847c",
   "metadata": {
    "tags": []
   },
   "outputs": [],
   "source": [
    "# sr2_glen_alv.explore()"
   ]
  },
  {
   "cell_type": "code",
   "execution_count": 74,
   "id": "59278de7-489a-45a8-ad19-0a6f7fa9056f",
   "metadata": {
    "tags": []
   },
   "outputs": [],
   "source": [
    "sr2_glen_alv['corridor_id'] = 'sr2_glendale_alvarado'"
   ]
  },
  {
   "cell_type": "code",
   "execution_count": 75,
   "id": "de2bdcaa-1586-454d-8e92-c40f290ada6b",
   "metadata": {
    "tags": []
   },
   "outputs": [
    {
     "data": {
      "text/html": [
       "<div>\n",
       "<style scoped>\n",
       "    .dataframe tbody tr th:only-of-type {\n",
       "        vertical-align: middle;\n",
       "    }\n",
       "\n",
       "    .dataframe tbody tr th {\n",
       "        vertical-align: top;\n",
       "    }\n",
       "\n",
       "    .dataframe thead th {\n",
       "        text-align: right;\n",
       "    }\n",
       "</style>\n",
       "<table border=\"1\" class=\"dataframe\">\n",
       "  <thead>\n",
       "    <tr style=\"text-align: right;\">\n",
       "      <th></th>\n",
       "      <th>geometry</th>\n",
       "      <th>corridor_distance_meters</th>\n",
       "      <th>corridor_id</th>\n",
       "      <th>corridor_name</th>\n",
       "    </tr>\n",
       "  </thead>\n",
       "  <tbody>\n",
       "    <tr>\n",
       "      <th>0</th>\n",
       "      <td>POLYGON ((160694.254 -434767.547, 160656.841 -...</td>\n",
       "      <td>2253.076351</td>\n",
       "      <td>sr2_glendale_alvarado</td>\n",
       "      <td>sr2_glendale_alvarado</td>\n",
       "    </tr>\n",
       "  </tbody>\n",
       "</table>\n",
       "</div>"
      ],
      "text/plain": [
       "                                            geometry  \\\n",
       "0  POLYGON ((160694.254 -434767.547, 160656.841 -...   \n",
       "\n",
       "   corridor_distance_meters            corridor_id          corridor_name  \n",
       "0               2253.076351  sr2_glendale_alvarado  sr2_glendale_alvarado  "
      ]
     },
     "execution_count": 75,
     "metadata": {},
     "output_type": "execute_result"
    }
   ],
   "source": [
    "sr2_glen_alv"
   ]
  },
  {
   "cell_type": "code",
   "execution_count": 77,
   "id": "5f416efd-0a92-4c01-bbcc-66df2652b9ba",
   "metadata": {
    "tags": []
   },
   "outputs": [
    {
     "name": "stdout",
     "output_type": "stream",
     "text": [
      "0.0 percent of trips with zero seconds\n",
      "0.0 percent of trips with speeds > 80mph\n",
      "10.1 percent of trips with speed below 5th or above 95%ile\n"
     ]
    }
   ],
   "source": [
    "corridor_trips = corridor_analysis.find_corridor_data(segment_speeds, sr2_glen_alv, trip_speeds,\n",
    "                                                     custom_relevance_meters = 200)\n",
    "corridor_results = corridor_analysis.analyze_corridor_trips(corridor_trips)"
   ]
  },
  {
   "cell_type": "code",
   "execution_count": 97,
   "id": "71605227-fe2a-4302-a2ca-d1c637579cbf",
   "metadata": {
    "tags": []
   },
   "outputs": [],
   "source": [
    "# corridor_analysis.validate_corridor_routes(sr2_glen_alv, corridor_trips)"
   ]
  },
  {
   "cell_type": "code",
   "execution_count": 79,
   "id": "3e29e61d-085a-4af5-bc64-1ab0c43f030f",
   "metadata": {
    "tags": []
   },
   "outputs": [
    {
     "name": "stdout",
     "output_type": "stream",
     "text": [
      "median: 9.37mph... mph floor mode: 16mph\n"
     ]
    }
   ],
   "source": [
    "corridor_improvements = corridor_analysis.analyze_corridor_improvements(corridor_results, **{'trip_mph_floor': 16, 'trip_percent_speedup': 15})"
   ]
  },
  {
   "cell_type": "code",
   "execution_count": 80,
   "id": "ce142bec-336b-4ff0-a729-6e84548cb41c",
   "metadata": {
    "tags": []
   },
   "outputs": [
    {
     "data": {
      "text/html": [
       "<div>\n",
       "<style scoped>\n",
       "    .dataframe tbody tr th:only-of-type {\n",
       "        vertical-align: middle;\n",
       "    }\n",
       "\n",
       "    .dataframe tbody tr th {\n",
       "        vertical-align: top;\n",
       "    }\n",
       "\n",
       "    .dataframe thead th {\n",
       "        text-align: right;\n",
       "    }\n",
       "</style>\n",
       "<table border=\"1\" class=\"dataframe\">\n",
       "  <thead>\n",
       "    <tr style=\"text-align: right;\">\n",
       "      <th></th>\n",
       "      <th>trip_instance_key</th>\n",
       "      <th>corridor_meters</th>\n",
       "      <th>corridor_seconds</th>\n",
       "      <th>corridor_speed_mps</th>\n",
       "      <th>corridor_speed_mph</th>\n",
       "      <th>route_short_name</th>\n",
       "      <th>route_id</th>\n",
       "      <th>shape_array_key</th>\n",
       "      <th>shape_id</th>\n",
       "      <th>schedule_gtfs_dataset_key</th>\n",
       "      <th>time_of_day</th>\n",
       "      <th>corridor_id</th>\n",
       "      <th>improved_corridor_speed_mph</th>\n",
       "      <th>intervention_assumption</th>\n",
       "      <th>improved_corridor_speed_mps</th>\n",
       "      <th>improved_corridor_seconds</th>\n",
       "    </tr>\n",
       "  </thead>\n",
       "  <tbody>\n",
       "    <tr>\n",
       "      <th>0</th>\n",
       "      <td>00f14b5ff4aca7b5ada9bed374e32b31</td>\n",
       "      <td>1219.700581</td>\n",
       "      <td>211.0</td>\n",
       "      <td>5.780571</td>\n",
       "      <td>12.931138</td>\n",
       "      <td>2</td>\n",
       "      <td>2-13183</td>\n",
       "      <td>d592976a971b9ef47ec9bd645e34c04f</td>\n",
       "      <td>21124_JUNE24</td>\n",
       "      <td>0666caf3ec1ecc96b74f4477ee4bc939</td>\n",
       "      <td>Midday</td>\n",
       "      <td>sr2_glendale_alvarado</td>\n",
       "      <td>16.0</td>\n",
       "      <td>trips achieve 16mph or existing spd if higher</td>\n",
       "      <td>7.152436</td>\n",
       "      <td>170.529388</td>\n",
       "    </tr>\n",
       "    <tr>\n",
       "      <th>1</th>\n",
       "      <td>0146eb25c814fad79928485225b8b5db</td>\n",
       "      <td>1219.700581</td>\n",
       "      <td>262.0</td>\n",
       "      <td>4.655346</td>\n",
       "      <td>10.414008</td>\n",
       "      <td>2</td>\n",
       "      <td>2-13183</td>\n",
       "      <td>d592976a971b9ef47ec9bd645e34c04f</td>\n",
       "      <td>21124_JUNE24</td>\n",
       "      <td>0666caf3ec1ecc96b74f4477ee4bc939</td>\n",
       "      <td>Early AM</td>\n",
       "      <td>sr2_glendale_alvarado</td>\n",
       "      <td>16.0</td>\n",
       "      <td>trips achieve 16mph or existing spd if higher</td>\n",
       "      <td>7.152436</td>\n",
       "      <td>170.529388</td>\n",
       "    </tr>\n",
       "    <tr>\n",
       "      <th>2</th>\n",
       "      <td>01565dd825d4848418cca4439eda7a0d</td>\n",
       "      <td>2110.918964</td>\n",
       "      <td>378.0</td>\n",
       "      <td>5.584442</td>\n",
       "      <td>12.492396</td>\n",
       "      <td>603</td>\n",
       "      <td>603-13183</td>\n",
       "      <td>387f7d042aa398a8f2b374757bed7078</td>\n",
       "      <td>6030026_JUNE24</td>\n",
       "      <td>0666caf3ec1ecc96b74f4477ee4bc939</td>\n",
       "      <td>Early AM</td>\n",
       "      <td>sr2_glendale_alvarado</td>\n",
       "      <td>16.0</td>\n",
       "      <td>trips achieve 16mph or existing spd if higher</td>\n",
       "      <td>7.152436</td>\n",
       "      <td>295.132858</td>\n",
       "    </tr>\n",
       "  </tbody>\n",
       "</table>\n",
       "</div>"
      ],
      "text/plain": [
       "                  trip_instance_key  corridor_meters  corridor_seconds  \\\n",
       "0  00f14b5ff4aca7b5ada9bed374e32b31      1219.700581             211.0   \n",
       "1  0146eb25c814fad79928485225b8b5db      1219.700581             262.0   \n",
       "2  01565dd825d4848418cca4439eda7a0d      2110.918964             378.0   \n",
       "\n",
       "   corridor_speed_mps  corridor_speed_mph route_short_name   route_id  \\\n",
       "0            5.780571           12.931138                2    2-13183   \n",
       "1            4.655346           10.414008                2    2-13183   \n",
       "2            5.584442           12.492396              603  603-13183   \n",
       "\n",
       "                    shape_array_key        shape_id  \\\n",
       "0  d592976a971b9ef47ec9bd645e34c04f    21124_JUNE24   \n",
       "1  d592976a971b9ef47ec9bd645e34c04f    21124_JUNE24   \n",
       "2  387f7d042aa398a8f2b374757bed7078  6030026_JUNE24   \n",
       "\n",
       "          schedule_gtfs_dataset_key time_of_day            corridor_id  \\\n",
       "0  0666caf3ec1ecc96b74f4477ee4bc939      Midday  sr2_glendale_alvarado   \n",
       "1  0666caf3ec1ecc96b74f4477ee4bc939    Early AM  sr2_glendale_alvarado   \n",
       "2  0666caf3ec1ecc96b74f4477ee4bc939    Early AM  sr2_glendale_alvarado   \n",
       "\n",
       "   improved_corridor_speed_mph                        intervention_assumption  \\\n",
       "0                         16.0  trips achieve 16mph or existing spd if higher   \n",
       "1                         16.0  trips achieve 16mph or existing spd if higher   \n",
       "2                         16.0  trips achieve 16mph or existing spd if higher   \n",
       "\n",
       "   improved_corridor_speed_mps  improved_corridor_seconds  \n",
       "0                     7.152436                 170.529388  \n",
       "1                     7.152436                 170.529388  \n",
       "2                     7.152436                 295.132858  "
      ]
     },
     "execution_count": 80,
     "metadata": {},
     "output_type": "execute_result"
    }
   ],
   "source": [
    "corridor_improvements.head(3)"
   ]
  },
  {
   "cell_type": "code",
   "execution_count": 81,
   "id": "61b942ba-df4a-45b7-8ab1-407d9e6529b4",
   "metadata": {
    "tags": []
   },
   "outputs": [],
   "source": [
    "summarized = corridor_analysis.summarize_corridor_improvements(corridor_improvements, frequencies)"
   ]
  },
  {
   "cell_type": "code",
   "execution_count": 93,
   "id": "275816bb-8fa0-4f61-ac4c-59794663d9cc",
   "metadata": {
    "tags": []
   },
   "outputs": [
    {
     "data": {
      "text/html": [
       "<div>\n",
       "<style scoped>\n",
       "    .dataframe tbody tr th:only-of-type {\n",
       "        vertical-align: middle;\n",
       "    }\n",
       "\n",
       "    .dataframe tbody tr th {\n",
       "        vertical-align: top;\n",
       "    }\n",
       "\n",
       "    .dataframe thead th {\n",
       "        text-align: right;\n",
       "    }\n",
       "</style>\n",
       "<table border=\"1\" class=\"dataframe\">\n",
       "  <thead>\n",
       "    <tr style=\"text-align: right;\">\n",
       "      <th></th>\n",
       "      <th>corridor_id</th>\n",
       "      <th>schedule_gtfs_dataset_key</th>\n",
       "      <th>intervention_assumption</th>\n",
       "      <th>corridor_seconds</th>\n",
       "      <th>improved_corridor_seconds</th>\n",
       "      <th>delay_seconds</th>\n",
       "      <th>delay_minutes</th>\n",
       "      <th>route_short_name</th>\n",
       "      <th>route_id</th>\n",
       "      <th>median_corridor_mph</th>\n",
       "      <th>n_trips_daily</th>\n",
       "      <th>trips_hr_sch</th>\n",
       "      <th>corridor_name</th>\n",
       "      <th>corridor_notes</th>\n",
       "      <th>district</th>\n",
       "    </tr>\n",
       "  </thead>\n",
       "  <tbody>\n",
       "    <tr>\n",
       "      <th>0</th>\n",
       "      <td>sr2_glendale_alvarado</td>\n",
       "      <td>0666caf3ec1ecc96b74f4477ee4bc939</td>\n",
       "      <td>trips achieve 16mph or existing spd if higher</td>\n",
       "      <td>156886.0</td>\n",
       "      <td>88973.1</td>\n",
       "      <td>67912.9</td>\n",
       "      <td>1131.9</td>\n",
       "      <td>[2, 603, 92]</td>\n",
       "      <td>[2-13183, 603-13183, 92-13183]</td>\n",
       "      <td>9.4</td>\n",
       "      <td>427</td>\n",
       "      <td>[10.6, 5.3, 7.6]</td>\n",
       "      <td>sr2_glendale_alvarado</td>\n",
       "      <td></td>\n",
       "      <td>7</td>\n",
       "    </tr>\n",
       "  </tbody>\n",
       "</table>\n",
       "</div>"
      ],
      "text/plain": [
       "             corridor_id         schedule_gtfs_dataset_key  \\\n",
       "0  sr2_glendale_alvarado  0666caf3ec1ecc96b74f4477ee4bc939   \n",
       "\n",
       "                         intervention_assumption  corridor_seconds  \\\n",
       "0  trips achieve 16mph or existing spd if higher          156886.0   \n",
       "\n",
       "   improved_corridor_seconds  delay_seconds  delay_minutes route_short_name  \\\n",
       "0                    88973.1        67912.9         1131.9     [2, 603, 92]   \n",
       "\n",
       "                         route_id  median_corridor_mph  n_trips_daily  \\\n",
       "0  [2-13183, 603-13183, 92-13183]                  9.4            427   \n",
       "\n",
       "       trips_hr_sch          corridor_name corridor_notes district  \n",
       "0  [10.6, 5.3, 7.6]  sr2_glendale_alvarado                       7  "
      ]
     },
     "execution_count": 93,
     "metadata": {},
     "output_type": "execute_result"
    }
   ],
   "source": [
    "summarized"
   ]
  },
  {
   "cell_type": "code",
   "execution_count": 72,
   "id": "72897494-0f40-46d5-b04c-849957dca9e4",
   "metadata": {
    "tags": []
   },
   "outputs": [
    {
     "data": {
      "text/plain": [
       "0.7578886882167059"
      ]
     },
     "execution_count": 72,
     "metadata": {},
     "output_type": "execute_result"
    }
   ],
   "source": [
    "corridor_improvements.corridor_meters.iloc[0] / rt_utils.METERS_PER_MILE"
   ]
  },
  {
   "cell_type": "code",
   "execution_count": 94,
   "id": "c77c252a-fc07-4f56-8ca2-bee12f51f9ba",
   "metadata": {
    "tags": []
   },
   "outputs": [
    {
     "data": {
      "text/plain": [
       "0    1509.2\n",
       "Name: delay_minutes, dtype: float64"
      ]
     },
     "execution_count": 94,
     "metadata": {},
     "output_type": "execute_result"
    }
   ],
   "source": [
    "summarized.delay_minutes / .75"
   ]
  },
  {
   "cell_type": "code",
   "execution_count": 95,
   "id": "39fb1dc3-5650-41b9-8716-e8c8bfaad209",
   "metadata": {
    "tags": []
   },
   "outputs": [
    {
     "data": {
      "text/plain": [
       "0    23.5\n",
       "Name: trips_hr_sch, dtype: float64"
      ]
     },
     "execution_count": 95,
     "metadata": {},
     "output_type": "execute_result"
    }
   ],
   "source": [
    "summarized.trips_hr_sch.map(lambda x: sum(x))"
   ]
  },
  {
   "cell_type": "code",
   "execution_count": 96,
   "id": "7c73483f-965c-4732-824e-457e208ebb34",
   "metadata": {
    "tags": []
   },
   "outputs": [
    {
     "data": {
      "text/plain": [
       "0    2.65082\n",
       "Name: delay_minutes, dtype: float64"
      ]
     },
     "execution_count": 96,
     "metadata": {},
     "output_type": "execute_result"
    }
   ],
   "source": [
    "summarized.delay_minutes / 427"
   ]
  },
  {
   "cell_type": "markdown",
   "id": "dcdfdf2f-02c8-4ab6-9b28-83431a4ba6bd",
   "metadata": {},
   "source": [
    "### SR2 Santa Monica Bl (Westside I405-Ohio)\n",
    "\n",
    "* planned peak-hour lanes, assess difference with all-day\n",
    "* 7a-9a, 4p-6p"
   ]
  },
  {
   "cell_type": "code",
   "execution_count": 188,
   "id": "38940075-020c-46cc-a2a4-466069f38347",
   "metadata": {
    "tags": []
   },
   "outputs": [
    {
     "data": {
      "text/plain": [
       "<module 'segment_speed_utils.corridor_analysis' from '/home/jovyan/data-analyses/rt_segment_speeds/segment_speed_utils/corridor_analysis.py'>"
      ]
     },
     "execution_count": 188,
     "metadata": {},
     "output_type": "execute_result"
    }
   ],
   "source": [
    "importlib.reload(corridor_analysis)"
   ]
  },
  {
   "cell_type": "markdown",
   "id": "e985118a-5f60-4b4f-80fc-a3186b1371ea",
   "metadata": {},
   "source": [
    "#### midday"
   ]
  },
  {
   "cell_type": "code",
   "execution_count": 225,
   "id": "2b26d2b0-7256-4a36-92c9-cc301a0e41c0",
   "metadata": {
    "tags": []
   },
   "outputs": [
    {
     "data": {
      "text/plain": [
       "'2024-12-11'"
      ]
     },
     "execution_count": 225,
     "metadata": {},
     "output_type": "execute_result"
    }
   ],
   "source": [
    "analysis_date"
   ]
  },
  {
   "cell_type": "code",
   "execution_count": 226,
   "id": "f0de0311-46a9-4275-b066-ff9237cb3643",
   "metadata": {
    "tags": []
   },
   "outputs": [],
   "source": [
    "start_mid = dt.datetime.combine(dt.date.fromisoformat(analysis_date), dt.time.fromisoformat('09:00'))\n",
    "end_mid = dt.datetime.combine(dt.date.fromisoformat(analysis_date), dt.time.fromisoformat('16:00'))"
   ]
  },
  {
   "cell_type": "code",
   "execution_count": 227,
   "id": "f97618a1-0b04-4487-91f4-25df1aae49d5",
   "metadata": {
    "tags": []
   },
   "outputs": [],
   "source": [
    "gdf = corridor_analysis.corridor_from_segments(speed_segments_gdf=segment_speeds,\n",
    "                                               organization_source_record_id='recPnGkwdpnr8jmHB',\n",
    "                                               shape_id='40364_JUNE24',\n",
    "                                               start_seg_id='5979-6041-2',\n",
    "                                               end_seg_id='5991-14424-1')"
   ]
  },
  {
   "cell_type": "code",
   "execution_count": 228,
   "id": "8ef69f51-3780-4fc8-80e6-e2898f57df93",
   "metadata": {
    "tags": []
   },
   "outputs": [
    {
     "name": "stdout",
     "output_type": "stream",
     "text": [
      "0.0 percent of trips with zero seconds\n",
      "0.0 percent of trips with speeds > 80mph\n",
      "11.3 percent of trips with speed below 5th or above 95%ile\n"
     ]
    }
   ],
   "source": [
    "corridor_trips = corridor_analysis.find_corridor_data(segment_speeds, gdf, trip_speeds,\n",
    "                                                     start_datetime=start_mid,\n",
    "                                                     end_datetime=end_mid)\n",
    "corridor_results = corridor_analysis.analyze_corridor_trips(corridor_trips)"
   ]
  },
  {
   "cell_type": "code",
   "execution_count": 229,
   "id": "8a8ee61d-c610-4960-9fa8-becb411430fe",
   "metadata": {
    "tags": []
   },
   "outputs": [],
   "source": [
    "# corridor_analysis.validate_corridor_routes(gdf, corridor_trips) #  metro 4, bbb 1 looks good"
   ]
  },
  {
   "cell_type": "code",
   "execution_count": 230,
   "id": "5f435089-0602-45de-b81d-f7c65f637f4a",
   "metadata": {
    "tags": []
   },
   "outputs": [
    {
     "name": "stdout",
     "output_type": "stream",
     "text": [
      "median: 9.15mph... mph floor mode: 16mph\n"
     ]
    }
   ],
   "source": [
    "corridor_improvements = corridor_analysis.analyze_corridor_improvements(corridor_results, **{'trip_mph_floor': 16, 'trip_percent_speedup': 15})"
   ]
  },
  {
   "cell_type": "code",
   "execution_count": 231,
   "id": "7d16fc06-ae54-4039-825c-330edaba00ab",
   "metadata": {
    "tags": []
   },
   "outputs": [],
   "source": [
    "# corridor_improvements.head(3)"
   ]
  },
  {
   "cell_type": "code",
   "execution_count": 232,
   "id": "0dd6b618-44f8-4cbc-a5de-dbb4b6f9b8aa",
   "metadata": {
    "tags": []
   },
   "outputs": [],
   "source": [
    "summarized = corridor_analysis.summarize_corridor_improvements(corridor_improvements, frequencies, gdf)"
   ]
  },
  {
   "cell_type": "code",
   "execution_count": 233,
   "id": "6c332e6c-bc80-4e96-aac7-4b3221046dc7",
   "metadata": {
    "tags": []
   },
   "outputs": [
    {
     "data": {
      "text/html": [
       "<div>\n",
       "<style scoped>\n",
       "    .dataframe tbody tr th:only-of-type {\n",
       "        vertical-align: middle;\n",
       "    }\n",
       "\n",
       "    .dataframe tbody tr th {\n",
       "        vertical-align: top;\n",
       "    }\n",
       "\n",
       "    .dataframe thead th {\n",
       "        text-align: right;\n",
       "    }\n",
       "</style>\n",
       "<table border=\"1\" class=\"dataframe\">\n",
       "  <thead>\n",
       "    <tr style=\"text-align: right;\">\n",
       "      <th></th>\n",
       "      <th>corridor_id</th>\n",
       "      <th>intervention_assumption</th>\n",
       "      <th>corridor_miles</th>\n",
       "      <th>delay_minutes</th>\n",
       "      <th>minutes_per_mile</th>\n",
       "      <th>median_corridor_mph</th>\n",
       "      <th>trips_per_hr_peak_directional</th>\n",
       "      <th>n_trips_daily</th>\n",
       "      <th>average_trip_delay</th>\n",
       "    </tr>\n",
       "  </thead>\n",
       "  <tbody>\n",
       "    <tr>\n",
       "      <th>0</th>\n",
       "      <td>2365467368501946497</td>\n",
       "      <td>trips achieve 16mph or existing spd if higher</td>\n",
       "      <td>1.4</td>\n",
       "      <td>730.6</td>\n",
       "      <td>505.4</td>\n",
       "      <td>9.4</td>\n",
       "      <td>27.4</td>\n",
       "      <td>125</td>\n",
       "      <td>5.8</td>\n",
       "    </tr>\n",
       "  </tbody>\n",
       "</table>\n",
       "</div>"
      ],
      "text/plain": [
       "           corridor_id                        intervention_assumption  \\\n",
       "0  2365467368501946497  trips achieve 16mph or existing spd if higher   \n",
       "\n",
       "   corridor_miles  delay_minutes  minutes_per_mile  median_corridor_mph  \\\n",
       "0             1.4          730.6             505.4                  9.4   \n",
       "\n",
       "   trips_per_hr_peak_directional  n_trips_daily  average_trip_delay  \n",
       "0                           27.4            125                 5.8  "
      ]
     },
     "execution_count": 233,
     "metadata": {},
     "output_type": "execute_result"
    }
   ],
   "source": [
    "corridor_analysis.combine_corridor_operators(summarized)"
   ]
  },
  {
   "cell_type": "markdown",
   "id": "beac0a30-b8fa-4251-b41b-6d189b1fbd5e",
   "metadata": {},
   "source": [
    "#### eve"
   ]
  },
  {
   "cell_type": "code",
   "execution_count": 198,
   "id": "457937c8-e1e0-4dfa-bbd8-8aa933ecd62a",
   "metadata": {
    "tags": []
   },
   "outputs": [
    {
     "data": {
      "text/plain": [
       "'2024-12-11'"
      ]
     },
     "execution_count": 198,
     "metadata": {},
     "output_type": "execute_result"
    }
   ],
   "source": [
    "analysis_date"
   ]
  },
  {
   "cell_type": "code",
   "execution_count": 199,
   "id": "e70ae499-cd70-4781-897e-1b6aa3127c87",
   "metadata": {
    "tags": []
   },
   "outputs": [],
   "source": [
    "start_eve = dt.datetime.combine(dt.date.fromisoformat(analysis_date), dt.time.fromisoformat('18:00'))\n",
    "end_eve = dt.datetime.combine(dt.date.fromisoformat(analysis_date), dt.time.fromisoformat('23:59'))"
   ]
  },
  {
   "cell_type": "code",
   "execution_count": 200,
   "id": "418aae8a-eb92-4c92-8c8b-a42b811a2f35",
   "metadata": {
    "tags": []
   },
   "outputs": [],
   "source": [
    "gdf = corridor_analysis.corridor_from_segments(speed_segments_gdf=segment_speeds,\n",
    "                                               organization_source_record_id='recPnGkwdpnr8jmHB',\n",
    "                                               shape_id='40364_JUNE24',\n",
    "                                               start_seg_id='5979-6041-2',\n",
    "                                               end_seg_id='5991-14424-1')"
   ]
  },
  {
   "cell_type": "code",
   "execution_count": 201,
   "id": "64fb7295-2e66-4455-8bc1-34e14534e91c",
   "metadata": {
    "tags": []
   },
   "outputs": [
    {
     "name": "stdout",
     "output_type": "stream",
     "text": [
      "1.1 percent of trips with zero seconds\n",
      "0.0 percent of trips with speeds > 80mph\n",
      "11.2 percent of trips with speed below 5th or above 95%ile\n"
     ]
    }
   ],
   "source": [
    "corridor_trips = corridor_analysis.find_corridor_data(segment_speeds, gdf, trip_speeds,\n",
    "                                                     start_datetime=start_eve,\n",
    "                                                     end_datetime=end_eve)\n",
    "corridor_results = corridor_analysis.analyze_corridor_trips(corridor_trips)"
   ]
  },
  {
   "cell_type": "code",
   "execution_count": 202,
   "id": "1ef54cd2-b639-4897-ab72-c38422ac17aa",
   "metadata": {
    "tags": []
   },
   "outputs": [],
   "source": [
    "# corridor_analysis.validate_corridor_routes(gdf, corridor_trips) #  metro 4, bbb 1 looks good"
   ]
  },
  {
   "cell_type": "code",
   "execution_count": 203,
   "id": "e0c47604-2a17-41d0-9a10-b319fb6b1007",
   "metadata": {
    "tags": []
   },
   "outputs": [
    {
     "name": "stdout",
     "output_type": "stream",
     "text": [
      "median: 12.01mph... mph floor mode: 16mph\n"
     ]
    }
   ],
   "source": [
    "corridor_improvements = corridor_analysis.analyze_corridor_improvements(corridor_results, **{'trip_mph_floor': 16, 'trip_percent_speedup': 15})"
   ]
  },
  {
   "cell_type": "code",
   "execution_count": 204,
   "id": "ae9f90d4-55df-43e6-bfd7-7bfd8eff135e",
   "metadata": {
    "tags": []
   },
   "outputs": [],
   "source": [
    "# corridor_improvements.head(3)"
   ]
  },
  {
   "cell_type": "code",
   "execution_count": 205,
   "id": "86d7dd34-6cc1-43df-bdb4-1b147bf8444c",
   "metadata": {
    "tags": []
   },
   "outputs": [],
   "source": [
    "summarized = corridor_analysis.summarize_corridor_improvements(corridor_improvements, frequencies, gdf)"
   ]
  },
  {
   "cell_type": "code",
   "execution_count": 206,
   "id": "2176eb7e-fcaf-492d-8761-e7ecd08b3fb3",
   "metadata": {
    "tags": []
   },
   "outputs": [
    {
     "data": {
      "text/html": [
       "<div>\n",
       "<style scoped>\n",
       "    .dataframe tbody tr th:only-of-type {\n",
       "        vertical-align: middle;\n",
       "    }\n",
       "\n",
       "    .dataframe tbody tr th {\n",
       "        vertical-align: top;\n",
       "    }\n",
       "\n",
       "    .dataframe thead th {\n",
       "        text-align: right;\n",
       "    }\n",
       "</style>\n",
       "<table border=\"1\" class=\"dataframe\">\n",
       "  <thead>\n",
       "    <tr style=\"text-align: right;\">\n",
       "      <th></th>\n",
       "      <th>corridor_id</th>\n",
       "      <th>intervention_assumption</th>\n",
       "      <th>corridor_miles</th>\n",
       "      <th>delay_minutes</th>\n",
       "      <th>minutes_per_mile</th>\n",
       "      <th>median_corridor_mph</th>\n",
       "      <th>trips_per_hr_peak_directional</th>\n",
       "      <th>n_trips_daily</th>\n",
       "      <th>average_trip_delay</th>\n",
       "    </tr>\n",
       "  </thead>\n",
       "  <tbody>\n",
       "    <tr>\n",
       "      <th>0</th>\n",
       "      <td>2365467368501946497</td>\n",
       "      <td>trips achieve 16mph or existing spd if higher</td>\n",
       "      <td>1.4</td>\n",
       "      <td>241.3</td>\n",
       "      <td>167.0</td>\n",
       "      <td>11.7</td>\n",
       "      <td>27.4</td>\n",
       "      <td>79</td>\n",
       "      <td>3.1</td>\n",
       "    </tr>\n",
       "  </tbody>\n",
       "</table>\n",
       "</div>"
      ],
      "text/plain": [
       "           corridor_id                        intervention_assumption  \\\n",
       "0  2365467368501946497  trips achieve 16mph or existing spd if higher   \n",
       "\n",
       "   corridor_miles  delay_minutes  minutes_per_mile  median_corridor_mph  \\\n",
       "0             1.4          241.3             167.0                 11.7   \n",
       "\n",
       "   trips_per_hr_peak_directional  n_trips_daily  average_trip_delay  \n",
       "0                           27.4             79                 3.1  "
      ]
     },
     "execution_count": 206,
     "metadata": {},
     "output_type": "execute_result"
    }
   ],
   "source": [
    "corridor_analysis.combine_corridor_operators(summarized)"
   ]
  },
  {
   "cell_type": "markdown",
   "id": "bf3c2bc5-c37a-4360-91b6-6e10ca09982a",
   "metadata": {},
   "source": [
    "#### am"
   ]
  },
  {
   "cell_type": "code",
   "execution_count": 234,
   "id": "6ab16626-63ca-4e1a-9429-d7b3307afff6",
   "metadata": {
    "tags": []
   },
   "outputs": [
    {
     "data": {
      "text/plain": [
       "'2024-12-11'"
      ]
     },
     "execution_count": 234,
     "metadata": {},
     "output_type": "execute_result"
    }
   ],
   "source": [
    "analysis_date"
   ]
  },
  {
   "cell_type": "code",
   "execution_count": 235,
   "id": "aea5a7b2-9a61-413d-b13e-862b92bef2bf",
   "metadata": {
    "tags": []
   },
   "outputs": [],
   "source": [
    "start_am = dt.datetime.combine(dt.date.fromisoformat(analysis_date), dt.time.fromisoformat('07:00'))\n",
    "end_am = dt.datetime.combine(dt.date.fromisoformat(analysis_date), dt.time.fromisoformat('09:00'))"
   ]
  },
  {
   "cell_type": "code",
   "execution_count": 236,
   "id": "aa4c391b-6e84-4b0d-90c3-867a0ec5a3cc",
   "metadata": {
    "tags": []
   },
   "outputs": [],
   "source": [
    "gdf = corridor_analysis.corridor_from_segments(speed_segments_gdf=segment_speeds,\n",
    "                                               organization_source_record_id='recPnGkwdpnr8jmHB',\n",
    "                                               shape_id='40364_JUNE24',\n",
    "                                               start_seg_id='5979-6041-2',\n",
    "                                               end_seg_id='5991-14424-1')"
   ]
  },
  {
   "cell_type": "code",
   "execution_count": 237,
   "id": "e31a2dfd-3fb9-407c-acbe-3c32bd96242f",
   "metadata": {
    "tags": []
   },
   "outputs": [
    {
     "name": "stdout",
     "output_type": "stream",
     "text": [
      "0.0 percent of trips with zero seconds\n",
      "0.0 percent of trips with speeds > 80mph\n",
      "10.3 percent of trips with speed below 5th or above 95%ile\n"
     ]
    }
   ],
   "source": [
    "corridor_trips = corridor_analysis.find_corridor_data(segment_speeds, gdf, trip_speeds,\n",
    "                                                     start_datetime=start_am,\n",
    "                                                     end_datetime=end_am)\n",
    "corridor_results = corridor_analysis.analyze_corridor_trips(corridor_trips)"
   ]
  },
  {
   "cell_type": "code",
   "execution_count": 238,
   "id": "49d20ccc-d626-44bc-8f21-f62b70754d4f",
   "metadata": {
    "tags": []
   },
   "outputs": [],
   "source": [
    "# corridor_analysis.validate_corridor_routes(gdf, corridor_trips) #  metro 4, bbb 1 looks good"
   ]
  },
  {
   "cell_type": "code",
   "execution_count": 239,
   "id": "a22b46cf-c870-406e-a8cd-aae11c5519c2",
   "metadata": {
    "tags": []
   },
   "outputs": [
    {
     "name": "stdout",
     "output_type": "stream",
     "text": [
      "median: 10.1mph... mph floor mode: 16mph\n"
     ]
    }
   ],
   "source": [
    "corridor_improvements = corridor_analysis.analyze_corridor_improvements(corridor_results, **{'trip_mph_floor': 16, 'trip_percent_speedup': 15})"
   ]
  },
  {
   "cell_type": "code",
   "execution_count": 240,
   "id": "466edffe-b70f-4c35-a79b-fd1320751a1f",
   "metadata": {
    "tags": []
   },
   "outputs": [],
   "source": [
    "# corridor_improvements.head(3)"
   ]
  },
  {
   "cell_type": "code",
   "execution_count": 241,
   "id": "2a1dd6f6-17b2-4f25-a3af-2a04c27d03db",
   "metadata": {
    "tags": []
   },
   "outputs": [],
   "source": [
    "summarized = corridor_analysis.summarize_corridor_improvements(corridor_improvements, frequencies, gdf)"
   ]
  },
  {
   "cell_type": "code",
   "execution_count": 242,
   "id": "9b541ae1-c5b2-436f-b0db-4b0fc5e35752",
   "metadata": {
    "tags": []
   },
   "outputs": [],
   "source": [
    "am = corridor_analysis.combine_corridor_operators(summarized)"
   ]
  },
  {
   "cell_type": "code",
   "execution_count": 243,
   "id": "ffe1039e-4cb8-4339-ac6d-d20c2af05575",
   "metadata": {
    "tags": []
   },
   "outputs": [
    {
     "data": {
      "text/html": [
       "<div>\n",
       "<style scoped>\n",
       "    .dataframe tbody tr th:only-of-type {\n",
       "        vertical-align: middle;\n",
       "    }\n",
       "\n",
       "    .dataframe tbody tr th {\n",
       "        vertical-align: top;\n",
       "    }\n",
       "\n",
       "    .dataframe thead th {\n",
       "        text-align: right;\n",
       "    }\n",
       "</style>\n",
       "<table border=\"1\" class=\"dataframe\">\n",
       "  <thead>\n",
       "    <tr style=\"text-align: right;\">\n",
       "      <th></th>\n",
       "      <th>corridor_id</th>\n",
       "      <th>intervention_assumption</th>\n",
       "      <th>corridor_miles</th>\n",
       "      <th>delay_minutes</th>\n",
       "      <th>minutes_per_mile</th>\n",
       "      <th>median_corridor_mph</th>\n",
       "      <th>trips_per_hr_peak_directional</th>\n",
       "      <th>n_trips_daily</th>\n",
       "      <th>average_trip_delay</th>\n",
       "    </tr>\n",
       "  </thead>\n",
       "  <tbody>\n",
       "    <tr>\n",
       "      <th>0</th>\n",
       "      <td>2365467368501946497</td>\n",
       "      <td>trips achieve 16mph or existing spd if higher</td>\n",
       "      <td>1.4</td>\n",
       "      <td>138.2</td>\n",
       "      <td>95.6</td>\n",
       "      <td>10.2</td>\n",
       "      <td>27.4</td>\n",
       "      <td>35</td>\n",
       "      <td>3.9</td>\n",
       "    </tr>\n",
       "  </tbody>\n",
       "</table>\n",
       "</div>"
      ],
      "text/plain": [
       "           corridor_id                        intervention_assumption  \\\n",
       "0  2365467368501946497  trips achieve 16mph or existing spd if higher   \n",
       "\n",
       "   corridor_miles  delay_minutes  minutes_per_mile  median_corridor_mph  \\\n",
       "0             1.4          138.2              95.6                 10.2   \n",
       "\n",
       "   trips_per_hr_peak_directional  n_trips_daily  average_trip_delay  \n",
       "0                           27.4             35                 3.9  "
      ]
     },
     "execution_count": 243,
     "metadata": {},
     "output_type": "execute_result"
    }
   ],
   "source": [
    "am"
   ]
  },
  {
   "cell_type": "markdown",
   "id": "4f00b224-a464-42fa-b2c8-c953236b5be0",
   "metadata": {
    "tags": []
   },
   "source": [
    "#### pm"
   ]
  },
  {
   "cell_type": "code",
   "execution_count": 244,
   "id": "24a79594-e6c8-4b10-bd4b-84f2ec9e682d",
   "metadata": {
    "tags": []
   },
   "outputs": [
    {
     "data": {
      "text/plain": [
       "'2024-12-11'"
      ]
     },
     "execution_count": 244,
     "metadata": {},
     "output_type": "execute_result"
    }
   ],
   "source": [
    "analysis_date"
   ]
  },
  {
   "cell_type": "code",
   "execution_count": 245,
   "id": "6d52689a-e41e-4795-95f0-ded5c7e6bf83",
   "metadata": {
    "tags": []
   },
   "outputs": [],
   "source": [
    "start_pm = dt.datetime.combine(dt.date.fromisoformat(analysis_date), dt.time.fromisoformat('16:00'))\n",
    "end_pm = dt.datetime.combine(dt.date.fromisoformat(analysis_date), dt.time.fromisoformat('18:00'))"
   ]
  },
  {
   "cell_type": "code",
   "execution_count": 246,
   "id": "0aa1774f-1f82-406b-adf5-6ab42df9350d",
   "metadata": {
    "tags": []
   },
   "outputs": [],
   "source": [
    "gdf = corridor_analysis.corridor_from_segments(speed_segments_gdf=segment_speeds,\n",
    "                                               organization_source_record_id='recPnGkwdpnr8jmHB',\n",
    "                                               shape_id='40364_JUNE24',\n",
    "                                               start_seg_id='5979-6041-2',\n",
    "                                               end_seg_id='5991-14424-1')"
   ]
  },
  {
   "cell_type": "code",
   "execution_count": 247,
   "id": "835a91b9-d22d-4ac9-a6ba-f6fae14786cc",
   "metadata": {
    "tags": []
   },
   "outputs": [
    {
     "name": "stdout",
     "output_type": "stream",
     "text": [
      "0.0 percent of trips with zero seconds\n",
      "0.0 percent of trips with speeds > 80mph\n",
      "14.3 percent of trips with speed below 5th or above 95%ile\n"
     ]
    }
   ],
   "source": [
    "corridor_trips = corridor_analysis.find_corridor_data(segment_speeds, gdf, trip_speeds,\n",
    "                                                     start_datetime=start_pm,\n",
    "                                                     end_datetime=end_pm)\n",
    "corridor_results = corridor_analysis.analyze_corridor_trips(corridor_trips)"
   ]
  },
  {
   "cell_type": "code",
   "execution_count": 248,
   "id": "dfc2cd17-a6a3-4c39-8d54-b3392ea77175",
   "metadata": {
    "tags": []
   },
   "outputs": [],
   "source": [
    "# corridor_analysis.validate_corridor_routes(gdf, corridor_trips) #  metro 4, bbb 1 looks good"
   ]
  },
  {
   "cell_type": "code",
   "execution_count": 249,
   "id": "1f3ecd9d-921c-4840-b0f0-03df3a328ba3",
   "metadata": {
    "tags": []
   },
   "outputs": [
    {
     "name": "stdout",
     "output_type": "stream",
     "text": [
      "median: 5.2mph... mph floor mode: 16mph\n"
     ]
    }
   ],
   "source": [
    "corridor_improvements = corridor_analysis.analyze_corridor_improvements(corridor_results, **{'trip_mph_floor': 16, 'trip_percent_speedup': 15})"
   ]
  },
  {
   "cell_type": "code",
   "execution_count": 250,
   "id": "a9e9a449-f188-4411-b376-77ef68dcdab2",
   "metadata": {
    "tags": []
   },
   "outputs": [],
   "source": [
    "# corridor_improvements.head(3)"
   ]
  },
  {
   "cell_type": "code",
   "execution_count": 251,
   "id": "723a073b-cb83-4598-a775-f6027a6b98a5",
   "metadata": {
    "tags": []
   },
   "outputs": [],
   "source": [
    "summarized = corridor_analysis.summarize_corridor_improvements(corridor_improvements, frequencies, gdf)"
   ]
  },
  {
   "cell_type": "code",
   "execution_count": 252,
   "id": "76df26aa-7c4a-452a-8fd8-e540f702ebe5",
   "metadata": {
    "tags": []
   },
   "outputs": [],
   "source": [
    "pm = corridor_analysis.combine_corridor_operators(summarized)"
   ]
  },
  {
   "cell_type": "code",
   "execution_count": 253,
   "id": "0375cbb2-a632-4295-9151-35289ce31b01",
   "metadata": {
    "tags": []
   },
   "outputs": [
    {
     "data": {
      "text/html": [
       "<div>\n",
       "<style scoped>\n",
       "    .dataframe tbody tr th:only-of-type {\n",
       "        vertical-align: middle;\n",
       "    }\n",
       "\n",
       "    .dataframe tbody tr th {\n",
       "        vertical-align: top;\n",
       "    }\n",
       "\n",
       "    .dataframe thead th {\n",
       "        text-align: right;\n",
       "    }\n",
       "</style>\n",
       "<table border=\"1\" class=\"dataframe\">\n",
       "  <thead>\n",
       "    <tr style=\"text-align: right;\">\n",
       "      <th></th>\n",
       "      <th>corridor_id</th>\n",
       "      <th>intervention_assumption</th>\n",
       "      <th>corridor_miles</th>\n",
       "      <th>delay_minutes</th>\n",
       "      <th>minutes_per_mile</th>\n",
       "      <th>median_corridor_mph</th>\n",
       "      <th>trips_per_hr_peak_directional</th>\n",
       "      <th>n_trips_daily</th>\n",
       "      <th>average_trip_delay</th>\n",
       "    </tr>\n",
       "  </thead>\n",
       "  <tbody>\n",
       "    <tr>\n",
       "      <th>0</th>\n",
       "      <td>2365467368501946497</td>\n",
       "      <td>trips achieve 16mph or existing spd if higher</td>\n",
       "      <td>1.4</td>\n",
       "      <td>511.5</td>\n",
       "      <td>353.8</td>\n",
       "      <td>5.6</td>\n",
       "      <td>27.4</td>\n",
       "      <td>36</td>\n",
       "      <td>14.2</td>\n",
       "    </tr>\n",
       "  </tbody>\n",
       "</table>\n",
       "</div>"
      ],
      "text/plain": [
       "           corridor_id                        intervention_assumption  \\\n",
       "0  2365467368501946497  trips achieve 16mph or existing spd if higher   \n",
       "\n",
       "   corridor_miles  delay_minutes  minutes_per_mile  median_corridor_mph  \\\n",
       "0             1.4          511.5             353.8                  5.6   \n",
       "\n",
       "   trips_per_hr_peak_directional  n_trips_daily  average_trip_delay  \n",
       "0                           27.4             36                14.2  "
      ]
     },
     "execution_count": 253,
     "metadata": {},
     "output_type": "execute_result"
    }
   ],
   "source": [
    "pm"
   ]
  }
 ],
 "metadata": {
  "kernelspec": {
   "display_name": "Python 3 (ipykernel)",
   "language": "python",
   "name": "python3"
  },
  "language_info": {
   "codemirror_mode": {
    "name": "ipython",
    "version": 3
   },
   "file_extension": ".py",
   "mimetype": "text/x-python",
   "name": "python",
   "nbconvert_exporter": "python",
   "pygments_lexer": "ipython3",
   "version": "3.11.10"
  },
  "widgets": {
   "application/vnd.jupyter.widget-state+json": {
    "state": {},
    "version_major": 2,
    "version_minor": 0
   }
  }
 },
 "nbformat": 4,
 "nbformat_minor": 5
}
