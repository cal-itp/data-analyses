{
 "cells": [
  {
   "cell_type": "code",
   "execution_count": 1,
   "id": "d528f399-cf33-459e-b5dc-92e0b4ae389a",
   "metadata": {},
   "outputs": [],
   "source": [
    "import pandas as pd\n",
    "import geopandas as gpd\n",
    "\n",
    "from shared_utils import rt_utils, catalog_utils\n",
    "\n",
    "from calitp_data_analysis import get_fs, geography_utils\n",
    "from segment_speed_utils import helpers, time_series_utils, gtfs_schedule_wrangling, corridor_analysis\n",
    "from segment_speed_utils.project_vars import SCHED_GCS, SEGMENT_GCS, GTFS_DATA_DICT, analysis_date"
   ]
  },
  {
   "cell_type": "markdown",
   "id": "4d47cbc7-52e7-4f13-80a4-46bba9b03cca",
   "metadata": {},
   "source": [
    "# develop and test some basic tools for corridor analysis"
   ]
  },
  {
   "cell_type": "code",
   "execution_count": 2,
   "id": "6cd318e5-5c4e-4249-b158-232f4d940770",
   "metadata": {},
   "outputs": [],
   "source": [
    "catalog = catalog_utils.get_catalog('gtfs_analytics_data')"
   ]
  },
  {
   "cell_type": "code",
   "execution_count": 3,
   "id": "6e86c1a8-d3de-4fc6-9478-c03133b6745c",
   "metadata": {},
   "outputs": [
    {
     "data": {
      "text/plain": [
       "{'dir': '${gcs_paths.SEGMENT_GCS}', 'stage1': '${speeds_tables.vp_dwell}', 'proxy_stop_times': 'stop_time_expansion/speedmap_stop_times', 'stage2': 'nearest/nearest_vp_speedmap_proxy', 'stage3': 'speedmap/stop_arrivals_proxy', 'stage3b': 'speedmap/stop_arrivals', 'stage4': 'speedmap/speeds', 'trip_stop_cols': ['trip_instance_key', 'stop_sequence', 'stop_sequence1'], 'shape_stop_cols': ['shape_array_key', 'shape_id'], 'stop_pair_cols': ['stop_pair', 'stop_pair_name', 'segment_id'], 'route_dir_cols': ['route_id', 'direction_id'], 'segments_file': 'segment_options/speedmap_segments', 'shape_stop_single_segment': 'rollup_singleday/speeds_shape_speedmap_segments', 'shape_stop_single_segment_detail': 'rollup_singleday/speeds_shape_speedmap_segments_detail', 'route_dir_single_segment': 'rollup_singleday/speeds_route_dir_speedmap_segments', 'route_dir_multi_segment': 'rollup_multiday/speeds_route_dir_speedmap_segments', 'min_trip_minutes': '${speed_vars.time_min_cutoff}', 'max_trip_minutes': 180, 'max_speed': '${speed_vars.max_speed}', 'min_meters_elapsed': 1609, 'segment_meters': 1000}"
      ]
     },
     "execution_count": 3,
     "metadata": {},
     "output_type": "execute_result"
    }
   ],
   "source": [
    "catalog.speedmap_segments"
   ]
  },
  {
   "cell_type": "code",
   "execution_count": 4,
   "id": "f766b50a-c70d-4681-992c-d7f8979ada69",
   "metadata": {},
   "outputs": [
    {
     "data": {
      "text/plain": [
       "'2024-12-11'"
      ]
     },
     "execution_count": 4,
     "metadata": {},
     "output_type": "execute_result"
    }
   ],
   "source": [
    "analysis_date"
   ]
  },
  {
   "cell_type": "code",
   "execution_count": 5,
   "id": "b4dd7af7-0cfa-4d94-a96d-f11e7cdc12f9",
   "metadata": {},
   "outputs": [],
   "source": [
    "# path = f'{catalog.speedmap_segments.dir}{catalog.speedmap_segments.stage4}_{analysis_date}.parquet'"
   ]
  },
  {
   "cell_type": "code",
   "execution_count": 6,
   "id": "12b824f2-4326-4f5e-ae86-95a46703c948",
   "metadata": {},
   "outputs": [],
   "source": [
    "path = f'{catalog.speedmap_segments.dir}{catalog.speedmap_segments.shape_stop_single_segment_detail}_{analysis_date}.parquet'"
   ]
  },
  {
   "cell_type": "code",
   "execution_count": 7,
   "id": "2743cbe7-b472-4ea2-af08-13d2003e93db",
   "metadata": {},
   "outputs": [
    {
     "data": {
      "text/plain": [
       "'gs://calitp-analytics-data/data-analyses/rt_segment_speeds/rollup_singleday/speeds_shape_speedmap_segments_detail_2024-12-11.parquet'"
      ]
     },
     "execution_count": 7,
     "metadata": {},
     "output_type": "execute_result"
    }
   ],
   "source": [
    "path"
   ]
  },
  {
   "cell_type": "code",
   "execution_count": 8,
   "id": "7669d09d-c49e-448c-b57a-299112614bd0",
   "metadata": {},
   "outputs": [],
   "source": [
    "detail = gpd.read_parquet(path)"
   ]
  },
  {
   "cell_type": "code",
   "execution_count": 9,
   "id": "ddf376af-9781-4943-b0d7-5f5418e07735",
   "metadata": {},
   "outputs": [
    {
     "data": {
      "text/html": [
       "<div>\n",
       "<style scoped>\n",
       "    .dataframe tbody tr th:only-of-type {\n",
       "        vertical-align: middle;\n",
       "    }\n",
       "\n",
       "    .dataframe tbody tr th {\n",
       "        vertical-align: top;\n",
       "    }\n",
       "\n",
       "    .dataframe thead th {\n",
       "        text-align: right;\n",
       "    }\n",
       "</style>\n",
       "<table border=\"1\" class=\"dataframe\">\n",
       "  <thead>\n",
       "    <tr style=\"text-align: right;\">\n",
       "      <th></th>\n",
       "      <th>schedule_gtfs_dataset_key</th>\n",
       "      <th>shape_array_key</th>\n",
       "      <th>shape_id</th>\n",
       "      <th>route_id</th>\n",
       "      <th>direction_id</th>\n",
       "      <th>stop_pair</th>\n",
       "      <th>stop_pair_name</th>\n",
       "      <th>segment_id</th>\n",
       "      <th>time_of_day</th>\n",
       "      <th>p50_mph</th>\n",
       "      <th>...</th>\n",
       "      <th>p80_mph</th>\n",
       "      <th>name</th>\n",
       "      <th>caltrans_district</th>\n",
       "      <th>organization_source_record_id</th>\n",
       "      <th>organization_name</th>\n",
       "      <th>base64_url</th>\n",
       "      <th>geometry</th>\n",
       "      <th>n_trips_sch</th>\n",
       "      <th>trips_hr_sch</th>\n",
       "      <th>route_short_name</th>\n",
       "    </tr>\n",
       "  </thead>\n",
       "  <tbody>\n",
       "    <tr>\n",
       "      <th>0</th>\n",
       "      <td>015d67d5b75b5cf2b710bbadadfb75f5</td>\n",
       "      <td>43f0d67e5131502a51f9330e04bacc55</td>\n",
       "      <td>20</td>\n",
       "      <td>228</td>\n",
       "      <td>0.0</td>\n",
       "      <td>40512__40514</td>\n",
       "      <td>Sir Francis Drake Blvd &amp; Olema Rd__Sir Francis...</td>\n",
       "      <td>40512-40514-1</td>\n",
       "      <td>AM Peak</td>\n",
       "      <td>11.83</td>\n",
       "      <td>...</td>\n",
       "      <td>11.83</td>\n",
       "      <td>Bay Area 511 Marin Schedule</td>\n",
       "      <td>04 - Oakland</td>\n",
       "      <td>recNOb7pqBRlQVG5e</td>\n",
       "      <td>Marin County Transit District</td>\n",
       "      <td>aHR0cHM6Ly9hcGkuNTExLm9yZy90cmFuc2l0L2RhdGFmZW...</td>\n",
       "      <td>LINESTRING (-122.60413 38.00022, -122.60416 38...</td>\n",
       "      <td>3</td>\n",
       "      <td>1.0</td>\n",
       "      <td>228</td>\n",
       "    </tr>\n",
       "    <tr>\n",
       "      <th>1</th>\n",
       "      <td>015d67d5b75b5cf2b710bbadadfb75f5</td>\n",
       "      <td>43f0d67e5131502a51f9330e04bacc55</td>\n",
       "      <td>20</td>\n",
       "      <td>228</td>\n",
       "      <td>0.0</td>\n",
       "      <td>40514__40516</td>\n",
       "      <td>Sir Francis Drake Blvd &amp; Alhambra Circle__Sir ...</td>\n",
       "      <td>40514-40516-1</td>\n",
       "      <td>AM Peak</td>\n",
       "      <td>15.52</td>\n",
       "      <td>...</td>\n",
       "      <td>19.79</td>\n",
       "      <td>Bay Area 511 Marin Schedule</td>\n",
       "      <td>04 - Oakland</td>\n",
       "      <td>recNOb7pqBRlQVG5e</td>\n",
       "      <td>Marin County Transit District</td>\n",
       "      <td>aHR0cHM6Ly9hcGkuNTExLm9yZy90cmFuc2l0L2RhdGFmZW...</td>\n",
       "      <td>LINESTRING (-122.60045 37.99908, -122.60037 37...</td>\n",
       "      <td>3</td>\n",
       "      <td>1.0</td>\n",
       "      <td>228</td>\n",
       "    </tr>\n",
       "    <tr>\n",
       "      <th>2</th>\n",
       "      <td>015d67d5b75b5cf2b710bbadadfb75f5</td>\n",
       "      <td>43f0d67e5131502a51f9330e04bacc55</td>\n",
       "      <td>20</td>\n",
       "      <td>228</td>\n",
       "      <td>0.0</td>\n",
       "      <td>40516__40518</td>\n",
       "      <td>Sir Francis Drake Blvd At Drake Manor Apts__Si...</td>\n",
       "      <td>40516-40518-1</td>\n",
       "      <td>AM Peak</td>\n",
       "      <td>15.69</td>\n",
       "      <td>...</td>\n",
       "      <td>20.79</td>\n",
       "      <td>Bay Area 511 Marin Schedule</td>\n",
       "      <td>04 - Oakland</td>\n",
       "      <td>recNOb7pqBRlQVG5e</td>\n",
       "      <td>Marin County Transit District</td>\n",
       "      <td>aHR0cHM6Ly9hcGkuNTExLm9yZy90cmFuc2l0L2RhdGFmZW...</td>\n",
       "      <td>LINESTRING (-122.59907 37.99704, -122.59894 37...</td>\n",
       "      <td>3</td>\n",
       "      <td>1.0</td>\n",
       "      <td>228</td>\n",
       "    </tr>\n",
       "  </tbody>\n",
       "</table>\n",
       "<p>3 rows × 22 columns</p>\n",
       "</div>"
      ],
      "text/plain": [
       "          schedule_gtfs_dataset_key                   shape_array_key  \\\n",
       "0  015d67d5b75b5cf2b710bbadadfb75f5  43f0d67e5131502a51f9330e04bacc55   \n",
       "1  015d67d5b75b5cf2b710bbadadfb75f5  43f0d67e5131502a51f9330e04bacc55   \n",
       "2  015d67d5b75b5cf2b710bbadadfb75f5  43f0d67e5131502a51f9330e04bacc55   \n",
       "\n",
       "  shape_id route_id  direction_id     stop_pair  \\\n",
       "0       20      228           0.0  40512__40514   \n",
       "1       20      228           0.0  40514__40516   \n",
       "2       20      228           0.0  40516__40518   \n",
       "\n",
       "                                      stop_pair_name     segment_id  \\\n",
       "0  Sir Francis Drake Blvd & Olema Rd__Sir Francis...  40512-40514-1   \n",
       "1  Sir Francis Drake Blvd & Alhambra Circle__Sir ...  40514-40516-1   \n",
       "2  Sir Francis Drake Blvd At Drake Manor Apts__Si...  40516-40518-1   \n",
       "\n",
       "  time_of_day  p50_mph  ...  p80_mph                         name  \\\n",
       "0     AM Peak    11.83  ...    11.83  Bay Area 511 Marin Schedule   \n",
       "1     AM Peak    15.52  ...    19.79  Bay Area 511 Marin Schedule   \n",
       "2     AM Peak    15.69  ...    20.79  Bay Area 511 Marin Schedule   \n",
       "\n",
       "   caltrans_district organization_source_record_id  \\\n",
       "0       04 - Oakland             recNOb7pqBRlQVG5e   \n",
       "1       04 - Oakland             recNOb7pqBRlQVG5e   \n",
       "2       04 - Oakland             recNOb7pqBRlQVG5e   \n",
       "\n",
       "               organization_name  \\\n",
       "0  Marin County Transit District   \n",
       "1  Marin County Transit District   \n",
       "2  Marin County Transit District   \n",
       "\n",
       "                                          base64_url  \\\n",
       "0  aHR0cHM6Ly9hcGkuNTExLm9yZy90cmFuc2l0L2RhdGFmZW...   \n",
       "1  aHR0cHM6Ly9hcGkuNTExLm9yZy90cmFuc2l0L2RhdGFmZW...   \n",
       "2  aHR0cHM6Ly9hcGkuNTExLm9yZy90cmFuc2l0L2RhdGFmZW...   \n",
       "\n",
       "                                            geometry n_trips_sch trips_hr_sch  \\\n",
       "0  LINESTRING (-122.60413 38.00022, -122.60416 38...           3          1.0   \n",
       "1  LINESTRING (-122.60045 37.99908, -122.60037 37...           3          1.0   \n",
       "2  LINESTRING (-122.59907 37.99704, -122.59894 37...           3          1.0   \n",
       "\n",
       "   route_short_name  \n",
       "0               228  \n",
       "1               228  \n",
       "2               228  \n",
       "\n",
       "[3 rows x 22 columns]"
      ]
     },
     "execution_count": 9,
     "metadata": {},
     "output_type": "execute_result"
    }
   ],
   "source": [
    "detail.head(3)"
   ]
  },
  {
   "cell_type": "markdown",
   "id": "fb80931f-f02c-4933-bb0c-8deb698cc89a",
   "metadata": {},
   "source": [
    "## need trip-level (pre-aggregation) gdf to properly calculate metrics"
   ]
  },
  {
   "cell_type": "code",
   "execution_count": 10,
   "id": "34d55973-57d6-40c7-ab4b-b2edb71363a6",
   "metadata": {
    "tags": []
   },
   "outputs": [
    {
     "name": "stdout",
     "output_type": "stream",
     "text": [
      "2.2 percent of segments have no speed\n"
     ]
    }
   ],
   "source": [
    "st4 = corridor_analysis.import_trip_speeds(analysis_date)"
   ]
  },
  {
   "cell_type": "markdown",
   "id": "a2057b2d-b1b9-4780-91e3-a2ba4c7ea48d",
   "metadata": {},
   "source": [
    "## corridor specification"
   ]
  },
  {
   "cell_type": "code",
   "execution_count": 11,
   "id": "5678a894-bee2-4c1e-bade-392f344dfcbb",
   "metadata": {
    "tags": []
   },
   "outputs": [],
   "source": [
    "orgs = detail.drop_duplicates(subset=['organization_source_record_id', 'organization_name'])[['organization_source_record_id', 'organization_name']]"
   ]
  },
  {
   "cell_type": "code",
   "execution_count": 12,
   "id": "3a7c1d45-76bb-4442-9b24-35f8a0d60b6c",
   "metadata": {
    "tags": []
   },
   "outputs": [
    {
     "data": {
      "text/html": [
       "<div>\n",
       "<style scoped>\n",
       "    .dataframe tbody tr th:only-of-type {\n",
       "        vertical-align: middle;\n",
       "    }\n",
       "\n",
       "    .dataframe tbody tr th {\n",
       "        vertical-align: top;\n",
       "    }\n",
       "\n",
       "    .dataframe thead th {\n",
       "        text-align: right;\n",
       "    }\n",
       "</style>\n",
       "<table border=\"1\" class=\"dataframe\">\n",
       "  <thead>\n",
       "    <tr style=\"text-align: right;\">\n",
       "      <th></th>\n",
       "      <th>organization_source_record_id</th>\n",
       "      <th>organization_name</th>\n",
       "    </tr>\n",
       "  </thead>\n",
       "  <tbody>\n",
       "    <tr>\n",
       "      <th>365619</th>\n",
       "      <td>rechaapWbeffO33OX</td>\n",
       "      <td>City and County of San Francisco</td>\n",
       "    </tr>\n",
       "    <tr>\n",
       "      <th>403280</th>\n",
       "      <td>recmatCuQAUrNcs8j</td>\n",
       "      <td>San Francisco Bay Area Water Emergency Transit...</td>\n",
       "    </tr>\n",
       "  </tbody>\n",
       "</table>\n",
       "</div>"
      ],
      "text/plain": [
       "       organization_source_record_id  \\\n",
       "365619             rechaapWbeffO33OX   \n",
       "403280             recmatCuQAUrNcs8j   \n",
       "\n",
       "                                        organization_name  \n",
       "365619                   City and County of San Francisco  \n",
       "403280  San Francisco Bay Area Water Emergency Transit...  "
      ]
     },
     "execution_count": 12,
     "metadata": {},
     "output_type": "execute_result"
    }
   ],
   "source": [
    "orgs[orgs.organization_name.str.contains('San Fr')]"
   ]
  },
  {
   "cell_type": "markdown",
   "id": "a0cfadc6-776c-4402-abad-23899bedc09b",
   "metadata": {},
   "source": [
    "## define corridor"
   ]
  },
  {
   "cell_type": "code",
   "execution_count": 13,
   "id": "ce9e7154-22cc-448d-bade-2bedd752d600",
   "metadata": {
    "tags": []
   },
   "outputs": [],
   "source": [
    "# shape_id = '4953'\n",
    "# start_seg_id = '18088-18089-1'\n",
    "# end_seg_id = '16800-16806-1'\n",
    "\n",
    "sf = 'rechaapWbeffO33OX'\n",
    "shape_id = '800'\n",
    "start_seg_id = '14970-17900-2'\n",
    "end_seg_id = '16357-16358-1'\n",
    "\n",
    "# hum = 'recynxkqEoo9dJEvw'\n",
    "# shape_id = 'p_1435936'\n",
    "# start_seg_id = '1252-4209812-1'\n",
    "# end_seg_id = '1276-1277-1'"
   ]
  },
  {
   "cell_type": "code",
   "execution_count": 14,
   "id": "456ba49d-2f78-4371-b942-f195099108ce",
   "metadata": {
    "tags": []
   },
   "outputs": [
    {
     "name": "stdout",
     "output_type": "stream",
     "text": [
      "POINT (-122.40550254785889 37.76900326502991) POINT (-122.40217200000001 37.724137999999975)\n"
     ]
    }
   ],
   "source": [
    "gdf = corridor_analysis.corridor_from_segments(speed_segments_gdf=detail, organization_source_record_id=sf, shape_id=shape_id,\n",
    "                      start_seg_id=start_seg_id, end_seg_id=end_seg_id)"
   ]
  },
  {
   "cell_type": "markdown",
   "id": "d66850e3-583b-4fca-bc4d-8ed30dddaf44",
   "metadata": {},
   "source": [
    "## Corridor Measurements\n",
    "\n",
    "Previous logic:\n",
    "\n",
    "For each trip, get from the last stop before entering corridor to the first stop after exiting corridor. This was done on stop_sequence\n",
    "\n",
    "Now,\n",
    "\n",
    "* first sjoin with aggregated data (has geom). Sjoining on segments is equivalent to previous methodology, since it will yield the last stop before entry to the first stop after exiting...\n",
    "* avoid doing scheduled delay metric for now...\n",
    "* "
   ]
  },
  {
   "cell_type": "code",
   "execution_count": 31,
   "id": "4082b626-4057-4cfc-a641-6041529b5080",
   "metadata": {
    "tags": []
   },
   "outputs": [
    {
     "name": "stdout",
     "output_type": "stream",
     "text": [
      "0.9 percent of zero seconds\n",
      "0.0 percent of speeds > 80mph\n"
     ]
    }
   ],
   "source": [
    "corridor_trips = corridor_analysis.find_corridor_data(detail, gdf, st4)\n",
    "corridor_results = corridor_analysis.analyze_corridor_trips(corridor_trips)"
   ]
  },
  {
   "cell_type": "code",
   "execution_count": 32,
   "id": "e4c97443-88ab-467b-a2ce-ef73eabe5efc",
   "metadata": {
    "tags": []
   },
   "outputs": [],
   "source": [
    "# corridor_results.head(3)"
   ]
  },
  {
   "cell_type": "code",
   "execution_count": 33,
   "id": "8ff789bb-065e-4d7f-a350-9f64d07b66f8",
   "metadata": {
    "tags": []
   },
   "outputs": [],
   "source": [
    "routes = ['8AX', '8BX', '8']\n",
    "rt8 = corridor_results.query('route_short_name in @routes')\n",
    "\n",
    "df = corridor_analysis.analyze_corridor_improvements(rt8, trip_seconds_saved=30)"
   ]
  },
  {
   "cell_type": "code",
   "execution_count": 34,
   "id": "6fd6c78f-16c2-4291-84d8-06a94e47a1b5",
   "metadata": {
    "tags": []
   },
   "outputs": [
    {
     "data": {
      "text/html": [
       "<div>\n",
       "<style scoped>\n",
       "    .dataframe tbody tr th:only-of-type {\n",
       "        vertical-align: middle;\n",
       "    }\n",
       "\n",
       "    .dataframe tbody tr th {\n",
       "        vertical-align: top;\n",
       "    }\n",
       "\n",
       "    .dataframe thead th {\n",
       "        text-align: right;\n",
       "    }\n",
       "</style>\n",
       "<table border=\"1\" class=\"dataframe\">\n",
       "  <thead>\n",
       "    <tr style=\"text-align: right;\">\n",
       "      <th></th>\n",
       "      <th>trip_instance_key</th>\n",
       "      <th>corridor_meters</th>\n",
       "      <th>corridor_seconds</th>\n",
       "      <th>corridor_speed_mps</th>\n",
       "      <th>corridor_speed_mph</th>\n",
       "      <th>route_short_name</th>\n",
       "      <th>route_id</th>\n",
       "      <th>shape_array_key</th>\n",
       "      <th>shape_id</th>\n",
       "      <th>schedule_gtfs_dataset_key</th>\n",
       "      <th>time_of_day</th>\n",
       "      <th>corridor_id</th>\n",
       "      <th>improved_corridor_seconds</th>\n",
       "      <th>improved_corridor_speed_mps</th>\n",
       "      <th>improved_corridor_speed_mph</th>\n",
       "    </tr>\n",
       "  </thead>\n",
       "  <tbody>\n",
       "  </tbody>\n",
       "</table>\n",
       "</div>"
      ],
      "text/plain": [
       "Empty DataFrame\n",
       "Columns: [trip_instance_key, corridor_meters, corridor_seconds, corridor_speed_mps, corridor_speed_mph, route_short_name, route_id, shape_array_key, shape_id, schedule_gtfs_dataset_key, time_of_day, corridor_id, improved_corridor_seconds, improved_corridor_speed_mps, improved_corridor_speed_mph]\n",
       "Index: []"
      ]
     },
     "execution_count": 34,
     "metadata": {},
     "output_type": "execute_result"
    }
   ],
   "source": [
    "df.head(3)"
   ]
  },
  {
   "cell_type": "code",
   "execution_count": 35,
   "id": "f894127b-313d-4931-8be0-03b5fd112478",
   "metadata": {
    "tags": []
   },
   "outputs": [],
   "source": [
    "# rt_utils.show_full_df(pd.read_parquet('../ca_transit_speed_maps/_rt_progress_2024-12-11.parquet').sort_values(['caltrans_district', 'organization_name']))"
   ]
  },
  {
   "cell_type": "code",
   "execution_count": 36,
   "id": "86e223b3-3430-4993-bdfc-9fe2087f7de4",
   "metadata": {
    "tags": []
   },
   "outputs": [],
   "source": [
    "SUMMARY_GROUP_COLS = ['route_short_name', 'route_id', 'time_of_day',\n",
    "                     'corridor_id']\n",
    "\n",
    "def summarize_corridor_improvements(df: pd.DataFrame, group_cols = SUMMARY_GROUP_COLS):\n",
    "    '''\n",
    "    \n",
    "    '''\n",
    "    sum_cols = ['corridor_seconds', 'improved_corridor_seconds', 'delay_seconds',\n",
    "                   'delay_minutes']\n",
    "    distance_cols = ['corridor_meters']\n",
    "    df = df.assign(delay_seconds = df.corridor_seconds - df.improved_corridor_seconds)\n",
    "                  # corridor_miles = df.corridor_meters / rt_utils.METERS_PER_MILE)\n",
    "    df = df.assign(delay_minutes = df.delay_seconds / 60)\n",
    "    group = df.groupby(group_cols)[sum_cols + distance_cols]\n",
    "    #  TODO revise, using min dist here is by trip...\n",
    "    df = group.agg({**{x:'sum' for x in sum_cols}, **{x:'min' for x in distance_cols}})\n",
    "    # df = df.assign(minutes_per_mile = df.delay_minutes / df.corridor_miles)\n",
    "    \n",
    "    return df"
   ]
  },
  {
   "cell_type": "code",
   "execution_count": 37,
   "id": "f9246650-362f-4f9c-ba3e-e689a2becddb",
   "metadata": {
    "tags": []
   },
   "outputs": [
    {
     "data": {
      "text/html": [
       "<div>\n",
       "<style scoped>\n",
       "    .dataframe tbody tr th:only-of-type {\n",
       "        vertical-align: middle;\n",
       "    }\n",
       "\n",
       "    .dataframe tbody tr th {\n",
       "        vertical-align: top;\n",
       "    }\n",
       "\n",
       "    .dataframe thead th {\n",
       "        text-align: right;\n",
       "    }\n",
       "</style>\n",
       "<table border=\"1\" class=\"dataframe\">\n",
       "  <thead>\n",
       "    <tr style=\"text-align: right;\">\n",
       "      <th></th>\n",
       "      <th>corridor_seconds</th>\n",
       "      <th>improved_corridor_seconds</th>\n",
       "      <th>delay_seconds</th>\n",
       "      <th>delay_minutes</th>\n",
       "      <th>corridor_meters</th>\n",
       "    </tr>\n",
       "    <tr>\n",
       "      <th>corridor_id</th>\n",
       "      <th></th>\n",
       "      <th></th>\n",
       "      <th></th>\n",
       "      <th></th>\n",
       "      <th></th>\n",
       "    </tr>\n",
       "  </thead>\n",
       "  <tbody>\n",
       "  </tbody>\n",
       "</table>\n",
       "</div>"
      ],
      "text/plain": [
       "Empty DataFrame\n",
       "Columns: [corridor_seconds, improved_corridor_seconds, delay_seconds, delay_minutes, corridor_meters]\n",
       "Index: []"
      ]
     },
     "execution_count": 37,
     "metadata": {},
     "output_type": "execute_result"
    }
   ],
   "source": [
    "summarize_corridor_improvements(df, group_cols=['corridor_id'])"
   ]
  },
  {
   "cell_type": "code",
   "execution_count": 38,
   "id": "71b6aaed-1a04-4268-a67f-ffb522df9662",
   "metadata": {
    "tags": []
   },
   "outputs": [
    {
     "data": {
      "text/html": [
       "<div>\n",
       "<style scoped>\n",
       "    .dataframe tbody tr th:only-of-type {\n",
       "        vertical-align: middle;\n",
       "    }\n",
       "\n",
       "    .dataframe tbody tr th {\n",
       "        vertical-align: top;\n",
       "    }\n",
       "\n",
       "    .dataframe thead th {\n",
       "        text-align: right;\n",
       "    }\n",
       "</style>\n",
       "<table border=\"1\" class=\"dataframe\">\n",
       "  <thead>\n",
       "    <tr style=\"text-align: right;\">\n",
       "      <th></th>\n",
       "      <th>delay_minutes</th>\n",
       "    </tr>\n",
       "    <tr>\n",
       "      <th>corridor_id</th>\n",
       "      <th></th>\n",
       "    </tr>\n",
       "  </thead>\n",
       "  <tbody>\n",
       "  </tbody>\n",
       "</table>\n",
       "</div>"
      ],
      "text/plain": [
       "Empty DataFrame\n",
       "Columns: [delay_minutes]\n",
       "Index: []"
      ]
     },
     "execution_count": 38,
     "metadata": {},
     "output_type": "execute_result"
    }
   ],
   "source": [
    "summarize_corridor_improvements(df).groupby('corridor_id')[['delay_minutes']].sum()"
   ]
  },
  {
   "cell_type": "code",
   "execution_count": 39,
   "id": "5529044a-3872-4270-b09b-129a4affc997",
   "metadata": {
    "tags": []
   },
   "outputs": [
    {
     "data": {
      "text/html": [
       "<div>\n",
       "<style scoped>\n",
       "    .dataframe tbody tr th:only-of-type {\n",
       "        vertical-align: middle;\n",
       "    }\n",
       "\n",
       "    .dataframe tbody tr th {\n",
       "        vertical-align: top;\n",
       "    }\n",
       "\n",
       "    .dataframe thead th {\n",
       "        text-align: right;\n",
       "    }\n",
       "</style>\n",
       "<table border=\"1\" class=\"dataframe\">\n",
       "  <thead>\n",
       "    <tr style=\"text-align: right;\">\n",
       "      <th></th>\n",
       "      <th>schedule_gtfs_dataset_key</th>\n",
       "      <th>shape_array_key</th>\n",
       "      <th>shape_id</th>\n",
       "      <th>name</th>\n",
       "      <th>organization_source_record_id</th>\n",
       "      <th>geometry</th>\n",
       "      <th>distance_meters</th>\n",
       "      <th>corridor_id</th>\n",
       "      <th>corridor_name</th>\n",
       "    </tr>\n",
       "  </thead>\n",
       "  <tbody>\n",
       "    <tr>\n",
       "      <th>0</th>\n",
       "      <td>a253a8d7acd57657bb98050f37dd6b0f</td>\n",
       "      <td>a9518009af798f5e073e561b267305de</td>\n",
       "      <td>p_1435936</td>\n",
       "      <td>Humboldt Schedule</td>\n",
       "      <td>recynxkqEoo9dJEvw</td>\n",
       "      <td>POLYGON ((-353635.350 314804.404, -353644.983 ...</td>\n",
       "      <td>4161.042525</td>\n",
       "      <td>586004430520181286</td>\n",
       "      <td>None</td>\n",
       "    </tr>\n",
       "  </tbody>\n",
       "</table>\n",
       "</div>"
      ],
      "text/plain": [
       "          schedule_gtfs_dataset_key                   shape_array_key  \\\n",
       "0  a253a8d7acd57657bb98050f37dd6b0f  a9518009af798f5e073e561b267305de   \n",
       "\n",
       "    shape_id               name organization_source_record_id  \\\n",
       "0  p_1435936  Humboldt Schedule             recynxkqEoo9dJEvw   \n",
       "\n",
       "                                            geometry  distance_meters  \\\n",
       "0  POLYGON ((-353635.350 314804.404, -353644.983 ...      4161.042525   \n",
       "\n",
       "          corridor_id corridor_name  \n",
       "0  586004430520181286          None  "
      ]
     },
     "execution_count": 39,
     "metadata": {},
     "output_type": "execute_result"
    }
   ],
   "source": [
    "gdf"
   ]
  },
  {
   "cell_type": "code",
   "execution_count": 109,
   "id": "ed93e7fa-8139-4aa4-a3be-ddced7b6ea27",
   "metadata": {
    "tags": []
   },
   "outputs": [],
   "source": [
    "corr = pd.read_excel('./_temp/corr_hs.xlsx', sheet_name='Corridors')"
   ]
  },
  {
   "cell_type": "code",
   "execution_count": 115,
   "id": "25cd184d-3971-4952-8cda-90731b40a010",
   "metadata": {
    "tags": []
   },
   "outputs": [],
   "source": [
    "hs = pd.read_excel('./_temp/corr_hs.xlsx', sheet_name='Hotspots')"
   ]
  },
  {
   "cell_type": "code",
   "execution_count": 116,
   "id": "bda3bb4c-e498-4362-8360-63bdd776b34b",
   "metadata": {
    "tags": []
   },
   "outputs": [],
   "source": [
    "corr = corr.astype({'start_segment_id': str, 'end_segment_id': str, 'shape_id':str})\n",
    "hs = hs.astype({'start_segment_id': str, 'end_segment_id': str, 'shape_id':str})"
   ]
  },
  {
   "cell_type": "code",
   "execution_count": 42,
   "id": "77316eb2-5399-4cf6-968c-b26c27f06b25",
   "metadata": {
    "tags": []
   },
   "outputs": [],
   "source": [
    "row = corr.iloc[0,:]"
   ]
  },
  {
   "cell_type": "code",
   "execution_count": 43,
   "id": "1d3175f8-e9d3-4480-9903-363b54580cb5",
   "metadata": {
    "tags": []
   },
   "outputs": [
    {
     "data": {
      "text/plain": [
       "SHS Segment                                                  SR-1 Broadway/4th/5th\n",
       "County                                                                    Humboldt\n",
       "District                                                                         1\n",
       "Corridor Length (mi)                                                           NaN\n",
       "Transit Operators                              City of Arcata, City of Eureka, HTA\n",
       "Treatments                                                                     NaN\n",
       "organization_source_record_id                                    recynxkqEoo9dJEvw\n",
       "start_segment_id                                                    1252-4209812-1\n",
       "end_segment_id                                                         1276-1277-1\n",
       "shape_id                                                                 p_1435936\n",
       "Notes                            Not a ton of delay but the primary SHS delay i...\n",
       "Name: 0, dtype: object"
      ]
     },
     "execution_count": 43,
     "metadata": {},
     "output_type": "execute_result"
    }
   ],
   "source": [
    "row"
   ]
  },
  {
   "cell_type": "code",
   "execution_count": 44,
   "id": "2e589cf0-d0c2-4fe8-b45b-cd5075dc5bd6",
   "metadata": {
    "tags": []
   },
   "outputs": [
    {
     "name": "stdout",
     "output_type": "stream",
     "text": [
      "POINT (-124.188822 40.78044300000002) POINT (-124.16029600000002 40.80271199999996)\n"
     ]
    }
   ],
   "source": [
    "gdf = corridor_analysis.corridor_from_segments(speed_segments_gdf=detail, organization_source_record_id=row.organization_source_record_id, shape_id=row.shape_id,\n",
    "                      start_seg_id=row.start_segment_id, end_seg_id=row.end_segment_id)"
   ]
  },
  {
   "cell_type": "code",
   "execution_count": 71,
   "id": "fddab223-ef1f-4733-aa68-fd95bac6719b",
   "metadata": {
    "tags": []
   },
   "outputs": [],
   "source": [
    "def corridor_from_row(row, intervention_dict):\n",
    "    global all_corridors\n",
    "    try:\n",
    "        print(row[\"SHS Segment\"])\n",
    "        corr = corridor_analysis.corridor_from_segments(speed_segments_gdf=detail, organization_source_record_id=row.organization_source_record_id, shape_id=row.shape_id,\n",
    "                      start_seg_id=row.start_segment_id, end_seg_id=row.end_segment_id, name=row['SHS Segment'])\n",
    "        corridor_trips = corridor_analysis.find_corridor_data(detail, corr, st4)\n",
    "        corridor_results = corridor_analysis.analyze_corridor_trips(corridor_trips)\n",
    "        df = corridor_analysis.analyze_corridor_improvements(corridor_results, **intervention_dict)\n",
    "        summ = summarize_corridor_improvements(df, group_cols=['corridor_id']).reset_index(drop=True)\n",
    "        corr = pd.concat([corr, summ], axis=1)\n",
    "        corr = corr.assign(corridor_miles = corr.distance_meters / rt_utils.METERS_PER_MILE) #  from corridor def, not trip distance\n",
    "        corr = corr.assign(minutes_per_mile = corr.delay_minutes / corr.corridor_miles)\n",
    "        all_corridors += [corr]\n",
    "    except Exception as e:\n",
    "        print(f'failed for{row[\"SHS Segment\"]}')\n",
    "        print(e)\n",
    "        pass\n",
    "    "
   ]
  },
  {
   "cell_type": "code",
   "execution_count": 103,
   "id": "6f1f99f1-2431-44bd-b0fc-0db50e451141",
   "metadata": {
    "tags": []
   },
   "outputs": [
    {
     "data": {
      "text/plain": [
       "SHS Segment                      SR66 Foothill Blvd\n",
       "County                                  Los Angeles\n",
       "District                                          7\n",
       "Corridor Length (mi)                            5.4\n",
       "Transit Operators                  Foothill Transit\n",
       "Treatments                                      NaN\n",
       "organization_source_record_id     recSqgaa8QiQ8CRjl\n",
       "start_segment_id                        1308-1316-1\n",
       "end_segment_id                          1228-1201-1\n",
       "shape_id                                  17996_shp\n",
       "Notes                                           NaN\n",
       "Name: 15, dtype: object"
      ]
     },
     "execution_count": 103,
     "metadata": {},
     "output_type": "execute_result"
    }
   ],
   "source": [
    "corr.loc[15]"
   ]
  },
  {
   "cell_type": "code",
   "execution_count": 121,
   "id": "491f3623-c5c5-415e-bdf4-b7d90101b873",
   "metadata": {
    "collapsed": true,
    "jupyter": {
     "outputs_hidden": true
    },
    "tags": []
   },
   "outputs": [
    {
     "name": "stdout",
     "output_type": "stream",
     "text": [
      "SR-1 Broadway/4th/5th\n",
      "POINT (-124.188822 40.78044300000002) POINT (-124.16029600000002 40.80271199999996)\n",
      "0.9 percent of zero seconds\n",
      "0.0 percent of speeds > 80mph\n",
      "SR1 Junipero Serra/19th Ave\n",
      "POINT (-122.47109500000002 37.784514999999985) POINT (-122.46901 37.70597799999998)\n",
      "2.4 percent of zero seconds\n",
      "10.7 percent of speeds > 80mph\n",
      "US101 Lombard/Presidio Pkwy\n",
      "POINT (-122.47414053795225 37.80735892390237) POINT (-122.42477900000002 37.802431)\n",
      "1.4 percent of zero seconds\n",
      "7.6 percent of speeds > 80mph\n",
      "SR123 San Pablo Blvd\n",
      "POINT (-122.316573 37.92455300000004) POINT (-122.27945095392592 37.8299470222603)\n",
      "2.9 percent of zero seconds\n",
      "1.1 percent of speeds > 80mph\n",
      "SR13 Ashby Ave\n",
      "POINT (-122.29215299999998 37.84904500000002) POINT (-122.25298800000002 37.85728699999996)\n",
      "0.6 percent of zero seconds\n",
      "0.6 percent of speeds > 80mph\n",
      "SR185 E 16th St\n",
      "POINT (-122.15636699999999 37.725209999999976) POINT (-122.12119699999998 37.69934199999998)\n",
      "1.3 percent of zero seconds\n",
      "1.5 percent of speeds > 80mph\n",
      "SR84\n",
      "POINT (-122.24575901602056 37.43699067825212) POINT (-122.22205719501919 37.47668349244662)\n",
      "0.0 percent of zero seconds\n",
      "0.0 percent of speeds > 80mph\n",
      "SR82 El Camino Real\n",
      "POINT (-122.46251400000001 37.70502099999999) POINT (-122.42148599999999 37.63685099999995)\n",
      "2.1 percent of zero seconds\n",
      "2.4 percent of speeds > 80mph\n",
      "SR82 El Camino Real\n",
      "POINT (-122.16572571 37.44378280999993) POINT (-121.92457756216986 37.34198939817028)\n",
      "1.1 percent of zero seconds\n",
      "0.5 percent of speeds > 80mph\n",
      "SR221\n",
      "POINT (-122.27599043273237 38.28963268713127) POINT (-122.27086074530793 38.26494157580043)\n",
      "0.0 percent of zero seconds\n",
      "0.0 percent of speeds > 80mph\n",
      "SR78 Washington Ave\n",
      "POINT (-117.08366599999998 33.12654899999998) POINT (-117.065941 33.134308999999995)\n",
      "0.7 percent of zero seconds\n",
      "1.4 percent of speeds > 80mph\n",
      "SR75 Palm Ave\n",
      "POINT (-117.10543823 32.58386993000002) POINT (-117.08362578999999 32.583824159999985)\n",
      "23.3 percent of zero seconds\n",
      "0.0 percent of speeds > 80mph\n",
      "SR75 Silver Strand Blvd\n",
      "POINT (-117.17433929000002 32.696052549999976) POINT (-117.1656189 32.67146682999999)\n",
      "0.0 percent of zero seconds\n",
      "0.0 percent of speeds > 80mph\n",
      "SR2 Santa Monica Bl (Hollywood)\n",
      "POINT (-118.344574706 34.09072288299996) POINT (-118.30444570400002 34.09080483899999)\n",
      "0.3 percent of zero seconds\n",
      "0.1 percent of speeds > 80mph\n",
      "SR1 Lincoln Blvd\n",
      "POINT (-118.47116 34.00312999999997) POINT (-118.41644000000001 33.959859999999956)\n",
      "0.4 percent of zero seconds\n",
      "0.4 percent of speeds > 80mph\n",
      "SR66 Foothill Blvd\n",
      "POINT (-117.78886823 34.12132287100001) POINT (-117.7371724 34.107160623000006)\n",
      "0.4 percent of zero seconds\n",
      "0.4 percent of speeds > 80mph\n",
      "SR-1 PCH\n",
      "POINT (-118.35427866700002 33.80629852499999) POINT (-118.28079324500001 33.78627914899998)\n",
      "2.0 percent of zero seconds\n",
      "1.2 percent of speeds > 80mph\n",
      "SR-1 PCH\n",
      "POINT (-118.21883700000001 33.789864) POINT (-118.13218900000001 33.78303700000003)\n",
      "0.3 percent of zero seconds\n",
      "0.3 percent of speeds > 80mph\n",
      "SR39 Beach Blvd\n",
      "POINT (-117.98929300000002 33.73785500000004) POINT (-117.98841600000002 33.66897999999999)\n",
      "1.2 percent of zero seconds\n",
      "0.0 percent of speeds > 80mph\n"
     ]
    },
    {
     "data": {
      "text/plain": [
       "0     None\n",
       "1     None\n",
       "2     None\n",
       "3     None\n",
       "4     None\n",
       "5     None\n",
       "6     None\n",
       "7     None\n",
       "8     None\n",
       "9     None\n",
       "10    None\n",
       "11    None\n",
       "12    None\n",
       "13    None\n",
       "14    None\n",
       "15    None\n",
       "16    None\n",
       "17    None\n",
       "18    None\n",
       "dtype: object"
      ]
     },
     "execution_count": 121,
     "metadata": {},
     "output_type": "execute_result"
    }
   ],
   "source": [
    "all_corridors = []\n",
    "\n",
    "corr.apply(corridor_from_row, axis=1, intervention_dict={'trip_mph_target': 16})\n",
    "# corr.iloc[:3,:].apply(corridor_from_row, axis=1)"
   ]
  },
  {
   "cell_type": "code",
   "execution_count": 122,
   "id": "9fe6ae61-e72f-4454-83d5-09ced63383c8",
   "metadata": {
    "tags": []
   },
   "outputs": [],
   "source": [
    "corr_gdf = pd.concat(all_corridors)[['name', 'corridor_miles', 'delay_minutes',\n",
    "        'minutes_per_mile', 'geometry']]"
   ]
  },
  {
   "cell_type": "code",
   "execution_count": 132,
   "id": "25ed74c0-57ac-4721-bec0-16018207f9c4",
   "metadata": {
    "tags": []
   },
   "outputs": [],
   "source": [
    "# corr_gdf.explore(column='minutes_per_mile')"
   ]
  },
  {
   "cell_type": "code",
   "execution_count": 124,
   "id": "86a47c87-8c94-4acd-95f2-456f29802423",
   "metadata": {
    "collapsed": true,
    "jupyter": {
     "outputs_hidden": true
    },
    "tags": []
   },
   "outputs": [
    {
     "name": "stdout",
     "output_type": "stream",
     "text": [
      "SR-281\n",
      "POINT (-122.74313696750094 38.93045308891572) POINT (-122.73538076730095 38.944933404381025)\n",
      "21.1 percent of zero seconds\n",
      "5.3 percent of speeds > 80mph\n",
      "US-101\n",
      "POINT (-124.040182976 41.531234425) POINT (-124.03277840500002 41.52298986799994)\n",
      "0.0 percent of zero seconds\n",
      "0.0 percent of speeds > 80mph\n",
      "SR-44\n",
      "POINT (-122.388229 40.584889000000004) POINT (-122.39237 40.5829)\n",
      "31.1 percent of zero seconds\n",
      "4.9 percent of speeds > 80mph\n",
      "I-80\n",
      "failed forI-80\n",
      "empty shape, check shape_id\n",
      "SR-99\n",
      "POINT (-119.79791000000002 36.732010000000024) POINT (-119.80086 36.72993000000005)\n",
      "0.3 percent of zero seconds\n",
      "0.5 percent of speeds > 80mph\n",
      "SR-99\n",
      "POINT (-119.03828599999999 35.33746200000005) POINT (-119.04338 35.339589999999994)\n",
      "1.9 percent of zero seconds\n",
      "0.7 percent of speeds > 80mph\n",
      "I-5\n",
      "POINT (-118.15988745500002 34.011077479000036) POINT (-118.15867108400002 34.00771021100003)\n",
      "0.0 percent of zero seconds\n",
      "0.7 percent of speeds > 80mph\n",
      "SR-83\n",
      "failed forSR-83\n",
      "index out of range\n",
      "SR-108\n",
      "POINT (-120.36020048542895 37.97433788069664) POINT (-120.36969915254001 37.970104406160026)\n",
      "6.2 percent of zero seconds\n",
      "0.0 percent of speeds > 80mph\n",
      "SR-39\n",
      "POINT (-117.98958 33.76318899999996) POINT (-117.98952 33.75605600000004)\n",
      "2.0 percent of zero seconds\n",
      "0.3 percent of speeds > 80mph\n",
      "I-5\n",
      "POINT (-117.59623099999999 33.40224200000002) POINT (-117.59375900000002 33.397429000000024)\n",
      "0.0 percent of zero seconds\n",
      "0.0 percent of speeds > 80mph\n",
      "SR-1\n",
      "POINT (-117.79031 33.544569999999986) POINT (-117.783842 33.54212400000001)\n",
      "0.0 percent of zero seconds\n",
      "0.0 percent of speeds > 80mph\n",
      "SR82\n",
      "POINT (-122.08778381 37.387577060000005) POINT (-122.06304169000002 37.37638092000004)\n",
      "0.0 percent of zero seconds\n",
      "0.0 percent of speeds > 80mph\n",
      "SR82\n",
      "POINT (-122.11362457 37.40115737999995) POINT (-122.10327147999999 37.39627075)\n",
      "0.5 percent of zero seconds\n",
      "0.0 percent of speeds > 80mph\n",
      "SR82\n",
      "POINT (-122.302978 37.541940999999994) POINT (-122.294436 37.53438700000001)\n",
      "0.4 percent of zero seconds\n",
      "0.4 percent of speeds > 80mph\n",
      "SR82\n",
      "POINT (-122.38987300000001 37.60080399999996) POINT (-122.383308 37.59469299999997)\n",
      "1.6 percent of zero seconds\n",
      "0.4 percent of speeds > 80mph\n",
      "SR82\n",
      "POINT (-122.348066 37.57584700000004) POINT (-122.350485 37.57648800000003)\n",
      "0.0 percent of zero seconds\n",
      "0.0 percent of speeds > 80mph\n",
      "SR78\n",
      "POINT (-117.25352800000002 33.19268800000001) POINT (-117.25400900000001 33.19559600000001)\n",
      "1.6 percent of zero seconds\n",
      "0.5 percent of speeds > 80mph\n"
     ]
    },
    {
     "data": {
      "text/plain": [
       "0     None\n",
       "1     None\n",
       "2     None\n",
       "3     None\n",
       "4     None\n",
       "5     None\n",
       "6     None\n",
       "7     None\n",
       "8     None\n",
       "9     None\n",
       "10    None\n",
       "11    None\n",
       "12    None\n",
       "13    None\n",
       "14    None\n",
       "15    None\n",
       "16    None\n",
       "17    None\n",
       "dtype: object"
      ]
     },
     "execution_count": 124,
     "metadata": {},
     "output_type": "execute_result"
    }
   ],
   "source": [
    "all_corridors = []\n",
    "hs.apply(corridor_from_row, axis=1, intervention_dict={'trip_mph_target': 16})"
   ]
  },
  {
   "cell_type": "code",
   "execution_count": 125,
   "id": "53d23fd1-0374-4cca-83d7-f71e7a42a23a",
   "metadata": {
    "tags": []
   },
   "outputs": [],
   "source": [
    "hs_gdf = pd.concat(all_corridors)[['name', 'corridor_miles', 'delay_minutes',\n",
    "        'minutes_per_mile', 'geometry']]"
   ]
  },
  {
   "cell_type": "code",
   "execution_count": 131,
   "id": "4d32fd4e-5ebd-4a96-90ab-4bc6f0fc01ba",
   "metadata": {
    "tags": []
   },
   "outputs": [],
   "source": [
    "# hs_gdf.explore(column='delay_minutes')"
   ]
  },
  {
   "cell_type": "code",
   "execution_count": 130,
   "id": "70436156-eace-479d-9e06-d88ab2c3b3f9",
   "metadata": {
    "tags": []
   },
   "outputs": [
    {
     "data": {
      "text/html": [
       "<div>\n",
       "<style scoped>\n",
       "    .dataframe tbody tr th:only-of-type {\n",
       "        vertical-align: middle;\n",
       "    }\n",
       "\n",
       "    .dataframe tbody tr th {\n",
       "        vertical-align: top;\n",
       "    }\n",
       "\n",
       "    .dataframe thead th {\n",
       "        text-align: right;\n",
       "    }\n",
       "</style>\n",
       "<table border=\"1\" class=\"dataframe\">\n",
       "  <thead>\n",
       "    <tr style=\"text-align: right;\">\n",
       "      <th></th>\n",
       "      <th>name</th>\n",
       "      <th>corridor_miles</th>\n",
       "      <th>delay_minutes</th>\n",
       "      <th>minutes_per_mile</th>\n",
       "      <th>geometry</th>\n",
       "    </tr>\n",
       "  </thead>\n",
       "  <tbody>\n",
       "    <tr>\n",
       "      <th>0</th>\n",
       "      <td>Bay Area 511 Muni Schedule</td>\n",
       "      <td>3.219778</td>\n",
       "      <td>6568.154911</td>\n",
       "      <td>2039.940435</td>\n",
       "      <td>POLYGON ((-217609.307 -20376.350, -217609.271 ...</td>\n",
       "    </tr>\n",
       "    <tr>\n",
       "      <th>0</th>\n",
       "      <td>Bay Area 511 Muni Schedule</td>\n",
       "      <td>6.174015</td>\n",
       "      <td>12532.004535</td>\n",
       "      <td>2029.798250</td>\n",
       "      <td>POLYGON ((-218152.597 -24502.018, -218170.814 ...</td>\n",
       "    </tr>\n",
       "    <tr>\n",
       "      <th>0</th>\n",
       "      <td>San Diego Schedule</td>\n",
       "      <td>1.274946</td>\n",
       "      <td>2099.611015</td>\n",
       "      <td>1646.822864</td>\n",
       "      <td>POLYGON ((272724.417 -599039.241, 272551.922 -...</td>\n",
       "    </tr>\n",
       "    <tr>\n",
       "      <th>0</th>\n",
       "      <td>LA Metro Bus Schedule</td>\n",
       "      <td>2.301013</td>\n",
       "      <td>3113.958552</td>\n",
       "      <td>1353.299051</td>\n",
       "      <td>POLYGON ((153028.275 -434865.075, 152920.507 -...</td>\n",
       "    </tr>\n",
       "    <tr>\n",
       "      <th>0</th>\n",
       "      <td>Bay Area 511 AC Transit Schedule</td>\n",
       "      <td>6.928382</td>\n",
       "      <td>9070.180492</td>\n",
       "      <td>1309.133988</td>\n",
       "      <td>POLYGON ((-203442.685 -7734.573, -203443.442 -...</td>\n",
       "    </tr>\n",
       "    <tr>\n",
       "      <th>0</th>\n",
       "      <td>San Diego Schedule</td>\n",
       "      <td>2.126868</td>\n",
       "      <td>2000.795379</td>\n",
       "      <td>940.723867</td>\n",
       "      <td>POLYGON ((264750.856 -587810.341, 264750.944 -...</td>\n",
       "    </tr>\n",
       "    <tr>\n",
       "      <th>0</th>\n",
       "      <td>Bay Area 511 Santa Clara Transit Schedule</td>\n",
       "      <td>16.403031</td>\n",
       "      <td>14123.672216</td>\n",
       "      <td>861.040416</td>\n",
       "      <td>POLYGON ((-191421.407 -61494.912, -191423.478 ...</td>\n",
       "    </tr>\n",
       "    <tr>\n",
       "      <th>0</th>\n",
       "      <td>LA Metro Bus Schedule</td>\n",
       "      <td>4.947284</td>\n",
       "      <td>4140.299188</td>\n",
       "      <td>836.883208</td>\n",
       "      <td>POLYGON ((152660.296 -466553.426, 152659.189 -...</td>\n",
       "    </tr>\n",
       "    <tr>\n",
       "      <th>0</th>\n",
       "      <td>Bay Area 511 AC Transit Schedule</td>\n",
       "      <td>2.674901</td>\n",
       "      <td>2199.936433</td>\n",
       "      <td>822.436431</td>\n",
       "      <td>POLYGON ((-189808.077 -30309.901, -189813.839 ...</td>\n",
       "    </tr>\n",
       "    <tr>\n",
       "      <th>0</th>\n",
       "      <td>Long Beach Schedule</td>\n",
       "      <td>5.189010</td>\n",
       "      <td>4196.387422</td>\n",
       "      <td>808.706739</td>\n",
       "      <td>POLYGON ((164989.834 -467823.021, 164991.149 -...</td>\n",
       "    </tr>\n",
       "    <tr>\n",
       "      <th>0</th>\n",
       "      <td>Bay Area 511 AC Transit Schedule</td>\n",
       "      <td>2.349386</td>\n",
       "      <td>1567.978993</td>\n",
       "      <td>667.399551</td>\n",
       "      <td>POLYGON ((-201504.458 -16178.784, -201510.812 ...</td>\n",
       "    </tr>\n",
       "    <tr>\n",
       "      <th>0</th>\n",
       "      <td>Bay Area 511 SamTrans Schedule</td>\n",
       "      <td>26.456773</td>\n",
       "      <td>16696.952554</td>\n",
       "      <td>631.103152</td>\n",
       "      <td>POLYGON ((-217483.530 -33840.465, -217495.139 ...</td>\n",
       "    </tr>\n",
       "    <tr>\n",
       "      <th>0</th>\n",
       "      <td>OCTA Schedule</td>\n",
       "      <td>4.746642</td>\n",
       "      <td>2533.554429</td>\n",
       "      <td>533.757230</td>\n",
       "      <td>POLYGON ((186269.495 -473504.248, 186267.331 -...</td>\n",
       "    </tr>\n",
       "    <tr>\n",
       "      <th>0</th>\n",
       "      <td>Big Blue Bus Swiftly Schedule</td>\n",
       "      <td>4.486560</td>\n",
       "      <td>1765.766948</td>\n",
       "      <td>393.568130</td>\n",
       "      <td>POLYGON ((141446.038 -444935.527, 141444.532 -...</td>\n",
       "    </tr>\n",
       "    <tr>\n",
       "      <th>0</th>\n",
       "      <td>Humboldt Schedule</td>\n",
       "      <td>2.585558</td>\n",
       "      <td>619.105391</td>\n",
       "      <td>239.447461</td>\n",
       "      <td>POLYGON ((-353635.350 314804.404, -353644.983 ...</td>\n",
       "    </tr>\n",
       "    <tr>\n",
       "      <th>0</th>\n",
       "      <td>North County Schedule</td>\n",
       "      <td>1.195352</td>\n",
       "      <td>250.030227</td>\n",
       "      <td>209.168758</td>\n",
       "      <td>POLYGON ((272459.273 -538828.393, 272458.667 -...</td>\n",
       "    </tr>\n",
       "    <tr>\n",
       "      <th>0</th>\n",
       "      <td>Bay Area 511 Vine Transit Schedule</td>\n",
       "      <td>2.028925</td>\n",
       "      <td>273.790379</td>\n",
       "      <td>134.943577</td>\n",
       "      <td>POLYGON ((-198768.679 31794.529, -198776.391 3...</td>\n",
       "    </tr>\n",
       "    <tr>\n",
       "      <th>0</th>\n",
       "      <td>Foothill Schedule</td>\n",
       "      <td>3.169035</td>\n",
       "      <td>344.353016</td>\n",
       "      <td>108.661773</td>\n",
       "      <td>POLYGON ((203956.470 -430442.227, 203942.370 -...</td>\n",
       "    </tr>\n",
       "    <tr>\n",
       "      <th>0</th>\n",
       "      <td>Bay Area 511 SamTrans Schedule</td>\n",
       "      <td>3.619179</td>\n",
       "      <td>196.919355</td>\n",
       "      <td>54.409946</td>\n",
       "      <td>POLYGON ((-198322.039 -62010.847, -198321.927 ...</td>\n",
       "    </tr>\n",
       "  </tbody>\n",
       "</table>\n",
       "</div>"
      ],
      "text/plain": [
       "                                        name  corridor_miles  delay_minutes  \\\n",
       "0                 Bay Area 511 Muni Schedule        3.219778    6568.154911   \n",
       "0                 Bay Area 511 Muni Schedule        6.174015   12532.004535   \n",
       "0                         San Diego Schedule        1.274946    2099.611015   \n",
       "0                      LA Metro Bus Schedule        2.301013    3113.958552   \n",
       "0           Bay Area 511 AC Transit Schedule        6.928382    9070.180492   \n",
       "0                         San Diego Schedule        2.126868    2000.795379   \n",
       "0  Bay Area 511 Santa Clara Transit Schedule       16.403031   14123.672216   \n",
       "0                      LA Metro Bus Schedule        4.947284    4140.299188   \n",
       "0           Bay Area 511 AC Transit Schedule        2.674901    2199.936433   \n",
       "0                        Long Beach Schedule        5.189010    4196.387422   \n",
       "0           Bay Area 511 AC Transit Schedule        2.349386    1567.978993   \n",
       "0             Bay Area 511 SamTrans Schedule       26.456773   16696.952554   \n",
       "0                              OCTA Schedule        4.746642    2533.554429   \n",
       "0              Big Blue Bus Swiftly Schedule        4.486560    1765.766948   \n",
       "0                          Humboldt Schedule        2.585558     619.105391   \n",
       "0                      North County Schedule        1.195352     250.030227   \n",
       "0         Bay Area 511 Vine Transit Schedule        2.028925     273.790379   \n",
       "0                          Foothill Schedule        3.169035     344.353016   \n",
       "0             Bay Area 511 SamTrans Schedule        3.619179     196.919355   \n",
       "\n",
       "   minutes_per_mile                                           geometry  \n",
       "0       2039.940435  POLYGON ((-217609.307 -20376.350, -217609.271 ...  \n",
       "0       2029.798250  POLYGON ((-218152.597 -24502.018, -218170.814 ...  \n",
       "0       1646.822864  POLYGON ((272724.417 -599039.241, 272551.922 -...  \n",
       "0       1353.299051  POLYGON ((153028.275 -434865.075, 152920.507 -...  \n",
       "0       1309.133988  POLYGON ((-203442.685 -7734.573, -203443.442 -...  \n",
       "0        940.723867  POLYGON ((264750.856 -587810.341, 264750.944 -...  \n",
       "0        861.040416  POLYGON ((-191421.407 -61494.912, -191423.478 ...  \n",
       "0        836.883208  POLYGON ((152660.296 -466553.426, 152659.189 -...  \n",
       "0        822.436431  POLYGON ((-189808.077 -30309.901, -189813.839 ...  \n",
       "0        808.706739  POLYGON ((164989.834 -467823.021, 164991.149 -...  \n",
       "0        667.399551  POLYGON ((-201504.458 -16178.784, -201510.812 ...  \n",
       "0        631.103152  POLYGON ((-217483.530 -33840.465, -217495.139 ...  \n",
       "0        533.757230  POLYGON ((186269.495 -473504.248, 186267.331 -...  \n",
       "0        393.568130  POLYGON ((141446.038 -444935.527, 141444.532 -...  \n",
       "0        239.447461  POLYGON ((-353635.350 314804.404, -353644.983 ...  \n",
       "0        209.168758  POLYGON ((272459.273 -538828.393, 272458.667 -...  \n",
       "0        134.943577  POLYGON ((-198768.679 31794.529, -198776.391 3...  \n",
       "0        108.661773  POLYGON ((203956.470 -430442.227, 203942.370 -...  \n",
       "0         54.409946  POLYGON ((-198322.039 -62010.847, -198321.927 ...  "
      ]
     },
     "execution_count": 130,
     "metadata": {},
     "output_type": "execute_result"
    }
   ],
   "source": [
    "corr_gdf.sort_values('minutes_per_mile', ascending=False)"
   ]
  },
  {
   "cell_type": "code",
   "execution_count": 129,
   "id": "8c2a90c6-ae61-4f4c-9d28-00fd79bb7d94",
   "metadata": {
    "tags": []
   },
   "outputs": [
    {
     "data": {
      "text/html": [
       "<div>\n",
       "<style scoped>\n",
       "    .dataframe tbody tr th:only-of-type {\n",
       "        vertical-align: middle;\n",
       "    }\n",
       "\n",
       "    .dataframe tbody tr th {\n",
       "        vertical-align: top;\n",
       "    }\n",
       "\n",
       "    .dataframe thead th {\n",
       "        text-align: right;\n",
       "    }\n",
       "</style>\n",
       "<table border=\"1\" class=\"dataframe\">\n",
       "  <thead>\n",
       "    <tr style=\"text-align: right;\">\n",
       "      <th></th>\n",
       "      <th>name</th>\n",
       "      <th>corridor_miles</th>\n",
       "      <th>delay_minutes</th>\n",
       "      <th>minutes_per_mile</th>\n",
       "      <th>geometry</th>\n",
       "    </tr>\n",
       "  </thead>\n",
       "  <tbody>\n",
       "    <tr>\n",
       "      <th>0</th>\n",
       "      <td>Bay Area 511 SamTrans Schedule</td>\n",
       "      <td>0.556265</td>\n",
       "      <td>1980.335068</td>\n",
       "      <td>3560.059726</td>\n",
       "      <td>POLYGON ((-210624.594 -43758.081, -210625.249 ...</td>\n",
       "    </tr>\n",
       "    <tr>\n",
       "      <th>0</th>\n",
       "      <td>LA Metro Bus Schedule</td>\n",
       "      <td>0.289320</td>\n",
       "      <td>1483.598818</td>\n",
       "      <td>5127.885094</td>\n",
       "      <td>POLYGON ((169981.112 -443628.614, 169977.271 -...</td>\n",
       "    </tr>\n",
       "    <tr>\n",
       "      <th>0</th>\n",
       "      <td>GET Schedule</td>\n",
       "      <td>0.453996</td>\n",
       "      <td>1165.172077</td>\n",
       "      <td>2566.482859</td>\n",
       "      <td>POLYGON ((87177.454 -297142.036, 87166.684 -29...</td>\n",
       "    </tr>\n",
       "    <tr>\n",
       "      <th>0</th>\n",
       "      <td>Bay Area 511 SamTrans Schedule</td>\n",
       "      <td>0.703772</td>\n",
       "      <td>785.676155</td>\n",
       "      <td>1116.378445</td>\n",
       "      <td>POLYGON ((-203078.572 -50557.181, -203080.704 ...</td>\n",
       "    </tr>\n",
       "    <tr>\n",
       "      <th>0</th>\n",
       "      <td>Bay Area 511 Santa Clara Transit Schedule</td>\n",
       "      <td>0.661950</td>\n",
       "      <td>752.436686</td>\n",
       "      <td>1136.697247</td>\n",
       "      <td>POLYGON ((-186775.206 -66223.238, -186768.396 ...</td>\n",
       "    </tr>\n",
       "    <tr>\n",
       "      <th>0</th>\n",
       "      <td>Redding Schedule</td>\n",
       "      <td>0.617853</td>\n",
       "      <td>666.140710</td>\n",
       "      <td>1078.153418</td>\n",
       "      <td>POLYGON ((-202610.478 287825.394, -202650.621 ...</td>\n",
       "    </tr>\n",
       "    <tr>\n",
       "      <th>0</th>\n",
       "      <td>Bay Area 511 Santa Clara Transit Schedule</td>\n",
       "      <td>1.566094</td>\n",
       "      <td>572.389438</td>\n",
       "      <td>365.488675</td>\n",
       "      <td>POLYGON ((-184466.367 -67821.321, -184213.039 ...</td>\n",
       "    </tr>\n",
       "    <tr>\n",
       "      <th>0</th>\n",
       "      <td>OCTA Schedule</td>\n",
       "      <td>0.491530</td>\n",
       "      <td>513.961198</td>\n",
       "      <td>1045.636204</td>\n",
       "      <td>POLYGON ((186186.066 -470794.970, 186184.269 -...</td>\n",
       "    </tr>\n",
       "    <tr>\n",
       "      <th>0</th>\n",
       "      <td>Fresno Schedule</td>\n",
       "      <td>0.217764</td>\n",
       "      <td>463.863780</td>\n",
       "      <td>2130.124994</td>\n",
       "      <td>POLYGON ((17832.673 -142786.500, 17840.152 -14...</td>\n",
       "    </tr>\n",
       "    <tr>\n",
       "      <th>0</th>\n",
       "      <td>OCTA Schedule</td>\n",
       "      <td>0.361223</td>\n",
       "      <td>182.797455</td>\n",
       "      <td>506.052229</td>\n",
       "      <td>POLYGON ((223743.907 -509890.883, 223743.695 -...</td>\n",
       "    </tr>\n",
       "    <tr>\n",
       "      <th>0</th>\n",
       "      <td>North County Schedule</td>\n",
       "      <td>0.241807</td>\n",
       "      <td>164.381249</td>\n",
       "      <td>679.804443</td>\n",
       "      <td>POLYGON ((256188.552 -531950.052, 256188.543 -...</td>\n",
       "    </tr>\n",
       "    <tr>\n",
       "      <th>0</th>\n",
       "      <td>Tuolumne Remix Schedule</td>\n",
       "      <td>0.621373</td>\n",
       "      <td>101.409615</td>\n",
       "      <td>163.202549</td>\n",
       "      <td>POLYGON ((-31542.338 -4704.606, -31546.014 -47...</td>\n",
       "    </tr>\n",
       "    <tr>\n",
       "      <th>0</th>\n",
       "      <td>OCTA Schedule</td>\n",
       "      <td>0.411497</td>\n",
       "      <td>88.393848</td>\n",
       "      <td>214.810466</td>\n",
       "      <td>POLYGON ((205359.911 -494195.133, 205360.275 -...</td>\n",
       "    </tr>\n",
       "    <tr>\n",
       "      <th>0</th>\n",
       "      <td>Bay Area 511 SamTrans Schedule</td>\n",
       "      <td>0.139781</td>\n",
       "      <td>54.971043</td>\n",
       "      <td>393.266513</td>\n",
       "      <td>POLYGON ((-207165.781 -46478.063, -207196.031 ...</td>\n",
       "    </tr>\n",
       "    <tr>\n",
       "      <th>0</th>\n",
       "      <td>Lake Schedule</td>\n",
       "      <td>1.242745</td>\n",
       "      <td>33.918681</td>\n",
       "      <td>27.293345</td>\n",
       "      <td>POLYGON ((-237454.392 105094.578, -237453.409 ...</td>\n",
       "    </tr>\n",
       "    <tr>\n",
       "      <th>0</th>\n",
       "      <td>Redwood Coast Schedule</td>\n",
       "      <td>0.862974</td>\n",
       "      <td>2.869792</td>\n",
       "      <td>3.325465</td>\n",
       "      <td>POLYGON ((-337708.770 397594.010, -337713.892 ...</td>\n",
       "    </tr>\n",
       "  </tbody>\n",
       "</table>\n",
       "</div>"
      ],
      "text/plain": [
       "                                        name  corridor_miles  delay_minutes  \\\n",
       "0             Bay Area 511 SamTrans Schedule        0.556265    1980.335068   \n",
       "0                      LA Metro Bus Schedule        0.289320    1483.598818   \n",
       "0                               GET Schedule        0.453996    1165.172077   \n",
       "0             Bay Area 511 SamTrans Schedule        0.703772     785.676155   \n",
       "0  Bay Area 511 Santa Clara Transit Schedule        0.661950     752.436686   \n",
       "0                           Redding Schedule        0.617853     666.140710   \n",
       "0  Bay Area 511 Santa Clara Transit Schedule        1.566094     572.389438   \n",
       "0                              OCTA Schedule        0.491530     513.961198   \n",
       "0                            Fresno Schedule        0.217764     463.863780   \n",
       "0                              OCTA Schedule        0.361223     182.797455   \n",
       "0                      North County Schedule        0.241807     164.381249   \n",
       "0                    Tuolumne Remix Schedule        0.621373     101.409615   \n",
       "0                              OCTA Schedule        0.411497      88.393848   \n",
       "0             Bay Area 511 SamTrans Schedule        0.139781      54.971043   \n",
       "0                              Lake Schedule        1.242745      33.918681   \n",
       "0                     Redwood Coast Schedule        0.862974       2.869792   \n",
       "\n",
       "   minutes_per_mile                                           geometry  \n",
       "0       3560.059726  POLYGON ((-210624.594 -43758.081, -210625.249 ...  \n",
       "0       5127.885094  POLYGON ((169981.112 -443628.614, 169977.271 -...  \n",
       "0       2566.482859  POLYGON ((87177.454 -297142.036, 87166.684 -29...  \n",
       "0       1116.378445  POLYGON ((-203078.572 -50557.181, -203080.704 ...  \n",
       "0       1136.697247  POLYGON ((-186775.206 -66223.238, -186768.396 ...  \n",
       "0       1078.153418  POLYGON ((-202610.478 287825.394, -202650.621 ...  \n",
       "0        365.488675  POLYGON ((-184466.367 -67821.321, -184213.039 ...  \n",
       "0       1045.636204  POLYGON ((186186.066 -470794.970, 186184.269 -...  \n",
       "0       2130.124994  POLYGON ((17832.673 -142786.500, 17840.152 -14...  \n",
       "0        506.052229  POLYGON ((223743.907 -509890.883, 223743.695 -...  \n",
       "0        679.804443  POLYGON ((256188.552 -531950.052, 256188.543 -...  \n",
       "0        163.202549  POLYGON ((-31542.338 -4704.606, -31546.014 -47...  \n",
       "0        214.810466  POLYGON ((205359.911 -494195.133, 205360.275 -...  \n",
       "0        393.266513  POLYGON ((-207165.781 -46478.063, -207196.031 ...  \n",
       "0         27.293345  POLYGON ((-237454.392 105094.578, -237453.409 ...  \n",
       "0          3.325465  POLYGON ((-337708.770 397594.010, -337713.892 ...  "
      ]
     },
     "execution_count": 129,
     "metadata": {},
     "output_type": "execute_result"
    }
   ],
   "source": [
    "hs_gdf.sort_values('delay_minutes', ascending=False)"
   ]
  },
  {
   "cell_type": "markdown",
   "id": "fb9a8f59-90e8-4b56-a8e9-edecd8896c6d",
   "metadata": {},
   "source": [
    "## TO-DO\n",
    "\n",
    "* Which other metrics?\n",
    "\n",
    "* Is our list complete?\n",
    "\n",
    "* Exclude routes where necessary (current corridor join is just spatial...)\n",
    "\n",
    "* Add location-specific interventions, and [guidance](https://caltrans.sharepoint.com/:w:/s/DOTPMPHQ-DataandDigitalServices/EdG0YNQcQMBJmKncAuNva9wBjpxVq2sD8p3C5azumXFNRA?e=TO7CbB)"
   ]
  },
  {
   "cell_type": "code",
   "execution_count": null,
   "id": "d2e72d64-d352-4163-af2a-a49e4abde6d5",
   "metadata": {},
   "outputs": [],
   "source": []
  }
 ],
 "metadata": {
  "kernelspec": {
   "display_name": "Python 3 (ipykernel)",
   "language": "python",
   "name": "python3"
  },
  "language_info": {
   "codemirror_mode": {
    "name": "ipython",
    "version": 3
   },
   "file_extension": ".py",
   "mimetype": "text/x-python",
   "name": "python",
   "nbconvert_exporter": "python",
   "pygments_lexer": "ipython3",
   "version": "3.11.6"
  },
  "widgets": {
   "application/vnd.jupyter.widget-state+json": {
    "state": {},
    "version_major": 2,
    "version_minor": 0
   }
  }
 },
 "nbformat": 4,
 "nbformat_minor": 5
}
