{
 "cells": [
  {
   "cell_type": "code",
   "execution_count": null,
   "id": "d528f399-cf33-459e-b5dc-92e0b4ae389a",
   "metadata": {},
   "outputs": [],
   "source": [
    "import pandas as pd\n",
    "import geopandas as gpd\n",
    "from siuba import *\n",
    "import shared_utils\n",
    "\n",
    "from calitp_data_analysis import get_fs, geography_utils\n",
    "from segment_speed_utils import helpers, time_series_utils, gtfs_schedule_wrangling\n",
    "from segment_speed_utils.project_vars import SCHED_GCS, SEGMENT_GCS, GTFS_DATA_DICT, analysis_date"
   ]
  },
  {
   "cell_type": "markdown",
   "id": "82c092ac-157e-435c-be60-2f86a11a996e",
   "metadata": {},
   "source": [
    "i'd start with 5, checking if the columns you want are already there in this file (saved out at the end of stop_arrivals_to_speed, and is a speeds by trip table for that day)"
   ]
  },
  {
   "cell_type": "code",
   "execution_count": null,
   "id": "6cd318e5-5c4e-4249-b158-232f4d940770",
   "metadata": {},
   "outputs": [],
   "source": [
    "catalog = shared_utils.catalog_utils.get_catalog('gtfs_analytics_data')"
   ]
  },
  {
   "cell_type": "code",
   "execution_count": null,
   "id": "6e86c1a8-d3de-4fc6-9478-c03133b6745c",
   "metadata": {},
   "outputs": [],
   "source": [
    "catalog.speedmap_segments"
   ]
  },
  {
   "cell_type": "code",
   "execution_count": null,
   "id": "f766b50a-c70d-4681-992c-d7f8979ada69",
   "metadata": {},
   "outputs": [],
   "source": [
    "analysis_date"
   ]
  },
  {
   "cell_type": "code",
   "execution_count": null,
   "id": "b4dd7af7-0cfa-4d94-a96d-f11e7cdc12f9",
   "metadata": {},
   "outputs": [],
   "source": [
    "# path = f'{catalog.speedmap_segments.dir}{catalog.speedmap_segments.stage4}_{analysis_date}.parquet'"
   ]
  },
  {
   "cell_type": "code",
   "execution_count": null,
   "id": "12b824f2-4326-4f5e-ae86-95a46703c948",
   "metadata": {},
   "outputs": [],
   "source": [
    "path = f'{catalog.speedmap_segments.dir}{catalog.speedmap_segments.shape_stop_single_segment_detail}_{analysis_date}.parquet'"
   ]
  },
  {
   "cell_type": "code",
   "execution_count": null,
   "id": "2743cbe7-b472-4ea2-af08-13d2003e93db",
   "metadata": {},
   "outputs": [],
   "source": [
    "path"
   ]
  },
  {
   "cell_type": "code",
   "execution_count": null,
   "id": "7669d09d-c49e-448c-b57a-299112614bd0",
   "metadata": {},
   "outputs": [],
   "source": [
    "detail = gpd.read_parquet(path)"
   ]
  },
  {
   "cell_type": "code",
   "execution_count": null,
   "id": "ddf376af-9781-4943-b0d7-5f5418e07735",
   "metadata": {},
   "outputs": [],
   "source": [
    "detail >> head(3)"
   ]
  },
  {
   "cell_type": "markdown",
   "id": "fb80931f-f02c-4933-bb0c-8deb698cc89a",
   "metadata": {},
   "source": [
    "## need trip-level (pre-aggregation) gdf to properly calculate metrics"
   ]
  },
  {
   "cell_type": "code",
   "execution_count": null,
   "id": "de1a46cb-4aec-4ff8-a5f6-d7c691233d62",
   "metadata": {
    "tags": []
   },
   "outputs": [],
   "source": [
    "path = f'{catalog.speedmap_segments.dir}{catalog.speedmap_segments.stage4}_{analysis_date}.parquet'"
   ]
  },
  {
   "cell_type": "code",
   "execution_count": null,
   "id": "12db520b-6604-463f-a4e4-84c89a989271",
   "metadata": {
    "tags": []
   },
   "outputs": [],
   "source": [
    "st4 = pd.read_parquet(path)"
   ]
  },
  {
   "cell_type": "code",
   "execution_count": null,
   "id": "dd15b744-7091-49c3-a55c-78f8db4283a3",
   "metadata": {},
   "outputs": [],
   "source": [
    "no_speeds = st4[st4['speed_mph'].isna()]"
   ]
  },
  {
   "cell_type": "code",
   "execution_count": null,
   "id": "602e6308-3d39-4baf-9a98-adc97d5a251a",
   "metadata": {},
   "outputs": [],
   "source": [
    "no_speeds_pct = round((no_speeds.shape[0] / st4.shape[0]) * 100, 3)\n",
    "print(f\"{no_speeds_pct} percent of trip segments have no speed, dropping\")"
   ]
  },
  {
   "cell_type": "code",
   "execution_count": null,
   "id": "c1265de7-8e2b-4806-b1b6-37956ccb27c9",
   "metadata": {},
   "outputs": [],
   "source": [
    "st4 = st4[~st4['speed_mph'].isna()]"
   ]
  },
  {
   "cell_type": "code",
   "execution_count": null,
   "id": "429f9be0-d723-4a53-951f-0fca9d2e7ce3",
   "metadata": {
    "tags": []
   },
   "outputs": [],
   "source": [
    "st4.columns"
   ]
  },
  {
   "cell_type": "code",
   "execution_count": null,
   "id": "cce5628e-68a8-4c9e-952d-4d34bf2ff761",
   "metadata": {
    "tags": []
   },
   "outputs": [],
   "source": [
    "st4 >> head(3)"
   ]
  },
  {
   "cell_type": "markdown",
   "id": "a2057b2d-b1b9-4780-91e3-a2ba4c7ea48d",
   "metadata": {},
   "source": [
    "## corridor specification"
   ]
  },
  {
   "cell_type": "code",
   "execution_count": null,
   "id": "5678a894-bee2-4c1e-bade-392f344dfcbb",
   "metadata": {
    "tags": []
   },
   "outputs": [],
   "source": [
    "orgs = detail.drop_duplicates(subset=['organization_source_record_id', 'organization_name'])[['organization_source_record_id', 'organization_name']]"
   ]
  },
  {
   "cell_type": "code",
   "execution_count": null,
   "id": "3a7c1d45-76bb-4442-9b24-35f8a0d60b6c",
   "metadata": {
    "tags": []
   },
   "outputs": [],
   "source": [
    "orgs[orgs.organization_name.str.contains('San Fr')]"
   ]
  },
  {
   "cell_type": "code",
   "execution_count": null,
   "id": "ef745e6e-e25d-4650-a94a-b1f6ca55de4e",
   "metadata": {},
   "outputs": [],
   "source": [
    "def corridor_from_segments(\n",
    "    speed_segments_gdf: gpd.GeoDataFrame,\n",
    "    organization_source_record_id: str,\n",
    "    shape_id: str,\n",
    "    start_seg_id: str,\n",
    "    end_seg_id: str\n",
    ") -> gpd.GeoDataFrame:\n",
    "    '''\n",
    "    \n",
    "    '''\n",
    "    \n",
    "    shape_filtered = speed_segments_gdf.query(\"organization_source_record_id == @organization_source_record_id & shape_id == @shape_id\")\n",
    "    \n",
    "    shape_filtered = shape_filtered.assign(start_point = shape_filtered.geometry.apply(lambda x: x.boundary.geoms[0]),\n",
    "                      end_point = shape_filtered.geometry.apply(lambda x: x.boundary.geoms[1])\n",
    "                     )\n",
    "\n",
    "    filter_ids = [start_seg_id, end_seg_id]\n",
    "    current_seg_id = start_seg_id\n",
    "    assert start_seg_id in shape_filtered.segment_id.values and end_seg_id in shape_filtered.segment_id.values\n",
    "\n",
    "    for _ in shape_filtered.segment_id:\n",
    "        if current_seg_id == end_seg_id: break\n",
    "        current_end = shape_filtered.loc[shape_filtered['segment_id'] == current_seg_id]['end_point'].iloc[0]\n",
    "        next_segment = shape_filtered.loc[shape_filtered['start_point'] == current_end]\n",
    "        assert not next_segment.empty, f'unable to locate segment after {current_seg_id}'\n",
    "        current_seg_id = next_segment.segment_id.iloc[0]\n",
    "        filter_ids += next_segment.segment_id.to_list()\n",
    "        \n",
    "    relevant_segments = shape_filtered.query(\"segment_id in @filter_ids\").drop_duplicates(subset='segment_id')\n",
    "    corridor = relevant_segments.dissolve()[['schedule_gtfs_dataset_key', 'shape_array_key', 'shape_id',\n",
    "                                            'name', 'organization_source_record_id', 'geometry']]\n",
    "    corridor_start = corridor.geometry.iloc[0].boundary.geoms[0]\n",
    "    corridor_end = corridor.geometry.iloc[0].boundary.geoms[1]\n",
    "    print(corridor_start, corridor_end)\n",
    "    corridor = corridor.to_crs(geography_utils.CA_NAD83Albers).assign(distance_meters = lambda x: x.geometry.length)\n",
    "    corridor.geometry = corridor.buffer(100) #  100m corridor buffer\n",
    "    \n",
    "    return corridor"
   ]
  },
  {
   "cell_type": "markdown",
   "id": "9312cd77-8ec6-495f-be17-310d579db89d",
   "metadata": {
    "tags": []
   },
   "source": [
    "## move to shared_utils/geo_utils..."
   ]
  },
  {
   "cell_type": "code",
   "execution_count": null,
   "id": "b79dbd92-6c37-4ef5-b9fc-b07bb979c0ae",
   "metadata": {
    "tags": []
   },
   "outputs": [],
   "source": [
    "# corridor_start = corridor.geometry.iloc[0].boundary.geoms[0]\n",
    "# corridor_end = corridor.geometry.iloc[0].boundary.geoms[1]\n",
    "\n",
    "# import pyproj\n",
    "# geodesic = pyproj.Geod(ellps=\"WGS84\")\n",
    "\n",
    "# long1, lat1 = (-122.40550254785889, 37.76900326502991)\n",
    "# long2, lat2 = (-122.40217200000001, 37.724137999999975)\n",
    "\n",
    "# fwd_azimuth,back_azimuth,distance = geodesic.inv(long1, lat1, long2, lat2)"
   ]
  },
  {
   "cell_type": "markdown",
   "id": "a0cfadc6-776c-4402-abad-23899bedc09b",
   "metadata": {},
   "source": [
    "## define corridor"
   ]
  },
  {
   "cell_type": "code",
   "execution_count": null,
   "id": "ce9e7154-22cc-448d-bade-2bedd752d600",
   "metadata": {
    "tags": []
   },
   "outputs": [],
   "source": [
    "# shape_id = '4953'\n",
    "# start_seg_id = '18088-18089-1'\n",
    "# end_seg_id = '16800-16806-1'\n",
    "\n",
    "sf = 'rechaapWbeffO33OX'\n",
    "shape_id = '800'\n",
    "start_seg_id = '14970-17900-2'\n",
    "end_seg_id = '16357-16358-1'"
   ]
  },
  {
   "cell_type": "code",
   "execution_count": null,
   "id": "456ba49d-2f78-4371-b942-f195099108ce",
   "metadata": {
    "tags": []
   },
   "outputs": [],
   "source": [
    "gdf = corridor_from_segments(speed_segments_gdf=detail, organization_source_record_id=sf, shape_id=shape_id,\n",
    "                      start_seg_id=start_seg_id, end_seg_id=end_seg_id)"
   ]
  },
  {
   "cell_type": "code",
   "execution_count": null,
   "id": "ce92fc09-45cf-4e0b-9d9c-3293839436e7",
   "metadata": {
    "tags": []
   },
   "outputs": [],
   "source": [
    "# gdf.explore()"
   ]
  },
  {
   "cell_type": "code",
   "execution_count": null,
   "id": "39740be5-1859-440b-8213-a4ffa9183425",
   "metadata": {
    "tags": []
   },
   "outputs": [],
   "source": [
    "gdf"
   ]
  },
  {
   "cell_type": "code",
   "execution_count": null,
   "id": "80c99f8f-8ace-43ad-8896-986eaf105d19",
   "metadata": {},
   "outputs": [],
   "source": [
    "st4.columns"
   ]
  },
  {
   "cell_type": "code",
   "execution_count": null,
   "id": "d00de55e-adc8-467b-bd62-cf5bcd4dc208",
   "metadata": {},
   "outputs": [],
   "source": [
    "detail.columns"
   ]
  },
  {
   "cell_type": "markdown",
   "id": "d66850e3-583b-4fca-bc4d-8ed30dddaf44",
   "metadata": {},
   "source": [
    "## Corridor Measurements\n",
    "\n",
    "Previous logic:\n",
    "\n",
    "For each trip, get from the last stop before entering corridor to the first stop after exiting corridor. This was done on stop_sequence\n",
    "\n",
    "Now,\n",
    "\n",
    "* first sjoin with aggregated data (has geom). Sjoining on segments is equivalent to previous methodology, since it will yield the last stop before entry to the first stop after exiting...\n",
    "* avoid doing scheduled delay metric for now...\n",
    "* "
   ]
  },
  {
   "cell_type": "code",
   "execution_count": null,
   "id": "355fc695-3004-4b1f-b760-8905118a0d92",
   "metadata": {},
   "outputs": [],
   "source": [
    "def find_corridor_data(\n",
    "    speed_segments_gdf: gpd.GeoDataFrame,\n",
    "    corridor_gdf: gpd.GeoDataFrame,\n",
    "    trip_speeds_df: pd.DataFrame\n",
    ") -> gpd.GeoDataFrame:\n",
    "    '''\n",
    "    \n",
    "    '''\n",
    "    speed_segments_gdf = speed_segments_gdf.to_crs(geography_utils.CA_NAD83Albers)\n",
    "    corridor_segments = speed_segments_gdf.clip(corridor_gdf)\n",
    "    attach_geom = corridor_segments[['shape_array_key', 'segment_id', 'geometry']].drop_duplicates()\n",
    "    trip_speeds_df = attach_geom.merge(trip_speeds_df, on=['shape_array_key', 'segment_id'])\n",
    "    return trip_speeds_df"
   ]
  },
  {
   "cell_type": "code",
   "execution_count": null,
   "id": "1cb3be15-bfe6-4cd8-a880-91201aa1d10d",
   "metadata": {},
   "outputs": [],
   "source": [
    "corridor_trips = find_corridor_data(detail, gdf, st4)"
   ]
  },
  {
   "cell_type": "code",
   "execution_count": null,
   "id": "225f673e-303f-4da8-bf6c-49af3d34219c",
   "metadata": {},
   "outputs": [],
   "source": [
    "corridor_trips.value_counts(subset=['route_short_name', 'direction_id', 'trip_instance_key'])"
   ]
  },
  {
   "cell_type": "code",
   "execution_count": null,
   "id": "bd38aebf-e5ab-44d9-93ec-4efbb7ba4e6e",
   "metadata": {},
   "outputs": [],
   "source": [
    "test = corridor_trips[corridor_trips['shape_id'] == '800']"
   ]
  },
  {
   "cell_type": "code",
   "execution_count": null,
   "id": "b350e4b2-56bf-40f5-a2ce-5dde35e31bc3",
   "metadata": {},
   "outputs": [],
   "source": [
    "test[['geometry', 'arrival_time_sec', 'segment_id', 'speed_mph', 'stop_meters', 'subseq_stop_meters']].explore()"
   ]
  },
  {
   "cell_type": "code",
   "execution_count": null,
   "id": "6c4406bb-a3a7-4db8-b98d-cf1cdda08946",
   "metadata": {},
   "outputs": [],
   "source": [
    "corridor_trips.columns"
   ]
  },
  {
   "cell_type": "code",
   "execution_count": null,
   "id": "9b835bd9-56ea-4f42-a77e-1c45dac715c2",
   "metadata": {},
   "outputs": [],
   "source": [
    "grouped = corridor_trips.groupby(['trip_instance_key'])\n",
    "min_stops = grouped[['stop_meters', 'arrival_time_sec']].min().add_suffix('_min')\n",
    "max_stops = grouped[['subseq_stop_meters', 'subseq_arrival_time_sec']].max().add_suffix('_max')"
   ]
  },
  {
   "cell_type": "code",
   "execution_count": null,
   "id": "32785842-d171-4d48-8a3f-55eafd00d9d7",
   "metadata": {},
   "outputs": [],
   "source": [
    "min_stops"
   ]
  },
  {
   "cell_type": "code",
   "execution_count": null,
   "id": "26f0f077-21fc-41fe-848f-2622d1c6d3fd",
   "metadata": {},
   "outputs": [],
   "source": [
    "max_stops"
   ]
  },
  {
   "cell_type": "code",
   "execution_count": null,
   "id": "65e85478-a62b-4d6b-ab92-b2c134947d16",
   "metadata": {},
   "outputs": [],
   "source": [
    "df = min_stops.join(max_stops)\n",
    "df = df.assign(\n",
    "corridor_meters = df['subseq_stop_meters_max'] - df['stop_meters_min'],\n",
    "corridor_seconds = df['subseq_arrival_time_sec_max'] - df['arrival_time_sec_min']\n",
    ")\n",
    "df = df.assign(corridor_speed_mps = df['corridor_meters'] / df['corridor_seconds'])"
   ]
  },
  {
   "cell_type": "code",
   "execution_count": null,
   "id": "dce82aa0-fc15-4723-a95c-8c6d882ddc6a",
   "metadata": {},
   "outputs": [],
   "source": [
    "df[df['corridor_seconds'] == 0]"
   ]
  },
  {
   "cell_type": "code",
   "execution_count": null,
   "id": "b4dab474-fc62-44ea-b693-aa79b534e843",
   "metadata": {},
   "outputs": [],
   "source": [
    "test = corridor_trips[corridor_trips['trip_instance_key'] == '2562dc12764584ea9af42252b6e9a6c6']"
   ]
  },
  {
   "cell_type": "code",
   "execution_count": null,
   "id": "7b50899f-2f9f-435e-93ba-19db55ca996e",
   "metadata": {},
   "outputs": [],
   "source": [
    "test[['geometry', 'arrival_time_sec', 'segment_id', 'speed_mph', 'stop_meters', 'subseq_stop_meters', 'route_short_name']].explore()"
   ]
  },
  {
   "cell_type": "code",
   "execution_count": null,
   "id": "03a04da5-27e8-42ba-b0cb-aefc1e43cb8d",
   "metadata": {},
   "outputs": [],
   "source": [
    "gdf.explore()"
   ]
  },
  {
   "cell_type": "code",
   "execution_count": null,
   "id": "1636da42-1b2b-45c8-85f5-d9c4cd4984dd",
   "metadata": {},
   "outputs": [],
   "source": []
  }
 ],
 "metadata": {
  "kernelspec": {
   "display_name": "Python 3 (ipykernel)",
   "language": "python",
   "name": "python3"
  },
  "language_info": {
   "codemirror_mode": {
    "name": "ipython",
    "version": 3
   },
   "file_extension": ".py",
   "mimetype": "text/x-python",
   "name": "python",
   "nbconvert_exporter": "python",
   "pygments_lexer": "ipython3",
   "version": "3.9.13"
  },
  "widgets": {
   "application/vnd.jupyter.widget-state+json": {
    "state": {},
    "version_major": 2,
    "version_minor": 0
   }
  }
 },
 "nbformat": 4,
 "nbformat_minor": 5
}
