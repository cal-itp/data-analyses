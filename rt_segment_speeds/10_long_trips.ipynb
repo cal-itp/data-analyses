{
 "cells": [
  {
   "cell_type": "markdown",
   "id": "33f07aec-21d5-4f01-95c3-423b0272a966",
   "metadata": {},
   "source": [
    "## Look at trips that exceed 1,400 minutes"
   ]
  },
  {
   "cell_type": "code",
   "execution_count": 1,
   "id": "ac8b8647-fd33-4091-9c52-7b6d431eab02",
   "metadata": {},
   "outputs": [
    {
     "name": "stderr",
     "output_type": "stream",
     "text": [
      "/opt/conda/lib/python3.9/site-packages/geopandas/_compat.py:123: UserWarning: The Shapely GEOS version (3.10.3-CAPI-1.16.1) is incompatible with the GEOS version PyGEOS was compiled with (3.10.1-CAPI-1.16.0). Conversions between both will be slow.\n",
      "  warnings.warn(\n"
     ]
    }
   ],
   "source": [
    "import _rt_scheduled_utils as rt_scheduled_utils\n",
    "import _threshold_utils as threshold_utils\n",
    "import altair as alt\n",
    "\n",
    "import pandas as pd\n",
    "from shared_utils import calitp_color_palette as cp"
   ]
  },
  {
   "cell_type": "code",
   "execution_count": 2,
   "id": "9a5b870f-107d-4802-bd1c-499b3486f7e4",
   "metadata": {},
   "outputs": [],
   "source": [
    "pd.options.display.max_columns = 100\n",
    "pd.options.display.float_format = \"{:.2f}\".format\n",
    "pd.set_option(\"display.max_rows\", None)\n",
    "pd.set_option(\"display.max_colwidth\", None)"
   ]
  },
  {
   "cell_type": "code",
   "execution_count": 3,
   "id": "9720f3ba-a209-42ca-bdc5-8ad9b994f877",
   "metadata": {},
   "outputs": [],
   "source": [
    "final = rt_scheduled_utils.final_df(rt_scheduled_utils.analysis_date)"
   ]
  },
  {
   "cell_type": "code",
   "execution_count": 6,
   "id": "1aacb58b-0eca-43bd-a7eb-88b5fcdcbff4",
   "metadata": {},
   "outputs": [],
   "source": [
    "long_trips = final.loc[final[\"Actual Trip Duration Minutes\"] >= 1400].reset_index(drop = True)"
   ]
  },
  {
   "cell_type": "code",
   "execution_count": 11,
   "id": "459ee7a9-1182-4042-9aaa-dc9e205c94e9",
   "metadata": {},
   "outputs": [
    {
     "data": {
      "text/plain": [
       "540"
      ]
     },
     "execution_count": 11,
     "metadata": {},
     "output_type": "execute_result"
    }
   ],
   "source": [
    "len(long_trips)"
   ]
  },
  {
   "cell_type": "code",
   "execution_count": 37,
   "id": "4d97006c-0251-4d52-8ba2-394e52e076e2",
   "metadata": {},
   "outputs": [],
   "source": [
    "summary = long_trips.groupby(['Gtfs Dataset Name', ]).agg({'Trip Id':'nunique'}).rename(columns = {'Trip Id':'Total Trips'}).reset_index()"
   ]
  },
  {
   "cell_type": "code",
   "execution_count": 38,
   "id": "2ae3f123-5e6d-4178-9786-89aed5596ea5",
   "metadata": {},
   "outputs": [],
   "source": [
    "summary = summary.assign(\n",
    "    Percent_Trips = summary['Total Trips'].divide(len(long_trips)) * 100)"
   ]
  },
  {
   "cell_type": "code",
   "execution_count": 33,
   "id": "9b3e456b-bd0c-4edc-a33e-23e8fb1ac908",
   "metadata": {},
   "outputs": [
    {
     "data": {
      "text/html": [
       "<div>\n",
       "<style scoped>\n",
       "    .dataframe tbody tr th:only-of-type {\n",
       "        vertical-align: middle;\n",
       "    }\n",
       "\n",
       "    .dataframe tbody tr th {\n",
       "        vertical-align: top;\n",
       "    }\n",
       "\n",
       "    .dataframe thead th {\n",
       "        text-align: right;\n",
       "    }\n",
       "</style>\n",
       "<table border=\"1\" class=\"dataframe\">\n",
       "  <thead>\n",
       "    <tr style=\"text-align: right;\">\n",
       "      <th></th>\n",
       "      <th>Gtfs Dataset Name</th>\n",
       "      <th>Total Trips</th>\n",
       "      <th>Percent_Trips</th>\n",
       "    </tr>\n",
       "  </thead>\n",
       "  <tbody>\n",
       "    <tr>\n",
       "      <th>0</th>\n",
       "      <td>Anaheim Resort VehiclePositions</td>\n",
       "      <td>2</td>\n",
       "      <td>0.37</td>\n",
       "    </tr>\n",
       "    <tr>\n",
       "      <th>1</th>\n",
       "      <td>Bay Area 511 AC Transit Vehicle Position</td>\n",
       "      <td>73</td>\n",
       "      <td>13.52</td>\n",
       "    </tr>\n",
       "    <tr>\n",
       "      <th>2</th>\n",
       "      <td>Bay Area 511 Caltrain VehiclePositions</td>\n",
       "      <td>1</td>\n",
       "      <td>0.19</td>\n",
       "    </tr>\n",
       "    <tr>\n",
       "      <th>3</th>\n",
       "      <td>Bay Area 511 Golden Gate Transit Vehicle Positions</td>\n",
       "      <td>3</td>\n",
       "      <td>0.56</td>\n",
       "    </tr>\n",
       "    <tr>\n",
       "      <th>4</th>\n",
       "      <td>Bay Area 511 Marin VehiclePositions</td>\n",
       "      <td>1</td>\n",
       "      <td>0.19</td>\n",
       "    </tr>\n",
       "    <tr>\n",
       "      <th>5</th>\n",
       "      <td>Bay Area 511 Muni VehiclePositions</td>\n",
       "      <td>139</td>\n",
       "      <td>25.74</td>\n",
       "    </tr>\n",
       "    <tr>\n",
       "      <th>6</th>\n",
       "      <td>Bay Area 511 SamTrans VehiclePositions</td>\n",
       "      <td>9</td>\n",
       "      <td>1.67</td>\n",
       "    </tr>\n",
       "    <tr>\n",
       "      <th>7</th>\n",
       "      <td>Bay Area 511 Santa Clara Transit VehiclePositions</td>\n",
       "      <td>33</td>\n",
       "      <td>6.11</td>\n",
       "    </tr>\n",
       "    <tr>\n",
       "      <th>8</th>\n",
       "      <td>Bay Area 511 Tri Delta VehiclePositions</td>\n",
       "      <td>2</td>\n",
       "      <td>0.37</td>\n",
       "    </tr>\n",
       "    <tr>\n",
       "      <th>9</th>\n",
       "      <td>Bear Vehicle Positions</td>\n",
       "      <td>1</td>\n",
       "      <td>0.19</td>\n",
       "    </tr>\n",
       "    <tr>\n",
       "      <th>10</th>\n",
       "      <td>Fresno Vehicle Positions</td>\n",
       "      <td>2</td>\n",
       "      <td>0.37</td>\n",
       "    </tr>\n",
       "    <tr>\n",
       "      <th>11</th>\n",
       "      <td>LA Metro Bus Vehicle Positions</td>\n",
       "      <td>188</td>\n",
       "      <td>34.81</td>\n",
       "    </tr>\n",
       "    <tr>\n",
       "      <th>12</th>\n",
       "      <td>LA Metro Rail Vehicle Positions</td>\n",
       "      <td>9</td>\n",
       "      <td>1.67</td>\n",
       "    </tr>\n",
       "    <tr>\n",
       "      <th>13</th>\n",
       "      <td>North County Vehicle Positions</td>\n",
       "      <td>1</td>\n",
       "      <td>0.19</td>\n",
       "    </tr>\n",
       "    <tr>\n",
       "      <th>14</th>\n",
       "      <td>OCTA VehiclePositions</td>\n",
       "      <td>24</td>\n",
       "      <td>4.44</td>\n",
       "    </tr>\n",
       "    <tr>\n",
       "      <th>15</th>\n",
       "      <td>Riverside VehiclePositions</td>\n",
       "      <td>2</td>\n",
       "      <td>0.37</td>\n",
       "    </tr>\n",
       "    <tr>\n",
       "      <th>16</th>\n",
       "      <td>San Diego Vehicle Positions</td>\n",
       "      <td>50</td>\n",
       "      <td>9.26</td>\n",
       "    </tr>\n",
       "  </tbody>\n",
       "</table>\n",
       "</div>"
      ],
      "text/plain": [
       "                                     Gtfs Dataset Name  Total Trips  \\\n",
       "0                      Anaheim Resort VehiclePositions            2   \n",
       "1             Bay Area 511 AC Transit Vehicle Position           73   \n",
       "2               Bay Area 511 Caltrain VehiclePositions            1   \n",
       "3   Bay Area 511 Golden Gate Transit Vehicle Positions            3   \n",
       "4                  Bay Area 511 Marin VehiclePositions            1   \n",
       "5                   Bay Area 511 Muni VehiclePositions          139   \n",
       "6               Bay Area 511 SamTrans VehiclePositions            9   \n",
       "7    Bay Area 511 Santa Clara Transit VehiclePositions           33   \n",
       "8              Bay Area 511 Tri Delta VehiclePositions            2   \n",
       "9                               Bear Vehicle Positions            1   \n",
       "10                            Fresno Vehicle Positions            2   \n",
       "11                      LA Metro Bus Vehicle Positions          188   \n",
       "12                     LA Metro Rail Vehicle Positions            9   \n",
       "13                      North County Vehicle Positions            1   \n",
       "14                               OCTA VehiclePositions           24   \n",
       "15                          Riverside VehiclePositions            2   \n",
       "16                         San Diego Vehicle Positions           50   \n",
       "\n",
       "    Percent_Trips  \n",
       "0            0.37  \n",
       "1           13.52  \n",
       "2            0.19  \n",
       "3            0.56  \n",
       "4            0.19  \n",
       "5           25.74  \n",
       "6            1.67  \n",
       "7            6.11  \n",
       "8            0.37  \n",
       "9            0.19  \n",
       "10           0.37  \n",
       "11          34.81  \n",
       "12           1.67  \n",
       "13           0.19  \n",
       "14           4.44  \n",
       "15           0.37  \n",
       "16           9.26  "
      ]
     },
     "execution_count": 33,
     "metadata": {},
     "output_type": "execute_result"
    }
   ],
   "source": [
    "summary"
   ]
  },
  {
   "cell_type": "code",
   "execution_count": 34,
   "id": "2644ae58-5c48-4f90-9a8c-3cb883c724dd",
   "metadata": {},
   "outputs": [
    {
     "data": {
      "text/html": [
       "<div>\n",
       "<style scoped>\n",
       "    .dataframe tbody tr th:only-of-type {\n",
       "        vertical-align: middle;\n",
       "    }\n",
       "\n",
       "    .dataframe tbody tr th {\n",
       "        vertical-align: top;\n",
       "    }\n",
       "\n",
       "    .dataframe thead th {\n",
       "        text-align: right;\n",
       "    }\n",
       "</style>\n",
       "<table border=\"1\" class=\"dataframe\">\n",
       "  <thead>\n",
       "    <tr style=\"text-align: right;\">\n",
       "      <th></th>\n",
       "      <th>Rt Category</th>\n",
       "      <th>Total Trips</th>\n",
       "    </tr>\n",
       "  </thead>\n",
       "  <tbody>\n",
       "    <tr>\n",
       "      <th>0</th>\n",
       "      <td>0-20%</td>\n",
       "      <td>1</td>\n",
       "    </tr>\n",
       "    <tr>\n",
       "      <th>1</th>\n",
       "      <td>21-40%</td>\n",
       "      <td>11</td>\n",
       "    </tr>\n",
       "    <tr>\n",
       "      <th>2</th>\n",
       "      <td>41-60%</td>\n",
       "      <td>10</td>\n",
       "    </tr>\n",
       "    <tr>\n",
       "      <th>3</th>\n",
       "      <td>61-80%</td>\n",
       "      <td>18</td>\n",
       "    </tr>\n",
       "    <tr>\n",
       "      <th>4</th>\n",
       "      <td>81-100%</td>\n",
       "      <td>500</td>\n",
       "    </tr>\n",
       "  </tbody>\n",
       "</table>\n",
       "</div>"
      ],
      "text/plain": [
       "  Rt Category  Total Trips\n",
       "0       0-20%            1\n",
       "1      21-40%           11\n",
       "2      41-60%           10\n",
       "3      61-80%           18\n",
       "4     81-100%          500"
      ]
     },
     "execution_count": 34,
     "metadata": {},
     "output_type": "execute_result"
    }
   ],
   "source": [
    "long_trips.groupby(['Rt Category']).agg({'Trip Id':'nunique'}).rename(columns = {'Trip Id':'Total Trips'}).reset_index()"
   ]
  },
  {
   "cell_type": "code",
   "execution_count": 17,
   "id": "4c369e58-2487-4b13-a455-08a0faf20fbc",
   "metadata": {},
   "outputs": [
    {
     "data": {
      "text/plain": [
       "count                     540\n",
       "unique                    143\n",
       "top       2023-02-15 00:00:13\n",
       "freq                      130\n",
       "Name: Start, dtype: object"
      ]
     },
     "execution_count": 17,
     "metadata": {},
     "output_type": "execute_result"
    }
   ],
   "source": [
    "long_trips['Start'].describe()"
   ]
  },
  {
   "cell_type": "code",
   "execution_count": 18,
   "id": "93547c2d-f117-41e8-8bbd-a500ec66eed2",
   "metadata": {},
   "outputs": [
    {
     "data": {
      "text/plain": [
       "count                     540\n",
       "unique                     89\n",
       "top       2023-02-15 23:59:59\n",
       "freq                      155\n",
       "Name: End, dtype: object"
      ]
     },
     "execution_count": 18,
     "metadata": {},
     "output_type": "execute_result"
    }
   ],
   "source": [
    "long_trips['End'].describe()"
   ]
  },
  {
   "cell_type": "code",
   "execution_count": 16,
   "id": "6039a4ce-d5c0-48c2-97cc-bb69dee6a7d8",
   "metadata": {},
   "outputs": [
    {
     "data": {
      "text/plain": [
       "count    540.00\n",
       "mean    1437.97\n",
       "std        4.41\n",
       "min     1407.30\n",
       "25%     1438.30\n",
       "50%     1439.60\n",
       "75%     1439.80\n",
       "max     1440.00\n",
       "Name: Actual Trip Duration Minutes, dtype: float64"
      ]
     },
     "execution_count": 16,
     "metadata": {},
     "output_type": "execute_result"
    }
   ],
   "source": [
    "long_trips['Actual Trip Duration Minutes'].describe()"
   ]
  },
  {
   "cell_type": "code",
   "execution_count": 35,
   "id": "83de11c8-f0e3-471f-9d2d-0816057bcd89",
   "metadata": {},
   "outputs": [
    {
     "data": {
      "text/plain": [
       "1439.6"
      ]
     },
     "execution_count": 35,
     "metadata": {},
     "output_type": "execute_result"
    }
   ],
   "source": [
    "long_trips['Actual Trip Duration Minutes'].median()"
   ]
  },
  {
   "cell_type": "code",
   "execution_count": 12,
   "id": "56e372eb-89e7-45c8-b086-bf3640eb92b5",
   "metadata": {},
   "outputs": [
    {
     "data": {
      "text/plain": [
       "count                                         540\n",
       "unique                                        540\n",
       "top       6ab55754-994c-4969-a5c1-3a17d932e044:16\n",
       "freq                                            1\n",
       "Name: Trip Id, dtype: object"
      ]
     },
     "execution_count": 12,
     "metadata": {},
     "output_type": "execute_result"
    }
   ],
   "source": [
    "long_trips['Trip Id'].describe()"
   ]
  }
 ],
 "metadata": {
  "kernelspec": {
   "display_name": "Python 3 (ipykernel)",
   "language": "python",
   "name": "python3"
  },
  "language_info": {
   "codemirror_mode": {
    "name": "ipython",
    "version": 3
   },
   "file_extension": ".py",
   "mimetype": "text/x-python",
   "name": "python",
   "nbconvert_exporter": "python",
   "pygments_lexer": "ipython3",
   "version": "3.9.13"
  }
 },
 "nbformat": 4,
 "nbformat_minor": 5
}
