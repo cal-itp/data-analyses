{
 "cells": [
  {
   "cell_type": "markdown",
   "id": "57afbef8-a9a4-4426-a1db-22b8d2ffc017",
   "metadata": {},
   "source": [
    "# Filter low trip speeds from route averages\n",
    "\n",
    "Look at the distribution of speeds at the trip-level.\n",
    "\n",
    "**Filter out sec_elapsed**\n",
    "This doesn't change the distribution much, but we should do this to be consistent. To create `vp_usable`, we exclude trips whose (max-min) timestamp is <= 10 minutes. Obviously these trips could have had timestamps that met that condition and still actually produced less than 10 minutes of vp. Exclude them now.\n",
    "\n",
    "**Filter out extra long trips**\n",
    "Notice in histograms that we have very long tails, very high `meters_elapsed` and `sec_elapsed`. We should set a maximum trip time threshold, around 3 hrs, and we'll get rid of the long tails. These long tails are what's contributing to very low speeds. "
   ]
  },
  {
   "cell_type": "code",
   "execution_count": null,
   "id": "ad537f7d-5836-4ec9-9d00-064d848975b1",
   "metadata": {},
   "outputs": [],
   "source": [
    "import matplotlib.pyplot as plt\n",
    "import pandas as pd\n",
    "\n",
    "from segment_speed_utils import helpers\n",
    "from segment_speed_utils.project_vars import SEGMENT_GCS, analysis_date\n",
    "\n",
    "dict_inputs = helpers.get_parameters(\"./scripts/config.yml\", \"stop_segments\")"
   ]
  },
  {
   "cell_type": "code",
   "execution_count": null,
   "id": "14cd76cd-b3c1-4e04-9197-e72be9744d54",
   "metadata": {},
   "outputs": [],
   "source": [
    "analysis_date"
   ]
  },
  {
   "cell_type": "markdown",
   "id": "ca5e2061-b888-47d2-9895-675008af8b18",
   "metadata": {},
   "source": [
    "## Average Trip Speeds"
   ]
  },
  {
   "cell_type": "code",
   "execution_count": null,
   "id": "265e668b-2f70-4c12-af7d-a2ec64871708",
   "metadata": {},
   "outputs": [],
   "source": [
    "df = pd.read_parquet(\n",
    "    f\"{SEGMENT_GCS}{dict_inputs['trip_speeds_single_summary']}_{analysis_date}.parquet\"\n",
    ")"
   ]
  },
  {
   "cell_type": "code",
   "execution_count": null,
   "id": "9d62a4c5-a628-404a-92c5-17e565162e19",
   "metadata": {},
   "outputs": [],
   "source": [
    "def make_histogram(df, col): \n",
    "    fig, ax = plt.subplots(figsize=(3, 2))\n",
    "    if col == \"speed_mph\":\n",
    "        bins = range(0, 80, 5)\n",
    "        ax1 = df[col].hist(bins = bins)\n",
    "        ax1.set_title(\"Speed\")\n",
    "    elif col == \"meters_elapsed\":\n",
    "        bins = range(\n",
    "            0, int(round(df.meters_elapsed.max(), 0)), \n",
    "            1_609 * 5 # increments of 5 miles\n",
    "        )\n",
    "        ax2 = df[col].hist(bins = bins)\n",
    "        ax2.set_title(\"Meters\")\n",
    "\n",
    "    elif col == \"sec_elapsed\":\n",
    "        bins = range(\n",
    "            0, int(round(df.sec_elapsed.max(), 0)), \n",
    "            60 * 30 # increments of 60 min\n",
    "        )\n",
    "    \n",
    "        ax3 = df[col].hist(bins = bins)\n",
    "        ax3.set_title(\"Seconds\")\n",
    "\n",
    "\n",
    "def get_stats(df: pd.DataFrame):\n",
    "    print(\"----------- Speed -----------\")\n",
    "    col = \"speed_mph\"\n",
    "    print(df[col].describe())\n",
    "    print(make_histogram(df, col))\n",
    "    \n",
    "    \n",
    "    print(\"----------- Meters Elapsed -----------\")\n",
    "    col = \"meters_elapsed\"\n",
    "    print(df[col].describe())\n",
    "    make_histogram(df, col)\n",
    "    \n",
    "    print(\"----------- Seconds Elapsed -----------\")\n",
    "    col = \"sec_elapsed\"\n",
    "    print(df[col].describe())\n",
    "    make_histogram(df, col)\n",
    "    \n",
    "        "
   ]
  },
  {
   "cell_type": "code",
   "execution_count": null,
   "id": "a8d7b486-86e4-4927-bf29-b1d65df54798",
   "metadata": {},
   "outputs": [],
   "source": [
    "get_stats(df)"
   ]
  },
  {
   "cell_type": "code",
   "execution_count": null,
   "id": "0da0d736-18b2-4bd3-afeb-6fa3aa8dad2e",
   "metadata": {},
   "outputs": [],
   "source": [
    "METERS_CUTOFF = 0\n",
    "SEC_CUTOFF = 60 * 10\n",
    "\n",
    "new_df = df[\n",
    "    (df.meters_elapsed >= METERS_CUTOFF) & \n",
    "    (df.sec_elapsed >= SEC_CUTOFF)\n",
    "]\n",
    "\n",
    "new_df.shape, df.shape, len(df) - len(new_df)"
   ]
  },
  {
   "cell_type": "code",
   "execution_count": null,
   "id": "2a8fa256-70a9-4fcd-a8f8-1129b89b230d",
   "metadata": {},
   "outputs": [],
   "source": [
    "get_stats(new_df)"
   ]
  },
  {
   "cell_type": "code",
   "execution_count": null,
   "id": "05ef24ce-bd4c-41ad-a51a-53ecb8e40dfd",
   "metadata": {},
   "outputs": [],
   "source": [
    "METERS_CUTOFF = 1_609 # at least 1 mile\n",
    "SEC_CUTOFF = 60 * 10\n",
    "SEC_MAX = 60 * 180\n",
    "\n",
    "new_df = df[\n",
    "    (df.meters_elapsed >= METERS_CUTOFF) & \n",
    "    (df.sec_elapsed >= SEC_CUTOFF) & \n",
    "    (df.sec_elapsed <= SEC_MAX)\n",
    "]\n",
    "\n",
    "new_df.shape, df.shape, len(df) - len(new_df)"
   ]
  },
  {
   "cell_type": "code",
   "execution_count": null,
   "id": "5f189d05-9a42-4310-ad0d-500f589c1bb2",
   "metadata": {},
   "outputs": [],
   "source": [
    "get_stats(new_df)"
   ]
  },
  {
   "cell_type": "code",
   "execution_count": null,
   "id": "4976f99a-bf76-45d9-a965-2e0b7904a26e",
   "metadata": {},
   "outputs": [],
   "source": [
    "# Ok, now low speeds are much better...we have fewer of them\n",
    "new_df[new_df.speed_mph <=5].speed_mph.hist(bins = range(0, 6, 1))"
   ]
  },
  {
   "cell_type": "code",
   "execution_count": null,
   "id": "1704b39b-be48-4836-adf5-8fd52d00c434",
   "metadata": {},
   "outputs": [],
   "source": []
  }
 ],
 "metadata": {
  "kernelspec": {
   "display_name": "Python 3 (ipykernel)",
   "language": "python",
   "name": "python3"
  },
  "language_info": {
   "codemirror_mode": {
    "name": "ipython",
    "version": 3
   },
   "file_extension": ".py",
   "mimetype": "text/x-python",
   "name": "python",
   "nbconvert_exporter": "python",
   "pygments_lexer": "ipython3",
   "version": "3.9.13"
  }
 },
 "nbformat": 4,
 "nbformat_minor": 5
}
