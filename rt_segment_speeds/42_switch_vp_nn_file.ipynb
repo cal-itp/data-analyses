{
 "cells": [
  {
   "cell_type": "markdown",
   "id": "ce9e058e-c60e-4f4f-ab10-0ff543008e4e",
   "metadata": {},
   "source": [
    "## vp_condenser...no direction\n",
    "\n",
    "Let's see if we can get vp_condensed version working with nearest neighbor.\n",
    "\n",
    "We want to look for only the valid directions and do nearest snap, and correctly index back into the whole linestring.\n",
    "\n",
    "If done correctly, can get an entire function removed in `gtfs_funnel`\n",
    "and have different starting point in `rt_segment_speeds` for `nearest_vp_to_stop`.\n",
    "\n",
    "\n",
    "Things to update:\n",
    "1. remove vp_nn from `gtfs_funnel`\n",
    "2. In `vp_transform`, use vp_condensed_line, remove merging on vp_primary_direction\n",
    "3. Re-jig the function to subset for valid indices first. But we need to add back all the columns we need at the end of nearest_vp_to_stop.\n",
    "3a. maybe if the function for nearest_snap only takes shapely, we can coerce any arrays into that \n",
    "4. nearest_vp_to_stop has very sparse columns"
   ]
  },
  {
   "cell_type": "code",
   "execution_count": 10,
   "id": "6ad4dd53-bcdc-4fbf-ab6b-5073101086e1",
   "metadata": {},
   "outputs": [],
   "source": [
    "import geopandas as gpd\n",
    "import pandas as pd\n",
    "\n",
    "from update_vars import SEGMENT_GCS, GTFS_DATA_DICT\n",
    "from shared_utils import rt_dates"
   ]
  },
  {
   "cell_type": "code",
   "execution_count": 11,
   "id": "6c2300f5-f6d2-4927-866a-4df88b983e73",
   "metadata": {},
   "outputs": [],
   "source": [
    "dict_inputs = GTFS_DATA_DICT[\"stop_segments\"]\n",
    "analysis_date = rt_dates.DATES[\"oct2024\"]"
   ]
  },
  {
   "cell_type": "code",
   "execution_count": 12,
   "id": "c00e4e3f-2ae8-4f9c-b370-f8f835c2d591",
   "metadata": {},
   "outputs": [],
   "source": [
    "file = dict_inputs[\"stage2\"]\n",
    "df1 = pd.read_parquet(\n",
    "    f\"{SEGMENT_GCS}{file}_{analysis_date}.parquet\")\n",
    "\n",
    "df2 = pd.read_parquet(\n",
    "    f\"{SEGMENT_GCS}{file}_{analysis_date}_test.parquet\")"
   ]
  },
  {
   "cell_type": "code",
   "execution_count": 15,
   "id": "505ce5df-c2e7-4f78-8d6c-f718a7860a36",
   "metadata": {},
   "outputs": [],
   "source": [
    "df = pd.merge(\n",
    "    df1,\n",
    "    df2,\n",
    "    on = [\"trip_instance_key\", \"stop_sequence\", \"shape_array_key\", \"stop_geometry\"],\n",
    "    how = \"inner\"\n",
    ")"
   ]
  },
  {
   "cell_type": "code",
   "execution_count": 22,
   "id": "54488a53-ee01-458e-98f2-aa6e27718a84",
   "metadata": {},
   "outputs": [],
   "source": [
    "df = df.assign(\n",
    "    different = df.apply(\n",
    "        lambda x: True if set(x.nearest_vp_arr_x) != set(x.nearest_vp_arr_y) \n",
    "        else False, axis=1\n",
    "    )\n",
    ")"
   ]
  },
  {
   "cell_type": "code",
   "execution_count": 23,
   "id": "bb57c231-9eb8-462d-a7ff-4cef3f350709",
   "metadata": {},
   "outputs": [
    {
     "data": {
      "text/plain": [
       "False    2873531\n",
       "True          11\n",
       "Name: different, dtype: int64"
      ]
     },
     "execution_count": 23,
     "metadata": {},
     "output_type": "execute_result"
    }
   ],
   "source": [
    "df.different.value_counts()"
   ]
  },
  {
   "cell_type": "code",
   "execution_count": 25,
   "id": "05a8d0cd-f76b-4b8c-891a-5898ce4e5804",
   "metadata": {},
   "outputs": [
    {
     "data": {
      "text/plain": [
       "0.9999961719717338"
      ]
     },
     "execution_count": 25,
     "metadata": {},
     "output_type": "execute_result"
    }
   ],
   "source": [
    "2873531/(2873531+11)"
   ]
  },
  {
   "cell_type": "code",
   "execution_count": 26,
   "id": "3afd3141-82e9-4b20-8415-330be3f72e53",
   "metadata": {},
   "outputs": [
    {
     "data": {
      "text/plain": [
       "3.828028266160717e-06"
      ]
     },
     "execution_count": 26,
     "metadata": {},
     "output_type": "execute_result"
    }
   ],
   "source": [
    "11/(2873531+11)"
   ]
  },
  {
   "cell_type": "code",
   "execution_count": 24,
   "id": "4dfb832c-0d34-429e-af74-61a3466af9b1",
   "metadata": {},
   "outputs": [
    {
     "data": {
      "text/html": [
       "<div>\n",
       "<style scoped>\n",
       "    .dataframe tbody tr th:only-of-type {\n",
       "        vertical-align: middle;\n",
       "    }\n",
       "\n",
       "    .dataframe tbody tr th {\n",
       "        vertical-align: top;\n",
       "    }\n",
       "\n",
       "    .dataframe thead th {\n",
       "        text-align: right;\n",
       "    }\n",
       "</style>\n",
       "<table border=\"1\" class=\"dataframe\">\n",
       "  <thead>\n",
       "    <tr style=\"text-align: right;\">\n",
       "      <th></th>\n",
       "      <th>trip_instance_key</th>\n",
       "      <th>stop_sequence</th>\n",
       "      <th>shape_array_key</th>\n",
       "      <th>stop_geometry</th>\n",
       "      <th>nearest_vp_arr_x</th>\n",
       "      <th>nearest_vp_arr_y</th>\n",
       "      <th>different</th>\n",
       "    </tr>\n",
       "  </thead>\n",
       "  <tbody>\n",
       "    <tr>\n",
       "      <th>2647784</th>\n",
       "      <td>446add580d803889d500434f9ece4e76</td>\n",
       "      <td>32</td>\n",
       "      <td>ad7711dbb909b690ee6c2a00fd96219e</td>\n",
       "      <td>b'\\x01\\x01\\x00\\x00\\x00\\xe0Jvl\\x04*^\\xc0d\\x92\\x...</td>\n",
       "      <td>[5638440, 5638441, 5638439, 5638442, 5638435, ...</td>\n",
       "      <td>[5638440, 5638441, 5638439, 5638442, 5638435, ...</td>\n",
       "      <td>True</td>\n",
       "    </tr>\n",
       "    <tr>\n",
       "      <th>2647792</th>\n",
       "      <td>53daf28e5f0e5af189abbc99b3fe8e53</td>\n",
       "      <td>32</td>\n",
       "      <td>ad7711dbb909b690ee6c2a00fd96219e</td>\n",
       "      <td>b'\\x01\\x01\\x00\\x00\\x00\\xe0Jvl\\x04*^\\xc0d\\x92\\x...</td>\n",
       "      <td>[5640985, 5640986, 5640984, 5640975, 5640983, ...</td>\n",
       "      <td>[5640985, 5640986, 5640984, 5640975, 5640983, ...</td>\n",
       "      <td>True</td>\n",
       "    </tr>\n",
       "    <tr>\n",
       "      <th>2647800</th>\n",
       "      <td>553ec9026070f40c8487751635a8ccfe</td>\n",
       "      <td>32</td>\n",
       "      <td>ad7711dbb909b690ee6c2a00fd96219e</td>\n",
       "      <td>b'\\x01\\x01\\x00\\x00\\x00\\xe0Jvl\\x04*^\\xc0d\\x92\\x...</td>\n",
       "      <td>[5640664, 5640665, 5640666, 5640663, 5640662, ...</td>\n",
       "      <td>[5640664, 5640665, 5640666, 5640663, 5640662, ...</td>\n",
       "      <td>True</td>\n",
       "    </tr>\n",
       "    <tr>\n",
       "      <th>2647826</th>\n",
       "      <td>71a4480b5784014caaf9b21e0328e94e</td>\n",
       "      <td>32</td>\n",
       "      <td>ad7711dbb909b690ee6c2a00fd96219e</td>\n",
       "      <td>b'\\x01\\x01\\x00\\x00\\x00\\xe0Jvl\\x04*^\\xc0d\\x92\\x...</td>\n",
       "      <td>[5640483, 5640482, 5640484, 5640481, 5640477, ...</td>\n",
       "      <td>[5640483, 5640482, 5640484, 5640501, 5640481, ...</td>\n",
       "      <td>True</td>\n",
       "    </tr>\n",
       "    <tr>\n",
       "      <th>2647842</th>\n",
       "      <td>7bba7220b0cd77563f2a6c9c82ad9769</td>\n",
       "      <td>32</td>\n",
       "      <td>ad7711dbb909b690ee6c2a00fd96219e</td>\n",
       "      <td>b'\\x01\\x01\\x00\\x00\\x00\\xe0Jvl\\x04*^\\xc0d\\x92\\x...</td>\n",
       "      <td>[5639651, 5639652, 5639650, 5639649, 5639653, ...</td>\n",
       "      <td>[5639651, 5639652, 5639650, 5639649, 5639653, ...</td>\n",
       "      <td>True</td>\n",
       "    </tr>\n",
       "    <tr>\n",
       "      <th>2647850</th>\n",
       "      <td>7cfa9724d2b8274d633ab3dfb21a7f8d</td>\n",
       "      <td>32</td>\n",
       "      <td>ad7711dbb909b690ee6c2a00fd96219e</td>\n",
       "      <td>b'\\x01\\x01\\x00\\x00\\x00\\xe0Jvl\\x04*^\\xc0d\\x92\\x...</td>\n",
       "      <td>[5639970, 5639971, 5639972, 5639969, 5639966, ...</td>\n",
       "      <td>[5639970, 5639971, 5639972, 5639969, 5639966, ...</td>\n",
       "      <td>True</td>\n",
       "    </tr>\n",
       "    <tr>\n",
       "      <th>2647858</th>\n",
       "      <td>9410c17c4f154ae3aa4c25bd98096de6</td>\n",
       "      <td>32</td>\n",
       "      <td>ad7711dbb909b690ee6c2a00fd96219e</td>\n",
       "      <td>b'\\x01\\x01\\x00\\x00\\x00\\xe0Jvl\\x04*^\\xc0d\\x92\\x...</td>\n",
       "      <td>[5640815, 5640816, 5640814, 5640817, 5640813, ...</td>\n",
       "      <td>[5640815, 5640816, 5640814, 5640817, 5640813, ...</td>\n",
       "      <td>True</td>\n",
       "    </tr>\n",
       "    <tr>\n",
       "      <th>2647874</th>\n",
       "      <td>a1cba44baf1f12ca2c06464374ff5272</td>\n",
       "      <td>32</td>\n",
       "      <td>ad7711dbb909b690ee6c2a00fd96219e</td>\n",
       "      <td>b'\\x01\\x01\\x00\\x00\\x00\\xe0Jvl\\x04*^\\xc0d\\x92\\x...</td>\n",
       "      <td>[5640140, 5640141, 5640139, 5640142, 5640136, ...</td>\n",
       "      <td>[5640140, 5640141, 5640139, 5640142, 5640136, ...</td>\n",
       "      <td>True</td>\n",
       "    </tr>\n",
       "    <tr>\n",
       "      <th>2647904</th>\n",
       "      <td>d68e3b7a03a0c31ca8efe8941d74888c</td>\n",
       "      <td>32</td>\n",
       "      <td>ad7711dbb909b690ee6c2a00fd96219e</td>\n",
       "      <td>b'\\x01\\x01\\x00\\x00\\x00\\xe0Jvl\\x04*^\\xc0d\\x92\\x...</td>\n",
       "      <td>[5639810, 5639809, 5639811, 5639808, 5639804, ...</td>\n",
       "      <td>[5639810, 5639809, 5639811, 5639808, 5639804, ...</td>\n",
       "      <td>True</td>\n",
       "    </tr>\n",
       "    <tr>\n",
       "      <th>2648084</th>\n",
       "      <td>d94d1eb5a31337b8f938aeaf50b967e0</td>\n",
       "      <td>32</td>\n",
       "      <td>ad7711dbb909b690ee6c2a00fd96219e</td>\n",
       "      <td>b'\\x01\\x01\\x00\\x00\\x00\\xe0Jvl\\x04*^\\xc0d\\x92\\x...</td>\n",
       "      <td>[5638755, 5638754, 5638756, 5638753, 5638750, ...</td>\n",
       "      <td>[5638755, 5638754, 5638756, 5638753, 5638750, ...</td>\n",
       "      <td>True</td>\n",
       "    </tr>\n",
       "    <tr>\n",
       "      <th>2648136</th>\n",
       "      <td>7066ce97630ef8ba6666c19d2f0fbcf1</td>\n",
       "      <td>28</td>\n",
       "      <td>ad7711dbb909b690ee6c2a00fd96219e</td>\n",
       "      <td>b'\\x01\\x01\\x00\\x00\\x00+oG8-*^\\xc0\\x93\\x9b\\xe1\\...</td>\n",
       "      <td>[5639106, 5639107, 5639115, 5639105, 5639104, ...</td>\n",
       "      <td>[5639106, 5639107, 5639115, 5639105, 5639116, ...</td>\n",
       "      <td>True</td>\n",
       "    </tr>\n",
       "  </tbody>\n",
       "</table>\n",
       "</div>"
      ],
      "text/plain": [
       "                        trip_instance_key  stop_sequence  \\\n",
       "2647784  446add580d803889d500434f9ece4e76             32   \n",
       "2647792  53daf28e5f0e5af189abbc99b3fe8e53             32   \n",
       "2647800  553ec9026070f40c8487751635a8ccfe             32   \n",
       "2647826  71a4480b5784014caaf9b21e0328e94e             32   \n",
       "2647842  7bba7220b0cd77563f2a6c9c82ad9769             32   \n",
       "2647850  7cfa9724d2b8274d633ab3dfb21a7f8d             32   \n",
       "2647858  9410c17c4f154ae3aa4c25bd98096de6             32   \n",
       "2647874  a1cba44baf1f12ca2c06464374ff5272             32   \n",
       "2647904  d68e3b7a03a0c31ca8efe8941d74888c             32   \n",
       "2648084  d94d1eb5a31337b8f938aeaf50b967e0             32   \n",
       "2648136  7066ce97630ef8ba6666c19d2f0fbcf1             28   \n",
       "\n",
       "                          shape_array_key  \\\n",
       "2647784  ad7711dbb909b690ee6c2a00fd96219e   \n",
       "2647792  ad7711dbb909b690ee6c2a00fd96219e   \n",
       "2647800  ad7711dbb909b690ee6c2a00fd96219e   \n",
       "2647826  ad7711dbb909b690ee6c2a00fd96219e   \n",
       "2647842  ad7711dbb909b690ee6c2a00fd96219e   \n",
       "2647850  ad7711dbb909b690ee6c2a00fd96219e   \n",
       "2647858  ad7711dbb909b690ee6c2a00fd96219e   \n",
       "2647874  ad7711dbb909b690ee6c2a00fd96219e   \n",
       "2647904  ad7711dbb909b690ee6c2a00fd96219e   \n",
       "2648084  ad7711dbb909b690ee6c2a00fd96219e   \n",
       "2648136  ad7711dbb909b690ee6c2a00fd96219e   \n",
       "\n",
       "                                             stop_geometry  \\\n",
       "2647784  b'\\x01\\x01\\x00\\x00\\x00\\xe0Jvl\\x04*^\\xc0d\\x92\\x...   \n",
       "2647792  b'\\x01\\x01\\x00\\x00\\x00\\xe0Jvl\\x04*^\\xc0d\\x92\\x...   \n",
       "2647800  b'\\x01\\x01\\x00\\x00\\x00\\xe0Jvl\\x04*^\\xc0d\\x92\\x...   \n",
       "2647826  b'\\x01\\x01\\x00\\x00\\x00\\xe0Jvl\\x04*^\\xc0d\\x92\\x...   \n",
       "2647842  b'\\x01\\x01\\x00\\x00\\x00\\xe0Jvl\\x04*^\\xc0d\\x92\\x...   \n",
       "2647850  b'\\x01\\x01\\x00\\x00\\x00\\xe0Jvl\\x04*^\\xc0d\\x92\\x...   \n",
       "2647858  b'\\x01\\x01\\x00\\x00\\x00\\xe0Jvl\\x04*^\\xc0d\\x92\\x...   \n",
       "2647874  b'\\x01\\x01\\x00\\x00\\x00\\xe0Jvl\\x04*^\\xc0d\\x92\\x...   \n",
       "2647904  b'\\x01\\x01\\x00\\x00\\x00\\xe0Jvl\\x04*^\\xc0d\\x92\\x...   \n",
       "2648084  b'\\x01\\x01\\x00\\x00\\x00\\xe0Jvl\\x04*^\\xc0d\\x92\\x...   \n",
       "2648136  b'\\x01\\x01\\x00\\x00\\x00+oG8-*^\\xc0\\x93\\x9b\\xe1\\...   \n",
       "\n",
       "                                          nearest_vp_arr_x  \\\n",
       "2647784  [5638440, 5638441, 5638439, 5638442, 5638435, ...   \n",
       "2647792  [5640985, 5640986, 5640984, 5640975, 5640983, ...   \n",
       "2647800  [5640664, 5640665, 5640666, 5640663, 5640662, ...   \n",
       "2647826  [5640483, 5640482, 5640484, 5640481, 5640477, ...   \n",
       "2647842  [5639651, 5639652, 5639650, 5639649, 5639653, ...   \n",
       "2647850  [5639970, 5639971, 5639972, 5639969, 5639966, ...   \n",
       "2647858  [5640815, 5640816, 5640814, 5640817, 5640813, ...   \n",
       "2647874  [5640140, 5640141, 5640139, 5640142, 5640136, ...   \n",
       "2647904  [5639810, 5639809, 5639811, 5639808, 5639804, ...   \n",
       "2648084  [5638755, 5638754, 5638756, 5638753, 5638750, ...   \n",
       "2648136  [5639106, 5639107, 5639115, 5639105, 5639104, ...   \n",
       "\n",
       "                                          nearest_vp_arr_y  different  \n",
       "2647784  [5638440, 5638441, 5638439, 5638442, 5638435, ...       True  \n",
       "2647792  [5640985, 5640986, 5640984, 5640975, 5640983, ...       True  \n",
       "2647800  [5640664, 5640665, 5640666, 5640663, 5640662, ...       True  \n",
       "2647826  [5640483, 5640482, 5640484, 5640501, 5640481, ...       True  \n",
       "2647842  [5639651, 5639652, 5639650, 5639649, 5639653, ...       True  \n",
       "2647850  [5639970, 5639971, 5639972, 5639969, 5639966, ...       True  \n",
       "2647858  [5640815, 5640816, 5640814, 5640817, 5640813, ...       True  \n",
       "2647874  [5640140, 5640141, 5640139, 5640142, 5640136, ...       True  \n",
       "2647904  [5639810, 5639809, 5639811, 5639808, 5639804, ...       True  \n",
       "2648084  [5638755, 5638754, 5638756, 5638753, 5638750, ...       True  \n",
       "2648136  [5639106, 5639107, 5639115, 5639105, 5639116, ...       True  "
      ]
     },
     "execution_count": 24,
     "metadata": {},
     "output_type": "execute_result"
    }
   ],
   "source": [
    "df[df.different==True]"
   ]
  },
  {
   "cell_type": "code",
   "execution_count": null,
   "id": "b6efaa60-12a4-4f51-86fd-efe39d7099d0",
   "metadata": {},
   "outputs": [],
   "source": []
  },
  {
   "cell_type": "code",
   "execution_count": null,
   "id": "96d87666-9c25-4692-a6c5-c4ce90e02679",
   "metadata": {},
   "outputs": [],
   "source": []
  },
  {
   "cell_type": "code",
   "execution_count": null,
   "id": "ac571393-c54e-4c51-bb20-6993a55f961b",
   "metadata": {},
   "outputs": [],
   "source": [
    "def check_value(gdf: gpd.GeoDataFrame, x):\n",
    "    one_direction_arr = gdf.vp_primary_direction.iloc[x]\n",
    "    one_stop_direction = gdf.stop_primary_direction.iloc[x]\n",
    "    one_near_vp_arr = gdf.nearest_vp_arr.iloc[x]\n",
    "    one_orig_vp_arr = gdf.vp_idx.iloc[x]\n",
    "\n",
    "    for i in one_near_vp_arr:\n",
    "        this_index = np.where(one_orig_vp_arr == i)[0]\n",
    "        this_direction = one_direction_arr[this_index]\n",
    "        print(one_stop_direction, this_index, this_direction)"
   ]
  },
  {
   "cell_type": "code",
   "execution_count": null,
   "id": "73b1ed84-1225-4a5a-9dc2-373ee0011abe",
   "metadata": {},
   "outputs": [],
   "source": [
    "check_value(gdf2, 3)"
   ]
  },
  {
   "cell_type": "code",
   "execution_count": null,
   "id": "6af227e4-1e67-4498-90a5-af4a4a78b4d3",
   "metadata": {},
   "outputs": [],
   "source": [
    "check_value(gdf2, 10)"
   ]
  },
  {
   "cell_type": "code",
   "execution_count": null,
   "id": "e798f140-5f95-4a85-8290-906f07795480",
   "metadata": {},
   "outputs": [],
   "source": [
    "check_value(gdf2, 64)"
   ]
  },
  {
   "cell_type": "code",
   "execution_count": null,
   "id": "a81c9ab7-8165-45c4-9479-dd8a15bf8655",
   "metadata": {},
   "outputs": [],
   "source": [
    "check_value(gdf2, 1_000)"
   ]
  },
  {
   "cell_type": "code",
   "execution_count": null,
   "id": "c9f91d2b-0010-43c9-bcec-564414ac85c5",
   "metadata": {},
   "outputs": [],
   "source": []
  }
 ],
 "metadata": {
  "kernelspec": {
   "display_name": "Python 3 (ipykernel)",
   "language": "python",
   "name": "python3"
  },
  "language_info": {
   "codemirror_mode": {
    "name": "ipython",
    "version": 3
   },
   "file_extension": ".py",
   "mimetype": "text/x-python",
   "name": "python",
   "nbconvert_exporter": "python",
   "pygments_lexer": "ipython3",
   "version": "3.9.13"
  }
 },
 "nbformat": 4,
 "nbformat_minor": 5
}
