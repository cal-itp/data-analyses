{
 "cells": [
  {
   "cell_type": "code",
   "execution_count": 86,
   "id": "3db029d5-1c34-4d01-b902-a44e011450ba",
   "metadata": {},
   "outputs": [],
   "source": [
    "\n",
    "import geopandas as gpd\n",
    "import numpy as np\n",
    "import pandas as pd\n",
    "from calitp.sql import to_snakecase"
   ]
  },
  {
   "cell_type": "code",
   "execution_count": 129,
   "id": "a70f5b1e-8d59-4fc1-9929-5d5068dff17c",
   "metadata": {},
   "outputs": [],
   "source": [
    "from shared_utils import calitp_color_palette as cp\n",
    "from shared_utils import geography_utils, styleguide, utils\n",
    "import altair as alt"
   ]
  },
  {
   "cell_type": "code",
   "execution_count": 87,
   "id": "f286f377-8906-4956-882a-6c5ca5a98ab7",
   "metadata": {},
   "outputs": [],
   "source": [
    "import intake\n",
    "catalog = intake.open_catalog(\"./catalog_threshold.yml\")"
   ]
  },
  {
   "cell_type": "code",
   "execution_count": 88,
   "id": "b5d3300c-7b1d-42c1-8240-117d1240a98d",
   "metadata": {},
   "outputs": [],
   "source": [
    "pd.options.display.max_columns = 100\n",
    "pd.options.display.float_format = \"{:.2f}\".format\n",
    "pd.set_option(\"display.max_rows\", None)\n",
    "pd.set_option(\"display.max_colwidth\", None)"
   ]
  },
  {
   "cell_type": "code",
   "execution_count": 89,
   "id": "0230e293-17ff-4661-ae36-7e0ca7426213",
   "metadata": {},
   "outputs": [],
   "source": [
    "def clean_trips():\n",
    "    df = catalog.trips.read()\n",
    "\n",
    "    subset = [\n",
    "        \"feed_key\",\n",
    "        \"route_id\",\n",
    "        \"direction_id\",\n",
    "        \"shape_id\",\n",
    "    ]\n",
    "\n",
    "    df = df[subset]\n",
    "\n",
    "    df = df.drop_duplicates().reset_index(drop=True)\n",
    "\n",
    "    return df"
   ]
  },
  {
   "cell_type": "code",
   "execution_count": 90,
   "id": "018f4120-2c7c-4599-b8b6-2cf430485c6d",
   "metadata": {},
   "outputs": [],
   "source": [
    "trips = clean_trips()"
   ]
  },
  {
   "cell_type": "code",
   "execution_count": 91,
   "id": "8649368d-52af-4da8-9838-28ee24def9ef",
   "metadata": {},
   "outputs": [],
   "source": [
    "def clean_routelines():\n",
    "    df = catalog.route_lines.read()\n",
    "\n",
    "    # Drop shape array key? Drop n_trips?\n",
    "    df = df.drop(columns=[\"shape_array_key\"])\n",
    "    df = (df.drop_duplicates()).reset_index(drop=True)\n",
    "\n",
    "    # Calculate length of geometry\n",
    "    df = df.assign(actual_route_length=(df.geometry.length))\n",
    "\n",
    "    return df"
   ]
  },
  {
   "cell_type": "code",
   "execution_count": 92,
   "id": "3515dc6e-219e-4e28-8f3d-9c37abedb5c7",
   "metadata": {},
   "outputs": [],
   "source": [
    "routelines = clean_routelines()"
   ]
  },
  {
   "cell_type": "code",
   "execution_count": 93,
   "id": "8d413dca-d441-40f0-b187-6aae987ae009",
   "metadata": {},
   "outputs": [
    {
     "data": {
      "text/html": [
       "<div>\n",
       "<style scoped>\n",
       "    .dataframe tbody tr th:only-of-type {\n",
       "        vertical-align: middle;\n",
       "    }\n",
       "\n",
       "    .dataframe tbody tr th {\n",
       "        vertical-align: top;\n",
       "    }\n",
       "\n",
       "    .dataframe thead th {\n",
       "        text-align: right;\n",
       "    }\n",
       "</style>\n",
       "<table border=\"1\" class=\"dataframe\">\n",
       "  <thead>\n",
       "    <tr style=\"text-align: right;\">\n",
       "      <th></th>\n",
       "      <th>feed_key</th>\n",
       "      <th>shape_id</th>\n",
       "      <th>n_trips</th>\n",
       "      <th>actual_route_length</th>\n",
       "    </tr>\n",
       "  </thead>\n",
       "  <tbody>\n",
       "    <tr>\n",
       "      <th>3440</th>\n",
       "      <td>b1d9c45c22397c2873483e50344107a8</td>\n",
       "      <td>p_786778</td>\n",
       "      <td>8</td>\n",
       "      <td>4860.11</td>\n",
       "    </tr>\n",
       "    <tr>\n",
       "      <th>3429</th>\n",
       "      <td>57d7a160e4588225238b330da8453912</td>\n",
       "      <td>353</td>\n",
       "      <td>22</td>\n",
       "      <td>5373.68</td>\n",
       "    </tr>\n",
       "    <tr>\n",
       "      <th>106</th>\n",
       "      <td>6adf6cd9b6d24ab4ee8ee220e3697a73</td>\n",
       "      <td>1620007_DEC22</td>\n",
       "      <td>33</td>\n",
       "      <td>31546.59</td>\n",
       "    </tr>\n",
       "    <tr>\n",
       "      <th>1449</th>\n",
       "      <td>c2678c0ae3a6821a47f3cab62911c33d</td>\n",
       "      <td>7701</td>\n",
       "      <td>18</td>\n",
       "      <td>14324.37</td>\n",
       "    </tr>\n",
       "    <tr>\n",
       "      <th>3975</th>\n",
       "      <td>57d7a160e4588225238b330da8453912</td>\n",
       "      <td>3150</td>\n",
       "      <td>6</td>\n",
       "      <td>5831.51</td>\n",
       "    </tr>\n",
       "  </tbody>\n",
       "</table>\n",
       "</div>"
      ],
      "text/plain": [
       "                              feed_key       shape_id  n_trips  \\\n",
       "3440  b1d9c45c22397c2873483e50344107a8       p_786778        8   \n",
       "3429  57d7a160e4588225238b330da8453912            353       22   \n",
       "106   6adf6cd9b6d24ab4ee8ee220e3697a73  1620007_DEC22       33   \n",
       "1449  c2678c0ae3a6821a47f3cab62911c33d           7701       18   \n",
       "3975  57d7a160e4588225238b330da8453912           3150        6   \n",
       "\n",
       "      actual_route_length  \n",
       "3440              4860.11  \n",
       "3429              5373.68  \n",
       "106              31546.59  \n",
       "1449             14324.37  \n",
       "3975              5831.51  "
      ]
     },
     "execution_count": 93,
     "metadata": {},
     "output_type": "execute_result"
    }
   ],
   "source": [
    "routelines.drop(columns = ['geometry']).sample(5)"
   ]
  },
  {
   "cell_type": "code",
   "execution_count": 94,
   "id": "af18a091-ce65-4ddc-b7e1-72701c4bfe3e",
   "metadata": {},
   "outputs": [],
   "source": [
    "# df = catalog.route_lines.read()"
   ]
  },
  {
   "cell_type": "code",
   "execution_count": 95,
   "id": "4394f404-072e-4474-9e02-bdf594b61e07",
   "metadata": {
    "tags": []
   },
   "outputs": [],
   "source": [
    "# df.shape"
   ]
  },
  {
   "cell_type": "code",
   "execution_count": 96,
   "id": "d597d505-71be-47e8-9ff6-0a52788fceaf",
   "metadata": {
    "scrolled": true,
    "tags": []
   },
   "outputs": [],
   "source": [
    "def clean_longest_shape():\n",
    "    df = catalog.longest_shape.read()\n",
    "\n",
    "    df = df.rename(columns={\"route_length\": \"longest_route_length\"})\n",
    "\n",
    "    return df"
   ]
  },
  {
   "cell_type": "code",
   "execution_count": 97,
   "id": "a95cbfc8-77fa-442b-a06d-ce01d7be0b81",
   "metadata": {},
   "outputs": [],
   "source": [
    "longest_shape = clean_longest_shape()"
   ]
  },
  {
   "cell_type": "code",
   "execution_count": 98,
   "id": "9cd5165a-f032-4db2-81c8-260436dd5eea",
   "metadata": {},
   "outputs": [],
   "source": [
    "# Drop name?\n",
    "\n",
    "crosswalk = catalog.crosswalk.read()"
   ]
  },
  {
   "cell_type": "code",
   "execution_count": 99,
   "id": "9413b232-8df8-4f7f-80e3-69df3c1045b3",
   "metadata": {},
   "outputs": [
    {
     "data": {
      "text/html": [
       "<div>\n",
       "<style scoped>\n",
       "    .dataframe tbody tr th:only-of-type {\n",
       "        vertical-align: middle;\n",
       "    }\n",
       "\n",
       "    .dataframe tbody tr th {\n",
       "        vertical-align: top;\n",
       "    }\n",
       "\n",
       "    .dataframe thead th {\n",
       "        text-align: right;\n",
       "    }\n",
       "</style>\n",
       "<table border=\"1\" class=\"dataframe\">\n",
       "  <thead>\n",
       "    <tr style=\"text-align: right;\">\n",
       "      <th></th>\n",
       "      <th>feed_key</th>\n",
       "      <th>route_id</th>\n",
       "      <th>direction_id</th>\n",
       "      <th>shape_id</th>\n",
       "    </tr>\n",
       "  </thead>\n",
       "  <tbody>\n",
       "    <tr>\n",
       "      <th>3536</th>\n",
       "      <td>801241dd580ee0f9bddc59b7abe52929</td>\n",
       "      <td>9</td>\n",
       "      <td>0.00</td>\n",
       "      <td>9_0_122</td>\n",
       "    </tr>\n",
       "  </tbody>\n",
       "</table>\n",
       "</div>"
      ],
      "text/plain": [
       "                              feed_key route_id  direction_id shape_id\n",
       "3536  801241dd580ee0f9bddc59b7abe52929        9          0.00  9_0_122"
      ]
     },
     "execution_count": 99,
     "metadata": {},
     "output_type": "execute_result"
    }
   ],
   "source": [
    "trips.sample()"
   ]
  },
  {
   "cell_type": "code",
   "execution_count": 100,
   "id": "6c6c86c3-1410-4655-a7ce-70eca2ca9ea7",
   "metadata": {},
   "outputs": [],
   "source": [
    "m1 = trips.merge(crosswalk, how=\"inner\", on=[\"feed_key\", \"route_id\", \"direction_id\"])"
   ]
  },
  {
   "cell_type": "code",
   "execution_count": 101,
   "id": "d855a3fe-7524-4484-8037-9ae1573243a4",
   "metadata": {},
   "outputs": [
    {
     "data": {
      "text/html": [
       "<div>\n",
       "<style scoped>\n",
       "    .dataframe tbody tr th:only-of-type {\n",
       "        vertical-align: middle;\n",
       "    }\n",
       "\n",
       "    .dataframe tbody tr th {\n",
       "        vertical-align: top;\n",
       "    }\n",
       "\n",
       "    .dataframe thead th {\n",
       "        text-align: right;\n",
       "    }\n",
       "</style>\n",
       "<table border=\"1\" class=\"dataframe\">\n",
       "  <thead>\n",
       "    <tr style=\"text-align: right;\">\n",
       "      <th></th>\n",
       "      <th>feed_key</th>\n",
       "      <th>route_id</th>\n",
       "      <th>direction_id</th>\n",
       "      <th>shape_id</th>\n",
       "      <th>name</th>\n",
       "      <th>gtfs_dataset_key</th>\n",
       "      <th>route_dir_identifier</th>\n",
       "    </tr>\n",
       "  </thead>\n",
       "  <tbody>\n",
       "    <tr>\n",
       "      <th>32</th>\n",
       "      <td>f0b28ce2e70bba09a56e0b6a25268666</td>\n",
       "      <td>51</td>\n",
       "      <td>1.00</td>\n",
       "      <td>37</td>\n",
       "      <td>Pasadena Schedule</td>\n",
       "      <td>3a508d597e0f71941bd18367262a9cbc</td>\n",
       "      <td>3353335113</td>\n",
       "    </tr>\n",
       "  </tbody>\n",
       "</table>\n",
       "</div>"
      ],
      "text/plain": [
       "                            feed_key route_id  direction_id shape_id  \\\n",
       "32  f0b28ce2e70bba09a56e0b6a25268666       51          1.00       37   \n",
       "\n",
       "                 name                  gtfs_dataset_key  route_dir_identifier  \n",
       "32  Pasadena Schedule  3a508d597e0f71941bd18367262a9cbc            3353335113  "
      ]
     },
     "execution_count": 101,
     "metadata": {},
     "output_type": "execute_result"
    }
   ],
   "source": [
    "m1.sample()"
   ]
  },
  {
   "cell_type": "code",
   "execution_count": 102,
   "id": "9c22327e-d45b-4ad9-b917-09ceb5b68221",
   "metadata": {
    "scrolled": true,
    "tags": []
   },
   "outputs": [],
   "source": [
    "# routelines.sample()"
   ]
  },
  {
   "cell_type": "code",
   "execution_count": 103,
   "id": "23d76e1c-8cda-4ac1-acd5-b7d7db76c1ab",
   "metadata": {},
   "outputs": [],
   "source": [
    "m2 = m1.merge(routelines, how=\"inner\", on=[\"feed_key\", \"shape_id\"])"
   ]
  },
  {
   "cell_type": "code",
   "execution_count": 104,
   "id": "b6593324-fefb-4f92-b9f3-5d01c351f121",
   "metadata": {},
   "outputs": [
    {
     "data": {
      "text/plain": [
       "Index(['geometry', 'feed_key', 'name', 'route_id', 'direction_id',\n",
       "       'longest_shape_id', 'route_dir_identifier', 'longest_route_length',\n",
       "       'segment_sequence', 'geometry_arrowized', 'gtfs_dataset_key'],\n",
       "      dtype='object')"
      ]
     },
     "execution_count": 104,
     "metadata": {},
     "output_type": "execute_result"
    }
   ],
   "source": [
    "longest_shape.columns"
   ]
  },
  {
   "cell_type": "code",
   "execution_count": 105,
   "id": "311c8c2b-6ea7-4240-a3a1-1de45c2714f1",
   "metadata": {},
   "outputs": [
    {
     "data": {
      "text/plain": [
       "Index(['feed_key', 'route_id', 'direction_id', 'shape_id', 'name',\n",
       "       'gtfs_dataset_key', 'route_dir_identifier', 'n_trips', 'geometry',\n",
       "       'actual_route_length'],\n",
       "      dtype='object')"
      ]
     },
     "execution_count": 105,
     "metadata": {},
     "output_type": "execute_result"
    }
   ],
   "source": [
    "m2.columns"
   ]
  },
  {
   "cell_type": "code",
   "execution_count": 106,
   "id": "38dea10e-c78a-40a5-b4fd-ea29c855b2a6",
   "metadata": {},
   "outputs": [],
   "source": [
    "m3 = m2.merge(longest_shape.drop(columns = [\"geometry\"]), how=\"inner\", on=[\"feed_key\", \"gtfs_dataset_key\", \"direction_id\",\n",
    "                                                                          \"route_id\",\"route_dir_identifier\", \"name\"])"
   ]
  },
  {
   "cell_type": "code",
   "execution_count": 107,
   "id": "19c0e034-7294-47d1-ab45-e40370d1447f",
   "metadata": {},
   "outputs": [],
   "source": [
    "m3[\"route_length_percentage\"] = (\n",
    "        (m3.actual_route_length / m3.longest_route_length) * 100\n",
    "    ).astype(int)"
   ]
  },
  {
   "cell_type": "code",
   "execution_count": 109,
   "id": "0de28b93-fff7-4766-ad81-b7e9a774e3fc",
   "metadata": {
    "tags": []
   },
   "outputs": [
    {
     "data": {
      "text/html": [
       "<div>\n",
       "<style scoped>\n",
       "    .dataframe tbody tr th:only-of-type {\n",
       "        vertical-align: middle;\n",
       "    }\n",
       "\n",
       "    .dataframe tbody tr th {\n",
       "        vertical-align: top;\n",
       "    }\n",
       "\n",
       "    .dataframe thead th {\n",
       "        text-align: right;\n",
       "    }\n",
       "</style>\n",
       "<table border=\"1\" class=\"dataframe\">\n",
       "  <thead>\n",
       "    <tr style=\"text-align: right;\">\n",
       "      <th></th>\n",
       "      <th>feed_key</th>\n",
       "      <th>route_id</th>\n",
       "      <th>direction_id</th>\n",
       "      <th>shape_id</th>\n",
       "      <th>name</th>\n",
       "      <th>gtfs_dataset_key</th>\n",
       "      <th>route_dir_identifier</th>\n",
       "      <th>n_trips</th>\n",
       "      <th>actual_route_length</th>\n",
       "      <th>longest_shape_id</th>\n",
       "      <th>longest_route_length</th>\n",
       "      <th>segment_sequence</th>\n",
       "      <th>route_length_percentage</th>\n",
       "    </tr>\n",
       "  </thead>\n",
       "  <tbody>\n",
       "    <tr>\n",
       "      <th>47945</th>\n",
       "      <td>cde080d02841ea62ccfa158c22aa814e</td>\n",
       "      <td>4867</td>\n",
       "      <td>0.00</td>\n",
       "      <td>19752</td>\n",
       "      <td>LA DOT Schedule</td>\n",
       "      <td>02af2d11f5bd44434c581540e9e857d8</td>\n",
       "      <td>3106299841</td>\n",
       "      <td>40</td>\n",
       "      <td>7567.34</td>\n",
       "      <td>19752</td>\n",
       "      <td>7567.34</td>\n",
       "      <td>7</td>\n",
       "      <td>100</td>\n",
       "    </tr>\n",
       "    <tr>\n",
       "      <th>123018</th>\n",
       "      <td>b9a0bc47bcf6590c67677f3af358f490</td>\n",
       "      <td>51H</td>\n",
       "      <td>0.00</td>\n",
       "      <td>107292</td>\n",
       "      <td>Bay Area 511 Santa Clara Transit Schedule</td>\n",
       "      <td>03cadbffef6f3cd4ce839b218bc65e82</td>\n",
       "      <td>725824661</td>\n",
       "      <td>2</td>\n",
       "      <td>16251.01</td>\n",
       "      <td>107293</td>\n",
       "      <td>17854.84</td>\n",
       "      <td>1</td>\n",
       "      <td>91</td>\n",
       "    </tr>\n",
       "    <tr>\n",
       "      <th>90951</th>\n",
       "      <td>6adf6cd9b6d24ab4ee8ee220e3697a73</td>\n",
       "      <td>128-13167</td>\n",
       "      <td>0.00</td>\n",
       "      <td>1280029_DEC22</td>\n",
       "      <td>LA Metro Bus Schedule</td>\n",
       "      <td>7c48cc5675c9266fb6851070489c53e9</td>\n",
       "      <td>1757433343</td>\n",
       "      <td>16</td>\n",
       "      <td>22751.43</td>\n",
       "      <td>1280029_DEC22</td>\n",
       "      <td>22751.43</td>\n",
       "      <td>19</td>\n",
       "      <td>100</td>\n",
       "    </tr>\n",
       "  </tbody>\n",
       "</table>\n",
       "</div>"
      ],
      "text/plain": [
       "                                feed_key   route_id  direction_id  \\\n",
       "47945   cde080d02841ea62ccfa158c22aa814e       4867          0.00   \n",
       "123018  b9a0bc47bcf6590c67677f3af358f490        51H          0.00   \n",
       "90951   6adf6cd9b6d24ab4ee8ee220e3697a73  128-13167          0.00   \n",
       "\n",
       "             shape_id                                       name  \\\n",
       "47945           19752                            LA DOT Schedule   \n",
       "123018         107292  Bay Area 511 Santa Clara Transit Schedule   \n",
       "90951   1280029_DEC22                      LA Metro Bus Schedule   \n",
       "\n",
       "                        gtfs_dataset_key  route_dir_identifier  n_trips  \\\n",
       "47945   02af2d11f5bd44434c581540e9e857d8            3106299841       40   \n",
       "123018  03cadbffef6f3cd4ce839b218bc65e82             725824661        2   \n",
       "90951   7c48cc5675c9266fb6851070489c53e9            1757433343       16   \n",
       "\n",
       "        actual_route_length longest_shape_id  longest_route_length  \\\n",
       "47945               7567.34            19752               7567.34   \n",
       "123018             16251.01           107293              17854.84   \n",
       "90951              22751.43    1280029_DEC22              22751.43   \n",
       "\n",
       "       segment_sequence  route_length_percentage  \n",
       "47945                 7                      100  \n",
       "123018                1                       91  \n",
       "90951                19                      100  "
      ]
     },
     "execution_count": 109,
     "metadata": {},
     "output_type": "execute_result"
    }
   ],
   "source": [
    "m3.sample(3).drop(columns = ['geometry','geometry_arrowized'])"
   ]
  },
  {
   "cell_type": "code",
   "execution_count": 110,
   "id": "46e4e5c1-3033-4d11-8173-5bfef37efa12",
   "metadata": {},
   "outputs": [
    {
     "data": {
      "text/plain": [
       "(84, 83)"
      ]
     },
     "execution_count": 110,
     "metadata": {},
     "output_type": "execute_result"
    }
   ],
   "source": [
    "m3.gtfs_dataset_key.nunique(), m3.name.nunique()"
   ]
  },
  {
   "cell_type": "code",
   "execution_count": 116,
   "id": "597e7a67-a980-499c-bcea-091e4fb2b1cc",
   "metadata": {
    "scrolled": true,
    "tags": []
   },
   "outputs": [],
   "source": [
    "# m3.name.unique()"
   ]
  },
  {
   "cell_type": "code",
   "execution_count": 114,
   "id": "7f6f21e6-8d7a-46b5-955b-7bdb5b1cfd7e",
   "metadata": {},
   "outputs": [],
   "source": [
    "m4 = (\n",
    "        m3.groupby(\n",
    "            [\n",
    "                \"route_id\",\n",
    "                \"name\",\n",
    "                \"gtfs_dataset_key\",\n",
    "                \"route_dir_identifier\",\n",
    "                \"shape_id\",\n",
    "                \"longest_shape_id\",\n",
    "                \"route_length_percentage\",\n",
    "            ]\n",
    "        )\n",
    "        .agg({\"segment_sequence\": \"count\"})\n",
    "        .rename(columns={\"segment_sequence\": \"total_segments\"})\n",
    "        .reset_index()\n",
    "    )"
   ]
  },
  {
   "cell_type": "code",
   "execution_count": 117,
   "id": "a261eeac-3ab3-4a87-8be3-3c9c5ff39a3b",
   "metadata": {},
   "outputs": [
    {
     "data": {
      "text/plain": [
       "((130196, 15), (4982, 8))"
      ]
     },
     "execution_count": 117,
     "metadata": {},
     "output_type": "execute_result"
    }
   ],
   "source": [
    "m3.shape, m4.shape"
   ]
  },
  {
   "cell_type": "code",
   "execution_count": 125,
   "id": "87bbf8a8-99c7-4556-8faf-7112c2278fc1",
   "metadata": {},
   "outputs": [],
   "source": [
    "ac = m4.loc[m4.name == 'Bay Area 511 AC Transit Schedule'].reset_index(drop=True)"
   ]
  },
  {
   "cell_type": "code",
   "execution_count": 126,
   "id": "d50d3fc0-d281-4638-bbc2-134cf4e1ea16",
   "metadata": {},
   "outputs": [
    {
     "data": {
      "text/plain": [
       "(323, 8)"
      ]
     },
     "execution_count": 126,
     "metadata": {},
     "output_type": "execute_result"
    }
   ],
   "source": [
    "ac.shape"
   ]
  },
  {
   "cell_type": "code",
   "execution_count": 128,
   "id": "e4bacca4-cfd9-4b41-82d2-4af8a0073b39",
   "metadata": {},
   "outputs": [],
   "source": [
    "ac= (\n",
    "        ac.groupby([\"name\", \"route_id\", \"shape_id\"])\n",
    "        .agg({\"route_length_percentage\": \"max\"})\n",
    "        .reset_index()\n",
    "    )"
   ]
  },
  {
   "cell_type": "code",
   "execution_count": 131,
   "id": "5ad408cf-f822-4d43-b94f-a1ba6dc19164",
   "metadata": {},
   "outputs": [
    {
     "data": {
      "text/html": [
       "\n",
       "<div id=\"altair-viz-1e8b0edc82124228a7d07222af0f57c5\"></div>\n",
       "<script type=\"text/javascript\">\n",
       "  var VEGA_DEBUG = (typeof VEGA_DEBUG == \"undefined\") ? {} : VEGA_DEBUG;\n",
       "  (function(spec, embedOpt){\n",
       "    let outputDiv = document.currentScript.previousElementSibling;\n",
       "    if (outputDiv.id !== \"altair-viz-1e8b0edc82124228a7d07222af0f57c5\") {\n",
       "      outputDiv = document.getElementById(\"altair-viz-1e8b0edc82124228a7d07222af0f57c5\");\n",
       "    }\n",
       "    const paths = {\n",
       "      \"vega\": \"https://cdn.jsdelivr.net/npm//vega@5?noext\",\n",
       "      \"vega-lib\": \"https://cdn.jsdelivr.net/npm//vega-lib?noext\",\n",
       "      \"vega-lite\": \"https://cdn.jsdelivr.net/npm//vega-lite@4.17.0?noext\",\n",
       "      \"vega-embed\": \"https://cdn.jsdelivr.net/npm//vega-embed@6?noext\",\n",
       "    };\n",
       "\n",
       "    function maybeLoadScript(lib, version) {\n",
       "      var key = `${lib.replace(\"-\", \"\")}_version`;\n",
       "      return (VEGA_DEBUG[key] == version) ?\n",
       "        Promise.resolve(paths[lib]) :\n",
       "        new Promise(function(resolve, reject) {\n",
       "          var s = document.createElement('script');\n",
       "          document.getElementsByTagName(\"head\")[0].appendChild(s);\n",
       "          s.async = true;\n",
       "          s.onload = () => {\n",
       "            VEGA_DEBUG[key] = version;\n",
       "            return resolve(paths[lib]);\n",
       "          };\n",
       "          s.onerror = () => reject(`Error loading script: ${paths[lib]}`);\n",
       "          s.src = paths[lib];\n",
       "        });\n",
       "    }\n",
       "\n",
       "    function showError(err) {\n",
       "      outputDiv.innerHTML = `<div class=\"error\" style=\"color:red;\">${err}</div>`;\n",
       "      throw err;\n",
       "    }\n",
       "\n",
       "    function displayChart(vegaEmbed) {\n",
       "      vegaEmbed(outputDiv, spec, embedOpt)\n",
       "        .catch(err => showError(`Javascript Error: ${err.message}<br>This usually means there's a typo in your chart specification. See the javascript console for the full traceback.`));\n",
       "    }\n",
       "\n",
       "    if(typeof define === \"function\" && define.amd) {\n",
       "      requirejs.config({paths});\n",
       "      require([\"vega-embed\"], displayChart, err => showError(`Error loading script: ${err.message}`));\n",
       "    } else {\n",
       "      maybeLoadScript(\"vega\", \"5\")\n",
       "        .then(() => maybeLoadScript(\"vega-lite\", \"4.17.0\"))\n",
       "        .then(() => maybeLoadScript(\"vega-embed\", \"6\"))\n",
       "        .catch(showError)\n",
       "        .then(() => displayChart(vegaEmbed));\n",
       "    }\n",
       "  })({\"config\": {\"view\": {\"continuousWidth\": 400, \"continuousHeight\": 300}}, \"data\": {\"name\": \"data-29733ecbb07ce0325015b562bfba2693\"}, \"mark\": {\"type\": \"boxplot\", \"extent\": \"min-max\"}, \"encoding\": {\"color\": {\"field\": \"route_id\", \"legend\": null, \"scale\": {\"range\": [\"#2EA8CE\", \"#EB9F3C\", \"#F4D837\", \"#51BF9D\", \"#8CBCCB\", \"#9487C0\"]}, \"type\": \"nominal\"}, \"x\": {\"field\": \"route_id\", \"type\": \"nominal\"}, \"y\": {\"field\": \"route_length_percentage\", \"type\": \"quantitative\"}}, \"title\": \"AC Test\", \"$schema\": \"https://vega.github.io/schema/vega-lite/v4.17.0.json\", \"datasets\": {\"data-29733ecbb07ce0325015b562bfba2693\": [{\"name\": \"Bay Area 511 AC Transit Schedule\", \"route_id\": \"10\", \"shape_id\": \"shp-10-09\", \"route_length_percentage\": 100}, {\"name\": \"Bay Area 511 AC Transit Schedule\", \"route_id\": \"10\", \"shape_id\": \"shp-10-10\", \"route_length_percentage\": 100}, {\"name\": \"Bay Area 511 AC Transit Schedule\", \"route_id\": \"12\", \"shape_id\": \"shp-12-14\", \"route_length_percentage\": 100}, {\"name\": \"Bay Area 511 AC Transit Schedule\", \"route_id\": \"12\", \"shape_id\": \"shp-12-56\", \"route_length_percentage\": 100}, {\"name\": \"Bay Area 511 AC Transit Schedule\", \"route_id\": \"14\", \"shape_id\": \"shp-14-14\", \"route_length_percentage\": 21}, {\"name\": \"Bay Area 511 AC Transit Schedule\", \"route_id\": \"14\", \"shape_id\": \"shp-14-15\", \"route_length_percentage\": 100}, {\"name\": \"Bay Area 511 AC Transit Schedule\", \"route_id\": \"14\", \"shape_id\": \"shp-14-59\", \"route_length_percentage\": 100}, {\"name\": \"Bay Area 511 AC Transit Schedule\", \"route_id\": \"18\", \"shape_id\": \"shp-18-21\", \"route_length_percentage\": 100}, {\"name\": \"Bay Area 511 AC Transit Schedule\", \"route_id\": \"18\", \"shape_id\": \"shp-18-63\", \"route_length_percentage\": 100}, {\"name\": \"Bay Area 511 AC Transit Schedule\", \"route_id\": \"19\", \"shape_id\": \"shp-19-17\", \"route_length_percentage\": 100}, {\"name\": \"Bay Area 511 AC Transit Schedule\", \"route_id\": \"19\", \"shape_id\": \"shp-19-65\", \"route_length_percentage\": 100}, {\"name\": \"Bay Area 511 AC Transit Schedule\", \"route_id\": \"1T\", \"shape_id\": \"shp-1T-04\", \"route_length_percentage\": 100}, {\"name\": \"Bay Area 511 AC Transit Schedule\", \"route_id\": \"1T\", \"shape_id\": \"shp-1T-05\", \"route_length_percentage\": 94}, {\"name\": \"Bay Area 511 AC Transit Schedule\", \"route_id\": \"1T\", \"shape_id\": \"shp-1T-06\", \"route_length_percentage\": 94}, {\"name\": \"Bay Area 511 AC Transit Schedule\", \"route_id\": \"1T\", \"shape_id\": \"shp-1T-51\", \"route_length_percentage\": 100}, {\"name\": \"Bay Area 511 AC Transit Schedule\", \"route_id\": \"20\", \"shape_id\": \"shp-20-03\", \"route_length_percentage\": 55}, {\"name\": \"Bay Area 511 AC Transit Schedule\", \"route_id\": \"20\", \"shape_id\": \"shp-20-16\", \"route_length_percentage\": 47}, {\"name\": \"Bay Area 511 AC Transit Schedule\", \"route_id\": \"20\", \"shape_id\": \"shp-20-18\", \"route_length_percentage\": 100}, {\"name\": \"Bay Area 511 AC Transit Schedule\", \"route_id\": \"20\", \"shape_id\": \"shp-20-62\", \"route_length_percentage\": 100}, {\"name\": \"Bay Area 511 AC Transit Schedule\", \"route_id\": \"200\", \"shape_id\": \"shp-200-16\", \"route_length_percentage\": 100}, {\"name\": \"Bay Area 511 AC Transit Schedule\", \"route_id\": \"200\", \"shape_id\": \"shp-200-61\", \"route_length_percentage\": 100}, {\"name\": \"Bay Area 511 AC Transit Schedule\", \"route_id\": \"21\", \"shape_id\": \"shp-21-20\", \"route_length_percentage\": 93}, {\"name\": \"Bay Area 511 AC Transit Schedule\", \"route_id\": \"21\", \"shape_id\": \"shp-21-22\", \"route_length_percentage\": 92}, {\"name\": \"Bay Area 511 AC Transit Schedule\", \"route_id\": \"21\", \"shape_id\": \"shp-21-23\", \"route_length_percentage\": 100}, {\"name\": \"Bay Area 511 AC Transit Schedule\", \"route_id\": \"21\", \"shape_id\": \"shp-21-56\", \"route_length_percentage\": 100}, {\"name\": \"Bay Area 511 AC Transit Schedule\", \"route_id\": \"210\", \"shape_id\": \"shp-210-10\", \"route_length_percentage\": 100}, {\"name\": \"Bay Area 511 AC Transit Schedule\", \"route_id\": \"210\", \"shape_id\": \"shp-210-55\", \"route_length_percentage\": 100}, {\"name\": \"Bay Area 511 AC Transit Schedule\", \"route_id\": \"212\", \"shape_id\": \"shp-212-07\", \"route_length_percentage\": 100}, {\"name\": \"Bay Area 511 AC Transit Schedule\", \"route_id\": \"212\", \"shape_id\": \"shp-212-57\", \"route_length_percentage\": 100}, {\"name\": \"Bay Area 511 AC Transit Schedule\", \"route_id\": \"215\", \"shape_id\": \"shp-215-15\", \"route_length_percentage\": 100}, {\"name\": \"Bay Area 511 AC Transit Schedule\", \"route_id\": \"215\", \"shape_id\": \"shp-215-16\", \"route_length_percentage\": 100}, {\"name\": \"Bay Area 511 AC Transit Schedule\", \"route_id\": \"216\", \"shape_id\": \"shp-216-17\", \"route_length_percentage\": 100}, {\"name\": \"Bay Area 511 AC Transit Schedule\", \"route_id\": \"216\", \"shape_id\": \"shp-216-63\", \"route_length_percentage\": 100}, {\"name\": \"Bay Area 511 AC Transit Schedule\", \"route_id\": \"217\", \"shape_id\": \"shp-217-11\", \"route_length_percentage\": 100}, {\"name\": \"Bay Area 511 AC Transit Schedule\", \"route_id\": \"217\", \"shape_id\": \"shp-217-61\", \"route_length_percentage\": 100}, {\"name\": \"Bay Area 511 AC Transit Schedule\", \"route_id\": \"232\", \"shape_id\": \"shp-232-11\", \"route_length_percentage\": 100}, {\"name\": \"Bay Area 511 AC Transit Schedule\", \"route_id\": \"232\", \"shape_id\": \"shp-232-59\", \"route_length_percentage\": 100}, {\"name\": \"Bay Area 511 AC Transit Schedule\", \"route_id\": \"239\", \"shape_id\": \"shp-239-11\", \"route_length_percentage\": 100}, {\"name\": \"Bay Area 511 AC Transit Schedule\", \"route_id\": \"239\", \"shape_id\": \"shp-239-59\", \"route_length_percentage\": 100}, {\"name\": \"Bay Area 511 AC Transit Schedule\", \"route_id\": \"251\", \"shape_id\": \"shp-251-10\", \"route_length_percentage\": 100}, {\"name\": \"Bay Area 511 AC Transit Schedule\", \"route_id\": \"251\", \"shape_id\": \"shp-251-59\", \"route_length_percentage\": 100}, {\"name\": \"Bay Area 511 AC Transit Schedule\", \"route_id\": \"28\", \"shape_id\": \"shp-28-11\", \"route_length_percentage\": 100}, {\"name\": \"Bay Area 511 AC Transit Schedule\", \"route_id\": \"28\", \"shape_id\": \"shp-28-60\", \"route_length_percentage\": 100}, {\"name\": \"Bay Area 511 AC Transit Schedule\", \"route_id\": \"29\", \"shape_id\": \"shp-29-35\", \"route_length_percentage\": 81}, {\"name\": \"Bay Area 511 AC Transit Schedule\", \"route_id\": \"29\", \"shape_id\": \"shp-29-36\", \"route_length_percentage\": 84}, {\"name\": \"Bay Area 511 AC Transit Schedule\", \"route_id\": \"29\", \"shape_id\": \"shp-29-37\", \"route_length_percentage\": 100}, {\"name\": \"Bay Area 511 AC Transit Schedule\", \"route_id\": \"29\", \"shape_id\": \"shp-29-38\", \"route_length_percentage\": 100}, {\"name\": \"Bay Area 511 AC Transit Schedule\", \"route_id\": \"29\", \"shape_id\": \"shp-29-39\", \"route_length_percentage\": 85}, {\"name\": \"Bay Area 511 AC Transit Schedule\", \"route_id\": \"33\", \"shape_id\": \"shp-33-15\", \"route_length_percentage\": 100}, {\"name\": \"Bay Area 511 AC Transit Schedule\", \"route_id\": \"33\", \"shape_id\": \"shp-33-16\", \"route_length_percentage\": 48}, {\"name\": \"Bay Area 511 AC Transit Schedule\", \"route_id\": \"33\", \"shape_id\": \"shp-33-17\", \"route_length_percentage\": 100}, {\"name\": \"Bay Area 511 AC Transit Schedule\", \"route_id\": \"33\", \"shape_id\": \"shp-33-70\", \"route_length_percentage\": 71}, {\"name\": \"Bay Area 511 AC Transit Schedule\", \"route_id\": \"34\", \"shape_id\": \"shp-34-07\", \"route_length_percentage\": 100}, {\"name\": \"Bay Area 511 AC Transit Schedule\", \"route_id\": \"34\", \"shape_id\": \"shp-34-08\", \"route_length_percentage\": 100}, {\"name\": \"Bay Area 511 AC Transit Schedule\", \"route_id\": \"35\", \"shape_id\": \"shp-35-11\", \"route_length_percentage\": 100}, {\"name\": \"Bay Area 511 AC Transit Schedule\", \"route_id\": \"35\", \"shape_id\": \"shp-35-61\", \"route_length_percentage\": 100}, {\"name\": \"Bay Area 511 AC Transit Schedule\", \"route_id\": \"36\", \"shape_id\": \"shp-36-10\", \"route_length_percentage\": 100}, {\"name\": \"Bay Area 511 AC Transit Schedule\", \"route_id\": \"36\", \"shape_id\": \"shp-36-55\", \"route_length_percentage\": 100}, {\"name\": \"Bay Area 511 AC Transit Schedule\", \"route_id\": \"376\", \"shape_id\": \"shp-376-08\", \"route_length_percentage\": 46}, {\"name\": \"Bay Area 511 AC Transit Schedule\", \"route_id\": \"376\", \"shape_id\": \"shp-376-09\", \"route_length_percentage\": 100}, {\"name\": \"Bay Area 511 AC Transit Schedule\", \"route_id\": \"376\", \"shape_id\": \"shp-376-54\", \"route_length_percentage\": 100}, {\"name\": \"Bay Area 511 AC Transit Schedule\", \"route_id\": \"39\", \"shape_id\": \"shp-39-05\", \"route_length_percentage\": 100}, {\"name\": \"Bay Area 511 AC Transit Schedule\", \"route_id\": \"39\", \"shape_id\": \"shp-39-53\", \"route_length_percentage\": 100}, {\"name\": \"Bay Area 511 AC Transit Schedule\", \"route_id\": \"40\", \"shape_id\": \"shp-40-07\", \"route_length_percentage\": 100}, {\"name\": \"Bay Area 511 AC Transit Schedule\", \"route_id\": \"40\", \"shape_id\": \"shp-40-18\", \"route_length_percentage\": 100}, {\"name\": \"Bay Area 511 AC Transit Schedule\", \"route_id\": \"40\", \"shape_id\": \"shp-40-19\", \"route_length_percentage\": 51}, {\"name\": \"Bay Area 511 AC Transit Schedule\", \"route_id\": \"40\", \"shape_id\": \"shp-40-20\", \"route_length_percentage\": 51}, {\"name\": \"Bay Area 511 AC Transit Schedule\", \"route_id\": \"40\", \"shape_id\": \"shp-40-22\", \"route_length_percentage\": 48}, {\"name\": \"Bay Area 511 AC Transit Schedule\", \"route_id\": \"41\", \"shape_id\": \"shp-41-05\", \"route_length_percentage\": 100}, {\"name\": \"Bay Area 511 AC Transit Schedule\", \"route_id\": \"41\", \"shape_id\": \"shp-41-55\", \"route_length_percentage\": 100}, {\"name\": \"Bay Area 511 AC Transit Schedule\", \"route_id\": \"45\", \"shape_id\": \"shp-45-04\", \"route_length_percentage\": 100}, {\"name\": \"Bay Area 511 AC Transit Schedule\", \"route_id\": \"45\", \"shape_id\": \"shp-45-53\", \"route_length_percentage\": 100}, {\"name\": \"Bay Area 511 AC Transit Schedule\", \"route_id\": \"46L\", \"shape_id\": \"shp-46L-02\", \"route_length_percentage\": 100}, {\"name\": \"Bay Area 511 AC Transit Schedule\", \"route_id\": \"46L\", \"shape_id\": \"shp-46L-51\", \"route_length_percentage\": 100}, {\"name\": \"Bay Area 511 AC Transit Schedule\", \"route_id\": \"51A\", \"shape_id\": \"shp-51A-17\", \"route_length_percentage\": 100}, {\"name\": \"Bay Area 511 AC Transit Schedule\", \"route_id\": \"51A\", \"shape_id\": \"shp-51A-55\", \"route_length_percentage\": 100}, {\"name\": \"Bay Area 511 AC Transit Schedule\", \"route_id\": \"51B\", \"shape_id\": \"shp-51B-16\", \"route_length_percentage\": 100}, {\"name\": \"Bay Area 511 AC Transit Schedule\", \"route_id\": \"51B\", \"shape_id\": \"shp-51B-17\", \"route_length_percentage\": 83}, {\"name\": \"Bay Area 511 AC Transit Schedule\", \"route_id\": \"51B\", \"shape_id\": \"shp-51B-20\", \"route_length_percentage\": 82}, {\"name\": \"Bay Area 511 AC Transit Schedule\", \"route_id\": \"51B\", \"shape_id\": \"shp-51B-21\", \"route_length_percentage\": 100}, {\"name\": \"Bay Area 511 AC Transit Schedule\", \"route_id\": \"52\", \"shape_id\": \"shp-52-17\", \"route_length_percentage\": 100}, {\"name\": \"Bay Area 511 AC Transit Schedule\", \"route_id\": \"52\", \"shape_id\": \"shp-52-18\", \"route_length_percentage\": 77}, {\"name\": \"Bay Area 511 AC Transit Schedule\", \"route_id\": \"52\", \"shape_id\": \"shp-52-62\", \"route_length_percentage\": 100}, {\"name\": \"Bay Area 511 AC Transit Schedule\", \"route_id\": \"52\", \"shape_id\": \"shp-52-63\", \"route_length_percentage\": 81}, {\"name\": \"Bay Area 511 AC Transit Schedule\", \"route_id\": \"54\", \"shape_id\": \"shp-54-03\", \"route_length_percentage\": 100}, {\"name\": \"Bay Area 511 AC Transit Schedule\", \"route_id\": \"54\", \"shape_id\": \"shp-54-53\", \"route_length_percentage\": 100}, {\"name\": \"Bay Area 511 AC Transit Schedule\", \"route_id\": \"56\", \"shape_id\": \"shp-56-03\", \"route_length_percentage\": 100}, {\"name\": \"Bay Area 511 AC Transit Schedule\", \"route_id\": \"56\", \"shape_id\": \"shp-56-53\", \"route_length_percentage\": 100}, {\"name\": \"Bay Area 511 AC Transit Schedule\", \"route_id\": \"57\", \"shape_id\": \"shp-57-13\", \"route_length_percentage\": 100}, {\"name\": \"Bay Area 511 AC Transit Schedule\", \"route_id\": \"57\", \"shape_id\": \"shp-57-67\", \"route_length_percentage\": 19}, {\"name\": \"Bay Area 511 AC Transit Schedule\", \"route_id\": \"57\", \"shape_id\": \"shp-57-68\", \"route_length_percentage\": 40}, {\"name\": \"Bay Area 511 AC Transit Schedule\", \"route_id\": \"57\", \"shape_id\": \"shp-57-69\", \"route_length_percentage\": 100}, {\"name\": \"Bay Area 511 AC Transit Schedule\", \"route_id\": \"6\", \"shape_id\": \"shp-6-16\", \"route_length_percentage\": 100}, {\"name\": \"Bay Area 511 AC Transit Schedule\", \"route_id\": \"6\", \"shape_id\": \"shp-6-60\", \"route_length_percentage\": 100}, {\"name\": \"Bay Area 511 AC Transit Schedule\", \"route_id\": \"60\", \"shape_id\": \"shp-60-07\", \"route_length_percentage\": 100}, {\"name\": \"Bay Area 511 AC Transit Schedule\", \"route_id\": \"60\", \"shape_id\": \"shp-60-09\", \"route_length_percentage\": 100}, {\"name\": \"Bay Area 511 AC Transit Schedule\", \"route_id\": \"604\", \"shape_id\": \"shp-604-15\", \"route_length_percentage\": 100}, {\"name\": \"Bay Area 511 AC Transit Schedule\", \"route_id\": \"604\", \"shape_id\": \"shp-604-63\", \"route_length_percentage\": 100}, {\"name\": \"Bay Area 511 AC Transit Schedule\", \"route_id\": \"604\", \"shape_id\": \"shp-604-64\", \"route_length_percentage\": 92}, {\"name\": \"Bay Area 511 AC Transit Schedule\", \"route_id\": \"605\", \"shape_id\": \"shp-605-01\", \"route_length_percentage\": 100}, {\"name\": \"Bay Area 511 AC Transit Schedule\", \"route_id\": \"605\", \"shape_id\": \"shp-605-03\", \"route_length_percentage\": 100}, {\"name\": \"Bay Area 511 AC Transit Schedule\", \"route_id\": \"606\", \"shape_id\": \"shp-606-02\", \"route_length_percentage\": 100}, {\"name\": \"Bay Area 511 AC Transit Schedule\", \"route_id\": \"606\", \"shape_id\": \"shp-606-53\", \"route_length_percentage\": 100}, {\"name\": \"Bay Area 511 AC Transit Schedule\", \"route_id\": \"607\", \"shape_id\": \"shp-607-02\", \"route_length_percentage\": 100}, {\"name\": \"Bay Area 511 AC Transit Schedule\", \"route_id\": \"617\", \"shape_id\": \"shp-617-03\", \"route_length_percentage\": 100}, {\"name\": \"Bay Area 511 AC Transit Schedule\", \"route_id\": \"617\", \"shape_id\": \"shp-617-05\", \"route_length_percentage\": 100}, {\"name\": \"Bay Area 511 AC Transit Schedule\", \"route_id\": \"62\", \"shape_id\": \"shp-62-02\", \"route_length_percentage\": 100}, {\"name\": \"Bay Area 511 AC Transit Schedule\", \"route_id\": \"62\", \"shape_id\": \"shp-62-58\", \"route_length_percentage\": 100}, {\"name\": \"Bay Area 511 AC Transit Schedule\", \"route_id\": \"620\", \"shape_id\": \"shp-620-01\", \"route_length_percentage\": 100}, {\"name\": \"Bay Area 511 AC Transit Schedule\", \"route_id\": \"620\", \"shape_id\": \"shp-620-52\", \"route_length_percentage\": 100}, {\"name\": \"Bay Area 511 AC Transit Schedule\", \"route_id\": \"621\", \"shape_id\": \"shp-621-05\", \"route_length_percentage\": 100}, {\"name\": \"Bay Area 511 AC Transit Schedule\", \"route_id\": \"621\", \"shape_id\": \"shp-621-08\", \"route_length_percentage\": 87}, {\"name\": \"Bay Area 511 AC Transit Schedule\", \"route_id\": \"621\", \"shape_id\": \"shp-621-09\", \"route_length_percentage\": 100}, {\"name\": \"Bay Area 511 AC Transit Schedule\", \"route_id\": \"623\", \"shape_id\": \"shp-623-05\", \"route_length_percentage\": 100}, {\"name\": \"Bay Area 511 AC Transit Schedule\", \"route_id\": \"623\", \"shape_id\": \"shp-623-56\", \"route_length_percentage\": 100}, {\"name\": \"Bay Area 511 AC Transit Schedule\", \"route_id\": \"623\", \"shape_id\": \"shp-623-57\", \"route_length_percentage\": 91}, {\"name\": \"Bay Area 511 AC Transit Schedule\", \"route_id\": \"624\", \"shape_id\": \"shp-624-01\", \"route_length_percentage\": 60}, {\"name\": \"Bay Area 511 AC Transit Schedule\", \"route_id\": \"624\", \"shape_id\": \"shp-624-03\", \"route_length_percentage\": 100}, {\"name\": \"Bay Area 511 AC Transit Schedule\", \"route_id\": \"625\", \"shape_id\": \"shp-625-01\", \"route_length_percentage\": 86}, {\"name\": \"Bay Area 511 AC Transit Schedule\", \"route_id\": \"625\", \"shape_id\": \"shp-625-02\", \"route_length_percentage\": 100}, {\"name\": \"Bay Area 511 AC Transit Schedule\", \"route_id\": \"625\", \"shape_id\": \"shp-625-51\", \"route_length_percentage\": 100}, {\"name\": \"Bay Area 511 AC Transit Schedule\", \"route_id\": \"626\", \"shape_id\": \"shp-626-01\", \"route_length_percentage\": 100}, {\"name\": \"Bay Area 511 AC Transit Schedule\", \"route_id\": \"626\", \"shape_id\": \"shp-626-51\", \"route_length_percentage\": 100}, {\"name\": \"Bay Area 511 AC Transit Schedule\", \"route_id\": \"628\", \"shape_id\": \"shp-628-01\", \"route_length_percentage\": 100}, {\"name\": \"Bay Area 511 AC Transit Schedule\", \"route_id\": \"628\", \"shape_id\": \"shp-628-51\", \"route_length_percentage\": 100}, {\"name\": \"Bay Area 511 AC Transit Schedule\", \"route_id\": \"629\", \"shape_id\": \"shp-629-01\", \"route_length_percentage\": 100}, {\"name\": \"Bay Area 511 AC Transit Schedule\", \"route_id\": \"629\", \"shape_id\": \"shp-629-51\", \"route_length_percentage\": 100}, {\"name\": \"Bay Area 511 AC Transit Schedule\", \"route_id\": \"631\", \"shape_id\": \"shp-631-02\", \"route_length_percentage\": 100}, {\"name\": \"Bay Area 511 AC Transit Schedule\", \"route_id\": \"631\", \"shape_id\": \"shp-631-03\", \"route_length_percentage\": 60}, {\"name\": \"Bay Area 511 AC Transit Schedule\", \"route_id\": \"631\", \"shape_id\": \"shp-631-51\", \"route_length_percentage\": 100}, {\"name\": \"Bay Area 511 AC Transit Schedule\", \"route_id\": \"631\", \"shape_id\": \"shp-631-52\", \"route_length_percentage\": 63}, {\"name\": \"Bay Area 511 AC Transit Schedule\", \"route_id\": \"638\", \"shape_id\": \"shp-638-04\", \"route_length_percentage\": 100}, {\"name\": \"Bay Area 511 AC Transit Schedule\", \"route_id\": \"638\", \"shape_id\": \"shp-638-56\", \"route_length_percentage\": 100}, {\"name\": \"Bay Area 511 AC Transit Schedule\", \"route_id\": \"641\", \"shape_id\": \"shp-641-02\", \"route_length_percentage\": 100}, {\"name\": \"Bay Area 511 AC Transit Schedule\", \"route_id\": \"641\", \"shape_id\": \"shp-641-52\", \"route_length_percentage\": 100}, {\"name\": \"Bay Area 511 AC Transit Schedule\", \"route_id\": \"642\", \"shape_id\": \"shp-642-51\", \"route_length_percentage\": 100}, {\"name\": \"Bay Area 511 AC Transit Schedule\", \"route_id\": \"646\", \"shape_id\": \"shp-646-12\", \"route_length_percentage\": 100}, {\"name\": \"Bay Area 511 AC Transit Schedule\", \"route_id\": \"646\", \"shape_id\": \"shp-646-13\", \"route_length_percentage\": 73}, {\"name\": \"Bay Area 511 AC Transit Schedule\", \"route_id\": \"646\", \"shape_id\": \"shp-646-14\", \"route_length_percentage\": 28}, {\"name\": \"Bay Area 511 AC Transit Schedule\", \"route_id\": \"646\", \"shape_id\": \"shp-646-59\", \"route_length_percentage\": 73}, {\"name\": \"Bay Area 511 AC Transit Schedule\", \"route_id\": \"646\", \"shape_id\": \"shp-646-60\", \"route_length_percentage\": 100}, {\"name\": \"Bay Area 511 AC Transit Schedule\", \"route_id\": \"646\", \"shape_id\": \"shp-646-61\", \"route_length_percentage\": 28}, {\"name\": \"Bay Area 511 AC Transit Schedule\", \"route_id\": \"648\", \"shape_id\": \"shp-648-12\", \"route_length_percentage\": 100}, {\"name\": \"Bay Area 511 AC Transit Schedule\", \"route_id\": \"648\", \"shape_id\": \"shp-648-63\", \"route_length_percentage\": 100}, {\"name\": \"Bay Area 511 AC Transit Schedule\", \"route_id\": \"649\", \"shape_id\": \"shp-649-14\", \"route_length_percentage\": 100}, {\"name\": \"Bay Area 511 AC Transit Schedule\", \"route_id\": \"649\", \"shape_id\": \"shp-649-15\", \"route_length_percentage\": 70}, {\"name\": \"Bay Area 511 AC Transit Schedule\", \"route_id\": \"649\", \"shape_id\": \"shp-649-57\", \"route_length_percentage\": 69}, {\"name\": \"Bay Area 511 AC Transit Schedule\", \"route_id\": \"649\", \"shape_id\": \"shp-649-58\", \"route_length_percentage\": 100}, {\"name\": \"Bay Area 511 AC Transit Schedule\", \"route_id\": \"65\", \"shape_id\": \"shp-65-12\", \"route_length_percentage\": 89}, {\"name\": \"Bay Area 511 AC Transit Schedule\", \"route_id\": \"65\", \"shape_id\": \"shp-65-13\", \"route_length_percentage\": 100}, {\"name\": \"Bay Area 511 AC Transit Schedule\", \"route_id\": \"65\", \"shape_id\": \"shp-65-14\", \"route_length_percentage\": 100}, {\"name\": \"Bay Area 511 AC Transit Schedule\", \"route_id\": \"65\", \"shape_id\": \"shp-65-59\", \"route_length_percentage\": 99}, {\"name\": \"Bay Area 511 AC Transit Schedule\", \"route_id\": \"650\", \"shape_id\": \"shp-650-06\", \"route_length_percentage\": 100}, {\"name\": \"Bay Area 511 AC Transit Schedule\", \"route_id\": \"650\", \"shape_id\": \"shp-650-52\", \"route_length_percentage\": 100}, {\"name\": \"Bay Area 511 AC Transit Schedule\", \"route_id\": \"652\", \"shape_id\": \"shp-652-07\", \"route_length_percentage\": 100}, {\"name\": \"Bay Area 511 AC Transit Schedule\", \"route_id\": \"652\", \"shape_id\": \"shp-652-51\", \"route_length_percentage\": 100}, {\"name\": \"Bay Area 511 AC Transit Schedule\", \"route_id\": \"653\", \"shape_id\": \"shp-653-01\", \"route_length_percentage\": 100}, {\"name\": \"Bay Area 511 AC Transit Schedule\", \"route_id\": \"653\", \"shape_id\": \"shp-653-51\", \"route_length_percentage\": 100}, {\"name\": \"Bay Area 511 AC Transit Schedule\", \"route_id\": \"654\", \"shape_id\": \"shp-654-04\", \"route_length_percentage\": 92}, {\"name\": \"Bay Area 511 AC Transit Schedule\", \"route_id\": \"654\", \"shape_id\": \"shp-654-05\", \"route_length_percentage\": 100}, {\"name\": \"Bay Area 511 AC Transit Schedule\", \"route_id\": \"654\", \"shape_id\": \"shp-654-54\", \"route_length_percentage\": 100}, {\"name\": \"Bay Area 511 AC Transit Schedule\", \"route_id\": \"655\", \"shape_id\": \"shp-655-03\", \"route_length_percentage\": 100}, {\"name\": \"Bay Area 511 AC Transit Schedule\", \"route_id\": \"655\", \"shape_id\": \"shp-655-54\", \"route_length_percentage\": 100}, {\"name\": \"Bay Area 511 AC Transit Schedule\", \"route_id\": \"657\", \"shape_id\": \"shp-657-12\", \"route_length_percentage\": 100}, {\"name\": \"Bay Area 511 AC Transit Schedule\", \"route_id\": \"657\", \"shape_id\": \"shp-657-13\", \"route_length_percentage\": 53}, {\"name\": \"Bay Area 511 AC Transit Schedule\", \"route_id\": \"657\", \"shape_id\": \"shp-657-14\", \"route_length_percentage\": 69}, {\"name\": \"Bay Area 511 AC Transit Schedule\", \"route_id\": \"657\", \"shape_id\": \"shp-657-58\", \"route_length_percentage\": 100}, {\"name\": \"Bay Area 511 AC Transit Schedule\", \"route_id\": \"657\", \"shape_id\": \"shp-657-59\", \"route_length_percentage\": 93}, {\"name\": \"Bay Area 511 AC Transit Schedule\", \"route_id\": \"658\", \"shape_id\": \"shp-658-04\", \"route_length_percentage\": 100}, {\"name\": \"Bay Area 511 AC Transit Schedule\", \"route_id\": \"658\", \"shape_id\": \"shp-658-56\", \"route_length_percentage\": 100}, {\"name\": \"Bay Area 511 AC Transit Schedule\", \"route_id\": \"660\", \"shape_id\": \"shp-660-01\", \"route_length_percentage\": 100}, {\"name\": \"Bay Area 511 AC Transit Schedule\", \"route_id\": \"660\", \"shape_id\": \"shp-660-02\", \"route_length_percentage\": 78}, {\"name\": \"Bay Area 511 AC Transit Schedule\", \"route_id\": \"660\", \"shape_id\": \"shp-660-51\", \"route_length_percentage\": 100}, {\"name\": \"Bay Area 511 AC Transit Schedule\", \"route_id\": \"662\", \"shape_id\": \"shp-662-05\", \"route_length_percentage\": 100}, {\"name\": \"Bay Area 511 AC Transit Schedule\", \"route_id\": \"662\", \"shape_id\": \"shp-662-60\", \"route_length_percentage\": 100}, {\"name\": \"Bay Area 511 AC Transit Schedule\", \"route_id\": \"663\", \"shape_id\": \"shp-663-06\", \"route_length_percentage\": 100}, {\"name\": \"Bay Area 511 AC Transit Schedule\", \"route_id\": \"663\", \"shape_id\": \"shp-663-55\", \"route_length_percentage\": 100}, {\"name\": \"Bay Area 511 AC Transit Schedule\", \"route_id\": \"667\", \"shape_id\": \"shp-667-07\", \"route_length_percentage\": 100}, {\"name\": \"Bay Area 511 AC Transit Schedule\", \"route_id\": \"667\", \"shape_id\": \"shp-667-57\", \"route_length_percentage\": 98}, {\"name\": \"Bay Area 511 AC Transit Schedule\", \"route_id\": \"667\", \"shape_id\": \"shp-667-58\", \"route_length_percentage\": 100}, {\"name\": \"Bay Area 511 AC Transit Schedule\", \"route_id\": \"669\", \"shape_id\": \"shp-669-04\", \"route_length_percentage\": 100}, {\"name\": \"Bay Area 511 AC Transit Schedule\", \"route_id\": \"669\", \"shape_id\": \"shp-669-57\", \"route_length_percentage\": 100}, {\"name\": \"Bay Area 511 AC Transit Schedule\", \"route_id\": \"669\", \"shape_id\": \"shp-669-58\", \"route_length_percentage\": 80}, {\"name\": \"Bay Area 511 AC Transit Schedule\", \"route_id\": \"67\", \"shape_id\": \"shp-67-06\", \"route_length_percentage\": 100}, {\"name\": \"Bay Area 511 AC Transit Schedule\", \"route_id\": \"67\", \"shape_id\": \"shp-67-57\", \"route_length_percentage\": 100}, {\"name\": \"Bay Area 511 AC Transit Schedule\", \"route_id\": \"671\", \"shape_id\": \"shp-671-01\", \"route_length_percentage\": 100}, {\"name\": \"Bay Area 511 AC Transit Schedule\", \"route_id\": \"671\", \"shape_id\": \"shp-671-03\", \"route_length_percentage\": 63}, {\"name\": \"Bay Area 511 AC Transit Schedule\", \"route_id\": \"671\", \"shape_id\": \"shp-671-04\", \"route_length_percentage\": 100}, {\"name\": \"Bay Area 511 AC Transit Schedule\", \"route_id\": \"672\", \"shape_id\": \"shp-672-03\", \"route_length_percentage\": 100}, {\"name\": \"Bay Area 511 AC Transit Schedule\", \"route_id\": \"672\", \"shape_id\": \"shp-672-51\", \"route_length_percentage\": 100}, {\"name\": \"Bay Area 511 AC Transit Schedule\", \"route_id\": \"675\", \"shape_id\": \"shp-675-03\", \"route_length_percentage\": 100}, {\"name\": \"Bay Area 511 AC Transit Schedule\", \"route_id\": \"675\", \"shape_id\": \"shp-675-56\", \"route_length_percentage\": 100}, {\"name\": \"Bay Area 511 AC Transit Schedule\", \"route_id\": \"675\", \"shape_id\": \"shp-675-57\", \"route_length_percentage\": 90}, {\"name\": \"Bay Area 511 AC Transit Schedule\", \"route_id\": \"676\", \"shape_id\": \"shp-676-01\", \"route_length_percentage\": 100}, {\"name\": \"Bay Area 511 AC Transit Schedule\", \"route_id\": \"676\", \"shape_id\": \"shp-676-54\", \"route_length_percentage\": 68}, {\"name\": \"Bay Area 511 AC Transit Schedule\", \"route_id\": \"676\", \"shape_id\": \"shp-676-55\", \"route_length_percentage\": 100}, {\"name\": \"Bay Area 511 AC Transit Schedule\", \"route_id\": \"677\", \"shape_id\": \"shp-677-01\", \"route_length_percentage\": 100}, {\"name\": \"Bay Area 511 AC Transit Schedule\", \"route_id\": \"677\", \"shape_id\": \"shp-677-02\", \"route_length_percentage\": 100}, {\"name\": \"Bay Area 511 AC Transit Schedule\", \"route_id\": \"680\", \"shape_id\": \"shp-680-06\", \"route_length_percentage\": 100}, {\"name\": \"Bay Area 511 AC Transit Schedule\", \"route_id\": \"680\", \"shape_id\": \"shp-680-07\", \"route_length_percentage\": 100}, {\"name\": \"Bay Area 511 AC Transit Schedule\", \"route_id\": \"681\", \"shape_id\": \"shp-681-04\", \"route_length_percentage\": 100}, {\"name\": \"Bay Area 511 AC Transit Schedule\", \"route_id\": \"681\", \"shape_id\": \"shp-681-53\", \"route_length_percentage\": 100}, {\"name\": \"Bay Area 511 AC Transit Schedule\", \"route_id\": \"682\", \"shape_id\": \"shp-682-03\", \"route_length_percentage\": 100}, {\"name\": \"Bay Area 511 AC Transit Schedule\", \"route_id\": \"682\", \"shape_id\": \"shp-682-53\", \"route_length_percentage\": 100}, {\"name\": \"Bay Area 511 AC Transit Schedule\", \"route_id\": \"684\", \"shape_id\": \"shp-684-09\", \"route_length_percentage\": 100}, {\"name\": \"Bay Area 511 AC Transit Schedule\", \"route_id\": \"684\", \"shape_id\": \"shp-684-58\", \"route_length_percentage\": 82}, {\"name\": \"Bay Area 511 AC Transit Schedule\", \"route_id\": \"684\", \"shape_id\": \"shp-684-59\", \"route_length_percentage\": 100}, {\"name\": \"Bay Area 511 AC Transit Schedule\", \"route_id\": \"687\", \"shape_id\": \"shp-687-01\", \"route_length_percentage\": 100}, {\"name\": \"Bay Area 511 AC Transit Schedule\", \"route_id\": \"687\", \"shape_id\": \"shp-687-51\", \"route_length_percentage\": 100}, {\"name\": \"Bay Area 511 AC Transit Schedule\", \"route_id\": \"688\", \"shape_id\": \"shp-688-09\", \"route_length_percentage\": 100}, {\"name\": \"Bay Area 511 AC Transit Schedule\", \"route_id\": \"688\", \"shape_id\": \"shp-688-54\", \"route_length_percentage\": 100}, {\"name\": \"Bay Area 511 AC Transit Schedule\", \"route_id\": \"696\", \"shape_id\": \"shp-696-01\", \"route_length_percentage\": 100}, {\"name\": \"Bay Area 511 AC Transit Schedule\", \"route_id\": \"696\", \"shape_id\": \"shp-696-52\", \"route_length_percentage\": 100}, {\"name\": \"Bay Area 511 AC Transit Schedule\", \"route_id\": \"7\", \"shape_id\": \"shp-7-10\", \"route_length_percentage\": 100}, {\"name\": \"Bay Area 511 AC Transit Schedule\", \"route_id\": \"7\", \"shape_id\": \"shp-7-57\", \"route_length_percentage\": 100}, {\"name\": \"Bay Area 511 AC Transit Schedule\", \"route_id\": \"70\", \"shape_id\": \"shp-70-01\", \"route_length_percentage\": 100}, {\"name\": \"Bay Area 511 AC Transit Schedule\", \"route_id\": \"70\", \"shape_id\": \"shp-70-05\", \"route_length_percentage\": 100}, {\"name\": \"Bay Area 511 AC Transit Schedule\", \"route_id\": \"701\", \"shape_id\": \"shp-701-03\", \"route_length_percentage\": 100}, {\"name\": \"Bay Area 511 AC Transit Schedule\", \"route_id\": \"702\", \"shape_id\": \"shp-702-02\", \"route_length_percentage\": 100}, {\"name\": \"Bay Area 511 AC Transit Schedule\", \"route_id\": \"703\", \"shape_id\": \"shp-703-02\", \"route_length_percentage\": 100}, {\"name\": \"Bay Area 511 AC Transit Schedule\", \"route_id\": \"706\", \"shape_id\": \"shp-706-04\", \"route_length_percentage\": 100}, {\"name\": \"Bay Area 511 AC Transit Schedule\", \"route_id\": \"707\", \"shape_id\": \"shp-707-04\", \"route_length_percentage\": 100}, {\"name\": \"Bay Area 511 AC Transit Schedule\", \"route_id\": \"71\", \"shape_id\": \"shp-71-03\", \"route_length_percentage\": 100}, {\"name\": \"Bay Area 511 AC Transit Schedule\", \"route_id\": \"71\", \"shape_id\": \"shp-71-51\", \"route_length_percentage\": 100}, {\"name\": \"Bay Area 511 AC Transit Schedule\", \"route_id\": \"72\", \"shape_id\": \"shp-72-31\", \"route_length_percentage\": 82}, {\"name\": \"Bay Area 511 AC Transit Schedule\", \"route_id\": \"72\", \"shape_id\": \"shp-72-32\", \"route_length_percentage\": 100}, {\"name\": \"Bay Area 511 AC Transit Schedule\", \"route_id\": \"72\", \"shape_id\": \"shp-72-33\", \"route_length_percentage\": 59}, {\"name\": \"Bay Area 511 AC Transit Schedule\", \"route_id\": \"72\", \"shape_id\": \"shp-72-80\", \"route_length_percentage\": 83}, {\"name\": \"Bay Area 511 AC Transit Schedule\", \"route_id\": \"72\", \"shape_id\": \"shp-72-81\", \"route_length_percentage\": 100}, {\"name\": \"Bay Area 511 AC Transit Schedule\", \"route_id\": \"72M\", \"shape_id\": \"shp-72M-47\", \"route_length_percentage\": 100}, {\"name\": \"Bay Area 511 AC Transit Schedule\", \"route_id\": \"72M\", \"shape_id\": \"shp-72M-49\", \"route_length_percentage\": 33}, {\"name\": \"Bay Area 511 AC Transit Schedule\", \"route_id\": \"72M\", \"shape_id\": \"shp-72M-62\", \"route_length_percentage\": 100}, {\"name\": \"Bay Area 511 AC Transit Schedule\", \"route_id\": \"72R\", \"shape_id\": \"shp-72R-15\", \"route_length_percentage\": 100}, {\"name\": \"Bay Area 511 AC Transit Schedule\", \"route_id\": \"72R\", \"shape_id\": \"shp-72R-58\", \"route_length_percentage\": 100}, {\"name\": \"Bay Area 511 AC Transit Schedule\", \"route_id\": \"73\", \"shape_id\": \"shp-73-01\", \"route_length_percentage\": 100}, {\"name\": \"Bay Area 511 AC Transit Schedule\", \"route_id\": \"73\", \"shape_id\": \"shp-73-51\", \"route_length_percentage\": 100}, {\"name\": \"Bay Area 511 AC Transit Schedule\", \"route_id\": \"74\", \"shape_id\": \"shp-74-01\", \"route_length_percentage\": 100}, {\"name\": \"Bay Area 511 AC Transit Schedule\", \"route_id\": \"74\", \"shape_id\": \"shp-74-56\", \"route_length_percentage\": 100}, {\"name\": \"Bay Area 511 AC Transit Schedule\", \"route_id\": \"76\", \"shape_id\": \"shp-76-06\", \"route_length_percentage\": 100}, {\"name\": \"Bay Area 511 AC Transit Schedule\", \"route_id\": \"76\", \"shape_id\": \"shp-76-08\", \"route_length_percentage\": 89}, {\"name\": \"Bay Area 511 AC Transit Schedule\", \"route_id\": \"76\", \"shape_id\": \"shp-76-09\", \"route_length_percentage\": 100}, {\"name\": \"Bay Area 511 AC Transit Schedule\", \"route_id\": \"76\", \"shape_id\": \"shp-76-10\", \"route_length_percentage\": 63}, {\"name\": \"Bay Area 511 AC Transit Schedule\", \"route_id\": \"78\", \"shape_id\": \"shp-78-03\", \"route_length_percentage\": 100}, {\"name\": \"Bay Area 511 AC Transit Schedule\", \"route_id\": \"78\", \"shape_id\": \"shp-78-04\", \"route_length_percentage\": 99}, {\"name\": \"Bay Area 511 AC Transit Schedule\", \"route_id\": \"78\", \"shape_id\": \"shp-78-52\", \"route_length_percentage\": 100}, {\"name\": \"Bay Area 511 AC Transit Schedule\", \"route_id\": \"79\", \"shape_id\": \"shp-79-08\", \"route_length_percentage\": 100}, {\"name\": \"Bay Area 511 AC Transit Schedule\", \"route_id\": \"79\", \"shape_id\": \"shp-79-55\", \"route_length_percentage\": 100}, {\"name\": \"Bay Area 511 AC Transit Schedule\", \"route_id\": \"800\", \"shape_id\": \"shp-800-29\", \"route_length_percentage\": 100}, {\"name\": \"Bay Area 511 AC Transit Schedule\", \"route_id\": \"800\", \"shape_id\": \"shp-800-73\", \"route_length_percentage\": 52}, {\"name\": \"Bay Area 511 AC Transit Schedule\", \"route_id\": \"800\", \"shape_id\": \"shp-800-A1\", \"route_length_percentage\": 51}, {\"name\": \"Bay Area 511 AC Transit Schedule\", \"route_id\": \"800\", \"shape_id\": \"shp-800-A3\", \"route_length_percentage\": 70}, {\"name\": \"Bay Area 511 AC Transit Schedule\", \"route_id\": \"800\", \"shape_id\": \"shp-800-A4\", \"route_length_percentage\": 100}, {\"name\": \"Bay Area 511 AC Transit Schedule\", \"route_id\": \"801\", \"shape_id\": \"shp-801-23\", \"route_length_percentage\": 100}, {\"name\": \"Bay Area 511 AC Transit Schedule\", \"route_id\": \"801\", \"shape_id\": \"shp-801-69\", \"route_length_percentage\": 100}, {\"name\": \"Bay Area 511 AC Transit Schedule\", \"route_id\": \"802\", \"shape_id\": \"shp-802-03\", \"route_length_percentage\": 100}, {\"name\": \"Bay Area 511 AC Transit Schedule\", \"route_id\": \"802\", \"shape_id\": \"shp-802-10\", \"route_length_percentage\": 100}, {\"name\": \"Bay Area 511 AC Transit Schedule\", \"route_id\": \"802\", \"shape_id\": \"shp-802-11\", \"route_length_percentage\": 89}, {\"name\": \"Bay Area 511 AC Transit Schedule\", \"route_id\": \"805\", \"shape_id\": \"shp-805-06\", \"route_length_percentage\": 100}, {\"name\": \"Bay Area 511 AC Transit Schedule\", \"route_id\": \"805\", \"shape_id\": \"shp-805-20\", \"route_length_percentage\": 56}, {\"name\": \"Bay Area 511 AC Transit Schedule\", \"route_id\": \"805\", \"shape_id\": \"shp-805-21\", \"route_length_percentage\": 100}, {\"name\": \"Bay Area 511 AC Transit Schedule\", \"route_id\": \"840\", \"shape_id\": \"shp-840-12\", \"route_length_percentage\": 100}, {\"name\": \"Bay Area 511 AC Transit Schedule\", \"route_id\": \"840\", \"shape_id\": \"shp-840-55\", \"route_length_percentage\": 100}, {\"name\": \"Bay Area 511 AC Transit Schedule\", \"route_id\": \"851\", \"shape_id\": \"shp-851-13\", \"route_length_percentage\": 100}, {\"name\": \"Bay Area 511 AC Transit Schedule\", \"route_id\": \"851\", \"shape_id\": \"shp-851-57\", \"route_length_percentage\": 100}, {\"name\": \"Bay Area 511 AC Transit Schedule\", \"route_id\": \"86\", \"shape_id\": \"shp-86-01\", \"route_length_percentage\": 100}, {\"name\": \"Bay Area 511 AC Transit Schedule\", \"route_id\": \"86\", \"shape_id\": \"shp-86-02\", \"route_length_percentage\": 33}, {\"name\": \"Bay Area 511 AC Transit Schedule\", \"route_id\": \"86\", \"shape_id\": \"shp-86-51\", \"route_length_percentage\": 100}, {\"name\": \"Bay Area 511 AC Transit Schedule\", \"route_id\": \"86\", \"shape_id\": \"shp-86-52\", \"route_length_percentage\": 33}, {\"name\": \"Bay Area 511 AC Transit Schedule\", \"route_id\": \"88\", \"shape_id\": \"shp-88-10\", \"route_length_percentage\": 100}, {\"name\": \"Bay Area 511 AC Transit Schedule\", \"route_id\": \"88\", \"shape_id\": \"shp-88-11\", \"route_length_percentage\": 100}, {\"name\": \"Bay Area 511 AC Transit Schedule\", \"route_id\": \"90\", \"shape_id\": \"shp-90-02\", \"route_length_percentage\": 100}, {\"name\": \"Bay Area 511 AC Transit Schedule\", \"route_id\": \"90\", \"shape_id\": \"shp-90-54\", \"route_length_percentage\": 100}, {\"name\": \"Bay Area 511 AC Transit Schedule\", \"route_id\": \"93\", \"shape_id\": \"shp-93-10\", \"route_length_percentage\": 71}, {\"name\": \"Bay Area 511 AC Transit Schedule\", \"route_id\": \"93\", \"shape_id\": \"shp-93-11\", \"route_length_percentage\": 100}, {\"name\": \"Bay Area 511 AC Transit Schedule\", \"route_id\": \"93\", \"shape_id\": \"shp-93-57\", \"route_length_percentage\": 100}, {\"name\": \"Bay Area 511 AC Transit Schedule\", \"route_id\": \"95\", \"shape_id\": \"shp-95-03\", \"route_length_percentage\": 55}, {\"name\": \"Bay Area 511 AC Transit Schedule\", \"route_id\": \"95\", \"shape_id\": \"shp-95-07\", \"route_length_percentage\": 62}, {\"name\": \"Bay Area 511 AC Transit Schedule\", \"route_id\": \"95\", \"shape_id\": \"shp-95-09\", \"route_length_percentage\": 100}, {\"name\": \"Bay Area 511 AC Transit Schedule\", \"route_id\": \"95\", \"shape_id\": \"shp-95-53\", \"route_length_percentage\": 100}, {\"name\": \"Bay Area 511 AC Transit Schedule\", \"route_id\": \"96\", \"shape_id\": \"shp-96-09\", \"route_length_percentage\": 100}, {\"name\": \"Bay Area 511 AC Transit Schedule\", \"route_id\": \"96\", \"shape_id\": \"shp-96-58\", \"route_length_percentage\": 100}, {\"name\": \"Bay Area 511 AC Transit Schedule\", \"route_id\": \"97\", \"shape_id\": \"shp-97-10\", \"route_length_percentage\": 100}, {\"name\": \"Bay Area 511 AC Transit Schedule\", \"route_id\": \"97\", \"shape_id\": \"shp-97-11\", \"route_length_percentage\": 26}, {\"name\": \"Bay Area 511 AC Transit Schedule\", \"route_id\": \"97\", \"shape_id\": \"shp-97-12\", \"route_length_percentage\": 55}, {\"name\": \"Bay Area 511 AC Transit Schedule\", \"route_id\": \"97\", \"shape_id\": \"shp-97-57\", \"route_length_percentage\": 100}, {\"name\": \"Bay Area 511 AC Transit Schedule\", \"route_id\": \"98\", \"shape_id\": \"shp-98-02\", \"route_length_percentage\": 100}, {\"name\": \"Bay Area 511 AC Transit Schedule\", \"route_id\": \"98\", \"shape_id\": \"shp-98-52\", \"route_length_percentage\": 100}, {\"name\": \"Bay Area 511 AC Transit Schedule\", \"route_id\": \"99\", \"shape_id\": \"shp-99-11\", \"route_length_percentage\": 100}, {\"name\": \"Bay Area 511 AC Transit Schedule\", \"route_id\": \"99\", \"shape_id\": \"shp-99-56\", \"route_length_percentage\": 100}, {\"name\": \"Bay Area 511 AC Transit Schedule\", \"route_id\": \"E\", \"shape_id\": \"shp-E-04\", \"route_length_percentage\": 100}, {\"name\": \"Bay Area 511 AC Transit Schedule\", \"route_id\": \"E\", \"shape_id\": \"shp-E-53\", \"route_length_percentage\": 100}, {\"name\": \"Bay Area 511 AC Transit Schedule\", \"route_id\": \"F\", \"shape_id\": \"shp-F-19\", \"route_length_percentage\": 90}, {\"name\": \"Bay Area 511 AC Transit Schedule\", \"route_id\": \"F\", \"shape_id\": \"shp-F-24\", \"route_length_percentage\": 100}, {\"name\": \"Bay Area 511 AC Transit Schedule\", \"route_id\": \"F\", \"shape_id\": \"shp-F-72\", \"route_length_percentage\": 89}, {\"name\": \"Bay Area 511 AC Transit Schedule\", \"route_id\": \"F\", \"shape_id\": \"shp-F-73\", \"route_length_percentage\": 100}, {\"name\": \"Bay Area 511 AC Transit Schedule\", \"route_id\": \"FS\", \"shape_id\": \"shp-FS-06\", \"route_length_percentage\": 100}, {\"name\": \"Bay Area 511 AC Transit Schedule\", \"route_id\": \"FS\", \"shape_id\": \"shp-FS-54\", \"route_length_percentage\": 100}, {\"name\": \"Bay Area 511 AC Transit Schedule\", \"route_id\": \"G\", \"shape_id\": \"shp-G-06\", \"route_length_percentage\": 100}, {\"name\": \"Bay Area 511 AC Transit Schedule\", \"route_id\": \"G\", \"shape_id\": \"shp-G-54\", \"route_length_percentage\": 100}, {\"name\": \"Bay Area 511 AC Transit Schedule\", \"route_id\": \"J\", \"shape_id\": \"shp-J-07\", \"route_length_percentage\": 100}, {\"name\": \"Bay Area 511 AC Transit Schedule\", \"route_id\": \"J\", \"shape_id\": \"shp-J-54\", \"route_length_percentage\": 100}, {\"name\": \"Bay Area 511 AC Transit Schedule\", \"route_id\": \"L\", \"shape_id\": \"shp-L-08\", \"route_length_percentage\": 100}, {\"name\": \"Bay Area 511 AC Transit Schedule\", \"route_id\": \"L\", \"shape_id\": \"shp-L-56\", \"route_length_percentage\": 100}, {\"name\": \"Bay Area 511 AC Transit Schedule\", \"route_id\": \"LA\", \"shape_id\": \"shp-LA-13\", \"route_length_percentage\": 100}, {\"name\": \"Bay Area 511 AC Transit Schedule\", \"route_id\": \"LA\", \"shape_id\": \"shp-LA-62\", \"route_length_percentage\": 100}, {\"name\": \"Bay Area 511 AC Transit Schedule\", \"route_id\": \"NL\", \"shape_id\": \"shp-NL-12\", \"route_length_percentage\": 100}, {\"name\": \"Bay Area 511 AC Transit Schedule\", \"route_id\": \"NL\", \"shape_id\": \"shp-NL-58\", \"route_length_percentage\": 100}, {\"name\": \"Bay Area 511 AC Transit Schedule\", \"route_id\": \"NX\", \"shape_id\": \"shp-NX-08\", \"route_length_percentage\": 100}, {\"name\": \"Bay Area 511 AC Transit Schedule\", \"route_id\": \"NX\", \"shape_id\": \"shp-NX-52\", \"route_length_percentage\": 100}, {\"name\": \"Bay Area 511 AC Transit Schedule\", \"route_id\": \"NX3\", \"shape_id\": \"shp-NX3-08\", \"route_length_percentage\": 100}, {\"name\": \"Bay Area 511 AC Transit Schedule\", \"route_id\": \"NX3\", \"shape_id\": \"shp-NX3-56\", \"route_length_percentage\": 100}, {\"name\": \"Bay Area 511 AC Transit Schedule\", \"route_id\": \"O\", \"shape_id\": \"shp-O-03\", \"route_length_percentage\": 100}, {\"name\": \"Bay Area 511 AC Transit Schedule\", \"route_id\": \"O\", \"shape_id\": \"shp-O-53\", \"route_length_percentage\": 100}, {\"name\": \"Bay Area 511 AC Transit Schedule\", \"route_id\": \"OX\", \"shape_id\": \"shp-OX-03\", \"route_length_percentage\": 100}, {\"name\": \"Bay Area 511 AC Transit Schedule\", \"route_id\": \"OX\", \"shape_id\": \"shp-OX-53\", \"route_length_percentage\": 100}, {\"name\": \"Bay Area 511 AC Transit Schedule\", \"route_id\": \"P\", \"shape_id\": \"shp-P-05\", \"route_length_percentage\": 100}, {\"name\": \"Bay Area 511 AC Transit Schedule\", \"route_id\": \"P\", \"shape_id\": \"shp-P-54\", \"route_length_percentage\": 100}, {\"name\": \"Bay Area 511 AC Transit Schedule\", \"route_id\": \"U\", \"shape_id\": \"shp-U-08\", \"route_length_percentage\": 100}, {\"name\": \"Bay Area 511 AC Transit Schedule\", \"route_id\": \"U\", \"shape_id\": \"shp-U-56\", \"route_length_percentage\": 100}, {\"name\": \"Bay Area 511 AC Transit Schedule\", \"route_id\": \"V\", \"shape_id\": \"shp-V-07\", \"route_length_percentage\": 100}, {\"name\": \"Bay Area 511 AC Transit Schedule\", \"route_id\": \"V\", \"shape_id\": \"shp-V-53\", \"route_length_percentage\": 100}, {\"name\": \"Bay Area 511 AC Transit Schedule\", \"route_id\": \"W\", \"shape_id\": \"shp-W-06\", \"route_length_percentage\": 100}, {\"name\": \"Bay Area 511 AC Transit Schedule\", \"route_id\": \"W\", \"shape_id\": \"shp-W-07\", \"route_length_percentage\": 100}]}}, {\"mode\": \"vega-lite\"});\n",
       "</script>"
      ],
      "text/plain": [
       "alt.Chart(...)"
      ]
     },
     "execution_count": 131,
     "metadata": {},
     "output_type": "execute_result"
    }
   ],
   "source": [
    "(\n",
    "        alt.Chart(ac)\n",
    "        .mark_boxplot(extent=\"min-max\")\n",
    "        .encode(\n",
    "            x=\"route_id:N\",\n",
    "            y=\"route_length_percentage:Q\",\n",
    "            color=alt.Color(\n",
    "                \"route_id\",\n",
    "                scale=alt.Scale(range=cp.CALITP_CATEGORY_BRIGHT_COLORS),\n",
    "                legend=None,\n",
    "            ),\n",
    "        )\n",
    "    ).properties(title=f\"AC Test\")\n",
    "\n"
   ]
  }
 ],
 "metadata": {
  "kernelspec": {
   "display_name": "Python 3 (ipykernel)",
   "language": "python",
   "name": "python3"
  },
  "language_info": {
   "codemirror_mode": {
    "name": "ipython",
    "version": 3
   },
   "file_extension": ".py",
   "mimetype": "text/x-python",
   "name": "python",
   "nbconvert_exporter": "python",
   "pygments_lexer": "ipython3",
   "version": "3.9.13"
  }
 },
 "nbformat": 4,
 "nbformat_minor": 5
}
