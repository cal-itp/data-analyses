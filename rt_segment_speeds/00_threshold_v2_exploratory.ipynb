{
 "cells": [
  {
   "cell_type": "markdown",
   "id": "c450f634-0491-4db2-b9d3-89dd1fb95ed9",
   "metadata": {},
   "source": [
    "## V2 "
   ]
  },
  {
   "cell_type": "code",
   "execution_count": 1,
   "id": "3db029d5-1c34-4d01-b902-a44e011450ba",
   "metadata": {},
   "outputs": [
    {
     "name": "stderr",
     "output_type": "stream",
     "text": [
      "/opt/conda/lib/python3.9/site-packages/geopandas/_compat.py:123: UserWarning: The Shapely GEOS version (3.10.3-CAPI-1.16.1) is incompatible with the GEOS version PyGEOS was compiled with (3.10.1-CAPI-1.16.0). Conversions between both will be slow.\n",
      "  warnings.warn(\n"
     ]
    }
   ],
   "source": [
    "import geopandas as gpd\n",
    "import numpy as np\n",
    "import pandas as pd\n",
    "from calitp.sql import to_snakecase"
   ]
  },
  {
   "cell_type": "code",
   "execution_count": 2,
   "id": "a70f5b1e-8d59-4fc1-9929-5d5068dff17c",
   "metadata": {},
   "outputs": [],
   "source": [
    "import altair as alt\n",
    "import threshold_utils\n",
    "from shared_utils import calitp_color_palette as cp\n",
    "from shared_utils import geography_utils, rt_utils, styleguide, utils"
   ]
  },
  {
   "cell_type": "code",
   "execution_count": 3,
   "id": "f286f377-8906-4956-882a-6c5ca5a98ab7",
   "metadata": {},
   "outputs": [],
   "source": [
    "import intake\n",
    "\n",
    "catalog = intake.open_catalog(\"./catalog_threshold.yml\")"
   ]
  },
  {
   "cell_type": "code",
   "execution_count": 4,
   "id": "b5d3300c-7b1d-42c1-8240-117d1240a98d",
   "metadata": {},
   "outputs": [],
   "source": [
    "pd.options.display.max_columns = 100\n",
    "pd.options.display.float_format = \"{:.2f}\".format\n",
    "pd.set_option(\"display.max_rows\", None)\n",
    "pd.set_option(\"display.max_colwidth\", None)"
   ]
  },
  {
   "cell_type": "markdown",
   "id": "1a241e12-1d0c-4f22-8b32-c8af8ca37ff6",
   "metadata": {
    "tags": []
   },
   "source": [
    "### Tests\n",
    "* Keep name? "
   ]
  },
  {
   "cell_type": "code",
   "execution_count": 5,
   "id": "0230e293-17ff-4661-ae36-7e0ca7426213",
   "metadata": {},
   "outputs": [],
   "source": [
    "# Keep name?\n",
    "def clean_trips():\n",
    "    df = catalog.trips.read()\n",
    "\n",
    "    subset = [\n",
    "        \"feed_key\",\n",
    "        \"name\",\n",
    "        \"route_id\",\n",
    "        \"direction_id\",\n",
    "        \"shape_id\",\n",
    "    ]\n",
    "\n",
    "    df = df[subset]\n",
    "\n",
    "    df = df.drop_duplicates().reset_index(drop=True)\n",
    "\n",
    "    return df"
   ]
  },
  {
   "cell_type": "code",
   "execution_count": 6,
   "id": "018f4120-2c7c-4599-b8b6-2cf430485c6d",
   "metadata": {},
   "outputs": [],
   "source": [
    "# trips = clean_trips()"
   ]
  },
  {
   "cell_type": "code",
   "execution_count": 7,
   "id": "3c1277ff-e9b6-4baa-a67d-7843180ffa10",
   "metadata": {},
   "outputs": [],
   "source": [
    "# trips.sample()"
   ]
  },
  {
   "cell_type": "markdown",
   "id": "16886e05-b4a8-4dd7-9554-cb81d74808b5",
   "metadata": {},
   "source": [
    "* n_trips means the number of trips this particular variation of a route ran that day?"
   ]
  },
  {
   "cell_type": "code",
   "execution_count": 8,
   "id": "8649368d-52af-4da8-9838-28ee24def9ef",
   "metadata": {},
   "outputs": [],
   "source": [
    "def clean_routelines():\n",
    "    df = catalog.route_lines.read()\n",
    "\n",
    "    # Drop shape array key? Drop n_trips?\n",
    "    df = df.drop(columns=[\"shape_array_key\"])\n",
    "    df = (df.drop_duplicates()).reset_index(drop=True)\n",
    "\n",
    "    # Calculate length of geometry\n",
    "    df = df.assign(actual_route_length=(df.geometry.length))\n",
    "\n",
    "    return df"
   ]
  },
  {
   "cell_type": "code",
   "execution_count": 9,
   "id": "3515dc6e-219e-4e28-8f3d-9c37abedb5c7",
   "metadata": {},
   "outputs": [],
   "source": [
    "# routelines = clean_routelines()"
   ]
  },
  {
   "cell_type": "code",
   "execution_count": 10,
   "id": "8d413dca-d441-40f0-b187-6aae987ae009",
   "metadata": {},
   "outputs": [],
   "source": [
    "# routelines.drop(columns = ['geometry']).sample(5)"
   ]
  },
  {
   "cell_type": "code",
   "execution_count": 11,
   "id": "d597d505-71be-47e8-9ff6-0a52788fceaf",
   "metadata": {
    "scrolled": true,
    "tags": []
   },
   "outputs": [],
   "source": [
    "def clean_longest_shape():\n",
    "    df = catalog.longest_shape.read()\n",
    "\n",
    "    df = df.rename(columns={\"route_length\": \"longest_route_length\"})\n",
    "\n",
    "    return df"
   ]
  },
  {
   "cell_type": "code",
   "execution_count": 12,
   "id": "a95cbfc8-77fa-442b-a06d-ce01d7be0b81",
   "metadata": {},
   "outputs": [],
   "source": [
    "# longest_shape = clean_longest_shape()"
   ]
  },
  {
   "cell_type": "code",
   "execution_count": 13,
   "id": "9cd5165a-f032-4db2-81c8-260436dd5eea",
   "metadata": {},
   "outputs": [],
   "source": [
    "# Drop name?\n",
    "# crosswalk = catalog.crosswalk.read()"
   ]
  },
  {
   "cell_type": "code",
   "execution_count": 14,
   "id": "788daad6-31f9-4cc9-a2ed-e56481bd50ec",
   "metadata": {},
   "outputs": [],
   "source": [
    "# crosswalk.sample()"
   ]
  },
  {
   "cell_type": "code",
   "execution_count": 15,
   "id": "f6f4dc5d-0ab1-4b16-89c5-21dbedef65ee",
   "metadata": {},
   "outputs": [],
   "source": [
    "# Get outer merge counts including name\n",
    "# pd.merge(trips, crosswalk, how=\"outer\",\n",
    "#         on = [\"name\",\"feed_key\", \"route_id\", \"direction_id\"],\n",
    "#         indicator=True)[[\"_merge\"]].value_counts()"
   ]
  },
  {
   "cell_type": "code",
   "execution_count": 16,
   "id": "7ef567aa-2b21-42a0-b406-6fd57a66b232",
   "metadata": {},
   "outputs": [],
   "source": [
    "# Get outer merge counts excluding name\n",
    "# pd.merge(trips, crosswalk, how=\"outer\",\n",
    "#         on = [\"feed_key\", \"route_id\", \"direction_id\"],\n",
    "#         indicator=True)[[\"_merge\"]].value_counts()"
   ]
  },
  {
   "cell_type": "code",
   "execution_count": 17,
   "id": "6c6c86c3-1410-4655-a7ce-70eca2ca9ea7",
   "metadata": {},
   "outputs": [],
   "source": [
    "# m1 = trips.merge(crosswalk, how=\"inner\", on=[\"feed_key\", \"route_id\", \"name\", \"direction_id\"])"
   ]
  },
  {
   "cell_type": "code",
   "execution_count": 18,
   "id": "9c22327e-d45b-4ad9-b917-09ceb5b68221",
   "metadata": {
    "scrolled": true,
    "tags": []
   },
   "outputs": [],
   "source": [
    "# routelines.sample()"
   ]
  },
  {
   "cell_type": "code",
   "execution_count": 19,
   "id": "23d76e1c-8cda-4ac1-acd5-b7d7db76c1ab",
   "metadata": {},
   "outputs": [],
   "source": [
    "# m2 = m1.merge(routelines, how=\"inner\", on=[\"feed_key\", \"shape_id\"])"
   ]
  },
  {
   "cell_type": "markdown",
   "id": "46853d5b-321f-4144-a680-ffb59b7c7d2a",
   "metadata": {},
   "source": [
    "* If it's preferable to merge on `gtfs_dataset_key` is it also ok to merge on `feed_key?`\n",
    "* Did outer joins including and excluding `feed_key` and it didn't seem to matter."
   ]
  },
  {
   "cell_type": "code",
   "execution_count": 20,
   "id": "38dea10e-c78a-40a5-b4fd-ea29c855b2a6",
   "metadata": {},
   "outputs": [
    {
     "data": {
      "text/plain": [
       "'\\nm3 = m2.merge(longest_shape.drop(columns = [\"geometry\"]),\\n              how=\"inner\", on=[\"feed_key\", \"gtfs_dataset_key\", \"direction_id\",\\n                               \"route_id\",\"route_dir_identifier\", \"name\"])'"
      ]
     },
     "execution_count": 20,
     "metadata": {},
     "output_type": "execute_result"
    }
   ],
   "source": [
    "\"\"\"\n",
    "m3 = m2.merge(longest_shape.drop(columns = [\"geometry\"]),\n",
    "              how=\"inner\", on=[\"feed_key\", \"gtfs_dataset_key\", \"direction_id\",\n",
    "                               \"route_id\",\"route_dir_identifier\", \"name\"])\"\"\""
   ]
  },
  {
   "cell_type": "code",
   "execution_count": 21,
   "id": "19c0e034-7294-47d1-ab45-e40370d1447f",
   "metadata": {},
   "outputs": [
    {
     "data": {
      "text/plain": [
       "'m3[\"route_length_percentage\"] = (\\n        (m3.actual_route_length / m3.longest_route_length) * 100\\n    ).astype(int)'"
      ]
     },
     "execution_count": 21,
     "metadata": {},
     "output_type": "execute_result"
    }
   ],
   "source": [
    "\"\"\"m3[\"route_length_percentage\"] = (\n",
    "        (m3.actual_route_length / m3.longest_route_length) * 100\n",
    "    ).astype(int)\"\"\""
   ]
  },
  {
   "cell_type": "code",
   "execution_count": 22,
   "id": "0de28b93-fff7-4766-ad81-b7e9a774e3fc",
   "metadata": {
    "tags": []
   },
   "outputs": [],
   "source": [
    "# m3.sample(3).drop(columns = ['geometry','geometry_arrowized'])"
   ]
  },
  {
   "cell_type": "code",
   "execution_count": 23,
   "id": "46e4e5c1-3033-4d11-8173-5bfef37efa12",
   "metadata": {},
   "outputs": [],
   "source": [
    "# m3.gtfs_dataset_key.nunique(), m3.name.nunique()"
   ]
  },
  {
   "cell_type": "code",
   "execution_count": 24,
   "id": "7f6f21e6-8d7a-46b5-955b-7bdb5b1cfd7e",
   "metadata": {},
   "outputs": [
    {
     "data": {
      "text/plain": [
       "' m4 = (\\n        m3.groupby(\\n            [\\n                \"route_id\",\\n                \"name\",\\n                \"gtfs_dataset_key\",\\n                \"route_dir_identifier\",\\n                \"shape_id\",\\n                \"longest_shape_id\",\\n                \"route_length_percentage\",\\n            ]\\n        )\\n        .agg({\"segment_sequence\": \"count\"})\\n        .rename(columns={\"segment_sequence\": \"total_segments\"})\\n        .reset_index()\\n    )'"
      ]
     },
     "execution_count": 24,
     "metadata": {},
     "output_type": "execute_result"
    }
   ],
   "source": [
    "\"\"\" m4 = (\n",
    "        m3.groupby(\n",
    "            [\n",
    "                \"route_id\",\n",
    "                \"name\",\n",
    "                \"gtfs_dataset_key\",\n",
    "                \"route_dir_identifier\",\n",
    "                \"shape_id\",\n",
    "                \"longest_shape_id\",\n",
    "                \"route_length_percentage\",\n",
    "            ]\n",
    "        )\n",
    "        .agg({\"segment_sequence\": \"count\"})\n",
    "        .rename(columns={\"segment_sequence\": \"total_segments\"})\n",
    "        .reset_index()\n",
    "    )\"\"\""
   ]
  },
  {
   "cell_type": "markdown",
   "id": "4433c208-fada-47b5-b56c-8e4b8e6515bc",
   "metadata": {},
   "source": [
    "### Function\n",
    "* Best way is using `gtfs_dataset_key` or `name`?"
   ]
  },
  {
   "cell_type": "code",
   "execution_count": 25,
   "id": "c3b513ee-38da-486f-9906-ee492de87759",
   "metadata": {},
   "outputs": [],
   "source": [
    "def merge_trips_routes_longest_shape():\n",
    "    trips = clean_trips()\n",
    "    crosswalk = catalog.crosswalk.read()\n",
    "    routelines = clean_routelines()\n",
    "    longest_shape = clean_longest_shape()\n",
    "\n",
    "    m1 = (\n",
    "        trips.merge(\n",
    "            crosswalk, how=\"inner\", on=[\"feed_key\", \"route_id\", \"name\", \"direction_id\"]\n",
    "        )\n",
    "        .merge(routelines, how=\"inner\", on=[\"feed_key\", \"shape_id\"])\n",
    "        .merge(\n",
    "            longest_shape.drop(columns=[\"geometry\"]),\n",
    "            how=\"inner\",\n",
    "            on=[\n",
    "                \"feed_key\",\n",
    "                \"gtfs_dataset_key\",\n",
    "                \"direction_id\",\n",
    "                \"route_id\",\n",
    "                \"route_dir_identifier\",\n",
    "                \"name\",\n",
    "            ],\n",
    "        )\n",
    "    )\n",
    "\n",
    "    # Calculate out proportion of route length against longest.\n",
    "    m1[\"route_length_percentage\"] = (\n",
    "        (m1[\"actual_route_length\"] / m1[\"longest_route_length\"]) * 100\n",
    "    ).astype(int)\n",
    "\n",
    "    # Count number of segments that appear in the longest shape.\n",
    "    m1 = (\n",
    "        m1.groupby(\n",
    "            [\n",
    "                \"route_id\",\n",
    "                \"name\",\n",
    "                \"gtfs_dataset_key\",\n",
    "                \"route_dir_identifier\",\n",
    "                \"shape_id\",\n",
    "                \"longest_shape_id\",\n",
    "                \"route_length_percentage\",\n",
    "            ]\n",
    "        )\n",
    "        .agg({\"segment_sequence\": \"count\"})\n",
    "        .rename(columns={\"segment_sequence\": \"total_segments\"})\n",
    "        .reset_index()\n",
    "    )\n",
    "\n",
    "    return m1"
   ]
  },
  {
   "cell_type": "code",
   "execution_count": 26,
   "id": "d1b75151-c3a2-47c4-a5d4-40c9bd49756d",
   "metadata": {},
   "outputs": [],
   "source": [
    "def calculate_longest_shape(operator: str):\n",
    "    \"\"\"\n",
    "    Get total segments of the longest shape and\n",
    "    shape_id's length compared to the longest\n",
    "    shape_id's length for a route.\n",
    "    \"\"\"\n",
    "    df = merge_trips_routes_longest_shape()\n",
    "\n",
    "    df = df.loc[df.name == operator].reset_index(drop=True)\n",
    "\n",
    "    agg = (\n",
    "        df.groupby([\"name\", \"route_id\", \"shape_id\"])\n",
    "        .agg({\"route_length_percentage\": \"max\"})\n",
    "        .reset_index()\n",
    "    )\n",
    "\n",
    "    return agg"
   ]
  },
  {
   "cell_type": "code",
   "execution_count": 27,
   "id": "1e3f5846-0d57-4ecb-898d-adc78c503a2a",
   "metadata": {},
   "outputs": [],
   "source": [
    "def summary_stats_route_length():\n",
    "    \"\"\"\n",
    "    Get mean, median, max, and min\n",
    "    of route length for each operator\n",
    "    \"\"\"\n",
    "    df = merge_trips_routes_longest_shape()\n",
    "\n",
    "    df = (\n",
    "        df.groupby([\"name\", \"route_id\", \"shape_id\"])\n",
    "        .agg({\"route_length_percentage\": \"max\"})\n",
    "        .reset_index()\n",
    "    )\n",
    "\n",
    "    df = (\n",
    "        df.groupby(\"name\")\n",
    "        .agg({\"route_length_percentage\": [\"mean\", \"median\", \"min\", \"max\"]})\n",
    "        .reset_index()\n",
    "    )\n",
    "\n",
    "    df.columns = df.columns.droplevel()\n",
    "\n",
    "    df = df.rename(columns={\"\": \"Name\"})\n",
    "\n",
    "    df = pd.melt(df, id_vars=[\"Name\"], value_vars=[\"mean\", \"median\", \"min\", \"max\"])\n",
    "\n",
    "    df.variable = df.variable.str.title()\n",
    "\n",
    "    return df"
   ]
  },
  {
   "cell_type": "code",
   "execution_count": 28,
   "id": "0218e39d-b8a5-4a8d-adb9-eee111d5c24f",
   "metadata": {},
   "outputs": [],
   "source": [
    "route_length = summary_stats_route_length()"
   ]
  },
  {
   "cell_type": "code",
   "execution_count": 29,
   "id": "fc03a9fc-2d83-47a4-bcf8-028250c30130",
   "metadata": {},
   "outputs": [],
   "source": [
    "# route_length = pd.melt(route_length, id_vars=['Name'], value_vars=['mean', 'median','min','max'])"
   ]
  },
  {
   "cell_type": "markdown",
   "id": "bc8fb69c-10cd-4ca3-b770-f4c7d08f2882",
   "metadata": {},
   "source": [
    "### Operator"
   ]
  },
  {
   "cell_type": "markdown",
   "id": "163d2658-015e-4eaf-9af7-b680f6e4cd2e",
   "metadata": {},
   "source": [
    "* just 1 boxplot or dot plot for the operator for scheduled shapes % route length\n",
    "* i've also pared back the summary stats to accompany each chart (just the crucial stuff)\n",
    "* only allow altair selection on operator, not time or segment, i'm not going to remember what it is moving from selection to selection, so i'd rather see it at once. \n",
    "    * Thought the workflow would be running per operator as opposed to running all operators and selecting from the dropdown menu?\n",
    "    * If the dropdown menu should be operator -> have to combine all the dataframes together.\n",
    "* if you find it too crowded, i suggest paring down what's * included in SEGMENT_CUTOFFS ....likely we're never going to go up to 0.9, so you can probably scale it back\n",
    "* continue with the alt.vconcat, but i want the single boxplot or dotplot to be aligned the same way as the bar\n",
    "the table can be printed below (outside of the charts) if that's easier\n",
    "    * Clarify? "
   ]
  },
  {
   "cell_type": "markdown",
   "id": "fa84a305-a37c-4742-a7aa-e4d568704e85",
   "metadata": {},
   "source": [
    "* Box plot looks super bare."
   ]
  },
  {
   "cell_type": "markdown",
   "id": "ea62523a-f6c5-4d1f-9b23-e51ea64968b8",
   "metadata": {},
   "source": [
    "#### Shape ID vs. Longest Shape ID Lengths "
   ]
  },
  {
   "cell_type": "code",
   "execution_count": 30,
   "id": "fa220922-fc99-41c3-8218-6eb1cec32885",
   "metadata": {},
   "outputs": [],
   "source": [
    "def length_comparison_dot(df):\n",
    "\n",
    "    df = threshold_utils.clean_up_columns(df)\n",
    "\n",
    "    # Dropdown menu 1\n",
    "    dropdown1 = alt.binding_select(\n",
    "        options=df[\"Name\"].sort_values().unique().tolist(), name=\"Name\"\n",
    "    )\n",
    "    selection1 = alt.selection_single(fields=[\"Name\"], bind=dropdown1)\n",
    "\n",
    "    chart = (\n",
    "        alt.Chart(df, width=5)\n",
    "        .mark_circle(size=200)\n",
    "        .encode(\n",
    "            x=alt.X(\n",
    "                \"jitter:Q\",\n",
    "                title=None,\n",
    "                axis=alt.Axis(values=[0], ticks=False, grid=False, labels=False),\n",
    "                scale=alt.Scale(),\n",
    "            ),\n",
    "            y=alt.Y(\"Value:Q\"),\n",
    "            color=alt.Color(\n",
    "                \"Variable:N\",\n",
    "                scale=alt.Scale(range=cp.CALITP_CATEGORY_BRIGHT_COLORS),\n",
    "                legend=None,\n",
    "            ),\n",
    "            tooltip=[\n",
    "                \"Name\",\n",
    "                \"Variable\",\n",
    "                \"Value\",\n",
    "            ],\n",
    "            column=alt.Column(\n",
    "                \"Name:N\",\n",
    "                header=alt.Header(\n",
    "                    labelAngle=90,\n",
    "                    titleOrient=\"top\",\n",
    "                    labelOrient=\"bottom\",\n",
    "                    labelAlign=\"right\",\n",
    "                    labelPadding=2,\n",
    "                ),\n",
    "            ),\n",
    "        )\n",
    "        .transform_calculate(\n",
    "            # Generate Gaussian jitter with a Box-Muller transform\n",
    "            jitter=\"sqrt(-2*log(random()))*cos(2*PI*random())\"\n",
    "        )\n",
    "        .configure_facet(spacing=0)\n",
    "        .configure_view(stroke=None)\n",
    "        .properties(title=f\"Routes by Length for Operator\")\n",
    "        .add_selection(selection1)\n",
    "        .transform_filter(selection1)\n",
    "    )\n",
    "    return chart"
   ]
  },
  {
   "cell_type": "code",
   "execution_count": 31,
   "id": "3436f979-63da-4a16-a06f-e26701465bfb",
   "metadata": {},
   "outputs": [
    {
     "data": {
      "text/html": [
       "\n",
       "<div id=\"altair-viz-ad9072316ba94b9ab274895f76f88eda\"></div>\n",
       "<script type=\"text/javascript\">\n",
       "  var VEGA_DEBUG = (typeof VEGA_DEBUG == \"undefined\") ? {} : VEGA_DEBUG;\n",
       "  (function(spec, embedOpt){\n",
       "    let outputDiv = document.currentScript.previousElementSibling;\n",
       "    if (outputDiv.id !== \"altair-viz-ad9072316ba94b9ab274895f76f88eda\") {\n",
       "      outputDiv = document.getElementById(\"altair-viz-ad9072316ba94b9ab274895f76f88eda\");\n",
       "    }\n",
       "    const paths = {\n",
       "      \"vega\": \"https://cdn.jsdelivr.net/npm//vega@5?noext\",\n",
       "      \"vega-lib\": \"https://cdn.jsdelivr.net/npm//vega-lib?noext\",\n",
       "      \"vega-lite\": \"https://cdn.jsdelivr.net/npm//vega-lite@4.17.0?noext\",\n",
       "      \"vega-embed\": \"https://cdn.jsdelivr.net/npm//vega-embed@6?noext\",\n",
       "    };\n",
       "\n",
       "    function maybeLoadScript(lib, version) {\n",
       "      var key = `${lib.replace(\"-\", \"\")}_version`;\n",
       "      return (VEGA_DEBUG[key] == version) ?\n",
       "        Promise.resolve(paths[lib]) :\n",
       "        new Promise(function(resolve, reject) {\n",
       "          var s = document.createElement('script');\n",
       "          document.getElementsByTagName(\"head\")[0].appendChild(s);\n",
       "          s.async = true;\n",
       "          s.onload = () => {\n",
       "            VEGA_DEBUG[key] = version;\n",
       "            return resolve(paths[lib]);\n",
       "          };\n",
       "          s.onerror = () => reject(`Error loading script: ${paths[lib]}`);\n",
       "          s.src = paths[lib];\n",
       "        });\n",
       "    }\n",
       "\n",
       "    function showError(err) {\n",
       "      outputDiv.innerHTML = `<div class=\"error\" style=\"color:red;\">${err}</div>`;\n",
       "      throw err;\n",
       "    }\n",
       "\n",
       "    function displayChart(vegaEmbed) {\n",
       "      vegaEmbed(outputDiv, spec, embedOpt)\n",
       "        .catch(err => showError(`Javascript Error: ${err.message}<br>This usually means there's a typo in your chart specification. See the javascript console for the full traceback.`));\n",
       "    }\n",
       "\n",
       "    if(typeof define === \"function\" && define.amd) {\n",
       "      requirejs.config({paths});\n",
       "      require([\"vega-embed\"], displayChart, err => showError(`Error loading script: ${err.message}`));\n",
       "    } else {\n",
       "      maybeLoadScript(\"vega\", \"5\")\n",
       "        .then(() => maybeLoadScript(\"vega-lite\", \"4.17.0\"))\n",
       "        .then(() => maybeLoadScript(\"vega-embed\", \"6\"))\n",
       "        .catch(showError)\n",
       "        .then(() => displayChart(vegaEmbed));\n",
       "    }\n",
       "  })({\"config\": {\"view\": {\"continuousWidth\": 400, \"continuousHeight\": 300, \"stroke\": null}, \"facet\": {\"spacing\": 0}}, \"data\": {\"name\": \"data-dc637d7b5852fbf9fd053e7a3804fb57\"}, \"mark\": {\"type\": \"circle\", \"size\": 200}, \"encoding\": {\"color\": {\"field\": \"Variable\", \"legend\": null, \"scale\": {\"range\": [\"#2EA8CE\", \"#EB9F3C\", \"#F4D837\", \"#51BF9D\", \"#8CBCCB\", \"#9487C0\"]}, \"type\": \"nominal\"}, \"column\": {\"field\": \"Name\", \"header\": {\"labelAlign\": \"right\", \"labelAngle\": 90, \"labelOrient\": \"bottom\", \"labelPadding\": 2, \"titleOrient\": \"top\"}, \"type\": \"nominal\"}, \"tooltip\": [{\"field\": \"Name\", \"type\": \"nominal\"}, {\"field\": \"Variable\", \"type\": \"nominal\"}, {\"field\": \"Value\", \"type\": \"quantitative\"}], \"x\": {\"axis\": {\"grid\": false, \"labels\": false, \"ticks\": false, \"values\": [0]}, \"field\": \"jitter\", \"scale\": {}, \"title\": null, \"type\": \"quantitative\"}, \"y\": {\"field\": \"Value\", \"type\": \"quantitative\"}}, \"selection\": {\"selector001\": {\"type\": \"single\", \"fields\": [\"Name\"], \"bind\": {\"input\": \"select\", \"options\": [\"Antelope Valley Transit Authority Schedule\", \"Banning Pass Schedule\", \"Bay Area 511 AC Transit Schedule\", \"Bay Area 511 ACE Schedule\", \"Bay Area 511 BART Schedule\", \"Bay Area 511 Caltrain Schedule\", \"Bay Area 511 Capitol Corridor Schedule\", \"Bay Area 511 Commute.org Schedule\", \"Bay Area 511 County Connection Schedule\", \"Bay Area 511 Dumbarton Express Schedule\", \"Bay Area 511 Emery Go-Round Schedule\", \"Bay Area 511 Fairfield and Suisun Transit Schedule\", \"Bay Area 511 Golden Gate Ferry Schedule\", \"Bay Area 511 Golden Gate Transit Schedule\", \"Bay Area 511 MVGO Schedule\", \"Bay Area 511 Marin Schedule\", \"Bay Area 511 Muni Schedule\", \"Bay Area 511 Petaluma Schedule\", \"Bay Area 511 Rio Vista Delta Breeze Schedule\", \"Bay Area 511 SFO AirTrain Schedule\", \"Bay Area 511 SamTrans Schedule\", \"Bay Area 511 San Francisco Bay Ferry Schedule\", \"Bay Area 511 Santa Clara Transit Schedule\", \"Bay Area 511 Santa Rosa CityBus Schedule\", \"Bay Area 511 SolTrans Schedule\", \"Bay Area 511 Sonoma County Transit Schedule\", \"Bay Area 511 Sonoma-Marin Area Rail Transit Schedule\", \"Bay Area 511 South San Francisco Shuttle Schedule\", \"Bay Area 511 Treasure Island Ferry Schedule\", \"Bay Area 511 Tri Delta Schedule\", \"Bay Area 511 Tri-Valley Wheels Schedule\", \"Bay Area 511 Union City Transit Schedule\", \"Bay Area 511 Vacaville City Coach Schedule\", \"Bay Area 511 Vine Transit Schedule\", \"Bay Area 511 WestCAT Schedule\", \"Beach Cities GMV Schedule\", \"Bear Schedule\", \"Big Blue Bus Schedule\", \"BruinBus Schedule\", \"Burbank Schedule\", \"Commerce Schedule\", \"Culver City Schedule\", \"Eastern Sierra Schedule\", \"Elk Grove Schedule\", \"Foothill Schedule\", \"Fresno Schedule\", \"GET Schedule\", \"Humboldt Schedule\", \"Kings Schedule\", \"LA DOT Schedule\", \"LA Metro Bus Schedule\", \"LA Metro Rail Schedule\", \"Lake Schedule\", \"Long Beach Schedule\", \"Madera County Connection Schedule\", \"Merced GMV Schedule\", \"Monterey Salinas Schedule\", \"Nevada County Schedule\", \"North County Schedule\", \"Norwalk Avail Schedule\", \"OCTA Schedule\", \"Pasadena Schedule\", \"PresidiGo Schedule\", \"Redding Schedule\", \"Riverside Schedule\", \"SBMTD Schedule\", \"Sacramento Schedule\", \"San Diego Schedule\", \"Santa Clarita Schedule\", \"Santa Maria Schedule\", \"Santa Ynez Schedule\", \"StanRTA Schedule\", \"TIME GMV Schedule\", \"Tahoe Transportation District Schedule\", \"Torrance Schedule\", \"Turlock Schedule\", \"Unitrans Schedule\", \"VCTC GMV Schedule\", \"Victor Valley GMV Schedule\", \"Visalia Schedule\", \"WeHo Schedule\", \"Yolobus Schedule\", \"eTrans Schedule\"], \"name\": \"Name\"}}}, \"title\": \"Routes by Length for Operator\", \"transform\": [{\"calculate\": \"sqrt(-2*log(random()))*cos(2*PI*random())\", \"as\": \"jitter\"}, {\"filter\": {\"selection\": \"selector001\"}}], \"width\": 5, \"$schema\": \"https://vega.github.io/schema/vega-lite/v4.17.0.json\", \"datasets\": {\"data-dc637d7b5852fbf9fd053e7a3804fb57\": [{\"Name\": \"Antelope Valley Transit Authority Schedule\", \"Variable\": \"Mean\", \"Value\": 94.3913043478261}, {\"Name\": \"Banning Pass Schedule\", \"Variable\": \"Mean\", \"Value\": 68.0}, {\"Name\": \"Bay Area 511 AC Transit Schedule\", \"Variable\": \"Mean\", \"Value\": 93.24148606811146}, {\"Name\": \"Bay Area 511 ACE Schedule\", \"Variable\": \"Mean\", \"Value\": 100.0}, {\"Name\": \"Bay Area 511 BART Schedule\", \"Variable\": \"Mean\", \"Value\": 86.69565217391305}, {\"Name\": \"Bay Area 511 Caltrain Schedule\", \"Variable\": \"Mean\", \"Value\": 85.57142857142857}, {\"Name\": \"Bay Area 511 Capitol Corridor Schedule\", \"Variable\": \"Mean\", \"Value\": 79.61538461538461}, {\"Name\": \"Bay Area 511 Commute.org Schedule\", \"Variable\": \"Mean\", \"Value\": 78.61176470588235}, {\"Name\": \"Bay Area 511 County Connection Schedule\", \"Variable\": \"Mean\", \"Value\": 95.32941176470588}, {\"Name\": \"Bay Area 511 Dumbarton Express Schedule\", \"Variable\": \"Mean\", \"Value\": 98.0}, {\"Name\": \"Bay Area 511 Emery Go-Round Schedule\", \"Variable\": \"Mean\", \"Value\": 68.6}, {\"Name\": \"Bay Area 511 Fairfield and Suisun Transit Schedule\", \"Variable\": \"Mean\", \"Value\": 96.0625}, {\"Name\": \"Bay Area 511 Golden Gate Ferry Schedule\", \"Variable\": \"Mean\", \"Value\": 100.0}, {\"Name\": \"Bay Area 511 Golden Gate Transit Schedule\", \"Variable\": \"Mean\", \"Value\": 93.0}, {\"Name\": \"Bay Area 511 MVGO Schedule\", \"Variable\": \"Mean\", \"Value\": 74.70588235294117}, {\"Name\": \"Bay Area 511 Marin Schedule\", \"Variable\": \"Mean\", \"Value\": 82.38271604938272}, {\"Name\": \"Bay Area 511 Muni Schedule\", \"Variable\": \"Mean\", \"Value\": 80.72762645914396}, {\"Name\": \"Bay Area 511 Petaluma Schedule\", \"Variable\": \"Mean\", \"Value\": 99.27272727272727}, {\"Name\": \"Bay Area 511 Rio Vista Delta Breeze Schedule\", \"Variable\": \"Mean\", \"Value\": 56.833333333333336}, {\"Name\": \"Bay Area 511 SFO AirTrain Schedule\", \"Variable\": \"Mean\", \"Value\": 100.0}, {\"Name\": \"Bay Area 511 SamTrans Schedule\", \"Variable\": \"Mean\", \"Value\": 92.4093567251462}, {\"Name\": \"Bay Area 511 San Francisco Bay Ferry Schedule\", \"Variable\": \"Mean\", \"Value\": 93.38235294117646}, {\"Name\": \"Bay Area 511 Santa Clara Transit Schedule\", \"Variable\": \"Mean\", \"Value\": 85.73092369477912}, {\"Name\": \"Bay Area 511 Santa Rosa CityBus Schedule\", \"Variable\": \"Mean\", \"Value\": 90.23333333333333}, {\"Name\": \"Bay Area 511 SolTrans Schedule\", \"Variable\": \"Mean\", \"Value\": 83.45454545454545}, {\"Name\": \"Bay Area 511 Sonoma County Transit Schedule\", \"Variable\": \"Mean\", \"Value\": 81.36986301369863}, {\"Name\": \"Bay Area 511 Sonoma-Marin Area Rail Transit Schedule\", \"Variable\": \"Mean\", \"Value\": 100.0}, {\"Name\": \"Bay Area 511 South San Francisco Shuttle Schedule\", \"Variable\": \"Mean\", \"Value\": 100.0}, {\"Name\": \"Bay Area 511 Treasure Island Ferry Schedule\", \"Variable\": \"Mean\", \"Value\": 100.0}, {\"Name\": \"Bay Area 511 Tri Delta Schedule\", \"Variable\": \"Mean\", \"Value\": 91.57894736842105}, {\"Name\": \"Bay Area 511 Tri-Valley Wheels Schedule\", \"Variable\": \"Mean\", \"Value\": 87.91549295774648}, {\"Name\": \"Bay Area 511 Union City Transit Schedule\", \"Variable\": \"Mean\", \"Value\": 100.0}, {\"Name\": \"Bay Area 511 Vacaville City Coach Schedule\", \"Variable\": \"Mean\", \"Value\": 100.0}, {\"Name\": \"Bay Area 511 Vine Transit Schedule\", \"Variable\": \"Mean\", \"Value\": 99.04545454545455}, {\"Name\": \"Bay Area 511 WestCAT Schedule\", \"Variable\": \"Mean\", \"Value\": 71.66153846153846}, {\"Name\": \"Beach Cities GMV Schedule\", \"Variable\": \"Mean\", \"Value\": 90.8}, {\"Name\": \"Bear Schedule\", \"Variable\": \"Mean\", \"Value\": 93.66666666666667}, {\"Name\": \"Big Blue Bus Schedule\", \"Variable\": \"Mean\", \"Value\": 95.49230769230769}, {\"Name\": \"BruinBus Schedule\", \"Variable\": \"Mean\", \"Value\": 100.0}, {\"Name\": \"Burbank Schedule\", \"Variable\": \"Mean\", \"Value\": 100.0}, {\"Name\": \"Commerce Schedule\", \"Variable\": \"Mean\", \"Value\": 100.0}, {\"Name\": \"Culver City Schedule\", \"Variable\": \"Mean\", \"Value\": 91.27027027027027}, {\"Name\": \"Eastern Sierra Schedule\", \"Variable\": \"Mean\", \"Value\": 86.41379310344827}, {\"Name\": \"Elk Grove Schedule\", \"Variable\": \"Mean\", \"Value\": 99.97058823529412}, {\"Name\": \"Foothill Schedule\", \"Variable\": \"Mean\", \"Value\": 95.18085106382979}, {\"Name\": \"Fresno Schedule\", \"Variable\": \"Mean\", \"Value\": 76.26666666666667}, {\"Name\": \"GET Schedule\", \"Variable\": \"Mean\", \"Value\": 81.11475409836065}, {\"Name\": \"Humboldt Schedule\", \"Variable\": \"Mean\", \"Value\": 86.69767441860465}, {\"Name\": \"Kings Schedule\", \"Variable\": \"Mean\", \"Value\": 94.55}, {\"Name\": \"LA DOT Schedule\", \"Variable\": \"Mean\", \"Value\": 95.92592592592592}, {\"Name\": \"LA Metro Bus Schedule\", \"Variable\": \"Mean\", \"Value\": 82.03484848484848}, {\"Name\": \"LA Metro Rail Schedule\", \"Variable\": \"Mean\", \"Value\": 100.0}, {\"Name\": \"Lake Schedule\", \"Variable\": \"Mean\", \"Value\": 89.45454545454545}, {\"Name\": \"Long Beach Schedule\", \"Variable\": \"Mean\", \"Value\": 92.60416666666667}, {\"Name\": \"Madera County Connection Schedule\", \"Variable\": \"Mean\", \"Value\": 96.9090909090909}, {\"Name\": \"Merced GMV Schedule\", \"Variable\": \"Mean\", \"Value\": 100.0}, {\"Name\": \"Monterey Salinas Schedule\", \"Variable\": \"Mean\", \"Value\": 97.328125}, {\"Name\": \"Nevada County Schedule\", \"Variable\": \"Mean\", \"Value\": 88.18518518518519}, {\"Name\": \"North County Schedule\", \"Variable\": \"Mean\", \"Value\": 92.0}, {\"Name\": \"Norwalk Avail Schedule\", \"Variable\": \"Mean\", \"Value\": 70.62962962962963}, {\"Name\": \"OCTA Schedule\", \"Variable\": \"Mean\", \"Value\": 91.75625}, {\"Name\": \"Pasadena Schedule\", \"Variable\": \"Mean\", \"Value\": 80.08}, {\"Name\": \"PresidiGo Schedule\", \"Variable\": \"Mean\", \"Value\": 100.0}, {\"Name\": \"Redding Schedule\", \"Variable\": \"Mean\", \"Value\": 100.0}, {\"Name\": \"Riverside Schedule\", \"Variable\": \"Mean\", \"Value\": 91.88288288288288}, {\"Name\": \"SBMTD Schedule\", \"Variable\": \"Mean\", \"Value\": 94.44565217391305}, {\"Name\": \"Sacramento Schedule\", \"Variable\": \"Mean\", \"Value\": 92.17682926829268}, {\"Name\": \"San Diego Schedule\", \"Variable\": \"Mean\", \"Value\": 84.79411764705883}, {\"Name\": \"Santa Clarita Schedule\", \"Variable\": \"Mean\", \"Value\": 93.98969072164948}, {\"Name\": \"Santa Maria Schedule\", \"Variable\": \"Mean\", \"Value\": 100.0}, {\"Name\": \"Santa Ynez Schedule\", \"Variable\": \"Mean\", \"Value\": 87.0}, {\"Name\": \"StanRTA Schedule\", \"Variable\": \"Mean\", \"Value\": 95.22535211267606}, {\"Name\": \"TIME GMV Schedule\", \"Variable\": \"Mean\", \"Value\": 100.0}, {\"Name\": \"Tahoe Transportation District Schedule\", \"Variable\": \"Mean\", \"Value\": 98.27272727272727}, {\"Name\": \"Torrance Schedule\", \"Variable\": \"Mean\", \"Value\": 97.88571428571429}, {\"Name\": \"Turlock Schedule\", \"Variable\": \"Mean\", \"Value\": 100.0}, {\"Name\": \"Unitrans Schedule\", \"Variable\": \"Mean\", \"Value\": 99.19444444444444}, {\"Name\": \"VCTC GMV Schedule\", \"Variable\": \"Mean\", \"Value\": 96.5}, {\"Name\": \"Victor Valley GMV Schedule\", \"Variable\": \"Mean\", \"Value\": 94.3132530120482}, {\"Name\": \"Visalia Schedule\", \"Variable\": \"Mean\", \"Value\": 100.0}, {\"Name\": \"WeHo Schedule\", \"Variable\": \"Mean\", \"Value\": 100.0}, {\"Name\": \"Yolobus Schedule\", \"Variable\": \"Mean\", \"Value\": 100.0}, {\"Name\": \"eTrans Schedule\", \"Variable\": \"Mean\", \"Value\": 100.0}, {\"Name\": \"Antelope Valley Transit Authority Schedule\", \"Variable\": \"Median\", \"Value\": 100.0}, {\"Name\": \"Banning Pass Schedule\", \"Variable\": \"Median\", \"Value\": 80.0}, {\"Name\": \"Bay Area 511 AC Transit Schedule\", \"Variable\": \"Median\", \"Value\": 100.0}, {\"Name\": \"Bay Area 511 ACE Schedule\", \"Variable\": \"Median\", \"Value\": 100.0}, {\"Name\": \"Bay Area 511 BART Schedule\", \"Variable\": \"Median\", \"Value\": 100.0}, {\"Name\": \"Bay Area 511 Caltrain Schedule\", \"Variable\": \"Median\", \"Value\": 99.0}, {\"Name\": \"Bay Area 511 Capitol Corridor Schedule\", \"Variable\": \"Median\", \"Value\": 79.0}, {\"Name\": \"Bay Area 511 Commute.org Schedule\", \"Variable\": \"Median\", \"Value\": 84.0}, {\"Name\": \"Bay Area 511 County Connection Schedule\", \"Variable\": \"Median\", \"Value\": 100.0}, {\"Name\": \"Bay Area 511 Dumbarton Express Schedule\", \"Variable\": \"Median\", \"Value\": 100.0}, {\"Name\": \"Bay Area 511 Emery Go-Round Schedule\", \"Variable\": \"Median\", \"Value\": 66.0}, {\"Name\": \"Bay Area 511 Fairfield and Suisun Transit Schedule\", \"Variable\": \"Median\", \"Value\": 100.0}, {\"Name\": \"Bay Area 511 Golden Gate Ferry Schedule\", \"Variable\": \"Median\", \"Value\": 100.0}, {\"Name\": \"Bay Area 511 Golden Gate Transit Schedule\", \"Variable\": \"Median\", \"Value\": 100.0}, {\"Name\": \"Bay Area 511 MVGO Schedule\", \"Variable\": \"Median\", \"Value\": 73.0}, {\"Name\": \"Bay Area 511 Marin Schedule\", \"Variable\": \"Median\", \"Value\": 100.0}, {\"Name\": \"Bay Area 511 Muni Schedule\", \"Variable\": \"Median\", \"Value\": 100.0}, {\"Name\": \"Bay Area 511 Petaluma Schedule\", \"Variable\": \"Median\", \"Value\": 100.0}, {\"Name\": \"Bay Area 511 Rio Vista Delta Breeze Schedule\", \"Variable\": \"Median\", \"Value\": 58.0}, {\"Name\": \"Bay Area 511 SFO AirTrain Schedule\", \"Variable\": \"Median\", \"Value\": 100.0}, {\"Name\": \"Bay Area 511 SamTrans Schedule\", \"Variable\": \"Median\", \"Value\": 100.0}, {\"Name\": \"Bay Area 511 San Francisco Bay Ferry Schedule\", \"Variable\": \"Median\", \"Value\": 98.5}, {\"Name\": \"Bay Area 511 Santa Clara Transit Schedule\", \"Variable\": \"Median\", \"Value\": 100.0}, {\"Name\": \"Bay Area 511 Santa Rosa CityBus Schedule\", \"Variable\": \"Median\", \"Value\": 100.0}, {\"Name\": \"Bay Area 511 SolTrans Schedule\", \"Variable\": \"Median\", \"Value\": 98.5}, {\"Name\": \"Bay Area 511 Sonoma County Transit Schedule\", \"Variable\": \"Median\", \"Value\": 99.0}, {\"Name\": \"Bay Area 511 Sonoma-Marin Area Rail Transit Schedule\", \"Variable\": \"Median\", \"Value\": 100.0}, {\"Name\": \"Bay Area 511 South San Francisco Shuttle Schedule\", \"Variable\": \"Median\", \"Value\": 100.0}, {\"Name\": \"Bay Area 511 Treasure Island Ferry Schedule\", \"Variable\": \"Median\", \"Value\": 100.0}, {\"Name\": \"Bay Area 511 Tri Delta Schedule\", \"Variable\": \"Median\", \"Value\": 100.0}, {\"Name\": \"Bay Area 511 Tri-Valley Wheels Schedule\", \"Variable\": \"Median\", \"Value\": 100.0}, {\"Name\": \"Bay Area 511 Union City Transit Schedule\", \"Variable\": \"Median\", \"Value\": 100.0}, {\"Name\": \"Bay Area 511 Vacaville City Coach Schedule\", \"Variable\": \"Median\", \"Value\": 100.0}, {\"Name\": \"Bay Area 511 Vine Transit Schedule\", \"Variable\": \"Median\", \"Value\": 100.0}, {\"Name\": \"Bay Area 511 WestCAT Schedule\", \"Variable\": \"Median\", \"Value\": 85.0}, {\"Name\": \"Beach Cities GMV Schedule\", \"Variable\": \"Median\", \"Value\": 100.0}, {\"Name\": \"Bear Schedule\", \"Variable\": \"Median\", \"Value\": 100.0}, {\"Name\": \"Big Blue Bus Schedule\", \"Variable\": \"Median\", \"Value\": 100.0}, {\"Name\": \"BruinBus Schedule\", \"Variable\": \"Median\", \"Value\": 100.0}, {\"Name\": \"Burbank Schedule\", \"Variable\": \"Median\", \"Value\": 100.0}, {\"Name\": \"Commerce Schedule\", \"Variable\": \"Median\", \"Value\": 100.0}, {\"Name\": \"Culver City Schedule\", \"Variable\": \"Median\", \"Value\": 100.0}, {\"Name\": \"Eastern Sierra Schedule\", \"Variable\": \"Median\", \"Value\": 100.0}, {\"Name\": \"Elk Grove Schedule\", \"Variable\": \"Median\", \"Value\": 100.0}, {\"Name\": \"Foothill Schedule\", \"Variable\": \"Median\", \"Value\": 100.0}, {\"Name\": \"Fresno Schedule\", \"Variable\": \"Median\", \"Value\": 100.0}, {\"Name\": \"GET Schedule\", \"Variable\": \"Median\", \"Value\": 100.0}, {\"Name\": \"Humboldt Schedule\", \"Variable\": \"Median\", \"Value\": 98.0}, {\"Name\": \"Kings Schedule\", \"Variable\": \"Median\", \"Value\": 100.0}, {\"Name\": \"LA DOT Schedule\", \"Variable\": \"Median\", \"Value\": 100.0}, {\"Name\": \"LA Metro Bus Schedule\", \"Variable\": \"Median\", \"Value\": 92.0}, {\"Name\": \"LA Metro Rail Schedule\", \"Variable\": \"Median\", \"Value\": 100.0}, {\"Name\": \"Lake Schedule\", \"Variable\": \"Median\", \"Value\": 99.0}, {\"Name\": \"Long Beach Schedule\", \"Variable\": \"Median\", \"Value\": 100.0}, {\"Name\": \"Madera County Connection Schedule\", \"Variable\": \"Median\", \"Value\": 100.0}, {\"Name\": \"Merced GMV Schedule\", \"Variable\": \"Median\", \"Value\": 100.0}, {\"Name\": \"Monterey Salinas Schedule\", \"Variable\": \"Median\", \"Value\": 100.0}, {\"Name\": \"Nevada County Schedule\", \"Variable\": \"Median\", \"Value\": 94.0}, {\"Name\": \"North County Schedule\", \"Variable\": \"Median\", \"Value\": 100.0}, {\"Name\": \"Norwalk Avail Schedule\", \"Variable\": \"Median\", \"Value\": 76.0}, {\"Name\": \"OCTA Schedule\", \"Variable\": \"Median\", \"Value\": 100.0}, {\"Name\": \"Pasadena Schedule\", \"Variable\": \"Median\", \"Value\": 100.0}, {\"Name\": \"PresidiGo Schedule\", \"Variable\": \"Median\", \"Value\": 100.0}, {\"Name\": \"Redding Schedule\", \"Variable\": \"Median\", \"Value\": 100.0}, {\"Name\": \"Riverside Schedule\", \"Variable\": \"Median\", \"Value\": 100.0}, {\"Name\": \"SBMTD Schedule\", \"Variable\": \"Median\", \"Value\": 100.0}, {\"Name\": \"Sacramento Schedule\", \"Variable\": \"Median\", \"Value\": 100.0}, {\"Name\": \"San Diego Schedule\", \"Variable\": \"Median\", \"Value\": 100.0}, {\"Name\": \"Santa Clarita Schedule\", \"Variable\": \"Median\", \"Value\": 100.0}, {\"Name\": \"Santa Maria Schedule\", \"Variable\": \"Median\", \"Value\": 100.0}, {\"Name\": \"Santa Ynez Schedule\", \"Variable\": \"Median\", \"Value\": 100.0}, {\"Name\": \"StanRTA Schedule\", \"Variable\": \"Median\", \"Value\": 100.0}, {\"Name\": \"TIME GMV Schedule\", \"Variable\": \"Median\", \"Value\": 100.0}, {\"Name\": \"Tahoe Transportation District Schedule\", \"Variable\": \"Median\", \"Value\": 100.0}, {\"Name\": \"Torrance Schedule\", \"Variable\": \"Median\", \"Value\": 100.0}, {\"Name\": \"Turlock Schedule\", \"Variable\": \"Median\", \"Value\": 100.0}, {\"Name\": \"Unitrans Schedule\", \"Variable\": \"Median\", \"Value\": 100.0}, {\"Name\": \"VCTC GMV Schedule\", \"Variable\": \"Median\", \"Value\": 100.0}, {\"Name\": \"Victor Valley GMV Schedule\", \"Variable\": \"Median\", \"Value\": 100.0}, {\"Name\": \"Visalia Schedule\", \"Variable\": \"Median\", \"Value\": 100.0}, {\"Name\": \"WeHo Schedule\", \"Variable\": \"Median\", \"Value\": 100.0}, {\"Name\": \"Yolobus Schedule\", \"Variable\": \"Median\", \"Value\": 100.0}, {\"Name\": \"eTrans Schedule\", \"Variable\": \"Median\", \"Value\": 100.0}, {\"Name\": \"Antelope Valley Transit Authority Schedule\", \"Variable\": \"Min\", \"Value\": 17.0}, {\"Name\": \"Banning Pass Schedule\", \"Variable\": \"Min\", \"Value\": 5.0}, {\"Name\": \"Bay Area 511 AC Transit Schedule\", \"Variable\": \"Min\", \"Value\": 19.0}, {\"Name\": \"Bay Area 511 ACE Schedule\", \"Variable\": \"Min\", \"Value\": 100.0}, {\"Name\": \"Bay Area 511 BART Schedule\", \"Variable\": \"Min\", \"Value\": 33.0}, {\"Name\": \"Bay Area 511 Caltrain Schedule\", \"Variable\": \"Min\", \"Value\": 60.0}, {\"Name\": \"Bay Area 511 Capitol Corridor Schedule\", \"Variable\": \"Min\", \"Value\": 35.0}, {\"Name\": \"Bay Area 511 Commute.org Schedule\", \"Variable\": \"Min\", \"Value\": 27.0}, {\"Name\": \"Bay Area 511 County Connection Schedule\", \"Variable\": \"Min\", \"Value\": 14.0}, {\"Name\": \"Bay Area 511 Dumbarton Express Schedule\", \"Variable\": \"Min\", \"Value\": 94.0}, {\"Name\": \"Bay Area 511 Emery Go-Round Schedule\", \"Variable\": \"Min\", \"Value\": 22.0}, {\"Name\": \"Bay Area 511 Fairfield and Suisun Transit Schedule\", \"Variable\": \"Min\", \"Value\": 39.0}, {\"Name\": \"Bay Area 511 Golden Gate Ferry Schedule\", \"Variable\": \"Min\", \"Value\": 100.0}, {\"Name\": \"Bay Area 511 Golden Gate Transit Schedule\", \"Variable\": \"Min\", \"Value\": 30.0}, {\"Name\": \"Bay Area 511 MVGO Schedule\", \"Variable\": \"Min\", \"Value\": 33.0}, {\"Name\": \"Bay Area 511 Marin Schedule\", \"Variable\": \"Min\", \"Value\": 11.0}, {\"Name\": \"Bay Area 511 Muni Schedule\", \"Variable\": \"Min\", \"Value\": 12.0}, {\"Name\": \"Bay Area 511 Petaluma Schedule\", \"Variable\": \"Min\", \"Value\": 92.0}, {\"Name\": \"Bay Area 511 Rio Vista Delta Breeze Schedule\", \"Variable\": \"Min\", \"Value\": 9.0}, {\"Name\": \"Bay Area 511 SFO AirTrain Schedule\", \"Variable\": \"Min\", \"Value\": 100.0}, {\"Name\": \"Bay Area 511 SamTrans Schedule\", \"Variable\": \"Min\", \"Value\": 27.0}, {\"Name\": \"Bay Area 511 San Francisco Bay Ferry Schedule\", \"Variable\": \"Min\", \"Value\": 76.0}, {\"Name\": \"Bay Area 511 Santa Clara Transit Schedule\", \"Variable\": \"Min\", \"Value\": 14.0}, {\"Name\": \"Bay Area 511 Santa Rosa CityBus Schedule\", \"Variable\": \"Min\", \"Value\": 44.0}, {\"Name\": \"Bay Area 511 SolTrans Schedule\", \"Variable\": \"Min\", \"Value\": 7.0}, {\"Name\": \"Bay Area 511 Sonoma County Transit Schedule\", \"Variable\": \"Min\", \"Value\": 20.0}, {\"Name\": \"Bay Area 511 Sonoma-Marin Area Rail Transit Schedule\", \"Variable\": \"Min\", \"Value\": 100.0}, {\"Name\": \"Bay Area 511 South San Francisco Shuttle Schedule\", \"Variable\": \"Min\", \"Value\": 100.0}, {\"Name\": \"Bay Area 511 Treasure Island Ferry Schedule\", \"Variable\": \"Min\", \"Value\": 100.0}, {\"Name\": \"Bay Area 511 Tri Delta Schedule\", \"Variable\": \"Min\", \"Value\": 35.0}, {\"Name\": \"Bay Area 511 Tri-Valley Wheels Schedule\", \"Variable\": \"Min\", \"Value\": 16.0}, {\"Name\": \"Bay Area 511 Union City Transit Schedule\", \"Variable\": \"Min\", \"Value\": 100.0}, {\"Name\": \"Bay Area 511 Vacaville City Coach Schedule\", \"Variable\": \"Min\", \"Value\": 100.0}, {\"Name\": \"Bay Area 511 Vine Transit Schedule\", \"Variable\": \"Min\", \"Value\": 92.0}, {\"Name\": \"Bay Area 511 WestCAT Schedule\", \"Variable\": \"Min\", \"Value\": 11.0}, {\"Name\": \"Beach Cities GMV Schedule\", \"Variable\": \"Min\", \"Value\": 54.0}, {\"Name\": \"Bear Schedule\", \"Variable\": \"Min\", \"Value\": 66.0}, {\"Name\": \"Big Blue Bus Schedule\", \"Variable\": \"Min\", \"Value\": 32.0}, {\"Name\": \"BruinBus Schedule\", \"Variable\": \"Min\", \"Value\": 100.0}, {\"Name\": \"Burbank Schedule\", \"Variable\": \"Min\", \"Value\": 100.0}, {\"Name\": \"Commerce Schedule\", \"Variable\": \"Min\", \"Value\": 100.0}, {\"Name\": \"Culver City Schedule\", \"Variable\": \"Min\", \"Value\": 39.0}, {\"Name\": \"Eastern Sierra Schedule\", \"Variable\": \"Min\", \"Value\": 20.0}, {\"Name\": \"Elk Grove Schedule\", \"Variable\": \"Min\", \"Value\": 99.0}, {\"Name\": \"Foothill Schedule\", \"Variable\": \"Min\", \"Value\": 42.0}, {\"Name\": \"Fresno Schedule\", \"Variable\": \"Min\", \"Value\": 21.0}, {\"Name\": \"GET Schedule\", \"Variable\": \"Min\", \"Value\": 24.0}, {\"Name\": \"Humboldt Schedule\", \"Variable\": \"Min\", \"Value\": 42.0}, {\"Name\": \"Kings Schedule\", \"Variable\": \"Min\", \"Value\": 65.0}, {\"Name\": \"LA DOT Schedule\", \"Variable\": \"Min\", \"Value\": 32.0}, {\"Name\": \"LA Metro Bus Schedule\", \"Variable\": \"Min\", \"Value\": 8.0}, {\"Name\": \"LA Metro Rail Schedule\", \"Variable\": \"Min\", \"Value\": 100.0}, {\"Name\": \"Lake Schedule\", \"Variable\": \"Min\", \"Value\": 28.0}, {\"Name\": \"Long Beach Schedule\", \"Variable\": \"Min\", \"Value\": 45.0}, {\"Name\": \"Madera County Connection Schedule\", \"Variable\": \"Min\", \"Value\": 88.0}, {\"Name\": \"Merced GMV Schedule\", \"Variable\": \"Min\", \"Value\": 100.0}, {\"Name\": \"Monterey Salinas Schedule\", \"Variable\": \"Min\", \"Value\": 26.0}, {\"Name\": \"Nevada County Schedule\", \"Variable\": \"Min\", \"Value\": 12.0}, {\"Name\": \"North County Schedule\", \"Variable\": \"Min\", \"Value\": 16.0}, {\"Name\": \"Norwalk Avail Schedule\", \"Variable\": \"Min\", \"Value\": 12.0}, {\"Name\": \"OCTA Schedule\", \"Variable\": \"Min\", \"Value\": 20.0}, {\"Name\": \"Pasadena Schedule\", \"Variable\": \"Min\", \"Value\": 28.0}, {\"Name\": \"PresidiGo Schedule\", \"Variable\": \"Min\", \"Value\": 100.0}, {\"Name\": \"Redding Schedule\", \"Variable\": \"Min\", \"Value\": 100.0}, {\"Name\": \"Riverside Schedule\", \"Variable\": \"Min\", \"Value\": 22.0}, {\"Name\": \"SBMTD Schedule\", \"Variable\": \"Min\", \"Value\": 35.0}, {\"Name\": \"Sacramento Schedule\", \"Variable\": \"Min\", \"Value\": 6.0}, {\"Name\": \"San Diego Schedule\", \"Variable\": \"Min\", \"Value\": 14.0}, {\"Name\": \"Santa Clarita Schedule\", \"Variable\": \"Min\", \"Value\": 21.0}, {\"Name\": \"Santa Maria Schedule\", \"Variable\": \"Min\", \"Value\": 100.0}, {\"Name\": \"Santa Ynez Schedule\", \"Variable\": \"Min\", \"Value\": 48.0}, {\"Name\": \"StanRTA Schedule\", \"Variable\": \"Min\", \"Value\": 5.0}, {\"Name\": \"TIME GMV Schedule\", \"Variable\": \"Min\", \"Value\": 100.0}, {\"Name\": \"Tahoe Transportation District Schedule\", \"Variable\": \"Min\", \"Value\": 88.0}, {\"Name\": \"Torrance Schedule\", \"Variable\": \"Min\", \"Value\": 76.0}, {\"Name\": \"Turlock Schedule\", \"Variable\": \"Min\", \"Value\": 100.0}, {\"Name\": \"Unitrans Schedule\", \"Variable\": \"Min\", \"Value\": 86.0}, {\"Name\": \"VCTC GMV Schedule\", \"Variable\": \"Min\", \"Value\": 52.0}, {\"Name\": \"Victor Valley GMV Schedule\", \"Variable\": \"Min\", \"Value\": 35.0}, {\"Name\": \"Visalia Schedule\", \"Variable\": \"Min\", \"Value\": 100.0}, {\"Name\": \"WeHo Schedule\", \"Variable\": \"Min\", \"Value\": 100.0}, {\"Name\": \"Yolobus Schedule\", \"Variable\": \"Min\", \"Value\": 100.0}, {\"Name\": \"eTrans Schedule\", \"Variable\": \"Min\", \"Value\": 100.0}, {\"Name\": \"Antelope Valley Transit Authority Schedule\", \"Variable\": \"Max\", \"Value\": 100.0}, {\"Name\": \"Banning Pass Schedule\", \"Variable\": \"Max\", \"Value\": 100.0}, {\"Name\": \"Bay Area 511 AC Transit Schedule\", \"Variable\": \"Max\", \"Value\": 100.0}, {\"Name\": \"Bay Area 511 ACE Schedule\", \"Variable\": \"Max\", \"Value\": 100.0}, {\"Name\": \"Bay Area 511 BART Schedule\", \"Variable\": \"Max\", \"Value\": 100.0}, {\"Name\": \"Bay Area 511 Caltrain Schedule\", \"Variable\": \"Max\", \"Value\": 100.0}, {\"Name\": \"Bay Area 511 Capitol Corridor Schedule\", \"Variable\": \"Max\", \"Value\": 100.0}, {\"Name\": \"Bay Area 511 Commute.org Schedule\", \"Variable\": \"Max\", \"Value\": 100.0}, {\"Name\": \"Bay Area 511 County Connection Schedule\", \"Variable\": \"Max\", \"Value\": 100.0}, {\"Name\": \"Bay Area 511 Dumbarton Express Schedule\", \"Variable\": \"Max\", \"Value\": 100.0}, {\"Name\": \"Bay Area 511 Emery Go-Round Schedule\", \"Variable\": \"Max\", \"Value\": 100.0}, {\"Name\": \"Bay Area 511 Fairfield and Suisun Transit Schedule\", \"Variable\": \"Max\", \"Value\": 100.0}, {\"Name\": \"Bay Area 511 Golden Gate Ferry Schedule\", \"Variable\": \"Max\", \"Value\": 100.0}, {\"Name\": \"Bay Area 511 Golden Gate Transit Schedule\", \"Variable\": \"Max\", \"Value\": 100.0}, {\"Name\": \"Bay Area 511 MVGO Schedule\", \"Variable\": \"Max\", \"Value\": 100.0}, {\"Name\": \"Bay Area 511 Marin Schedule\", \"Variable\": \"Max\", \"Value\": 100.0}, {\"Name\": \"Bay Area 511 Muni Schedule\", \"Variable\": \"Max\", \"Value\": 100.0}, {\"Name\": \"Bay Area 511 Petaluma Schedule\", \"Variable\": \"Max\", \"Value\": 100.0}, {\"Name\": \"Bay Area 511 Rio Vista Delta Breeze Schedule\", \"Variable\": \"Max\", \"Value\": 100.0}, {\"Name\": \"Bay Area 511 SFO AirTrain Schedule\", \"Variable\": \"Max\", \"Value\": 100.0}, {\"Name\": \"Bay Area 511 SamTrans Schedule\", \"Variable\": \"Max\", \"Value\": 100.0}, {\"Name\": \"Bay Area 511 San Francisco Bay Ferry Schedule\", \"Variable\": \"Max\", \"Value\": 100.0}, {\"Name\": \"Bay Area 511 Santa Clara Transit Schedule\", \"Variable\": \"Max\", \"Value\": 100.0}, {\"Name\": \"Bay Area 511 Santa Rosa CityBus Schedule\", \"Variable\": \"Max\", \"Value\": 100.0}, {\"Name\": \"Bay Area 511 SolTrans Schedule\", \"Variable\": \"Max\", \"Value\": 100.0}, {\"Name\": \"Bay Area 511 Sonoma County Transit Schedule\", \"Variable\": \"Max\", \"Value\": 100.0}, {\"Name\": \"Bay Area 511 Sonoma-Marin Area Rail Transit Schedule\", \"Variable\": \"Max\", \"Value\": 100.0}, {\"Name\": \"Bay Area 511 South San Francisco Shuttle Schedule\", \"Variable\": \"Max\", \"Value\": 100.0}, {\"Name\": \"Bay Area 511 Treasure Island Ferry Schedule\", \"Variable\": \"Max\", \"Value\": 100.0}, {\"Name\": \"Bay Area 511 Tri Delta Schedule\", \"Variable\": \"Max\", \"Value\": 100.0}, {\"Name\": \"Bay Area 511 Tri-Valley Wheels Schedule\", \"Variable\": \"Max\", \"Value\": 100.0}, {\"Name\": \"Bay Area 511 Union City Transit Schedule\", \"Variable\": \"Max\", \"Value\": 100.0}, {\"Name\": \"Bay Area 511 Vacaville City Coach Schedule\", \"Variable\": \"Max\", \"Value\": 100.0}, {\"Name\": \"Bay Area 511 Vine Transit Schedule\", \"Variable\": \"Max\", \"Value\": 100.0}, {\"Name\": \"Bay Area 511 WestCAT Schedule\", \"Variable\": \"Max\", \"Value\": 100.0}, {\"Name\": \"Beach Cities GMV Schedule\", \"Variable\": \"Max\", \"Value\": 100.0}, {\"Name\": \"Bear Schedule\", \"Variable\": \"Max\", \"Value\": 100.0}, {\"Name\": \"Big Blue Bus Schedule\", \"Variable\": \"Max\", \"Value\": 100.0}, {\"Name\": \"BruinBus Schedule\", \"Variable\": \"Max\", \"Value\": 100.0}, {\"Name\": \"Burbank Schedule\", \"Variable\": \"Max\", \"Value\": 100.0}, {\"Name\": \"Commerce Schedule\", \"Variable\": \"Max\", \"Value\": 100.0}, {\"Name\": \"Culver City Schedule\", \"Variable\": \"Max\", \"Value\": 100.0}, {\"Name\": \"Eastern Sierra Schedule\", \"Variable\": \"Max\", \"Value\": 100.0}, {\"Name\": \"Elk Grove Schedule\", \"Variable\": \"Max\", \"Value\": 100.0}, {\"Name\": \"Foothill Schedule\", \"Variable\": \"Max\", \"Value\": 100.0}, {\"Name\": \"Fresno Schedule\", \"Variable\": \"Max\", \"Value\": 100.0}, {\"Name\": \"GET Schedule\", \"Variable\": \"Max\", \"Value\": 100.0}, {\"Name\": \"Humboldt Schedule\", \"Variable\": \"Max\", \"Value\": 100.0}, {\"Name\": \"Kings Schedule\", \"Variable\": \"Max\", \"Value\": 100.0}, {\"Name\": \"LA DOT Schedule\", \"Variable\": \"Max\", \"Value\": 100.0}, {\"Name\": \"LA Metro Bus Schedule\", \"Variable\": \"Max\", \"Value\": 100.0}, {\"Name\": \"LA Metro Rail Schedule\", \"Variable\": \"Max\", \"Value\": 100.0}, {\"Name\": \"Lake Schedule\", \"Variable\": \"Max\", \"Value\": 100.0}, {\"Name\": \"Long Beach Schedule\", \"Variable\": \"Max\", \"Value\": 100.0}, {\"Name\": \"Madera County Connection Schedule\", \"Variable\": \"Max\", \"Value\": 100.0}, {\"Name\": \"Merced GMV Schedule\", \"Variable\": \"Max\", \"Value\": 100.0}, {\"Name\": \"Monterey Salinas Schedule\", \"Variable\": \"Max\", \"Value\": 100.0}, {\"Name\": \"Nevada County Schedule\", \"Variable\": \"Max\", \"Value\": 100.0}, {\"Name\": \"North County Schedule\", \"Variable\": \"Max\", \"Value\": 100.0}, {\"Name\": \"Norwalk Avail Schedule\", \"Variable\": \"Max\", \"Value\": 100.0}, {\"Name\": \"OCTA Schedule\", \"Variable\": \"Max\", \"Value\": 100.0}, {\"Name\": \"Pasadena Schedule\", \"Variable\": \"Max\", \"Value\": 100.0}, {\"Name\": \"PresidiGo Schedule\", \"Variable\": \"Max\", \"Value\": 100.0}, {\"Name\": \"Redding Schedule\", \"Variable\": \"Max\", \"Value\": 100.0}, {\"Name\": \"Riverside Schedule\", \"Variable\": \"Max\", \"Value\": 100.0}, {\"Name\": \"SBMTD Schedule\", \"Variable\": \"Max\", \"Value\": 100.0}, {\"Name\": \"Sacramento Schedule\", \"Variable\": \"Max\", \"Value\": 100.0}, {\"Name\": \"San Diego Schedule\", \"Variable\": \"Max\", \"Value\": 100.0}, {\"Name\": \"Santa Clarita Schedule\", \"Variable\": \"Max\", \"Value\": 100.0}, {\"Name\": \"Santa Maria Schedule\", \"Variable\": \"Max\", \"Value\": 100.0}, {\"Name\": \"Santa Ynez Schedule\", \"Variable\": \"Max\", \"Value\": 100.0}, {\"Name\": \"StanRTA Schedule\", \"Variable\": \"Max\", \"Value\": 100.0}, {\"Name\": \"TIME GMV Schedule\", \"Variable\": \"Max\", \"Value\": 100.0}, {\"Name\": \"Tahoe Transportation District Schedule\", \"Variable\": \"Max\", \"Value\": 100.0}, {\"Name\": \"Torrance Schedule\", \"Variable\": \"Max\", \"Value\": 100.0}, {\"Name\": \"Turlock Schedule\", \"Variable\": \"Max\", \"Value\": 100.0}, {\"Name\": \"Unitrans Schedule\", \"Variable\": \"Max\", \"Value\": 100.0}, {\"Name\": \"VCTC GMV Schedule\", \"Variable\": \"Max\", \"Value\": 100.0}, {\"Name\": \"Victor Valley GMV Schedule\", \"Variable\": \"Max\", \"Value\": 100.0}, {\"Name\": \"Visalia Schedule\", \"Variable\": \"Max\", \"Value\": 100.0}, {\"Name\": \"WeHo Schedule\", \"Variable\": \"Max\", \"Value\": 100.0}, {\"Name\": \"Yolobus Schedule\", \"Variable\": \"Max\", \"Value\": 100.0}, {\"Name\": \"eTrans Schedule\", \"Variable\": \"Max\", \"Value\": 100.0}]}}, {\"mode\": \"vega-lite\"});\n",
       "</script>"
      ],
      "text/plain": [
       "alt.Chart(...)"
      ]
     },
     "execution_count": 31,
     "metadata": {},
     "output_type": "execute_result"
    }
   ],
   "source": [
    "length_comparison_dot(route_length)"
   ]
  },
  {
   "cell_type": "code",
   "execution_count": 32,
   "id": "85b26e2f-49f3-4f54-9892-d1dcce1d0418",
   "metadata": {},
   "outputs": [],
   "source": [
    "boxplot = merge_trips_routes_longest_shape()"
   ]
  },
  {
   "cell_type": "code",
   "execution_count": 33,
   "id": "e69d176a-24c9-4eaa-a2ea-80aade7ca5e8",
   "metadata": {},
   "outputs": [],
   "source": [
    "boxplot = (\n",
    "    boxplot.groupby([\"name\", \"route_id\", \"shape_id\"])\n",
    "    .agg({\"route_length_percentage\": \"max\"})\n",
    "    .reset_index()\n",
    ")"
   ]
  },
  {
   "cell_type": "code",
   "execution_count": 34,
   "id": "fa0c65cd-0676-4480-944e-e06b9e6b53d1",
   "metadata": {},
   "outputs": [
    {
     "data": {
      "text/html": [
       "\n",
       "<div id=\"altair-viz-b94819c79470410fb0e7726e4337ef28\"></div>\n",
       "<script type=\"text/javascript\">\n",
       "  var VEGA_DEBUG = (typeof VEGA_DEBUG == \"undefined\") ? {} : VEGA_DEBUG;\n",
       "  (function(spec, embedOpt){\n",
       "    let outputDiv = document.currentScript.previousElementSibling;\n",
       "    if (outputDiv.id !== \"altair-viz-b94819c79470410fb0e7726e4337ef28\") {\n",
       "      outputDiv = document.getElementById(\"altair-viz-b94819c79470410fb0e7726e4337ef28\");\n",
       "    }\n",
       "    const paths = {\n",
       "      \"vega\": \"https://cdn.jsdelivr.net/npm//vega@5?noext\",\n",
       "      \"vega-lib\": \"https://cdn.jsdelivr.net/npm//vega-lib?noext\",\n",
       "      \"vega-lite\": \"https://cdn.jsdelivr.net/npm//vega-lite@4.17.0?noext\",\n",
       "      \"vega-embed\": \"https://cdn.jsdelivr.net/npm//vega-embed@6?noext\",\n",
       "    };\n",
       "\n",
       "    function maybeLoadScript(lib, version) {\n",
       "      var key = `${lib.replace(\"-\", \"\")}_version`;\n",
       "      return (VEGA_DEBUG[key] == version) ?\n",
       "        Promise.resolve(paths[lib]) :\n",
       "        new Promise(function(resolve, reject) {\n",
       "          var s = document.createElement('script');\n",
       "          document.getElementsByTagName(\"head\")[0].appendChild(s);\n",
       "          s.async = true;\n",
       "          s.onload = () => {\n",
       "            VEGA_DEBUG[key] = version;\n",
       "            return resolve(paths[lib]);\n",
       "          };\n",
       "          s.onerror = () => reject(`Error loading script: ${paths[lib]}`);\n",
       "          s.src = paths[lib];\n",
       "        });\n",
       "    }\n",
       "\n",
       "    function showError(err) {\n",
       "      outputDiv.innerHTML = `<div class=\"error\" style=\"color:red;\">${err}</div>`;\n",
       "      throw err;\n",
       "    }\n",
       "\n",
       "    function displayChart(vegaEmbed) {\n",
       "      vegaEmbed(outputDiv, spec, embedOpt)\n",
       "        .catch(err => showError(`Javascript Error: ${err.message}<br>This usually means there's a typo in your chart specification. See the javascript console for the full traceback.`));\n",
       "    }\n",
       "\n",
       "    if(typeof define === \"function\" && define.amd) {\n",
       "      requirejs.config({paths});\n",
       "      require([\"vega-embed\"], displayChart, err => showError(`Error loading script: ${err.message}`));\n",
       "    } else {\n",
       "      maybeLoadScript(\"vega\", \"5\")\n",
       "        .then(() => maybeLoadScript(\"vega-lite\", \"4.17.0\"))\n",
       "        .then(() => maybeLoadScript(\"vega-embed\", \"6\"))\n",
       "        .catch(showError)\n",
       "        .then(() => displayChart(vegaEmbed));\n",
       "    }\n",
       "  })({\"config\": {\"view\": {\"continuousWidth\": 400, \"continuousHeight\": 300}}, \"data\": {\"name\": \"data-d105a6a4563a2f2dcccc6d4fafad8478\"}, \"mark\": {\"type\": \"boxplot\", \"extent\": \"min-max\"}, \"encoding\": {\"color\": {\"field\": \"name\", \"legend\": null, \"scale\": {\"range\": [\"#2EA8CE\", \"#EB9F3C\", \"#F4D837\", \"#51BF9D\", \"#8CBCCB\", \"#9487C0\"]}, \"type\": \"nominal\"}, \"x\": {\"field\": \"route_length_percentage\", \"type\": \"quantitative\"}, \"y\": {\"field\": \"name\", \"type\": \"nominal\"}}, \"height\": 300, \"title\": \"Test\", \"width\": 500, \"$schema\": \"https://vega.github.io/schema/vega-lite/v4.17.0.json\", \"datasets\": {\"data-d105a6a4563a2f2dcccc6d4fafad8478\": [{\"name\": \"Yolobus Schedule\", \"route_id\": \"097918a3-9cb6-43c0-abf8-f66bc22a1489\", \"shape_id\": \"772d5ef0-0463-4b2d-a97e-dbf3c9babf0e\", \"route_length_percentage\": 100}, {\"name\": \"Yolobus Schedule\", \"route_id\": \"12a618d6-d441-4f89-be83-aa402b867ed8\", \"shape_id\": \"5960fe9e-06c6-4e4c-9721-b6391b508544\", \"route_length_percentage\": 100}, {\"name\": \"Yolobus Schedule\", \"route_id\": \"178155d4-718e-49ca-9e50-a32a61e64a71\", \"shape_id\": \"524804fc-9f68-4ce8-bc15-09c64336836c\", \"route_length_percentage\": 100}, {\"name\": \"Yolobus Schedule\", \"route_id\": \"235c6366-5e82-4a56-8fb0-f574bd72c23c\", \"shape_id\": \"93b8ebd3-83b2-4b6b-8e2d-42de8c0ba4b3\", \"route_length_percentage\": 100}, {\"name\": \"Yolobus Schedule\", \"route_id\": \"368f6fc7-8e33-444f-afb3-e82cafb45290\", \"shape_id\": \"8c0d2dab-ce97-414f-ab2c-962f6be1d575\", \"route_length_percentage\": 100}, {\"name\": \"Yolobus Schedule\", \"route_id\": \"3bf61770-45dc-4181-9cad-26cfd5132103\", \"shape_id\": \"c076ba49-304a-4150-8193-18be0a5c3544\", \"route_length_percentage\": 100}, {\"name\": \"Yolobus Schedule\", \"route_id\": \"3e2eadaa-014e-4e45-9885-d516b908e2f6\", \"shape_id\": \"f25287a3-1b7e-4379-916d-156c7db63ae6\", \"route_length_percentage\": 100}, {\"name\": \"Yolobus Schedule\", \"route_id\": \"52646266-ea43-4f62-8707-ad1ab9f5c5c4\", \"shape_id\": \"62755abf-5dd9-4414-ae4c-b6ecbeed2530\", \"route_length_percentage\": 100}, {\"name\": \"Yolobus Schedule\", \"route_id\": \"74ea5421-fa22-4b70-a4f4-fceb12db3b42\", \"shape_id\": \"cb8e5143-49b7-4e1d-9963-2f5f18d47fc8\", \"route_length_percentage\": 100}, {\"name\": \"Yolobus Schedule\", \"route_id\": \"7e1a17f5-be87-4df2-aea1-99d85b79e37e\", \"shape_id\": \"1574f43a-ba41-47bb-baeb-a9057f6da3c5\", \"route_length_percentage\": 100}, {\"name\": \"Yolobus Schedule\", \"route_id\": \"a8955f23-fbc7-47dd-a417-3606e4c4eb24\", \"shape_id\": \"a893c4cd-2e30-4e3b-843a-32c078ec63e9\", \"route_length_percentage\": 100}, {\"name\": \"Yolobus Schedule\", \"route_id\": \"e00292b1-f733-4628-bf37-a1cc2ad88d0f\", \"shape_id\": \"cf5542df-ba68-4154-9eea-efc177ef65b3\", \"route_length_percentage\": 100}, {\"name\": \"Yolobus Schedule\", \"route_id\": \"e588afd8-84e0-444f-8978-2ea09cd3ec80\", \"shape_id\": \"001e1e6b-6021-4ef4-9ad3-decbf432b5f4\", \"route_length_percentage\": 100}, {\"name\": \"Yolobus Schedule\", \"route_id\": \"e89fbda1-8475-4442-88ca-852d78d62e46\", \"shape_id\": \"6762d2ef-3fc5-45c7-a7bf-8f18c17384a0\", \"route_length_percentage\": 100}, {\"name\": \"Yolobus Schedule\", \"route_id\": \"f66cb98a-4a86-4f39-82a3-34adaf1f0482\", \"shape_id\": \"641053ef-bbb1-4d26-b602-fafa1680f7b8\", \"route_length_percentage\": 100}, {\"name\": \"Yolobus Schedule\", \"route_id\": \"f6ad49ed-c2eb-4919-adf4-24dc56450d7f\", \"shape_id\": \"41e35775-5861-4637-8616-9a1a68fc795d\", \"route_length_percentage\": 100}, {\"name\": \"Yolobus Schedule\", \"route_id\": \"f889c843-28ed-44a8-8cbb-415871960611\", \"shape_id\": \"fbbf42ff-587d-4dbe-9909-f65909835fbb\", \"route_length_percentage\": 100}, {\"name\": \"Yolobus Schedule\", \"route_id\": \"fd4f01d1-f65d-4955-a793-32d619ef0cea\", \"shape_id\": \"b21e2eb8-c721-4f11-b17f-b930038c0498\", \"route_length_percentage\": 100}, {\"name\": \"Yolobus Schedule\", \"route_id\": \"ffc3845f-a0cf-4553-81c1-f53d0470f0f3\", \"shape_id\": \"1f7f3cc8-cc32-4fa4-a12b-436ee50c4f5e\", \"route_length_percentage\": 100}, {\"name\": \"Yolobus Schedule\", \"route_id\": \"ffc3845f-a0cf-4553-81c1-f53d0470f0f3\", \"shape_id\": \"81fa2d0a-c0e5-4355-a495-be8ee5b86e33\", \"route_length_percentage\": 100}]}}, {\"mode\": \"vega-lite\"});\n",
       "</script>"
      ],
      "text/plain": [
       "alt.Chart(...)"
      ]
     },
     "execution_count": 34,
     "metadata": {},
     "output_type": "execute_result"
    }
   ],
   "source": [
    "threshold_utils.chart_size(\n",
    "    (\n",
    "        alt.Chart(boxplot.loc[boxplot.name == \"Yolobus Schedule\"])\n",
    "        .mark_boxplot(extent=\"min-max\")\n",
    "        .encode(\n",
    "            x=\"route_length_percentage:Q\",\n",
    "            y=\"name:N\",\n",
    "            color=alt.Color(\n",
    "                \"name\",\n",
    "                scale=alt.Scale(range=cp.CALITP_CATEGORY_BRIGHT_COLORS),\n",
    "                legend=None,\n",
    "            ),\n",
    "        )\n",
    "    ).properties(title=f\"Test\"),\n",
    "    500,\n",
    "    300,\n",
    ")"
   ]
  },
  {
   "cell_type": "markdown",
   "id": "8023d309-6a87-4daa-8456-1f4aa72d6e54",
   "metadata": {},
   "source": [
    "#### Trip Time and Segment"
   ]
  },
  {
   "cell_type": "code",
   "execution_count": 35,
   "id": "5e89dea2-c5d5-4656-b8a4-321136f95bf2",
   "metadata": {},
   "outputs": [],
   "source": [
    "def merge_trip_diagnostics_with_total_segments():\n",
    "    trip_diagnostics = catalog.trip_stats.read()\n",
    "    segments = catalog.longest_shape.read()\n",
    "\n",
    "    total_segments_by_shape = (\n",
    "        segments.groupby([\"gtfs_dataset_key\", \"name\", \"route_dir_identifier\"])\n",
    "        .segment_sequence.nunique()\n",
    "        .reset_index()\n",
    "        .rename(columns={\"segment_sequence\": \"total_segments\"})\n",
    "    )\n",
    "\n",
    "    df = pd.merge(\n",
    "        trip_diagnostics,\n",
    "        total_segments_by_shape,\n",
    "        on=[\"gtfs_dataset_key\", \"route_dir_identifier\"],\n",
    "        how=\"inner\",\n",
    "        validate=\"m:1\",\n",
    "    )\n",
    "\n",
    "    # Should  this be divided by 60 to be in minutes for the latter chunk of code?\n",
    "    df = df.assign(\n",
    "        pct_vp_segments=df.num_segments_with_vp.divide(df.total_segments),\n",
    "        trip_time=((df.trip_end - df.trip_start) / np.timedelta64(1, \"s\") / 60).astype(\n",
    "            int\n",
    "        ),\n",
    "        total_trips=df.groupby([\"gtfs_dataset_key\", \"name\"]).trip_id.transform(\n",
    "            \"nunique\"\n",
    "        ),\n",
    "    )\n",
    "\n",
    "    return df"
   ]
  },
  {
   "cell_type": "code",
   "execution_count": 36,
   "id": "de7bc4f5-6c2a-4215-959a-900949d2dffc",
   "metadata": {},
   "outputs": [],
   "source": [
    "all_ops = merge_trip_diagnostics_with_total_segments()"
   ]
  },
  {
   "cell_type": "code",
   "execution_count": 37,
   "id": "fe253e50-62d3-48b2-9f97-370c32c2dd92",
   "metadata": {},
   "outputs": [],
   "source": [
    "def summary_valid_trips_by_cutoff(df, time_cutoffs: list, segment_cutoffs: list):\n",
    "    final = pd.DataFrame()\n",
    "\n",
    "    for t in time_cutoffs:\n",
    "        for s in segment_cutoffs:\n",
    "            valid = (\n",
    "                df[(df.trip_time >= t) & (df.pct_vp_segments >= s)]\n",
    "                .groupby([\"gtfs_dataset_key\", \"name\", \"total_trips\"])\n",
    "                .trip_id.nunique()\n",
    "                .reset_index()\n",
    "                .rename(columns={\"trip_id\": \"n_trips\"})\n",
    "            )\n",
    "\n",
    "            valid = valid.assign(\n",
    "                trip_cutoff=t, segment_cutoff=s, cutoff=f\"{t}+ min & {s*100}%+ segments\"\n",
    "            )\n",
    "\n",
    "            final = pd.concat([final, valid], axis=0)\n",
    "\n",
    "    final = final.assign(pct_usable_trips=final.n_trips.divide(final.total_trips))\n",
    "\n",
    "    return final"
   ]
  },
  {
   "cell_type": "code",
   "execution_count": 38,
   "id": "0f5bcf33-9d1d-4104-bfc4-b2bdb600df1e",
   "metadata": {},
   "outputs": [],
   "source": [
    "TIME_CUTOFFS = [5, 10, 15]\n",
    "SEGMENT_CUTOFFS = [\n",
    "    0.2,\n",
    "    0.4,\n",
    "    0.6,\n",
    "    0.8,\n",
    "]"
   ]
  },
  {
   "cell_type": "code",
   "execution_count": 39,
   "id": "c4e6c2bf-9914-462d-9b66-a57a23c72cd9",
   "metadata": {},
   "outputs": [],
   "source": [
    "valid_stats = summary_valid_trips_by_cutoff(all_ops, TIME_CUTOFFS, SEGMENT_CUTOFFS)"
   ]
  },
  {
   "cell_type": "code",
   "execution_count": 40,
   "id": "0e370a66-5a4b-404f-9f9d-7ab781906f7d",
   "metadata": {},
   "outputs": [],
   "source": [
    "def operator_trip_chart(df):\n",
    "    df = threshold_utils.clean_up_columns(df)\n",
    "\n",
    "    # Dropdown menu 1\n",
    "    dropdown1 = alt.binding_select(\n",
    "        options=df[\"Name\"].sort_values().unique().tolist(), name=\"Name\"\n",
    "    )\n",
    "    selection1 = alt.selection_single(fields=[\"Name\"], bind=dropdown1)\n",
    "\n",
    "    chart = (\n",
    "        alt.Chart(df)\n",
    "        .mark_bar()\n",
    "        .encode(\n",
    "            x=alt.X(\n",
    "                \"Pct Usable Trips:Q\",\n",
    "                sort=alt.SortField(\"Pct Usable Trips\", order=\"descending\"),\n",
    "            ),\n",
    "            y=alt.Y(\n",
    "                \"Cutoff:N\", sort=alt.SortField(\"Pct Usable Trips\", order=\"descending\")\n",
    "            ),\n",
    "            color=alt.Color(\n",
    "                \"Cutoff:N\", scale=alt.Scale(range=cp.CALITP_CATEGORY_BRIGHT_COLORS)\n",
    "            ),\n",
    "            tooltip=[\n",
    "                \"Name\",\n",
    "                \"Cutoff\",\n",
    "                \"Pct Usable Trips\",\n",
    "                \"N Trips\",\n",
    "            ],\n",
    "        )\n",
    "        .properties(title=f\"Percentage of Usable Trips\")\n",
    "        .add_selection(selection1)\n",
    "        .transform_filter(selection1)\n",
    "    )\n",
    "\n",
    "    chart = threshold_utils.chart_size(chart, 500, 300)\n",
    "    return chart"
   ]
  },
  {
   "cell_type": "code",
   "execution_count": 41,
   "id": "db60c2ab-9e0b-41e7-9eff-547599b3459d",
   "metadata": {},
   "outputs": [
    {
     "data": {
      "text/html": [
       "\n",
       "<div id=\"altair-viz-78a4f0f1334444d5b4213d34c212b33b\"></div>\n",
       "<script type=\"text/javascript\">\n",
       "  var VEGA_DEBUG = (typeof VEGA_DEBUG == \"undefined\") ? {} : VEGA_DEBUG;\n",
       "  (function(spec, embedOpt){\n",
       "    let outputDiv = document.currentScript.previousElementSibling;\n",
       "    if (outputDiv.id !== \"altair-viz-78a4f0f1334444d5b4213d34c212b33b\") {\n",
       "      outputDiv = document.getElementById(\"altair-viz-78a4f0f1334444d5b4213d34c212b33b\");\n",
       "    }\n",
       "    const paths = {\n",
       "      \"vega\": \"https://cdn.jsdelivr.net/npm//vega@5?noext\",\n",
       "      \"vega-lib\": \"https://cdn.jsdelivr.net/npm//vega-lib?noext\",\n",
       "      \"vega-lite\": \"https://cdn.jsdelivr.net/npm//vega-lite@4.17.0?noext\",\n",
       "      \"vega-embed\": \"https://cdn.jsdelivr.net/npm//vega-embed@6?noext\",\n",
       "    };\n",
       "\n",
       "    function maybeLoadScript(lib, version) {\n",
       "      var key = `${lib.replace(\"-\", \"\")}_version`;\n",
       "      return (VEGA_DEBUG[key] == version) ?\n",
       "        Promise.resolve(paths[lib]) :\n",
       "        new Promise(function(resolve, reject) {\n",
       "          var s = document.createElement('script');\n",
       "          document.getElementsByTagName(\"head\")[0].appendChild(s);\n",
       "          s.async = true;\n",
       "          s.onload = () => {\n",
       "            VEGA_DEBUG[key] = version;\n",
       "            return resolve(paths[lib]);\n",
       "          };\n",
       "          s.onerror = () => reject(`Error loading script: ${paths[lib]}`);\n",
       "          s.src = paths[lib];\n",
       "        });\n",
       "    }\n",
       "\n",
       "    function showError(err) {\n",
       "      outputDiv.innerHTML = `<div class=\"error\" style=\"color:red;\">${err}</div>`;\n",
       "      throw err;\n",
       "    }\n",
       "\n",
       "    function displayChart(vegaEmbed) {\n",
       "      vegaEmbed(outputDiv, spec, embedOpt)\n",
       "        .catch(err => showError(`Javascript Error: ${err.message}<br>This usually means there's a typo in your chart specification. See the javascript console for the full traceback.`));\n",
       "    }\n",
       "\n",
       "    if(typeof define === \"function\" && define.amd) {\n",
       "      requirejs.config({paths});\n",
       "      require([\"vega-embed\"], displayChart, err => showError(`Error loading script: ${err.message}`));\n",
       "    } else {\n",
       "      maybeLoadScript(\"vega\", \"5\")\n",
       "        .then(() => maybeLoadScript(\"vega-lite\", \"4.17.0\"))\n",
       "        .then(() => maybeLoadScript(\"vega-embed\", \"6\"))\n",
       "        .catch(showError)\n",
       "        .then(() => displayChart(vegaEmbed));\n",
       "    }\n",
       "  })({\"config\": {\"view\": {\"continuousWidth\": 400, \"continuousHeight\": 300}}, \"data\": {\"name\": \"data-b55fa92affddc200c6387d3170b68198\"}, \"mark\": \"bar\", \"encoding\": {\"color\": {\"field\": \"Cutoff\", \"scale\": {\"range\": [\"#2EA8CE\", \"#EB9F3C\", \"#F4D837\", \"#51BF9D\", \"#8CBCCB\", \"#9487C0\"]}, \"type\": \"nominal\"}, \"tooltip\": [{\"field\": \"Name\", \"type\": \"nominal\"}, {\"field\": \"Cutoff\", \"type\": \"nominal\"}, {\"field\": \"Pct Usable Trips\", \"type\": \"quantitative\"}, {\"field\": \"N Trips\", \"type\": \"quantitative\"}], \"x\": {\"field\": \"Pct Usable Trips\", \"sort\": {\"field\": \"Pct Usable Trips\", \"order\": \"descending\"}, \"type\": \"quantitative\"}, \"y\": {\"field\": \"Cutoff\", \"sort\": {\"field\": \"Pct Usable Trips\", \"order\": \"descending\"}, \"type\": \"nominal\"}}, \"height\": 300, \"selection\": {\"selector002\": {\"type\": \"single\", \"fields\": [\"Name\"], \"bind\": {\"input\": \"select\", \"options\": [\"Antelope Valley Transit Authority Schedule\", \"Banning Pass Schedule\", \"Bay Area 511 AC Transit Schedule\", \"Bay Area 511 Caltrain Schedule\", \"Bay Area 511 County Connection Schedule\", \"Bay Area 511 Dumbarton Express Schedule\", \"Bay Area 511 Emery Go-Round Schedule\", \"Bay Area 511 Fairfield and Suisun Transit Schedule\", \"Bay Area 511 Golden Gate Transit Schedule\", \"Bay Area 511 MVGO Schedule\", \"Bay Area 511 Marin Schedule\", \"Bay Area 511 Muni Schedule\", \"Bay Area 511 Petaluma Schedule\", \"Bay Area 511 SamTrans Schedule\", \"Bay Area 511 San Francisco Bay Ferry Schedule\", \"Bay Area 511 Santa Clara Transit Schedule\", \"Bay Area 511 Santa Rosa CityBus Schedule\", \"Bay Area 511 SolTrans Schedule\", \"Bay Area 511 Sonoma County Transit Schedule\", \"Bay Area 511 Sonoma-Marin Area Rail Transit Schedule\", \"Bay Area 511 Tri Delta Schedule\", \"Bay Area 511 Tri-Valley Wheels Schedule\", \"Bay Area 511 Union City Transit Schedule\", \"Bay Area 511 Vine Transit Schedule\", \"Bay Area 511 WestCAT Schedule\", \"Beach Cities GMV Schedule\", \"Bear Schedule\", \"Big Blue Bus Schedule\", \"BruinBus Schedule\", \"Burbank Schedule\", \"Commerce Schedule\", \"Culver City Schedule\", \"Eastern Sierra Schedule\", \"Elk Grove Schedule\", \"Foothill Schedule\", \"Fresno Schedule\", \"GET Schedule\", \"Humboldt Schedule\", \"Kings Schedule\", \"LA DOT Schedule\", \"LA Metro Bus Schedule\", \"LA Metro Rail Schedule\", \"Lake Schedule\", \"Long Beach Schedule\", \"Madera County Connection Schedule\", \"Monterey Salinas Schedule\", \"Nevada County Schedule\", \"North County Schedule\", \"Norwalk Avail Schedule\", \"OCTA Schedule\", \"Pasadena Schedule\", \"PresidiGo Schedule\", \"Redding Schedule\", \"Riverside Schedule\", \"SBMTD Schedule\", \"San Diego Schedule\", \"Santa Clarita Schedule\", \"Santa Maria Schedule\", \"Santa Ynez Schedule\", \"StanRTA Schedule\", \"Tahoe Transportation District Schedule\", \"Torrance Schedule\", \"Turlock Schedule\", \"Unitrans Schedule\", \"VCTC GMV Schedule\", \"Victor Valley GMV Schedule\", \"Visalia Schedule\", \"WeHo Schedule\", \"Yolobus Schedule\"], \"name\": \"Name\"}}}, \"title\": \"Percentage of Usable Trips\", \"transform\": [{\"filter\": {\"selection\": \"selector002\"}}], \"width\": 500, \"$schema\": \"https://vega.github.io/schema/vega-lite/v4.17.0.json\", \"datasets\": {\"data-b55fa92affddc200c6387d3170b68198\": [{\"Gtfs Dataset Key\": \"02af2d11f5bd44434c581540e9e857d8\", \"Name\": \"LA DOT Schedule\", \"Total Trips\": 2899, \"N Trips\": 2817, \"Trip Cutoff\": 5, \"Segment Cutoff\": 0.2, \"Cutoff\": \"5+ min & 20.0%+ segments\", \"Pct Usable Trips\": 0.9717143842704381}, {\"Gtfs Dataset Key\": \"03cadbffef6f3cd4ce839b218bc65e82\", \"Name\": \"Bay Area 511 Santa Clara Transit Schedule\", \"Total Trips\": 3699, \"N Trips\": 3653, \"Trip Cutoff\": 5, \"Segment Cutoff\": 0.2, \"Cutoff\": \"5+ min & 20.0%+ segments\", \"Pct Usable Trips\": 0.9875642065423087}, {\"Gtfs Dataset Key\": \"087e5ecdcf65499829e681a60e606637\", \"Name\": \"Lake Schedule\", \"Total Trips\": 65, \"N Trips\": 58, \"Trip Cutoff\": 5, \"Segment Cutoff\": 0.2, \"Cutoff\": \"5+ min & 20.0%+ segments\", \"Pct Usable Trips\": 0.8923076923076924}, {\"Gtfs Dataset Key\": \"08c4e0555b1b90cd7464ac801157a167\", \"Name\": \"Bay Area 511 Union City Transit Schedule\", \"Total Trips\": 191, \"N Trips\": 188, \"Trip Cutoff\": 5, \"Segment Cutoff\": 0.2, \"Cutoff\": \"5+ min & 20.0%+ segments\", \"Pct Usable Trips\": 0.9842931937172775}, {\"Gtfs Dataset Key\": \"0a3c3013dc4baff072e14f8ae8a796bb\", \"Name\": \"North County Schedule\", \"Total Trips\": 1298, \"N Trips\": 1298, \"Trip Cutoff\": 5, \"Segment Cutoff\": 0.2, \"Cutoff\": \"5+ min & 20.0%+ segments\", \"Pct Usable Trips\": 1.0}, {\"Gtfs Dataset Key\": \"0da5a62ebe57a31bce87abf9fbb2857a\", \"Name\": \"Bay Area 511 MVGO Schedule\", \"Total Trips\": 79, \"N Trips\": 79, \"Trip Cutoff\": 5, \"Segment Cutoff\": 0.2, \"Cutoff\": \"5+ min & 20.0%+ segments\", \"Pct Usable Trips\": 1.0}, {\"Gtfs Dataset Key\": \"0f68ec4d97d179570b494c74b6fca55d\", \"Name\": \"OCTA Schedule\", \"Total Trips\": 3175, \"N Trips\": 3169, \"Trip Cutoff\": 5, \"Segment Cutoff\": 0.2, \"Cutoff\": \"5+ min & 20.0%+ segments\", \"Pct Usable Trips\": 0.9981102362204725}, {\"Gtfs Dataset Key\": \"0faa34840bb65e96b7f83b7f379c2edd\", \"Name\": \"Bay Area 511 Emery Go-Round Schedule\", \"Total Trips\": 127, \"N Trips\": 126, \"Trip Cutoff\": 5, \"Segment Cutoff\": 0.2, \"Cutoff\": \"5+ min & 20.0%+ segments\", \"Pct Usable Trips\": 0.9921259842519685}, {\"Gtfs Dataset Key\": \"115fa7bd31a65b3210945ee884f36132\", \"Name\": \"Banning Pass Schedule\", \"Total Trips\": 44, \"N Trips\": 41, \"Trip Cutoff\": 5, \"Segment Cutoff\": 0.2, \"Cutoff\": \"5+ min & 20.0%+ segments\", \"Pct Usable Trips\": 0.9318181818181818}, {\"Gtfs Dataset Key\": \"13c6e9f58e53c12416b7754352fa1acd\", \"Name\": \"Bay Area 511 Sonoma-Marin Area Rail Transit Schedule\", \"Total Trips\": 38, \"N Trips\": 38, \"Trip Cutoff\": 5, \"Segment Cutoff\": 0.2, \"Cutoff\": \"5+ min & 20.0%+ segments\", \"Pct Usable Trips\": 1.0}, {\"Gtfs Dataset Key\": \"16ee668743cb1ea540bf833d301a1686\", \"Name\": \"Bay Area 511 County Connection Schedule\", \"Total Trips\": 593, \"N Trips\": 560, \"Trip Cutoff\": 5, \"Segment Cutoff\": 0.2, \"Cutoff\": \"5+ min & 20.0%+ segments\", \"Pct Usable Trips\": 0.9443507588532883}, {\"Gtfs Dataset Key\": \"17b259a4ae767d3ef5478964851cabb8\", \"Name\": \"WeHo Schedule\", \"Total Trips\": 64, \"N Trips\": 63, \"Trip Cutoff\": 5, \"Segment Cutoff\": 0.2, \"Cutoff\": \"5+ min & 20.0%+ segments\", \"Pct Usable Trips\": 0.984375}, {\"Gtfs Dataset Key\": \"1a4e07032b35ff5aae9438fefc374b55\", \"Name\": \"Antelope Valley Transit Authority Schedule\", \"Total Trips\": 348, \"N Trips\": 331, \"Trip Cutoff\": 5, \"Segment Cutoff\": 0.2, \"Cutoff\": \"5+ min & 20.0%+ segments\", \"Pct Usable Trips\": 0.9511494252873564}, {\"Gtfs Dataset Key\": \"2c82eb917900d5d8b69237702f68ab77\", \"Name\": \"Redding Schedule\", \"Total Trips\": 238, \"N Trips\": 234, \"Trip Cutoff\": 5, \"Segment Cutoff\": 0.2, \"Cutoff\": \"5+ min & 20.0%+ segments\", \"Pct Usable Trips\": 0.9831932773109243}, {\"Gtfs Dataset Key\": \"30e5260fa62b36db8c1dea91fc0c130d\", \"Name\": \"Elk Grove Schedule\", \"Total Trips\": 250, \"N Trips\": 248, \"Trip Cutoff\": 5, \"Segment Cutoff\": 0.2, \"Cutoff\": \"5+ min & 20.0%+ segments\", \"Pct Usable Trips\": 0.992}, {\"Gtfs Dataset Key\": \"3166ec2b9b4c75e31471d0c19384d97e\", \"Name\": \"Bay Area 511 SamTrans Schedule\", \"Total Trips\": 1376, \"N Trips\": 1360, \"Trip Cutoff\": 5, \"Segment Cutoff\": 0.2, \"Cutoff\": \"5+ min & 20.0%+ segments\", \"Pct Usable Trips\": 0.9883720930232558}, {\"Gtfs Dataset Key\": \"318c6bc87acccb67fb00aa9180aa5a12\", \"Name\": \"San Diego Schedule\", \"Total Trips\": 7180, \"N Trips\": 7162, \"Trip Cutoff\": 5, \"Segment Cutoff\": 0.2, \"Cutoff\": \"5+ min & 20.0%+ segments\", \"Pct Usable Trips\": 0.9974930362116992}, {\"Gtfs Dataset Key\": \"34b027e071739231b3a2bc0828b6e581\", \"Name\": \"Bay Area 511 Caltrain Schedule\", \"Total Trips\": 92, \"N Trips\": 86, \"Trip Cutoff\": 5, \"Segment Cutoff\": 0.2, \"Cutoff\": \"5+ min & 20.0%+ segments\", \"Pct Usable Trips\": 0.9347826086956522}, {\"Gtfs Dataset Key\": \"3a508d597e0f71941bd18367262a9cbc\", \"Name\": \"Pasadena Schedule\", \"Total Trips\": 314, \"N Trips\": 313, \"Trip Cutoff\": 5, \"Segment Cutoff\": 0.2, \"Cutoff\": \"5+ min & 20.0%+ segments\", \"Pct Usable Trips\": 0.9968152866242038}, {\"Gtfs Dataset Key\": \"3ab660737c49a3d77b2d418fa8f123fb\", \"Name\": \"Norwalk Avail Schedule\", \"Total Trips\": 13, \"N Trips\": 13, \"Trip Cutoff\": 5, \"Segment Cutoff\": 0.2, \"Cutoff\": \"5+ min & 20.0%+ segments\", \"Pct Usable Trips\": 1.0}, {\"Gtfs Dataset Key\": \"3aded1f694ac384eb4f98f2d42498950\", \"Name\": \"PresidiGo Schedule\", \"Total Trips\": 15, \"N Trips\": 13, \"Trip Cutoff\": 5, \"Segment Cutoff\": 0.2, \"Cutoff\": \"5+ min & 20.0%+ segments\", \"Pct Usable Trips\": 0.8666666666666667}, {\"Gtfs Dataset Key\": \"3c1b68c3dd8983c8fb8d2661fb7eb398\", \"Name\": \"Beach Cities GMV Schedule\", \"Total Trips\": 89, \"N Trips\": 84, \"Trip Cutoff\": 5, \"Segment Cutoff\": 0.2, \"Cutoff\": \"5+ min & 20.0%+ segments\", \"Pct Usable Trips\": 0.9438202247191011}, {\"Gtfs Dataset Key\": \"4340d7ccf61d3a169068ffef1e310daf\", \"Name\": \"Bay Area 511 Santa Rosa CityBus Schedule\", \"Total Trips\": 541, \"N Trips\": 539, \"Trip Cutoff\": 5, \"Segment Cutoff\": 0.2, \"Cutoff\": \"5+ min & 20.0%+ segments\", \"Pct Usable Trips\": 0.9963031423290203}, {\"Gtfs Dataset Key\": \"443649972c5f581abf6ea43a6f6fa7a7\", \"Name\": \"Culver City Schedule\", \"Total Trips\": 321, \"N Trips\": 312, \"Trip Cutoff\": 5, \"Segment Cutoff\": 0.2, \"Cutoff\": \"5+ min & 20.0%+ segments\", \"Pct Usable Trips\": 0.9719626168224299}, {\"Gtfs Dataset Key\": \"4594028c6c1ebbb6dbfb4284d7510b4e\", \"Name\": \"Foothill Schedule\", \"Total Trips\": 1295, \"N Trips\": 1246, \"Trip Cutoff\": 5, \"Segment Cutoff\": 0.2, \"Cutoff\": \"5+ min & 20.0%+ segments\", \"Pct Usable Trips\": 0.9621621621621622}, {\"Gtfs Dataset Key\": \"485c1365977842af8bfdab28fa07ba47\", \"Name\": \"Bay Area 511 SolTrans Schedule\", \"Total Trips\": 399, \"N Trips\": 394, \"Trip Cutoff\": 5, \"Segment Cutoff\": 0.2, \"Cutoff\": \"5+ min & 20.0%+ segments\", \"Pct Usable Trips\": 0.9874686716791979}, {\"Gtfs Dataset Key\": \"48b51d6d96bb01c42c87e40824248fe4\", \"Name\": \"Bay Area 511 WestCAT Schedule\", \"Total Trips\": 432, \"N Trips\": 429, \"Trip Cutoff\": 5, \"Segment Cutoff\": 0.2, \"Cutoff\": \"5+ min & 20.0%+ segments\", \"Pct Usable Trips\": 0.9930555555555556}, {\"Gtfs Dataset Key\": \"49fe49431d07dfa2a7342c73e46b6931\", \"Name\": \"Santa Maria Schedule\", \"Total Trips\": 18, \"N Trips\": 18, \"Trip Cutoff\": 5, \"Segment Cutoff\": 0.2, \"Cutoff\": \"5+ min & 20.0%+ segments\", \"Pct Usable Trips\": 1.0}, {\"Gtfs Dataset Key\": \"4a9d71507be65ce2f46e0beb26418b1a\", \"Name\": \"Commerce Schedule\", \"Total Trips\": 110, \"N Trips\": 107, \"Trip Cutoff\": 5, \"Segment Cutoff\": 0.2, \"Cutoff\": \"5+ min & 20.0%+ segments\", \"Pct Usable Trips\": 0.9727272727272728}, {\"Gtfs Dataset Key\": \"4bb240cf480589e58c6e58d06d6fb72c\", \"Name\": \"Bay Area 511 AC Transit Schedule\", \"Total Trips\": 5323, \"N Trips\": 5278, \"Trip Cutoff\": 5, \"Segment Cutoff\": 0.2, \"Cutoff\": \"5+ min & 20.0%+ segments\", \"Pct Usable Trips\": 0.9915461206086793}, {\"Gtfs Dataset Key\": \"5839b6a0ea1e93dc44574053e990d51e\", \"Name\": \"Madera County Connection Schedule\", \"Total Trips\": 27, \"N Trips\": 26, \"Trip Cutoff\": 5, \"Segment Cutoff\": 0.2, \"Cutoff\": \"5+ min & 20.0%+ segments\", \"Pct Usable Trips\": 0.9629629629629629}, {\"Gtfs Dataset Key\": \"5fcec68478fd5427be6bb2c4a3b240a6\", \"Name\": \"Burbank Schedule\", \"Total Trips\": 74, \"N Trips\": 72, \"Trip Cutoff\": 5, \"Segment Cutoff\": 0.2, \"Cutoff\": \"5+ min & 20.0%+ segments\", \"Pct Usable Trips\": 0.972972972972973}, {\"Gtfs Dataset Key\": \"609173a0aa18c6e168c54b8731584ffa\", \"Name\": \"Bay Area 511 Tri-Valley Wheels Schedule\", \"Total Trips\": 288, \"N Trips\": 281, \"Trip Cutoff\": 5, \"Segment Cutoff\": 0.2, \"Cutoff\": \"5+ min & 20.0%+ segments\", \"Pct Usable Trips\": 0.9756944444444444}, {\"Gtfs Dataset Key\": \"644cf39285755e8ba2dc68597faa48aa\", \"Name\": \"Bay Area 511 Muni Schedule\", \"Total Trips\": 9122, \"N Trips\": 9027, \"Trip Cutoff\": 5, \"Segment Cutoff\": 0.2, \"Cutoff\": \"5+ min & 20.0%+ segments\", \"Pct Usable Trips\": 0.9895856171892129}, {\"Gtfs Dataset Key\": \"651832dd0d35804ce4e30063d095e3e5\", \"Name\": \"Fresno Schedule\", \"Total Trips\": 1249, \"N Trips\": 1247, \"Trip Cutoff\": 5, \"Segment Cutoff\": 0.2, \"Cutoff\": \"5+ min & 20.0%+ segments\", \"Pct Usable Trips\": 0.9983987189751802}, {\"Gtfs Dataset Key\": \"65793dff25c6e0d53703911d49d797ea\", \"Name\": \"Bay Area 511 Fairfield and Suisun Transit Schedule\", \"Total Trips\": 258, \"N Trips\": 258, \"Trip Cutoff\": 5, \"Segment Cutoff\": 0.2, \"Cutoff\": \"5+ min & 20.0%+ segments\", \"Pct Usable Trips\": 1.0}, {\"Gtfs Dataset Key\": \"6d1991ecbdee1e06031cda8761757f03\", \"Name\": \"Bay Area 511 Dumbarton Express Schedule\", \"Total Trips\": 50, \"N Trips\": 48, \"Trip Cutoff\": 5, \"Segment Cutoff\": 0.2, \"Cutoff\": \"5+ min & 20.0%+ segments\", \"Pct Usable Trips\": 0.96}, {\"Gtfs Dataset Key\": \"6e460d0f1aec519c62478f4ed4c269d1\", \"Name\": \"Long Beach Schedule\", \"Total Trips\": 1420, \"N Trips\": 1382, \"Trip Cutoff\": 5, \"Segment Cutoff\": 0.2, \"Cutoff\": \"5+ min & 20.0%+ segments\", \"Pct Usable Trips\": 0.9732394366197183}, {\"Gtfs Dataset Key\": \"6ef1ef238c89b672380a82b091df9a2b\", \"Name\": \"Bay Area 511 Tri Delta Schedule\", \"Total Trips\": 487, \"N Trips\": 484, \"Trip Cutoff\": 5, \"Segment Cutoff\": 0.2, \"Cutoff\": \"5+ min & 20.0%+ segments\", \"Pct Usable Trips\": 0.9938398357289527}, {\"Gtfs Dataset Key\": \"707fef642f609018a05f649ffd491563\", \"Name\": \"GET Schedule\", \"Total Trips\": 567, \"N Trips\": 566, \"Trip Cutoff\": 5, \"Segment Cutoff\": 0.2, \"Cutoff\": \"5+ min & 20.0%+ segments\", \"Pct Usable Trips\": 0.9982363315696648}, {\"Gtfs Dataset Key\": \"70c6ca7a0f9df3109381cd55950cd99a\", \"Name\": \"Bay Area 511 Golden Gate Transit Schedule\", \"Total Trips\": 208, \"N Trips\": 208, \"Trip Cutoff\": 5, \"Segment Cutoff\": 0.2, \"Cutoff\": \"5+ min & 20.0%+ segments\", \"Pct Usable Trips\": 1.0}, {\"Gtfs Dataset Key\": \"73ebf252af88c41aaf4426c6d3dc586c\", \"Name\": \"Unitrans Schedule\", \"Total Trips\": 423, \"N Trips\": 401, \"Trip Cutoff\": 5, \"Segment Cutoff\": 0.2, \"Cutoff\": \"5+ min & 20.0%+ segments\", \"Pct Usable Trips\": 0.9479905437352246}, {\"Gtfs Dataset Key\": \"74fe15010f17ff576045422f9bb38b00\", \"Name\": \"Visalia Schedule\", \"Total Trips\": 436, \"N Trips\": 408, \"Trip Cutoff\": 5, \"Segment Cutoff\": 0.2, \"Cutoff\": \"5+ min & 20.0%+ segments\", \"Pct Usable Trips\": 0.9357798165137615}, {\"Gtfs Dataset Key\": \"7c48cc5675c9266fb6851070489c53e9\", \"Name\": \"LA Metro Bus Schedule\", \"Total Trips\": 13812, \"N Trips\": 13609, \"Trip Cutoff\": 5, \"Segment Cutoff\": 0.2, \"Cutoff\": \"5+ min & 20.0%+ segments\", \"Pct Usable Trips\": 0.9853026353895163}, {\"Gtfs Dataset Key\": \"82d94402b3325d1e93e2a1f5b80a300d\", \"Name\": \"Bay Area 511 Vine Transit Schedule\", \"Total Trips\": 135, \"N Trips\": 123, \"Trip Cutoff\": 5, \"Segment Cutoff\": 0.2, \"Cutoff\": \"5+ min & 20.0%+ segments\", \"Pct Usable Trips\": 0.9111111111111111}, {\"Gtfs Dataset Key\": \"8ee6ecf3c45ac2669ee96ae4c8550950\", \"Name\": \"Big Blue Bus Schedule\", \"Total Trips\": 1318, \"N Trips\": 1309, \"Trip Cutoff\": 5, \"Segment Cutoff\": 0.2, \"Cutoff\": \"5+ min & 20.0%+ segments\", \"Pct Usable Trips\": 0.9931714719271624}, {\"Gtfs Dataset Key\": \"8f0b9daf627c4f17cbe7f4460208a1af\", \"Name\": \"Santa Clarita Schedule\", \"Total Trips\": 381, \"N Trips\": 378, \"Trip Cutoff\": 5, \"Segment Cutoff\": 0.2, \"Cutoff\": \"5+ min & 20.0%+ segments\", \"Pct Usable Trips\": 0.9921259842519685}, {\"Gtfs Dataset Key\": \"910fbc31da89056bdee9ef48b235ef44\", \"Name\": \"VCTC GMV Schedule\", \"Total Trips\": 977, \"N Trips\": 957, \"Trip Cutoff\": 5, \"Segment Cutoff\": 0.2, \"Cutoff\": \"5+ min & 20.0%+ segments\", \"Pct Usable Trips\": 0.9795291709314228}, {\"Gtfs Dataset Key\": \"9b19dee2eacd2a4e70c2750056c005ff\", \"Name\": \"Bay Area 511 Sonoma County Transit Schedule\", \"Total Trips\": 148, \"N Trips\": 129, \"Trip Cutoff\": 5, \"Segment Cutoff\": 0.2, \"Cutoff\": \"5+ min & 20.0%+ segments\", \"Pct Usable Trips\": 0.8716216216216216}, {\"Gtfs Dataset Key\": \"9bd1e0098ba62c06837bf2330db605c2\", \"Name\": \"Torrance Schedule\", \"Total Trips\": 307, \"N Trips\": 302, \"Trip Cutoff\": 5, \"Segment Cutoff\": 0.2, \"Cutoff\": \"5+ min & 20.0%+ segments\", \"Pct Usable Trips\": 0.9837133550488599}, {\"Gtfs Dataset Key\": \"aa9fe79adc8edf93ebfb1ab83c8acc69\", \"Name\": \"Kings Schedule\", \"Total Trips\": 250, \"N Trips\": 249, \"Trip Cutoff\": 5, \"Segment Cutoff\": 0.2, \"Cutoff\": \"5+ min & 20.0%+ segments\", \"Pct Usable Trips\": 0.996}, {\"Gtfs Dataset Key\": \"ac86302bad2b6f66bb6d5aae35ffb52f\", \"Name\": \"Bay Area 511 Marin Schedule\", \"Total Trips\": 593, \"N Trips\": 543, \"Trip Cutoff\": 5, \"Segment Cutoff\": 0.2, \"Cutoff\": \"5+ min & 20.0%+ segments\", \"Pct Usable Trips\": 0.9156829679595279}, {\"Gtfs Dataset Key\": \"ae93720f3c32c12f9ed912e465066bfc\", \"Name\": \"Eastern Sierra Schedule\", \"Total Trips\": 243, \"N Trips\": 193, \"Trip Cutoff\": 5, \"Segment Cutoff\": 0.2, \"Cutoff\": \"5+ min & 20.0%+ segments\", \"Pct Usable Trips\": 0.7942386831275721}, {\"Gtfs Dataset Key\": \"b04260a7725206fcd69b4e4a68b13aae\", \"Name\": \"Yolobus Schedule\", \"Total Trips\": 94, \"N Trips\": 91, \"Trip Cutoff\": 5, \"Segment Cutoff\": 0.2, \"Cutoff\": \"5+ min & 20.0%+ segments\", \"Pct Usable Trips\": 0.9680851063829787}, {\"Gtfs Dataset Key\": \"bc21582ac1ad2b7de0647dfd5b76f67c\", \"Name\": \"Bay Area 511 Petaluma Schedule\", \"Total Trips\": 118, \"N Trips\": 101, \"Trip Cutoff\": 5, \"Segment Cutoff\": 0.2, \"Cutoff\": \"5+ min & 20.0%+ segments\", \"Pct Usable Trips\": 0.8559322033898306}, {\"Gtfs Dataset Key\": \"bdfa3214963bbc4ad4b08e3d5f726744\", \"Name\": \"Tahoe Transportation District Schedule\", \"Total Trips\": 48, \"N Trips\": 41, \"Trip Cutoff\": 5, \"Segment Cutoff\": 0.2, \"Cutoff\": \"5+ min & 20.0%+ segments\", \"Pct Usable Trips\": 0.8541666666666666}, {\"Gtfs Dataset Key\": \"c5b2bf3815a12d5f7242923ed399d1ea\", \"Name\": \"SBMTD Schedule\", \"Total Trips\": 653, \"N Trips\": 640, \"Trip Cutoff\": 5, \"Segment Cutoff\": 0.2, \"Cutoff\": \"5+ min & 20.0%+ segments\", \"Pct Usable Trips\": 0.9800918836140888}, {\"Gtfs Dataset Key\": \"c866d1f427084d94bfa3831d0014d775\", \"Name\": \"Monterey Salinas Schedule\", \"Total Trips\": 906, \"N Trips\": 903, \"Trip Cutoff\": 5, \"Segment Cutoff\": 0.2, \"Cutoff\": \"5+ min & 20.0%+ segments\", \"Pct Usable Trips\": 0.9966887417218543}, {\"Gtfs Dataset Key\": \"c9ec81d837b7ef2feedcea2c940f15d4\", \"Name\": \"Nevada County Schedule\", \"Total Trips\": 109, \"N Trips\": 102, \"Trip Cutoff\": 5, \"Segment Cutoff\": 0.2, \"Cutoff\": \"5+ min & 20.0%+ segments\", \"Pct Usable Trips\": 0.9357798165137615}, {\"Gtfs Dataset Key\": \"cb28d936a30d08f64661c81751af4382\", \"Name\": \"LA Metro Rail Schedule\", \"Total Trips\": 1224, \"N Trips\": 975, \"Trip Cutoff\": 5, \"Segment Cutoff\": 0.2, \"Cutoff\": \"5+ min & 20.0%+ segments\", \"Pct Usable Trips\": 0.7965686274509803}, {\"Gtfs Dataset Key\": \"d2f0224819832ba7d0039ff5e84c5bdd\", \"Name\": \"Victor Valley GMV Schedule\", \"Total Trips\": 817, \"N Trips\": 798, \"Trip Cutoff\": 5, \"Segment Cutoff\": 0.2, \"Cutoff\": \"5+ min & 20.0%+ segments\", \"Pct Usable Trips\": 0.9767441860465116}, {\"Gtfs Dataset Key\": \"d41e4cfdd42950bde9876c5dc670017d\", \"Name\": \"BruinBus Schedule\", \"Total Trips\": 5, \"N Trips\": 5, \"Trip Cutoff\": 5, \"Segment Cutoff\": 0.2, \"Cutoff\": \"5+ min & 20.0%+ segments\", \"Pct Usable Trips\": 1.0}, {\"Gtfs Dataset Key\": \"dac1d3922d8cb62f5feba57d5fdfb012\", \"Name\": \"Torrance Schedule\", \"Total Trips\": 101, \"N Trips\": 99, \"Trip Cutoff\": 5, \"Segment Cutoff\": 0.2, \"Cutoff\": \"5+ min & 20.0%+ segments\", \"Pct Usable Trips\": 0.9801980198019802}, {\"Gtfs Dataset Key\": \"ddc9965fcbf3beaba6d2cb40a3e67c1e\", \"Name\": \"Bay Area 511 San Francisco Bay Ferry Schedule\", \"Total Trips\": 149, \"N Trips\": 117, \"Trip Cutoff\": 5, \"Segment Cutoff\": 0.2, \"Cutoff\": \"5+ min & 20.0%+ segments\", \"Pct Usable Trips\": 0.785234899328859}, {\"Gtfs Dataset Key\": \"e70b24e4d4931a9ada95fc76a2b53e9b\", \"Name\": \"StanRTA Schedule\", \"Total Trips\": 700, \"N Trips\": 672, \"Trip Cutoff\": 5, \"Segment Cutoff\": 0.2, \"Cutoff\": \"5+ min & 20.0%+ segments\", \"Pct Usable Trips\": 0.96}, {\"Gtfs Dataset Key\": \"e88d7f9e3c43ddf41c75c94d12a440a9\", \"Name\": \"Bear Schedule\", \"Total Trips\": 151, \"N Trips\": 135, \"Trip Cutoff\": 5, \"Segment Cutoff\": 0.2, \"Cutoff\": \"5+ min & 20.0%+ segments\", \"Pct Usable Trips\": 0.8940397350993378}, {\"Gtfs Dataset Key\": \"ee4a7698aa24503c4058d10c238e6f8a\", \"Name\": \"Humboldt Schedule\", \"Total Trips\": 112, \"N Trips\": 106, \"Trip Cutoff\": 5, \"Segment Cutoff\": 0.2, \"Cutoff\": \"5+ min & 20.0%+ segments\", \"Pct Usable Trips\": 0.9464285714285714}, {\"Gtfs Dataset Key\": \"ee901494c3e6dabe62812966c94fa34c\", \"Name\": \"Santa Ynez Schedule\", \"Total Trips\": 25, \"N Trips\": 22, \"Trip Cutoff\": 5, \"Segment Cutoff\": 0.2, \"Cutoff\": \"5+ min & 20.0%+ segments\", \"Pct Usable Trips\": 0.88}, {\"Gtfs Dataset Key\": \"f09062d4bb1cb04b59bdc8232f0cfc90\", \"Name\": \"Turlock Schedule\", \"Total Trips\": 270, \"N Trips\": 269, \"Trip Cutoff\": 5, \"Segment Cutoff\": 0.2, \"Cutoff\": \"5+ min & 20.0%+ segments\", \"Pct Usable Trips\": 0.9962962962962963}, {\"Gtfs Dataset Key\": \"f1497340b654f3ce925f8b8c2f83e1c2\", \"Name\": \"Riverside Schedule\", \"Total Trips\": 1094, \"N Trips\": 1088, \"Trip Cutoff\": 5, \"Segment Cutoff\": 0.2, \"Cutoff\": \"5+ min & 20.0%+ segments\", \"Pct Usable Trips\": 0.9945155393053017}, {\"Gtfs Dataset Key\": \"02af2d11f5bd44434c581540e9e857d8\", \"Name\": \"LA DOT Schedule\", \"Total Trips\": 2899, \"N Trips\": 2745, \"Trip Cutoff\": 5, \"Segment Cutoff\": 0.4, \"Cutoff\": \"5+ min & 40.0%+ segments\", \"Pct Usable Trips\": 0.9468782338737496}, {\"Gtfs Dataset Key\": \"03cadbffef6f3cd4ce839b218bc65e82\", \"Name\": \"Bay Area 511 Santa Clara Transit Schedule\", \"Total Trips\": 3699, \"N Trips\": 3633, \"Trip Cutoff\": 5, \"Segment Cutoff\": 0.4, \"Cutoff\": \"5+ min & 40.0%+ segments\", \"Pct Usable Trips\": 0.9821573398215734}, {\"Gtfs Dataset Key\": \"087e5ecdcf65499829e681a60e606637\", \"Name\": \"Lake Schedule\", \"Total Trips\": 65, \"N Trips\": 56, \"Trip Cutoff\": 5, \"Segment Cutoff\": 0.4, \"Cutoff\": \"5+ min & 40.0%+ segments\", \"Pct Usable Trips\": 0.8615384615384616}, {\"Gtfs Dataset Key\": \"08c4e0555b1b90cd7464ac801157a167\", \"Name\": \"Bay Area 511 Union City Transit Schedule\", \"Total Trips\": 191, \"N Trips\": 187, \"Trip Cutoff\": 5, \"Segment Cutoff\": 0.4, \"Cutoff\": \"5+ min & 40.0%+ segments\", \"Pct Usable Trips\": 0.9790575916230366}, {\"Gtfs Dataset Key\": \"0a3c3013dc4baff072e14f8ae8a796bb\", \"Name\": \"North County Schedule\", \"Total Trips\": 1298, \"N Trips\": 1293, \"Trip Cutoff\": 5, \"Segment Cutoff\": 0.4, \"Cutoff\": \"5+ min & 40.0%+ segments\", \"Pct Usable Trips\": 0.9961479198767335}, {\"Gtfs Dataset Key\": \"0da5a62ebe57a31bce87abf9fbb2857a\", \"Name\": \"Bay Area 511 MVGO Schedule\", \"Total Trips\": 79, \"N Trips\": 79, \"Trip Cutoff\": 5, \"Segment Cutoff\": 0.4, \"Cutoff\": \"5+ min & 40.0%+ segments\", \"Pct Usable Trips\": 1.0}, {\"Gtfs Dataset Key\": \"0f68ec4d97d179570b494c74b6fca55d\", \"Name\": \"OCTA Schedule\", \"Total Trips\": 3175, \"N Trips\": 3159, \"Trip Cutoff\": 5, \"Segment Cutoff\": 0.4, \"Cutoff\": \"5+ min & 40.0%+ segments\", \"Pct Usable Trips\": 0.9949606299212599}, {\"Gtfs Dataset Key\": \"0faa34840bb65e96b7f83b7f379c2edd\", \"Name\": \"Bay Area 511 Emery Go-Round Schedule\", \"Total Trips\": 127, \"N Trips\": 125, \"Trip Cutoff\": 5, \"Segment Cutoff\": 0.4, \"Cutoff\": \"5+ min & 40.0%+ segments\", \"Pct Usable Trips\": 0.984251968503937}, {\"Gtfs Dataset Key\": \"115fa7bd31a65b3210945ee884f36132\", \"Name\": \"Banning Pass Schedule\", \"Total Trips\": 44, \"N Trips\": 39, \"Trip Cutoff\": 5, \"Segment Cutoff\": 0.4, \"Cutoff\": \"5+ min & 40.0%+ segments\", \"Pct Usable Trips\": 0.8863636363636364}, {\"Gtfs Dataset Key\": \"13c6e9f58e53c12416b7754352fa1acd\", \"Name\": \"Bay Area 511 Sonoma-Marin Area Rail Transit Schedule\", \"Total Trips\": 38, \"N Trips\": 38, \"Trip Cutoff\": 5, \"Segment Cutoff\": 0.4, \"Cutoff\": \"5+ min & 40.0%+ segments\", \"Pct Usable Trips\": 1.0}, {\"Gtfs Dataset Key\": \"16ee668743cb1ea540bf833d301a1686\", \"Name\": \"Bay Area 511 County Connection Schedule\", \"Total Trips\": 593, \"N Trips\": 549, \"Trip Cutoff\": 5, \"Segment Cutoff\": 0.4, \"Cutoff\": \"5+ min & 40.0%+ segments\", \"Pct Usable Trips\": 0.9258010118043845}, {\"Gtfs Dataset Key\": \"17b259a4ae767d3ef5478964851cabb8\", \"Name\": \"WeHo Schedule\", \"Total Trips\": 64, \"N Trips\": 62, \"Trip Cutoff\": 5, \"Segment Cutoff\": 0.4, \"Cutoff\": \"5+ min & 40.0%+ segments\", \"Pct Usable Trips\": 0.96875}, {\"Gtfs Dataset Key\": \"1a4e07032b35ff5aae9438fefc374b55\", \"Name\": \"Antelope Valley Transit Authority Schedule\", \"Total Trips\": 348, \"N Trips\": 304, \"Trip Cutoff\": 5, \"Segment Cutoff\": 0.4, \"Cutoff\": \"5+ min & 40.0%+ segments\", \"Pct Usable Trips\": 0.8735632183908046}, {\"Gtfs Dataset Key\": \"2c82eb917900d5d8b69237702f68ab77\", \"Name\": \"Redding Schedule\", \"Total Trips\": 238, \"N Trips\": 232, \"Trip Cutoff\": 5, \"Segment Cutoff\": 0.4, \"Cutoff\": \"5+ min & 40.0%+ segments\", \"Pct Usable Trips\": 0.9747899159663865}, {\"Gtfs Dataset Key\": \"30e5260fa62b36db8c1dea91fc0c130d\", \"Name\": \"Elk Grove Schedule\", \"Total Trips\": 250, \"N Trips\": 248, \"Trip Cutoff\": 5, \"Segment Cutoff\": 0.4, \"Cutoff\": \"5+ min & 40.0%+ segments\", \"Pct Usable Trips\": 0.992}, {\"Gtfs Dataset Key\": \"3166ec2b9b4c75e31471d0c19384d97e\", \"Name\": \"Bay Area 511 SamTrans Schedule\", \"Total Trips\": 1376, \"N Trips\": 1346, \"Trip Cutoff\": 5, \"Segment Cutoff\": 0.4, \"Cutoff\": \"5+ min & 40.0%+ segments\", \"Pct Usable Trips\": 0.9781976744186046}, {\"Gtfs Dataset Key\": \"318c6bc87acccb67fb00aa9180aa5a12\", \"Name\": \"San Diego Schedule\", \"Total Trips\": 7180, \"N Trips\": 7042, \"Trip Cutoff\": 5, \"Segment Cutoff\": 0.4, \"Cutoff\": \"5+ min & 40.0%+ segments\", \"Pct Usable Trips\": 0.9807799442896936}, {\"Gtfs Dataset Key\": \"34b027e071739231b3a2bc0828b6e581\", \"Name\": \"Bay Area 511 Caltrain Schedule\", \"Total Trips\": 92, \"N Trips\": 76, \"Trip Cutoff\": 5, \"Segment Cutoff\": 0.4, \"Cutoff\": \"5+ min & 40.0%+ segments\", \"Pct Usable Trips\": 0.8260869565217391}, {\"Gtfs Dataset Key\": \"3a508d597e0f71941bd18367262a9cbc\", \"Name\": \"Pasadena Schedule\", \"Total Trips\": 314, \"N Trips\": 308, \"Trip Cutoff\": 5, \"Segment Cutoff\": 0.4, \"Cutoff\": \"5+ min & 40.0%+ segments\", \"Pct Usable Trips\": 0.9808917197452229}, {\"Gtfs Dataset Key\": \"3ab660737c49a3d77b2d418fa8f123fb\", \"Name\": \"Norwalk Avail Schedule\", \"Total Trips\": 13, \"N Trips\": 13, \"Trip Cutoff\": 5, \"Segment Cutoff\": 0.4, \"Cutoff\": \"5+ min & 40.0%+ segments\", \"Pct Usable Trips\": 1.0}, {\"Gtfs Dataset Key\": \"3aded1f694ac384eb4f98f2d42498950\", \"Name\": \"PresidiGo Schedule\", \"Total Trips\": 15, \"N Trips\": 12, \"Trip Cutoff\": 5, \"Segment Cutoff\": 0.4, \"Cutoff\": \"5+ min & 40.0%+ segments\", \"Pct Usable Trips\": 0.8}, {\"Gtfs Dataset Key\": \"3c1b68c3dd8983c8fb8d2661fb7eb398\", \"Name\": \"Beach Cities GMV Schedule\", \"Total Trips\": 89, \"N Trips\": 83, \"Trip Cutoff\": 5, \"Segment Cutoff\": 0.4, \"Cutoff\": \"5+ min & 40.0%+ segments\", \"Pct Usable Trips\": 0.9325842696629213}, {\"Gtfs Dataset Key\": \"4340d7ccf61d3a169068ffef1e310daf\", \"Name\": \"Bay Area 511 Santa Rosa CityBus Schedule\", \"Total Trips\": 541, \"N Trips\": 537, \"Trip Cutoff\": 5, \"Segment Cutoff\": 0.4, \"Cutoff\": \"5+ min & 40.0%+ segments\", \"Pct Usable Trips\": 0.9926062846580407}, {\"Gtfs Dataset Key\": \"443649972c5f581abf6ea43a6f6fa7a7\", \"Name\": \"Culver City Schedule\", \"Total Trips\": 321, \"N Trips\": 305, \"Trip Cutoff\": 5, \"Segment Cutoff\": 0.4, \"Cutoff\": \"5+ min & 40.0%+ segments\", \"Pct Usable Trips\": 0.9501557632398754}, {\"Gtfs Dataset Key\": \"4594028c6c1ebbb6dbfb4284d7510b4e\", \"Name\": \"Foothill Schedule\", \"Total Trips\": 1295, \"N Trips\": 1207, \"Trip Cutoff\": 5, \"Segment Cutoff\": 0.4, \"Cutoff\": \"5+ min & 40.0%+ segments\", \"Pct Usable Trips\": 0.932046332046332}, {\"Gtfs Dataset Key\": \"485c1365977842af8bfdab28fa07ba47\", \"Name\": \"Bay Area 511 SolTrans Schedule\", \"Total Trips\": 399, \"N Trips\": 392, \"Trip Cutoff\": 5, \"Segment Cutoff\": 0.4, \"Cutoff\": \"5+ min & 40.0%+ segments\", \"Pct Usable Trips\": 0.9824561403508771}, {\"Gtfs Dataset Key\": \"48b51d6d96bb01c42c87e40824248fe4\", \"Name\": \"Bay Area 511 WestCAT Schedule\", \"Total Trips\": 432, \"N Trips\": 428, \"Trip Cutoff\": 5, \"Segment Cutoff\": 0.4, \"Cutoff\": \"5+ min & 40.0%+ segments\", \"Pct Usable Trips\": 0.9907407407407407}, {\"Gtfs Dataset Key\": \"49fe49431d07dfa2a7342c73e46b6931\", \"Name\": \"Santa Maria Schedule\", \"Total Trips\": 18, \"N Trips\": 18, \"Trip Cutoff\": 5, \"Segment Cutoff\": 0.4, \"Cutoff\": \"5+ min & 40.0%+ segments\", \"Pct Usable Trips\": 1.0}, {\"Gtfs Dataset Key\": \"4a9d71507be65ce2f46e0beb26418b1a\", \"Name\": \"Commerce Schedule\", \"Total Trips\": 110, \"N Trips\": 106, \"Trip Cutoff\": 5, \"Segment Cutoff\": 0.4, \"Cutoff\": \"5+ min & 40.0%+ segments\", \"Pct Usable Trips\": 0.9636363636363636}, {\"Gtfs Dataset Key\": \"4bb240cf480589e58c6e58d06d6fb72c\", \"Name\": \"Bay Area 511 AC Transit Schedule\", \"Total Trips\": 5323, \"N Trips\": 5236, \"Trip Cutoff\": 5, \"Segment Cutoff\": 0.4, \"Cutoff\": \"5+ min & 40.0%+ segments\", \"Pct Usable Trips\": 0.98365583317678}, {\"Gtfs Dataset Key\": \"5839b6a0ea1e93dc44574053e990d51e\", \"Name\": \"Madera County Connection Schedule\", \"Total Trips\": 27, \"N Trips\": 26, \"Trip Cutoff\": 5, \"Segment Cutoff\": 0.4, \"Cutoff\": \"5+ min & 40.0%+ segments\", \"Pct Usable Trips\": 0.9629629629629629}, {\"Gtfs Dataset Key\": \"5fcec68478fd5427be6bb2c4a3b240a6\", \"Name\": \"Burbank Schedule\", \"Total Trips\": 74, \"N Trips\": 72, \"Trip Cutoff\": 5, \"Segment Cutoff\": 0.4, \"Cutoff\": \"5+ min & 40.0%+ segments\", \"Pct Usable Trips\": 0.972972972972973}, {\"Gtfs Dataset Key\": \"609173a0aa18c6e168c54b8731584ffa\", \"Name\": \"Bay Area 511 Tri-Valley Wheels Schedule\", \"Total Trips\": 288, \"N Trips\": 272, \"Trip Cutoff\": 5, \"Segment Cutoff\": 0.4, \"Cutoff\": \"5+ min & 40.0%+ segments\", \"Pct Usable Trips\": 0.9444444444444444}, {\"Gtfs Dataset Key\": \"644cf39285755e8ba2dc68597faa48aa\", \"Name\": \"Bay Area 511 Muni Schedule\", \"Total Trips\": 9122, \"N Trips\": 8699, \"Trip Cutoff\": 5, \"Segment Cutoff\": 0.4, \"Cutoff\": \"5+ min & 40.0%+ segments\", \"Pct Usable Trips\": 0.9536285902214426}, {\"Gtfs Dataset Key\": \"651832dd0d35804ce4e30063d095e3e5\", \"Name\": \"Fresno Schedule\", \"Total Trips\": 1249, \"N Trips\": 1227, \"Trip Cutoff\": 5, \"Segment Cutoff\": 0.4, \"Cutoff\": \"5+ min & 40.0%+ segments\", \"Pct Usable Trips\": 0.9823859087269816}, {\"Gtfs Dataset Key\": \"65793dff25c6e0d53703911d49d797ea\", \"Name\": \"Bay Area 511 Fairfield and Suisun Transit Schedule\", \"Total Trips\": 258, \"N Trips\": 258, \"Trip Cutoff\": 5, \"Segment Cutoff\": 0.4, \"Cutoff\": \"5+ min & 40.0%+ segments\", \"Pct Usable Trips\": 1.0}, {\"Gtfs Dataset Key\": \"6d1991ecbdee1e06031cda8761757f03\", \"Name\": \"Bay Area 511 Dumbarton Express Schedule\", \"Total Trips\": 50, \"N Trips\": 42, \"Trip Cutoff\": 5, \"Segment Cutoff\": 0.4, \"Cutoff\": \"5+ min & 40.0%+ segments\", \"Pct Usable Trips\": 0.84}, {\"Gtfs Dataset Key\": \"6e460d0f1aec519c62478f4ed4c269d1\", \"Name\": \"Long Beach Schedule\", \"Total Trips\": 1420, \"N Trips\": 1360, \"Trip Cutoff\": 5, \"Segment Cutoff\": 0.4, \"Cutoff\": \"5+ min & 40.0%+ segments\", \"Pct Usable Trips\": 0.9577464788732394}, {\"Gtfs Dataset Key\": \"6ef1ef238c89b672380a82b091df9a2b\", \"Name\": \"Bay Area 511 Tri Delta Schedule\", \"Total Trips\": 487, \"N Trips\": 474, \"Trip Cutoff\": 5, \"Segment Cutoff\": 0.4, \"Cutoff\": \"5+ min & 40.0%+ segments\", \"Pct Usable Trips\": 0.973305954825462}, {\"Gtfs Dataset Key\": \"707fef642f609018a05f649ffd491563\", \"Name\": \"GET Schedule\", \"Total Trips\": 567, \"N Trips\": 564, \"Trip Cutoff\": 5, \"Segment Cutoff\": 0.4, \"Cutoff\": \"5+ min & 40.0%+ segments\", \"Pct Usable Trips\": 0.9947089947089947}, {\"Gtfs Dataset Key\": \"70c6ca7a0f9df3109381cd55950cd99a\", \"Name\": \"Bay Area 511 Golden Gate Transit Schedule\", \"Total Trips\": 208, \"N Trips\": 200, \"Trip Cutoff\": 5, \"Segment Cutoff\": 0.4, \"Cutoff\": \"5+ min & 40.0%+ segments\", \"Pct Usable Trips\": 0.9615384615384616}, {\"Gtfs Dataset Key\": \"73ebf252af88c41aaf4426c6d3dc586c\", \"Name\": \"Unitrans Schedule\", \"Total Trips\": 423, \"N Trips\": 392, \"Trip Cutoff\": 5, \"Segment Cutoff\": 0.4, \"Cutoff\": \"5+ min & 40.0%+ segments\", \"Pct Usable Trips\": 0.9267139479905437}, {\"Gtfs Dataset Key\": \"74fe15010f17ff576045422f9bb38b00\", \"Name\": \"Visalia Schedule\", \"Total Trips\": 436, \"N Trips\": 403, \"Trip Cutoff\": 5, \"Segment Cutoff\": 0.4, \"Cutoff\": \"5+ min & 40.0%+ segments\", \"Pct Usable Trips\": 0.9243119266055045}, {\"Gtfs Dataset Key\": \"7c48cc5675c9266fb6851070489c53e9\", \"Name\": \"LA Metro Bus Schedule\", \"Total Trips\": 13812, \"N Trips\": 13374, \"Trip Cutoff\": 5, \"Segment Cutoff\": 0.4, \"Cutoff\": \"5+ min & 40.0%+ segments\", \"Pct Usable Trips\": 0.9682884448305821}, {\"Gtfs Dataset Key\": \"82d94402b3325d1e93e2a1f5b80a300d\", \"Name\": \"Bay Area 511 Vine Transit Schedule\", \"Total Trips\": 135, \"N Trips\": 121, \"Trip Cutoff\": 5, \"Segment Cutoff\": 0.4, \"Cutoff\": \"5+ min & 40.0%+ segments\", \"Pct Usable Trips\": 0.8962962962962963}, {\"Gtfs Dataset Key\": \"8ee6ecf3c45ac2669ee96ae4c8550950\", \"Name\": \"Big Blue Bus Schedule\", \"Total Trips\": 1318, \"N Trips\": 1293, \"Trip Cutoff\": 5, \"Segment Cutoff\": 0.4, \"Cutoff\": \"5+ min & 40.0%+ segments\", \"Pct Usable Trips\": 0.9810318664643399}, {\"Gtfs Dataset Key\": \"8f0b9daf627c4f17cbe7f4460208a1af\", \"Name\": \"Santa Clarita Schedule\", \"Total Trips\": 381, \"N Trips\": 372, \"Trip Cutoff\": 5, \"Segment Cutoff\": 0.4, \"Cutoff\": \"5+ min & 40.0%+ segments\", \"Pct Usable Trips\": 0.9763779527559056}, {\"Gtfs Dataset Key\": \"910fbc31da89056bdee9ef48b235ef44\", \"Name\": \"VCTC GMV Schedule\", \"Total Trips\": 977, \"N Trips\": 949, \"Trip Cutoff\": 5, \"Segment Cutoff\": 0.4, \"Cutoff\": \"5+ min & 40.0%+ segments\", \"Pct Usable Trips\": 0.9713408393039918}, {\"Gtfs Dataset Key\": \"9b19dee2eacd2a4e70c2750056c005ff\", \"Name\": \"Bay Area 511 Sonoma County Transit Schedule\", \"Total Trips\": 148, \"N Trips\": 117, \"Trip Cutoff\": 5, \"Segment Cutoff\": 0.4, \"Cutoff\": \"5+ min & 40.0%+ segments\", \"Pct Usable Trips\": 0.7905405405405406}, {\"Gtfs Dataset Key\": \"9bd1e0098ba62c06837bf2330db605c2\", \"Name\": \"Torrance Schedule\", \"Total Trips\": 307, \"N Trips\": 301, \"Trip Cutoff\": 5, \"Segment Cutoff\": 0.4, \"Cutoff\": \"5+ min & 40.0%+ segments\", \"Pct Usable Trips\": 0.9804560260586319}, {\"Gtfs Dataset Key\": \"aa9fe79adc8edf93ebfb1ab83c8acc69\", \"Name\": \"Kings Schedule\", \"Total Trips\": 250, \"N Trips\": 247, \"Trip Cutoff\": 5, \"Segment Cutoff\": 0.4, \"Cutoff\": \"5+ min & 40.0%+ segments\", \"Pct Usable Trips\": 0.988}, {\"Gtfs Dataset Key\": \"ac86302bad2b6f66bb6d5aae35ffb52f\", \"Name\": \"Bay Area 511 Marin Schedule\", \"Total Trips\": 593, \"N Trips\": 485, \"Trip Cutoff\": 5, \"Segment Cutoff\": 0.4, \"Cutoff\": \"5+ min & 40.0%+ segments\", \"Pct Usable Trips\": 0.8178752107925801}, {\"Gtfs Dataset Key\": \"ae93720f3c32c12f9ed912e465066bfc\", \"Name\": \"Eastern Sierra Schedule\", \"Total Trips\": 243, \"N Trips\": 182, \"Trip Cutoff\": 5, \"Segment Cutoff\": 0.4, \"Cutoff\": \"5+ min & 40.0%+ segments\", \"Pct Usable Trips\": 0.7489711934156379}, {\"Gtfs Dataset Key\": \"b04260a7725206fcd69b4e4a68b13aae\", \"Name\": \"Yolobus Schedule\", \"Total Trips\": 94, \"N Trips\": 90, \"Trip Cutoff\": 5, \"Segment Cutoff\": 0.4, \"Cutoff\": \"5+ min & 40.0%+ segments\", \"Pct Usable Trips\": 0.9574468085106383}, {\"Gtfs Dataset Key\": \"bc21582ac1ad2b7de0647dfd5b76f67c\", \"Name\": \"Bay Area 511 Petaluma Schedule\", \"Total Trips\": 118, \"N Trips\": 100, \"Trip Cutoff\": 5, \"Segment Cutoff\": 0.4, \"Cutoff\": \"5+ min & 40.0%+ segments\", \"Pct Usable Trips\": 0.847457627118644}, {\"Gtfs Dataset Key\": \"bdfa3214963bbc4ad4b08e3d5f726744\", \"Name\": \"Tahoe Transportation District Schedule\", \"Total Trips\": 48, \"N Trips\": 38, \"Trip Cutoff\": 5, \"Segment Cutoff\": 0.4, \"Cutoff\": \"5+ min & 40.0%+ segments\", \"Pct Usable Trips\": 0.7916666666666666}, {\"Gtfs Dataset Key\": \"c5b2bf3815a12d5f7242923ed399d1ea\", \"Name\": \"SBMTD Schedule\", \"Total Trips\": 653, \"N Trips\": 623, \"Trip Cutoff\": 5, \"Segment Cutoff\": 0.4, \"Cutoff\": \"5+ min & 40.0%+ segments\", \"Pct Usable Trips\": 0.9540581929555896}, {\"Gtfs Dataset Key\": \"c866d1f427084d94bfa3831d0014d775\", \"Name\": \"Monterey Salinas Schedule\", \"Total Trips\": 906, \"N Trips\": 901, \"Trip Cutoff\": 5, \"Segment Cutoff\": 0.4, \"Cutoff\": \"5+ min & 40.0%+ segments\", \"Pct Usable Trips\": 0.9944812362030905}, {\"Gtfs Dataset Key\": \"c9ec81d837b7ef2feedcea2c940f15d4\", \"Name\": \"Nevada County Schedule\", \"Total Trips\": 109, \"N Trips\": 101, \"Trip Cutoff\": 5, \"Segment Cutoff\": 0.4, \"Cutoff\": \"5+ min & 40.0%+ segments\", \"Pct Usable Trips\": 0.926605504587156}, {\"Gtfs Dataset Key\": \"cb28d936a30d08f64661c81751af4382\", \"Name\": \"LA Metro Rail Schedule\", \"Total Trips\": 1224, \"N Trips\": 945, \"Trip Cutoff\": 5, \"Segment Cutoff\": 0.4, \"Cutoff\": \"5+ min & 40.0%+ segments\", \"Pct Usable Trips\": 0.7720588235294118}, {\"Gtfs Dataset Key\": \"d2f0224819832ba7d0039ff5e84c5bdd\", \"Name\": \"Victor Valley GMV Schedule\", \"Total Trips\": 817, \"N Trips\": 792, \"Trip Cutoff\": 5, \"Segment Cutoff\": 0.4, \"Cutoff\": \"5+ min & 40.0%+ segments\", \"Pct Usable Trips\": 0.9694002447980417}, {\"Gtfs Dataset Key\": \"d41e4cfdd42950bde9876c5dc670017d\", \"Name\": \"BruinBus Schedule\", \"Total Trips\": 5, \"N Trips\": 5, \"Trip Cutoff\": 5, \"Segment Cutoff\": 0.4, \"Cutoff\": \"5+ min & 40.0%+ segments\", \"Pct Usable Trips\": 1.0}, {\"Gtfs Dataset Key\": \"dac1d3922d8cb62f5feba57d5fdfb012\", \"Name\": \"Torrance Schedule\", \"Total Trips\": 101, \"N Trips\": 97, \"Trip Cutoff\": 5, \"Segment Cutoff\": 0.4, \"Cutoff\": \"5+ min & 40.0%+ segments\", \"Pct Usable Trips\": 0.9603960396039604}, {\"Gtfs Dataset Key\": \"ddc9965fcbf3beaba6d2cb40a3e67c1e\", \"Name\": \"Bay Area 511 San Francisco Bay Ferry Schedule\", \"Total Trips\": 149, \"N Trips\": 75, \"Trip Cutoff\": 5, \"Segment Cutoff\": 0.4, \"Cutoff\": \"5+ min & 40.0%+ segments\", \"Pct Usable Trips\": 0.5033557046979866}, {\"Gtfs Dataset Key\": \"e70b24e4d4931a9ada95fc76a2b53e9b\", \"Name\": \"StanRTA Schedule\", \"Total Trips\": 700, \"N Trips\": 665, \"Trip Cutoff\": 5, \"Segment Cutoff\": 0.4, \"Cutoff\": \"5+ min & 40.0%+ segments\", \"Pct Usable Trips\": 0.95}, {\"Gtfs Dataset Key\": \"e88d7f9e3c43ddf41c75c94d12a440a9\", \"Name\": \"Bear Schedule\", \"Total Trips\": 151, \"N Trips\": 131, \"Trip Cutoff\": 5, \"Segment Cutoff\": 0.4, \"Cutoff\": \"5+ min & 40.0%+ segments\", \"Pct Usable Trips\": 0.8675496688741722}, {\"Gtfs Dataset Key\": \"ee4a7698aa24503c4058d10c238e6f8a\", \"Name\": \"Humboldt Schedule\", \"Total Trips\": 112, \"N Trips\": 105, \"Trip Cutoff\": 5, \"Segment Cutoff\": 0.4, \"Cutoff\": \"5+ min & 40.0%+ segments\", \"Pct Usable Trips\": 0.9375}, {\"Gtfs Dataset Key\": \"ee901494c3e6dabe62812966c94fa34c\", \"Name\": \"Santa Ynez Schedule\", \"Total Trips\": 25, \"N Trips\": 21, \"Trip Cutoff\": 5, \"Segment Cutoff\": 0.4, \"Cutoff\": \"5+ min & 40.0%+ segments\", \"Pct Usable Trips\": 0.84}, {\"Gtfs Dataset Key\": \"f09062d4bb1cb04b59bdc8232f0cfc90\", \"Name\": \"Turlock Schedule\", \"Total Trips\": 270, \"N Trips\": 269, \"Trip Cutoff\": 5, \"Segment Cutoff\": 0.4, \"Cutoff\": \"5+ min & 40.0%+ segments\", \"Pct Usable Trips\": 0.9962962962962963}, {\"Gtfs Dataset Key\": \"f1497340b654f3ce925f8b8c2f83e1c2\", \"Name\": \"Riverside Schedule\", \"Total Trips\": 1094, \"N Trips\": 1081, \"Trip Cutoff\": 5, \"Segment Cutoff\": 0.4, \"Cutoff\": \"5+ min & 40.0%+ segments\", \"Pct Usable Trips\": 0.9881170018281535}, {\"Gtfs Dataset Key\": \"02af2d11f5bd44434c581540e9e857d8\", \"Name\": \"LA DOT Schedule\", \"Total Trips\": 2899, \"N Trips\": 2660, \"Trip Cutoff\": 5, \"Segment Cutoff\": 0.6, \"Cutoff\": \"5+ min & 60.0%+ segments\", \"Pct Usable Trips\": 0.9175577785443256}, {\"Gtfs Dataset Key\": \"03cadbffef6f3cd4ce839b218bc65e82\", \"Name\": \"Bay Area 511 Santa Clara Transit Schedule\", \"Total Trips\": 3699, \"N Trips\": 3573, \"Trip Cutoff\": 5, \"Segment Cutoff\": 0.6, \"Cutoff\": \"5+ min & 60.0%+ segments\", \"Pct Usable Trips\": 0.9659367396593674}, {\"Gtfs Dataset Key\": \"087e5ecdcf65499829e681a60e606637\", \"Name\": \"Lake Schedule\", \"Total Trips\": 65, \"N Trips\": 56, \"Trip Cutoff\": 5, \"Segment Cutoff\": 0.6, \"Cutoff\": \"5+ min & 60.0%+ segments\", \"Pct Usable Trips\": 0.8615384615384616}, {\"Gtfs Dataset Key\": \"08c4e0555b1b90cd7464ac801157a167\", \"Name\": \"Bay Area 511 Union City Transit Schedule\", \"Total Trips\": 191, \"N Trips\": 185, \"Trip Cutoff\": 5, \"Segment Cutoff\": 0.6, \"Cutoff\": \"5+ min & 60.0%+ segments\", \"Pct Usable Trips\": 0.9685863874345549}, {\"Gtfs Dataset Key\": \"0a3c3013dc4baff072e14f8ae8a796bb\", \"Name\": \"North County Schedule\", \"Total Trips\": 1298, \"N Trips\": 1282, \"Trip Cutoff\": 5, \"Segment Cutoff\": 0.6, \"Cutoff\": \"5+ min & 60.0%+ segments\", \"Pct Usable Trips\": 0.987673343605547}, {\"Gtfs Dataset Key\": \"0da5a62ebe57a31bce87abf9fbb2857a\", \"Name\": \"Bay Area 511 MVGO Schedule\", \"Total Trips\": 79, \"N Trips\": 77, \"Trip Cutoff\": 5, \"Segment Cutoff\": 0.6, \"Cutoff\": \"5+ min & 60.0%+ segments\", \"Pct Usable Trips\": 0.9746835443037974}, {\"Gtfs Dataset Key\": \"0f68ec4d97d179570b494c74b6fca55d\", \"Name\": \"OCTA Schedule\", \"Total Trips\": 3175, \"N Trips\": 3087, \"Trip Cutoff\": 5, \"Segment Cutoff\": 0.6, \"Cutoff\": \"5+ min & 60.0%+ segments\", \"Pct Usable Trips\": 0.9722834645669292}, {\"Gtfs Dataset Key\": \"0faa34840bb65e96b7f83b7f379c2edd\", \"Name\": \"Bay Area 511 Emery Go-Round Schedule\", \"Total Trips\": 127, \"N Trips\": 124, \"Trip Cutoff\": 5, \"Segment Cutoff\": 0.6, \"Cutoff\": \"5+ min & 60.0%+ segments\", \"Pct Usable Trips\": 0.9763779527559056}, {\"Gtfs Dataset Key\": \"115fa7bd31a65b3210945ee884f36132\", \"Name\": \"Banning Pass Schedule\", \"Total Trips\": 44, \"N Trips\": 38, \"Trip Cutoff\": 5, \"Segment Cutoff\": 0.6, \"Cutoff\": \"5+ min & 60.0%+ segments\", \"Pct Usable Trips\": 0.8636363636363636}, {\"Gtfs Dataset Key\": \"13c6e9f58e53c12416b7754352fa1acd\", \"Name\": \"Bay Area 511 Sonoma-Marin Area Rail Transit Schedule\", \"Total Trips\": 38, \"N Trips\": 38, \"Trip Cutoff\": 5, \"Segment Cutoff\": 0.6, \"Cutoff\": \"5+ min & 60.0%+ segments\", \"Pct Usable Trips\": 1.0}, {\"Gtfs Dataset Key\": \"16ee668743cb1ea540bf833d301a1686\", \"Name\": \"Bay Area 511 County Connection Schedule\", \"Total Trips\": 593, \"N Trips\": 532, \"Trip Cutoff\": 5, \"Segment Cutoff\": 0.6, \"Cutoff\": \"5+ min & 60.0%+ segments\", \"Pct Usable Trips\": 0.897133220910624}, {\"Gtfs Dataset Key\": \"17b259a4ae767d3ef5478964851cabb8\", \"Name\": \"WeHo Schedule\", \"Total Trips\": 64, \"N Trips\": 62, \"Trip Cutoff\": 5, \"Segment Cutoff\": 0.6, \"Cutoff\": \"5+ min & 60.0%+ segments\", \"Pct Usable Trips\": 0.96875}, {\"Gtfs Dataset Key\": \"1a4e07032b35ff5aae9438fefc374b55\", \"Name\": \"Antelope Valley Transit Authority Schedule\", \"Total Trips\": 348, \"N Trips\": 288, \"Trip Cutoff\": 5, \"Segment Cutoff\": 0.6, \"Cutoff\": \"5+ min & 60.0%+ segments\", \"Pct Usable Trips\": 0.8275862068965517}, {\"Gtfs Dataset Key\": \"2c82eb917900d5d8b69237702f68ab77\", \"Name\": \"Redding Schedule\", \"Total Trips\": 238, \"N Trips\": 231, \"Trip Cutoff\": 5, \"Segment Cutoff\": 0.6, \"Cutoff\": \"5+ min & 60.0%+ segments\", \"Pct Usable Trips\": 0.9705882352941176}, {\"Gtfs Dataset Key\": \"30e5260fa62b36db8c1dea91fc0c130d\", \"Name\": \"Elk Grove Schedule\", \"Total Trips\": 250, \"N Trips\": 247, \"Trip Cutoff\": 5, \"Segment Cutoff\": 0.6, \"Cutoff\": \"5+ min & 60.0%+ segments\", \"Pct Usable Trips\": 0.988}, {\"Gtfs Dataset Key\": \"3166ec2b9b4c75e31471d0c19384d97e\", \"Name\": \"Bay Area 511 SamTrans Schedule\", \"Total Trips\": 1376, \"N Trips\": 1245, \"Trip Cutoff\": 5, \"Segment Cutoff\": 0.6, \"Cutoff\": \"5+ min & 60.0%+ segments\", \"Pct Usable Trips\": 0.904796511627907}, {\"Gtfs Dataset Key\": \"318c6bc87acccb67fb00aa9180aa5a12\", \"Name\": \"San Diego Schedule\", \"Total Trips\": 7180, \"N Trips\": 6728, \"Trip Cutoff\": 5, \"Segment Cutoff\": 0.6, \"Cutoff\": \"5+ min & 60.0%+ segments\", \"Pct Usable Trips\": 0.9370473537604457}, {\"Gtfs Dataset Key\": \"34b027e071739231b3a2bc0828b6e581\", \"Name\": \"Bay Area 511 Caltrain Schedule\", \"Total Trips\": 92, \"N Trips\": 49, \"Trip Cutoff\": 5, \"Segment Cutoff\": 0.6, \"Cutoff\": \"5+ min & 60.0%+ segments\", \"Pct Usable Trips\": 0.532608695652174}, {\"Gtfs Dataset Key\": \"3a508d597e0f71941bd18367262a9cbc\", \"Name\": \"Pasadena Schedule\", \"Total Trips\": 314, \"N Trips\": 302, \"Trip Cutoff\": 5, \"Segment Cutoff\": 0.6, \"Cutoff\": \"5+ min & 60.0%+ segments\", \"Pct Usable Trips\": 0.9617834394904459}, {\"Gtfs Dataset Key\": \"3ab660737c49a3d77b2d418fa8f123fb\", \"Name\": \"Norwalk Avail Schedule\", \"Total Trips\": 13, \"N Trips\": 13, \"Trip Cutoff\": 5, \"Segment Cutoff\": 0.6, \"Cutoff\": \"5+ min & 60.0%+ segments\", \"Pct Usable Trips\": 1.0}, {\"Gtfs Dataset Key\": \"3aded1f694ac384eb4f98f2d42498950\", \"Name\": \"PresidiGo Schedule\", \"Total Trips\": 15, \"N Trips\": 12, \"Trip Cutoff\": 5, \"Segment Cutoff\": 0.6, \"Cutoff\": \"5+ min & 60.0%+ segments\", \"Pct Usable Trips\": 0.8}, {\"Gtfs Dataset Key\": \"3c1b68c3dd8983c8fb8d2661fb7eb398\", \"Name\": \"Beach Cities GMV Schedule\", \"Total Trips\": 89, \"N Trips\": 82, \"Trip Cutoff\": 5, \"Segment Cutoff\": 0.6, \"Cutoff\": \"5+ min & 60.0%+ segments\", \"Pct Usable Trips\": 0.9213483146067416}, {\"Gtfs Dataset Key\": \"4340d7ccf61d3a169068ffef1e310daf\", \"Name\": \"Bay Area 511 Santa Rosa CityBus Schedule\", \"Total Trips\": 541, \"N Trips\": 467, \"Trip Cutoff\": 5, \"Segment Cutoff\": 0.6, \"Cutoff\": \"5+ min & 60.0%+ segments\", \"Pct Usable Trips\": 0.8632162661737524}, {\"Gtfs Dataset Key\": \"443649972c5f581abf6ea43a6f6fa7a7\", \"Name\": \"Culver City Schedule\", \"Total Trips\": 321, \"N Trips\": 297, \"Trip Cutoff\": 5, \"Segment Cutoff\": 0.6, \"Cutoff\": \"5+ min & 60.0%+ segments\", \"Pct Usable Trips\": 0.9252336448598131}, {\"Gtfs Dataset Key\": \"4594028c6c1ebbb6dbfb4284d7510b4e\", \"Name\": \"Foothill Schedule\", \"Total Trips\": 1295, \"N Trips\": 1163, \"Trip Cutoff\": 5, \"Segment Cutoff\": 0.6, \"Cutoff\": \"5+ min & 60.0%+ segments\", \"Pct Usable Trips\": 0.8980694980694981}, {\"Gtfs Dataset Key\": \"485c1365977842af8bfdab28fa07ba47\", \"Name\": \"Bay Area 511 SolTrans Schedule\", \"Total Trips\": 399, \"N Trips\": 347, \"Trip Cutoff\": 5, \"Segment Cutoff\": 0.6, \"Cutoff\": \"5+ min & 60.0%+ segments\", \"Pct Usable Trips\": 0.8696741854636592}, {\"Gtfs Dataset Key\": \"48b51d6d96bb01c42c87e40824248fe4\", \"Name\": \"Bay Area 511 WestCAT Schedule\", \"Total Trips\": 432, \"N Trips\": 422, \"Trip Cutoff\": 5, \"Segment Cutoff\": 0.6, \"Cutoff\": \"5+ min & 60.0%+ segments\", \"Pct Usable Trips\": 0.9768518518518519}, {\"Gtfs Dataset Key\": \"49fe49431d07dfa2a7342c73e46b6931\", \"Name\": \"Santa Maria Schedule\", \"Total Trips\": 18, \"N Trips\": 18, \"Trip Cutoff\": 5, \"Segment Cutoff\": 0.6, \"Cutoff\": \"5+ min & 60.0%+ segments\", \"Pct Usable Trips\": 1.0}, {\"Gtfs Dataset Key\": \"4a9d71507be65ce2f46e0beb26418b1a\", \"Name\": \"Commerce Schedule\", \"Total Trips\": 110, \"N Trips\": 106, \"Trip Cutoff\": 5, \"Segment Cutoff\": 0.6, \"Cutoff\": \"5+ min & 60.0%+ segments\", \"Pct Usable Trips\": 0.9636363636363636}, {\"Gtfs Dataset Key\": \"4bb240cf480589e58c6e58d06d6fb72c\", \"Name\": \"Bay Area 511 AC Transit Schedule\", \"Total Trips\": 5323, \"N Trips\": 5072, \"Trip Cutoff\": 5, \"Segment Cutoff\": 0.6, \"Cutoff\": \"5+ min & 60.0%+ segments\", \"Pct Usable Trips\": 0.952846139395078}, {\"Gtfs Dataset Key\": \"5839b6a0ea1e93dc44574053e990d51e\", \"Name\": \"Madera County Connection Schedule\", \"Total Trips\": 27, \"N Trips\": 26, \"Trip Cutoff\": 5, \"Segment Cutoff\": 0.6, \"Cutoff\": \"5+ min & 60.0%+ segments\", \"Pct Usable Trips\": 0.9629629629629629}, {\"Gtfs Dataset Key\": \"5fcec68478fd5427be6bb2c4a3b240a6\", \"Name\": \"Burbank Schedule\", \"Total Trips\": 74, \"N Trips\": 71, \"Trip Cutoff\": 5, \"Segment Cutoff\": 0.6, \"Cutoff\": \"5+ min & 60.0%+ segments\", \"Pct Usable Trips\": 0.9594594594594594}, {\"Gtfs Dataset Key\": \"609173a0aa18c6e168c54b8731584ffa\", \"Name\": \"Bay Area 511 Tri-Valley Wheels Schedule\", \"Total Trips\": 288, \"N Trips\": 263, \"Trip Cutoff\": 5, \"Segment Cutoff\": 0.6, \"Cutoff\": \"5+ min & 60.0%+ segments\", \"Pct Usable Trips\": 0.9131944444444444}, {\"Gtfs Dataset Key\": \"644cf39285755e8ba2dc68597faa48aa\", \"Name\": \"Bay Area 511 Muni Schedule\", \"Total Trips\": 9122, \"N Trips\": 8253, \"Trip Cutoff\": 5, \"Segment Cutoff\": 0.6, \"Cutoff\": \"5+ min & 60.0%+ segments\", \"Pct Usable Trips\": 0.9047358035518527}, {\"Gtfs Dataset Key\": \"651832dd0d35804ce4e30063d095e3e5\", \"Name\": \"Fresno Schedule\", \"Total Trips\": 1249, \"N Trips\": 1202, \"Trip Cutoff\": 5, \"Segment Cutoff\": 0.6, \"Cutoff\": \"5+ min & 60.0%+ segments\", \"Pct Usable Trips\": 0.9623698959167334}, {\"Gtfs Dataset Key\": \"65793dff25c6e0d53703911d49d797ea\", \"Name\": \"Bay Area 511 Fairfield and Suisun Transit Schedule\", \"Total Trips\": 258, \"N Trips\": 247, \"Trip Cutoff\": 5, \"Segment Cutoff\": 0.6, \"Cutoff\": \"5+ min & 60.0%+ segments\", \"Pct Usable Trips\": 0.9573643410852714}, {\"Gtfs Dataset Key\": \"6d1991ecbdee1e06031cda8761757f03\", \"Name\": \"Bay Area 511 Dumbarton Express Schedule\", \"Total Trips\": 50, \"N Trips\": 38, \"Trip Cutoff\": 5, \"Segment Cutoff\": 0.6, \"Cutoff\": \"5+ min & 60.0%+ segments\", \"Pct Usable Trips\": 0.76}, {\"Gtfs Dataset Key\": \"6e460d0f1aec519c62478f4ed4c269d1\", \"Name\": \"Long Beach Schedule\", \"Total Trips\": 1420, \"N Trips\": 1335, \"Trip Cutoff\": 5, \"Segment Cutoff\": 0.6, \"Cutoff\": \"5+ min & 60.0%+ segments\", \"Pct Usable Trips\": 0.9401408450704225}, {\"Gtfs Dataset Key\": \"6ef1ef238c89b672380a82b091df9a2b\", \"Name\": \"Bay Area 511 Tri Delta Schedule\", \"Total Trips\": 487, \"N Trips\": 457, \"Trip Cutoff\": 5, \"Segment Cutoff\": 0.6, \"Cutoff\": \"5+ min & 60.0%+ segments\", \"Pct Usable Trips\": 0.9383983572895277}, {\"Gtfs Dataset Key\": \"707fef642f609018a05f649ffd491563\", \"Name\": \"GET Schedule\", \"Total Trips\": 567, \"N Trips\": 548, \"Trip Cutoff\": 5, \"Segment Cutoff\": 0.6, \"Cutoff\": \"5+ min & 60.0%+ segments\", \"Pct Usable Trips\": 0.9664902998236331}, {\"Gtfs Dataset Key\": \"70c6ca7a0f9df3109381cd55950cd99a\", \"Name\": \"Bay Area 511 Golden Gate Transit Schedule\", \"Total Trips\": 208, \"N Trips\": 200, \"Trip Cutoff\": 5, \"Segment Cutoff\": 0.6, \"Cutoff\": \"5+ min & 60.0%+ segments\", \"Pct Usable Trips\": 0.9615384615384616}, {\"Gtfs Dataset Key\": \"73ebf252af88c41aaf4426c6d3dc586c\", \"Name\": \"Unitrans Schedule\", \"Total Trips\": 423, \"N Trips\": 384, \"Trip Cutoff\": 5, \"Segment Cutoff\": 0.6, \"Cutoff\": \"5+ min & 60.0%+ segments\", \"Pct Usable Trips\": 0.9078014184397163}, {\"Gtfs Dataset Key\": \"74fe15010f17ff576045422f9bb38b00\", \"Name\": \"Visalia Schedule\", \"Total Trips\": 436, \"N Trips\": 387, \"Trip Cutoff\": 5, \"Segment Cutoff\": 0.6, \"Cutoff\": \"5+ min & 60.0%+ segments\", \"Pct Usable Trips\": 0.8876146788990825}, {\"Gtfs Dataset Key\": \"7c48cc5675c9266fb6851070489c53e9\", \"Name\": \"LA Metro Bus Schedule\", \"Total Trips\": 13812, \"N Trips\": 12299, \"Trip Cutoff\": 5, \"Segment Cutoff\": 0.6, \"Cutoff\": \"5+ min & 60.0%+ segments\", \"Pct Usable Trips\": 0.890457573124819}, {\"Gtfs Dataset Key\": \"82d94402b3325d1e93e2a1f5b80a300d\", \"Name\": \"Bay Area 511 Vine Transit Schedule\", \"Total Trips\": 135, \"N Trips\": 119, \"Trip Cutoff\": 5, \"Segment Cutoff\": 0.6, \"Cutoff\": \"5+ min & 60.0%+ segments\", \"Pct Usable Trips\": 0.8814814814814815}, {\"Gtfs Dataset Key\": \"8ee6ecf3c45ac2669ee96ae4c8550950\", \"Name\": \"Big Blue Bus Schedule\", \"Total Trips\": 1318, \"N Trips\": 1259, \"Trip Cutoff\": 5, \"Segment Cutoff\": 0.6, \"Cutoff\": \"5+ min & 60.0%+ segments\", \"Pct Usable Trips\": 0.9552352048558422}, {\"Gtfs Dataset Key\": \"8f0b9daf627c4f17cbe7f4460208a1af\", \"Name\": \"Santa Clarita Schedule\", \"Total Trips\": 381, \"N Trips\": 365, \"Trip Cutoff\": 5, \"Segment Cutoff\": 0.6, \"Cutoff\": \"5+ min & 60.0%+ segments\", \"Pct Usable Trips\": 0.958005249343832}, {\"Gtfs Dataset Key\": \"910fbc31da89056bdee9ef48b235ef44\", \"Name\": \"VCTC GMV Schedule\", \"Total Trips\": 977, \"N Trips\": 929, \"Trip Cutoff\": 5, \"Segment Cutoff\": 0.6, \"Cutoff\": \"5+ min & 60.0%+ segments\", \"Pct Usable Trips\": 0.9508700102354145}, {\"Gtfs Dataset Key\": \"9b19dee2eacd2a4e70c2750056c005ff\", \"Name\": \"Bay Area 511 Sonoma County Transit Schedule\", \"Total Trips\": 148, \"N Trips\": 110, \"Trip Cutoff\": 5, \"Segment Cutoff\": 0.6, \"Cutoff\": \"5+ min & 60.0%+ segments\", \"Pct Usable Trips\": 0.7432432432432432}, {\"Gtfs Dataset Key\": \"9bd1e0098ba62c06837bf2330db605c2\", \"Name\": \"Torrance Schedule\", \"Total Trips\": 307, \"N Trips\": 298, \"Trip Cutoff\": 5, \"Segment Cutoff\": 0.6, \"Cutoff\": \"5+ min & 60.0%+ segments\", \"Pct Usable Trips\": 0.9706840390879479}, {\"Gtfs Dataset Key\": \"aa9fe79adc8edf93ebfb1ab83c8acc69\", \"Name\": \"Kings Schedule\", \"Total Trips\": 250, \"N Trips\": 246, \"Trip Cutoff\": 5, \"Segment Cutoff\": 0.6, \"Cutoff\": \"5+ min & 60.0%+ segments\", \"Pct Usable Trips\": 0.984}, {\"Gtfs Dataset Key\": \"ac86302bad2b6f66bb6d5aae35ffb52f\", \"Name\": \"Bay Area 511 Marin Schedule\", \"Total Trips\": 593, \"N Trips\": 462, \"Trip Cutoff\": 5, \"Segment Cutoff\": 0.6, \"Cutoff\": \"5+ min & 60.0%+ segments\", \"Pct Usable Trips\": 0.7790893760539629}, {\"Gtfs Dataset Key\": \"ae93720f3c32c12f9ed912e465066bfc\", \"Name\": \"Eastern Sierra Schedule\", \"Total Trips\": 243, \"N Trips\": 168, \"Trip Cutoff\": 5, \"Segment Cutoff\": 0.6, \"Cutoff\": \"5+ min & 60.0%+ segments\", \"Pct Usable Trips\": 0.691358024691358}, {\"Gtfs Dataset Key\": \"b04260a7725206fcd69b4e4a68b13aae\", \"Name\": \"Yolobus Schedule\", \"Total Trips\": 94, \"N Trips\": 85, \"Trip Cutoff\": 5, \"Segment Cutoff\": 0.6, \"Cutoff\": \"5+ min & 60.0%+ segments\", \"Pct Usable Trips\": 0.9042553191489362}, {\"Gtfs Dataset Key\": \"bc21582ac1ad2b7de0647dfd5b76f67c\", \"Name\": \"Bay Area 511 Petaluma Schedule\", \"Total Trips\": 118, \"N Trips\": 98, \"Trip Cutoff\": 5, \"Segment Cutoff\": 0.6, \"Cutoff\": \"5+ min & 60.0%+ segments\", \"Pct Usable Trips\": 0.8305084745762712}, {\"Gtfs Dataset Key\": \"bdfa3214963bbc4ad4b08e3d5f726744\", \"Name\": \"Tahoe Transportation District Schedule\", \"Total Trips\": 48, \"N Trips\": 37, \"Trip Cutoff\": 5, \"Segment Cutoff\": 0.6, \"Cutoff\": \"5+ min & 60.0%+ segments\", \"Pct Usable Trips\": 0.7708333333333334}, {\"Gtfs Dataset Key\": \"c5b2bf3815a12d5f7242923ed399d1ea\", \"Name\": \"SBMTD Schedule\", \"Total Trips\": 653, \"N Trips\": 600, \"Trip Cutoff\": 5, \"Segment Cutoff\": 0.6, \"Cutoff\": \"5+ min & 60.0%+ segments\", \"Pct Usable Trips\": 0.9188361408882083}, {\"Gtfs Dataset Key\": \"c866d1f427084d94bfa3831d0014d775\", \"Name\": \"Monterey Salinas Schedule\", \"Total Trips\": 906, \"N Trips\": 891, \"Trip Cutoff\": 5, \"Segment Cutoff\": 0.6, \"Cutoff\": \"5+ min & 60.0%+ segments\", \"Pct Usable Trips\": 0.9834437086092715}, {\"Gtfs Dataset Key\": \"c9ec81d837b7ef2feedcea2c940f15d4\", \"Name\": \"Nevada County Schedule\", \"Total Trips\": 109, \"N Trips\": 95, \"Trip Cutoff\": 5, \"Segment Cutoff\": 0.6, \"Cutoff\": \"5+ min & 60.0%+ segments\", \"Pct Usable Trips\": 0.8715596330275229}, {\"Gtfs Dataset Key\": \"cb28d936a30d08f64661c81751af4382\", \"Name\": \"LA Metro Rail Schedule\", \"Total Trips\": 1224, \"N Trips\": 885, \"Trip Cutoff\": 5, \"Segment Cutoff\": 0.6, \"Cutoff\": \"5+ min & 60.0%+ segments\", \"Pct Usable Trips\": 0.7230392156862745}, {\"Gtfs Dataset Key\": \"d2f0224819832ba7d0039ff5e84c5bdd\", \"Name\": \"Victor Valley GMV Schedule\", \"Total Trips\": 817, \"N Trips\": 775, \"Trip Cutoff\": 5, \"Segment Cutoff\": 0.6, \"Cutoff\": \"5+ min & 60.0%+ segments\", \"Pct Usable Trips\": 0.9485924112607099}, {\"Gtfs Dataset Key\": \"d41e4cfdd42950bde9876c5dc670017d\", \"Name\": \"BruinBus Schedule\", \"Total Trips\": 5, \"N Trips\": 5, \"Trip Cutoff\": 5, \"Segment Cutoff\": 0.6, \"Cutoff\": \"5+ min & 60.0%+ segments\", \"Pct Usable Trips\": 1.0}, {\"Gtfs Dataset Key\": \"dac1d3922d8cb62f5feba57d5fdfb012\", \"Name\": \"Torrance Schedule\", \"Total Trips\": 101, \"N Trips\": 88, \"Trip Cutoff\": 5, \"Segment Cutoff\": 0.6, \"Cutoff\": \"5+ min & 60.0%+ segments\", \"Pct Usable Trips\": 0.8712871287128713}, {\"Gtfs Dataset Key\": \"ddc9965fcbf3beaba6d2cb40a3e67c1e\", \"Name\": \"Bay Area 511 San Francisco Bay Ferry Schedule\", \"Total Trips\": 149, \"N Trips\": 29, \"Trip Cutoff\": 5, \"Segment Cutoff\": 0.6, \"Cutoff\": \"5+ min & 60.0%+ segments\", \"Pct Usable Trips\": 0.19463087248322147}, {\"Gtfs Dataset Key\": \"e70b24e4d4931a9ada95fc76a2b53e9b\", \"Name\": \"StanRTA Schedule\", \"Total Trips\": 700, \"N Trips\": 656, \"Trip Cutoff\": 5, \"Segment Cutoff\": 0.6, \"Cutoff\": \"5+ min & 60.0%+ segments\", \"Pct Usable Trips\": 0.9371428571428572}, {\"Gtfs Dataset Key\": \"e88d7f9e3c43ddf41c75c94d12a440a9\", \"Name\": \"Bear Schedule\", \"Total Trips\": 151, \"N Trips\": 130, \"Trip Cutoff\": 5, \"Segment Cutoff\": 0.6, \"Cutoff\": \"5+ min & 60.0%+ segments\", \"Pct Usable Trips\": 0.8609271523178808}, {\"Gtfs Dataset Key\": \"ee4a7698aa24503c4058d10c238e6f8a\", \"Name\": \"Humboldt Schedule\", \"Total Trips\": 112, \"N Trips\": 91, \"Trip Cutoff\": 5, \"Segment Cutoff\": 0.6, \"Cutoff\": \"5+ min & 60.0%+ segments\", \"Pct Usable Trips\": 0.8125}, {\"Gtfs Dataset Key\": \"ee901494c3e6dabe62812966c94fa34c\", \"Name\": \"Santa Ynez Schedule\", \"Total Trips\": 25, \"N Trips\": 20, \"Trip Cutoff\": 5, \"Segment Cutoff\": 0.6, \"Cutoff\": \"5+ min & 60.0%+ segments\", \"Pct Usable Trips\": 0.8}, {\"Gtfs Dataset Key\": \"f09062d4bb1cb04b59bdc8232f0cfc90\", \"Name\": \"Turlock Schedule\", \"Total Trips\": 270, \"N Trips\": 269, \"Trip Cutoff\": 5, \"Segment Cutoff\": 0.6, \"Cutoff\": \"5+ min & 60.0%+ segments\", \"Pct Usable Trips\": 0.9962962962962963}, {\"Gtfs Dataset Key\": \"f1497340b654f3ce925f8b8c2f83e1c2\", \"Name\": \"Riverside Schedule\", \"Total Trips\": 1094, \"N Trips\": 1068, \"Trip Cutoff\": 5, \"Segment Cutoff\": 0.6, \"Cutoff\": \"5+ min & 60.0%+ segments\", \"Pct Usable Trips\": 0.9762340036563071}, {\"Gtfs Dataset Key\": \"02af2d11f5bd44434c581540e9e857d8\", \"Name\": \"LA DOT Schedule\", \"Total Trips\": 2899, \"N Trips\": 2557, \"Trip Cutoff\": 5, \"Segment Cutoff\": 0.8, \"Cutoff\": \"5+ min & 80.0%+ segments\", \"Pct Usable Trips\": 0.8820282856157295}, {\"Gtfs Dataset Key\": \"03cadbffef6f3cd4ce839b218bc65e82\", \"Name\": \"Bay Area 511 Santa Clara Transit Schedule\", \"Total Trips\": 3699, \"N Trips\": 3344, \"Trip Cutoff\": 5, \"Segment Cutoff\": 0.8, \"Cutoff\": \"5+ min & 80.0%+ segments\", \"Pct Usable Trips\": 0.9040281157069479}, {\"Gtfs Dataset Key\": \"087e5ecdcf65499829e681a60e606637\", \"Name\": \"Lake Schedule\", \"Total Trips\": 65, \"N Trips\": 53, \"Trip Cutoff\": 5, \"Segment Cutoff\": 0.8, \"Cutoff\": \"5+ min & 80.0%+ segments\", \"Pct Usable Trips\": 0.8153846153846154}, {\"Gtfs Dataset Key\": \"08c4e0555b1b90cd7464ac801157a167\", \"Name\": \"Bay Area 511 Union City Transit Schedule\", \"Total Trips\": 191, \"N Trips\": 181, \"Trip Cutoff\": 5, \"Segment Cutoff\": 0.8, \"Cutoff\": \"5+ min & 80.0%+ segments\", \"Pct Usable Trips\": 0.9476439790575916}, {\"Gtfs Dataset Key\": \"0a3c3013dc4baff072e14f8ae8a796bb\", \"Name\": \"North County Schedule\", \"Total Trips\": 1298, \"N Trips\": 1196, \"Trip Cutoff\": 5, \"Segment Cutoff\": 0.8, \"Cutoff\": \"5+ min & 80.0%+ segments\", \"Pct Usable Trips\": 0.9214175654853621}, {\"Gtfs Dataset Key\": \"0da5a62ebe57a31bce87abf9fbb2857a\", \"Name\": \"Bay Area 511 MVGO Schedule\", \"Total Trips\": 79, \"N Trips\": 71, \"Trip Cutoff\": 5, \"Segment Cutoff\": 0.8, \"Cutoff\": \"5+ min & 80.0%+ segments\", \"Pct Usable Trips\": 0.8987341772151899}, {\"Gtfs Dataset Key\": \"0f68ec4d97d179570b494c74b6fca55d\", \"Name\": \"OCTA Schedule\", \"Total Trips\": 3175, \"N Trips\": 2819, \"Trip Cutoff\": 5, \"Segment Cutoff\": 0.8, \"Cutoff\": \"5+ min & 80.0%+ segments\", \"Pct Usable Trips\": 0.8878740157480315}, {\"Gtfs Dataset Key\": \"0faa34840bb65e96b7f83b7f379c2edd\", \"Name\": \"Bay Area 511 Emery Go-Round Schedule\", \"Total Trips\": 127, \"N Trips\": 123, \"Trip Cutoff\": 5, \"Segment Cutoff\": 0.8, \"Cutoff\": \"5+ min & 80.0%+ segments\", \"Pct Usable Trips\": 0.968503937007874}, {\"Gtfs Dataset Key\": \"115fa7bd31a65b3210945ee884f36132\", \"Name\": \"Banning Pass Schedule\", \"Total Trips\": 44, \"N Trips\": 27, \"Trip Cutoff\": 5, \"Segment Cutoff\": 0.8, \"Cutoff\": \"5+ min & 80.0%+ segments\", \"Pct Usable Trips\": 0.6136363636363636}, {\"Gtfs Dataset Key\": \"13c6e9f58e53c12416b7754352fa1acd\", \"Name\": \"Bay Area 511 Sonoma-Marin Area Rail Transit Schedule\", \"Total Trips\": 38, \"N Trips\": 28, \"Trip Cutoff\": 5, \"Segment Cutoff\": 0.8, \"Cutoff\": \"5+ min & 80.0%+ segments\", \"Pct Usable Trips\": 0.7368421052631579}, {\"Gtfs Dataset Key\": \"16ee668743cb1ea540bf833d301a1686\", \"Name\": \"Bay Area 511 County Connection Schedule\", \"Total Trips\": 593, \"N Trips\": 512, \"Trip Cutoff\": 5, \"Segment Cutoff\": 0.8, \"Cutoff\": \"5+ min & 80.0%+ segments\", \"Pct Usable Trips\": 0.863406408094435}, {\"Gtfs Dataset Key\": \"17b259a4ae767d3ef5478964851cabb8\", \"Name\": \"WeHo Schedule\", \"Total Trips\": 64, \"N Trips\": 48, \"Trip Cutoff\": 5, \"Segment Cutoff\": 0.8, \"Cutoff\": \"5+ min & 80.0%+ segments\", \"Pct Usable Trips\": 0.75}, {\"Gtfs Dataset Key\": \"1a4e07032b35ff5aae9438fefc374b55\", \"Name\": \"Antelope Valley Transit Authority Schedule\", \"Total Trips\": 348, \"N Trips\": 279, \"Trip Cutoff\": 5, \"Segment Cutoff\": 0.8, \"Cutoff\": \"5+ min & 80.0%+ segments\", \"Pct Usable Trips\": 0.8017241379310345}, {\"Gtfs Dataset Key\": \"2c82eb917900d5d8b69237702f68ab77\", \"Name\": \"Redding Schedule\", \"Total Trips\": 238, \"N Trips\": 229, \"Trip Cutoff\": 5, \"Segment Cutoff\": 0.8, \"Cutoff\": \"5+ min & 80.0%+ segments\", \"Pct Usable Trips\": 0.9621848739495799}, {\"Gtfs Dataset Key\": \"30e5260fa62b36db8c1dea91fc0c130d\", \"Name\": \"Elk Grove Schedule\", \"Total Trips\": 250, \"N Trips\": 247, \"Trip Cutoff\": 5, \"Segment Cutoff\": 0.8, \"Cutoff\": \"5+ min & 80.0%+ segments\", \"Pct Usable Trips\": 0.988}, {\"Gtfs Dataset Key\": \"3166ec2b9b4c75e31471d0c19384d97e\", \"Name\": \"Bay Area 511 SamTrans Schedule\", \"Total Trips\": 1376, \"N Trips\": 1198, \"Trip Cutoff\": 5, \"Segment Cutoff\": 0.8, \"Cutoff\": \"5+ min & 80.0%+ segments\", \"Pct Usable Trips\": 0.8706395348837209}, {\"Gtfs Dataset Key\": \"318c6bc87acccb67fb00aa9180aa5a12\", \"Name\": \"San Diego Schedule\", \"Total Trips\": 7180, \"N Trips\": 6571, \"Trip Cutoff\": 5, \"Segment Cutoff\": 0.8, \"Cutoff\": \"5+ min & 80.0%+ segments\", \"Pct Usable Trips\": 0.9151810584958218}, {\"Gtfs Dataset Key\": \"34b027e071739231b3a2bc0828b6e581\", \"Name\": \"Bay Area 511 Caltrain Schedule\", \"Total Trips\": 92, \"N Trips\": 5, \"Trip Cutoff\": 5, \"Segment Cutoff\": 0.8, \"Cutoff\": \"5+ min & 80.0%+ segments\", \"Pct Usable Trips\": 0.05434782608695652}, {\"Gtfs Dataset Key\": \"3a508d597e0f71941bd18367262a9cbc\", \"Name\": \"Pasadena Schedule\", \"Total Trips\": 314, \"N Trips\": 297, \"Trip Cutoff\": 5, \"Segment Cutoff\": 0.8, \"Cutoff\": \"5+ min & 80.0%+ segments\", \"Pct Usable Trips\": 0.945859872611465}, {\"Gtfs Dataset Key\": \"3ab660737c49a3d77b2d418fa8f123fb\", \"Name\": \"Norwalk Avail Schedule\", \"Total Trips\": 13, \"N Trips\": 10, \"Trip Cutoff\": 5, \"Segment Cutoff\": 0.8, \"Cutoff\": \"5+ min & 80.0%+ segments\", \"Pct Usable Trips\": 0.7692307692307693}, {\"Gtfs Dataset Key\": \"3aded1f694ac384eb4f98f2d42498950\", \"Name\": \"PresidiGo Schedule\", \"Total Trips\": 15, \"N Trips\": 12, \"Trip Cutoff\": 5, \"Segment Cutoff\": 0.8, \"Cutoff\": \"5+ min & 80.0%+ segments\", \"Pct Usable Trips\": 0.8}, {\"Gtfs Dataset Key\": \"3c1b68c3dd8983c8fb8d2661fb7eb398\", \"Name\": \"Beach Cities GMV Schedule\", \"Total Trips\": 89, \"N Trips\": 80, \"Trip Cutoff\": 5, \"Segment Cutoff\": 0.8, \"Cutoff\": \"5+ min & 80.0%+ segments\", \"Pct Usable Trips\": 0.898876404494382}, {\"Gtfs Dataset Key\": \"4340d7ccf61d3a169068ffef1e310daf\", \"Name\": \"Bay Area 511 Santa Rosa CityBus Schedule\", \"Total Trips\": 541, \"N Trips\": 378, \"Trip Cutoff\": 5, \"Segment Cutoff\": 0.8, \"Cutoff\": \"5+ min & 80.0%+ segments\", \"Pct Usable Trips\": 0.6987060998151571}, {\"Gtfs Dataset Key\": \"443649972c5f581abf6ea43a6f6fa7a7\", \"Name\": \"Culver City Schedule\", \"Total Trips\": 321, \"N Trips\": 273, \"Trip Cutoff\": 5, \"Segment Cutoff\": 0.8, \"Cutoff\": \"5+ min & 80.0%+ segments\", \"Pct Usable Trips\": 0.8504672897196262}, {\"Gtfs Dataset Key\": \"4594028c6c1ebbb6dbfb4284d7510b4e\", \"Name\": \"Foothill Schedule\", \"Total Trips\": 1295, \"N Trips\": 1096, \"Trip Cutoff\": 5, \"Segment Cutoff\": 0.8, \"Cutoff\": \"5+ min & 80.0%+ segments\", \"Pct Usable Trips\": 0.8463320463320463}, {\"Gtfs Dataset Key\": \"485c1365977842af8bfdab28fa07ba47\", \"Name\": \"Bay Area 511 SolTrans Schedule\", \"Total Trips\": 399, \"N Trips\": 328, \"Trip Cutoff\": 5, \"Segment Cutoff\": 0.8, \"Cutoff\": \"5+ min & 80.0%+ segments\", \"Pct Usable Trips\": 0.8220551378446115}, {\"Gtfs Dataset Key\": \"48b51d6d96bb01c42c87e40824248fe4\", \"Name\": \"Bay Area 511 WestCAT Schedule\", \"Total Trips\": 432, \"N Trips\": 381, \"Trip Cutoff\": 5, \"Segment Cutoff\": 0.8, \"Cutoff\": \"5+ min & 80.0%+ segments\", \"Pct Usable Trips\": 0.8819444444444444}, {\"Gtfs Dataset Key\": \"49fe49431d07dfa2a7342c73e46b6931\", \"Name\": \"Santa Maria Schedule\", \"Total Trips\": 18, \"N Trips\": 18, \"Trip Cutoff\": 5, \"Segment Cutoff\": 0.8, \"Cutoff\": \"5+ min & 80.0%+ segments\", \"Pct Usable Trips\": 1.0}, {\"Gtfs Dataset Key\": \"4a9d71507be65ce2f46e0beb26418b1a\", \"Name\": \"Commerce Schedule\", \"Total Trips\": 110, \"N Trips\": 104, \"Trip Cutoff\": 5, \"Segment Cutoff\": 0.8, \"Cutoff\": \"5+ min & 80.0%+ segments\", \"Pct Usable Trips\": 0.9454545454545454}, {\"Gtfs Dataset Key\": \"4bb240cf480589e58c6e58d06d6fb72c\", \"Name\": \"Bay Area 511 AC Transit Schedule\", \"Total Trips\": 5323, \"N Trips\": 4959, \"Trip Cutoff\": 5, \"Segment Cutoff\": 0.8, \"Cutoff\": \"5+ min & 80.0%+ segments\", \"Pct Usable Trips\": 0.9316175089235393}, {\"Gtfs Dataset Key\": \"5839b6a0ea1e93dc44574053e990d51e\", \"Name\": \"Madera County Connection Schedule\", \"Total Trips\": 27, \"N Trips\": 24, \"Trip Cutoff\": 5, \"Segment Cutoff\": 0.8, \"Cutoff\": \"5+ min & 80.0%+ segments\", \"Pct Usable Trips\": 0.8888888888888888}, {\"Gtfs Dataset Key\": \"5fcec68478fd5427be6bb2c4a3b240a6\", \"Name\": \"Burbank Schedule\", \"Total Trips\": 74, \"N Trips\": 71, \"Trip Cutoff\": 5, \"Segment Cutoff\": 0.8, \"Cutoff\": \"5+ min & 80.0%+ segments\", \"Pct Usable Trips\": 0.9594594594594594}, {\"Gtfs Dataset Key\": \"609173a0aa18c6e168c54b8731584ffa\", \"Name\": \"Bay Area 511 Tri-Valley Wheels Schedule\", \"Total Trips\": 288, \"N Trips\": 247, \"Trip Cutoff\": 5, \"Segment Cutoff\": 0.8, \"Cutoff\": \"5+ min & 80.0%+ segments\", \"Pct Usable Trips\": 0.8576388888888888}, {\"Gtfs Dataset Key\": \"644cf39285755e8ba2dc68597faa48aa\", \"Name\": \"Bay Area 511 Muni Schedule\", \"Total Trips\": 9122, \"N Trips\": 7601, \"Trip Cutoff\": 5, \"Segment Cutoff\": 0.8, \"Cutoff\": \"5+ min & 80.0%+ segments\", \"Pct Usable Trips\": 0.8332602499451874}, {\"Gtfs Dataset Key\": \"651832dd0d35804ce4e30063d095e3e5\", \"Name\": \"Fresno Schedule\", \"Total Trips\": 1249, \"N Trips\": 1123, \"Trip Cutoff\": 5, \"Segment Cutoff\": 0.8, \"Cutoff\": \"5+ min & 80.0%+ segments\", \"Pct Usable Trips\": 0.899119295436349}, {\"Gtfs Dataset Key\": \"65793dff25c6e0d53703911d49d797ea\", \"Name\": \"Bay Area 511 Fairfield and Suisun Transit Schedule\", \"Total Trips\": 258, \"N Trips\": 246, \"Trip Cutoff\": 5, \"Segment Cutoff\": 0.8, \"Cutoff\": \"5+ min & 80.0%+ segments\", \"Pct Usable Trips\": 0.9534883720930233}, {\"Gtfs Dataset Key\": \"6d1991ecbdee1e06031cda8761757f03\", \"Name\": \"Bay Area 511 Dumbarton Express Schedule\", \"Total Trips\": 50, \"N Trips\": 21, \"Trip Cutoff\": 5, \"Segment Cutoff\": 0.8, \"Cutoff\": \"5+ min & 80.0%+ segments\", \"Pct Usable Trips\": 0.42}, {\"Gtfs Dataset Key\": \"6e460d0f1aec519c62478f4ed4c269d1\", \"Name\": \"Long Beach Schedule\", \"Total Trips\": 1420, \"N Trips\": 1203, \"Trip Cutoff\": 5, \"Segment Cutoff\": 0.8, \"Cutoff\": \"5+ min & 80.0%+ segments\", \"Pct Usable Trips\": 0.8471830985915493}, {\"Gtfs Dataset Key\": \"6ef1ef238c89b672380a82b091df9a2b\", \"Name\": \"Bay Area 511 Tri Delta Schedule\", \"Total Trips\": 487, \"N Trips\": 433, \"Trip Cutoff\": 5, \"Segment Cutoff\": 0.8, \"Cutoff\": \"5+ min & 80.0%+ segments\", \"Pct Usable Trips\": 0.8891170431211499}, {\"Gtfs Dataset Key\": \"707fef642f609018a05f649ffd491563\", \"Name\": \"GET Schedule\", \"Total Trips\": 567, \"N Trips\": 534, \"Trip Cutoff\": 5, \"Segment Cutoff\": 0.8, \"Cutoff\": \"5+ min & 80.0%+ segments\", \"Pct Usable Trips\": 0.9417989417989417}, {\"Gtfs Dataset Key\": \"70c6ca7a0f9df3109381cd55950cd99a\", \"Name\": \"Bay Area 511 Golden Gate Transit Schedule\", \"Total Trips\": 208, \"N Trips\": 200, \"Trip Cutoff\": 5, \"Segment Cutoff\": 0.8, \"Cutoff\": \"5+ min & 80.0%+ segments\", \"Pct Usable Trips\": 0.9615384615384616}, {\"Gtfs Dataset Key\": \"73ebf252af88c41aaf4426c6d3dc586c\", \"Name\": \"Unitrans Schedule\", \"Total Trips\": 423, \"N Trips\": 376, \"Trip Cutoff\": 5, \"Segment Cutoff\": 0.8, \"Cutoff\": \"5+ min & 80.0%+ segments\", \"Pct Usable Trips\": 0.8888888888888888}, {\"Gtfs Dataset Key\": \"74fe15010f17ff576045422f9bb38b00\", \"Name\": \"Visalia Schedule\", \"Total Trips\": 436, \"N Trips\": 378, \"Trip Cutoff\": 5, \"Segment Cutoff\": 0.8, \"Cutoff\": \"5+ min & 80.0%+ segments\", \"Pct Usable Trips\": 0.8669724770642202}, {\"Gtfs Dataset Key\": \"7c48cc5675c9266fb6851070489c53e9\", \"Name\": \"LA Metro Bus Schedule\", \"Total Trips\": 13812, \"N Trips\": 9849, \"Trip Cutoff\": 5, \"Segment Cutoff\": 0.8, \"Cutoff\": \"5+ min & 80.0%+ segments\", \"Pct Usable Trips\": 0.7130755864465682}, {\"Gtfs Dataset Key\": \"82d94402b3325d1e93e2a1f5b80a300d\", \"Name\": \"Bay Area 511 Vine Transit Schedule\", \"Total Trips\": 135, \"N Trips\": 116, \"Trip Cutoff\": 5, \"Segment Cutoff\": 0.8, \"Cutoff\": \"5+ min & 80.0%+ segments\", \"Pct Usable Trips\": 0.8592592592592593}, {\"Gtfs Dataset Key\": \"8ee6ecf3c45ac2669ee96ae4c8550950\", \"Name\": \"Big Blue Bus Schedule\", \"Total Trips\": 1318, \"N Trips\": 1199, \"Trip Cutoff\": 5, \"Segment Cutoff\": 0.8, \"Cutoff\": \"5+ min & 80.0%+ segments\", \"Pct Usable Trips\": 0.909711684370258}, {\"Gtfs Dataset Key\": \"8f0b9daf627c4f17cbe7f4460208a1af\", \"Name\": \"Santa Clarita Schedule\", \"Total Trips\": 381, \"N Trips\": 344, \"Trip Cutoff\": 5, \"Segment Cutoff\": 0.8, \"Cutoff\": \"5+ min & 80.0%+ segments\", \"Pct Usable Trips\": 0.9028871391076115}, {\"Gtfs Dataset Key\": \"910fbc31da89056bdee9ef48b235ef44\", \"Name\": \"VCTC GMV Schedule\", \"Total Trips\": 977, \"N Trips\": 855, \"Trip Cutoff\": 5, \"Segment Cutoff\": 0.8, \"Cutoff\": \"5+ min & 80.0%+ segments\", \"Pct Usable Trips\": 0.8751279426816786}, {\"Gtfs Dataset Key\": \"9b19dee2eacd2a4e70c2750056c005ff\", \"Name\": \"Bay Area 511 Sonoma County Transit Schedule\", \"Total Trips\": 148, \"N Trips\": 98, \"Trip Cutoff\": 5, \"Segment Cutoff\": 0.8, \"Cutoff\": \"5+ min & 80.0%+ segments\", \"Pct Usable Trips\": 0.6621621621621622}, {\"Gtfs Dataset Key\": \"9bd1e0098ba62c06837bf2330db605c2\", \"Name\": \"Torrance Schedule\", \"Total Trips\": 307, \"N Trips\": 270, \"Trip Cutoff\": 5, \"Segment Cutoff\": 0.8, \"Cutoff\": \"5+ min & 80.0%+ segments\", \"Pct Usable Trips\": 0.8794788273615635}, {\"Gtfs Dataset Key\": \"aa9fe79adc8edf93ebfb1ab83c8acc69\", \"Name\": \"Kings Schedule\", \"Total Trips\": 250, \"N Trips\": 245, \"Trip Cutoff\": 5, \"Segment Cutoff\": 0.8, \"Cutoff\": \"5+ min & 80.0%+ segments\", \"Pct Usable Trips\": 0.98}, {\"Gtfs Dataset Key\": \"ac86302bad2b6f66bb6d5aae35ffb52f\", \"Name\": \"Bay Area 511 Marin Schedule\", \"Total Trips\": 593, \"N Trips\": 407, \"Trip Cutoff\": 5, \"Segment Cutoff\": 0.8, \"Cutoff\": \"5+ min & 80.0%+ segments\", \"Pct Usable Trips\": 0.6863406408094435}, {\"Gtfs Dataset Key\": \"ae93720f3c32c12f9ed912e465066bfc\", \"Name\": \"Eastern Sierra Schedule\", \"Total Trips\": 243, \"N Trips\": 149, \"Trip Cutoff\": 5, \"Segment Cutoff\": 0.8, \"Cutoff\": \"5+ min & 80.0%+ segments\", \"Pct Usable Trips\": 0.6131687242798354}, {\"Gtfs Dataset Key\": \"b04260a7725206fcd69b4e4a68b13aae\", \"Name\": \"Yolobus Schedule\", \"Total Trips\": 94, \"N Trips\": 83, \"Trip Cutoff\": 5, \"Segment Cutoff\": 0.8, \"Cutoff\": \"5+ min & 80.0%+ segments\", \"Pct Usable Trips\": 0.8829787234042553}, {\"Gtfs Dataset Key\": \"bc21582ac1ad2b7de0647dfd5b76f67c\", \"Name\": \"Bay Area 511 Petaluma Schedule\", \"Total Trips\": 118, \"N Trips\": 85, \"Trip Cutoff\": 5, \"Segment Cutoff\": 0.8, \"Cutoff\": \"5+ min & 80.0%+ segments\", \"Pct Usable Trips\": 0.7203389830508474}, {\"Gtfs Dataset Key\": \"bdfa3214963bbc4ad4b08e3d5f726744\", \"Name\": \"Tahoe Transportation District Schedule\", \"Total Trips\": 48, \"N Trips\": 33, \"Trip Cutoff\": 5, \"Segment Cutoff\": 0.8, \"Cutoff\": \"5+ min & 80.0%+ segments\", \"Pct Usable Trips\": 0.6875}, {\"Gtfs Dataset Key\": \"c5b2bf3815a12d5f7242923ed399d1ea\", \"Name\": \"SBMTD Schedule\", \"Total Trips\": 653, \"N Trips\": 527, \"Trip Cutoff\": 5, \"Segment Cutoff\": 0.8, \"Cutoff\": \"5+ min & 80.0%+ segments\", \"Pct Usable Trips\": 0.8070444104134763}, {\"Gtfs Dataset Key\": \"c866d1f427084d94bfa3831d0014d775\", \"Name\": \"Monterey Salinas Schedule\", \"Total Trips\": 906, \"N Trips\": 856, \"Trip Cutoff\": 5, \"Segment Cutoff\": 0.8, \"Cutoff\": \"5+ min & 80.0%+ segments\", \"Pct Usable Trips\": 0.9448123620309051}, {\"Gtfs Dataset Key\": \"c9ec81d837b7ef2feedcea2c940f15d4\", \"Name\": \"Nevada County Schedule\", \"Total Trips\": 109, \"N Trips\": 86, \"Trip Cutoff\": 5, \"Segment Cutoff\": 0.8, \"Cutoff\": \"5+ min & 80.0%+ segments\", \"Pct Usable Trips\": 0.7889908256880734}, {\"Gtfs Dataset Key\": \"cb28d936a30d08f64661c81751af4382\", \"Name\": \"LA Metro Rail Schedule\", \"Total Trips\": 1224, \"N Trips\": 514, \"Trip Cutoff\": 5, \"Segment Cutoff\": 0.8, \"Cutoff\": \"5+ min & 80.0%+ segments\", \"Pct Usable Trips\": 0.4199346405228758}, {\"Gtfs Dataset Key\": \"d2f0224819832ba7d0039ff5e84c5bdd\", \"Name\": \"Victor Valley GMV Schedule\", \"Total Trips\": 817, \"N Trips\": 759, \"Trip Cutoff\": 5, \"Segment Cutoff\": 0.8, \"Cutoff\": \"5+ min & 80.0%+ segments\", \"Pct Usable Trips\": 0.9290085679314566}, {\"Gtfs Dataset Key\": \"d41e4cfdd42950bde9876c5dc670017d\", \"Name\": \"BruinBus Schedule\", \"Total Trips\": 5, \"N Trips\": 5, \"Trip Cutoff\": 5, \"Segment Cutoff\": 0.8, \"Cutoff\": \"5+ min & 80.0%+ segments\", \"Pct Usable Trips\": 1.0}, {\"Gtfs Dataset Key\": \"dac1d3922d8cb62f5feba57d5fdfb012\", \"Name\": \"Torrance Schedule\", \"Total Trips\": 101, \"N Trips\": 77, \"Trip Cutoff\": 5, \"Segment Cutoff\": 0.8, \"Cutoff\": \"5+ min & 80.0%+ segments\", \"Pct Usable Trips\": 0.7623762376237624}, {\"Gtfs Dataset Key\": \"ddc9965fcbf3beaba6d2cb40a3e67c1e\", \"Name\": \"Bay Area 511 San Francisco Bay Ferry Schedule\", \"Total Trips\": 149, \"N Trips\": 4, \"Trip Cutoff\": 5, \"Segment Cutoff\": 0.8, \"Cutoff\": \"5+ min & 80.0%+ segments\", \"Pct Usable Trips\": 0.026845637583892617}, {\"Gtfs Dataset Key\": \"e70b24e4d4931a9ada95fc76a2b53e9b\", \"Name\": \"StanRTA Schedule\", \"Total Trips\": 700, \"N Trips\": 621, \"Trip Cutoff\": 5, \"Segment Cutoff\": 0.8, \"Cutoff\": \"5+ min & 80.0%+ segments\", \"Pct Usable Trips\": 0.8871428571428571}, {\"Gtfs Dataset Key\": \"e88d7f9e3c43ddf41c75c94d12a440a9\", \"Name\": \"Bear Schedule\", \"Total Trips\": 151, \"N Trips\": 120, \"Trip Cutoff\": 5, \"Segment Cutoff\": 0.8, \"Cutoff\": \"5+ min & 80.0%+ segments\", \"Pct Usable Trips\": 0.7947019867549668}, {\"Gtfs Dataset Key\": \"ee4a7698aa24503c4058d10c238e6f8a\", \"Name\": \"Humboldt Schedule\", \"Total Trips\": 112, \"N Trips\": 79, \"Trip Cutoff\": 5, \"Segment Cutoff\": 0.8, \"Cutoff\": \"5+ min & 80.0%+ segments\", \"Pct Usable Trips\": 0.7053571428571429}, {\"Gtfs Dataset Key\": \"ee901494c3e6dabe62812966c94fa34c\", \"Name\": \"Santa Ynez Schedule\", \"Total Trips\": 25, \"N Trips\": 16, \"Trip Cutoff\": 5, \"Segment Cutoff\": 0.8, \"Cutoff\": \"5+ min & 80.0%+ segments\", \"Pct Usable Trips\": 0.64}, {\"Gtfs Dataset Key\": \"f09062d4bb1cb04b59bdc8232f0cfc90\", \"Name\": \"Turlock Schedule\", \"Total Trips\": 270, \"N Trips\": 266, \"Trip Cutoff\": 5, \"Segment Cutoff\": 0.8, \"Cutoff\": \"5+ min & 80.0%+ segments\", \"Pct Usable Trips\": 0.9851851851851852}, {\"Gtfs Dataset Key\": \"f1497340b654f3ce925f8b8c2f83e1c2\", \"Name\": \"Riverside Schedule\", \"Total Trips\": 1094, \"N Trips\": 1053, \"Trip Cutoff\": 5, \"Segment Cutoff\": 0.8, \"Cutoff\": \"5+ min & 80.0%+ segments\", \"Pct Usable Trips\": 0.9625228519195612}, {\"Gtfs Dataset Key\": \"02af2d11f5bd44434c581540e9e857d8\", \"Name\": \"LA DOT Schedule\", \"Total Trips\": 2899, \"N Trips\": 2759, \"Trip Cutoff\": 10, \"Segment Cutoff\": 0.2, \"Cutoff\": \"10+ min & 20.0%+ segments\", \"Pct Usable Trips\": 0.9517074853397723}, {\"Gtfs Dataset Key\": \"03cadbffef6f3cd4ce839b218bc65e82\", \"Name\": \"Bay Area 511 Santa Clara Transit Schedule\", \"Total Trips\": 3699, \"N Trips\": 3628, \"Trip Cutoff\": 10, \"Segment Cutoff\": 0.2, \"Cutoff\": \"10+ min & 20.0%+ segments\", \"Pct Usable Trips\": 0.9808056231413895}, {\"Gtfs Dataset Key\": \"087e5ecdcf65499829e681a60e606637\", \"Name\": \"Lake Schedule\", \"Total Trips\": 65, \"N Trips\": 57, \"Trip Cutoff\": 10, \"Segment Cutoff\": 0.2, \"Cutoff\": \"10+ min & 20.0%+ segments\", \"Pct Usable Trips\": 0.8769230769230769}, {\"Gtfs Dataset Key\": \"08c4e0555b1b90cd7464ac801157a167\", \"Name\": \"Bay Area 511 Union City Transit Schedule\", \"Total Trips\": 191, \"N Trips\": 187, \"Trip Cutoff\": 10, \"Segment Cutoff\": 0.2, \"Cutoff\": \"10+ min & 20.0%+ segments\", \"Pct Usable Trips\": 0.9790575916230366}, {\"Gtfs Dataset Key\": \"0a3c3013dc4baff072e14f8ae8a796bb\", \"Name\": \"North County Schedule\", \"Total Trips\": 1298, \"N Trips\": 1298, \"Trip Cutoff\": 10, \"Segment Cutoff\": 0.2, \"Cutoff\": \"10+ min & 20.0%+ segments\", \"Pct Usable Trips\": 1.0}, {\"Gtfs Dataset Key\": \"0da5a62ebe57a31bce87abf9fbb2857a\", \"Name\": \"Bay Area 511 MVGO Schedule\", \"Total Trips\": 79, \"N Trips\": 79, \"Trip Cutoff\": 10, \"Segment Cutoff\": 0.2, \"Cutoff\": \"10+ min & 20.0%+ segments\", \"Pct Usable Trips\": 1.0}, {\"Gtfs Dataset Key\": \"0f68ec4d97d179570b494c74b6fca55d\", \"Name\": \"OCTA Schedule\", \"Total Trips\": 3175, \"N Trips\": 3165, \"Trip Cutoff\": 10, \"Segment Cutoff\": 0.2, \"Cutoff\": \"10+ min & 20.0%+ segments\", \"Pct Usable Trips\": 0.9968503937007874}, {\"Gtfs Dataset Key\": \"0faa34840bb65e96b7f83b7f379c2edd\", \"Name\": \"Bay Area 511 Emery Go-Round Schedule\", \"Total Trips\": 127, \"N Trips\": 125, \"Trip Cutoff\": 10, \"Segment Cutoff\": 0.2, \"Cutoff\": \"10+ min & 20.0%+ segments\", \"Pct Usable Trips\": 0.984251968503937}, {\"Gtfs Dataset Key\": \"115fa7bd31a65b3210945ee884f36132\", \"Name\": \"Banning Pass Schedule\", \"Total Trips\": 44, \"N Trips\": 41, \"Trip Cutoff\": 10, \"Segment Cutoff\": 0.2, \"Cutoff\": \"10+ min & 20.0%+ segments\", \"Pct Usable Trips\": 0.9318181818181818}, {\"Gtfs Dataset Key\": \"13c6e9f58e53c12416b7754352fa1acd\", \"Name\": \"Bay Area 511 Sonoma-Marin Area Rail Transit Schedule\", \"Total Trips\": 38, \"N Trips\": 38, \"Trip Cutoff\": 10, \"Segment Cutoff\": 0.2, \"Cutoff\": \"10+ min & 20.0%+ segments\", \"Pct Usable Trips\": 1.0}, {\"Gtfs Dataset Key\": \"16ee668743cb1ea540bf833d301a1686\", \"Name\": \"Bay Area 511 County Connection Schedule\", \"Total Trips\": 593, \"N Trips\": 554, \"Trip Cutoff\": 10, \"Segment Cutoff\": 0.2, \"Cutoff\": \"10+ min & 20.0%+ segments\", \"Pct Usable Trips\": 0.9342327150084317}, {\"Gtfs Dataset Key\": \"17b259a4ae767d3ef5478964851cabb8\", \"Name\": \"WeHo Schedule\", \"Total Trips\": 64, \"N Trips\": 62, \"Trip Cutoff\": 10, \"Segment Cutoff\": 0.2, \"Cutoff\": \"10+ min & 20.0%+ segments\", \"Pct Usable Trips\": 0.96875}, {\"Gtfs Dataset Key\": \"1a4e07032b35ff5aae9438fefc374b55\", \"Name\": \"Antelope Valley Transit Authority Schedule\", \"Total Trips\": 348, \"N Trips\": 331, \"Trip Cutoff\": 10, \"Segment Cutoff\": 0.2, \"Cutoff\": \"10+ min & 20.0%+ segments\", \"Pct Usable Trips\": 0.9511494252873564}, {\"Gtfs Dataset Key\": \"2c82eb917900d5d8b69237702f68ab77\", \"Name\": \"Redding Schedule\", \"Total Trips\": 238, \"N Trips\": 230, \"Trip Cutoff\": 10, \"Segment Cutoff\": 0.2, \"Cutoff\": \"10+ min & 20.0%+ segments\", \"Pct Usable Trips\": 0.9663865546218487}, {\"Gtfs Dataset Key\": \"30e5260fa62b36db8c1dea91fc0c130d\", \"Name\": \"Elk Grove Schedule\", \"Total Trips\": 250, \"N Trips\": 248, \"Trip Cutoff\": 10, \"Segment Cutoff\": 0.2, \"Cutoff\": \"10+ min & 20.0%+ segments\", \"Pct Usable Trips\": 0.992}, {\"Gtfs Dataset Key\": \"3166ec2b9b4c75e31471d0c19384d97e\", \"Name\": \"Bay Area 511 SamTrans Schedule\", \"Total Trips\": 1376, \"N Trips\": 1359, \"Trip Cutoff\": 10, \"Segment Cutoff\": 0.2, \"Cutoff\": \"10+ min & 20.0%+ segments\", \"Pct Usable Trips\": 0.9876453488372093}, {\"Gtfs Dataset Key\": \"318c6bc87acccb67fb00aa9180aa5a12\", \"Name\": \"San Diego Schedule\", \"Total Trips\": 7180, \"N Trips\": 7139, \"Trip Cutoff\": 10, \"Segment Cutoff\": 0.2, \"Cutoff\": \"10+ min & 20.0%+ segments\", \"Pct Usable Trips\": 0.9942896935933148}, {\"Gtfs Dataset Key\": \"34b027e071739231b3a2bc0828b6e581\", \"Name\": \"Bay Area 511 Caltrain Schedule\", \"Total Trips\": 92, \"N Trips\": 86, \"Trip Cutoff\": 10, \"Segment Cutoff\": 0.2, \"Cutoff\": \"10+ min & 20.0%+ segments\", \"Pct Usable Trips\": 0.9347826086956522}, {\"Gtfs Dataset Key\": \"3a508d597e0f71941bd18367262a9cbc\", \"Name\": \"Pasadena Schedule\", \"Total Trips\": 314, \"N Trips\": 312, \"Trip Cutoff\": 10, \"Segment Cutoff\": 0.2, \"Cutoff\": \"10+ min & 20.0%+ segments\", \"Pct Usable Trips\": 0.9936305732484076}, {\"Gtfs Dataset Key\": \"3ab660737c49a3d77b2d418fa8f123fb\", \"Name\": \"Norwalk Avail Schedule\", \"Total Trips\": 13, \"N Trips\": 13, \"Trip Cutoff\": 10, \"Segment Cutoff\": 0.2, \"Cutoff\": \"10+ min & 20.0%+ segments\", \"Pct Usable Trips\": 1.0}, {\"Gtfs Dataset Key\": \"3aded1f694ac384eb4f98f2d42498950\", \"Name\": \"PresidiGo Schedule\", \"Total Trips\": 15, \"N Trips\": 13, \"Trip Cutoff\": 10, \"Segment Cutoff\": 0.2, \"Cutoff\": \"10+ min & 20.0%+ segments\", \"Pct Usable Trips\": 0.8666666666666667}, {\"Gtfs Dataset Key\": \"3c1b68c3dd8983c8fb8d2661fb7eb398\", \"Name\": \"Beach Cities GMV Schedule\", \"Total Trips\": 89, \"N Trips\": 83, \"Trip Cutoff\": 10, \"Segment Cutoff\": 0.2, \"Cutoff\": \"10+ min & 20.0%+ segments\", \"Pct Usable Trips\": 0.9325842696629213}, {\"Gtfs Dataset Key\": \"4340d7ccf61d3a169068ffef1e310daf\", \"Name\": \"Bay Area 511 Santa Rosa CityBus Schedule\", \"Total Trips\": 541, \"N Trips\": 506, \"Trip Cutoff\": 10, \"Segment Cutoff\": 0.2, \"Cutoff\": \"10+ min & 20.0%+ segments\", \"Pct Usable Trips\": 0.9353049907578558}, {\"Gtfs Dataset Key\": \"443649972c5f581abf6ea43a6f6fa7a7\", \"Name\": \"Culver City Schedule\", \"Total Trips\": 321, \"N Trips\": 301, \"Trip Cutoff\": 10, \"Segment Cutoff\": 0.2, \"Cutoff\": \"10+ min & 20.0%+ segments\", \"Pct Usable Trips\": 0.9376947040498442}, {\"Gtfs Dataset Key\": \"4594028c6c1ebbb6dbfb4284d7510b4e\", \"Name\": \"Foothill Schedule\", \"Total Trips\": 1295, \"N Trips\": 1244, \"Trip Cutoff\": 10, \"Segment Cutoff\": 0.2, \"Cutoff\": \"10+ min & 20.0%+ segments\", \"Pct Usable Trips\": 0.9606177606177606}, {\"Gtfs Dataset Key\": \"485c1365977842af8bfdab28fa07ba47\", \"Name\": \"Bay Area 511 SolTrans Schedule\", \"Total Trips\": 399, \"N Trips\": 393, \"Trip Cutoff\": 10, \"Segment Cutoff\": 0.2, \"Cutoff\": \"10+ min & 20.0%+ segments\", \"Pct Usable Trips\": 0.9849624060150376}, {\"Gtfs Dataset Key\": \"48b51d6d96bb01c42c87e40824248fe4\", \"Name\": \"Bay Area 511 WestCAT Schedule\", \"Total Trips\": 432, \"N Trips\": 415, \"Trip Cutoff\": 10, \"Segment Cutoff\": 0.2, \"Cutoff\": \"10+ min & 20.0%+ segments\", \"Pct Usable Trips\": 0.9606481481481481}, {\"Gtfs Dataset Key\": \"49fe49431d07dfa2a7342c73e46b6931\", \"Name\": \"Santa Maria Schedule\", \"Total Trips\": 18, \"N Trips\": 18, \"Trip Cutoff\": 10, \"Segment Cutoff\": 0.2, \"Cutoff\": \"10+ min & 20.0%+ segments\", \"Pct Usable Trips\": 1.0}, {\"Gtfs Dataset Key\": \"4a9d71507be65ce2f46e0beb26418b1a\", \"Name\": \"Commerce Schedule\", \"Total Trips\": 110, \"N Trips\": 107, \"Trip Cutoff\": 10, \"Segment Cutoff\": 0.2, \"Cutoff\": \"10+ min & 20.0%+ segments\", \"Pct Usable Trips\": 0.9727272727272728}, {\"Gtfs Dataset Key\": \"4bb240cf480589e58c6e58d06d6fb72c\", \"Name\": \"Bay Area 511 AC Transit Schedule\", \"Total Trips\": 5323, \"N Trips\": 5262, \"Trip Cutoff\": 10, \"Segment Cutoff\": 0.2, \"Cutoff\": \"10+ min & 20.0%+ segments\", \"Pct Usable Trips\": 0.9885402968250986}, {\"Gtfs Dataset Key\": \"5839b6a0ea1e93dc44574053e990d51e\", \"Name\": \"Madera County Connection Schedule\", \"Total Trips\": 27, \"N Trips\": 26, \"Trip Cutoff\": 10, \"Segment Cutoff\": 0.2, \"Cutoff\": \"10+ min & 20.0%+ segments\", \"Pct Usable Trips\": 0.9629629629629629}, {\"Gtfs Dataset Key\": \"5fcec68478fd5427be6bb2c4a3b240a6\", \"Name\": \"Burbank Schedule\", \"Total Trips\": 74, \"N Trips\": 72, \"Trip Cutoff\": 10, \"Segment Cutoff\": 0.2, \"Cutoff\": \"10+ min & 20.0%+ segments\", \"Pct Usable Trips\": 0.972972972972973}, {\"Gtfs Dataset Key\": \"609173a0aa18c6e168c54b8731584ffa\", \"Name\": \"Bay Area 511 Tri-Valley Wheels Schedule\", \"Total Trips\": 288, \"N Trips\": 278, \"Trip Cutoff\": 10, \"Segment Cutoff\": 0.2, \"Cutoff\": \"10+ min & 20.0%+ segments\", \"Pct Usable Trips\": 0.9652777777777778}, {\"Gtfs Dataset Key\": \"644cf39285755e8ba2dc68597faa48aa\", \"Name\": \"Bay Area 511 Muni Schedule\", \"Total Trips\": 9122, \"N Trips\": 8973, \"Trip Cutoff\": 10, \"Segment Cutoff\": 0.2, \"Cutoff\": \"10+ min & 20.0%+ segments\", \"Pct Usable Trips\": 0.983665862749397}, {\"Gtfs Dataset Key\": \"651832dd0d35804ce4e30063d095e3e5\", \"Name\": \"Fresno Schedule\", \"Total Trips\": 1249, \"N Trips\": 1237, \"Trip Cutoff\": 10, \"Segment Cutoff\": 0.2, \"Cutoff\": \"10+ min & 20.0%+ segments\", \"Pct Usable Trips\": 0.9903923138510808}, {\"Gtfs Dataset Key\": \"65793dff25c6e0d53703911d49d797ea\", \"Name\": \"Bay Area 511 Fairfield and Suisun Transit Schedule\", \"Total Trips\": 258, \"N Trips\": 258, \"Trip Cutoff\": 10, \"Segment Cutoff\": 0.2, \"Cutoff\": \"10+ min & 20.0%+ segments\", \"Pct Usable Trips\": 1.0}, {\"Gtfs Dataset Key\": \"6d1991ecbdee1e06031cda8761757f03\", \"Name\": \"Bay Area 511 Dumbarton Express Schedule\", \"Total Trips\": 50, \"N Trips\": 48, \"Trip Cutoff\": 10, \"Segment Cutoff\": 0.2, \"Cutoff\": \"10+ min & 20.0%+ segments\", \"Pct Usable Trips\": 0.96}, {\"Gtfs Dataset Key\": \"6e460d0f1aec519c62478f4ed4c269d1\", \"Name\": \"Long Beach Schedule\", \"Total Trips\": 1420, \"N Trips\": 1381, \"Trip Cutoff\": 10, \"Segment Cutoff\": 0.2, \"Cutoff\": \"10+ min & 20.0%+ segments\", \"Pct Usable Trips\": 0.9725352112676057}, {\"Gtfs Dataset Key\": \"6ef1ef238c89b672380a82b091df9a2b\", \"Name\": \"Bay Area 511 Tri Delta Schedule\", \"Total Trips\": 487, \"N Trips\": 482, \"Trip Cutoff\": 10, \"Segment Cutoff\": 0.2, \"Cutoff\": \"10+ min & 20.0%+ segments\", \"Pct Usable Trips\": 0.9897330595482546}, {\"Gtfs Dataset Key\": \"707fef642f609018a05f649ffd491563\", \"Name\": \"GET Schedule\", \"Total Trips\": 567, \"N Trips\": 565, \"Trip Cutoff\": 10, \"Segment Cutoff\": 0.2, \"Cutoff\": \"10+ min & 20.0%+ segments\", \"Pct Usable Trips\": 0.9964726631393298}, {\"Gtfs Dataset Key\": \"70c6ca7a0f9df3109381cd55950cd99a\", \"Name\": \"Bay Area 511 Golden Gate Transit Schedule\", \"Total Trips\": 208, \"N Trips\": 208, \"Trip Cutoff\": 10, \"Segment Cutoff\": 0.2, \"Cutoff\": \"10+ min & 20.0%+ segments\", \"Pct Usable Trips\": 1.0}, {\"Gtfs Dataset Key\": \"73ebf252af88c41aaf4426c6d3dc586c\", \"Name\": \"Unitrans Schedule\", \"Total Trips\": 423, \"N Trips\": 330, \"Trip Cutoff\": 10, \"Segment Cutoff\": 0.2, \"Cutoff\": \"10+ min & 20.0%+ segments\", \"Pct Usable Trips\": 0.7801418439716312}, {\"Gtfs Dataset Key\": \"74fe15010f17ff576045422f9bb38b00\", \"Name\": \"Visalia Schedule\", \"Total Trips\": 436, \"N Trips\": 403, \"Trip Cutoff\": 10, \"Segment Cutoff\": 0.2, \"Cutoff\": \"10+ min & 20.0%+ segments\", \"Pct Usable Trips\": 0.9243119266055045}, {\"Gtfs Dataset Key\": \"7c48cc5675c9266fb6851070489c53e9\", \"Name\": \"LA Metro Bus Schedule\", \"Total Trips\": 13812, \"N Trips\": 13517, \"Trip Cutoff\": 10, \"Segment Cutoff\": 0.2, \"Cutoff\": \"10+ min & 20.0%+ segments\", \"Pct Usable Trips\": 0.9786417607877208}, {\"Gtfs Dataset Key\": \"82d94402b3325d1e93e2a1f5b80a300d\", \"Name\": \"Bay Area 511 Vine Transit Schedule\", \"Total Trips\": 135, \"N Trips\": 122, \"Trip Cutoff\": 10, \"Segment Cutoff\": 0.2, \"Cutoff\": \"10+ min & 20.0%+ segments\", \"Pct Usable Trips\": 0.9037037037037037}, {\"Gtfs Dataset Key\": \"8ee6ecf3c45ac2669ee96ae4c8550950\", \"Name\": \"Big Blue Bus Schedule\", \"Total Trips\": 1318, \"N Trips\": 1308, \"Trip Cutoff\": 10, \"Segment Cutoff\": 0.2, \"Cutoff\": \"10+ min & 20.0%+ segments\", \"Pct Usable Trips\": 0.992412746585736}, {\"Gtfs Dataset Key\": \"8f0b9daf627c4f17cbe7f4460208a1af\", \"Name\": \"Santa Clarita Schedule\", \"Total Trips\": 381, \"N Trips\": 376, \"Trip Cutoff\": 10, \"Segment Cutoff\": 0.2, \"Cutoff\": \"10+ min & 20.0%+ segments\", \"Pct Usable Trips\": 0.9868766404199475}, {\"Gtfs Dataset Key\": \"910fbc31da89056bdee9ef48b235ef44\", \"Name\": \"VCTC GMV Schedule\", \"Total Trips\": 977, \"N Trips\": 955, \"Trip Cutoff\": 10, \"Segment Cutoff\": 0.2, \"Cutoff\": \"10+ min & 20.0%+ segments\", \"Pct Usable Trips\": 0.977482088024565}, {\"Gtfs Dataset Key\": \"9b19dee2eacd2a4e70c2750056c005ff\", \"Name\": \"Bay Area 511 Sonoma County Transit Schedule\", \"Total Trips\": 148, \"N Trips\": 129, \"Trip Cutoff\": 10, \"Segment Cutoff\": 0.2, \"Cutoff\": \"10+ min & 20.0%+ segments\", \"Pct Usable Trips\": 0.8716216216216216}, {\"Gtfs Dataset Key\": \"9bd1e0098ba62c06837bf2330db605c2\", \"Name\": \"Torrance Schedule\", \"Total Trips\": 307, \"N Trips\": 301, \"Trip Cutoff\": 10, \"Segment Cutoff\": 0.2, \"Cutoff\": \"10+ min & 20.0%+ segments\", \"Pct Usable Trips\": 0.9804560260586319}, {\"Gtfs Dataset Key\": \"aa9fe79adc8edf93ebfb1ab83c8acc69\", \"Name\": \"Kings Schedule\", \"Total Trips\": 250, \"N Trips\": 247, \"Trip Cutoff\": 10, \"Segment Cutoff\": 0.2, \"Cutoff\": \"10+ min & 20.0%+ segments\", \"Pct Usable Trips\": 0.988}, {\"Gtfs Dataset Key\": \"ac86302bad2b6f66bb6d5aae35ffb52f\", \"Name\": \"Bay Area 511 Marin Schedule\", \"Total Trips\": 593, \"N Trips\": 543, \"Trip Cutoff\": 10, \"Segment Cutoff\": 0.2, \"Cutoff\": \"10+ min & 20.0%+ segments\", \"Pct Usable Trips\": 0.9156829679595279}, {\"Gtfs Dataset Key\": \"ae93720f3c32c12f9ed912e465066bfc\", \"Name\": \"Eastern Sierra Schedule\", \"Total Trips\": 243, \"N Trips\": 118, \"Trip Cutoff\": 10, \"Segment Cutoff\": 0.2, \"Cutoff\": \"10+ min & 20.0%+ segments\", \"Pct Usable Trips\": 0.48559670781893005}, {\"Gtfs Dataset Key\": \"b04260a7725206fcd69b4e4a68b13aae\", \"Name\": \"Yolobus Schedule\", \"Total Trips\": 94, \"N Trips\": 91, \"Trip Cutoff\": 10, \"Segment Cutoff\": 0.2, \"Cutoff\": \"10+ min & 20.0%+ segments\", \"Pct Usable Trips\": 0.9680851063829787}, {\"Gtfs Dataset Key\": \"bc21582ac1ad2b7de0647dfd5b76f67c\", \"Name\": \"Bay Area 511 Petaluma Schedule\", \"Total Trips\": 118, \"N Trips\": 81, \"Trip Cutoff\": 10, \"Segment Cutoff\": 0.2, \"Cutoff\": \"10+ min & 20.0%+ segments\", \"Pct Usable Trips\": 0.6864406779661016}, {\"Gtfs Dataset Key\": \"bdfa3214963bbc4ad4b08e3d5f726744\", \"Name\": \"Tahoe Transportation District Schedule\", \"Total Trips\": 48, \"N Trips\": 40, \"Trip Cutoff\": 10, \"Segment Cutoff\": 0.2, \"Cutoff\": \"10+ min & 20.0%+ segments\", \"Pct Usable Trips\": 0.8333333333333334}, {\"Gtfs Dataset Key\": \"c5b2bf3815a12d5f7242923ed399d1ea\", \"Name\": \"SBMTD Schedule\", \"Total Trips\": 653, \"N Trips\": 600, \"Trip Cutoff\": 10, \"Segment Cutoff\": 0.2, \"Cutoff\": \"10+ min & 20.0%+ segments\", \"Pct Usable Trips\": 0.9188361408882083}, {\"Gtfs Dataset Key\": \"c866d1f427084d94bfa3831d0014d775\", \"Name\": \"Monterey Salinas Schedule\", \"Total Trips\": 906, \"N Trips\": 896, \"Trip Cutoff\": 10, \"Segment Cutoff\": 0.2, \"Cutoff\": \"10+ min & 20.0%+ segments\", \"Pct Usable Trips\": 0.9889624724061811}, {\"Gtfs Dataset Key\": \"c9ec81d837b7ef2feedcea2c940f15d4\", \"Name\": \"Nevada County Schedule\", \"Total Trips\": 109, \"N Trips\": 101, \"Trip Cutoff\": 10, \"Segment Cutoff\": 0.2, \"Cutoff\": \"10+ min & 20.0%+ segments\", \"Pct Usable Trips\": 0.926605504587156}, {\"Gtfs Dataset Key\": \"cb28d936a30d08f64661c81751af4382\", \"Name\": \"LA Metro Rail Schedule\", \"Total Trips\": 1224, \"N Trips\": 975, \"Trip Cutoff\": 10, \"Segment Cutoff\": 0.2, \"Cutoff\": \"10+ min & 20.0%+ segments\", \"Pct Usable Trips\": 0.7965686274509803}, {\"Gtfs Dataset Key\": \"d2f0224819832ba7d0039ff5e84c5bdd\", \"Name\": \"Victor Valley GMV Schedule\", \"Total Trips\": 817, \"N Trips\": 794, \"Trip Cutoff\": 10, \"Segment Cutoff\": 0.2, \"Cutoff\": \"10+ min & 20.0%+ segments\", \"Pct Usable Trips\": 0.9718482252141983}, {\"Gtfs Dataset Key\": \"d41e4cfdd42950bde9876c5dc670017d\", \"Name\": \"BruinBus Schedule\", \"Total Trips\": 5, \"N Trips\": 5, \"Trip Cutoff\": 10, \"Segment Cutoff\": 0.2, \"Cutoff\": \"10+ min & 20.0%+ segments\", \"Pct Usable Trips\": 1.0}, {\"Gtfs Dataset Key\": \"dac1d3922d8cb62f5feba57d5fdfb012\", \"Name\": \"Torrance Schedule\", \"Total Trips\": 101, \"N Trips\": 99, \"Trip Cutoff\": 10, \"Segment Cutoff\": 0.2, \"Cutoff\": \"10+ min & 20.0%+ segments\", \"Pct Usable Trips\": 0.9801980198019802}, {\"Gtfs Dataset Key\": \"ddc9965fcbf3beaba6d2cb40a3e67c1e\", \"Name\": \"Bay Area 511 San Francisco Bay Ferry Schedule\", \"Total Trips\": 149, \"N Trips\": 116, \"Trip Cutoff\": 10, \"Segment Cutoff\": 0.2, \"Cutoff\": \"10+ min & 20.0%+ segments\", \"Pct Usable Trips\": 0.7785234899328859}, {\"Gtfs Dataset Key\": \"e70b24e4d4931a9ada95fc76a2b53e9b\", \"Name\": \"StanRTA Schedule\", \"Total Trips\": 700, \"N Trips\": 670, \"Trip Cutoff\": 10, \"Segment Cutoff\": 0.2, \"Cutoff\": \"10+ min & 20.0%+ segments\", \"Pct Usable Trips\": 0.9571428571428572}, {\"Gtfs Dataset Key\": \"e88d7f9e3c43ddf41c75c94d12a440a9\", \"Name\": \"Bear Schedule\", \"Total Trips\": 151, \"N Trips\": 131, \"Trip Cutoff\": 10, \"Segment Cutoff\": 0.2, \"Cutoff\": \"10+ min & 20.0%+ segments\", \"Pct Usable Trips\": 0.8675496688741722}, {\"Gtfs Dataset Key\": \"ee4a7698aa24503c4058d10c238e6f8a\", \"Name\": \"Humboldt Schedule\", \"Total Trips\": 112, \"N Trips\": 105, \"Trip Cutoff\": 10, \"Segment Cutoff\": 0.2, \"Cutoff\": \"10+ min & 20.0%+ segments\", \"Pct Usable Trips\": 0.9375}, {\"Gtfs Dataset Key\": \"ee901494c3e6dabe62812966c94fa34c\", \"Name\": \"Santa Ynez Schedule\", \"Total Trips\": 25, \"N Trips\": 22, \"Trip Cutoff\": 10, \"Segment Cutoff\": 0.2, \"Cutoff\": \"10+ min & 20.0%+ segments\", \"Pct Usable Trips\": 0.88}, {\"Gtfs Dataset Key\": \"f09062d4bb1cb04b59bdc8232f0cfc90\", \"Name\": \"Turlock Schedule\", \"Total Trips\": 270, \"N Trips\": 234, \"Trip Cutoff\": 10, \"Segment Cutoff\": 0.2, \"Cutoff\": \"10+ min & 20.0%+ segments\", \"Pct Usable Trips\": 0.8666666666666667}, {\"Gtfs Dataset Key\": \"f1497340b654f3ce925f8b8c2f83e1c2\", \"Name\": \"Riverside Schedule\", \"Total Trips\": 1094, \"N Trips\": 1088, \"Trip Cutoff\": 10, \"Segment Cutoff\": 0.2, \"Cutoff\": \"10+ min & 20.0%+ segments\", \"Pct Usable Trips\": 0.9945155393053017}, {\"Gtfs Dataset Key\": \"02af2d11f5bd44434c581540e9e857d8\", \"Name\": \"LA DOT Schedule\", \"Total Trips\": 2899, \"N Trips\": 2704, \"Trip Cutoff\": 10, \"Segment Cutoff\": 0.4, \"Cutoff\": \"10+ min & 40.0%+ segments\", \"Pct Usable Trips\": 0.9327354260089686}, {\"Gtfs Dataset Key\": \"03cadbffef6f3cd4ce839b218bc65e82\", \"Name\": \"Bay Area 511 Santa Clara Transit Schedule\", \"Total Trips\": 3699, \"N Trips\": 3609, \"Trip Cutoff\": 10, \"Segment Cutoff\": 0.4, \"Cutoff\": \"10+ min & 40.0%+ segments\", \"Pct Usable Trips\": 0.975669099756691}, {\"Gtfs Dataset Key\": \"087e5ecdcf65499829e681a60e606637\", \"Name\": \"Lake Schedule\", \"Total Trips\": 65, \"N Trips\": 55, \"Trip Cutoff\": 10, \"Segment Cutoff\": 0.4, \"Cutoff\": \"10+ min & 40.0%+ segments\", \"Pct Usable Trips\": 0.8461538461538461}, {\"Gtfs Dataset Key\": \"08c4e0555b1b90cd7464ac801157a167\", \"Name\": \"Bay Area 511 Union City Transit Schedule\", \"Total Trips\": 191, \"N Trips\": 186, \"Trip Cutoff\": 10, \"Segment Cutoff\": 0.4, \"Cutoff\": \"10+ min & 40.0%+ segments\", \"Pct Usable Trips\": 0.9738219895287958}, {\"Gtfs Dataset Key\": \"0a3c3013dc4baff072e14f8ae8a796bb\", \"Name\": \"North County Schedule\", \"Total Trips\": 1298, \"N Trips\": 1293, \"Trip Cutoff\": 10, \"Segment Cutoff\": 0.4, \"Cutoff\": \"10+ min & 40.0%+ segments\", \"Pct Usable Trips\": 0.9961479198767335}, {\"Gtfs Dataset Key\": \"0da5a62ebe57a31bce87abf9fbb2857a\", \"Name\": \"Bay Area 511 MVGO Schedule\", \"Total Trips\": 79, \"N Trips\": 79, \"Trip Cutoff\": 10, \"Segment Cutoff\": 0.4, \"Cutoff\": \"10+ min & 40.0%+ segments\", \"Pct Usable Trips\": 1.0}, {\"Gtfs Dataset Key\": \"0f68ec4d97d179570b494c74b6fca55d\", \"Name\": \"OCTA Schedule\", \"Total Trips\": 3175, \"N Trips\": 3157, \"Trip Cutoff\": 10, \"Segment Cutoff\": 0.4, \"Cutoff\": \"10+ min & 40.0%+ segments\", \"Pct Usable Trips\": 0.9943307086614174}, {\"Gtfs Dataset Key\": \"0faa34840bb65e96b7f83b7f379c2edd\", \"Name\": \"Bay Area 511 Emery Go-Round Schedule\", \"Total Trips\": 127, \"N Trips\": 124, \"Trip Cutoff\": 10, \"Segment Cutoff\": 0.4, \"Cutoff\": \"10+ min & 40.0%+ segments\", \"Pct Usable Trips\": 0.9763779527559056}, {\"Gtfs Dataset Key\": \"115fa7bd31a65b3210945ee884f36132\", \"Name\": \"Banning Pass Schedule\", \"Total Trips\": 44, \"N Trips\": 39, \"Trip Cutoff\": 10, \"Segment Cutoff\": 0.4, \"Cutoff\": \"10+ min & 40.0%+ segments\", \"Pct Usable Trips\": 0.8863636363636364}, {\"Gtfs Dataset Key\": \"13c6e9f58e53c12416b7754352fa1acd\", \"Name\": \"Bay Area 511 Sonoma-Marin Area Rail Transit Schedule\", \"Total Trips\": 38, \"N Trips\": 38, \"Trip Cutoff\": 10, \"Segment Cutoff\": 0.4, \"Cutoff\": \"10+ min & 40.0%+ segments\", \"Pct Usable Trips\": 1.0}, {\"Gtfs Dataset Key\": \"16ee668743cb1ea540bf833d301a1686\", \"Name\": \"Bay Area 511 County Connection Schedule\", \"Total Trips\": 593, \"N Trips\": 547, \"Trip Cutoff\": 10, \"Segment Cutoff\": 0.4, \"Cutoff\": \"10+ min & 40.0%+ segments\", \"Pct Usable Trips\": 0.9224283305227656}, {\"Gtfs Dataset Key\": \"17b259a4ae767d3ef5478964851cabb8\", \"Name\": \"WeHo Schedule\", \"Total Trips\": 64, \"N Trips\": 62, \"Trip Cutoff\": 10, \"Segment Cutoff\": 0.4, \"Cutoff\": \"10+ min & 40.0%+ segments\", \"Pct Usable Trips\": 0.96875}, {\"Gtfs Dataset Key\": \"1a4e07032b35ff5aae9438fefc374b55\", \"Name\": \"Antelope Valley Transit Authority Schedule\", \"Total Trips\": 348, \"N Trips\": 304, \"Trip Cutoff\": 10, \"Segment Cutoff\": 0.4, \"Cutoff\": \"10+ min & 40.0%+ segments\", \"Pct Usable Trips\": 0.8735632183908046}, {\"Gtfs Dataset Key\": \"2c82eb917900d5d8b69237702f68ab77\", \"Name\": \"Redding Schedule\", \"Total Trips\": 238, \"N Trips\": 229, \"Trip Cutoff\": 10, \"Segment Cutoff\": 0.4, \"Cutoff\": \"10+ min & 40.0%+ segments\", \"Pct Usable Trips\": 0.9621848739495799}, {\"Gtfs Dataset Key\": \"30e5260fa62b36db8c1dea91fc0c130d\", \"Name\": \"Elk Grove Schedule\", \"Total Trips\": 250, \"N Trips\": 248, \"Trip Cutoff\": 10, \"Segment Cutoff\": 0.4, \"Cutoff\": \"10+ min & 40.0%+ segments\", \"Pct Usable Trips\": 0.992}, {\"Gtfs Dataset Key\": \"3166ec2b9b4c75e31471d0c19384d97e\", \"Name\": \"Bay Area 511 SamTrans Schedule\", \"Total Trips\": 1376, \"N Trips\": 1346, \"Trip Cutoff\": 10, \"Segment Cutoff\": 0.4, \"Cutoff\": \"10+ min & 40.0%+ segments\", \"Pct Usable Trips\": 0.9781976744186046}, {\"Gtfs Dataset Key\": \"318c6bc87acccb67fb00aa9180aa5a12\", \"Name\": \"San Diego Schedule\", \"Total Trips\": 7180, \"N Trips\": 7026, \"Trip Cutoff\": 10, \"Segment Cutoff\": 0.4, \"Cutoff\": \"10+ min & 40.0%+ segments\", \"Pct Usable Trips\": 0.9785515320334262}, {\"Gtfs Dataset Key\": \"34b027e071739231b3a2bc0828b6e581\", \"Name\": \"Bay Area 511 Caltrain Schedule\", \"Total Trips\": 92, \"N Trips\": 76, \"Trip Cutoff\": 10, \"Segment Cutoff\": 0.4, \"Cutoff\": \"10+ min & 40.0%+ segments\", \"Pct Usable Trips\": 0.8260869565217391}, {\"Gtfs Dataset Key\": \"3a508d597e0f71941bd18367262a9cbc\", \"Name\": \"Pasadena Schedule\", \"Total Trips\": 314, \"N Trips\": 308, \"Trip Cutoff\": 10, \"Segment Cutoff\": 0.4, \"Cutoff\": \"10+ min & 40.0%+ segments\", \"Pct Usable Trips\": 0.9808917197452229}, {\"Gtfs Dataset Key\": \"3ab660737c49a3d77b2d418fa8f123fb\", \"Name\": \"Norwalk Avail Schedule\", \"Total Trips\": 13, \"N Trips\": 13, \"Trip Cutoff\": 10, \"Segment Cutoff\": 0.4, \"Cutoff\": \"10+ min & 40.0%+ segments\", \"Pct Usable Trips\": 1.0}, {\"Gtfs Dataset Key\": \"3aded1f694ac384eb4f98f2d42498950\", \"Name\": \"PresidiGo Schedule\", \"Total Trips\": 15, \"N Trips\": 12, \"Trip Cutoff\": 10, \"Segment Cutoff\": 0.4, \"Cutoff\": \"10+ min & 40.0%+ segments\", \"Pct Usable Trips\": 0.8}, {\"Gtfs Dataset Key\": \"3c1b68c3dd8983c8fb8d2661fb7eb398\", \"Name\": \"Beach Cities GMV Schedule\", \"Total Trips\": 89, \"N Trips\": 82, \"Trip Cutoff\": 10, \"Segment Cutoff\": 0.4, \"Cutoff\": \"10+ min & 40.0%+ segments\", \"Pct Usable Trips\": 0.9213483146067416}, {\"Gtfs Dataset Key\": \"4340d7ccf61d3a169068ffef1e310daf\", \"Name\": \"Bay Area 511 Santa Rosa CityBus Schedule\", \"Total Trips\": 541, \"N Trips\": 505, \"Trip Cutoff\": 10, \"Segment Cutoff\": 0.4, \"Cutoff\": \"10+ min & 40.0%+ segments\", \"Pct Usable Trips\": 0.933456561922366}, {\"Gtfs Dataset Key\": \"443649972c5f581abf6ea43a6f6fa7a7\", \"Name\": \"Culver City Schedule\", \"Total Trips\": 321, \"N Trips\": 294, \"Trip Cutoff\": 10, \"Segment Cutoff\": 0.4, \"Cutoff\": \"10+ min & 40.0%+ segments\", \"Pct Usable Trips\": 0.9158878504672897}, {\"Gtfs Dataset Key\": \"4594028c6c1ebbb6dbfb4284d7510b4e\", \"Name\": \"Foothill Schedule\", \"Total Trips\": 1295, \"N Trips\": 1207, \"Trip Cutoff\": 10, \"Segment Cutoff\": 0.4, \"Cutoff\": \"10+ min & 40.0%+ segments\", \"Pct Usable Trips\": 0.932046332046332}, {\"Gtfs Dataset Key\": \"485c1365977842af8bfdab28fa07ba47\", \"Name\": \"Bay Area 511 SolTrans Schedule\", \"Total Trips\": 399, \"N Trips\": 391, \"Trip Cutoff\": 10, \"Segment Cutoff\": 0.4, \"Cutoff\": \"10+ min & 40.0%+ segments\", \"Pct Usable Trips\": 0.9799498746867168}, {\"Gtfs Dataset Key\": \"48b51d6d96bb01c42c87e40824248fe4\", \"Name\": \"Bay Area 511 WestCAT Schedule\", \"Total Trips\": 432, \"N Trips\": 414, \"Trip Cutoff\": 10, \"Segment Cutoff\": 0.4, \"Cutoff\": \"10+ min & 40.0%+ segments\", \"Pct Usable Trips\": 0.9583333333333334}, {\"Gtfs Dataset Key\": \"49fe49431d07dfa2a7342c73e46b6931\", \"Name\": \"Santa Maria Schedule\", \"Total Trips\": 18, \"N Trips\": 18, \"Trip Cutoff\": 10, \"Segment Cutoff\": 0.4, \"Cutoff\": \"10+ min & 40.0%+ segments\", \"Pct Usable Trips\": 1.0}, {\"Gtfs Dataset Key\": \"4a9d71507be65ce2f46e0beb26418b1a\", \"Name\": \"Commerce Schedule\", \"Total Trips\": 110, \"N Trips\": 106, \"Trip Cutoff\": 10, \"Segment Cutoff\": 0.4, \"Cutoff\": \"10+ min & 40.0%+ segments\", \"Pct Usable Trips\": 0.9636363636363636}, {\"Gtfs Dataset Key\": \"4bb240cf480589e58c6e58d06d6fb72c\", \"Name\": \"Bay Area 511 AC Transit Schedule\", \"Total Trips\": 5323, \"N Trips\": 5222, \"Trip Cutoff\": 10, \"Segment Cutoff\": 0.4, \"Cutoff\": \"10+ min & 40.0%+ segments\", \"Pct Usable Trips\": 0.981025737366147}, {\"Gtfs Dataset Key\": \"5839b6a0ea1e93dc44574053e990d51e\", \"Name\": \"Madera County Connection Schedule\", \"Total Trips\": 27, \"N Trips\": 26, \"Trip Cutoff\": 10, \"Segment Cutoff\": 0.4, \"Cutoff\": \"10+ min & 40.0%+ segments\", \"Pct Usable Trips\": 0.9629629629629629}, {\"Gtfs Dataset Key\": \"5fcec68478fd5427be6bb2c4a3b240a6\", \"Name\": \"Burbank Schedule\", \"Total Trips\": 74, \"N Trips\": 72, \"Trip Cutoff\": 10, \"Segment Cutoff\": 0.4, \"Cutoff\": \"10+ min & 40.0%+ segments\", \"Pct Usable Trips\": 0.972972972972973}, {\"Gtfs Dataset Key\": \"609173a0aa18c6e168c54b8731584ffa\", \"Name\": \"Bay Area 511 Tri-Valley Wheels Schedule\", \"Total Trips\": 288, \"N Trips\": 271, \"Trip Cutoff\": 10, \"Segment Cutoff\": 0.4, \"Cutoff\": \"10+ min & 40.0%+ segments\", \"Pct Usable Trips\": 0.9409722222222222}, {\"Gtfs Dataset Key\": \"644cf39285755e8ba2dc68597faa48aa\", \"Name\": \"Bay Area 511 Muni Schedule\", \"Total Trips\": 9122, \"N Trips\": 8679, \"Trip Cutoff\": 10, \"Segment Cutoff\": 0.4, \"Cutoff\": \"10+ min & 40.0%+ segments\", \"Pct Usable Trips\": 0.9514360885770664}, {\"Gtfs Dataset Key\": \"651832dd0d35804ce4e30063d095e3e5\", \"Name\": \"Fresno Schedule\", \"Total Trips\": 1249, \"N Trips\": 1219, \"Trip Cutoff\": 10, \"Segment Cutoff\": 0.4, \"Cutoff\": \"10+ min & 40.0%+ segments\", \"Pct Usable Trips\": 0.9759807846277022}, {\"Gtfs Dataset Key\": \"65793dff25c6e0d53703911d49d797ea\", \"Name\": \"Bay Area 511 Fairfield and Suisun Transit Schedule\", \"Total Trips\": 258, \"N Trips\": 258, \"Trip Cutoff\": 10, \"Segment Cutoff\": 0.4, \"Cutoff\": \"10+ min & 40.0%+ segments\", \"Pct Usable Trips\": 1.0}, {\"Gtfs Dataset Key\": \"6d1991ecbdee1e06031cda8761757f03\", \"Name\": \"Bay Area 511 Dumbarton Express Schedule\", \"Total Trips\": 50, \"N Trips\": 42, \"Trip Cutoff\": 10, \"Segment Cutoff\": 0.4, \"Cutoff\": \"10+ min & 40.0%+ segments\", \"Pct Usable Trips\": 0.84}, {\"Gtfs Dataset Key\": \"6e460d0f1aec519c62478f4ed4c269d1\", \"Name\": \"Long Beach Schedule\", \"Total Trips\": 1420, \"N Trips\": 1359, \"Trip Cutoff\": 10, \"Segment Cutoff\": 0.4, \"Cutoff\": \"10+ min & 40.0%+ segments\", \"Pct Usable Trips\": 0.9570422535211267}, {\"Gtfs Dataset Key\": \"6ef1ef238c89b672380a82b091df9a2b\", \"Name\": \"Bay Area 511 Tri Delta Schedule\", \"Total Trips\": 487, \"N Trips\": 472, \"Trip Cutoff\": 10, \"Segment Cutoff\": 0.4, \"Cutoff\": \"10+ min & 40.0%+ segments\", \"Pct Usable Trips\": 0.9691991786447639}, {\"Gtfs Dataset Key\": \"707fef642f609018a05f649ffd491563\", \"Name\": \"GET Schedule\", \"Total Trips\": 567, \"N Trips\": 563, \"Trip Cutoff\": 10, \"Segment Cutoff\": 0.4, \"Cutoff\": \"10+ min & 40.0%+ segments\", \"Pct Usable Trips\": 0.9929453262786596}, {\"Gtfs Dataset Key\": \"70c6ca7a0f9df3109381cd55950cd99a\", \"Name\": \"Bay Area 511 Golden Gate Transit Schedule\", \"Total Trips\": 208, \"N Trips\": 200, \"Trip Cutoff\": 10, \"Segment Cutoff\": 0.4, \"Cutoff\": \"10+ min & 40.0%+ segments\", \"Pct Usable Trips\": 0.9615384615384616}, {\"Gtfs Dataset Key\": \"73ebf252af88c41aaf4426c6d3dc586c\", \"Name\": \"Unitrans Schedule\", \"Total Trips\": 423, \"N Trips\": 326, \"Trip Cutoff\": 10, \"Segment Cutoff\": 0.4, \"Cutoff\": \"10+ min & 40.0%+ segments\", \"Pct Usable Trips\": 0.7706855791962175}, {\"Gtfs Dataset Key\": \"74fe15010f17ff576045422f9bb38b00\", \"Name\": \"Visalia Schedule\", \"Total Trips\": 436, \"N Trips\": 400, \"Trip Cutoff\": 10, \"Segment Cutoff\": 0.4, \"Cutoff\": \"10+ min & 40.0%+ segments\", \"Pct Usable Trips\": 0.9174311926605505}, {\"Gtfs Dataset Key\": \"7c48cc5675c9266fb6851070489c53e9\", \"Name\": \"LA Metro Bus Schedule\", \"Total Trips\": 13812, \"N Trips\": 13289, \"Trip Cutoff\": 10, \"Segment Cutoff\": 0.4, \"Cutoff\": \"10+ min & 40.0%+ segments\", \"Pct Usable Trips\": 0.9621343759050102}, {\"Gtfs Dataset Key\": \"82d94402b3325d1e93e2a1f5b80a300d\", \"Name\": \"Bay Area 511 Vine Transit Schedule\", \"Total Trips\": 135, \"N Trips\": 121, \"Trip Cutoff\": 10, \"Segment Cutoff\": 0.4, \"Cutoff\": \"10+ min & 40.0%+ segments\", \"Pct Usable Trips\": 0.8962962962962963}, {\"Gtfs Dataset Key\": \"8ee6ecf3c45ac2669ee96ae4c8550950\", \"Name\": \"Big Blue Bus Schedule\", \"Total Trips\": 1318, \"N Trips\": 1293, \"Trip Cutoff\": 10, \"Segment Cutoff\": 0.4, \"Cutoff\": \"10+ min & 40.0%+ segments\", \"Pct Usable Trips\": 0.9810318664643399}, {\"Gtfs Dataset Key\": \"8f0b9daf627c4f17cbe7f4460208a1af\", \"Name\": \"Santa Clarita Schedule\", \"Total Trips\": 381, \"N Trips\": 372, \"Trip Cutoff\": 10, \"Segment Cutoff\": 0.4, \"Cutoff\": \"10+ min & 40.0%+ segments\", \"Pct Usable Trips\": 0.9763779527559056}, {\"Gtfs Dataset Key\": \"910fbc31da89056bdee9ef48b235ef44\", \"Name\": \"VCTC GMV Schedule\", \"Total Trips\": 977, \"N Trips\": 947, \"Trip Cutoff\": 10, \"Segment Cutoff\": 0.4, \"Cutoff\": \"10+ min & 40.0%+ segments\", \"Pct Usable Trips\": 0.9692937563971341}, {\"Gtfs Dataset Key\": \"9b19dee2eacd2a4e70c2750056c005ff\", \"Name\": \"Bay Area 511 Sonoma County Transit Schedule\", \"Total Trips\": 148, \"N Trips\": 117, \"Trip Cutoff\": 10, \"Segment Cutoff\": 0.4, \"Cutoff\": \"10+ min & 40.0%+ segments\", \"Pct Usable Trips\": 0.7905405405405406}, {\"Gtfs Dataset Key\": \"9bd1e0098ba62c06837bf2330db605c2\", \"Name\": \"Torrance Schedule\", \"Total Trips\": 307, \"N Trips\": 301, \"Trip Cutoff\": 10, \"Segment Cutoff\": 0.4, \"Cutoff\": \"10+ min & 40.0%+ segments\", \"Pct Usable Trips\": 0.9804560260586319}, {\"Gtfs Dataset Key\": \"aa9fe79adc8edf93ebfb1ab83c8acc69\", \"Name\": \"Kings Schedule\", \"Total Trips\": 250, \"N Trips\": 246, \"Trip Cutoff\": 10, \"Segment Cutoff\": 0.4, \"Cutoff\": \"10+ min & 40.0%+ segments\", \"Pct Usable Trips\": 0.984}, {\"Gtfs Dataset Key\": \"ac86302bad2b6f66bb6d5aae35ffb52f\", \"Name\": \"Bay Area 511 Marin Schedule\", \"Total Trips\": 593, \"N Trips\": 485, \"Trip Cutoff\": 10, \"Segment Cutoff\": 0.4, \"Cutoff\": \"10+ min & 40.0%+ segments\", \"Pct Usable Trips\": 0.8178752107925801}, {\"Gtfs Dataset Key\": \"ae93720f3c32c12f9ed912e465066bfc\", \"Name\": \"Eastern Sierra Schedule\", \"Total Trips\": 243, \"N Trips\": 111, \"Trip Cutoff\": 10, \"Segment Cutoff\": 0.4, \"Cutoff\": \"10+ min & 40.0%+ segments\", \"Pct Usable Trips\": 0.4567901234567901}, {\"Gtfs Dataset Key\": \"b04260a7725206fcd69b4e4a68b13aae\", \"Name\": \"Yolobus Schedule\", \"Total Trips\": 94, \"N Trips\": 90, \"Trip Cutoff\": 10, \"Segment Cutoff\": 0.4, \"Cutoff\": \"10+ min & 40.0%+ segments\", \"Pct Usable Trips\": 0.9574468085106383}, {\"Gtfs Dataset Key\": \"bc21582ac1ad2b7de0647dfd5b76f67c\", \"Name\": \"Bay Area 511 Petaluma Schedule\", \"Total Trips\": 118, \"N Trips\": 80, \"Trip Cutoff\": 10, \"Segment Cutoff\": 0.4, \"Cutoff\": \"10+ min & 40.0%+ segments\", \"Pct Usable Trips\": 0.6779661016949152}, {\"Gtfs Dataset Key\": \"bdfa3214963bbc4ad4b08e3d5f726744\", \"Name\": \"Tahoe Transportation District Schedule\", \"Total Trips\": 48, \"N Trips\": 37, \"Trip Cutoff\": 10, \"Segment Cutoff\": 0.4, \"Cutoff\": \"10+ min & 40.0%+ segments\", \"Pct Usable Trips\": 0.7708333333333334}, {\"Gtfs Dataset Key\": \"c5b2bf3815a12d5f7242923ed399d1ea\", \"Name\": \"SBMTD Schedule\", \"Total Trips\": 653, \"N Trips\": 585, \"Trip Cutoff\": 10, \"Segment Cutoff\": 0.4, \"Cutoff\": \"10+ min & 40.0%+ segments\", \"Pct Usable Trips\": 0.8958652373660031}, {\"Gtfs Dataset Key\": \"c866d1f427084d94bfa3831d0014d775\", \"Name\": \"Monterey Salinas Schedule\", \"Total Trips\": 906, \"N Trips\": 895, \"Trip Cutoff\": 10, \"Segment Cutoff\": 0.4, \"Cutoff\": \"10+ min & 40.0%+ segments\", \"Pct Usable Trips\": 0.9878587196467992}, {\"Gtfs Dataset Key\": \"c9ec81d837b7ef2feedcea2c940f15d4\", \"Name\": \"Nevada County Schedule\", \"Total Trips\": 109, \"N Trips\": 101, \"Trip Cutoff\": 10, \"Segment Cutoff\": 0.4, \"Cutoff\": \"10+ min & 40.0%+ segments\", \"Pct Usable Trips\": 0.926605504587156}, {\"Gtfs Dataset Key\": \"cb28d936a30d08f64661c81751af4382\", \"Name\": \"LA Metro Rail Schedule\", \"Total Trips\": 1224, \"N Trips\": 945, \"Trip Cutoff\": 10, \"Segment Cutoff\": 0.4, \"Cutoff\": \"10+ min & 40.0%+ segments\", \"Pct Usable Trips\": 0.7720588235294118}, {\"Gtfs Dataset Key\": \"d2f0224819832ba7d0039ff5e84c5bdd\", \"Name\": \"Victor Valley GMV Schedule\", \"Total Trips\": 817, \"N Trips\": 788, \"Trip Cutoff\": 10, \"Segment Cutoff\": 0.4, \"Cutoff\": \"10+ min & 40.0%+ segments\", \"Pct Usable Trips\": 0.9645042839657283}, {\"Gtfs Dataset Key\": \"d41e4cfdd42950bde9876c5dc670017d\", \"Name\": \"BruinBus Schedule\", \"Total Trips\": 5, \"N Trips\": 5, \"Trip Cutoff\": 10, \"Segment Cutoff\": 0.4, \"Cutoff\": \"10+ min & 40.0%+ segments\", \"Pct Usable Trips\": 1.0}, {\"Gtfs Dataset Key\": \"dac1d3922d8cb62f5feba57d5fdfb012\", \"Name\": \"Torrance Schedule\", \"Total Trips\": 101, \"N Trips\": 97, \"Trip Cutoff\": 10, \"Segment Cutoff\": 0.4, \"Cutoff\": \"10+ min & 40.0%+ segments\", \"Pct Usable Trips\": 0.9603960396039604}, {\"Gtfs Dataset Key\": \"ddc9965fcbf3beaba6d2cb40a3e67c1e\", \"Name\": \"Bay Area 511 San Francisco Bay Ferry Schedule\", \"Total Trips\": 149, \"N Trips\": 75, \"Trip Cutoff\": 10, \"Segment Cutoff\": 0.4, \"Cutoff\": \"10+ min & 40.0%+ segments\", \"Pct Usable Trips\": 0.5033557046979866}, {\"Gtfs Dataset Key\": \"e70b24e4d4931a9ada95fc76a2b53e9b\", \"Name\": \"StanRTA Schedule\", \"Total Trips\": 700, \"N Trips\": 664, \"Trip Cutoff\": 10, \"Segment Cutoff\": 0.4, \"Cutoff\": \"10+ min & 40.0%+ segments\", \"Pct Usable Trips\": 0.9485714285714286}, {\"Gtfs Dataset Key\": \"e88d7f9e3c43ddf41c75c94d12a440a9\", \"Name\": \"Bear Schedule\", \"Total Trips\": 151, \"N Trips\": 128, \"Trip Cutoff\": 10, \"Segment Cutoff\": 0.4, \"Cutoff\": \"10+ min & 40.0%+ segments\", \"Pct Usable Trips\": 0.847682119205298}, {\"Gtfs Dataset Key\": \"ee4a7698aa24503c4058d10c238e6f8a\", \"Name\": \"Humboldt Schedule\", \"Total Trips\": 112, \"N Trips\": 104, \"Trip Cutoff\": 10, \"Segment Cutoff\": 0.4, \"Cutoff\": \"10+ min & 40.0%+ segments\", \"Pct Usable Trips\": 0.9285714285714286}, {\"Gtfs Dataset Key\": \"ee901494c3e6dabe62812966c94fa34c\", \"Name\": \"Santa Ynez Schedule\", \"Total Trips\": 25, \"N Trips\": 21, \"Trip Cutoff\": 10, \"Segment Cutoff\": 0.4, \"Cutoff\": \"10+ min & 40.0%+ segments\", \"Pct Usable Trips\": 0.84}, {\"Gtfs Dataset Key\": \"f09062d4bb1cb04b59bdc8232f0cfc90\", \"Name\": \"Turlock Schedule\", \"Total Trips\": 270, \"N Trips\": 234, \"Trip Cutoff\": 10, \"Segment Cutoff\": 0.4, \"Cutoff\": \"10+ min & 40.0%+ segments\", \"Pct Usable Trips\": 0.8666666666666667}, {\"Gtfs Dataset Key\": \"f1497340b654f3ce925f8b8c2f83e1c2\", \"Name\": \"Riverside Schedule\", \"Total Trips\": 1094, \"N Trips\": 1081, \"Trip Cutoff\": 10, \"Segment Cutoff\": 0.4, \"Cutoff\": \"10+ min & 40.0%+ segments\", \"Pct Usable Trips\": 0.9881170018281535}, {\"Gtfs Dataset Key\": \"02af2d11f5bd44434c581540e9e857d8\", \"Name\": \"LA DOT Schedule\", \"Total Trips\": 2899, \"N Trips\": 2629, \"Trip Cutoff\": 10, \"Segment Cutoff\": 0.6, \"Cutoff\": \"10+ min & 60.0%+ segments\", \"Pct Usable Trips\": 0.9068644360124181}, {\"Gtfs Dataset Key\": \"03cadbffef6f3cd4ce839b218bc65e82\", \"Name\": \"Bay Area 511 Santa Clara Transit Schedule\", \"Total Trips\": 3699, \"N Trips\": 3550, \"Trip Cutoff\": 10, \"Segment Cutoff\": 0.6, \"Cutoff\": \"10+ min & 60.0%+ segments\", \"Pct Usable Trips\": 0.9597188429305218}, {\"Gtfs Dataset Key\": \"087e5ecdcf65499829e681a60e606637\", \"Name\": \"Lake Schedule\", \"Total Trips\": 65, \"N Trips\": 55, \"Trip Cutoff\": 10, \"Segment Cutoff\": 0.6, \"Cutoff\": \"10+ min & 60.0%+ segments\", \"Pct Usable Trips\": 0.8461538461538461}, {\"Gtfs Dataset Key\": \"08c4e0555b1b90cd7464ac801157a167\", \"Name\": \"Bay Area 511 Union City Transit Schedule\", \"Total Trips\": 191, \"N Trips\": 185, \"Trip Cutoff\": 10, \"Segment Cutoff\": 0.6, \"Cutoff\": \"10+ min & 60.0%+ segments\", \"Pct Usable Trips\": 0.9685863874345549}, {\"Gtfs Dataset Key\": \"0a3c3013dc4baff072e14f8ae8a796bb\", \"Name\": \"North County Schedule\", \"Total Trips\": 1298, \"N Trips\": 1282, \"Trip Cutoff\": 10, \"Segment Cutoff\": 0.6, \"Cutoff\": \"10+ min & 60.0%+ segments\", \"Pct Usable Trips\": 0.987673343605547}, {\"Gtfs Dataset Key\": \"0da5a62ebe57a31bce87abf9fbb2857a\", \"Name\": \"Bay Area 511 MVGO Schedule\", \"Total Trips\": 79, \"N Trips\": 77, \"Trip Cutoff\": 10, \"Segment Cutoff\": 0.6, \"Cutoff\": \"10+ min & 60.0%+ segments\", \"Pct Usable Trips\": 0.9746835443037974}, {\"Gtfs Dataset Key\": \"0f68ec4d97d179570b494c74b6fca55d\", \"Name\": \"OCTA Schedule\", \"Total Trips\": 3175, \"N Trips\": 3085, \"Trip Cutoff\": 10, \"Segment Cutoff\": 0.6, \"Cutoff\": \"10+ min & 60.0%+ segments\", \"Pct Usable Trips\": 0.9716535433070866}, {\"Gtfs Dataset Key\": \"0faa34840bb65e96b7f83b7f379c2edd\", \"Name\": \"Bay Area 511 Emery Go-Round Schedule\", \"Total Trips\": 127, \"N Trips\": 124, \"Trip Cutoff\": 10, \"Segment Cutoff\": 0.6, \"Cutoff\": \"10+ min & 60.0%+ segments\", \"Pct Usable Trips\": 0.9763779527559056}, {\"Gtfs Dataset Key\": \"115fa7bd31a65b3210945ee884f36132\", \"Name\": \"Banning Pass Schedule\", \"Total Trips\": 44, \"N Trips\": 38, \"Trip Cutoff\": 10, \"Segment Cutoff\": 0.6, \"Cutoff\": \"10+ min & 60.0%+ segments\", \"Pct Usable Trips\": 0.8636363636363636}, {\"Gtfs Dataset Key\": \"13c6e9f58e53c12416b7754352fa1acd\", \"Name\": \"Bay Area 511 Sonoma-Marin Area Rail Transit Schedule\", \"Total Trips\": 38, \"N Trips\": 38, \"Trip Cutoff\": 10, \"Segment Cutoff\": 0.6, \"Cutoff\": \"10+ min & 60.0%+ segments\", \"Pct Usable Trips\": 1.0}, {\"Gtfs Dataset Key\": \"16ee668743cb1ea540bf833d301a1686\", \"Name\": \"Bay Area 511 County Connection Schedule\", \"Total Trips\": 593, \"N Trips\": 531, \"Trip Cutoff\": 10, \"Segment Cutoff\": 0.6, \"Cutoff\": \"10+ min & 60.0%+ segments\", \"Pct Usable Trips\": 0.8954468802698144}, {\"Gtfs Dataset Key\": \"17b259a4ae767d3ef5478964851cabb8\", \"Name\": \"WeHo Schedule\", \"Total Trips\": 64, \"N Trips\": 62, \"Trip Cutoff\": 10, \"Segment Cutoff\": 0.6, \"Cutoff\": \"10+ min & 60.0%+ segments\", \"Pct Usable Trips\": 0.96875}, {\"Gtfs Dataset Key\": \"1a4e07032b35ff5aae9438fefc374b55\", \"Name\": \"Antelope Valley Transit Authority Schedule\", \"Total Trips\": 348, \"N Trips\": 288, \"Trip Cutoff\": 10, \"Segment Cutoff\": 0.6, \"Cutoff\": \"10+ min & 60.0%+ segments\", \"Pct Usable Trips\": 0.8275862068965517}, {\"Gtfs Dataset Key\": \"2c82eb917900d5d8b69237702f68ab77\", \"Name\": \"Redding Schedule\", \"Total Trips\": 238, \"N Trips\": 228, \"Trip Cutoff\": 10, \"Segment Cutoff\": 0.6, \"Cutoff\": \"10+ min & 60.0%+ segments\", \"Pct Usable Trips\": 0.957983193277311}, {\"Gtfs Dataset Key\": \"30e5260fa62b36db8c1dea91fc0c130d\", \"Name\": \"Elk Grove Schedule\", \"Total Trips\": 250, \"N Trips\": 247, \"Trip Cutoff\": 10, \"Segment Cutoff\": 0.6, \"Cutoff\": \"10+ min & 60.0%+ segments\", \"Pct Usable Trips\": 0.988}, {\"Gtfs Dataset Key\": \"3166ec2b9b4c75e31471d0c19384d97e\", \"Name\": \"Bay Area 511 SamTrans Schedule\", \"Total Trips\": 1376, \"N Trips\": 1245, \"Trip Cutoff\": 10, \"Segment Cutoff\": 0.6, \"Cutoff\": \"10+ min & 60.0%+ segments\", \"Pct Usable Trips\": 0.904796511627907}, {\"Gtfs Dataset Key\": \"318c6bc87acccb67fb00aa9180aa5a12\", \"Name\": \"San Diego Schedule\", \"Total Trips\": 7180, \"N Trips\": 6715, \"Trip Cutoff\": 10, \"Segment Cutoff\": 0.6, \"Cutoff\": \"10+ min & 60.0%+ segments\", \"Pct Usable Trips\": 0.9352367688022284}, {\"Gtfs Dataset Key\": \"34b027e071739231b3a2bc0828b6e581\", \"Name\": \"Bay Area 511 Caltrain Schedule\", \"Total Trips\": 92, \"N Trips\": 49, \"Trip Cutoff\": 10, \"Segment Cutoff\": 0.6, \"Cutoff\": \"10+ min & 60.0%+ segments\", \"Pct Usable Trips\": 0.532608695652174}, {\"Gtfs Dataset Key\": \"3a508d597e0f71941bd18367262a9cbc\", \"Name\": \"Pasadena Schedule\", \"Total Trips\": 314, \"N Trips\": 302, \"Trip Cutoff\": 10, \"Segment Cutoff\": 0.6, \"Cutoff\": \"10+ min & 60.0%+ segments\", \"Pct Usable Trips\": 0.9617834394904459}, {\"Gtfs Dataset Key\": \"3ab660737c49a3d77b2d418fa8f123fb\", \"Name\": \"Norwalk Avail Schedule\", \"Total Trips\": 13, \"N Trips\": 13, \"Trip Cutoff\": 10, \"Segment Cutoff\": 0.6, \"Cutoff\": \"10+ min & 60.0%+ segments\", \"Pct Usable Trips\": 1.0}, {\"Gtfs Dataset Key\": \"3aded1f694ac384eb4f98f2d42498950\", \"Name\": \"PresidiGo Schedule\", \"Total Trips\": 15, \"N Trips\": 12, \"Trip Cutoff\": 10, \"Segment Cutoff\": 0.6, \"Cutoff\": \"10+ min & 60.0%+ segments\", \"Pct Usable Trips\": 0.8}, {\"Gtfs Dataset Key\": \"3c1b68c3dd8983c8fb8d2661fb7eb398\", \"Name\": \"Beach Cities GMV Schedule\", \"Total Trips\": 89, \"N Trips\": 82, \"Trip Cutoff\": 10, \"Segment Cutoff\": 0.6, \"Cutoff\": \"10+ min & 60.0%+ segments\", \"Pct Usable Trips\": 0.9213483146067416}, {\"Gtfs Dataset Key\": \"4340d7ccf61d3a169068ffef1e310daf\", \"Name\": \"Bay Area 511 Santa Rosa CityBus Schedule\", \"Total Trips\": 541, \"N Trips\": 440, \"Trip Cutoff\": 10, \"Segment Cutoff\": 0.6, \"Cutoff\": \"10+ min & 60.0%+ segments\", \"Pct Usable Trips\": 0.8133086876155268}, {\"Gtfs Dataset Key\": \"443649972c5f581abf6ea43a6f6fa7a7\", \"Name\": \"Culver City Schedule\", \"Total Trips\": 321, \"N Trips\": 286, \"Trip Cutoff\": 10, \"Segment Cutoff\": 0.6, \"Cutoff\": \"10+ min & 60.0%+ segments\", \"Pct Usable Trips\": 0.8909657320872274}, {\"Gtfs Dataset Key\": \"4594028c6c1ebbb6dbfb4284d7510b4e\", \"Name\": \"Foothill Schedule\", \"Total Trips\": 1295, \"N Trips\": 1163, \"Trip Cutoff\": 10, \"Segment Cutoff\": 0.6, \"Cutoff\": \"10+ min & 60.0%+ segments\", \"Pct Usable Trips\": 0.8980694980694981}, {\"Gtfs Dataset Key\": \"485c1365977842af8bfdab28fa07ba47\", \"Name\": \"Bay Area 511 SolTrans Schedule\", \"Total Trips\": 399, \"N Trips\": 347, \"Trip Cutoff\": 10, \"Segment Cutoff\": 0.6, \"Cutoff\": \"10+ min & 60.0%+ segments\", \"Pct Usable Trips\": 0.8696741854636592}, {\"Gtfs Dataset Key\": \"48b51d6d96bb01c42c87e40824248fe4\", \"Name\": \"Bay Area 511 WestCAT Schedule\", \"Total Trips\": 432, \"N Trips\": 409, \"Trip Cutoff\": 10, \"Segment Cutoff\": 0.6, \"Cutoff\": \"10+ min & 60.0%+ segments\", \"Pct Usable Trips\": 0.9467592592592593}, {\"Gtfs Dataset Key\": \"49fe49431d07dfa2a7342c73e46b6931\", \"Name\": \"Santa Maria Schedule\", \"Total Trips\": 18, \"N Trips\": 18, \"Trip Cutoff\": 10, \"Segment Cutoff\": 0.6, \"Cutoff\": \"10+ min & 60.0%+ segments\", \"Pct Usable Trips\": 1.0}, {\"Gtfs Dataset Key\": \"4a9d71507be65ce2f46e0beb26418b1a\", \"Name\": \"Commerce Schedule\", \"Total Trips\": 110, \"N Trips\": 106, \"Trip Cutoff\": 10, \"Segment Cutoff\": 0.6, \"Cutoff\": \"10+ min & 60.0%+ segments\", \"Pct Usable Trips\": 0.9636363636363636}, {\"Gtfs Dataset Key\": \"4bb240cf480589e58c6e58d06d6fb72c\", \"Name\": \"Bay Area 511 AC Transit Schedule\", \"Total Trips\": 5323, \"N Trips\": 5060, \"Trip Cutoff\": 10, \"Segment Cutoff\": 0.6, \"Cutoff\": \"10+ min & 60.0%+ segments\", \"Pct Usable Trips\": 0.9505917715573925}, {\"Gtfs Dataset Key\": \"5839b6a0ea1e93dc44574053e990d51e\", \"Name\": \"Madera County Connection Schedule\", \"Total Trips\": 27, \"N Trips\": 26, \"Trip Cutoff\": 10, \"Segment Cutoff\": 0.6, \"Cutoff\": \"10+ min & 60.0%+ segments\", \"Pct Usable Trips\": 0.9629629629629629}, {\"Gtfs Dataset Key\": \"5fcec68478fd5427be6bb2c4a3b240a6\", \"Name\": \"Burbank Schedule\", \"Total Trips\": 74, \"N Trips\": 71, \"Trip Cutoff\": 10, \"Segment Cutoff\": 0.6, \"Cutoff\": \"10+ min & 60.0%+ segments\", \"Pct Usable Trips\": 0.9594594594594594}, {\"Gtfs Dataset Key\": \"609173a0aa18c6e168c54b8731584ffa\", \"Name\": \"Bay Area 511 Tri-Valley Wheels Schedule\", \"Total Trips\": 288, \"N Trips\": 262, \"Trip Cutoff\": 10, \"Segment Cutoff\": 0.6, \"Cutoff\": \"10+ min & 60.0%+ segments\", \"Pct Usable Trips\": 0.9097222222222222}, {\"Gtfs Dataset Key\": \"644cf39285755e8ba2dc68597faa48aa\", \"Name\": \"Bay Area 511 Muni Schedule\", \"Total Trips\": 9122, \"N Trips\": 8241, \"Trip Cutoff\": 10, \"Segment Cutoff\": 0.6, \"Cutoff\": \"10+ min & 60.0%+ segments\", \"Pct Usable Trips\": 0.9034203025652269}, {\"Gtfs Dataset Key\": \"651832dd0d35804ce4e30063d095e3e5\", \"Name\": \"Fresno Schedule\", \"Total Trips\": 1249, \"N Trips\": 1194, \"Trip Cutoff\": 10, \"Segment Cutoff\": 0.6, \"Cutoff\": \"10+ min & 60.0%+ segments\", \"Pct Usable Trips\": 0.955964771817454}, {\"Gtfs Dataset Key\": \"65793dff25c6e0d53703911d49d797ea\", \"Name\": \"Bay Area 511 Fairfield and Suisun Transit Schedule\", \"Total Trips\": 258, \"N Trips\": 247, \"Trip Cutoff\": 10, \"Segment Cutoff\": 0.6, \"Cutoff\": \"10+ min & 60.0%+ segments\", \"Pct Usable Trips\": 0.9573643410852714}, {\"Gtfs Dataset Key\": \"6d1991ecbdee1e06031cda8761757f03\", \"Name\": \"Bay Area 511 Dumbarton Express Schedule\", \"Total Trips\": 50, \"N Trips\": 38, \"Trip Cutoff\": 10, \"Segment Cutoff\": 0.6, \"Cutoff\": \"10+ min & 60.0%+ segments\", \"Pct Usable Trips\": 0.76}, {\"Gtfs Dataset Key\": \"6e460d0f1aec519c62478f4ed4c269d1\", \"Name\": \"Long Beach Schedule\", \"Total Trips\": 1420, \"N Trips\": 1335, \"Trip Cutoff\": 10, \"Segment Cutoff\": 0.6, \"Cutoff\": \"10+ min & 60.0%+ segments\", \"Pct Usable Trips\": 0.9401408450704225}, {\"Gtfs Dataset Key\": \"6ef1ef238c89b672380a82b091df9a2b\", \"Name\": \"Bay Area 511 Tri Delta Schedule\", \"Total Trips\": 487, \"N Trips\": 457, \"Trip Cutoff\": 10, \"Segment Cutoff\": 0.6, \"Cutoff\": \"10+ min & 60.0%+ segments\", \"Pct Usable Trips\": 0.9383983572895277}, {\"Gtfs Dataset Key\": \"707fef642f609018a05f649ffd491563\", \"Name\": \"GET Schedule\", \"Total Trips\": 567, \"N Trips\": 548, \"Trip Cutoff\": 10, \"Segment Cutoff\": 0.6, \"Cutoff\": \"10+ min & 60.0%+ segments\", \"Pct Usable Trips\": 0.9664902998236331}, {\"Gtfs Dataset Key\": \"70c6ca7a0f9df3109381cd55950cd99a\", \"Name\": \"Bay Area 511 Golden Gate Transit Schedule\", \"Total Trips\": 208, \"N Trips\": 200, \"Trip Cutoff\": 10, \"Segment Cutoff\": 0.6, \"Cutoff\": \"10+ min & 60.0%+ segments\", \"Pct Usable Trips\": 0.9615384615384616}, {\"Gtfs Dataset Key\": \"73ebf252af88c41aaf4426c6d3dc586c\", \"Name\": \"Unitrans Schedule\", \"Total Trips\": 423, \"N Trips\": 323, \"Trip Cutoff\": 10, \"Segment Cutoff\": 0.6, \"Cutoff\": \"10+ min & 60.0%+ segments\", \"Pct Usable Trips\": 0.7635933806146572}, {\"Gtfs Dataset Key\": \"74fe15010f17ff576045422f9bb38b00\", \"Name\": \"Visalia Schedule\", \"Total Trips\": 436, \"N Trips\": 386, \"Trip Cutoff\": 10, \"Segment Cutoff\": 0.6, \"Cutoff\": \"10+ min & 60.0%+ segments\", \"Pct Usable Trips\": 0.8853211009174312}, {\"Gtfs Dataset Key\": \"7c48cc5675c9266fb6851070489c53e9\", \"Name\": \"LA Metro Bus Schedule\", \"Total Trips\": 13812, \"N Trips\": 12214, \"Trip Cutoff\": 10, \"Segment Cutoff\": 0.6, \"Cutoff\": \"10+ min & 60.0%+ segments\", \"Pct Usable Trips\": 0.8843035041992471}, {\"Gtfs Dataset Key\": \"82d94402b3325d1e93e2a1f5b80a300d\", \"Name\": \"Bay Area 511 Vine Transit Schedule\", \"Total Trips\": 135, \"N Trips\": 119, \"Trip Cutoff\": 10, \"Segment Cutoff\": 0.6, \"Cutoff\": \"10+ min & 60.0%+ segments\", \"Pct Usable Trips\": 0.8814814814814815}, {\"Gtfs Dataset Key\": \"8ee6ecf3c45ac2669ee96ae4c8550950\", \"Name\": \"Big Blue Bus Schedule\", \"Total Trips\": 1318, \"N Trips\": 1259, \"Trip Cutoff\": 10, \"Segment Cutoff\": 0.6, \"Cutoff\": \"10+ min & 60.0%+ segments\", \"Pct Usable Trips\": 0.9552352048558422}, {\"Gtfs Dataset Key\": \"8f0b9daf627c4f17cbe7f4460208a1af\", \"Name\": \"Santa Clarita Schedule\", \"Total Trips\": 381, \"N Trips\": 365, \"Trip Cutoff\": 10, \"Segment Cutoff\": 0.6, \"Cutoff\": \"10+ min & 60.0%+ segments\", \"Pct Usable Trips\": 0.958005249343832}, {\"Gtfs Dataset Key\": \"910fbc31da89056bdee9ef48b235ef44\", \"Name\": \"VCTC GMV Schedule\", \"Total Trips\": 977, \"N Trips\": 929, \"Trip Cutoff\": 10, \"Segment Cutoff\": 0.6, \"Cutoff\": \"10+ min & 60.0%+ segments\", \"Pct Usable Trips\": 0.9508700102354145}, {\"Gtfs Dataset Key\": \"9b19dee2eacd2a4e70c2750056c005ff\", \"Name\": \"Bay Area 511 Sonoma County Transit Schedule\", \"Total Trips\": 148, \"N Trips\": 110, \"Trip Cutoff\": 10, \"Segment Cutoff\": 0.6, \"Cutoff\": \"10+ min & 60.0%+ segments\", \"Pct Usable Trips\": 0.7432432432432432}, {\"Gtfs Dataset Key\": \"9bd1e0098ba62c06837bf2330db605c2\", \"Name\": \"Torrance Schedule\", \"Total Trips\": 307, \"N Trips\": 298, \"Trip Cutoff\": 10, \"Segment Cutoff\": 0.6, \"Cutoff\": \"10+ min & 60.0%+ segments\", \"Pct Usable Trips\": 0.9706840390879479}, {\"Gtfs Dataset Key\": \"aa9fe79adc8edf93ebfb1ab83c8acc69\", \"Name\": \"Kings Schedule\", \"Total Trips\": 250, \"N Trips\": 246, \"Trip Cutoff\": 10, \"Segment Cutoff\": 0.6, \"Cutoff\": \"10+ min & 60.0%+ segments\", \"Pct Usable Trips\": 0.984}, {\"Gtfs Dataset Key\": \"ac86302bad2b6f66bb6d5aae35ffb52f\", \"Name\": \"Bay Area 511 Marin Schedule\", \"Total Trips\": 593, \"N Trips\": 462, \"Trip Cutoff\": 10, \"Segment Cutoff\": 0.6, \"Cutoff\": \"10+ min & 60.0%+ segments\", \"Pct Usable Trips\": 0.7790893760539629}, {\"Gtfs Dataset Key\": \"ae93720f3c32c12f9ed912e465066bfc\", \"Name\": \"Eastern Sierra Schedule\", \"Total Trips\": 243, \"N Trips\": 104, \"Trip Cutoff\": 10, \"Segment Cutoff\": 0.6, \"Cutoff\": \"10+ min & 60.0%+ segments\", \"Pct Usable Trips\": 0.4279835390946502}, {\"Gtfs Dataset Key\": \"b04260a7725206fcd69b4e4a68b13aae\", \"Name\": \"Yolobus Schedule\", \"Total Trips\": 94, \"N Trips\": 85, \"Trip Cutoff\": 10, \"Segment Cutoff\": 0.6, \"Cutoff\": \"10+ min & 60.0%+ segments\", \"Pct Usable Trips\": 0.9042553191489362}, {\"Gtfs Dataset Key\": \"bc21582ac1ad2b7de0647dfd5b76f67c\", \"Name\": \"Bay Area 511 Petaluma Schedule\", \"Total Trips\": 118, \"N Trips\": 79, \"Trip Cutoff\": 10, \"Segment Cutoff\": 0.6, \"Cutoff\": \"10+ min & 60.0%+ segments\", \"Pct Usable Trips\": 0.6694915254237288}, {\"Gtfs Dataset Key\": \"bdfa3214963bbc4ad4b08e3d5f726744\", \"Name\": \"Tahoe Transportation District Schedule\", \"Total Trips\": 48, \"N Trips\": 37, \"Trip Cutoff\": 10, \"Segment Cutoff\": 0.6, \"Cutoff\": \"10+ min & 60.0%+ segments\", \"Pct Usable Trips\": 0.7708333333333334}, {\"Gtfs Dataset Key\": \"c5b2bf3815a12d5f7242923ed399d1ea\", \"Name\": \"SBMTD Schedule\", \"Total Trips\": 653, \"N Trips\": 565, \"Trip Cutoff\": 10, \"Segment Cutoff\": 0.6, \"Cutoff\": \"10+ min & 60.0%+ segments\", \"Pct Usable Trips\": 0.8652373660030628}, {\"Gtfs Dataset Key\": \"c866d1f427084d94bfa3831d0014d775\", \"Name\": \"Monterey Salinas Schedule\", \"Total Trips\": 906, \"N Trips\": 886, \"Trip Cutoff\": 10, \"Segment Cutoff\": 0.6, \"Cutoff\": \"10+ min & 60.0%+ segments\", \"Pct Usable Trips\": 0.977924944812362}, {\"Gtfs Dataset Key\": \"c9ec81d837b7ef2feedcea2c940f15d4\", \"Name\": \"Nevada County Schedule\", \"Total Trips\": 109, \"N Trips\": 95, \"Trip Cutoff\": 10, \"Segment Cutoff\": 0.6, \"Cutoff\": \"10+ min & 60.0%+ segments\", \"Pct Usable Trips\": 0.8715596330275229}, {\"Gtfs Dataset Key\": \"cb28d936a30d08f64661c81751af4382\", \"Name\": \"LA Metro Rail Schedule\", \"Total Trips\": 1224, \"N Trips\": 885, \"Trip Cutoff\": 10, \"Segment Cutoff\": 0.6, \"Cutoff\": \"10+ min & 60.0%+ segments\", \"Pct Usable Trips\": 0.7230392156862745}, {\"Gtfs Dataset Key\": \"d2f0224819832ba7d0039ff5e84c5bdd\", \"Name\": \"Victor Valley GMV Schedule\", \"Total Trips\": 817, \"N Trips\": 773, \"Trip Cutoff\": 10, \"Segment Cutoff\": 0.6, \"Cutoff\": \"10+ min & 60.0%+ segments\", \"Pct Usable Trips\": 0.9461444308445532}, {\"Gtfs Dataset Key\": \"d41e4cfdd42950bde9876c5dc670017d\", \"Name\": \"BruinBus Schedule\", \"Total Trips\": 5, \"N Trips\": 5, \"Trip Cutoff\": 10, \"Segment Cutoff\": 0.6, \"Cutoff\": \"10+ min & 60.0%+ segments\", \"Pct Usable Trips\": 1.0}, {\"Gtfs Dataset Key\": \"dac1d3922d8cb62f5feba57d5fdfb012\", \"Name\": \"Torrance Schedule\", \"Total Trips\": 101, \"N Trips\": 88, \"Trip Cutoff\": 10, \"Segment Cutoff\": 0.6, \"Cutoff\": \"10+ min & 60.0%+ segments\", \"Pct Usable Trips\": 0.8712871287128713}, {\"Gtfs Dataset Key\": \"ddc9965fcbf3beaba6d2cb40a3e67c1e\", \"Name\": \"Bay Area 511 San Francisco Bay Ferry Schedule\", \"Total Trips\": 149, \"N Trips\": 29, \"Trip Cutoff\": 10, \"Segment Cutoff\": 0.6, \"Cutoff\": \"10+ min & 60.0%+ segments\", \"Pct Usable Trips\": 0.19463087248322147}, {\"Gtfs Dataset Key\": \"e70b24e4d4931a9ada95fc76a2b53e9b\", \"Name\": \"StanRTA Schedule\", \"Total Trips\": 700, \"N Trips\": 656, \"Trip Cutoff\": 10, \"Segment Cutoff\": 0.6, \"Cutoff\": \"10+ min & 60.0%+ segments\", \"Pct Usable Trips\": 0.9371428571428572}, {\"Gtfs Dataset Key\": \"e88d7f9e3c43ddf41c75c94d12a440a9\", \"Name\": \"Bear Schedule\", \"Total Trips\": 151, \"N Trips\": 128, \"Trip Cutoff\": 10, \"Segment Cutoff\": 0.6, \"Cutoff\": \"10+ min & 60.0%+ segments\", \"Pct Usable Trips\": 0.847682119205298}, {\"Gtfs Dataset Key\": \"ee4a7698aa24503c4058d10c238e6f8a\", \"Name\": \"Humboldt Schedule\", \"Total Trips\": 112, \"N Trips\": 91, \"Trip Cutoff\": 10, \"Segment Cutoff\": 0.6, \"Cutoff\": \"10+ min & 60.0%+ segments\", \"Pct Usable Trips\": 0.8125}, {\"Gtfs Dataset Key\": \"ee901494c3e6dabe62812966c94fa34c\", \"Name\": \"Santa Ynez Schedule\", \"Total Trips\": 25, \"N Trips\": 20, \"Trip Cutoff\": 10, \"Segment Cutoff\": 0.6, \"Cutoff\": \"10+ min & 60.0%+ segments\", \"Pct Usable Trips\": 0.8}, {\"Gtfs Dataset Key\": \"f09062d4bb1cb04b59bdc8232f0cfc90\", \"Name\": \"Turlock Schedule\", \"Total Trips\": 270, \"N Trips\": 234, \"Trip Cutoff\": 10, \"Segment Cutoff\": 0.6, \"Cutoff\": \"10+ min & 60.0%+ segments\", \"Pct Usable Trips\": 0.8666666666666667}, {\"Gtfs Dataset Key\": \"f1497340b654f3ce925f8b8c2f83e1c2\", \"Name\": \"Riverside Schedule\", \"Total Trips\": 1094, \"N Trips\": 1068, \"Trip Cutoff\": 10, \"Segment Cutoff\": 0.6, \"Cutoff\": \"10+ min & 60.0%+ segments\", \"Pct Usable Trips\": 0.9762340036563071}, {\"Gtfs Dataset Key\": \"02af2d11f5bd44434c581540e9e857d8\", \"Name\": \"LA DOT Schedule\", \"Total Trips\": 2899, \"N Trips\": 2533, \"Trip Cutoff\": 10, \"Segment Cutoff\": 0.8, \"Cutoff\": \"10+ min & 80.0%+ segments\", \"Pct Usable Trips\": 0.8737495688168334}, {\"Gtfs Dataset Key\": \"03cadbffef6f3cd4ce839b218bc65e82\", \"Name\": \"Bay Area 511 Santa Clara Transit Schedule\", \"Total Trips\": 3699, \"N Trips\": 3322, \"Trip Cutoff\": 10, \"Segment Cutoff\": 0.8, \"Cutoff\": \"10+ min & 80.0%+ segments\", \"Pct Usable Trips\": 0.8980805623141389}, {\"Gtfs Dataset Key\": \"087e5ecdcf65499829e681a60e606637\", \"Name\": \"Lake Schedule\", \"Total Trips\": 65, \"N Trips\": 53, \"Trip Cutoff\": 10, \"Segment Cutoff\": 0.8, \"Cutoff\": \"10+ min & 80.0%+ segments\", \"Pct Usable Trips\": 0.8153846153846154}, {\"Gtfs Dataset Key\": \"08c4e0555b1b90cd7464ac801157a167\", \"Name\": \"Bay Area 511 Union City Transit Schedule\", \"Total Trips\": 191, \"N Trips\": 181, \"Trip Cutoff\": 10, \"Segment Cutoff\": 0.8, \"Cutoff\": \"10+ min & 80.0%+ segments\", \"Pct Usable Trips\": 0.9476439790575916}, {\"Gtfs Dataset Key\": \"0a3c3013dc4baff072e14f8ae8a796bb\", \"Name\": \"North County Schedule\", \"Total Trips\": 1298, \"N Trips\": 1196, \"Trip Cutoff\": 10, \"Segment Cutoff\": 0.8, \"Cutoff\": \"10+ min & 80.0%+ segments\", \"Pct Usable Trips\": 0.9214175654853621}, {\"Gtfs Dataset Key\": \"0da5a62ebe57a31bce87abf9fbb2857a\", \"Name\": \"Bay Area 511 MVGO Schedule\", \"Total Trips\": 79, \"N Trips\": 71, \"Trip Cutoff\": 10, \"Segment Cutoff\": 0.8, \"Cutoff\": \"10+ min & 80.0%+ segments\", \"Pct Usable Trips\": 0.8987341772151899}, {\"Gtfs Dataset Key\": \"0f68ec4d97d179570b494c74b6fca55d\", \"Name\": \"OCTA Schedule\", \"Total Trips\": 3175, \"N Trips\": 2818, \"Trip Cutoff\": 10, \"Segment Cutoff\": 0.8, \"Cutoff\": \"10+ min & 80.0%+ segments\", \"Pct Usable Trips\": 0.8875590551181103}, {\"Gtfs Dataset Key\": \"0faa34840bb65e96b7f83b7f379c2edd\", \"Name\": \"Bay Area 511 Emery Go-Round Schedule\", \"Total Trips\": 127, \"N Trips\": 123, \"Trip Cutoff\": 10, \"Segment Cutoff\": 0.8, \"Cutoff\": \"10+ min & 80.0%+ segments\", \"Pct Usable Trips\": 0.968503937007874}, {\"Gtfs Dataset Key\": \"115fa7bd31a65b3210945ee884f36132\", \"Name\": \"Banning Pass Schedule\", \"Total Trips\": 44, \"N Trips\": 27, \"Trip Cutoff\": 10, \"Segment Cutoff\": 0.8, \"Cutoff\": \"10+ min & 80.0%+ segments\", \"Pct Usable Trips\": 0.6136363636363636}, {\"Gtfs Dataset Key\": \"13c6e9f58e53c12416b7754352fa1acd\", \"Name\": \"Bay Area 511 Sonoma-Marin Area Rail Transit Schedule\", \"Total Trips\": 38, \"N Trips\": 28, \"Trip Cutoff\": 10, \"Segment Cutoff\": 0.8, \"Cutoff\": \"10+ min & 80.0%+ segments\", \"Pct Usable Trips\": 0.7368421052631579}, {\"Gtfs Dataset Key\": \"16ee668743cb1ea540bf833d301a1686\", \"Name\": \"Bay Area 511 County Connection Schedule\", \"Total Trips\": 593, \"N Trips\": 512, \"Trip Cutoff\": 10, \"Segment Cutoff\": 0.8, \"Cutoff\": \"10+ min & 80.0%+ segments\", \"Pct Usable Trips\": 0.863406408094435}, {\"Gtfs Dataset Key\": \"17b259a4ae767d3ef5478964851cabb8\", \"Name\": \"WeHo Schedule\", \"Total Trips\": 64, \"N Trips\": 48, \"Trip Cutoff\": 10, \"Segment Cutoff\": 0.8, \"Cutoff\": \"10+ min & 80.0%+ segments\", \"Pct Usable Trips\": 0.75}, {\"Gtfs Dataset Key\": \"1a4e07032b35ff5aae9438fefc374b55\", \"Name\": \"Antelope Valley Transit Authority Schedule\", \"Total Trips\": 348, \"N Trips\": 279, \"Trip Cutoff\": 10, \"Segment Cutoff\": 0.8, \"Cutoff\": \"10+ min & 80.0%+ segments\", \"Pct Usable Trips\": 0.8017241379310345}, {\"Gtfs Dataset Key\": \"2c82eb917900d5d8b69237702f68ab77\", \"Name\": \"Redding Schedule\", \"Total Trips\": 238, \"N Trips\": 226, \"Trip Cutoff\": 10, \"Segment Cutoff\": 0.8, \"Cutoff\": \"10+ min & 80.0%+ segments\", \"Pct Usable Trips\": 0.9495798319327731}, {\"Gtfs Dataset Key\": \"30e5260fa62b36db8c1dea91fc0c130d\", \"Name\": \"Elk Grove Schedule\", \"Total Trips\": 250, \"N Trips\": 247, \"Trip Cutoff\": 10, \"Segment Cutoff\": 0.8, \"Cutoff\": \"10+ min & 80.0%+ segments\", \"Pct Usable Trips\": 0.988}, {\"Gtfs Dataset Key\": \"3166ec2b9b4c75e31471d0c19384d97e\", \"Name\": \"Bay Area 511 SamTrans Schedule\", \"Total Trips\": 1376, \"N Trips\": 1198, \"Trip Cutoff\": 10, \"Segment Cutoff\": 0.8, \"Cutoff\": \"10+ min & 80.0%+ segments\", \"Pct Usable Trips\": 0.8706395348837209}, {\"Gtfs Dataset Key\": \"318c6bc87acccb67fb00aa9180aa5a12\", \"Name\": \"San Diego Schedule\", \"Total Trips\": 7180, \"N Trips\": 6559, \"Trip Cutoff\": 10, \"Segment Cutoff\": 0.8, \"Cutoff\": \"10+ min & 80.0%+ segments\", \"Pct Usable Trips\": 0.9135097493036212}, {\"Gtfs Dataset Key\": \"34b027e071739231b3a2bc0828b6e581\", \"Name\": \"Bay Area 511 Caltrain Schedule\", \"Total Trips\": 92, \"N Trips\": 5, \"Trip Cutoff\": 10, \"Segment Cutoff\": 0.8, \"Cutoff\": \"10+ min & 80.0%+ segments\", \"Pct Usable Trips\": 0.05434782608695652}, {\"Gtfs Dataset Key\": \"3a508d597e0f71941bd18367262a9cbc\", \"Name\": \"Pasadena Schedule\", \"Total Trips\": 314, \"N Trips\": 297, \"Trip Cutoff\": 10, \"Segment Cutoff\": 0.8, \"Cutoff\": \"10+ min & 80.0%+ segments\", \"Pct Usable Trips\": 0.945859872611465}, {\"Gtfs Dataset Key\": \"3ab660737c49a3d77b2d418fa8f123fb\", \"Name\": \"Norwalk Avail Schedule\", \"Total Trips\": 13, \"N Trips\": 10, \"Trip Cutoff\": 10, \"Segment Cutoff\": 0.8, \"Cutoff\": \"10+ min & 80.0%+ segments\", \"Pct Usable Trips\": 0.7692307692307693}, {\"Gtfs Dataset Key\": \"3aded1f694ac384eb4f98f2d42498950\", \"Name\": \"PresidiGo Schedule\", \"Total Trips\": 15, \"N Trips\": 12, \"Trip Cutoff\": 10, \"Segment Cutoff\": 0.8, \"Cutoff\": \"10+ min & 80.0%+ segments\", \"Pct Usable Trips\": 0.8}, {\"Gtfs Dataset Key\": \"3c1b68c3dd8983c8fb8d2661fb7eb398\", \"Name\": \"Beach Cities GMV Schedule\", \"Total Trips\": 89, \"N Trips\": 80, \"Trip Cutoff\": 10, \"Segment Cutoff\": 0.8, \"Cutoff\": \"10+ min & 80.0%+ segments\", \"Pct Usable Trips\": 0.898876404494382}, {\"Gtfs Dataset Key\": \"4340d7ccf61d3a169068ffef1e310daf\", \"Name\": \"Bay Area 511 Santa Rosa CityBus Schedule\", \"Total Trips\": 541, \"N Trips\": 359, \"Trip Cutoff\": 10, \"Segment Cutoff\": 0.8, \"Cutoff\": \"10+ min & 80.0%+ segments\", \"Pct Usable Trips\": 0.6635859519408502}, {\"Gtfs Dataset Key\": \"443649972c5f581abf6ea43a6f6fa7a7\", \"Name\": \"Culver City Schedule\", \"Total Trips\": 321, \"N Trips\": 264, \"Trip Cutoff\": 10, \"Segment Cutoff\": 0.8, \"Cutoff\": \"10+ min & 80.0%+ segments\", \"Pct Usable Trips\": 0.822429906542056}, {\"Gtfs Dataset Key\": \"4594028c6c1ebbb6dbfb4284d7510b4e\", \"Name\": \"Foothill Schedule\", \"Total Trips\": 1295, \"N Trips\": 1096, \"Trip Cutoff\": 10, \"Segment Cutoff\": 0.8, \"Cutoff\": \"10+ min & 80.0%+ segments\", \"Pct Usable Trips\": 0.8463320463320463}, {\"Gtfs Dataset Key\": \"485c1365977842af8bfdab28fa07ba47\", \"Name\": \"Bay Area 511 SolTrans Schedule\", \"Total Trips\": 399, \"N Trips\": 328, \"Trip Cutoff\": 10, \"Segment Cutoff\": 0.8, \"Cutoff\": \"10+ min & 80.0%+ segments\", \"Pct Usable Trips\": 0.8220551378446115}, {\"Gtfs Dataset Key\": \"48b51d6d96bb01c42c87e40824248fe4\", \"Name\": \"Bay Area 511 WestCAT Schedule\", \"Total Trips\": 432, \"N Trips\": 370, \"Trip Cutoff\": 10, \"Segment Cutoff\": 0.8, \"Cutoff\": \"10+ min & 80.0%+ segments\", \"Pct Usable Trips\": 0.8564814814814815}, {\"Gtfs Dataset Key\": \"49fe49431d07dfa2a7342c73e46b6931\", \"Name\": \"Santa Maria Schedule\", \"Total Trips\": 18, \"N Trips\": 18, \"Trip Cutoff\": 10, \"Segment Cutoff\": 0.8, \"Cutoff\": \"10+ min & 80.0%+ segments\", \"Pct Usable Trips\": 1.0}, {\"Gtfs Dataset Key\": \"4a9d71507be65ce2f46e0beb26418b1a\", \"Name\": \"Commerce Schedule\", \"Total Trips\": 110, \"N Trips\": 104, \"Trip Cutoff\": 10, \"Segment Cutoff\": 0.8, \"Cutoff\": \"10+ min & 80.0%+ segments\", \"Pct Usable Trips\": 0.9454545454545454}, {\"Gtfs Dataset Key\": \"4bb240cf480589e58c6e58d06d6fb72c\", \"Name\": \"Bay Area 511 AC Transit Schedule\", \"Total Trips\": 5323, \"N Trips\": 4959, \"Trip Cutoff\": 10, \"Segment Cutoff\": 0.8, \"Cutoff\": \"10+ min & 80.0%+ segments\", \"Pct Usable Trips\": 0.9316175089235393}, {\"Gtfs Dataset Key\": \"5839b6a0ea1e93dc44574053e990d51e\", \"Name\": \"Madera County Connection Schedule\", \"Total Trips\": 27, \"N Trips\": 24, \"Trip Cutoff\": 10, \"Segment Cutoff\": 0.8, \"Cutoff\": \"10+ min & 80.0%+ segments\", \"Pct Usable Trips\": 0.8888888888888888}, {\"Gtfs Dataset Key\": \"5fcec68478fd5427be6bb2c4a3b240a6\", \"Name\": \"Burbank Schedule\", \"Total Trips\": 74, \"N Trips\": 71, \"Trip Cutoff\": 10, \"Segment Cutoff\": 0.8, \"Cutoff\": \"10+ min & 80.0%+ segments\", \"Pct Usable Trips\": 0.9594594594594594}, {\"Gtfs Dataset Key\": \"609173a0aa18c6e168c54b8731584ffa\", \"Name\": \"Bay Area 511 Tri-Valley Wheels Schedule\", \"Total Trips\": 288, \"N Trips\": 247, \"Trip Cutoff\": 10, \"Segment Cutoff\": 0.8, \"Cutoff\": \"10+ min & 80.0%+ segments\", \"Pct Usable Trips\": 0.8576388888888888}, {\"Gtfs Dataset Key\": \"644cf39285755e8ba2dc68597faa48aa\", \"Name\": \"Bay Area 511 Muni Schedule\", \"Total Trips\": 9122, \"N Trips\": 7599, \"Trip Cutoff\": 10, \"Segment Cutoff\": 0.8, \"Cutoff\": \"10+ min & 80.0%+ segments\", \"Pct Usable Trips\": 0.8330409997807499}, {\"Gtfs Dataset Key\": \"651832dd0d35804ce4e30063d095e3e5\", \"Name\": \"Fresno Schedule\", \"Total Trips\": 1249, \"N Trips\": 1115, \"Trip Cutoff\": 10, \"Segment Cutoff\": 0.8, \"Cutoff\": \"10+ min & 80.0%+ segments\", \"Pct Usable Trips\": 0.8927141713370697}, {\"Gtfs Dataset Key\": \"65793dff25c6e0d53703911d49d797ea\", \"Name\": \"Bay Area 511 Fairfield and Suisun Transit Schedule\", \"Total Trips\": 258, \"N Trips\": 246, \"Trip Cutoff\": 10, \"Segment Cutoff\": 0.8, \"Cutoff\": \"10+ min & 80.0%+ segments\", \"Pct Usable Trips\": 0.9534883720930233}, {\"Gtfs Dataset Key\": \"6d1991ecbdee1e06031cda8761757f03\", \"Name\": \"Bay Area 511 Dumbarton Express Schedule\", \"Total Trips\": 50, \"N Trips\": 21, \"Trip Cutoff\": 10, \"Segment Cutoff\": 0.8, \"Cutoff\": \"10+ min & 80.0%+ segments\", \"Pct Usable Trips\": 0.42}, {\"Gtfs Dataset Key\": \"6e460d0f1aec519c62478f4ed4c269d1\", \"Name\": \"Long Beach Schedule\", \"Total Trips\": 1420, \"N Trips\": 1203, \"Trip Cutoff\": 10, \"Segment Cutoff\": 0.8, \"Cutoff\": \"10+ min & 80.0%+ segments\", \"Pct Usable Trips\": 0.8471830985915493}, {\"Gtfs Dataset Key\": \"6ef1ef238c89b672380a82b091df9a2b\", \"Name\": \"Bay Area 511 Tri Delta Schedule\", \"Total Trips\": 487, \"N Trips\": 433, \"Trip Cutoff\": 10, \"Segment Cutoff\": 0.8, \"Cutoff\": \"10+ min & 80.0%+ segments\", \"Pct Usable Trips\": 0.8891170431211499}, {\"Gtfs Dataset Key\": \"707fef642f609018a05f649ffd491563\", \"Name\": \"GET Schedule\", \"Total Trips\": 567, \"N Trips\": 534, \"Trip Cutoff\": 10, \"Segment Cutoff\": 0.8, \"Cutoff\": \"10+ min & 80.0%+ segments\", \"Pct Usable Trips\": 0.9417989417989417}, {\"Gtfs Dataset Key\": \"70c6ca7a0f9df3109381cd55950cd99a\", \"Name\": \"Bay Area 511 Golden Gate Transit Schedule\", \"Total Trips\": 208, \"N Trips\": 200, \"Trip Cutoff\": 10, \"Segment Cutoff\": 0.8, \"Cutoff\": \"10+ min & 80.0%+ segments\", \"Pct Usable Trips\": 0.9615384615384616}, {\"Gtfs Dataset Key\": \"73ebf252af88c41aaf4426c6d3dc586c\", \"Name\": \"Unitrans Schedule\", \"Total Trips\": 423, \"N Trips\": 318, \"Trip Cutoff\": 10, \"Segment Cutoff\": 0.8, \"Cutoff\": \"10+ min & 80.0%+ segments\", \"Pct Usable Trips\": 0.75177304964539}, {\"Gtfs Dataset Key\": \"74fe15010f17ff576045422f9bb38b00\", \"Name\": \"Visalia Schedule\", \"Total Trips\": 436, \"N Trips\": 378, \"Trip Cutoff\": 10, \"Segment Cutoff\": 0.8, \"Cutoff\": \"10+ min & 80.0%+ segments\", \"Pct Usable Trips\": 0.8669724770642202}, {\"Gtfs Dataset Key\": \"7c48cc5675c9266fb6851070489c53e9\", \"Name\": \"LA Metro Bus Schedule\", \"Total Trips\": 13812, \"N Trips\": 9768, \"Trip Cutoff\": 10, \"Segment Cutoff\": 0.8, \"Cutoff\": \"10+ min & 80.0%+ segments\", \"Pct Usable Trips\": 0.7072111207645526}, {\"Gtfs Dataset Key\": \"82d94402b3325d1e93e2a1f5b80a300d\", \"Name\": \"Bay Area 511 Vine Transit Schedule\", \"Total Trips\": 135, \"N Trips\": 116, \"Trip Cutoff\": 10, \"Segment Cutoff\": 0.8, \"Cutoff\": \"10+ min & 80.0%+ segments\", \"Pct Usable Trips\": 0.8592592592592593}, {\"Gtfs Dataset Key\": \"8ee6ecf3c45ac2669ee96ae4c8550950\", \"Name\": \"Big Blue Bus Schedule\", \"Total Trips\": 1318, \"N Trips\": 1199, \"Trip Cutoff\": 10, \"Segment Cutoff\": 0.8, \"Cutoff\": \"10+ min & 80.0%+ segments\", \"Pct Usable Trips\": 0.909711684370258}, {\"Gtfs Dataset Key\": \"8f0b9daf627c4f17cbe7f4460208a1af\", \"Name\": \"Santa Clarita Schedule\", \"Total Trips\": 381, \"N Trips\": 344, \"Trip Cutoff\": 10, \"Segment Cutoff\": 0.8, \"Cutoff\": \"10+ min & 80.0%+ segments\", \"Pct Usable Trips\": 0.9028871391076115}, {\"Gtfs Dataset Key\": \"910fbc31da89056bdee9ef48b235ef44\", \"Name\": \"VCTC GMV Schedule\", \"Total Trips\": 977, \"N Trips\": 855, \"Trip Cutoff\": 10, \"Segment Cutoff\": 0.8, \"Cutoff\": \"10+ min & 80.0%+ segments\", \"Pct Usable Trips\": 0.8751279426816786}, {\"Gtfs Dataset Key\": \"9b19dee2eacd2a4e70c2750056c005ff\", \"Name\": \"Bay Area 511 Sonoma County Transit Schedule\", \"Total Trips\": 148, \"N Trips\": 98, \"Trip Cutoff\": 10, \"Segment Cutoff\": 0.8, \"Cutoff\": \"10+ min & 80.0%+ segments\", \"Pct Usable Trips\": 0.6621621621621622}, {\"Gtfs Dataset Key\": \"9bd1e0098ba62c06837bf2330db605c2\", \"Name\": \"Torrance Schedule\", \"Total Trips\": 307, \"N Trips\": 270, \"Trip Cutoff\": 10, \"Segment Cutoff\": 0.8, \"Cutoff\": \"10+ min & 80.0%+ segments\", \"Pct Usable Trips\": 0.8794788273615635}, {\"Gtfs Dataset Key\": \"aa9fe79adc8edf93ebfb1ab83c8acc69\", \"Name\": \"Kings Schedule\", \"Total Trips\": 250, \"N Trips\": 245, \"Trip Cutoff\": 10, \"Segment Cutoff\": 0.8, \"Cutoff\": \"10+ min & 80.0%+ segments\", \"Pct Usable Trips\": 0.98}, {\"Gtfs Dataset Key\": \"ac86302bad2b6f66bb6d5aae35ffb52f\", \"Name\": \"Bay Area 511 Marin Schedule\", \"Total Trips\": 593, \"N Trips\": 407, \"Trip Cutoff\": 10, \"Segment Cutoff\": 0.8, \"Cutoff\": \"10+ min & 80.0%+ segments\", \"Pct Usable Trips\": 0.6863406408094435}, {\"Gtfs Dataset Key\": \"ae93720f3c32c12f9ed912e465066bfc\", \"Name\": \"Eastern Sierra Schedule\", \"Total Trips\": 243, \"N Trips\": 90, \"Trip Cutoff\": 10, \"Segment Cutoff\": 0.8, \"Cutoff\": \"10+ min & 80.0%+ segments\", \"Pct Usable Trips\": 0.37037037037037035}, {\"Gtfs Dataset Key\": \"b04260a7725206fcd69b4e4a68b13aae\", \"Name\": \"Yolobus Schedule\", \"Total Trips\": 94, \"N Trips\": 83, \"Trip Cutoff\": 10, \"Segment Cutoff\": 0.8, \"Cutoff\": \"10+ min & 80.0%+ segments\", \"Pct Usable Trips\": 0.8829787234042553}, {\"Gtfs Dataset Key\": \"bc21582ac1ad2b7de0647dfd5b76f67c\", \"Name\": \"Bay Area 511 Petaluma Schedule\", \"Total Trips\": 118, \"N Trips\": 67, \"Trip Cutoff\": 10, \"Segment Cutoff\": 0.8, \"Cutoff\": \"10+ min & 80.0%+ segments\", \"Pct Usable Trips\": 0.5677966101694916}, {\"Gtfs Dataset Key\": \"bdfa3214963bbc4ad4b08e3d5f726744\", \"Name\": \"Tahoe Transportation District Schedule\", \"Total Trips\": 48, \"N Trips\": 33, \"Trip Cutoff\": 10, \"Segment Cutoff\": 0.8, \"Cutoff\": \"10+ min & 80.0%+ segments\", \"Pct Usable Trips\": 0.6875}, {\"Gtfs Dataset Key\": \"c5b2bf3815a12d5f7242923ed399d1ea\", \"Name\": \"SBMTD Schedule\", \"Total Trips\": 653, \"N Trips\": 496, \"Trip Cutoff\": 10, \"Segment Cutoff\": 0.8, \"Cutoff\": \"10+ min & 80.0%+ segments\", \"Pct Usable Trips\": 0.7595712098009189}, {\"Gtfs Dataset Key\": \"c866d1f427084d94bfa3831d0014d775\", \"Name\": \"Monterey Salinas Schedule\", \"Total Trips\": 906, \"N Trips\": 851, \"Trip Cutoff\": 10, \"Segment Cutoff\": 0.8, \"Cutoff\": \"10+ min & 80.0%+ segments\", \"Pct Usable Trips\": 0.9392935982339956}, {\"Gtfs Dataset Key\": \"c9ec81d837b7ef2feedcea2c940f15d4\", \"Name\": \"Nevada County Schedule\", \"Total Trips\": 109, \"N Trips\": 86, \"Trip Cutoff\": 10, \"Segment Cutoff\": 0.8, \"Cutoff\": \"10+ min & 80.0%+ segments\", \"Pct Usable Trips\": 0.7889908256880734}, {\"Gtfs Dataset Key\": \"cb28d936a30d08f64661c81751af4382\", \"Name\": \"LA Metro Rail Schedule\", \"Total Trips\": 1224, \"N Trips\": 514, \"Trip Cutoff\": 10, \"Segment Cutoff\": 0.8, \"Cutoff\": \"10+ min & 80.0%+ segments\", \"Pct Usable Trips\": 0.4199346405228758}, {\"Gtfs Dataset Key\": \"d2f0224819832ba7d0039ff5e84c5bdd\", \"Name\": \"Victor Valley GMV Schedule\", \"Total Trips\": 817, \"N Trips\": 757, \"Trip Cutoff\": 10, \"Segment Cutoff\": 0.8, \"Cutoff\": \"10+ min & 80.0%+ segments\", \"Pct Usable Trips\": 0.9265605875152999}, {\"Gtfs Dataset Key\": \"d41e4cfdd42950bde9876c5dc670017d\", \"Name\": \"BruinBus Schedule\", \"Total Trips\": 5, \"N Trips\": 5, \"Trip Cutoff\": 10, \"Segment Cutoff\": 0.8, \"Cutoff\": \"10+ min & 80.0%+ segments\", \"Pct Usable Trips\": 1.0}, {\"Gtfs Dataset Key\": \"dac1d3922d8cb62f5feba57d5fdfb012\", \"Name\": \"Torrance Schedule\", \"Total Trips\": 101, \"N Trips\": 77, \"Trip Cutoff\": 10, \"Segment Cutoff\": 0.8, \"Cutoff\": \"10+ min & 80.0%+ segments\", \"Pct Usable Trips\": 0.7623762376237624}, {\"Gtfs Dataset Key\": \"ddc9965fcbf3beaba6d2cb40a3e67c1e\", \"Name\": \"Bay Area 511 San Francisco Bay Ferry Schedule\", \"Total Trips\": 149, \"N Trips\": 4, \"Trip Cutoff\": 10, \"Segment Cutoff\": 0.8, \"Cutoff\": \"10+ min & 80.0%+ segments\", \"Pct Usable Trips\": 0.026845637583892617}, {\"Gtfs Dataset Key\": \"e70b24e4d4931a9ada95fc76a2b53e9b\", \"Name\": \"StanRTA Schedule\", \"Total Trips\": 700, \"N Trips\": 621, \"Trip Cutoff\": 10, \"Segment Cutoff\": 0.8, \"Cutoff\": \"10+ min & 80.0%+ segments\", \"Pct Usable Trips\": 0.8871428571428571}, {\"Gtfs Dataset Key\": \"e88d7f9e3c43ddf41c75c94d12a440a9\", \"Name\": \"Bear Schedule\", \"Total Trips\": 151, \"N Trips\": 118, \"Trip Cutoff\": 10, \"Segment Cutoff\": 0.8, \"Cutoff\": \"10+ min & 80.0%+ segments\", \"Pct Usable Trips\": 0.7814569536423841}, {\"Gtfs Dataset Key\": \"ee4a7698aa24503c4058d10c238e6f8a\", \"Name\": \"Humboldt Schedule\", \"Total Trips\": 112, \"N Trips\": 79, \"Trip Cutoff\": 10, \"Segment Cutoff\": 0.8, \"Cutoff\": \"10+ min & 80.0%+ segments\", \"Pct Usable Trips\": 0.7053571428571429}, {\"Gtfs Dataset Key\": \"ee901494c3e6dabe62812966c94fa34c\", \"Name\": \"Santa Ynez Schedule\", \"Total Trips\": 25, \"N Trips\": 16, \"Trip Cutoff\": 10, \"Segment Cutoff\": 0.8, \"Cutoff\": \"10+ min & 80.0%+ segments\", \"Pct Usable Trips\": 0.64}, {\"Gtfs Dataset Key\": \"f09062d4bb1cb04b59bdc8232f0cfc90\", \"Name\": \"Turlock Schedule\", \"Total Trips\": 270, \"N Trips\": 232, \"Trip Cutoff\": 10, \"Segment Cutoff\": 0.8, \"Cutoff\": \"10+ min & 80.0%+ segments\", \"Pct Usable Trips\": 0.8592592592592593}, {\"Gtfs Dataset Key\": \"f1497340b654f3ce925f8b8c2f83e1c2\", \"Name\": \"Riverside Schedule\", \"Total Trips\": 1094, \"N Trips\": 1053, \"Trip Cutoff\": 10, \"Segment Cutoff\": 0.8, \"Cutoff\": \"10+ min & 80.0%+ segments\", \"Pct Usable Trips\": 0.9625228519195612}, {\"Gtfs Dataset Key\": \"02af2d11f5bd44434c581540e9e857d8\", \"Name\": \"LA DOT Schedule\", \"Total Trips\": 2899, \"N Trips\": 2695, \"Trip Cutoff\": 15, \"Segment Cutoff\": 0.2, \"Cutoff\": \"15+ min & 20.0%+ segments\", \"Pct Usable Trips\": 0.9296309072093826}, {\"Gtfs Dataset Key\": \"03cadbffef6f3cd4ce839b218bc65e82\", \"Name\": \"Bay Area 511 Santa Clara Transit Schedule\", \"Total Trips\": 3699, \"N Trips\": 3602, \"Trip Cutoff\": 15, \"Segment Cutoff\": 0.2, \"Cutoff\": \"15+ min & 20.0%+ segments\", \"Pct Usable Trips\": 0.9737766964044337}, {\"Gtfs Dataset Key\": \"087e5ecdcf65499829e681a60e606637\", \"Name\": \"Lake Schedule\", \"Total Trips\": 65, \"N Trips\": 56, \"Trip Cutoff\": 15, \"Segment Cutoff\": 0.2, \"Cutoff\": \"15+ min & 20.0%+ segments\", \"Pct Usable Trips\": 0.8615384615384616}, {\"Gtfs Dataset Key\": \"08c4e0555b1b90cd7464ac801157a167\", \"Name\": \"Bay Area 511 Union City Transit Schedule\", \"Total Trips\": 191, \"N Trips\": 185, \"Trip Cutoff\": 15, \"Segment Cutoff\": 0.2, \"Cutoff\": \"15+ min & 20.0%+ segments\", \"Pct Usable Trips\": 0.9685863874345549}, {\"Gtfs Dataset Key\": \"0a3c3013dc4baff072e14f8ae8a796bb\", \"Name\": \"North County Schedule\", \"Total Trips\": 1298, \"N Trips\": 1293, \"Trip Cutoff\": 15, \"Segment Cutoff\": 0.2, \"Cutoff\": \"15+ min & 20.0%+ segments\", \"Pct Usable Trips\": 0.9961479198767335}, {\"Gtfs Dataset Key\": \"0da5a62ebe57a31bce87abf9fbb2857a\", \"Name\": \"Bay Area 511 MVGO Schedule\", \"Total Trips\": 79, \"N Trips\": 79, \"Trip Cutoff\": 15, \"Segment Cutoff\": 0.2, \"Cutoff\": \"15+ min & 20.0%+ segments\", \"Pct Usable Trips\": 1.0}, {\"Gtfs Dataset Key\": \"0f68ec4d97d179570b494c74b6fca55d\", \"Name\": \"OCTA Schedule\", \"Total Trips\": 3175, \"N Trips\": 3138, \"Trip Cutoff\": 15, \"Segment Cutoff\": 0.2, \"Cutoff\": \"15+ min & 20.0%+ segments\", \"Pct Usable Trips\": 0.9883464566929134}, {\"Gtfs Dataset Key\": \"0faa34840bb65e96b7f83b7f379c2edd\", \"Name\": \"Bay Area 511 Emery Go-Round Schedule\", \"Total Trips\": 127, \"N Trips\": 124, \"Trip Cutoff\": 15, \"Segment Cutoff\": 0.2, \"Cutoff\": \"15+ min & 20.0%+ segments\", \"Pct Usable Trips\": 0.9763779527559056}, {\"Gtfs Dataset Key\": \"115fa7bd31a65b3210945ee884f36132\", \"Name\": \"Banning Pass Schedule\", \"Total Trips\": 44, \"N Trips\": 41, \"Trip Cutoff\": 15, \"Segment Cutoff\": 0.2, \"Cutoff\": \"15+ min & 20.0%+ segments\", \"Pct Usable Trips\": 0.9318181818181818}, {\"Gtfs Dataset Key\": \"13c6e9f58e53c12416b7754352fa1acd\", \"Name\": \"Bay Area 511 Sonoma-Marin Area Rail Transit Schedule\", \"Total Trips\": 38, \"N Trips\": 38, \"Trip Cutoff\": 15, \"Segment Cutoff\": 0.2, \"Cutoff\": \"15+ min & 20.0%+ segments\", \"Pct Usable Trips\": 1.0}, {\"Gtfs Dataset Key\": \"16ee668743cb1ea540bf833d301a1686\", \"Name\": \"Bay Area 511 County Connection Schedule\", \"Total Trips\": 593, \"N Trips\": 535, \"Trip Cutoff\": 15, \"Segment Cutoff\": 0.2, \"Cutoff\": \"15+ min & 20.0%+ segments\", \"Pct Usable Trips\": 0.9021922428330523}, {\"Gtfs Dataset Key\": \"17b259a4ae767d3ef5478964851cabb8\", \"Name\": \"WeHo Schedule\", \"Total Trips\": 64, \"N Trips\": 55, \"Trip Cutoff\": 15, \"Segment Cutoff\": 0.2, \"Cutoff\": \"15+ min & 20.0%+ segments\", \"Pct Usable Trips\": 0.859375}, {\"Gtfs Dataset Key\": \"1a4e07032b35ff5aae9438fefc374b55\", \"Name\": \"Antelope Valley Transit Authority Schedule\", \"Total Trips\": 348, \"N Trips\": 327, \"Trip Cutoff\": 15, \"Segment Cutoff\": 0.2, \"Cutoff\": \"15+ min & 20.0%+ segments\", \"Pct Usable Trips\": 0.9396551724137931}, {\"Gtfs Dataset Key\": \"2c82eb917900d5d8b69237702f68ab77\", \"Name\": \"Redding Schedule\", \"Total Trips\": 238, \"N Trips\": 199, \"Trip Cutoff\": 15, \"Segment Cutoff\": 0.2, \"Cutoff\": \"15+ min & 20.0%+ segments\", \"Pct Usable Trips\": 0.8361344537815126}, {\"Gtfs Dataset Key\": \"30e5260fa62b36db8c1dea91fc0c130d\", \"Name\": \"Elk Grove Schedule\", \"Total Trips\": 250, \"N Trips\": 246, \"Trip Cutoff\": 15, \"Segment Cutoff\": 0.2, \"Cutoff\": \"15+ min & 20.0%+ segments\", \"Pct Usable Trips\": 0.984}, {\"Gtfs Dataset Key\": \"3166ec2b9b4c75e31471d0c19384d97e\", \"Name\": \"Bay Area 511 SamTrans Schedule\", \"Total Trips\": 1376, \"N Trips\": 1352, \"Trip Cutoff\": 15, \"Segment Cutoff\": 0.2, \"Cutoff\": \"15+ min & 20.0%+ segments\", \"Pct Usable Trips\": 0.9825581395348837}, {\"Gtfs Dataset Key\": \"318c6bc87acccb67fb00aa9180aa5a12\", \"Name\": \"San Diego Schedule\", \"Total Trips\": 7180, \"N Trips\": 7086, \"Trip Cutoff\": 15, \"Segment Cutoff\": 0.2, \"Cutoff\": \"15+ min & 20.0%+ segments\", \"Pct Usable Trips\": 0.9869080779944289}, {\"Gtfs Dataset Key\": \"34b027e071739231b3a2bc0828b6e581\", \"Name\": \"Bay Area 511 Caltrain Schedule\", \"Total Trips\": 92, \"N Trips\": 86, \"Trip Cutoff\": 15, \"Segment Cutoff\": 0.2, \"Cutoff\": \"15+ min & 20.0%+ segments\", \"Pct Usable Trips\": 0.9347826086956522}, {\"Gtfs Dataset Key\": \"3a508d597e0f71941bd18367262a9cbc\", \"Name\": \"Pasadena Schedule\", \"Total Trips\": 314, \"N Trips\": 305, \"Trip Cutoff\": 15, \"Segment Cutoff\": 0.2, \"Cutoff\": \"15+ min & 20.0%+ segments\", \"Pct Usable Trips\": 0.9713375796178344}, {\"Gtfs Dataset Key\": \"3ab660737c49a3d77b2d418fa8f123fb\", \"Name\": \"Norwalk Avail Schedule\", \"Total Trips\": 13, \"N Trips\": 13, \"Trip Cutoff\": 15, \"Segment Cutoff\": 0.2, \"Cutoff\": \"15+ min & 20.0%+ segments\", \"Pct Usable Trips\": 1.0}, {\"Gtfs Dataset Key\": \"3aded1f694ac384eb4f98f2d42498950\", \"Name\": \"PresidiGo Schedule\", \"Total Trips\": 15, \"N Trips\": 13, \"Trip Cutoff\": 15, \"Segment Cutoff\": 0.2, \"Cutoff\": \"15+ min & 20.0%+ segments\", \"Pct Usable Trips\": 0.8666666666666667}, {\"Gtfs Dataset Key\": \"3c1b68c3dd8983c8fb8d2661fb7eb398\", \"Name\": \"Beach Cities GMV Schedule\", \"Total Trips\": 89, \"N Trips\": 83, \"Trip Cutoff\": 15, \"Segment Cutoff\": 0.2, \"Cutoff\": \"15+ min & 20.0%+ segments\", \"Pct Usable Trips\": 0.9325842696629213}, {\"Gtfs Dataset Key\": \"4340d7ccf61d3a169068ffef1e310daf\", \"Name\": \"Bay Area 511 Santa Rosa CityBus Schedule\", \"Total Trips\": 541, \"N Trips\": 406, \"Trip Cutoff\": 15, \"Segment Cutoff\": 0.2, \"Cutoff\": \"15+ min & 20.0%+ segments\", \"Pct Usable Trips\": 0.7504621072088724}, {\"Gtfs Dataset Key\": \"443649972c5f581abf6ea43a6f6fa7a7\", \"Name\": \"Culver City Schedule\", \"Total Trips\": 321, \"N Trips\": 280, \"Trip Cutoff\": 15, \"Segment Cutoff\": 0.2, \"Cutoff\": \"15+ min & 20.0%+ segments\", \"Pct Usable Trips\": 0.8722741433021807}, {\"Gtfs Dataset Key\": \"4594028c6c1ebbb6dbfb4284d7510b4e\", \"Name\": \"Foothill Schedule\", \"Total Trips\": 1295, \"N Trips\": 1237, \"Trip Cutoff\": 15, \"Segment Cutoff\": 0.2, \"Cutoff\": \"15+ min & 20.0%+ segments\", \"Pct Usable Trips\": 0.9552123552123553}, {\"Gtfs Dataset Key\": \"485c1365977842af8bfdab28fa07ba47\", \"Name\": \"Bay Area 511 SolTrans Schedule\", \"Total Trips\": 399, \"N Trips\": 372, \"Trip Cutoff\": 15, \"Segment Cutoff\": 0.2, \"Cutoff\": \"15+ min & 20.0%+ segments\", \"Pct Usable Trips\": 0.9323308270676691}, {\"Gtfs Dataset Key\": \"48b51d6d96bb01c42c87e40824248fe4\", \"Name\": \"Bay Area 511 WestCAT Schedule\", \"Total Trips\": 432, \"N Trips\": 392, \"Trip Cutoff\": 15, \"Segment Cutoff\": 0.2, \"Cutoff\": \"15+ min & 20.0%+ segments\", \"Pct Usable Trips\": 0.9074074074074074}, {\"Gtfs Dataset Key\": \"49fe49431d07dfa2a7342c73e46b6931\", \"Name\": \"Santa Maria Schedule\", \"Total Trips\": 18, \"N Trips\": 18, \"Trip Cutoff\": 15, \"Segment Cutoff\": 0.2, \"Cutoff\": \"15+ min & 20.0%+ segments\", \"Pct Usable Trips\": 1.0}, {\"Gtfs Dataset Key\": \"4a9d71507be65ce2f46e0beb26418b1a\", \"Name\": \"Commerce Schedule\", \"Total Trips\": 110, \"N Trips\": 105, \"Trip Cutoff\": 15, \"Segment Cutoff\": 0.2, \"Cutoff\": \"15+ min & 20.0%+ segments\", \"Pct Usable Trips\": 0.9545454545454546}, {\"Gtfs Dataset Key\": \"4bb240cf480589e58c6e58d06d6fb72c\", \"Name\": \"Bay Area 511 AC Transit Schedule\", \"Total Trips\": 5323, \"N Trips\": 5234, \"Trip Cutoff\": 15, \"Segment Cutoff\": 0.2, \"Cutoff\": \"15+ min & 20.0%+ segments\", \"Pct Usable Trips\": 0.9832801052038325}, {\"Gtfs Dataset Key\": \"5839b6a0ea1e93dc44574053e990d51e\", \"Name\": \"Madera County Connection Schedule\", \"Total Trips\": 27, \"N Trips\": 26, \"Trip Cutoff\": 15, \"Segment Cutoff\": 0.2, \"Cutoff\": \"15+ min & 20.0%+ segments\", \"Pct Usable Trips\": 0.9629629629629629}, {\"Gtfs Dataset Key\": \"5fcec68478fd5427be6bb2c4a3b240a6\", \"Name\": \"Burbank Schedule\", \"Total Trips\": 74, \"N Trips\": 71, \"Trip Cutoff\": 15, \"Segment Cutoff\": 0.2, \"Cutoff\": \"15+ min & 20.0%+ segments\", \"Pct Usable Trips\": 0.9594594594594594}, {\"Gtfs Dataset Key\": \"609173a0aa18c6e168c54b8731584ffa\", \"Name\": \"Bay Area 511 Tri-Valley Wheels Schedule\", \"Total Trips\": 288, \"N Trips\": 274, \"Trip Cutoff\": 15, \"Segment Cutoff\": 0.2, \"Cutoff\": \"15+ min & 20.0%+ segments\", \"Pct Usable Trips\": 0.9513888888888888}, {\"Gtfs Dataset Key\": \"644cf39285755e8ba2dc68597faa48aa\", \"Name\": \"Bay Area 511 Muni Schedule\", \"Total Trips\": 9122, \"N Trips\": 8720, \"Trip Cutoff\": 15, \"Segment Cutoff\": 0.2, \"Cutoff\": \"15+ min & 20.0%+ segments\", \"Pct Usable Trips\": 0.9559307169480377}, {\"Gtfs Dataset Key\": \"651832dd0d35804ce4e30063d095e3e5\", \"Name\": \"Fresno Schedule\", \"Total Trips\": 1249, \"N Trips\": 1215, \"Trip Cutoff\": 15, \"Segment Cutoff\": 0.2, \"Cutoff\": \"15+ min & 20.0%+ segments\", \"Pct Usable Trips\": 0.9727782225780625}, {\"Gtfs Dataset Key\": \"65793dff25c6e0d53703911d49d797ea\", \"Name\": \"Bay Area 511 Fairfield and Suisun Transit Schedule\", \"Total Trips\": 258, \"N Trips\": 255, \"Trip Cutoff\": 15, \"Segment Cutoff\": 0.2, \"Cutoff\": \"15+ min & 20.0%+ segments\", \"Pct Usable Trips\": 0.9883720930232558}, {\"Gtfs Dataset Key\": \"6d1991ecbdee1e06031cda8761757f03\", \"Name\": \"Bay Area 511 Dumbarton Express Schedule\", \"Total Trips\": 50, \"N Trips\": 48, \"Trip Cutoff\": 15, \"Segment Cutoff\": 0.2, \"Cutoff\": \"15+ min & 20.0%+ segments\", \"Pct Usable Trips\": 0.96}, {\"Gtfs Dataset Key\": \"6e460d0f1aec519c62478f4ed4c269d1\", \"Name\": \"Long Beach Schedule\", \"Total Trips\": 1420, \"N Trips\": 1377, \"Trip Cutoff\": 15, \"Segment Cutoff\": 0.2, \"Cutoff\": \"15+ min & 20.0%+ segments\", \"Pct Usable Trips\": 0.969718309859155}, {\"Gtfs Dataset Key\": \"6ef1ef238c89b672380a82b091df9a2b\", \"Name\": \"Bay Area 511 Tri Delta Schedule\", \"Total Trips\": 487, \"N Trips\": 477, \"Trip Cutoff\": 15, \"Segment Cutoff\": 0.2, \"Cutoff\": \"15+ min & 20.0%+ segments\", \"Pct Usable Trips\": 0.9794661190965093}, {\"Gtfs Dataset Key\": \"707fef642f609018a05f649ffd491563\", \"Name\": \"GET Schedule\", \"Total Trips\": 567, \"N Trips\": 562, \"Trip Cutoff\": 15, \"Segment Cutoff\": 0.2, \"Cutoff\": \"15+ min & 20.0%+ segments\", \"Pct Usable Trips\": 0.9911816578483245}, {\"Gtfs Dataset Key\": \"70c6ca7a0f9df3109381cd55950cd99a\", \"Name\": \"Bay Area 511 Golden Gate Transit Schedule\", \"Total Trips\": 208, \"N Trips\": 208, \"Trip Cutoff\": 15, \"Segment Cutoff\": 0.2, \"Cutoff\": \"15+ min & 20.0%+ segments\", \"Pct Usable Trips\": 1.0}, {\"Gtfs Dataset Key\": \"73ebf252af88c41aaf4426c6d3dc586c\", \"Name\": \"Unitrans Schedule\", \"Total Trips\": 423, \"N Trips\": 253, \"Trip Cutoff\": 15, \"Segment Cutoff\": 0.2, \"Cutoff\": \"15+ min & 20.0%+ segments\", \"Pct Usable Trips\": 0.5981087470449172}, {\"Gtfs Dataset Key\": \"74fe15010f17ff576045422f9bb38b00\", \"Name\": \"Visalia Schedule\", \"Total Trips\": 436, \"N Trips\": 401, \"Trip Cutoff\": 15, \"Segment Cutoff\": 0.2, \"Cutoff\": \"15+ min & 20.0%+ segments\", \"Pct Usable Trips\": 0.9197247706422018}, {\"Gtfs Dataset Key\": \"7c48cc5675c9266fb6851070489c53e9\", \"Name\": \"LA Metro Bus Schedule\", \"Total Trips\": 13812, \"N Trips\": 13373, \"Trip Cutoff\": 15, \"Segment Cutoff\": 0.2, \"Cutoff\": \"15+ min & 20.0%+ segments\", \"Pct Usable Trips\": 0.968216044019693}, {\"Gtfs Dataset Key\": \"82d94402b3325d1e93e2a1f5b80a300d\", \"Name\": \"Bay Area 511 Vine Transit Schedule\", \"Total Trips\": 135, \"N Trips\": 118, \"Trip Cutoff\": 15, \"Segment Cutoff\": 0.2, \"Cutoff\": \"15+ min & 20.0%+ segments\", \"Pct Usable Trips\": 0.8740740740740741}, {\"Gtfs Dataset Key\": \"8ee6ecf3c45ac2669ee96ae4c8550950\", \"Name\": \"Big Blue Bus Schedule\", \"Total Trips\": 1318, \"N Trips\": 1303, \"Trip Cutoff\": 15, \"Segment Cutoff\": 0.2, \"Cutoff\": \"15+ min & 20.0%+ segments\", \"Pct Usable Trips\": 0.988619119878604}, {\"Gtfs Dataset Key\": \"8f0b9daf627c4f17cbe7f4460208a1af\", \"Name\": \"Santa Clarita Schedule\", \"Total Trips\": 381, \"N Trips\": 369, \"Trip Cutoff\": 15, \"Segment Cutoff\": 0.2, \"Cutoff\": \"15+ min & 20.0%+ segments\", \"Pct Usable Trips\": 0.968503937007874}, {\"Gtfs Dataset Key\": \"910fbc31da89056bdee9ef48b235ef44\", \"Name\": \"VCTC GMV Schedule\", \"Total Trips\": 977, \"N Trips\": 945, \"Trip Cutoff\": 15, \"Segment Cutoff\": 0.2, \"Cutoff\": \"15+ min & 20.0%+ segments\", \"Pct Usable Trips\": 0.9672466734902764}, {\"Gtfs Dataset Key\": \"9b19dee2eacd2a4e70c2750056c005ff\", \"Name\": \"Bay Area 511 Sonoma County Transit Schedule\", \"Total Trips\": 148, \"N Trips\": 127, \"Trip Cutoff\": 15, \"Segment Cutoff\": 0.2, \"Cutoff\": \"15+ min & 20.0%+ segments\", \"Pct Usable Trips\": 0.8581081081081081}, {\"Gtfs Dataset Key\": \"9bd1e0098ba62c06837bf2330db605c2\", \"Name\": \"Torrance Schedule\", \"Total Trips\": 307, \"N Trips\": 301, \"Trip Cutoff\": 15, \"Segment Cutoff\": 0.2, \"Cutoff\": \"15+ min & 20.0%+ segments\", \"Pct Usable Trips\": 0.9804560260586319}, {\"Gtfs Dataset Key\": \"aa9fe79adc8edf93ebfb1ab83c8acc69\", \"Name\": \"Kings Schedule\", \"Total Trips\": 250, \"N Trips\": 247, \"Trip Cutoff\": 15, \"Segment Cutoff\": 0.2, \"Cutoff\": \"15+ min & 20.0%+ segments\", \"Pct Usable Trips\": 0.988}, {\"Gtfs Dataset Key\": \"ac86302bad2b6f66bb6d5aae35ffb52f\", \"Name\": \"Bay Area 511 Marin Schedule\", \"Total Trips\": 593, \"N Trips\": 513, \"Trip Cutoff\": 15, \"Segment Cutoff\": 0.2, \"Cutoff\": \"15+ min & 20.0%+ segments\", \"Pct Usable Trips\": 0.8650927487352446}, {\"Gtfs Dataset Key\": \"ae93720f3c32c12f9ed912e465066bfc\", \"Name\": \"Eastern Sierra Schedule\", \"Total Trips\": 243, \"N Trips\": 92, \"Trip Cutoff\": 15, \"Segment Cutoff\": 0.2, \"Cutoff\": \"15+ min & 20.0%+ segments\", \"Pct Usable Trips\": 0.3786008230452675}, {\"Gtfs Dataset Key\": \"b04260a7725206fcd69b4e4a68b13aae\", \"Name\": \"Yolobus Schedule\", \"Total Trips\": 94, \"N Trips\": 90, \"Trip Cutoff\": 15, \"Segment Cutoff\": 0.2, \"Cutoff\": \"15+ min & 20.0%+ segments\", \"Pct Usable Trips\": 0.9574468085106383}, {\"Gtfs Dataset Key\": \"bc21582ac1ad2b7de0647dfd5b76f67c\", \"Name\": \"Bay Area 511 Petaluma Schedule\", \"Total Trips\": 118, \"N Trips\": 51, \"Trip Cutoff\": 15, \"Segment Cutoff\": 0.2, \"Cutoff\": \"15+ min & 20.0%+ segments\", \"Pct Usable Trips\": 0.4322033898305085}, {\"Gtfs Dataset Key\": \"bdfa3214963bbc4ad4b08e3d5f726744\", \"Name\": \"Tahoe Transportation District Schedule\", \"Total Trips\": 48, \"N Trips\": 38, \"Trip Cutoff\": 15, \"Segment Cutoff\": 0.2, \"Cutoff\": \"15+ min & 20.0%+ segments\", \"Pct Usable Trips\": 0.7916666666666666}, {\"Gtfs Dataset Key\": \"c5b2bf3815a12d5f7242923ed399d1ea\", \"Name\": \"SBMTD Schedule\", \"Total Trips\": 653, \"N Trips\": 517, \"Trip Cutoff\": 15, \"Segment Cutoff\": 0.2, \"Cutoff\": \"15+ min & 20.0%+ segments\", \"Pct Usable Trips\": 0.7917304747320061}, {\"Gtfs Dataset Key\": \"c866d1f427084d94bfa3831d0014d775\", \"Name\": \"Monterey Salinas Schedule\", \"Total Trips\": 906, \"N Trips\": 841, \"Trip Cutoff\": 15, \"Segment Cutoff\": 0.2, \"Cutoff\": \"15+ min & 20.0%+ segments\", \"Pct Usable Trips\": 0.9282560706401766}, {\"Gtfs Dataset Key\": \"c9ec81d837b7ef2feedcea2c940f15d4\", \"Name\": \"Nevada County Schedule\", \"Total Trips\": 109, \"N Trips\": 100, \"Trip Cutoff\": 15, \"Segment Cutoff\": 0.2, \"Cutoff\": \"15+ min & 20.0%+ segments\", \"Pct Usable Trips\": 0.9174311926605505}, {\"Gtfs Dataset Key\": \"cb28d936a30d08f64661c81751af4382\", \"Name\": \"LA Metro Rail Schedule\", \"Total Trips\": 1224, \"N Trips\": 959, \"Trip Cutoff\": 15, \"Segment Cutoff\": 0.2, \"Cutoff\": \"15+ min & 20.0%+ segments\", \"Pct Usable Trips\": 0.7834967320261438}, {\"Gtfs Dataset Key\": \"d2f0224819832ba7d0039ff5e84c5bdd\", \"Name\": \"Victor Valley GMV Schedule\", \"Total Trips\": 817, \"N Trips\": 782, \"Trip Cutoff\": 15, \"Segment Cutoff\": 0.2, \"Cutoff\": \"15+ min & 20.0%+ segments\", \"Pct Usable Trips\": 0.9571603427172583}, {\"Gtfs Dataset Key\": \"d41e4cfdd42950bde9876c5dc670017d\", \"Name\": \"BruinBus Schedule\", \"Total Trips\": 5, \"N Trips\": 5, \"Trip Cutoff\": 15, \"Segment Cutoff\": 0.2, \"Cutoff\": \"15+ min & 20.0%+ segments\", \"Pct Usable Trips\": 1.0}, {\"Gtfs Dataset Key\": \"dac1d3922d8cb62f5feba57d5fdfb012\", \"Name\": \"Torrance Schedule\", \"Total Trips\": 101, \"N Trips\": 99, \"Trip Cutoff\": 15, \"Segment Cutoff\": 0.2, \"Cutoff\": \"15+ min & 20.0%+ segments\", \"Pct Usable Trips\": 0.9801980198019802}, {\"Gtfs Dataset Key\": \"ddc9965fcbf3beaba6d2cb40a3e67c1e\", \"Name\": \"Bay Area 511 San Francisco Bay Ferry Schedule\", \"Total Trips\": 149, \"N Trips\": 113, \"Trip Cutoff\": 15, \"Segment Cutoff\": 0.2, \"Cutoff\": \"15+ min & 20.0%+ segments\", \"Pct Usable Trips\": 0.7583892617449665}, {\"Gtfs Dataset Key\": \"e70b24e4d4931a9ada95fc76a2b53e9b\", \"Name\": \"StanRTA Schedule\", \"Total Trips\": 700, \"N Trips\": 650, \"Trip Cutoff\": 15, \"Segment Cutoff\": 0.2, \"Cutoff\": \"15+ min & 20.0%+ segments\", \"Pct Usable Trips\": 0.9285714285714286}, {\"Gtfs Dataset Key\": \"e88d7f9e3c43ddf41c75c94d12a440a9\", \"Name\": \"Bear Schedule\", \"Total Trips\": 151, \"N Trips\": 83, \"Trip Cutoff\": 15, \"Segment Cutoff\": 0.2, \"Cutoff\": \"15+ min & 20.0%+ segments\", \"Pct Usable Trips\": 0.5496688741721855}, {\"Gtfs Dataset Key\": \"ee4a7698aa24503c4058d10c238e6f8a\", \"Name\": \"Humboldt Schedule\", \"Total Trips\": 112, \"N Trips\": 105, \"Trip Cutoff\": 15, \"Segment Cutoff\": 0.2, \"Cutoff\": \"15+ min & 20.0%+ segments\", \"Pct Usable Trips\": 0.9375}, {\"Gtfs Dataset Key\": \"ee901494c3e6dabe62812966c94fa34c\", \"Name\": \"Santa Ynez Schedule\", \"Total Trips\": 25, \"N Trips\": 22, \"Trip Cutoff\": 15, \"Segment Cutoff\": 0.2, \"Cutoff\": \"15+ min & 20.0%+ segments\", \"Pct Usable Trips\": 0.88}, {\"Gtfs Dataset Key\": \"f09062d4bb1cb04b59bdc8232f0cfc90\", \"Name\": \"Turlock Schedule\", \"Total Trips\": 270, \"N Trips\": 167, \"Trip Cutoff\": 15, \"Segment Cutoff\": 0.2, \"Cutoff\": \"15+ min & 20.0%+ segments\", \"Pct Usable Trips\": 0.6185185185185185}, {\"Gtfs Dataset Key\": \"f1497340b654f3ce925f8b8c2f83e1c2\", \"Name\": \"Riverside Schedule\", \"Total Trips\": 1094, \"N Trips\": 1088, \"Trip Cutoff\": 15, \"Segment Cutoff\": 0.2, \"Cutoff\": \"15+ min & 20.0%+ segments\", \"Pct Usable Trips\": 0.9945155393053017}, {\"Gtfs Dataset Key\": \"02af2d11f5bd44434c581540e9e857d8\", \"Name\": \"LA DOT Schedule\", \"Total Trips\": 2899, \"N Trips\": 2645, \"Trip Cutoff\": 15, \"Segment Cutoff\": 0.4, \"Cutoff\": \"15+ min & 40.0%+ segments\", \"Pct Usable Trips\": 0.9123835805450156}, {\"Gtfs Dataset Key\": \"03cadbffef6f3cd4ce839b218bc65e82\", \"Name\": \"Bay Area 511 Santa Clara Transit Schedule\", \"Total Trips\": 3699, \"N Trips\": 3584, \"Trip Cutoff\": 15, \"Segment Cutoff\": 0.4, \"Cutoff\": \"15+ min & 40.0%+ segments\", \"Pct Usable Trips\": 0.9689105163557719}, {\"Gtfs Dataset Key\": \"087e5ecdcf65499829e681a60e606637\", \"Name\": \"Lake Schedule\", \"Total Trips\": 65, \"N Trips\": 55, \"Trip Cutoff\": 15, \"Segment Cutoff\": 0.4, \"Cutoff\": \"15+ min & 40.0%+ segments\", \"Pct Usable Trips\": 0.8461538461538461}, {\"Gtfs Dataset Key\": \"08c4e0555b1b90cd7464ac801157a167\", \"Name\": \"Bay Area 511 Union City Transit Schedule\", \"Total Trips\": 191, \"N Trips\": 184, \"Trip Cutoff\": 15, \"Segment Cutoff\": 0.4, \"Cutoff\": \"15+ min & 40.0%+ segments\", \"Pct Usable Trips\": 0.9633507853403142}, {\"Gtfs Dataset Key\": \"0a3c3013dc4baff072e14f8ae8a796bb\", \"Name\": \"North County Schedule\", \"Total Trips\": 1298, \"N Trips\": 1289, \"Trip Cutoff\": 15, \"Segment Cutoff\": 0.4, \"Cutoff\": \"15+ min & 40.0%+ segments\", \"Pct Usable Trips\": 0.9930662557781201}, {\"Gtfs Dataset Key\": \"0da5a62ebe57a31bce87abf9fbb2857a\", \"Name\": \"Bay Area 511 MVGO Schedule\", \"Total Trips\": 79, \"N Trips\": 79, \"Trip Cutoff\": 15, \"Segment Cutoff\": 0.4, \"Cutoff\": \"15+ min & 40.0%+ segments\", \"Pct Usable Trips\": 1.0}, {\"Gtfs Dataset Key\": \"0f68ec4d97d179570b494c74b6fca55d\", \"Name\": \"OCTA Schedule\", \"Total Trips\": 3175, \"N Trips\": 3130, \"Trip Cutoff\": 15, \"Segment Cutoff\": 0.4, \"Cutoff\": \"15+ min & 40.0%+ segments\", \"Pct Usable Trips\": 0.9858267716535433}, {\"Gtfs Dataset Key\": \"0faa34840bb65e96b7f83b7f379c2edd\", \"Name\": \"Bay Area 511 Emery Go-Round Schedule\", \"Total Trips\": 127, \"N Trips\": 124, \"Trip Cutoff\": 15, \"Segment Cutoff\": 0.4, \"Cutoff\": \"15+ min & 40.0%+ segments\", \"Pct Usable Trips\": 0.9763779527559056}, {\"Gtfs Dataset Key\": \"115fa7bd31a65b3210945ee884f36132\", \"Name\": \"Banning Pass Schedule\", \"Total Trips\": 44, \"N Trips\": 39, \"Trip Cutoff\": 15, \"Segment Cutoff\": 0.4, \"Cutoff\": \"15+ min & 40.0%+ segments\", \"Pct Usable Trips\": 0.8863636363636364}, {\"Gtfs Dataset Key\": \"13c6e9f58e53c12416b7754352fa1acd\", \"Name\": \"Bay Area 511 Sonoma-Marin Area Rail Transit Schedule\", \"Total Trips\": 38, \"N Trips\": 38, \"Trip Cutoff\": 15, \"Segment Cutoff\": 0.4, \"Cutoff\": \"15+ min & 40.0%+ segments\", \"Pct Usable Trips\": 1.0}, {\"Gtfs Dataset Key\": \"16ee668743cb1ea540bf833d301a1686\", \"Name\": \"Bay Area 511 County Connection Schedule\", \"Total Trips\": 593, \"N Trips\": 532, \"Trip Cutoff\": 15, \"Segment Cutoff\": 0.4, \"Cutoff\": \"15+ min & 40.0%+ segments\", \"Pct Usable Trips\": 0.897133220910624}, {\"Gtfs Dataset Key\": \"17b259a4ae767d3ef5478964851cabb8\", \"Name\": \"WeHo Schedule\", \"Total Trips\": 64, \"N Trips\": 55, \"Trip Cutoff\": 15, \"Segment Cutoff\": 0.4, \"Cutoff\": \"15+ min & 40.0%+ segments\", \"Pct Usable Trips\": 0.859375}, {\"Gtfs Dataset Key\": \"1a4e07032b35ff5aae9438fefc374b55\", \"Name\": \"Antelope Valley Transit Authority Schedule\", \"Total Trips\": 348, \"N Trips\": 304, \"Trip Cutoff\": 15, \"Segment Cutoff\": 0.4, \"Cutoff\": \"15+ min & 40.0%+ segments\", \"Pct Usable Trips\": 0.8735632183908046}, {\"Gtfs Dataset Key\": \"2c82eb917900d5d8b69237702f68ab77\", \"Name\": \"Redding Schedule\", \"Total Trips\": 238, \"N Trips\": 199, \"Trip Cutoff\": 15, \"Segment Cutoff\": 0.4, \"Cutoff\": \"15+ min & 40.0%+ segments\", \"Pct Usable Trips\": 0.8361344537815126}, {\"Gtfs Dataset Key\": \"30e5260fa62b36db8c1dea91fc0c130d\", \"Name\": \"Elk Grove Schedule\", \"Total Trips\": 250, \"N Trips\": 246, \"Trip Cutoff\": 15, \"Segment Cutoff\": 0.4, \"Cutoff\": \"15+ min & 40.0%+ segments\", \"Pct Usable Trips\": 0.984}, {\"Gtfs Dataset Key\": \"3166ec2b9b4c75e31471d0c19384d97e\", \"Name\": \"Bay Area 511 SamTrans Schedule\", \"Total Trips\": 1376, \"N Trips\": 1341, \"Trip Cutoff\": 15, \"Segment Cutoff\": 0.4, \"Cutoff\": \"15+ min & 40.0%+ segments\", \"Pct Usable Trips\": 0.9745639534883721}, {\"Gtfs Dataset Key\": \"318c6bc87acccb67fb00aa9180aa5a12\", \"Name\": \"San Diego Schedule\", \"Total Trips\": 7180, \"N Trips\": 6982, \"Trip Cutoff\": 15, \"Segment Cutoff\": 0.4, \"Cutoff\": \"15+ min & 40.0%+ segments\", \"Pct Usable Trips\": 0.9724233983286908}, {\"Gtfs Dataset Key\": \"34b027e071739231b3a2bc0828b6e581\", \"Name\": \"Bay Area 511 Caltrain Schedule\", \"Total Trips\": 92, \"N Trips\": 76, \"Trip Cutoff\": 15, \"Segment Cutoff\": 0.4, \"Cutoff\": \"15+ min & 40.0%+ segments\", \"Pct Usable Trips\": 0.8260869565217391}, {\"Gtfs Dataset Key\": \"3a508d597e0f71941bd18367262a9cbc\", \"Name\": \"Pasadena Schedule\", \"Total Trips\": 314, \"N Trips\": 304, \"Trip Cutoff\": 15, \"Segment Cutoff\": 0.4, \"Cutoff\": \"15+ min & 40.0%+ segments\", \"Pct Usable Trips\": 0.9681528662420382}, {\"Gtfs Dataset Key\": \"3ab660737c49a3d77b2d418fa8f123fb\", \"Name\": \"Norwalk Avail Schedule\", \"Total Trips\": 13, \"N Trips\": 13, \"Trip Cutoff\": 15, \"Segment Cutoff\": 0.4, \"Cutoff\": \"15+ min & 40.0%+ segments\", \"Pct Usable Trips\": 1.0}, {\"Gtfs Dataset Key\": \"3aded1f694ac384eb4f98f2d42498950\", \"Name\": \"PresidiGo Schedule\", \"Total Trips\": 15, \"N Trips\": 12, \"Trip Cutoff\": 15, \"Segment Cutoff\": 0.4, \"Cutoff\": \"15+ min & 40.0%+ segments\", \"Pct Usable Trips\": 0.8}, {\"Gtfs Dataset Key\": \"3c1b68c3dd8983c8fb8d2661fb7eb398\", \"Name\": \"Beach Cities GMV Schedule\", \"Total Trips\": 89, \"N Trips\": 82, \"Trip Cutoff\": 15, \"Segment Cutoff\": 0.4, \"Cutoff\": \"15+ min & 40.0%+ segments\", \"Pct Usable Trips\": 0.9213483146067416}, {\"Gtfs Dataset Key\": \"4340d7ccf61d3a169068ffef1e310daf\", \"Name\": \"Bay Area 511 Santa Rosa CityBus Schedule\", \"Total Trips\": 541, \"N Trips\": 405, \"Trip Cutoff\": 15, \"Segment Cutoff\": 0.4, \"Cutoff\": \"15+ min & 40.0%+ segments\", \"Pct Usable Trips\": 0.7486136783733827}, {\"Gtfs Dataset Key\": \"443649972c5f581abf6ea43a6f6fa7a7\", \"Name\": \"Culver City Schedule\", \"Total Trips\": 321, \"N Trips\": 278, \"Trip Cutoff\": 15, \"Segment Cutoff\": 0.4, \"Cutoff\": \"15+ min & 40.0%+ segments\", \"Pct Usable Trips\": 0.8660436137071651}, {\"Gtfs Dataset Key\": \"4594028c6c1ebbb6dbfb4284d7510b4e\", \"Name\": \"Foothill Schedule\", \"Total Trips\": 1295, \"N Trips\": 1207, \"Trip Cutoff\": 15, \"Segment Cutoff\": 0.4, \"Cutoff\": \"15+ min & 40.0%+ segments\", \"Pct Usable Trips\": 0.932046332046332}, {\"Gtfs Dataset Key\": \"485c1365977842af8bfdab28fa07ba47\", \"Name\": \"Bay Area 511 SolTrans Schedule\", \"Total Trips\": 399, \"N Trips\": 370, \"Trip Cutoff\": 15, \"Segment Cutoff\": 0.4, \"Cutoff\": \"15+ min & 40.0%+ segments\", \"Pct Usable Trips\": 0.9273182957393483}, {\"Gtfs Dataset Key\": \"48b51d6d96bb01c42c87e40824248fe4\", \"Name\": \"Bay Area 511 WestCAT Schedule\", \"Total Trips\": 432, \"N Trips\": 392, \"Trip Cutoff\": 15, \"Segment Cutoff\": 0.4, \"Cutoff\": \"15+ min & 40.0%+ segments\", \"Pct Usable Trips\": 0.9074074074074074}, {\"Gtfs Dataset Key\": \"49fe49431d07dfa2a7342c73e46b6931\", \"Name\": \"Santa Maria Schedule\", \"Total Trips\": 18, \"N Trips\": 18, \"Trip Cutoff\": 15, \"Segment Cutoff\": 0.4, \"Cutoff\": \"15+ min & 40.0%+ segments\", \"Pct Usable Trips\": 1.0}, {\"Gtfs Dataset Key\": \"4a9d71507be65ce2f46e0beb26418b1a\", \"Name\": \"Commerce Schedule\", \"Total Trips\": 110, \"N Trips\": 104, \"Trip Cutoff\": 15, \"Segment Cutoff\": 0.4, \"Cutoff\": \"15+ min & 40.0%+ segments\", \"Pct Usable Trips\": 0.9454545454545454}, {\"Gtfs Dataset Key\": \"4bb240cf480589e58c6e58d06d6fb72c\", \"Name\": \"Bay Area 511 AC Transit Schedule\", \"Total Trips\": 5323, \"N Trips\": 5204, \"Trip Cutoff\": 15, \"Segment Cutoff\": 0.4, \"Cutoff\": \"15+ min & 40.0%+ segments\", \"Pct Usable Trips\": 0.9776441856096186}, {\"Gtfs Dataset Key\": \"5839b6a0ea1e93dc44574053e990d51e\", \"Name\": \"Madera County Connection Schedule\", \"Total Trips\": 27, \"N Trips\": 26, \"Trip Cutoff\": 15, \"Segment Cutoff\": 0.4, \"Cutoff\": \"15+ min & 40.0%+ segments\", \"Pct Usable Trips\": 0.9629629629629629}, {\"Gtfs Dataset Key\": \"5fcec68478fd5427be6bb2c4a3b240a6\", \"Name\": \"Burbank Schedule\", \"Total Trips\": 74, \"N Trips\": 71, \"Trip Cutoff\": 15, \"Segment Cutoff\": 0.4, \"Cutoff\": \"15+ min & 40.0%+ segments\", \"Pct Usable Trips\": 0.9594594594594594}, {\"Gtfs Dataset Key\": \"609173a0aa18c6e168c54b8731584ffa\", \"Name\": \"Bay Area 511 Tri-Valley Wheels Schedule\", \"Total Trips\": 288, \"N Trips\": 269, \"Trip Cutoff\": 15, \"Segment Cutoff\": 0.4, \"Cutoff\": \"15+ min & 40.0%+ segments\", \"Pct Usable Trips\": 0.9340277777777778}, {\"Gtfs Dataset Key\": \"644cf39285755e8ba2dc68597faa48aa\", \"Name\": \"Bay Area 511 Muni Schedule\", \"Total Trips\": 9122, \"N Trips\": 8508, \"Trip Cutoff\": 15, \"Segment Cutoff\": 0.4, \"Cutoff\": \"15+ min & 40.0%+ segments\", \"Pct Usable Trips\": 0.9326901995176496}, {\"Gtfs Dataset Key\": \"651832dd0d35804ce4e30063d095e3e5\", \"Name\": \"Fresno Schedule\", \"Total Trips\": 1249, \"N Trips\": 1202, \"Trip Cutoff\": 15, \"Segment Cutoff\": 0.4, \"Cutoff\": \"15+ min & 40.0%+ segments\", \"Pct Usable Trips\": 0.9623698959167334}, {\"Gtfs Dataset Key\": \"65793dff25c6e0d53703911d49d797ea\", \"Name\": \"Bay Area 511 Fairfield and Suisun Transit Schedule\", \"Total Trips\": 258, \"N Trips\": 255, \"Trip Cutoff\": 15, \"Segment Cutoff\": 0.4, \"Cutoff\": \"15+ min & 40.0%+ segments\", \"Pct Usable Trips\": 0.9883720930232558}, {\"Gtfs Dataset Key\": \"6d1991ecbdee1e06031cda8761757f03\", \"Name\": \"Bay Area 511 Dumbarton Express Schedule\", \"Total Trips\": 50, \"N Trips\": 42, \"Trip Cutoff\": 15, \"Segment Cutoff\": 0.4, \"Cutoff\": \"15+ min & 40.0%+ segments\", \"Pct Usable Trips\": 0.84}, {\"Gtfs Dataset Key\": \"6e460d0f1aec519c62478f4ed4c269d1\", \"Name\": \"Long Beach Schedule\", \"Total Trips\": 1420, \"N Trips\": 1357, \"Trip Cutoff\": 15, \"Segment Cutoff\": 0.4, \"Cutoff\": \"15+ min & 40.0%+ segments\", \"Pct Usable Trips\": 0.9556338028169014}, {\"Gtfs Dataset Key\": \"6ef1ef238c89b672380a82b091df9a2b\", \"Name\": \"Bay Area 511 Tri Delta Schedule\", \"Total Trips\": 487, \"N Trips\": 468, \"Trip Cutoff\": 15, \"Segment Cutoff\": 0.4, \"Cutoff\": \"15+ min & 40.0%+ segments\", \"Pct Usable Trips\": 0.9609856262833676}, {\"Gtfs Dataset Key\": \"707fef642f609018a05f649ffd491563\", \"Name\": \"GET Schedule\", \"Total Trips\": 567, \"N Trips\": 560, \"Trip Cutoff\": 15, \"Segment Cutoff\": 0.4, \"Cutoff\": \"15+ min & 40.0%+ segments\", \"Pct Usable Trips\": 0.9876543209876543}, {\"Gtfs Dataset Key\": \"70c6ca7a0f9df3109381cd55950cd99a\", \"Name\": \"Bay Area 511 Golden Gate Transit Schedule\", \"Total Trips\": 208, \"N Trips\": 200, \"Trip Cutoff\": 15, \"Segment Cutoff\": 0.4, \"Cutoff\": \"15+ min & 40.0%+ segments\", \"Pct Usable Trips\": 0.9615384615384616}, {\"Gtfs Dataset Key\": \"73ebf252af88c41aaf4426c6d3dc586c\", \"Name\": \"Unitrans Schedule\", \"Total Trips\": 423, \"N Trips\": 250, \"Trip Cutoff\": 15, \"Segment Cutoff\": 0.4, \"Cutoff\": \"15+ min & 40.0%+ segments\", \"Pct Usable Trips\": 0.5910165484633569}, {\"Gtfs Dataset Key\": \"74fe15010f17ff576045422f9bb38b00\", \"Name\": \"Visalia Schedule\", \"Total Trips\": 436, \"N Trips\": 399, \"Trip Cutoff\": 15, \"Segment Cutoff\": 0.4, \"Cutoff\": \"15+ min & 40.0%+ segments\", \"Pct Usable Trips\": 0.9151376146788991}, {\"Gtfs Dataset Key\": \"7c48cc5675c9266fb6851070489c53e9\", \"Name\": \"LA Metro Bus Schedule\", \"Total Trips\": 13812, \"N Trips\": 13154, \"Trip Cutoff\": 15, \"Segment Cutoff\": 0.4, \"Cutoff\": \"15+ min & 40.0%+ segments\", \"Pct Usable Trips\": 0.9523602664349841}, {\"Gtfs Dataset Key\": \"82d94402b3325d1e93e2a1f5b80a300d\", \"Name\": \"Bay Area 511 Vine Transit Schedule\", \"Total Trips\": 135, \"N Trips\": 117, \"Trip Cutoff\": 15, \"Segment Cutoff\": 0.4, \"Cutoff\": \"15+ min & 40.0%+ segments\", \"Pct Usable Trips\": 0.8666666666666667}, {\"Gtfs Dataset Key\": \"8ee6ecf3c45ac2669ee96ae4c8550950\", \"Name\": \"Big Blue Bus Schedule\", \"Total Trips\": 1318, \"N Trips\": 1289, \"Trip Cutoff\": 15, \"Segment Cutoff\": 0.4, \"Cutoff\": \"15+ min & 40.0%+ segments\", \"Pct Usable Trips\": 0.9779969650986343}, {\"Gtfs Dataset Key\": \"8f0b9daf627c4f17cbe7f4460208a1af\", \"Name\": \"Santa Clarita Schedule\", \"Total Trips\": 381, \"N Trips\": 365, \"Trip Cutoff\": 15, \"Segment Cutoff\": 0.4, \"Cutoff\": \"15+ min & 40.0%+ segments\", \"Pct Usable Trips\": 0.958005249343832}, {\"Gtfs Dataset Key\": \"910fbc31da89056bdee9ef48b235ef44\", \"Name\": \"VCTC GMV Schedule\", \"Total Trips\": 977, \"N Trips\": 938, \"Trip Cutoff\": 15, \"Segment Cutoff\": 0.4, \"Cutoff\": \"15+ min & 40.0%+ segments\", \"Pct Usable Trips\": 0.9600818833162743}, {\"Gtfs Dataset Key\": \"9b19dee2eacd2a4e70c2750056c005ff\", \"Name\": \"Bay Area 511 Sonoma County Transit Schedule\", \"Total Trips\": 148, \"N Trips\": 117, \"Trip Cutoff\": 15, \"Segment Cutoff\": 0.4, \"Cutoff\": \"15+ min & 40.0%+ segments\", \"Pct Usable Trips\": 0.7905405405405406}, {\"Gtfs Dataset Key\": \"9bd1e0098ba62c06837bf2330db605c2\", \"Name\": \"Torrance Schedule\", \"Total Trips\": 307, \"N Trips\": 301, \"Trip Cutoff\": 15, \"Segment Cutoff\": 0.4, \"Cutoff\": \"15+ min & 40.0%+ segments\", \"Pct Usable Trips\": 0.9804560260586319}, {\"Gtfs Dataset Key\": \"aa9fe79adc8edf93ebfb1ab83c8acc69\", \"Name\": \"Kings Schedule\", \"Total Trips\": 250, \"N Trips\": 246, \"Trip Cutoff\": 15, \"Segment Cutoff\": 0.4, \"Cutoff\": \"15+ min & 40.0%+ segments\", \"Pct Usable Trips\": 0.984}, {\"Gtfs Dataset Key\": \"ac86302bad2b6f66bb6d5aae35ffb52f\", \"Name\": \"Bay Area 511 Marin Schedule\", \"Total Trips\": 593, \"N Trips\": 475, \"Trip Cutoff\": 15, \"Segment Cutoff\": 0.4, \"Cutoff\": \"15+ min & 40.0%+ segments\", \"Pct Usable Trips\": 0.8010118043844857}, {\"Gtfs Dataset Key\": \"ae93720f3c32c12f9ed912e465066bfc\", \"Name\": \"Eastern Sierra Schedule\", \"Total Trips\": 243, \"N Trips\": 89, \"Trip Cutoff\": 15, \"Segment Cutoff\": 0.4, \"Cutoff\": \"15+ min & 40.0%+ segments\", \"Pct Usable Trips\": 0.3662551440329218}, {\"Gtfs Dataset Key\": \"b04260a7725206fcd69b4e4a68b13aae\", \"Name\": \"Yolobus Schedule\", \"Total Trips\": 94, \"N Trips\": 90, \"Trip Cutoff\": 15, \"Segment Cutoff\": 0.4, \"Cutoff\": \"15+ min & 40.0%+ segments\", \"Pct Usable Trips\": 0.9574468085106383}, {\"Gtfs Dataset Key\": \"bc21582ac1ad2b7de0647dfd5b76f67c\", \"Name\": \"Bay Area 511 Petaluma Schedule\", \"Total Trips\": 118, \"N Trips\": 50, \"Trip Cutoff\": 15, \"Segment Cutoff\": 0.4, \"Cutoff\": \"15+ min & 40.0%+ segments\", \"Pct Usable Trips\": 0.423728813559322}, {\"Gtfs Dataset Key\": \"bdfa3214963bbc4ad4b08e3d5f726744\", \"Name\": \"Tahoe Transportation District Schedule\", \"Total Trips\": 48, \"N Trips\": 37, \"Trip Cutoff\": 15, \"Segment Cutoff\": 0.4, \"Cutoff\": \"15+ min & 40.0%+ segments\", \"Pct Usable Trips\": 0.7708333333333334}, {\"Gtfs Dataset Key\": \"c5b2bf3815a12d5f7242923ed399d1ea\", \"Name\": \"SBMTD Schedule\", \"Total Trips\": 653, \"N Trips\": 509, \"Trip Cutoff\": 15, \"Segment Cutoff\": 0.4, \"Cutoff\": \"15+ min & 40.0%+ segments\", \"Pct Usable Trips\": 0.77947932618683}, {\"Gtfs Dataset Key\": \"c866d1f427084d94bfa3831d0014d775\", \"Name\": \"Monterey Salinas Schedule\", \"Total Trips\": 906, \"N Trips\": 840, \"Trip Cutoff\": 15, \"Segment Cutoff\": 0.4, \"Cutoff\": \"15+ min & 40.0%+ segments\", \"Pct Usable Trips\": 0.9271523178807947}, {\"Gtfs Dataset Key\": \"c9ec81d837b7ef2feedcea2c940f15d4\", \"Name\": \"Nevada County Schedule\", \"Total Trips\": 109, \"N Trips\": 100, \"Trip Cutoff\": 15, \"Segment Cutoff\": 0.4, \"Cutoff\": \"15+ min & 40.0%+ segments\", \"Pct Usable Trips\": 0.9174311926605505}, {\"Gtfs Dataset Key\": \"cb28d936a30d08f64661c81751af4382\", \"Name\": \"LA Metro Rail Schedule\", \"Total Trips\": 1224, \"N Trips\": 930, \"Trip Cutoff\": 15, \"Segment Cutoff\": 0.4, \"Cutoff\": \"15+ min & 40.0%+ segments\", \"Pct Usable Trips\": 0.7598039215686274}, {\"Gtfs Dataset Key\": \"d2f0224819832ba7d0039ff5e84c5bdd\", \"Name\": \"Victor Valley GMV Schedule\", \"Total Trips\": 817, \"N Trips\": 776, \"Trip Cutoff\": 15, \"Segment Cutoff\": 0.4, \"Cutoff\": \"15+ min & 40.0%+ segments\", \"Pct Usable Trips\": 0.9498164014687882}, {\"Gtfs Dataset Key\": \"d41e4cfdd42950bde9876c5dc670017d\", \"Name\": \"BruinBus Schedule\", \"Total Trips\": 5, \"N Trips\": 5, \"Trip Cutoff\": 15, \"Segment Cutoff\": 0.4, \"Cutoff\": \"15+ min & 40.0%+ segments\", \"Pct Usable Trips\": 1.0}, {\"Gtfs Dataset Key\": \"dac1d3922d8cb62f5feba57d5fdfb012\", \"Name\": \"Torrance Schedule\", \"Total Trips\": 101, \"N Trips\": 97, \"Trip Cutoff\": 15, \"Segment Cutoff\": 0.4, \"Cutoff\": \"15+ min & 40.0%+ segments\", \"Pct Usable Trips\": 0.9603960396039604}, {\"Gtfs Dataset Key\": \"ddc9965fcbf3beaba6d2cb40a3e67c1e\", \"Name\": \"Bay Area 511 San Francisco Bay Ferry Schedule\", \"Total Trips\": 149, \"N Trips\": 72, \"Trip Cutoff\": 15, \"Segment Cutoff\": 0.4, \"Cutoff\": \"15+ min & 40.0%+ segments\", \"Pct Usable Trips\": 0.48322147651006714}, {\"Gtfs Dataset Key\": \"e70b24e4d4931a9ada95fc76a2b53e9b\", \"Name\": \"StanRTA Schedule\", \"Total Trips\": 700, \"N Trips\": 645, \"Trip Cutoff\": 15, \"Segment Cutoff\": 0.4, \"Cutoff\": \"15+ min & 40.0%+ segments\", \"Pct Usable Trips\": 0.9214285714285714}, {\"Gtfs Dataset Key\": \"e88d7f9e3c43ddf41c75c94d12a440a9\", \"Name\": \"Bear Schedule\", \"Total Trips\": 151, \"N Trips\": 82, \"Trip Cutoff\": 15, \"Segment Cutoff\": 0.4, \"Cutoff\": \"15+ min & 40.0%+ segments\", \"Pct Usable Trips\": 0.543046357615894}, {\"Gtfs Dataset Key\": \"ee4a7698aa24503c4058d10c238e6f8a\", \"Name\": \"Humboldt Schedule\", \"Total Trips\": 112, \"N Trips\": 104, \"Trip Cutoff\": 15, \"Segment Cutoff\": 0.4, \"Cutoff\": \"15+ min & 40.0%+ segments\", \"Pct Usable Trips\": 0.9285714285714286}, {\"Gtfs Dataset Key\": \"ee901494c3e6dabe62812966c94fa34c\", \"Name\": \"Santa Ynez Schedule\", \"Total Trips\": 25, \"N Trips\": 21, \"Trip Cutoff\": 15, \"Segment Cutoff\": 0.4, \"Cutoff\": \"15+ min & 40.0%+ segments\", \"Pct Usable Trips\": 0.84}, {\"Gtfs Dataset Key\": \"f09062d4bb1cb04b59bdc8232f0cfc90\", \"Name\": \"Turlock Schedule\", \"Total Trips\": 270, \"N Trips\": 167, \"Trip Cutoff\": 15, \"Segment Cutoff\": 0.4, \"Cutoff\": \"15+ min & 40.0%+ segments\", \"Pct Usable Trips\": 0.6185185185185185}, {\"Gtfs Dataset Key\": \"f1497340b654f3ce925f8b8c2f83e1c2\", \"Name\": \"Riverside Schedule\", \"Total Trips\": 1094, \"N Trips\": 1081, \"Trip Cutoff\": 15, \"Segment Cutoff\": 0.4, \"Cutoff\": \"15+ min & 40.0%+ segments\", \"Pct Usable Trips\": 0.9881170018281535}, {\"Gtfs Dataset Key\": \"02af2d11f5bd44434c581540e9e857d8\", \"Name\": \"LA DOT Schedule\", \"Total Trips\": 2899, \"N Trips\": 2587, \"Trip Cutoff\": 15, \"Segment Cutoff\": 0.6, \"Cutoff\": \"15+ min & 60.0%+ segments\", \"Pct Usable Trips\": 0.8923766816143498}, {\"Gtfs Dataset Key\": \"03cadbffef6f3cd4ce839b218bc65e82\", \"Name\": \"Bay Area 511 Santa Clara Transit Schedule\", \"Total Trips\": 3699, \"N Trips\": 3527, \"Trip Cutoff\": 15, \"Segment Cutoff\": 0.6, \"Cutoff\": \"15+ min & 60.0%+ segments\", \"Pct Usable Trips\": 0.9535009462016761}, {\"Gtfs Dataset Key\": \"087e5ecdcf65499829e681a60e606637\", \"Name\": \"Lake Schedule\", \"Total Trips\": 65, \"N Trips\": 55, \"Trip Cutoff\": 15, \"Segment Cutoff\": 0.6, \"Cutoff\": \"15+ min & 60.0%+ segments\", \"Pct Usable Trips\": 0.8461538461538461}, {\"Gtfs Dataset Key\": \"08c4e0555b1b90cd7464ac801157a167\", \"Name\": \"Bay Area 511 Union City Transit Schedule\", \"Total Trips\": 191, \"N Trips\": 183, \"Trip Cutoff\": 15, \"Segment Cutoff\": 0.6, \"Cutoff\": \"15+ min & 60.0%+ segments\", \"Pct Usable Trips\": 0.9581151832460733}, {\"Gtfs Dataset Key\": \"0a3c3013dc4baff072e14f8ae8a796bb\", \"Name\": \"North County Schedule\", \"Total Trips\": 1298, \"N Trips\": 1279, \"Trip Cutoff\": 15, \"Segment Cutoff\": 0.6, \"Cutoff\": \"15+ min & 60.0%+ segments\", \"Pct Usable Trips\": 0.985362095531587}, {\"Gtfs Dataset Key\": \"0da5a62ebe57a31bce87abf9fbb2857a\", \"Name\": \"Bay Area 511 MVGO Schedule\", \"Total Trips\": 79, \"N Trips\": 77, \"Trip Cutoff\": 15, \"Segment Cutoff\": 0.6, \"Cutoff\": \"15+ min & 60.0%+ segments\", \"Pct Usable Trips\": 0.9746835443037974}, {\"Gtfs Dataset Key\": \"0f68ec4d97d179570b494c74b6fca55d\", \"Name\": \"OCTA Schedule\", \"Total Trips\": 3175, \"N Trips\": 3059, \"Trip Cutoff\": 15, \"Segment Cutoff\": 0.6, \"Cutoff\": \"15+ min & 60.0%+ segments\", \"Pct Usable Trips\": 0.9634645669291338}, {\"Gtfs Dataset Key\": \"0faa34840bb65e96b7f83b7f379c2edd\", \"Name\": \"Bay Area 511 Emery Go-Round Schedule\", \"Total Trips\": 127, \"N Trips\": 124, \"Trip Cutoff\": 15, \"Segment Cutoff\": 0.6, \"Cutoff\": \"15+ min & 60.0%+ segments\", \"Pct Usable Trips\": 0.9763779527559056}, {\"Gtfs Dataset Key\": \"115fa7bd31a65b3210945ee884f36132\", \"Name\": \"Banning Pass Schedule\", \"Total Trips\": 44, \"N Trips\": 38, \"Trip Cutoff\": 15, \"Segment Cutoff\": 0.6, \"Cutoff\": \"15+ min & 60.0%+ segments\", \"Pct Usable Trips\": 0.8636363636363636}, {\"Gtfs Dataset Key\": \"13c6e9f58e53c12416b7754352fa1acd\", \"Name\": \"Bay Area 511 Sonoma-Marin Area Rail Transit Schedule\", \"Total Trips\": 38, \"N Trips\": 38, \"Trip Cutoff\": 15, \"Segment Cutoff\": 0.6, \"Cutoff\": \"15+ min & 60.0%+ segments\", \"Pct Usable Trips\": 1.0}, {\"Gtfs Dataset Key\": \"16ee668743cb1ea540bf833d301a1686\", \"Name\": \"Bay Area 511 County Connection Schedule\", \"Total Trips\": 593, \"N Trips\": 520, \"Trip Cutoff\": 15, \"Segment Cutoff\": 0.6, \"Cutoff\": \"15+ min & 60.0%+ segments\", \"Pct Usable Trips\": 0.8768971332209107}, {\"Gtfs Dataset Key\": \"17b259a4ae767d3ef5478964851cabb8\", \"Name\": \"WeHo Schedule\", \"Total Trips\": 64, \"N Trips\": 55, \"Trip Cutoff\": 15, \"Segment Cutoff\": 0.6, \"Cutoff\": \"15+ min & 60.0%+ segments\", \"Pct Usable Trips\": 0.859375}, {\"Gtfs Dataset Key\": \"1a4e07032b35ff5aae9438fefc374b55\", \"Name\": \"Antelope Valley Transit Authority Schedule\", \"Total Trips\": 348, \"N Trips\": 288, \"Trip Cutoff\": 15, \"Segment Cutoff\": 0.6, \"Cutoff\": \"15+ min & 60.0%+ segments\", \"Pct Usable Trips\": 0.8275862068965517}, {\"Gtfs Dataset Key\": \"2c82eb917900d5d8b69237702f68ab77\", \"Name\": \"Redding Schedule\", \"Total Trips\": 238, \"N Trips\": 198, \"Trip Cutoff\": 15, \"Segment Cutoff\": 0.6, \"Cutoff\": \"15+ min & 60.0%+ segments\", \"Pct Usable Trips\": 0.8319327731092437}, {\"Gtfs Dataset Key\": \"30e5260fa62b36db8c1dea91fc0c130d\", \"Name\": \"Elk Grove Schedule\", \"Total Trips\": 250, \"N Trips\": 246, \"Trip Cutoff\": 15, \"Segment Cutoff\": 0.6, \"Cutoff\": \"15+ min & 60.0%+ segments\", \"Pct Usable Trips\": 0.984}, {\"Gtfs Dataset Key\": \"3166ec2b9b4c75e31471d0c19384d97e\", \"Name\": \"Bay Area 511 SamTrans Schedule\", \"Total Trips\": 1376, \"N Trips\": 1241, \"Trip Cutoff\": 15, \"Segment Cutoff\": 0.6, \"Cutoff\": \"15+ min & 60.0%+ segments\", \"Pct Usable Trips\": 0.9018895348837209}, {\"Gtfs Dataset Key\": \"318c6bc87acccb67fb00aa9180aa5a12\", \"Name\": \"San Diego Schedule\", \"Total Trips\": 7180, \"N Trips\": 6677, \"Trip Cutoff\": 15, \"Segment Cutoff\": 0.6, \"Cutoff\": \"15+ min & 60.0%+ segments\", \"Pct Usable Trips\": 0.9299442896935933}, {\"Gtfs Dataset Key\": \"34b027e071739231b3a2bc0828b6e581\", \"Name\": \"Bay Area 511 Caltrain Schedule\", \"Total Trips\": 92, \"N Trips\": 49, \"Trip Cutoff\": 15, \"Segment Cutoff\": 0.6, \"Cutoff\": \"15+ min & 60.0%+ segments\", \"Pct Usable Trips\": 0.532608695652174}, {\"Gtfs Dataset Key\": \"3a508d597e0f71941bd18367262a9cbc\", \"Name\": \"Pasadena Schedule\", \"Total Trips\": 314, \"N Trips\": 301, \"Trip Cutoff\": 15, \"Segment Cutoff\": 0.6, \"Cutoff\": \"15+ min & 60.0%+ segments\", \"Pct Usable Trips\": 0.9585987261146497}, {\"Gtfs Dataset Key\": \"3ab660737c49a3d77b2d418fa8f123fb\", \"Name\": \"Norwalk Avail Schedule\", \"Total Trips\": 13, \"N Trips\": 13, \"Trip Cutoff\": 15, \"Segment Cutoff\": 0.6, \"Cutoff\": \"15+ min & 60.0%+ segments\", \"Pct Usable Trips\": 1.0}, {\"Gtfs Dataset Key\": \"3aded1f694ac384eb4f98f2d42498950\", \"Name\": \"PresidiGo Schedule\", \"Total Trips\": 15, \"N Trips\": 12, \"Trip Cutoff\": 15, \"Segment Cutoff\": 0.6, \"Cutoff\": \"15+ min & 60.0%+ segments\", \"Pct Usable Trips\": 0.8}, {\"Gtfs Dataset Key\": \"3c1b68c3dd8983c8fb8d2661fb7eb398\", \"Name\": \"Beach Cities GMV Schedule\", \"Total Trips\": 89, \"N Trips\": 82, \"Trip Cutoff\": 15, \"Segment Cutoff\": 0.6, \"Cutoff\": \"15+ min & 60.0%+ segments\", \"Pct Usable Trips\": 0.9213483146067416}, {\"Gtfs Dataset Key\": \"4340d7ccf61d3a169068ffef1e310daf\", \"Name\": \"Bay Area 511 Santa Rosa CityBus Schedule\", \"Total Trips\": 541, \"N Trips\": 356, \"Trip Cutoff\": 15, \"Segment Cutoff\": 0.6, \"Cutoff\": \"15+ min & 60.0%+ segments\", \"Pct Usable Trips\": 0.6580406654343808}, {\"Gtfs Dataset Key\": \"443649972c5f581abf6ea43a6f6fa7a7\", \"Name\": \"Culver City Schedule\", \"Total Trips\": 321, \"N Trips\": 270, \"Trip Cutoff\": 15, \"Segment Cutoff\": 0.6, \"Cutoff\": \"15+ min & 60.0%+ segments\", \"Pct Usable Trips\": 0.8411214953271028}, {\"Gtfs Dataset Key\": \"4594028c6c1ebbb6dbfb4284d7510b4e\", \"Name\": \"Foothill Schedule\", \"Total Trips\": 1295, \"N Trips\": 1163, \"Trip Cutoff\": 15, \"Segment Cutoff\": 0.6, \"Cutoff\": \"15+ min & 60.0%+ segments\", \"Pct Usable Trips\": 0.8980694980694981}, {\"Gtfs Dataset Key\": \"485c1365977842af8bfdab28fa07ba47\", \"Name\": \"Bay Area 511 SolTrans Schedule\", \"Total Trips\": 399, \"N Trips\": 327, \"Trip Cutoff\": 15, \"Segment Cutoff\": 0.6, \"Cutoff\": \"15+ min & 60.0%+ segments\", \"Pct Usable Trips\": 0.8195488721804511}, {\"Gtfs Dataset Key\": \"48b51d6d96bb01c42c87e40824248fe4\", \"Name\": \"Bay Area 511 WestCAT Schedule\", \"Total Trips\": 432, \"N Trips\": 389, \"Trip Cutoff\": 15, \"Segment Cutoff\": 0.6, \"Cutoff\": \"15+ min & 60.0%+ segments\", \"Pct Usable Trips\": 0.9004629629629629}, {\"Gtfs Dataset Key\": \"49fe49431d07dfa2a7342c73e46b6931\", \"Name\": \"Santa Maria Schedule\", \"Total Trips\": 18, \"N Trips\": 18, \"Trip Cutoff\": 15, \"Segment Cutoff\": 0.6, \"Cutoff\": \"15+ min & 60.0%+ segments\", \"Pct Usable Trips\": 1.0}, {\"Gtfs Dataset Key\": \"4a9d71507be65ce2f46e0beb26418b1a\", \"Name\": \"Commerce Schedule\", \"Total Trips\": 110, \"N Trips\": 104, \"Trip Cutoff\": 15, \"Segment Cutoff\": 0.6, \"Cutoff\": \"15+ min & 60.0%+ segments\", \"Pct Usable Trips\": 0.9454545454545454}, {\"Gtfs Dataset Key\": \"4bb240cf480589e58c6e58d06d6fb72c\", \"Name\": \"Bay Area 511 AC Transit Schedule\", \"Total Trips\": 5323, \"N Trips\": 5046, \"Trip Cutoff\": 15, \"Segment Cutoff\": 0.6, \"Cutoff\": \"15+ min & 60.0%+ segments\", \"Pct Usable Trips\": 0.9479616757467594}, {\"Gtfs Dataset Key\": \"5839b6a0ea1e93dc44574053e990d51e\", \"Name\": \"Madera County Connection Schedule\", \"Total Trips\": 27, \"N Trips\": 26, \"Trip Cutoff\": 15, \"Segment Cutoff\": 0.6, \"Cutoff\": \"15+ min & 60.0%+ segments\", \"Pct Usable Trips\": 0.9629629629629629}, {\"Gtfs Dataset Key\": \"5fcec68478fd5427be6bb2c4a3b240a6\", \"Name\": \"Burbank Schedule\", \"Total Trips\": 74, \"N Trips\": 71, \"Trip Cutoff\": 15, \"Segment Cutoff\": 0.6, \"Cutoff\": \"15+ min & 60.0%+ segments\", \"Pct Usable Trips\": 0.9594594594594594}, {\"Gtfs Dataset Key\": \"609173a0aa18c6e168c54b8731584ffa\", \"Name\": \"Bay Area 511 Tri-Valley Wheels Schedule\", \"Total Trips\": 288, \"N Trips\": 261, \"Trip Cutoff\": 15, \"Segment Cutoff\": 0.6, \"Cutoff\": \"15+ min & 60.0%+ segments\", \"Pct Usable Trips\": 0.90625}, {\"Gtfs Dataset Key\": \"644cf39285755e8ba2dc68597faa48aa\", \"Name\": \"Bay Area 511 Muni Schedule\", \"Total Trips\": 9122, \"N Trips\": 8104, \"Trip Cutoff\": 15, \"Segment Cutoff\": 0.6, \"Cutoff\": \"15+ min & 60.0%+ segments\", \"Pct Usable Trips\": 0.8884016663012497}, {\"Gtfs Dataset Key\": \"651832dd0d35804ce4e30063d095e3e5\", \"Name\": \"Fresno Schedule\", \"Total Trips\": 1249, \"N Trips\": 1177, \"Trip Cutoff\": 15, \"Segment Cutoff\": 0.6, \"Cutoff\": \"15+ min & 60.0%+ segments\", \"Pct Usable Trips\": 0.9423538831064852}, {\"Gtfs Dataset Key\": \"65793dff25c6e0d53703911d49d797ea\", \"Name\": \"Bay Area 511 Fairfield and Suisun Transit Schedule\", \"Total Trips\": 258, \"N Trips\": 244, \"Trip Cutoff\": 15, \"Segment Cutoff\": 0.6, \"Cutoff\": \"15+ min & 60.0%+ segments\", \"Pct Usable Trips\": 0.9457364341085271}, {\"Gtfs Dataset Key\": \"6d1991ecbdee1e06031cda8761757f03\", \"Name\": \"Bay Area 511 Dumbarton Express Schedule\", \"Total Trips\": 50, \"N Trips\": 38, \"Trip Cutoff\": 15, \"Segment Cutoff\": 0.6, \"Cutoff\": \"15+ min & 60.0%+ segments\", \"Pct Usable Trips\": 0.76}, {\"Gtfs Dataset Key\": \"6e460d0f1aec519c62478f4ed4c269d1\", \"Name\": \"Long Beach Schedule\", \"Total Trips\": 1420, \"N Trips\": 1333, \"Trip Cutoff\": 15, \"Segment Cutoff\": 0.6, \"Cutoff\": \"15+ min & 60.0%+ segments\", \"Pct Usable Trips\": 0.9387323943661972}, {\"Gtfs Dataset Key\": \"6ef1ef238c89b672380a82b091df9a2b\", \"Name\": \"Bay Area 511 Tri Delta Schedule\", \"Total Trips\": 487, \"N Trips\": 454, \"Trip Cutoff\": 15, \"Segment Cutoff\": 0.6, \"Cutoff\": \"15+ min & 60.0%+ segments\", \"Pct Usable Trips\": 0.9322381930184805}, {\"Gtfs Dataset Key\": \"707fef642f609018a05f649ffd491563\", \"Name\": \"GET Schedule\", \"Total Trips\": 567, \"N Trips\": 547, \"Trip Cutoff\": 15, \"Segment Cutoff\": 0.6, \"Cutoff\": \"15+ min & 60.0%+ segments\", \"Pct Usable Trips\": 0.9647266313932981}, {\"Gtfs Dataset Key\": \"70c6ca7a0f9df3109381cd55950cd99a\", \"Name\": \"Bay Area 511 Golden Gate Transit Schedule\", \"Total Trips\": 208, \"N Trips\": 200, \"Trip Cutoff\": 15, \"Segment Cutoff\": 0.6, \"Cutoff\": \"15+ min & 60.0%+ segments\", \"Pct Usable Trips\": 0.9615384615384616}, {\"Gtfs Dataset Key\": \"73ebf252af88c41aaf4426c6d3dc586c\", \"Name\": \"Unitrans Schedule\", \"Total Trips\": 423, \"N Trips\": 248, \"Trip Cutoff\": 15, \"Segment Cutoff\": 0.6, \"Cutoff\": \"15+ min & 60.0%+ segments\", \"Pct Usable Trips\": 0.5862884160756501}, {\"Gtfs Dataset Key\": \"74fe15010f17ff576045422f9bb38b00\", \"Name\": \"Visalia Schedule\", \"Total Trips\": 436, \"N Trips\": 386, \"Trip Cutoff\": 15, \"Segment Cutoff\": 0.6, \"Cutoff\": \"15+ min & 60.0%+ segments\", \"Pct Usable Trips\": 0.8853211009174312}, {\"Gtfs Dataset Key\": \"7c48cc5675c9266fb6851070489c53e9\", \"Name\": \"LA Metro Bus Schedule\", \"Total Trips\": 13812, \"N Trips\": 12084, \"Trip Cutoff\": 15, \"Segment Cutoff\": 0.6, \"Cutoff\": \"15+ min & 60.0%+ segments\", \"Pct Usable Trips\": 0.8748913987836664}, {\"Gtfs Dataset Key\": \"82d94402b3325d1e93e2a1f5b80a300d\", \"Name\": \"Bay Area 511 Vine Transit Schedule\", \"Total Trips\": 135, \"N Trips\": 115, \"Trip Cutoff\": 15, \"Segment Cutoff\": 0.6, \"Cutoff\": \"15+ min & 60.0%+ segments\", \"Pct Usable Trips\": 0.8518518518518519}, {\"Gtfs Dataset Key\": \"8ee6ecf3c45ac2669ee96ae4c8550950\", \"Name\": \"Big Blue Bus Schedule\", \"Total Trips\": 1318, \"N Trips\": 1256, \"Trip Cutoff\": 15, \"Segment Cutoff\": 0.6, \"Cutoff\": \"15+ min & 60.0%+ segments\", \"Pct Usable Trips\": 0.952959028831563}, {\"Gtfs Dataset Key\": \"8f0b9daf627c4f17cbe7f4460208a1af\", \"Name\": \"Santa Clarita Schedule\", \"Total Trips\": 381, \"N Trips\": 358, \"Trip Cutoff\": 15, \"Segment Cutoff\": 0.6, \"Cutoff\": \"15+ min & 60.0%+ segments\", \"Pct Usable Trips\": 0.9396325459317585}, {\"Gtfs Dataset Key\": \"910fbc31da89056bdee9ef48b235ef44\", \"Name\": \"VCTC GMV Schedule\", \"Total Trips\": 977, \"N Trips\": 922, \"Trip Cutoff\": 15, \"Segment Cutoff\": 0.6, \"Cutoff\": \"15+ min & 60.0%+ segments\", \"Pct Usable Trips\": 0.9437052200614124}, {\"Gtfs Dataset Key\": \"9b19dee2eacd2a4e70c2750056c005ff\", \"Name\": \"Bay Area 511 Sonoma County Transit Schedule\", \"Total Trips\": 148, \"N Trips\": 110, \"Trip Cutoff\": 15, \"Segment Cutoff\": 0.6, \"Cutoff\": \"15+ min & 60.0%+ segments\", \"Pct Usable Trips\": 0.7432432432432432}, {\"Gtfs Dataset Key\": \"9bd1e0098ba62c06837bf2330db605c2\", \"Name\": \"Torrance Schedule\", \"Total Trips\": 307, \"N Trips\": 298, \"Trip Cutoff\": 15, \"Segment Cutoff\": 0.6, \"Cutoff\": \"15+ min & 60.0%+ segments\", \"Pct Usable Trips\": 0.9706840390879479}, {\"Gtfs Dataset Key\": \"aa9fe79adc8edf93ebfb1ab83c8acc69\", \"Name\": \"Kings Schedule\", \"Total Trips\": 250, \"N Trips\": 246, \"Trip Cutoff\": 15, \"Segment Cutoff\": 0.6, \"Cutoff\": \"15+ min & 60.0%+ segments\", \"Pct Usable Trips\": 0.984}, {\"Gtfs Dataset Key\": \"ac86302bad2b6f66bb6d5aae35ffb52f\", \"Name\": \"Bay Area 511 Marin Schedule\", \"Total Trips\": 593, \"N Trips\": 455, \"Trip Cutoff\": 15, \"Segment Cutoff\": 0.6, \"Cutoff\": \"15+ min & 60.0%+ segments\", \"Pct Usable Trips\": 0.7672849915682968}, {\"Gtfs Dataset Key\": \"ae93720f3c32c12f9ed912e465066bfc\", \"Name\": \"Eastern Sierra Schedule\", \"Total Trips\": 243, \"N Trips\": 85, \"Trip Cutoff\": 15, \"Segment Cutoff\": 0.6, \"Cutoff\": \"15+ min & 60.0%+ segments\", \"Pct Usable Trips\": 0.3497942386831276}, {\"Gtfs Dataset Key\": \"b04260a7725206fcd69b4e4a68b13aae\", \"Name\": \"Yolobus Schedule\", \"Total Trips\": 94, \"N Trips\": 85, \"Trip Cutoff\": 15, \"Segment Cutoff\": 0.6, \"Cutoff\": \"15+ min & 60.0%+ segments\", \"Pct Usable Trips\": 0.9042553191489362}, {\"Gtfs Dataset Key\": \"bc21582ac1ad2b7de0647dfd5b76f67c\", \"Name\": \"Bay Area 511 Petaluma Schedule\", \"Total Trips\": 118, \"N Trips\": 50, \"Trip Cutoff\": 15, \"Segment Cutoff\": 0.6, \"Cutoff\": \"15+ min & 60.0%+ segments\", \"Pct Usable Trips\": 0.423728813559322}, {\"Gtfs Dataset Key\": \"bdfa3214963bbc4ad4b08e3d5f726744\", \"Name\": \"Tahoe Transportation District Schedule\", \"Total Trips\": 48, \"N Trips\": 37, \"Trip Cutoff\": 15, \"Segment Cutoff\": 0.6, \"Cutoff\": \"15+ min & 60.0%+ segments\", \"Pct Usable Trips\": 0.7708333333333334}, {\"Gtfs Dataset Key\": \"c5b2bf3815a12d5f7242923ed399d1ea\", \"Name\": \"SBMTD Schedule\", \"Total Trips\": 653, \"N Trips\": 494, \"Trip Cutoff\": 15, \"Segment Cutoff\": 0.6, \"Cutoff\": \"15+ min & 60.0%+ segments\", \"Pct Usable Trips\": 0.7565084226646248}, {\"Gtfs Dataset Key\": \"c866d1f427084d94bfa3831d0014d775\", \"Name\": \"Monterey Salinas Schedule\", \"Total Trips\": 906, \"N Trips\": 832, \"Trip Cutoff\": 15, \"Segment Cutoff\": 0.6, \"Cutoff\": \"15+ min & 60.0%+ segments\", \"Pct Usable Trips\": 0.9183222958057395}, {\"Gtfs Dataset Key\": \"c9ec81d837b7ef2feedcea2c940f15d4\", \"Name\": \"Nevada County Schedule\", \"Total Trips\": 109, \"N Trips\": 95, \"Trip Cutoff\": 15, \"Segment Cutoff\": 0.6, \"Cutoff\": \"15+ min & 60.0%+ segments\", \"Pct Usable Trips\": 0.8715596330275229}, {\"Gtfs Dataset Key\": \"cb28d936a30d08f64661c81751af4382\", \"Name\": \"LA Metro Rail Schedule\", \"Total Trips\": 1224, \"N Trips\": 875, \"Trip Cutoff\": 15, \"Segment Cutoff\": 0.6, \"Cutoff\": \"15+ min & 60.0%+ segments\", \"Pct Usable Trips\": 0.7148692810457516}, {\"Gtfs Dataset Key\": \"d2f0224819832ba7d0039ff5e84c5bdd\", \"Name\": \"Victor Valley GMV Schedule\", \"Total Trips\": 817, \"N Trips\": 761, \"Trip Cutoff\": 15, \"Segment Cutoff\": 0.6, \"Cutoff\": \"15+ min & 60.0%+ segments\", \"Pct Usable Trips\": 0.9314565483476133}, {\"Gtfs Dataset Key\": \"d41e4cfdd42950bde9876c5dc670017d\", \"Name\": \"BruinBus Schedule\", \"Total Trips\": 5, \"N Trips\": 5, \"Trip Cutoff\": 15, \"Segment Cutoff\": 0.6, \"Cutoff\": \"15+ min & 60.0%+ segments\", \"Pct Usable Trips\": 1.0}, {\"Gtfs Dataset Key\": \"dac1d3922d8cb62f5feba57d5fdfb012\", \"Name\": \"Torrance Schedule\", \"Total Trips\": 101, \"N Trips\": 88, \"Trip Cutoff\": 15, \"Segment Cutoff\": 0.6, \"Cutoff\": \"15+ min & 60.0%+ segments\", \"Pct Usable Trips\": 0.8712871287128713}, {\"Gtfs Dataset Key\": \"ddc9965fcbf3beaba6d2cb40a3e67c1e\", \"Name\": \"Bay Area 511 San Francisco Bay Ferry Schedule\", \"Total Trips\": 149, \"N Trips\": 29, \"Trip Cutoff\": 15, \"Segment Cutoff\": 0.6, \"Cutoff\": \"15+ min & 60.0%+ segments\", \"Pct Usable Trips\": 0.19463087248322147}, {\"Gtfs Dataset Key\": \"e70b24e4d4931a9ada95fc76a2b53e9b\", \"Name\": \"StanRTA Schedule\", \"Total Trips\": 700, \"N Trips\": 638, \"Trip Cutoff\": 15, \"Segment Cutoff\": 0.6, \"Cutoff\": \"15+ min & 60.0%+ segments\", \"Pct Usable Trips\": 0.9114285714285715}, {\"Gtfs Dataset Key\": \"e88d7f9e3c43ddf41c75c94d12a440a9\", \"Name\": \"Bear Schedule\", \"Total Trips\": 151, \"N Trips\": 82, \"Trip Cutoff\": 15, \"Segment Cutoff\": 0.6, \"Cutoff\": \"15+ min & 60.0%+ segments\", \"Pct Usable Trips\": 0.543046357615894}, {\"Gtfs Dataset Key\": \"ee4a7698aa24503c4058d10c238e6f8a\", \"Name\": \"Humboldt Schedule\", \"Total Trips\": 112, \"N Trips\": 91, \"Trip Cutoff\": 15, \"Segment Cutoff\": 0.6, \"Cutoff\": \"15+ min & 60.0%+ segments\", \"Pct Usable Trips\": 0.8125}, {\"Gtfs Dataset Key\": \"ee901494c3e6dabe62812966c94fa34c\", \"Name\": \"Santa Ynez Schedule\", \"Total Trips\": 25, \"N Trips\": 20, \"Trip Cutoff\": 15, \"Segment Cutoff\": 0.6, \"Cutoff\": \"15+ min & 60.0%+ segments\", \"Pct Usable Trips\": 0.8}, {\"Gtfs Dataset Key\": \"f09062d4bb1cb04b59bdc8232f0cfc90\", \"Name\": \"Turlock Schedule\", \"Total Trips\": 270, \"N Trips\": 167, \"Trip Cutoff\": 15, \"Segment Cutoff\": 0.6, \"Cutoff\": \"15+ min & 60.0%+ segments\", \"Pct Usable Trips\": 0.6185185185185185}, {\"Gtfs Dataset Key\": \"f1497340b654f3ce925f8b8c2f83e1c2\", \"Name\": \"Riverside Schedule\", \"Total Trips\": 1094, \"N Trips\": 1068, \"Trip Cutoff\": 15, \"Segment Cutoff\": 0.6, \"Cutoff\": \"15+ min & 60.0%+ segments\", \"Pct Usable Trips\": 0.9762340036563071}, {\"Gtfs Dataset Key\": \"02af2d11f5bd44434c581540e9e857d8\", \"Name\": \"LA DOT Schedule\", \"Total Trips\": 2899, \"N Trips\": 2496, \"Trip Cutoff\": 15, \"Segment Cutoff\": 0.8, \"Cutoff\": \"15+ min & 80.0%+ segments\", \"Pct Usable Trips\": 0.8609865470852018}, {\"Gtfs Dataset Key\": \"03cadbffef6f3cd4ce839b218bc65e82\", \"Name\": \"Bay Area 511 Santa Clara Transit Schedule\", \"Total Trips\": 3699, \"N Trips\": 3301, \"Trip Cutoff\": 15, \"Segment Cutoff\": 0.8, \"Cutoff\": \"15+ min & 80.0%+ segments\", \"Pct Usable Trips\": 0.8924033522573669}, {\"Gtfs Dataset Key\": \"087e5ecdcf65499829e681a60e606637\", \"Name\": \"Lake Schedule\", \"Total Trips\": 65, \"N Trips\": 53, \"Trip Cutoff\": 15, \"Segment Cutoff\": 0.8, \"Cutoff\": \"15+ min & 80.0%+ segments\", \"Pct Usable Trips\": 0.8153846153846154}, {\"Gtfs Dataset Key\": \"08c4e0555b1b90cd7464ac801157a167\", \"Name\": \"Bay Area 511 Union City Transit Schedule\", \"Total Trips\": 191, \"N Trips\": 179, \"Trip Cutoff\": 15, \"Segment Cutoff\": 0.8, \"Cutoff\": \"15+ min & 80.0%+ segments\", \"Pct Usable Trips\": 0.93717277486911}, {\"Gtfs Dataset Key\": \"0a3c3013dc4baff072e14f8ae8a796bb\", \"Name\": \"North County Schedule\", \"Total Trips\": 1298, \"N Trips\": 1193, \"Trip Cutoff\": 15, \"Segment Cutoff\": 0.8, \"Cutoff\": \"15+ min & 80.0%+ segments\", \"Pct Usable Trips\": 0.9191063174114021}, {\"Gtfs Dataset Key\": \"0da5a62ebe57a31bce87abf9fbb2857a\", \"Name\": \"Bay Area 511 MVGO Schedule\", \"Total Trips\": 79, \"N Trips\": 71, \"Trip Cutoff\": 15, \"Segment Cutoff\": 0.8, \"Cutoff\": \"15+ min & 80.0%+ segments\", \"Pct Usable Trips\": 0.8987341772151899}, {\"Gtfs Dataset Key\": \"0f68ec4d97d179570b494c74b6fca55d\", \"Name\": \"OCTA Schedule\", \"Total Trips\": 3175, \"N Trips\": 2793, \"Trip Cutoff\": 15, \"Segment Cutoff\": 0.8, \"Cutoff\": \"15+ min & 80.0%+ segments\", \"Pct Usable Trips\": 0.8796850393700787}, {\"Gtfs Dataset Key\": \"0faa34840bb65e96b7f83b7f379c2edd\", \"Name\": \"Bay Area 511 Emery Go-Round Schedule\", \"Total Trips\": 127, \"N Trips\": 123, \"Trip Cutoff\": 15, \"Segment Cutoff\": 0.8, \"Cutoff\": \"15+ min & 80.0%+ segments\", \"Pct Usable Trips\": 0.968503937007874}, {\"Gtfs Dataset Key\": \"115fa7bd31a65b3210945ee884f36132\", \"Name\": \"Banning Pass Schedule\", \"Total Trips\": 44, \"N Trips\": 27, \"Trip Cutoff\": 15, \"Segment Cutoff\": 0.8, \"Cutoff\": \"15+ min & 80.0%+ segments\", \"Pct Usable Trips\": 0.6136363636363636}, {\"Gtfs Dataset Key\": \"13c6e9f58e53c12416b7754352fa1acd\", \"Name\": \"Bay Area 511 Sonoma-Marin Area Rail Transit Schedule\", \"Total Trips\": 38, \"N Trips\": 28, \"Trip Cutoff\": 15, \"Segment Cutoff\": 0.8, \"Cutoff\": \"15+ min & 80.0%+ segments\", \"Pct Usable Trips\": 0.7368421052631579}, {\"Gtfs Dataset Key\": \"16ee668743cb1ea540bf833d301a1686\", \"Name\": \"Bay Area 511 County Connection Schedule\", \"Total Trips\": 593, \"N Trips\": 502, \"Trip Cutoff\": 15, \"Segment Cutoff\": 0.8, \"Cutoff\": \"15+ min & 80.0%+ segments\", \"Pct Usable Trips\": 0.8465430016863407}, {\"Gtfs Dataset Key\": \"17b259a4ae767d3ef5478964851cabb8\", \"Name\": \"WeHo Schedule\", \"Total Trips\": 64, \"N Trips\": 47, \"Trip Cutoff\": 15, \"Segment Cutoff\": 0.8, \"Cutoff\": \"15+ min & 80.0%+ segments\", \"Pct Usable Trips\": 0.734375}, {\"Gtfs Dataset Key\": \"1a4e07032b35ff5aae9438fefc374b55\", \"Name\": \"Antelope Valley Transit Authority Schedule\", \"Total Trips\": 348, \"N Trips\": 279, \"Trip Cutoff\": 15, \"Segment Cutoff\": 0.8, \"Cutoff\": \"15+ min & 80.0%+ segments\", \"Pct Usable Trips\": 0.8017241379310345}, {\"Gtfs Dataset Key\": \"2c82eb917900d5d8b69237702f68ab77\", \"Name\": \"Redding Schedule\", \"Total Trips\": 238, \"N Trips\": 197, \"Trip Cutoff\": 15, \"Segment Cutoff\": 0.8, \"Cutoff\": \"15+ min & 80.0%+ segments\", \"Pct Usable Trips\": 0.8277310924369747}, {\"Gtfs Dataset Key\": \"30e5260fa62b36db8c1dea91fc0c130d\", \"Name\": \"Elk Grove Schedule\", \"Total Trips\": 250, \"N Trips\": 246, \"Trip Cutoff\": 15, \"Segment Cutoff\": 0.8, \"Cutoff\": \"15+ min & 80.0%+ segments\", \"Pct Usable Trips\": 0.984}, {\"Gtfs Dataset Key\": \"3166ec2b9b4c75e31471d0c19384d97e\", \"Name\": \"Bay Area 511 SamTrans Schedule\", \"Total Trips\": 1376, \"N Trips\": 1195, \"Trip Cutoff\": 15, \"Segment Cutoff\": 0.8, \"Cutoff\": \"15+ min & 80.0%+ segments\", \"Pct Usable Trips\": 0.8684593023255814}, {\"Gtfs Dataset Key\": \"318c6bc87acccb67fb00aa9180aa5a12\", \"Name\": \"San Diego Schedule\", \"Total Trips\": 7180, \"N Trips\": 6529, \"Trip Cutoff\": 15, \"Segment Cutoff\": 0.8, \"Cutoff\": \"15+ min & 80.0%+ segments\", \"Pct Usable Trips\": 0.9093314763231197}, {\"Gtfs Dataset Key\": \"34b027e071739231b3a2bc0828b6e581\", \"Name\": \"Bay Area 511 Caltrain Schedule\", \"Total Trips\": 92, \"N Trips\": 5, \"Trip Cutoff\": 15, \"Segment Cutoff\": 0.8, \"Cutoff\": \"15+ min & 80.0%+ segments\", \"Pct Usable Trips\": 0.05434782608695652}, {\"Gtfs Dataset Key\": \"3a508d597e0f71941bd18367262a9cbc\", \"Name\": \"Pasadena Schedule\", \"Total Trips\": 314, \"N Trips\": 297, \"Trip Cutoff\": 15, \"Segment Cutoff\": 0.8, \"Cutoff\": \"15+ min & 80.0%+ segments\", \"Pct Usable Trips\": 0.945859872611465}, {\"Gtfs Dataset Key\": \"3ab660737c49a3d77b2d418fa8f123fb\", \"Name\": \"Norwalk Avail Schedule\", \"Total Trips\": 13, \"N Trips\": 10, \"Trip Cutoff\": 15, \"Segment Cutoff\": 0.8, \"Cutoff\": \"15+ min & 80.0%+ segments\", \"Pct Usable Trips\": 0.7692307692307693}, {\"Gtfs Dataset Key\": \"3aded1f694ac384eb4f98f2d42498950\", \"Name\": \"PresidiGo Schedule\", \"Total Trips\": 15, \"N Trips\": 12, \"Trip Cutoff\": 15, \"Segment Cutoff\": 0.8, \"Cutoff\": \"15+ min & 80.0%+ segments\", \"Pct Usable Trips\": 0.8}, {\"Gtfs Dataset Key\": \"3c1b68c3dd8983c8fb8d2661fb7eb398\", \"Name\": \"Beach Cities GMV Schedule\", \"Total Trips\": 89, \"N Trips\": 80, \"Trip Cutoff\": 15, \"Segment Cutoff\": 0.8, \"Cutoff\": \"15+ min & 80.0%+ segments\", \"Pct Usable Trips\": 0.898876404494382}, {\"Gtfs Dataset Key\": \"4340d7ccf61d3a169068ffef1e310daf\", \"Name\": \"Bay Area 511 Santa Rosa CityBus Schedule\", \"Total Trips\": 541, \"N Trips\": 307, \"Trip Cutoff\": 15, \"Segment Cutoff\": 0.8, \"Cutoff\": \"15+ min & 80.0%+ segments\", \"Pct Usable Trips\": 0.5674676524953789}, {\"Gtfs Dataset Key\": \"443649972c5f581abf6ea43a6f6fa7a7\", \"Name\": \"Culver City Schedule\", \"Total Trips\": 321, \"N Trips\": 249, \"Trip Cutoff\": 15, \"Segment Cutoff\": 0.8, \"Cutoff\": \"15+ min & 80.0%+ segments\", \"Pct Usable Trips\": 0.7757009345794392}, {\"Gtfs Dataset Key\": \"4594028c6c1ebbb6dbfb4284d7510b4e\", \"Name\": \"Foothill Schedule\", \"Total Trips\": 1295, \"N Trips\": 1096, \"Trip Cutoff\": 15, \"Segment Cutoff\": 0.8, \"Cutoff\": \"15+ min & 80.0%+ segments\", \"Pct Usable Trips\": 0.8463320463320463}, {\"Gtfs Dataset Key\": \"485c1365977842af8bfdab28fa07ba47\", \"Name\": \"Bay Area 511 SolTrans Schedule\", \"Total Trips\": 399, \"N Trips\": 309, \"Trip Cutoff\": 15, \"Segment Cutoff\": 0.8, \"Cutoff\": \"15+ min & 80.0%+ segments\", \"Pct Usable Trips\": 0.7744360902255639}, {\"Gtfs Dataset Key\": \"48b51d6d96bb01c42c87e40824248fe4\", \"Name\": \"Bay Area 511 WestCAT Schedule\", \"Total Trips\": 432, \"N Trips\": 360, \"Trip Cutoff\": 15, \"Segment Cutoff\": 0.8, \"Cutoff\": \"15+ min & 80.0%+ segments\", \"Pct Usable Trips\": 0.8333333333333334}, {\"Gtfs Dataset Key\": \"49fe49431d07dfa2a7342c73e46b6931\", \"Name\": \"Santa Maria Schedule\", \"Total Trips\": 18, \"N Trips\": 18, \"Trip Cutoff\": 15, \"Segment Cutoff\": 0.8, \"Cutoff\": \"15+ min & 80.0%+ segments\", \"Pct Usable Trips\": 1.0}, {\"Gtfs Dataset Key\": \"4a9d71507be65ce2f46e0beb26418b1a\", \"Name\": \"Commerce Schedule\", \"Total Trips\": 110, \"N Trips\": 102, \"Trip Cutoff\": 15, \"Segment Cutoff\": 0.8, \"Cutoff\": \"15+ min & 80.0%+ segments\", \"Pct Usable Trips\": 0.9272727272727272}, {\"Gtfs Dataset Key\": \"4bb240cf480589e58c6e58d06d6fb72c\", \"Name\": \"Bay Area 511 AC Transit Schedule\", \"Total Trips\": 5323, \"N Trips\": 4954, \"Trip Cutoff\": 15, \"Segment Cutoff\": 0.8, \"Cutoff\": \"15+ min & 80.0%+ segments\", \"Pct Usable Trips\": 0.9306781889911704}, {\"Gtfs Dataset Key\": \"5839b6a0ea1e93dc44574053e990d51e\", \"Name\": \"Madera County Connection Schedule\", \"Total Trips\": 27, \"N Trips\": 24, \"Trip Cutoff\": 15, \"Segment Cutoff\": 0.8, \"Cutoff\": \"15+ min & 80.0%+ segments\", \"Pct Usable Trips\": 0.8888888888888888}, {\"Gtfs Dataset Key\": \"5fcec68478fd5427be6bb2c4a3b240a6\", \"Name\": \"Burbank Schedule\", \"Total Trips\": 74, \"N Trips\": 71, \"Trip Cutoff\": 15, \"Segment Cutoff\": 0.8, \"Cutoff\": \"15+ min & 80.0%+ segments\", \"Pct Usable Trips\": 0.9594594594594594}, {\"Gtfs Dataset Key\": \"609173a0aa18c6e168c54b8731584ffa\", \"Name\": \"Bay Area 511 Tri-Valley Wheels Schedule\", \"Total Trips\": 288, \"N Trips\": 246, \"Trip Cutoff\": 15, \"Segment Cutoff\": 0.8, \"Cutoff\": \"15+ min & 80.0%+ segments\", \"Pct Usable Trips\": 0.8541666666666666}, {\"Gtfs Dataset Key\": \"644cf39285755e8ba2dc68597faa48aa\", \"Name\": \"Bay Area 511 Muni Schedule\", \"Total Trips\": 9122, \"N Trips\": 7490, \"Trip Cutoff\": 15, \"Segment Cutoff\": 0.8, \"Cutoff\": \"15+ min & 80.0%+ segments\", \"Pct Usable Trips\": 0.8210918658188994}, {\"Gtfs Dataset Key\": \"651832dd0d35804ce4e30063d095e3e5\", \"Name\": \"Fresno Schedule\", \"Total Trips\": 1249, \"N Trips\": 1098, \"Trip Cutoff\": 15, \"Segment Cutoff\": 0.8, \"Cutoff\": \"15+ min & 80.0%+ segments\", \"Pct Usable Trips\": 0.8791032826261009}, {\"Gtfs Dataset Key\": \"65793dff25c6e0d53703911d49d797ea\", \"Name\": \"Bay Area 511 Fairfield and Suisun Transit Schedule\", \"Total Trips\": 258, \"N Trips\": 243, \"Trip Cutoff\": 15, \"Segment Cutoff\": 0.8, \"Cutoff\": \"15+ min & 80.0%+ segments\", \"Pct Usable Trips\": 0.9418604651162791}, {\"Gtfs Dataset Key\": \"6d1991ecbdee1e06031cda8761757f03\", \"Name\": \"Bay Area 511 Dumbarton Express Schedule\", \"Total Trips\": 50, \"N Trips\": 21, \"Trip Cutoff\": 15, \"Segment Cutoff\": 0.8, \"Cutoff\": \"15+ min & 80.0%+ segments\", \"Pct Usable Trips\": 0.42}, {\"Gtfs Dataset Key\": \"6e460d0f1aec519c62478f4ed4c269d1\", \"Name\": \"Long Beach Schedule\", \"Total Trips\": 1420, \"N Trips\": 1202, \"Trip Cutoff\": 15, \"Segment Cutoff\": 0.8, \"Cutoff\": \"15+ min & 80.0%+ segments\", \"Pct Usable Trips\": 0.8464788732394366}, {\"Gtfs Dataset Key\": \"6ef1ef238c89b672380a82b091df9a2b\", \"Name\": \"Bay Area 511 Tri Delta Schedule\", \"Total Trips\": 487, \"N Trips\": 430, \"Trip Cutoff\": 15, \"Segment Cutoff\": 0.8, \"Cutoff\": \"15+ min & 80.0%+ segments\", \"Pct Usable Trips\": 0.8829568788501027}, {\"Gtfs Dataset Key\": \"707fef642f609018a05f649ffd491563\", \"Name\": \"GET Schedule\", \"Total Trips\": 567, \"N Trips\": 534, \"Trip Cutoff\": 15, \"Segment Cutoff\": 0.8, \"Cutoff\": \"15+ min & 80.0%+ segments\", \"Pct Usable Trips\": 0.9417989417989417}, {\"Gtfs Dataset Key\": \"70c6ca7a0f9df3109381cd55950cd99a\", \"Name\": \"Bay Area 511 Golden Gate Transit Schedule\", \"Total Trips\": 208, \"N Trips\": 200, \"Trip Cutoff\": 15, \"Segment Cutoff\": 0.8, \"Cutoff\": \"15+ min & 80.0%+ segments\", \"Pct Usable Trips\": 0.9615384615384616}, {\"Gtfs Dataset Key\": \"73ebf252af88c41aaf4426c6d3dc586c\", \"Name\": \"Unitrans Schedule\", \"Total Trips\": 423, \"N Trips\": 245, \"Trip Cutoff\": 15, \"Segment Cutoff\": 0.8, \"Cutoff\": \"15+ min & 80.0%+ segments\", \"Pct Usable Trips\": 0.5791962174940898}, {\"Gtfs Dataset Key\": \"74fe15010f17ff576045422f9bb38b00\", \"Name\": \"Visalia Schedule\", \"Total Trips\": 436, \"N Trips\": 378, \"Trip Cutoff\": 15, \"Segment Cutoff\": 0.8, \"Cutoff\": \"15+ min & 80.0%+ segments\", \"Pct Usable Trips\": 0.8669724770642202}, {\"Gtfs Dataset Key\": \"7c48cc5675c9266fb6851070489c53e9\", \"Name\": \"LA Metro Bus Schedule\", \"Total Trips\": 13812, \"N Trips\": 9642, \"Trip Cutoff\": 15, \"Segment Cutoff\": 0.8, \"Cutoff\": \"15+ min & 80.0%+ segments\", \"Pct Usable Trips\": 0.6980886185925282}, {\"Gtfs Dataset Key\": \"82d94402b3325d1e93e2a1f5b80a300d\", \"Name\": \"Bay Area 511 Vine Transit Schedule\", \"Total Trips\": 135, \"N Trips\": 113, \"Trip Cutoff\": 15, \"Segment Cutoff\": 0.8, \"Cutoff\": \"15+ min & 80.0%+ segments\", \"Pct Usable Trips\": 0.837037037037037}, {\"Gtfs Dataset Key\": \"8ee6ecf3c45ac2669ee96ae4c8550950\", \"Name\": \"Big Blue Bus Schedule\", \"Total Trips\": 1318, \"N Trips\": 1197, \"Trip Cutoff\": 15, \"Segment Cutoff\": 0.8, \"Cutoff\": \"15+ min & 80.0%+ segments\", \"Pct Usable Trips\": 0.9081942336874052}, {\"Gtfs Dataset Key\": \"8f0b9daf627c4f17cbe7f4460208a1af\", \"Name\": \"Santa Clarita Schedule\", \"Total Trips\": 381, \"N Trips\": 337, \"Trip Cutoff\": 15, \"Segment Cutoff\": 0.8, \"Cutoff\": \"15+ min & 80.0%+ segments\", \"Pct Usable Trips\": 0.884514435695538}, {\"Gtfs Dataset Key\": \"910fbc31da89056bdee9ef48b235ef44\", \"Name\": \"VCTC GMV Schedule\", \"Total Trips\": 977, \"N Trips\": 853, \"Trip Cutoff\": 15, \"Segment Cutoff\": 0.8, \"Cutoff\": \"15+ min & 80.0%+ segments\", \"Pct Usable Trips\": 0.8730808597748209}, {\"Gtfs Dataset Key\": \"9b19dee2eacd2a4e70c2750056c005ff\", \"Name\": \"Bay Area 511 Sonoma County Transit Schedule\", \"Total Trips\": 148, \"N Trips\": 98, \"Trip Cutoff\": 15, \"Segment Cutoff\": 0.8, \"Cutoff\": \"15+ min & 80.0%+ segments\", \"Pct Usable Trips\": 0.6621621621621622}, {\"Gtfs Dataset Key\": \"9bd1e0098ba62c06837bf2330db605c2\", \"Name\": \"Torrance Schedule\", \"Total Trips\": 307, \"N Trips\": 270, \"Trip Cutoff\": 15, \"Segment Cutoff\": 0.8, \"Cutoff\": \"15+ min & 80.0%+ segments\", \"Pct Usable Trips\": 0.8794788273615635}, {\"Gtfs Dataset Key\": \"aa9fe79adc8edf93ebfb1ab83c8acc69\", \"Name\": \"Kings Schedule\", \"Total Trips\": 250, \"N Trips\": 245, \"Trip Cutoff\": 15, \"Segment Cutoff\": 0.8, \"Cutoff\": \"15+ min & 80.0%+ segments\", \"Pct Usable Trips\": 0.98}, {\"Gtfs Dataset Key\": \"ac86302bad2b6f66bb6d5aae35ffb52f\", \"Name\": \"Bay Area 511 Marin Schedule\", \"Total Trips\": 593, \"N Trips\": 407, \"Trip Cutoff\": 15, \"Segment Cutoff\": 0.8, \"Cutoff\": \"15+ min & 80.0%+ segments\", \"Pct Usable Trips\": 0.6863406408094435}, {\"Gtfs Dataset Key\": \"ae93720f3c32c12f9ed912e465066bfc\", \"Name\": \"Eastern Sierra Schedule\", \"Total Trips\": 243, \"N Trips\": 76, \"Trip Cutoff\": 15, \"Segment Cutoff\": 0.8, \"Cutoff\": \"15+ min & 80.0%+ segments\", \"Pct Usable Trips\": 0.31275720164609055}, {\"Gtfs Dataset Key\": \"b04260a7725206fcd69b4e4a68b13aae\", \"Name\": \"Yolobus Schedule\", \"Total Trips\": 94, \"N Trips\": 83, \"Trip Cutoff\": 15, \"Segment Cutoff\": 0.8, \"Cutoff\": \"15+ min & 80.0%+ segments\", \"Pct Usable Trips\": 0.8829787234042553}, {\"Gtfs Dataset Key\": \"bc21582ac1ad2b7de0647dfd5b76f67c\", \"Name\": \"Bay Area 511 Petaluma Schedule\", \"Total Trips\": 118, \"N Trips\": 47, \"Trip Cutoff\": 15, \"Segment Cutoff\": 0.8, \"Cutoff\": \"15+ min & 80.0%+ segments\", \"Pct Usable Trips\": 0.3983050847457627}, {\"Gtfs Dataset Key\": \"bdfa3214963bbc4ad4b08e3d5f726744\", \"Name\": \"Tahoe Transportation District Schedule\", \"Total Trips\": 48, \"N Trips\": 33, \"Trip Cutoff\": 15, \"Segment Cutoff\": 0.8, \"Cutoff\": \"15+ min & 80.0%+ segments\", \"Pct Usable Trips\": 0.6875}, {\"Gtfs Dataset Key\": \"c5b2bf3815a12d5f7242923ed399d1ea\", \"Name\": \"SBMTD Schedule\", \"Total Trips\": 653, \"N Trips\": 433, \"Trip Cutoff\": 15, \"Segment Cutoff\": 0.8, \"Cutoff\": \"15+ min & 80.0%+ segments\", \"Pct Usable Trips\": 0.663093415007657}, {\"Gtfs Dataset Key\": \"c866d1f427084d94bfa3831d0014d775\", \"Name\": \"Monterey Salinas Schedule\", \"Total Trips\": 906, \"N Trips\": 798, \"Trip Cutoff\": 15, \"Segment Cutoff\": 0.8, \"Cutoff\": \"15+ min & 80.0%+ segments\", \"Pct Usable Trips\": 0.8807947019867549}, {\"Gtfs Dataset Key\": \"c9ec81d837b7ef2feedcea2c940f15d4\", \"Name\": \"Nevada County Schedule\", \"Total Trips\": 109, \"N Trips\": 86, \"Trip Cutoff\": 15, \"Segment Cutoff\": 0.8, \"Cutoff\": \"15+ min & 80.0%+ segments\", \"Pct Usable Trips\": 0.7889908256880734}, {\"Gtfs Dataset Key\": \"cb28d936a30d08f64661c81751af4382\", \"Name\": \"LA Metro Rail Schedule\", \"Total Trips\": 1224, \"N Trips\": 505, \"Trip Cutoff\": 15, \"Segment Cutoff\": 0.8, \"Cutoff\": \"15+ min & 80.0%+ segments\", \"Pct Usable Trips\": 0.4125816993464052}, {\"Gtfs Dataset Key\": \"d2f0224819832ba7d0039ff5e84c5bdd\", \"Name\": \"Victor Valley GMV Schedule\", \"Total Trips\": 817, \"N Trips\": 745, \"Trip Cutoff\": 15, \"Segment Cutoff\": 0.8, \"Cutoff\": \"15+ min & 80.0%+ segments\", \"Pct Usable Trips\": 0.9118727050183598}, {\"Gtfs Dataset Key\": \"d41e4cfdd42950bde9876c5dc670017d\", \"Name\": \"BruinBus Schedule\", \"Total Trips\": 5, \"N Trips\": 5, \"Trip Cutoff\": 15, \"Segment Cutoff\": 0.8, \"Cutoff\": \"15+ min & 80.0%+ segments\", \"Pct Usable Trips\": 1.0}, {\"Gtfs Dataset Key\": \"dac1d3922d8cb62f5feba57d5fdfb012\", \"Name\": \"Torrance Schedule\", \"Total Trips\": 101, \"N Trips\": 77, \"Trip Cutoff\": 15, \"Segment Cutoff\": 0.8, \"Cutoff\": \"15+ min & 80.0%+ segments\", \"Pct Usable Trips\": 0.7623762376237624}, {\"Gtfs Dataset Key\": \"ddc9965fcbf3beaba6d2cb40a3e67c1e\", \"Name\": \"Bay Area 511 San Francisco Bay Ferry Schedule\", \"Total Trips\": 149, \"N Trips\": 4, \"Trip Cutoff\": 15, \"Segment Cutoff\": 0.8, \"Cutoff\": \"15+ min & 80.0%+ segments\", \"Pct Usable Trips\": 0.026845637583892617}, {\"Gtfs Dataset Key\": \"e70b24e4d4931a9ada95fc76a2b53e9b\", \"Name\": \"StanRTA Schedule\", \"Total Trips\": 700, \"N Trips\": 605, \"Trip Cutoff\": 15, \"Segment Cutoff\": 0.8, \"Cutoff\": \"15+ min & 80.0%+ segments\", \"Pct Usable Trips\": 0.8642857142857143}, {\"Gtfs Dataset Key\": \"e88d7f9e3c43ddf41c75c94d12a440a9\", \"Name\": \"Bear Schedule\", \"Total Trips\": 151, \"N Trips\": 78, \"Trip Cutoff\": 15, \"Segment Cutoff\": 0.8, \"Cutoff\": \"15+ min & 80.0%+ segments\", \"Pct Usable Trips\": 0.5165562913907285}, {\"Gtfs Dataset Key\": \"ee4a7698aa24503c4058d10c238e6f8a\", \"Name\": \"Humboldt Schedule\", \"Total Trips\": 112, \"N Trips\": 79, \"Trip Cutoff\": 15, \"Segment Cutoff\": 0.8, \"Cutoff\": \"15+ min & 80.0%+ segments\", \"Pct Usable Trips\": 0.7053571428571429}, {\"Gtfs Dataset Key\": \"ee901494c3e6dabe62812966c94fa34c\", \"Name\": \"Santa Ynez Schedule\", \"Total Trips\": 25, \"N Trips\": 16, \"Trip Cutoff\": 15, \"Segment Cutoff\": 0.8, \"Cutoff\": \"15+ min & 80.0%+ segments\", \"Pct Usable Trips\": 0.64}, {\"Gtfs Dataset Key\": \"f09062d4bb1cb04b59bdc8232f0cfc90\", \"Name\": \"Turlock Schedule\", \"Total Trips\": 270, \"N Trips\": 165, \"Trip Cutoff\": 15, \"Segment Cutoff\": 0.8, \"Cutoff\": \"15+ min & 80.0%+ segments\", \"Pct Usable Trips\": 0.6111111111111112}, {\"Gtfs Dataset Key\": \"f1497340b654f3ce925f8b8c2f83e1c2\", \"Name\": \"Riverside Schedule\", \"Total Trips\": 1094, \"N Trips\": 1053, \"Trip Cutoff\": 15, \"Segment Cutoff\": 0.8, \"Cutoff\": \"15+ min & 80.0%+ segments\", \"Pct Usable Trips\": 0.9625228519195612}]}}, {\"mode\": \"vega-lite\"});\n",
       "</script>"
      ],
      "text/plain": [
       "alt.Chart(...)"
      ]
     },
     "execution_count": 41,
     "metadata": {},
     "output_type": "execute_result"
    }
   ],
   "source": [
    "operator_trip_chart(valid_stats)"
   ]
  },
  {
   "cell_type": "markdown",
   "id": "b19e790d-4467-462e-b3a0-c375639cac8d",
   "metadata": {},
   "source": [
    "### Statewide\n",
    "#### Statewide Routes by Cutoff"
   ]
  },
  {
   "cell_type": "code",
   "execution_count": 42,
   "id": "74079d15-4d99-4335-b9ba-6339b84eaf36",
   "metadata": {},
   "outputs": [],
   "source": [
    "trips_routes_shape = merge_trips_routes_longest_shape()"
   ]
  },
  {
   "cell_type": "code",
   "execution_count": 43,
   "id": "015a523e-3c8a-47c9-a7e7-d03a254aa1ec",
   "metadata": {},
   "outputs": [],
   "source": [
    "trip_stats = catalog.trip_stats.read()"
   ]
  },
  {
   "cell_type": "code",
   "execution_count": 44,
   "id": "a67f5da0-2ce6-4f2c-baaa-349127cec637",
   "metadata": {},
   "outputs": [],
   "source": [
    "# trip_stats.columns, trips_routes_shape.columns"
   ]
  },
  {
   "cell_type": "code",
   "execution_count": 60,
   "id": "e3426938-6a3d-4349-96d8-57cd1c2e51ff",
   "metadata": {},
   "outputs": [],
   "source": [
    "def statewide_summary():\n",
    "    trips_routes_shape = merge_trips_routes_longest_shape()\n",
    "    trip_stats = catalog.trip_stats.read()\n",
    "\n",
    "    m1 = trip_stats.merge(\n",
    "        trips_routes_shape.drop(columns=[\"route_length_percentage\"]),\n",
    "        how=\"inner\",\n",
    "        on=[\"gtfs_dataset_key\", \"route_dir_identifier\"],\n",
    "    )\n",
    "\n",
    "    m1 = m1.assign(\n",
    "        pct_vp_segments=m1.num_segments_with_vp.divide(m1.total_segments),\n",
    "        trip_time=((m1.trip_end - m1.trip_start) / np.timedelta64(1, \"s\")) / 60,\n",
    "        total_routes=m1.groupby(\"route_id\").trip_id.transform(\"nunique\"),\n",
    "    )\n",
    "\n",
    "    return m1"
   ]
  },
  {
   "cell_type": "code",
   "execution_count": 61,
   "id": "b8e37ad5-dea9-408c-8197-af56d9ae2965",
   "metadata": {},
   "outputs": [],
   "source": [
    "statewide = statewide_summary()"
   ]
  },
  {
   "cell_type": "code",
   "execution_count": 63,
   "id": "1956c56d-fac9-459a-b815-9df356415261",
   "metadata": {},
   "outputs": [
    {
     "data": {
      "text/html": [
       "<div>\n",
       "<style scoped>\n",
       "    .dataframe tbody tr th:only-of-type {\n",
       "        vertical-align: middle;\n",
       "    }\n",
       "\n",
       "    .dataframe tbody tr th {\n",
       "        vertical-align: top;\n",
       "    }\n",
       "\n",
       "    .dataframe thead th {\n",
       "        text-align: right;\n",
       "    }\n",
       "</style>\n",
       "<table border=\"1\" class=\"dataframe\">\n",
       "  <thead>\n",
       "    <tr style=\"text-align: right;\">\n",
       "      <th></th>\n",
       "      <th>gtfs_dataset_key</th>\n",
       "      <th>_gtfs_dataset_name</th>\n",
       "      <th>trip_id</th>\n",
       "      <th>route_dir_identifier</th>\n",
       "      <th>trip_start</th>\n",
       "      <th>trip_end</th>\n",
       "      <th>num_segments_with_vp</th>\n",
       "      <th>route_id</th>\n",
       "      <th>name</th>\n",
       "      <th>shape_id</th>\n",
       "      <th>longest_shape_id</th>\n",
       "      <th>total_segments</th>\n",
       "      <th>pct_vp_segments</th>\n",
       "      <th>trip_time</th>\n",
       "      <th>total_routes</th>\n",
       "    </tr>\n",
       "  </thead>\n",
       "  <tbody>\n",
       "    <tr>\n",
       "      <th>57780</th>\n",
       "      <td>644cf39285755e8ba2dc68597faa48aa</td>\n",
       "      <td>Bay Area 511 Muni VehiclePositions</td>\n",
       "      <td>11055160_M11</td>\n",
       "      <td>357230687</td>\n",
       "      <td>2023-01-18 13:07:17+00:00</td>\n",
       "      <td>2023-01-18 13:25:14+00:00</td>\n",
       "      <td>7</td>\n",
       "      <td>14</td>\n",
       "      <td>Bay Area 511 Muni Schedule</td>\n",
       "      <td>1450</td>\n",
       "      <td>1452</td>\n",
       "      <td>13</td>\n",
       "      <td>0.54</td>\n",
       "      <td>17.95</td>\n",
       "      <td>602</td>\n",
       "    </tr>\n",
       "  </tbody>\n",
       "</table>\n",
       "</div>"
      ],
      "text/plain": [
       "                       gtfs_dataset_key                  _gtfs_dataset_name  \\\n",
       "57780  644cf39285755e8ba2dc68597faa48aa  Bay Area 511 Muni VehiclePositions   \n",
       "\n",
       "            trip_id  route_dir_identifier                trip_start  \\\n",
       "57780  11055160_M11             357230687 2023-01-18 13:07:17+00:00   \n",
       "\n",
       "                       trip_end  num_segments_with_vp route_id  \\\n",
       "57780 2023-01-18 13:25:14+00:00                     7       14   \n",
       "\n",
       "                             name shape_id longest_shape_id  total_segments  \\\n",
       "57780  Bay Area 511 Muni Schedule     1450             1452              13   \n",
       "\n",
       "       pct_vp_segments  trip_time  total_routes  \n",
       "57780             0.54      17.95           602  "
      ]
     },
     "execution_count": 63,
     "metadata": {},
     "output_type": "execute_result"
    }
   ],
   "source": [
    "statewide.sample()"
   ]
  },
  {
   "cell_type": "code",
   "execution_count": 64,
   "id": "8ace1f6a-0910-4083-bb75-00a442736bfc",
   "metadata": {},
   "outputs": [],
   "source": [
    "def route_thresholds_time_only(df, time_cutoffs: list):\n",
    "\n",
    "    total_unique_routes = df.route_id.nunique()\n",
    "\n",
    "    # Find stats for all operators\n",
    "    all_operators = pd.DataFrame()\n",
    "    for t in time_cutoffs:\n",
    "        valid = (\n",
    "            df[(df.trip_time >= t)][[\"route_id\"]]\n",
    "            .nunique()\n",
    "            .reset_index()\n",
    "            .rename(columns={0: \"Total Routes in Category\"})\n",
    "        )\n",
    "\n",
    "        valid = valid.assign(route_cutoff=t, cutoff=f\"{t}+ min\")\n",
    "\n",
    "        all_operators = pd.concat([all_operators, valid], axis=0)\n",
    "\n",
    "    all_operators = all_operators.assign(\n",
    "        total_routes=total_unique_routes,\n",
    "        pct_usable_routes=all_operators[\"Total Routes in Category\"].divide(\n",
    "            total_unique_routes\n",
    "        ),\n",
    "        calitp_itp_id=\"all operators\",\n",
    "    )\n",
    "\n",
    "    return all_operators"
   ]
  },
  {
   "cell_type": "code",
   "execution_count": 65,
   "id": "4044020a-1bbc-44e1-9574-1f76efee7448",
   "metadata": {},
   "outputs": [],
   "source": [
    "def route_thresholds(df, time_cutoffs: list, segment_cutoffs: list):\n",
    "\n",
    "    total_unique_routes = df.route_id.nunique()\n",
    "\n",
    "    # Find stats for all operators\n",
    "    all_operators = pd.DataFrame()\n",
    "\n",
    "    for t in time_cutoffs:\n",
    "        for s in segment_cutoffs:\n",
    "            valid = (\n",
    "                df[(df.trip_time >= t) & (df.pct_vp_segments >= s)][[\"route_id\"]]\n",
    "                .nunique()\n",
    "                .reset_index()\n",
    "                .rename(columns={0: \"Total Routes in Category\"})\n",
    "            )\n",
    "\n",
    "            valid = valid.assign(\n",
    "                time_cutoff=t,\n",
    "                segment_cutoff=s,\n",
    "                route_cutoff=f\"{t}+ min & {s*100}%+ segments\",\n",
    "                total_routes=total_unique_routes,\n",
    "                pct_usable_routes=valid[\"Total Routes in Category\"].divide(\n",
    "                    total_unique_routes\n",
    "                ),\n",
    "            )\n",
    "\n",
    "            all_operators = pd.concat([all_operators, valid], axis=0)\n",
    "\n",
    "    return all_operators"
   ]
  },
  {
   "cell_type": "code",
   "execution_count": 66,
   "id": "2a163196-5a2f-43e4-8098-6753e9291bc1",
   "metadata": {},
   "outputs": [],
   "source": [
    "statewide_thresholds = route_thresholds(statewide, TIME_CUTOFFS, SEGMENT_CUTOFFS)"
   ]
  },
  {
   "cell_type": "code",
   "execution_count": 67,
   "id": "8e358b55-32ea-4b94-a009-c61ac1925019",
   "metadata": {},
   "outputs": [
    {
     "data": {
      "text/html": [
       "\n",
       "<div id=\"altair-viz-f46fa2c1a41d44cf9e8bc41437663128\"></div>\n",
       "<script type=\"text/javascript\">\n",
       "  var VEGA_DEBUG = (typeof VEGA_DEBUG == \"undefined\") ? {} : VEGA_DEBUG;\n",
       "  (function(spec, embedOpt){\n",
       "    let outputDiv = document.currentScript.previousElementSibling;\n",
       "    if (outputDiv.id !== \"altair-viz-f46fa2c1a41d44cf9e8bc41437663128\") {\n",
       "      outputDiv = document.getElementById(\"altair-viz-f46fa2c1a41d44cf9e8bc41437663128\");\n",
       "    }\n",
       "    const paths = {\n",
       "      \"vega\": \"https://cdn.jsdelivr.net/npm//vega@5?noext\",\n",
       "      \"vega-lib\": \"https://cdn.jsdelivr.net/npm//vega-lib?noext\",\n",
       "      \"vega-lite\": \"https://cdn.jsdelivr.net/npm//vega-lite@4.17.0?noext\",\n",
       "      \"vega-embed\": \"https://cdn.jsdelivr.net/npm//vega-embed@6?noext\",\n",
       "    };\n",
       "\n",
       "    function maybeLoadScript(lib, version) {\n",
       "      var key = `${lib.replace(\"-\", \"\")}_version`;\n",
       "      return (VEGA_DEBUG[key] == version) ?\n",
       "        Promise.resolve(paths[lib]) :\n",
       "        new Promise(function(resolve, reject) {\n",
       "          var s = document.createElement('script');\n",
       "          document.getElementsByTagName(\"head\")[0].appendChild(s);\n",
       "          s.async = true;\n",
       "          s.onload = () => {\n",
       "            VEGA_DEBUG[key] = version;\n",
       "            return resolve(paths[lib]);\n",
       "          };\n",
       "          s.onerror = () => reject(`Error loading script: ${paths[lib]}`);\n",
       "          s.src = paths[lib];\n",
       "        });\n",
       "    }\n",
       "\n",
       "    function showError(err) {\n",
       "      outputDiv.innerHTML = `<div class=\"error\" style=\"color:red;\">${err}</div>`;\n",
       "      throw err;\n",
       "    }\n",
       "\n",
       "    function displayChart(vegaEmbed) {\n",
       "      vegaEmbed(outputDiv, spec, embedOpt)\n",
       "        .catch(err => showError(`Javascript Error: ${err.message}<br>This usually means there's a typo in your chart specification. See the javascript console for the full traceback.`));\n",
       "    }\n",
       "\n",
       "    if(typeof define === \"function\" && define.amd) {\n",
       "      requirejs.config({paths});\n",
       "      require([\"vega-embed\"], displayChart, err => showError(`Error loading script: ${err.message}`));\n",
       "    } else {\n",
       "      maybeLoadScript(\"vega\", \"5\")\n",
       "        .then(() => maybeLoadScript(\"vega-lite\", \"4.17.0\"))\n",
       "        .then(() => maybeLoadScript(\"vega-embed\", \"6\"))\n",
       "        .catch(showError)\n",
       "        .then(() => displayChart(vegaEmbed));\n",
       "    }\n",
       "  })({\"config\": {\"view\": {\"continuousWidth\": 400, \"continuousHeight\": 300}}, \"data\": {\"name\": \"data-adb7f02c12d05aeb6eee5c951163ed40\"}, \"mark\": \"bar\", \"encoding\": {\"color\": {\"field\": \"route_cutoff\", \"scale\": {\"range\": [\"#2EA8CE\", \"#EB9F3C\", \"#F4D837\", \"#51BF9D\", \"#8CBCCB\", \"#9487C0\"]}, \"type\": \"nominal\"}, \"tooltip\": [{\"field\": \"total_routes\", \"type\": \"quantitative\"}, {\"field\": \"route_cutoff\", \"type\": \"nominal\"}, {\"field\": \"Total Routes in Category\", \"type\": \"quantitative\"}, {\"field\": \"pct_usable_routes\", \"type\": \"quantitative\"}], \"x\": {\"field\": \"pct_usable_routes\", \"sort\": {\"field\": \"pct_usable_routes\", \"order\": \"descending\"}, \"type\": \"quantitative\"}, \"y\": {\"field\": \"route_cutoff\", \"sort\": {\"field\": \"pct_usable_routes\", \"order\": \"descending\"}, \"type\": \"nominal\"}}, \"title\": \"Percentage of Usable Routes\", \"$schema\": \"https://vega.github.io/schema/vega-lite/v4.17.0.json\", \"datasets\": {\"data-adb7f02c12d05aeb6eee5c951163ed40\": [{\"index\": \"route_id\", \"Total Routes in Category\": 1014, \"time_cutoff\": 5, \"segment_cutoff\": 0.2, \"route_cutoff\": \"5+ min & 20.0%+ segments\", \"total_routes\": 1022, \"pct_usable_routes\": 0.9921722113502935}, {\"index\": \"route_id\", \"Total Routes in Category\": 1009, \"time_cutoff\": 5, \"segment_cutoff\": 0.4, \"route_cutoff\": \"5+ min & 40.0%+ segments\", \"total_routes\": 1022, \"pct_usable_routes\": 0.987279843444227}, {\"index\": \"route_id\", \"Total Routes in Category\": 1003, \"time_cutoff\": 5, \"segment_cutoff\": 0.6, \"route_cutoff\": \"5+ min & 60.0%+ segments\", \"total_routes\": 1022, \"pct_usable_routes\": 0.9814090019569471}, {\"index\": \"route_id\", \"Total Routes in Category\": 994, \"time_cutoff\": 5, \"segment_cutoff\": 0.8, \"route_cutoff\": \"5+ min & 80.0%+ segments\", \"total_routes\": 1022, \"pct_usable_routes\": 0.9726027397260274}, {\"index\": \"route_id\", \"Total Routes in Category\": 1012, \"time_cutoff\": 10, \"segment_cutoff\": 0.2, \"route_cutoff\": \"10+ min & 20.0%+ segments\", \"total_routes\": 1022, \"pct_usable_routes\": 0.9902152641878669}, {\"index\": \"route_id\", \"Total Routes in Category\": 1008, \"time_cutoff\": 10, \"segment_cutoff\": 0.4, \"route_cutoff\": \"10+ min & 40.0%+ segments\", \"total_routes\": 1022, \"pct_usable_routes\": 0.9863013698630136}, {\"index\": \"route_id\", \"Total Routes in Category\": 1003, \"time_cutoff\": 10, \"segment_cutoff\": 0.6, \"route_cutoff\": \"10+ min & 60.0%+ segments\", \"total_routes\": 1022, \"pct_usable_routes\": 0.9814090019569471}, {\"index\": \"route_id\", \"Total Routes in Category\": 994, \"time_cutoff\": 10, \"segment_cutoff\": 0.8, \"route_cutoff\": \"10+ min & 80.0%+ segments\", \"total_routes\": 1022, \"pct_usable_routes\": 0.9726027397260274}, {\"index\": \"route_id\", \"Total Routes in Category\": 1008, \"time_cutoff\": 15, \"segment_cutoff\": 0.2, \"route_cutoff\": \"15+ min & 20.0%+ segments\", \"total_routes\": 1022, \"pct_usable_routes\": 0.9863013698630136}, {\"index\": \"route_id\", \"Total Routes in Category\": 1004, \"time_cutoff\": 15, \"segment_cutoff\": 0.4, \"route_cutoff\": \"15+ min & 40.0%+ segments\", \"total_routes\": 1022, \"pct_usable_routes\": 0.9823874755381604}, {\"index\": \"route_id\", \"Total Routes in Category\": 999, \"time_cutoff\": 15, \"segment_cutoff\": 0.6, \"route_cutoff\": \"15+ min & 60.0%+ segments\", \"total_routes\": 1022, \"pct_usable_routes\": 0.9774951076320939}, {\"index\": \"route_id\", \"Total Routes in Category\": 990, \"time_cutoff\": 15, \"segment_cutoff\": 0.8, \"route_cutoff\": \"15+ min & 80.0%+ segments\", \"total_routes\": 1022, \"pct_usable_routes\": 0.9686888454011742}]}}, {\"mode\": \"vega-lite\"});\n",
       "</script>"
      ],
      "text/plain": [
       "alt.Chart(...)"
      ]
     },
     "execution_count": 67,
     "metadata": {},
     "output_type": "execute_result"
    }
   ],
   "source": [
    "(\n",
    "    alt.Chart(statewide_thresholds)\n",
    "    .mark_bar()\n",
    "    .encode(\n",
    "        x=alt.X(\n",
    "            \"pct_usable_routes:Q\",\n",
    "            sort=alt.SortField(\"pct_usable_routes\", order=\"descending\"),\n",
    "        ),\n",
    "        y=alt.Y(\n",
    "            \"route_cutoff:N\",\n",
    "            sort=alt.SortField(\"pct_usable_routes\", order=\"descending\"),\n",
    "        ),\n",
    "        color=alt.Color(\n",
    "            \"route_cutoff:N\", scale=alt.Scale(range=cp.CALITP_CATEGORY_BRIGHT_COLORS)\n",
    "        ),\n",
    "        tooltip=[\n",
    "            \"total_routes\",\n",
    "            \"route_cutoff\",\n",
    "            \"Total Routes in Category\",\n",
    "            \"pct_usable_routes\",\n",
    "        ],\n",
    "    )\n",
    "    .properties(title=f\"Percentage of Usable Routes\")\n",
    ")"
   ]
  },
  {
   "cell_type": "markdown",
   "id": "009b7247-eb37-4153-a50a-5dbc765c67da",
   "metadata": {},
   "source": [
    "#### Route Thresholds by Operators"
   ]
  },
  {
   "cell_type": "code",
   "execution_count": 68,
   "id": "d416208d-2d79-43ab-8c25-6942970b0bd5",
   "metadata": {},
   "outputs": [],
   "source": [
    "# Find stats for all operators\n",
    "empty_df = pd.DataFrame()"
   ]
  },
  {
   "cell_type": "code",
   "execution_count": 69,
   "id": "5446a7ca-3411-461b-9b34-e8feccf6c744",
   "metadata": {},
   "outputs": [],
   "source": [
    "# Subset statewide to only 2 operators\n",
    "subset = statewide[statewide[\"name\"].isin(['Big Blue Bus Schedule','Bay Area 511 AC Transit Schedule',])].reset_index(drop = True)"
   ]
  },
  {
   "cell_type": "code",
   "execution_count": 70,
   "id": "a7379be3-607f-41c3-b882-bd9096722c9e",
   "metadata": {},
   "outputs": [
    {
     "data": {
      "text/plain": [
       "array(['Bay Area 511 AC Transit Schedule', 'Big Blue Bus Schedule'],\n",
       "      dtype=object)"
      ]
     },
     "execution_count": 70,
     "metadata": {},
     "output_type": "execute_result"
    }
   ],
   "source": [
    "subset.name.unique()"
   ]
  },
  {
   "cell_type": "code",
   "execution_count": 71,
   "id": "f583a75a-42dd-4293-bf7c-8f1b47bd3f64",
   "metadata": {},
   "outputs": [],
   "source": [
    "for o in subset.name.unique().tolist():\n",
    "    for t in TIME_CUTOFFS:\n",
    "        for s in SEGMENT_CUTOFFS:\n",
    "            valid = subset.loc[subset.name == o].reset_index(drop = True)\n",
    "            total_unique_routes = valid.route_id.nunique() \n",
    "            operator = valid.head(1).iloc[0][\"name\"]\n",
    "            valid = (\n",
    "                    valid[(valid.trip_time >= t) & (valid.pct_vp_segments >= s)][[\"route_id\"]]\n",
    "                    .nunique()\n",
    "                    .reset_index()\n",
    "                    .rename(columns={0: \"Total Routes in Category\"})\n",
    "                )\n",
    "\n",
    "            valid = valid.assign(\n",
    "                time_cutoff=t,\n",
    "                segment_cutoff=s,\n",
    "                name = operator,\n",
    "                route_cutoff=f\"{t}+ min & {s*100}%+ segments\",\n",
    "                total_routes=total_unique_routes,\n",
    "                pct_usable_routes=valid[\"Total Routes in Category\"].divide(\n",
    "                    total_unique_routes\n",
    "                ),\n",
    "            )\n",
    "\n",
    "            empty_df = pd.concat([empty_df, valid], axis=0)"
   ]
  },
  {
   "cell_type": "code",
   "execution_count": 75,
   "id": "4f73e8bb-fb28-4a4c-93d0-679b4fcbdcf4",
   "metadata": {},
   "outputs": [
    {
     "data": {
      "text/html": [
       "<div>\n",
       "<style scoped>\n",
       "    .dataframe tbody tr th:only-of-type {\n",
       "        vertical-align: middle;\n",
       "    }\n",
       "\n",
       "    .dataframe tbody tr th {\n",
       "        vertical-align: top;\n",
       "    }\n",
       "\n",
       "    .dataframe thead th {\n",
       "        text-align: right;\n",
       "    }\n",
       "</style>\n",
       "<table border=\"1\" class=\"dataframe\">\n",
       "  <thead>\n",
       "    <tr style=\"text-align: right;\">\n",
       "      <th></th>\n",
       "      <th>index</th>\n",
       "      <th>Total Routes in Category</th>\n",
       "      <th>time_cutoff</th>\n",
       "      <th>segment_cutoff</th>\n",
       "      <th>name</th>\n",
       "      <th>route_cutoff</th>\n",
       "      <th>total_routes</th>\n",
       "      <th>pct_usable_routes</th>\n",
       "    </tr>\n",
       "  </thead>\n",
       "  <tbody>\n",
       "    <tr>\n",
       "      <th>0</th>\n",
       "      <td>route_id</td>\n",
       "      <td>127</td>\n",
       "      <td>15</td>\n",
       "      <td>0.60</td>\n",
       "      <td>Bay Area 511 AC Transit Schedule</td>\n",
       "      <td>15+ min &amp; 60.0%+ segments</td>\n",
       "      <td>129</td>\n",
       "      <td>0.98</td>\n",
       "    </tr>\n",
       "  </tbody>\n",
       "</table>\n",
       "</div>"
      ],
      "text/plain": [
       "      index  Total Routes in Category  time_cutoff  segment_cutoff  \\\n",
       "0  route_id                       127           15            0.60   \n",
       "\n",
       "                               name               route_cutoff  total_routes  \\\n",
       "0  Bay Area 511 AC Transit Schedule  15+ min & 60.0%+ segments           129   \n",
       "\n",
       "   pct_usable_routes  \n",
       "0               0.98  "
      ]
     },
     "execution_count": 75,
     "metadata": {},
     "output_type": "execute_result"
    }
   ],
   "source": [
    "empty_df.sample()"
   ]
  },
  {
   "cell_type": "code",
   "execution_count": 81,
   "id": "2ce4f259-73f2-455f-9162-18acbb193f19",
   "metadata": {},
   "outputs": [
    {
     "data": {
      "text/plain": [
       "Index(['index', 'Total Routes in Category', 'time_cutoff', 'segment_cutoff',\n",
       "       'name', 'route_cutoff', 'total_routes', 'pct_usable_routes'],\n",
       "      dtype='object')"
      ]
     },
     "execution_count": 81,
     "metadata": {},
     "output_type": "execute_result"
    }
   ],
   "source": [
    "empty_df.columns"
   ]
  },
  {
   "cell_type": "code",
   "execution_count": 114,
   "id": "dee6edfa-ece0-47ea-8fcd-64786e8ea95e",
   "metadata": {
    "tags": []
   },
   "outputs": [
    {
     "data": {
      "text/plain": [
       "['Bay Area 511 AC Transit Schedule', 'Big Blue Bus Schedule']"
      ]
     },
     "execution_count": 114,
     "metadata": {},
     "output_type": "execute_result"
    }
   ],
   "source": [
    "empty_df.name.sort_values().unique().tolist()"
   ]
  },
  {
   "cell_type": "code",
   "execution_count": 115,
   "id": "3474c66c-654d-4e55-a06f-4b6b1f004271",
   "metadata": {},
   "outputs": [],
   "source": [
    "# Dropdown menu 1\n",
    "dropdown1 = alt.binding_select(\n",
    "        options=empty_df.name.unique().tolist(), name=\"name\")"
   ]
  },
  {
   "cell_type": "code",
   "execution_count": 116,
   "id": "d9b24be0-bad3-4248-9fc8-d91f0e96d632",
   "metadata": {},
   "outputs": [],
   "source": [
    "selection1 = alt.selection_single(fields=[\"name\"], bind=dropdown1)"
   ]
  },
  {
   "cell_type": "code",
   "execution_count": 120,
   "id": "9b09aeb4-3c1a-4027-8de2-530f16677a0f",
   "metadata": {},
   "outputs": [
    {
     "data": {
      "text/html": [
       "\n",
       "<div id=\"altair-viz-7569762a822448bda076211ed328904e\"></div>\n",
       "<script type=\"text/javascript\">\n",
       "  var VEGA_DEBUG = (typeof VEGA_DEBUG == \"undefined\") ? {} : VEGA_DEBUG;\n",
       "  (function(spec, embedOpt){\n",
       "    let outputDiv = document.currentScript.previousElementSibling;\n",
       "    if (outputDiv.id !== \"altair-viz-7569762a822448bda076211ed328904e\") {\n",
       "      outputDiv = document.getElementById(\"altair-viz-7569762a822448bda076211ed328904e\");\n",
       "    }\n",
       "    const paths = {\n",
       "      \"vega\": \"https://cdn.jsdelivr.net/npm//vega@5?noext\",\n",
       "      \"vega-lib\": \"https://cdn.jsdelivr.net/npm//vega-lib?noext\",\n",
       "      \"vega-lite\": \"https://cdn.jsdelivr.net/npm//vega-lite@4.17.0?noext\",\n",
       "      \"vega-embed\": \"https://cdn.jsdelivr.net/npm//vega-embed@6?noext\",\n",
       "    };\n",
       "\n",
       "    function maybeLoadScript(lib, version) {\n",
       "      var key = `${lib.replace(\"-\", \"\")}_version`;\n",
       "      return (VEGA_DEBUG[key] == version) ?\n",
       "        Promise.resolve(paths[lib]) :\n",
       "        new Promise(function(resolve, reject) {\n",
       "          var s = document.createElement('script');\n",
       "          document.getElementsByTagName(\"head\")[0].appendChild(s);\n",
       "          s.async = true;\n",
       "          s.onload = () => {\n",
       "            VEGA_DEBUG[key] = version;\n",
       "            return resolve(paths[lib]);\n",
       "          };\n",
       "          s.onerror = () => reject(`Error loading script: ${paths[lib]}`);\n",
       "          s.src = paths[lib];\n",
       "        });\n",
       "    }\n",
       "\n",
       "    function showError(err) {\n",
       "      outputDiv.innerHTML = `<div class=\"error\" style=\"color:red;\">${err}</div>`;\n",
       "      throw err;\n",
       "    }\n",
       "\n",
       "    function displayChart(vegaEmbed) {\n",
       "      vegaEmbed(outputDiv, spec, embedOpt)\n",
       "        .catch(err => showError(`Javascript Error: ${err.message}<br>This usually means there's a typo in your chart specification. See the javascript console for the full traceback.`));\n",
       "    }\n",
       "\n",
       "    if(typeof define === \"function\" && define.amd) {\n",
       "      requirejs.config({paths});\n",
       "      require([\"vega-embed\"], displayChart, err => showError(`Error loading script: ${err.message}`));\n",
       "    } else {\n",
       "      maybeLoadScript(\"vega\", \"5\")\n",
       "        .then(() => maybeLoadScript(\"vega-lite\", \"4.17.0\"))\n",
       "        .then(() => maybeLoadScript(\"vega-embed\", \"6\"))\n",
       "        .catch(showError)\n",
       "        .then(() => displayChart(vegaEmbed));\n",
       "    }\n",
       "  })({\"config\": {\"view\": {\"continuousWidth\": 400, \"continuousHeight\": 300}}, \"data\": {\"name\": \"data-43db13d098a2c05cb9cfeb26a8159a31\"}, \"mark\": \"bar\", \"encoding\": {\"color\": {\"field\": \"route_cutoff\", \"scale\": {\"range\": [\"#2EA8CE\", \"#EB9F3C\", \"#F4D837\", \"#51BF9D\", \"#8CBCCB\", \"#9487C0\"]}, \"type\": \"nominal\"}, \"tooltip\": [{\"field\": \"total_routes\", \"type\": \"quantitative\"}, {\"field\": \"route_cutoff\", \"type\": \"nominal\"}, {\"field\": \"Total Routes in Category\", \"type\": \"quantitative\"}, {\"field\": \"pct_usable_routes\", \"type\": \"quantitative\"}], \"x\": {\"field\": \"pct_usable_routes\", \"type\": \"quantitative\"}, \"y\": {\"field\": \"route_cutoff\", \"type\": \"nominal\"}}, \"title\": \"Percentage of Usable Routes\", \"$schema\": \"https://vega.github.io/schema/vega-lite/v4.17.0.json\", \"datasets\": {\"data-43db13d098a2c05cb9cfeb26a8159a31\": [{\"index\": \"route_id\", \"Total Routes in Category\": 128, \"time_cutoff\": 5, \"segment_cutoff\": 0.2, \"name\": \"Bay Area 511 AC Transit Schedule\", \"route_cutoff\": \"5+ min & 20.0%+ segments\", \"total_routes\": 129, \"pct_usable_routes\": 0.9922480620155039}, {\"index\": \"route_id\", \"Total Routes in Category\": 128, \"time_cutoff\": 5, \"segment_cutoff\": 0.4, \"name\": \"Bay Area 511 AC Transit Schedule\", \"route_cutoff\": \"5+ min & 40.0%+ segments\", \"total_routes\": 129, \"pct_usable_routes\": 0.9922480620155039}, {\"index\": \"route_id\", \"Total Routes in Category\": 127, \"time_cutoff\": 5, \"segment_cutoff\": 0.6, \"name\": \"Bay Area 511 AC Transit Schedule\", \"route_cutoff\": \"5+ min & 60.0%+ segments\", \"total_routes\": 129, \"pct_usable_routes\": 0.9844961240310077}, {\"index\": \"route_id\", \"Total Routes in Category\": 126, \"time_cutoff\": 5, \"segment_cutoff\": 0.8, \"name\": \"Bay Area 511 AC Transit Schedule\", \"route_cutoff\": \"5+ min & 80.0%+ segments\", \"total_routes\": 129, \"pct_usable_routes\": 0.9767441860465116}, {\"index\": \"route_id\", \"Total Routes in Category\": 128, \"time_cutoff\": 10, \"segment_cutoff\": 0.2, \"name\": \"Bay Area 511 AC Transit Schedule\", \"route_cutoff\": \"10+ min & 20.0%+ segments\", \"total_routes\": 129, \"pct_usable_routes\": 0.9922480620155039}, {\"index\": \"route_id\", \"Total Routes in Category\": 128, \"time_cutoff\": 10, \"segment_cutoff\": 0.4, \"name\": \"Bay Area 511 AC Transit Schedule\", \"route_cutoff\": \"10+ min & 40.0%+ segments\", \"total_routes\": 129, \"pct_usable_routes\": 0.9922480620155039}, {\"index\": \"route_id\", \"Total Routes in Category\": 127, \"time_cutoff\": 10, \"segment_cutoff\": 0.6, \"name\": \"Bay Area 511 AC Transit Schedule\", \"route_cutoff\": \"10+ min & 60.0%+ segments\", \"total_routes\": 129, \"pct_usable_routes\": 0.9844961240310077}, {\"index\": \"route_id\", \"Total Routes in Category\": 126, \"time_cutoff\": 10, \"segment_cutoff\": 0.8, \"name\": \"Bay Area 511 AC Transit Schedule\", \"route_cutoff\": \"10+ min & 80.0%+ segments\", \"total_routes\": 129, \"pct_usable_routes\": 0.9767441860465116}, {\"index\": \"route_id\", \"Total Routes in Category\": 128, \"time_cutoff\": 15, \"segment_cutoff\": 0.2, \"name\": \"Bay Area 511 AC Transit Schedule\", \"route_cutoff\": \"15+ min & 20.0%+ segments\", \"total_routes\": 129, \"pct_usable_routes\": 0.9922480620155039}, {\"index\": \"route_id\", \"Total Routes in Category\": 128, \"time_cutoff\": 15, \"segment_cutoff\": 0.4, \"name\": \"Bay Area 511 AC Transit Schedule\", \"route_cutoff\": \"15+ min & 40.0%+ segments\", \"total_routes\": 129, \"pct_usable_routes\": 0.9922480620155039}, {\"index\": \"route_id\", \"Total Routes in Category\": 127, \"time_cutoff\": 15, \"segment_cutoff\": 0.6, \"name\": \"Bay Area 511 AC Transit Schedule\", \"route_cutoff\": \"15+ min & 60.0%+ segments\", \"total_routes\": 129, \"pct_usable_routes\": 0.9844961240310077}, {\"index\": \"route_id\", \"Total Routes in Category\": 126, \"time_cutoff\": 15, \"segment_cutoff\": 0.8, \"name\": \"Bay Area 511 AC Transit Schedule\", \"route_cutoff\": \"15+ min & 80.0%+ segments\", \"total_routes\": 129, \"pct_usable_routes\": 0.9767441860465116}, {\"index\": \"route_id\", \"Total Routes in Category\": 18, \"time_cutoff\": 5, \"segment_cutoff\": 0.2, \"name\": \"Big Blue Bus Schedule\", \"route_cutoff\": \"5+ min & 20.0%+ segments\", \"total_routes\": 18, \"pct_usable_routes\": 1.0}, {\"index\": \"route_id\", \"Total Routes in Category\": 18, \"time_cutoff\": 5, \"segment_cutoff\": 0.4, \"name\": \"Big Blue Bus Schedule\", \"route_cutoff\": \"5+ min & 40.0%+ segments\", \"total_routes\": 18, \"pct_usable_routes\": 1.0}, {\"index\": \"route_id\", \"Total Routes in Category\": 18, \"time_cutoff\": 5, \"segment_cutoff\": 0.6, \"name\": \"Big Blue Bus Schedule\", \"route_cutoff\": \"5+ min & 60.0%+ segments\", \"total_routes\": 18, \"pct_usable_routes\": 1.0}, {\"index\": \"route_id\", \"Total Routes in Category\": 18, \"time_cutoff\": 5, \"segment_cutoff\": 0.8, \"name\": \"Big Blue Bus Schedule\", \"route_cutoff\": \"5+ min & 80.0%+ segments\", \"total_routes\": 18, \"pct_usable_routes\": 1.0}, {\"index\": \"route_id\", \"Total Routes in Category\": 18, \"time_cutoff\": 10, \"segment_cutoff\": 0.2, \"name\": \"Big Blue Bus Schedule\", \"route_cutoff\": \"10+ min & 20.0%+ segments\", \"total_routes\": 18, \"pct_usable_routes\": 1.0}, {\"index\": \"route_id\", \"Total Routes in Category\": 18, \"time_cutoff\": 10, \"segment_cutoff\": 0.4, \"name\": \"Big Blue Bus Schedule\", \"route_cutoff\": \"10+ min & 40.0%+ segments\", \"total_routes\": 18, \"pct_usable_routes\": 1.0}, {\"index\": \"route_id\", \"Total Routes in Category\": 18, \"time_cutoff\": 10, \"segment_cutoff\": 0.6, \"name\": \"Big Blue Bus Schedule\", \"route_cutoff\": \"10+ min & 60.0%+ segments\", \"total_routes\": 18, \"pct_usable_routes\": 1.0}, {\"index\": \"route_id\", \"Total Routes in Category\": 18, \"time_cutoff\": 10, \"segment_cutoff\": 0.8, \"name\": \"Big Blue Bus Schedule\", \"route_cutoff\": \"10+ min & 80.0%+ segments\", \"total_routes\": 18, \"pct_usable_routes\": 1.0}, {\"index\": \"route_id\", \"Total Routes in Category\": 18, \"time_cutoff\": 15, \"segment_cutoff\": 0.2, \"name\": \"Big Blue Bus Schedule\", \"route_cutoff\": \"15+ min & 20.0%+ segments\", \"total_routes\": 18, \"pct_usable_routes\": 1.0}, {\"index\": \"route_id\", \"Total Routes in Category\": 18, \"time_cutoff\": 15, \"segment_cutoff\": 0.4, \"name\": \"Big Blue Bus Schedule\", \"route_cutoff\": \"15+ min & 40.0%+ segments\", \"total_routes\": 18, \"pct_usable_routes\": 1.0}, {\"index\": \"route_id\", \"Total Routes in Category\": 18, \"time_cutoff\": 15, \"segment_cutoff\": 0.6, \"name\": \"Big Blue Bus Schedule\", \"route_cutoff\": \"15+ min & 60.0%+ segments\", \"total_routes\": 18, \"pct_usable_routes\": 1.0}, {\"index\": \"route_id\", \"Total Routes in Category\": 18, \"time_cutoff\": 15, \"segment_cutoff\": 0.8, \"name\": \"Big Blue Bus Schedule\", \"route_cutoff\": \"15+ min & 80.0%+ segments\", \"total_routes\": 18, \"pct_usable_routes\": 1.0}]}}, {\"mode\": \"vega-lite\"});\n",
       "</script>"
      ],
      "text/plain": [
       "alt.Chart(...)"
      ]
     },
     "execution_count": 120,
     "metadata": {},
     "output_type": "execute_result"
    }
   ],
   "source": [
    "alt.Chart(empty_df).mark_bar().encode(\n",
    "    x='pct_usable_routes',\n",
    "    y='route_cutoff',\n",
    "    color=alt.Color(\n",
    "            \"route_cutoff:N\", \n",
    "        scale=alt.Scale(range=cp.CALITP_CATEGORY_BRIGHT_COLORS)),\n",
    "        tooltip=[\n",
    "            \"total_routes\",\n",
    "            \"route_cutoff\",\n",
    "            \"Total Routes in Category\",\n",
    "            \"pct_usable_routes\",\n",
    "        ]\n",
    ").properties(title=f\"Percentage of Usable Routes\")\n"
   ]
  },
  {
   "cell_type": "code",
   "execution_count": 110,
   "id": "87bbf8a8-99c7-4556-8faf-7112c2278fc1",
   "metadata": {},
   "outputs": [
    {
     "ename": "NameError",
     "evalue": "name 'm4' is not defined",
     "output_type": "error",
     "traceback": [
      "\u001b[0;31m---------------------------------------------------------------------------\u001b[0m",
      "\u001b[0;31mNameError\u001b[0m                                 Traceback (most recent call last)",
      "Cell \u001b[0;32mIn[110], line 1\u001b[0m\n\u001b[0;32m----> 1\u001b[0m ac \u001b[38;5;241m=\u001b[39m \u001b[43mm4\u001b[49m\u001b[38;5;241m.\u001b[39mloc[m4\u001b[38;5;241m.\u001b[39mname \u001b[38;5;241m==\u001b[39m \u001b[38;5;124m\"\u001b[39m\u001b[38;5;124mBay Area 511 AC Transit Schedule\u001b[39m\u001b[38;5;124m\"\u001b[39m]\u001b[38;5;241m.\u001b[39mreset_index(drop\u001b[38;5;241m=\u001b[39m\u001b[38;5;28;01mTrue\u001b[39;00m)\n",
      "\u001b[0;31mNameError\u001b[0m: name 'm4' is not defined"
     ]
    }
   ],
   "source": [
    "ac = m4.loc[m4.name == \"Bay Area 511 AC Transit Schedule\"].reset_index(drop=True)"
   ]
  },
  {
   "cell_type": "code",
   "execution_count": null,
   "id": "d50d3fc0-d281-4638-bbc2-134cf4e1ea16",
   "metadata": {},
   "outputs": [],
   "source": [
    "ac.shape"
   ]
  },
  {
   "cell_type": "code",
   "execution_count": null,
   "id": "e4bacca4-cfd9-4b41-82d2-4af8a0073b39",
   "metadata": {},
   "outputs": [],
   "source": [
    "ac = (\n",
    "    ac.groupby([\"name\", \"route_id\", \"shape_id\"])\n",
    "    .agg({\"route_length_percentage\": \"max\"})\n",
    "    .reset_index()\n",
    ")"
   ]
  },
  {
   "cell_type": "code",
   "execution_count": null,
   "id": "5ad408cf-f822-4d43-b94f-a1ba6dc19164",
   "metadata": {},
   "outputs": [],
   "source": [
    "(\n",
    "    alt.Chart(ac)\n",
    "    .mark_boxplot(extent=\"min-max\")\n",
    "    .encode(\n",
    "        x=\"route_id:N\",\n",
    "        y=\"route_length_percentage:Q\",\n",
    "        color=alt.Color(\n",
    "            \"route_id\",\n",
    "            scale=alt.Scale(range=cp.CALITP_CATEGORY_BRIGHT_COLORS),\n",
    "            legend=None,\n",
    "        ),\n",
    "    )\n",
    ").properties(title=f\"AC Test\")"
   ]
  }
 ],
 "metadata": {
  "kernelspec": {
   "display_name": "Python 3 (ipykernel)",
   "language": "python",
   "name": "python3"
  },
  "language_info": {
   "codemirror_mode": {
    "name": "ipython",
    "version": 3
   },
   "file_extension": ".py",
   "mimetype": "text/x-python",
   "name": "python",
   "nbconvert_exporter": "python",
   "pygments_lexer": "ipython3",
   "version": "3.9.13"
  }
 },
 "nbformat": 4,
 "nbformat_minor": 5
}
