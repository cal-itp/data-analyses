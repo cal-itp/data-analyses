{
 "cells": [
  {
   "cell_type": "markdown",
   "id": "c450f634-0491-4db2-b9d3-89dd1fb95ed9",
   "metadata": {},
   "source": [
    "## V2 \n",
    "### Altair Stuff\n",
    "* https://stackoverflow.com/questions/62109475/how-to-deselect-drop-down-box-of-altair"
   ]
  },
  {
   "cell_type": "code",
   "execution_count": null,
   "id": "3db029d5-1c34-4d01-b902-a44e011450ba",
   "metadata": {},
   "outputs": [],
   "source": [
    "import geopandas as gpd\n",
    "import numpy as np\n",
    "import pandas as pd\n",
    "from calitp.sql import to_snakecase"
   ]
  },
  {
   "cell_type": "code",
   "execution_count": null,
   "id": "a70f5b1e-8d59-4fc1-9929-5d5068dff17c",
   "metadata": {},
   "outputs": [],
   "source": [
    "import altair as alt\n",
    "import threshold_utils\n",
    "from shared_utils import calitp_color_palette as cp\n",
    "from shared_utils import geography_utils, rt_utils, styleguide, utils"
   ]
  },
  {
   "cell_type": "code",
   "execution_count": null,
   "id": "f286f377-8906-4956-882a-6c5ca5a98ab7",
   "metadata": {},
   "outputs": [],
   "source": [
    "import intake\n",
    "catalog = intake.open_catalog(\"./catalog_threshold.yml\")"
   ]
  },
  {
   "cell_type": "code",
   "execution_count": null,
   "id": "b5d3300c-7b1d-42c1-8240-117d1240a98d",
   "metadata": {},
   "outputs": [],
   "source": [
    "pd.options.display.max_columns = 100\n",
    "pd.options.display.float_format = \"{:.2f}\".format\n",
    "pd.set_option(\"display.max_rows\", None)\n",
    "pd.set_option(\"display.max_colwidth\", None)"
   ]
  },
  {
   "cell_type": "markdown",
   "id": "1a241e12-1d0c-4f22-8b32-c8af8ca37ff6",
   "metadata": {
    "tags": []
   },
   "source": [
    "### Tests\n",
    "* Keep name? "
   ]
  },
  {
   "cell_type": "code",
   "execution_count": null,
   "id": "0230e293-17ff-4661-ae36-7e0ca7426213",
   "metadata": {},
   "outputs": [],
   "source": [
    "# Keep name?\n",
    "def clean_trips():\n",
    "    df = catalog.trips.read()\n",
    "\n",
    "    subset = [\n",
    "        \"feed_key\",\n",
    "        \"name\",\n",
    "        \"route_id\",\n",
    "        \"direction_id\",\n",
    "        \"shape_id\",\n",
    "    ]\n",
    "\n",
    "    df = df[subset]\n",
    "\n",
    "    df = df.drop_duplicates().reset_index(drop=True)\n",
    "\n",
    "    return df"
   ]
  },
  {
   "cell_type": "code",
   "execution_count": null,
   "id": "018f4120-2c7c-4599-b8b6-2cf430485c6d",
   "metadata": {},
   "outputs": [],
   "source": [
    "# trips = clean_trips()"
   ]
  },
  {
   "cell_type": "code",
   "execution_count": null,
   "id": "3c1277ff-e9b6-4baa-a67d-7843180ffa10",
   "metadata": {},
   "outputs": [],
   "source": [
    "# trips.sample()"
   ]
  },
  {
   "cell_type": "code",
   "execution_count": null,
   "id": "8649368d-52af-4da8-9838-28ee24def9ef",
   "metadata": {},
   "outputs": [],
   "source": [
    "def clean_routelines():\n",
    "    df = catalog.route_lines.read()\n",
    "\n",
    "    # Drop shape array key? Drop n_trips?\n",
    "    df = df.drop(columns=[\"shape_array_key\"])\n",
    "    df = (df.drop_duplicates()).reset_index(drop=True)\n",
    "\n",
    "    # Calculate length of geometry\n",
    "    df = df.assign(actual_route_length=(df.geometry.length))\n",
    "\n",
    "    return df"
   ]
  },
  {
   "cell_type": "code",
   "execution_count": null,
   "id": "3515dc6e-219e-4e28-8f3d-9c37abedb5c7",
   "metadata": {},
   "outputs": [],
   "source": [
    "# routelines = clean_routelines()"
   ]
  },
  {
   "cell_type": "code",
   "execution_count": null,
   "id": "8d413dca-d441-40f0-b187-6aae987ae009",
   "metadata": {},
   "outputs": [],
   "source": [
    "# routelines.drop(columns = ['geometry']).sample(5)"
   ]
  },
  {
   "cell_type": "code",
   "execution_count": null,
   "id": "d597d505-71be-47e8-9ff6-0a52788fceaf",
   "metadata": {
    "scrolled": true,
    "tags": []
   },
   "outputs": [],
   "source": [
    "def clean_longest_shape():\n",
    "    df = catalog.longest_shape.read()\n",
    "\n",
    "    df = df.rename(columns={\"route_length\": \"longest_route_length\"})\n",
    "\n",
    "    return df"
   ]
  },
  {
   "cell_type": "code",
   "execution_count": null,
   "id": "a95cbfc8-77fa-442b-a06d-ce01d7be0b81",
   "metadata": {},
   "outputs": [],
   "source": [
    "# longest_shape = clean_longest_shape()"
   ]
  },
  {
   "cell_type": "code",
   "execution_count": null,
   "id": "9cd5165a-f032-4db2-81c8-260436dd5eea",
   "metadata": {},
   "outputs": [],
   "source": [
    "# Drop name?\n",
    "# crosswalk = catalog.crosswalk.read()"
   ]
  },
  {
   "cell_type": "code",
   "execution_count": null,
   "id": "788daad6-31f9-4cc9-a2ed-e56481bd50ec",
   "metadata": {},
   "outputs": [],
   "source": [
    "# crosswalk.sample()"
   ]
  },
  {
   "cell_type": "code",
   "execution_count": null,
   "id": "f6f4dc5d-0ab1-4b16-89c5-21dbedef65ee",
   "metadata": {},
   "outputs": [],
   "source": [
    "# Get outer merge counts including name\n",
    "# pd.merge(trips, crosswalk, how=\"outer\",\n",
    "#         on = [\"name\",\"feed_key\", \"route_id\", \"direction_id\"],\n",
    "#         indicator=True)[[\"_merge\"]].value_counts()"
   ]
  },
  {
   "cell_type": "code",
   "execution_count": null,
   "id": "7ef567aa-2b21-42a0-b406-6fd57a66b232",
   "metadata": {},
   "outputs": [],
   "source": [
    "# Get outer merge counts excluding name\n",
    "# pd.merge(trips, crosswalk, how=\"outer\",\n",
    "#         on = [\"feed_key\", \"route_id\", \"direction_id\"],\n",
    "#         indicator=True)[[\"_merge\"]].value_counts()"
   ]
  },
  {
   "cell_type": "code",
   "execution_count": null,
   "id": "6c6c86c3-1410-4655-a7ce-70eca2ca9ea7",
   "metadata": {},
   "outputs": [],
   "source": [
    "# m1 = trips.merge(crosswalk, how=\"inner\", on=[\"feed_key\", \"route_id\", \"name\", \"direction_id\"])"
   ]
  },
  {
   "cell_type": "code",
   "execution_count": null,
   "id": "9c22327e-d45b-4ad9-b917-09ceb5b68221",
   "metadata": {
    "scrolled": true,
    "tags": []
   },
   "outputs": [],
   "source": [
    "# routelines.sample()"
   ]
  },
  {
   "cell_type": "code",
   "execution_count": null,
   "id": "23d76e1c-8cda-4ac1-acd5-b7d7db76c1ab",
   "metadata": {},
   "outputs": [],
   "source": [
    "# m2 = m1.merge(routelines, how=\"inner\", on=[\"feed_key\", \"shape_id\"])"
   ]
  },
  {
   "cell_type": "code",
   "execution_count": null,
   "id": "0de28b93-fff7-4766-ad81-b7e9a774e3fc",
   "metadata": {
    "tags": []
   },
   "outputs": [],
   "source": [
    "# m3.sample(3).drop(columns = ['geometry','geometry_arrowized'])"
   ]
  },
  {
   "cell_type": "code",
   "execution_count": null,
   "id": "46e4e5c1-3033-4d11-8173-5bfef37efa12",
   "metadata": {},
   "outputs": [],
   "source": [
    "# m3.gtfs_dataset_key.nunique(), m3.name.nunique()"
   ]
  },
  {
   "cell_type": "markdown",
   "id": "4433c208-fada-47b5-b56c-8e4b8e6515bc",
   "metadata": {},
   "source": [
    "### Function\n",
    "* Best way is using `gtfs_dataset_key` or `name`?"
   ]
  },
  {
   "cell_type": "code",
   "execution_count": null,
   "id": "c3b513ee-38da-486f-9906-ee492de87759",
   "metadata": {},
   "outputs": [],
   "source": [
    "def merge_trips_routes_longest_shape():\n",
    "    trips = clean_trips()\n",
    "    crosswalk = catalog.crosswalk.read()\n",
    "    routelines = clean_routelines()\n",
    "    longest_shape = clean_longest_shape()\n",
    "\n",
    "    m1 = (\n",
    "        trips.merge(\n",
    "            crosswalk, how=\"inner\", on=[\"feed_key\", \"route_id\", \"name\", \"direction_id\"]\n",
    "        )\n",
    "        .merge(routelines, how=\"inner\", on=[\"feed_key\", \"shape_id\"])\n",
    "        .merge(\n",
    "            longest_shape.drop(columns=[\"geometry\"]),\n",
    "            how=\"inner\",\n",
    "            on=[\n",
    "                \"feed_key\",\n",
    "                \"gtfs_dataset_key\",\n",
    "                \"direction_id\",\n",
    "                \"route_id\",\n",
    "                \"route_dir_identifier\",\n",
    "                \"name\",\n",
    "            ],\n",
    "        )\n",
    "    )\n",
    "\n",
    "    # Calculate out proportion of route length against longest.\n",
    "    m1[\"route_length_percentage\"] = (\n",
    "        (m1[\"actual_route_length\"] / m1[\"longest_route_length\"]) * 100\n",
    "    ).astype(int)\n",
    "\n",
    "    # Count number of segments that appear in the longest shape.\n",
    "    m1 = (\n",
    "        m1.groupby(\n",
    "            [\n",
    "                \"route_id\",\n",
    "                \"name\",\n",
    "                \"gtfs_dataset_key\",\n",
    "                \"route_dir_identifier\",\n",
    "                \"shape_id\",\n",
    "                \"longest_shape_id\",\n",
    "                \"route_length_percentage\",\n",
    "            ]\n",
    "        )\n",
    "        .agg({\"segment_sequence\": \"count\"})\n",
    "        .rename(columns={\"segment_sequence\": \"total_segments\"})\n",
    "        .reset_index()\n",
    "    )\n",
    "\n",
    "    return m1"
   ]
  },
  {
   "cell_type": "code",
   "execution_count": null,
   "id": "d1b75151-c3a2-47c4-a5d4-40c9bd49756d",
   "metadata": {},
   "outputs": [],
   "source": [
    "def calculate_longest_shape(operator: str):\n",
    "    \"\"\"\n",
    "    Get total segments of the longest shape and\n",
    "    shape_id's length compared to the longest\n",
    "    shape_id's length for a route.\n",
    "    \"\"\"\n",
    "    df = merge_trips_routes_longest_shape()\n",
    "\n",
    "    df = df.loc[df.name == operator].reset_index(drop=True)\n",
    "\n",
    "    agg = (\n",
    "        df.groupby([\"name\", \"route_id\", \"shape_id\"])\n",
    "        .agg({\"route_length_percentage\": \"max\"})\n",
    "        .reset_index()\n",
    "    )\n",
    "\n",
    "    return agg"
   ]
  },
  {
   "cell_type": "code",
   "execution_count": null,
   "id": "1e3f5846-0d57-4ecb-898d-adc78c503a2a",
   "metadata": {},
   "outputs": [],
   "source": [
    "def summary_stats_route_length():\n",
    "    \"\"\"\n",
    "    Get mean, median, max, and min\n",
    "    of route length for each operator\n",
    "    \"\"\"\n",
    "    df = merge_trips_routes_longest_shape()\n",
    "\n",
    "    df = (\n",
    "        df.groupby([\"name\", \"route_id\", \"shape_id\"])\n",
    "        .agg({\"route_length_percentage\": \"max\"})\n",
    "        .reset_index()\n",
    "    )\n",
    "\n",
    "    df = (\n",
    "        df.groupby(\"name\")\n",
    "        .agg({\"route_length_percentage\": [\"mean\", \"median\", \"min\", \"max\"]})\n",
    "        .reset_index()\n",
    "    )\n",
    "\n",
    "    df.columns = df.columns.droplevel()\n",
    "\n",
    "    df = df.rename(columns={\"\": \"Name\"})\n",
    "\n",
    "    df = pd.melt(df, id_vars=[\"Name\"], value_vars=[\"mean\", \"median\", \"min\", \"max\"])\n",
    "\n",
    "    df.variable = df.variable.str.title()\n",
    "    \n",
    "    return df"
   ]
  },
  {
   "cell_type": "code",
   "execution_count": null,
   "id": "0218e39d-b8a5-4a8d-adb9-eee111d5c24f",
   "metadata": {},
   "outputs": [],
   "source": [
    "route_length = summary_stats_route_length()"
   ]
  },
  {
   "cell_type": "code",
   "execution_count": null,
   "id": "86595f70-1582-4088-b2be-831692425bcd",
   "metadata": {},
   "outputs": [],
   "source": [
    "route_length.sample(5)"
   ]
  },
  {
   "cell_type": "code",
   "execution_count": null,
   "id": "fc03a9fc-2d83-47a4-bcf8-028250c30130",
   "metadata": {},
   "outputs": [],
   "source": [
    "# route_length = pd.melt(route_length, id_vars=['Name'], value_vars=['mean', 'median','min','max'])"
   ]
  },
  {
   "cell_type": "markdown",
   "id": "bc8fb69c-10cd-4ca3-b770-f4c7d08f2882",
   "metadata": {},
   "source": [
    "### Operator"
   ]
  },
  {
   "cell_type": "markdown",
   "id": "163d2658-015e-4eaf-9af7-b680f6e4cd2e",
   "metadata": {},
   "source": [
    "* just 1 boxplot or dot plot for the operator for scheduled shapes % route length\n",
    "* i've also pared back the summary stats to accompany each chart (just the crucial stuff)\n",
    "* only allow altair selection on operator, not time or segment, i'm not going to remember what it is moving from selection to selection, so i'd rather see it at once. \n",
    "    * For usable trips remove time/segment. \n",
    "    * Thought the workflow would be running per operator as opposed to running all operators and selecting from the dropdown menu?\n",
    "    * If the dropdown menu should be operator -> have to combine all the dataframes together.\n",
    "* if you find it too crowded, i suggest paring down what's * included in SEGMENT_CUTOFFS ....likely we're never going to go up to 0.9, so you can probably scale it back\n",
    "* continue with the alt.vconcat, but i want the single boxplot or dotplot to be aligned the same way as the bar\n",
    "the table can be printed below (outside of the charts) if that's easier\n",
    "    * Wants charts to run in the same direction.\n",
    "    * Rotate dotplot instead of increasing up and down. Increasing should be left to right. \n",
    "    "
   ]
  },
  {
   "cell_type": "markdown",
   "id": "fa84a305-a37c-4742-a7aa-e4d568704e85",
   "metadata": {},
   "source": [
    "* Box plot looks super bare."
   ]
  },
  {
   "cell_type": "markdown",
   "id": "ea62523a-f6c5-4d1f-9b23-e51ea64968b8",
   "metadata": {},
   "source": [
    "#### Shape ID vs. Longest Shape ID Lengths \n",
    "* Play with jitter, opacity, size. \n",
    "    * Jitter looks exactly the same."
   ]
  },
  {
   "cell_type": "code",
   "execution_count": null,
   "id": "fa220922-fc99-41c3-8218-6eb1cec32885",
   "metadata": {},
   "outputs": [],
   "source": [
    "def length_comparison_dot(df):\n",
    "\n",
    "    df = threshold_utils.clean_up_columns(df)\n",
    "\n",
    "    # Dropdown menu 1\n",
    "    dropdown1 = alt.binding_select(\n",
    "        options=df[\"Name\"].sort_values().unique().tolist(), name=\"Name\"\n",
    "    )\n",
    "    selection1 = alt.selection_single(fields=[\"Name\"], bind=dropdown1)\n",
    "\n",
    "    chart = (\n",
    "        alt.Chart(df, width=5)\n",
    "        .mark_circle(size=200)\n",
    "        .encode(\n",
    "            x=alt.X(\n",
    "                \"jitter:Q\",\n",
    "                title=None,\n",
    "                axis=alt.Axis(values=[0], ticks=False, grid=False, labels=False),\n",
    "                scale=alt.Scale(),\n",
    "            ),\n",
    "           y=alt.Y(\"Value:Q\"),\n",
    "            color=alt.Color(\n",
    "                \"Variable:N\",\n",
    "                scale=alt.Scale(range=cp.CALITP_CATEGORY_BRIGHT_COLORS),\n",
    "                legend=None,\n",
    "            ),\n",
    "            tooltip=[\n",
    "                \"Name\",\n",
    "                \"Variable\",\n",
    "                \"Value\",\n",
    "            ],\n",
    "            column=alt.Column(\n",
    "                \"Name:N\",\n",
    "                header=alt.Header(\n",
    "                    labelAngle=90,\n",
    "                    titleOrient=\"top\",\n",
    "                    labelOrient=\"bottom\",\n",
    "                    labelAlign=\"right\",\n",
    "                    labelPadding=2,\n",
    "                ),\n",
    "            ),\n",
    "        )\n",
    "        .transform_calculate(\n",
    "            # Generate Gaussian jitter with a Box-Muller transform\n",
    "            jitter=\"sqrt(-2*log(random()))*cos(2*PI*random())\"\n",
    "        )\n",
    "        .configure_facet(spacing=0)\n",
    "        .configure_view(stroke=None)\n",
    "        .properties(title=f\"Routes by Length for Operator\")\n",
    "        .add_selection(selection1)\n",
    "        .transform_filter(selection1)\n",
    "    )\n",
    "    return chart "
   ]
  },
  {
   "cell_type": "code",
   "execution_count": null,
   "id": "3436f979-63da-4a16-a06f-e26701465bfb",
   "metadata": {},
   "outputs": [],
   "source": [
    "# length_comparison_dot(route_length)"
   ]
  },
  {
   "cell_type": "code",
   "execution_count": null,
   "id": "a1b2c76a-d19b-4bd5-8d05-1d2d9db8272c",
   "metadata": {},
   "outputs": [],
   "source": [
    "# Dropdown menu 1\n",
    "dropdown1 = alt.binding_select(\n",
    "        options=route_length[\"Name\"].sort_values().unique().tolist(), name=\"Name\"\n",
    "    )\n",
    "selection1 = alt.selection_single(fields=[\"Name\"], bind=dropdown1)"
   ]
  },
  {
   "cell_type": "code",
   "execution_count": null,
   "id": "156fe814-e281-4ad5-be1c-6f72d7eaedf0",
   "metadata": {},
   "outputs": [],
   "source": [
    "# https://altair-viz.github.io/gallery/wilkinson-dot-plot.html\n",
    "threshold_utils.chart_size(alt.Chart(route_length).mark_circle(opacity=1, size = 100).transform_window(\n",
    "    id='rank()',\n",
    "    groupby=['Variable']\n",
    ").encode(\n",
    "    alt.Y('Name:N'),\n",
    "    alt.X('Value:O', sort='ascending', axis=alt.Axis(ticks=False, grid=False)), \n",
    "    color=alt.Color(\"Variable:N\", scale=alt.Scale(range=cp.CALITP_CATEGORY_BRIGHT_COLORS)),\n",
    "    tooltip = ['Name', 'Variable', 'Value']\n",
    ").add_selection(selection1)\n",
    ".transform_filter(selection1), 1000,1000)"
   ]
  },
  {
   "cell_type": "code",
   "execution_count": null,
   "id": "85b26e2f-49f3-4f54-9892-d1dcce1d0418",
   "metadata": {},
   "outputs": [],
   "source": [
    "boxplot = merge_trips_routes_longest_shape()"
   ]
  },
  {
   "cell_type": "code",
   "execution_count": null,
   "id": "e69d176a-24c9-4eaa-a2ea-80aade7ca5e8",
   "metadata": {},
   "outputs": [],
   "source": [
    "boxplot = (\n",
    "    boxplot.groupby([\"name\", \"route_id\", \"shape_id\"])\n",
    "    .agg({\"route_length_percentage\": \"max\"})\n",
    "    .reset_index()\n",
    ")"
   ]
  },
  {
   "cell_type": "code",
   "execution_count": null,
   "id": "fa0c65cd-0676-4480-944e-e06b9e6b53d1",
   "metadata": {},
   "outputs": [],
   "source": [
    "threshold_utils.chart_size(\n",
    "    (\n",
    "        alt.Chart(boxplot)\n",
    "        .mark_boxplot(extent=\"min-max\")\n",
    "        .encode(\n",
    "            x=\"route_length_percentage:Q\",\n",
    "            y=\"name:N\",\n",
    "            color=alt.Color(\n",
    "                \"name\",\n",
    "                scale=alt.Scale(range=cp.CALITP_CATEGORY_BRIGHT_COLORS),\n",
    "                legend=None,\n",
    "            ),\n",
    "        )\n",
    "    ).properties(title=f\"Test\"),\n",
    "    1000,\n",
    "    1000,\n",
    ")"
   ]
  },
  {
   "cell_type": "code",
   "execution_count": null,
   "id": "f0b1a0e2-2008-49c6-a9b4-55c4654a7b8a",
   "metadata": {},
   "outputs": [],
   "source": [
    "threshold_utils.chart_size(\n",
    "    (\n",
    "        alt.Chart(boxplot.loc[boxplot.name == 'Redding Schedule'])\n",
    "        .mark_boxplot(extent=\"min-max\")\n",
    "        .encode(\n",
    "            x=\"route_length_percentage:Q\",\n",
    "            y=\"name:N\",\n",
    "            color=alt.Color(\n",
    "                \"name\",\n",
    "                scale=alt.Scale(range=cp.CALITP_CATEGORY_BRIGHT_COLORS),\n",
    "                legend=None,\n",
    "            ),\n",
    "        )\n",
    "    ).properties(title=f\"Test\"),\n",
    "    500,\n",
    "    300,\n",
    ")"
   ]
  },
  {
   "cell_type": "markdown",
   "id": "8023d309-6a87-4daa-8456-1f4aa72d6e54",
   "metadata": {},
   "source": [
    "#### Trip Time and Segment"
   ]
  },
  {
   "cell_type": "code",
   "execution_count": null,
   "id": "5e89dea2-c5d5-4656-b8a4-321136f95bf2",
   "metadata": {},
   "outputs": [],
   "source": [
    "def merge_trip_diagnostics_with_total_segments():\n",
    "    trip_diagnostics = catalog.trip_stats.read()\n",
    "    segments = catalog.longest_shape.read()\n",
    "\n",
    "    total_segments_by_shape = (\n",
    "        segments.groupby([\"gtfs_dataset_key\", \"name\", \"route_dir_identifier\"])\n",
    "        .segment_sequence.nunique()\n",
    "        .reset_index()\n",
    "        .rename(columns={\"segment_sequence\": \"total_segments\"})\n",
    "    )\n",
    "\n",
    "    df = pd.merge(\n",
    "        trip_diagnostics,\n",
    "        total_segments_by_shape,\n",
    "        on=[\"gtfs_dataset_key\", \"route_dir_identifier\"],\n",
    "        how=\"inner\",\n",
    "        validate=\"m:1\",\n",
    "    )\n",
    "\n",
    "    # Should  this be divided by 60 to be in minutes for the latter chunk of code?\n",
    "    df = df.assign(\n",
    "        pct_vp_segments=df.num_segments_with_vp.divide(df.total_segments),\n",
    "        trip_time=((df.trip_end - df.trip_start) / np.timedelta64(1, \"s\") / 60).astype(\n",
    "            int\n",
    "        ),\n",
    "        total_trips=df.groupby([\"gtfs_dataset_key\", \"name\"]).trip_id.transform(\n",
    "            \"nunique\"\n",
    "        ),\n",
    "    )\n",
    "\n",
    "    return df"
   ]
  },
  {
   "cell_type": "code",
   "execution_count": null,
   "id": "de7bc4f5-6c2a-4215-959a-900949d2dffc",
   "metadata": {},
   "outputs": [],
   "source": [
    "all_ops = merge_trip_diagnostics_with_total_segments()"
   ]
  },
  {
   "cell_type": "code",
   "execution_count": null,
   "id": "fe253e50-62d3-48b2-9f97-370c32c2dd92",
   "metadata": {},
   "outputs": [],
   "source": [
    "def summary_valid_trips_by_cutoff(df, time_cutoffs: list, segment_cutoffs: list):\n",
    "    final = pd.DataFrame()\n",
    "\n",
    "    for t in time_cutoffs:\n",
    "        for s in segment_cutoffs:\n",
    "            valid = (\n",
    "                df[(df.trip_time >= t) & (df.pct_vp_segments >= s)]\n",
    "                .groupby([\"gtfs_dataset_key\", \"name\", \"total_trips\"])\n",
    "                .trip_id.nunique()\n",
    "                .reset_index()\n",
    "                .rename(columns={\"trip_id\": \"n_trips\"})\n",
    "            )\n",
    "\n",
    "            valid = valid.assign(\n",
    "                trip_cutoff=t, segment_cutoff=s, cutoff=f\"{t}+ min & {s*100}%+ segments\"\n",
    "            )\n",
    "\n",
    "            final = pd.concat([final, valid], axis=0)\n",
    "\n",
    "    final = final.assign(pct_usable_trips=final.n_trips.divide(final.total_trips))\n",
    "\n",
    "    return final"
   ]
  },
  {
   "cell_type": "code",
   "execution_count": null,
   "id": "0f5bcf33-9d1d-4104-bfc4-b2bdb600df1e",
   "metadata": {},
   "outputs": [],
   "source": [
    "TIME_CUTOFFS = [5, 10, 15]\n",
    "SEGMENT_CUTOFFS = [\n",
    "    0.1,\n",
    "    0.2,\n",
    "    0.3,\n",
    "    0.4,\n",
    "    0.5,\n",
    "    0.6,\n",
    "    0.7,\n",
    "    0.8\n",
    "]"
   ]
  },
  {
   "cell_type": "code",
   "execution_count": null,
   "id": "c4e6c2bf-9914-462d-9b66-a57a23c72cd9",
   "metadata": {},
   "outputs": [],
   "source": [
    "valid_stats = summary_valid_trips_by_cutoff(all_ops, TIME_CUTOFFS, SEGMENT_CUTOFFS)"
   ]
  },
  {
   "cell_type": "code",
   "execution_count": null,
   "id": "0e370a66-5a4b-404f-9f9d-7ab781906f7d",
   "metadata": {},
   "outputs": [],
   "source": [
    "def operator_trip_chart(df):\n",
    "    df = threshold_utils.clean_up_columns(df)\n",
    "\n",
    "    # Dropdown menu 1\n",
    "    dropdown1 = alt.binding_select(\n",
    "        options=df[\"Name\"].sort_values().unique().tolist(), name=\"Name\"\n",
    "    )\n",
    "    selection1 = alt.selection_single(fields=[\"Name\"], bind=dropdown1)\n",
    "\n",
    "    chart = (\n",
    "        alt.Chart(df)\n",
    "        .mark_bar()\n",
    "        .encode(\n",
    "            x=alt.X(\n",
    "                \"Pct Usable Trips:Q\",\n",
    "                sort=alt.SortField(\"Pct Usable Trips\", order=\"descending\"),\n",
    "            ),\n",
    "            y=alt.Y(\n",
    "                \"Cutoff:N\", sort=alt.SortField(\"Pct Usable Trips\", order=\"descending\")\n",
    "            ),\n",
    "            color=alt.Color(\n",
    "                \"Cutoff:N\", scale=alt.Scale(range=cp.CALITP_CATEGORY_BRIGHT_COLORS)\n",
    "            ),\n",
    "            tooltip=[\n",
    "                \"Name\",\n",
    "                \"Cutoff\",\n",
    "                \"Pct Usable Trips\",\n",
    "                \"N Trips\",\n",
    "            ],\n",
    "        )\n",
    "        .properties(title=f\"Percentage of Usable Trips\")\n",
    "        .add_selection(selection1)\n",
    "        .transform_filter(selection1)\n",
    "    )\n",
    "\n",
    "    chart = threshold_utils.chart_size(chart, 500, 300)\n",
    "    return chart"
   ]
  },
  {
   "cell_type": "code",
   "execution_count": null,
   "id": "db60c2ab-9e0b-41e7-9eff-547599b3459d",
   "metadata": {},
   "outputs": [],
   "source": [
    "operator_trip_chart(valid_stats)"
   ]
  },
  {
   "cell_type": "markdown",
   "id": "b19e790d-4467-462e-b3a0-c375639cac8d",
   "metadata": {},
   "source": [
    "### Statewide\n",
    "#### Statewide Routes by Cutoff"
   ]
  },
  {
   "cell_type": "code",
   "execution_count": null,
   "id": "74079d15-4d99-4335-b9ba-6339b84eaf36",
   "metadata": {},
   "outputs": [],
   "source": [
    "trips_routes_shape = merge_trips_routes_longest_shape()"
   ]
  },
  {
   "cell_type": "code",
   "execution_count": null,
   "id": "015a523e-3c8a-47c9-a7e7-d03a254aa1ec",
   "metadata": {},
   "outputs": [],
   "source": [
    "trip_stats = catalog.trip_stats.read()"
   ]
  },
  {
   "cell_type": "code",
   "execution_count": null,
   "id": "a67f5da0-2ce6-4f2c-baaa-349127cec637",
   "metadata": {},
   "outputs": [],
   "source": [
    "# trip_stats.columns, trips_routes_shape.columns"
   ]
  },
  {
   "cell_type": "code",
   "execution_count": null,
   "id": "e3426938-6a3d-4349-96d8-57cd1c2e51ff",
   "metadata": {},
   "outputs": [],
   "source": [
    "def statewide_summary():\n",
    "    trips_routes_shape = merge_trips_routes_longest_shape()\n",
    "    trip_stats = catalog.trip_stats.read()\n",
    "\n",
    "    m1 = trip_stats.merge(\n",
    "        trips_routes_shape.drop(columns=[\"route_length_percentage\"]),\n",
    "        how=\"inner\",\n",
    "        on=[\"gtfs_dataset_key\", \"route_dir_identifier\"],\n",
    "    )\n",
    "\n",
    "    m1 = m1.assign(\n",
    "        pct_vp_segments=m1.num_segments_with_vp.divide(m1.total_segments),\n",
    "        trip_time=((m1.trip_end - m1.trip_start) / np.timedelta64(1, \"s\")) / 60,\n",
    "        total_routes=m1.groupby(\"route_id\").trip_id.transform(\"nunique\"),\n",
    "    )\n",
    "\n",
    "    return m1"
   ]
  },
  {
   "cell_type": "code",
   "execution_count": null,
   "id": "b8e37ad5-dea9-408c-8197-af56d9ae2965",
   "metadata": {},
   "outputs": [],
   "source": [
    "statewide = statewide_summary()"
   ]
  },
  {
   "cell_type": "code",
   "execution_count": null,
   "id": "b06e9965-0218-4bc6-abcc-ed079e614029",
   "metadata": {},
   "outputs": [],
   "source": [
    "statewide.head(3)"
   ]
  },
  {
   "cell_type": "code",
   "execution_count": null,
   "id": "8ace1f6a-0910-4083-bb75-00a442736bfc",
   "metadata": {},
   "outputs": [],
   "source": [
    "def route_thresholds_time_only(df, time_cutoffs: list):\n",
    "\n",
    "    total_unique_routes = df.route_id.nunique()\n",
    "\n",
    "    # Find stats for all operators\n",
    "    all_operators = pd.DataFrame()\n",
    "    for t in time_cutoffs:\n",
    "        valid = (\n",
    "            df[(df.trip_time >= t)][[\"route_id\"]]\n",
    "            .nunique()\n",
    "            .reset_index()\n",
    "            .rename(columns={0: \"Total Routes in Category\"})\n",
    "        )\n",
    "\n",
    "        valid = valid.assign(route_cutoff=t, cutoff=f\"{t}+ min\")\n",
    "\n",
    "        all_operators = pd.concat([all_operators, valid], axis=0)\n",
    "\n",
    "    all_operators = all_operators.assign(\n",
    "        total_routes=total_unique_routes,\n",
    "        pct_usable_routes=all_operators[\"Total Routes in Category\"].divide(\n",
    "            total_unique_routes\n",
    "        ),\n",
    "        calitp_itp_id=\"all operators\",\n",
    "    )\n",
    "\n",
    "    return all_operators"
   ]
  },
  {
   "cell_type": "code",
   "execution_count": null,
   "id": "a57ce487-38bc-4f59-92df-7f0220fcd7f8",
   "metadata": {},
   "outputs": [],
   "source": [
    "statewide_thresholds_time_only = route_thresholds_time_only(statewide, TIME_CUTOFFS)"
   ]
  },
  {
   "cell_type": "code",
   "execution_count": null,
   "id": "d0d6a6ad-add1-4ea7-868f-8577824a3645",
   "metadata": {},
   "outputs": [],
   "source": [
    "statewide_thresholds_time_only.sample()"
   ]
  },
  {
   "cell_type": "code",
   "execution_count": null,
   "id": "deb6f62b-81dc-4c73-95c5-eb500c50bd40",
   "metadata": {},
   "outputs": [],
   "source": [
    "threshold_utils.chart_size((\n",
    "    alt.Chart(statewide_thresholds_time_only)\n",
    "    .mark_bar()\n",
    "    .encode(\n",
    "        x=alt.X(\n",
    "            \"cutoff:N\",\n",
    "            sort=alt.SortField(\"pct_usable_routes\", order=\"descending\"),\n",
    "        ),\n",
    "        y=alt.Y(\n",
    "            \"pct_usable_routes:Q\",\n",
    "            sort=alt.SortField(\"pct_usable_routes\", order=\"descending\"),\n",
    "        ),\n",
    "        color=alt.Color(\n",
    "            \"cutoff:N\", scale=alt.Scale(range=cp.CALITP_CATEGORY_BRIGHT_COLORS)\n",
    "        ),\n",
    "        tooltip=[\n",
    "            \"total_routes\",\n",
    "            \"cutoff\",\n",
    "            \"Total Routes in Category\",\n",
    "            \"pct_usable_routes\",\n",
    "        ],\n",
    "    )\n",
    "    .properties(title=f\"Percentage of Usable Routes for the State\")\n",
    "), 500, 300)"
   ]
  },
  {
   "cell_type": "code",
   "execution_count": null,
   "id": "4044020a-1bbc-44e1-9574-1f76efee7448",
   "metadata": {},
   "outputs": [],
   "source": [
    "def route_thresholds(df, time_cutoffs: list, segment_cutoffs: list):\n",
    "\n",
    "    total_unique_routes = df.route_id.nunique()\n",
    "\n",
    "    # Find stats for all operators\n",
    "    all_operators = pd.DataFrame()\n",
    "\n",
    "    for t in time_cutoffs:\n",
    "        for s in segment_cutoffs:\n",
    "            valid = (\n",
    "                df[(df.trip_time >= t) & (df.pct_vp_segments >= s)][[\"route_id\"]]\n",
    "                .nunique()\n",
    "                .reset_index()\n",
    "                .rename(columns={0: \"Total Routes in Category\"})\n",
    "            )\n",
    "\n",
    "            valid = valid.assign(\n",
    "                time_cutoff=t,\n",
    "                segment_cutoff=s,\n",
    "                route_cutoff=f\"{t}+ min & {s*100}%+ segments\",\n",
    "                total_routes=total_unique_routes,\n",
    "                pct_usable_routes=valid[\"Total Routes in Category\"].divide(\n",
    "                    total_unique_routes\n",
    "                ),\n",
    "            )\n",
    "\n",
    "            all_operators = pd.concat([all_operators, valid], axis=0)\n",
    "\n",
    "    return all_operators"
   ]
  },
  {
   "cell_type": "code",
   "execution_count": null,
   "id": "2a163196-5a2f-43e4-8098-6753e9291bc1",
   "metadata": {},
   "outputs": [],
   "source": [
    "statewide_thresholds = route_thresholds(statewide, TIME_CUTOFFS, SEGMENT_CUTOFFS)"
   ]
  },
  {
   "cell_type": "code",
   "execution_count": null,
   "id": "8e358b55-32ea-4b94-a009-c61ac1925019",
   "metadata": {},
   "outputs": [],
   "source": [
    "(\n",
    "    alt.Chart(statewide_thresholds)\n",
    "    .mark_bar()\n",
    "    .encode(\n",
    "        x=alt.X(\n",
    "            \"pct_usable_routes:Q\",\n",
    "            sort=alt.SortField(\"pct_usable_routes\", order=\"descending\"),\n",
    "        ),\n",
    "        y=alt.Y(\n",
    "            \"route_cutoff:N\",\n",
    "            sort=alt.SortField(\"pct_usable_routes\", order=\"descending\"),\n",
    "        ),\n",
    "        color=alt.Color(\n",
    "            \"route_cutoff:N\", scale=alt.Scale(range=cp.CALITP_CATEGORY_BRIGHT_COLORS)\n",
    "        ),\n",
    "        tooltip=[\n",
    "            \"total_routes\",\n",
    "            \"route_cutoff\",\n",
    "            \"Total Routes in Category\",\n",
    "            \"pct_usable_routes\",\n",
    "        ],\n",
    "    )\n",
    "    .properties(title=f\"Percentage of Usable Routes for the State\")\n",
    ")"
   ]
  },
  {
   "cell_type": "markdown",
   "id": "009b7247-eb37-4153-a50a-5dbc765c67da",
   "metadata": {},
   "source": [
    "#### Route Thresholds by Operators"
   ]
  },
  {
   "cell_type": "code",
   "execution_count": null,
   "id": "d416208d-2d79-43ab-8c25-6942970b0bd5",
   "metadata": {},
   "outputs": [],
   "source": [
    "# Find stats for all operators\n",
    "operator_df = pd.DataFrame()"
   ]
  },
  {
   "cell_type": "code",
   "execution_count": null,
   "id": "5446a7ca-3411-461b-9b34-e8feccf6c744",
   "metadata": {},
   "outputs": [],
   "source": [
    "# Subset statewide to only 2 operators\n",
    "subset = statewide[statewide[\"name\"].isin(['Big Blue Bus Schedule','Bay Area 511 AC Transit Schedule',])].reset_index(drop = True)"
   ]
  },
  {
   "cell_type": "code",
   "execution_count": null,
   "id": "f583a75a-42dd-4293-bf7c-8f1b47bd3f64",
   "metadata": {},
   "outputs": [],
   "source": [
    "for o in subset.name.unique().tolist():\n",
    "    for t in TIME_CUTOFFS:\n",
    "        for s in SEGMENT_CUTOFFS:\n",
    "            valid = subset.loc[subset.name == o].reset_index(drop = True)\n",
    "            total_unique_routes = valid.route_id.nunique() \n",
    "            operator = valid.head(1).iloc[0][\"name\"]\n",
    "            valid = (\n",
    "                    valid[(valid.trip_time >= t) & (valid.pct_vp_segments >= s)][[\"route_id\"]]\n",
    "                    .nunique()\n",
    "                    .reset_index()\n",
    "                    .rename(columns={0: \"Total Routes in Category\"})\n",
    "                )\n",
    "\n",
    "            valid = valid.assign(\n",
    "                time_cutoff=t,\n",
    "                segment_cutoff=s,\n",
    "                name = operator,\n",
    "                route_cutoff=f\"{t}+ min & {s*100}%+ segments\",\n",
    "                total_routes=total_unique_routes,\n",
    "                pct_usable_routes=valid[\"Total Routes in Category\"].divide(\n",
    "                    total_unique_routes\n",
    "                ),\n",
    "            )\n",
    "\n",
    "            operator_df = pd.concat([operator_df, valid], axis=0)"
   ]
  },
  {
   "cell_type": "code",
   "execution_count": null,
   "id": "dee6edfa-ece0-47ea-8fcd-64786e8ea95e",
   "metadata": {
    "tags": []
   },
   "outputs": [],
   "source": [
    "empty_df.name.sort_values().unique().tolist()"
   ]
  },
  {
   "cell_type": "code",
   "execution_count": null,
   "id": "4b195fb5-857b-47d4-b63e-89f2927a0871",
   "metadata": {},
   "outputs": [],
   "source": [
    "# Dropdown menu 1\n",
    "dropdown1 = alt.binding_select(\n",
    "        options=empty_df[\"name\"].sort_values().unique().tolist(), name=\"name\"\n",
    "    )\n",
    "selection1 = alt.selection_single(fields=[\"name\"], bind=dropdown1)\n",
    "\n",
    "(\n",
    "        alt.Chart(empty_df)\n",
    "        .mark_bar()\n",
    "        .encode(\n",
    "            x=alt.X(\n",
    "                \"pct_usable_routes:Q\",\n",
    "                sort=alt.SortField(\"pct_usable_routes\", order=\"descending\"),\n",
    "            ),\n",
    "            y=alt.Y(\n",
    "                \"route_cutoff:N\", sort=alt.SortField(\"pct_usable_routes\", order=\"descending\")\n",
    "            ),\n",
    "            color=alt.Color(\n",
    "                \"route_cutoff:N\", scale=alt.Scale(range=cp.CALITP_CATEGORY_BRIGHT_COLORS)\n",
    "            ),\n",
    "            tooltip=[\n",
    "\n",
    "            ],\n",
    "        )\n",
    "        .properties(title=f\"Percentage of Usable Routes\")\n",
    "    )#.add_selection(selection1).transform_filter(selection1)"
   ]
  },
  {
   "cell_type": "code",
   "execution_count": null,
   "id": "fff28507-f6ea-409b-acf6-2663a50d48e1",
   "metadata": {},
   "outputs": [],
   "source": [
    "# Find stats for all operators\n",
    "operator_df2 = pd.DataFrame()"
   ]
  },
  {
   "cell_type": "code",
   "execution_count": null,
   "id": "01c28501-00af-46d0-bb7f-d42d6490b63c",
   "metadata": {},
   "outputs": [],
   "source": [
    "for o in statewide.name.unique().tolist():\n",
    "    for t in TIME_CUTOFFS:\n",
    "            valid = statewide.loc[statewide.name == o].reset_index(drop = True)\n",
    "            total_unique_routes = valid.route_id.nunique() \n",
    "            operator = valid.iloc[0][\"name\"]\n",
    "            valid = (\n",
    "                    valid[(valid.trip_time >= t)][[\"route_id\"]]\n",
    "                    .nunique()\n",
    "                    .reset_index()\n",
    "                    .rename(columns={0: \"Total Routes in Category\"})\n",
    "                )\n",
    "\n",
    "            valid = valid.assign(\n",
    "                time_cutoff=t,\n",
    "                segment_cutoff=s,\n",
    "                name = operator,\n",
    "                route_cutoff=f\"{t}+ min\",\n",
    "                total_routes=total_unique_routes,\n",
    "                pct_usable_routes=valid[\"Total Routes in Category\"].divide(\n",
    "                    total_unique_routes\n",
    "                ),\n",
    "            )\n",
    "\n",
    "            operator_df2 = pd.concat([operator_df2, valid], axis=0)"
   ]
  },
  {
   "cell_type": "code",
   "execution_count": null,
   "id": "eef1ed76-b2d5-43fe-ae25-0c50113fa868",
   "metadata": {},
   "outputs": [],
   "source": [
    "def operator_trip_chart(df):\n",
    "    df = threshold_utils.clean_up_columns(df)\n",
    "\n",
    "    # Dropdown menu 1\n",
    "    dropdown1 = alt.binding_select(\n",
    "        options=df[\"Name\"].sort_values().unique().tolist(), name=\"Name\"\n",
    "    )\n",
    "    selection1 = alt.selection_single(fields=[\"Name\"], bind=dropdown1)\n",
    "\n",
    "    chart = (\n",
    "        alt.Chart(df)\n",
    "        .mark_bar()\n",
    "        .encode(\n",
    "            x=alt.X(\n",
    "                \"Pct Usable Routes:Q\",\n",
    "                sort=alt.SortField(\"Pct Usable Routes\", order=\"descending\"),\n",
    "            ),\n",
    "            y=alt.Y(\n",
    "                \"Route Cutoff:N\", sort=alt.SortField(\"Pct Usable Routes\", order=\"descending\")\n",
    "            ),\n",
    "            color=alt.Color(\n",
    "                \"Route Cutoff:N\", scale=alt.Scale(range=cp.CALITP_CATEGORY_BRIGHT_COLORS)\n",
    "            ),\n",
    "            tooltip=[\n",
    "                \"Name\",\n",
    "                \"Route Cutoff\",\n",
    "                \"Pct Usable Routes\",\n",
    "                \"Total Routes\",\n",
    "                \"Total Routes In Category\"\n",
    "            ],\n",
    "        )\n",
    "        .properties(title=f\"Percentage of Usable Trips\")\n",
    "        .add_selection(selection1)\n",
    "        .transform_filter(selection1)\n",
    "    )\n",
    "\n",
    "    chart = threshold_utils.chart_size(chart, 500, 300)\n",
    "    return chart"
   ]
  },
  {
   "cell_type": "code",
   "execution_count": null,
   "id": "8f66123a-7b3f-4046-99cb-ff194bb0aa34",
   "metadata": {},
   "outputs": [],
   "source": [
    "operator_trip_chart(operator_df2)"
   ]
  }
 ],
 "metadata": {
  "kernelspec": {
   "display_name": "Python 3 (ipykernel)",
   "language": "python",
   "name": "python3"
  },
  "language_info": {
   "codemirror_mode": {
    "name": "ipython",
    "version": 3
   },
   "file_extension": ".py",
   "mimetype": "text/x-python",
   "name": "python",
   "nbconvert_exporter": "python",
   "pygments_lexer": "ipython3",
   "version": "3.9.13"
  }
 },
 "nbformat": 4,
 "nbformat_minor": 5
}
