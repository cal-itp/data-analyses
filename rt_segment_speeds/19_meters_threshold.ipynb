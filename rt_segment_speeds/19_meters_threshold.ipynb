{
 "cells": [
  {
   "cell_type": "code",
   "execution_count": 1,
   "id": "3d2ca779-5cd7-4f98-8e9f-344e9d4dcf46",
   "metadata": {},
   "outputs": [
    {
     "name": "stderr",
     "output_type": "stream",
     "text": [
      "/opt/conda/lib/python3.9/site-packages/geopandas/_compat.py:124: UserWarning: The Shapely GEOS version (3.11.1-CAPI-1.17.1) is incompatible with the GEOS version PyGEOS was compiled with (3.10.1-CAPI-1.16.0). Conversions between both will be slow.\n",
      "  warnings.warn(\n",
      "/tmp/ipykernel_253/3696898552.py:4: DeprecationWarning: Shapely 2.0 is installed, but because PyGEOS is also installed, GeoPandas still uses PyGEOS by default. However, starting with version 0.14, the default will switch to Shapely. To force to use Shapely 2.0 now, you can either uninstall PyGEOS or set the environment variable USE_PYGEOS=0. You can do this before starting the Python process, or in your code before importing geopandas:\n",
      "\n",
      "import os\n",
      "os.environ['USE_PYGEOS'] = '0'\n",
      "import geopandas\n",
      "\n",
      "In the next release, GeoPandas will switch to using Shapely by default, even if PyGEOS is installed. If you only have PyGEOS installed to get speed-ups, this switch should be smooth. However, if you are using PyGEOS directly (calling PyGEOS functions on geometries from GeoPandas), this will then stop working and you are encouraged to migrate from PyGEOS to Shapely 2.0 (https://shapely.readthedocs.io/en/latest/migration_pygeos.html).\n",
      "  import geopandas as gpd\n"
     ]
    }
   ],
   "source": [
    "import datetime\n",
    "import dask.dataframe as dd\n",
    "import numpy as np\n",
    "import geopandas as gpd\n",
    "import pandas as pd\n",
    "import altair as alt\n",
    "from segment_speed_utils import gtfs_schedule_wrangling, helpers, segment_calcs,sched_rt_utils\n",
    "from segment_speed_utils.project_vars import (\n",
    "    COMPILED_CACHED_VIEWS,\n",
    "    PROJECT_CRS,\n",
    "    SEGMENT_GCS,  \n",
    "    analysis_date,\n",
    ")\n",
    "from scripts import (A1_sjoin_vp_segments, A2_valid_vehicle_positions,B2_avg_speeds_by_segment)\n",
    "from shared_utils import calitp_color_palette as cp, rt_utils, geography_utils\n",
    "import _threshold_utils as threshold_utils\n",
    "import _rt_scheduled_utils as rt_scheduled_utils\n",
    "CONFIG_PATH = './scripts/config.yml'\n",
    "STOP_SEG_DICT = helpers.get_parameters(CONFIG_PATH, \"stop_segments\")"
   ]
  },
  {
   "cell_type": "code",
   "execution_count": 2,
   "id": "6305e1fd-3383-4960-baa2-db169e86033d",
   "metadata": {},
   "outputs": [],
   "source": [
    "pd.options.display.max_columns = 100\n",
    "pd.options.display.float_format = \"{:.2f}\".format\n",
    "pd.set_option(\"display.max_rows\", None)\n",
    "pd.set_option(\"display.max_colwidth\", None)"
   ]
  },
  {
   "cell_type": "code",
   "execution_count": 3,
   "id": "180482d2-f3c3-4577-8558-54bfab8a9768",
   "metadata": {},
   "outputs": [
    {
     "data": {
      "text/plain": [
       "'2023-07-12'"
      ]
     },
     "execution_count": 3,
     "metadata": {},
     "output_type": "execute_result"
    }
   ],
   "source": [
    "analysis_date"
   ]
  },
  {
   "cell_type": "markdown",
   "id": "d35de724-b1b8-4d91-a37d-f4aa06120777",
   "metadata": {
    "tags": []
   },
   "source": [
    "## % of Meters\n",
    "* start with the speeds_stop_segments_{analysis_date} parquet (which is produced in B1_speeds_by_segment_trip ).\n",
    "* grab in stop_segments_{analysis_date} (in CRS 3310 already), and you can get the segment's length.\n",
    "* merge with the speeds by segment-trip, which contains the meters_elapsed column\n",
    "* calculate pct where meters_elapsed/segment_length\n",
    "* show me some charts around this, a couple of descriptives to make sure these are all ok\n",
    "* give me rough descriptives of how many rows we're dropping if we go with keeping at least 30%, 40%, 50%"
   ]
  },
  {
   "cell_type": "markdown",
   "id": "c6c7cedd-6da8-4888-83da-c52003d6ea35",
   "metadata": {},
   "source": [
    "### Open these files just for testing"
   ]
  },
  {
   "cell_type": "code",
   "execution_count": 4,
   "id": "62548e77-825c-4ed3-9f90-05a07e0fab82",
   "metadata": {},
   "outputs": [],
   "source": [
    "def import_speeds_segs(analysis_date:str, \n",
    "                       max_speed_cutoff: int, \n",
    "                       dict_inputs:dict)-> pd.DataFrame:\n",
    "    FILE = dict_inputs['stage4']\n",
    "    df = pd.read_parquet(f\"{SEGMENT_GCS}{FILE}_{analysis_date}\", \n",
    "        filters = [[(\"speed_mph\", \"<=\", max_speed_cutoff), \n",
    "                    (\"sec_elapsed\", \">\", 0), \n",
    "                    (\"meters_elapsed\", \">\", 0)\n",
    "                   ]])\n",
    "    \n",
    "    return df"
   ]
  },
  {
   "cell_type": "code",
   "execution_count": 5,
   "id": "c90ac266-38ca-4e94-ab25-68ee40829605",
   "metadata": {},
   "outputs": [],
   "source": [
    "def load_segments(analysis_date:str, dict_inputs:dict) -> gpd.GeoDataFrame:\n",
    "    # Load in ALL segments, find the length\n",
    "    FILE = dict_inputs['segments_file']\n",
    "    segments = gpd.read_parquet(f\"{SEGMENT_GCS}{FILE}_{analysis_date}.parquet\")\n",
    "    \n",
    "    return segments"
   ]
  },
  {
   "cell_type": "markdown",
   "id": "9daf292e-e8d8-4813-86c9-7a09fc035c4a",
   "metadata": {
    "tags": []
   },
   "source": [
    "## Sample segments and routes for Big Blue Bus"
   ]
  },
  {
   "cell_type": "code",
   "execution_count": 6,
   "id": "edbaac05-d03a-42d4-abba-4a4483fa3005",
   "metadata": {},
   "outputs": [],
   "source": [
    "test_operator = \"Big Blue Bus VehiclePositions\"\n",
    "test_org = \"City of Santa Monica\"\n",
    "test_key = \"6c2d7daaf979779fa2089c6395baf98b\""
   ]
  },
  {
   "cell_type": "code",
   "execution_count": 7,
   "id": "9c7826f6-27ed-498f-97b8-ee0f4c2a992a",
   "metadata": {},
   "outputs": [],
   "source": [
    "pub_df = pd.read_parquet(\n",
    "    f\"{SEGMENT_GCS}export/avg_speeds_stop_segments_{analysis_date}_tabular.parquet\", \n",
    "    filters = [[(\"agency\", \"==\", test_org)]]\n",
    ")"
   ]
  },
  {
   "cell_type": "code",
   "execution_count": 8,
   "id": "288a9881-aa75-4331-9c4c-e01c3954fafe",
   "metadata": {},
   "outputs": [],
   "source": [
    "# Dark orange\n",
    "shape_id1  = \"26375\"\n",
    "stop_seq1 = 7\n",
    "shape_array1 = pub_df[pub_df.shape_id==shape_id1].shape_array_key.iloc[0]"
   ]
  },
  {
   "cell_type": "code",
   "execution_count": 9,
   "id": "05465822-ff34-47cb-ac43-2d11e12e3494",
   "metadata": {},
   "outputs": [],
   "source": [
    "# Light yellow \n",
    "shape_id2 = \"26342\"\n",
    "stop_seq2 = 23\n",
    "shape_array2 = pub_df[pub_df.shape_id==shape_id2].shape_array_key.iloc[0]"
   ]
  },
  {
   "cell_type": "code",
   "execution_count": 10,
   "id": "d1315d79-276d-4810-9593-07e8770f67ba",
   "metadata": {},
   "outputs": [],
   "source": [
    "# Dark Red\n",
    "shape_id3 = \"26393\"\n",
    "stop_seq3 = 32\n",
    "shape_array3 = pub_df[pub_df.shape_id==shape_id3].shape_array_key.iloc[0]"
   ]
  },
  {
   "cell_type": "code",
   "execution_count": 11,
   "id": "d163d014-0e76-41ef-813f-ff2617077249",
   "metadata": {},
   "outputs": [],
   "source": [
    "# Light orange\n",
    "shape_id4 = \"26372\"\n",
    "stop_seq4 = 14\n",
    "shape_array4 = pub_df[pub_df.shape_id==shape_id4].shape_array_key.iloc[0]"
   ]
  },
  {
   "cell_type": "code",
   "execution_count": 12,
   "id": "d946f239-b242-4a3e-95f6-580690e245b7",
   "metadata": {},
   "outputs": [],
   "source": [
    "# Green\n",
    "shape_id5 = \"26400\"\n",
    "stop_seq5= 8\n",
    "shape_array5 = pub_df[pub_df.shape_id==shape_id5].shape_array_key.iloc[0]"
   ]
  },
  {
   "cell_type": "code",
   "execution_count": 13,
   "id": "ec9da438-07d4-45ef-85c1-fc44d6eaadbf",
   "metadata": {},
   "outputs": [],
   "source": [
    "def one_route_map(avg_speeds:gpd.GeoDataFrame, shape_array_key:str):\n",
    "    display(avg_speeds[avg_speeds.shape_array_key==shape_array_key].explore(\n",
    "    \"p50_mph\", \n",
    "    tiles = \"CartoDB Positron\",\n",
    "    cmap = rt_utils.ZERO_THIRTY_COLORSCALE,\n",
    "    style_kwds = {'weight':5}))\n",
    "    "
   ]
  },
  {
   "cell_type": "markdown",
   "id": "857ab4ad-1dde-4c65-bd88-99696ab9f478",
   "metadata": {},
   "source": [
    "## Open Files\n",
    "* Add `import_speeds_segs`,`calculate_segment_length`,`merge_segments_speeds` into `B2`"
   ]
  },
  {
   "cell_type": "code",
   "execution_count": 14,
   "id": "ec7d196d-3dd3-445b-bd8a-9daf48fa5a88",
   "metadata": {},
   "outputs": [],
   "source": [
    "dictionary = helpers.get_parameters(CONFIG_PATH, \"stop_segments\")"
   ]
  },
  {
   "cell_type": "code",
   "execution_count": 15,
   "id": "71eecb32-4d8d-4691-aad5-c3336028edb5",
   "metadata": {},
   "outputs": [],
   "source": [
    "segments_gdf = load_segments(analysis_date, dictionary)"
   ]
  },
  {
   "cell_type": "code",
   "execution_count": 16,
   "id": "e6a02583-9356-4fce-bb05-96eb47716650",
   "metadata": {},
   "outputs": [],
   "source": [
    "speeds = import_speeds_segs(analysis_date,70,  dictionary)"
   ]
  },
  {
   "cell_type": "code",
   "execution_count": 17,
   "id": "9527de7c-e540-431d-a4a6-ed701a323236",
   "metadata": {},
   "outputs": [],
   "source": [
    "def calculate_segment_length(segments:gpd.GeoDataFrame) -> gpd.GeoDataFrame:\n",
    "    \"\"\"\n",
    "    Find the length of segments\n",
    "    \"\"\"\n",
    "    segments = segments.assign(\n",
    "        meters_length=(segments.geometry.length)\n",
    "    )\n",
    "    df = segments.drop(columns = ['geometry','district','district_name'])\n",
    "    \n",
    "    return df"
   ]
  },
  {
   "cell_type": "code",
   "execution_count": 18,
   "id": "961e15dc-1c07-411f-92be-785721b7d67e",
   "metadata": {},
   "outputs": [],
   "source": [
    "def merge_segments_speeds(speeds: pd.DataFrame,\n",
    "                          segments:gpd.GeoDataFrame, \n",
    "                          ) -> pd.DataFrame:\n",
    "    \"\"\"\n",
    "    Merge speeds and segments, calculate length.\n",
    "    \"\"\"\n",
    "    segments = calculate_segment_length(segments)\n",
    "    \n",
    "    merge_cols = ['shape_array_key','stop_sequence','schedule_gtfs_dataset_key']\n",
    "    merge1 = pd.merge(segments, speeds, on = merge_cols, how = \"inner\")\n",
    "    \n",
    "    merge1['percent'] = merge1.meters_elapsed/merge1.meters_length * 100\n",
    "    \n",
    "    merge1.percent = merge1.percent.fillna(0)\n",
    "    return merge1"
   ]
  },
  {
   "cell_type": "code",
   "execution_count": 19,
   "id": "0e727efb-8136-4cdc-b9a5-c9bb17bf74cd",
   "metadata": {},
   "outputs": [],
   "source": [
    "merge1 = merge_segments_speeds(speeds, segments_gdf)"
   ]
  },
  {
   "cell_type": "code",
   "execution_count": 20,
   "id": "e0d81d69-30b0-47c1-a560-083eaaac5496",
   "metadata": {},
   "outputs": [],
   "source": [
    "def myround(x, base=5):\n",
    "    return base * round(x/base)"
   ]
  },
  {
   "cell_type": "code",
   "execution_count": 21,
   "id": "d7737449-92b0-417e-ad76-fceb20e9403e",
   "metadata": {},
   "outputs": [],
   "source": [
    "def valid_trips_by_cutoff(df, percentages:list):\n",
    "    \"\"\"\n",
    "    Returns a table of how many trips/routes/operators/etc are kept \n",
    "    after applying a certain percentile cutoff for the \n",
    "    length of segment that's covered.\n",
    "    \n",
    "    Ex: if a segment has 40% of its length covered in RT \n",
    "    data, it falls in the 20th percentile.\n",
    "    \n",
    "    Args:\n",
    "        df: result from  merge_segments_speeds(speeds, segments_gdf)\n",
    "        percentages: the percentiles in floats like 0.2, 0.25, 0.3\n",
    "    \"\"\"\n",
    "    final = pd.DataFrame()\n",
    "    og_len = len(df)\n",
    "    og_trips = df.trip_id.nunique()\n",
    "    og_shape_array_key = df.shape_array_key.nunique()\n",
    "    \n",
    "    for i in percentages:\n",
    "        # Round up percent to nearest 5. Ex: 43 becomes 45.\n",
    "        percent = myround(df.percent.quantile(i).astype(float))\n",
    "        temp = (df[(df.percent >= percent)])\n",
    "        \n",
    "        temp = temp.assign(\n",
    "            percentile = f\"Min. of {percent}% of seg length covered\")\n",
    "        \n",
    "        temp = (temp\n",
    "                .groupby(['percentile'])\n",
    "                .agg({'gtfs_dataset_name':'count',\n",
    "                      'speed_mph':'mean',\n",
    "                      'shape_array_key':'nunique',\n",
    "                      'trip_id':'nunique',\n",
    "                      'gtfs_dataset_key':'nunique'})\n",
    "                .reset_index()\n",
    "                .rename(columns = {'gtfs_dataset_name':'n_rows',\n",
    "                                  'speed_mph':'mean_speed_mph',\n",
    "                                  'shape_array_key':'n_kept_routes',\n",
    "                                  'trip_id':'n_kept_trips',\n",
    "                                  'gtfs_dataset_key':'n_kept_operators'})\n",
    "               )\n",
    "        \n",
    "        final = pd.concat([final, temp], axis=0)\n",
    "\n",
    "    \n",
    "    final = final.assign(\n",
    "        percentage_kept_rows=final.n_rows.divide(og_len) * 100,\n",
    "        percentage_kept_trips = final.n_kept_trips.divide(og_trips) * 100,\n",
    "        percentage_kept_routes = final.n_kept_routes.divide(og_shape_array_key)*100)\n",
    "    \n",
    "    round_cols = ['percentage_kept_rows', 'percentage_kept_trips', 'percentage_kept_routes']\n",
    "    final[round_cols] = final[round_cols].round(0)\n",
    "    return final"
   ]
  },
  {
   "cell_type": "code",
   "execution_count": 22,
   "id": "02da2cef-c921-4d79-856b-a797f715b7ed",
   "metadata": {},
   "outputs": [],
   "source": [
    "test = valid_trips_by_cutoff(merge1, [.1,.2,.3,.4,.5,.6,.7])"
   ]
  },
  {
   "cell_type": "markdown",
   "id": "1483859e-bd07-4d5f-b86f-0f9d7bebe121",
   "metadata": {
    "tags": []
   },
   "source": [
    "## Visualizing Speed\n",
    "* https://nbviewer.org/github/cal-itp/data-analyses/blob/filter-speeds-avgs/rt_segment_speeds/18_speed_distribution.ipynb\n",
    "* https://analysis.calitp.org/rt/district_07-los-angeles/9__speedmaps__district_07-los-angeles__itp_id_300.html"
   ]
  },
  {
   "cell_type": "markdown",
   "id": "938e5d67-7fd0-4d62-af9d-0f26d08f12ed",
   "metadata": {},
   "source": [
    "### % of rows kept"
   ]
  },
  {
   "cell_type": "code",
   "execution_count": 23,
   "id": "561eb328-18d5-4b2a-bd1e-4777b23b765c",
   "metadata": {},
   "outputs": [],
   "source": [
    "test = threshold_utils.pre_clean(test)"
   ]
  },
  {
   "cell_type": "code",
   "execution_count": 24,
   "id": "4e049588-bb4b-4e00-ac0c-d4f836cac1e0",
   "metadata": {},
   "outputs": [
    {
     "data": {
      "text/html": [
       "<div>\n",
       "<style scoped>\n",
       "    .dataframe tbody tr th:only-of-type {\n",
       "        vertical-align: middle;\n",
       "    }\n",
       "\n",
       "    .dataframe tbody tr th {\n",
       "        vertical-align: top;\n",
       "    }\n",
       "\n",
       "    .dataframe thead th {\n",
       "        text-align: right;\n",
       "    }\n",
       "</style>\n",
       "<table border=\"1\" class=\"dataframe\">\n",
       "  <thead>\n",
       "    <tr style=\"text-align: right;\">\n",
       "      <th></th>\n",
       "      <th>Percentile</th>\n",
       "      <th>N Rows</th>\n",
       "      <th>Mean Speed Mph</th>\n",
       "      <th>N Kept Routes</th>\n",
       "      <th>N Kept Trips</th>\n",
       "      <th>N Kept Operators</th>\n",
       "      <th>Percentage Kept Rows</th>\n",
       "      <th>Percentage Kept Trips</th>\n",
       "      <th>Percentage Kept Routes</th>\n",
       "    </tr>\n",
       "  </thead>\n",
       "  <tbody>\n",
       "    <tr>\n",
       "      <th>0</th>\n",
       "      <td>Min. of 35% of seg length covered</td>\n",
       "      <td>1865253</td>\n",
       "      <td>12.20</td>\n",
       "      <td>4067</td>\n",
       "      <td>65747</td>\n",
       "      <td>74</td>\n",
       "      <td>90.00</td>\n",
       "      <td>99.00</td>\n",
       "      <td>100.00</td>\n",
       "    </tr>\n",
       "    <tr>\n",
       "      <th>0</th>\n",
       "      <td>Min. of 55% of seg length covered</td>\n",
       "      <td>1646070</td>\n",
       "      <td>12.20</td>\n",
       "      <td>4060</td>\n",
       "      <td>65524</td>\n",
       "      <td>74</td>\n",
       "      <td>79.00</td>\n",
       "      <td>99.00</td>\n",
       "      <td>99.00</td>\n",
       "    </tr>\n",
       "    <tr>\n",
       "      <th>0</th>\n",
       "      <td>Min. of 65% of seg length covered</td>\n",
       "      <td>1493619</td>\n",
       "      <td>12.10</td>\n",
       "      <td>4053</td>\n",
       "      <td>65322</td>\n",
       "      <td>74</td>\n",
       "      <td>72.00</td>\n",
       "      <td>99.00</td>\n",
       "      <td>99.00</td>\n",
       "    </tr>\n",
       "    <tr>\n",
       "      <th>0</th>\n",
       "      <td>Min. of 80% of seg length covered</td>\n",
       "      <td>1198016</td>\n",
       "      <td>11.70</td>\n",
       "      <td>4034</td>\n",
       "      <td>64656</td>\n",
       "      <td>74</td>\n",
       "      <td>58.00</td>\n",
       "      <td>98.00</td>\n",
       "      <td>99.00</td>\n",
       "    </tr>\n",
       "    <tr>\n",
       "      <th>0</th>\n",
       "      <td>Min. of 85% of seg length covered</td>\n",
       "      <td>1070347</td>\n",
       "      <td>11.50</td>\n",
       "      <td>4019</td>\n",
       "      <td>64120</td>\n",
       "      <td>74</td>\n",
       "      <td>51.00</td>\n",
       "      <td>97.00</td>\n",
       "      <td>98.00</td>\n",
       "    </tr>\n",
       "    <tr>\n",
       "      <th>0</th>\n",
       "      <td>Min. of 90% of seg length covered</td>\n",
       "      <td>914280</td>\n",
       "      <td>11.20</td>\n",
       "      <td>3987</td>\n",
       "      <td>63142</td>\n",
       "      <td>74</td>\n",
       "      <td>44.00</td>\n",
       "      <td>96.00</td>\n",
       "      <td>98.00</td>\n",
       "    </tr>\n",
       "    <tr>\n",
       "      <th>0</th>\n",
       "      <td>Min. of 95% of seg length covered</td>\n",
       "      <td>698923</td>\n",
       "      <td>10.80</td>\n",
       "      <td>3917</td>\n",
       "      <td>61293</td>\n",
       "      <td>74</td>\n",
       "      <td>34.00</td>\n",
       "      <td>93.00</td>\n",
       "      <td>96.00</td>\n",
       "    </tr>\n",
       "  </tbody>\n",
       "</table>\n",
       "</div>"
      ],
      "text/plain": [
       "                          Percentile   N Rows  Mean Speed Mph  N Kept Routes  \\\n",
       "0  Min. of 35% of seg length covered  1865253           12.20           4067   \n",
       "0  Min. of 55% of seg length covered  1646070           12.20           4060   \n",
       "0  Min. of 65% of seg length covered  1493619           12.10           4053   \n",
       "0  Min. of 80% of seg length covered  1198016           11.70           4034   \n",
       "0  Min. of 85% of seg length covered  1070347           11.50           4019   \n",
       "0  Min. of 90% of seg length covered   914280           11.20           3987   \n",
       "0  Min. of 95% of seg length covered   698923           10.80           3917   \n",
       "\n",
       "   N Kept Trips  N Kept Operators  Percentage Kept Rows  \\\n",
       "0         65747                74                 90.00   \n",
       "0         65524                74                 79.00   \n",
       "0         65322                74                 72.00   \n",
       "0         64656                74                 58.00   \n",
       "0         64120                74                 51.00   \n",
       "0         63142                74                 44.00   \n",
       "0         61293                74                 34.00   \n",
       "\n",
       "   Percentage Kept Trips  Percentage Kept Routes  \n",
       "0                  99.00                  100.00  \n",
       "0                  99.00                   99.00  \n",
       "0                  99.00                   99.00  \n",
       "0                  98.00                   99.00  \n",
       "0                  97.00                   98.00  \n",
       "0                  96.00                   98.00  \n",
       "0                  93.00                   96.00  "
      ]
     },
     "execution_count": 24,
     "metadata": {},
     "output_type": "execute_result"
    }
   ],
   "source": [
    "test"
   ]
  },
  {
   "cell_type": "code",
   "execution_count": 25,
   "id": "65d0b237-544f-4245-9de0-f2308ae8c8f2",
   "metadata": {},
   "outputs": [],
   "source": [
    "# Main chart\n",
    "def bar_chart(df, x_column: str, y_column:str, title:str):\n",
    "    chart = (alt.Chart(df)\n",
    "         .mark_bar()\n",
    "         .encode(x=x_column, y= y_column, \n",
    "          color=alt.Color(y_column, \n",
    "          scale=alt.Scale(range=cp.CALITP_CATEGORY_BRIGHT_COLORS),\n",
    "          legend=None),\n",
    "          tooltip = df.columns.tolist())\n",
    "         .properties(title = title)\n",
    "            )\n",
    "    chart = threshold_utils.chart_size((chart), 400,300)\n",
    "    return chart\n",
    "    "
   ]
  },
  {
   "cell_type": "code",
   "execution_count": 26,
   "id": "4c8a453f-e38f-4a37-9a3e-06f8069f7dca",
   "metadata": {},
   "outputs": [
    {
     "data": {
      "text/html": [
       "\n",
       "<style>\n",
       "  #altair-viz-2c3a9d546af34947b52a8960beafc829.vega-embed {\n",
       "    width: 100%;\n",
       "    display: flex;\n",
       "  }\n",
       "\n",
       "  #altair-viz-2c3a9d546af34947b52a8960beafc829.vega-embed details,\n",
       "  #altair-viz-2c3a9d546af34947b52a8960beafc829.vega-embed details summary {\n",
       "    position: relative;\n",
       "  }\n",
       "</style>\n",
       "<div id=\"altair-viz-2c3a9d546af34947b52a8960beafc829\"></div>\n",
       "<script type=\"text/javascript\">\n",
       "  var VEGA_DEBUG = (typeof VEGA_DEBUG == \"undefined\") ? {} : VEGA_DEBUG;\n",
       "  (function(spec, embedOpt){\n",
       "    let outputDiv = document.currentScript.previousElementSibling;\n",
       "    if (outputDiv.id !== \"altair-viz-2c3a9d546af34947b52a8960beafc829\") {\n",
       "      outputDiv = document.getElementById(\"altair-viz-2c3a9d546af34947b52a8960beafc829\");\n",
       "    }\n",
       "    const paths = {\n",
       "      \"vega\": \"https://cdn.jsdelivr.net/npm/vega@5?noext\",\n",
       "      \"vega-lib\": \"https://cdn.jsdelivr.net/npm/vega-lib?noext\",\n",
       "      \"vega-lite\": \"https://cdn.jsdelivr.net/npm/vega-lite@5.8.0?noext\",\n",
       "      \"vega-embed\": \"https://cdn.jsdelivr.net/npm/vega-embed@6?noext\",\n",
       "    };\n",
       "\n",
       "    function maybeLoadScript(lib, version) {\n",
       "      var key = `${lib.replace(\"-\", \"\")}_version`;\n",
       "      return (VEGA_DEBUG[key] == version) ?\n",
       "        Promise.resolve(paths[lib]) :\n",
       "        new Promise(function(resolve, reject) {\n",
       "          var s = document.createElement('script');\n",
       "          document.getElementsByTagName(\"head\")[0].appendChild(s);\n",
       "          s.async = true;\n",
       "          s.onload = () => {\n",
       "            VEGA_DEBUG[key] = version;\n",
       "            return resolve(paths[lib]);\n",
       "          };\n",
       "          s.onerror = () => reject(`Error loading script: ${paths[lib]}`);\n",
       "          s.src = paths[lib];\n",
       "        });\n",
       "    }\n",
       "\n",
       "    function showError(err) {\n",
       "      outputDiv.innerHTML = `<div class=\"error\" style=\"color:red;\">${err}</div>`;\n",
       "      throw err;\n",
       "    }\n",
       "\n",
       "    function displayChart(vegaEmbed) {\n",
       "      vegaEmbed(outputDiv, spec, embedOpt)\n",
       "        .catch(err => showError(`Javascript Error: ${err.message}<br>This usually means there's a typo in your chart specification. See the javascript console for the full traceback.`));\n",
       "    }\n",
       "\n",
       "    if(typeof define === \"function\" && define.amd) {\n",
       "      requirejs.config({paths});\n",
       "      require([\"vega-embed\"], displayChart, err => showError(`Error loading script: ${err.message}`));\n",
       "    } else {\n",
       "      maybeLoadScript(\"vega\", \"5\")\n",
       "        .then(() => maybeLoadScript(\"vega-lite\", \"5.8.0\"))\n",
       "        .then(() => maybeLoadScript(\"vega-embed\", \"6\"))\n",
       "        .catch(showError)\n",
       "        .then(() => displayChart(vegaEmbed));\n",
       "    }\n",
       "  })({\"config\": {\"view\": {\"continuousWidth\": 300, \"continuousHeight\": 300}}, \"data\": {\"name\": \"data-584b2f9f484dd79fd93f5d5e19060f4a\"}, \"mark\": {\"type\": \"bar\"}, \"encoding\": {\"color\": {\"field\": \"Percentile\", \"legend\": null, \"scale\": {\"range\": [\"#2EA8CE\", \"#EB9F3C\", \"#F4D837\", \"#51BF9D\", \"#8CBCCB\", \"#9487C0\"]}, \"type\": \"nominal\"}, \"tooltip\": [{\"field\": \"Percentile\", \"type\": \"nominal\"}, {\"field\": \"N Rows\", \"type\": \"quantitative\"}, {\"field\": \"Mean Speed Mph\", \"type\": \"quantitative\"}, {\"field\": \"N Kept Routes\", \"type\": \"quantitative\"}, {\"field\": \"N Kept Trips\", \"type\": \"quantitative\"}, {\"field\": \"N Kept Operators\", \"type\": \"quantitative\"}, {\"field\": \"Percentage Kept Rows\", \"type\": \"quantitative\"}, {\"field\": \"Percentage Kept Trips\", \"type\": \"quantitative\"}, {\"field\": \"Percentage Kept Routes\", \"type\": \"quantitative\"}], \"x\": {\"field\": \"Percentage Kept Rows\", \"type\": \"quantitative\"}, \"y\": {\"field\": \"Percentile\", \"type\": \"nominal\"}}, \"height\": 300, \"title\": \"Rows Kept After % Segment Cutoff\", \"width\": 400, \"$schema\": \"https://vega.github.io/schema/vega-lite/v5.8.0.json\", \"datasets\": {\"data-584b2f9f484dd79fd93f5d5e19060f4a\": [{\"Percentile\": \"Min. of 35% of seg length covered\", \"N Rows\": 1865253, \"Mean Speed Mph\": 12.2, \"N Kept Routes\": 4067, \"N Kept Trips\": 65747, \"N Kept Operators\": 74, \"Percentage Kept Rows\": 90.0, \"Percentage Kept Trips\": 99.0, \"Percentage Kept Routes\": 100.0}, {\"Percentile\": \"Min. of 55% of seg length covered\", \"N Rows\": 1646070, \"Mean Speed Mph\": 12.2, \"N Kept Routes\": 4060, \"N Kept Trips\": 65524, \"N Kept Operators\": 74, \"Percentage Kept Rows\": 79.0, \"Percentage Kept Trips\": 99.0, \"Percentage Kept Routes\": 99.0}, {\"Percentile\": \"Min. of 65% of seg length covered\", \"N Rows\": 1493619, \"Mean Speed Mph\": 12.1, \"N Kept Routes\": 4053, \"N Kept Trips\": 65322, \"N Kept Operators\": 74, \"Percentage Kept Rows\": 72.0, \"Percentage Kept Trips\": 99.0, \"Percentage Kept Routes\": 99.0}, {\"Percentile\": \"Min. of 80% of seg length covered\", \"N Rows\": 1198016, \"Mean Speed Mph\": 11.7, \"N Kept Routes\": 4034, \"N Kept Trips\": 64656, \"N Kept Operators\": 74, \"Percentage Kept Rows\": 58.0, \"Percentage Kept Trips\": 98.0, \"Percentage Kept Routes\": 99.0}, {\"Percentile\": \"Min. of 85% of seg length covered\", \"N Rows\": 1070347, \"Mean Speed Mph\": 11.5, \"N Kept Routes\": 4019, \"N Kept Trips\": 64120, \"N Kept Operators\": 74, \"Percentage Kept Rows\": 51.0, \"Percentage Kept Trips\": 97.0, \"Percentage Kept Routes\": 98.0}, {\"Percentile\": \"Min. of 90% of seg length covered\", \"N Rows\": 914280, \"Mean Speed Mph\": 11.2, \"N Kept Routes\": 3987, \"N Kept Trips\": 63142, \"N Kept Operators\": 74, \"Percentage Kept Rows\": 44.0, \"Percentage Kept Trips\": 96.0, \"Percentage Kept Routes\": 98.0}, {\"Percentile\": \"Min. of 95% of seg length covered\", \"N Rows\": 698923, \"Mean Speed Mph\": 10.8, \"N Kept Routes\": 3917, \"N Kept Trips\": 61293, \"N Kept Operators\": 74, \"Percentage Kept Rows\": 34.0, \"Percentage Kept Trips\": 93.0, \"Percentage Kept Routes\": 96.0}]}}, {\"mode\": \"vega-lite\"});\n",
       "</script>"
      ],
      "text/plain": [
       "alt.Chart(...)"
      ]
     },
     "execution_count": 26,
     "metadata": {},
     "output_type": "execute_result"
    }
   ],
   "source": [
    "bar_chart(test, 'Percentage Kept Rows','Percentile', 'Rows Kept After % Segment Cutoff')"
   ]
  },
  {
   "cell_type": "markdown",
   "id": "5c7ed892-21b4-434c-bc90-c76514e446d2",
   "metadata": {},
   "source": [
    "## Only keep speeds that meet a certain threshold\n",
    "* Put it in `speeds_with_segment_geom` in `B2`"
   ]
  },
  {
   "cell_type": "code",
   "execution_count": 29,
   "id": "ee843630-501d-4a46-82a4-8005cb0f4fe4",
   "metadata": {},
   "outputs": [],
   "source": [
    "def speeds_length_filter(speeds: pd.DataFrame,\n",
    "                         segments: gpd.GeoDataFrame,\n",
    "                         columns_to_keep: list,\n",
    "                         percentile: float = 0.20) -> pd.DataFrame:\n",
    "    \n",
    "    \"\"\"\n",
    "    Do an inner merge on speeds and segments. \n",
    "    Filter out segment lengths that don't meet a \n",
    "    particular percentile we set. \n",
    "    \"\"\"\n",
    "    # Do an inner merge \n",
    "    df= merge_segments_speeds(speeds, segments_gdf)\n",
    "    \n",
    "    # Round the percent\n",
    "    percent = myround(df.percent.quantile(percentile).astype(float))\n",
    "    \n",
    "    df2 = (df[(df.percent >= percent)])\n",
    "    \n",
    "    df2 = df2[columns_to_keep]\n",
    "    \n",
    "    # Keep both unfiltered and filtered\n",
    "    return df, df2"
   ]
  },
  {
   "cell_type": "code",
   "execution_count": 30,
   "id": "885133ec-ef30-45f5-9270-60dd8fb8a33e",
   "metadata": {},
   "outputs": [],
   "source": [
    "# test1, test2 = speeds_length_filter(speeds, segments_gdf, columns_to_keep, 0.10)"
   ]
  },
  {
   "cell_type": "code",
   "execution_count": 31,
   "id": "1313db6d-8f9a-4db5-ad05-db00bf872a0b",
   "metadata": {},
   "outputs": [],
   "source": [
    "# test1.shape"
   ]
  },
  {
   "cell_type": "code",
   "execution_count": 32,
   "id": "f83bd217-57f8-46e4-a69c-67dc364a6956",
   "metadata": {},
   "outputs": [],
   "source": [
    "\n",
    "# test2.shape"
   ]
  },
  {
   "cell_type": "code",
   "execution_count": 33,
   "id": "a9693adf-b08f-49f9-8162-94f1e473488d",
   "metadata": {},
   "outputs": [],
   "source": [
    "# test2.columns"
   ]
  },
  {
   "cell_type": "markdown",
   "id": "508cf5a1-bc2c-4fb8-904f-62cfc19fc04f",
   "metadata": {},
   "source": [
    "### Edited B2 function"
   ]
  },
  {
   "cell_type": "code",
   "execution_count": 34,
   "id": "3f39e3f6-e3c6-462c-ae15-bd2ebe57ecb8",
   "metadata": {},
   "outputs": [],
   "source": [
    "columns_to_keep = ['shape_array_key', 'stop_sequence', 'gtfs_dataset_key',\n",
    "      'gtfs_dataset_name', 'trip_id', 'min_time', 'min_dist', 'max_time',\n",
    "       'max_dist', 'meters_elapsed', 'sec_elapsed', 'speed_mph',\n",
    "      'trip_instance_key', 'schedule_gtfs_dataset_key',]"
   ]
  },
  {
   "cell_type": "code",
   "execution_count": 37,
   "id": "e236fe57-b9a9-4ca0-8993-08c41723eeaf",
   "metadata": {},
   "outputs": [],
   "source": [
    "def add_back_missing_stops(filtered_speeds:pd.DataFrame, \n",
    "                           original_speeds:pd.DataFrame,\n",
    "                           columns_to_merge:list) -> pd.DataFrame:\n",
    "    \n",
    "  \n",
    "    merge1 = pd.merge(original_speeds, filtered_speeds, on = columns_to_merge, how = \"left\", indicator = True)\n",
    "    print(merge1._merge.value_counts())\n",
    "    \n",
    "    \n",
    "    # Filter out for left only speeds that were deleted\n",
    "    left_only = merge1.loc[merge1._merge == 'left_only']\n",
    "    \n",
    "    # Check that filtering was right\n",
    "    # print(len(original_speeds)-len(filtered_speeds) == len(left_only))\n",
    "    \n",
    "    # Only need to keep one instance of a deleted stop seq.\n",
    "    left_only = left_only[columns_to_merge].drop_duplicates().reset_index(drop = True)\n",
    "\n",
    "    return left_only \n"
   ]
  },
  {
   "cell_type": "code",
   "execution_count": 38,
   "id": "dc78af95-353e-481d-a46f-45836b2df248",
   "metadata": {},
   "outputs": [],
   "source": [
    "# test3 = add_back_missing_stops(test2, test1, columns_to_keep)"
   ]
  },
  {
   "cell_type": "code",
   "execution_count": 39,
   "id": "7279cab2-ab61-4abb-ad56-d13de1819de2",
   "metadata": {},
   "outputs": [],
   "source": [
    "# test3.shape"
   ]
  },
  {
   "cell_type": "code",
   "execution_count": 40,
   "id": "a379e9fa-84cf-4f00-8aac-b606aa3dec7e",
   "metadata": {},
   "outputs": [],
   "source": [
    "# test3.sample(3)"
   ]
  },
  {
   "cell_type": "markdown",
   "id": "7a5ae4fe-a747-4e80-997e-5f57d5e8f1c8",
   "metadata": {},
   "source": [
    "### Question\n",
    "* When should I add back missing stops, right now I'm doing it after you are done calculating all the averages but maybe this should happen at a different point of the process."
   ]
  },
  {
   "cell_type": "code",
   "execution_count": 89,
   "id": "c00cef57-a7f9-474a-8ad2-9719d3d375e8",
   "metadata": {},
   "outputs": [
    {
     "ename": "SyntaxError",
     "evalue": "invalid syntax (2594350709.py, line 49)",
     "output_type": "error",
     "traceback": [
      "\u001b[0;36m  Cell \u001b[0;32mIn[89], line 49\u001b[0;36m\u001b[0m\n\u001b[0;31m    df3 = df2[(df2.pct_seg >= some_threshold) & (df2.speed_mph.notna()) & ]\u001b[0m\n\u001b[0m                                                                          ^\u001b[0m\n\u001b[0;31mSyntaxError\u001b[0m\u001b[0;31m:\u001b[0m invalid syntax\n"
     ]
    }
   ],
   "source": [
    "def speeds_with_segment_geom(\n",
    "    analysis_date: str, \n",
    "    max_speed_cutoff: int = 70,\n",
    "    dict_inputs: dict = {},\n",
    "    percentile:float = 0.20,\n",
    ") -> gpd.GeoDataFrame: \n",
    "    \"\"\"\n",
    "    Import the segment-trip table. \n",
    "    Average the speed_mph across all trips present in the segment.\n",
    "    \"\"\"\n",
    "    SEGMENT_FILE = dict_inputs[\"segments_file\"]\n",
    "    SEGMENT_IDENTIFIER_COLS = dict_inputs[\"segment_identifier_cols\"]\n",
    "    SPEEDS_FILE = dict_inputs[\"stage4\"]\n",
    "    \n",
    "    # Merge in segment geometry\n",
    "    segments = helpers.import_segments(\n",
    "        SEGMENT_GCS,\n",
    "        f\"{SEGMENT_FILE}_{analysis_date}\",\n",
    "        columns = SEGMENT_IDENTIFIER_COLS + [\n",
    "            \"schedule_gtfs_dataset_key\", \n",
    "            \"stop_id\",\n",
    "            \"loop_or_inlining\",\n",
    "            \"geometry\", \n",
    "            \"district\", \"district_name\"\n",
    "        ]\n",
    "    )\n",
    "    \n",
    "    # check CRS\n",
    "    segments[\"segment_length\"] = segments.geometry.length\n",
    "    \n",
    "    # Read in speeds\n",
    "    df = pd.read_parquet(\n",
    "        f\"{SEGMENT_GCS}{SPEEDS_FILE}_{analysis_date}\", \n",
    "        #filters = [[(\"speed_mph\", \"<=\", max_speed_cutoff), \n",
    "        #            (\"sec_elapsed\", \">\", 0), \n",
    "        #            (\"meters_elapsed\", \">\", 0)\n",
    "        #           ]]\n",
    "    )\n",
    "    \n",
    "    #df2 = df[df.speed_mph.notna() ].reset_index(drop=True)\n",
    "    \n",
    "    unique_segments = df[SEGMENT_IDENTIFIER_COLS].drop_duplicates()\n",
    "    \n",
    "    # do a merge with segments\n",
    "    \n",
    "    \n",
    "    df2 = df2.assign(\n",
    "        pct_seg = df2.meters_elapsed.divide(df2.segment_length)\n",
    "    )\n",
    "    \n",
    "    df3 = df2[(df2.pct_seg >= some_threshold) & (df2.speed_mph.notna()) & \n",
    "              (df2.sec_elapsed > 0) & (df2.meters_elapsed > 0)]\n",
    "    \n",
    "    # Filter out abnormally high and low speeds\n",
    "    # Threshold defaults to throwing away the bottom 20% of rows with low speeds.\n",
    "    columns_keep_merge = ['shape_array_key', 'stop_sequence', 'schedule_gtfs_dataset_key',\n",
    "      'gtfs_dataset_name', 'trip_id', 'min_time', 'min_dist', 'max_time',\n",
    "       'max_dist', 'meters_elapsed', 'sec_elapsed', 'speed_mph',\n",
    "      'trip_instance_key']\n",
    "    all_speeds, df3 = speeds_length_filter(df2, segments, columns_keep_merge, percentile)\n",
    "    \n",
    "    time_of_day_df = sched_rt_utils.get_trip_time_buckets(analysis_date)\n",
    "\n",
    "    df4 = pd.merge(\n",
    "        df3, \n",
    "        time_of_day_df, \n",
    "        on = \"trip_instance_key\", \n",
    "        how = \"inner\"\n",
    "    )\n",
    "    \n",
    "    all_day = B2_avg_speeds_by_segment.calculate_avg_speeds(\n",
    "        df4, \n",
    "        SEGMENT_IDENTIFIER_COLS\n",
    "    )\n",
    "    peak = B2_avg_speeds_by_segment.calculate_avg_speeds(\n",
    "        df4[df4.time_of_day.isin([\"AM Peak\", \"PM Peak\"])], \n",
    "        SEGMENT_IDENTIFIER_COLS\n",
    "    )\n",
    "    \n",
    "    stats = pd.concat([\n",
    "        all_day.assign(time_of_day = \"all_day\"),\n",
    "        peak.assign(time_of_day = \"peak\")\n",
    "    ], axis=0)\n",
    "    \n",
    "    ## newstuff \n",
    "    # start with segments with geom (scheduled, we have way too many)\n",
    "    # merge against unique_segments (these are present in RT...inner join)...we have geom for segments we care about\n",
    "    # merge against stats (left join)\n",
    "    \n",
    "    # Add back in rows that were filtered out for \n",
    "    # segment length\n",
    "    missing = add_back_missing_stops(stats, all_speeds, ['shape_array_key', 'stop_sequence'])\n",
    "    \n",
    "    # Concat & fill in NA \n",
    "    stats2 = pd.concat([missing, stats])\n",
    "    stats2 = stats2.fillna(stats2.dtypes.replace({'float64': 0.0, 'object': 'None'}))\n",
    "                           \n",
    "    # Merge in segment geometry with a changed CRS\n",
    "    segments = segments.to_crs(geography_utils.WGS84)\n",
    "    \n",
    "    gdf = pd.merge(\n",
    "        segments,\n",
    "        stats2,\n",
    "        on = SEGMENT_IDENTIFIER_COLS,\n",
    "        how = \"inner\"\n",
    "    )\n",
    "    \n",
    "    return gdf"
   ]
  },
  {
   "cell_type": "markdown",
   "id": "04682811-eda1-424f-9a3d-4609f37f5a80",
   "metadata": {},
   "source": [
    "### Check out speeds"
   ]
  },
  {
   "cell_type": "code",
   "execution_count": 42,
   "id": "5355132e-988c-40f0-8648-afaf5fe9b026",
   "metadata": {},
   "outputs": [
    {
     "name": "stdout",
     "output_type": "stream",
     "text": [
      "both          4074061\n",
      "left_only        9225\n",
      "right_only          0\n",
      "Name: _merge, dtype: int64\n"
     ]
    }
   ],
   "source": [
    "# 2:12\n",
    "avg_test = speeds_with_segment_geom(analysis_date, \n",
    "                                    70, \n",
    "                                    dictionary,\n",
    "                                    0.1)"
   ]
  },
  {
   "cell_type": "code",
   "execution_count": 43,
   "id": "781ca8a6-50dd-4257-9919-a9c9ddc1019f",
   "metadata": {},
   "outputs": [],
   "source": [
    "STG5_FILE = dictionary['stage5']\n",
    "og_avg = gpd.read_parquet(f\"{SEGMENT_GCS}{STG5_FILE}_{analysis_date}.parquet\")"
   ]
  },
  {
   "cell_type": "code",
   "execution_count": 44,
   "id": "f63c1331-02ec-418f-a3ef-d0c7c4eb6a34",
   "metadata": {},
   "outputs": [
    {
     "data": {
      "text/plain": [
       "'avg_speeds_stop_segments'"
      ]
     },
     "execution_count": 44,
     "metadata": {},
     "output_type": "execute_result"
    }
   ],
   "source": [
    "STG5_FILE"
   ]
  },
  {
   "cell_type": "code",
   "execution_count": 45,
   "id": "dffb7735-277d-41c8-8915-c04a5396ed55",
   "metadata": {},
   "outputs": [
    {
     "data": {
      "text/plain": [
       "array([ True,  True,  True,  True,  True,  True,  True,  True,  True,\n",
       "        True,  True,  True,  True])"
      ]
     },
     "execution_count": 45,
     "metadata": {},
     "output_type": "execute_result"
    }
   ],
   "source": [
    "avg_test.columns == og_avg.columns"
   ]
  },
  {
   "cell_type": "markdown",
   "id": "28f5118e-c273-4094-94aa-d9a8c02b9029",
   "metadata": {},
   "source": [
    "* There are 3000 less rows"
   ]
  },
  {
   "cell_type": "code",
   "execution_count": 46,
   "id": "7e2944cc-5fff-42d4-a120-72fc3f61f82b",
   "metadata": {},
   "outputs": [
    {
     "data": {
      "text/html": [
       "<div>\n",
       "<style scoped>\n",
       "    .dataframe tbody tr th:only-of-type {\n",
       "        vertical-align: middle;\n",
       "    }\n",
       "\n",
       "    .dataframe tbody tr th {\n",
       "        vertical-align: top;\n",
       "    }\n",
       "\n",
       "    .dataframe thead th {\n",
       "        text-align: right;\n",
       "    }\n",
       "</style>\n",
       "<table border=\"1\" class=\"dataframe\">\n",
       "  <thead>\n",
       "    <tr style=\"text-align: right;\">\n",
       "      <th></th>\n",
       "      <th>shape_array_key</th>\n",
       "      <th>stop_sequence</th>\n",
       "      <th>schedule_gtfs_dataset_key</th>\n",
       "      <th>stop_id</th>\n",
       "      <th>loop_or_inlining</th>\n",
       "      <th>district</th>\n",
       "      <th>district_name</th>\n",
       "      <th>p50_mph</th>\n",
       "      <th>n_trips</th>\n",
       "      <th>p20_mph</th>\n",
       "      <th>p80_mph</th>\n",
       "      <th>time_of_day</th>\n",
       "    </tr>\n",
       "  </thead>\n",
       "  <tbody>\n",
       "    <tr>\n",
       "      <th>196428</th>\n",
       "      <td>ddfd6767d8d7e9a8fba6734f8c47c310</td>\n",
       "      <td>2</td>\n",
       "      <td>1ebafaca8716652559b2017b6eedc4ef</td>\n",
       "      <td>821079</td>\n",
       "      <td>0</td>\n",
       "      <td>4</td>\n",
       "      <td>District 4 - Oakland</td>\n",
       "      <td>1.34</td>\n",
       "      <td>11.00</td>\n",
       "      <td>1.24</td>\n",
       "      <td>2.02</td>\n",
       "      <td>all_day</td>\n",
       "    </tr>\n",
       "    <tr>\n",
       "      <th>97752</th>\n",
       "      <td>6d7a6034a6d16c6821dd5572063c0b85</td>\n",
       "      <td>23</td>\n",
       "      <td>3f3f36b4c41cc6b5df3eb7f5d8ea6e3c</td>\n",
       "      <td>880</td>\n",
       "      <td>0</td>\n",
       "      <td>7</td>\n",
       "      <td>District 7 - Los Angeles</td>\n",
       "      <td>15.42</td>\n",
       "      <td>3.00</td>\n",
       "      <td>14.70</td>\n",
       "      <td>21.56</td>\n",
       "      <td>peak</td>\n",
       "    </tr>\n",
       "    <tr>\n",
       "      <th>174950</th>\n",
       "      <td>c607b07eae80cceddb1e8903400ea058</td>\n",
       "      <td>5</td>\n",
       "      <td>fb467982dcc77a7f9199bebe709bb700</td>\n",
       "      <td>64175</td>\n",
       "      <td>0</td>\n",
       "      <td>4</td>\n",
       "      <td>District 4 - Oakland</td>\n",
       "      <td>23.36</td>\n",
       "      <td>7.00</td>\n",
       "      <td>15.81</td>\n",
       "      <td>25.04</td>\n",
       "      <td>all_day</td>\n",
       "    </tr>\n",
       "  </tbody>\n",
       "</table>\n",
       "</div>"
      ],
      "text/plain": [
       "                         shape_array_key  stop_sequence  \\\n",
       "196428  ddfd6767d8d7e9a8fba6734f8c47c310              2   \n",
       "97752   6d7a6034a6d16c6821dd5572063c0b85             23   \n",
       "174950  c607b07eae80cceddb1e8903400ea058              5   \n",
       "\n",
       "               schedule_gtfs_dataset_key stop_id  loop_or_inlining  district  \\\n",
       "196428  1ebafaca8716652559b2017b6eedc4ef  821079                 0         4   \n",
       "97752   3f3f36b4c41cc6b5df3eb7f5d8ea6e3c     880                 0         7   \n",
       "174950  fb467982dcc77a7f9199bebe709bb700   64175                 0         4   \n",
       "\n",
       "                   district_name  p50_mph  n_trips  p20_mph  p80_mph  \\\n",
       "196428      District 4 - Oakland     1.34    11.00     1.24     2.02   \n",
       "97752   District 7 - Los Angeles    15.42     3.00    14.70    21.56   \n",
       "174950      District 4 - Oakland    23.36     7.00    15.81    25.04   \n",
       "\n",
       "       time_of_day  \n",
       "196428     all_day  \n",
       "97752         peak  \n",
       "174950     all_day  "
      ]
     },
     "execution_count": 46,
     "metadata": {},
     "output_type": "execute_result"
    }
   ],
   "source": [
    "avg_test.sample(3).drop(columns=['geometry'])"
   ]
  },
  {
   "cell_type": "code",
   "execution_count": 47,
   "id": "0f29bc9a-8c99-468d-8f72-fd553b18d67f",
   "metadata": {},
   "outputs": [
    {
     "data": {
      "text/html": [
       "<div>\n",
       "<style scoped>\n",
       "    .dataframe tbody tr th:only-of-type {\n",
       "        vertical-align: middle;\n",
       "    }\n",
       "\n",
       "    .dataframe tbody tr th {\n",
       "        vertical-align: top;\n",
       "    }\n",
       "\n",
       "    .dataframe thead th {\n",
       "        text-align: right;\n",
       "    }\n",
       "</style>\n",
       "<table border=\"1\" class=\"dataframe\">\n",
       "  <thead>\n",
       "    <tr style=\"text-align: right;\">\n",
       "      <th></th>\n",
       "      <th></th>\n",
       "      <th></th>\n",
       "      <th>district</th>\n",
       "    </tr>\n",
       "    <tr>\n",
       "      <th>shape_array_key</th>\n",
       "      <th>schedule_gtfs_dataset_key</th>\n",
       "      <th>stop_sequence</th>\n",
       "      <th></th>\n",
       "    </tr>\n",
       "  </thead>\n",
       "  <tbody>\n",
       "    <tr>\n",
       "      <th>000b8c60f7767e8214f6ef6638d2cb83</th>\n",
       "      <th>78b44303c1714f6c6a4801637c2a5c9d</th>\n",
       "      <th>2</th>\n",
       "      <td>2</td>\n",
       "    </tr>\n",
       "    <tr>\n",
       "      <th rowspan=\"4\" valign=\"top\">a02184b3fd23d678b7c12ed197936df7</th>\n",
       "      <th rowspan=\"4\" valign=\"top\">3f3f36b4c41cc6b5df3eb7f5d8ea6e3c</th>\n",
       "      <th>14</th>\n",
       "      <td>2</td>\n",
       "    </tr>\n",
       "    <tr>\n",
       "      <th>25</th>\n",
       "      <td>2</td>\n",
       "    </tr>\n",
       "    <tr>\n",
       "      <th>24</th>\n",
       "      <td>2</td>\n",
       "    </tr>\n",
       "    <tr>\n",
       "      <th>23</th>\n",
       "      <td>2</td>\n",
       "    </tr>\n",
       "  </tbody>\n",
       "</table>\n",
       "</div>"
      ],
      "text/plain": [
       "                                                                                 district\n",
       "shape_array_key                  schedule_gtfs_dataset_key        stop_sequence          \n",
       "000b8c60f7767e8214f6ef6638d2cb83 78b44303c1714f6c6a4801637c2a5c9d 2                     2\n",
       "a02184b3fd23d678b7c12ed197936df7 3f3f36b4c41cc6b5df3eb7f5d8ea6e3c 14                    2\n",
       "                                                                  25                    2\n",
       "                                                                  24                    2\n",
       "                                                                  23                    2"
      ]
     },
     "execution_count": 47,
     "metadata": {},
     "output_type": "execute_result"
    }
   ],
   "source": [
    "# See unique stops-keys-routes. They should have no more than 2.\n",
    "avg_test.groupby(['shape_array_key','schedule_gtfs_dataset_key','stop_sequence']).agg({'district':'count'}).sort_values('district', ascending = False).head()"
   ]
  },
  {
   "cell_type": "code",
   "execution_count": 48,
   "id": "e761f21e-6e0e-466f-878e-a72aa15d7b19",
   "metadata": {},
   "outputs": [
    {
     "data": {
      "text/plain": [
       "(230532, 13)"
      ]
     },
     "execution_count": 48,
     "metadata": {},
     "output_type": "execute_result"
    }
   ],
   "source": [
    "og_avg.shape"
   ]
  },
  {
   "cell_type": "code",
   "execution_count": 49,
   "id": "da0ccf1f-29b2-4374-a8aa-99d7a59256e3",
   "metadata": {},
   "outputs": [
    {
     "data": {
      "text/plain": [
       "(227055, 13)"
      ]
     },
     "execution_count": 49,
     "metadata": {},
     "output_type": "execute_result"
    }
   ],
   "source": [
    "avg_test.shape"
   ]
  },
  {
   "cell_type": "markdown",
   "id": "d9cbd71c-ff9d-49f4-a522-0150d3721da7",
   "metadata": {},
   "source": [
    "## Checks"
   ]
  },
  {
   "cell_type": "markdown",
   "id": "d46dc2db-7e09-49bc-b377-f2b8951368fe",
   "metadata": {},
   "source": [
    "### Checking one sequence that was deemed \"missing\""
   ]
  },
  {
   "cell_type": "code",
   "execution_count": 50,
   "id": "049cdd28-3bea-4e9d-9d0c-2dd3f357b6db",
   "metadata": {},
   "outputs": [
    {
     "data": {
      "text/html": [
       "<div>\n",
       "<style scoped>\n",
       "    .dataframe tbody tr th:only-of-type {\n",
       "        vertical-align: middle;\n",
       "    }\n",
       "\n",
       "    .dataframe tbody tr th {\n",
       "        vertical-align: top;\n",
       "    }\n",
       "\n",
       "    .dataframe thead th {\n",
       "        text-align: right;\n",
       "    }\n",
       "</style>\n",
       "<table border=\"1\" class=\"dataframe\">\n",
       "  <thead>\n",
       "    <tr style=\"text-align: right;\">\n",
       "      <th></th>\n",
       "      <th>shape_array_key</th>\n",
       "      <th>stop_sequence</th>\n",
       "      <th>schedule_gtfs_dataset_key</th>\n",
       "      <th>stop_id</th>\n",
       "      <th>loop_or_inlining</th>\n",
       "      <th>district</th>\n",
       "      <th>district_name</th>\n",
       "      <th>p50_mph</th>\n",
       "      <th>n_trips</th>\n",
       "      <th>p20_mph</th>\n",
       "      <th>p80_mph</th>\n",
       "      <th>time_of_day</th>\n",
       "    </tr>\n",
       "  </thead>\n",
       "  <tbody>\n",
       "    <tr>\n",
       "      <th>58561</th>\n",
       "      <td>41f674db173a1acc97aea4dac0187576</td>\n",
       "      <td>17</td>\n",
       "      <td>3f3f36b4c41cc6b5df3eb7f5d8ea6e3c</td>\n",
       "      <td>2253</td>\n",
       "      <td>0</td>\n",
       "      <td>7</td>\n",
       "      <td>District 7 - Los Angeles</td>\n",
       "      <td>0.00</td>\n",
       "      <td>0.00</td>\n",
       "      <td>0.00</td>\n",
       "      <td>0.00</td>\n",
       "      <td>None</td>\n",
       "    </tr>\n",
       "    <tr>\n",
       "      <th>64950</th>\n",
       "      <td>4782a824634ba68149e036632f1d9651</td>\n",
       "      <td>3</td>\n",
       "      <td>43d8d305ee692724a532f30ea63a1cbe</td>\n",
       "      <td>1214</td>\n",
       "      <td>0</td>\n",
       "      <td>5</td>\n",
       "      <td>District 5 - San Luis Obispo</td>\n",
       "      <td>0.00</td>\n",
       "      <td>0.00</td>\n",
       "      <td>0.00</td>\n",
       "      <td>0.00</td>\n",
       "      <td>None</td>\n",
       "    </tr>\n",
       "    <tr>\n",
       "      <th>44755</th>\n",
       "      <td>31108a486d64929d7a910564fe9ee9b2</td>\n",
       "      <td>2</td>\n",
       "      <td>eb9acbcb42315399bb54df78adfd3dac</td>\n",
       "      <td>0490</td>\n",
       "      <td>0</td>\n",
       "      <td>5</td>\n",
       "      <td>District 5 - San Luis Obispo</td>\n",
       "      <td>0.00</td>\n",
       "      <td>0.00</td>\n",
       "      <td>0.00</td>\n",
       "      <td>0.00</td>\n",
       "      <td>None</td>\n",
       "    </tr>\n",
       "  </tbody>\n",
       "</table>\n",
       "</div>"
      ],
      "text/plain": [
       "                        shape_array_key  stop_sequence  \\\n",
       "58561  41f674db173a1acc97aea4dac0187576             17   \n",
       "64950  4782a824634ba68149e036632f1d9651              3   \n",
       "44755  31108a486d64929d7a910564fe9ee9b2              2   \n",
       "\n",
       "              schedule_gtfs_dataset_key stop_id  loop_or_inlining  district  \\\n",
       "58561  3f3f36b4c41cc6b5df3eb7f5d8ea6e3c    2253                 0         7   \n",
       "64950  43d8d305ee692724a532f30ea63a1cbe    1214                 0         5   \n",
       "44755  eb9acbcb42315399bb54df78adfd3dac    0490                 0         5   \n",
       "\n",
       "                      district_name  p50_mph  n_trips  p20_mph  p80_mph  \\\n",
       "58561      District 7 - Los Angeles     0.00     0.00     0.00     0.00   \n",
       "64950  District 5 - San Luis Obispo     0.00     0.00     0.00     0.00   \n",
       "44755  District 5 - San Luis Obispo     0.00     0.00     0.00     0.00   \n",
       "\n",
       "      time_of_day  \n",
       "58561        None  \n",
       "64950        None  \n",
       "44755        None  "
      ]
     },
     "execution_count": 50,
     "metadata": {},
     "output_type": "execute_result"
    }
   ],
   "source": [
    "# Test 3 contains missing sequences that were added back on\n",
    "# From \"add_back_missing_stops\"\n",
    "avg_test.loc[avg_test.time_of_day == 'None'].sample(3).drop(columns = ['geometry'])"
   ]
  },
  {
   "cell_type": "code",
   "execution_count": 51,
   "id": "f5544fb9-2a26-4204-a0c1-1b159afb4e27",
   "metadata": {},
   "outputs": [],
   "source": [
    "missing_shape1  = \"609c3fe2d34fe2f239c12f998ae0fdb6\"\n",
    "missing_stop_seq1 = 33"
   ]
  },
  {
   "cell_type": "code",
   "execution_count": 52,
   "id": "cf785834-77e8-4bec-a5bf-bed0e28700a7",
   "metadata": {},
   "outputs": [],
   "source": [
    "def look_at_missing_row(shape, sequence):\n",
    "    display(og_avg.loc[(og_avg.shape_array_key == shape) & (og_avg.stop_sequence == sequence)].drop(columns = ['geometry']))\n",
    "    display(merge1.loc[(merge1.shape_array_key == shape) & (merge1.stop_sequence == sequence)][['percent', 'speed_mph']])\n",
    "    display(avg_test.loc[(avg_test.shape_array_key == shape) & (avg_test.stop_sequence == sequence)].drop(columns = ['geometry']))"
   ]
  },
  {
   "cell_type": "markdown",
   "id": "8afbb7c0-87ba-49ac-8fb6-5433be4bce80",
   "metadata": {},
   "source": [
    "* Strange this was considered missing...how -->"
   ]
  },
  {
   "cell_type": "code",
   "execution_count": 53,
   "id": "c455376a-4488-4aa8-881c-e212592b2af6",
   "metadata": {},
   "outputs": [
    {
     "data": {
      "text/html": [
       "<div>\n",
       "<style scoped>\n",
       "    .dataframe tbody tr th:only-of-type {\n",
       "        vertical-align: middle;\n",
       "    }\n",
       "\n",
       "    .dataframe tbody tr th {\n",
       "        vertical-align: top;\n",
       "    }\n",
       "\n",
       "    .dataframe thead th {\n",
       "        text-align: right;\n",
       "    }\n",
       "</style>\n",
       "<table border=\"1\" class=\"dataframe\">\n",
       "  <thead>\n",
       "    <tr style=\"text-align: right;\">\n",
       "      <th></th>\n",
       "      <th>shape_array_key</th>\n",
       "      <th>stop_sequence</th>\n",
       "      <th>schedule_gtfs_dataset_key</th>\n",
       "      <th>stop_id</th>\n",
       "      <th>loop_or_inlining</th>\n",
       "      <th>district</th>\n",
       "      <th>district_name</th>\n",
       "      <th>p50_mph</th>\n",
       "      <th>n_trips</th>\n",
       "      <th>p20_mph</th>\n",
       "      <th>p80_mph</th>\n",
       "      <th>time_of_day</th>\n",
       "    </tr>\n",
       "  </thead>\n",
       "  <tbody>\n",
       "    <tr>\n",
       "      <th>88024</th>\n",
       "      <td>609c3fe2d34fe2f239c12f998ae0fdb6</td>\n",
       "      <td>33</td>\n",
       "      <td>34adcb78913b80f60f3295dc84561706</td>\n",
       "      <td>716</td>\n",
       "      <td>0</td>\n",
       "      <td>7</td>\n",
       "      <td>District 7 - Los Angeles</td>\n",
       "      <td>1.29</td>\n",
       "      <td>1</td>\n",
       "      <td>1.29</td>\n",
       "      <td>1.29</td>\n",
       "      <td>all_day</td>\n",
       "    </tr>\n",
       "  </tbody>\n",
       "</table>\n",
       "</div>"
      ],
      "text/plain": [
       "                        shape_array_key  stop_sequence  \\\n",
       "88024  609c3fe2d34fe2f239c12f998ae0fdb6             33   \n",
       "\n",
       "              schedule_gtfs_dataset_key stop_id  loop_or_inlining  district  \\\n",
       "88024  34adcb78913b80f60f3295dc84561706     716                 0         7   \n",
       "\n",
       "                  district_name  p50_mph  n_trips  p20_mph  p80_mph  \\\n",
       "88024  District 7 - Los Angeles     1.29        1     1.29     1.29   \n",
       "\n",
       "      time_of_day  \n",
       "88024     all_day  "
      ]
     },
     "metadata": {},
     "output_type": "display_data"
    },
    {
     "data": {
      "text/html": [
       "<div>\n",
       "<style scoped>\n",
       "    .dataframe tbody tr th:only-of-type {\n",
       "        vertical-align: middle;\n",
       "    }\n",
       "\n",
       "    .dataframe tbody tr th {\n",
       "        vertical-align: top;\n",
       "    }\n",
       "\n",
       "    .dataframe thead th {\n",
       "        text-align: right;\n",
       "    }\n",
       "</style>\n",
       "<table border=\"1\" class=\"dataframe\">\n",
       "  <thead>\n",
       "    <tr style=\"text-align: right;\">\n",
       "      <th></th>\n",
       "      <th>percent</th>\n",
       "      <th>speed_mph</th>\n",
       "    </tr>\n",
       "  </thead>\n",
       "  <tbody>\n",
       "    <tr>\n",
       "      <th>822919</th>\n",
       "      <td>17.24</td>\n",
       "      <td>1.29</td>\n",
       "    </tr>\n",
       "  </tbody>\n",
       "</table>\n",
       "</div>"
      ],
      "text/plain": [
       "        percent  speed_mph\n",
       "822919    17.24       1.29"
      ]
     },
     "metadata": {},
     "output_type": "display_data"
    },
    {
     "data": {
      "text/html": [
       "<div>\n",
       "<style scoped>\n",
       "    .dataframe tbody tr th:only-of-type {\n",
       "        vertical-align: middle;\n",
       "    }\n",
       "\n",
       "    .dataframe tbody tr th {\n",
       "        vertical-align: top;\n",
       "    }\n",
       "\n",
       "    .dataframe thead th {\n",
       "        text-align: right;\n",
       "    }\n",
       "</style>\n",
       "<table border=\"1\" class=\"dataframe\">\n",
       "  <thead>\n",
       "    <tr style=\"text-align: right;\">\n",
       "      <th></th>\n",
       "      <th>shape_array_key</th>\n",
       "      <th>stop_sequence</th>\n",
       "      <th>schedule_gtfs_dataset_key</th>\n",
       "      <th>stop_id</th>\n",
       "      <th>loop_or_inlining</th>\n",
       "      <th>district</th>\n",
       "      <th>district_name</th>\n",
       "      <th>p50_mph</th>\n",
       "      <th>n_trips</th>\n",
       "      <th>p20_mph</th>\n",
       "      <th>p80_mph</th>\n",
       "      <th>time_of_day</th>\n",
       "    </tr>\n",
       "  </thead>\n",
       "  <tbody>\n",
       "    <tr>\n",
       "      <th>86745</th>\n",
       "      <td>609c3fe2d34fe2f239c12f998ae0fdb6</td>\n",
       "      <td>33</td>\n",
       "      <td>34adcb78913b80f60f3295dc84561706</td>\n",
       "      <td>716</td>\n",
       "      <td>0</td>\n",
       "      <td>7</td>\n",
       "      <td>District 7 - Los Angeles</td>\n",
       "      <td>0.00</td>\n",
       "      <td>0.00</td>\n",
       "      <td>0.00</td>\n",
       "      <td>0.00</td>\n",
       "      <td>None</td>\n",
       "    </tr>\n",
       "  </tbody>\n",
       "</table>\n",
       "</div>"
      ],
      "text/plain": [
       "                        shape_array_key  stop_sequence  \\\n",
       "86745  609c3fe2d34fe2f239c12f998ae0fdb6             33   \n",
       "\n",
       "              schedule_gtfs_dataset_key stop_id  loop_or_inlining  district  \\\n",
       "86745  34adcb78913b80f60f3295dc84561706     716                 0         7   \n",
       "\n",
       "                  district_name  p50_mph  n_trips  p20_mph  p80_mph  \\\n",
       "86745  District 7 - Los Angeles     0.00     0.00     0.00     0.00   \n",
       "\n",
       "      time_of_day  \n",
       "86745        None  "
      ]
     },
     "metadata": {},
     "output_type": "display_data"
    }
   ],
   "source": [
    "look_at_missing_row(missing_shape1, missing_stop_seq1)"
   ]
  },
  {
   "cell_type": "code",
   "execution_count": 54,
   "id": "36df3455-9c3d-4d83-a1f7-5bdfa28346e2",
   "metadata": {},
   "outputs": [],
   "source": [
    "missing_shape2  = \"4d006755475d7c2a03c525995311ec16\"\n",
    "missing_stop_seq2 = 29"
   ]
  },
  {
   "cell_type": "code",
   "execution_count": 55,
   "id": "858be18b-4fa7-4f22-beb2-a52ada384b87",
   "metadata": {},
   "outputs": [
    {
     "data": {
      "text/html": [
       "<div>\n",
       "<style scoped>\n",
       "    .dataframe tbody tr th:only-of-type {\n",
       "        vertical-align: middle;\n",
       "    }\n",
       "\n",
       "    .dataframe tbody tr th {\n",
       "        vertical-align: top;\n",
       "    }\n",
       "\n",
       "    .dataframe thead th {\n",
       "        text-align: right;\n",
       "    }\n",
       "</style>\n",
       "<table border=\"1\" class=\"dataframe\">\n",
       "  <thead>\n",
       "    <tr style=\"text-align: right;\">\n",
       "      <th></th>\n",
       "      <th>shape_array_key</th>\n",
       "      <th>stop_sequence</th>\n",
       "      <th>schedule_gtfs_dataset_key</th>\n",
       "      <th>stop_id</th>\n",
       "      <th>loop_or_inlining</th>\n",
       "      <th>district</th>\n",
       "      <th>district_name</th>\n",
       "      <th>p50_mph</th>\n",
       "      <th>n_trips</th>\n",
       "      <th>p20_mph</th>\n",
       "      <th>p80_mph</th>\n",
       "      <th>time_of_day</th>\n",
       "    </tr>\n",
       "  </thead>\n",
       "  <tbody>\n",
       "    <tr>\n",
       "      <th>70709</th>\n",
       "      <td>4d006755475d7c2a03c525995311ec16</td>\n",
       "      <td>29</td>\n",
       "      <td>97b8c635bbc4cdd02bc5c27d0e83df3c</td>\n",
       "      <td>e6650363-497d-4797-8931-a83c0bc389dc</td>\n",
       "      <td>0</td>\n",
       "      <td>3</td>\n",
       "      <td>District 3 - Marysville</td>\n",
       "      <td>15.25</td>\n",
       "      <td>1</td>\n",
       "      <td>15.25</td>\n",
       "      <td>15.25</td>\n",
       "      <td>all_day</td>\n",
       "    </tr>\n",
       "  </tbody>\n",
       "</table>\n",
       "</div>"
      ],
      "text/plain": [
       "                        shape_array_key  stop_sequence  \\\n",
       "70709  4d006755475d7c2a03c525995311ec16             29   \n",
       "\n",
       "              schedule_gtfs_dataset_key                               stop_id  \\\n",
       "70709  97b8c635bbc4cdd02bc5c27d0e83df3c  e6650363-497d-4797-8931-a83c0bc389dc   \n",
       "\n",
       "       loop_or_inlining  district            district_name  p50_mph  n_trips  \\\n",
       "70709                 0         3  District 3 - Marysville    15.25        1   \n",
       "\n",
       "       p20_mph  p80_mph time_of_day  \n",
       "70709    15.25    15.25     all_day  "
      ]
     },
     "metadata": {},
     "output_type": "display_data"
    },
    {
     "data": {
      "text/html": [
       "<div>\n",
       "<style scoped>\n",
       "    .dataframe tbody tr th:only-of-type {\n",
       "        vertical-align: middle;\n",
       "    }\n",
       "\n",
       "    .dataframe tbody tr th {\n",
       "        vertical-align: top;\n",
       "    }\n",
       "\n",
       "    .dataframe thead th {\n",
       "        text-align: right;\n",
       "    }\n",
       "</style>\n",
       "<table border=\"1\" class=\"dataframe\">\n",
       "  <thead>\n",
       "    <tr style=\"text-align: right;\">\n",
       "      <th></th>\n",
       "      <th>percent</th>\n",
       "      <th>speed_mph</th>\n",
       "    </tr>\n",
       "  </thead>\n",
       "  <tbody>\n",
       "    <tr>\n",
       "      <th>651082</th>\n",
       "      <td>21.76</td>\n",
       "      <td>15.25</td>\n",
       "    </tr>\n",
       "  </tbody>\n",
       "</table>\n",
       "</div>"
      ],
      "text/plain": [
       "        percent  speed_mph\n",
       "651082    21.76      15.25"
      ]
     },
     "metadata": {},
     "output_type": "display_data"
    },
    {
     "data": {
      "text/html": [
       "<div>\n",
       "<style scoped>\n",
       "    .dataframe tbody tr th:only-of-type {\n",
       "        vertical-align: middle;\n",
       "    }\n",
       "\n",
       "    .dataframe tbody tr th {\n",
       "        vertical-align: top;\n",
       "    }\n",
       "\n",
       "    .dataframe thead th {\n",
       "        text-align: right;\n",
       "    }\n",
       "</style>\n",
       "<table border=\"1\" class=\"dataframe\">\n",
       "  <thead>\n",
       "    <tr style=\"text-align: right;\">\n",
       "      <th></th>\n",
       "      <th>shape_array_key</th>\n",
       "      <th>stop_sequence</th>\n",
       "      <th>schedule_gtfs_dataset_key</th>\n",
       "      <th>stop_id</th>\n",
       "      <th>loop_or_inlining</th>\n",
       "      <th>district</th>\n",
       "      <th>district_name</th>\n",
       "      <th>p50_mph</th>\n",
       "      <th>n_trips</th>\n",
       "      <th>p20_mph</th>\n",
       "      <th>p80_mph</th>\n",
       "      <th>time_of_day</th>\n",
       "    </tr>\n",
       "  </thead>\n",
       "  <tbody>\n",
       "    <tr>\n",
       "      <th>69699</th>\n",
       "      <td>4d006755475d7c2a03c525995311ec16</td>\n",
       "      <td>29</td>\n",
       "      <td>97b8c635bbc4cdd02bc5c27d0e83df3c</td>\n",
       "      <td>e6650363-497d-4797-8931-a83c0bc389dc</td>\n",
       "      <td>0</td>\n",
       "      <td>3</td>\n",
       "      <td>District 3 - Marysville</td>\n",
       "      <td>0.00</td>\n",
       "      <td>0.00</td>\n",
       "      <td>0.00</td>\n",
       "      <td>0.00</td>\n",
       "      <td>None</td>\n",
       "    </tr>\n",
       "  </tbody>\n",
       "</table>\n",
       "</div>"
      ],
      "text/plain": [
       "                        shape_array_key  stop_sequence  \\\n",
       "69699  4d006755475d7c2a03c525995311ec16             29   \n",
       "\n",
       "              schedule_gtfs_dataset_key                               stop_id  \\\n",
       "69699  97b8c635bbc4cdd02bc5c27d0e83df3c  e6650363-497d-4797-8931-a83c0bc389dc   \n",
       "\n",
       "       loop_or_inlining  district            district_name  p50_mph  n_trips  \\\n",
       "69699                 0         3  District 3 - Marysville     0.00     0.00   \n",
       "\n",
       "       p20_mph  p80_mph time_of_day  \n",
       "69699     0.00     0.00        None  "
      ]
     },
     "metadata": {},
     "output_type": "display_data"
    }
   ],
   "source": [
    "look_at_missing_row(missing_shape2, missing_stop_seq2)"
   ]
  },
  {
   "cell_type": "markdown",
   "id": "0500731c-63ec-444b-8c2d-405c73d1a43d",
   "metadata": {},
   "source": [
    "### Check using Big Blue Bus"
   ]
  },
  {
   "cell_type": "code",
   "execution_count": 56,
   "id": "19bd5cbe-0bc6-4dfd-b6fb-37a307dfb9db",
   "metadata": {},
   "outputs": [],
   "source": [
    "def compare_average(avg_test:pd.DataFrame,\n",
    "                    og_avg:pd.DataFrame, \n",
    "                    shape_array_key:str,\n",
    "                    stop_sequence:int):\n",
    "    \n",
    "    print(f\"route {shape_array_key}, sequence {stop_sequence}\")\n",
    "    drop_cols = ['shape_array_key','stop_sequence']\n",
    "    print('Original')\n",
    "    original = og_avg[(og_avg.shape_array_key == shape_array_key) &(og_avg.stop_sequence == stop_sequence)].drop(columns = drop_cols)\n",
    "    display(original.drop(columns = ['geometry']))\n",
    "    \n",
    "    print('New')\n",
    "    new = avg_test[(avg_test.shape_array_key == shape_array_key) & (avg_test.stop_sequence == stop_sequence)].drop(columns = drop_cols)\n",
    "    display(new.drop(columns = ['geometry']))    \n",
    "    display(new.explore(width = 300, height = 300))"
   ]
  },
  {
   "cell_type": "code",
   "execution_count": 57,
   "id": "b6a35555-e9ae-4a34-9f38-f4b3a78917de",
   "metadata": {},
   "outputs": [
    {
     "data": {
      "text/plain": [
       "count   230532.00\n",
       "mean        11.99\n",
       "std          8.74\n",
       "min          0.00\n",
       "25%          5.99\n",
       "50%          9.99\n",
       "75%         15.80\n",
       "max         69.96\n",
       "Name: p50_mph, dtype: float64"
      ]
     },
     "execution_count": 57,
     "metadata": {},
     "output_type": "execute_result"
    }
   ],
   "source": [
    "og_avg.p50_mph.describe()"
   ]
  },
  {
   "cell_type": "code",
   "execution_count": 58,
   "id": "09961212-cad7-40ab-bfd9-ff457eaad089",
   "metadata": {},
   "outputs": [
    {
     "data": {
      "text/plain": [
       "count   227055.00\n",
       "mean        12.66\n",
       "std          8.86\n",
       "min          0.00\n",
       "25%          6.58\n",
       "50%         10.74\n",
       "75%         16.67\n",
       "max         69.96\n",
       "Name: p50_mph, dtype: float64"
      ]
     },
     "execution_count": 58,
     "metadata": {},
     "output_type": "execute_result"
    }
   ],
   "source": [
    "avg_test.p50_mph.describe()"
   ]
  },
  {
   "cell_type": "code",
   "execution_count": 59,
   "id": "cbbb122d-4a6c-4f23-b377-c9de20924739",
   "metadata": {},
   "outputs": [],
   "source": [
    "# compare_average(avg_test, og_avg, shape_array1, stop_seq1)"
   ]
  },
  {
   "cell_type": "code",
   "execution_count": 60,
   "id": "16f98b58-75ae-4a5c-a947-c6a4a58b7644",
   "metadata": {},
   "outputs": [],
   "source": [
    "# compare_average(avg_test, og_avg, shape_array2, stop_seq2)"
   ]
  },
  {
   "cell_type": "markdown",
   "id": "5c797a73-3cb6-46dd-b451-959bb185d762",
   "metadata": {},
   "source": [
    "* Strangely enough, the 50th percentile speed became lower\n",
    "* Sometimes the lower the length, the higher the speed?"
   ]
  },
  {
   "cell_type": "code",
   "execution_count": 61,
   "id": "3ede20ec-3d72-4a97-803f-67906eb9b662",
   "metadata": {},
   "outputs": [],
   "source": [
    "# compare_average(avg_test, og_avg, shape_array3, stop_seq3)"
   ]
  },
  {
   "cell_type": "code",
   "execution_count": 62,
   "id": "ea2fd667-8e2e-43be-9015-81f0d066d834",
   "metadata": {
    "scrolled": true,
    "tags": []
   },
   "outputs": [],
   "source": [
    "# merge1.loc[(merge1.shape_array_key == shape_array3) & (merge1.stop_sequence == stop_seq3)][merge1_preview_cols].sort_values(['percent'])"
   ]
  },
  {
   "cell_type": "markdown",
   "id": "a37b765b-1d23-4e69-8959-474289814ac7",
   "metadata": {},
   "source": [
    "* This is missing because the only row that was non-zero only covered 27% of the length\n",
    "* Maybe up the threshold?"
   ]
  },
  {
   "cell_type": "code",
   "execution_count": 63,
   "id": "13a5f252-5bf6-44b4-b1e0-baec918fa61f",
   "metadata": {},
   "outputs": [],
   "source": [
    "\n",
    "# compare_average(avg_test, og_avg, shape_array4, stop_seq4)"
   ]
  },
  {
   "cell_type": "code",
   "execution_count": 64,
   "id": "bf2d2ec9-c9db-4b2d-977a-3df3547a0cf1",
   "metadata": {},
   "outputs": [],
   "source": [
    "# merge1.loc[(merge1.shape_array_key == shape_array4) & (merge1.stop_sequence == stop_seq4)][merge1_preview_cols]"
   ]
  },
  {
   "cell_type": "code",
   "execution_count": 65,
   "id": "64a82a45-2df9-49e6-b1e1-9aaaef90e818",
   "metadata": {},
   "outputs": [],
   "source": [
    "# compare_average(avg_test, og_avg, shape_array5, stop_seq5)"
   ]
  },
  {
   "cell_type": "markdown",
   "id": "efaca354-73ae-419d-bea2-2edc7d773a0c",
   "metadata": {},
   "source": [
    "## Comparison\n",
    "* i still want a left join for segments, but only for segments that have RT trips ever (that end up going missing, after the 45% rule)\n",
    "\n",
    "* i don't want a left join to show all segments ever, bc segments are cut from scheduled shapes. more operators have schedule data than RT. so i don't want a mess of segments at the end of the left join off schedule, but a left join for \"RT shapes\""
   ]
  },
  {
   "cell_type": "code",
   "execution_count": 66,
   "id": "ea7a964d-ae0e-40b6-b8ec-b8059d93c855",
   "metadata": {},
   "outputs": [],
   "source": [
    "# Results from original script\n",
    "rt_segs_agg = (og_avg\n",
    "            .groupby(['shape_array_key','schedule_gtfs_dataset_key'])\n",
    "            .agg({'stop_sequence':'nunique'})\n",
    "            .reset_index()\n",
    "            .rename(columns = {'stop_sequence':'total_stops'})\n",
    "            .add_prefix('og_')\n",
    "           )"
   ]
  },
  {
   "cell_type": "code",
   "execution_count": 67,
   "id": "397092c1-b8d9-47cb-a077-6bceadfdcf50",
   "metadata": {},
   "outputs": [
    {
     "data": {
      "text/html": [
       "<div>\n",
       "<style scoped>\n",
       "    .dataframe tbody tr th:only-of-type {\n",
       "        vertical-align: middle;\n",
       "    }\n",
       "\n",
       "    .dataframe tbody tr th {\n",
       "        vertical-align: top;\n",
       "    }\n",
       "\n",
       "    .dataframe thead th {\n",
       "        text-align: right;\n",
       "    }\n",
       "</style>\n",
       "<table border=\"1\" class=\"dataframe\">\n",
       "  <thead>\n",
       "    <tr style=\"text-align: right;\">\n",
       "      <th></th>\n",
       "      <th>og_shape_array_key</th>\n",
       "      <th>og_schedule_gtfs_dataset_key</th>\n",
       "      <th>og_total_stops</th>\n",
       "    </tr>\n",
       "  </thead>\n",
       "  <tbody>\n",
       "    <tr>\n",
       "      <th>826</th>\n",
       "      <td>3464e30013d6dcad2a7e528bfb579c94</td>\n",
       "      <td>6d2c723904a2a0797ca993f541de70e6</td>\n",
       "      <td>5</td>\n",
       "    </tr>\n",
       "  </tbody>\n",
       "</table>\n",
       "</div>"
      ],
      "text/plain": [
       "                   og_shape_array_key      og_schedule_gtfs_dataset_key  \\\n",
       "826  3464e30013d6dcad2a7e528bfb579c94  6d2c723904a2a0797ca993f541de70e6   \n",
       "\n",
       "     og_total_stops  \n",
       "826               5  "
      ]
     },
     "execution_count": 67,
     "metadata": {},
     "output_type": "execute_result"
    }
   ],
   "source": [
    "rt_segs_agg.sample()"
   ]
  },
  {
   "cell_type": "code",
   "execution_count": 68,
   "id": "11415d26-28cf-4c0f-9ba5-402df7bb88a2",
   "metadata": {},
   "outputs": [],
   "source": [
    "# My test after filtering but adding back in cut rows\n",
    "avg_test_agg = (avg_test\n",
    "            .groupby(['shape_array_key','schedule_gtfs_dataset_key'])\n",
    "            .agg({'stop_sequence':'nunique'})\n",
    "            .reset_index()\n",
    "            .rename(columns = {'stop_sequence':'total_stops'})\n",
    "            .add_prefix('testing_')\n",
    "           )"
   ]
  },
  {
   "cell_type": "code",
   "execution_count": 69,
   "id": "6863ad33-4e07-4e74-b968-d4702d56c50a",
   "metadata": {},
   "outputs": [
    {
     "data": {
      "text/html": [
       "<div>\n",
       "<style scoped>\n",
       "    .dataframe tbody tr th:only-of-type {\n",
       "        vertical-align: middle;\n",
       "    }\n",
       "\n",
       "    .dataframe tbody tr th {\n",
       "        vertical-align: top;\n",
       "    }\n",
       "\n",
       "    .dataframe thead th {\n",
       "        text-align: right;\n",
       "    }\n",
       "</style>\n",
       "<table border=\"1\" class=\"dataframe\">\n",
       "  <thead>\n",
       "    <tr style=\"text-align: right;\">\n",
       "      <th></th>\n",
       "      <th>testing_shape_array_key</th>\n",
       "      <th>testing_schedule_gtfs_dataset_key</th>\n",
       "      <th>testing_total_stops</th>\n",
       "    </tr>\n",
       "  </thead>\n",
       "  <tbody>\n",
       "    <tr>\n",
       "      <th>54</th>\n",
       "      <td>0368a6697218759992a4b160df70d84b</td>\n",
       "      <td>c499f905e33929a641f083dad55c521e</td>\n",
       "      <td>23</td>\n",
       "    </tr>\n",
       "  </tbody>\n",
       "</table>\n",
       "</div>"
      ],
      "text/plain": [
       "             testing_shape_array_key testing_schedule_gtfs_dataset_key  \\\n",
       "54  0368a6697218759992a4b160df70d84b  c499f905e33929a641f083dad55c521e   \n",
       "\n",
       "    testing_total_stops  \n",
       "54                   23  "
      ]
     },
     "execution_count": 69,
     "metadata": {},
     "output_type": "execute_result"
    }
   ],
   "source": [
    "avg_test_agg.sample()"
   ]
  },
  {
   "cell_type": "code",
   "execution_count": 70,
   "id": "7e468c16-2d41-4b8c-9e1d-d45beec22805",
   "metadata": {},
   "outputs": [
    {
     "data": {
      "text/plain": [
       "((4085, 3), (4085, 3))"
      ]
     },
     "execution_count": 70,
     "metadata": {},
     "output_type": "execute_result"
    }
   ],
   "source": [
    "avg_test_agg.shape, rt_segs_agg.shape"
   ]
  },
  {
   "cell_type": "code",
   "execution_count": 71,
   "id": "03e20331-bd79-4d2b-ac1f-1d889b8d1651",
   "metadata": {},
   "outputs": [],
   "source": [
    "m1 = (pd\n",
    "      .merge(rt_segs_agg, avg_test_agg, \n",
    "             left_on = ['og_shape_array_key', 'og_schedule_gtfs_dataset_key'],\n",
    "             right_on = ['testing_shape_array_key', 'testing_schedule_gtfs_dataset_key'], \n",
    "             how = 'outer', indicator = True)\n",
    "     )"
   ]
  },
  {
   "cell_type": "code",
   "execution_count": 72,
   "id": "4e6d3967-6b60-44ce-8c42-fab450f217a0",
   "metadata": {},
   "outputs": [],
   "source": [
    "m1['total_thrown_out_stops'] = m1.og_total_stops - m1.testing_total_stops"
   ]
  },
  {
   "cell_type": "code",
   "execution_count": 73,
   "id": "af8fff18-a703-4bcf-a398-c318d419abff",
   "metadata": {},
   "outputs": [
    {
     "data": {
      "text/html": [
       "<div>\n",
       "<style scoped>\n",
       "    .dataframe tbody tr th:only-of-type {\n",
       "        vertical-align: middle;\n",
       "    }\n",
       "\n",
       "    .dataframe tbody tr th {\n",
       "        vertical-align: top;\n",
       "    }\n",
       "\n",
       "    .dataframe thead th {\n",
       "        text-align: right;\n",
       "    }\n",
       "</style>\n",
       "<table border=\"1\" class=\"dataframe\">\n",
       "  <thead>\n",
       "    <tr style=\"text-align: right;\">\n",
       "      <th></th>\n",
       "      <th>og_shape_array_key</th>\n",
       "      <th>og_schedule_gtfs_dataset_key</th>\n",
       "      <th>og_total_stops</th>\n",
       "      <th>testing_shape_array_key</th>\n",
       "      <th>testing_schedule_gtfs_dataset_key</th>\n",
       "      <th>testing_total_stops</th>\n",
       "      <th>_merge</th>\n",
       "      <th>total_thrown_out_stops</th>\n",
       "    </tr>\n",
       "  </thead>\n",
       "  <tbody>\n",
       "    <tr>\n",
       "      <th>3445</th>\n",
       "      <td>d8e74922c8732a6e5342bf90f5f538d3</td>\n",
       "      <td>3f3f36b4c41cc6b5df3eb7f5d8ea6e3c</td>\n",
       "      <td>80</td>\n",
       "      <td>d8e74922c8732a6e5342bf90f5f538d3</td>\n",
       "      <td>3f3f36b4c41cc6b5df3eb7f5d8ea6e3c</td>\n",
       "      <td>80</td>\n",
       "      <td>both</td>\n",
       "      <td>0</td>\n",
       "    </tr>\n",
       "    <tr>\n",
       "      <th>3458</th>\n",
       "      <td>d99bc2f12cc465a53ecbcc0d90b85bb7</td>\n",
       "      <td>78b44303c1714f6c6a4801637c2a5c9d</td>\n",
       "      <td>1</td>\n",
       "      <td>d99bc2f12cc465a53ecbcc0d90b85bb7</td>\n",
       "      <td>78b44303c1714f6c6a4801637c2a5c9d</td>\n",
       "      <td>1</td>\n",
       "      <td>both</td>\n",
       "      <td>0</td>\n",
       "    </tr>\n",
       "    <tr>\n",
       "      <th>2421</th>\n",
       "      <td>97de9c795bcfc94ec822d0842b7352e1</td>\n",
       "      <td>13cc00cd32512520df2bf2ed36cb08a6</td>\n",
       "      <td>17</td>\n",
       "      <td>97de9c795bcfc94ec822d0842b7352e1</td>\n",
       "      <td>13cc00cd32512520df2bf2ed36cb08a6</td>\n",
       "      <td>17</td>\n",
       "      <td>both</td>\n",
       "      <td>0</td>\n",
       "    </tr>\n",
       "  </tbody>\n",
       "</table>\n",
       "</div>"
      ],
      "text/plain": [
       "                    og_shape_array_key      og_schedule_gtfs_dataset_key  \\\n",
       "3445  d8e74922c8732a6e5342bf90f5f538d3  3f3f36b4c41cc6b5df3eb7f5d8ea6e3c   \n",
       "3458  d99bc2f12cc465a53ecbcc0d90b85bb7  78b44303c1714f6c6a4801637c2a5c9d   \n",
       "2421  97de9c795bcfc94ec822d0842b7352e1  13cc00cd32512520df2bf2ed36cb08a6   \n",
       "\n",
       "      og_total_stops           testing_shape_array_key  \\\n",
       "3445              80  d8e74922c8732a6e5342bf90f5f538d3   \n",
       "3458               1  d99bc2f12cc465a53ecbcc0d90b85bb7   \n",
       "2421              17  97de9c795bcfc94ec822d0842b7352e1   \n",
       "\n",
       "     testing_schedule_gtfs_dataset_key  testing_total_stops _merge  \\\n",
       "3445  3f3f36b4c41cc6b5df3eb7f5d8ea6e3c                   80   both   \n",
       "3458  78b44303c1714f6c6a4801637c2a5c9d                    1   both   \n",
       "2421  13cc00cd32512520df2bf2ed36cb08a6                   17   both   \n",
       "\n",
       "      total_thrown_out_stops  \n",
       "3445                       0  \n",
       "3458                       0  \n",
       "2421                       0  "
      ]
     },
     "execution_count": 73,
     "metadata": {},
     "output_type": "execute_result"
    }
   ],
   "source": [
    "m1.sample(3)"
   ]
  },
  {
   "cell_type": "code",
   "execution_count": 74,
   "id": "d83cefa9-b005-4170-93d9-78e58bdf562d",
   "metadata": {},
   "outputs": [
    {
     "data": {
      "text/plain": [
       "both          4085\n",
       "left_only        0\n",
       "right_only       0\n",
       "Name: _merge, dtype: int64"
      ]
     },
     "execution_count": 74,
     "metadata": {},
     "output_type": "execute_result"
    }
   ],
   "source": [
    "m1._merge.value_counts()"
   ]
  },
  {
   "cell_type": "markdown",
   "id": "1c7c7868-fe1f-4182-ac32-480e86cdf6b6",
   "metadata": {},
   "source": [
    "* 28 routes are missing."
   ]
  },
  {
   "cell_type": "code",
   "execution_count": 75,
   "id": "33aa075a-74e0-4538-be13-f9b0ec78f55b",
   "metadata": {},
   "outputs": [
    {
     "data": {
      "text/plain": [
       "count   4085.00\n",
       "mean       0.00\n",
       "std        0.00\n",
       "min        0.00\n",
       "25%        0.00\n",
       "50%        0.00\n",
       "75%        0.00\n",
       "max        0.00\n",
       "Name: total_thrown_out_stops, dtype: float64"
      ]
     },
     "execution_count": 75,
     "metadata": {},
     "output_type": "execute_result"
    }
   ],
   "source": [
    "m1.total_thrown_out_stops.describe()"
   ]
  },
  {
   "cell_type": "markdown",
   "id": "ad49a707-454e-42e4-99e1-56c1d692dc45",
   "metadata": {},
   "source": [
    "#### Seeing all the sequences thrown out"
   ]
  },
  {
   "cell_type": "code",
   "execution_count": 76,
   "id": "8e77b3dc-7892-43f1-83ad-f578154c2f50",
   "metadata": {},
   "outputs": [
    {
     "data": {
      "text/plain": [
       "Index(['shape_array_key', 'stop_sequence', 'schedule_gtfs_dataset_key',\n",
       "       'stop_id', 'loop_or_inlining', 'geometry', 'district', 'district_name',\n",
       "       'p50_mph', 'n_trips', 'p20_mph', 'p80_mph', 'time_of_day'],\n",
       "      dtype='object')"
      ]
     },
     "execution_count": 76,
     "metadata": {},
     "output_type": "execute_result"
    }
   ],
   "source": [
    "og_avg.columns"
   ]
  },
  {
   "cell_type": "code",
   "execution_count": 77,
   "id": "493c2364-2032-495f-b628-7b21b5a29f5c",
   "metadata": {},
   "outputs": [],
   "source": [
    "merge_cols = ['shape_array_key', 'stop_sequence', 'schedule_gtfs_dataset_key',\n",
    "       'stop_id', 'loop_or_inlining']"
   ]
  },
  {
   "cell_type": "code",
   "execution_count": 78,
   "id": "d35823ea-60d4-49b9-8d69-f2c5910a01ea",
   "metadata": {},
   "outputs": [],
   "source": [
    "subset = ['shape_array_key', 'stop_sequence', 'schedule_gtfs_dataset_key',\n",
    "       'stop_id', 'loop_or_inlining', 'p50_mph', 'n_trips',\n",
    "       'p20_mph', 'p80_mph', 'time_of_day']"
   ]
  },
  {
   "cell_type": "code",
   "execution_count": 79,
   "id": "028e98e1-7562-40a2-95fe-c96b0cb9e7b4",
   "metadata": {},
   "outputs": [],
   "source": [
    "og_avg2 = og_avg[subset]"
   ]
  },
  {
   "cell_type": "code",
   "execution_count": 80,
   "id": "8140abe5-321d-4dbe-8fd6-0c64c477a99b",
   "metadata": {},
   "outputs": [
    {
     "data": {
      "text/plain": [
       "(230532, 10)"
      ]
     },
     "execution_count": 80,
     "metadata": {},
     "output_type": "execute_result"
    }
   ],
   "source": [
    "og_avg2.shape"
   ]
  },
  {
   "cell_type": "code",
   "execution_count": 81,
   "id": "977a07a0-83f3-4bbd-b56a-350b2c4ce089",
   "metadata": {},
   "outputs": [],
   "source": [
    "avg_test2 = avg_test[subset]"
   ]
  },
  {
   "cell_type": "code",
   "execution_count": 82,
   "id": "d519c382-3e3a-44ae-ad20-a65460810f8c",
   "metadata": {},
   "outputs": [
    {
     "data": {
      "text/plain": [
       "(227055, 10)"
      ]
     },
     "execution_count": 82,
     "metadata": {},
     "output_type": "execute_result"
    }
   ],
   "source": [
    "avg_test2.shape"
   ]
  },
  {
   "cell_type": "code",
   "execution_count": 83,
   "id": "b50d758b-a746-4bff-8216-58af01bf5732",
   "metadata": {},
   "outputs": [],
   "source": [
    "m2 = pd.merge(og_avg2, avg_test2, on = merge_cols, how = 'outer', indicator = True)"
   ]
  },
  {
   "cell_type": "markdown",
   "id": "da0514e9-8c48-45ec-a108-ba1cb2c5089e",
   "metadata": {},
   "source": [
    "* Why are some showing up in others...\n",
    "* Left: original, right: average."
   ]
  },
  {
   "cell_type": "code",
   "execution_count": 84,
   "id": "7bee76b2-b55b-40cc-bd6d-805c940b6f99",
   "metadata": {},
   "outputs": [
    {
     "data": {
      "text/plain": [
       "both          427852\n",
       "left_only          0\n",
       "right_only         0\n",
       "Name: _merge, dtype: int64"
      ]
     },
     "execution_count": 84,
     "metadata": {},
     "output_type": "execute_result"
    }
   ],
   "source": [
    "m2._merge.value_counts()"
   ]
  },
  {
   "cell_type": "code",
   "execution_count": 85,
   "id": "546b4ae5-9351-4521-bfb7-92356dca4d6f",
   "metadata": {
    "scrolled": true,
    "tags": []
   },
   "outputs": [],
   "source": [
    "one_subset = m2.loc[(m2.shape_array_key == \"000b8c60f7767e8214f6ef6638d2cb83\") & (m2.stop_id == \"2197\")]"
   ]
  },
  {
   "cell_type": "code",
   "execution_count": 86,
   "id": "80302e44-875d-4ffc-a8a5-50b167c243a0",
   "metadata": {},
   "outputs": [
    {
     "data": {
      "text/plain": [
       "(4, 16)"
      ]
     },
     "execution_count": 86,
     "metadata": {},
     "output_type": "execute_result"
    }
   ],
   "source": [
    "one_subset.shape"
   ]
  },
  {
   "cell_type": "code",
   "execution_count": 87,
   "id": "0634d1f4-d976-49d4-82ce-a7ee0cac5c05",
   "metadata": {},
   "outputs": [
    {
     "data": {
      "text/plain": [
       "(4, 16)"
      ]
     },
     "execution_count": 87,
     "metadata": {},
     "output_type": "execute_result"
    }
   ],
   "source": [
    "one_subset.drop_duplicates().shape"
   ]
  },
  {
   "cell_type": "code",
   "execution_count": 88,
   "id": "42eea79e-93fd-43d1-a68d-32d6d9c10107",
   "metadata": {},
   "outputs": [
    {
     "data": {
      "text/html": [
       "<div>\n",
       "<style scoped>\n",
       "    .dataframe tbody tr th:only-of-type {\n",
       "        vertical-align: middle;\n",
       "    }\n",
       "\n",
       "    .dataframe tbody tr th {\n",
       "        vertical-align: top;\n",
       "    }\n",
       "\n",
       "    .dataframe thead th {\n",
       "        text-align: right;\n",
       "    }\n",
       "</style>\n",
       "<table border=\"1\" class=\"dataframe\">\n",
       "  <thead>\n",
       "    <tr style=\"text-align: right;\">\n",
       "      <th></th>\n",
       "      <th>shape_array_key</th>\n",
       "      <th>stop_sequence</th>\n",
       "      <th>schedule_gtfs_dataset_key</th>\n",
       "      <th>stop_id</th>\n",
       "      <th>loop_or_inlining</th>\n",
       "      <th>p50_mph_x</th>\n",
       "      <th>n_trips_x</th>\n",
       "      <th>p20_mph_x</th>\n",
       "      <th>p80_mph_x</th>\n",
       "      <th>time_of_day_x</th>\n",
       "      <th>p50_mph_y</th>\n",
       "      <th>n_trips_y</th>\n",
       "      <th>p20_mph_y</th>\n",
       "      <th>p80_mph_y</th>\n",
       "      <th>time_of_day_y</th>\n",
       "      <th>_merge</th>\n",
       "    </tr>\n",
       "  </thead>\n",
       "  <tbody>\n",
       "    <tr>\n",
       "      <th>40</th>\n",
       "      <td>000b8c60f7767e8214f6ef6638d2cb83</td>\n",
       "      <td>12</td>\n",
       "      <td>78b44303c1714f6c6a4801637c2a5c9d</td>\n",
       "      <td>2197</td>\n",
       "      <td>0</td>\n",
       "      <td>0.63</td>\n",
       "      <td>7</td>\n",
       "      <td>0.26</td>\n",
       "      <td>2.31</td>\n",
       "      <td>all_day</td>\n",
       "      <td>2.65</td>\n",
       "      <td>2.00</td>\n",
       "      <td>2.62</td>\n",
       "      <td>2.68</td>\n",
       "      <td>all_day</td>\n",
       "      <td>both</td>\n",
       "    </tr>\n",
       "    <tr>\n",
       "      <th>41</th>\n",
       "      <td>000b8c60f7767e8214f6ef6638d2cb83</td>\n",
       "      <td>12</td>\n",
       "      <td>78b44303c1714f6c6a4801637c2a5c9d</td>\n",
       "      <td>2197</td>\n",
       "      <td>0</td>\n",
       "      <td>0.63</td>\n",
       "      <td>7</td>\n",
       "      <td>0.26</td>\n",
       "      <td>2.31</td>\n",
       "      <td>all_day</td>\n",
       "      <td>2.65</td>\n",
       "      <td>2.00</td>\n",
       "      <td>2.62</td>\n",
       "      <td>2.68</td>\n",
       "      <td>peak</td>\n",
       "      <td>both</td>\n",
       "    </tr>\n",
       "    <tr>\n",
       "      <th>42</th>\n",
       "      <td>000b8c60f7767e8214f6ef6638d2cb83</td>\n",
       "      <td>12</td>\n",
       "      <td>78b44303c1714f6c6a4801637c2a5c9d</td>\n",
       "      <td>2197</td>\n",
       "      <td>0</td>\n",
       "      <td>0.77</td>\n",
       "      <td>6</td>\n",
       "      <td>0.23</td>\n",
       "      <td>2.59</td>\n",
       "      <td>peak</td>\n",
       "      <td>2.65</td>\n",
       "      <td>2.00</td>\n",
       "      <td>2.62</td>\n",
       "      <td>2.68</td>\n",
       "      <td>all_day</td>\n",
       "      <td>both</td>\n",
       "    </tr>\n",
       "    <tr>\n",
       "      <th>43</th>\n",
       "      <td>000b8c60f7767e8214f6ef6638d2cb83</td>\n",
       "      <td>12</td>\n",
       "      <td>78b44303c1714f6c6a4801637c2a5c9d</td>\n",
       "      <td>2197</td>\n",
       "      <td>0</td>\n",
       "      <td>0.77</td>\n",
       "      <td>6</td>\n",
       "      <td>0.23</td>\n",
       "      <td>2.59</td>\n",
       "      <td>peak</td>\n",
       "      <td>2.65</td>\n",
       "      <td>2.00</td>\n",
       "      <td>2.62</td>\n",
       "      <td>2.68</td>\n",
       "      <td>peak</td>\n",
       "      <td>both</td>\n",
       "    </tr>\n",
       "  </tbody>\n",
       "</table>\n",
       "</div>"
      ],
      "text/plain": [
       "                     shape_array_key  stop_sequence  \\\n",
       "40  000b8c60f7767e8214f6ef6638d2cb83             12   \n",
       "41  000b8c60f7767e8214f6ef6638d2cb83             12   \n",
       "42  000b8c60f7767e8214f6ef6638d2cb83             12   \n",
       "43  000b8c60f7767e8214f6ef6638d2cb83             12   \n",
       "\n",
       "           schedule_gtfs_dataset_key stop_id  loop_or_inlining  p50_mph_x  \\\n",
       "40  78b44303c1714f6c6a4801637c2a5c9d    2197                 0       0.63   \n",
       "41  78b44303c1714f6c6a4801637c2a5c9d    2197                 0       0.63   \n",
       "42  78b44303c1714f6c6a4801637c2a5c9d    2197                 0       0.77   \n",
       "43  78b44303c1714f6c6a4801637c2a5c9d    2197                 0       0.77   \n",
       "\n",
       "    n_trips_x  p20_mph_x  p80_mph_x time_of_day_x  p50_mph_y  n_trips_y  \\\n",
       "40          7       0.26       2.31       all_day       2.65       2.00   \n",
       "41          7       0.26       2.31       all_day       2.65       2.00   \n",
       "42          6       0.23       2.59          peak       2.65       2.00   \n",
       "43          6       0.23       2.59          peak       2.65       2.00   \n",
       "\n",
       "    p20_mph_y  p80_mph_y time_of_day_y _merge  \n",
       "40       2.62       2.68       all_day   both  \n",
       "41       2.62       2.68          peak   both  \n",
       "42       2.62       2.68       all_day   both  \n",
       "43       2.62       2.68          peak   both  "
      ]
     },
     "execution_count": 88,
     "metadata": {},
     "output_type": "execute_result"
    }
   ],
   "source": [
    "one_subset.drop_duplicates()"
   ]
  }
 ],
 "metadata": {
  "kernelspec": {
   "display_name": "Python 3 (ipykernel)",
   "language": "python",
   "name": "python3"
  },
  "language_info": {
   "codemirror_mode": {
    "name": "ipython",
    "version": 3
   },
   "file_extension": ".py",
   "mimetype": "text/x-python",
   "name": "python",
   "nbconvert_exporter": "python",
   "pygments_lexer": "ipython3",
   "version": "3.9.13"
  },
  "toc-autonumbering": false,
  "toc-showcode": false
 },
 "nbformat": 4,
 "nbformat_minor": 5
}
