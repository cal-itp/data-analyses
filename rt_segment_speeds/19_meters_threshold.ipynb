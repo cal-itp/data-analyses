{
 "cells": [
  {
   "cell_type": "code",
   "execution_count": 1,
   "id": "3d2ca779-5cd7-4f98-8e9f-344e9d4dcf46",
   "metadata": {},
   "outputs": [
    {
     "name": "stderr",
     "output_type": "stream",
     "text": [
      "/opt/conda/lib/python3.9/site-packages/geopandas/_compat.py:123: UserWarning: The Shapely GEOS version (3.11.1-CAPI-1.17.1) is incompatible with the GEOS version PyGEOS was compiled with (3.10.1-CAPI-1.16.0). Conversions between both will be slow.\n",
      "  warnings.warn(\n",
      "/tmp/ipykernel_622/2388168942.py:4: UserWarning: Shapely 2.0 is installed, but because PyGEOS is also installed, GeoPandas will still use PyGEOS by default for now. To force to use and test Shapely 2.0, you have to set the environment variable USE_PYGEOS=0. You can do this before starting the Python process, or in your code before importing geopandas:\n",
      "\n",
      "import os\n",
      "os.environ['USE_PYGEOS'] = '0'\n",
      "import geopandas\n",
      "\n",
      "In a future release, GeoPandas will switch to using Shapely by default. If you are using PyGEOS directly (calling PyGEOS functions on geometries from GeoPandas), this will then stop working and you are encouraged to migrate from PyGEOS to Shapely 2.0 (https://shapely.readthedocs.io/en/latest/migration_pygeos.html).\n",
      "  import geopandas as gpd\n"
     ]
    }
   ],
   "source": [
    "import datetime\n",
    "import dask.dataframe as dd\n",
    "import numpy as np\n",
    "import geopandas as gpd\n",
    "import pandas as pd\n",
    "import altair as alt\n",
    "from segment_speed_utils import gtfs_schedule_wrangling, helpers, segment_calcs,sched_rt_utils\n",
    "from segment_speed_utils.project_vars import (\n",
    "    COMPILED_CACHED_VIEWS,\n",
    "    PROJECT_CRS,\n",
    "    SEGMENT_GCS,\n",
    "    \n",
    "    analysis_date,\n",
    ")\n",
    "from scripts import (A1_sjoin_vp_segments, A2_valid_vehicle_positions)\n",
    "from shared_utils import calitp_color_palette as cp, rt_utils, geography_utils\n",
    "import _threshold_utils as threshold_utils\n",
    "\n",
    "CONFIG_PATH = './scripts/config.yml'\n",
    "STOP_SEG_DICT = helpers.get_parameters(CONFIG_PATH, \"stop_segments\")"
   ]
  },
  {
   "cell_type": "code",
   "execution_count": 2,
   "id": "f07df469-d682-44ee-8ae3-83446c000d21",
   "metadata": {},
   "outputs": [],
   "source": [
    "DICT = helpers.get_parameters(CONFIG_PATH, \"stop_segments\")"
   ]
  },
  {
   "cell_type": "code",
   "execution_count": 3,
   "id": "6305e1fd-3383-4960-baa2-db169e86033d",
   "metadata": {},
   "outputs": [],
   "source": [
    "pd.options.display.max_columns = 100\n",
    "pd.options.display.float_format = \"{:.2f}\".format\n",
    "pd.set_option(\"display.max_rows\", None)\n",
    "pd.set_option(\"display.max_colwidth\", None)"
   ]
  },
  {
   "cell_type": "markdown",
   "id": "9daf292e-e8d8-4813-86c9-7a09fc035c4a",
   "metadata": {
    "tags": []
   },
   "source": [
    "## Sample segments and routes for Big Blue Bus"
   ]
  },
  {
   "cell_type": "code",
   "execution_count": 6,
   "id": "edbaac05-d03a-42d4-abba-4a4483fa3005",
   "metadata": {},
   "outputs": [],
   "source": [
    "test_operator = \"Big Blue Bus VehiclePositions\"\n",
    "test_org = \"City of Santa Monica\"\n",
    "test_key = \"6c2d7daaf979779fa2089c6395baf98b\""
   ]
  },
  {
   "cell_type": "code",
   "execution_count": 7,
   "id": "9c7826f6-27ed-498f-97b8-ee0f4c2a992a",
   "metadata": {},
   "outputs": [],
   "source": [
    "pub_df = pd.read_parquet(\n",
    "    f\"{SEGMENT_GCS}export/avg_speeds_stop_segments_{analysis_date}_tabular.parquet\", \n",
    "    filters = [[(\"agency\", \"==\", test_org)]]\n",
    ")"
   ]
  },
  {
   "cell_type": "code",
   "execution_count": 8,
   "id": "288a9881-aa75-4331-9c4c-e01c3954fafe",
   "metadata": {},
   "outputs": [],
   "source": [
    "# Dark orange\n",
    "shape_id1  = \"26375\"\n",
    "stop_seq1 = 7\n",
    "shape_array1 = pub_df[pub_df.shape_id==shape_id1].shape_array_key.iloc[0]"
   ]
  },
  {
   "cell_type": "code",
   "execution_count": 9,
   "id": "05465822-ff34-47cb-ac43-2d11e12e3494",
   "metadata": {},
   "outputs": [],
   "source": [
    "# Light yellow \n",
    "shape_id2 = \"26342\"\n",
    "stop_seq2 = 23\n",
    "shape_array2 = pub_df[pub_df.shape_id==shape_id2].shape_array_key.iloc[0]"
   ]
  },
  {
   "cell_type": "code",
   "execution_count": 10,
   "id": "d1315d79-276d-4810-9593-07e8770f67ba",
   "metadata": {},
   "outputs": [],
   "source": [
    "# Dark Red\n",
    "shape_id3 = \"26393\"\n",
    "stop_seq3 = 32\n",
    "shape_array3 = pub_df[pub_df.shape_id==shape_id3].shape_array_key.iloc[0]"
   ]
  },
  {
   "cell_type": "code",
   "execution_count": 11,
   "id": "d163d014-0e76-41ef-813f-ff2617077249",
   "metadata": {},
   "outputs": [],
   "source": [
    "# Light orange\n",
    "shape_id4 = \"26372\"\n",
    "stop_seq4 = 14\n",
    "shape_array4 = pub_df[pub_df.shape_id==shape_id4].shape_array_key.iloc[0]"
   ]
  },
  {
   "cell_type": "code",
   "execution_count": 12,
   "id": "9f81a219-8162-4877-bcb7-ed8ae1c0c2df",
   "metadata": {},
   "outputs": [],
   "source": [
    "# one_route_map(avg_speeds,shape_array4)"
   ]
  },
  {
   "cell_type": "markdown",
   "id": "1483859e-bd07-4d5f-b86f-0f9d7bebe121",
   "metadata": {},
   "source": [
    "## Visualizing Speed\n",
    "* https://nbviewer.org/github/cal-itp/data-analyses/blob/filter-speeds-avgs/rt_segment_speeds/18_speed_distribution.ipynb\n",
    "* https://analysis.calitp.org/rt/district_07-los-angeles/9__speedmaps__district_07-los-angeles__itp_id_300.html"
   ]
  },
  {
   "cell_type": "code",
   "execution_count": 13,
   "id": "b153add6-b4f9-4b42-94da-5709629e8fbb",
   "metadata": {},
   "outputs": [],
   "source": [
    "STG5_FILE = DICT['stage5']\n",
    "avg_speeds = gpd.read_parquet(f\"{SEGMENT_GCS}{STG5_FILE}_{analysis_date}.parquet\")\n",
    "avg_speeds = avg_speeds.drop(columns=[\"district\", \"district_name\"])"
   ]
  },
  {
   "cell_type": "code",
   "execution_count": 14,
   "id": "c3693f0e-7a1e-4aec-b5e6-072a8ec1feb5",
   "metadata": {},
   "outputs": [],
   "source": [
    "STG4_FILE = DICT['stage4']\n",
    "# Open up speeds\n",
    "speeds = pd.read_parquet(f\"{SEGMENT_GCS}{STG4_FILE}_{analysis_date}\")"
   ]
  },
  {
   "cell_type": "code",
   "execution_count": 15,
   "id": "ec9da438-07d4-45ef-85c1-fc44d6eaadbf",
   "metadata": {},
   "outputs": [],
   "source": [
    "def one_route_map(avg_speeds:gpd.GeoDataFrame, shape_array_key:str):\n",
    "    display(avg_speeds[avg_speeds.shape_array_key==shape_array_key].explore(\n",
    "    \"p50_mph\", \n",
    "    tiles = \"CartoDB Positron\",\n",
    "    cmap = rt_utils.ZERO_THIRTY_COLORSCALE,\n",
    "    style_kwds = {'weight':5}))\n",
    "    "
   ]
  },
  {
   "cell_type": "markdown",
   "id": "ce9527b4-576a-4cfc-b022-53f05e54dc87",
   "metadata": {},
   "source": [
    "### Charting"
   ]
  },
  {
   "cell_type": "code",
   "execution_count": 16,
   "id": "2eaca342-b677-4a7f-b6cb-f70aefd517b1",
   "metadata": {},
   "outputs": [],
   "source": [
    "def speeds_one_trip_seq(shape_array_key:str, stop_sequence:int):\n",
    "    STG4_FILE = DICT['stage4']\n",
    "    df = pd.read_parquet(f\"{SEGMENT_GCS}{STG4_FILE}_{analysis_date}\", \n",
    "         filters = [[(\"shape_array_key\", \"==\", shape_array_key),\n",
    "                    (\"stop_sequence\", \"==\", stop_sequence)]]) \n",
    "    return df"
   ]
  },
  {
   "cell_type": "code",
   "execution_count": 17,
   "id": "d398a5dd-3578-4db1-8e6c-616812de7747",
   "metadata": {},
   "outputs": [],
   "source": [
    "def avg_speeds_one_trip_seq(shape_array_key:str, stop_sequence:int):\n",
    "    STG5_FILE = DICT['stage5']\n",
    "    df = pd.read_parquet(f\"{SEGMENT_GCS}{STG5_FILE}_{analysis_date}.parquet\", \n",
    "         filters = [[(\"shape_array_key\", \"==\", shape_array_key),\n",
    "                    (\"stop_sequence\", \"==\", stop_sequence),\n",
    "                    (\"time_of_day\", \"==\", \"all_day\")]])\n",
    "    df = df.drop(columns=[\"district\", \"district_name\", \"geometry\"])\n",
    "    return df"
   ]
  },
  {
   "cell_type": "code",
   "execution_count": 18,
   "id": "f7dce6cc-07f6-492b-a747-b927535f1a91",
   "metadata": {},
   "outputs": [],
   "source": [
    "def merge_avg_all_speeds(shape_array_key:str, stop_sequence:int):\n",
    "    speeds = speeds_one_trip_seq(shape_array_key, stop_sequence)\n",
    "    avg = avg_speeds_one_trip_seq(shape_array_key, stop_sequence)\n",
    "    m1 = pd.merge(speeds,avg, on =['shape_array_key','stop_sequence','gtfs_dataset_key'], how = \"inner\")\n",
    "    return m1"
   ]
  },
  {
   "cell_type": "markdown",
   "id": "7cff986a-6bb0-4f0f-942c-093cf8df1e04",
   "metadata": {},
   "source": [
    "#### First Version"
   ]
  },
  {
   "cell_type": "code",
   "execution_count": 19,
   "id": "3651e675-043e-41c2-a1f3-e703d6c86727",
   "metadata": {},
   "outputs": [],
   "source": [
    "def display_speeds(shape_array_key:str, stop_sequence:int):\n",
    "    m1 = merge_avg_all_speeds(shape_array_key,stop_sequence)\n",
    "    \n",
    "    # Fill any nan values\n",
    "    m1= m1.fillna(0)\n",
    "    \n",
    "    # Create chart title \n",
    "    chart_title = f\"Speed Distribution for Seq {m1.stop_sequence.iloc[0]}/Shape {m1.shape_array_key.iloc[0]}\"\n",
    "    \n",
    "    # Main chart\n",
    "    chart = (alt.Chart(m1)\n",
    "         .mark_bar()\n",
    "         .encode(x='trip_id', y='speed_mph',tooltip = m1.columns.tolist())\n",
    "         .properties(title = chart_title))\n",
    "    \n",
    "    # Rule\n",
    "    rule1 = alt.Chart(m1).mark_rule(color='red', strokeDash=[10, 7]).encode(y='p20_mph')\n",
    "    rule2 = alt.Chart(m1).mark_rule(color='blue', strokeDash=[10, 7]).encode(y='p80_mph')\n",
    "    rule3 = alt.Chart(m1).mark_rule(color='green', strokeDash=[10, 7]).encode(y='p50_mph')\n",
    "    chart = threshold_utils.chart_size((chart+rule1+rule2+rule3), 600,300)\n",
    "    chart = chart.interactive()\n",
    "    display(chart)"
   ]
  },
  {
   "cell_type": "code",
   "execution_count": 20,
   "id": "3ac82a7e-5b28-4265-ae53-6e06f20b50ba",
   "metadata": {},
   "outputs": [
    {
     "data": {
      "text/html": [
       "\n",
       "<div id=\"altair-viz-cfc550a21975474aabd1f28b63596936\"></div>\n",
       "<script type=\"text/javascript\">\n",
       "  var VEGA_DEBUG = (typeof VEGA_DEBUG == \"undefined\") ? {} : VEGA_DEBUG;\n",
       "  (function(spec, embedOpt){\n",
       "    let outputDiv = document.currentScript.previousElementSibling;\n",
       "    if (outputDiv.id !== \"altair-viz-cfc550a21975474aabd1f28b63596936\") {\n",
       "      outputDiv = document.getElementById(\"altair-viz-cfc550a21975474aabd1f28b63596936\");\n",
       "    }\n",
       "    const paths = {\n",
       "      \"vega\": \"https://cdn.jsdelivr.net/npm//vega@5?noext\",\n",
       "      \"vega-lib\": \"https://cdn.jsdelivr.net/npm//vega-lib?noext\",\n",
       "      \"vega-lite\": \"https://cdn.jsdelivr.net/npm//vega-lite@4.17.0?noext\",\n",
       "      \"vega-embed\": \"https://cdn.jsdelivr.net/npm//vega-embed@6?noext\",\n",
       "    };\n",
       "\n",
       "    function maybeLoadScript(lib, version) {\n",
       "      var key = `${lib.replace(\"-\", \"\")}_version`;\n",
       "      return (VEGA_DEBUG[key] == version) ?\n",
       "        Promise.resolve(paths[lib]) :\n",
       "        new Promise(function(resolve, reject) {\n",
       "          var s = document.createElement('script');\n",
       "          document.getElementsByTagName(\"head\")[0].appendChild(s);\n",
       "          s.async = true;\n",
       "          s.onload = () => {\n",
       "            VEGA_DEBUG[key] = version;\n",
       "            return resolve(paths[lib]);\n",
       "          };\n",
       "          s.onerror = () => reject(`Error loading script: ${paths[lib]}`);\n",
       "          s.src = paths[lib];\n",
       "        });\n",
       "    }\n",
       "\n",
       "    function showError(err) {\n",
       "      outputDiv.innerHTML = `<div class=\"error\" style=\"color:red;\">${err}</div>`;\n",
       "      throw err;\n",
       "    }\n",
       "\n",
       "    function displayChart(vegaEmbed) {\n",
       "      vegaEmbed(outputDiv, spec, embedOpt)\n",
       "        .catch(err => showError(`Javascript Error: ${err.message}<br>This usually means there's a typo in your chart specification. See the javascript console for the full traceback.`));\n",
       "    }\n",
       "\n",
       "    if(typeof define === \"function\" && define.amd) {\n",
       "      requirejs.config({paths});\n",
       "      require([\"vega-embed\"], displayChart, err => showError(`Error loading script: ${err.message}`));\n",
       "    } else {\n",
       "      maybeLoadScript(\"vega\", \"5\")\n",
       "        .then(() => maybeLoadScript(\"vega-lite\", \"4.17.0\"))\n",
       "        .then(() => maybeLoadScript(\"vega-embed\", \"6\"))\n",
       "        .catch(showError)\n",
       "        .then(() => displayChart(vegaEmbed));\n",
       "    }\n",
       "  })({\"config\": {\"view\": {\"continuousWidth\": 400, \"continuousHeight\": 300}}, \"layer\": [{\"mark\": \"bar\", \"encoding\": {\"tooltip\": [{\"field\": \"shape_array_key\", \"type\": \"nominal\"}, {\"field\": \"stop_sequence\", \"type\": \"quantitative\"}, {\"field\": \"gtfs_dataset_key\", \"type\": \"nominal\"}, {\"field\": \"_gtfs_dataset_name\", \"type\": \"nominal\"}, {\"field\": \"trip_id\", \"type\": \"nominal\"}, {\"field\": \"min_time\", \"type\": \"temporal\"}, {\"field\": \"min_dist\", \"type\": \"quantitative\"}, {\"field\": \"max_time\", \"type\": \"temporal\"}, {\"field\": \"max_dist\", \"type\": \"quantitative\"}, {\"field\": \"meters_elapsed\", \"type\": \"quantitative\"}, {\"field\": \"sec_elapsed\", \"type\": \"quantitative\"}, {\"field\": \"speed_mph\", \"type\": \"quantitative\"}, {\"field\": \"stop_id\", \"type\": \"nominal\"}, {\"field\": \"loop_or_inlining\", \"type\": \"quantitative\"}, {\"field\": \"p50_mph\", \"type\": \"quantitative\"}, {\"field\": \"n_trips\", \"type\": \"quantitative\"}, {\"field\": \"p20_mph\", \"type\": \"quantitative\"}, {\"field\": \"p80_mph\", \"type\": \"quantitative\"}, {\"field\": \"time_of_day\", \"type\": \"nominal\"}], \"x\": {\"field\": \"trip_id\", \"type\": \"nominal\"}, \"y\": {\"field\": \"speed_mph\", \"type\": \"quantitative\"}}, \"selection\": {\"selector001\": {\"type\": \"interval\", \"bind\": \"scales\", \"encodings\": [\"x\", \"y\"]}}, \"title\": \"Speed Distribution for Seq 23/Shape 5d34851ee46adb62216152f8a16fe7d0\"}, {\"mark\": {\"type\": \"rule\", \"color\": \"red\", \"strokeDash\": [10, 7]}, \"encoding\": {\"y\": {\"field\": \"p20_mph\", \"type\": \"quantitative\"}}}, {\"mark\": {\"type\": \"rule\", \"color\": \"blue\", \"strokeDash\": [10, 7]}, \"encoding\": {\"y\": {\"field\": \"p80_mph\", \"type\": \"quantitative\"}}}, {\"mark\": {\"type\": \"rule\", \"color\": \"green\", \"strokeDash\": [10, 7]}, \"encoding\": {\"y\": {\"field\": \"p50_mph\", \"type\": \"quantitative\"}}}], \"data\": {\"name\": \"data-b5f68992e1d244c3071d503f90ff8cab\"}, \"height\": 300, \"width\": 600, \"$schema\": \"https://vega.github.io/schema/vega-lite/v4.17.0.json\", \"datasets\": {\"data-b5f68992e1d244c3071d503f90ff8cab\": [{\"shape_array_key\": \"5d34851ee46adb62216152f8a16fe7d0\", \"stop_sequence\": 23, \"gtfs_dataset_key\": \"6c2d7daaf979779fa2089c6395baf98b\", \"_gtfs_dataset_name\": \"Big Blue Bus VehiclePositions\", \"trip_id\": \"902971\", \"min_time\": \"2023-07-12T15:00:08\", \"min_dist\": 198.50258456172878, \"max_time\": \"2023-07-12T15:00:53\", \"max_dist\": 368.20030665887026, \"meters_elapsed\": 169.69772209714148, \"sec_elapsed\": 45.0, \"speed_mph\": 8.435862318473456, \"stop_id\": \"149\", \"loop_or_inlining\": 0, \"p50_mph\": 13.72, \"n_trips\": 19, \"p20_mph\": 8.43, \"p80_mph\": 15.66, \"time_of_day\": \"all_day\"}, {\"shape_array_key\": \"5d34851ee46adb62216152f8a16fe7d0\", \"stop_sequence\": 23, \"gtfs_dataset_key\": \"6c2d7daaf979779fa2089c6395baf98b\", \"_gtfs_dataset_name\": \"Big Blue Bus VehiclePositions\", \"trip_id\": \"902989\", \"min_time\": \"2023-07-12T11:54:24\", \"min_dist\": 0.0, \"max_time\": \"2023-07-12T11:55:13\", \"max_dist\": 318.7702271453273, \"meters_elapsed\": 318.7702271453273, \"sec_elapsed\": 49.0, \"speed_mph\": 14.552836696410147, \"stop_id\": \"149\", \"loop_or_inlining\": 0, \"p50_mph\": 13.72, \"n_trips\": 19, \"p20_mph\": 8.43, \"p80_mph\": 15.66, \"time_of_day\": \"all_day\"}, {\"shape_array_key\": \"5d34851ee46adb62216152f8a16fe7d0\", \"stop_sequence\": 23, \"gtfs_dataset_key\": \"6c2d7daaf979779fa2089c6395baf98b\", \"_gtfs_dataset_name\": \"Big Blue Bus VehiclePositions\", \"trip_id\": \"902941\", \"min_time\": \"2023-07-12T19:21:35\", \"min_dist\": 0.0, \"max_time\": \"2023-07-12T19:22:24\", \"max_dist\": 300.4835223060709, \"meters_elapsed\": 300.4835223060709, \"sec_elapsed\": 49.0, \"speed_mph\": 13.7179926407894, \"stop_id\": \"149\", \"loop_or_inlining\": 0, \"p50_mph\": 13.72, \"n_trips\": 19, \"p20_mph\": 8.43, \"p80_mph\": 15.66, \"time_of_day\": \"all_day\"}, {\"shape_array_key\": \"5d34851ee46adb62216152f8a16fe7d0\", \"stop_sequence\": 23, \"gtfs_dataset_key\": \"6c2d7daaf979779fa2089c6395baf98b\", \"_gtfs_dataset_name\": \"Big Blue Bus VehiclePositions\", \"trip_id\": \"902943\", \"min_time\": \"2023-07-12T18:39:10\", \"min_dist\": 0.0, \"max_time\": \"2023-07-12T18:39:57\", \"max_dist\": 0.0, \"meters_elapsed\": 0.0, \"sec_elapsed\": 47.0, \"speed_mph\": 0.0, \"stop_id\": \"149\", \"loop_or_inlining\": 0, \"p50_mph\": 13.72, \"n_trips\": 19, \"p20_mph\": 8.43, \"p80_mph\": 15.66, \"time_of_day\": \"all_day\"}, {\"shape_array_key\": \"5d34851ee46adb62216152f8a16fe7d0\", \"stop_sequence\": 23, \"gtfs_dataset_key\": \"6c2d7daaf979779fa2089c6395baf98b\", \"_gtfs_dataset_name\": \"Big Blue Bus VehiclePositions\", \"trip_id\": \"903006\", \"min_time\": \"2023-07-12T09:02:05\", \"min_dist\": 0.0, \"max_time\": \"2023-07-12T09:03:14\", \"max_dist\": 389.2544090699838, \"meters_elapsed\": 389.2544090699838, \"sec_elapsed\": 69.0, \"speed_mph\": 12.619740769413824, \"stop_id\": \"149\", \"loop_or_inlining\": 0, \"p50_mph\": 13.72, \"n_trips\": 19, \"p20_mph\": 8.43, \"p80_mph\": 15.66, \"time_of_day\": \"all_day\"}, {\"shape_array_key\": \"5d34851ee46adb62216152f8a16fe7d0\", \"stop_sequence\": 23, \"gtfs_dataset_key\": \"6c2d7daaf979779fa2089c6395baf98b\", \"_gtfs_dataset_name\": \"Big Blue Bus VehiclePositions\", \"trip_id\": \"903002\", \"min_time\": \"2023-07-12T09:40:36\", \"min_dist\": 200.16879949888977, \"max_time\": \"2023-07-12T09:40:36\", \"max_dist\": 200.16879949888977, \"meters_elapsed\": 0.0, \"sec_elapsed\": 0.0, \"speed_mph\": 0.0, \"stop_id\": \"149\", \"loop_or_inlining\": 0, \"p50_mph\": 13.72, \"n_trips\": 19, \"p20_mph\": 8.43, \"p80_mph\": 15.66, \"time_of_day\": \"all_day\"}, {\"shape_array_key\": \"5d34851ee46adb62216152f8a16fe7d0\", \"stop_sequence\": 23, \"gtfs_dataset_key\": \"6c2d7daaf979779fa2089c6395baf98b\", \"_gtfs_dataset_name\": \"Big Blue Bus VehiclePositions\", \"trip_id\": \"902942\", \"min_time\": \"2023-07-12T18:54:40\", \"min_dist\": 297.666744438456, \"max_time\": \"2023-07-12T18:54:40\", \"max_dist\": 297.666744438456, \"meters_elapsed\": 0.0, \"sec_elapsed\": 0.0, \"speed_mph\": 0.0, \"stop_id\": \"149\", \"loop_or_inlining\": 0, \"p50_mph\": 13.72, \"n_trips\": 19, \"p20_mph\": 8.43, \"p80_mph\": 15.66, \"time_of_day\": \"all_day\"}, {\"shape_array_key\": \"5d34851ee46adb62216152f8a16fe7d0\", \"stop_sequence\": 23, \"gtfs_dataset_key\": \"6c2d7daaf979779fa2089c6395baf98b\", \"_gtfs_dataset_name\": \"Big Blue Bus VehiclePositions\", \"trip_id\": \"902986\", \"min_time\": \"2023-07-12T12:20:49\", \"min_dist\": 151.35920025290318, \"max_time\": \"2023-07-12T12:21:33\", \"max_dist\": 389.2544090699838, \"meters_elapsed\": 237.89520881708063, \"sec_elapsed\": 44.0, \"speed_mph\": 12.094808684632032, \"stop_id\": \"149\", \"loop_or_inlining\": 0, \"p50_mph\": 13.72, \"n_trips\": 19, \"p20_mph\": 8.43, \"p80_mph\": 15.66, \"time_of_day\": \"all_day\"}, {\"shape_array_key\": \"5d34851ee46adb62216152f8a16fe7d0\", \"stop_sequence\": 23, \"gtfs_dataset_key\": \"6c2d7daaf979779fa2089c6395baf98b\", \"_gtfs_dataset_name\": \"Big Blue Bus VehiclePositions\", \"trip_id\": \"902992\", \"min_time\": \"2023-07-12T11:22:33\", \"min_dist\": 0.0, \"max_time\": \"2023-07-12T11:23:24\", \"max_dist\": 319.6455769697927, \"meters_elapsed\": 319.6455769697927, \"sec_elapsed\": 51.0, \"speed_mph\": 14.020532464341695, \"stop_id\": \"149\", \"loop_or_inlining\": 0, \"p50_mph\": 13.72, \"n_trips\": 19, \"p20_mph\": 8.43, \"p80_mph\": 15.66, \"time_of_day\": \"all_day\"}, {\"shape_array_key\": \"5d34851ee46adb62216152f8a16fe7d0\", \"stop_sequence\": 23, \"gtfs_dataset_key\": \"6c2d7daaf979779fa2089c6395baf98b\", \"_gtfs_dataset_name\": \"Big Blue Bus VehiclePositions\", \"trip_id\": \"902983\", \"min_time\": \"2023-07-12T12:56:59\", \"min_dist\": 0.0, \"max_time\": \"2023-07-12T12:58:33\", \"max_dist\": 382.5727608100628, \"meters_elapsed\": 382.5727608100628, \"sec_elapsed\": 94.0, \"speed_mph\": 9.104417722682026, \"stop_id\": \"149\", \"loop_or_inlining\": 0, \"p50_mph\": 13.72, \"n_trips\": 19, \"p20_mph\": 8.43, \"p80_mph\": 15.66, \"time_of_day\": \"all_day\"}, {\"shape_array_key\": \"5d34851ee46adb62216152f8a16fe7d0\", \"stop_sequence\": 23, \"gtfs_dataset_key\": \"6c2d7daaf979779fa2089c6395baf98b\", \"_gtfs_dataset_name\": \"Big Blue Bus VehiclePositions\", \"trip_id\": \"902987\", \"min_time\": \"2023-07-12T12:20:53\", \"min_dist\": 292.2398573853735, \"max_time\": \"2023-07-12T12:20:53\", \"max_dist\": 292.2398573853735, \"meters_elapsed\": 0.0, \"sec_elapsed\": 0.0, \"speed_mph\": 0.0, \"stop_id\": \"149\", \"loop_or_inlining\": 0, \"p50_mph\": 13.72, \"n_trips\": 19, \"p20_mph\": 8.43, \"p80_mph\": 15.66, \"time_of_day\": \"all_day\"}, {\"shape_array_key\": \"5d34851ee46adb62216152f8a16fe7d0\", \"stop_sequence\": 23, \"gtfs_dataset_key\": \"6c2d7daaf979779fa2089c6395baf98b\", \"_gtfs_dataset_name\": \"Big Blue Bus VehiclePositions\", \"trip_id\": \"902950\", \"min_time\": \"2023-07-12T07:02:38\", \"min_dist\": 167.92713018922694, \"max_time\": \"2023-07-12T07:02:38\", \"max_dist\": 167.92713018922694, \"meters_elapsed\": 0.0, \"sec_elapsed\": 0.0, \"speed_mph\": 0.0, \"stop_id\": \"149\", \"loop_or_inlining\": 0, \"p50_mph\": 13.72, \"n_trips\": 19, \"p20_mph\": 8.43, \"p80_mph\": 15.66, \"time_of_day\": \"all_day\"}, {\"shape_array_key\": \"5d34851ee46adb62216152f8a16fe7d0\", \"stop_sequence\": 23, \"gtfs_dataset_key\": \"6c2d7daaf979779fa2089c6395baf98b\", \"_gtfs_dataset_name\": \"Big Blue Bus VehiclePositions\", \"trip_id\": \"903011\", \"min_time\": \"2023-07-12T08:05:00\", \"min_dist\": 94.99149484588959, \"max_time\": \"2023-07-12T08:05:00\", \"max_dist\": 94.99149484588959, \"meters_elapsed\": 0.0, \"sec_elapsed\": 0.0, \"speed_mph\": 0.0, \"stop_id\": \"149\", \"loop_or_inlining\": 0, \"p50_mph\": 13.72, \"n_trips\": 19, \"p20_mph\": 8.43, \"p80_mph\": 15.66, \"time_of_day\": \"all_day\"}, {\"shape_array_key\": \"5d34851ee46adb62216152f8a16fe7d0\", \"stop_sequence\": 23, \"gtfs_dataset_key\": \"6c2d7daaf979779fa2089c6395baf98b\", \"_gtfs_dataset_name\": \"Big Blue Bus VehiclePositions\", \"trip_id\": \"902963\", \"min_time\": \"2023-07-12T16:16:16\", \"min_dist\": 38.25456705983645, \"max_time\": \"2023-07-12T16:17:05\", \"max_dist\": 377.9064780749385, \"meters_elapsed\": 339.65191101510203, \"sec_elapsed\": 49.0, \"speed_mph\": 15.506149488587415, \"stop_id\": \"149\", \"loop_or_inlining\": 0, \"p50_mph\": 13.72, \"n_trips\": 19, \"p20_mph\": 8.43, \"p80_mph\": 15.66, \"time_of_day\": \"all_day\"}, {\"shape_array_key\": \"5d34851ee46adb62216152f8a16fe7d0\", \"stop_sequence\": 23, \"gtfs_dataset_key\": \"6c2d7daaf979779fa2089c6395baf98b\", \"_gtfs_dataset_name\": \"Big Blue Bus VehiclePositions\", \"trip_id\": \"902966\", \"min_time\": \"2023-07-12T15:45:06\", \"min_dist\": 0.0, \"max_time\": \"2023-07-12T15:45:51\", \"max_dist\": 0.0, \"meters_elapsed\": 0.0, \"sec_elapsed\": 45.0, \"speed_mph\": 0.0, \"stop_id\": \"149\", \"loop_or_inlining\": 0, \"p50_mph\": 13.72, \"n_trips\": 19, \"p20_mph\": 8.43, \"p80_mph\": 15.66, \"time_of_day\": \"all_day\"}, {\"shape_array_key\": \"5d34851ee46adb62216152f8a16fe7d0\", \"stop_sequence\": 23, \"gtfs_dataset_key\": \"6c2d7daaf979779fa2089c6395baf98b\", \"_gtfs_dataset_name\": \"Big Blue Bus VehiclePositions\", \"trip_id\": \"902993\", \"min_time\": \"2023-07-12T11:14:19\", \"min_dist\": 87.03018596140261, \"max_time\": \"2023-07-12T11:14:19\", \"max_dist\": 87.03018596140261, \"meters_elapsed\": 0.0, \"sec_elapsed\": 0.0, \"speed_mph\": 0.0, \"stop_id\": \"149\", \"loop_or_inlining\": 0, \"p50_mph\": 13.72, \"n_trips\": 19, \"p20_mph\": 8.43, \"p80_mph\": 15.66, \"time_of_day\": \"all_day\"}, {\"shape_array_key\": \"5d34851ee46adb62216152f8a16fe7d0\", \"stop_sequence\": 23, \"gtfs_dataset_key\": \"6c2d7daaf979779fa2089c6395baf98b\", \"_gtfs_dataset_name\": \"Big Blue Bus VehiclePositions\", \"trip_id\": \"903008\", \"min_time\": \"2023-07-12T08:39:51\", \"min_dist\": 0.0, \"max_time\": \"2023-07-12T08:39:51\", \"max_dist\": 0.0, \"meters_elapsed\": 0.0, \"sec_elapsed\": 0.0, \"speed_mph\": 0.0, \"stop_id\": \"149\", \"loop_or_inlining\": 0, \"p50_mph\": 13.72, \"n_trips\": 19, \"p20_mph\": 8.43, \"p80_mph\": 15.66, \"time_of_day\": \"all_day\"}, {\"shape_array_key\": \"5d34851ee46adb62216152f8a16fe7d0\", \"stop_sequence\": 23, \"gtfs_dataset_key\": \"6c2d7daaf979779fa2089c6395baf98b\", \"_gtfs_dataset_name\": \"Big Blue Bus VehiclePositions\", \"trip_id\": \"903014\", \"min_time\": \"2023-07-12T07:39:51\", \"min_dist\": 0.0, \"max_time\": \"2023-07-12T07:39:51\", \"max_dist\": 0.0, \"meters_elapsed\": 0.0, \"sec_elapsed\": 0.0, \"speed_mph\": 0.0, \"stop_id\": \"149\", \"loop_or_inlining\": 0, \"p50_mph\": 13.72, \"n_trips\": 19, \"p20_mph\": 8.43, \"p80_mph\": 15.66, \"time_of_day\": \"all_day\"}, {\"shape_array_key\": \"5d34851ee46adb62216152f8a16fe7d0\", \"stop_sequence\": 23, \"gtfs_dataset_key\": \"6c2d7daaf979779fa2089c6395baf98b\", \"_gtfs_dataset_name\": \"Big Blue Bus VehiclePositions\", \"trip_id\": \"902999\", \"min_time\": \"2023-07-12T10:07:36\", \"min_dist\": 389.2544090699838, \"max_time\": \"2023-07-12T10:07:36\", \"max_dist\": 389.2544090699838, \"meters_elapsed\": 0.0, \"sec_elapsed\": 0.0, \"speed_mph\": 0.0, \"stop_id\": \"149\", \"loop_or_inlining\": 0, \"p50_mph\": 13.72, \"n_trips\": 19, \"p20_mph\": 8.43, \"p80_mph\": 15.66, \"time_of_day\": \"all_day\"}, {\"shape_array_key\": \"5d34851ee46adb62216152f8a16fe7d0\", \"stop_sequence\": 23, \"gtfs_dataset_key\": \"6c2d7daaf979779fa2089c6395baf98b\", \"_gtfs_dataset_name\": \"Big Blue Bus VehiclePositions\", \"trip_id\": \"902990\", \"min_time\": \"2023-07-12T11:48:44\", \"min_dist\": 346.79990760828815, \"max_time\": \"2023-07-12T11:48:44\", \"max_dist\": 346.79990760828815, \"meters_elapsed\": 0.0, \"sec_elapsed\": 0.0, \"speed_mph\": 0.0, \"stop_id\": \"149\", \"loop_or_inlining\": 0, \"p50_mph\": 13.72, \"n_trips\": 19, \"p20_mph\": 8.43, \"p80_mph\": 15.66, \"time_of_day\": \"all_day\"}, {\"shape_array_key\": \"5d34851ee46adb62216152f8a16fe7d0\", \"stop_sequence\": 23, \"gtfs_dataset_key\": \"6c2d7daaf979779fa2089c6395baf98b\", \"_gtfs_dataset_name\": \"Big Blue Bus VehiclePositions\", \"trip_id\": \"902977\", \"min_time\": \"2023-07-12T13:54:31\", \"min_dist\": 0.0, \"max_time\": \"2023-07-12T13:56:04\", \"max_dist\": 0.0, \"meters_elapsed\": 0.0, \"sec_elapsed\": 93.0, \"speed_mph\": 0.0, \"stop_id\": \"149\", \"loop_or_inlining\": 0, \"p50_mph\": 13.72, \"n_trips\": 19, \"p20_mph\": 8.43, \"p80_mph\": 15.66, \"time_of_day\": \"all_day\"}, {\"shape_array_key\": \"5d34851ee46adb62216152f8a16fe7d0\", \"stop_sequence\": 23, \"gtfs_dataset_key\": \"6c2d7daaf979779fa2089c6395baf98b\", \"_gtfs_dataset_name\": \"Big Blue Bus VehiclePositions\", \"trip_id\": \"902980\", \"min_time\": \"2023-07-12T13:27:52\", \"min_dist\": 0.0, \"max_time\": \"2023-07-12T13:28:41\", \"max_dist\": 348.2484324529976, \"meters_elapsed\": 348.2484324529976, \"sec_elapsed\": 49.0, \"speed_mph\": 15.898607008109298, \"stop_id\": \"149\", \"loop_or_inlining\": 0, \"p50_mph\": 13.72, \"n_trips\": 19, \"p20_mph\": 8.43, \"p80_mph\": 15.66, \"time_of_day\": \"all_day\"}, {\"shape_array_key\": \"5d34851ee46adb62216152f8a16fe7d0\", \"stop_sequence\": 23, \"gtfs_dataset_key\": \"6c2d7daaf979779fa2089c6395baf98b\", \"_gtfs_dataset_name\": \"Big Blue Bus VehiclePositions\", \"trip_id\": \"902956\", \"min_time\": \"2023-07-12T17:26:25\", \"min_dist\": 0.0, \"max_time\": \"2023-07-12T17:27:13\", \"max_dist\": 0.0, \"meters_elapsed\": 0.0, \"sec_elapsed\": 48.0, \"speed_mph\": 0.0, \"stop_id\": \"149\", \"loop_or_inlining\": 0, \"p50_mph\": 13.72, \"n_trips\": 19, \"p20_mph\": 8.43, \"p80_mph\": 15.66, \"time_of_day\": \"all_day\"}, {\"shape_array_key\": \"5d34851ee46adb62216152f8a16fe7d0\", \"stop_sequence\": 23, \"gtfs_dataset_key\": \"6c2d7daaf979779fa2089c6395baf98b\", \"_gtfs_dataset_name\": \"Big Blue Bus VehiclePositions\", \"trip_id\": \"902964\", \"min_time\": \"2023-07-12T16:06:09\", \"min_dist\": 106.21670999990243, \"max_time\": \"2023-07-12T16:06:09\", \"max_dist\": 106.21670999990243, \"meters_elapsed\": 0.0, \"sec_elapsed\": 0.0, \"speed_mph\": 0.0, \"stop_id\": \"149\", \"loop_or_inlining\": 0, \"p50_mph\": 13.72, \"n_trips\": 19, \"p20_mph\": 8.43, \"p80_mph\": 15.66, \"time_of_day\": \"all_day\"}, {\"shape_array_key\": \"5d34851ee46adb62216152f8a16fe7d0\", \"stop_sequence\": 23, \"gtfs_dataset_key\": \"6c2d7daaf979779fa2089c6395baf98b\", \"_gtfs_dataset_name\": \"Big Blue Bus VehiclePositions\", \"trip_id\": \"902978\", \"min_time\": \"2023-07-12T13:54:33\", \"min_dist\": 166.6469426474916, \"max_time\": \"2023-07-12T13:54:33\", \"max_dist\": 166.6469426474916, \"meters_elapsed\": 0.0, \"sec_elapsed\": 0.0, \"speed_mph\": 0.0, \"stop_id\": \"149\", \"loop_or_inlining\": 0, \"p50_mph\": 13.72, \"n_trips\": 19, \"p20_mph\": 8.43, \"p80_mph\": 15.66, \"time_of_day\": \"all_day\"}, {\"shape_array_key\": \"5d34851ee46adb62216152f8a16fe7d0\", \"stop_sequence\": 23, \"gtfs_dataset_key\": \"6c2d7daaf979779fa2089c6395baf98b\", \"_gtfs_dataset_name\": \"Big Blue Bus VehiclePositions\", \"trip_id\": \"902974\", \"min_time\": \"2023-07-12T14:43:39\", \"min_dist\": 0.0, \"max_time\": \"2023-07-12T14:44:29\", \"max_dist\": 359.60704043896715, \"meters_elapsed\": 359.60704043896715, \"sec_elapsed\": 50.0, \"speed_mph\": 16.088818989239392, \"stop_id\": \"149\", \"loop_or_inlining\": 0, \"p50_mph\": 13.72, \"n_trips\": 19, \"p20_mph\": 8.43, \"p80_mph\": 15.66, \"time_of_day\": \"all_day\"}, {\"shape_array_key\": \"5d34851ee46adb62216152f8a16fe7d0\", \"stop_sequence\": 23, \"gtfs_dataset_key\": \"6c2d7daaf979779fa2089c6395baf98b\", \"_gtfs_dataset_name\": \"Big Blue Bus VehiclePositions\", \"trip_id\": \"902995\", \"min_time\": \"2023-07-12T10:53:37\", \"min_dist\": 0.0, \"max_time\": \"2023-07-12T10:53:37\", \"max_dist\": 0.0, \"meters_elapsed\": 0.0, \"sec_elapsed\": 0.0, \"speed_mph\": 0.0, \"stop_id\": \"149\", \"loop_or_inlining\": 0, \"p50_mph\": 13.72, \"n_trips\": 19, \"p20_mph\": 8.43, \"p80_mph\": 15.66, \"time_of_day\": \"all_day\"}, {\"shape_array_key\": \"5d34851ee46adb62216152f8a16fe7d0\", \"stop_sequence\": 23, \"gtfs_dataset_key\": \"6c2d7daaf979779fa2089c6395baf98b\", \"_gtfs_dataset_name\": \"Big Blue Bus VehiclePositions\", \"trip_id\": \"902997\", \"min_time\": \"2023-07-12T10:37:35\", \"min_dist\": 0.0, \"max_time\": \"2023-07-12T10:38:25\", \"max_dist\": 389.2544090699838, \"meters_elapsed\": 389.2544090699838, \"sec_elapsed\": 50.0, \"speed_mph\": 17.415242261791075, \"stop_id\": \"149\", \"loop_or_inlining\": 0, \"p50_mph\": 13.72, \"n_trips\": 19, \"p20_mph\": 8.43, \"p80_mph\": 15.66, \"time_of_day\": \"all_day\"}, {\"shape_array_key\": \"5d34851ee46adb62216152f8a16fe7d0\", \"stop_sequence\": 23, \"gtfs_dataset_key\": \"6c2d7daaf979779fa2089c6395baf98b\", \"_gtfs_dataset_name\": \"Big Blue Bus VehiclePositions\", \"trip_id\": \"903000\", \"min_time\": \"2023-07-12T10:06:36\", \"min_dist\": 273.58847335017003, \"max_time\": \"2023-07-12T10:06:36\", \"max_dist\": 273.58847335017003, \"meters_elapsed\": 0.0, \"sec_elapsed\": 0.0, \"speed_mph\": 0.0, \"stop_id\": \"149\", \"loop_or_inlining\": 0, \"p50_mph\": 13.72, \"n_trips\": 19, \"p20_mph\": 8.43, \"p80_mph\": 15.66, \"time_of_day\": \"all_day\"}, {\"shape_array_key\": \"5d34851ee46adb62216152f8a16fe7d0\", \"stop_sequence\": 23, \"gtfs_dataset_key\": \"6c2d7daaf979779fa2089c6395baf98b\", \"_gtfs_dataset_name\": \"Big Blue Bus VehiclePositions\", \"trip_id\": \"902969\", \"min_time\": \"2023-07-12T15:17:08\", \"min_dist\": 0.0, \"max_time\": \"2023-07-12T15:18:42\", \"max_dist\": 389.2544090699838, \"meters_elapsed\": 389.2544090699838, \"sec_elapsed\": 94.0, \"speed_mph\": 9.263426734995253, \"stop_id\": \"149\", \"loop_or_inlining\": 0, \"p50_mph\": 13.72, \"n_trips\": 19, \"p20_mph\": 8.43, \"p80_mph\": 15.66, \"time_of_day\": \"all_day\"}, {\"shape_array_key\": \"5d34851ee46adb62216152f8a16fe7d0\", \"stop_sequence\": 23, \"gtfs_dataset_key\": \"6c2d7daaf979779fa2089c6395baf98b\", \"_gtfs_dataset_name\": \"Big Blue Bus VehiclePositions\", \"trip_id\": \"902944\", \"min_time\": \"2023-07-12T18:33:05\", \"min_dist\": 151.01715955979145, \"max_time\": \"2023-07-12T18:33:05\", \"max_dist\": 151.01715955979145, \"meters_elapsed\": 0.0, \"sec_elapsed\": 0.0, \"speed_mph\": 0.0, \"stop_id\": \"149\", \"loop_or_inlining\": 0, \"p50_mph\": 13.72, \"n_trips\": 19, \"p20_mph\": 8.43, \"p80_mph\": 15.66, \"time_of_day\": \"all_day\"}, {\"shape_array_key\": \"5d34851ee46adb62216152f8a16fe7d0\", \"stop_sequence\": 23, \"gtfs_dataset_key\": \"6c2d7daaf979779fa2089c6395baf98b\", \"_gtfs_dataset_name\": \"Big Blue Bus VehiclePositions\", \"trip_id\": \"902958\", \"min_time\": \"2023-07-12T17:05:25\", \"min_dist\": 0.0, \"max_time\": \"2023-07-12T17:05:55\", \"max_dist\": 33.60725519709449, \"meters_elapsed\": 33.60725519709449, \"sec_elapsed\": 30.0, \"speed_mph\": 2.5059809958633457, \"stop_id\": \"149\", \"loop_or_inlining\": 0, \"p50_mph\": 13.72, \"n_trips\": 19, \"p20_mph\": 8.43, \"p80_mph\": 15.66, \"time_of_day\": \"all_day\"}, {\"shape_array_key\": \"5d34851ee46adb62216152f8a16fe7d0\", \"stop_sequence\": 23, \"gtfs_dataset_key\": \"6c2d7daaf979779fa2089c6395baf98b\", \"_gtfs_dataset_name\": \"Big Blue Bus VehiclePositions\", \"trip_id\": \"902994\", \"min_time\": \"2023-07-12T11:09:16\", \"min_dist\": 0.0, \"max_time\": \"2023-07-12T11:09:16\", \"max_dist\": 0.0, \"meters_elapsed\": 0.0, \"sec_elapsed\": 0.0, \"speed_mph\": 0.0, \"stop_id\": \"149\", \"loop_or_inlining\": 0, \"p50_mph\": 13.72, \"n_trips\": 19, \"p20_mph\": 8.43, \"p80_mph\": 15.66, \"time_of_day\": \"all_day\"}, {\"shape_array_key\": \"5d34851ee46adb62216152f8a16fe7d0\", \"stop_sequence\": 23, \"gtfs_dataset_key\": \"6c2d7daaf979779fa2089c6395baf98b\", \"_gtfs_dataset_name\": \"Big Blue Bus VehiclePositions\", \"trip_id\": \"902954\", \"min_time\": \"2023-07-12T17:45:57\", \"min_dist\": 9.86317433439535, \"max_time\": \"2023-07-12T17:45:57\", \"max_dist\": 9.86317433439535, \"meters_elapsed\": 0.0, \"sec_elapsed\": 0.0, \"speed_mph\": 0.0, \"stop_id\": \"149\", \"loop_or_inlining\": 0, \"p50_mph\": 13.72, \"n_trips\": 19, \"p20_mph\": 8.43, \"p80_mph\": 15.66, \"time_of_day\": \"all_day\"}, {\"shape_array_key\": \"5d34851ee46adb62216152f8a16fe7d0\", \"stop_sequence\": 23, \"gtfs_dataset_key\": \"6c2d7daaf979779fa2089c6395baf98b\", \"_gtfs_dataset_name\": \"Big Blue Bus VehiclePositions\", \"trip_id\": \"902962\", \"min_time\": \"2023-07-12T16:27:00\", \"min_dist\": 0.0, \"max_time\": \"2023-07-12T16:27:49\", \"max_dist\": 306.425087038204, \"meters_elapsed\": 306.425087038204, \"sec_elapsed\": 49.0, \"speed_mph\": 13.989243259274744, \"stop_id\": \"149\", \"loop_or_inlining\": 0, \"p50_mph\": 13.72, \"n_trips\": 19, \"p20_mph\": 8.43, \"p80_mph\": 15.66, \"time_of_day\": \"all_day\"}, {\"shape_array_key\": \"5d34851ee46adb62216152f8a16fe7d0\", \"stop_sequence\": 23, \"gtfs_dataset_key\": \"6c2d7daaf979779fa2089c6395baf98b\", \"_gtfs_dataset_name\": \"Big Blue Bus VehiclePositions\", \"trip_id\": \"902984\", \"min_time\": \"2023-07-12T12:48:43\", \"min_dist\": 242.124066894646, \"max_time\": \"2023-07-12T12:48:43\", \"max_dist\": 242.124066894646, \"meters_elapsed\": 0.0, \"sec_elapsed\": 0.0, \"speed_mph\": 0.0, \"stop_id\": \"149\", \"loop_or_inlining\": 0, \"p50_mph\": 13.72, \"n_trips\": 19, \"p20_mph\": 8.43, \"p80_mph\": 15.66, \"time_of_day\": \"all_day\"}, {\"shape_array_key\": \"5d34851ee46adb62216152f8a16fe7d0\", \"stop_sequence\": 23, \"gtfs_dataset_key\": \"6c2d7daaf979779fa2089c6395baf98b\", \"_gtfs_dataset_name\": \"Big Blue Bus VehiclePositions\", \"trip_id\": \"903003\", \"min_time\": \"2023-07-12T09:34:04\", \"min_dist\": 0.0, \"max_time\": \"2023-07-12T09:36:35\", \"max_dist\": 266.52417962965166, \"meters_elapsed\": 266.52417962965166, \"sec_elapsed\": 151.0, \"speed_mph\": 3.948440992261793, \"stop_id\": \"149\", \"loop_or_inlining\": 0, \"p50_mph\": 13.72, \"n_trips\": 19, \"p20_mph\": 8.43, \"p80_mph\": 15.66, \"time_of_day\": \"all_day\"}, {\"shape_array_key\": \"5d34851ee46adb62216152f8a16fe7d0\", \"stop_sequence\": 23, \"gtfs_dataset_key\": \"6c2d7daaf979779fa2089c6395baf98b\", \"_gtfs_dataset_name\": \"Big Blue Bus VehiclePositions\", \"trip_id\": \"902960\", \"min_time\": \"2023-07-12T16:58:50\", \"min_dist\": 193.5308666777591, \"max_time\": \"2023-07-12T16:58:50\", \"max_dist\": 193.5308666777591, \"meters_elapsed\": 0.0, \"sec_elapsed\": 0.0, \"speed_mph\": 0.0, \"stop_id\": \"149\", \"loop_or_inlining\": 0, \"p50_mph\": 13.72, \"n_trips\": 19, \"p20_mph\": 8.43, \"p80_mph\": 15.66, \"time_of_day\": \"all_day\"}, {\"shape_array_key\": \"5d34851ee46adb62216152f8a16fe7d0\", \"stop_sequence\": 23, \"gtfs_dataset_key\": \"6c2d7daaf979779fa2089c6395baf98b\", \"_gtfs_dataset_name\": \"Big Blue Bus VehiclePositions\", \"trip_id\": \"902976\", \"min_time\": \"2023-07-12T14:09:55\", \"min_dist\": 0.0, \"max_time\": \"2023-07-12T14:11:25\", \"max_dist\": 337.0365651598825, \"meters_elapsed\": 337.0365651598825, \"sec_elapsed\": 90.0, \"speed_mph\": 8.377231069585081, \"stop_id\": \"149\", \"loop_or_inlining\": 0, \"p50_mph\": 13.72, \"n_trips\": 19, \"p20_mph\": 8.43, \"p80_mph\": 15.66, \"time_of_day\": \"all_day\"}, {\"shape_array_key\": \"5d34851ee46adb62216152f8a16fe7d0\", \"stop_sequence\": 23, \"gtfs_dataset_key\": \"6c2d7daaf979779fa2089c6395baf98b\", \"_gtfs_dataset_name\": \"Big Blue Bus VehiclePositions\", \"trip_id\": \"902961\", \"min_time\": \"2023-07-12T16:37:19\", \"min_dist\": 389.2544090699838, \"max_time\": \"2023-07-12T16:37:19\", \"max_dist\": 389.2544090699838, \"meters_elapsed\": 0.0, \"sec_elapsed\": 0.0, \"speed_mph\": 0.0, \"stop_id\": \"149\", \"loop_or_inlining\": 0, \"p50_mph\": 13.72, \"n_trips\": 19, \"p20_mph\": 8.43, \"p80_mph\": 15.66, \"time_of_day\": \"all_day\"}, {\"shape_array_key\": \"5d34851ee46adb62216152f8a16fe7d0\", \"stop_sequence\": 23, \"gtfs_dataset_key\": \"6c2d7daaf979779fa2089c6395baf98b\", \"_gtfs_dataset_name\": \"Big Blue Bus VehiclePositions\", \"trip_id\": \"902967\", \"min_time\": \"2023-07-12T15:35:50\", \"min_dist\": 360.3894548999432, \"max_time\": \"2023-07-12T15:35:50\", \"max_dist\": 360.3894548999432, \"meters_elapsed\": 0.0, \"sec_elapsed\": 0.0, \"speed_mph\": 0.0, \"stop_id\": \"149\", \"loop_or_inlining\": 0, \"p50_mph\": 13.72, \"n_trips\": 19, \"p20_mph\": 8.43, \"p80_mph\": 15.66, \"time_of_day\": \"all_day\"}, {\"shape_array_key\": \"5d34851ee46adb62216152f8a16fe7d0\", \"stop_sequence\": 23, \"gtfs_dataset_key\": \"6c2d7daaf979779fa2089c6395baf98b\", \"_gtfs_dataset_name\": \"Big Blue Bus VehiclePositions\", \"trip_id\": \"902996\", \"min_time\": \"2023-07-12T10:40:17\", \"min_dist\": 0.0, \"max_time\": \"2023-07-12T10:41:01\", \"max_dist\": 0.0, \"meters_elapsed\": 0.0, \"sec_elapsed\": 44.0, \"speed_mph\": 0.0, \"stop_id\": \"149\", \"loop_or_inlining\": 0, \"p50_mph\": 13.72, \"n_trips\": 19, \"p20_mph\": 8.43, \"p80_mph\": 15.66, \"time_of_day\": \"all_day\"}, {\"shape_array_key\": \"5d34851ee46adb62216152f8a16fe7d0\", \"stop_sequence\": 23, \"gtfs_dataset_key\": \"6c2d7daaf979779fa2089c6395baf98b\", \"_gtfs_dataset_name\": \"Big Blue Bus VehiclePositions\", \"trip_id\": \"903005\", \"min_time\": \"2023-07-12T09:14:28\", \"min_dist\": 364.778571701096, \"max_time\": \"2023-07-12T09:16:02\", \"max_dist\": 364.778571701096, \"meters_elapsed\": 0.0, \"sec_elapsed\": 94.0, \"speed_mph\": 0.0, \"stop_id\": \"149\", \"loop_or_inlining\": 0, \"p50_mph\": 13.72, \"n_trips\": 19, \"p20_mph\": 8.43, \"p80_mph\": 15.66, \"time_of_day\": \"all_day\"}, {\"shape_array_key\": \"5d34851ee46adb62216152f8a16fe7d0\", \"stop_sequence\": 23, \"gtfs_dataset_key\": \"6c2d7daaf979779fa2089c6395baf98b\", \"_gtfs_dataset_name\": \"Big Blue Bus VehiclePositions\", \"trip_id\": \"903004\", \"min_time\": \"2023-07-12T09:24:01\", \"min_dist\": 156.33092655185175, \"max_time\": \"2023-07-12T09:24:01\", \"max_dist\": 156.33092655185175, \"meters_elapsed\": 0.0, \"sec_elapsed\": 0.0, \"speed_mph\": 0.0, \"stop_id\": \"149\", \"loop_or_inlining\": 0, \"p50_mph\": 13.72, \"n_trips\": 19, \"p20_mph\": 8.43, \"p80_mph\": 15.66, \"time_of_day\": \"all_day\"}, {\"shape_array_key\": \"5d34851ee46adb62216152f8a16fe7d0\", \"stop_sequence\": 23, \"gtfs_dataset_key\": \"6c2d7daaf979779fa2089c6395baf98b\", \"_gtfs_dataset_name\": \"Big Blue Bus VehiclePositions\", \"trip_id\": \"902940\", \"min_time\": \"2023-07-12T19:21:44\", \"min_dist\": 0.0, \"max_time\": \"2023-07-12T19:21:44\", \"max_dist\": 0.0, \"meters_elapsed\": 0.0, \"sec_elapsed\": 0.0, \"speed_mph\": 0.0, \"stop_id\": \"149\", \"loop_or_inlining\": 0, \"p50_mph\": 13.72, \"n_trips\": 19, \"p20_mph\": 8.43, \"p80_mph\": 15.66, \"time_of_day\": \"all_day\"}, {\"shape_array_key\": \"5d34851ee46adb62216152f8a16fe7d0\", \"stop_sequence\": 23, \"gtfs_dataset_key\": \"6c2d7daaf979779fa2089c6395baf98b\", \"_gtfs_dataset_name\": \"Big Blue Bus VehiclePositions\", \"trip_id\": \"902959\", \"min_time\": \"2023-07-12T16:57:22\", \"min_dist\": 0.0, \"max_time\": \"2023-07-12T16:58:11\", \"max_dist\": 184.6306124507193, \"meters_elapsed\": 184.6306124507193, \"sec_elapsed\": 49.0, \"speed_mph\": 8.428952654127736, \"stop_id\": \"149\", \"loop_or_inlining\": 0, \"p50_mph\": 13.72, \"n_trips\": 19, \"p20_mph\": 8.43, \"p80_mph\": 15.66, \"time_of_day\": \"all_day\"}, {\"shape_array_key\": \"5d34851ee46adb62216152f8a16fe7d0\", \"stop_sequence\": 23, \"gtfs_dataset_key\": \"6c2d7daaf979779fa2089c6395baf98b\", \"_gtfs_dataset_name\": \"Big Blue Bus VehiclePositions\", \"trip_id\": \"902972\", \"min_time\": \"2023-07-12T14:44:10\", \"min_dist\": 5.420716797740151, \"max_time\": \"2023-07-12T14:44:10\", \"max_dist\": 5.420716797740151, \"meters_elapsed\": 0.0, \"sec_elapsed\": 0.0, \"speed_mph\": 0.0, \"stop_id\": \"149\", \"loop_or_inlining\": 0, \"p50_mph\": 13.72, \"n_trips\": 19, \"p20_mph\": 8.43, \"p80_mph\": 15.66, \"time_of_day\": \"all_day\"}, {\"shape_array_key\": \"5d34851ee46adb62216152f8a16fe7d0\", \"stop_sequence\": 23, \"gtfs_dataset_key\": \"6c2d7daaf979779fa2089c6395baf98b\", \"_gtfs_dataset_name\": \"Big Blue Bus VehiclePositions\", \"trip_id\": \"902951\", \"min_time\": \"2023-07-12T06:42:04\", \"min_dist\": 113.2178855617405, \"max_time\": \"2023-07-12T06:42:49\", \"max_dist\": 389.2544090699838, \"meters_elapsed\": 276.0365235082433, \"sec_elapsed\": 45.0, \"speed_mph\": 13.722082290843117, \"stop_id\": \"149\", \"loop_or_inlining\": 0, \"p50_mph\": 13.72, \"n_trips\": 19, \"p20_mph\": 8.43, \"p80_mph\": 15.66, \"time_of_day\": \"all_day\"}, {\"shape_array_key\": \"5d34851ee46adb62216152f8a16fe7d0\", \"stop_sequence\": 23, \"gtfs_dataset_key\": \"6c2d7daaf979779fa2089c6395baf98b\", \"_gtfs_dataset_name\": \"Big Blue Bus VehiclePositions\", \"trip_id\": \"902968\", \"min_time\": \"2023-07-12T15:29:09\", \"min_dist\": 389.2544090699838, \"max_time\": \"2023-07-12T15:29:09\", \"max_dist\": 389.2544090699838, \"meters_elapsed\": 0.0, \"sec_elapsed\": 0.0, \"speed_mph\": 0.0, \"stop_id\": \"149\", \"loop_or_inlining\": 0, \"p50_mph\": 13.72, \"n_trips\": 19, \"p20_mph\": 8.43, \"p80_mph\": 15.66, \"time_of_day\": \"all_day\"}, {\"shape_array_key\": \"5d34851ee46adb62216152f8a16fe7d0\", \"stop_sequence\": 23, \"gtfs_dataset_key\": \"6c2d7daaf979779fa2089c6395baf98b\", \"_gtfs_dataset_name\": \"Big Blue Bus VehiclePositions\", \"trip_id\": \"902979\", \"min_time\": \"2023-07-12T13:31:22\", \"min_dist\": 229.92816614383162, \"max_time\": \"2023-07-12T13:31:22\", \"max_dist\": 229.92816614383162, \"meters_elapsed\": 0.0, \"sec_elapsed\": 0.0, \"speed_mph\": 0.0, \"stop_id\": \"149\", \"loop_or_inlining\": 0, \"p50_mph\": 13.72, \"n_trips\": 19, \"p20_mph\": 8.43, \"p80_mph\": 15.66, \"time_of_day\": \"all_day\"}, {\"shape_array_key\": \"5d34851ee46adb62216152f8a16fe7d0\", \"stop_sequence\": 23, \"gtfs_dataset_key\": \"6c2d7daaf979779fa2089c6395baf98b\", \"_gtfs_dataset_name\": \"Big Blue Bus VehiclePositions\", \"trip_id\": \"903016\", \"min_time\": \"2023-07-12T07:17:01\", \"min_dist\": 204.1925047650495, \"max_time\": \"2023-07-12T07:17:01\", \"max_dist\": 204.1925047650495, \"meters_elapsed\": 0.0, \"sec_elapsed\": 0.0, \"speed_mph\": 0.0, \"stop_id\": \"149\", \"loop_or_inlining\": 0, \"p50_mph\": 13.72, \"n_trips\": 19, \"p20_mph\": 8.43, \"p80_mph\": 15.66, \"time_of_day\": \"all_day\"}, {\"shape_array_key\": \"5d34851ee46adb62216152f8a16fe7d0\", \"stop_sequence\": 23, \"gtfs_dataset_key\": \"6c2d7daaf979779fa2089c6395baf98b\", \"_gtfs_dataset_name\": \"Big Blue Bus VehiclePositions\", \"trip_id\": \"902965\", \"min_time\": \"2023-07-12T15:52:17\", \"min_dist\": 0.0, \"max_time\": \"2023-07-12T15:53:06\", \"max_dist\": 375.91368778289615, \"meters_elapsed\": 375.91368778289615, \"sec_elapsed\": 49.0, \"speed_mph\": 17.1616106034763, \"stop_id\": \"149\", \"loop_or_inlining\": 0, \"p50_mph\": 13.72, \"n_trips\": 19, \"p20_mph\": 8.43, \"p80_mph\": 15.66, \"time_of_day\": \"all_day\"}, {\"shape_array_key\": \"5d34851ee46adb62216152f8a16fe7d0\", \"stop_sequence\": 23, \"gtfs_dataset_key\": \"6c2d7daaf979779fa2089c6395baf98b\", \"_gtfs_dataset_name\": \"Big Blue Bus VehiclePositions\", \"trip_id\": \"903010\", \"min_time\": \"2023-07-12T08:19:42\", \"min_dist\": 0.0, \"max_time\": \"2023-07-12T08:19:42\", \"max_dist\": 0.0, \"meters_elapsed\": 0.0, \"sec_elapsed\": 0.0, \"speed_mph\": 0.0, \"stop_id\": \"149\", \"loop_or_inlining\": 0, \"p50_mph\": 13.72, \"n_trips\": 19, \"p20_mph\": 8.43, \"p80_mph\": 15.66, \"time_of_day\": \"all_day\"}, {\"shape_array_key\": \"5d34851ee46adb62216152f8a16fe7d0\", \"stop_sequence\": 23, \"gtfs_dataset_key\": \"6c2d7daaf979779fa2089c6395baf98b\", \"_gtfs_dataset_name\": \"Big Blue Bus VehiclePositions\", \"trip_id\": \"902946\", \"min_time\": \"2023-07-12T17:55:14\", \"min_dist\": 0.0, \"max_time\": \"2023-07-12T17:55:14\", \"max_dist\": 0.0, \"meters_elapsed\": 0.0, \"sec_elapsed\": 0.0, \"speed_mph\": 0.0, \"stop_id\": \"149\", \"loop_or_inlining\": 0, \"p50_mph\": 13.72, \"n_trips\": 19, \"p20_mph\": 8.43, \"p80_mph\": 15.66, \"time_of_day\": \"all_day\"}, {\"shape_array_key\": \"5d34851ee46adb62216152f8a16fe7d0\", \"stop_sequence\": 23, \"gtfs_dataset_key\": \"6c2d7daaf979779fa2089c6395baf98b\", \"_gtfs_dataset_name\": \"Big Blue Bus VehiclePositions\", \"trip_id\": \"902991\", \"min_time\": \"2023-07-12T11:50:05\", \"min_dist\": 69.75508528669631, \"max_time\": \"2023-07-12T11:50:05\", \"max_dist\": 69.75508528669631, \"meters_elapsed\": 0.0, \"sec_elapsed\": 0.0, \"speed_mph\": 0.0, \"stop_id\": \"149\", \"loop_or_inlining\": 0, \"p50_mph\": 13.72, \"n_trips\": 19, \"p20_mph\": 8.43, \"p80_mph\": 15.66, \"time_of_day\": \"all_day\"}, {\"shape_array_key\": \"5d34851ee46adb62216152f8a16fe7d0\", \"stop_sequence\": 23, \"gtfs_dataset_key\": \"6c2d7daaf979779fa2089c6395baf98b\", \"_gtfs_dataset_name\": \"Big Blue Bus VehiclePositions\", \"trip_id\": \"902955\", \"min_time\": \"2023-07-12T17:36:58\", \"min_dist\": 228.28529002145996, \"max_time\": \"2023-07-12T17:36:58\", \"max_dist\": 228.28529002145996, \"meters_elapsed\": 0.0, \"sec_elapsed\": 0.0, \"speed_mph\": 0.0, \"stop_id\": \"149\", \"loop_or_inlining\": 0, \"p50_mph\": 13.72, \"n_trips\": 19, \"p20_mph\": 8.43, \"p80_mph\": 15.66, \"time_of_day\": \"all_day\"}, {\"shape_array_key\": \"5d34851ee46adb62216152f8a16fe7d0\", \"stop_sequence\": 23, \"gtfs_dataset_key\": \"6c2d7daaf979779fa2089c6395baf98b\", \"_gtfs_dataset_name\": \"Big Blue Bus VehiclePositions\", \"trip_id\": \"902957\", \"min_time\": \"2023-07-12T17:12:52\", \"min_dist\": 261.49466958979457, \"max_time\": \"2023-07-12T17:12:52\", \"max_dist\": 261.49466958979457, \"meters_elapsed\": 0.0, \"sec_elapsed\": 0.0, \"speed_mph\": 0.0, \"stop_id\": \"149\", \"loop_or_inlining\": 0, \"p50_mph\": 13.72, \"n_trips\": 19, \"p20_mph\": 8.43, \"p80_mph\": 15.66, \"time_of_day\": \"all_day\"}, {\"shape_array_key\": \"5d34851ee46adb62216152f8a16fe7d0\", \"stop_sequence\": 23, \"gtfs_dataset_key\": \"6c2d7daaf979779fa2089c6395baf98b\", \"_gtfs_dataset_name\": \"Big Blue Bus VehiclePositions\", \"trip_id\": \"902982\", \"min_time\": \"2023-07-12T12:58:26\", \"min_dist\": 222.97513001475073, \"max_time\": \"2023-07-12T12:58:26\", \"max_dist\": 222.97513001475073, \"meters_elapsed\": 0.0, \"sec_elapsed\": 0.0, \"speed_mph\": 0.0, \"stop_id\": \"149\", \"loop_or_inlining\": 0, \"p50_mph\": 13.72, \"n_trips\": 19, \"p20_mph\": 8.43, \"p80_mph\": 15.66, \"time_of_day\": \"all_day\"}, {\"shape_array_key\": \"5d34851ee46adb62216152f8a16fe7d0\", \"stop_sequence\": 23, \"gtfs_dataset_key\": \"6c2d7daaf979779fa2089c6395baf98b\", \"_gtfs_dataset_name\": \"Big Blue Bus VehiclePositions\", \"trip_id\": \"902985\", \"min_time\": \"2023-07-12T12:45:45\", \"min_dist\": 0.0, \"max_time\": \"2023-07-12T12:45:45\", \"max_dist\": 0.0, \"meters_elapsed\": 0.0, \"sec_elapsed\": 0.0, \"speed_mph\": 0.0, \"stop_id\": \"149\", \"loop_or_inlining\": 0, \"p50_mph\": 13.72, \"n_trips\": 19, \"p20_mph\": 8.43, \"p80_mph\": 15.66, \"time_of_day\": \"all_day\"}, {\"shape_array_key\": \"5d34851ee46adb62216152f8a16fe7d0\", \"stop_sequence\": 23, \"gtfs_dataset_key\": \"6c2d7daaf979779fa2089c6395baf98b\", \"_gtfs_dataset_name\": \"Big Blue Bus VehiclePositions\", \"trip_id\": \"902945\", \"min_time\": \"2023-07-12T18:11:36\", \"min_dist\": 389.2544090699838, \"max_time\": \"2023-07-12T18:11:36\", \"max_dist\": 389.2544090699838, \"meters_elapsed\": 0.0, \"sec_elapsed\": 0.0, \"speed_mph\": 0.0, \"stop_id\": \"149\", \"loop_or_inlining\": 0, \"p50_mph\": 13.72, \"n_trips\": 19, \"p20_mph\": 8.43, \"p80_mph\": 15.66, \"time_of_day\": \"all_day\"}, {\"shape_array_key\": \"5d34851ee46adb62216152f8a16fe7d0\", \"stop_sequence\": 23, \"gtfs_dataset_key\": \"6c2d7daaf979779fa2089c6395baf98b\", \"_gtfs_dataset_name\": \"Big Blue Bus VehiclePositions\", \"trip_id\": \"902988\", \"min_time\": \"2023-07-12T12:00:48\", \"min_dist\": 83.04953040422792, \"max_time\": \"2023-07-12T12:00:48\", \"max_dist\": 83.04953040422792, \"meters_elapsed\": 0.0, \"sec_elapsed\": 0.0, \"speed_mph\": 0.0, \"stop_id\": \"149\", \"loop_or_inlining\": 0, \"p50_mph\": 13.72, \"n_trips\": 19, \"p20_mph\": 8.43, \"p80_mph\": 15.66, \"time_of_day\": \"all_day\"}]}}, {\"mode\": \"vega-lite\"});\n",
       "</script>"
      ],
      "text/plain": [
       "alt.LayerChart(...)"
      ]
     },
     "metadata": {},
     "output_type": "display_data"
    }
   ],
   "source": [
    "display_speeds(shape_array2, stop_seq2)"
   ]
  },
  {
   "cell_type": "code",
   "execution_count": 21,
   "id": "a1b6b30c-ec03-42ca-97c9-fdc6da81b898",
   "metadata": {},
   "outputs": [
    {
     "data": {
      "text/html": [
       "\n",
       "<div id=\"altair-viz-7c4a3dede4034135beb00d4ea4d97d2c\"></div>\n",
       "<script type=\"text/javascript\">\n",
       "  var VEGA_DEBUG = (typeof VEGA_DEBUG == \"undefined\") ? {} : VEGA_DEBUG;\n",
       "  (function(spec, embedOpt){\n",
       "    let outputDiv = document.currentScript.previousElementSibling;\n",
       "    if (outputDiv.id !== \"altair-viz-7c4a3dede4034135beb00d4ea4d97d2c\") {\n",
       "      outputDiv = document.getElementById(\"altair-viz-7c4a3dede4034135beb00d4ea4d97d2c\");\n",
       "    }\n",
       "    const paths = {\n",
       "      \"vega\": \"https://cdn.jsdelivr.net/npm//vega@5?noext\",\n",
       "      \"vega-lib\": \"https://cdn.jsdelivr.net/npm//vega-lib?noext\",\n",
       "      \"vega-lite\": \"https://cdn.jsdelivr.net/npm//vega-lite@4.17.0?noext\",\n",
       "      \"vega-embed\": \"https://cdn.jsdelivr.net/npm//vega-embed@6?noext\",\n",
       "    };\n",
       "\n",
       "    function maybeLoadScript(lib, version) {\n",
       "      var key = `${lib.replace(\"-\", \"\")}_version`;\n",
       "      return (VEGA_DEBUG[key] == version) ?\n",
       "        Promise.resolve(paths[lib]) :\n",
       "        new Promise(function(resolve, reject) {\n",
       "          var s = document.createElement('script');\n",
       "          document.getElementsByTagName(\"head\")[0].appendChild(s);\n",
       "          s.async = true;\n",
       "          s.onload = () => {\n",
       "            VEGA_DEBUG[key] = version;\n",
       "            return resolve(paths[lib]);\n",
       "          };\n",
       "          s.onerror = () => reject(`Error loading script: ${paths[lib]}`);\n",
       "          s.src = paths[lib];\n",
       "        });\n",
       "    }\n",
       "\n",
       "    function showError(err) {\n",
       "      outputDiv.innerHTML = `<div class=\"error\" style=\"color:red;\">${err}</div>`;\n",
       "      throw err;\n",
       "    }\n",
       "\n",
       "    function displayChart(vegaEmbed) {\n",
       "      vegaEmbed(outputDiv, spec, embedOpt)\n",
       "        .catch(err => showError(`Javascript Error: ${err.message}<br>This usually means there's a typo in your chart specification. See the javascript console for the full traceback.`));\n",
       "    }\n",
       "\n",
       "    if(typeof define === \"function\" && define.amd) {\n",
       "      requirejs.config({paths});\n",
       "      require([\"vega-embed\"], displayChart, err => showError(`Error loading script: ${err.message}`));\n",
       "    } else {\n",
       "      maybeLoadScript(\"vega\", \"5\")\n",
       "        .then(() => maybeLoadScript(\"vega-lite\", \"4.17.0\"))\n",
       "        .then(() => maybeLoadScript(\"vega-embed\", \"6\"))\n",
       "        .catch(showError)\n",
       "        .then(() => displayChart(vegaEmbed));\n",
       "    }\n",
       "  })({\"config\": {\"view\": {\"continuousWidth\": 400, \"continuousHeight\": 300}}, \"layer\": [{\"mark\": \"bar\", \"encoding\": {\"tooltip\": [{\"field\": \"shape_array_key\", \"type\": \"nominal\"}, {\"field\": \"stop_sequence\", \"type\": \"quantitative\"}, {\"field\": \"gtfs_dataset_key\", \"type\": \"nominal\"}, {\"field\": \"_gtfs_dataset_name\", \"type\": \"nominal\"}, {\"field\": \"trip_id\", \"type\": \"nominal\"}, {\"field\": \"min_time\", \"type\": \"temporal\"}, {\"field\": \"min_dist\", \"type\": \"quantitative\"}, {\"field\": \"max_time\", \"type\": \"temporal\"}, {\"field\": \"max_dist\", \"type\": \"quantitative\"}, {\"field\": \"meters_elapsed\", \"type\": \"quantitative\"}, {\"field\": \"sec_elapsed\", \"type\": \"quantitative\"}, {\"field\": \"speed_mph\", \"type\": \"quantitative\"}, {\"field\": \"stop_id\", \"type\": \"nominal\"}, {\"field\": \"loop_or_inlining\", \"type\": \"quantitative\"}, {\"field\": \"p50_mph\", \"type\": \"quantitative\"}, {\"field\": \"n_trips\", \"type\": \"quantitative\"}, {\"field\": \"p20_mph\", \"type\": \"quantitative\"}, {\"field\": \"p80_mph\", \"type\": \"quantitative\"}, {\"field\": \"time_of_day\", \"type\": \"nominal\"}], \"x\": {\"field\": \"trip_id\", \"type\": \"nominal\"}, \"y\": {\"field\": \"speed_mph\", \"type\": \"quantitative\"}}, \"selection\": {\"selector002\": {\"type\": \"interval\", \"bind\": \"scales\", \"encodings\": [\"x\", \"y\"]}}, \"title\": \"Speed Distribution for Seq 32/Shape 94e02a46331c8b449aedb4469f49764a\"}, {\"mark\": {\"type\": \"rule\", \"color\": \"red\", \"strokeDash\": [10, 7]}, \"encoding\": {\"y\": {\"field\": \"p20_mph\", \"type\": \"quantitative\"}}}, {\"mark\": {\"type\": \"rule\", \"color\": \"blue\", \"strokeDash\": [10, 7]}, \"encoding\": {\"y\": {\"field\": \"p80_mph\", \"type\": \"quantitative\"}}}, {\"mark\": {\"type\": \"rule\", \"color\": \"green\", \"strokeDash\": [10, 7]}, \"encoding\": {\"y\": {\"field\": \"p50_mph\", \"type\": \"quantitative\"}}}], \"data\": {\"name\": \"data-c01bb4bae2f685df08e21abaa6ddfeea\"}, \"height\": 300, \"width\": 600, \"$schema\": \"https://vega.github.io/schema/vega-lite/v4.17.0.json\", \"datasets\": {\"data-c01bb4bae2f685df08e21abaa6ddfeea\": [{\"shape_array_key\": \"94e02a46331c8b449aedb4469f49764a\", \"stop_sequence\": 32, \"gtfs_dataset_key\": \"6c2d7daaf979779fa2089c6395baf98b\", \"_gtfs_dataset_name\": \"Big Blue Bus VehiclePositions\", \"trip_id\": \"905072\", \"min_time\": \"2023-07-12T16:21:21\", \"min_dist\": 571.0166608930697, \"max_time\": \"2023-07-12T16:21:21\", \"max_dist\": 571.0166608930697, \"meters_elapsed\": 0.0, \"sec_elapsed\": 0.0, \"speed_mph\": 0.0, \"stop_id\": \"1648\", \"loop_or_inlining\": 0, \"p50_mph\": 1.9, \"n_trips\": 23, \"p20_mph\": 0.91, \"p80_mph\": 9.85, \"time_of_day\": \"all_day\"}, {\"shape_array_key\": \"94e02a46331c8b449aedb4469f49764a\", \"stop_sequence\": 32, \"gtfs_dataset_key\": \"6c2d7daaf979779fa2089c6395baf98b\", \"_gtfs_dataset_name\": \"Big Blue Bus VehiclePositions\", \"trip_id\": \"905074\", \"min_time\": \"2023-07-12T15:23:51\", \"min_dist\": 69.99751462493292, \"max_time\": \"2023-07-12T15:45:19\", \"max_dist\": 576.7160160939877, \"meters_elapsed\": 506.7185014690548, \"sec_elapsed\": 1288.0, \"speed_mph\": 0.8800693228154314, \"stop_id\": \"1648\", \"loop_or_inlining\": 0, \"p50_mph\": 1.9, \"n_trips\": 23, \"p20_mph\": 0.91, \"p80_mph\": 9.85, \"time_of_day\": \"all_day\"}, {\"shape_array_key\": \"94e02a46331c8b449aedb4469f49764a\", \"stop_sequence\": 32, \"gtfs_dataset_key\": \"6c2d7daaf979779fa2089c6395baf98b\", \"_gtfs_dataset_name\": \"Big Blue Bus VehiclePositions\", \"trip_id\": \"905079\", \"min_time\": \"2023-07-12T13:11:31\", \"min_dist\": 88.56669335326251, \"max_time\": \"2023-07-12T13:12:16\", \"max_dist\": 314.28418307745665, \"meters_elapsed\": 225.71748972419414, \"sec_elapsed\": 45.0, \"speed_mph\": 11.220667211400496, \"stop_id\": \"1648\", \"loop_or_inlining\": 0, \"p50_mph\": 1.9, \"n_trips\": 23, \"p20_mph\": 0.91, \"p80_mph\": 9.85, \"time_of_day\": \"all_day\"}, {\"shape_array_key\": \"94e02a46331c8b449aedb4469f49764a\", \"stop_sequence\": 32, \"gtfs_dataset_key\": \"6c2d7daaf979779fa2089c6395baf98b\", \"_gtfs_dataset_name\": \"Big Blue Bus VehiclePositions\", \"trip_id\": \"905090\", \"min_time\": \"2023-07-12T08:33:09\", \"min_dist\": 94.50120608068939, \"max_time\": \"2023-07-12T08:49:26\", \"max_dist\": 578.599005650267, \"meters_elapsed\": 484.09779956957766, \"sec_elapsed\": 977.0, \"speed_mph\": 1.1084204479397597, \"stop_id\": \"1648\", \"loop_or_inlining\": 0, \"p50_mph\": 1.9, \"n_trips\": 23, \"p20_mph\": 0.91, \"p80_mph\": 9.85, \"time_of_day\": \"all_day\"}, {\"shape_array_key\": \"94e02a46331c8b449aedb4469f49764a\", \"stop_sequence\": 32, \"gtfs_dataset_key\": \"6c2d7daaf979779fa2089c6395baf98b\", \"_gtfs_dataset_name\": \"Big Blue Bus VehiclePositions\", \"trip_id\": \"905075\", \"min_time\": \"2023-07-12T14:58:59\", \"min_dist\": 452.4382307424762, \"max_time\": \"2023-07-12T14:58:59\", \"max_dist\": 452.4382307424762, \"meters_elapsed\": 0.0, \"sec_elapsed\": 0.0, \"speed_mph\": 0.0, \"stop_id\": \"1648\", \"loop_or_inlining\": 0, \"p50_mph\": 1.9, \"n_trips\": 23, \"p20_mph\": 0.91, \"p80_mph\": 9.85, \"time_of_day\": \"all_day\"}, {\"shape_array_key\": \"94e02a46331c8b449aedb4469f49764a\", \"stop_sequence\": 32, \"gtfs_dataset_key\": \"6c2d7daaf979779fa2089c6395baf98b\", \"_gtfs_dataset_name\": \"Big Blue Bus VehiclePositions\", \"trip_id\": \"905067\", \"min_time\": \"2023-07-12T18:59:27\", \"min_dist\": 430.11366502845783, \"max_time\": \"2023-07-12T19:00:12\", \"max_dist\": 468.278959599383, \"meters_elapsed\": 38.16529457092514, \"sec_elapsed\": 45.0, \"speed_mph\": 1.8972391990035453, \"stop_id\": \"1648\", \"loop_or_inlining\": 0, \"p50_mph\": 1.9, \"n_trips\": 23, \"p20_mph\": 0.91, \"p80_mph\": 9.85, \"time_of_day\": \"all_day\"}, {\"shape_array_key\": \"94e02a46331c8b449aedb4469f49764a\", \"stop_sequence\": 32, \"gtfs_dataset_key\": \"6c2d7daaf979779fa2089c6395baf98b\", \"_gtfs_dataset_name\": \"Big Blue Bus VehiclePositions\", \"trip_id\": \"905069\", \"min_time\": \"2023-07-12T18:03:58\", \"min_dist\": 328.53933619310754, \"max_time\": \"2023-07-12T18:23:12\", \"max_dist\": 583.743971425524, \"meters_elapsed\": 255.20463523241648, \"sec_elapsed\": 1154.0, \"speed_mph\": 0.49470777210997896, \"stop_id\": \"1648\", \"loop_or_inlining\": 0, \"p50_mph\": 1.9, \"n_trips\": 23, \"p20_mph\": 0.91, \"p80_mph\": 9.85, \"time_of_day\": \"all_day\"}, {\"shape_array_key\": \"94e02a46331c8b449aedb4469f49764a\", \"stop_sequence\": 32, \"gtfs_dataset_key\": \"6c2d7daaf979779fa2089c6395baf98b\", \"_gtfs_dataset_name\": \"Big Blue Bus VehiclePositions\", \"trip_id\": \"905083\", \"min_time\": \"2023-07-12T11:30:31\", \"min_dist\": 249.29257514663587, \"max_time\": \"2023-07-12T11:31:13\", \"max_dist\": 434.9075164203241, \"meters_elapsed\": 185.61494127368823, \"sec_elapsed\": 42.0, \"speed_mph\": 9.88620532450573, \"stop_id\": \"1648\", \"loop_or_inlining\": 0, \"p50_mph\": 1.9, \"n_trips\": 23, \"p20_mph\": 0.91, \"p80_mph\": 9.85, \"time_of_day\": \"all_day\"}, {\"shape_array_key\": \"94e02a46331c8b449aedb4469f49764a\", \"stop_sequence\": 32, \"gtfs_dataset_key\": \"6c2d7daaf979779fa2089c6395baf98b\", \"_gtfs_dataset_name\": \"Big Blue Bus VehiclePositions\", \"trip_id\": \"905088\", \"min_time\": \"2023-07-12T09:26:51\", \"min_dist\": 192.13698949746262, \"max_time\": \"2023-07-12T09:28:20\", \"max_dist\": 481.4194760976122, \"meters_elapsed\": 289.2824866001496, \"sec_elapsed\": 89.0, \"speed_mph\": 7.27106654521949, \"stop_id\": \"1648\", \"loop_or_inlining\": 0, \"p50_mph\": 1.9, \"n_trips\": 23, \"p20_mph\": 0.91, \"p80_mph\": 9.85, \"time_of_day\": \"all_day\"}, {\"shape_array_key\": \"94e02a46331c8b449aedb4469f49764a\", \"stop_sequence\": 32, \"gtfs_dataset_key\": \"6c2d7daaf979779fa2089c6395baf98b\", \"_gtfs_dataset_name\": \"Big Blue Bus VehiclePositions\", \"trip_id\": \"905092\", \"min_time\": \"2023-07-12T07:43:06\", \"min_dist\": 267.36454479776575, \"max_time\": \"2023-07-12T07:44:35\", \"max_dist\": 459.4701337382705, \"meters_elapsed\": 192.10558894050473, \"sec_elapsed\": 89.0, \"speed_mph\": 4.828541600673136, \"stop_id\": \"1648\", \"loop_or_inlining\": 0, \"p50_mph\": 1.9, \"n_trips\": 23, \"p20_mph\": 0.91, \"p80_mph\": 9.85, \"time_of_day\": \"all_day\"}, {\"shape_array_key\": \"94e02a46331c8b449aedb4469f49764a\", \"stop_sequence\": 32, \"gtfs_dataset_key\": \"6c2d7daaf979779fa2089c6395baf98b\", \"_gtfs_dataset_name\": \"Big Blue Bus VehiclePositions\", \"trip_id\": \"905081\", \"min_time\": \"2023-07-12T12:21:48\", \"min_dist\": 103.5651088316744, \"max_time\": \"2023-07-12T12:31:34\", \"max_dist\": 582.7484345131568, \"meters_elapsed\": 479.1833256814824, \"sec_elapsed\": 586.0, \"speed_mph\": 1.82923737124484, \"stop_id\": \"1648\", \"loop_or_inlining\": 0, \"p50_mph\": 1.9, \"n_trips\": 23, \"p20_mph\": 0.91, \"p80_mph\": 9.85, \"time_of_day\": \"all_day\"}, {\"shape_array_key\": \"94e02a46331c8b449aedb4469f49764a\", \"stop_sequence\": 32, \"gtfs_dataset_key\": \"6c2d7daaf979779fa2089c6395baf98b\", \"_gtfs_dataset_name\": \"Big Blue Bus VehiclePositions\", \"trip_id\": \"905085\", \"min_time\": \"2023-07-12T10:38:39\", \"min_dist\": 149.2963465675524, \"max_time\": \"2023-07-12T10:55:40\", \"max_dist\": 583.743971425524, \"meters_elapsed\": 434.4476248579716, \"sec_elapsed\": 1021.0, \"speed_mph\": 0.9518700654331856, \"stop_id\": \"1648\", \"loop_or_inlining\": 0, \"p50_mph\": 1.9, \"n_trips\": 23, \"p20_mph\": 0.91, \"p80_mph\": 9.85, \"time_of_day\": \"all_day\"}, {\"shape_array_key\": \"94e02a46331c8b449aedb4469f49764a\", \"stop_sequence\": 32, \"gtfs_dataset_key\": \"6c2d7daaf979779fa2089c6395baf98b\", \"_gtfs_dataset_name\": \"Big Blue Bus VehiclePositions\", \"trip_id\": \"905089\", \"min_time\": \"2023-07-12T08:59:22\", \"min_dist\": 102.37197592624867, \"max_time\": \"2023-07-12T09:14:01\", \"max_dist\": 582.3435345591755, \"meters_elapsed\": 479.9715586329269, \"sec_elapsed\": 879.0, \"speed_mph\": 1.2214975843707139, \"stop_id\": \"1648\", \"loop_or_inlining\": 0, \"p50_mph\": 1.9, \"n_trips\": 23, \"p20_mph\": 0.91, \"p80_mph\": 9.85, \"time_of_day\": \"all_day\"}, {\"shape_array_key\": \"94e02a46331c8b449aedb4469f49764a\", \"stop_sequence\": 32, \"gtfs_dataset_key\": \"6c2d7daaf979779fa2089c6395baf98b\", \"_gtfs_dataset_name\": \"Big Blue Bus VehiclePositions\", \"trip_id\": \"905086\", \"min_time\": \"2023-07-12T10:18:10\", \"min_dist\": 28.255715730648753, \"max_time\": \"2023-07-12T10:27:58\", \"max_dist\": 578.2644439462617, \"meters_elapsed\": 550.008728215613, \"sec_elapsed\": 588.0, \"speed_mph\": 2.092465178602596, \"stop_id\": \"1648\", \"loop_or_inlining\": 0, \"p50_mph\": 1.9, \"n_trips\": 23, \"p20_mph\": 0.91, \"p80_mph\": 9.85, \"time_of_day\": \"all_day\"}, {\"shape_array_key\": \"94e02a46331c8b449aedb4469f49764a\", \"stop_sequence\": 32, \"gtfs_dataset_key\": \"6c2d7daaf979779fa2089c6395baf98b\", \"_gtfs_dataset_name\": \"Big Blue Bus VehiclePositions\", \"trip_id\": \"905076\", \"min_time\": \"2023-07-12T14:25:17\", \"min_dist\": 0.0, \"max_time\": \"2023-07-12T14:26:46\", \"max_dist\": 207.8663585546626, \"meters_elapsed\": 207.8663585546626, \"sec_elapsed\": 89.0, \"speed_mph\": 5.224685888615508, \"stop_id\": \"1648\", \"loop_or_inlining\": 0, \"p50_mph\": 1.9, \"n_trips\": 23, \"p20_mph\": 0.91, \"p80_mph\": 9.85, \"time_of_day\": \"all_day\"}, {\"shape_array_key\": \"94e02a46331c8b449aedb4469f49764a\", \"stop_sequence\": 32, \"gtfs_dataset_key\": \"6c2d7daaf979779fa2089c6395baf98b\", \"_gtfs_dataset_name\": \"Big Blue Bus VehiclePositions\", \"trip_id\": \"905087\", \"min_time\": \"2023-07-12T09:47:58\", \"min_dist\": 83.8457739675199, \"max_time\": \"2023-07-12T09:49:27\", \"max_dist\": 361.3630641715588, \"meters_elapsed\": 277.5172902040389, \"sec_elapsed\": 89.0, \"speed_mph\": 6.975350316701517, \"stop_id\": \"1648\", \"loop_or_inlining\": 0, \"p50_mph\": 1.9, \"n_trips\": 23, \"p20_mph\": 0.91, \"p80_mph\": 9.85, \"time_of_day\": \"all_day\"}, {\"shape_array_key\": \"94e02a46331c8b449aedb4469f49764a\", \"stop_sequence\": 32, \"gtfs_dataset_key\": \"6c2d7daaf979779fa2089c6395baf98b\", \"_gtfs_dataset_name\": \"Big Blue Bus VehiclePositions\", \"trip_id\": \"905091\", \"min_time\": \"2023-07-12T08:05:23\", \"min_dist\": 0.0, \"max_time\": \"2023-07-12T08:06:58\", \"max_dist\": 471.390971366723, \"meters_elapsed\": 471.390971366723, \"sec_elapsed\": 95.0, \"speed_mph\": 11.1000168731301, \"stop_id\": \"1648\", \"loop_or_inlining\": 0, \"p50_mph\": 1.9, \"n_trips\": 23, \"p20_mph\": 0.91, \"p80_mph\": 9.85, \"time_of_day\": \"all_day\"}, {\"shape_array_key\": \"94e02a46331c8b449aedb4469f49764a\", \"stop_sequence\": 32, \"gtfs_dataset_key\": \"6c2d7daaf979779fa2089c6395baf98b\", \"_gtfs_dataset_name\": \"Big Blue Bus VehiclePositions\", \"trip_id\": \"905070\", \"min_time\": \"2023-07-12T17:28:31\", \"min_dist\": 352.35135234148674, \"max_time\": \"2023-07-12T17:51:28\", \"max_dist\": 582.0497130849329, \"meters_elapsed\": 229.6983607434462, \"sec_elapsed\": 1377.0, \"speed_mph\": 0.3731555795084162, \"stop_id\": \"1648\", \"loop_or_inlining\": 0, \"p50_mph\": 1.9, \"n_trips\": 23, \"p20_mph\": 0.91, \"p80_mph\": 9.85, \"time_of_day\": \"all_day\"}, {\"shape_array_key\": \"94e02a46331c8b449aedb4469f49764a\", \"stop_sequence\": 32, \"gtfs_dataset_key\": \"6c2d7daaf979779fa2089c6395baf98b\", \"_gtfs_dataset_name\": \"Big Blue Bus VehiclePositions\", \"trip_id\": \"905078\", \"min_time\": \"2023-07-12T13:34:43\", \"min_dist\": 38.51475990960311, \"max_time\": \"2023-07-12T13:36:12\", \"max_dist\": 427.85502727225963, \"meters_elapsed\": 389.3402673626565, \"sec_elapsed\": 89.0, \"speed_mph\": 9.786002001014186, \"stop_id\": \"1648\", \"loop_or_inlining\": 0, \"p50_mph\": 1.9, \"n_trips\": 23, \"p20_mph\": 0.91, \"p80_mph\": 9.85, \"time_of_day\": \"all_day\"}, {\"shape_array_key\": \"94e02a46331c8b449aedb4469f49764a\", \"stop_sequence\": 32, \"gtfs_dataset_key\": \"6c2d7daaf979779fa2089c6395baf98b\", \"_gtfs_dataset_name\": \"Big Blue Bus VehiclePositions\", \"trip_id\": \"905073\", \"min_time\": \"2023-07-12T15:52:45\", \"min_dist\": 306.1401980733134, \"max_time\": \"2023-07-12T16:15:08\", \"max_dist\": 580.8787471825385, \"meters_elapsed\": 274.7385491092251, \"sec_elapsed\": 1343.0, \"speed_mph\": 0.4576248208170786, \"stop_id\": \"1648\", \"loop_or_inlining\": 0, \"p50_mph\": 1.9, \"n_trips\": 23, \"p20_mph\": 0.91, \"p80_mph\": 9.85, \"time_of_day\": \"all_day\"}, {\"shape_array_key\": \"94e02a46331c8b449aedb4469f49764a\", \"stop_sequence\": 32, \"gtfs_dataset_key\": \"6c2d7daaf979779fa2089c6395baf98b\", \"_gtfs_dataset_name\": \"Big Blue Bus VehiclePositions\", \"trip_id\": \"905077\", \"min_time\": \"2023-07-12T14:02:28\", \"min_dist\": 100.82979594717173, \"max_time\": \"2023-07-12T14:16:32\", \"max_dist\": 583.743971425524, \"meters_elapsed\": 482.91417547835226, \"sec_elapsed\": 844.0, \"speed_mph\": 1.2799514342951115, \"stop_id\": \"1648\", \"loop_or_inlining\": 0, \"p50_mph\": 1.9, \"n_trips\": 23, \"p20_mph\": 0.91, \"p80_mph\": 9.85, \"time_of_day\": \"all_day\"}, {\"shape_array_key\": \"94e02a46331c8b449aedb4469f49764a\", \"stop_sequence\": 32, \"gtfs_dataset_key\": \"6c2d7daaf979779fa2089c6395baf98b\", \"_gtfs_dataset_name\": \"Big Blue Bus VehiclePositions\", \"trip_id\": \"905084\", \"min_time\": \"2023-07-12T11:15:31\", \"min_dist\": 103.5651088316744, \"max_time\": \"2023-07-12T11:16:16\", \"max_dist\": 323.28428966108186, \"meters_elapsed\": 219.71918082940746, \"sec_elapsed\": 45.0, \"speed_mph\": 10.922484611452989, \"stop_id\": \"1648\", \"loop_or_inlining\": 0, \"p50_mph\": 1.9, \"n_trips\": 23, \"p20_mph\": 0.91, \"p80_mph\": 9.85, \"time_of_day\": \"all_day\"}, {\"shape_array_key\": \"94e02a46331c8b449aedb4469f49764a\", \"stop_sequence\": 32, \"gtfs_dataset_key\": \"6c2d7daaf979779fa2089c6395baf98b\", \"_gtfs_dataset_name\": \"Big Blue Bus VehiclePositions\", \"trip_id\": \"905082\", \"min_time\": \"2023-07-12T12:00:37\", \"min_dist\": 298.3251777149458, \"max_time\": \"2023-07-12T12:16:10\", \"max_dist\": 578.8284769525255, \"meters_elapsed\": 280.5032992375797, \"sec_elapsed\": 933.0, \"speed_mph\": 0.6725464955996419, \"stop_id\": \"1648\", \"loop_or_inlining\": 0, \"p50_mph\": 1.9, \"n_trips\": 23, \"p20_mph\": 0.91, \"p80_mph\": 9.85, \"time_of_day\": \"all_day\"}, {\"shape_array_key\": \"94e02a46331c8b449aedb4469f49764a\", \"stop_sequence\": 32, \"gtfs_dataset_key\": \"6c2d7daaf979779fa2089c6395baf98b\", \"_gtfs_dataset_name\": \"Big Blue Bus VehiclePositions\", \"trip_id\": \"905080\", \"min_time\": \"2023-07-12T12:47:23\", \"min_dist\": 0.0, \"max_time\": \"2023-07-12T12:48:13\", \"max_dist\": 312.33990480168757, \"meters_elapsed\": 312.33990480168757, \"sec_elapsed\": 50.0, \"speed_mph\": 13.974087340827504, \"stop_id\": \"1648\", \"loop_or_inlining\": 0, \"p50_mph\": 1.9, \"n_trips\": 23, \"p20_mph\": 0.91, \"p80_mph\": 9.85, \"time_of_day\": \"all_day\"}, {\"shape_array_key\": \"94e02a46331c8b449aedb4469f49764a\", \"stop_sequence\": 32, \"gtfs_dataset_key\": \"6c2d7daaf979779fa2089c6395baf98b\", \"_gtfs_dataset_name\": \"Big Blue Bus VehiclePositions\", \"trip_id\": \"905071\", \"min_time\": \"2023-07-12T16:56:57\", \"min_dist\": 0.0, \"max_time\": \"2023-07-12T17:13:59\", \"max_dist\": 577.9920726013809, \"meters_elapsed\": 577.9920726013809, \"sec_elapsed\": 1022.0, \"speed_mph\": 1.2651352900286588, \"stop_id\": \"1648\", \"loop_or_inlining\": 0, \"p50_mph\": 1.9, \"n_trips\": 23, \"p20_mph\": 0.91, \"p80_mph\": 9.85, \"time_of_day\": \"all_day\"}]}}, {\"mode\": \"vega-lite\"});\n",
       "</script>"
      ],
      "text/plain": [
       "alt.LayerChart(...)"
      ]
     },
     "metadata": {},
     "output_type": "display_data"
    }
   ],
   "source": [
    "display_speeds(shape_array3, stop_seq3)"
   ]
  },
  {
   "cell_type": "code",
   "execution_count": 22,
   "id": "4703113c-fa69-4e70-8af1-96cd5bf413ab",
   "metadata": {},
   "outputs": [
    {
     "data": {
      "text/html": [
       "\n",
       "<div id=\"altair-viz-def9d31f90744bb3b3caf914df653db5\"></div>\n",
       "<script type=\"text/javascript\">\n",
       "  var VEGA_DEBUG = (typeof VEGA_DEBUG == \"undefined\") ? {} : VEGA_DEBUG;\n",
       "  (function(spec, embedOpt){\n",
       "    let outputDiv = document.currentScript.previousElementSibling;\n",
       "    if (outputDiv.id !== \"altair-viz-def9d31f90744bb3b3caf914df653db5\") {\n",
       "      outputDiv = document.getElementById(\"altair-viz-def9d31f90744bb3b3caf914df653db5\");\n",
       "    }\n",
       "    const paths = {\n",
       "      \"vega\": \"https://cdn.jsdelivr.net/npm//vega@5?noext\",\n",
       "      \"vega-lib\": \"https://cdn.jsdelivr.net/npm//vega-lib?noext\",\n",
       "      \"vega-lite\": \"https://cdn.jsdelivr.net/npm//vega-lite@4.17.0?noext\",\n",
       "      \"vega-embed\": \"https://cdn.jsdelivr.net/npm//vega-embed@6?noext\",\n",
       "    };\n",
       "\n",
       "    function maybeLoadScript(lib, version) {\n",
       "      var key = `${lib.replace(\"-\", \"\")}_version`;\n",
       "      return (VEGA_DEBUG[key] == version) ?\n",
       "        Promise.resolve(paths[lib]) :\n",
       "        new Promise(function(resolve, reject) {\n",
       "          var s = document.createElement('script');\n",
       "          document.getElementsByTagName(\"head\")[0].appendChild(s);\n",
       "          s.async = true;\n",
       "          s.onload = () => {\n",
       "            VEGA_DEBUG[key] = version;\n",
       "            return resolve(paths[lib]);\n",
       "          };\n",
       "          s.onerror = () => reject(`Error loading script: ${paths[lib]}`);\n",
       "          s.src = paths[lib];\n",
       "        });\n",
       "    }\n",
       "\n",
       "    function showError(err) {\n",
       "      outputDiv.innerHTML = `<div class=\"error\" style=\"color:red;\">${err}</div>`;\n",
       "      throw err;\n",
       "    }\n",
       "\n",
       "    function displayChart(vegaEmbed) {\n",
       "      vegaEmbed(outputDiv, spec, embedOpt)\n",
       "        .catch(err => showError(`Javascript Error: ${err.message}<br>This usually means there's a typo in your chart specification. See the javascript console for the full traceback.`));\n",
       "    }\n",
       "\n",
       "    if(typeof define === \"function\" && define.amd) {\n",
       "      requirejs.config({paths});\n",
       "      require([\"vega-embed\"], displayChart, err => showError(`Error loading script: ${err.message}`));\n",
       "    } else {\n",
       "      maybeLoadScript(\"vega\", \"5\")\n",
       "        .then(() => maybeLoadScript(\"vega-lite\", \"4.17.0\"))\n",
       "        .then(() => maybeLoadScript(\"vega-embed\", \"6\"))\n",
       "        .catch(showError)\n",
       "        .then(() => displayChart(vegaEmbed));\n",
       "    }\n",
       "  })({\"config\": {\"view\": {\"continuousWidth\": 400, \"continuousHeight\": 300}}, \"layer\": [{\"mark\": \"bar\", \"encoding\": {\"tooltip\": [{\"field\": \"shape_array_key\", \"type\": \"nominal\"}, {\"field\": \"stop_sequence\", \"type\": \"quantitative\"}, {\"field\": \"gtfs_dataset_key\", \"type\": \"nominal\"}, {\"field\": \"_gtfs_dataset_name\", \"type\": \"nominal\"}, {\"field\": \"trip_id\", \"type\": \"nominal\"}, {\"field\": \"min_time\", \"type\": \"temporal\"}, {\"field\": \"min_dist\", \"type\": \"quantitative\"}, {\"field\": \"max_time\", \"type\": \"temporal\"}, {\"field\": \"max_dist\", \"type\": \"quantitative\"}, {\"field\": \"meters_elapsed\", \"type\": \"quantitative\"}, {\"field\": \"sec_elapsed\", \"type\": \"quantitative\"}, {\"field\": \"speed_mph\", \"type\": \"quantitative\"}, {\"field\": \"stop_id\", \"type\": \"nominal\"}, {\"field\": \"loop_or_inlining\", \"type\": \"quantitative\"}, {\"field\": \"p50_mph\", \"type\": \"quantitative\"}, {\"field\": \"n_trips\", \"type\": \"quantitative\"}, {\"field\": \"p20_mph\", \"type\": \"quantitative\"}, {\"field\": \"p80_mph\", \"type\": \"quantitative\"}, {\"field\": \"time_of_day\", \"type\": \"nominal\"}], \"x\": {\"field\": \"trip_id\", \"type\": \"nominal\"}, \"y\": {\"field\": \"speed_mph\", \"type\": \"quantitative\"}}, \"selection\": {\"selector003\": {\"type\": \"interval\", \"bind\": \"scales\", \"encodings\": [\"x\", \"y\"]}}, \"title\": \"Speed Distribution for Seq 7/Shape 5a788bd9c9aa5c5465875689a626baa9\"}, {\"mark\": {\"type\": \"rule\", \"color\": \"red\", \"strokeDash\": [10, 7]}, \"encoding\": {\"y\": {\"field\": \"p20_mph\", \"type\": \"quantitative\"}}}, {\"mark\": {\"type\": \"rule\", \"color\": \"blue\", \"strokeDash\": [10, 7]}, \"encoding\": {\"y\": {\"field\": \"p80_mph\", \"type\": \"quantitative\"}}}, {\"mark\": {\"type\": \"rule\", \"color\": \"green\", \"strokeDash\": [10, 7]}, \"encoding\": {\"y\": {\"field\": \"p50_mph\", \"type\": \"quantitative\"}}}], \"data\": {\"name\": \"data-8e1c162034f128e5dd7fe2c508575082\"}, \"height\": 300, \"width\": 600, \"$schema\": \"https://vega.github.io/schema/vega-lite/v4.17.0.json\", \"datasets\": {\"data-8e1c162034f128e5dd7fe2c508575082\": [{\"shape_array_key\": \"5a788bd9c9aa5c5465875689a626baa9\", \"stop_sequence\": 7, \"gtfs_dataset_key\": \"6c2d7daaf979779fa2089c6395baf98b\", \"_gtfs_dataset_name\": \"Big Blue Bus VehiclePositions\", \"trip_id\": \"904480\", \"min_time\": \"2023-07-12T13:01:28\", \"min_dist\": 12.468468947954525, \"max_time\": \"2023-07-12T13:01:28\", \"max_dist\": 12.468468947954525, \"meters_elapsed\": 0.0, \"sec_elapsed\": 0.0, \"speed_mph\": 0.0, \"stop_id\": \"894\", \"loop_or_inlining\": 0, \"p50_mph\": 8.94, \"n_trips\": 1, \"p20_mph\": 8.94, \"p80_mph\": 8.94, \"time_of_day\": \"all_day\"}, {\"shape_array_key\": \"5a788bd9c9aa5c5465875689a626baa9\", \"stop_sequence\": 7, \"gtfs_dataset_key\": \"6c2d7daaf979779fa2089c6395baf98b\", \"_gtfs_dataset_name\": \"Big Blue Bus VehiclePositions\", \"trip_id\": \"904466\", \"min_time\": \"2023-07-12T07:19:07\", \"min_dist\": 143.8170766866278, \"max_time\": \"2023-07-12T07:19:07\", \"max_dist\": 143.8170766866278, \"meters_elapsed\": 0.0, \"sec_elapsed\": 0.0, \"speed_mph\": 0.0, \"stop_id\": \"894\", \"loop_or_inlining\": 0, \"p50_mph\": 8.94, \"n_trips\": 1, \"p20_mph\": 8.94, \"p80_mph\": 8.94, \"time_of_day\": \"all_day\"}, {\"shape_array_key\": \"5a788bd9c9aa5c5465875689a626baa9\", \"stop_sequence\": 7, \"gtfs_dataset_key\": \"6c2d7daaf979779fa2089c6395baf98b\", \"_gtfs_dataset_name\": \"Big Blue Bus VehiclePositions\", \"trip_id\": \"904484\", \"min_time\": \"2023-07-12T17:05:25\", \"min_dist\": 24.294597009988998, \"max_time\": \"2023-07-12T17:05:25\", \"max_dist\": 24.294597009988998, \"meters_elapsed\": 0.0, \"sec_elapsed\": 0.0, \"speed_mph\": 0.0, \"stop_id\": \"894\", \"loop_or_inlining\": 0, \"p50_mph\": 8.94, \"n_trips\": 1, \"p20_mph\": 8.94, \"p80_mph\": 8.94, \"time_of_day\": \"all_day\"}, {\"shape_array_key\": \"5a788bd9c9aa5c5465875689a626baa9\", \"stop_sequence\": 7, \"gtfs_dataset_key\": \"6c2d7daaf979779fa2089c6395baf98b\", \"_gtfs_dataset_name\": \"Big Blue Bus VehiclePositions\", \"trip_id\": \"904487\", \"min_time\": \"2023-07-12T18:35:03\", \"min_dist\": 353.78707723972866, \"max_time\": \"2023-07-12T18:35:03\", \"max_dist\": 353.78707723972866, \"meters_elapsed\": 0.0, \"sec_elapsed\": 0.0, \"speed_mph\": 0.0, \"stop_id\": \"894\", \"loop_or_inlining\": 0, \"p50_mph\": 8.94, \"n_trips\": 1, \"p20_mph\": 8.94, \"p80_mph\": 8.94, \"time_of_day\": \"all_day\"}, {\"shape_array_key\": \"5a788bd9c9aa5c5465875689a626baa9\", \"stop_sequence\": 7, \"gtfs_dataset_key\": \"6c2d7daaf979779fa2089c6395baf98b\", \"_gtfs_dataset_name\": \"Big Blue Bus VehiclePositions\", \"trip_id\": \"904483\", \"min_time\": \"2023-07-12T16:04:17\", \"min_dist\": 0.0, \"max_time\": \"2023-07-12T16:05:52\", \"max_dist\": 379.63406085098035, \"meters_elapsed\": 379.63406085098035, \"sec_elapsed\": 95.0, \"speed_mph\": 8.939383096038348, \"stop_id\": \"894\", \"loop_or_inlining\": 0, \"p50_mph\": 8.94, \"n_trips\": 1, \"p20_mph\": 8.94, \"p80_mph\": 8.94, \"time_of_day\": \"all_day\"}, {\"shape_array_key\": \"5a788bd9c9aa5c5465875689a626baa9\", \"stop_sequence\": 7, \"gtfs_dataset_key\": \"6c2d7daaf979779fa2089c6395baf98b\", \"_gtfs_dataset_name\": \"Big Blue Bus VehiclePositions\", \"trip_id\": \"904490\", \"min_time\": \"2023-07-12T06:59:54\", \"min_dist\": 11.084806544852059, \"max_time\": \"2023-07-12T06:59:54\", \"max_dist\": 11.084806544852059, \"meters_elapsed\": 0.0, \"sec_elapsed\": 0.0, \"speed_mph\": 0.0, \"stop_id\": \"894\", \"loop_or_inlining\": 0, \"p50_mph\": 8.94, \"n_trips\": 1, \"p20_mph\": 8.94, \"p80_mph\": 8.94, \"time_of_day\": \"all_day\"}, {\"shape_array_key\": \"5a788bd9c9aa5c5465875689a626baa9\", \"stop_sequence\": 7, \"gtfs_dataset_key\": \"6c2d7daaf979779fa2089c6395baf98b\", \"_gtfs_dataset_name\": \"Big Blue Bus VehiclePositions\", \"trip_id\": \"904456\", \"min_time\": \"2023-07-12T16:42:13\", \"min_dist\": 203.01985353498455, \"max_time\": \"2023-07-12T16:42:13\", \"max_dist\": 203.01985353498455, \"meters_elapsed\": 0.0, \"sec_elapsed\": 0.0, \"speed_mph\": 0.0, \"stop_id\": \"894\", \"loop_or_inlining\": 0, \"p50_mph\": 8.94, \"n_trips\": 1, \"p20_mph\": 8.94, \"p80_mph\": 8.94, \"time_of_day\": \"all_day\"}, {\"shape_array_key\": \"5a788bd9c9aa5c5465875689a626baa9\", \"stop_sequence\": 7, \"gtfs_dataset_key\": \"6c2d7daaf979779fa2089c6395baf98b\", \"_gtfs_dataset_name\": \"Big Blue Bus VehiclePositions\", \"trip_id\": \"904462\", \"min_time\": \"2023-07-12T08:40:48\", \"min_dist\": 339.1457998404948, \"max_time\": \"2023-07-12T08:40:48\", \"max_dist\": 339.1457998404948, \"meters_elapsed\": 0.0, \"sec_elapsed\": 0.0, \"speed_mph\": 0.0, \"stop_id\": \"894\", \"loop_or_inlining\": 0, \"p50_mph\": 8.94, \"n_trips\": 1, \"p20_mph\": 8.94, \"p80_mph\": 8.94, \"time_of_day\": \"all_day\"}, {\"shape_array_key\": \"5a788bd9c9aa5c5465875689a626baa9\", \"stop_sequence\": 7, \"gtfs_dataset_key\": \"6c2d7daaf979779fa2089c6395baf98b\", \"_gtfs_dataset_name\": \"Big Blue Bus VehiclePositions\", \"trip_id\": \"904479\", \"min_time\": \"2023-07-12T12:33:46\", \"min_dist\": 187.2203969752141, \"max_time\": \"2023-07-12T12:33:46\", \"max_dist\": 187.2203969752141, \"meters_elapsed\": 0.0, \"sec_elapsed\": 0.0, \"speed_mph\": 0.0, \"stop_id\": \"894\", \"loop_or_inlining\": 0, \"p50_mph\": 8.94, \"n_trips\": 1, \"p20_mph\": 8.94, \"p80_mph\": 8.94, \"time_of_day\": \"all_day\"}, {\"shape_array_key\": \"5a788bd9c9aa5c5465875689a626baa9\", \"stop_sequence\": 7, \"gtfs_dataset_key\": \"6c2d7daaf979779fa2089c6395baf98b\", \"_gtfs_dataset_name\": \"Big Blue Bus VehiclePositions\", \"trip_id\": \"904455\", \"min_time\": \"2023-07-12T15:20:02\", \"min_dist\": 40.91360397753905, \"max_time\": \"2023-07-12T15:20:02\", \"max_dist\": 40.91360397753905, \"meters_elapsed\": 0.0, \"sec_elapsed\": 0.0, \"speed_mph\": 0.0, \"stop_id\": \"894\", \"loop_or_inlining\": 0, \"p50_mph\": 8.94, \"n_trips\": 1, \"p20_mph\": 8.94, \"p80_mph\": 8.94, \"time_of_day\": \"all_day\"}, {\"shape_array_key\": \"5a788bd9c9aa5c5465875689a626baa9\", \"stop_sequence\": 7, \"gtfs_dataset_key\": \"6c2d7daaf979779fa2089c6395baf98b\", \"_gtfs_dataset_name\": \"Big Blue Bus VehiclePositions\", \"trip_id\": \"904477\", \"min_time\": \"2023-07-12T11:37:38\", \"min_dist\": 349.10352861927635, \"max_time\": \"2023-07-12T11:37:38\", \"max_dist\": 349.10352861927635, \"meters_elapsed\": 0.0, \"sec_elapsed\": 0.0, \"speed_mph\": 0.0, \"stop_id\": \"894\", \"loop_or_inlining\": 0, \"p50_mph\": 8.94, \"n_trips\": 1, \"p20_mph\": 8.94, \"p80_mph\": 8.94, \"time_of_day\": \"all_day\"}, {\"shape_array_key\": \"5a788bd9c9aa5c5465875689a626baa9\", \"stop_sequence\": 7, \"gtfs_dataset_key\": \"6c2d7daaf979779fa2089c6395baf98b\", \"_gtfs_dataset_name\": \"Big Blue Bus VehiclePositions\", \"trip_id\": \"904488\", \"min_time\": \"2023-07-12T19:05:38\", \"min_dist\": 0.0, \"max_time\": \"2023-07-12T19:05:38\", \"max_dist\": 0.0, \"meters_elapsed\": 0.0, \"sec_elapsed\": 0.0, \"speed_mph\": 0.0, \"stop_id\": \"894\", \"loop_or_inlining\": 0, \"p50_mph\": 8.94, \"n_trips\": 1, \"p20_mph\": 8.94, \"p80_mph\": 8.94, \"time_of_day\": \"all_day\"}, {\"shape_array_key\": \"5a788bd9c9aa5c5465875689a626baa9\", \"stop_sequence\": 7, \"gtfs_dataset_key\": \"6c2d7daaf979779fa2089c6395baf98b\", \"_gtfs_dataset_name\": \"Big Blue Bus VehiclePositions\", \"trip_id\": \"904465\", \"min_time\": \"2023-07-12T07:34:18\", \"min_dist\": 384.51719144310954, \"max_time\": \"2023-07-12T07:34:18\", \"max_dist\": 384.51719144310954, \"meters_elapsed\": 0.0, \"sec_elapsed\": 0.0, \"speed_mph\": 0.0, \"stop_id\": \"894\", \"loop_or_inlining\": 0, \"p50_mph\": 8.94, \"n_trips\": 1, \"p20_mph\": 8.94, \"p80_mph\": 8.94, \"time_of_day\": \"all_day\"}, {\"shape_array_key\": \"5a788bd9c9aa5c5465875689a626baa9\", \"stop_sequence\": 7, \"gtfs_dataset_key\": \"6c2d7daaf979779fa2089c6395baf98b\", \"_gtfs_dataset_name\": \"Big Blue Bus VehiclePositions\", \"trip_id\": \"904486\", \"min_time\": \"2023-07-12T18:09:25\", \"min_dist\": 348.0532584873511, \"max_time\": \"2023-07-12T18:09:25\", \"max_dist\": 348.0532584873511, \"meters_elapsed\": 0.0, \"sec_elapsed\": 0.0, \"speed_mph\": 0.0, \"stop_id\": \"894\", \"loop_or_inlining\": 0, \"p50_mph\": 8.94, \"n_trips\": 1, \"p20_mph\": 8.94, \"p80_mph\": 8.94, \"time_of_day\": \"all_day\"}, {\"shape_array_key\": \"5a788bd9c9aa5c5465875689a626baa9\", \"stop_sequence\": 7, \"gtfs_dataset_key\": \"6c2d7daaf979779fa2089c6395baf98b\", \"_gtfs_dataset_name\": \"Big Blue Bus VehiclePositions\", \"trip_id\": \"904459\", \"min_time\": \"2023-07-12T15:39:57\", \"min_dist\": 48.29981832672996, \"max_time\": \"2023-07-12T15:39:57\", \"max_dist\": 48.29981832672996, \"meters_elapsed\": 0.0, \"sec_elapsed\": 0.0, \"speed_mph\": 0.0, \"stop_id\": \"894\", \"loop_or_inlining\": 0, \"p50_mph\": 8.94, \"n_trips\": 1, \"p20_mph\": 8.94, \"p80_mph\": 8.94, \"time_of_day\": \"all_day\"}, {\"shape_array_key\": \"5a788bd9c9aa5c5465875689a626baa9\", \"stop_sequence\": 7, \"gtfs_dataset_key\": \"6c2d7daaf979779fa2089c6395baf98b\", \"_gtfs_dataset_name\": \"Big Blue Bus VehiclePositions\", \"trip_id\": \"904481\", \"min_time\": \"2023-07-12T13:31:34\", \"min_dist\": 63.471113883565124, \"max_time\": \"2023-07-12T13:31:34\", \"max_dist\": 63.471113883565124, \"meters_elapsed\": 0.0, \"sec_elapsed\": 0.0, \"speed_mph\": 0.0, \"stop_id\": \"894\", \"loop_or_inlining\": 0, \"p50_mph\": 8.94, \"n_trips\": 1, \"p20_mph\": 8.94, \"p80_mph\": 8.94, \"time_of_day\": \"all_day\"}]}}, {\"mode\": \"vega-lite\"});\n",
       "</script>"
      ],
      "text/plain": [
       "alt.LayerChart(...)"
      ]
     },
     "metadata": {},
     "output_type": "display_data"
    }
   ],
   "source": [
    "display_speeds(shape_array1, stop_seq1)"
   ]
  },
  {
   "cell_type": "markdown",
   "id": "db4181ef-f09e-4479-b883-5333f94ddf05",
   "metadata": {},
   "source": [
    "#### Second version"
   ]
  },
  {
   "cell_type": "code",
   "execution_count": 23,
   "id": "48c16d63-a4c7-4b31-821b-a2db0b776c98",
   "metadata": {},
   "outputs": [],
   "source": [
    "def speeds_one_route(shape_array_key:str):\n",
    "    STG4_FILE = DICT['stage4']\n",
    "    df = pd.read_parquet(f\"{SEGMENT_GCS}{STG4_FILE}_{analysis_date}\", \n",
    "         filters = [[(\"shape_array_key\", \"==\", shape_array_key)]]) \n",
    "    return df"
   ]
  },
  {
   "cell_type": "code",
   "execution_count": 85,
   "id": "bbc7c500-f664-43da-ba5b-c418bfc03d7f",
   "metadata": {},
   "outputs": [],
   "source": [
    "def avg_speeds_one_route(shape_array_key:str):\n",
    "    STG5_FILE = DICT['stage5']\n",
    "    df = pd.read_parquet(f\"{SEGMENT_GCS}{STG5_FILE}_{analysis_date}.parquet\", \n",
    "         filters = [[(\"shape_array_key\", \"==\", shape_array_key),\n",
    "                    (\"time_of_day\", \"==\", \"all_day\")]])\n",
    "    df = df.drop(columns=[\"district\", \"district_name\", \"geometry\"])\n",
    "    return df"
   ]
  },
  {
   "cell_type": "code",
   "execution_count": 86,
   "id": "7deffbfc-2dd1-4c04-af6d-814a94c6ff8c",
   "metadata": {},
   "outputs": [],
   "source": [
    "m2 = merge_avg_all_speeds(shape_array2,stop_seq2)"
   ]
  },
  {
   "cell_type": "code",
   "execution_count": 87,
   "id": "0e4dc544-8312-47eb-b71c-5d7770c7c81c",
   "metadata": {},
   "outputs": [],
   "source": [
    "rule1 = alt.Chart(m2).mark_rule(color='red', strokeDash=[10, 7]).encode(y='p20_mph')"
   ]
  },
  {
   "cell_type": "code",
   "execution_count": 88,
   "id": "cb45eed3-2704-4a1d-9241-53e8c7cdd314",
   "metadata": {},
   "outputs": [],
   "source": [
    "m2.speed_mph = m2.speed_mph.fillna(0)"
   ]
  },
  {
   "cell_type": "code",
   "execution_count": 89,
   "id": "bfc76f57-a85f-4e6f-a1f2-411ee0e5296c",
   "metadata": {},
   "outputs": [],
   "source": [
    "bins = [0, 5, 10, 15, 25, 30, 35, 40, 45, 50, 55, 60, 65]"
   ]
  },
  {
   "cell_type": "code",
   "execution_count": 90,
   "id": "d1dc1365-c156-4396-94bf-975f63cd9cc3",
   "metadata": {},
   "outputs": [],
   "source": [
    "\n",
    "m2[\"binned\"] = pd.cut(m2.speed_mph, bins).astype(str)"
   ]
  },
  {
   "cell_type": "code",
   "execution_count": 91,
   "id": "78158455-fbe1-40ab-aae3-560984fa2797",
   "metadata": {},
   "outputs": [],
   "source": [
    "m2.binned = m2.binned.str.replace('nan','(0, 5]')"
   ]
  },
  {
   "cell_type": "code",
   "execution_count": 93,
   "id": "7fd0db14-12e0-4e25-bfab-6e487284848a",
   "metadata": {},
   "outputs": [],
   "source": [
    "m2 = (m2\n",
    "      .groupby(['binned'])\n",
    "      .agg({'trip_id':'count'})\n",
    "      .reset_index()\n",
    "      .rename(columns = {'trip_id':'number_of_trips'})\n",
    "     )"
   ]
  },
  {
   "cell_type": "code",
   "execution_count": 94,
   "id": "99a33cf9-cb32-4ceb-88c8-0c2035eb5461",
   "metadata": {},
   "outputs": [],
   "source": [
    "chart2 = (alt.Chart(m2)\n",
    "    .mark_bar(size=40)\n",
    "    .encode(\n",
    "        x=alt.X('binned'),\n",
    "        y=alt.Y('number_of_trips'),\n",
    "        tooltip=m2.columns.tolist(),\n",
    "    )\n",
    "    .properties(title='Test')\n",
    "    .interactive())"
   ]
  },
  {
   "cell_type": "code",
   "execution_count": 95,
   "id": "ffdd8fd9-6467-4a59-9c45-718e84cbf0c4",
   "metadata": {},
   "outputs": [
    {
     "data": {
      "text/html": [
       "\n",
       "<div id=\"altair-viz-d0a2a4660cb44b808ac4d1455ec4f66c\"></div>\n",
       "<script type=\"text/javascript\">\n",
       "  var VEGA_DEBUG = (typeof VEGA_DEBUG == \"undefined\") ? {} : VEGA_DEBUG;\n",
       "  (function(spec, embedOpt){\n",
       "    let outputDiv = document.currentScript.previousElementSibling;\n",
       "    if (outputDiv.id !== \"altair-viz-d0a2a4660cb44b808ac4d1455ec4f66c\") {\n",
       "      outputDiv = document.getElementById(\"altair-viz-d0a2a4660cb44b808ac4d1455ec4f66c\");\n",
       "    }\n",
       "    const paths = {\n",
       "      \"vega\": \"https://cdn.jsdelivr.net/npm//vega@5?noext\",\n",
       "      \"vega-lib\": \"https://cdn.jsdelivr.net/npm//vega-lib?noext\",\n",
       "      \"vega-lite\": \"https://cdn.jsdelivr.net/npm//vega-lite@4.17.0?noext\",\n",
       "      \"vega-embed\": \"https://cdn.jsdelivr.net/npm//vega-embed@6?noext\",\n",
       "    };\n",
       "\n",
       "    function maybeLoadScript(lib, version) {\n",
       "      var key = `${lib.replace(\"-\", \"\")}_version`;\n",
       "      return (VEGA_DEBUG[key] == version) ?\n",
       "        Promise.resolve(paths[lib]) :\n",
       "        new Promise(function(resolve, reject) {\n",
       "          var s = document.createElement('script');\n",
       "          document.getElementsByTagName(\"head\")[0].appendChild(s);\n",
       "          s.async = true;\n",
       "          s.onload = () => {\n",
       "            VEGA_DEBUG[key] = version;\n",
       "            return resolve(paths[lib]);\n",
       "          };\n",
       "          s.onerror = () => reject(`Error loading script: ${paths[lib]}`);\n",
       "          s.src = paths[lib];\n",
       "        });\n",
       "    }\n",
       "\n",
       "    function showError(err) {\n",
       "      outputDiv.innerHTML = `<div class=\"error\" style=\"color:red;\">${err}</div>`;\n",
       "      throw err;\n",
       "    }\n",
       "\n",
       "    function displayChart(vegaEmbed) {\n",
       "      vegaEmbed(outputDiv, spec, embedOpt)\n",
       "        .catch(err => showError(`Javascript Error: ${err.message}<br>This usually means there's a typo in your chart specification. See the javascript console for the full traceback.`));\n",
       "    }\n",
       "\n",
       "    if(typeof define === \"function\" && define.amd) {\n",
       "      requirejs.config({paths});\n",
       "      require([\"vega-embed\"], displayChart, err => showError(`Error loading script: ${err.message}`));\n",
       "    } else {\n",
       "      maybeLoadScript(\"vega\", \"5\")\n",
       "        .then(() => maybeLoadScript(\"vega-lite\", \"4.17.0\"))\n",
       "        .then(() => maybeLoadScript(\"vega-embed\", \"6\"))\n",
       "        .catch(showError)\n",
       "        .then(() => displayChart(vegaEmbed));\n",
       "    }\n",
       "  })({\"config\": {\"view\": {\"continuousWidth\": 400, \"continuousHeight\": 300}}, \"data\": {\"name\": \"data-9abb55f0ce29c36e3c975c7729328c99\"}, \"mark\": {\"type\": \"bar\", \"size\": 40}, \"encoding\": {\"tooltip\": [{\"field\": \"binned\", \"type\": \"nominal\"}, {\"field\": \"number_of_trips\", \"type\": \"quantitative\"}], \"x\": {\"field\": \"binned\", \"type\": \"nominal\"}, \"y\": {\"field\": \"number_of_trips\", \"type\": \"quantitative\"}}, \"height\": 300, \"selection\": {\"selector009\": {\"type\": \"interval\", \"bind\": \"scales\", \"encodings\": [\"x\", \"y\"]}}, \"title\": \"Test\", \"width\": 400, \"$schema\": \"https://vega.github.io/schema/vega-lite/v4.17.0.json\", \"datasets\": {\"data-9abb55f0ce29c36e3c975c7729328c99\": [{\"binned\": \"(0, 5]-speed_mph\", \"number_of_trips\": 44}, {\"binned\": \"(10, 15]-speed_mph\", \"number_of_trips\": 7}, {\"binned\": \"(15, 25]-speed_mph\", \"number_of_trips\": 5}, {\"binned\": \"(5, 10]-speed_mph\", \"number_of_trips\": 5}]}}, {\"mode\": \"vega-lite\"});\n",
       "</script>"
      ],
      "text/plain": [
       "alt.Chart(...)"
      ]
     },
     "execution_count": 95,
     "metadata": {},
     "output_type": "execute_result"
    }
   ],
   "source": [
    "threshold_utils.chart_size(chart2, 400, 300)"
   ]
  },
  {
   "cell_type": "markdown",
   "id": "d35de724-b1b8-4d91-a37d-f4aa06120777",
   "metadata": {},
   "source": [
    "### % of Meters"
   ]
  },
  {
   "cell_type": "code",
   "execution_count": 96,
   "id": "c90ac266-38ca-4e94-ab25-68ee40829605",
   "metadata": {},
   "outputs": [],
   "source": [
    "def import_segments(shape_array_key:str, \n",
    "                    gtfs_key:str) -> gpd.GeoDataFrame:\n",
    "    \"\"\"\n",
    "    Args:\n",
    "        flagged_df: result from df from categorize_meters_speeds_pandas()\n",
    "    \"\"\"\n",
    "    # Load in ALL segments, flag them.\n",
    "    FILE = STOP_SEG_DICT['segments_file']\n",
    "    gdf = gpd.read_parquet(f\"{SEGMENT_GCS}{FILE}_{analysis_date}.parquet\",\n",
    "                           filters = [[(\"shape_array_key\", \"==\", shape_array_key),\n",
    "                                      (\"gtfs_dataset_key\", \"==\", gtfs_key),\n",
    "                                     ]]).to_crs(PROJECT_CRS)\n",
    "    \n",
    "    gdf = gdf.assign(\n",
    "        meters_length=(gdf.geometry.to_crs(geography_utils.CA_NAD83Albers).length)\n",
    "    )\n",
    "    \n",
    "    df = gdf.drop(columns = ['geometry','geometry_arrowized'])\n",
    "    \n",
    "    return df"
   ]
  },
  {
   "cell_type": "code",
   "execution_count": 97,
   "id": "a0a11faa-b997-4c6f-aae4-ab310c3580f4",
   "metadata": {},
   "outputs": [],
   "source": [
    "seg2 = import_segments(shape_array2,test_key)"
   ]
  },
  {
   "cell_type": "code",
   "execution_count": 98,
   "id": "2d7a52ad-7988-4935-aa14-7dff02a52e2f",
   "metadata": {},
   "outputs": [
    {
     "ename": "NameError",
     "evalue": "name 'speeds2' is not defined",
     "output_type": "error",
     "traceback": [
      "\u001b[0;31m---------------------------------------------------------------------------\u001b[0m",
      "\u001b[0;31mNameError\u001b[0m                                 Traceback (most recent call last)",
      "Cell \u001b[0;32mIn[98], line 1\u001b[0m\n\u001b[0;32m----> 1\u001b[0m \u001b[43mspeeds2\u001b[49m\u001b[38;5;241m.\u001b[39msample()\n",
      "\u001b[0;31mNameError\u001b[0m: name 'speeds2' is not defined"
     ]
    }
   ],
   "source": [
    "speeds2.sample()"
   ]
  },
  {
   "cell_type": "code",
   "execution_count": null,
   "id": "12389065-541f-4888-b21a-8c20ca430efd",
   "metadata": {
    "tags": []
   },
   "outputs": [],
   "source": [
    "m2_segs_test = pd.merge(seg2, speeds2, on = ['shape_array_key','gtfs_dataset_key','stop_sequence'], how = \"inner\")"
   ]
  },
  {
   "cell_type": "code",
   "execution_count": null,
   "id": "9f02d167-8ec0-441f-b502-5ac7644e4f3a",
   "metadata": {
    "scrolled": true,
    "tags": []
   },
   "outputs": [],
   "source": [
    "m2_segs_test['percent'] = m2_segs_test.meters_elapsed/m2_segs_test.meters_length"
   ]
  },
  {
   "cell_type": "code",
   "execution_count": null,
   "id": "0f38beda-4b08-4b9d-99cd-5c0804ce00a8",
   "metadata": {},
   "outputs": [],
   "source": [
    "len(m2_segs_test)"
   ]
  },
  {
   "cell_type": "code",
   "execution_count": null,
   "id": "06c0dbe6-9565-452f-8bf9-c2bd07570997",
   "metadata": {},
   "outputs": [],
   "source": [
    "len(m2_segs_test[m2_segs_test.percent <=.50])"
   ]
  },
  {
   "cell_type": "code",
   "execution_count": null,
   "id": "df5f1cfd-3afd-4687-9304-322fb85fe897",
   "metadata": {},
   "outputs": [],
   "source": [
    "len(m2_segs_test[m2_segs_test.percent >.50])"
   ]
  },
  {
   "cell_type": "code",
   "execution_count": null,
   "id": "09ca7c46-c88a-4908-b51a-84f8f750b7f4",
   "metadata": {
    "scrolled": true,
    "tags": []
   },
   "outputs": [],
   "source": [
    "m2_segs_test[m2_segs_test.percent <=.50][['percent','meters_elapsed','meters_length']].sort_values(['percent'])"
   ]
  }
 ],
 "metadata": {
  "kernelspec": {
   "display_name": "Python 3 (ipykernel)",
   "language": "python",
   "name": "python3"
  },
  "language_info": {
   "codemirror_mode": {
    "name": "ipython",
    "version": 3
   },
   "file_extension": ".py",
   "mimetype": "text/x-python",
   "name": "python",
   "nbconvert_exporter": "python",
   "pygments_lexer": "ipython3",
   "version": "3.9.13"
  }
 },
 "nbformat": 4,
 "nbformat_minor": 5
}
