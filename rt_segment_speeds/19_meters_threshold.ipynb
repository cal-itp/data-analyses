{
 "cells": [
  {
   "cell_type": "code",
   "execution_count": 1,
   "id": "3d2ca779-5cd7-4f98-8e9f-344e9d4dcf46",
   "metadata": {},
   "outputs": [
    {
     "name": "stderr",
     "output_type": "stream",
     "text": [
      "/opt/conda/lib/python3.9/site-packages/geopandas/_compat.py:124: UserWarning: The Shapely GEOS version (3.11.1-CAPI-1.17.1) is incompatible with the GEOS version PyGEOS was compiled with (3.10.1-CAPI-1.16.0). Conversions between both will be slow.\n",
      "  warnings.warn(\n",
      "/tmp/ipykernel_509/3696898552.py:4: DeprecationWarning: Shapely 2.0 is installed, but because PyGEOS is also installed, GeoPandas still uses PyGEOS by default. However, starting with version 0.14, the default will switch to Shapely. To force to use Shapely 2.0 now, you can either uninstall PyGEOS or set the environment variable USE_PYGEOS=0. You can do this before starting the Python process, or in your code before importing geopandas:\n",
      "\n",
      "import os\n",
      "os.environ['USE_PYGEOS'] = '0'\n",
      "import geopandas\n",
      "\n",
      "In the next release, GeoPandas will switch to using Shapely by default, even if PyGEOS is installed. If you only have PyGEOS installed to get speed-ups, this switch should be smooth. However, if you are using PyGEOS directly (calling PyGEOS functions on geometries from GeoPandas), this will then stop working and you are encouraged to migrate from PyGEOS to Shapely 2.0 (https://shapely.readthedocs.io/en/latest/migration_pygeos.html).\n",
      "  import geopandas as gpd\n"
     ]
    }
   ],
   "source": [
    "import datetime\n",
    "import dask.dataframe as dd\n",
    "import numpy as np\n",
    "import geopandas as gpd\n",
    "import pandas as pd\n",
    "import altair as alt\n",
    "from segment_speed_utils import gtfs_schedule_wrangling, helpers, segment_calcs,sched_rt_utils\n",
    "from segment_speed_utils.project_vars import (\n",
    "    COMPILED_CACHED_VIEWS,\n",
    "    PROJECT_CRS,\n",
    "    SEGMENT_GCS,  \n",
    "    analysis_date,\n",
    ")\n",
    "from scripts import (A1_sjoin_vp_segments, A2_valid_vehicle_positions,B2_avg_speeds_by_segment)\n",
    "from shared_utils import calitp_color_palette as cp, rt_utils, geography_utils\n",
    "import _threshold_utils as threshold_utils\n",
    "import _rt_scheduled_utils as rt_scheduled_utils\n",
    "CONFIG_PATH = './scripts/config.yml'\n",
    "STOP_SEG_DICT = helpers.get_parameters(CONFIG_PATH, \"stop_segments\")"
   ]
  },
  {
   "cell_type": "code",
   "execution_count": 2,
   "id": "6305e1fd-3383-4960-baa2-db169e86033d",
   "metadata": {},
   "outputs": [],
   "source": [
    "pd.options.display.max_columns = 100\n",
    "pd.options.display.float_format = \"{:.2f}\".format\n",
    "pd.set_option(\"display.max_rows\", None)\n",
    "pd.set_option(\"display.max_colwidth\", None)"
   ]
  },
  {
   "cell_type": "code",
   "execution_count": 3,
   "id": "180482d2-f3c3-4577-8558-54bfab8a9768",
   "metadata": {},
   "outputs": [
    {
     "data": {
      "text/plain": [
       "'2023-07-12'"
      ]
     },
     "execution_count": 3,
     "metadata": {},
     "output_type": "execute_result"
    }
   ],
   "source": [
    "analysis_date"
   ]
  },
  {
   "cell_type": "markdown",
   "id": "d35de724-b1b8-4d91-a37d-f4aa06120777",
   "metadata": {
    "tags": []
   },
   "source": [
    "## % of Meters\n",
    "* start with the speeds_stop_segments_{analysis_date} parquet (which is produced in B1_speeds_by_segment_trip ).\n",
    "* grab in stop_segments_{analysis_date} (in CRS 3310 already), and you can get the segment's length.\n",
    "* merge with the speeds by segment-trip, which contains the meters_elapsed column\n",
    "* calculate pct where meters_elapsed/segment_length\n",
    "* show me some charts around this, a couple of descriptives to make sure these are all ok\n",
    "* give me rough descriptives of how many rows we're dropping if we go with keeping at least 30%, 40%, 50%"
   ]
  },
  {
   "cell_type": "markdown",
   "id": "c6c7cedd-6da8-4888-83da-c52003d6ea35",
   "metadata": {},
   "source": [
    "### Open these files just for testing"
   ]
  },
  {
   "cell_type": "code",
   "execution_count": 4,
   "id": "62548e77-825c-4ed3-9f90-05a07e0fab82",
   "metadata": {},
   "outputs": [],
   "source": [
    "def import_speeds_segs(analysis_date:str, \n",
    "                       max_speed_cutoff: int, \n",
    "                       dict_inputs:dict)-> pd.DataFrame:\n",
    "    FILE = dict_inputs['stage4']\n",
    "    df = pd.read_parquet(f\"{SEGMENT_GCS}{FILE}_{analysis_date}\", \n",
    "        filters = [[(\"speed_mph\", \"<=\", max_speed_cutoff)]])\n",
    "    \n",
    "    return df"
   ]
  },
  {
   "cell_type": "code",
   "execution_count": 5,
   "id": "c90ac266-38ca-4e94-ab25-68ee40829605",
   "metadata": {},
   "outputs": [],
   "source": [
    "def load_segments(analysis_date:str, dict_inputs:dict) -> gpd.GeoDataFrame:\n",
    "    # Load in ALL segments, find the length\n",
    "    FILE = dict_inputs['segments_file']\n",
    "    segments = gpd.read_parquet(f\"{SEGMENT_GCS}{FILE}_{analysis_date}.parquet\")\n",
    "    \n",
    "    return segments"
   ]
  },
  {
   "cell_type": "markdown",
   "id": "857ab4ad-1dde-4c65-bd88-99696ab9f478",
   "metadata": {},
   "source": [
    "### Open Files\n",
    "* Add `import_speeds_segs`,`calculate_segment_length`,`merge_segments_speeds` into `B2`"
   ]
  },
  {
   "cell_type": "code",
   "execution_count": 22,
   "id": "ec7d196d-3dd3-445b-bd8a-9daf48fa5a88",
   "metadata": {},
   "outputs": [],
   "source": [
    "dictionary = helpers.get_parameters(CONFIG_PATH, \"stop_segments\")"
   ]
  },
  {
   "cell_type": "code",
   "execution_count": 23,
   "id": "71eecb32-4d8d-4691-aad5-c3336028edb5",
   "metadata": {},
   "outputs": [],
   "source": [
    "segments_gdf = load_segments(analysis_date, dictionary)"
   ]
  },
  {
   "cell_type": "code",
   "execution_count": 24,
   "id": "e6a02583-9356-4fce-bb05-96eb47716650",
   "metadata": {},
   "outputs": [],
   "source": [
    "speeds = import_speeds_segs(analysis_date,70,  dictionary)"
   ]
  },
  {
   "cell_type": "code",
   "execution_count": 25,
   "id": "445bf5f8-ea55-4c75-bb48-512364244db6",
   "metadata": {},
   "outputs": [
    {
     "data": {
      "text/plain": [
       "Index(['gtfs_dataset_key', 'gtfs_dataset_name', 'trip_id', 'trip_instance_key',\n",
       "       'schedule_gtfs_dataset_key', 'shape_array_key', 'stop_sequence',\n",
       "       'min_time', 'min_dist', 'max_time', 'max_dist', 'meters_elapsed',\n",
       "       'sec_elapsed', 'speed_mph'],\n",
       "      dtype='object')"
      ]
     },
     "execution_count": 25,
     "metadata": {},
     "output_type": "execute_result"
    }
   ],
   "source": [
    "speeds.columns"
   ]
  },
  {
   "cell_type": "code",
   "execution_count": 26,
   "id": "9e2fec19-8099-4a02-b4dd-215d5deb6b0b",
   "metadata": {},
   "outputs": [
    {
     "data": {
      "text/plain": [
       "Index(['shape_array_key', 'geometry', 'stop_id', 'stop_sequence',\n",
       "       'loop_or_inlining', 'schedule_gtfs_dataset_key', 'seg_idx', 'district',\n",
       "       'district_name', 'geometry_arrowized'],\n",
       "      dtype='object')"
      ]
     },
     "execution_count": 26,
     "metadata": {},
     "output_type": "execute_result"
    }
   ],
   "source": [
    "segments_gdf.columns"
   ]
  },
  {
   "cell_type": "code",
   "execution_count": 27,
   "id": "9527de7c-e540-431d-a4a6-ed701a323236",
   "metadata": {},
   "outputs": [],
   "source": [
    "def calculate_segment_length(segments:gpd.GeoDataFrame) -> gpd.GeoDataFrame:\n",
    "    \"\"\"\n",
    "    Find the length of segments\n",
    "    \"\"\"\n",
    "    segments = segments.assign(\n",
    "        meters_length=(segments.geometry.length)\n",
    "    )\n",
    "    df = segments.drop(columns = ['geometry','district','district_name'])\n",
    "    \n",
    "    return df"
   ]
  },
  {
   "cell_type": "code",
   "execution_count": 28,
   "id": "961e15dc-1c07-411f-92be-785721b7d67e",
   "metadata": {},
   "outputs": [],
   "source": [
    "def merge_segments_speeds(speeds: pd.DataFrame,\n",
    "                          segments:gpd.GeoDataFrame, \n",
    "                          ) -> pd.DataFrame:\n",
    "    \"\"\"\n",
    "    Merge speeds and segments, calculate length.\n",
    "    \"\"\"\n",
    "    segments = calculate_segment_length(segments)\n",
    "    \n",
    "    merge_cols = ['shape_array_key','stop_sequence','schedule_gtfs_dataset_key']\n",
    "    merge1 = pd.merge(segments, speeds, on = merge_cols, how = \"inner\")\n",
    "    \n",
    "    merge1['percent'] = merge1.meters_elapsed/merge1.meters_length * 100\n",
    "    \n",
    "    merge1.percent = merge1.percent.fillna(0)\n",
    "    return merge1"
   ]
  },
  {
   "cell_type": "code",
   "execution_count": 29,
   "id": "0e727efb-8136-4cdc-b9a5-c9bb17bf74cd",
   "metadata": {},
   "outputs": [],
   "source": [
    "merge1 = merge_segments_speeds(speeds, segments_gdf)"
   ]
  },
  {
   "cell_type": "code",
   "execution_count": 30,
   "id": "e0d81d69-30b0-47c1-a560-083eaaac5496",
   "metadata": {},
   "outputs": [],
   "source": [
    "def myround(x, base=5):\n",
    "    return base * round(x/base)"
   ]
  },
  {
   "cell_type": "code",
   "execution_count": 31,
   "id": "d7737449-92b0-417e-ad76-fceb20e9403e",
   "metadata": {},
   "outputs": [],
   "source": [
    "def valid_trips_by_cutoff(df, percentages:list):\n",
    "    \"\"\"\n",
    "    Returns a table of how many trips/routes/operators are kept \n",
    "    after applying a certain percentile cutoff for the \n",
    "    length of segment that's covered.\n",
    "    \n",
    "    Ex: if a segment has 40% of its length covered in RT \n",
    "    data, it falls in the 20th percentile.\n",
    "    \n",
    "    Args:\n",
    "        df: result from  merge_segments_speeds(speeds, segments_gdf)\n",
    "        percentages: the percentiles in floats like 0.2, 0.25, 0.3\n",
    "    \"\"\"\n",
    "    final = pd.DataFrame()\n",
    "    og_len = len(df)\n",
    "    og_trips = df.trip_id.nunique()\n",
    "    og_shape_array_key = df.shape_array_key.nunique()\n",
    "    \n",
    "    for i in percentages:\n",
    "        # Round up percent to nearest 5. Ex: 43 becomes 45.\n",
    "        percent = myround(df.percent.quantile(i).astype(float))\n",
    "        temp = (df[(df.percent >= percent)])\n",
    "        \n",
    "        temp = temp.assign(\n",
    "            percentile = f\"Min. of {percent}% of seg length covered\")\n",
    "        \n",
    "        temp = (temp\n",
    "                .groupby(['percentile'])\n",
    "                .agg({'gtfs_dataset_name':'count',\n",
    "                      'speed_mph':'mean',\n",
    "                      'shape_array_key':'nunique',\n",
    "                      'trip_id':'nunique',\n",
    "                      'gtfs_dataset_key':'nunique'})\n",
    "                .reset_index()\n",
    "                .rename(columns = {'gtfs_dataset_name':'n_rows',\n",
    "                                  'speed_mph':'mean_speed_mph',\n",
    "                                  'shape_array_key':'n_kept_routes',\n",
    "                                  'trip_id':'n_kept_trips',\n",
    "                                  'gtfs_dataset_key':'n_kept_operators'})\n",
    "               )\n",
    "        \n",
    "        final = pd.concat([final, temp], axis=0)\n",
    "\n",
    "    \n",
    "    final = final.assign(\n",
    "        percentage_kept_rows=final.n_rows.divide(og_len) * 100,\n",
    "        percentage_kept_trips = final.n_kept_trips.divide(og_trips) * 100,\n",
    "        percentage_kept_routes = final.n_kept_routes.divide(og_shape_array_key)*100)\n",
    "    \n",
    "    round_cols = ['percentage_kept_rows', 'percentage_kept_trips', 'percentage_kept_routes']\n",
    "    final[round_cols] = final[round_cols].round(0)\n",
    "    return final"
   ]
  },
  {
   "cell_type": "code",
   "execution_count": 32,
   "id": "02da2cef-c921-4d79-856b-a797f715b7ed",
   "metadata": {},
   "outputs": [],
   "source": [
    "test = valid_trips_by_cutoff(merge1, [.1,.2,.3,.4,.5,.6,.7])"
   ]
  },
  {
   "cell_type": "markdown",
   "id": "1483859e-bd07-4d5f-b86f-0f9d7bebe121",
   "metadata": {
    "tags": []
   },
   "source": [
    "## Visualizing Speed\n",
    "* https://nbviewer.org/github/cal-itp/data-analyses/blob/filter-speeds-avgs/rt_segment_speeds/18_speed_distribution.ipynb\n",
    "* https://analysis.calitp.org/rt/district_07-los-angeles/9__speedmaps__district_07-los-angeles__itp_id_300.html"
   ]
  },
  {
   "cell_type": "markdown",
   "id": "938e5d67-7fd0-4d62-af9d-0f26d08f12ed",
   "metadata": {},
   "source": [
    "### % of rows kept"
   ]
  },
  {
   "cell_type": "code",
   "execution_count": 33,
   "id": "561eb328-18d5-4b2a-bd1e-4777b23b765c",
   "metadata": {},
   "outputs": [],
   "source": [
    "test = threshold_utils.pre_clean(test)"
   ]
  },
  {
   "cell_type": "code",
   "execution_count": 34,
   "id": "4e049588-bb4b-4e00-ac0c-d4f836cac1e0",
   "metadata": {},
   "outputs": [
    {
     "data": {
      "text/html": [
       "<div>\n",
       "<style scoped>\n",
       "    .dataframe tbody tr th:only-of-type {\n",
       "        vertical-align: middle;\n",
       "    }\n",
       "\n",
       "    .dataframe tbody tr th {\n",
       "        vertical-align: top;\n",
       "    }\n",
       "\n",
       "    .dataframe thead th {\n",
       "        text-align: right;\n",
       "    }\n",
       "</style>\n",
       "<table border=\"1\" class=\"dataframe\">\n",
       "  <thead>\n",
       "    <tr style=\"text-align: right;\">\n",
       "      <th></th>\n",
       "      <th>Percentile</th>\n",
       "      <th>N Rows</th>\n",
       "      <th>Mean Speed Mph</th>\n",
       "      <th>N Kept Routes</th>\n",
       "      <th>N Kept Trips</th>\n",
       "      <th>N Kept Operators</th>\n",
       "      <th>Percentage Kept Rows</th>\n",
       "      <th>Percentage Kept Trips</th>\n",
       "      <th>Percentage Kept Routes</th>\n",
       "    </tr>\n",
       "  </thead>\n",
       "  <tbody>\n",
       "    <tr>\n",
       "      <th>0</th>\n",
       "      <td>Min. of 10% of seg length covered</td>\n",
       "      <td>2026035</td>\n",
       "      <td>11.80</td>\n",
       "      <td>4080</td>\n",
       "      <td>65939</td>\n",
       "      <td>74</td>\n",
       "      <td>90.00</td>\n",
       "      <td>100.00</td>\n",
       "      <td>100.00</td>\n",
       "    </tr>\n",
       "    <tr>\n",
       "      <th>0</th>\n",
       "      <td>Min. of 40% of seg length covered</td>\n",
       "      <td>1820711</td>\n",
       "      <td>12.30</td>\n",
       "      <td>4066</td>\n",
       "      <td>65709</td>\n",
       "      <td>74</td>\n",
       "      <td>81.00</td>\n",
       "      <td>99.00</td>\n",
       "      <td>99.00</td>\n",
       "    </tr>\n",
       "    <tr>\n",
       "      <th>0</th>\n",
       "      <td>Min. of 60% of seg length covered</td>\n",
       "      <td>1573312</td>\n",
       "      <td>12.20</td>\n",
       "      <td>4055</td>\n",
       "      <td>65424</td>\n",
       "      <td>74</td>\n",
       "      <td>70.00</td>\n",
       "      <td>99.00</td>\n",
       "      <td>99.00</td>\n",
       "    </tr>\n",
       "    <tr>\n",
       "      <th>0</th>\n",
       "      <td>Min. of 75% of seg length covered</td>\n",
       "      <td>1308198</td>\n",
       "      <td>11.80</td>\n",
       "      <td>4039</td>\n",
       "      <td>64949</td>\n",
       "      <td>74</td>\n",
       "      <td>58.00</td>\n",
       "      <td>98.00</td>\n",
       "      <td>99.00</td>\n",
       "    </tr>\n",
       "    <tr>\n",
       "      <th>0</th>\n",
       "      <td>Min. of 85% of seg length covered</td>\n",
       "      <td>1070347</td>\n",
       "      <td>11.50</td>\n",
       "      <td>4019</td>\n",
       "      <td>64120</td>\n",
       "      <td>74</td>\n",
       "      <td>48.00</td>\n",
       "      <td>97.00</td>\n",
       "      <td>98.00</td>\n",
       "    </tr>\n",
       "    <tr>\n",
       "      <th>0</th>\n",
       "      <td>Min. of 90% of seg length covered</td>\n",
       "      <td>914280</td>\n",
       "      <td>11.20</td>\n",
       "      <td>3987</td>\n",
       "      <td>63142</td>\n",
       "      <td>74</td>\n",
       "      <td>41.00</td>\n",
       "      <td>95.00</td>\n",
       "      <td>98.00</td>\n",
       "    </tr>\n",
       "    <tr>\n",
       "      <th>0</th>\n",
       "      <td>Min. of 95% of seg length covered</td>\n",
       "      <td>698923</td>\n",
       "      <td>10.80</td>\n",
       "      <td>3917</td>\n",
       "      <td>61293</td>\n",
       "      <td>74</td>\n",
       "      <td>31.00</td>\n",
       "      <td>93.00</td>\n",
       "      <td>96.00</td>\n",
       "    </tr>\n",
       "  </tbody>\n",
       "</table>\n",
       "</div>"
      ],
      "text/plain": [
       "                          Percentile   N Rows  Mean Speed Mph  N Kept Routes  \\\n",
       "0  Min. of 10% of seg length covered  2026035           11.80           4080   \n",
       "0  Min. of 40% of seg length covered  1820711           12.30           4066   \n",
       "0  Min. of 60% of seg length covered  1573312           12.20           4055   \n",
       "0  Min. of 75% of seg length covered  1308198           11.80           4039   \n",
       "0  Min. of 85% of seg length covered  1070347           11.50           4019   \n",
       "0  Min. of 90% of seg length covered   914280           11.20           3987   \n",
       "0  Min. of 95% of seg length covered   698923           10.80           3917   \n",
       "\n",
       "   N Kept Trips  N Kept Operators  Percentage Kept Rows  \\\n",
       "0         65939                74                 90.00   \n",
       "0         65709                74                 81.00   \n",
       "0         65424                74                 70.00   \n",
       "0         64949                74                 58.00   \n",
       "0         64120                74                 48.00   \n",
       "0         63142                74                 41.00   \n",
       "0         61293                74                 31.00   \n",
       "\n",
       "   Percentage Kept Trips  Percentage Kept Routes  \n",
       "0                 100.00                  100.00  \n",
       "0                  99.00                   99.00  \n",
       "0                  99.00                   99.00  \n",
       "0                  98.00                   99.00  \n",
       "0                  97.00                   98.00  \n",
       "0                  95.00                   98.00  \n",
       "0                  93.00                   96.00  "
      ]
     },
     "execution_count": 34,
     "metadata": {},
     "output_type": "execute_result"
    }
   ],
   "source": [
    "test"
   ]
  },
  {
   "cell_type": "code",
   "execution_count": 35,
   "id": "65d0b237-544f-4245-9de0-f2308ae8c8f2",
   "metadata": {},
   "outputs": [],
   "source": [
    "# Main chart\n",
    "def bar_chart(df, x_column: str, y_column:str, title:str):\n",
    "    chart = (alt.Chart(df)\n",
    "         .mark_bar()\n",
    "         .encode(x=x_column, y= y_column, \n",
    "          color=alt.Color(y_column, \n",
    "          scale=alt.Scale(range=cp.CALITP_CATEGORY_BRIGHT_COLORS),\n",
    "          legend=None),\n",
    "          tooltip = df.columns.tolist())\n",
    "         .properties(title = title)\n",
    "            )\n",
    "    chart = threshold_utils.chart_size((chart), 400,300)\n",
    "    return chart\n",
    "    "
   ]
  },
  {
   "cell_type": "code",
   "execution_count": 36,
   "id": "4c8a453f-e38f-4a37-9a3e-06f8069f7dca",
   "metadata": {},
   "outputs": [
    {
     "data": {
      "text/html": [
       "\n",
       "<style>\n",
       "  #altair-viz-670926cb40cc4a048efc69955f1996ee.vega-embed {\n",
       "    width: 100%;\n",
       "    display: flex;\n",
       "  }\n",
       "\n",
       "  #altair-viz-670926cb40cc4a048efc69955f1996ee.vega-embed details,\n",
       "  #altair-viz-670926cb40cc4a048efc69955f1996ee.vega-embed details summary {\n",
       "    position: relative;\n",
       "  }\n",
       "</style>\n",
       "<div id=\"altair-viz-670926cb40cc4a048efc69955f1996ee\"></div>\n",
       "<script type=\"text/javascript\">\n",
       "  var VEGA_DEBUG = (typeof VEGA_DEBUG == \"undefined\") ? {} : VEGA_DEBUG;\n",
       "  (function(spec, embedOpt){\n",
       "    let outputDiv = document.currentScript.previousElementSibling;\n",
       "    if (outputDiv.id !== \"altair-viz-670926cb40cc4a048efc69955f1996ee\") {\n",
       "      outputDiv = document.getElementById(\"altair-viz-670926cb40cc4a048efc69955f1996ee\");\n",
       "    }\n",
       "    const paths = {\n",
       "      \"vega\": \"https://cdn.jsdelivr.net/npm/vega@5?noext\",\n",
       "      \"vega-lib\": \"https://cdn.jsdelivr.net/npm/vega-lib?noext\",\n",
       "      \"vega-lite\": \"https://cdn.jsdelivr.net/npm/vega-lite@5.8.0?noext\",\n",
       "      \"vega-embed\": \"https://cdn.jsdelivr.net/npm/vega-embed@6?noext\",\n",
       "    };\n",
       "\n",
       "    function maybeLoadScript(lib, version) {\n",
       "      var key = `${lib.replace(\"-\", \"\")}_version`;\n",
       "      return (VEGA_DEBUG[key] == version) ?\n",
       "        Promise.resolve(paths[lib]) :\n",
       "        new Promise(function(resolve, reject) {\n",
       "          var s = document.createElement('script');\n",
       "          document.getElementsByTagName(\"head\")[0].appendChild(s);\n",
       "          s.async = true;\n",
       "          s.onload = () => {\n",
       "            VEGA_DEBUG[key] = version;\n",
       "            return resolve(paths[lib]);\n",
       "          };\n",
       "          s.onerror = () => reject(`Error loading script: ${paths[lib]}`);\n",
       "          s.src = paths[lib];\n",
       "        });\n",
       "    }\n",
       "\n",
       "    function showError(err) {\n",
       "      outputDiv.innerHTML = `<div class=\"error\" style=\"color:red;\">${err}</div>`;\n",
       "      throw err;\n",
       "    }\n",
       "\n",
       "    function displayChart(vegaEmbed) {\n",
       "      vegaEmbed(outputDiv, spec, embedOpt)\n",
       "        .catch(err => showError(`Javascript Error: ${err.message}<br>This usually means there's a typo in your chart specification. See the javascript console for the full traceback.`));\n",
       "    }\n",
       "\n",
       "    if(typeof define === \"function\" && define.amd) {\n",
       "      requirejs.config({paths});\n",
       "      require([\"vega-embed\"], displayChart, err => showError(`Error loading script: ${err.message}`));\n",
       "    } else {\n",
       "      maybeLoadScript(\"vega\", \"5\")\n",
       "        .then(() => maybeLoadScript(\"vega-lite\", \"5.8.0\"))\n",
       "        .then(() => maybeLoadScript(\"vega-embed\", \"6\"))\n",
       "        .catch(showError)\n",
       "        .then(() => displayChart(vegaEmbed));\n",
       "    }\n",
       "  })({\"config\": {\"view\": {\"continuousWidth\": 300, \"continuousHeight\": 300}}, \"data\": {\"name\": \"data-aa1d849299806c8207b1fa963259d464\"}, \"mark\": {\"type\": \"bar\"}, \"encoding\": {\"color\": {\"field\": \"Percentile\", \"legend\": null, \"scale\": {\"range\": [\"#2EA8CE\", \"#EB9F3C\", \"#F4D837\", \"#51BF9D\", \"#8CBCCB\", \"#9487C0\"]}, \"type\": \"nominal\"}, \"tooltip\": [{\"field\": \"Percentile\", \"type\": \"nominal\"}, {\"field\": \"N Rows\", \"type\": \"quantitative\"}, {\"field\": \"Mean Speed Mph\", \"type\": \"quantitative\"}, {\"field\": \"N Kept Routes\", \"type\": \"quantitative\"}, {\"field\": \"N Kept Trips\", \"type\": \"quantitative\"}, {\"field\": \"N Kept Operators\", \"type\": \"quantitative\"}, {\"field\": \"Percentage Kept Rows\", \"type\": \"quantitative\"}, {\"field\": \"Percentage Kept Trips\", \"type\": \"quantitative\"}, {\"field\": \"Percentage Kept Routes\", \"type\": \"quantitative\"}], \"x\": {\"field\": \"Percentage Kept Rows\", \"type\": \"quantitative\"}, \"y\": {\"field\": \"Percentile\", \"type\": \"nominal\"}}, \"height\": 300, \"title\": \"Rows Kept After % Segment Cutoff\", \"width\": 400, \"$schema\": \"https://vega.github.io/schema/vega-lite/v5.8.0.json\", \"datasets\": {\"data-aa1d849299806c8207b1fa963259d464\": [{\"Percentile\": \"Min. of 10% of seg length covered\", \"N Rows\": 2026035, \"Mean Speed Mph\": 11.8, \"N Kept Routes\": 4080, \"N Kept Trips\": 65939, \"N Kept Operators\": 74, \"Percentage Kept Rows\": 90.0, \"Percentage Kept Trips\": 100.0, \"Percentage Kept Routes\": 100.0}, {\"Percentile\": \"Min. of 40% of seg length covered\", \"N Rows\": 1820711, \"Mean Speed Mph\": 12.3, \"N Kept Routes\": 4066, \"N Kept Trips\": 65709, \"N Kept Operators\": 74, \"Percentage Kept Rows\": 81.0, \"Percentage Kept Trips\": 99.0, \"Percentage Kept Routes\": 99.0}, {\"Percentile\": \"Min. of 60% of seg length covered\", \"N Rows\": 1573312, \"Mean Speed Mph\": 12.2, \"N Kept Routes\": 4055, \"N Kept Trips\": 65424, \"N Kept Operators\": 74, \"Percentage Kept Rows\": 70.0, \"Percentage Kept Trips\": 99.0, \"Percentage Kept Routes\": 99.0}, {\"Percentile\": \"Min. of 75% of seg length covered\", \"N Rows\": 1308198, \"Mean Speed Mph\": 11.8, \"N Kept Routes\": 4039, \"N Kept Trips\": 64949, \"N Kept Operators\": 74, \"Percentage Kept Rows\": 58.0, \"Percentage Kept Trips\": 98.0, \"Percentage Kept Routes\": 99.0}, {\"Percentile\": \"Min. of 85% of seg length covered\", \"N Rows\": 1070347, \"Mean Speed Mph\": 11.5, \"N Kept Routes\": 4019, \"N Kept Trips\": 64120, \"N Kept Operators\": 74, \"Percentage Kept Rows\": 48.0, \"Percentage Kept Trips\": 97.0, \"Percentage Kept Routes\": 98.0}, {\"Percentile\": \"Min. of 90% of seg length covered\", \"N Rows\": 914280, \"Mean Speed Mph\": 11.2, \"N Kept Routes\": 3987, \"N Kept Trips\": 63142, \"N Kept Operators\": 74, \"Percentage Kept Rows\": 41.0, \"Percentage Kept Trips\": 95.0, \"Percentage Kept Routes\": 98.0}, {\"Percentile\": \"Min. of 95% of seg length covered\", \"N Rows\": 698923, \"Mean Speed Mph\": 10.8, \"N Kept Routes\": 3917, \"N Kept Trips\": 61293, \"N Kept Operators\": 74, \"Percentage Kept Rows\": 31.0, \"Percentage Kept Trips\": 93.0, \"Percentage Kept Routes\": 96.0}]}}, {\"mode\": \"vega-lite\"});\n",
       "</script>"
      ],
      "text/plain": [
       "alt.Chart(...)"
      ]
     },
     "execution_count": 36,
     "metadata": {},
     "output_type": "execute_result"
    }
   ],
   "source": [
    "bar_chart(test, 'Percentage Kept Rows','Percentile', 'Rows Kept After % Segment Cutoff')"
   ]
  },
  {
   "cell_type": "markdown",
   "id": "5c7ed892-21b4-434c-bc90-c76514e446d2",
   "metadata": {},
   "source": [
    "## Only keep speeds that meet a certain threshold\n",
    "* Put it in `speeds_with_segment_geom` in `B2`"
   ]
  },
  {
   "cell_type": "code",
   "execution_count": 37,
   "id": "ee843630-501d-4a46-82a4-8005cb0f4fe4",
   "metadata": {},
   "outputs": [],
   "source": [
    "def speeds_length_filter(speeds: pd.DataFrame,\n",
    "                         segments: gpd.GeoDataFrame,\n",
    "                         columns_to_keep: list,\n",
    "                         percentile: float = 0.20) -> pd.DataFrame:\n",
    "    \n",
    "    \"\"\"\n",
    "    Do an inner merge on speeds and segments. \n",
    "    Filter out segment lengths that don't meet a \n",
    "    particular percentile we set. \n",
    "    \"\"\"\n",
    "    # Do an inner merge \n",
    "    df= merge_segments_speeds(speeds, segments_gdf)\n",
    "    \n",
    "    percent = df.percent.quantile(percentile).astype(float)\n",
    "    \n",
    "    df2 = (df[(df.percent >= percent)])\n",
    "    \n",
    "    df2 = df2[columns_to_keep]\n",
    "    \n",
    "    return df, df2"
   ]
  },
  {
   "cell_type": "code",
   "execution_count": 38,
   "id": "885133ec-ef30-45f5-9270-60dd8fb8a33e",
   "metadata": {},
   "outputs": [],
   "source": [
    "# test1, test2 = speeds_length_filter(speeds, segments_gdf, columns_to_keep, 0.20)"
   ]
  },
  {
   "cell_type": "code",
   "execution_count": 39,
   "id": "1313db6d-8f9a-4db5-ad05-db00bf872a0b",
   "metadata": {},
   "outputs": [],
   "source": [
    "# test1.shape"
   ]
  },
  {
   "cell_type": "code",
   "execution_count": 40,
   "id": "f83bd217-57f8-46e4-a69c-67dc364a6956",
   "metadata": {},
   "outputs": [],
   "source": [
    "# test2.shape"
   ]
  },
  {
   "cell_type": "code",
   "execution_count": 41,
   "id": "a9693adf-b08f-49f9-8162-94f1e473488d",
   "metadata": {},
   "outputs": [],
   "source": [
    "# test2.columns"
   ]
  },
  {
   "cell_type": "markdown",
   "id": "508cf5a1-bc2c-4fb8-904f-62cfc19fc04f",
   "metadata": {},
   "source": [
    "### Edited B2 function"
   ]
  },
  {
   "cell_type": "code",
   "execution_count": 42,
   "id": "3f39e3f6-e3c6-462c-ae15-bd2ebe57ecb8",
   "metadata": {},
   "outputs": [],
   "source": [
    "columns_to_keep = ['shape_array_key', 'stop_sequence', 'gtfs_dataset_key',\n",
    "      'gtfs_dataset_name', 'trip_id', 'min_time', 'min_dist', 'max_time',\n",
    "       'max_dist', 'meters_elapsed', 'sec_elapsed', 'speed_mph',\n",
    "      'trip_instance_key', 'schedule_gtfs_dataset_key',]"
   ]
  },
  {
   "cell_type": "code",
   "execution_count": 43,
   "id": "30ff2c99-f7d1-4ea9-a157-039aa4066cb4",
   "metadata": {},
   "outputs": [],
   "source": [
    "columns_to_keep2 = ['shape_array_key', 'stop_sequence', 'gtfs_dataset_key',\n",
    "      'gtfs_dataset_name', 'schedule_gtfs_dataset_key',]"
   ]
  },
  {
   "cell_type": "code",
   "execution_count": 44,
   "id": "e236fe57-b9a9-4ca0-8993-08c41723eeaf",
   "metadata": {},
   "outputs": [],
   "source": [
    "def add_back_missing_stops(filtered_speeds:pd.DataFrame, \n",
    "                           original_speeds:pd.DataFrame,\n",
    "                           columns_to_merge:list) -> pd.DataFrame:\n",
    "    \n",
    "    merge1 = pd.merge(original_speeds, filtered_speeds, on = columns_to_merge, how = \"left\", indicator = True)\n",
    "    print(merge1._merge.value_counts())\n",
    "    # Filter out for left only speeds that were deleted\n",
    "    left_only = merge1.loc[merge1._merge == 'left_only']\n",
    "    left_only = left_only[columns_to_merge].reset_index(drop = True)\n",
    "    left_only = left_only[columns_to_merge] \n",
    "    return left_only \n"
   ]
  },
  {
   "cell_type": "code",
   "execution_count": 45,
   "id": "dc78af95-353e-481d-a46f-45836b2df248",
   "metadata": {},
   "outputs": [],
   "source": [
    "#test3 = add_back_missing_stops(test2, test1, columns_to_keep)"
   ]
  },
  {
   "cell_type": "code",
   "execution_count": 46,
   "id": "5fd038bb-7a32-4842-a995-d56c639dc1a8",
   "metadata": {},
   "outputs": [],
   "source": [
    "#test3.sample()"
   ]
  },
  {
   "cell_type": "code",
   "execution_count": 47,
   "id": "c00cef57-a7f9-474a-8ad2-9719d3d375e8",
   "metadata": {},
   "outputs": [],
   "source": [
    "def speeds_with_segment_geom(\n",
    "    analysis_date: str, \n",
    "    max_speed_cutoff: int = 70,\n",
    "    dict_inputs: dict = {},\n",
    "    percentile:float = 0.20,\n",
    ") -> gpd.GeoDataFrame: \n",
    "    \"\"\"\n",
    "    Import the segment-trip table. \n",
    "    Average the speed_mph across all trips present in the segment.\n",
    "    \"\"\"\n",
    "    SEGMENT_FILE = dict_inputs[\"segments_file\"]\n",
    "    SEGMENT_IDENTIFIER_COLS = dict_inputs[\"segment_identifier_cols\"]\n",
    "    SPEEDS_FILE = dict_inputs[\"stage4\"]\n",
    "    \n",
    "    # Merge in segment geometry\n",
    "    segments = helpers.import_segments(\n",
    "        SEGMENT_GCS,\n",
    "        f\"{SEGMENT_FILE}_{analysis_date}\",\n",
    "        columns = SEGMENT_IDENTIFIER_COLS + [\n",
    "            \"schedule_gtfs_dataset_key\", \n",
    "            \"stop_id\",\n",
    "            \"loop_or_inlining\",\n",
    "            \"geometry\", \n",
    "            \"district\", \"district_name\"\n",
    "        ]\n",
    "    )\n",
    "    \n",
    "    # Read in speeds\n",
    "    df = pd.read_parquet(\n",
    "        f\"{SEGMENT_GCS}{SPEEDS_FILE}_{analysis_date}\", \n",
    "        filters = [[(\"speed_mph\", \"<=\", max_speed_cutoff), \n",
    "                    (\"sec_elapsed\", \">\", 0), \n",
    "                    (\"meters_elapsed\", \">\", 0)\n",
    "                   ]]\n",
    "    )\n",
    "    \n",
    "    df2 = df[df.speed_mph.notna() ].reset_index(drop=True)\n",
    "    \n",
    "    # Filter out abnormally high and low speeds\n",
    "    # Threshold defaults to throwing away the bottom 20% of rows with low speeds.\n",
    "    columns_keep_merge = ['shape_array_key', 'stop_sequence', 'schedule_gtfs_dataset_key',\n",
    "      'gtfs_dataset_name', 'trip_id', 'min_time', 'min_dist', 'max_time',\n",
    "       'max_dist', 'meters_elapsed', 'sec_elapsed', 'speed_mph',\n",
    "      'trip_instance_key']\n",
    "    all_speeds, df3 = speeds_length_filter(df2, segments, columns_keep_merge, percentile)\n",
    "    \n",
    "    time_of_day_df = sched_rt_utils.get_trip_time_buckets(analysis_date)\n",
    "\n",
    "    df4 = pd.merge(\n",
    "        df3, \n",
    "        time_of_day_df, \n",
    "        on = \"trip_instance_key\", \n",
    "        how = \"inner\"\n",
    "    )\n",
    "    \n",
    "    all_day = B2_avg_speeds_by_segment.calculate_avg_speeds(\n",
    "        df4, \n",
    "        SEGMENT_IDENTIFIER_COLS\n",
    "    )\n",
    "    peak = B2_avg_speeds_by_segment.calculate_avg_speeds(\n",
    "        df4[df4.time_of_day.isin([\"AM Peak\", \"PM Peak\"])], \n",
    "        SEGMENT_IDENTIFIER_COLS\n",
    "    )\n",
    "    \n",
    "    stats = pd.concat([\n",
    "        all_day.assign(time_of_day = \"all_day\"),\n",
    "        peak.assign(time_of_day = \"peak\")\n",
    "    ], axis=0)\n",
    "    \n",
    "    # Add back in rows that were filtered out for \n",
    "    # segment length\n",
    "    missing = add_back_missing_stops(stats, all_speeds, ['shape_array_key', 'stop_sequence'])\n",
    "    \n",
    "    # Concat & fill in NA \n",
    "    stats2 = pd.concat([missing, stats])\n",
    "    \n",
    "    # NA columns\n",
    "    stats2 = stats2.fillna(stats2.dtypes.replace({'float64': 0.0, 'object': 'None'}))\n",
    "    stats2 = stats2.drop_duplicates() \n",
    "                           \n",
    "    # Merge in segment geometry with a changed CRS\n",
    "    segments = segments.to_crs(geography_utils.WGS84)\n",
    "    \n",
    "    gdf = pd.merge(\n",
    "        segments,\n",
    "        stats2,\n",
    "        on = SEGMENT_IDENTIFIER_COLS,\n",
    "        how = \"inner\"\n",
    "    )\n",
    "    \n",
    "    return gdf"
   ]
  },
  {
   "cell_type": "markdown",
   "id": "04682811-eda1-424f-9a3d-4609f37f5a80",
   "metadata": {},
   "source": [
    "### Check out speeds"
   ]
  },
  {
   "cell_type": "code",
   "execution_count": 48,
   "id": "5355132e-988c-40f0-8648-afaf5fe9b026",
   "metadata": {},
   "outputs": [
    {
     "name": "stdout",
     "output_type": "stream",
     "text": [
      "both          4075096\n",
      "left_only        8818\n",
      "right_only          0\n",
      "Name: _merge, dtype: int64\n"
     ]
    }
   ],
   "source": [
    "# 2:12\n",
    "avg_test = speeds_with_segment_geom(analysis_date, \n",
    "                                    70, \n",
    "                                    dictionary,\n",
    "                                    0.1)"
   ]
  },
  {
   "cell_type": "code",
   "execution_count": 49,
   "id": "7e2944cc-5fff-42d4-a120-72fc3f61f82b",
   "metadata": {},
   "outputs": [
    {
     "data": {
      "text/plain": [
       "Index(['shape_array_key', 'stop_sequence', 'schedule_gtfs_dataset_key',\n",
       "       'stop_id', 'loop_or_inlining', 'geometry', 'district', 'district_name',\n",
       "       'p50_mph', 'n_trips', 'p20_mph', 'p80_mph', 'time_of_day'],\n",
       "      dtype='object')"
      ]
     },
     "execution_count": 49,
     "metadata": {},
     "output_type": "execute_result"
    }
   ],
   "source": [
    "avg_test.columns"
   ]
  },
  {
   "cell_type": "code",
   "execution_count": 50,
   "id": "316938c4-01eb-475b-8867-1fb39a24092e",
   "metadata": {},
   "outputs": [
    {
     "data": {
      "text/plain": [
       "geopandas.geodataframe.GeoDataFrame"
      ]
     },
     "execution_count": 50,
     "metadata": {},
     "output_type": "execute_result"
    }
   ],
   "source": [
    "type(avg_test)"
   ]
  },
  {
   "cell_type": "code",
   "execution_count": 51,
   "id": "781ca8a6-50dd-4257-9919-a9c9ddc1019f",
   "metadata": {},
   "outputs": [],
   "source": [
    "STG5_FILE = dictionary['stage5']\n",
    "og_avg = gpd.read_parquet(f\"{SEGMENT_GCS}{STG5_FILE}_{analysis_date}.parquet\")"
   ]
  },
  {
   "cell_type": "code",
   "execution_count": 52,
   "id": "f63c1331-02ec-418f-a3ef-d0c7c4eb6a34",
   "metadata": {},
   "outputs": [
    {
     "data": {
      "text/plain": [
       "'avg_speeds_stop_segments'"
      ]
     },
     "execution_count": 52,
     "metadata": {},
     "output_type": "execute_result"
    }
   ],
   "source": [
    "STG5_FILE"
   ]
  },
  {
   "cell_type": "code",
   "execution_count": 53,
   "id": "dffb7735-277d-41c8-8915-c04a5396ed55",
   "metadata": {},
   "outputs": [
    {
     "data": {
      "text/plain": [
       "Index(['shape_array_key', 'stop_sequence', 'schedule_gtfs_dataset_key',\n",
       "       'stop_id', 'loop_or_inlining', 'geometry', 'district', 'district_name',\n",
       "       'p50_mph', 'n_trips', 'p20_mph', 'p80_mph', 'time_of_day'],\n",
       "      dtype='object')"
      ]
     },
     "execution_count": 53,
     "metadata": {},
     "output_type": "execute_result"
    }
   ],
   "source": [
    "avg_test.columns"
   ]
  },
  {
   "cell_type": "code",
   "execution_count": 54,
   "id": "1521ba7c-5977-4ab6-9376-1edf41eaf9bb",
   "metadata": {},
   "outputs": [
    {
     "data": {
      "text/plain": [
       "Index(['shape_array_key', 'stop_sequence', 'schedule_gtfs_dataset_key',\n",
       "       'stop_id', 'loop_or_inlining', 'geometry', 'district', 'district_name',\n",
       "       'p50_mph', 'n_trips', 'p20_mph', 'p80_mph', 'time_of_day'],\n",
       "      dtype='object')"
      ]
     },
     "execution_count": 54,
     "metadata": {},
     "output_type": "execute_result"
    }
   ],
   "source": [
    "og_avg.columns"
   ]
  },
  {
   "cell_type": "markdown",
   "id": "28f5118e-c273-4094-94aa-d9a8c02b9029",
   "metadata": {},
   "source": [
    "* There are 6000 more rows if I don't drop the duplicates.\n",
    "* There are 6000 less rows if I do. \n",
    "* Look at one sequence/route to see what's happening."
   ]
  },
  {
   "cell_type": "code",
   "execution_count": 55,
   "id": "e761f21e-6e0e-466f-878e-a72aa15d7b19",
   "metadata": {},
   "outputs": [
    {
     "data": {
      "text/plain": [
       "(230532, 13)"
      ]
     },
     "execution_count": 55,
     "metadata": {},
     "output_type": "execute_result"
    }
   ],
   "source": [
    "og_avg.shape"
   ]
  },
  {
   "cell_type": "code",
   "execution_count": 56,
   "id": "da0ccf1f-29b2-4374-a8aa-99d7a59256e3",
   "metadata": {},
   "outputs": [
    {
     "data": {
      "text/plain": [
       "(227178, 13)"
      ]
     },
     "execution_count": 56,
     "metadata": {},
     "output_type": "execute_result"
    }
   ],
   "source": [
    "avg_test.shape"
   ]
  },
  {
   "cell_type": "code",
   "execution_count": 57,
   "id": "7ce13f75-786a-4315-b571-923c484107c9",
   "metadata": {},
   "outputs": [],
   "source": [
    "merge1_preview_cols = ['meters_length', \n",
    "       'trip_id', 'min_time', 'min_dist', 'max_time', 'max_dist',\n",
    "       'meters_elapsed', 'sec_elapsed', 'speed_mph', \n",
    "       'percent']"
   ]
  },
  {
   "cell_type": "code",
   "execution_count": 58,
   "id": "2652ed28-790b-4f11-976f-187d98594560",
   "metadata": {},
   "outputs": [
    {
     "data": {
      "text/html": [
       "<div>\n",
       "<style scoped>\n",
       "    .dataframe tbody tr th:only-of-type {\n",
       "        vertical-align: middle;\n",
       "    }\n",
       "\n",
       "    .dataframe tbody tr th {\n",
       "        vertical-align: top;\n",
       "    }\n",
       "\n",
       "    .dataframe thead th {\n",
       "        text-align: right;\n",
       "    }\n",
       "</style>\n",
       "<table border=\"1\" class=\"dataframe\">\n",
       "  <thead>\n",
       "    <tr style=\"text-align: right;\">\n",
       "      <th></th>\n",
       "      <th>shape_array_key</th>\n",
       "      <th>stop_sequence</th>\n",
       "      <th>schedule_gtfs_dataset_key</th>\n",
       "      <th>stop_id</th>\n",
       "      <th>loop_or_inlining</th>\n",
       "      <th>geometry</th>\n",
       "      <th>district</th>\n",
       "      <th>district_name</th>\n",
       "      <th>p50_mph</th>\n",
       "      <th>n_trips</th>\n",
       "      <th>p20_mph</th>\n",
       "      <th>p80_mph</th>\n",
       "      <th>time_of_day</th>\n",
       "    </tr>\n",
       "  </thead>\n",
       "  <tbody>\n",
       "    <tr>\n",
       "      <th>146517</th>\n",
       "      <td>a350e6fbbc6447015de2c60b93c1cc2c</td>\n",
       "      <td>75</td>\n",
       "      <td>7cc0cb1871dfd558f11a2885c145d144</td>\n",
       "      <td>17853</td>\n",
       "      <td>1</td>\n",
       "      <td>LINESTRING (-122.49547 37.76455, -122.49548 37.76456, -122.49549 37.76464, -122.49442 37.76469, -122.49359 37.76473)</td>\n",
       "      <td>4</td>\n",
       "      <td>District 4 - Oakland</td>\n",
       "      <td>4.24</td>\n",
       "      <td>13</td>\n",
       "      <td>1.61</td>\n",
       "      <td>5.01</td>\n",
       "      <td>all_day</td>\n",
       "    </tr>\n",
       "    <tr>\n",
       "      <th>146518</th>\n",
       "      <td>a350e6fbbc6447015de2c60b93c1cc2c</td>\n",
       "      <td>75</td>\n",
       "      <td>7cc0cb1871dfd558f11a2885c145d144</td>\n",
       "      <td>17853</td>\n",
       "      <td>1</td>\n",
       "      <td>LINESTRING (-122.49547 37.76455, -122.49548 37.76456, -122.49549 37.76464, -122.49442 37.76469, -122.49359 37.76473)</td>\n",
       "      <td>4</td>\n",
       "      <td>District 4 - Oakland</td>\n",
       "      <td>4.27</td>\n",
       "      <td>8</td>\n",
       "      <td>2.49</td>\n",
       "      <td>5.01</td>\n",
       "      <td>peak</td>\n",
       "    </tr>\n",
       "  </tbody>\n",
       "</table>\n",
       "</div>"
      ],
      "text/plain": [
       "                         shape_array_key  stop_sequence  \\\n",
       "146517  a350e6fbbc6447015de2c60b93c1cc2c             75   \n",
       "146518  a350e6fbbc6447015de2c60b93c1cc2c             75   \n",
       "\n",
       "               schedule_gtfs_dataset_key stop_id  loop_or_inlining  \\\n",
       "146517  7cc0cb1871dfd558f11a2885c145d144   17853                 1   \n",
       "146518  7cc0cb1871dfd558f11a2885c145d144   17853                 1   \n",
       "\n",
       "                                                                                                                    geometry  \\\n",
       "146517  LINESTRING (-122.49547 37.76455, -122.49548 37.76456, -122.49549 37.76464, -122.49442 37.76469, -122.49359 37.76473)   \n",
       "146518  LINESTRING (-122.49547 37.76455, -122.49548 37.76456, -122.49549 37.76464, -122.49442 37.76469, -122.49359 37.76473)   \n",
       "\n",
       "        district         district_name  p50_mph  n_trips  p20_mph  p80_mph  \\\n",
       "146517         4  District 4 - Oakland     4.24       13     1.61     5.01   \n",
       "146518         4  District 4 - Oakland     4.27        8     2.49     5.01   \n",
       "\n",
       "       time_of_day  \n",
       "146517     all_day  \n",
       "146518        peak  "
      ]
     },
     "execution_count": 58,
     "metadata": {},
     "output_type": "execute_result"
    }
   ],
   "source": [
    "og_avg.loc[(og_avg.shape_array_key == \"a350e6fbbc6447015de2c60b93c1cc2c\") & (og_avg.stop_sequence == 75)]"
   ]
  },
  {
   "cell_type": "code",
   "execution_count": 59,
   "id": "9e060366-3923-4c53-92c5-bcb4e31e3f99",
   "metadata": {
    "scrolled": true,
    "tags": []
   },
   "outputs": [
    {
     "data": {
      "text/html": [
       "<div>\n",
       "<style scoped>\n",
       "    .dataframe tbody tr th:only-of-type {\n",
       "        vertical-align: middle;\n",
       "    }\n",
       "\n",
       "    .dataframe tbody tr th {\n",
       "        vertical-align: top;\n",
       "    }\n",
       "\n",
       "    .dataframe thead th {\n",
       "        text-align: right;\n",
       "    }\n",
       "</style>\n",
       "<table border=\"1\" class=\"dataframe\">\n",
       "  <thead>\n",
       "    <tr style=\"text-align: right;\">\n",
       "      <th></th>\n",
       "      <th>shape_array_key</th>\n",
       "      <th>stop_id</th>\n",
       "      <th>stop_sequence</th>\n",
       "      <th>loop_or_inlining</th>\n",
       "      <th>schedule_gtfs_dataset_key</th>\n",
       "      <th>seg_idx</th>\n",
       "      <th>meters_length</th>\n",
       "      <th>gtfs_dataset_key</th>\n",
       "      <th>gtfs_dataset_name</th>\n",
       "      <th>trip_id</th>\n",
       "      <th>trip_instance_key</th>\n",
       "      <th>min_time</th>\n",
       "      <th>min_dist</th>\n",
       "      <th>max_time</th>\n",
       "      <th>max_dist</th>\n",
       "      <th>meters_elapsed</th>\n",
       "      <th>sec_elapsed</th>\n",
       "      <th>speed_mph</th>\n",
       "      <th>percent</th>\n",
       "    </tr>\n",
       "  </thead>\n",
       "  <tbody>\n",
       "    <tr>\n",
       "      <th>1460544</th>\n",
       "      <td>a350e6fbbc6447015de2c60b93c1cc2c</td>\n",
       "      <td>17853</td>\n",
       "      <td>75</td>\n",
       "      <td>1</td>\n",
       "      <td>7cc0cb1871dfd558f11a2885c145d144</td>\n",
       "      <td>119094</td>\n",
       "      <td>177.03</td>\n",
       "      <td>c0e3039da063db95ebabd3fe4ee611a4</td>\n",
       "      <td>Bay Area 511 Muni VehiclePositions</td>\n",
       "      <td>11351974_M11</td>\n",
       "      <td>1bc76d545c95e14495e47e16c295df01</td>\n",
       "      <td>37421.00</td>\n",
       "      <td>57.19</td>\n",
       "      <td>37436.00</td>\n",
       "      <td>57.19</td>\n",
       "      <td>0.00</td>\n",
       "      <td>15.00</td>\n",
       "      <td>0.00</td>\n",
       "      <td>0.00</td>\n",
       "    </tr>\n",
       "    <tr>\n",
       "      <th>1460559</th>\n",
       "      <td>a350e6fbbc6447015de2c60b93c1cc2c</td>\n",
       "      <td>17853</td>\n",
       "      <td>75</td>\n",
       "      <td>1</td>\n",
       "      <td>7cc0cb1871dfd558f11a2885c145d144</td>\n",
       "      <td>119094</td>\n",
       "      <td>177.03</td>\n",
       "      <td>c0e3039da063db95ebabd3fe4ee611a4</td>\n",
       "      <td>Bay Area 511 Muni VehiclePositions</td>\n",
       "      <td>11351997_M11</td>\n",
       "      <td>a6bdf24eaa2d8b20b732af4efcd63fb9</td>\n",
       "      <td>49778.00</td>\n",
       "      <td>0.30</td>\n",
       "      <td>49793.00</td>\n",
       "      <td>0.30</td>\n",
       "      <td>0.00</td>\n",
       "      <td>15.00</td>\n",
       "      <td>0.00</td>\n",
       "      <td>0.00</td>\n",
       "    </tr>\n",
       "    <tr>\n",
       "      <th>1460550</th>\n",
       "      <td>a350e6fbbc6447015de2c60b93c1cc2c</td>\n",
       "      <td>17853</td>\n",
       "      <td>75</td>\n",
       "      <td>1</td>\n",
       "      <td>7cc0cb1871dfd558f11a2885c145d144</td>\n",
       "      <td>119094</td>\n",
       "      <td>177.03</td>\n",
       "      <td>c0e3039da063db95ebabd3fe4ee611a4</td>\n",
       "      <td>Bay Area 511 Muni VehiclePositions</td>\n",
       "      <td>11351982_M11</td>\n",
       "      <td>9c1e6f526af54f2dfb07adac6aab6ec5</td>\n",
       "      <td>41739.00</td>\n",
       "      <td>0.00</td>\n",
       "      <td>41754.00</td>\n",
       "      <td>0.00</td>\n",
       "      <td>0.00</td>\n",
       "      <td>15.00</td>\n",
       "      <td>0.00</td>\n",
       "      <td>0.00</td>\n",
       "    </tr>\n",
       "  </tbody>\n",
       "</table>\n",
       "</div>"
      ],
      "text/plain": [
       "                          shape_array_key stop_id  stop_sequence  \\\n",
       "1460544  a350e6fbbc6447015de2c60b93c1cc2c   17853             75   \n",
       "1460559  a350e6fbbc6447015de2c60b93c1cc2c   17853             75   \n",
       "1460550  a350e6fbbc6447015de2c60b93c1cc2c   17853             75   \n",
       "\n",
       "         loop_or_inlining         schedule_gtfs_dataset_key  seg_idx  \\\n",
       "1460544                 1  7cc0cb1871dfd558f11a2885c145d144   119094   \n",
       "1460559                 1  7cc0cb1871dfd558f11a2885c145d144   119094   \n",
       "1460550                 1  7cc0cb1871dfd558f11a2885c145d144   119094   \n",
       "\n",
       "         meters_length                  gtfs_dataset_key  \\\n",
       "1460544         177.03  c0e3039da063db95ebabd3fe4ee611a4   \n",
       "1460559         177.03  c0e3039da063db95ebabd3fe4ee611a4   \n",
       "1460550         177.03  c0e3039da063db95ebabd3fe4ee611a4   \n",
       "\n",
       "                          gtfs_dataset_name       trip_id  \\\n",
       "1460544  Bay Area 511 Muni VehiclePositions  11351974_M11   \n",
       "1460559  Bay Area 511 Muni VehiclePositions  11351997_M11   \n",
       "1460550  Bay Area 511 Muni VehiclePositions  11351982_M11   \n",
       "\n",
       "                        trip_instance_key  min_time  min_dist  max_time  \\\n",
       "1460544  1bc76d545c95e14495e47e16c295df01  37421.00     57.19  37436.00   \n",
       "1460559  a6bdf24eaa2d8b20b732af4efcd63fb9  49778.00      0.30  49793.00   \n",
       "1460550  9c1e6f526af54f2dfb07adac6aab6ec5  41739.00      0.00  41754.00   \n",
       "\n",
       "         max_dist  meters_elapsed  sec_elapsed  speed_mph  percent  \n",
       "1460544     57.19            0.00        15.00       0.00     0.00  \n",
       "1460559      0.30            0.00        15.00       0.00     0.00  \n",
       "1460550      0.00            0.00        15.00       0.00     0.00  "
      ]
     },
     "execution_count": 59,
     "metadata": {},
     "output_type": "execute_result"
    }
   ],
   "source": [
    "# Original df \n",
    "merge1.loc[(merge1.shape_array_key == \"a350e6fbbc6447015de2c60b93c1cc2c\") & (merge1.stop_sequence == 75)].drop(columns = ['geometry_arrowized']).sample(3)"
   ]
  },
  {
   "cell_type": "code",
   "execution_count": 60,
   "id": "d355faab-5da6-40b6-bb32-e33921a47aca",
   "metadata": {},
   "outputs": [],
   "source": [
    "test = avg_test.loc[(avg_test.shape_array_key == \"a350e6fbbc6447015de2c60b93c1cc2c\") & (avg_test.stop_sequence == 75)]"
   ]
  },
  {
   "cell_type": "code",
   "execution_count": 61,
   "id": "1ee65b35-fb7e-4b52-a35c-de675ff7ea5c",
   "metadata": {},
   "outputs": [
    {
     "data": {
      "text/plain": [
       "(2, 13)"
      ]
     },
     "execution_count": 61,
     "metadata": {},
     "output_type": "execute_result"
    }
   ],
   "source": [
    "test.shape"
   ]
  },
  {
   "cell_type": "code",
   "execution_count": 62,
   "id": "c88a8d3d-39cd-4ee3-b664-6f829f5fc289",
   "metadata": {},
   "outputs": [
    {
     "data": {
      "text/html": [
       "<div>\n",
       "<style scoped>\n",
       "    .dataframe tbody tr th:only-of-type {\n",
       "        vertical-align: middle;\n",
       "    }\n",
       "\n",
       "    .dataframe tbody tr th {\n",
       "        vertical-align: top;\n",
       "    }\n",
       "\n",
       "    .dataframe thead th {\n",
       "        text-align: right;\n",
       "    }\n",
       "</style>\n",
       "<table border=\"1\" class=\"dataframe\">\n",
       "  <thead>\n",
       "    <tr style=\"text-align: right;\">\n",
       "      <th></th>\n",
       "      <th>shape_array_key</th>\n",
       "      <th>stop_sequence</th>\n",
       "      <th>schedule_gtfs_dataset_key</th>\n",
       "      <th>stop_id</th>\n",
       "      <th>loop_or_inlining</th>\n",
       "      <th>geometry</th>\n",
       "      <th>district</th>\n",
       "      <th>district_name</th>\n",
       "      <th>p50_mph</th>\n",
       "      <th>n_trips</th>\n",
       "      <th>p20_mph</th>\n",
       "      <th>p80_mph</th>\n",
       "      <th>time_of_day</th>\n",
       "    </tr>\n",
       "  </thead>\n",
       "  <tbody>\n",
       "    <tr>\n",
       "      <th>144320</th>\n",
       "      <td>a350e6fbbc6447015de2c60b93c1cc2c</td>\n",
       "      <td>75</td>\n",
       "      <td>7cc0cb1871dfd558f11a2885c145d144</td>\n",
       "      <td>17853</td>\n",
       "      <td>1</td>\n",
       "      <td>LINESTRING (-122.49547 37.76455, -122.49548 37.76456, -122.49549 37.76464, -122.49442 37.76469, -122.49359 37.76473)</td>\n",
       "      <td>4</td>\n",
       "      <td>District 4 - Oakland</td>\n",
       "      <td>4.27</td>\n",
       "      <td>10.00</td>\n",
       "      <td>3.68</td>\n",
       "      <td>6.41</td>\n",
       "      <td>all_day</td>\n",
       "    </tr>\n",
       "    <tr>\n",
       "      <th>144321</th>\n",
       "      <td>a350e6fbbc6447015de2c60b93c1cc2c</td>\n",
       "      <td>75</td>\n",
       "      <td>7cc0cb1871dfd558f11a2885c145d144</td>\n",
       "      <td>17853</td>\n",
       "      <td>1</td>\n",
       "      <td>LINESTRING (-122.49547 37.76455, -122.49548 37.76456, -122.49549 37.76464, -122.49442 37.76469, -122.49359 37.76473)</td>\n",
       "      <td>4</td>\n",
       "      <td>District 4 - Oakland</td>\n",
       "      <td>4.61</td>\n",
       "      <td>6.00</td>\n",
       "      <td>4.24</td>\n",
       "      <td>5.08</td>\n",
       "      <td>peak</td>\n",
       "    </tr>\n",
       "  </tbody>\n",
       "</table>\n",
       "</div>"
      ],
      "text/plain": [
       "                         shape_array_key  stop_sequence  \\\n",
       "144320  a350e6fbbc6447015de2c60b93c1cc2c             75   \n",
       "144321  a350e6fbbc6447015de2c60b93c1cc2c             75   \n",
       "\n",
       "               schedule_gtfs_dataset_key stop_id  loop_or_inlining  \\\n",
       "144320  7cc0cb1871dfd558f11a2885c145d144   17853                 1   \n",
       "144321  7cc0cb1871dfd558f11a2885c145d144   17853                 1   \n",
       "\n",
       "                                                                                                                    geometry  \\\n",
       "144320  LINESTRING (-122.49547 37.76455, -122.49548 37.76456, -122.49549 37.76464, -122.49442 37.76469, -122.49359 37.76473)   \n",
       "144321  LINESTRING (-122.49547 37.76455, -122.49548 37.76456, -122.49549 37.76464, -122.49442 37.76469, -122.49359 37.76473)   \n",
       "\n",
       "        district         district_name  p50_mph  n_trips  p20_mph  p80_mph  \\\n",
       "144320         4  District 4 - Oakland     4.27    10.00     3.68     6.41   \n",
       "144321         4  District 4 - Oakland     4.61     6.00     4.24     5.08   \n",
       "\n",
       "       time_of_day  \n",
       "144320     all_day  \n",
       "144321        peak  "
      ]
     },
     "execution_count": 62,
     "metadata": {},
     "output_type": "execute_result"
    }
   ],
   "source": [
    "test.drop_duplicates()"
   ]
  },
  {
   "cell_type": "markdown",
   "id": "9daf292e-e8d8-4813-86c9-7a09fc035c4a",
   "metadata": {
    "tags": []
   },
   "source": [
    "## Sample segments and routes for Big Blue Bus"
   ]
  },
  {
   "cell_type": "code",
   "execution_count": 63,
   "id": "edbaac05-d03a-42d4-abba-4a4483fa3005",
   "metadata": {},
   "outputs": [],
   "source": [
    "test_operator = \"Big Blue Bus VehiclePositions\"\n",
    "test_org = \"City of Santa Monica\"\n",
    "test_key = \"6c2d7daaf979779fa2089c6395baf98b\""
   ]
  },
  {
   "cell_type": "code",
   "execution_count": 64,
   "id": "9c7826f6-27ed-498f-97b8-ee0f4c2a992a",
   "metadata": {},
   "outputs": [],
   "source": [
    "pub_df = pd.read_parquet(\n",
    "    f\"{SEGMENT_GCS}export/avg_speeds_stop_segments_{analysis_date}_tabular.parquet\", \n",
    "    filters = [[(\"agency\", \"==\", test_org)]]\n",
    ")"
   ]
  },
  {
   "cell_type": "code",
   "execution_count": 65,
   "id": "288a9881-aa75-4331-9c4c-e01c3954fafe",
   "metadata": {},
   "outputs": [],
   "source": [
    "# Dark orange\n",
    "shape_id1  = \"26375\"\n",
    "stop_seq1 = 7\n",
    "shape_array1 = pub_df[pub_df.shape_id==shape_id1].shape_array_key.iloc[0]"
   ]
  },
  {
   "cell_type": "code",
   "execution_count": 66,
   "id": "05465822-ff34-47cb-ac43-2d11e12e3494",
   "metadata": {},
   "outputs": [],
   "source": [
    "# Light yellow \n",
    "shape_id2 = \"26342\"\n",
    "stop_seq2 = 23\n",
    "shape_array2 = pub_df[pub_df.shape_id==shape_id2].shape_array_key.iloc[0]"
   ]
  },
  {
   "cell_type": "code",
   "execution_count": 67,
   "id": "d1315d79-276d-4810-9593-07e8770f67ba",
   "metadata": {},
   "outputs": [],
   "source": [
    "# Dark Red\n",
    "shape_id3 = \"26393\"\n",
    "stop_seq3 = 32\n",
    "shape_array3 = pub_df[pub_df.shape_id==shape_id3].shape_array_key.iloc[0]"
   ]
  },
  {
   "cell_type": "code",
   "execution_count": 68,
   "id": "d163d014-0e76-41ef-813f-ff2617077249",
   "metadata": {},
   "outputs": [],
   "source": [
    "# Light orange\n",
    "shape_id4 = \"26372\"\n",
    "stop_seq4 = 14\n",
    "shape_array4 = pub_df[pub_df.shape_id==shape_id4].shape_array_key.iloc[0]"
   ]
  },
  {
   "cell_type": "code",
   "execution_count": 69,
   "id": "d946f239-b242-4a3e-95f6-580690e245b7",
   "metadata": {},
   "outputs": [],
   "source": [
    "# Green\n",
    "shape_id5 = \"26400\"\n",
    "stop_seq5= 8\n",
    "shape_array5 = pub_df[pub_df.shape_id==shape_id5].shape_array_key.iloc[0]"
   ]
  },
  {
   "cell_type": "code",
   "execution_count": 70,
   "id": "ec9da438-07d4-45ef-85c1-fc44d6eaadbf",
   "metadata": {},
   "outputs": [],
   "source": [
    "def one_route_map(avg_speeds:gpd.GeoDataFrame, shape_array_key:str):\n",
    "    display(avg_speeds[avg_speeds.shape_array_key==shape_array_key].explore(\n",
    "    \"p50_mph\", \n",
    "    tiles = \"CartoDB Positron\",\n",
    "    cmap = rt_utils.ZERO_THIRTY_COLORSCALE,\n",
    "    style_kwds = {'weight':5}))\n",
    "    "
   ]
  },
  {
   "cell_type": "markdown",
   "id": "d9cbd71c-ff9d-49f4-a522-0150d3721da7",
   "metadata": {},
   "source": [
    "## Checks"
   ]
  },
  {
   "cell_type": "code",
   "execution_count": 71,
   "id": "19bd5cbe-0bc6-4dfd-b6fb-37a307dfb9db",
   "metadata": {},
   "outputs": [],
   "source": [
    "def compare_average(avg_test:pd.DataFrame,\n",
    "                    og_avg:pd.DataFrame, \n",
    "                    shape_array_key:str,\n",
    "                    stop_sequence:int):\n",
    "    \n",
    "    print(f\"route {shape_array_key}, sequence {stop_sequence}\")\n",
    "    drop_cols = ['shape_array_key','stop_sequence']\n",
    "    print('Original')\n",
    "    original = og_avg[(og_avg.shape_array_key == shape_array_key) &(og_avg.stop_sequence == stop_sequence)].drop(columns = drop_cols)\n",
    "    display(original.drop(columns = ['geometry']))\n",
    "    \n",
    "    print('New')\n",
    "    new = avg_test[(avg_test.shape_array_key == shape_array_key) & (avg_test.stop_sequence == stop_sequence)].drop(columns = drop_cols)\n",
    "    display(new.drop(columns = ['geometry']))    \n",
    "    display(new.explore(width = 300, height = 300))"
   ]
  },
  {
   "cell_type": "code",
   "execution_count": 72,
   "id": "b6a35555-e9ae-4a34-9f38-f4b3a78917de",
   "metadata": {},
   "outputs": [
    {
     "data": {
      "text/plain": [
       "count   230532.00\n",
       "mean        11.99\n",
       "std          8.74\n",
       "min          0.00\n",
       "25%          5.99\n",
       "50%          9.99\n",
       "75%         15.80\n",
       "max         69.96\n",
       "Name: p50_mph, dtype: float64"
      ]
     },
     "execution_count": 72,
     "metadata": {},
     "output_type": "execute_result"
    }
   ],
   "source": [
    "og_avg.p50_mph.describe()"
   ]
  },
  {
   "cell_type": "code",
   "execution_count": 73,
   "id": "09961212-cad7-40ab-bfd9-ff457eaad089",
   "metadata": {},
   "outputs": [
    {
     "data": {
      "text/plain": [
       "count   227178.00\n",
       "mean        12.66\n",
       "std          8.86\n",
       "min          0.00\n",
       "25%          6.57\n",
       "50%         10.73\n",
       "75%         16.65\n",
       "max         69.96\n",
       "Name: p50_mph, dtype: float64"
      ]
     },
     "execution_count": 73,
     "metadata": {},
     "output_type": "execute_result"
    }
   ],
   "source": [
    "avg_test.p50_mph.describe()"
   ]
  },
  {
   "cell_type": "code",
   "execution_count": 74,
   "id": "cbbb122d-4a6c-4f23-b377-c9de20924739",
   "metadata": {},
   "outputs": [],
   "source": [
    "# compare_average(avg_test, og_avg, shape_array1, stop_seq1)"
   ]
  },
  {
   "cell_type": "code",
   "execution_count": 75,
   "id": "16f98b58-75ae-4a5c-a947-c6a4a58b7644",
   "metadata": {},
   "outputs": [],
   "source": [
    "# compare_average(avg_test, og_avg, shape_array2, stop_seq2)"
   ]
  },
  {
   "cell_type": "markdown",
   "id": "5c797a73-3cb6-46dd-b451-959bb185d762",
   "metadata": {},
   "source": [
    "* Strangely enough, the 50th percentile speed became lower\n",
    "* Sometimes the lower the length, the higher the speed?"
   ]
  },
  {
   "cell_type": "code",
   "execution_count": 76,
   "id": "3ede20ec-3d72-4a97-803f-67906eb9b662",
   "metadata": {},
   "outputs": [],
   "source": [
    "# compare_average(avg_test, og_avg, shape_array3, stop_seq3)"
   ]
  },
  {
   "cell_type": "code",
   "execution_count": 77,
   "id": "ea2fd667-8e2e-43be-9015-81f0d066d834",
   "metadata": {
    "scrolled": true,
    "tags": []
   },
   "outputs": [],
   "source": [
    "# merge1.loc[(merge1.shape_array_key == shape_array3) & (merge1.stop_sequence == stop_seq3)][merge1_preview_cols].sort_values(['percent'])"
   ]
  },
  {
   "cell_type": "markdown",
   "id": "a37b765b-1d23-4e69-8959-474289814ac7",
   "metadata": {},
   "source": [
    "* This is missing because the only row that was non-zero only covered 27% of the length\n",
    "* Maybe up the threshold?"
   ]
  },
  {
   "cell_type": "code",
   "execution_count": 78,
   "id": "13a5f252-5bf6-44b4-b1e0-baec918fa61f",
   "metadata": {},
   "outputs": [],
   "source": [
    "\n",
    "# compare_average(avg_test, og_avg, shape_array4, stop_seq4)"
   ]
  },
  {
   "cell_type": "code",
   "execution_count": 79,
   "id": "bf2d2ec9-c9db-4b2d-977a-3df3547a0cf1",
   "metadata": {},
   "outputs": [],
   "source": [
    "# merge1.loc[(merge1.shape_array_key == shape_array4) & (merge1.stop_sequence == stop_seq4)][merge1_preview_cols]"
   ]
  },
  {
   "cell_type": "code",
   "execution_count": 80,
   "id": "64a82a45-2df9-49e6-b1e1-9aaaef90e818",
   "metadata": {},
   "outputs": [],
   "source": [
    "# compare_average(avg_test, og_avg, shape_array5, stop_seq5)"
   ]
  },
  {
   "cell_type": "markdown",
   "id": "efaca354-73ae-419d-bea2-2edc7d773a0c",
   "metadata": {},
   "source": [
    "## Comparison\n",
    "* i still want a left join for segments, but only for segments that have RT trips ever (that end up going missing, after the 45% rule)\n",
    "\n",
    "* i don't want a left join to show all segments ever, bc segments are cut from scheduled shapes. more operators have schedule data than RT. so i don't want a mess of segments at the end of the left join off schedule, but a left join for \"RT shapes\""
   ]
  },
  {
   "cell_type": "code",
   "execution_count": 81,
   "id": "ea7a964d-ae0e-40b6-b8ec-b8059d93c855",
   "metadata": {},
   "outputs": [],
   "source": [
    "# Results from original script\n",
    "rt_segs_agg = (og_avg\n",
    "            .groupby(['shape_array_key','schedule_gtfs_dataset_key'])\n",
    "            .agg({'stop_sequence':'nunique'})\n",
    "            .reset_index()\n",
    "            .rename(columns = {'stop_sequence':'total_stops'})\n",
    "            .add_prefix('og_')\n",
    "           )"
   ]
  },
  {
   "cell_type": "code",
   "execution_count": 82,
   "id": "397092c1-b8d9-47cb-a077-6bceadfdcf50",
   "metadata": {},
   "outputs": [
    {
     "data": {
      "text/html": [
       "<div>\n",
       "<style scoped>\n",
       "    .dataframe tbody tr th:only-of-type {\n",
       "        vertical-align: middle;\n",
       "    }\n",
       "\n",
       "    .dataframe tbody tr th {\n",
       "        vertical-align: top;\n",
       "    }\n",
       "\n",
       "    .dataframe thead th {\n",
       "        text-align: right;\n",
       "    }\n",
       "</style>\n",
       "<table border=\"1\" class=\"dataframe\">\n",
       "  <thead>\n",
       "    <tr style=\"text-align: right;\">\n",
       "      <th></th>\n",
       "      <th>og_shape_array_key</th>\n",
       "      <th>og_schedule_gtfs_dataset_key</th>\n",
       "      <th>og_total_stops</th>\n",
       "    </tr>\n",
       "  </thead>\n",
       "  <tbody>\n",
       "    <tr>\n",
       "      <th>850</th>\n",
       "      <td>35c43764e78df2a990a0e6c89b1736d5</td>\n",
       "      <td>587e730fac4db21d54037e0f12b0dd5d</td>\n",
       "      <td>29</td>\n",
       "    </tr>\n",
       "  </tbody>\n",
       "</table>\n",
       "</div>"
      ],
      "text/plain": [
       "                   og_shape_array_key      og_schedule_gtfs_dataset_key  \\\n",
       "850  35c43764e78df2a990a0e6c89b1736d5  587e730fac4db21d54037e0f12b0dd5d   \n",
       "\n",
       "     og_total_stops  \n",
       "850              29  "
      ]
     },
     "execution_count": 82,
     "metadata": {},
     "output_type": "execute_result"
    }
   ],
   "source": [
    "rt_segs_agg.sample()"
   ]
  },
  {
   "cell_type": "code",
   "execution_count": 83,
   "id": "11415d26-28cf-4c0f-9ba5-402df7bb88a2",
   "metadata": {},
   "outputs": [],
   "source": [
    "# My test after filtering but adding back in cut rows\n",
    "avg_test_agg = (avg_test\n",
    "            .groupby(['shape_array_key','schedule_gtfs_dataset_key'])\n",
    "            .agg({'stop_sequence':'nunique'})\n",
    "            .reset_index()\n",
    "            .rename(columns = {'stop_sequence':'total_stops'})\n",
    "            .add_prefix('testing_')\n",
    "           )"
   ]
  },
  {
   "cell_type": "code",
   "execution_count": 84,
   "id": "6863ad33-4e07-4e74-b968-d4702d56c50a",
   "metadata": {},
   "outputs": [
    {
     "data": {
      "text/html": [
       "<div>\n",
       "<style scoped>\n",
       "    .dataframe tbody tr th:only-of-type {\n",
       "        vertical-align: middle;\n",
       "    }\n",
       "\n",
       "    .dataframe tbody tr th {\n",
       "        vertical-align: top;\n",
       "    }\n",
       "\n",
       "    .dataframe thead th {\n",
       "        text-align: right;\n",
       "    }\n",
       "</style>\n",
       "<table border=\"1\" class=\"dataframe\">\n",
       "  <thead>\n",
       "    <tr style=\"text-align: right;\">\n",
       "      <th></th>\n",
       "      <th>testing_shape_array_key</th>\n",
       "      <th>testing_schedule_gtfs_dataset_key</th>\n",
       "      <th>testing_total_stops</th>\n",
       "    </tr>\n",
       "  </thead>\n",
       "  <tbody>\n",
       "    <tr>\n",
       "      <th>1327</th>\n",
       "      <td>5339b0cc395600141acccb36b5887e0e</td>\n",
       "      <td>3f3f36b4c41cc6b5df3eb7f5d8ea6e3c</td>\n",
       "      <td>69</td>\n",
       "    </tr>\n",
       "  </tbody>\n",
       "</table>\n",
       "</div>"
      ],
      "text/plain": [
       "               testing_shape_array_key testing_schedule_gtfs_dataset_key  \\\n",
       "1327  5339b0cc395600141acccb36b5887e0e  3f3f36b4c41cc6b5df3eb7f5d8ea6e3c   \n",
       "\n",
       "      testing_total_stops  \n",
       "1327                   69  "
      ]
     },
     "execution_count": 84,
     "metadata": {},
     "output_type": "execute_result"
    }
   ],
   "source": [
    "avg_test_agg.sample()"
   ]
  },
  {
   "cell_type": "code",
   "execution_count": 85,
   "id": "7e468c16-2d41-4b8c-9e1d-d45beec22805",
   "metadata": {},
   "outputs": [
    {
     "data": {
      "text/plain": [
       "((4085, 3), (4085, 3))"
      ]
     },
     "execution_count": 85,
     "metadata": {},
     "output_type": "execute_result"
    }
   ],
   "source": [
    "avg_test_agg.shape, rt_segs_agg.shape"
   ]
  },
  {
   "cell_type": "code",
   "execution_count": 86,
   "id": "03e20331-bd79-4d2b-ac1f-1d889b8d1651",
   "metadata": {},
   "outputs": [],
   "source": [
    "m1 = (pd\n",
    "      .merge(rt_segs_agg, avg_test_agg, \n",
    "             left_on = ['og_shape_array_key', 'og_schedule_gtfs_dataset_key'],\n",
    "             right_on = ['testing_shape_array_key', 'testing_schedule_gtfs_dataset_key'], \n",
    "             how = 'outer', indicator = True)\n",
    "     )"
   ]
  },
  {
   "cell_type": "code",
   "execution_count": 87,
   "id": "4e6d3967-6b60-44ce-8c42-fab450f217a0",
   "metadata": {},
   "outputs": [],
   "source": [
    "m1['total_thrown_out_stops'] = m1.og_total_stops - m1.testing_total_stops"
   ]
  },
  {
   "cell_type": "code",
   "execution_count": 88,
   "id": "af8fff18-a703-4bcf-a398-c318d419abff",
   "metadata": {},
   "outputs": [
    {
     "data": {
      "text/html": [
       "<div>\n",
       "<style scoped>\n",
       "    .dataframe tbody tr th:only-of-type {\n",
       "        vertical-align: middle;\n",
       "    }\n",
       "\n",
       "    .dataframe tbody tr th {\n",
       "        vertical-align: top;\n",
       "    }\n",
       "\n",
       "    .dataframe thead th {\n",
       "        text-align: right;\n",
       "    }\n",
       "</style>\n",
       "<table border=\"1\" class=\"dataframe\">\n",
       "  <thead>\n",
       "    <tr style=\"text-align: right;\">\n",
       "      <th></th>\n",
       "      <th>og_shape_array_key</th>\n",
       "      <th>og_schedule_gtfs_dataset_key</th>\n",
       "      <th>og_total_stops</th>\n",
       "      <th>testing_shape_array_key</th>\n",
       "      <th>testing_schedule_gtfs_dataset_key</th>\n",
       "      <th>testing_total_stops</th>\n",
       "      <th>_merge</th>\n",
       "      <th>total_thrown_out_stops</th>\n",
       "    </tr>\n",
       "  </thead>\n",
       "  <tbody>\n",
       "    <tr>\n",
       "      <th>3183</th>\n",
       "      <td>c964f5984d4b4c618fd95f49ea21cbb3</td>\n",
       "      <td>7cc0cb1871dfd558f11a2885c145d144</td>\n",
       "      <td>39</td>\n",
       "      <td>c964f5984d4b4c618fd95f49ea21cbb3</td>\n",
       "      <td>7cc0cb1871dfd558f11a2885c145d144</td>\n",
       "      <td>39</td>\n",
       "      <td>both</td>\n",
       "      <td>0</td>\n",
       "    </tr>\n",
       "    <tr>\n",
       "      <th>1933</th>\n",
       "      <td>78a645e72f5571d189d5d8fc3008aae7</td>\n",
       "      <td>13cc00cd32512520df2bf2ed36cb08a6</td>\n",
       "      <td>2</td>\n",
       "      <td>78a645e72f5571d189d5d8fc3008aae7</td>\n",
       "      <td>13cc00cd32512520df2bf2ed36cb08a6</td>\n",
       "      <td>2</td>\n",
       "      <td>both</td>\n",
       "      <td>0</td>\n",
       "    </tr>\n",
       "    <tr>\n",
       "      <th>607</th>\n",
       "      <td>274042f8582a0378749cf9302fa513c9</td>\n",
       "      <td>dbbe8ee4864a2715a40749605395d584</td>\n",
       "      <td>44</td>\n",
       "      <td>274042f8582a0378749cf9302fa513c9</td>\n",
       "      <td>dbbe8ee4864a2715a40749605395d584</td>\n",
       "      <td>44</td>\n",
       "      <td>both</td>\n",
       "      <td>0</td>\n",
       "    </tr>\n",
       "  </tbody>\n",
       "</table>\n",
       "</div>"
      ],
      "text/plain": [
       "                    og_shape_array_key      og_schedule_gtfs_dataset_key  \\\n",
       "3183  c964f5984d4b4c618fd95f49ea21cbb3  7cc0cb1871dfd558f11a2885c145d144   \n",
       "1933  78a645e72f5571d189d5d8fc3008aae7  13cc00cd32512520df2bf2ed36cb08a6   \n",
       "607   274042f8582a0378749cf9302fa513c9  dbbe8ee4864a2715a40749605395d584   \n",
       "\n",
       "      og_total_stops           testing_shape_array_key  \\\n",
       "3183              39  c964f5984d4b4c618fd95f49ea21cbb3   \n",
       "1933               2  78a645e72f5571d189d5d8fc3008aae7   \n",
       "607               44  274042f8582a0378749cf9302fa513c9   \n",
       "\n",
       "     testing_schedule_gtfs_dataset_key  testing_total_stops _merge  \\\n",
       "3183  7cc0cb1871dfd558f11a2885c145d144                   39   both   \n",
       "1933  13cc00cd32512520df2bf2ed36cb08a6                    2   both   \n",
       "607   dbbe8ee4864a2715a40749605395d584                   44   both   \n",
       "\n",
       "      total_thrown_out_stops  \n",
       "3183                       0  \n",
       "1933                       0  \n",
       "607                        0  "
      ]
     },
     "execution_count": 88,
     "metadata": {},
     "output_type": "execute_result"
    }
   ],
   "source": [
    "m1.sample(3)"
   ]
  },
  {
   "cell_type": "code",
   "execution_count": 89,
   "id": "d83cefa9-b005-4170-93d9-78e58bdf562d",
   "metadata": {},
   "outputs": [
    {
     "data": {
      "text/plain": [
       "both          4085\n",
       "left_only        0\n",
       "right_only       0\n",
       "Name: _merge, dtype: int64"
      ]
     },
     "execution_count": 89,
     "metadata": {},
     "output_type": "execute_result"
    }
   ],
   "source": [
    "m1._merge.value_counts()"
   ]
  },
  {
   "cell_type": "markdown",
   "id": "1c7c7868-fe1f-4182-ac32-480e86cdf6b6",
   "metadata": {},
   "source": [
    "* 28 routes are missing."
   ]
  },
  {
   "cell_type": "code",
   "execution_count": 90,
   "id": "33aa075a-74e0-4538-be13-f9b0ec78f55b",
   "metadata": {},
   "outputs": [
    {
     "data": {
      "text/plain": [
       "count   4085.00\n",
       "mean       0.00\n",
       "std        0.00\n",
       "min        0.00\n",
       "25%        0.00\n",
       "50%        0.00\n",
       "75%        0.00\n",
       "max        0.00\n",
       "Name: total_thrown_out_stops, dtype: float64"
      ]
     },
     "execution_count": 90,
     "metadata": {},
     "output_type": "execute_result"
    }
   ],
   "source": [
    "m1.total_thrown_out_stops.describe()"
   ]
  },
  {
   "cell_type": "markdown",
   "id": "ad49a707-454e-42e4-99e1-56c1d692dc45",
   "metadata": {},
   "source": [
    "#### Seeing all the sequences thrown out"
   ]
  },
  {
   "cell_type": "code",
   "execution_count": 91,
   "id": "8e77b3dc-7892-43f1-83ad-f578154c2f50",
   "metadata": {},
   "outputs": [
    {
     "data": {
      "text/plain": [
       "Index(['shape_array_key', 'stop_sequence', 'schedule_gtfs_dataset_key',\n",
       "       'stop_id', 'loop_or_inlining', 'geometry', 'district', 'district_name',\n",
       "       'p50_mph', 'n_trips', 'p20_mph', 'p80_mph', 'time_of_day'],\n",
       "      dtype='object')"
      ]
     },
     "execution_count": 91,
     "metadata": {},
     "output_type": "execute_result"
    }
   ],
   "source": [
    "og_avg.columns"
   ]
  },
  {
   "cell_type": "code",
   "execution_count": 92,
   "id": "493c2364-2032-495f-b628-7b21b5a29f5c",
   "metadata": {},
   "outputs": [],
   "source": [
    "merge_cols = ['shape_array_key', 'stop_sequence', 'schedule_gtfs_dataset_key',\n",
    "       'stop_id', 'loop_or_inlining']"
   ]
  },
  {
   "cell_type": "code",
   "execution_count": 93,
   "id": "d35823ea-60d4-49b9-8d69-f2c5910a01ea",
   "metadata": {},
   "outputs": [],
   "source": [
    "subset = ['shape_array_key', 'stop_sequence', 'schedule_gtfs_dataset_key',\n",
    "       'stop_id', 'loop_or_inlining', 'p50_mph', 'n_trips',\n",
    "       'p20_mph', 'p80_mph', 'time_of_day']"
   ]
  },
  {
   "cell_type": "code",
   "execution_count": 94,
   "id": "028e98e1-7562-40a2-95fe-c96b0cb9e7b4",
   "metadata": {},
   "outputs": [],
   "source": [
    "og_avg2 = og_avg[subset]"
   ]
  },
  {
   "cell_type": "code",
   "execution_count": 95,
   "id": "8140abe5-321d-4dbe-8fd6-0c64c477a99b",
   "metadata": {},
   "outputs": [
    {
     "data": {
      "text/plain": [
       "(230532, 10)"
      ]
     },
     "execution_count": 95,
     "metadata": {},
     "output_type": "execute_result"
    }
   ],
   "source": [
    "og_avg2.shape"
   ]
  },
  {
   "cell_type": "code",
   "execution_count": 96,
   "id": "977a07a0-83f3-4bbd-b56a-350b2c4ce089",
   "metadata": {},
   "outputs": [],
   "source": [
    "avg_test2 = avg_test[subset]"
   ]
  },
  {
   "cell_type": "code",
   "execution_count": 97,
   "id": "d519c382-3e3a-44ae-ad20-a65460810f8c",
   "metadata": {},
   "outputs": [
    {
     "data": {
      "text/plain": [
       "(227178, 10)"
      ]
     },
     "execution_count": 97,
     "metadata": {},
     "output_type": "execute_result"
    }
   ],
   "source": [
    "avg_test2.shape"
   ]
  },
  {
   "cell_type": "code",
   "execution_count": 98,
   "id": "b50d758b-a746-4bff-8216-58af01bf5732",
   "metadata": {},
   "outputs": [],
   "source": [
    "m2 = pd.merge(og_avg2, avg_test2, on = merge_cols, how = 'outer', indicator = True)"
   ]
  },
  {
   "cell_type": "markdown",
   "id": "da0514e9-8c48-45ec-a108-ba1cb2c5089e",
   "metadata": {},
   "source": [
    "* Why are some showing up in others...\n",
    "* Left: original, right: average."
   ]
  },
  {
   "cell_type": "code",
   "execution_count": 99,
   "id": "7bee76b2-b55b-40cc-bd6d-805c940b6f99",
   "metadata": {},
   "outputs": [
    {
     "data": {
      "text/plain": [
       "both          428098\n",
       "left_only          0\n",
       "right_only         0\n",
       "Name: _merge, dtype: int64"
      ]
     },
     "execution_count": 99,
     "metadata": {},
     "output_type": "execute_result"
    }
   ],
   "source": [
    "m2._merge.value_counts()"
   ]
  },
  {
   "cell_type": "code",
   "execution_count": 100,
   "id": "546b4ae5-9351-4521-bfb7-92356dca4d6f",
   "metadata": {
    "scrolled": true,
    "tags": []
   },
   "outputs": [],
   "source": [
    "one_subset = m2.loc[(m2.shape_array_key == \"000b8c60f7767e8214f6ef6638d2cb83\") & (m2.stop_id == \"2197\")]"
   ]
  },
  {
   "cell_type": "code",
   "execution_count": 101,
   "id": "80302e44-875d-4ffc-a8a5-50b167c243a0",
   "metadata": {},
   "outputs": [
    {
     "data": {
      "text/plain": [
       "(4, 16)"
      ]
     },
     "execution_count": 101,
     "metadata": {},
     "output_type": "execute_result"
    }
   ],
   "source": [
    "one_subset.shape"
   ]
  },
  {
   "cell_type": "code",
   "execution_count": 102,
   "id": "0634d1f4-d976-49d4-82ce-a7ee0cac5c05",
   "metadata": {},
   "outputs": [
    {
     "data": {
      "text/plain": [
       "(4, 16)"
      ]
     },
     "execution_count": 102,
     "metadata": {},
     "output_type": "execute_result"
    }
   ],
   "source": [
    "one_subset.drop_duplicates().shape"
   ]
  },
  {
   "cell_type": "code",
   "execution_count": 103,
   "id": "42eea79e-93fd-43d1-a68d-32d6d9c10107",
   "metadata": {},
   "outputs": [
    {
     "data": {
      "text/html": [
       "<div>\n",
       "<style scoped>\n",
       "    .dataframe tbody tr th:only-of-type {\n",
       "        vertical-align: middle;\n",
       "    }\n",
       "\n",
       "    .dataframe tbody tr th {\n",
       "        vertical-align: top;\n",
       "    }\n",
       "\n",
       "    .dataframe thead th {\n",
       "        text-align: right;\n",
       "    }\n",
       "</style>\n",
       "<table border=\"1\" class=\"dataframe\">\n",
       "  <thead>\n",
       "    <tr style=\"text-align: right;\">\n",
       "      <th></th>\n",
       "      <th>shape_array_key</th>\n",
       "      <th>stop_sequence</th>\n",
       "      <th>schedule_gtfs_dataset_key</th>\n",
       "      <th>stop_id</th>\n",
       "      <th>loop_or_inlining</th>\n",
       "      <th>p50_mph_x</th>\n",
       "      <th>n_trips_x</th>\n",
       "      <th>p20_mph_x</th>\n",
       "      <th>p80_mph_x</th>\n",
       "      <th>time_of_day_x</th>\n",
       "      <th>p50_mph_y</th>\n",
       "      <th>n_trips_y</th>\n",
       "      <th>p20_mph_y</th>\n",
       "      <th>p80_mph_y</th>\n",
       "      <th>time_of_day_y</th>\n",
       "      <th>_merge</th>\n",
       "    </tr>\n",
       "  </thead>\n",
       "  <tbody>\n",
       "    <tr>\n",
       "      <th>40</th>\n",
       "      <td>000b8c60f7767e8214f6ef6638d2cb83</td>\n",
       "      <td>12</td>\n",
       "      <td>78b44303c1714f6c6a4801637c2a5c9d</td>\n",
       "      <td>2197</td>\n",
       "      <td>0</td>\n",
       "      <td>0.63</td>\n",
       "      <td>7</td>\n",
       "      <td>0.26</td>\n",
       "      <td>2.31</td>\n",
       "      <td>all_day</td>\n",
       "      <td>2.65</td>\n",
       "      <td>2.00</td>\n",
       "      <td>2.62</td>\n",
       "      <td>2.68</td>\n",
       "      <td>all_day</td>\n",
       "      <td>both</td>\n",
       "    </tr>\n",
       "    <tr>\n",
       "      <th>41</th>\n",
       "      <td>000b8c60f7767e8214f6ef6638d2cb83</td>\n",
       "      <td>12</td>\n",
       "      <td>78b44303c1714f6c6a4801637c2a5c9d</td>\n",
       "      <td>2197</td>\n",
       "      <td>0</td>\n",
       "      <td>0.63</td>\n",
       "      <td>7</td>\n",
       "      <td>0.26</td>\n",
       "      <td>2.31</td>\n",
       "      <td>all_day</td>\n",
       "      <td>2.65</td>\n",
       "      <td>2.00</td>\n",
       "      <td>2.62</td>\n",
       "      <td>2.68</td>\n",
       "      <td>peak</td>\n",
       "      <td>both</td>\n",
       "    </tr>\n",
       "    <tr>\n",
       "      <th>42</th>\n",
       "      <td>000b8c60f7767e8214f6ef6638d2cb83</td>\n",
       "      <td>12</td>\n",
       "      <td>78b44303c1714f6c6a4801637c2a5c9d</td>\n",
       "      <td>2197</td>\n",
       "      <td>0</td>\n",
       "      <td>0.77</td>\n",
       "      <td>6</td>\n",
       "      <td>0.23</td>\n",
       "      <td>2.59</td>\n",
       "      <td>peak</td>\n",
       "      <td>2.65</td>\n",
       "      <td>2.00</td>\n",
       "      <td>2.62</td>\n",
       "      <td>2.68</td>\n",
       "      <td>all_day</td>\n",
       "      <td>both</td>\n",
       "    </tr>\n",
       "    <tr>\n",
       "      <th>43</th>\n",
       "      <td>000b8c60f7767e8214f6ef6638d2cb83</td>\n",
       "      <td>12</td>\n",
       "      <td>78b44303c1714f6c6a4801637c2a5c9d</td>\n",
       "      <td>2197</td>\n",
       "      <td>0</td>\n",
       "      <td>0.77</td>\n",
       "      <td>6</td>\n",
       "      <td>0.23</td>\n",
       "      <td>2.59</td>\n",
       "      <td>peak</td>\n",
       "      <td>2.65</td>\n",
       "      <td>2.00</td>\n",
       "      <td>2.62</td>\n",
       "      <td>2.68</td>\n",
       "      <td>peak</td>\n",
       "      <td>both</td>\n",
       "    </tr>\n",
       "  </tbody>\n",
       "</table>\n",
       "</div>"
      ],
      "text/plain": [
       "                     shape_array_key  stop_sequence  \\\n",
       "40  000b8c60f7767e8214f6ef6638d2cb83             12   \n",
       "41  000b8c60f7767e8214f6ef6638d2cb83             12   \n",
       "42  000b8c60f7767e8214f6ef6638d2cb83             12   \n",
       "43  000b8c60f7767e8214f6ef6638d2cb83             12   \n",
       "\n",
       "           schedule_gtfs_dataset_key stop_id  loop_or_inlining  p50_mph_x  \\\n",
       "40  78b44303c1714f6c6a4801637c2a5c9d    2197                 0       0.63   \n",
       "41  78b44303c1714f6c6a4801637c2a5c9d    2197                 0       0.63   \n",
       "42  78b44303c1714f6c6a4801637c2a5c9d    2197                 0       0.77   \n",
       "43  78b44303c1714f6c6a4801637c2a5c9d    2197                 0       0.77   \n",
       "\n",
       "    n_trips_x  p20_mph_x  p80_mph_x time_of_day_x  p50_mph_y  n_trips_y  \\\n",
       "40          7       0.26       2.31       all_day       2.65       2.00   \n",
       "41          7       0.26       2.31       all_day       2.65       2.00   \n",
       "42          6       0.23       2.59          peak       2.65       2.00   \n",
       "43          6       0.23       2.59          peak       2.65       2.00   \n",
       "\n",
       "    p20_mph_y  p80_mph_y time_of_day_y _merge  \n",
       "40       2.62       2.68       all_day   both  \n",
       "41       2.62       2.68          peak   both  \n",
       "42       2.62       2.68       all_day   both  \n",
       "43       2.62       2.68          peak   both  "
      ]
     },
     "execution_count": 103,
     "metadata": {},
     "output_type": "execute_result"
    }
   ],
   "source": [
    "one_subset.drop_duplicates()"
   ]
  }
 ],
 "metadata": {
  "kernelspec": {
   "display_name": "Python 3 (ipykernel)",
   "language": "python",
   "name": "python3"
  },
  "language_info": {
   "codemirror_mode": {
    "name": "ipython",
    "version": 3
   },
   "file_extension": ".py",
   "mimetype": "text/x-python",
   "name": "python",
   "nbconvert_exporter": "python",
   "pygments_lexer": "ipython3",
   "version": "3.9.13"
  },
  "toc-autonumbering": false,
  "toc-showcode": false
 },
 "nbformat": 4,
 "nbformat_minor": 5
}
