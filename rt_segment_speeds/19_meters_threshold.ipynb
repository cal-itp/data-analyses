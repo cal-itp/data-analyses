{
 "cells": [
  {
   "cell_type": "code",
   "execution_count": 1,
   "id": "3d2ca779-5cd7-4f98-8e9f-344e9d4dcf46",
   "metadata": {},
   "outputs": [
    {
     "name": "stderr",
     "output_type": "stream",
     "text": [
      "/opt/conda/lib/python3.9/site-packages/geopandas/_compat.py:124: UserWarning: The Shapely GEOS version (3.11.1-CAPI-1.17.1) is incompatible with the GEOS version PyGEOS was compiled with (3.10.1-CAPI-1.16.0). Conversions between both will be slow.\n",
      "  warnings.warn(\n",
      "/tmp/ipykernel_268/3696898552.py:4: DeprecationWarning: Shapely 2.0 is installed, but because PyGEOS is also installed, GeoPandas still uses PyGEOS by default. However, starting with version 0.14, the default will switch to Shapely. To force to use Shapely 2.0 now, you can either uninstall PyGEOS or set the environment variable USE_PYGEOS=0. You can do this before starting the Python process, or in your code before importing geopandas:\n",
      "\n",
      "import os\n",
      "os.environ['USE_PYGEOS'] = '0'\n",
      "import geopandas\n",
      "\n",
      "In the next release, GeoPandas will switch to using Shapely by default, even if PyGEOS is installed. If you only have PyGEOS installed to get speed-ups, this switch should be smooth. However, if you are using PyGEOS directly (calling PyGEOS functions on geometries from GeoPandas), this will then stop working and you are encouraged to migrate from PyGEOS to Shapely 2.0 (https://shapely.readthedocs.io/en/latest/migration_pygeos.html).\n",
      "  import geopandas as gpd\n"
     ]
    }
   ],
   "source": [
    "import datetime\n",
    "import dask.dataframe as dd\n",
    "import numpy as np\n",
    "import geopandas as gpd\n",
    "import pandas as pd\n",
    "import altair as alt\n",
    "from segment_speed_utils import gtfs_schedule_wrangling, helpers, segment_calcs,sched_rt_utils\n",
    "from segment_speed_utils.project_vars import (\n",
    "    COMPILED_CACHED_VIEWS,\n",
    "    PROJECT_CRS,\n",
    "    SEGMENT_GCS,  \n",
    "    analysis_date,\n",
    ")\n",
    "from scripts import (A1_sjoin_vp_segments, A2_valid_vehicle_positions,B2_avg_speeds_by_segment)\n",
    "from shared_utils import calitp_color_palette as cp, rt_utils, geography_utils\n",
    "import _threshold_utils as threshold_utils\n",
    "import _rt_scheduled_utils as rt_scheduled_utils\n",
    "CONFIG_PATH = './scripts/config.yml'\n",
    "STOP_SEG_DICT = helpers.get_parameters(CONFIG_PATH, \"stop_segments\")"
   ]
  },
  {
   "cell_type": "code",
   "execution_count": 2,
   "id": "6305e1fd-3383-4960-baa2-db169e86033d",
   "metadata": {},
   "outputs": [],
   "source": [
    "pd.options.display.max_columns = 100\n",
    "pd.options.display.float_format = \"{:.2f}\".format\n",
    "pd.set_option(\"display.max_rows\", None)\n",
    "pd.set_option(\"display.max_colwidth\", None)"
   ]
  },
  {
   "cell_type": "markdown",
   "id": "d35de724-b1b8-4d91-a37d-f4aa06120777",
   "metadata": {
    "tags": []
   },
   "source": [
    "## % of Meters\n",
    "* start with the speeds_stop_segments_{analysis_date} parquet (which is produced in B1_speeds_by_segment_trip ).\n",
    "* grab in stop_segments_{analysis_date} (in CRS 3310 already), and you can get the segment's length.\n",
    "* merge with the speeds by segment-trip, which contains the meters_elapsed column\n",
    "* calculate pct where meters_elapsed/segment_length\n",
    "* show me some charts around this, a couple of descriptives to make sure these are all ok\n",
    "* give me rough descriptives of how many rows we're dropping if we go with keeping at least 30%, 40%, 50%"
   ]
  },
  {
   "cell_type": "markdown",
   "id": "c6c7cedd-6da8-4888-83da-c52003d6ea35",
   "metadata": {},
   "source": [
    "### Open these files just for testing"
   ]
  },
  {
   "cell_type": "code",
   "execution_count": 3,
   "id": "62548e77-825c-4ed3-9f90-05a07e0fab82",
   "metadata": {},
   "outputs": [],
   "source": [
    "def import_speeds_segs(analysis_date:str, \n",
    "                       max_speed_cutoff: int, \n",
    "                       dict_inputs:dict)-> pd.DataFrame:\n",
    "    FILE = dict_inputs['stage4']\n",
    "    df = pd.read_parquet(f\"{SEGMENT_GCS}{FILE}_{analysis_date}\", \n",
    "        filters = [[(\"speed_mph\", \"<=\", max_speed_cutoff)]])\n",
    "    \n",
    "    return df"
   ]
  },
  {
   "cell_type": "code",
   "execution_count": 4,
   "id": "c90ac266-38ca-4e94-ab25-68ee40829605",
   "metadata": {},
   "outputs": [],
   "source": [
    "def load_segments(analysis_date:str, dict_inputs:dict) -> gpd.GeoDataFrame:\n",
    "    # Load in ALL segments, find the length\n",
    "    FILE = dict_inputs['segments_file']\n",
    "    segments = gpd.read_parquet(f\"{SEGMENT_GCS}{FILE}_{analysis_date}.parquet\")\n",
    "    \n",
    "    return segments"
   ]
  },
  {
   "cell_type": "markdown",
   "id": "857ab4ad-1dde-4c65-bd88-99696ab9f478",
   "metadata": {},
   "source": [
    "### Open Files\n",
    "* Add `import_speeds_segs`,`calculate_segment_length`,`merge_segments_speeds` into `B2`"
   ]
  },
  {
   "cell_type": "code",
   "execution_count": 5,
   "id": "f07df469-d682-44ee-8ae3-83446c000d21",
   "metadata": {},
   "outputs": [],
   "source": [
    "# dict_inputs = helpers.get_parameters(CONFIG_PATH, \"stop_segments\")"
   ]
  },
  {
   "cell_type": "code",
   "execution_count": 6,
   "id": "ab54a5c4-d9e5-49c3-a70d-cb0f0034a99c",
   "metadata": {},
   "outputs": [],
   "source": [
    "# dict_inputs"
   ]
  },
  {
   "cell_type": "code",
   "execution_count": 7,
   "id": "ec7d196d-3dd3-445b-bd8a-9daf48fa5a88",
   "metadata": {},
   "outputs": [],
   "source": [
    "dictionary = helpers.get_parameters(CONFIG_PATH, \"stop_segments\")"
   ]
  },
  {
   "cell_type": "code",
   "execution_count": 8,
   "id": "e3729d9a-b12a-4e19-8a54-fc6167f6bc93",
   "metadata": {},
   "outputs": [],
   "source": [
    "speeds = import_speeds_segs(analysis_date,70, dictionary)"
   ]
  },
  {
   "cell_type": "code",
   "execution_count": 9,
   "id": "71eecb32-4d8d-4691-aad5-c3336028edb5",
   "metadata": {},
   "outputs": [],
   "source": [
    "segments_gdf = load_segments(analysis_date, dictionary)"
   ]
  },
  {
   "cell_type": "code",
   "execution_count": 10,
   "id": "9527de7c-e540-431d-a4a6-ed701a323236",
   "metadata": {},
   "outputs": [],
   "source": [
    "def calculate_segment_length(segments:gpd.GeoDataFrame) -> gpd.GeoDataFrame:\n",
    "    # Load in ALL segments, find the length\n",
    "    segments = segments.assign(\n",
    "        meters_length=(segments.geometry.length)\n",
    "    )\n",
    "    df = segments.drop(columns = ['geometry','district','district_name'])\n",
    "    \n",
    "    return df"
   ]
  },
  {
   "cell_type": "code",
   "execution_count": 11,
   "id": "961e15dc-1c07-411f-92be-785721b7d67e",
   "metadata": {},
   "outputs": [],
   "source": [
    "def merge_segments_speeds(speeds: pd.DataFrame,\n",
    "                          segments:gpd.GeoDataFrame, \n",
    "                          ) -> pd.DataFrame:\n",
    "    \"\"\"\n",
    "    Merge speeds and segments. Calculate length\n",
    "    \"\"\"\n",
    "    segments = calculate_segment_length(segments)\n",
    "    \n",
    "    merge_cols = ['shape_array_key','stop_sequence','schedule_gtfs_dataset_key']\n",
    "    merge1 = pd.merge(segments, speeds, on = merge_cols, how = \"inner\")\n",
    "    \n",
    "    merge1['percent'] = merge1.meters_elapsed/merge1.meters_length * 100\n",
    "    \n",
    "    merge1.percent = merge1.percent.fillna(0)\n",
    "    return merge1"
   ]
  },
  {
   "cell_type": "code",
   "execution_count": 12,
   "id": "0e727efb-8136-4cdc-b9a5-c9bb17bf74cd",
   "metadata": {},
   "outputs": [],
   "source": [
    "merge1 = merge_segments_speeds(speeds, segments_gdf)"
   ]
  },
  {
   "cell_type": "code",
   "execution_count": 13,
   "id": "e0d81d69-30b0-47c1-a560-083eaaac5496",
   "metadata": {},
   "outputs": [],
   "source": [
    "def myround(x, base=5):\n",
    "    return base * round(x/base)"
   ]
  },
  {
   "cell_type": "code",
   "execution_count": 14,
   "id": "d7737449-92b0-417e-ad76-fceb20e9403e",
   "metadata": {},
   "outputs": [],
   "source": [
    "def valid_trips_by_cutoff(df, percentages:list):\n",
    "    final = pd.DataFrame()\n",
    "    og_len = len(df)\n",
    "    og_trips = df.trip_id.nunique()\n",
    "    og_shape_array_key = df.shape_array_key.nunique()\n",
    "    \n",
    "    for i in percentages:\n",
    "        # Round up percent to nearest 5. Ex: 43 becomes 45.\n",
    "        percent = myround(df.percent.quantile(i).astype(float))\n",
    "        temp = (df[(df.percent >= percent)])\n",
    "        \n",
    "        temp = temp.assign(\n",
    "            percentile = f\"Min. of {percent}% of seg length covered\")\n",
    "        \n",
    "        temp = (temp\n",
    "                .groupby(['percentile'])\n",
    "                .agg({'gtfs_dataset_name':'count',\n",
    "                      'speed_mph':'mean',\n",
    "                      'shape_array_key':'nunique',\n",
    "                     'trip_id':'nunique',\n",
    "                     'gtfs_dataset_key':'nunique'})\n",
    "                .reset_index()\n",
    "                .rename(columns = {'gtfs_dataset_name':'n_rows',\n",
    "                                  'speed_mph':'mean_speed_mph',\n",
    "                                  'shape_array_key':'n_kept_routes',\n",
    "                                  'trip_id':'n_kept_trips',\n",
    "                                  'gtfs_dataset_key':'n_kept_operators'})\n",
    "               )\n",
    "        \n",
    "        final = pd.concat([final, temp], axis=0)\n",
    "\n",
    "    \n",
    "    final = final.assign(\n",
    "        percentage_kept_rows=final.n_rows.divide(og_len) * 100,\n",
    "        percentage_kept_trips = final.n_kept_trips.divide(og_trips) * 100,\n",
    "        percentage_kept_routes = final.n_kept_routes.divide(og_shape_array_key)*100)\n",
    "    \n",
    "    round_cols = ['percentage_kept_rows', 'percentage_kept_trips', 'percentage_kept_routes']\n",
    "    final[round_cols] = final[round_cols].round(0)\n",
    "    return final"
   ]
  },
  {
   "cell_type": "code",
   "execution_count": 15,
   "id": "02da2cef-c921-4d79-856b-a797f715b7ed",
   "metadata": {},
   "outputs": [],
   "source": [
    "test = valid_trips_by_cutoff(merge1, [.1,.2,.3,.4,.5,.6,.7])"
   ]
  },
  {
   "cell_type": "code",
   "execution_count": 16,
   "id": "20aff75d-f059-4af5-aa71-aaed42d55674",
   "metadata": {},
   "outputs": [],
   "source": [
    "#test"
   ]
  },
  {
   "cell_type": "markdown",
   "id": "1483859e-bd07-4d5f-b86f-0f9d7bebe121",
   "metadata": {
    "tags": []
   },
   "source": [
    "## Visualizing Speed\n",
    "* https://nbviewer.org/github/cal-itp/data-analyses/blob/filter-speeds-avgs/rt_segment_speeds/18_speed_distribution.ipynb\n",
    "* https://analysis.calitp.org/rt/district_07-los-angeles/9__speedmaps__district_07-los-angeles__itp_id_300.html"
   ]
  },
  {
   "cell_type": "markdown",
   "id": "938e5d67-7fd0-4d62-af9d-0f26d08f12ed",
   "metadata": {},
   "source": [
    "### % of rows kept"
   ]
  },
  {
   "cell_type": "code",
   "execution_count": 17,
   "id": "561eb328-18d5-4b2a-bd1e-4777b23b765c",
   "metadata": {},
   "outputs": [],
   "source": [
    "test = threshold_utils.pre_clean(test)"
   ]
  },
  {
   "cell_type": "code",
   "execution_count": 18,
   "id": "4e049588-bb4b-4e00-ac0c-d4f836cac1e0",
   "metadata": {},
   "outputs": [
    {
     "data": {
      "text/html": [
       "<div>\n",
       "<style scoped>\n",
       "    .dataframe tbody tr th:only-of-type {\n",
       "        vertical-align: middle;\n",
       "    }\n",
       "\n",
       "    .dataframe tbody tr th {\n",
       "        vertical-align: top;\n",
       "    }\n",
       "\n",
       "    .dataframe thead th {\n",
       "        text-align: right;\n",
       "    }\n",
       "</style>\n",
       "<table border=\"1\" class=\"dataframe\">\n",
       "  <thead>\n",
       "    <tr style=\"text-align: right;\">\n",
       "      <th></th>\n",
       "      <th>Percentile</th>\n",
       "      <th>N Rows</th>\n",
       "      <th>Mean Speed Mph</th>\n",
       "      <th>N Kept Routes</th>\n",
       "      <th>N Kept Trips</th>\n",
       "      <th>N Kept Operators</th>\n",
       "      <th>Percentage Kept Rows</th>\n",
       "      <th>Percentage Kept Trips</th>\n",
       "      <th>Percentage Kept Routes</th>\n",
       "    </tr>\n",
       "  </thead>\n",
       "  <tbody>\n",
       "    <tr>\n",
       "      <th>0</th>\n",
       "      <td>Min. of 10% of seg length covered</td>\n",
       "      <td>2026035</td>\n",
       "      <td>11.80</td>\n",
       "      <td>4080</td>\n",
       "      <td>65939</td>\n",
       "      <td>74</td>\n",
       "      <td>90.00</td>\n",
       "      <td>100.00</td>\n",
       "      <td>100.00</td>\n",
       "    </tr>\n",
       "    <tr>\n",
       "      <th>0</th>\n",
       "      <td>Min. of 40% of seg length covered</td>\n",
       "      <td>1820711</td>\n",
       "      <td>12.30</td>\n",
       "      <td>4066</td>\n",
       "      <td>65709</td>\n",
       "      <td>74</td>\n",
       "      <td>81.00</td>\n",
       "      <td>99.00</td>\n",
       "      <td>99.00</td>\n",
       "    </tr>\n",
       "    <tr>\n",
       "      <th>0</th>\n",
       "      <td>Min. of 60% of seg length covered</td>\n",
       "      <td>1573312</td>\n",
       "      <td>12.20</td>\n",
       "      <td>4055</td>\n",
       "      <td>65424</td>\n",
       "      <td>74</td>\n",
       "      <td>70.00</td>\n",
       "      <td>99.00</td>\n",
       "      <td>99.00</td>\n",
       "    </tr>\n",
       "    <tr>\n",
       "      <th>0</th>\n",
       "      <td>Min. of 75% of seg length covered</td>\n",
       "      <td>1308198</td>\n",
       "      <td>11.80</td>\n",
       "      <td>4039</td>\n",
       "      <td>64949</td>\n",
       "      <td>74</td>\n",
       "      <td>58.00</td>\n",
       "      <td>98.00</td>\n",
       "      <td>99.00</td>\n",
       "    </tr>\n",
       "    <tr>\n",
       "      <th>0</th>\n",
       "      <td>Min. of 85% of seg length covered</td>\n",
       "      <td>1070347</td>\n",
       "      <td>11.50</td>\n",
       "      <td>4019</td>\n",
       "      <td>64120</td>\n",
       "      <td>74</td>\n",
       "      <td>48.00</td>\n",
       "      <td>97.00</td>\n",
       "      <td>98.00</td>\n",
       "    </tr>\n",
       "    <tr>\n",
       "      <th>0</th>\n",
       "      <td>Min. of 90% of seg length covered</td>\n",
       "      <td>914280</td>\n",
       "      <td>11.20</td>\n",
       "      <td>3987</td>\n",
       "      <td>63142</td>\n",
       "      <td>74</td>\n",
       "      <td>41.00</td>\n",
       "      <td>95.00</td>\n",
       "      <td>98.00</td>\n",
       "    </tr>\n",
       "    <tr>\n",
       "      <th>0</th>\n",
       "      <td>Min. of 95% of seg length covered</td>\n",
       "      <td>698923</td>\n",
       "      <td>10.80</td>\n",
       "      <td>3917</td>\n",
       "      <td>61293</td>\n",
       "      <td>74</td>\n",
       "      <td>31.00</td>\n",
       "      <td>93.00</td>\n",
       "      <td>96.00</td>\n",
       "    </tr>\n",
       "  </tbody>\n",
       "</table>\n",
       "</div>"
      ],
      "text/plain": [
       "                          Percentile   N Rows  Mean Speed Mph  N Kept Routes  \\\n",
       "0  Min. of 10% of seg length covered  2026035           11.80           4080   \n",
       "0  Min. of 40% of seg length covered  1820711           12.30           4066   \n",
       "0  Min. of 60% of seg length covered  1573312           12.20           4055   \n",
       "0  Min. of 75% of seg length covered  1308198           11.80           4039   \n",
       "0  Min. of 85% of seg length covered  1070347           11.50           4019   \n",
       "0  Min. of 90% of seg length covered   914280           11.20           3987   \n",
       "0  Min. of 95% of seg length covered   698923           10.80           3917   \n",
       "\n",
       "   N Kept Trips  N Kept Operators  Percentage Kept Rows  \\\n",
       "0         65939                74                 90.00   \n",
       "0         65709                74                 81.00   \n",
       "0         65424                74                 70.00   \n",
       "0         64949                74                 58.00   \n",
       "0         64120                74                 48.00   \n",
       "0         63142                74                 41.00   \n",
       "0         61293                74                 31.00   \n",
       "\n",
       "   Percentage Kept Trips  Percentage Kept Routes  \n",
       "0                 100.00                  100.00  \n",
       "0                  99.00                   99.00  \n",
       "0                  99.00                   99.00  \n",
       "0                  98.00                   99.00  \n",
       "0                  97.00                   98.00  \n",
       "0                  95.00                   98.00  \n",
       "0                  93.00                   96.00  "
      ]
     },
     "execution_count": 18,
     "metadata": {},
     "output_type": "execute_result"
    }
   ],
   "source": [
    "test"
   ]
  },
  {
   "cell_type": "code",
   "execution_count": 19,
   "id": "65d0b237-544f-4245-9de0-f2308ae8c8f2",
   "metadata": {},
   "outputs": [],
   "source": [
    "# Main chart\n",
    "def bar_chart(df, x_column: str, y_column:str, title:str):\n",
    "    chart = (alt.Chart(df)\n",
    "         .mark_bar()\n",
    "         .encode(x=x_column, y= y_column, \n",
    "          color=alt.Color(y_column, \n",
    "          scale=alt.Scale(range=cp.CALITP_CATEGORY_BRIGHT_COLORS),\n",
    "          legend=None),\n",
    "          tooltip = df.columns.tolist())\n",
    "         .properties(title = title)\n",
    "            )\n",
    "    chart = threshold_utils.chart_size((chart), 400,300)\n",
    "    return chart\n",
    "    "
   ]
  },
  {
   "cell_type": "code",
   "execution_count": 20,
   "id": "4c8a453f-e38f-4a37-9a3e-06f8069f7dca",
   "metadata": {},
   "outputs": [
    {
     "data": {
      "text/html": [
       "\n",
       "<style>\n",
       "  #altair-viz-8251711dfb12494aa106909ae1555650.vega-embed {\n",
       "    width: 100%;\n",
       "    display: flex;\n",
       "  }\n",
       "\n",
       "  #altair-viz-8251711dfb12494aa106909ae1555650.vega-embed details,\n",
       "  #altair-viz-8251711dfb12494aa106909ae1555650.vega-embed details summary {\n",
       "    position: relative;\n",
       "  }\n",
       "</style>\n",
       "<div id=\"altair-viz-8251711dfb12494aa106909ae1555650\"></div>\n",
       "<script type=\"text/javascript\">\n",
       "  var VEGA_DEBUG = (typeof VEGA_DEBUG == \"undefined\") ? {} : VEGA_DEBUG;\n",
       "  (function(spec, embedOpt){\n",
       "    let outputDiv = document.currentScript.previousElementSibling;\n",
       "    if (outputDiv.id !== \"altair-viz-8251711dfb12494aa106909ae1555650\") {\n",
       "      outputDiv = document.getElementById(\"altair-viz-8251711dfb12494aa106909ae1555650\");\n",
       "    }\n",
       "    const paths = {\n",
       "      \"vega\": \"https://cdn.jsdelivr.net/npm/vega@5?noext\",\n",
       "      \"vega-lib\": \"https://cdn.jsdelivr.net/npm/vega-lib?noext\",\n",
       "      \"vega-lite\": \"https://cdn.jsdelivr.net/npm/vega-lite@5.8.0?noext\",\n",
       "      \"vega-embed\": \"https://cdn.jsdelivr.net/npm/vega-embed@6?noext\",\n",
       "    };\n",
       "\n",
       "    function maybeLoadScript(lib, version) {\n",
       "      var key = `${lib.replace(\"-\", \"\")}_version`;\n",
       "      return (VEGA_DEBUG[key] == version) ?\n",
       "        Promise.resolve(paths[lib]) :\n",
       "        new Promise(function(resolve, reject) {\n",
       "          var s = document.createElement('script');\n",
       "          document.getElementsByTagName(\"head\")[0].appendChild(s);\n",
       "          s.async = true;\n",
       "          s.onload = () => {\n",
       "            VEGA_DEBUG[key] = version;\n",
       "            return resolve(paths[lib]);\n",
       "          };\n",
       "          s.onerror = () => reject(`Error loading script: ${paths[lib]}`);\n",
       "          s.src = paths[lib];\n",
       "        });\n",
       "    }\n",
       "\n",
       "    function showError(err) {\n",
       "      outputDiv.innerHTML = `<div class=\"error\" style=\"color:red;\">${err}</div>`;\n",
       "      throw err;\n",
       "    }\n",
       "\n",
       "    function displayChart(vegaEmbed) {\n",
       "      vegaEmbed(outputDiv, spec, embedOpt)\n",
       "        .catch(err => showError(`Javascript Error: ${err.message}<br>This usually means there's a typo in your chart specification. See the javascript console for the full traceback.`));\n",
       "    }\n",
       "\n",
       "    if(typeof define === \"function\" && define.amd) {\n",
       "      requirejs.config({paths});\n",
       "      require([\"vega-embed\"], displayChart, err => showError(`Error loading script: ${err.message}`));\n",
       "    } else {\n",
       "      maybeLoadScript(\"vega\", \"5\")\n",
       "        .then(() => maybeLoadScript(\"vega-lite\", \"5.8.0\"))\n",
       "        .then(() => maybeLoadScript(\"vega-embed\", \"6\"))\n",
       "        .catch(showError)\n",
       "        .then(() => displayChart(vegaEmbed));\n",
       "    }\n",
       "  })({\"config\": {\"view\": {\"continuousWidth\": 300, \"continuousHeight\": 300}}, \"data\": {\"name\": \"data-aa1d849299806c8207b1fa963259d464\"}, \"mark\": {\"type\": \"bar\"}, \"encoding\": {\"color\": {\"field\": \"Percentile\", \"legend\": null, \"scale\": {\"range\": [\"#2EA8CE\", \"#EB9F3C\", \"#F4D837\", \"#51BF9D\", \"#8CBCCB\", \"#9487C0\"]}, \"type\": \"nominal\"}, \"tooltip\": [{\"field\": \"Percentile\", \"type\": \"nominal\"}, {\"field\": \"N Rows\", \"type\": \"quantitative\"}, {\"field\": \"Mean Speed Mph\", \"type\": \"quantitative\"}, {\"field\": \"N Kept Routes\", \"type\": \"quantitative\"}, {\"field\": \"N Kept Trips\", \"type\": \"quantitative\"}, {\"field\": \"N Kept Operators\", \"type\": \"quantitative\"}, {\"field\": \"Percentage Kept Rows\", \"type\": \"quantitative\"}, {\"field\": \"Percentage Kept Trips\", \"type\": \"quantitative\"}, {\"field\": \"Percentage Kept Routes\", \"type\": \"quantitative\"}], \"x\": {\"field\": \"Percentage Kept Rows\", \"type\": \"quantitative\"}, \"y\": {\"field\": \"Percentile\", \"type\": \"nominal\"}}, \"height\": 300, \"title\": \"Rows Kept After % Segment Cutoff\", \"width\": 400, \"$schema\": \"https://vega.github.io/schema/vega-lite/v5.8.0.json\", \"datasets\": {\"data-aa1d849299806c8207b1fa963259d464\": [{\"Percentile\": \"Min. of 10% of seg length covered\", \"N Rows\": 2026035, \"Mean Speed Mph\": 11.8, \"N Kept Routes\": 4080, \"N Kept Trips\": 65939, \"N Kept Operators\": 74, \"Percentage Kept Rows\": 90.0, \"Percentage Kept Trips\": 100.0, \"Percentage Kept Routes\": 100.0}, {\"Percentile\": \"Min. of 40% of seg length covered\", \"N Rows\": 1820711, \"Mean Speed Mph\": 12.3, \"N Kept Routes\": 4066, \"N Kept Trips\": 65709, \"N Kept Operators\": 74, \"Percentage Kept Rows\": 81.0, \"Percentage Kept Trips\": 99.0, \"Percentage Kept Routes\": 99.0}, {\"Percentile\": \"Min. of 60% of seg length covered\", \"N Rows\": 1573312, \"Mean Speed Mph\": 12.2, \"N Kept Routes\": 4055, \"N Kept Trips\": 65424, \"N Kept Operators\": 74, \"Percentage Kept Rows\": 70.0, \"Percentage Kept Trips\": 99.0, \"Percentage Kept Routes\": 99.0}, {\"Percentile\": \"Min. of 75% of seg length covered\", \"N Rows\": 1308198, \"Mean Speed Mph\": 11.8, \"N Kept Routes\": 4039, \"N Kept Trips\": 64949, \"N Kept Operators\": 74, \"Percentage Kept Rows\": 58.0, \"Percentage Kept Trips\": 98.0, \"Percentage Kept Routes\": 99.0}, {\"Percentile\": \"Min. of 85% of seg length covered\", \"N Rows\": 1070347, \"Mean Speed Mph\": 11.5, \"N Kept Routes\": 4019, \"N Kept Trips\": 64120, \"N Kept Operators\": 74, \"Percentage Kept Rows\": 48.0, \"Percentage Kept Trips\": 97.0, \"Percentage Kept Routes\": 98.0}, {\"Percentile\": \"Min. of 90% of seg length covered\", \"N Rows\": 914280, \"Mean Speed Mph\": 11.2, \"N Kept Routes\": 3987, \"N Kept Trips\": 63142, \"N Kept Operators\": 74, \"Percentage Kept Rows\": 41.0, \"Percentage Kept Trips\": 95.0, \"Percentage Kept Routes\": 98.0}, {\"Percentile\": \"Min. of 95% of seg length covered\", \"N Rows\": 698923, \"Mean Speed Mph\": 10.8, \"N Kept Routes\": 3917, \"N Kept Trips\": 61293, \"N Kept Operators\": 74, \"Percentage Kept Rows\": 31.0, \"Percentage Kept Trips\": 93.0, \"Percentage Kept Routes\": 96.0}]}}, {\"mode\": \"vega-lite\"});\n",
       "</script>"
      ],
      "text/plain": [
       "alt.Chart(...)"
      ]
     },
     "execution_count": 20,
     "metadata": {},
     "output_type": "execute_result"
    }
   ],
   "source": [
    "bar_chart(test, 'Percentage Kept Rows','Percentile', 'Rows Kept After % Segment Cutoff')"
   ]
  },
  {
   "cell_type": "markdown",
   "id": "5c7ed892-21b4-434c-bc90-c76514e446d2",
   "metadata": {},
   "source": [
    "## Only keep speeds that meet a certain threshold\n",
    "* Put it in `speeds_with_segment_geom` in `B2`"
   ]
  },
  {
   "cell_type": "code",
   "execution_count": 21,
   "id": "ee843630-501d-4a46-82a4-8005cb0f4fe4",
   "metadata": {},
   "outputs": [],
   "source": [
    "def speeds_length_filter(speeds: pd.DataFrame,\n",
    "                         segments: gpd.GeoDataFrame,\n",
    "                         percentile: float = 0.20) -> pd.DataFrame:\n",
    "    \n",
    "    # df = merge_segments_speeds(segments, analysis_date, max_speed_cut_off,dict_inputs)\n",
    "    df= merge_segments_speeds(speeds, segments_gdf)\n",
    "    \n",
    "    percent = df.percent.quantile(percentile).astype(float)\n",
    "    \n",
    "    df = (df[(df.percent >= percent)])\n",
    "\n",
    "    columns_to_keep = ['shape_array_key', 'stop_sequence', 'gtfs_dataset_key',\n",
    "       'gtfs_dataset_name', 'trip_id', 'min_time', 'min_dist', 'max_time',\n",
    "       'max_dist', 'meters_elapsed', 'sec_elapsed', 'speed_mph',\n",
    "       'trip_instance_key', 'schedule_gtfs_dataset_key',]\n",
    "    \n",
    "    df = df[columns_to_keep]\n",
    "    \n",
    "    return df "
   ]
  },
  {
   "cell_type": "markdown",
   "id": "508cf5a1-bc2c-4fb8-904f-62cfc19fc04f",
   "metadata": {},
   "source": [
    "### Edited B2 function"
   ]
  },
  {
   "cell_type": "code",
   "execution_count": 22,
   "id": "c00cef57-a7f9-474a-8ad2-9719d3d375e8",
   "metadata": {},
   "outputs": [],
   "source": [
    "def speeds_with_segment_geom(\n",
    "    analysis_date: str, \n",
    "    max_speed_cutoff: int = 70,\n",
    "    dict_inputs: dict = {},\n",
    "    percentile:float = 0.20,\n",
    ") -> gpd.GeoDataFrame: \n",
    "    \"\"\"\n",
    "    Import the segment-trip table. \n",
    "    Average the speed_mph across all trips present in the segment.\n",
    "    \"\"\"\n",
    "    SEGMENT_FILE = dict_inputs[\"segments_file\"]\n",
    "    SEGMENT_IDENTIFIER_COLS = dict_inputs[\"segment_identifier_cols\"]\n",
    "    SPEEDS_FILE = dict_inputs[\"stage4\"]\n",
    "    \n",
    "    # Merge in segment geometry\n",
    "    segments = helpers.import_segments(\n",
    "        SEGMENT_GCS,\n",
    "        f\"{SEGMENT_FILE}_{analysis_date}\",\n",
    "        columns = SEGMENT_IDENTIFIER_COLS + [\n",
    "            \"schedule_gtfs_dataset_key\", \n",
    "            \"stop_id\",\n",
    "            \"loop_or_inlining\",\n",
    "            \"geometry\", \n",
    "            \"district\", \"district_name\"\n",
    "        ]\n",
    "    )\n",
    "    \n",
    "    # Read in speeds\n",
    "    df = pd.read_parquet(\n",
    "        f\"{SEGMENT_GCS}{SPEEDS_FILE}_{analysis_date}\", \n",
    "        filters = [[(\"speed_mph\", \"<=\", max_speed_cutoff), \n",
    "                    (\"sec_elapsed\", \">\", 0), \n",
    "                    (\"meters_elapsed\", \">\", 0)\n",
    "                   ]]\n",
    "    )\n",
    "    \n",
    "    df = df[df.speed_mph.notna() ].reset_index(drop=True)\n",
    "    \n",
    "    # Filter out abnormally high and low speeds\n",
    "    # Threshold defaults to throwing away the bottom 20% of rows with low speeds.\n",
    "    df = speeds_length_filter(df, segments, percentile)\n",
    "    \n",
    "    time_of_day_df = sched_rt_utils.get_trip_time_buckets(analysis_date)\n",
    "\n",
    "    df2 = pd.merge(\n",
    "        df, \n",
    "        time_of_day_df, \n",
    "        on = \"trip_instance_key\", \n",
    "        how = \"inner\"\n",
    "    )\n",
    "    \n",
    "    all_day = B2_avg_speeds_by_segment.calculate_avg_speeds(\n",
    "        df2, \n",
    "        SEGMENT_IDENTIFIER_COLS\n",
    "    )\n",
    "    \n",
    "    peak = B2_avg_speeds_by_segment.calculate_avg_speeds(\n",
    "        df2[df2.time_of_day.isin([\"AM Peak\", \"PM Peak\"])], \n",
    "        SEGMENT_IDENTIFIER_COLS\n",
    "    )\n",
    "    \n",
    "    stats = pd.concat([\n",
    "        all_day.assign(time_of_day = \"all_day\"),\n",
    "        peak.assign(time_of_day = \"peak\")\n",
    "    ], axis=0)\n",
    "    \n",
    "    # Merge in segment geometry with a changed CRS\n",
    "    segments = segments.to_crs(geography_utils.WGS84)\n",
    "    \n",
    "    gdf = pd.merge(\n",
    "        segments,\n",
    "        stats,\n",
    "        on = SEGMENT_IDENTIFIER_COLS,\n",
    "        how = \"inner\"\n",
    "    )\n",
    "    \n",
    "    return gdf"
   ]
  },
  {
   "cell_type": "markdown",
   "id": "04682811-eda1-424f-9a3d-4609f37f5a80",
   "metadata": {},
   "source": [
    "### Check out speeds"
   ]
  },
  {
   "cell_type": "code",
   "execution_count": 23,
   "id": "5355132e-988c-40f0-8648-afaf5fe9b026",
   "metadata": {},
   "outputs": [],
   "source": [
    "# Teakes around 7 minutes\n",
    "avg_test = speeds_with_segment_geom(analysis_date, \n",
    "                                    70, \n",
    "                                    dictionary,\n",
    "                                    0.2)"
   ]
  },
  {
   "cell_type": "code",
   "execution_count": 25,
   "id": "781ca8a6-50dd-4257-9919-a9c9ddc1019f",
   "metadata": {},
   "outputs": [],
   "source": [
    "STG5_FILE = dictionary['stage5']\n",
    "og_avg = gpd.read_parquet(f\"{SEGMENT_GCS}{STG5_FILE}_{analysis_date}.parquet\")\n",
    "og_avg = og_avg.drop(columns=[\"district\", \"district_name\"])"
   ]
  },
  {
   "cell_type": "code",
   "execution_count": 26,
   "id": "7ce13f75-786a-4315-b571-923c484107c9",
   "metadata": {},
   "outputs": [],
   "source": [
    "merge1_preview_cols = ['meters_length', \n",
    "       'trip_id', 'min_time', 'min_dist', 'max_time', 'max_dist',\n",
    "       'meters_elapsed', 'sec_elapsed', 'speed_mph', \n",
    "       'percent']"
   ]
  },
  {
   "cell_type": "markdown",
   "id": "9daf292e-e8d8-4813-86c9-7a09fc035c4a",
   "metadata": {
    "tags": []
   },
   "source": [
    "## Sample segments and routes for Big Blue Bus"
   ]
  },
  {
   "cell_type": "code",
   "execution_count": 28,
   "id": "edbaac05-d03a-42d4-abba-4a4483fa3005",
   "metadata": {},
   "outputs": [],
   "source": [
    "test_operator = \"Big Blue Bus VehiclePositions\"\n",
    "test_org = \"City of Santa Monica\"\n",
    "test_key = \"6c2d7daaf979779fa2089c6395baf98b\""
   ]
  },
  {
   "cell_type": "code",
   "execution_count": 29,
   "id": "9c7826f6-27ed-498f-97b8-ee0f4c2a992a",
   "metadata": {},
   "outputs": [],
   "source": [
    "pub_df = pd.read_parquet(\n",
    "    f\"{SEGMENT_GCS}export/avg_speeds_stop_segments_{analysis_date}_tabular.parquet\", \n",
    "    filters = [[(\"agency\", \"==\", test_org)]]\n",
    ")"
   ]
  },
  {
   "cell_type": "code",
   "execution_count": 30,
   "id": "288a9881-aa75-4331-9c4c-e01c3954fafe",
   "metadata": {},
   "outputs": [],
   "source": [
    "# Dark orange\n",
    "shape_id1  = \"26375\"\n",
    "stop_seq1 = 7\n",
    "shape_array1 = pub_df[pub_df.shape_id==shape_id1].shape_array_key.iloc[0]"
   ]
  },
  {
   "cell_type": "code",
   "execution_count": 31,
   "id": "05465822-ff34-47cb-ac43-2d11e12e3494",
   "metadata": {},
   "outputs": [],
   "source": [
    "# Light yellow \n",
    "shape_id2 = \"26342\"\n",
    "stop_seq2 = 23\n",
    "shape_array2 = pub_df[pub_df.shape_id==shape_id2].shape_array_key.iloc[0]"
   ]
  },
  {
   "cell_type": "code",
   "execution_count": 32,
   "id": "d1315d79-276d-4810-9593-07e8770f67ba",
   "metadata": {},
   "outputs": [],
   "source": [
    "# Dark Red\n",
    "shape_id3 = \"26393\"\n",
    "stop_seq3 = 32\n",
    "shape_array3 = pub_df[pub_df.shape_id==shape_id3].shape_array_key.iloc[0]"
   ]
  },
  {
   "cell_type": "code",
   "execution_count": 33,
   "id": "d163d014-0e76-41ef-813f-ff2617077249",
   "metadata": {},
   "outputs": [],
   "source": [
    "# Light orange\n",
    "shape_id4 = \"26372\"\n",
    "stop_seq4 = 14\n",
    "shape_array4 = pub_df[pub_df.shape_id==shape_id4].shape_array_key.iloc[0]"
   ]
  },
  {
   "cell_type": "code",
   "execution_count": 34,
   "id": "d946f239-b242-4a3e-95f6-580690e245b7",
   "metadata": {},
   "outputs": [],
   "source": [
    "# Green\n",
    "shape_id5 = \"26400\"\n",
    "stop_seq5= 8\n",
    "shape_array5 = pub_df[pub_df.shape_id==shape_id5].shape_array_key.iloc[0]"
   ]
  },
  {
   "cell_type": "code",
   "execution_count": 35,
   "id": "ec9da438-07d4-45ef-85c1-fc44d6eaadbf",
   "metadata": {},
   "outputs": [],
   "source": [
    "def one_route_map(avg_speeds:gpd.GeoDataFrame, shape_array_key:str):\n",
    "    display(avg_speeds[avg_speeds.shape_array_key==shape_array_key].explore(\n",
    "    \"p50_mph\", \n",
    "    tiles = \"CartoDB Positron\",\n",
    "    cmap = rt_utils.ZERO_THIRTY_COLORSCALE,\n",
    "    style_kwds = {'weight':5}))\n",
    "    "
   ]
  },
  {
   "cell_type": "markdown",
   "id": "d9cbd71c-ff9d-49f4-a522-0150d3721da7",
   "metadata": {},
   "source": [
    "## Checks"
   ]
  },
  {
   "cell_type": "code",
   "execution_count": 36,
   "id": "19bd5cbe-0bc6-4dfd-b6fb-37a307dfb9db",
   "metadata": {},
   "outputs": [],
   "source": [
    "def compare_average(avg_test:pd.DataFrame,\n",
    "                    og_avg:pd.DataFrame, \n",
    "                    shape_array_key:str,\n",
    "                    stop_sequence:int):\n",
    "    \n",
    "    print(f\"route {shape_array_key}, sequence {stop_sequence}\")\n",
    "    drop_cols = ['shape_array_key','geometry','stop_sequence']\n",
    "    print('Original')\n",
    "    display(og_avg[(og_avg.shape_array_key == shape_array_key) &(og_avg.stop_sequence == stop_sequence)].drop(columns = drop_cols))\n",
    "    \n",
    "    print('New')\n",
    "    display(avg_test[(avg_test.shape_array_key == shape_array_key) & (avg_test.stop_sequence == stop_sequence)].drop(columns = drop_cols))     "
   ]
  },
  {
   "cell_type": "code",
   "execution_count": 37,
   "id": "b6a35555-e9ae-4a34-9f38-f4b3a78917de",
   "metadata": {},
   "outputs": [
    {
     "data": {
      "text/plain": [
       "count   230532.00\n",
       "mean        11.99\n",
       "std          8.74\n",
       "min          0.00\n",
       "25%          5.99\n",
       "50%          9.99\n",
       "75%         15.80\n",
       "max         69.96\n",
       "Name: p50_mph, dtype: float64"
      ]
     },
     "execution_count": 37,
     "metadata": {},
     "output_type": "execute_result"
    }
   ],
   "source": [
    "og_avg.p50_mph.describe()"
   ]
  },
  {
   "cell_type": "code",
   "execution_count": 38,
   "id": "09961212-cad7-40ab-bfd9-ff457eaad089",
   "metadata": {},
   "outputs": [
    {
     "data": {
      "text/plain": [
       "count   215863.00\n",
       "mean        13.06\n",
       "std          8.73\n",
       "min          0.00\n",
       "25%          6.98\n",
       "50%         11.05\n",
       "75%         16.95\n",
       "max         69.96\n",
       "Name: p50_mph, dtype: float64"
      ]
     },
     "execution_count": 38,
     "metadata": {},
     "output_type": "execute_result"
    }
   ],
   "source": [
    "avg_test.p50_mph.describe()"
   ]
  },
  {
   "cell_type": "code",
   "execution_count": 39,
   "id": "cbbb122d-4a6c-4f23-b377-c9de20924739",
   "metadata": {},
   "outputs": [
    {
     "name": "stdout",
     "output_type": "stream",
     "text": [
      "route 5a788bd9c9aa5c5465875689a626baa9, sequence 7\n",
      "Original\n"
     ]
    },
    {
     "data": {
      "text/html": [
       "<div>\n",
       "<style scoped>\n",
       "    .dataframe tbody tr th:only-of-type {\n",
       "        vertical-align: middle;\n",
       "    }\n",
       "\n",
       "    .dataframe tbody tr th {\n",
       "        vertical-align: top;\n",
       "    }\n",
       "\n",
       "    .dataframe thead th {\n",
       "        text-align: right;\n",
       "    }\n",
       "</style>\n",
       "<table border=\"1\" class=\"dataframe\">\n",
       "  <thead>\n",
       "    <tr style=\"text-align: right;\">\n",
       "      <th></th>\n",
       "      <th>schedule_gtfs_dataset_key</th>\n",
       "      <th>stop_id</th>\n",
       "      <th>loop_or_inlining</th>\n",
       "      <th>p50_mph</th>\n",
       "      <th>n_trips</th>\n",
       "      <th>p20_mph</th>\n",
       "      <th>p80_mph</th>\n",
       "      <th>time_of_day</th>\n",
       "    </tr>\n",
       "  </thead>\n",
       "  <tbody>\n",
       "    <tr>\n",
       "      <th>82804</th>\n",
       "      <td>dbbe8ee4864a2715a40749605395d584</td>\n",
       "      <td>894</td>\n",
       "      <td>0</td>\n",
       "      <td>8.94</td>\n",
       "      <td>1</td>\n",
       "      <td>8.94</td>\n",
       "      <td>8.94</td>\n",
       "      <td>all_day</td>\n",
       "    </tr>\n",
       "    <tr>\n",
       "      <th>82805</th>\n",
       "      <td>dbbe8ee4864a2715a40749605395d584</td>\n",
       "      <td>894</td>\n",
       "      <td>0</td>\n",
       "      <td>8.94</td>\n",
       "      <td>1</td>\n",
       "      <td>8.94</td>\n",
       "      <td>8.94</td>\n",
       "      <td>peak</td>\n",
       "    </tr>\n",
       "  </tbody>\n",
       "</table>\n",
       "</div>"
      ],
      "text/plain": [
       "              schedule_gtfs_dataset_key stop_id  loop_or_inlining  p50_mph  \\\n",
       "82804  dbbe8ee4864a2715a40749605395d584     894                 0     8.94   \n",
       "82805  dbbe8ee4864a2715a40749605395d584     894                 0     8.94   \n",
       "\n",
       "       n_trips  p20_mph  p80_mph time_of_day  \n",
       "82804        1     8.94     8.94     all_day  \n",
       "82805        1     8.94     8.94        peak  "
      ]
     },
     "metadata": {},
     "output_type": "display_data"
    },
    {
     "name": "stdout",
     "output_type": "stream",
     "text": [
      "New\n"
     ]
    },
    {
     "data": {
      "text/html": [
       "<div>\n",
       "<style scoped>\n",
       "    .dataframe tbody tr th:only-of-type {\n",
       "        vertical-align: middle;\n",
       "    }\n",
       "\n",
       "    .dataframe tbody tr th {\n",
       "        vertical-align: top;\n",
       "    }\n",
       "\n",
       "    .dataframe thead th {\n",
       "        text-align: right;\n",
       "    }\n",
       "</style>\n",
       "<table border=\"1\" class=\"dataframe\">\n",
       "  <thead>\n",
       "    <tr style=\"text-align: right;\">\n",
       "      <th></th>\n",
       "      <th>schedule_gtfs_dataset_key</th>\n",
       "      <th>stop_id</th>\n",
       "      <th>loop_or_inlining</th>\n",
       "      <th>district</th>\n",
       "      <th>district_name</th>\n",
       "      <th>p50_mph</th>\n",
       "      <th>n_trips</th>\n",
       "      <th>p20_mph</th>\n",
       "      <th>p80_mph</th>\n",
       "      <th>time_of_day</th>\n",
       "    </tr>\n",
       "  </thead>\n",
       "  <tbody>\n",
       "    <tr>\n",
       "      <th>77681</th>\n",
       "      <td>dbbe8ee4864a2715a40749605395d584</td>\n",
       "      <td>894</td>\n",
       "      <td>0</td>\n",
       "      <td>7</td>\n",
       "      <td>District 7 - Los Angeles</td>\n",
       "      <td>8.94</td>\n",
       "      <td>1</td>\n",
       "      <td>8.94</td>\n",
       "      <td>8.94</td>\n",
       "      <td>all_day</td>\n",
       "    </tr>\n",
       "    <tr>\n",
       "      <th>77682</th>\n",
       "      <td>dbbe8ee4864a2715a40749605395d584</td>\n",
       "      <td>894</td>\n",
       "      <td>0</td>\n",
       "      <td>7</td>\n",
       "      <td>District 7 - Los Angeles</td>\n",
       "      <td>8.94</td>\n",
       "      <td>1</td>\n",
       "      <td>8.94</td>\n",
       "      <td>8.94</td>\n",
       "      <td>peak</td>\n",
       "    </tr>\n",
       "  </tbody>\n",
       "</table>\n",
       "</div>"
      ],
      "text/plain": [
       "              schedule_gtfs_dataset_key stop_id  loop_or_inlining  district  \\\n",
       "77681  dbbe8ee4864a2715a40749605395d584     894                 0         7   \n",
       "77682  dbbe8ee4864a2715a40749605395d584     894                 0         7   \n",
       "\n",
       "                  district_name  p50_mph  n_trips  p20_mph  p80_mph  \\\n",
       "77681  District 7 - Los Angeles     8.94        1     8.94     8.94   \n",
       "77682  District 7 - Los Angeles     8.94        1     8.94     8.94   \n",
       "\n",
       "      time_of_day  \n",
       "77681     all_day  \n",
       "77682        peak  "
      ]
     },
     "metadata": {},
     "output_type": "display_data"
    }
   ],
   "source": [
    "compare_average(avg_test, og_avg, shape_array1, stop_seq1)"
   ]
  },
  {
   "cell_type": "code",
   "execution_count": 40,
   "id": "16f98b58-75ae-4a5c-a947-c6a4a58b7644",
   "metadata": {},
   "outputs": [
    {
     "name": "stdout",
     "output_type": "stream",
     "text": [
      "route 5d34851ee46adb62216152f8a16fe7d0, sequence 23\n",
      "Original\n"
     ]
    },
    {
     "data": {
      "text/html": [
       "<div>\n",
       "<style scoped>\n",
       "    .dataframe tbody tr th:only-of-type {\n",
       "        vertical-align: middle;\n",
       "    }\n",
       "\n",
       "    .dataframe tbody tr th {\n",
       "        vertical-align: top;\n",
       "    }\n",
       "\n",
       "    .dataframe thead th {\n",
       "        text-align: right;\n",
       "    }\n",
       "</style>\n",
       "<table border=\"1\" class=\"dataframe\">\n",
       "  <thead>\n",
       "    <tr style=\"text-align: right;\">\n",
       "      <th></th>\n",
       "      <th>schedule_gtfs_dataset_key</th>\n",
       "      <th>stop_id</th>\n",
       "      <th>loop_or_inlining</th>\n",
       "      <th>p50_mph</th>\n",
       "      <th>n_trips</th>\n",
       "      <th>p20_mph</th>\n",
       "      <th>p80_mph</th>\n",
       "      <th>time_of_day</th>\n",
       "    </tr>\n",
       "  </thead>\n",
       "  <tbody>\n",
       "    <tr>\n",
       "      <th>84959</th>\n",
       "      <td>dbbe8ee4864a2715a40749605395d584</td>\n",
       "      <td>149</td>\n",
       "      <td>0</td>\n",
       "      <td>13.72</td>\n",
       "      <td>19</td>\n",
       "      <td>8.43</td>\n",
       "      <td>15.66</td>\n",
       "      <td>all_day</td>\n",
       "    </tr>\n",
       "    <tr>\n",
       "      <th>84960</th>\n",
       "      <td>dbbe8ee4864a2715a40749605395d584</td>\n",
       "      <td>149</td>\n",
       "      <td>0</td>\n",
       "      <td>13.17</td>\n",
       "      <td>8</td>\n",
       "      <td>5.74</td>\n",
       "      <td>14.90</td>\n",
       "      <td>peak</td>\n",
       "    </tr>\n",
       "  </tbody>\n",
       "</table>\n",
       "</div>"
      ],
      "text/plain": [
       "              schedule_gtfs_dataset_key stop_id  loop_or_inlining  p50_mph  \\\n",
       "84959  dbbe8ee4864a2715a40749605395d584     149                 0    13.72   \n",
       "84960  dbbe8ee4864a2715a40749605395d584     149                 0    13.17   \n",
       "\n",
       "       n_trips  p20_mph  p80_mph time_of_day  \n",
       "84959       19     8.43    15.66     all_day  \n",
       "84960        8     5.74    14.90        peak  "
      ]
     },
     "metadata": {},
     "output_type": "display_data"
    },
    {
     "name": "stdout",
     "output_type": "stream",
     "text": [
      "New\n"
     ]
    },
    {
     "data": {
      "text/html": [
       "<div>\n",
       "<style scoped>\n",
       "    .dataframe tbody tr th:only-of-type {\n",
       "        vertical-align: middle;\n",
       "    }\n",
       "\n",
       "    .dataframe tbody tr th {\n",
       "        vertical-align: top;\n",
       "    }\n",
       "\n",
       "    .dataframe thead th {\n",
       "        text-align: right;\n",
       "    }\n",
       "</style>\n",
       "<table border=\"1\" class=\"dataframe\">\n",
       "  <thead>\n",
       "    <tr style=\"text-align: right;\">\n",
       "      <th></th>\n",
       "      <th>schedule_gtfs_dataset_key</th>\n",
       "      <th>stop_id</th>\n",
       "      <th>loop_or_inlining</th>\n",
       "      <th>district</th>\n",
       "      <th>district_name</th>\n",
       "      <th>p50_mph</th>\n",
       "      <th>n_trips</th>\n",
       "      <th>p20_mph</th>\n",
       "      <th>p80_mph</th>\n",
       "      <th>time_of_day</th>\n",
       "    </tr>\n",
       "  </thead>\n",
       "  <tbody>\n",
       "    <tr>\n",
       "      <th>79691</th>\n",
       "      <td>dbbe8ee4864a2715a40749605395d584</td>\n",
       "      <td>149</td>\n",
       "      <td>0</td>\n",
       "      <td>7</td>\n",
       "      <td>District 7 - Los Angeles</td>\n",
       "      <td>13.86</td>\n",
       "      <td>16</td>\n",
       "      <td>9.26</td>\n",
       "      <td>15.90</td>\n",
       "      <td>all_day</td>\n",
       "    </tr>\n",
       "    <tr>\n",
       "      <th>79692</th>\n",
       "      <td>dbbe8ee4864a2715a40749605395d584</td>\n",
       "      <td>149</td>\n",
       "      <td>0</td>\n",
       "      <td>7</td>\n",
       "      <td>District 7 - Los Angeles</td>\n",
       "      <td>13.85</td>\n",
       "      <td>6</td>\n",
       "      <td>12.62</td>\n",
       "      <td>15.51</td>\n",
       "      <td>peak</td>\n",
       "    </tr>\n",
       "  </tbody>\n",
       "</table>\n",
       "</div>"
      ],
      "text/plain": [
       "              schedule_gtfs_dataset_key stop_id  loop_or_inlining  district  \\\n",
       "79691  dbbe8ee4864a2715a40749605395d584     149                 0         7   \n",
       "79692  dbbe8ee4864a2715a40749605395d584     149                 0         7   \n",
       "\n",
       "                  district_name  p50_mph  n_trips  p20_mph  p80_mph  \\\n",
       "79691  District 7 - Los Angeles    13.86       16     9.26    15.90   \n",
       "79692  District 7 - Los Angeles    13.85        6    12.62    15.51   \n",
       "\n",
       "      time_of_day  \n",
       "79691     all_day  \n",
       "79692        peak  "
      ]
     },
     "metadata": {},
     "output_type": "display_data"
    }
   ],
   "source": [
    "compare_average(avg_test, og_avg, shape_array2, stop_seq2)"
   ]
  },
  {
   "cell_type": "markdown",
   "id": "5c797a73-3cb6-46dd-b451-959bb185d762",
   "metadata": {},
   "source": [
    "* Strangely enough, the 50th percentile speed became lower\n",
    "* Sometimes the lower the length, the higher the speed?"
   ]
  },
  {
   "cell_type": "code",
   "execution_count": 41,
   "id": "3ede20ec-3d72-4a97-803f-67906eb9b662",
   "metadata": {},
   "outputs": [
    {
     "name": "stdout",
     "output_type": "stream",
     "text": [
      "route 94e02a46331c8b449aedb4469f49764a, sequence 32\n",
      "Original\n"
     ]
    },
    {
     "data": {
      "text/html": [
       "<div>\n",
       "<style scoped>\n",
       "    .dataframe tbody tr th:only-of-type {\n",
       "        vertical-align: middle;\n",
       "    }\n",
       "\n",
       "    .dataframe tbody tr th {\n",
       "        vertical-align: top;\n",
       "    }\n",
       "\n",
       "    .dataframe thead th {\n",
       "        text-align: right;\n",
       "    }\n",
       "</style>\n",
       "<table border=\"1\" class=\"dataframe\">\n",
       "  <thead>\n",
       "    <tr style=\"text-align: right;\">\n",
       "      <th></th>\n",
       "      <th>schedule_gtfs_dataset_key</th>\n",
       "      <th>stop_id</th>\n",
       "      <th>loop_or_inlining</th>\n",
       "      <th>p50_mph</th>\n",
       "      <th>n_trips</th>\n",
       "      <th>p20_mph</th>\n",
       "      <th>p80_mph</th>\n",
       "      <th>time_of_day</th>\n",
       "    </tr>\n",
       "  </thead>\n",
       "  <tbody>\n",
       "    <tr>\n",
       "      <th>132715</th>\n",
       "      <td>dbbe8ee4864a2715a40749605395d584</td>\n",
       "      <td>1648</td>\n",
       "      <td>0</td>\n",
       "      <td>1.90</td>\n",
       "      <td>23</td>\n",
       "      <td>0.91</td>\n",
       "      <td>9.85</td>\n",
       "      <td>all_day</td>\n",
       "    </tr>\n",
       "    <tr>\n",
       "      <th>132716</th>\n",
       "      <td>dbbe8ee4864a2715a40749605395d584</td>\n",
       "      <td>1648</td>\n",
       "      <td>0</td>\n",
       "      <td>1.58</td>\n",
       "      <td>12</td>\n",
       "      <td>0.62</td>\n",
       "      <td>6.55</td>\n",
       "      <td>peak</td>\n",
       "    </tr>\n",
       "  </tbody>\n",
       "</table>\n",
       "</div>"
      ],
      "text/plain": [
       "               schedule_gtfs_dataset_key stop_id  loop_or_inlining  p50_mph  \\\n",
       "132715  dbbe8ee4864a2715a40749605395d584    1648                 0     1.90   \n",
       "132716  dbbe8ee4864a2715a40749605395d584    1648                 0     1.58   \n",
       "\n",
       "        n_trips  p20_mph  p80_mph time_of_day  \n",
       "132715       23     0.91     9.85     all_day  \n",
       "132716       12     0.62     6.55        peak  "
      ]
     },
     "metadata": {},
     "output_type": "display_data"
    },
    {
     "name": "stdout",
     "output_type": "stream",
     "text": [
      "New\n"
     ]
    },
    {
     "data": {
      "text/html": [
       "<div>\n",
       "<style scoped>\n",
       "    .dataframe tbody tr th:only-of-type {\n",
       "        vertical-align: middle;\n",
       "    }\n",
       "\n",
       "    .dataframe tbody tr th {\n",
       "        vertical-align: top;\n",
       "    }\n",
       "\n",
       "    .dataframe thead th {\n",
       "        text-align: right;\n",
       "    }\n",
       "</style>\n",
       "<table border=\"1\" class=\"dataframe\">\n",
       "  <thead>\n",
       "    <tr style=\"text-align: right;\">\n",
       "      <th></th>\n",
       "      <th>schedule_gtfs_dataset_key</th>\n",
       "      <th>stop_id</th>\n",
       "      <th>loop_or_inlining</th>\n",
       "      <th>district</th>\n",
       "      <th>district_name</th>\n",
       "      <th>p50_mph</th>\n",
       "      <th>n_trips</th>\n",
       "      <th>p20_mph</th>\n",
       "      <th>p80_mph</th>\n",
       "      <th>time_of_day</th>\n",
       "    </tr>\n",
       "  </thead>\n",
       "  <tbody>\n",
       "    <tr>\n",
       "      <th>124137</th>\n",
       "      <td>dbbe8ee4864a2715a40749605395d584</td>\n",
       "      <td>1648</td>\n",
       "      <td>0</td>\n",
       "      <td>7</td>\n",
       "      <td>District 7 - Los Angeles</td>\n",
       "      <td>1.27</td>\n",
       "      <td>10</td>\n",
       "      <td>1.08</td>\n",
       "      <td>3.63</td>\n",
       "      <td>all_day</td>\n",
       "    </tr>\n",
       "    <tr>\n",
       "      <th>124138</th>\n",
       "      <td>dbbe8ee4864a2715a40749605395d584</td>\n",
       "      <td>1648</td>\n",
       "      <td>0</td>\n",
       "      <td>7</td>\n",
       "      <td>District 7 - Los Angeles</td>\n",
       "      <td>1.27</td>\n",
       "      <td>5</td>\n",
       "      <td>1.20</td>\n",
       "      <td>3.89</td>\n",
       "      <td>peak</td>\n",
       "    </tr>\n",
       "  </tbody>\n",
       "</table>\n",
       "</div>"
      ],
      "text/plain": [
       "               schedule_gtfs_dataset_key stop_id  loop_or_inlining  district  \\\n",
       "124137  dbbe8ee4864a2715a40749605395d584    1648                 0         7   \n",
       "124138  dbbe8ee4864a2715a40749605395d584    1648                 0         7   \n",
       "\n",
       "                   district_name  p50_mph  n_trips  p20_mph  p80_mph  \\\n",
       "124137  District 7 - Los Angeles     1.27       10     1.08     3.63   \n",
       "124138  District 7 - Los Angeles     1.27        5     1.20     3.89   \n",
       "\n",
       "       time_of_day  \n",
       "124137     all_day  \n",
       "124138        peak  "
      ]
     },
     "metadata": {},
     "output_type": "display_data"
    }
   ],
   "source": [
    "compare_average(avg_test, og_avg, shape_array3, stop_seq3)"
   ]
  },
  {
   "cell_type": "code",
   "execution_count": 42,
   "id": "ea2fd667-8e2e-43be-9015-81f0d066d834",
   "metadata": {
    "scrolled": true,
    "tags": []
   },
   "outputs": [
    {
     "data": {
      "text/html": [
       "<div>\n",
       "<style scoped>\n",
       "    .dataframe tbody tr th:only-of-type {\n",
       "        vertical-align: middle;\n",
       "    }\n",
       "\n",
       "    .dataframe tbody tr th {\n",
       "        vertical-align: top;\n",
       "    }\n",
       "\n",
       "    .dataframe thead th {\n",
       "        text-align: right;\n",
       "    }\n",
       "</style>\n",
       "<table border=\"1\" class=\"dataframe\">\n",
       "  <thead>\n",
       "    <tr style=\"text-align: right;\">\n",
       "      <th></th>\n",
       "      <th>meters_length</th>\n",
       "      <th>trip_id</th>\n",
       "      <th>min_time</th>\n",
       "      <th>min_dist</th>\n",
       "      <th>max_time</th>\n",
       "      <th>max_dist</th>\n",
       "      <th>meters_elapsed</th>\n",
       "      <th>sec_elapsed</th>\n",
       "      <th>speed_mph</th>\n",
       "      <th>percent</th>\n",
       "    </tr>\n",
       "  </thead>\n",
       "  <tbody>\n",
       "    <tr>\n",
       "      <th>1320710</th>\n",
       "      <td>583.74</td>\n",
       "      <td>905067</td>\n",
       "      <td>68367.00</td>\n",
       "      <td>430.11</td>\n",
       "      <td>68412.00</td>\n",
       "      <td>468.28</td>\n",
       "      <td>38.17</td>\n",
       "      <td>45.00</td>\n",
       "      <td>1.90</td>\n",
       "      <td>6.54</td>\n",
       "    </tr>\n",
       "    <tr>\n",
       "      <th>1320723</th>\n",
       "      <td>583.74</td>\n",
       "      <td>905083</td>\n",
       "      <td>41431.00</td>\n",
       "      <td>249.29</td>\n",
       "      <td>41473.00</td>\n",
       "      <td>434.91</td>\n",
       "      <td>185.61</td>\n",
       "      <td>42.00</td>\n",
       "      <td>9.89</td>\n",
       "      <td>31.80</td>\n",
       "    </tr>\n",
       "    <tr>\n",
       "      <th>1320732</th>\n",
       "      <td>583.74</td>\n",
       "      <td>905092</td>\n",
       "      <td>27786.00</td>\n",
       "      <td>267.36</td>\n",
       "      <td>27875.00</td>\n",
       "      <td>459.47</td>\n",
       "      <td>192.11</td>\n",
       "      <td>89.00</td>\n",
       "      <td>4.83</td>\n",
       "      <td>32.91</td>\n",
       "    </tr>\n",
       "    <tr>\n",
       "      <th>1320716</th>\n",
       "      <td>583.74</td>\n",
       "      <td>905076</td>\n",
       "      <td>51917.00</td>\n",
       "      <td>0.00</td>\n",
       "      <td>52006.00</td>\n",
       "      <td>207.87</td>\n",
       "      <td>207.87</td>\n",
       "      <td>89.00</td>\n",
       "      <td>5.22</td>\n",
       "      <td>35.61</td>\n",
       "    </tr>\n",
       "    <tr>\n",
       "      <th>1320724</th>\n",
       "      <td>583.74</td>\n",
       "      <td>905084</td>\n",
       "      <td>40531.00</td>\n",
       "      <td>103.57</td>\n",
       "      <td>40576.00</td>\n",
       "      <td>323.28</td>\n",
       "      <td>219.72</td>\n",
       "      <td>45.00</td>\n",
       "      <td>10.92</td>\n",
       "      <td>37.64</td>\n",
       "    </tr>\n",
       "    <tr>\n",
       "      <th>1320719</th>\n",
       "      <td>583.74</td>\n",
       "      <td>905079</td>\n",
       "      <td>47491.00</td>\n",
       "      <td>88.57</td>\n",
       "      <td>47536.00</td>\n",
       "      <td>314.28</td>\n",
       "      <td>225.72</td>\n",
       "      <td>45.00</td>\n",
       "      <td>11.22</td>\n",
       "      <td>38.67</td>\n",
       "    </tr>\n",
       "    <tr>\n",
       "      <th>1320712</th>\n",
       "      <td>583.74</td>\n",
       "      <td>905070</td>\n",
       "      <td>62911.00</td>\n",
       "      <td>352.35</td>\n",
       "      <td>64288.00</td>\n",
       "      <td>582.05</td>\n",
       "      <td>229.70</td>\n",
       "      <td>1377.00</td>\n",
       "      <td>0.37</td>\n",
       "      <td>39.35</td>\n",
       "    </tr>\n",
       "    <tr>\n",
       "      <th>1320711</th>\n",
       "      <td>583.74</td>\n",
       "      <td>905069</td>\n",
       "      <td>65038.00</td>\n",
       "      <td>328.54</td>\n",
       "      <td>66192.00</td>\n",
       "      <td>583.74</td>\n",
       "      <td>255.20</td>\n",
       "      <td>1154.00</td>\n",
       "      <td>0.49</td>\n",
       "      <td>43.72</td>\n",
       "    </tr>\n",
       "    <tr>\n",
       "      <th>1320714</th>\n",
       "      <td>583.74</td>\n",
       "      <td>905073</td>\n",
       "      <td>57165.00</td>\n",
       "      <td>306.14</td>\n",
       "      <td>58508.00</td>\n",
       "      <td>580.88</td>\n",
       "      <td>274.74</td>\n",
       "      <td>1343.00</td>\n",
       "      <td>0.46</td>\n",
       "      <td>47.06</td>\n",
       "    </tr>\n",
       "    <tr>\n",
       "      <th>1320727</th>\n",
       "      <td>583.74</td>\n",
       "      <td>905087</td>\n",
       "      <td>35278.00</td>\n",
       "      <td>83.85</td>\n",
       "      <td>35367.00</td>\n",
       "      <td>361.36</td>\n",
       "      <td>277.52</td>\n",
       "      <td>89.00</td>\n",
       "      <td>6.98</td>\n",
       "      <td>47.54</td>\n",
       "    </tr>\n",
       "    <tr>\n",
       "      <th>1320722</th>\n",
       "      <td>583.74</td>\n",
       "      <td>905082</td>\n",
       "      <td>43237.00</td>\n",
       "      <td>298.33</td>\n",
       "      <td>44170.00</td>\n",
       "      <td>578.83</td>\n",
       "      <td>280.50</td>\n",
       "      <td>933.00</td>\n",
       "      <td>0.67</td>\n",
       "      <td>48.05</td>\n",
       "    </tr>\n",
       "    <tr>\n",
       "      <th>1320728</th>\n",
       "      <td>583.74</td>\n",
       "      <td>905088</td>\n",
       "      <td>34011.00</td>\n",
       "      <td>192.14</td>\n",
       "      <td>34100.00</td>\n",
       "      <td>481.42</td>\n",
       "      <td>289.28</td>\n",
       "      <td>89.00</td>\n",
       "      <td>7.27</td>\n",
       "      <td>49.56</td>\n",
       "    </tr>\n",
       "    <tr>\n",
       "      <th>1320720</th>\n",
       "      <td>583.74</td>\n",
       "      <td>905080</td>\n",
       "      <td>46043.00</td>\n",
       "      <td>0.00</td>\n",
       "      <td>46093.00</td>\n",
       "      <td>312.34</td>\n",
       "      <td>312.34</td>\n",
       "      <td>50.00</td>\n",
       "      <td>13.97</td>\n",
       "      <td>53.51</td>\n",
       "    </tr>\n",
       "    <tr>\n",
       "      <th>1320718</th>\n",
       "      <td>583.74</td>\n",
       "      <td>905078</td>\n",
       "      <td>48883.00</td>\n",
       "      <td>38.51</td>\n",
       "      <td>48972.00</td>\n",
       "      <td>427.86</td>\n",
       "      <td>389.34</td>\n",
       "      <td>89.00</td>\n",
       "      <td>9.79</td>\n",
       "      <td>66.70</td>\n",
       "    </tr>\n",
       "    <tr>\n",
       "      <th>1320725</th>\n",
       "      <td>583.74</td>\n",
       "      <td>905085</td>\n",
       "      <td>38319.00</td>\n",
       "      <td>149.30</td>\n",
       "      <td>39340.00</td>\n",
       "      <td>583.74</td>\n",
       "      <td>434.45</td>\n",
       "      <td>1021.00</td>\n",
       "      <td>0.95</td>\n",
       "      <td>74.42</td>\n",
       "    </tr>\n",
       "    <tr>\n",
       "      <th>1320731</th>\n",
       "      <td>583.74</td>\n",
       "      <td>905091</td>\n",
       "      <td>29123.00</td>\n",
       "      <td>0.00</td>\n",
       "      <td>29218.00</td>\n",
       "      <td>471.39</td>\n",
       "      <td>471.39</td>\n",
       "      <td>95.00</td>\n",
       "      <td>11.10</td>\n",
       "      <td>80.75</td>\n",
       "    </tr>\n",
       "    <tr>\n",
       "      <th>1320721</th>\n",
       "      <td>583.74</td>\n",
       "      <td>905081</td>\n",
       "      <td>44508.00</td>\n",
       "      <td>103.57</td>\n",
       "      <td>45094.00</td>\n",
       "      <td>582.75</td>\n",
       "      <td>479.18</td>\n",
       "      <td>586.00</td>\n",
       "      <td>1.83</td>\n",
       "      <td>82.09</td>\n",
       "    </tr>\n",
       "    <tr>\n",
       "      <th>1320729</th>\n",
       "      <td>583.74</td>\n",
       "      <td>905089</td>\n",
       "      <td>32362.00</td>\n",
       "      <td>102.37</td>\n",
       "      <td>33241.00</td>\n",
       "      <td>582.34</td>\n",
       "      <td>479.97</td>\n",
       "      <td>879.00</td>\n",
       "      <td>1.22</td>\n",
       "      <td>82.22</td>\n",
       "    </tr>\n",
       "    <tr>\n",
       "      <th>1320717</th>\n",
       "      <td>583.74</td>\n",
       "      <td>905077</td>\n",
       "      <td>50548.00</td>\n",
       "      <td>100.83</td>\n",
       "      <td>51392.00</td>\n",
       "      <td>583.74</td>\n",
       "      <td>482.91</td>\n",
       "      <td>844.00</td>\n",
       "      <td>1.28</td>\n",
       "      <td>82.73</td>\n",
       "    </tr>\n",
       "    <tr>\n",
       "      <th>1320730</th>\n",
       "      <td>583.74</td>\n",
       "      <td>905090</td>\n",
       "      <td>30789.00</td>\n",
       "      <td>94.50</td>\n",
       "      <td>31766.00</td>\n",
       "      <td>578.60</td>\n",
       "      <td>484.10</td>\n",
       "      <td>977.00</td>\n",
       "      <td>1.11</td>\n",
       "      <td>82.93</td>\n",
       "    </tr>\n",
       "    <tr>\n",
       "      <th>1320715</th>\n",
       "      <td>583.74</td>\n",
       "      <td>905074</td>\n",
       "      <td>55431.00</td>\n",
       "      <td>70.00</td>\n",
       "      <td>56719.00</td>\n",
       "      <td>576.72</td>\n",
       "      <td>506.72</td>\n",
       "      <td>1288.00</td>\n",
       "      <td>0.88</td>\n",
       "      <td>86.80</td>\n",
       "    </tr>\n",
       "    <tr>\n",
       "      <th>1320726</th>\n",
       "      <td>583.74</td>\n",
       "      <td>905086</td>\n",
       "      <td>37090.00</td>\n",
       "      <td>28.26</td>\n",
       "      <td>37678.00</td>\n",
       "      <td>578.26</td>\n",
       "      <td>550.01</td>\n",
       "      <td>588.00</td>\n",
       "      <td>2.09</td>\n",
       "      <td>94.22</td>\n",
       "    </tr>\n",
       "    <tr>\n",
       "      <th>1320713</th>\n",
       "      <td>583.74</td>\n",
       "      <td>905071</td>\n",
       "      <td>61017.00</td>\n",
       "      <td>0.00</td>\n",
       "      <td>62039.00</td>\n",
       "      <td>577.99</td>\n",
       "      <td>577.99</td>\n",
       "      <td>1022.00</td>\n",
       "      <td>1.27</td>\n",
       "      <td>99.01</td>\n",
       "    </tr>\n",
       "  </tbody>\n",
       "</table>\n",
       "</div>"
      ],
      "text/plain": [
       "         meters_length trip_id  min_time  min_dist  max_time  max_dist  \\\n",
       "1320710         583.74  905067  68367.00    430.11  68412.00    468.28   \n",
       "1320723         583.74  905083  41431.00    249.29  41473.00    434.91   \n",
       "1320732         583.74  905092  27786.00    267.36  27875.00    459.47   \n",
       "1320716         583.74  905076  51917.00      0.00  52006.00    207.87   \n",
       "1320724         583.74  905084  40531.00    103.57  40576.00    323.28   \n",
       "1320719         583.74  905079  47491.00     88.57  47536.00    314.28   \n",
       "1320712         583.74  905070  62911.00    352.35  64288.00    582.05   \n",
       "1320711         583.74  905069  65038.00    328.54  66192.00    583.74   \n",
       "1320714         583.74  905073  57165.00    306.14  58508.00    580.88   \n",
       "1320727         583.74  905087  35278.00     83.85  35367.00    361.36   \n",
       "1320722         583.74  905082  43237.00    298.33  44170.00    578.83   \n",
       "1320728         583.74  905088  34011.00    192.14  34100.00    481.42   \n",
       "1320720         583.74  905080  46043.00      0.00  46093.00    312.34   \n",
       "1320718         583.74  905078  48883.00     38.51  48972.00    427.86   \n",
       "1320725         583.74  905085  38319.00    149.30  39340.00    583.74   \n",
       "1320731         583.74  905091  29123.00      0.00  29218.00    471.39   \n",
       "1320721         583.74  905081  44508.00    103.57  45094.00    582.75   \n",
       "1320729         583.74  905089  32362.00    102.37  33241.00    582.34   \n",
       "1320717         583.74  905077  50548.00    100.83  51392.00    583.74   \n",
       "1320730         583.74  905090  30789.00     94.50  31766.00    578.60   \n",
       "1320715         583.74  905074  55431.00     70.00  56719.00    576.72   \n",
       "1320726         583.74  905086  37090.00     28.26  37678.00    578.26   \n",
       "1320713         583.74  905071  61017.00      0.00  62039.00    577.99   \n",
       "\n",
       "         meters_elapsed  sec_elapsed  speed_mph  percent  \n",
       "1320710           38.17        45.00       1.90     6.54  \n",
       "1320723          185.61        42.00       9.89    31.80  \n",
       "1320732          192.11        89.00       4.83    32.91  \n",
       "1320716          207.87        89.00       5.22    35.61  \n",
       "1320724          219.72        45.00      10.92    37.64  \n",
       "1320719          225.72        45.00      11.22    38.67  \n",
       "1320712          229.70      1377.00       0.37    39.35  \n",
       "1320711          255.20      1154.00       0.49    43.72  \n",
       "1320714          274.74      1343.00       0.46    47.06  \n",
       "1320727          277.52        89.00       6.98    47.54  \n",
       "1320722          280.50       933.00       0.67    48.05  \n",
       "1320728          289.28        89.00       7.27    49.56  \n",
       "1320720          312.34        50.00      13.97    53.51  \n",
       "1320718          389.34        89.00       9.79    66.70  \n",
       "1320725          434.45      1021.00       0.95    74.42  \n",
       "1320731          471.39        95.00      11.10    80.75  \n",
       "1320721          479.18       586.00       1.83    82.09  \n",
       "1320729          479.97       879.00       1.22    82.22  \n",
       "1320717          482.91       844.00       1.28    82.73  \n",
       "1320730          484.10       977.00       1.11    82.93  \n",
       "1320715          506.72      1288.00       0.88    86.80  \n",
       "1320726          550.01       588.00       2.09    94.22  \n",
       "1320713          577.99      1022.00       1.27    99.01  "
      ]
     },
     "execution_count": 42,
     "metadata": {},
     "output_type": "execute_result"
    }
   ],
   "source": [
    "merge1.loc[(merge1.shape_array_key == shape_array3) & (merge1.stop_sequence == stop_seq3)][merge1_preview_cols].sort_values(['percent'])"
   ]
  },
  {
   "cell_type": "markdown",
   "id": "a37b765b-1d23-4e69-8959-474289814ac7",
   "metadata": {},
   "source": [
    "* This is missing because the only row that was non-zero only covered 27% of the length\n",
    "* Maybe up the threshold?"
   ]
  },
  {
   "cell_type": "code",
   "execution_count": 43,
   "id": "13a5f252-5bf6-44b4-b1e0-baec918fa61f",
   "metadata": {},
   "outputs": [
    {
     "name": "stdout",
     "output_type": "stream",
     "text": [
      "route 50d9dd7ba11f08a8c86130778d6cabc4, sequence 14\n",
      "Original\n"
     ]
    },
    {
     "data": {
      "text/html": [
       "<div>\n",
       "<style scoped>\n",
       "    .dataframe tbody tr th:only-of-type {\n",
       "        vertical-align: middle;\n",
       "    }\n",
       "\n",
       "    .dataframe tbody tr th {\n",
       "        vertical-align: top;\n",
       "    }\n",
       "\n",
       "    .dataframe thead th {\n",
       "        text-align: right;\n",
       "    }\n",
       "</style>\n",
       "<table border=\"1\" class=\"dataframe\">\n",
       "  <thead>\n",
       "    <tr style=\"text-align: right;\">\n",
       "      <th></th>\n",
       "      <th>schedule_gtfs_dataset_key</th>\n",
       "      <th>stop_id</th>\n",
       "      <th>loop_or_inlining</th>\n",
       "      <th>p50_mph</th>\n",
       "      <th>n_trips</th>\n",
       "      <th>p20_mph</th>\n",
       "      <th>p80_mph</th>\n",
       "      <th>time_of_day</th>\n",
       "    </tr>\n",
       "  </thead>\n",
       "  <tbody>\n",
       "    <tr>\n",
       "      <th>74633</th>\n",
       "      <td>dbbe8ee4864a2715a40749605395d584</td>\n",
       "      <td>916</td>\n",
       "      <td>0</td>\n",
       "      <td>11.34</td>\n",
       "      <td>1</td>\n",
       "      <td>11.34</td>\n",
       "      <td>11.34</td>\n",
       "      <td>all_day</td>\n",
       "    </tr>\n",
       "  </tbody>\n",
       "</table>\n",
       "</div>"
      ],
      "text/plain": [
       "              schedule_gtfs_dataset_key stop_id  loop_or_inlining  p50_mph  \\\n",
       "74633  dbbe8ee4864a2715a40749605395d584     916                 0    11.34   \n",
       "\n",
       "       n_trips  p20_mph  p80_mph time_of_day  \n",
       "74633        1    11.34    11.34     all_day  "
      ]
     },
     "metadata": {},
     "output_type": "display_data"
    },
    {
     "name": "stdout",
     "output_type": "stream",
     "text": [
      "New\n"
     ]
    },
    {
     "data": {
      "text/html": [
       "<div>\n",
       "<style scoped>\n",
       "    .dataframe tbody tr th:only-of-type {\n",
       "        vertical-align: middle;\n",
       "    }\n",
       "\n",
       "    .dataframe tbody tr th {\n",
       "        vertical-align: top;\n",
       "    }\n",
       "\n",
       "    .dataframe thead th {\n",
       "        text-align: right;\n",
       "    }\n",
       "</style>\n",
       "<table border=\"1\" class=\"dataframe\">\n",
       "  <thead>\n",
       "    <tr style=\"text-align: right;\">\n",
       "      <th></th>\n",
       "      <th>schedule_gtfs_dataset_key</th>\n",
       "      <th>stop_id</th>\n",
       "      <th>loop_or_inlining</th>\n",
       "      <th>district</th>\n",
       "      <th>district_name</th>\n",
       "      <th>p50_mph</th>\n",
       "      <th>n_trips</th>\n",
       "      <th>p20_mph</th>\n",
       "      <th>p80_mph</th>\n",
       "      <th>time_of_day</th>\n",
       "    </tr>\n",
       "  </thead>\n",
       "  <tbody>\n",
       "  </tbody>\n",
       "</table>\n",
       "</div>"
      ],
      "text/plain": [
       "Empty DataFrame\n",
       "Columns: [schedule_gtfs_dataset_key, stop_id, loop_or_inlining, district, district_name, p50_mph, n_trips, p20_mph, p80_mph, time_of_day]\n",
       "Index: []"
      ]
     },
     "metadata": {},
     "output_type": "display_data"
    }
   ],
   "source": [
    "\n",
    "compare_average(avg_test, og_avg, shape_array4, stop_seq4)"
   ]
  },
  {
   "cell_type": "code",
   "execution_count": 44,
   "id": "bf2d2ec9-c9db-4b2d-977a-3df3547a0cf1",
   "metadata": {},
   "outputs": [
    {
     "data": {
      "text/html": [
       "<div>\n",
       "<style scoped>\n",
       "    .dataframe tbody tr th:only-of-type {\n",
       "        vertical-align: middle;\n",
       "    }\n",
       "\n",
       "    .dataframe tbody tr th {\n",
       "        vertical-align: top;\n",
       "    }\n",
       "\n",
       "    .dataframe thead th {\n",
       "        text-align: right;\n",
       "    }\n",
       "</style>\n",
       "<table border=\"1\" class=\"dataframe\">\n",
       "  <thead>\n",
       "    <tr style=\"text-align: right;\">\n",
       "      <th></th>\n",
       "      <th>meters_length</th>\n",
       "      <th>trip_id</th>\n",
       "      <th>min_time</th>\n",
       "      <th>min_dist</th>\n",
       "      <th>max_time</th>\n",
       "      <th>max_dist</th>\n",
       "      <th>meters_elapsed</th>\n",
       "      <th>sec_elapsed</th>\n",
       "      <th>speed_mph</th>\n",
       "      <th>percent</th>\n",
       "    </tr>\n",
       "  </thead>\n",
       "  <tbody>\n",
       "    <tr>\n",
       "      <th>756102</th>\n",
       "      <td>386.01</td>\n",
       "      <td>904427</td>\n",
       "      <td>53824.00</td>\n",
       "      <td>284.59</td>\n",
       "      <td>53844.00</td>\n",
       "      <td>386.01</td>\n",
       "      <td>101.42</td>\n",
       "      <td>20.00</td>\n",
       "      <td>11.34</td>\n",
       "      <td>26.27</td>\n",
       "    </tr>\n",
       "    <tr>\n",
       "      <th>756103</th>\n",
       "      <td>386.01</td>\n",
       "      <td>904430</td>\n",
       "      <td>27500.00</td>\n",
       "      <td>386.01</td>\n",
       "      <td>27510.00</td>\n",
       "      <td>386.01</td>\n",
       "      <td>0.00</td>\n",
       "      <td>10.00</td>\n",
       "      <td>0.00</td>\n",
       "      <td>0.00</td>\n",
       "    </tr>\n",
       "    <tr>\n",
       "      <th>756104</th>\n",
       "      <td>386.01</td>\n",
       "      <td>904452</td>\n",
       "      <td>75250.00</td>\n",
       "      <td>0.00</td>\n",
       "      <td>75339.00</td>\n",
       "      <td>0.00</td>\n",
       "      <td>0.00</td>\n",
       "      <td>89.00</td>\n",
       "      <td>0.00</td>\n",
       "      <td>0.00</td>\n",
       "    </tr>\n",
       "  </tbody>\n",
       "</table>\n",
       "</div>"
      ],
      "text/plain": [
       "        meters_length trip_id  min_time  min_dist  max_time  max_dist  \\\n",
       "756102         386.01  904427  53824.00    284.59  53844.00    386.01   \n",
       "756103         386.01  904430  27500.00    386.01  27510.00    386.01   \n",
       "756104         386.01  904452  75250.00      0.00  75339.00      0.00   \n",
       "\n",
       "        meters_elapsed  sec_elapsed  speed_mph  percent  \n",
       "756102          101.42        20.00      11.34    26.27  \n",
       "756103            0.00        10.00       0.00     0.00  \n",
       "756104            0.00        89.00       0.00     0.00  "
      ]
     },
     "execution_count": 44,
     "metadata": {},
     "output_type": "execute_result"
    }
   ],
   "source": [
    "merge1.loc[(merge1.shape_array_key == shape_array4) & (merge1.stop_sequence == stop_seq4)][merge1_preview_cols]"
   ]
  },
  {
   "cell_type": "code",
   "execution_count": 45,
   "id": "64a82a45-2df9-49e6-b1e1-9aaaef90e818",
   "metadata": {},
   "outputs": [
    {
     "name": "stdout",
     "output_type": "stream",
     "text": [
      "route 21a802700dadbc2e249b595773a50363, sequence 8\n",
      "Original\n"
     ]
    },
    {
     "data": {
      "text/html": [
       "<div>\n",
       "<style scoped>\n",
       "    .dataframe tbody tr th:only-of-type {\n",
       "        vertical-align: middle;\n",
       "    }\n",
       "\n",
       "    .dataframe tbody tr th {\n",
       "        vertical-align: top;\n",
       "    }\n",
       "\n",
       "    .dataframe thead th {\n",
       "        text-align: right;\n",
       "    }\n",
       "</style>\n",
       "<table border=\"1\" class=\"dataframe\">\n",
       "  <thead>\n",
       "    <tr style=\"text-align: right;\">\n",
       "      <th></th>\n",
       "      <th>schedule_gtfs_dataset_key</th>\n",
       "      <th>stop_id</th>\n",
       "      <th>loop_or_inlining</th>\n",
       "      <th>p50_mph</th>\n",
       "      <th>n_trips</th>\n",
       "      <th>p20_mph</th>\n",
       "      <th>p80_mph</th>\n",
       "      <th>time_of_day</th>\n",
       "    </tr>\n",
       "  </thead>\n",
       "  <tbody>\n",
       "    <tr>\n",
       "      <th>29471</th>\n",
       "      <td>dbbe8ee4864a2715a40749605395d584</td>\n",
       "      <td>579</td>\n",
       "      <td>0</td>\n",
       "      <td>22.24</td>\n",
       "      <td>6</td>\n",
       "      <td>20.76</td>\n",
       "      <td>25.12</td>\n",
       "      <td>all_day</td>\n",
       "    </tr>\n",
       "    <tr>\n",
       "      <th>29472</th>\n",
       "      <td>dbbe8ee4864a2715a40749605395d584</td>\n",
       "      <td>579</td>\n",
       "      <td>0</td>\n",
       "      <td>22.94</td>\n",
       "      <td>4</td>\n",
       "      <td>18.22</td>\n",
       "      <td>27.10</td>\n",
       "      <td>peak</td>\n",
       "    </tr>\n",
       "  </tbody>\n",
       "</table>\n",
       "</div>"
      ],
      "text/plain": [
       "              schedule_gtfs_dataset_key stop_id  loop_or_inlining  p50_mph  \\\n",
       "29471  dbbe8ee4864a2715a40749605395d584     579                 0    22.24   \n",
       "29472  dbbe8ee4864a2715a40749605395d584     579                 0    22.94   \n",
       "\n",
       "       n_trips  p20_mph  p80_mph time_of_day  \n",
       "29471        6    20.76    25.12     all_day  \n",
       "29472        4    18.22    27.10        peak  "
      ]
     },
     "metadata": {},
     "output_type": "display_data"
    },
    {
     "name": "stdout",
     "output_type": "stream",
     "text": [
      "New\n"
     ]
    },
    {
     "data": {
      "text/html": [
       "<div>\n",
       "<style scoped>\n",
       "    .dataframe tbody tr th:only-of-type {\n",
       "        vertical-align: middle;\n",
       "    }\n",
       "\n",
       "    .dataframe tbody tr th {\n",
       "        vertical-align: top;\n",
       "    }\n",
       "\n",
       "    .dataframe thead th {\n",
       "        text-align: right;\n",
       "    }\n",
       "</style>\n",
       "<table border=\"1\" class=\"dataframe\">\n",
       "  <thead>\n",
       "    <tr style=\"text-align: right;\">\n",
       "      <th></th>\n",
       "      <th>schedule_gtfs_dataset_key</th>\n",
       "      <th>stop_id</th>\n",
       "      <th>loop_or_inlining</th>\n",
       "      <th>district</th>\n",
       "      <th>district_name</th>\n",
       "      <th>p50_mph</th>\n",
       "      <th>n_trips</th>\n",
       "      <th>p20_mph</th>\n",
       "      <th>p80_mph</th>\n",
       "      <th>time_of_day</th>\n",
       "    </tr>\n",
       "  </thead>\n",
       "  <tbody>\n",
       "    <tr>\n",
       "      <th>27691</th>\n",
       "      <td>dbbe8ee4864a2715a40749605395d584</td>\n",
       "      <td>579</td>\n",
       "      <td>0</td>\n",
       "      <td>7</td>\n",
       "      <td>District 7 - Los Angeles</td>\n",
       "      <td>21.72</td>\n",
       "      <td>3</td>\n",
       "      <td>17.33</td>\n",
       "      <td>26.73</td>\n",
       "      <td>all_day</td>\n",
       "    </tr>\n",
       "    <tr>\n",
       "      <th>27692</th>\n",
       "      <td>dbbe8ee4864a2715a40749605395d584</td>\n",
       "      <td>579</td>\n",
       "      <td>0</td>\n",
       "      <td>7</td>\n",
       "      <td>District 7 - Los Angeles</td>\n",
       "      <td>22.23</td>\n",
       "      <td>2</td>\n",
       "      <td>17.53</td>\n",
       "      <td>26.93</td>\n",
       "      <td>peak</td>\n",
       "    </tr>\n",
       "  </tbody>\n",
       "</table>\n",
       "</div>"
      ],
      "text/plain": [
       "              schedule_gtfs_dataset_key stop_id  loop_or_inlining  district  \\\n",
       "27691  dbbe8ee4864a2715a40749605395d584     579                 0         7   \n",
       "27692  dbbe8ee4864a2715a40749605395d584     579                 0         7   \n",
       "\n",
       "                  district_name  p50_mph  n_trips  p20_mph  p80_mph  \\\n",
       "27691  District 7 - Los Angeles    21.72        3    17.33    26.73   \n",
       "27692  District 7 - Los Angeles    22.23        2    17.53    26.93   \n",
       "\n",
       "      time_of_day  \n",
       "27691     all_day  \n",
       "27692        peak  "
      ]
     },
     "metadata": {},
     "output_type": "display_data"
    }
   ],
   "source": [
    "compare_average(avg_test, og_avg, shape_array5, stop_seq5)"
   ]
  },
  {
   "cell_type": "markdown",
   "id": "efaca354-73ae-419d-bea2-2edc7d773a0c",
   "metadata": {},
   "source": [
    "## Comparison\n",
    "* i still want a left join for segments, but only for segments that have RT trips ever (that end up going missing, after the 45% rule)\n",
    "\n",
    "* i don't want a left join to show all segments ever, bc segments are cut from scheduled shapes. more operators have schedule data than RT. so i don't want a mess of segments at the end of the left join off schedule, but a left join for \"RT shapes\""
   ]
  },
  {
   "cell_type": "code",
   "execution_count": 64,
   "id": "ea7a964d-ae0e-40b6-b8ec-b8059d93c855",
   "metadata": {},
   "outputs": [],
   "source": [
    "# Merge1: ALL rows even before cutting off max speed of 70 and segments with less than \n",
    "# 40% of the segment\n",
    "rt_segs_agg = (merge1\n",
    "            .groupby(['shape_array_key','schedule_gtfs_dataset_key'])\n",
    "            .agg({'stop_sequence':'nunique'})\n",
    "            .reset_index()\n",
    "            .rename(columns = {'stop_sequence':'total_stops'})\n",
    "            .add_prefix('og_')\n",
    "           )"
   ]
  },
  {
   "cell_type": "code",
   "execution_count": 65,
   "id": "397092c1-b8d9-47cb-a077-6bceadfdcf50",
   "metadata": {},
   "outputs": [
    {
     "data": {
      "text/html": [
       "<div>\n",
       "<style scoped>\n",
       "    .dataframe tbody tr th:only-of-type {\n",
       "        vertical-align: middle;\n",
       "    }\n",
       "\n",
       "    .dataframe tbody tr th {\n",
       "        vertical-align: top;\n",
       "    }\n",
       "\n",
       "    .dataframe thead th {\n",
       "        text-align: right;\n",
       "    }\n",
       "</style>\n",
       "<table border=\"1\" class=\"dataframe\">\n",
       "  <thead>\n",
       "    <tr style=\"text-align: right;\">\n",
       "      <th></th>\n",
       "      <th>og_shape_array_key</th>\n",
       "      <th>og_schedule_gtfs_dataset_key</th>\n",
       "      <th>og_total_stops</th>\n",
       "    </tr>\n",
       "  </thead>\n",
       "  <tbody>\n",
       "    <tr>\n",
       "      <th>2800</th>\n",
       "      <td>b1f2084455c083bb63d9e6fd19154bd9</td>\n",
       "      <td>7cc0cb1871dfd558f11a2885c145d144</td>\n",
       "      <td>26</td>\n",
       "    </tr>\n",
       "  </tbody>\n",
       "</table>\n",
       "</div>"
      ],
      "text/plain": [
       "                    og_shape_array_key      og_schedule_gtfs_dataset_key  \\\n",
       "2800  b1f2084455c083bb63d9e6fd19154bd9  7cc0cb1871dfd558f11a2885c145d144   \n",
       "\n",
       "      og_total_stops  \n",
       "2800              26  "
      ]
     },
     "execution_count": 65,
     "metadata": {},
     "output_type": "execute_result"
    }
   ],
   "source": [
    "rt_segs_agg.sample()"
   ]
  },
  {
   "cell_type": "code",
   "execution_count": 63,
   "id": "11415d26-28cf-4c0f-9ba5-402df7bb88a2",
   "metadata": {},
   "outputs": [],
   "source": [
    "# Rows that are above 70 mph and under 40% coverage of a segment are thrown away\n",
    "avg_test_agg = (avg_test\n",
    "            .groupby(['shape_array_key','schedule_gtfs_dataset_key'])\n",
    "            .agg({'stop_sequence':'nunique'})\n",
    "            .reset_index()\n",
    "            .rename(columns = {'stop_sequence':'total_stops'})\n",
    "            .add_prefix('testing_')\n",
    "           )"
   ]
  },
  {
   "cell_type": "code",
   "execution_count": 66,
   "id": "6863ad33-4e07-4e74-b968-d4702d56c50a",
   "metadata": {},
   "outputs": [
    {
     "data": {
      "text/html": [
       "<div>\n",
       "<style scoped>\n",
       "    .dataframe tbody tr th:only-of-type {\n",
       "        vertical-align: middle;\n",
       "    }\n",
       "\n",
       "    .dataframe tbody tr th {\n",
       "        vertical-align: top;\n",
       "    }\n",
       "\n",
       "    .dataframe thead th {\n",
       "        text-align: right;\n",
       "    }\n",
       "</style>\n",
       "<table border=\"1\" class=\"dataframe\">\n",
       "  <thead>\n",
       "    <tr style=\"text-align: right;\">\n",
       "      <th></th>\n",
       "      <th>testing_shape_array_key</th>\n",
       "      <th>testing_schedule_gtfs_dataset_key</th>\n",
       "      <th>testing_total_stops</th>\n",
       "    </tr>\n",
       "  </thead>\n",
       "  <tbody>\n",
       "    <tr>\n",
       "      <th>3843</th>\n",
       "      <td>f2a531fcb272ac5dd97c3b914a3507f5</td>\n",
       "      <td>5456c80d420043e15c8eb7368a8a4d89</td>\n",
       "      <td>15</td>\n",
       "    </tr>\n",
       "  </tbody>\n",
       "</table>\n",
       "</div>"
      ],
      "text/plain": [
       "               testing_shape_array_key testing_schedule_gtfs_dataset_key  \\\n",
       "3843  f2a531fcb272ac5dd97c3b914a3507f5  5456c80d420043e15c8eb7368a8a4d89   \n",
       "\n",
       "      testing_total_stops  \n",
       "3843                   15  "
      ]
     },
     "execution_count": 66,
     "metadata": {},
     "output_type": "execute_result"
    }
   ],
   "source": [
    "avg_test_agg.sample()"
   ]
  },
  {
   "cell_type": "code",
   "execution_count": 49,
   "id": "7e468c16-2d41-4b8c-9e1d-d45beec22805",
   "metadata": {},
   "outputs": [
    {
     "data": {
      "text/plain": [
       "((4060, 3), (4088, 3))"
      ]
     },
     "execution_count": 49,
     "metadata": {},
     "output_type": "execute_result"
    }
   ],
   "source": [
    "avg_test_agg.shape, rt_segs_agg.shape"
   ]
  },
  {
   "cell_type": "code",
   "execution_count": 68,
   "id": "03e20331-bd79-4d2b-ac1f-1d889b8d1651",
   "metadata": {},
   "outputs": [],
   "source": [
    "m1 = (pd\n",
    "      .merge(rt_segs_agg, avg_test_agg, \n",
    "             left_on = ['og_shape_array_key', 'og_schedule_gtfs_dataset_key'],\n",
    "             right_on = ['testing_shape_array_key', 'testing_schedule_gtfs_dataset_key'], \n",
    "             how = 'outer', indicator = True)\n",
    "     )"
   ]
  },
  {
   "cell_type": "code",
   "execution_count": 70,
   "id": "4e6d3967-6b60-44ce-8c42-fab450f217a0",
   "metadata": {},
   "outputs": [],
   "source": [
    "m1['total_thrown_out_stops'] = m1.og_total_stops - m1.testing_total_stops"
   ]
  },
  {
   "cell_type": "code",
   "execution_count": 75,
   "id": "af8fff18-a703-4bcf-a398-c318d419abff",
   "metadata": {},
   "outputs": [
    {
     "data": {
      "text/html": [
       "<div>\n",
       "<style scoped>\n",
       "    .dataframe tbody tr th:only-of-type {\n",
       "        vertical-align: middle;\n",
       "    }\n",
       "\n",
       "    .dataframe tbody tr th {\n",
       "        vertical-align: top;\n",
       "    }\n",
       "\n",
       "    .dataframe thead th {\n",
       "        text-align: right;\n",
       "    }\n",
       "</style>\n",
       "<table border=\"1\" class=\"dataframe\">\n",
       "  <thead>\n",
       "    <tr style=\"text-align: right;\">\n",
       "      <th></th>\n",
       "      <th>og_shape_array_key</th>\n",
       "      <th>og_schedule_gtfs_dataset_key</th>\n",
       "      <th>og_total_stops</th>\n",
       "      <th>testing_shape_array_key</th>\n",
       "      <th>testing_schedule_gtfs_dataset_key</th>\n",
       "      <th>testing_total_stops</th>\n",
       "      <th>_merge</th>\n",
       "      <th>total_thrown_out_stops</th>\n",
       "    </tr>\n",
       "  </thead>\n",
       "  <tbody>\n",
       "    <tr>\n",
       "      <th>3220</th>\n",
       "      <td>cb62fe67480015ead2335637cc9186cb</td>\n",
       "      <td>0139b1253130b33adcd4b3a4490530d2</td>\n",
       "      <td>30</td>\n",
       "      <td>cb62fe67480015ead2335637cc9186cb</td>\n",
       "      <td>0139b1253130b33adcd4b3a4490530d2</td>\n",
       "      <td>26.00</td>\n",
       "      <td>both</td>\n",
       "      <td>4.00</td>\n",
       "    </tr>\n",
       "    <tr>\n",
       "      <th>2514</th>\n",
       "      <td>9ddb6474b9b2af72d4e1a8c99fc768c4</td>\n",
       "      <td>1770249a5a2e770ca90628434d4934b1</td>\n",
       "      <td>5</td>\n",
       "      <td>9ddb6474b9b2af72d4e1a8c99fc768c4</td>\n",
       "      <td>1770249a5a2e770ca90628434d4934b1</td>\n",
       "      <td>4.00</td>\n",
       "      <td>both</td>\n",
       "      <td>1.00</td>\n",
       "    </tr>\n",
       "    <tr>\n",
       "      <th>2534</th>\n",
       "      <td>9ef649fec1b82fc03432099552fe0cc6</td>\n",
       "      <td>eb9acbcb42315399bb54df78adfd3dac</td>\n",
       "      <td>40</td>\n",
       "      <td>9ef649fec1b82fc03432099552fe0cc6</td>\n",
       "      <td>eb9acbcb42315399bb54df78adfd3dac</td>\n",
       "      <td>39.00</td>\n",
       "      <td>both</td>\n",
       "      <td>1.00</td>\n",
       "    </tr>\n",
       "  </tbody>\n",
       "</table>\n",
       "</div>"
      ],
      "text/plain": [
       "                    og_shape_array_key      og_schedule_gtfs_dataset_key  \\\n",
       "3220  cb62fe67480015ead2335637cc9186cb  0139b1253130b33adcd4b3a4490530d2   \n",
       "2514  9ddb6474b9b2af72d4e1a8c99fc768c4  1770249a5a2e770ca90628434d4934b1   \n",
       "2534  9ef649fec1b82fc03432099552fe0cc6  eb9acbcb42315399bb54df78adfd3dac   \n",
       "\n",
       "      og_total_stops           testing_shape_array_key  \\\n",
       "3220              30  cb62fe67480015ead2335637cc9186cb   \n",
       "2514               5  9ddb6474b9b2af72d4e1a8c99fc768c4   \n",
       "2534              40  9ef649fec1b82fc03432099552fe0cc6   \n",
       "\n",
       "     testing_schedule_gtfs_dataset_key  testing_total_stops _merge  \\\n",
       "3220  0139b1253130b33adcd4b3a4490530d2                26.00   both   \n",
       "2514  1770249a5a2e770ca90628434d4934b1                 4.00   both   \n",
       "2534  eb9acbcb42315399bb54df78adfd3dac                39.00   both   \n",
       "\n",
       "      total_thrown_out_stops  \n",
       "3220                    4.00  \n",
       "2514                    1.00  \n",
       "2534                    1.00  "
      ]
     },
     "execution_count": 75,
     "metadata": {},
     "output_type": "execute_result"
    }
   ],
   "source": [
    "m1.sample(3)"
   ]
  },
  {
   "cell_type": "code",
   "execution_count": 76,
   "id": "cc82466e-b06f-43b6-bc60-d9dd262d30af",
   "metadata": {},
   "outputs": [
    {
     "data": {
      "text/html": [
       "<div>\n",
       "<style scoped>\n",
       "    .dataframe tbody tr th:only-of-type {\n",
       "        vertical-align: middle;\n",
       "    }\n",
       "\n",
       "    .dataframe tbody tr th {\n",
       "        vertical-align: top;\n",
       "    }\n",
       "\n",
       "    .dataframe thead th {\n",
       "        text-align: right;\n",
       "    }\n",
       "</style>\n",
       "<table border=\"1\" class=\"dataframe\">\n",
       "  <thead>\n",
       "    <tr style=\"text-align: right;\">\n",
       "      <th></th>\n",
       "      <th>og_shape_array_key</th>\n",
       "      <th>og_schedule_gtfs_dataset_key</th>\n",
       "      <th>og_total_stops</th>\n",
       "      <th>testing_shape_array_key</th>\n",
       "      <th>testing_schedule_gtfs_dataset_key</th>\n",
       "      <th>testing_total_stops</th>\n",
       "      <th>_merge</th>\n",
       "      <th>total_thrown_out_stops</th>\n",
       "    </tr>\n",
       "  </thead>\n",
       "  <tbody>\n",
       "    <tr>\n",
       "      <th>2944</th>\n",
       "      <td>ba44c4ca0a8cffeb99a85555699c2af4</td>\n",
       "      <td>8f152d5328f38ce505eb9c647e08375e</td>\n",
       "      <td>3</td>\n",
       "      <td>NaN</td>\n",
       "      <td>NaN</td>\n",
       "      <td>NaN</td>\n",
       "      <td>left_only</td>\n",
       "      <td>NaN</td>\n",
       "    </tr>\n",
       "    <tr>\n",
       "      <th>3426</th>\n",
       "      <td>d79dacb8b4fe1f5416ec106f4ac5672d</td>\n",
       "      <td>07d3b79f14cec8099119e1eb649f065b</td>\n",
       "      <td>1</td>\n",
       "      <td>NaN</td>\n",
       "      <td>NaN</td>\n",
       "      <td>NaN</td>\n",
       "      <td>left_only</td>\n",
       "      <td>NaN</td>\n",
       "    </tr>\n",
       "    <tr>\n",
       "      <th>2606</th>\n",
       "      <td>a3f8b36fe1105d028d1dc627f4961e5c</td>\n",
       "      <td>770072d7a8d356b529ef34fe01715bcb</td>\n",
       "      <td>2</td>\n",
       "      <td>NaN</td>\n",
       "      <td>NaN</td>\n",
       "      <td>NaN</td>\n",
       "      <td>left_only</td>\n",
       "      <td>NaN</td>\n",
       "    </tr>\n",
       "  </tbody>\n",
       "</table>\n",
       "</div>"
      ],
      "text/plain": [
       "                    og_shape_array_key      og_schedule_gtfs_dataset_key  \\\n",
       "2944  ba44c4ca0a8cffeb99a85555699c2af4  8f152d5328f38ce505eb9c647e08375e   \n",
       "3426  d79dacb8b4fe1f5416ec106f4ac5672d  07d3b79f14cec8099119e1eb649f065b   \n",
       "2606  a3f8b36fe1105d028d1dc627f4961e5c  770072d7a8d356b529ef34fe01715bcb   \n",
       "\n",
       "      og_total_stops testing_shape_array_key  \\\n",
       "2944               3                     NaN   \n",
       "3426               1                     NaN   \n",
       "2606               2                     NaN   \n",
       "\n",
       "     testing_schedule_gtfs_dataset_key  testing_total_stops     _merge  \\\n",
       "2944                               NaN                  NaN  left_only   \n",
       "3426                               NaN                  NaN  left_only   \n",
       "2606                               NaN                  NaN  left_only   \n",
       "\n",
       "      total_thrown_out_stops  \n",
       "2944                     NaN  \n",
       "3426                     NaN  \n",
       "2606                     NaN  "
      ]
     },
     "execution_count": 76,
     "metadata": {},
     "output_type": "execute_result"
    }
   ],
   "source": [
    "m1.loc[m1._merge == 'left_only'].sample(3)"
   ]
  },
  {
   "cell_type": "markdown",
   "id": "1c7c7868-fe1f-4182-ac32-480e86cdf6b6",
   "metadata": {},
   "source": [
    "* 28 routes are missing."
   ]
  },
  {
   "cell_type": "code",
   "execution_count": 71,
   "id": "bd236af7-a8fa-4085-9db5-9681031b14c5",
   "metadata": {},
   "outputs": [
    {
     "data": {
      "text/plain": [
       "both          4060\n",
       "left_only       28\n",
       "right_only       0\n",
       "Name: _merge, dtype: int64"
      ]
     },
     "execution_count": 71,
     "metadata": {},
     "output_type": "execute_result"
    }
   ],
   "source": [
    "m1._merge.value_counts()"
   ]
  },
  {
   "cell_type": "code",
   "execution_count": 73,
   "id": "33aa075a-74e0-4538-be13-f9b0ec78f55b",
   "metadata": {},
   "outputs": [
    {
     "data": {
      "text/plain": [
       "count   4060.00\n",
       "mean       3.18\n",
       "std        3.85\n",
       "min        0.00\n",
       "25%        1.00\n",
       "50%        2.00\n",
       "75%        4.00\n",
       "max       55.00\n",
       "Name: total_thrown_out_stops, dtype: float64"
      ]
     },
     "execution_count": 73,
     "metadata": {},
     "output_type": "execute_result"
    }
   ],
   "source": [
    "m1.total_thrown_out_stops.describe()"
   ]
  },
  {
   "cell_type": "markdown",
   "id": "ad49a707-454e-42e4-99e1-56c1d692dc45",
   "metadata": {},
   "source": [
    "#### Seeing all the sequences thrown out"
   ]
  },
  {
   "cell_type": "code",
   "execution_count": 50,
   "id": "493c2364-2032-495f-b628-7b21b5a29f5c",
   "metadata": {},
   "outputs": [],
   "source": [
    "subset = ['shape_array_key','schedule_gtfs_dataset_key', 'stop_sequence']"
   ]
  },
  {
   "cell_type": "code",
   "execution_count": 51,
   "id": "028e98e1-7562-40a2-95fe-c96b0cb9e7b4",
   "metadata": {},
   "outputs": [],
   "source": [
    "merge2 = merge1[subset]"
   ]
  },
  {
   "cell_type": "code",
   "execution_count": 52,
   "id": "977a07a0-83f3-4bbd-b56a-350b2c4ce089",
   "metadata": {},
   "outputs": [],
   "source": [
    "avg_test2 = avg_test[subset]"
   ]
  },
  {
   "cell_type": "code",
   "execution_count": 53,
   "id": "b50d758b-a746-4bff-8216-58af01bf5732",
   "metadata": {},
   "outputs": [],
   "source": [
    "m2 = pd.merge(merge2, avg_test2, on = subset, how = 'outer', indicator = True)"
   ]
  },
  {
   "cell_type": "code",
   "execution_count": 54,
   "id": "7bee76b2-b55b-40cc-bd6d-805c940b6f99",
   "metadata": {},
   "outputs": [
    {
     "data": {
      "text/plain": [
       "both          4272884\n",
       "left_only       74121\n",
       "right_only          0\n",
       "Name: _merge, dtype: int64"
      ]
     },
     "execution_count": 54,
     "metadata": {},
     "output_type": "execute_result"
    }
   ],
   "source": [
    "m2._merge.value_counts()"
   ]
  },
  {
   "cell_type": "code",
   "execution_count": 55,
   "id": "df0401ee-7eb5-49f7-ae76-2fee78152e37",
   "metadata": {},
   "outputs": [],
   "source": [
    "thrown_out_sequences = m1.loc[m1._merge == \"left_only\"].reset_index()"
   ]
  },
  {
   "cell_type": "code",
   "execution_count": 56,
   "id": "e604e001-668b-433c-ac25-f54ce713e5a4",
   "metadata": {},
   "outputs": [],
   "source": [
    "thrown_out_sequences2 = (thrown_out_sequences\n",
    "            .groupby(['shape_array_key'])\n",
    "            .agg({'stop_sequence':'nunique'})\n",
    "            .reset_index()\n",
    "            .rename(columns = {'stop_sequence':'total_missing_stops'})\n",
    "           )"
   ]
  },
  {
   "cell_type": "code",
   "execution_count": 57,
   "id": "80a93303-6c79-4027-9121-1e5c1cbfe79a",
   "metadata": {},
   "outputs": [
    {
     "data": {
      "text/plain": [
       "(3816, 2)"
      ]
     },
     "execution_count": 57,
     "metadata": {},
     "output_type": "execute_result"
    }
   ],
   "source": [
    "thrown_out_sequences2.shape"
   ]
  },
  {
   "cell_type": "code",
   "execution_count": 58,
   "id": "cfc1f084-7646-4b24-bb88-22aef521d443",
   "metadata": {},
   "outputs": [
    {
     "data": {
      "text/html": [
       "<div>\n",
       "<style scoped>\n",
       "    .dataframe tbody tr th:only-of-type {\n",
       "        vertical-align: middle;\n",
       "    }\n",
       "\n",
       "    .dataframe tbody tr th {\n",
       "        vertical-align: top;\n",
       "    }\n",
       "\n",
       "    .dataframe thead th {\n",
       "        text-align: right;\n",
       "    }\n",
       "</style>\n",
       "<table border=\"1\" class=\"dataframe\">\n",
       "  <thead>\n",
       "    <tr style=\"text-align: right;\">\n",
       "      <th></th>\n",
       "      <th>shape_array_key</th>\n",
       "      <th>total_missing_stops</th>\n",
       "    </tr>\n",
       "  </thead>\n",
       "  <tbody>\n",
       "    <tr>\n",
       "      <th>0</th>\n",
       "      <td>000b8c60f7767e8214f6ef6638d2cb83</td>\n",
       "      <td>3</td>\n",
       "    </tr>\n",
       "    <tr>\n",
       "      <th>1</th>\n",
       "      <td>001fe9bb4ed5b0bbccf1040fb5168dd2</td>\n",
       "      <td>1</td>\n",
       "    </tr>\n",
       "    <tr>\n",
       "      <th>2</th>\n",
       "      <td>00292832fd6aa3873503acd72b70dddc</td>\n",
       "      <td>8</td>\n",
       "    </tr>\n",
       "    <tr>\n",
       "      <th>3</th>\n",
       "      <td>002a87c755b2feafe8d51d142ecd6d49</td>\n",
       "      <td>1</td>\n",
       "    </tr>\n",
       "    <tr>\n",
       "      <th>4</th>\n",
       "      <td>00333fc7d5684277975b1adcdd72be8b</td>\n",
       "      <td>1</td>\n",
       "    </tr>\n",
       "  </tbody>\n",
       "</table>\n",
       "</div>"
      ],
      "text/plain": [
       "                    shape_array_key  total_missing_stops\n",
       "0  000b8c60f7767e8214f6ef6638d2cb83                    3\n",
       "1  001fe9bb4ed5b0bbccf1040fb5168dd2                    1\n",
       "2  00292832fd6aa3873503acd72b70dddc                    8\n",
       "3  002a87c755b2feafe8d51d142ecd6d49                    1\n",
       "4  00333fc7d5684277975b1adcdd72be8b                    1"
      ]
     },
     "execution_count": 58,
     "metadata": {},
     "output_type": "execute_result"
    }
   ],
   "source": [
    "thrown_out_sequences2.head()"
   ]
  },
  {
   "cell_type": "code",
   "execution_count": 59,
   "id": "57c9a363-fb77-45ac-953a-a49d99fb7954",
   "metadata": {},
   "outputs": [
    {
     "data": {
      "text/plain": [
       "count   3816.00\n",
       "mean       3.41\n",
       "std        3.88\n",
       "min        1.00\n",
       "25%        1.00\n",
       "50%        2.00\n",
       "75%        4.00\n",
       "max       55.00\n",
       "Name: total_missing_stops, dtype: float64"
      ]
     },
     "execution_count": 59,
     "metadata": {},
     "output_type": "execute_result"
    }
   ],
   "source": [
    "thrown_out_sequences2.total_missing_stops.describe()"
   ]
  }
 ],
 "metadata": {
  "kernelspec": {
   "display_name": "Python 3 (ipykernel)",
   "language": "python",
   "name": "python3"
  },
  "language_info": {
   "codemirror_mode": {
    "name": "ipython",
    "version": 3
   },
   "file_extension": ".py",
   "mimetype": "text/x-python",
   "name": "python",
   "nbconvert_exporter": "python",
   "pygments_lexer": "ipython3",
   "version": "3.9.13"
  },
  "toc-autonumbering": false,
  "toc-showcode": false
 },
 "nbformat": 4,
 "nbformat_minor": 5
}
