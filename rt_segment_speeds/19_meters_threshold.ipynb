{
 "cells": [
  {
   "cell_type": "code",
   "execution_count": 1,
   "id": "3d2ca779-5cd7-4f98-8e9f-344e9d4dcf46",
   "metadata": {},
   "outputs": [
    {
     "name": "stderr",
     "output_type": "stream",
     "text": [
      "/opt/conda/lib/python3.9/site-packages/geopandas/_compat.py:124: UserWarning: The Shapely GEOS version (3.11.1-CAPI-1.17.1) is incompatible with the GEOS version PyGEOS was compiled with (3.10.1-CAPI-1.16.0). Conversions between both will be slow.\n",
      "  warnings.warn(\n",
      "/tmp/ipykernel_2408/3696898552.py:4: DeprecationWarning: Shapely 2.0 is installed, but because PyGEOS is also installed, GeoPandas still uses PyGEOS by default. However, starting with version 0.14, the default will switch to Shapely. To force to use Shapely 2.0 now, you can either uninstall PyGEOS or set the environment variable USE_PYGEOS=0. You can do this before starting the Python process, or in your code before importing geopandas:\n",
      "\n",
      "import os\n",
      "os.environ['USE_PYGEOS'] = '0'\n",
      "import geopandas\n",
      "\n",
      "In the next release, GeoPandas will switch to using Shapely by default, even if PyGEOS is installed. If you only have PyGEOS installed to get speed-ups, this switch should be smooth. However, if you are using PyGEOS directly (calling PyGEOS functions on geometries from GeoPandas), this will then stop working and you are encouraged to migrate from PyGEOS to Shapely 2.0 (https://shapely.readthedocs.io/en/latest/migration_pygeos.html).\n",
      "  import geopandas as gpd\n"
     ]
    }
   ],
   "source": [
    "import datetime\n",
    "import dask.dataframe as dd\n",
    "import numpy as np\n",
    "import geopandas as gpd\n",
    "import pandas as pd\n",
    "import altair as alt\n",
    "from segment_speed_utils import gtfs_schedule_wrangling, helpers, segment_calcs,sched_rt_utils\n",
    "from segment_speed_utils.project_vars import (\n",
    "    COMPILED_CACHED_VIEWS,\n",
    "    PROJECT_CRS,\n",
    "    SEGMENT_GCS,  \n",
    "    analysis_date,\n",
    ")\n",
    "from scripts import (A1_sjoin_vp_segments, A2_valid_vehicle_positions,B2_avg_speeds_by_segment)\n",
    "from shared_utils import calitp_color_palette as cp, rt_utils, geography_utils\n",
    "import _threshold_utils as threshold_utils\n",
    "import _rt_scheduled_utils as rt_scheduled_utils\n",
    "CONFIG_PATH = './scripts/config.yml'\n",
    "STOP_SEG_DICT = helpers.get_parameters(CONFIG_PATH, \"stop_segments\")"
   ]
  },
  {
   "cell_type": "code",
   "execution_count": 2,
   "id": "6305e1fd-3383-4960-baa2-db169e86033d",
   "metadata": {},
   "outputs": [],
   "source": [
    "pd.options.display.max_columns = 100\n",
    "pd.options.display.float_format = \"{:.2f}\".format\n",
    "pd.set_option(\"display.max_rows\", None)\n",
    "pd.set_option(\"display.max_colwidth\", None)"
   ]
  },
  {
   "cell_type": "markdown",
   "id": "d35de724-b1b8-4d91-a37d-f4aa06120777",
   "metadata": {
    "tags": []
   },
   "source": [
    "## % of Meters\n",
    "* start with the speeds_stop_segments_{analysis_date} parquet (which is produced in B1_speeds_by_segment_trip ).\n",
    "* grab in stop_segments_{analysis_date} (in CRS 3310 already), and you can get the segment's length.\n",
    "* merge with the speeds by segment-trip, which contains the meters_elapsed column\n",
    "* calculate pct where meters_elapsed/segment_length\n",
    "* show me some charts around this, a couple of descriptives to make sure these are all ok\n",
    "* give me rough descriptives of how many rows we're dropping if we go with keeping at least 30%, 40%, 50%"
   ]
  },
  {
   "cell_type": "markdown",
   "id": "857ab4ad-1dde-4c65-bd88-99696ab9f478",
   "metadata": {},
   "source": [
    "### Open Files\n",
    "* Add `import_speeds_segs`,`calculate_segment_length`,`merge_segments_speeds` into `B2`"
   ]
  },
  {
   "cell_type": "code",
   "execution_count": 3,
   "id": "f07df469-d682-44ee-8ae3-83446c000d21",
   "metadata": {},
   "outputs": [],
   "source": [
    "# dict_inputs = helpers.get_parameters(CONFIG_PATH, \"stop_segments\")"
   ]
  },
  {
   "cell_type": "code",
   "execution_count": 4,
   "id": "ab54a5c4-d9e5-49c3-a70d-cb0f0034a99c",
   "metadata": {},
   "outputs": [],
   "source": [
    "# dict_inputs"
   ]
  },
  {
   "cell_type": "code",
   "execution_count": 5,
   "id": "ec7d196d-3dd3-445b-bd8a-9daf48fa5a88",
   "metadata": {},
   "outputs": [],
   "source": [
    "dictionary = helpers.get_parameters(CONFIG_PATH, \"stop_segments\")"
   ]
  },
  {
   "cell_type": "code",
   "execution_count": 6,
   "id": "62548e77-825c-4ed3-9f90-05a07e0fab82",
   "metadata": {},
   "outputs": [],
   "source": [
    "def import_speeds_segs(analysis_date:str, \n",
    "                       max_speed_cutoff: int, \n",
    "                       dict_inputs:dict)-> pd.DataFrame:\n",
    "    FILE = dict_inputs['stage4']\n",
    "    df = pd.read_parquet(f\"{SEGMENT_GCS}{FILE}_{analysis_date}\", \n",
    "        filters = [[(\"speed_mph\", \"<=\", max_speed_cutoff)]])\n",
    "    \n",
    "    return df"
   ]
  },
  {
   "cell_type": "code",
   "execution_count": 7,
   "id": "c90ac266-38ca-4e94-ab25-68ee40829605",
   "metadata": {},
   "outputs": [],
   "source": [
    "def load_segments(analysis_date:str, dict_inputs:dict) -> gpd.GeoDataFrame:\n",
    "    # Load in ALL segments, find the length\n",
    "    FILE = dict_inputs['segments_file']\n",
    "    segments = gpd.read_parquet(f\"{SEGMENT_GCS}{FILE}_{analysis_date}.parquet\")\n",
    "    \n",
    "    return segments"
   ]
  },
  {
   "cell_type": "code",
   "execution_count": 8,
   "id": "71eecb32-4d8d-4691-aad5-c3336028edb5",
   "metadata": {},
   "outputs": [],
   "source": [
    "segments_gdf = load_segments(analysis_date, dictionary)"
   ]
  },
  {
   "cell_type": "code",
   "execution_count": 9,
   "id": "9527de7c-e540-431d-a4a6-ed701a323236",
   "metadata": {},
   "outputs": [],
   "source": [
    "def calculate_segment_length(segments:gpd.GeoDataFrame) -> gpd.GeoDataFrame:\n",
    "    # Load in ALL segments, find the length\n",
    "    segments = segments.assign(\n",
    "        meters_length=(segments.geometry.length)\n",
    "    )\n",
    "    df = segments.drop(columns = ['geometry','district','district_name'])\n",
    "    \n",
    "    return df"
   ]
  },
  {
   "cell_type": "code",
   "execution_count": 10,
   "id": "961e15dc-1c07-411f-92be-785721b7d67e",
   "metadata": {},
   "outputs": [],
   "source": [
    "def merge_segments_speeds(segments:gpd.GeoDataFrame, \n",
    "                          analysis_date:str, \n",
    "                          max_speed_cutoff:int, \n",
    "                          dict_inputs:dict) -> pd.DataFrame:\n",
    "    speeds = import_speeds_segs(analysis_date,max_speed_cutoff, dict_inputs)\n",
    "    segments = calculate_segment_length(segments)\n",
    "    \n",
    "    merge_cols = ['shape_array_key','gtfs_dataset_key','stop_sequence','schedule_gtfs_dataset_key']\n",
    "    merge1 = pd.merge(segments, speeds, on = merge_cols, how = \"inner\")\n",
    "    \n",
    "    merge1['percent'] = merge1.meters_elapsed/merge1.meters_length * 100\n",
    "    \n",
    "    merge1.percent = merge1.percent.fillna(0)\n",
    "    return merge1"
   ]
  },
  {
   "cell_type": "code",
   "execution_count": 11,
   "id": "0e727efb-8136-4cdc-b9a5-c9bb17bf74cd",
   "metadata": {},
   "outputs": [],
   "source": [
    "merge1= merge_segments_speeds(segments_gdf, analysis_date, 70, dictionary)"
   ]
  },
  {
   "cell_type": "code",
   "execution_count": 12,
   "id": "e0d81d69-30b0-47c1-a560-083eaaac5496",
   "metadata": {},
   "outputs": [],
   "source": [
    "def myround(x, base=5):\n",
    "    return base * round(x/base)"
   ]
  },
  {
   "cell_type": "code",
   "execution_count": 13,
   "id": "d7737449-92b0-417e-ad76-fceb20e9403e",
   "metadata": {},
   "outputs": [],
   "source": [
    "def valid_trips_by_cutoff(df, percentages:list):\n",
    "    final = pd.DataFrame()\n",
    "    og_len = len(df)\n",
    "    og_trips = df.trip_id.nunique()\n",
    "    og_shape_array_key = df.shape_array_key.nunique()\n",
    "    \n",
    "    for i in percentages:\n",
    "        # Round up percent to nearest 5. Ex: 43 becomes 45.\n",
    "        percent = myround(df.percent.quantile(i).astype(float))\n",
    "        temp = (df[(df.percent >= percent)])\n",
    "        \n",
    "        temp = temp.assign(\n",
    "            percentile = f\"Min. of {percent}% of seg length covered\")\n",
    "        \n",
    "        temp = (temp\n",
    "                .groupby(['percentile'])\n",
    "                .agg({'gtfs_dataset_name':'count',\n",
    "                      'speed_mph':'mean',\n",
    "                      'shape_array_key':'nunique',\n",
    "                     'trip_id':'nunique',\n",
    "                     'gtfs_dataset_key':'nunique'})\n",
    "                .reset_index()\n",
    "                .rename(columns = {'gtfs_dataset_name':'n_rows',\n",
    "                                  'speed_mph':'mean_speed_mph',\n",
    "                                  'shape_array_key':'n_kept_routes',\n",
    "                                  'trip_id':'n_kept_trips',\n",
    "                                  'gtfs_dataset_key':'n_kept_operators'})\n",
    "               )\n",
    "        \n",
    "        final = pd.concat([final, temp], axis=0)\n",
    "\n",
    "    \n",
    "    final = final.assign(\n",
    "        percentage_kept_rows=final.n_rows.divide(og_len) * 100,\n",
    "        percentage_kept_trips = final.n_kept_trips.divide(og_trips) * 100,\n",
    "        percentage_kept_routes = final.n_kept_routes.divide(og_shape_array_key)*100)\n",
    "    \n",
    "    round_cols = ['percentage_kept_rows', 'percentage_kept_trips', 'percentage_kept_routes']\n",
    "    final[round_cols] = final[round_cols].round(0)\n",
    "    return final"
   ]
  },
  {
   "cell_type": "code",
   "execution_count": 14,
   "id": "02da2cef-c921-4d79-856b-a797f715b7ed",
   "metadata": {},
   "outputs": [],
   "source": [
    "test = valid_trips_by_cutoff(merge1, [.1,.2,.3,.4,.5,.6,.7])"
   ]
  },
  {
   "cell_type": "code",
   "execution_count": 15,
   "id": "20aff75d-f059-4af5-aa71-aaed42d55674",
   "metadata": {},
   "outputs": [],
   "source": [
    "#test"
   ]
  },
  {
   "cell_type": "markdown",
   "id": "9daf292e-e8d8-4813-86c9-7a09fc035c4a",
   "metadata": {
    "tags": []
   },
   "source": [
    "## Sample segments and routes for Big Blue Bus"
   ]
  },
  {
   "cell_type": "code",
   "execution_count": 16,
   "id": "edbaac05-d03a-42d4-abba-4a4483fa3005",
   "metadata": {},
   "outputs": [],
   "source": [
    "test_operator = \"Big Blue Bus VehiclePositions\"\n",
    "test_org = \"City of Santa Monica\"\n",
    "test_key = \"6c2d7daaf979779fa2089c6395baf98b\""
   ]
  },
  {
   "cell_type": "code",
   "execution_count": 17,
   "id": "9c7826f6-27ed-498f-97b8-ee0f4c2a992a",
   "metadata": {},
   "outputs": [],
   "source": [
    "pub_df = pd.read_parquet(\n",
    "    f\"{SEGMENT_GCS}export/avg_speeds_stop_segments_{analysis_date}_tabular.parquet\", \n",
    "    filters = [[(\"agency\", \"==\", test_org)]]\n",
    ")"
   ]
  },
  {
   "cell_type": "code",
   "execution_count": 18,
   "id": "288a9881-aa75-4331-9c4c-e01c3954fafe",
   "metadata": {},
   "outputs": [],
   "source": [
    "# Dark orange\n",
    "shape_id1  = \"26375\"\n",
    "stop_seq1 = 7\n",
    "shape_array1 = pub_df[pub_df.shape_id==shape_id1].shape_array_key.iloc[0]"
   ]
  },
  {
   "cell_type": "code",
   "execution_count": 19,
   "id": "05465822-ff34-47cb-ac43-2d11e12e3494",
   "metadata": {},
   "outputs": [],
   "source": [
    "# Light yellow \n",
    "shape_id2 = \"26342\"\n",
    "stop_seq2 = 23\n",
    "shape_array2 = pub_df[pub_df.shape_id==shape_id2].shape_array_key.iloc[0]"
   ]
  },
  {
   "cell_type": "code",
   "execution_count": 20,
   "id": "d1315d79-276d-4810-9593-07e8770f67ba",
   "metadata": {},
   "outputs": [],
   "source": [
    "# Dark Red\n",
    "shape_id3 = \"26393\"\n",
    "stop_seq3 = 32\n",
    "shape_array3 = pub_df[pub_df.shape_id==shape_id3].shape_array_key.iloc[0]"
   ]
  },
  {
   "cell_type": "code",
   "execution_count": 21,
   "id": "d163d014-0e76-41ef-813f-ff2617077249",
   "metadata": {},
   "outputs": [],
   "source": [
    "# Light orange\n",
    "shape_id4 = \"26372\"\n",
    "stop_seq4 = 14\n",
    "shape_array4 = pub_df[pub_df.shape_id==shape_id4].shape_array_key.iloc[0]"
   ]
  },
  {
   "cell_type": "code",
   "execution_count": 22,
   "id": "d946f239-b242-4a3e-95f6-580690e245b7",
   "metadata": {},
   "outputs": [],
   "source": [
    "# Green\n",
    "shape_id5 = \"26400\"\n",
    "stop_seq5= 8\n",
    "shape_array5 = pub_df[pub_df.shape_id==shape_id5].shape_array_key.iloc[0]"
   ]
  },
  {
   "cell_type": "code",
   "execution_count": 23,
   "id": "ec9da438-07d4-45ef-85c1-fc44d6eaadbf",
   "metadata": {},
   "outputs": [],
   "source": [
    "def one_route_map(avg_speeds:gpd.GeoDataFrame, shape_array_key:str):\n",
    "    display(avg_speeds[avg_speeds.shape_array_key==shape_array_key].explore(\n",
    "    \"p50_mph\", \n",
    "    tiles = \"CartoDB Positron\",\n",
    "    cmap = rt_utils.ZERO_THIRTY_COLORSCALE,\n",
    "    style_kwds = {'weight':5}))\n",
    "    "
   ]
  },
  {
   "cell_type": "markdown",
   "id": "1483859e-bd07-4d5f-b86f-0f9d7bebe121",
   "metadata": {
    "tags": []
   },
   "source": [
    "## Visualizing Speed\n",
    "* https://nbviewer.org/github/cal-itp/data-analyses/blob/filter-speeds-avgs/rt_segment_speeds/18_speed_distribution.ipynb\n",
    "* https://analysis.calitp.org/rt/district_07-los-angeles/9__speedmaps__district_07-los-angeles__itp_id_300.html"
   ]
  },
  {
   "cell_type": "markdown",
   "id": "938e5d67-7fd0-4d62-af9d-0f26d08f12ed",
   "metadata": {},
   "source": [
    "### % of rows kept"
   ]
  },
  {
   "cell_type": "code",
   "execution_count": 24,
   "id": "561eb328-18d5-4b2a-bd1e-4777b23b765c",
   "metadata": {},
   "outputs": [],
   "source": [
    "test = threshold_utils.pre_clean(test)"
   ]
  },
  {
   "cell_type": "code",
   "execution_count": 25,
   "id": "65d0b237-544f-4245-9de0-f2308ae8c8f2",
   "metadata": {},
   "outputs": [],
   "source": [
    "# Main chart\n",
    "def bar_chart(df, x_column: str, y_column:str, title:str):\n",
    "    chart = (alt.Chart(df)\n",
    "         .mark_bar()\n",
    "         .encode(x=x_column, y= y_column, \n",
    "          color=alt.Color(y_column, \n",
    "          scale=alt.Scale(range=cp.CALITP_CATEGORY_BRIGHT_COLORS),\n",
    "          legend=None),\n",
    "          tooltip = df.columns.tolist())\n",
    "         .properties(title = title)\n",
    "            )\n",
    "    chart = threshold_utils.chart_size((chart), 400,300)\n",
    "    return chart\n",
    "    "
   ]
  },
  {
   "cell_type": "code",
   "execution_count": 26,
   "id": "4c8a453f-e38f-4a37-9a3e-06f8069f7dca",
   "metadata": {},
   "outputs": [
    {
     "data": {
      "text/html": [
       "\n",
       "<style>\n",
       "  #altair-viz-c0f5ae8d32524af6b639718f3c765e55.vega-embed {\n",
       "    width: 100%;\n",
       "    display: flex;\n",
       "  }\n",
       "\n",
       "  #altair-viz-c0f5ae8d32524af6b639718f3c765e55.vega-embed details,\n",
       "  #altair-viz-c0f5ae8d32524af6b639718f3c765e55.vega-embed details summary {\n",
       "    position: relative;\n",
       "  }\n",
       "</style>\n",
       "<div id=\"altair-viz-c0f5ae8d32524af6b639718f3c765e55\"></div>\n",
       "<script type=\"text/javascript\">\n",
       "  var VEGA_DEBUG = (typeof VEGA_DEBUG == \"undefined\") ? {} : VEGA_DEBUG;\n",
       "  (function(spec, embedOpt){\n",
       "    let outputDiv = document.currentScript.previousElementSibling;\n",
       "    if (outputDiv.id !== \"altair-viz-c0f5ae8d32524af6b639718f3c765e55\") {\n",
       "      outputDiv = document.getElementById(\"altair-viz-c0f5ae8d32524af6b639718f3c765e55\");\n",
       "    }\n",
       "    const paths = {\n",
       "      \"vega\": \"https://cdn.jsdelivr.net/npm/vega@5?noext\",\n",
       "      \"vega-lib\": \"https://cdn.jsdelivr.net/npm/vega-lib?noext\",\n",
       "      \"vega-lite\": \"https://cdn.jsdelivr.net/npm/vega-lite@5.8.0?noext\",\n",
       "      \"vega-embed\": \"https://cdn.jsdelivr.net/npm/vega-embed@6?noext\",\n",
       "    };\n",
       "\n",
       "    function maybeLoadScript(lib, version) {\n",
       "      var key = `${lib.replace(\"-\", \"\")}_version`;\n",
       "      return (VEGA_DEBUG[key] == version) ?\n",
       "        Promise.resolve(paths[lib]) :\n",
       "        new Promise(function(resolve, reject) {\n",
       "          var s = document.createElement('script');\n",
       "          document.getElementsByTagName(\"head\")[0].appendChild(s);\n",
       "          s.async = true;\n",
       "          s.onload = () => {\n",
       "            VEGA_DEBUG[key] = version;\n",
       "            return resolve(paths[lib]);\n",
       "          };\n",
       "          s.onerror = () => reject(`Error loading script: ${paths[lib]}`);\n",
       "          s.src = paths[lib];\n",
       "        });\n",
       "    }\n",
       "\n",
       "    function showError(err) {\n",
       "      outputDiv.innerHTML = `<div class=\"error\" style=\"color:red;\">${err}</div>`;\n",
       "      throw err;\n",
       "    }\n",
       "\n",
       "    function displayChart(vegaEmbed) {\n",
       "      vegaEmbed(outputDiv, spec, embedOpt)\n",
       "        .catch(err => showError(`Javascript Error: ${err.message}<br>This usually means there's a typo in your chart specification. See the javascript console for the full traceback.`));\n",
       "    }\n",
       "\n",
       "    if(typeof define === \"function\" && define.amd) {\n",
       "      requirejs.config({paths});\n",
       "      require([\"vega-embed\"], displayChart, err => showError(`Error loading script: ${err.message}`));\n",
       "    } else {\n",
       "      maybeLoadScript(\"vega\", \"5\")\n",
       "        .then(() => maybeLoadScript(\"vega-lite\", \"5.8.0\"))\n",
       "        .then(() => maybeLoadScript(\"vega-embed\", \"6\"))\n",
       "        .catch(showError)\n",
       "        .then(() => displayChart(vegaEmbed));\n",
       "    }\n",
       "  })({\"config\": {\"view\": {\"continuousWidth\": 300, \"continuousHeight\": 300}}, \"data\": {\"name\": \"data-939783b255ba8d6fbfbafef0f53a56cd\"}, \"mark\": {\"type\": \"bar\"}, \"encoding\": {\"color\": {\"field\": \"Percentile\", \"legend\": null, \"scale\": {\"range\": [\"#2EA8CE\", \"#EB9F3C\", \"#F4D837\", \"#51BF9D\", \"#8CBCCB\", \"#9487C0\"]}, \"type\": \"nominal\"}, \"tooltip\": [{\"field\": \"Percentile\", \"type\": \"nominal\"}, {\"field\": \"N Rows\", \"type\": \"quantitative\"}, {\"field\": \"Mean Speed Mph\", \"type\": \"quantitative\"}, {\"field\": \"N Kept Routes\", \"type\": \"quantitative\"}, {\"field\": \"N Kept Trips\", \"type\": \"quantitative\"}, {\"field\": \"N Kept Operators\", \"type\": \"quantitative\"}, {\"field\": \"Percentage Kept Rows\", \"type\": \"quantitative\"}, {\"field\": \"Percentage Kept Trips\", \"type\": \"quantitative\"}, {\"field\": \"Percentage Kept Routes\", \"type\": \"quantitative\"}], \"x\": {\"field\": \"Percentage Kept Rows\", \"type\": \"quantitative\"}, \"y\": {\"field\": \"Percentile\", \"type\": \"nominal\"}}, \"height\": 300, \"title\": \"Rows Kept After % Segment Cutoff\", \"width\": 400, \"$schema\": \"https://vega.github.io/schema/vega-lite/v5.8.0.json\", \"datasets\": {\"data-939783b255ba8d6fbfbafef0f53a56cd\": [{\"Percentile\": \"Min. of 15% of seg length covered\", \"N Rows\": 1993512, \"Mean Speed Mph\": 11.9, \"N Kept Routes\": 4078, \"N Kept Trips\": 65917, \"N Kept Operators\": 74, \"Percentage Kept Rows\": 90.0, \"Percentage Kept Trips\": 100.0, \"Percentage Kept Routes\": 100.0}, {\"Percentile\": \"Min. of 45% of seg length covered\", \"N Rows\": 1762169, \"Mean Speed Mph\": 12.4, \"N Kept Routes\": 4065, \"N Kept Trips\": 65678, \"N Kept Operators\": 74, \"Percentage Kept Rows\": 79.0, \"Percentage Kept Trips\": 99.0, \"Percentage Kept Routes\": 99.0}, {\"Percentile\": \"Min. of 60% of seg length covered\", \"N Rows\": 1565261, \"Mean Speed Mph\": 12.2, \"N Kept Routes\": 4055, \"N Kept Trips\": 65432, \"N Kept Operators\": 74, \"Percentage Kept Rows\": 70.0, \"Percentage Kept Trips\": 99.0, \"Percentage Kept Routes\": 99.0}, {\"Percentile\": \"Min. of 75% of seg length covered\", \"N Rows\": 1300315, \"Mean Speed Mph\": 11.9, \"N Kept Routes\": 4038, \"N Kept Trips\": 64917, \"N Kept Operators\": 74, \"Percentage Kept Rows\": 58.0, \"Percentage Kept Trips\": 98.0, \"Percentage Kept Routes\": 99.0}, {\"Percentile\": \"Min. of 85% of seg length covered\", \"N Rows\": 1063392, \"Mean Speed Mph\": 11.5, \"N Kept Routes\": 4017, \"N Kept Trips\": 63981, \"N Kept Operators\": 74, \"Percentage Kept Rows\": 48.0, \"Percentage Kept Trips\": 97.0, \"Percentage Kept Routes\": 98.0}, {\"Percentile\": \"Min. of 90% of seg length covered\", \"N Rows\": 908232, \"Mean Speed Mph\": 11.3, \"N Kept Routes\": 3982, \"N Kept Trips\": 62933, \"N Kept Operators\": 74, \"Percentage Kept Rows\": 41.0, \"Percentage Kept Trips\": 95.0, \"Percentage Kept Routes\": 97.0}, {\"Percentile\": \"Min. of 95% of seg length covered\", \"N Rows\": 694854, \"Mean Speed Mph\": 10.8, \"N Kept Routes\": 3913, \"N Kept Trips\": 61088, \"N Kept Operators\": 74, \"Percentage Kept Rows\": 31.0, \"Percentage Kept Trips\": 92.0, \"Percentage Kept Routes\": 96.0}]}}, {\"mode\": \"vega-lite\"});\n",
       "</script>"
      ],
      "text/plain": [
       "alt.Chart(...)"
      ]
     },
     "execution_count": 26,
     "metadata": {},
     "output_type": "execute_result"
    }
   ],
   "source": [
    "bar_chart(test, 'Percentage Kept Rows','Percentile', 'Rows Kept After % Segment Cutoff')"
   ]
  },
  {
   "cell_type": "code",
   "execution_count": 27,
   "id": "bbc14bae-327a-4269-bf2f-1e0089379f28",
   "metadata": {},
   "outputs": [],
   "source": [
    "#bar_chart(test, 'Percentage Kept Trips','Percentile', '% of Trips Kept After Segment Cutoff')"
   ]
  },
  {
   "cell_type": "code",
   "execution_count": 28,
   "id": "6e3b93d2-572d-4e56-82f7-d0627b106d38",
   "metadata": {},
   "outputs": [],
   "source": [
    "#bar_chart(test, 'Percentage Kept Routes','Percentile', '% of Routes Kept After Segment Cutoff')"
   ]
  },
  {
   "cell_type": "code",
   "execution_count": 29,
   "id": "5982d881-f62d-4de8-84a3-2bfed4b1ed1f",
   "metadata": {},
   "outputs": [],
   "source": [
    "#bar_chart(test, 'Mean Speed Mph', 'Percentile', 'Mean MPH by % Segment Length')"
   ]
  },
  {
   "cell_type": "markdown",
   "id": "5c7ed892-21b4-434c-bc90-c76514e446d2",
   "metadata": {},
   "source": [
    "## Only keep speeds that meet a certain threshold\n",
    "* Put it in `speeds_with_segment_geom` in `B2`"
   ]
  },
  {
   "cell_type": "code",
   "execution_count": 30,
   "id": "ee843630-501d-4a46-82a4-8005cb0f4fe4",
   "metadata": {},
   "outputs": [],
   "source": [
    "def speeds_length_filter(segments: gpd.GeoDataFrame, \n",
    "                         analysis_date:str, \n",
    "                         threshold: float, \n",
    "                         max_speed_cut_off: int,\n",
    "                         dict_inputs:dict) -> pd.DataFrame:\n",
    "    \n",
    "    df = merge_segments_speeds(segments, analysis_date, max_speed_cut_off,dict_inputs)\n",
    "    \n",
    "    percent = df.percent.quantile(threshold).astype(float)\n",
    "    \n",
    "    df = (df[(df.percent >= percent)])\n",
    "\n",
    "    columns_to_keep = ['shape_array_key', 'stop_sequence', 'gtfs_dataset_key',\n",
    "       'gtfs_dataset_name', 'trip_id', 'min_time', 'min_dist', 'max_time',\n",
    "       'max_dist', 'meters_elapsed', 'sec_elapsed', 'speed_mph',\n",
    "       'trip_instance_key', 'schedule_gtfs_dataset_key',]\n",
    "    \n",
    "    df = df[columns_to_keep]\n",
    "    \n",
    "    return df "
   ]
  },
  {
   "cell_type": "code",
   "execution_count": 31,
   "id": "30bc569f-6e19-4369-b6a9-165e6c77b4b5",
   "metadata": {},
   "outputs": [],
   "source": [
    "# percentile_df  = speeds_length_filter(segments_gdf, analysis_date, 0.2, 70, dictionary)"
   ]
  },
  {
   "cell_type": "code",
   "execution_count": 32,
   "id": "0956d551-43ec-4812-88bf-9b53a5aae4d7",
   "metadata": {},
   "outputs": [],
   "source": [
    "# percentile_df.columns"
   ]
  },
  {
   "cell_type": "code",
   "execution_count": 33,
   "id": "f76cd421-b15c-41ce-8f8f-a5a177317920",
   "metadata": {},
   "outputs": [],
   "source": [
    "# time_of_day_df = sched_rt_utils.get_trip_time_buckets(analysis_date)"
   ]
  },
  {
   "cell_type": "code",
   "execution_count": 34,
   "id": "a7c14943-37be-4a0f-a880-c2ee81680e8c",
   "metadata": {},
   "outputs": [],
   "source": [
    "# time_of_day_df.columns"
   ]
  },
  {
   "cell_type": "markdown",
   "id": "508cf5a1-bc2c-4fb8-904f-62cfc19fc04f",
   "metadata": {},
   "source": [
    "### Edited B2 function"
   ]
  },
  {
   "cell_type": "code",
   "execution_count": 35,
   "id": "eeb0be03-dd95-464b-8110-1007996d5429",
   "metadata": {
    "scrolled": true,
    "tags": []
   },
   "outputs": [],
   "source": [
    "def speeds_with_segment_geom(\n",
    "    analysis_date: str, \n",
    "    dict_inputs:dict,\n",
    "    max_speed_cutoff: int = 70,\n",
    "    threshold:float = .20) -> gpd.GeoDataFrame: \n",
    "    \"\"\"\n",
    "    Import the segment-trip table. \n",
    "    Average the speed_mph across all trips present in the segment.\n",
    "    \"\"\"\n",
    "    SEGMENT_IDENTIFIER_COLS = dict_inputs['segment_identifier_cols']\n",
    "    SEGMENT_FILE = dict_inputs[\"segments_file\"]\n",
    "    \n",
    "     # Merge in segment geometry\n",
    "    segments = helpers.import_segments(\n",
    "        SEGMENT_GCS,\n",
    "        f\"{SEGMENT_FILE}_{analysis_date}\",\n",
    "        columns = SEGMENT_IDENTIFIER_COLS + [\n",
    "            \"gtfs_dataset_key\", \n",
    "            \"stop_id\",\n",
    "            \"loop_or_inlining\",\n",
    "            \"geometry\", \n",
    "            \"district\", \"district_name\",\n",
    "            \"schedule_gtfs_dataset_key\",\n",
    "        ])\n",
    "    \n",
    "    # Filter out abnormally high and low speeds\n",
    "    # Threshold defaults to throwing away the bottom 20% of rows with low speeds.\n",
    "    df = speeds_length_filter(segments, analysis_date, threshold, max_speed_cutoff, dict_inputs)\n",
    "    \n",
    "    time_of_day_df = sched_rt_utils.get_trip_time_buckets(analysis_date)\n",
    "    \n",
    "    df2 = pd.merge(\n",
    "        df, \n",
    "        time_of_day_df, \n",
    "        on = [\"trip_instance_key\"], \n",
    "        how = \"inner\"\n",
    "    )\n",
    "    \n",
    "    all_day = B2_avg_speeds_by_segment.calculate_avg_speeds(\n",
    "        df2, \n",
    "        SEGMENT_IDENTIFIER_COLS\n",
    "    )\n",
    "    \n",
    "    peak = B2_avg_speeds_by_segment.calculate_avg_speeds(\n",
    "        df2[df2.time_of_day.isin([\"AM Peak\", \"PM Peak\"])], \n",
    "        SEGMENT_IDENTIFIER_COLS\n",
    "    )\n",
    "    \n",
    "    stats = pd.concat([\n",
    "        all_day.assign(time_of_day = \"all_day\"),\n",
    "        peak.assign(time_of_day = \"peak\")\n",
    "    ], axis=0)\n",
    "    \n",
    "    # Merge in segment geometry with a changed CRS\n",
    "    segments = segments.to_crs(geography_utils.WGS84)\n",
    "\n",
    "    gdf = pd.merge(\n",
    "        segments,\n",
    "        stats,\n",
    "        on = SEGMENT_IDENTIFIER_COLS,\n",
    "        how = \"inner\"\n",
    "    )\n",
    "    \n",
    "    # Columns to keep \n",
    "    to_keep = ['shape_array_key', 'stop_sequence', 'gtfs_dataset_key', 'stop_id',\n",
    "       'loop_or_inlining', 'geometry', 'p50_mph', 'n_trips', 'p20_mph',\n",
    "       'p80_mph', 'time_of_day']\n",
    "    \n",
    "    gdf = gdf[to_keep]\n",
    "    \n",
    "    return gdf"
   ]
  },
  {
   "cell_type": "markdown",
   "id": "04682811-eda1-424f-9a3d-4609f37f5a80",
   "metadata": {},
   "source": [
    "### Check out speeds"
   ]
  },
  {
   "cell_type": "code",
   "execution_count": 36,
   "id": "5355132e-988c-40f0-8648-afaf5fe9b026",
   "metadata": {},
   "outputs": [],
   "source": [
    "# Teakes around 7 minutes\n",
    "avg_test = speeds_with_segment_geom(analysis_date, dictionary, 70, 0.2)"
   ]
  },
  {
   "cell_type": "code",
   "execution_count": 37,
   "id": "781ca8a6-50dd-4257-9919-a9c9ddc1019f",
   "metadata": {},
   "outputs": [],
   "source": [
    "STG5_FILE = dictionary['stage5']\n",
    "og_avg = gpd.read_parquet(f\"{SEGMENT_GCS}{STG5_FILE}_{analysis_date}.parquet\")\n",
    "og_avg = og_avg.drop(columns=[\"district\", \"district_name\"])"
   ]
  },
  {
   "cell_type": "code",
   "execution_count": 38,
   "id": "5c5ac967-95a2-457b-a1e5-5f28a8c205a6",
   "metadata": {},
   "outputs": [],
   "source": [
    "# to_keep = og_avg.columns.tolist()"
   ]
  },
  {
   "cell_type": "code",
   "execution_count": 39,
   "id": "bb6464f4-6d22-46b2-b4d8-880df3177f5b",
   "metadata": {},
   "outputs": [],
   "source": [
    "# type(to_keep)"
   ]
  },
  {
   "cell_type": "code",
   "execution_count": 40,
   "id": "ce6909d2-de32-4a80-8198-d77892a06f98",
   "metadata": {},
   "outputs": [],
   "source": [
    "# avg_test = avg_test[to_keep]"
   ]
  },
  {
   "cell_type": "code",
   "execution_count": 41,
   "id": "7ce13f75-786a-4315-b571-923c484107c9",
   "metadata": {},
   "outputs": [],
   "source": [
    "merge1_preview_cols = ['meters_length', \n",
    "       'trip_id', 'min_time', 'min_dist', 'max_time', 'max_dist',\n",
    "       'meters_elapsed', 'sec_elapsed', 'speed_mph', \n",
    "       'percent']"
   ]
  },
  {
   "cell_type": "markdown",
   "id": "d9cbd71c-ff9d-49f4-a522-0150d3721da7",
   "metadata": {},
   "source": [
    "## Checks"
   ]
  },
  {
   "cell_type": "code",
   "execution_count": 42,
   "id": "19bd5cbe-0bc6-4dfd-b6fb-37a307dfb9db",
   "metadata": {},
   "outputs": [],
   "source": [
    "def compare_average(avg_test:pd.DataFrame,\n",
    "                    og_avg:pd.DataFrame, \n",
    "                    shape_array_key:str,\n",
    "                    stop_sequence:int):\n",
    "    \n",
    "    print(f\"route {shape_array_key}, sequence {stop_sequence}\")\n",
    "    drop_cols = ['shape_array_key','geometry','stop_sequence']\n",
    "    print('Original')\n",
    "    display(og_avg[(og_avg.shape_array_key == shape_array_key) &(og_avg.stop_sequence == stop_sequence)].drop(columns = drop_cols))\n",
    "    \n",
    "    print('New')\n",
    "    display(avg_test[(avg_test.shape_array_key == shape_array_key) & (avg_test.stop_sequence == stop_sequence)].drop(columns = drop_cols))     "
   ]
  },
  {
   "cell_type": "code",
   "execution_count": 43,
   "id": "cbbb122d-4a6c-4f23-b377-c9de20924739",
   "metadata": {},
   "outputs": [
    {
     "name": "stdout",
     "output_type": "stream",
     "text": [
      "route 5a788bd9c9aa5c5465875689a626baa9, sequence 7\n",
      "Original\n"
     ]
    },
    {
     "data": {
      "text/html": [
       "<div>\n",
       "<style scoped>\n",
       "    .dataframe tbody tr th:only-of-type {\n",
       "        vertical-align: middle;\n",
       "    }\n",
       "\n",
       "    .dataframe tbody tr th {\n",
       "        vertical-align: top;\n",
       "    }\n",
       "\n",
       "    .dataframe thead th {\n",
       "        text-align: right;\n",
       "    }\n",
       "</style>\n",
       "<table border=\"1\" class=\"dataframe\">\n",
       "  <thead>\n",
       "    <tr style=\"text-align: right;\">\n",
       "      <th></th>\n",
       "      <th>gtfs_dataset_key</th>\n",
       "      <th>stop_id</th>\n",
       "      <th>loop_or_inlining</th>\n",
       "      <th>p50_mph</th>\n",
       "      <th>n_trips</th>\n",
       "      <th>p20_mph</th>\n",
       "      <th>p80_mph</th>\n",
       "      <th>time_of_day</th>\n",
       "    </tr>\n",
       "  </thead>\n",
       "  <tbody>\n",
       "    <tr>\n",
       "      <th>83381</th>\n",
       "      <td>6c2d7daaf979779fa2089c6395baf98b</td>\n",
       "      <td>894</td>\n",
       "      <td>0</td>\n",
       "      <td>8.94</td>\n",
       "      <td>1</td>\n",
       "      <td>8.94</td>\n",
       "      <td>8.94</td>\n",
       "      <td>all_day</td>\n",
       "    </tr>\n",
       "    <tr>\n",
       "      <th>83382</th>\n",
       "      <td>6c2d7daaf979779fa2089c6395baf98b</td>\n",
       "      <td>894</td>\n",
       "      <td>0</td>\n",
       "      <td>8.94</td>\n",
       "      <td>1</td>\n",
       "      <td>8.94</td>\n",
       "      <td>8.94</td>\n",
       "      <td>peak</td>\n",
       "    </tr>\n",
       "  </tbody>\n",
       "</table>\n",
       "</div>"
      ],
      "text/plain": [
       "                       gtfs_dataset_key stop_id  loop_or_inlining  p50_mph  \\\n",
       "83381  6c2d7daaf979779fa2089c6395baf98b     894                 0     8.94   \n",
       "83382  6c2d7daaf979779fa2089c6395baf98b     894                 0     8.94   \n",
       "\n",
       "       n_trips  p20_mph  p80_mph time_of_day  \n",
       "83381        1     8.94     8.94     all_day  \n",
       "83382        1     8.94     8.94        peak  "
      ]
     },
     "metadata": {},
     "output_type": "display_data"
    },
    {
     "name": "stdout",
     "output_type": "stream",
     "text": [
      "New\n"
     ]
    },
    {
     "data": {
      "text/html": [
       "<div>\n",
       "<style scoped>\n",
       "    .dataframe tbody tr th:only-of-type {\n",
       "        vertical-align: middle;\n",
       "    }\n",
       "\n",
       "    .dataframe tbody tr th {\n",
       "        vertical-align: top;\n",
       "    }\n",
       "\n",
       "    .dataframe thead th {\n",
       "        text-align: right;\n",
       "    }\n",
       "</style>\n",
       "<table border=\"1\" class=\"dataframe\">\n",
       "  <thead>\n",
       "    <tr style=\"text-align: right;\">\n",
       "      <th></th>\n",
       "      <th>gtfs_dataset_key</th>\n",
       "      <th>stop_id</th>\n",
       "      <th>loop_or_inlining</th>\n",
       "      <th>p50_mph</th>\n",
       "      <th>n_trips</th>\n",
       "      <th>p20_mph</th>\n",
       "      <th>p80_mph</th>\n",
       "      <th>time_of_day</th>\n",
       "    </tr>\n",
       "  </thead>\n",
       "  <tbody>\n",
       "    <tr>\n",
       "      <th>151223</th>\n",
       "      <td>6c2d7daaf979779fa2089c6395baf98b</td>\n",
       "      <td>894</td>\n",
       "      <td>0</td>\n",
       "      <td>8.94</td>\n",
       "      <td>1</td>\n",
       "      <td>8.94</td>\n",
       "      <td>8.94</td>\n",
       "      <td>all_day</td>\n",
       "    </tr>\n",
       "    <tr>\n",
       "      <th>151224</th>\n",
       "      <td>6c2d7daaf979779fa2089c6395baf98b</td>\n",
       "      <td>894</td>\n",
       "      <td>0</td>\n",
       "      <td>8.94</td>\n",
       "      <td>1</td>\n",
       "      <td>8.94</td>\n",
       "      <td>8.94</td>\n",
       "      <td>peak</td>\n",
       "    </tr>\n",
       "  </tbody>\n",
       "</table>\n",
       "</div>"
      ],
      "text/plain": [
       "                        gtfs_dataset_key stop_id  loop_or_inlining  p50_mph  \\\n",
       "151223  6c2d7daaf979779fa2089c6395baf98b     894                 0     8.94   \n",
       "151224  6c2d7daaf979779fa2089c6395baf98b     894                 0     8.94   \n",
       "\n",
       "        n_trips  p20_mph  p80_mph time_of_day  \n",
       "151223        1     8.94     8.94     all_day  \n",
       "151224        1     8.94     8.94        peak  "
      ]
     },
     "metadata": {},
     "output_type": "display_data"
    }
   ],
   "source": [
    "compare_average(avg_test, og_avg, shape_array1, stop_seq1)"
   ]
  },
  {
   "cell_type": "code",
   "execution_count": 44,
   "id": "16f98b58-75ae-4a5c-a947-c6a4a58b7644",
   "metadata": {},
   "outputs": [
    {
     "name": "stdout",
     "output_type": "stream",
     "text": [
      "route 5d34851ee46adb62216152f8a16fe7d0, sequence 23\n",
      "Original\n"
     ]
    },
    {
     "data": {
      "text/html": [
       "<div>\n",
       "<style scoped>\n",
       "    .dataframe tbody tr th:only-of-type {\n",
       "        vertical-align: middle;\n",
       "    }\n",
       "\n",
       "    .dataframe tbody tr th {\n",
       "        vertical-align: top;\n",
       "    }\n",
       "\n",
       "    .dataframe thead th {\n",
       "        text-align: right;\n",
       "    }\n",
       "</style>\n",
       "<table border=\"1\" class=\"dataframe\">\n",
       "  <thead>\n",
       "    <tr style=\"text-align: right;\">\n",
       "      <th></th>\n",
       "      <th>gtfs_dataset_key</th>\n",
       "      <th>stop_id</th>\n",
       "      <th>loop_or_inlining</th>\n",
       "      <th>p50_mph</th>\n",
       "      <th>n_trips</th>\n",
       "      <th>p20_mph</th>\n",
       "      <th>p80_mph</th>\n",
       "      <th>time_of_day</th>\n",
       "    </tr>\n",
       "  </thead>\n",
       "  <tbody>\n",
       "    <tr>\n",
       "      <th>85604</th>\n",
       "      <td>6c2d7daaf979779fa2089c6395baf98b</td>\n",
       "      <td>149</td>\n",
       "      <td>0</td>\n",
       "      <td>13.72</td>\n",
       "      <td>19</td>\n",
       "      <td>8.43</td>\n",
       "      <td>15.66</td>\n",
       "      <td>all_day</td>\n",
       "    </tr>\n",
       "    <tr>\n",
       "      <th>85605</th>\n",
       "      <td>6c2d7daaf979779fa2089c6395baf98b</td>\n",
       "      <td>149</td>\n",
       "      <td>0</td>\n",
       "      <td>13.17</td>\n",
       "      <td>8</td>\n",
       "      <td>5.74</td>\n",
       "      <td>14.90</td>\n",
       "      <td>peak</td>\n",
       "    </tr>\n",
       "  </tbody>\n",
       "</table>\n",
       "</div>"
      ],
      "text/plain": [
       "                       gtfs_dataset_key stop_id  loop_or_inlining  p50_mph  \\\n",
       "85604  6c2d7daaf979779fa2089c6395baf98b     149                 0    13.72   \n",
       "85605  6c2d7daaf979779fa2089c6395baf98b     149                 0    13.17   \n",
       "\n",
       "       n_trips  p20_mph  p80_mph time_of_day  \n",
       "85604       19     8.43    15.66     all_day  \n",
       "85605        8     5.74    14.90        peak  "
      ]
     },
     "metadata": {},
     "output_type": "display_data"
    },
    {
     "name": "stdout",
     "output_type": "stream",
     "text": [
      "New\n"
     ]
    },
    {
     "data": {
      "text/html": [
       "<div>\n",
       "<style scoped>\n",
       "    .dataframe tbody tr th:only-of-type {\n",
       "        vertical-align: middle;\n",
       "    }\n",
       "\n",
       "    .dataframe tbody tr th {\n",
       "        vertical-align: top;\n",
       "    }\n",
       "\n",
       "    .dataframe thead th {\n",
       "        text-align: right;\n",
       "    }\n",
       "</style>\n",
       "<table border=\"1\" class=\"dataframe\">\n",
       "  <thead>\n",
       "    <tr style=\"text-align: right;\">\n",
       "      <th></th>\n",
       "      <th>gtfs_dataset_key</th>\n",
       "      <th>stop_id</th>\n",
       "      <th>loop_or_inlining</th>\n",
       "      <th>p50_mph</th>\n",
       "      <th>n_trips</th>\n",
       "      <th>p20_mph</th>\n",
       "      <th>p80_mph</th>\n",
       "      <th>time_of_day</th>\n",
       "    </tr>\n",
       "  </thead>\n",
       "  <tbody>\n",
       "    <tr>\n",
       "      <th>151306</th>\n",
       "      <td>6c2d7daaf979779fa2089c6395baf98b</td>\n",
       "      <td>149</td>\n",
       "      <td>0</td>\n",
       "      <td>13.72</td>\n",
       "      <td>18</td>\n",
       "      <td>8.70</td>\n",
       "      <td>15.74</td>\n",
       "      <td>all_day</td>\n",
       "    </tr>\n",
       "    <tr>\n",
       "      <th>151307</th>\n",
       "      <td>6c2d7daaf979779fa2089c6395baf98b</td>\n",
       "      <td>149</td>\n",
       "      <td>0</td>\n",
       "      <td>13.72</td>\n",
       "      <td>7</td>\n",
       "      <td>9.27</td>\n",
       "      <td>15.20</td>\n",
       "      <td>peak</td>\n",
       "    </tr>\n",
       "  </tbody>\n",
       "</table>\n",
       "</div>"
      ],
      "text/plain": [
       "                        gtfs_dataset_key stop_id  loop_or_inlining  p50_mph  \\\n",
       "151306  6c2d7daaf979779fa2089c6395baf98b     149                 0    13.72   \n",
       "151307  6c2d7daaf979779fa2089c6395baf98b     149                 0    13.72   \n",
       "\n",
       "        n_trips  p20_mph  p80_mph time_of_day  \n",
       "151306       18     8.70    15.74     all_day  \n",
       "151307        7     9.27    15.20        peak  "
      ]
     },
     "metadata": {},
     "output_type": "display_data"
    }
   ],
   "source": [
    "compare_average(avg_test, og_avg, shape_array2, stop_seq2)"
   ]
  },
  {
   "cell_type": "markdown",
   "id": "5c797a73-3cb6-46dd-b451-959bb185d762",
   "metadata": {},
   "source": [
    "* Strangely enough, the 50th percentile speed became lower\n",
    "* Sometimes the lower the length, the higher the speed?"
   ]
  },
  {
   "cell_type": "code",
   "execution_count": 45,
   "id": "3ede20ec-3d72-4a97-803f-67906eb9b662",
   "metadata": {},
   "outputs": [
    {
     "name": "stdout",
     "output_type": "stream",
     "text": [
      "route 94e02a46331c8b449aedb4469f49764a, sequence 32\n",
      "Original\n"
     ]
    },
    {
     "data": {
      "text/html": [
       "<div>\n",
       "<style scoped>\n",
       "    .dataframe tbody tr th:only-of-type {\n",
       "        vertical-align: middle;\n",
       "    }\n",
       "\n",
       "    .dataframe tbody tr th {\n",
       "        vertical-align: top;\n",
       "    }\n",
       "\n",
       "    .dataframe thead th {\n",
       "        text-align: right;\n",
       "    }\n",
       "</style>\n",
       "<table border=\"1\" class=\"dataframe\">\n",
       "  <thead>\n",
       "    <tr style=\"text-align: right;\">\n",
       "      <th></th>\n",
       "      <th>gtfs_dataset_key</th>\n",
       "      <th>stop_id</th>\n",
       "      <th>loop_or_inlining</th>\n",
       "      <th>p50_mph</th>\n",
       "      <th>n_trips</th>\n",
       "      <th>p20_mph</th>\n",
       "      <th>p80_mph</th>\n",
       "      <th>time_of_day</th>\n",
       "    </tr>\n",
       "  </thead>\n",
       "  <tbody>\n",
       "    <tr>\n",
       "      <th>133752</th>\n",
       "      <td>6c2d7daaf979779fa2089c6395baf98b</td>\n",
       "      <td>1648</td>\n",
       "      <td>0</td>\n",
       "      <td>1.90</td>\n",
       "      <td>23</td>\n",
       "      <td>0.91</td>\n",
       "      <td>9.85</td>\n",
       "      <td>all_day</td>\n",
       "    </tr>\n",
       "    <tr>\n",
       "      <th>133753</th>\n",
       "      <td>6c2d7daaf979779fa2089c6395baf98b</td>\n",
       "      <td>1648</td>\n",
       "      <td>0</td>\n",
       "      <td>1.58</td>\n",
       "      <td>12</td>\n",
       "      <td>0.62</td>\n",
       "      <td>6.55</td>\n",
       "      <td>peak</td>\n",
       "    </tr>\n",
       "  </tbody>\n",
       "</table>\n",
       "</div>"
      ],
      "text/plain": [
       "                        gtfs_dataset_key stop_id  loop_or_inlining  p50_mph  \\\n",
       "133752  6c2d7daaf979779fa2089c6395baf98b    1648                 0     1.90   \n",
       "133753  6c2d7daaf979779fa2089c6395baf98b    1648                 0     1.58   \n",
       "\n",
       "        n_trips  p20_mph  p80_mph time_of_day  \n",
       "133752       23     0.91     9.85     all_day  \n",
       "133753       12     0.62     6.55        peak  "
      ]
     },
     "metadata": {},
     "output_type": "display_data"
    },
    {
     "name": "stdout",
     "output_type": "stream",
     "text": [
      "New\n"
     ]
    },
    {
     "data": {
      "text/html": [
       "<div>\n",
       "<style scoped>\n",
       "    .dataframe tbody tr th:only-of-type {\n",
       "        vertical-align: middle;\n",
       "    }\n",
       "\n",
       "    .dataframe tbody tr th {\n",
       "        vertical-align: top;\n",
       "    }\n",
       "\n",
       "    .dataframe thead th {\n",
       "        text-align: right;\n",
       "    }\n",
       "</style>\n",
       "<table border=\"1\" class=\"dataframe\">\n",
       "  <thead>\n",
       "    <tr style=\"text-align: right;\">\n",
       "      <th></th>\n",
       "      <th>gtfs_dataset_key</th>\n",
       "      <th>stop_id</th>\n",
       "      <th>loop_or_inlining</th>\n",
       "      <th>p50_mph</th>\n",
       "      <th>n_trips</th>\n",
       "      <th>p20_mph</th>\n",
       "      <th>p80_mph</th>\n",
       "      <th>time_of_day</th>\n",
       "    </tr>\n",
       "  </thead>\n",
       "  <tbody>\n",
       "    <tr>\n",
       "      <th>152168</th>\n",
       "      <td>6c2d7daaf979779fa2089c6395baf98b</td>\n",
       "      <td>1648</td>\n",
       "      <td>0</td>\n",
       "      <td>1.27</td>\n",
       "      <td>16</td>\n",
       "      <td>0.88</td>\n",
       "      <td>7.27</td>\n",
       "      <td>all_day</td>\n",
       "    </tr>\n",
       "    <tr>\n",
       "      <th>152169</th>\n",
       "      <td>6c2d7daaf979779fa2089c6395baf98b</td>\n",
       "      <td>1648</td>\n",
       "      <td>0</td>\n",
       "      <td>1.27</td>\n",
       "      <td>9</td>\n",
       "      <td>0.86</td>\n",
       "      <td>7.09</td>\n",
       "      <td>peak</td>\n",
       "    </tr>\n",
       "  </tbody>\n",
       "</table>\n",
       "</div>"
      ],
      "text/plain": [
       "                        gtfs_dataset_key stop_id  loop_or_inlining  p50_mph  \\\n",
       "152168  6c2d7daaf979779fa2089c6395baf98b    1648                 0     1.27   \n",
       "152169  6c2d7daaf979779fa2089c6395baf98b    1648                 0     1.27   \n",
       "\n",
       "        n_trips  p20_mph  p80_mph time_of_day  \n",
       "152168       16     0.88     7.27     all_day  \n",
       "152169        9     0.86     7.09        peak  "
      ]
     },
     "metadata": {},
     "output_type": "display_data"
    }
   ],
   "source": [
    "compare_average(avg_test, og_avg, shape_array3, stop_seq3)"
   ]
  },
  {
   "cell_type": "code",
   "execution_count": 46,
   "id": "ea2fd667-8e2e-43be-9015-81f0d066d834",
   "metadata": {
    "scrolled": true,
    "tags": []
   },
   "outputs": [
    {
     "data": {
      "text/html": [
       "<div>\n",
       "<style scoped>\n",
       "    .dataframe tbody tr th:only-of-type {\n",
       "        vertical-align: middle;\n",
       "    }\n",
       "\n",
       "    .dataframe tbody tr th {\n",
       "        vertical-align: top;\n",
       "    }\n",
       "\n",
       "    .dataframe thead th {\n",
       "        text-align: right;\n",
       "    }\n",
       "</style>\n",
       "<table border=\"1\" class=\"dataframe\">\n",
       "  <thead>\n",
       "    <tr style=\"text-align: right;\">\n",
       "      <th></th>\n",
       "      <th>meters_length</th>\n",
       "      <th>trip_id</th>\n",
       "      <th>min_time</th>\n",
       "      <th>min_dist</th>\n",
       "      <th>max_time</th>\n",
       "      <th>max_dist</th>\n",
       "      <th>meters_elapsed</th>\n",
       "      <th>sec_elapsed</th>\n",
       "      <th>speed_mph</th>\n",
       "      <th>percent</th>\n",
       "    </tr>\n",
       "  </thead>\n",
       "  <tbody>\n",
       "    <tr>\n",
       "      <th>1806859</th>\n",
       "      <td>583.74</td>\n",
       "      <td>905067</td>\n",
       "      <td>2023-07-12 18:59:27</td>\n",
       "      <td>430.11</td>\n",
       "      <td>2023-07-12 19:00:12</td>\n",
       "      <td>468.28</td>\n",
       "      <td>38.17</td>\n",
       "      <td>45.00</td>\n",
       "      <td>1.90</td>\n",
       "      <td>6.54</td>\n",
       "    </tr>\n",
       "    <tr>\n",
       "      <th>1806861</th>\n",
       "      <td>583.74</td>\n",
       "      <td>905083</td>\n",
       "      <td>2023-07-12 11:30:31</td>\n",
       "      <td>249.29</td>\n",
       "      <td>2023-07-12 11:31:13</td>\n",
       "      <td>434.91</td>\n",
       "      <td>185.61</td>\n",
       "      <td>42.00</td>\n",
       "      <td>9.89</td>\n",
       "      <td>31.80</td>\n",
       "    </tr>\n",
       "    <tr>\n",
       "      <th>1806863</th>\n",
       "      <td>583.74</td>\n",
       "      <td>905092</td>\n",
       "      <td>2023-07-12 07:43:06</td>\n",
       "      <td>267.36</td>\n",
       "      <td>2023-07-12 07:44:35</td>\n",
       "      <td>459.47</td>\n",
       "      <td>192.11</td>\n",
       "      <td>89.00</td>\n",
       "      <td>4.83</td>\n",
       "      <td>32.91</td>\n",
       "    </tr>\n",
       "    <tr>\n",
       "      <th>1806868</th>\n",
       "      <td>583.74</td>\n",
       "      <td>905076</td>\n",
       "      <td>2023-07-12 14:25:17</td>\n",
       "      <td>0.00</td>\n",
       "      <td>2023-07-12 14:26:46</td>\n",
       "      <td>207.87</td>\n",
       "      <td>207.87</td>\n",
       "      <td>89.00</td>\n",
       "      <td>5.22</td>\n",
       "      <td>35.61</td>\n",
       "    </tr>\n",
       "    <tr>\n",
       "      <th>1806875</th>\n",
       "      <td>583.74</td>\n",
       "      <td>905084</td>\n",
       "      <td>2023-07-12 11:15:31</td>\n",
       "      <td>103.57</td>\n",
       "      <td>2023-07-12 11:16:16</td>\n",
       "      <td>323.28</td>\n",
       "      <td>219.72</td>\n",
       "      <td>45.00</td>\n",
       "      <td>10.92</td>\n",
       "      <td>37.64</td>\n",
       "    </tr>\n",
       "    <tr>\n",
       "      <th>1806857</th>\n",
       "      <td>583.74</td>\n",
       "      <td>905079</td>\n",
       "      <td>2023-07-12 13:11:31</td>\n",
       "      <td>88.57</td>\n",
       "      <td>2023-07-12 13:12:16</td>\n",
       "      <td>314.28</td>\n",
       "      <td>225.72</td>\n",
       "      <td>45.00</td>\n",
       "      <td>11.22</td>\n",
       "      <td>38.67</td>\n",
       "    </tr>\n",
       "    <tr>\n",
       "      <th>1806871</th>\n",
       "      <td>583.74</td>\n",
       "      <td>905070</td>\n",
       "      <td>2023-07-12 17:28:31</td>\n",
       "      <td>352.35</td>\n",
       "      <td>2023-07-12 17:51:28</td>\n",
       "      <td>582.05</td>\n",
       "      <td>229.70</td>\n",
       "      <td>1377.00</td>\n",
       "      <td>0.37</td>\n",
       "      <td>39.35</td>\n",
       "    </tr>\n",
       "    <tr>\n",
       "      <th>1806860</th>\n",
       "      <td>583.74</td>\n",
       "      <td>905069</td>\n",
       "      <td>2023-07-12 18:03:58</td>\n",
       "      <td>328.54</td>\n",
       "      <td>2023-07-12 18:23:12</td>\n",
       "      <td>583.74</td>\n",
       "      <td>255.20</td>\n",
       "      <td>1154.00</td>\n",
       "      <td>0.49</td>\n",
       "      <td>43.72</td>\n",
       "    </tr>\n",
       "    <tr>\n",
       "      <th>1806873</th>\n",
       "      <td>583.74</td>\n",
       "      <td>905073</td>\n",
       "      <td>2023-07-12 15:52:45</td>\n",
       "      <td>306.14</td>\n",
       "      <td>2023-07-12 16:15:08</td>\n",
       "      <td>580.88</td>\n",
       "      <td>274.74</td>\n",
       "      <td>1343.00</td>\n",
       "      <td>0.46</td>\n",
       "      <td>47.06</td>\n",
       "    </tr>\n",
       "    <tr>\n",
       "      <th>1806869</th>\n",
       "      <td>583.74</td>\n",
       "      <td>905087</td>\n",
       "      <td>2023-07-12 09:47:58</td>\n",
       "      <td>83.85</td>\n",
       "      <td>2023-07-12 09:49:27</td>\n",
       "      <td>361.36</td>\n",
       "      <td>277.52</td>\n",
       "      <td>89.00</td>\n",
       "      <td>6.98</td>\n",
       "      <td>47.54</td>\n",
       "    </tr>\n",
       "    <tr>\n",
       "      <th>1806876</th>\n",
       "      <td>583.74</td>\n",
       "      <td>905082</td>\n",
       "      <td>2023-07-12 12:00:37</td>\n",
       "      <td>298.33</td>\n",
       "      <td>2023-07-12 12:16:10</td>\n",
       "      <td>578.83</td>\n",
       "      <td>280.50</td>\n",
       "      <td>933.00</td>\n",
       "      <td>0.67</td>\n",
       "      <td>48.05</td>\n",
       "    </tr>\n",
       "    <tr>\n",
       "      <th>1806862</th>\n",
       "      <td>583.74</td>\n",
       "      <td>905088</td>\n",
       "      <td>2023-07-12 09:26:51</td>\n",
       "      <td>192.14</td>\n",
       "      <td>2023-07-12 09:28:20</td>\n",
       "      <td>481.42</td>\n",
       "      <td>289.28</td>\n",
       "      <td>89.00</td>\n",
       "      <td>7.27</td>\n",
       "      <td>49.56</td>\n",
       "    </tr>\n",
       "    <tr>\n",
       "      <th>1806877</th>\n",
       "      <td>583.74</td>\n",
       "      <td>905080</td>\n",
       "      <td>2023-07-12 12:47:23</td>\n",
       "      <td>0.00</td>\n",
       "      <td>2023-07-12 12:48:13</td>\n",
       "      <td>312.34</td>\n",
       "      <td>312.34</td>\n",
       "      <td>50.00</td>\n",
       "      <td>13.97</td>\n",
       "      <td>53.51</td>\n",
       "    </tr>\n",
       "    <tr>\n",
       "      <th>1806872</th>\n",
       "      <td>583.74</td>\n",
       "      <td>905078</td>\n",
       "      <td>2023-07-12 13:34:43</td>\n",
       "      <td>38.51</td>\n",
       "      <td>2023-07-12 13:36:12</td>\n",
       "      <td>427.86</td>\n",
       "      <td>389.34</td>\n",
       "      <td>89.00</td>\n",
       "      <td>9.79</td>\n",
       "      <td>66.70</td>\n",
       "    </tr>\n",
       "    <tr>\n",
       "      <th>1806865</th>\n",
       "      <td>583.74</td>\n",
       "      <td>905085</td>\n",
       "      <td>2023-07-12 10:38:39</td>\n",
       "      <td>149.30</td>\n",
       "      <td>2023-07-12 10:55:40</td>\n",
       "      <td>583.74</td>\n",
       "      <td>434.45</td>\n",
       "      <td>1021.00</td>\n",
       "      <td>0.95</td>\n",
       "      <td>74.42</td>\n",
       "    </tr>\n",
       "    <tr>\n",
       "      <th>1806870</th>\n",
       "      <td>583.74</td>\n",
       "      <td>905091</td>\n",
       "      <td>2023-07-12 08:05:23</td>\n",
       "      <td>0.00</td>\n",
       "      <td>2023-07-12 08:06:58</td>\n",
       "      <td>471.39</td>\n",
       "      <td>471.39</td>\n",
       "      <td>95.00</td>\n",
       "      <td>11.10</td>\n",
       "      <td>80.75</td>\n",
       "    </tr>\n",
       "    <tr>\n",
       "      <th>1806864</th>\n",
       "      <td>583.74</td>\n",
       "      <td>905081</td>\n",
       "      <td>2023-07-12 12:21:48</td>\n",
       "      <td>103.57</td>\n",
       "      <td>2023-07-12 12:31:34</td>\n",
       "      <td>582.75</td>\n",
       "      <td>479.18</td>\n",
       "      <td>586.00</td>\n",
       "      <td>1.83</td>\n",
       "      <td>82.09</td>\n",
       "    </tr>\n",
       "    <tr>\n",
       "      <th>1806866</th>\n",
       "      <td>583.74</td>\n",
       "      <td>905089</td>\n",
       "      <td>2023-07-12 08:59:22</td>\n",
       "      <td>102.37</td>\n",
       "      <td>2023-07-12 09:14:01</td>\n",
       "      <td>582.34</td>\n",
       "      <td>479.97</td>\n",
       "      <td>879.00</td>\n",
       "      <td>1.22</td>\n",
       "      <td>82.22</td>\n",
       "    </tr>\n",
       "    <tr>\n",
       "      <th>1806874</th>\n",
       "      <td>583.74</td>\n",
       "      <td>905077</td>\n",
       "      <td>2023-07-12 14:02:28</td>\n",
       "      <td>100.83</td>\n",
       "      <td>2023-07-12 14:16:32</td>\n",
       "      <td>583.74</td>\n",
       "      <td>482.91</td>\n",
       "      <td>844.00</td>\n",
       "      <td>1.28</td>\n",
       "      <td>82.73</td>\n",
       "    </tr>\n",
       "    <tr>\n",
       "      <th>1806858</th>\n",
       "      <td>583.74</td>\n",
       "      <td>905090</td>\n",
       "      <td>2023-07-12 08:33:09</td>\n",
       "      <td>94.50</td>\n",
       "      <td>2023-07-12 08:49:26</td>\n",
       "      <td>578.60</td>\n",
       "      <td>484.10</td>\n",
       "      <td>977.00</td>\n",
       "      <td>1.11</td>\n",
       "      <td>82.93</td>\n",
       "    </tr>\n",
       "    <tr>\n",
       "      <th>1806856</th>\n",
       "      <td>583.74</td>\n",
       "      <td>905074</td>\n",
       "      <td>2023-07-12 15:23:51</td>\n",
       "      <td>70.00</td>\n",
       "      <td>2023-07-12 15:45:19</td>\n",
       "      <td>576.72</td>\n",
       "      <td>506.72</td>\n",
       "      <td>1288.00</td>\n",
       "      <td>0.88</td>\n",
       "      <td>86.80</td>\n",
       "    </tr>\n",
       "    <tr>\n",
       "      <th>1806867</th>\n",
       "      <td>583.74</td>\n",
       "      <td>905086</td>\n",
       "      <td>2023-07-12 10:18:10</td>\n",
       "      <td>28.26</td>\n",
       "      <td>2023-07-12 10:27:58</td>\n",
       "      <td>578.26</td>\n",
       "      <td>550.01</td>\n",
       "      <td>588.00</td>\n",
       "      <td>2.09</td>\n",
       "      <td>94.22</td>\n",
       "    </tr>\n",
       "    <tr>\n",
       "      <th>1806878</th>\n",
       "      <td>583.74</td>\n",
       "      <td>905071</td>\n",
       "      <td>2023-07-12 16:56:57</td>\n",
       "      <td>0.00</td>\n",
       "      <td>2023-07-12 17:13:59</td>\n",
       "      <td>577.99</td>\n",
       "      <td>577.99</td>\n",
       "      <td>1022.00</td>\n",
       "      <td>1.27</td>\n",
       "      <td>99.01</td>\n",
       "    </tr>\n",
       "  </tbody>\n",
       "</table>\n",
       "</div>"
      ],
      "text/plain": [
       "         meters_length trip_id            min_time  min_dist  \\\n",
       "1806859         583.74  905067 2023-07-12 18:59:27    430.11   \n",
       "1806861         583.74  905083 2023-07-12 11:30:31    249.29   \n",
       "1806863         583.74  905092 2023-07-12 07:43:06    267.36   \n",
       "1806868         583.74  905076 2023-07-12 14:25:17      0.00   \n",
       "1806875         583.74  905084 2023-07-12 11:15:31    103.57   \n",
       "1806857         583.74  905079 2023-07-12 13:11:31     88.57   \n",
       "1806871         583.74  905070 2023-07-12 17:28:31    352.35   \n",
       "1806860         583.74  905069 2023-07-12 18:03:58    328.54   \n",
       "1806873         583.74  905073 2023-07-12 15:52:45    306.14   \n",
       "1806869         583.74  905087 2023-07-12 09:47:58     83.85   \n",
       "1806876         583.74  905082 2023-07-12 12:00:37    298.33   \n",
       "1806862         583.74  905088 2023-07-12 09:26:51    192.14   \n",
       "1806877         583.74  905080 2023-07-12 12:47:23      0.00   \n",
       "1806872         583.74  905078 2023-07-12 13:34:43     38.51   \n",
       "1806865         583.74  905085 2023-07-12 10:38:39    149.30   \n",
       "1806870         583.74  905091 2023-07-12 08:05:23      0.00   \n",
       "1806864         583.74  905081 2023-07-12 12:21:48    103.57   \n",
       "1806866         583.74  905089 2023-07-12 08:59:22    102.37   \n",
       "1806874         583.74  905077 2023-07-12 14:02:28    100.83   \n",
       "1806858         583.74  905090 2023-07-12 08:33:09     94.50   \n",
       "1806856         583.74  905074 2023-07-12 15:23:51     70.00   \n",
       "1806867         583.74  905086 2023-07-12 10:18:10     28.26   \n",
       "1806878         583.74  905071 2023-07-12 16:56:57      0.00   \n",
       "\n",
       "                   max_time  max_dist  meters_elapsed  sec_elapsed  speed_mph  \\\n",
       "1806859 2023-07-12 19:00:12    468.28           38.17        45.00       1.90   \n",
       "1806861 2023-07-12 11:31:13    434.91          185.61        42.00       9.89   \n",
       "1806863 2023-07-12 07:44:35    459.47          192.11        89.00       4.83   \n",
       "1806868 2023-07-12 14:26:46    207.87          207.87        89.00       5.22   \n",
       "1806875 2023-07-12 11:16:16    323.28          219.72        45.00      10.92   \n",
       "1806857 2023-07-12 13:12:16    314.28          225.72        45.00      11.22   \n",
       "1806871 2023-07-12 17:51:28    582.05          229.70      1377.00       0.37   \n",
       "1806860 2023-07-12 18:23:12    583.74          255.20      1154.00       0.49   \n",
       "1806873 2023-07-12 16:15:08    580.88          274.74      1343.00       0.46   \n",
       "1806869 2023-07-12 09:49:27    361.36          277.52        89.00       6.98   \n",
       "1806876 2023-07-12 12:16:10    578.83          280.50       933.00       0.67   \n",
       "1806862 2023-07-12 09:28:20    481.42          289.28        89.00       7.27   \n",
       "1806877 2023-07-12 12:48:13    312.34          312.34        50.00      13.97   \n",
       "1806872 2023-07-12 13:36:12    427.86          389.34        89.00       9.79   \n",
       "1806865 2023-07-12 10:55:40    583.74          434.45      1021.00       0.95   \n",
       "1806870 2023-07-12 08:06:58    471.39          471.39        95.00      11.10   \n",
       "1806864 2023-07-12 12:31:34    582.75          479.18       586.00       1.83   \n",
       "1806866 2023-07-12 09:14:01    582.34          479.97       879.00       1.22   \n",
       "1806874 2023-07-12 14:16:32    583.74          482.91       844.00       1.28   \n",
       "1806858 2023-07-12 08:49:26    578.60          484.10       977.00       1.11   \n",
       "1806856 2023-07-12 15:45:19    576.72          506.72      1288.00       0.88   \n",
       "1806867 2023-07-12 10:27:58    578.26          550.01       588.00       2.09   \n",
       "1806878 2023-07-12 17:13:59    577.99          577.99      1022.00       1.27   \n",
       "\n",
       "         percent  \n",
       "1806859     6.54  \n",
       "1806861    31.80  \n",
       "1806863    32.91  \n",
       "1806868    35.61  \n",
       "1806875    37.64  \n",
       "1806857    38.67  \n",
       "1806871    39.35  \n",
       "1806860    43.72  \n",
       "1806873    47.06  \n",
       "1806869    47.54  \n",
       "1806876    48.05  \n",
       "1806862    49.56  \n",
       "1806877    53.51  \n",
       "1806872    66.70  \n",
       "1806865    74.42  \n",
       "1806870    80.75  \n",
       "1806864    82.09  \n",
       "1806866    82.22  \n",
       "1806874    82.73  \n",
       "1806858    82.93  \n",
       "1806856    86.80  \n",
       "1806867    94.22  \n",
       "1806878    99.01  "
      ]
     },
     "execution_count": 46,
     "metadata": {},
     "output_type": "execute_result"
    }
   ],
   "source": [
    "merge1.loc[(merge1.shape_array_key == shape_array3) & (merge1.stop_sequence == stop_seq3)][merge1_preview_cols].sort_values(['percent'])"
   ]
  },
  {
   "cell_type": "markdown",
   "id": "a37b765b-1d23-4e69-8959-474289814ac7",
   "metadata": {},
   "source": [
    "* This is missing because the only row that was non-zero only covered 27% of the length\n",
    "* Maybe up the threshold?"
   ]
  },
  {
   "cell_type": "code",
   "execution_count": 47,
   "id": "13a5f252-5bf6-44b4-b1e0-baec918fa61f",
   "metadata": {},
   "outputs": [
    {
     "name": "stdout",
     "output_type": "stream",
     "text": [
      "route 50d9dd7ba11f08a8c86130778d6cabc4, sequence 14\n",
      "Original\n"
     ]
    },
    {
     "data": {
      "text/html": [
       "<div>\n",
       "<style scoped>\n",
       "    .dataframe tbody tr th:only-of-type {\n",
       "        vertical-align: middle;\n",
       "    }\n",
       "\n",
       "    .dataframe tbody tr th {\n",
       "        vertical-align: top;\n",
       "    }\n",
       "\n",
       "    .dataframe thead th {\n",
       "        text-align: right;\n",
       "    }\n",
       "</style>\n",
       "<table border=\"1\" class=\"dataframe\">\n",
       "  <thead>\n",
       "    <tr style=\"text-align: right;\">\n",
       "      <th></th>\n",
       "      <th>gtfs_dataset_key</th>\n",
       "      <th>stop_id</th>\n",
       "      <th>loop_or_inlining</th>\n",
       "      <th>p50_mph</th>\n",
       "      <th>n_trips</th>\n",
       "      <th>p20_mph</th>\n",
       "      <th>p80_mph</th>\n",
       "      <th>time_of_day</th>\n",
       "    </tr>\n",
       "  </thead>\n",
       "  <tbody>\n",
       "    <tr>\n",
       "      <th>75183</th>\n",
       "      <td>6c2d7daaf979779fa2089c6395baf98b</td>\n",
       "      <td>916</td>\n",
       "      <td>0</td>\n",
       "      <td>11.34</td>\n",
       "      <td>1</td>\n",
       "      <td>11.34</td>\n",
       "      <td>11.34</td>\n",
       "      <td>all_day</td>\n",
       "    </tr>\n",
       "  </tbody>\n",
       "</table>\n",
       "</div>"
      ],
      "text/plain": [
       "                       gtfs_dataset_key stop_id  loop_or_inlining  p50_mph  \\\n",
       "75183  6c2d7daaf979779fa2089c6395baf98b     916                 0    11.34   \n",
       "\n",
       "       n_trips  p20_mph  p80_mph time_of_day  \n",
       "75183        1    11.34    11.34     all_day  "
      ]
     },
     "metadata": {},
     "output_type": "display_data"
    },
    {
     "name": "stdout",
     "output_type": "stream",
     "text": [
      "New\n"
     ]
    },
    {
     "data": {
      "text/html": [
       "<div>\n",
       "<style scoped>\n",
       "    .dataframe tbody tr th:only-of-type {\n",
       "        vertical-align: middle;\n",
       "    }\n",
       "\n",
       "    .dataframe tbody tr th {\n",
       "        vertical-align: top;\n",
       "    }\n",
       "\n",
       "    .dataframe thead th {\n",
       "        text-align: right;\n",
       "    }\n",
       "</style>\n",
       "<table border=\"1\" class=\"dataframe\">\n",
       "  <thead>\n",
       "    <tr style=\"text-align: right;\">\n",
       "      <th></th>\n",
       "      <th>gtfs_dataset_key</th>\n",
       "      <th>stop_id</th>\n",
       "      <th>loop_or_inlining</th>\n",
       "      <th>p50_mph</th>\n",
       "      <th>n_trips</th>\n",
       "      <th>p20_mph</th>\n",
       "      <th>p80_mph</th>\n",
       "      <th>time_of_day</th>\n",
       "    </tr>\n",
       "  </thead>\n",
       "  <tbody>\n",
       "  </tbody>\n",
       "</table>\n",
       "</div>"
      ],
      "text/plain": [
       "Empty DataFrame\n",
       "Columns: [gtfs_dataset_key, stop_id, loop_or_inlining, p50_mph, n_trips, p20_mph, p80_mph, time_of_day]\n",
       "Index: []"
      ]
     },
     "metadata": {},
     "output_type": "display_data"
    }
   ],
   "source": [
    "\n",
    "compare_average(avg_test, og_avg, shape_array4, stop_seq4)"
   ]
  },
  {
   "cell_type": "code",
   "execution_count": 48,
   "id": "bf2d2ec9-c9db-4b2d-977a-3df3547a0cf1",
   "metadata": {},
   "outputs": [
    {
     "data": {
      "text/html": [
       "<div>\n",
       "<style scoped>\n",
       "    .dataframe tbody tr th:only-of-type {\n",
       "        vertical-align: middle;\n",
       "    }\n",
       "\n",
       "    .dataframe tbody tr th {\n",
       "        vertical-align: top;\n",
       "    }\n",
       "\n",
       "    .dataframe thead th {\n",
       "        text-align: right;\n",
       "    }\n",
       "</style>\n",
       "<table border=\"1\" class=\"dataframe\">\n",
       "  <thead>\n",
       "    <tr style=\"text-align: right;\">\n",
       "      <th></th>\n",
       "      <th>meters_length</th>\n",
       "      <th>trip_id</th>\n",
       "      <th>min_time</th>\n",
       "      <th>min_dist</th>\n",
       "      <th>max_time</th>\n",
       "      <th>max_dist</th>\n",
       "      <th>meters_elapsed</th>\n",
       "      <th>sec_elapsed</th>\n",
       "      <th>speed_mph</th>\n",
       "      <th>percent</th>\n",
       "    </tr>\n",
       "  </thead>\n",
       "  <tbody>\n",
       "    <tr>\n",
       "      <th>1801245</th>\n",
       "      <td>386.01</td>\n",
       "      <td>904430</td>\n",
       "      <td>2023-07-12 07:38:20</td>\n",
       "      <td>386.01</td>\n",
       "      <td>2023-07-12 07:38:30</td>\n",
       "      <td>386.01</td>\n",
       "      <td>0.00</td>\n",
       "      <td>10.00</td>\n",
       "      <td>0.00</td>\n",
       "      <td>0.00</td>\n",
       "    </tr>\n",
       "    <tr>\n",
       "      <th>1801246</th>\n",
       "      <td>386.01</td>\n",
       "      <td>904452</td>\n",
       "      <td>2023-07-12 20:54:10</td>\n",
       "      <td>0.00</td>\n",
       "      <td>2023-07-12 20:55:39</td>\n",
       "      <td>0.00</td>\n",
       "      <td>0.00</td>\n",
       "      <td>89.00</td>\n",
       "      <td>0.00</td>\n",
       "      <td>0.00</td>\n",
       "    </tr>\n",
       "    <tr>\n",
       "      <th>1801247</th>\n",
       "      <td>386.01</td>\n",
       "      <td>904427</td>\n",
       "      <td>2023-07-12 14:57:04</td>\n",
       "      <td>284.59</td>\n",
       "      <td>2023-07-12 14:57:24</td>\n",
       "      <td>386.01</td>\n",
       "      <td>101.42</td>\n",
       "      <td>20.00</td>\n",
       "      <td>11.34</td>\n",
       "      <td>26.27</td>\n",
       "    </tr>\n",
       "  </tbody>\n",
       "</table>\n",
       "</div>"
      ],
      "text/plain": [
       "         meters_length trip_id            min_time  min_dist  \\\n",
       "1801245         386.01  904430 2023-07-12 07:38:20    386.01   \n",
       "1801246         386.01  904452 2023-07-12 20:54:10      0.00   \n",
       "1801247         386.01  904427 2023-07-12 14:57:04    284.59   \n",
       "\n",
       "                   max_time  max_dist  meters_elapsed  sec_elapsed  speed_mph  \\\n",
       "1801245 2023-07-12 07:38:30    386.01            0.00        10.00       0.00   \n",
       "1801246 2023-07-12 20:55:39      0.00            0.00        89.00       0.00   \n",
       "1801247 2023-07-12 14:57:24    386.01          101.42        20.00      11.34   \n",
       "\n",
       "         percent  \n",
       "1801245     0.00  \n",
       "1801246     0.00  \n",
       "1801247    26.27  "
      ]
     },
     "execution_count": 48,
     "metadata": {},
     "output_type": "execute_result"
    }
   ],
   "source": [
    "merge1.loc[(merge1.shape_array_key == shape_array4) & (merge1.stop_sequence == stop_seq4)][merge1_preview_cols]"
   ]
  },
  {
   "cell_type": "code",
   "execution_count": 49,
   "id": "64a82a45-2df9-49e6-b1e1-9aaaef90e818",
   "metadata": {},
   "outputs": [
    {
     "name": "stdout",
     "output_type": "stream",
     "text": [
      "route 21a802700dadbc2e249b595773a50363, sequence 8\n",
      "Original\n"
     ]
    },
    {
     "data": {
      "text/html": [
       "<div>\n",
       "<style scoped>\n",
       "    .dataframe tbody tr th:only-of-type {\n",
       "        vertical-align: middle;\n",
       "    }\n",
       "\n",
       "    .dataframe tbody tr th {\n",
       "        vertical-align: top;\n",
       "    }\n",
       "\n",
       "    .dataframe thead th {\n",
       "        text-align: right;\n",
       "    }\n",
       "</style>\n",
       "<table border=\"1\" class=\"dataframe\">\n",
       "  <thead>\n",
       "    <tr style=\"text-align: right;\">\n",
       "      <th></th>\n",
       "      <th>gtfs_dataset_key</th>\n",
       "      <th>stop_id</th>\n",
       "      <th>loop_or_inlining</th>\n",
       "      <th>p50_mph</th>\n",
       "      <th>n_trips</th>\n",
       "      <th>p20_mph</th>\n",
       "      <th>p80_mph</th>\n",
       "      <th>time_of_day</th>\n",
       "    </tr>\n",
       "  </thead>\n",
       "  <tbody>\n",
       "    <tr>\n",
       "      <th>29718</th>\n",
       "      <td>6c2d7daaf979779fa2089c6395baf98b</td>\n",
       "      <td>579</td>\n",
       "      <td>0</td>\n",
       "      <td>22.24</td>\n",
       "      <td>6</td>\n",
       "      <td>20.76</td>\n",
       "      <td>25.12</td>\n",
       "      <td>all_day</td>\n",
       "    </tr>\n",
       "    <tr>\n",
       "      <th>29719</th>\n",
       "      <td>6c2d7daaf979779fa2089c6395baf98b</td>\n",
       "      <td>579</td>\n",
       "      <td>0</td>\n",
       "      <td>22.94</td>\n",
       "      <td>4</td>\n",
       "      <td>18.22</td>\n",
       "      <td>27.10</td>\n",
       "      <td>peak</td>\n",
       "    </tr>\n",
       "  </tbody>\n",
       "</table>\n",
       "</div>"
      ],
      "text/plain": [
       "                       gtfs_dataset_key stop_id  loop_or_inlining  p50_mph  \\\n",
       "29718  6c2d7daaf979779fa2089c6395baf98b     579                 0    22.24   \n",
       "29719  6c2d7daaf979779fa2089c6395baf98b     579                 0    22.94   \n",
       "\n",
       "       n_trips  p20_mph  p80_mph time_of_day  \n",
       "29718        6    20.76    25.12     all_day  \n",
       "29719        4    18.22    27.10        peak  "
      ]
     },
     "metadata": {},
     "output_type": "display_data"
    },
    {
     "name": "stdout",
     "output_type": "stream",
     "text": [
      "New\n"
     ]
    },
    {
     "data": {
      "text/html": [
       "<div>\n",
       "<style scoped>\n",
       "    .dataframe tbody tr th:only-of-type {\n",
       "        vertical-align: middle;\n",
       "    }\n",
       "\n",
       "    .dataframe tbody tr th {\n",
       "        vertical-align: top;\n",
       "    }\n",
       "\n",
       "    .dataframe thead th {\n",
       "        text-align: right;\n",
       "    }\n",
       "</style>\n",
       "<table border=\"1\" class=\"dataframe\">\n",
       "  <thead>\n",
       "    <tr style=\"text-align: right;\">\n",
       "      <th></th>\n",
       "      <th>gtfs_dataset_key</th>\n",
       "      <th>stop_id</th>\n",
       "      <th>loop_or_inlining</th>\n",
       "      <th>p50_mph</th>\n",
       "      <th>n_trips</th>\n",
       "      <th>p20_mph</th>\n",
       "      <th>p80_mph</th>\n",
       "      <th>time_of_day</th>\n",
       "    </tr>\n",
       "  </thead>\n",
       "  <tbody>\n",
       "    <tr>\n",
       "      <th>150742</th>\n",
       "      <td>6c2d7daaf979779fa2089c6395baf98b</td>\n",
       "      <td>579</td>\n",
       "      <td>0</td>\n",
       "      <td>22.75</td>\n",
       "      <td>5</td>\n",
       "      <td>20.26</td>\n",
       "      <td>26.11</td>\n",
       "      <td>all_day</td>\n",
       "    </tr>\n",
       "    <tr>\n",
       "      <th>150743</th>\n",
       "      <td>6c2d7daaf979779fa2089c6395baf98b</td>\n",
       "      <td>579</td>\n",
       "      <td>0</td>\n",
       "      <td>25.12</td>\n",
       "      <td>3</td>\n",
       "      <td>18.69</td>\n",
       "      <td>28.09</td>\n",
       "      <td>peak</td>\n",
       "    </tr>\n",
       "  </tbody>\n",
       "</table>\n",
       "</div>"
      ],
      "text/plain": [
       "                        gtfs_dataset_key stop_id  loop_or_inlining  p50_mph  \\\n",
       "150742  6c2d7daaf979779fa2089c6395baf98b     579                 0    22.75   \n",
       "150743  6c2d7daaf979779fa2089c6395baf98b     579                 0    25.12   \n",
       "\n",
       "        n_trips  p20_mph  p80_mph time_of_day  \n",
       "150742        5    20.26    26.11     all_day  \n",
       "150743        3    18.69    28.09        peak  "
      ]
     },
     "metadata": {},
     "output_type": "display_data"
    }
   ],
   "source": [
    "compare_average(avg_test, og_avg, shape_array5, stop_seq5)"
   ]
  },
  {
   "cell_type": "markdown",
   "id": "7cff986a-6bb0-4f0f-942c-093cf8df1e04",
   "metadata": {
    "tags": []
   },
   "source": [
    "### Speeds for 1 Sequence"
   ]
  },
  {
   "cell_type": "code",
   "execution_count": null,
   "id": "2eaca342-b677-4a7f-b6cb-f70aefd517b1",
   "metadata": {},
   "outputs": [],
   "source": [
    "def speeds_one_trip_seq(shape_array_key:str, stop_sequence:int):\n",
    "    STG4_FILE = DICT['stage4']\n",
    "    df = pd.read_parquet(f\"{SEGMENT_GCS}{STG4_FILE}_{analysis_date}\", \n",
    "         filters = [[(\"shape_array_key\", \"==\", shape_array_key),\n",
    "                    (\"stop_sequence\", \"==\", stop_sequence)]]) \n",
    "    return df"
   ]
  },
  {
   "cell_type": "code",
   "execution_count": null,
   "id": "d398a5dd-3578-4db1-8e6c-616812de7747",
   "metadata": {},
   "outputs": [],
   "source": [
    "def avg_speeds_one_trip_seq(shape_array_key:str, stop_sequence:int):\n",
    "    STG5_FILE = DICT['stage5']\n",
    "    df = pd.read_parquet(f\"{SEGMENT_GCS}{STG5_FILE}_{analysis_date}.parquet\", \n",
    "         filters = [[(\"shape_array_key\", \"==\", shape_array_key),\n",
    "                    (\"stop_sequence\", \"==\", stop_sequence),\n",
    "                    (\"time_of_day\", \"==\", \"all_day\")]])\n",
    "    df = df.drop(columns=[\"district\", \"district_name\", \"geometry\"])\n",
    "    return df"
   ]
  },
  {
   "cell_type": "code",
   "execution_count": null,
   "id": "f7dce6cc-07f6-492b-a747-b927535f1a91",
   "metadata": {},
   "outputs": [],
   "source": [
    "def merge_avg_all_speeds(shape_array_key:str, stop_sequence:int):\n",
    "    speeds = speeds_one_trip_seq(shape_array_key, stop_sequence)\n",
    "    avg = avg_speeds_one_trip_seq(shape_array_key, stop_sequence)\n",
    "    m1 = pd.merge(speeds,avg, on =['shape_array_key','stop_sequence','gtfs_dataset_key'], how = \"inner\")\n",
    "    return m1"
   ]
  },
  {
   "cell_type": "code",
   "execution_count": null,
   "id": "3651e675-043e-41c2-a1f3-e703d6c86727",
   "metadata": {},
   "outputs": [],
   "source": [
    "def display_speeds(shape_array_key:str, stop_sequence:int):\n",
    "    m1 = merge_avg_all_speeds(shape_array_key,stop_sequence)\n",
    "    \n",
    "    # Fill any nan values\n",
    "    m1= m1.fillna(0)\n",
    "    \n",
    "    # Create chart title \n",
    "    chart_title = f\"Speed Distribution for Seq {m1.stop_sequence.iloc[0]}/Shape {m1.shape_array_key.iloc[0]}\"\n",
    "    \n",
    "    # Main chart\n",
    "    chart = (alt.Chart(m1)\n",
    "         .mark_bar()\n",
    "         .encode(x='trip_id', y='speed_mph')\n",
    "         .properties(title = chart_title))\n",
    "    \n",
    "    # Rule\n",
    "    rule1 = alt.Chart(m1).mark_rule(color='red', strokeDash=[10, 7]).encode(y='p20_mph')\n",
    "    rule2 = alt.Chart(m1).mark_rule(color='blue', strokeDash=[10, 7]).encode(y='p80_mph')\n",
    "    rule3 = alt.Chart(m1).mark_rule(color='green', strokeDash=[10, 7]).encode(y='p50_mph')\n",
    "    chart = threshold_utils.chart_size((chart+rule1+rule2+rule3), 600,300)\n",
    "    chart = chart.interactive()\n",
    "    display(chart)"
   ]
  },
  {
   "cell_type": "code",
   "execution_count": null,
   "id": "3ac82a7e-5b28-4265-ae53-6e06f20b50ba",
   "metadata": {},
   "outputs": [],
   "source": [
    "# display_speeds(shape_array2, stop_seq2)"
   ]
  },
  {
   "cell_type": "code",
   "execution_count": null,
   "id": "a1b6b30c-ec03-42ca-97c9-fdc6da81b898",
   "metadata": {},
   "outputs": [],
   "source": [
    "# display_speeds(shape_array3, stop_seq3)"
   ]
  },
  {
   "cell_type": "markdown",
   "id": "06e27a6d-3806-47d9-9382-41eea46b9d54",
   "metadata": {},
   "source": [
    "### Speeds for 1 Shape"
   ]
  },
  {
   "cell_type": "code",
   "execution_count": null,
   "id": "fa68336b-a4d5-4b79-94ec-9251888357d6",
   "metadata": {},
   "outputs": [],
   "source": [
    "def box_whisker(df:pd.DataFrame, route:str):\n",
    "    \n",
    "    one_shape = df[df.shape_array_key == route]\n",
    "    \n",
    "    chart_title = f\"Speed Distribution for Seq {one_shape.gtfs_dataset_name.iloc[0]}/Shape {one_shape.shape_array_key.iloc[0]}\"\n",
    "    \n",
    "    one_shape = threshold_utils.pre_clean(one_shape)\n",
    "    \n",
    "    chart = (alt.Chart(one_shape)\n",
    "    .mark_boxplot(extent='min-max').encode(\n",
    "    x='Stop Sequence:O',\n",
    "    y='Speed Mph:Q', color=alt.Color('Shape Array Key',\n",
    "    scale=alt.Scale(range=cp.CALITP_CATEGORY_BRIGHT_COLORS),\n",
    "    legend=None))\n",
    "    .properties(title = chart_title)\n",
    "            )\n",
    "    \n",
    "    chart = threshold_utils.chart_size((chart), 800,300)\n",
    "    \n",
    "    return chart"
   ]
  },
  {
   "cell_type": "code",
   "execution_count": null,
   "id": "29d713b0-e413-48cc-8dbe-65bccfdfc91d",
   "metadata": {},
   "outputs": [],
   "source": [
    "# box_whisker(merge1, shape_array5)"
   ]
  },
  {
   "cell_type": "code",
   "execution_count": null,
   "id": "31c98032-924a-437f-9114-1006766e6822",
   "metadata": {},
   "outputs": [],
   "source": [
    "# box_whisker(percentile_df, shape_array5)"
   ]
  },
  {
   "cell_type": "code",
   "execution_count": null,
   "id": "b051e113-d8b5-4c5b-b1f3-16666a5889c4",
   "metadata": {},
   "outputs": [],
   "source": [
    "box_whisker(merge1, shape_array4)"
   ]
  },
  {
   "cell_type": "code",
   "execution_count": null,
   "id": "3f7f10e7-5108-4583-9aff-3a4f8da56cba",
   "metadata": {},
   "outputs": [],
   "source": [
    "box_whisker(percentile_df, shape_array4)"
   ]
  },
  {
   "cell_type": "code",
   "execution_count": null,
   "id": "c27380bd-3239-4da0-90b3-cdf53cba26dd",
   "metadata": {},
   "outputs": [],
   "source": [
    "def dotplot_trip_time_rt_coverage(df:pd.DataFrame, route:str):\n",
    "    \"\"\"\n",
    "    Create a dotplot showing trips\n",
    "    by its duration and % of RT coverage.\n",
    "    \"\"\"\n",
    "    one_shape = df[df.shape_array_key == route]\n",
    "    chart_title = f\"Speed Distribution for Seq {one_shape.gtfs_dataset_name.iloc[0]}/Shape {one_shape.shape_array_key.iloc[0]}\"\n",
    "    one_shape = threshold_utils.pre_clean(one_shape)\n",
    "    \n",
    "    dot_chart = (\n",
    "        alt.Chart(one_shape, width=0.5)\n",
    "        .mark_circle(size=50)\n",
    "        .encode(\n",
    "            x=alt.X(\n",
    "                \"jitter:Q\",\n",
    "                title=None,\n",
    "                axis=alt.Axis(values=[0], ticks=False, grid=False, labels=False),\n",
    "                scale=alt.Scale(),\n",
    "            ),\n",
    "            y=alt.Y(\"Speed Mph:Q\", axis=alt.Axis(labelAngle=90)),\n",
    "            color=alt.Color(\n",
    "                \"Stop Sequence:N\",\n",
    "                scale=alt.Scale(range=cp.CALITP_CATEGORY_BRIGHT_COLORS),\n",
    "                legend=None,\n",
    "            ),\n",
    "            tooltip=['Stop Sequence','Speed Mph','Percent'],\n",
    "            column=alt.Column(\n",
    "                \"Stop Sequence:N\",\n",
    "                header=alt.Header(\n",
    "                    labelAngle=45,\n",
    "                    titleOrient=\"top\",\n",
    "                    labelOrient=\"bottom\",\n",
    "                    labelAlign=\"right\",\n",
    "                    labelPadding=2,\n",
    "                ),\n",
    "            ),\n",
    "        )\n",
    "        .transform_calculate(\n",
    "            # Generate Gaussian jitter with a Box-Muller transform\n",
    "            jitter=\"sqrt(-2*log(random()))*cos(2*PI*random())\"\n",
    "        )\n",
    "        .configure_facet(spacing=0)\n",
    "        .configure_view(stroke=None)\n",
    "        .properties(title=chart_title)\n",
    "    )\n",
    "    \n",
    "    dot_chart = threshold_utils.chart_size(dot_chart, 25, 150).interactive()\n",
    "    \n",
    "    return dot_chart"
   ]
  },
  {
   "cell_type": "code",
   "execution_count": null,
   "id": "5a41a359-1377-40fa-93b3-59301bdbfac4",
   "metadata": {},
   "outputs": [],
   "source": [
    "dotplot_trip_time_rt_coverage(merge1, shape_array1)"
   ]
  },
  {
   "cell_type": "code",
   "execution_count": null,
   "id": "16303ead-f09c-4c2f-921c-74d0c2409491",
   "metadata": {},
   "outputs": [],
   "source": [
    "dotplot_trip_time_rt_coverage(percentile_df, shape_array1)"
   ]
  },
  {
   "cell_type": "code",
   "execution_count": null,
   "id": "737136ac-1be7-4552-b727-bcfd9d8fb7ff",
   "metadata": {},
   "outputs": [],
   "source": [
    "stop_seq3"
   ]
  },
  {
   "cell_type": "code",
   "execution_count": null,
   "id": "06311f15-7be8-464e-a9df-df6a145fb4b7",
   "metadata": {},
   "outputs": [],
   "source": [
    "dotplot_trip_time_rt_coverage(merge1, shape_array3)"
   ]
  },
  {
   "cell_type": "code",
   "execution_count": null,
   "id": "9086ed54-e4dc-42e4-813c-a62c5d583bf5",
   "metadata": {},
   "outputs": [],
   "source": [
    "dotplot_trip_time_rt_coverage(percentile_df, shape_array3)"
   ]
  },
  {
   "cell_type": "code",
   "execution_count": null,
   "id": "a66d7e9b-67ee-464d-8db7-2a6109d95e4e",
   "metadata": {},
   "outputs": [],
   "source": [
    "def preview(df:pd.DataFrame, shape_array_key:str, stop_sequence: str):\n",
    "    df = df[(df.shape_array_key ==shape_array_key) & (df.stop_sequence == stop_sequence)]\n",
    "    \n",
    "    display(df[['stop_sequence','sec_elapsed','meters_elapsed','percent', 'speed_mph']])"
   ]
  },
  {
   "cell_type": "code",
   "execution_count": null,
   "id": "fcb12d09-5e33-439b-a9fc-f1480132a0f4",
   "metadata": {},
   "outputs": [],
   "source": [
    "preview(percentile_df, shape_array5, 14)"
   ]
  },
  {
   "cell_type": "code",
   "execution_count": null,
   "id": "4c1c3646-004a-4b8b-9d5a-ca88e643c69d",
   "metadata": {
    "tags": []
   },
   "outputs": [],
   "source": [
    "preview(merge1, shape_array5, 14)"
   ]
  },
  {
   "cell_type": "code",
   "execution_count": null,
   "id": "e1e27b55-f678-43f4-8ceb-2cdcdb4448e6",
   "metadata": {
    "tags": []
   },
   "outputs": [],
   "source": [
    "preview(merge1, shape_array5, 24)"
   ]
  },
  {
   "cell_type": "code",
   "execution_count": null,
   "id": "a6016a87-a6cb-4394-a978-95874cf88d60",
   "metadata": {},
   "outputs": [],
   "source": [
    "preview(percentile_df, shape_array5, 24)"
   ]
  }
 ],
 "metadata": {
  "kernelspec": {
   "display_name": "Python 3 (ipykernel)",
   "language": "python",
   "name": "python3"
  },
  "language_info": {
   "codemirror_mode": {
    "name": "ipython",
    "version": 3
   },
   "file_extension": ".py",
   "mimetype": "text/x-python",
   "name": "python",
   "nbconvert_exporter": "python",
   "pygments_lexer": "ipython3",
   "version": "3.9.13"
  },
  "toc-autonumbering": false,
  "toc-showcode": false
 },
 "nbformat": 4,
 "nbformat_minor": 5
}
