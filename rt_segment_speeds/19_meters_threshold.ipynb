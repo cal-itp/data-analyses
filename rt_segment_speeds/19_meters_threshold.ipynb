{
 "cells": [
  {
   "cell_type": "code",
   "execution_count": 1,
   "id": "3d2ca779-5cd7-4f98-8e9f-344e9d4dcf46",
   "metadata": {},
   "outputs": [
    {
     "name": "stderr",
     "output_type": "stream",
     "text": [
      "/opt/conda/lib/python3.9/site-packages/geopandas/_compat.py:124: UserWarning: The Shapely GEOS version (3.11.1-CAPI-1.17.1) is incompatible with the GEOS version PyGEOS was compiled with (3.10.1-CAPI-1.16.0). Conversions between both will be slow.\n",
      "  warnings.warn(\n",
      "/tmp/ipykernel_1552/3696898552.py:4: DeprecationWarning: Shapely 2.0 is installed, but because PyGEOS is also installed, GeoPandas still uses PyGEOS by default. However, starting with version 0.14, the default will switch to Shapely. To force to use Shapely 2.0 now, you can either uninstall PyGEOS or set the environment variable USE_PYGEOS=0. You can do this before starting the Python process, or in your code before importing geopandas:\n",
      "\n",
      "import os\n",
      "os.environ['USE_PYGEOS'] = '0'\n",
      "import geopandas\n",
      "\n",
      "In the next release, GeoPandas will switch to using Shapely by default, even if PyGEOS is installed. If you only have PyGEOS installed to get speed-ups, this switch should be smooth. However, if you are using PyGEOS directly (calling PyGEOS functions on geometries from GeoPandas), this will then stop working and you are encouraged to migrate from PyGEOS to Shapely 2.0 (https://shapely.readthedocs.io/en/latest/migration_pygeos.html).\n",
      "  import geopandas as gpd\n"
     ]
    }
   ],
   "source": [
    "import datetime\n",
    "import dask.dataframe as dd\n",
    "import numpy as np\n",
    "import geopandas as gpd\n",
    "import pandas as pd\n",
    "import altair as alt\n",
    "from segment_speed_utils import gtfs_schedule_wrangling, helpers, segment_calcs,sched_rt_utils\n",
    "from segment_speed_utils.project_vars import (\n",
    "    COMPILED_CACHED_VIEWS,\n",
    "    PROJECT_CRS,\n",
    "    SEGMENT_GCS,  \n",
    "    analysis_date,\n",
    ")\n",
    "from scripts import (A1_sjoin_vp_segments, A2_valid_vehicle_positions,B2_avg_speeds_by_segment)\n",
    "from shared_utils import calitp_color_palette as cp, rt_utils, geography_utils\n",
    "import _threshold_utils as threshold_utils\n",
    "import _rt_scheduled_utils as rt_scheduled_utils\n",
    "CONFIG_PATH = './scripts/config.yml'\n",
    "STOP_SEG_DICT = helpers.get_parameters(CONFIG_PATH, \"stop_segments\")"
   ]
  },
  {
   "cell_type": "code",
   "execution_count": 2,
   "id": "6305e1fd-3383-4960-baa2-db169e86033d",
   "metadata": {},
   "outputs": [],
   "source": [
    "pd.options.display.max_columns = 100\n",
    "pd.options.display.float_format = \"{:.2f}\".format\n",
    "pd.set_option(\"display.max_rows\", None)\n",
    "pd.set_option(\"display.max_colwidth\", None)"
   ]
  },
  {
   "cell_type": "code",
   "execution_count": 3,
   "id": "180482d2-f3c3-4577-8558-54bfab8a9768",
   "metadata": {},
   "outputs": [
    {
     "data": {
      "text/plain": [
       "'2023-08-15'"
      ]
     },
     "execution_count": 3,
     "metadata": {},
     "output_type": "execute_result"
    }
   ],
   "source": [
    "analysis_date"
   ]
  },
  {
   "cell_type": "code",
   "execution_count": 4,
   "id": "ec7d196d-3dd3-445b-bd8a-9daf48fa5a88",
   "metadata": {},
   "outputs": [],
   "source": [
    "dictionary = helpers.get_parameters(CONFIG_PATH, \"stop_segments\")"
   ]
  },
  {
   "cell_type": "markdown",
   "id": "d35de724-b1b8-4d91-a37d-f4aa06120777",
   "metadata": {
    "tags": []
   },
   "source": [
    "## % of Meters\n",
    "* start with the speeds_stop_segments_{analysis_date} parquet (which is produced in B1_speeds_by_segment_trip ).\n",
    "* grab in stop_segments_{analysis_date} (in CRS 3310 already), and you can get the segment's length.\n",
    "* merge with the speeds by segment-trip, which contains the meters_elapsed column\n",
    "* calculate pct where meters_elapsed/segment_length\n",
    "* show me some charts around this, a couple of descriptives to make sure these are all ok\n",
    "* give me rough descriptives of how many rows we're dropping if we go with keeping at least 30%, 40%, 50%"
   ]
  },
  {
   "cell_type": "markdown",
   "id": "c6c7cedd-6da8-4888-83da-c52003d6ea35",
   "metadata": {},
   "source": [
    "### Open these files just for testing"
   ]
  },
  {
   "cell_type": "code",
   "execution_count": 5,
   "id": "62548e77-825c-4ed3-9f90-05a07e0fab82",
   "metadata": {},
   "outputs": [],
   "source": [
    "def import_speeds_segs(analysis_date:str, \n",
    "                       max_speed_cutoff: int, \n",
    "                       dict_inputs:dict)-> pd.DataFrame:\n",
    "    FILE = dict_inputs['stage4']\n",
    "    df = pd.read_parquet(f\"{SEGMENT_GCS}{FILE}_{analysis_date}\")\n",
    "    \n",
    "    return df"
   ]
  },
  {
   "cell_type": "code",
   "execution_count": 6,
   "id": "c90ac266-38ca-4e94-ab25-68ee40829605",
   "metadata": {},
   "outputs": [],
   "source": [
    "def load_segments(analysis_date:str, dict_inputs:dict) -> gpd.GeoDataFrame:\n",
    "    # Load in ALL segments, find the length\n",
    "    FILE = dict_inputs['segments_file']\n",
    "    segments = gpd.read_parquet(f\"{SEGMENT_GCS}{FILE}_{analysis_date}.parquet\")\n",
    "    \n",
    "    return segments"
   ]
  },
  {
   "cell_type": "markdown",
   "id": "857ab4ad-1dde-4c65-bd88-99696ab9f478",
   "metadata": {},
   "source": [
    "## Open Files\n",
    "* Add `import_speeds_segs`,`calculate_segment_length`,`merge_segments_speeds` into `B2`"
   ]
  },
  {
   "cell_type": "code",
   "execution_count": 7,
   "id": "71eecb32-4d8d-4691-aad5-c3336028edb5",
   "metadata": {},
   "outputs": [],
   "source": [
    "segments_gdf = load_segments(analysis_date, dictionary)"
   ]
  },
  {
   "cell_type": "code",
   "execution_count": 51,
   "id": "e6a02583-9356-4fce-bb05-96eb47716650",
   "metadata": {},
   "outputs": [],
   "source": [
    "speeds = import_speeds_segs(analysis_date,70,  dictionary)"
   ]
  },
  {
   "cell_type": "code",
   "execution_count": 52,
   "id": "9527de7c-e540-431d-a4a6-ed701a323236",
   "metadata": {},
   "outputs": [],
   "source": [
    "def calculate_segment_length(segments:gpd.GeoDataFrame) -> gpd.GeoDataFrame:\n",
    "    \"\"\"\n",
    "    Find the length of segments\n",
    "    \"\"\"\n",
    "    segments = segments.assign(\n",
    "        meters_length=(segments.geometry.length)\n",
    "    )\n",
    "    #df = segments.drop(columns = ['geometry','district','district_name'])\n",
    "    \n",
    "    return segments"
   ]
  },
  {
   "cell_type": "code",
   "execution_count": 53,
   "id": "961e15dc-1c07-411f-92be-785721b7d67e",
   "metadata": {},
   "outputs": [],
   "source": [
    "def merge_segments_speeds(speeds: pd.DataFrame,\n",
    "                          segments:gpd.GeoDataFrame, \n",
    "                          ) -> pd.DataFrame:\n",
    "    \"\"\"\n",
    "    Merge speeds and segments, calculate length.\n",
    "    \"\"\"\n",
    "    segments = calculate_segment_length(segments)\n",
    "    \n",
    "    merge_cols = ['shape_array_key','stop_sequence','schedule_gtfs_dataset_key']\n",
    "    merge1 = pd.merge(segments, speeds, on = merge_cols, how = \"inner\")\n",
    "    \n",
    "    merge1['percent'] = merge1.meters_elapsed/merge1.meters_length * 100\n",
    "    \n",
    "    merge1.percent = merge1.percent.fillna(0)\n",
    "    return merge1"
   ]
  },
  {
   "cell_type": "code",
   "execution_count": 54,
   "id": "74f1e548-55d3-4c0a-b40d-2abca4e546f5",
   "metadata": {},
   "outputs": [],
   "source": [
    "m1 = merge_segments_speeds(speeds, segments_gdf)"
   ]
  },
  {
   "cell_type": "markdown",
   "id": "1483859e-bd07-4d5f-b86f-0f9d7bebe121",
   "metadata": {
    "tags": []
   },
   "source": [
    "## Visualizing Speed\n",
    "* https://nbviewer.org/github/cal-itp/data-analyses/blob/filter-speeds-avgs/rt_segment_speeds/18_speed_distribution.ipynb\n",
    "* https://analysis.calitp.org/rt/district_07-los-angeles/9__speedmaps__district_07-los-angeles__itp_id_300.html"
   ]
  },
  {
   "cell_type": "code",
   "execution_count": null,
   "id": "d7737449-92b0-417e-ad76-fceb20e9403e",
   "metadata": {},
   "outputs": [],
   "source": [
    "def valid_trips_by_cutoff(df, percentages:list):\n",
    "    \"\"\"\n",
    "    Returns a table of how many trips/routes/operators/etc are kept \n",
    "    after applying a certain percentile cutoff for the \n",
    "    length of segment that's covered.\n",
    "    \n",
    "    Ex: if a segment has 40% of its length covered in RT \n",
    "    data, it falls in the 20th percentile.\n",
    "    \n",
    "    Args:\n",
    "        df: result from  merge_segments_speeds(speeds, segments_gdf)\n",
    "        percentages: the percentiles in floats like 0.2, 0.25, 0.3\n",
    "    \"\"\"\n",
    "    final = pd.DataFrame()\n",
    "    og_len = len(df)\n",
    "    og_trips = df.trip_id.nunique()\n",
    "    og_shape_array_key = df.shape_array_key.nunique()\n",
    "    \n",
    "    for i in percentages:\n",
    "        # Round up percent to nearest 5. Ex: 43 becomes 45.\n",
    "        percent = myround(df.percent.quantile(i).astype(float))\n",
    "        temp = (df[(df.percent >= percent)])\n",
    "        \n",
    "        temp = temp.assign(\n",
    "            percentile = f\"Min. of {percent}% of seg length covered\")\n",
    "        \n",
    "        temp = (temp\n",
    "                .groupby(['percentile'])\n",
    "                .agg({'gtfs_dataset_name':'count',\n",
    "                      'speed_mph':'mean',\n",
    "                      'shape_array_key':'nunique',\n",
    "                      'trip_id':'nunique',\n",
    "                      'gtfs_dataset_key':'nunique'})\n",
    "                .reset_index()\n",
    "                .rename(columns = {'gtfs_dataset_name':'n_rows',\n",
    "                                  'speed_mph':'mean_speed_mph',\n",
    "                                  'shape_array_key':'n_kept_routes',\n",
    "                                  'trip_id':'n_kept_trips',\n",
    "                                  'gtfs_dataset_key':'n_kept_operators'})\n",
    "               )\n",
    "        \n",
    "        final = pd.concat([final, temp], axis=0)\n",
    "\n",
    "    \n",
    "    final = final.assign(\n",
    "        percentage_kept_rows=final.n_rows.divide(og_len) * 100,\n",
    "        percentage_kept_trips = final.n_kept_trips.divide(og_trips) * 100,\n",
    "        percentage_kept_routes = final.n_kept_routes.divide(og_shape_array_key)*100)\n",
    "    \n",
    "    round_cols = ['percentage_kept_rows', 'percentage_kept_trips', 'percentage_kept_routes']\n",
    "    final[round_cols] = final[round_cols].round(0)\n",
    "    return final"
   ]
  },
  {
   "cell_type": "markdown",
   "id": "938e5d67-7fd0-4d62-af9d-0f26d08f12ed",
   "metadata": {},
   "source": [
    "### % of rows kept"
   ]
  },
  {
   "cell_type": "code",
   "execution_count": null,
   "id": "02da2cef-c921-4d79-856b-a797f715b7ed",
   "metadata": {},
   "outputs": [],
   "source": [
    "test = valid_trips_by_cutoff(m1, [.1,.2,.3,.4,.5,.6,.7])"
   ]
  },
  {
   "cell_type": "code",
   "execution_count": null,
   "id": "561eb328-18d5-4b2a-bd1e-4777b23b765c",
   "metadata": {},
   "outputs": [],
   "source": [
    "test = threshold_utils.pre_clean(test)"
   ]
  },
  {
   "cell_type": "code",
   "execution_count": null,
   "id": "4e049588-bb4b-4e00-ac0c-d4f836cac1e0",
   "metadata": {},
   "outputs": [],
   "source": [
    "test"
   ]
  },
  {
   "cell_type": "code",
   "execution_count": null,
   "id": "65d0b237-544f-4245-9de0-f2308ae8c8f2",
   "metadata": {},
   "outputs": [],
   "source": [
    "# Main chart\n",
    "def bar_chart(df, x_column: str, y_column:str, title:str):\n",
    "    chart = (alt.Chart(df)\n",
    "         .mark_bar()\n",
    "         .encode(x=x_column, y= y_column, \n",
    "          color=alt.Color(y_column, \n",
    "          scale=alt.Scale(range=cp.CALITP_CATEGORY_BRIGHT_COLORS),\n",
    "          legend=None),\n",
    "          tooltip = df.columns.tolist())\n",
    "         .properties(title = title)\n",
    "            )\n",
    "    chart = threshold_utils.chart_size((chart), 400,300)\n",
    "    return chart\n",
    "    "
   ]
  },
  {
   "cell_type": "code",
   "execution_count": null,
   "id": "4c8a453f-e38f-4a37-9a3e-06f8069f7dca",
   "metadata": {},
   "outputs": [],
   "source": [
    "bar_chart(test, 'Percentage Kept Rows','Percentile', 'Rows Kept After % Segment Cutoff')"
   ]
  },
  {
   "cell_type": "markdown",
   "id": "508cf5a1-bc2c-4fb8-904f-62cfc19fc04f",
   "metadata": {
    "tags": []
   },
   "source": [
    "## Edited B2 function"
   ]
  },
  {
   "cell_type": "code",
   "execution_count": 8,
   "id": "5355132e-988c-40f0-8648-afaf5fe9b026",
   "metadata": {},
   "outputs": [],
   "source": [
    "avg_test = B2_avg_speeds_by_segment.speeds_with_segment_geom(analysis_date, \n",
    "                                    70, \n",
    "                                    dictionary,\n",
    "                                    0.55)"
   ]
  },
  {
   "cell_type": "code",
   "execution_count": 9,
   "id": "781ca8a6-50dd-4257-9919-a9c9ddc1019f",
   "metadata": {},
   "outputs": [],
   "source": [
    "STG5_FILE = dictionary['stage5']\n",
    "og_avg = gpd.read_parquet(f\"{SEGMENT_GCS}{STG5_FILE}_{analysis_date}.parquet\")"
   ]
  },
  {
   "cell_type": "code",
   "execution_count": 10,
   "id": "0f29bc9a-8c99-468d-8f72-fd553b18d67f",
   "metadata": {},
   "outputs": [
    {
     "data": {
      "text/html": [
       "<div>\n",
       "<style scoped>\n",
       "    .dataframe tbody tr th:only-of-type {\n",
       "        vertical-align: middle;\n",
       "    }\n",
       "\n",
       "    .dataframe tbody tr th {\n",
       "        vertical-align: top;\n",
       "    }\n",
       "\n",
       "    .dataframe thead th {\n",
       "        text-align: right;\n",
       "    }\n",
       "</style>\n",
       "<table border=\"1\" class=\"dataframe\">\n",
       "  <thead>\n",
       "    <tr style=\"text-align: right;\">\n",
       "      <th></th>\n",
       "      <th></th>\n",
       "      <th></th>\n",
       "      <th>district</th>\n",
       "    </tr>\n",
       "    <tr>\n",
       "      <th>shape_array_key</th>\n",
       "      <th>schedule_gtfs_dataset_key</th>\n",
       "      <th>stop_sequence</th>\n",
       "      <th></th>\n",
       "    </tr>\n",
       "  </thead>\n",
       "  <tbody>\n",
       "    <tr>\n",
       "      <th>80fe7dbf91c2382be0bf2e2db58d713a</th>\n",
       "      <th>dbbe8ee4864a2715a40749605395d584</th>\n",
       "      <th>25</th>\n",
       "      <td>2</td>\n",
       "    </tr>\n",
       "    <tr>\n",
       "      <th>a09172ff2aceb45a7f5eb9e2a6eb7618</th>\n",
       "      <th>1e93c380452cfb80eac5e14e4f227992</th>\n",
       "      <th>14</th>\n",
       "      <td>2</td>\n",
       "    </tr>\n",
       "    <tr>\n",
       "      <th rowspan=\"3\" valign=\"top\">a0a07c99396126a30fafe0c8338de8d2</th>\n",
       "      <th rowspan=\"3\" valign=\"top\">d9d0325e50e50064e3cc8384b1751d67</th>\n",
       "      <th>13</th>\n",
       "      <td>2</td>\n",
       "    </tr>\n",
       "    <tr>\n",
       "      <th>12</th>\n",
       "      <td>2</td>\n",
       "    </tr>\n",
       "    <tr>\n",
       "      <th>11</th>\n",
       "      <td>2</td>\n",
       "    </tr>\n",
       "  </tbody>\n",
       "</table>\n",
       "</div>"
      ],
      "text/plain": [
       "                                                                                 district\n",
       "shape_array_key                  schedule_gtfs_dataset_key        stop_sequence          \n",
       "80fe7dbf91c2382be0bf2e2db58d713a dbbe8ee4864a2715a40749605395d584 25                    2\n",
       "a09172ff2aceb45a7f5eb9e2a6eb7618 1e93c380452cfb80eac5e14e4f227992 14                    2\n",
       "a0a07c99396126a30fafe0c8338de8d2 d9d0325e50e50064e3cc8384b1751d67 13                    2\n",
       "                                                                  12                    2\n",
       "                                                                  11                    2"
      ]
     },
     "execution_count": 10,
     "metadata": {},
     "output_type": "execute_result"
    }
   ],
   "source": [
    "# See unique stops-keys-routes. They should have no more than 2.\n",
    "avg_test.groupby(['shape_array_key','schedule_gtfs_dataset_key','stop_sequence']).agg({'district':'count'}).sort_values('district', ascending = False).head()"
   ]
  },
  {
   "cell_type": "markdown",
   "id": "28f5118e-c273-4094-94aa-d9a8c02b9029",
   "metadata": {},
   "source": [
    "* There are 3000 more rows"
   ]
  },
  {
   "cell_type": "code",
   "execution_count": 11,
   "id": "e761f21e-6e0e-466f-878e-a72aa15d7b19",
   "metadata": {},
   "outputs": [
    {
     "data": {
      "text/plain": [
       "(264433, 13)"
      ]
     },
     "execution_count": 11,
     "metadata": {},
     "output_type": "execute_result"
    }
   ],
   "source": [
    "og_avg.shape"
   ]
  },
  {
   "cell_type": "code",
   "execution_count": 12,
   "id": "da0ccf1f-29b2-4374-a8aa-99d7a59256e3",
   "metadata": {},
   "outputs": [
    {
     "data": {
      "text/plain": [
       "(261593, 13)"
      ]
     },
     "execution_count": 12,
     "metadata": {},
     "output_type": "execute_result"
    }
   ],
   "source": [
    "# 261593 w dropping dups at the end\n",
    "avg_test.shape"
   ]
  },
  {
   "cell_type": "code",
   "execution_count": 13,
   "id": "4c3520e1-7fcb-403a-8cb6-e3f3bda600ab",
   "metadata": {},
   "outputs": [
    {
     "data": {
      "text/plain": [
       "-2840"
      ]
     },
     "execution_count": 13,
     "metadata": {},
     "output_type": "execute_result"
    }
   ],
   "source": [
    "len(avg_test)-len(og_avg)"
   ]
  },
  {
   "cell_type": "markdown",
   "id": "d9cbd71c-ff9d-49f4-a522-0150d3721da7",
   "metadata": {},
   "source": [
    "## Checks"
   ]
  },
  {
   "cell_type": "markdown",
   "id": "d46dc2db-7e09-49bc-b377-f2b8951368fe",
   "metadata": {},
   "source": [
    "### Seeing why all the rows were cut"
   ]
  },
  {
   "cell_type": "code",
   "execution_count": 14,
   "id": "049cdd28-3bea-4e9d-9d0c-2dd3f357b6db",
   "metadata": {},
   "outputs": [],
   "source": [
    "# Test 3 contains missing sequences that were added back on\n",
    "# From \"add_back_missing_stops\"\n",
    "# avg_test.loc[avg_test.time_of_day == None].sample(3).drop(columns = ['geometry'])"
   ]
  },
  {
   "cell_type": "code",
   "execution_count": 55,
   "id": "cf785834-77e8-4bec-a5bf-bed0e28700a7",
   "metadata": {},
   "outputs": [],
   "source": [
    "def look_at_missing_row(shape, sequence):\n",
    "    display(og_avg.loc[(og_avg.shape_array_key == shape) & (og_avg.stop_sequence == sequence)].drop(columns = ['geometry']))\n",
    "    display(m1.loc[(m1.shape_array_key == shape) & (m1.stop_sequence == sequence)][['percent', 'speed_mph']])\n",
    "    display(avg_test.loc[(avg_test.shape_array_key == shape) & (avg_test.stop_sequence == sequence)].drop(columns = ['geometry']))"
   ]
  },
  {
   "cell_type": "code",
   "execution_count": 18,
   "id": "36df3455-9c3d-4d83-a1f7-5bdfa28346e2",
   "metadata": {},
   "outputs": [],
   "source": [
    "missing_shape2  = \"4d006755475d7c2a03c525995311ec16\"\n",
    "missing_stop_seq2 = 29"
   ]
  },
  {
   "cell_type": "code",
   "execution_count": 56,
   "id": "858be18b-4fa7-4f22-beb2-a52ada384b87",
   "metadata": {},
   "outputs": [
    {
     "data": {
      "text/html": [
       "<div>\n",
       "<style scoped>\n",
       "    .dataframe tbody tr th:only-of-type {\n",
       "        vertical-align: middle;\n",
       "    }\n",
       "\n",
       "    .dataframe tbody tr th {\n",
       "        vertical-align: top;\n",
       "    }\n",
       "\n",
       "    .dataframe thead th {\n",
       "        text-align: right;\n",
       "    }\n",
       "</style>\n",
       "<table border=\"1\" class=\"dataframe\">\n",
       "  <thead>\n",
       "    <tr style=\"text-align: right;\">\n",
       "      <th></th>\n",
       "      <th>shape_array_key</th>\n",
       "      <th>stop_sequence</th>\n",
       "      <th>schedule_gtfs_dataset_key</th>\n",
       "      <th>stop_id</th>\n",
       "      <th>loop_or_inlining</th>\n",
       "      <th>district</th>\n",
       "      <th>district_name</th>\n",
       "      <th>p50_mph</th>\n",
       "      <th>n_trips</th>\n",
       "      <th>p20_mph</th>\n",
       "      <th>p80_mph</th>\n",
       "      <th>time_of_day</th>\n",
       "    </tr>\n",
       "  </thead>\n",
       "  <tbody>\n",
       "    <tr>\n",
       "      <th>79495</th>\n",
       "      <td>4d006755475d7c2a03c525995311ec16</td>\n",
       "      <td>29</td>\n",
       "      <td>97b8c635bbc4cdd02bc5c27d0e83df3c</td>\n",
       "      <td>e6650363-497d-4797-8931-a83c0bc389dc</td>\n",
       "      <td>0</td>\n",
       "      <td>3</td>\n",
       "      <td>District 3 - Marysville</td>\n",
       "      <td>18.28</td>\n",
       "      <td>1</td>\n",
       "      <td>18.28</td>\n",
       "      <td>18.28</td>\n",
       "      <td>all_day</td>\n",
       "    </tr>\n",
       "  </tbody>\n",
       "</table>\n",
       "</div>"
      ],
      "text/plain": [
       "                        shape_array_key  stop_sequence  \\\n",
       "79495  4d006755475d7c2a03c525995311ec16             29   \n",
       "\n",
       "              schedule_gtfs_dataset_key                               stop_id  \\\n",
       "79495  97b8c635bbc4cdd02bc5c27d0e83df3c  e6650363-497d-4797-8931-a83c0bc389dc   \n",
       "\n",
       "       loop_or_inlining  district            district_name  p50_mph  n_trips  \\\n",
       "79495                 0         3  District 3 - Marysville    18.28        1   \n",
       "\n",
       "       p20_mph  p80_mph time_of_day  \n",
       "79495    18.28    18.28     all_day  "
      ]
     },
     "metadata": {},
     "output_type": "display_data"
    },
    {
     "data": {
      "text/html": [
       "<div>\n",
       "<style scoped>\n",
       "    .dataframe tbody tr th:only-of-type {\n",
       "        vertical-align: middle;\n",
       "    }\n",
       "\n",
       "    .dataframe tbody tr th {\n",
       "        vertical-align: top;\n",
       "    }\n",
       "\n",
       "    .dataframe thead th {\n",
       "        text-align: right;\n",
       "    }\n",
       "</style>\n",
       "<table border=\"1\" class=\"dataframe\">\n",
       "  <thead>\n",
       "    <tr style=\"text-align: right;\">\n",
       "      <th></th>\n",
       "      <th>percent</th>\n",
       "      <th>speed_mph</th>\n",
       "    </tr>\n",
       "  </thead>\n",
       "  <tbody>\n",
       "    <tr>\n",
       "      <th>816051</th>\n",
       "      <td>52.16</td>\n",
       "      <td>18.28</td>\n",
       "    </tr>\n",
       "  </tbody>\n",
       "</table>\n",
       "</div>"
      ],
      "text/plain": [
       "        percent  speed_mph\n",
       "816051    52.16      18.28"
      ]
     },
     "metadata": {},
     "output_type": "display_data"
    },
    {
     "data": {
      "text/html": [
       "<div>\n",
       "<style scoped>\n",
       "    .dataframe tbody tr th:only-of-type {\n",
       "        vertical-align: middle;\n",
       "    }\n",
       "\n",
       "    .dataframe tbody tr th {\n",
       "        vertical-align: top;\n",
       "    }\n",
       "\n",
       "    .dataframe thead th {\n",
       "        text-align: right;\n",
       "    }\n",
       "</style>\n",
       "<table border=\"1\" class=\"dataframe\">\n",
       "  <thead>\n",
       "    <tr style=\"text-align: right;\">\n",
       "      <th></th>\n",
       "      <th>shape_array_key</th>\n",
       "      <th>stop_sequence</th>\n",
       "      <th>schedule_gtfs_dataset_key</th>\n",
       "      <th>stop_id</th>\n",
       "      <th>loop_or_inlining</th>\n",
       "      <th>district</th>\n",
       "      <th>district_name</th>\n",
       "      <th>p50_mph</th>\n",
       "      <th>n_trips</th>\n",
       "      <th>p20_mph</th>\n",
       "      <th>p80_mph</th>\n",
       "      <th>time_of_day</th>\n",
       "    </tr>\n",
       "  </thead>\n",
       "  <tbody>\n",
       "    <tr>\n",
       "      <th>78558</th>\n",
       "      <td>4d006755475d7c2a03c525995311ec16</td>\n",
       "      <td>29</td>\n",
       "      <td>97b8c635bbc4cdd02bc5c27d0e83df3c</td>\n",
       "      <td>e6650363-497d-4797-8931-a83c0bc389dc</td>\n",
       "      <td>0</td>\n",
       "      <td>3</td>\n",
       "      <td>District 3 - Marysville</td>\n",
       "      <td>NaN</td>\n",
       "      <td>NaN</td>\n",
       "      <td>NaN</td>\n",
       "      <td>NaN</td>\n",
       "      <td>NaN</td>\n",
       "    </tr>\n",
       "  </tbody>\n",
       "</table>\n",
       "</div>"
      ],
      "text/plain": [
       "                        shape_array_key  stop_sequence  \\\n",
       "78558  4d006755475d7c2a03c525995311ec16             29   \n",
       "\n",
       "              schedule_gtfs_dataset_key                               stop_id  \\\n",
       "78558  97b8c635bbc4cdd02bc5c27d0e83df3c  e6650363-497d-4797-8931-a83c0bc389dc   \n",
       "\n",
       "       loop_or_inlining  district            district_name  p50_mph  n_trips  \\\n",
       "78558                 0         3  District 3 - Marysville      NaN      NaN   \n",
       "\n",
       "       p20_mph  p80_mph time_of_day  \n",
       "78558      NaN      NaN         NaN  "
      ]
     },
     "metadata": {},
     "output_type": "display_data"
    }
   ],
   "source": [
    "look_at_missing_row(missing_shape2, missing_stop_seq2)"
   ]
  },
  {
   "cell_type": "markdown",
   "id": "efaca354-73ae-419d-bea2-2edc7d773a0c",
   "metadata": {
    "tags": []
   },
   "source": [
    "## Comparison\n",
    "* i still want a left join for segments, but only for segments that have RT trips ever (that end up going missing, after the 45% rule)\n",
    "\n",
    "* i don't want a left join to show all segments ever, bc segments are cut from scheduled shapes. more operators have schedule data than RT. so i don't want a mess of segments at the end of the left join off schedule, but a left join for \"RT shapes\""
   ]
  },
  {
   "cell_type": "code",
   "execution_count": 20,
   "id": "ea7a964d-ae0e-40b6-b8ec-b8059d93c855",
   "metadata": {},
   "outputs": [],
   "source": [
    "# Results from original script\n",
    "rt_segs_agg = (og_avg\n",
    "            .groupby(['shape_array_key','schedule_gtfs_dataset_key'])\n",
    "            .agg({'stop_sequence':'nunique'})\n",
    "            .reset_index()\n",
    "            .rename(columns = {'stop_sequence':'total_stops'})\n",
    "            .add_prefix('og_')\n",
    "           )"
   ]
  },
  {
   "cell_type": "code",
   "execution_count": 21,
   "id": "11415d26-28cf-4c0f-9ba5-402df7bb88a2",
   "metadata": {},
   "outputs": [],
   "source": [
    "# My test after filtering but adding back in cut rows\n",
    "avg_test_agg = (avg_test\n",
    "            .groupby(['shape_array_key','schedule_gtfs_dataset_key'])\n",
    "            .agg({'stop_sequence':'nunique'})\n",
    "            .reset_index()\n",
    "            .rename(columns = {'stop_sequence':'total_stops'})\n",
    "            .add_prefix('testing_')\n",
    "           )"
   ]
  },
  {
   "cell_type": "code",
   "execution_count": 22,
   "id": "7e468c16-2d41-4b8c-9e1d-d45beec22805",
   "metadata": {},
   "outputs": [
    {
     "data": {
      "text/plain": [
       "((4729, 3), (4723, 3))"
      ]
     },
     "execution_count": 22,
     "metadata": {},
     "output_type": "execute_result"
    }
   ],
   "source": [
    "avg_test_agg.shape, rt_segs_agg.shape"
   ]
  },
  {
   "cell_type": "code",
   "execution_count": 23,
   "id": "03e20331-bd79-4d2b-ac1f-1d889b8d1651",
   "metadata": {},
   "outputs": [],
   "source": [
    "m1 = (pd\n",
    "      .merge(rt_segs_agg, avg_test_agg, \n",
    "             left_on = ['og_shape_array_key', 'og_schedule_gtfs_dataset_key'],\n",
    "             right_on = ['testing_shape_array_key', 'testing_schedule_gtfs_dataset_key'], \n",
    "             how = 'outer', indicator = True)\n",
    "     )"
   ]
  },
  {
   "cell_type": "code",
   "execution_count": 24,
   "id": "4e6d3967-6b60-44ce-8c42-fab450f217a0",
   "metadata": {},
   "outputs": [],
   "source": [
    "m1['total_thrown_out_stops'] = m1.og_total_stops - m1.testing_total_stops"
   ]
  },
  {
   "cell_type": "code",
   "execution_count": 25,
   "id": "af8fff18-a703-4bcf-a398-c318d419abff",
   "metadata": {},
   "outputs": [
    {
     "data": {
      "text/html": [
       "<div>\n",
       "<style scoped>\n",
       "    .dataframe tbody tr th:only-of-type {\n",
       "        vertical-align: middle;\n",
       "    }\n",
       "\n",
       "    .dataframe tbody tr th {\n",
       "        vertical-align: top;\n",
       "    }\n",
       "\n",
       "    .dataframe thead th {\n",
       "        text-align: right;\n",
       "    }\n",
       "</style>\n",
       "<table border=\"1\" class=\"dataframe\">\n",
       "  <thead>\n",
       "    <tr style=\"text-align: right;\">\n",
       "      <th></th>\n",
       "      <th>og_shape_array_key</th>\n",
       "      <th>og_schedule_gtfs_dataset_key</th>\n",
       "      <th>og_total_stops</th>\n",
       "      <th>testing_shape_array_key</th>\n",
       "      <th>testing_schedule_gtfs_dataset_key</th>\n",
       "      <th>testing_total_stops</th>\n",
       "      <th>_merge</th>\n",
       "      <th>total_thrown_out_stops</th>\n",
       "    </tr>\n",
       "  </thead>\n",
       "  <tbody>\n",
       "    <tr>\n",
       "      <th>3085</th>\n",
       "      <td>a7bf8eb28b02ca73c1c24c502410a3da</td>\n",
       "      <td>3f3f36b4c41cc6b5df3eb7f5d8ea6e3c</td>\n",
       "      <td>34.00</td>\n",
       "      <td>a7bf8eb28b02ca73c1c24c502410a3da</td>\n",
       "      <td>3f3f36b4c41cc6b5df3eb7f5d8ea6e3c</td>\n",
       "      <td>35</td>\n",
       "      <td>both</td>\n",
       "      <td>-1.00</td>\n",
       "    </tr>\n",
       "    <tr>\n",
       "      <th>4237</th>\n",
       "      <td>e5d93362670f8af60349929c61a0f0fd</td>\n",
       "      <td>eb9acbcb42315399bb54df78adfd3dac</td>\n",
       "      <td>21.00</td>\n",
       "      <td>e5d93362670f8af60349929c61a0f0fd</td>\n",
       "      <td>eb9acbcb42315399bb54df78adfd3dac</td>\n",
       "      <td>22</td>\n",
       "      <td>both</td>\n",
       "      <td>-1.00</td>\n",
       "    </tr>\n",
       "    <tr>\n",
       "      <th>4097</th>\n",
       "      <td>ddee90f73f4761e12b2d848ad8c2ab04</td>\n",
       "      <td>0139b1253130b33adcd4b3a4490530d2</td>\n",
       "      <td>4.00</td>\n",
       "      <td>ddee90f73f4761e12b2d848ad8c2ab04</td>\n",
       "      <td>0139b1253130b33adcd4b3a4490530d2</td>\n",
       "      <td>5</td>\n",
       "      <td>both</td>\n",
       "      <td>-1.00</td>\n",
       "    </tr>\n",
       "  </tbody>\n",
       "</table>\n",
       "</div>"
      ],
      "text/plain": [
       "                    og_shape_array_key      og_schedule_gtfs_dataset_key  \\\n",
       "3085  a7bf8eb28b02ca73c1c24c502410a3da  3f3f36b4c41cc6b5df3eb7f5d8ea6e3c   \n",
       "4237  e5d93362670f8af60349929c61a0f0fd  eb9acbcb42315399bb54df78adfd3dac   \n",
       "4097  ddee90f73f4761e12b2d848ad8c2ab04  0139b1253130b33adcd4b3a4490530d2   \n",
       "\n",
       "      og_total_stops           testing_shape_array_key  \\\n",
       "3085           34.00  a7bf8eb28b02ca73c1c24c502410a3da   \n",
       "4237           21.00  e5d93362670f8af60349929c61a0f0fd   \n",
       "4097            4.00  ddee90f73f4761e12b2d848ad8c2ab04   \n",
       "\n",
       "     testing_schedule_gtfs_dataset_key  testing_total_stops _merge  \\\n",
       "3085  3f3f36b4c41cc6b5df3eb7f5d8ea6e3c                   35   both   \n",
       "4237  eb9acbcb42315399bb54df78adfd3dac                   22   both   \n",
       "4097  0139b1253130b33adcd4b3a4490530d2                    5   both   \n",
       "\n",
       "      total_thrown_out_stops  \n",
       "3085                   -1.00  \n",
       "4237                   -1.00  \n",
       "4097                   -1.00  "
      ]
     },
     "execution_count": 25,
     "metadata": {},
     "output_type": "execute_result"
    }
   ],
   "source": [
    "m1.sample(3)"
   ]
  },
  {
   "cell_type": "code",
   "execution_count": 26,
   "id": "d83cefa9-b005-4170-93d9-78e58bdf562d",
   "metadata": {},
   "outputs": [
    {
     "data": {
      "text/plain": [
       "both          4723\n",
       "right_only       6\n",
       "left_only        0\n",
       "Name: _merge, dtype: int64"
      ]
     },
     "execution_count": 26,
     "metadata": {},
     "output_type": "execute_result"
    }
   ],
   "source": [
    "m1._merge.value_counts()"
   ]
  },
  {
   "cell_type": "code",
   "execution_count": 27,
   "id": "33aa075a-74e0-4538-be13-f9b0ec78f55b",
   "metadata": {},
   "outputs": [
    {
     "data": {
      "text/plain": [
       "count   4723.00\n",
       "mean      -1.20\n",
       "std        2.21\n",
       "min      -50.00\n",
       "25%       -1.00\n",
       "50%       -1.00\n",
       "75%       -1.00\n",
       "max        0.00\n",
       "Name: total_thrown_out_stops, dtype: float64"
      ]
     },
     "execution_count": 27,
     "metadata": {},
     "output_type": "execute_result"
    }
   ],
   "source": [
    "m1.total_thrown_out_stops.describe()"
   ]
  },
  {
   "cell_type": "code",
   "execution_count": 28,
   "id": "c2e56be6-c05e-4f3f-9bd7-6ca5fad3c354",
   "metadata": {},
   "outputs": [
    {
     "data": {
      "text/html": [
       "<div>\n",
       "<style scoped>\n",
       "    .dataframe tbody tr th:only-of-type {\n",
       "        vertical-align: middle;\n",
       "    }\n",
       "\n",
       "    .dataframe tbody tr th {\n",
       "        vertical-align: top;\n",
       "    }\n",
       "\n",
       "    .dataframe thead th {\n",
       "        text-align: right;\n",
       "    }\n",
       "</style>\n",
       "<table border=\"1\" class=\"dataframe\">\n",
       "  <thead>\n",
       "    <tr style=\"text-align: right;\">\n",
       "      <th></th>\n",
       "      <th>og_shape_array_key</th>\n",
       "      <th>og_schedule_gtfs_dataset_key</th>\n",
       "      <th>og_total_stops</th>\n",
       "      <th>testing_shape_array_key</th>\n",
       "      <th>testing_schedule_gtfs_dataset_key</th>\n",
       "      <th>testing_total_stops</th>\n",
       "      <th>_merge</th>\n",
       "      <th>total_thrown_out_stops</th>\n",
       "    </tr>\n",
       "  </thead>\n",
       "  <tbody>\n",
       "    <tr>\n",
       "      <th>3673</th>\n",
       "      <td>c8b41fafd9be5e579ad230bd28f74d17</td>\n",
       "      <td>7cc0cb1871dfd558f11a2885c145d144</td>\n",
       "      <td>6.00</td>\n",
       "      <td>c8b41fafd9be5e579ad230bd28f74d17</td>\n",
       "      <td>7cc0cb1871dfd558f11a2885c145d144</td>\n",
       "      <td>56</td>\n",
       "      <td>both</td>\n",
       "      <td>-50.00</td>\n",
       "    </tr>\n",
       "  </tbody>\n",
       "</table>\n",
       "</div>"
      ],
      "text/plain": [
       "                    og_shape_array_key      og_schedule_gtfs_dataset_key  \\\n",
       "3673  c8b41fafd9be5e579ad230bd28f74d17  7cc0cb1871dfd558f11a2885c145d144   \n",
       "\n",
       "      og_total_stops           testing_shape_array_key  \\\n",
       "3673            6.00  c8b41fafd9be5e579ad230bd28f74d17   \n",
       "\n",
       "     testing_schedule_gtfs_dataset_key  testing_total_stops _merge  \\\n",
       "3673  7cc0cb1871dfd558f11a2885c145d144                   56   both   \n",
       "\n",
       "      total_thrown_out_stops  \n",
       "3673                  -50.00  "
      ]
     },
     "execution_count": 28,
     "metadata": {},
     "output_type": "execute_result"
    }
   ],
   "source": [
    "m1.loc[m1.total_thrown_out_stops < -40]"
   ]
  },
  {
   "cell_type": "code",
   "execution_count": 29,
   "id": "a94a7b84-5fb7-44bb-864c-53b6b4fff297",
   "metadata": {
    "scrolled": true,
    "tags": []
   },
   "outputs": [],
   "source": [
    "# avg_test.loc[avg_test.shape_array_key == \"c8b41fafd9be5e579ad230bd28f74d17\"].drop(columns = ['geometry'])"
   ]
  },
  {
   "cell_type": "code",
   "execution_count": 30,
   "id": "fa8df5c7-0213-4471-b228-d5dcc066ef88",
   "metadata": {},
   "outputs": [],
   "source": [
    "# og_avg.loc[og_avg.shape_array_key == \"c8b41fafd9be5e579ad230bd28f74d17\"].drop(columns = ['geometry'])"
   ]
  },
  {
   "cell_type": "code",
   "execution_count": 31,
   "id": "5e139e69-87a2-412b-a2bd-83b7dc05ecad",
   "metadata": {
    "scrolled": true,
    "tags": []
   },
   "outputs": [],
   "source": [
    "# merge1.loc[merge1.shape_array_key == \"c8b41fafd9be5e579ad230bd28f74d17\"][['stop_sequence','meters_elapsed','sec_elapsed','speed_mph','percent']].sort_values(by = ['stop_sequence'])"
   ]
  },
  {
   "cell_type": "markdown",
   "id": "ad49a707-454e-42e4-99e1-56c1d692dc45",
   "metadata": {},
   "source": [
    "#### Seeing all the sequences thrown out"
   ]
  },
  {
   "cell_type": "code",
   "execution_count": 32,
   "id": "493c2364-2032-495f-b628-7b21b5a29f5c",
   "metadata": {},
   "outputs": [],
   "source": [
    "merge_cols = ['shape_array_key', 'stop_sequence', 'schedule_gtfs_dataset_key',\n",
    "       'stop_id', 'loop_or_inlining']"
   ]
  },
  {
   "cell_type": "code",
   "execution_count": 33,
   "id": "d35823ea-60d4-49b9-8d69-f2c5910a01ea",
   "metadata": {},
   "outputs": [],
   "source": [
    "subset = ['shape_array_key', 'stop_sequence', 'schedule_gtfs_dataset_key',\n",
    "       'stop_id', 'loop_or_inlining', 'p50_mph', 'n_trips',\n",
    "       'p20_mph', 'p80_mph', 'time_of_day']"
   ]
  },
  {
   "cell_type": "code",
   "execution_count": 34,
   "id": "028e98e1-7562-40a2-95fe-c96b0cb9e7b4",
   "metadata": {},
   "outputs": [],
   "source": [
    "og_avg2 = og_avg[subset]"
   ]
  },
  {
   "cell_type": "code",
   "execution_count": 35,
   "id": "8140abe5-321d-4dbe-8fd6-0c64c477a99b",
   "metadata": {},
   "outputs": [
    {
     "data": {
      "text/plain": [
       "(264433, 10)"
      ]
     },
     "execution_count": 35,
     "metadata": {},
     "output_type": "execute_result"
    }
   ],
   "source": [
    "og_avg2.shape"
   ]
  },
  {
   "cell_type": "code",
   "execution_count": 36,
   "id": "977a07a0-83f3-4bbd-b56a-350b2c4ce089",
   "metadata": {},
   "outputs": [],
   "source": [
    "avg_test2 = avg_test[subset]"
   ]
  },
  {
   "cell_type": "code",
   "execution_count": 37,
   "id": "d519c382-3e3a-44ae-ad20-a65460810f8c",
   "metadata": {},
   "outputs": [
    {
     "data": {
      "text/plain": [
       "(261593, 10)"
      ]
     },
     "execution_count": 37,
     "metadata": {},
     "output_type": "execute_result"
    }
   ],
   "source": [
    "avg_test2.shape"
   ]
  },
  {
   "cell_type": "code",
   "execution_count": 38,
   "id": "b50d758b-a746-4bff-8216-58af01bf5732",
   "metadata": {},
   "outputs": [],
   "source": [
    "m2 = pd.merge(og_avg2, avg_test2, on = merge_cols, how = 'outer', indicator = True)"
   ]
  },
  {
   "cell_type": "code",
   "execution_count": 39,
   "id": "0cdc56b2-3cee-4e4a-a008-6bafb8ca74af",
   "metadata": {},
   "outputs": [
    {
     "data": {
      "text/plain": [
       "both          483813\n",
       "right_only      5681\n",
       "left_only          0\n",
       "Name: _merge, dtype: int64"
      ]
     },
     "execution_count": 39,
     "metadata": {},
     "output_type": "execute_result"
    }
   ],
   "source": [
    "m2._merge.value_counts()"
   ]
  },
  {
   "cell_type": "markdown",
   "id": "29242201-e6eb-42c2-b009-80d1dd736837",
   "metadata": {},
   "source": [
    "### Seeing which routes were thrown out"
   ]
  },
  {
   "cell_type": "code",
   "execution_count": 40,
   "id": "0f3c2f89-21a1-4c42-ac8f-2e41a539e69b",
   "metadata": {},
   "outputs": [],
   "source": [
    "og_routes = set(og_avg.shape_array_key.unique().tolist())\n",
    "test_routes = set(avg_test.shape_array_key.unique().tolist())\n",
    "\n",
    "new_routes = list(test_routes - og_routes)"
   ]
  },
  {
   "cell_type": "code",
   "execution_count": 41,
   "id": "bee774f7-dd83-4dec-8942-a63f4fca7f8a",
   "metadata": {},
   "outputs": [
    {
     "data": {
      "text/plain": [
       "['3995aa113b7940405836a9d24e295ebb',\n",
       " '3adfce7b37ad5dc1dd831e9acf5a3b90',\n",
       " 'ac713007941051bd6aa80018b8158260',\n",
       " 'd79dacb8b4fe1f5416ec106f4ac5672d',\n",
       " 'e80cd0231a2f6cf9b714a932b0a16707',\n",
       " 'e4af5a81c32da5b8813e995742d7ca1b']"
      ]
     },
     "execution_count": 41,
     "metadata": {},
     "output_type": "execute_result"
    }
   ],
   "source": [
    "new_routes"
   ]
  },
  {
   "cell_type": "code",
   "execution_count": 42,
   "id": "92018efc-60d4-40a5-bf07-38b0d3965edb",
   "metadata": {},
   "outputs": [],
   "source": [
    "new_routes_df = avg_test.loc[avg_test.shape_array_key.isin(new_routes)]"
   ]
  },
  {
   "cell_type": "code",
   "execution_count": 43,
   "id": "ae1e3c04-f39e-4952-aeeb-ff02392c3263",
   "metadata": {},
   "outputs": [
    {
     "data": {
      "text/plain": [
       "6"
      ]
     },
     "execution_count": 43,
     "metadata": {},
     "output_type": "execute_result"
    }
   ],
   "source": [
    "new_routes_df.shape_array_key.nunique()"
   ]
  },
  {
   "cell_type": "code",
   "execution_count": 44,
   "id": "dd7cabb9-8a4f-43a6-b6a8-57903ed48e58",
   "metadata": {},
   "outputs": [
    {
     "data": {
      "text/plain": [
       "(11, 13)"
      ]
     },
     "execution_count": 44,
     "metadata": {},
     "output_type": "execute_result"
    }
   ],
   "source": [
    "new_routes_df.shape"
   ]
  },
  {
   "cell_type": "code",
   "execution_count": 45,
   "id": "83a84d50-addd-4856-b5df-7ba8564dce95",
   "metadata": {},
   "outputs": [
    {
     "data": {
      "text/html": [
       "<div>\n",
       "<style scoped>\n",
       "    .dataframe tbody tr th:only-of-type {\n",
       "        vertical-align: middle;\n",
       "    }\n",
       "\n",
       "    .dataframe tbody tr th {\n",
       "        vertical-align: top;\n",
       "    }\n",
       "\n",
       "    .dataframe thead th {\n",
       "        text-align: right;\n",
       "    }\n",
       "</style>\n",
       "<table border=\"1\" class=\"dataframe\">\n",
       "  <thead>\n",
       "    <tr style=\"text-align: right;\">\n",
       "      <th></th>\n",
       "      <th>shape_array_key</th>\n",
       "      <th>stop_sequence</th>\n",
       "      <th>schedule_gtfs_dataset_key</th>\n",
       "      <th>stop_id</th>\n",
       "      <th>loop_or_inlining</th>\n",
       "      <th>district</th>\n",
       "      <th>district_name</th>\n",
       "      <th>p50_mph</th>\n",
       "      <th>n_trips</th>\n",
       "      <th>p20_mph</th>\n",
       "      <th>p80_mph</th>\n",
       "      <th>time_of_day</th>\n",
       "    </tr>\n",
       "  </thead>\n",
       "  <tbody>\n",
       "    <tr>\n",
       "      <th>57887</th>\n",
       "      <td>3995aa113b7940405836a9d24e295ebb</td>\n",
       "      <td>1</td>\n",
       "      <td>1adf7a7bde86b42ed014f6de74c7132e</td>\n",
       "      <td>91021</td>\n",
       "      <td>0</td>\n",
       "      <td>11</td>\n",
       "      <td>District 11 - San Diego</td>\n",
       "      <td>NaN</td>\n",
       "      <td>NaN</td>\n",
       "      <td>NaN</td>\n",
       "      <td>NaN</td>\n",
       "      <td>NaN</td>\n",
       "    </tr>\n",
       "    <tr>\n",
       "      <th>57888</th>\n",
       "      <td>3995aa113b7940405836a9d24e295ebb</td>\n",
       "      <td>2</td>\n",
       "      <td>1adf7a7bde86b42ed014f6de74c7132e</td>\n",
       "      <td>99591</td>\n",
       "      <td>0</td>\n",
       "      <td>11</td>\n",
       "      <td>District 11 - San Diego</td>\n",
       "      <td>NaN</td>\n",
       "      <td>NaN</td>\n",
       "      <td>NaN</td>\n",
       "      <td>NaN</td>\n",
       "      <td>NaN</td>\n",
       "    </tr>\n",
       "    <tr>\n",
       "      <th>59548</th>\n",
       "      <td>3adfce7b37ad5dc1dd831e9acf5a3b90</td>\n",
       "      <td>4</td>\n",
       "      <td>7cc0cb1871dfd558f11a2885c145d144</td>\n",
       "      <td>13868</td>\n",
       "      <td>0</td>\n",
       "      <td>4</td>\n",
       "      <td>District 4 - Oakland</td>\n",
       "      <td>NaN</td>\n",
       "      <td>NaN</td>\n",
       "      <td>NaN</td>\n",
       "      <td>NaN</td>\n",
       "      <td>NaN</td>\n",
       "    </tr>\n",
       "    <tr>\n",
       "      <th>171408</th>\n",
       "      <td>ac713007941051bd6aa80018b8158260</td>\n",
       "      <td>3</td>\n",
       "      <td>7cc0cb1871dfd558f11a2885c145d144</td>\n",
       "      <td>17181</td>\n",
       "      <td>0</td>\n",
       "      <td>4</td>\n",
       "      <td>District 4 - Oakland</td>\n",
       "      <td>NaN</td>\n",
       "      <td>NaN</td>\n",
       "      <td>NaN</td>\n",
       "      <td>NaN</td>\n",
       "      <td>NaN</td>\n",
       "    </tr>\n",
       "    <tr>\n",
       "      <th>171409</th>\n",
       "      <td>ac713007941051bd6aa80018b8158260</td>\n",
       "      <td>4</td>\n",
       "      <td>7cc0cb1871dfd558f11a2885c145d144</td>\n",
       "      <td>15361</td>\n",
       "      <td>0</td>\n",
       "      <td>4</td>\n",
       "      <td>District 4 - Oakland</td>\n",
       "      <td>NaN</td>\n",
       "      <td>NaN</td>\n",
       "      <td>NaN</td>\n",
       "      <td>NaN</td>\n",
       "      <td>NaN</td>\n",
       "    </tr>\n",
       "    <tr>\n",
       "      <th>171410</th>\n",
       "      <td>ac713007941051bd6aa80018b8158260</td>\n",
       "      <td>5</td>\n",
       "      <td>7cc0cb1871dfd558f11a2885c145d144</td>\n",
       "      <td>15359</td>\n",
       "      <td>0</td>\n",
       "      <td>4</td>\n",
       "      <td>District 4 - Oakland</td>\n",
       "      <td>NaN</td>\n",
       "      <td>NaN</td>\n",
       "      <td>NaN</td>\n",
       "      <td>NaN</td>\n",
       "      <td>NaN</td>\n",
       "    </tr>\n",
       "    <tr>\n",
       "      <th>171411</th>\n",
       "      <td>ac713007941051bd6aa80018b8158260</td>\n",
       "      <td>6</td>\n",
       "      <td>7cc0cb1871dfd558f11a2885c145d144</td>\n",
       "      <td>15369</td>\n",
       "      <td>0</td>\n",
       "      <td>4</td>\n",
       "      <td>District 4 - Oakland</td>\n",
       "      <td>NaN</td>\n",
       "      <td>NaN</td>\n",
       "      <td>NaN</td>\n",
       "      <td>NaN</td>\n",
       "      <td>NaN</td>\n",
       "    </tr>\n",
       "    <tr>\n",
       "      <th>216542</th>\n",
       "      <td>d79dacb8b4fe1f5416ec106f4ac5672d</td>\n",
       "      <td>1</td>\n",
       "      <td>07d3b79f14cec8099119e1eb649f065b</td>\n",
       "      <td>6702259</td>\n",
       "      <td>1</td>\n",
       "      <td>3</td>\n",
       "      <td>District 3 - Marysville</td>\n",
       "      <td>NaN</td>\n",
       "      <td>NaN</td>\n",
       "      <td>NaN</td>\n",
       "      <td>NaN</td>\n",
       "      <td>NaN</td>\n",
       "    </tr>\n",
       "    <tr>\n",
       "      <th>231919</th>\n",
       "      <td>e4af5a81c32da5b8813e995742d7ca1b</td>\n",
       "      <td>1</td>\n",
       "      <td>07d3b79f14cec8099119e1eb649f065b</td>\n",
       "      <td>6702259</td>\n",
       "      <td>0</td>\n",
       "      <td>3</td>\n",
       "      <td>District 3 - Marysville</td>\n",
       "      <td>NaN</td>\n",
       "      <td>NaN</td>\n",
       "      <td>NaN</td>\n",
       "      <td>NaN</td>\n",
       "      <td>NaN</td>\n",
       "    </tr>\n",
       "    <tr>\n",
       "      <th>235493</th>\n",
       "      <td>e80cd0231a2f6cf9b714a932b0a16707</td>\n",
       "      <td>1</td>\n",
       "      <td>09e16227fc42c4fe90204a9d11581034</td>\n",
       "      <td>7764510</td>\n",
       "      <td>1</td>\n",
       "      <td>4</td>\n",
       "      <td>District 4 - Oakland</td>\n",
       "      <td>NaN</td>\n",
       "      <td>NaN</td>\n",
       "      <td>NaN</td>\n",
       "      <td>NaN</td>\n",
       "      <td>NaN</td>\n",
       "    </tr>\n",
       "    <tr>\n",
       "      <th>235494</th>\n",
       "      <td>e80cd0231a2f6cf9b714a932b0a16707</td>\n",
       "      <td>2</td>\n",
       "      <td>09e16227fc42c4fe90204a9d11581034</td>\n",
       "      <td>7764520</td>\n",
       "      <td>1</td>\n",
       "      <td>4</td>\n",
       "      <td>District 4 - Oakland</td>\n",
       "      <td>NaN</td>\n",
       "      <td>NaN</td>\n",
       "      <td>NaN</td>\n",
       "      <td>NaN</td>\n",
       "      <td>NaN</td>\n",
       "    </tr>\n",
       "  </tbody>\n",
       "</table>\n",
       "</div>"
      ],
      "text/plain": [
       "                         shape_array_key  stop_sequence  \\\n",
       "57887   3995aa113b7940405836a9d24e295ebb              1   \n",
       "57888   3995aa113b7940405836a9d24e295ebb              2   \n",
       "59548   3adfce7b37ad5dc1dd831e9acf5a3b90              4   \n",
       "171408  ac713007941051bd6aa80018b8158260              3   \n",
       "171409  ac713007941051bd6aa80018b8158260              4   \n",
       "171410  ac713007941051bd6aa80018b8158260              5   \n",
       "171411  ac713007941051bd6aa80018b8158260              6   \n",
       "216542  d79dacb8b4fe1f5416ec106f4ac5672d              1   \n",
       "231919  e4af5a81c32da5b8813e995742d7ca1b              1   \n",
       "235493  e80cd0231a2f6cf9b714a932b0a16707              1   \n",
       "235494  e80cd0231a2f6cf9b714a932b0a16707              2   \n",
       "\n",
       "               schedule_gtfs_dataset_key  stop_id  loop_or_inlining  district  \\\n",
       "57887   1adf7a7bde86b42ed014f6de74c7132e    91021                 0        11   \n",
       "57888   1adf7a7bde86b42ed014f6de74c7132e    99591                 0        11   \n",
       "59548   7cc0cb1871dfd558f11a2885c145d144    13868                 0         4   \n",
       "171408  7cc0cb1871dfd558f11a2885c145d144    17181                 0         4   \n",
       "171409  7cc0cb1871dfd558f11a2885c145d144    15361                 0         4   \n",
       "171410  7cc0cb1871dfd558f11a2885c145d144    15359                 0         4   \n",
       "171411  7cc0cb1871dfd558f11a2885c145d144    15369                 0         4   \n",
       "216542  07d3b79f14cec8099119e1eb649f065b  6702259                 1         3   \n",
       "231919  07d3b79f14cec8099119e1eb649f065b  6702259                 0         3   \n",
       "235493  09e16227fc42c4fe90204a9d11581034  7764510                 1         4   \n",
       "235494  09e16227fc42c4fe90204a9d11581034  7764520                 1         4   \n",
       "\n",
       "                  district_name  p50_mph  n_trips  p20_mph  p80_mph  \\\n",
       "57887   District 11 - San Diego      NaN      NaN      NaN      NaN   \n",
       "57888   District 11 - San Diego      NaN      NaN      NaN      NaN   \n",
       "59548      District 4 - Oakland      NaN      NaN      NaN      NaN   \n",
       "171408     District 4 - Oakland      NaN      NaN      NaN      NaN   \n",
       "171409     District 4 - Oakland      NaN      NaN      NaN      NaN   \n",
       "171410     District 4 - Oakland      NaN      NaN      NaN      NaN   \n",
       "171411     District 4 - Oakland      NaN      NaN      NaN      NaN   \n",
       "216542  District 3 - Marysville      NaN      NaN      NaN      NaN   \n",
       "231919  District 3 - Marysville      NaN      NaN      NaN      NaN   \n",
       "235493     District 4 - Oakland      NaN      NaN      NaN      NaN   \n",
       "235494     District 4 - Oakland      NaN      NaN      NaN      NaN   \n",
       "\n",
       "       time_of_day  \n",
       "57887          NaN  \n",
       "57888          NaN  \n",
       "59548          NaN  \n",
       "171408         NaN  \n",
       "171409         NaN  \n",
       "171410         NaN  \n",
       "171411         NaN  \n",
       "216542         NaN  \n",
       "231919         NaN  \n",
       "235493         NaN  \n",
       "235494         NaN  "
      ]
     },
     "execution_count": 45,
     "metadata": {},
     "output_type": "execute_result"
    }
   ],
   "source": [
    "new_routes_df.drop(columns = ['geometry'])"
   ]
  },
  {
   "cell_type": "code",
   "execution_count": 46,
   "id": "bd356d5c-04d5-4342-89d5-2045bd14827d",
   "metadata": {},
   "outputs": [
    {
     "data": {
      "text/plain": [
       "geopandas.geodataframe.GeoDataFrame"
      ]
     },
     "execution_count": 46,
     "metadata": {},
     "output_type": "execute_result"
    }
   ],
   "source": [
    "type(new_routes_df)"
   ]
  },
  {
   "cell_type": "code",
   "execution_count": 47,
   "id": "0e6f9f2a-bc70-414a-a8f1-442bbbad3d66",
   "metadata": {},
   "outputs": [
    {
     "data": {
      "text/html": [
       "<div style=\"width:100%;\"><div style=\"position:relative;width:100%;height:0;padding-bottom:60%;\"><span style=\"color:#565656\">Make this Notebook Trusted to load map: File -> Trust Notebook</span><iframe src=\"about:blank\" style=\"position:absolute;width:100%;height:100%;left:0;top:0;border:none !important;\" data-html=%3C%21DOCTYPE%20html%3E%0A%3Chead%3E%20%20%20%20%0A%20%20%20%20%3Cmeta%20http-equiv%3D%22content-type%22%20content%3D%22text/html%3B%20charset%3DUTF-8%22%20/%3E%0A%20%20%20%20%0A%20%20%20%20%20%20%20%20%3Cscript%3E%0A%20%20%20%20%20%20%20%20%20%20%20%20L_NO_TOUCH%20%3D%20false%3B%0A%20%20%20%20%20%20%20%20%20%20%20%20L_DISABLE_3D%20%3D%20false%3B%0A%20%20%20%20%20%20%20%20%3C/script%3E%0A%20%20%20%20%0A%20%20%20%20%3Cstyle%3Ehtml%2C%20body%20%7Bwidth%3A%20100%25%3Bheight%3A%20100%25%3Bmargin%3A%200%3Bpadding%3A%200%3B%7D%3C/style%3E%0A%20%20%20%20%3Cstyle%3E%23map%20%7Bposition%3Aabsolute%3Btop%3A0%3Bbottom%3A0%3Bright%3A0%3Bleft%3A0%3B%7D%3C/style%3E%0A%20%20%20%20%3Cscript%20src%3D%22https%3A//cdn.jsdelivr.net/npm/leaflet%401.6.0/dist/leaflet.js%22%3E%3C/script%3E%0A%20%20%20%20%3Cscript%20src%3D%22https%3A//code.jquery.com/jquery-1.12.4.min.js%22%3E%3C/script%3E%0A%20%20%20%20%3Cscript%20src%3D%22https%3A//maxcdn.bootstrapcdn.com/bootstrap/3.2.0/js/bootstrap.min.js%22%3E%3C/script%3E%0A%20%20%20%20%3Cscript%20src%3D%22https%3A//cdnjs.cloudflare.com/ajax/libs/Leaflet.awesome-markers/2.0.2/leaflet.awesome-markers.js%22%3E%3C/script%3E%0A%20%20%20%20%3Clink%20rel%3D%22stylesheet%22%20href%3D%22https%3A//cdn.jsdelivr.net/npm/leaflet%401.6.0/dist/leaflet.css%22/%3E%0A%20%20%20%20%3Clink%20rel%3D%22stylesheet%22%20href%3D%22https%3A//maxcdn.bootstrapcdn.com/bootstrap/3.2.0/css/bootstrap.min.css%22/%3E%0A%20%20%20%20%3Clink%20rel%3D%22stylesheet%22%20href%3D%22https%3A//maxcdn.bootstrapcdn.com/bootstrap/3.2.0/css/bootstrap-theme.min.css%22/%3E%0A%20%20%20%20%3Clink%20rel%3D%22stylesheet%22%20href%3D%22https%3A//maxcdn.bootstrapcdn.com/font-awesome/4.6.3/css/font-awesome.min.css%22/%3E%0A%20%20%20%20%3Clink%20rel%3D%22stylesheet%22%20href%3D%22https%3A//cdnjs.cloudflare.com/ajax/libs/Leaflet.awesome-markers/2.0.2/leaflet.awesome-markers.css%22/%3E%0A%20%20%20%20%3Clink%20rel%3D%22stylesheet%22%20href%3D%22https%3A//cdn.jsdelivr.net/gh/python-visualization/folium/folium/templates/leaflet.awesome.rotate.min.css%22/%3E%0A%20%20%20%20%0A%20%20%20%20%20%20%20%20%20%20%20%20%3Cmeta%20name%3D%22viewport%22%20content%3D%22width%3Ddevice-width%2C%0A%20%20%20%20%20%20%20%20%20%20%20%20%20%20%20%20initial-scale%3D1.0%2C%20maximum-scale%3D1.0%2C%20user-scalable%3Dno%22%20/%3E%0A%20%20%20%20%20%20%20%20%20%20%20%20%3Cstyle%3E%0A%20%20%20%20%20%20%20%20%20%20%20%20%20%20%20%20%23map_9d91096bb0e34bd59de3862fff9e5522%20%7B%0A%20%20%20%20%20%20%20%20%20%20%20%20%20%20%20%20%20%20%20%20position%3A%20relative%3B%0A%20%20%20%20%20%20%20%20%20%20%20%20%20%20%20%20%20%20%20%20width%3A%20100.0%25%3B%0A%20%20%20%20%20%20%20%20%20%20%20%20%20%20%20%20%20%20%20%20height%3A%20100.0%25%3B%0A%20%20%20%20%20%20%20%20%20%20%20%20%20%20%20%20%20%20%20%20left%3A%200.0%25%3B%0A%20%20%20%20%20%20%20%20%20%20%20%20%20%20%20%20%20%20%20%20top%3A%200.0%25%3B%0A%20%20%20%20%20%20%20%20%20%20%20%20%20%20%20%20%7D%0A%20%20%20%20%20%20%20%20%20%20%20%20%3C/style%3E%0A%20%20%20%20%20%20%20%20%0A%20%20%20%20%0A%20%20%20%20%20%20%20%20%20%20%20%20%20%20%20%20%20%20%20%20%3Cstyle%3E%0A%20%20%20%20%20%20%20%20%20%20%20%20%20%20%20%20%20%20%20%20%20%20%20%20.foliumtooltip%20%7B%0A%20%20%20%20%20%20%20%20%20%20%20%20%20%20%20%20%20%20%20%20%20%20%20%20%20%20%20%20%0A%20%20%20%20%20%20%20%20%20%20%20%20%20%20%20%20%20%20%20%20%20%20%20%20%7D%0A%20%20%20%20%20%20%20%20%20%20%20%20%20%20%20%20%20%20%20%20%20%20%20.foliumtooltip%20table%7B%0A%20%20%20%20%20%20%20%20%20%20%20%20%20%20%20%20%20%20%20%20%20%20%20%20%20%20%20%20margin%3A%20auto%3B%0A%20%20%20%20%20%20%20%20%20%20%20%20%20%20%20%20%20%20%20%20%20%20%20%20%7D%0A%20%20%20%20%20%20%20%20%20%20%20%20%20%20%20%20%20%20%20%20%20%20%20%20.foliumtooltip%20tr%7B%0A%20%20%20%20%20%20%20%20%20%20%20%20%20%20%20%20%20%20%20%20%20%20%20%20%20%20%20%20text-align%3A%20left%3B%0A%20%20%20%20%20%20%20%20%20%20%20%20%20%20%20%20%20%20%20%20%20%20%20%20%7D%0A%20%20%20%20%20%20%20%20%20%20%20%20%20%20%20%20%20%20%20%20%20%20%20%20.foliumtooltip%20th%7B%0A%20%20%20%20%20%20%20%20%20%20%20%20%20%20%20%20%20%20%20%20%20%20%20%20%20%20%20%20padding%3A%202px%3B%20padding-right%3A%208px%3B%0A%20%20%20%20%20%20%20%20%20%20%20%20%20%20%20%20%20%20%20%20%20%20%20%20%7D%0A%20%20%20%20%20%20%20%20%20%20%20%20%20%20%20%20%20%20%20%20%3C/style%3E%0A%20%20%20%20%20%20%20%20%20%20%20%20%0A%20%20%20%20%0A%20%20%20%20%3Cscript%20src%3D%22https%3A//code.jquery.com/ui/1.12.1/jquery-ui.js%22%3E%3C/script%3E%0A%20%20%20%20%3Cscript%3E%24%28%20function%28%29%20%7B%0A%20%20%20%20%20%20%20%20%24%28%20%22.maplegend%22%20%29.draggable%28%7B%0A%20%20%20%20%20%20%20%20%20%20%20%20start%3A%20function%20%28event%2C%20ui%29%20%7B%0A%20%20%20%20%20%20%20%20%20%20%20%20%20%20%20%20%24%28this%29.css%28%7B%0A%20%20%20%20%20%20%20%20%20%20%20%20%20%20%20%20%20%20%20%20right%3A%20%22auto%22%2C%0A%20%20%20%20%20%20%20%20%20%20%20%20%20%20%20%20%20%20%20%20top%3A%20%22auto%22%2C%0A%20%20%20%20%20%20%20%20%20%20%20%20%20%20%20%20%20%20%20%20bottom%3A%20%22auto%22%0A%20%20%20%20%20%20%20%20%20%20%20%20%20%20%20%20%7D%29%3B%0A%20%20%20%20%20%20%20%20%20%20%20%20%7D%0A%20%20%20%20%20%20%20%20%7D%29%3B%0A%20%20%20%20%7D%29%3B%0A%20%20%20%20%3C/script%3E%0A%20%20%20%20%3Cstyle%20type%3D%27text/css%27%3E%0A%20%20%20%20%20%20.maplegend%20%7B%0A%20%20%20%20%20%20%20%20position%3A%20absolute%3B%0A%20%20%20%20%20%20%20%20z-index%3A9999%3B%0A%20%20%20%20%20%20%20%20background-color%3A%20rgba%28255%2C%20255%2C%20255%2C%20.8%29%3B%0A%20%20%20%20%20%20%20%20border-radius%3A%205px%3B%0A%20%20%20%20%20%20%20%20box-shadow%3A%200%200%2015px%20rgba%280%2C0%2C0%2C0.2%29%3B%0A%20%20%20%20%20%20%20%20padding%3A%2010px%3B%0A%20%20%20%20%20%20%20%20font%3A%2012px/14px%20Arial%2C%20Helvetica%2C%20sans-serif%3B%0A%20%20%20%20%20%20%20%20right%3A%2010px%3B%0A%20%20%20%20%20%20%20%20bottom%3A%2020px%3B%0A%20%20%20%20%20%20%7D%0A%20%20%20%20%20%20.maplegend%20.legend-title%20%7B%0A%20%20%20%20%20%20%20%20text-align%3A%20left%3B%0A%20%20%20%20%20%20%20%20margin-bottom%3A%205px%3B%0A%20%20%20%20%20%20%20%20font-weight%3A%20bold%3B%0A%20%20%20%20%20%20%20%20%7D%0A%20%20%20%20%20%20.maplegend%20.legend-scale%20ul%20%7B%0A%20%20%20%20%20%20%20%20margin%3A%200%3B%0A%20%20%20%20%20%20%20%20margin-bottom%3A%200px%3B%0A%20%20%20%20%20%20%20%20padding%3A%200%3B%0A%20%20%20%20%20%20%20%20float%3A%20left%3B%0A%20%20%20%20%20%20%20%20list-style%3A%20none%3B%0A%20%20%20%20%20%20%20%20%7D%0A%20%20%20%20%20%20.maplegend%20.legend-scale%20ul%20li%20%7B%0A%20%20%20%20%20%20%20%20list-style%3A%20none%3B%0A%20%20%20%20%20%20%20%20margin-left%3A%200%3B%0A%20%20%20%20%20%20%20%20line-height%3A%2016px%3B%0A%20%20%20%20%20%20%20%20margin-bottom%3A%202px%3B%0A%20%20%20%20%20%20%20%20%7D%0A%20%20%20%20%20%20.maplegend%20ul.legend-labels%20li%20span%20%7B%0A%20%20%20%20%20%20%20%20display%3A%20block%3B%0A%20%20%20%20%20%20%20%20float%3A%20left%3B%0A%20%20%20%20%20%20%20%20height%3A%2014px%3B%0A%20%20%20%20%20%20%20%20width%3A%2014px%3B%0A%20%20%20%20%20%20%20%20margin-right%3A%205px%3B%0A%20%20%20%20%20%20%20%20margin-left%3A%200%3B%0A%20%20%20%20%20%20%20%20border%3A%200px%20solid%20%23ccc%3B%0A%20%20%20%20%20%20%20%20%7D%0A%20%20%20%20%20%20.maplegend%20.legend-source%20%7B%0A%20%20%20%20%20%20%20%20color%3A%20%23777%3B%0A%20%20%20%20%20%20%20%20clear%3A%20both%3B%0A%20%20%20%20%20%20%20%20%7D%0A%20%20%20%20%20%20.maplegend%20a%20%7B%0A%20%20%20%20%20%20%20%20color%3A%20%23777%3B%0A%20%20%20%20%20%20%20%20%7D%0A%20%20%20%20%3C/style%3E%0A%20%20%20%20%0A%3C/head%3E%0A%3Cbody%3E%20%20%20%20%0A%20%20%20%20%0A%20%20%20%20%3Cdiv%20id%3D%27maplegend%20shape_array_key%27%20class%3D%27maplegend%27%3E%0A%20%20%20%20%20%20%20%20%3Cdiv%20class%3D%27legend-title%27%3Eshape_array_key%3C/div%3E%0A%20%20%20%20%20%20%20%20%3Cdiv%20class%3D%27legend-scale%27%3E%0A%20%20%20%20%20%20%20%20%20%20%20%20%3Cul%20class%3D%27legend-labels%27%3E%0A%20%20%20%20%20%20%20%20%20%20%20%20%20%20%20%20%3Cli%3E%3Cspan%20style%3D%27background%3A%231f77b4%27%3E%3C/span%3E3995aa113b7940405836a9d24e295ebb%3C/li%3E%0A%20%20%20%20%20%20%20%20%20%20%20%20%20%20%20%20%3Cli%3E%3Cspan%20style%3D%27background%3A%232ca02c%27%3E%3C/span%3E3adfce7b37ad5dc1dd831e9acf5a3b90%3C/li%3E%0A%20%20%20%20%20%20%20%20%20%20%20%20%20%20%20%20%3Cli%3E%3Cspan%20style%3D%27background%3A%239467bd%27%3E%3C/span%3Eac713007941051bd6aa80018b8158260%3C/li%3E%0A%20%20%20%20%20%20%20%20%20%20%20%20%20%20%20%20%3Cli%3E%3Cspan%20style%3D%27background%3A%23e377c2%27%3E%3C/span%3Ed79dacb8b4fe1f5416ec106f4ac5672d%3C/li%3E%0A%20%20%20%20%20%20%20%20%20%20%20%20%20%20%20%20%3Cli%3E%3Cspan%20style%3D%27background%3A%23bcbd22%27%3E%3C/span%3Ee4af5a81c32da5b8813e995742d7ca1b%3C/li%3E%0A%20%20%20%20%20%20%20%20%20%20%20%20%20%20%20%20%3Cli%3E%3Cspan%20style%3D%27background%3A%239edae5%27%3E%3C/span%3Ee80cd0231a2f6cf9b714a932b0a16707%3C/li%3E%0A%20%20%20%20%20%20%20%20%20%20%20%20%3C/ul%3E%0A%20%20%20%20%20%20%20%20%3C/div%3E%0A%20%20%20%20%3C/div%3E%0A%20%20%20%20%0A%20%20%20%20%0A%20%20%20%20%20%20%20%20%20%20%20%20%3Cdiv%20class%3D%22folium-map%22%20id%3D%22map_9d91096bb0e34bd59de3862fff9e5522%22%20%3E%3C/div%3E%0A%20%20%20%20%20%20%20%20%0A%3C/body%3E%0A%3Cscript%3E%20%20%20%20%0A%20%20%20%20%0A%20%20%20%20%20%20%20%20%20%20%20%20var%20map_9d91096bb0e34bd59de3862fff9e5522%20%3D%20L.map%28%0A%20%20%20%20%20%20%20%20%20%20%20%20%20%20%20%20%22map_9d91096bb0e34bd59de3862fff9e5522%22%2C%0A%20%20%20%20%20%20%20%20%20%20%20%20%20%20%20%20%7B%0A%20%20%20%20%20%20%20%20%20%20%20%20%20%20%20%20%20%20%20%20center%3A%20%5B35.76180901337422%2C%20-119.92774749269675%5D%2C%0A%20%20%20%20%20%20%20%20%20%20%20%20%20%20%20%20%20%20%20%20crs%3A%20L.CRS.EPSG3857%2C%0A%20%20%20%20%20%20%20%20%20%20%20%20%20%20%20%20%20%20%20%20zoom%3A%2010%2C%0A%20%20%20%20%20%20%20%20%20%20%20%20%20%20%20%20%20%20%20%20zoomControl%3A%20true%2C%0A%20%20%20%20%20%20%20%20%20%20%20%20%20%20%20%20%20%20%20%20preferCanvas%3A%20false%2C%0A%20%20%20%20%20%20%20%20%20%20%20%20%20%20%20%20%7D%0A%20%20%20%20%20%20%20%20%20%20%20%20%29%3B%0A%20%20%20%20%20%20%20%20%20%20%20%20L.control.scale%28%29.addTo%28map_9d91096bb0e34bd59de3862fff9e5522%29%3B%0A%0A%20%20%20%20%20%20%20%20%20%20%20%20%0A%0A%20%20%20%20%20%20%20%20%0A%20%20%20%20%0A%20%20%20%20%20%20%20%20%20%20%20%20var%20tile_layer_4cc49833c5bd4012b5776bac0ac8b2f5%20%3D%20L.tileLayer%28%0A%20%20%20%20%20%20%20%20%20%20%20%20%20%20%20%20%22https%3A//%7Bs%7D.tile.openstreetmap.org/%7Bz%7D/%7Bx%7D/%7By%7D.png%22%2C%0A%20%20%20%20%20%20%20%20%20%20%20%20%20%20%20%20%7B%22attribution%22%3A%20%22Data%20by%20%5Cu0026copy%3B%20%5Cu003ca%20href%3D%5C%22http%3A//openstreetmap.org%5C%22%5Cu003eOpenStreetMap%5Cu003c/a%5Cu003e%2C%20under%20%5Cu003ca%20href%3D%5C%22http%3A//www.openstreetmap.org/copyright%5C%22%5Cu003eODbL%5Cu003c/a%5Cu003e.%22%2C%20%22detectRetina%22%3A%20false%2C%20%22maxNativeZoom%22%3A%2018%2C%20%22maxZoom%22%3A%2018%2C%20%22minZoom%22%3A%200%2C%20%22noWrap%22%3A%20false%2C%20%22opacity%22%3A%201%2C%20%22subdomains%22%3A%20%22abc%22%2C%20%22tms%22%3A%20false%7D%0A%20%20%20%20%20%20%20%20%20%20%20%20%29.addTo%28map_9d91096bb0e34bd59de3862fff9e5522%29%3B%0A%20%20%20%20%20%20%20%20%0A%20%20%20%20%0A%20%20%20%20%20%20%20%20%20%20%20%20map_9d91096bb0e34bd59de3862fff9e5522.fitBounds%28%0A%20%20%20%20%20%20%20%20%20%20%20%20%20%20%20%20%5B%5B32.56588102674844%2C%20-122.840561%5D%2C%20%5B38.95773699999999%2C%20-117.01493398539351%5D%5D%2C%0A%20%20%20%20%20%20%20%20%20%20%20%20%20%20%20%20%7B%7D%0A%20%20%20%20%20%20%20%20%20%20%20%20%29%3B%0A%20%20%20%20%20%20%20%20%0A%20%20%20%20%0A%20%20%20%20%20%20%20%20function%20geo_json_3ddbd9a941544307ba04c4b443887f5f_styler%28feature%29%20%7B%0A%20%20%20%20%20%20%20%20%20%20%20%20switch%28feature.id%29%20%7B%0A%20%20%20%20%20%20%20%20%20%20%20%20%20%20%20%20case%20%2257887%22%3A%20case%20%2257888%22%3A%20%0A%20%20%20%20%20%20%20%20%20%20%20%20%20%20%20%20%20%20%20%20return%20%7B%22color%22%3A%20%22%231f77b4%22%2C%20%22fillColor%22%3A%20%22%231f77b4%22%2C%20%22fillOpacity%22%3A%200.5%2C%20%22weight%22%3A%202%7D%3B%0A%20%20%20%20%20%20%20%20%20%20%20%20%20%20%20%20case%20%2259548%22%3A%20%0A%20%20%20%20%20%20%20%20%20%20%20%20%20%20%20%20%20%20%20%20return%20%7B%22color%22%3A%20%22%232ca02c%22%2C%20%22fillColor%22%3A%20%22%232ca02c%22%2C%20%22fillOpacity%22%3A%200.5%2C%20%22weight%22%3A%202%7D%3B%0A%20%20%20%20%20%20%20%20%20%20%20%20%20%20%20%20case%20%22216542%22%3A%20%0A%20%20%20%20%20%20%20%20%20%20%20%20%20%20%20%20%20%20%20%20return%20%7B%22color%22%3A%20%22%23e377c2%22%2C%20%22fillColor%22%3A%20%22%23e377c2%22%2C%20%22fillOpacity%22%3A%200.5%2C%20%22weight%22%3A%202%7D%3B%0A%20%20%20%20%20%20%20%20%20%20%20%20%20%20%20%20case%20%22231919%22%3A%20%0A%20%20%20%20%20%20%20%20%20%20%20%20%20%20%20%20%20%20%20%20return%20%7B%22color%22%3A%20%22%23bcbd22%22%2C%20%22fillColor%22%3A%20%22%23bcbd22%22%2C%20%22fillOpacity%22%3A%200.5%2C%20%22weight%22%3A%202%7D%3B%0A%20%20%20%20%20%20%20%20%20%20%20%20%20%20%20%20case%20%22235493%22%3A%20case%20%22235494%22%3A%20%0A%20%20%20%20%20%20%20%20%20%20%20%20%20%20%20%20%20%20%20%20return%20%7B%22color%22%3A%20%22%239edae5%22%2C%20%22fillColor%22%3A%20%22%239edae5%22%2C%20%22fillOpacity%22%3A%200.5%2C%20%22weight%22%3A%202%7D%3B%0A%20%20%20%20%20%20%20%20%20%20%20%20%20%20%20%20default%3A%0A%20%20%20%20%20%20%20%20%20%20%20%20%20%20%20%20%20%20%20%20return%20%7B%22color%22%3A%20%22%239467bd%22%2C%20%22fillColor%22%3A%20%22%239467bd%22%2C%20%22fillOpacity%22%3A%200.5%2C%20%22weight%22%3A%202%7D%3B%0A%20%20%20%20%20%20%20%20%20%20%20%20%7D%0A%20%20%20%20%20%20%20%20%7D%0A%20%20%20%20%20%20%20%20function%20geo_json_3ddbd9a941544307ba04c4b443887f5f_highlighter%28feature%29%20%7B%0A%20%20%20%20%20%20%20%20%20%20%20%20switch%28feature.id%29%20%7B%0A%20%20%20%20%20%20%20%20%20%20%20%20%20%20%20%20default%3A%0A%20%20%20%20%20%20%20%20%20%20%20%20%20%20%20%20%20%20%20%20return%20%7B%22fillOpacity%22%3A%200.75%7D%3B%0A%20%20%20%20%20%20%20%20%20%20%20%20%7D%0A%20%20%20%20%20%20%20%20%7D%0A%20%20%20%20%20%20%20%20function%20geo_json_3ddbd9a941544307ba04c4b443887f5f_pointToLayer%28feature%2C%20latlng%29%20%7B%0A%20%20%20%20%20%20%20%20%20%20%20%20var%20opts%20%3D%20%7B%22bubblingMouseEvents%22%3A%20true%2C%20%22color%22%3A%20%22%233388ff%22%2C%20%22dashArray%22%3A%20null%2C%20%22dashOffset%22%3A%20null%2C%20%22fill%22%3A%20true%2C%20%22fillColor%22%3A%20%22%233388ff%22%2C%20%22fillOpacity%22%3A%200.2%2C%20%22fillRule%22%3A%20%22evenodd%22%2C%20%22lineCap%22%3A%20%22round%22%2C%20%22lineJoin%22%3A%20%22round%22%2C%20%22opacity%22%3A%201.0%2C%20%22radius%22%3A%202%2C%20%22stroke%22%3A%20true%2C%20%22weight%22%3A%203%7D%3B%0A%20%20%20%20%20%20%20%20%20%20%20%20%0A%20%20%20%20%20%20%20%20%20%20%20%20let%20style%20%3D%20geo_json_3ddbd9a941544307ba04c4b443887f5f_styler%28feature%29%0A%20%20%20%20%20%20%20%20%20%20%20%20Object.assign%28opts%2C%20style%29%0A%20%20%20%20%20%20%20%20%20%20%20%20%0A%20%20%20%20%20%20%20%20%20%20%20%20return%20new%20L.CircleMarker%28latlng%2C%20opts%29%0A%20%20%20%20%20%20%20%20%7D%0A%0A%20%20%20%20%20%20%20%20function%20geo_json_3ddbd9a941544307ba04c4b443887f5f_onEachFeature%28feature%2C%20layer%29%20%7B%0A%20%20%20%20%20%20%20%20%20%20%20%20layer.on%28%7B%0A%20%20%20%20%20%20%20%20%20%20%20%20%20%20%20%20mouseout%3A%20function%28e%29%20%7B%0A%20%20%20%20%20%20%20%20%20%20%20%20%20%20%20%20%20%20%20%20if%28typeof%20e.target.setStyle%20%3D%3D%3D%20%22function%22%29%7B%0A%20%20%20%20%20%20%20%20%20%20%20%20%20%20%20%20%20%20%20%20%20%20%20%20geo_json_3ddbd9a941544307ba04c4b443887f5f.resetStyle%28e.target%29%3B%0A%20%20%20%20%20%20%20%20%20%20%20%20%20%20%20%20%20%20%20%20%7D%0A%20%20%20%20%20%20%20%20%20%20%20%20%20%20%20%20%7D%2C%0A%20%20%20%20%20%20%20%20%20%20%20%20%20%20%20%20mouseover%3A%20function%28e%29%20%7B%0A%20%20%20%20%20%20%20%20%20%20%20%20%20%20%20%20%20%20%20%20if%28typeof%20e.target.setStyle%20%3D%3D%3D%20%22function%22%29%7B%0A%20%20%20%20%20%20%20%20%20%20%20%20%20%20%20%20%20%20%20%20%20%20%20%20const%20highlightStyle%20%3D%20geo_json_3ddbd9a941544307ba04c4b443887f5f_highlighter%28e.target.feature%29%0A%20%20%20%20%20%20%20%20%20%20%20%20%20%20%20%20%20%20%20%20%20%20%20%20e.target.setStyle%28highlightStyle%29%3B%0A%20%20%20%20%20%20%20%20%20%20%20%20%20%20%20%20%20%20%20%20%7D%0A%20%20%20%20%20%20%20%20%20%20%20%20%20%20%20%20%7D%2C%0A%20%20%20%20%20%20%20%20%20%20%20%20%7D%29%3B%0A%20%20%20%20%20%20%20%20%7D%3B%0A%20%20%20%20%20%20%20%20var%20geo_json_3ddbd9a941544307ba04c4b443887f5f%20%3D%20L.geoJson%28null%2C%20%7B%0A%20%20%20%20%20%20%20%20%20%20%20%20%20%20%20%20onEachFeature%3A%20geo_json_3ddbd9a941544307ba04c4b443887f5f_onEachFeature%2C%0A%20%20%20%20%20%20%20%20%20%20%20%20%0A%20%20%20%20%20%20%20%20%20%20%20%20%20%20%20%20style%3A%20geo_json_3ddbd9a941544307ba04c4b443887f5f_styler%2C%0A%20%20%20%20%20%20%20%20%20%20%20%20%20%20%20%20pointToLayer%3A%20geo_json_3ddbd9a941544307ba04c4b443887f5f_pointToLayer%0A%20%20%20%20%20%20%20%20%7D%29%3B%0A%0A%20%20%20%20%20%20%20%20function%20geo_json_3ddbd9a941544307ba04c4b443887f5f_add%20%28data%29%20%7B%0A%20%20%20%20%20%20%20%20%20%20%20%20geo_json_3ddbd9a941544307ba04c4b443887f5f%0A%20%20%20%20%20%20%20%20%20%20%20%20%20%20%20%20.addData%28data%29%0A%20%20%20%20%20%20%20%20%20%20%20%20%20%20%20%20.addTo%28map_9d91096bb0e34bd59de3862fff9e5522%29%3B%0A%20%20%20%20%20%20%20%20%7D%0A%20%20%20%20%20%20%20%20%20%20%20%20geo_json_3ddbd9a941544307ba04c4b443887f5f_add%28%7B%22bbox%22%3A%20%5B-122.840561%2C%2032.56588102674844%2C%20-117.01493398539351%2C%2038.95773699999999%5D%2C%20%22features%22%3A%20%5B%7B%22bbox%22%3A%20%5B-117.066009036277%2C%2032.57015276372391%2C%20-117.066009036277%2C%2032.57015276372391%5D%2C%20%22geometry%22%3A%20%7B%22coordinates%22%3A%20%5B%5B-117.066009036277%2C%2032.57015276372391%5D%2C%20%5B-117.066009036277%2C%2032.57015276372391%5D%5D%2C%20%22type%22%3A%20%22LineString%22%7D%2C%20%22id%22%3A%20%2257887%22%2C%20%22properties%22%3A%20%7B%22__folium_color%22%3A%20%22%231f77b4%22%2C%20%22district%22%3A%2011%2C%20%22district_name%22%3A%20%22District%2011%20-%20San%20Diego%22%2C%20%22loop_or_inlining%22%3A%200%2C%20%22n_trips%22%3A%20null%2C%20%22p20_mph%22%3A%20null%2C%20%22p50_mph%22%3A%20null%2C%20%22p80_mph%22%3A%20null%2C%20%22schedule_gtfs_dataset_key%22%3A%20%221adf7a7bde86b42ed014f6de74c7132e%22%2C%20%22shape_array_key%22%3A%20%223995aa113b7940405836a9d24e295ebb%22%2C%20%22stop_id%22%3A%20%2291021%22%2C%20%22stop_sequence%22%3A%201%2C%20%22time_of_day%22%3A%20null%7D%2C%20%22type%22%3A%20%22Feature%22%7D%2C%20%7B%22bbox%22%3A%20%5B-117.066009036277%2C%2032.56588102674844%2C%20-117.01493398539351%2C%2032.57025909000002%5D%2C%20%22geometry%22%3A%20%7B%22coordinates%22%3A%20%5B%5B-117.066009036277%2C%2032.57015276372391%5D%2C%20%5B-117.06590271%2C%2032.57025909000002%5D%2C%20%5B-117.06565094000001%2C%2032.570110319999976%5D%2C%20%5B-117.06552887%2C%2032.57000351000001%5D%2C%20%5B-117.06539153999998%2C%2032.569866180000005%5D%2C%20%5B-117.06520081000001%2C%2032.569618229999996%5D%2C%20%5B-117.06510162%2C%2032.56932068%5D%2C%20%5B-117.06510162%2C%2032.56911086999999%5D%2C%20%5B-117.06392670000001%2C%2032.56911087000002%5D%2C%20%5B-117.06377411%2C%2032.569160459999985%5D%2C%20%5B-117.06373596%2C%2032.56918334999999%5D%2C%20%5B-117.06342316000001%2C%2032.56852340999998%5D%2C%20%5B-117.06332397%2C%2032.568313599999996%5D%2C%20%5B-117.06320952999998%2C%2032.56808472000006%5D%2C%20%5B-117.06295013000002%2C%2032.56759262%5D%2C%20%5B-117.06272887999998%2C%2032.56732178%5D%2C%20%5B-117.06256104%2C%2032.56716155999998%5D%2C%20%5B-117.06234741%2C%2032.56700133999997%5D%2C%20%5B-117.06208801%2C%2032.56740952000002%5D%2C%20%5B-117.0618515%2C%2032.567546840000034%5D%2C%20%5B-117.06178284%2C%2032.56757736000006%5D%2C%20%5B-117.06147766%2C%2032.56768035999999%5D%2C%20%5B-117.06047821%2C%2032.56795119999996%5D%2C%20%5B-117.06029510000002%2C%2032.56800079000002%5D%2C%20%5B-117.05926514%2C%2032.56809997999998%5D%2C%20%5B-117.0580368%2C%2032.56810760000001%5D%2C%20%5B-117.05643462999998%2C%2032.568115229999975%5D%2C%20%5B-117.05328368999999%2C%2032.56808472000004%5D%2C%20%5B-117.04866791000002%2C%2032.56803893999999%5D%2C%20%5B-117.04788971%2C%2032.568035130000055%5D%2C%20%5B-117.04573822%2C%2032.568019870000036%5D%2C%20%5B-117.04091644%2C%2032.56793975999997%5D%2C%20%5B-117.04083252000001%2C%2032.56794356999999%5D%2C%20%5B-117.04068756%2C%2032.56794356999999%5D%2C%20%5B-117.04051971%2C%2032.56794356999999%5D%2C%20%5B-117.04031372000001%2C%2032.567955020000014%5D%2C%20%5B-117.03907775999998%2C%2032.56793213000004%5D%2C%20%5B-117.03141022000001%2C%2032.56794356999999%5D%2C%20%5B-117.0267868%2C%2032.5684967%5D%2C%20%5B-117.02410889%2C%2032.56872558999999%5D%2C%20%5B-117.02348327999998%2C%2032.56874465999998%5D%2C%20%5B-117.02272797%2C%2032.56871414000002%5D%2C%20%5B-117.02107239000001%2C%2032.56843566999997%5D%2C%20%5B-117.01837158%2C%2032.56737136999996%5D%2C%20%5B-117.01689911%2C%2032.566646580000004%5D%2C%20%5B-117.01537323000001%2C%2032.566043850000014%5D%2C%20%5B-117.01493398539351%2C%2032.56588102674844%5D%5D%2C%20%22type%22%3A%20%22LineString%22%7D%2C%20%22id%22%3A%20%2257888%22%2C%20%22properties%22%3A%20%7B%22__folium_color%22%3A%20%22%231f77b4%22%2C%20%22district%22%3A%2011%2C%20%22district_name%22%3A%20%22District%2011%20-%20San%20Diego%22%2C%20%22loop_or_inlining%22%3A%200%2C%20%22n_trips%22%3A%20null%2C%20%22p20_mph%22%3A%20null%2C%20%22p50_mph%22%3A%20null%2C%20%22p80_mph%22%3A%20null%2C%20%22schedule_gtfs_dataset_key%22%3A%20%221adf7a7bde86b42ed014f6de74c7132e%22%2C%20%22shape_array_key%22%3A%20%223995aa113b7940405836a9d24e295ebb%22%2C%20%22stop_id%22%3A%20%2299591%22%2C%20%22stop_sequence%22%3A%202%2C%20%22time_of_day%22%3A%20null%7D%2C%20%22type%22%3A%20%22Feature%22%7D%2C%20%7B%22bbox%22%3A%20%5B-122.41917891303466%2C%2037.79077149123185%2C%20-122.41754775176658%2C%2037.79096183432472%5D%2C%20%22geometry%22%3A%20%7B%22coordinates%22%3A%20%5B%5B-122.41917891303466%2C%2037.79077149123185%5D%2C%20%5B-122.419049%2C%2037.79079299999999%5D%2C%20%5B-122.41754775176658%2C%2037.79096183432472%5D%5D%2C%20%22type%22%3A%20%22LineString%22%7D%2C%20%22id%22%3A%20%2259548%22%2C%20%22properties%22%3A%20%7B%22__folium_color%22%3A%20%22%232ca02c%22%2C%20%22district%22%3A%204%2C%20%22district_name%22%3A%20%22District%204%20-%20Oakland%22%2C%20%22loop_or_inlining%22%3A%200%2C%20%22n_trips%22%3A%20null%2C%20%22p20_mph%22%3A%20null%2C%20%22p50_mph%22%3A%20null%2C%20%22p80_mph%22%3A%20null%2C%20%22schedule_gtfs_dataset_key%22%3A%20%227cc0cb1871dfd558f11a2885c145d144%22%2C%20%22shape_array_key%22%3A%20%223adfce7b37ad5dc1dd831e9acf5a3b90%22%2C%20%22stop_id%22%3A%20%2213868%22%2C%20%22stop_sequence%22%3A%204%2C%20%22time_of_day%22%3A%20null%7D%2C%20%22type%22%3A%20%22Feature%22%7D%2C%20%7B%22bbox%22%3A%20%5B-122.41494324126757%2C%2037.80286798701775%2C%20-122.41393479228803%2C%2037.803763350424354%5D%2C%20%22geometry%22%3A%20%7B%22coordinates%22%3A%20%5B%5B-122.41494324126757%2C%2037.803763350424354%5D%2C%20%5B-122.41494099999998%2C%2037.803749%5D%2C%20%5B-122.41488900000002%2C%2037.803546999999995%5D%2C%20%5B-122.41393479228803%2C%2037.80286798701775%5D%5D%2C%20%22type%22%3A%20%22LineString%22%7D%2C%20%22id%22%3A%20%22171408%22%2C%20%22properties%22%3A%20%7B%22__folium_color%22%3A%20%22%239467bd%22%2C%20%22district%22%3A%204%2C%20%22district_name%22%3A%20%22District%204%20-%20Oakland%22%2C%20%22loop_or_inlining%22%3A%200%2C%20%22n_trips%22%3A%20null%2C%20%22p20_mph%22%3A%20null%2C%20%22p50_mph%22%3A%20null%2C%20%22p80_mph%22%3A%20null%2C%20%22schedule_gtfs_dataset_key%22%3A%20%227cc0cb1871dfd558f11a2885c145d144%22%2C%20%22shape_array_key%22%3A%20%22ac713007941051bd6aa80018b8158260%22%2C%20%22stop_id%22%3A%20%2217181%22%2C%20%22stop_sequence%22%3A%203%2C%20%22time_of_day%22%3A%20null%7D%2C%20%22type%22%3A%20%22Feature%22%7D%2C%20%7B%22bbox%22%3A%20%5B-122.41393479228803%2C%2037.801833317077964%2C%20-122.41285595977146%2C%2037.80286798701775%5D%2C%20%22geometry%22%3A%20%7B%22coordinates%22%3A%20%5B%5B-122.41393479228803%2C%2037.80286798701775%5D%2C%20%5B-122.41393199999999%2C%2037.80286599999999%5D%2C%20%5B-122.41373099999998%2C%2037.802748000000015%5D%2C%20%5B-122.412921%2C%2037.80218800000005%5D%2C%20%5B-122.412861%2C%2037.801898000000016%5D%2C%20%5B-122.41285595977146%2C%2037.801833317077964%5D%5D%2C%20%22type%22%3A%20%22LineString%22%7D%2C%20%22id%22%3A%20%22171409%22%2C%20%22properties%22%3A%20%7B%22__folium_color%22%3A%20%22%239467bd%22%2C%20%22district%22%3A%204%2C%20%22district_name%22%3A%20%22District%204%20-%20Oakland%22%2C%20%22loop_or_inlining%22%3A%200%2C%20%22n_trips%22%3A%20null%2C%20%22p20_mph%22%3A%20null%2C%20%22p50_mph%22%3A%20null%2C%20%22p80_mph%22%3A%20null%2C%20%22schedule_gtfs_dataset_key%22%3A%20%227cc0cb1871dfd558f11a2885c145d144%22%2C%20%22shape_array_key%22%3A%20%22ac713007941051bd6aa80018b8158260%22%2C%20%22stop_id%22%3A%20%2215361%22%2C%20%22stop_sequence%22%3A%204%2C%20%22time_of_day%22%3A%20null%7D%2C%20%22type%22%3A%20%22Feature%22%7D%2C%20%7B%22bbox%22%3A%20%5B-122.41285595977146%2C%2037.80090849246575%2C%20-122.41266241440825%2C%2037.801833317077964%5D%2C%20%22geometry%22%3A%20%7B%22coordinates%22%3A%20%5B%5B-122.41285595977146%2C%2037.801833317077964%5D%2C%20%5B-122.41285499999998%2C%2037.80182100000001%5D%2C%20%5B-122.41276699999999%2C%2037.80143499999999%5D%2C%20%5B-122.412672%2C%2037.800970000000014%5D%2C%20%5B-122.41266241440825%2C%2037.80090849246575%5D%5D%2C%20%22type%22%3A%20%22LineString%22%7D%2C%20%22id%22%3A%20%22171410%22%2C%20%22properties%22%3A%20%7B%22__folium_color%22%3A%20%22%239467bd%22%2C%20%22district%22%3A%204%2C%20%22district_name%22%3A%20%22District%204%20-%20Oakland%22%2C%20%22loop_or_inlining%22%3A%200%2C%20%22n_trips%22%3A%20null%2C%20%22p20_mph%22%3A%20null%2C%20%22p50_mph%22%3A%20null%2C%20%22p80_mph%22%3A%20null%2C%20%22schedule_gtfs_dataset_key%22%3A%20%227cc0cb1871dfd558f11a2885c145d144%22%2C%20%22shape_array_key%22%3A%20%22ac713007941051bd6aa80018b8158260%22%2C%20%22stop_id%22%3A%20%2215359%22%2C%20%22stop_sequence%22%3A%205%2C%20%22time_of_day%22%3A%20null%7D%2C%20%22type%22%3A%20%22Feature%22%7D%2C%20%7B%22bbox%22%3A%20%5B-122.41266241440825%2C%2037.79997876008794%2C%20-122.41247752889825%2C%2037.80090849246575%5D%2C%20%22geometry%22%3A%20%7B%22coordinates%22%3A%20%5B%5B-122.41266241440825%2C%2037.80090849246575%5D%2C%20%5B-122.41266%2C%2037.800892999999974%5D%2C%20%5B-122.41254199999999%2C%2037.80032799999999%5D%2C%20%5B-122.41248400000002%2C%2037.80003700000001%5D%2C%20%5B-122.41247752889825%2C%2037.79997876008794%5D%5D%2C%20%22type%22%3A%20%22LineString%22%7D%2C%20%22id%22%3A%20%22171411%22%2C%20%22properties%22%3A%20%7B%22__folium_color%22%3A%20%22%239467bd%22%2C%20%22district%22%3A%204%2C%20%22district_name%22%3A%20%22District%204%20-%20Oakland%22%2C%20%22loop_or_inlining%22%3A%200%2C%20%22n_trips%22%3A%20null%2C%20%22p20_mph%22%3A%20null%2C%20%22p50_mph%22%3A%20null%2C%20%22p80_mph%22%3A%20null%2C%20%22schedule_gtfs_dataset_key%22%3A%20%227cc0cb1871dfd558f11a2885c145d144%22%2C%20%22shape_array_key%22%3A%20%22ac713007941051bd6aa80018b8158260%22%2C%20%22stop_id%22%3A%20%2215369%22%2C%20%22stop_sequence%22%3A%206%2C%20%22time_of_day%22%3A%20null%7D%2C%20%22type%22%3A%20%22Feature%22%7D%2C%20%7B%22bbox%22%3A%20%5B-119.942151%2C%2038.95773699999999%2C%20-119.942151%2C%2038.95773699999999%5D%2C%20%22geometry%22%3A%20%7B%22coordinates%22%3A%20%5B%5B-119.942151%2C%2038.95773699999999%5D%2C%20%5B-119.942151%2C%2038.95773699999999%5D%2C%20%5B-119.942151%2C%2038.95773699999999%5D%5D%2C%20%22type%22%3A%20%22LineString%22%7D%2C%20%22id%22%3A%20%22216542%22%2C%20%22properties%22%3A%20%7B%22__folium_color%22%3A%20%22%23e377c2%22%2C%20%22district%22%3A%203%2C%20%22district_name%22%3A%20%22District%203%20-%20Marysville%22%2C%20%22loop_or_inlining%22%3A%201%2C%20%22n_trips%22%3A%20null%2C%20%22p20_mph%22%3A%20null%2C%20%22p50_mph%22%3A%20null%2C%20%22p80_mph%22%3A%20null%2C%20%22schedule_gtfs_dataset_key%22%3A%20%2207d3b79f14cec8099119e1eb649f065b%22%2C%20%22shape_array_key%22%3A%20%22d79dacb8b4fe1f5416ec106f4ac5672d%22%2C%20%22stop_id%22%3A%20%226702259%22%2C%20%22stop_sequence%22%3A%201%2C%20%22time_of_day%22%3A%20null%7D%2C%20%22type%22%3A%20%22Feature%22%7D%2C%20%7B%22bbox%22%3A%20%5B-119.942151%2C%2038.95773699999999%2C%20-119.942151%2C%2038.95773699999999%5D%2C%20%22geometry%22%3A%20%7B%22coordinates%22%3A%20%5B%5B-119.942151%2C%2038.95773699999999%5D%2C%20%5B-119.942151%2C%2038.95773699999999%5D%2C%20%5B-119.942151%2C%2038.95773699999999%5D%5D%2C%20%22type%22%3A%20%22LineString%22%7D%2C%20%22id%22%3A%20%22231919%22%2C%20%22properties%22%3A%20%7B%22__folium_color%22%3A%20%22%23bcbd22%22%2C%20%22district%22%3A%203%2C%20%22district_name%22%3A%20%22District%203%20-%20Marysville%22%2C%20%22loop_or_inlining%22%3A%200%2C%20%22n_trips%22%3A%20null%2C%20%22p20_mph%22%3A%20null%2C%20%22p50_mph%22%3A%20null%2C%20%22p80_mph%22%3A%20null%2C%20%22schedule_gtfs_dataset_key%22%3A%20%2207d3b79f14cec8099119e1eb649f065b%22%2C%20%22shape_array_key%22%3A%20%22e4af5a81c32da5b8813e995742d7ca1b%22%2C%20%22stop_id%22%3A%20%226702259%22%2C%20%22stop_sequence%22%3A%201%2C%20%22time_of_day%22%3A%20null%7D%2C%20%22type%22%3A%20%22Feature%22%7D%2C%20%7B%22bbox%22%3A%20%5B-122.840561%2C%2038.395178999999985%2C%20-122.819395%2C%2038.40532300000001%5D%2C%20%22geometry%22%3A%20%7B%22coordinates%22%3A%20%5B%5B-122.82309900000001%2C%2038.40446699999998%5D%2C%20%5B-122.82309900000001%2C%2038.40446699999998%5D%2C%20%5B-122.82261000000001%2C%2038.404607%5D%2C%20%5B-122.82181200000001%2C%2038.40504200000002%5D%2C%20%5B-122.820873%2C%2038.40510000000001%5D%2C%20%5B-122.82004300000001%2C%2038.40520299999998%5D%2C%20%5B-122.820042%2C%2038.405184999999996%5D%2C%20%5B-122.81968%2C%2038.405239999999985%5D%2C%20%5B-122.819395%2C%2038.40412800000001%5D%2C%20%5B-122.81981800000001%2C%2038.404033999999996%5D%2C%20%5B-122.82058599999999%2C%2038.40390800000001%5D%2C%20%5B-122.8208%2C%2038.403876000000004%5D%2C%20%5B-122.821516%2C%2038.403768%5D%2C%20%5B-122.821681%2C%2038.403752999999966%5D%2C%20%5B-122.821669269%2C%2038.40375144699996%5D%2C%20%5B-122.822474091%2C%2038.403691494000014%5D%2C%20%5B-122.82341304%2C%2038.40364005099996%5D%2C%20%5B-122.824859152%2C%2038.40312405800001%5D%2C%20%5B-122.82418212100002%2C%2038.40209596299997%5D%2C%20%5B-122.82443917499998%2C%2038.40200483300001%5D%2C%20%5B-122.824449%2C%2038.402004000000005%5D%2C%20%5B-122.82492500000001%2C%2038.40184199999998%5D%2C%20%5B-122.82557900000002%2C%2038.40161499999995%5D%2C%20%5B-122.827319%2C%2038.401022000000005%5D%2C%20%5B-122.827473%2C%2038.40095900000002%5D%2C%20%5B-122.82760500000002%2C%2038.400865%5D%2C%20%5B-122.827713%2C%2038.40073799999995%5D%2C%20%5B-122.82785799999999%2C%2038.400512000000006%5D%2C%20%5B-122.82800800000001%2C%2038.40028000000002%5D%2C%20%5B-122.828064%2C%2038.40019199999999%5D%2C%20%5B-122.82808300000002%2C%2038.40016200000003%5D%2C%20%5B-122.828437%2C%2038.399606999999975%5D%2C%20%5B-122.828916%2C%2038.39894900000002%5D%2C%20%5B-122.829132%2C%2038.39865200000001%5D%2C%20%5B-122.829287%2C%2038.398504000000045%5D%2C%20%5B-122.82946400000002%2C%2038.39842000000003%5D%2C%20%5B-122.829527%2C%2038.39839000000001%5D%2C%20%5B-122.82974999999999%2C%2038.398301999999966%5D%2C%20%5B-122.83000799999999%2C%2038.39822100000005%5D%2C%20%5B-122.830051%2C%2038.39821500000002%5D%2C%20%5B-122.830226%2C%2038.398187%5D%2C%20%5B-122.831213%2C%2038.39818%5D%2C%20%5B-122.83124700000002%2C%2038.39817900000001%5D%2C%20%5B-122.832096%2C%2038.39816800000003%5D%2C%20%5B-122.832693%2C%2038.39815999999998%5D%2C%20%5B-122.83316600000002%2C%2038.39815399999999%5D%2C%20%5B-122.83316400000001%2C%2038.39787500000002%5D%2C%20%5B-122.833143%2C%2038.397576%5D%2C%20%5B-122.83313999999999%2C%2038.39742600000007%5D%2C%20%5B-122.83317000000001%2C%2038.39738200000001%5D%2C%20%5B-122.83320900000001%2C%2038.39734700000001%5D%2C%20%5B-122.833265%2C%2038.39730700000004%5D%2C%20%5B-122.833424%2C%2038.39730700000004%5D%2C%20%5B-122.83354200000001%2C%2038.397323%5D%2C%20%5B-122.83359600000001%2C%2038.39733099999999%5D%2C%20%5B-122.833619%2C%2038.39733400000001%5D%2C%20%5B-122.83391%2C%2038.39735000000002%5D%2C%20%5B-122.833997%2C%2038.39734200000003%5D%2C%20%5B-122.83407700000001%2C%2038.39727899999999%5D%2C%20%5B-122.83413600000002%2C%2038.39719800000003%5D%2C%20%5B-122.834198%2C%2038.397107999999974%5D%2C%20%5B-122.834237%2C%2038.39702399999999%5D%2C%20%5B-122.83424700000002%2C%2038.396958%5D%2C%20%5B-122.83424700000002%2C%2038.39691000000001%5D%2C%20%5B-122.834201%2C%2038.396842999999976%5D%2C%20%5B-122.83439800000001%2C%2038.39675399999998%5D%2C%20%5B-122.834538%2C%2038.39667600000002%5D%2C%20%5B-122.83463995399998%2C%2038.39658384199998%5D%2C%20%5B-122.83463995399998%2C%2038.39659056100002%5D%2C%20%5B-122.834708537%2C%2038.396500977%5D%2C%20%5B-122.83478855000001%2C%2038.396382278000026%5D%2C%20%5B-122.83482400000001%2C%2038.39629899999998%5D%2C%20%5B-122.83483099999998%2C%2038.39624399999998%5D%2C%20%5B-122.834835%2C%2038.39615599999996%5D%2C%20%5B-122.834807%2C%2038.39606099999997%5D%2C%20%5B-122.83476700000001%2C%2038.39597399999998%5D%2C%20%5B-122.83472200000001%2C%2038.39585799999995%5D%2C%20%5B-122.834628%2C%2038.395649000000006%5D%2C%20%5B-122.834576%2C%2038.395573999999996%5D%2C%20%5B-122.83453300000001%2C%2038.39553299999998%5D%2C%20%5B-122.834474%2C%2038.395498999999994%5D%2C%20%5B-122.83442%2C%2038.395475999999974%5D%2C%20%5B-122.834326%2C%2038.39545800000003%5D%2C%20%5B-122.834252%2C%2038.39544799999999%5D%2C%20%5B-122.834123%2C%2038.39543499999998%5D%2C%20%5B-122.834054%2C%2038.39542399999999%5D%2C%20%5B-122.834011%2C%2038.39541599999998%5D%2C%20%5B-122.83395600000001%2C%2038.395390999999975%5D%2C%20%5B-122.833961%2C%2038.39538500000001%5D%2C%20%5B-122.83376300000002%2C%2038.395256%5D%2C%20%5B-122.833633%2C%2038.39519100000004%5D%2C%20%5B-122.833419%2C%2038.395178999999985%5D%2C%20%5B-122.833335%2C%2038.39519800000001%5D%2C%20%5B-122.833267%2C%2038.395233000000005%5D%2C%20%5B-122.83316000000002%2C%2038.39533600000003%5D%2C%20%5B-122.833122%2C%2038.39540399999998%5D%2C%20%5B-122.83310600000002%2C%2038.3955%5D%2C%20%5B-122.83310600000002%2C%2038.39596899999995%5D%2C%20%5B-122.833168%2C%2038.39635800000005%5D%2C%20%5B-122.833168%2C%2038.396429999999995%5D%2C%20%5B-122.83316000000002%2C%2038.396476%5D%2C%20%5B-122.833129%2C%2038.39663600000001%5D%2C%20%5B-122.833122%2C%2038.39686500000001%5D%2C%20%5B-122.833114%2C%2038.39723900000002%5D%2C%20%5B-122.83313700000001%2C%2038.39742600000003%5D%2C%20%5B-122.833168%2C%2038.39815499999997%5D%2C%20%5B-122.83445700000001%2C%2038.39815899999997%5D%2C%20%5B-122.834453%2C%2038.39818200000001%5D%2C%20%5B-122.838987%2C%2038.39818200000001%5D%2C%20%5B-122.83950499999999%2C%2038.39818700000001%5D%2C%20%5B-122.839641%2C%2038.398605999999994%5D%2C%20%5B-122.839711%2C%2038.39929599999997%5D%2C%20%5B-122.83972100000001%2C%2038.401590999999975%5D%2C%20%5B-122.83989500000001%2C%2038.402036%5D%2C%20%5B-122.839893%2C%2038.40204299999998%5D%2C%20%5B-122.83991900000001%2C%2038.402092999999994%5D%2C%20%5B-122.83994800000002%2C%2038.40220999999999%5D%2C%20%5B-122.84007799999999%2C%2038.402209999999954%5D%2C%20%5B-122.84012099999998%2C%2038.40235199999999%5D%2C%20%5B-122.84019%2C%2038.402497999999994%5D%2C%20%5B-122.84023700000002%2C%2038.40269700000001%5D%2C%20%5B-122.840269%2C%2038.40289399999999%5D%2C%20%5B-122.84033399999998%2C%2038.40345199999997%5D%2C%20%5B-122.840395%2C%2038.404018999999984%5D%2C%20%5B-122.840524%2C%2038.40482999999998%5D%2C%20%5B-122.840561%2C%2038.40508199999999%5D%2C%20%5B-122.84055800000002%2C%2038.40530899999999%5D%2C%20%5B-122.84006900000001%2C%2038.405308000000005%5D%2C%20%5B-122.839506%2C%2038.405296%5D%2C%20%5B-122.839468%2C%2038.40529500000003%5D%2C%20%5B-122.83896100000001%2C%2038.40528500000001%5D%2C%20%5B-122.838393%2C%2038.405274999999996%5D%2C%20%5B-122.83748799999998%2C%2038.40525799999998%5D%2C%20%5B-122.837056%2C%2038.40525%5D%2C%20%5B-122.836913%2C%2038.40521100000002%5D%2C%20%5B-122.836522%2C%2038.40519299999997%5D%2C%20%5B-122.83602%2C%2038.405204%5D%2C%20%5B-122.83557799999998%2C%2038.405271000000035%5D%2C%20%5B-122.83553800000001%2C%2038.40527200000003%5D%2C%20%5B-122.83530999999999%2C%2038.405278999999986%5D%2C%20%5B-122.83452300000002%2C%2038.40530499999996%5D%2C%20%5B-122.834393%2C%2038.40531000000002%5D%2C%20%5B-122.833747%2C%2038.405315999999985%5D%2C%20%5B-122.83340300000002%2C%2038.405320000000025%5D%2C%20%5B-122.83315100000002%2C%2038.40532300000001%5D%2C%20%5B-122.832929%2C%2038.40532199999998%5D%2C%20%5B-122.83268200000002%2C%2038.40532099999996%5D%2C%20%5B-122.83258699999999%2C%2038.40531699999999%5D%2C%20%5B-122.83188400000002%2C%2038.405289%5D%2C%20%5B-122.83163200000001%2C%2038.40527799999997%5D%2C%20%5B-122.83138200000002%2C%2038.40526799999997%5D%2C%20%5B-122.831186%2C%2038.40526000000002%5D%2C%20%5B-122.83070799999999%2C%2038.40524099999997%5D%2C%20%5B-122.830133%2C%2038.405261000000024%5D%2C%20%5B-122.829281%2C%2038.405255000000025%5D%2C%20%5B-122.829109%2C%2038.40525600000003%5D%2C%20%5B-122.828811%2C%2038.405256000000044%5D%2C%20%5B-122.828532%2C%2038.405257000000006%5D%2C%20%5B-122.82849200000001%2C%2038.405256999999956%5D%2C%20%5B-122.82840200000001%2C%2038.405257999999996%5D%2C%20%5B-122.828064%2C%2038.40525900000001%5D%2C%20%5B-122.827209%2C%2038.405245999999984%5D%2C%20%5B-122.82705000000001%2C%2038.405243999999975%5D%2C%20%5B-122.82693400000001%2C%2038.40524200000001%5D%2C%20%5B-122.826334%2C%2038.405233%5D%2C%20%5B-122.826296%2C%2038.40520199999996%5D%2C%20%5B-122.82590699999999%2C%2038.40488500000003%5D%2C%20%5B-122.825734%2C%2038.40459100000004%5D%2C%20%5B-122.82557099999998%2C%2038.40431199999998%5D%2C%20%5B-122.82536600000002%2C%2038.403963999999995%5D%2C%20%5B-122.82531400000002%2C%2038.403882%5D%2C%20%5B-122.82524999999998%2C%2038.40378200000002%5D%2C%20%5B-122.82517999999999%2C%2038.40367299999995%5D%2C%20%5B-122.82517999999999%2C%2038.403674999999964%5D%2C%20%5B-122.82502%2C%2038.40342699999999%5D%2C%20%5B-122.824982%2C%2038.40335800000002%5D%2C%20%5B-122.82484400000001%2C%2038.403126000000015%5D%2C%20%5B-122.82418099999998%2C%2038.402095999999986%5D%2C%20%5B-122.823578%2C%2038.40232500000002%5D%2C%20%5B-122.82338%2C%2038.40240099999997%5D%2C%20%5B-122.823174%2C%2038.40242000000001%5D%2C%20%5B-122.822899%2C%2038.40237399999999%5D%2C%20%5B-122.822876%2C%2038.402595999999974%5D%2C%20%5B-122.822884%2C%2038.402672000000024%5D%2C%20%5B-122.823166%2C%2038.40316799999999%5D%2C%20%5B-122.823418%2C%2038.40364099999998%5D%2C%20%5B-122.82344799999998%2C%2038.40372500000001%5D%2C%20%5B-122.823509%2C%2038.403931%5D%2C%20%5B-122.823524%2C%2038.40397599999994%5D%2C%20%5B-122.82354%2C%2038.404102000000016%5D%2C%20%5B-122.82353199999999%2C%2038.40423599999997%5D%2C%20%5B-122.82344100000002%2C%2038.40432699999998%5D%2C%20%5B-122.823341%2C%2038.404391999999966%5D%2C%20%5B-122.823097%2C%2038.404453000000025%5D%2C%20%5B-122.823097%2C%2038.404453000000025%5D%5D%2C%20%22type%22%3A%20%22LineString%22%7D%2C%20%22id%22%3A%20%22235493%22%2C%20%22properties%22%3A%20%7B%22__folium_color%22%3A%20%22%239edae5%22%2C%20%22district%22%3A%204%2C%20%22district_name%22%3A%20%22District%204%20-%20Oakland%22%2C%20%22loop_or_inlining%22%3A%201%2C%20%22n_trips%22%3A%20null%2C%20%22p20_mph%22%3A%20null%2C%20%22p50_mph%22%3A%20null%2C%20%22p80_mph%22%3A%20null%2C%20%22schedule_gtfs_dataset_key%22%3A%20%2209e16227fc42c4fe90204a9d11581034%22%2C%20%22shape_array_key%22%3A%20%22e80cd0231a2f6cf9b714a932b0a16707%22%2C%20%22stop_id%22%3A%20%227764510%22%2C%20%22stop_sequence%22%3A%201%2C%20%22time_of_day%22%3A%20null%7D%2C%20%22type%22%3A%20%22Feature%22%7D%2C%20%7B%22bbox%22%3A%20%5B-122.823097%2C%2038.404453000000025%2C%20-122.823097%2C%2038.404453000000025%5D%2C%20%22geometry%22%3A%20%7B%22coordinates%22%3A%20%5B%5B-122.823097%2C%2038.404453000000025%5D%2C%20%5B-122.823097%2C%2038.404453000000025%5D%2C%20%5B-122.823097%2C%2038.404453000000025%5D%5D%2C%20%22type%22%3A%20%22LineString%22%7D%2C%20%22id%22%3A%20%22235494%22%2C%20%22properties%22%3A%20%7B%22__folium_color%22%3A%20%22%239edae5%22%2C%20%22district%22%3A%204%2C%20%22district_name%22%3A%20%22District%204%20-%20Oakland%22%2C%20%22loop_or_inlining%22%3A%201%2C%20%22n_trips%22%3A%20null%2C%20%22p20_mph%22%3A%20null%2C%20%22p50_mph%22%3A%20null%2C%20%22p80_mph%22%3A%20null%2C%20%22schedule_gtfs_dataset_key%22%3A%20%2209e16227fc42c4fe90204a9d11581034%22%2C%20%22shape_array_key%22%3A%20%22e80cd0231a2f6cf9b714a932b0a16707%22%2C%20%22stop_id%22%3A%20%227764520%22%2C%20%22stop_sequence%22%3A%202%2C%20%22time_of_day%22%3A%20null%7D%2C%20%22type%22%3A%20%22Feature%22%7D%5D%2C%20%22type%22%3A%20%22FeatureCollection%22%7D%29%3B%0A%0A%20%20%20%20%20%20%20%20%0A%20%20%20%20%0A%20%20%20%20geo_json_3ddbd9a941544307ba04c4b443887f5f.bindTooltip%28%0A%20%20%20%20function%28layer%29%7B%0A%20%20%20%20let%20div%20%3D%20L.DomUtil.create%28%27div%27%29%3B%0A%20%20%20%20%0A%20%20%20%20let%20handleObject%20%3D%20feature%3D%3Etypeof%28feature%29%3D%3D%27object%27%20%3F%20JSON.stringify%28feature%29%20%3A%20feature%3B%0A%20%20%20%20let%20fields%20%3D%20%5B%22shape_array_key%22%2C%20%22stop_sequence%22%2C%20%22schedule_gtfs_dataset_key%22%2C%20%22stop_id%22%2C%20%22loop_or_inlining%22%2C%20%22district%22%2C%20%22district_name%22%2C%20%22p50_mph%22%2C%20%22n_trips%22%2C%20%22p20_mph%22%2C%20%22p80_mph%22%2C%20%22time_of_day%22%5D%3B%0A%20%20%20%20let%20aliases%20%3D%20%5B%22shape_array_key%22%2C%20%22stop_sequence%22%2C%20%22schedule_gtfs_dataset_key%22%2C%20%22stop_id%22%2C%20%22loop_or_inlining%22%2C%20%22district%22%2C%20%22district_name%22%2C%20%22p50_mph%22%2C%20%22n_trips%22%2C%20%22p20_mph%22%2C%20%22p80_mph%22%2C%20%22time_of_day%22%5D%3B%0A%20%20%20%20let%20table%20%3D%20%27%3Ctable%3E%27%20%2B%0A%20%20%20%20%20%20%20%20String%28%0A%20%20%20%20%20%20%20%20fields.map%28%0A%20%20%20%20%20%20%20%20%28v%2Ci%29%3D%3E%0A%20%20%20%20%20%20%20%20%60%3Ctr%3E%0A%20%20%20%20%20%20%20%20%20%20%20%20%3Cth%3E%24%7Baliases%5Bi%5D%7D%3C/th%3E%0A%20%20%20%20%20%20%20%20%20%20%20%20%0A%20%20%20%20%20%20%20%20%20%20%20%20%3Ctd%3E%24%7BhandleObject%28layer.feature.properties%5Bv%5D%29%7D%3C/td%3E%0A%20%20%20%20%20%20%20%20%3C/tr%3E%60%29.join%28%27%27%29%29%0A%20%20%20%20%2B%27%3C/table%3E%27%3B%0A%20%20%20%20div.innerHTML%3Dtable%3B%0A%20%20%20%20%0A%20%20%20%20return%20div%0A%20%20%20%20%7D%0A%20%20%20%20%2C%7B%22className%22%3A%20%22foliumtooltip%22%2C%20%22sticky%22%3A%20true%7D%29%3B%0A%20%20%20%20%20%20%20%20%20%20%20%20%20%20%20%20%20%20%20%20%20%0A%3C/script%3E onload=\"this.contentDocument.open();this.contentDocument.write(    decodeURIComponent(this.getAttribute('data-html')));this.contentDocument.close();\" allowfullscreen webkitallowfullscreen mozallowfullscreen></iframe></div></div>"
      ],
      "text/plain": [
       "<folium.folium.Map at 0x7f5eaaf3f4c0>"
      ]
     },
     "execution_count": 47,
     "metadata": {},
     "output_type": "execute_result"
    }
   ],
   "source": [
    "new_routes_df.explore('shape_array_key')"
   ]
  },
  {
   "cell_type": "markdown",
   "id": "9daf292e-e8d8-4813-86c9-7a09fc035c4a",
   "metadata": {
    "tags": []
   },
   "source": [
    "## Sample segments and routes for Big Blue Bus"
   ]
  },
  {
   "cell_type": "code",
   "execution_count": 48,
   "id": "edbaac05-d03a-42d4-abba-4a4483fa3005",
   "metadata": {},
   "outputs": [],
   "source": [
    "test_operator = \"Big Blue Bus VehiclePositions\"\n",
    "test_org = \"City of Santa Monica\"\n",
    "test_key = \"6c2d7daaf979779fa2089c6395baf98b\""
   ]
  },
  {
   "cell_type": "code",
   "execution_count": 49,
   "id": "9c7826f6-27ed-498f-97b8-ee0f4c2a992a",
   "metadata": {},
   "outputs": [],
   "source": [
    "#pub_df = pd.read_parquet(\n",
    "#    f\"{SEGMENT_GCS}export/avg_speeds_stop_segments_{analysis_date}_tabular.parquet\", \n",
    "#    filters = [[(\"agency\", \"==\", test_org)]]\n",
    "#)"
   ]
  },
  {
   "cell_type": "code",
   "execution_count": 50,
   "id": "288a9881-aa75-4331-9c4c-e01c3954fafe",
   "metadata": {},
   "outputs": [
    {
     "ename": "NameError",
     "evalue": "name 'pub_df' is not defined",
     "output_type": "error",
     "traceback": [
      "\u001b[0;31m---------------------------------------------------------------------------\u001b[0m",
      "\u001b[0;31mNameError\u001b[0m                                 Traceback (most recent call last)",
      "Cell \u001b[0;32mIn[50], line 4\u001b[0m\n\u001b[1;32m      2\u001b[0m shape_id1  \u001b[38;5;241m=\u001b[39m \u001b[38;5;124m\"\u001b[39m\u001b[38;5;124m26375\u001b[39m\u001b[38;5;124m\"\u001b[39m\n\u001b[1;32m      3\u001b[0m stop_seq1 \u001b[38;5;241m=\u001b[39m \u001b[38;5;241m7\u001b[39m\n\u001b[0;32m----> 4\u001b[0m shape_array1 \u001b[38;5;241m=\u001b[39m \u001b[43mpub_df\u001b[49m[pub_df\u001b[38;5;241m.\u001b[39mshape_id\u001b[38;5;241m==\u001b[39mshape_id1]\u001b[38;5;241m.\u001b[39mshape_array_key\u001b[38;5;241m.\u001b[39miloc[\u001b[38;5;241m0\u001b[39m]\n",
      "\u001b[0;31mNameError\u001b[0m: name 'pub_df' is not defined"
     ]
    }
   ],
   "source": [
    "# Dark orange\n",
    "shape_id1  = \"26375\"\n",
    "stop_seq1 = 7\n",
    "shape_array1 = pub_df[pub_df.shape_id==shape_id1].shape_array_key.iloc[0]"
   ]
  },
  {
   "cell_type": "code",
   "execution_count": null,
   "id": "05465822-ff34-47cb-ac43-2d11e12e3494",
   "metadata": {},
   "outputs": [],
   "source": [
    "# Light yellow \n",
    "shape_id2 = \"26342\"\n",
    "stop_seq2 = 23\n",
    "shape_array2 = pub_df[pub_df.shape_id==shape_id2].shape_array_key.iloc[0]"
   ]
  },
  {
   "cell_type": "code",
   "execution_count": null,
   "id": "d1315d79-276d-4810-9593-07e8770f67ba",
   "metadata": {},
   "outputs": [],
   "source": [
    "# Dark Red\n",
    "shape_id3 = \"26393\"\n",
    "stop_seq3 = 32\n",
    "shape_array3 = pub_df[pub_df.shape_id==shape_id3].shape_array_key.iloc[0]"
   ]
  },
  {
   "cell_type": "code",
   "execution_count": null,
   "id": "d163d014-0e76-41ef-813f-ff2617077249",
   "metadata": {},
   "outputs": [],
   "source": [
    "# Light orange\n",
    "shape_id4 = \"26372\"\n",
    "stop_seq4 = 14\n",
    "shape_array4 = pub_df[pub_df.shape_id==shape_id4].shape_array_key.iloc[0]"
   ]
  },
  {
   "cell_type": "code",
   "execution_count": null,
   "id": "d946f239-b242-4a3e-95f6-580690e245b7",
   "metadata": {},
   "outputs": [],
   "source": [
    "# Green\n",
    "shape_id5 = \"26400\"\n",
    "stop_seq5= 8\n",
    "shape_array5 = pub_df[pub_df.shape_id==shape_id5].shape_array_key.iloc[0]"
   ]
  },
  {
   "cell_type": "code",
   "execution_count": null,
   "id": "ec9da438-07d4-45ef-85c1-fc44d6eaadbf",
   "metadata": {},
   "outputs": [],
   "source": [
    "def one_route_map(avg_speeds:gpd.GeoDataFrame, shape_array_key:str):\n",
    "    display(avg_speeds[avg_speeds.shape_array_key==shape_array_key].explore(\n",
    "    \"p50_mph\", \n",
    "    tiles = \"CartoDB Positron\",\n",
    "    cmap = rt_utils.ZERO_THIRTY_COLORSCALE,\n",
    "    style_kwds = {'weight':5}))\n",
    "    "
   ]
  },
  {
   "cell_type": "code",
   "execution_count": null,
   "id": "19bd5cbe-0bc6-4dfd-b6fb-37a307dfb9db",
   "metadata": {},
   "outputs": [],
   "source": [
    "def compare_average(avg_test:pd.DataFrame,\n",
    "                    og_avg:pd.DataFrame, \n",
    "                    shape_array_key:str,\n",
    "                    stop_sequence:int):\n",
    "    \n",
    "    print(f\"route {shape_array_key}, sequence {stop_sequence}\")\n",
    "    drop_cols = ['shape_array_key','stop_sequence']\n",
    "    print('Original')\n",
    "    original = og_avg[(og_avg.shape_array_key == shape_array_key) &(og_avg.stop_sequence == stop_sequence)].drop(columns = drop_cols)\n",
    "    display(original.drop(columns = ['geometry']))\n",
    "    \n",
    "    print('New')\n",
    "    new = avg_test[(avg_test.shape_array_key == shape_array_key) & (avg_test.stop_sequence == stop_sequence)].drop(columns = drop_cols)\n",
    "    display(new.drop(columns = ['geometry']))    \n",
    "    # display(new.explore(width = 300, height = 300))"
   ]
  },
  {
   "cell_type": "code",
   "execution_count": null,
   "id": "b6a35555-e9ae-4a34-9f38-f4b3a78917de",
   "metadata": {},
   "outputs": [],
   "source": [
    "og_avg.p50_mph.describe()"
   ]
  },
  {
   "cell_type": "code",
   "execution_count": null,
   "id": "09961212-cad7-40ab-bfd9-ff457eaad089",
   "metadata": {},
   "outputs": [],
   "source": [
    "avg_test.p50_mph.describe()"
   ]
  },
  {
   "cell_type": "markdown",
   "id": "5c797a73-3cb6-46dd-b451-959bb185d762",
   "metadata": {},
   "source": [
    "* Strangely enough, the 50th percentile speed became lower\n",
    "* Sometimes the lower the length, the higher the speed?"
   ]
  },
  {
   "cell_type": "code",
   "execution_count": null,
   "id": "3ede20ec-3d72-4a97-803f-67906eb9b662",
   "metadata": {},
   "outputs": [],
   "source": [
    "# compare_average(avg_test, og_avg, shape_array3, stop_seq3)"
   ]
  },
  {
   "cell_type": "code",
   "execution_count": null,
   "id": "ea2fd667-8e2e-43be-9015-81f0d066d834",
   "metadata": {
    "scrolled": true,
    "tags": []
   },
   "outputs": [],
   "source": [
    "# merge1.loc[(merge1.shape_array_key == shape_array3) & (merge1.stop_sequence == stop_seq3)][merge1_preview_cols].sort_values(['percent'])"
   ]
  },
  {
   "cell_type": "markdown",
   "id": "a37b765b-1d23-4e69-8959-474289814ac7",
   "metadata": {},
   "source": [
    "* This is missing because the only row that was non-zero only covered 27% of the length\n",
    "* Maybe up the threshold?"
   ]
  },
  {
   "cell_type": "code",
   "execution_count": null,
   "id": "13a5f252-5bf6-44b4-b1e0-baec918fa61f",
   "metadata": {},
   "outputs": [],
   "source": [
    "# compare_average(avg_test, og_avg, shape_array4, stop_seq4)"
   ]
  },
  {
   "cell_type": "code",
   "execution_count": null,
   "id": "bf2d2ec9-c9db-4b2d-977a-3df3547a0cf1",
   "metadata": {},
   "outputs": [],
   "source": [
    "# merge1.loc[(merge1.shape_array_key == shape_array4) & (merge1.stop_sequence == stop_seq4)][merge1_preview_cols]"
   ]
  },
  {
   "cell_type": "code",
   "execution_count": null,
   "id": "64a82a45-2df9-49e6-b1e1-9aaaef90e818",
   "metadata": {},
   "outputs": [],
   "source": [
    "# compare_average(avg_test, og_avg, shape_array5, stop_seq5)"
   ]
  },
  {
   "cell_type": "markdown",
   "id": "0500731c-63ec-444b-8c2d-405c73d1a43d",
   "metadata": {},
   "source": [
    "### Check using Big Blue Bus"
   ]
  }
 ],
 "metadata": {
  "kernelspec": {
   "display_name": "Python 3 (ipykernel)",
   "language": "python",
   "name": "python3"
  },
  "language_info": {
   "codemirror_mode": {
    "name": "ipython",
    "version": 3
   },
   "file_extension": ".py",
   "mimetype": "text/x-python",
   "name": "python",
   "nbconvert_exporter": "python",
   "pygments_lexer": "ipython3",
   "version": "3.9.13"
  },
  "toc-autonumbering": false,
  "toc-showcode": false
 },
 "nbformat": 4,
 "nbformat_minor": 5
}
