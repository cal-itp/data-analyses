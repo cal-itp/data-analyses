{
 "cells": [
  {
   "cell_type": "code",
   "execution_count": null,
   "id": "3d2ca779-5cd7-4f98-8e9f-344e9d4dcf46",
   "metadata": {},
   "outputs": [],
   "source": [
    "import datetime\n",
    "import dask.dataframe as dd\n",
    "import geopandas as gpd\n",
    "import pandas as pd\n",
    "from segment_speed_utils import gtfs_schedule_wrangling, helpers, segment_calcs,sched_rt_utils\n",
    "from segment_speed_utils.project_vars import (\n",
    "    COMPILED_CACHED_VIEWS,\n",
    "    PROJECT_CRS,\n",
    "    SEGMENT_GCS,  \n",
    "    analysis_date,\n",
    ")\n",
    "from scripts import (A1_sjoin_vp_segments, A2_valid_vehicle_positions,B2_avg_speeds_by_segment)\n",
    "import _threshold_utils as threshold_utils\n",
    "import _rt_scheduled_utils as rt_scheduled_utils\n",
    "CONFIG_PATH = './scripts/config.yml'\n",
    "STOP_SEG_DICT = helpers.get_parameters(CONFIG_PATH, \"stop_segments\")"
   ]
  },
  {
   "cell_type": "code",
   "execution_count": null,
   "id": "6305e1fd-3383-4960-baa2-db169e86033d",
   "metadata": {},
   "outputs": [],
   "source": [
    "pd.options.display.max_columns = 100\n",
    "pd.options.display.float_format = \"{:.2f}\".format\n",
    "pd.set_option(\"display.max_rows\", None)\n",
    "pd.set_option(\"display.max_colwidth\", None)"
   ]
  },
  {
   "cell_type": "code",
   "execution_count": null,
   "id": "180482d2-f3c3-4577-8558-54bfab8a9768",
   "metadata": {},
   "outputs": [],
   "source": [
    "analysis_date"
   ]
  },
  {
   "cell_type": "code",
   "execution_count": null,
   "id": "ec7d196d-3dd3-445b-bd8a-9daf48fa5a88",
   "metadata": {},
   "outputs": [],
   "source": [
    "dictionary = helpers.get_parameters(CONFIG_PATH, \"stop_segments\")"
   ]
  },
  {
   "cell_type": "markdown",
   "id": "d35de724-b1b8-4d91-a37d-f4aa06120777",
   "metadata": {
    "tags": []
   },
   "source": [
    "## % of Meters\n",
    "* start with the speeds_stop_segments_{analysis_date} parquet (which is produced in B1_speeds_by_segment_trip ).\n",
    "* grab in stop_segments_{analysis_date} (in CRS 3310 already), and you can get the segment's length.\n",
    "* merge with the speeds by segment-trip, which contains the meters_elapsed column\n",
    "* calculate pct where meters_elapsed/segment_length\n",
    "* show me some charts around this, a couple of descriptives to make sure these are all ok\n",
    "* give me rough descriptives of how many rows we're dropping if we go with keeping at least 30%, 40%, 50%"
   ]
  },
  {
   "cell_type": "code",
   "execution_count": null,
   "id": "62548e77-825c-4ed3-9f90-05a07e0fab82",
   "metadata": {},
   "outputs": [],
   "source": [
    "def import_speeds_segs(analysis_date:str, \n",
    "                       max_speed_cutoff: int, \n",
    "                       dict_inputs:dict)-> pd.DataFrame:\n",
    "    FILE = dict_inputs['stage4']\n",
    "    df = pd.read_parquet(f\"{SEGMENT_GCS}{FILE}_{analysis_date}\", \n",
    "        filters = [[(\"speed_mph\", \"<=\", max_speed_cutoff)]])\n",
    "    return df"
   ]
  },
  {
   "cell_type": "code",
   "execution_count": null,
   "id": "c90ac266-38ca-4e94-ab25-68ee40829605",
   "metadata": {},
   "outputs": [],
   "source": [
    "def load_segments(analysis_date:str, dict_inputs:dict) -> gpd.GeoDataFrame:\n",
    "    # Load in ALL segments, find the length\n",
    "    FILE = dict_inputs['segments_file']\n",
    "    segments = gpd.read_parquet(f\"{SEGMENT_GCS}{FILE}_{analysis_date}.parquet\")\n",
    "    \n",
    "    return segments"
   ]
  },
  {
   "cell_type": "code",
   "execution_count": null,
   "id": "71eecb32-4d8d-4691-aad5-c3336028edb5",
   "metadata": {},
   "outputs": [],
   "source": [
    "segments_gdf = load_segments(analysis_date, dictionary)"
   ]
  },
  {
   "cell_type": "code",
   "execution_count": null,
   "id": "e6a02583-9356-4fce-bb05-96eb47716650",
   "metadata": {},
   "outputs": [],
   "source": [
    "speeds = import_speeds_segs(analysis_date,70,  dictionary)"
   ]
  },
  {
   "cell_type": "code",
   "execution_count": null,
   "id": "9527de7c-e540-431d-a4a6-ed701a323236",
   "metadata": {},
   "outputs": [],
   "source": [
    "def calculate_segment_length(segments:gpd.GeoDataFrame) -> gpd.GeoDataFrame:\n",
    "    \"\"\"\n",
    "    Find the length of segments\n",
    "    \"\"\"\n",
    "    segments = segments.assign(\n",
    "        meters_length=(segments.geometry.length)\n",
    "    )\n",
    "    #df = segments.drop(columns = ['geometry','district','district_name'])\n",
    "    \n",
    "    return segments"
   ]
  },
  {
   "cell_type": "code",
   "execution_count": null,
   "id": "961e15dc-1c07-411f-92be-785721b7d67e",
   "metadata": {},
   "outputs": [],
   "source": [
    "def merge_segments_speeds(speeds: pd.DataFrame,\n",
    "                          segments:gpd.GeoDataFrame, \n",
    "                          ) -> pd.DataFrame:\n",
    "    \"\"\"\n",
    "    Merge speeds and segments, calculate length.\n",
    "    \"\"\"\n",
    "    segments = calculate_segment_length(segments)\n",
    "    \n",
    "    merge_cols = ['shape_array_key','stop_sequence','schedule_gtfs_dataset_key']\n",
    "    merge1 = pd.merge(segments, speeds, on = merge_cols, how = \"inner\")\n",
    "    \n",
    "    merge1['percent'] = merge1.meters_elapsed/merge1.meters_length * 100\n",
    "    \n",
    "    merge1.percent = merge1.percent.fillna(0)\n",
    "    return merge1"
   ]
  },
  {
   "cell_type": "code",
   "execution_count": null,
   "id": "74f1e548-55d3-4c0a-b40d-2abca4e546f5",
   "metadata": {},
   "outputs": [],
   "source": [
    "m1 = merge_segments_speeds(speeds, segments_gdf)"
   ]
  },
  {
   "cell_type": "markdown",
   "id": "1483859e-bd07-4d5f-b86f-0f9d7bebe121",
   "metadata": {
    "tags": []
   },
   "source": [
    "## Visualizing Speed\n",
    "* https://nbviewer.org/github/cal-itp/data-analyses/blob/filter-speeds-avgs/rt_segment_speeds/18_speed_distribution.ipynb\n",
    "* https://analysis.calitp.org/rt/district_07-los-angeles/9__speedmaps__district_07-los-angeles__itp_id_300.html"
   ]
  },
  {
   "cell_type": "code",
   "execution_count": null,
   "id": "293651d3-775f-4f46-86b6-1ea155bb3bc6",
   "metadata": {},
   "outputs": [],
   "source": [
    "def myround(x, base=5):\n",
    "    return base * round(x/base)"
   ]
  },
  {
   "cell_type": "code",
   "execution_count": null,
   "id": "d7737449-92b0-417e-ad76-fceb20e9403e",
   "metadata": {},
   "outputs": [],
   "source": [
    "def valid_trips_by_cutoff(df, percentages:list):\n",
    "    \"\"\"\n",
    "    Returns a table of how many trips/routes/operators/etc are kept \n",
    "    after applying a certain percentile cutoff for the \n",
    "    length of segment that's covered.\n",
    "    \n",
    "    Ex: if a segment has 40% of its length covered in RT \n",
    "    data, it falls in the 20th percentile.\n",
    "    \n",
    "    Args:\n",
    "        df: result from  merge_segments_speeds(speeds, segments_gdf)\n",
    "        percentages: the percentiles in floats like 0.2, 0.25, 0.3\n",
    "    \"\"\"\n",
    "    final = pd.DataFrame()\n",
    "    og_len = len(df)\n",
    "    og_trips = df.trip_id.nunique()\n",
    "    og_shape_array_key = df.shape_array_key.nunique()\n",
    "    \n",
    "    for i in percentages:\n",
    "        # Round up percent to nearest 5. Ex: 43 becomes 45.\n",
    "        percent = myround(df.percent.quantile(i).astype(float))\n",
    "        temp = (df[(df.percent >= percent)])\n",
    "        \n",
    "        temp = temp.assign(\n",
    "            percentile = f\"Min. of {percent}% of seg length covered\")\n",
    "        \n",
    "        temp = (temp\n",
    "                .groupby(['percentile'])\n",
    "                .agg({'gtfs_dataset_name':'count',\n",
    "                      'speed_mph':'mean',\n",
    "                      'shape_array_key':'nunique',\n",
    "                      'trip_id':'nunique',\n",
    "                      'gtfs_dataset_key':'nunique'})\n",
    "                .reset_index()\n",
    "                .rename(columns = {'gtfs_dataset_name':'n_rows',\n",
    "                                  'speed_mph':'mean_speed_mph',\n",
    "                                  'shape_array_key':'n_kept_routes',\n",
    "                                  'trip_id':'n_kept_trips',\n",
    "                                  'gtfs_dataset_key':'n_kept_operators'})\n",
    "               )\n",
    "        \n",
    "        final = pd.concat([final, temp], axis=0)\n",
    "\n",
    "    \n",
    "    final = final.assign(\n",
    "        percentage_kept_rows=final.n_rows.divide(og_len) * 100,\n",
    "        percentage_kept_trips = final.n_kept_trips.divide(og_trips) * 100,\n",
    "        percentage_kept_routes = final.n_kept_routes.divide(og_shape_array_key)*100)\n",
    "    \n",
    "    round_cols = ['percentage_kept_rows', 'percentage_kept_trips', 'percentage_kept_routes']\n",
    "    final[round_cols] = final[round_cols].round(0)\n",
    "    return final"
   ]
  },
  {
   "cell_type": "markdown",
   "id": "938e5d67-7fd0-4d62-af9d-0f26d08f12ed",
   "metadata": {},
   "source": [
    "### % of rows kept"
   ]
  },
  {
   "cell_type": "code",
   "execution_count": null,
   "id": "02da2cef-c921-4d79-856b-a797f715b7ed",
   "metadata": {},
   "outputs": [],
   "source": [
    "test = valid_trips_by_cutoff(m1, [.1,.2,.3,.4,.5,.6,.7])"
   ]
  },
  {
   "cell_type": "code",
   "execution_count": null,
   "id": "561eb328-18d5-4b2a-bd1e-4777b23b765c",
   "metadata": {},
   "outputs": [],
   "source": [
    "test = threshold_utils.pre_clean(test)"
   ]
  },
  {
   "cell_type": "code",
   "execution_count": null,
   "id": "4e049588-bb4b-4e00-ac0c-d4f836cac1e0",
   "metadata": {},
   "outputs": [],
   "source": [
    "test"
   ]
  },
  {
   "cell_type": "code",
   "execution_count": null,
   "id": "65d0b237-544f-4245-9de0-f2308ae8c8f2",
   "metadata": {},
   "outputs": [],
   "source": [
    "# Main chart\n",
    "def bar_chart(df, x_column: str, y_column:str, title:str):\n",
    "    chart = (alt.Chart(df)\n",
    "         .mark_bar()\n",
    "         .encode(x=x_column, y= y_column, \n",
    "          color=alt.Color(y_column, \n",
    "          scale=alt.Scale(range=cp.CALITP_CATEGORY_BRIGHT_COLORS),\n",
    "          legend=None),\n",
    "          tooltip = df.columns.tolist())\n",
    "         .properties(title = title)\n",
    "            )\n",
    "    chart = threshold_utils.chart_size((chart), 400,300)\n",
    "    return chart\n",
    "    "
   ]
  },
  {
   "cell_type": "code",
   "execution_count": null,
   "id": "4c8a453f-e38f-4a37-9a3e-06f8069f7dca",
   "metadata": {},
   "outputs": [],
   "source": [
    "bar_chart(test, 'Percentage Kept Rows','Percentile', 'Rows Kept After % Segment Cutoff')"
   ]
  },
  {
   "cell_type": "markdown",
   "id": "508cf5a1-bc2c-4fb8-904f-62cfc19fc04f",
   "metadata": {
    "tags": []
   },
   "source": [
    "## Edited B2 function"
   ]
  },
  {
   "cell_type": "code",
   "execution_count": null,
   "id": "5355132e-988c-40f0-8648-afaf5fe9b026",
   "metadata": {},
   "outputs": [],
   "source": [
    "avg_test = B2_avg_speeds_by_segment.speeds_with_segment_geom(analysis_date, \n",
    "                                    70, \n",
    "                                    dictionary,\n",
    "                                    0.40)"
   ]
  },
  {
   "cell_type": "code",
   "execution_count": null,
   "id": "781ca8a6-50dd-4257-9919-a9c9ddc1019f",
   "metadata": {},
   "outputs": [],
   "source": [
    "STG5_FILE = dictionary['stage5']\n",
    "og_avg = gpd.read_parquet(f\"{SEGMENT_GCS}{STG5_FILE}_{analysis_date}.parquet\")"
   ]
  },
  {
   "cell_type": "code",
   "execution_count": null,
   "id": "0f29bc9a-8c99-468d-8f72-fd553b18d67f",
   "metadata": {},
   "outputs": [],
   "source": [
    "# See unique stops-keys-routes. They should have no more than 2.\n",
    "avg_test.groupby(['shape_array_key','schedule_gtfs_dataset_key','stop_sequence']).agg({'district':'count'}).sort_values('district', ascending = False).head()"
   ]
  },
  {
   "cell_type": "code",
   "execution_count": null,
   "id": "e761f21e-6e0e-466f-878e-a72aa15d7b19",
   "metadata": {},
   "outputs": [],
   "source": [
    "og_avg.shape"
   ]
  },
  {
   "cell_type": "code",
   "execution_count": null,
   "id": "da0ccf1f-29b2-4374-a8aa-99d7a59256e3",
   "metadata": {},
   "outputs": [],
   "source": [
    "# 261593 w dropping dups at the end\n",
    "avg_test.shape"
   ]
  },
  {
   "cell_type": "code",
   "execution_count": null,
   "id": "4c3520e1-7fcb-403a-8cb6-e3f3bda600ab",
   "metadata": {},
   "outputs": [],
   "source": [
    "len(avg_test)-len(og_avg)"
   ]
  },
  {
   "cell_type": "markdown",
   "id": "d9cbd71c-ff9d-49f4-a522-0150d3721da7",
   "metadata": {},
   "source": [
    "## Checks"
   ]
  },
  {
   "cell_type": "markdown",
   "id": "d46dc2db-7e09-49bc-b377-f2b8951368fe",
   "metadata": {},
   "source": [
    "### Seeing why some  rows were cut"
   ]
  },
  {
   "cell_type": "code",
   "execution_count": null,
   "id": "cf785834-77e8-4bec-a5bf-bed0e28700a7",
   "metadata": {},
   "outputs": [],
   "source": [
    "def look_at_missing_row(shape, sequence):\n",
    "    display(og_avg.loc[(og_avg.shape_array_key == shape) & (og_avg.stop_sequence == sequence)].drop(columns = ['geometry']))\n",
    "    display(m1.loc[(m1.shape_array_key == shape) & (m1.stop_sequence == sequence)][['percent', 'speed_mph']])\n",
    "    display(avg_test.loc[(avg_test.shape_array_key == shape) & (avg_test.stop_sequence == sequence)].drop(columns = ['geometry']))"
   ]
  },
  {
   "cell_type": "code",
   "execution_count": null,
   "id": "36df3455-9c3d-4d83-a1f7-5bdfa28346e2",
   "metadata": {},
   "outputs": [],
   "source": [
    "missing_shape2  = \"4d006755475d7c2a03c525995311ec16\"\n",
    "missing_stop_seq2 = 29"
   ]
  },
  {
   "cell_type": "code",
   "execution_count": null,
   "id": "858be18b-4fa7-4f22-beb2-a52ada384b87",
   "metadata": {},
   "outputs": [],
   "source": [
    "look_at_missing_row(missing_shape2, missing_stop_seq2)"
   ]
  },
  {
   "cell_type": "markdown",
   "id": "efaca354-73ae-419d-bea2-2edc7d773a0c",
   "metadata": {
    "tags": []
   },
   "source": [
    "## Comparison between `avg_test` and the original file."
   ]
  },
  {
   "cell_type": "code",
   "execution_count": null,
   "id": "ea7a964d-ae0e-40b6-b8ec-b8059d93c855",
   "metadata": {},
   "outputs": [],
   "source": [
    "# Results from original script\n",
    "rt_segs_agg = (og_avg\n",
    "            .groupby(['shape_array_key','schedule_gtfs_dataset_key'])\n",
    "            .agg({'stop_sequence':'nunique'})\n",
    "            .reset_index()\n",
    "            .rename(columns = {'stop_sequence':'total_stops'})\n",
    "            .add_prefix('og_')\n",
    "           )"
   ]
  },
  {
   "cell_type": "code",
   "execution_count": null,
   "id": "11415d26-28cf-4c0f-9ba5-402df7bb88a2",
   "metadata": {},
   "outputs": [],
   "source": [
    "# My test after filtering but adding back in cut rows\n",
    "avg_test_agg = (avg_test\n",
    "            .groupby(['shape_array_key','schedule_gtfs_dataset_key'])\n",
    "            .agg({'stop_sequence':'nunique'})\n",
    "            .reset_index()\n",
    "            .rename(columns = {'stop_sequence':'total_stops'})\n",
    "            .add_prefix('testing_')\n",
    "           )"
   ]
  },
  {
   "cell_type": "code",
   "execution_count": null,
   "id": "7e468c16-2d41-4b8c-9e1d-d45beec22805",
   "metadata": {},
   "outputs": [],
   "source": [
    "avg_test_agg.shape, rt_segs_agg.shape"
   ]
  },
  {
   "cell_type": "code",
   "execution_count": null,
   "id": "03e20331-bd79-4d2b-ac1f-1d889b8d1651",
   "metadata": {},
   "outputs": [],
   "source": [
    "m1 = (pd\n",
    "      .merge(rt_segs_agg, avg_test_agg, \n",
    "             left_on = ['og_shape_array_key', 'og_schedule_gtfs_dataset_key'],\n",
    "             right_on = ['testing_shape_array_key', 'testing_schedule_gtfs_dataset_key'], \n",
    "             how = 'outer', indicator = True)\n",
    "     )"
   ]
  },
  {
   "cell_type": "code",
   "execution_count": null,
   "id": "4e6d3967-6b60-44ce-8c42-fab450f217a0",
   "metadata": {},
   "outputs": [],
   "source": [
    "m1['total_thrown_out_stops'] = m1.og_total_stops - m1.testing_total_stops"
   ]
  },
  {
   "cell_type": "code",
   "execution_count": null,
   "id": "af8fff18-a703-4bcf-a398-c318d419abff",
   "metadata": {},
   "outputs": [],
   "source": [
    "m1.sample(3)"
   ]
  },
  {
   "cell_type": "code",
   "execution_count": null,
   "id": "d83cefa9-b005-4170-93d9-78e58bdf562d",
   "metadata": {},
   "outputs": [],
   "source": [
    "m1._merge.value_counts()"
   ]
  },
  {
   "cell_type": "code",
   "execution_count": null,
   "id": "33aa075a-74e0-4538-be13-f9b0ec78f55b",
   "metadata": {},
   "outputs": [],
   "source": [
    "m1.total_thrown_out_stops.describe()"
   ]
  },
  {
   "cell_type": "code",
   "execution_count": null,
   "id": "c2e56be6-c05e-4f3f-9bd7-6ca5fad3c354",
   "metadata": {},
   "outputs": [],
   "source": [
    "m1.loc[m1.total_thrown_out_stops < -40]"
   ]
  },
  {
   "cell_type": "code",
   "execution_count": null,
   "id": "a94a7b84-5fb7-44bb-864c-53b6b4fff297",
   "metadata": {
    "scrolled": true,
    "tags": []
   },
   "outputs": [],
   "source": [
    "# avg_test.loc[avg_test.shape_array_key == \"c8b41fafd9be5e579ad230bd28f74d17\"].drop(columns = ['geometry'])"
   ]
  },
  {
   "cell_type": "code",
   "execution_count": null,
   "id": "fa8df5c7-0213-4471-b228-d5dcc066ef88",
   "metadata": {},
   "outputs": [],
   "source": [
    "# og_avg.loc[og_avg.shape_array_key == \"c8b41fafd9be5e579ad230bd28f74d17\"].drop(columns = ['geometry'])"
   ]
  },
  {
   "cell_type": "code",
   "execution_count": null,
   "id": "5e139e69-87a2-412b-a2bd-83b7dc05ecad",
   "metadata": {
    "scrolled": true,
    "tags": []
   },
   "outputs": [],
   "source": [
    "# merge1.loc[merge1.shape_array_key == \"c8b41fafd9be5e579ad230bd28f74d17\"][['stop_sequence','meters_elapsed','sec_elapsed','speed_mph','percent']].sort_values(by = ['stop_sequence'])"
   ]
  },
  {
   "cell_type": "markdown",
   "id": "ad49a707-454e-42e4-99e1-56c1d692dc45",
   "metadata": {},
   "source": [
    "### Seeing all the sequences thrown out"
   ]
  },
  {
   "cell_type": "code",
   "execution_count": null,
   "id": "493c2364-2032-495f-b628-7b21b5a29f5c",
   "metadata": {},
   "outputs": [],
   "source": [
    "merge_cols = ['shape_array_key', 'stop_sequence', 'schedule_gtfs_dataset_key',\n",
    "       'stop_id', 'loop_or_inlining']"
   ]
  },
  {
   "cell_type": "code",
   "execution_count": null,
   "id": "d35823ea-60d4-49b9-8d69-f2c5910a01ea",
   "metadata": {},
   "outputs": [],
   "source": [
    "subset = ['shape_array_key', 'stop_sequence', 'schedule_gtfs_dataset_key',\n",
    "       'stop_id', 'loop_or_inlining', 'p50_mph', 'n_trips',\n",
    "       'p20_mph', 'p80_mph', 'time_of_day']"
   ]
  },
  {
   "cell_type": "code",
   "execution_count": null,
   "id": "028e98e1-7562-40a2-95fe-c96b0cb9e7b4",
   "metadata": {},
   "outputs": [],
   "source": [
    "og_avg2 = og_avg[subset]"
   ]
  },
  {
   "cell_type": "code",
   "execution_count": null,
   "id": "8140abe5-321d-4dbe-8fd6-0c64c477a99b",
   "metadata": {},
   "outputs": [],
   "source": [
    "og_avg2.shape"
   ]
  },
  {
   "cell_type": "code",
   "execution_count": null,
   "id": "977a07a0-83f3-4bbd-b56a-350b2c4ce089",
   "metadata": {},
   "outputs": [],
   "source": [
    "avg_test2 = avg_test[subset]"
   ]
  },
  {
   "cell_type": "code",
   "execution_count": null,
   "id": "d519c382-3e3a-44ae-ad20-a65460810f8c",
   "metadata": {},
   "outputs": [],
   "source": [
    "avg_test2.shape"
   ]
  },
  {
   "cell_type": "code",
   "execution_count": null,
   "id": "b50d758b-a746-4bff-8216-58af01bf5732",
   "metadata": {},
   "outputs": [],
   "source": [
    "m2 = pd.merge(og_avg2, avg_test2, on = merge_cols, how = 'outer', indicator = True)"
   ]
  },
  {
   "cell_type": "code",
   "execution_count": null,
   "id": "0cdc56b2-3cee-4e4a-a008-6bafb8ca74af",
   "metadata": {},
   "outputs": [],
   "source": [
    "m2._merge.value_counts()"
   ]
  },
  {
   "cell_type": "markdown",
   "id": "29242201-e6eb-42c2-b009-80d1dd736837",
   "metadata": {},
   "source": [
    "### Seeing which routes were thrown out"
   ]
  },
  {
   "cell_type": "code",
   "execution_count": null,
   "id": "0f3c2f89-21a1-4c42-ac8f-2e41a539e69b",
   "metadata": {},
   "outputs": [],
   "source": [
    "og_routes = set(og_avg.shape_array_key.unique().tolist())\n",
    "test_routes = set(avg_test.shape_array_key.unique().tolist())\n",
    "\n",
    "new_routes = list(test_routes - og_routes)"
   ]
  },
  {
   "cell_type": "code",
   "execution_count": null,
   "id": "bee774f7-dd83-4dec-8942-a63f4fca7f8a",
   "metadata": {},
   "outputs": [],
   "source": [
    "new_routes"
   ]
  },
  {
   "cell_type": "code",
   "execution_count": null,
   "id": "92018efc-60d4-40a5-bf07-38b0d3965edb",
   "metadata": {},
   "outputs": [],
   "source": [
    "new_routes_df = avg_test.loc[avg_test.shape_array_key.isin(new_routes)]"
   ]
  },
  {
   "cell_type": "code",
   "execution_count": null,
   "id": "ae1e3c04-f39e-4952-aeeb-ff02392c3263",
   "metadata": {},
   "outputs": [],
   "source": [
    "new_routes_df.shape_array_key.nunique()"
   ]
  },
  {
   "cell_type": "code",
   "execution_count": null,
   "id": "dd7cabb9-8a4f-43a6-b6a8-57903ed48e58",
   "metadata": {},
   "outputs": [],
   "source": [
    "new_routes_df.shape"
   ]
  },
  {
   "cell_type": "code",
   "execution_count": null,
   "id": "83a84d50-addd-4856-b5df-7ba8564dce95",
   "metadata": {},
   "outputs": [],
   "source": [
    "new_routes_df.drop(columns = ['geometry'])"
   ]
  },
  {
   "cell_type": "code",
   "execution_count": null,
   "id": "bd356d5c-04d5-4342-89d5-2045bd14827d",
   "metadata": {},
   "outputs": [],
   "source": [
    "type(new_routes_df)"
   ]
  },
  {
   "cell_type": "code",
   "execution_count": null,
   "id": "0e6f9f2a-bc70-414a-a8f1-442bbbad3d66",
   "metadata": {},
   "outputs": [],
   "source": [
    "new_routes_df.explore('shape_array_key')"
   ]
  }
 ],
 "metadata": {
  "kernelspec": {
   "display_name": "Python 3 (ipykernel)",
   "language": "python",
   "name": "python3"
  },
  "language_info": {
   "codemirror_mode": {
    "name": "ipython",
    "version": 3
   },
   "file_extension": ".py",
   "mimetype": "text/x-python",
   "name": "python",
   "nbconvert_exporter": "python",
   "pygments_lexer": "ipython3",
   "version": "3.9.13"
  },
  "toc-autonumbering": false,
  "toc-showcode": false
 },
 "nbformat": 4,
 "nbformat_minor": 5
}
