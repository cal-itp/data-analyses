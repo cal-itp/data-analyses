{
 "cells": [
  {
   "cell_type": "code",
   "execution_count": null,
   "id": "3d2ca779-5cd7-4f98-8e9f-344e9d4dcf46",
   "metadata": {},
   "outputs": [],
   "source": [
    "import datetime\n",
    "import dask.dataframe as dd\n",
    "import numpy as np\n",
    "import geopandas as gpd\n",
    "import pandas as pd\n",
    "import altair as alt\n",
    "from segment_speed_utils import gtfs_schedule_wrangling, helpers, segment_calcs,sched_rt_utils\n",
    "from segment_speed_utils.project_vars import (\n",
    "    COMPILED_CACHED_VIEWS,\n",
    "    PROJECT_CRS,\n",
    "    SEGMENT_GCS,  \n",
    "    analysis_date,\n",
    ")\n",
    "from scripts import (A1_sjoin_vp_segments, A2_valid_vehicle_positions,B2_avg_speeds_by_segment)\n",
    "from shared_utils import calitp_color_palette as cp, rt_utils, geography_utils\n",
    "import _threshold_utils as threshold_utils\n",
    "import _rt_scheduled_utils as rt_scheduled_utils\n",
    "CONFIG_PATH = './scripts/config.yml'\n",
    "STOP_SEG_DICT = helpers.get_parameters(CONFIG_PATH, \"stop_segments\")"
   ]
  },
  {
   "cell_type": "code",
   "execution_count": null,
   "id": "6305e1fd-3383-4960-baa2-db169e86033d",
   "metadata": {},
   "outputs": [],
   "source": [
    "pd.options.display.max_columns = 100\n",
    "pd.options.display.float_format = \"{:.2f}\".format\n",
    "pd.set_option(\"display.max_rows\", None)\n",
    "pd.set_option(\"display.max_colwidth\", None)"
   ]
  },
  {
   "cell_type": "code",
   "execution_count": null,
   "id": "180482d2-f3c3-4577-8558-54bfab8a9768",
   "metadata": {},
   "outputs": [],
   "source": [
    "analysis_date"
   ]
  },
  {
   "cell_type": "markdown",
   "id": "d35de724-b1b8-4d91-a37d-f4aa06120777",
   "metadata": {
    "tags": []
   },
   "source": [
    "## % of Meters\n",
    "* start with the speeds_stop_segments_{analysis_date} parquet (which is produced in B1_speeds_by_segment_trip ).\n",
    "* grab in stop_segments_{analysis_date} (in CRS 3310 already), and you can get the segment's length.\n",
    "* merge with the speeds by segment-trip, which contains the meters_elapsed column\n",
    "* calculate pct where meters_elapsed/segment_length\n",
    "* show me some charts around this, a couple of descriptives to make sure these are all ok\n",
    "* give me rough descriptives of how many rows we're dropping if we go with keeping at least 30%, 40%, 50%"
   ]
  },
  {
   "cell_type": "markdown",
   "id": "c6c7cedd-6da8-4888-83da-c52003d6ea35",
   "metadata": {},
   "source": [
    "### Open these files just for testing"
   ]
  },
  {
   "cell_type": "code",
   "execution_count": null,
   "id": "62548e77-825c-4ed3-9f90-05a07e0fab82",
   "metadata": {},
   "outputs": [],
   "source": [
    "def import_speeds_segs(analysis_date:str, \n",
    "                       max_speed_cutoff: int, \n",
    "                       dict_inputs:dict)-> pd.DataFrame:\n",
    "    FILE = dict_inputs['stage4']\n",
    "    df = pd.read_parquet(f\"{SEGMENT_GCS}{FILE}_{analysis_date}\", \n",
    "        filters = [[(\"speed_mph\", \"<=\", max_speed_cutoff), \n",
    "                    (\"sec_elapsed\", \">\", 0), \n",
    "                    (\"meters_elapsed\", \">\", 0)\n",
    "                   ]])\n",
    "    \n",
    "    return df"
   ]
  },
  {
   "cell_type": "code",
   "execution_count": null,
   "id": "c90ac266-38ca-4e94-ab25-68ee40829605",
   "metadata": {},
   "outputs": [],
   "source": [
    "def load_segments(analysis_date:str, dict_inputs:dict) -> gpd.GeoDataFrame:\n",
    "    # Load in ALL segments, find the length\n",
    "    FILE = dict_inputs['segments_file']\n",
    "    segments = gpd.read_parquet(f\"{SEGMENT_GCS}{FILE}_{analysis_date}.parquet\")\n",
    "    \n",
    "    return segments"
   ]
  },
  {
   "cell_type": "markdown",
   "id": "9daf292e-e8d8-4813-86c9-7a09fc035c4a",
   "metadata": {
    "tags": []
   },
   "source": [
    "## Sample segments and routes for Big Blue Bus"
   ]
  },
  {
   "cell_type": "code",
   "execution_count": null,
   "id": "edbaac05-d03a-42d4-abba-4a4483fa3005",
   "metadata": {},
   "outputs": [],
   "source": [
    "test_operator = \"Big Blue Bus VehiclePositions\"\n",
    "test_org = \"City of Santa Monica\"\n",
    "test_key = \"6c2d7daaf979779fa2089c6395baf98b\""
   ]
  },
  {
   "cell_type": "code",
   "execution_count": null,
   "id": "9c7826f6-27ed-498f-97b8-ee0f4c2a992a",
   "metadata": {},
   "outputs": [],
   "source": [
    "pub_df = pd.read_parquet(\n",
    "    f\"{SEGMENT_GCS}export/avg_speeds_stop_segments_{analysis_date}_tabular.parquet\", \n",
    "    filters = [[(\"agency\", \"==\", test_org)]]\n",
    ")"
   ]
  },
  {
   "cell_type": "code",
   "execution_count": null,
   "id": "288a9881-aa75-4331-9c4c-e01c3954fafe",
   "metadata": {},
   "outputs": [],
   "source": [
    "# Dark orange\n",
    "shape_id1  = \"26375\"\n",
    "stop_seq1 = 7\n",
    "shape_array1 = pub_df[pub_df.shape_id==shape_id1].shape_array_key.iloc[0]"
   ]
  },
  {
   "cell_type": "code",
   "execution_count": null,
   "id": "05465822-ff34-47cb-ac43-2d11e12e3494",
   "metadata": {},
   "outputs": [],
   "source": [
    "# Light yellow \n",
    "shape_id2 = \"26342\"\n",
    "stop_seq2 = 23\n",
    "shape_array2 = pub_df[pub_df.shape_id==shape_id2].shape_array_key.iloc[0]"
   ]
  },
  {
   "cell_type": "code",
   "execution_count": null,
   "id": "d1315d79-276d-4810-9593-07e8770f67ba",
   "metadata": {},
   "outputs": [],
   "source": [
    "# Dark Red\n",
    "shape_id3 = \"26393\"\n",
    "stop_seq3 = 32\n",
    "shape_array3 = pub_df[pub_df.shape_id==shape_id3].shape_array_key.iloc[0]"
   ]
  },
  {
   "cell_type": "code",
   "execution_count": null,
   "id": "d163d014-0e76-41ef-813f-ff2617077249",
   "metadata": {},
   "outputs": [],
   "source": [
    "# Light orange\n",
    "shape_id4 = \"26372\"\n",
    "stop_seq4 = 14\n",
    "shape_array4 = pub_df[pub_df.shape_id==shape_id4].shape_array_key.iloc[0]"
   ]
  },
  {
   "cell_type": "code",
   "execution_count": null,
   "id": "d946f239-b242-4a3e-95f6-580690e245b7",
   "metadata": {},
   "outputs": [],
   "source": [
    "# Green\n",
    "shape_id5 = \"26400\"\n",
    "stop_seq5= 8\n",
    "shape_array5 = pub_df[pub_df.shape_id==shape_id5].shape_array_key.iloc[0]"
   ]
  },
  {
   "cell_type": "code",
   "execution_count": null,
   "id": "ec9da438-07d4-45ef-85c1-fc44d6eaadbf",
   "metadata": {},
   "outputs": [],
   "source": [
    "def one_route_map(avg_speeds:gpd.GeoDataFrame, shape_array_key:str):\n",
    "    display(avg_speeds[avg_speeds.shape_array_key==shape_array_key].explore(\n",
    "    \"p50_mph\", \n",
    "    tiles = \"CartoDB Positron\",\n",
    "    cmap = rt_utils.ZERO_THIRTY_COLORSCALE,\n",
    "    style_kwds = {'weight':5}))\n",
    "    "
   ]
  },
  {
   "cell_type": "markdown",
   "id": "857ab4ad-1dde-4c65-bd88-99696ab9f478",
   "metadata": {},
   "source": [
    "## Open Files\n",
    "* Add `import_speeds_segs`,`calculate_segment_length`,`merge_segments_speeds` into `B2`"
   ]
  },
  {
   "cell_type": "code",
   "execution_count": null,
   "id": "ec7d196d-3dd3-445b-bd8a-9daf48fa5a88",
   "metadata": {},
   "outputs": [],
   "source": [
    "dictionary = helpers.get_parameters(CONFIG_PATH, \"stop_segments\")"
   ]
  },
  {
   "cell_type": "code",
   "execution_count": null,
   "id": "71eecb32-4d8d-4691-aad5-c3336028edb5",
   "metadata": {},
   "outputs": [],
   "source": [
    "segments_gdf = load_segments(analysis_date, dictionary)"
   ]
  },
  {
   "cell_type": "code",
   "execution_count": null,
   "id": "e6a02583-9356-4fce-bb05-96eb47716650",
   "metadata": {},
   "outputs": [],
   "source": [
    "speeds = import_speeds_segs(analysis_date,70,  dictionary)"
   ]
  },
  {
   "cell_type": "code",
   "execution_count": null,
   "id": "9527de7c-e540-431d-a4a6-ed701a323236",
   "metadata": {},
   "outputs": [],
   "source": [
    "def calculate_segment_length(segments:gpd.GeoDataFrame) -> gpd.GeoDataFrame:\n",
    "    \"\"\"\n",
    "    Find the length of segments\n",
    "    \"\"\"\n",
    "    segments = segments.assign(\n",
    "        meters_length=(segments.geometry.length)\n",
    "    )\n",
    "    df = segments.drop(columns = ['geometry','district','district_name'])\n",
    "    \n",
    "    return df"
   ]
  },
  {
   "cell_type": "code",
   "execution_count": null,
   "id": "961e15dc-1c07-411f-92be-785721b7d67e",
   "metadata": {},
   "outputs": [],
   "source": [
    "def merge_segments_speeds(speeds: pd.DataFrame,\n",
    "                          segments:gpd.GeoDataFrame, \n",
    "                          ) -> pd.DataFrame:\n",
    "    \"\"\"\n",
    "    Merge speeds and segments, calculate length.\n",
    "    \"\"\"\n",
    "    segments = calculate_segment_length(segments)\n",
    "    \n",
    "    merge_cols = ['shape_array_key','stop_sequence','schedule_gtfs_dataset_key']\n",
    "    merge1 = pd.merge(segments, speeds, on = merge_cols, how = \"inner\")\n",
    "    \n",
    "    merge1['percent'] = merge1.meters_elapsed/merge1.meters_length * 100\n",
    "    \n",
    "    merge1.percent = merge1.percent.fillna(0)\n",
    "    return merge1"
   ]
  },
  {
   "cell_type": "code",
   "execution_count": null,
   "id": "0e727efb-8136-4cdc-b9a5-c9bb17bf74cd",
   "metadata": {},
   "outputs": [],
   "source": [
    "merge1 = merge_segments_speeds(speeds, segments_gdf)"
   ]
  },
  {
   "cell_type": "code",
   "execution_count": null,
   "id": "e0d81d69-30b0-47c1-a560-083eaaac5496",
   "metadata": {},
   "outputs": [],
   "source": [
    "def myround(x, base=5):\n",
    "    return base * round(x/base)"
   ]
  },
  {
   "cell_type": "code",
   "execution_count": null,
   "id": "d7737449-92b0-417e-ad76-fceb20e9403e",
   "metadata": {},
   "outputs": [],
   "source": [
    "def valid_trips_by_cutoff(df, percentages:list):\n",
    "    \"\"\"\n",
    "    Returns a table of how many trips/routes/operators/etc are kept \n",
    "    after applying a certain percentile cutoff for the \n",
    "    length of segment that's covered.\n",
    "    \n",
    "    Ex: if a segment has 40% of its length covered in RT \n",
    "    data, it falls in the 20th percentile.\n",
    "    \n",
    "    Args:\n",
    "        df: result from  merge_segments_speeds(speeds, segments_gdf)\n",
    "        percentages: the percentiles in floats like 0.2, 0.25, 0.3\n",
    "    \"\"\"\n",
    "    final = pd.DataFrame()\n",
    "    og_len = len(df)\n",
    "    og_trips = df.trip_id.nunique()\n",
    "    og_shape_array_key = df.shape_array_key.nunique()\n",
    "    \n",
    "    for i in percentages:\n",
    "        # Round up percent to nearest 5. Ex: 43 becomes 45.\n",
    "        percent = myround(df.percent.quantile(i).astype(float))\n",
    "        temp = (df[(df.percent >= percent)])\n",
    "        \n",
    "        temp = temp.assign(\n",
    "            percentile = f\"Min. of {percent}% of seg length covered\")\n",
    "        \n",
    "        temp = (temp\n",
    "                .groupby(['percentile'])\n",
    "                .agg({'gtfs_dataset_name':'count',\n",
    "                      'speed_mph':'mean',\n",
    "                      'shape_array_key':'nunique',\n",
    "                      'trip_id':'nunique',\n",
    "                      'gtfs_dataset_key':'nunique'})\n",
    "                .reset_index()\n",
    "                .rename(columns = {'gtfs_dataset_name':'n_rows',\n",
    "                                  'speed_mph':'mean_speed_mph',\n",
    "                                  'shape_array_key':'n_kept_routes',\n",
    "                                  'trip_id':'n_kept_trips',\n",
    "                                  'gtfs_dataset_key':'n_kept_operators'})\n",
    "               )\n",
    "        \n",
    "        final = pd.concat([final, temp], axis=0)\n",
    "\n",
    "    \n",
    "    final = final.assign(\n",
    "        percentage_kept_rows=final.n_rows.divide(og_len) * 100,\n",
    "        percentage_kept_trips = final.n_kept_trips.divide(og_trips) * 100,\n",
    "        percentage_kept_routes = final.n_kept_routes.divide(og_shape_array_key)*100)\n",
    "    \n",
    "    round_cols = ['percentage_kept_rows', 'percentage_kept_trips', 'percentage_kept_routes']\n",
    "    final[round_cols] = final[round_cols].round(0)\n",
    "    return final"
   ]
  },
  {
   "cell_type": "code",
   "execution_count": null,
   "id": "02da2cef-c921-4d79-856b-a797f715b7ed",
   "metadata": {},
   "outputs": [],
   "source": [
    "test = valid_trips_by_cutoff(merge1, [.1,.2,.3,.4,.5,.6,.7])"
   ]
  },
  {
   "cell_type": "markdown",
   "id": "1483859e-bd07-4d5f-b86f-0f9d7bebe121",
   "metadata": {
    "tags": []
   },
   "source": [
    "## Visualizing Speed\n",
    "* https://nbviewer.org/github/cal-itp/data-analyses/blob/filter-speeds-avgs/rt_segment_speeds/18_speed_distribution.ipynb\n",
    "* https://analysis.calitp.org/rt/district_07-los-angeles/9__speedmaps__district_07-los-angeles__itp_id_300.html"
   ]
  },
  {
   "cell_type": "markdown",
   "id": "938e5d67-7fd0-4d62-af9d-0f26d08f12ed",
   "metadata": {},
   "source": [
    "### % of rows kept"
   ]
  },
  {
   "cell_type": "code",
   "execution_count": null,
   "id": "561eb328-18d5-4b2a-bd1e-4777b23b765c",
   "metadata": {},
   "outputs": [],
   "source": [
    "test = threshold_utils.pre_clean(test)"
   ]
  },
  {
   "cell_type": "code",
   "execution_count": null,
   "id": "4e049588-bb4b-4e00-ac0c-d4f836cac1e0",
   "metadata": {},
   "outputs": [],
   "source": [
    "test"
   ]
  },
  {
   "cell_type": "code",
   "execution_count": null,
   "id": "65d0b237-544f-4245-9de0-f2308ae8c8f2",
   "metadata": {},
   "outputs": [],
   "source": [
    "# Main chart\n",
    "def bar_chart(df, x_column: str, y_column:str, title:str):\n",
    "    chart = (alt.Chart(df)\n",
    "         .mark_bar()\n",
    "         .encode(x=x_column, y= y_column, \n",
    "          color=alt.Color(y_column, \n",
    "          scale=alt.Scale(range=cp.CALITP_CATEGORY_BRIGHT_COLORS),\n",
    "          legend=None),\n",
    "          tooltip = df.columns.tolist())\n",
    "         .properties(title = title)\n",
    "            )\n",
    "    chart = threshold_utils.chart_size((chart), 400,300)\n",
    "    return chart\n",
    "    "
   ]
  },
  {
   "cell_type": "code",
   "execution_count": null,
   "id": "4c8a453f-e38f-4a37-9a3e-06f8069f7dca",
   "metadata": {},
   "outputs": [],
   "source": [
    "bar_chart(test, 'Percentage Kept Rows','Percentile', 'Rows Kept After % Segment Cutoff')"
   ]
  },
  {
   "cell_type": "markdown",
   "id": "508cf5a1-bc2c-4fb8-904f-62cfc19fc04f",
   "metadata": {},
   "source": [
    "### Edited B2 function"
   ]
  },
  {
   "cell_type": "code",
   "execution_count": null,
   "id": "c00cef57-a7f9-474a-8ad2-9719d3d375e8",
   "metadata": {},
   "outputs": [],
   "source": [
    "def speeds_with_segment_geom(\n",
    "    analysis_date: str, \n",
    "    max_speed_cutoff: int = 70,\n",
    "    dict_inputs: dict = {},\n",
    "    percent_segment_covered:float = 0.55,\n",
    ") -> gpd.GeoDataFrame: \n",
    "    \"\"\"\n",
    "    Import the segment-trip table. \n",
    "    Average the speed_mph across all trips present in the segment.\n",
    "    \"\"\"\n",
    "    SEGMENT_FILE = dict_inputs[\"segments_file\"]\n",
    "    SEGMENT_IDENTIFIER_COLS = dict_inputs[\"segment_identifier_cols\"]\n",
    "    SPEEDS_FILE = dict_inputs[\"stage4\"]\n",
    "    \n",
    "    # Load in segment geometry\n",
    "    segments = helpers.import_segments(\n",
    "        SEGMENT_GCS,\n",
    "        f\"{SEGMENT_FILE}_{analysis_date}\",\n",
    "        columns = SEGMENT_IDENTIFIER_COLS + [\n",
    "            \"schedule_gtfs_dataset_key\", \n",
    "            \"stop_id\",\n",
    "            \"loop_or_inlining\",\n",
    "            \"geometry\", \n",
    "            \"district\", \"district_name\"\n",
    "        ]\n",
    "    )\n",
    "    \n",
    "    # CRS is 3310, calculate the length\n",
    "    segments[\"segment_length\"] = segments.geometry.length\n",
    "    \n",
    "    # Read in speeds\n",
    "    df = pd.read_parquet(\n",
    "        f\"{SEGMENT_GCS}{SPEEDS_FILE}_{analysis_date}\"\n",
    "    )\n",
    "    \n",
    "    # Find only unique segments with rt data  before filtering\n",
    "    unique_segments = df[SEGMENT_IDENTIFIER_COLS].drop_duplicates()\n",
    "    \n",
    "    # Do a merge with segments\n",
    "    merge_cols = ['shape_array_key','stop_sequence','schedule_gtfs_dataset_key']\n",
    "    df2 = pd.merge(segments, df, on = merge_cols, how = \"inner\")\n",
    "    \n",
    "    # Find percentage of meters elapsed vs. total segment length\n",
    "    df2 = df2.assign(\n",
    "        pct_seg = df2.meters_elapsed.divide(df2.segment_length)\n",
    "    )\n",
    "    \n",
    "    # Filter out abnormally high and low speeds\n",
    "    # Threshold defaults to throwing away the bottom 20% of rows with low speeds\n",
    "    df3 = df2[(df2.pct_seg >= percent_segment_covered) & (df2.speed_mph.notna()) & \n",
    "              (df2.sec_elapsed > 0) & (df2.meters_elapsed > 0)]\n",
    "    \n",
    "    time_of_day_df = sched_rt_utils.get_trip_time_buckets(analysis_date)\n",
    "\n",
    "    df4 = pd.merge(\n",
    "        df3, \n",
    "        time_of_day_df, \n",
    "        on = \"trip_instance_key\", \n",
    "        how = \"inner\"\n",
    "    )\n",
    "    \n",
    "    all_day = B2_avg_speeds_by_segment.calculate_avg_speeds(\n",
    "        df4, \n",
    "        SEGMENT_IDENTIFIER_COLS\n",
    "    )\n",
    "    peak = B2_avg_speeds_by_segment.calculate_avg_speeds(\n",
    "        df4[df4.time_of_day.isin([\"AM Peak\", \"PM Peak\"])], \n",
    "        SEGMENT_IDENTIFIER_COLS\n",
    "    )\n",
    "    \n",
    "    stats = pd.concat([\n",
    "        all_day.assign(time_of_day = \"all_day\"),\n",
    "        peak.assign(time_of_day = \"peak\")\n",
    "    ], axis=0)\n",
    "    \n",
    "    ## New stuff \n",
    "    # start with segments with geom (scheduled, we have way too many)\n",
    "    # merge against unique_segments (these are present in RT...inner join)...we have geom for segments we care about\n",
    "    # merge against stats (left join)\n",
    "    # Left join to find missing segments not in stats\n",
    "    missing = (pd.merge(unique_segs_with_geo, \n",
    "                        stats, \n",
    "                        on = ['shape_array_key', 'stop_sequence'], \n",
    "                        how = \"left\", \n",
    "                        indicator = True))\n",
    "    \n",
    "    # Grab left only results, which did not show up in the stats df\n",
    "    missing = missing.loc[missing._merge == \"left_only\"].reset_index(drop = True)\n",
    "    missing = missing.drop(columns = ['_merge'])\n",
    "    \n",
    "    # Concat & fill in NA \n",
    "    stats2 = pd.concat([missing, stats])\n",
    "    stats2 = stats2.fillna(stats2.dtypes.replace({'float64': 0.0, 'object': 'None'}))\n",
    "    stats2 = stats2.drop(columns = ['segment_length'])\n",
    "    \n",
    "    # Merge in segment geometry with a changed CRS\n",
    "    segments = segments.to_crs(geography_utils.WGS84)\n",
    "    \n",
    "    gdf = pd.merge(\n",
    "        segments,\n",
    "        stats2,\n",
    "        on = SEGMENT_IDENTIFIER_COLS,\n",
    "        how = \"inner\"\n",
    "    )\n",
    "    \n",
    "    \n",
    "    return gdf"
   ]
  },
  {
   "cell_type": "markdown",
   "id": "04682811-eda1-424f-9a3d-4609f37f5a80",
   "metadata": {},
   "source": [
    "### Check out speeds"
   ]
  },
  {
   "cell_type": "code",
   "execution_count": null,
   "id": "5355132e-988c-40f0-8648-afaf5fe9b026",
   "metadata": {},
   "outputs": [],
   "source": [
    "\n",
    "avg_test = speeds_with_segment_geom(analysis_date, \n",
    "                                    70, \n",
    "                                    dictionary,\n",
    "                                    0.55)"
   ]
  },
  {
   "cell_type": "code",
   "execution_count": null,
   "id": "781ca8a6-50dd-4257-9919-a9c9ddc1019f",
   "metadata": {},
   "outputs": [],
   "source": [
    "STG5_FILE = dictionary['stage5']\n",
    "og_avg = gpd.read_parquet(f\"{SEGMENT_GCS}{STG5_FILE}_{analysis_date}.parquet\")"
   ]
  },
  {
   "cell_type": "code",
   "execution_count": null,
   "id": "0f29bc9a-8c99-468d-8f72-fd553b18d67f",
   "metadata": {},
   "outputs": [],
   "source": [
    "# See unique stops-keys-routes. They should have no more than 2.\n",
    "avg_test.groupby(['shape_array_key','schedule_gtfs_dataset_key','stop_sequence']).agg({'district':'count'}).sort_values('district', ascending = False).head()"
   ]
  },
  {
   "cell_type": "markdown",
   "id": "28f5118e-c273-4094-94aa-d9a8c02b9029",
   "metadata": {},
   "source": [
    "* There are 3000 more rows"
   ]
  },
  {
   "cell_type": "code",
   "execution_count": null,
   "id": "e761f21e-6e0e-466f-878e-a72aa15d7b19",
   "metadata": {},
   "outputs": [],
   "source": [
    "og_avg.shape"
   ]
  },
  {
   "cell_type": "code",
   "execution_count": null,
   "id": "da0ccf1f-29b2-4374-a8aa-99d7a59256e3",
   "metadata": {},
   "outputs": [],
   "source": [
    "avg_test.shape"
   ]
  },
  {
   "cell_type": "markdown",
   "id": "d9cbd71c-ff9d-49f4-a522-0150d3721da7",
   "metadata": {},
   "source": [
    "## Checks"
   ]
  },
  {
   "cell_type": "markdown",
   "id": "d46dc2db-7e09-49bc-b377-f2b8951368fe",
   "metadata": {},
   "source": [
    "### Checking one sequence that was deemed \"missing\""
   ]
  },
  {
   "cell_type": "code",
   "execution_count": null,
   "id": "049cdd28-3bea-4e9d-9d0c-2dd3f357b6db",
   "metadata": {},
   "outputs": [],
   "source": [
    "# Test 3 contains missing sequences that were added back on\n",
    "# From \"add_back_missing_stops\"\n",
    "avg_test.loc[avg_test.time_of_day == 'None'].sample(3).drop(columns = ['geometry'])"
   ]
  },
  {
   "cell_type": "code",
   "execution_count": null,
   "id": "f5544fb9-2a26-4204-a0c1-1b159afb4e27",
   "metadata": {},
   "outputs": [],
   "source": [
    "missing_shape1  = \"609c3fe2d34fe2f239c12f998ae0fdb6\"\n",
    "missing_stop_seq1 = 33"
   ]
  },
  {
   "cell_type": "code",
   "execution_count": null,
   "id": "cf785834-77e8-4bec-a5bf-bed0e28700a7",
   "metadata": {},
   "outputs": [],
   "source": [
    "def look_at_missing_row(shape, sequence):\n",
    "    display(og_avg.loc[(og_avg.shape_array_key == shape) & (og_avg.stop_sequence == sequence)].drop(columns = ['geometry']))\n",
    "    display(merge1.loc[(merge1.shape_array_key == shape) & (merge1.stop_sequence == sequence)][['percent', 'speed_mph']])\n",
    "    display(avg_test.loc[(avg_test.shape_array_key == shape) & (avg_test.stop_sequence == sequence)].drop(columns = ['geometry']))"
   ]
  },
  {
   "cell_type": "code",
   "execution_count": null,
   "id": "c455376a-4488-4aa8-881c-e212592b2af6",
   "metadata": {},
   "outputs": [],
   "source": [
    "look_at_missing_row(missing_shape1, missing_stop_seq1)"
   ]
  },
  {
   "cell_type": "code",
   "execution_count": null,
   "id": "36df3455-9c3d-4d83-a1f7-5bdfa28346e2",
   "metadata": {},
   "outputs": [],
   "source": [
    "missing_shape2  = \"4d006755475d7c2a03c525995311ec16\"\n",
    "missing_stop_seq2 = 29"
   ]
  },
  {
   "cell_type": "code",
   "execution_count": null,
   "id": "858be18b-4fa7-4f22-beb2-a52ada384b87",
   "metadata": {},
   "outputs": [],
   "source": [
    "look_at_missing_row(missing_shape2, missing_stop_seq2)"
   ]
  },
  {
   "cell_type": "markdown",
   "id": "0500731c-63ec-444b-8c2d-405c73d1a43d",
   "metadata": {},
   "source": [
    "### Check using Big Blue Bus"
   ]
  },
  {
   "cell_type": "code",
   "execution_count": null,
   "id": "19bd5cbe-0bc6-4dfd-b6fb-37a307dfb9db",
   "metadata": {},
   "outputs": [],
   "source": [
    "def compare_average(avg_test:pd.DataFrame,\n",
    "                    og_avg:pd.DataFrame, \n",
    "                    shape_array_key:str,\n",
    "                    stop_sequence:int):\n",
    "    \n",
    "    print(f\"route {shape_array_key}, sequence {stop_sequence}\")\n",
    "    drop_cols = ['shape_array_key','stop_sequence']\n",
    "    print('Original')\n",
    "    original = og_avg[(og_avg.shape_array_key == shape_array_key) &(og_avg.stop_sequence == stop_sequence)].drop(columns = drop_cols)\n",
    "    display(original.drop(columns = ['geometry']))\n",
    "    \n",
    "    print('New')\n",
    "    new = avg_test[(avg_test.shape_array_key == shape_array_key) & (avg_test.stop_sequence == stop_sequence)].drop(columns = drop_cols)\n",
    "    display(new.drop(columns = ['geometry']))    \n",
    "    display(new.explore(width = 300, height = 300))"
   ]
  },
  {
   "cell_type": "code",
   "execution_count": null,
   "id": "b6a35555-e9ae-4a34-9f38-f4b3a78917de",
   "metadata": {},
   "outputs": [],
   "source": [
    "og_avg.loc[og_avg.p50_mph != 0].p50_mph.describe()"
   ]
  },
  {
   "cell_type": "code",
   "execution_count": null,
   "id": "09961212-cad7-40ab-bfd9-ff457eaad089",
   "metadata": {},
   "outputs": [],
   "source": [
    "avg_test.loc[avg_test.p50_mph != 0].p50_mph.describe()"
   ]
  },
  {
   "cell_type": "code",
   "execution_count": null,
   "id": "cbbb122d-4a6c-4f23-b377-c9de20924739",
   "metadata": {},
   "outputs": [],
   "source": [
    "# compare_average(avg_test, og_avg, shape_array1, stop_seq1)"
   ]
  },
  {
   "cell_type": "code",
   "execution_count": null,
   "id": "16f98b58-75ae-4a5c-a947-c6a4a58b7644",
   "metadata": {},
   "outputs": [],
   "source": [
    "# compare_average(avg_test, og_avg, shape_array2, stop_seq2)"
   ]
  },
  {
   "cell_type": "markdown",
   "id": "5c797a73-3cb6-46dd-b451-959bb185d762",
   "metadata": {},
   "source": [
    "* Strangely enough, the 50th percentile speed became lower\n",
    "* Sometimes the lower the length, the higher the speed?"
   ]
  },
  {
   "cell_type": "code",
   "execution_count": null,
   "id": "3ede20ec-3d72-4a97-803f-67906eb9b662",
   "metadata": {},
   "outputs": [],
   "source": [
    "# compare_average(avg_test, og_avg, shape_array3, stop_seq3)"
   ]
  },
  {
   "cell_type": "code",
   "execution_count": null,
   "id": "ea2fd667-8e2e-43be-9015-81f0d066d834",
   "metadata": {
    "scrolled": true,
    "tags": []
   },
   "outputs": [],
   "source": [
    "# merge1.loc[(merge1.shape_array_key == shape_array3) & (merge1.stop_sequence == stop_seq3)][merge1_preview_cols].sort_values(['percent'])"
   ]
  },
  {
   "cell_type": "markdown",
   "id": "a37b765b-1d23-4e69-8959-474289814ac7",
   "metadata": {},
   "source": [
    "* This is missing because the only row that was non-zero only covered 27% of the length\n",
    "* Maybe up the threshold?"
   ]
  },
  {
   "cell_type": "code",
   "execution_count": null,
   "id": "13a5f252-5bf6-44b4-b1e0-baec918fa61f",
   "metadata": {},
   "outputs": [],
   "source": [
    "compare_average(avg_test, og_avg, shape_array4, stop_seq4)"
   ]
  },
  {
   "cell_type": "code",
   "execution_count": null,
   "id": "bf2d2ec9-c9db-4b2d-977a-3df3547a0cf1",
   "metadata": {},
   "outputs": [],
   "source": [
    "merge1.loc[(merge1.shape_array_key == shape_array4) & (merge1.stop_sequence == stop_seq4)][merge1_preview_cols]"
   ]
  },
  {
   "cell_type": "code",
   "execution_count": null,
   "id": "64a82a45-2df9-49e6-b1e1-9aaaef90e818",
   "metadata": {},
   "outputs": [],
   "source": [
    "compare_average(avg_test, og_avg, shape_array5, stop_seq5)"
   ]
  },
  {
   "cell_type": "markdown",
   "id": "efaca354-73ae-419d-bea2-2edc7d773a0c",
   "metadata": {
    "tags": []
   },
   "source": [
    "## Comparison\n",
    "* i still want a left join for segments, but only for segments that have RT trips ever (that end up going missing, after the 45% rule)\n",
    "\n",
    "* i don't want a left join to show all segments ever, bc segments are cut from scheduled shapes. more operators have schedule data than RT. so i don't want a mess of segments at the end of the left join off schedule, but a left join for \"RT shapes\""
   ]
  },
  {
   "cell_type": "code",
   "execution_count": null,
   "id": "ea7a964d-ae0e-40b6-b8ec-b8059d93c855",
   "metadata": {},
   "outputs": [],
   "source": [
    "# Results from original script\n",
    "rt_segs_agg = (og_avg\n",
    "            .groupby(['shape_array_key','schedule_gtfs_dataset_key'])\n",
    "            .agg({'stop_sequence':'nunique'})\n",
    "            .reset_index()\n",
    "            .rename(columns = {'stop_sequence':'total_stops'})\n",
    "            .add_prefix('og_')\n",
    "           )"
   ]
  },
  {
   "cell_type": "code",
   "execution_count": null,
   "id": "397092c1-b8d9-47cb-a077-6bceadfdcf50",
   "metadata": {},
   "outputs": [],
   "source": [
    "rt_segs_agg.sample()"
   ]
  },
  {
   "cell_type": "code",
   "execution_count": null,
   "id": "11415d26-28cf-4c0f-9ba5-402df7bb88a2",
   "metadata": {},
   "outputs": [],
   "source": [
    "# My test after filtering but adding back in cut rows\n",
    "avg_test_agg = (avg_test\n",
    "            .groupby(['shape_array_key','schedule_gtfs_dataset_key'])\n",
    "            .agg({'stop_sequence':'nunique'})\n",
    "            .reset_index()\n",
    "            .rename(columns = {'stop_sequence':'total_stops'})\n",
    "            .add_prefix('testing_')\n",
    "           )"
   ]
  },
  {
   "cell_type": "code",
   "execution_count": null,
   "id": "6863ad33-4e07-4e74-b968-d4702d56c50a",
   "metadata": {},
   "outputs": [],
   "source": [
    "avg_test_agg.sample()"
   ]
  },
  {
   "cell_type": "code",
   "execution_count": null,
   "id": "7e468c16-2d41-4b8c-9e1d-d45beec22805",
   "metadata": {},
   "outputs": [],
   "source": [
    "avg_test_agg.shape, rt_segs_agg.shape"
   ]
  },
  {
   "cell_type": "code",
   "execution_count": null,
   "id": "03e20331-bd79-4d2b-ac1f-1d889b8d1651",
   "metadata": {},
   "outputs": [],
   "source": [
    "m1 = (pd\n",
    "      .merge(rt_segs_agg, avg_test_agg, \n",
    "             left_on = ['og_shape_array_key', 'og_schedule_gtfs_dataset_key'],\n",
    "             right_on = ['testing_shape_array_key', 'testing_schedule_gtfs_dataset_key'], \n",
    "             how = 'outer', indicator = True)\n",
    "     )"
   ]
  },
  {
   "cell_type": "code",
   "execution_count": null,
   "id": "4e6d3967-6b60-44ce-8c42-fab450f217a0",
   "metadata": {},
   "outputs": [],
   "source": [
    "m1['total_thrown_out_stops'] = m1.og_total_stops - m1.testing_total_stops"
   ]
  },
  {
   "cell_type": "code",
   "execution_count": null,
   "id": "af8fff18-a703-4bcf-a398-c318d419abff",
   "metadata": {},
   "outputs": [],
   "source": [
    "m1.sample(3)"
   ]
  },
  {
   "cell_type": "code",
   "execution_count": null,
   "id": "d83cefa9-b005-4170-93d9-78e58bdf562d",
   "metadata": {},
   "outputs": [],
   "source": [
    "m1._merge.value_counts()"
   ]
  },
  {
   "cell_type": "markdown",
   "id": "1c7c7868-fe1f-4182-ac32-480e86cdf6b6",
   "metadata": {},
   "source": [
    "* 28 routes are missing."
   ]
  },
  {
   "cell_type": "code",
   "execution_count": null,
   "id": "33aa075a-74e0-4538-be13-f9b0ec78f55b",
   "metadata": {},
   "outputs": [],
   "source": [
    "m1.total_thrown_out_stops.describe()"
   ]
  },
  {
   "cell_type": "markdown",
   "id": "ad49a707-454e-42e4-99e1-56c1d692dc45",
   "metadata": {},
   "source": [
    "#### Seeing all the sequences thrown out"
   ]
  },
  {
   "cell_type": "code",
   "execution_count": null,
   "id": "8e77b3dc-7892-43f1-83ad-f578154c2f50",
   "metadata": {},
   "outputs": [],
   "source": [
    "og_avg.columns"
   ]
  },
  {
   "cell_type": "code",
   "execution_count": null,
   "id": "493c2364-2032-495f-b628-7b21b5a29f5c",
   "metadata": {},
   "outputs": [],
   "source": [
    "merge_cols = ['shape_array_key', 'stop_sequence', 'schedule_gtfs_dataset_key',\n",
    "       'stop_id', 'loop_or_inlining']"
   ]
  },
  {
   "cell_type": "code",
   "execution_count": null,
   "id": "d35823ea-60d4-49b9-8d69-f2c5910a01ea",
   "metadata": {},
   "outputs": [],
   "source": [
    "subset = ['shape_array_key', 'stop_sequence', 'schedule_gtfs_dataset_key',\n",
    "       'stop_id', 'loop_or_inlining', 'p50_mph', 'n_trips',\n",
    "       'p20_mph', 'p80_mph', 'time_of_day']"
   ]
  },
  {
   "cell_type": "code",
   "execution_count": null,
   "id": "028e98e1-7562-40a2-95fe-c96b0cb9e7b4",
   "metadata": {},
   "outputs": [],
   "source": [
    "og_avg2 = og_avg[subset]"
   ]
  },
  {
   "cell_type": "code",
   "execution_count": null,
   "id": "8140abe5-321d-4dbe-8fd6-0c64c477a99b",
   "metadata": {},
   "outputs": [],
   "source": [
    "og_avg2.shape"
   ]
  },
  {
   "cell_type": "code",
   "execution_count": null,
   "id": "977a07a0-83f3-4bbd-b56a-350b2c4ce089",
   "metadata": {},
   "outputs": [],
   "source": [
    "avg_test2 = avg_test[subset]"
   ]
  },
  {
   "cell_type": "code",
   "execution_count": null,
   "id": "d519c382-3e3a-44ae-ad20-a65460810f8c",
   "metadata": {},
   "outputs": [],
   "source": [
    "avg_test2.shape"
   ]
  },
  {
   "cell_type": "code",
   "execution_count": null,
   "id": "b50d758b-a746-4bff-8216-58af01bf5732",
   "metadata": {},
   "outputs": [],
   "source": [
    "m2 = pd.merge(og_avg2, avg_test2, on = merge_cols, how = 'outer', indicator = True)"
   ]
  }
 ],
 "metadata": {
  "kernelspec": {
   "display_name": "Python 3 (ipykernel)",
   "language": "python",
   "name": "python3"
  },
  "language_info": {
   "codemirror_mode": {
    "name": "ipython",
    "version": 3
   },
   "file_extension": ".py",
   "mimetype": "text/x-python",
   "name": "python",
   "nbconvert_exporter": "python",
   "pygments_lexer": "ipython3",
   "version": "3.9.13"
  },
  "toc-autonumbering": false,
  "toc-showcode": false
 },
 "nbformat": 4,
 "nbformat_minor": 5
}
