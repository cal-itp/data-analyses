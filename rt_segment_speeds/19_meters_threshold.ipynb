{
 "cells": [
  {
   "cell_type": "code",
   "execution_count": 37,
   "id": "3d2ca779-5cd7-4f98-8e9f-344e9d4dcf46",
   "metadata": {},
   "outputs": [],
   "source": [
    "import datetime\n",
    "import dask.dataframe as dd\n",
    "import numpy as np\n",
    "import geopandas as gpd\n",
    "import pandas as pd\n",
    "import altair as alt\n",
    "from segment_speed_utils import gtfs_schedule_wrangling, helpers, segment_calcs,sched_rt_utils\n",
    "from segment_speed_utils.project_vars import (\n",
    "    COMPILED_CACHED_VIEWS,\n",
    "    PROJECT_CRS,\n",
    "    SEGMENT_GCS,  \n",
    "    analysis_date,\n",
    ")\n",
    "from scripts import (A1_sjoin_vp_segments, A2_valid_vehicle_positions,B2_avg_speeds_by_segment)\n",
    "from shared_utils import calitp_color_palette as cp, rt_utils, geography_utils\n",
    "import _threshold_utils as threshold_utils\n",
    "import _rt_scheduled_utils as rt_scheduled_utils\n",
    "CONFIG_PATH = './scripts/config.yml'\n",
    "STOP_SEG_DICT = helpers.get_parameters(CONFIG_PATH, \"stop_segments\")"
   ]
  },
  {
   "cell_type": "code",
   "execution_count": 38,
   "id": "6305e1fd-3383-4960-baa2-db169e86033d",
   "metadata": {},
   "outputs": [],
   "source": [
    "pd.options.display.max_columns = 100\n",
    "pd.options.display.float_format = \"{:.2f}\".format\n",
    "pd.set_option(\"display.max_rows\", None)\n",
    "pd.set_option(\"display.max_colwidth\", None)"
   ]
  },
  {
   "cell_type": "markdown",
   "id": "d35de724-b1b8-4d91-a37d-f4aa06120777",
   "metadata": {
    "tags": []
   },
   "source": [
    "## % of Meters\n",
    "* start with the speeds_stop_segments_{analysis_date} parquet (which is produced in B1_speeds_by_segment_trip ).\n",
    "* grab in stop_segments_{analysis_date} (in CRS 3310 already), and you can get the segment's length.\n",
    "* merge with the speeds by segment-trip, which contains the meters_elapsed column\n",
    "* calculate pct where meters_elapsed/segment_length\n",
    "* show me some charts around this, a couple of descriptives to make sure these are all ok\n",
    "* give me rough descriptives of how many rows we're dropping if we go with keeping at least 30%, 40%, 50%"
   ]
  },
  {
   "cell_type": "markdown",
   "id": "c6c7cedd-6da8-4888-83da-c52003d6ea35",
   "metadata": {},
   "source": [
    "### Open these files just for testing"
   ]
  },
  {
   "cell_type": "code",
   "execution_count": 39,
   "id": "62548e77-825c-4ed3-9f90-05a07e0fab82",
   "metadata": {},
   "outputs": [],
   "source": [
    "def import_speeds_segs(analysis_date:str, \n",
    "                       max_speed_cutoff: int, \n",
    "                       dict_inputs:dict)-> pd.DataFrame:\n",
    "    FILE = dict_inputs['stage4']\n",
    "    df = pd.read_parquet(f\"{SEGMENT_GCS}{FILE}_{analysis_date}\", \n",
    "        filters = [[(\"speed_mph\", \"<=\", max_speed_cutoff)]])\n",
    "    \n",
    "    return df"
   ]
  },
  {
   "cell_type": "code",
   "execution_count": 40,
   "id": "c90ac266-38ca-4e94-ab25-68ee40829605",
   "metadata": {},
   "outputs": [],
   "source": [
    "def load_segments(analysis_date:str, dict_inputs:dict) -> gpd.GeoDataFrame:\n",
    "    # Load in ALL segments, find the length\n",
    "    FILE = dict_inputs['segments_file']\n",
    "    segments = gpd.read_parquet(f\"{SEGMENT_GCS}{FILE}_{analysis_date}.parquet\")\n",
    "    \n",
    "    return segments"
   ]
  },
  {
   "cell_type": "markdown",
   "id": "857ab4ad-1dde-4c65-bd88-99696ab9f478",
   "metadata": {},
   "source": [
    "### Open Files\n",
    "* Add `import_speeds_segs`,`calculate_segment_length`,`merge_segments_speeds` into `B2`"
   ]
  },
  {
   "cell_type": "code",
   "execution_count": 41,
   "id": "f07df469-d682-44ee-8ae3-83446c000d21",
   "metadata": {},
   "outputs": [],
   "source": [
    "# dict_inputs = helpers.get_parameters(CONFIG_PATH, \"stop_segments\")"
   ]
  },
  {
   "cell_type": "code",
   "execution_count": 42,
   "id": "ab54a5c4-d9e5-49c3-a70d-cb0f0034a99c",
   "metadata": {},
   "outputs": [],
   "source": [
    "# dict_inputs"
   ]
  },
  {
   "cell_type": "code",
   "execution_count": 43,
   "id": "ec7d196d-3dd3-445b-bd8a-9daf48fa5a88",
   "metadata": {},
   "outputs": [],
   "source": [
    "dictionary = helpers.get_parameters(CONFIG_PATH, \"stop_segments\")"
   ]
  },
  {
   "cell_type": "code",
   "execution_count": 44,
   "id": "e3729d9a-b12a-4e19-8a54-fc6167f6bc93",
   "metadata": {},
   "outputs": [],
   "source": [
    "speeds = import_speeds_segs(analysis_date,70, dictionary)"
   ]
  },
  {
   "cell_type": "code",
   "execution_count": 45,
   "id": "d0701a3b-e3dd-484f-929f-8ebd028fd9f3",
   "metadata": {},
   "outputs": [
    {
     "data": {
      "text/html": [
       "<div>\n",
       "<style scoped>\n",
       "    .dataframe tbody tr th:only-of-type {\n",
       "        vertical-align: middle;\n",
       "    }\n",
       "\n",
       "    .dataframe tbody tr th {\n",
       "        vertical-align: top;\n",
       "    }\n",
       "\n",
       "    .dataframe thead th {\n",
       "        text-align: right;\n",
       "    }\n",
       "</style>\n",
       "<table border=\"1\" class=\"dataframe\">\n",
       "  <thead>\n",
       "    <tr style=\"text-align: right;\">\n",
       "      <th></th>\n",
       "      <th>gtfs_dataset_key</th>\n",
       "      <th>gtfs_dataset_name</th>\n",
       "      <th>trip_id</th>\n",
       "      <th>trip_instance_key</th>\n",
       "      <th>schedule_gtfs_dataset_key</th>\n",
       "      <th>shape_array_key</th>\n",
       "      <th>stop_sequence</th>\n",
       "      <th>min_time</th>\n",
       "      <th>min_dist</th>\n",
       "      <th>max_time</th>\n",
       "      <th>max_dist</th>\n",
       "      <th>meters_elapsed</th>\n",
       "      <th>sec_elapsed</th>\n",
       "      <th>speed_mph</th>\n",
       "    </tr>\n",
       "    <tr>\n",
       "      <th>__null_dask_index__</th>\n",
       "      <th></th>\n",
       "      <th></th>\n",
       "      <th></th>\n",
       "      <th></th>\n",
       "      <th></th>\n",
       "      <th></th>\n",
       "      <th></th>\n",
       "      <th></th>\n",
       "      <th></th>\n",
       "      <th></th>\n",
       "      <th></th>\n",
       "      <th></th>\n",
       "      <th></th>\n",
       "      <th></th>\n",
       "    </tr>\n",
       "  </thead>\n",
       "  <tbody>\n",
       "    <tr>\n",
       "      <th>9999</th>\n",
       "      <td>80e31832b8c72f53603cccacc8a6a798</td>\n",
       "      <td>VCTC Vehicle Positions</td>\n",
       "      <td>152-61</td>\n",
       "      <td>b784199ad5fc10a9f3b96e6c663a2159</td>\n",
       "      <td>1770249a5a2e770ca90628434d4934b1</td>\n",
       "      <td>23e0200e326571108abc3cb1066bcfc6</td>\n",
       "      <td>13</td>\n",
       "      <td>28078.00</td>\n",
       "      <td>0.00</td>\n",
       "      <td>29056.00</td>\n",
       "      <td>292.72</td>\n",
       "      <td>292.72</td>\n",
       "      <td>978.00</td>\n",
       "      <td>0.67</td>\n",
       "    </tr>\n",
       "  </tbody>\n",
       "</table>\n",
       "</div>"
      ],
      "text/plain": [
       "                                     gtfs_dataset_key       gtfs_dataset_name  \\\n",
       "__null_dask_index__                                                             \n",
       "9999                 80e31832b8c72f53603cccacc8a6a798  VCTC Vehicle Positions   \n",
       "\n",
       "                    trip_id                 trip_instance_key  \\\n",
       "__null_dask_index__                                             \n",
       "9999                 152-61  b784199ad5fc10a9f3b96e6c663a2159   \n",
       "\n",
       "                            schedule_gtfs_dataset_key  \\\n",
       "__null_dask_index__                                     \n",
       "9999                 1770249a5a2e770ca90628434d4934b1   \n",
       "\n",
       "                                      shape_array_key  stop_sequence  \\\n",
       "__null_dask_index__                                                    \n",
       "9999                 23e0200e326571108abc3cb1066bcfc6             13   \n",
       "\n",
       "                     min_time  min_dist  max_time  max_dist  meters_elapsed  \\\n",
       "__null_dask_index__                                                           \n",
       "9999                 28078.00      0.00  29056.00    292.72          292.72   \n",
       "\n",
       "                     sec_elapsed  speed_mph  \n",
       "__null_dask_index__                          \n",
       "9999                      978.00       0.67  "
      ]
     },
     "execution_count": 45,
     "metadata": {},
     "output_type": "execute_result"
    }
   ],
   "source": [
    "speeds.sample()"
   ]
  },
  {
   "cell_type": "code",
   "execution_count": 46,
   "id": "71eecb32-4d8d-4691-aad5-c3336028edb5",
   "metadata": {},
   "outputs": [],
   "source": [
    "segments_gdf = load_segments(analysis_date, dictionary)"
   ]
  },
  {
   "cell_type": "code",
   "execution_count": 47,
   "id": "9527de7c-e540-431d-a4a6-ed701a323236",
   "metadata": {},
   "outputs": [],
   "source": [
    "def calculate_segment_length(segments:gpd.GeoDataFrame) -> gpd.GeoDataFrame:\n",
    "    # Load in ALL segments, find the length\n",
    "    segments = segments.assign(\n",
    "        meters_length=(segments.geometry.length)\n",
    "    )\n",
    "    df = segments.drop(columns = ['geometry','district','district_name'])\n",
    "    \n",
    "    return df"
   ]
  },
  {
   "cell_type": "code",
   "execution_count": 48,
   "id": "961e15dc-1c07-411f-92be-785721b7d67e",
   "metadata": {},
   "outputs": [],
   "source": [
    "def merge_segments_speeds(speeds: pd.DataFrame,\n",
    "                          segments:gpd.GeoDataFrame, \n",
    "                          ) -> pd.DataFrame:\n",
    "    \"\"\"\n",
    "    Merge speeds and segments. Calculate length\n",
    "    \"\"\"\n",
    "    segments = calculate_segment_length(segments)\n",
    "    \n",
    "    merge_cols = ['shape_array_key','stop_sequence','schedule_gtfs_dataset_key']\n",
    "    merge1 = pd.merge(segments, speeds, on = merge_cols, how = \"inner\")\n",
    "    \n",
    "    merge1['percent'] = merge1.meters_elapsed/merge1.meters_length * 100\n",
    "    \n",
    "    merge1.percent = merge1.percent.fillna(0)\n",
    "    return merge1"
   ]
  },
  {
   "cell_type": "code",
   "execution_count": 49,
   "id": "0e727efb-8136-4cdc-b9a5-c9bb17bf74cd",
   "metadata": {},
   "outputs": [],
   "source": [
    "merge1 = merge_segments_speeds(speeds, segments_gdf)"
   ]
  },
  {
   "cell_type": "code",
   "execution_count": 50,
   "id": "05704886-34ab-40dc-857c-5bcc6ee42232",
   "metadata": {},
   "outputs": [
    {
     "data": {
      "text/plain": [
       "Index(['shape_array_key', 'stop_id', 'stop_sequence', 'loop_or_inlining',\n",
       "       'schedule_gtfs_dataset_key', 'seg_idx', 'geometry_arrowized',\n",
       "       'meters_length', 'gtfs_dataset_key', 'gtfs_dataset_name', 'trip_id',\n",
       "       'trip_instance_key', 'min_time', 'min_dist', 'max_time', 'max_dist',\n",
       "       'meters_elapsed', 'sec_elapsed', 'speed_mph', 'percent'],\n",
       "      dtype='object')"
      ]
     },
     "execution_count": 50,
     "metadata": {},
     "output_type": "execute_result"
    }
   ],
   "source": [
    "merge1.columns"
   ]
  },
  {
   "cell_type": "code",
   "execution_count": 51,
   "id": "e0d81d69-30b0-47c1-a560-083eaaac5496",
   "metadata": {},
   "outputs": [],
   "source": [
    "def myround(x, base=5):\n",
    "    return base * round(x/base)"
   ]
  },
  {
   "cell_type": "code",
   "execution_count": 52,
   "id": "d7737449-92b0-417e-ad76-fceb20e9403e",
   "metadata": {},
   "outputs": [],
   "source": [
    "def valid_trips_by_cutoff(df, percentages:list):\n",
    "    final = pd.DataFrame()\n",
    "    og_len = len(df)\n",
    "    og_trips = df.trip_id.nunique()\n",
    "    og_shape_array_key = df.shape_array_key.nunique()\n",
    "    \n",
    "    for i in percentages:\n",
    "        # Round up percent to nearest 5. Ex: 43 becomes 45.\n",
    "        percent = myround(df.percent.quantile(i).astype(float))\n",
    "        temp = (df[(df.percent >= percent)])\n",
    "        \n",
    "        temp = temp.assign(\n",
    "            percentile = f\"Min. of {percent}% of seg length covered\")\n",
    "        \n",
    "        temp = (temp\n",
    "                .groupby(['percentile'])\n",
    "                .agg({'gtfs_dataset_name':'count',\n",
    "                      'speed_mph':'mean',\n",
    "                      'shape_array_key':'nunique',\n",
    "                     'trip_id':'nunique',\n",
    "                     'gtfs_dataset_key':'nunique'})\n",
    "                .reset_index()\n",
    "                .rename(columns = {'gtfs_dataset_name':'n_rows',\n",
    "                                  'speed_mph':'mean_speed_mph',\n",
    "                                  'shape_array_key':'n_kept_routes',\n",
    "                                  'trip_id':'n_kept_trips',\n",
    "                                  'gtfs_dataset_key':'n_kept_operators'})\n",
    "               )\n",
    "        \n",
    "        final = pd.concat([final, temp], axis=0)\n",
    "\n",
    "    \n",
    "    final = final.assign(\n",
    "        percentage_kept_rows=final.n_rows.divide(og_len) * 100,\n",
    "        percentage_kept_trips = final.n_kept_trips.divide(og_trips) * 100,\n",
    "        percentage_kept_routes = final.n_kept_routes.divide(og_shape_array_key)*100)\n",
    "    \n",
    "    round_cols = ['percentage_kept_rows', 'percentage_kept_trips', 'percentage_kept_routes']\n",
    "    final[round_cols] = final[round_cols].round(0)\n",
    "    return final"
   ]
  },
  {
   "cell_type": "code",
   "execution_count": 53,
   "id": "02da2cef-c921-4d79-856b-a797f715b7ed",
   "metadata": {},
   "outputs": [],
   "source": [
    "test = valid_trips_by_cutoff(merge1, [.1,.2,.3,.4,.5,.6,.7])"
   ]
  },
  {
   "cell_type": "code",
   "execution_count": 54,
   "id": "20aff75d-f059-4af5-aa71-aaed42d55674",
   "metadata": {},
   "outputs": [],
   "source": [
    "#test"
   ]
  },
  {
   "cell_type": "markdown",
   "id": "1483859e-bd07-4d5f-b86f-0f9d7bebe121",
   "metadata": {
    "tags": []
   },
   "source": [
    "## Visualizing Speed\n",
    "* https://nbviewer.org/github/cal-itp/data-analyses/blob/filter-speeds-avgs/rt_segment_speeds/18_speed_distribution.ipynb\n",
    "* https://analysis.calitp.org/rt/district_07-los-angeles/9__speedmaps__district_07-los-angeles__itp_id_300.html"
   ]
  },
  {
   "cell_type": "markdown",
   "id": "938e5d67-7fd0-4d62-af9d-0f26d08f12ed",
   "metadata": {},
   "source": [
    "### % of rows kept"
   ]
  },
  {
   "cell_type": "code",
   "execution_count": 55,
   "id": "561eb328-18d5-4b2a-bd1e-4777b23b765c",
   "metadata": {},
   "outputs": [],
   "source": [
    "test = threshold_utils.pre_clean(test)"
   ]
  },
  {
   "cell_type": "code",
   "execution_count": 56,
   "id": "4e049588-bb4b-4e00-ac0c-d4f836cac1e0",
   "metadata": {},
   "outputs": [
    {
     "data": {
      "text/html": [
       "<div>\n",
       "<style scoped>\n",
       "    .dataframe tbody tr th:only-of-type {\n",
       "        vertical-align: middle;\n",
       "    }\n",
       "\n",
       "    .dataframe tbody tr th {\n",
       "        vertical-align: top;\n",
       "    }\n",
       "\n",
       "    .dataframe thead th {\n",
       "        text-align: right;\n",
       "    }\n",
       "</style>\n",
       "<table border=\"1\" class=\"dataframe\">\n",
       "  <thead>\n",
       "    <tr style=\"text-align: right;\">\n",
       "      <th></th>\n",
       "      <th>Percentile</th>\n",
       "      <th>N Rows</th>\n",
       "      <th>Mean Speed Mph</th>\n",
       "      <th>N Kept Routes</th>\n",
       "      <th>N Kept Trips</th>\n",
       "      <th>N Kept Operators</th>\n",
       "      <th>Percentage Kept Rows</th>\n",
       "      <th>Percentage Kept Trips</th>\n",
       "      <th>Percentage Kept Routes</th>\n",
       "    </tr>\n",
       "  </thead>\n",
       "  <tbody>\n",
       "    <tr>\n",
       "      <th>0</th>\n",
       "      <td>Min. of 10% of seg length covered</td>\n",
       "      <td>2026035</td>\n",
       "      <td>11.80</td>\n",
       "      <td>4080</td>\n",
       "      <td>65939</td>\n",
       "      <td>74</td>\n",
       "      <td>90.00</td>\n",
       "      <td>100.00</td>\n",
       "      <td>100.00</td>\n",
       "    </tr>\n",
       "    <tr>\n",
       "      <th>0</th>\n",
       "      <td>Min. of 40% of seg length covered</td>\n",
       "      <td>1820711</td>\n",
       "      <td>12.30</td>\n",
       "      <td>4066</td>\n",
       "      <td>65709</td>\n",
       "      <td>74</td>\n",
       "      <td>81.00</td>\n",
       "      <td>99.00</td>\n",
       "      <td>99.00</td>\n",
       "    </tr>\n",
       "    <tr>\n",
       "      <th>0</th>\n",
       "      <td>Min. of 60% of seg length covered</td>\n",
       "      <td>1573312</td>\n",
       "      <td>12.20</td>\n",
       "      <td>4055</td>\n",
       "      <td>65424</td>\n",
       "      <td>74</td>\n",
       "      <td>70.00</td>\n",
       "      <td>99.00</td>\n",
       "      <td>99.00</td>\n",
       "    </tr>\n",
       "    <tr>\n",
       "      <th>0</th>\n",
       "      <td>Min. of 75% of seg length covered</td>\n",
       "      <td>1308198</td>\n",
       "      <td>11.80</td>\n",
       "      <td>4039</td>\n",
       "      <td>64949</td>\n",
       "      <td>74</td>\n",
       "      <td>58.00</td>\n",
       "      <td>98.00</td>\n",
       "      <td>99.00</td>\n",
       "    </tr>\n",
       "    <tr>\n",
       "      <th>0</th>\n",
       "      <td>Min. of 85% of seg length covered</td>\n",
       "      <td>1070347</td>\n",
       "      <td>11.50</td>\n",
       "      <td>4019</td>\n",
       "      <td>64120</td>\n",
       "      <td>74</td>\n",
       "      <td>48.00</td>\n",
       "      <td>97.00</td>\n",
       "      <td>98.00</td>\n",
       "    </tr>\n",
       "    <tr>\n",
       "      <th>0</th>\n",
       "      <td>Min. of 90% of seg length covered</td>\n",
       "      <td>914280</td>\n",
       "      <td>11.20</td>\n",
       "      <td>3987</td>\n",
       "      <td>63142</td>\n",
       "      <td>74</td>\n",
       "      <td>41.00</td>\n",
       "      <td>95.00</td>\n",
       "      <td>98.00</td>\n",
       "    </tr>\n",
       "    <tr>\n",
       "      <th>0</th>\n",
       "      <td>Min. of 95% of seg length covered</td>\n",
       "      <td>698923</td>\n",
       "      <td>10.80</td>\n",
       "      <td>3917</td>\n",
       "      <td>61293</td>\n",
       "      <td>74</td>\n",
       "      <td>31.00</td>\n",
       "      <td>93.00</td>\n",
       "      <td>96.00</td>\n",
       "    </tr>\n",
       "  </tbody>\n",
       "</table>\n",
       "</div>"
      ],
      "text/plain": [
       "                          Percentile   N Rows  Mean Speed Mph  N Kept Routes  \\\n",
       "0  Min. of 10% of seg length covered  2026035           11.80           4080   \n",
       "0  Min. of 40% of seg length covered  1820711           12.30           4066   \n",
       "0  Min. of 60% of seg length covered  1573312           12.20           4055   \n",
       "0  Min. of 75% of seg length covered  1308198           11.80           4039   \n",
       "0  Min. of 85% of seg length covered  1070347           11.50           4019   \n",
       "0  Min. of 90% of seg length covered   914280           11.20           3987   \n",
       "0  Min. of 95% of seg length covered   698923           10.80           3917   \n",
       "\n",
       "   N Kept Trips  N Kept Operators  Percentage Kept Rows  \\\n",
       "0         65939                74                 90.00   \n",
       "0         65709                74                 81.00   \n",
       "0         65424                74                 70.00   \n",
       "0         64949                74                 58.00   \n",
       "0         64120                74                 48.00   \n",
       "0         63142                74                 41.00   \n",
       "0         61293                74                 31.00   \n",
       "\n",
       "   Percentage Kept Trips  Percentage Kept Routes  \n",
       "0                 100.00                  100.00  \n",
       "0                  99.00                   99.00  \n",
       "0                  99.00                   99.00  \n",
       "0                  98.00                   99.00  \n",
       "0                  97.00                   98.00  \n",
       "0                  95.00                   98.00  \n",
       "0                  93.00                   96.00  "
      ]
     },
     "execution_count": 56,
     "metadata": {},
     "output_type": "execute_result"
    }
   ],
   "source": [
    "test"
   ]
  },
  {
   "cell_type": "code",
   "execution_count": 57,
   "id": "65d0b237-544f-4245-9de0-f2308ae8c8f2",
   "metadata": {},
   "outputs": [],
   "source": [
    "# Main chart\n",
    "def bar_chart(df, x_column: str, y_column:str, title:str):\n",
    "    chart = (alt.Chart(df)\n",
    "         .mark_bar()\n",
    "         .encode(x=x_column, y= y_column, \n",
    "          color=alt.Color(y_column, \n",
    "          scale=alt.Scale(range=cp.CALITP_CATEGORY_BRIGHT_COLORS),\n",
    "          legend=None),\n",
    "          tooltip = df.columns.tolist())\n",
    "         .properties(title = title)\n",
    "            )\n",
    "    chart = threshold_utils.chart_size((chart), 400,300)\n",
    "    return chart\n",
    "    "
   ]
  },
  {
   "cell_type": "code",
   "execution_count": 58,
   "id": "4c8a453f-e38f-4a37-9a3e-06f8069f7dca",
   "metadata": {},
   "outputs": [
    {
     "data": {
      "text/html": [
       "\n",
       "<style>\n",
       "  #altair-viz-d7f12f35e47f4e7492847b22fcb98161.vega-embed {\n",
       "    width: 100%;\n",
       "    display: flex;\n",
       "  }\n",
       "\n",
       "  #altair-viz-d7f12f35e47f4e7492847b22fcb98161.vega-embed details,\n",
       "  #altair-viz-d7f12f35e47f4e7492847b22fcb98161.vega-embed details summary {\n",
       "    position: relative;\n",
       "  }\n",
       "</style>\n",
       "<div id=\"altair-viz-d7f12f35e47f4e7492847b22fcb98161\"></div>\n",
       "<script type=\"text/javascript\">\n",
       "  var VEGA_DEBUG = (typeof VEGA_DEBUG == \"undefined\") ? {} : VEGA_DEBUG;\n",
       "  (function(spec, embedOpt){\n",
       "    let outputDiv = document.currentScript.previousElementSibling;\n",
       "    if (outputDiv.id !== \"altair-viz-d7f12f35e47f4e7492847b22fcb98161\") {\n",
       "      outputDiv = document.getElementById(\"altair-viz-d7f12f35e47f4e7492847b22fcb98161\");\n",
       "    }\n",
       "    const paths = {\n",
       "      \"vega\": \"https://cdn.jsdelivr.net/npm/vega@5?noext\",\n",
       "      \"vega-lib\": \"https://cdn.jsdelivr.net/npm/vega-lib?noext\",\n",
       "      \"vega-lite\": \"https://cdn.jsdelivr.net/npm/vega-lite@5.8.0?noext\",\n",
       "      \"vega-embed\": \"https://cdn.jsdelivr.net/npm/vega-embed@6?noext\",\n",
       "    };\n",
       "\n",
       "    function maybeLoadScript(lib, version) {\n",
       "      var key = `${lib.replace(\"-\", \"\")}_version`;\n",
       "      return (VEGA_DEBUG[key] == version) ?\n",
       "        Promise.resolve(paths[lib]) :\n",
       "        new Promise(function(resolve, reject) {\n",
       "          var s = document.createElement('script');\n",
       "          document.getElementsByTagName(\"head\")[0].appendChild(s);\n",
       "          s.async = true;\n",
       "          s.onload = () => {\n",
       "            VEGA_DEBUG[key] = version;\n",
       "            return resolve(paths[lib]);\n",
       "          };\n",
       "          s.onerror = () => reject(`Error loading script: ${paths[lib]}`);\n",
       "          s.src = paths[lib];\n",
       "        });\n",
       "    }\n",
       "\n",
       "    function showError(err) {\n",
       "      outputDiv.innerHTML = `<div class=\"error\" style=\"color:red;\">${err}</div>`;\n",
       "      throw err;\n",
       "    }\n",
       "\n",
       "    function displayChart(vegaEmbed) {\n",
       "      vegaEmbed(outputDiv, spec, embedOpt)\n",
       "        .catch(err => showError(`Javascript Error: ${err.message}<br>This usually means there's a typo in your chart specification. See the javascript console for the full traceback.`));\n",
       "    }\n",
       "\n",
       "    if(typeof define === \"function\" && define.amd) {\n",
       "      requirejs.config({paths});\n",
       "      require([\"vega-embed\"], displayChart, err => showError(`Error loading script: ${err.message}`));\n",
       "    } else {\n",
       "      maybeLoadScript(\"vega\", \"5\")\n",
       "        .then(() => maybeLoadScript(\"vega-lite\", \"5.8.0\"))\n",
       "        .then(() => maybeLoadScript(\"vega-embed\", \"6\"))\n",
       "        .catch(showError)\n",
       "        .then(() => displayChart(vegaEmbed));\n",
       "    }\n",
       "  })({\"config\": {\"view\": {\"continuousWidth\": 300, \"continuousHeight\": 300}}, \"data\": {\"name\": \"data-aa1d849299806c8207b1fa963259d464\"}, \"mark\": {\"type\": \"bar\"}, \"encoding\": {\"color\": {\"field\": \"Percentile\", \"legend\": null, \"scale\": {\"range\": [\"#2EA8CE\", \"#EB9F3C\", \"#F4D837\", \"#51BF9D\", \"#8CBCCB\", \"#9487C0\"]}, \"type\": \"nominal\"}, \"tooltip\": [{\"field\": \"Percentile\", \"type\": \"nominal\"}, {\"field\": \"N Rows\", \"type\": \"quantitative\"}, {\"field\": \"Mean Speed Mph\", \"type\": \"quantitative\"}, {\"field\": \"N Kept Routes\", \"type\": \"quantitative\"}, {\"field\": \"N Kept Trips\", \"type\": \"quantitative\"}, {\"field\": \"N Kept Operators\", \"type\": \"quantitative\"}, {\"field\": \"Percentage Kept Rows\", \"type\": \"quantitative\"}, {\"field\": \"Percentage Kept Trips\", \"type\": \"quantitative\"}, {\"field\": \"Percentage Kept Routes\", \"type\": \"quantitative\"}], \"x\": {\"field\": \"Percentage Kept Rows\", \"type\": \"quantitative\"}, \"y\": {\"field\": \"Percentile\", \"type\": \"nominal\"}}, \"height\": 300, \"title\": \"Rows Kept After % Segment Cutoff\", \"width\": 400, \"$schema\": \"https://vega.github.io/schema/vega-lite/v5.8.0.json\", \"datasets\": {\"data-aa1d849299806c8207b1fa963259d464\": [{\"Percentile\": \"Min. of 10% of seg length covered\", \"N Rows\": 2026035, \"Mean Speed Mph\": 11.8, \"N Kept Routes\": 4080, \"N Kept Trips\": 65939, \"N Kept Operators\": 74, \"Percentage Kept Rows\": 90.0, \"Percentage Kept Trips\": 100.0, \"Percentage Kept Routes\": 100.0}, {\"Percentile\": \"Min. of 40% of seg length covered\", \"N Rows\": 1820711, \"Mean Speed Mph\": 12.3, \"N Kept Routes\": 4066, \"N Kept Trips\": 65709, \"N Kept Operators\": 74, \"Percentage Kept Rows\": 81.0, \"Percentage Kept Trips\": 99.0, \"Percentage Kept Routes\": 99.0}, {\"Percentile\": \"Min. of 60% of seg length covered\", \"N Rows\": 1573312, \"Mean Speed Mph\": 12.2, \"N Kept Routes\": 4055, \"N Kept Trips\": 65424, \"N Kept Operators\": 74, \"Percentage Kept Rows\": 70.0, \"Percentage Kept Trips\": 99.0, \"Percentage Kept Routes\": 99.0}, {\"Percentile\": \"Min. of 75% of seg length covered\", \"N Rows\": 1308198, \"Mean Speed Mph\": 11.8, \"N Kept Routes\": 4039, \"N Kept Trips\": 64949, \"N Kept Operators\": 74, \"Percentage Kept Rows\": 58.0, \"Percentage Kept Trips\": 98.0, \"Percentage Kept Routes\": 99.0}, {\"Percentile\": \"Min. of 85% of seg length covered\", \"N Rows\": 1070347, \"Mean Speed Mph\": 11.5, \"N Kept Routes\": 4019, \"N Kept Trips\": 64120, \"N Kept Operators\": 74, \"Percentage Kept Rows\": 48.0, \"Percentage Kept Trips\": 97.0, \"Percentage Kept Routes\": 98.0}, {\"Percentile\": \"Min. of 90% of seg length covered\", \"N Rows\": 914280, \"Mean Speed Mph\": 11.2, \"N Kept Routes\": 3987, \"N Kept Trips\": 63142, \"N Kept Operators\": 74, \"Percentage Kept Rows\": 41.0, \"Percentage Kept Trips\": 95.0, \"Percentage Kept Routes\": 98.0}, {\"Percentile\": \"Min. of 95% of seg length covered\", \"N Rows\": 698923, \"Mean Speed Mph\": 10.8, \"N Kept Routes\": 3917, \"N Kept Trips\": 61293, \"N Kept Operators\": 74, \"Percentage Kept Rows\": 31.0, \"Percentage Kept Trips\": 93.0, \"Percentage Kept Routes\": 96.0}]}}, {\"mode\": \"vega-lite\"});\n",
       "</script>"
      ],
      "text/plain": [
       "alt.Chart(...)"
      ]
     },
     "execution_count": 58,
     "metadata": {},
     "output_type": "execute_result"
    }
   ],
   "source": [
    "bar_chart(test, 'Percentage Kept Rows','Percentile', 'Rows Kept After % Segment Cutoff')"
   ]
  },
  {
   "cell_type": "markdown",
   "id": "5c7ed892-21b4-434c-bc90-c76514e446d2",
   "metadata": {},
   "source": [
    "## Only keep speeds that meet a certain threshold\n",
    "* Put it in `speeds_with_segment_geom` in `B2`"
   ]
  },
  {
   "cell_type": "code",
   "execution_count": 59,
   "id": "3f39e3f6-e3c6-462c-ae15-bd2ebe57ecb8",
   "metadata": {},
   "outputs": [],
   "source": [
    "columns_to_keep = ['shape_array_key', 'stop_sequence', 'gtfs_dataset_key',\n",
    "      'gtfs_dataset_name', 'trip_id', 'min_time', 'min_dist', 'max_time',\n",
    "       'max_dist', 'meters_elapsed', 'sec_elapsed', 'speed_mph',\n",
    "      'trip_instance_key', 'schedule_gtfs_dataset_key',]"
   ]
  },
  {
   "cell_type": "code",
   "execution_count": 60,
   "id": "ee843630-501d-4a46-82a4-8005cb0f4fe4",
   "metadata": {},
   "outputs": [],
   "source": [
    "def speeds_length_filter(speeds: pd.DataFrame,\n",
    "                         segments: gpd.GeoDataFrame,\n",
    "                         columns_to_keep: list,\n",
    "                         percentile: float = 0.20) -> pd.DataFrame:\n",
    "    \n",
    "    # df = merge_segments_speeds(segments, analysis_date, max_speed_cut_off,dict_inputs)\n",
    "    df= merge_segments_speeds(speeds, segments_gdf)\n",
    "    \n",
    "    percent = df.percent.quantile(percentile).astype(float)\n",
    "    \n",
    "    df = (df[(df.percent >= percent)])\n",
    "    \n",
    "    df = df[columns_to_keep]\n",
    "    \n",
    "    return df "
   ]
  },
  {
   "cell_type": "markdown",
   "id": "508cf5a1-bc2c-4fb8-904f-62cfc19fc04f",
   "metadata": {},
   "source": [
    "### Edited B2 function"
   ]
  },
  {
   "cell_type": "code",
   "execution_count": 61,
   "id": "113e5241-2dcf-402a-b083-c4088f39291f",
   "metadata": {},
   "outputs": [],
   "source": [
    "# speeds.sample()"
   ]
  },
  {
   "cell_type": "code",
   "execution_count": 62,
   "id": "74241088-db89-4ad6-9e2d-1489fd973b59",
   "metadata": {},
   "outputs": [],
   "source": [
    "# speeds_filtered = speeds_length_filter(speeds, segments_gdf, 0.20)"
   ]
  },
  {
   "cell_type": "code",
   "execution_count": 63,
   "id": "07ed8d3e-a631-4fe4-8149-5966b7e0ce37",
   "metadata": {},
   "outputs": [],
   "source": [
    "# speeds_filtered.columns"
   ]
  },
  {
   "cell_type": "code",
   "execution_count": 64,
   "id": "dcfad577-ef53-4609-a24d-5514e73a49b6",
   "metadata": {},
   "outputs": [],
   "source": [
    "# test = add_back_missing_stops(speeds_filtered, speeds)"
   ]
  },
  {
   "cell_type": "code",
   "execution_count": 65,
   "id": "69ea83dd-2d53-4c54-9eac-564d3db0e521",
   "metadata": {},
   "outputs": [],
   "source": [
    "# test.shape"
   ]
  },
  {
   "cell_type": "code",
   "execution_count": 66,
   "id": "600f38cb-0056-4478-bf1b-7413daaa08d9",
   "metadata": {},
   "outputs": [],
   "source": [
    "# test.sample()"
   ]
  },
  {
   "cell_type": "code",
   "execution_count": 67,
   "id": "bba1c738-7dd0-4e66-ab2a-68991274e716",
   "metadata": {},
   "outputs": [],
   "source": [
    "# concat1 = pd.concat([test, speeds_filtered])"
   ]
  },
  {
   "cell_type": "code",
   "execution_count": 68,
   "id": "04a56a1f-9ebf-4e56-9d72-a9f3f608cecc",
   "metadata": {},
   "outputs": [],
   "source": [
    "# concat1.shape"
   ]
  },
  {
   "cell_type": "code",
   "execution_count": 69,
   "id": "aab8cffc-d04b-4d68-b95b-902a9d3266ac",
   "metadata": {},
   "outputs": [],
   "source": [
    "# speeds.shape"
   ]
  },
  {
   "cell_type": "code",
   "execution_count": 93,
   "id": "e236fe57-b9a9-4ca0-8993-08c41723eeaf",
   "metadata": {},
   "outputs": [],
   "source": [
    "def add_back_missing_stops(filtered_speeds:pd.DataFrame, \n",
    "                           original_speeds:pd.DataFrame,\n",
    "                           columns_to_merge:list) -> pd.DataFrame:\n",
    "    \n",
    "    merge1 = pd.merge(original_speeds, filtered_speeds, on = columns_to_merge, how = \"left\", indicator = True)\n",
    "    \n",
    "    # Filter out for left only speeds that were deleted\n",
    "    left_only = merge1.loc[merge1._merge == 'left_only']\n",
    "    left_only = left_only[columns_to_merge].reset_index(drop = True)\n",
    "    \n",
    "    return left_only \n"
   ]
  },
  {
   "cell_type": "code",
   "execution_count": 108,
   "id": "c00cef57-a7f9-474a-8ad2-9719d3d375e8",
   "metadata": {},
   "outputs": [],
   "source": [
    "def speeds_with_segment_geom(\n",
    "    analysis_date: str, \n",
    "    max_speed_cutoff: int = 70,\n",
    "    dict_inputs: dict = {},\n",
    "    percentile:float = 0.20,\n",
    ") -> gpd.GeoDataFrame: \n",
    "    \"\"\"\n",
    "    Import the segment-trip table. \n",
    "    Average the speed_mph across all trips present in the segment.\n",
    "    \"\"\"\n",
    "    SEGMENT_FILE = dict_inputs[\"segments_file\"]\n",
    "    SEGMENT_IDENTIFIER_COLS = dict_inputs[\"segment_identifier_cols\"]\n",
    "    SPEEDS_FILE = dict_inputs[\"stage4\"]\n",
    "    \n",
    "    # Merge in segment geometry\n",
    "    segments = helpers.import_segments(\n",
    "        SEGMENT_GCS,\n",
    "        f\"{SEGMENT_FILE}_{analysis_date}\",\n",
    "        columns = SEGMENT_IDENTIFIER_COLS + [\n",
    "            \"schedule_gtfs_dataset_key\", \n",
    "            \"stop_id\",\n",
    "            \"loop_or_inlining\",\n",
    "            \"geometry\", \n",
    "            \"district\", \"district_name\"\n",
    "        ]\n",
    "    )\n",
    "    \n",
    "    # Read in speeds\n",
    "    df = pd.read_parquet(\n",
    "        f\"{SEGMENT_GCS}{SPEEDS_FILE}_{analysis_date}\", \n",
    "        filters = [[(\"speed_mph\", \"<=\", max_speed_cutoff), \n",
    "                    (\"sec_elapsed\", \">\", 0), \n",
    "                    (\"meters_elapsed\", \">\", 0)\n",
    "                   ]]\n",
    "    )\n",
    "    \n",
    "    df2 = df[df.speed_mph.notna() ].reset_index(drop=True)\n",
    "    \n",
    "    # Filter out abnormally high and low speeds\n",
    "    # Threshold defaults to throwing away the bottom 20% of rows with low speeds.\n",
    "    columns_keep_merge = ['shape_array_key', 'stop_sequence', 'schedule_gtfs_dataset_key',\n",
    "      'gtfs_dataset_name', 'trip_id', 'min_time', 'min_dist', 'max_time',\n",
    "       'max_dist', 'meters_elapsed', 'sec_elapsed', 'speed_mph',\n",
    "      'trip_instance_key']\n",
    "    \n",
    "    df3 = speeds_length_filter(df2, segments, columns_keep_merge, percentile)\n",
    "    time_of_day_df = sched_rt_utils.get_trip_time_buckets(analysis_date)\n",
    "\n",
    "    df4 = pd.merge(\n",
    "        df3, \n",
    "        time_of_day_df, \n",
    "        on = \"trip_instance_key\", \n",
    "        how = \"inner\"\n",
    "    )\n",
    "    \n",
    "    all_day = B2_avg_speeds_by_segment.calculate_avg_speeds(\n",
    "        df4, \n",
    "        SEGMENT_IDENTIFIER_COLS\n",
    "    )\n",
    "    peak = B2_avg_speeds_by_segment.calculate_avg_speeds(\n",
    "        df4[df4.time_of_day.isin([\"AM Peak\", \"PM Peak\"])], \n",
    "        SEGMENT_IDENTIFIER_COLS\n",
    "    )\n",
    "    \n",
    "    stats = pd.concat([\n",
    "        all_day.assign(time_of_day = \"all_day\"),\n",
    "        peak.assign(time_of_day = \"peak\")\n",
    "    ], axis=0)\n",
    "    \n",
    "    # Add back in rows that were filtered out for \n",
    "    # segment length\n",
    "    missing = add_back_missing_stops(stats, df, ['shape_array_key', 'stop_sequence'])\n",
    "    \n",
    "    # Concat & fill in NA \n",
    "    stats2 = pd.concat([missing, stats])\n",
    "    stats2 = stats2.fillna(0) \n",
    "    \n",
    "    # Merge in segment geometry with a changed CRS\n",
    "    segments = segments.to_crs(geography_utils.WGS84)\n",
    "    \n",
    "    gdf = pd.merge(\n",
    "        segments,\n",
    "        stats2,\n",
    "        on = SEGMENT_IDENTIFIER_COLS,\n",
    "        how = \"inner\"\n",
    "    )\n",
    "    return gdf"
   ]
  },
  {
   "cell_type": "markdown",
   "id": "04682811-eda1-424f-9a3d-4609f37f5a80",
   "metadata": {},
   "source": [
    "### Check out speeds"
   ]
  },
  {
   "cell_type": "code",
   "execution_count": 109,
   "id": "5355132e-988c-40f0-8648-afaf5fe9b026",
   "metadata": {},
   "outputs": [],
   "source": [
    "# Teakes around 7 minutes\n",
    "avg_test = speeds_with_segment_geom(analysis_date, \n",
    "                                    70, \n",
    "                                    dictionary,\n",
    "                                    0.2)"
   ]
  },
  {
   "cell_type": "code",
   "execution_count": 110,
   "id": "7e2944cc-5fff-42d4-a120-72fc3f61f82b",
   "metadata": {},
   "outputs": [
    {
     "data": {
      "text/plain": [
       "Index(['shape_array_key', 'stop_sequence', 'schedule_gtfs_dataset_key',\n",
       "       'stop_id', 'loop_or_inlining', 'geometry', 'district', 'district_name',\n",
       "       'p50_mph', 'n_trips', 'p20_mph', 'p80_mph', 'time_of_day'],\n",
       "      dtype='object')"
      ]
     },
     "execution_count": 110,
     "metadata": {},
     "output_type": "execute_result"
    }
   ],
   "source": [
    "avg_test.columns"
   ]
  },
  {
   "cell_type": "code",
   "execution_count": 99,
   "id": "781ca8a6-50dd-4257-9919-a9c9ddc1019f",
   "metadata": {},
   "outputs": [],
   "source": [
    "STG5_FILE = dictionary['stage5']\n",
    "og_avg = gpd.read_parquet(f\"{SEGMENT_GCS}{STG5_FILE}_{analysis_date}.parquet\")\n",
    "og_avg = og_avg.drop(columns=[\"district\", \"district_name\"])"
   ]
  },
  {
   "cell_type": "code",
   "execution_count": 111,
   "id": "1521ba7c-5977-4ab6-9376-1edf41eaf9bb",
   "metadata": {},
   "outputs": [
    {
     "data": {
      "text/plain": [
       "Index(['shape_array_key', 'stop_sequence', 'schedule_gtfs_dataset_key',\n",
       "       'stop_id', 'loop_or_inlining', 'geometry', 'p50_mph', 'n_trips',\n",
       "       'p20_mph', 'p80_mph', 'time_of_day'],\n",
       "      dtype='object')"
      ]
     },
     "execution_count": 111,
     "metadata": {},
     "output_type": "execute_result"
    }
   ],
   "source": [
    "og_avg.columns"
   ]
  },
  {
   "cell_type": "code",
   "execution_count": 100,
   "id": "7d7e413c-413e-41b7-a464-e31d10db6252",
   "metadata": {},
   "outputs": [
    {
     "data": {
      "text/plain": [
       "'avg_speeds_stop_segments'"
      ]
     },
     "execution_count": 100,
     "metadata": {},
     "output_type": "execute_result"
    }
   ],
   "source": [
    "STG5_FILE"
   ]
  },
  {
   "cell_type": "code",
   "execution_count": 112,
   "id": "e761f21e-6e0e-466f-878e-a72aa15d7b19",
   "metadata": {},
   "outputs": [
    {
     "data": {
      "text/plain": [
       "(230532, 11)"
      ]
     },
     "execution_count": 112,
     "metadata": {},
     "output_type": "execute_result"
    }
   ],
   "source": [
    "og_avg.shape"
   ]
  },
  {
   "cell_type": "code",
   "execution_count": 113,
   "id": "da0ccf1f-29b2-4374-a8aa-99d7a59256e3",
   "metadata": {},
   "outputs": [
    {
     "data": {
      "text/plain": [
       "(236547, 13)"
      ]
     },
     "execution_count": 113,
     "metadata": {},
     "output_type": "execute_result"
    }
   ],
   "source": [
    "avg_test.shape"
   ]
  },
  {
   "cell_type": "code",
   "execution_count": null,
   "id": "7ce13f75-786a-4315-b571-923c484107c9",
   "metadata": {},
   "outputs": [],
   "source": [
    "merge1_preview_cols = ['meters_length', \n",
    "       'trip_id', 'min_time', 'min_dist', 'max_time', 'max_dist',\n",
    "       'meters_elapsed', 'sec_elapsed', 'speed_mph', \n",
    "       'percent']"
   ]
  },
  {
   "cell_type": "markdown",
   "id": "9daf292e-e8d8-4813-86c9-7a09fc035c4a",
   "metadata": {
    "tags": []
   },
   "source": [
    "## Sample segments and routes for Big Blue Bus"
   ]
  },
  {
   "cell_type": "code",
   "execution_count": null,
   "id": "edbaac05-d03a-42d4-abba-4a4483fa3005",
   "metadata": {},
   "outputs": [],
   "source": [
    "test_operator = \"Big Blue Bus VehiclePositions\"\n",
    "test_org = \"City of Santa Monica\"\n",
    "test_key = \"6c2d7daaf979779fa2089c6395baf98b\""
   ]
  },
  {
   "cell_type": "code",
   "execution_count": null,
   "id": "9c7826f6-27ed-498f-97b8-ee0f4c2a992a",
   "metadata": {},
   "outputs": [],
   "source": [
    "pub_df = pd.read_parquet(\n",
    "    f\"{SEGMENT_GCS}export/avg_speeds_stop_segments_{analysis_date}_tabular.parquet\", \n",
    "    filters = [[(\"agency\", \"==\", test_org)]]\n",
    ")"
   ]
  },
  {
   "cell_type": "code",
   "execution_count": null,
   "id": "288a9881-aa75-4331-9c4c-e01c3954fafe",
   "metadata": {},
   "outputs": [],
   "source": [
    "# Dark orange\n",
    "shape_id1  = \"26375\"\n",
    "stop_seq1 = 7\n",
    "shape_array1 = pub_df[pub_df.shape_id==shape_id1].shape_array_key.iloc[0]"
   ]
  },
  {
   "cell_type": "code",
   "execution_count": null,
   "id": "05465822-ff34-47cb-ac43-2d11e12e3494",
   "metadata": {},
   "outputs": [],
   "source": [
    "# Light yellow \n",
    "shape_id2 = \"26342\"\n",
    "stop_seq2 = 23\n",
    "shape_array2 = pub_df[pub_df.shape_id==shape_id2].shape_array_key.iloc[0]"
   ]
  },
  {
   "cell_type": "code",
   "execution_count": null,
   "id": "d1315d79-276d-4810-9593-07e8770f67ba",
   "metadata": {},
   "outputs": [],
   "source": [
    "# Dark Red\n",
    "shape_id3 = \"26393\"\n",
    "stop_seq3 = 32\n",
    "shape_array3 = pub_df[pub_df.shape_id==shape_id3].shape_array_key.iloc[0]"
   ]
  },
  {
   "cell_type": "code",
   "execution_count": null,
   "id": "d163d014-0e76-41ef-813f-ff2617077249",
   "metadata": {},
   "outputs": [],
   "source": [
    "# Light orange\n",
    "shape_id4 = \"26372\"\n",
    "stop_seq4 = 14\n",
    "shape_array4 = pub_df[pub_df.shape_id==shape_id4].shape_array_key.iloc[0]"
   ]
  },
  {
   "cell_type": "code",
   "execution_count": null,
   "id": "d946f239-b242-4a3e-95f6-580690e245b7",
   "metadata": {},
   "outputs": [],
   "source": [
    "# Green\n",
    "shape_id5 = \"26400\"\n",
    "stop_seq5= 8\n",
    "shape_array5 = pub_df[pub_df.shape_id==shape_id5].shape_array_key.iloc[0]"
   ]
  },
  {
   "cell_type": "code",
   "execution_count": null,
   "id": "ec9da438-07d4-45ef-85c1-fc44d6eaadbf",
   "metadata": {},
   "outputs": [],
   "source": [
    "def one_route_map(avg_speeds:gpd.GeoDataFrame, shape_array_key:str):\n",
    "    display(avg_speeds[avg_speeds.shape_array_key==shape_array_key].explore(\n",
    "    \"p50_mph\", \n",
    "    tiles = \"CartoDB Positron\",\n",
    "    cmap = rt_utils.ZERO_THIRTY_COLORSCALE,\n",
    "    style_kwds = {'weight':5}))\n",
    "    "
   ]
  },
  {
   "cell_type": "markdown",
   "id": "d9cbd71c-ff9d-49f4-a522-0150d3721da7",
   "metadata": {},
   "source": [
    "## Checks"
   ]
  },
  {
   "cell_type": "code",
   "execution_count": null,
   "id": "19bd5cbe-0bc6-4dfd-b6fb-37a307dfb9db",
   "metadata": {},
   "outputs": [],
   "source": [
    "def compare_average(avg_test:pd.DataFrame,\n",
    "                    og_avg:pd.DataFrame, \n",
    "                    shape_array_key:str,\n",
    "                    stop_sequence:int):\n",
    "    \n",
    "    print(f\"route {shape_array_key}, sequence {stop_sequence}\")\n",
    "    drop_cols = ['shape_array_key','geometry','stop_sequence']\n",
    "    print('Original')\n",
    "    display(og_avg[(og_avg.shape_array_key == shape_array_key) &(og_avg.stop_sequence == stop_sequence)].drop(columns = drop_cols))\n",
    "    \n",
    "    print('New')\n",
    "    display(avg_test[(avg_test.shape_array_key == shape_array_key) & (avg_test.stop_sequence == stop_sequence)].drop(columns = drop_cols))     "
   ]
  },
  {
   "cell_type": "code",
   "execution_count": null,
   "id": "b6a35555-e9ae-4a34-9f38-f4b3a78917de",
   "metadata": {},
   "outputs": [],
   "source": [
    "og_avg.p50_mph.describe()"
   ]
  },
  {
   "cell_type": "code",
   "execution_count": null,
   "id": "09961212-cad7-40ab-bfd9-ff457eaad089",
   "metadata": {},
   "outputs": [],
   "source": [
    "avg_test.p50_mph.describe()"
   ]
  },
  {
   "cell_type": "code",
   "execution_count": null,
   "id": "cbbb122d-4a6c-4f23-b377-c9de20924739",
   "metadata": {},
   "outputs": [],
   "source": [
    "compare_average(avg_test, og_avg, shape_array1, stop_seq1)"
   ]
  },
  {
   "cell_type": "code",
   "execution_count": null,
   "id": "16f98b58-75ae-4a5c-a947-c6a4a58b7644",
   "metadata": {},
   "outputs": [],
   "source": [
    "compare_average(avg_test, og_avg, shape_array2, stop_seq2)"
   ]
  },
  {
   "cell_type": "markdown",
   "id": "5c797a73-3cb6-46dd-b451-959bb185d762",
   "metadata": {},
   "source": [
    "* Strangely enough, the 50th percentile speed became lower\n",
    "* Sometimes the lower the length, the higher the speed?"
   ]
  },
  {
   "cell_type": "code",
   "execution_count": null,
   "id": "3ede20ec-3d72-4a97-803f-67906eb9b662",
   "metadata": {},
   "outputs": [],
   "source": [
    "compare_average(avg_test, og_avg, shape_array3, stop_seq3)"
   ]
  },
  {
   "cell_type": "code",
   "execution_count": null,
   "id": "ea2fd667-8e2e-43be-9015-81f0d066d834",
   "metadata": {
    "scrolled": true,
    "tags": []
   },
   "outputs": [],
   "source": [
    "merge1.loc[(merge1.shape_array_key == shape_array3) & (merge1.stop_sequence == stop_seq3)][merge1_preview_cols].sort_values(['percent'])"
   ]
  },
  {
   "cell_type": "markdown",
   "id": "a37b765b-1d23-4e69-8959-474289814ac7",
   "metadata": {},
   "source": [
    "* This is missing because the only row that was non-zero only covered 27% of the length\n",
    "* Maybe up the threshold?"
   ]
  },
  {
   "cell_type": "code",
   "execution_count": null,
   "id": "13a5f252-5bf6-44b4-b1e0-baec918fa61f",
   "metadata": {},
   "outputs": [],
   "source": [
    "\n",
    "compare_average(avg_test, og_avg, shape_array4, stop_seq4)"
   ]
  },
  {
   "cell_type": "code",
   "execution_count": null,
   "id": "bf2d2ec9-c9db-4b2d-977a-3df3547a0cf1",
   "metadata": {},
   "outputs": [],
   "source": [
    "merge1.loc[(merge1.shape_array_key == shape_array4) & (merge1.stop_sequence == stop_seq4)][merge1_preview_cols]"
   ]
  },
  {
   "cell_type": "code",
   "execution_count": null,
   "id": "64a82a45-2df9-49e6-b1e1-9aaaef90e818",
   "metadata": {},
   "outputs": [],
   "source": [
    "compare_average(avg_test, og_avg, shape_array5, stop_seq5)"
   ]
  },
  {
   "cell_type": "markdown",
   "id": "efaca354-73ae-419d-bea2-2edc7d773a0c",
   "metadata": {},
   "source": [
    "## Comparison\n",
    "* i still want a left join for segments, but only for segments that have RT trips ever (that end up going missing, after the 45% rule)\n",
    "\n",
    "* i don't want a left join to show all segments ever, bc segments are cut from scheduled shapes. more operators have schedule data than RT. so i don't want a mess of segments at the end of the left join off schedule, but a left join for \"RT shapes\""
   ]
  },
  {
   "cell_type": "code",
   "execution_count": null,
   "id": "ea7a964d-ae0e-40b6-b8ec-b8059d93c855",
   "metadata": {},
   "outputs": [],
   "source": [
    "# Merge1: ALL rows even before cutting off max speed of 70 and segments with less than \n",
    "# 40% of the segment\n",
    "rt_segs_agg = (merge1\n",
    "            .groupby(['shape_array_key','schedule_gtfs_dataset_key'])\n",
    "            .agg({'stop_sequence':'nunique'})\n",
    "            .reset_index()\n",
    "            .rename(columns = {'stop_sequence':'total_stops'})\n",
    "            .add_prefix('og_')\n",
    "           )"
   ]
  },
  {
   "cell_type": "code",
   "execution_count": null,
   "id": "397092c1-b8d9-47cb-a077-6bceadfdcf50",
   "metadata": {},
   "outputs": [],
   "source": [
    "rt_segs_agg.sample()"
   ]
  },
  {
   "cell_type": "code",
   "execution_count": null,
   "id": "11415d26-28cf-4c0f-9ba5-402df7bb88a2",
   "metadata": {},
   "outputs": [],
   "source": [
    "# Rows that are above 70 mph and under 40% coverage of a segment are thrown away\n",
    "avg_test_agg = (avg_test\n",
    "            .groupby(['shape_array_key','schedule_gtfs_dataset_key'])\n",
    "            .agg({'stop_sequence':'nunique'})\n",
    "            .reset_index()\n",
    "            .rename(columns = {'stop_sequence':'total_stops'})\n",
    "            .add_prefix('testing_')\n",
    "           )"
   ]
  },
  {
   "cell_type": "code",
   "execution_count": null,
   "id": "6863ad33-4e07-4e74-b968-d4702d56c50a",
   "metadata": {},
   "outputs": [],
   "source": [
    "avg_test_agg.sample()"
   ]
  },
  {
   "cell_type": "code",
   "execution_count": null,
   "id": "7e468c16-2d41-4b8c-9e1d-d45beec22805",
   "metadata": {},
   "outputs": [],
   "source": [
    "avg_test_agg.shape, rt_segs_agg.shape"
   ]
  },
  {
   "cell_type": "code",
   "execution_count": null,
   "id": "03e20331-bd79-4d2b-ac1f-1d889b8d1651",
   "metadata": {},
   "outputs": [],
   "source": [
    "m1 = (pd\n",
    "      .merge(rt_segs_agg, avg_test_agg, \n",
    "             left_on = ['og_shape_array_key', 'og_schedule_gtfs_dataset_key'],\n",
    "             right_on = ['testing_shape_array_key', 'testing_schedule_gtfs_dataset_key'], \n",
    "             how = 'outer', indicator = True)\n",
    "     )"
   ]
  },
  {
   "cell_type": "code",
   "execution_count": null,
   "id": "4e6d3967-6b60-44ce-8c42-fab450f217a0",
   "metadata": {},
   "outputs": [],
   "source": [
    "m1['total_thrown_out_stops'] = m1.og_total_stops - m1.testing_total_stops"
   ]
  },
  {
   "cell_type": "code",
   "execution_count": null,
   "id": "af8fff18-a703-4bcf-a398-c318d419abff",
   "metadata": {},
   "outputs": [],
   "source": [
    "m1.sample(3)"
   ]
  },
  {
   "cell_type": "code",
   "execution_count": null,
   "id": "cc82466e-b06f-43b6-bc60-d9dd262d30af",
   "metadata": {},
   "outputs": [],
   "source": [
    "m1.loc[m1._merge == 'left_only'].sample(3)"
   ]
  },
  {
   "cell_type": "markdown",
   "id": "1c7c7868-fe1f-4182-ac32-480e86cdf6b6",
   "metadata": {},
   "source": [
    "* 28 routes are missing."
   ]
  },
  {
   "cell_type": "code",
   "execution_count": null,
   "id": "bd236af7-a8fa-4085-9db5-9681031b14c5",
   "metadata": {},
   "outputs": [],
   "source": [
    "m1._merge.value_counts()"
   ]
  },
  {
   "cell_type": "code",
   "execution_count": null,
   "id": "33aa075a-74e0-4538-be13-f9b0ec78f55b",
   "metadata": {},
   "outputs": [],
   "source": [
    "m1.total_thrown_out_stops.describe()"
   ]
  },
  {
   "cell_type": "markdown",
   "id": "ad49a707-454e-42e4-99e1-56c1d692dc45",
   "metadata": {},
   "source": [
    "#### Seeing all the sequences thrown out"
   ]
  },
  {
   "cell_type": "code",
   "execution_count": null,
   "id": "493c2364-2032-495f-b628-7b21b5a29f5c",
   "metadata": {},
   "outputs": [],
   "source": [
    "subset = ['shape_array_key','schedule_gtfs_dataset_key', 'stop_sequence']"
   ]
  },
  {
   "cell_type": "code",
   "execution_count": null,
   "id": "8e77b3dc-7892-43f1-83ad-f578154c2f50",
   "metadata": {},
   "outputs": [],
   "source": [
    "merge1.columns"
   ]
  },
  {
   "cell_type": "code",
   "execution_count": null,
   "id": "028e98e1-7562-40a2-95fe-c96b0cb9e7b4",
   "metadata": {},
   "outputs": [],
   "source": [
    "merge2 = merge1[subset]"
   ]
  },
  {
   "cell_type": "code",
   "execution_count": null,
   "id": "977a07a0-83f3-4bbd-b56a-350b2c4ce089",
   "metadata": {},
   "outputs": [],
   "source": [
    "avg_test2 = avg_test[subset]"
   ]
  },
  {
   "cell_type": "code",
   "execution_count": null,
   "id": "b50d758b-a746-4bff-8216-58af01bf5732",
   "metadata": {},
   "outputs": [],
   "source": [
    "m2 = pd.merge(merge2, avg_test2, on = subset, how = 'outer', indicator = True)"
   ]
  },
  {
   "cell_type": "code",
   "execution_count": null,
   "id": "7bee76b2-b55b-40cc-bd6d-805c940b6f99",
   "metadata": {},
   "outputs": [],
   "source": [
    "m2._merge.value_counts()"
   ]
  },
  {
   "cell_type": "code",
   "execution_count": null,
   "id": "6072d005-0b15-48f8-a71e-61988edc72d1",
   "metadata": {},
   "outputs": [],
   "source": [
    "m2.columns"
   ]
  },
  {
   "cell_type": "code",
   "execution_count": null,
   "id": "df0401ee-7eb5-49f7-ae76-2fee78152e37",
   "metadata": {},
   "outputs": [],
   "source": [
    "thrown_out_sequences = m2.loc[m2._merge == \"left_only\"].reset_index()"
   ]
  },
  {
   "cell_type": "code",
   "execution_count": null,
   "id": "1c5b656d-255a-42de-b980-601566bd2074",
   "metadata": {},
   "outputs": [],
   "source": [
    "thrown_out_sequences.sample()"
   ]
  },
  {
   "cell_type": "code",
   "execution_count": null,
   "id": "e604e001-668b-433c-ac25-f54ce713e5a4",
   "metadata": {},
   "outputs": [],
   "source": [
    "thrown_out_sequences2 = (thrown_out_sequences\n",
    "            .groupby(['shape_array_key'])\n",
    "            .agg({'stop_sequence':'nunique'})\n",
    "            .reset_index()\n",
    "            .rename(columns = {'stop_sequence':'total_missing_stops'})\n",
    "           )"
   ]
  },
  {
   "cell_type": "code",
   "execution_count": null,
   "id": "80a93303-6c79-4027-9121-1e5c1cbfe79a",
   "metadata": {},
   "outputs": [],
   "source": [
    "thrown_out_sequences2.shape"
   ]
  },
  {
   "cell_type": "code",
   "execution_count": null,
   "id": "cfc1f084-7646-4b24-bb88-22aef521d443",
   "metadata": {},
   "outputs": [],
   "source": [
    "thrown_out_sequences2.head()"
   ]
  },
  {
   "cell_type": "code",
   "execution_count": null,
   "id": "57c9a363-fb77-45ac-953a-a49d99fb7954",
   "metadata": {},
   "outputs": [],
   "source": [
    "thrown_out_sequences2.total_missing_stops.describe()"
   ]
  }
 ],
 "metadata": {
  "kernelspec": {
   "display_name": "Python 3 (ipykernel)",
   "language": "python",
   "name": "python3"
  },
  "language_info": {
   "codemirror_mode": {
    "name": "ipython",
    "version": 3
   },
   "file_extension": ".py",
   "mimetype": "text/x-python",
   "name": "python",
   "nbconvert_exporter": "python",
   "pygments_lexer": "ipython3",
   "version": "3.9.13"
  },
  "toc-autonumbering": false,
  "toc-showcode": false
 },
 "nbformat": 4,
 "nbformat_minor": 5
}
