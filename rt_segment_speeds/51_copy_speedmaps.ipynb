{
 "cells": [
  {
   "cell_type": "code",
   "execution_count": 1,
   "id": "701f2fa1-cdec-4027-a35c-22160c82869d",
   "metadata": {
    "tags": []
   },
   "outputs": [],
   "source": [
    "import geopandas as gpd\n",
    "import pandas as pd\n",
    "from calitp_data_analysis.gcs_geopandas import GCSGeoPandas\n",
    "from shared_utils import catalog_utils, rt_dates\n",
    "\n",
    "g = GCSGeoPandas()"
   ]
  },
  {
   "cell_type": "code",
   "execution_count": 2,
   "id": "58fe3aeb-5490-4744-a5b5-b315166c9c92",
   "metadata": {
    "tags": []
   },
   "outputs": [
    {
     "data": {
      "text/plain": [
       "['2025-09-23',\n",
       " '2025-09-24',\n",
       " '2025-09-25',\n",
       " '2025-10-14',\n",
       " '2025-10-15',\n",
       " '2025-10-16']"
      ]
     },
     "execution_count": 2,
     "metadata": {},
     "output_type": "execute_result"
    }
   ],
   "source": [
    "relevant_dates = [\n",
    "    rt_dates.DATES[i]\n",
    "    for i in [\"sep2025a\", \"sep2025\", \"sep2025b\", \"oct2025a\", \"oct2025\", \"oct2025b\"]\n",
    "]\n",
    "relevant_dates"
   ]
  },
  {
   "cell_type": "code",
   "execution_count": 3,
   "id": "698f3c19-afc0-4d32-bdfb-e934a1aebd4d",
   "metadata": {
    "tags": []
   },
   "outputs": [],
   "source": [
    "gtfs_yml = catalog_utils.get_catalog(\"gtfs_analytics_data\")\n",
    "aggregated_parent = (\n",
    "    f\"{gtfs_yml.speedmap_segments.dir}{gtfs_yml.speedmap_segments.segment_timeofday}\"\n",
    ")\n",
    "trip_speeds_parent = (\n",
    "    f\"{gtfs_yml.speedmap_segments.dir}{gtfs_yml.speedmap_segments.stage4}\"\n",
    ")"
   ]
  },
  {
   "cell_type": "code",
   "execution_count": 4,
   "id": "098bbe5f-baf8-4d47-94a3-8deada112dfc",
   "metadata": {},
   "outputs": [
    {
     "data": {
      "text/plain": [
       "'gs://calitp-analytics-data/data-analyses/rt_segment_speeds/rollup_singleday/speeds_shape_timeofday_speedmap_segments'"
      ]
     },
     "execution_count": 4,
     "metadata": {},
     "output_type": "execute_result"
    }
   ],
   "source": [
    "aggregated_parent"
   ]
  },
  {
   "cell_type": "code",
   "execution_count": 5,
   "id": "5b2dfe84-3231-41e0-8a4c-38d89c339f98",
   "metadata": {
    "tags": []
   },
   "outputs": [
    {
     "data": {
      "text/plain": [
       "['gs://calitp-analytics-data/data-analyses/rt_segment_speeds/rollup_singleday/speeds_shape_timeofday_speedmap_segments_2025-09-23.parquet',\n",
       " 'gs://calitp-analytics-data/data-analyses/rt_segment_speeds/rollup_singleday/speeds_shape_timeofday_speedmap_segments_2025-09-24.parquet',\n",
       " 'gs://calitp-analytics-data/data-analyses/rt_segment_speeds/rollup_singleday/speeds_shape_timeofday_speedmap_segments_2025-09-25.parquet',\n",
       " 'gs://calitp-analytics-data/data-analyses/rt_segment_speeds/rollup_singleday/speeds_shape_timeofday_speedmap_segments_2025-10-14.parquet',\n",
       " 'gs://calitp-analytics-data/data-analyses/rt_segment_speeds/rollup_singleday/speeds_shape_timeofday_speedmap_segments_2025-10-15.parquet',\n",
       " 'gs://calitp-analytics-data/data-analyses/rt_segment_speeds/rollup_singleday/speeds_shape_timeofday_speedmap_segments_2025-10-16.parquet']"
      ]
     },
     "execution_count": 5,
     "metadata": {},
     "output_type": "execute_result"
    }
   ],
   "source": [
    "# Get aggregated speedmaps segments paths\n",
    "aggregated_uris = [f\"{aggregated_parent}_{date}.parquet\" for date in relevant_dates]\n",
    "aggregated_uris"
   ]
  },
  {
   "cell_type": "code",
   "execution_count": 6,
   "id": "66efcd91-9d18-455a-82c7-0124b17ad675",
   "metadata": {},
   "outputs": [
    {
     "data": {
      "text/plain": [
       "['gs://calitp-analytics-data/data-analyses/rt_segment_speeds/speedmap/speeds_2025-09-23.parquet',\n",
       " 'gs://calitp-analytics-data/data-analyses/rt_segment_speeds/speedmap/speeds_2025-09-24.parquet',\n",
       " 'gs://calitp-analytics-data/data-analyses/rt_segment_speeds/speedmap/speeds_2025-09-25.parquet',\n",
       " 'gs://calitp-analytics-data/data-analyses/rt_segment_speeds/speedmap/speeds_2025-10-14.parquet',\n",
       " 'gs://calitp-analytics-data/data-analyses/rt_segment_speeds/speedmap/speeds_2025-10-15.parquet',\n",
       " 'gs://calitp-analytics-data/data-analyses/rt_segment_speeds/speedmap/speeds_2025-10-16.parquet']"
      ]
     },
     "execution_count": 6,
     "metadata": {},
     "output_type": "execute_result"
    }
   ],
   "source": [
    "# Get trip level speeds paths\n",
    "trip_speeds_uris = [f\"{trip_speeds_parent}_{date}.parquet\" for date in relevant_dates]\n",
    "trip_speeds_uris"
   ]
  },
  {
   "cell_type": "code",
   "execution_count": 7,
   "id": "b0ea229d-9d2e-4279-a621-3fe1338b0a3d",
   "metadata": {
    "tags": []
   },
   "outputs": [
    {
     "name": "stdout",
     "output_type": "stream",
     "text": [
      "for gs://calitp-analytics-data/data-analyses/rt_segment_speeds/rollup_singleday/speeds_shape_timeofday_speedmap_segments_2025-09-23.parquet, 48448 out of 540142 speeds did not match\n",
      "for gs://calitp-analytics-data/data-analyses/rt_segment_speeds/rollup_singleday/speeds_shape_timeofday_speedmap_segments_2025-09-24.parquet, 49334 out of 545854 speeds did not match\n",
      "for gs://calitp-analytics-data/data-analyses/rt_segment_speeds/rollup_singleday/speeds_shape_timeofday_speedmap_segments_2025-09-25.parquet, 49566 out of 546213 speeds did not match\n",
      "for gs://calitp-analytics-data/data-analyses/rt_segment_speeds/rollup_singleday/speeds_shape_timeofday_speedmap_segments_2025-10-14.parquet, 49972 out of 552447 speeds did not match\n",
      "for gs://calitp-analytics-data/data-analyses/rt_segment_speeds/rollup_singleday/speeds_shape_timeofday_speedmap_segments_2025-10-15.parquet, 51377 out of 554242 speeds did not match\n",
      "for gs://calitp-analytics-data/data-analyses/rt_segment_speeds/rollup_singleday/speeds_shape_timeofday_speedmap_segments_2025-10-16.parquet, 7529 out of 98110 speeds did not match\n"
     ]
    }
   ],
   "source": [
    "# Validate that aggregated speeds match trip speeds in a majority of cases\n",
    "GROUP_COLUMNS = [\"time_of_day\", \"segment_id\", \"shape_id\"]\n",
    "quantile_to_speed_column = {0.2: \"p20_mph\", 0.5: \"p50_mph\", 0.8: \"p80_mph\"}\n",
    "for aggregated_uri, trip_speeds_uri in zip(aggregated_uris, trip_speeds_uris):\n",
    "    # read aggregated and precursor data\n",
    "    aggregated = g.read_parquet(aggregated_uri)\n",
    "    trip_speeds = pd.read_parquet(trip_speeds_uri)\n",
    "    # reindex aggregated_speeds and group trip_speeds_grouped so they theoretically have the same data\n",
    "    aggregated_speeds = aggregated.set_index(GROUP_COLUMNS)[\n",
    "        list(quantile_to_speed_column.values())\n",
    "    ]\n",
    "    trip_speeds_grouped = trip_speeds.groupby(GROUP_COLUMNS)\n",
    "    trip_speeds_percentiles = pd.concat(\n",
    "        [\n",
    "            trip_speeds_grouped[\"speed_mph\"].quantile(q).rename(name).round(2)\n",
    "            for q, name in quantile_to_speed_column.items()\n",
    "        ],\n",
    "        axis=1,\n",
    "    )\n",
    "    # the aggregated data appears to contain a subset of the trip speeds data, so only look at that subset\n",
    "    trip_speeds_percentiles_subset = trip_speeds_percentiles.loc[\n",
    "        aggregated_speeds.index\n",
    "    ]\n",
    "    # find the rows where at least one speed doesn't match\n",
    "    non_equal = (trip_speeds_percentiles_subset != aggregated_speeds).any(axis=1)\n",
    "    \n",
    "    print(\n",
    "        f\"for {aggregated_uri}, {non_equal.sum()} out of {len(aggregated_speeds.index)} speeds did not match\"\n",
    "    )"
   ]
  },
  {
   "cell_type": "code",
   "execution_count": 8,
   "id": "9abf5609-17c4-42e0-a24d-3b10b1fbee64",
   "metadata": {
    "tags": []
   },
   "outputs": [],
   "source": [
    "# Map source uris to output uris\n",
    "output_aggregated_uris = {\n",
    "    old_uri: f\"gs://calitp-publish-data-analysis/mtc_collab_2025/speeds/{old_uri.split('/')[-1]}\"\n",
    "    for old_uri in aggregated_uris\n",
    "}\n",
    "output_trip_speeds_uris = {\n",
    "    old_uri: f\"gs://calitp-publish-data-analysis/mtc_collab_2025/speeds/{old_uri.split('/')[-1]}\"\n",
    "    for old_uri in trip_speeds_uris\n",
    "}"
   ]
  },
  {
   "cell_type": "code",
   "execution_count": 10,
   "id": "eca3638b-eac0-47ff-a457-d6564cad7943",
   "metadata": {
    "tags": []
   },
   "outputs": [],
   "source": [
    "# Copy files from the private bucket to the public / mtc-visible bucket\n",
    "fs = g.gcs_filesystem\n",
    "for old_uri, new_uri in output_aggregated_uris.items():\n",
    "    fs.copy(old_uri, new_uri)\n",
    "for old_uri, new_uri in output_trip_speeds_uris.items():\n",
    "    fs.copy(old_uri, new_uri)"
   ]
  },
  {
   "cell_type": "code",
   "execution_count": null,
   "id": "0c8dd6af-2278-4d8e-b503-ff82135015df",
   "metadata": {},
   "outputs": [],
   "source": []
  }
 ],
 "metadata": {
  "kernelspec": {
   "display_name": "Python 3 (ipykernel)",
   "language": "python",
   "name": "python3"
  },
  "language_info": {
   "codemirror_mode": {
    "name": "ipython",
    "version": 3
   },
   "file_extension": ".py",
   "mimetype": "text/x-python",
   "name": "python",
   "nbconvert_exporter": "python",
   "pygments_lexer": "ipython3",
   "version": "3.11.10"
  }
 },
 "nbformat": 4,
 "nbformat_minor": 5
}
