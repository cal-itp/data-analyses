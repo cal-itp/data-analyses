{
 "cells": [
  {
   "cell_type": "markdown",
   "id": "52f6fed8-50d4-4513-91e8-b8c20e83a13b",
   "metadata": {},
   "source": [
    "# Average speeds on segments as time-series\n",
    "\n",
    "## Exploratory: aggregate to route-direction-stop columns \n",
    "\n",
    "**Metrics**\n",
    "* count number of speed values by stop (check for equality against number of service dates) -- how many do we get right vs have dupes\n",
    "   * if `n_speed_values = n_dates`, we are tracking the same segment over time\n",
    "   * if `n_speed_values > n_dates`, there are duplicate segments that are getting counted for each date\n",
    "* how many geometry values are present for a segment?\n",
    "   * anything > 1 means there's a ~dupe segment, or a segment cut slightly differently -- why does this happen, do the segments differ significantly or not really?\n",
    "\n",
    "With time-series, we can now track how well `route-dir-stop_pair` is at capturing the same geographic entity over time. Aggregations are done for each day, and we don't really know how well they are performing across time. \n",
    "\n",
    "Goal is to say: these are the average speeds on this segment over this period of time.\n",
    "\n",
    "Route-direction is more stable than shape (definitely trip) grain. With GTFS Digest, we saw that around the 6 month timeframe, even `route_id` starts changing. We do harmonize across time with route names, so let's see how well we're doing now at tracking the same segment over time."
   ]
  },
  {
   "cell_type": "code",
   "execution_count": 1,
   "id": "ea306c51-6bf4-4eac-8006-55335c91782a",
   "metadata": {},
   "outputs": [],
   "source": [
    "import folium\n",
    "import geopandas as gpd\n",
    "import pandas as pd\n",
    "\n",
    "import segment_time_series_utils as ts_utils"
   ]
  },
  {
   "cell_type": "code",
   "execution_count": 3,
   "id": "0ac0f352-6273-4dae-8ccd-5fe2503b1a5e",
   "metadata": {},
   "outputs": [],
   "source": [
    "df = ts_utils.route_segment_speeds_ts(\n",
    "    filters = [[(\"time_period\", \"==\", \"all_day\")]],\n",
    "    columns = ts_utils.route_dir_stop_cols + [\"service_date\", \"p50_mph\", \"geometry\"]\n",
    ")\n",
    "\n",
    "df2 = ts_utils.count_time_series_values_by_route_direction_stop(\n",
    "    df, ts_utils.route_dir_stop_cols)"
   ]
  },
  {
   "cell_type": "code",
   "execution_count": 4,
   "id": "2ef1e3cb-8ae1-4104-a523-f0f3c27e4180",
   "metadata": {},
   "outputs": [
    {
     "data": {
      "text/plain": [
       "17"
      ]
     },
     "execution_count": 4,
     "metadata": {},
     "output_type": "execute_result"
    }
   ],
   "source": [
    "df.service_date.nunique()"
   ]
  },
  {
   "cell_type": "code",
   "execution_count": 5,
   "id": "f30623e6-f13d-4e5f-ba61-5052b991586c",
   "metadata": {},
   "outputs": [
    {
     "data": {
      "text/plain": [
       "0.9545535172478178"
      ]
     },
     "execution_count": 5,
     "metadata": {},
     "output_type": "execute_result"
    }
   ],
   "source": [
    "df2[df2.n_speed_values == df2.n_dates].shape[0] / df2.shape[0]"
   ]
  },
  {
   "cell_type": "code",
   "execution_count": 6,
   "id": "04b89aaf-8e34-4435-82ad-5a5ad6b74464",
   "metadata": {},
   "outputs": [
    {
     "data": {
      "text/plain": [
       "0.045446482752182236"
      ]
     },
     "execution_count": 6,
     "metadata": {},
     "output_type": "execute_result"
    }
   ],
   "source": [
    "df2[df2.n_speed_values > df2.n_dates].shape[0] / df2.shape[0]"
   ]
  },
  {
   "cell_type": "markdown",
   "id": "78828cd3-65a7-4f67-8271-eaf404810b4f",
   "metadata": {},
   "source": [
    "* 95% rows are getting it right, 5% has dupes (speed counts are more than the dates, which means there are some duplicated counts)\n",
    "* about 55% of segment geometries stay stable across 17 months...85% have 1 or 2 geometries over this period.\n",
    "* geometries may need to get harmonized or not...if they are slightly differing, we may not care\n",
    "* the different segments getting cut would reflect the fact that shape changes. `stop_segments` already uses 1 shape for each route-direction, so intra-date-variation is already at a minimum....yet over 17 months, we are seeing this aggregation need further reducing of variation."
   ]
  },
  {
   "cell_type": "code",
   "execution_count": null,
   "id": "e257c08b-3c9a-439d-938f-fbeb1b6a7483",
   "metadata": {},
   "outputs": [],
   "source": [
    "df2.n_geometry.value_counts(normalize=True)"
   ]
  },
  {
   "cell_type": "code",
   "execution_count": null,
   "id": "f0d22a14-2d82-45fa-bde6-6375a7fe5425",
   "metadata": {},
   "outputs": [],
   "source": [
    "dupes = df2[df2.n_geometry>=3].reset_index(drop=True)\n",
    "dupes.shape"
   ]
  },
  {
   "cell_type": "code",
   "execution_count": null,
   "id": "aae3c5b4-fd7d-4ec1-8123-fa671098c4e2",
   "metadata": {},
   "outputs": [],
   "source": [
    "def plot_segment_variations(\n",
    "    df: gpd.GeoDataFrame, \n",
    "    dupes_df: pd.DataFrame,\n",
    "    row_value: int\n",
    "):\n",
    "    \"\"\"\n",
    "    Make a map of the variations of segments so we can see \n",
    "    just how similar or different they look.\n",
    "    \"\"\"\n",
    "    subset_gdf = pd.merge(\n",
    "        df,\n",
    "        dupes_df.iloc[row_value : row_value + 1],\n",
    "        on = ts_utils.route_dir_stop_cols,\n",
    "        how = \"inner\"\n",
    "    )[ts_utils.route_dir_stop_cols + [\"geometry\"]\n",
    "    ].drop_duplicates().reset_index(drop=True)\n",
    "    \n",
    "    display(subset_gdf)\n",
    "    \n",
    "    subset_gdf = subset_gdf.assign(\n",
    "        obs = subset_gdf.index\n",
    "    )\n",
    "    \n",
    "    sample_colors = [\n",
    "        \"blue\", \"green\", \"red\", \"orange\", \n",
    "        \"purple\", \"black\", \"gray\"\n",
    "    ]\n",
    "    \n",
    "    m = subset_gdf[subset_gdf.obs==0].explore(\n",
    "        \"obs\",\n",
    "        tiles = \"CartoDB Positron\",\n",
    "        color = sample_colors[0], name = \"obs 0\"\n",
    "    )\n",
    "    \n",
    "    for idx, value in enumerate(subset_gdf[subset_gdf.obs > 0].obs.unique()):\n",
    "        m = subset_gdf[subset_gdf.obs == value].explore(\n",
    "            m=m, color = sample_colors[idx], name = f\"obs {value}\"\n",
    "        )\n",
    "\n",
    "    folium.LayerControl().add_to(m)\n",
    "    \n",
    "    display(m)"
   ]
  },
  {
   "cell_type": "code",
   "execution_count": null,
   "id": "66082d6e-550d-42b8-89db-1cab9fe0a43d",
   "metadata": {},
   "outputs": [],
   "source": [
    "for v in range(0, dupes.shape[0], 150):\n",
    "    plot_segment_variations(df, dupes, v)"
   ]
  },
  {
   "cell_type": "code",
   "execution_count": null,
   "id": "34909cca-1a53-465c-8ac1-bce3f548ec0e",
   "metadata": {},
   "outputs": [],
   "source": []
  }
 ],
 "metadata": {
  "kernelspec": {
   "display_name": "Python 3 (ipykernel)",
   "language": "python",
   "name": "python3"
  },
  "language_info": {
   "codemirror_mode": {
    "name": "ipython",
    "version": 3
   },
   "file_extension": ".py",
   "mimetype": "text/x-python",
   "name": "python",
   "nbconvert_exporter": "python",
   "pygments_lexer": "ipython3",
   "version": "3.9.13"
  }
 },
 "nbformat": 4,
 "nbformat_minor": 5
}
