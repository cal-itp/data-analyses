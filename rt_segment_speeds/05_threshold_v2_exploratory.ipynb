{
 "cells": [
  {
   "cell_type": "markdown",
   "id": "c450f634-0491-4db2-b9d3-89dd1fb95ed9",
   "metadata": {},
   "source": [
    "### V2 Recommendations"
   ]
  },
  {
   "cell_type": "code",
   "execution_count": 1,
   "id": "3db029d5-1c34-4d01-b902-a44e011450ba",
   "metadata": {},
   "outputs": [
    {
     "name": "stderr",
     "output_type": "stream",
     "text": [
      "/opt/conda/lib/python3.9/site-packages/geopandas/_compat.py:123: UserWarning: The Shapely GEOS version (3.10.3-CAPI-1.16.1) is incompatible with the GEOS version PyGEOS was compiled with (3.10.1-CAPI-1.16.0). Conversions between both will be slow.\n",
      "  warnings.warn(\n"
     ]
    }
   ],
   "source": [
    "import geopandas as gpd\n",
    "import numpy as np\n",
    "import pandas as pd\n",
    "from calitp.sql import to_snakecase"
   ]
  },
  {
   "cell_type": "code",
   "execution_count": 2,
   "id": "a70f5b1e-8d59-4fc1-9929-5d5068dff17c",
   "metadata": {},
   "outputs": [],
   "source": [
    "import altair as alt\n",
    "import _threshold_utils as threshold_utils\n",
    "from shared_utils import calitp_color_palette as cp\n",
    "from shared_utils import geography_utils, rt_utils, styleguide, utils"
   ]
  },
  {
   "cell_type": "code",
   "execution_count": 3,
   "id": "f286f377-8906-4956-882a-6c5ca5a98ab7",
   "metadata": {},
   "outputs": [],
   "source": [
    "import intake\n",
    "catalog = intake.open_catalog(\"./catalog_threshold.yml\")"
   ]
  },
  {
   "cell_type": "code",
   "execution_count": 4,
   "id": "b5d3300c-7b1d-42c1-8240-117d1240a98d",
   "metadata": {},
   "outputs": [],
   "source": [
    "pd.options.display.max_columns = 100\n",
    "pd.options.display.float_format = \"{:.2f}\".format\n",
    "pd.set_option(\"display.max_rows\", None)\n",
    "pd.set_option(\"display.max_colwidth\", None)"
   ]
  },
  {
   "cell_type": "markdown",
   "id": "a5855291-91e6-411b-b76a-db3da12965eb",
   "metadata": {},
   "source": [
    "#### Load in data"
   ]
  },
  {
   "cell_type": "code",
   "execution_count": 5,
   "id": "0218e39d-b8a5-4a8d-adb9-eee111d5c24f",
   "metadata": {},
   "outputs": [],
   "source": [
    "route_length = threshold_utils.summary_stats_route_length()"
   ]
  },
  {
   "cell_type": "code",
   "execution_count": 6,
   "id": "e4a95510-96bc-4736-bd47-f265513628dc",
   "metadata": {},
   "outputs": [],
   "source": [
    "route_length = threshold_utils.pre_clean(route_length)"
   ]
  },
  {
   "cell_type": "code",
   "execution_count": 7,
   "id": "7ed8e7b0-358a-4ed5-b84f-3ea0b4cf259e",
   "metadata": {},
   "outputs": [],
   "source": [
    "time_segments = threshold_utils.merge_trip_diagnostics_with_total_segments()"
   ]
  },
  {
   "cell_type": "code",
   "execution_count": 8,
   "id": "029cb753-bdcf-42a0-a89f-c2eab5c047e0",
   "metadata": {},
   "outputs": [
    {
     "data": {
      "text/plain": [
       "69874"
      ]
     },
     "execution_count": 8,
     "metadata": {},
     "output_type": "execute_result"
    }
   ],
   "source": [
    "time_segments.drop_duplicates(subset = 'name')['total_trips'].sum()"
   ]
  },
  {
   "cell_type": "code",
   "execution_count": 9,
   "id": "0f5bcf33-9d1d-4104-bfc4-b2bdb600df1e",
   "metadata": {},
   "outputs": [],
   "source": [
    "TIME_CUTOFFS = [5, 10, 15]\n",
    "SEGMENT_CUTOFFS = [\n",
    "    0.1,\n",
    "    0.2,\n",
    "    0.3,\n",
    "    0.4,\n",
    "    0.5,\n",
    "    0.6,\n",
    "    0.7,\n",
    "    0.8\n",
    "]"
   ]
  },
  {
   "cell_type": "code",
   "execution_count": 11,
   "id": "c4e6c2bf-9914-462d-9b66-a57a23c72cd9",
   "metadata": {},
   "outputs": [],
   "source": [
    "valid_stats = threshold_utils.summary_valid_trips_by_cutoff(time_segments, TIME_CUTOFFS, SEGMENT_CUTOFFS)"
   ]
  },
  {
   "cell_type": "code",
   "execution_count": 13,
   "id": "0770bd66-cc3d-48bf-8bb6-39145f76aeda",
   "metadata": {},
   "outputs": [],
   "source": [
    "valid_stats = threshold_utils.pre_clean(valid_stats)"
   ]
  },
  {
   "cell_type": "markdown",
   "id": "46bb6306-81f3-457f-a3ce-734868866686",
   "metadata": {},
   "source": [
    "#### Delete any operators who do not have RT information"
   ]
  },
  {
   "cell_type": "code",
   "execution_count": null,
   "id": "8dbf3792-fc29-45b9-b1d6-13261a3133a5",
   "metadata": {},
   "outputs": [],
   "source": [
    "# Filter out any operators without RT information\n",
    "routelengthlist = set(route_length.Name.unique().tolist())\n",
    "tripslist = set(valid_stats.Name.unique().tolist())"
   ]
  },
  {
   "cell_type": "code",
   "execution_count": null,
   "id": "64ccc374-87b2-4429-9ce7-93198a8a036c",
   "metadata": {},
   "outputs": [],
   "source": [
    "operators_wo_rt = list(routelengthlist - tripslist)"
   ]
  },
  {
   "cell_type": "code",
   "execution_count": null,
   "id": "832a8279-84c3-4a1f-accc-31ab30f4bb25",
   "metadata": {},
   "outputs": [],
   "source": [
    "route_length = route_length.loc[~route_length.Name.isin(operators_wo_rt)].reset_index(drop = True)"
   ]
  },
  {
   "cell_type": "code",
   "execution_count": null,
   "id": "eeea39f0-94e5-4c48-aeca-e21e9666b136",
   "metadata": {},
   "outputs": [],
   "source": [
    "# Column that controls the bar charts\n",
    "dropdown_list = route_length[\"Name\"].sort_values().unique().tolist()"
   ]
  },
  {
   "cell_type": "code",
   "execution_count": null,
   "id": "a9148ff9-6e72-42b9-afc8-bdf08676ad40",
   "metadata": {},
   "outputs": [],
   "source": [
    "# Dropdown menu 1\n",
    "dropdown = alt.binding_select(options=[None] + dropdown_list, labels = ['All'] + dropdown_list, name = \"Operator\")    \n",
    "selection = alt.selection_single(fields=[\"Name\"], bind=dropdown)\n",
    "  "
   ]
  },
  {
   "cell_type": "markdown",
   "id": "98012de5-3cd4-49ea-831f-57e470c82461",
   "metadata": {
    "tags": []
   },
   "source": [
    "##### Dotplot"
   ]
  },
  {
   "cell_type": "code",
   "execution_count": null,
   "id": "0b86076a-70b8-4dba-a22a-1f1c7e04d398",
   "metadata": {
    "tags": []
   },
   "outputs": [],
   "source": [
    "route_len_dot = (alt.Chart(route_length).mark_circle(opacity=1, size = 200).transform_window(\n",
    "    id='rank()',\n",
    "    groupby=['Variable']).encode(\n",
    "  \n",
    "    alt.X('Rounded Route Length Percentage:O', sort='ascending',\n",
    "          scale=alt.Scale(domain=[0,10,20,30,40,50,60,70,80,90,100]), axis=alt.Axis(ticks=False, grid=True)),\n",
    "    alt.Y('Name:N'), \n",
    "    color=alt.Color(\"Variable:N\", scale=alt.Scale(range=cp.CALITP_CATEGORY_BRIGHT_COLORS), legend=None),\n",
    "    tooltip = ['Name', 'Variable', 'Route Length Percentage'])\n",
    "             .properties(title = \"Length of Shape ID versus Longest Shape ID\").add_selection(selection).transform_filter(selection))\n",
    "route_len_dot = threshold_utils.chart_size(route_len_dot, 500, 300)"
   ]
  },
  {
   "cell_type": "markdown",
   "id": "e868068d-1242-4b50-baad-b638b1dc5cb4",
   "metadata": {},
   "source": [
    "##### Create text table for Routes"
   ]
  },
  {
   "cell_type": "code",
   "execution_count": null,
   "id": "41f22b61-ed49-49a4-b4e2-e57bdbe62187",
   "metadata": {},
   "outputs": [],
   "source": [
    "route_length[\"Zero\"] = 0\n",
    "route_length[\"Full Information\"] = route_length[\"Variable\"] + '-' + route_length[\"Route Length Percentage\"].astype(str) + \"%\""
   ]
  },
  {
   "cell_type": "code",
   "execution_count": null,
   "id": "aa2c554f-b22b-4274-8875-f6e6072b5caf",
   "metadata": {},
   "outputs": [],
   "source": [
    "route_length['Route Length Percentage'].median()"
   ]
  },
  {
   "cell_type": "code",
   "execution_count": null,
   "id": "e9ead23b-00cd-4cb1-908c-efebab3d222a",
   "metadata": {},
   "outputs": [],
   "source": [
    "route_len_table = (\n",
    "        (alt.Chart(route_length)\n",
    "            .mark_circle()\n",
    "            .encode(x=alt.X(\"Zero:Q\", axis=None), \n",
    "            y=alt.Y(\"Full Information\", axis=None))\n",
    "            .properties(title=f\"Summary Statistics\")).add_selection(selection).transform_filter(selection))\n",
    "    \n",
    "route_len_table = (route_len_table.mark_text(\n",
    "        align=\"center\",\n",
    "        baseline=\"middle\",\n",
    "        dx=5)\n",
    "        .encode(text=\"Full Information:N\")\n",
    "           )\n",
    "    "
   ]
  },
  {
   "cell_type": "code",
   "execution_count": null,
   "id": "51bc1e3a-5229-4391-91f0-d56f80befd59",
   "metadata": {},
   "outputs": [],
   "source": [
    "route_len_table = threshold_utils.chart_size(route_len_table, 500,300)"
   ]
  },
  {
   "cell_type": "markdown",
   "id": "e065bf8e-a2c6-4027-b3d1-e30c81bd3617",
   "metadata": {},
   "source": [
    "##### Find most lenient and stringent of each operator"
   ]
  },
  {
   "cell_type": "code",
   "execution_count": null,
   "id": "2cb5fcc8-64ac-4f49-89c4-abbbc2c54ce5",
   "metadata": {},
   "outputs": [],
   "source": [
    "valid_stats_leniency = valid_stats.groupby([\"Name\"]).agg({\"Percentage Usable Trips\": [\"max\", \"min\"]}).reset_index()"
   ]
  },
  {
   "cell_type": "code",
   "execution_count": null,
   "id": "f1869cd5-5419-4479-bb2a-e36cf6178208",
   "metadata": {},
   "outputs": [],
   "source": [
    "valid_stats_leniency.columns = valid_stats_leniency.columns.droplevel()"
   ]
  },
  {
   "cell_type": "code",
   "execution_count": null,
   "id": "f415da32-2990-40fb-96b1-b9836bdaab8a",
   "metadata": {},
   "outputs": [],
   "source": [
    "valid_stats_leniency = valid_stats_leniency.rename(columns={\"\": \"name\",})"
   ]
  },
  {
   "cell_type": "code",
   "execution_count": null,
   "id": "c626e242-23e9-4384-82cd-b3f28e8f0d58",
   "metadata": {},
   "outputs": [],
   "source": [
    "valid_stats_leniency = pre_clean(valid_stats_leniency)"
   ]
  },
  {
   "cell_type": "code",
   "execution_count": null,
   "id": "0e0d2dd8-95f5-48cf-b6bb-2833e01d1706",
   "metadata": {},
   "outputs": [],
   "source": [
    "valid_stats_leniency[\"Zero\"] = 0"
   ]
  },
  {
   "cell_type": "code",
   "execution_count": null,
   "id": "80b16e4d-a2bd-4fc5-bcb8-4808d3bd97c6",
   "metadata": {},
   "outputs": [],
   "source": [
    "valid_stats_leniency['Full Information'] = 'Most Lenient: ' + valid_stats_leniency.Max.astype(str) + \"%\"  + ' Most Stringent: ' + valid_stats_leniency.Min.astype(str) + \"%\" "
   ]
  },
  {
   "cell_type": "code",
   "execution_count": null,
   "id": "9156fc13-ddde-4c60-bc8e-fe91742b206d",
   "metadata": {},
   "outputs": [],
   "source": [
    "trip_stats_table = (\n",
    "        (alt.Chart(valid_stats_leniency)\n",
    "            .mark_circle()\n",
    "            .encode(x=alt.X(\"Zero:Q\", axis=None), \n",
    "            y=alt.Y(\"Full Information\", axis=None))\n",
    "            .properties(title=f\"Percentage of Trips Kept\")).add_selection(selection).transform_filter(selection))\n",
    "    \n",
    "trip_stats_table = (trip_stats_table.mark_text(\n",
    "        align=\"center\",\n",
    "        baseline=\"middle\",\n",
    "        dx=5)\n",
    "        .encode(text=\"Full Information:N\")\n",
    "           )\n",
    "trip_stats_table =  threshold_utils.chart_size(trip_stats_table, 500,300) "
   ]
  },
  {
   "cell_type": "markdown",
   "id": "a7db2817-f39b-4969-92f9-a1bc705fb534",
   "metadata": {},
   "source": [
    "#####  Trip Stats"
   ]
  },
  {
   "cell_type": "code",
   "execution_count": null,
   "id": "db60c2ab-9e0b-41e7-9eff-547599b3459d",
   "metadata": {},
   "outputs": [],
   "source": [
    "trip_stats_chart = (\n",
    "        alt.Chart(valid_stats)\n",
    "        .mark_bar()\n",
    "        .encode(\n",
    "            x=alt.X(\n",
    "                \"Percentage Usable Trips:Q\",\n",
    "                sort=alt.SortField(\"Percentage Usable Trips\", order=\"descending\"),\n",
    "            ),\n",
    "            y=alt.Y(\n",
    "                \"Cutoff:N\", sort=alt.SortField(\"Percentage Usable Trips\", order=\"descending\")\n",
    "            ),\n",
    "            color=alt.Color(\n",
    "                \"Cutoff:N\", scale=alt.Scale(range=cp.CALITP_CATEGORY_BRIGHT_COLORS), legend=None\n",
    "            ),\n",
    "            tooltip=[\n",
    "                \"Name\",\n",
    "                \"Cutoff\",\n",
    "                \"Percentage Usable Trips\",\n",
    "                \"N Trips\",\n",
    "            ],\n",
    "        )\n",
    "        .properties(title=f\"Percentage of Usable Trips\")\n",
    "        .add_selection(selection)\n",
    "        .transform_filter(selection)\n",
    "    )\n",
    "trip_stats_chart = threshold_utils.chart_size(trip_stats_chart, 500, 300)"
   ]
  },
  {
   "cell_type": "code",
   "execution_count": null,
   "id": "5e33ff53-ce18-4045-a56f-e54c3b746aa2",
   "metadata": {},
   "outputs": [],
   "source": [
    "route_len_dot & route_len_table & trip_stats_chart & trip_stats_table"
   ]
  },
  {
   "cell_type": "markdown",
   "id": "0ef7fb2f-f6eb-4ffd-9eb7-796fa6e8863b",
   "metadata": {},
   "source": [
    "#### Bind Operator-level graphs together. V2"
   ]
  },
  {
   "cell_type": "code",
   "execution_count": null,
   "id": "5e4a78d4-9ca2-4d7f-af4a-e9f97a0d101d",
   "metadata": {},
   "outputs": [],
   "source": [
    "# Brush for selection\n",
    "brush = alt.selection(type='interval')"
   ]
  },
  {
   "cell_type": "code",
   "execution_count": null,
   "id": "0953741e-d381-4805-82f8-8590fe540487",
   "metadata": {},
   "outputs": [],
   "source": [
    "boxplot2 = (alt.Chart(route_length).mark_circle(opacity=1, size = 150).transform_window(\n",
    "    id='rank()',\n",
    "    groupby=['Variable']).encode(\n",
    "    alt.X('Rounded Route Length Percentage:O', sort='ascending',\n",
    "          scale=alt.Scale(domain=[0,10,20,30,40,50,60,70,80,90,100]), axis=alt.Axis(ticks=False, grid=True)),\n",
    "          alt.Y('Name:N'), \n",
    "    color=alt.Color(\"Variable:N\", scale=alt.Scale(range=cp.CALITP_CATEGORY_BRIGHT_COLORS), legend=None),\n",
    "    tooltip = ['Name', 'Variable', 'Route Length Percentage'])\n",
    "     .properties(title = \"Length of Shape ID versus Longest Shape ID\").add_selection(brush))\n"
   ]
  },
  {
   "cell_type": "code",
   "execution_count": null,
   "id": "647d20b4-a1e7-4332-8932-823516464359",
   "metadata": {},
   "outputs": [],
   "source": [
    "boxplot2 = threshold_utils.chart_size(boxplot2,500, 1000)"
   ]
  },
  {
   "cell_type": "code",
   "execution_count": null,
   "id": "c5c7e98a-989a-40dc-a6b2-165bc91f50c3",
   "metadata": {},
   "outputs": [],
   "source": [
    "ranked_text = alt.Chart(route_length).mark_text().encode(\n",
    "    y=alt.Y('row_number:O',axis=None)\n",
    ").transform_window(\n",
    "    row_number='row_number()'\n",
    ").transform_filter(\n",
    "    brush\n",
    ").transform_window(\n",
    "    rank='rank(row_number)'\n",
    ").transform_filter(\n",
    "    alt.datum.rank < 5\n",
    ")"
   ]
  },
  {
   "cell_type": "code",
   "execution_count": null,
   "id": "5a113f49-a7ab-4bd4-bff6-e2bca936b4d3",
   "metadata": {},
   "outputs": [],
   "source": [
    "operator = ranked_text.encode(text='Name:N').properties(title='Operator')\n",
    "variable = ranked_text.encode(text='Variable:N').properties(title='Summary Statistics')\n",
    "route_length_percentage = ranked_text.encode(text='Route Length Percentage:Q').properties(title='Route Length Percentage')"
   ]
  },
  {
   "cell_type": "code",
   "execution_count": null,
   "id": "d5151124-25f5-45ab-8f3b-c55343f4cd80",
   "metadata": {},
   "outputs": [],
   "source": [
    "text = alt.hconcat(operator, variable, route_length_percentage) # Combine data tables"
   ]
  },
  {
   "cell_type": "code",
   "execution_count": null,
   "id": "5055c36f-c1ea-4ac9-82f4-a79ccddeda5b",
   "metadata": {},
   "outputs": [],
   "source": []
  },
  {
   "cell_type": "code",
   "execution_count": null,
   "id": "7a56543e-7c61-4577-b573-590b23aefa48",
   "metadata": {},
   "outputs": [],
   "source": [
    "alt.vconcat(boxplot2,\n",
    "    text,\n",
    ")"
   ]
  },
  {
   "cell_type": "markdown",
   "id": "b19e790d-4467-462e-b3a0-c375639cac8d",
   "metadata": {},
   "source": [
    "### Statewide\n",
    "#### Statewide Routes by Cutoff"
   ]
  },
  {
   "cell_type": "code",
   "execution_count": null,
   "id": "b6400445-a760-4285-9f03-1b078b76c09c",
   "metadata": {},
   "outputs": [],
   "source": [
    "statewide_sum = valid_stats.groupby(['Cutoff']).agg({'N Trips':'sum'}).reset_index()"
   ]
  },
  {
   "cell_type": "code",
   "execution_count": null,
   "id": "b26936f1-2dfc-4be2-a40b-6c926230f5b3",
   "metadata": {},
   "outputs": [],
   "source": [
    "total_trips_state = valid_stats.groupby('Name')['Total Trips'].max().sum()"
   ]
  },
  {
   "cell_type": "code",
   "execution_count": null,
   "id": "da534770-39c4-4273-96c3-10659c85041e",
   "metadata": {},
   "outputs": [],
   "source": [
    "statewide_sum['Percentage of Usable Trips'] = statewide_sum['N Trips']/total_trips_state * 100"
   ]
  },
  {
   "cell_type": "code",
   "execution_count": null,
   "id": "80e3122c-820e-4f41-980c-b81edc813a92",
   "metadata": {},
   "outputs": [],
   "source": [
    "statewide_chart = (\n",
    "        alt.Chart(statewide_sum)\n",
    "        .mark_bar()\n",
    "        .encode(\n",
    "            x=alt.X(\n",
    "                \"Percentage of Usable Trips:Q\",\n",
    "                sort=alt.SortField(\"Percentage of Usable Trips\", order=\"descending\"),\n",
    "            ),\n",
    "            y=alt.Y(\n",
    "                \"Cutoff:N\", sort=alt.SortField(\"Percentage of Usable Trips\", order=\"descending\")\n",
    "            ),\n",
    "            color=alt.Color(\n",
    "                \"Cutoff:N\", scale=alt.Scale(range=cp.CALITP_CATEGORY_BRIGHT_COLORS), legend=None\n",
    "            ),\n",
    "            tooltip=[\n",
    "                \"Cutoff\",\n",
    "                \"Percentage of Usable Trips\",\n",
    "                \"N Trips\",\n",
    "            ],\n",
    "        )\n",
    "        .properties(title=\"Percentage of Usable Trips Across All Operators\")\n",
    "    )"
   ]
  },
  {
   "cell_type": "code",
   "execution_count": null,
   "id": "a630f097-f1fc-4fd5-adeb-c27facb44821",
   "metadata": {},
   "outputs": [],
   "source": [
    "statewide_chart = threshold_utils.chart_size(statewide_chart, 500, 300)"
   ]
  },
  {
   "cell_type": "code",
   "execution_count": null,
   "id": "02b10adb-27de-4b4f-8a39-5337fdfabbed",
   "metadata": {},
   "outputs": [],
   "source": [
    "statewide_chart"
   ]
  },
  {
   "cell_type": "markdown",
   "id": "f064bbdb-3868-4a4c-9227-0a264c67371b",
   "metadata": {},
   "source": [
    "#### How many routes will be cut with each threshold?\n",
    "* Find exact routes??"
   ]
  },
  {
   "cell_type": "code",
   "execution_count": null,
   "id": "54ec96de-bdf7-4eee-afae-8630f1ae2341",
   "metadata": {},
   "outputs": [],
   "source": [
    "def routes_left_thresholds():\n",
    "    \"\"\"\n",
    "    Find number of routes that are cut\n",
    "    and are left after applying thresholds\n",
    "    \"\"\"\n",
    "    trips_routes_shape = merge_trips_routes_longest_shape()\n",
    "    trip_stats = catalog.trip_stats.read()\n",
    "    \n",
    "    m1 = trip_stats.merge(\n",
    "        trips_routes_shape.drop(columns=[\"route_length_percentage\"]),\n",
    "        how=\"inner\",\n",
    "        on=[\"gtfs_dataset_key\", \"route_dir_identifier\"],\n",
    "    )\n",
    "    \n",
    "    m1 = m1.assign(\n",
    "        pct_vp_segments=m1.num_segments_with_vp.divide(m1.total_segments),\n",
    "        trip_time=((m1.trip_end - m1.trip_start) / np.timedelta64(1, \"s\")) / 60,\n",
    "    )\n",
    "    \n",
    "    total_unique_routes = m1.route_id.nunique() \n",
    "    \n",
    "    routes = pd.DataFrame()\n",
    "    for t in TIME_CUTOFFS:\n",
    "        for s in SEGMENT_CUTOFFS:\n",
    "            valid = (\n",
    "                m1[(m1.trip_time >= t) & (m1.pct_vp_segments >= s)][[\"route_id\"]]\n",
    "                    .nunique()\n",
    "                    .reset_index()\n",
    "                    .rename(columns={0: \"Total Routes in Category\"})\n",
    "                )\n",
    "\n",
    "            valid = valid.assign(route_cutoff=f\"{t} min, {s}% segments\")\n",
    "\n",
    "            routes = pd.concat([routes, valid], axis=0)\n",
    "            \n",
    "    routes = routes.assign(\n",
    "            total_routes=total_unique_routes,\n",
    "            percentage_of_routes_left=(routes[\"Total Routes in Category\"].divide(\n",
    "                total_unique_routes))*100,\n",
    "            missing_routes = total_unique_routes - routes[\"Total Routes in Category\"],)\n",
    "    \n",
    "    return routes"
   ]
  },
  {
   "cell_type": "code",
   "execution_count": null,
   "id": "5d90c0f6-0045-4f30-b780-275ce4152ac9",
   "metadata": {},
   "outputs": [],
   "source": [
    "routes_left = routes_left_thresholds()"
   ]
  },
  {
   "cell_type": "code",
   "execution_count": null,
   "id": "a7f0054a-d6b3-4ad9-bc0f-257ec854e7a3",
   "metadata": {},
   "outputs": [],
   "source": [
    "statewide_routes_chart = (\n",
    "        alt.Chart(threshold_utils.clean_up_columns(routes_left))\n",
    "        .mark_bar()\n",
    "        .encode(\n",
    "            x=alt.X(\n",
    "                \"Percentage Of Routes Left:Q\",\n",
    "                sort=alt.SortField(\"Percentage Of Routes Left\", order=\"descending\"),\n",
    "            ),\n",
    "            y=alt.Y(\n",
    "                \"Route Cutoff:N\", sort=alt.SortField(\"Percentage Of Routes Left\", order=\"descending\")\n",
    "            ),\n",
    "            color=alt.Color(\n",
    "                \"Route Cutoff:N\", scale=alt.Scale(range=cp.CALITP_CATEGORY_BRIGHT_COLORS), legend=None\n",
    "            ),\n",
    "            tooltip=[\n",
    "                \"Route Cutoff\",\n",
    "                \"Percentage Of Routes Left\",\n",
    "                \"Missing Routes\"\n",
    "            ],\n",
    "        )\n",
    "        .properties(title=\"Percentage of Routes Left after Applying Thresholds\")\n",
    "    )"
   ]
  },
  {
   "cell_type": "code",
   "execution_count": null,
   "id": "85f684a2-bf2f-4519-8abb-aadc67be42ad",
   "metadata": {},
   "outputs": [],
   "source": [
    "threshold_utils.chart_size(statewide_routes_chart, 500, 300)"
   ]
  },
  {
   "cell_type": "markdown",
   "id": "009b7247-eb37-4153-a50a-5dbc765c67da",
   "metadata": {},
   "source": [
    "### Recs - 15 minutes, 70% of segments"
   ]
  },
  {
   "cell_type": "code",
   "execution_count": null,
   "id": "a3c323b5-2c40-408d-95ef-92c02d969aa6",
   "metadata": {},
   "outputs": [],
   "source": [
    "time_segments.trip_time.median()"
   ]
  },
  {
   "cell_type": "code",
   "execution_count": null,
   "id": "4c15de42-cb8b-4a98-9add-4a501c84d2d1",
   "metadata": {},
   "outputs": [],
   "source": [
    "valid_stats_leniency.Max.describe()"
   ]
  },
  {
   "cell_type": "code",
   "execution_count": null,
   "id": "510b63ab-324e-4f4c-84f0-cdaf36d8d7e3",
   "metadata": {},
   "outputs": [],
   "source": [
    "valid_stats_leniency.Max.median()"
   ]
  },
  {
   "cell_type": "code",
   "execution_count": null,
   "id": "78bb26d0-de99-4ff1-958e-86a5898f24ac",
   "metadata": {},
   "outputs": [],
   "source": [
    "valid_stats_leniency.Min.median()"
   ]
  },
  {
   "cell_type": "markdown",
   "id": "f65a310e-a88a-4584-be1a-468c89a97aa2",
   "metadata": {
    "tags": []
   },
   "source": [
    "### Find specific missing routes"
   ]
  },
  {
   "cell_type": "code",
   "execution_count": null,
   "id": "fcd93903-4e94-4268-8443-f170956726c7",
   "metadata": {},
   "outputs": [],
   "source": [
    "def find_cut_routes(trip_time:int, segments_pct: float):\n",
    "    \"\"\"\n",
    "    Find which routes are missing \n",
    "    after applying thresholds\n",
    "    \"\"\"\n",
    "    trips_routes_shape = merge_trips_routes_longest_shape()\n",
    "    trip_stats = catalog.trip_stats.read()\n",
    "    \n",
    "    m1 = trip_stats.merge(\n",
    "        trips_routes_shape.drop(columns=[\"route_length_percentage\"]),\n",
    "        how=\"inner\",\n",
    "        on=[\"gtfs_dataset_key\", \"route_dir_identifier\"],\n",
    "    )\n",
    "    \n",
    "    m1 = m1.assign(\n",
    "        pct_vp_segments=m1.num_segments_with_vp.divide(m1.total_segments),\n",
    "        trip_time=((m1.trip_end - m1.trip_start) / np.timedelta64(1, \"s\")) / 60,\n",
    "    )\n",
    "    \n",
    "    # Find routes that are retained\n",
    "    kept_routes = m1[(m1[\"trip_time\"] >= trip_time ) & (m1[\"pct_vp_segments\"] >= segments_pct)][['name','route_id']].drop_duplicates()\n",
    "    \n",
    "    # Cast routes that are retained to a set\n",
    "    routes_left_after_threshold = set(kept_routes.route_id.tolist())\n",
    "    \n",
    "    # Cast all routes into a set\n",
    "    all_routes = set(m1.route_id.unique().tolist())\n",
    "    \n",
    "    # Find routes that are cut out after applying thresholds\n",
    "    missing_routes_list = list(all_routes - routes_left_after_threshold)\n",
    "    missing_routes_df = (m1[m1[\"route_id\"]\n",
    "                            .isin(missing_routes_list)][['name','route_id',]]\n",
    "                           .drop_duplicates()\n",
    "                         .reset_index(drop = True)\n",
    "                         .sort_values(by=['name','route_id'])\n",
    "                        )\n",
    "    \n",
    "    missing_routes_df = pre_clean(missing_routes_df)\n",
    "    return missing_routes_df"
   ]
  },
  {
   "cell_type": "code",
   "execution_count": null,
   "id": "12e428ce-e69a-4637-a941-d3710c397316",
   "metadata": {},
   "outputs": [],
   "source": [
    "find_cut_routes(15, 0.7)"
   ]
  }
 ],
 "metadata": {
  "kernelspec": {
   "display_name": "Python 3 (ipykernel)",
   "language": "python",
   "name": "python3"
  },
  "language_info": {
   "codemirror_mode": {
    "name": "ipython",
    "version": 3
   },
   "file_extension": ".py",
   "mimetype": "text/x-python",
   "name": "python",
   "nbconvert_exporter": "python",
   "pygments_lexer": "ipython3",
   "version": "3.9.13"
  }
 },
 "nbformat": 4,
 "nbformat_minor": 5
}
