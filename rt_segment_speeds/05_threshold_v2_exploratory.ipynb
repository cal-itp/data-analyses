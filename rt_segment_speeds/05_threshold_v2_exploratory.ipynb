{
 "cells": [
  {
   "cell_type": "markdown",
   "id": "c450f634-0491-4db2-b9d3-89dd1fb95ed9",
   "metadata": {},
   "source": [
    "### V2 Recommendations"
   ]
  },
  {
   "cell_type": "code",
   "execution_count": null,
   "id": "3db029d5-1c34-4d01-b902-a44e011450ba",
   "metadata": {},
   "outputs": [],
   "source": [
    "import geopandas as gpd\n",
    "import numpy as np\n",
    "import pandas as pd\n",
    "from calitp_data_analysis.sql import to_snakecase"
   ]
  },
  {
   "cell_type": "code",
   "execution_count": null,
   "id": "a70f5b1e-8d59-4fc1-9929-5d5068dff17c",
   "metadata": {},
   "outputs": [],
   "source": [
    "import altair as alt\n",
    "import _threshold_utils as threshold_utils\n",
    "\n",
    "from shared_utils import calitp_color_palette as cp\n",
    "from shared_utils import geography_utils, rt_utils, styleguide, utils"
   ]
  },
  {
   "cell_type": "code",
   "execution_count": null,
   "id": "f286f377-8906-4956-882a-6c5ca5a98ab7",
   "metadata": {},
   "outputs": [],
   "source": [
    "# import intake\n",
    "# catalog = intake.open_catalog(\"./catalog_threshold.yml\")"
   ]
  },
  {
   "cell_type": "code",
   "execution_count": null,
   "id": "b5d3300c-7b1d-42c1-8240-117d1240a98d",
   "metadata": {},
   "outputs": [],
   "source": [
    "pd.options.display.max_columns = 100\n",
    "pd.options.display.float_format = \"{:.2f}\".format\n",
    "pd.set_option(\"display.max_rows\", None)\n",
    "pd.set_option(\"display.max_colwidth\", None)"
   ]
  },
  {
   "cell_type": "code",
   "execution_count": null,
   "id": "74b9eec6-6628-4be0-8728-d6de9eaa2e91",
   "metadata": {},
   "outputs": [],
   "source": [
    "route_length, time_segments, valid_stats = threshold_utils.load_dataframes(threshold_utils.TIME_CUTOFFS, threshold_utils.SEGMENT_CUTOFFS)"
   ]
  },
  {
   "cell_type": "code",
   "execution_count": null,
   "id": "7bd90ec2-3bf6-4bb5-8241-fbc90d8866d5",
   "metadata": {},
   "outputs": [],
   "source": [
    "threshold_utils.create_operator_visuals(500,400)"
   ]
  },
  {
   "cell_type": "code",
   "execution_count": null,
   "id": "72577302-ca5f-432e-a3e9-cc190cbdb965",
   "metadata": {},
   "outputs": [],
   "source": [
    "threshold_utils.operator_brush(route_length)"
   ]
  },
  {
   "cell_type": "markdown",
   "id": "b19e790d-4467-462e-b3a0-c375639cac8d",
   "metadata": {},
   "source": [
    "### Statewide\n",
    "#### Statewide Routes by Cutoff"
   ]
  },
  {
   "cell_type": "code",
   "execution_count": null,
   "id": "bd15b058-18ef-40b3-8536-44aefa763a51",
   "metadata": {},
   "outputs": [],
   "source": [
    "threshold_utils.create_statewide_visuals(500,400)"
   ]
  },
  {
   "cell_type": "markdown",
   "id": "009b7247-eb37-4153-a50a-5dbc765c67da",
   "metadata": {},
   "source": [
    "### Recs - 15 minutes, 70% of segments"
   ]
  },
  {
   "cell_type": "code",
   "execution_count": null,
   "id": "a3c323b5-2c40-408d-95ef-92c02d969aa6",
   "metadata": {},
   "outputs": [],
   "source": [
    "time_segments.trip_time.median()"
   ]
  },
  {
   "cell_type": "code",
   "execution_count": null,
   "id": "134bb9ca-e863-4095-aa45-8abaa5efde7c",
   "metadata": {},
   "outputs": [],
   "source": [
    "leniency_strigent = threshold_utils.valid_stats_leniency(valid_stats)"
   ]
  },
  {
   "cell_type": "code",
   "execution_count": null,
   "id": "510b63ab-324e-4f4c-84f0-cdaf36d8d7e3",
   "metadata": {},
   "outputs": [],
   "source": [
    "f\"Median % of trips kept if the most lenient threshold is applied {leniency_strigent.Max.median()}%\""
   ]
  },
  {
   "cell_type": "code",
   "execution_count": null,
   "id": "78bb26d0-de99-4ff1-958e-86a5898f24ac",
   "metadata": {},
   "outputs": [],
   "source": [
    "f\"Median % of trips kept if the most stringent threshold is applied {leniency_strigent.Min.median()}%\""
   ]
  },
  {
   "cell_type": "markdown",
   "id": "f65a310e-a88a-4584-be1a-468c89a97aa2",
   "metadata": {
    "tags": []
   },
   "source": [
    "### Find specific missing routes after applying thresholds"
   ]
  },
  {
   "cell_type": "code",
   "execution_count": null,
   "id": "12e428ce-e69a-4637-a941-d3710c397316",
   "metadata": {},
   "outputs": [],
   "source": [
    "threshold_utils.find_cut_routes(15, 0.7)"
   ]
  }
 ],
 "metadata": {
  "kernelspec": {
   "display_name": "Python 3 (ipykernel)",
   "language": "python",
   "name": "python3"
  },
  "language_info": {
   "codemirror_mode": {
    "name": "ipython",
    "version": 3
   },
   "file_extension": ".py",
   "mimetype": "text/x-python",
   "name": "python",
   "nbconvert_exporter": "python",
   "pygments_lexer": "ipython3",
   "version": "3.9.13"
  }
 },
 "nbformat": 4,
 "nbformat_minor": 5
}
