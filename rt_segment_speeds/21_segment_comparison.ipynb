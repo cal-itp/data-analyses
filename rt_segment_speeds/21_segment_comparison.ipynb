{
 "cells": [
  {
   "cell_type": "markdown",
   "id": "1b6a55f7-2ffd-4c4c-bbee-106403d9f27c",
   "metadata": {},
   "source": [
    "# Select a couple of simpler trips to compare\n",
    "\n",
    "* Compare methodologies, which differ when handling more complex shapes\n",
    "* But is it different even in simpler shapes?\n",
    "* Start with Big Blue Bus and LA Metro"
   ]
  },
  {
   "cell_type": "code",
   "execution_count": null,
   "id": "bd13ebd1-69b0-4fc2-8202-cc34eacb6e9e",
   "metadata": {},
   "outputs": [],
   "source": [
    "import geopandas as gpd\n",
    "import pandas as pd\n",
    "\n",
    "from shared_utils import rt_dates, rt_utils\n",
    "from segment_speed_utils import helpers\n",
    "from segment_speed_utils.project_vars import SEGMENT_GCS, GCS_FILE_PATH\n",
    "from calitp_data_analysis import utils\n",
    "\n",
    "RT_DELAY_GCS = f\"{GCS_FILE_PATH}rt_delay/v2_segment_speed_views/\"\n",
    "analysis_date = rt_dates.DATES[\"sep2023\"]"
   ]
  },
  {
   "cell_type": "markdown",
   "id": "ee993035-c692-45b5-85d3-4ae5adb452e1",
   "metadata": {},
   "source": [
    "## Prep Eric's segments"
   ]
  },
  {
   "cell_type": "code",
   "execution_count": null,
   "id": "eab291b9-45d2-4679-8053-5bfeae5fe3a0",
   "metadata": {},
   "outputs": [],
   "source": [
    "itp_ids = [\n",
    "    182,\n",
    "    300,\n",
    "]\n",
    "\n",
    "# Don't narrow down time-of-day yet, we might select a trip from any \n",
    "# of these\n",
    "time_of_day = [\n",
    "    \"AM_Peak\", \"Midday\", \"PM_Peak\"\n",
    "]\n",
    "\n",
    "eric_dfs = [\n",
    "    gpd.read_parquet(\n",
    "        f\"{RT_DELAY_GCS}{itp_id}_{analysis_date}_{time}.parquet\")\n",
    "      for itp_id, time in zip(itp_ids, time_of_day)\n",
    "     ]\n",
    "\n",
    "df_eric = pd.concat(eric_dfs, axis=0).reset_index(drop=True)"
   ]
  },
  {
   "cell_type": "markdown",
   "id": "efba41f2-3e1a-469f-b8ed-f9f27255c377",
   "metadata": {},
   "source": [
    "## Prep Tiff's segments\n",
    "\n",
    "* Use what's concatenated from Eric to filter down preemptively\n",
    "* Merge in identifiers so we can compare off of `shape_id`, `trip_id`, and `stop_id`, `stop_sequence` instead of `shape_array_key` and `trip_instance_key`"
   ]
  },
  {
   "cell_type": "code",
   "execution_count": null,
   "id": "a0734450-6ddc-45fe-ae2e-eb024a486346",
   "metadata": {},
   "outputs": [],
   "source": [
    "shape_trips = df_eric[[\"shape_id\", \"trip_id\"]].drop_duplicates()"
   ]
  },
  {
   "cell_type": "code",
   "execution_count": null,
   "id": "43fea1d2-0206-4e60-9cb1-eb46853f5ffa",
   "metadata": {},
   "outputs": [],
   "source": [
    "scheduled_trips = helpers.import_scheduled_trips(\n",
    "    analysis_date,\n",
    "    columns = [\n",
    "        \"gtfs_dataset_key\", \"name\", \n",
    "        \"trip_id\", \"trip_instance_key\",\n",
    "        \"shape_id\", \"shape_array_key\",\n",
    "        \"route_id\", \"direction_id\"],\n",
    "    get_pandas = True\n",
    ").rename(columns = {\"gtfs_dataset_key\": \"schedule_gtfs_dataset_key\"})"
   ]
  },
  {
   "cell_type": "code",
   "execution_count": null,
   "id": "1b49cb90-b6d3-4f27-9d75-5983440bfa01",
   "metadata": {},
   "outputs": [],
   "source": [
    "# Grab the trip_instance_keys we need and use it\n",
    "# to filter the speeds parquet down\n",
    "subset_trips = scheduled_trips.merge(\n",
    "    shape_trips,\n",
    "    on = [\"shape_id\", \"trip_id\"],\n",
    "    how = \"inner\"\n",
    ")\n",
    "\n",
    "trip_instances = subset_trips.trip_instance_key.unique().tolist()\n",
    "subset_shapes = subset_trips.shape_array_key.unique().tolist()"
   ]
  },
  {
   "cell_type": "code",
   "execution_count": null,
   "id": "a29ad104-3361-499b-90ae-091ce4ff2a2a",
   "metadata": {},
   "outputs": [],
   "source": [
    "segments = gpd.read_parquet(\n",
    "    f\"{SEGMENT_GCS}stop_segments_{analysis_date}.parquet\",\n",
    "    filters = [[(\"shape_array_key\", \"in\", subset_shapes)]]\n",
    ").drop(columns = [\"geometry_arrowized\", \"district_name\"])\n",
    "\n",
    "filtered_trip_speeds = pd.read_parquet(\n",
    "    f\"{SEGMENT_GCS}speeds_stop_segments_{analysis_date}.parquet\",\n",
    "    filters = [[(\"trip_instance_key\", \"in\", trip_instances)]]\n",
    ").merge(\n",
    "    subset_trips,\n",
    "    on = [\"trip_instance_key\", \"shape_array_key\"],\n",
    "    how = \"inner\"\n",
    ")\n",
    "\n",
    "df_tiff = pd.merge(\n",
    "    segments,\n",
    "    filtered_trip_speeds,\n",
    "    on = [\"schedule_gtfs_dataset_key\", \"shape_array_key\", \"stop_sequence\"],\n",
    "    how = \"inner\"\n",
    ")"
   ]
  },
  {
   "cell_type": "markdown",
   "id": "f32dc489-bc28-4df4-8862-c9ccebb4e2fa",
   "metadata": {},
   "source": [
    "## Merge dfs\n",
    "\n",
    "* stop_sequence doesn't exactly merge, but that's fine, since Eric cuts shorter segments, so `stop_sequence` can have values like 1.25, 1.50, etc.\n",
    "* Leave it in the merge for now, and allow `left_only` merges"
   ]
  },
  {
   "cell_type": "code",
   "execution_count": null,
   "id": "99fef7b2-5ada-4548-96dd-199134b50f59",
   "metadata": {},
   "outputs": [],
   "source": [
    "cols_to_compare = [\n",
    "    \"trip_id\", \"shape_id\", \"stop_id\", \"stop_sequence\",\n",
    "    \"route_id\", \"direction_id\",\n",
    "]\n",
    "\n",
    "speed_df = pd.merge(\n",
    "    df_eric[cols_to_compare + [\"speed_mph\"]].rename(\n",
    "        columns = {\"speed_mph\": \"eric_speed_mph\"}),\n",
    "    df_tiff[cols_to_compare + [\"speed_mph\"]].rename(\n",
    "        columns = {\"speed_mph\": \"tiff_speed_mph\"}),\n",
    "    on = cols_to_compare,\n",
    "    how = \"left\",\n",
    "    indicator = True\n",
    ")"
   ]
  },
  {
   "cell_type": "code",
   "execution_count": null,
   "id": "369c795d-5a7a-4471-9432-c0338f430b27",
   "metadata": {},
   "outputs": [],
   "source": [
    "utils.geoparquet_gcs_export(\n",
    "    df_eric,\n",
    "    SEGMENT_GCS,\n",
    "    f\"speeds_eric_{analysis_date}\"\n",
    ")\n",
    "\n",
    "utils.geoparquet_gcs_export(\n",
    "    df_tiff,\n",
    "    SEGMENT_GCS,\n",
    "    f\"speeds_tiff_{analysis_date}\"\n",
    ")\n",
    "\n",
    "speed_df.to_parquet(f\"{SEGMENT_GCS}speeds_comparison_{analysis_date}.parquet\")"
   ]
  },
  {
   "cell_type": "markdown",
   "id": "3c362785-d64b-489b-ab5d-071525dd488d",
   "metadata": {},
   "source": [
    "## Side-by-Side Maps"
   ]
  },
  {
   "cell_type": "code",
   "execution_count": null,
   "id": "9b08e29e-b792-4187-9c2b-6c44b0c72ee9",
   "metadata": {},
   "outputs": [],
   "source": [
    "df_eric.shape, df_tiff.shape "
   ]
  },
  {
   "cell_type": "code",
   "execution_count": null,
   "id": "79c973ab-d9b9-4da5-bf6b-30daaded0e84",
   "metadata": {},
   "outputs": [],
   "source": [
    "#df_tiff.route_id.unique()"
   ]
  },
  {
   "cell_type": "code",
   "execution_count": null,
   "id": "58421989-2f26-44de-8431-b11185246d69",
   "metadata": {},
   "outputs": [],
   "source": [
    "#one_route = \"96-13168\"\n",
    "#df_tiff[df_tiff.route_id==one_route].explore(\n",
    "#    \"route_id\", tiles = \"CartoDB Positron\")"
   ]
  },
  {
   "cell_type": "code",
   "execution_count": null,
   "id": "1f3c7cc5-b186-41db-9777-6df4da95486f",
   "metadata": {},
   "outputs": [],
   "source": [
    "#df_tiff[df_tiff.route_id==one_route].trip_id.unique()"
   ]
  },
  {
   "cell_type": "code",
   "execution_count": null,
   "id": "fcaa69c2-72e3-4314-b92b-38ef939c2d3b",
   "metadata": {},
   "outputs": [],
   "source": [
    "trips_to_try = {\n",
    "    \"metro_720\": \"10720012750651-JUNE23\", #route_id: 720-13168\n",
    "    \"metro_901\": \"10901000590843-JUNE23\", #route_id: 901-13168\n",
    "    \"metro_550\": \"10550001350610-JUNE23\", # route_id: 550-13168\n",
    "    \"metro_230\":  \"10230000830600-JUNE23\", # route_id: 230-13168\n",
    "    \"metro_96\": \"10096002510743-JUNE23\", # route_id: 96-13168\n",
    "    \"bbb1\": \"908521\", # route_id: 3639\n",
    "    #\"bbb2\": \"\", #route_id\n",
    "}"
   ]
  },
  {
   "cell_type": "code",
   "execution_count": null,
   "id": "f3c564fd-de21-45ab-aa1e-42657e9490da",
   "metadata": {},
   "outputs": [],
   "source": [
    "# Why can't we return 2 map objects? Second one doesn't plot\n",
    "# Just break it apart then\n",
    "def eric_map(gdf: gpd.GeoDataFrame, one_trip: str):\n",
    "    \n",
    "    gdf2 = gdf[gdf.trip_id==one_trip]\n",
    "\n",
    "    m1 = gdf2.explore(\n",
    "         \"speed_mph\", \n",
    "        tiles = \"CartoDB Positron\",\n",
    "        cmap = rt_utils.ZERO_THIRTY_COLORSCALE\n",
    "    )\n",
    "    \n",
    "    return m1\n",
    "\n",
    "\n",
    "def tiff_map(gdf: gpd.GeoDataFrame, one_trip: str):\n",
    "    \n",
    "    gdf2 = gdf[gdf.trip_id==one_trip]\n",
    "\n",
    "    m1 = gdf2.explore(\n",
    "         \"speed_mph\", \n",
    "        tiles = \"CartoDB Positron\",\n",
    "        cmap = rt_utils.ZERO_THIRTY_COLORSCALE\n",
    "    )\n",
    "\n",
    "    return m1"
   ]
  },
  {
   "cell_type": "code",
   "execution_count": null,
   "id": "f20cce34-b4e9-40a1-8845-259b8d5b4e41",
   "metadata": {},
   "outputs": [],
   "source": [
    "eric_map(df_eric, trips_to_try[\"metro_720\"])"
   ]
  },
  {
   "cell_type": "code",
   "execution_count": null,
   "id": "2feb428a-a676-413c-8777-3306de7cca67",
   "metadata": {},
   "outputs": [],
   "source": [
    "tiff_map(df_tiff, trips_to_try[\"metro_720\"])"
   ]
  },
  {
   "cell_type": "code",
   "execution_count": null,
   "id": "320ad850-c27c-4e8a-894e-2155aaece14b",
   "metadata": {},
   "outputs": [],
   "source": [
    "eric_map(df_eric, trips_to_try[\"metro_901\"])"
   ]
  },
  {
   "cell_type": "code",
   "execution_count": null,
   "id": "e884a2a8-4473-4e28-9d03-76746a0014c8",
   "metadata": {},
   "outputs": [],
   "source": [
    "tiff_map(df_tiff, trips_to_try[\"metro_901\"])"
   ]
  },
  {
   "cell_type": "code",
   "execution_count": null,
   "id": "db2c3e5d-eee4-4384-ab1d-058727175f61",
   "metadata": {},
   "outputs": [],
   "source": [
    "eric_map(df_eric, trips_to_try[\"metro_550\"])"
   ]
  },
  {
   "cell_type": "code",
   "execution_count": null,
   "id": "300a67c3-fe11-4b2c-a3e2-8e76f3df27b5",
   "metadata": {},
   "outputs": [],
   "source": [
    "tiff_map(df_tiff, trips_to_try[\"metro_550\"])"
   ]
  },
  {
   "cell_type": "code",
   "execution_count": null,
   "id": "34219b56-0b5f-4530-bfa1-3d5aad3ae8da",
   "metadata": {},
   "outputs": [],
   "source": [
    "eric_map(df_eric, trips_to_try[\"metro_230\"])"
   ]
  },
  {
   "cell_type": "code",
   "execution_count": null,
   "id": "114a5b60-f405-4eff-965a-51d7d463fcdc",
   "metadata": {},
   "outputs": [],
   "source": [
    "tiff_map(df_tiff, trips_to_try[\"metro_230\"])"
   ]
  },
  {
   "cell_type": "code",
   "execution_count": null,
   "id": "1786d445-5e5e-4eb9-b116-028a3c3814b1",
   "metadata": {},
   "outputs": [],
   "source": [
    "eric_map(df_eric, trips_to_try[\"metro_96\"])"
   ]
  },
  {
   "cell_type": "code",
   "execution_count": null,
   "id": "12c49bcb-5c75-4726-bd93-608ce1d73029",
   "metadata": {},
   "outputs": [],
   "source": [
    "tiff_map(df_tiff, trips_to_try[\"metro_96\"])"
   ]
  },
  {
   "cell_type": "code",
   "execution_count": null,
   "id": "aec93764-f09f-41b2-9e59-41f881cb107f",
   "metadata": {},
   "outputs": [],
   "source": [
    "eric_map(df_eric, trips_to_try[\"bbb1\"])"
   ]
  },
  {
   "cell_type": "code",
   "execution_count": null,
   "id": "314b7816-951c-4712-9e1b-a23197618acf",
   "metadata": {},
   "outputs": [],
   "source": [
    "tiff_map(df_tiff, trips_to_try[\"bbb1\"])"
   ]
  },
  {
   "cell_type": "code",
   "execution_count": null,
   "id": "32052ff7-5f7d-4b73-864b-2e7cebc1b925",
   "metadata": {},
   "outputs": [],
   "source": []
  }
 ],
 "metadata": {
  "kernelspec": {
   "display_name": "Python 3 (ipykernel)",
   "language": "python",
   "name": "python3"
  },
  "language_info": {
   "codemirror_mode": {
    "name": "ipython",
    "version": 3
   },
   "file_extension": ".py",
   "mimetype": "text/x-python",
   "name": "python",
   "nbconvert_exporter": "python",
   "pygments_lexer": "ipython3",
   "version": "3.9.13"
  }
 },
 "nbformat": 4,
 "nbformat_minor": 5
}
