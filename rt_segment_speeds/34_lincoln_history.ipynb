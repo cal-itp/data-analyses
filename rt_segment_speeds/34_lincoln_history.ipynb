{
 "cells": [
  {
   "cell_type": "code",
   "execution_count": 1,
   "id": "38530da5-b30b-4e6c-9a9b-0bf5e233da55",
   "metadata": {
    "tags": []
   },
   "outputs": [],
   "source": [
    "import pandas as pd\n",
    "import geopandas as gpd\n",
    "\n",
    "from shared_utils import rt_utils, catalog_utils, rt_dates, webmap_utils, gtfs_utils_v2\n",
    "\n",
    "from calitp_data_analysis import get_fs, geography_utils\n",
    "from segment_speed_utils import helpers, time_series_utils, gtfs_schedule_wrangling, corridor_analysis\n",
    "from segment_speed_utils.project_vars import SCHED_GCS, SEGMENT_GCS, GTFS_DATA_DICT, COMPILED_CACHED_VIEWS, PROJECT_CRS\n",
    "import numpy as np\n",
    "import datetime as dt\n",
    "from calitp_data_analysis.gcs_geopandas import GCSGeoPandas\n",
    "gcsgp = GCSGeoPandas()\n",
    "ADHOC_PATH = \"gs://calitp-analytics-data/data-analyses/rt_segment_speeds/adhoc/\""
   ]
  },
  {
   "cell_type": "code",
   "execution_count": 2,
   "id": "1ddca7fa-e285-4b33-9fbd-931103bf611d",
   "metadata": {},
   "outputs": [],
   "source": [
    "target_mph = 16\n",
    "target_mps = target_mph / rt_utils.MPH_PER_MPS"
   ]
  },
  {
   "cell_type": "code",
   "execution_count": 3,
   "id": "f37e55ad-e78b-4b16-92ce-69e4cee78cdc",
   "metadata": {},
   "outputs": [
    {
     "data": {
      "text/plain": [
       "'gs://calitp-analytics-data/data-analyses/rt_segment_speeds/'"
      ]
     },
     "execution_count": 3,
     "metadata": {},
     "output_type": "execute_result"
    }
   ],
   "source": [
    "SEGMENT_GCS"
   ]
  },
  {
   "cell_type": "markdown",
   "id": "71fb697d-384f-4a18-9cd0-b3761bb0120a",
   "metadata": {},
   "source": [
    "# Lincoln Corridor Speed History\n",
    "\n",
    "* support D7 Lincoln Bus Lane Feasibility Study by illustrating worsening speeds and bus rider delay over the last few years\n",
    "* will refactor into a script pending speedmap segments work (goal is to align on those)"
   ]
  },
  {
   "cell_type": "markdown",
   "id": "0087f236-b282-455c-95ab-f815f582aa69",
   "metadata": {
    "tags": []
   },
   "source": [
    "## refactor to use corridor analysis tooling"
   ]
  },
  {
   "cell_type": "code",
   "execution_count": 4,
   "id": "cf25829a-3d7c-4e39-8d6b-c2ef89db7270",
   "metadata": {
    "tags": []
   },
   "outputs": [],
   "source": [
    "analysis_date = rt_dates.DATES['mar2023']"
   ]
  },
  {
   "cell_type": "code",
   "execution_count": 5,
   "id": "c38357c0-e49e-457b-97e5-39e90b7d6f07",
   "metadata": {
    "tags": []
   },
   "outputs": [
    {
     "name": "stdout",
     "output_type": "stream",
     "text": [
      "2.0 percent of segments have no speed\n"
     ]
    }
   ],
   "source": [
    "segment_speeds = corridor_analysis.import_speedmap_segment_speeds(analysis_date)\n",
    "\n",
    "frequencies = corridor_analysis.get_max_frequencies(segment_speeds)\n",
    "\n",
    "trip_speeds = corridor_analysis.import_trip_speeds(analysis_date)"
   ]
  },
  {
   "cell_type": "code",
   "execution_count": 6,
   "id": "a92b947c-f90f-4375-ae10-f99136d59f7d",
   "metadata": {
    "tags": []
   },
   "outputs": [],
   "source": [
    "# corr = pd.read_excel(f'{ADHOC_PATH}corr_hs.xlsx', sheet_name='Corridor Input')\n",
    "# corr = corr.astype({'start_segment_id': str, 'end_segment_id': str, 'shape_id':str})"
   ]
  },
  {
   "cell_type": "code",
   "execution_count": 7,
   "id": "e33ef6aa-d9b0-4805-a839-b1ccec459012",
   "metadata": {
    "tags": []
   },
   "outputs": [],
   "source": [
    "# row = corr.loc[21]"
   ]
  },
  {
   "cell_type": "code",
   "execution_count": 8,
   "id": "69ec2132-47ed-45d1-b726-4739cfd90ba8",
   "metadata": {
    "tags": []
   },
   "outputs": [],
   "source": [
    "# corr_gdf = corridor_analysis.corridor_from_segments(speed_segments_gdf=segment_speeds,\n",
    "#                                                organization_source_record_id=row.organization_source_record_id,\n",
    "#                                                shape_id=row.shape_id,\n",
    "#                                                start_seg_id=row.start_segment_id,\n",
    "#                                                end_seg_id=row.end_segment_id)"
   ]
  },
  {
   "cell_type": "code",
   "execution_count": 9,
   "id": "8c35d198-cdd4-464a-a60e-927df7dd27ae",
   "metadata": {
    "tags": []
   },
   "outputs": [],
   "source": [
    "# corr_gdf.to_parquet(f'{ADHOC_PATH}lincoln_corridor.parquet', filesystem=fs)"
   ]
  },
  {
   "cell_type": "code",
   "execution_count": 10,
   "id": "0e2e78a3-ef21-49ef-8def-cad9143d81ce",
   "metadata": {
    "tags": []
   },
   "outputs": [],
   "source": [
    "corr_gdf = gcsgp.read_parquet(f'{ADHOC_PATH}lincoln_corridor.parquet')"
   ]
  },
  {
   "cell_type": "code",
   "execution_count": 11,
   "id": "e01151c0-7804-4271-83b2-c12011352848",
   "metadata": {
    "tags": []
   },
   "outputs": [],
   "source": [
    "corridor_trips = corridor_analysis.find_corridor_data(segment_speeds, corr_gdf, trip_speeds,\n",
    "                                                     custom_relevance_meters=5000\n",
    "                                                     )"
   ]
  },
  {
   "cell_type": "code",
   "execution_count": 12,
   "id": "c6eeed34-3703-4ed6-993e-45207868a1de",
   "metadata": {
    "tags": []
   },
   "outputs": [],
   "source": [
    "if 'route_short_name' not in corridor_trips.columns:\n",
    "\n",
    "    trips = helpers.import_scheduled_trips(analysis_date, columns=['gtfs_dataset_key', 'route_id', 'route_short_name'])\n",
    "    trips = trips.rename(columns={'gtfs_dataset_key':'schedule_gtfs_dataset_key'}).drop_duplicates()\n",
    "    corridor_trips = corridor_trips.merge(trips, on =['schedule_gtfs_dataset_key', 'route_id'])"
   ]
  },
  {
   "cell_type": "code",
   "execution_count": 13,
   "id": "8f763776-aff7-45b8-9435-fd6e65ba877e",
   "metadata": {
    "tags": []
   },
   "outputs": [
    {
     "name": "stdout",
     "output_type": "stream",
     "text": [
      "0.0 percent of trips with zero seconds\n",
      "0.6 percent of trips with speeds > 80mph or < 3mph\n"
     ]
    }
   ],
   "source": [
    "corridor_results = corridor_analysis.analyze_corridor_trips(corridor_trips)"
   ]
  },
  {
   "cell_type": "code",
   "execution_count": 14,
   "id": "45970bca-852c-450f-8547-5f676c648e78",
   "metadata": {
    "tags": []
   },
   "outputs": [],
   "source": [
    "# corridor_analysis.validate_corridor_routes(corr_gdf, corridor_trips)"
   ]
  },
  {
   "cell_type": "code",
   "execution_count": 15,
   "id": "9faf1d48-2390-40a6-91fb-16ef17447a03",
   "metadata": {
    "tags": []
   },
   "outputs": [
    {
     "name": "stdout",
     "output_type": "stream",
     "text": [
      "median: 13.36mph... mph floor mode: 16mph\n"
     ]
    }
   ],
   "source": [
    "corridor_improvements = corridor_analysis.analyze_corridor_improvements(corridor_results, **{'trip_mph_floor': 16, 'trip_percent_speedup': 15})"
   ]
  },
  {
   "cell_type": "code",
   "execution_count": 16,
   "id": "45b89611-2158-43af-bb7a-a9f7ea73e996",
   "metadata": {
    "tags": []
   },
   "outputs": [
    {
     "data": {
      "text/html": [
       "<div>\n",
       "<style scoped>\n",
       "    .dataframe tbody tr th:only-of-type {\n",
       "        vertical-align: middle;\n",
       "    }\n",
       "\n",
       "    .dataframe tbody tr th {\n",
       "        vertical-align: top;\n",
       "    }\n",
       "\n",
       "    .dataframe thead th {\n",
       "        text-align: right;\n",
       "    }\n",
       "</style>\n",
       "<table border=\"1\" class=\"dataframe\">\n",
       "  <thead>\n",
       "    <tr style=\"text-align: right;\">\n",
       "      <th></th>\n",
       "      <th>trip_instance_key</th>\n",
       "      <th>corridor_meters</th>\n",
       "      <th>corridor_seconds</th>\n",
       "      <th>corridor_speed_mps</th>\n",
       "      <th>corridor_speed_mph</th>\n",
       "      <th>route_short_name</th>\n",
       "      <th>route_id</th>\n",
       "      <th>shape_array_key</th>\n",
       "      <th>shape_id</th>\n",
       "      <th>schedule_gtfs_dataset_key</th>\n",
       "      <th>time_of_day</th>\n",
       "      <th>corridor_id</th>\n",
       "      <th>improved_corridor_speed_mph</th>\n",
       "      <th>intervention_assumption</th>\n",
       "      <th>improved_corridor_speed_mps</th>\n",
       "      <th>improved_corridor_seconds</th>\n",
       "    </tr>\n",
       "  </thead>\n",
       "  <tbody>\n",
       "    <tr>\n",
       "      <th>0</th>\n",
       "      <td>012d2b7d1e5d77757ebb2414bbeedfae</td>\n",
       "      <td>7823.383</td>\n",
       "      <td>1389.0</td>\n",
       "      <td>5.632385</td>\n",
       "      <td>12.599646</td>\n",
       "      <td>3</td>\n",
       "      <td>3556</td>\n",
       "      <td>95fcdc2f2f2e180e04129bfd4829a239</td>\n",
       "      <td>26171</td>\n",
       "      <td>dbbe8ee4864a2715a40749605395d584</td>\n",
       "      <td>AM Peak</td>\n",
       "      <td>584447099936112567</td>\n",
       "      <td>16.0</td>\n",
       "      <td>trips achieve 16mph or existing spd if higher</td>\n",
       "      <td>7.152436</td>\n",
       "      <td>1093.806736</td>\n",
       "    </tr>\n",
       "    <tr>\n",
       "      <th>1</th>\n",
       "      <td>05336b499070f87c7f6b4c8cf1c9172a</td>\n",
       "      <td>7823.383</td>\n",
       "      <td>1214.0</td>\n",
       "      <td>6.444302</td>\n",
       "      <td>14.415904</td>\n",
       "      <td>3</td>\n",
       "      <td>3556</td>\n",
       "      <td>95fcdc2f2f2e180e04129bfd4829a239</td>\n",
       "      <td>26171</td>\n",
       "      <td>dbbe8ee4864a2715a40749605395d584</td>\n",
       "      <td>Midday</td>\n",
       "      <td>584447099936112567</td>\n",
       "      <td>16.0</td>\n",
       "      <td>trips achieve 16mph or existing spd if higher</td>\n",
       "      <td>7.152436</td>\n",
       "      <td>1093.806736</td>\n",
       "    </tr>\n",
       "    <tr>\n",
       "      <th>2</th>\n",
       "      <td>0628c213593d3b31d6ca00d1e4b81062</td>\n",
       "      <td>7823.383</td>\n",
       "      <td>1353.0</td>\n",
       "      <td>5.782249</td>\n",
       "      <td>12.934891</td>\n",
       "      <td>3</td>\n",
       "      <td>3556</td>\n",
       "      <td>95fcdc2f2f2e180e04129bfd4829a239</td>\n",
       "      <td>26171</td>\n",
       "      <td>dbbe8ee4864a2715a40749605395d584</td>\n",
       "      <td>Midday</td>\n",
       "      <td>584447099936112567</td>\n",
       "      <td>16.0</td>\n",
       "      <td>trips achieve 16mph or existing spd if higher</td>\n",
       "      <td>7.152436</td>\n",
       "      <td>1093.806736</td>\n",
       "    </tr>\n",
       "    <tr>\n",
       "      <th>3</th>\n",
       "      <td>06ca5ebc8bc10cc28f1ec25b7e8a1d99</td>\n",
       "      <td>7742.892</td>\n",
       "      <td>1188.0</td>\n",
       "      <td>6.517586</td>\n",
       "      <td>14.579840</td>\n",
       "      <td>3</td>\n",
       "      <td>3556</td>\n",
       "      <td>74bce719e55c7a06caccbbd54c797fcf</td>\n",
       "      <td>26172</td>\n",
       "      <td>dbbe8ee4864a2715a40749605395d584</td>\n",
       "      <td>Evening</td>\n",
       "      <td>584447099936112567</td>\n",
       "      <td>16.0</td>\n",
       "      <td>trips achieve 16mph or existing spd if higher</td>\n",
       "      <td>7.152436</td>\n",
       "      <td>1082.553088</td>\n",
       "    </tr>\n",
       "    <tr>\n",
       "      <th>4</th>\n",
       "      <td>08c415d5ca6ef9453381b97dcc2c1b58</td>\n",
       "      <td>8692.928</td>\n",
       "      <td>1599.0</td>\n",
       "      <td>5.436478</td>\n",
       "      <td>12.161401</td>\n",
       "      <td>R3</td>\n",
       "      <td>3570</td>\n",
       "      <td>026eed166fdb96c4be63f7693aa794b0</td>\n",
       "      <td>26219</td>\n",
       "      <td>dbbe8ee4864a2715a40749605395d584</td>\n",
       "      <td>AM Peak</td>\n",
       "      <td>584447099936112567</td>\n",
       "      <td>16.0</td>\n",
       "      <td>trips achieve 16mph or existing spd if higher</td>\n",
       "      <td>7.152436</td>\n",
       "      <td>1215.379996</td>\n",
       "    </tr>\n",
       "    <tr>\n",
       "      <th>...</th>\n",
       "      <td>...</td>\n",
       "      <td>...</td>\n",
       "      <td>...</td>\n",
       "      <td>...</td>\n",
       "      <td>...</td>\n",
       "      <td>...</td>\n",
       "      <td>...</td>\n",
       "      <td>...</td>\n",
       "      <td>...</td>\n",
       "      <td>...</td>\n",
       "      <td>...</td>\n",
       "      <td>...</td>\n",
       "      <td>...</td>\n",
       "      <td>...</td>\n",
       "      <td>...</td>\n",
       "      <td>...</td>\n",
       "    </tr>\n",
       "    <tr>\n",
       "      <th>150</th>\n",
       "      <td>fd9f001bcb7ab00019f453a72fdf563c</td>\n",
       "      <td>7742.892</td>\n",
       "      <td>1740.0</td>\n",
       "      <td>4.449938</td>\n",
       "      <td>9.954511</td>\n",
       "      <td>3</td>\n",
       "      <td>3556</td>\n",
       "      <td>74bce719e55c7a06caccbbd54c797fcf</td>\n",
       "      <td>26172</td>\n",
       "      <td>dbbe8ee4864a2715a40749605395d584</td>\n",
       "      <td>PM Peak</td>\n",
       "      <td>584447099936112567</td>\n",
       "      <td>16.0</td>\n",
       "      <td>trips achieve 16mph or existing spd if higher</td>\n",
       "      <td>7.152436</td>\n",
       "      <td>1082.553088</td>\n",
       "    </tr>\n",
       "    <tr>\n",
       "      <th>151</th>\n",
       "      <td>fdcf0f29931f5d955bbb88c6cc8f5423</td>\n",
       "      <td>7742.892</td>\n",
       "      <td>1141.0</td>\n",
       "      <td>6.786058</td>\n",
       "      <td>15.180411</td>\n",
       "      <td>3</td>\n",
       "      <td>3556</td>\n",
       "      <td>74bce719e55c7a06caccbbd54c797fcf</td>\n",
       "      <td>26172</td>\n",
       "      <td>dbbe8ee4864a2715a40749605395d584</td>\n",
       "      <td>Midday</td>\n",
       "      <td>584447099936112567</td>\n",
       "      <td>16.0</td>\n",
       "      <td>trips achieve 16mph or existing spd if higher</td>\n",
       "      <td>7.152436</td>\n",
       "      <td>1082.553088</td>\n",
       "    </tr>\n",
       "    <tr>\n",
       "      <th>152</th>\n",
       "      <td>fe4071eea14b27590e904a88190b328b</td>\n",
       "      <td>7742.892</td>\n",
       "      <td>1341.0</td>\n",
       "      <td>5.773969</td>\n",
       "      <td>12.916368</td>\n",
       "      <td>3</td>\n",
       "      <td>3556</td>\n",
       "      <td>74bce719e55c7a06caccbbd54c797fcf</td>\n",
       "      <td>26172</td>\n",
       "      <td>dbbe8ee4864a2715a40749605395d584</td>\n",
       "      <td>AM Peak</td>\n",
       "      <td>584447099936112567</td>\n",
       "      <td>16.0</td>\n",
       "      <td>trips achieve 16mph or existing spd if higher</td>\n",
       "      <td>7.152436</td>\n",
       "      <td>1082.553088</td>\n",
       "    </tr>\n",
       "    <tr>\n",
       "      <th>153</th>\n",
       "      <td>ff0a5068f000cf3c2edffb2f838699a2</td>\n",
       "      <td>7823.383</td>\n",
       "      <td>1399.0</td>\n",
       "      <td>5.592125</td>\n",
       "      <td>12.509584</td>\n",
       "      <td>3</td>\n",
       "      <td>3556</td>\n",
       "      <td>95fcdc2f2f2e180e04129bfd4829a239</td>\n",
       "      <td>26171</td>\n",
       "      <td>dbbe8ee4864a2715a40749605395d584</td>\n",
       "      <td>PM Peak</td>\n",
       "      <td>584447099936112567</td>\n",
       "      <td>16.0</td>\n",
       "      <td>trips achieve 16mph or existing spd if higher</td>\n",
       "      <td>7.152436</td>\n",
       "      <td>1093.806736</td>\n",
       "    </tr>\n",
       "    <tr>\n",
       "      <th>154</th>\n",
       "      <td>ff3a3736a8fe0abc0825e8f627b6dc49</td>\n",
       "      <td>8692.928</td>\n",
       "      <td>1514.0</td>\n",
       "      <td>5.741696</td>\n",
       "      <td>12.844174</td>\n",
       "      <td>R3</td>\n",
       "      <td>3570</td>\n",
       "      <td>026eed166fdb96c4be63f7693aa794b0</td>\n",
       "      <td>26219</td>\n",
       "      <td>dbbe8ee4864a2715a40749605395d584</td>\n",
       "      <td>AM Peak</td>\n",
       "      <td>584447099936112567</td>\n",
       "      <td>16.0</td>\n",
       "      <td>trips achieve 16mph or existing spd if higher</td>\n",
       "      <td>7.152436</td>\n",
       "      <td>1215.379996</td>\n",
       "    </tr>\n",
       "  </tbody>\n",
       "</table>\n",
       "<p>155 rows × 16 columns</p>\n",
       "</div>"
      ],
      "text/plain": [
       "                    trip_instance_key  corridor_meters  corridor_seconds  \\\n",
       "0    012d2b7d1e5d77757ebb2414bbeedfae         7823.383            1389.0   \n",
       "1    05336b499070f87c7f6b4c8cf1c9172a         7823.383            1214.0   \n",
       "2    0628c213593d3b31d6ca00d1e4b81062         7823.383            1353.0   \n",
       "3    06ca5ebc8bc10cc28f1ec25b7e8a1d99         7742.892            1188.0   \n",
       "4    08c415d5ca6ef9453381b97dcc2c1b58         8692.928            1599.0   \n",
       "..                                ...              ...               ...   \n",
       "150  fd9f001bcb7ab00019f453a72fdf563c         7742.892            1740.0   \n",
       "151  fdcf0f29931f5d955bbb88c6cc8f5423         7742.892            1141.0   \n",
       "152  fe4071eea14b27590e904a88190b328b         7742.892            1341.0   \n",
       "153  ff0a5068f000cf3c2edffb2f838699a2         7823.383            1399.0   \n",
       "154  ff3a3736a8fe0abc0825e8f627b6dc49         8692.928            1514.0   \n",
       "\n",
       "     corridor_speed_mps  corridor_speed_mph route_short_name route_id  \\\n",
       "0              5.632385           12.599646                3     3556   \n",
       "1              6.444302           14.415904                3     3556   \n",
       "2              5.782249           12.934891                3     3556   \n",
       "3              6.517586           14.579840                3     3556   \n",
       "4              5.436478           12.161401               R3     3570   \n",
       "..                  ...                 ...              ...      ...   \n",
       "150            4.449938            9.954511                3     3556   \n",
       "151            6.786058           15.180411                3     3556   \n",
       "152            5.773969           12.916368                3     3556   \n",
       "153            5.592125           12.509584                3     3556   \n",
       "154            5.741696           12.844174               R3     3570   \n",
       "\n",
       "                      shape_array_key shape_id  \\\n",
       "0    95fcdc2f2f2e180e04129bfd4829a239    26171   \n",
       "1    95fcdc2f2f2e180e04129bfd4829a239    26171   \n",
       "2    95fcdc2f2f2e180e04129bfd4829a239    26171   \n",
       "3    74bce719e55c7a06caccbbd54c797fcf    26172   \n",
       "4    026eed166fdb96c4be63f7693aa794b0    26219   \n",
       "..                                ...      ...   \n",
       "150  74bce719e55c7a06caccbbd54c797fcf    26172   \n",
       "151  74bce719e55c7a06caccbbd54c797fcf    26172   \n",
       "152  74bce719e55c7a06caccbbd54c797fcf    26172   \n",
       "153  95fcdc2f2f2e180e04129bfd4829a239    26171   \n",
       "154  026eed166fdb96c4be63f7693aa794b0    26219   \n",
       "\n",
       "            schedule_gtfs_dataset_key time_of_day         corridor_id  \\\n",
       "0    dbbe8ee4864a2715a40749605395d584     AM Peak  584447099936112567   \n",
       "1    dbbe8ee4864a2715a40749605395d584      Midday  584447099936112567   \n",
       "2    dbbe8ee4864a2715a40749605395d584      Midday  584447099936112567   \n",
       "3    dbbe8ee4864a2715a40749605395d584     Evening  584447099936112567   \n",
       "4    dbbe8ee4864a2715a40749605395d584     AM Peak  584447099936112567   \n",
       "..                                ...         ...                 ...   \n",
       "150  dbbe8ee4864a2715a40749605395d584     PM Peak  584447099936112567   \n",
       "151  dbbe8ee4864a2715a40749605395d584      Midday  584447099936112567   \n",
       "152  dbbe8ee4864a2715a40749605395d584     AM Peak  584447099936112567   \n",
       "153  dbbe8ee4864a2715a40749605395d584     PM Peak  584447099936112567   \n",
       "154  dbbe8ee4864a2715a40749605395d584     AM Peak  584447099936112567   \n",
       "\n",
       "     improved_corridor_speed_mph  \\\n",
       "0                           16.0   \n",
       "1                           16.0   \n",
       "2                           16.0   \n",
       "3                           16.0   \n",
       "4                           16.0   \n",
       "..                           ...   \n",
       "150                         16.0   \n",
       "151                         16.0   \n",
       "152                         16.0   \n",
       "153                         16.0   \n",
       "154                         16.0   \n",
       "\n",
       "                           intervention_assumption  \\\n",
       "0    trips achieve 16mph or existing spd if higher   \n",
       "1    trips achieve 16mph or existing spd if higher   \n",
       "2    trips achieve 16mph or existing spd if higher   \n",
       "3    trips achieve 16mph or existing spd if higher   \n",
       "4    trips achieve 16mph or existing spd if higher   \n",
       "..                                             ...   \n",
       "150  trips achieve 16mph or existing spd if higher   \n",
       "151  trips achieve 16mph or existing spd if higher   \n",
       "152  trips achieve 16mph or existing spd if higher   \n",
       "153  trips achieve 16mph or existing spd if higher   \n",
       "154  trips achieve 16mph or existing spd if higher   \n",
       "\n",
       "     improved_corridor_speed_mps  improved_corridor_seconds  \n",
       "0                       7.152436                1093.806736  \n",
       "1                       7.152436                1093.806736  \n",
       "2                       7.152436                1093.806736  \n",
       "3                       7.152436                1082.553088  \n",
       "4                       7.152436                1215.379996  \n",
       "..                           ...                        ...  \n",
       "150                     7.152436                1082.553088  \n",
       "151                     7.152436                1082.553088  \n",
       "152                     7.152436                1082.553088  \n",
       "153                     7.152436                1093.806736  \n",
       "154                     7.152436                1215.379996  \n",
       "\n",
       "[155 rows x 16 columns]"
      ]
     },
     "execution_count": 16,
     "metadata": {},
     "output_type": "execute_result"
    }
   ],
   "source": [
    "corridor_improvements"
   ]
  },
  {
   "cell_type": "code",
   "execution_count": 17,
   "id": "8927d257-9668-41fe-9e41-47ff9a43d39b",
   "metadata": {
    "tags": []
   },
   "outputs": [],
   "source": [
    "summarized = corridor_analysis.summarize_corridor_improvements(corridor_improvements, frequencies, corr_gdf)"
   ]
  },
  {
   "cell_type": "code",
   "execution_count": 18,
   "id": "4ab06512-b167-4f50-abe2-29eb73b552f9",
   "metadata": {
    "tags": []
   },
   "outputs": [],
   "source": [
    "summarized = summarized.assign(delay_per_trip = summarized.delay_minutes / summarized.n_trips_daily,\n",
    "                              analysis_date = analysis_date)"
   ]
  },
  {
   "cell_type": "code",
   "execution_count": 19,
   "id": "17d1b09b-598f-4e15-922d-a06b5f43cb1c",
   "metadata": {
    "tags": []
   },
   "outputs": [],
   "source": [
    "def new_lincoln(analysis_date, corr_gdf = corr_gdf):\n",
    "    \n",
    "    try:\n",
    "        segment_speeds = corridor_analysis.import_speedmap_segment_speeds(analysis_date)\n",
    "        frequencies = corridor_analysis.get_max_frequencies(segment_speeds)\n",
    "        trip_speeds = corridor_analysis.import_trip_speeds(analysis_date)\n",
    "        corridor_trips = corridor_analysis.find_corridor_data(segment_speeds, corr_gdf, trip_speeds,\n",
    "                                                         custom_relevance_meters=5000\n",
    "                                                         )\n",
    "        if 'route_short_name' not in corridor_trips.columns:\n",
    "\n",
    "            trips = helpers.import_scheduled_trips(analysis_date, columns=['gtfs_dataset_key', 'route_id', 'route_short_name'])\n",
    "            trips = trips.rename(columns={'gtfs_dataset_key':'schedule_gtfs_dataset_key'}).drop_duplicates()\n",
    "            corridor_trips = corridor_trips.merge(trips, on =['schedule_gtfs_dataset_key', 'route_id'])\n",
    "\n",
    "        corridor_results = corridor_analysis.analyze_corridor_trips(corridor_trips)\n",
    "        corridor_improvements = corridor_analysis.analyze_corridor_improvements(corridor_results, **{'trip_mph_floor': 16, 'trip_percent_speedup': 15})\n",
    "        summarized = corridor_analysis.summarize_corridor_improvements(corridor_improvements, frequencies, corr_gdf)\n",
    "        summarized = summarized.assign(delay_per_trip = summarized.delay_minutes / summarized.n_trips_daily,\n",
    "                                  analysis_date = analysis_date)\n",
    "        return summarized\n",
    "    \n",
    "    except Exception as e:\n",
    "        print(f'{analysis_date} failed')\n",
    "        print(e)\n",
    "        return"
   ]
  },
  {
   "cell_type": "code",
   "execution_count": 20,
   "id": "2c3ebca2-0b0a-4148-b183-f96d939d6ab8",
   "metadata": {
    "tags": []
   },
   "outputs": [],
   "source": [
    "all_summaries = []"
   ]
  },
  {
   "cell_type": "code",
   "execution_count": 21,
   "id": "50f1acf2-b7c2-419e-80f3-99f718bd69d0",
   "metadata": {
    "collapsed": true,
    "jupyter": {
     "outputs_hidden": true
    },
    "tags": []
   },
   "outputs": [
    {
     "name": "stdout",
     "output_type": "stream",
     "text": [
      "2023-03-15\n",
      "2.0 percent of segments have no speed\n",
      "0.0 percent of trips with zero seconds\n",
      "0.6 percent of trips with speeds > 80mph or < 3mph\n",
      "median: 13.36mph... mph floor mode: 16mph\n",
      "2023-04-10\n",
      "2.0 percent of segments have no speed\n",
      "0.0 percent of trips with zero seconds\n",
      "1.3 percent of trips with speeds > 80mph or < 3mph\n",
      "median: 13.34mph... mph floor mode: 16mph\n",
      "2023-04-11\n",
      "2.0 percent of segments have no speed\n",
      "0.0 percent of trips with zero seconds\n",
      "1.4 percent of trips with speeds > 80mph or < 3mph\n",
      "median: 13.0mph... mph floor mode: 16mph\n",
      "2023-04-12\n",
      "2.0 percent of segments have no speed\n",
      "0.0 percent of trips with zero seconds\n",
      "0.0 percent of trips with speeds > 80mph or < 3mph\n",
      "median: 12.71mph... mph floor mode: 16mph\n",
      "2023-04-13\n",
      "2.0 percent of segments have no speed\n",
      "0.0 percent of trips with zero seconds\n",
      "0.0 percent of trips with speeds > 80mph or < 3mph\n",
      "median: 13.47mph... mph floor mode: 16mph\n",
      "2023-04-14\n",
      "2.0 percent of segments have no speed\n",
      "0.0 percent of trips with zero seconds\n",
      "0.0 percent of trips with speeds > 80mph or < 3mph\n",
      "median: 12.78mph... mph floor mode: 16mph\n",
      "2023-04-15\n",
      "1.8 percent of segments have no speed\n",
      "0.0 percent of trips with zero seconds\n",
      "0.0 percent of trips with speeds > 80mph or < 3mph\n",
      "median: 12.74mph... mph floor mode: 16mph\n",
      "2023-04-16\n",
      "1.9 percent of segments have no speed\n",
      "0.0 percent of trips with zero seconds\n",
      "0.0 percent of trips with speeds > 80mph or < 3mph\n",
      "median: 13.54mph... mph floor mode: 16mph\n",
      "2023-05-17\n",
      "2.0 percent of segments have no speed\n",
      "0.7 percent of trips with zero seconds\n",
      "0.0 percent of trips with speeds > 80mph or < 3mph\n",
      "median: 13.05mph... mph floor mode: 16mph\n",
      "2023-06-14\n",
      "2.0 percent of segments have no speed\n",
      "0.0 percent of trips with zero seconds\n",
      "0.7 percent of trips with speeds > 80mph or < 3mph\n",
      "median: 12.75mph... mph floor mode: 16mph\n",
      "2023-07-12\n",
      "2.0 percent of segments have no speed\n",
      "0.0 percent of trips with zero seconds\n",
      "0.0 percent of trips with speeds > 80mph or < 3mph\n",
      "median: 12.62mph... mph floor mode: 16mph\n",
      "2023-08-15\n",
      "1.9 percent of segments have no speed\n",
      "0.0 percent of trips with zero seconds\n",
      "0.6 percent of trips with speeds > 80mph or < 3mph\n",
      "median: 11.72mph... mph floor mode: 16mph\n",
      "2023-08-23\n",
      "2023-08-23 failed\n",
      "calitp-analytics-data/data-analyses/rt_segment_speeds/rollup_singleday/speeds_shape_timeofday_speedmap_segments_2023-08-23.parquet\n",
      "2023-09-13\n",
      "1.9 percent of segments have no speed\n",
      "0.7 percent of trips with zero seconds\n",
      "0.0 percent of trips with speeds > 80mph or < 3mph\n",
      "median: 12.33mph... mph floor mode: 16mph\n",
      "2023-10-09\n",
      "1.9 percent of segments have no speed\n",
      "0.0 percent of trips with zero seconds\n",
      "0.0 percent of trips with speeds > 80mph or < 3mph\n",
      "median: 12.18mph... mph floor mode: 16mph\n",
      "2023-10-10\n",
      "2.0 percent of segments have no speed\n",
      "0.0 percent of trips with zero seconds\n",
      "0.0 percent of trips with speeds > 80mph or < 3mph\n",
      "median: 12.13mph... mph floor mode: 16mph\n",
      "2023-10-11\n",
      "1.9 percent of segments have no speed\n",
      "0.0 percent of trips with zero seconds\n",
      "0.0 percent of trips with speeds > 80mph or < 3mph\n",
      "median: 12.23mph... mph floor mode: 16mph\n",
      "2023-10-12\n",
      "1.9 percent of segments have no speed\n",
      "0.0 percent of trips with zero seconds\n",
      "0.0 percent of trips with speeds > 80mph or < 3mph\n",
      "median: 11.82mph... mph floor mode: 16mph\n",
      "2023-10-13\n",
      "1.9 percent of segments have no speed\n",
      "0.0 percent of trips with zero seconds\n",
      "0.0 percent of trips with speeds > 80mph or < 3mph\n",
      "median: 11.94mph... mph floor mode: 16mph\n",
      "2023-10-14\n",
      "1.9 percent of segments have no speed\n",
      "0.0 percent of trips with zero seconds\n",
      "0.0 percent of trips with speeds > 80mph or < 3mph\n",
      "median: 12.97mph... mph floor mode: 16mph\n",
      "2023-10-15\n",
      "1.8 percent of segments have no speed\n",
      "0.0 percent of trips with zero seconds\n",
      "0.0 percent of trips with speeds > 80mph or < 3mph\n",
      "median: 13.67mph... percent mode: 0.15\n",
      "2023-11-15\n",
      "1.9 percent of segments have no speed\n",
      "0.0 percent of trips with zero seconds\n",
      "0.0 percent of trips with speeds > 80mph or < 3mph\n",
      "median: 12.33mph... mph floor mode: 16mph\n",
      "2023-12-13\n",
      "1.9 percent of segments have no speed\n",
      "0.0 percent of trips with zero seconds\n",
      "0.0 percent of trips with speeds > 80mph or < 3mph\n",
      "median: 12.54mph... mph floor mode: 16mph\n",
      "2024-01-17\n",
      "1.9 percent of segments have no speed\n",
      "0.0 percent of trips with zero seconds\n",
      "0.0 percent of trips with speeds > 80mph or < 3mph\n",
      "median: 12.7mph... mph floor mode: 16mph\n",
      "2024-02-14\n",
      "2.0 percent of segments have no speed\n",
      "0.0 percent of trips with zero seconds\n",
      "0.7 percent of trips with speeds > 80mph or < 3mph\n",
      "median: 11.55mph... mph floor mode: 16mph\n",
      "2024-03-13\n",
      "2.0 percent of segments have no speed\n",
      "0.0 percent of trips with zero seconds\n",
      "0.0 percent of trips with speeds > 80mph or < 3mph\n",
      "median: 11.25mph... mph floor mode: 16mph\n",
      "2024-04-15\n",
      "1.9 percent of segments have no speed\n",
      "0.0 percent of trips with zero seconds\n",
      "0.6 percent of trips with speeds > 80mph or < 3mph\n",
      "median: 12.38mph... mph floor mode: 16mph\n",
      "2024-04-16\n",
      "1.9 percent of segments have no speed\n",
      "0.0 percent of trips with zero seconds\n",
      "0.0 percent of trips with speeds > 80mph or < 3mph\n",
      "median: 11.95mph... mph floor mode: 16mph\n",
      "2024-04-17\n",
      "2.0 percent of segments have no speed\n",
      "0.0 percent of trips with zero seconds\n",
      "0.0 percent of trips with speeds > 80mph or < 3mph\n",
      "median: 12.37mph... mph floor mode: 16mph\n",
      "2024-04-18\n",
      "2.0 percent of segments have no speed\n",
      "0.0 percent of trips with zero seconds\n",
      "0.0 percent of trips with speeds > 80mph or < 3mph\n",
      "median: 11.94mph... mph floor mode: 16mph\n",
      "2024-04-19\n",
      "2.0 percent of segments have no speed\n",
      "0.0 percent of trips with zero seconds\n",
      "0.0 percent of trips with speeds > 80mph or < 3mph\n",
      "median: 11.7mph... mph floor mode: 16mph\n",
      "2024-04-20\n",
      "1.9 percent of segments have no speed\n",
      "0.8 percent of trips with zero seconds\n",
      "0.8 percent of trips with speeds > 80mph or < 3mph\n",
      "median: 12.77mph... mph floor mode: 16mph\n",
      "2024-04-21\n",
      "1.9 percent of segments have no speed\n",
      "0.9 percent of trips with zero seconds\n",
      "0.0 percent of trips with speeds > 80mph or < 3mph\n",
      "median: 12.71mph... mph floor mode: 16mph\n",
      "2024-05-22\n",
      "2.0 percent of segments have no speed\n",
      "0.0 percent of trips with zero seconds\n",
      "0.0 percent of trips with speeds > 80mph or < 3mph\n",
      "median: 11.81mph... mph floor mode: 16mph\n",
      "2024-06-12\n",
      "1.8 percent of segments have no speed\n",
      "2024-06-12 failed\n",
      "division by zero\n",
      "2024-07-17\n",
      "1.9 percent of segments have no speed\n",
      "0.0 percent of trips with zero seconds\n",
      "0.0 percent of trips with speeds > 80mph or < 3mph\n",
      "median: 13.28mph... mph floor mode: 16mph\n",
      "2024-08-14\n",
      "2.0 percent of segments have no speed\n",
      "0.0 percent of trips with zero seconds\n",
      "0.0 percent of trips with speeds > 80mph or < 3mph\n",
      "median: 11.95mph... mph floor mode: 16mph\n",
      "2024-09-18\n",
      "2.0 percent of segments have no speed\n",
      "0.0 percent of trips with zero seconds\n",
      "0.0 percent of trips with speeds > 80mph or < 3mph\n",
      "median: 11.85mph... mph floor mode: 16mph\n",
      "2024-10-14\n",
      "1.9 percent of segments have no speed\n",
      "0.0 percent of trips with zero seconds\n",
      "0.0 percent of trips with speeds > 80mph or < 3mph\n",
      "median: 12.85mph... mph floor mode: 16mph\n",
      "2024-10-15\n",
      "2.0 percent of segments have no speed\n",
      "0.0 percent of trips with zero seconds\n",
      "0.0 percent of trips with speeds > 80mph or < 3mph\n",
      "median: 12.19mph... mph floor mode: 16mph\n",
      "2024-10-16\n",
      "2.0 percent of segments have no speed\n",
      "2024-10-16 failed\n",
      "division by zero\n",
      "2024-10-17\n",
      "2.0 percent of segments have no speed\n",
      "2024-10-17 failed\n",
      "division by zero\n",
      "2024-10-18\n",
      "2.0 percent of segments have no speed\n",
      "0.0 percent of trips with zero seconds\n",
      "0.0 percent of trips with speeds > 80mph or < 3mph\n",
      "median: 12.13mph... mph floor mode: 16mph\n",
      "2024-10-19\n",
      "1.9 percent of segments have no speed\n",
      "0.0 percent of trips with zero seconds\n",
      "0.0 percent of trips with speeds > 80mph or < 3mph\n",
      "median: 12.98mph... mph floor mode: 16mph\n",
      "2024-10-20\n",
      "1.9 percent of segments have no speed\n",
      "0.0 percent of trips with zero seconds\n",
      "0.0 percent of trips with speeds > 80mph or < 3mph\n",
      "median: 13.56mph... mph floor mode: 16mph\n",
      "2024-10-21\n",
      "2024-10-21 failed\n",
      "calitp-analytics-data/data-analyses/rt_segment_speeds/rollup_singleday/speeds_shape_timeofday_speedmap_segments_2024-10-21.parquet\n",
      "2024-11-13\n",
      "1.9 percent of segments have no speed\n",
      "0.0 percent of trips with zero seconds\n",
      "0.0 percent of trips with speeds > 80mph or < 3mph\n",
      "median: 11.47mph... mph floor mode: 16mph\n",
      "2024-12-11\n",
      "2.2 percent of segments have no speed\n",
      "0.0 percent of trips with zero seconds\n",
      "0.0 percent of trips with speeds > 80mph or < 3mph\n",
      "median: 12.69mph... mph floor mode: 16mph\n",
      "2025-01-15\n",
      "2.2 percent of segments have no speed\n",
      "0.0 percent of trips with zero seconds\n",
      "0.0 percent of trips with speeds > 80mph or < 3mph\n",
      "median: 12.7mph... mph floor mode: 16mph\n",
      "2025-02-12\n",
      "2.2 percent of segments have no speed\n",
      "0.0 percent of trips with zero seconds\n",
      "0.0 percent of trips with speeds > 80mph or < 3mph\n",
      "median: 12.42mph... mph floor mode: 16mph\n",
      "2025-03-12\n",
      "2.5 percent of segments have no speed\n",
      "0.0 percent of trips with zero seconds\n",
      "0.0 percent of trips with speeds > 80mph or < 3mph\n",
      "median: 13.13mph... mph floor mode: 16mph\n",
      "2025-04-14\n",
      "2025-04-14 failed\n",
      "calitp-analytics-data/data-analyses/rt_segment_speeds/rollup_singleday/speeds_shape_timeofday_speedmap_segments_2025-04-14.parquet\n",
      "2025-04-15\n",
      "2025-04-15 failed\n",
      "calitp-analytics-data/data-analyses/rt_segment_speeds/rollup_singleday/speeds_shape_timeofday_speedmap_segments_2025-04-15.parquet\n",
      "2025-04-16\n",
      "2.5 percent of segments have no speed\n",
      "0.0 percent of trips with zero seconds\n",
      "0.0 percent of trips with speeds > 80mph or < 3mph\n",
      "median: 12.68mph... mph floor mode: 16mph\n",
      "2025-04-17\n",
      "2025-04-17 failed\n",
      "calitp-analytics-data/data-analyses/rt_segment_speeds/rollup_singleday/speeds_shape_timeofday_speedmap_segments_2025-04-17.parquet\n",
      "2025-04-18\n",
      "2025-04-18 failed\n",
      "calitp-analytics-data/data-analyses/rt_segment_speeds/rollup_singleday/speeds_shape_timeofday_speedmap_segments_2025-04-18.parquet\n",
      "2025-04-19\n",
      "2025-04-19 failed\n",
      "calitp-analytics-data/data-analyses/rt_segment_speeds/rollup_singleday/speeds_shape_timeofday_speedmap_segments_2025-04-19.parquet\n",
      "2025-04-20\n",
      "2025-04-20 failed\n",
      "calitp-analytics-data/data-analyses/rt_segment_speeds/rollup_singleday/speeds_shape_timeofday_speedmap_segments_2025-04-20.parquet\n",
      "2025-05-14\n",
      "2.5 percent of segments have no speed\n",
      "0.0 percent of trips with zero seconds\n",
      "0.0 percent of trips with speeds > 80mph or < 3mph\n",
      "median: 12.22mph... mph floor mode: 16mph\n",
      "2025-06-11\n",
      "2.5 percent of segments have no speed\n",
      "0.0 percent of trips with zero seconds\n",
      "0.0 percent of trips with speeds > 80mph or < 3mph\n",
      "median: 12.87mph... mph floor mode: 16mph\n",
      "2025-07-16\n",
      "2.4 percent of segments have no speed\n",
      "0.0 percent of trips with zero seconds\n",
      "0.0 percent of trips with speeds > 80mph or < 3mph\n",
      "median: 12.73mph... mph floor mode: 16mph\n"
     ]
    }
   ],
   "source": [
    "for key in rt_dates.DATES.keys():\n",
    "    date = rt_dates.DATES[key]\n",
    "    print(date)\n",
    "    all_summaries += [new_lincoln(date)]"
   ]
  },
  {
   "cell_type": "code",
   "execution_count": 22,
   "id": "b9873e0e-2694-4510-801a-80e011675c40",
   "metadata": {
    "tags": []
   },
   "outputs": [],
   "source": [
    "all_df = pd.concat(all_summaries)"
   ]
  },
  {
   "cell_type": "code",
   "execution_count": 23,
   "id": "7d9881e9-3c93-421c-aeff-2410d7545878",
   "metadata": {
    "tags": []
   },
   "outputs": [
    {
     "data": {
      "text/plain": [
       "<Axes: >"
      ]
     },
     "execution_count": 23,
     "metadata": {},
     "output_type": "execute_result"
    },
    {
     "data": {
      "image/png": "[encoded data removed]",
      "text/plain": [
       "<Figure size 640x480 with 1 Axes>"
      ]
     },
     "metadata": {},
     "output_type": "display_data"
    }
   ],
   "source": [
    "all_df.n_trips_daily.hist()"
   ]
  },
  {
   "cell_type": "code",
   "execution_count": 24,
   "id": "4bad8838-4c20-41be-8d0f-4e7790369318",
   "metadata": {
    "tags": []
   },
   "outputs": [],
   "source": [
    "all_df = all_df.query('n_trips_daily > 140')"
   ]
  },
  {
   "cell_type": "code",
   "execution_count": 25,
   "id": "c111aaae-3c2a-4c8f-8e13-5253093262ed",
   "metadata": {
    "tags": []
   },
   "outputs": [],
   "source": [
    "import altair as alt"
   ]
  },
  {
   "cell_type": "code",
   "execution_count": 26,
   "id": "c4e22d5d-f31c-450b-ab4f-a1c1cc69be2a",
   "metadata": {
    "tags": []
   },
   "outputs": [],
   "source": [
    "all_df.analysis_date = all_df.analysis_date.apply(lambda x: pd.Timestamp(x))"
   ]
  },
  {
   "cell_type": "code",
   "execution_count": 27,
   "id": "5080456f-186c-485c-8560-37cb37d26ac6",
   "metadata": {
    "tags": []
   },
   "outputs": [
    {
     "data": {
      "text/html": [
       "\n",
       "<style>\n",
       "  #altair-viz-d049a0d3c3474a19a4b58c7feef7bfe3.vega-embed {\n",
       "    width: 100%;\n",
       "    display: flex;\n",
       "  }\n",
       "\n",
       "  #altair-viz-d049a0d3c3474a19a4b58c7feef7bfe3.vega-embed details,\n",
       "  #altair-viz-d049a0d3c3474a19a4b58c7feef7bfe3.vega-embed details summary {\n",
       "    position: relative;\n",
       "  }\n",
       "</style>\n",
       "<div id=\"altair-viz-d049a0d3c3474a19a4b58c7feef7bfe3\"></div>\n",
       "<script type=\"text/javascript\">\n",
       "  var VEGA_DEBUG = (typeof VEGA_DEBUG == \"undefined\") ? {} : VEGA_DEBUG;\n",
       "  (function(spec, embedOpt){\n",
       "    let outputDiv = document.currentScript.previousElementSibling;\n",
       "    if (outputDiv.id !== \"altair-viz-d049a0d3c3474a19a4b58c7feef7bfe3\") {\n",
       "      outputDiv = document.getElementById(\"altair-viz-d049a0d3c3474a19a4b58c7feef7bfe3\");\n",
       "    }\n",
       "\n",
       "    const paths = {\n",
       "      \"vega\": \"https://cdn.jsdelivr.net/npm/vega@5?noext\",\n",
       "      \"vega-lib\": \"https://cdn.jsdelivr.net/npm/vega-lib?noext\",\n",
       "      \"vega-lite\": \"https://cdn.jsdelivr.net/npm/vega-lite@5.20.1?noext\",\n",
       "      \"vega-embed\": \"https://cdn.jsdelivr.net/npm/vega-embed@6?noext\",\n",
       "    };\n",
       "\n",
       "    function maybeLoadScript(lib, version) {\n",
       "      var key = `${lib.replace(\"-\", \"\")}_version`;\n",
       "      return (VEGA_DEBUG[key] == version) ?\n",
       "        Promise.resolve(paths[lib]) :\n",
       "        new Promise(function(resolve, reject) {\n",
       "          var s = document.createElement('script');\n",
       "          document.getElementsByTagName(\"head\")[0].appendChild(s);\n",
       "          s.async = true;\n",
       "          s.onload = () => {\n",
       "            VEGA_DEBUG[key] = version;\n",
       "            return resolve(paths[lib]);\n",
       "          };\n",
       "          s.onerror = () => reject(`Error loading script: ${paths[lib]}`);\n",
       "          s.src = paths[lib];\n",
       "        });\n",
       "    }\n",
       "\n",
       "    function showError(err) {\n",
       "      outputDiv.innerHTML = `<div class=\"error\" style=\"color:red;\">${err}</div>`;\n",
       "      throw err;\n",
       "    }\n",
       "\n",
       "    function displayChart(vegaEmbed) {\n",
       "      vegaEmbed(outputDiv, spec, embedOpt)\n",
       "        .catch(err => showError(`Javascript Error: ${err.message}<br>This usually means there's a typo in your chart specification. See the javascript console for the full traceback.`));\n",
       "    }\n",
       "\n",
       "    if(typeof define === \"function\" && define.amd) {\n",
       "      requirejs.config({paths});\n",
       "      let deps = [\"vega-embed\"];\n",
       "      require(deps, displayChart, err => showError(`Error loading script: ${err.message}`));\n",
       "    } else {\n",
       "      maybeLoadScript(\"vega\", \"5\")\n",
       "        .then(() => maybeLoadScript(\"vega-lite\", \"5.20.1\"))\n",
       "        .then(() => maybeLoadScript(\"vega-embed\", \"6\"))\n",
       "        .catch(showError)\n",
       "        .then(() => displayChart(vegaEmbed));\n",
       "    }\n",
       "  })({\"config\": {\"view\": {\"continuousWidth\": 300, \"continuousHeight\": 300}}, \"layer\": [{\"mark\": {\"type\": \"point\"}, \"encoding\": {\"x\": {\"axis\": {\"format\": \"%b %Y\", \"title\": \"Date\"}, \"field\": \"analysis_date\", \"type\": \"temporal\"}, \"y\": {\"field\": \"delay_per_trip\", \"title\": \"Delay Per Trip (minutes)\", \"type\": \"quantitative\"}}}, {\"mark\": {\"type\": \"line\"}, \"encoding\": {\"x\": {\"axis\": {\"format\": \"%b %Y\", \"title\": \"Date\"}, \"field\": \"analysis_date\", \"type\": \"temporal\"}, \"y\": {\"field\": \"delay_per_trip\", \"title\": \"Delay Per Trip (minutes)\", \"type\": \"quantitative\"}}, \"transform\": [{\"on\": \"analysis_date\", \"regression\": \"delay_per_trip\"}]}], \"data\": {\"name\": \"data-e15daa29b4a5ecd24fa1bba8f2711b9f\"}, \"height\": 400, \"width\": 600, \"$schema\": \"https://vega.github.io/schema/vega-lite/v5.20.1.json\", \"datasets\": {\"data-e15daa29b4a5ecd24fa1bba8f2711b9f\": [{\"corridor_id\": 584447099936112567, \"schedule_gtfs_dataset_key\": \"dbbe8ee4864a2715a40749605395d584\", \"intervention_assumption\": \"trips achieve 16mph or existing spd if higher\", \"corridor_miles\": 4.5, \"corridor_seconds\": 206462.0, \"improved_corridor_seconds\": 163322.1, \"delay_seconds\": 43139.9, \"delay_minutes\": 719.0, \"minutes_per_mile\": 160.3, \"route_short_name\": [\"3\", \"R3\"], \"route_id\": [\"3556\", \"3570\"], \"median_corridor_mph\": 13.4, \"n_trips_daily\": 155, \"trips_hr_sch\": [4.7, 1.7], \"trips_per_hr_peak_directional\": 6.4, \"delay_per_trip\": 4.638709677419355, \"analysis_date\": \"2023-03-15T00:00:00\"}, {\"corridor_id\": 584447099936112567, \"schedule_gtfs_dataset_key\": \"dbbe8ee4864a2715a40749605395d584\", \"intervention_assumption\": \"trips achieve 16mph or existing spd if higher\", \"corridor_miles\": 4.5, \"corridor_seconds\": 206135.0, \"improved_corridor_seconds\": 159400.3, \"delay_seconds\": 46734.7, \"delay_minutes\": 778.9, \"minutes_per_mile\": 173.6, \"route_short_name\": [\"3\", \"R3\"], \"route_id\": [\"3556\", \"3570\"], \"median_corridor_mph\": 13.3, \"n_trips_daily\": 151, \"trips_hr_sch\": [4.7, 1.7], \"trips_per_hr_peak_directional\": 6.4, \"delay_per_trip\": 5.158278145695364, \"analysis_date\": \"2023-04-10T00:00:00\"}, {\"corridor_id\": 584447099936112567, \"schedule_gtfs_dataset_key\": \"dbbe8ee4864a2715a40749605395d584\", \"intervention_assumption\": \"trips achieve 16mph or existing spd if higher\", \"corridor_miles\": 4.5, \"corridor_seconds\": 197703.0, \"improved_corridor_seconds\": 149056.6, \"delay_seconds\": 48646.4, \"delay_minutes\": 810.8, \"minutes_per_mile\": 180.7, \"route_short_name\": [\"3\", \"R3\"], \"route_id\": [\"3556\", \"3570\"], \"median_corridor_mph\": 13.0, \"n_trips_daily\": 141, \"trips_hr_sch\": [4.7, 1.7], \"trips_per_hr_peak_directional\": 6.4, \"delay_per_trip\": 5.750354609929078, \"analysis_date\": \"2023-04-11T00:00:00\"}, {\"corridor_id\": 584447099936112567, \"schedule_gtfs_dataset_key\": \"dbbe8ee4864a2715a40749605395d584\", \"intervention_assumption\": \"trips achieve 16mph or existing spd if higher\", \"corridor_miles\": 4.5, \"corridor_seconds\": 228437.0, \"improved_corridor_seconds\": 170080.4, \"delay_seconds\": 58356.6, \"delay_minutes\": 972.6, \"minutes_per_mile\": 216.8, \"route_short_name\": [\"3\", \"R3\"], \"route_id\": [\"3556\", \"3570\"], \"median_corridor_mph\": 12.7, \"n_trips_daily\": 159, \"trips_hr_sch\": [4.7, 1.7], \"trips_per_hr_peak_directional\": 6.4, \"delay_per_trip\": 6.1169811320754715, \"analysis_date\": \"2023-04-12T00:00:00\"}, {\"corridor_id\": 584447099936112567, \"schedule_gtfs_dataset_key\": \"dbbe8ee4864a2715a40749605395d584\", \"intervention_assumption\": \"trips achieve 16mph or existing spd if higher\", \"corridor_miles\": 4.5, \"corridor_seconds\": 203372.0, \"improved_corridor_seconds\": 154178.3, \"delay_seconds\": 49193.7, \"delay_minutes\": 819.9, \"minutes_per_mile\": 182.7, \"route_short_name\": [\"3\", \"R3\"], \"route_id\": [\"3556\", \"3570\"], \"median_corridor_mph\": 13.5, \"n_trips_daily\": 146, \"trips_hr_sch\": [4.7, 1.7], \"trips_per_hr_peak_directional\": 6.4, \"delay_per_trip\": 5.615753424657534, \"analysis_date\": \"2023-04-13T00:00:00\"}, {\"corridor_id\": 584447099936112567, \"schedule_gtfs_dataset_key\": \"dbbe8ee4864a2715a40749605395d584\", \"intervention_assumption\": \"trips achieve 16mph or existing spd if higher\", \"corridor_miles\": 4.5, \"corridor_seconds\": 218059.0, \"improved_corridor_seconds\": 162277.7, \"delay_seconds\": 55781.3, \"delay_minutes\": 929.7, \"minutes_per_mile\": 207.2, \"route_short_name\": [\"3\", \"R3\"], \"route_id\": [\"3556\", \"3570\"], \"median_corridor_mph\": 12.8, \"n_trips_daily\": 152, \"trips_hr_sch\": [4.7, 1.7], \"trips_per_hr_peak_directional\": 6.4, \"delay_per_trip\": 6.116447368421053, \"analysis_date\": \"2023-04-14T00:00:00\"}, {\"corridor_id\": 584447099936112567, \"schedule_gtfs_dataset_key\": \"dbbe8ee4864a2715a40749605395d584\", \"intervention_assumption\": \"trips achieve 16mph or existing spd if higher\", \"corridor_miles\": 4.5, \"corridor_seconds\": 212184.0, \"improved_corridor_seconds\": 151217.9, \"delay_seconds\": 60966.1, \"delay_minutes\": 1016.1, \"minutes_per_mile\": 226.5, \"route_short_name\": [\"3\", \"R3\"], \"route_id\": [\"3606\", \"3620\"], \"median_corridor_mph\": 13.1, \"n_trips_daily\": 141, \"trips_hr_sch\": [4.7, 1.7], \"trips_per_hr_peak_directional\": 6.4, \"delay_per_trip\": 7.206382978723404, \"analysis_date\": \"2023-05-17T00:00:00\"}, {\"corridor_id\": 584447099936112567, \"schedule_gtfs_dataset_key\": \"dbbe8ee4864a2715a40749605395d584\", \"intervention_assumption\": \"trips achieve 16mph or existing spd if higher\", \"corridor_miles\": 4.5, \"corridor_seconds\": 206838.0, \"improved_corridor_seconds\": 149850.2, \"delay_seconds\": 56987.8, \"delay_minutes\": 949.8, \"minutes_per_mile\": 211.7, \"route_short_name\": [\"3\", \"R3\"], \"route_id\": [\"3606\", \"3620\"], \"median_corridor_mph\": 12.7, \"n_trips_daily\": 141, \"trips_hr_sch\": [4.7, 1.7], \"trips_per_hr_peak_directional\": 6.4, \"delay_per_trip\": 6.736170212765957, \"analysis_date\": \"2023-06-14T00:00:00\"}, {\"corridor_id\": 584447099936112567, \"schedule_gtfs_dataset_key\": \"dbbe8ee4864a2715a40749605395d584\", \"intervention_assumption\": \"trips achieve 16mph or existing spd if higher\", \"corridor_miles\": 4.5, \"corridor_seconds\": 231473.0, \"improved_corridor_seconds\": 170069.4, \"delay_seconds\": 61403.6, \"delay_minutes\": 1023.4, \"minutes_per_mile\": 228.1, \"route_short_name\": [\"3\", \"R3\"], \"route_id\": [\"3606\", \"3620\"], \"median_corridor_mph\": 12.6, \"n_trips_daily\": 160, \"trips_hr_sch\": [4.7, 1.7], \"trips_per_hr_peak_directional\": 6.4, \"delay_per_trip\": 6.39625, \"analysis_date\": \"2023-07-12T00:00:00\"}, {\"corridor_id\": 584447099936112567, \"schedule_gtfs_dataset_key\": \"dbbe8ee4864a2715a40749605395d584\", \"intervention_assumption\": \"trips achieve 16mph or existing spd if higher\", \"corridor_miles\": 4.5, \"corridor_seconds\": 242475.0, \"improved_corridor_seconds\": 169432.1, \"delay_seconds\": 73042.9, \"delay_minutes\": 1217.4, \"minutes_per_mile\": 271.3, \"route_short_name\": [\"3\", \"R3\"], \"route_id\": [\"3631\", \"3645\"], \"median_corridor_mph\": 11.7, \"n_trips_daily\": 158, \"trips_hr_sch\": [4.7, 1.7], \"trips_per_hr_peak_directional\": 6.4, \"delay_per_trip\": 7.705063291139241, \"analysis_date\": \"2023-08-15T00:00:00\"}, {\"corridor_id\": 584447099936112567, \"schedule_gtfs_dataset_key\": \"efbbd5293be71f7a5de0cf82b59febe1\", \"intervention_assumption\": \"trips achieve 16mph or existing spd if higher\", \"corridor_miles\": 4.5, \"corridor_seconds\": 219061.0, \"improved_corridor_seconds\": 155552.5, \"delay_seconds\": 63508.5, \"delay_minutes\": 1058.5, \"minutes_per_mile\": 235.9, \"route_short_name\": [\"3\", \"R3\"], \"route_id\": [\"3631\", \"3645\"], \"median_corridor_mph\": 12.3, \"n_trips_daily\": 145, \"trips_hr_sch\": [4.7, 1.7], \"trips_per_hr_peak_directional\": 6.4, \"delay_per_trip\": 7.3, \"analysis_date\": \"2023-09-13T00:00:00\"}, {\"corridor_id\": 584447099936112567, \"schedule_gtfs_dataset_key\": \"efbbd5293be71f7a5de0cf82b59febe1\", \"intervention_assumption\": \"trips achieve 16mph or existing spd if higher\", \"corridor_miles\": 4.5, \"corridor_seconds\": 209439.0, \"improved_corridor_seconds\": 156913.1, \"delay_seconds\": 52525.9, \"delay_minutes\": 875.4, \"minutes_per_mile\": 195.1, \"route_short_name\": [\"3\", \"R3\"], \"route_id\": [\"3631\", \"3645\"], \"median_corridor_mph\": 12.2, \"n_trips_daily\": 147, \"trips_hr_sch\": [4.7, 1.7], \"trips_per_hr_peak_directional\": 6.4, \"delay_per_trip\": 5.955102040816326, \"analysis_date\": \"2023-10-09T00:00:00\"}, {\"corridor_id\": 584447099936112567, \"schedule_gtfs_dataset_key\": \"efbbd5293be71f7a5de0cf82b59febe1\", \"intervention_assumption\": \"trips achieve 16mph or existing spd if higher\", \"corridor_miles\": 4.5, \"corridor_seconds\": 231736.0, \"improved_corridor_seconds\": 164617.9, \"delay_seconds\": 67118.1, \"delay_minutes\": 1118.6, \"minutes_per_mile\": 249.3, \"route_short_name\": [\"3\", \"R3\"], \"route_id\": [\"3631\", \"3645\"], \"median_corridor_mph\": 12.1, \"n_trips_daily\": 153, \"trips_hr_sch\": [4.7, 1.7], \"trips_per_hr_peak_directional\": 6.4, \"delay_per_trip\": 7.311111111111111, \"analysis_date\": \"2023-10-10T00:00:00\"}, {\"corridor_id\": 584447099936112567, \"schedule_gtfs_dataset_key\": \"efbbd5293be71f7a5de0cf82b59febe1\", \"intervention_assumption\": \"trips achieve 16mph or existing spd if higher\", \"corridor_miles\": 4.5, \"corridor_seconds\": 240878.0, \"improved_corridor_seconds\": 166639.6, \"delay_seconds\": 74238.4, \"delay_minutes\": 1237.3, \"minutes_per_mile\": 275.8, \"route_short_name\": [\"3\", \"R3\"], \"route_id\": [\"3631\", \"3645\"], \"median_corridor_mph\": 12.2, \"n_trips_daily\": 157, \"trips_hr_sch\": [4.7, 1.7], \"trips_per_hr_peak_directional\": 6.4, \"delay_per_trip\": 7.880891719745223, \"analysis_date\": \"2023-10-11T00:00:00\"}, {\"corridor_id\": 584447099936112567, \"schedule_gtfs_dataset_key\": \"efbbd5293be71f7a5de0cf82b59febe1\", \"intervention_assumption\": \"trips achieve 16mph or existing spd if higher\", \"corridor_miles\": 4.5, \"corridor_seconds\": 242777.0, \"improved_corridor_seconds\": 161290.3, \"delay_seconds\": 81486.7, \"delay_minutes\": 1358.1, \"minutes_per_mile\": 302.7, \"route_short_name\": [\"3\", \"R3\"], \"route_id\": [\"3631\", \"3645\"], \"median_corridor_mph\": 11.8, \"n_trips_daily\": 150, \"trips_hr_sch\": [4.7, 1.7], \"trips_per_hr_peak_directional\": 6.4, \"delay_per_trip\": 9.054, \"analysis_date\": \"2023-10-12T00:00:00\"}, {\"corridor_id\": 584447099936112567, \"schedule_gtfs_dataset_key\": \"efbbd5293be71f7a5de0cf82b59febe1\", \"intervention_assumption\": \"trips achieve 16mph or existing spd if higher\", \"corridor_miles\": 4.5, \"corridor_seconds\": 226796.0, \"improved_corridor_seconds\": 160527.5, \"delay_seconds\": 66268.5, \"delay_minutes\": 1104.5, \"minutes_per_mile\": 246.2, \"route_short_name\": [\"3\", \"R3\"], \"route_id\": [\"3631\", \"3645\"], \"median_corridor_mph\": 11.9, \"n_trips_daily\": 150, \"trips_hr_sch\": [4.7, 1.7], \"trips_per_hr_peak_directional\": 6.4, \"delay_per_trip\": 7.363333333333333, \"analysis_date\": \"2023-10-13T00:00:00\"}, {\"corridor_id\": 584447099936112567, \"schedule_gtfs_dataset_key\": \"efbbd5293be71f7a5de0cf82b59febe1\", \"intervention_assumption\": \"trips achieve 16mph or existing spd if higher\", \"corridor_miles\": 4.5, \"corridor_seconds\": 224542.0, \"improved_corridor_seconds\": 160747.5, \"delay_seconds\": 63794.5, \"delay_minutes\": 1063.2, \"minutes_per_mile\": 237.0, \"route_short_name\": [\"3\", \"R3\"], \"route_id\": [\"3631\", \"3645\"], \"median_corridor_mph\": 12.3, \"n_trips_daily\": 150, \"trips_hr_sch\": [4.7, 1.7], \"trips_per_hr_peak_directional\": 6.4, \"delay_per_trip\": 7.088, \"analysis_date\": \"2023-11-15T00:00:00\"}, {\"corridor_id\": 584447099936112567, \"schedule_gtfs_dataset_key\": \"efbbd5293be71f7a5de0cf82b59febe1\", \"intervention_assumption\": \"trips achieve 16mph or existing spd if higher\", \"corridor_miles\": 4.5, \"corridor_seconds\": 234849.0, \"improved_corridor_seconds\": 161411.3, \"delay_seconds\": 73437.7, \"delay_minutes\": 1224.0, \"minutes_per_mile\": 272.8, \"route_short_name\": [\"3\", \"R3\"], \"route_id\": [\"3631\", \"3645\"], \"median_corridor_mph\": 12.5, \"n_trips_daily\": 153, \"trips_hr_sch\": [4.7, 1.7], \"trips_per_hr_peak_directional\": 6.4, \"delay_per_trip\": 8.0, \"analysis_date\": \"2023-12-13T00:00:00\"}, {\"corridor_id\": 584447099936112567, \"schedule_gtfs_dataset_key\": \"efbbd5293be71f7a5de0cf82b59febe1\", \"intervention_assumption\": \"trips achieve 16mph or existing spd if higher\", \"corridor_miles\": 4.5, \"corridor_seconds\": 272676.0, \"improved_corridor_seconds\": 159159.1, \"delay_seconds\": 113516.9, \"delay_minutes\": 1891.9, \"minutes_per_mile\": 421.7, \"route_short_name\": [\"3\", \"R3\"], \"route_id\": [\"3707\", \"3721\"], \"median_corridor_mph\": 11.6, \"n_trips_daily\": 150, \"trips_hr_sch\": [4.7, 1.7], \"trips_per_hr_peak_directional\": 6.4, \"delay_per_trip\": 12.612666666666668, \"analysis_date\": \"2024-02-14T00:00:00\"}, {\"corridor_id\": 584447099936112567, \"schedule_gtfs_dataset_key\": \"efbbd5293be71f7a5de0cf82b59febe1\", \"intervention_assumption\": \"trips achieve 16mph or existing spd if higher\", \"corridor_miles\": 4.5, \"corridor_seconds\": 250072.0, \"improved_corridor_seconds\": 164512.4, \"delay_seconds\": 85559.6, \"delay_minutes\": 1426.0, \"minutes_per_mile\": 317.8, \"route_short_name\": [\"3\", \"R3\"], \"route_id\": [\"3707\", \"3721\"], \"median_corridor_mph\": 11.2, \"n_trips_daily\": 153, \"trips_hr_sch\": [4.7, 1.7], \"trips_per_hr_peak_directional\": 6.4, \"delay_per_trip\": 9.320261437908497, \"analysis_date\": \"2024-03-13T00:00:00\"}, {\"corridor_id\": 584447099936112567, \"schedule_gtfs_dataset_key\": \"efbbd5293be71f7a5de0cf82b59febe1\", \"intervention_assumption\": \"trips achieve 16mph or existing spd if higher\", \"corridor_miles\": 4.5, \"corridor_seconds\": 232286.0, \"improved_corridor_seconds\": 167126.8, \"delay_seconds\": 65159.2, \"delay_minutes\": 1086.0, \"minutes_per_mile\": 242.1, \"route_short_name\": [\"R3\", \"3\"], \"route_id\": [\"3721\", \"3707\"], \"median_corridor_mph\": 12.4, \"n_trips_daily\": 157, \"trips_hr_sch\": [1.7, 4.7], \"trips_per_hr_peak_directional\": 6.4, \"delay_per_trip\": 6.917197452229299, \"analysis_date\": \"2024-04-15T00:00:00\"}, {\"corridor_id\": 584447099936112567, \"schedule_gtfs_dataset_key\": \"c2630c44a1f2703ec651596e6358d4f4\", \"intervention_assumption\": \"trips achieve 16mph or existing spd if higher\", \"corridor_miles\": 4.5, \"corridor_seconds\": 240431.0, \"improved_corridor_seconds\": 168397.4, \"delay_seconds\": 72033.6, \"delay_minutes\": 1200.6, \"minutes_per_mile\": 267.6, \"route_short_name\": [\"3\", \"R3\"], \"route_id\": [\"3757\", \"3771\"], \"median_corridor_mph\": 11.9, \"n_trips_daily\": 161, \"trips_hr_sch\": [4.7, 1.7], \"trips_per_hr_peak_directional\": 6.4, \"delay_per_trip\": 7.457142857142856, \"analysis_date\": \"2024-08-14T00:00:00\"}, {\"corridor_id\": 584447099936112567, \"schedule_gtfs_dataset_key\": \"c2630c44a1f2703ec651596e6358d4f4\", \"intervention_assumption\": \"trips achieve 16mph or existing spd if higher\", \"corridor_miles\": 4.5, \"corridor_seconds\": 251207.0, \"improved_corridor_seconds\": 173283.9, \"delay_seconds\": 77923.1, \"delay_minutes\": 1298.7, \"minutes_per_mile\": 289.5, \"route_short_name\": [\"3\", \"R3\"], \"route_id\": [\"3757\", \"3771\"], \"median_corridor_mph\": 11.9, \"n_trips_daily\": 162, \"trips_hr_sch\": [4.7, 1.7], \"trips_per_hr_peak_directional\": 6.4, \"delay_per_trip\": 8.016666666666667, \"analysis_date\": \"2024-09-18T00:00:00\"}, {\"corridor_id\": 584447099936112567, \"schedule_gtfs_dataset_key\": \"c2630c44a1f2703ec651596e6358d4f4\", \"intervention_assumption\": \"trips achieve 16mph or existing spd if higher\", \"corridor_miles\": 4.5, \"corridor_seconds\": 221333.0, \"improved_corridor_seconds\": 169715.3, \"delay_seconds\": 51617.7, \"delay_minutes\": 860.3, \"minutes_per_mile\": 191.7, \"route_short_name\": [\"3\", \"R3\"], \"route_id\": [\"3757\", \"3771\"], \"median_corridor_mph\": 12.8, \"n_trips_daily\": 159, \"trips_hr_sch\": [4.7, 1.7], \"trips_per_hr_peak_directional\": 6.4, \"delay_per_trip\": 5.410691823899371, \"analysis_date\": \"2024-10-14T00:00:00\"}, {\"corridor_id\": 584447099936112567, \"schedule_gtfs_dataset_key\": \"c2630c44a1f2703ec651596e6358d4f4\", \"intervention_assumption\": \"trips achieve 16mph or existing spd if higher\", \"corridor_miles\": 4.5, \"corridor_seconds\": 247368.0, \"improved_corridor_seconds\": 173852.9, \"delay_seconds\": 73515.1, \"delay_minutes\": 1225.3, \"minutes_per_mile\": 273.1, \"route_short_name\": [\"R3\", \"3\"], \"route_id\": [\"3771\", \"3757\"], \"median_corridor_mph\": 12.2, \"n_trips_daily\": 162, \"trips_hr_sch\": [1.7, 4.7], \"trips_per_hr_peak_directional\": 6.4, \"delay_per_trip\": 7.56358024691358, \"analysis_date\": \"2024-10-15T00:00:00\"}, {\"corridor_id\": 584447099936112567, \"schedule_gtfs_dataset_key\": \"c2630c44a1f2703ec651596e6358d4f4\", \"intervention_assumption\": \"trips achieve 16mph or existing spd if higher\", \"corridor_miles\": 4.5, \"corridor_seconds\": 246374.0, \"improved_corridor_seconds\": 175090.4, \"delay_seconds\": 71283.6, \"delay_minutes\": 1188.1, \"minutes_per_mile\": 264.8, \"route_short_name\": [\"3\", \"R3\"], \"route_id\": [\"3757\", \"3771\"], \"median_corridor_mph\": 12.1, \"n_trips_daily\": 162, \"trips_hr_sch\": [4.7, 1.7], \"trips_per_hr_peak_directional\": 6.4, \"delay_per_trip\": 7.33395061728395, \"analysis_date\": \"2024-10-18T00:00:00\"}, {\"corridor_id\": 584447099936112567, \"schedule_gtfs_dataset_key\": \"c2630c44a1f2703ec651596e6358d4f4\", \"intervention_assumption\": \"trips achieve 16mph or existing spd if higher\", \"corridor_miles\": 4.5, \"corridor_seconds\": 258789.0, \"improved_corridor_seconds\": 173347.6, \"delay_seconds\": 85441.4, \"delay_minutes\": 1424.0, \"minutes_per_mile\": 317.4, \"route_short_name\": [\"3\", \"R3\"], \"route_id\": [\"3757\", \"3771\"], \"median_corridor_mph\": 11.5, \"n_trips_daily\": 162, \"trips_hr_sch\": [4.7, 1.7], \"trips_per_hr_peak_directional\": 6.4, \"delay_per_trip\": 8.790123456790123, \"analysis_date\": \"2024-11-13T00:00:00\"}, {\"corridor_id\": 584447099936112567, \"schedule_gtfs_dataset_key\": \"c2630c44a1f2703ec651596e6358d4f4\", \"intervention_assumption\": \"trips achieve 16mph or existing spd if higher\", \"corridor_miles\": 4.5, \"corridor_seconds\": 227031.0, \"improved_corridor_seconds\": 169561.5, \"delay_seconds\": 57469.5, \"delay_minutes\": 957.8, \"minutes_per_mile\": 213.5, \"route_short_name\": [\"3\", \"R3\"], \"route_id\": [\"3757\", \"3771\"], \"median_corridor_mph\": 12.7, \"n_trips_daily\": 159, \"trips_hr_sch\": [4.7, 1.7], \"trips_per_hr_peak_directional\": 6.4, \"delay_per_trip\": 6.023899371069182, \"analysis_date\": \"2024-12-11T00:00:00\"}, {\"corridor_id\": 584447099936112567, \"schedule_gtfs_dataset_key\": \"c2630c44a1f2703ec651596e6358d4f4\", \"intervention_assumption\": \"trips achieve 16mph or existing spd if higher\", \"corridor_miles\": 4.5, \"corridor_seconds\": 227079.0, \"improved_corridor_seconds\": 170164.0, \"delay_seconds\": 56915.0, \"delay_minutes\": 948.6, \"minutes_per_mile\": 211.4, \"route_short_name\": [\"3\", \"R3\"], \"route_id\": [\"3807\", \"3821\"], \"median_corridor_mph\": 12.7, \"n_trips_daily\": 160, \"trips_hr_sch\": [4.7, 1.7], \"trips_per_hr_peak_directional\": 6.4, \"delay_per_trip\": 5.92875, \"analysis_date\": \"2025-01-15T00:00:00\"}, {\"corridor_id\": 584447099936112567, \"schedule_gtfs_dataset_key\": \"c2630c44a1f2703ec651596e6358d4f4\", \"intervention_assumption\": \"trips achieve 16mph or existing spd if higher\", \"corridor_miles\": 4.5, \"corridor_seconds\": 232457.0, \"improved_corridor_seconds\": 170173.2, \"delay_seconds\": 62283.8, \"delay_minutes\": 1038.1, \"minutes_per_mile\": 231.4, \"route_short_name\": [\"3\", \"R3\"], \"route_id\": [\"3807\", \"3821\"], \"median_corridor_mph\": 12.4, \"n_trips_daily\": 159, \"trips_hr_sch\": [4.7, 1.7], \"trips_per_hr_peak_directional\": 6.4, \"delay_per_trip\": 6.528930817610062, \"analysis_date\": \"2025-02-12T00:00:00\"}, {\"corridor_id\": 584447099936112567, \"schedule_gtfs_dataset_key\": \"298a1216e45ae5c17d4b3f8bc36a7caa\", \"intervention_assumption\": \"trips achieve 16mph or existing spd if higher\", \"corridor_miles\": 4.5, \"corridor_seconds\": 222332.0, \"improved_corridor_seconds\": 173379.6, \"delay_seconds\": 48952.4, \"delay_minutes\": 815.9, \"minutes_per_mile\": 181.8, \"route_short_name\": [\"3\", \"R3\"], \"route_id\": [\"3\", \"R3\"], \"median_corridor_mph\": 13.1, \"n_trips_daily\": 160, \"trips_hr_sch\": [4.7, 1.7], \"trips_per_hr_peak_directional\": 6.4, \"delay_per_trip\": 5.099375, \"analysis_date\": \"2025-03-12T00:00:00\"}, {\"corridor_id\": 584447099936112567, \"schedule_gtfs_dataset_key\": \"c65bd95ac0009a74df9ff840fc416771\", \"intervention_assumption\": \"trips achieve 16mph or existing spd if higher\", \"corridor_miles\": 4.5, \"corridor_seconds\": 230569.0, \"improved_corridor_seconds\": 173776.5, \"delay_seconds\": 56792.5, \"delay_minutes\": 946.5, \"minutes_per_mile\": 211.0, \"route_short_name\": [\"3\", \"R3\"], \"route_id\": [\"3\", \"R3\"], \"median_corridor_mph\": 12.7, \"n_trips_daily\": 161, \"trips_hr_sch\": [4.7, 1.7], \"trips_per_hr_peak_directional\": 6.4, \"delay_per_trip\": 5.87888198757764, \"analysis_date\": \"2025-04-16T00:00:00\"}, {\"corridor_id\": 584447099936112567, \"schedule_gtfs_dataset_key\": \"a02018fa11c962bcd3e07ab7f4516a63\", \"intervention_assumption\": \"trips achieve 16mph or existing spd if higher\", \"corridor_miles\": 4.5, \"corridor_seconds\": 249963.0, \"improved_corridor_seconds\": 176962.7, \"delay_seconds\": 73000.3, \"delay_minutes\": 1216.7, \"minutes_per_mile\": 271.2, \"route_short_name\": [\"3\", \"R3\"], \"route_id\": [\"3\", \"R3\"], \"median_corridor_mph\": 12.2, \"n_trips_daily\": 162, \"trips_hr_sch\": [4.7, 1.7], \"trips_per_hr_peak_directional\": 6.4, \"delay_per_trip\": 7.510493827160494, \"analysis_date\": \"2025-05-14T00:00:00\"}, {\"corridor_id\": 584447099936112567, \"schedule_gtfs_dataset_key\": \"a02018fa11c962bcd3e07ab7f4516a63\", \"intervention_assumption\": \"trips achieve 16mph or existing spd if higher\", \"corridor_miles\": 4.5, \"corridor_seconds\": 227858.0, \"improved_corridor_seconds\": 172798.2, \"delay_seconds\": 55059.8, \"delay_minutes\": 917.7, \"minutes_per_mile\": 204.5, \"route_short_name\": [\"R3\", \"3\"], \"route_id\": [\"R3\", \"3\"], \"median_corridor_mph\": 12.9, \"n_trips_daily\": 158, \"trips_hr_sch\": [1.7, 4.7], \"trips_per_hr_peak_directional\": 6.4, \"delay_per_trip\": 5.808227848101266, \"analysis_date\": \"2025-06-11T00:00:00\"}, {\"corridor_id\": 584447099936112567, \"schedule_gtfs_dataset_key\": \"a02018fa11c962bcd3e07ab7f4516a63\", \"intervention_assumption\": \"trips achieve 16mph or existing spd if higher\", \"corridor_miles\": 4.5, \"corridor_seconds\": 238639.0, \"improved_corridor_seconds\": 176712.4, \"delay_seconds\": 61926.6, \"delay_minutes\": 1032.1, \"minutes_per_mile\": 230.0, \"route_short_name\": [\"3\", \"R3\"], \"route_id\": [\"3\", \"R3\"], \"median_corridor_mph\": 12.7, \"n_trips_daily\": 162, \"trips_hr_sch\": [4.7, 1.7], \"trips_per_hr_peak_directional\": 6.4, \"delay_per_trip\": 6.370987654320987, \"analysis_date\": \"2025-07-16T00:00:00\"}]}}, {\"mode\": \"vega-lite\"});\n",
       "</script>"
      ],
      "text/plain": [
       "alt.LayerChart(...)"
      ]
     },
     "execution_count": 27,
     "metadata": {},
     "output_type": "execute_result"
    }
   ],
   "source": [
    "chart = alt.Chart(all_df).mark_point().encode(\n",
    "    x=alt.X('analysis_date:T', axis = alt.Axis(title = 'Date', format = (\"%b %Y\"))),\n",
    "    y=alt.Y('delay_per_trip', title='Delay Per Trip (minutes)')\n",
    ").properties(width=600, height=400)\n",
    "\n",
    "chart + chart.transform_regression('analysis_date', 'delay_per_trip').mark_line()"
   ]
  },
  {
   "cell_type": "code",
   "execution_count": 28,
   "id": "938c8cfd-4aee-4584-a139-90568f1005a3",
   "metadata": {
    "tags": []
   },
   "outputs": [],
   "source": [
    "# all_df.to_csv('lincoln_June_2025.csv')"
   ]
  }
 ],
 "metadata": {
  "kernelspec": {
   "display_name": "Python 3 (ipykernel)",
   "language": "python",
   "name": "python3"
  },
  "language_info": {
   "codemirror_mode": {
    "name": "ipython",
    "version": 3
   },
   "file_extension": ".py",
   "mimetype": "text/x-python",
   "name": "python",
   "nbconvert_exporter": "python",
   "pygments_lexer": "ipython3",
   "version": "3.11.10"
  },
  "widgets": {
   "application/vnd.jupyter.widget-state+json": {
    "state": {},
    "version_major": 2,
    "version_minor": 0
   }
  }
 },
 "nbformat": 4,
 "nbformat_minor": 5
}
