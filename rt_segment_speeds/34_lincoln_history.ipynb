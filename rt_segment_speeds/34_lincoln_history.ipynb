{
 "cells": [
  {
   "cell_type": "code",
   "execution_count": 1,
   "id": "38530da5-b30b-4e6c-9a9b-0bf5e233da55",
   "metadata": {
    "tags": []
   },
   "outputs": [],
   "source": [
    "import pandas as pd\n",
    "import geopandas as gpd\n",
    "\n",
    "from shared_utils import rt_utils, catalog_utils, rt_dates, webmap_utils, gtfs_utils_v2\n",
    "\n",
    "from calitp_data_analysis import get_fs, geography_utils\n",
    "from segment_speed_utils import helpers, time_series_utils, gtfs_schedule_wrangling, corridor_analysis\n",
    "from segment_speed_utils.project_vars import SCHED_GCS, SEGMENT_GCS, GTFS_DATA_DICT, COMPILED_CACHED_VIEWS, PROJECT_CRS\n",
    "import numpy as np\n",
    "import datetime as dt\n",
    "\n",
    "ADHOC_PATH = \"gs://calitp-analytics-data/data-analyses/rt_segment_speeds/adhoc/\""
   ]
  },
  {
   "cell_type": "code",
   "execution_count": 2,
   "id": "1ddca7fa-e285-4b33-9fbd-931103bf611d",
   "metadata": {},
   "outputs": [],
   "source": [
    "target_mph = 16\n",
    "target_mps = target_mph / rt_utils.MPH_PER_MPS"
   ]
  },
  {
   "cell_type": "code",
   "execution_count": 3,
   "id": "f37e55ad-e78b-4b16-92ce-69e4cee78cdc",
   "metadata": {},
   "outputs": [
    {
     "data": {
      "text/plain": [
       "'gs://calitp-analytics-data/data-analyses/rt_segment_speeds/'"
      ]
     },
     "execution_count": 3,
     "metadata": {},
     "output_type": "execute_result"
    }
   ],
   "source": [
    "SEGMENT_GCS"
   ]
  },
  {
   "cell_type": "code",
   "execution_count": 4,
   "id": "b2f73daf-c437-402c-98df-4f45067a8860",
   "metadata": {},
   "outputs": [],
   "source": [
    "from siuba import *"
   ]
  },
  {
   "cell_type": "code",
   "execution_count": 5,
   "id": "b43f6d79-29f2-48a6-8658-309f914229f7",
   "metadata": {
    "tags": []
   },
   "outputs": [],
   "source": [
    "import gcsfs\n",
    "import google.auth\n",
    "credentials, project = google.auth.default()\n",
    "fs = gcsfs.GCSFileSystem(token=credentials)"
   ]
  },
  {
   "cell_type": "markdown",
   "id": "71fb697d-384f-4a18-9cd0-b3761bb0120a",
   "metadata": {},
   "source": [
    "# Lincoln Corridor Speed History\n",
    "\n",
    "* support D7 Lincoln Bus Lane Feasibility Study by illustrating worsening speeds and bus rider delay over the last few years\n",
    "* will refactor into a script pending speedmap segments work (goal is to align on those)"
   ]
  },
  {
   "cell_type": "code",
   "execution_count": 6,
   "id": "eda1f9c2-5423-4cb1-83d3-5c0c28906b4b",
   "metadata": {},
   "outputs": [],
   "source": [
    "# analysis_date = rt_dates.DATES['mar2023']\n",
    "# analysis_date = rt_dates.DATES['sep2022a']"
   ]
  },
  {
   "cell_type": "markdown",
   "id": "0087f236-b282-455c-95ab-f815f582aa69",
   "metadata": {
    "tags": []
   },
   "source": [
    "## refactor to use corridor analysis tooling"
   ]
  },
  {
   "cell_type": "code",
   "execution_count": 7,
   "id": "cf25829a-3d7c-4e39-8d6b-c2ef89db7270",
   "metadata": {
    "tags": []
   },
   "outputs": [],
   "source": [
    "analysis_date = rt_dates.DATES['mar2023']"
   ]
  },
  {
   "cell_type": "code",
   "execution_count": 8,
   "id": "c38357c0-e49e-457b-97e5-39e90b7d6f07",
   "metadata": {
    "tags": []
   },
   "outputs": [
    {
     "name": "stderr",
     "output_type": "stream",
     "text": [
      "/home/jovyan/data-analyses/rt_segment_speeds/segment_speed_utils/corridor_analysis.py:33: FutureWarning: The default value of numeric_only in DataFrameGroupBy.sum is deprecated. In a future version, numeric_only will default to False. Either specify numeric_only or select only columns which should be valid for the function.\n",
      "  group_cols + ['direction_id']).sum().groupby(\n"
     ]
    },
    {
     "name": "stdout",
     "output_type": "stream",
     "text": [
      "2.0 percent of segments have no speed\n"
     ]
    }
   ],
   "source": [
    "segment_speeds = corridor_analysis.import_speedmap_segment_speeds(analysis_date)\n",
    "\n",
    "frequencies = corridor_analysis.get_max_frequencies(segment_speeds)\n",
    "\n",
    "trip_speeds = corridor_analysis.import_trip_speeds(analysis_date)"
   ]
  },
  {
   "cell_type": "code",
   "execution_count": 9,
   "id": "a92b947c-f90f-4375-ae10-f99136d59f7d",
   "metadata": {
    "tags": []
   },
   "outputs": [],
   "source": [
    "# corr = pd.read_excel(f'{ADHOC_PATH}corr_hs.xlsx', sheet_name='Corridor Input')\n",
    "# corr = corr.astype({'start_segment_id': str, 'end_segment_id': str, 'shape_id':str})"
   ]
  },
  {
   "cell_type": "code",
   "execution_count": 10,
   "id": "e33ef6aa-d9b0-4805-a839-b1ccec459012",
   "metadata": {
    "tags": []
   },
   "outputs": [],
   "source": [
    "# row = corr.loc[21]"
   ]
  },
  {
   "cell_type": "code",
   "execution_count": 11,
   "id": "69ec2132-47ed-45d1-b726-4739cfd90ba8",
   "metadata": {
    "tags": []
   },
   "outputs": [],
   "source": [
    "# corr_gdf = corridor_analysis.corridor_from_segments(speed_segments_gdf=segment_speeds,\n",
    "#                                                organization_source_record_id=row.organization_source_record_id,\n",
    "#                                                shape_id=row.shape_id,\n",
    "#                                                start_seg_id=row.start_segment_id,\n",
    "#                                                end_seg_id=row.end_segment_id)"
   ]
  },
  {
   "cell_type": "code",
   "execution_count": 12,
   "id": "8c35d198-cdd4-464a-a60e-927df7dd27ae",
   "metadata": {
    "tags": []
   },
   "outputs": [],
   "source": [
    "# corr_gdf.to_parquet(f'{ADHOC_PATH}lincoln_corridor.parquet', filesystem=fs)"
   ]
  },
  {
   "cell_type": "code",
   "execution_count": 13,
   "id": "0e2e78a3-ef21-49ef-8def-cad9143d81ce",
   "metadata": {
    "tags": []
   },
   "outputs": [],
   "source": [
    "corr_gdf = gpd.read_parquet(f'{ADHOC_PATH}lincoln_corridor.parquet', storage_options = {\"token\": credentials.token})"
   ]
  },
  {
   "cell_type": "code",
   "execution_count": 14,
   "id": "e01151c0-7804-4271-83b2-c12011352848",
   "metadata": {
    "tags": []
   },
   "outputs": [],
   "source": [
    "corridor_trips = corridor_analysis.find_corridor_data(segment_speeds, corr_gdf, trip_speeds,\n",
    "                                                     custom_relevance_meters=5000\n",
    "                                                     )"
   ]
  },
  {
   "cell_type": "code",
   "execution_count": 15,
   "id": "c6eeed34-3703-4ed6-993e-45207868a1de",
   "metadata": {
    "tags": []
   },
   "outputs": [],
   "source": [
    "if 'route_short_name' not in corridor_trips.columns:\n",
    "\n",
    "    trips = helpers.import_scheduled_trips(analysis_date, columns=['gtfs_dataset_key', 'route_id', 'route_short_name'])\n",
    "    trips = trips.rename(columns={'gtfs_dataset_key':'schedule_gtfs_dataset_key'}).drop_duplicates()\n",
    "    corridor_trips = corridor_trips.merge(trips, on =['schedule_gtfs_dataset_key', 'route_id'])"
   ]
  },
  {
   "cell_type": "code",
   "execution_count": 16,
   "id": "8f763776-aff7-45b8-9435-fd6e65ba877e",
   "metadata": {
    "tags": []
   },
   "outputs": [
    {
     "name": "stdout",
     "output_type": "stream",
     "text": [
      "0.0 percent of trips with zero seconds\n",
      "0.6 percent of trips with speeds > 80mph or < 3mph\n"
     ]
    }
   ],
   "source": [
    "corridor_results = corridor_analysis.analyze_corridor_trips(corridor_trips)"
   ]
  },
  {
   "cell_type": "code",
   "execution_count": 17,
   "id": "45970bca-852c-450f-8547-5f676c648e78",
   "metadata": {
    "tags": []
   },
   "outputs": [],
   "source": [
    "# corridor_analysis.validate_corridor_routes(corr_gdf, corridor_trips)"
   ]
  },
  {
   "cell_type": "code",
   "execution_count": 18,
   "id": "9faf1d48-2390-40a6-91fb-16ef17447a03",
   "metadata": {
    "tags": []
   },
   "outputs": [
    {
     "name": "stdout",
     "output_type": "stream",
     "text": [
      "median: 13.36mph... mph floor mode: 16mph\n"
     ]
    }
   ],
   "source": [
    "corridor_improvements = corridor_analysis.analyze_corridor_improvements(corridor_results, **{'trip_mph_floor': 16, 'trip_percent_speedup': 15})"
   ]
  },
  {
   "cell_type": "code",
   "execution_count": 19,
   "id": "8927d257-9668-41fe-9e41-47ff9a43d39b",
   "metadata": {
    "tags": []
   },
   "outputs": [],
   "source": [
    "summarized = corridor_analysis.summarize_corridor_improvements(corridor_improvements, frequencies, corr_gdf)"
   ]
  },
  {
   "cell_type": "code",
   "execution_count": 20,
   "id": "4ab06512-b167-4f50-abe2-29eb73b552f9",
   "metadata": {
    "tags": []
   },
   "outputs": [],
   "source": [
    "summarized = summarized.assign(delay_per_trip = summarized.delay_minutes / summarized.n_trips_daily,\n",
    "                              analysis_date = analysis_date)"
   ]
  },
  {
   "cell_type": "code",
   "execution_count": 21,
   "id": "eda2c1c2-fb01-49a3-8c6d-f4774c6c44c9",
   "metadata": {
    "tags": []
   },
   "outputs": [
    {
     "data": {
      "text/html": [
       "<div>\n",
       "<style scoped>\n",
       "    .dataframe tbody tr th:only-of-type {\n",
       "        vertical-align: middle;\n",
       "    }\n",
       "\n",
       "    .dataframe tbody tr th {\n",
       "        vertical-align: top;\n",
       "    }\n",
       "\n",
       "    .dataframe thead th {\n",
       "        text-align: right;\n",
       "    }\n",
       "</style>\n",
       "<table border=\"1\" class=\"dataframe\">\n",
       "  <thead>\n",
       "    <tr style=\"text-align: right;\">\n",
       "      <th></th>\n",
       "      <th>corridor_id</th>\n",
       "      <th>schedule_gtfs_dataset_key</th>\n",
       "      <th>intervention_assumption</th>\n",
       "      <th>corridor_miles</th>\n",
       "      <th>corridor_seconds</th>\n",
       "      <th>improved_corridor_seconds</th>\n",
       "      <th>delay_seconds</th>\n",
       "      <th>delay_minutes</th>\n",
       "      <th>minutes_per_mile</th>\n",
       "      <th>route_short_name</th>\n",
       "      <th>route_id</th>\n",
       "      <th>median_corridor_mph</th>\n",
       "      <th>n_trips_daily</th>\n",
       "      <th>trips_hr_sch</th>\n",
       "      <th>trips_per_hr_peak_directional</th>\n",
       "      <th>delay_per_trip</th>\n",
       "      <th>analysis_date</th>\n",
       "    </tr>\n",
       "  </thead>\n",
       "  <tbody>\n",
       "    <tr>\n",
       "      <th>0</th>\n",
       "      <td>584447099936112567</td>\n",
       "      <td>dbbe8ee4864a2715a40749605395d584</td>\n",
       "      <td>trips achieve 16mph or existing spd if higher</td>\n",
       "      <td>4.5</td>\n",
       "      <td>206462.0</td>\n",
       "      <td>163322.1</td>\n",
       "      <td>43139.9</td>\n",
       "      <td>719.0</td>\n",
       "      <td>160.3</td>\n",
       "      <td>[3, R3]</td>\n",
       "      <td>[3556, 3570]</td>\n",
       "      <td>13.4</td>\n",
       "      <td>155</td>\n",
       "      <td>[4.7, 1.7]</td>\n",
       "      <td>6.4</td>\n",
       "      <td>4.63871</td>\n",
       "      <td>2023-03-15</td>\n",
       "    </tr>\n",
       "  </tbody>\n",
       "</table>\n",
       "</div>"
      ],
      "text/plain": [
       "          corridor_id         schedule_gtfs_dataset_key  \\\n",
       "0  584447099936112567  dbbe8ee4864a2715a40749605395d584   \n",
       "\n",
       "                         intervention_assumption  corridor_miles  \\\n",
       "0  trips achieve 16mph or existing spd if higher             4.5   \n",
       "\n",
       "   corridor_seconds  improved_corridor_seconds  delay_seconds  delay_minutes  \\\n",
       "0          206462.0                   163322.1        43139.9          719.0   \n",
       "\n",
       "   minutes_per_mile route_short_name      route_id  median_corridor_mph  \\\n",
       "0             160.3          [3, R3]  [3556, 3570]                 13.4   \n",
       "\n",
       "   n_trips_daily trips_hr_sch  trips_per_hr_peak_directional  delay_per_trip  \\\n",
       "0            155   [4.7, 1.7]                            6.4         4.63871   \n",
       "\n",
       "  analysis_date  \n",
       "0    2023-03-15  "
      ]
     },
     "execution_count": 21,
     "metadata": {},
     "output_type": "execute_result"
    }
   ],
   "source": [
    "summarized"
   ]
  },
  {
   "cell_type": "code",
   "execution_count": 22,
   "id": "17d1b09b-598f-4e15-922d-a06b5f43cb1c",
   "metadata": {
    "tags": []
   },
   "outputs": [],
   "source": [
    "def new_lincoln(analysis_date, corr_gdf = corr_gdf):\n",
    "    \n",
    "    try:\n",
    "        segment_speeds = corridor_analysis.import_speedmap_segment_speeds(analysis_date)\n",
    "        frequencies = corridor_analysis.get_max_frequencies(segment_speeds)\n",
    "        trip_speeds = corridor_analysis.import_trip_speeds(analysis_date)\n",
    "        corridor_trips = corridor_analysis.find_corridor_data(segment_speeds, corr_gdf, trip_speeds,\n",
    "                                                         custom_relevance_meters=5000\n",
    "                                                         )\n",
    "        if 'route_short_name' not in corridor_trips.columns:\n",
    "\n",
    "            trips = helpers.import_scheduled_trips(analysis_date, columns=['gtfs_dataset_key', 'route_id', 'route_short_name'])\n",
    "            trips = trips.rename(columns={'gtfs_dataset_key':'schedule_gtfs_dataset_key'}).drop_duplicates()\n",
    "            corridor_trips = corridor_trips.merge(trips, on =['schedule_gtfs_dataset_key', 'route_id'])\n",
    "\n",
    "        corridor_results = corridor_analysis.analyze_corridor_trips(corridor_trips)\n",
    "        corridor_improvements = corridor_analysis.analyze_corridor_improvements(corridor_results, **{'trip_mph_floor': 16, 'trip_percent_speedup': 15})\n",
    "        summarized = corridor_analysis.summarize_corridor_improvements(corridor_improvements, frequencies, corr_gdf)\n",
    "        summarized = summarized.assign(delay_per_trip = summarized.delay_minutes / summarized.n_trips_daily,\n",
    "                                  analysis_date = analysis_date)\n",
    "        return summarized\n",
    "    \n",
    "    except Exception as e:\n",
    "        print(f'{analysis_date} failed')\n",
    "        print(e)\n",
    "        return"
   ]
  },
  {
   "cell_type": "code",
   "execution_count": 23,
   "id": "2c3ebca2-0b0a-4148-b183-f96d939d6ab8",
   "metadata": {
    "tags": []
   },
   "outputs": [],
   "source": [
    "all_summaries = []"
   ]
  },
  {
   "cell_type": "code",
   "execution_count": null,
   "id": "50f1acf2-b7c2-419e-80f3-99f718bd69d0",
   "metadata": {
    "collapsed": true,
    "jupyter": {
     "outputs_hidden": true
    },
    "tags": []
   },
   "outputs": [
    {
     "name": "stdout",
     "output_type": "stream",
     "text": [
      "2023-03-15\n"
     ]
    },
    {
     "name": "stderr",
     "output_type": "stream",
     "text": [
      "/home/jovyan/data-analyses/rt_segment_speeds/segment_speed_utils/corridor_analysis.py:33: FutureWarning: The default value of numeric_only in DataFrameGroupBy.sum is deprecated. In a future version, numeric_only will default to False. Either specify numeric_only or select only columns which should be valid for the function.\n",
      "  group_cols + ['direction_id']).sum().groupby(\n"
     ]
    },
    {
     "name": "stdout",
     "output_type": "stream",
     "text": [
      "2.0 percent of segments have no speed\n",
      "0.0 percent of trips with zero seconds\n",
      "0.6 percent of trips with speeds > 80mph or < 3mph\n",
      "median: 13.36mph... mph floor mode: 16mph\n",
      "2023-04-10\n"
     ]
    },
    {
     "name": "stderr",
     "output_type": "stream",
     "text": [
      "/home/jovyan/data-analyses/rt_segment_speeds/segment_speed_utils/corridor_analysis.py:33: FutureWarning: The default value of numeric_only in DataFrameGroupBy.sum is deprecated. In a future version, numeric_only will default to False. Either specify numeric_only or select only columns which should be valid for the function.\n",
      "  group_cols + ['direction_id']).sum().groupby(\n"
     ]
    },
    {
     "name": "stdout",
     "output_type": "stream",
     "text": [
      "2.0 percent of segments have no speed\n",
      "0.0 percent of trips with zero seconds\n",
      "1.3 percent of trips with speeds > 80mph or < 3mph\n",
      "median: 13.34mph... mph floor mode: 16mph\n",
      "2023-04-11\n"
     ]
    },
    {
     "name": "stderr",
     "output_type": "stream",
     "text": [
      "/home/jovyan/data-analyses/rt_segment_speeds/segment_speed_utils/corridor_analysis.py:33: FutureWarning: The default value of numeric_only in DataFrameGroupBy.sum is deprecated. In a future version, numeric_only will default to False. Either specify numeric_only or select only columns which should be valid for the function.\n",
      "  group_cols + ['direction_id']).sum().groupby(\n"
     ]
    },
    {
     "name": "stdout",
     "output_type": "stream",
     "text": [
      "2.0 percent of segments have no speed\n",
      "0.0 percent of trips with zero seconds\n",
      "1.4 percent of trips with speeds > 80mph or < 3mph\n",
      "median: 13.0mph... mph floor mode: 16mph\n",
      "2023-04-12\n"
     ]
    },
    {
     "name": "stderr",
     "output_type": "stream",
     "text": [
      "/home/jovyan/data-analyses/rt_segment_speeds/segment_speed_utils/corridor_analysis.py:33: FutureWarning: The default value of numeric_only in DataFrameGroupBy.sum is deprecated. In a future version, numeric_only will default to False. Either specify numeric_only or select only columns which should be valid for the function.\n",
      "  group_cols + ['direction_id']).sum().groupby(\n"
     ]
    },
    {
     "name": "stdout",
     "output_type": "stream",
     "text": [
      "2.0 percent of segments have no speed\n",
      "0.0 percent of trips with zero seconds\n",
      "0.0 percent of trips with speeds > 80mph or < 3mph\n",
      "median: 12.71mph... mph floor mode: 16mph\n",
      "2023-04-13\n"
     ]
    },
    {
     "name": "stderr",
     "output_type": "stream",
     "text": [
      "/home/jovyan/data-analyses/rt_segment_speeds/segment_speed_utils/corridor_analysis.py:33: FutureWarning: The default value of numeric_only in DataFrameGroupBy.sum is deprecated. In a future version, numeric_only will default to False. Either specify numeric_only or select only columns which should be valid for the function.\n",
      "  group_cols + ['direction_id']).sum().groupby(\n"
     ]
    },
    {
     "name": "stdout",
     "output_type": "stream",
     "text": [
      "2.0 percent of segments have no speed\n",
      "0.0 percent of trips with zero seconds\n",
      "0.0 percent of trips with speeds > 80mph or < 3mph\n",
      "median: 13.47mph... mph floor mode: 16mph\n",
      "2023-04-14\n"
     ]
    },
    {
     "name": "stderr",
     "output_type": "stream",
     "text": [
      "/home/jovyan/data-analyses/rt_segment_speeds/segment_speed_utils/corridor_analysis.py:33: FutureWarning: The default value of numeric_only in DataFrameGroupBy.sum is deprecated. In a future version, numeric_only will default to False. Either specify numeric_only or select only columns which should be valid for the function.\n",
      "  group_cols + ['direction_id']).sum().groupby(\n"
     ]
    },
    {
     "name": "stdout",
     "output_type": "stream",
     "text": [
      "2.0 percent of segments have no speed\n",
      "0.0 percent of trips with zero seconds\n",
      "0.0 percent of trips with speeds > 80mph or < 3mph\n",
      "median: 12.78mph... mph floor mode: 16mph\n",
      "2023-04-15\n"
     ]
    },
    {
     "name": "stderr",
     "output_type": "stream",
     "text": [
      "/home/jovyan/data-analyses/rt_segment_speeds/segment_speed_utils/corridor_analysis.py:33: FutureWarning: The default value of numeric_only in DataFrameGroupBy.sum is deprecated. In a future version, numeric_only will default to False. Either specify numeric_only or select only columns which should be valid for the function.\n",
      "  group_cols + ['direction_id']).sum().groupby(\n"
     ]
    },
    {
     "name": "stdout",
     "output_type": "stream",
     "text": [
      "1.8 percent of segments have no speed\n",
      "0.0 percent of trips with zero seconds\n",
      "0.0 percent of trips with speeds > 80mph or < 3mph\n",
      "median: 12.74mph... mph floor mode: 16mph\n",
      "2023-04-16\n"
     ]
    },
    {
     "name": "stderr",
     "output_type": "stream",
     "text": [
      "/home/jovyan/data-analyses/rt_segment_speeds/segment_speed_utils/corridor_analysis.py:33: FutureWarning: The default value of numeric_only in DataFrameGroupBy.sum is deprecated. In a future version, numeric_only will default to False. Either specify numeric_only or select only columns which should be valid for the function.\n",
      "  group_cols + ['direction_id']).sum().groupby(\n"
     ]
    },
    {
     "name": "stdout",
     "output_type": "stream",
     "text": [
      "1.9 percent of segments have no speed\n",
      "0.0 percent of trips with zero seconds\n",
      "0.0 percent of trips with speeds > 80mph or < 3mph\n",
      "median: 13.54mph... mph floor mode: 16mph\n",
      "2023-05-17\n"
     ]
    },
    {
     "name": "stderr",
     "output_type": "stream",
     "text": [
      "/home/jovyan/data-analyses/rt_segment_speeds/segment_speed_utils/corridor_analysis.py:33: FutureWarning: The default value of numeric_only in DataFrameGroupBy.sum is deprecated. In a future version, numeric_only will default to False. Either specify numeric_only or select only columns which should be valid for the function.\n",
      "  group_cols + ['direction_id']).sum().groupby(\n"
     ]
    },
    {
     "name": "stdout",
     "output_type": "stream",
     "text": [
      "2.0 percent of segments have no speed\n",
      "0.7 percent of trips with zero seconds\n",
      "0.0 percent of trips with speeds > 80mph or < 3mph\n",
      "median: 13.05mph... mph floor mode: 16mph\n",
      "2023-06-14\n"
     ]
    },
    {
     "name": "stderr",
     "output_type": "stream",
     "text": [
      "/home/jovyan/data-analyses/rt_segment_speeds/segment_speed_utils/corridor_analysis.py:33: FutureWarning: The default value of numeric_only in DataFrameGroupBy.sum is deprecated. In a future version, numeric_only will default to False. Either specify numeric_only or select only columns which should be valid for the function.\n",
      "  group_cols + ['direction_id']).sum().groupby(\n"
     ]
    },
    {
     "name": "stdout",
     "output_type": "stream",
     "text": [
      "2.0 percent of segments have no speed\n",
      "0.0 percent of trips with zero seconds\n",
      "0.7 percent of trips with speeds > 80mph or < 3mph\n",
      "median: 12.75mph... mph floor mode: 16mph\n",
      "2023-07-12\n"
     ]
    },
    {
     "name": "stderr",
     "output_type": "stream",
     "text": [
      "/home/jovyan/data-analyses/rt_segment_speeds/segment_speed_utils/corridor_analysis.py:33: FutureWarning: The default value of numeric_only in DataFrameGroupBy.sum is deprecated. In a future version, numeric_only will default to False. Either specify numeric_only or select only columns which should be valid for the function.\n",
      "  group_cols + ['direction_id']).sum().groupby(\n"
     ]
    },
    {
     "name": "stdout",
     "output_type": "stream",
     "text": [
      "2.0 percent of segments have no speed\n",
      "0.0 percent of trips with zero seconds\n",
      "0.0 percent of trips with speeds > 80mph or < 3mph\n",
      "median: 12.62mph... mph floor mode: 16mph\n",
      "2023-08-15\n"
     ]
    },
    {
     "name": "stderr",
     "output_type": "stream",
     "text": [
      "/home/jovyan/data-analyses/rt_segment_speeds/segment_speed_utils/corridor_analysis.py:33: FutureWarning: The default value of numeric_only in DataFrameGroupBy.sum is deprecated. In a future version, numeric_only will default to False. Either specify numeric_only or select only columns which should be valid for the function.\n",
      "  group_cols + ['direction_id']).sum().groupby(\n"
     ]
    },
    {
     "name": "stdout",
     "output_type": "stream",
     "text": [
      "1.9 percent of segments have no speed\n",
      "0.0 percent of trips with zero seconds\n",
      "0.6 percent of trips with speeds > 80mph or < 3mph\n",
      "median: 11.72mph... mph floor mode: 16mph\n",
      "2023-08-23\n",
      "2023-08-23 failed\n",
      "calitp-analytics-data/data-analyses/rt_segment_speeds/rollup_singleday/speeds_shape_timeofday_speedmap_segments_2023-08-23.parquet\n",
      "2023-09-13\n"
     ]
    },
    {
     "name": "stderr",
     "output_type": "stream",
     "text": [
      "/home/jovyan/data-analyses/rt_segment_speeds/segment_speed_utils/corridor_analysis.py:33: FutureWarning: The default value of numeric_only in DataFrameGroupBy.sum is deprecated. In a future version, numeric_only will default to False. Either specify numeric_only or select only columns which should be valid for the function.\n",
      "  group_cols + ['direction_id']).sum().groupby(\n"
     ]
    },
    {
     "name": "stdout",
     "output_type": "stream",
     "text": [
      "1.9 percent of segments have no speed\n",
      "0.7 percent of trips with zero seconds\n",
      "0.0 percent of trips with speeds > 80mph or < 3mph\n",
      "median: 12.33mph... mph floor mode: 16mph\n",
      "2023-10-09\n"
     ]
    },
    {
     "name": "stderr",
     "output_type": "stream",
     "text": [
      "/home/jovyan/data-analyses/rt_segment_speeds/segment_speed_utils/corridor_analysis.py:33: FutureWarning: The default value of numeric_only in DataFrameGroupBy.sum is deprecated. In a future version, numeric_only will default to False. Either specify numeric_only or select only columns which should be valid for the function.\n",
      "  group_cols + ['direction_id']).sum().groupby(\n"
     ]
    },
    {
     "name": "stdout",
     "output_type": "stream",
     "text": [
      "1.9 percent of segments have no speed\n",
      "0.0 percent of trips with zero seconds\n",
      "0.0 percent of trips with speeds > 80mph or < 3mph\n",
      "median: 12.18mph... mph floor mode: 16mph\n",
      "2023-10-10\n"
     ]
    },
    {
     "name": "stderr",
     "output_type": "stream",
     "text": [
      "/home/jovyan/data-analyses/rt_segment_speeds/segment_speed_utils/corridor_analysis.py:33: FutureWarning: The default value of numeric_only in DataFrameGroupBy.sum is deprecated. In a future version, numeric_only will default to False. Either specify numeric_only or select only columns which should be valid for the function.\n",
      "  group_cols + ['direction_id']).sum().groupby(\n"
     ]
    },
    {
     "name": "stdout",
     "output_type": "stream",
     "text": [
      "2.0 percent of segments have no speed\n",
      "0.0 percent of trips with zero seconds\n",
      "0.0 percent of trips with speeds > 80mph or < 3mph\n",
      "median: 12.13mph... mph floor mode: 16mph\n",
      "2023-10-11\n"
     ]
    },
    {
     "name": "stderr",
     "output_type": "stream",
     "text": [
      "/home/jovyan/data-analyses/rt_segment_speeds/segment_speed_utils/corridor_analysis.py:33: FutureWarning: The default value of numeric_only in DataFrameGroupBy.sum is deprecated. In a future version, numeric_only will default to False. Either specify numeric_only or select only columns which should be valid for the function.\n",
      "  group_cols + ['direction_id']).sum().groupby(\n"
     ]
    },
    {
     "name": "stdout",
     "output_type": "stream",
     "text": [
      "1.9 percent of segments have no speed\n",
      "0.0 percent of trips with zero seconds\n",
      "0.0 percent of trips with speeds > 80mph or < 3mph\n",
      "median: 12.23mph... mph floor mode: 16mph\n",
      "2023-10-12\n"
     ]
    },
    {
     "name": "stderr",
     "output_type": "stream",
     "text": [
      "/home/jovyan/data-analyses/rt_segment_speeds/segment_speed_utils/corridor_analysis.py:33: FutureWarning: The default value of numeric_only in DataFrameGroupBy.sum is deprecated. In a future version, numeric_only will default to False. Either specify numeric_only or select only columns which should be valid for the function.\n",
      "  group_cols + ['direction_id']).sum().groupby(\n"
     ]
    },
    {
     "name": "stdout",
     "output_type": "stream",
     "text": [
      "1.9 percent of segments have no speed\n",
      "0.0 percent of trips with zero seconds\n",
      "0.0 percent of trips with speeds > 80mph or < 3mph\n",
      "median: 11.82mph... mph floor mode: 16mph\n",
      "2023-10-13\n"
     ]
    },
    {
     "name": "stderr",
     "output_type": "stream",
     "text": [
      "/home/jovyan/data-analyses/rt_segment_speeds/segment_speed_utils/corridor_analysis.py:33: FutureWarning: The default value of numeric_only in DataFrameGroupBy.sum is deprecated. In a future version, numeric_only will default to False. Either specify numeric_only or select only columns which should be valid for the function.\n",
      "  group_cols + ['direction_id']).sum().groupby(\n"
     ]
    },
    {
     "name": "stdout",
     "output_type": "stream",
     "text": [
      "1.9 percent of segments have no speed\n",
      "0.0 percent of trips with zero seconds\n",
      "0.0 percent of trips with speeds > 80mph or < 3mph\n",
      "median: 11.94mph... mph floor mode: 16mph\n",
      "2023-10-14\n"
     ]
    },
    {
     "name": "stderr",
     "output_type": "stream",
     "text": [
      "/home/jovyan/data-analyses/rt_segment_speeds/segment_speed_utils/corridor_analysis.py:33: FutureWarning: The default value of numeric_only in DataFrameGroupBy.sum is deprecated. In a future version, numeric_only will default to False. Either specify numeric_only or select only columns which should be valid for the function.\n",
      "  group_cols + ['direction_id']).sum().groupby(\n"
     ]
    },
    {
     "name": "stdout",
     "output_type": "stream",
     "text": [
      "1.9 percent of segments have no speed\n",
      "0.0 percent of trips with zero seconds\n",
      "0.0 percent of trips with speeds > 80mph or < 3mph\n",
      "median: 12.97mph... mph floor mode: 16mph\n",
      "2023-10-15\n"
     ]
    },
    {
     "name": "stderr",
     "output_type": "stream",
     "text": [
      "/home/jovyan/data-analyses/rt_segment_speeds/segment_speed_utils/corridor_analysis.py:33: FutureWarning: The default value of numeric_only in DataFrameGroupBy.sum is deprecated. In a future version, numeric_only will default to False. Either specify numeric_only or select only columns which should be valid for the function.\n",
      "  group_cols + ['direction_id']).sum().groupby(\n"
     ]
    },
    {
     "name": "stdout",
     "output_type": "stream",
     "text": [
      "1.8 percent of segments have no speed\n",
      "0.0 percent of trips with zero seconds\n",
      "0.0 percent of trips with speeds > 80mph or < 3mph\n",
      "median: 13.67mph... percent mode: 0.15\n",
      "2023-11-15\n"
     ]
    },
    {
     "name": "stderr",
     "output_type": "stream",
     "text": [
      "/home/jovyan/data-analyses/rt_segment_speeds/segment_speed_utils/corridor_analysis.py:33: FutureWarning: The default value of numeric_only in DataFrameGroupBy.sum is deprecated. In a future version, numeric_only will default to False. Either specify numeric_only or select only columns which should be valid for the function.\n",
      "  group_cols + ['direction_id']).sum().groupby(\n"
     ]
    },
    {
     "name": "stdout",
     "output_type": "stream",
     "text": [
      "1.9 percent of segments have no speed\n",
      "0.0 percent of trips with zero seconds\n",
      "0.0 percent of trips with speeds > 80mph or < 3mph\n",
      "median: 12.33mph... mph floor mode: 16mph\n",
      "2023-12-13\n"
     ]
    },
    {
     "name": "stderr",
     "output_type": "stream",
     "text": [
      "/home/jovyan/data-analyses/rt_segment_speeds/segment_speed_utils/corridor_analysis.py:33: FutureWarning: The default value of numeric_only in DataFrameGroupBy.sum is deprecated. In a future version, numeric_only will default to False. Either specify numeric_only or select only columns which should be valid for the function.\n",
      "  group_cols + ['direction_id']).sum().groupby(\n"
     ]
    },
    {
     "name": "stdout",
     "output_type": "stream",
     "text": [
      "1.9 percent of segments have no speed\n",
      "0.0 percent of trips with zero seconds\n",
      "0.0 percent of trips with speeds > 80mph or < 3mph\n",
      "median: 12.54mph... mph floor mode: 16mph\n",
      "2024-01-17\n"
     ]
    },
    {
     "name": "stderr",
     "output_type": "stream",
     "text": [
      "/home/jovyan/data-analyses/rt_segment_speeds/segment_speed_utils/corridor_analysis.py:33: FutureWarning: The default value of numeric_only in DataFrameGroupBy.sum is deprecated. In a future version, numeric_only will default to False. Either specify numeric_only or select only columns which should be valid for the function.\n",
      "  group_cols + ['direction_id']).sum().groupby(\n"
     ]
    },
    {
     "name": "stdout",
     "output_type": "stream",
     "text": [
      "1.9 percent of segments have no speed\n",
      "0.0 percent of trips with zero seconds\n",
      "0.0 percent of trips with speeds > 80mph or < 3mph\n",
      "median: 12.7mph... mph floor mode: 16mph\n",
      "2024-02-14\n"
     ]
    },
    {
     "name": "stderr",
     "output_type": "stream",
     "text": [
      "/home/jovyan/data-analyses/rt_segment_speeds/segment_speed_utils/corridor_analysis.py:33: FutureWarning: The default value of numeric_only in DataFrameGroupBy.sum is deprecated. In a future version, numeric_only will default to False. Either specify numeric_only or select only columns which should be valid for the function.\n",
      "  group_cols + ['direction_id']).sum().groupby(\n"
     ]
    },
    {
     "name": "stdout",
     "output_type": "stream",
     "text": [
      "2.0 percent of segments have no speed\n",
      "0.0 percent of trips with zero seconds\n",
      "0.7 percent of trips with speeds > 80mph or < 3mph\n",
      "median: 11.55mph... mph floor mode: 16mph\n",
      "2024-03-13\n"
     ]
    },
    {
     "name": "stderr",
     "output_type": "stream",
     "text": [
      "/home/jovyan/data-analyses/rt_segment_speeds/segment_speed_utils/corridor_analysis.py:33: FutureWarning: The default value of numeric_only in DataFrameGroupBy.sum is deprecated. In a future version, numeric_only will default to False. Either specify numeric_only or select only columns which should be valid for the function.\n",
      "  group_cols + ['direction_id']).sum().groupby(\n"
     ]
    },
    {
     "name": "stdout",
     "output_type": "stream",
     "text": [
      "2.0 percent of segments have no speed\n",
      "0.0 percent of trips with zero seconds\n",
      "0.0 percent of trips with speeds > 80mph or < 3mph\n",
      "median: 11.25mph... mph floor mode: 16mph\n",
      "2024-04-15\n"
     ]
    },
    {
     "name": "stderr",
     "output_type": "stream",
     "text": [
      "/home/jovyan/data-analyses/rt_segment_speeds/segment_speed_utils/corridor_analysis.py:33: FutureWarning: The default value of numeric_only in DataFrameGroupBy.sum is deprecated. In a future version, numeric_only will default to False. Either specify numeric_only or select only columns which should be valid for the function.\n",
      "  group_cols + ['direction_id']).sum().groupby(\n"
     ]
    },
    {
     "name": "stdout",
     "output_type": "stream",
     "text": [
      "1.9 percent of segments have no speed\n",
      "0.0 percent of trips with zero seconds\n",
      "0.6 percent of trips with speeds > 80mph or < 3mph\n",
      "median: 12.38mph... mph floor mode: 16mph\n",
      "2024-04-16\n"
     ]
    },
    {
     "name": "stderr",
     "output_type": "stream",
     "text": [
      "/home/jovyan/data-analyses/rt_segment_speeds/segment_speed_utils/corridor_analysis.py:33: FutureWarning: The default value of numeric_only in DataFrameGroupBy.sum is deprecated. In a future version, numeric_only will default to False. Either specify numeric_only or select only columns which should be valid for the function.\n",
      "  group_cols + ['direction_id']).sum().groupby(\n"
     ]
    },
    {
     "name": "stdout",
     "output_type": "stream",
     "text": [
      "1.9 percent of segments have no speed\n",
      "0.0 percent of trips with zero seconds\n",
      "0.0 percent of trips with speeds > 80mph or < 3mph\n",
      "median: 11.95mph... mph floor mode: 16mph\n",
      "2024-04-17\n"
     ]
    },
    {
     "name": "stderr",
     "output_type": "stream",
     "text": [
      "/home/jovyan/data-analyses/rt_segment_speeds/segment_speed_utils/corridor_analysis.py:33: FutureWarning: The default value of numeric_only in DataFrameGroupBy.sum is deprecated. In a future version, numeric_only will default to False. Either specify numeric_only or select only columns which should be valid for the function.\n",
      "  group_cols + ['direction_id']).sum().groupby(\n"
     ]
    },
    {
     "name": "stdout",
     "output_type": "stream",
     "text": [
      "2.0 percent of segments have no speed\n",
      "0.0 percent of trips with zero seconds\n",
      "0.0 percent of trips with speeds > 80mph or < 3mph\n",
      "median: 12.37mph... mph floor mode: 16mph\n",
      "2024-04-18\n"
     ]
    },
    {
     "name": "stderr",
     "output_type": "stream",
     "text": [
      "/home/jovyan/data-analyses/rt_segment_speeds/segment_speed_utils/corridor_analysis.py:33: FutureWarning: The default value of numeric_only in DataFrameGroupBy.sum is deprecated. In a future version, numeric_only will default to False. Either specify numeric_only or select only columns which should be valid for the function.\n",
      "  group_cols + ['direction_id']).sum().groupby(\n"
     ]
    },
    {
     "name": "stdout",
     "output_type": "stream",
     "text": [
      "2.0 percent of segments have no speed\n",
      "0.0 percent of trips with zero seconds\n",
      "0.0 percent of trips with speeds > 80mph or < 3mph\n",
      "median: 11.94mph... mph floor mode: 16mph\n",
      "2024-04-19\n"
     ]
    },
    {
     "name": "stderr",
     "output_type": "stream",
     "text": [
      "/home/jovyan/data-analyses/rt_segment_speeds/segment_speed_utils/corridor_analysis.py:33: FutureWarning: The default value of numeric_only in DataFrameGroupBy.sum is deprecated. In a future version, numeric_only will default to False. Either specify numeric_only or select only columns which should be valid for the function.\n",
      "  group_cols + ['direction_id']).sum().groupby(\n"
     ]
    },
    {
     "name": "stdout",
     "output_type": "stream",
     "text": [
      "2.0 percent of segments have no speed\n",
      "0.0 percent of trips with zero seconds\n",
      "0.0 percent of trips with speeds > 80mph or < 3mph\n",
      "median: 11.7mph... mph floor mode: 16mph\n",
      "2024-04-20\n"
     ]
    },
    {
     "name": "stderr",
     "output_type": "stream",
     "text": [
      "/home/jovyan/data-analyses/rt_segment_speeds/segment_speed_utils/corridor_analysis.py:33: FutureWarning: The default value of numeric_only in DataFrameGroupBy.sum is deprecated. In a future version, numeric_only will default to False. Either specify numeric_only or select only columns which should be valid for the function.\n",
      "  group_cols + ['direction_id']).sum().groupby(\n"
     ]
    },
    {
     "name": "stdout",
     "output_type": "stream",
     "text": [
      "1.9 percent of segments have no speed\n",
      "0.8 percent of trips with zero seconds\n",
      "0.8 percent of trips with speeds > 80mph or < 3mph\n",
      "median: 12.77mph... mph floor mode: 16mph\n",
      "2024-04-21\n"
     ]
    },
    {
     "name": "stderr",
     "output_type": "stream",
     "text": [
      "/home/jovyan/data-analyses/rt_segment_speeds/segment_speed_utils/corridor_analysis.py:33: FutureWarning: The default value of numeric_only in DataFrameGroupBy.sum is deprecated. In a future version, numeric_only will default to False. Either specify numeric_only or select only columns which should be valid for the function.\n",
      "  group_cols + ['direction_id']).sum().groupby(\n"
     ]
    },
    {
     "name": "stdout",
     "output_type": "stream",
     "text": [
      "1.9 percent of segments have no speed\n",
      "0.9 percent of trips with zero seconds\n",
      "0.0 percent of trips with speeds > 80mph or < 3mph\n",
      "median: 12.71mph... mph floor mode: 16mph\n",
      "2024-05-22\n"
     ]
    },
    {
     "name": "stderr",
     "output_type": "stream",
     "text": [
      "/home/jovyan/data-analyses/rt_segment_speeds/segment_speed_utils/corridor_analysis.py:33: FutureWarning: The default value of numeric_only in DataFrameGroupBy.sum is deprecated. In a future version, numeric_only will default to False. Either specify numeric_only or select only columns which should be valid for the function.\n",
      "  group_cols + ['direction_id']).sum().groupby(\n"
     ]
    },
    {
     "name": "stdout",
     "output_type": "stream",
     "text": [
      "2.0 percent of segments have no speed\n",
      "0.0 percent of trips with zero seconds\n",
      "0.0 percent of trips with speeds > 80mph or < 3mph\n",
      "median: 11.81mph... mph floor mode: 16mph\n",
      "2024-06-12\n"
     ]
    },
    {
     "name": "stderr",
     "output_type": "stream",
     "text": [
      "/home/jovyan/data-analyses/rt_segment_speeds/segment_speed_utils/corridor_analysis.py:33: FutureWarning: The default value of numeric_only in DataFrameGroupBy.sum is deprecated. In a future version, numeric_only will default to False. Either specify numeric_only or select only columns which should be valid for the function.\n",
      "  group_cols + ['direction_id']).sum().groupby(\n"
     ]
    },
    {
     "name": "stdout",
     "output_type": "stream",
     "text": [
      "1.8 percent of segments have no speed\n",
      "2024-06-12 failed\n",
      "division by zero\n",
      "2024-07-17\n"
     ]
    }
   ],
   "source": [
    "for key in rt_dates.DATES.keys():\n",
    "    date = rt_dates.DATES[key]\n",
    "    print(date)\n",
    "    all_summaries += [new_lincoln(date)]"
   ]
  },
  {
   "cell_type": "code",
   "execution_count": 25,
   "id": "b9873e0e-2694-4510-801a-80e011675c40",
   "metadata": {
    "tags": []
   },
   "outputs": [],
   "source": [
    "all_df = pd.concat(all_summaries)"
   ]
  },
  {
   "cell_type": "code",
   "execution_count": 26,
   "id": "c111aaae-3c2a-4c8f-8e13-5253093262ed",
   "metadata": {
    "tags": []
   },
   "outputs": [],
   "source": [
    "import altair as alt"
   ]
  },
  {
   "cell_type": "code",
   "execution_count": 27,
   "id": "c4e22d5d-f31c-450b-ab4f-a1c1cc69be2a",
   "metadata": {
    "tags": []
   },
   "outputs": [],
   "source": [
    "all_df.analysis_date = all_df.analysis_date.apply(lambda x: pd.Timestamp(x))"
   ]
  },
  {
   "cell_type": "code",
   "execution_count": 28,
   "id": "5080456f-186c-485c-8560-37cb37d26ac6",
   "metadata": {
    "tags": []
   },
   "outputs": [
    {
     "data": {
      "text/html": [
       "\n",
       "<style>\n",
       "  #altair-viz-f5c5392c8e2943ab9aeeff8c9d28f24e.vega-embed {\n",
       "    width: 100%;\n",
       "    display: flex;\n",
       "  }\n",
       "\n",
       "  #altair-viz-f5c5392c8e2943ab9aeeff8c9d28f24e.vega-embed details,\n",
       "  #altair-viz-f5c5392c8e2943ab9aeeff8c9d28f24e.vega-embed details summary {\n",
       "    position: relative;\n",
       "  }\n",
       "</style>\n",
       "<div id=\"altair-viz-f5c5392c8e2943ab9aeeff8c9d28f24e\"></div>\n",
       "<script type=\"text/javascript\">\n",
       "  var VEGA_DEBUG = (typeof VEGA_DEBUG == \"undefined\") ? {} : VEGA_DEBUG;\n",
       "  (function(spec, embedOpt){\n",
       "    let outputDiv = document.currentScript.previousElementSibling;\n",
       "    if (outputDiv.id !== \"altair-viz-f5c5392c8e2943ab9aeeff8c9d28f24e\") {\n",
       "      outputDiv = document.getElementById(\"altair-viz-f5c5392c8e2943ab9aeeff8c9d28f24e\");\n",
       "    }\n",
       "\n",
       "    const paths = {\n",
       "      \"vega\": \"https://cdn.jsdelivr.net/npm/vega@5?noext\",\n",
       "      \"vega-lib\": \"https://cdn.jsdelivr.net/npm/vega-lib?noext\",\n",
       "      \"vega-lite\": \"https://cdn.jsdelivr.net/npm/vega-lite@5.20.1?noext\",\n",
       "      \"vega-embed\": \"https://cdn.jsdelivr.net/npm/vega-embed@6?noext\",\n",
       "    };\n",
       "\n",
       "    function maybeLoadScript(lib, version) {\n",
       "      var key = `${lib.replace(\"-\", \"\")}_version`;\n",
       "      return (VEGA_DEBUG[key] == version) ?\n",
       "        Promise.resolve(paths[lib]) :\n",
       "        new Promise(function(resolve, reject) {\n",
       "          var s = document.createElement('script');\n",
       "          document.getElementsByTagName(\"head\")[0].appendChild(s);\n",
       "          s.async = true;\n",
       "          s.onload = () => {\n",
       "            VEGA_DEBUG[key] = version;\n",
       "            return resolve(paths[lib]);\n",
       "          };\n",
       "          s.onerror = () => reject(`Error loading script: ${paths[lib]}`);\n",
       "          s.src = paths[lib];\n",
       "        });\n",
       "    }\n",
       "\n",
       "    function showError(err) {\n",
       "      outputDiv.innerHTML = `<div class=\"error\" style=\"color:red;\">${err}</div>`;\n",
       "      throw err;\n",
       "    }\n",
       "\n",
       "    function displayChart(vegaEmbed) {\n",
       "      vegaEmbed(outputDiv, spec, embedOpt)\n",
       "        .catch(err => showError(`Javascript Error: ${err.message}<br>This usually means there's a typo in your chart specification. See the javascript console for the full traceback.`));\n",
       "    }\n",
       "\n",
       "    if(typeof define === \"function\" && define.amd) {\n",
       "      requirejs.config({paths});\n",
       "      let deps = [\"vega-embed\"];\n",
       "      require(deps, displayChart, err => showError(`Error loading script: ${err.message}`));\n",
       "    } else {\n",
       "      maybeLoadScript(\"vega\", \"5\")\n",
       "        .then(() => maybeLoadScript(\"vega-lite\", \"5.20.1\"))\n",
       "        .then(() => maybeLoadScript(\"vega-embed\", \"6\"))\n",
       "        .catch(showError)\n",
       "        .then(() => displayChart(vegaEmbed));\n",
       "    }\n",
       "  })({\"config\": {\"view\": {\"continuousWidth\": 300, \"continuousHeight\": 300}}, \"layer\": [{\"mark\": {\"type\": \"point\"}, \"encoding\": {\"x\": {\"axis\": {\"format\": \"%b %Y\", \"title\": \"DATE\"}, \"field\": \"analysis_date\", \"type\": \"temporal\"}, \"y\": {\"field\": \"delay_per_trip\", \"type\": \"quantitative\"}}}, {\"mark\": {\"type\": \"line\"}, \"encoding\": {\"x\": {\"axis\": {\"format\": \"%b %Y\", \"title\": \"DATE\"}, \"field\": \"analysis_date\", \"type\": \"temporal\"}, \"y\": {\"field\": \"delay_per_trip\", \"type\": \"quantitative\"}}, \"transform\": [{\"on\": \"analysis_date\", \"regression\": \"delay_per_trip\"}]}], \"data\": {\"name\": \"data-85d4ca35aeb1fa24da2358e14abe4c03\"}, \"height\": 400, \"width\": 600, \"$schema\": \"https://vega.github.io/schema/vega-lite/v5.20.1.json\", \"datasets\": {\"data-85d4ca35aeb1fa24da2358e14abe4c03\": [{\"corridor_id\": 584447099936112567, \"schedule_gtfs_dataset_key\": \"dbbe8ee4864a2715a40749605395d584\", \"intervention_assumption\": \"trips achieve 16mph or existing spd if higher\", \"corridor_miles\": 4.5, \"corridor_seconds\": 206462.0, \"improved_corridor_seconds\": 163322.1, \"delay_seconds\": 43139.9, \"delay_minutes\": 719.0, \"minutes_per_mile\": 160.3, \"route_short_name\": [\"3\", \"R3\"], \"route_id\": [\"3556\", \"3570\"], \"median_corridor_mph\": 13.4, \"n_trips_daily\": 155, \"trips_hr_sch\": [4.7, 1.7], \"trips_per_hr_peak_directional\": 6.4, \"delay_per_trip\": 4.638709677419355, \"analysis_date\": \"2023-03-15T00:00:00\"}, {\"corridor_id\": 584447099936112567, \"schedule_gtfs_dataset_key\": \"dbbe8ee4864a2715a40749605395d584\", \"intervention_assumption\": \"trips achieve 16mph or existing spd if higher\", \"corridor_miles\": 4.5, \"corridor_seconds\": 206135.0, \"improved_corridor_seconds\": 159400.3, \"delay_seconds\": 46734.7, \"delay_minutes\": 778.9, \"minutes_per_mile\": 173.6, \"route_short_name\": [\"3\", \"R3\"], \"route_id\": [\"3556\", \"3570\"], \"median_corridor_mph\": 13.3, \"n_trips_daily\": 151, \"trips_hr_sch\": [4.7, 1.7], \"trips_per_hr_peak_directional\": 6.4, \"delay_per_trip\": 5.158278145695364, \"analysis_date\": \"2023-04-10T00:00:00\"}, {\"corridor_id\": 584447099936112567, \"schedule_gtfs_dataset_key\": \"dbbe8ee4864a2715a40749605395d584\", \"intervention_assumption\": \"trips achieve 16mph or existing spd if higher\", \"corridor_miles\": 4.5, \"corridor_seconds\": 197703.0, \"improved_corridor_seconds\": 149056.6, \"delay_seconds\": 48646.4, \"delay_minutes\": 810.8, \"minutes_per_mile\": 180.7, \"route_short_name\": [\"3\", \"R3\"], \"route_id\": [\"3556\", \"3570\"], \"median_corridor_mph\": 13.0, \"n_trips_daily\": 141, \"trips_hr_sch\": [4.7, 1.7], \"trips_per_hr_peak_directional\": 6.4, \"delay_per_trip\": 5.750354609929078, \"analysis_date\": \"2023-04-11T00:00:00\"}, {\"corridor_id\": 584447099936112567, \"schedule_gtfs_dataset_key\": \"dbbe8ee4864a2715a40749605395d584\", \"intervention_assumption\": \"trips achieve 16mph or existing spd if higher\", \"corridor_miles\": 4.5, \"corridor_seconds\": 228437.0, \"improved_corridor_seconds\": 170080.4, \"delay_seconds\": 58356.6, \"delay_minutes\": 972.6, \"minutes_per_mile\": 216.8, \"route_short_name\": [\"3\", \"R3\"], \"route_id\": [\"3556\", \"3570\"], \"median_corridor_mph\": 12.7, \"n_trips_daily\": 159, \"trips_hr_sch\": [4.7, 1.7], \"trips_per_hr_peak_directional\": 6.4, \"delay_per_trip\": 6.1169811320754715, \"analysis_date\": \"2023-04-12T00:00:00\"}, {\"corridor_id\": 584447099936112567, \"schedule_gtfs_dataset_key\": \"dbbe8ee4864a2715a40749605395d584\", \"intervention_assumption\": \"trips achieve 16mph or existing spd if higher\", \"corridor_miles\": 4.5, \"corridor_seconds\": 203372.0, \"improved_corridor_seconds\": 154178.3, \"delay_seconds\": 49193.7, \"delay_minutes\": 819.9, \"minutes_per_mile\": 182.7, \"route_short_name\": [\"3\", \"R3\"], \"route_id\": [\"3556\", \"3570\"], \"median_corridor_mph\": 13.5, \"n_trips_daily\": 146, \"trips_hr_sch\": [4.7, 1.7], \"trips_per_hr_peak_directional\": 6.4, \"delay_per_trip\": 5.615753424657534, \"analysis_date\": \"2023-04-13T00:00:00\"}, {\"corridor_id\": 584447099936112567, \"schedule_gtfs_dataset_key\": \"dbbe8ee4864a2715a40749605395d584\", \"intervention_assumption\": \"trips achieve 16mph or existing spd if higher\", \"corridor_miles\": 4.5, \"corridor_seconds\": 218059.0, \"improved_corridor_seconds\": 162277.7, \"delay_seconds\": 55781.3, \"delay_minutes\": 929.7, \"minutes_per_mile\": 207.2, \"route_short_name\": [\"3\", \"R3\"], \"route_id\": [\"3556\", \"3570\"], \"median_corridor_mph\": 12.8, \"n_trips_daily\": 152, \"trips_hr_sch\": [4.7, 1.7], \"trips_per_hr_peak_directional\": 6.4, \"delay_per_trip\": 6.116447368421053, \"analysis_date\": \"2023-04-14T00:00:00\"}, {\"corridor_id\": 584447099936112567, \"schedule_gtfs_dataset_key\": \"dbbe8ee4864a2715a40749605395d584\", \"intervention_assumption\": \"trips achieve 16mph or existing spd if higher\", \"corridor_miles\": 4.5, \"corridor_seconds\": 167926.0, \"improved_corridor_seconds\": 129557.1, \"delay_seconds\": 38368.9, \"delay_minutes\": 639.5, \"minutes_per_mile\": 142.5, \"route_short_name\": [\"3\"], \"route_id\": [\"3556\"], \"median_corridor_mph\": 12.7, \"n_trips_daily\": 122, \"trips_hr_sch\": [4.3], \"trips_per_hr_peak_directional\": 4.3, \"delay_per_trip\": 5.241803278688525, \"analysis_date\": \"2023-04-15T00:00:00\"}, {\"corridor_id\": 584447099936112567, \"schedule_gtfs_dataset_key\": \"dbbe8ee4864a2715a40749605395d584\", \"intervention_assumption\": \"trips achieve 16mph or existing spd if higher\", \"corridor_miles\": 4.5, \"corridor_seconds\": 163829.0, \"improved_corridor_seconds\": 135006.0, \"delay_seconds\": 28823.0, \"delay_minutes\": 480.4, \"minutes_per_mile\": 107.1, \"route_short_name\": [\"3\"], \"route_id\": [\"3556\"], \"median_corridor_mph\": 13.5, \"n_trips_daily\": 128, \"trips_hr_sch\": [4.3], \"trips_per_hr_peak_directional\": 4.3, \"delay_per_trip\": 3.753125, \"analysis_date\": \"2023-04-16T00:00:00\"}, {\"corridor_id\": 584447099936112567, \"schedule_gtfs_dataset_key\": \"dbbe8ee4864a2715a40749605395d584\", \"intervention_assumption\": \"trips achieve 16mph or existing spd if higher\", \"corridor_miles\": 4.5, \"corridor_seconds\": 212184.0, \"improved_corridor_seconds\": 151217.9, \"delay_seconds\": 60966.1, \"delay_minutes\": 1016.1, \"minutes_per_mile\": 226.5, \"route_short_name\": [\"3\", \"R3\"], \"route_id\": [\"3606\", \"3620\"], \"median_corridor_mph\": 13.1, \"n_trips_daily\": 141, \"trips_hr_sch\": [4.7, 1.7], \"trips_per_hr_peak_directional\": 6.4, \"delay_per_trip\": 7.206382978723404, \"analysis_date\": \"2023-05-17T00:00:00\"}, {\"corridor_id\": 584447099936112567, \"schedule_gtfs_dataset_key\": \"dbbe8ee4864a2715a40749605395d584\", \"intervention_assumption\": \"trips achieve 16mph or existing spd if higher\", \"corridor_miles\": 4.5, \"corridor_seconds\": 206838.0, \"improved_corridor_seconds\": 149850.2, \"delay_seconds\": 56987.8, \"delay_minutes\": 949.8, \"minutes_per_mile\": 211.7, \"route_short_name\": [\"3\", \"R3\"], \"route_id\": [\"3606\", \"3620\"], \"median_corridor_mph\": 12.7, \"n_trips_daily\": 141, \"trips_hr_sch\": [4.7, 1.7], \"trips_per_hr_peak_directional\": 6.4, \"delay_per_trip\": 6.736170212765957, \"analysis_date\": \"2023-06-14T00:00:00\"}, {\"corridor_id\": 584447099936112567, \"schedule_gtfs_dataset_key\": \"dbbe8ee4864a2715a40749605395d584\", \"intervention_assumption\": \"trips achieve 16mph or existing spd if higher\", \"corridor_miles\": 4.5, \"corridor_seconds\": 231473.0, \"improved_corridor_seconds\": 170069.4, \"delay_seconds\": 61403.6, \"delay_minutes\": 1023.4, \"minutes_per_mile\": 228.1, \"route_short_name\": [\"3\", \"R3\"], \"route_id\": [\"3606\", \"3620\"], \"median_corridor_mph\": 12.6, \"n_trips_daily\": 160, \"trips_hr_sch\": [4.7, 1.7], \"trips_per_hr_peak_directional\": 6.4, \"delay_per_trip\": 6.39625, \"analysis_date\": \"2023-07-12T00:00:00\"}, {\"corridor_id\": 584447099936112567, \"schedule_gtfs_dataset_key\": \"dbbe8ee4864a2715a40749605395d584\", \"intervention_assumption\": \"trips achieve 16mph or existing spd if higher\", \"corridor_miles\": 4.5, \"corridor_seconds\": 242475.0, \"improved_corridor_seconds\": 169432.1, \"delay_seconds\": 73042.9, \"delay_minutes\": 1217.4, \"minutes_per_mile\": 271.3, \"route_short_name\": [\"3\", \"R3\"], \"route_id\": [\"3631\", \"3645\"], \"median_corridor_mph\": 11.7, \"n_trips_daily\": 158, \"trips_hr_sch\": [4.7, 1.7], \"trips_per_hr_peak_directional\": 6.4, \"delay_per_trip\": 7.705063291139241, \"analysis_date\": \"2023-08-15T00:00:00\"}, {\"corridor_id\": 584447099936112567, \"schedule_gtfs_dataset_key\": \"efbbd5293be71f7a5de0cf82b59febe1\", \"intervention_assumption\": \"trips achieve 16mph or existing spd if higher\", \"corridor_miles\": 4.5, \"corridor_seconds\": 219061.0, \"improved_corridor_seconds\": 155552.5, \"delay_seconds\": 63508.5, \"delay_minutes\": 1058.5, \"minutes_per_mile\": 235.9, \"route_short_name\": [\"3\", \"R3\"], \"route_id\": [\"3631\", \"3645\"], \"median_corridor_mph\": 12.3, \"n_trips_daily\": 145, \"trips_hr_sch\": [4.7, 1.7], \"trips_per_hr_peak_directional\": 6.4, \"delay_per_trip\": 7.3, \"analysis_date\": \"2023-09-13T00:00:00\"}, {\"corridor_id\": 584447099936112567, \"schedule_gtfs_dataset_key\": \"efbbd5293be71f7a5de0cf82b59febe1\", \"intervention_assumption\": \"trips achieve 16mph or existing spd if higher\", \"corridor_miles\": 4.5, \"corridor_seconds\": 209439.0, \"improved_corridor_seconds\": 156913.1, \"delay_seconds\": 52525.9, \"delay_minutes\": 875.4, \"minutes_per_mile\": 195.1, \"route_short_name\": [\"3\", \"R3\"], \"route_id\": [\"3631\", \"3645\"], \"median_corridor_mph\": 12.2, \"n_trips_daily\": 147, \"trips_hr_sch\": [4.7, 1.7], \"trips_per_hr_peak_directional\": 6.4, \"delay_per_trip\": 5.955102040816326, \"analysis_date\": \"2023-10-09T00:00:00\"}, {\"corridor_id\": 584447099936112567, \"schedule_gtfs_dataset_key\": \"efbbd5293be71f7a5de0cf82b59febe1\", \"intervention_assumption\": \"trips achieve 16mph or existing spd if higher\", \"corridor_miles\": 4.5, \"corridor_seconds\": 231736.0, \"improved_corridor_seconds\": 164617.9, \"delay_seconds\": 67118.1, \"delay_minutes\": 1118.6, \"minutes_per_mile\": 249.3, \"route_short_name\": [\"3\", \"R3\"], \"route_id\": [\"3631\", \"3645\"], \"median_corridor_mph\": 12.1, \"n_trips_daily\": 153, \"trips_hr_sch\": [4.7, 1.7], \"trips_per_hr_peak_directional\": 6.4, \"delay_per_trip\": 7.311111111111111, \"analysis_date\": \"2023-10-10T00:00:00\"}, {\"corridor_id\": 584447099936112567, \"schedule_gtfs_dataset_key\": \"efbbd5293be71f7a5de0cf82b59febe1\", \"intervention_assumption\": \"trips achieve 16mph or existing spd if higher\", \"corridor_miles\": 4.5, \"corridor_seconds\": 240878.0, \"improved_corridor_seconds\": 166639.6, \"delay_seconds\": 74238.4, \"delay_minutes\": 1237.3, \"minutes_per_mile\": 275.8, \"route_short_name\": [\"3\", \"R3\"], \"route_id\": [\"3631\", \"3645\"], \"median_corridor_mph\": 12.2, \"n_trips_daily\": 157, \"trips_hr_sch\": [4.7, 1.7], \"trips_per_hr_peak_directional\": 6.4, \"delay_per_trip\": 7.880891719745223, \"analysis_date\": \"2023-10-11T00:00:00\"}, {\"corridor_id\": 584447099936112567, \"schedule_gtfs_dataset_key\": \"efbbd5293be71f7a5de0cf82b59febe1\", \"intervention_assumption\": \"trips achieve 16mph or existing spd if higher\", \"corridor_miles\": 4.5, \"corridor_seconds\": 242777.0, \"improved_corridor_seconds\": 161290.3, \"delay_seconds\": 81486.7, \"delay_minutes\": 1358.1, \"minutes_per_mile\": 302.7, \"route_short_name\": [\"3\", \"R3\"], \"route_id\": [\"3631\", \"3645\"], \"median_corridor_mph\": 11.8, \"n_trips_daily\": 150, \"trips_hr_sch\": [4.7, 1.7], \"trips_per_hr_peak_directional\": 6.4, \"delay_per_trip\": 9.054, \"analysis_date\": \"2023-10-12T00:00:00\"}, {\"corridor_id\": 584447099936112567, \"schedule_gtfs_dataset_key\": \"efbbd5293be71f7a5de0cf82b59febe1\", \"intervention_assumption\": \"trips achieve 16mph or existing spd if higher\", \"corridor_miles\": 4.5, \"corridor_seconds\": 226796.0, \"improved_corridor_seconds\": 160527.5, \"delay_seconds\": 66268.5, \"delay_minutes\": 1104.5, \"minutes_per_mile\": 246.2, \"route_short_name\": [\"3\", \"R3\"], \"route_id\": [\"3631\", \"3645\"], \"median_corridor_mph\": 11.9, \"n_trips_daily\": 150, \"trips_hr_sch\": [4.7, 1.7], \"trips_per_hr_peak_directional\": 6.4, \"delay_per_trip\": 7.363333333333333, \"analysis_date\": \"2023-10-13T00:00:00\"}, {\"corridor_id\": 584447099936112567, \"schedule_gtfs_dataset_key\": \"efbbd5293be71f7a5de0cf82b59febe1\", \"intervention_assumption\": \"trips achieve 16mph or existing spd if higher\", \"corridor_miles\": 4.5, \"corridor_seconds\": 180383.0, \"improved_corridor_seconds\": 137414.2, \"delay_seconds\": 42968.8, \"delay_minutes\": 716.1, \"minutes_per_mile\": 159.6, \"route_short_name\": [\"3\"], \"route_id\": [\"3631\"], \"median_corridor_mph\": 13.0, \"n_trips_daily\": 129, \"trips_hr_sch\": [4.3], \"trips_per_hr_peak_directional\": 4.3, \"delay_per_trip\": 5.551162790697674, \"analysis_date\": \"2023-10-14T00:00:00\"}, {\"corridor_id\": 584447099936112567, \"schedule_gtfs_dataset_key\": \"efbbd5293be71f7a5de0cf82b59febe1\", \"intervention_assumption\": \"15.0% trip speed increase\", \"corridor_miles\": 4.5, \"corridor_seconds\": 163616.0, \"improved_corridor_seconds\": 142274.8, \"delay_seconds\": 21341.2, \"delay_minutes\": 355.7, \"minutes_per_mile\": 79.3, \"route_short_name\": [\"3\"], \"route_id\": [\"3631\"], \"median_corridor_mph\": 13.7, \"n_trips_daily\": 129, \"trips_hr_sch\": [4.3], \"trips_per_hr_peak_directional\": 4.3, \"delay_per_trip\": 2.757364341085271, \"analysis_date\": \"2023-10-15T00:00:00\"}, {\"corridor_id\": 584447099936112567, \"schedule_gtfs_dataset_key\": \"efbbd5293be71f7a5de0cf82b59febe1\", \"intervention_assumption\": \"trips achieve 16mph or existing spd if higher\", \"corridor_miles\": 4.5, \"corridor_seconds\": 224542.0, \"improved_corridor_seconds\": 160747.5, \"delay_seconds\": 63794.5, \"delay_minutes\": 1063.2, \"minutes_per_mile\": 237.0, \"route_short_name\": [\"3\", \"R3\"], \"route_id\": [\"3631\", \"3645\"], \"median_corridor_mph\": 12.3, \"n_trips_daily\": 150, \"trips_hr_sch\": [4.7, 1.7], \"trips_per_hr_peak_directional\": 6.4, \"delay_per_trip\": 7.088, \"analysis_date\": \"2023-11-15T00:00:00\"}, {\"corridor_id\": 584447099936112567, \"schedule_gtfs_dataset_key\": \"efbbd5293be71f7a5de0cf82b59febe1\", \"intervention_assumption\": \"trips achieve 16mph or existing spd if higher\", \"corridor_miles\": 4.5, \"corridor_seconds\": 234849.0, \"improved_corridor_seconds\": 161411.3, \"delay_seconds\": 73437.7, \"delay_minutes\": 1224.0, \"minutes_per_mile\": 272.8, \"route_short_name\": [\"3\", \"R3\"], \"route_id\": [\"3631\", \"3645\"], \"median_corridor_mph\": 12.5, \"n_trips_daily\": 153, \"trips_hr_sch\": [4.7, 1.7], \"trips_per_hr_peak_directional\": 6.4, \"delay_per_trip\": 8.0, \"analysis_date\": \"2023-12-13T00:00:00\"}, {\"corridor_id\": 584447099936112567, \"schedule_gtfs_dataset_key\": \"efbbd5293be71f7a5de0cf82b59febe1\", \"intervention_assumption\": \"trips achieve 16mph or existing spd if higher\", \"corridor_miles\": 4.5, \"corridor_seconds\": 198351.0, \"improved_corridor_seconds\": 145920.4, \"delay_seconds\": 52430.6, \"delay_minutes\": 873.8, \"minutes_per_mile\": 194.8, \"route_short_name\": [\"3\", \"R3\"], \"route_id\": [\"3707\", \"3721\"], \"median_corridor_mph\": 12.7, \"n_trips_daily\": 138, \"trips_hr_sch\": [4.7, 1.7], \"trips_per_hr_peak_directional\": 6.4, \"delay_per_trip\": 6.331884057971014, \"analysis_date\": \"2024-01-17T00:00:00\"}, {\"corridor_id\": 584447099936112567, \"schedule_gtfs_dataset_key\": \"efbbd5293be71f7a5de0cf82b59febe1\", \"intervention_assumption\": \"trips achieve 16mph or existing spd if higher\", \"corridor_miles\": 4.5, \"corridor_seconds\": 272676.0, \"improved_corridor_seconds\": 159159.1, \"delay_seconds\": 113516.9, \"delay_minutes\": 1891.9, \"minutes_per_mile\": 421.7, \"route_short_name\": [\"3\", \"R3\"], \"route_id\": [\"3707\", \"3721\"], \"median_corridor_mph\": 11.6, \"n_trips_daily\": 150, \"trips_hr_sch\": [4.7, 1.7], \"trips_per_hr_peak_directional\": 6.4, \"delay_per_trip\": 12.612666666666668, \"analysis_date\": \"2024-02-14T00:00:00\"}, {\"corridor_id\": 584447099936112567, \"schedule_gtfs_dataset_key\": \"efbbd5293be71f7a5de0cf82b59febe1\", \"intervention_assumption\": \"trips achieve 16mph or existing spd if higher\", \"corridor_miles\": 4.5, \"corridor_seconds\": 250072.0, \"improved_corridor_seconds\": 164512.4, \"delay_seconds\": 85559.6, \"delay_minutes\": 1426.0, \"minutes_per_mile\": 317.8, \"route_short_name\": [\"3\", \"R3\"], \"route_id\": [\"3707\", \"3721\"], \"median_corridor_mph\": 11.2, \"n_trips_daily\": 153, \"trips_hr_sch\": [4.7, 1.7], \"trips_per_hr_peak_directional\": 6.4, \"delay_per_trip\": 9.320261437908497, \"analysis_date\": \"2024-03-13T00:00:00\"}, {\"corridor_id\": 584447099936112567, \"schedule_gtfs_dataset_key\": \"efbbd5293be71f7a5de0cf82b59febe1\", \"intervention_assumption\": \"trips achieve 16mph or existing spd if higher\", \"corridor_miles\": 4.5, \"corridor_seconds\": 232286.0, \"improved_corridor_seconds\": 167126.8, \"delay_seconds\": 65159.2, \"delay_minutes\": 1086.0, \"minutes_per_mile\": 242.1, \"route_short_name\": [\"R3\", \"3\"], \"route_id\": [\"3721\", \"3707\"], \"median_corridor_mph\": 12.4, \"n_trips_daily\": 157, \"trips_hr_sch\": [1.7, 4.7], \"trips_per_hr_peak_directional\": 6.4, \"delay_per_trip\": 6.917197452229299, \"analysis_date\": \"2024-04-15T00:00:00\"}, {\"corridor_id\": 584447099936112567, \"schedule_gtfs_dataset_key\": \"efbbd5293be71f7a5de0cf82b59febe1\", \"intervention_assumption\": \"trips achieve 16mph or existing spd if higher\", \"corridor_miles\": 4.5, \"corridor_seconds\": 227579.0, \"improved_corridor_seconds\": 145414.4, \"delay_seconds\": 82164.6, \"delay_minutes\": 1369.4, \"minutes_per_mile\": 305.2, \"route_short_name\": [\"3\", \"R3\"], \"route_id\": [\"3707\", \"3721\"], \"median_corridor_mph\": 11.9, \"n_trips_daily\": 137, \"trips_hr_sch\": [4.7, 1.7], \"trips_per_hr_peak_directional\": 6.4, \"delay_per_trip\": 9.995620437956205, \"analysis_date\": \"2024-04-16T00:00:00\"}, {\"corridor_id\": 584447099936112567, \"schedule_gtfs_dataset_key\": \"efbbd5293be71f7a5de0cf82b59febe1\", \"intervention_assumption\": \"trips achieve 16mph or existing spd if higher\", \"corridor_miles\": 4.5, \"corridor_seconds\": 205340.0, \"improved_corridor_seconds\": 143201.4, \"delay_seconds\": 62138.6, \"delay_minutes\": 1035.6, \"minutes_per_mile\": 230.8, \"route_short_name\": [\"3\", \"R3\"], \"route_id\": [\"3707\", \"3721\"], \"median_corridor_mph\": 12.4, \"n_trips_daily\": 134, \"trips_hr_sch\": [4.7, 1.7], \"trips_per_hr_peak_directional\": 6.4, \"delay_per_trip\": 7.728358208955223, \"analysis_date\": \"2024-04-17T00:00:00\"}, {\"corridor_id\": 584447099936112567, \"schedule_gtfs_dataset_key\": \"efbbd5293be71f7a5de0cf82b59febe1\", \"intervention_assumption\": \"trips achieve 16mph or existing spd if higher\", \"corridor_miles\": 4.5, \"corridor_seconds\": 115952.0, \"improved_corridor_seconds\": 78932.9, \"delay_seconds\": 37019.1, \"delay_minutes\": 617.0, \"minutes_per_mile\": 137.5, \"route_short_name\": [\"3\", \"R3\"], \"route_id\": [\"3707\", \"3721\"], \"median_corridor_mph\": 11.9, \"n_trips_daily\": 73, \"trips_hr_sch\": [4.7, 1.7], \"trips_per_hr_peak_directional\": 6.4, \"delay_per_trip\": 8.452054794520548, \"analysis_date\": \"2024-04-18T00:00:00\"}, {\"corridor_id\": 584447099936112567, \"schedule_gtfs_dataset_key\": \"efbbd5293be71f7a5de0cf82b59febe1\", \"intervention_assumption\": \"trips achieve 16mph or existing spd if higher\", \"corridor_miles\": 4.5, \"corridor_seconds\": 195591.0, \"improved_corridor_seconds\": 131307.5, \"delay_seconds\": 64283.5, \"delay_minutes\": 1071.4, \"minutes_per_mile\": 238.8, \"route_short_name\": [\"3\", \"R3\"], \"route_id\": [\"3707\", \"3721\"], \"median_corridor_mph\": 11.7, \"n_trips_daily\": 122, \"trips_hr_sch\": [4.7, 1.7], \"trips_per_hr_peak_directional\": 6.4, \"delay_per_trip\": 8.781967213114754, \"analysis_date\": \"2024-04-19T00:00:00\"}, {\"corridor_id\": 584447099936112567, \"schedule_gtfs_dataset_key\": \"efbbd5293be71f7a5de0cf82b59febe1\", \"intervention_assumption\": \"trips achieve 16mph or existing spd if higher\", \"corridor_miles\": 4.5, \"corridor_seconds\": 163094.0, \"improved_corridor_seconds\": 123852.5, \"delay_seconds\": 39241.5, \"delay_minutes\": 654.0, \"minutes_per_mile\": 145.8, \"route_short_name\": [\"3\"], \"route_id\": [\"3707\"], \"median_corridor_mph\": 12.8, \"n_trips_daily\": 117, \"trips_hr_sch\": [4.3], \"trips_per_hr_peak_directional\": 4.3, \"delay_per_trip\": 5.589743589743589, \"analysis_date\": \"2024-04-20T00:00:00\"}, {\"corridor_id\": 584447099936112567, \"schedule_gtfs_dataset_key\": \"efbbd5293be71f7a5de0cf82b59febe1\", \"intervention_assumption\": \"trips achieve 16mph or existing spd if higher\", \"corridor_miles\": 4.5, \"corridor_seconds\": 145229.0, \"improved_corridor_seconds\": 110637.5, \"delay_seconds\": 34591.5, \"delay_minutes\": 576.5, \"minutes_per_mile\": 128.5, \"route_short_name\": [\"3\"], \"route_id\": [\"3707\"], \"median_corridor_mph\": 12.7, \"n_trips_daily\": 106, \"trips_hr_sch\": [4.3], \"trips_per_hr_peak_directional\": 4.3, \"delay_per_trip\": 5.438679245283019, \"analysis_date\": \"2024-04-21T00:00:00\"}, {\"corridor_id\": 584447099936112567, \"schedule_gtfs_dataset_key\": \"efbbd5293be71f7a5de0cf82b59febe1\", \"intervention_assumption\": \"trips achieve 16mph or existing spd if higher\", \"corridor_miles\": 4.5, \"corridor_seconds\": 153397.0, \"improved_corridor_seconds\": 104568.0, \"delay_seconds\": 48829.0, \"delay_minutes\": 813.8, \"minutes_per_mile\": 181.4, \"route_short_name\": [\"3\", \"R3\"], \"route_id\": [\"3732\", \"3746\"], \"median_corridor_mph\": 11.8, \"n_trips_daily\": 98, \"trips_hr_sch\": [4.7, 1.7], \"trips_per_hr_peak_directional\": 6.4, \"delay_per_trip\": 8.30408163265306, \"analysis_date\": \"2024-05-22T00:00:00\"}, {\"corridor_id\": 584447099936112567, \"schedule_gtfs_dataset_key\": \"efbbd5293be71f7a5de0cf82b59febe1\", \"intervention_assumption\": \"trips achieve 16mph or existing spd if higher\", \"corridor_miles\": 4.5, \"corridor_seconds\": 57218.0, \"improved_corridor_seconds\": 43657.1, \"delay_seconds\": 13560.9, \"delay_minutes\": 226.0, \"minutes_per_mile\": 50.4, \"route_short_name\": [\"3\", \"R3\"], \"route_id\": [\"3732\", \"3746\"], \"median_corridor_mph\": 13.3, \"n_trips_daily\": 41, \"trips_hr_sch\": [4.7, 1.7], \"trips_per_hr_peak_directional\": 6.4, \"delay_per_trip\": 5.512195121951219, \"analysis_date\": \"2024-07-17T00:00:00\"}, {\"corridor_id\": 584447099936112567, \"schedule_gtfs_dataset_key\": \"c2630c44a1f2703ec651596e6358d4f4\", \"intervention_assumption\": \"trips achieve 16mph or existing spd if higher\", \"corridor_miles\": 4.5, \"corridor_seconds\": 240431.0, \"improved_corridor_seconds\": 168397.4, \"delay_seconds\": 72033.6, \"delay_minutes\": 1200.6, \"minutes_per_mile\": 267.6, \"route_short_name\": [\"3\", \"R3\"], \"route_id\": [\"3757\", \"3771\"], \"median_corridor_mph\": 11.9, \"n_trips_daily\": 161, \"trips_hr_sch\": [4.7, 1.7], \"trips_per_hr_peak_directional\": 6.4, \"delay_per_trip\": 7.457142857142856, \"analysis_date\": \"2024-08-14T00:00:00\"}, {\"corridor_id\": 584447099936112567, \"schedule_gtfs_dataset_key\": \"c2630c44a1f2703ec651596e6358d4f4\", \"intervention_assumption\": \"trips achieve 16mph or existing spd if higher\", \"corridor_miles\": 4.5, \"corridor_seconds\": 251207.0, \"improved_corridor_seconds\": 173283.9, \"delay_seconds\": 77923.1, \"delay_minutes\": 1298.7, \"minutes_per_mile\": 289.5, \"route_short_name\": [\"3\", \"R3\"], \"route_id\": [\"3757\", \"3771\"], \"median_corridor_mph\": 11.9, \"n_trips_daily\": 162, \"trips_hr_sch\": [4.7, 1.7], \"trips_per_hr_peak_directional\": 6.4, \"delay_per_trip\": 8.016666666666667, \"analysis_date\": \"2024-09-18T00:00:00\"}, {\"corridor_id\": 584447099936112567, \"schedule_gtfs_dataset_key\": \"c2630c44a1f2703ec651596e6358d4f4\", \"intervention_assumption\": \"trips achieve 16mph or existing spd if higher\", \"corridor_miles\": 4.5, \"corridor_seconds\": 221333.0, \"improved_corridor_seconds\": 169715.3, \"delay_seconds\": 51617.7, \"delay_minutes\": 860.3, \"minutes_per_mile\": 191.7, \"route_short_name\": [\"3\", \"R3\"], \"route_id\": [\"3757\", \"3771\"], \"median_corridor_mph\": 12.8, \"n_trips_daily\": 159, \"trips_hr_sch\": [4.7, 1.7], \"trips_per_hr_peak_directional\": 6.4, \"delay_per_trip\": 5.410691823899371, \"analysis_date\": \"2024-10-14T00:00:00\"}, {\"corridor_id\": 584447099936112567, \"schedule_gtfs_dataset_key\": \"c2630c44a1f2703ec651596e6358d4f4\", \"intervention_assumption\": \"trips achieve 16mph or existing spd if higher\", \"corridor_miles\": 4.5, \"corridor_seconds\": 247368.0, \"improved_corridor_seconds\": 173852.9, \"delay_seconds\": 73515.1, \"delay_minutes\": 1225.3, \"minutes_per_mile\": 273.1, \"route_short_name\": [\"R3\", \"3\"], \"route_id\": [\"3771\", \"3757\"], \"median_corridor_mph\": 12.2, \"n_trips_daily\": 162, \"trips_hr_sch\": [1.7, 4.7], \"trips_per_hr_peak_directional\": 6.4, \"delay_per_trip\": 7.56358024691358, \"analysis_date\": \"2024-10-15T00:00:00\"}, {\"corridor_id\": 584447099936112567, \"schedule_gtfs_dataset_key\": \"c2630c44a1f2703ec651596e6358d4f4\", \"intervention_assumption\": \"trips achieve 16mph or existing spd if higher\", \"corridor_miles\": 4.5, \"corridor_seconds\": 246374.0, \"improved_corridor_seconds\": 175090.4, \"delay_seconds\": 71283.6, \"delay_minutes\": 1188.1, \"minutes_per_mile\": 264.8, \"route_short_name\": [\"3\", \"R3\"], \"route_id\": [\"3757\", \"3771\"], \"median_corridor_mph\": 12.1, \"n_trips_daily\": 162, \"trips_hr_sch\": [4.7, 1.7], \"trips_per_hr_peak_directional\": 6.4, \"delay_per_trip\": 7.33395061728395, \"analysis_date\": \"2024-10-18T00:00:00\"}, {\"corridor_id\": 584447099936112567, \"schedule_gtfs_dataset_key\": \"c2630c44a1f2703ec651596e6358d4f4\", \"intervention_assumption\": \"trips achieve 16mph or existing spd if higher\", \"corridor_miles\": 4.5, \"corridor_seconds\": 173567.0, \"improved_corridor_seconds\": 137215.8, \"delay_seconds\": 36351.2, \"delay_minutes\": 605.9, \"minutes_per_mile\": 135.0, \"route_short_name\": [\"3\"], \"route_id\": [\"3757\"], \"median_corridor_mph\": 13.0, \"n_trips_daily\": 129, \"trips_hr_sch\": [4.3], \"trips_per_hr_peak_directional\": 4.3, \"delay_per_trip\": 4.696899224806201, \"analysis_date\": \"2024-10-19T00:00:00\"}, {\"corridor_id\": 584447099936112567, \"schedule_gtfs_dataset_key\": \"c2630c44a1f2703ec651596e6358d4f4\", \"intervention_assumption\": \"trips achieve 16mph or existing spd if higher\", \"corridor_miles\": 4.5, \"corridor_seconds\": 147337.0, \"improved_corridor_seconds\": 119818.0, \"delay_seconds\": 27519.0, \"delay_minutes\": 458.7, \"minutes_per_mile\": 102.2, \"route_short_name\": [\"3\"], \"route_id\": [\"3757\"], \"median_corridor_mph\": 13.6, \"n_trips_daily\": 114, \"trips_hr_sch\": [4.3], \"trips_per_hr_peak_directional\": 4.3, \"delay_per_trip\": 4.023684210526316, \"analysis_date\": \"2024-10-20T00:00:00\"}, {\"corridor_id\": 584447099936112567, \"schedule_gtfs_dataset_key\": \"c2630c44a1f2703ec651596e6358d4f4\", \"intervention_assumption\": \"trips achieve 16mph or existing spd if higher\", \"corridor_miles\": 4.5, \"corridor_seconds\": 258789.0, \"improved_corridor_seconds\": 173347.6, \"delay_seconds\": 85441.4, \"delay_minutes\": 1424.0, \"minutes_per_mile\": 317.4, \"route_short_name\": [\"3\", \"R3\"], \"route_id\": [\"3757\", \"3771\"], \"median_corridor_mph\": 11.5, \"n_trips_daily\": 162, \"trips_hr_sch\": [4.7, 1.7], \"trips_per_hr_peak_directional\": 6.4, \"delay_per_trip\": 8.790123456790123, \"analysis_date\": \"2024-11-13T00:00:00\"}, {\"corridor_id\": 584447099936112567, \"schedule_gtfs_dataset_key\": \"c2630c44a1f2703ec651596e6358d4f4\", \"intervention_assumption\": \"trips achieve 16mph or existing spd if higher\", \"corridor_miles\": 4.5, \"corridor_seconds\": 227031.0, \"improved_corridor_seconds\": 169561.5, \"delay_seconds\": 57469.5, \"delay_minutes\": 957.8, \"minutes_per_mile\": 213.5, \"route_short_name\": [\"3\", \"R3\"], \"route_id\": [\"3757\", \"3771\"], \"median_corridor_mph\": 12.7, \"n_trips_daily\": 159, \"trips_hr_sch\": [4.7, 1.7], \"trips_per_hr_peak_directional\": 6.4, \"delay_per_trip\": 6.023899371069182, \"analysis_date\": \"2024-12-11T00:00:00\"}, {\"corridor_id\": 584447099936112567, \"schedule_gtfs_dataset_key\": \"c2630c44a1f2703ec651596e6358d4f4\", \"intervention_assumption\": \"trips achieve 16mph or existing spd if higher\", \"corridor_miles\": 4.5, \"corridor_seconds\": 227079.0, \"improved_corridor_seconds\": 170164.0, \"delay_seconds\": 56915.0, \"delay_minutes\": 948.6, \"minutes_per_mile\": 211.4, \"route_short_name\": [\"3\", \"R3\"], \"route_id\": [\"3807\", \"3821\"], \"median_corridor_mph\": 12.7, \"n_trips_daily\": 160, \"trips_hr_sch\": [4.7, 1.7], \"trips_per_hr_peak_directional\": 6.4, \"delay_per_trip\": 5.92875, \"analysis_date\": \"2025-01-15T00:00:00\"}, {\"corridor_id\": 584447099936112567, \"schedule_gtfs_dataset_key\": \"c2630c44a1f2703ec651596e6358d4f4\", \"intervention_assumption\": \"trips achieve 16mph or existing spd if higher\", \"corridor_miles\": 4.5, \"corridor_seconds\": 232457.0, \"improved_corridor_seconds\": 170173.2, \"delay_seconds\": 62283.8, \"delay_minutes\": 1038.1, \"minutes_per_mile\": 231.4, \"route_short_name\": [\"3\", \"R3\"], \"route_id\": [\"3807\", \"3821\"], \"median_corridor_mph\": 12.4, \"n_trips_daily\": 159, \"trips_hr_sch\": [4.7, 1.7], \"trips_per_hr_peak_directional\": 6.4, \"delay_per_trip\": 6.528930817610062, \"analysis_date\": \"2025-02-12T00:00:00\"}, {\"corridor_id\": 584447099936112567, \"schedule_gtfs_dataset_key\": \"298a1216e45ae5c17d4b3f8bc36a7caa\", \"intervention_assumption\": \"trips achieve 16mph or existing spd if higher\", \"corridor_miles\": 4.5, \"corridor_seconds\": 222332.0, \"improved_corridor_seconds\": 173379.6, \"delay_seconds\": 48952.4, \"delay_minutes\": 815.9, \"minutes_per_mile\": 181.8, \"route_short_name\": [\"3\", \"R3\"], \"route_id\": [\"3\", \"R3\"], \"median_corridor_mph\": 13.1, \"n_trips_daily\": 160, \"trips_hr_sch\": [4.7, 1.7], \"trips_per_hr_peak_directional\": 6.4, \"delay_per_trip\": 5.099375, \"analysis_date\": \"2025-03-12T00:00:00\"}, {\"corridor_id\": 584447099936112567, \"schedule_gtfs_dataset_key\": \"c65bd95ac0009a74df9ff840fc416771\", \"intervention_assumption\": \"trips achieve 16mph or existing spd if higher\", \"corridor_miles\": 4.5, \"corridor_seconds\": 230569.0, \"improved_corridor_seconds\": 173776.5, \"delay_seconds\": 56792.5, \"delay_minutes\": 946.5, \"minutes_per_mile\": 211.0, \"route_short_name\": [\"3\", \"R3\"], \"route_id\": [\"3\", \"R3\"], \"median_corridor_mph\": 12.7, \"n_trips_daily\": 161, \"trips_hr_sch\": [4.7, 1.7], \"trips_per_hr_peak_directional\": 6.4, \"delay_per_trip\": 5.87888198757764, \"analysis_date\": \"2025-04-16T00:00:00\"}, {\"corridor_id\": 584447099936112567, \"schedule_gtfs_dataset_key\": \"a02018fa11c962bcd3e07ab7f4516a63\", \"intervention_assumption\": \"trips achieve 16mph or existing spd if higher\", \"corridor_miles\": 4.5, \"corridor_seconds\": 249963.0, \"improved_corridor_seconds\": 176962.7, \"delay_seconds\": 73000.3, \"delay_minutes\": 1216.7, \"minutes_per_mile\": 271.2, \"route_short_name\": [\"3\", \"R3\"], \"route_id\": [\"3\", \"R3\"], \"median_corridor_mph\": 12.2, \"n_trips_daily\": 162, \"trips_hr_sch\": [4.7, 1.7], \"trips_per_hr_peak_directional\": 6.4, \"delay_per_trip\": 7.510493827160494, \"analysis_date\": \"2025-05-14T00:00:00\"}]}}, {\"mode\": \"vega-lite\"});\n",
       "</script>"
      ],
      "text/plain": [
       "alt.LayerChart(...)"
      ]
     },
     "execution_count": 28,
     "metadata": {},
     "output_type": "execute_result"
    }
   ],
   "source": [
    "chart = alt.Chart(all_df).mark_point().encode(\n",
    "    x=alt.X('analysis_date:T', axis = alt.Axis(title = 'Date'.upper(), format = (\"%b %Y\"))),\n",
    "    y='delay_per_trip'\n",
    ").properties(width=600, height=400)\n",
    "\n",
    "chart + chart.transform_regression('analysis_date', 'delay_per_trip').mark_line()"
   ]
  },
  {
   "cell_type": "markdown",
   "id": "212da9cc-4ed6-4f03-9525-7f95e894800f",
   "metadata": {
    "jp-MarkdownHeadingCollapsed": true,
    "tags": []
   },
   "source": [
    "## old"
   ]
  },
  {
   "cell_type": "code",
   "execution_count": 114,
   "id": "4b7131ae-456a-4540-b39c-91a62068729b",
   "metadata": {},
   "outputs": [],
   "source": [
    "def get_bbb_feed(analysis_date):\n",
    "\n",
    "    feeds = gtfs_utils_v2.schedule_daily_feed_to_gtfs_dataset_name(analysis_date)\n",
    "    bbb_feed = feeds >> filter(_.name.str.contains('Big Blue'))\n",
    "    return bbb_feed\n",
    "\n",
    "# bbb_dataset_key = bbb_feed.gtfs_dataset_key.iloc[0]\n",
    "# bbb_feed_key = bbb_feed.feed_key.iloc[0]"
   ]
  },
  {
   "cell_type": "code",
   "execution_count": 115,
   "id": "64b0b78e-83a7-4b82-b3f6-dda738660ceb",
   "metadata": {},
   "outputs": [],
   "source": [
    "# mar23 = pd.read_parquet(f'{SEGMENT_GCS}speeds_stop_segments_{analysis_date}.parquet')"
   ]
  },
  {
   "cell_type": "code",
   "execution_count": 116,
   "id": "a45d9ab9-c32b-409a-9b80-544f821131a0",
   "metadata": {},
   "outputs": [],
   "source": [
    "# mar23_shape = pd.read_parquet(f'{SEGMENT_GCS}segment_options/shape_stop_segments_{analysis_date}.parquet')"
   ]
  },
  {
   "cell_type": "code",
   "execution_count": 117,
   "id": "22d59ab3-0ae2-41a1-b256-66763aff4f8e",
   "metadata": {},
   "outputs": [],
   "source": [
    "def get_shapes(analysis_date, bbb_feed):\n",
    "    shapes = pd.read_parquet(f'{SEGMENT_GCS}segment_options/shape_stop_segments_{analysis_date}.parquet')\n",
    "    bbb_shapes = shapes >> filter(_.schedule_gtfs_dataset_key == bbb_feed.gtfs_dataset_key.iloc[0])\n",
    "    bbb_shapes.geometry = gpd.GeoSeries.from_wkb(bbb_shapes.geometry)\n",
    "    bbb_shapes = gpd.GeoDataFrame(bbb_shapes, geometry=bbb_shapes.geometry, crs=PROJECT_CRS)\n",
    "    return bbb_shapes"
   ]
  },
  {
   "cell_type": "code",
   "execution_count": 118,
   "id": "6ad19c7d-c18a-45c3-99ef-52ef9e2c02f3",
   "metadata": {},
   "outputs": [],
   "source": [
    "def get_speeds(analysis_date, bbb_feed):\n",
    "    speeds = pd.read_parquet(f'{SEGMENT_GCS}speeds_stop_segments_{analysis_date}.parquet')\n",
    "    bbb_speeds = (speeds >> filter(_.schedule_gtfs_dataset_key == bbb_feed.gtfs_dataset_key.iloc[0])\n",
    "                     >> select(_.speed_mph, _.meters_elapsed, _.sec_elapsed, _.trip_instance_key, _.stop_sequence)\n",
    "                 )\n",
    "    return bbb_speeds"
   ]
  },
  {
   "cell_type": "code",
   "execution_count": 121,
   "id": "fb62a8f4-c5fc-421e-88c1-b3b4d7df597e",
   "metadata": {},
   "outputs": [
    {
     "name": "stderr",
     "output_type": "stream",
     "text": [
      "/tmp/ipykernel_1841/1351526470.py:4: SettingWithCopyWarning: \n",
      "A value is trying to be set on a copy of a slice from a DataFrame.\n",
      "Try using .loc[row_indexer,col_indexer] = value instead\n",
      "\n",
      "See the caveats in the documentation: https://pandas.pydata.org/pandas-docs/stable/user_guide/indexing.html#returning-a-view-versus-a-copy\n",
      "  bbb_shapes.geometry = gpd.GeoSeries.from_wkb(bbb_shapes.geometry)\n"
     ]
    }
   ],
   "source": [
    "bbb_feed = get_bbb_feed(analysis_date)\n",
    "\n",
    "bbb_speeds = get_speeds(analysis_date, bbb_feed)\n",
    "\n",
    "bbb_shapes = get_shapes(analysis_date, bbb_feed)"
   ]
  },
  {
   "cell_type": "code",
   "execution_count": 122,
   "id": "38eae292-e3e6-4de9-9abd-23a374e36297",
   "metadata": {},
   "outputs": [],
   "source": [
    "lincoln_trips = gtfs_utils_v2.get_trips(selected_date=analysis_date,\n",
    "                                                 operator_feeds=[bbb_feed.feed_key.iloc[0]],\n",
    "                                                custom_filtering = {'route_short_name': ['3', 'R3']})\n",
    "lincoln_trips = lincoln_trips >> select(_.trip_instance_key, _.route_short_name, _.trip_first_departure_ts)\n",
    "\n",
    "lincoln_shapes = bbb_shapes >> inner_join(_, lincoln_trips, on = ['trip_instance_key'])\n",
    "\n",
    "lincoln_shapes = lincoln_shapes >> inner_join(_, bbb_speeds, on=['trip_instance_key', 'stop_sequence'])"
   ]
  },
  {
   "cell_type": "code",
   "execution_count": 123,
   "id": "34e1783a-ffea-4f07-8297-3ab77c860f13",
   "metadata": {},
   "outputs": [
    {
     "data": {
      "text/html": [
       "<div>\n",
       "<style scoped>\n",
       "    .dataframe tbody tr th:only-of-type {\n",
       "        vertical-align: middle;\n",
       "    }\n",
       "\n",
       "    .dataframe tbody tr th {\n",
       "        vertical-align: top;\n",
       "    }\n",
       "\n",
       "    .dataframe thead th {\n",
       "        text-align: right;\n",
       "    }\n",
       "</style>\n",
       "<table border=\"1\" class=\"dataframe\">\n",
       "  <thead>\n",
       "    <tr style=\"text-align: right;\">\n",
       "      <th></th>\n",
       "      <th>trip_instance_key</th>\n",
       "      <th>n</th>\n",
       "    </tr>\n",
       "  </thead>\n",
       "  <tbody>\n",
       "    <tr>\n",
       "      <th>0</th>\n",
       "      <td>012d2b7d1e5d77757ebb2414bbeedfae</td>\n",
       "      <td>35</td>\n",
       "    </tr>\n",
       "    <tr>\n",
       "      <th>1</th>\n",
       "      <td>05336b499070f87c7f6b4c8cf1c9172a</td>\n",
       "      <td>34</td>\n",
       "    </tr>\n",
       "    <tr>\n",
       "      <th>2</th>\n",
       "      <td>0628c213593d3b31d6ca00d1e4b81062</td>\n",
       "      <td>34</td>\n",
       "    </tr>\n",
       "    <tr>\n",
       "      <th>3</th>\n",
       "      <td>06ca5ebc8bc10cc28f1ec25b7e8a1d99</td>\n",
       "      <td>33</td>\n",
       "    </tr>\n",
       "    <tr>\n",
       "      <th>4</th>\n",
       "      <td>08c415d5ca6ef9453381b97dcc2c1b58</td>\n",
       "      <td>14</td>\n",
       "    </tr>\n",
       "    <tr>\n",
       "      <th>...</th>\n",
       "      <td>...</td>\n",
       "      <td>...</td>\n",
       "    </tr>\n",
       "    <tr>\n",
       "      <th>151</th>\n",
       "      <td>fd9f001bcb7ab00019f453a72fdf563c</td>\n",
       "      <td>36</td>\n",
       "    </tr>\n",
       "    <tr>\n",
       "      <th>152</th>\n",
       "      <td>fdcf0f29931f5d955bbb88c6cc8f5423</td>\n",
       "      <td>36</td>\n",
       "    </tr>\n",
       "    <tr>\n",
       "      <th>153</th>\n",
       "      <td>fe4071eea14b27590e904a88190b328b</td>\n",
       "      <td>36</td>\n",
       "    </tr>\n",
       "    <tr>\n",
       "      <th>154</th>\n",
       "      <td>ff0a5068f000cf3c2edffb2f838699a2</td>\n",
       "      <td>34</td>\n",
       "    </tr>\n",
       "    <tr>\n",
       "      <th>155</th>\n",
       "      <td>ff3a3736a8fe0abc0825e8f627b6dc49</td>\n",
       "      <td>15</td>\n",
       "    </tr>\n",
       "  </tbody>\n",
       "</table>\n",
       "<p>156 rows × 2 columns</p>\n",
       "</div>"
      ],
      "text/plain": [
       "                    trip_instance_key   n\n",
       "0    012d2b7d1e5d77757ebb2414bbeedfae  35\n",
       "1    05336b499070f87c7f6b4c8cf1c9172a  34\n",
       "2    0628c213593d3b31d6ca00d1e4b81062  34\n",
       "3    06ca5ebc8bc10cc28f1ec25b7e8a1d99  33\n",
       "4    08c415d5ca6ef9453381b97dcc2c1b58  14\n",
       "..                                ...  ..\n",
       "151  fd9f001bcb7ab00019f453a72fdf563c  36\n",
       "152  fdcf0f29931f5d955bbb88c6cc8f5423  36\n",
       "153  fe4071eea14b27590e904a88190b328b  36\n",
       "154  ff0a5068f000cf3c2edffb2f838699a2  34\n",
       "155  ff3a3736a8fe0abc0825e8f627b6dc49  15\n",
       "\n",
       "[156 rows x 2 columns]"
      ]
     },
     "execution_count": 123,
     "metadata": {},
     "output_type": "execute_result"
    }
   ],
   "source": [
    "lincoln_shapes >> count(_.trip_instance_key)"
   ]
  },
  {
   "cell_type": "code",
   "execution_count": 149,
   "id": "7faed46e-1353-49c5-b420-5565e10c32cb",
   "metadata": {
    "tags": []
   },
   "outputs": [
    {
     "data": {
      "text/html": [
       "<div>\n",
       "<style scoped>\n",
       "    .dataframe tbody tr th:only-of-type {\n",
       "        vertical-align: middle;\n",
       "    }\n",
       "\n",
       "    .dataframe tbody tr th {\n",
       "        vertical-align: top;\n",
       "    }\n",
       "\n",
       "    .dataframe thead th {\n",
       "        text-align: right;\n",
       "    }\n",
       "</style>\n",
       "<table border=\"1\" class=\"dataframe\">\n",
       "  <thead>\n",
       "    <tr style=\"text-align: right;\">\n",
       "      <th></th>\n",
       "      <th>trip_instance_key</th>\n",
       "      <th>shape_array_key</th>\n",
       "      <th>stop_id1</th>\n",
       "      <th>stop_sequence</th>\n",
       "      <th>geometry</th>\n",
       "      <th>stop_id2</th>\n",
       "      <th>segment_id</th>\n",
       "      <th>stop_pair</th>\n",
       "      <th>schedule_gtfs_dataset_key</th>\n",
       "      <th>route_id</th>\n",
       "      <th>direction_id</th>\n",
       "      <th>st_trip_instance_key</th>\n",
       "      <th>segment_uuid</th>\n",
       "      <th>route_short_name</th>\n",
       "      <th>trip_first_departure_ts</th>\n",
       "      <th>speed_mph</th>\n",
       "      <th>meters_elapsed</th>\n",
       "      <th>sec_elapsed</th>\n",
       "      <th>target_sec_elapsed</th>\n",
       "    </tr>\n",
       "  </thead>\n",
       "  <tbody>\n",
       "    <tr>\n",
       "      <th>0</th>\n",
       "      <td>012d2b7d1e5d77757ebb2414bbeedfae</td>\n",
       "      <td>95fcdc2f2f2e180e04129bfd4829a239</td>\n",
       "      <td>529</td>\n",
       "      <td>2</td>\n",
       "      <td>LINESTRING (149930.366 -452551.442, 149930.311...</td>\n",
       "      <td>532</td>\n",
       "      <td>529-532-1</td>\n",
       "      <td>529__532</td>\n",
       "      <td>dbbe8ee4864a2715a40749605395d584</td>\n",
       "      <td>3556</td>\n",
       "      <td>0.0</td>\n",
       "      <td>012d2b7d1e5d77757ebb2414bbeedfae</td>\n",
       "      <td>dbbe8ee4864a2715a40749605395d584__3556__0.0__5...</td>\n",
       "      <td>3</td>\n",
       "      <td>2023-03-15 15:09:00+00:00</td>\n",
       "      <td>32.722493</td>\n",
       "      <td>1623.691</td>\n",
       "      <td>111.0</td>\n",
       "      <td>227.012298</td>\n",
       "    </tr>\n",
       "    <tr>\n",
       "      <th>1</th>\n",
       "      <td>012d2b7d1e5d77757ebb2414bbeedfae</td>\n",
       "      <td>95fcdc2f2f2e180e04129bfd4829a239</td>\n",
       "      <td>532</td>\n",
       "      <td>3</td>\n",
       "      <td>LINESTRING (149889.542 -450921.566, 149878.542...</td>\n",
       "      <td>1668</td>\n",
       "      <td>532-1668-1</td>\n",
       "      <td>532__1668</td>\n",
       "      <td>dbbe8ee4864a2715a40749605395d584</td>\n",
       "      <td>3556</td>\n",
       "      <td>0.0</td>\n",
       "      <td>012d2b7d1e5d77757ebb2414bbeedfae</td>\n",
       "      <td>dbbe8ee4864a2715a40749605395d584__3556__0.0__5...</td>\n",
       "      <td>3</td>\n",
       "      <td>2023-03-15 15:09:00+00:00</td>\n",
       "      <td>15.994270</td>\n",
       "      <td>343.194</td>\n",
       "      <td>48.0</td>\n",
       "      <td>47.982811</td>\n",
       "    </tr>\n",
       "    <tr>\n",
       "      <th>2</th>\n",
       "      <td>012d2b7d1e5d77757ebb2414bbeedfae</td>\n",
       "      <td>95fcdc2f2f2e180e04129bfd4829a239</td>\n",
       "      <td>1668</td>\n",
       "      <td>4</td>\n",
       "      <td>LINESTRING (149758.895 -450797.226, 149757.478...</td>\n",
       "      <td>1670</td>\n",
       "      <td>1668-1670-1</td>\n",
       "      <td>1668__1670</td>\n",
       "      <td>dbbe8ee4864a2715a40749605395d584</td>\n",
       "      <td>3556</td>\n",
       "      <td>0.0</td>\n",
       "      <td>012d2b7d1e5d77757ebb2414bbeedfae</td>\n",
       "      <td>dbbe8ee4864a2715a40749605395d584__3556__0.0__1...</td>\n",
       "      <td>3</td>\n",
       "      <td>2023-03-15 15:09:00+00:00</td>\n",
       "      <td>26.448160</td>\n",
       "      <td>484.745</td>\n",
       "      <td>41.0</td>\n",
       "      <td>67.773410</td>\n",
       "    </tr>\n",
       "    <tr>\n",
       "      <th>3</th>\n",
       "      <td>012d2b7d1e5d77757ebb2414bbeedfae</td>\n",
       "      <td>95fcdc2f2f2e180e04129bfd4829a239</td>\n",
       "      <td>1670</td>\n",
       "      <td>5</td>\n",
       "      <td>LINESTRING (149202.291 -450737.943, 149131.117...</td>\n",
       "      <td>1677</td>\n",
       "      <td>1670-1677-1</td>\n",
       "      <td>1670__1677</td>\n",
       "      <td>dbbe8ee4864a2715a40749605395d584</td>\n",
       "      <td>3556</td>\n",
       "      <td>0.0</td>\n",
       "      <td>012d2b7d1e5d77757ebb2414bbeedfae</td>\n",
       "      <td>dbbe8ee4864a2715a40749605395d584__3556__0.0__1...</td>\n",
       "      <td>3</td>\n",
       "      <td>2023-03-15 15:09:00+00:00</td>\n",
       "      <td>12.720001</td>\n",
       "      <td>454.895</td>\n",
       "      <td>80.0</td>\n",
       "      <td>63.600007</td>\n",
       "    </tr>\n",
       "    <tr>\n",
       "      <th>4</th>\n",
       "      <td>012d2b7d1e5d77757ebb2414bbeedfae</td>\n",
       "      <td>95fcdc2f2f2e180e04129bfd4829a239</td>\n",
       "      <td>1677</td>\n",
       "      <td>6</td>\n",
       "      <td>LINESTRING (148866.647 -450742.541, 148817.658...</td>\n",
       "      <td>1636</td>\n",
       "      <td>1677-1636-1</td>\n",
       "      <td>1677__1636</td>\n",
       "      <td>dbbe8ee4864a2715a40749605395d584</td>\n",
       "      <td>3556</td>\n",
       "      <td>0.0</td>\n",
       "      <td>012d2b7d1e5d77757ebb2414bbeedfae</td>\n",
       "      <td>dbbe8ee4864a2715a40749605395d584__3556__0.0__1...</td>\n",
       "      <td>3</td>\n",
       "      <td>2023-03-15 15:09:00+00:00</td>\n",
       "      <td>32.861482</td>\n",
       "      <td>690.429</td>\n",
       "      <td>47.0</td>\n",
       "      <td>96.530605</td>\n",
       "    </tr>\n",
       "    <tr>\n",
       "      <th>...</th>\n",
       "      <td>...</td>\n",
       "      <td>...</td>\n",
       "      <td>...</td>\n",
       "      <td>...</td>\n",
       "      <td>...</td>\n",
       "      <td>...</td>\n",
       "      <td>...</td>\n",
       "      <td>...</td>\n",
       "      <td>...</td>\n",
       "      <td>...</td>\n",
       "      <td>...</td>\n",
       "      <td>...</td>\n",
       "      <td>...</td>\n",
       "      <td>...</td>\n",
       "      <td>...</td>\n",
       "      <td>...</td>\n",
       "      <td>...</td>\n",
       "      <td>...</td>\n",
       "      <td>...</td>\n",
       "    </tr>\n",
       "    <tr>\n",
       "      <th>5205</th>\n",
       "      <td>e22e78fa929cd7c394696b8f7a7cfe7e</td>\n",
       "      <td>71e4b27513ed17a85f58ed99891d3ace</td>\n",
       "      <td>1186</td>\n",
       "      <td>5</td>\n",
       "      <td>LINESTRING (140174.335 -443728.422, 140196.765...</td>\n",
       "      <td>51</td>\n",
       "      <td>1186-51-1</td>\n",
       "      <td>1186__51</td>\n",
       "      <td>dbbe8ee4864a2715a40749605395d584</td>\n",
       "      <td>3570</td>\n",
       "      <td>1.0</td>\n",
       "      <td>2b4c0e5b83cd2e106253084aea0f37b2</td>\n",
       "      <td>dbbe8ee4864a2715a40749605395d584__3570__1.0__1...</td>\n",
       "      <td>R3</td>\n",
       "      <td>2023-03-15 22:10:00+00:00</td>\n",
       "      <td>6.580528</td>\n",
       "      <td>870.736</td>\n",
       "      <td>296.0</td>\n",
       "      <td>121.739777</td>\n",
       "    </tr>\n",
       "    <tr>\n",
       "      <th>5206</th>\n",
       "      <td>e22e78fa929cd7c394696b8f7a7cfe7e</td>\n",
       "      <td>71e4b27513ed17a85f58ed99891d3ace</td>\n",
       "      <td>51</td>\n",
       "      <td>6</td>\n",
       "      <td>LINESTRING (140802.700 -444313.078, 140812.079...</td>\n",
       "      <td>598</td>\n",
       "      <td>51-598-1</td>\n",
       "      <td>51__598</td>\n",
       "      <td>dbbe8ee4864a2715a40749605395d584</td>\n",
       "      <td>3570</td>\n",
       "      <td>1.0</td>\n",
       "      <td>2b4c0e5b83cd2e106253084aea0f37b2</td>\n",
       "      <td>dbbe8ee4864a2715a40749605395d584__3570__1.0__5...</td>\n",
       "      <td>R3</td>\n",
       "      <td>2023-03-15 22:10:00+00:00</td>\n",
       "      <td>6.585570</td>\n",
       "      <td>959.721</td>\n",
       "      <td>326.0</td>\n",
       "      <td>134.180992</td>\n",
       "    </tr>\n",
       "    <tr>\n",
       "      <th>5207</th>\n",
       "      <td>e22e78fa929cd7c394696b8f7a7cfe7e</td>\n",
       "      <td>71e4b27513ed17a85f58ed99891d3ace</td>\n",
       "      <td>598</td>\n",
       "      <td>7</td>\n",
       "      <td>LINESTRING (141590.981 -444902.647, 141646.001...</td>\n",
       "      <td>1201</td>\n",
       "      <td>598-1201-1</td>\n",
       "      <td>598__1201</td>\n",
       "      <td>dbbe8ee4864a2715a40749605395d584</td>\n",
       "      <td>3570</td>\n",
       "      <td>1.0</td>\n",
       "      <td>2b4c0e5b83cd2e106253084aea0f37b2</td>\n",
       "      <td>dbbe8ee4864a2715a40749605395d584__3570__1.0__5...</td>\n",
       "      <td>R3</td>\n",
       "      <td>2023-03-15 22:10:00+00:00</td>\n",
       "      <td>6.589481</td>\n",
       "      <td>621.538</td>\n",
       "      <td>211.0</td>\n",
       "      <td>86.898782</td>\n",
       "    </tr>\n",
       "    <tr>\n",
       "      <th>5208</th>\n",
       "      <td>e22e78fa929cd7c394696b8f7a7cfe7e</td>\n",
       "      <td>71e4b27513ed17a85f58ed99891d3ace</td>\n",
       "      <td>1201</td>\n",
       "      <td>8</td>\n",
       "      <td>LINESTRING (142119.678 -445199.270, 142172.928...</td>\n",
       "      <td>476</td>\n",
       "      <td>1201-476-1</td>\n",
       "      <td>1201__476</td>\n",
       "      <td>dbbe8ee4864a2715a40749605395d584</td>\n",
       "      <td>3570</td>\n",
       "      <td>1.0</td>\n",
       "      <td>2b4c0e5b83cd2e106253084aea0f37b2</td>\n",
       "      <td>dbbe8ee4864a2715a40749605395d584__3570__1.0__1...</td>\n",
       "      <td>R3</td>\n",
       "      <td>2023-03-15 22:10:00+00:00</td>\n",
       "      <td>6.560909</td>\n",
       "      <td>926.798</td>\n",
       "      <td>316.0</td>\n",
       "      <td>129.577945</td>\n",
       "    </tr>\n",
       "    <tr>\n",
       "      <th>5209</th>\n",
       "      <td>e22e78fa929cd7c394696b8f7a7cfe7e</td>\n",
       "      <td>71e4b27513ed17a85f58ed99891d3ace</td>\n",
       "      <td>476</td>\n",
       "      <td>9</td>\n",
       "      <td>LINESTRING (142937.551 -445655.222, 142954.324...</td>\n",
       "      <td>52</td>\n",
       "      <td>476-52-1</td>\n",
       "      <td>476__52</td>\n",
       "      <td>dbbe8ee4864a2715a40749605395d584</td>\n",
       "      <td>3570</td>\n",
       "      <td>1.0</td>\n",
       "      <td>2b4c0e5b83cd2e106253084aea0f37b2</td>\n",
       "      <td>dbbe8ee4864a2715a40749605395d584__3570__1.0__4...</td>\n",
       "      <td>R3</td>\n",
       "      <td>2023-03-15 22:10:00+00:00</td>\n",
       "      <td>NaN</td>\n",
       "      <td>NaN</td>\n",
       "      <td>NaN</td>\n",
       "      <td>NaN</td>\n",
       "    </tr>\n",
       "  </tbody>\n",
       "</table>\n",
       "<p>5210 rows × 19 columns</p>\n",
       "</div>"
      ],
      "text/plain": [
       "                     trip_instance_key                   shape_array_key  \\\n",
       "0     012d2b7d1e5d77757ebb2414bbeedfae  95fcdc2f2f2e180e04129bfd4829a239   \n",
       "1     012d2b7d1e5d77757ebb2414bbeedfae  95fcdc2f2f2e180e04129bfd4829a239   \n",
       "2     012d2b7d1e5d77757ebb2414bbeedfae  95fcdc2f2f2e180e04129bfd4829a239   \n",
       "3     012d2b7d1e5d77757ebb2414bbeedfae  95fcdc2f2f2e180e04129bfd4829a239   \n",
       "4     012d2b7d1e5d77757ebb2414bbeedfae  95fcdc2f2f2e180e04129bfd4829a239   \n",
       "...                                ...                               ...   \n",
       "5205  e22e78fa929cd7c394696b8f7a7cfe7e  71e4b27513ed17a85f58ed99891d3ace   \n",
       "5206  e22e78fa929cd7c394696b8f7a7cfe7e  71e4b27513ed17a85f58ed99891d3ace   \n",
       "5207  e22e78fa929cd7c394696b8f7a7cfe7e  71e4b27513ed17a85f58ed99891d3ace   \n",
       "5208  e22e78fa929cd7c394696b8f7a7cfe7e  71e4b27513ed17a85f58ed99891d3ace   \n",
       "5209  e22e78fa929cd7c394696b8f7a7cfe7e  71e4b27513ed17a85f58ed99891d3ace   \n",
       "\n",
       "     stop_id1  stop_sequence  \\\n",
       "0         529              2   \n",
       "1         532              3   \n",
       "2        1668              4   \n",
       "3        1670              5   \n",
       "4        1677              6   \n",
       "...       ...            ...   \n",
       "5205     1186              5   \n",
       "5206       51              6   \n",
       "5207      598              7   \n",
       "5208     1201              8   \n",
       "5209      476              9   \n",
       "\n",
       "                                               geometry stop_id2   segment_id  \\\n",
       "0     LINESTRING (149930.366 -452551.442, 149930.311...      532    529-532-1   \n",
       "1     LINESTRING (149889.542 -450921.566, 149878.542...     1668   532-1668-1   \n",
       "2     LINESTRING (149758.895 -450797.226, 149757.478...     1670  1668-1670-1   \n",
       "3     LINESTRING (149202.291 -450737.943, 149131.117...     1677  1670-1677-1   \n",
       "4     LINESTRING (148866.647 -450742.541, 148817.658...     1636  1677-1636-1   \n",
       "...                                                 ...      ...          ...   \n",
       "5205  LINESTRING (140174.335 -443728.422, 140196.765...       51    1186-51-1   \n",
       "5206  LINESTRING (140802.700 -444313.078, 140812.079...      598     51-598-1   \n",
       "5207  LINESTRING (141590.981 -444902.647, 141646.001...     1201   598-1201-1   \n",
       "5208  LINESTRING (142119.678 -445199.270, 142172.928...      476   1201-476-1   \n",
       "5209  LINESTRING (142937.551 -445655.222, 142954.324...       52     476-52-1   \n",
       "\n",
       "       stop_pair         schedule_gtfs_dataset_key route_id  direction_id  \\\n",
       "0       529__532  dbbe8ee4864a2715a40749605395d584     3556           0.0   \n",
       "1      532__1668  dbbe8ee4864a2715a40749605395d584     3556           0.0   \n",
       "2     1668__1670  dbbe8ee4864a2715a40749605395d584     3556           0.0   \n",
       "3     1670__1677  dbbe8ee4864a2715a40749605395d584     3556           0.0   \n",
       "4     1677__1636  dbbe8ee4864a2715a40749605395d584     3556           0.0   \n",
       "...          ...                               ...      ...           ...   \n",
       "5205    1186__51  dbbe8ee4864a2715a40749605395d584     3570           1.0   \n",
       "5206     51__598  dbbe8ee4864a2715a40749605395d584     3570           1.0   \n",
       "5207   598__1201  dbbe8ee4864a2715a40749605395d584     3570           1.0   \n",
       "5208   1201__476  dbbe8ee4864a2715a40749605395d584     3570           1.0   \n",
       "5209     476__52  dbbe8ee4864a2715a40749605395d584     3570           1.0   \n",
       "\n",
       "                  st_trip_instance_key  \\\n",
       "0     012d2b7d1e5d77757ebb2414bbeedfae   \n",
       "1     012d2b7d1e5d77757ebb2414bbeedfae   \n",
       "2     012d2b7d1e5d77757ebb2414bbeedfae   \n",
       "3     012d2b7d1e5d77757ebb2414bbeedfae   \n",
       "4     012d2b7d1e5d77757ebb2414bbeedfae   \n",
       "...                                ...   \n",
       "5205  2b4c0e5b83cd2e106253084aea0f37b2   \n",
       "5206  2b4c0e5b83cd2e106253084aea0f37b2   \n",
       "5207  2b4c0e5b83cd2e106253084aea0f37b2   \n",
       "5208  2b4c0e5b83cd2e106253084aea0f37b2   \n",
       "5209  2b4c0e5b83cd2e106253084aea0f37b2   \n",
       "\n",
       "                                           segment_uuid route_short_name  \\\n",
       "0     dbbe8ee4864a2715a40749605395d584__3556__0.0__5...                3   \n",
       "1     dbbe8ee4864a2715a40749605395d584__3556__0.0__5...                3   \n",
       "2     dbbe8ee4864a2715a40749605395d584__3556__0.0__1...                3   \n",
       "3     dbbe8ee4864a2715a40749605395d584__3556__0.0__1...                3   \n",
       "4     dbbe8ee4864a2715a40749605395d584__3556__0.0__1...                3   \n",
       "...                                                 ...              ...   \n",
       "5205  dbbe8ee4864a2715a40749605395d584__3570__1.0__1...               R3   \n",
       "5206  dbbe8ee4864a2715a40749605395d584__3570__1.0__5...               R3   \n",
       "5207  dbbe8ee4864a2715a40749605395d584__3570__1.0__5...               R3   \n",
       "5208  dbbe8ee4864a2715a40749605395d584__3570__1.0__1...               R3   \n",
       "5209  dbbe8ee4864a2715a40749605395d584__3570__1.0__4...               R3   \n",
       "\n",
       "       trip_first_departure_ts  speed_mph  meters_elapsed  sec_elapsed  \\\n",
       "0    2023-03-15 15:09:00+00:00  32.722493        1623.691        111.0   \n",
       "1    2023-03-15 15:09:00+00:00  15.994270         343.194         48.0   \n",
       "2    2023-03-15 15:09:00+00:00  26.448160         484.745         41.0   \n",
       "3    2023-03-15 15:09:00+00:00  12.720001         454.895         80.0   \n",
       "4    2023-03-15 15:09:00+00:00  32.861482         690.429         47.0   \n",
       "...                        ...        ...             ...          ...   \n",
       "5205 2023-03-15 22:10:00+00:00   6.580528         870.736        296.0   \n",
       "5206 2023-03-15 22:10:00+00:00   6.585570         959.721        326.0   \n",
       "5207 2023-03-15 22:10:00+00:00   6.589481         621.538        211.0   \n",
       "5208 2023-03-15 22:10:00+00:00   6.560909         926.798        316.0   \n",
       "5209 2023-03-15 22:10:00+00:00        NaN             NaN          NaN   \n",
       "\n",
       "      target_sec_elapsed  \n",
       "0             227.012298  \n",
       "1              47.982811  \n",
       "2              67.773410  \n",
       "3              63.600007  \n",
       "4              96.530605  \n",
       "...                  ...  \n",
       "5205          121.739777  \n",
       "5206          134.180992  \n",
       "5207           86.898782  \n",
       "5208          129.577945  \n",
       "5209                 NaN  \n",
       "\n",
       "[5210 rows x 19 columns]"
      ]
     },
     "execution_count": 149,
     "metadata": {},
     "output_type": "execute_result"
    }
   ],
   "source": [
    "lincoln_shapes"
   ]
  },
  {
   "cell_type": "code",
   "execution_count": 124,
   "id": "2ab53829-a39a-4d6f-8c56-8bd09b26b411",
   "metadata": {},
   "outputs": [],
   "source": [
    "lincoln_shapes['target_sec_elapsed'] = lincoln_shapes.meters_elapsed / target_mps\n",
    "\n",
    "assert lincoln_shapes.crs == corr_gdf.crs\n",
    "\n",
    "lincoln_clipped = gpd.clip(lincoln_shapes, corr_gdf)\n",
    "\n",
    "lincoln_clipped['speed_delay'] = (lincoln_clipped.sec_elapsed - lincoln_clipped.target_sec_elapsed).clip(lower=0)"
   ]
  },
  {
   "cell_type": "code",
   "execution_count": 125,
   "id": "2710ddc9-4a01-4c2f-b8d4-7cfa6e5026b0",
   "metadata": {},
   "outputs": [],
   "source": [
    "# (lincoln_clipped >> select(-_.trip_first_departure_ts)\n",
    "#     >> filter(_.trip_instance_key == '08c415d5ca6ef9453381b97dcc2c1b58')\n",
    "# ).explore()"
   ]
  },
  {
   "cell_type": "code",
   "execution_count": 126,
   "id": "d0c561dd-1b4f-4c39-92e1-06630dd1a003",
   "metadata": {},
   "outputs": [
    {
     "data": {
      "text/plain": [
       "1546.4925773156249"
      ]
     },
     "execution_count": 126,
     "metadata": {},
     "output_type": "execute_result"
    }
   ],
   "source": [
    "lincoln_clipped.speed_delay.sum() / 60"
   ]
  },
  {
   "cell_type": "code",
   "execution_count": 127,
   "id": "5eba5115-02d0-40aa-ab74-22fccd51cfa4",
   "metadata": {},
   "outputs": [],
   "source": [
    "def lincoln_corridor_delay(analysis_date):\n",
    "    \n",
    "    # print(analysis_date)\n",
    "    bbb_feed = get_bbb_feed(analysis_date)\n",
    "    bbb_speeds = get_speeds(analysis_date, bbb_feed)\n",
    "    bbb_shapes = get_shapes(analysis_date, bbb_feed)\n",
    "    \n",
    "    lincoln_trips = gtfs_utils_v2.get_trips(selected_date=analysis_date,\n",
    "                                                 operator_feeds=[bbb_feed.feed_key.iloc[0]],\n",
    "                                                custom_filtering = {'route_short_name': ['3', 'R3']})\n",
    "    lincoln_trips = lincoln_trips >> select(_.trip_instance_key, _.route_short_name, _.trip_first_departure_ts)\n",
    "    sched_trip_count = lincoln_trips.shape[0]\n",
    "\n",
    "    lincoln_shapes = bbb_shapes >> inner_join(_, lincoln_trips, on = ['trip_instance_key'])\n",
    "\n",
    "    lincoln_shapes = lincoln_shapes >> inner_join(_, bbb_speeds, on=['trip_instance_key', 'stop_sequence'])\n",
    "    print((lincoln_shapes >> count(_.trip_instance_key)).shape)\n",
    "    assert not lincoln_shapes.empty\n",
    "    rt_trip_count = (lincoln_shapes >> count(_.trip_instance_key)).shape[0]\n",
    "    \n",
    "    lincoln_shapes['target_sec_elapsed'] = lincoln_shapes.meters_elapsed / target_mps\n",
    "    assert lincoln_shapes.crs == corr_gdf.crs\n",
    "    lincoln_clipped = gpd.clip(lincoln_shapes, corr_gdf)\n",
    "    lincoln_clipped['speed_delay'] = (lincoln_clipped.sec_elapsed - lincoln_clipped.target_sec_elapsed).clip(lower=0)\n",
    "    delay_minutes = lincoln_clipped.speed_delay.sum() / 60\n",
    "    \n",
    "    return (analysis_date, delay_minutes, rt_trip_count, rt_trip_count / sched_trip_count)"
   ]
  },
  {
   "cell_type": "code",
   "execution_count": 128,
   "id": "ffd6a06a-cc4e-4f56-b787-58d39a2314c5",
   "metadata": {},
   "outputs": [
    {
     "name": "stderr",
     "output_type": "stream",
     "text": [
      "/tmp/ipykernel_1841/1351526470.py:4: SettingWithCopyWarning: \n",
      "A value is trying to be set on a copy of a slice from a DataFrame.\n",
      "Try using .loc[row_indexer,col_indexer] = value instead\n",
      "\n",
      "See the caveats in the documentation: https://pandas.pydata.org/pandas-docs/stable/user_guide/indexing.html#returning-a-view-versus-a-copy\n",
      "  bbb_shapes.geometry = gpd.GeoSeries.from_wkb(bbb_shapes.geometry)\n"
     ]
    },
    {
     "name": "stdout",
     "output_type": "stream",
     "text": [
      "(156, 2)\n"
     ]
    },
    {
     "data": {
      "text/plain": [
       "('2023-03-15', 1546.4925773156249, 156, 0.9629629629629629)"
      ]
     },
     "execution_count": 128,
     "metadata": {},
     "output_type": "execute_result"
    }
   ],
   "source": [
    "lincoln_corridor_delay(analysis_date)"
   ]
  },
  {
   "cell_type": "code",
   "execution_count": 135,
   "id": "b6bbb182-8c41-42b7-a7b0-3d8e3132dd85",
   "metadata": {},
   "outputs": [],
   "source": [
    "test = list(rt_dates.DATES.keys())[:5]"
   ]
  },
  {
   "cell_type": "code",
   "execution_count": 136,
   "id": "9203fce5-6ca6-47b1-ac24-d8070ac946ad",
   "metadata": {
    "tags": []
   },
   "outputs": [
    {
     "data": {
      "text/plain": [
       "['mar2023', 'apr2023a', 'apr2023b', 'apr2023', 'apr2023c']"
      ]
     },
     "execution_count": 136,
     "metadata": {},
     "output_type": "execute_result"
    }
   ],
   "source": [
    "test"
   ]
  },
  {
   "cell_type": "code",
   "execution_count": 22,
   "id": "d8a2f2ef-bb10-4f49-9467-f02c5373f601",
   "metadata": {
    "tags": []
   },
   "outputs": [],
   "source": [
    "def compile_lincoln_delays():\n",
    "    lincoln_delays = []\n",
    "    for date in rt_dates.DATES.keys():\n",
    "    # for date in test:\n",
    "        analysis_date = rt_dates.DATES[date]\n",
    "        print(analysis_date)\n",
    "        try:\n",
    "            lincoln_delays += [lincoln_corridor_delay(analysis_date)]\n",
    "        except:\n",
    "            print(f'failed for {analysis_date}')\n",
    "    # return lincoln_delays\n",
    "    lincoln_delay_df = pd.DataFrame(lincoln_delays,\n",
    "                                    columns=['date_str', 'delay_minutes', 'vp_trip_count',\n",
    "                                             'vp_pct_sched'])\n",
    "    lincoln_delay_df['date'] = lincoln_delay_df.date_str.apply(lambda x: dt.datetime.fromisoformat(x).date())\n",
    "    lincoln_delay_df['weekday'] = lincoln_delay_df.date.apply(lambda x: x.strftime('%a'))\n",
    "    # df = df >> filter(-_.weekday.isin(['Sat', 'Sun', 'Mon', 'Fri']))\n",
    "    return lincoln_delay_df"
   ]
  },
  {
   "cell_type": "code",
   "execution_count": 23,
   "id": "ab22b1f8-0f25-431b-a413-9bc8edfb603f",
   "metadata": {
    "collapsed": true,
    "jupyter": {
     "outputs_hidden": true
    },
    "tags": []
   },
   "outputs": [
    {
     "name": "stdout",
     "output_type": "stream",
     "text": [
      "2022-02-08\n",
      "failed for 2022-02-08\n",
      "2022-03-30\n",
      "failed for 2022-03-30\n",
      "2022-05-04\n",
      "failed for 2022-05-04\n",
      "2022-06-15\n",
      "failed for 2022-06-15\n",
      "2022-07-13\n",
      "failed for 2022-07-13\n",
      "2022-08-17\n",
      "failed for 2022-08-17\n",
      "2022-09-14\n",
      "failed for 2022-09-14\n",
      "2022-09-21\n"
     ]
    },
    {
     "name": "stderr",
     "output_type": "stream",
     "text": [
      "/tmp/ipykernel_378/1351526470.py:4: SettingWithCopyWarning: \n",
      "A value is trying to be set on a copy of a slice from a DataFrame.\n",
      "Try using .loc[row_indexer,col_indexer] = value instead\n",
      "\n",
      "See the caveats in the documentation: https://pandas.pydata.org/pandas-docs/stable/user_guide/indexing.html#returning-a-view-versus-a-copy\n",
      "  bbb_shapes.geometry = gpd.GeoSeries.from_wkb(bbb_shapes.geometry)\n"
     ]
    },
    {
     "name": "stdout",
     "output_type": "stream",
     "text": [
      "(182, 2)\n",
      "2022-10-12\n",
      "failed for 2022-10-12\n",
      "2022-11-07\n",
      "failed for 2022-11-07\n",
      "2022-11-08\n",
      "failed for 2022-11-08\n",
      "2022-11-09\n",
      "failed for 2022-11-09\n",
      "2022-11-10\n",
      "failed for 2022-11-10\n",
      "2022-11-16\n",
      "failed for 2022-11-16\n",
      "2022-12-14\n",
      "failed for 2022-12-14\n",
      "2023-01-18\n",
      "failed for 2023-01-18\n",
      "2023-02-15\n",
      "failed for 2023-02-15\n",
      "2023-03-15\n"
     ]
    },
    {
     "name": "stderr",
     "output_type": "stream",
     "text": [
      "/tmp/ipykernel_378/1351526470.py:4: SettingWithCopyWarning: \n",
      "A value is trying to be set on a copy of a slice from a DataFrame.\n",
      "Try using .loc[row_indexer,col_indexer] = value instead\n",
      "\n",
      "See the caveats in the documentation: https://pandas.pydata.org/pandas-docs/stable/user_guide/indexing.html#returning-a-view-versus-a-copy\n",
      "  bbb_shapes.geometry = gpd.GeoSeries.from_wkb(bbb_shapes.geometry)\n"
     ]
    },
    {
     "name": "stdout",
     "output_type": "stream",
     "text": [
      "(156, 2)\n",
      "2023-04-10\n"
     ]
    },
    {
     "name": "stderr",
     "output_type": "stream",
     "text": [
      "/tmp/ipykernel_378/1351526470.py:4: SettingWithCopyWarning: \n",
      "A value is trying to be set on a copy of a slice from a DataFrame.\n",
      "Try using .loc[row_indexer,col_indexer] = value instead\n",
      "\n",
      "See the caveats in the documentation: https://pandas.pydata.org/pandas-docs/stable/user_guide/indexing.html#returning-a-view-versus-a-copy\n",
      "  bbb_shapes.geometry = gpd.GeoSeries.from_wkb(bbb_shapes.geometry)\n"
     ]
    },
    {
     "name": "stdout",
     "output_type": "stream",
     "text": [
      "(153, 2)\n",
      "2023-04-11\n"
     ]
    },
    {
     "name": "stderr",
     "output_type": "stream",
     "text": [
      "/tmp/ipykernel_378/1351526470.py:4: SettingWithCopyWarning: \n",
      "A value is trying to be set on a copy of a slice from a DataFrame.\n",
      "Try using .loc[row_indexer,col_indexer] = value instead\n",
      "\n",
      "See the caveats in the documentation: https://pandas.pydata.org/pandas-docs/stable/user_guide/indexing.html#returning-a-view-versus-a-copy\n",
      "  bbb_shapes.geometry = gpd.GeoSeries.from_wkb(bbb_shapes.geometry)\n"
     ]
    },
    {
     "name": "stdout",
     "output_type": "stream",
     "text": [
      "(145, 2)\n",
      "2023-04-12\n"
     ]
    },
    {
     "name": "stderr",
     "output_type": "stream",
     "text": [
      "/tmp/ipykernel_378/1351526470.py:4: SettingWithCopyWarning: \n",
      "A value is trying to be set on a copy of a slice from a DataFrame.\n",
      "Try using .loc[row_indexer,col_indexer] = value instead\n",
      "\n",
      "See the caveats in the documentation: https://pandas.pydata.org/pandas-docs/stable/user_guide/indexing.html#returning-a-view-versus-a-copy\n",
      "  bbb_shapes.geometry = gpd.GeoSeries.from_wkb(bbb_shapes.geometry)\n"
     ]
    },
    {
     "name": "stdout",
     "output_type": "stream",
     "text": [
      "(160, 2)\n",
      "2023-04-13\n"
     ]
    },
    {
     "name": "stderr",
     "output_type": "stream",
     "text": [
      "/tmp/ipykernel_378/1351526470.py:4: SettingWithCopyWarning: \n",
      "A value is trying to be set on a copy of a slice from a DataFrame.\n",
      "Try using .loc[row_indexer,col_indexer] = value instead\n",
      "\n",
      "See the caveats in the documentation: https://pandas.pydata.org/pandas-docs/stable/user_guide/indexing.html#returning-a-view-versus-a-copy\n",
      "  bbb_shapes.geometry = gpd.GeoSeries.from_wkb(bbb_shapes.geometry)\n"
     ]
    },
    {
     "name": "stdout",
     "output_type": "stream",
     "text": [
      "(146, 2)\n",
      "2023-04-14\n"
     ]
    },
    {
     "name": "stderr",
     "output_type": "stream",
     "text": [
      "/tmp/ipykernel_378/1351526470.py:4: SettingWithCopyWarning: \n",
      "A value is trying to be set on a copy of a slice from a DataFrame.\n",
      "Try using .loc[row_indexer,col_indexer] = value instead\n",
      "\n",
      "See the caveats in the documentation: https://pandas.pydata.org/pandas-docs/stable/user_guide/indexing.html#returning-a-view-versus-a-copy\n",
      "  bbb_shapes.geometry = gpd.GeoSeries.from_wkb(bbb_shapes.geometry)\n"
     ]
    },
    {
     "name": "stdout",
     "output_type": "stream",
     "text": [
      "(155, 2)\n",
      "2023-04-15\n"
     ]
    },
    {
     "name": "stderr",
     "output_type": "stream",
     "text": [
      "/tmp/ipykernel_378/1351526470.py:4: SettingWithCopyWarning: \n",
      "A value is trying to be set on a copy of a slice from a DataFrame.\n",
      "Try using .loc[row_indexer,col_indexer] = value instead\n",
      "\n",
      "See the caveats in the documentation: https://pandas.pydata.org/pandas-docs/stable/user_guide/indexing.html#returning-a-view-versus-a-copy\n",
      "  bbb_shapes.geometry = gpd.GeoSeries.from_wkb(bbb_shapes.geometry)\n"
     ]
    },
    {
     "name": "stdout",
     "output_type": "stream",
     "text": [
      "(125, 2)\n",
      "2023-04-16\n"
     ]
    },
    {
     "name": "stderr",
     "output_type": "stream",
     "text": [
      "/tmp/ipykernel_378/1351526470.py:4: SettingWithCopyWarning: \n",
      "A value is trying to be set on a copy of a slice from a DataFrame.\n",
      "Try using .loc[row_indexer,col_indexer] = value instead\n",
      "\n",
      "See the caveats in the documentation: https://pandas.pydata.org/pandas-docs/stable/user_guide/indexing.html#returning-a-view-versus-a-copy\n",
      "  bbb_shapes.geometry = gpd.GeoSeries.from_wkb(bbb_shapes.geometry)\n"
     ]
    },
    {
     "name": "stdout",
     "output_type": "stream",
     "text": [
      "(129, 2)\n",
      "2023-05-17\n"
     ]
    },
    {
     "name": "stderr",
     "output_type": "stream",
     "text": [
      "/tmp/ipykernel_378/1351526470.py:4: SettingWithCopyWarning: \n",
      "A value is trying to be set on a copy of a slice from a DataFrame.\n",
      "Try using .loc[row_indexer,col_indexer] = value instead\n",
      "\n",
      "See the caveats in the documentation: https://pandas.pydata.org/pandas-docs/stable/user_guide/indexing.html#returning-a-view-versus-a-copy\n",
      "  bbb_shapes.geometry = gpd.GeoSeries.from_wkb(bbb_shapes.geometry)\n"
     ]
    },
    {
     "name": "stdout",
     "output_type": "stream",
     "text": [
      "(144, 2)\n",
      "2023-06-14\n"
     ]
    },
    {
     "name": "stderr",
     "output_type": "stream",
     "text": [
      "/tmp/ipykernel_378/1351526470.py:4: SettingWithCopyWarning: \n",
      "A value is trying to be set on a copy of a slice from a DataFrame.\n",
      "Try using .loc[row_indexer,col_indexer] = value instead\n",
      "\n",
      "See the caveats in the documentation: https://pandas.pydata.org/pandas-docs/stable/user_guide/indexing.html#returning-a-view-versus-a-copy\n",
      "  bbb_shapes.geometry = gpd.GeoSeries.from_wkb(bbb_shapes.geometry)\n"
     ]
    },
    {
     "name": "stdout",
     "output_type": "stream",
     "text": [
      "(144, 2)\n",
      "2023-07-12\n"
     ]
    },
    {
     "name": "stderr",
     "output_type": "stream",
     "text": [
      "/tmp/ipykernel_378/1351526470.py:4: SettingWithCopyWarning: \n",
      "A value is trying to be set on a copy of a slice from a DataFrame.\n",
      "Try using .loc[row_indexer,col_indexer] = value instead\n",
      "\n",
      "See the caveats in the documentation: https://pandas.pydata.org/pandas-docs/stable/user_guide/indexing.html#returning-a-view-versus-a-copy\n",
      "  bbb_shapes.geometry = gpd.GeoSeries.from_wkb(bbb_shapes.geometry)\n"
     ]
    },
    {
     "name": "stdout",
     "output_type": "stream",
     "text": [
      "(162, 2)\n",
      "2023-08-15\n"
     ]
    },
    {
     "name": "stderr",
     "output_type": "stream",
     "text": [
      "/tmp/ipykernel_378/1351526470.py:4: SettingWithCopyWarning: \n",
      "A value is trying to be set on a copy of a slice from a DataFrame.\n",
      "Try using .loc[row_indexer,col_indexer] = value instead\n",
      "\n",
      "See the caveats in the documentation: https://pandas.pydata.org/pandas-docs/stable/user_guide/indexing.html#returning-a-view-versus-a-copy\n",
      "  bbb_shapes.geometry = gpd.GeoSeries.from_wkb(bbb_shapes.geometry)\n"
     ]
    },
    {
     "name": "stdout",
     "output_type": "stream",
     "text": [
      "(160, 2)\n",
      "2023-08-23\n",
      "failed for 2023-08-23\n",
      "2023-09-13\n"
     ]
    },
    {
     "name": "stderr",
     "output_type": "stream",
     "text": [
      "/tmp/ipykernel_378/1351526470.py:4: SettingWithCopyWarning: \n",
      "A value is trying to be set on a copy of a slice from a DataFrame.\n",
      "Try using .loc[row_indexer,col_indexer] = value instead\n",
      "\n",
      "See the caveats in the documentation: https://pandas.pydata.org/pandas-docs/stable/user_guide/indexing.html#returning-a-view-versus-a-copy\n",
      "  bbb_shapes.geometry = gpd.GeoSeries.from_wkb(bbb_shapes.geometry)\n"
     ]
    },
    {
     "name": "stdout",
     "output_type": "stream",
     "text": [
      "(147, 2)\n",
      "2023-10-09\n"
     ]
    },
    {
     "name": "stderr",
     "output_type": "stream",
     "text": [
      "/tmp/ipykernel_378/1351526470.py:4: SettingWithCopyWarning: \n",
      "A value is trying to be set on a copy of a slice from a DataFrame.\n",
      "Try using .loc[row_indexer,col_indexer] = value instead\n",
      "\n",
      "See the caveats in the documentation: https://pandas.pydata.org/pandas-docs/stable/user_guide/indexing.html#returning-a-view-versus-a-copy\n",
      "  bbb_shapes.geometry = gpd.GeoSeries.from_wkb(bbb_shapes.geometry)\n"
     ]
    },
    {
     "name": "stdout",
     "output_type": "stream",
     "text": [
      "(148, 2)\n",
      "2023-10-10\n"
     ]
    },
    {
     "name": "stderr",
     "output_type": "stream",
     "text": [
      "/tmp/ipykernel_378/1351526470.py:4: SettingWithCopyWarning: \n",
      "A value is trying to be set on a copy of a slice from a DataFrame.\n",
      "Try using .loc[row_indexer,col_indexer] = value instead\n",
      "\n",
      "See the caveats in the documentation: https://pandas.pydata.org/pandas-docs/stable/user_guide/indexing.html#returning-a-view-versus-a-copy\n",
      "  bbb_shapes.geometry = gpd.GeoSeries.from_wkb(bbb_shapes.geometry)\n"
     ]
    },
    {
     "name": "stdout",
     "output_type": "stream",
     "text": [
      "(153, 2)\n",
      "2023-10-11\n"
     ]
    },
    {
     "name": "stderr",
     "output_type": "stream",
     "text": [
      "/tmp/ipykernel_378/1351526470.py:4: SettingWithCopyWarning: \n",
      "A value is trying to be set on a copy of a slice from a DataFrame.\n",
      "Try using .loc[row_indexer,col_indexer] = value instead\n",
      "\n",
      "See the caveats in the documentation: https://pandas.pydata.org/pandas-docs/stable/user_guide/indexing.html#returning-a-view-versus-a-copy\n",
      "  bbb_shapes.geometry = gpd.GeoSeries.from_wkb(bbb_shapes.geometry)\n"
     ]
    },
    {
     "name": "stdout",
     "output_type": "stream",
     "text": [
      "(157, 2)\n",
      "2023-10-12\n"
     ]
    },
    {
     "name": "stderr",
     "output_type": "stream",
     "text": [
      "/tmp/ipykernel_378/1351526470.py:4: SettingWithCopyWarning: \n",
      "A value is trying to be set on a copy of a slice from a DataFrame.\n",
      "Try using .loc[row_indexer,col_indexer] = value instead\n",
      "\n",
      "See the caveats in the documentation: https://pandas.pydata.org/pandas-docs/stable/user_guide/indexing.html#returning-a-view-versus-a-copy\n",
      "  bbb_shapes.geometry = gpd.GeoSeries.from_wkb(bbb_shapes.geometry)\n"
     ]
    },
    {
     "name": "stdout",
     "output_type": "stream",
     "text": [
      "(152, 2)\n",
      "2023-10-13\n"
     ]
    },
    {
     "name": "stderr",
     "output_type": "stream",
     "text": [
      "/tmp/ipykernel_378/1351526470.py:4: SettingWithCopyWarning: \n",
      "A value is trying to be set on a copy of a slice from a DataFrame.\n",
      "Try using .loc[row_indexer,col_indexer] = value instead\n",
      "\n",
      "See the caveats in the documentation: https://pandas.pydata.org/pandas-docs/stable/user_guide/indexing.html#returning-a-view-versus-a-copy\n",
      "  bbb_shapes.geometry = gpd.GeoSeries.from_wkb(bbb_shapes.geometry)\n"
     ]
    },
    {
     "name": "stdout",
     "output_type": "stream",
     "text": [
      "(150, 2)\n",
      "2023-10-14\n"
     ]
    },
    {
     "name": "stderr",
     "output_type": "stream",
     "text": [
      "/tmp/ipykernel_378/1351526470.py:4: SettingWithCopyWarning: \n",
      "A value is trying to be set on a copy of a slice from a DataFrame.\n",
      "Try using .loc[row_indexer,col_indexer] = value instead\n",
      "\n",
      "See the caveats in the documentation: https://pandas.pydata.org/pandas-docs/stable/user_guide/indexing.html#returning-a-view-versus-a-copy\n",
      "  bbb_shapes.geometry = gpd.GeoSeries.from_wkb(bbb_shapes.geometry)\n"
     ]
    },
    {
     "name": "stdout",
     "output_type": "stream",
     "text": [
      "(129, 2)\n",
      "2023-10-15\n"
     ]
    },
    {
     "name": "stderr",
     "output_type": "stream",
     "text": [
      "/tmp/ipykernel_378/1351526470.py:4: SettingWithCopyWarning: \n",
      "A value is trying to be set on a copy of a slice from a DataFrame.\n",
      "Try using .loc[row_indexer,col_indexer] = value instead\n",
      "\n",
      "See the caveats in the documentation: https://pandas.pydata.org/pandas-docs/stable/user_guide/indexing.html#returning-a-view-versus-a-copy\n",
      "  bbb_shapes.geometry = gpd.GeoSeries.from_wkb(bbb_shapes.geometry)\n"
     ]
    },
    {
     "name": "stdout",
     "output_type": "stream",
     "text": [
      "(129, 2)\n",
      "2023-11-15\n"
     ]
    },
    {
     "name": "stderr",
     "output_type": "stream",
     "text": [
      "/tmp/ipykernel_378/1351526470.py:4: SettingWithCopyWarning: \n",
      "A value is trying to be set on a copy of a slice from a DataFrame.\n",
      "Try using .loc[row_indexer,col_indexer] = value instead\n",
      "\n",
      "See the caveats in the documentation: https://pandas.pydata.org/pandas-docs/stable/user_guide/indexing.html#returning-a-view-versus-a-copy\n",
      "  bbb_shapes.geometry = gpd.GeoSeries.from_wkb(bbb_shapes.geometry)\n"
     ]
    },
    {
     "name": "stdout",
     "output_type": "stream",
     "text": [
      "(151, 2)\n",
      "2023-12-13\n"
     ]
    },
    {
     "name": "stderr",
     "output_type": "stream",
     "text": [
      "/tmp/ipykernel_378/1351526470.py:4: SettingWithCopyWarning: \n",
      "A value is trying to be set on a copy of a slice from a DataFrame.\n",
      "Try using .loc[row_indexer,col_indexer] = value instead\n",
      "\n",
      "See the caveats in the documentation: https://pandas.pydata.org/pandas-docs/stable/user_guide/indexing.html#returning-a-view-versus-a-copy\n",
      "  bbb_shapes.geometry = gpd.GeoSeries.from_wkb(bbb_shapes.geometry)\n"
     ]
    },
    {
     "name": "stdout",
     "output_type": "stream",
     "text": [
      "(155, 2)\n",
      "2024-01-17\n"
     ]
    },
    {
     "name": "stderr",
     "output_type": "stream",
     "text": [
      "/tmp/ipykernel_378/1351526470.py:4: SettingWithCopyWarning: \n",
      "A value is trying to be set on a copy of a slice from a DataFrame.\n",
      "Try using .loc[row_indexer,col_indexer] = value instead\n",
      "\n",
      "See the caveats in the documentation: https://pandas.pydata.org/pandas-docs/stable/user_guide/indexing.html#returning-a-view-versus-a-copy\n",
      "  bbb_shapes.geometry = gpd.GeoSeries.from_wkb(bbb_shapes.geometry)\n"
     ]
    },
    {
     "name": "stdout",
     "output_type": "stream",
     "text": [
      "(144, 2)\n",
      "2024-02-14\n"
     ]
    },
    {
     "name": "stderr",
     "output_type": "stream",
     "text": [
      "/tmp/ipykernel_378/1351526470.py:4: SettingWithCopyWarning: \n",
      "A value is trying to be set on a copy of a slice from a DataFrame.\n",
      "Try using .loc[row_indexer,col_indexer] = value instead\n",
      "\n",
      "See the caveats in the documentation: https://pandas.pydata.org/pandas-docs/stable/user_guide/indexing.html#returning-a-view-versus-a-copy\n",
      "  bbb_shapes.geometry = gpd.GeoSeries.from_wkb(bbb_shapes.geometry)\n"
     ]
    },
    {
     "name": "stdout",
     "output_type": "stream",
     "text": [
      "(152, 2)\n",
      "2024-03-13\n"
     ]
    },
    {
     "name": "stderr",
     "output_type": "stream",
     "text": [
      "/tmp/ipykernel_378/1351526470.py:4: SettingWithCopyWarning: \n",
      "A value is trying to be set on a copy of a slice from a DataFrame.\n",
      "Try using .loc[row_indexer,col_indexer] = value instead\n",
      "\n",
      "See the caveats in the documentation: https://pandas.pydata.org/pandas-docs/stable/user_guide/indexing.html#returning-a-view-versus-a-copy\n",
      "  bbb_shapes.geometry = gpd.GeoSeries.from_wkb(bbb_shapes.geometry)\n"
     ]
    },
    {
     "name": "stdout",
     "output_type": "stream",
     "text": [
      "(153, 2)\n",
      "2024-04-15\n"
     ]
    },
    {
     "name": "stderr",
     "output_type": "stream",
     "text": [
      "/tmp/ipykernel_378/1351526470.py:4: SettingWithCopyWarning: \n",
      "A value is trying to be set on a copy of a slice from a DataFrame.\n",
      "Try using .loc[row_indexer,col_indexer] = value instead\n",
      "\n",
      "See the caveats in the documentation: https://pandas.pydata.org/pandas-docs/stable/user_guide/indexing.html#returning-a-view-versus-a-copy\n",
      "  bbb_shapes.geometry = gpd.GeoSeries.from_wkb(bbb_shapes.geometry)\n"
     ]
    },
    {
     "name": "stdout",
     "output_type": "stream",
     "text": [
      "(158, 2)\n",
      "2024-04-16\n"
     ]
    },
    {
     "name": "stderr",
     "output_type": "stream",
     "text": [
      "/tmp/ipykernel_378/1351526470.py:4: SettingWithCopyWarning: \n",
      "A value is trying to be set on a copy of a slice from a DataFrame.\n",
      "Try using .loc[row_indexer,col_indexer] = value instead\n",
      "\n",
      "See the caveats in the documentation: https://pandas.pydata.org/pandas-docs/stable/user_guide/indexing.html#returning-a-view-versus-a-copy\n",
      "  bbb_shapes.geometry = gpd.GeoSeries.from_wkb(bbb_shapes.geometry)\n"
     ]
    },
    {
     "name": "stdout",
     "output_type": "stream",
     "text": [
      "(137, 2)\n",
      "2024-04-17\n"
     ]
    },
    {
     "name": "stderr",
     "output_type": "stream",
     "text": [
      "/tmp/ipykernel_378/1351526470.py:4: SettingWithCopyWarning: \n",
      "A value is trying to be set on a copy of a slice from a DataFrame.\n",
      "Try using .loc[row_indexer,col_indexer] = value instead\n",
      "\n",
      "See the caveats in the documentation: https://pandas.pydata.org/pandas-docs/stable/user_guide/indexing.html#returning-a-view-versus-a-copy\n",
      "  bbb_shapes.geometry = gpd.GeoSeries.from_wkb(bbb_shapes.geometry)\n"
     ]
    },
    {
     "name": "stdout",
     "output_type": "stream",
     "text": [
      "(134, 2)\n",
      "2024-04-18\n"
     ]
    },
    {
     "name": "stderr",
     "output_type": "stream",
     "text": [
      "/tmp/ipykernel_378/1351526470.py:4: SettingWithCopyWarning: \n",
      "A value is trying to be set on a copy of a slice from a DataFrame.\n",
      "Try using .loc[row_indexer,col_indexer] = value instead\n",
      "\n",
      "See the caveats in the documentation: https://pandas.pydata.org/pandas-docs/stable/user_guide/indexing.html#returning-a-view-versus-a-copy\n",
      "  bbb_shapes.geometry = gpd.GeoSeries.from_wkb(bbb_shapes.geometry)\n"
     ]
    },
    {
     "name": "stdout",
     "output_type": "stream",
     "text": [
      "(74, 2)\n",
      "2024-04-19\n"
     ]
    },
    {
     "name": "stderr",
     "output_type": "stream",
     "text": [
      "/tmp/ipykernel_378/1351526470.py:4: SettingWithCopyWarning: \n",
      "A value is trying to be set on a copy of a slice from a DataFrame.\n",
      "Try using .loc[row_indexer,col_indexer] = value instead\n",
      "\n",
      "See the caveats in the documentation: https://pandas.pydata.org/pandas-docs/stable/user_guide/indexing.html#returning-a-view-versus-a-copy\n",
      "  bbb_shapes.geometry = gpd.GeoSeries.from_wkb(bbb_shapes.geometry)\n"
     ]
    },
    {
     "name": "stdout",
     "output_type": "stream",
     "text": [
      "(123, 2)\n",
      "2024-04-20\n"
     ]
    },
    {
     "name": "stderr",
     "output_type": "stream",
     "text": [
      "/tmp/ipykernel_378/1351526470.py:4: SettingWithCopyWarning: \n",
      "A value is trying to be set on a copy of a slice from a DataFrame.\n",
      "Try using .loc[row_indexer,col_indexer] = value instead\n",
      "\n",
      "See the caveats in the documentation: https://pandas.pydata.org/pandas-docs/stable/user_guide/indexing.html#returning-a-view-versus-a-copy\n",
      "  bbb_shapes.geometry = gpd.GeoSeries.from_wkb(bbb_shapes.geometry)\n"
     ]
    },
    {
     "name": "stdout",
     "output_type": "stream",
     "text": [
      "(120, 2)\n",
      "2024-04-21\n"
     ]
    },
    {
     "name": "stderr",
     "output_type": "stream",
     "text": [
      "/tmp/ipykernel_378/1351526470.py:4: SettingWithCopyWarning: \n",
      "A value is trying to be set on a copy of a slice from a DataFrame.\n",
      "Try using .loc[row_indexer,col_indexer] = value instead\n",
      "\n",
      "See the caveats in the documentation: https://pandas.pydata.org/pandas-docs/stable/user_guide/indexing.html#returning-a-view-versus-a-copy\n",
      "  bbb_shapes.geometry = gpd.GeoSeries.from_wkb(bbb_shapes.geometry)\n"
     ]
    },
    {
     "name": "stdout",
     "output_type": "stream",
     "text": [
      "(107, 2)\n"
     ]
    }
   ],
   "source": [
    "lincoln_delay_df = compile_lincoln_delays()"
   ]
  },
  {
   "cell_type": "code",
   "execution_count": 24,
   "id": "67672eb2-c32a-4fb6-bcf8-f5a22e033694",
   "metadata": {},
   "outputs": [],
   "source": [
    "lincoln_delay_df = lincoln_delay_df >> filter(_.vp_pct_sched > .8)"
   ]
  },
  {
   "cell_type": "code",
   "execution_count": 25,
   "id": "d287b3e2-5a74-4af8-bfe0-7bbad52c873f",
   "metadata": {},
   "outputs": [],
   "source": [
    "lincoln_delay_df['delay_per_trip'] = lincoln_delay_df.delay_minutes / lincoln_delay_df.vp_trip_count"
   ]
  },
  {
   "cell_type": "code",
   "execution_count": 26,
   "id": "6ce14cf9-f3a9-42c8-bd71-3588273c9004",
   "metadata": {},
   "outputs": [],
   "source": [
    "lincoln_delay_df = lincoln_delay_df >> filter(-_.weekday.isin(['Sat', 'Sun', 'Mon', 'Fri']))"
   ]
  },
  {
   "cell_type": "code",
   "execution_count": 27,
   "id": "a97ebb64-510e-464b-97bc-4e9d769d5fbe",
   "metadata": {},
   "outputs": [
    {
     "data": {
      "text/html": [
       "<div>\n",
       "<style scoped>\n",
       "    .dataframe tbody tr th:only-of-type {\n",
       "        vertical-align: middle;\n",
       "    }\n",
       "\n",
       "    .dataframe tbody tr th {\n",
       "        vertical-align: top;\n",
       "    }\n",
       "\n",
       "    .dataframe thead th {\n",
       "        text-align: right;\n",
       "    }\n",
       "</style>\n",
       "<table border=\"1\" class=\"dataframe\">\n",
       "  <thead>\n",
       "    <tr style=\"text-align: right;\">\n",
       "      <th></th>\n",
       "      <th>date_str</th>\n",
       "      <th>delay_minutes</th>\n",
       "      <th>vp_trip_count</th>\n",
       "      <th>vp_pct_sched</th>\n",
       "      <th>date</th>\n",
       "      <th>weekday</th>\n",
       "      <th>delay_per_trip</th>\n",
       "    </tr>\n",
       "  </thead>\n",
       "  <tbody>\n",
       "    <tr>\n",
       "      <th>0</th>\n",
       "      <td>2022-09-21</td>\n",
       "      <td>1414.623417</td>\n",
       "      <td>182</td>\n",
       "      <td>0.928571</td>\n",
       "      <td>2022-09-21</td>\n",
       "      <td>Wed</td>\n",
       "      <td>7.772656</td>\n",
       "    </tr>\n",
       "    <tr>\n",
       "      <th>1</th>\n",
       "      <td>2023-03-15</td>\n",
       "      <td>1237.075534</td>\n",
       "      <td>156</td>\n",
       "      <td>0.962963</td>\n",
       "      <td>2023-03-15</td>\n",
       "      <td>Wed</td>\n",
       "      <td>7.929971</td>\n",
       "    </tr>\n",
       "    <tr>\n",
       "      <th>3</th>\n",
       "      <td>2023-04-11</td>\n",
       "      <td>1254.466843</td>\n",
       "      <td>145</td>\n",
       "      <td>0.895062</td>\n",
       "      <td>2023-04-11</td>\n",
       "      <td>Tue</td>\n",
       "      <td>8.651495</td>\n",
       "    </tr>\n",
       "    <tr>\n",
       "      <th>4</th>\n",
       "      <td>2023-04-12</td>\n",
       "      <td>1234.140576</td>\n",
       "      <td>160</td>\n",
       "      <td>0.987654</td>\n",
       "      <td>2023-04-12</td>\n",
       "      <td>Wed</td>\n",
       "      <td>7.713379</td>\n",
       "    </tr>\n",
       "    <tr>\n",
       "      <th>5</th>\n",
       "      <td>2023-04-13</td>\n",
       "      <td>1090.717845</td>\n",
       "      <td>146</td>\n",
       "      <td>0.901235</td>\n",
       "      <td>2023-04-13</td>\n",
       "      <td>Thu</td>\n",
       "      <td>7.470670</td>\n",
       "    </tr>\n",
       "    <tr>\n",
       "      <th>9</th>\n",
       "      <td>2023-05-17</td>\n",
       "      <td>1276.081033</td>\n",
       "      <td>144</td>\n",
       "      <td>0.888889</td>\n",
       "      <td>2023-05-17</td>\n",
       "      <td>Wed</td>\n",
       "      <td>8.861674</td>\n",
       "    </tr>\n",
       "    <tr>\n",
       "      <th>10</th>\n",
       "      <td>2023-06-14</td>\n",
       "      <td>1206.520870</td>\n",
       "      <td>144</td>\n",
       "      <td>0.888889</td>\n",
       "      <td>2023-06-14</td>\n",
       "      <td>Wed</td>\n",
       "      <td>8.378617</td>\n",
       "    </tr>\n",
       "    <tr>\n",
       "      <th>11</th>\n",
       "      <td>2023-07-12</td>\n",
       "      <td>1302.071853</td>\n",
       "      <td>162</td>\n",
       "      <td>1.000000</td>\n",
       "      <td>2023-07-12</td>\n",
       "      <td>Wed</td>\n",
       "      <td>8.037481</td>\n",
       "    </tr>\n",
       "    <tr>\n",
       "      <th>12</th>\n",
       "      <td>2023-08-15</td>\n",
       "      <td>1508.928380</td>\n",
       "      <td>160</td>\n",
       "      <td>0.987654</td>\n",
       "      <td>2023-08-15</td>\n",
       "      <td>Tue</td>\n",
       "      <td>9.430802</td>\n",
       "    </tr>\n",
       "    <tr>\n",
       "      <th>13</th>\n",
       "      <td>2023-09-13</td>\n",
       "      <td>1297.524248</td>\n",
       "      <td>147</td>\n",
       "      <td>0.907407</td>\n",
       "      <td>2023-09-13</td>\n",
       "      <td>Wed</td>\n",
       "      <td>8.826696</td>\n",
       "    </tr>\n",
       "    <tr>\n",
       "      <th>15</th>\n",
       "      <td>2023-10-10</td>\n",
       "      <td>1359.071956</td>\n",
       "      <td>153</td>\n",
       "      <td>0.944444</td>\n",
       "      <td>2023-10-10</td>\n",
       "      <td>Tue</td>\n",
       "      <td>8.882823</td>\n",
       "    </tr>\n",
       "    <tr>\n",
       "      <th>16</th>\n",
       "      <td>2023-10-11</td>\n",
       "      <td>1464.614726</td>\n",
       "      <td>157</td>\n",
       "      <td>0.969136</td>\n",
       "      <td>2023-10-11</td>\n",
       "      <td>Wed</td>\n",
       "      <td>9.328756</td>\n",
       "    </tr>\n",
       "    <tr>\n",
       "      <th>17</th>\n",
       "      <td>2023-10-12</td>\n",
       "      <td>1611.452983</td>\n",
       "      <td>152</td>\n",
       "      <td>0.938272</td>\n",
       "      <td>2023-10-12</td>\n",
       "      <td>Thu</td>\n",
       "      <td>10.601664</td>\n",
       "    </tr>\n",
       "    <tr>\n",
       "      <th>21</th>\n",
       "      <td>2023-11-15</td>\n",
       "      <td>1301.165227</td>\n",
       "      <td>151</td>\n",
       "      <td>0.932099</td>\n",
       "      <td>2023-11-15</td>\n",
       "      <td>Wed</td>\n",
       "      <td>8.616988</td>\n",
       "    </tr>\n",
       "    <tr>\n",
       "      <th>22</th>\n",
       "      <td>2023-12-13</td>\n",
       "      <td>1470.997299</td>\n",
       "      <td>155</td>\n",
       "      <td>0.956790</td>\n",
       "      <td>2023-12-13</td>\n",
       "      <td>Wed</td>\n",
       "      <td>9.490305</td>\n",
       "    </tr>\n",
       "    <tr>\n",
       "      <th>23</th>\n",
       "      <td>2024-01-17</td>\n",
       "      <td>1283.328812</td>\n",
       "      <td>144</td>\n",
       "      <td>0.888889</td>\n",
       "      <td>2024-01-17</td>\n",
       "      <td>Wed</td>\n",
       "      <td>8.912006</td>\n",
       "    </tr>\n",
       "    <tr>\n",
       "      <th>24</th>\n",
       "      <td>2024-02-14</td>\n",
       "      <td>2099.086901</td>\n",
       "      <td>152</td>\n",
       "      <td>0.938272</td>\n",
       "      <td>2024-02-14</td>\n",
       "      <td>Wed</td>\n",
       "      <td>13.809782</td>\n",
       "    </tr>\n",
       "    <tr>\n",
       "      <th>25</th>\n",
       "      <td>2024-03-13</td>\n",
       "      <td>1629.335092</td>\n",
       "      <td>153</td>\n",
       "      <td>0.944444</td>\n",
       "      <td>2024-03-13</td>\n",
       "      <td>Wed</td>\n",
       "      <td>10.649249</td>\n",
       "    </tr>\n",
       "    <tr>\n",
       "      <th>27</th>\n",
       "      <td>2024-04-16</td>\n",
       "      <td>1586.754687</td>\n",
       "      <td>137</td>\n",
       "      <td>0.845679</td>\n",
       "      <td>2024-04-16</td>\n",
       "      <td>Tue</td>\n",
       "      <td>11.582151</td>\n",
       "    </tr>\n",
       "    <tr>\n",
       "      <th>28</th>\n",
       "      <td>2024-04-17</td>\n",
       "      <td>1252.278926</td>\n",
       "      <td>134</td>\n",
       "      <td>0.827160</td>\n",
       "      <td>2024-04-17</td>\n",
       "      <td>Wed</td>\n",
       "      <td>9.345365</td>\n",
       "    </tr>\n",
       "  </tbody>\n",
       "</table>\n",
       "</div>"
      ],
      "text/plain": [
       "      date_str  delay_minutes  vp_trip_count  vp_pct_sched        date  \\\n",
       "0   2022-09-21    1414.623417            182      0.928571  2022-09-21   \n",
       "1   2023-03-15    1237.075534            156      0.962963  2023-03-15   \n",
       "3   2023-04-11    1254.466843            145      0.895062  2023-04-11   \n",
       "4   2023-04-12    1234.140576            160      0.987654  2023-04-12   \n",
       "5   2023-04-13    1090.717845            146      0.901235  2023-04-13   \n",
       "9   2023-05-17    1276.081033            144      0.888889  2023-05-17   \n",
       "10  2023-06-14    1206.520870            144      0.888889  2023-06-14   \n",
       "11  2023-07-12    1302.071853            162      1.000000  2023-07-12   \n",
       "12  2023-08-15    1508.928380            160      0.987654  2023-08-15   \n",
       "13  2023-09-13    1297.524248            147      0.907407  2023-09-13   \n",
       "15  2023-10-10    1359.071956            153      0.944444  2023-10-10   \n",
       "16  2023-10-11    1464.614726            157      0.969136  2023-10-11   \n",
       "17  2023-10-12    1611.452983            152      0.938272  2023-10-12   \n",
       "21  2023-11-15    1301.165227            151      0.932099  2023-11-15   \n",
       "22  2023-12-13    1470.997299            155      0.956790  2023-12-13   \n",
       "23  2024-01-17    1283.328812            144      0.888889  2024-01-17   \n",
       "24  2024-02-14    2099.086901            152      0.938272  2024-02-14   \n",
       "25  2024-03-13    1629.335092            153      0.944444  2024-03-13   \n",
       "27  2024-04-16    1586.754687            137      0.845679  2024-04-16   \n",
       "28  2024-04-17    1252.278926            134      0.827160  2024-04-17   \n",
       "\n",
       "   weekday  delay_per_trip  \n",
       "0      Wed        7.772656  \n",
       "1      Wed        7.929971  \n",
       "3      Tue        8.651495  \n",
       "4      Wed        7.713379  \n",
       "5      Thu        7.470670  \n",
       "9      Wed        8.861674  \n",
       "10     Wed        8.378617  \n",
       "11     Wed        8.037481  \n",
       "12     Tue        9.430802  \n",
       "13     Wed        8.826696  \n",
       "15     Tue        8.882823  \n",
       "16     Wed        9.328756  \n",
       "17     Thu       10.601664  \n",
       "21     Wed        8.616988  \n",
       "22     Wed        9.490305  \n",
       "23     Wed        8.912006  \n",
       "24     Wed       13.809782  \n",
       "25     Wed       10.649249  \n",
       "27     Tue       11.582151  \n",
       "28     Wed        9.345365  "
      ]
     },
     "execution_count": 27,
     "metadata": {},
     "output_type": "execute_result"
    }
   ],
   "source": [
    "lincoln_delay_df"
   ]
  },
  {
   "cell_type": "code",
   "execution_count": 28,
   "id": "b1e0e029-0248-4d54-b5a8-b99f66e92b86",
   "metadata": {},
   "outputs": [],
   "source": [
    "import altair as alt"
   ]
  },
  {
   "cell_type": "code",
   "execution_count": 29,
   "id": "f98c047d-046d-4bca-81a5-adbe54d7a6fa",
   "metadata": {},
   "outputs": [],
   "source": [
    "lincoln_delay_df.date = lincoln_delay_df.date.apply(lambda x: pd.Timestamp(x))"
   ]
  },
  {
   "cell_type": "code",
   "execution_count": 30,
   "id": "72b43f24-0eb6-4a7a-8291-afce2b64d7e1",
   "metadata": {},
   "outputs": [
    {
     "data": {
      "text/html": [
       "\n",
       "<style>\n",
       "  #altair-viz-81efa69b21234a11a6360f6e8de8c0db.vega-embed {\n",
       "    width: 100%;\n",
       "    display: flex;\n",
       "  }\n",
       "\n",
       "  #altair-viz-81efa69b21234a11a6360f6e8de8c0db.vega-embed details,\n",
       "  #altair-viz-81efa69b21234a11a6360f6e8de8c0db.vega-embed details summary {\n",
       "    position: relative;\n",
       "  }\n",
       "</style>\n",
       "<div id=\"altair-viz-81efa69b21234a11a6360f6e8de8c0db\"></div>\n",
       "<script type=\"text/javascript\">\n",
       "  var VEGA_DEBUG = (typeof VEGA_DEBUG == \"undefined\") ? {} : VEGA_DEBUG;\n",
       "  (function(spec, embedOpt){\n",
       "    let outputDiv = document.currentScript.previousElementSibling;\n",
       "    if (outputDiv.id !== \"altair-viz-81efa69b21234a11a6360f6e8de8c0db\") {\n",
       "      outputDiv = document.getElementById(\"altair-viz-81efa69b21234a11a6360f6e8de8c0db\");\n",
       "    }\n",
       "    const paths = {\n",
       "      \"vega\": \"https://cdn.jsdelivr.net/npm/vega@5?noext\",\n",
       "      \"vega-lib\": \"https://cdn.jsdelivr.net/npm/vega-lib?noext\",\n",
       "      \"vega-lite\": \"https://cdn.jsdelivr.net/npm/vega-lite@5.14.1?noext\",\n",
       "      \"vega-embed\": \"https://cdn.jsdelivr.net/npm/vega-embed@6?noext\",\n",
       "    };\n",
       "\n",
       "    function maybeLoadScript(lib, version) {\n",
       "      var key = `${lib.replace(\"-\", \"\")}_version`;\n",
       "      return (VEGA_DEBUG[key] == version) ?\n",
       "        Promise.resolve(paths[lib]) :\n",
       "        new Promise(function(resolve, reject) {\n",
       "          var s = document.createElement('script');\n",
       "          document.getElementsByTagName(\"head\")[0].appendChild(s);\n",
       "          s.async = true;\n",
       "          s.onload = () => {\n",
       "            VEGA_DEBUG[key] = version;\n",
       "            return resolve(paths[lib]);\n",
       "          };\n",
       "          s.onerror = () => reject(`Error loading script: ${paths[lib]}`);\n",
       "          s.src = paths[lib];\n",
       "        });\n",
       "    }\n",
       "\n",
       "    function showError(err) {\n",
       "      outputDiv.innerHTML = `<div class=\"error\" style=\"color:red;\">${err}</div>`;\n",
       "      throw err;\n",
       "    }\n",
       "\n",
       "    function displayChart(vegaEmbed) {\n",
       "      vegaEmbed(outputDiv, spec, embedOpt)\n",
       "        .catch(err => showError(`Javascript Error: ${err.message}<br>This usually means there's a typo in your chart specification. See the javascript console for the full traceback.`));\n",
       "    }\n",
       "\n",
       "    if(typeof define === \"function\" && define.amd) {\n",
       "      requirejs.config({paths});\n",
       "      require([\"vega-embed\"], displayChart, err => showError(`Error loading script: ${err.message}`));\n",
       "    } else {\n",
       "      maybeLoadScript(\"vega\", \"5\")\n",
       "        .then(() => maybeLoadScript(\"vega-lite\", \"5.14.1\"))\n",
       "        .then(() => maybeLoadScript(\"vega-embed\", \"6\"))\n",
       "        .catch(showError)\n",
       "        .then(() => displayChart(vegaEmbed));\n",
       "    }\n",
       "  })({\"config\": {\"view\": {\"continuousWidth\": 300, \"continuousHeight\": 300}}, \"layer\": [{\"mark\": {\"type\": \"point\"}, \"encoding\": {\"x\": {\"axis\": {\"format\": \"%b %Y\", \"title\": \"DATE\"}, \"field\": \"date\", \"type\": \"temporal\"}, \"y\": {\"field\": \"delay_per_trip\", \"type\": \"quantitative\"}}}, {\"mark\": {\"type\": \"line\"}, \"encoding\": {\"x\": {\"axis\": {\"format\": \"%b %Y\", \"title\": \"DATE\"}, \"field\": \"date\", \"type\": \"temporal\"}, \"y\": {\"field\": \"delay_per_trip\", \"type\": \"quantitative\"}}, \"transform\": [{\"on\": \"date\", \"regression\": \"delay_per_trip\"}]}], \"data\": {\"name\": \"data-2c5db0ab9250ea3676f566617fe88af6\"}, \"height\": 400, \"width\": 600, \"$schema\": \"https://vega.github.io/schema/vega-lite/v5.14.1.json\", \"datasets\": {\"data-2c5db0ab9250ea3676f566617fe88af6\": [{\"date_str\": \"2022-09-21\", \"delay_minutes\": 1414.6234172088684, \"vp_trip_count\": 182, \"vp_pct_sched\": 0.9285714285714286, \"date\": \"2022-09-21T00:00:00\", \"weekday\": \"Wed\", \"delay_per_trip\": 7.772656138510266}, {\"date_str\": \"2023-03-15\", \"delay_minutes\": 1237.075533576741, \"vp_trip_count\": 156, \"vp_pct_sched\": 0.9629629629629629, \"date\": \"2023-03-15T00:00:00\", \"weekday\": \"Wed\", \"delay_per_trip\": 7.929971369081673}, {\"date_str\": \"2023-04-11\", \"delay_minutes\": 1254.4668427657068, \"vp_trip_count\": 145, \"vp_pct_sched\": 0.8950617283950617, \"date\": \"2023-04-11T00:00:00\", \"weekday\": \"Tue\", \"delay_per_trip\": 8.651495467349703}, {\"date_str\": \"2023-04-12\", \"delay_minutes\": 1234.1405764543704, \"vp_trip_count\": 160, \"vp_pct_sched\": 0.9876543209876543, \"date\": \"2023-04-12T00:00:00\", \"weekday\": \"Wed\", \"delay_per_trip\": 7.713378602839815}, {\"date_str\": \"2023-04-13\", \"delay_minutes\": 1090.7178453913607, \"vp_trip_count\": 146, \"vp_pct_sched\": 0.9012345679012346, \"date\": \"2023-04-13T00:00:00\", \"weekday\": \"Thu\", \"delay_per_trip\": 7.47067017391343}, {\"date_str\": \"2023-05-17\", \"delay_minutes\": 1276.0810330301188, \"vp_trip_count\": 144, \"vp_pct_sched\": 0.8888888888888888, \"date\": \"2023-05-17T00:00:00\", \"weekday\": \"Wed\", \"delay_per_trip\": 8.861673840486937}, {\"date_str\": \"2023-06-14\", \"delay_minutes\": 1206.5208697742814, \"vp_trip_count\": 144, \"vp_pct_sched\": 0.8888888888888888, \"date\": \"2023-06-14T00:00:00\", \"weekday\": \"Wed\", \"delay_per_trip\": 8.378617151210287}, {\"date_str\": \"2023-07-12\", \"delay_minutes\": 1302.071852752319, \"vp_trip_count\": 162, \"vp_pct_sched\": 1.0, \"date\": \"2023-07-12T00:00:00\", \"weekday\": \"Wed\", \"delay_per_trip\": 8.03748057254518}, {\"date_str\": \"2023-08-15\", \"delay_minutes\": 1508.9283798337501, \"vp_trip_count\": 160, \"vp_pct_sched\": 0.9876543209876543, \"date\": \"2023-08-15T00:00:00\", \"weekday\": \"Tue\", \"delay_per_trip\": 9.430802373960939}, {\"date_str\": \"2023-09-13\", \"delay_minutes\": 1297.524247534606, \"vp_trip_count\": 147, \"vp_pct_sched\": 0.9074074074074074, \"date\": \"2023-09-13T00:00:00\", \"weekday\": \"Wed\", \"delay_per_trip\": 8.826695561459905}, {\"date_str\": \"2023-10-10\", \"delay_minutes\": 1359.0719561363799, \"vp_trip_count\": 153, \"vp_pct_sched\": 0.9444444444444444, \"date\": \"2023-10-10T00:00:00\", \"weekday\": \"Tue\", \"delay_per_trip\": 8.882823242721438}, {\"date_str\": \"2023-10-11\", \"delay_minutes\": 1464.6147261642452, \"vp_trip_count\": 157, \"vp_pct_sched\": 0.9691358024691358, \"date\": \"2023-10-11T00:00:00\", \"weekday\": \"Wed\", \"delay_per_trip\": 9.328756217606657}, {\"date_str\": \"2023-10-12\", \"delay_minutes\": 1611.4529833488036, \"vp_trip_count\": 152, \"vp_pct_sched\": 0.9382716049382716, \"date\": \"2023-10-12T00:00:00\", \"weekday\": \"Thu\", \"delay_per_trip\": 10.601664364136866}, {\"date_str\": \"2023-11-15\", \"delay_minutes\": 1301.1652274965018, \"vp_trip_count\": 151, \"vp_pct_sched\": 0.9320987654320988, \"date\": \"2023-11-15T00:00:00\", \"weekday\": \"Wed\", \"delay_per_trip\": 8.616988261566236}, {\"date_str\": \"2023-12-13\", \"delay_minutes\": 1470.9972994533223, \"vp_trip_count\": 155, \"vp_pct_sched\": 0.9567901234567902, \"date\": \"2023-12-13T00:00:00\", \"weekday\": \"Wed\", \"delay_per_trip\": 9.49030515776337}, {\"date_str\": \"2024-01-17\", \"delay_minutes\": 1283.3288121859118, \"vp_trip_count\": 144, \"vp_pct_sched\": 0.8888888888888888, \"date\": \"2024-01-17T00:00:00\", \"weekday\": \"Wed\", \"delay_per_trip\": 8.912005640179943}, {\"date_str\": \"2024-02-14\", \"delay_minutes\": 2099.086901341062, \"vp_trip_count\": 152, \"vp_pct_sched\": 0.9382716049382716, \"date\": \"2024-02-14T00:00:00\", \"weekday\": \"Wed\", \"delay_per_trip\": 13.809782245664882}, {\"date_str\": \"2024-03-13\", \"delay_minutes\": 1629.3350916921393, \"vp_trip_count\": 153, \"vp_pct_sched\": 0.9444444444444444, \"date\": \"2024-03-13T00:00:00\", \"weekday\": \"Wed\", \"delay_per_trip\": 10.6492489653081}, {\"date_str\": \"2024-04-16\", \"delay_minutes\": 1586.754687236507, \"vp_trip_count\": 137, \"vp_pct_sched\": 0.845679012345679, \"date\": \"2024-04-16T00:00:00\", \"weekday\": \"Tue\", \"delay_per_trip\": 11.582151001726327}, {\"date_str\": \"2024-04-17\", \"delay_minutes\": 1252.2789260160898, \"vp_trip_count\": 134, \"vp_pct_sched\": 0.8271604938271605, \"date\": \"2024-04-17T00:00:00\", \"weekday\": \"Wed\", \"delay_per_trip\": 9.34536511952306}]}}, {\"mode\": \"vega-lite\"});\n",
       "</script>"
      ],
      "text/plain": [
       "alt.LayerChart(...)"
      ]
     },
     "execution_count": 30,
     "metadata": {},
     "output_type": "execute_result"
    }
   ],
   "source": [
    "chart = alt.Chart(lincoln_delay_df).mark_point().encode(\n",
    "    x=alt.X('date:T', axis = alt.Axis(title = 'Date'.upper(), format = (\"%b %Y\"))),\n",
    "    y='delay_per_trip'\n",
    ").properties(width=600, height=400)\n",
    "\n",
    "chart + chart.transform_regression('date', 'delay_per_trip').mark_line()"
   ]
  },
  {
   "cell_type": "code",
   "execution_count": 31,
   "id": "e84ffd00-4e09-4bcf-854a-344e05e185aa",
   "metadata": {},
   "outputs": [],
   "source": [
    "lincoln_delay_df.to_csv('lincoln_delays_preliminary.csv')"
   ]
  },
  {
   "cell_type": "code",
   "execution_count": 32,
   "id": "404a8f09-c774-4661-ab34-a08d8b37b73a",
   "metadata": {},
   "outputs": [
    {
     "data": {
      "text/plain": [
       "0.25"
      ]
     },
     "execution_count": 32,
     "metadata": {},
     "output_type": "execute_result"
    }
   ],
   "source": [
    "(10 - 8) / 8"
   ]
  }
 ],
 "metadata": {
  "kernelspec": {
   "display_name": "Python 3 (ipykernel)",
   "language": "python",
   "name": "python3"
  },
  "language_info": {
   "codemirror_mode": {
    "name": "ipython",
    "version": 3
   },
   "file_extension": ".py",
   "mimetype": "text/x-python",
   "name": "python",
   "nbconvert_exporter": "python",
   "pygments_lexer": "ipython3",
   "version": "3.11.10"
  },
  "widgets": {
   "application/vnd.jupyter.widget-state+json": {
    "state": {},
    "version_major": 2,
    "version_minor": 0
   }
  }
 },
 "nbformat": 4,
 "nbformat_minor": 5
}
