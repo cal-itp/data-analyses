{
 "cells": [
  {
   "cell_type": "code",
   "execution_count": 1,
   "id": "b2f73daf-c437-402c-98df-4f45067a8860",
   "metadata": {},
   "outputs": [],
   "source": [
    "import pandas as pd\n",
    "import geopandas as gpd\n",
    "from siuba import *\n",
    "\n",
    "# from segment_speed_utils import gtfs_schedule_wrangling, helpers, segment_calcs,sched_rt_utils\n",
    "from segment_speed_utils.project_vars import (\n",
    "    COMPILED_CACHED_VIEWS,\n",
    "    PROJECT_CRS,\n",
    "    SEGMENT_GCS,\n",
    ")\n",
    "import datetime as dt"
   ]
  },
  {
   "cell_type": "code",
   "execution_count": 2,
   "id": "f15dae8c-b5fa-44b8-9bfa-08a4fd394b80",
   "metadata": {},
   "outputs": [],
   "source": [
    "import shared_utils"
   ]
  },
  {
   "cell_type": "code",
   "execution_count": 3,
   "id": "6cc9fd1e-4f77-4565-b6cd-6c3c236896a8",
   "metadata": {},
   "outputs": [],
   "source": [
    "from shared_utils.rt_utils import MPH_PER_MPS"
   ]
  },
  {
   "cell_type": "code",
   "execution_count": 4,
   "id": "1ddca7fa-e285-4b33-9fbd-931103bf611d",
   "metadata": {},
   "outputs": [],
   "source": [
    "target_mph = 16\n",
    "target_mps = target_mph / MPH_PER_MPS"
   ]
  },
  {
   "cell_type": "code",
   "execution_count": 5,
   "id": "f37e55ad-e78b-4b16-92ce-69e4cee78cdc",
   "metadata": {},
   "outputs": [
    {
     "data": {
      "text/plain": [
       "'gs://calitp-analytics-data/data-analyses/rt_segment_speeds/'"
      ]
     },
     "execution_count": 5,
     "metadata": {},
     "output_type": "execute_result"
    }
   ],
   "source": [
    "SEGMENT_GCS"
   ]
  },
  {
   "cell_type": "markdown",
   "id": "71fb697d-384f-4a18-9cd0-b3761bb0120a",
   "metadata": {},
   "source": [
    "# Lincoln Corridor Speed History\n",
    "\n",
    "* support D7 Lincoln Bus Lane Feasibility Study by illustrating worsening speeds and bus rider delay over the last few years\n",
    "* will refactor into a script pending speedmap segments work (goal is to align on those)"
   ]
  },
  {
   "cell_type": "code",
   "execution_count": 6,
   "id": "eda1f9c2-5423-4cb1-83d3-5c0c28906b4b",
   "metadata": {},
   "outputs": [],
   "source": [
    "# analysis_date = shared_utils.rt_dates.DATES['mar2023']\n",
    "analysis_date = shared_utils.rt_dates.DATES['sep2022a']"
   ]
  },
  {
   "cell_type": "code",
   "execution_count": 7,
   "id": "e3c1b211-811d-4eb5-be54-e1e15142dd77",
   "metadata": {},
   "outputs": [],
   "source": [
    "#  from Oct 12 22 RtFilterMapper run, handy to use as a clip geom too\n",
    "corr = gpd.read_parquet('../rt_delay/lincoln_oct12_old.parquet')"
   ]
  },
  {
   "cell_type": "code",
   "execution_count": 14,
   "id": "d85de3d9-c76b-4160-8823-ac94f9ceaac0",
   "metadata": {},
   "outputs": [],
   "source": [
    "feeds = shared_utils.gtfs_utils_v2.schedule_daily_feed_to_gtfs_dataset_name(analysis_date)"
   ]
  },
  {
   "cell_type": "code",
   "execution_count": 16,
   "id": "4b7131ae-456a-4540-b39c-91a62068729b",
   "metadata": {},
   "outputs": [],
   "source": [
    "def get_bbb_feed(analysis_date):\n",
    "\n",
    "    feeds = shared_utils.gtfs_utils_v2.schedule_daily_feed_to_gtfs_dataset_name(analysis_date)\n",
    "    bbb_feed = feeds >> filter(_.name.str.contains('Big Blue'))\n",
    "    return bbb_feed\n",
    "\n",
    "# bbb_dataset_key = bbb_feed.gtfs_dataset_key.iloc[0]\n",
    "# bbb_feed_key = bbb_feed.feed_key.iloc[0]"
   ]
  },
  {
   "cell_type": "code",
   "execution_count": 17,
   "id": "64b0b78e-83a7-4b82-b3f6-dda738660ceb",
   "metadata": {},
   "outputs": [],
   "source": [
    "# mar23 = pd.read_parquet(f'{SEGMENT_GCS}speeds_stop_segments_{analysis_date}.parquet')"
   ]
  },
  {
   "cell_type": "code",
   "execution_count": 18,
   "id": "a45d9ab9-c32b-409a-9b80-544f821131a0",
   "metadata": {},
   "outputs": [],
   "source": [
    "# mar23_shape = pd.read_parquet(f'{SEGMENT_GCS}segment_options/shape_stop_segments_{analysis_date}.parquet')"
   ]
  },
  {
   "cell_type": "code",
   "execution_count": 70,
   "id": "22d59ab3-0ae2-41a1-b256-66763aff4f8e",
   "metadata": {},
   "outputs": [],
   "source": [
    "def get_shapes(analysis_date, bbb_feed):\n",
    "    # shapes = pd.read_parquet(f'{SEGMENT_GCS}segment_options/shape_stop_segments_{analysis_date}.parquet')\n",
    "    shapes = pd.read_parquet(f'{SEGMENT_GCS}segment_options/speedmap_segments_{analysis_date}.parquet')\n",
    "    bbb_shapes = shapes >> filter(_.schedule_gtfs_dataset_key == bbb_feed.gtfs_dataset_key.iloc[0])\n",
    "    bbb_shapes.geometry = gpd.GeoSeries.from_wkb(bbb_shapes.geometry)\n",
    "    bbb_shapes = gpd.GeoDataFrame(bbb_shapes, geometry=bbb_shapes.geometry, crs=PROJECT_CRS)\n",
    "    return bbb_shapes"
   ]
  },
  {
   "cell_type": "code",
   "execution_count": 71,
   "id": "6ad19c7d-c18a-45c3-99ef-52ef9e2c02f3",
   "metadata": {},
   "outputs": [],
   "source": [
    "def get_speeds(analysis_date, bbb_feed):\n",
    "    # speeds = pd.read_parquet(f'{SEGMENT_GCS}speeds_stop_segments_{analysis_date}.parquet')\n",
    "    speeds = pd.read_parquet(f'{SEGMENT_GCS}speedmap/speeds_{analysis_date}.parquet')\n",
    "    bbb_speeds = (speeds >> filter(_.schedule_gtfs_dataset_key == bbb_feed.gtfs_dataset_key.iloc[0])\n",
    "                     >> select(_.speed_mph, _.meters_elapsed, _.sec_elapsed, _.trip_instance_key, _.stop_sequence)\n",
    "                 )\n",
    "    return bbb_speeds"
   ]
  },
  {
   "cell_type": "code",
   "execution_count": 72,
   "id": "5eba5115-02d0-40aa-ab74-22fccd51cfa4",
   "metadata": {},
   "outputs": [],
   "source": [
    "def lincoln_corridor_delay(analysis_date):\n",
    "    \n",
    "    # print(analysis_date)\n",
    "    bbb_feed = get_bbb_feed(analysis_date)\n",
    "    bbb_speeds = get_speeds(analysis_date, bbb_feed)\n",
    "    bbb_shapes = get_shapes(analysis_date, bbb_feed)\n",
    "    \n",
    "    lincoln_trips = shared_utils.gtfs_utils_v2.get_trips(selected_date=analysis_date,\n",
    "                                                 operator_feeds=[bbb_feed.feed_key.iloc[0]],\n",
    "                                                custom_filtering = {'route_short_name': ['3', 'R3']})\n",
    "    lincoln_trips = lincoln_trips >> select(_.trip_instance_key, _.route_short_name, _.trip_first_departure_ts)\n",
    "    sched_trip_count = lincoln_trips.shape[0]\n",
    "\n",
    "    lincoln_shapes = bbb_shapes >> inner_join(_, lincoln_trips, on = ['trip_instance_key'])\n",
    "\n",
    "    lincoln_shapes = lincoln_shapes >> inner_join(_, bbb_speeds, on=['trip_instance_key', 'stop_sequence'])\n",
    "    print((lincoln_shapes >> count(_.trip_instance_key)).shape)\n",
    "    assert not lincoln_shapes.empty\n",
    "    rt_trip_count = (lincoln_shapes >> count(_.trip_instance_key)).shape[0]\n",
    "    \n",
    "    lincoln_shapes['target_sec_elapsed'] = lincoln_shapes.meters_elapsed / target_mps\n",
    "    assert lincoln_shapes.crs == corr.crs\n",
    "    lincoln_clipped = gpd.clip(lincoln_shapes, corr)\n",
    "    lincoln_clipped['speed_delay'] = (lincoln_clipped.sec_elapsed - lincoln_clipped.target_sec_elapsed).clip(lower=0)\n",
    "    delay_minutes = lincoln_clipped.speed_delay.sum() / 60\n",
    "    \n",
    "    return (analysis_date, delay_minutes, rt_trip_count, rt_trip_count / sched_trip_count)"
   ]
  },
  {
   "cell_type": "code",
   "execution_count": 63,
   "id": "ffd6a06a-cc4e-4f56-b787-58d39a2314c5",
   "metadata": {},
   "outputs": [
    {
     "name": "stderr",
     "output_type": "stream",
     "text": [
      "/tmp/ipykernel_908/2986224776.py:5: SettingWithCopyWarning: \n",
      "A value is trying to be set on a copy of a slice from a DataFrame.\n",
      "Try using .loc[row_indexer,col_indexer] = value instead\n",
      "\n",
      "See the caveats in the documentation: https://pandas.pydata.org/pandas-docs/stable/user_guide/indexing.html#returning-a-view-versus-a-copy\n",
      "  bbb_shapes.geometry = gpd.GeoSeries.from_wkb(bbb_shapes.geometry)\n"
     ]
    },
    {
     "name": "stdout",
     "output_type": "stream",
     "text": [
      "(182, 2)\n"
     ]
    },
    {
     "data": {
      "text/plain": [
       "('2022-09-21', 1181.8942798723115, 182, 0.9285714285714286)"
      ]
     },
     "execution_count": 63,
     "metadata": {},
     "output_type": "execute_result"
    }
   ],
   "source": [
    "lincoln_corridor_delay(analysis_date)"
   ]
  },
  {
   "cell_type": "code",
   "execution_count": 73,
   "id": "9978173e-60a7-4c1c-8e2f-2b6407f4357e",
   "metadata": {},
   "outputs": [],
   "source": [
    "# corr.explore() #  limited to just Feasibility Study (Venice-Manchester)"
   ]
  },
  {
   "cell_type": "code",
   "execution_count": 65,
   "id": "b6bbb182-8c41-42b7-a7b0-3d8e3132dd85",
   "metadata": {},
   "outputs": [],
   "source": [
    "test = list(shared_utils.rt_dates.DATES.keys())[50:]"
   ]
  },
  {
   "cell_type": "code",
   "execution_count": 66,
   "id": "4c835aaf-2006-4ab7-8f1e-1fe543cc799e",
   "metadata": {},
   "outputs": [
    {
     "data": {
      "text/plain": [
       "['may2024', 'jun2024', 'jul2024']"
      ]
     },
     "execution_count": 66,
     "metadata": {},
     "output_type": "execute_result"
    }
   ],
   "source": [
    "test"
   ]
  },
  {
   "cell_type": "code",
   "execution_count": 67,
   "id": "d8a2f2ef-bb10-4f49-9467-f02c5373f601",
   "metadata": {
    "tags": []
   },
   "outputs": [],
   "source": [
    "def compile_lincoln_delays():\n",
    "    lincoln_delays = []\n",
    "    # for date in shared_utils.rt_dates.DATES.keys():\n",
    "    for date in test:\n",
    "        analysis_date = shared_utils.rt_dates.DATES[date]\n",
    "        print(analysis_date)\n",
    "        try:\n",
    "            lincoln_delays += [lincoln_corridor_delay(analysis_date)]\n",
    "        except:\n",
    "            print(f'failed for {analysis_date}')\n",
    "    # return lincoln_delays\n",
    "    lincoln_delay_df = pd.DataFrame(lincoln_delays,\n",
    "                                    columns=['date_str', 'delay_minutes', 'vp_trip_count',\n",
    "                                             'vp_pct_sched'])\n",
    "    lincoln_delay_df['date'] = lincoln_delay_df.date_str.apply(lambda x: dt.datetime.fromisoformat(x).date())\n",
    "    lincoln_delay_df['weekday'] = lincoln_delay_df.date.apply(lambda x: x.strftime('%a'))\n",
    "    # df = df >> filter(-_.weekday.isin(['Sat', 'Sun', 'Mon', 'Fri']))\n",
    "    return lincoln_delay_df"
   ]
  },
  {
   "cell_type": "code",
   "execution_count": 68,
   "id": "ab22b1f8-0f25-431b-a413-9bc8edfb603f",
   "metadata": {
    "tags": []
   },
   "outputs": [
    {
     "name": "stdout",
     "output_type": "stream",
     "text": [
      "2024-05-22\n"
     ]
    },
    {
     "name": "stderr",
     "output_type": "stream",
     "text": [
      "/tmp/ipykernel_908/2986224776.py:5: SettingWithCopyWarning: \n",
      "A value is trying to be set on a copy of a slice from a DataFrame.\n",
      "Try using .loc[row_indexer,col_indexer] = value instead\n",
      "\n",
      "See the caveats in the documentation: https://pandas.pydata.org/pandas-docs/stable/user_guide/indexing.html#returning-a-view-versus-a-copy\n",
      "  bbb_shapes.geometry = gpd.GeoSeries.from_wkb(bbb_shapes.geometry)\n"
     ]
    },
    {
     "name": "stdout",
     "output_type": "stream",
     "text": [
      "(98, 2)\n",
      "2024-06-12\n",
      "(0, 2)\n",
      "failed for 2024-06-12\n",
      "2024-07-17\n"
     ]
    },
    {
     "name": "stderr",
     "output_type": "stream",
     "text": [
      "/tmp/ipykernel_908/2986224776.py:5: SettingWithCopyWarning: \n",
      "A value is trying to be set on a copy of a slice from a DataFrame.\n",
      "Try using .loc[row_indexer,col_indexer] = value instead\n",
      "\n",
      "See the caveats in the documentation: https://pandas.pydata.org/pandas-docs/stable/user_guide/indexing.html#returning-a-view-versus-a-copy\n",
      "  bbb_shapes.geometry = gpd.GeoSeries.from_wkb(bbb_shapes.geometry)\n"
     ]
    },
    {
     "name": "stdout",
     "output_type": "stream",
     "text": [
      "(41, 2)\n"
     ]
    }
   ],
   "source": [
    "lincoln_delay_df = compile_lincoln_delays()"
   ]
  },
  {
   "cell_type": "code",
   "execution_count": 69,
   "id": "0793c2e3-0f99-4001-92f3-d4e0e99f7d1a",
   "metadata": {},
   "outputs": [
    {
     "data": {
      "text/html": [
       "<div>\n",
       "<style scoped>\n",
       "    .dataframe tbody tr th:only-of-type {\n",
       "        vertical-align: middle;\n",
       "    }\n",
       "\n",
       "    .dataframe tbody tr th {\n",
       "        vertical-align: top;\n",
       "    }\n",
       "\n",
       "    .dataframe thead th {\n",
       "        text-align: right;\n",
       "    }\n",
       "</style>\n",
       "<table border=\"1\" class=\"dataframe\">\n",
       "  <thead>\n",
       "    <tr style=\"text-align: right;\">\n",
       "      <th></th>\n",
       "      <th>date_str</th>\n",
       "      <th>delay_minutes</th>\n",
       "      <th>vp_trip_count</th>\n",
       "      <th>vp_pct_sched</th>\n",
       "      <th>date</th>\n",
       "      <th>weekday</th>\n",
       "    </tr>\n",
       "  </thead>\n",
       "  <tbody>\n",
       "    <tr>\n",
       "      <th>0</th>\n",
       "      <td>2024-05-22</td>\n",
       "      <td>714.266458</td>\n",
       "      <td>98</td>\n",
       "      <td>0.604938</td>\n",
       "      <td>2024-05-22</td>\n",
       "      <td>Wed</td>\n",
       "    </tr>\n",
       "    <tr>\n",
       "      <th>1</th>\n",
       "      <td>2024-07-17</td>\n",
       "      <td>216.935784</td>\n",
       "      <td>41</td>\n",
       "      <td>0.253086</td>\n",
       "      <td>2024-07-17</td>\n",
       "      <td>Wed</td>\n",
       "    </tr>\n",
       "  </tbody>\n",
       "</table>\n",
       "</div>"
      ],
      "text/plain": [
       "     date_str  delay_minutes  vp_trip_count  vp_pct_sched        date weekday\n",
       "0  2024-05-22     714.266458             98      0.604938  2024-05-22     Wed\n",
       "1  2024-07-17     216.935784             41      0.253086  2024-07-17     Wed"
      ]
     },
     "execution_count": 69,
     "metadata": {},
     "output_type": "execute_result"
    }
   ],
   "source": [
    "lincoln_delay_df"
   ]
  },
  {
   "cell_type": "code",
   "execution_count": 33,
   "id": "67672eb2-c32a-4fb6-bcf8-f5a22e033694",
   "metadata": {},
   "outputs": [],
   "source": [
    "lincoln_delay_df = lincoln_delay_df >> filter(_.vp_pct_sched > .8)"
   ]
  },
  {
   "cell_type": "code",
   "execution_count": 34,
   "id": "d287b3e2-5a74-4af8-bfe0-7bbad52c873f",
   "metadata": {},
   "outputs": [],
   "source": [
    "lincoln_delay_df['delay_per_trip'] = lincoln_delay_df.delay_minutes / lincoln_delay_df.vp_trip_count"
   ]
  },
  {
   "cell_type": "code",
   "execution_count": 35,
   "id": "6ce14cf9-f3a9-42c8-bd71-3588273c9004",
   "metadata": {},
   "outputs": [],
   "source": [
    "lincoln_delay_df = lincoln_delay_df >> filter(-_.weekday.isin(['Sat', 'Sun', 'Mon', 'Fri']))"
   ]
  },
  {
   "cell_type": "code",
   "execution_count": 36,
   "id": "a97ebb64-510e-464b-97bc-4e9d769d5fbe",
   "metadata": {},
   "outputs": [
    {
     "data": {
      "text/html": [
       "<div>\n",
       "<style scoped>\n",
       "    .dataframe tbody tr th:only-of-type {\n",
       "        vertical-align: middle;\n",
       "    }\n",
       "\n",
       "    .dataframe tbody tr th {\n",
       "        vertical-align: top;\n",
       "    }\n",
       "\n",
       "    .dataframe thead th {\n",
       "        text-align: right;\n",
       "    }\n",
       "</style>\n",
       "<table border=\"1\" class=\"dataframe\">\n",
       "  <thead>\n",
       "    <tr style=\"text-align: right;\">\n",
       "      <th></th>\n",
       "      <th>date_str</th>\n",
       "      <th>delay_minutes</th>\n",
       "      <th>vp_trip_count</th>\n",
       "      <th>vp_pct_sched</th>\n",
       "      <th>date</th>\n",
       "      <th>weekday</th>\n",
       "      <th>delay_per_trip</th>\n",
       "    </tr>\n",
       "  </thead>\n",
       "  <tbody>\n",
       "    <tr>\n",
       "      <th>0</th>\n",
       "      <td>2022-09-21</td>\n",
       "      <td>1365.976285</td>\n",
       "      <td>182</td>\n",
       "      <td>0.928571</td>\n",
       "      <td>2022-09-21</td>\n",
       "      <td>Wed</td>\n",
       "      <td>7.505364</td>\n",
       "    </tr>\n",
       "    <tr>\n",
       "      <th>1</th>\n",
       "      <td>2023-03-15</td>\n",
       "      <td>936.822081</td>\n",
       "      <td>156</td>\n",
       "      <td>0.962963</td>\n",
       "      <td>2023-03-15</td>\n",
       "      <td>Wed</td>\n",
       "      <td>6.005270</td>\n",
       "    </tr>\n",
       "    <tr>\n",
       "      <th>3</th>\n",
       "      <td>2023-04-11</td>\n",
       "      <td>1345.995844</td>\n",
       "      <td>144</td>\n",
       "      <td>0.888889</td>\n",
       "      <td>2023-04-11</td>\n",
       "      <td>Tue</td>\n",
       "      <td>9.347193</td>\n",
       "    </tr>\n",
       "    <tr>\n",
       "      <th>4</th>\n",
       "      <td>2023-04-12</td>\n",
       "      <td>967.829197</td>\n",
       "      <td>160</td>\n",
       "      <td>0.987654</td>\n",
       "      <td>2023-04-12</td>\n",
       "      <td>Wed</td>\n",
       "      <td>6.048932</td>\n",
       "    </tr>\n",
       "    <tr>\n",
       "      <th>5</th>\n",
       "      <td>2023-04-13</td>\n",
       "      <td>974.676955</td>\n",
       "      <td>146</td>\n",
       "      <td>0.901235</td>\n",
       "      <td>2023-04-13</td>\n",
       "      <td>Thu</td>\n",
       "      <td>6.675870</td>\n",
       "    </tr>\n",
       "    <tr>\n",
       "      <th>9</th>\n",
       "      <td>2023-05-17</td>\n",
       "      <td>1066.920026</td>\n",
       "      <td>143</td>\n",
       "      <td>0.882716</td>\n",
       "      <td>2023-05-17</td>\n",
       "      <td>Wed</td>\n",
       "      <td>7.460979</td>\n",
       "    </tr>\n",
       "    <tr>\n",
       "      <th>10</th>\n",
       "      <td>2023-06-14</td>\n",
       "      <td>958.144675</td>\n",
       "      <td>144</td>\n",
       "      <td>0.888889</td>\n",
       "      <td>2023-06-14</td>\n",
       "      <td>Wed</td>\n",
       "      <td>6.653782</td>\n",
       "    </tr>\n",
       "    <tr>\n",
       "      <th>11</th>\n",
       "      <td>2023-07-12</td>\n",
       "      <td>1096.543234</td>\n",
       "      <td>162</td>\n",
       "      <td>1.000000</td>\n",
       "      <td>2023-07-12</td>\n",
       "      <td>Wed</td>\n",
       "      <td>6.768785</td>\n",
       "    </tr>\n",
       "    <tr>\n",
       "      <th>12</th>\n",
       "      <td>2023-08-15</td>\n",
       "      <td>1229.532042</td>\n",
       "      <td>160</td>\n",
       "      <td>0.987654</td>\n",
       "      <td>2023-08-15</td>\n",
       "      <td>Tue</td>\n",
       "      <td>7.684575</td>\n",
       "    </tr>\n",
       "    <tr>\n",
       "      <th>13</th>\n",
       "      <td>2023-09-13</td>\n",
       "      <td>1068.675801</td>\n",
       "      <td>147</td>\n",
       "      <td>0.907407</td>\n",
       "      <td>2023-09-13</td>\n",
       "      <td>Wed</td>\n",
       "      <td>7.269903</td>\n",
       "    </tr>\n",
       "    <tr>\n",
       "      <th>15</th>\n",
       "      <td>2023-10-10</td>\n",
       "      <td>1254.617101</td>\n",
       "      <td>153</td>\n",
       "      <td>0.944444</td>\n",
       "      <td>2023-10-10</td>\n",
       "      <td>Tue</td>\n",
       "      <td>8.200112</td>\n",
       "    </tr>\n",
       "    <tr>\n",
       "      <th>16</th>\n",
       "      <td>2023-10-11</td>\n",
       "      <td>1195.617480</td>\n",
       "      <td>158</td>\n",
       "      <td>0.975309</td>\n",
       "      <td>2023-10-11</td>\n",
       "      <td>Wed</td>\n",
       "      <td>7.567199</td>\n",
       "    </tr>\n",
       "    <tr>\n",
       "      <th>17</th>\n",
       "      <td>2023-10-12</td>\n",
       "      <td>1325.195863</td>\n",
       "      <td>151</td>\n",
       "      <td>0.932099</td>\n",
       "      <td>2023-10-12</td>\n",
       "      <td>Thu</td>\n",
       "      <td>8.776132</td>\n",
       "    </tr>\n",
       "    <tr>\n",
       "      <th>21</th>\n",
       "      <td>2023-11-15</td>\n",
       "      <td>1155.152775</td>\n",
       "      <td>151</td>\n",
       "      <td>0.932099</td>\n",
       "      <td>2023-11-15</td>\n",
       "      <td>Wed</td>\n",
       "      <td>7.650018</td>\n",
       "    </tr>\n",
       "    <tr>\n",
       "      <th>22</th>\n",
       "      <td>2023-12-13</td>\n",
       "      <td>1147.332246</td>\n",
       "      <td>154</td>\n",
       "      <td>0.950617</td>\n",
       "      <td>2023-12-13</td>\n",
       "      <td>Wed</td>\n",
       "      <td>7.450209</td>\n",
       "    </tr>\n",
       "    <tr>\n",
       "      <th>23</th>\n",
       "      <td>2024-01-17</td>\n",
       "      <td>924.181559</td>\n",
       "      <td>140</td>\n",
       "      <td>0.864198</td>\n",
       "      <td>2024-01-17</td>\n",
       "      <td>Wed</td>\n",
       "      <td>6.601297</td>\n",
       "    </tr>\n",
       "    <tr>\n",
       "      <th>24</th>\n",
       "      <td>2024-02-14</td>\n",
       "      <td>1740.946922</td>\n",
       "      <td>152</td>\n",
       "      <td>0.938272</td>\n",
       "      <td>2024-02-14</td>\n",
       "      <td>Wed</td>\n",
       "      <td>11.453598</td>\n",
       "    </tr>\n",
       "    <tr>\n",
       "      <th>25</th>\n",
       "      <td>2024-03-13</td>\n",
       "      <td>1352.741823</td>\n",
       "      <td>153</td>\n",
       "      <td>0.944444</td>\n",
       "      <td>2024-03-13</td>\n",
       "      <td>Wed</td>\n",
       "      <td>8.841450</td>\n",
       "    </tr>\n",
       "    <tr>\n",
       "      <th>27</th>\n",
       "      <td>2024-04-16</td>\n",
       "      <td>1311.470860</td>\n",
       "      <td>137</td>\n",
       "      <td>0.845679</td>\n",
       "      <td>2024-04-16</td>\n",
       "      <td>Tue</td>\n",
       "      <td>9.572780</td>\n",
       "    </tr>\n",
       "    <tr>\n",
       "      <th>28</th>\n",
       "      <td>2024-04-17</td>\n",
       "      <td>1050.505818</td>\n",
       "      <td>134</td>\n",
       "      <td>0.827160</td>\n",
       "      <td>2024-04-17</td>\n",
       "      <td>Wed</td>\n",
       "      <td>7.839596</td>\n",
       "    </tr>\n",
       "  </tbody>\n",
       "</table>\n",
       "</div>"
      ],
      "text/plain": [
       "      date_str  delay_minutes  vp_trip_count  vp_pct_sched        date  \\\n",
       "0   2022-09-21    1365.976285            182      0.928571  2022-09-21   \n",
       "1   2023-03-15     936.822081            156      0.962963  2023-03-15   \n",
       "3   2023-04-11    1345.995844            144      0.888889  2023-04-11   \n",
       "4   2023-04-12     967.829197            160      0.987654  2023-04-12   \n",
       "5   2023-04-13     974.676955            146      0.901235  2023-04-13   \n",
       "9   2023-05-17    1066.920026            143      0.882716  2023-05-17   \n",
       "10  2023-06-14     958.144675            144      0.888889  2023-06-14   \n",
       "11  2023-07-12    1096.543234            162      1.000000  2023-07-12   \n",
       "12  2023-08-15    1229.532042            160      0.987654  2023-08-15   \n",
       "13  2023-09-13    1068.675801            147      0.907407  2023-09-13   \n",
       "15  2023-10-10    1254.617101            153      0.944444  2023-10-10   \n",
       "16  2023-10-11    1195.617480            158      0.975309  2023-10-11   \n",
       "17  2023-10-12    1325.195863            151      0.932099  2023-10-12   \n",
       "21  2023-11-15    1155.152775            151      0.932099  2023-11-15   \n",
       "22  2023-12-13    1147.332246            154      0.950617  2023-12-13   \n",
       "23  2024-01-17     924.181559            140      0.864198  2024-01-17   \n",
       "24  2024-02-14    1740.946922            152      0.938272  2024-02-14   \n",
       "25  2024-03-13    1352.741823            153      0.944444  2024-03-13   \n",
       "27  2024-04-16    1311.470860            137      0.845679  2024-04-16   \n",
       "28  2024-04-17    1050.505818            134      0.827160  2024-04-17   \n",
       "\n",
       "   weekday  delay_per_trip  \n",
       "0      Wed        7.505364  \n",
       "1      Wed        6.005270  \n",
       "3      Tue        9.347193  \n",
       "4      Wed        6.048932  \n",
       "5      Thu        6.675870  \n",
       "9      Wed        7.460979  \n",
       "10     Wed        6.653782  \n",
       "11     Wed        6.768785  \n",
       "12     Tue        7.684575  \n",
       "13     Wed        7.269903  \n",
       "15     Tue        8.200112  \n",
       "16     Wed        7.567199  \n",
       "17     Thu        8.776132  \n",
       "21     Wed        7.650018  \n",
       "22     Wed        7.450209  \n",
       "23     Wed        6.601297  \n",
       "24     Wed       11.453598  \n",
       "25     Wed        8.841450  \n",
       "27     Tue        9.572780  \n",
       "28     Wed        7.839596  "
      ]
     },
     "execution_count": 36,
     "metadata": {},
     "output_type": "execute_result"
    }
   ],
   "source": [
    "lincoln_delay_df"
   ]
  },
  {
   "cell_type": "code",
   "execution_count": 37,
   "id": "b1e0e029-0248-4d54-b5a8-b99f66e92b86",
   "metadata": {},
   "outputs": [],
   "source": [
    "import altair as alt"
   ]
  },
  {
   "cell_type": "code",
   "execution_count": 38,
   "id": "f98c047d-046d-4bca-81a5-adbe54d7a6fa",
   "metadata": {},
   "outputs": [],
   "source": [
    "lincoln_delay_df.date = lincoln_delay_df.date.apply(lambda x: pd.Timestamp(x))"
   ]
  },
  {
   "cell_type": "code",
   "execution_count": 39,
   "id": "72b43f24-0eb6-4a7a-8291-afce2b64d7e1",
   "metadata": {},
   "outputs": [
    {
     "data": {
      "text/html": [
       "\n",
       "<style>\n",
       "  #altair-viz-7b3626a1b7a245e98bfe29aed0b16373.vega-embed {\n",
       "    width: 100%;\n",
       "    display: flex;\n",
       "  }\n",
       "\n",
       "  #altair-viz-7b3626a1b7a245e98bfe29aed0b16373.vega-embed details,\n",
       "  #altair-viz-7b3626a1b7a245e98bfe29aed0b16373.vega-embed details summary {\n",
       "    position: relative;\n",
       "  }\n",
       "</style>\n",
       "<div id=\"altair-viz-7b3626a1b7a245e98bfe29aed0b16373\"></div>\n",
       "<script type=\"text/javascript\">\n",
       "  var VEGA_DEBUG = (typeof VEGA_DEBUG == \"undefined\") ? {} : VEGA_DEBUG;\n",
       "  (function(spec, embedOpt){\n",
       "    let outputDiv = document.currentScript.previousElementSibling;\n",
       "    if (outputDiv.id !== \"altair-viz-7b3626a1b7a245e98bfe29aed0b16373\") {\n",
       "      outputDiv = document.getElementById(\"altair-viz-7b3626a1b7a245e98bfe29aed0b16373\");\n",
       "    }\n",
       "    const paths = {\n",
       "      \"vega\": \"https://cdn.jsdelivr.net/npm/vega@5?noext\",\n",
       "      \"vega-lib\": \"https://cdn.jsdelivr.net/npm/vega-lib?noext\",\n",
       "      \"vega-lite\": \"https://cdn.jsdelivr.net/npm/vega-lite@5.17.0?noext\",\n",
       "      \"vega-embed\": \"https://cdn.jsdelivr.net/npm/vega-embed@6?noext\",\n",
       "    };\n",
       "\n",
       "    function maybeLoadScript(lib, version) {\n",
       "      var key = `${lib.replace(\"-\", \"\")}_version`;\n",
       "      return (VEGA_DEBUG[key] == version) ?\n",
       "        Promise.resolve(paths[lib]) :\n",
       "        new Promise(function(resolve, reject) {\n",
       "          var s = document.createElement('script');\n",
       "          document.getElementsByTagName(\"head\")[0].appendChild(s);\n",
       "          s.async = true;\n",
       "          s.onload = () => {\n",
       "            VEGA_DEBUG[key] = version;\n",
       "            return resolve(paths[lib]);\n",
       "          };\n",
       "          s.onerror = () => reject(`Error loading script: ${paths[lib]}`);\n",
       "          s.src = paths[lib];\n",
       "        });\n",
       "    }\n",
       "\n",
       "    function showError(err) {\n",
       "      outputDiv.innerHTML = `<div class=\"error\" style=\"color:red;\">${err}</div>`;\n",
       "      throw err;\n",
       "    }\n",
       "\n",
       "    function displayChart(vegaEmbed) {\n",
       "      vegaEmbed(outputDiv, spec, embedOpt)\n",
       "        .catch(err => showError(`Javascript Error: ${err.message}<br>This usually means there's a typo in your chart specification. See the javascript console for the full traceback.`));\n",
       "    }\n",
       "\n",
       "    if(typeof define === \"function\" && define.amd) {\n",
       "      requirejs.config({paths});\n",
       "      require([\"vega-embed\"], displayChart, err => showError(`Error loading script: ${err.message}`));\n",
       "    } else {\n",
       "      maybeLoadScript(\"vega\", \"5\")\n",
       "        .then(() => maybeLoadScript(\"vega-lite\", \"5.17.0\"))\n",
       "        .then(() => maybeLoadScript(\"vega-embed\", \"6\"))\n",
       "        .catch(showError)\n",
       "        .then(() => displayChart(vegaEmbed));\n",
       "    }\n",
       "  })({\"config\": {\"view\": {\"continuousWidth\": 300, \"continuousHeight\": 300}}, \"layer\": [{\"mark\": {\"type\": \"point\"}, \"encoding\": {\"x\": {\"axis\": {\"format\": \"%b %Y\", \"title\": \"DATE\"}, \"field\": \"date\", \"type\": \"temporal\"}, \"y\": {\"field\": \"delay_per_trip\", \"type\": \"quantitative\"}}}, {\"mark\": {\"type\": \"line\"}, \"encoding\": {\"x\": {\"axis\": {\"format\": \"%b %Y\", \"title\": \"DATE\"}, \"field\": \"date\", \"type\": \"temporal\"}, \"y\": {\"field\": \"delay_per_trip\", \"type\": \"quantitative\"}}, \"transform\": [{\"on\": \"date\", \"regression\": \"delay_per_trip\"}]}], \"data\": {\"name\": \"data-164b464b635a75255685761a4a7ee82d\"}, \"height\": 400, \"width\": 600, \"$schema\": \"https://vega.github.io/schema/vega-lite/v5.17.0.json\", \"datasets\": {\"data-164b464b635a75255685761a4a7ee82d\": [{\"date_str\": \"2022-09-21\", \"delay_minutes\": 1365.97628496428, \"vp_trip_count\": 182, \"vp_pct_sched\": 0.9285714285714286, \"date\": \"2022-09-21T00:00:00\", \"weekday\": \"Wed\", \"delay_per_trip\": 7.50536420310044}, {\"date_str\": \"2023-03-15\", \"delay_minutes\": 936.8220807895831, \"vp_trip_count\": 156, \"vp_pct_sched\": 0.9629629629629629, \"date\": \"2023-03-15T00:00:00\", \"weekday\": \"Wed\", \"delay_per_trip\": 6.005269748651173}, {\"date_str\": \"2023-04-11\", \"delay_minutes\": 1345.9958440895832, \"vp_trip_count\": 144, \"vp_pct_sched\": 0.8888888888888888, \"date\": \"2023-04-11T00:00:00\", \"weekday\": \"Tue\", \"delay_per_trip\": 9.347193361733217}, {\"date_str\": \"2023-04-12\", \"delay_minutes\": 967.8291973656247, \"vp_trip_count\": 160, \"vp_pct_sched\": 0.9876543209876543, \"date\": \"2023-04-12T00:00:00\", \"weekday\": \"Wed\", \"delay_per_trip\": 6.048932483535155}, {\"date_str\": \"2023-04-13\", \"delay_minutes\": 974.6769549614581, \"vp_trip_count\": 146, \"vp_pct_sched\": 0.9012345679012346, \"date\": \"2023-04-13T00:00:00\", \"weekday\": \"Thu\", \"delay_per_trip\": 6.675869554530535}, {\"date_str\": \"2023-05-17\", \"delay_minutes\": 1066.9200261697913, \"vp_trip_count\": 143, \"vp_pct_sched\": 0.8827160493827161, \"date\": \"2023-05-17T00:00:00\", \"weekday\": \"Wed\", \"delay_per_trip\": 7.460979203984555}, {\"date_str\": \"2023-06-14\", \"delay_minutes\": 958.1446747687497, \"vp_trip_count\": 144, \"vp_pct_sched\": 0.8888888888888888, \"date\": \"2023-06-14T00:00:00\", \"weekday\": \"Wed\", \"delay_per_trip\": 6.653782463671873}, {\"date_str\": \"2023-07-12\", \"delay_minutes\": 1096.5432342197914, \"vp_trip_count\": 162, \"vp_pct_sched\": 1.0, \"date\": \"2023-07-12T00:00:00\", \"weekday\": \"Wed\", \"delay_per_trip\": 6.768785396418465}, {\"date_str\": \"2023-08-15\", \"delay_minutes\": 1229.532042448958, \"vp_trip_count\": 160, \"vp_pct_sched\": 0.9876543209876543, \"date\": \"2023-08-15T00:00:00\", \"weekday\": \"Tue\", \"delay_per_trip\": 7.684575265305988}, {\"date_str\": \"2023-09-13\", \"delay_minutes\": 1068.675800970833, \"vp_trip_count\": 147, \"vp_pct_sched\": 0.9074074074074074, \"date\": \"2023-09-13T00:00:00\", \"weekday\": \"Wed\", \"delay_per_trip\": 7.269903407964851}, {\"date_str\": \"2023-10-10\", \"delay_minutes\": 1254.617100873958, \"vp_trip_count\": 153, \"vp_pct_sched\": 0.9444444444444444, \"date\": \"2023-10-10T00:00:00\", \"weekday\": \"Tue\", \"delay_per_trip\": 8.200111770418026}, {\"date_str\": \"2023-10-11\", \"delay_minutes\": 1195.6174796874996, \"vp_trip_count\": 158, \"vp_pct_sched\": 0.9753086419753086, \"date\": \"2023-10-11T00:00:00\", \"weekday\": \"Wed\", \"delay_per_trip\": 7.567199238528478}, {\"date_str\": \"2023-10-12\", \"delay_minutes\": 1325.195862692708, \"vp_trip_count\": 151, \"vp_pct_sched\": 0.9320987654320988, \"date\": \"2023-10-12T00:00:00\", \"weekday\": \"Thu\", \"delay_per_trip\": 8.776131541011312}, {\"date_str\": \"2023-11-15\", \"delay_minutes\": 1155.1527751822914, \"vp_trip_count\": 151, \"vp_pct_sched\": 0.9320987654320988, \"date\": \"2023-11-15T00:00:00\", \"weekday\": \"Wed\", \"delay_per_trip\": 7.650018378690672}, {\"date_str\": \"2023-12-13\", \"delay_minutes\": 1147.332245923958, \"vp_trip_count\": 154, \"vp_pct_sched\": 0.9506172839506173, \"date\": \"2023-12-13T00:00:00\", \"weekday\": \"Wed\", \"delay_per_trip\": 7.45020938911661}, {\"date_str\": \"2024-01-17\", \"delay_minutes\": 924.1815594718748, \"vp_trip_count\": 140, \"vp_pct_sched\": 0.8641975308641975, \"date\": \"2024-01-17T00:00:00\", \"weekday\": \"Wed\", \"delay_per_trip\": 6.601296853370535}, {\"date_str\": \"2024-02-14\", \"delay_minutes\": 1740.9469216187497, \"vp_trip_count\": 152, \"vp_pct_sched\": 0.9382716049382716, \"date\": \"2024-02-14T00:00:00\", \"weekday\": \"Wed\", \"delay_per_trip\": 11.453598168544406}, {\"date_str\": \"2024-03-13\", \"delay_minutes\": 1352.741822702083, \"vp_trip_count\": 153, \"vp_pct_sched\": 0.9444444444444444, \"date\": \"2024-03-13T00:00:00\", \"weekday\": \"Wed\", \"delay_per_trip\": 8.841449821582241}, {\"date_str\": \"2024-04-16\", \"delay_minutes\": 1311.470859955208, \"vp_trip_count\": 137, \"vp_pct_sched\": 0.845679012345679, \"date\": \"2024-04-16T00:00:00\", \"weekday\": \"Tue\", \"delay_per_trip\": 9.57277999967305}, {\"date_str\": \"2024-04-17\", \"delay_minutes\": 1050.505817580208, \"vp_trip_count\": 134, \"vp_pct_sched\": 0.8271604938271605, \"date\": \"2024-04-17T00:00:00\", \"weekday\": \"Wed\", \"delay_per_trip\": 7.839595653583642}]}}, {\"mode\": \"vega-lite\"});\n",
       "</script>"
      ],
      "text/plain": [
       "alt.LayerChart(...)"
      ]
     },
     "execution_count": 39,
     "metadata": {},
     "output_type": "execute_result"
    }
   ],
   "source": [
    "chart = alt.Chart(lincoln_delay_df).mark_point().encode(\n",
    "    x=alt.X('date:T', axis = alt.Axis(title = 'Date'.upper(), format = (\"%b %Y\"))),\n",
    "    y='delay_per_trip'\n",
    ").properties(width=600, height=400)\n",
    "\n",
    "chart + chart.transform_regression('date', 'delay_per_trip').mark_line()"
   ]
  },
  {
   "cell_type": "code",
   "execution_count": 40,
   "id": "e84ffd00-4e09-4bcf-854a-344e05e185aa",
   "metadata": {},
   "outputs": [],
   "source": [
    "lincoln_delay_df.to_csv('lincoln_delays_preliminary.csv')"
   ]
  },
  {
   "cell_type": "code",
   "execution_count": 41,
   "id": "404a8f09-c774-4661-ab34-a08d8b37b73a",
   "metadata": {},
   "outputs": [
    {
     "data": {
      "text/plain": [
       "0.25"
      ]
     },
     "execution_count": 41,
     "metadata": {},
     "output_type": "execute_result"
    }
   ],
   "source": [
    "(10 - 8) / 8"
   ]
  },
  {
   "cell_type": "code",
   "execution_count": null,
   "id": "4c65b1e4-f4f8-40b0-866f-74fb4337110a",
   "metadata": {},
   "outputs": [],
   "source": []
  }
 ],
 "metadata": {
  "kernelspec": {
   "display_name": "Python 3 (ipykernel)",
   "language": "python",
   "name": "python3"
  },
  "language_info": {
   "codemirror_mode": {
    "name": "ipython",
    "version": 3
   },
   "file_extension": ".py",
   "mimetype": "text/x-python",
   "name": "python",
   "nbconvert_exporter": "python",
   "pygments_lexer": "ipython3",
   "version": "3.9.13"
  },
  "widgets": {
   "application/vnd.jupyter.widget-state+json": {
    "state": {},
    "version_major": 2,
    "version_minor": 0
   }
  }
 },
 "nbformat": 4,
 "nbformat_minor": 5
}
