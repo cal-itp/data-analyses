{
 "cells": [
  {
   "cell_type": "markdown",
   "id": "fa4f900c-137c-4069-866a-9d8393ea535e",
   "metadata": {},
   "source": [
    "# Shapes have different stop_ids and stop_sequences, but are the same for the most part\n",
    "\n",
    "For each shape, if we can select a trip with the most number of stops, that's the one we should base our segments off of. By taking into account all the trips, we're convoluting what `stop_sequence` means.\n",
    "\n",
    "Use the heuristic of picking a trip (sorted alphabetically) for the shape with the most stops. \n",
    "\n",
    "Most of the trips that occur on the same shape have the same number of stops, and have the same exact stops.\n",
    "Let's check that the trips with the most stops contain all the stops present in the other trips that share the same shape."
   ]
  },
  {
   "cell_type": "code",
   "execution_count": null,
   "id": "76814ae0-98ef-467b-8294-ee159849ba66",
   "metadata": {},
   "outputs": [],
   "source": [
    "import dask.dataframe as dd\n",
    "import pandas as pd\n",
    "\n",
    "from shared_utils import rt_dates\n",
    "from segment_speed_utils import helpers\n",
    "from segment_speed_utils.project_vars import SEGMENT_GCS"
   ]
  },
  {
   "cell_type": "code",
   "execution_count": 2,
   "id": "9f7f4526-9856-4b99-a840-d357a469da8f",
   "metadata": {},
   "outputs": [
    {
     "data": {
      "text/plain": [
       "['2023-03-15', '2023-04-12', '2023-05-17', '2023-06-14', '2023-07-12']"
      ]
     },
     "execution_count": 2,
     "metadata": {},
     "output_type": "execute_result"
    }
   ],
   "source": [
    "months = [\"mar\", \"apr\", \"may\", \"jun\", \"jul\"]\n",
    "\n",
    "dates = [\n",
    "    rt_dates.DATES[f\"{m}2023\"] for m in months\n",
    "]\n",
    "dates"
   ]
  },
  {
   "cell_type": "code",
   "execution_count": 5,
   "id": "f5d24168-9125-49dd-85c9-49dc64f5221c",
   "metadata": {},
   "outputs": [],
   "source": [
    "stop_times = helpers.import_scheduled_stop_times(\n",
    "    dates[-1],\n",
    "    columns = [\"feed_key\", \"trip_id\", \"stop_sequence\", \"stop_id\"]\n",
    ")\n",
    "\n",
    "stops_per_trip = (stop_times.groupby([\"feed_key\", \"trip_id\"], \n",
    "                                     observed=True, group_keys=False)\n",
    "                  .agg({\"stop_id\": \"count\"})\n",
    "                  .reset_index()\n",
    "                  .rename(columns = {\"stop_id\": \"n_stops\"})\n",
    ").compute()"
   ]
  },
  {
   "cell_type": "code",
   "execution_count": 4,
   "id": "dbdc31bc-fe04-4d4f-bd86-780f3df86198",
   "metadata": {},
   "outputs": [],
   "source": [
    "trips = helpers.import_scheduled_trips(\n",
    "    dates[-1],\n",
    "    columns = [\"feed_key\", \"trip_id\", \"shape_array_key\"],\n",
    "    get_pandas = True\n",
    ")"
   ]
  },
  {
   "cell_type": "code",
   "execution_count": 6,
   "id": "cce1af9d-eadb-4ed4-ba85-cfcbca92fcbf",
   "metadata": {},
   "outputs": [],
   "source": [
    "df = pd.merge(\n",
    "    trips,\n",
    "    stops_per_trip,\n",
    "    on = [\"feed_key\", \"trip_id\"],\n",
    "    how = \"inner\"\n",
    ")"
   ]
  },
  {
   "cell_type": "code",
   "execution_count": 8,
   "id": "81b29ee6-7987-44c1-9471-c16d27a94df4",
   "metadata": {},
   "outputs": [],
   "source": [
    "df2 = (df.groupby(\"shape_array_key\")\n",
    "       .agg({\"n_stops\": lambda x: list(set(x))})\n",
    "       .reset_index()\n",
    "      )"
   ]
  },
  {
   "cell_type": "code",
   "execution_count": 14,
   "id": "087c61fe-47f7-4ea7-980e-11fd880deb3f",
   "metadata": {},
   "outputs": [],
   "source": [
    "df2 = df2.assign(\n",
    "    multiple = df2.apply(lambda x: len(x.n_stops), axis=1)\n",
    ")"
   ]
  },
  {
   "cell_type": "code",
   "execution_count": 15,
   "id": "d4555254-65b6-4b52-83d4-e8f787a6f0e9",
   "metadata": {},
   "outputs": [
    {
     "name": "stdout",
     "output_type": "stream",
     "text": [
      "1    0.983568\n",
      "2    0.009683\n",
      "3    0.004255\n",
      "5    0.001174\n",
      "4    0.001027\n",
      "6    0.000293\n",
      "Name: multiple, dtype: float64\n",
      "1    6704\n",
      "2      66\n",
      "3      29\n",
      "5       8\n",
      "4       7\n",
      "6       2\n",
      "Name: multiple, dtype: int64\n"
     ]
    }
   ],
   "source": [
    "print(df2.multiple.value_counts(normalize=True))\n",
    "print(df2.multiple.value_counts())"
   ]
  },
  {
   "cell_type": "code",
   "execution_count": 16,
   "id": "466f0cdd-2a54-40df-979b-66f6dbcfdabb",
   "metadata": {},
   "outputs": [
    {
     "data": {
      "text/html": [
       "<div>\n",
       "<style scoped>\n",
       "    .dataframe tbody tr th:only-of-type {\n",
       "        vertical-align: middle;\n",
       "    }\n",
       "\n",
       "    .dataframe tbody tr th {\n",
       "        vertical-align: top;\n",
       "    }\n",
       "\n",
       "    .dataframe thead th {\n",
       "        text-align: right;\n",
       "    }\n",
       "</style>\n",
       "<table border=\"1\" class=\"dataframe\">\n",
       "  <thead>\n",
       "    <tr style=\"text-align: right;\">\n",
       "      <th></th>\n",
       "      <th>shape_array_key</th>\n",
       "      <th>n_stops</th>\n",
       "      <th>multiple</th>\n",
       "    </tr>\n",
       "  </thead>\n",
       "  <tbody>\n",
       "    <tr>\n",
       "      <th>8</th>\n",
       "      <td>005514e5fae0dcedd6c2e67a7eae7f18</td>\n",
       "      <td>[50, 26]</td>\n",
       "      <td>2</td>\n",
       "    </tr>\n",
       "    <tr>\n",
       "      <th>91</th>\n",
       "      <td>036b25723fe1851ad77ee8e20509eca9</td>\n",
       "      <td>[16, 15]</td>\n",
       "      <td>2</td>\n",
       "    </tr>\n",
       "    <tr>\n",
       "      <th>93</th>\n",
       "      <td>038f82980fa0cd12294f51089d357342</td>\n",
       "      <td>[8, 17, 10]</td>\n",
       "      <td>3</td>\n",
       "    </tr>\n",
       "    <tr>\n",
       "      <th>153</th>\n",
       "      <td>05880fbcae889a9d2f044edcb349a64c</td>\n",
       "      <td>[27, 35]</td>\n",
       "      <td>2</td>\n",
       "    </tr>\n",
       "    <tr>\n",
       "      <th>172</th>\n",
       "      <td>05fa3f0b05e1130683459c17a44eb4c4</td>\n",
       "      <td>[13, 14]</td>\n",
       "      <td>2</td>\n",
       "    </tr>\n",
       "    <tr>\n",
       "      <th>...</th>\n",
       "      <td>...</td>\n",
       "      <td>...</td>\n",
       "      <td>...</td>\n",
       "    </tr>\n",
       "    <tr>\n",
       "      <th>6713</th>\n",
       "      <td>fc95469c45abff1b52a29ae29bd9cfaa</td>\n",
       "      <td>[8, 13, 14, 15, 17]</td>\n",
       "      <td>5</td>\n",
       "    </tr>\n",
       "    <tr>\n",
       "      <th>6732</th>\n",
       "      <td>fd549241a84b8e80d7848999ea915a5e</td>\n",
       "      <td>[8, 9, 7]</td>\n",
       "      <td>3</td>\n",
       "    </tr>\n",
       "    <tr>\n",
       "      <th>6747</th>\n",
       "      <td>fda0474810ee0e700734d41b8219c1b0</td>\n",
       "      <td>[10, 11]</td>\n",
       "      <td>2</td>\n",
       "    </tr>\n",
       "    <tr>\n",
       "      <th>6795</th>\n",
       "      <td>fee87dd62e3e9c7bf69a6e7ee642db1e</td>\n",
       "      <td>[4, 6, 7]</td>\n",
       "      <td>3</td>\n",
       "    </tr>\n",
       "    <tr>\n",
       "      <th>6808</th>\n",
       "      <td>ffb3925b740d597df9eb376c8bfb11dd</td>\n",
       "      <td>[35, 19, 36]</td>\n",
       "      <td>3</td>\n",
       "    </tr>\n",
       "  </tbody>\n",
       "</table>\n",
       "<p>112 rows × 3 columns</p>\n",
       "</div>"
      ],
      "text/plain": [
       "                       shape_array_key              n_stops  multiple\n",
       "8     005514e5fae0dcedd6c2e67a7eae7f18             [50, 26]         2\n",
       "91    036b25723fe1851ad77ee8e20509eca9             [16, 15]         2\n",
       "93    038f82980fa0cd12294f51089d357342          [8, 17, 10]         3\n",
       "153   05880fbcae889a9d2f044edcb349a64c             [27, 35]         2\n",
       "172   05fa3f0b05e1130683459c17a44eb4c4             [13, 14]         2\n",
       "...                                ...                  ...       ...\n",
       "6713  fc95469c45abff1b52a29ae29bd9cfaa  [8, 13, 14, 15, 17]         5\n",
       "6732  fd549241a84b8e80d7848999ea915a5e            [8, 9, 7]         3\n",
       "6747  fda0474810ee0e700734d41b8219c1b0             [10, 11]         2\n",
       "6795  fee87dd62e3e9c7bf69a6e7ee642db1e            [4, 6, 7]         3\n",
       "6808  ffb3925b740d597df9eb376c8bfb11dd         [35, 19, 36]         3\n",
       "\n",
       "[112 rows x 3 columns]"
      ]
     },
     "execution_count": 16,
     "metadata": {},
     "output_type": "execute_result"
    }
   ],
   "source": [
    "df2[df2.multiple > 1]"
   ]
  },
  {
   "cell_type": "code",
   "execution_count": null,
   "id": "963e3b0d-f8b8-44a6-8c83-ab123bfafda0",
   "metadata": {},
   "outputs": [],
   "source": []
  }
 ],
 "metadata": {
  "kernelspec": {
   "display_name": "Python 3 (ipykernel)",
   "language": "python",
   "name": "python3"
  },
  "language_info": {
   "codemirror_mode": {
    "name": "ipython",
    "version": 3
   },
   "file_extension": ".py",
   "mimetype": "text/x-python",
   "name": "python",
   "nbconvert_exporter": "python",
   "pygments_lexer": "ipython3",
   "version": "3.9.13"
  }
 },
 "nbformat": 4,
 "nbformat_minor": 5
}
