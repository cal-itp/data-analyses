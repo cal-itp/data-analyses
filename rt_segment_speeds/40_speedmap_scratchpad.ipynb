{
 "cells": [
  {
   "cell_type": "code",
   "execution_count": 1,
   "id": "d528f399-cf33-459e-b5dc-92e0b4ae389a",
   "metadata": {},
   "outputs": [],
   "source": [
    "import pandas as pd\n",
    "import geopandas as gpd\n",
    "from siuba import *\n",
    "import shared_utils\n",
    "\n",
    "from calitp_data_analysis import get_fs\n",
    "from segment_speed_utils import helpers, time_series_utils, gtfs_schedule_wrangling\n",
    "from segment_speed_utils.project_vars import SCHED_GCS, SEGMENT_GCS, GTFS_DATA_DICT, analysis_date"
   ]
  },
  {
   "cell_type": "markdown",
   "id": "82c092ac-157e-435c-be60-2f86a11a996e",
   "metadata": {},
   "source": [
    "i'd start with 5, checking if the columns you want are already there in this file (saved out at the end of stop_arrivals_to_speed, and is a speeds by trip table for that day)"
   ]
  },
  {
   "cell_type": "code",
   "execution_count": 2,
   "id": "6cd318e5-5c4e-4249-b158-232f4d940770",
   "metadata": {},
   "outputs": [],
   "source": [
    "catalog = shared_utils.catalog_utils.get_catalog('gtfs_analytics_data')"
   ]
  },
  {
   "cell_type": "code",
   "execution_count": 3,
   "id": "6e86c1a8-d3de-4fc6-9478-c03133b6745c",
   "metadata": {},
   "outputs": [
    {
     "data": {
      "text/plain": [
       "{'dir': '${gcs_paths.SEGMENT_GCS}', 'stage1': '${speeds_tables.vp_dwell}', 'proxy_stop_times': 'stop_time_expansion/speedmap_stop_times', 'stage2': 'nearest/nearest_vp_speedmap_proxy', 'stage2b': 'nearest/nearest2_vp_speedmap_proxy', 'stage3': 'speedmap/stop_arrivals_proxy', 'stage3b': 'speedmap/stop_arrivals', 'stage4': 'speedmap/speeds', 'trip_stop_cols': ['trip_instance_key', 'stop_sequence', 'stop_sequence1'], 'shape_stop_cols': ['shape_array_key', 'shape_id'], 'stop_pair_cols': ['stop_pair', 'stop_pair_name', 'segment_id'], 'route_dir_cols': ['route_id', 'route_short_name'], 'segments_file': 'segment_options/speedmap_segments', 'shape_stop_single_segment': 'rollup_singleday/speeds_shape_speedmap_segments', 'shape_stop_single_segment_detail': 'rollup_singleday/speeds_shape_speedmap_segments_detail', 'route_dir_single_segment': 'rollup_singleday/speeds_route_dir_speedmap_segments', 'route_dir_multi_segment': 'rollup_multiday/speeds_route_dir_speedmap_segments', 'min_trip_minutes': '${speed_vars.time_min_cutoff}', 'max_trip_minutes': 180, 'max_speed': '${speed_vars.max_speed}', 'min_meters_elapsed': 1609, 'segment_meters': 1000}"
      ]
     },
     "execution_count": 3,
     "metadata": {},
     "output_type": "execute_result"
    }
   ],
   "source": [
    "catalog.speedmap_segments"
   ]
  },
  {
   "cell_type": "code",
   "execution_count": 4,
   "id": "f766b50a-c70d-4681-992c-d7f8979ada69",
   "metadata": {},
   "outputs": [
    {
     "data": {
      "text/plain": [
       "'2024-10-16'"
      ]
     },
     "execution_count": 4,
     "metadata": {},
     "output_type": "execute_result"
    }
   ],
   "source": [
    "analysis_date"
   ]
  },
  {
   "cell_type": "code",
   "execution_count": 5,
   "id": "b4dd7af7-0cfa-4d94-a96d-f11e7cdc12f9",
   "metadata": {},
   "outputs": [],
   "source": [
    "# path = f'{catalog.speedmap_segments.dir}{catalog.speedmap_segments.stage4}_{analysis_date}.parquet'"
   ]
  },
  {
   "cell_type": "code",
   "execution_count": 6,
   "id": "12b824f2-4326-4f5e-ae86-95a46703c948",
   "metadata": {},
   "outputs": [],
   "source": [
    "path = f'{catalog.speedmap_segments.dir}{catalog.speedmap_segments.shape_stop_single_segment_detail}_{analysis_date}.parquet'"
   ]
  },
  {
   "cell_type": "code",
   "execution_count": 7,
   "id": "2743cbe7-b472-4ea2-af08-13d2003e93db",
   "metadata": {},
   "outputs": [
    {
     "data": {
      "text/plain": [
       "'gs://calitp-analytics-data/data-analyses/rt_segment_speeds/rollup_singleday/speeds_shape_speedmap_segments_detail_2024-10-16.parquet'"
      ]
     },
     "execution_count": 7,
     "metadata": {},
     "output_type": "execute_result"
    }
   ],
   "source": [
    "path"
   ]
  },
  {
   "cell_type": "code",
   "execution_count": 8,
   "id": "7669d09d-c49e-448c-b57a-299112614bd0",
   "metadata": {},
   "outputs": [],
   "source": [
    "detail = gpd.read_parquet(path)"
   ]
  },
  {
   "cell_type": "code",
   "execution_count": 9,
   "id": "ddf376af-9781-4943-b0d7-5f5418e07735",
   "metadata": {},
   "outputs": [
    {
     "data": {
      "text/html": [
       "<div>\n",
       "<style scoped>\n",
       "    .dataframe tbody tr th:only-of-type {\n",
       "        vertical-align: middle;\n",
       "    }\n",
       "\n",
       "    .dataframe tbody tr th {\n",
       "        vertical-align: top;\n",
       "    }\n",
       "\n",
       "    .dataframe thead th {\n",
       "        text-align: right;\n",
       "    }\n",
       "</style>\n",
       "<table border=\"1\" class=\"dataframe\">\n",
       "  <thead>\n",
       "    <tr style=\"text-align: right;\">\n",
       "      <th></th>\n",
       "      <th>schedule_gtfs_dataset_key</th>\n",
       "      <th>shape_array_key</th>\n",
       "      <th>shape_id</th>\n",
       "      <th>route_id</th>\n",
       "      <th>route_short_name</th>\n",
       "      <th>stop_pair</th>\n",
       "      <th>stop_pair_name</th>\n",
       "      <th>segment_id</th>\n",
       "      <th>time_of_day</th>\n",
       "      <th>p50_mph</th>\n",
       "      <th>n_trips</th>\n",
       "      <th>p20_mph</th>\n",
       "      <th>p80_mph</th>\n",
       "      <th>name</th>\n",
       "      <th>caltrans_district</th>\n",
       "      <th>organization_source_record_id</th>\n",
       "      <th>organization_name</th>\n",
       "      <th>base64_url</th>\n",
       "      <th>geometry</th>\n",
       "    </tr>\n",
       "  </thead>\n",
       "  <tbody>\n",
       "    <tr>\n",
       "      <th>0</th>\n",
       "      <td>0139b1253130b33adcd4b3a4490530d2</td>\n",
       "      <td>51530f7b5ba4cdde7c644c14f262005c</td>\n",
       "      <td>b0c096a2-4c32-4675-b005-43b58b3781e6</td>\n",
       "      <td>874b0dfa-ab3d-47da-ac75-5fd7b9bdea42</td>\n",
       "      <td>C30 WB</td>\n",
       "      <td>0d1ef8b5-90e4-40de-b37b-504cb862d18b__5b9a7352...</td>\n",
       "      <td>Woodlake Park EB__Cypress St &amp; Naranjo Blvd WB</td>\n",
       "      <td>0d1ef8b5-90e4-40de-b37b-504cb862d18b-5b9a7352-...</td>\n",
       "      <td>AM Peak</td>\n",
       "      <td>17.27</td>\n",
       "      <td>4</td>\n",
       "      <td>15.20</td>\n",
       "      <td>20.96</td>\n",
       "      <td>TCRTA TripShot Schedule</td>\n",
       "      <td>06 - Fresno</td>\n",
       "      <td>rec4YWVqVwJ9XqDbq</td>\n",
       "      <td>Tulare County Regional Transit Agency</td>\n",
       "      <td>aHR0cHM6Ly90Y3J0YS50cmlwc2hvdC5jb20vdjEvZ3Rmcy...</td>\n",
       "      <td>LINESTRING (-119.09762 36.41481, -119.09762 36...</td>\n",
       "    </tr>\n",
       "    <tr>\n",
       "      <th>1</th>\n",
       "      <td>0139b1253130b33adcd4b3a4490530d2</td>\n",
       "      <td>51530f7b5ba4cdde7c644c14f262005c</td>\n",
       "      <td>b0c096a2-4c32-4675-b005-43b58b3781e6</td>\n",
       "      <td>874b0dfa-ab3d-47da-ac75-5fd7b9bdea42</td>\n",
       "      <td>C30 WB</td>\n",
       "      <td>0d1ef8b5-90e4-40de-b37b-504cb862d18b__5b9a7352...</td>\n",
       "      <td>Woodlake Park EB__Cypress St &amp; Naranjo Blvd WB</td>\n",
       "      <td>0d1ef8b5-90e4-40de-b37b-504cb862d18b-5b9a7352-...</td>\n",
       "      <td>Midday</td>\n",
       "      <td>20.38</td>\n",
       "      <td>6</td>\n",
       "      <td>18.46</td>\n",
       "      <td>23.02</td>\n",
       "      <td>TCRTA TripShot Schedule</td>\n",
       "      <td>06 - Fresno</td>\n",
       "      <td>rec4YWVqVwJ9XqDbq</td>\n",
       "      <td>Tulare County Regional Transit Agency</td>\n",
       "      <td>aHR0cHM6Ly90Y3J0YS50cmlwc2hvdC5jb20vdjEvZ3Rmcy...</td>\n",
       "      <td>LINESTRING (-119.09762 36.41481, -119.09762 36...</td>\n",
       "    </tr>\n",
       "    <tr>\n",
       "      <th>2</th>\n",
       "      <td>0139b1253130b33adcd4b3a4490530d2</td>\n",
       "      <td>51530f7b5ba4cdde7c644c14f262005c</td>\n",
       "      <td>b0c096a2-4c32-4675-b005-43b58b3781e6</td>\n",
       "      <td>874b0dfa-ab3d-47da-ac75-5fd7b9bdea42</td>\n",
       "      <td>C30 WB</td>\n",
       "      <td>0d1ef8b5-90e4-40de-b37b-504cb862d18b__5b9a7352...</td>\n",
       "      <td>Woodlake Park EB__Cypress St &amp; Naranjo Blvd WB</td>\n",
       "      <td>0d1ef8b5-90e4-40de-b37b-504cb862d18b-5b9a7352-...</td>\n",
       "      <td>PM Peak</td>\n",
       "      <td>23.90</td>\n",
       "      <td>5</td>\n",
       "      <td>22.49</td>\n",
       "      <td>25.11</td>\n",
       "      <td>TCRTA TripShot Schedule</td>\n",
       "      <td>06 - Fresno</td>\n",
       "      <td>rec4YWVqVwJ9XqDbq</td>\n",
       "      <td>Tulare County Regional Transit Agency</td>\n",
       "      <td>aHR0cHM6Ly90Y3J0YS50cmlwc2hvdC5jb20vdjEvZ3Rmcy...</td>\n",
       "      <td>LINESTRING (-119.09762 36.41481, -119.09762 36...</td>\n",
       "    </tr>\n",
       "  </tbody>\n",
       "</table>\n",
       "</div>"
      ],
      "text/plain": [
       "          schedule_gtfs_dataset_key                   shape_array_key  \\\n",
       "0  0139b1253130b33adcd4b3a4490530d2  51530f7b5ba4cdde7c644c14f262005c   \n",
       "1  0139b1253130b33adcd4b3a4490530d2  51530f7b5ba4cdde7c644c14f262005c   \n",
       "2  0139b1253130b33adcd4b3a4490530d2  51530f7b5ba4cdde7c644c14f262005c   \n",
       "\n",
       "                               shape_id                              route_id  \\\n",
       "0  b0c096a2-4c32-4675-b005-43b58b3781e6  874b0dfa-ab3d-47da-ac75-5fd7b9bdea42   \n",
       "1  b0c096a2-4c32-4675-b005-43b58b3781e6  874b0dfa-ab3d-47da-ac75-5fd7b9bdea42   \n",
       "2  b0c096a2-4c32-4675-b005-43b58b3781e6  874b0dfa-ab3d-47da-ac75-5fd7b9bdea42   \n",
       "\n",
       "  route_short_name                                          stop_pair  \\\n",
       "0           C30 WB  0d1ef8b5-90e4-40de-b37b-504cb862d18b__5b9a7352...   \n",
       "1           C30 WB  0d1ef8b5-90e4-40de-b37b-504cb862d18b__5b9a7352...   \n",
       "2           C30 WB  0d1ef8b5-90e4-40de-b37b-504cb862d18b__5b9a7352...   \n",
       "\n",
       "                                   stop_pair_name  \\\n",
       "0  Woodlake Park EB__Cypress St & Naranjo Blvd WB   \n",
       "1  Woodlake Park EB__Cypress St & Naranjo Blvd WB   \n",
       "2  Woodlake Park EB__Cypress St & Naranjo Blvd WB   \n",
       "\n",
       "                                          segment_id time_of_day  p50_mph  \\\n",
       "0  0d1ef8b5-90e4-40de-b37b-504cb862d18b-5b9a7352-...     AM Peak    17.27   \n",
       "1  0d1ef8b5-90e4-40de-b37b-504cb862d18b-5b9a7352-...      Midday    20.38   \n",
       "2  0d1ef8b5-90e4-40de-b37b-504cb862d18b-5b9a7352-...     PM Peak    23.90   \n",
       "\n",
       "   n_trips  p20_mph  p80_mph                     name caltrans_district  \\\n",
       "0        4    15.20    20.96  TCRTA TripShot Schedule       06 - Fresno   \n",
       "1        6    18.46    23.02  TCRTA TripShot Schedule       06 - Fresno   \n",
       "2        5    22.49    25.11  TCRTA TripShot Schedule       06 - Fresno   \n",
       "\n",
       "  organization_source_record_id                      organization_name  \\\n",
       "0             rec4YWVqVwJ9XqDbq  Tulare County Regional Transit Agency   \n",
       "1             rec4YWVqVwJ9XqDbq  Tulare County Regional Transit Agency   \n",
       "2             rec4YWVqVwJ9XqDbq  Tulare County Regional Transit Agency   \n",
       "\n",
       "                                          base64_url  \\\n",
       "0  aHR0cHM6Ly90Y3J0YS50cmlwc2hvdC5jb20vdjEvZ3Rmcy...   \n",
       "1  aHR0cHM6Ly90Y3J0YS50cmlwc2hvdC5jb20vdjEvZ3Rmcy...   \n",
       "2  aHR0cHM6Ly90Y3J0YS50cmlwc2hvdC5jb20vdjEvZ3Rmcy...   \n",
       "\n",
       "                                            geometry  \n",
       "0  LINESTRING (-119.09762 36.41481, -119.09762 36...  \n",
       "1  LINESTRING (-119.09762 36.41481, -119.09762 36...  \n",
       "2  LINESTRING (-119.09762 36.41481, -119.09762 36...  "
      ]
     },
     "execution_count": 9,
     "metadata": {},
     "output_type": "execute_result"
    }
   ],
   "source": [
    "detail >> head(3)"
   ]
  },
  {
   "cell_type": "code",
   "execution_count": 10,
   "id": "64d2f707-77c7-4d4d-be06-156728ae0e2b",
   "metadata": {},
   "outputs": [
    {
     "data": {
      "text/plain": [
       "{'dir': '${gcs_paths.COMPILED_CACHED_VIEWS}', 'trips': 'trips', 'shapes': 'routelines', 'stops': 'stops', 'stop_times': 'st'}"
      ]
     },
     "execution_count": 10,
     "metadata": {},
     "output_type": "execute_result"
    }
   ],
   "source": [
    "catalog.schedule_downloads"
   ]
  },
  {
   "cell_type": "code",
   "execution_count": 11,
   "id": "294b8f67-1486-48e9-8fe9-015b009d8e53",
   "metadata": {},
   "outputs": [],
   "source": [
    "path = f'{catalog.schedule_downloads.dir}{catalog.schedule_downloads.trips}_{analysis_date}.parquet'"
   ]
  },
  {
   "cell_type": "code",
   "execution_count": 12,
   "id": "508d38d4-086c-43e6-8044-6ded0882e105",
   "metadata": {},
   "outputs": [
    {
     "data": {
      "text/plain": [
       "'gs://calitp-analytics-data/data-analyses/rt_delay/compiled_cached_views/trips_2024-10-16.parquet'"
      ]
     },
     "execution_count": 12,
     "metadata": {},
     "output_type": "execute_result"
    }
   ],
   "source": [
    "path"
   ]
  },
  {
   "cell_type": "code",
   "execution_count": 13,
   "id": "dc3543ea-2544-4917-887e-9de4441fb460",
   "metadata": {},
   "outputs": [],
   "source": [
    "trips = pd.read_parquet(path)"
   ]
  },
  {
   "cell_type": "code",
   "execution_count": 14,
   "id": "2153ab94-b927-40b4-8496-6bf82b4dd591",
   "metadata": {},
   "outputs": [],
   "source": [
    "trips = trips >> select(_.trip_instance_key, _.schedule_gtfs_dataset_key == _.gtfs_dataset_key,\n",
    "               _.route_id, _.direction_id, _.shape_id)"
   ]
  },
  {
   "cell_type": "code",
   "execution_count": 15,
   "id": "8ea7c1f6-7b14-4651-8263-c2a76fa9d38c",
   "metadata": {},
   "outputs": [],
   "source": [
    "time_buckets = gtfs_schedule_wrangling.get_trip_time_buckets(analysis_date)"
   ]
  },
  {
   "cell_type": "code",
   "execution_count": 16,
   "id": "75ce3325-f97a-4848-bee2-e034264221a1",
   "metadata": {},
   "outputs": [],
   "source": [
    "trips = trips >> inner_join(_, time_buckets, on='trip_instance_key')"
   ]
  },
  {
   "cell_type": "code",
   "execution_count": 18,
   "id": "2ad85cd8-59eb-43d2-ac4b-7b4473d6047b",
   "metadata": {},
   "outputs": [
    {
     "data": {
      "text/html": [
       "<div>\n",
       "<style scoped>\n",
       "    .dataframe tbody tr th:only-of-type {\n",
       "        vertical-align: middle;\n",
       "    }\n",
       "\n",
       "    .dataframe tbody tr th {\n",
       "        vertical-align: top;\n",
       "    }\n",
       "\n",
       "    .dataframe thead th {\n",
       "        text-align: right;\n",
       "    }\n",
       "</style>\n",
       "<table border=\"1\" class=\"dataframe\">\n",
       "  <thead>\n",
       "    <tr style=\"text-align: right;\">\n",
       "      <th></th>\n",
       "      <th>route_id</th>\n",
       "      <th>direction_id</th>\n",
       "      <th>shape_id</th>\n",
       "      <th>time_of_day</th>\n",
       "      <th>schedule_gtfs_dataset_key</th>\n",
       "      <th>n_trips</th>\n",
       "    </tr>\n",
       "  </thead>\n",
       "  <tbody>\n",
       "    <tr>\n",
       "      <th>0</th>\n",
       "      <td>001</td>\n",
       "      <td>0.0</td>\n",
       "      <td>0010111</td>\n",
       "      <td>AM Peak</td>\n",
       "      <td>9809d3f8121513057bc5cb8de7b54ce2</td>\n",
       "      <td>3</td>\n",
       "    </tr>\n",
       "    <tr>\n",
       "      <th>1</th>\n",
       "      <td>001</td>\n",
       "      <td>0.0</td>\n",
       "      <td>0010111</td>\n",
       "      <td>Early AM</td>\n",
       "      <td>9809d3f8121513057bc5cb8de7b54ce2</td>\n",
       "      <td>1</td>\n",
       "    </tr>\n",
       "    <tr>\n",
       "      <th>2</th>\n",
       "      <td>001</td>\n",
       "      <td>0.0</td>\n",
       "      <td>0010111</td>\n",
       "      <td>Midday</td>\n",
       "      <td>9809d3f8121513057bc5cb8de7b54ce2</td>\n",
       "      <td>5</td>\n",
       "    </tr>\n",
       "    <tr>\n",
       "      <th>3</th>\n",
       "      <td>001</td>\n",
       "      <td>0.0</td>\n",
       "      <td>0010111</td>\n",
       "      <td>PM Peak</td>\n",
       "      <td>9809d3f8121513057bc5cb8de7b54ce2</td>\n",
       "      <td>3</td>\n",
       "    </tr>\n",
       "    <tr>\n",
       "      <th>4</th>\n",
       "      <td>001</td>\n",
       "      <td>0.0</td>\n",
       "      <td>47840</td>\n",
       "      <td>AM Peak</td>\n",
       "      <td>70c8a8b71c815224299523bf2115924a</td>\n",
       "      <td>12</td>\n",
       "    </tr>\n",
       "    <tr>\n",
       "      <th>...</th>\n",
       "      <td>...</td>\n",
       "      <td>...</td>\n",
       "      <td>...</td>\n",
       "      <td>...</td>\n",
       "      <td>...</td>\n",
       "      <td>...</td>\n",
       "    </tr>\n",
       "    <tr>\n",
       "      <th>18369</th>\n",
       "      <td>shrdserv</td>\n",
       "      <td>0.0</td>\n",
       "      <td>shrdserv_loop_3</td>\n",
       "      <td>PM Peak</td>\n",
       "      <td>a8d5f90bfd689badb7e1deb041408e96</td>\n",
       "      <td>1</td>\n",
       "    </tr>\n",
       "    <tr>\n",
       "      <th>18370</th>\n",
       "      <td>valleywide</td>\n",
       "      <td>1.0</td>\n",
       "      <td>valleywide</td>\n",
       "      <td>AM Peak</td>\n",
       "      <td>31152914d10e2d0977b8b2fabb167922</td>\n",
       "      <td>12</td>\n",
       "    </tr>\n",
       "    <tr>\n",
       "      <th>18371</th>\n",
       "      <td>valleywide</td>\n",
       "      <td>1.0</td>\n",
       "      <td>valleywide</td>\n",
       "      <td>Evening</td>\n",
       "      <td>31152914d10e2d0977b8b2fabb167922</td>\n",
       "      <td>9</td>\n",
       "    </tr>\n",
       "    <tr>\n",
       "      <th>18372</th>\n",
       "      <td>valleywide</td>\n",
       "      <td>1.0</td>\n",
       "      <td>valleywide</td>\n",
       "      <td>Midday</td>\n",
       "      <td>31152914d10e2d0977b8b2fabb167922</td>\n",
       "      <td>20</td>\n",
       "    </tr>\n",
       "    <tr>\n",
       "      <th>18373</th>\n",
       "      <td>valleywide</td>\n",
       "      <td>1.0</td>\n",
       "      <td>valleywide</td>\n",
       "      <td>PM Peak</td>\n",
       "      <td>31152914d10e2d0977b8b2fabb167922</td>\n",
       "      <td>20</td>\n",
       "    </tr>\n",
       "  </tbody>\n",
       "</table>\n",
       "<p>18374 rows × 6 columns</p>\n",
       "</div>"
      ],
      "text/plain": [
       "         route_id  direction_id         shape_id time_of_day  \\\n",
       "0             001           0.0          0010111     AM Peak   \n",
       "1             001           0.0          0010111    Early AM   \n",
       "2             001           0.0          0010111      Midday   \n",
       "3             001           0.0          0010111     PM Peak   \n",
       "4             001           0.0            47840     AM Peak   \n",
       "...           ...           ...              ...         ...   \n",
       "18369    shrdserv           0.0  shrdserv_loop_3     PM Peak   \n",
       "18370  valleywide           1.0       valleywide     AM Peak   \n",
       "18371  valleywide           1.0       valleywide     Evening   \n",
       "18372  valleywide           1.0       valleywide      Midday   \n",
       "18373  valleywide           1.0       valleywide     PM Peak   \n",
       "\n",
       "              schedule_gtfs_dataset_key  n_trips  \n",
       "0      9809d3f8121513057bc5cb8de7b54ce2        3  \n",
       "1      9809d3f8121513057bc5cb8de7b54ce2        1  \n",
       "2      9809d3f8121513057bc5cb8de7b54ce2        5  \n",
       "3      9809d3f8121513057bc5cb8de7b54ce2        3  \n",
       "4      70c8a8b71c815224299523bf2115924a       12  \n",
       "...                                 ...      ...  \n",
       "18369  a8d5f90bfd689badb7e1deb041408e96        1  \n",
       "18370  31152914d10e2d0977b8b2fabb167922       12  \n",
       "18371  31152914d10e2d0977b8b2fabb167922        9  \n",
       "18372  31152914d10e2d0977b8b2fabb167922       20  \n",
       "18373  31152914d10e2d0977b8b2fabb167922       20  \n",
       "\n",
       "[18374 rows x 6 columns]"
      ]
     },
     "execution_count": 18,
     "metadata": {},
     "output_type": "execute_result"
    }
   ],
   "source": [
    "gtfs_schedule_wrangling.count_trips_by_group(trips, ['route_id', 'direction_id', 'shape_id',\n",
    "                                                     'time_of_day', 'schedule_gtfs_dataset_key'])"
   ]
  },
  {
   "cell_type": "code",
   "execution_count": null,
   "id": "a34abeb3-e433-4731-962e-3394af7b6f61",
   "metadata": {},
   "outputs": [],
   "source": []
  }
 ],
 "metadata": {
  "kernelspec": {
   "display_name": "Python 3 (ipykernel)",
   "language": "python",
   "name": "python3"
  },
  "language_info": {
   "codemirror_mode": {
    "name": "ipython",
    "version": 3
   },
   "file_extension": ".py",
   "mimetype": "text/x-python",
   "name": "python",
   "nbconvert_exporter": "python",
   "pygments_lexer": "ipython3",
   "version": "3.9.13"
  },
  "widgets": {
   "application/vnd.jupyter.widget-state+json": {
    "state": {},
    "version_major": 2,
    "version_minor": 0
   }
  }
 },
 "nbformat": 4,
 "nbformat_minor": 5
}
