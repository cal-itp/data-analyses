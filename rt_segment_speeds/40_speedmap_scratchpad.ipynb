{
 "cells": [
  {
   "cell_type": "code",
   "execution_count": 25,
   "id": "d528f399-cf33-459e-b5dc-92e0b4ae389a",
   "metadata": {},
   "outputs": [],
   "source": [
    "import pandas as pd\n",
    "from siuba import *\n",
    "import shared_utils\n",
    "\n",
    "from calitp_data_analysis import get_fs\n",
    "from segment_speed_utils import helpers, time_series_utils\n",
    "from segment_speed_utils.project_vars import SCHED_GCS, SEGMENT_GCS, GTFS_DATA_DICT, analysis_date"
   ]
  },
  {
   "cell_type": "markdown",
   "id": "82c092ac-157e-435c-be60-2f86a11a996e",
   "metadata": {},
   "source": [
    "i'd start with 5, checking if the columns you want are already there in this file (saved out at the end of stop_arrivals_to_speed, and is a speeds by trip table for that day)"
   ]
  },
  {
   "cell_type": "code",
   "execution_count": 28,
   "id": "6cd318e5-5c4e-4249-b158-232f4d940770",
   "metadata": {},
   "outputs": [],
   "source": [
    "catalog = shared_utils.catalog_utils.get_catalog('gtfs_analytics_data')"
   ]
  },
  {
   "cell_type": "code",
   "execution_count": 29,
   "id": "6e86c1a8-d3de-4fc6-9478-c03133b6745c",
   "metadata": {},
   "outputs": [
    {
     "data": {
      "text/plain": [
       "{'dir': '${gcs_paths.SEGMENT_GCS}', 'stage1': '${speeds_tables.vp_dwell}', 'proxy_stop_times': 'stop_time_expansion/speedmap_stop_times', 'stage2': 'nearest/nearest_vp_speedmap_proxy', 'stage2b': 'nearest/nearest2_vp_speedmap_proxy', 'stage3': 'speedmap/stop_arrivals_proxy', 'stage3b': 'speedmap/stop_arrivals', 'stage4': 'speedmap/speeds', 'trip_stop_cols': ['trip_instance_key', 'stop_sequence', 'stop_sequence1'], 'shape_stop_cols': ['shape_array_key', 'shape_id', 'route_id', 'route_short_name'], 'stop_pair_cols': ['stop_pair', 'stop_pair_name', 'segment_id'], 'segments_file': 'segment_options/speedmap_segments', 'shape_stop_single_segment': 'rollup_singleday/speeds_shape_speedmap_segments', 'route_dir_single_segment': 'rollup_singleday/speeds_route_dir_speedmap_segments', 'route_dir_multi_segment': 'rollup_multiday/speeds_route_dir_speedmap_segments', 'min_trip_minutes': '${speed_vars.time_min_cutoff}', 'max_trip_minutes': 180, 'max_speed': '${speed_vars.max_speed}', 'min_meters_elapsed': 1609, 'segment_meters': 1000}"
      ]
     },
     "execution_count": 29,
     "metadata": {},
     "output_type": "execute_result"
    }
   ],
   "source": [
    "catalog.speedmap_segments"
   ]
  },
  {
   "cell_type": "code",
   "execution_count": 30,
   "id": "f766b50a-c70d-4681-992c-d7f8979ada69",
   "metadata": {},
   "outputs": [
    {
     "data": {
      "text/plain": [
       "'2024-08-14'"
      ]
     },
     "execution_count": 30,
     "metadata": {},
     "output_type": "execute_result"
    }
   ],
   "source": [
    "analysis_date"
   ]
  },
  {
   "cell_type": "code",
   "execution_count": 31,
   "id": "b4dd7af7-0cfa-4d94-a96d-f11e7cdc12f9",
   "metadata": {},
   "outputs": [],
   "source": [
    "path = f'{catalog.speedmap_segments.dir}{catalog.speedmap_segments.stage4}_{analysis_date}.parquet'"
   ]
  },
  {
   "cell_type": "code",
   "execution_count": 32,
   "id": "b59806c6-2b6e-449b-be04-2ac59771d122",
   "metadata": {},
   "outputs": [
    {
     "data": {
      "text/plain": [
       "'gs://calitp-analytics-data/data-analyses/rt_segment_speeds/speedmap/speeds_2024-08-14.parquet'"
      ]
     },
     "execution_count": 32,
     "metadata": {},
     "output_type": "execute_result"
    }
   ],
   "source": [
    "path"
   ]
  },
  {
   "cell_type": "code",
   "execution_count": 33,
   "id": "6bd54bfc-cfad-487b-bf54-0cab10e72e36",
   "metadata": {},
   "outputs": [],
   "source": [
    "df = pd.read_parquet(path)"
   ]
  },
  {
   "cell_type": "code",
   "execution_count": 34,
   "id": "a4808944-fefa-486a-80f2-e75a1ae8b491",
   "metadata": {},
   "outputs": [
    {
     "data": {
      "text/plain": [
       "Index(['trip_instance_key', 'stop_sequence', 'stop_sequence1',\n",
       "       'shape_array_key', 'stop_meters', 'arrival_time', 'arrival_time_sec',\n",
       "       'subseq_arrival_time_sec', 'subseq_stop_meters', 'meters_elapsed',\n",
       "       'sec_elapsed', 'speed_mph', 'schedule_gtfs_dataset_key', 'route_id',\n",
       "       'direction_id', 'route_short_name', 'scheduled_service_minutes',\n",
       "       'sched_rt_category', 'time_of_day', 'shape_id', 'segment_id',\n",
       "       'stop_pair_name', 'stop_pair'],\n",
       "      dtype='object')"
      ]
     },
     "execution_count": 34,
     "metadata": {},
     "output_type": "execute_result"
    }
   ],
   "source": [
    "df.columns"
   ]
  },
  {
   "cell_type": "code",
   "execution_count": 36,
   "id": "54ab4555-0720-47a0-bd74-3b4abdc6ac95",
   "metadata": {},
   "outputs": [],
   "source": [
    "route_info = helpers.import_scheduled_trips(\n",
    "    analysis_date,\n",
    "    columns=[\n",
    "        \"gtfs_dataset_key\", \"trip_instance_key\",\n",
    "        \"route_id\", \"direction_id\", \"route_short_name\"\n",
    "    ],\n",
    "    get_pandas=True,\n",
    ")"
   ]
  },
  {
   "cell_type": "code",
   "execution_count": 37,
   "id": "e70276d9-382d-4262-81a7-ac172d1316e5",
   "metadata": {},
   "outputs": [
    {
     "data": {
      "text/html": [
       "<div>\n",
       "<style scoped>\n",
       "    .dataframe tbody tr th:only-of-type {\n",
       "        vertical-align: middle;\n",
       "    }\n",
       "\n",
       "    .dataframe tbody tr th {\n",
       "        vertical-align: top;\n",
       "    }\n",
       "\n",
       "    .dataframe thead th {\n",
       "        text-align: right;\n",
       "    }\n",
       "</style>\n",
       "<table border=\"1\" class=\"dataframe\">\n",
       "  <thead>\n",
       "    <tr style=\"text-align: right;\">\n",
       "      <th></th>\n",
       "      <th>schedule_gtfs_dataset_key</th>\n",
       "      <th>trip_instance_key</th>\n",
       "      <th>route_id</th>\n",
       "      <th>direction_id</th>\n",
       "      <th>route_short_name</th>\n",
       "    </tr>\n",
       "  </thead>\n",
       "  <tbody>\n",
       "    <tr>\n",
       "      <th>0</th>\n",
       "      <td>1770249a5a2e770ca90628434d4934b1</td>\n",
       "      <td>7406077cb3ef2783f260ac5ddf06f884</td>\n",
       "      <td>3407</td>\n",
       "      <td>1.0</td>\n",
       "      <td>Route 18</td>\n",
       "    </tr>\n",
       "    <tr>\n",
       "      <th>1</th>\n",
       "      <td>1770249a5a2e770ca90628434d4934b1</td>\n",
       "      <td>d9f1f0a4d53997858a48a340772c75a3</td>\n",
       "      <td>3408</td>\n",
       "      <td>0.0</td>\n",
       "      <td>Route 21</td>\n",
       "    </tr>\n",
       "    <tr>\n",
       "      <th>2</th>\n",
       "      <td>1770249a5a2e770ca90628434d4934b1</td>\n",
       "      <td>3c36b0976b9cd77a0862224d842fea5f</td>\n",
       "      <td>3408</td>\n",
       "      <td>0.0</td>\n",
       "      <td>Route 21</td>\n",
       "    </tr>\n",
       "    <tr>\n",
       "      <th>3</th>\n",
       "      <td>1770249a5a2e770ca90628434d4934b1</td>\n",
       "      <td>a26bcf0a35ac9342d82435bb064f8700</td>\n",
       "      <td>3408</td>\n",
       "      <td>0.0</td>\n",
       "      <td>Route 21</td>\n",
       "    </tr>\n",
       "    <tr>\n",
       "      <th>4</th>\n",
       "      <td>1770249a5a2e770ca90628434d4934b1</td>\n",
       "      <td>77b979dca36b0f4fd305210cee23f6a1</td>\n",
       "      <td>3408</td>\n",
       "      <td>0.0</td>\n",
       "      <td>Route 21</td>\n",
       "    </tr>\n",
       "    <tr>\n",
       "      <th>...</th>\n",
       "      <td>...</td>\n",
       "      <td>...</td>\n",
       "      <td>...</td>\n",
       "      <td>...</td>\n",
       "      <td>...</td>\n",
       "    </tr>\n",
       "    <tr>\n",
       "      <th>98814</th>\n",
       "      <td>c4092405159366c705b62df938293a4e</td>\n",
       "      <td>9f5b9be0653ea22d7c705fb8ccecf20f</td>\n",
       "      <td>Orange County Line</td>\n",
       "      <td>0.0</td>\n",
       "      <td>None</td>\n",
       "    </tr>\n",
       "    <tr>\n",
       "      <th>98815</th>\n",
       "      <td>c4092405159366c705b62df938293a4e</td>\n",
       "      <td>c9284435d85c3cf9a5fa5afacbcfb5f0</td>\n",
       "      <td>Antelope Valley Line</td>\n",
       "      <td>1.0</td>\n",
       "      <td>None</td>\n",
       "    </tr>\n",
       "    <tr>\n",
       "      <th>98816</th>\n",
       "      <td>c4092405159366c705b62df938293a4e</td>\n",
       "      <td>23bdf6228677587ad66658b818f8f3c8</td>\n",
       "      <td>Orange County Line</td>\n",
       "      <td>1.0</td>\n",
       "      <td>None</td>\n",
       "    </tr>\n",
       "    <tr>\n",
       "      <th>98817</th>\n",
       "      <td>c4092405159366c705b62df938293a4e</td>\n",
       "      <td>633996f6d703cbff7838099bc4e8c6e0</td>\n",
       "      <td>San Bernardino Line</td>\n",
       "      <td>0.0</td>\n",
       "      <td>None</td>\n",
       "    </tr>\n",
       "    <tr>\n",
       "      <th>98818</th>\n",
       "      <td>c4092405159366c705b62df938293a4e</td>\n",
       "      <td>244d1863feeafcda8075111177de596a</td>\n",
       "      <td>Antelope Valley Line</td>\n",
       "      <td>0.0</td>\n",
       "      <td>None</td>\n",
       "    </tr>\n",
       "  </tbody>\n",
       "</table>\n",
       "<p>98819 rows × 5 columns</p>\n",
       "</div>"
      ],
      "text/plain": [
       "              schedule_gtfs_dataset_key                 trip_instance_key  \\\n",
       "0      1770249a5a2e770ca90628434d4934b1  7406077cb3ef2783f260ac5ddf06f884   \n",
       "1      1770249a5a2e770ca90628434d4934b1  d9f1f0a4d53997858a48a340772c75a3   \n",
       "2      1770249a5a2e770ca90628434d4934b1  3c36b0976b9cd77a0862224d842fea5f   \n",
       "3      1770249a5a2e770ca90628434d4934b1  a26bcf0a35ac9342d82435bb064f8700   \n",
       "4      1770249a5a2e770ca90628434d4934b1  77b979dca36b0f4fd305210cee23f6a1   \n",
       "...                                 ...                               ...   \n",
       "98814  c4092405159366c705b62df938293a4e  9f5b9be0653ea22d7c705fb8ccecf20f   \n",
       "98815  c4092405159366c705b62df938293a4e  c9284435d85c3cf9a5fa5afacbcfb5f0   \n",
       "98816  c4092405159366c705b62df938293a4e  23bdf6228677587ad66658b818f8f3c8   \n",
       "98817  c4092405159366c705b62df938293a4e  633996f6d703cbff7838099bc4e8c6e0   \n",
       "98818  c4092405159366c705b62df938293a4e  244d1863feeafcda8075111177de596a   \n",
       "\n",
       "                   route_id  direction_id route_short_name  \n",
       "0                      3407           1.0         Route 18  \n",
       "1                      3408           0.0         Route 21  \n",
       "2                      3408           0.0         Route 21  \n",
       "3                      3408           0.0         Route 21  \n",
       "4                      3408           0.0         Route 21  \n",
       "...                     ...           ...              ...  \n",
       "98814    Orange County Line           0.0             None  \n",
       "98815  Antelope Valley Line           1.0             None  \n",
       "98816    Orange County Line           1.0             None  \n",
       "98817   San Bernardino Line           0.0             None  \n",
       "98818  Antelope Valley Line           0.0             None  \n",
       "\n",
       "[98819 rows x 5 columns]"
      ]
     },
     "execution_count": 37,
     "metadata": {},
     "output_type": "execute_result"
    }
   ],
   "source": [
    "route_info"
   ]
  },
  {
   "cell_type": "code",
   "execution_count": 49,
   "id": "2849f073-df8e-4774-a755-1cac46c80e3e",
   "metadata": {},
   "outputs": [],
   "source": [
    "test = ['x', 'y', 'x']"
   ]
  },
  {
   "cell_type": "code",
   "execution_count": 50,
   "id": "ed9c230d-ea3d-46bc-b570-203bde23fa0a",
   "metadata": {},
   "outputs": [
    {
     "data": {
      "text/plain": [
       "['x', 'y']"
      ]
     },
     "execution_count": 50,
     "metadata": {},
     "output_type": "execute_result"
    }
   ],
   "source": [
    "list(dict.fromkeys(test))"
   ]
  },
  {
   "cell_type": "code",
   "execution_count": null,
   "id": "9964cea8-8418-4d4f-9987-019d34544012",
   "metadata": {},
   "outputs": [],
   "source": []
  }
 ],
 "metadata": {
  "kernelspec": {
   "display_name": "Python 3 (ipykernel)",
   "language": "python",
   "name": "python3"
  },
  "language_info": {
   "codemirror_mode": {
    "name": "ipython",
    "version": 3
   },
   "file_extension": ".py",
   "mimetype": "text/x-python",
   "name": "python",
   "nbconvert_exporter": "python",
   "pygments_lexer": "ipython3",
   "version": "3.9.13"
  },
  "widgets": {
   "application/vnd.jupyter.widget-state+json": {
    "state": {},
    "version_major": 2,
    "version_minor": 0
   }
  }
 },
 "nbformat": 4,
 "nbformat_minor": 5
}
