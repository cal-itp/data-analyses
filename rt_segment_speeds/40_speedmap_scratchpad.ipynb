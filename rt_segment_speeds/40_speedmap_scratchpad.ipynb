{
 "cells": [
  {
   "cell_type": "code",
   "execution_count": 1,
   "id": "d528f399-cf33-459e-b5dc-92e0b4ae389a",
   "metadata": {},
   "outputs": [],
   "source": [
    "import pandas as pd\n",
    "import geopandas as gpd\n",
    "from siuba import *\n",
    "import shared_utils\n",
    "\n",
    "from calitp_data_analysis import get_fs\n",
    "from segment_speed_utils import helpers, time_series_utils, gtfs_schedule_wrangling\n",
    "from segment_speed_utils.project_vars import SCHED_GCS, SEGMENT_GCS, GTFS_DATA_DICT, analysis_date"
   ]
  },
  {
   "cell_type": "markdown",
   "id": "82c092ac-157e-435c-be60-2f86a11a996e",
   "metadata": {},
   "source": [
    "i'd start with 5, checking if the columns you want are already there in this file (saved out at the end of stop_arrivals_to_speed, and is a speeds by trip table for that day)"
   ]
  },
  {
   "cell_type": "code",
   "execution_count": 2,
   "id": "6cd318e5-5c4e-4249-b158-232f4d940770",
   "metadata": {},
   "outputs": [],
   "source": [
    "catalog = shared_utils.catalog_utils.get_catalog('gtfs_analytics_data')"
   ]
  },
  {
   "cell_type": "code",
   "execution_count": 3,
   "id": "6e86c1a8-d3de-4fc6-9478-c03133b6745c",
   "metadata": {},
   "outputs": [
    {
     "data": {
      "text/plain": [
       "{'dir': '${gcs_paths.SEGMENT_GCS}', 'stage1': '${speeds_tables.vp_dwell}', 'proxy_stop_times': 'stop_time_expansion/speedmap_stop_times', 'stage2': 'nearest/nearest_vp_speedmap_proxy', 'stage2b': 'nearest/nearest2_vp_speedmap_proxy', 'stage3': 'speedmap/stop_arrivals_proxy', 'stage3b': 'speedmap/stop_arrivals', 'stage4': 'speedmap/speeds', 'trip_stop_cols': ['trip_instance_key', 'stop_sequence', 'stop_sequence1'], 'shape_stop_cols': ['shape_array_key', 'shape_id'], 'stop_pair_cols': ['stop_pair', 'stop_pair_name', 'segment_id'], 'route_dir_cols': ['route_id', 'route_short_name'], 'segments_file': 'segment_options/speedmap_segments', 'shape_stop_single_segment': 'rollup_singleday/speeds_shape_speedmap_segments', 'shape_stop_single_segment_detail': 'rollup_singleday/speeds_shape_speedmap_segments_detail', 'route_dir_single_segment': 'rollup_singleday/speeds_route_dir_speedmap_segments', 'route_dir_multi_segment': 'rollup_multiday/speeds_route_dir_speedmap_segments', 'min_trip_minutes': '${speed_vars.time_min_cutoff}', 'max_trip_minutes': 180, 'max_speed': '${speed_vars.max_speed}', 'min_meters_elapsed': 1609, 'segment_meters': 1000}"
      ]
     },
     "execution_count": 3,
     "metadata": {},
     "output_type": "execute_result"
    }
   ],
   "source": [
    "catalog.speedmap_segments"
   ]
  },
  {
   "cell_type": "code",
   "execution_count": 4,
   "id": "f766b50a-c70d-4681-992c-d7f8979ada69",
   "metadata": {},
   "outputs": [
    {
     "data": {
      "text/plain": [
       "'2024-10-16'"
      ]
     },
     "execution_count": 4,
     "metadata": {},
     "output_type": "execute_result"
    }
   ],
   "source": [
    "analysis_date"
   ]
  },
  {
   "cell_type": "code",
   "execution_count": 5,
   "id": "b4dd7af7-0cfa-4d94-a96d-f11e7cdc12f9",
   "metadata": {},
   "outputs": [],
   "source": [
    "# path = f'{catalog.speedmap_segments.dir}{catalog.speedmap_segments.stage4}_{analysis_date}.parquet'"
   ]
  },
  {
   "cell_type": "code",
   "execution_count": 6,
   "id": "12b824f2-4326-4f5e-ae86-95a46703c948",
   "metadata": {},
   "outputs": [],
   "source": [
    "path = f'{catalog.speedmap_segments.dir}{catalog.speedmap_segments.shape_stop_single_segment_detail}_{analysis_date}.parquet'"
   ]
  },
  {
   "cell_type": "code",
   "execution_count": 7,
   "id": "2743cbe7-b472-4ea2-af08-13d2003e93db",
   "metadata": {},
   "outputs": [
    {
     "data": {
      "text/plain": [
       "'gs://calitp-analytics-data/data-analyses/rt_segment_speeds/rollup_singleday/speeds_shape_speedmap_segments_detail_2024-10-16.parquet'"
      ]
     },
     "execution_count": 7,
     "metadata": {},
     "output_type": "execute_result"
    }
   ],
   "source": [
    "path"
   ]
  },
  {
   "cell_type": "code",
   "execution_count": 8,
   "id": "7669d09d-c49e-448c-b57a-299112614bd0",
   "metadata": {},
   "outputs": [],
   "source": [
    "detail = gpd.read_parquet(path)"
   ]
  },
  {
   "cell_type": "code",
   "execution_count": 9,
   "id": "ddf376af-9781-4943-b0d7-5f5418e07735",
   "metadata": {},
   "outputs": [
    {
     "data": {
      "text/html": [
       "<div>\n",
       "<style scoped>\n",
       "    .dataframe tbody tr th:only-of-type {\n",
       "        vertical-align: middle;\n",
       "    }\n",
       "\n",
       "    .dataframe tbody tr th {\n",
       "        vertical-align: top;\n",
       "    }\n",
       "\n",
       "    .dataframe thead th {\n",
       "        text-align: right;\n",
       "    }\n",
       "</style>\n",
       "<table border=\"1\" class=\"dataframe\">\n",
       "  <thead>\n",
       "    <tr style=\"text-align: right;\">\n",
       "      <th></th>\n",
       "      <th>schedule_gtfs_dataset_key</th>\n",
       "      <th>shape_array_key</th>\n",
       "      <th>shape_id</th>\n",
       "      <th>route_id</th>\n",
       "      <th>route_short_name</th>\n",
       "      <th>stop_pair</th>\n",
       "      <th>stop_pair_name</th>\n",
       "      <th>segment_id</th>\n",
       "      <th>time_of_day</th>\n",
       "      <th>p50_mph</th>\n",
       "      <th>n_trips</th>\n",
       "      <th>p20_mph</th>\n",
       "      <th>p80_mph</th>\n",
       "      <th>name</th>\n",
       "      <th>caltrans_district</th>\n",
       "      <th>organization_source_record_id</th>\n",
       "      <th>organization_name</th>\n",
       "      <th>base64_url</th>\n",
       "      <th>geometry</th>\n",
       "    </tr>\n",
       "  </thead>\n",
       "  <tbody>\n",
       "    <tr>\n",
       "      <th>0</th>\n",
       "      <td>0139b1253130b33adcd4b3a4490530d2</td>\n",
       "      <td>51530f7b5ba4cdde7c644c14f262005c</td>\n",
       "      <td>b0c096a2-4c32-4675-b005-43b58b3781e6</td>\n",
       "      <td>874b0dfa-ab3d-47da-ac75-5fd7b9bdea42</td>\n",
       "      <td>C30 WB</td>\n",
       "      <td>0d1ef8b5-90e4-40de-b37b-504cb862d18b__5b9a7352...</td>\n",
       "      <td>Woodlake Park EB__Cypress St &amp; Naranjo Blvd WB</td>\n",
       "      <td>0d1ef8b5-90e4-40de-b37b-504cb862d18b-5b9a7352-...</td>\n",
       "      <td>AM Peak</td>\n",
       "      <td>17.27</td>\n",
       "      <td>4</td>\n",
       "      <td>15.20</td>\n",
       "      <td>20.96</td>\n",
       "      <td>TCRTA TripShot Schedule</td>\n",
       "      <td>06 - Fresno</td>\n",
       "      <td>rec4YWVqVwJ9XqDbq</td>\n",
       "      <td>Tulare County Regional Transit Agency</td>\n",
       "      <td>aHR0cHM6Ly90Y3J0YS50cmlwc2hvdC5jb20vdjEvZ3Rmcy...</td>\n",
       "      <td>LINESTRING (-119.09762 36.41481, -119.09762 36...</td>\n",
       "    </tr>\n",
       "    <tr>\n",
       "      <th>1</th>\n",
       "      <td>0139b1253130b33adcd4b3a4490530d2</td>\n",
       "      <td>51530f7b5ba4cdde7c644c14f262005c</td>\n",
       "      <td>b0c096a2-4c32-4675-b005-43b58b3781e6</td>\n",
       "      <td>874b0dfa-ab3d-47da-ac75-5fd7b9bdea42</td>\n",
       "      <td>C30 WB</td>\n",
       "      <td>0d1ef8b5-90e4-40de-b37b-504cb862d18b__5b9a7352...</td>\n",
       "      <td>Woodlake Park EB__Cypress St &amp; Naranjo Blvd WB</td>\n",
       "      <td>0d1ef8b5-90e4-40de-b37b-504cb862d18b-5b9a7352-...</td>\n",
       "      <td>Midday</td>\n",
       "      <td>20.38</td>\n",
       "      <td>6</td>\n",
       "      <td>18.46</td>\n",
       "      <td>23.02</td>\n",
       "      <td>TCRTA TripShot Schedule</td>\n",
       "      <td>06 - Fresno</td>\n",
       "      <td>rec4YWVqVwJ9XqDbq</td>\n",
       "      <td>Tulare County Regional Transit Agency</td>\n",
       "      <td>aHR0cHM6Ly90Y3J0YS50cmlwc2hvdC5jb20vdjEvZ3Rmcy...</td>\n",
       "      <td>LINESTRING (-119.09762 36.41481, -119.09762 36...</td>\n",
       "    </tr>\n",
       "    <tr>\n",
       "      <th>2</th>\n",
       "      <td>0139b1253130b33adcd4b3a4490530d2</td>\n",
       "      <td>51530f7b5ba4cdde7c644c14f262005c</td>\n",
       "      <td>b0c096a2-4c32-4675-b005-43b58b3781e6</td>\n",
       "      <td>874b0dfa-ab3d-47da-ac75-5fd7b9bdea42</td>\n",
       "      <td>C30 WB</td>\n",
       "      <td>0d1ef8b5-90e4-40de-b37b-504cb862d18b__5b9a7352...</td>\n",
       "      <td>Woodlake Park EB__Cypress St &amp; Naranjo Blvd WB</td>\n",
       "      <td>0d1ef8b5-90e4-40de-b37b-504cb862d18b-5b9a7352-...</td>\n",
       "      <td>PM Peak</td>\n",
       "      <td>23.90</td>\n",
       "      <td>5</td>\n",
       "      <td>22.49</td>\n",
       "      <td>25.11</td>\n",
       "      <td>TCRTA TripShot Schedule</td>\n",
       "      <td>06 - Fresno</td>\n",
       "      <td>rec4YWVqVwJ9XqDbq</td>\n",
       "      <td>Tulare County Regional Transit Agency</td>\n",
       "      <td>aHR0cHM6Ly90Y3J0YS50cmlwc2hvdC5jb20vdjEvZ3Rmcy...</td>\n",
       "      <td>LINESTRING (-119.09762 36.41481, -119.09762 36...</td>\n",
       "    </tr>\n",
       "  </tbody>\n",
       "</table>\n",
       "</div>"
      ],
      "text/plain": [
       "          schedule_gtfs_dataset_key                   shape_array_key  \\\n",
       "0  0139b1253130b33adcd4b3a4490530d2  51530f7b5ba4cdde7c644c14f262005c   \n",
       "1  0139b1253130b33adcd4b3a4490530d2  51530f7b5ba4cdde7c644c14f262005c   \n",
       "2  0139b1253130b33adcd4b3a4490530d2  51530f7b5ba4cdde7c644c14f262005c   \n",
       "\n",
       "                               shape_id                              route_id  \\\n",
       "0  b0c096a2-4c32-4675-b005-43b58b3781e6  874b0dfa-ab3d-47da-ac75-5fd7b9bdea42   \n",
       "1  b0c096a2-4c32-4675-b005-43b58b3781e6  874b0dfa-ab3d-47da-ac75-5fd7b9bdea42   \n",
       "2  b0c096a2-4c32-4675-b005-43b58b3781e6  874b0dfa-ab3d-47da-ac75-5fd7b9bdea42   \n",
       "\n",
       "  route_short_name                                          stop_pair  \\\n",
       "0           C30 WB  0d1ef8b5-90e4-40de-b37b-504cb862d18b__5b9a7352...   \n",
       "1           C30 WB  0d1ef8b5-90e4-40de-b37b-504cb862d18b__5b9a7352...   \n",
       "2           C30 WB  0d1ef8b5-90e4-40de-b37b-504cb862d18b__5b9a7352...   \n",
       "\n",
       "                                   stop_pair_name  \\\n",
       "0  Woodlake Park EB__Cypress St & Naranjo Blvd WB   \n",
       "1  Woodlake Park EB__Cypress St & Naranjo Blvd WB   \n",
       "2  Woodlake Park EB__Cypress St & Naranjo Blvd WB   \n",
       "\n",
       "                                          segment_id time_of_day  p50_mph  \\\n",
       "0  0d1ef8b5-90e4-40de-b37b-504cb862d18b-5b9a7352-...     AM Peak    17.27   \n",
       "1  0d1ef8b5-90e4-40de-b37b-504cb862d18b-5b9a7352-...      Midday    20.38   \n",
       "2  0d1ef8b5-90e4-40de-b37b-504cb862d18b-5b9a7352-...     PM Peak    23.90   \n",
       "\n",
       "   n_trips  p20_mph  p80_mph                     name caltrans_district  \\\n",
       "0        4    15.20    20.96  TCRTA TripShot Schedule       06 - Fresno   \n",
       "1        6    18.46    23.02  TCRTA TripShot Schedule       06 - Fresno   \n",
       "2        5    22.49    25.11  TCRTA TripShot Schedule       06 - Fresno   \n",
       "\n",
       "  organization_source_record_id                      organization_name  \\\n",
       "0             rec4YWVqVwJ9XqDbq  Tulare County Regional Transit Agency   \n",
       "1             rec4YWVqVwJ9XqDbq  Tulare County Regional Transit Agency   \n",
       "2             rec4YWVqVwJ9XqDbq  Tulare County Regional Transit Agency   \n",
       "\n",
       "                                          base64_url  \\\n",
       "0  aHR0cHM6Ly90Y3J0YS50cmlwc2hvdC5jb20vdjEvZ3Rmcy...   \n",
       "1  aHR0cHM6Ly90Y3J0YS50cmlwc2hvdC5jb20vdjEvZ3Rmcy...   \n",
       "2  aHR0cHM6Ly90Y3J0YS50cmlwc2hvdC5jb20vdjEvZ3Rmcy...   \n",
       "\n",
       "                                            geometry  \n",
       "0  LINESTRING (-119.09762 36.41481, -119.09762 36...  \n",
       "1  LINESTRING (-119.09762 36.41481, -119.09762 36...  \n",
       "2  LINESTRING (-119.09762 36.41481, -119.09762 36...  "
      ]
     },
     "execution_count": 9,
     "metadata": {},
     "output_type": "execute_result"
    }
   ],
   "source": [
    "detail >> head(3)"
   ]
  },
  {
   "cell_type": "code",
   "execution_count": 25,
   "id": "294b8f67-1486-48e9-8fe9-015b009d8e53",
   "metadata": {},
   "outputs": [],
   "source": [
    "path = f'{catalog.schedule_downloads.dir}{catalog.schedule_downloads.trips}_{analysis_date}.parquet'"
   ]
  },
  {
   "cell_type": "code",
   "execution_count": 26,
   "id": "508d38d4-086c-43e6-8044-6ded0882e105",
   "metadata": {},
   "outputs": [
    {
     "data": {
      "text/plain": [
       "'gs://calitp-analytics-data/data-analyses/rt_delay/compiled_cached_views/trips_2024-10-16.parquet'"
      ]
     },
     "execution_count": 26,
     "metadata": {},
     "output_type": "execute_result"
    }
   ],
   "source": [
    "path"
   ]
  },
  {
   "cell_type": "code",
   "execution_count": 27,
   "id": "dc3543ea-2544-4917-887e-9de4441fb460",
   "metadata": {},
   "outputs": [],
   "source": [
    "trips = pd.read_parquet(path)"
   ]
  },
  {
   "cell_type": "code",
   "execution_count": 28,
   "id": "de097b6e-9b83-4d3a-b3e6-3646c7c7be86",
   "metadata": {},
   "outputs": [],
   "source": [
    "df = gtfs_schedule_wrangling.get_sched_trips_hr(analysis_date)"
   ]
  },
  {
   "cell_type": "code",
   "execution_count": 29,
   "id": "55d704c5-1a87-4bbf-bcde-e867b53c3988",
   "metadata": {},
   "outputs": [
    {
     "data": {
      "text/html": [
       "<div>\n",
       "<style scoped>\n",
       "    .dataframe tbody tr th:only-of-type {\n",
       "        vertical-align: middle;\n",
       "    }\n",
       "\n",
       "    .dataframe tbody tr th {\n",
       "        vertical-align: top;\n",
       "    }\n",
       "\n",
       "    .dataframe thead th {\n",
       "        text-align: right;\n",
       "    }\n",
       "</style>\n",
       "<table border=\"1\" class=\"dataframe\">\n",
       "  <thead>\n",
       "    <tr style=\"text-align: right;\">\n",
       "      <th></th>\n",
       "      <th>route_id</th>\n",
       "      <th>direction_id</th>\n",
       "      <th>shape_id</th>\n",
       "      <th>time_of_day</th>\n",
       "      <th>schedule_gtfs_dataset_key</th>\n",
       "      <th>n_trips</th>\n",
       "      <th>trips_hr</th>\n",
       "    </tr>\n",
       "  </thead>\n",
       "  <tbody>\n",
       "    <tr>\n",
       "      <th>0</th>\n",
       "      <td>001</td>\n",
       "      <td>0.0</td>\n",
       "      <td>0010111</td>\n",
       "      <td>AM Peak</td>\n",
       "      <td>9809d3f8121513057bc5cb8de7b54ce2</td>\n",
       "      <td>3</td>\n",
       "      <td>1.000000</td>\n",
       "    </tr>\n",
       "    <tr>\n",
       "      <th>1</th>\n",
       "      <td>001</td>\n",
       "      <td>0.0</td>\n",
       "      <td>0010111</td>\n",
       "      <td>Early AM</td>\n",
       "      <td>9809d3f8121513057bc5cb8de7b54ce2</td>\n",
       "      <td>1</td>\n",
       "      <td>0.333333</td>\n",
       "    </tr>\n",
       "    <tr>\n",
       "      <th>2</th>\n",
       "      <td>001</td>\n",
       "      <td>0.0</td>\n",
       "      <td>0010111</td>\n",
       "      <td>Midday</td>\n",
       "      <td>9809d3f8121513057bc5cb8de7b54ce2</td>\n",
       "      <td>5</td>\n",
       "      <td>1.000000</td>\n",
       "    </tr>\n",
       "  </tbody>\n",
       "</table>\n",
       "</div>"
      ],
      "text/plain": [
       "  route_id  direction_id shape_id time_of_day  \\\n",
       "0      001           0.0  0010111     AM Peak   \n",
       "1      001           0.0  0010111    Early AM   \n",
       "2      001           0.0  0010111      Midday   \n",
       "\n",
       "          schedule_gtfs_dataset_key  n_trips  trips_hr  \n",
       "0  9809d3f8121513057bc5cb8de7b54ce2        3  1.000000  \n",
       "1  9809d3f8121513057bc5cb8de7b54ce2        1  0.333333  \n",
       "2  9809d3f8121513057bc5cb8de7b54ce2        5  1.000000  "
      ]
     },
     "execution_count": 29,
     "metadata": {},
     "output_type": "execute_result"
    }
   ],
   "source": [
    "df >> head(3)"
   ]
  },
  {
   "cell_type": "markdown",
   "id": "6a062796-ae2f-4081-b73b-8923c7bd85b2",
   "metadata": {},
   "source": [
    "## Where'd the J line go??"
   ]
  },
  {
   "cell_type": "code",
   "execution_count": 30,
   "id": "1ded1f93-6458-4365-b30b-744417bbf19f",
   "metadata": {},
   "outputs": [
    {
     "data": {
      "text/html": [
       "<div>\n",
       "<style scoped>\n",
       "    .dataframe tbody tr th:only-of-type {\n",
       "        vertical-align: middle;\n",
       "    }\n",
       "\n",
       "    .dataframe tbody tr th {\n",
       "        vertical-align: top;\n",
       "    }\n",
       "\n",
       "    .dataframe thead th {\n",
       "        text-align: right;\n",
       "    }\n",
       "</style>\n",
       "<table border=\"1\" class=\"dataframe\">\n",
       "  <thead>\n",
       "    <tr style=\"text-align: right;\">\n",
       "      <th></th>\n",
       "      <th>route_id</th>\n",
       "      <th>direction_id</th>\n",
       "      <th>shape_id</th>\n",
       "      <th>time_of_day</th>\n",
       "      <th>schedule_gtfs_dataset_key</th>\n",
       "      <th>n_trips</th>\n",
       "      <th>trips_hr</th>\n",
       "    </tr>\n",
       "  </thead>\n",
       "  <tbody>\n",
       "    <tr>\n",
       "      <th>15680</th>\n",
       "      <td>910-13183</td>\n",
       "      <td>0.0</td>\n",
       "      <td>9100214_JUNE24</td>\n",
       "      <td>AM Peak</td>\n",
       "      <td>0666caf3ec1ecc96b74f4477ee4bc939</td>\n",
       "      <td>19</td>\n",
       "      <td>6.333333</td>\n",
       "    </tr>\n",
       "    <tr>\n",
       "      <th>15681</th>\n",
       "      <td>910-13183</td>\n",
       "      <td>0.0</td>\n",
       "      <td>9100214_JUNE24</td>\n",
       "      <td>Early AM</td>\n",
       "      <td>0666caf3ec1ecc96b74f4477ee4bc939</td>\n",
       "      <td>15</td>\n",
       "      <td>5.000000</td>\n",
       "    </tr>\n",
       "    <tr>\n",
       "      <th>15682</th>\n",
       "      <td>910-13183</td>\n",
       "      <td>0.0</td>\n",
       "      <td>9100214_JUNE24</td>\n",
       "      <td>Evening</td>\n",
       "      <td>0666caf3ec1ecc96b74f4477ee4bc939</td>\n",
       "      <td>9</td>\n",
       "      <td>1.800000</td>\n",
       "    </tr>\n",
       "    <tr>\n",
       "      <th>15683</th>\n",
       "      <td>910-13183</td>\n",
       "      <td>0.0</td>\n",
       "      <td>9100214_JUNE24</td>\n",
       "      <td>Midday</td>\n",
       "      <td>0666caf3ec1ecc96b74f4477ee4bc939</td>\n",
       "      <td>22</td>\n",
       "      <td>4.400000</td>\n",
       "    </tr>\n",
       "    <tr>\n",
       "      <th>15684</th>\n",
       "      <td>910-13183</td>\n",
       "      <td>0.0</td>\n",
       "      <td>9100214_JUNE24</td>\n",
       "      <td>Owl</td>\n",
       "      <td>0666caf3ec1ecc96b74f4477ee4bc939</td>\n",
       "      <td>4</td>\n",
       "      <td>1.000000</td>\n",
       "    </tr>\n",
       "    <tr>\n",
       "      <th>15685</th>\n",
       "      <td>910-13183</td>\n",
       "      <td>0.0</td>\n",
       "      <td>9100214_JUNE24</td>\n",
       "      <td>PM Peak</td>\n",
       "      <td>0666caf3ec1ecc96b74f4477ee4bc939</td>\n",
       "      <td>32</td>\n",
       "      <td>6.400000</td>\n",
       "    </tr>\n",
       "    <tr>\n",
       "      <th>15686</th>\n",
       "      <td>910-13183</td>\n",
       "      <td>0.0</td>\n",
       "      <td>9100215_JUNE24</td>\n",
       "      <td>AM Peak</td>\n",
       "      <td>0666caf3ec1ecc96b74f4477ee4bc939</td>\n",
       "      <td>7</td>\n",
       "      <td>2.333333</td>\n",
       "    </tr>\n",
       "    <tr>\n",
       "      <th>15687</th>\n",
       "      <td>910-13183</td>\n",
       "      <td>0.0</td>\n",
       "      <td>9100215_JUNE24</td>\n",
       "      <td>Early AM</td>\n",
       "      <td>0666caf3ec1ecc96b74f4477ee4bc939</td>\n",
       "      <td>8</td>\n",
       "      <td>2.666667</td>\n",
       "    </tr>\n",
       "    <tr>\n",
       "      <th>15688</th>\n",
       "      <td>910-13183</td>\n",
       "      <td>0.0</td>\n",
       "      <td>9100215_JUNE24</td>\n",
       "      <td>Evening</td>\n",
       "      <td>0666caf3ec1ecc96b74f4477ee4bc939</td>\n",
       "      <td>1</td>\n",
       "      <td>0.200000</td>\n",
       "    </tr>\n",
       "    <tr>\n",
       "      <th>15689</th>\n",
       "      <td>910-13183</td>\n",
       "      <td>0.0</td>\n",
       "      <td>9100215_JUNE24</td>\n",
       "      <td>Midday</td>\n",
       "      <td>0666caf3ec1ecc96b74f4477ee4bc939</td>\n",
       "      <td>11</td>\n",
       "      <td>2.200000</td>\n",
       "    </tr>\n",
       "    <tr>\n",
       "      <th>15690</th>\n",
       "      <td>910-13183</td>\n",
       "      <td>0.0</td>\n",
       "      <td>9100215_JUNE24</td>\n",
       "      <td>PM Peak</td>\n",
       "      <td>0666caf3ec1ecc96b74f4477ee4bc939</td>\n",
       "      <td>11</td>\n",
       "      <td>2.200000</td>\n",
       "    </tr>\n",
       "    <tr>\n",
       "      <th>15691</th>\n",
       "      <td>910-13183</td>\n",
       "      <td>1.0</td>\n",
       "      <td>9100209_JUNE24</td>\n",
       "      <td>AM Peak</td>\n",
       "      <td>0666caf3ec1ecc96b74f4477ee4bc939</td>\n",
       "      <td>7</td>\n",
       "      <td>2.333333</td>\n",
       "    </tr>\n",
       "    <tr>\n",
       "      <th>15692</th>\n",
       "      <td>910-13183</td>\n",
       "      <td>1.0</td>\n",
       "      <td>9100209_JUNE24</td>\n",
       "      <td>Early AM</td>\n",
       "      <td>0666caf3ec1ecc96b74f4477ee4bc939</td>\n",
       "      <td>8</td>\n",
       "      <td>2.666667</td>\n",
       "    </tr>\n",
       "    <tr>\n",
       "      <th>15693</th>\n",
       "      <td>910-13183</td>\n",
       "      <td>1.0</td>\n",
       "      <td>9100209_JUNE24</td>\n",
       "      <td>Midday</td>\n",
       "      <td>0666caf3ec1ecc96b74f4477ee4bc939</td>\n",
       "      <td>12</td>\n",
       "      <td>2.400000</td>\n",
       "    </tr>\n",
       "    <tr>\n",
       "      <th>15694</th>\n",
       "      <td>910-13183</td>\n",
       "      <td>1.0</td>\n",
       "      <td>9100209_JUNE24</td>\n",
       "      <td>Owl</td>\n",
       "      <td>0666caf3ec1ecc96b74f4477ee4bc939</td>\n",
       "      <td>1</td>\n",
       "      <td>0.250000</td>\n",
       "    </tr>\n",
       "    <tr>\n",
       "      <th>15695</th>\n",
       "      <td>910-13183</td>\n",
       "      <td>1.0</td>\n",
       "      <td>9100209_JUNE24</td>\n",
       "      <td>PM Peak</td>\n",
       "      <td>0666caf3ec1ecc96b74f4477ee4bc939</td>\n",
       "      <td>15</td>\n",
       "      <td>3.000000</td>\n",
       "    </tr>\n",
       "    <tr>\n",
       "      <th>15696</th>\n",
       "      <td>910-13183</td>\n",
       "      <td>1.0</td>\n",
       "      <td>9100210_JUNE24</td>\n",
       "      <td>AM Peak</td>\n",
       "      <td>0666caf3ec1ecc96b74f4477ee4bc939</td>\n",
       "      <td>19</td>\n",
       "      <td>6.333333</td>\n",
       "    </tr>\n",
       "    <tr>\n",
       "      <th>15697</th>\n",
       "      <td>910-13183</td>\n",
       "      <td>1.0</td>\n",
       "      <td>9100210_JUNE24</td>\n",
       "      <td>Early AM</td>\n",
       "      <td>0666caf3ec1ecc96b74f4477ee4bc939</td>\n",
       "      <td>18</td>\n",
       "      <td>6.000000</td>\n",
       "    </tr>\n",
       "    <tr>\n",
       "      <th>15698</th>\n",
       "      <td>910-13183</td>\n",
       "      <td>1.0</td>\n",
       "      <td>9100210_JUNE24</td>\n",
       "      <td>Evening</td>\n",
       "      <td>0666caf3ec1ecc96b74f4477ee4bc939</td>\n",
       "      <td>11</td>\n",
       "      <td>2.200000</td>\n",
       "    </tr>\n",
       "    <tr>\n",
       "      <th>15699</th>\n",
       "      <td>910-13183</td>\n",
       "      <td>1.0</td>\n",
       "      <td>9100210_JUNE24</td>\n",
       "      <td>Midday</td>\n",
       "      <td>0666caf3ec1ecc96b74f4477ee4bc939</td>\n",
       "      <td>21</td>\n",
       "      <td>4.200000</td>\n",
       "    </tr>\n",
       "    <tr>\n",
       "      <th>15700</th>\n",
       "      <td>910-13183</td>\n",
       "      <td>1.0</td>\n",
       "      <td>9100210_JUNE24</td>\n",
       "      <td>Owl</td>\n",
       "      <td>0666caf3ec1ecc96b74f4477ee4bc939</td>\n",
       "      <td>4</td>\n",
       "      <td>1.000000</td>\n",
       "    </tr>\n",
       "    <tr>\n",
       "      <th>15701</th>\n",
       "      <td>910-13183</td>\n",
       "      <td>1.0</td>\n",
       "      <td>9100210_JUNE24</td>\n",
       "      <td>PM Peak</td>\n",
       "      <td>0666caf3ec1ecc96b74f4477ee4bc939</td>\n",
       "      <td>30</td>\n",
       "      <td>6.000000</td>\n",
       "    </tr>\n",
       "  </tbody>\n",
       "</table>\n",
       "</div>"
      ],
      "text/plain": [
       "        route_id  direction_id        shape_id time_of_day  \\\n",
       "15680  910-13183           0.0  9100214_JUNE24     AM Peak   \n",
       "15681  910-13183           0.0  9100214_JUNE24    Early AM   \n",
       "15682  910-13183           0.0  9100214_JUNE24     Evening   \n",
       "15683  910-13183           0.0  9100214_JUNE24      Midday   \n",
       "15684  910-13183           0.0  9100214_JUNE24         Owl   \n",
       "15685  910-13183           0.0  9100214_JUNE24     PM Peak   \n",
       "15686  910-13183           0.0  9100215_JUNE24     AM Peak   \n",
       "15687  910-13183           0.0  9100215_JUNE24    Early AM   \n",
       "15688  910-13183           0.0  9100215_JUNE24     Evening   \n",
       "15689  910-13183           0.0  9100215_JUNE24      Midday   \n",
       "15690  910-13183           0.0  9100215_JUNE24     PM Peak   \n",
       "15691  910-13183           1.0  9100209_JUNE24     AM Peak   \n",
       "15692  910-13183           1.0  9100209_JUNE24    Early AM   \n",
       "15693  910-13183           1.0  9100209_JUNE24      Midday   \n",
       "15694  910-13183           1.0  9100209_JUNE24         Owl   \n",
       "15695  910-13183           1.0  9100209_JUNE24     PM Peak   \n",
       "15696  910-13183           1.0  9100210_JUNE24     AM Peak   \n",
       "15697  910-13183           1.0  9100210_JUNE24    Early AM   \n",
       "15698  910-13183           1.0  9100210_JUNE24     Evening   \n",
       "15699  910-13183           1.0  9100210_JUNE24      Midday   \n",
       "15700  910-13183           1.0  9100210_JUNE24         Owl   \n",
       "15701  910-13183           1.0  9100210_JUNE24     PM Peak   \n",
       "\n",
       "              schedule_gtfs_dataset_key  n_trips  trips_hr  \n",
       "15680  0666caf3ec1ecc96b74f4477ee4bc939       19  6.333333  \n",
       "15681  0666caf3ec1ecc96b74f4477ee4bc939       15  5.000000  \n",
       "15682  0666caf3ec1ecc96b74f4477ee4bc939        9  1.800000  \n",
       "15683  0666caf3ec1ecc96b74f4477ee4bc939       22  4.400000  \n",
       "15684  0666caf3ec1ecc96b74f4477ee4bc939        4  1.000000  \n",
       "15685  0666caf3ec1ecc96b74f4477ee4bc939       32  6.400000  \n",
       "15686  0666caf3ec1ecc96b74f4477ee4bc939        7  2.333333  \n",
       "15687  0666caf3ec1ecc96b74f4477ee4bc939        8  2.666667  \n",
       "15688  0666caf3ec1ecc96b74f4477ee4bc939        1  0.200000  \n",
       "15689  0666caf3ec1ecc96b74f4477ee4bc939       11  2.200000  \n",
       "15690  0666caf3ec1ecc96b74f4477ee4bc939       11  2.200000  \n",
       "15691  0666caf3ec1ecc96b74f4477ee4bc939        7  2.333333  \n",
       "15692  0666caf3ec1ecc96b74f4477ee4bc939        8  2.666667  \n",
       "15693  0666caf3ec1ecc96b74f4477ee4bc939       12  2.400000  \n",
       "15694  0666caf3ec1ecc96b74f4477ee4bc939        1  0.250000  \n",
       "15695  0666caf3ec1ecc96b74f4477ee4bc939       15  3.000000  \n",
       "15696  0666caf3ec1ecc96b74f4477ee4bc939       19  6.333333  \n",
       "15697  0666caf3ec1ecc96b74f4477ee4bc939       18  6.000000  \n",
       "15698  0666caf3ec1ecc96b74f4477ee4bc939       11  2.200000  \n",
       "15699  0666caf3ec1ecc96b74f4477ee4bc939       21  4.200000  \n",
       "15700  0666caf3ec1ecc96b74f4477ee4bc939        4  1.000000  \n",
       "15701  0666caf3ec1ecc96b74f4477ee4bc939       30  6.000000  "
      ]
     },
     "execution_count": 30,
     "metadata": {},
     "output_type": "execute_result"
    }
   ],
   "source": [
    "df >> filter(_.route_id.str.contains('910'))"
   ]
  },
  {
   "cell_type": "code",
   "execution_count": 40,
   "id": "a602c285-26f8-4d1f-8412-dd0437cb7543",
   "metadata": {},
   "outputs": [
    {
     "data": {
      "text/plain": [
       "{'dir': '${gcs_paths.SEGMENT_GCS}', 'stage1': '${speeds_tables.vp_dwell}', 'proxy_stop_times': 'stop_time_expansion/speedmap_stop_times', 'stage2': 'nearest/nearest_vp_speedmap_proxy', 'stage2b': 'nearest/nearest2_vp_speedmap_proxy', 'stage3': 'speedmap/stop_arrivals_proxy', 'stage3b': 'speedmap/stop_arrivals', 'stage4': 'speedmap/speeds', 'trip_stop_cols': ['trip_instance_key', 'stop_sequence', 'stop_sequence1'], 'shape_stop_cols': ['shape_array_key', 'shape_id'], 'stop_pair_cols': ['stop_pair', 'stop_pair_name', 'segment_id'], 'route_dir_cols': ['route_id', 'route_short_name'], 'segments_file': 'segment_options/speedmap_segments', 'shape_stop_single_segment': 'rollup_singleday/speeds_shape_speedmap_segments', 'shape_stop_single_segment_detail': 'rollup_singleday/speeds_shape_speedmap_segments_detail', 'route_dir_single_segment': 'rollup_singleday/speeds_route_dir_speedmap_segments', 'route_dir_multi_segment': 'rollup_multiday/speeds_route_dir_speedmap_segments', 'min_trip_minutes': '${speed_vars.time_min_cutoff}', 'max_trip_minutes': 180, 'max_speed': '${speed_vars.max_speed}', 'min_meters_elapsed': 1609, 'segment_meters': 1000}"
      ]
     },
     "execution_count": 40,
     "metadata": {},
     "output_type": "execute_result"
    }
   ],
   "source": [
    "catalog.speedmap_segments"
   ]
  },
  {
   "cell_type": "code",
   "execution_count": 37,
   "id": "32cf4f45-bf10-4edf-a525-7804ea7ada47",
   "metadata": {},
   "outputs": [],
   "source": [
    "path = f'{catalog.speedmap_segments.dir}{catalog.speedmap_segments.shape_stop_single_segment_detail}_{analysis_date}.parquet'"
   ]
  },
  {
   "cell_type": "code",
   "execution_count": 41,
   "id": "ad48874e-a6ea-4ee0-8e9d-7eb5f3f0a581",
   "metadata": {},
   "outputs": [],
   "source": [
    "path = f'{catalog.speedmap_segments.dir}{catalog.speedmap_segments.route_dir_single_segment}_{analysis_date}.parquet'"
   ]
  },
  {
   "cell_type": "code",
   "execution_count": 42,
   "id": "ef401846-f54c-4805-a7aa-53ed1b630837",
   "metadata": {},
   "outputs": [],
   "source": [
    "speedmap_segs = gpd.read_parquet(path) #  aggregated"
   ]
  },
  {
   "cell_type": "code",
   "execution_count": 43,
   "id": "ffcec5ce-dcc2-402b-bef0-60f6bd25dd77",
   "metadata": {},
   "outputs": [
    {
     "data": {
      "text/html": [
       "<div>\n",
       "<style scoped>\n",
       "    .dataframe tbody tr th:only-of-type {\n",
       "        vertical-align: middle;\n",
       "    }\n",
       "\n",
       "    .dataframe tbody tr th {\n",
       "        vertical-align: top;\n",
       "    }\n",
       "\n",
       "    .dataframe thead th {\n",
       "        text-align: right;\n",
       "    }\n",
       "</style>\n",
       "<table border=\"1\" class=\"dataframe\">\n",
       "  <thead>\n",
       "    <tr style=\"text-align: right;\">\n",
       "      <th></th>\n",
       "      <th>schedule_gtfs_dataset_key</th>\n",
       "      <th>route_id</th>\n",
       "      <th>route_short_name</th>\n",
       "      <th>stop_pair</th>\n",
       "      <th>stop_pair_name</th>\n",
       "      <th>segment_id</th>\n",
       "      <th>time_period</th>\n",
       "      <th>p50_mph</th>\n",
       "      <th>n_trips</th>\n",
       "      <th>p20_mph</th>\n",
       "      <th>p80_mph</th>\n",
       "      <th>name</th>\n",
       "      <th>caltrans_district</th>\n",
       "      <th>organization_source_record_id</th>\n",
       "      <th>organization_name</th>\n",
       "      <th>base64_url</th>\n",
       "      <th>geometry</th>\n",
       "    </tr>\n",
       "  </thead>\n",
       "  <tbody>\n",
       "  </tbody>\n",
       "</table>\n",
       "</div>"
      ],
      "text/plain": [
       "Empty GeoDataFrame\n",
       "Columns: [schedule_gtfs_dataset_key, route_id, route_short_name, stop_pair, stop_pair_name, segment_id, time_period, p50_mph, n_trips, p20_mph, p80_mph, name, caltrans_district, organization_source_record_id, organization_name, base64_url, geometry]\n",
       "Index: []"
      ]
     },
     "execution_count": 43,
     "metadata": {},
     "output_type": "execute_result"
    }
   ],
   "source": [
    "speedmap_segs >> filter(_.route_id.str.contains('910'))"
   ]
  },
  {
   "cell_type": "markdown",
   "id": "f919f640-261f-427f-be55-e8b2e4349f12",
   "metadata": {},
   "source": [
    "it has no route_short_name...\n",
    "```\n",
    "857-13183,857,Metro Local Line,C & K LINE LINK,3,,,\n",
    "901-13183,,Metro G Line 901,METRO G LINE,3,FC4C02,FFFFFF,https://www.metro.net/g-line/\n",
    "910-13183,,Metro J Line 910/950,METRO J LINE,3,ADB8BF,000000,https://www.metro.net/j-line/\n",
    "```"
   ]
  }
 ],
 "metadata": {
  "kernelspec": {
   "display_name": "Python 3 (ipykernel)",
   "language": "python",
   "name": "python3"
  },
  "language_info": {
   "codemirror_mode": {
    "name": "ipython",
    "version": 3
   },
   "file_extension": ".py",
   "mimetype": "text/x-python",
   "name": "python",
   "nbconvert_exporter": "python",
   "pygments_lexer": "ipython3",
   "version": "3.9.13"
  },
  "widgets": {
   "application/vnd.jupyter.widget-state+json": {
    "state": {},
    "version_major": 2,
    "version_minor": 0
   }
  }
 },
 "nbformat": 4,
 "nbformat_minor": 5
}
