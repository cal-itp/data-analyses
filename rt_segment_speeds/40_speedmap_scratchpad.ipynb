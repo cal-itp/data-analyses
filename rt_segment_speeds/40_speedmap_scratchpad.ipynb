{
 "cells": [
  {
   "cell_type": "code",
   "execution_count": 15,
   "id": "d528f399-cf33-459e-b5dc-92e0b4ae389a",
   "metadata": {},
   "outputs": [],
   "source": [
    "import pandas as pd\n",
    "from siuba import *\n",
    "import shared_utils\n",
    "\n",
    "from calitp_data_analysis import get_fs\n",
    "import segment_speed_utils"
   ]
  },
  {
   "cell_type": "markdown",
   "id": "82c092ac-157e-435c-be60-2f86a11a996e",
   "metadata": {},
   "source": [
    "i'd start with 5, checking if the columns you want are already there in this file (saved out at the end of stop_arrivals_to_speed, and is a speeds by trip table for that day)"
   ]
  },
  {
   "cell_type": "code",
   "execution_count": 2,
   "id": "6cd318e5-5c4e-4249-b158-232f4d940770",
   "metadata": {},
   "outputs": [],
   "source": [
    "catalog = shared_utils.catalog_utils.get_catalog('gtfs_analytics_data')"
   ]
  },
  {
   "cell_type": "code",
   "execution_count": 4,
   "id": "6e86c1a8-d3de-4fc6-9478-c03133b6745c",
   "metadata": {},
   "outputs": [
    {
     "data": {
      "text/plain": [
       "{'dir': '${gcs_paths.SEGMENT_GCS}', 'stage1': '${speeds_tables.vp_dwell}', 'proxy_stop_times': 'stop_time_expansion/speedmap_stop_times', 'stage2': 'nearest/nearest_vp_speedmap_proxy', 'stage2b': 'nearest/nearest2_vp_speedmap_proxy', 'stage3': 'speedmap/stop_arrivals_proxy', 'stage3b': 'speedmap/stop_arrivals', 'stage4': 'speedmap/speeds', 'trip_stop_cols': ['trip_instance_key', 'stop_sequence', 'stop_sequence1'], 'shape_stop_cols': ['shape_array_key', 'shape_id'], 'stop_pair_cols': ['stop_pair', 'stop_pair_name', 'segment_id'], 'segments_file': 'segment_options/speedmap_segments', 'shape_stop_single_segment': 'rollup_singleday/speeds_shape_speedmap_segments', 'route_dir_single_segment': 'rollup_singleday/speeds_route_dir_speedmap_segments', 'route_dir_multi_segment': 'rollup_multiday/speeds_route_dir_speedmap_segments', 'min_trip_minutes': '${speed_vars.time_min_cutoff}', 'max_trip_minutes': 180, 'max_speed': '${speed_vars.max_speed}', 'min_meters_elapsed': 1609, 'segment_meters': 1000}"
      ]
     },
     "execution_count": 4,
     "metadata": {},
     "output_type": "execute_result"
    }
   ],
   "source": [
    "catalog.speedmap_segments"
   ]
  },
  {
   "cell_type": "code",
   "execution_count": 16,
   "id": "f766b50a-c70d-4681-992c-d7f8979ada69",
   "metadata": {},
   "outputs": [],
   "source": [
    "analysis_date = \"2022-09-21\""
   ]
  },
  {
   "cell_type": "code",
   "execution_count": 17,
   "id": "b4dd7af7-0cfa-4d94-a96d-f11e7cdc12f9",
   "metadata": {},
   "outputs": [],
   "source": [
    "path = f'{catalog.speedmap_segments.dir}{catalog.speedmap_segments.stage4}_{analysis_date}.parquet'"
   ]
  },
  {
   "cell_type": "code",
   "execution_count": 18,
   "id": "b59806c6-2b6e-449b-be04-2ac59771d122",
   "metadata": {},
   "outputs": [
    {
     "data": {
      "text/plain": [
       "'gs://calitp-analytics-data/data-analyses/rt_segment_speeds/speedmap/speeds_2022-09-21.parquet'"
      ]
     },
     "execution_count": 18,
     "metadata": {},
     "output_type": "execute_result"
    }
   ],
   "source": [
    "path"
   ]
  },
  {
   "cell_type": "code",
   "execution_count": 12,
   "id": "6bd54bfc-cfad-487b-bf54-0cab10e72e36",
   "metadata": {},
   "outputs": [],
   "source": [
    "df = pd.read_parquet(path)"
   ]
  },
  {
   "cell_type": "code",
   "execution_count": 14,
   "id": "a4808944-fefa-486a-80f2-e75a1ae8b491",
   "metadata": {},
   "outputs": [
    {
     "data": {
      "text/plain": [
       "Index(['trip_instance_key', 'stop_sequence', 'stop_sequence1',\n",
       "       'shape_array_key', 'stop_id', 'stop_meters', 'arrival_time',\n",
       "       'arrival_time_sec', 'subseq_arrival_time_sec', 'subseq_stop_meters',\n",
       "       'meters_elapsed', 'sec_elapsed', 'speed_mph',\n",
       "       'schedule_gtfs_dataset_key', 'route_id', 'direction_id',\n",
       "       'scheduled_service_minutes', 'sched_rt_category', 'time_of_day',\n",
       "       'shape_id', 'segment_id', 'stop_pair_name', 'stop_pair'],\n",
       "      dtype='object')"
      ]
     },
     "execution_count": 14,
     "metadata": {},
     "output_type": "execute_result"
    }
   ],
   "source": [
    "df.columns"
   ]
  },
  {
   "cell_type": "code",
   "execution_count": 19,
   "id": "54ab4555-0720-47a0-bd74-3b4abdc6ac95",
   "metadata": {},
   "outputs": [],
   "source": [
    "route_info = segment_speed_utils.helpers.import_scheduled_trips(\n",
    "    analysis_date,\n",
    "    columns=[\n",
    "        \"gtfs_dataset_key\", \"trip_instance_key\",\n",
    "        \"route_id\", \"direction_id\", \"route_short_name\"\n",
    "    ],\n",
    "    get_pandas=True,\n",
    ")"
   ]
  },
  {
   "cell_type": "code",
   "execution_count": 20,
   "id": "e70276d9-382d-4262-81a7-ac172d1316e5",
   "metadata": {},
   "outputs": [
    {
     "data": {
      "text/html": [
       "<div>\n",
       "<style scoped>\n",
       "    .dataframe tbody tr th:only-of-type {\n",
       "        vertical-align: middle;\n",
       "    }\n",
       "\n",
       "    .dataframe tbody tr th {\n",
       "        vertical-align: top;\n",
       "    }\n",
       "\n",
       "    .dataframe thead th {\n",
       "        text-align: right;\n",
       "    }\n",
       "</style>\n",
       "<table border=\"1\" class=\"dataframe\">\n",
       "  <thead>\n",
       "    <tr style=\"text-align: right;\">\n",
       "      <th></th>\n",
       "      <th>schedule_gtfs_dataset_key</th>\n",
       "      <th>trip_instance_key</th>\n",
       "      <th>route_id</th>\n",
       "      <th>direction_id</th>\n",
       "      <th>route_short_name</th>\n",
       "    </tr>\n",
       "  </thead>\n",
       "  <tbody>\n",
       "    <tr>\n",
       "      <th>0</th>\n",
       "      <td>f61283c9af01105e40bbb479764db6cd</td>\n",
       "      <td>0199084f96e70abb6d1a5240bf576c83</td>\n",
       "      <td>3402</td>\n",
       "      <td>1.0</td>\n",
       "      <td>Route 11</td>\n",
       "    </tr>\n",
       "    <tr>\n",
       "      <th>1</th>\n",
       "      <td>f61283c9af01105e40bbb479764db6cd</td>\n",
       "      <td>f866eee05b33e12524c90179ed51d1c4</td>\n",
       "      <td>3402</td>\n",
       "      <td>1.0</td>\n",
       "      <td>Route 11</td>\n",
       "    </tr>\n",
       "    <tr>\n",
       "      <th>2</th>\n",
       "      <td>f61283c9af01105e40bbb479764db6cd</td>\n",
       "      <td>58ea512c9cebd150bab9c6315bd63887</td>\n",
       "      <td>3402</td>\n",
       "      <td>1.0</td>\n",
       "      <td>Route 11</td>\n",
       "    </tr>\n",
       "    <tr>\n",
       "      <th>3</th>\n",
       "      <td>f61283c9af01105e40bbb479764db6cd</td>\n",
       "      <td>2ea1981d9efa99c354ebd40ab2dfdfac</td>\n",
       "      <td>3402</td>\n",
       "      <td>1.0</td>\n",
       "      <td>Route 11</td>\n",
       "    </tr>\n",
       "    <tr>\n",
       "      <th>4</th>\n",
       "      <td>f61283c9af01105e40bbb479764db6cd</td>\n",
       "      <td>8eb1cadb509b80c64de63de106491c78</td>\n",
       "      <td>3402</td>\n",
       "      <td>1.0</td>\n",
       "      <td>Route 11</td>\n",
       "    </tr>\n",
       "    <tr>\n",
       "      <th>...</th>\n",
       "      <td>...</td>\n",
       "      <td>...</td>\n",
       "      <td>...</td>\n",
       "      <td>...</td>\n",
       "      <td>...</td>\n",
       "    </tr>\n",
       "    <tr>\n",
       "      <th>132728</th>\n",
       "      <td>a6b98092e6d452a480f2d74d0f7517bb</td>\n",
       "      <td>ddd2ff5d49b491b8189cc0306a6ea65a</td>\n",
       "      <td>Ventura County Line</td>\n",
       "      <td>0.0</td>\n",
       "      <td>None</td>\n",
       "    </tr>\n",
       "    <tr>\n",
       "      <th>132729</th>\n",
       "      <td>a6b98092e6d452a480f2d74d0f7517bb</td>\n",
       "      <td>82462eddbe57895423cc3b382178d8c3</td>\n",
       "      <td>Antelope Valley Line</td>\n",
       "      <td>1.0</td>\n",
       "      <td>None</td>\n",
       "    </tr>\n",
       "    <tr>\n",
       "      <th>132730</th>\n",
       "      <td>a6b98092e6d452a480f2d74d0f7517bb</td>\n",
       "      <td>ee93c5021913eb3e1d2fe9d5850bfe26</td>\n",
       "      <td>Orange County Line</td>\n",
       "      <td>1.0</td>\n",
       "      <td>None</td>\n",
       "    </tr>\n",
       "    <tr>\n",
       "      <th>132731</th>\n",
       "      <td>a6b98092e6d452a480f2d74d0f7517bb</td>\n",
       "      <td>b6863dea5a945896a8e74156209421dc</td>\n",
       "      <td>Riverside Line</td>\n",
       "      <td>1.0</td>\n",
       "      <td>None</td>\n",
       "    </tr>\n",
       "    <tr>\n",
       "      <th>132732</th>\n",
       "      <td>a6b98092e6d452a480f2d74d0f7517bb</td>\n",
       "      <td>4c61650875bc282eaf5aa5ff029d7cbf</td>\n",
       "      <td>San Bernardino Line</td>\n",
       "      <td>1.0</td>\n",
       "      <td>None</td>\n",
       "    </tr>\n",
       "  </tbody>\n",
       "</table>\n",
       "<p>132733 rows × 5 columns</p>\n",
       "</div>"
      ],
      "text/plain": [
       "               schedule_gtfs_dataset_key                 trip_instance_key  \\\n",
       "0       f61283c9af01105e40bbb479764db6cd  0199084f96e70abb6d1a5240bf576c83   \n",
       "1       f61283c9af01105e40bbb479764db6cd  f866eee05b33e12524c90179ed51d1c4   \n",
       "2       f61283c9af01105e40bbb479764db6cd  58ea512c9cebd150bab9c6315bd63887   \n",
       "3       f61283c9af01105e40bbb479764db6cd  2ea1981d9efa99c354ebd40ab2dfdfac   \n",
       "4       f61283c9af01105e40bbb479764db6cd  8eb1cadb509b80c64de63de106491c78   \n",
       "...                                  ...                               ...   \n",
       "132728  a6b98092e6d452a480f2d74d0f7517bb  ddd2ff5d49b491b8189cc0306a6ea65a   \n",
       "132729  a6b98092e6d452a480f2d74d0f7517bb  82462eddbe57895423cc3b382178d8c3   \n",
       "132730  a6b98092e6d452a480f2d74d0f7517bb  ee93c5021913eb3e1d2fe9d5850bfe26   \n",
       "132731  a6b98092e6d452a480f2d74d0f7517bb  b6863dea5a945896a8e74156209421dc   \n",
       "132732  a6b98092e6d452a480f2d74d0f7517bb  4c61650875bc282eaf5aa5ff029d7cbf   \n",
       "\n",
       "                    route_id  direction_id route_short_name  \n",
       "0                       3402           1.0         Route 11  \n",
       "1                       3402           1.0         Route 11  \n",
       "2                       3402           1.0         Route 11  \n",
       "3                       3402           1.0         Route 11  \n",
       "4                       3402           1.0         Route 11  \n",
       "...                      ...           ...              ...  \n",
       "132728   Ventura County Line           0.0             None  \n",
       "132729  Antelope Valley Line           1.0             None  \n",
       "132730    Orange County Line           1.0             None  \n",
       "132731        Riverside Line           1.0             None  \n",
       "132732   San Bernardino Line           1.0             None  \n",
       "\n",
       "[132733 rows x 5 columns]"
      ]
     },
     "execution_count": 20,
     "metadata": {},
     "output_type": "execute_result"
    }
   ],
   "source": [
    "route_info"
   ]
  },
  {
   "cell_type": "code",
   "execution_count": null,
   "id": "62d5b114-8a4d-4363-9447-bd5888b80d06",
   "metadata": {},
   "outputs": [],
   "source": []
  }
 ],
 "metadata": {
  "kernelspec": {
   "display_name": "Python 3 (ipykernel)",
   "language": "python",
   "name": "python3"
  },
  "language_info": {
   "codemirror_mode": {
    "name": "ipython",
    "version": 3
   },
   "file_extension": ".py",
   "mimetype": "text/x-python",
   "name": "python",
   "nbconvert_exporter": "python",
   "pygments_lexer": "ipython3",
   "version": "3.9.13"
  },
  "widgets": {
   "application/vnd.jupyter.widget-state+json": {
    "state": {},
    "version_major": 2,
    "version_minor": 0
   }
  }
 },
 "nbformat": 4,
 "nbformat_minor": 5
}
