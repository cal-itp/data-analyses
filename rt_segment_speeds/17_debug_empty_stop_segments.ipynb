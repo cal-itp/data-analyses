{
 "cells": [
  {
   "cell_type": "markdown",
   "id": "e5b5c0d7-2ddf-436f-9dd0-3a128d1a6d87",
   "metadata": {},
   "source": [
    "# Comprehensive review of stop segments from March - July 2023\n",
    "\n",
    "### Issues\n",
    "Changes implemented for better segments:\n",
    "* pick 1 trip with the most stops to cut the segments for that shape.\n",
    "* include an extra distance check while subsetting by prior stop and current stop.\n",
    "\n",
    "#### Multiple stop_sequences for different stops present in a shape\n",
    "\n",
    "If we look across all trips for a shape, the same stop sequence can be present for different stops.\n",
    "\n",
    "Ex: stop sequence 2 shows up for stop A and stop B.\n",
    "\n",
    "**Challenge**: this prevents segments from being cut correctly, because segmenting uses arrays for stop sequences and stop geometry.\n",
    "**Solution**: pick a trip with the most number of stops present, sort and keep 1 trip. Use this trip and its stops to cut segments. The entire shape is used, but we don't cut too-short segments, and vp have more of a chance of getting joined to longer segments.\n",
    "\n",
    "#### Gaps remain in between segments\n",
    "\n",
    "When plotting it on a map, we can sometimes see little gaps between segments.\n",
    "\n",
    "**Challenge**: `super_project()` uses straight line distance between points, since using `shapely.project` wasn't always correct. straight line distance can still underestimate (hypotenuse vs sum of 2 sides).\n",
    "**Solution**: include extra check where proposed end point is compared to the original end point, and take the leftover distance. This could cut some segments too long, but that's not as bad of an issue when we could potentially plug in some of the gaps.\n",
    "\n",
    "The extra check performs marginally better, but some gaps still remain.\n",
    "\n",
    "#### Difficulty in segmenting loops near origin\n",
    "\n",
    "If we pull apart a shape geometry's coordinates and project them, we'll see that loopy route's points travel back toward the origin. \n",
    "\n",
    "**Challenge**: These segments are few, and implementing a second check for `super_project` where a shape's line geometry coords are monotonically cast, cumulative distance array generated creates more errors than it solves. \n",
    "**Solution**: since a second `super_project` improved a couple of segments, but at the expense of creating more issues elsewhere, we'll forgo this option. In a random check of 50-100 shapes, found only a couple of shapes whose segments improved, but many more shapes whose segments now had errors. For the majority, there were no visible differences in the segments.\n"
   ]
  },
  {
   "cell_type": "code",
   "execution_count": null,
   "id": "25d03480-3d12-4d6a-afc9-7e435f2f8004",
   "metadata": {},
   "outputs": [],
   "source": [
    "import os\n",
    "os.environ['USE_PYGEOS'] = '0'\n",
    "\n",
    "import dask.dataframe as dd\n",
    "import dask_geopandas as dg\n",
    "import geopandas as gpd\n",
    "import numpy as np\n",
    "import pandas as pd\n",
    "\n",
    "from shared_utils import rt_dates\n",
    "from segment_speed_utils import helpers\n",
    "from segment_speed_utils.project_vars import SEGMENT_GCS"
   ]
  },
  {
   "cell_type": "code",
   "execution_count": null,
   "id": "5450c900-de6c-46ea-9c7c-c1191f5f1d34",
   "metadata": {},
   "outputs": [],
   "source": [
    "analysis_date = \"2023-05-17\"\n",
    "\n",
    "df = gpd.read_parquet(\n",
    "    f\"{SEGMENT_GCS}stop_segments_{analysis_date}.parquet\",\n",
    "    columns = [\"shape_array_key\", \"stop_sequence\", \"geometry\"],\n",
    "    filters = [[(\"shape_array_key\", \"in\", improved_shapes)]]\n",
    ")#.set_geometry(\"stop_segment_geometry\")"
   ]
  },
  {
   "cell_type": "code",
   "execution_count": null,
   "id": "59ae751e-33eb-49e8-9a6c-dfc0b420bf26",
   "metadata": {},
   "outputs": [],
   "source": [
    "improved_shapes = [\n",
    "    \"0badc8e8e7c3e15eaef3feddd38b5eaf\",\n",
    "    \"6bee2519e137efd0d445736b8128f32d\",\n",
    "]\n",
    "\n",
    "got_worse = [\n",
    "    \"6316ca1a41a3696ea80c09abc40d4df3\",\n",
    "    \"21bfcb9dc9f1ab2e1ee152b84ece7667\", # mixed\n",
    "    \"3c26deafa5cbf15bb7b613c61581214b\", # no change, but we want it to\n",
    "    \"011ac48604c84ff6d314563d8e583c3e\",\n",
    "    \"0a6cc7ee3f0709e04e94ec887bf854fe\"\n",
    "]"
   ]
  },
  {
   "cell_type": "code",
   "execution_count": null,
   "id": "806211a1-8907-4e96-97f1-b1c09f8e68a1",
   "metadata": {},
   "outputs": [],
   "source": [
    "df[df.shape_array_key.isin(improved_shapes)].explore(\n",
    "    \"stop_sequence\", \n",
    "    tiles='CartoDB Positron', categorical=True, legend=False\n",
    ")"
   ]
  },
  {
   "cell_type": "code",
   "execution_count": null,
   "id": "d6090425-66f7-4cf8-9f17-9a78995ff312",
   "metadata": {},
   "outputs": [],
   "source": [
    "months = [\n",
    "    #\"mar\", \n",
    "    \"apr\", \n",
    "    \"may\", \n",
    "    #\"jun\", \n",
    "    #\"jul\"\n",
    "]\n",
    "\n",
    "dates = [\n",
    "    rt_dates.DATES[f\"{m}2023\"] for m in months\n",
    "]\n",
    "dates"
   ]
  },
  {
   "cell_type": "code",
   "execution_count": null,
   "id": "bc0bd3fd-4d9b-44f4-a860-69de2cf0713e",
   "metadata": {},
   "outputs": [],
   "source": [
    "def import_segments(date: str, **kwargs) -> gpd.GeoDataFrame:\n",
    "    \n",
    "    gdf = gpd.read_parquet(\n",
    "        f\"{SEGMENT_GCS}stop_segments_{date}.parquet\",\n",
    "        columns = [\"gtfs_dataset_key\", \"feed_key\", \n",
    "                   \"shape_array_key\", \"stop_id\", \"stop_sequence\",\n",
    "                   \"loop_or_inlining\", \"geometry\"\n",
    "                  ],\n",
    "        **kwargs\n",
    "        \n",
    "    )\n",
    "    gdf = gdf.assign(\n",
    "        segment_length = gdf.geometry.length,\n",
    "        service_date = date\n",
    "    )\n",
    "    \n",
    "    return gdf"
   ]
  },
  {
   "cell_type": "markdown",
   "id": "6a0b57f5-418d-4363-b40d-063e370a1f4c",
   "metadata": {},
   "source": [
    "## Apr vs May \n",
    "\n",
    "* Mar / Apr cut segments using 1 `super_project`\n",
    "* May / Jun / Jul cut segments using 2 `super_project` rounds, by checking the first round of loop/inlining segments and any segments whose representative point doesn't fall on the shape, goes through another attempt at cutting"
   ]
  },
  {
   "cell_type": "code",
   "execution_count": null,
   "id": "4236c93c-a0cf-45d8-8af7-3fd0d16f9457",
   "metadata": {},
   "outputs": [],
   "source": [
    "def get_segment_length(date: str, **kwargs):\n",
    "\n",
    "    gdf = import_segments(date, **kwargs)\n",
    "\n",
    "    gdf = gdf.assign(\n",
    "        sum_segment_length = (gdf.groupby(\n",
    "            [\"shape_array_key\", \"service_date\"])\n",
    "                              .segment_length\n",
    "                              .transform(\"sum\")\n",
    "                             )\n",
    "    )\n",
    "    \n",
    "    shape_keys_present = gdf.shape_array_key.unique().tolist()\n",
    "    \n",
    "    shapes = helpers.import_scheduled_shapes(\n",
    "        date,\n",
    "        filters = [[(\"shape_array_key\", \"in\", shape_keys_present)]],\n",
    "        get_pandas = True, \n",
    "    )\n",
    "    \n",
    "    shapes = shapes.assign(\n",
    "        shape_length = shapes.geometry.length\n",
    "    )\n",
    "\n",
    "    gdf2 = pd.merge(\n",
    "        gdf,\n",
    "        shapes,\n",
    "        on = \"shape_array_key\",\n",
    "        how = \"inner\",\n",
    "    )\n",
    "    \n",
    "    gdf2 = gdf2.assign(\n",
    "        difference_meters = (gdf2.sum_segment_length - \n",
    "                             gdf2.shape_length).round(3)\n",
    "    )\n",
    "    \n",
    "    return gdf2"
   ]
  },
  {
   "cell_type": "code",
   "execution_count": null,
   "id": "09e09fe2-3269-4623-b795-febbaa21e589",
   "metadata": {},
   "outputs": [],
   "source": [
    "shape_filtering = [[(\"loop_or_inlining\", \"==\", 1), \n",
    "                    (\"district\", \"==\", 11)]]\n",
    "apr = get_segment_length(\n",
    "    dates[0], filters = shape_filtering\n",
    ")"
   ]
  },
  {
   "cell_type": "code",
   "execution_count": null,
   "id": "8a3e74a2-6f4f-43ad-8487-a8879cc11a02",
   "metadata": {},
   "outputs": [],
   "source": [
    "may = get_segment_length(\n",
    "    dates[1], filters = shape_filtering\n",
    ")"
   ]
  },
  {
   "cell_type": "code",
   "execution_count": null,
   "id": "147615f5-46e7-4122-b260-bff7ba062e60",
   "metadata": {},
   "outputs": [],
   "source": [
    "apr_shapes = apr.shape_array_key.unique()\n",
    "may_shapes = may.shape_array_key.unique()\n",
    "\n",
    "shapes_in_common = np.intersect1d(apr_shapes, may_shapes)"
   ]
  },
  {
   "cell_type": "code",
   "execution_count": null,
   "id": "f8ec543b-7612-4294-b828-ddb10240ea70",
   "metadata": {},
   "outputs": [],
   "source": [
    "len(shapes_in_common)"
   ]
  },
  {
   "cell_type": "code",
   "execution_count": null,
   "id": "0d8a8269-6fb4-4d4f-aaa5-a3e7e12a3693",
   "metadata": {},
   "outputs": [],
   "source": [
    "apr = import_segments(\n",
    "    dates[0], \n",
    "    filters = [[(\"shape_array_key\", \"in\", got_worse)]]\n",
    ")\n",
    "\n",
    "may = import_segments(\n",
    "    dates[1],\n",
    "    filters = [[(\"shape_array_key\", \"in\", got_worse)]]    \n",
    ")"
   ]
  },
  {
   "cell_type": "code",
   "execution_count": null,
   "id": "34e38570-b8d6-4922-8057-c945cd3c8ff6",
   "metadata": {},
   "outputs": [],
   "source": [
    "MAP_KWARGS = {\n",
    "    \"tiles\": \"CartoDB Positron\",\n",
    "    \"categorical\": True,\n",
    "    \"legend\": False\n",
    "}\n",
    "\n",
    "improved_shapes = [\n",
    "    \"0badc8e8e7c3e15eaef3feddd38b5eaf\",\n",
    "    \"6bee2519e137efd0d445736b8128f32d\",\n",
    "]\n",
    "\n",
    "got_worse = [\n",
    "    \"6316ca1a41a3696ea80c09abc40d4df3\",\n",
    "    \"21bfcb9dc9f1ab2e1ee152b84ece7667\", # mixed\n",
    "    \"3c26deafa5cbf15bb7b613c61581214b\", # no change, but we want it to\n",
    "    \"011ac48604c84ff6d314563d8e583c3e\",\n",
    "    \"0a6cc7ee3f0709e04e94ec887bf854fe\"\n",
    "]"
   ]
  },
  {
   "cell_type": "code",
   "execution_count": null,
   "id": "5e617cff-0b7d-4d77-9c46-808135348ad9",
   "metadata": {},
   "outputs": [],
   "source": [
    "apr.explore(\"stop_sequence\", **MAP_KWARGS)"
   ]
  },
  {
   "cell_type": "code",
   "execution_count": null,
   "id": "035dde98-230b-444e-8cea-73f861aa9e9e",
   "metadata": {},
   "outputs": [],
   "source": [
    "may.explore(\"stop_sequence\", **MAP_KWARGS)"
   ]
  },
  {
   "cell_type": "code",
   "execution_count": null,
   "id": "df4a4893-580b-4107-8c5d-1d64b444cc18",
   "metadata": {},
   "outputs": [],
   "source": [
    "random_idx = [\n",
    "    #10, 110, 210, 310,\n",
    "    #410, 510, 610, 710,\n",
    "    #810, 910, 1010, 1110,\n",
    "    #1210, 1310,1410, 1510, \n",
    "    #1610, 1710, 1810, 1910,\n",
    "    #2010, 2110,\n",
    "    #4, 100, 496, 493,\n",
    "    #483, 124, 312, 298,\n",
    "    #32, 349, 850, 756, 933, \n",
    "    #282, 482, 485, 300, 209, 540, \n",
    "    #392, 678, 695, 2109, 1335, \n",
    "    #1294, 2102, 2004, 2019\n",
    "]"
   ]
  },
  {
   "cell_type": "code",
   "execution_count": null,
   "id": "e374d4dc-378f-4df5-bba9-4cf687bea7d7",
   "metadata": {},
   "outputs": [],
   "source": [
    "sd_key = \"a4f6fd5552107e05fe9743ac7cce2c55\"\n",
    "apr_sd = apr[apr.gtfs_dataset_key==sd_key].shape_array_key.unique()\n",
    "may_sd = may[may.gtfs_dataset_key==sd_key].shape_array_key.unique()\n",
    "\n",
    "sd_shapes_in_common = np.intersect1d(apr_sd, may_sd)"
   ]
  },
  {
   "cell_type": "code",
   "execution_count": null,
   "id": "0be06f0d-80be-467e-a3e1-d4dc65ea056f",
   "metadata": {},
   "outputs": [],
   "source": [
    "for i in sd_shapes_in_common:\n",
    "    #one_shape = shapes_in_common[i]\n",
    "    one_shape = i\n",
    "    print(one_shape)\n",
    "    drop = [\"geometry_y\"]\n",
    "    apr_map = (apr[apr.shape_array_key==one_shape]\n",
    "               .drop(columns = drop)\n",
    "               .set_geometry(\"geometry_x\")\n",
    "              ).explore(\n",
    "        \"stop_sequence\", **MAP_KWARGS\n",
    "    )\n",
    "    \n",
    "    may_map = (may[may.shape_array_key==one_shape]\n",
    "               .drop(columns = drop)\n",
    "               .set_geometry(\"geometry_x\")\n",
    "              ).explore(\n",
    "        \"stop_sequence\", **MAP_KWARGS\n",
    "    )\n",
    "    \n",
    "    display(apr_map)\n",
    "    display(may_map)"
   ]
  }
 ],
 "metadata": {
  "kernelspec": {
   "display_name": "Python 3 (ipykernel)",
   "language": "python",
   "name": "python3"
  },
  "language_info": {
   "codemirror_mode": {
    "name": "ipython",
    "version": 3
   },
   "file_extension": ".py",
   "mimetype": "text/x-python",
   "name": "python",
   "nbconvert_exporter": "python",
   "pygments_lexer": "ipython3",
   "version": "3.9.13"
  }
 },
 "nbformat": 4,
 "nbformat_minor": 5
}
