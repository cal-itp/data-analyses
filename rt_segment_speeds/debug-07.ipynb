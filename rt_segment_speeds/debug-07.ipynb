{
 "cells": [
  {
   "cell_type": "markdown",
   "id": "ef4ef5ba-e5c1-4d98-8a72-203116eb55cd",
   "metadata": {},
   "source": [
    "# Debug issues in `07_plot_stop_metrics` "
   ]
  },
  {
   "cell_type": "code",
   "execution_count": 1,
   "id": "47d427c3-f036-4076-9876-356634885530",
   "metadata": {},
   "outputs": [
    {
     "name": "stderr",
     "output_type": "stream",
     "text": [
      "/opt/conda/lib/python3.9/site-packages/geopandas/_compat.py:123: UserWarning: The Shapely GEOS version (3.10.3-CAPI-1.16.1) is incompatible with the GEOS version PyGEOS was compiled with (3.10.1-CAPI-1.16.0). Conversions between both will be slow.\n",
      "  warnings.warn(\n"
     ]
    }
   ],
   "source": [
    "import altair as alt\n",
    "import dask.dataframe as dd\n",
    "import geopandas as gpd\n",
    "import pandas as pd\n",
    "\n",
    "from segment_speed_utils import helpers, gtfs_schedule_wrangling\n",
    "from segment_speed_utils.project_vars import SEGMENT_GCS, analysis_date"
   ]
  },
  {
   "cell_type": "code",
   "execution_count": null,
   "id": "ee5cb8bf-f865-4f8c-9b5d-8f43cb5b2cdf",
   "metadata": {},
   "outputs": [],
   "source": [
    "def stop_avg_by_peak_off_peak(gdf): \n",
    "    \"\"\"\n",
    "    Aggregate to peak/offpeak\n",
    "    \"\"\"\n",
    "    # Calculate weighted average\n",
    "    gdf = gdf.assign(\n",
    "        speed_multiplied_trips = gdf.speed_mph * gdf.n_trips\n",
    "    )\n",
    "    \n",
    "    agg_df = (\n",
    "        gdf.groupby([\"gtfs_dataset_key\", \"_gtfs_dataset_name\", \n",
    "                    \"route_id\", \"direction_id\", \"route_short_name\",\n",
    "                     \"stop_id\",\n",
    "                    \"stop_name\", \"peak\"])\n",
    "        .agg({\"speed_multiplied_trips\": \"sum\",\n",
    "              \"n_trips\": \"sum\",\n",
    "              \"stop_sequence\": \"max\" # get max in case there are differences\n",
    "             })\n",
    "        .reset_index()\n",
    "    )\n",
    "    \n",
    "    agg_df = agg_df.assign(\n",
    "        avg_speed_mph = agg_df.speed_multiplied_trips.divide(agg_df.n_trips)\n",
    "    ).drop(columns = \"speed_multiplied_trips\")\n",
    "    \n",
    "    return agg_df"
   ]
  },
  {
   "cell_type": "code",
   "execution_count": null,
   "id": "5905af47-bad5-4354-86f6-77bba790030e",
   "metadata": {},
   "outputs": [],
   "source": [
    "def subset_for_operator(operator_name: str):\n",
    "    gdf = gpd.read_parquet(\n",
    "        f\"./scripts/data/stop_metrics_by_hour_{analysis_date}.parquet\",\n",
    "        filters = [[(\"_gtfs_dataset_name\", \"==\", operator_name)]]\n",
    "    )\n",
    "    \n",
    "    gdf = gdf.assign(\n",
    "        speed_mph = gdf.speed_mph.round(1),\n",
    "        peak = gdf.apply(\n",
    "            lambda x: \n",
    "            \"peak\" if x.time_of_day in [\"AM Peak\", \"PM Peak\"]\n",
    "            else \"off peak\", axis=1\n",
    "        )  \n",
    "    )\n",
    "    \n",
    "    peak_df = stop_avg_by_peak_off_peak(gdf)\n",
    "    peak_df = peak_df.assign(\n",
    "        avg_speed_mph = peak_df.avg_speed_mph.round(1)\n",
    "    )\n",
    "    \n",
    "    return gdf, peak_df"
   ]
  },
  {
   "cell_type": "markdown",
   "id": "b131ad76-0284-47bf-8c9c-d74ca538611b",
   "metadata": {},
   "source": [
    "## Low Average Speeds\n",
    "\n",
    "* Problem from the more granular trip-stop level data?\n",
    "* Or from weighted average?"
   ]
  },
  {
   "cell_type": "code",
   "execution_count": null,
   "id": "230280b3-e7ea-4f0b-a23a-7de016016454",
   "metadata": {},
   "outputs": [],
   "source": [
    "name = \"San Diego Vehicle Positions\""
   ]
  },
  {
   "cell_type": "code",
   "execution_count": null,
   "id": "80517f69-7a04-496f-9f80-5ba46e1770dd",
   "metadata": {},
   "outputs": [],
   "source": [
    "sd, sd_peak = subset_for_operator(name)\n",
    "rt_key = sd.gtfs_dataset_key.iloc[0]"
   ]
  },
  {
   "cell_type": "code",
   "execution_count": null,
   "id": "e58a0292-cef3-48f5-a793-74bcab3739f4",
   "metadata": {},
   "outputs": [],
   "source": [
    "test_route = \"201\"\n",
    "test_stop = \"UTC Transit Center\""
   ]
  },
  {
   "cell_type": "code",
   "execution_count": null,
   "id": "28054ac4-b37e-40da-a777-e77434247154",
   "metadata": {},
   "outputs": [],
   "source": [
    "sd[(sd.route_short_name==test_route) & \n",
    "   (sd.stop_name==test_stop)\n",
    "  ].head()"
   ]
  },
  {
   "cell_type": "code",
   "execution_count": null,
   "id": "4a4bd521-022a-43d7-907d-e7805bc1dc26",
   "metadata": {},
   "outputs": [],
   "source": [
    "sd_peak[(sd_peak.route_short_name==test_route) & \n",
    "        (sd_peak.stop_name==test_stop)\n",
    "       ].avg_speed_mph.describe()"
   ]
  },
  {
   "cell_type": "code",
   "execution_count": null,
   "id": "09e9b0e2-2341-4adc-b8a6-b858b492e34e",
   "metadata": {},
   "outputs": [],
   "source": [
    "trips = helpers.import_scheduled_trips(\n",
    "    analysis_date,\n",
    "    columns = [\"name\", \"feed_key\", \n",
    "               \"trip_id\", \"shape_array_key\",\n",
    "               \"route_id\"],\n",
    "    filters = [[(\"feed_key\", \"==\", \"a7ba6f075198e9bf9152fab6c7faf0f6\")]]\n",
    ").compute()"
   ]
  },
  {
   "cell_type": "code",
   "execution_count": null,
   "id": "246684ac-30d9-4a15-92f3-f2d816aee543",
   "metadata": {},
   "outputs": [],
   "source": [
    "sd_201_trips = trips[trips.route_id==\"201\"].trip_id.unique()"
   ]
  },
  {
   "cell_type": "code",
   "execution_count": null,
   "id": "d311f8e3-6a20-4492-be26-fc210a613faf",
   "metadata": {},
   "outputs": [],
   "source": [
    "speeds.columns"
   ]
  },
  {
   "cell_type": "code",
   "execution_count": null,
   "id": "33a55efe-1faf-489e-ab9a-d303e610c56b",
   "metadata": {},
   "outputs": [],
   "source": [
    "speeds = pd.read_parquet(\n",
    "    f\"{SEGMENT_GCS}speeds_stop_segments_{analysis_date}/\",\n",
    ")\n",
    "\n",
    "trips = helpers.import_scheduled_trips(\n",
    "        analysis_date, \n",
    "        columns = [\"feed_key\", \"name\", \"trip_id\", \"shape_array_key\"]\n",
    "    ).compute()\n",
    "             \n",
    "trips = gtfs_schedule_wrangling.exclude_scheduled_operators(trips)\n",
    "\n",
    "stop_times = helpers.import_scheduled_stop_times(\n",
    "    analysis_date, \n",
    "    columns = [\n",
    "        \"feed_key\", \"trip_id\", \n",
    "        \"stop_id\", \"stop_sequence\",\n",
    "        \"arrival_sec\"\n",
    "    ]\n",
    ")\n",
    "\n",
    "scheduled_stop_times = gtfs_schedule_wrangling.merge_shapes_to_stop_times(\n",
    "    trips, stop_times) "
   ]
  },
  {
   "cell_type": "code",
   "execution_count": null,
   "id": "60f647f4-13f1-40e8-aeca-90d9f04766fe",
   "metadata": {},
   "outputs": [],
   "source": [
    "df = dd.merge(\n",
    "    speeds,\n",
    "    scheduled_stop_times,\n",
    "    on = [\"shape_array_key\", \"stop_sequence\"] + [\"trip_id\"],\n",
    "    how = \"inner\"\n",
    ")"
   ]
  },
  {
   "cell_type": "code",
   "execution_count": null,
   "id": "c3d092c8-c539-4e8b-a6b6-ba11b400e4b0",
   "metadata": {},
   "outputs": [],
   "source": [
    "stops = helpers.import_scheduled_stops(\n",
    "        analysis_date, \n",
    "        columns = [\"feed_key\", \"stop_id\", \"stop_name\", \"geometry\"],\n",
    ")\n",
    "\n",
    "stop_metrics_with_geom = gtfs_schedule_wrangling.attach_stop_geometry(\n",
    "    df[df.gtfs_dataset_key==rt_key],\n",
    "    stops,\n",
    ").compute()"
   ]
  },
  {
   "cell_type": "code",
   "execution_count": null,
   "id": "d003289a-5bd3-45f4-b029-923eab7bf6e7",
   "metadata": {},
   "outputs": [],
   "source": [
    "stop_metrics_utc = stop_metrics_with_geom[\n",
    "    stop_metrics_with_geom.shape_array_key==shape_with_utc]"
   ]
  },
  {
   "cell_type": "code",
   "execution_count": null,
   "id": "74a087d9-099c-4854-8429-c728d39e04de",
   "metadata": {},
   "outputs": [],
   "source": [
    "for i in sorted(stop_metrics_utc.stop_sequence.unique().tolist()):\n",
    "    print(i)\n",
    "    subset = stop_metrics_utc[stop_metrics_utc.stop_sequence==i]\n",
    "    print(subset.stop_name.value_counts())"
   ]
  },
  {
   "cell_type": "code",
   "execution_count": null,
   "id": "39e01626-c75f-4ff2-b344-c245b9bfa293",
   "metadata": {},
   "outputs": [],
   "source": [
    "stop_metrics_utc[stop_metrics_utc.stop_sequence==14].speed_mph.value_counts()"
   ]
  },
  {
   "cell_type": "code",
   "execution_count": null,
   "id": "b068dfc6-5964-4891-abaf-b72b3e3fd80a",
   "metadata": {},
   "outputs": [],
   "source": [
    "vp_pared = pd.read_parquet(\n",
    "    f\"{SEGMENT_GCS}vp_pared_stops_{analysis_date}/\",\n",
    "    filters = [[(\"shape_array_key\", \"==\", shape_with_utc)]] \n",
    ")\n",
    "                \n",
    "vp_pared2 = vp_pared[vp_pared.stop_sequence.isin([1, 14])][\n",
    "    [\"shape_array_key\", \"feed_key\", \"stop_sequence\", \n",
    "     \"location_timestamp_local\", \"lon\", \"lat\"]]"
   ]
  },
  {
   "cell_type": "code",
   "execution_count": null,
   "id": "aaa43ee8-d4c7-408d-9a81-fa75d125c78f",
   "metadata": {},
   "outputs": [],
   "source": [
    "geom = gpd.points_from_xy(x=vp_pared2.lon, y=vp_pared2.lat, crs = \"EPSG:3310\")"
   ]
  },
  {
   "cell_type": "code",
   "execution_count": null,
   "id": "cf026aca-a341-4cdc-9189-ca77c11b8836",
   "metadata": {},
   "outputs": [],
   "source": [
    "vp_pared2_gdf = gpd.GeoDataFrame(vp_pared2, \n",
    "                                 geometry=geom, crs=\"EPSG:3310\")"
   ]
  },
  {
   "cell_type": "code",
   "execution_count": null,
   "id": "b59a16d1-ffea-454c-9d55-db116bfcf04a",
   "metadata": {},
   "outputs": [],
   "source": [
    "stop_segments = helpers.import_segments(\n",
    "    SEGMENT_GCS,\n",
    "    file_name = f\"stop_segments_{analysis_date}\",\n",
    "    filters = [[(\"shape_array_key\", \"==\", shape_with_utc)]],\n",
    "    partitioned=False\n",
    ").drop(columns = \"geometry_arrowized\")"
   ]
  },
  {
   "cell_type": "code",
   "execution_count": null,
   "id": "4cb46a9b-8b08-4188-8e57-ddcbfeb64a72",
   "metadata": {},
   "outputs": [],
   "source": [
    "stop_segments[stop_segments.geometry.isna()]"
   ]
  },
  {
   "cell_type": "code",
   "execution_count": null,
   "id": "c08e8769-4bdc-4296-b147-6c99ca0b41d2",
   "metadata": {},
   "outputs": [],
   "source": [
    "stop_segments[(stop_segments.geometry.notna())].sort_values(\"stop_sequence\")"
   ]
  },
  {
   "cell_type": "code",
   "execution_count": null,
   "id": "a839022e-7353-4abc-940d-a53ddd14f53f",
   "metadata": {},
   "outputs": [],
   "source": [
    "stop_segments[(stop_segments.geometry.notna()) & \n",
    "              (stop_segments.stop_sequence==1)].explore(\n",
    "    \"stop_sequence\",\n",
    "    tiles=\"CartoDB Positron\")"
   ]
  },
  {
   "cell_type": "code",
   "execution_count": null,
   "id": "5a9e4450-f64b-4e15-a547-7fd9c5f1e3c9",
   "metadata": {},
   "outputs": [],
   "source": [
    "stop_segments[(stop_segments.geometry.notna()) & \n",
    "              (stop_segments.stop_sequence==14)].explore(\n",
    "    \"stop_sequence\",\n",
    "    tiles=\"CartoDB Positron\")"
   ]
  },
  {
   "cell_type": "code",
   "execution_count": null,
   "id": "907d911c-c993-462c-9b6f-b30e56c31a91",
   "metadata": {},
   "outputs": [],
   "source": [
    "vp_pared2_gdf[vp_pared2_gdf.location_timestamp_local==\"2023-02-15 19:03:54\"]"
   ]
  },
  {
   "cell_type": "code",
   "execution_count": null,
   "id": "077eafe2-350d-4b04-a6c4-06dfee4c4105",
   "metadata": {},
   "outputs": [],
   "source": [
    "vp_pared2_gdf.location_timestamp_local.value_counts()"
   ]
  },
  {
   "cell_type": "code",
   "execution_count": null,
   "id": "3c868e80-b758-4df8-8e39-2832f0a45f2e",
   "metadata": {},
   "outputs": [],
   "source": [
    "vp_pared2_gdf[vp_pared2_gdf.stop_sequence==1].drop(columns=\"location_timestamp_local\"\n",
    "                  ).explore(\"stop_sequence\", tiles='CartoDB Positron')"
   ]
  },
  {
   "cell_type": "code",
   "execution_count": null,
   "id": "f30cccd5-2fd5-41db-b2f3-d9b2c40e3503",
   "metadata": {},
   "outputs": [],
   "source": [
    "vp_pared2_gdf[vp_pared2_gdf.stop_sequence==14].drop(columns=\"location_timestamp_local\"\n",
    "                  ).explore(\"stop_sequence\", tiles='CartoDB Positron')"
   ]
  },
  {
   "cell_type": "code",
   "execution_count": null,
   "id": "24c485f7-e1cc-4a93-b98e-5dc45eb1f6f1",
   "metadata": {},
   "outputs": [],
   "source": [
    "stop_metrics_utc[stop_metrics_utc.stop_sequence==14].stop_name.value_counts()"
   ]
  },
  {
   "cell_type": "code",
   "execution_count": null,
   "id": "51955c42-b28b-446c-9664-c10644951e3a",
   "metadata": {},
   "outputs": [],
   "source": [
    "stop_metrics_utc[stop_metrics_utc.stop_name==\"UTC Transit Center\"\n",
    "                ].trip_id.value_counts()"
   ]
  },
  {
   "cell_type": "code",
   "execution_count": null,
   "id": "36a2758a-4f2e-4bc3-9036-2ea9d40687b1",
   "metadata": {},
   "outputs": [],
   "source": []
  },
  {
   "cell_type": "code",
   "execution_count": null,
   "id": "310f150d-9b1c-4f0c-b839-49ba073840a6",
   "metadata": {},
   "outputs": [],
   "source": []
  },
  {
   "cell_type": "code",
   "execution_count": null,
   "id": "6dc6da9b-d129-4b59-88f6-2a06e4117d7c",
   "metadata": {},
   "outputs": [],
   "source": [
    "sd_speed = pd.read_parquet(\n",
    "    #f\"{SEGMENT_GCS}speeds_stop_segments_{analysis_date}/\",\n",
    "    f\"./scripts/data/stop_metrics_disaggregated_{analysis_date}.parquet\",\n",
    "    filters = [[(\"gtfs_dataset_key\", \"==\", rt_key)]]\n",
    ")\n",
    "\n",
    "sd_speed_201 = sd_speed[sd_speed.trip_id.isin(sd_201_trips)]\n",
    "shape_with_utc = \"f765b9d12fcca0173b4e3ddbc0374d18\"\n",
    "shape_wo_utc = \"eb78a03b26e653cc678f3ef6c8d7ebf7\""
   ]
  },
  {
   "cell_type": "code",
   "execution_count": null,
   "id": "13b976d4-39d4-4340-819c-b2e7dc3297dc",
   "metadata": {},
   "outputs": [],
   "source": [
    "sd_speed[\n",
    "    sd_speed.shape_array_key==shape_with_utc\n",
    "].stop_name.value_counts()"
   ]
  },
  {
   "cell_type": "code",
   "execution_count": null,
   "id": "ffb485f3-b869-4881-9f0f-86c7385f0909",
   "metadata": {},
   "outputs": [],
   "source": [
    "sd_speed[\n",
    "    sd_speed.shape_array_key==shape_wo_utc\n",
    "].stop_sequence.value_counts()"
   ]
  },
  {
   "cell_type": "code",
   "execution_count": null,
   "id": "0553dada-4952-4f85-b94b-c16ef356a222",
   "metadata": {},
   "outputs": [],
   "source": [
    "sd_speed_201.shape_array_key.value_counts()"
   ]
  },
  {
   "cell_type": "code",
   "execution_count": null,
   "id": "ee3316f0-15a7-44d8-bb88-de1950232c9a",
   "metadata": {},
   "outputs": [],
   "source": [
    "sd_speed_dropped = sd_speed[\n",
    "    sd_speed.shape_array_key==\"eb78a03b26e653cc678f3ef6c8d7ebf7\"]"
   ]
  },
  {
   "cell_type": "code",
   "execution_count": null,
   "id": "7b17d114-d1c8-4122-b952-431a89b3f144",
   "metadata": {},
   "outputs": [],
   "source": [
    "sd_speed_kept = sd_speed[\n",
    "    sd_speed.shape_array_key==\"f765b9d12fcca0173b4e3ddbc0374d18\"]"
   ]
  },
  {
   "cell_type": "code",
   "execution_count": null,
   "id": "deb4738a-9b50-47ee-be7d-6b7ba4a902f9",
   "metadata": {},
   "outputs": [],
   "source": [
    "sd_speed_kept[sd_speed_kept.stop_name==\"UTC Transit Center\"]"
   ]
  },
  {
   "cell_type": "code",
   "execution_count": null,
   "id": "8b5b43a7-b6a3-421c-8f11-80ce5ce4863c",
   "metadata": {},
   "outputs": [],
   "source": [
    "sd_speed_201[\n",
    "    sd_speed_201.stop_name == \"UTC Transit Center\"\n",
    "].stop_sequence.value_counts()"
   ]
  },
  {
   "cell_type": "code",
   "execution_count": null,
   "id": "8ed80f1c-38e9-47ae-9e7c-e824f0c82f07",
   "metadata": {},
   "outputs": [],
   "source": [
    "sd_speed_201[\n",
    "    sd_speed_201.stop_name == \"UTC Transit Center\"\n",
    "].shape_array_key.value_counts()"
   ]
  },
  {
   "cell_type": "code",
   "execution_count": null,
   "id": "56ae572e-380a-4f9c-8c59-231426e6da34",
   "metadata": {},
   "outputs": [],
   "source": [
    "sd_speed_201[\n",
    "    (sd_speed_201.stop_name == \"UTC Transit Center\")\n",
    "]"
   ]
  },
  {
   "cell_type": "code",
   "execution_count": null,
   "id": "b7feb50b-bdef-423f-8e6d-996084a2ee06",
   "metadata": {},
   "outputs": [],
   "source": []
  }
 ],
 "metadata": {
  "kernelspec": {
   "display_name": "Python 3 (ipykernel)",
   "language": "python",
   "name": "python3"
  },
  "language_info": {
   "codemirror_mode": {
    "name": "ipython",
    "version": 3
   },
   "file_extension": ".py",
   "mimetype": "text/x-python",
   "name": "python",
   "nbconvert_exporter": "python",
   "pygments_lexer": "ipython3",
   "version": "3.9.13"
  }
 },
 "nbformat": 4,
 "nbformat_minor": 5
}
