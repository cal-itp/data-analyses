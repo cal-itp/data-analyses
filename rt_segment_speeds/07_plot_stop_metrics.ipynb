{
 "cells": [
  {
   "cell_type": "markdown",
   "id": "98e4d499-417a-425c-ad66-25bd760b2e4e",
   "metadata": {},
   "source": [
    "# Plot stop-to-stop segments with speed and delay"
   ]
  },
  {
   "cell_type": "code",
   "execution_count": null,
   "id": "5737e28f-10ea-44c7-9b99-e653d347d566",
   "metadata": {},
   "outputs": [],
   "source": [
    "import altair as alt\n",
    "import dask.dataframe as dd\n",
    "import geopandas as gpd\n",
    "import pandas as pd\n",
    "\n",
    "from segment_speed_utils import helpers, gtfs_schedule_wrangling\n",
    "from segment_speed_utils.project_vars import SEGMENT_GCS, analysis_date\n",
    "\n",
    "from shared_utils import calitp_color_palette as cp\n",
    "from shared_utils import rt_utils\n",
    "\n",
    "CONFIG_PATH = \"./scripts/config.yml\""
   ]
  },
  {
   "cell_type": "code",
   "execution_count": null,
   "id": "16ee2fee-ea22-4bea-a954-fa5ab8b6b2a6",
   "metadata": {},
   "outputs": [],
   "source": [
    "STOP_SEG_DICT = helpers.get_parameters(CONFIG_PATH, \"stop_segments\")\n",
    "\n",
    "FILE_NAME = STOP_SEG_DICT['stop_delay_diagnostics']"
   ]
  },
  {
   "cell_type": "code",
   "execution_count": null,
   "id": "88b78ec0-6217-4308-a027-e62722bbf74c",
   "metadata": {},
   "outputs": [],
   "source": [
    "def get_rt_trip_departure_hour(analysis_date: str) -> dd.DataFrame:\n",
    "    \"\"\"\n",
    "    In the future, we would want to get trip departure hour based\n",
    "    off of scheduled trips, not RT.\n",
    "    \"\"\"\n",
    "    FILE_NAME = STOP_SEG_DICT['stop_delay_diagnostics']\n",
    "    \n",
    "    df = pd.read_parquet(\n",
    "        f\"{SEGMENT_GCS}{FILE_NAME}_{analysis_date}.parquet\", \n",
    "        columns = [\"gtfs_dataset_key\", \"_gtfs_dataset_name\", \"trip_id\", \n",
    "                   \"max_time\"]\n",
    "    ).drop_duplicates()\n",
    "    \n",
    "    trip_cols = [\"gtfs_dataset_key\", \"trip_id\"]\n",
    "    timestamp_col = \"max_time\"\n",
    "    \n",
    "    trip_df = (df.groupby(trip_cols)\n",
    "               [timestamp_col].min().dt.hour\n",
    "               .reset_index()\n",
    "              ).rename(columns = {timestamp_col: \"departure_hour\"})\n",
    "    \n",
    "    trip_df = trip_df.assign(\n",
    "        time_of_day = trip_df.apply(\n",
    "            lambda x: rt_utils.categorize_time_of_day(x.departure_hour), \n",
    "            axis=1)\n",
    "    )\n",
    "    \n",
    "    return trip_df"
   ]
  },
  {
   "cell_type": "code",
   "execution_count": null,
   "id": "237bef15-6bc5-42ad-afaa-e0e91be001c7",
   "metadata": {},
   "outputs": [],
   "source": [
    "trip_start = get_rt_trip_departure_hour(analysis_date)"
   ]
  },
  {
   "cell_type": "code",
   "execution_count": null,
   "id": "7ab5be0d-adf3-41d2-af40-e494975e51cc",
   "metadata": {},
   "outputs": [],
   "source": [
    "df = pd.read_parquet(\n",
    "    f\"{SEGMENT_GCS}{FILE_NAME}_{analysis_date}.parquet\", \n",
    "    columns = [\"gtfs_dataset_key\", \"_gtfs_dataset_name\", \"trip_id\", \n",
    "               \"shape_array_key\", \"feed_key\",\n",
    "               \"stop_id\", \"stop_sequence\", \n",
    "               \"actual_minus_scheduled_sec\", \"speed_mph\",\n",
    "              ]\n",
    ")"
   ]
  },
  {
   "cell_type": "code",
   "execution_count": null,
   "id": "803c9e0c-fab6-48e9-8733-c5118d20315e",
   "metadata": {},
   "outputs": [],
   "source": [
    "def get_distribution(df):\n",
    "    group_cols = [\"gtfs_dataset_key\", \"trip_id\"]\n",
    "    col = \"actual_minus_scheduled_sec\"\n",
    "    \n",
    "    minimum = (df.groupby(group_cols)[col]\n",
    "               .min()\n",
    "               .reset_index()\n",
    "               .rename(columns = {col: \"min_delay\"})\n",
    "              )\n",
    "    \n",
    "    maximum = (df.groupby(group_cols)[col]\n",
    "               .max()\n",
    "               .reset_index()\n",
    "               .rename(columns = {col: \"max_delay\"})\n",
    "              )\n",
    "    \n",
    "    mean = (df.groupby(group_cols)[col]\n",
    "               .mean()\n",
    "               .reset_index()\n",
    "               .rename(columns = {col: \"mean_delay\"})\n",
    "              )\n",
    "    \n",
    "    stats = dd.merge(\n",
    "        minimum,\n",
    "        maximum,\n",
    "        on = group_cols\n",
    "    ).merge(\n",
    "        mean, \n",
    "        on = group_cols\n",
    "    )\n",
    "    \n",
    "    return stats"
   ]
  },
  {
   "cell_type": "code",
   "execution_count": null,
   "id": "709ca4d1-fa6a-432c-9e67-bba59f64fc7a",
   "metadata": {},
   "outputs": [],
   "source": [
    "delay = get_distribution(df)"
   ]
  },
  {
   "cell_type": "code",
   "execution_count": null,
   "id": "5091bf9d-8c2f-46e4-8025-5a7e85bfcfb0",
   "metadata": {},
   "outputs": [],
   "source": [
    "delay.shape"
   ]
  },
  {
   "cell_type": "code",
   "execution_count": null,
   "id": "3992eb65-2560-448e-805b-503dc7f6539d",
   "metadata": {},
   "outputs": [],
   "source": [
    "# over 1 hr delayed\n",
    "for i in range(1, 12):\n",
    "    # find how many trips have over 1, 2, 3 hr delay\n",
    "    subset = delay[delay.max_delay >= 60*60*i]\n",
    "    print(f\"max_delay is over {i} hr: {len(subset)}\")"
   ]
  },
  {
   "cell_type": "code",
   "execution_count": null,
   "id": "984e4fd0-6666-45b6-ad2e-9d495ea87273",
   "metadata": {},
   "outputs": [],
   "source": [
    "# Merge in route_id and route_type\n",
    "scheduled_trips = helpers.import_scheduled_trips(\n",
    "    analysis_date,\n",
    "    columns = [\"shape_array_key\", \"direction_id\", \n",
    "               \"route_id\", \"route_type\"]\n",
    ").drop_duplicates().compute()\n",
    "\n",
    "df2 = dd.merge(\n",
    "    df,\n",
    "    trip_start,\n",
    "    on = [\"gtfs_dataset_key\", \"trip_id\"],\n",
    "    how = \"inner\"\n",
    ").merge(\n",
    "    scheduled_trips,\n",
    "    on = \"shape_array_key\",\n",
    "    how = \"inner\"\n",
    ")\n",
    "\n",
    "df2 = df2[(df2.speed_mph >= 0) & \n",
    "          (df2.speed_mph <= 70)].reset_index(drop=True)"
   ]
  },
  {
   "cell_type": "code",
   "execution_count": null,
   "id": "14eeadac-3d23-41c3-ba5a-d5a77c94e232",
   "metadata": {},
   "outputs": [],
   "source": [
    "def aggregate_to_stop_hour_attach_geom(\n",
    "    df: pd.DataFrame\n",
    ") -> gpd.GeoDataFrame:\n",
    "    \"\"\"\n",
    "    Aggregate to stop_id-departure_hour. \n",
    "    Attach stop's point geometry.\n",
    "    \"\"\"\n",
    "    stop_cols = [\n",
    "        \"gtfs_dataset_key\", \"_gtfs_dataset_name\", \n",
    "        \"stop_id\", \"feed_key\",\n",
    "        \"route_id\", \"route_type\", \"direction_id\",\n",
    "        \"stop_sequence\",\n",
    "        \"departure_hour\", 'time_of_day'\n",
    "    ]\n",
    "\n",
    "    stop_metrics = (df.groupby(stop_cols)\n",
    "                    .agg({\n",
    "                        \"actual_minus_scheduled_sec\": \"mean\", \n",
    "                        \"speed_mph\": \"mean\",\n",
    "                    }).reset_index()\n",
    "                   )\n",
    "\n",
    "    stop_metrics = stop_metrics.assign(\n",
    "        actual_minus_scheduled_min = stop_metrics.actual_minus_scheduled_sec.divide(60).round(1),\n",
    "    )\n",
    "        \n",
    "    stops = helpers.import_scheduled_stops(\n",
    "        analysis_date, \n",
    "        columns = [\"feed_key\", \"stop_id\", \"geometry\"],\n",
    "    )\n",
    "\n",
    "    stop_metrics_with_geom = gtfs_schedule_wrangling.attach_stop_geometry(\n",
    "        stop_metrics, \n",
    "        stops,\n",
    "    ).compute()\n",
    "\n",
    "\n",
    "    stop_metrics_with_geom = gpd.GeoDataFrame(stop_metrics_with_geom)\n",
    "    \n",
    "    return stop_metrics_with_geom"
   ]
  },
  {
   "cell_type": "code",
   "execution_count": null,
   "id": "73f50a5c-5f43-4544-a096-49f665e91887",
   "metadata": {},
   "outputs": [],
   "source": [
    "gdf = aggregate_to_stop_hour_attach_geom(df2)"
   ]
  },
  {
   "cell_type": "code",
   "execution_count": null,
   "id": "71b8ce74-6f08-496d-9596-075b7aae9e96",
   "metadata": {},
   "outputs": [],
   "source": [
    "one_operator = \"Big Blue Bus VehiclePositions\"\n",
    "\n",
    "gdf = gdf[gdf._gtfs_dataset_name==one_operator]"
   ]
  },
  {
   "cell_type": "code",
   "execution_count": null,
   "id": "4cdcdb6d-a6f2-4bdf-81da-127bee03f158",
   "metadata": {},
   "outputs": [],
   "source": [
    "'''\n",
    "gdf.explore(\n",
    "    \"actual_minus_scheduled_min\",\n",
    "    tiles = \"CartoDB Positron\"\n",
    ")\n",
    "'''"
   ]
  },
  {
   "cell_type": "code",
   "execution_count": null,
   "id": "443e5693-017f-4720-ada6-6f2ad478a3f5",
   "metadata": {},
   "outputs": [],
   "source": [
    "def make_chart(df: pd.DataFrame, \n",
    "               stop: str) -> alt.Chart:\n",
    "    \n",
    "    df = df.drop(columns = [\"geometry\", \n",
    "                            \"actual_minus_scheduled_sec\"])\n",
    "    \n",
    "    \n",
    "    base = (alt.Chart(df[df.stop_id==stop])\n",
    "            .mark_bar(width=10)\n",
    "            .encode(\n",
    "                x=alt.X(\n",
    "                    \"departure_hour:Q\", title=\"Hour\",\n",
    "                    scale = alt.Scale(domain=[1,23])\n",
    "                ),\n",
    "                color = alt.Color(\n",
    "                    \"time_of_day:N\", title=\"Time of Day\",\n",
    "                    scale = alt.Scale(range=cp.CALITP_CATEGORY_BRIGHT_COLORS)\n",
    "                )\n",
    "            ).interactive()\n",
    "           )\n",
    "    \n",
    "    tooltip_cols = [\"_gtfs_dataset_name\", \"stop_id\", \"departure_hour\"]\n",
    "    \n",
    "    delay_chart = base.encode(\n",
    "        y=alt.Y(\"actual_minus_scheduled_min:Q\", title=\"Minutes Delayed\"),\n",
    "        tooltip=tooltip_cols + [\"actual_minus_scheduled_min\"]\n",
    "    ).properties(title=f\"Stop {stop}: Delay by Hour\", \n",
    "                 width=400, height=200\n",
    "                )\n",
    "            \n",
    "    speed_chart = base.encode(\n",
    "       y=alt.Y(\"speed_mph:Q\", title=\"Speed (mph)\"),\n",
    "        tooltip = tooltip_cols + [\"speed_mph\"]\n",
    "    ).properties(title=f\"Stop {stop}: Speed by Hour\", \n",
    "                 width=400, height=200\n",
    "                )\n",
    "    \n",
    "    chart = alt.vconcat(delay_chart, speed_chart)\n",
    "    \n",
    "    return chart"
   ]
  },
  {
   "cell_type": "code",
   "execution_count": null,
   "id": "7661037a-2ddd-4a12-a386-07fca8ecdb91",
   "metadata": {},
   "outputs": [],
   "source": [
    "test_route = gdf.route_id.iloc[0]\n",
    "\n",
    "subset_df = gdf[(gdf.route_id==test_route) & \n",
    "             (gdf.direction_id==0)]"
   ]
  },
  {
   "cell_type": "code",
   "execution_count": null,
   "id": "d9e0a829-4224-469e-92c4-3e847b94dc73",
   "metadata": {},
   "outputs": [],
   "source": [
    "for i in sorted(subset_df.stop_sequence.unique()):\n",
    "    s = subset_df[subset_df.stop_sequence==i].stop_id.iloc[0]\n",
    "    chart = make_chart(subset_df, s)\n",
    "    display(chart)"
   ]
  },
  {
   "cell_type": "code",
   "execution_count": null,
   "id": "084a7002-e931-447b-a113-ae6624897654",
   "metadata": {},
   "outputs": [],
   "source": []
  },
  {
   "cell_type": "code",
   "execution_count": null,
   "id": "76c7442f-75ec-4b0a-9500-90461eb42247",
   "metadata": {},
   "outputs": [],
   "source": []
  }
 ],
 "metadata": {
  "kernelspec": {
   "display_name": "Python 3 (ipykernel)",
   "language": "python",
   "name": "python3"
  },
  "language_info": {
   "codemirror_mode": {
    "name": "ipython",
    "version": 3
   },
   "file_extension": ".py",
   "mimetype": "text/x-python",
   "name": "python",
   "nbconvert_exporter": "python",
   "pygments_lexer": "ipython3",
   "version": "3.9.13"
  }
 },
 "nbformat": 4,
 "nbformat_minor": 5
}
