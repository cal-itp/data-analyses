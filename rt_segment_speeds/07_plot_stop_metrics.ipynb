{
 "cells": [
  {
   "cell_type": "markdown",
   "id": "98e4d499-417a-425c-ad66-25bd760b2e4e",
   "metadata": {},
   "source": [
    "# Plot stop-to-stop segments with speed and delay"
   ]
  },
  {
   "cell_type": "code",
   "execution_count": null,
   "id": "5737e28f-10ea-44c7-9b99-e653d347d566",
   "metadata": {},
   "outputs": [],
   "source": [
    "import dask.dataframe as dd\n",
    "import dask_geopandas as dg\n",
    "import geopandas as gpd\n",
    "import pandas as pd\n",
    "\n",
    "from segment_speed_utils import helpers, gtfs_schedule_wrangling\n",
    "from segment_speed_utils.project_vars import SEGMENT_GCS, analysis_date\n",
    "\n",
    "CONFIG_PATH = \"./scripts/config.yml\""
   ]
  },
  {
   "cell_type": "code",
   "execution_count": null,
   "id": "16ee2fee-ea22-4bea-a954-fa5ab8b6b2a6",
   "metadata": {},
   "outputs": [],
   "source": [
    "STOP_SEG_DICT = helpers.get_parameters(CONFIG_PATH, \"stop_segments\")"
   ]
  },
  {
   "cell_type": "code",
   "execution_count": null,
   "id": "7ab5be0d-adf3-41d2-af40-e494975e51cc",
   "metadata": {},
   "outputs": [],
   "source": [
    "df = dd.read_parquet(\n",
    "    f\"{SEGMENT_GCS}{STOP_SEG_DICT['stop_delay_diagnostics']}_{analysis_date}.parquet\", \n",
    "    columns = [\"gtfs_dataset_key\", \"_gtfs_dataset_name\", \"trip_id\", \n",
    "               \"shape_array_key\", \"feed_key\", \"name\", \n",
    "               \"stop_id\", \"stop_sequence\", \n",
    "               \"max_time\",\n",
    "               \"actual_minus_scheduled_sec\", \"speed_mph\",\n",
    "              ]\n",
    ")"
   ]
  },
  {
   "cell_type": "code",
   "execution_count": null,
   "id": "e7dd128f-6fd7-4581-a4ab-93623e4cec4a",
   "metadata": {},
   "outputs": [],
   "source": [
    "df.columns"
   ]
  },
  {
   "cell_type": "code",
   "execution_count": null,
   "id": "fcd41dc3-38d3-40da-9a14-619b6230c355",
   "metadata": {},
   "outputs": [],
   "source": [
    "test_key = \"48b51d6d96bb01c42c87e40824248fe4\"\n",
    "\n",
    "\n",
    "#scheduled_feed_key = df.feed_key.iloc[0]\n",
    "#stop_segments = gpd.read_parquet(\n",
    "#    f\"{SEGMENT_GCS}stop_segments_{analysis_date}.parquet\"\n",
    "#)"
   ]
  },
  {
   "cell_type": "code",
   "execution_count": null,
   "id": "f1c5436c-0e83-47d1-b9c1-4ae748a98eaa",
   "metadata": {},
   "outputs": [],
   "source": [
    "def get_trip_departure_hour(df: dd.DataFrame) -> dd.DataFrame:\n",
    "    \"\"\"\n",
    "    In the future, we would want to get trip departure hour based\n",
    "    off of scheduled trips, not RT.\n",
    "    \"\"\"\n",
    "    trip_cols = [\"gtfs_dataset_key\", \"trip_id\"]\n",
    "    timestamp_col = \"max_time\"\n",
    "    \n",
    "    trip_df = (df.groupby(trip_cols)\n",
    "               [timestamp_col].min().dt.hour\n",
    "               .reset_index()\n",
    "               .compute()\n",
    "              ).rename(columns = {timestamp_col: \"departure_hour\"})\n",
    "    \n",
    "    return trip_df"
   ]
  },
  {
   "cell_type": "code",
   "execution_count": null,
   "id": "984e4fd0-6666-45b6-ad2e-9d495ea87273",
   "metadata": {},
   "outputs": [],
   "source": [
    "trip_departure = get_trip_departure_hour(df)\n",
    "\n",
    "df2 = df.merge(\n",
    "    trip_departure,\n",
    "    on = [\"gtfs_dataset_key\", \"trip_id\"],\n",
    "    how = \"inner\"\n",
    ").drop(columns = \"max_time\")"
   ]
  },
  {
   "cell_type": "code",
   "execution_count": null,
   "id": "73f50a5c-5f43-4544-a096-49f665e91887",
   "metadata": {},
   "outputs": [],
   "source": [
    "stop_cols = [\n",
    "    \"gtfs_dataset_key\", \"_gtfs_dataset_name\", \n",
    "    #\"shape_array_key\", \n",
    "    \"feed_key\", \"name\", \n",
    "    \"stop_id\", \"stop_sequence\", \"departure_hour\", \n",
    "]\n",
    "\n",
    "stop_metrics = (df2.groupby(stop_cols)\n",
    "                .agg({\n",
    "                    \"actual_minus_scheduled_sec\": \"mean\", \n",
    "                    \"speed_mph\": \"mean\",\n",
    "                }).reset_index()\n",
    "               )\n",
    "\n",
    "stop_metrics = stop_metrics.assign(\n",
    "    actual_minus_scheduled_min = stop_metrics.actual_minus_scheduled_sec.divide(60).round(1),\n",
    ")"
   ]
  },
  {
   "cell_type": "code",
   "execution_count": null,
   "id": "78bde01d-d778-4f9b-99e9-0906fcb68e6e",
   "metadata": {},
   "outputs": [],
   "source": [
    "stops = helpers.import_scheduled_stops(\n",
    "    analysis_date, \n",
    "    columns = [\"feed_key\", \"stop_id\", \"geometry\"],\n",
    ")\n",
    "\n",
    "stop_metrics_with_geom = gtfs_schedule_wrangling.attach_stop_geometry(\n",
    "    stop_metrics, \n",
    "    stops,\n",
    ").compute()\n",
    "\n",
    "\n",
    "stop_metrics_with_geom = gpd.GeoDataFrame(stop_metrics_with_geom)"
   ]
  },
  {
   "cell_type": "code",
   "execution_count": null,
   "id": "b7e7bad5-6224-4631-9107-1fe42bb3a743",
   "metadata": {},
   "outputs": [],
   "source": [
    "one_operator = \"Big Blue Bus VehiclePositions\""
   ]
  },
  {
   "cell_type": "code",
   "execution_count": null,
   "id": "0c34580e-e856-4f16-9e9c-bc1fdc37a9d3",
   "metadata": {},
   "outputs": [],
   "source": [
    "gdf = stop_metrics_with_geom[\n",
    "    stop_metrics_with_geom._gtfs_dataset_name==one_operator]"
   ]
  },
  {
   "cell_type": "code",
   "execution_count": null,
   "id": "4cdcdb6d-a6f2-4bdf-81da-127bee03f158",
   "metadata": {},
   "outputs": [],
   "source": [
    "gdf.explore(\n",
    "    \"actual_minus_scheduled_min\",\n",
    "    tiles = \"CartoDB Positron\"\n",
    ")"
   ]
  },
  {
   "cell_type": "code",
   "execution_count": null,
   "id": "73aa6ea8-4772-417a-864e-18de79b9c573",
   "metadata": {},
   "outputs": [],
   "source": [
    "import altair as alt"
   ]
  },
  {
   "cell_type": "code",
   "execution_count": null,
   "id": "443e5693-017f-4720-ada6-6f2ad478a3f5",
   "metadata": {},
   "outputs": [],
   "source": [
    "def make_chart(df, stop):\n",
    "    df = df.drop(columns = \"geometry\")\n",
    "    chart = (\n",
    "        alt.Chart(df[df.stop_id==stop])\n",
    "        .mark_bar()\n",
    "        .encode(\n",
    "            x=alt.X(\"departure_hour:Q\", title=\"Hour\"),\n",
    "            y=alt.Y(\"actual_minus_scheduled_min:Q\", \n",
    "                    title=\"Minutes Delayed\"),\n",
    "        )\n",
    "    )\n",
    "    \n",
    "    return chart"
   ]
  },
  {
   "cell_type": "code",
   "execution_count": null,
   "id": "7661037a-2ddd-4a12-a386-07fca8ecdb91",
   "metadata": {},
   "outputs": [],
   "source": [
    "for i in gdf.stop_id.unique()[:10]:\n",
    "    chart = make_chart(gdf, i)\n",
    "    display(chart)"
   ]
  },
  {
   "cell_type": "code",
   "execution_count": null,
   "id": "fd0790c1-7931-4a5c-bf5b-d39c876ed381",
   "metadata": {},
   "outputs": [],
   "source": [
    "df.actual_minus_scheduled_sec.describe().compute()"
   ]
  },
  {
   "cell_type": "code",
   "execution_count": null,
   "id": "b11e7314-1fd8-4b41-934f-5cbd97eaa86b",
   "metadata": {},
   "outputs": [],
   "source": []
  }
 ],
 "metadata": {
  "kernelspec": {
   "display_name": "Python 3 (ipykernel)",
   "language": "python",
   "name": "python3"
  },
  "language_info": {
   "codemirror_mode": {
    "name": "ipython",
    "version": 3
   },
   "file_extension": ".py",
   "mimetype": "text/x-python",
   "name": "python",
   "nbconvert_exporter": "python",
   "pygments_lexer": "ipython3",
   "version": "3.9.13"
  }
 },
 "nbformat": 4,
 "nbformat_minor": 5
}
