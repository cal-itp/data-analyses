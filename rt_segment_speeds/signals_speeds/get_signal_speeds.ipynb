{
 "cells": [
  {
   "cell_type": "markdown",
   "id": "69e07184-92bc-4f84-ac1e-201064c2905d",
   "metadata": {},
   "source": [
    "#### Introduction\n",
    "\n",
    "This notebook creates maps and tables to determine the transit service at or near traffic signals. Currently, only signals on the State Highway Network (SHN) are shown.\n",
    "\n",
    "#### How to use\n",
    "On the calitp Jupyterhub, import `shared_utils` and authenticate to GCS.\n",
    "\n",
    "#### Technical details\n",
    "- Signal data is sourced from HQ Traffic Ops GIS, downloaded on 2025-09-08.\n",
    "Segment data is calculated based on GTFS data collected by DDS for the selected targed date\n",
    "- Routes are associated with a signal if they run within 155 meters of the signal. \n",
    "- Speeds and frequencies are defined based on data in the morning peak (7a-10a). Displayed speeds are the 20th percentile speeds.\n",
    "- Network lines are based on data provided by Rebel. They are manually drawn, and do not strictly represent transit routes.\n",
    "- Detailed speeds methodology is available at https://analysis.dds.dot.ca.gov/rt/README.html"
   ]
  },
  {
   "cell_type": "code",
   "execution_count": 1,
   "id": "62c41603-33eb-4a87-9b40-200e1b81d4a1",
   "metadata": {
    "tags": []
   },
   "outputs": [],
   "source": [
    "from signal_tools import sjoin_signals\n",
    "import branca\n",
    "import geopandas as gpd\n",
    "from calitp_data_analysis import gcs_geopandas, geography_utils\n",
    "from shared_utils import catalog_utils, rt_dates, rt_utils, webmap_utils"
   ]
  },
  {
   "cell_type": "code",
   "execution_count": 2,
   "id": "892ffbd9-d0bf-45f8-8edc-ed353a1d0251",
   "metadata": {
    "tags": []
   },
   "outputs": [],
   "source": [
    "# constants\n",
    "TARGET_DATE = rt_dates.DATES[\"jul2025\"]\n",
    "SIGNAL_URI = \"gs://calitp-analytics-data/data-analyses/rt_delay/signals/signals_2025-09-08.geojson\"\n",
    "TARGET_TIME_OF_DAY = \"AM Peak\"\n",
    "ANALYSIS_DISTRICT_NUMBER = 7\n",
    "TARGET_TIME_OF_DAY_LENGTH_HOURS = (\n",
    "    3  # the length of the target time of day (3 hours for am peak)\n",
    ")"
   ]
  },
  {
   "cell_type": "code",
   "execution_count": 3,
   "id": "e71d4835-b379-40d5-8eee-5d109dd53c2d",
   "metadata": {
    "tags": []
   },
   "outputs": [],
   "source": [
    "g = gcs_geopandas.GCSGeoPandas()"
   ]
  },
  {
   "cell_type": "code",
   "execution_count": 4,
   "id": "6958ad6c-e453-4248-979c-ea0d7ca8691b",
   "metadata": {
    "tags": []
   },
   "outputs": [],
   "source": [
    "# read geo files\n",
    "shared_data_catalog = catalog_utils.get_catalog(\"shared_data_catalog\")\n",
    "gtfs_data_constants = catalog_utils.get_catalog(\"gtfs_analytics_data\")\n",
    "\n",
    "# Get district polygons to mask\n",
    "districts = shared_data_catalog.caltrans_districts.read()\n",
    "analysis_district = districts.loc[districts[\"DISTRICT\"] == ANALYSIS_DISTRICT_NUMBER]\n",
    "\n",
    "# Get speedmap data\n",
    "speedmap_segments = g.read_parquet(\n",
    "    f\"{gtfs_data_constants.speedmap_segments.dir}{gtfs_data_constants.speedmap_segments.segment_timeofday}_{TARGET_DATE}.parquet\",\n",
    "    filters=[\n",
    "        (\"time_of_day\", \"=\", TARGET_TIME_OF_DAY)\n",
    "    ],  # Filter for only a selected time of day\n",
    ").clip(analysis_district)\n",
    "\n",
    "# Get signal data\n",
    "signals = (\n",
    "    g.read_file(\n",
    "        SIGNAL_URI,\n",
    "    )\n",
    "    .rename(columns=lambda s: s.lower())\n",
    "    .clip(analysis_district)\n",
    ")  # we want columns to be all lower case\n",
    "# Filter out devices that aren't actually signals\n",
    "signals_with_transit = signals.loc[\n",
    "    signals[\"tms_unit_type\"] == \"Traffic Signals\"\n",
    "].set_index(\"objectid\")"
   ]
  },
  {
   "cell_type": "code",
   "execution_count": 5,
   "id": "74388f24-aab5-404a-98c0-9e9361358703",
   "metadata": {
    "tags": []
   },
   "outputs": [],
   "source": [
    "# Get one GDF with signals and their nearest segment\n",
    "buffered_speedmap_segments = gpd.GeoDataFrame(\n",
    "    data=speedmap_segments.drop(speedmap_segments.geometry.name, axis=1),\n",
    "    geometry=speedmap_segments.to_crs(geography_utils.CA_NAD83Albers_m).buffer(5),\n",
    ")"
   ]
  },
  {
   "cell_type": "code",
   "execution_count": 6,
   "id": "757505d9-2382-40e1-b54e-9f628ae46f27",
   "metadata": {
    "tags": []
   },
   "outputs": [],
   "source": [
    "# Join segments to signals\n",
    "sjoined_signals_segments = (\n",
    "    sjoin_signals(\n",
    "        signal_gdf=signals_with_transit.reset_index(),\n",
    "        segments_gdf=buffered_speedmap_segments,\n",
    "        segments_lines_gdf=speedmap_segments,\n",
    "    )\n",
    "    .drop(\"geometry\", axis=1)\n",
    "    .set_geometry(\"line_geom\")\n",
    ")\n",
    "\n",
    "# Get the distance from the segment to the associate signal\n",
    "sjoined_signals_segments[\"distance_to_signal\"] = (\n",
    "    sjoined_signals_segments[\"line_geom\"]\n",
    "    .to_crs(geography_utils.CA_NAD83Albers_m)\n",
    "    .distance(\n",
    "        sjoined_signals_segments[\"signal_pt_geom\"].to_crs(\n",
    "            geography_utils.CA_NAD83Albers_m\n",
    "        )\n",
    "    )\n",
    ")"
   ]
  },
  {
   "cell_type": "code",
   "execution_count": 7,
   "id": "7856d751-b614-4f6a-9b33-a044b2065cbe",
   "metadata": {
    "tags": []
   },
   "outputs": [],
   "source": [
    "# Make sure we only count the one shape per signal\n",
    "signals_segments_removed_duplicates = sjoined_signals_segments.sort_values(\n",
    "    [\"distance_to_signal\"], ascending=True\n",
    ").drop_duplicates(subset=[\"shape_id\", \"objectid\"], keep=\"first\")\n",
    "\n",
    "# Groupby signal id\n",
    "speedmaps_grouped_by_signal = signals_segments_removed_duplicates.groupby(\"objectid\")\n",
    "\n",
    "# Get frequencies through a stop\n",
    "signals_with_transit[\"trips_hr_sch\"] = speedmaps_grouped_by_signal[\"trips_hr_sch\"].sum()\n",
    "# Get all the routes that serve a stop\n",
    "agg_names = lambda names: \", \".join(names.drop_duplicates().dropna())\n",
    "signals_with_transit[\"route_names_aggregated\"] = (\n",
    "    speedmaps_grouped_by_signal[\"route_short_name\"]\n",
    ").agg(agg_names)\n",
    "signals_with_transit[\"organization_names_aggregated\"] = (\n",
    "    speedmaps_grouped_by_signal[\"organization_name\"]\n",
    ").agg(agg_names)"
   ]
  },
  {
   "cell_type": "code",
   "execution_count": 8,
   "id": "9c759c77-3ee2-434b-b9f1-db0fa2adcc19",
   "metadata": {
    "tags": []
   },
   "outputs": [],
   "source": [
    "# Get GDFs formatted for display on the webmap\n",
    "\n",
    "# Segment GDF\n",
    "arrowized_gdf = (\n",
    "    sjoined_signals_segments.drop([\"signal_pt_geom\"], axis=1)\n",
    "    .to_crs(geography_utils.CA_NAD83Albers_m)\n",
    "    .rename_geometry(\"geometry\")\n",
    ")\n",
    "arrowized_gdf.geometry = arrowized_gdf.geometry.apply(rt_utils.try_parallel)\n",
    "arrowized_gdf = arrowized_gdf.apply(\n",
    "    rt_utils.arrowize_by_frequency, axis=1, frequency_col=\"trips_hr_sch\"\n",
    ")\n",
    "arrowized_gdf[\"route_short_name\"] = (\n",
    "    arrowized_gdf[\"organization_name\"] + \" - \" + arrowized_gdf[\"route_short_name\"]\n",
    ")\n",
    "\n",
    "# Signal GDF\n",
    "buffered_signals = gpd.GeoDataFrame(\n",
    "    data=signals_with_transit.rename(\n",
    "        columns={\"trips_hr_sch\": \"Trips/Hour\"}\n",
    "    ),\n",
    "    geometry=signals_with_transit.to_crs(geography_utils.CA_NAD83Albers_m).buffer(50),\n",
    ").reset_index()"
   ]
  },
  {
   "cell_type": "code",
   "execution_count": 9,
   "id": "239f73d5-ddf9-460d-94a1-6c6ddae97046",
   "metadata": {
    "tags": []
   },
   "outputs": [],
   "source": [
    "# Define columns to include\n",
    "signals_with_transit_display_columns = [\n",
    "    \"tms_unit_type\",\n",
    "    \"route_names_aggregated\",\n",
    "    \"organization_names_aggregated\",\n",
    "    \"Trips/Hour\",\n",
    "    # \"asset_sub_type\",\n",
    "    \"tms_id\",\n",
    "    \"imms_id\",\n",
    "    \"delegation_type\",\n",
    "    # \"leased_owned\",\n",
    "    # \"comment\",\n",
    "    signals_with_transit.geometry.name,\n",
    "]\n",
    "arrowized_segments_display_columns = [\n",
    "    \"trips_hr_sch\",\n",
    "    \"p50_mph\",\n",
    "    \"p20_mph\",\n",
    "    \"p80_mph\",\n",
    "    \"route_short_name\",\n",
    "    \"stop_pair_name\",\n",
    "    \"segment_id\",\n",
    "    \"route_id\",\n",
    "    \"shape_id\",\n",
    "    arrowized_gdf.geometry.name,\n",
    "]"
   ]
  },
  {
   "cell_type": "code",
   "execution_count": 10,
   "id": "feafd4ab-e70c-46f8-b5fc-fa0b6f24bee3",
   "metadata": {
    "tags": []
   },
   "outputs": [],
   "source": [
    "# Get study corridors to add onto the map\n",
    "study_corridors = gpd.read_file(\"study_corridors_lines.geojson\")\n",
    "study_corridors[\"bus_lane\"] = study_corridors[\"bus_lane\"].fillna(0)\n",
    "study_corridors.geometry = study_corridors.to_crs(\n",
    "    geography_utils.CA_NAD83Albers_m\n",
    ").buffer(100, cap_style=\"flat\")\n",
    "# Get colormap based on whether the analysis segment is a bus lane\n",
    "DDS_GREY = \"#d9d9d6\"\n",
    "DDS_BLUE = \"#b1e4e3\"\n",
    "study_corridor_colormap = branca.colormap.StepColormap(\n",
    "    colors=[DDS_GREY, DDS_BLUE], index=[0, 1]\n",
    ")"
   ]
  },
  {
   "cell_type": "code",
   "execution_count": 11,
   "id": "d3684c8b-b5af-4b89-a953-e21a26f9fdc3",
   "metadata": {
    "tags": []
   },
   "outputs": [
    {
     "name": "stderr",
     "output_type": "stream",
     "text": [
      "/home/jovyan/data-analyses/_shared_utils/shared_utils/webmap_utils.py:118: UserWarning: Geometry is in a geographic CRS. Results from 'centroid' are likely incorrect. Use 'GeoSeries.to_crs()' to re-project geometries to a projected CRS before this operation.\n",
      "\n",
      "  centroid = (gdf.geometry.centroid.y.mean(), gdf.geometry.centroid.x.mean())\n",
      "/home/jovyan/data-analyses/_shared_utils/shared_utils/webmap_utils.py:118: UserWarning: Geometry is in a geographic CRS. Results from 'centroid' are likely incorrect. Use 'GeoSeries.to_crs()' to re-project geometries to a projected CRS before this operation.\n",
      "\n",
      "  centroid = (gdf.geometry.centroid.y.mean(), gdf.geometry.centroid.x.mean())\n"
     ]
    },
    {
     "data": {
      "text/plain": [
       "{'state_dict': {'name': 'null',\n",
       "  'layers': [{'name': 'Study Corridors',\n",
       "    'url': 'https://storage.googleapis.com/calitp-map-tiles/signals_v12_31/study_corridors.geojson.gz',\n",
       "    'properties': {'stroked': False, 'highlight_saturation_multiplier': 0.5}},\n",
       "   {'name': 'Speeds',\n",
       "    'url': 'https://storage.googleapis.com/calitp-map-tiles/signals_v12_31/speeds.geojson.gz',\n",
       "    'properties': {'stroked': False,\n",
       "     'highlight_saturation_multiplier': 0.5,\n",
       "     'tooltip_speed_key': 'p20_mph'},\n",
       "    'type': 'new_speedmap'},\n",
       "   {'name': 'Signals with Approach Speeds 2025-07-16',\n",
       "    'url': 'https://storage.googleapis.com/calitp-map-tiles/signals_v12_31/test2.geojson.gz',\n",
       "    'properties': {'stroked': False, 'highlight_saturation_multiplier': 0.5}}],\n",
       "  'lat_lon': [34.048108, -118.4183252],\n",
       "  'zoom': 13,\n",
       "  'legend_url': 'https://storage.googleapis.com/calitp-map-tiles/speeds_legend.svg'},\n",
       " 'spa_link': 'https://embeddable-maps.calitp.org/?state=eyJuYW1lIjogIm51bGwiLCAibGF5ZXJzIjogW3sibmFtZSI6ICJTdHVkeSBDb3JyaWRvcnMiLCAidXJsIjogImh0dHBzOi8vc3RvcmFnZS5nb29nbGVhcGlzLmNvbS9jYWxpdHAtbWFwLXRpbGVzL3NpZ25hbHNfdjEyXzMxL3N0dWR5X2NvcnJpZG9ycy5nZW9qc29uLmd6IiwgInByb3BlcnRpZXMiOiB7InN0cm9rZWQiOiBmYWxzZSwgImhpZ2hsaWdodF9zYXR1cmF0aW9uX211bHRpcGxpZXIiOiAwLjV9fSwgeyJuYW1lIjogIlNwZWVkcyIsICJ1cmwiOiAiaHR0cHM6Ly9zdG9yYWdlLmdvb2dsZWFwaXMuY29tL2NhbGl0cC1tYXAtdGlsZXMvc2lnbmFsc192MTJfMzEvc3BlZWRzLmdlb2pzb24uZ3oiLCAicHJvcGVydGllcyI6IHsic3Ryb2tlZCI6IGZhbHNlLCAiaGlnaGxpZ2h0X3NhdHVyYXRpb25fbXVsdGlwbGllciI6IDAuNSwgInRvb2x0aXBfc3BlZWRfa2V5IjogInAyMF9tcGgifSwgInR5cGUiOiAibmV3X3NwZWVkbWFwIn0sIHsibmFtZSI6ICJTaWduYWxzIHdpdGggQXBwcm9hY2ggU3BlZWRzIDIwMjUtMDctMTYiLCAidXJsIjogImh0dHBzOi8vc3RvcmFnZS5nb29nbGVhcGlzLmNvbS9jYWxpdHAtbWFwLXRpbGVzL3NpZ25hbHNfdjEyXzMxL3Rlc3QyLmdlb2pzb24uZ3oiLCAicHJvcGVydGllcyI6IHsic3Ryb2tlZCI6IGZhbHNlLCAiaGlnaGxpZ2h0X3NhdHVyYXRpb25fbXVsdGlwbGllciI6IDAuNX19XSwgImxhdF9sb24iOiBbMzQuMDQ4MTA4LCAtMTE4LjQxODMyNTJdLCAiem9vbSI6IDEzLCAibGVnZW5kX3VybCI6ICJodHRwczovL3N0b3JhZ2UuZ29vZ2xlYXBpcy5jb20vY2FsaXRwLW1hcC10aWxlcy9zcGVlZHNfbGVnZW5kLnN2ZyJ9'}"
      ]
     },
     "execution_count": 11,
     "metadata": {},
     "output_type": "execute_result"
    }
   ],
   "source": [
    "# Create webmap\n",
    "SIGNAL_LEGEND_URL= \"https://storage.googleapis.com/calitp-map-tiles/signal_legend.svg\"\n",
    "signal_colorscale = branca.colormap.step.Purples_05.scale(\n",
    "    vmin=0, vmax=sjoined_signals_segments[\"trips_hr_sch\"].max()\n",
    ")\n",
    "signal_folder = \"signals_v12_31/\"\n",
    "# Study corridors\n",
    "study_corridor_map = webmap_utils.set_state_export(\n",
    "    study_corridors,\n",
    "    subfolder=signal_folder,\n",
    "    filename=\"study_corridors\",\n",
    "    cmap=study_corridor_colormap,\n",
    "    color_col=\"bus_lane\",\n",
    "    map_title=\"Study Corridors\",\n",
    ")\n",
    "# Speeds\n",
    "speedmap = webmap_utils.set_state_export(\n",
    "    arrowized_gdf[arrowized_segments_display_columns],\n",
    "    subfolder=signal_folder,\n",
    "    filename=\"speeds\",\n",
    "    cmap=rt_utils.ACCESS_ZERO_THIRTY_COLORSCALE,\n",
    "    color_col=\"p20_mph\",\n",
    "    cache_seconds=1,\n",
    "    map_type=\"new_speedmap\",\n",
    "    legend_url=rt_utils.SPEEDMAP_LEGEND_URL,\n",
    "    map_title=\"Speeds\",\n",
    "    existing_state=study_corridor_map[\"state_dict\"],\n",
    ")\n",
    "# Signals\n",
    "signal_speedmap = webmap_utils.set_state_export(\n",
    "    buffered_signals[signals_with_transit_display_columns],\n",
    "    subfolder=signal_folder,\n",
    "    cmap=signal_colorscale,\n",
    "    color_col=\"Trips/Hour\",\n",
    "    existing_state=speedmap[\"state_dict\"],\n",
    "    map_title=f\"Signals with Approach Speeds {TARGET_DATE}\",\n",
    "    # legend_url=SIGNAL_LEGEND_URL,\n",
    "    manual_centroid=[34.048108, -118.4183252],\n",
    ")\n",
    "signal_speedmap"
   ]
  },
  {
   "cell_type": "code",
   "execution_count": 12,
   "id": "3ca2382b-a453-428e-9da8-115380666a4f",
   "metadata": {},
   "outputs": [],
   "source": [
    "# Get signal-route grain data\n",
    "signal_route_group = signals_segments_removed_duplicates.groupby(\n",
    "    [\"objectid\", \"route_short_name\", \"organization_name\", \"direction_id\"]\n",
    ")\n",
    "\n",
    "signals_routes_frequency = signal_route_group[\"trips_hr_sch\"].sum()\n",
    "merged_signals_routes_frequency = signals_routes_frequency.reset_index().merge(\n",
    "    signals_with_transit[\n",
    "        [\n",
    "            \"tms_unit_type\",\n",
    "            \"asset_sub_type\",\n",
    "            \"location\",\n",
    "            \"tms_id\",\n",
    "            \"imms_id\",\n",
    "            \"delegation_type\",\n",
    "            \"leased_owned\",\n",
    "            \"comment\",\n",
    "            \"geometry\",\n",
    "        ]\n",
    "    ],\n",
    "    how=\"left\",\n",
    "    left_on=\"objectid\",\n",
    "    right_index=True,\n",
    "    validate=\"many_to_one\",\n",
    ")\n",
    "merged_geometry = gpd.GeoSeries(\n",
    "    merged_signals_routes_frequency[\"geometry\"]\n",
    ").to_crs(geography_utils.WGS84)\n",
    "merged_signals_routes_frequency[\"latitude\"] = merged_geometry.y.round(5)\n",
    "merged_signals_routes_frequency[\"longitude\"] = merged_geometry.x.round(5)\n",
    "merged_signals_routes_frequency.drop(\"geometry\", axis=1).to_csv(\n",
    "    \"signals_routes.csv\", index=False\n",
    ")"
   ]
  },
  {
   "cell_type": "code",
   "execution_count": 13,
   "id": "b47f4bdf-48d5-4c97-907a-79ef986a1217",
   "metadata": {
    "tags": []
   },
   "outputs": [
    {
     "data": {
      "text/plain": [
       "0    10.667\n",
       "1     8.667\n",
       "2    12.667\n",
       "3    11.667\n",
       "4    11.667\n",
       "Name: Trips/Hour, dtype: float64"
      ]
     },
     "execution_count": 13,
     "metadata": {},
     "output_type": "execute_result"
    }
   ],
   "source": [
    "buffered_signals.head()[\"Trips/Hour\"]"
   ]
  },
  {
   "cell_type": "code",
   "execution_count": 14,
   "id": "4642c5ac-a829-4be3-8afa-e0e0a007c3f9",
   "metadata": {
    "tags": []
   },
   "outputs": [],
   "source": [
    "# Save signal-grain data to a csv\n",
    "signals_with_transit[\"latitude\"] = signals_with_transit.geometry.y.round(5)\n",
    "signals_with_transit[\"longitude\"] = signals_with_transit.geometry.x.round(5)\n",
    "signals_with_transit.rename(columns={\"trips_hr_sch\": \"Trips/Hour\"})[\n",
    "    [*signals_with_transit_display_columns, \"latitude\", \"longitude\", \"comment\"]\n",
    "].drop(signals_with_transit.geometry.name, axis=1).to_csv(\"signals_aggregated.csv\")"
   ]
  },
  {
   "cell_type": "code",
   "execution_count": 15,
   "id": "ff49baf2-6875-4b44-b50a-75c2e289047b",
   "metadata": {
    "tags": []
   },
   "outputs": [
    {
     "data": {
      "text/plain": [
       "objectid\n",
       "11083    33.75381\n",
       "13559    33.75611\n",
       "11084    33.75812\n",
       "11085    33.76049\n",
       "11086    33.76733\n",
       "           ...   \n",
       "11903    34.56537\n",
       "11902    34.57279\n",
       "11901    34.57573\n",
       "11899    34.58013\n",
       "11900    34.58019\n",
       "Name: latitude, Length: 1281, dtype: float64"
      ]
     },
     "execution_count": 15,
     "metadata": {},
     "output_type": "execute_result"
    }
   ],
   "source": [
    "signals_with_transit[\"latitude\"]"
   ]
  },
  {
   "cell_type": "code",
   "execution_count": null,
   "id": "1a251021-2216-4bda-b7ef-2f751bc7cd47",
   "metadata": {},
   "outputs": [],
   "source": []
  }
 ],
 "metadata": {
  "kernelspec": {
   "display_name": "Python 3 (ipykernel)",
   "language": "python",
   "name": "python3"
  },
  "language_info": {
   "codemirror_mode": {
    "name": "ipython",
    "version": 3
   },
   "file_extension": ".py",
   "mimetype": "text/x-python",
   "name": "python",
   "nbconvert_exporter": "python",
   "pygments_lexer": "ipython3",
   "version": "3.11.10"
  },
  "toc-showtags": false
 },
 "nbformat": 4,
 "nbformat_minor": 5
}
