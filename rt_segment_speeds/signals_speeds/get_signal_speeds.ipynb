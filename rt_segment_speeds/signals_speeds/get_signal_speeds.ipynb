{
 "cells": [
  {
   "cell_type": "markdown",
   "id": "69e07184-92bc-4f84-ac1e-201064c2905d",
   "metadata": {},
   "source": [
    "#### Introduction\n",
    "\n",
    "This notebook creates maps and tables to determine the transit service at or near traffic signals. Currently, only signals on the State Highway Network (SHN) are shown.\n",
    "\n",
    "#### How to use\n",
    "On the calitp Jupyterhub, import `shared_utils` and authenticate to GCS.\n",
    "\n",
    "#### Technical details\n",
    "- Signal data is sourced from HQ Traffic Ops GIS, downloaded on 2025-09-08.\n",
    "Segment data is calculated based on GTFS data collected by DDS for the selected targed date\n",
    "- Routes are associated with a signal if they run within 155 meters of the signal. \n",
    "- Speeds and frequencies are defined based on data in the morning peak (7a-10a). Displayed speeds are the 20th percentile speeds.\n",
    "- Network lines are based on data provided by Rebel. They are manually drawn, and do not strictly represent transit routes.\n",
    "- Detailed speeds methodology is available at https://analysis.dds.dot.ca.gov/rt/README.html\n",
    "\n",
    "#### Outputs\n",
    "- Signal Map\n",
    "  - Segments\n",
    "    - 20th percentile speeds\n",
    "    - Average frequencies\n",
    "  - Signals\n",
    "    - Unit Type\n",
    "    - Aggregated data from 155 m to the signal\n",
    "    - Route names (from `route_short_name`)\n",
    "    - Organization names (from `organization_name`)\n",
    "    - Total trips per hour, in both directions\n",
    "    - IMMS ID\n",
    "    - TMS ID\n",
    "    - Delegation Type (describes whether a signal is owned/operated/maintaned by Caltrans or a local gov)\n",
    "- Signal-Grain CSV\n",
    "  - `signals_aggregated.csv`\n",
    "    - Same data as in the interactive map\n",
    "    - Additionally, the ArcGIS objectid is present to serve as a unique identifier\n",
    "  - `signals_routes.csv`\n",
    "    - One row for each route in each direction within 155 meters of each signal\n",
    "    - Objectid\n",
    "    - Route name\n",
    "    - Organization name\n",
    "    - Trips per hour in the chosen direction\n",
    "    - TMS id\n",
    "    - IMMS id\n",
    "    - Delegation Type\n",
    "    - Leased / Owned (whether the equipment is leased or owned by Caltrans)\n",
    "    - Traffic Ops Comments\n",
    "    \n",
    "    \n",
    "    "
   ]
  },
  {
   "cell_type": "code",
   "execution_count": 1,
   "id": "62c41603-33eb-4a87-9b40-200e1b81d4a1",
   "metadata": {
    "tags": []
   },
   "outputs": [],
   "source": [
    "import branca\n",
    "import geopandas as gpd\n",
    "import pandas as pd\n",
    "from calitp_data_analysis import gcs_geopandas, geography_utils\n",
    "from shared_utils import catalog_utils, rt_dates, rt_utils, webmap_utils\n",
    "from signal_tools import (\n",
    "    add_transit_metrics_to_signals,\n",
    "    filter_points_along_corridor,\n",
    "    ready_signals_for_display,\n",
    "    ready_speedmap_segments_for_display,\n",
    "    sjoin_signals,\n",
    ")\n",
    "from uris import (\n",
    "    CALTRANS_INTERNAL_SIGNAL_URI,\n",
    "    LOS_ANGELES_OPEN_SIGNAL_URI,\n",
    "    SANTA_MONICA_OPEN_SIGNAL_URI,\n",
    ")"
   ]
  },
  {
   "cell_type": "code",
   "execution_count": 2,
   "id": "892ffbd9-d0bf-45f8-8edc-ed353a1d0251",
   "metadata": {
    "tags": []
   },
   "outputs": [],
   "source": [
    "# constants\n",
    "TARGET_DATE = rt_dates.DATES[\"jul2025\"]\n",
    "TARGET_TIME_OF_DAY = \"AM Peak\"\n",
    "ANALYSIS_DISTRICT_NUMBER = 7\n",
    "TARGET_TIME_OF_DAY_LENGTH_HOURS = (\n",
    "    3  # the length of the target time of day (3 hours for am peak)\n",
    ")\n",
    "SJOIN_DISTANCE_METERS = 155\n",
    "STUDY_CORRIDOR_BUFFER_DISTANCE = 200\n",
    "SIGNAL_OWNER_NAME = \"signal_owner\"\n",
    "\n",
    "STATE_OF_CALIFORNIA_LABEL = \"State of California\"\n",
    "CITY_OF_LOS_ANGELES_LABEL = \"City of Los Angeles\"\n",
    "CITY_OF_SANTA_MONICA_LABEL = \"City of Santa Monica\""
   ]
  },
  {
   "cell_type": "code",
   "execution_count": 3,
   "id": "e71d4835-b379-40d5-8eee-5d109dd53c2d",
   "metadata": {
    "tags": []
   },
   "outputs": [],
   "source": [
    "g = gcs_geopandas.GCSGeoPandas()"
   ]
  },
  {
   "cell_type": "markdown",
   "id": "4a32a5f4-8b62-4bff-bd42-eb24c47f18cc",
   "metadata": {},
   "source": [
    "### Get analysis corridors"
   ]
  },
  {
   "cell_type": "code",
   "execution_count": 4,
   "id": "d4a12ac9-2700-465a-a640-6593edfa02c1",
   "metadata": {
    "tags": []
   },
   "outputs": [],
   "source": [
    "study_corridors = gpd.read_file(\"study_corridors_lines.geojson\")\n",
    "study_corridors_albers = study_corridors.to_crs(geography_utils.CA_NAD83Albers_m)\n",
    "study_corridors_buffered_wgs84 = study_corridors_albers.buffer(\n",
    "    STUDY_CORRIDOR_BUFFER_DISTANCE\n",
    ").to_crs(geography_utils.WGS84)"
   ]
  },
  {
   "cell_type": "markdown",
   "id": "e3b89c07-0854-478c-8239-b8714647a180",
   "metadata": {},
   "source": [
    "### Get Signal Data"
   ]
  },
  {
   "cell_type": "code",
   "execution_count": 5,
   "id": "e97cca81-bce1-4197-8d73-3f1d09ddbf9e",
   "metadata": {},
   "outputs": [],
   "source": [
    "# Get signal data from Caltrans Traffic Ops Data\n",
    "caltrans_signals = (\n",
    "    g.read_file(\n",
    "        CALTRANS_INTERNAL_SIGNAL_URI,\n",
    "    )\n",
    "    .rename(columns=lambda s: s.lower())\n",
    "    .clip(study_corridors_buffered_wgs84)\n",
    "    # .clip(analysis_district)\n",
    ")  # we want columns to be all lower case\n",
    "# Filter out devices that aren't actually caltrans_signals\n",
    "caltrans_signals_filtered = caltrans_signals.loc[\n",
    "    caltrans_signals[\"tms_unit_type\"] == \"Traffic Signals\"\n",
    "].set_index(\"objectid\")\n",
    "caltrans_signals_filtered[SIGNAL_OWNER_NAME] = STATE_OF_CALIFORNIA_LABEL"
   ]
  },
  {
   "cell_type": "code",
   "execution_count": 6,
   "id": "4cd13178",
   "metadata": {},
   "outputs": [],
   "source": [
    "# Get signal data from LADOT Open Data\n",
    "ladot_signals = (\n",
    "    g.read_file(LOS_ANGELES_OPEN_SIGNAL_URI)\n",
    "    .to_crs(geography_utils.WGS84)\n",
    "    .clip(study_corridors_buffered_wgs84)\n",
    ")\n",
    "ladot_signals_filtered = ladot_signals.loc[\n",
    "    ladot_signals[\"ST3\"] != \"(SMART XWALK)\"\n",
    "].copy()\n",
    "ladot_signals_filtered[SIGNAL_OWNER_NAME] = CITY_OF_LOS_ANGELES_LABEL\n",
    "\n",
    "# Filter LADOT signals to avoid double counting signals with Caltrans signals\n",
    "caltrans_signals_buffered = caltrans_signals_filtered.set_geometry(\n",
    "    caltrans_signals_filtered.to_crs(geography_utils.CA_NAD83Albers_m)\n",
    "    .buffer(\n",
    "        100\n",
    "    )  # TODO: Not sure if there's a good value for this buffer, might need to do manual work here\n",
    "    .to_crs(geography_utils.WGS84)\n",
    ")\n",
    "ladot_signals_distinct_from_caltrans = ladot_signals_filtered.overlay(\n",
    "    caltrans_signals_buffered, how=\"difference\"\n",
    ")"
   ]
  },
  {
   "cell_type": "code",
   "execution_count": 7,
   "id": "a3b3c894-c6cf-40a9-bef3-fe8cd9f81323",
   "metadata": {},
   "outputs": [],
   "source": [
    "# Get signal data from Santa Monica Open Data\n",
    "santa_monica_signals = g.read_file(SANTA_MONICA_OPEN_SIGNAL_URI).clip(\n",
    "    study_corridors_buffered_wgs84\n",
    ")\n",
    "santa_monica_signals_albers = santa_monica_signals.to_crs(\n",
    "    geography_utils.CA_NAD83Albers_m\n",
    ").reset_index(drop=True)\n",
    "santa_monica_signals_filtered = santa_monica_signals_albers.loc[santa_monica_signals_albers[\"circuit_nu\"] != -9]\n",
    "santa_monica_signals_clustered_by_circuit = santa_monica_signals_filtered.dissolve(\n",
    "    \"circuit_nu\"\n",
    ")\n",
    "santa_monica_signals_duplicates_removed = (\n",
    "    santa_monica_signals_clustered_by_circuit[\n",
    "        [santa_monica_signals_filtered.geometry.name]\n",
    "    ]\n",
    "    .set_geometry(santa_monica_signals_clustered_by_circuit.geometry.centroid)\n",
    "    .reset_index()\n",
    ")\n",
    "santa_monica_signals_duplicates_removed[SIGNAL_OWNER_NAME] = CITY_OF_SANTA_MONICA_LABEL"
   ]
  },
  {
   "cell_type": "markdown",
   "id": "b0da648d",
   "metadata": {},
   "source": [
    "### Get Speedmaps"
   ]
  },
  {
   "cell_type": "code",
   "execution_count": 8,
   "id": "37ca5745-517a-4fdb-97f1-ccbaf5101139",
   "metadata": {},
   "outputs": [],
   "source": [
    "# read geo files\n",
    "shared_data_catalog = catalog_utils.get_catalog(\"shared_data_catalog\")\n",
    "gtfs_data_constants = catalog_utils.get_catalog(\"gtfs_analytics_data\")\n",
    "\n",
    "# Get district polygons to mask\n",
    "districts = shared_data_catalog.caltrans_districts.read()\n",
    "analysis_district = districts.loc[districts[\"DISTRICT\"] == ANALYSIS_DISTRICT_NUMBER]"
   ]
  },
  {
   "cell_type": "code",
   "execution_count": 9,
   "id": "1b28b291",
   "metadata": {},
   "outputs": [],
   "source": [
    "# Get speedmap data\n",
    "speedmap_segments = g.read_parquet(\n",
    "    f\"{gtfs_data_constants.speedmap_segments.dir}{gtfs_data_constants.speedmap_segments.segment_timeofday}_{TARGET_DATE}.parquet\",\n",
    "    filters=[\n",
    "        (\"time_of_day\", \"=\", TARGET_TIME_OF_DAY)\n",
    "    ],  # Filter for only a selected time of day\n",
    ").clip(analysis_district)"
   ]
  },
  {
   "cell_type": "markdown",
   "id": "c0a4399c",
   "metadata": {},
   "source": [
    "### Merge signal and speedmap info"
   ]
  },
  {
   "cell_type": "code",
   "execution_count": 10,
   "id": "74388f24-aab5-404a-98c0-9e9361358703",
   "metadata": {
    "tags": []
   },
   "outputs": [],
   "source": [
    "caltrans_sjoined_signals_segments = sjoin_signals(\n",
    "    signals_gdf=caltrans_signals_filtered.reset_index(),\n",
    "    segments_lines_gdf=speedmap_segments,\n",
    "    # keep_columns_signals=[\"objectid\", \"imms_id\"],\n",
    "    # keep_columns_segments=[\"shape_id\", \"segment_id\", \"organization_name\", \"route_id\"],\n",
    "    unique_identifier_signals=\"objectid\",\n",
    "    signals_buffer_distance=SJOIN_DISTANCE_METERS,\n",
    ")\n",
    "caltrans_signals_with_transit_metrics = add_transit_metrics_to_signals(\n",
    "    signals_gdf=caltrans_signals_filtered.reset_index(),\n",
    "    sjoined_signals_segments=caltrans_sjoined_signals_segments,\n",
    "    unique_identifier_signals=\"objectid\",\n",
    ")\n",
    "\n",
    "ladot_sjoined_signals_segments = sjoin_signals(\n",
    "    signals_gdf=ladot_signals_distinct_from_caltrans,\n",
    "    segments_lines_gdf=speedmap_segments,\n",
    "    unique_identifier_signals=\"ID\",\n",
    "    signals_buffer_distance=SJOIN_DISTANCE_METERS,\n",
    ")\n",
    "ladot_signals_with_transit_metrics = add_transit_metrics_to_signals(\n",
    "    signals_gdf=ladot_signals_distinct_from_caltrans,\n",
    "    sjoined_signals_segments=ladot_sjoined_signals_segments,\n",
    "    unique_identifier_signals=\"ID\",\n",
    ")\n",
    "\n",
    "santa_monica_sjoined_signals_segments = sjoin_signals(\n",
    "    signals_gdf=santa_monica_signals_duplicates_removed,\n",
    "    segments_lines_gdf=speedmap_segments,\n",
    "    unique_identifier_signals=\"circuit_nu\",\n",
    "    signals_buffer_distance=SJOIN_DISTANCE_METERS,\n",
    ")\n",
    "santa_monica_signals_with_transit_metrics = add_transit_metrics_to_signals(\n",
    "    signals_gdf=santa_monica_signals_duplicates_removed,\n",
    "    sjoined_signals_segments=santa_monica_sjoined_signals_segments,\n",
    "    unique_identifier_signals=\"circuit_nu\",\n",
    ")"
   ]
  },
  {
   "cell_type": "markdown",
   "id": "3f9c5840-359e-4444-830a-321c90b1f6f2",
   "metadata": {},
   "source": [
    "### Concatenate segments"
   ]
  },
  {
   "cell_type": "code",
   "execution_count": 11,
   "id": "239f73d5-ddf9-460d-94a1-6c6ddae97046",
   "metadata": {
    "tags": []
   },
   "outputs": [],
   "source": [
    "# Define columns to include\n",
    "arrowized_segments_display_columns = [\n",
    "    \"trips_hr_sch\",\n",
    "    \"p50_mph\",\n",
    "    \"p20_mph\",\n",
    "    \"p80_mph\",\n",
    "    \"route_short_name\",\n",
    "    \"stop_pair_name\",\n",
    "    \"segment_id\",\n",
    "    \"route_id\",\n",
    "    \"shape_id\",\n",
    "]\n",
    "speedmaps_signals_together = gpd.GeoDataFrame(\n",
    "    pd.concat(\n",
    "        [\n",
    "            caltrans_sjoined_signals_segments,\n",
    "            ladot_sjoined_signals_segments,\n",
    "            santa_monica_sjoined_signals_segments,\n",
    "        ],\n",
    "    ).drop_duplicates(subset=arrowized_segments_display_columns)\n",
    ")"
   ]
  },
  {
   "cell_type": "markdown",
   "id": "8d45fc12",
   "metadata": {},
   "source": [
    "### Get GDFs formatted for display on the webmap"
   ]
  },
  {
   "cell_type": "code",
   "execution_count": 12,
   "id": "efea03d0-23cb-4dce-83ef-61746acf3480",
   "metadata": {
    "tags": []
   },
   "outputs": [],
   "source": [
    "transit_info_columns = [\n",
    "    \"route_names_aggregated\",\n",
    "    \"organization_names_aggregated\",\n",
    "    \"Trips/Hour\",\n",
    "    \"signal_owner\",\n",
    "    \"color_key\"\n",
    "]\n",
    "caltrans_signals_with_transit_display_columns = [\n",
    "    \"tms_unit_type\",\n",
    "    *transit_info_columns,\n",
    "    # \"asset_sub_type\",\n",
    "    \"tms_id\",\n",
    "    \"imms_id\",\n",
    "    \"delegation_type\",\n",
    "    # \"leased_owned\",\n",
    "    # \"comment\",\n",
    "    caltrans_signals_with_transit_metrics.geometry.name,\n",
    "]\n",
    "ladot_signals_with_transit_display_columns = [\n",
    "    \"ID\",\n",
    "    *transit_info_columns,\n",
    "    ladot_signals_with_transit_metrics.geometry.name,\n",
    "]\n",
    "santa_monica_signals_with_transit_display_columns = [\n",
    "    \"circuit_nu\",\n",
    "    *transit_info_columns,\n",
    "    santa_monica_signals_with_transit_metrics.geometry.name,\n",
    "]"
   ]
  },
  {
   "cell_type": "code",
   "execution_count": 13,
   "id": "9c759c77-3ee2-434b-b9f1-db0fa2adcc19",
   "metadata": {
    "tags": []
   },
   "outputs": [],
   "source": [
    "# Segment GDF\n",
    "arrowized_gdf = ready_speedmap_segments_for_display(speedmaps_signals_together)\n",
    "# Signal GDF\n",
    "ownership_map = {\n",
    "    STATE_OF_CALIFORNIA_LABEL: 0,\n",
    "    CITY_OF_LOS_ANGELES_LABEL: 1,\n",
    "    CITY_OF_SANTA_MONICA_LABEL: 2\n",
    "}\n",
    "signal_size = 50\n",
    "caltrans_buffered_signals = ready_signals_for_display(\n",
    "    caltrans_signals_with_transit_metrics, buffer_distance=signal_size, ownership_map=ownership_map\n",
    ")\n",
    "ladot_buffered_signals = ready_signals_for_display(\n",
    "    ladot_signals_with_transit_metrics, buffer_distance=signal_size, ownership_map=ownership_map\n",
    ")\n",
    "santa_monica_buffered_signals = ready_signals_for_display(\n",
    "    santa_monica_signals_with_transit_metrics, buffer_distance=signal_size, ownership_map=ownership_map\n",
    ")"
   ]
  },
  {
   "cell_type": "code",
   "execution_count": 14,
   "id": "feafd4ab-e70c-46f8-b5fc-fa0b6f24bee3",
   "metadata": {
    "tags": []
   },
   "outputs": [],
   "source": [
    "# Get study corridors to add onto the map\n",
    "study_corridors_for_display = study_corridors_albers.set_geometry(\n",
    "    study_corridors_albers.buffer(100, cap_style=\"flat\")\n",
    ")\n",
    "study_corridors_for_display[\"bus_lane\"] = study_corridors[\"bus_lane\"].fillna(0)\n",
    "# Get colormap based on whether the analysis segment is a bus lane\n",
    "DDS_GREY = \"#d9d9d6\"\n",
    "DDS_BLUE = \"#b1e4e3\"\n",
    "study_corridor_colormap = branca.colormap.StepColormap(\n",
    "    colors=[DDS_GREY, DDS_BLUE], index=[0, 1]\n",
    ")"
   ]
  },
  {
   "cell_type": "code",
   "execution_count": 15,
   "id": "904e4cbc-a4c0-432a-9a78-e3dbd02b224a",
   "metadata": {},
   "outputs": [],
   "source": [
    "# Signals colormap\n",
    "DDS_MIDDLE_PURPLE = \"#7474c1\"\n",
    "DDS_MIDDLE_ORANGE = \"#ff8200\"\n",
    "DDS_MIDDLE_BLUE = \"#00a3e0\"\n",
    "signal_colorscale = branca.colormap.StepColormap(\n",
    "    colors=[DDS_MIDDLE_PURPLE, DDS_MIDDLE_ORANGE, DDS_MIDDLE_BLUE],\n",
    "    vmin=0, vmax=2\n",
    ")"
   ]
  },
  {
   "cell_type": "code",
   "execution_count": 16,
   "id": "2e1f0e96-99d2-4225-91b6-ce259e013e07",
   "metadata": {
    "tags": []
   },
   "outputs": [
    {
     "data": {
      "text/plain": [
       "'#00a3e0ff'"
      ]
     },
     "execution_count": 16,
     "metadata": {},
     "output_type": "execute_result"
    }
   ],
   "source": [
    "signal_colorscale(2)"
   ]
  },
  {
   "cell_type": "markdown",
   "id": "2a12aedd",
   "metadata": {},
   "source": [
    "### Create webmap"
   ]
  },
  {
   "cell_type": "code",
   "execution_count": 17,
   "id": "d3684c8b-b5af-4b89-a953-e21a26f9fdc3",
   "metadata": {
    "tags": []
   },
   "outputs": [
    {
     "name": "stderr",
     "output_type": "stream",
     "text": [
      "/home/jovyan/data-analyses/_shared_utils/shared_utils/webmap_utils.py:118: UserWarning: Geometry is in a geographic CRS. Results from 'centroid' are likely incorrect. Use 'GeoSeries.to_crs()' to re-project geometries to a projected CRS before this operation.\n",
      "\n",
      "  centroid = (gdf.geometry.centroid.y.mean(), gdf.geometry.centroid.x.mean())\n",
      "/home/jovyan/data-analyses/_shared_utils/shared_utils/webmap_utils.py:118: UserWarning: Geometry is in a geographic CRS. Results from 'centroid' are likely incorrect. Use 'GeoSeries.to_crs()' to re-project geometries to a projected CRS before this operation.\n",
      "\n",
      "  centroid = (gdf.geometry.centroid.y.mean(), gdf.geometry.centroid.x.mean())\n",
      "/home/jovyan/data-analyses/_shared_utils/shared_utils/webmap_utils.py:118: UserWarning: Geometry is in a geographic CRS. Results from 'centroid' are likely incorrect. Use 'GeoSeries.to_crs()' to re-project geometries to a projected CRS before this operation.\n",
      "\n",
      "  centroid = (gdf.geometry.centroid.y.mean(), gdf.geometry.centroid.x.mean())\n",
      "/home/jovyan/data-analyses/_shared_utils/shared_utils/webmap_utils.py:118: UserWarning: Geometry is in a geographic CRS. Results from 'centroid' are likely incorrect. Use 'GeoSeries.to_crs()' to re-project geometries to a projected CRS before this operation.\n",
      "\n",
      "  centroid = (gdf.geometry.centroid.y.mean(), gdf.geometry.centroid.x.mean())\n"
     ]
    },
    {
     "data": {
      "text/plain": [
       "{'state_dict': {'name': 'null',\n",
       "  'layers': [{'name': 'Study Corridors',\n",
       "    'url': 'https://storage.googleapis.com/calitp-map-tiles/signals_v12_46/study_corridors.geojson.gz',\n",
       "    'properties': {'stroked': False, 'highlight_saturation_multiplier': 0.5}},\n",
       "   {'name': 'Speeds',\n",
       "    'url': 'https://storage.googleapis.com/calitp-map-tiles/signals_v12_46/speeds.geojson.gz',\n",
       "    'properties': {'stroked': False,\n",
       "     'highlight_saturation_multiplier': 0.5,\n",
       "     'tooltip_speed_key': 'p20_mph'},\n",
       "    'type': 'new_speedmap'},\n",
       "   {'name': 'ct_signals',\n",
       "    'url': 'https://storage.googleapis.com/calitp-map-tiles/signals_v12_46/ct_signals.geojson.gz',\n",
       "    'properties': {'stroked': False, 'highlight_saturation_multiplier': 0.5}},\n",
       "   {'name': 'ladot_signals',\n",
       "    'url': 'https://storage.googleapis.com/calitp-map-tiles/signals_v12_46/ladot_signals.geojson.gz',\n",
       "    'properties': {'stroked': False, 'highlight_saturation_multiplier': 0.5}},\n",
       "   {'name': 'Signals with Approach Speeds 2025-07-16',\n",
       "    'url': 'https://storage.googleapis.com/calitp-map-tiles/signals_v12_46/santa_monica_signals.geojson.gz',\n",
       "    'properties': {'stroked': False, 'highlight_saturation_multiplier': 0.5}}],\n",
       "  'lat_lon': [34.048108, -118.4183252],\n",
       "  'zoom': 13},\n",
       " 'spa_link': 'https://embeddable-maps.calitp.org/?state=eyJuYW1lIjogIm51bGwiLCAibGF5ZXJzIjogW3sibmFtZSI6ICJTdHVkeSBDb3JyaWRvcnMiLCAidXJsIjogImh0dHBzOi8vc3RvcmFnZS5nb29nbGVhcGlzLmNvbS9jYWxpdHAtbWFwLXRpbGVzL3NpZ25hbHNfdjEyXzQ2L3N0dWR5X2NvcnJpZG9ycy5nZW9qc29uLmd6IiwgInByb3BlcnRpZXMiOiB7InN0cm9rZWQiOiBmYWxzZSwgImhpZ2hsaWdodF9zYXR1cmF0aW9uX211bHRpcGxpZXIiOiAwLjV9fSwgeyJuYW1lIjogIlNwZWVkcyIsICJ1cmwiOiAiaHR0cHM6Ly9zdG9yYWdlLmdvb2dsZWFwaXMuY29tL2NhbGl0cC1tYXAtdGlsZXMvc2lnbmFsc192MTJfNDYvc3BlZWRzLmdlb2pzb24uZ3oiLCAicHJvcGVydGllcyI6IHsic3Ryb2tlZCI6IGZhbHNlLCAiaGlnaGxpZ2h0X3NhdHVyYXRpb25fbXVsdGlwbGllciI6IDAuNSwgInRvb2x0aXBfc3BlZWRfa2V5IjogInAyMF9tcGgifSwgInR5cGUiOiAibmV3X3NwZWVkbWFwIn0sIHsibmFtZSI6ICJjdF9zaWduYWxzIiwgInVybCI6ICJodHRwczovL3N0b3JhZ2UuZ29vZ2xlYXBpcy5jb20vY2FsaXRwLW1hcC10aWxlcy9zaWduYWxzX3YxMl80Ni9jdF9zaWduYWxzLmdlb2pzb24uZ3oiLCAicHJvcGVydGllcyI6IHsic3Ryb2tlZCI6IGZhbHNlLCAiaGlnaGxpZ2h0X3NhdHVyYXRpb25fbXVsdGlwbGllciI6IDAuNX19LCB7Im5hbWUiOiAibGFkb3Rfc2lnbmFscyIsICJ1cmwiOiAiaHR0cHM6Ly9zdG9yYWdlLmdvb2dsZWFwaXMuY29tL2NhbGl0cC1tYXAtdGlsZXMvc2lnbmFsc192MTJfNDYvbGFkb3Rfc2lnbmFscy5nZW9qc29uLmd6IiwgInByb3BlcnRpZXMiOiB7InN0cm9rZWQiOiBmYWxzZSwgImhpZ2hsaWdodF9zYXR1cmF0aW9uX211bHRpcGxpZXIiOiAwLjV9fSwgeyJuYW1lIjogIlNpZ25hbHMgd2l0aCBBcHByb2FjaCBTcGVlZHMgMjAyNS0wNy0xNiIsICJ1cmwiOiAiaHR0cHM6Ly9zdG9yYWdlLmdvb2dsZWFwaXMuY29tL2NhbGl0cC1tYXAtdGlsZXMvc2lnbmFsc192MTJfNDYvc2FudGFfbW9uaWNhX3NpZ25hbHMuZ2VvanNvbi5neiIsICJwcm9wZXJ0aWVzIjogeyJzdHJva2VkIjogZmFsc2UsICJoaWdobGlnaHRfc2F0dXJhdGlvbl9tdWx0aXBsaWVyIjogMC41fX1dLCAibGF0X2xvbiI6IFszNC4wNDgxMDgsIC0xMTguNDE4MzI1Ml0sICJ6b29tIjogMTN9'}"
      ]
     },
     "execution_count": 17,
     "metadata": {},
     "output_type": "execute_result"
    }
   ],
   "source": [
    "SIGNAL_LEGEND_URL = \"https://storage.googleapis.com/calitp-map-tiles/signal_legend.svg\"\n",
    "signal_folder = \"signals_v12_46/\"\n",
    "\n",
    "# Study corridors\n",
    "study_corridor_map = webmap_utils.set_state_export(\n",
    "    study_corridors_for_display,\n",
    "    subfolder=signal_folder,\n",
    "    filename=\"study_corridors\",\n",
    "    cmap=study_corridor_colormap,\n",
    "    color_col=\"bus_lane\",\n",
    "    map_title=\"Study Corridors\",\n",
    ")\n",
    "\n",
    "# Speeds\n",
    "speedmap = webmap_utils.set_state_export(\n",
    "    arrowized_gdf[[*arrowized_segments_display_columns, arrowized_gdf.geometry.name]],\n",
    "    subfolder=signal_folder,\n",
    "    filename=\"speeds\",\n",
    "    cmap=rt_utils.ACCESS_ZERO_THIRTY_COLORSCALE,\n",
    "    color_col=\"p20_mph\",\n",
    "    cache_seconds=1,\n",
    "    map_type=\"new_speedmap\",\n",
    "    # legend_url=rt_utils.SPEEDMAP_LEGEND_URL,\n",
    "    map_title=\"Speeds\",\n",
    "    existing_state=study_corridor_map[\"state_dict\"],\n",
    ")\n",
    "\n",
    "# Signals\n",
    "# Caltrans\n",
    "caltrans_signal_speedmap = webmap_utils.set_state_export(\n",
    "    caltrans_buffered_signals[caltrans_signals_with_transit_display_columns],\n",
    "    subfolder=signal_folder,\n",
    "    cmap=signal_colorscale,\n",
    "    color_col=\"color_key\",\n",
    "    existing_state=speedmap[\"state_dict\"],\n",
    "    map_title=\"ct_signals\",\n",
    "    filename=\"ct_signals\"\n",
    "    # legend_url=SIGNAL_LEGEND_URL,\n",
    "    # manual_centroid=[34.048108, -118.4183252],\n",
    ")\n",
    "ladot_signal_speedmap = webmap_utils.set_state_export(\n",
    "    ladot_buffered_signals[ladot_signals_with_transit_display_columns],\n",
    "    subfolder=signal_folder,\n",
    "    cmap=signal_colorscale,\n",
    "    color_col=\"color_key\",\n",
    "    existing_state=caltrans_signal_speedmap[\"state_dict\"],\n",
    "    map_title=\"ladot_signals\",\n",
    "    filename=\"ladot_signals\"\n",
    "    # legend_url=SIGNAL_LEGEND_URL,\n",
    "    # manual_centroid=[34.048108, -118.4183252],\n",
    ")\n",
    "santa_monica_signal_speedmap = webmap_utils.set_state_export(\n",
    "    santa_monica_buffered_signals[santa_monica_signals_with_transit_display_columns],\n",
    "    subfolder=signal_folder,\n",
    "    cmap=signal_colorscale,\n",
    "    color_col=\"color_key\",\n",
    "    existing_state=ladot_signal_speedmap[\"state_dict\"],\n",
    "    map_title=f\"Signals with Approach Speeds {TARGET_DATE}\",\n",
    "    filename=\"santa_monica_signals\",\n",
    "    # legend_url=SIGNAL_LEGEND_URL,\n",
    "    manual_centroid=[34.048108, -118.4183252],\n",
    ")\n",
    "santa_monica_signal_speedmap"
   ]
  },
  {
   "cell_type": "code",
   "execution_count": 18,
   "id": "93682616-57b2-4ecb-b774-3898d109e1b1",
   "metadata": {
    "tags": []
   },
   "outputs": [
    {
     "data": {
      "text/plain": [
       "0      City of Los Angeles\n",
       "1      City of Los Angeles\n",
       "2      City of Los Angeles\n",
       "3      City of Los Angeles\n",
       "4      City of Los Angeles\n",
       "              ...         \n",
       "189    City of Los Angeles\n",
       "190    City of Los Angeles\n",
       "191    City of Los Angeles\n",
       "192    City of Los Angeles\n",
       "193    City of Los Angeles\n",
       "Name: signal_owner, Length: 194, dtype: object"
      ]
     },
     "execution_count": 18,
     "metadata": {},
     "output_type": "execute_result"
    }
   ],
   "source": [
    "ladot_buffered_signals[SIGNAL_OWNER_NAME]"
   ]
  },
  {
   "cell_type": "markdown",
   "id": "db0ac54c",
   "metadata": {},
   "source": [
    "### Get tabular data"
   ]
  },
  {
   "cell_type": "code",
   "execution_count": 21,
   "id": "3ca2382b-a453-428e-9da8-115380666a4f",
   "metadata": {},
   "outputs": [
    {
     "ename": "NameError",
     "evalue": "name 'signals_segments_removed_duplicates' is not defined",
     "output_type": "error",
     "traceback": [
      "\u001b[0;31m---------------------------------------------------------------------------\u001b[0m",
      "\u001b[0;31mNameError\u001b[0m                                 Traceback (most recent call last)",
      "Cell \u001b[0;32mIn[21], line 2\u001b[0m\n\u001b[1;32m      1\u001b[0m \u001b[38;5;66;03m# Get signal-route grain data\u001b[39;00m\n\u001b[0;32m----> 2\u001b[0m signal_route_group \u001b[38;5;241m=\u001b[39m \u001b[43msignals_segments_removed_duplicates\u001b[49m\u001b[38;5;241m.\u001b[39mgroupby(\n\u001b[1;32m      3\u001b[0m     [\u001b[38;5;124m\"\u001b[39m\u001b[38;5;124mobjectid\u001b[39m\u001b[38;5;124m\"\u001b[39m, \u001b[38;5;124m\"\u001b[39m\u001b[38;5;124mroute_short_name\u001b[39m\u001b[38;5;124m\"\u001b[39m, \u001b[38;5;124m\"\u001b[39m\u001b[38;5;124morganization_name\u001b[39m\u001b[38;5;124m\"\u001b[39m, \u001b[38;5;124m\"\u001b[39m\u001b[38;5;124mdirection_id\u001b[39m\u001b[38;5;124m\"\u001b[39m]\n\u001b[1;32m      4\u001b[0m )\n\u001b[1;32m      6\u001b[0m signals_routes_frequency \u001b[38;5;241m=\u001b[39m signal_route_group[\u001b[38;5;124m\"\u001b[39m\u001b[38;5;124mtrips_hr_sch\u001b[39m\u001b[38;5;124m\"\u001b[39m]\u001b[38;5;241m.\u001b[39msum()\n\u001b[1;32m      7\u001b[0m merged_signals_routes_frequency \u001b[38;5;241m=\u001b[39m signals_routes_frequency\u001b[38;5;241m.\u001b[39mreset_index()\u001b[38;5;241m.\u001b[39mmerge(\n\u001b[1;32m      8\u001b[0m     caltrans_signals_filtered[\n\u001b[1;32m      9\u001b[0m         [\n\u001b[0;32m   (...)\u001b[0m\n\u001b[1;32m     24\u001b[0m     validate\u001b[38;5;241m=\u001b[39m\u001b[38;5;124m\"\u001b[39m\u001b[38;5;124mmany_to_one\u001b[39m\u001b[38;5;124m\"\u001b[39m,\n\u001b[1;32m     25\u001b[0m )\n",
      "\u001b[0;31mNameError\u001b[0m: name 'signals_segments_removed_duplicates' is not defined"
     ]
    }
   ],
   "source": [
    "# Get signal-route grain data\n",
    "signal_route_group = signals_segments_removed_duplicates.groupby(\n",
    "    [\"objectid\", \"route_short_name\", \"organization_name\", \"direction_id\"]\n",
    ")\n",
    "\n",
    "signals_routes_frequency = signal_route_group[\"trips_hr_sch\"].sum()\n",
    "merged_signals_routes_frequency = signals_routes_frequency.reset_index().merge(\n",
    "    caltrans_signals_filtered[\n",
    "        [\n",
    "            \"tms_unit_type\",\n",
    "            \"asset_sub_type\",\n",
    "            \"location\",\n",
    "            \"tms_id\",\n",
    "            \"imms_id\",\n",
    "            \"delegation_type\",\n",
    "            \"leased_owned\",\n",
    "            \"comment\",\n",
    "            \"geometry\",\n",
    "        ]\n",
    "    ],\n",
    "    how=\"left\",\n",
    "    left_on=\"objectid\",\n",
    "    right_index=True,\n",
    "    validate=\"many_to_one\",\n",
    ")\n",
    "merged_geometry = gpd.GeoSeries(merged_signals_routes_frequency[\"geometry\"]).to_crs(\n",
    "    geography_utils.WGS84\n",
    ")\n",
    "merged_signals_routes_frequency[\"latitude\"] = merged_geometry.y.round(5)\n",
    "merged_signals_routes_frequency[\"longitude\"] = merged_geometry.x.round(5)\n",
    "merged_signals_routes_frequency.drop(\"geometry\", axis=1).to_csv(\n",
    "    \"signals_routes.csv\", index=False\n",
    ")"
   ]
  },
  {
   "cell_type": "code",
   "execution_count": null,
   "id": "b47f4bdf-48d5-4c97-907a-79ef986a1217",
   "metadata": {
    "tags": []
   },
   "outputs": [],
   "source": [
    "buffered_signals.head()[\"Trips/Hour\"]"
   ]
  },
  {
   "cell_type": "code",
   "execution_count": null,
   "id": "4642c5ac-a829-4be3-8afa-e0e0a007c3f9",
   "metadata": {
    "tags": []
   },
   "outputs": [],
   "source": [
    "# Save signal-grain data to a csv\n",
    "caltrans_signals_filtered[\"latitude\"] = caltrans_signals_filtered.geometry.y.round(5)\n",
    "caltrans_signals_filtered[\"longitude\"] = caltrans_signals_filtered.geometry.x.round(5)\n",
    "caltrans_signals_filtered.rename(columns={\"trips_hr_sch\": \"Trips/Hour\"})[\n",
    "    [*signals_with_transit_display_columns, \"latitude\", \"longitude\", \"comment\"]\n",
    "].drop(caltrans_signals_filtered.geometry.name, axis=1).to_csv(\"signals_aggregated.csv\")"
   ]
  },
  {
   "cell_type": "code",
   "execution_count": null,
   "id": "ff49baf2-6875-4b44-b50a-75c2e289047b",
   "metadata": {
    "tags": []
   },
   "outputs": [],
   "source": [
    "caltrans_signals_filtered[\"latitude\"]"
   ]
  },
  {
   "cell_type": "code",
   "execution_count": null,
   "id": "1a251021-2216-4bda-b7ef-2f751bc7cd47",
   "metadata": {},
   "outputs": [],
   "source": []
  }
 ],
 "metadata": {
  "kernelspec": {
   "display_name": "Python 3 (ipykernel)",
   "language": "python",
   "name": "python3"
  },
  "language_info": {
   "codemirror_mode": {
    "name": "ipython",
    "version": 3
   },
   "file_extension": ".py",
   "mimetype": "text/x-python",
   "name": "python",
   "nbconvert_exporter": "python",
   "pygments_lexer": "ipython3",
   "version": "3.11.10"
  },
  "toc-showtags": false
 },
 "nbformat": 4,
 "nbformat_minor": 5
}
