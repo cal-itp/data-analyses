{
 "cells": [
  {
   "cell_type": "markdown",
   "id": "69e07184-92bc-4f84-ac1e-201064c2905d",
   "metadata": {},
   "source": [
    "#### Introduction\n",
    "\n",
    "This notebook creates maps and tables to determine the transit service at or near traffic signals. Currently, only signals on the State Highway Network (SHN) are shown.\n",
    "\n",
    "#### How to use\n",
    "On the calitp Jupyterhub, import `shared_utils` and authenticate to GCS.\n",
    "\n",
    "#### Technical details (needs updating)\n",
    "- Signal data is sourced from HQ Traffic Ops GIS, downloaded on 2025-09-08.\n",
    "Segment data is calculated based on GTFS data collected by DDS for the selected targed date\n",
    "- Routes are associated with a signal if they run within 155 meters of the signal. \n",
    "- Speeds and frequencies are defined based on data in the morning peak (7a-10a). Displayed speeds are the 20th percentile speeds.\n",
    "- Network lines are based on data provided by Rebel. They are manually drawn, and do not strictly represent transit routes.\n",
    "- Detailed speeds methodology is available at https://analysis.dds.dot.ca.gov/rt/README.html\n",
    "\n",
    "#### Outputs\n",
    "- Signal Map\n",
    "  - Segments\n",
    "    - 20th percentile speeds\n",
    "    - Average frequencies\n",
    "  - Signals\n",
    "    - Unit Type\n",
    "    - Aggregated data from 155 m to the signal\n",
    "    - Route names (from `route_short_name`)\n",
    "    - Organization names (from `organization_name`)\n",
    "    - Total trips per hour, in both directions\n",
    "    - IMMS ID\n",
    "    - TMS ID\n",
    "    - Delegation Type (describes whether a signal is owned/operated/maintaned by Caltrans or a local gov)\n",
    "- Signal-Grain CSV\n",
    "  - `signals_aggregated.csv`\n",
    "    - Same data as in the interactive map\n",
    "    - Additionally, the ArcGIS objectid is present to serve as a unique identifier\n",
    "  - `signals_routes.csv`\n",
    "    - One row for each route in each direction within 155 meters of each signal\n",
    "    - Objectid\n",
    "    - Route name\n",
    "    - Organization name\n",
    "    - Trips per hour in the chosen direction\n",
    "    - TMS id\n",
    "    - IMMS id\n",
    "    - Delegation Type\n",
    "    - Leased / Owned (whether the equipment is leased or owned by Caltrans)\n",
    "    - Traffic Ops Comments\n",
    "    \n",
    "    \n",
    "    "
   ]
  },
  {
   "cell_type": "code",
   "execution_count": 1,
   "id": "62c41603-33eb-4a87-9b40-200e1b81d4a1",
   "metadata": {
    "tags": []
   },
   "outputs": [],
   "source": [
    "import branca\n",
    "import geopandas as gpd\n",
    "import pandas as pd\n",
    "from calitp_data_analysis import gcs_geopandas, geography_utils\n",
    "from shared_utils import catalog_utils, rt_utils, webmap_utils\n",
    "from signal_tools import (\n",
    "    add_transit_metrics_to_signals,\n",
    "    filter_points_along_corridor,\n",
    "    ready_signals_for_display,\n",
    "    ready_speedmap_segments_for_display,\n",
    "    sjoin_signals,\n",
    ")\n",
    "from constants import (\n",
    "    TARGET_DATE,\n",
    "    TARGET_TIME_OF_DAY,\n",
    "    ANALYSIS_DISTRICT_NUMBER,\n",
    "    TARGET_TIME_OF_DAY_LENGTH_HOURS,\n",
    "    SJOIN_DISTANCE_METERS,\n",
    "    SIGNAL_OWNER_NAME,\n",
    "    STATE_OF_CALIFORNIA_LABEL,\n",
    "    CITY_OF_LOS_ANGELES_LABEL,\n",
    "    CITY_OF_SANTA_MONICA_LABEL,\n",
    "    STUDY_CORRIDOR_BUFFER_DISTANCE,\n",
    "    CALTRANS_INTERNAL_SIGNAL_URI,\n",
    "    LOS_ANGELES_OPEN_SIGNAL_URI,\n",
    "    SANTA_MONICA_OPEN_SIGNAL_URI,\n",
    ")"
   ]
  },
  {
   "cell_type": "code",
   "execution_count": 2,
   "id": "e71d4835-b379-40d5-8eee-5d109dd53c2d",
   "metadata": {
    "tags": []
   },
   "outputs": [],
   "source": [
    "g = gcs_geopandas.GCSGeoPandas()"
   ]
  },
  {
   "cell_type": "markdown",
   "id": "4a32a5f4-8b62-4bff-bd42-eb24c47f18cc",
   "metadata": {},
   "source": [
    "### Get analysis corridors"
   ]
  },
  {
   "cell_type": "code",
   "execution_count": 3,
   "id": "d4a12ac9-2700-465a-a640-6593edfa02c1",
   "metadata": {
    "tags": []
   },
   "outputs": [],
   "source": [
    "study_corridors = gpd.read_file(\"study_corridors_lines.geojson\")\n",
    "study_corridors_albers = study_corridors.to_crs(geography_utils.CA_NAD83Albers_m)\n",
    "study_corridors_buffered_wgs84 = study_corridors_albers.buffer(\n",
    "    STUDY_CORRIDOR_BUFFER_DISTANCE\n",
    ").to_crs(geography_utils.WGS84)"
   ]
  },
  {
   "cell_type": "markdown",
   "id": "e3b89c07-0854-478c-8239-b8714647a180",
   "metadata": {},
   "source": [
    "### Get Signal Data"
   ]
  },
  {
   "cell_type": "code",
   "execution_count": 4,
   "id": "e97cca81-bce1-4197-8d73-3f1d09ddbf9e",
   "metadata": {},
   "outputs": [],
   "source": [
    "# Get signal data from Caltrans Traffic Ops Data\n",
    "caltrans_signals = (\n",
    "    g.read_file(\n",
    "        CALTRANS_INTERNAL_SIGNAL_URI,\n",
    "    )\n",
    "    .rename(columns=lambda s: s.lower())\n",
    "    .clip(study_corridors_buffered_wgs84)\n",
    "    # .clip(analysis_district)\n",
    ")  # we want columns to be all lower case\n",
    "# Filter out devices that aren't actually caltrans_signals\n",
    "caltrans_signals_filtered = caltrans_signals.loc[\n",
    "    caltrans_signals[\"tms_unit_type\"] == \"Traffic Signals\"\n",
    "].set_index(\"objectid\")\n",
    "caltrans_signals_filtered[SIGNAL_OWNER_NAME] = STATE_OF_CALIFORNIA_LABEL"
   ]
  },
  {
   "cell_type": "code",
   "execution_count": 5,
   "id": "4cd13178",
   "metadata": {},
   "outputs": [],
   "source": [
    "# Get signal data from LADOT Open Data\n",
    "ladot_signals = (\n",
    "    g.read_file(LOS_ANGELES_OPEN_SIGNAL_URI)\n",
    "    .to_crs(geography_utils.WGS84)\n",
    "    .clip(study_corridors_buffered_wgs84)\n",
    ")\n",
    "ladot_signals_filtered = ladot_signals.loc[\n",
    "    ladot_signals[\"ST3\"] != \"(SMART XWALK)\"\n",
    "].copy()\n",
    "ladot_signals_filtered[SIGNAL_OWNER_NAME] = CITY_OF_LOS_ANGELES_LABEL\n",
    "\n",
    "# Filter LADOT signals to avoid double counting signals with Caltrans signals\n",
    "caltrans_signals_buffered = caltrans_signals_filtered.set_geometry(\n",
    "    caltrans_signals_filtered.to_crs(geography_utils.CA_NAD83Albers_m)\n",
    "    .buffer(\n",
    "        100\n",
    "    )  # TODO: Not sure if there's a good value for this buffer, might need to do manual work here\n",
    "    .to_crs(geography_utils.WGS84)\n",
    ")\n",
    "ladot_signals_distinct_from_caltrans = ladot_signals_filtered.overlay(\n",
    "    caltrans_signals_buffered, how=\"difference\"\n",
    ")"
   ]
  },
  {
   "cell_type": "code",
   "execution_count": 6,
   "id": "a3b3c894-c6cf-40a9-bef3-fe8cd9f81323",
   "metadata": {},
   "outputs": [],
   "source": [
    "# Get signal data from Santa Monica Open Data\n",
    "santa_monica_signals = g.read_file(SANTA_MONICA_OPEN_SIGNAL_URI).clip(\n",
    "    study_corridors_buffered_wgs84\n",
    ")\n",
    "santa_monica_signals_albers = santa_monica_signals.to_crs(\n",
    "    geography_utils.CA_NAD83Albers_m\n",
    ").reset_index(drop=True)\n",
    "santa_monica_signals_filtered = santa_monica_signals_albers.loc[santa_monica_signals_albers[\"circuit_nu\"] != -9]\n",
    "santa_monica_signals_clustered_by_circuit = santa_monica_signals_filtered.dissolve(\n",
    "    \"circuit_nu\"\n",
    ")\n",
    "santa_monica_signals_duplicates_removed = (\n",
    "    santa_monica_signals_clustered_by_circuit[\n",
    "        [santa_monica_signals_filtered.geometry.name]\n",
    "    ]\n",
    "    .set_geometry(santa_monica_signals_clustered_by_circuit.geometry.centroid)\n",
    "    .reset_index()\n",
    ")\n",
    "santa_monica_signals_duplicates_removed[SIGNAL_OWNER_NAME] = CITY_OF_SANTA_MONICA_LABEL"
   ]
  },
  {
   "cell_type": "markdown",
   "id": "b0da648d",
   "metadata": {},
   "source": [
    "### Get Speedmaps"
   ]
  },
  {
   "cell_type": "code",
   "execution_count": 7,
   "id": "37ca5745-517a-4fdb-97f1-ccbaf5101139",
   "metadata": {},
   "outputs": [],
   "source": [
    "# read geo files\n",
    "shared_data_catalog = catalog_utils.get_catalog(\"shared_data_catalog\")\n",
    "gtfs_data_constants = catalog_utils.get_catalog(\"gtfs_analytics_data\")\n",
    "\n",
    "# Get district polygons to mask\n",
    "districts = shared_data_catalog.caltrans_districts.read()\n",
    "analysis_district = districts.loc[districts[\"DISTRICT\"] == ANALYSIS_DISTRICT_NUMBER]"
   ]
  },
  {
   "cell_type": "code",
   "execution_count": 8,
   "id": "1b28b291",
   "metadata": {},
   "outputs": [],
   "source": [
    "# Get speedmap data\n",
    "speedmap_segments = g.read_parquet(\n",
    "    f\"{gtfs_data_constants.speedmap_segments.dir}{gtfs_data_constants.speedmap_segments.segment_timeofday}_{TARGET_DATE}.parquet\",\n",
    "    filters=[\n",
    "        (\"time_of_day\", \"=\", TARGET_TIME_OF_DAY)\n",
    "    ],  # Filter for only a selected time of day\n",
    ").clip(analysis_district)"
   ]
  },
  {
   "cell_type": "code",
   "execution_count": 9,
   "id": "795f9781-d8ee-4fdb-892d-6f9e90e13dd4",
   "metadata": {
    "tags": []
   },
   "outputs": [
    {
     "data": {
      "text/html": [
       "<div>\n",
       "<style scoped>\n",
       "    .dataframe tbody tr th:only-of-type {\n",
       "        vertical-align: middle;\n",
       "    }\n",
       "\n",
       "    .dataframe tbody tr th {\n",
       "        vertical-align: top;\n",
       "    }\n",
       "\n",
       "    .dataframe thead th {\n",
       "        text-align: right;\n",
       "    }\n",
       "</style>\n",
       "<table border=\"1\" class=\"dataframe\">\n",
       "  <thead>\n",
       "    <tr style=\"text-align: right;\">\n",
       "      <th></th>\n",
       "      <th>schedule_gtfs_dataset_key</th>\n",
       "      <th>shape_id</th>\n",
       "      <th>shape_array_key</th>\n",
       "      <th>route_id</th>\n",
       "      <th>direction_id</th>\n",
       "      <th>stop_pair</th>\n",
       "      <th>segment_id</th>\n",
       "      <th>stop_pair_name</th>\n",
       "      <th>time_of_day</th>\n",
       "      <th>p50_mph</th>\n",
       "      <th>...</th>\n",
       "      <th>p80_mph</th>\n",
       "      <th>n_trips_sch</th>\n",
       "      <th>trips_hr_sch</th>\n",
       "      <th>route_short_name</th>\n",
       "      <th>geometry</th>\n",
       "      <th>name</th>\n",
       "      <th>base64_url</th>\n",
       "      <th>caltrans_district</th>\n",
       "      <th>analysis_name</th>\n",
       "      <th>source_record_id</th>\n",
       "    </tr>\n",
       "  </thead>\n",
       "  <tbody>\n",
       "    <tr>\n",
       "      <th>526690</th>\n",
       "      <td>d27fcd9eec0803cce4dfdd2105aa5e8c</td>\n",
       "      <td>5004</td>\n",
       "      <td>608559ba37623a3456b9201e466e31cd</td>\n",
       "      <td>50</td>\n",
       "      <td>0.0</td>\n",
       "      <td>4097__4573</td>\n",
       "      <td>4097-4573-2</td>\n",
       "      <td>STUDEBAKER-WILLOW__KATELLA-CIVIC CENTER</td>\n",
       "      <td>AM Peak</td>\n",
       "      <td>39.95</td>\n",
       "      <td>...</td>\n",
       "      <td>40.53</td>\n",
       "      <td>8</td>\n",
       "      <td>2.667</td>\n",
       "      <td>50</td>\n",
       "      <td>LINESTRING (-118.08902 33.80416, -118.08871 33...</td>\n",
       "      <td>OCTA Schedule</td>\n",
       "      <td>aHR0cHM6Ly9vY3RhLm5ldC9jdXJyZW50L2dvb2dsZV90cm...</td>\n",
       "      <td>12 - Santa Ana</td>\n",
       "      <td>Orange County Transportation Authority</td>\n",
       "      <td>reckk3FzZojulIKYL</td>\n",
       "    </tr>\n",
       "    <tr>\n",
       "      <th>341663</th>\n",
       "      <td>8e5034b0dddc8e5b0b0f04def813f271</td>\n",
       "      <td>930178</td>\n",
       "      <td>359dbea9995762ef154c52b0191388e5</td>\n",
       "      <td>93</td>\n",
       "      <td>1.0</td>\n",
       "      <td>1020__1021</td>\n",
       "      <td>1020-1021-1</td>\n",
       "      <td>7th &amp; Park SE__7th &amp; Federation SW</td>\n",
       "      <td>AM Peak</td>\n",
       "      <td>12.74</td>\n",
       "      <td>...</td>\n",
       "      <td>17.45</td>\n",
       "      <td>6</td>\n",
       "      <td>2.000</td>\n",
       "      <td>93</td>\n",
       "      <td>LINESTRING (-118.13687 33.77535, -118.13683 33...</td>\n",
       "      <td>Long Beach Schedule</td>\n",
       "      <td>aHR0cHM6Ly9kcml2ZS5nb29nbGUuY29tL3VjP2V4cG9ydD...</td>\n",
       "      <td>07 - Los Angeles / Ventura</td>\n",
       "      <td>Long Beach Transit</td>\n",
       "      <td>recCv3CF4elAx0dUg</td>\n",
       "    </tr>\n",
       "    <tr>\n",
       "      <th>344351</th>\n",
       "      <td>8e5034b0dddc8e5b0b0f04def813f271</td>\n",
       "      <td>910200</td>\n",
       "      <td>b934ac07a0c0d3300000600b0c6c23bf</td>\n",
       "      <td>91</td>\n",
       "      <td>1.0</td>\n",
       "      <td>1020__1021</td>\n",
       "      <td>1020-1021-1</td>\n",
       "      <td>7th &amp; Park SE__7th &amp; Federation SW</td>\n",
       "      <td>AM Peak</td>\n",
       "      <td>13.61</td>\n",
       "      <td>...</td>\n",
       "      <td>16.05</td>\n",
       "      <td>6</td>\n",
       "      <td>2.000</td>\n",
       "      <td>91</td>\n",
       "      <td>LINESTRING (-118.13687 33.77535, -118.13683 33...</td>\n",
       "      <td>Long Beach Schedule</td>\n",
       "      <td>aHR0cHM6Ly9kcml2ZS5nb29nbGUuY29tL3VjP2V4cG9ydD...</td>\n",
       "      <td>07 - Los Angeles / Ventura</td>\n",
       "      <td>Long Beach Transit</td>\n",
       "      <td>recCv3CF4elAx0dUg</td>\n",
       "    </tr>\n",
       "    <tr>\n",
       "      <th>348766</th>\n",
       "      <td>8e5034b0dddc8e5b0b0f04def813f271</td>\n",
       "      <td>460085</td>\n",
       "      <td>5efbfa048d2e3c3888c901b2c689b156</td>\n",
       "      <td>46</td>\n",
       "      <td>1.0</td>\n",
       "      <td>0538__1024</td>\n",
       "      <td>0538-1024-1</td>\n",
       "      <td>PCH &amp; Anaheim NW__7th &amp; Bellflower SW</td>\n",
       "      <td>AM Peak</td>\n",
       "      <td>14.00</td>\n",
       "      <td>...</td>\n",
       "      <td>20.47</td>\n",
       "      <td>8</td>\n",
       "      <td>2.667</td>\n",
       "      <td>46</td>\n",
       "      <td>LINESTRING (-118.13298 33.78285, -118.13293 33...</td>\n",
       "      <td>Long Beach Schedule</td>\n",
       "      <td>aHR0cHM6Ly9kcml2ZS5nb29nbGUuY29tL3VjP2V4cG9ydD...</td>\n",
       "      <td>07 - Los Angeles / Ventura</td>\n",
       "      <td>Long Beach Transit</td>\n",
       "      <td>recCv3CF4elAx0dUg</td>\n",
       "    </tr>\n",
       "    <tr>\n",
       "      <th>345296</th>\n",
       "      <td>8e5034b0dddc8e5b0b0f04def813f271</td>\n",
       "      <td>410024</td>\n",
       "      <td>9495ea8824902c71ab5f47ac1162b701</td>\n",
       "      <td>41</td>\n",
       "      <td>1.0</td>\n",
       "      <td>0538__1024</td>\n",
       "      <td>0538-1024-1</td>\n",
       "      <td>PCH &amp; Anaheim NW__7th &amp; Bellflower SW</td>\n",
       "      <td>AM Peak</td>\n",
       "      <td>13.69</td>\n",
       "      <td>...</td>\n",
       "      <td>21.86</td>\n",
       "      <td>8</td>\n",
       "      <td>2.667</td>\n",
       "      <td>41</td>\n",
       "      <td>LINESTRING (-118.13298 33.78285, -118.13293 33...</td>\n",
       "      <td>Long Beach Schedule</td>\n",
       "      <td>aHR0cHM6Ly9kcml2ZS5nb29nbGUuY29tL3VjP2V4cG9ydD...</td>\n",
       "      <td>07 - Los Angeles / Ventura</td>\n",
       "      <td>Long Beach Transit</td>\n",
       "      <td>recCv3CF4elAx0dUg</td>\n",
       "    </tr>\n",
       "  </tbody>\n",
       "</table>\n",
       "<p>5 rows × 22 columns</p>\n",
       "</div>"
      ],
      "text/plain": [
       "               schedule_gtfs_dataset_key shape_id  \\\n",
       "526690  d27fcd9eec0803cce4dfdd2105aa5e8c     5004   \n",
       "341663  8e5034b0dddc8e5b0b0f04def813f271   930178   \n",
       "344351  8e5034b0dddc8e5b0b0f04def813f271   910200   \n",
       "348766  8e5034b0dddc8e5b0b0f04def813f271   460085   \n",
       "345296  8e5034b0dddc8e5b0b0f04def813f271   410024   \n",
       "\n",
       "                         shape_array_key route_id  direction_id   stop_pair  \\\n",
       "526690  608559ba37623a3456b9201e466e31cd       50           0.0  4097__4573   \n",
       "341663  359dbea9995762ef154c52b0191388e5       93           1.0  1020__1021   \n",
       "344351  b934ac07a0c0d3300000600b0c6c23bf       91           1.0  1020__1021   \n",
       "348766  5efbfa048d2e3c3888c901b2c689b156       46           1.0  0538__1024   \n",
       "345296  9495ea8824902c71ab5f47ac1162b701       41           1.0  0538__1024   \n",
       "\n",
       "         segment_id                           stop_pair_name time_of_day  \\\n",
       "526690  4097-4573-2  STUDEBAKER-WILLOW__KATELLA-CIVIC CENTER     AM Peak   \n",
       "341663  1020-1021-1       7th & Park SE__7th & Federation SW     AM Peak   \n",
       "344351  1020-1021-1       7th & Park SE__7th & Federation SW     AM Peak   \n",
       "348766  0538-1024-1    PCH & Anaheim NW__7th & Bellflower SW     AM Peak   \n",
       "345296  0538-1024-1    PCH & Anaheim NW__7th & Bellflower SW     AM Peak   \n",
       "\n",
       "        p50_mph  ...  p80_mph  n_trips_sch  trips_hr_sch  route_short_name  \\\n",
       "526690    39.95  ...    40.53            8         2.667                50   \n",
       "341663    12.74  ...    17.45            6         2.000                93   \n",
       "344351    13.61  ...    16.05            6         2.000                91   \n",
       "348766    14.00  ...    20.47            8         2.667                46   \n",
       "345296    13.69  ...    21.86            8         2.667                41   \n",
       "\n",
       "                                                 geometry  \\\n",
       "526690  LINESTRING (-118.08902 33.80416, -118.08871 33...   \n",
       "341663  LINESTRING (-118.13687 33.77535, -118.13683 33...   \n",
       "344351  LINESTRING (-118.13687 33.77535, -118.13683 33...   \n",
       "348766  LINESTRING (-118.13298 33.78285, -118.13293 33...   \n",
       "345296  LINESTRING (-118.13298 33.78285, -118.13293 33...   \n",
       "\n",
       "                       name  \\\n",
       "526690        OCTA Schedule   \n",
       "341663  Long Beach Schedule   \n",
       "344351  Long Beach Schedule   \n",
       "348766  Long Beach Schedule   \n",
       "345296  Long Beach Schedule   \n",
       "\n",
       "                                               base64_url  \\\n",
       "526690  aHR0cHM6Ly9vY3RhLm5ldC9jdXJyZW50L2dvb2dsZV90cm...   \n",
       "341663  aHR0cHM6Ly9kcml2ZS5nb29nbGUuY29tL3VjP2V4cG9ydD...   \n",
       "344351  aHR0cHM6Ly9kcml2ZS5nb29nbGUuY29tL3VjP2V4cG9ydD...   \n",
       "348766  aHR0cHM6Ly9kcml2ZS5nb29nbGUuY29tL3VjP2V4cG9ydD...   \n",
       "345296  aHR0cHM6Ly9kcml2ZS5nb29nbGUuY29tL3VjP2V4cG9ydD...   \n",
       "\n",
       "                 caltrans_district                           analysis_name  \\\n",
       "526690              12 - Santa Ana  Orange County Transportation Authority   \n",
       "341663  07 - Los Angeles / Ventura                      Long Beach Transit   \n",
       "344351  07 - Los Angeles / Ventura                      Long Beach Transit   \n",
       "348766  07 - Los Angeles / Ventura                      Long Beach Transit   \n",
       "345296  07 - Los Angeles / Ventura                      Long Beach Transit   \n",
       "\n",
       "         source_record_id  \n",
       "526690  reckk3FzZojulIKYL  \n",
       "341663  recCv3CF4elAx0dUg  \n",
       "344351  recCv3CF4elAx0dUg  \n",
       "348766  recCv3CF4elAx0dUg  \n",
       "345296  recCv3CF4elAx0dUg  \n",
       "\n",
       "[5 rows x 22 columns]"
      ]
     },
     "execution_count": 9,
     "metadata": {},
     "output_type": "execute_result"
    }
   ],
   "source": [
    "speedmap_segments.head()"
   ]
  },
  {
   "cell_type": "markdown",
   "id": "c0a4399c",
   "metadata": {},
   "source": [
    "### Merge signal and speedmap info"
   ]
  },
  {
   "cell_type": "code",
   "execution_count": 10,
   "id": "74388f24-aab5-404a-98c0-9e9361358703",
   "metadata": {
    "tags": []
   },
   "outputs": [],
   "source": [
    "caltrans_sjoined_signals_segments = sjoin_signals(\n",
    "    signals_gdf=caltrans_signals_filtered.reset_index(),\n",
    "    segments_lines_gdf=speedmap_segments,\n",
    "    # keep_columns_signals=[\"objectid\", \"imms_id\"],\n",
    "    # keep_columns_segments=[\"shape_id\", \"segment_id\", \"organization_name\", \"route_id\"],\n",
    "    unique_identifier_signals=\"objectid\",\n",
    "    signals_buffer_distance=SJOIN_DISTANCE_METERS,\n",
    ")\n",
    "caltrans_signals_with_transit_metrics = add_transit_metrics_to_signals(\n",
    "    signals_gdf=caltrans_signals_filtered.reset_index(),\n",
    "    sjoined_signals_segments=caltrans_sjoined_signals_segments,\n",
    "    unique_identifier_signals=\"objectid\",\n",
    ")\n",
    "\n",
    "ladot_sjoined_signals_segments = sjoin_signals(\n",
    "    signals_gdf=ladot_signals_distinct_from_caltrans,\n",
    "    segments_lines_gdf=speedmap_segments,\n",
    "    unique_identifier_signals=\"ID\",\n",
    "    signals_buffer_distance=SJOIN_DISTANCE_METERS,\n",
    ")\n",
    "ladot_signals_with_transit_metrics = add_transit_metrics_to_signals(\n",
    "    signals_gdf=ladot_signals_distinct_from_caltrans,\n",
    "    sjoined_signals_segments=ladot_sjoined_signals_segments,\n",
    "    unique_identifier_signals=\"ID\",\n",
    ")\n",
    "\n",
    "santa_monica_sjoined_signals_segments = sjoin_signals(\n",
    "    signals_gdf=santa_monica_signals_duplicates_removed,\n",
    "    segments_lines_gdf=speedmap_segments,\n",
    "    unique_identifier_signals=\"circuit_nu\",\n",
    "    signals_buffer_distance=SJOIN_DISTANCE_METERS,\n",
    ")\n",
    "santa_monica_signals_with_transit_metrics = add_transit_metrics_to_signals(\n",
    "    signals_gdf=santa_monica_signals_duplicates_removed,\n",
    "    sjoined_signals_segments=santa_monica_sjoined_signals_segments,\n",
    "    unique_identifier_signals=\"circuit_nu\",\n",
    ")"
   ]
  },
  {
   "cell_type": "markdown",
   "id": "3f9c5840-359e-4444-830a-321c90b1f6f2",
   "metadata": {},
   "source": [
    "### Concatenate segments"
   ]
  },
  {
   "cell_type": "code",
   "execution_count": 11,
   "id": "239f73d5-ddf9-460d-94a1-6c6ddae97046",
   "metadata": {
    "tags": []
   },
   "outputs": [],
   "source": [
    "# Define columns to include\n",
    "arrowized_segments_display_columns = [\n",
    "    \"trips_hr_sch\",\n",
    "    \"p50_mph\",\n",
    "    \"p20_mph\",\n",
    "    \"p80_mph\",\n",
    "    \"route_short_name\",\n",
    "    \"stop_pair_name\",\n",
    "    \"segment_id\",\n",
    "    \"route_id\",\n",
    "    \"shape_id\",\n",
    "]\n",
    "speedmaps_signals_together = gpd.GeoDataFrame(\n",
    "    pd.concat(\n",
    "        [\n",
    "            caltrans_sjoined_signals_segments,\n",
    "            ladot_sjoined_signals_segments,\n",
    "            santa_monica_sjoined_signals_segments,\n",
    "        ],\n",
    "    ).drop_duplicates(subset=arrowized_segments_display_columns)\n",
    ")"
   ]
  },
  {
   "cell_type": "markdown",
   "id": "8d45fc12",
   "metadata": {},
   "source": [
    "### Get GDFs formatted for display on the webmap"
   ]
  },
  {
   "cell_type": "code",
   "execution_count": 12,
   "id": "efea03d0-23cb-4dce-83ef-61746acf3480",
   "metadata": {
    "tags": []
   },
   "outputs": [],
   "source": [
    "transit_info_columns = [\n",
    "    \"route_names_aggregated\",\n",
    "    \"analysis_names_aggregated\",\n",
    "    \"Trips/Hour\",\n",
    "    \"signal_owner\",\n",
    "    \"color_key\"\n",
    "]\n",
    "caltrans_signals_with_transit_display_columns = [\n",
    "    \"tms_unit_type\",\n",
    "    *transit_info_columns,\n",
    "    # \"asset_sub_type\",\n",
    "    \"tms_id\",\n",
    "    \"imms_id\",\n",
    "    \"delegation_type\",\n",
    "    # \"leased_owned\",\n",
    "    # \"comment\",\n",
    "    caltrans_signals_with_transit_metrics.geometry.name,\n",
    "]\n",
    "ladot_signals_with_transit_display_columns = [\n",
    "    \"ID\",\n",
    "    *transit_info_columns,\n",
    "    ladot_signals_with_transit_metrics.geometry.name,\n",
    "]\n",
    "santa_monica_signals_with_transit_display_columns = [\n",
    "    \"circuit_nu\",\n",
    "    *transit_info_columns,\n",
    "    santa_monica_signals_with_transit_metrics.geometry.name,\n",
    "]"
   ]
  },
  {
   "cell_type": "code",
   "execution_count": 13,
   "id": "9c759c77-3ee2-434b-b9f1-db0fa2adcc19",
   "metadata": {
    "tags": []
   },
   "outputs": [],
   "source": [
    "# Segment GDF\n",
    "arrowized_gdf = ready_speedmap_segments_for_display(speedmaps_signals_together)\n",
    "# Signal GDF\n",
    "ownership_map = {\n",
    "    STATE_OF_CALIFORNIA_LABEL: 0,\n",
    "    CITY_OF_LOS_ANGELES_LABEL: 1,\n",
    "    CITY_OF_SANTA_MONICA_LABEL: 2\n",
    "}\n",
    "signal_size = 50\n",
    "caltrans_buffered_signals = ready_signals_for_display(\n",
    "    caltrans_signals_with_transit_metrics, buffer_distance=signal_size, ownership_map=ownership_map\n",
    ")\n",
    "ladot_buffered_signals = ready_signals_for_display(\n",
    "    ladot_signals_with_transit_metrics, buffer_distance=signal_size, ownership_map=ownership_map\n",
    ")\n",
    "santa_monica_buffered_signals = ready_signals_for_display(\n",
    "    santa_monica_signals_with_transit_metrics, buffer_distance=signal_size, ownership_map=ownership_map\n",
    ")"
   ]
  },
  {
   "cell_type": "code",
   "execution_count": 14,
   "id": "feafd4ab-e70c-46f8-b5fc-fa0b6f24bee3",
   "metadata": {
    "tags": []
   },
   "outputs": [],
   "source": [
    "# Get study corridors to add onto the map\n",
    "study_corridors_for_display = study_corridors_albers.set_geometry(\n",
    "    study_corridors_albers.buffer(100, cap_style=\"flat\")\n",
    ")\n",
    "study_corridors_for_display[\"bus_lane\"] = study_corridors[\"bus_lane\"].fillna(0)\n",
    "# Get colormap based on whether the analysis segment is a bus lane\n",
    "DDS_GREY = \"#d9d9d6\"\n",
    "DDS_BLUE = \"#b1e4e3\"\n",
    "study_corridor_colormap = branca.colormap.StepColormap(\n",
    "    colors=[DDS_GREY, DDS_BLUE], index=[0, 1]\n",
    ")"
   ]
  },
  {
   "cell_type": "code",
   "execution_count": 15,
   "id": "904e4cbc-a4c0-432a-9a78-e3dbd02b224a",
   "metadata": {},
   "outputs": [],
   "source": [
    "# Signals colormap\n",
    "DDS_MIDDLE_PURPLE = \"#7474c1\"\n",
    "DDS_MIDDLE_ORANGE = \"#ff8200\"\n",
    "DDS_MIDDLE_BLUE = \"#00a3e0\"\n",
    "signal_colorscale = branca.colormap.StepColormap(\n",
    "    colors=[DDS_MIDDLE_PURPLE, DDS_MIDDLE_ORANGE, DDS_MIDDLE_BLUE],\n",
    "    vmin=0, vmax=2\n",
    ")"
   ]
  },
  {
   "cell_type": "code",
   "execution_count": 16,
   "id": "2e1f0e96-99d2-4225-91b6-ce259e013e07",
   "metadata": {
    "tags": []
   },
   "outputs": [
    {
     "data": {
      "text/plain": [
       "'#00a3e0ff'"
      ]
     },
     "execution_count": 16,
     "metadata": {},
     "output_type": "execute_result"
    }
   ],
   "source": [
    "signal_colorscale(2)"
   ]
  },
  {
   "cell_type": "markdown",
   "id": "2a12aedd",
   "metadata": {},
   "source": [
    "### Create webmap"
   ]
  },
  {
   "cell_type": "code",
   "execution_count": 17,
   "id": "d3684c8b-b5af-4b89-a953-e21a26f9fdc3",
   "metadata": {
    "tags": []
   },
   "outputs": [
    {
     "name": "stderr",
     "output_type": "stream",
     "text": [
      "/home/jovyan/data-analyses/_shared_utils/shared_utils/webmap_utils.py:124: UserWarning: Geometry is in a geographic CRS. Results from 'centroid' are likely incorrect. Use 'GeoSeries.to_crs()' to re-project geometries to a projected CRS before this operation.\n",
      "\n",
      "  centroid = (gdf.geometry.centroid.y.mean(), gdf.geometry.centroid.x.mean())\n",
      "/home/jovyan/data-analyses/_shared_utils/shared_utils/webmap_utils.py:124: UserWarning: Geometry is in a geographic CRS. Results from 'centroid' are likely incorrect. Use 'GeoSeries.to_crs()' to re-project geometries to a projected CRS before this operation.\n",
      "\n",
      "  centroid = (gdf.geometry.centroid.y.mean(), gdf.geometry.centroid.x.mean())\n"
     ]
    },
    {
     "name": "stdout",
     "output_type": "stream",
     "text": [
      "file already exists at calitp-map-tiles/signals_v12_52/study_corridors.geojson.gz, not overwriting, use overwrite = True to overwrite\n",
      "file already exists at calitp-map-tiles/signals_v12_52/speeds.geojson.gz, not overwriting, use overwrite = True to overwrite\n"
     ]
    },
    {
     "name": "stderr",
     "output_type": "stream",
     "text": [
      "/home/jovyan/data-analyses/_shared_utils/shared_utils/webmap_utils.py:124: UserWarning: Geometry is in a geographic CRS. Results from 'centroid' are likely incorrect. Use 'GeoSeries.to_crs()' to re-project geometries to a projected CRS before this operation.\n",
      "\n",
      "  centroid = (gdf.geometry.centroid.y.mean(), gdf.geometry.centroid.x.mean())\n",
      "/home/jovyan/data-analyses/_shared_utils/shared_utils/webmap_utils.py:124: UserWarning: Geometry is in a geographic CRS. Results from 'centroid' are likely incorrect. Use 'GeoSeries.to_crs()' to re-project geometries to a projected CRS before this operation.\n",
      "\n",
      "  centroid = (gdf.geometry.centroid.y.mean(), gdf.geometry.centroid.x.mean())\n"
     ]
    },
    {
     "name": "stdout",
     "output_type": "stream",
     "text": [
      "file already exists at calitp-map-tiles/signals_v12_52/ct_signals.geojson.gz, not overwriting, use overwrite = True to overwrite\n",
      "file already exists at calitp-map-tiles/signals_v12_52/ladot_signals.geojson.gz, not overwriting, use overwrite = True to overwrite\n",
      "file already exists at calitp-map-tiles/signals_v12_52/santa_monica_signals.geojson.gz, not overwriting, use overwrite = True to overwrite\n"
     ]
    },
    {
     "data": {
      "text/plain": [
       "{'state_dict': {'name': 'null',\n",
       "  'layers': [{'name': 'Study Corridors',\n",
       "    'url': 'https://storage.googleapis.com/calitp-map-tiles/signals_v12_52/study_corridors.geojson.gz',\n",
       "    'properties': {'stroked': False, 'highlight_saturation_multiplier': 0.5}},\n",
       "   {'name': 'Speeds',\n",
       "    'url': 'https://storage.googleapis.com/calitp-map-tiles/signals_v12_52/speeds.geojson.gz',\n",
       "    'properties': {'stroked': False,\n",
       "     'highlight_saturation_multiplier': 0.5,\n",
       "     'tooltip_speed_key': 'p20_mph'},\n",
       "    'type': 'new_speedmap'},\n",
       "   {'name': 'ct_signals',\n",
       "    'url': 'https://storage.googleapis.com/calitp-map-tiles/signals_v12_52/ct_signals.geojson.gz',\n",
       "    'properties': {'stroked': False, 'highlight_saturation_multiplier': 0.5}},\n",
       "   {'name': 'ladot_signals',\n",
       "    'url': 'https://storage.googleapis.com/calitp-map-tiles/signals_v12_52/ladot_signals.geojson.gz',\n",
       "    'properties': {'stroked': False, 'highlight_saturation_multiplier': 0.5}},\n",
       "   {'name': 'Signals with Approach Speeds 2025-09-24',\n",
       "    'url': 'https://storage.googleapis.com/calitp-map-tiles/signals_v12_52/santa_monica_signals.geojson.gz',\n",
       "    'properties': {'stroked': False, 'highlight_saturation_multiplier': 0.5}}],\n",
       "  'lat_lon': [34.048108, -118.4183252],\n",
       "  'zoom': 13,\n",
       "  'legend_url': 'https://storage.googleapis.com/calitp-map-tiles/westside_signals_legend.svg'},\n",
       " 'spa_link': 'https://embeddable-maps.calitp.org/?state=eyJuYW1lIjogIm51bGwiLCAibGF5ZXJzIjogW3sibmFtZSI6ICJTdHVkeSBDb3JyaWRvcnMiLCAidXJsIjogImh0dHBzOi8vc3RvcmFnZS5nb29nbGVhcGlzLmNvbS9jYWxpdHAtbWFwLXRpbGVzL3NpZ25hbHNfdjEyXzUyL3N0dWR5X2NvcnJpZG9ycy5nZW9qc29uLmd6IiwgInByb3BlcnRpZXMiOiB7InN0cm9rZWQiOiBmYWxzZSwgImhpZ2hsaWdodF9zYXR1cmF0aW9uX211bHRpcGxpZXIiOiAwLjV9fSwgeyJuYW1lIjogIlNwZWVkcyIsICJ1cmwiOiAiaHR0cHM6Ly9zdG9yYWdlLmdvb2dsZWFwaXMuY29tL2NhbGl0cC1tYXAtdGlsZXMvc2lnbmFsc192MTJfNTIvc3BlZWRzLmdlb2pzb24uZ3oiLCAicHJvcGVydGllcyI6IHsic3Ryb2tlZCI6IGZhbHNlLCAiaGlnaGxpZ2h0X3NhdHVyYXRpb25fbXVsdGlwbGllciI6IDAuNSwgInRvb2x0aXBfc3BlZWRfa2V5IjogInAyMF9tcGgifSwgInR5cGUiOiAibmV3X3NwZWVkbWFwIn0sIHsibmFtZSI6ICJjdF9zaWduYWxzIiwgInVybCI6ICJodHRwczovL3N0b3JhZ2UuZ29vZ2xlYXBpcy5jb20vY2FsaXRwLW1hcC10aWxlcy9zaWduYWxzX3YxMl81Mi9jdF9zaWduYWxzLmdlb2pzb24uZ3oiLCAicHJvcGVydGllcyI6IHsic3Ryb2tlZCI6IGZhbHNlLCAiaGlnaGxpZ2h0X3NhdHVyYXRpb25fbXVsdGlwbGllciI6IDAuNX19LCB7Im5hbWUiOiAibGFkb3Rfc2lnbmFscyIsICJ1cmwiOiAiaHR0cHM6Ly9zdG9yYWdlLmdvb2dsZWFwaXMuY29tL2NhbGl0cC1tYXAtdGlsZXMvc2lnbmFsc192MTJfNTIvbGFkb3Rfc2lnbmFscy5nZW9qc29uLmd6IiwgInByb3BlcnRpZXMiOiB7InN0cm9rZWQiOiBmYWxzZSwgImhpZ2hsaWdodF9zYXR1cmF0aW9uX211bHRpcGxpZXIiOiAwLjV9fSwgeyJuYW1lIjogIlNpZ25hbHMgd2l0aCBBcHByb2FjaCBTcGVlZHMgMjAyNS0wOS0yNCIsICJ1cmwiOiAiaHR0cHM6Ly9zdG9yYWdlLmdvb2dsZWFwaXMuY29tL2NhbGl0cC1tYXAtdGlsZXMvc2lnbmFsc192MTJfNTIvc2FudGFfbW9uaWNhX3NpZ25hbHMuZ2VvanNvbi5neiIsICJwcm9wZXJ0aWVzIjogeyJzdHJva2VkIjogZmFsc2UsICJoaWdobGlnaHRfc2F0dXJhdGlvbl9tdWx0aXBsaWVyIjogMC41fX1dLCAibGF0X2xvbiI6IFszNC4wNDgxMDgsIC0xMTguNDE4MzI1Ml0sICJ6b29tIjogMTMsICJsZWdlbmRfdXJsIjogImh0dHBzOi8vc3RvcmFnZS5nb29nbGVhcGlzLmNvbS9jYWxpdHAtbWFwLXRpbGVzL3dlc3RzaWRlX3NpZ25hbHNfbGVnZW5kLnN2ZyJ9'}"
      ]
     },
     "execution_count": 17,
     "metadata": {},
     "output_type": "execute_result"
    }
   ],
   "source": [
    "SIGNAL_LEGEND_URL = \"https://storage.googleapis.com/calitp-map-tiles/westside_signals_legend.svg\"\n",
    "signal_folder = \"signals_v12_52/\"\n",
    "\n",
    "# Study corridors\n",
    "study_corridor_map = webmap_utils.set_state_export(\n",
    "    study_corridors_for_display,\n",
    "    subfolder=signal_folder,\n",
    "    filename=\"study_corridors\",\n",
    "    cmap=study_corridor_colormap,\n",
    "    color_col=\"bus_lane\",\n",
    "    map_title=\"Study Corridors\",\n",
    ")\n",
    "\n",
    "# Speeds\n",
    "speedmap = webmap_utils.set_state_export(\n",
    "    arrowized_gdf[[*arrowized_segments_display_columns, arrowized_gdf.geometry.name]],\n",
    "    subfolder=signal_folder,\n",
    "    filename=\"speeds\",\n",
    "    cmap=rt_utils.ACCESS_ZERO_THIRTY_COLORSCALE,\n",
    "    color_col=\"p20_mph\",\n",
    "    cache_seconds=1,\n",
    "    map_type=\"new_speedmap\",\n",
    "    # legend_url=rt_utils.SPEEDMAP_LEGEND_URL,\n",
    "    map_title=\"Speeds\",\n",
    "    existing_state=study_corridor_map[\"state_dict\"],\n",
    ")\n",
    "\n",
    "# Signals\n",
    "# Caltrans\n",
    "caltrans_signal_speedmap = webmap_utils.set_state_export(\n",
    "    caltrans_buffered_signals[caltrans_signals_with_transit_display_columns],\n",
    "    subfolder=signal_folder,\n",
    "    cmap=signal_colorscale,\n",
    "    color_col=\"color_key\",\n",
    "    existing_state=speedmap[\"state_dict\"],\n",
    "    map_title=\"ct_signals\",\n",
    "    filename=\"ct_signals\"\n",
    "    # legend_url=SIGNAL_LEGEND_URL,\n",
    "    # manual_centroid=[34.048108, -118.4183252],\n",
    ")\n",
    "ladot_signal_speedmap = webmap_utils.set_state_export(\n",
    "    ladot_buffered_signals[ladot_signals_with_transit_display_columns],\n",
    "    subfolder=signal_folder,\n",
    "    cmap=signal_colorscale,\n",
    "    color_col=\"color_key\",\n",
    "    existing_state=caltrans_signal_speedmap[\"state_dict\"],\n",
    "    map_title=\"ladot_signals\",\n",
    "    filename=\"ladot_signals\"\n",
    "    # legend_url=SIGNAL_LEGEND_URL,\n",
    "    # manual_centroid=[34.048108, -118.4183252],\n",
    ")\n",
    "santa_monica_signal_speedmap = webmap_utils.set_state_export(\n",
    "    santa_monica_buffered_signals[santa_monica_signals_with_transit_display_columns],\n",
    "    subfolder=signal_folder,\n",
    "    cmap=signal_colorscale,\n",
    "    color_col=\"color_key\",\n",
    "    existing_state=ladot_signal_speedmap[\"state_dict\"],\n",
    "    map_title=f\"Signals with Approach Speeds {TARGET_DATE}\",\n",
    "    filename=\"santa_monica_signals\",\n",
    "    legend_url=SIGNAL_LEGEND_URL,\n",
    "    manual_centroid=[34.048108, -118.4183252],\n",
    ")\n",
    "santa_monica_signal_speedmap"
   ]
  },
  {
   "cell_type": "code",
   "execution_count": 18,
   "id": "93682616-57b2-4ecb-b774-3898d109e1b1",
   "metadata": {
    "tags": []
   },
   "outputs": [
    {
     "data": {
      "text/plain": [
       "0      City of Los Angeles\n",
       "1      City of Los Angeles\n",
       "2      City of Los Angeles\n",
       "3      City of Los Angeles\n",
       "4      City of Los Angeles\n",
       "              ...         \n",
       "189    City of Los Angeles\n",
       "190    City of Los Angeles\n",
       "191    City of Los Angeles\n",
       "192    City of Los Angeles\n",
       "193    City of Los Angeles\n",
       "Name: signal_owner, Length: 194, dtype: object"
      ]
     },
     "execution_count": 18,
     "metadata": {},
     "output_type": "execute_result"
    }
   ],
   "source": [
    "ladot_buffered_signals[SIGNAL_OWNER_NAME]"
   ]
  },
  {
   "cell_type": "markdown",
   "id": "db0ac54c",
   "metadata": {},
   "source": [
    "### Get tabular data (ct signals only)"
   ]
  },
  {
   "cell_type": "code",
   "execution_count": 19,
   "id": "3ca2382b-a453-428e-9da8-115380666a4f",
   "metadata": {},
   "outputs": [
    {
     "ename": "KeyError",
     "evalue": "'organization_name'",
     "output_type": "error",
     "traceback": [
      "\u001b[0;31m---------------------------------------------------------------------------\u001b[0m",
      "\u001b[0;31mKeyError\u001b[0m                                  Traceback (most recent call last)",
      "Cell \u001b[0;32mIn[19], line 2\u001b[0m\n\u001b[1;32m      1\u001b[0m \u001b[38;5;66;03m# Get signal-route grain data\u001b[39;00m\n\u001b[0;32m----> 2\u001b[0m signal_route_group \u001b[38;5;241m=\u001b[39m \u001b[43mcaltrans_sjoined_signals_segments\u001b[49m\u001b[38;5;241;43m.\u001b[39;49m\u001b[43mgroupby\u001b[49m\u001b[43m(\u001b[49m\n\u001b[1;32m      3\u001b[0m \u001b[43m    \u001b[49m\u001b[43m[\u001b[49m\u001b[38;5;124;43m\"\u001b[39;49m\u001b[38;5;124;43mobjectid\u001b[39;49m\u001b[38;5;124;43m\"\u001b[39;49m\u001b[43m,\u001b[49m\u001b[43m \u001b[49m\u001b[38;5;124;43m\"\u001b[39;49m\u001b[38;5;124;43mroute_short_name\u001b[39;49m\u001b[38;5;124;43m\"\u001b[39;49m\u001b[43m,\u001b[49m\u001b[43m \u001b[49m\u001b[38;5;124;43m\"\u001b[39;49m\u001b[38;5;124;43morganization_name\u001b[39;49m\u001b[38;5;124;43m\"\u001b[39;49m\u001b[43m,\u001b[49m\u001b[43m \u001b[49m\u001b[38;5;124;43m\"\u001b[39;49m\u001b[38;5;124;43mdirection_id\u001b[39;49m\u001b[38;5;124;43m\"\u001b[39;49m\u001b[43m]\u001b[49m\n\u001b[1;32m      4\u001b[0m \u001b[43m)\u001b[49m\n\u001b[1;32m      6\u001b[0m signals_routes_frequency \u001b[38;5;241m=\u001b[39m signal_route_group[\u001b[38;5;124m\"\u001b[39m\u001b[38;5;124mtrips_hr_sch\u001b[39m\u001b[38;5;124m\"\u001b[39m]\u001b[38;5;241m.\u001b[39msum()\n\u001b[1;32m      7\u001b[0m merged_signals_routes_frequency \u001b[38;5;241m=\u001b[39m signals_routes_frequency\u001b[38;5;241m.\u001b[39mreset_index()\u001b[38;5;241m.\u001b[39mmerge(\n\u001b[1;32m      8\u001b[0m     caltrans_signals_filtered[\n\u001b[1;32m      9\u001b[0m         [\n\u001b[0;32m   (...)\u001b[0m\n\u001b[1;32m     24\u001b[0m     validate\u001b[38;5;241m=\u001b[39m\u001b[38;5;124m\"\u001b[39m\u001b[38;5;124mmany_to_one\u001b[39m\u001b[38;5;124m\"\u001b[39m,\n\u001b[1;32m     25\u001b[0m )\n",
      "File \u001b[0;32m/opt/conda/lib/python3.11/site-packages/pandas/core/frame.py:8402\u001b[0m, in \u001b[0;36mDataFrame.groupby\u001b[0;34m(self, by, axis, level, as_index, sort, group_keys, squeeze, observed, dropna)\u001b[0m\n\u001b[1;32m   8399\u001b[0m     \u001b[38;5;28;01mraise\u001b[39;00m \u001b[38;5;167;01mTypeError\u001b[39;00m(\u001b[38;5;124m\"\u001b[39m\u001b[38;5;124mYou have to supply one of \u001b[39m\u001b[38;5;124m'\u001b[39m\u001b[38;5;124mby\u001b[39m\u001b[38;5;124m'\u001b[39m\u001b[38;5;124m and \u001b[39m\u001b[38;5;124m'\u001b[39m\u001b[38;5;124mlevel\u001b[39m\u001b[38;5;124m'\u001b[39m\u001b[38;5;124m\"\u001b[39m)\n\u001b[1;32m   8400\u001b[0m axis \u001b[38;5;241m=\u001b[39m \u001b[38;5;28mself\u001b[39m\u001b[38;5;241m.\u001b[39m_get_axis_number(axis)\n\u001b[0;32m-> 8402\u001b[0m \u001b[38;5;28;01mreturn\u001b[39;00m \u001b[43mDataFrameGroupBy\u001b[49m\u001b[43m(\u001b[49m\n\u001b[1;32m   8403\u001b[0m \u001b[43m    \u001b[49m\u001b[43mobj\u001b[49m\u001b[38;5;241;43m=\u001b[39;49m\u001b[38;5;28;43mself\u001b[39;49m\u001b[43m,\u001b[49m\n\u001b[1;32m   8404\u001b[0m \u001b[43m    \u001b[49m\u001b[43mkeys\u001b[49m\u001b[38;5;241;43m=\u001b[39;49m\u001b[43mby\u001b[49m\u001b[43m,\u001b[49m\n\u001b[1;32m   8405\u001b[0m \u001b[43m    \u001b[49m\u001b[43maxis\u001b[49m\u001b[38;5;241;43m=\u001b[39;49m\u001b[43maxis\u001b[49m\u001b[43m,\u001b[49m\n\u001b[1;32m   8406\u001b[0m \u001b[43m    \u001b[49m\u001b[43mlevel\u001b[49m\u001b[38;5;241;43m=\u001b[39;49m\u001b[43mlevel\u001b[49m\u001b[43m,\u001b[49m\n\u001b[1;32m   8407\u001b[0m \u001b[43m    \u001b[49m\u001b[43mas_index\u001b[49m\u001b[38;5;241;43m=\u001b[39;49m\u001b[43mas_index\u001b[49m\u001b[43m,\u001b[49m\n\u001b[1;32m   8408\u001b[0m \u001b[43m    \u001b[49m\u001b[43msort\u001b[49m\u001b[38;5;241;43m=\u001b[39;49m\u001b[43msort\u001b[49m\u001b[43m,\u001b[49m\n\u001b[1;32m   8409\u001b[0m \u001b[43m    \u001b[49m\u001b[43mgroup_keys\u001b[49m\u001b[38;5;241;43m=\u001b[39;49m\u001b[43mgroup_keys\u001b[49m\u001b[43m,\u001b[49m\n\u001b[1;32m   8410\u001b[0m \u001b[43m    \u001b[49m\u001b[43msqueeze\u001b[49m\u001b[38;5;241;43m=\u001b[39;49m\u001b[43msqueeze\u001b[49m\u001b[43m,\u001b[49m\n\u001b[1;32m   8411\u001b[0m \u001b[43m    \u001b[49m\u001b[43mobserved\u001b[49m\u001b[38;5;241;43m=\u001b[39;49m\u001b[43mobserved\u001b[49m\u001b[43m,\u001b[49m\n\u001b[1;32m   8412\u001b[0m \u001b[43m    \u001b[49m\u001b[43mdropna\u001b[49m\u001b[38;5;241;43m=\u001b[39;49m\u001b[43mdropna\u001b[49m\u001b[43m,\u001b[49m\n\u001b[1;32m   8413\u001b[0m \u001b[43m\u001b[49m\u001b[43m)\u001b[49m\n",
      "File \u001b[0;32m/opt/conda/lib/python3.11/site-packages/pandas/core/groupby/groupby.py:965\u001b[0m, in \u001b[0;36mGroupBy.__init__\u001b[0;34m(self, obj, keys, axis, level, grouper, exclusions, selection, as_index, sort, group_keys, squeeze, observed, mutated, dropna)\u001b[0m\n\u001b[1;32m    962\u001b[0m \u001b[38;5;28;01mif\u001b[39;00m grouper \u001b[38;5;129;01mis\u001b[39;00m \u001b[38;5;28;01mNone\u001b[39;00m:\n\u001b[1;32m    963\u001b[0m     \u001b[38;5;28;01mfrom\u001b[39;00m\u001b[38;5;250m \u001b[39m\u001b[38;5;21;01mpandas\u001b[39;00m\u001b[38;5;21;01m.\u001b[39;00m\u001b[38;5;21;01mcore\u001b[39;00m\u001b[38;5;21;01m.\u001b[39;00m\u001b[38;5;21;01mgroupby\u001b[39;00m\u001b[38;5;21;01m.\u001b[39;00m\u001b[38;5;21;01mgrouper\u001b[39;00m\u001b[38;5;250m \u001b[39m\u001b[38;5;28;01mimport\u001b[39;00m get_grouper\n\u001b[0;32m--> 965\u001b[0m     grouper, exclusions, obj \u001b[38;5;241m=\u001b[39m \u001b[43mget_grouper\u001b[49m\u001b[43m(\u001b[49m\n\u001b[1;32m    966\u001b[0m \u001b[43m        \u001b[49m\u001b[43mobj\u001b[49m\u001b[43m,\u001b[49m\n\u001b[1;32m    967\u001b[0m \u001b[43m        \u001b[49m\u001b[43mkeys\u001b[49m\u001b[43m,\u001b[49m\n\u001b[1;32m    968\u001b[0m \u001b[43m        \u001b[49m\u001b[43maxis\u001b[49m\u001b[38;5;241;43m=\u001b[39;49m\u001b[43maxis\u001b[49m\u001b[43m,\u001b[49m\n\u001b[1;32m    969\u001b[0m \u001b[43m        \u001b[49m\u001b[43mlevel\u001b[49m\u001b[38;5;241;43m=\u001b[39;49m\u001b[43mlevel\u001b[49m\u001b[43m,\u001b[49m\n\u001b[1;32m    970\u001b[0m \u001b[43m        \u001b[49m\u001b[43msort\u001b[49m\u001b[38;5;241;43m=\u001b[39;49m\u001b[43msort\u001b[49m\u001b[43m,\u001b[49m\n\u001b[1;32m    971\u001b[0m \u001b[43m        \u001b[49m\u001b[43mobserved\u001b[49m\u001b[38;5;241;43m=\u001b[39;49m\u001b[43mobserved\u001b[49m\u001b[43m,\u001b[49m\n\u001b[1;32m    972\u001b[0m \u001b[43m        \u001b[49m\u001b[43mmutated\u001b[49m\u001b[38;5;241;43m=\u001b[39;49m\u001b[38;5;28;43mself\u001b[39;49m\u001b[38;5;241;43m.\u001b[39;49m\u001b[43mmutated\u001b[49m\u001b[43m,\u001b[49m\n\u001b[1;32m    973\u001b[0m \u001b[43m        \u001b[49m\u001b[43mdropna\u001b[49m\u001b[38;5;241;43m=\u001b[39;49m\u001b[38;5;28;43mself\u001b[39;49m\u001b[38;5;241;43m.\u001b[39;49m\u001b[43mdropna\u001b[49m\u001b[43m,\u001b[49m\n\u001b[1;32m    974\u001b[0m \u001b[43m    \u001b[49m\u001b[43m)\u001b[49m\n\u001b[1;32m    976\u001b[0m \u001b[38;5;28mself\u001b[39m\u001b[38;5;241m.\u001b[39mobj \u001b[38;5;241m=\u001b[39m obj\n\u001b[1;32m    977\u001b[0m \u001b[38;5;28mself\u001b[39m\u001b[38;5;241m.\u001b[39maxis \u001b[38;5;241m=\u001b[39m obj\u001b[38;5;241m.\u001b[39m_get_axis_number(axis)\n",
      "File \u001b[0;32m/opt/conda/lib/python3.11/site-packages/pandas/core/groupby/grouper.py:888\u001b[0m, in \u001b[0;36mget_grouper\u001b[0;34m(obj, key, axis, level, sort, observed, mutated, validate, dropna)\u001b[0m\n\u001b[1;32m    886\u001b[0m         in_axis, level, gpr \u001b[38;5;241m=\u001b[39m \u001b[38;5;28;01mFalse\u001b[39;00m, gpr, \u001b[38;5;28;01mNone\u001b[39;00m\n\u001b[1;32m    887\u001b[0m     \u001b[38;5;28;01melse\u001b[39;00m:\n\u001b[0;32m--> 888\u001b[0m         \u001b[38;5;28;01mraise\u001b[39;00m \u001b[38;5;167;01mKeyError\u001b[39;00m(gpr)\n\u001b[1;32m    889\u001b[0m \u001b[38;5;28;01melif\u001b[39;00m \u001b[38;5;28misinstance\u001b[39m(gpr, Grouper) \u001b[38;5;129;01mand\u001b[39;00m gpr\u001b[38;5;241m.\u001b[39mkey \u001b[38;5;129;01mis\u001b[39;00m \u001b[38;5;129;01mnot\u001b[39;00m \u001b[38;5;28;01mNone\u001b[39;00m:\n\u001b[1;32m    890\u001b[0m     \u001b[38;5;66;03m# Add key to exclusions\u001b[39;00m\n\u001b[1;32m    891\u001b[0m     exclusions\u001b[38;5;241m.\u001b[39madd(gpr\u001b[38;5;241m.\u001b[39mkey)\n",
      "\u001b[0;31mKeyError\u001b[0m: 'organization_name'"
     ]
    }
   ],
   "source": [
    "# Get signal-route grain data\n",
    "signal_route_group = caltrans_sjoined_signals_segments.groupby(\n",
    "    [\"objectid\", \"route_short_name\", \"organization_name\", \"direction_id\"]\n",
    ")\n",
    "\n",
    "signals_routes_frequency = signal_route_group[\"trips_hr_sch\"].sum()\n",
    "merged_signals_routes_frequency = signals_routes_frequency.reset_index().merge(\n",
    "    caltrans_signals_filtered[\n",
    "        [\n",
    "            \"tms_unit_type\",\n",
    "            \"asset_sub_type\",\n",
    "            \"location\",\n",
    "            \"tms_id\",\n",
    "            \"imms_id\",\n",
    "            \"delegation_type\",\n",
    "            \"leased_owned\",\n",
    "            \"comment\",\n",
    "            \"geometry\",\n",
    "        ]\n",
    "    ],\n",
    "    how=\"left\",\n",
    "    left_on=\"objectid\",\n",
    "    right_index=True,\n",
    "    validate=\"many_to_one\",\n",
    ")\n",
    "merged_geometry = gpd.GeoSeries(merged_signals_routes_frequency[\"geometry\"]).to_crs(\n",
    "    geography_utils.WGS84\n",
    ")\n",
    "merged_signals_routes_frequency[\"latitude\"] = merged_geometry.y.round(5)\n",
    "merged_signals_routes_frequency[\"longitude\"] = merged_geometry.x.round(5)\n",
    "merged_signals_routes_frequency.drop(\"geometry\", axis=1).to_csv(\n",
    "    \"signals_routes.csv\", index=False\n",
    ")"
   ]
  },
  {
   "cell_type": "code",
   "execution_count": null,
   "id": "4642c5ac-a829-4be3-8afa-e0e0a007c3f9",
   "metadata": {
    "tags": []
   },
   "outputs": [],
   "source": [
    "# Save signal-grain data to a csv\n",
    "caltrans_signals_with_transit_metrics[\"latitude\"] = caltrans_signals_with_transit_metrics.geometry.y.round(5)\n",
    "caltrans_signals_with_transit_metrics[\"longitude\"] = caltrans_signals_with_transit_metrics.geometry.x.round(5)\n",
    "caltrans_signals_with_transit_metrics.rename(columns={\"trips_hr_sch\": \"Trips/Hour\"})[\n",
    "    [\n",
    "        \"tms_unit_type\",\n",
    "        \"route_names_aggregated\",\n",
    "        \"organization_names_aggregated\",\n",
    "        \"Trips/Hour\",\n",
    "        \"latitude\", \n",
    "        \"longitude\",\n",
    "        \"comment\",\n",
    "        \"tms_id\",\n",
    "        \"imms_id\",\n",
    "        \"delegation_type\",\n",
    "    ]\n",
    "].to_csv(\"signals_aggregated.csv\")"
   ]
  }
 ],
 "metadata": {
  "kernelspec": {
   "display_name": "Python 3 (ipykernel)",
   "language": "python",
   "name": "python3"
  },
  "language_info": {
   "codemirror_mode": {
    "name": "ipython",
    "version": 3
   },
   "file_extension": ".py",
   "mimetype": "text/x-python",
   "name": "python",
   "nbconvert_exporter": "python",
   "pygments_lexer": "ipython3",
   "version": "3.11.10"
  },
  "toc-showtags": false
 },
 "nbformat": 4,
 "nbformat_minor": 5
}
