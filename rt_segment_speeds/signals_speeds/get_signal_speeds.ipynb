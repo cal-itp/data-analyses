{
 "cells": [
  {
   "cell_type": "markdown",
   "id": "69e07184-92bc-4f84-ac1e-201064c2905d",
   "metadata": {},
   "source": [
    "#### Introduction\n",
    "\n",
    "This notebook creates maps and tables to determine the transit service at or near traffic signals. Currently, only signals on the State Highway Network (SHN) are shown.\n",
    "\n",
    "#### How to use\n",
    "On the calitp Jupyterhub, import `shared_utils` and authenticate to GCS.\n",
    "\n",
    "#### Technical details\n",
    "- Signal data is sourced from HQ Traffic Ops GIS, downloaded on 2025-09-08.\n",
    "Segment data is calculated based on GTFS data collected by DDS for the selected targed date\n",
    "- Routes are associated with a signal if they run within 155 meters of the signal. \n",
    "- Speeds and frequencies are defined based on data in the morning peak (7a-10a). Displayed speeds are the 20th percentile speeds.\n",
    "- Network lines are based on data provided by Rebel. They are manually drawn, and do not strictly represent transit routes.\n",
    "- Detailed speeds methodology is available at https://analysis.dds.dot.ca.gov/rt/README.html\n",
    "\n",
    "#### Outputs\n",
    "- Signal Map\n",
    "  - Segments\n",
    "    - 20th percentile speeds\n",
    "    - Average frequencies\n",
    "  - Signals\n",
    "    - Unit Type\n",
    "    - Aggregated data from 155 m to the signal\n",
    "    - Route names (from `route_short_name`)\n",
    "    - Organization names (from `organization_name`)\n",
    "    - Total trips per hour, in both directions\n",
    "    - IMMS ID\n",
    "    - TMS ID\n",
    "    - Delegation Type (describes whether a signal is owned/operated/maintaned by Caltrans or a local gov)\n",
    "- Signal-Grain CSV\n",
    "  - `signals_aggregated.csv`\n",
    "    - Same data as in the interactive map\n",
    "    - Additionally, the ArcGIS objectid is present to serve as a unique identifier\n",
    "  - `signals_routes.csv`\n",
    "    - One row for each route in each direction within 155 meters of each signal\n",
    "    - Objectid\n",
    "    - Route name\n",
    "    - Organization name\n",
    "    - Trips per hour in the chosen direction\n",
    "    - TMS id\n",
    "    - IMMS id\n",
    "    - Delegation Type\n",
    "    - Leased / Owned (whether the equipment is leased or owned by Caltrans)\n",
    "    - Traffic Ops Comments\n",
    "    \n",
    "    \n",
    "    "
   ]
  },
  {
   "cell_type": "code",
   "execution_count": null,
   "id": "62c41603-33eb-4a87-9b40-200e1b81d4a1",
   "metadata": {
    "tags": []
   },
   "outputs": [],
   "source": [
    "import branca\n",
    "import geopandas as gpd\n",
    "from calitp_data_analysis import gcs_geopandas, geography_utils\n",
    "from shared_utils import catalog_utils, rt_dates, rt_utils, webmap_utils\n",
    "from signal_tools import (\n",
    "    add_transit_metrics_to_signals,\n",
    "    clean_sjoin_signals_segments,\n",
    "    filter_points_along_corridor,\n",
    "    ready_signals_for_display,\n",
    "    ready_speedmap_segments_for_display,\n",
    ")\n",
    "from uris import (\n",
    "    CALTRANS_INTERNAL_SIGNAL_URI,\n",
    "    LOS_ANGELES_OPEN_SIGNAL_URI,\n",
    "    SANTA_MONICA_OPEN_SIGNAL_URI,\n",
    ")"
   ]
  },
  {
   "cell_type": "code",
   "execution_count": null,
   "id": "892ffbd9-d0bf-45f8-8edc-ed353a1d0251",
   "metadata": {
    "tags": []
   },
   "outputs": [],
   "source": [
    "# constants\n",
    "TARGET_DATE = rt_dates.DATES[\"jul2025\"]\n",
    "TARGET_TIME_OF_DAY = \"AM Peak\"\n",
    "ANALYSIS_DISTRICT_NUMBER = 7\n",
    "TARGET_TIME_OF_DAY_LENGTH_HOURS = (\n",
    "    3  # the length of the target time of day (3 hours for am peak)\n",
    ")\n",
    "SJOIN_DISTANCE_METERS = 155"
   ]
  },
  {
   "cell_type": "code",
   "execution_count": null,
   "id": "37ca5745-517a-4fdb-97f1-ccbaf5101139",
   "metadata": {},
   "outputs": [],
   "source": [
    "# read geo files\n",
    "shared_data_catalog = catalog_utils.get_catalog(\"shared_data_catalog\")\n",
    "gtfs_data_constants = catalog_utils.get_catalog(\"gtfs_analytics_data\")\n",
    "\n",
    "# Get district polygons to mask\n",
    "districts = shared_data_catalog.caltrans_districts.read()\n",
    "analysis_district = districts.loc[districts[\"DISTRICT\"] == ANALYSIS_DISTRICT_NUMBER]"
   ]
  },
  {
   "cell_type": "code",
   "execution_count": null,
   "id": "e71d4835-b379-40d5-8eee-5d109dd53c2d",
   "metadata": {
    "tags": []
   },
   "outputs": [],
   "source": [
    "g = gcs_geopandas.GCSGeoPandas()"
   ]
  },
  {
   "cell_type": "markdown",
   "id": "e3b89c07-0854-478c-8239-b8714647a180",
   "metadata": {},
   "source": [
    "### Get Signal Data"
   ]
  },
  {
   "cell_type": "code",
   "execution_count": null,
   "id": "e97cca81-bce1-4197-8d73-3f1d09ddbf9e",
   "metadata": {},
   "outputs": [],
   "source": [
    "# Get signal data from Caltrans Traffic Ops Data\n",
    "caltrans_signals = (\n",
    "    g.read_file(\n",
    "        CALTRANS_INTERNAL_SIGNAL_URI,\n",
    "    )\n",
    "    .rename(columns=lambda s: s.lower())\n",
    "    .clip(analysis_district)\n",
    ")  # we want columns to be all lower case\n",
    "# Filter out devices that aren't actually caltrans_signals\n",
    "caltrans_signals_filtered = caltrans_signals.loc[\n",
    "    caltrans_signals[\"tms_unit_type\"] == \"Traffic Signals\"\n",
    "].set_index(\"objectid\")"
   ]
  },
  {
   "cell_type": "code",
   "execution_count": null,
   "id": "4cd13178",
   "metadata": {},
   "outputs": [],
   "source": [
    "# Get signal data from LADOT Open Data"
   ]
  },
  {
   "cell_type": "code",
   "execution_count": null,
   "id": "a3b3c894-c6cf-40a9-bef3-fe8cd9f81323",
   "metadata": {},
   "outputs": [],
   "source": [
    "# Get signal data from Santa Monica Open Data"
   ]
  },
  {
   "cell_type": "markdown",
   "id": "b0da648d",
   "metadata": {},
   "source": [
    "### Get Speedmaps"
   ]
  },
  {
   "cell_type": "code",
   "execution_count": null,
   "id": "1b28b291",
   "metadata": {},
   "outputs": [],
   "source": [
    "# Get speedmap data\n",
    "speedmap_segments = g.read_parquet(\n",
    "    f\"{gtfs_data_constants.speedmap_segments.dir}{gtfs_data_constants.speedmap_segments.segment_timeofday}_{TARGET_DATE}.parquet\",\n",
    "    filters=[\n",
    "        (\"time_of_day\", \"=\", TARGET_TIME_OF_DAY)\n",
    "    ],  # Filter for only a selected time of day\n",
    ").clip(analysis_district)"
   ]
  },
  {
   "cell_type": "markdown",
   "id": "c0a4399c",
   "metadata": {},
   "source": [
    "### Merge signal and speedmap info"
   ]
  },
  {
   "cell_type": "code",
   "execution_count": null,
   "id": "74388f24-aab5-404a-98c0-9e9361358703",
   "metadata": {
    "tags": []
   },
   "outputs": [],
   "source": [
    "sjoined_signals_segments = clean_sjoin_signals_segments(\n",
    "    signals_gdf=caltrans_signals_filtered,\n",
    "    speedmap_segments_gdf=speedmap_segments,\n",
    "    buffer_distance=SJOIN_DISTANCE_METERS,\n",
    ")\n",
    "signals_with_transit_metrics = add_transit_metrics_to_signals(\n",
    "    signals_gdf=caltrans_signals_filtered,\n",
    "    sjoined_signals_segments=sjoined_signals_segments,\n",
    ")"
   ]
  },
  {
   "cell_type": "markdown",
   "id": "8d45fc12",
   "metadata": {},
   "source": [
    "### Get GDFs formatted for display on the webmap"
   ]
  },
  {
   "cell_type": "code",
   "execution_count": null,
   "id": "9c759c77-3ee2-434b-b9f1-db0fa2adcc19",
   "metadata": {
    "tags": []
   },
   "outputs": [],
   "source": [
    "# Segment GDF\n",
    "arrowized_gdf = ready_speedmap_segments_for_display(sjoined_signals_segments)\n",
    "# Signal GDF\n",
    "buffered_signals = ready_signals_for_display(\n",
    "    signals_with_transit_metrics, buffer_distance=50\n",
    ")"
   ]
  },
  {
   "cell_type": "code",
   "execution_count": null,
   "id": "239f73d5-ddf9-460d-94a1-6c6ddae97046",
   "metadata": {
    "tags": []
   },
   "outputs": [],
   "source": [
    "# Define columns to include\n",
    "signals_with_transit_display_columns = [\n",
    "    \"tms_unit_type\",\n",
    "    \"route_names_aggregated\",\n",
    "    \"organization_names_aggregated\",\n",
    "    \"Trips/Hour\",\n",
    "    # \"asset_sub_type\",\n",
    "    \"tms_id\",\n",
    "    \"imms_id\",\n",
    "    \"delegation_type\",\n",
    "    # \"leased_owned\",\n",
    "    # \"comment\",\n",
    "    caltrans_signals_filtered.geometry.name,\n",
    "]\n",
    "arrowized_segments_display_columns = [\n",
    "    \"trips_hr_sch\",\n",
    "    \"p50_mph\",\n",
    "    \"p20_mph\",\n",
    "    \"p80_mph\",\n",
    "    \"route_short_name\",\n",
    "    \"stop_pair_name\",\n",
    "    \"segment_id\",\n",
    "    \"route_id\",\n",
    "    \"shape_id\",\n",
    "    arrowized_gdf.geometry.name,\n",
    "]"
   ]
  },
  {
   "cell_type": "code",
   "execution_count": null,
   "id": "feafd4ab-e70c-46f8-b5fc-fa0b6f24bee3",
   "metadata": {
    "tags": []
   },
   "outputs": [],
   "source": [
    "# Get study corridors to add onto the map\n",
    "study_corridors = gpd.read_file(\"study_corridors_lines.geojson\")\n",
    "study_corridors[\"bus_lane\"] = study_corridors[\"bus_lane\"].fillna(0)\n",
    "study_corridors.geometry = study_corridors.to_crs(\n",
    "    geography_utils.CA_NAD83Albers_m\n",
    ").buffer(100, cap_style=\"flat\")\n",
    "# Get colormap based on whether the analysis segment is a bus lane\n",
    "DDS_GREY = \"#d9d9d6\"\n",
    "DDS_BLUE = \"#b1e4e3\"\n",
    "study_corridor_colormap = branca.colormap.StepColormap(\n",
    "    colors=[DDS_GREY, DDS_BLUE], index=[0, 1]\n",
    ")"
   ]
  },
  {
   "cell_type": "markdown",
   "id": "2a12aedd",
   "metadata": {},
   "source": [
    "### Create webmap"
   ]
  },
  {
   "cell_type": "code",
   "execution_count": null,
   "id": "d3684c8b-b5af-4b89-a953-e21a26f9fdc3",
   "metadata": {
    "tags": []
   },
   "outputs": [],
   "source": [
    "SIGNAL_LEGEND_URL = \"https://storage.googleapis.com/calitp-map-tiles/signal_legend.svg\"\n",
    "signal_colorscale = branca.colormap.step.Purples_05.scale(\n",
    "    vmin=0, vmax=sjoined_signals_segments[\"trips_hr_sch\"].max()\n",
    ")\n",
    "signal_folder = \"signals_v12_34/\"\n",
    "# Study corridors\n",
    "study_corridor_map = webmap_utils.set_state_export(\n",
    "    study_corridors,\n",
    "    subfolder=signal_folder,\n",
    "    filename=\"study_corridors\",\n",
    "    cmap=study_corridor_colormap,\n",
    "    color_col=\"bus_lane\",\n",
    "    map_title=\"Study Corridors\",\n",
    ")\n",
    "# Speeds\n",
    "speedmap = webmap_utils.set_state_export(\n",
    "    arrowized_gdf[arrowized_segments_display_columns],\n",
    "    subfolder=signal_folder,\n",
    "    filename=\"speeds\",\n",
    "    cmap=rt_utils.ACCESS_ZERO_THIRTY_COLORSCALE,\n",
    "    color_col=\"p20_mph\",\n",
    "    cache_seconds=1,\n",
    "    map_type=\"new_speedmap\",\n",
    "    legend_url=rt_utils.SPEEDMAP_LEGEND_URL,\n",
    "    map_title=\"Speeds\",\n",
    "    existing_state=study_corridor_map[\"state_dict\"],\n",
    ")\n",
    "# Signals\n",
    "signal_speedmap = webmap_utils.set_state_export(\n",
    "    buffered_signals[signals_with_transit_display_columns],\n",
    "    subfolder=signal_folder,\n",
    "    cmap=signal_colorscale,\n",
    "    color_col=\"Trips/Hour\",\n",
    "    existing_state=speedmap[\"state_dict\"],\n",
    "    map_title=f\"Signals with Approach Speeds {TARGET_DATE}\",\n",
    "    # legend_url=SIGNAL_LEGEND_URL,\n",
    "    manual_centroid=[34.048108, -118.4183252],\n",
    ")\n",
    "signal_speedmap"
   ]
  },
  {
   "cell_type": "markdown",
   "id": "db0ac54c",
   "metadata": {},
   "source": [
    "### Get tabular data"
   ]
  },
  {
   "cell_type": "code",
   "execution_count": null,
   "id": "3ca2382b-a453-428e-9da8-115380666a4f",
   "metadata": {},
   "outputs": [],
   "source": [
    "# Get signal-route grain data\n",
    "signal_route_group = signals_segments_removed_duplicates.groupby(\n",
    "    [\"objectid\", \"route_short_name\", \"organization_name\", \"direction_id\"]\n",
    ")\n",
    "\n",
    "signals_routes_frequency = signal_route_group[\"trips_hr_sch\"].sum()\n",
    "merged_signals_routes_frequency = signals_routes_frequency.reset_index().merge(\n",
    "    caltrans_signals_filtered[\n",
    "        [\n",
    "            \"tms_unit_type\",\n",
    "            \"asset_sub_type\",\n",
    "            \"location\",\n",
    "            \"tms_id\",\n",
    "            \"imms_id\",\n",
    "            \"delegation_type\",\n",
    "            \"leased_owned\",\n",
    "            \"comment\",\n",
    "            \"geometry\",\n",
    "        ]\n",
    "    ],\n",
    "    how=\"left\",\n",
    "    left_on=\"objectid\",\n",
    "    right_index=True,\n",
    "    validate=\"many_to_one\",\n",
    ")\n",
    "merged_geometry = gpd.GeoSeries(merged_signals_routes_frequency[\"geometry\"]).to_crs(\n",
    "    geography_utils.WGS84\n",
    ")\n",
    "merged_signals_routes_frequency[\"latitude\"] = merged_geometry.y.round(5)\n",
    "merged_signals_routes_frequency[\"longitude\"] = merged_geometry.x.round(5)\n",
    "merged_signals_routes_frequency.drop(\"geometry\", axis=1).to_csv(\n",
    "    \"signals_routes.csv\", index=False\n",
    ")"
   ]
  },
  {
   "cell_type": "code",
   "execution_count": null,
   "id": "b47f4bdf-48d5-4c97-907a-79ef986a1217",
   "metadata": {
    "tags": []
   },
   "outputs": [],
   "source": [
    "buffered_signals.head()[\"Trips/Hour\"]"
   ]
  },
  {
   "cell_type": "code",
   "execution_count": null,
   "id": "4642c5ac-a829-4be3-8afa-e0e0a007c3f9",
   "metadata": {
    "tags": []
   },
   "outputs": [],
   "source": [
    "# Save signal-grain data to a csv\n",
    "caltrans_signals_filtered[\"latitude\"] = caltrans_signals_filtered.geometry.y.round(5)\n",
    "caltrans_signals_filtered[\"longitude\"] = caltrans_signals_filtered.geometry.x.round(5)\n",
    "caltrans_signals_filtered.rename(columns={\"trips_hr_sch\": \"Trips/Hour\"})[\n",
    "    [*signals_with_transit_display_columns, \"latitude\", \"longitude\", \"comment\"]\n",
    "].drop(caltrans_signals_filtered.geometry.name, axis=1).to_csv(\"signals_aggregated.csv\")"
   ]
  },
  {
   "cell_type": "code",
   "execution_count": null,
   "id": "ff49baf2-6875-4b44-b50a-75c2e289047b",
   "metadata": {
    "tags": []
   },
   "outputs": [],
   "source": [
    "caltrans_signals_filtered[\"latitude\"]"
   ]
  },
  {
   "cell_type": "code",
   "execution_count": null,
   "id": "1a251021-2216-4bda-b7ef-2f751bc7cd47",
   "metadata": {},
   "outputs": [],
   "source": []
  }
 ],
 "metadata": {
  "kernelspec": {
   "display_name": "Python 3 (ipykernel)",
   "language": "python",
   "name": "python3"
  },
  "language_info": {
   "codemirror_mode": {
    "name": "ipython",
    "version": 3
   },
   "file_extension": ".py",
   "mimetype": "text/x-python",
   "name": "python",
   "nbconvert_exporter": "python",
   "pygments_lexer": "ipython3",
   "version": "3.11.10"
  },
  "toc-showtags": false
 },
 "nbformat": 4,
 "nbformat_minor": 5
}
