{
 "cells": [
  {
   "cell_type": "markdown",
   "id": "c016d7f0-6e04-4707-9d48-1a6b14bfd50c",
   "metadata": {},
   "source": [
    "# Explore `projected_shape_meters`\n",
    "\n",
    "* Now that `map_partitions` gets us `shape_meters` in 5 min, let's use it as much as we can\n",
    "* Spot check that if `loop_or_inlining==0`, we can just use this and go on\n",
    "* `loop_or_inlining==1` can pose challenges, so figure out a way to bring in direction (either through normalized x, y direction vector) or readable direction\n",
    "* Loop or inlining segments have proven hard to cut successfully overall, and the last bit may never be fixed. If we can use direction, it may be a bit more robust.\n",
    "* Speed can be calculated either within a segment or using endpoints, and we should opt for a simpler, streamlined approach that's performant. \n",
    "* For normal shapes, we might be able to fill in the RT `stop_times` table while we're at it."
   ]
  },
  {
   "cell_type": "code",
   "execution_count": null,
   "id": "73ced776-d521-4467-beb4-8d67d147aea4",
   "metadata": {},
   "outputs": [],
   "source": [
    "import altair as alt\n",
    "import dask.dataframe as dd\n",
    "import geopandas as gpd\n",
    "import numpy as np\n",
    "import pandas as pd\n",
    "\n",
    "from segment_speed_utils import helpers\n",
    "from segment_speed_utils.project_vars import SEGMENT_GCS, PROJECT_CRS\n",
    "from shared_utils import rt_dates\n",
    "\n",
    "analysis_date = rt_dates.DATES[\"sep2023\"]"
   ]
  },
  {
   "cell_type": "code",
   "execution_count": null,
   "id": "c289f689-c0fe-4ea2-9e14-4e80f77566ae",
   "metadata": {},
   "outputs": [],
   "source": [
    "# Get RT trips\n",
    "rt_trips = pd.read_parquet(\n",
    "    f\"{SEGMENT_GCS}vp_usable_{analysis_date}\",\n",
    "    columns = [\"trip_instance_key\"]\n",
    ").drop_duplicates()\n",
    "\n",
    "# Find the shape_array_key for RT trips\n",
    "trip_to_shape = helpers.import_scheduled_trips(\n",
    "    analysis_date,\n",
    "    columns = [\"trip_instance_key\", \"shape_array_key\"],\n",
    "    get_pandas = True\n",
    ").merge(\n",
    "    rt_trips,\n",
    "    on = \"trip_instance_key\",\n",
    "    how = \"inner\"\n",
    ")\n",
    "\n",
    "# Find whether it's loop or inlining\n",
    "shapes_loop_inlining = pd.read_parquet(\n",
    "    f\"{SEGMENT_GCS}stop_segments_{analysis_date}.parquet\",\n",
    "    columns = [\"shape_array_key\", \"loop_or_inlining\"]\n",
    ").drop_duplicates().merge(\n",
    "    trip_to_shape,\n",
    "    on = \"shape_array_key\",\n",
    "    how = \"inner\"\n",
    ")"
   ]
  },
  {
   "cell_type": "code",
   "execution_count": null,
   "id": "1b0ba620-e24e-4197-b665-c6111ad03307",
   "metadata": {},
   "outputs": [],
   "source": [
    "ok_trips = (shapes_loop_inlining[\n",
    "    shapes_loop_inlining.loop_or_inlining==0]\n",
    "            .sample(25).trip_instance_key.tolist()\n",
    "           )\n",
    "\n",
    "ok_trips"
   ]
  },
  {
   "cell_type": "code",
   "execution_count": null,
   "id": "b95e35da-cf34-4696-80a1-0ab3a9e99ebf",
   "metadata": {},
   "outputs": [],
   "source": [
    "loopy_trips = (shapes_loop_inlining[\n",
    "    shapes_loop_inlining.loop_or_inlining==1]\n",
    "            .sample(25).trip_instance_key.tolist()\n",
    "           )\n",
    "\n",
    "loopy_trips"
   ]
  },
  {
   "cell_type": "code",
   "execution_count": null,
   "id": "276cab58-94ff-4f72-a651-88a4f1ea890a",
   "metadata": {},
   "outputs": [],
   "source": [
    "subset_trips = ok_trips + loopy_trips\n",
    "\n",
    "projected_shape_meters = pd.read_parquet(\n",
    "    f\"{SEGMENT_GCS}projection/vp_projected_{analysis_date}.parquet\"\n",
    ")\n",
    "\n",
    "vp = pd.read_parquet(\n",
    "    f\"{SEGMENT_GCS}vp_usable_{analysis_date}\",\n",
    "    filters = [[(\"trip_instance_key\", \"in\", subset_trips)]]\n",
    ").merge(\n",
    "    projected_shape_meters,\n",
    "    on = \"vp_idx\",\n",
    "    how = \"inner\"\n",
    ").drop(columns = \"location_timestamp\")"
   ]
  },
  {
   "cell_type": "code",
   "execution_count": null,
   "id": "9d8f339f-f832-45f2-9f2c-f96125799a38",
   "metadata": {},
   "outputs": [],
   "source": [
    "def plot_shape_meters(df: pd.DataFrame, one_trip: str):\n",
    "    \"\"\"\n",
    "    Plot how the projected shape meters looks for one trip.\n",
    "    \n",
    "    vp_idx is ordered by timestamp, use as x.\n",
    "    \"\"\"\n",
    "    subset_df = df[df.trip_instance_key==one_trip]\n",
    "    \n",
    "    print(f\"{subset_df.gtfs_dataset_name.iloc[0]}\")\n",
    "    print(f\"trip_instance_key: {one_trip}, trip_id: {subset_df.trip_id.iloc[0]}\")\n",
    "    \n",
    "    chart = (alt.Chart(subset_df)\n",
    "             .mark_line()\n",
    "             .encode(\n",
    "                 x=\"vp_idx\",\n",
    "                 y=\"shape_meters:Q\"\n",
    "             )\n",
    "            )\n",
    "       \n",
    "    display(chart)\n"
   ]
  },
  {
   "cell_type": "code",
   "execution_count": null,
   "id": "6aaf6652-307b-41ba-9059-72ae010b7928",
   "metadata": {},
   "outputs": [],
   "source": [
    "for t in ok_trips:\n",
    "    plot_shape_meters(vp, t)"
   ]
  },
  {
   "cell_type": "code",
   "execution_count": null,
   "id": "284fb053-ffc9-411a-ab46-82f6cfb08af1",
   "metadata": {},
   "outputs": [],
   "source": [
    "for t in loopy_trips:\n",
    "    plot_shape_meters(vp, t)"
   ]
  },
  {
   "cell_type": "code",
   "execution_count": null,
   "id": "ced6dbff-008e-4ccf-b284-cc1d79d3e801",
   "metadata": {},
   "outputs": [],
   "source": [
    "speed = pd.read_parquet(\n",
    "    f\"{SEGMENT_GCS}speeds_comparison_{analysis_date}.parquet\"\n",
    ")"
   ]
  },
  {
   "cell_type": "code",
   "execution_count": null,
   "id": "8243b13f-323b-4b0f-8fff-75cd2837d165",
   "metadata": {},
   "outputs": [],
   "source": [
    "trip = \"10096002510743-JUNE23\"\n",
    "speed[speed.trip_id==trip]"
   ]
  },
  {
   "cell_type": "code",
   "execution_count": null,
   "id": "394956b9-a02c-4b7d-b604-3775c4e55a51",
   "metadata": {},
   "outputs": [],
   "source": [
    "metro_trip = helpers.import_scheduled_trips(\n",
    "    analysis_date,\n",
    "    columns = [\"trip_instance_key\", \"trip_id\"],\n",
    "    filters = [[(\"trip_id\", \"==\", trip)]],\n",
    "    get_pandas = True\n",
    ")\n",
    "\n",
    "trip_key = metro_trip.trip_instance_key.iloc[0]"
   ]
  },
  {
   "cell_type": "code",
   "execution_count": null,
   "id": "5c5b8f1d-6571-4072-a9ea-dc1c36173453",
   "metadata": {},
   "outputs": [],
   "source": [
    "vp_pared = pd.read_parquet(\n",
    "    f\"{SEGMENT_GCS}vp_pared_stops_{analysis_date}\",\n",
    "    filters = [[(\"trip_instance_key\", \"==\", trip_key)]])"
   ]
  },
  {
   "cell_type": "code",
   "execution_count": null,
   "id": "c83f420e-99a2-40d8-b3ef-5d13f68b4226",
   "metadata": {},
   "outputs": [],
   "source": [
    "# 27:13, 27:56  *  29:14, 29:52, * 30:13\n",
    "vp_pared[vp_pared.stop_sequence==36]"
   ]
  },
  {
   "cell_type": "code",
   "execution_count": null,
   "id": "145ac1ce-93a7-4abb-b72b-977541a98163",
   "metadata": {},
   "outputs": [],
   "source": [
    "metro_trip"
   ]
  },
  {
   "cell_type": "code",
   "execution_count": null,
   "id": "0a950ad3-a1bd-4f6f-b7ff-6ee95ffbf8e2",
   "metadata": {},
   "outputs": [],
   "source": []
  }
 ],
 "metadata": {
  "kernelspec": {
   "display_name": "Python 3 (ipykernel)",
   "language": "python",
   "name": "python3"
  },
  "language_info": {
   "codemirror_mode": {
    "name": "ipython",
    "version": 3
   },
   "file_extension": ".py",
   "mimetype": "text/x-python",
   "name": "python",
   "nbconvert_exporter": "python",
   "pygments_lexer": "ipython3",
   "version": "3.9.13"
  }
 },
 "nbformat": 4,
 "nbformat_minor": 5
}
