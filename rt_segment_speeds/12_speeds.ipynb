{
 "cells": [
  {
   "cell_type": "code",
   "execution_count": 1,
   "id": "2c7feec3-aa18-42ab-94b9-cab4be608152",
   "metadata": {},
   "outputs": [
    {
     "name": "stderr",
     "output_type": "stream",
     "text": [
      "/opt/conda/lib/python3.9/site-packages/geopandas/_compat.py:123: UserWarning: The Shapely GEOS version (3.11.1-CAPI-1.17.1) is incompatible with the GEOS version PyGEOS was compiled with (3.10.1-CAPI-1.16.0). Conversions between both will be slow.\n",
      "  warnings.warn(\n",
      "/home/jovyan/data-analyses/rt_segment_speeds/_speed_utils.py:4: UserWarning: Shapely 2.0 is installed, but because PyGEOS is also installed, GeoPandas will still use PyGEOS by default for now. To force to use and test Shapely 2.0, you have to set the environment variable USE_PYGEOS=0. You can do this before starting the Python process, or in your code before importing geopandas:\n",
      "\n",
      "import os\n",
      "os.environ['USE_PYGEOS'] = '0'\n",
      "import geopandas\n",
      "\n",
      "In a future release, GeoPandas will switch to using Shapely by default. If you are using PyGEOS directly (calling PyGEOS functions on geometries from GeoPandas), this will then stop working and you are encouraged to migrate from PyGEOS to Shapely 2.0 (https://shapely.readthedocs.io/en/latest/migration_pygeos.html).\n",
      "  import geopandas as gpd\n"
     ]
    }
   ],
   "source": [
    "import datetime\n",
    "import _speed_utils as speed_utils\n",
    "import dask.dataframe as dd\n",
    "import numpy as np\n",
    "import geopandas as gpd\n",
    "import pandas as pd\n",
    "from segment_speed_utils import gtfs_schedule_wrangling, helpers, segment_calcs\n",
    "from segment_speed_utils.project_vars import (\n",
    "    COMPILED_CACHED_VIEWS,\n",
    "    PROJECT_CRS,\n",
    "    SEGMENT_GCS,\n",
    "    #analysis_date,\n",
    ")\n",
    "from scripts import (A1_sjoin_vp_segments, A2_valid_vehicle_positions)\n",
    "from shared_utils import calitp_color_palette as cp"
   ]
  },
  {
   "cell_type": "code",
   "execution_count": 2,
   "id": "0108ae4a-4518-4487-85f7-a5faa3e9cbf6",
   "metadata": {},
   "outputs": [],
   "source": [
    "pd.options.display.max_columns = 100\n",
    "pd.options.display.float_format = \"{:.2f}\".format\n",
    "pd.set_option(\"display.max_rows\", None)\n",
    "pd.set_option(\"display.max_colwidth\", None)"
   ]
  },
  {
   "cell_type": "code",
   "execution_count": 3,
   "id": "c130ab8b-80ac-4edf-bb59-715a793c15a6",
   "metadata": {},
   "outputs": [],
   "source": [
    "CONFIG_PATH = './scripts/config.yml'"
   ]
  },
  {
   "cell_type": "code",
   "execution_count": 4,
   "id": "0c65c2fd-4eb6-46d0-8007-e91096133954",
   "metadata": {},
   "outputs": [],
   "source": [
    "STOP_SEG_DICT = helpers.get_parameters(CONFIG_PATH, \"stop_segments\")"
   ]
  },
  {
   "cell_type": "code",
   "execution_count": 5,
   "id": "80014c5e-695d-4280-89cd-4e7e2bb3d302",
   "metadata": {},
   "outputs": [],
   "source": [
    "# Adding analysis_date here since there aren't any files for June yet\n",
    "analysis_date = '2023-05-17'"
   ]
  },
  {
   "cell_type": "markdown",
   "id": "778a2aa1-d73b-4ebf-89e2-8f9eb5ca5aa1",
   "metadata": {
    "jp-MarkdownHeadingCollapsed": true,
    "tags": []
   },
   "source": [
    "### Observations (7/12)\n",
    "* Step 1: Flagging\n",
    "    * There are 2,704,812 rows in the dataframe original. About 10% of those rows are flagged as having zeroes in meters elapsed and seconds elapsed. \n",
    "    * There are around 4566 routes. About 57% of these routes had at least one trip with one or more rows flagged as zero.\n",
    "* I took 2 passes at trying to understand why both these columns recorded zeroes.\n",
    "\n",
    "* Step 2: `vp_pared_stops`. \n",
    "    * I grouped `vp_pared_stops` by 'shape_array_key','trip_id', and 'location_timestamp_local' OR `x` and `y`. I counted the number of unique stop sequences after grouping. If this trio had more than one unique stop sequence, that meant the timestamp or location recorded between sequences was duplicated.\n",
    "    * Only around 9% of rows were flagged as having (obviously) repeated timestamps and locations. \n",
    "    * For all of these rows, both the timestamp and location were duplicated. \n",
    "    * All the routes that were flagged in step one needed a further look in step 3.\n",
    "    \n",
    "* Step 3: `vp_usable`\n",
    "    * For one route and trip, find: all the recorded vehicle positions, sjoin of vps to segments,\n",
    "    and the first and last points kept. \n",
    "    * Plot the three gdfs in a map to visually inspect what's happening.\n",
    "    * Compare the sample route and trips with the trip with the highest percentage of non division by 0 rows to see what's going on. \n",
    "    \n",
    "* Buckets of errors (all based on `stage0 vp`). \n",
    "    * There is only one recorded point in that segment in the raw data.\n",
    "        * Fix: use the timestamp that comes after it.\n",
    "        * <img src= \"./speeds_images/only_one_pt_collected.png\" width = 300>\n",
    "    * Points are shared between segments\n",
    "        * Use p20/p50/p80.\n",
    "        * <img src= \"./speeds_images/shared_vp.png\" width = 300>\n",
    "    * Points recorded are really far out and they don't touch the buffered segments.\n",
    "        * Fix: figure out % of vehicle positions that are too far out.\n",
    "        * <img src= \"./speeds_images/dots_not_on_seg.png\" width = 300>\n",
    "    * No data captured for that segment at all.\n",
    "        * Use p20/p50/p80. \n",
    "        * <img src= \"./speeds_images/no_dots_collected.png\" width = 300> "
   ]
  },
  {
   "cell_type": "markdown",
   "id": "35c1ba95-5929-4a7f-bfae-f6d126622104",
   "metadata": {},
   "source": [
    "### Flagging"
   ]
  },
  {
   "cell_type": "code",
   "execution_count": 6,
   "id": "be9888dd-232a-401d-8039-9c2d1954a167",
   "metadata": {},
   "outputs": [],
   "source": [
    "# Flagged: all the rows in the df flagged\n",
    "# divide_by_zero: only the rows that have 0 for meters and sec elapsed\n",
    "# trips_count: % of trips with 1+ division by 0 row for a route\n",
    "# route_most_populated_df: the trip for a route with the smallest % of rows that are divided by 0\n",
    "# flagged, divide_by_zero, trips_count, route_most_populated_df = speed_utils.flagging_stage(analysis_date)"
   ]
  },
  {
   "cell_type": "code",
   "execution_count": 7,
   "id": "59f29657-665f-4f79-82fd-cfcba3fb5bcb",
   "metadata": {},
   "outputs": [],
   "source": [
    "# divide_by_zero.loop_or_inlining.value_counts()"
   ]
  },
  {
   "cell_type": "markdown",
   "id": "cb2050b4-d265-47bb-9de5-93c7ef621448",
   "metadata": {},
   "source": [
    "### Fixes"
   ]
  },
  {
   "cell_type": "markdown",
   "id": "df6004c3-2190-4f50-85b2-52a07fe04f30",
   "metadata": {},
   "source": [
    "#### VPs too far out "
   ]
  },
  {
   "cell_type": "code",
   "execution_count": 8,
   "id": "4cfafe44-5856-4311-82d3-052d569e4e97",
   "metadata": {},
   "outputs": [],
   "source": [
    "USABLE_VP = STOP_SEG_DICT[\"stage1\"]\n",
    "INPUT_FILE_PREFIX = STOP_SEG_DICT[\"stage2\"]\n",
    "GROUPING_COL = STOP_SEG_DICT[\"grouping_col\"]"
   ]
  },
  {
   "cell_type": "code",
   "execution_count": 9,
   "id": "a737616c-9443-40d4-afce-2fb059b75629",
   "metadata": {},
   "outputs": [],
   "source": [
    "normal_shapes = A2_valid_vehicle_positions.identify_stop_segment_cases(\n",
    "        analysis_date, GROUPING_COL, 0)"
   ]
  },
  {
   "cell_type": "code",
   "execution_count": 10,
   "id": "c3be391e-6e23-4988-a94c-a217aa8f469c",
   "metadata": {},
   "outputs": [],
   "source": [
    "usable_normal_vp = A2_valid_vehicle_positions.merge_usable_vp_with_sjoin_vpidx(\n",
    "        normal_shapes,\n",
    "        f\"{USABLE_VP}_{analysis_date}\",\n",
    "        f\"{INPUT_FILE_PREFIX}_{analysis_date}\",\n",
    "        GROUPING_COL\n",
    "    )\n",
    "    "
   ]
  },
  {
   "cell_type": "code",
   "execution_count": 12,
   "id": "46b645ab-8974-47f5-bb7e-a62f96720924",
   "metadata": {},
   "outputs": [],
   "source": [
    "usable_normal_vp = usable_normal_vp.assign(\n",
    "    identifier = usable_normal_vp.gtfs_dataset_key.astype(str) + '/' + usable_normal_vp.shape_array_key.astype(str) + '/' + usable_normal_vp.trip_id.astype(str)\n",
    ")"
   ]
  },
  {
   "cell_type": "code",
   "execution_count": 13,
   "id": "cdec0bd9-1519-4871-8342-aa0a94e7b834",
   "metadata": {},
   "outputs": [
    {
     "data": {
      "text/plain": [
       "Index(['vp_idx', '_gtfs_dataset_name', 'trip_id', 'location_timestamp',\n",
       "       'gtfs_dataset_key', 'location_timestamp_local', 'activity_date', 'hour',\n",
       "       'x', 'y', 'shape_array_key', 'stop_sequence', 'identifier'],\n",
       "      dtype='object')"
      ]
     },
     "execution_count": 13,
     "metadata": {},
     "output_type": "execute_result"
    }
   ],
   "source": [
    "usable_normal_vp.columns"
   ]
  },
  {
   "cell_type": "code",
   "execution_count": 14,
   "id": "417c3069-c104-4614-abfc-13a3fd941dd1",
   "metadata": {},
   "outputs": [],
   "source": [
    "agg = usable_normal_vp.groupby(['identifier']).vp_idx.nunique()"
   ]
  },
  {
   "cell_type": "code",
   "execution_count": 18,
   "id": "8e926640-d0de-47db-92a5-45be1d0579c9",
   "metadata": {},
   "outputs": [],
   "source": [
    "agg = agg.compute()"
   ]
  },
  {
   "cell_type": "code",
   "execution_count": 23,
   "id": "b3727769-ad61-4f15-8a1b-1ba00b3b51dd",
   "metadata": {},
   "outputs": [
    {
     "data": {
      "text/plain": [
       "pandas.core.series.Series"
      ]
     },
     "execution_count": 23,
     "metadata": {},
     "output_type": "execute_result"
    }
   ],
   "source": [
    "type(agg)"
   ]
  },
  {
   "cell_type": "code",
   "execution_count": 22,
   "id": "2538a4cc-11ab-4578-a4c8-61b3662041fc",
   "metadata": {},
   "outputs": [
    {
     "data": {
      "text/plain": [
       "identifier\n",
       "00accf770009aafd5dc103ff2eeddb37/0e69f3b447f85898af234663d28cf1e4/t_5562081_b_80156_tn_0     99\n",
       "00accf770009aafd5dc103ff2eeddb37/1780c72496eee5d86aea18655a99431e/t_5561633_b_80156_tn_0    289\n",
       "00accf770009aafd5dc103ff2eeddb37/1780c72496eee5d86aea18655a99431e/t_5561634_b_80156_tn_0    279\n",
       "00accf770009aafd5dc103ff2eeddb37/1780c72496eee5d86aea18655a99431e/t_5561651_b_80156_tn_0     31\n",
       "00accf770009aafd5dc103ff2eeddb37/1780c72496eee5d86aea18655a99431e/t_5561652_b_80156_tn_0    216\n",
       "Name: vp_idx, dtype: int64"
      ]
     },
     "execution_count": 22,
     "metadata": {},
     "output_type": "execute_result"
    }
   ],
   "source": [
    "agg.head()"
   ]
  },
  {
   "cell_type": "code",
   "execution_count": null,
   "id": "03012505-a04e-4d30-a4f7-cfe99e902bea",
   "metadata": {},
   "outputs": [],
   "source": [
    "# https://docs.dask.org/en/latest/generated/dask.dataframe.groupby.SeriesGroupBy.nunique.html\n",
    "vp_agg = (usable_normal_vp\n",
    "        .groupby(['gtfs_dataset_key','shape_array_key','trip_id'])\n",
    "        .agg({'vp_idx':'count'}).reset_index()\n",
    "        .rename(columns = {'vp_idx':'number_of_unique_vps_sjoin'})\n",
    "        .reset_index(drop = True)\n",
    "       )"
   ]
  },
  {
   "cell_type": "code",
   "execution_count": null,
   "id": "cc96eb75-17ef-49ac-8fb9-6f5da01a7729",
   "metadata": {},
   "outputs": [],
   "source": [
    "usable_normal_vp = usable_normal_vp.compute()"
   ]
  },
  {
   "cell_type": "code",
   "execution_count": null,
   "id": "a5f14db1-2219-49de-aee3-ee3ca79cea2f",
   "metadata": {},
   "outputs": [],
   "source": [
    "# VP all without paring\n",
    "STG_0_FILE = STOP_SEG_DICT['stage0']\n",
    "    \n",
    "all_pts = helpers.import_vehicle_positions(\n",
    "            SEGMENT_GCS,\n",
    "            f\"{STG_0_FILE}_{analysis_date}/\",\n",
    "            \"df\",\n",
    "            columns = [\"gtfs_dataset_key\", \"trip_id\",\"geometry\"],\n",
    "            partitioned = False\n",
    "        )\n",
    "all_pts = all_pts.compute()"
   ]
  },
  {
   "cell_type": "code",
   "execution_count": null,
   "id": "760bc660-4101-4e47-a8f1-554b7c071f66",
   "metadata": {},
   "outputs": [],
   "source": [
    "STG1 = STOP_SEG_DICT['stage1']"
   ]
  },
  {
   "cell_type": "code",
   "execution_count": null,
   "id": "bcc40046-f4f3-4d13-9e99-472f334b9536",
   "metadata": {},
   "outputs": [],
   "source": [
    "usable_vps = A1_sjoin_vp_segments.add_grouping_col_to_vp(\n",
    "    vp_file_name = f\"{STG1}_{analysis_date}\",\n",
    "    analysis_date= analysis_date,\n",
    "    trip_grouping_cols = STOP_SEG_DICT['trip_grouping_cols']) "
   ]
  },
  {
   "cell_type": "code",
   "execution_count": null,
   "id": "92dd61de-155c-4a51-807a-d68aa444657c",
   "metadata": {},
   "outputs": [],
   "source": [
    "usable_normal_vp.sample()"
   ]
  },
  {
   "cell_type": "code",
   "execution_count": null,
   "id": "a617736e-780e-47d6-8f0e-9436d3aaddb7",
   "metadata": {},
   "outputs": [],
   "source": [
    "all_pts_agg = (all_pts_merge\n",
    "        .groupby(['gtfs_dataset_key','shape_array_key','trip_id'])\n",
    "        .agg({'geometry':'nunique'}).reset_index()\n",
    "        .rename(columns = {'geometry':'number_of_unique_vps_all_pts'})\n",
    "        .reset_index(drop = True)\n",
    "       )"
   ]
  },
  {
   "cell_type": "markdown",
   "id": "38f74cff-0d45-47a5-b92b-d089ca4e4a7b",
   "metadata": {},
   "source": [
    "#### Redo sjoin to retain more info.\n",
    "* Use pared stops with segments "
   ]
  },
  {
   "cell_type": "code",
   "execution_count": null,
   "id": "314cf792-fd06-47b0-8ba0-f0302197cbdc",
   "metadata": {},
   "outputs": [],
   "source": [
    "# sjoin_df = speed_utils.import_stage_2(analysis_date)"
   ]
  },
  {
   "cell_type": "code",
   "execution_count": null,
   "id": "dd5bd0c0-c029-449d-9a72-4f3533239762",
   "metadata": {},
   "outputs": [],
   "source": [
    "# sjoin_df.shape"
   ]
  },
  {
   "cell_type": "code",
   "execution_count": null,
   "id": "0a738949-381e-4c69-af5d-acb904e4b8aa",
   "metadata": {},
   "outputs": [],
   "source": [
    "# sjoin_df = speed_utils.sjoin_vp_segments(seg, all_points)"
   ]
  },
  {
   "cell_type": "code",
   "execution_count": null,
   "id": "3a998c22-37fb-4c7a-89fd-c8ff6cfc1790",
   "metadata": {},
   "outputs": [],
   "source": [
    "SEGMENT_FILE = STOP_SEG_DICT[\"segments_file\"]"
   ]
  },
  {
   "cell_type": "code",
   "execution_count": null,
   "id": "a9ea932d-d1df-4441-b28c-c36737159fbf",
   "metadata": {},
   "outputs": [],
   "source": [
    "FILE = STOP_SEG_DICT['segments_file']\n",
    "segs = gpd.read_parquet(f\"{SEGMENT_GCS}{FILE}_{analysis_date}.parquet\").to_crs(PROJECT_CRS)"
   ]
  },
  {
   "cell_type": "code",
   "execution_count": null,
   "id": "16ed8b4f-64d9-41e8-b267-5fb48ad32fc1",
   "metadata": {},
   "outputs": [],
   "source": [
    "segs.shape"
   ]
  },
  {
   "cell_type": "code",
   "execution_count": null,
   "id": "9fa5376c-3abc-47f6-85c5-7edafb5e1d6b",
   "metadata": {},
   "outputs": [],
   "source": [
    "usable_vps = A1_sjoin_vp_segments.add_grouping_col_to_vp(\n",
    "    vp_file_name = f\"{STG1}_{analysis_date}\",\n",
    "    analysis_date= analysis_date,\n",
    "    trip_grouping_cols = STOP_SEG_DICT['trip_grouping_cols']) "
   ]
  },
  {
   "cell_type": "code",
   "execution_count": null,
   "id": "59dcbc2b-d95d-4191-83e7-0aa364408132",
   "metadata": {},
   "outputs": [],
   "source": [
    "merge1 = "
   ]
  },
  {
   "cell_type": "code",
   "execution_count": null,
   "id": "1cd58290-b651-40e1-8aab-87e0e584f209",
   "metadata": {},
   "outputs": [],
   "source": [
    "usable_vps.sample()"
   ]
  },
  {
   "cell_type": "code",
   "execution_count": null,
   "id": "9fc425b0-cc85-4092-8bdb-6dddd673c098",
   "metadata": {},
   "outputs": [],
   "source": [
    "print('hi')"
   ]
  },
  {
   "cell_type": "code",
   "execution_count": null,
   "id": "6ba3e7aa-1441-4b07-a3cc-772840dd2a8c",
   "metadata": {},
   "outputs": [],
   "source": [
    "# 2:45\n",
    "sjoin_1 = speed_utils.sjoin_vp_segments(segs, usable_vps)"
   ]
  },
  {
   "cell_type": "markdown",
   "id": "6ccd0ac3-2aa6-42ab-a121-6ba3ab7673b1",
   "metadata": {},
   "source": [
    "### Investigate "
   ]
  },
  {
   "cell_type": "code",
   "execution_count": null,
   "id": "27e416d5-5349-43fc-b480-535caa2b8257",
   "metadata": {},
   "outputs": [],
   "source": [
    "stop running"
   ]
  },
  {
   "cell_type": "code",
   "execution_count": null,
   "id": "cab32ef3-cc66-40ce-aa19-59631734f539",
   "metadata": {},
   "outputs": [],
   "source": [
    "stage3_df = speed_utils.flag_stage3(divide_by_zero, analysis_date)"
   ]
  },
  {
   "cell_type": "code",
   "execution_count": null,
   "id": "3e4e731a-6e1d-47db-aa57-abf7c34b1bf9",
   "metadata": {},
   "outputs": [],
   "source": [
    "stage3_df.shape_array_key.nunique()"
   ]
  },
  {
   "cell_type": "code",
   "execution_count": null,
   "id": "fdafc453-0d9d-4e4a-9355-38e2ad76a1a4",
   "metadata": {},
   "outputs": [],
   "source": [
    "sort_by = ['_gtfs_dataset_name','shape_array_key','trip_id','stop_sequence']"
   ]
  },
  {
   "cell_type": "code",
   "execution_count": null,
   "id": "70996816-e94c-4906-838c-0d9e0fe3049e",
   "metadata": {},
   "outputs": [],
   "source": [
    "preview_cols = sort_by + ['stop_id','gtfs_dataset_key','location_timestamp_local','pair','stage3_flag']"
   ]
  },
  {
   "cell_type": "markdown",
   "id": "e52c8e35-2341-4aae-93f4-5555b54f1afb",
   "metadata": {},
   "source": [
    "#### Find routes with a lot of n_trips that need to be evaluated."
   ]
  },
  {
   "cell_type": "code",
   "execution_count": null,
   "id": "5292af73-a2a0-4eda-aa2f-73732d80a3ef",
   "metadata": {},
   "outputs": [],
   "source": [
    "shape_trips = speed_utils.count_trips_routes(stage3_df)"
   ]
  },
  {
   "cell_type": "code",
   "execution_count": null,
   "id": "05b804be-9dba-425a-bbae-6ccd65c22885",
   "metadata": {},
   "outputs": [],
   "source": [
    "shape_trips.head(5)"
   ]
  },
  {
   "cell_type": "markdown",
   "id": "4a9bbe1e-02f6-44b3-bf8a-693d9f94da7a",
   "metadata": {},
   "source": [
    "#### Example Trip 1\n",
    "* Understanding the result from flag_stage3().\n",
    "* Looking at AC Transit: stop sequences 6 and 7 have different stop_ids. However, their time stamps and locations are the same.\n",
    "* It looks like they share the same point.\n",
    "* However, this isn't due to paring too many points: there just aren't enough points to choose from in the raw data.\n",
    "* Also sequence 2 is extremely long."
   ]
  },
  {
   "cell_type": "code",
   "execution_count": null,
   "id": "db254647-2f6a-4ec9-a900-25578c745419",
   "metadata": {},
   "outputs": [],
   "source": [
    "stage3_df[(stage3_df.stage3_flag != 'check in stage 2')].sort_values(by =sort_by)[preview_cols].head(2)"
   ]
  },
  {
   "cell_type": "code",
   "execution_count": null,
   "id": "f50dc43f-697f-400c-b598-968a59ac7452",
   "metadata": {},
   "outputs": [],
   "source": [
    "test_route1 = \"03bc2779a66739316156b459ffc3eefa\"\n",
    "test_gtfs_key1 = \"cdd2ad81863b6d4ad51676a1cb781ea8\"\n",
    "test_trip1 = \"11776020\""
   ]
  },
  {
   "cell_type": "code",
   "execution_count": null,
   "id": "aef433dd-9019-439a-abb2-70e0a65bfb1f",
   "metadata": {},
   "outputs": [],
   "source": [
    "# % of trips with problematic rows for this route\n",
    "trips_count[trips_count.shape_array_key == test_route1]"
   ]
  },
  {
   "cell_type": "code",
   "execution_count": null,
   "id": "03312246-3ea0-42a7-a552-86196a61b0f9",
   "metadata": {
    "scrolled": true,
    "tags": []
   },
   "outputs": [],
   "source": [
    "speed_utils.original_df_rows(flagged, test_trip1, test_route1)"
   ]
  },
  {
   "cell_type": "code",
   "execution_count": null,
   "id": "7a4ae095-d010-46b5-80b2-0bbe948f249f",
   "metadata": {},
   "outputs": [],
   "source": [
    "speed_utils.stage2_trouble_shooting(flagged_df= stage3_df,\n",
    "                        date = analysis_date,\n",
    "                        route = test_route1,\n",
    "                        trip = test_trip1,\n",
    "                        gtfs_key = test_gtfs_key1)"
   ]
  },
  {
   "cell_type": "markdown",
   "id": "38c6d374-155d-4fcc-985a-7c892eaecb46",
   "metadata": {},
   "source": [
    "#### Example Trip 2\n",
    "* Underestanding the result from `flag_stage3()`. \n",
    "* Same thing as Ex Trip 1 except kooking at LA Metro: stop sequences 45 and 46 have different stop_ids. However, their time stamps and locations are the same. \n",
    "* Same issue: segments 45 and 46 are sharing points. There aren't enough points captured.\n",
    "* In general, it looks like this route doesn't have a lot of rows that are ok."
   ]
  },
  {
   "cell_type": "code",
   "execution_count": null,
   "id": "268c5f17-df4a-4d84-b3b0-d76a2727bcf7",
   "metadata": {},
   "outputs": [],
   "source": [
    "test_route2 = \"38c814829dff816aa87c606c3aab4f45\"\n",
    "test_gtfs_key2 = \"65d9589130415c685b89f4f7c2d8bd7e\"\n",
    "test_trip2 = \"10294000051654-DEC22\""
   ]
  },
  {
   "cell_type": "code",
   "execution_count": null,
   "id": "5ae2cbab-5fa4-45bf-9965-962f33dc1946",
   "metadata": {},
   "outputs": [],
   "source": [
    "# Original number of rows for this trip\n",
    "len(flagged[(flagged.trip_id == test_trip2) & (flagged.shape_array_key == test_route2)])"
   ]
  },
  {
   "cell_type": "code",
   "execution_count": null,
   "id": "8a927dfa-7b78-41f8-b387-6d03f4e328c6",
   "metadata": {},
   "outputs": [],
   "source": [
    "# Rows with zeroes...a lot of them.\n",
    "len(divide_by_zero[(divide_by_zero.trip_id == test_trip2) & (divide_by_zero.shape_array_key == test_route2)])"
   ]
  },
  {
   "cell_type": "code",
   "execution_count": null,
   "id": "1b193ab2-1cfa-471b-aa1b-857949f4e2d1",
   "metadata": {},
   "outputs": [],
   "source": [
    "stage3_df[(stage3_df.stage3_flag != 'check in stage 2') & (stage3_df.shape_array_key == test_route2) \n",
    "   & (stage3_df.stop_sequence.isin([45,46]))].sort_values(by =sort_by)[preview_cols]"
   ]
  },
  {
   "cell_type": "code",
   "execution_count": null,
   "id": "4b3bc6c2-d9ff-44fd-b812-28c4dec1023f",
   "metadata": {},
   "outputs": [],
   "source": [
    "# % of trips with problematic rows for this route, lots of them\n",
    "trips_count[trips_count.shape_array_key == test_route2]"
   ]
  },
  {
   "cell_type": "code",
   "execution_count": null,
   "id": "d121f820-9838-4d27-8eba-be74044554c6",
   "metadata": {
    "scrolled": true,
    "tags": []
   },
   "outputs": [],
   "source": [
    "speed_utils.original_df_rows(m1, test_trip2, test_route2)"
   ]
  },
  {
   "cell_type": "code",
   "execution_count": null,
   "id": "deaa6fdf-37b8-49ee-97f2-46f74d41a449",
   "metadata": {},
   "outputs": [],
   "source": [
    "speed_utils.stage2_trouble_shooting(flagged_df= stage3_df,\n",
    "                        date = analysis_date,\n",
    "                        route = test_route2,\n",
    "                        trip = test_trip2,\n",
    "                        gtfs_key = test_gtfs_key2,)"
   ]
  },
  {
   "cell_type": "code",
   "execution_count": null,
   "id": "7f5485ec-4038-46d1-bca1-0116733f0128",
   "metadata": {},
   "outputs": [],
   "source": [
    "# See which trip has the most rows that are ok for this route\n",
    "route_most_populated_df[route_most_populated_df.shape_array_key == test_route2]"
   ]
  },
  {
   "cell_type": "code",
   "execution_count": null,
   "id": "be67628e-7c55-43d8-838c-251bc4439a8b",
   "metadata": {},
   "outputs": [],
   "source": [
    "# Plot the trip from this route with the highest % of ok rows\n",
    "speed_utils.stage2_trouble_shooting(flagged_df= stage3_df,\n",
    "                        date = analysis_date,\n",
    "                        route = test_route2,\n",
    "                        trip = \"10294000051724-DEC22\",\n",
    "                        gtfs_key = test_gtfs_key2,)"
   ]
  },
  {
   "cell_type": "markdown",
   "id": "27d10dab-c7b0-4ddd-b70b-b3c6b7b3e579",
   "metadata": {},
   "source": [
    "#### Example Trip 3\n",
    "* Choosing a route/trip with high n_trips that isn't Muni or LA Metro to shake things up.\n",
    "* San Diego Vehicle Positions\n",
    "* Segments 44 and 45 don't have any rows in the original dataframe for trip 16938440."
   ]
  },
  {
   "cell_type": "code",
   "execution_count": null,
   "id": "f951ac97-43af-452f-9cb7-d40f71c114c9",
   "metadata": {},
   "outputs": [],
   "source": [
    "test_route3 = \"1fc55d9df0cd785dddc864bf1b72976f\"\n",
    "test_gtfs_key3 = \"a4f6fd5552107e05fe9743ac7cce2c55\"\n",
    "test_trip3 = \"16938440\""
   ]
  },
  {
   "cell_type": "code",
   "execution_count": null,
   "id": "91798284-13ab-459b-80b8-8d3b63053615",
   "metadata": {
    "scrolled": true,
    "tags": []
   },
   "outputs": [],
   "source": [
    "speed_utils.original_df_rows(flagged, test_trip3, test_route3)"
   ]
  },
  {
   "cell_type": "code",
   "execution_count": null,
   "id": "91d07c20-9d78-4eea-8b9c-293df8ade5a3",
   "metadata": {},
   "outputs": [],
   "source": [
    "speed_utils.stage2_trouble_shooting(flagged_df= stage3_df,\n",
    "                        date = analysis_date,\n",
    "                        route = test_route3,\n",
    "                        trip = test_trip3,\n",
    "                        gtfs_key = test_gtfs_key3,)"
   ]
  },
  {
   "cell_type": "code",
   "execution_count": null,
   "id": "0ef5a418-34fb-4470-a576-71fc5281476b",
   "metadata": {
    "tags": []
   },
   "outputs": [],
   "source": [
    "# Trip from this route with the most ok rows\n",
    "route_most_populated_df[route_most_populated_df.shape_array_key == test_route3]"
   ]
  },
  {
   "cell_type": "code",
   "execution_count": null,
   "id": "bf92c615-47ab-4bd5-8513-0a9d202bd542",
   "metadata": {},
   "outputs": [],
   "source": [
    "# Test the trip with the most ok rows\n",
    "speed_utils.stage2_trouble_shooting(flagged_df= stage3_df,\n",
    "                        date = analysis_date,\n",
    "                        route = test_route3,\n",
    "                        trip = \"16938341\",\n",
    "                        gtfs_key = test_gtfs_key3,)"
   ]
  },
  {
   "cell_type": "code",
   "execution_count": null,
   "id": "c9561cd4-1b24-4415-ac6b-71adba8d0dfa",
   "metadata": {
    "scrolled": true,
    "tags": []
   },
   "outputs": [],
   "source": [
    "speed_utils.original_df_rows(flagged, \"16938341\", test_route3)"
   ]
  }
 ],
 "metadata": {
  "kernelspec": {
   "display_name": "Python 3 (ipykernel)",
   "language": "python",
   "name": "python3"
  },
  "language_info": {
   "codemirror_mode": {
    "name": "ipython",
    "version": 3
   },
   "file_extension": ".py",
   "mimetype": "text/x-python",
   "name": "python",
   "nbconvert_exporter": "python",
   "pygments_lexer": "ipython3",
   "version": "3.9.13"
  }
 },
 "nbformat": 4,
 "nbformat_minor": 5
}
