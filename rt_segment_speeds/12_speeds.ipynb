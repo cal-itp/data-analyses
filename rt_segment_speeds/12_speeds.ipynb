{
 "cells": [
  {
   "cell_type": "code",
   "execution_count": null,
   "id": "2c7feec3-aa18-42ab-94b9-cab4be608152",
   "metadata": {},
   "outputs": [],
   "source": [
    "import _threshold_utils as threshold_utils\n",
    "import altair as alt\n",
    "\n",
    "import pandas as pd\n",
    "import geopandas as gpd\n",
    "from segment_speed_utils.project_vars import analysis_date\n",
    "from shared_utils import calitp_color_palette as cp"
   ]
  },
  {
   "cell_type": "code",
   "execution_count": null,
   "id": "0108ae4a-4518-4487-85f7-a5faa3e9cbf6",
   "metadata": {},
   "outputs": [],
   "source": [
    "pd.options.display.max_columns = 100\n",
    "pd.options.display.float_format = \"{:.2f}\".format\n",
    "pd.set_option(\"display.max_rows\", None)\n",
    "pd.set_option(\"display.max_colwidth\", None)"
   ]
  },
  {
   "cell_type": "code",
   "execution_count": null,
   "id": "e3adcb1c-9a8a-4dee-9bdc-fddb63adbad9",
   "metadata": {},
   "outputs": [],
   "source": [
    "GCS_PATH = \"gs://calitp-analytics-data/data-analyses/rt_segment_speeds/\""
   ]
  },
  {
   "cell_type": "markdown",
   "id": "7c965247-8a26-4ecd-85e1-d237a4829c5e",
   "metadata": {},
   "source": [
    "analysis_date"
   ]
  },
  {
   "cell_type": "markdown",
   "id": "fe486936-de11-41a0-a425-b333373fa97c",
   "metadata": {},
   "source": [
    "### Open the files"
   ]
  },
  {
   "cell_type": "code",
   "execution_count": null,
   "id": "78c008c7-ebb5-4ea2-afa5-dab02c657614",
   "metadata": {},
   "outputs": [],
   "source": [
    "speed_stops_subset = ['gtfs_dataset_key', '_gtfs_dataset_name', 'shape_array_key',\n",
    "       'stop_sequence', 'trip_id','speed_mph']"
   ]
  },
  {
   "cell_type": "code",
   "execution_count": null,
   "id": "28a36e54-f835-44a3-b083-6fcd07a9f3d7",
   "metadata": {
    "scrolled": true,
    "tags": []
   },
   "outputs": [],
   "source": [
    "speed_stops = pd.read_parquet(f\"{GCS_PATH}speeds_stop_segments_{analysis_date}\")"
   ]
  },
  {
   "cell_type": "code",
   "execution_count": null,
   "id": "8f124b35-ca02-48a0-a845-4c8cfa95c057",
   "metadata": {},
   "outputs": [],
   "source": [
    "speed_stops.sample()"
   ]
  },
  {
   "cell_type": "code",
   "execution_count": null,
   "id": "e7f75ba6-88c2-4e9a-a79f-8e698dcbe44c",
   "metadata": {},
   "outputs": [],
   "source": [
    "speed_stops2 = speed_stops[speed_stops_subset]"
   ]
  },
  {
   "cell_type": "code",
   "execution_count": null,
   "id": "c12348af-0b89-4ac5-8b58-c76b99ae4158",
   "metadata": {
    "scrolled": true,
    "tags": []
   },
   "outputs": [],
   "source": [
    "# Do I need geometry? Doesn't seem like it..\n",
    "avg_speeds = gpd.read_parquet(f\"{GCS_PATH}avg_speeds_stop_segments_{analysis_date}.parquet\")"
   ]
  },
  {
   "cell_type": "code",
   "execution_count": null,
   "id": "7b280cfd-6b7e-4352-80af-16941294bf6c",
   "metadata": {},
   "outputs": [],
   "source": [
    "avg_speeds_subset = ['geometry','geometry_arrowized','district','district_name']\n",
    "avg_speeds2 = avg_speeds.drop(columns = avg_speeds_subset)"
   ]
  },
  {
   "cell_type": "code",
   "execution_count": null,
   "id": "3396cdc3-f776-49de-9ff4-dfd1d57f28de",
   "metadata": {},
   "outputs": [],
   "source": [
    "m1 = pd.merge(avg_speeds2, speed_stops2, on = ['gtfs_dataset_key','shape_array_key', 'stop_sequence'], how = 'inner')"
   ]
  },
  {
   "cell_type": "code",
   "execution_count": null,
   "id": "ce852700-fded-4e4d-bab4-6cbea0baf43d",
   "metadata": {},
   "outputs": [],
   "source": [
    "# Lots of dups??\n",
    "len(m1) - len(m1.drop_duplicates())  "
   ]
  },
  {
   "cell_type": "code",
   "execution_count": null,
   "id": "5f45a904-0032-46d7-a4d1-3ce30690afe3",
   "metadata": {},
   "outputs": [],
   "source": [
    "m2 = m1.drop_duplicates().reset_index(drop = True)"
   ]
  },
  {
   "cell_type": "markdown",
   "id": "7b475dba-d91e-47dc-bf2f-562c5f957257",
   "metadata": {},
   "source": [
    "### See which routes have a lot of stops\n",
    "* every shape has maybe 20, 30, 50 stops"
   ]
  },
  {
   "cell_type": "code",
   "execution_count": null,
   "id": "a3564164-427d-43a6-8c31-7bf9ea729ea4",
   "metadata": {},
   "outputs": [],
   "source": [
    "# Stops are not labelled sequentially necessarily\n",
    "m2.stop_sequence.describe()"
   ]
  },
  {
   "cell_type": "code",
   "execution_count": null,
   "id": "0673698c-9131-4f51-9e90-2e0651123773",
   "metadata": {
    "scrolled": true,
    "tags": []
   },
   "outputs": [],
   "source": [
    "# Renumber stop sequences since some of them are out of order\n",
    "m2 = m2.sort_values(['shape_array_key', 'gtfs_dataset_key', 'trip_id', 'stop_sequence']).reset_index(drop = True)"
   ]
  },
  {
   "cell_type": "code",
   "execution_count": null,
   "id": "a138b42a-ddbc-4bec-8531-72b81ff3c21c",
   "metadata": {},
   "outputs": [],
   "source": [
    "m2['Test Stop Sequence'] = m2.groupby(['gtfs_dataset_key','shape_array_key', 'trip_id']).cumcount().astype(int)+1"
   ]
  },
  {
   "cell_type": "code",
   "execution_count": null,
   "id": "33cd5bdb-399f-401d-ad56-f7ad783e6fdb",
   "metadata": {},
   "outputs": [],
   "source": [
    "# Check out routes with a ton of unique stops in the sequence.\n",
    "m2.groupby(['gtfs_dataset_key','shape_array_key','trip_id']).agg({'Test Stop Sequence':'nunique'}).sort_values(['Test Stop Sequence']).sample(10)"
   ]
  },
  {
   "cell_type": "code",
   "execution_count": null,
   "id": "01078044-278b-4043-901e-5b40e80bfea9",
   "metadata": {},
   "outputs": [],
   "source": [
    "# Look at one trip\n",
    "foothill_og = speed_stops2[speed_stops2.trip_id == \"t604-b2791-sl5\"]"
   ]
  },
  {
   "cell_type": "code",
   "execution_count": null,
   "id": "173615fa-c942-4d85-9ca8-64852b706d1f",
   "metadata": {},
   "outputs": [],
   "source": [
    "len(foothill_og)"
   ]
  },
  {
   "cell_type": "code",
   "execution_count": null,
   "id": "28521af6-c34e-4b20-9831-3177722b9b46",
   "metadata": {},
   "outputs": [],
   "source": [
    "foothill_og.stop_sequence.nunique()"
   ]
  },
  {
   "cell_type": "code",
   "execution_count": null,
   "id": "9cee6f4c-8786-478a-97ff-702be25d0788",
   "metadata": {},
   "outputs": [],
   "source": [
    "foothill_og.sort_values('stop_sequence').head()"
   ]
  },
  {
   "cell_type": "code",
   "execution_count": null,
   "id": "97ec3ff5-bcda-4edd-9ba6-50821923dd98",
   "metadata": {},
   "outputs": [],
   "source": [
    "foothill_renumbered_stop_seq = m2[m2.trip_id == \"t604-b2791-sl5\"] "
   ]
  },
  {
   "cell_type": "code",
   "execution_count": null,
   "id": "27d0f4e1-1e50-49a2-9987-be6e3bc86712",
   "metadata": {},
   "outputs": [],
   "source": [
    "foothill_renumbered_stop_seq['Test Stop Sequence'].nunique(), foothill_og.stop_sequence.nunique()"
   ]
  },
  {
   "cell_type": "code",
   "execution_count": null,
   "id": "1e9f79a4-5921-4e8c-82c5-3b414f677cf8",
   "metadata": {},
   "outputs": [],
   "source": [
    "# Flag\n",
    "troubleshoot = (m2.groupby(['gtfs_dataset_key','_gtfs_dataset_name','shape_array_key','trip_id'])\n",
    "                .agg({'stop_sequence':'nunique'})\n",
    "                .sort_values(['stop_sequence'], ascending = False)\n",
    "                .reset_index()\n",
    "               )"
   ]
  },
  {
   "cell_type": "code",
   "execution_count": null,
   "id": "9581ead1-5d91-44a4-a9d3-299445d55056",
   "metadata": {},
   "outputs": [],
   "source": [
    "# len(troubleshoot)"
   ]
  },
  {
   "cell_type": "code",
   "execution_count": null,
   "id": "1f50eb55-9373-4004-b23b-8129db734c1b",
   "metadata": {},
   "outputs": [],
   "source": [
    "# Number of test stops should match stop sequence...\n",
    "# troubleshoot['sequences_are_equal'] = troubleshoot['Test Stop Sequence'] - troubleshoot['stop_sequence']"
   ]
  },
  {
   "cell_type": "code",
   "execution_count": null,
   "id": "46843106-2e31-46c9-9220-2f12a3e6a4fb",
   "metadata": {},
   "outputs": [],
   "source": [
    "# troubleshoot['sequences_are_equal'].value_counts()"
   ]
  },
  {
   "cell_type": "code",
   "execution_count": null,
   "id": "34d189fa-632c-40d7-a793-e576645e879e",
   "metadata": {},
   "outputs": [],
   "source": [
    "# Look at this trip id in the original df\n",
    "og_trip = speed_stops2[speed_stops2.trip_id == \"t640-b15FF1-sl5\"]"
   ]
  },
  {
   "cell_type": "code",
   "execution_count": null,
   "id": "34b1e2f4-fe20-4029-9ec1-e5cbaaf73178",
   "metadata": {},
   "outputs": [],
   "source": [
    "# Look at this trip id in the manipulated df\n",
    "new_trip = m2[m2.trip_id == \"t640-b15FF1-sl5\"]"
   ]
  },
  {
   "cell_type": "code",
   "execution_count": null,
   "id": "81190a32-907b-4a5d-818a-ab5c2740dbc3",
   "metadata": {
    "tags": []
   },
   "outputs": [],
   "source": [
    "og_trip.shape, og_trip.stop_sequence.nunique()"
   ]
  },
  {
   "cell_type": "code",
   "execution_count": null,
   "id": "ae8d06ad-3016-4909-b766-c370ef074aae",
   "metadata": {},
   "outputs": [],
   "source": [
    "new_trip.shape, new_trip.stop_sequence.nunique()"
   ]
  },
  {
   "cell_type": "markdown",
   "id": "dd173aef-5f1d-4e8e-a7cd-9ed0a21606a1",
   "metadata": {},
   "source": [
    "#### Function"
   ]
  },
  {
   "cell_type": "code",
   "execution_count": null,
   "id": "06c9b39c-b895-4d28-a9e7-825853a60a68",
   "metadata": {},
   "outputs": [],
   "source": [
    "troubleshoot = troubleshoot.rename(columns = {'stop_sequence':'total_stops'})"
   ]
  },
  {
   "cell_type": "code",
   "execution_count": null,
   "id": "603000cb-cd4c-481a-a24d-35a01dfdcda3",
   "metadata": {},
   "outputs": [],
   "source": [
    "troubleshoot.total_stops.describe()"
   ]
  },
  {
   "cell_type": "code",
   "execution_count": null,
   "id": "60c076ac-6054-48b1-98f0-af401aeb31d8",
   "metadata": {},
   "outputs": [],
   "source": [
    "p25 = troubleshoot.total_stops.quantile(0.25).astype(float)"
   ]
  },
  {
   "cell_type": "code",
   "execution_count": null,
   "id": "4f25a17e-cea1-4bff-888d-d8f37dc31775",
   "metadata": {},
   "outputs": [],
   "source": [
    "p50 =  troubleshoot.total_stops.quantile(0.50).astype(float)\n",
    "p75 =  troubleshoot.total_stops.quantile(0.75).astype(float)\n",
    "p95 =  troubleshoot.total_stops.quantile(0.95).astype(float)\n",
    "p99 =  troubleshoot.total_stops.quantile(0.99).astype(float)"
   ]
  },
  {
   "cell_type": "code",
   "execution_count": null,
   "id": "2a6f0a35-51f9-4281-96d5-6c41ab874dd1",
   "metadata": {},
   "outputs": [],
   "source": [
    "def stop_categories(row):\n",
    "        if ((row.total_stops > 0) and (row.total_stops <= p25)):\n",
    "            return \"25th  <= 17 stops\"\n",
    "        elif ((row.total_stops > p25) and (row.total_stops <= p75)):\n",
    "            return \"50th <= 30 stops\"\n",
    "        elif ((row.total_stops > p75) and (row.total_stops <= p95)):\n",
    "               return \"75th <= 50 stops\"\n",
    "        elif ((row.total_stops > p95) and (row.total_stops <= p99)):\n",
    "               return \"95th <= 85 stops\"\n",
    "        elif row.total_stops >= p95:\n",
    "               return \"99th >= 203 stops\"\n",
    "        else:\n",
    "            return \"other\""
   ]
  },
  {
   "cell_type": "code",
   "execution_count": null,
   "id": "91154a41-56ac-4186-8ed7-b2c748456d1e",
   "metadata": {},
   "outputs": [],
   "source": [
    "troubleshoot[\"stop_percentiles\"] = troubleshoot.apply(lambda x: stop_categories(x), axis=1)"
   ]
  },
  {
   "cell_type": "code",
   "execution_count": null,
   "id": "403438aa-b87e-489a-a1ea-7e0fd229b3a5",
   "metadata": {},
   "outputs": [],
   "source": [
    "troubleshoot[\"stop_percentiles\"].unique()"
   ]
  },
  {
   "cell_type": "code",
   "execution_count": null,
   "id": "f3d9eb5a-6513-4c75-9f8a-c42e2086caa7",
   "metadata": {
    "scrolled": true,
    "tags": []
   },
   "outputs": [],
   "source": [
    "routes_with_many_stops = troubleshoot[troubleshoot.stop_percentiles.isin(['99th >= 203 stops', '95th <= 85 stops'])]"
   ]
  },
  {
   "cell_type": "code",
   "execution_count": null,
   "id": "e1b485e9-c893-4e8c-938b-a6d12d71c64c",
   "metadata": {},
   "outputs": [],
   "source": [
    "routes_with_many_stops['shape_array_key'].nunique()"
   ]
  },
  {
   "cell_type": "code",
   "execution_count": null,
   "id": "bf3f4774-7743-4c9f-a7db-b7c8df13b234",
   "metadata": {},
   "outputs": [],
   "source": [
    "routes_with_many_stops.head(2)"
   ]
  },
  {
   "cell_type": "code",
   "execution_count": null,
   "id": "284274df-145e-41d6-8969-48b62ef9f887",
   "metadata": {},
   "outputs": [],
   "source": [
    "routes_with_many_stops.groupby(['_gtfs_dataset_name', 'stop_percentiles']).agg({'shape_array_key':'nunique', 'trip_id':'nunique', \n",
    "                                                                               'total_stops':'max'})"
   ]
  },
  {
   "cell_type": "code",
   "execution_count": null,
   "id": "259f46d1-52ad-4c63-8cfb-de32e09007d4",
   "metadata": {},
   "outputs": [],
   "source": [
    "routes_summary = (routes_with_many_stops\n",
    "                  .groupby(['_gtfs_dataset_name','shape_array_key', 'stop_percentiles'])\n",
    "                  .agg({'trip_id':'nunique','total_stops':'median'})\n",
    "                  .reset_index()\n",
    "                  .rename(columns = {'total_stops':'total_stops_median'})\n",
    "                 )"
   ]
  },
  {
   "cell_type": "code",
   "execution_count": null,
   "id": "3bded611-24b0-4013-b68b-be481eff9b08",
   "metadata": {},
   "outputs": [],
   "source": [
    "routes_summary.shape_array_key.nunique(), routes_summary.shape"
   ]
  },
  {
   "cell_type": "code",
   "execution_count": null,
   "id": "cc556b08-224b-4225-a184-188f114a41de",
   "metadata": {
    "scrolled": true,
    "tags": []
   },
   "outputs": [],
   "source": [
    "routes_summary.sort_values(['total_stops_median'], ascending = False).head()"
   ]
  },
  {
   "cell_type": "code",
   "execution_count": null,
   "id": "819d0808-e4ae-4f64-981a-ed6aa2a5ed95",
   "metadata": {},
   "outputs": [],
   "source": [
    "# Just checking Foothill\n",
    "speed_stops2[speed_stops2.trip_id == \"t523-b27FD-sl5\"].shape"
   ]
  },
  {
   "cell_type": "code",
   "execution_count": null,
   "id": "bf601c3c-4fd3-478e-a463-2065ea158702",
   "metadata": {},
   "outputs": [],
   "source": [
    "# Bay Area 511 Santa Clara Transit VehiclePositions\n",
    "speed_stops2[speed_stops2.trip_id == \"3278210\"].shape"
   ]
  },
  {
   "cell_type": "code",
   "execution_count": null,
   "id": "67bbaff7-8732-4359-a0af-09c1b2c76fe7",
   "metadata": {},
   "outputs": [],
   "source": [
    "speed_stops2[speed_stops2.shape_array_key == \"1c3af44d68821dbd42638b3e76566466\"].head()"
   ]
  },
  {
   "cell_type": "markdown",
   "id": "5816ef70-bc10-4b87-b587-73f3789c5674",
   "metadata": {},
   "source": [
    "### Charts  \n",
    "Test with a few routes first\n",
    "* Create new col that rounds up speed for plotting purposes only."
   ]
  },
  {
   "cell_type": "markdown",
   "id": "c1b099f7-c8e3-4c37-a70d-e765763448d7",
   "metadata": {
    "tags": []
   },
   "source": [
    "#### Manipulate DF for charts"
   ]
  },
  {
   "cell_type": "code",
   "execution_count": null,
   "id": "576c28b2-8c36-48a2-b312-9fc54010f7b5",
   "metadata": {},
   "outputs": [],
   "source": [
    "test1 = m2.melt(id_vars=[ '_gtfs_dataset_name','shape_array_key','trip_id', 'Test Stop Sequence','gtfs_dataset_key','loop_or_inlining',\n",
    "                       'n_trips'], value_vars=[ 'avg_speed_mph','speed_mph','p20_speed_mph', 'p80_speed_mph'])"
   ]
  },
  {
   "cell_type": "code",
   "execution_count": null,
   "id": "2b55cb75-8ee8-477c-95bc-439d2ee65962",
   "metadata": {},
   "outputs": [],
   "source": [
    "test1.shape"
   ]
  },
  {
   "cell_type": "code",
   "execution_count": null,
   "id": "29dc19fd-0d8b-430d-a78a-a1c947263ef0",
   "metadata": {
    "scrolled": true,
    "tags": []
   },
   "outputs": [],
   "source": [
    "# test1[test1.shape_array_key == \"29d2bbdbeaec1d6888800f85bebf6e33\"]"
   ]
  },
  {
   "cell_type": "code",
   "execution_count": null,
   "id": "e2c00548-7615-409c-a7cc-7db5f16c9a88",
   "metadata": {},
   "outputs": [],
   "source": [
    "# Only need average speed/p20 speed/p80 to show up once for each stop sequence-operator-shape array\n",
    "test2 = test1.drop_duplicates(subset = [ '_gtfs_dataset_name','shape_array_key','Test Stop Sequence','gtfs_dataset_key','variable','value']).reset_index(drop = True)"
   ]
  },
  {
   "cell_type": "code",
   "execution_count": null,
   "id": "be4bac6e-2d9f-4d64-a835-22bb4f3c32f5",
   "metadata": {},
   "outputs": [],
   "source": [
    "test2.shape"
   ]
  },
  {
   "cell_type": "code",
   "execution_count": null,
   "id": "600d9ed7-524e-4af6-b90b-81fd89cf8c02",
   "metadata": {},
   "outputs": [],
   "source": [
    "subset = test2[test2.shape_array_key.isin([\"29d2bbdbeaec1d6888800f85bebf6e33\",'754c5b012195800c38dc58e72e4f482e',\n",
    "       'e3c5ed2c6fa6cd5c5cd57d46aeb3cd8e', '27ea352ade9af00e21aa2f2968810107'])]"
   ]
  },
  {
   "cell_type": "code",
   "execution_count": null,
   "id": "a92360af-5dfb-43e2-b89c-87c8b8268665",
   "metadata": {},
   "outputs": [],
   "source": [
    "subset = threshold_utils.pre_clean(subset)"
   ]
  },
  {
   "cell_type": "code",
   "execution_count": null,
   "id": "4f0d0a5e-186e-4b7e-b307-6e6326c3e747",
   "metadata": {},
   "outputs": [],
   "source": [
    "subset['Route'] = subset['Gtfs Dataset Name'] +' '  + subset['Shape Array Key']"
   ]
  },
  {
   "cell_type": "code",
   "execution_count": null,
   "id": "a8d96219-49d0-4251-9b4b-a6968542424d",
   "metadata": {},
   "outputs": [],
   "source": [
    "subset = subset.rename(columns = {'Value':'Speed'})"
   ]
  },
  {
   "cell_type": "code",
   "execution_count": null,
   "id": "b1155355-b4f6-41c2-beb1-f839d9d46027",
   "metadata": {},
   "outputs": [],
   "source": [
    "subset['Speed_Int'] = subset.Speed.fillna(0).astype(int)"
   ]
  },
  {
   "cell_type": "code",
   "execution_count": null,
   "id": "0834a228-c47d-4760-ae13-aca72784e747",
   "metadata": {},
   "outputs": [],
   "source": [
    "# subset['Rounded Speed'].unique()"
   ]
  },
  {
   "cell_type": "code",
   "execution_count": null,
   "id": "67cb1df7-6337-478d-bd9c-3fbc0a3f698f",
   "metadata": {},
   "outputs": [],
   "source": [
    "def speed(row):\n",
    "    # If partner is none, return Unknown.\n",
    "    if row.Speed_Int == 0:\n",
    "        return 0\n",
    "    elif 0 < row.Speed_Int < 6:\n",
    "        return 5\n",
    "    elif 5 < row.Speed_Int < 11:\n",
    "        return 10\n",
    "    elif 10 < row.Speed_Int < 16:\n",
    "        return 15\n",
    "    elif 15 < row.Speed_Int < 21:\n",
    "        return 20\n",
    "    elif 20 < row.Speed_Int < 26:\n",
    "        return 25\n",
    "    elif 25 < row.Speed_Int < 31:\n",
    "        return 30\n",
    "    else:\n",
    "        return 35"
   ]
  },
  {
   "cell_type": "code",
   "execution_count": null,
   "id": "de056258-240b-4aff-a3f9-aabe5330a9e0",
   "metadata": {},
   "outputs": [],
   "source": [
    "# Apply the function\n",
    "subset[\"Rounded Speed\"] = subset.apply(speed, axis=1)"
   ]
  },
  {
   "cell_type": "code",
   "execution_count": null,
   "id": "afc90938-3fbd-4235-b6ab-68cfa445f0b6",
   "metadata": {
    "scrolled": true,
    "tags": []
   },
   "outputs": [],
   "source": [
    "# subset[['Rounded Speed', 'Speed', 'Speed_Int']]"
   ]
  },
  {
   "cell_type": "code",
   "execution_count": null,
   "id": "9a39e842-70f6-4ff6-84b7-44b4dea48a40",
   "metadata": {},
   "outputs": [],
   "source": [
    "subset.Variable = subset.Variable.str.title().str.replace(\"_\",\" \")"
   ]
  },
  {
   "cell_type": "code",
   "execution_count": null,
   "id": "a95e775c-4cff-44b6-a861-1a17efb5fbf2",
   "metadata": {},
   "outputs": [],
   "source": [
    "# One df for the actual speeds\n",
    "subset_speedmph = subset[subset.Variable == 'Speed Mph'].reset_index(drop = True)"
   ]
  },
  {
   "cell_type": "code",
   "execution_count": null,
   "id": "447aec9f-1a4a-408c-bc16-22c67746c262",
   "metadata": {},
   "outputs": [],
   "source": [
    "# One df for the percentiles\n",
    "subset_other= subset[subset.Variable != 'Speed Mph'].reset_index(drop = True)"
   ]
  },
  {
   "cell_type": "code",
   "execution_count": null,
   "id": "072f39d9-4bf9-4efc-a393-24f096cecf7e",
   "metadata": {},
   "outputs": [],
   "source": [
    "def alt_dropdown(df, col_for_dropdown:str, dropdown_menu_title:str):\n",
    "    # Create dropdown menu\n",
    "    # Exclude \"none\" operators which are only scheduled data\n",
    "    df = df.loc[df[col_for_dropdown] != \"None\"][[col_for_dropdown]]\n",
    "    dropdown_list = df[col_for_dropdown].unique().tolist()\n",
    "    \n",
    "    # Show only first operator by default\n",
    "    initialize_first_op = sorted(dropdown_list)[0]\n",
    "    input_dropdown = alt.binding_select(options=sorted(dropdown_list), name=dropdown_menu_title)\n",
    "    \n",
    "    selection = alt.selection_single(name= dropdown_menu_title,fields=[col_for_dropdown],\n",
    "    bind=input_dropdown, init={col_for_dropdown: initialize_first_op})\n",
    "                 \n",
    "    return selection"
   ]
  },
  {
   "cell_type": "code",
   "execution_count": null,
   "id": "c2fd6ee4-c841-44fd-8659-0ee2bc8a926d",
   "metadata": {},
   "outputs": [],
   "source": [
    "selection_test = alt_dropdown(subset, \"Route\", \"Operator/Shape Array\")"
   ]
  },
  {
   "cell_type": "code",
   "execution_count": null,
   "id": "e8c0fb00-e9a0-47c1-abc5-cea7a806a6df",
   "metadata": {},
   "outputs": [],
   "source": [
    "def create_jitter_plot(df):\n",
    "    \n",
    "    #title_op = df['Gtfs Dataset Name'].iloc[0].replace('VehiclePositions','').strip()\n",
    "    #inline = df['Loop Or Inlining'].iloc[0]\n",
    "    chart1 = (\n",
    "        alt.Chart(df, width=0.5)\n",
    "        .mark_circle(size=100)\n",
    "        .encode(\n",
    "            x=alt.X(\n",
    "                \"jitter:Q\",\n",
    "                title=None,\n",
    "                axis=alt.Axis(values=[0], ticks=False, grid=False, labels=False),\n",
    "                scale=alt.Scale(),\n",
    "            ),\n",
    "            y=alt.Y(\"Rounded Speed:Q\",\n",
    "                    scale=alt.Scale(domain=[0, 50]),\n",
    "                    title = \"Speed (MPH)\",\n",
    "                    axis=alt.Axis(labelAngle=360, grid=False,)),\n",
    "            color=alt.Color(\n",
    "                \"Variable:N\",\n",
    "                scale=alt.Scale(range=cp.CALITP_CATEGORY_BRIGHT_COLORS),\n",
    "            ),\n",
    "            tooltip=df.columns.tolist(),\n",
    "            column=alt.Column(\n",
    "                \"Test Stop Sequence:N\",\n",
    "                header=alt.Header(\n",
    "                    labelAngle=360,\n",
    "                    titleOrient=\"top\",\n",
    "                    labelOrient=\"top\",\n",
    "                    labelAlign=\"right\",\n",
    "                    labelPadding=2,\n",
    "                ),\n",
    "            ),\n",
    "        )\n",
    "        .transform_calculate(\n",
    "            # Generate Gaussian jitter with a Box-Muller transform\n",
    "            jitter=\"sqrt(-2*log(random()))*cos(2*PI*random())\"\n",
    "        )\n",
    "        .properties(title=\"Speeds by Operator-Shape Array\")\n",
    "    )\n",
    "    \n",
    "    chart1 = threshold_utils.chart_size(chart1, 40, 200)\n",
    "    \n",
    "    return chart1"
   ]
  },
  {
   "cell_type": "code",
   "execution_count": null,
   "id": "19b97ca6-17c9-4540-acfe-9a4caf740ef4",
   "metadata": {},
   "outputs": [],
   "source": [
    "chart1 = create_jitter_plot(subset_speedmph).add_selection(selection_test).transform_filter(selection_test)"
   ]
  },
  {
   "cell_type": "code",
   "execution_count": null,
   "id": "c13568df-5e19-4f0a-a9fe-c3edeb0a0073",
   "metadata": {},
   "outputs": [],
   "source": [
    "chart2 = (\n",
    "        alt.Chart(subset_other, width=0.5)\n",
    "        .mark_circle(size=200)\n",
    "        .encode(\n",
    "            x=alt.X(\n",
    "                \"jitter:Q\",\n",
    "                title=None,\n",
    "                axis=alt.Axis(values=[0], ticks=False, grid=False, labels=False),\n",
    "                scale=alt.Scale(),\n",
    "            ),\n",
    "            y=alt.Y(\"Rounded Speed:Q\", \n",
    "                    title = \"Speed (MPH)\",\n",
    "                    \n",
    "                    scale=alt.Scale(domain=[0, 50]),\n",
    "                    axis=alt.Axis(labels=False, ticks = False, grid= False)),\n",
    "            color=alt.Color(\n",
    "                \"Variable:N\",\n",
    "                scale=alt.Scale(range=cp.CALITP_CATEGORY_BRIGHT_COLORS),\n",
    "            ),\n",
    "            tooltip=subset_other.columns.tolist(),\n",
    "            column=alt.Column(\n",
    "                \"Test Stop Sequence:N\",\n",
    "                header=alt.Header(\n",
    "                    labelAngle=360,\n",
    "                    title = None,\n",
    "                    titleOrient=\"top\",\n",
    "                    labelOrient=\"top\",\n",
    "                    labelAlign=\"right\",\n",
    "                    labelPadding=2,\n",
    "                ),\n",
    "            ),\n",
    "        )\n",
    "        .transform_calculate(\n",
    "            # Generate Gaussian jitter with a Box-Muller transform\n",
    "            jitter=\"sqrt(-2*log(random()))*cos(2*PI*random())\"\n",
    "        )\n",
    "    )\n",
    "    "
   ]
  },
  {
   "cell_type": "code",
   "execution_count": null,
   "id": "2a2bda8b-d48c-44f3-a928-08aca894c565",
   "metadata": {},
   "outputs": [],
   "source": [
    "chart2 = threshold_utils.chart_size(chart2, 40, 200)"
   ]
  },
  {
   "cell_type": "code",
   "execution_count": null,
   "id": "dd20293d-7c43-42c4-b053-de945860b6f0",
   "metadata": {},
   "outputs": [],
   "source": [
    "chart2 = chart2.add_selection(selection_test).transform_filter(selection_test)"
   ]
  },
  {
   "cell_type": "code",
   "execution_count": null,
   "id": "6f695b90-4157-42bd-b9cf-aaa4d71773ef",
   "metadata": {},
   "outputs": [],
   "source": [
    "subset['Route Type'] = \"Loop or Inlining: \" + subset[\"Loop Or Inlining\"].astype(str)"
   ]
  },
  {
   "cell_type": "code",
   "execution_count": null,
   "id": "aa0fad8b-b49e-48be-8070-adaf6e63d541",
   "metadata": {},
   "outputs": [],
   "source": [
    "# https://github.com/altair-viz/altair/issues/1168\n",
    "title = alt.Chart(subset).mark_text(dy=-40, size=15, fontWeight='normal').encode(\n",
    "    text='Route Type:N',\n",
    ")"
   ]
  },
  {
   "cell_type": "code",
   "execution_count": null,
   "id": "44dc6896-e95d-42df-bbd5-f2bb2c2a2cc6",
   "metadata": {},
   "outputs": [],
   "source": [
    "title = threshold_utils.chart_size(title, 20, 20)"
   ]
  },
  {
   "cell_type": "code",
   "execution_count": null,
   "id": "27a02401-dc45-493b-baad-e4cb84b6db46",
   "metadata": {},
   "outputs": [],
   "source": [
    "title = title.add_selection(selection_test).transform_filter(selection_test)"
   ]
  },
  {
   "cell_type": "code",
   "execution_count": null,
   "id": "8e753711-8506-4939-8d9d-22566a641988",
   "metadata": {},
   "outputs": [],
   "source": [
    "title & (chart1.interactive() & chart2.interactive())"
   ]
  },
  {
   "cell_type": "markdown",
   "id": "9745f078-1999-4e5c-9ddc-5eba135f55ab",
   "metadata": {},
   "source": [
    "### Draft"
   ]
  },
  {
   "cell_type": "code",
   "execution_count": null,
   "id": "af72c1c9-df07-4e7f-973f-f0c07223b7a4",
   "metadata": {},
   "outputs": [],
   "source": [
    "def create_jitter_plot(df):\n",
    "    \n",
    "    title_op = df['Gtfs Dataset Name'].iloc[0].replace('VehiclePositions','').strip()\n",
    "    inline = df['Loop Or Inlining'].iloc[0]\n",
    "    \n",
    "    chart1 = (\n",
    "        alt.Chart(df, width=0.5)\n",
    "        .mark_circle(size=100)\n",
    "        .encode(\n",
    "            x=alt.X(\n",
    "                \"jitter:Q\",\n",
    "                title=None,\n",
    "                axis=alt.Axis(values=[0], ticks=False, grid=False, labels=False),\n",
    "                scale=alt.Scale(),\n",
    "            ),\n",
    "            y=alt.Y(\"Rounded Speed:Q\", axis=alt.Axis(labelAngle=360)),\n",
    "            color=alt.Color(\n",
    "                \"Variable:N\",\n",
    "                scale=alt.Scale(range=cp.CALITP_CATEGORY_BRIGHT_COLORS),\n",
    "            ),\n",
    "            tooltip=df.columns.tolist(),\n",
    "            column=alt.Column(\n",
    "                \"Stop Sequence:N\",\n",
    "                header=alt.Header(\n",
    "                    labelAngle=360,\n",
    "                    titleOrient=\"top\",\n",
    "                    labelOrient=\"bottom\",\n",
    "                    labelAlign=\"right\",\n",
    "                    labelPadding=2,\n",
    "                ),\n",
    "            ),\n",
    "        )\n",
    "        .transform_calculate(\n",
    "            # Generate Gaussian jitter with a Box-Muller transform\n",
    "            jitter=\"sqrt(-2*log(random()))*cos(2*PI*random())\"\n",
    "        )\n",
    "        .properties(title=f\"{title_op} - Route Type {inline}\")\n",
    "    )\n",
    "    \n",
    "    chart1 = threshold_utils.chart_size(chart1, 40, 250)\n",
    "    \n",
    "    return chart1"
   ]
  },
  {
   "cell_type": "code",
   "execution_count": null,
   "id": "18ebd177-efc1-4bdc-9fac-bf947db810a4",
   "metadata": {},
   "outputs": [],
   "source": [
    "chart2 = (\n",
    "        alt.Chart(anaheim_test, width=0.5)\n",
    "        .mark_circle(size=100)\n",
    "        .encode(\n",
    "            x=alt.X(\n",
    "                \"jitter:Q\",\n",
    "                title=None,\n",
    "                axis=alt.Axis(values=[0], ticks=False, grid=False, labels=False),\n",
    "                scale=alt.Scale(),\n",
    "            ),\n",
    "            y=alt.Y(\"rounded_speed:Q\", axis=alt.Axis(labelAngle=-90)),\n",
    "            color=alt.Color(\n",
    "                \"variable:N\",\n",
    "                scale=alt.Scale(range=cp.CALITP_CATEGORY_BRIGHT_COLORS),\n",
    "            ),\n",
    "            tooltip=anaheim_test.columns.tolist(),\n",
    "            column=alt.Column(\n",
    "                \"stop_sequence:N\",\n",
    "                header=alt.Header(\n",
    "                    labelAngle=360,\n",
    "                    titleOrient=\"top\",\n",
    "                    labelOrient=\"bottom\",\n",
    "                    labelAlign=\"right\",\n",
    "                    labelPadding=2,\n",
    "                ),\n",
    "            ),\n",
    "        )\n",
    "        .transform_calculate(\n",
    "            # Generate Gaussian jitter with a Box-Muller transform\n",
    "            jitter=\"sqrt(-2*log(random()))*cos(2*PI*random())\"\n",
    "        )\n",
    "        .configure_facet(spacing=0)\n",
    "        .configure_view(stroke=None)\n",
    "        .properties(title=\"Trip Duration by RT Category\")\n",
    "    )"
   ]
  },
  {
   "cell_type": "code",
   "execution_count": null,
   "id": "a7287305-20d8-434f-9756-42b18cf172a4",
   "metadata": {},
   "outputs": [],
   "source": [
    "chart2 = threshold_utils.chart_size(chart2,80,300)"
   ]
  },
  {
   "cell_type": "code",
   "execution_count": null,
   "id": "3f9e9258-b954-45bf-bd7a-17822c9c607a",
   "metadata": {},
   "outputs": [],
   "source": [
    "chart2"
   ]
  },
  {
   "cell_type": "code",
   "execution_count": null,
   "id": "ea1d8514-ae9c-42e6-b59a-49a44fecbc98",
   "metadata": {},
   "outputs": [],
   "source": [
    "chart1 = (\n",
    "        alt.Chart(anaheim_test_speedmph, width=0.5)\n",
    "        .mark_circle(size=100)\n",
    "        .encode(\n",
    "            x=alt.X(\n",
    "                \"jitter:Q\",\n",
    "                title=None,\n",
    "                axis=alt.Axis(values=[0], ticks=False, grid=False, labels=False),\n",
    "                scale=alt.Scale(),\n",
    "            ),\n",
    "            y=alt.Y(\"rounded_speed:Q\", axis=alt.Axis(labelAngle=-90)),\n",
    "            color=alt.Color(\n",
    "                \"stop_sequence:N\",\n",
    "                scale=alt.Scale(range=cp.CALITP_CATEGORY_BRIGHT_COLORS),\n",
    "            ),\n",
    "            tooltip=anaheim_test.columns.tolist(),\n",
    "            column=alt.Column(\n",
    "                \"stop_sequence:N\",\n",
    "                header=alt.Header(\n",
    "                    labelAngle=360,\n",
    "                    titleOrient=\"top\",\n",
    "                    labelOrient=\"bottom\",\n",
    "                    labelAlign=\"right\",\n",
    "                    labelPadding=2,\n",
    "                ),\n",
    "            ),\n",
    "        )\n",
    "        .transform_calculate(\n",
    "            # Generate Gaussian jitter with a Box-Muller transform\n",
    "            jitter=\"sqrt(-2*log(random()))*cos(2*PI*random())\"\n",
    "        )\n",
    "        .configure_facet(spacing=0)\n",
    "        .configure_view(stroke=None)\n",
    "        .properties(title=f\"Loop/Inling:{anaheim_test_speedmph.loop_or_inlining.iloc[0]}\")\n",
    "    )"
   ]
  },
  {
   "cell_type": "code",
   "execution_count": null,
   "id": "4e1eea88-640b-4e96-b2d5-07cd2f19afdf",
   "metadata": {},
   "outputs": [],
   "source": [
    "chart1 = threshold_utils.chart_size(chart1,80,300)"
   ]
  },
  {
   "cell_type": "code",
   "execution_count": null,
   "id": "c54559c6-8fb0-4109-8e7d-84c1ecb6497e",
   "metadata": {},
   "outputs": [],
   "source": [
    "chart1"
   ]
  },
  {
   "cell_type": "code",
   "execution_count": null,
   "id": "79375476-00a1-4b85-a532-26889fc465e4",
   "metadata": {},
   "outputs": [],
   "source": []
  },
  {
   "cell_type": "code",
   "execution_count": null,
   "id": "0e5c052e-cccd-4f75-be65-9658cf7616b1",
   "metadata": {},
   "outputs": [],
   "source": [
    "def create_dot_plot2(df, col_for_dots: str, \n",
    "                    x_axis_col:str, y_axis_col:str,\n",
    "                   tooltip_cols:list, chart_title:str):\n",
    "  \n",
    "    chart = (alt.Chart(df).mark_circle(opacity=1, size = 100).transform_window(\n",
    "    id='rank()',\n",
    "    groupby=[col_for_dots]).encode(\n",
    "    alt.X(f'{x_axis_col}:O', sort='descending', \n",
    "          axis=alt.Axis(ticks=False, grid=True)),\n",
    "    alt.Y(f'{y_axis_col}:N'), \n",
    "    color=alt.Color(f\"{col_for_dots}:N\", scale=alt.Scale(range=cp.CALITP_CATEGORY_BRIGHT_COLORS), legend=None),\n",
    "    tooltip = tooltip_cols)\n",
    "             .properties(title = chart_title))\n",
    "    \n",
    "    return chart"
   ]
  },
  {
   "cell_type": "code",
   "execution_count": null,
   "id": "e38644ab-7fb8-47b1-b692-512b55f05625",
   "metadata": {},
   "outputs": [],
   "source": [
    "chart3 = create_dot_plot1(anaheim_test_other, 'variable', 'stop_sequence', 'rounded_speed', anaheim_test_other.columns.tolist(),  'Percentile/Average')"
   ]
  },
  {
   "cell_type": "code",
   "execution_count": null,
   "id": "2b6df39b-b074-494d-8f5e-65fe05356f4b",
   "metadata": {},
   "outputs": [],
   "source": [
    "chart3 = threshold_utils.chart_size(chart3,650,300)"
   ]
  },
  {
   "cell_type": "code",
   "execution_count": null,
   "id": "c2c565de-3c55-4827-a5bb-b48c6d49d4c1",
   "metadata": {},
   "outputs": [],
   "source": [
    "chart4 = create_dot_plot2(anaheim_test_speedmph, 'variable', 'stop_sequence', 'rounded_speed', anaheim_test_speedmph.columns.tolist(), 'Speed per Trip')"
   ]
  },
  {
   "cell_type": "code",
   "execution_count": null,
   "id": "29b3b7b1-8f44-4a8d-97c3-ff934250e874",
   "metadata": {},
   "outputs": [],
   "source": [
    "chart4 = threshold_utils.chart_size(chart4,650,300)"
   ]
  },
  {
   "cell_type": "code",
   "execution_count": null,
   "id": "54146c88-15df-49e2-9de6-18f2666d9f9f",
   "metadata": {},
   "outputs": [],
   "source": [
    "chart4"
   ]
  },
  {
   "cell_type": "code",
   "execution_count": null,
   "id": "3ccbc087-f799-4429-b6c7-a9c1f38f021d",
   "metadata": {},
   "outputs": [],
   "source": [
    "chart3 + chart4"
   ]
  },
  {
   "cell_type": "code",
   "execution_count": null,
   "id": "9829d749-580c-4440-9397-4562192417b7",
   "metadata": {},
   "outputs": [],
   "source": [
    "chart7 = (\n",
    "        alt.Chart(anaheim_test_other, width=0.5)\n",
    "        .mark_circle(size=100)\n",
    "        .encode(\n",
    "            x=alt.X(\n",
    "                \"jitter:Q\",\n",
    "                title=None,\n",
    "                axis=alt.Axis(values=[0], ticks=False, grid=False, labels=False),\n",
    "                scale=alt.Scale(),\n",
    "            ),\n",
    "            y=alt.Y(\"rounded_speed:Q\", axis=alt.Axis(labelAngle=-90)),\n",
    "            color=alt.Color(\n",
    "                \"variable:N\",\n",
    "                scale=alt.Scale(range=cp.CALITP_CATEGORY_BRIGHT_COLORS),\n",
    "            ),\n",
    "            tooltip=anaheim_test.columns.tolist(),\n",
    "            column=alt.Column(\n",
    "                \"stop_sequence:N\",\n",
    "                header=alt.Header(\n",
    "                    labelAngle=-90,\n",
    "                    titleOrient=\"top\",\n",
    "                    labelOrient=\"bottom\",\n",
    "                    labelAlign=\"right\",\n",
    "                    labelPadding=2,\n",
    "                ),\n",
    "            ),\n",
    "        )\n",
    "        .transform_calculate(\n",
    "            # Generate Gaussian jitter with a Box-Muller transform\n",
    "            jitter=\"sqrt(-2*log(random()))*cos(2*PI*random())\"\n",
    "        )\n",
    "        .configure_facet(spacing=0)\n",
    "        .configure_view(stroke=None)\n",
    "        .properties(title=\"Trip Duration by RT Category\")\n",
    "    )"
   ]
  },
  {
   "cell_type": "code",
   "execution_count": null,
   "id": "454980fc-e6ab-4d53-b844-120a075b8034",
   "metadata": {},
   "outputs": [],
   "source": [
    "chart7 = threshold_utils.chart_size(chart7,80,300)"
   ]
  },
  {
   "cell_type": "code",
   "execution_count": null,
   "id": "58e57fb2-1c3b-47e1-8bb6-d4941f0ee985",
   "metadata": {},
   "outputs": [],
   "source": [
    "chart8 = (\n",
    "        alt.Chart(anaheim_test_other, width=0.5)\n",
    "        .mark_circle(size=100)\n",
    "        .encode(\n",
    "            x=alt.X(\n",
    "                \"jitter:Q\",\n",
    "                title=None,\n",
    "                axis=alt.Axis(values=[0], ticks=False, grid=False, labels=False),\n",
    "                scale=alt.Scale(),\n",
    "            ),\n",
    "            y=alt.Y(\"rounded_speed:Q\", axis=alt.Axis(labelAngle=-90)),\n",
    "            color=alt.Color(\n",
    "                \"variable:N\",\n",
    "                scale=alt.Scale(range=cp.CALITP_CATEGORY_BRIGHT_COLORS),\n",
    "            ),\n",
    "            tooltip=anaheim_test.columns.tolist(),\n",
    "            column=alt.Column(\n",
    "                \"stop_sequence:N\",\n",
    "                header=alt.Header(\n",
    "                    labelAngle=-90,\n",
    "                    titleOrient=\"top\",\n",
    "                    labelOrient=\"bottom\",\n",
    "                    labelAlign=\"right\",\n",
    "                    labelPadding=2,\n",
    "                ),\n",
    "            ),\n",
    "        )\n",
    "        .transform_calculate(\n",
    "            # Generate Gaussian jitter with a Box-Muller transform\n",
    "            jitter=\"sqrt(-2*log(random()))*cos(2*PI*random())\"\n",
    "        )\n",
    "        .properties(title=\"Trip Duration by RT Category\")\n",
    "    )"
   ]
  },
  {
   "cell_type": "code",
   "execution_count": null,
   "id": "c2ce0879-f45f-4c66-9b1a-870a243a1260",
   "metadata": {},
   "outputs": [],
   "source": [
    "chart9 = (\n",
    "        alt.Chart(anaheim_test_speedmph, width=0.5)\n",
    "        .mark_circle(size=100)\n",
    "        .encode(\n",
    "            x=alt.X(\n",
    "                \"jitter:Q\",\n",
    "                title=None,\n",
    "                axis=alt.Axis(values=[0], ticks=False, grid=False, labels=False),\n",
    "                scale=alt.Scale(),\n",
    "            ),\n",
    "            y=alt.Y(\"rounded_speed:Q\", axis=alt.Axis(labelAngle=-90)),\n",
    "            color=alt.Color(\n",
    "                \"variable:N\",\n",
    "                scale=alt.Scale(range=cp.CALITP_CATEGORY_BRIGHT_COLORS),\n",
    "            ),\n",
    "            tooltip=anaheim_test.columns.tolist(),\n",
    "            column=alt.Column(\n",
    "                \"stop_sequence:N\",\n",
    "                header=alt.Header(\n",
    "                    labelAngle=360,\n",
    "                    titleOrient=\"top\",\n",
    "                    labelOrient=\"bottom\",\n",
    "                    labelAlign=\"right\",\n",
    "                    labelPadding=2,\n",
    "                ),\n",
    "            ),\n",
    "        )\n",
    "        .transform_calculate(\n",
    "            # Generate Gaussian jitter with a Box-Muller transform\n",
    "            jitter=\"sqrt(-2*log(random()))*cos(2*PI*random())\"\n",
    "        )\n",
    "        .properties(title=f\"Loop/Inling:{anaheim_test_speedmph.loop_or_inlining.iloc[0]}\")\n",
    "    )"
   ]
  },
  {
   "cell_type": "code",
   "execution_count": null,
   "id": "04e3ce9a-a5ab-4aeb-a7d0-4ead6738324b",
   "metadata": {},
   "outputs": [],
   "source": [
    "chart8"
   ]
  },
  {
   "cell_type": "code",
   "execution_count": null,
   "id": "04d2026e-c040-45ea-aab6-2c09c2211632",
   "metadata": {},
   "outputs": [],
   "source": [
    "chart9 | chart8"
   ]
  },
  {
   "cell_type": "code",
   "execution_count": null,
   "id": "edb11b29-7038-4a5d-9e44-4d3b88e6cc88",
   "metadata": {},
   "outputs": [],
   "source": [
    "# pip install altair==5.0.0rc3\n",
    "chart5 = alt.Chart(anaheim_test_speedmph, title='Normally distributed jitter').mark_circle(size=50).encode(\n",
    "    y=\"rounded_speed:Q\",\n",
    "    x=\"stop_sequence:N\",\n",
    "    yOffset=\"jitter:Q\",\n",
    "    color=alt.Color('stop_sequence:Q').legend(None)\n",
    ").transform_calculate(\n",
    "    # Generate Gaussian jitter with a Box-Muller transform\n",
    "    jitter=\"sqrt(-2*log(random()))*cos(2*PI*random())\"\n",
    ")\n"
   ]
  },
  {
   "cell_type": "code",
   "execution_count": null,
   "id": "9bbcc880-7866-495c-9a68-3b7ca6c00c4a",
   "metadata": {},
   "outputs": [],
   "source": [
    "chart5 = threshold_utils.chart_size(chart5,650,300)"
   ]
  },
  {
   "cell_type": "code",
   "execution_count": null,
   "id": "a765f55e-73e2-4bae-9326-98ed1bbfadaf",
   "metadata": {},
   "outputs": [],
   "source": [
    "chart5"
   ]
  }
 ],
 "metadata": {
  "kernelspec": {
   "display_name": "Python 3 (ipykernel)",
   "language": "python",
   "name": "python3"
  },
  "language_info": {
   "codemirror_mode": {
    "name": "ipython",
    "version": 3
   },
   "file_extension": ".py",
   "mimetype": "text/x-python",
   "name": "python",
   "nbconvert_exporter": "python",
   "pygments_lexer": "ipython3",
   "version": "3.9.13"
  }
 },
 "nbformat": 4,
 "nbformat_minor": 5
}
