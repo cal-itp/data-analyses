{
 "cells": [
  {
   "cell_type": "code",
   "execution_count": 1,
   "id": "2c7feec3-aa18-42ab-94b9-cab4be608152",
   "metadata": {},
   "outputs": [
    {
     "name": "stderr",
     "output_type": "stream",
     "text": [
      "/opt/conda/lib/python3.9/site-packages/geopandas/_compat.py:123: UserWarning: The Shapely GEOS version (3.11.1-CAPI-1.17.1) is incompatible with the GEOS version PyGEOS was compiled with (3.10.1-CAPI-1.16.0). Conversions between both will be slow.\n",
      "  warnings.warn(\n",
      "/home/jovyan/data-analyses/rt_segment_speeds/_threshold_utils.py:1: UserWarning: Shapely 2.0 is installed, but because PyGEOS is also installed, GeoPandas will still use PyGEOS by default for now. To force to use and test Shapely 2.0, you have to set the environment variable USE_PYGEOS=0. You can do this before starting the Python process, or in your code before importing geopandas:\n",
      "\n",
      "import os\n",
      "os.environ['USE_PYGEOS'] = '0'\n",
      "import geopandas\n",
      "\n",
      "In a future release, GeoPandas will switch to using Shapely by default. If you are using PyGEOS directly (calling PyGEOS functions on geometries from GeoPandas), this will then stop working and you are encouraged to migrate from PyGEOS to Shapely 2.0 (https://shapely.readthedocs.io/en/latest/migration_pygeos.html).\n",
      "  import geopandas as gpd\n"
     ]
    }
   ],
   "source": [
    "import _threshold_utils as threshold_utils\n",
    "import altair as alt\n",
    "\n",
    "import pandas as pd\n",
    "import geopandas as gpd\n",
    "from segment_speed_utils.project_vars import analysis_date\n",
    "from shared_utils import calitp_color_palette as cp"
   ]
  },
  {
   "cell_type": "code",
   "execution_count": 2,
   "id": "0108ae4a-4518-4487-85f7-a5faa3e9cbf6",
   "metadata": {},
   "outputs": [],
   "source": [
    "pd.options.display.max_columns = 100\n",
    "pd.options.display.float_format = \"{:.2f}\".format\n",
    "pd.set_option(\"display.max_rows\", None)\n",
    "pd.set_option(\"display.max_colwidth\", None)"
   ]
  },
  {
   "cell_type": "code",
   "execution_count": 3,
   "id": "e3adcb1c-9a8a-4dee-9bdc-fddb63adbad9",
   "metadata": {},
   "outputs": [],
   "source": [
    "GCS_PATH = \"gs://calitp-analytics-data/data-analyses/rt_segment_speeds/\""
   ]
  },
  {
   "cell_type": "code",
   "execution_count": 4,
   "id": "73d5e27d-92d4-4dcd-b7b4-92272e6a71ff",
   "metadata": {},
   "outputs": [
    {
     "data": {
      "text/plain": [
       "'2023-03-15'"
      ]
     },
     "execution_count": 4,
     "metadata": {},
     "output_type": "execute_result"
    }
   ],
   "source": [
    "analysis_date"
   ]
  },
  {
   "cell_type": "code",
   "execution_count": 5,
   "id": "78c008c7-ebb5-4ea2-afa5-dab02c657614",
   "metadata": {},
   "outputs": [],
   "source": [
    "speed_stops_subset = ['gtfs_dataset_key', '_gtfs_dataset_name', 'shape_array_key',\n",
    "       'stop_sequence', 'trip_id','speed_mph']"
   ]
  },
  {
   "cell_type": "code",
   "execution_count": 6,
   "id": "28a36e54-f835-44a3-b083-6fcd07a9f3d7",
   "metadata": {
    "scrolled": true,
    "tags": []
   },
   "outputs": [],
   "source": [
    "speed_stops = pd.read_parquet(f\"{GCS_PATH}speeds_stop_segments_{analysis_date}\")"
   ]
  },
  {
   "cell_type": "code",
   "execution_count": 7,
   "id": "dbab80c9-48ea-4688-a643-b24637b1f603",
   "metadata": {},
   "outputs": [
    {
     "data": {
      "text/html": [
       "<div>\n",
       "<style scoped>\n",
       "    .dataframe tbody tr th:only-of-type {\n",
       "        vertical-align: middle;\n",
       "    }\n",
       "\n",
       "    .dataframe tbody tr th {\n",
       "        vertical-align: top;\n",
       "    }\n",
       "\n",
       "    .dataframe thead th {\n",
       "        text-align: right;\n",
       "    }\n",
       "</style>\n",
       "<table border=\"1\" class=\"dataframe\">\n",
       "  <thead>\n",
       "    <tr style=\"text-align: right;\">\n",
       "      <th></th>\n",
       "      <th>gtfs_dataset_key</th>\n",
       "      <th>_gtfs_dataset_name</th>\n",
       "      <th>shape_array_key</th>\n",
       "      <th>stop_sequence</th>\n",
       "      <th>trip_id</th>\n",
       "      <th>min_time</th>\n",
       "      <th>min_dist</th>\n",
       "      <th>max_time</th>\n",
       "      <th>max_dist</th>\n",
       "      <th>meters_elapsed</th>\n",
       "      <th>sec_elapsed</th>\n",
       "      <th>speed_mph</th>\n",
       "    </tr>\n",
       "    <tr>\n",
       "      <th>__null_dask_index__</th>\n",
       "      <th></th>\n",
       "      <th></th>\n",
       "      <th></th>\n",
       "      <th></th>\n",
       "      <th></th>\n",
       "      <th></th>\n",
       "      <th></th>\n",
       "      <th></th>\n",
       "      <th></th>\n",
       "      <th></th>\n",
       "      <th></th>\n",
       "      <th></th>\n",
       "    </tr>\n",
       "  </thead>\n",
       "  <tbody>\n",
       "    <tr>\n",
       "      <th>23727</th>\n",
       "      <td>03cadbffef6f3cd4ce839b218bc65e82</td>\n",
       "      <td>Bay Area 511 Santa Clara Transit VehiclePositions</td>\n",
       "      <td>c680faf3107a29fd9393be3414fb36db</td>\n",
       "      <td>17</td>\n",
       "      <td>3286643</td>\n",
       "      <td>2023-03-15 06:34:12</td>\n",
       "      <td>39.14</td>\n",
       "      <td>2023-03-15 06:37:15</td>\n",
       "      <td>2072.45</td>\n",
       "      <td>2033.31</td>\n",
       "      <td>183.00</td>\n",
       "      <td>24.86</td>\n",
       "    </tr>\n",
       "  </tbody>\n",
       "</table>\n",
       "</div>"
      ],
      "text/plain": [
       "                                     gtfs_dataset_key  \\\n",
       "__null_dask_index__                                     \n",
       "23727                03cadbffef6f3cd4ce839b218bc65e82   \n",
       "\n",
       "                                                    _gtfs_dataset_name  \\\n",
       "__null_dask_index__                                                      \n",
       "23727                Bay Area 511 Santa Clara Transit VehiclePositions   \n",
       "\n",
       "                                      shape_array_key  stop_sequence  trip_id  \\\n",
       "__null_dask_index__                                                             \n",
       "23727                c680faf3107a29fd9393be3414fb36db             17  3286643   \n",
       "\n",
       "                               min_time  min_dist            max_time  \\\n",
       "__null_dask_index__                                                     \n",
       "23727               2023-03-15 06:34:12     39.14 2023-03-15 06:37:15   \n",
       "\n",
       "                     max_dist  meters_elapsed  sec_elapsed  speed_mph  \n",
       "__null_dask_index__                                                    \n",
       "23727                 2072.45         2033.31       183.00      24.86  "
      ]
     },
     "execution_count": 7,
     "metadata": {},
     "output_type": "execute_result"
    }
   ],
   "source": [
    "speed_stops.sample()"
   ]
  },
  {
   "cell_type": "code",
   "execution_count": 8,
   "id": "e7f75ba6-88c2-4e9a-a79f-8e698dcbe44c",
   "metadata": {},
   "outputs": [],
   "source": [
    "speed_stops2 = speed_stops[speed_stops_subset]"
   ]
  },
  {
   "cell_type": "code",
   "execution_count": 9,
   "id": "f0ba2f58-8d42-4eaa-8c3f-2b606960467f",
   "metadata": {},
   "outputs": [
    {
     "data": {
      "text/html": [
       "<div>\n",
       "<style scoped>\n",
       "    .dataframe tbody tr th:only-of-type {\n",
       "        vertical-align: middle;\n",
       "    }\n",
       "\n",
       "    .dataframe tbody tr th {\n",
       "        vertical-align: top;\n",
       "    }\n",
       "\n",
       "    .dataframe thead th {\n",
       "        text-align: right;\n",
       "    }\n",
       "</style>\n",
       "<table border=\"1\" class=\"dataframe\">\n",
       "  <thead>\n",
       "    <tr style=\"text-align: right;\">\n",
       "      <th></th>\n",
       "      <th>gtfs_dataset_key</th>\n",
       "      <th>_gtfs_dataset_name</th>\n",
       "      <th>shape_array_key</th>\n",
       "      <th>stop_sequence</th>\n",
       "      <th>trip_id</th>\n",
       "      <th>speed_mph</th>\n",
       "    </tr>\n",
       "    <tr>\n",
       "      <th>__null_dask_index__</th>\n",
       "      <th></th>\n",
       "      <th></th>\n",
       "      <th></th>\n",
       "      <th></th>\n",
       "      <th></th>\n",
       "      <th></th>\n",
       "    </tr>\n",
       "  </thead>\n",
       "  <tbody>\n",
       "    <tr>\n",
       "      <th>1234394</th>\n",
       "      <td>957ccc3961ce0111ca70c5af9b52ccf8</td>\n",
       "      <td>Fresno Vehicle Positions</td>\n",
       "      <td>e731df74eb8e4457b6fa642e04e532e3</td>\n",
       "      <td>67</td>\n",
       "      <td>558550</td>\n",
       "      <td>NaN</td>\n",
       "    </tr>\n",
       "  </tbody>\n",
       "</table>\n",
       "</div>"
      ],
      "text/plain": [
       "                                     gtfs_dataset_key  \\\n",
       "__null_dask_index__                                     \n",
       "1234394              957ccc3961ce0111ca70c5af9b52ccf8   \n",
       "\n",
       "                           _gtfs_dataset_name  \\\n",
       "__null_dask_index__                             \n",
       "1234394              Fresno Vehicle Positions   \n",
       "\n",
       "                                      shape_array_key  stop_sequence trip_id  \\\n",
       "__null_dask_index__                                                            \n",
       "1234394              e731df74eb8e4457b6fa642e04e532e3             67  558550   \n",
       "\n",
       "                     speed_mph  \n",
       "__null_dask_index__             \n",
       "1234394                    NaN  "
      ]
     },
     "execution_count": 9,
     "metadata": {},
     "output_type": "execute_result"
    }
   ],
   "source": [
    "speed_stops2.sample()"
   ]
  },
  {
   "cell_type": "code",
   "execution_count": 10,
   "id": "c12348af-0b89-4ac5-8b58-c76b99ae4158",
   "metadata": {
    "scrolled": true,
    "tags": []
   },
   "outputs": [],
   "source": [
    "# Do I need geometry? Doesn't seem like it..\n",
    "avg_speeds = gpd.read_parquet(f\"{GCS_PATH}avg_speeds_stop_segments_{analysis_date}.parquet\")"
   ]
  },
  {
   "cell_type": "code",
   "execution_count": 11,
   "id": "4d46f586-173b-4199-bda7-d39f8daa98e6",
   "metadata": {},
   "outputs": [],
   "source": [
    "avg_speeds_subset = ['geometry','geometry_arrowized','district','district_name']"
   ]
  },
  {
   "cell_type": "code",
   "execution_count": 12,
   "id": "8c970f9a-61b4-441a-9da8-f40b76a597c0",
   "metadata": {},
   "outputs": [],
   "source": [
    "avg_speeds2 = avg_speeds.drop(columns = avg_speeds_subset)"
   ]
  },
  {
   "cell_type": "code",
   "execution_count": 13,
   "id": "b102f42b-ab7a-402d-b524-03e4c2a72daf",
   "metadata": {
    "tags": []
   },
   "outputs": [
    {
     "data": {
      "text/html": [
       "<div>\n",
       "<style scoped>\n",
       "    .dataframe tbody tr th:only-of-type {\n",
       "        vertical-align: middle;\n",
       "    }\n",
       "\n",
       "    .dataframe tbody tr th {\n",
       "        vertical-align: top;\n",
       "    }\n",
       "\n",
       "    .dataframe thead th {\n",
       "        text-align: right;\n",
       "    }\n",
       "</style>\n",
       "<table border=\"1\" class=\"dataframe\">\n",
       "  <thead>\n",
       "    <tr style=\"text-align: right;\">\n",
       "      <th></th>\n",
       "      <th>shape_array_key</th>\n",
       "      <th>stop_sequence</th>\n",
       "      <th>gtfs_dataset_key</th>\n",
       "      <th>loop_or_inlining</th>\n",
       "      <th>avg_speed_mph</th>\n",
       "      <th>n_trips</th>\n",
       "      <th>p20_speed_mph</th>\n",
       "      <th>p80_speed_mph</th>\n",
       "    </tr>\n",
       "  </thead>\n",
       "  <tbody>\n",
       "    <tr>\n",
       "      <th>0</th>\n",
       "      <td>00093e1c28352239174c92c4f07a483b</td>\n",
       "      <td>1</td>\n",
       "      <td>03cadbffef6f3cd4ce839b218bc65e82</td>\n",
       "      <td>0</td>\n",
       "      <td>0.00</td>\n",
       "      <td>26</td>\n",
       "      <td>0.00</td>\n",
       "      <td>0.00</td>\n",
       "    </tr>\n",
       "    <tr>\n",
       "      <th>1</th>\n",
       "      <td>00093e1c28352239174c92c4f07a483b</td>\n",
       "      <td>2</td>\n",
       "      <td>03cadbffef6f3cd4ce839b218bc65e82</td>\n",
       "      <td>0</td>\n",
       "      <td>0.63</td>\n",
       "      <td>26</td>\n",
       "      <td>0.22</td>\n",
       "      <td>0.69</td>\n",
       "    </tr>\n",
       "  </tbody>\n",
       "</table>\n",
       "</div>"
      ],
      "text/plain": [
       "                    shape_array_key  stop_sequence  \\\n",
       "0  00093e1c28352239174c92c4f07a483b              1   \n",
       "1  00093e1c28352239174c92c4f07a483b              2   \n",
       "\n",
       "                   gtfs_dataset_key  loop_or_inlining  avg_speed_mph  n_trips  \\\n",
       "0  03cadbffef6f3cd4ce839b218bc65e82                 0           0.00       26   \n",
       "1  03cadbffef6f3cd4ce839b218bc65e82                 0           0.63       26   \n",
       "\n",
       "   p20_speed_mph  p80_speed_mph  \n",
       "0           0.00           0.00  \n",
       "1           0.22           0.69  "
      ]
     },
     "execution_count": 13,
     "metadata": {},
     "output_type": "execute_result"
    }
   ],
   "source": [
    "avg_speeds2.head(2)"
   ]
  },
  {
   "cell_type": "code",
   "execution_count": 14,
   "id": "3396cdc3-f776-49de-9ff4-dfd1d57f28de",
   "metadata": {},
   "outputs": [],
   "source": [
    "m1 = pd.merge(avg_speeds2, speed_stops2, on = ['gtfs_dataset_key','shape_array_key', 'stop_sequence'], how = 'inner')"
   ]
  },
  {
   "cell_type": "code",
   "execution_count": 21,
   "id": "d2fc9fe6-c9c2-4ba5-8ef2-30bbd7212a3a",
   "metadata": {},
   "outputs": [
    {
     "name": "stdout",
     "output_type": "stream",
     "text": [
      "<class 'pandas.core.frame.DataFrame'>\n",
      "Int64Index: 155454 entries, 0 to 144863\n",
      "Data columns (total 8 columns):\n",
      " #   Column            Non-Null Count   Dtype  \n",
      "---  ------            --------------   -----  \n",
      " 0   shape_array_key   155454 non-null  object \n",
      " 1   stop_sequence     155454 non-null  int16  \n",
      " 2   gtfs_dataset_key  155454 non-null  object \n",
      " 3   loop_or_inlining  155454 non-null  int64  \n",
      " 4   avg_speed_mph     155454 non-null  float64\n",
      " 5   n_trips           155454 non-null  int64  \n",
      " 6   p20_speed_mph     155454 non-null  float64\n",
      " 7   p80_speed_mph     155454 non-null  float64\n",
      "dtypes: float64(3), int16(1), int64(2), object(2)\n",
      "memory usage: 9.8+ MB\n"
     ]
    }
   ],
   "source": [
    "avg_speeds2.info()"
   ]
  },
  {
   "cell_type": "code",
   "execution_count": 24,
   "id": "662bca31-5f75-461c-b455-c1612ac17f4a",
   "metadata": {},
   "outputs": [
    {
     "data": {
      "text/html": [
       "<div>\n",
       "<style scoped>\n",
       "    .dataframe tbody tr th:only-of-type {\n",
       "        vertical-align: middle;\n",
       "    }\n",
       "\n",
       "    .dataframe tbody tr th {\n",
       "        vertical-align: top;\n",
       "    }\n",
       "\n",
       "    .dataframe thead th {\n",
       "        text-align: right;\n",
       "    }\n",
       "</style>\n",
       "<table border=\"1\" class=\"dataframe\">\n",
       "  <thead>\n",
       "    <tr style=\"text-align: right;\">\n",
       "      <th></th>\n",
       "      <th>shape_array_key</th>\n",
       "      <th>stop_sequence</th>\n",
       "      <th>gtfs_dataset_key</th>\n",
       "      <th>loop_or_inlining</th>\n",
       "      <th>avg_speed_mph</th>\n",
       "      <th>n_trips</th>\n",
       "      <th>p20_speed_mph</th>\n",
       "      <th>p80_speed_mph</th>\n",
       "      <th>_gtfs_dataset_name</th>\n",
       "      <th>trip_id</th>\n",
       "      <th>speed_mph</th>\n",
       "    </tr>\n",
       "  </thead>\n",
       "  <tbody>\n",
       "    <tr>\n",
       "      <th>0</th>\n",
       "      <td>00093e1c28352239174c92c4f07a483b</td>\n",
       "      <td>1</td>\n",
       "      <td>03cadbffef6f3cd4ce839b218bc65e82</td>\n",
       "      <td>0</td>\n",
       "      <td>0.00</td>\n",
       "      <td>26</td>\n",
       "      <td>0.00</td>\n",
       "      <td>0.00</td>\n",
       "      <td>Bay Area 511 Santa Clara Transit VehiclePositions</td>\n",
       "      <td>3288092</td>\n",
       "      <td>0.00</td>\n",
       "    </tr>\n",
       "    <tr>\n",
       "      <th>1</th>\n",
       "      <td>00093e1c28352239174c92c4f07a483b</td>\n",
       "      <td>1</td>\n",
       "      <td>03cadbffef6f3cd4ce839b218bc65e82</td>\n",
       "      <td>0</td>\n",
       "      <td>0.00</td>\n",
       "      <td>26</td>\n",
       "      <td>0.00</td>\n",
       "      <td>0.00</td>\n",
       "      <td>Bay Area 511 Santa Clara Transit VehiclePositions</td>\n",
       "      <td>3288102</td>\n",
       "      <td>0.00</td>\n",
       "    </tr>\n",
       "    <tr>\n",
       "      <th>2</th>\n",
       "      <td>00093e1c28352239174c92c4f07a483b</td>\n",
       "      <td>1</td>\n",
       "      <td>03cadbffef6f3cd4ce839b218bc65e82</td>\n",
       "      <td>0</td>\n",
       "      <td>0.00</td>\n",
       "      <td>26</td>\n",
       "      <td>0.00</td>\n",
       "      <td>0.00</td>\n",
       "      <td>Bay Area 511 Santa Clara Transit VehiclePositions</td>\n",
       "      <td>3288115</td>\n",
       "      <td>0.00</td>\n",
       "    </tr>\n",
       "    <tr>\n",
       "      <th>3</th>\n",
       "      <td>00093e1c28352239174c92c4f07a483b</td>\n",
       "      <td>1</td>\n",
       "      <td>03cadbffef6f3cd4ce839b218bc65e82</td>\n",
       "      <td>0</td>\n",
       "      <td>0.00</td>\n",
       "      <td>26</td>\n",
       "      <td>0.00</td>\n",
       "      <td>0.00</td>\n",
       "      <td>Bay Area 511 Santa Clara Transit VehiclePositions</td>\n",
       "      <td>3288117</td>\n",
       "      <td>0.00</td>\n",
       "    </tr>\n",
       "    <tr>\n",
       "      <th>4</th>\n",
       "      <td>00093e1c28352239174c92c4f07a483b</td>\n",
       "      <td>1</td>\n",
       "      <td>03cadbffef6f3cd4ce839b218bc65e82</td>\n",
       "      <td>0</td>\n",
       "      <td>0.00</td>\n",
       "      <td>26</td>\n",
       "      <td>0.00</td>\n",
       "      <td>0.00</td>\n",
       "      <td>Bay Area 511 Santa Clara Transit VehiclePositions</td>\n",
       "      <td>3288099</td>\n",
       "      <td>0.00</td>\n",
       "    </tr>\n",
       "  </tbody>\n",
       "</table>\n",
       "</div>"
      ],
      "text/plain": [
       "                    shape_array_key  stop_sequence  \\\n",
       "0  00093e1c28352239174c92c4f07a483b              1   \n",
       "1  00093e1c28352239174c92c4f07a483b              1   \n",
       "2  00093e1c28352239174c92c4f07a483b              1   \n",
       "3  00093e1c28352239174c92c4f07a483b              1   \n",
       "4  00093e1c28352239174c92c4f07a483b              1   \n",
       "\n",
       "                   gtfs_dataset_key  loop_or_inlining  avg_speed_mph  n_trips  \\\n",
       "0  03cadbffef6f3cd4ce839b218bc65e82                 0           0.00       26   \n",
       "1  03cadbffef6f3cd4ce839b218bc65e82                 0           0.00       26   \n",
       "2  03cadbffef6f3cd4ce839b218bc65e82                 0           0.00       26   \n",
       "3  03cadbffef6f3cd4ce839b218bc65e82                 0           0.00       26   \n",
       "4  03cadbffef6f3cd4ce839b218bc65e82                 0           0.00       26   \n",
       "\n",
       "   p20_speed_mph  p80_speed_mph  \\\n",
       "0           0.00           0.00   \n",
       "1           0.00           0.00   \n",
       "2           0.00           0.00   \n",
       "3           0.00           0.00   \n",
       "4           0.00           0.00   \n",
       "\n",
       "                                  _gtfs_dataset_name  trip_id  speed_mph  \n",
       "0  Bay Area 511 Santa Clara Transit VehiclePositions  3288092       0.00  \n",
       "1  Bay Area 511 Santa Clara Transit VehiclePositions  3288102       0.00  \n",
       "2  Bay Area 511 Santa Clara Transit VehiclePositions  3288115       0.00  \n",
       "3  Bay Area 511 Santa Clara Transit VehiclePositions  3288117       0.00  \n",
       "4  Bay Area 511 Santa Clara Transit VehiclePositions  3288099       0.00  "
      ]
     },
     "execution_count": 24,
     "metadata": {},
     "output_type": "execute_result"
    }
   ],
   "source": [
    "m1.head()"
   ]
  },
  {
   "cell_type": "code",
   "execution_count": 19,
   "id": "48e1b52a-d0fd-4c93-82a0-94c33c18a15c",
   "metadata": {},
   "outputs": [
    {
     "data": {
      "text/plain": [
       "Index(['shape_array_key', 'stop_sequence', 'gtfs_dataset_key',\n",
       "       'loop_or_inlining', 'avg_speed_mph', 'n_trips', 'p20_speed_mph',\n",
       "       'p80_speed_mph', '_gtfs_dataset_name', 'trip_id', 'speed_mph'],\n",
       "      dtype='object')"
      ]
     },
     "execution_count": 19,
     "metadata": {},
     "output_type": "execute_result"
    }
   ],
   "source": [
    "m1.columns"
   ]
  },
  {
   "cell_type": "code",
   "execution_count": 26,
   "id": "a0d801dd-0916-49d9-826d-f7591043f77c",
   "metadata": {},
   "outputs": [
    {
     "data": {
      "text/html": [
       "<div>\n",
       "<style scoped>\n",
       "    .dataframe tbody tr th:only-of-type {\n",
       "        vertical-align: middle;\n",
       "    }\n",
       "\n",
       "    .dataframe tbody tr th {\n",
       "        vertical-align: top;\n",
       "    }\n",
       "\n",
       "    .dataframe thead th {\n",
       "        text-align: right;\n",
       "    }\n",
       "</style>\n",
       "<table border=\"1\" class=\"dataframe\">\n",
       "  <thead>\n",
       "    <tr style=\"text-align: right;\">\n",
       "      <th></th>\n",
       "      <th></th>\n",
       "      <th>n_trips</th>\n",
       "    </tr>\n",
       "    <tr>\n",
       "      <th>_gtfs_dataset_name</th>\n",
       "      <th>shape_array_key</th>\n",
       "      <th></th>\n",
       "    </tr>\n",
       "  </thead>\n",
       "  <tbody>\n",
       "    <tr>\n",
       "      <th rowspan=\"5\" valign=\"top\">Anaheim Resort VehiclePositions</th>\n",
       "      <th>11d91cab41cde51a6d4f623b9cba867c</th>\n",
       "      <td>4</td>\n",
       "    </tr>\n",
       "    <tr>\n",
       "      <th>1e48661d195c13fc91d1a2f96f1f8c4f</th>\n",
       "      <td>26</td>\n",
       "    </tr>\n",
       "    <tr>\n",
       "      <th>29d2bbdbeaec1d6888800f85bebf6e33</th>\n",
       "      <td>8</td>\n",
       "    </tr>\n",
       "    <tr>\n",
       "      <th>2d6ca8831b70c1ff44dc5aa81d9114d0</th>\n",
       "      <td>5</td>\n",
       "    </tr>\n",
       "    <tr>\n",
       "      <th>39fc40d2ccadfa46548cbf953879ff90</th>\n",
       "      <td>4</td>\n",
       "    </tr>\n",
       "  </tbody>\n",
       "</table>\n",
       "</div>"
      ],
      "text/plain": [
       "                                                                  n_trips\n",
       "_gtfs_dataset_name              shape_array_key                          \n",
       "Anaheim Resort VehiclePositions 11d91cab41cde51a6d4f623b9cba867c        4\n",
       "                                1e48661d195c13fc91d1a2f96f1f8c4f       26\n",
       "                                29d2bbdbeaec1d6888800f85bebf6e33        8\n",
       "                                2d6ca8831b70c1ff44dc5aa81d9114d0        5\n",
       "                                39fc40d2ccadfa46548cbf953879ff90        4"
      ]
     },
     "execution_count": 26,
     "metadata": {},
     "output_type": "execute_result"
    }
   ],
   "source": [
    "m1.groupby(['_gtfs_dataset_name','shape_array_key']).agg({'n_trips':'max'}).head()"
   ]
  },
  {
   "cell_type": "code",
   "execution_count": 27,
   "id": "576c28b2-8c36-48a2-b312-9fc54010f7b5",
   "metadata": {},
   "outputs": [],
   "source": [
    "test1 = m1.melt(id_vars=[ '_gtfs_dataset_name','shape_array_key','trip_id', 'stop_sequence','gtfs_dataset_key','loop_or_inlining',\n",
    "                       'n_trips'], value_vars=[ 'avg_speed_mph','speed_mph','p20_speed_mph', 'p80_speed_mph'])"
   ]
  },
  {
   "cell_type": "code",
   "execution_count": 36,
   "id": "2b55cb75-8ee8-477c-95bc-439d2ee65962",
   "metadata": {},
   "outputs": [
    {
     "data": {
      "text/plain": [
       "(11174816, 9)"
      ]
     },
     "execution_count": 36,
     "metadata": {},
     "output_type": "execute_result"
    }
   ],
   "source": [
    "test1.shape"
   ]
  },
  {
   "cell_type": "code",
   "execution_count": 39,
   "id": "29dc19fd-0d8b-430d-a78a-a1c947263ef0",
   "metadata": {
    "scrolled": true,
    "tags": []
   },
   "outputs": [],
   "source": [
    "# test1[test1.shape_array_key == \"29d2bbdbeaec1d6888800f85bebf6e33\"]"
   ]
  },
  {
   "cell_type": "code",
   "execution_count": 86,
   "id": "e2c00548-7615-409c-a7cc-7db5f16c9a88",
   "metadata": {},
   "outputs": [],
   "source": [
    "# Only need average speed/p20 speed/p80 to show up once for each stop sequence-operator-shape array\n",
    "test2 = test1.drop_duplicates(subset = [ '_gtfs_dataset_name','shape_array_key','stop_sequence','gtfs_dataset_key','variable','value']).reset_index(drop = True)"
   ]
  },
  {
   "cell_type": "code",
   "execution_count": 87,
   "id": "be4bac6e-2d9f-4d64-a835-22bb4f3c32f5",
   "metadata": {},
   "outputs": [
    {
     "data": {
      "text/plain": [
       "(2842750, 9)"
      ]
     },
     "execution_count": 87,
     "metadata": {},
     "output_type": "execute_result"
    }
   ],
   "source": [
    "test2.shape"
   ]
  },
  {
   "cell_type": "markdown",
   "id": "5816ef70-bc10-4b87-b587-73f3789c5674",
   "metadata": {},
   "source": [
    "### Test with Anaheim First\n",
    "* Create new col that rounds up speed for plotting purposes only."
   ]
  },
  {
   "cell_type": "code",
   "execution_count": 88,
   "id": "600d9ed7-524e-4af6-b90b-81fd89cf8c02",
   "metadata": {},
   "outputs": [],
   "source": [
    "anaheim_test = test2[test2.shape_array_key == \"29d2bbdbeaec1d6888800f85bebf6e33\"]"
   ]
  },
  {
   "cell_type": "code",
   "execution_count": 89,
   "id": "a8d96219-49d0-4251-9b4b-a6968542424d",
   "metadata": {},
   "outputs": [],
   "source": [
    "anaheim_test = anaheim_test.rename(columns = {'value':'speed'})"
   ]
  },
  {
   "cell_type": "code",
   "execution_count": 154,
   "id": "b1155355-b4f6-41c2-beb1-f839d9d46027",
   "metadata": {},
   "outputs": [],
   "source": [
    "anaheim_test['rounded_speed'] = anaheim_test.speed.astype(int)"
   ]
  },
  {
   "cell_type": "code",
   "execution_count": 155,
   "id": "94f965da-6adb-4ffc-9079-cee9aa5dbe72",
   "metadata": {},
   "outputs": [
    {
     "data": {
      "text/html": [
       "<div>\n",
       "<style scoped>\n",
       "    .dataframe tbody tr th:only-of-type {\n",
       "        vertical-align: middle;\n",
       "    }\n",
       "\n",
       "    .dataframe tbody tr th {\n",
       "        vertical-align: top;\n",
       "    }\n",
       "\n",
       "    .dataframe thead th {\n",
       "        text-align: right;\n",
       "    }\n",
       "</style>\n",
       "<table border=\"1\" class=\"dataframe\">\n",
       "  <thead>\n",
       "    <tr style=\"text-align: right;\">\n",
       "      <th></th>\n",
       "      <th>_gtfs_dataset_name</th>\n",
       "      <th>shape_array_key</th>\n",
       "      <th>trip_id</th>\n",
       "      <th>stop_sequence</th>\n",
       "      <th>gtfs_dataset_key</th>\n",
       "      <th>loop_or_inlining</th>\n",
       "      <th>n_trips</th>\n",
       "      <th>variable</th>\n",
       "      <th>speed</th>\n",
       "      <th>rounded_speed</th>\n",
       "    </tr>\n",
       "  </thead>\n",
       "  <tbody>\n",
       "    <tr>\n",
       "      <th>144753</th>\n",
       "      <td>Anaheim Resort VehiclePositions</td>\n",
       "      <td>29d2bbdbeaec1d6888800f85bebf6e33</td>\n",
       "      <td>aa6a03fe-f119-44a5-8976-2ad77ceeb89f:4</td>\n",
       "      <td>1</td>\n",
       "      <td>1051e067d18a76b0a79789f051d5c22b</td>\n",
       "      <td>1</td>\n",
       "      <td>8</td>\n",
       "      <td>avg_speed_mph</td>\n",
       "      <td>0.00</td>\n",
       "      <td>0</td>\n",
       "    </tr>\n",
       "    <tr>\n",
       "      <th>144754</th>\n",
       "      <td>Anaheim Resort VehiclePositions</td>\n",
       "      <td>29d2bbdbeaec1d6888800f85bebf6e33</td>\n",
       "      <td>aa6a03fe-f119-44a5-8976-2ad77ceeb89f:4</td>\n",
       "      <td>2</td>\n",
       "      <td>1051e067d18a76b0a79789f051d5c22b</td>\n",
       "      <td>1</td>\n",
       "      <td>8</td>\n",
       "      <td>avg_speed_mph</td>\n",
       "      <td>7.99</td>\n",
       "      <td>7</td>\n",
       "    </tr>\n",
       "    <tr>\n",
       "      <th>144755</th>\n",
       "      <td>Anaheim Resort VehiclePositions</td>\n",
       "      <td>29d2bbdbeaec1d6888800f85bebf6e33</td>\n",
       "      <td>aa6a03fe-f119-44a5-8976-2ad77ceeb89f:8</td>\n",
       "      <td>3</td>\n",
       "      <td>1051e067d18a76b0a79789f051d5c22b</td>\n",
       "      <td>1</td>\n",
       "      <td>8</td>\n",
       "      <td>avg_speed_mph</td>\n",
       "      <td>4.21</td>\n",
       "      <td>4</td>\n",
       "    </tr>\n",
       "    <tr>\n",
       "      <th>144756</th>\n",
       "      <td>Anaheim Resort VehiclePositions</td>\n",
       "      <td>29d2bbdbeaec1d6888800f85bebf6e33</td>\n",
       "      <td>aa6a03fe-f119-44a5-8976-2ad77ceeb89f:3</td>\n",
       "      <td>4</td>\n",
       "      <td>1051e067d18a76b0a79789f051d5c22b</td>\n",
       "      <td>1</td>\n",
       "      <td>8</td>\n",
       "      <td>avg_speed_mph</td>\n",
       "      <td>4.81</td>\n",
       "      <td>4</td>\n",
       "    </tr>\n",
       "    <tr>\n",
       "      <th>144757</th>\n",
       "      <td>Anaheim Resort VehiclePositions</td>\n",
       "      <td>29d2bbdbeaec1d6888800f85bebf6e33</td>\n",
       "      <td>aa6a03fe-f119-44a5-8976-2ad77ceeb89f:5</td>\n",
       "      <td>5</td>\n",
       "      <td>1051e067d18a76b0a79789f051d5c22b</td>\n",
       "      <td>1</td>\n",
       "      <td>8</td>\n",
       "      <td>avg_speed_mph</td>\n",
       "      <td>0.61</td>\n",
       "      <td>0</td>\n",
       "    </tr>\n",
       "  </tbody>\n",
       "</table>\n",
       "</div>"
      ],
      "text/plain": [
       "                     _gtfs_dataset_name                   shape_array_key  \\\n",
       "144753  Anaheim Resort VehiclePositions  29d2bbdbeaec1d6888800f85bebf6e33   \n",
       "144754  Anaheim Resort VehiclePositions  29d2bbdbeaec1d6888800f85bebf6e33   \n",
       "144755  Anaheim Resort VehiclePositions  29d2bbdbeaec1d6888800f85bebf6e33   \n",
       "144756  Anaheim Resort VehiclePositions  29d2bbdbeaec1d6888800f85bebf6e33   \n",
       "144757  Anaheim Resort VehiclePositions  29d2bbdbeaec1d6888800f85bebf6e33   \n",
       "\n",
       "                                       trip_id  stop_sequence  \\\n",
       "144753  aa6a03fe-f119-44a5-8976-2ad77ceeb89f:4              1   \n",
       "144754  aa6a03fe-f119-44a5-8976-2ad77ceeb89f:4              2   \n",
       "144755  aa6a03fe-f119-44a5-8976-2ad77ceeb89f:8              3   \n",
       "144756  aa6a03fe-f119-44a5-8976-2ad77ceeb89f:3              4   \n",
       "144757  aa6a03fe-f119-44a5-8976-2ad77ceeb89f:5              5   \n",
       "\n",
       "                        gtfs_dataset_key  loop_or_inlining  n_trips  \\\n",
       "144753  1051e067d18a76b0a79789f051d5c22b                 1        8   \n",
       "144754  1051e067d18a76b0a79789f051d5c22b                 1        8   \n",
       "144755  1051e067d18a76b0a79789f051d5c22b                 1        8   \n",
       "144756  1051e067d18a76b0a79789f051d5c22b                 1        8   \n",
       "144757  1051e067d18a76b0a79789f051d5c22b                 1        8   \n",
       "\n",
       "             variable  speed  rounded_speed  \n",
       "144753  avg_speed_mph   0.00              0  \n",
       "144754  avg_speed_mph   7.99              7  \n",
       "144755  avg_speed_mph   4.21              4  \n",
       "144756  avg_speed_mph   4.81              4  \n",
       "144757  avg_speed_mph   0.61              0  "
      ]
     },
     "execution_count": 155,
     "metadata": {},
     "output_type": "execute_result"
    }
   ],
   "source": [
    "anaheim_test.head()"
   ]
  },
  {
   "cell_type": "code",
   "execution_count": 156,
   "id": "017bd784-487c-4ed9-ac84-427660070d15",
   "metadata": {},
   "outputs": [
    {
     "data": {
      "text/plain": [
       "array(['avg_speed_mph', 'speed_mph', 'p20_speed_mph', 'p80_speed_mph'],\n",
       "      dtype=object)"
      ]
     },
     "execution_count": 156,
     "metadata": {},
     "output_type": "execute_result"
    }
   ],
   "source": [
    "anaheim_test.variable.unique()"
   ]
  },
  {
   "cell_type": "code",
   "execution_count": 157,
   "id": "a95e775c-4cff-44b6-a861-1a17efb5fbf2",
   "metadata": {},
   "outputs": [],
   "source": [
    "anaheim_test_speedmph = anaheim_test[anaheim_test.variable == 'speed_mph'].reset_index(drop = True)"
   ]
  },
  {
   "cell_type": "code",
   "execution_count": 158,
   "id": "447aec9f-1a4a-408c-bc16-22c67746c262",
   "metadata": {},
   "outputs": [],
   "source": [
    "anaheim_test_other= anaheim_test[anaheim_test.variable != 'speed_mph'].reset_index(drop = True)"
   ]
  },
  {
   "cell_type": "code",
   "execution_count": 193,
   "id": "53ba075c-25a9-4083-8e7e-06dbc903535a",
   "metadata": {},
   "outputs": [
    {
     "data": {
      "text/html": [
       "<div>\n",
       "<style scoped>\n",
       "    .dataframe tbody tr th:only-of-type {\n",
       "        vertical-align: middle;\n",
       "    }\n",
       "\n",
       "    .dataframe tbody tr th {\n",
       "        vertical-align: top;\n",
       "    }\n",
       "\n",
       "    .dataframe thead th {\n",
       "        text-align: right;\n",
       "    }\n",
       "</style>\n",
       "<table border=\"1\" class=\"dataframe\">\n",
       "  <thead>\n",
       "    <tr style=\"text-align: right;\">\n",
       "      <th></th>\n",
       "      <th>_gtfs_dataset_name</th>\n",
       "      <th>shape_array_key</th>\n",
       "      <th>trip_id</th>\n",
       "      <th>stop_sequence</th>\n",
       "      <th>gtfs_dataset_key</th>\n",
       "      <th>loop_or_inlining</th>\n",
       "      <th>n_trips</th>\n",
       "      <th>variable</th>\n",
       "      <th>speed</th>\n",
       "      <th>rounded_speed</th>\n",
       "    </tr>\n",
       "  </thead>\n",
       "  <tbody>\n",
       "    <tr>\n",
       "      <th>0</th>\n",
       "      <td>Anaheim Resort VehiclePositions</td>\n",
       "      <td>29d2bbdbeaec1d6888800f85bebf6e33</td>\n",
       "      <td>aa6a03fe-f119-44a5-8976-2ad77ceeb89f:4</td>\n",
       "      <td>1</td>\n",
       "      <td>1051e067d18a76b0a79789f051d5c22b</td>\n",
       "      <td>1</td>\n",
       "      <td>8</td>\n",
       "      <td>avg_speed_mph</td>\n",
       "      <td>0.00</td>\n",
       "      <td>0</td>\n",
       "    </tr>\n",
       "    <tr>\n",
       "      <th>1</th>\n",
       "      <td>Anaheim Resort VehiclePositions</td>\n",
       "      <td>29d2bbdbeaec1d6888800f85bebf6e33</td>\n",
       "      <td>aa6a03fe-f119-44a5-8976-2ad77ceeb89f:4</td>\n",
       "      <td>2</td>\n",
       "      <td>1051e067d18a76b0a79789f051d5c22b</td>\n",
       "      <td>1</td>\n",
       "      <td>8</td>\n",
       "      <td>avg_speed_mph</td>\n",
       "      <td>7.99</td>\n",
       "      <td>7</td>\n",
       "    </tr>\n",
       "    <tr>\n",
       "      <th>2</th>\n",
       "      <td>Anaheim Resort VehiclePositions</td>\n",
       "      <td>29d2bbdbeaec1d6888800f85bebf6e33</td>\n",
       "      <td>aa6a03fe-f119-44a5-8976-2ad77ceeb89f:8</td>\n",
       "      <td>3</td>\n",
       "      <td>1051e067d18a76b0a79789f051d5c22b</td>\n",
       "      <td>1</td>\n",
       "      <td>8</td>\n",
       "      <td>avg_speed_mph</td>\n",
       "      <td>4.21</td>\n",
       "      <td>4</td>\n",
       "    </tr>\n",
       "    <tr>\n",
       "      <th>3</th>\n",
       "      <td>Anaheim Resort VehiclePositions</td>\n",
       "      <td>29d2bbdbeaec1d6888800f85bebf6e33</td>\n",
       "      <td>aa6a03fe-f119-44a5-8976-2ad77ceeb89f:3</td>\n",
       "      <td>4</td>\n",
       "      <td>1051e067d18a76b0a79789f051d5c22b</td>\n",
       "      <td>1</td>\n",
       "      <td>8</td>\n",
       "      <td>avg_speed_mph</td>\n",
       "      <td>4.81</td>\n",
       "      <td>4</td>\n",
       "    </tr>\n",
       "    <tr>\n",
       "      <th>4</th>\n",
       "      <td>Anaheim Resort VehiclePositions</td>\n",
       "      <td>29d2bbdbeaec1d6888800f85bebf6e33</td>\n",
       "      <td>aa6a03fe-f119-44a5-8976-2ad77ceeb89f:5</td>\n",
       "      <td>5</td>\n",
       "      <td>1051e067d18a76b0a79789f051d5c22b</td>\n",
       "      <td>1</td>\n",
       "      <td>8</td>\n",
       "      <td>avg_speed_mph</td>\n",
       "      <td>0.61</td>\n",
       "      <td>0</td>\n",
       "    </tr>\n",
       "  </tbody>\n",
       "</table>\n",
       "</div>"
      ],
      "text/plain": [
       "                _gtfs_dataset_name                   shape_array_key  \\\n",
       "0  Anaheim Resort VehiclePositions  29d2bbdbeaec1d6888800f85bebf6e33   \n",
       "1  Anaheim Resort VehiclePositions  29d2bbdbeaec1d6888800f85bebf6e33   \n",
       "2  Anaheim Resort VehiclePositions  29d2bbdbeaec1d6888800f85bebf6e33   \n",
       "3  Anaheim Resort VehiclePositions  29d2bbdbeaec1d6888800f85bebf6e33   \n",
       "4  Anaheim Resort VehiclePositions  29d2bbdbeaec1d6888800f85bebf6e33   \n",
       "\n",
       "                                  trip_id  stop_sequence  \\\n",
       "0  aa6a03fe-f119-44a5-8976-2ad77ceeb89f:4              1   \n",
       "1  aa6a03fe-f119-44a5-8976-2ad77ceeb89f:4              2   \n",
       "2  aa6a03fe-f119-44a5-8976-2ad77ceeb89f:8              3   \n",
       "3  aa6a03fe-f119-44a5-8976-2ad77ceeb89f:3              4   \n",
       "4  aa6a03fe-f119-44a5-8976-2ad77ceeb89f:5              5   \n",
       "\n",
       "                   gtfs_dataset_key  loop_or_inlining  n_trips       variable  \\\n",
       "0  1051e067d18a76b0a79789f051d5c22b                 1        8  avg_speed_mph   \n",
       "1  1051e067d18a76b0a79789f051d5c22b                 1        8  avg_speed_mph   \n",
       "2  1051e067d18a76b0a79789f051d5c22b                 1        8  avg_speed_mph   \n",
       "3  1051e067d18a76b0a79789f051d5c22b                 1        8  avg_speed_mph   \n",
       "4  1051e067d18a76b0a79789f051d5c22b                 1        8  avg_speed_mph   \n",
       "\n",
       "   speed  rounded_speed  \n",
       "0   0.00              0  \n",
       "1   7.99              7  \n",
       "2   4.21              4  \n",
       "3   4.81              4  \n",
       "4   0.61              0  "
      ]
     },
     "execution_count": 193,
     "metadata": {},
     "output_type": "execute_result"
    }
   ],
   "source": [
    "anaheim_test_other.head()"
   ]
  },
  {
   "cell_type": "code",
   "execution_count": 194,
   "id": "6031e341-9df5-4d50-987e-6fd303c63314",
   "metadata": {},
   "outputs": [],
   "source": [
    "def create_dot_plot1(df, col_for_dots: str, \n",
    "                    x_axis_col:str, y_axis_col:str,\n",
    "                   tooltip_cols:list, chart_title:str):\n",
    "  \n",
    "    chart = (alt.Chart(df).mark_circle(opacity=1, size = 400).transform_window(\n",
    "    id='rank()',\n",
    "    groupby=[col_for_dots]).encode(\n",
    "    alt.X(f'{x_axis_col}:O', sort='ascending', \n",
    "          axis=alt.Axis(ticks=False, grid=True)),\n",
    "    alt.Y(f'{y_axis_col}:N'), \n",
    "    color=alt.Color(f\"{col_for_dots}:N\", scale=alt.Scale(range=cp.CALITP_CATEGORY_BRIGHT_COLORS), legend=None),\n",
    "    tooltip = tooltip_cols)\n",
    "             .properties(title = chart_title))\n",
    "    \n",
    "    return chart"
   ]
  },
  {
   "cell_type": "code",
   "execution_count": 195,
   "id": "e38644ab-7fb8-47b1-b692-512b55f05625",
   "metadata": {},
   "outputs": [],
   "source": [
    "chart1 = create_dot_plot1(anaheim_test_other, 'variable', 'stop_sequence', 'rounded_speed', anaheim_test_other.columns.tolist(),  'Percentile/Average')"
   ]
  },
  {
   "cell_type": "code",
   "execution_count": 196,
   "id": "4e1eea88-640b-4e96-b2d5-07cd2f19afdf",
   "metadata": {},
   "outputs": [],
   "source": [
    "chart1 = threshold_utils.chart_size(chart1,650,300)"
   ]
  },
  {
   "cell_type": "code",
   "execution_count": 234,
   "id": "18ebd177-efc1-4bdc-9fac-bf947db810a4",
   "metadata": {},
   "outputs": [],
   "source": [
    "chart2 = (\n",
    "        alt.Chart(anaheim_test, width=0.5)\n",
    "        .mark_circle(size=100)\n",
    "        .encode(\n",
    "            x=alt.X(\n",
    "                \"jitter:Q\",\n",
    "                title=None,\n",
    "                axis=alt.Axis(values=[0], ticks=False, grid=False, labels=False),\n",
    "                scale=alt.Scale(),\n",
    "            ),\n",
    "            y=alt.Y(\"rounded_speed:Q\", axis=alt.Axis(labelAngle=-90)),\n",
    "            color=alt.Color(\n",
    "                \"variable:N\",\n",
    "                scale=alt.Scale(range=cp.CALITP_CATEGORY_BRIGHT_COLORS),\n",
    "            ),\n",
    "            tooltip=anaheim_test.columns.tolist(),\n",
    "            column=alt.Column(\n",
    "                \"stop_sequence:N\",\n",
    "                header=alt.Header(\n",
    "                    labelAngle=-90,\n",
    "                    titleOrient=\"top\",\n",
    "                    labelOrient=\"bottom\",\n",
    "                    labelAlign=\"right\",\n",
    "                    labelPadding=2,\n",
    "                ),\n",
    "            ),\n",
    "        )\n",
    "        .transform_calculate(\n",
    "            # Generate Gaussian jitter with a Box-Muller transform\n",
    "            jitter=\"sqrt(-2*log(random()))*cos(2*PI*random())\"\n",
    "        )\n",
    "        .configure_facet(spacing=0)\n",
    "        .configure_view(stroke=None)\n",
    "        .properties(title=\"Trip Duration by RT Category\")\n",
    "    )"
   ]
  },
  {
   "cell_type": "code",
   "execution_count": 235,
   "id": "a7287305-20d8-434f-9756-42b18cf172a4",
   "metadata": {},
   "outputs": [],
   "source": [
    "chart2 = threshold_utils.chart_size(chart2,80,300)"
   ]
  },
  {
   "cell_type": "code",
   "execution_count": 236,
   "id": "13a15546-4711-4d8b-8aba-48e54aedbf75",
   "metadata": {},
   "outputs": [
    {
     "data": {
      "text/html": [
       "\n",
       "<div id=\"altair-viz-1e8da62fde424b09bb533d522ff39c10\"></div>\n",
       "<script type=\"text/javascript\">\n",
       "  var VEGA_DEBUG = (typeof VEGA_DEBUG == \"undefined\") ? {} : VEGA_DEBUG;\n",
       "  (function(spec, embedOpt){\n",
       "    let outputDiv = document.currentScript.previousElementSibling;\n",
       "    if (outputDiv.id !== \"altair-viz-1e8da62fde424b09bb533d522ff39c10\") {\n",
       "      outputDiv = document.getElementById(\"altair-viz-1e8da62fde424b09bb533d522ff39c10\");\n",
       "    }\n",
       "    const paths = {\n",
       "      \"vega\": \"https://cdn.jsdelivr.net/npm//vega@5?noext\",\n",
       "      \"vega-lib\": \"https://cdn.jsdelivr.net/npm//vega-lib?noext\",\n",
       "      \"vega-lite\": \"https://cdn.jsdelivr.net/npm//vega-lite@4.17.0?noext\",\n",
       "      \"vega-embed\": \"https://cdn.jsdelivr.net/npm//vega-embed@6?noext\",\n",
       "    };\n",
       "\n",
       "    function maybeLoadScript(lib, version) {\n",
       "      var key = `${lib.replace(\"-\", \"\")}_version`;\n",
       "      return (VEGA_DEBUG[key] == version) ?\n",
       "        Promise.resolve(paths[lib]) :\n",
       "        new Promise(function(resolve, reject) {\n",
       "          var s = document.createElement('script');\n",
       "          document.getElementsByTagName(\"head\")[0].appendChild(s);\n",
       "          s.async = true;\n",
       "          s.onload = () => {\n",
       "            VEGA_DEBUG[key] = version;\n",
       "            return resolve(paths[lib]);\n",
       "          };\n",
       "          s.onerror = () => reject(`Error loading script: ${paths[lib]}`);\n",
       "          s.src = paths[lib];\n",
       "        });\n",
       "    }\n",
       "\n",
       "    function showError(err) {\n",
       "      outputDiv.innerHTML = `<div class=\"error\" style=\"color:red;\">${err}</div>`;\n",
       "      throw err;\n",
       "    }\n",
       "\n",
       "    function displayChart(vegaEmbed) {\n",
       "      vegaEmbed(outputDiv, spec, embedOpt)\n",
       "        .catch(err => showError(`Javascript Error: ${err.message}<br>This usually means there's a typo in your chart specification. See the javascript console for the full traceback.`));\n",
       "    }\n",
       "\n",
       "    if(typeof define === \"function\" && define.amd) {\n",
       "      requirejs.config({paths});\n",
       "      require([\"vega-embed\"], displayChart, err => showError(`Error loading script: ${err.message}`));\n",
       "    } else {\n",
       "      maybeLoadScript(\"vega\", \"5\")\n",
       "        .then(() => maybeLoadScript(\"vega-lite\", \"4.17.0\"))\n",
       "        .then(() => maybeLoadScript(\"vega-embed\", \"6\"))\n",
       "        .catch(showError)\n",
       "        .then(() => displayChart(vegaEmbed));\n",
       "    }\n",
       "  })({\"config\": {\"view\": {\"continuousWidth\": 400, \"continuousHeight\": 300, \"stroke\": null}, \"facet\": {\"spacing\": 0}}, \"data\": {\"name\": \"data-dff0b11a0dc021cd7521f1198c1e7b36\"}, \"mark\": {\"type\": \"circle\", \"size\": 100}, \"encoding\": {\"color\": {\"field\": \"variable\", \"scale\": {\"range\": [\"#2EA8CE\", \"#EB9F3C\", \"#F4D837\", \"#51BF9D\", \"#8CBCCB\", \"#9487C0\"]}, \"type\": \"nominal\"}, \"column\": {\"field\": \"stop_sequence\", \"header\": {\"labelAlign\": \"right\", \"labelAngle\": -90, \"labelOrient\": \"bottom\", \"labelPadding\": 2, \"titleOrient\": \"top\"}, \"type\": \"nominal\"}, \"tooltip\": [{\"field\": \"_gtfs_dataset_name\", \"type\": \"nominal\"}, {\"field\": \"shape_array_key\", \"type\": \"nominal\"}, {\"field\": \"trip_id\", \"type\": \"nominal\"}, {\"field\": \"stop_sequence\", \"type\": \"quantitative\"}, {\"field\": \"gtfs_dataset_key\", \"type\": \"nominal\"}, {\"field\": \"loop_or_inlining\", \"type\": \"quantitative\"}, {\"field\": \"n_trips\", \"type\": \"quantitative\"}, {\"field\": \"variable\", \"type\": \"nominal\"}, {\"field\": \"speed\", \"type\": \"quantitative\"}, {\"field\": \"rounded_speed\", \"type\": \"quantitative\"}], \"x\": {\"axis\": {\"grid\": false, \"labels\": false, \"ticks\": false, \"values\": [0]}, \"field\": \"jitter\", \"scale\": {}, \"title\": null, \"type\": \"quantitative\"}, \"y\": {\"axis\": {\"labelAngle\": -90}, \"field\": \"rounded_speed\", \"type\": \"quantitative\"}}, \"height\": 300, \"title\": \"Trip Duration by RT Category\", \"transform\": [{\"calculate\": \"sqrt(-2*log(random()))*cos(2*PI*random())\", \"as\": \"jitter\"}], \"width\": 80, \"$schema\": \"https://vega.github.io/schema/vega-lite/v4.17.0.json\", \"datasets\": {\"data-dff0b11a0dc021cd7521f1198c1e7b36\": [{\"_gtfs_dataset_name\": \"Anaheim Resort VehiclePositions\", \"shape_array_key\": \"29d2bbdbeaec1d6888800f85bebf6e33\", \"trip_id\": \"aa6a03fe-f119-44a5-8976-2ad77ceeb89f:4\", \"stop_sequence\": 1, \"gtfs_dataset_key\": \"1051e067d18a76b0a79789f051d5c22b\", \"loop_or_inlining\": 1, \"n_trips\": 8, \"variable\": \"avg_speed_mph\", \"speed\": 0.0, \"rounded_speed\": 0}, {\"_gtfs_dataset_name\": \"Anaheim Resort VehiclePositions\", \"shape_array_key\": \"29d2bbdbeaec1d6888800f85bebf6e33\", \"trip_id\": \"aa6a03fe-f119-44a5-8976-2ad77ceeb89f:4\", \"stop_sequence\": 2, \"gtfs_dataset_key\": \"1051e067d18a76b0a79789f051d5c22b\", \"loop_or_inlining\": 1, \"n_trips\": 8, \"variable\": \"avg_speed_mph\", \"speed\": 7.99, \"rounded_speed\": 7}, {\"_gtfs_dataset_name\": \"Anaheim Resort VehiclePositions\", \"shape_array_key\": \"29d2bbdbeaec1d6888800f85bebf6e33\", \"trip_id\": \"aa6a03fe-f119-44a5-8976-2ad77ceeb89f:8\", \"stop_sequence\": 3, \"gtfs_dataset_key\": \"1051e067d18a76b0a79789f051d5c22b\", \"loop_or_inlining\": 1, \"n_trips\": 8, \"variable\": \"avg_speed_mph\", \"speed\": 4.21, \"rounded_speed\": 4}, {\"_gtfs_dataset_name\": \"Anaheim Resort VehiclePositions\", \"shape_array_key\": \"29d2bbdbeaec1d6888800f85bebf6e33\", \"trip_id\": \"aa6a03fe-f119-44a5-8976-2ad77ceeb89f:3\", \"stop_sequence\": 4, \"gtfs_dataset_key\": \"1051e067d18a76b0a79789f051d5c22b\", \"loop_or_inlining\": 1, \"n_trips\": 8, \"variable\": \"avg_speed_mph\", \"speed\": 4.81, \"rounded_speed\": 4}, {\"_gtfs_dataset_name\": \"Anaheim Resort VehiclePositions\", \"shape_array_key\": \"29d2bbdbeaec1d6888800f85bebf6e33\", \"trip_id\": \"aa6a03fe-f119-44a5-8976-2ad77ceeb89f:5\", \"stop_sequence\": 5, \"gtfs_dataset_key\": \"1051e067d18a76b0a79789f051d5c22b\", \"loop_or_inlining\": 1, \"n_trips\": 8, \"variable\": \"avg_speed_mph\", \"speed\": 0.61, \"rounded_speed\": 0}, {\"_gtfs_dataset_name\": \"Anaheim Resort VehiclePositions\", \"shape_array_key\": \"29d2bbdbeaec1d6888800f85bebf6e33\", \"trip_id\": \"aa6a03fe-f119-44a5-8976-2ad77ceeb89f:1\", \"stop_sequence\": 6, \"gtfs_dataset_key\": \"1051e067d18a76b0a79789f051d5c22b\", \"loop_or_inlining\": 1, \"n_trips\": 8, \"variable\": \"avg_speed_mph\", \"speed\": 2.46, \"rounded_speed\": 2}, {\"_gtfs_dataset_name\": \"Anaheim Resort VehiclePositions\", \"shape_array_key\": \"29d2bbdbeaec1d6888800f85bebf6e33\", \"trip_id\": \"aa6a03fe-f119-44a5-8976-2ad77ceeb89f:4\", \"stop_sequence\": 7, \"gtfs_dataset_key\": \"1051e067d18a76b0a79789f051d5c22b\", \"loop_or_inlining\": 1, \"n_trips\": 8, \"variable\": \"avg_speed_mph\", \"speed\": 3.82, \"rounded_speed\": 3}, {\"_gtfs_dataset_name\": \"Anaheim Resort VehiclePositions\", \"shape_array_key\": \"29d2bbdbeaec1d6888800f85bebf6e33\", \"trip_id\": \"aa6a03fe-f119-44a5-8976-2ad77ceeb89f:5\", \"stop_sequence\": 8, \"gtfs_dataset_key\": \"1051e067d18a76b0a79789f051d5c22b\", \"loop_or_inlining\": 1, \"n_trips\": 8, \"variable\": \"avg_speed_mph\", \"speed\": 4.91, \"rounded_speed\": 4}, {\"_gtfs_dataset_name\": \"Anaheim Resort VehiclePositions\", \"shape_array_key\": \"29d2bbdbeaec1d6888800f85bebf6e33\", \"trip_id\": \"aa6a03fe-f119-44a5-8976-2ad77ceeb89f:5\", \"stop_sequence\": 9, \"gtfs_dataset_key\": \"1051e067d18a76b0a79789f051d5c22b\", \"loop_or_inlining\": 1, \"n_trips\": 8, \"variable\": \"avg_speed_mph\", \"speed\": 4.96, \"rounded_speed\": 4}, {\"_gtfs_dataset_name\": \"Anaheim Resort VehiclePositions\", \"shape_array_key\": \"29d2bbdbeaec1d6888800f85bebf6e33\", \"trip_id\": \"aa6a03fe-f119-44a5-8976-2ad77ceeb89f:4\", \"stop_sequence\": 1, \"gtfs_dataset_key\": \"1051e067d18a76b0a79789f051d5c22b\", \"loop_or_inlining\": 1, \"n_trips\": 8, \"variable\": \"speed_mph\", \"speed\": 0.0, \"rounded_speed\": 0}, {\"_gtfs_dataset_name\": \"Anaheim Resort VehiclePositions\", \"shape_array_key\": \"29d2bbdbeaec1d6888800f85bebf6e33\", \"trip_id\": \"aa6a03fe-f119-44a5-8976-2ad77ceeb89f:1\", \"stop_sequence\": 1, \"gtfs_dataset_key\": \"1051e067d18a76b0a79789f051d5c22b\", \"loop_or_inlining\": 1, \"n_trips\": 8, \"variable\": \"speed_mph\", \"speed\": 0.0008325192325460018, \"rounded_speed\": 0}, {\"_gtfs_dataset_name\": \"Anaheim Resort VehiclePositions\", \"shape_array_key\": \"29d2bbdbeaec1d6888800f85bebf6e33\", \"trip_id\": \"aa6a03fe-f119-44a5-8976-2ad77ceeb89f:3\", \"stop_sequence\": 1, \"gtfs_dataset_key\": \"1051e067d18a76b0a79789f051d5c22b\", \"loop_or_inlining\": 1, \"n_trips\": 8, \"variable\": \"speed_mph\", \"speed\": 0.024166183278071445, \"rounded_speed\": 0}, {\"_gtfs_dataset_name\": \"Anaheim Resort VehiclePositions\", \"shape_array_key\": \"29d2bbdbeaec1d6888800f85bebf6e33\", \"trip_id\": \"aa6a03fe-f119-44a5-8976-2ad77ceeb89f:7\", \"stop_sequence\": 1, \"gtfs_dataset_key\": \"1051e067d18a76b0a79789f051d5c22b\", \"loop_or_inlining\": 1, \"n_trips\": 8, \"variable\": \"speed_mph\", \"speed\": 0.004285628561628433, \"rounded_speed\": 0}, {\"_gtfs_dataset_name\": \"Anaheim Resort VehiclePositions\", \"shape_array_key\": \"29d2bbdbeaec1d6888800f85bebf6e33\", \"trip_id\": \"aa6a03fe-f119-44a5-8976-2ad77ceeb89f:4\", \"stop_sequence\": 2, \"gtfs_dataset_key\": \"1051e067d18a76b0a79789f051d5c22b\", \"loop_or_inlining\": 1, \"n_trips\": 8, \"variable\": \"speed_mph\", \"speed\": 9.052623885192912, \"rounded_speed\": 9}, {\"_gtfs_dataset_name\": \"Anaheim Resort VehiclePositions\", \"shape_array_key\": \"29d2bbdbeaec1d6888800f85bebf6e33\", \"trip_id\": \"aa6a03fe-f119-44a5-8976-2ad77ceeb89f:8\", \"stop_sequence\": 2, \"gtfs_dataset_key\": \"1051e067d18a76b0a79789f051d5c22b\", \"loop_or_inlining\": 1, \"n_trips\": 8, \"variable\": \"speed_mph\", \"speed\": 9.572140759512445, \"rounded_speed\": 9}, {\"_gtfs_dataset_name\": \"Anaheim Resort VehiclePositions\", \"shape_array_key\": \"29d2bbdbeaec1d6888800f85bebf6e33\", \"trip_id\": \"aa6a03fe-f119-44a5-8976-2ad77ceeb89f:2\", \"stop_sequence\": 2, \"gtfs_dataset_key\": \"1051e067d18a76b0a79789f051d5c22b\", \"loop_or_inlining\": 1, \"n_trips\": 8, \"variable\": \"speed_mph\", \"speed\": 12.084147088905848, \"rounded_speed\": 12}, {\"_gtfs_dataset_name\": \"Anaheim Resort VehiclePositions\", \"shape_array_key\": \"29d2bbdbeaec1d6888800f85bebf6e33\", \"trip_id\": \"aa6a03fe-f119-44a5-8976-2ad77ceeb89f:7\", \"stop_sequence\": 2, \"gtfs_dataset_key\": \"1051e067d18a76b0a79789f051d5c22b\", \"loop_or_inlining\": 1, \"n_trips\": 8, \"variable\": \"speed_mph\", \"speed\": 7.3172013553677715, \"rounded_speed\": 7}, {\"_gtfs_dataset_name\": \"Anaheim Resort VehiclePositions\", \"shape_array_key\": \"29d2bbdbeaec1d6888800f85bebf6e33\", \"trip_id\": \"aa6a03fe-f119-44a5-8976-2ad77ceeb89f:5\", \"stop_sequence\": 2, \"gtfs_dataset_key\": \"1051e067d18a76b0a79789f051d5c22b\", \"loop_or_inlining\": 1, \"n_trips\": 8, \"variable\": \"speed_mph\", \"speed\": 12.228887731569518, \"rounded_speed\": 12}, {\"_gtfs_dataset_name\": \"Anaheim Resort VehiclePositions\", \"shape_array_key\": \"29d2bbdbeaec1d6888800f85bebf6e33\", \"trip_id\": \"aa6a03fe-f119-44a5-8976-2ad77ceeb89f:1\", \"stop_sequence\": 2, \"gtfs_dataset_key\": \"1051e067d18a76b0a79789f051d5c22b\", \"loop_or_inlining\": 1, \"n_trips\": 8, \"variable\": \"speed_mph\", \"speed\": 1.474625853012174, \"rounded_speed\": 1}, {\"_gtfs_dataset_name\": \"Anaheim Resort VehiclePositions\", \"shape_array_key\": \"29d2bbdbeaec1d6888800f85bebf6e33\", \"trip_id\": \"aa6a03fe-f119-44a5-8976-2ad77ceeb89f:3\", \"stop_sequence\": 2, \"gtfs_dataset_key\": \"1051e067d18a76b0a79789f051d5c22b\", \"loop_or_inlining\": 1, \"n_trips\": 8, \"variable\": \"speed_mph\", \"speed\": 6.665222373845789, \"rounded_speed\": 6}, {\"_gtfs_dataset_name\": \"Anaheim Resort VehiclePositions\", \"shape_array_key\": \"29d2bbdbeaec1d6888800f85bebf6e33\", \"trip_id\": \"aa6a03fe-f119-44a5-8976-2ad77ceeb89f:6\", \"stop_sequence\": 2, \"gtfs_dataset_key\": \"1051e067d18a76b0a79789f051d5c22b\", \"loop_or_inlining\": 1, \"n_trips\": 8, \"variable\": \"speed_mph\", \"speed\": 5.539256926472267, \"rounded_speed\": 5}, {\"_gtfs_dataset_name\": \"Anaheim Resort VehiclePositions\", \"shape_array_key\": \"29d2bbdbeaec1d6888800f85bebf6e33\", \"trip_id\": \"aa6a03fe-f119-44a5-8976-2ad77ceeb89f:8\", \"stop_sequence\": 3, \"gtfs_dataset_key\": \"1051e067d18a76b0a79789f051d5c22b\", \"loop_or_inlining\": 1, \"n_trips\": 8, \"variable\": \"speed_mph\", \"speed\": 4.204004339000222, \"rounded_speed\": 4}, {\"_gtfs_dataset_name\": \"Anaheim Resort VehiclePositions\", \"shape_array_key\": \"29d2bbdbeaec1d6888800f85bebf6e33\", \"trip_id\": \"aa6a03fe-f119-44a5-8976-2ad77ceeb89f:6\", \"stop_sequence\": 3, \"gtfs_dataset_key\": \"1051e067d18a76b0a79789f051d5c22b\", \"loop_or_inlining\": 1, \"n_trips\": 8, \"variable\": \"speed_mph\", \"speed\": 5.45626095061731, \"rounded_speed\": 5}, {\"_gtfs_dataset_name\": \"Anaheim Resort VehiclePositions\", \"shape_array_key\": \"29d2bbdbeaec1d6888800f85bebf6e33\", \"trip_id\": \"aa6a03fe-f119-44a5-8976-2ad77ceeb89f:3\", \"stop_sequence\": 3, \"gtfs_dataset_key\": \"1051e067d18a76b0a79789f051d5c22b\", \"loop_or_inlining\": 1, \"n_trips\": 8, \"variable\": \"speed_mph\", \"speed\": 5.233556422020684, \"rounded_speed\": 5}, {\"_gtfs_dataset_name\": \"Anaheim Resort VehiclePositions\", \"shape_array_key\": \"29d2bbdbeaec1d6888800f85bebf6e33\", \"trip_id\": \"aa6a03fe-f119-44a5-8976-2ad77ceeb89f:7\", \"stop_sequence\": 3, \"gtfs_dataset_key\": \"1051e067d18a76b0a79789f051d5c22b\", \"loop_or_inlining\": 1, \"n_trips\": 8, \"variable\": \"speed_mph\", \"speed\": 3.743711893124285, \"rounded_speed\": 3}, {\"_gtfs_dataset_name\": \"Anaheim Resort VehiclePositions\", \"shape_array_key\": \"29d2bbdbeaec1d6888800f85bebf6e33\", \"trip_id\": \"aa6a03fe-f119-44a5-8976-2ad77ceeb89f:1\", \"stop_sequence\": 3, \"gtfs_dataset_key\": \"1051e067d18a76b0a79789f051d5c22b\", \"loop_or_inlining\": 1, \"n_trips\": 8, \"variable\": \"speed_mph\", \"speed\": 3.7712391864560812, \"rounded_speed\": 3}, {\"_gtfs_dataset_name\": \"Anaheim Resort VehiclePositions\", \"shape_array_key\": \"29d2bbdbeaec1d6888800f85bebf6e33\", \"trip_id\": \"aa6a03fe-f119-44a5-8976-2ad77ceeb89f:5\", \"stop_sequence\": 3, \"gtfs_dataset_key\": \"1051e067d18a76b0a79789f051d5c22b\", \"loop_or_inlining\": 1, \"n_trips\": 8, \"variable\": \"speed_mph\", \"speed\": 3.71658354607266, \"rounded_speed\": 3}, {\"_gtfs_dataset_name\": \"Anaheim Resort VehiclePositions\", \"shape_array_key\": \"29d2bbdbeaec1d6888800f85bebf6e33\", \"trip_id\": \"aa6a03fe-f119-44a5-8976-2ad77ceeb89f:4\", \"stop_sequence\": 3, \"gtfs_dataset_key\": \"1051e067d18a76b0a79789f051d5c22b\", \"loop_or_inlining\": 1, \"n_trips\": 8, \"variable\": \"speed_mph\", \"speed\": 4.030582374619538, \"rounded_speed\": 4}, {\"_gtfs_dataset_name\": \"Anaheim Resort VehiclePositions\", \"shape_array_key\": \"29d2bbdbeaec1d6888800f85bebf6e33\", \"trip_id\": \"aa6a03fe-f119-44a5-8976-2ad77ceeb89f:2\", \"stop_sequence\": 3, \"gtfs_dataset_key\": \"1051e067d18a76b0a79789f051d5c22b\", \"loop_or_inlining\": 1, \"n_trips\": 8, \"variable\": \"speed_mph\", \"speed\": 3.5371622714346693, \"rounded_speed\": 3}, {\"_gtfs_dataset_name\": \"Anaheim Resort VehiclePositions\", \"shape_array_key\": \"29d2bbdbeaec1d6888800f85bebf6e33\", \"trip_id\": \"aa6a03fe-f119-44a5-8976-2ad77ceeb89f:3\", \"stop_sequence\": 4, \"gtfs_dataset_key\": \"1051e067d18a76b0a79789f051d5c22b\", \"loop_or_inlining\": 1, \"n_trips\": 8, \"variable\": \"speed_mph\", \"speed\": 5.502321180654386, \"rounded_speed\": 5}, {\"_gtfs_dataset_name\": \"Anaheim Resort VehiclePositions\", \"shape_array_key\": \"29d2bbdbeaec1d6888800f85bebf6e33\", \"trip_id\": \"aa6a03fe-f119-44a5-8976-2ad77ceeb89f:2\", \"stop_sequence\": 4, \"gtfs_dataset_key\": \"1051e067d18a76b0a79789f051d5c22b\", \"loop_or_inlining\": 1, \"n_trips\": 8, \"variable\": \"speed_mph\", \"speed\": 4.743380328150332, \"rounded_speed\": 4}, {\"_gtfs_dataset_name\": \"Anaheim Resort VehiclePositions\", \"shape_array_key\": \"29d2bbdbeaec1d6888800f85bebf6e33\", \"trip_id\": \"aa6a03fe-f119-44a5-8976-2ad77ceeb89f:5\", \"stop_sequence\": 4, \"gtfs_dataset_key\": \"1051e067d18a76b0a79789f051d5c22b\", \"loop_or_inlining\": 1, \"n_trips\": 8, \"variable\": \"speed_mph\", \"speed\": 2.6851940872424147, \"rounded_speed\": 2}, {\"_gtfs_dataset_name\": \"Anaheim Resort VehiclePositions\", \"shape_array_key\": \"29d2bbdbeaec1d6888800f85bebf6e33\", \"trip_id\": \"aa6a03fe-f119-44a5-8976-2ad77ceeb89f:4\", \"stop_sequence\": 4, \"gtfs_dataset_key\": \"1051e067d18a76b0a79789f051d5c22b\", \"loop_or_inlining\": 1, \"n_trips\": 8, \"variable\": \"speed_mph\", \"speed\": 1.9037205615476676, \"rounded_speed\": 1}, {\"_gtfs_dataset_name\": \"Anaheim Resort VehiclePositions\", \"shape_array_key\": \"29d2bbdbeaec1d6888800f85bebf6e33\", \"trip_id\": \"aa6a03fe-f119-44a5-8976-2ad77ceeb89f:1\", \"stop_sequence\": 4, \"gtfs_dataset_key\": \"1051e067d18a76b0a79789f051d5c22b\", \"loop_or_inlining\": 1, \"n_trips\": 8, \"variable\": \"speed_mph\", \"speed\": 8.874711581700621, \"rounded_speed\": 8}, {\"_gtfs_dataset_name\": \"Anaheim Resort VehiclePositions\", \"shape_array_key\": \"29d2bbdbeaec1d6888800f85bebf6e33\", \"trip_id\": \"aa6a03fe-f119-44a5-8976-2ad77ceeb89f:6\", \"stop_sequence\": 4, \"gtfs_dataset_key\": \"1051e067d18a76b0a79789f051d5c22b\", \"loop_or_inlining\": 1, \"n_trips\": 8, \"variable\": \"speed_mph\", \"speed\": 3.9698284168936024, \"rounded_speed\": 3}, {\"_gtfs_dataset_name\": \"Anaheim Resort VehiclePositions\", \"shape_array_key\": \"29d2bbdbeaec1d6888800f85bebf6e33\", \"trip_id\": \"aa6a03fe-f119-44a5-8976-2ad77ceeb89f:7\", \"stop_sequence\": 4, \"gtfs_dataset_key\": \"1051e067d18a76b0a79789f051d5c22b\", \"loop_or_inlining\": 1, \"n_trips\": 8, \"variable\": \"speed_mph\", \"speed\": 5.037482591588582, \"rounded_speed\": 5}, {\"_gtfs_dataset_name\": \"Anaheim Resort VehiclePositions\", \"shape_array_key\": \"29d2bbdbeaec1d6888800f85bebf6e33\", \"trip_id\": \"aa6a03fe-f119-44a5-8976-2ad77ceeb89f:8\", \"stop_sequence\": 4, \"gtfs_dataset_key\": \"1051e067d18a76b0a79789f051d5c22b\", \"loop_or_inlining\": 1, \"n_trips\": 8, \"variable\": \"speed_mph\", \"speed\": 5.791917032267774, \"rounded_speed\": 5}, {\"_gtfs_dataset_name\": \"Anaheim Resort VehiclePositions\", \"shape_array_key\": \"29d2bbdbeaec1d6888800f85bebf6e33\", \"trip_id\": \"aa6a03fe-f119-44a5-8976-2ad77ceeb89f:5\", \"stop_sequence\": 5, \"gtfs_dataset_key\": \"1051e067d18a76b0a79789f051d5c22b\", \"loop_or_inlining\": 1, \"n_trips\": 8, \"variable\": \"speed_mph\", \"speed\": 0.4003327895449103, \"rounded_speed\": 0}, {\"_gtfs_dataset_name\": \"Anaheim Resort VehiclePositions\", \"shape_array_key\": \"29d2bbdbeaec1d6888800f85bebf6e33\", \"trip_id\": \"aa6a03fe-f119-44a5-8976-2ad77ceeb89f:1\", \"stop_sequence\": 5, \"gtfs_dataset_key\": \"1051e067d18a76b0a79789f051d5c22b\", \"loop_or_inlining\": 1, \"n_trips\": 8, \"variable\": \"speed_mph\", \"speed\": 0.3649171881347712, \"rounded_speed\": 0}, {\"_gtfs_dataset_name\": \"Anaheim Resort VehiclePositions\", \"shape_array_key\": \"29d2bbdbeaec1d6888800f85bebf6e33\", \"trip_id\": \"aa6a03fe-f119-44a5-8976-2ad77ceeb89f:6\", \"stop_sequence\": 5, \"gtfs_dataset_key\": \"1051e067d18a76b0a79789f051d5c22b\", \"loop_or_inlining\": 1, \"n_trips\": 8, \"variable\": \"speed_mph\", \"speed\": 0.9530712497677587, \"rounded_speed\": 0}, {\"_gtfs_dataset_name\": \"Anaheim Resort VehiclePositions\", \"shape_array_key\": \"29d2bbdbeaec1d6888800f85bebf6e33\", \"trip_id\": \"aa6a03fe-f119-44a5-8976-2ad77ceeb89f:2\", \"stop_sequence\": 5, \"gtfs_dataset_key\": \"1051e067d18a76b0a79789f051d5c22b\", \"loop_or_inlining\": 1, \"n_trips\": 8, \"variable\": \"speed_mph\", \"speed\": 0.9438630959548601, \"rounded_speed\": 0}, {\"_gtfs_dataset_name\": \"Anaheim Resort VehiclePositions\", \"shape_array_key\": \"29d2bbdbeaec1d6888800f85bebf6e33\", \"trip_id\": \"aa6a03fe-f119-44a5-8976-2ad77ceeb89f:4\", \"stop_sequence\": 5, \"gtfs_dataset_key\": \"1051e067d18a76b0a79789f051d5c22b\", \"loop_or_inlining\": 1, \"n_trips\": 8, \"variable\": \"speed_mph\", \"speed\": 0.7386749715210611, \"rounded_speed\": 0}, {\"_gtfs_dataset_name\": \"Anaheim Resort VehiclePositions\", \"shape_array_key\": \"29d2bbdbeaec1d6888800f85bebf6e33\", \"trip_id\": \"aa6a03fe-f119-44a5-8976-2ad77ceeb89f:7\", \"stop_sequence\": 5, \"gtfs_dataset_key\": \"1051e067d18a76b0a79789f051d5c22b\", \"loop_or_inlining\": 1, \"n_trips\": 8, \"variable\": \"speed_mph\", \"speed\": 0.858355583120451, \"rounded_speed\": 0}, {\"_gtfs_dataset_name\": \"Anaheim Resort VehiclePositions\", \"shape_array_key\": \"29d2bbdbeaec1d6888800f85bebf6e33\", \"trip_id\": \"aa6a03fe-f119-44a5-8976-2ad77ceeb89f:8\", \"stop_sequence\": 5, \"gtfs_dataset_key\": \"1051e067d18a76b0a79789f051d5c22b\", \"loop_or_inlining\": 1, \"n_trips\": 8, \"variable\": \"speed_mph\", \"speed\": 0.030505310606709555, \"rounded_speed\": 0}, {\"_gtfs_dataset_name\": \"Anaheim Resort VehiclePositions\", \"shape_array_key\": \"29d2bbdbeaec1d6888800f85bebf6e33\", \"trip_id\": \"aa6a03fe-f119-44a5-8976-2ad77ceeb89f:3\", \"stop_sequence\": 5, \"gtfs_dataset_key\": \"1051e067d18a76b0a79789f051d5c22b\", \"loop_or_inlining\": 1, \"n_trips\": 8, \"variable\": \"speed_mph\", \"speed\": 0.6211284606682089, \"rounded_speed\": 0}, {\"_gtfs_dataset_name\": \"Anaheim Resort VehiclePositions\", \"shape_array_key\": \"29d2bbdbeaec1d6888800f85bebf6e33\", \"trip_id\": \"aa6a03fe-f119-44a5-8976-2ad77ceeb89f:1\", \"stop_sequence\": 6, \"gtfs_dataset_key\": \"1051e067d18a76b0a79789f051d5c22b\", \"loop_or_inlining\": 1, \"n_trips\": 8, \"variable\": \"speed_mph\", \"speed\": 3.1778058596745042, \"rounded_speed\": 3}, {\"_gtfs_dataset_name\": \"Anaheim Resort VehiclePositions\", \"shape_array_key\": \"29d2bbdbeaec1d6888800f85bebf6e33\", \"trip_id\": \"aa6a03fe-f119-44a5-8976-2ad77ceeb89f:7\", \"stop_sequence\": 6, \"gtfs_dataset_key\": \"1051e067d18a76b0a79789f051d5c22b\", \"loop_or_inlining\": 1, \"n_trips\": 8, \"variable\": \"speed_mph\", \"speed\": 3.115495940857357, \"rounded_speed\": 3}, {\"_gtfs_dataset_name\": \"Anaheim Resort VehiclePositions\", \"shape_array_key\": \"29d2bbdbeaec1d6888800f85bebf6e33\", \"trip_id\": \"aa6a03fe-f119-44a5-8976-2ad77ceeb89f:5\", \"stop_sequence\": 6, \"gtfs_dataset_key\": \"1051e067d18a76b0a79789f051d5c22b\", \"loop_or_inlining\": 1, \"n_trips\": 8, \"variable\": \"speed_mph\", \"speed\": 3.0713753901508745, \"rounded_speed\": 3}, {\"_gtfs_dataset_name\": \"Anaheim Resort VehiclePositions\", \"shape_array_key\": \"29d2bbdbeaec1d6888800f85bebf6e33\", \"trip_id\": \"aa6a03fe-f119-44a5-8976-2ad77ceeb89f:8\", \"stop_sequence\": 6, \"gtfs_dataset_key\": \"1051e067d18a76b0a79789f051d5c22b\", \"loop_or_inlining\": 1, \"n_trips\": 8, \"variable\": \"speed_mph\", \"speed\": 1.6049524543810627, \"rounded_speed\": 1}, {\"_gtfs_dataset_name\": \"Anaheim Resort VehiclePositions\", \"shape_array_key\": \"29d2bbdbeaec1d6888800f85bebf6e33\", \"trip_id\": \"aa6a03fe-f119-44a5-8976-2ad77ceeb89f:4\", \"stop_sequence\": 6, \"gtfs_dataset_key\": \"1051e067d18a76b0a79789f051d5c22b\", \"loop_or_inlining\": 1, \"n_trips\": 8, \"variable\": \"speed_mph\", \"speed\": 0.0, \"rounded_speed\": 0}, {\"_gtfs_dataset_name\": \"Anaheim Resort VehiclePositions\", \"shape_array_key\": \"29d2bbdbeaec1d6888800f85bebf6e33\", \"trip_id\": \"aa6a03fe-f119-44a5-8976-2ad77ceeb89f:6\", \"stop_sequence\": 6, \"gtfs_dataset_key\": \"1051e067d18a76b0a79789f051d5c22b\", \"loop_or_inlining\": 1, \"n_trips\": 8, \"variable\": \"speed_mph\", \"speed\": 3.4755251261789124, \"rounded_speed\": 3}, {\"_gtfs_dataset_name\": \"Anaheim Resort VehiclePositions\", \"shape_array_key\": \"29d2bbdbeaec1d6888800f85bebf6e33\", \"trip_id\": \"aa6a03fe-f119-44a5-8976-2ad77ceeb89f:3\", \"stop_sequence\": 6, \"gtfs_dataset_key\": \"1051e067d18a76b0a79789f051d5c22b\", \"loop_or_inlining\": 1, \"n_trips\": 8, \"variable\": \"speed_mph\", \"speed\": 5.165479973825983, \"rounded_speed\": 5}, {\"_gtfs_dataset_name\": \"Anaheim Resort VehiclePositions\", \"shape_array_key\": \"29d2bbdbeaec1d6888800f85bebf6e33\", \"trip_id\": \"aa6a03fe-f119-44a5-8976-2ad77ceeb89f:2\", \"stop_sequence\": 6, \"gtfs_dataset_key\": \"1051e067d18a76b0a79789f051d5c22b\", \"loop_or_inlining\": 1, \"n_trips\": 8, \"variable\": \"speed_mph\", \"speed\": 0.10638895159918775, \"rounded_speed\": 0}, {\"_gtfs_dataset_name\": \"Anaheim Resort VehiclePositions\", \"shape_array_key\": \"29d2bbdbeaec1d6888800f85bebf6e33\", \"trip_id\": \"aa6a03fe-f119-44a5-8976-2ad77ceeb89f:4\", \"stop_sequence\": 7, \"gtfs_dataset_key\": \"1051e067d18a76b0a79789f051d5c22b\", \"loop_or_inlining\": 1, \"n_trips\": 8, \"variable\": \"speed_mph\", \"speed\": 3.7270936120609353, \"rounded_speed\": 3}, {\"_gtfs_dataset_name\": \"Anaheim Resort VehiclePositions\", \"shape_array_key\": \"29d2bbdbeaec1d6888800f85bebf6e33\", \"trip_id\": \"aa6a03fe-f119-44a5-8976-2ad77ceeb89f:2\", \"stop_sequence\": 7, \"gtfs_dataset_key\": \"1051e067d18a76b0a79789f051d5c22b\", \"loop_or_inlining\": 1, \"n_trips\": 8, \"variable\": \"speed_mph\", \"speed\": 4.198388039106803, \"rounded_speed\": 4}, {\"_gtfs_dataset_name\": \"Anaheim Resort VehiclePositions\", \"shape_array_key\": \"29d2bbdbeaec1d6888800f85bebf6e33\", \"trip_id\": \"aa6a03fe-f119-44a5-8976-2ad77ceeb89f:7\", \"stop_sequence\": 7, \"gtfs_dataset_key\": \"1051e067d18a76b0a79789f051d5c22b\", \"loop_or_inlining\": 1, \"n_trips\": 8, \"variable\": \"speed_mph\", \"speed\": 4.398551656884758, \"rounded_speed\": 4}, {\"_gtfs_dataset_name\": \"Anaheim Resort VehiclePositions\", \"shape_array_key\": \"29d2bbdbeaec1d6888800f85bebf6e33\", \"trip_id\": \"aa6a03fe-f119-44a5-8976-2ad77ceeb89f:5\", \"stop_sequence\": 7, \"gtfs_dataset_key\": \"1051e067d18a76b0a79789f051d5c22b\", \"loop_or_inlining\": 1, \"n_trips\": 8, \"variable\": \"speed_mph\", \"speed\": 1.5965853186573182, \"rounded_speed\": 1}, {\"_gtfs_dataset_name\": \"Anaheim Resort VehiclePositions\", \"shape_array_key\": \"29d2bbdbeaec1d6888800f85bebf6e33\", \"trip_id\": \"aa6a03fe-f119-44a5-8976-2ad77ceeb89f:8\", \"stop_sequence\": 7, \"gtfs_dataset_key\": \"1051e067d18a76b0a79789f051d5c22b\", \"loop_or_inlining\": 1, \"n_trips\": 8, \"variable\": \"speed_mph\", \"speed\": 4.382712794175961, \"rounded_speed\": 4}, {\"_gtfs_dataset_name\": \"Anaheim Resort VehiclePositions\", \"shape_array_key\": \"29d2bbdbeaec1d6888800f85bebf6e33\", \"trip_id\": \"aa6a03fe-f119-44a5-8976-2ad77ceeb89f:1\", \"stop_sequence\": 7, \"gtfs_dataset_key\": \"1051e067d18a76b0a79789f051d5c22b\", \"loop_or_inlining\": 1, \"n_trips\": 8, \"variable\": \"speed_mph\", \"speed\": 5.728926171239877, \"rounded_speed\": 5}, {\"_gtfs_dataset_name\": \"Anaheim Resort VehiclePositions\", \"shape_array_key\": \"29d2bbdbeaec1d6888800f85bebf6e33\", \"trip_id\": \"aa6a03fe-f119-44a5-8976-2ad77ceeb89f:6\", \"stop_sequence\": 7, \"gtfs_dataset_key\": \"1051e067d18a76b0a79789f051d5c22b\", \"loop_or_inlining\": 1, \"n_trips\": 8, \"variable\": \"speed_mph\", \"speed\": 3.8511807031171434, \"rounded_speed\": 3}, {\"_gtfs_dataset_name\": \"Anaheim Resort VehiclePositions\", \"shape_array_key\": \"29d2bbdbeaec1d6888800f85bebf6e33\", \"trip_id\": \"aa6a03fe-f119-44a5-8976-2ad77ceeb89f:3\", \"stop_sequence\": 7, \"gtfs_dataset_key\": \"1051e067d18a76b0a79789f051d5c22b\", \"loop_or_inlining\": 1, \"n_trips\": 8, \"variable\": \"speed_mph\", \"speed\": 2.665992305539968, \"rounded_speed\": 2}, {\"_gtfs_dataset_name\": \"Anaheim Resort VehiclePositions\", \"shape_array_key\": \"29d2bbdbeaec1d6888800f85bebf6e33\", \"trip_id\": \"aa6a03fe-f119-44a5-8976-2ad77ceeb89f:5\", \"stop_sequence\": 8, \"gtfs_dataset_key\": \"1051e067d18a76b0a79789f051d5c22b\", \"loop_or_inlining\": 1, \"n_trips\": 8, \"variable\": \"speed_mph\", \"speed\": 3.3531660450484737, \"rounded_speed\": 3}, {\"_gtfs_dataset_name\": \"Anaheim Resort VehiclePositions\", \"shape_array_key\": \"29d2bbdbeaec1d6888800f85bebf6e33\", \"trip_id\": \"aa6a03fe-f119-44a5-8976-2ad77ceeb89f:7\", \"stop_sequence\": 8, \"gtfs_dataset_key\": \"1051e067d18a76b0a79789f051d5c22b\", \"loop_or_inlining\": 1, \"n_trips\": 8, \"variable\": \"speed_mph\", \"speed\": 4.7153897508494165, \"rounded_speed\": 4}, {\"_gtfs_dataset_name\": \"Anaheim Resort VehiclePositions\", \"shape_array_key\": \"29d2bbdbeaec1d6888800f85bebf6e33\", \"trip_id\": \"aa6a03fe-f119-44a5-8976-2ad77ceeb89f:4\", \"stop_sequence\": 8, \"gtfs_dataset_key\": \"1051e067d18a76b0a79789f051d5c22b\", \"loop_or_inlining\": 1, \"n_trips\": 8, \"variable\": \"speed_mph\", \"speed\": 7.496716773745876, \"rounded_speed\": 7}, {\"_gtfs_dataset_name\": \"Anaheim Resort VehiclePositions\", \"shape_array_key\": \"29d2bbdbeaec1d6888800f85bebf6e33\", \"trip_id\": \"aa6a03fe-f119-44a5-8976-2ad77ceeb89f:1\", \"stop_sequence\": 8, \"gtfs_dataset_key\": \"1051e067d18a76b0a79789f051d5c22b\", \"loop_or_inlining\": 1, \"n_trips\": 8, \"variable\": \"speed_mph\", \"speed\": 7.196793712874587, \"rounded_speed\": 7}, {\"_gtfs_dataset_name\": \"Anaheim Resort VehiclePositions\", \"shape_array_key\": \"29d2bbdbeaec1d6888800f85bebf6e33\", \"trip_id\": \"aa6a03fe-f119-44a5-8976-2ad77ceeb89f:6\", \"stop_sequence\": 8, \"gtfs_dataset_key\": \"1051e067d18a76b0a79789f051d5c22b\", \"loop_or_inlining\": 1, \"n_trips\": 8, \"variable\": \"speed_mph\", \"speed\": 4.5885013672940875, \"rounded_speed\": 4}, {\"_gtfs_dataset_name\": \"Anaheim Resort VehiclePositions\", \"shape_array_key\": \"29d2bbdbeaec1d6888800f85bebf6e33\", \"trip_id\": \"aa6a03fe-f119-44a5-8976-2ad77ceeb89f:2\", \"stop_sequence\": 8, \"gtfs_dataset_key\": \"1051e067d18a76b0a79789f051d5c22b\", \"loop_or_inlining\": 1, \"n_trips\": 8, \"variable\": \"speed_mph\", \"speed\": 3.9708545270310878, \"rounded_speed\": 3}, {\"_gtfs_dataset_name\": \"Anaheim Resort VehiclePositions\", \"shape_array_key\": \"29d2bbdbeaec1d6888800f85bebf6e33\", \"trip_id\": \"aa6a03fe-f119-44a5-8976-2ad77ceeb89f:3\", \"stop_sequence\": 8, \"gtfs_dataset_key\": \"1051e067d18a76b0a79789f051d5c22b\", \"loop_or_inlining\": 1, \"n_trips\": 8, \"variable\": \"speed_mph\", \"speed\": 4.619157306954531, \"rounded_speed\": 4}, {\"_gtfs_dataset_name\": \"Anaheim Resort VehiclePositions\", \"shape_array_key\": \"29d2bbdbeaec1d6888800f85bebf6e33\", \"trip_id\": \"aa6a03fe-f119-44a5-8976-2ad77ceeb89f:5\", \"stop_sequence\": 9, \"gtfs_dataset_key\": \"1051e067d18a76b0a79789f051d5c22b\", \"loop_or_inlining\": 1, \"n_trips\": 8, \"variable\": \"speed_mph\", \"speed\": 2.493484490013982, \"rounded_speed\": 2}, {\"_gtfs_dataset_name\": \"Anaheim Resort VehiclePositions\", \"shape_array_key\": \"29d2bbdbeaec1d6888800f85bebf6e33\", \"trip_id\": \"aa6a03fe-f119-44a5-8976-2ad77ceeb89f:2\", \"stop_sequence\": 9, \"gtfs_dataset_key\": \"1051e067d18a76b0a79789f051d5c22b\", \"loop_or_inlining\": 1, \"n_trips\": 8, \"variable\": \"speed_mph\", \"speed\": 2.8256576669091813, \"rounded_speed\": 2}, {\"_gtfs_dataset_name\": \"Anaheim Resort VehiclePositions\", \"shape_array_key\": \"29d2bbdbeaec1d6888800f85bebf6e33\", \"trip_id\": \"aa6a03fe-f119-44a5-8976-2ad77ceeb89f:3\", \"stop_sequence\": 9, \"gtfs_dataset_key\": \"1051e067d18a76b0a79789f051d5c22b\", \"loop_or_inlining\": 1, \"n_trips\": 8, \"variable\": \"speed_mph\", \"speed\": 5.097026478490071, \"rounded_speed\": 5}, {\"_gtfs_dataset_name\": \"Anaheim Resort VehiclePositions\", \"shape_array_key\": \"29d2bbdbeaec1d6888800f85bebf6e33\", \"trip_id\": \"aa6a03fe-f119-44a5-8976-2ad77ceeb89f:7\", \"stop_sequence\": 9, \"gtfs_dataset_key\": \"1051e067d18a76b0a79789f051d5c22b\", \"loop_or_inlining\": 1, \"n_trips\": 8, \"variable\": \"speed_mph\", \"speed\": 6.445079680812759, \"rounded_speed\": 6}, {\"_gtfs_dataset_name\": \"Anaheim Resort VehiclePositions\", \"shape_array_key\": \"29d2bbdbeaec1d6888800f85bebf6e33\", \"trip_id\": \"aa6a03fe-f119-44a5-8976-2ad77ceeb89f:8\", \"stop_sequence\": 9, \"gtfs_dataset_key\": \"1051e067d18a76b0a79789f051d5c22b\", \"loop_or_inlining\": 1, \"n_trips\": 8, \"variable\": \"speed_mph\", \"speed\": 7.1546699425272715, \"rounded_speed\": 7}, {\"_gtfs_dataset_name\": \"Anaheim Resort VehiclePositions\", \"shape_array_key\": \"29d2bbdbeaec1d6888800f85bebf6e33\", \"trip_id\": \"aa6a03fe-f119-44a5-8976-2ad77ceeb89f:1\", \"stop_sequence\": 9, \"gtfs_dataset_key\": \"1051e067d18a76b0a79789f051d5c22b\", \"loop_or_inlining\": 1, \"n_trips\": 8, \"variable\": \"speed_mph\", \"speed\": 7.02608980528985, \"rounded_speed\": 7}, {\"_gtfs_dataset_name\": \"Anaheim Resort VehiclePositions\", \"shape_array_key\": \"29d2bbdbeaec1d6888800f85bebf6e33\", \"trip_id\": \"aa6a03fe-f119-44a5-8976-2ad77ceeb89f:6\", \"stop_sequence\": 9, \"gtfs_dataset_key\": \"1051e067d18a76b0a79789f051d5c22b\", \"loop_or_inlining\": 1, \"n_trips\": 8, \"variable\": \"speed_mph\", \"speed\": 5.383246629950887, \"rounded_speed\": 5}, {\"_gtfs_dataset_name\": \"Anaheim Resort VehiclePositions\", \"shape_array_key\": \"29d2bbdbeaec1d6888800f85bebf6e33\", \"trip_id\": \"aa6a03fe-f119-44a5-8976-2ad77ceeb89f:4\", \"stop_sequence\": 9, \"gtfs_dataset_key\": \"1051e067d18a76b0a79789f051d5c22b\", \"loop_or_inlining\": 1, \"n_trips\": 8, \"variable\": \"speed_mph\", \"speed\": 3.2376216720996656, \"rounded_speed\": 3}, {\"_gtfs_dataset_name\": \"Anaheim Resort VehiclePositions\", \"shape_array_key\": \"29d2bbdbeaec1d6888800f85bebf6e33\", \"trip_id\": \"aa6a03fe-f119-44a5-8976-2ad77ceeb89f:4\", \"stop_sequence\": 1, \"gtfs_dataset_key\": \"1051e067d18a76b0a79789f051d5c22b\", \"loop_or_inlining\": 1, \"n_trips\": 8, \"variable\": \"p20_speed_mph\", \"speed\": 0.0, \"rounded_speed\": 0}, {\"_gtfs_dataset_name\": \"Anaheim Resort VehiclePositions\", \"shape_array_key\": \"29d2bbdbeaec1d6888800f85bebf6e33\", \"trip_id\": \"aa6a03fe-f119-44a5-8976-2ad77ceeb89f:4\", \"stop_sequence\": 2, \"gtfs_dataset_key\": \"1051e067d18a76b0a79789f051d5c22b\", \"loop_or_inlining\": 1, \"n_trips\": 8, \"variable\": \"p20_speed_mph\", \"speed\": 5.99, \"rounded_speed\": 5}, {\"_gtfs_dataset_name\": \"Anaheim Resort VehiclePositions\", \"shape_array_key\": \"29d2bbdbeaec1d6888800f85bebf6e33\", \"trip_id\": \"aa6a03fe-f119-44a5-8976-2ad77ceeb89f:8\", \"stop_sequence\": 3, \"gtfs_dataset_key\": \"1051e067d18a76b0a79789f051d5c22b\", \"loop_or_inlining\": 1, \"n_trips\": 8, \"variable\": \"p20_speed_mph\", \"speed\": 3.73, \"rounded_speed\": 3}, {\"_gtfs_dataset_name\": \"Anaheim Resort VehiclePositions\", \"shape_array_key\": \"29d2bbdbeaec1d6888800f85bebf6e33\", \"trip_id\": \"aa6a03fe-f119-44a5-8976-2ad77ceeb89f:3\", \"stop_sequence\": 4, \"gtfs_dataset_key\": \"1051e067d18a76b0a79789f051d5c22b\", \"loop_or_inlining\": 1, \"n_trips\": 8, \"variable\": \"p20_speed_mph\", \"speed\": 3.2, \"rounded_speed\": 3}, {\"_gtfs_dataset_name\": \"Anaheim Resort VehiclePositions\", \"shape_array_key\": \"29d2bbdbeaec1d6888800f85bebf6e33\", \"trip_id\": \"aa6a03fe-f119-44a5-8976-2ad77ceeb89f:5\", \"stop_sequence\": 5, \"gtfs_dataset_key\": \"1051e067d18a76b0a79789f051d5c22b\", \"loop_or_inlining\": 1, \"n_trips\": 8, \"variable\": \"p20_speed_mph\", \"speed\": 0.38, \"rounded_speed\": 0}, {\"_gtfs_dataset_name\": \"Anaheim Resort VehiclePositions\", \"shape_array_key\": \"29d2bbdbeaec1d6888800f85bebf6e33\", \"trip_id\": \"aa6a03fe-f119-44a5-8976-2ad77ceeb89f:1\", \"stop_sequence\": 6, \"gtfs_dataset_key\": \"1051e067d18a76b0a79789f051d5c22b\", \"loop_or_inlining\": 1, \"n_trips\": 8, \"variable\": \"p20_speed_mph\", \"speed\": 0.71, \"rounded_speed\": 0}, {\"_gtfs_dataset_name\": \"Anaheim Resort VehiclePositions\", \"shape_array_key\": \"29d2bbdbeaec1d6888800f85bebf6e33\", \"trip_id\": \"aa6a03fe-f119-44a5-8976-2ad77ceeb89f:4\", \"stop_sequence\": 7, \"gtfs_dataset_key\": \"1051e067d18a76b0a79789f051d5c22b\", \"loop_or_inlining\": 1, \"n_trips\": 8, \"variable\": \"p20_speed_mph\", \"speed\": 3.09, \"rounded_speed\": 3}, {\"_gtfs_dataset_name\": \"Anaheim Resort VehiclePositions\", \"shape_array_key\": \"29d2bbdbeaec1d6888800f85bebf6e33\", \"trip_id\": \"aa6a03fe-f119-44a5-8976-2ad77ceeb89f:5\", \"stop_sequence\": 8, \"gtfs_dataset_key\": \"1051e067d18a76b0a79789f051d5c22b\", \"loop_or_inlining\": 1, \"n_trips\": 8, \"variable\": \"p20_speed_mph\", \"speed\": 3.6, \"rounded_speed\": 3}, {\"_gtfs_dataset_name\": \"Anaheim Resort VehiclePositions\", \"shape_array_key\": \"29d2bbdbeaec1d6888800f85bebf6e33\", \"trip_id\": \"aa6a03fe-f119-44a5-8976-2ad77ceeb89f:5\", \"stop_sequence\": 9, \"gtfs_dataset_key\": \"1051e067d18a76b0a79789f051d5c22b\", \"loop_or_inlining\": 1, \"n_trips\": 8, \"variable\": \"p20_speed_mph\", \"speed\": 2.99, \"rounded_speed\": 2}, {\"_gtfs_dataset_name\": \"Anaheim Resort VehiclePositions\", \"shape_array_key\": \"29d2bbdbeaec1d6888800f85bebf6e33\", \"trip_id\": \"aa6a03fe-f119-44a5-8976-2ad77ceeb89f:4\", \"stop_sequence\": 1, \"gtfs_dataset_key\": \"1051e067d18a76b0a79789f051d5c22b\", \"loop_or_inlining\": 1, \"n_trips\": 8, \"variable\": \"p80_speed_mph\", \"speed\": 0.0, \"rounded_speed\": 0}, {\"_gtfs_dataset_name\": \"Anaheim Resort VehiclePositions\", \"shape_array_key\": \"29d2bbdbeaec1d6888800f85bebf6e33\", \"trip_id\": \"aa6a03fe-f119-44a5-8976-2ad77ceeb89f:4\", \"stop_sequence\": 2, \"gtfs_dataset_key\": \"1051e067d18a76b0a79789f051d5c22b\", \"loop_or_inlining\": 1, \"n_trips\": 8, \"variable\": \"p80_speed_mph\", \"speed\": 11.08, \"rounded_speed\": 11}, {\"_gtfs_dataset_name\": \"Anaheim Resort VehiclePositions\", \"shape_array_key\": \"29d2bbdbeaec1d6888800f85bebf6e33\", \"trip_id\": \"aa6a03fe-f119-44a5-8976-2ad77ceeb89f:8\", \"stop_sequence\": 3, \"gtfs_dataset_key\": \"1051e067d18a76b0a79789f051d5c22b\", \"loop_or_inlining\": 1, \"n_trips\": 8, \"variable\": \"p80_speed_mph\", \"speed\": 4.82, \"rounded_speed\": 4}, {\"_gtfs_dataset_name\": \"Anaheim Resort VehiclePositions\", \"shape_array_key\": \"29d2bbdbeaec1d6888800f85bebf6e33\", \"trip_id\": \"aa6a03fe-f119-44a5-8976-2ad77ceeb89f:3\", \"stop_sequence\": 4, \"gtfs_dataset_key\": \"1051e067d18a76b0a79789f051d5c22b\", \"loop_or_inlining\": 1, \"n_trips\": 8, \"variable\": \"p80_speed_mph\", \"speed\": 5.68, \"rounded_speed\": 5}, {\"_gtfs_dataset_name\": \"Anaheim Resort VehiclePositions\", \"shape_array_key\": \"29d2bbdbeaec1d6888800f85bebf6e33\", \"trip_id\": \"aa6a03fe-f119-44a5-8976-2ad77ceeb89f:5\", \"stop_sequence\": 5, \"gtfs_dataset_key\": \"1051e067d18a76b0a79789f051d5c22b\", \"loop_or_inlining\": 1, \"n_trips\": 8, \"variable\": \"p80_speed_mph\", \"speed\": 0.91, \"rounded_speed\": 0}, {\"_gtfs_dataset_name\": \"Anaheim Resort VehiclePositions\", \"shape_array_key\": \"29d2bbdbeaec1d6888800f85bebf6e33\", \"trip_id\": \"aa6a03fe-f119-44a5-8976-2ad77ceeb89f:1\", \"stop_sequence\": 6, \"gtfs_dataset_key\": \"1051e067d18a76b0a79789f051d5c22b\", \"loop_or_inlining\": 1, \"n_trips\": 8, \"variable\": \"p80_speed_mph\", \"speed\": 3.36, \"rounded_speed\": 3}, {\"_gtfs_dataset_name\": \"Anaheim Resort VehiclePositions\", \"shape_array_key\": \"29d2bbdbeaec1d6888800f85bebf6e33\", \"trip_id\": \"aa6a03fe-f119-44a5-8976-2ad77ceeb89f:4\", \"stop_sequence\": 7, \"gtfs_dataset_key\": \"1051e067d18a76b0a79789f051d5c22b\", \"loop_or_inlining\": 1, \"n_trips\": 8, \"variable\": \"p80_speed_mph\", \"speed\": 4.39, \"rounded_speed\": 4}, {\"_gtfs_dataset_name\": \"Anaheim Resort VehiclePositions\", \"shape_array_key\": \"29d2bbdbeaec1d6888800f85bebf6e33\", \"trip_id\": \"aa6a03fe-f119-44a5-8976-2ad77ceeb89f:5\", \"stop_sequence\": 8, \"gtfs_dataset_key\": \"1051e067d18a76b0a79789f051d5c22b\", \"loop_or_inlining\": 1, \"n_trips\": 8, \"variable\": \"p80_speed_mph\", \"speed\": 6.2, \"rounded_speed\": 6}, {\"_gtfs_dataset_name\": \"Anaheim Resort VehiclePositions\", \"shape_array_key\": \"29d2bbdbeaec1d6888800f85bebf6e33\", \"trip_id\": \"aa6a03fe-f119-44a5-8976-2ad77ceeb89f:5\", \"stop_sequence\": 9, \"gtfs_dataset_key\": \"1051e067d18a76b0a79789f051d5c22b\", \"loop_or_inlining\": 1, \"n_trips\": 8, \"variable\": \"p80_speed_mph\", \"speed\": 6.79, \"rounded_speed\": 6}]}}, {\"mode\": \"vega-lite\"});\n",
       "</script>"
      ],
      "text/plain": [
       "alt.Chart(...)"
      ]
     },
     "execution_count": 236,
     "metadata": {},
     "output_type": "execute_result"
    }
   ],
   "source": [
    "chart2"
   ]
  },
  {
   "cell_type": "code",
   "execution_count": 212,
   "id": "1cf2d571-3faf-4961-aa6f-a9f89b633531",
   "metadata": {},
   "outputs": [],
   "source": [
    "chart3 = alt.Chart(anaheim_test_speedmph).mark_circle(size=60).encode(\n",
    "    x='stop_sequence',\n",
    "    y='rounded_speed',\n",
    "    color='variable',\n",
    "    tooltip=anaheim_test_speedmph.columns.tolist()\n",
    ").interactive()"
   ]
  },
  {
   "cell_type": "code",
   "execution_count": 213,
   "id": "9153938c-8300-4c83-addc-418154c2cf16",
   "metadata": {},
   "outputs": [],
   "source": [
    "chart3 = threshold_utils.chart_size(chart3,650,300)"
   ]
  },
  {
   "cell_type": "code",
   "execution_count": 214,
   "id": "b27d2839-e501-4e17-8220-f373f4c5d758",
   "metadata": {},
   "outputs": [
    {
     "data": {
      "text/html": [
       "\n",
       "<div id=\"altair-viz-bf81e1f6458a488da324baeece3810b7\"></div>\n",
       "<script type=\"text/javascript\">\n",
       "  var VEGA_DEBUG = (typeof VEGA_DEBUG == \"undefined\") ? {} : VEGA_DEBUG;\n",
       "  (function(spec, embedOpt){\n",
       "    let outputDiv = document.currentScript.previousElementSibling;\n",
       "    if (outputDiv.id !== \"altair-viz-bf81e1f6458a488da324baeece3810b7\") {\n",
       "      outputDiv = document.getElementById(\"altair-viz-bf81e1f6458a488da324baeece3810b7\");\n",
       "    }\n",
       "    const paths = {\n",
       "      \"vega\": \"https://cdn.jsdelivr.net/npm//vega@5?noext\",\n",
       "      \"vega-lib\": \"https://cdn.jsdelivr.net/npm//vega-lib?noext\",\n",
       "      \"vega-lite\": \"https://cdn.jsdelivr.net/npm//vega-lite@4.17.0?noext\",\n",
       "      \"vega-embed\": \"https://cdn.jsdelivr.net/npm//vega-embed@6?noext\",\n",
       "    };\n",
       "\n",
       "    function maybeLoadScript(lib, version) {\n",
       "      var key = `${lib.replace(\"-\", \"\")}_version`;\n",
       "      return (VEGA_DEBUG[key] == version) ?\n",
       "        Promise.resolve(paths[lib]) :\n",
       "        new Promise(function(resolve, reject) {\n",
       "          var s = document.createElement('script');\n",
       "          document.getElementsByTagName(\"head\")[0].appendChild(s);\n",
       "          s.async = true;\n",
       "          s.onload = () => {\n",
       "            VEGA_DEBUG[key] = version;\n",
       "            return resolve(paths[lib]);\n",
       "          };\n",
       "          s.onerror = () => reject(`Error loading script: ${paths[lib]}`);\n",
       "          s.src = paths[lib];\n",
       "        });\n",
       "    }\n",
       "\n",
       "    function showError(err) {\n",
       "      outputDiv.innerHTML = `<div class=\"error\" style=\"color:red;\">${err}</div>`;\n",
       "      throw err;\n",
       "    }\n",
       "\n",
       "    function displayChart(vegaEmbed) {\n",
       "      vegaEmbed(outputDiv, spec, embedOpt)\n",
       "        .catch(err => showError(`Javascript Error: ${err.message}<br>This usually means there's a typo in your chart specification. See the javascript console for the full traceback.`));\n",
       "    }\n",
       "\n",
       "    if(typeof define === \"function\" && define.amd) {\n",
       "      requirejs.config({paths});\n",
       "      require([\"vega-embed\"], displayChart, err => showError(`Error loading script: ${err.message}`));\n",
       "    } else {\n",
       "      maybeLoadScript(\"vega\", \"5\")\n",
       "        .then(() => maybeLoadScript(\"vega-lite\", \"4.17.0\"))\n",
       "        .then(() => maybeLoadScript(\"vega-embed\", \"6\"))\n",
       "        .catch(showError)\n",
       "        .then(() => displayChart(vegaEmbed));\n",
       "    }\n",
       "  })({\"config\": {\"view\": {\"continuousWidth\": 400, \"continuousHeight\": 300}}, \"data\": {\"name\": \"data-781272622b392a2af105bf9f8b8cb566\"}, \"mark\": {\"type\": \"circle\", \"size\": 60}, \"encoding\": {\"color\": {\"field\": \"variable\", \"type\": \"nominal\"}, \"tooltip\": [{\"field\": \"_gtfs_dataset_name\", \"type\": \"nominal\"}, {\"field\": \"shape_array_key\", \"type\": \"nominal\"}, {\"field\": \"trip_id\", \"type\": \"nominal\"}, {\"field\": \"stop_sequence\", \"type\": \"quantitative\"}, {\"field\": \"gtfs_dataset_key\", \"type\": \"nominal\"}, {\"field\": \"loop_or_inlining\", \"type\": \"quantitative\"}, {\"field\": \"n_trips\", \"type\": \"quantitative\"}, {\"field\": \"variable\", \"type\": \"nominal\"}, {\"field\": \"speed\", \"type\": \"quantitative\"}, {\"field\": \"rounded_speed\", \"type\": \"quantitative\"}], \"x\": {\"field\": \"stop_sequence\", \"type\": \"quantitative\"}, \"y\": {\"field\": \"rounded_speed\", \"type\": \"quantitative\"}}, \"height\": 300, \"selection\": {\"selector007\": {\"type\": \"interval\", \"bind\": \"scales\", \"encodings\": [\"x\", \"y\"]}}, \"width\": 650, \"$schema\": \"https://vega.github.io/schema/vega-lite/v4.17.0.json\", \"datasets\": {\"data-781272622b392a2af105bf9f8b8cb566\": [{\"_gtfs_dataset_name\": \"Anaheim Resort VehiclePositions\", \"shape_array_key\": \"29d2bbdbeaec1d6888800f85bebf6e33\", \"trip_id\": \"aa6a03fe-f119-44a5-8976-2ad77ceeb89f:4\", \"stop_sequence\": 1, \"gtfs_dataset_key\": \"1051e067d18a76b0a79789f051d5c22b\", \"loop_or_inlining\": 1, \"n_trips\": 8, \"variable\": \"speed_mph\", \"speed\": 0.0, \"rounded_speed\": 0}, {\"_gtfs_dataset_name\": \"Anaheim Resort VehiclePositions\", \"shape_array_key\": \"29d2bbdbeaec1d6888800f85bebf6e33\", \"trip_id\": \"aa6a03fe-f119-44a5-8976-2ad77ceeb89f:1\", \"stop_sequence\": 1, \"gtfs_dataset_key\": \"1051e067d18a76b0a79789f051d5c22b\", \"loop_or_inlining\": 1, \"n_trips\": 8, \"variable\": \"speed_mph\", \"speed\": 0.0008325192325460018, \"rounded_speed\": 0}, {\"_gtfs_dataset_name\": \"Anaheim Resort VehiclePositions\", \"shape_array_key\": \"29d2bbdbeaec1d6888800f85bebf6e33\", \"trip_id\": \"aa6a03fe-f119-44a5-8976-2ad77ceeb89f:3\", \"stop_sequence\": 1, \"gtfs_dataset_key\": \"1051e067d18a76b0a79789f051d5c22b\", \"loop_or_inlining\": 1, \"n_trips\": 8, \"variable\": \"speed_mph\", \"speed\": 0.024166183278071445, \"rounded_speed\": 0}, {\"_gtfs_dataset_name\": \"Anaheim Resort VehiclePositions\", \"shape_array_key\": \"29d2bbdbeaec1d6888800f85bebf6e33\", \"trip_id\": \"aa6a03fe-f119-44a5-8976-2ad77ceeb89f:7\", \"stop_sequence\": 1, \"gtfs_dataset_key\": \"1051e067d18a76b0a79789f051d5c22b\", \"loop_or_inlining\": 1, \"n_trips\": 8, \"variable\": \"speed_mph\", \"speed\": 0.004285628561628433, \"rounded_speed\": 0}, {\"_gtfs_dataset_name\": \"Anaheim Resort VehiclePositions\", \"shape_array_key\": \"29d2bbdbeaec1d6888800f85bebf6e33\", \"trip_id\": \"aa6a03fe-f119-44a5-8976-2ad77ceeb89f:4\", \"stop_sequence\": 2, \"gtfs_dataset_key\": \"1051e067d18a76b0a79789f051d5c22b\", \"loop_or_inlining\": 1, \"n_trips\": 8, \"variable\": \"speed_mph\", \"speed\": 9.052623885192912, \"rounded_speed\": 9}, {\"_gtfs_dataset_name\": \"Anaheim Resort VehiclePositions\", \"shape_array_key\": \"29d2bbdbeaec1d6888800f85bebf6e33\", \"trip_id\": \"aa6a03fe-f119-44a5-8976-2ad77ceeb89f:8\", \"stop_sequence\": 2, \"gtfs_dataset_key\": \"1051e067d18a76b0a79789f051d5c22b\", \"loop_or_inlining\": 1, \"n_trips\": 8, \"variable\": \"speed_mph\", \"speed\": 9.572140759512445, \"rounded_speed\": 9}, {\"_gtfs_dataset_name\": \"Anaheim Resort VehiclePositions\", \"shape_array_key\": \"29d2bbdbeaec1d6888800f85bebf6e33\", \"trip_id\": \"aa6a03fe-f119-44a5-8976-2ad77ceeb89f:2\", \"stop_sequence\": 2, \"gtfs_dataset_key\": \"1051e067d18a76b0a79789f051d5c22b\", \"loop_or_inlining\": 1, \"n_trips\": 8, \"variable\": \"speed_mph\", \"speed\": 12.084147088905848, \"rounded_speed\": 12}, {\"_gtfs_dataset_name\": \"Anaheim Resort VehiclePositions\", \"shape_array_key\": \"29d2bbdbeaec1d6888800f85bebf6e33\", \"trip_id\": \"aa6a03fe-f119-44a5-8976-2ad77ceeb89f:7\", \"stop_sequence\": 2, \"gtfs_dataset_key\": \"1051e067d18a76b0a79789f051d5c22b\", \"loop_or_inlining\": 1, \"n_trips\": 8, \"variable\": \"speed_mph\", \"speed\": 7.3172013553677715, \"rounded_speed\": 7}, {\"_gtfs_dataset_name\": \"Anaheim Resort VehiclePositions\", \"shape_array_key\": \"29d2bbdbeaec1d6888800f85bebf6e33\", \"trip_id\": \"aa6a03fe-f119-44a5-8976-2ad77ceeb89f:5\", \"stop_sequence\": 2, \"gtfs_dataset_key\": \"1051e067d18a76b0a79789f051d5c22b\", \"loop_or_inlining\": 1, \"n_trips\": 8, \"variable\": \"speed_mph\", \"speed\": 12.228887731569518, \"rounded_speed\": 12}, {\"_gtfs_dataset_name\": \"Anaheim Resort VehiclePositions\", \"shape_array_key\": \"29d2bbdbeaec1d6888800f85bebf6e33\", \"trip_id\": \"aa6a03fe-f119-44a5-8976-2ad77ceeb89f:1\", \"stop_sequence\": 2, \"gtfs_dataset_key\": \"1051e067d18a76b0a79789f051d5c22b\", \"loop_or_inlining\": 1, \"n_trips\": 8, \"variable\": \"speed_mph\", \"speed\": 1.474625853012174, \"rounded_speed\": 1}, {\"_gtfs_dataset_name\": \"Anaheim Resort VehiclePositions\", \"shape_array_key\": \"29d2bbdbeaec1d6888800f85bebf6e33\", \"trip_id\": \"aa6a03fe-f119-44a5-8976-2ad77ceeb89f:3\", \"stop_sequence\": 2, \"gtfs_dataset_key\": \"1051e067d18a76b0a79789f051d5c22b\", \"loop_or_inlining\": 1, \"n_trips\": 8, \"variable\": \"speed_mph\", \"speed\": 6.665222373845789, \"rounded_speed\": 6}, {\"_gtfs_dataset_name\": \"Anaheim Resort VehiclePositions\", \"shape_array_key\": \"29d2bbdbeaec1d6888800f85bebf6e33\", \"trip_id\": \"aa6a03fe-f119-44a5-8976-2ad77ceeb89f:6\", \"stop_sequence\": 2, \"gtfs_dataset_key\": \"1051e067d18a76b0a79789f051d5c22b\", \"loop_or_inlining\": 1, \"n_trips\": 8, \"variable\": \"speed_mph\", \"speed\": 5.539256926472267, \"rounded_speed\": 5}, {\"_gtfs_dataset_name\": \"Anaheim Resort VehiclePositions\", \"shape_array_key\": \"29d2bbdbeaec1d6888800f85bebf6e33\", \"trip_id\": \"aa6a03fe-f119-44a5-8976-2ad77ceeb89f:8\", \"stop_sequence\": 3, \"gtfs_dataset_key\": \"1051e067d18a76b0a79789f051d5c22b\", \"loop_or_inlining\": 1, \"n_trips\": 8, \"variable\": \"speed_mph\", \"speed\": 4.204004339000222, \"rounded_speed\": 4}, {\"_gtfs_dataset_name\": \"Anaheim Resort VehiclePositions\", \"shape_array_key\": \"29d2bbdbeaec1d6888800f85bebf6e33\", \"trip_id\": \"aa6a03fe-f119-44a5-8976-2ad77ceeb89f:6\", \"stop_sequence\": 3, \"gtfs_dataset_key\": \"1051e067d18a76b0a79789f051d5c22b\", \"loop_or_inlining\": 1, \"n_trips\": 8, \"variable\": \"speed_mph\", \"speed\": 5.45626095061731, \"rounded_speed\": 5}, {\"_gtfs_dataset_name\": \"Anaheim Resort VehiclePositions\", \"shape_array_key\": \"29d2bbdbeaec1d6888800f85bebf6e33\", \"trip_id\": \"aa6a03fe-f119-44a5-8976-2ad77ceeb89f:3\", \"stop_sequence\": 3, \"gtfs_dataset_key\": \"1051e067d18a76b0a79789f051d5c22b\", \"loop_or_inlining\": 1, \"n_trips\": 8, \"variable\": \"speed_mph\", \"speed\": 5.233556422020684, \"rounded_speed\": 5}, {\"_gtfs_dataset_name\": \"Anaheim Resort VehiclePositions\", \"shape_array_key\": \"29d2bbdbeaec1d6888800f85bebf6e33\", \"trip_id\": \"aa6a03fe-f119-44a5-8976-2ad77ceeb89f:7\", \"stop_sequence\": 3, \"gtfs_dataset_key\": \"1051e067d18a76b0a79789f051d5c22b\", \"loop_or_inlining\": 1, \"n_trips\": 8, \"variable\": \"speed_mph\", \"speed\": 3.743711893124285, \"rounded_speed\": 3}, {\"_gtfs_dataset_name\": \"Anaheim Resort VehiclePositions\", \"shape_array_key\": \"29d2bbdbeaec1d6888800f85bebf6e33\", \"trip_id\": \"aa6a03fe-f119-44a5-8976-2ad77ceeb89f:1\", \"stop_sequence\": 3, \"gtfs_dataset_key\": \"1051e067d18a76b0a79789f051d5c22b\", \"loop_or_inlining\": 1, \"n_trips\": 8, \"variable\": \"speed_mph\", \"speed\": 3.7712391864560812, \"rounded_speed\": 3}, {\"_gtfs_dataset_name\": \"Anaheim Resort VehiclePositions\", \"shape_array_key\": \"29d2bbdbeaec1d6888800f85bebf6e33\", \"trip_id\": \"aa6a03fe-f119-44a5-8976-2ad77ceeb89f:5\", \"stop_sequence\": 3, \"gtfs_dataset_key\": \"1051e067d18a76b0a79789f051d5c22b\", \"loop_or_inlining\": 1, \"n_trips\": 8, \"variable\": \"speed_mph\", \"speed\": 3.71658354607266, \"rounded_speed\": 3}, {\"_gtfs_dataset_name\": \"Anaheim Resort VehiclePositions\", \"shape_array_key\": \"29d2bbdbeaec1d6888800f85bebf6e33\", \"trip_id\": \"aa6a03fe-f119-44a5-8976-2ad77ceeb89f:4\", \"stop_sequence\": 3, \"gtfs_dataset_key\": \"1051e067d18a76b0a79789f051d5c22b\", \"loop_or_inlining\": 1, \"n_trips\": 8, \"variable\": \"speed_mph\", \"speed\": 4.030582374619538, \"rounded_speed\": 4}, {\"_gtfs_dataset_name\": \"Anaheim Resort VehiclePositions\", \"shape_array_key\": \"29d2bbdbeaec1d6888800f85bebf6e33\", \"trip_id\": \"aa6a03fe-f119-44a5-8976-2ad77ceeb89f:2\", \"stop_sequence\": 3, \"gtfs_dataset_key\": \"1051e067d18a76b0a79789f051d5c22b\", \"loop_or_inlining\": 1, \"n_trips\": 8, \"variable\": \"speed_mph\", \"speed\": 3.5371622714346693, \"rounded_speed\": 3}, {\"_gtfs_dataset_name\": \"Anaheim Resort VehiclePositions\", \"shape_array_key\": \"29d2bbdbeaec1d6888800f85bebf6e33\", \"trip_id\": \"aa6a03fe-f119-44a5-8976-2ad77ceeb89f:3\", \"stop_sequence\": 4, \"gtfs_dataset_key\": \"1051e067d18a76b0a79789f051d5c22b\", \"loop_or_inlining\": 1, \"n_trips\": 8, \"variable\": \"speed_mph\", \"speed\": 5.502321180654386, \"rounded_speed\": 5}, {\"_gtfs_dataset_name\": \"Anaheim Resort VehiclePositions\", \"shape_array_key\": \"29d2bbdbeaec1d6888800f85bebf6e33\", \"trip_id\": \"aa6a03fe-f119-44a5-8976-2ad77ceeb89f:2\", \"stop_sequence\": 4, \"gtfs_dataset_key\": \"1051e067d18a76b0a79789f051d5c22b\", \"loop_or_inlining\": 1, \"n_trips\": 8, \"variable\": \"speed_mph\", \"speed\": 4.743380328150332, \"rounded_speed\": 4}, {\"_gtfs_dataset_name\": \"Anaheim Resort VehiclePositions\", \"shape_array_key\": \"29d2bbdbeaec1d6888800f85bebf6e33\", \"trip_id\": \"aa6a03fe-f119-44a5-8976-2ad77ceeb89f:5\", \"stop_sequence\": 4, \"gtfs_dataset_key\": \"1051e067d18a76b0a79789f051d5c22b\", \"loop_or_inlining\": 1, \"n_trips\": 8, \"variable\": \"speed_mph\", \"speed\": 2.6851940872424147, \"rounded_speed\": 2}, {\"_gtfs_dataset_name\": \"Anaheim Resort VehiclePositions\", \"shape_array_key\": \"29d2bbdbeaec1d6888800f85bebf6e33\", \"trip_id\": \"aa6a03fe-f119-44a5-8976-2ad77ceeb89f:4\", \"stop_sequence\": 4, \"gtfs_dataset_key\": \"1051e067d18a76b0a79789f051d5c22b\", \"loop_or_inlining\": 1, \"n_trips\": 8, \"variable\": \"speed_mph\", \"speed\": 1.9037205615476676, \"rounded_speed\": 1}, {\"_gtfs_dataset_name\": \"Anaheim Resort VehiclePositions\", \"shape_array_key\": \"29d2bbdbeaec1d6888800f85bebf6e33\", \"trip_id\": \"aa6a03fe-f119-44a5-8976-2ad77ceeb89f:1\", \"stop_sequence\": 4, \"gtfs_dataset_key\": \"1051e067d18a76b0a79789f051d5c22b\", \"loop_or_inlining\": 1, \"n_trips\": 8, \"variable\": \"speed_mph\", \"speed\": 8.874711581700621, \"rounded_speed\": 8}, {\"_gtfs_dataset_name\": \"Anaheim Resort VehiclePositions\", \"shape_array_key\": \"29d2bbdbeaec1d6888800f85bebf6e33\", \"trip_id\": \"aa6a03fe-f119-44a5-8976-2ad77ceeb89f:6\", \"stop_sequence\": 4, \"gtfs_dataset_key\": \"1051e067d18a76b0a79789f051d5c22b\", \"loop_or_inlining\": 1, \"n_trips\": 8, \"variable\": \"speed_mph\", \"speed\": 3.9698284168936024, \"rounded_speed\": 3}, {\"_gtfs_dataset_name\": \"Anaheim Resort VehiclePositions\", \"shape_array_key\": \"29d2bbdbeaec1d6888800f85bebf6e33\", \"trip_id\": \"aa6a03fe-f119-44a5-8976-2ad77ceeb89f:7\", \"stop_sequence\": 4, \"gtfs_dataset_key\": \"1051e067d18a76b0a79789f051d5c22b\", \"loop_or_inlining\": 1, \"n_trips\": 8, \"variable\": \"speed_mph\", \"speed\": 5.037482591588582, \"rounded_speed\": 5}, {\"_gtfs_dataset_name\": \"Anaheim Resort VehiclePositions\", \"shape_array_key\": \"29d2bbdbeaec1d6888800f85bebf6e33\", \"trip_id\": \"aa6a03fe-f119-44a5-8976-2ad77ceeb89f:8\", \"stop_sequence\": 4, \"gtfs_dataset_key\": \"1051e067d18a76b0a79789f051d5c22b\", \"loop_or_inlining\": 1, \"n_trips\": 8, \"variable\": \"speed_mph\", \"speed\": 5.791917032267774, \"rounded_speed\": 5}, {\"_gtfs_dataset_name\": \"Anaheim Resort VehiclePositions\", \"shape_array_key\": \"29d2bbdbeaec1d6888800f85bebf6e33\", \"trip_id\": \"aa6a03fe-f119-44a5-8976-2ad77ceeb89f:5\", \"stop_sequence\": 5, \"gtfs_dataset_key\": \"1051e067d18a76b0a79789f051d5c22b\", \"loop_or_inlining\": 1, \"n_trips\": 8, \"variable\": \"speed_mph\", \"speed\": 0.4003327895449103, \"rounded_speed\": 0}, {\"_gtfs_dataset_name\": \"Anaheim Resort VehiclePositions\", \"shape_array_key\": \"29d2bbdbeaec1d6888800f85bebf6e33\", \"trip_id\": \"aa6a03fe-f119-44a5-8976-2ad77ceeb89f:1\", \"stop_sequence\": 5, \"gtfs_dataset_key\": \"1051e067d18a76b0a79789f051d5c22b\", \"loop_or_inlining\": 1, \"n_trips\": 8, \"variable\": \"speed_mph\", \"speed\": 0.3649171881347712, \"rounded_speed\": 0}, {\"_gtfs_dataset_name\": \"Anaheim Resort VehiclePositions\", \"shape_array_key\": \"29d2bbdbeaec1d6888800f85bebf6e33\", \"trip_id\": \"aa6a03fe-f119-44a5-8976-2ad77ceeb89f:6\", \"stop_sequence\": 5, \"gtfs_dataset_key\": \"1051e067d18a76b0a79789f051d5c22b\", \"loop_or_inlining\": 1, \"n_trips\": 8, \"variable\": \"speed_mph\", \"speed\": 0.9530712497677587, \"rounded_speed\": 0}, {\"_gtfs_dataset_name\": \"Anaheim Resort VehiclePositions\", \"shape_array_key\": \"29d2bbdbeaec1d6888800f85bebf6e33\", \"trip_id\": \"aa6a03fe-f119-44a5-8976-2ad77ceeb89f:2\", \"stop_sequence\": 5, \"gtfs_dataset_key\": \"1051e067d18a76b0a79789f051d5c22b\", \"loop_or_inlining\": 1, \"n_trips\": 8, \"variable\": \"speed_mph\", \"speed\": 0.9438630959548601, \"rounded_speed\": 0}, {\"_gtfs_dataset_name\": \"Anaheim Resort VehiclePositions\", \"shape_array_key\": \"29d2bbdbeaec1d6888800f85bebf6e33\", \"trip_id\": \"aa6a03fe-f119-44a5-8976-2ad77ceeb89f:4\", \"stop_sequence\": 5, \"gtfs_dataset_key\": \"1051e067d18a76b0a79789f051d5c22b\", \"loop_or_inlining\": 1, \"n_trips\": 8, \"variable\": \"speed_mph\", \"speed\": 0.7386749715210611, \"rounded_speed\": 0}, {\"_gtfs_dataset_name\": \"Anaheim Resort VehiclePositions\", \"shape_array_key\": \"29d2bbdbeaec1d6888800f85bebf6e33\", \"trip_id\": \"aa6a03fe-f119-44a5-8976-2ad77ceeb89f:7\", \"stop_sequence\": 5, \"gtfs_dataset_key\": \"1051e067d18a76b0a79789f051d5c22b\", \"loop_or_inlining\": 1, \"n_trips\": 8, \"variable\": \"speed_mph\", \"speed\": 0.858355583120451, \"rounded_speed\": 0}, {\"_gtfs_dataset_name\": \"Anaheim Resort VehiclePositions\", \"shape_array_key\": \"29d2bbdbeaec1d6888800f85bebf6e33\", \"trip_id\": \"aa6a03fe-f119-44a5-8976-2ad77ceeb89f:8\", \"stop_sequence\": 5, \"gtfs_dataset_key\": \"1051e067d18a76b0a79789f051d5c22b\", \"loop_or_inlining\": 1, \"n_trips\": 8, \"variable\": \"speed_mph\", \"speed\": 0.030505310606709555, \"rounded_speed\": 0}, {\"_gtfs_dataset_name\": \"Anaheim Resort VehiclePositions\", \"shape_array_key\": \"29d2bbdbeaec1d6888800f85bebf6e33\", \"trip_id\": \"aa6a03fe-f119-44a5-8976-2ad77ceeb89f:3\", \"stop_sequence\": 5, \"gtfs_dataset_key\": \"1051e067d18a76b0a79789f051d5c22b\", \"loop_or_inlining\": 1, \"n_trips\": 8, \"variable\": \"speed_mph\", \"speed\": 0.6211284606682089, \"rounded_speed\": 0}, {\"_gtfs_dataset_name\": \"Anaheim Resort VehiclePositions\", \"shape_array_key\": \"29d2bbdbeaec1d6888800f85bebf6e33\", \"trip_id\": \"aa6a03fe-f119-44a5-8976-2ad77ceeb89f:1\", \"stop_sequence\": 6, \"gtfs_dataset_key\": \"1051e067d18a76b0a79789f051d5c22b\", \"loop_or_inlining\": 1, \"n_trips\": 8, \"variable\": \"speed_mph\", \"speed\": 3.1778058596745042, \"rounded_speed\": 3}, {\"_gtfs_dataset_name\": \"Anaheim Resort VehiclePositions\", \"shape_array_key\": \"29d2bbdbeaec1d6888800f85bebf6e33\", \"trip_id\": \"aa6a03fe-f119-44a5-8976-2ad77ceeb89f:7\", \"stop_sequence\": 6, \"gtfs_dataset_key\": \"1051e067d18a76b0a79789f051d5c22b\", \"loop_or_inlining\": 1, \"n_trips\": 8, \"variable\": \"speed_mph\", \"speed\": 3.115495940857357, \"rounded_speed\": 3}, {\"_gtfs_dataset_name\": \"Anaheim Resort VehiclePositions\", \"shape_array_key\": \"29d2bbdbeaec1d6888800f85bebf6e33\", \"trip_id\": \"aa6a03fe-f119-44a5-8976-2ad77ceeb89f:5\", \"stop_sequence\": 6, \"gtfs_dataset_key\": \"1051e067d18a76b0a79789f051d5c22b\", \"loop_or_inlining\": 1, \"n_trips\": 8, \"variable\": \"speed_mph\", \"speed\": 3.0713753901508745, \"rounded_speed\": 3}, {\"_gtfs_dataset_name\": \"Anaheim Resort VehiclePositions\", \"shape_array_key\": \"29d2bbdbeaec1d6888800f85bebf6e33\", \"trip_id\": \"aa6a03fe-f119-44a5-8976-2ad77ceeb89f:8\", \"stop_sequence\": 6, \"gtfs_dataset_key\": \"1051e067d18a76b0a79789f051d5c22b\", \"loop_or_inlining\": 1, \"n_trips\": 8, \"variable\": \"speed_mph\", \"speed\": 1.6049524543810627, \"rounded_speed\": 1}, {\"_gtfs_dataset_name\": \"Anaheim Resort VehiclePositions\", \"shape_array_key\": \"29d2bbdbeaec1d6888800f85bebf6e33\", \"trip_id\": \"aa6a03fe-f119-44a5-8976-2ad77ceeb89f:4\", \"stop_sequence\": 6, \"gtfs_dataset_key\": \"1051e067d18a76b0a79789f051d5c22b\", \"loop_or_inlining\": 1, \"n_trips\": 8, \"variable\": \"speed_mph\", \"speed\": 0.0, \"rounded_speed\": 0}, {\"_gtfs_dataset_name\": \"Anaheim Resort VehiclePositions\", \"shape_array_key\": \"29d2bbdbeaec1d6888800f85bebf6e33\", \"trip_id\": \"aa6a03fe-f119-44a5-8976-2ad77ceeb89f:6\", \"stop_sequence\": 6, \"gtfs_dataset_key\": \"1051e067d18a76b0a79789f051d5c22b\", \"loop_or_inlining\": 1, \"n_trips\": 8, \"variable\": \"speed_mph\", \"speed\": 3.4755251261789124, \"rounded_speed\": 3}, {\"_gtfs_dataset_name\": \"Anaheim Resort VehiclePositions\", \"shape_array_key\": \"29d2bbdbeaec1d6888800f85bebf6e33\", \"trip_id\": \"aa6a03fe-f119-44a5-8976-2ad77ceeb89f:3\", \"stop_sequence\": 6, \"gtfs_dataset_key\": \"1051e067d18a76b0a79789f051d5c22b\", \"loop_or_inlining\": 1, \"n_trips\": 8, \"variable\": \"speed_mph\", \"speed\": 5.165479973825983, \"rounded_speed\": 5}, {\"_gtfs_dataset_name\": \"Anaheim Resort VehiclePositions\", \"shape_array_key\": \"29d2bbdbeaec1d6888800f85bebf6e33\", \"trip_id\": \"aa6a03fe-f119-44a5-8976-2ad77ceeb89f:2\", \"stop_sequence\": 6, \"gtfs_dataset_key\": \"1051e067d18a76b0a79789f051d5c22b\", \"loop_or_inlining\": 1, \"n_trips\": 8, \"variable\": \"speed_mph\", \"speed\": 0.10638895159918775, \"rounded_speed\": 0}, {\"_gtfs_dataset_name\": \"Anaheim Resort VehiclePositions\", \"shape_array_key\": \"29d2bbdbeaec1d6888800f85bebf6e33\", \"trip_id\": \"aa6a03fe-f119-44a5-8976-2ad77ceeb89f:4\", \"stop_sequence\": 7, \"gtfs_dataset_key\": \"1051e067d18a76b0a79789f051d5c22b\", \"loop_or_inlining\": 1, \"n_trips\": 8, \"variable\": \"speed_mph\", \"speed\": 3.7270936120609353, \"rounded_speed\": 3}, {\"_gtfs_dataset_name\": \"Anaheim Resort VehiclePositions\", \"shape_array_key\": \"29d2bbdbeaec1d6888800f85bebf6e33\", \"trip_id\": \"aa6a03fe-f119-44a5-8976-2ad77ceeb89f:2\", \"stop_sequence\": 7, \"gtfs_dataset_key\": \"1051e067d18a76b0a79789f051d5c22b\", \"loop_or_inlining\": 1, \"n_trips\": 8, \"variable\": \"speed_mph\", \"speed\": 4.198388039106803, \"rounded_speed\": 4}, {\"_gtfs_dataset_name\": \"Anaheim Resort VehiclePositions\", \"shape_array_key\": \"29d2bbdbeaec1d6888800f85bebf6e33\", \"trip_id\": \"aa6a03fe-f119-44a5-8976-2ad77ceeb89f:7\", \"stop_sequence\": 7, \"gtfs_dataset_key\": \"1051e067d18a76b0a79789f051d5c22b\", \"loop_or_inlining\": 1, \"n_trips\": 8, \"variable\": \"speed_mph\", \"speed\": 4.398551656884758, \"rounded_speed\": 4}, {\"_gtfs_dataset_name\": \"Anaheim Resort VehiclePositions\", \"shape_array_key\": \"29d2bbdbeaec1d6888800f85bebf6e33\", \"trip_id\": \"aa6a03fe-f119-44a5-8976-2ad77ceeb89f:5\", \"stop_sequence\": 7, \"gtfs_dataset_key\": \"1051e067d18a76b0a79789f051d5c22b\", \"loop_or_inlining\": 1, \"n_trips\": 8, \"variable\": \"speed_mph\", \"speed\": 1.5965853186573182, \"rounded_speed\": 1}, {\"_gtfs_dataset_name\": \"Anaheim Resort VehiclePositions\", \"shape_array_key\": \"29d2bbdbeaec1d6888800f85bebf6e33\", \"trip_id\": \"aa6a03fe-f119-44a5-8976-2ad77ceeb89f:8\", \"stop_sequence\": 7, \"gtfs_dataset_key\": \"1051e067d18a76b0a79789f051d5c22b\", \"loop_or_inlining\": 1, \"n_trips\": 8, \"variable\": \"speed_mph\", \"speed\": 4.382712794175961, \"rounded_speed\": 4}, {\"_gtfs_dataset_name\": \"Anaheim Resort VehiclePositions\", \"shape_array_key\": \"29d2bbdbeaec1d6888800f85bebf6e33\", \"trip_id\": \"aa6a03fe-f119-44a5-8976-2ad77ceeb89f:1\", \"stop_sequence\": 7, \"gtfs_dataset_key\": \"1051e067d18a76b0a79789f051d5c22b\", \"loop_or_inlining\": 1, \"n_trips\": 8, \"variable\": \"speed_mph\", \"speed\": 5.728926171239877, \"rounded_speed\": 5}, {\"_gtfs_dataset_name\": \"Anaheim Resort VehiclePositions\", \"shape_array_key\": \"29d2bbdbeaec1d6888800f85bebf6e33\", \"trip_id\": \"aa6a03fe-f119-44a5-8976-2ad77ceeb89f:6\", \"stop_sequence\": 7, \"gtfs_dataset_key\": \"1051e067d18a76b0a79789f051d5c22b\", \"loop_or_inlining\": 1, \"n_trips\": 8, \"variable\": \"speed_mph\", \"speed\": 3.8511807031171434, \"rounded_speed\": 3}, {\"_gtfs_dataset_name\": \"Anaheim Resort VehiclePositions\", \"shape_array_key\": \"29d2bbdbeaec1d6888800f85bebf6e33\", \"trip_id\": \"aa6a03fe-f119-44a5-8976-2ad77ceeb89f:3\", \"stop_sequence\": 7, \"gtfs_dataset_key\": \"1051e067d18a76b0a79789f051d5c22b\", \"loop_or_inlining\": 1, \"n_trips\": 8, \"variable\": \"speed_mph\", \"speed\": 2.665992305539968, \"rounded_speed\": 2}, {\"_gtfs_dataset_name\": \"Anaheim Resort VehiclePositions\", \"shape_array_key\": \"29d2bbdbeaec1d6888800f85bebf6e33\", \"trip_id\": \"aa6a03fe-f119-44a5-8976-2ad77ceeb89f:5\", \"stop_sequence\": 8, \"gtfs_dataset_key\": \"1051e067d18a76b0a79789f051d5c22b\", \"loop_or_inlining\": 1, \"n_trips\": 8, \"variable\": \"speed_mph\", \"speed\": 3.3531660450484737, \"rounded_speed\": 3}, {\"_gtfs_dataset_name\": \"Anaheim Resort VehiclePositions\", \"shape_array_key\": \"29d2bbdbeaec1d6888800f85bebf6e33\", \"trip_id\": \"aa6a03fe-f119-44a5-8976-2ad77ceeb89f:7\", \"stop_sequence\": 8, \"gtfs_dataset_key\": \"1051e067d18a76b0a79789f051d5c22b\", \"loop_or_inlining\": 1, \"n_trips\": 8, \"variable\": \"speed_mph\", \"speed\": 4.7153897508494165, \"rounded_speed\": 4}, {\"_gtfs_dataset_name\": \"Anaheim Resort VehiclePositions\", \"shape_array_key\": \"29d2bbdbeaec1d6888800f85bebf6e33\", \"trip_id\": \"aa6a03fe-f119-44a5-8976-2ad77ceeb89f:4\", \"stop_sequence\": 8, \"gtfs_dataset_key\": \"1051e067d18a76b0a79789f051d5c22b\", \"loop_or_inlining\": 1, \"n_trips\": 8, \"variable\": \"speed_mph\", \"speed\": 7.496716773745876, \"rounded_speed\": 7}, {\"_gtfs_dataset_name\": \"Anaheim Resort VehiclePositions\", \"shape_array_key\": \"29d2bbdbeaec1d6888800f85bebf6e33\", \"trip_id\": \"aa6a03fe-f119-44a5-8976-2ad77ceeb89f:1\", \"stop_sequence\": 8, \"gtfs_dataset_key\": \"1051e067d18a76b0a79789f051d5c22b\", \"loop_or_inlining\": 1, \"n_trips\": 8, \"variable\": \"speed_mph\", \"speed\": 7.196793712874587, \"rounded_speed\": 7}, {\"_gtfs_dataset_name\": \"Anaheim Resort VehiclePositions\", \"shape_array_key\": \"29d2bbdbeaec1d6888800f85bebf6e33\", \"trip_id\": \"aa6a03fe-f119-44a5-8976-2ad77ceeb89f:6\", \"stop_sequence\": 8, \"gtfs_dataset_key\": \"1051e067d18a76b0a79789f051d5c22b\", \"loop_or_inlining\": 1, \"n_trips\": 8, \"variable\": \"speed_mph\", \"speed\": 4.5885013672940875, \"rounded_speed\": 4}, {\"_gtfs_dataset_name\": \"Anaheim Resort VehiclePositions\", \"shape_array_key\": \"29d2bbdbeaec1d6888800f85bebf6e33\", \"trip_id\": \"aa6a03fe-f119-44a5-8976-2ad77ceeb89f:2\", \"stop_sequence\": 8, \"gtfs_dataset_key\": \"1051e067d18a76b0a79789f051d5c22b\", \"loop_or_inlining\": 1, \"n_trips\": 8, \"variable\": \"speed_mph\", \"speed\": 3.9708545270310878, \"rounded_speed\": 3}, {\"_gtfs_dataset_name\": \"Anaheim Resort VehiclePositions\", \"shape_array_key\": \"29d2bbdbeaec1d6888800f85bebf6e33\", \"trip_id\": \"aa6a03fe-f119-44a5-8976-2ad77ceeb89f:3\", \"stop_sequence\": 8, \"gtfs_dataset_key\": \"1051e067d18a76b0a79789f051d5c22b\", \"loop_or_inlining\": 1, \"n_trips\": 8, \"variable\": \"speed_mph\", \"speed\": 4.619157306954531, \"rounded_speed\": 4}, {\"_gtfs_dataset_name\": \"Anaheim Resort VehiclePositions\", \"shape_array_key\": \"29d2bbdbeaec1d6888800f85bebf6e33\", \"trip_id\": \"aa6a03fe-f119-44a5-8976-2ad77ceeb89f:5\", \"stop_sequence\": 9, \"gtfs_dataset_key\": \"1051e067d18a76b0a79789f051d5c22b\", \"loop_or_inlining\": 1, \"n_trips\": 8, \"variable\": \"speed_mph\", \"speed\": 2.493484490013982, \"rounded_speed\": 2}, {\"_gtfs_dataset_name\": \"Anaheim Resort VehiclePositions\", \"shape_array_key\": \"29d2bbdbeaec1d6888800f85bebf6e33\", \"trip_id\": \"aa6a03fe-f119-44a5-8976-2ad77ceeb89f:2\", \"stop_sequence\": 9, \"gtfs_dataset_key\": \"1051e067d18a76b0a79789f051d5c22b\", \"loop_or_inlining\": 1, \"n_trips\": 8, \"variable\": \"speed_mph\", \"speed\": 2.8256576669091813, \"rounded_speed\": 2}, {\"_gtfs_dataset_name\": \"Anaheim Resort VehiclePositions\", \"shape_array_key\": \"29d2bbdbeaec1d6888800f85bebf6e33\", \"trip_id\": \"aa6a03fe-f119-44a5-8976-2ad77ceeb89f:3\", \"stop_sequence\": 9, \"gtfs_dataset_key\": \"1051e067d18a76b0a79789f051d5c22b\", \"loop_or_inlining\": 1, \"n_trips\": 8, \"variable\": \"speed_mph\", \"speed\": 5.097026478490071, \"rounded_speed\": 5}, {\"_gtfs_dataset_name\": \"Anaheim Resort VehiclePositions\", \"shape_array_key\": \"29d2bbdbeaec1d6888800f85bebf6e33\", \"trip_id\": \"aa6a03fe-f119-44a5-8976-2ad77ceeb89f:7\", \"stop_sequence\": 9, \"gtfs_dataset_key\": \"1051e067d18a76b0a79789f051d5c22b\", \"loop_or_inlining\": 1, \"n_trips\": 8, \"variable\": \"speed_mph\", \"speed\": 6.445079680812759, \"rounded_speed\": 6}, {\"_gtfs_dataset_name\": \"Anaheim Resort VehiclePositions\", \"shape_array_key\": \"29d2bbdbeaec1d6888800f85bebf6e33\", \"trip_id\": \"aa6a03fe-f119-44a5-8976-2ad77ceeb89f:8\", \"stop_sequence\": 9, \"gtfs_dataset_key\": \"1051e067d18a76b0a79789f051d5c22b\", \"loop_or_inlining\": 1, \"n_trips\": 8, \"variable\": \"speed_mph\", \"speed\": 7.1546699425272715, \"rounded_speed\": 7}, {\"_gtfs_dataset_name\": \"Anaheim Resort VehiclePositions\", \"shape_array_key\": \"29d2bbdbeaec1d6888800f85bebf6e33\", \"trip_id\": \"aa6a03fe-f119-44a5-8976-2ad77ceeb89f:1\", \"stop_sequence\": 9, \"gtfs_dataset_key\": \"1051e067d18a76b0a79789f051d5c22b\", \"loop_or_inlining\": 1, \"n_trips\": 8, \"variable\": \"speed_mph\", \"speed\": 7.02608980528985, \"rounded_speed\": 7}, {\"_gtfs_dataset_name\": \"Anaheim Resort VehiclePositions\", \"shape_array_key\": \"29d2bbdbeaec1d6888800f85bebf6e33\", \"trip_id\": \"aa6a03fe-f119-44a5-8976-2ad77ceeb89f:6\", \"stop_sequence\": 9, \"gtfs_dataset_key\": \"1051e067d18a76b0a79789f051d5c22b\", \"loop_or_inlining\": 1, \"n_trips\": 8, \"variable\": \"speed_mph\", \"speed\": 5.383246629950887, \"rounded_speed\": 5}, {\"_gtfs_dataset_name\": \"Anaheim Resort VehiclePositions\", \"shape_array_key\": \"29d2bbdbeaec1d6888800f85bebf6e33\", \"trip_id\": \"aa6a03fe-f119-44a5-8976-2ad77ceeb89f:4\", \"stop_sequence\": 9, \"gtfs_dataset_key\": \"1051e067d18a76b0a79789f051d5c22b\", \"loop_or_inlining\": 1, \"n_trips\": 8, \"variable\": \"speed_mph\", \"speed\": 3.2376216720996656, \"rounded_speed\": 3}]}}, {\"mode\": \"vega-lite\"});\n",
       "</script>"
      ],
      "text/plain": [
       "alt.Chart(...)"
      ]
     },
     "execution_count": 214,
     "metadata": {},
     "output_type": "execute_result"
    }
   ],
   "source": [
    "chart3"
   ]
  },
  {
   "cell_type": "code",
   "execution_count": 228,
   "id": "4e76705d-d44a-448a-9b38-4be5b5144541",
   "metadata": {},
   "outputs": [],
   "source": [
    "chart6 = alt.Chart(anaheim_test_other).mark_circle(size=200).encode(\n",
    "    x='stop_sequence',\n",
    "    y='rounded_speed',\n",
    "    color='variable',\n",
    "    tooltip= anaheim_test_other.columns.tolist()\n",
    ").interactive()"
   ]
  },
  {
   "cell_type": "code",
   "execution_count": 229,
   "id": "b1466570-049a-43d9-b89d-ee7dbf9dd18f",
   "metadata": {},
   "outputs": [],
   "source": [
    "chart6 = threshold_utils.chart_size(chart6,650,300)"
   ]
  },
  {
   "cell_type": "code",
   "execution_count": 230,
   "id": "1ea1d4b1-2a69-4def-95fc-d49fb68d7087",
   "metadata": {},
   "outputs": [
    {
     "data": {
      "text/html": [
       "\n",
       "<div id=\"altair-viz-2da1737861fd464cbaebb1c6d049294a\"></div>\n",
       "<script type=\"text/javascript\">\n",
       "  var VEGA_DEBUG = (typeof VEGA_DEBUG == \"undefined\") ? {} : VEGA_DEBUG;\n",
       "  (function(spec, embedOpt){\n",
       "    let outputDiv = document.currentScript.previousElementSibling;\n",
       "    if (outputDiv.id !== \"altair-viz-2da1737861fd464cbaebb1c6d049294a\") {\n",
       "      outputDiv = document.getElementById(\"altair-viz-2da1737861fd464cbaebb1c6d049294a\");\n",
       "    }\n",
       "    const paths = {\n",
       "      \"vega\": \"https://cdn.jsdelivr.net/npm//vega@5?noext\",\n",
       "      \"vega-lib\": \"https://cdn.jsdelivr.net/npm//vega-lib?noext\",\n",
       "      \"vega-lite\": \"https://cdn.jsdelivr.net/npm//vega-lite@4.17.0?noext\",\n",
       "      \"vega-embed\": \"https://cdn.jsdelivr.net/npm//vega-embed@6?noext\",\n",
       "    };\n",
       "\n",
       "    function maybeLoadScript(lib, version) {\n",
       "      var key = `${lib.replace(\"-\", \"\")}_version`;\n",
       "      return (VEGA_DEBUG[key] == version) ?\n",
       "        Promise.resolve(paths[lib]) :\n",
       "        new Promise(function(resolve, reject) {\n",
       "          var s = document.createElement('script');\n",
       "          document.getElementsByTagName(\"head\")[0].appendChild(s);\n",
       "          s.async = true;\n",
       "          s.onload = () => {\n",
       "            VEGA_DEBUG[key] = version;\n",
       "            return resolve(paths[lib]);\n",
       "          };\n",
       "          s.onerror = () => reject(`Error loading script: ${paths[lib]}`);\n",
       "          s.src = paths[lib];\n",
       "        });\n",
       "    }\n",
       "\n",
       "    function showError(err) {\n",
       "      outputDiv.innerHTML = `<div class=\"error\" style=\"color:red;\">${err}</div>`;\n",
       "      throw err;\n",
       "    }\n",
       "\n",
       "    function displayChart(vegaEmbed) {\n",
       "      vegaEmbed(outputDiv, spec, embedOpt)\n",
       "        .catch(err => showError(`Javascript Error: ${err.message}<br>This usually means there's a typo in your chart specification. See the javascript console for the full traceback.`));\n",
       "    }\n",
       "\n",
       "    if(typeof define === \"function\" && define.amd) {\n",
       "      requirejs.config({paths});\n",
       "      require([\"vega-embed\"], displayChart, err => showError(`Error loading script: ${err.message}`));\n",
       "    } else {\n",
       "      maybeLoadScript(\"vega\", \"5\")\n",
       "        .then(() => maybeLoadScript(\"vega-lite\", \"4.17.0\"))\n",
       "        .then(() => maybeLoadScript(\"vega-embed\", \"6\"))\n",
       "        .catch(showError)\n",
       "        .then(() => displayChart(vegaEmbed));\n",
       "    }\n",
       "  })({\"config\": {\"view\": {\"continuousWidth\": 400, \"continuousHeight\": 300}}, \"layer\": [{\"data\": {\"name\": \"data-781272622b392a2af105bf9f8b8cb566\"}, \"mark\": {\"type\": \"circle\", \"size\": 60}, \"encoding\": {\"color\": {\"field\": \"variable\", \"type\": \"nominal\"}, \"tooltip\": [{\"field\": \"_gtfs_dataset_name\", \"type\": \"nominal\"}, {\"field\": \"shape_array_key\", \"type\": \"nominal\"}, {\"field\": \"trip_id\", \"type\": \"nominal\"}, {\"field\": \"stop_sequence\", \"type\": \"quantitative\"}, {\"field\": \"gtfs_dataset_key\", \"type\": \"nominal\"}, {\"field\": \"loop_or_inlining\", \"type\": \"quantitative\"}, {\"field\": \"n_trips\", \"type\": \"quantitative\"}, {\"field\": \"variable\", \"type\": \"nominal\"}, {\"field\": \"speed\", \"type\": \"quantitative\"}, {\"field\": \"rounded_speed\", \"type\": \"quantitative\"}], \"x\": {\"field\": \"stop_sequence\", \"type\": \"quantitative\"}, \"y\": {\"field\": \"rounded_speed\", \"type\": \"quantitative\"}}, \"height\": 300, \"selection\": {\"selector007\": {\"type\": \"interval\", \"bind\": \"scales\", \"encodings\": [\"x\", \"y\"]}}, \"width\": 650}, {\"data\": {\"name\": \"data-eb4053f4c5ff11acdfc5792dffcd6484\"}, \"mark\": {\"type\": \"circle\", \"size\": 200}, \"encoding\": {\"color\": {\"field\": \"variable\", \"type\": \"nominal\"}, \"tooltip\": [{\"field\": \"_gtfs_dataset_name\", \"type\": \"nominal\"}, {\"field\": \"shape_array_key\", \"type\": \"nominal\"}, {\"field\": \"trip_id\", \"type\": \"nominal\"}, {\"field\": \"stop_sequence\", \"type\": \"quantitative\"}, {\"field\": \"gtfs_dataset_key\", \"type\": \"nominal\"}, {\"field\": \"loop_or_inlining\", \"type\": \"quantitative\"}, {\"field\": \"n_trips\", \"type\": \"quantitative\"}, {\"field\": \"variable\", \"type\": \"nominal\"}, {\"field\": \"speed\", \"type\": \"quantitative\"}, {\"field\": \"rounded_speed\", \"type\": \"quantitative\"}], \"x\": {\"field\": \"stop_sequence\", \"type\": \"quantitative\"}, \"y\": {\"field\": \"rounded_speed\", \"type\": \"quantitative\"}}, \"height\": 300, \"selection\": {\"selector010\": {\"type\": \"interval\", \"bind\": \"scales\", \"encodings\": [\"x\", \"y\"]}}, \"width\": 650}], \"$schema\": \"https://vega.github.io/schema/vega-lite/v4.17.0.json\", \"datasets\": {\"data-781272622b392a2af105bf9f8b8cb566\": [{\"_gtfs_dataset_name\": \"Anaheim Resort VehiclePositions\", \"shape_array_key\": \"29d2bbdbeaec1d6888800f85bebf6e33\", \"trip_id\": \"aa6a03fe-f119-44a5-8976-2ad77ceeb89f:4\", \"stop_sequence\": 1, \"gtfs_dataset_key\": \"1051e067d18a76b0a79789f051d5c22b\", \"loop_or_inlining\": 1, \"n_trips\": 8, \"variable\": \"speed_mph\", \"speed\": 0.0, \"rounded_speed\": 0}, {\"_gtfs_dataset_name\": \"Anaheim Resort VehiclePositions\", \"shape_array_key\": \"29d2bbdbeaec1d6888800f85bebf6e33\", \"trip_id\": \"aa6a03fe-f119-44a5-8976-2ad77ceeb89f:1\", \"stop_sequence\": 1, \"gtfs_dataset_key\": \"1051e067d18a76b0a79789f051d5c22b\", \"loop_or_inlining\": 1, \"n_trips\": 8, \"variable\": \"speed_mph\", \"speed\": 0.0008325192325460018, \"rounded_speed\": 0}, {\"_gtfs_dataset_name\": \"Anaheim Resort VehiclePositions\", \"shape_array_key\": \"29d2bbdbeaec1d6888800f85bebf6e33\", \"trip_id\": \"aa6a03fe-f119-44a5-8976-2ad77ceeb89f:3\", \"stop_sequence\": 1, \"gtfs_dataset_key\": \"1051e067d18a76b0a79789f051d5c22b\", \"loop_or_inlining\": 1, \"n_trips\": 8, \"variable\": \"speed_mph\", \"speed\": 0.024166183278071445, \"rounded_speed\": 0}, {\"_gtfs_dataset_name\": \"Anaheim Resort VehiclePositions\", \"shape_array_key\": \"29d2bbdbeaec1d6888800f85bebf6e33\", \"trip_id\": \"aa6a03fe-f119-44a5-8976-2ad77ceeb89f:7\", \"stop_sequence\": 1, \"gtfs_dataset_key\": \"1051e067d18a76b0a79789f051d5c22b\", \"loop_or_inlining\": 1, \"n_trips\": 8, \"variable\": \"speed_mph\", \"speed\": 0.004285628561628433, \"rounded_speed\": 0}, {\"_gtfs_dataset_name\": \"Anaheim Resort VehiclePositions\", \"shape_array_key\": \"29d2bbdbeaec1d6888800f85bebf6e33\", \"trip_id\": \"aa6a03fe-f119-44a5-8976-2ad77ceeb89f:4\", \"stop_sequence\": 2, \"gtfs_dataset_key\": \"1051e067d18a76b0a79789f051d5c22b\", \"loop_or_inlining\": 1, \"n_trips\": 8, \"variable\": \"speed_mph\", \"speed\": 9.052623885192912, \"rounded_speed\": 9}, {\"_gtfs_dataset_name\": \"Anaheim Resort VehiclePositions\", \"shape_array_key\": \"29d2bbdbeaec1d6888800f85bebf6e33\", \"trip_id\": \"aa6a03fe-f119-44a5-8976-2ad77ceeb89f:8\", \"stop_sequence\": 2, \"gtfs_dataset_key\": \"1051e067d18a76b0a79789f051d5c22b\", \"loop_or_inlining\": 1, \"n_trips\": 8, \"variable\": \"speed_mph\", \"speed\": 9.572140759512445, \"rounded_speed\": 9}, {\"_gtfs_dataset_name\": \"Anaheim Resort VehiclePositions\", \"shape_array_key\": \"29d2bbdbeaec1d6888800f85bebf6e33\", \"trip_id\": \"aa6a03fe-f119-44a5-8976-2ad77ceeb89f:2\", \"stop_sequence\": 2, \"gtfs_dataset_key\": \"1051e067d18a76b0a79789f051d5c22b\", \"loop_or_inlining\": 1, \"n_trips\": 8, \"variable\": \"speed_mph\", \"speed\": 12.084147088905848, \"rounded_speed\": 12}, {\"_gtfs_dataset_name\": \"Anaheim Resort VehiclePositions\", \"shape_array_key\": \"29d2bbdbeaec1d6888800f85bebf6e33\", \"trip_id\": \"aa6a03fe-f119-44a5-8976-2ad77ceeb89f:7\", \"stop_sequence\": 2, \"gtfs_dataset_key\": \"1051e067d18a76b0a79789f051d5c22b\", \"loop_or_inlining\": 1, \"n_trips\": 8, \"variable\": \"speed_mph\", \"speed\": 7.3172013553677715, \"rounded_speed\": 7}, {\"_gtfs_dataset_name\": \"Anaheim Resort VehiclePositions\", \"shape_array_key\": \"29d2bbdbeaec1d6888800f85bebf6e33\", \"trip_id\": \"aa6a03fe-f119-44a5-8976-2ad77ceeb89f:5\", \"stop_sequence\": 2, \"gtfs_dataset_key\": \"1051e067d18a76b0a79789f051d5c22b\", \"loop_or_inlining\": 1, \"n_trips\": 8, \"variable\": \"speed_mph\", \"speed\": 12.228887731569518, \"rounded_speed\": 12}, {\"_gtfs_dataset_name\": \"Anaheim Resort VehiclePositions\", \"shape_array_key\": \"29d2bbdbeaec1d6888800f85bebf6e33\", \"trip_id\": \"aa6a03fe-f119-44a5-8976-2ad77ceeb89f:1\", \"stop_sequence\": 2, \"gtfs_dataset_key\": \"1051e067d18a76b0a79789f051d5c22b\", \"loop_or_inlining\": 1, \"n_trips\": 8, \"variable\": \"speed_mph\", \"speed\": 1.474625853012174, \"rounded_speed\": 1}, {\"_gtfs_dataset_name\": \"Anaheim Resort VehiclePositions\", \"shape_array_key\": \"29d2bbdbeaec1d6888800f85bebf6e33\", \"trip_id\": \"aa6a03fe-f119-44a5-8976-2ad77ceeb89f:3\", \"stop_sequence\": 2, \"gtfs_dataset_key\": \"1051e067d18a76b0a79789f051d5c22b\", \"loop_or_inlining\": 1, \"n_trips\": 8, \"variable\": \"speed_mph\", \"speed\": 6.665222373845789, \"rounded_speed\": 6}, {\"_gtfs_dataset_name\": \"Anaheim Resort VehiclePositions\", \"shape_array_key\": \"29d2bbdbeaec1d6888800f85bebf6e33\", \"trip_id\": \"aa6a03fe-f119-44a5-8976-2ad77ceeb89f:6\", \"stop_sequence\": 2, \"gtfs_dataset_key\": \"1051e067d18a76b0a79789f051d5c22b\", \"loop_or_inlining\": 1, \"n_trips\": 8, \"variable\": \"speed_mph\", \"speed\": 5.539256926472267, \"rounded_speed\": 5}, {\"_gtfs_dataset_name\": \"Anaheim Resort VehiclePositions\", \"shape_array_key\": \"29d2bbdbeaec1d6888800f85bebf6e33\", \"trip_id\": \"aa6a03fe-f119-44a5-8976-2ad77ceeb89f:8\", \"stop_sequence\": 3, \"gtfs_dataset_key\": \"1051e067d18a76b0a79789f051d5c22b\", \"loop_or_inlining\": 1, \"n_trips\": 8, \"variable\": \"speed_mph\", \"speed\": 4.204004339000222, \"rounded_speed\": 4}, {\"_gtfs_dataset_name\": \"Anaheim Resort VehiclePositions\", \"shape_array_key\": \"29d2bbdbeaec1d6888800f85bebf6e33\", \"trip_id\": \"aa6a03fe-f119-44a5-8976-2ad77ceeb89f:6\", \"stop_sequence\": 3, \"gtfs_dataset_key\": \"1051e067d18a76b0a79789f051d5c22b\", \"loop_or_inlining\": 1, \"n_trips\": 8, \"variable\": \"speed_mph\", \"speed\": 5.45626095061731, \"rounded_speed\": 5}, {\"_gtfs_dataset_name\": \"Anaheim Resort VehiclePositions\", \"shape_array_key\": \"29d2bbdbeaec1d6888800f85bebf6e33\", \"trip_id\": \"aa6a03fe-f119-44a5-8976-2ad77ceeb89f:3\", \"stop_sequence\": 3, \"gtfs_dataset_key\": \"1051e067d18a76b0a79789f051d5c22b\", \"loop_or_inlining\": 1, \"n_trips\": 8, \"variable\": \"speed_mph\", \"speed\": 5.233556422020684, \"rounded_speed\": 5}, {\"_gtfs_dataset_name\": \"Anaheim Resort VehiclePositions\", \"shape_array_key\": \"29d2bbdbeaec1d6888800f85bebf6e33\", \"trip_id\": \"aa6a03fe-f119-44a5-8976-2ad77ceeb89f:7\", \"stop_sequence\": 3, \"gtfs_dataset_key\": \"1051e067d18a76b0a79789f051d5c22b\", \"loop_or_inlining\": 1, \"n_trips\": 8, \"variable\": \"speed_mph\", \"speed\": 3.743711893124285, \"rounded_speed\": 3}, {\"_gtfs_dataset_name\": \"Anaheim Resort VehiclePositions\", \"shape_array_key\": \"29d2bbdbeaec1d6888800f85bebf6e33\", \"trip_id\": \"aa6a03fe-f119-44a5-8976-2ad77ceeb89f:1\", \"stop_sequence\": 3, \"gtfs_dataset_key\": \"1051e067d18a76b0a79789f051d5c22b\", \"loop_or_inlining\": 1, \"n_trips\": 8, \"variable\": \"speed_mph\", \"speed\": 3.7712391864560812, \"rounded_speed\": 3}, {\"_gtfs_dataset_name\": \"Anaheim Resort VehiclePositions\", \"shape_array_key\": \"29d2bbdbeaec1d6888800f85bebf6e33\", \"trip_id\": \"aa6a03fe-f119-44a5-8976-2ad77ceeb89f:5\", \"stop_sequence\": 3, \"gtfs_dataset_key\": \"1051e067d18a76b0a79789f051d5c22b\", \"loop_or_inlining\": 1, \"n_trips\": 8, \"variable\": \"speed_mph\", \"speed\": 3.71658354607266, \"rounded_speed\": 3}, {\"_gtfs_dataset_name\": \"Anaheim Resort VehiclePositions\", \"shape_array_key\": \"29d2bbdbeaec1d6888800f85bebf6e33\", \"trip_id\": \"aa6a03fe-f119-44a5-8976-2ad77ceeb89f:4\", \"stop_sequence\": 3, \"gtfs_dataset_key\": \"1051e067d18a76b0a79789f051d5c22b\", \"loop_or_inlining\": 1, \"n_trips\": 8, \"variable\": \"speed_mph\", \"speed\": 4.030582374619538, \"rounded_speed\": 4}, {\"_gtfs_dataset_name\": \"Anaheim Resort VehiclePositions\", \"shape_array_key\": \"29d2bbdbeaec1d6888800f85bebf6e33\", \"trip_id\": \"aa6a03fe-f119-44a5-8976-2ad77ceeb89f:2\", \"stop_sequence\": 3, \"gtfs_dataset_key\": \"1051e067d18a76b0a79789f051d5c22b\", \"loop_or_inlining\": 1, \"n_trips\": 8, \"variable\": \"speed_mph\", \"speed\": 3.5371622714346693, \"rounded_speed\": 3}, {\"_gtfs_dataset_name\": \"Anaheim Resort VehiclePositions\", \"shape_array_key\": \"29d2bbdbeaec1d6888800f85bebf6e33\", \"trip_id\": \"aa6a03fe-f119-44a5-8976-2ad77ceeb89f:3\", \"stop_sequence\": 4, \"gtfs_dataset_key\": \"1051e067d18a76b0a79789f051d5c22b\", \"loop_or_inlining\": 1, \"n_trips\": 8, \"variable\": \"speed_mph\", \"speed\": 5.502321180654386, \"rounded_speed\": 5}, {\"_gtfs_dataset_name\": \"Anaheim Resort VehiclePositions\", \"shape_array_key\": \"29d2bbdbeaec1d6888800f85bebf6e33\", \"trip_id\": \"aa6a03fe-f119-44a5-8976-2ad77ceeb89f:2\", \"stop_sequence\": 4, \"gtfs_dataset_key\": \"1051e067d18a76b0a79789f051d5c22b\", \"loop_or_inlining\": 1, \"n_trips\": 8, \"variable\": \"speed_mph\", \"speed\": 4.743380328150332, \"rounded_speed\": 4}, {\"_gtfs_dataset_name\": \"Anaheim Resort VehiclePositions\", \"shape_array_key\": \"29d2bbdbeaec1d6888800f85bebf6e33\", \"trip_id\": \"aa6a03fe-f119-44a5-8976-2ad77ceeb89f:5\", \"stop_sequence\": 4, \"gtfs_dataset_key\": \"1051e067d18a76b0a79789f051d5c22b\", \"loop_or_inlining\": 1, \"n_trips\": 8, \"variable\": \"speed_mph\", \"speed\": 2.6851940872424147, \"rounded_speed\": 2}, {\"_gtfs_dataset_name\": \"Anaheim Resort VehiclePositions\", \"shape_array_key\": \"29d2bbdbeaec1d6888800f85bebf6e33\", \"trip_id\": \"aa6a03fe-f119-44a5-8976-2ad77ceeb89f:4\", \"stop_sequence\": 4, \"gtfs_dataset_key\": \"1051e067d18a76b0a79789f051d5c22b\", \"loop_or_inlining\": 1, \"n_trips\": 8, \"variable\": \"speed_mph\", \"speed\": 1.9037205615476676, \"rounded_speed\": 1}, {\"_gtfs_dataset_name\": \"Anaheim Resort VehiclePositions\", \"shape_array_key\": \"29d2bbdbeaec1d6888800f85bebf6e33\", \"trip_id\": \"aa6a03fe-f119-44a5-8976-2ad77ceeb89f:1\", \"stop_sequence\": 4, \"gtfs_dataset_key\": \"1051e067d18a76b0a79789f051d5c22b\", \"loop_or_inlining\": 1, \"n_trips\": 8, \"variable\": \"speed_mph\", \"speed\": 8.874711581700621, \"rounded_speed\": 8}, {\"_gtfs_dataset_name\": \"Anaheim Resort VehiclePositions\", \"shape_array_key\": \"29d2bbdbeaec1d6888800f85bebf6e33\", \"trip_id\": \"aa6a03fe-f119-44a5-8976-2ad77ceeb89f:6\", \"stop_sequence\": 4, \"gtfs_dataset_key\": \"1051e067d18a76b0a79789f051d5c22b\", \"loop_or_inlining\": 1, \"n_trips\": 8, \"variable\": \"speed_mph\", \"speed\": 3.9698284168936024, \"rounded_speed\": 3}, {\"_gtfs_dataset_name\": \"Anaheim Resort VehiclePositions\", \"shape_array_key\": \"29d2bbdbeaec1d6888800f85bebf6e33\", \"trip_id\": \"aa6a03fe-f119-44a5-8976-2ad77ceeb89f:7\", \"stop_sequence\": 4, \"gtfs_dataset_key\": \"1051e067d18a76b0a79789f051d5c22b\", \"loop_or_inlining\": 1, \"n_trips\": 8, \"variable\": \"speed_mph\", \"speed\": 5.037482591588582, \"rounded_speed\": 5}, {\"_gtfs_dataset_name\": \"Anaheim Resort VehiclePositions\", \"shape_array_key\": \"29d2bbdbeaec1d6888800f85bebf6e33\", \"trip_id\": \"aa6a03fe-f119-44a5-8976-2ad77ceeb89f:8\", \"stop_sequence\": 4, \"gtfs_dataset_key\": \"1051e067d18a76b0a79789f051d5c22b\", \"loop_or_inlining\": 1, \"n_trips\": 8, \"variable\": \"speed_mph\", \"speed\": 5.791917032267774, \"rounded_speed\": 5}, {\"_gtfs_dataset_name\": \"Anaheim Resort VehiclePositions\", \"shape_array_key\": \"29d2bbdbeaec1d6888800f85bebf6e33\", \"trip_id\": \"aa6a03fe-f119-44a5-8976-2ad77ceeb89f:5\", \"stop_sequence\": 5, \"gtfs_dataset_key\": \"1051e067d18a76b0a79789f051d5c22b\", \"loop_or_inlining\": 1, \"n_trips\": 8, \"variable\": \"speed_mph\", \"speed\": 0.4003327895449103, \"rounded_speed\": 0}, {\"_gtfs_dataset_name\": \"Anaheim Resort VehiclePositions\", \"shape_array_key\": \"29d2bbdbeaec1d6888800f85bebf6e33\", \"trip_id\": \"aa6a03fe-f119-44a5-8976-2ad77ceeb89f:1\", \"stop_sequence\": 5, \"gtfs_dataset_key\": \"1051e067d18a76b0a79789f051d5c22b\", \"loop_or_inlining\": 1, \"n_trips\": 8, \"variable\": \"speed_mph\", \"speed\": 0.3649171881347712, \"rounded_speed\": 0}, {\"_gtfs_dataset_name\": \"Anaheim Resort VehiclePositions\", \"shape_array_key\": \"29d2bbdbeaec1d6888800f85bebf6e33\", \"trip_id\": \"aa6a03fe-f119-44a5-8976-2ad77ceeb89f:6\", \"stop_sequence\": 5, \"gtfs_dataset_key\": \"1051e067d18a76b0a79789f051d5c22b\", \"loop_or_inlining\": 1, \"n_trips\": 8, \"variable\": \"speed_mph\", \"speed\": 0.9530712497677587, \"rounded_speed\": 0}, {\"_gtfs_dataset_name\": \"Anaheim Resort VehiclePositions\", \"shape_array_key\": \"29d2bbdbeaec1d6888800f85bebf6e33\", \"trip_id\": \"aa6a03fe-f119-44a5-8976-2ad77ceeb89f:2\", \"stop_sequence\": 5, \"gtfs_dataset_key\": \"1051e067d18a76b0a79789f051d5c22b\", \"loop_or_inlining\": 1, \"n_trips\": 8, \"variable\": \"speed_mph\", \"speed\": 0.9438630959548601, \"rounded_speed\": 0}, {\"_gtfs_dataset_name\": \"Anaheim Resort VehiclePositions\", \"shape_array_key\": \"29d2bbdbeaec1d6888800f85bebf6e33\", \"trip_id\": \"aa6a03fe-f119-44a5-8976-2ad77ceeb89f:4\", \"stop_sequence\": 5, \"gtfs_dataset_key\": \"1051e067d18a76b0a79789f051d5c22b\", \"loop_or_inlining\": 1, \"n_trips\": 8, \"variable\": \"speed_mph\", \"speed\": 0.7386749715210611, \"rounded_speed\": 0}, {\"_gtfs_dataset_name\": \"Anaheim Resort VehiclePositions\", \"shape_array_key\": \"29d2bbdbeaec1d6888800f85bebf6e33\", \"trip_id\": \"aa6a03fe-f119-44a5-8976-2ad77ceeb89f:7\", \"stop_sequence\": 5, \"gtfs_dataset_key\": \"1051e067d18a76b0a79789f051d5c22b\", \"loop_or_inlining\": 1, \"n_trips\": 8, \"variable\": \"speed_mph\", \"speed\": 0.858355583120451, \"rounded_speed\": 0}, {\"_gtfs_dataset_name\": \"Anaheim Resort VehiclePositions\", \"shape_array_key\": \"29d2bbdbeaec1d6888800f85bebf6e33\", \"trip_id\": \"aa6a03fe-f119-44a5-8976-2ad77ceeb89f:8\", \"stop_sequence\": 5, \"gtfs_dataset_key\": \"1051e067d18a76b0a79789f051d5c22b\", \"loop_or_inlining\": 1, \"n_trips\": 8, \"variable\": \"speed_mph\", \"speed\": 0.030505310606709555, \"rounded_speed\": 0}, {\"_gtfs_dataset_name\": \"Anaheim Resort VehiclePositions\", \"shape_array_key\": \"29d2bbdbeaec1d6888800f85bebf6e33\", \"trip_id\": \"aa6a03fe-f119-44a5-8976-2ad77ceeb89f:3\", \"stop_sequence\": 5, \"gtfs_dataset_key\": \"1051e067d18a76b0a79789f051d5c22b\", \"loop_or_inlining\": 1, \"n_trips\": 8, \"variable\": \"speed_mph\", \"speed\": 0.6211284606682089, \"rounded_speed\": 0}, {\"_gtfs_dataset_name\": \"Anaheim Resort VehiclePositions\", \"shape_array_key\": \"29d2bbdbeaec1d6888800f85bebf6e33\", \"trip_id\": \"aa6a03fe-f119-44a5-8976-2ad77ceeb89f:1\", \"stop_sequence\": 6, \"gtfs_dataset_key\": \"1051e067d18a76b0a79789f051d5c22b\", \"loop_or_inlining\": 1, \"n_trips\": 8, \"variable\": \"speed_mph\", \"speed\": 3.1778058596745042, \"rounded_speed\": 3}, {\"_gtfs_dataset_name\": \"Anaheim Resort VehiclePositions\", \"shape_array_key\": \"29d2bbdbeaec1d6888800f85bebf6e33\", \"trip_id\": \"aa6a03fe-f119-44a5-8976-2ad77ceeb89f:7\", \"stop_sequence\": 6, \"gtfs_dataset_key\": \"1051e067d18a76b0a79789f051d5c22b\", \"loop_or_inlining\": 1, \"n_trips\": 8, \"variable\": \"speed_mph\", \"speed\": 3.115495940857357, \"rounded_speed\": 3}, {\"_gtfs_dataset_name\": \"Anaheim Resort VehiclePositions\", \"shape_array_key\": \"29d2bbdbeaec1d6888800f85bebf6e33\", \"trip_id\": \"aa6a03fe-f119-44a5-8976-2ad77ceeb89f:5\", \"stop_sequence\": 6, \"gtfs_dataset_key\": \"1051e067d18a76b0a79789f051d5c22b\", \"loop_or_inlining\": 1, \"n_trips\": 8, \"variable\": \"speed_mph\", \"speed\": 3.0713753901508745, \"rounded_speed\": 3}, {\"_gtfs_dataset_name\": \"Anaheim Resort VehiclePositions\", \"shape_array_key\": \"29d2bbdbeaec1d6888800f85bebf6e33\", \"trip_id\": \"aa6a03fe-f119-44a5-8976-2ad77ceeb89f:8\", \"stop_sequence\": 6, \"gtfs_dataset_key\": \"1051e067d18a76b0a79789f051d5c22b\", \"loop_or_inlining\": 1, \"n_trips\": 8, \"variable\": \"speed_mph\", \"speed\": 1.6049524543810627, \"rounded_speed\": 1}, {\"_gtfs_dataset_name\": \"Anaheim Resort VehiclePositions\", \"shape_array_key\": \"29d2bbdbeaec1d6888800f85bebf6e33\", \"trip_id\": \"aa6a03fe-f119-44a5-8976-2ad77ceeb89f:4\", \"stop_sequence\": 6, \"gtfs_dataset_key\": \"1051e067d18a76b0a79789f051d5c22b\", \"loop_or_inlining\": 1, \"n_trips\": 8, \"variable\": \"speed_mph\", \"speed\": 0.0, \"rounded_speed\": 0}, {\"_gtfs_dataset_name\": \"Anaheim Resort VehiclePositions\", \"shape_array_key\": \"29d2bbdbeaec1d6888800f85bebf6e33\", \"trip_id\": \"aa6a03fe-f119-44a5-8976-2ad77ceeb89f:6\", \"stop_sequence\": 6, \"gtfs_dataset_key\": \"1051e067d18a76b0a79789f051d5c22b\", \"loop_or_inlining\": 1, \"n_trips\": 8, \"variable\": \"speed_mph\", \"speed\": 3.4755251261789124, \"rounded_speed\": 3}, {\"_gtfs_dataset_name\": \"Anaheim Resort VehiclePositions\", \"shape_array_key\": \"29d2bbdbeaec1d6888800f85bebf6e33\", \"trip_id\": \"aa6a03fe-f119-44a5-8976-2ad77ceeb89f:3\", \"stop_sequence\": 6, \"gtfs_dataset_key\": \"1051e067d18a76b0a79789f051d5c22b\", \"loop_or_inlining\": 1, \"n_trips\": 8, \"variable\": \"speed_mph\", \"speed\": 5.165479973825983, \"rounded_speed\": 5}, {\"_gtfs_dataset_name\": \"Anaheim Resort VehiclePositions\", \"shape_array_key\": \"29d2bbdbeaec1d6888800f85bebf6e33\", \"trip_id\": \"aa6a03fe-f119-44a5-8976-2ad77ceeb89f:2\", \"stop_sequence\": 6, \"gtfs_dataset_key\": \"1051e067d18a76b0a79789f051d5c22b\", \"loop_or_inlining\": 1, \"n_trips\": 8, \"variable\": \"speed_mph\", \"speed\": 0.10638895159918775, \"rounded_speed\": 0}, {\"_gtfs_dataset_name\": \"Anaheim Resort VehiclePositions\", \"shape_array_key\": \"29d2bbdbeaec1d6888800f85bebf6e33\", \"trip_id\": \"aa6a03fe-f119-44a5-8976-2ad77ceeb89f:4\", \"stop_sequence\": 7, \"gtfs_dataset_key\": \"1051e067d18a76b0a79789f051d5c22b\", \"loop_or_inlining\": 1, \"n_trips\": 8, \"variable\": \"speed_mph\", \"speed\": 3.7270936120609353, \"rounded_speed\": 3}, {\"_gtfs_dataset_name\": \"Anaheim Resort VehiclePositions\", \"shape_array_key\": \"29d2bbdbeaec1d6888800f85bebf6e33\", \"trip_id\": \"aa6a03fe-f119-44a5-8976-2ad77ceeb89f:2\", \"stop_sequence\": 7, \"gtfs_dataset_key\": \"1051e067d18a76b0a79789f051d5c22b\", \"loop_or_inlining\": 1, \"n_trips\": 8, \"variable\": \"speed_mph\", \"speed\": 4.198388039106803, \"rounded_speed\": 4}, {\"_gtfs_dataset_name\": \"Anaheim Resort VehiclePositions\", \"shape_array_key\": \"29d2bbdbeaec1d6888800f85bebf6e33\", \"trip_id\": \"aa6a03fe-f119-44a5-8976-2ad77ceeb89f:7\", \"stop_sequence\": 7, \"gtfs_dataset_key\": \"1051e067d18a76b0a79789f051d5c22b\", \"loop_or_inlining\": 1, \"n_trips\": 8, \"variable\": \"speed_mph\", \"speed\": 4.398551656884758, \"rounded_speed\": 4}, {\"_gtfs_dataset_name\": \"Anaheim Resort VehiclePositions\", \"shape_array_key\": \"29d2bbdbeaec1d6888800f85bebf6e33\", \"trip_id\": \"aa6a03fe-f119-44a5-8976-2ad77ceeb89f:5\", \"stop_sequence\": 7, \"gtfs_dataset_key\": \"1051e067d18a76b0a79789f051d5c22b\", \"loop_or_inlining\": 1, \"n_trips\": 8, \"variable\": \"speed_mph\", \"speed\": 1.5965853186573182, \"rounded_speed\": 1}, {\"_gtfs_dataset_name\": \"Anaheim Resort VehiclePositions\", \"shape_array_key\": \"29d2bbdbeaec1d6888800f85bebf6e33\", \"trip_id\": \"aa6a03fe-f119-44a5-8976-2ad77ceeb89f:8\", \"stop_sequence\": 7, \"gtfs_dataset_key\": \"1051e067d18a76b0a79789f051d5c22b\", \"loop_or_inlining\": 1, \"n_trips\": 8, \"variable\": \"speed_mph\", \"speed\": 4.382712794175961, \"rounded_speed\": 4}, {\"_gtfs_dataset_name\": \"Anaheim Resort VehiclePositions\", \"shape_array_key\": \"29d2bbdbeaec1d6888800f85bebf6e33\", \"trip_id\": \"aa6a03fe-f119-44a5-8976-2ad77ceeb89f:1\", \"stop_sequence\": 7, \"gtfs_dataset_key\": \"1051e067d18a76b0a79789f051d5c22b\", \"loop_or_inlining\": 1, \"n_trips\": 8, \"variable\": \"speed_mph\", \"speed\": 5.728926171239877, \"rounded_speed\": 5}, {\"_gtfs_dataset_name\": \"Anaheim Resort VehiclePositions\", \"shape_array_key\": \"29d2bbdbeaec1d6888800f85bebf6e33\", \"trip_id\": \"aa6a03fe-f119-44a5-8976-2ad77ceeb89f:6\", \"stop_sequence\": 7, \"gtfs_dataset_key\": \"1051e067d18a76b0a79789f051d5c22b\", \"loop_or_inlining\": 1, \"n_trips\": 8, \"variable\": \"speed_mph\", \"speed\": 3.8511807031171434, \"rounded_speed\": 3}, {\"_gtfs_dataset_name\": \"Anaheim Resort VehiclePositions\", \"shape_array_key\": \"29d2bbdbeaec1d6888800f85bebf6e33\", \"trip_id\": \"aa6a03fe-f119-44a5-8976-2ad77ceeb89f:3\", \"stop_sequence\": 7, \"gtfs_dataset_key\": \"1051e067d18a76b0a79789f051d5c22b\", \"loop_or_inlining\": 1, \"n_trips\": 8, \"variable\": \"speed_mph\", \"speed\": 2.665992305539968, \"rounded_speed\": 2}, {\"_gtfs_dataset_name\": \"Anaheim Resort VehiclePositions\", \"shape_array_key\": \"29d2bbdbeaec1d6888800f85bebf6e33\", \"trip_id\": \"aa6a03fe-f119-44a5-8976-2ad77ceeb89f:5\", \"stop_sequence\": 8, \"gtfs_dataset_key\": \"1051e067d18a76b0a79789f051d5c22b\", \"loop_or_inlining\": 1, \"n_trips\": 8, \"variable\": \"speed_mph\", \"speed\": 3.3531660450484737, \"rounded_speed\": 3}, {\"_gtfs_dataset_name\": \"Anaheim Resort VehiclePositions\", \"shape_array_key\": \"29d2bbdbeaec1d6888800f85bebf6e33\", \"trip_id\": \"aa6a03fe-f119-44a5-8976-2ad77ceeb89f:7\", \"stop_sequence\": 8, \"gtfs_dataset_key\": \"1051e067d18a76b0a79789f051d5c22b\", \"loop_or_inlining\": 1, \"n_trips\": 8, \"variable\": \"speed_mph\", \"speed\": 4.7153897508494165, \"rounded_speed\": 4}, {\"_gtfs_dataset_name\": \"Anaheim Resort VehiclePositions\", \"shape_array_key\": \"29d2bbdbeaec1d6888800f85bebf6e33\", \"trip_id\": \"aa6a03fe-f119-44a5-8976-2ad77ceeb89f:4\", \"stop_sequence\": 8, \"gtfs_dataset_key\": \"1051e067d18a76b0a79789f051d5c22b\", \"loop_or_inlining\": 1, \"n_trips\": 8, \"variable\": \"speed_mph\", \"speed\": 7.496716773745876, \"rounded_speed\": 7}, {\"_gtfs_dataset_name\": \"Anaheim Resort VehiclePositions\", \"shape_array_key\": \"29d2bbdbeaec1d6888800f85bebf6e33\", \"trip_id\": \"aa6a03fe-f119-44a5-8976-2ad77ceeb89f:1\", \"stop_sequence\": 8, \"gtfs_dataset_key\": \"1051e067d18a76b0a79789f051d5c22b\", \"loop_or_inlining\": 1, \"n_trips\": 8, \"variable\": \"speed_mph\", \"speed\": 7.196793712874587, \"rounded_speed\": 7}, {\"_gtfs_dataset_name\": \"Anaheim Resort VehiclePositions\", \"shape_array_key\": \"29d2bbdbeaec1d6888800f85bebf6e33\", \"trip_id\": \"aa6a03fe-f119-44a5-8976-2ad77ceeb89f:6\", \"stop_sequence\": 8, \"gtfs_dataset_key\": \"1051e067d18a76b0a79789f051d5c22b\", \"loop_or_inlining\": 1, \"n_trips\": 8, \"variable\": \"speed_mph\", \"speed\": 4.5885013672940875, \"rounded_speed\": 4}, {\"_gtfs_dataset_name\": \"Anaheim Resort VehiclePositions\", \"shape_array_key\": \"29d2bbdbeaec1d6888800f85bebf6e33\", \"trip_id\": \"aa6a03fe-f119-44a5-8976-2ad77ceeb89f:2\", \"stop_sequence\": 8, \"gtfs_dataset_key\": \"1051e067d18a76b0a79789f051d5c22b\", \"loop_or_inlining\": 1, \"n_trips\": 8, \"variable\": \"speed_mph\", \"speed\": 3.9708545270310878, \"rounded_speed\": 3}, {\"_gtfs_dataset_name\": \"Anaheim Resort VehiclePositions\", \"shape_array_key\": \"29d2bbdbeaec1d6888800f85bebf6e33\", \"trip_id\": \"aa6a03fe-f119-44a5-8976-2ad77ceeb89f:3\", \"stop_sequence\": 8, \"gtfs_dataset_key\": \"1051e067d18a76b0a79789f051d5c22b\", \"loop_or_inlining\": 1, \"n_trips\": 8, \"variable\": \"speed_mph\", \"speed\": 4.619157306954531, \"rounded_speed\": 4}, {\"_gtfs_dataset_name\": \"Anaheim Resort VehiclePositions\", \"shape_array_key\": \"29d2bbdbeaec1d6888800f85bebf6e33\", \"trip_id\": \"aa6a03fe-f119-44a5-8976-2ad77ceeb89f:5\", \"stop_sequence\": 9, \"gtfs_dataset_key\": \"1051e067d18a76b0a79789f051d5c22b\", \"loop_or_inlining\": 1, \"n_trips\": 8, \"variable\": \"speed_mph\", \"speed\": 2.493484490013982, \"rounded_speed\": 2}, {\"_gtfs_dataset_name\": \"Anaheim Resort VehiclePositions\", \"shape_array_key\": \"29d2bbdbeaec1d6888800f85bebf6e33\", \"trip_id\": \"aa6a03fe-f119-44a5-8976-2ad77ceeb89f:2\", \"stop_sequence\": 9, \"gtfs_dataset_key\": \"1051e067d18a76b0a79789f051d5c22b\", \"loop_or_inlining\": 1, \"n_trips\": 8, \"variable\": \"speed_mph\", \"speed\": 2.8256576669091813, \"rounded_speed\": 2}, {\"_gtfs_dataset_name\": \"Anaheim Resort VehiclePositions\", \"shape_array_key\": \"29d2bbdbeaec1d6888800f85bebf6e33\", \"trip_id\": \"aa6a03fe-f119-44a5-8976-2ad77ceeb89f:3\", \"stop_sequence\": 9, \"gtfs_dataset_key\": \"1051e067d18a76b0a79789f051d5c22b\", \"loop_or_inlining\": 1, \"n_trips\": 8, \"variable\": \"speed_mph\", \"speed\": 5.097026478490071, \"rounded_speed\": 5}, {\"_gtfs_dataset_name\": \"Anaheim Resort VehiclePositions\", \"shape_array_key\": \"29d2bbdbeaec1d6888800f85bebf6e33\", \"trip_id\": \"aa6a03fe-f119-44a5-8976-2ad77ceeb89f:7\", \"stop_sequence\": 9, \"gtfs_dataset_key\": \"1051e067d18a76b0a79789f051d5c22b\", \"loop_or_inlining\": 1, \"n_trips\": 8, \"variable\": \"speed_mph\", \"speed\": 6.445079680812759, \"rounded_speed\": 6}, {\"_gtfs_dataset_name\": \"Anaheim Resort VehiclePositions\", \"shape_array_key\": \"29d2bbdbeaec1d6888800f85bebf6e33\", \"trip_id\": \"aa6a03fe-f119-44a5-8976-2ad77ceeb89f:8\", \"stop_sequence\": 9, \"gtfs_dataset_key\": \"1051e067d18a76b0a79789f051d5c22b\", \"loop_or_inlining\": 1, \"n_trips\": 8, \"variable\": \"speed_mph\", \"speed\": 7.1546699425272715, \"rounded_speed\": 7}, {\"_gtfs_dataset_name\": \"Anaheim Resort VehiclePositions\", \"shape_array_key\": \"29d2bbdbeaec1d6888800f85bebf6e33\", \"trip_id\": \"aa6a03fe-f119-44a5-8976-2ad77ceeb89f:1\", \"stop_sequence\": 9, \"gtfs_dataset_key\": \"1051e067d18a76b0a79789f051d5c22b\", \"loop_or_inlining\": 1, \"n_trips\": 8, \"variable\": \"speed_mph\", \"speed\": 7.02608980528985, \"rounded_speed\": 7}, {\"_gtfs_dataset_name\": \"Anaheim Resort VehiclePositions\", \"shape_array_key\": \"29d2bbdbeaec1d6888800f85bebf6e33\", \"trip_id\": \"aa6a03fe-f119-44a5-8976-2ad77ceeb89f:6\", \"stop_sequence\": 9, \"gtfs_dataset_key\": \"1051e067d18a76b0a79789f051d5c22b\", \"loop_or_inlining\": 1, \"n_trips\": 8, \"variable\": \"speed_mph\", \"speed\": 5.383246629950887, \"rounded_speed\": 5}, {\"_gtfs_dataset_name\": \"Anaheim Resort VehiclePositions\", \"shape_array_key\": \"29d2bbdbeaec1d6888800f85bebf6e33\", \"trip_id\": \"aa6a03fe-f119-44a5-8976-2ad77ceeb89f:4\", \"stop_sequence\": 9, \"gtfs_dataset_key\": \"1051e067d18a76b0a79789f051d5c22b\", \"loop_or_inlining\": 1, \"n_trips\": 8, \"variable\": \"speed_mph\", \"speed\": 3.2376216720996656, \"rounded_speed\": 3}], \"data-eb4053f4c5ff11acdfc5792dffcd6484\": [{\"_gtfs_dataset_name\": \"Anaheim Resort VehiclePositions\", \"shape_array_key\": \"29d2bbdbeaec1d6888800f85bebf6e33\", \"trip_id\": \"aa6a03fe-f119-44a5-8976-2ad77ceeb89f:4\", \"stop_sequence\": 1, \"gtfs_dataset_key\": \"1051e067d18a76b0a79789f051d5c22b\", \"loop_or_inlining\": 1, \"n_trips\": 8, \"variable\": \"avg_speed_mph\", \"speed\": 0.0, \"rounded_speed\": 0}, {\"_gtfs_dataset_name\": \"Anaheim Resort VehiclePositions\", \"shape_array_key\": \"29d2bbdbeaec1d6888800f85bebf6e33\", \"trip_id\": \"aa6a03fe-f119-44a5-8976-2ad77ceeb89f:4\", \"stop_sequence\": 2, \"gtfs_dataset_key\": \"1051e067d18a76b0a79789f051d5c22b\", \"loop_or_inlining\": 1, \"n_trips\": 8, \"variable\": \"avg_speed_mph\", \"speed\": 7.99, \"rounded_speed\": 7}, {\"_gtfs_dataset_name\": \"Anaheim Resort VehiclePositions\", \"shape_array_key\": \"29d2bbdbeaec1d6888800f85bebf6e33\", \"trip_id\": \"aa6a03fe-f119-44a5-8976-2ad77ceeb89f:8\", \"stop_sequence\": 3, \"gtfs_dataset_key\": \"1051e067d18a76b0a79789f051d5c22b\", \"loop_or_inlining\": 1, \"n_trips\": 8, \"variable\": \"avg_speed_mph\", \"speed\": 4.21, \"rounded_speed\": 4}, {\"_gtfs_dataset_name\": \"Anaheim Resort VehiclePositions\", \"shape_array_key\": \"29d2bbdbeaec1d6888800f85bebf6e33\", \"trip_id\": \"aa6a03fe-f119-44a5-8976-2ad77ceeb89f:3\", \"stop_sequence\": 4, \"gtfs_dataset_key\": \"1051e067d18a76b0a79789f051d5c22b\", \"loop_or_inlining\": 1, \"n_trips\": 8, \"variable\": \"avg_speed_mph\", \"speed\": 4.81, \"rounded_speed\": 4}, {\"_gtfs_dataset_name\": \"Anaheim Resort VehiclePositions\", \"shape_array_key\": \"29d2bbdbeaec1d6888800f85bebf6e33\", \"trip_id\": \"aa6a03fe-f119-44a5-8976-2ad77ceeb89f:5\", \"stop_sequence\": 5, \"gtfs_dataset_key\": \"1051e067d18a76b0a79789f051d5c22b\", \"loop_or_inlining\": 1, \"n_trips\": 8, \"variable\": \"avg_speed_mph\", \"speed\": 0.61, \"rounded_speed\": 0}, {\"_gtfs_dataset_name\": \"Anaheim Resort VehiclePositions\", \"shape_array_key\": \"29d2bbdbeaec1d6888800f85bebf6e33\", \"trip_id\": \"aa6a03fe-f119-44a5-8976-2ad77ceeb89f:1\", \"stop_sequence\": 6, \"gtfs_dataset_key\": \"1051e067d18a76b0a79789f051d5c22b\", \"loop_or_inlining\": 1, \"n_trips\": 8, \"variable\": \"avg_speed_mph\", \"speed\": 2.46, \"rounded_speed\": 2}, {\"_gtfs_dataset_name\": \"Anaheim Resort VehiclePositions\", \"shape_array_key\": \"29d2bbdbeaec1d6888800f85bebf6e33\", \"trip_id\": \"aa6a03fe-f119-44a5-8976-2ad77ceeb89f:4\", \"stop_sequence\": 7, \"gtfs_dataset_key\": \"1051e067d18a76b0a79789f051d5c22b\", \"loop_or_inlining\": 1, \"n_trips\": 8, \"variable\": \"avg_speed_mph\", \"speed\": 3.82, \"rounded_speed\": 3}, {\"_gtfs_dataset_name\": \"Anaheim Resort VehiclePositions\", \"shape_array_key\": \"29d2bbdbeaec1d6888800f85bebf6e33\", \"trip_id\": \"aa6a03fe-f119-44a5-8976-2ad77ceeb89f:5\", \"stop_sequence\": 8, \"gtfs_dataset_key\": \"1051e067d18a76b0a79789f051d5c22b\", \"loop_or_inlining\": 1, \"n_trips\": 8, \"variable\": \"avg_speed_mph\", \"speed\": 4.91, \"rounded_speed\": 4}, {\"_gtfs_dataset_name\": \"Anaheim Resort VehiclePositions\", \"shape_array_key\": \"29d2bbdbeaec1d6888800f85bebf6e33\", \"trip_id\": \"aa6a03fe-f119-44a5-8976-2ad77ceeb89f:5\", \"stop_sequence\": 9, \"gtfs_dataset_key\": \"1051e067d18a76b0a79789f051d5c22b\", \"loop_or_inlining\": 1, \"n_trips\": 8, \"variable\": \"avg_speed_mph\", \"speed\": 4.96, \"rounded_speed\": 4}, {\"_gtfs_dataset_name\": \"Anaheim Resort VehiclePositions\", \"shape_array_key\": \"29d2bbdbeaec1d6888800f85bebf6e33\", \"trip_id\": \"aa6a03fe-f119-44a5-8976-2ad77ceeb89f:4\", \"stop_sequence\": 1, \"gtfs_dataset_key\": \"1051e067d18a76b0a79789f051d5c22b\", \"loop_or_inlining\": 1, \"n_trips\": 8, \"variable\": \"p20_speed_mph\", \"speed\": 0.0, \"rounded_speed\": 0}, {\"_gtfs_dataset_name\": \"Anaheim Resort VehiclePositions\", \"shape_array_key\": \"29d2bbdbeaec1d6888800f85bebf6e33\", \"trip_id\": \"aa6a03fe-f119-44a5-8976-2ad77ceeb89f:4\", \"stop_sequence\": 2, \"gtfs_dataset_key\": \"1051e067d18a76b0a79789f051d5c22b\", \"loop_or_inlining\": 1, \"n_trips\": 8, \"variable\": \"p20_speed_mph\", \"speed\": 5.99, \"rounded_speed\": 5}, {\"_gtfs_dataset_name\": \"Anaheim Resort VehiclePositions\", \"shape_array_key\": \"29d2bbdbeaec1d6888800f85bebf6e33\", \"trip_id\": \"aa6a03fe-f119-44a5-8976-2ad77ceeb89f:8\", \"stop_sequence\": 3, \"gtfs_dataset_key\": \"1051e067d18a76b0a79789f051d5c22b\", \"loop_or_inlining\": 1, \"n_trips\": 8, \"variable\": \"p20_speed_mph\", \"speed\": 3.73, \"rounded_speed\": 3}, {\"_gtfs_dataset_name\": \"Anaheim Resort VehiclePositions\", \"shape_array_key\": \"29d2bbdbeaec1d6888800f85bebf6e33\", \"trip_id\": \"aa6a03fe-f119-44a5-8976-2ad77ceeb89f:3\", \"stop_sequence\": 4, \"gtfs_dataset_key\": \"1051e067d18a76b0a79789f051d5c22b\", \"loop_or_inlining\": 1, \"n_trips\": 8, \"variable\": \"p20_speed_mph\", \"speed\": 3.2, \"rounded_speed\": 3}, {\"_gtfs_dataset_name\": \"Anaheim Resort VehiclePositions\", \"shape_array_key\": \"29d2bbdbeaec1d6888800f85bebf6e33\", \"trip_id\": \"aa6a03fe-f119-44a5-8976-2ad77ceeb89f:5\", \"stop_sequence\": 5, \"gtfs_dataset_key\": \"1051e067d18a76b0a79789f051d5c22b\", \"loop_or_inlining\": 1, \"n_trips\": 8, \"variable\": \"p20_speed_mph\", \"speed\": 0.38, \"rounded_speed\": 0}, {\"_gtfs_dataset_name\": \"Anaheim Resort VehiclePositions\", \"shape_array_key\": \"29d2bbdbeaec1d6888800f85bebf6e33\", \"trip_id\": \"aa6a03fe-f119-44a5-8976-2ad77ceeb89f:1\", \"stop_sequence\": 6, \"gtfs_dataset_key\": \"1051e067d18a76b0a79789f051d5c22b\", \"loop_or_inlining\": 1, \"n_trips\": 8, \"variable\": \"p20_speed_mph\", \"speed\": 0.71, \"rounded_speed\": 0}, {\"_gtfs_dataset_name\": \"Anaheim Resort VehiclePositions\", \"shape_array_key\": \"29d2bbdbeaec1d6888800f85bebf6e33\", \"trip_id\": \"aa6a03fe-f119-44a5-8976-2ad77ceeb89f:4\", \"stop_sequence\": 7, \"gtfs_dataset_key\": \"1051e067d18a76b0a79789f051d5c22b\", \"loop_or_inlining\": 1, \"n_trips\": 8, \"variable\": \"p20_speed_mph\", \"speed\": 3.09, \"rounded_speed\": 3}, {\"_gtfs_dataset_name\": \"Anaheim Resort VehiclePositions\", \"shape_array_key\": \"29d2bbdbeaec1d6888800f85bebf6e33\", \"trip_id\": \"aa6a03fe-f119-44a5-8976-2ad77ceeb89f:5\", \"stop_sequence\": 8, \"gtfs_dataset_key\": \"1051e067d18a76b0a79789f051d5c22b\", \"loop_or_inlining\": 1, \"n_trips\": 8, \"variable\": \"p20_speed_mph\", \"speed\": 3.6, \"rounded_speed\": 3}, {\"_gtfs_dataset_name\": \"Anaheim Resort VehiclePositions\", \"shape_array_key\": \"29d2bbdbeaec1d6888800f85bebf6e33\", \"trip_id\": \"aa6a03fe-f119-44a5-8976-2ad77ceeb89f:5\", \"stop_sequence\": 9, \"gtfs_dataset_key\": \"1051e067d18a76b0a79789f051d5c22b\", \"loop_or_inlining\": 1, \"n_trips\": 8, \"variable\": \"p20_speed_mph\", \"speed\": 2.99, \"rounded_speed\": 2}, {\"_gtfs_dataset_name\": \"Anaheim Resort VehiclePositions\", \"shape_array_key\": \"29d2bbdbeaec1d6888800f85bebf6e33\", \"trip_id\": \"aa6a03fe-f119-44a5-8976-2ad77ceeb89f:4\", \"stop_sequence\": 1, \"gtfs_dataset_key\": \"1051e067d18a76b0a79789f051d5c22b\", \"loop_or_inlining\": 1, \"n_trips\": 8, \"variable\": \"p80_speed_mph\", \"speed\": 0.0, \"rounded_speed\": 0}, {\"_gtfs_dataset_name\": \"Anaheim Resort VehiclePositions\", \"shape_array_key\": \"29d2bbdbeaec1d6888800f85bebf6e33\", \"trip_id\": \"aa6a03fe-f119-44a5-8976-2ad77ceeb89f:4\", \"stop_sequence\": 2, \"gtfs_dataset_key\": \"1051e067d18a76b0a79789f051d5c22b\", \"loop_or_inlining\": 1, \"n_trips\": 8, \"variable\": \"p80_speed_mph\", \"speed\": 11.08, \"rounded_speed\": 11}, {\"_gtfs_dataset_name\": \"Anaheim Resort VehiclePositions\", \"shape_array_key\": \"29d2bbdbeaec1d6888800f85bebf6e33\", \"trip_id\": \"aa6a03fe-f119-44a5-8976-2ad77ceeb89f:8\", \"stop_sequence\": 3, \"gtfs_dataset_key\": \"1051e067d18a76b0a79789f051d5c22b\", \"loop_or_inlining\": 1, \"n_trips\": 8, \"variable\": \"p80_speed_mph\", \"speed\": 4.82, \"rounded_speed\": 4}, {\"_gtfs_dataset_name\": \"Anaheim Resort VehiclePositions\", \"shape_array_key\": \"29d2bbdbeaec1d6888800f85bebf6e33\", \"trip_id\": \"aa6a03fe-f119-44a5-8976-2ad77ceeb89f:3\", \"stop_sequence\": 4, \"gtfs_dataset_key\": \"1051e067d18a76b0a79789f051d5c22b\", \"loop_or_inlining\": 1, \"n_trips\": 8, \"variable\": \"p80_speed_mph\", \"speed\": 5.68, \"rounded_speed\": 5}, {\"_gtfs_dataset_name\": \"Anaheim Resort VehiclePositions\", \"shape_array_key\": \"29d2bbdbeaec1d6888800f85bebf6e33\", \"trip_id\": \"aa6a03fe-f119-44a5-8976-2ad77ceeb89f:5\", \"stop_sequence\": 5, \"gtfs_dataset_key\": \"1051e067d18a76b0a79789f051d5c22b\", \"loop_or_inlining\": 1, \"n_trips\": 8, \"variable\": \"p80_speed_mph\", \"speed\": 0.91, \"rounded_speed\": 0}, {\"_gtfs_dataset_name\": \"Anaheim Resort VehiclePositions\", \"shape_array_key\": \"29d2bbdbeaec1d6888800f85bebf6e33\", \"trip_id\": \"aa6a03fe-f119-44a5-8976-2ad77ceeb89f:1\", \"stop_sequence\": 6, \"gtfs_dataset_key\": \"1051e067d18a76b0a79789f051d5c22b\", \"loop_or_inlining\": 1, \"n_trips\": 8, \"variable\": \"p80_speed_mph\", \"speed\": 3.36, \"rounded_speed\": 3}, {\"_gtfs_dataset_name\": \"Anaheim Resort VehiclePositions\", \"shape_array_key\": \"29d2bbdbeaec1d6888800f85bebf6e33\", \"trip_id\": \"aa6a03fe-f119-44a5-8976-2ad77ceeb89f:4\", \"stop_sequence\": 7, \"gtfs_dataset_key\": \"1051e067d18a76b0a79789f051d5c22b\", \"loop_or_inlining\": 1, \"n_trips\": 8, \"variable\": \"p80_speed_mph\", \"speed\": 4.39, \"rounded_speed\": 4}, {\"_gtfs_dataset_name\": \"Anaheim Resort VehiclePositions\", \"shape_array_key\": \"29d2bbdbeaec1d6888800f85bebf6e33\", \"trip_id\": \"aa6a03fe-f119-44a5-8976-2ad77ceeb89f:5\", \"stop_sequence\": 8, \"gtfs_dataset_key\": \"1051e067d18a76b0a79789f051d5c22b\", \"loop_or_inlining\": 1, \"n_trips\": 8, \"variable\": \"p80_speed_mph\", \"speed\": 6.2, \"rounded_speed\": 6}, {\"_gtfs_dataset_name\": \"Anaheim Resort VehiclePositions\", \"shape_array_key\": \"29d2bbdbeaec1d6888800f85bebf6e33\", \"trip_id\": \"aa6a03fe-f119-44a5-8976-2ad77ceeb89f:5\", \"stop_sequence\": 9, \"gtfs_dataset_key\": \"1051e067d18a76b0a79789f051d5c22b\", \"loop_or_inlining\": 1, \"n_trips\": 8, \"variable\": \"p80_speed_mph\", \"speed\": 6.79, \"rounded_speed\": 6}]}}, {\"mode\": \"vega-lite\"});\n",
       "</script>"
      ],
      "text/plain": [
       "alt.LayerChart(...)"
      ]
     },
     "execution_count": 230,
     "metadata": {},
     "output_type": "execute_result"
    }
   ],
   "source": [
    "chart3 + chart6"
   ]
  },
  {
   "cell_type": "code",
   "execution_count": 216,
   "id": "0e5c052e-cccd-4f75-be65-9658cf7616b1",
   "metadata": {},
   "outputs": [],
   "source": [
    "def create_dot_plot2(df, col_for_dots: str, \n",
    "                    x_axis_col:str, y_axis_col:str,\n",
    "                   tooltip_cols:list, chart_title:str):\n",
    "  \n",
    "    chart = (alt.Chart(df).mark_circle(opacity=1, size = 100).transform_window(\n",
    "    id='rank()',\n",
    "    groupby=[col_for_dots]).encode(\n",
    "    alt.X(f'{x_axis_col}:O', sort='ascending', \n",
    "          axis=alt.Axis(ticks=False, grid=True)),\n",
    "    alt.Y(f'{y_axis_col}:N'), \n",
    "    color=alt.Color(f\"{col_for_dots}:N\", scale=alt.Scale(range=cp.CALITP_CATEGORY_BRIGHT_COLORS), legend=None),\n",
    "    tooltip = tooltip_cols)\n",
    "             .properties(title = chart_title))\n",
    "    \n",
    "    return chart"
   ]
  },
  {
   "cell_type": "code",
   "execution_count": 217,
   "id": "c2c565de-3c55-4827-a5bb-b48c6d49d4c1",
   "metadata": {},
   "outputs": [],
   "source": [
    "chart4 = create_dot_plot2(anaheim_test_speedmph, 'variable', 'stop_sequence', 'rounded_speed', anaheim_test_speedmph.columns.tolist(), 'Speed per Trip')"
   ]
  },
  {
   "cell_type": "code",
   "execution_count": 218,
   "id": "29b3b7b1-8f44-4a8d-97c3-ff934250e874",
   "metadata": {},
   "outputs": [],
   "source": [
    "chart4 = threshold_utils.chart_size(chart4,650,300)"
   ]
  },
  {
   "cell_type": "code",
   "execution_count": 219,
   "id": "54146c88-15df-49e2-9de6-18f2666d9f9f",
   "metadata": {},
   "outputs": [
    {
     "data": {
      "text/html": [
       "\n",
       "<div id=\"altair-viz-93c7e09d5cd64a75a0bae1a278f07789\"></div>\n",
       "<script type=\"text/javascript\">\n",
       "  var VEGA_DEBUG = (typeof VEGA_DEBUG == \"undefined\") ? {} : VEGA_DEBUG;\n",
       "  (function(spec, embedOpt){\n",
       "    let outputDiv = document.currentScript.previousElementSibling;\n",
       "    if (outputDiv.id !== \"altair-viz-93c7e09d5cd64a75a0bae1a278f07789\") {\n",
       "      outputDiv = document.getElementById(\"altair-viz-93c7e09d5cd64a75a0bae1a278f07789\");\n",
       "    }\n",
       "    const paths = {\n",
       "      \"vega\": \"https://cdn.jsdelivr.net/npm//vega@5?noext\",\n",
       "      \"vega-lib\": \"https://cdn.jsdelivr.net/npm//vega-lib?noext\",\n",
       "      \"vega-lite\": \"https://cdn.jsdelivr.net/npm//vega-lite@4.17.0?noext\",\n",
       "      \"vega-embed\": \"https://cdn.jsdelivr.net/npm//vega-embed@6?noext\",\n",
       "    };\n",
       "\n",
       "    function maybeLoadScript(lib, version) {\n",
       "      var key = `${lib.replace(\"-\", \"\")}_version`;\n",
       "      return (VEGA_DEBUG[key] == version) ?\n",
       "        Promise.resolve(paths[lib]) :\n",
       "        new Promise(function(resolve, reject) {\n",
       "          var s = document.createElement('script');\n",
       "          document.getElementsByTagName(\"head\")[0].appendChild(s);\n",
       "          s.async = true;\n",
       "          s.onload = () => {\n",
       "            VEGA_DEBUG[key] = version;\n",
       "            return resolve(paths[lib]);\n",
       "          };\n",
       "          s.onerror = () => reject(`Error loading script: ${paths[lib]}`);\n",
       "          s.src = paths[lib];\n",
       "        });\n",
       "    }\n",
       "\n",
       "    function showError(err) {\n",
       "      outputDiv.innerHTML = `<div class=\"error\" style=\"color:red;\">${err}</div>`;\n",
       "      throw err;\n",
       "    }\n",
       "\n",
       "    function displayChart(vegaEmbed) {\n",
       "      vegaEmbed(outputDiv, spec, embedOpt)\n",
       "        .catch(err => showError(`Javascript Error: ${err.message}<br>This usually means there's a typo in your chart specification. See the javascript console for the full traceback.`));\n",
       "    }\n",
       "\n",
       "    if(typeof define === \"function\" && define.amd) {\n",
       "      requirejs.config({paths});\n",
       "      require([\"vega-embed\"], displayChart, err => showError(`Error loading script: ${err.message}`));\n",
       "    } else {\n",
       "      maybeLoadScript(\"vega\", \"5\")\n",
       "        .then(() => maybeLoadScript(\"vega-lite\", \"4.17.0\"))\n",
       "        .then(() => maybeLoadScript(\"vega-embed\", \"6\"))\n",
       "        .catch(showError)\n",
       "        .then(() => displayChart(vegaEmbed));\n",
       "    }\n",
       "  })({\"config\": {\"view\": {\"continuousWidth\": 400, \"continuousHeight\": 300}}, \"data\": {\"name\": \"data-781272622b392a2af105bf9f8b8cb566\"}, \"mark\": {\"type\": \"circle\", \"opacity\": 1, \"size\": 100}, \"encoding\": {\"color\": {\"field\": \"variable\", \"legend\": null, \"scale\": {\"range\": [\"#2EA8CE\", \"#EB9F3C\", \"#F4D837\", \"#51BF9D\", \"#8CBCCB\", \"#9487C0\"]}, \"type\": \"nominal\"}, \"tooltip\": [{\"field\": \"_gtfs_dataset_name\", \"type\": \"nominal\"}, {\"field\": \"shape_array_key\", \"type\": \"nominal\"}, {\"field\": \"trip_id\", \"type\": \"nominal\"}, {\"field\": \"stop_sequence\", \"type\": \"quantitative\"}, {\"field\": \"gtfs_dataset_key\", \"type\": \"nominal\"}, {\"field\": \"loop_or_inlining\", \"type\": \"quantitative\"}, {\"field\": \"n_trips\", \"type\": \"quantitative\"}, {\"field\": \"variable\", \"type\": \"nominal\"}, {\"field\": \"speed\", \"type\": \"quantitative\"}, {\"field\": \"rounded_speed\", \"type\": \"quantitative\"}], \"x\": {\"axis\": {\"grid\": true, \"ticks\": false}, \"field\": \"stop_sequence\", \"sort\": \"ascending\", \"type\": \"ordinal\"}, \"y\": {\"field\": \"rounded_speed\", \"type\": \"nominal\"}}, \"height\": 300, \"title\": \"Speed per Trip\", \"transform\": [{\"window\": [{\"op\": \"rank\", \"field\": \"\", \"as\": \"id\"}], \"groupby\": [\"variable\"]}], \"width\": 650, \"$schema\": \"https://vega.github.io/schema/vega-lite/v4.17.0.json\", \"datasets\": {\"data-781272622b392a2af105bf9f8b8cb566\": [{\"_gtfs_dataset_name\": \"Anaheim Resort VehiclePositions\", \"shape_array_key\": \"29d2bbdbeaec1d6888800f85bebf6e33\", \"trip_id\": \"aa6a03fe-f119-44a5-8976-2ad77ceeb89f:4\", \"stop_sequence\": 1, \"gtfs_dataset_key\": \"1051e067d18a76b0a79789f051d5c22b\", \"loop_or_inlining\": 1, \"n_trips\": 8, \"variable\": \"speed_mph\", \"speed\": 0.0, \"rounded_speed\": 0}, {\"_gtfs_dataset_name\": \"Anaheim Resort VehiclePositions\", \"shape_array_key\": \"29d2bbdbeaec1d6888800f85bebf6e33\", \"trip_id\": \"aa6a03fe-f119-44a5-8976-2ad77ceeb89f:1\", \"stop_sequence\": 1, \"gtfs_dataset_key\": \"1051e067d18a76b0a79789f051d5c22b\", \"loop_or_inlining\": 1, \"n_trips\": 8, \"variable\": \"speed_mph\", \"speed\": 0.0008325192325460018, \"rounded_speed\": 0}, {\"_gtfs_dataset_name\": \"Anaheim Resort VehiclePositions\", \"shape_array_key\": \"29d2bbdbeaec1d6888800f85bebf6e33\", \"trip_id\": \"aa6a03fe-f119-44a5-8976-2ad77ceeb89f:3\", \"stop_sequence\": 1, \"gtfs_dataset_key\": \"1051e067d18a76b0a79789f051d5c22b\", \"loop_or_inlining\": 1, \"n_trips\": 8, \"variable\": \"speed_mph\", \"speed\": 0.024166183278071445, \"rounded_speed\": 0}, {\"_gtfs_dataset_name\": \"Anaheim Resort VehiclePositions\", \"shape_array_key\": \"29d2bbdbeaec1d6888800f85bebf6e33\", \"trip_id\": \"aa6a03fe-f119-44a5-8976-2ad77ceeb89f:7\", \"stop_sequence\": 1, \"gtfs_dataset_key\": \"1051e067d18a76b0a79789f051d5c22b\", \"loop_or_inlining\": 1, \"n_trips\": 8, \"variable\": \"speed_mph\", \"speed\": 0.004285628561628433, \"rounded_speed\": 0}, {\"_gtfs_dataset_name\": \"Anaheim Resort VehiclePositions\", \"shape_array_key\": \"29d2bbdbeaec1d6888800f85bebf6e33\", \"trip_id\": \"aa6a03fe-f119-44a5-8976-2ad77ceeb89f:4\", \"stop_sequence\": 2, \"gtfs_dataset_key\": \"1051e067d18a76b0a79789f051d5c22b\", \"loop_or_inlining\": 1, \"n_trips\": 8, \"variable\": \"speed_mph\", \"speed\": 9.052623885192912, \"rounded_speed\": 9}, {\"_gtfs_dataset_name\": \"Anaheim Resort VehiclePositions\", \"shape_array_key\": \"29d2bbdbeaec1d6888800f85bebf6e33\", \"trip_id\": \"aa6a03fe-f119-44a5-8976-2ad77ceeb89f:8\", \"stop_sequence\": 2, \"gtfs_dataset_key\": \"1051e067d18a76b0a79789f051d5c22b\", \"loop_or_inlining\": 1, \"n_trips\": 8, \"variable\": \"speed_mph\", \"speed\": 9.572140759512445, \"rounded_speed\": 9}, {\"_gtfs_dataset_name\": \"Anaheim Resort VehiclePositions\", \"shape_array_key\": \"29d2bbdbeaec1d6888800f85bebf6e33\", \"trip_id\": \"aa6a03fe-f119-44a5-8976-2ad77ceeb89f:2\", \"stop_sequence\": 2, \"gtfs_dataset_key\": \"1051e067d18a76b0a79789f051d5c22b\", \"loop_or_inlining\": 1, \"n_trips\": 8, \"variable\": \"speed_mph\", \"speed\": 12.084147088905848, \"rounded_speed\": 12}, {\"_gtfs_dataset_name\": \"Anaheim Resort VehiclePositions\", \"shape_array_key\": \"29d2bbdbeaec1d6888800f85bebf6e33\", \"trip_id\": \"aa6a03fe-f119-44a5-8976-2ad77ceeb89f:7\", \"stop_sequence\": 2, \"gtfs_dataset_key\": \"1051e067d18a76b0a79789f051d5c22b\", \"loop_or_inlining\": 1, \"n_trips\": 8, \"variable\": \"speed_mph\", \"speed\": 7.3172013553677715, \"rounded_speed\": 7}, {\"_gtfs_dataset_name\": \"Anaheim Resort VehiclePositions\", \"shape_array_key\": \"29d2bbdbeaec1d6888800f85bebf6e33\", \"trip_id\": \"aa6a03fe-f119-44a5-8976-2ad77ceeb89f:5\", \"stop_sequence\": 2, \"gtfs_dataset_key\": \"1051e067d18a76b0a79789f051d5c22b\", \"loop_or_inlining\": 1, \"n_trips\": 8, \"variable\": \"speed_mph\", \"speed\": 12.228887731569518, \"rounded_speed\": 12}, {\"_gtfs_dataset_name\": \"Anaheim Resort VehiclePositions\", \"shape_array_key\": \"29d2bbdbeaec1d6888800f85bebf6e33\", \"trip_id\": \"aa6a03fe-f119-44a5-8976-2ad77ceeb89f:1\", \"stop_sequence\": 2, \"gtfs_dataset_key\": \"1051e067d18a76b0a79789f051d5c22b\", \"loop_or_inlining\": 1, \"n_trips\": 8, \"variable\": \"speed_mph\", \"speed\": 1.474625853012174, \"rounded_speed\": 1}, {\"_gtfs_dataset_name\": \"Anaheim Resort VehiclePositions\", \"shape_array_key\": \"29d2bbdbeaec1d6888800f85bebf6e33\", \"trip_id\": \"aa6a03fe-f119-44a5-8976-2ad77ceeb89f:3\", \"stop_sequence\": 2, \"gtfs_dataset_key\": \"1051e067d18a76b0a79789f051d5c22b\", \"loop_or_inlining\": 1, \"n_trips\": 8, \"variable\": \"speed_mph\", \"speed\": 6.665222373845789, \"rounded_speed\": 6}, {\"_gtfs_dataset_name\": \"Anaheim Resort VehiclePositions\", \"shape_array_key\": \"29d2bbdbeaec1d6888800f85bebf6e33\", \"trip_id\": \"aa6a03fe-f119-44a5-8976-2ad77ceeb89f:6\", \"stop_sequence\": 2, \"gtfs_dataset_key\": \"1051e067d18a76b0a79789f051d5c22b\", \"loop_or_inlining\": 1, \"n_trips\": 8, \"variable\": \"speed_mph\", \"speed\": 5.539256926472267, \"rounded_speed\": 5}, {\"_gtfs_dataset_name\": \"Anaheim Resort VehiclePositions\", \"shape_array_key\": \"29d2bbdbeaec1d6888800f85bebf6e33\", \"trip_id\": \"aa6a03fe-f119-44a5-8976-2ad77ceeb89f:8\", \"stop_sequence\": 3, \"gtfs_dataset_key\": \"1051e067d18a76b0a79789f051d5c22b\", \"loop_or_inlining\": 1, \"n_trips\": 8, \"variable\": \"speed_mph\", \"speed\": 4.204004339000222, \"rounded_speed\": 4}, {\"_gtfs_dataset_name\": \"Anaheim Resort VehiclePositions\", \"shape_array_key\": \"29d2bbdbeaec1d6888800f85bebf6e33\", \"trip_id\": \"aa6a03fe-f119-44a5-8976-2ad77ceeb89f:6\", \"stop_sequence\": 3, \"gtfs_dataset_key\": \"1051e067d18a76b0a79789f051d5c22b\", \"loop_or_inlining\": 1, \"n_trips\": 8, \"variable\": \"speed_mph\", \"speed\": 5.45626095061731, \"rounded_speed\": 5}, {\"_gtfs_dataset_name\": \"Anaheim Resort VehiclePositions\", \"shape_array_key\": \"29d2bbdbeaec1d6888800f85bebf6e33\", \"trip_id\": \"aa6a03fe-f119-44a5-8976-2ad77ceeb89f:3\", \"stop_sequence\": 3, \"gtfs_dataset_key\": \"1051e067d18a76b0a79789f051d5c22b\", \"loop_or_inlining\": 1, \"n_trips\": 8, \"variable\": \"speed_mph\", \"speed\": 5.233556422020684, \"rounded_speed\": 5}, {\"_gtfs_dataset_name\": \"Anaheim Resort VehiclePositions\", \"shape_array_key\": \"29d2bbdbeaec1d6888800f85bebf6e33\", \"trip_id\": \"aa6a03fe-f119-44a5-8976-2ad77ceeb89f:7\", \"stop_sequence\": 3, \"gtfs_dataset_key\": \"1051e067d18a76b0a79789f051d5c22b\", \"loop_or_inlining\": 1, \"n_trips\": 8, \"variable\": \"speed_mph\", \"speed\": 3.743711893124285, \"rounded_speed\": 3}, {\"_gtfs_dataset_name\": \"Anaheim Resort VehiclePositions\", \"shape_array_key\": \"29d2bbdbeaec1d6888800f85bebf6e33\", \"trip_id\": \"aa6a03fe-f119-44a5-8976-2ad77ceeb89f:1\", \"stop_sequence\": 3, \"gtfs_dataset_key\": \"1051e067d18a76b0a79789f051d5c22b\", \"loop_or_inlining\": 1, \"n_trips\": 8, \"variable\": \"speed_mph\", \"speed\": 3.7712391864560812, \"rounded_speed\": 3}, {\"_gtfs_dataset_name\": \"Anaheim Resort VehiclePositions\", \"shape_array_key\": \"29d2bbdbeaec1d6888800f85bebf6e33\", \"trip_id\": \"aa6a03fe-f119-44a5-8976-2ad77ceeb89f:5\", \"stop_sequence\": 3, \"gtfs_dataset_key\": \"1051e067d18a76b0a79789f051d5c22b\", \"loop_or_inlining\": 1, \"n_trips\": 8, \"variable\": \"speed_mph\", \"speed\": 3.71658354607266, \"rounded_speed\": 3}, {\"_gtfs_dataset_name\": \"Anaheim Resort VehiclePositions\", \"shape_array_key\": \"29d2bbdbeaec1d6888800f85bebf6e33\", \"trip_id\": \"aa6a03fe-f119-44a5-8976-2ad77ceeb89f:4\", \"stop_sequence\": 3, \"gtfs_dataset_key\": \"1051e067d18a76b0a79789f051d5c22b\", \"loop_or_inlining\": 1, \"n_trips\": 8, \"variable\": \"speed_mph\", \"speed\": 4.030582374619538, \"rounded_speed\": 4}, {\"_gtfs_dataset_name\": \"Anaheim Resort VehiclePositions\", \"shape_array_key\": \"29d2bbdbeaec1d6888800f85bebf6e33\", \"trip_id\": \"aa6a03fe-f119-44a5-8976-2ad77ceeb89f:2\", \"stop_sequence\": 3, \"gtfs_dataset_key\": \"1051e067d18a76b0a79789f051d5c22b\", \"loop_or_inlining\": 1, \"n_trips\": 8, \"variable\": \"speed_mph\", \"speed\": 3.5371622714346693, \"rounded_speed\": 3}, {\"_gtfs_dataset_name\": \"Anaheim Resort VehiclePositions\", \"shape_array_key\": \"29d2bbdbeaec1d6888800f85bebf6e33\", \"trip_id\": \"aa6a03fe-f119-44a5-8976-2ad77ceeb89f:3\", \"stop_sequence\": 4, \"gtfs_dataset_key\": \"1051e067d18a76b0a79789f051d5c22b\", \"loop_or_inlining\": 1, \"n_trips\": 8, \"variable\": \"speed_mph\", \"speed\": 5.502321180654386, \"rounded_speed\": 5}, {\"_gtfs_dataset_name\": \"Anaheim Resort VehiclePositions\", \"shape_array_key\": \"29d2bbdbeaec1d6888800f85bebf6e33\", \"trip_id\": \"aa6a03fe-f119-44a5-8976-2ad77ceeb89f:2\", \"stop_sequence\": 4, \"gtfs_dataset_key\": \"1051e067d18a76b0a79789f051d5c22b\", \"loop_or_inlining\": 1, \"n_trips\": 8, \"variable\": \"speed_mph\", \"speed\": 4.743380328150332, \"rounded_speed\": 4}, {\"_gtfs_dataset_name\": \"Anaheim Resort VehiclePositions\", \"shape_array_key\": \"29d2bbdbeaec1d6888800f85bebf6e33\", \"trip_id\": \"aa6a03fe-f119-44a5-8976-2ad77ceeb89f:5\", \"stop_sequence\": 4, \"gtfs_dataset_key\": \"1051e067d18a76b0a79789f051d5c22b\", \"loop_or_inlining\": 1, \"n_trips\": 8, \"variable\": \"speed_mph\", \"speed\": 2.6851940872424147, \"rounded_speed\": 2}, {\"_gtfs_dataset_name\": \"Anaheim Resort VehiclePositions\", \"shape_array_key\": \"29d2bbdbeaec1d6888800f85bebf6e33\", \"trip_id\": \"aa6a03fe-f119-44a5-8976-2ad77ceeb89f:4\", \"stop_sequence\": 4, \"gtfs_dataset_key\": \"1051e067d18a76b0a79789f051d5c22b\", \"loop_or_inlining\": 1, \"n_trips\": 8, \"variable\": \"speed_mph\", \"speed\": 1.9037205615476676, \"rounded_speed\": 1}, {\"_gtfs_dataset_name\": \"Anaheim Resort VehiclePositions\", \"shape_array_key\": \"29d2bbdbeaec1d6888800f85bebf6e33\", \"trip_id\": \"aa6a03fe-f119-44a5-8976-2ad77ceeb89f:1\", \"stop_sequence\": 4, \"gtfs_dataset_key\": \"1051e067d18a76b0a79789f051d5c22b\", \"loop_or_inlining\": 1, \"n_trips\": 8, \"variable\": \"speed_mph\", \"speed\": 8.874711581700621, \"rounded_speed\": 8}, {\"_gtfs_dataset_name\": \"Anaheim Resort VehiclePositions\", \"shape_array_key\": \"29d2bbdbeaec1d6888800f85bebf6e33\", \"trip_id\": \"aa6a03fe-f119-44a5-8976-2ad77ceeb89f:6\", \"stop_sequence\": 4, \"gtfs_dataset_key\": \"1051e067d18a76b0a79789f051d5c22b\", \"loop_or_inlining\": 1, \"n_trips\": 8, \"variable\": \"speed_mph\", \"speed\": 3.9698284168936024, \"rounded_speed\": 3}, {\"_gtfs_dataset_name\": \"Anaheim Resort VehiclePositions\", \"shape_array_key\": \"29d2bbdbeaec1d6888800f85bebf6e33\", \"trip_id\": \"aa6a03fe-f119-44a5-8976-2ad77ceeb89f:7\", \"stop_sequence\": 4, \"gtfs_dataset_key\": \"1051e067d18a76b0a79789f051d5c22b\", \"loop_or_inlining\": 1, \"n_trips\": 8, \"variable\": \"speed_mph\", \"speed\": 5.037482591588582, \"rounded_speed\": 5}, {\"_gtfs_dataset_name\": \"Anaheim Resort VehiclePositions\", \"shape_array_key\": \"29d2bbdbeaec1d6888800f85bebf6e33\", \"trip_id\": \"aa6a03fe-f119-44a5-8976-2ad77ceeb89f:8\", \"stop_sequence\": 4, \"gtfs_dataset_key\": \"1051e067d18a76b0a79789f051d5c22b\", \"loop_or_inlining\": 1, \"n_trips\": 8, \"variable\": \"speed_mph\", \"speed\": 5.791917032267774, \"rounded_speed\": 5}, {\"_gtfs_dataset_name\": \"Anaheim Resort VehiclePositions\", \"shape_array_key\": \"29d2bbdbeaec1d6888800f85bebf6e33\", \"trip_id\": \"aa6a03fe-f119-44a5-8976-2ad77ceeb89f:5\", \"stop_sequence\": 5, \"gtfs_dataset_key\": \"1051e067d18a76b0a79789f051d5c22b\", \"loop_or_inlining\": 1, \"n_trips\": 8, \"variable\": \"speed_mph\", \"speed\": 0.4003327895449103, \"rounded_speed\": 0}, {\"_gtfs_dataset_name\": \"Anaheim Resort VehiclePositions\", \"shape_array_key\": \"29d2bbdbeaec1d6888800f85bebf6e33\", \"trip_id\": \"aa6a03fe-f119-44a5-8976-2ad77ceeb89f:1\", \"stop_sequence\": 5, \"gtfs_dataset_key\": \"1051e067d18a76b0a79789f051d5c22b\", \"loop_or_inlining\": 1, \"n_trips\": 8, \"variable\": \"speed_mph\", \"speed\": 0.3649171881347712, \"rounded_speed\": 0}, {\"_gtfs_dataset_name\": \"Anaheim Resort VehiclePositions\", \"shape_array_key\": \"29d2bbdbeaec1d6888800f85bebf6e33\", \"trip_id\": \"aa6a03fe-f119-44a5-8976-2ad77ceeb89f:6\", \"stop_sequence\": 5, \"gtfs_dataset_key\": \"1051e067d18a76b0a79789f051d5c22b\", \"loop_or_inlining\": 1, \"n_trips\": 8, \"variable\": \"speed_mph\", \"speed\": 0.9530712497677587, \"rounded_speed\": 0}, {\"_gtfs_dataset_name\": \"Anaheim Resort VehiclePositions\", \"shape_array_key\": \"29d2bbdbeaec1d6888800f85bebf6e33\", \"trip_id\": \"aa6a03fe-f119-44a5-8976-2ad77ceeb89f:2\", \"stop_sequence\": 5, \"gtfs_dataset_key\": \"1051e067d18a76b0a79789f051d5c22b\", \"loop_or_inlining\": 1, \"n_trips\": 8, \"variable\": \"speed_mph\", \"speed\": 0.9438630959548601, \"rounded_speed\": 0}, {\"_gtfs_dataset_name\": \"Anaheim Resort VehiclePositions\", \"shape_array_key\": \"29d2bbdbeaec1d6888800f85bebf6e33\", \"trip_id\": \"aa6a03fe-f119-44a5-8976-2ad77ceeb89f:4\", \"stop_sequence\": 5, \"gtfs_dataset_key\": \"1051e067d18a76b0a79789f051d5c22b\", \"loop_or_inlining\": 1, \"n_trips\": 8, \"variable\": \"speed_mph\", \"speed\": 0.7386749715210611, \"rounded_speed\": 0}, {\"_gtfs_dataset_name\": \"Anaheim Resort VehiclePositions\", \"shape_array_key\": \"29d2bbdbeaec1d6888800f85bebf6e33\", \"trip_id\": \"aa6a03fe-f119-44a5-8976-2ad77ceeb89f:7\", \"stop_sequence\": 5, \"gtfs_dataset_key\": \"1051e067d18a76b0a79789f051d5c22b\", \"loop_or_inlining\": 1, \"n_trips\": 8, \"variable\": \"speed_mph\", \"speed\": 0.858355583120451, \"rounded_speed\": 0}, {\"_gtfs_dataset_name\": \"Anaheim Resort VehiclePositions\", \"shape_array_key\": \"29d2bbdbeaec1d6888800f85bebf6e33\", \"trip_id\": \"aa6a03fe-f119-44a5-8976-2ad77ceeb89f:8\", \"stop_sequence\": 5, \"gtfs_dataset_key\": \"1051e067d18a76b0a79789f051d5c22b\", \"loop_or_inlining\": 1, \"n_trips\": 8, \"variable\": \"speed_mph\", \"speed\": 0.030505310606709555, \"rounded_speed\": 0}, {\"_gtfs_dataset_name\": \"Anaheim Resort VehiclePositions\", \"shape_array_key\": \"29d2bbdbeaec1d6888800f85bebf6e33\", \"trip_id\": \"aa6a03fe-f119-44a5-8976-2ad77ceeb89f:3\", \"stop_sequence\": 5, \"gtfs_dataset_key\": \"1051e067d18a76b0a79789f051d5c22b\", \"loop_or_inlining\": 1, \"n_trips\": 8, \"variable\": \"speed_mph\", \"speed\": 0.6211284606682089, \"rounded_speed\": 0}, {\"_gtfs_dataset_name\": \"Anaheim Resort VehiclePositions\", \"shape_array_key\": \"29d2bbdbeaec1d6888800f85bebf6e33\", \"trip_id\": \"aa6a03fe-f119-44a5-8976-2ad77ceeb89f:1\", \"stop_sequence\": 6, \"gtfs_dataset_key\": \"1051e067d18a76b0a79789f051d5c22b\", \"loop_or_inlining\": 1, \"n_trips\": 8, \"variable\": \"speed_mph\", \"speed\": 3.1778058596745042, \"rounded_speed\": 3}, {\"_gtfs_dataset_name\": \"Anaheim Resort VehiclePositions\", \"shape_array_key\": \"29d2bbdbeaec1d6888800f85bebf6e33\", \"trip_id\": \"aa6a03fe-f119-44a5-8976-2ad77ceeb89f:7\", \"stop_sequence\": 6, \"gtfs_dataset_key\": \"1051e067d18a76b0a79789f051d5c22b\", \"loop_or_inlining\": 1, \"n_trips\": 8, \"variable\": \"speed_mph\", \"speed\": 3.115495940857357, \"rounded_speed\": 3}, {\"_gtfs_dataset_name\": \"Anaheim Resort VehiclePositions\", \"shape_array_key\": \"29d2bbdbeaec1d6888800f85bebf6e33\", \"trip_id\": \"aa6a03fe-f119-44a5-8976-2ad77ceeb89f:5\", \"stop_sequence\": 6, \"gtfs_dataset_key\": \"1051e067d18a76b0a79789f051d5c22b\", \"loop_or_inlining\": 1, \"n_trips\": 8, \"variable\": \"speed_mph\", \"speed\": 3.0713753901508745, \"rounded_speed\": 3}, {\"_gtfs_dataset_name\": \"Anaheim Resort VehiclePositions\", \"shape_array_key\": \"29d2bbdbeaec1d6888800f85bebf6e33\", \"trip_id\": \"aa6a03fe-f119-44a5-8976-2ad77ceeb89f:8\", \"stop_sequence\": 6, \"gtfs_dataset_key\": \"1051e067d18a76b0a79789f051d5c22b\", \"loop_or_inlining\": 1, \"n_trips\": 8, \"variable\": \"speed_mph\", \"speed\": 1.6049524543810627, \"rounded_speed\": 1}, {\"_gtfs_dataset_name\": \"Anaheim Resort VehiclePositions\", \"shape_array_key\": \"29d2bbdbeaec1d6888800f85bebf6e33\", \"trip_id\": \"aa6a03fe-f119-44a5-8976-2ad77ceeb89f:4\", \"stop_sequence\": 6, \"gtfs_dataset_key\": \"1051e067d18a76b0a79789f051d5c22b\", \"loop_or_inlining\": 1, \"n_trips\": 8, \"variable\": \"speed_mph\", \"speed\": 0.0, \"rounded_speed\": 0}, {\"_gtfs_dataset_name\": \"Anaheim Resort VehiclePositions\", \"shape_array_key\": \"29d2bbdbeaec1d6888800f85bebf6e33\", \"trip_id\": \"aa6a03fe-f119-44a5-8976-2ad77ceeb89f:6\", \"stop_sequence\": 6, \"gtfs_dataset_key\": \"1051e067d18a76b0a79789f051d5c22b\", \"loop_or_inlining\": 1, \"n_trips\": 8, \"variable\": \"speed_mph\", \"speed\": 3.4755251261789124, \"rounded_speed\": 3}, {\"_gtfs_dataset_name\": \"Anaheim Resort VehiclePositions\", \"shape_array_key\": \"29d2bbdbeaec1d6888800f85bebf6e33\", \"trip_id\": \"aa6a03fe-f119-44a5-8976-2ad77ceeb89f:3\", \"stop_sequence\": 6, \"gtfs_dataset_key\": \"1051e067d18a76b0a79789f051d5c22b\", \"loop_or_inlining\": 1, \"n_trips\": 8, \"variable\": \"speed_mph\", \"speed\": 5.165479973825983, \"rounded_speed\": 5}, {\"_gtfs_dataset_name\": \"Anaheim Resort VehiclePositions\", \"shape_array_key\": \"29d2bbdbeaec1d6888800f85bebf6e33\", \"trip_id\": \"aa6a03fe-f119-44a5-8976-2ad77ceeb89f:2\", \"stop_sequence\": 6, \"gtfs_dataset_key\": \"1051e067d18a76b0a79789f051d5c22b\", \"loop_or_inlining\": 1, \"n_trips\": 8, \"variable\": \"speed_mph\", \"speed\": 0.10638895159918775, \"rounded_speed\": 0}, {\"_gtfs_dataset_name\": \"Anaheim Resort VehiclePositions\", \"shape_array_key\": \"29d2bbdbeaec1d6888800f85bebf6e33\", \"trip_id\": \"aa6a03fe-f119-44a5-8976-2ad77ceeb89f:4\", \"stop_sequence\": 7, \"gtfs_dataset_key\": \"1051e067d18a76b0a79789f051d5c22b\", \"loop_or_inlining\": 1, \"n_trips\": 8, \"variable\": \"speed_mph\", \"speed\": 3.7270936120609353, \"rounded_speed\": 3}, {\"_gtfs_dataset_name\": \"Anaheim Resort VehiclePositions\", \"shape_array_key\": \"29d2bbdbeaec1d6888800f85bebf6e33\", \"trip_id\": \"aa6a03fe-f119-44a5-8976-2ad77ceeb89f:2\", \"stop_sequence\": 7, \"gtfs_dataset_key\": \"1051e067d18a76b0a79789f051d5c22b\", \"loop_or_inlining\": 1, \"n_trips\": 8, \"variable\": \"speed_mph\", \"speed\": 4.198388039106803, \"rounded_speed\": 4}, {\"_gtfs_dataset_name\": \"Anaheim Resort VehiclePositions\", \"shape_array_key\": \"29d2bbdbeaec1d6888800f85bebf6e33\", \"trip_id\": \"aa6a03fe-f119-44a5-8976-2ad77ceeb89f:7\", \"stop_sequence\": 7, \"gtfs_dataset_key\": \"1051e067d18a76b0a79789f051d5c22b\", \"loop_or_inlining\": 1, \"n_trips\": 8, \"variable\": \"speed_mph\", \"speed\": 4.398551656884758, \"rounded_speed\": 4}, {\"_gtfs_dataset_name\": \"Anaheim Resort VehiclePositions\", \"shape_array_key\": \"29d2bbdbeaec1d6888800f85bebf6e33\", \"trip_id\": \"aa6a03fe-f119-44a5-8976-2ad77ceeb89f:5\", \"stop_sequence\": 7, \"gtfs_dataset_key\": \"1051e067d18a76b0a79789f051d5c22b\", \"loop_or_inlining\": 1, \"n_trips\": 8, \"variable\": \"speed_mph\", \"speed\": 1.5965853186573182, \"rounded_speed\": 1}, {\"_gtfs_dataset_name\": \"Anaheim Resort VehiclePositions\", \"shape_array_key\": \"29d2bbdbeaec1d6888800f85bebf6e33\", \"trip_id\": \"aa6a03fe-f119-44a5-8976-2ad77ceeb89f:8\", \"stop_sequence\": 7, \"gtfs_dataset_key\": \"1051e067d18a76b0a79789f051d5c22b\", \"loop_or_inlining\": 1, \"n_trips\": 8, \"variable\": \"speed_mph\", \"speed\": 4.382712794175961, \"rounded_speed\": 4}, {\"_gtfs_dataset_name\": \"Anaheim Resort VehiclePositions\", \"shape_array_key\": \"29d2bbdbeaec1d6888800f85bebf6e33\", \"trip_id\": \"aa6a03fe-f119-44a5-8976-2ad77ceeb89f:1\", \"stop_sequence\": 7, \"gtfs_dataset_key\": \"1051e067d18a76b0a79789f051d5c22b\", \"loop_or_inlining\": 1, \"n_trips\": 8, \"variable\": \"speed_mph\", \"speed\": 5.728926171239877, \"rounded_speed\": 5}, {\"_gtfs_dataset_name\": \"Anaheim Resort VehiclePositions\", \"shape_array_key\": \"29d2bbdbeaec1d6888800f85bebf6e33\", \"trip_id\": \"aa6a03fe-f119-44a5-8976-2ad77ceeb89f:6\", \"stop_sequence\": 7, \"gtfs_dataset_key\": \"1051e067d18a76b0a79789f051d5c22b\", \"loop_or_inlining\": 1, \"n_trips\": 8, \"variable\": \"speed_mph\", \"speed\": 3.8511807031171434, \"rounded_speed\": 3}, {\"_gtfs_dataset_name\": \"Anaheim Resort VehiclePositions\", \"shape_array_key\": \"29d2bbdbeaec1d6888800f85bebf6e33\", \"trip_id\": \"aa6a03fe-f119-44a5-8976-2ad77ceeb89f:3\", \"stop_sequence\": 7, \"gtfs_dataset_key\": \"1051e067d18a76b0a79789f051d5c22b\", \"loop_or_inlining\": 1, \"n_trips\": 8, \"variable\": \"speed_mph\", \"speed\": 2.665992305539968, \"rounded_speed\": 2}, {\"_gtfs_dataset_name\": \"Anaheim Resort VehiclePositions\", \"shape_array_key\": \"29d2bbdbeaec1d6888800f85bebf6e33\", \"trip_id\": \"aa6a03fe-f119-44a5-8976-2ad77ceeb89f:5\", \"stop_sequence\": 8, \"gtfs_dataset_key\": \"1051e067d18a76b0a79789f051d5c22b\", \"loop_or_inlining\": 1, \"n_trips\": 8, \"variable\": \"speed_mph\", \"speed\": 3.3531660450484737, \"rounded_speed\": 3}, {\"_gtfs_dataset_name\": \"Anaheim Resort VehiclePositions\", \"shape_array_key\": \"29d2bbdbeaec1d6888800f85bebf6e33\", \"trip_id\": \"aa6a03fe-f119-44a5-8976-2ad77ceeb89f:7\", \"stop_sequence\": 8, \"gtfs_dataset_key\": \"1051e067d18a76b0a79789f051d5c22b\", \"loop_or_inlining\": 1, \"n_trips\": 8, \"variable\": \"speed_mph\", \"speed\": 4.7153897508494165, \"rounded_speed\": 4}, {\"_gtfs_dataset_name\": \"Anaheim Resort VehiclePositions\", \"shape_array_key\": \"29d2bbdbeaec1d6888800f85bebf6e33\", \"trip_id\": \"aa6a03fe-f119-44a5-8976-2ad77ceeb89f:4\", \"stop_sequence\": 8, \"gtfs_dataset_key\": \"1051e067d18a76b0a79789f051d5c22b\", \"loop_or_inlining\": 1, \"n_trips\": 8, \"variable\": \"speed_mph\", \"speed\": 7.496716773745876, \"rounded_speed\": 7}, {\"_gtfs_dataset_name\": \"Anaheim Resort VehiclePositions\", \"shape_array_key\": \"29d2bbdbeaec1d6888800f85bebf6e33\", \"trip_id\": \"aa6a03fe-f119-44a5-8976-2ad77ceeb89f:1\", \"stop_sequence\": 8, \"gtfs_dataset_key\": \"1051e067d18a76b0a79789f051d5c22b\", \"loop_or_inlining\": 1, \"n_trips\": 8, \"variable\": \"speed_mph\", \"speed\": 7.196793712874587, \"rounded_speed\": 7}, {\"_gtfs_dataset_name\": \"Anaheim Resort VehiclePositions\", \"shape_array_key\": \"29d2bbdbeaec1d6888800f85bebf6e33\", \"trip_id\": \"aa6a03fe-f119-44a5-8976-2ad77ceeb89f:6\", \"stop_sequence\": 8, \"gtfs_dataset_key\": \"1051e067d18a76b0a79789f051d5c22b\", \"loop_or_inlining\": 1, \"n_trips\": 8, \"variable\": \"speed_mph\", \"speed\": 4.5885013672940875, \"rounded_speed\": 4}, {\"_gtfs_dataset_name\": \"Anaheim Resort VehiclePositions\", \"shape_array_key\": \"29d2bbdbeaec1d6888800f85bebf6e33\", \"trip_id\": \"aa6a03fe-f119-44a5-8976-2ad77ceeb89f:2\", \"stop_sequence\": 8, \"gtfs_dataset_key\": \"1051e067d18a76b0a79789f051d5c22b\", \"loop_or_inlining\": 1, \"n_trips\": 8, \"variable\": \"speed_mph\", \"speed\": 3.9708545270310878, \"rounded_speed\": 3}, {\"_gtfs_dataset_name\": \"Anaheim Resort VehiclePositions\", \"shape_array_key\": \"29d2bbdbeaec1d6888800f85bebf6e33\", \"trip_id\": \"aa6a03fe-f119-44a5-8976-2ad77ceeb89f:3\", \"stop_sequence\": 8, \"gtfs_dataset_key\": \"1051e067d18a76b0a79789f051d5c22b\", \"loop_or_inlining\": 1, \"n_trips\": 8, \"variable\": \"speed_mph\", \"speed\": 4.619157306954531, \"rounded_speed\": 4}, {\"_gtfs_dataset_name\": \"Anaheim Resort VehiclePositions\", \"shape_array_key\": \"29d2bbdbeaec1d6888800f85bebf6e33\", \"trip_id\": \"aa6a03fe-f119-44a5-8976-2ad77ceeb89f:5\", \"stop_sequence\": 9, \"gtfs_dataset_key\": \"1051e067d18a76b0a79789f051d5c22b\", \"loop_or_inlining\": 1, \"n_trips\": 8, \"variable\": \"speed_mph\", \"speed\": 2.493484490013982, \"rounded_speed\": 2}, {\"_gtfs_dataset_name\": \"Anaheim Resort VehiclePositions\", \"shape_array_key\": \"29d2bbdbeaec1d6888800f85bebf6e33\", \"trip_id\": \"aa6a03fe-f119-44a5-8976-2ad77ceeb89f:2\", \"stop_sequence\": 9, \"gtfs_dataset_key\": \"1051e067d18a76b0a79789f051d5c22b\", \"loop_or_inlining\": 1, \"n_trips\": 8, \"variable\": \"speed_mph\", \"speed\": 2.8256576669091813, \"rounded_speed\": 2}, {\"_gtfs_dataset_name\": \"Anaheim Resort VehiclePositions\", \"shape_array_key\": \"29d2bbdbeaec1d6888800f85bebf6e33\", \"trip_id\": \"aa6a03fe-f119-44a5-8976-2ad77ceeb89f:3\", \"stop_sequence\": 9, \"gtfs_dataset_key\": \"1051e067d18a76b0a79789f051d5c22b\", \"loop_or_inlining\": 1, \"n_trips\": 8, \"variable\": \"speed_mph\", \"speed\": 5.097026478490071, \"rounded_speed\": 5}, {\"_gtfs_dataset_name\": \"Anaheim Resort VehiclePositions\", \"shape_array_key\": \"29d2bbdbeaec1d6888800f85bebf6e33\", \"trip_id\": \"aa6a03fe-f119-44a5-8976-2ad77ceeb89f:7\", \"stop_sequence\": 9, \"gtfs_dataset_key\": \"1051e067d18a76b0a79789f051d5c22b\", \"loop_or_inlining\": 1, \"n_trips\": 8, \"variable\": \"speed_mph\", \"speed\": 6.445079680812759, \"rounded_speed\": 6}, {\"_gtfs_dataset_name\": \"Anaheim Resort VehiclePositions\", \"shape_array_key\": \"29d2bbdbeaec1d6888800f85bebf6e33\", \"trip_id\": \"aa6a03fe-f119-44a5-8976-2ad77ceeb89f:8\", \"stop_sequence\": 9, \"gtfs_dataset_key\": \"1051e067d18a76b0a79789f051d5c22b\", \"loop_or_inlining\": 1, \"n_trips\": 8, \"variable\": \"speed_mph\", \"speed\": 7.1546699425272715, \"rounded_speed\": 7}, {\"_gtfs_dataset_name\": \"Anaheim Resort VehiclePositions\", \"shape_array_key\": \"29d2bbdbeaec1d6888800f85bebf6e33\", \"trip_id\": \"aa6a03fe-f119-44a5-8976-2ad77ceeb89f:1\", \"stop_sequence\": 9, \"gtfs_dataset_key\": \"1051e067d18a76b0a79789f051d5c22b\", \"loop_or_inlining\": 1, \"n_trips\": 8, \"variable\": \"speed_mph\", \"speed\": 7.02608980528985, \"rounded_speed\": 7}, {\"_gtfs_dataset_name\": \"Anaheim Resort VehiclePositions\", \"shape_array_key\": \"29d2bbdbeaec1d6888800f85bebf6e33\", \"trip_id\": \"aa6a03fe-f119-44a5-8976-2ad77ceeb89f:6\", \"stop_sequence\": 9, \"gtfs_dataset_key\": \"1051e067d18a76b0a79789f051d5c22b\", \"loop_or_inlining\": 1, \"n_trips\": 8, \"variable\": \"speed_mph\", \"speed\": 5.383246629950887, \"rounded_speed\": 5}, {\"_gtfs_dataset_name\": \"Anaheim Resort VehiclePositions\", \"shape_array_key\": \"29d2bbdbeaec1d6888800f85bebf6e33\", \"trip_id\": \"aa6a03fe-f119-44a5-8976-2ad77ceeb89f:4\", \"stop_sequence\": 9, \"gtfs_dataset_key\": \"1051e067d18a76b0a79789f051d5c22b\", \"loop_or_inlining\": 1, \"n_trips\": 8, \"variable\": \"speed_mph\", \"speed\": 3.2376216720996656, \"rounded_speed\": 3}]}}, {\"mode\": \"vega-lite\"});\n",
       "</script>"
      ],
      "text/plain": [
       "alt.Chart(...)"
      ]
     },
     "execution_count": 219,
     "metadata": {},
     "output_type": "execute_result"
    }
   ],
   "source": [
    "chart4"
   ]
  },
  {
   "cell_type": "code",
   "execution_count": 220,
   "id": "2b6df39b-b074-494d-8f5e-65fe05356f4b",
   "metadata": {},
   "outputs": [
    {
     "data": {
      "text/html": [
       "\n",
       "<div id=\"altair-viz-519cd5b59cf541ef999b494b25129568\"></div>\n",
       "<script type=\"text/javascript\">\n",
       "  var VEGA_DEBUG = (typeof VEGA_DEBUG == \"undefined\") ? {} : VEGA_DEBUG;\n",
       "  (function(spec, embedOpt){\n",
       "    let outputDiv = document.currentScript.previousElementSibling;\n",
       "    if (outputDiv.id !== \"altair-viz-519cd5b59cf541ef999b494b25129568\") {\n",
       "      outputDiv = document.getElementById(\"altair-viz-519cd5b59cf541ef999b494b25129568\");\n",
       "    }\n",
       "    const paths = {\n",
       "      \"vega\": \"https://cdn.jsdelivr.net/npm//vega@5?noext\",\n",
       "      \"vega-lib\": \"https://cdn.jsdelivr.net/npm//vega-lib?noext\",\n",
       "      \"vega-lite\": \"https://cdn.jsdelivr.net/npm//vega-lite@4.17.0?noext\",\n",
       "      \"vega-embed\": \"https://cdn.jsdelivr.net/npm//vega-embed@6?noext\",\n",
       "    };\n",
       "\n",
       "    function maybeLoadScript(lib, version) {\n",
       "      var key = `${lib.replace(\"-\", \"\")}_version`;\n",
       "      return (VEGA_DEBUG[key] == version) ?\n",
       "        Promise.resolve(paths[lib]) :\n",
       "        new Promise(function(resolve, reject) {\n",
       "          var s = document.createElement('script');\n",
       "          document.getElementsByTagName(\"head\")[0].appendChild(s);\n",
       "          s.async = true;\n",
       "          s.onload = () => {\n",
       "            VEGA_DEBUG[key] = version;\n",
       "            return resolve(paths[lib]);\n",
       "          };\n",
       "          s.onerror = () => reject(`Error loading script: ${paths[lib]}`);\n",
       "          s.src = paths[lib];\n",
       "        });\n",
       "    }\n",
       "\n",
       "    function showError(err) {\n",
       "      outputDiv.innerHTML = `<div class=\"error\" style=\"color:red;\">${err}</div>`;\n",
       "      throw err;\n",
       "    }\n",
       "\n",
       "    function displayChart(vegaEmbed) {\n",
       "      vegaEmbed(outputDiv, spec, embedOpt)\n",
       "        .catch(err => showError(`Javascript Error: ${err.message}<br>This usually means there's a typo in your chart specification. See the javascript console for the full traceback.`));\n",
       "    }\n",
       "\n",
       "    if(typeof define === \"function\" && define.amd) {\n",
       "      requirejs.config({paths});\n",
       "      require([\"vega-embed\"], displayChart, err => showError(`Error loading script: ${err.message}`));\n",
       "    } else {\n",
       "      maybeLoadScript(\"vega\", \"5\")\n",
       "        .then(() => maybeLoadScript(\"vega-lite\", \"4.17.0\"))\n",
       "        .then(() => maybeLoadScript(\"vega-embed\", \"6\"))\n",
       "        .catch(showError)\n",
       "        .then(() => displayChart(vegaEmbed));\n",
       "    }\n",
       "  })({\"config\": {\"view\": {\"continuousWidth\": 400, \"continuousHeight\": 300}}, \"data\": {\"name\": \"data-eb4053f4c5ff11acdfc5792dffcd6484\"}, \"mark\": {\"type\": \"circle\", \"opacity\": 1, \"size\": 400}, \"encoding\": {\"color\": {\"field\": \"variable\", \"legend\": null, \"scale\": {\"range\": [\"#2EA8CE\", \"#EB9F3C\", \"#F4D837\", \"#51BF9D\", \"#8CBCCB\", \"#9487C0\"]}, \"type\": \"nominal\"}, \"tooltip\": [{\"field\": \"_gtfs_dataset_name\", \"type\": \"nominal\"}, {\"field\": \"shape_array_key\", \"type\": \"nominal\"}, {\"field\": \"trip_id\", \"type\": \"nominal\"}, {\"field\": \"stop_sequence\", \"type\": \"quantitative\"}, {\"field\": \"gtfs_dataset_key\", \"type\": \"nominal\"}, {\"field\": \"loop_or_inlining\", \"type\": \"quantitative\"}, {\"field\": \"n_trips\", \"type\": \"quantitative\"}, {\"field\": \"variable\", \"type\": \"nominal\"}, {\"field\": \"speed\", \"type\": \"quantitative\"}, {\"field\": \"rounded_speed\", \"type\": \"quantitative\"}], \"x\": {\"axis\": {\"grid\": true, \"ticks\": false}, \"field\": \"stop_sequence\", \"sort\": \"ascending\", \"type\": \"ordinal\"}, \"y\": {\"field\": \"rounded_speed\", \"type\": \"nominal\"}}, \"height\": 300, \"title\": \"Percentile/Average\", \"transform\": [{\"window\": [{\"op\": \"rank\", \"field\": \"\", \"as\": \"id\"}], \"groupby\": [\"variable\"]}], \"width\": 650, \"$schema\": \"https://vega.github.io/schema/vega-lite/v4.17.0.json\", \"datasets\": {\"data-eb4053f4c5ff11acdfc5792dffcd6484\": [{\"_gtfs_dataset_name\": \"Anaheim Resort VehiclePositions\", \"shape_array_key\": \"29d2bbdbeaec1d6888800f85bebf6e33\", \"trip_id\": \"aa6a03fe-f119-44a5-8976-2ad77ceeb89f:4\", \"stop_sequence\": 1, \"gtfs_dataset_key\": \"1051e067d18a76b0a79789f051d5c22b\", \"loop_or_inlining\": 1, \"n_trips\": 8, \"variable\": \"avg_speed_mph\", \"speed\": 0.0, \"rounded_speed\": 0}, {\"_gtfs_dataset_name\": \"Anaheim Resort VehiclePositions\", \"shape_array_key\": \"29d2bbdbeaec1d6888800f85bebf6e33\", \"trip_id\": \"aa6a03fe-f119-44a5-8976-2ad77ceeb89f:4\", \"stop_sequence\": 2, \"gtfs_dataset_key\": \"1051e067d18a76b0a79789f051d5c22b\", \"loop_or_inlining\": 1, \"n_trips\": 8, \"variable\": \"avg_speed_mph\", \"speed\": 7.99, \"rounded_speed\": 7}, {\"_gtfs_dataset_name\": \"Anaheim Resort VehiclePositions\", \"shape_array_key\": \"29d2bbdbeaec1d6888800f85bebf6e33\", \"trip_id\": \"aa6a03fe-f119-44a5-8976-2ad77ceeb89f:8\", \"stop_sequence\": 3, \"gtfs_dataset_key\": \"1051e067d18a76b0a79789f051d5c22b\", \"loop_or_inlining\": 1, \"n_trips\": 8, \"variable\": \"avg_speed_mph\", \"speed\": 4.21, \"rounded_speed\": 4}, {\"_gtfs_dataset_name\": \"Anaheim Resort VehiclePositions\", \"shape_array_key\": \"29d2bbdbeaec1d6888800f85bebf6e33\", \"trip_id\": \"aa6a03fe-f119-44a5-8976-2ad77ceeb89f:3\", \"stop_sequence\": 4, \"gtfs_dataset_key\": \"1051e067d18a76b0a79789f051d5c22b\", \"loop_or_inlining\": 1, \"n_trips\": 8, \"variable\": \"avg_speed_mph\", \"speed\": 4.81, \"rounded_speed\": 4}, {\"_gtfs_dataset_name\": \"Anaheim Resort VehiclePositions\", \"shape_array_key\": \"29d2bbdbeaec1d6888800f85bebf6e33\", \"trip_id\": \"aa6a03fe-f119-44a5-8976-2ad77ceeb89f:5\", \"stop_sequence\": 5, \"gtfs_dataset_key\": \"1051e067d18a76b0a79789f051d5c22b\", \"loop_or_inlining\": 1, \"n_trips\": 8, \"variable\": \"avg_speed_mph\", \"speed\": 0.61, \"rounded_speed\": 0}, {\"_gtfs_dataset_name\": \"Anaheim Resort VehiclePositions\", \"shape_array_key\": \"29d2bbdbeaec1d6888800f85bebf6e33\", \"trip_id\": \"aa6a03fe-f119-44a5-8976-2ad77ceeb89f:1\", \"stop_sequence\": 6, \"gtfs_dataset_key\": \"1051e067d18a76b0a79789f051d5c22b\", \"loop_or_inlining\": 1, \"n_trips\": 8, \"variable\": \"avg_speed_mph\", \"speed\": 2.46, \"rounded_speed\": 2}, {\"_gtfs_dataset_name\": \"Anaheim Resort VehiclePositions\", \"shape_array_key\": \"29d2bbdbeaec1d6888800f85bebf6e33\", \"trip_id\": \"aa6a03fe-f119-44a5-8976-2ad77ceeb89f:4\", \"stop_sequence\": 7, \"gtfs_dataset_key\": \"1051e067d18a76b0a79789f051d5c22b\", \"loop_or_inlining\": 1, \"n_trips\": 8, \"variable\": \"avg_speed_mph\", \"speed\": 3.82, \"rounded_speed\": 3}, {\"_gtfs_dataset_name\": \"Anaheim Resort VehiclePositions\", \"shape_array_key\": \"29d2bbdbeaec1d6888800f85bebf6e33\", \"trip_id\": \"aa6a03fe-f119-44a5-8976-2ad77ceeb89f:5\", \"stop_sequence\": 8, \"gtfs_dataset_key\": \"1051e067d18a76b0a79789f051d5c22b\", \"loop_or_inlining\": 1, \"n_trips\": 8, \"variable\": \"avg_speed_mph\", \"speed\": 4.91, \"rounded_speed\": 4}, {\"_gtfs_dataset_name\": \"Anaheim Resort VehiclePositions\", \"shape_array_key\": \"29d2bbdbeaec1d6888800f85bebf6e33\", \"trip_id\": \"aa6a03fe-f119-44a5-8976-2ad77ceeb89f:5\", \"stop_sequence\": 9, \"gtfs_dataset_key\": \"1051e067d18a76b0a79789f051d5c22b\", \"loop_or_inlining\": 1, \"n_trips\": 8, \"variable\": \"avg_speed_mph\", \"speed\": 4.96, \"rounded_speed\": 4}, {\"_gtfs_dataset_name\": \"Anaheim Resort VehiclePositions\", \"shape_array_key\": \"29d2bbdbeaec1d6888800f85bebf6e33\", \"trip_id\": \"aa6a03fe-f119-44a5-8976-2ad77ceeb89f:4\", \"stop_sequence\": 1, \"gtfs_dataset_key\": \"1051e067d18a76b0a79789f051d5c22b\", \"loop_or_inlining\": 1, \"n_trips\": 8, \"variable\": \"p20_speed_mph\", \"speed\": 0.0, \"rounded_speed\": 0}, {\"_gtfs_dataset_name\": \"Anaheim Resort VehiclePositions\", \"shape_array_key\": \"29d2bbdbeaec1d6888800f85bebf6e33\", \"trip_id\": \"aa6a03fe-f119-44a5-8976-2ad77ceeb89f:4\", \"stop_sequence\": 2, \"gtfs_dataset_key\": \"1051e067d18a76b0a79789f051d5c22b\", \"loop_or_inlining\": 1, \"n_trips\": 8, \"variable\": \"p20_speed_mph\", \"speed\": 5.99, \"rounded_speed\": 5}, {\"_gtfs_dataset_name\": \"Anaheim Resort VehiclePositions\", \"shape_array_key\": \"29d2bbdbeaec1d6888800f85bebf6e33\", \"trip_id\": \"aa6a03fe-f119-44a5-8976-2ad77ceeb89f:8\", \"stop_sequence\": 3, \"gtfs_dataset_key\": \"1051e067d18a76b0a79789f051d5c22b\", \"loop_or_inlining\": 1, \"n_trips\": 8, \"variable\": \"p20_speed_mph\", \"speed\": 3.73, \"rounded_speed\": 3}, {\"_gtfs_dataset_name\": \"Anaheim Resort VehiclePositions\", \"shape_array_key\": \"29d2bbdbeaec1d6888800f85bebf6e33\", \"trip_id\": \"aa6a03fe-f119-44a5-8976-2ad77ceeb89f:3\", \"stop_sequence\": 4, \"gtfs_dataset_key\": \"1051e067d18a76b0a79789f051d5c22b\", \"loop_or_inlining\": 1, \"n_trips\": 8, \"variable\": \"p20_speed_mph\", \"speed\": 3.2, \"rounded_speed\": 3}, {\"_gtfs_dataset_name\": \"Anaheim Resort VehiclePositions\", \"shape_array_key\": \"29d2bbdbeaec1d6888800f85bebf6e33\", \"trip_id\": \"aa6a03fe-f119-44a5-8976-2ad77ceeb89f:5\", \"stop_sequence\": 5, \"gtfs_dataset_key\": \"1051e067d18a76b0a79789f051d5c22b\", \"loop_or_inlining\": 1, \"n_trips\": 8, \"variable\": \"p20_speed_mph\", \"speed\": 0.38, \"rounded_speed\": 0}, {\"_gtfs_dataset_name\": \"Anaheim Resort VehiclePositions\", \"shape_array_key\": \"29d2bbdbeaec1d6888800f85bebf6e33\", \"trip_id\": \"aa6a03fe-f119-44a5-8976-2ad77ceeb89f:1\", \"stop_sequence\": 6, \"gtfs_dataset_key\": \"1051e067d18a76b0a79789f051d5c22b\", \"loop_or_inlining\": 1, \"n_trips\": 8, \"variable\": \"p20_speed_mph\", \"speed\": 0.71, \"rounded_speed\": 0}, {\"_gtfs_dataset_name\": \"Anaheim Resort VehiclePositions\", \"shape_array_key\": \"29d2bbdbeaec1d6888800f85bebf6e33\", \"trip_id\": \"aa6a03fe-f119-44a5-8976-2ad77ceeb89f:4\", \"stop_sequence\": 7, \"gtfs_dataset_key\": \"1051e067d18a76b0a79789f051d5c22b\", \"loop_or_inlining\": 1, \"n_trips\": 8, \"variable\": \"p20_speed_mph\", \"speed\": 3.09, \"rounded_speed\": 3}, {\"_gtfs_dataset_name\": \"Anaheim Resort VehiclePositions\", \"shape_array_key\": \"29d2bbdbeaec1d6888800f85bebf6e33\", \"trip_id\": \"aa6a03fe-f119-44a5-8976-2ad77ceeb89f:5\", \"stop_sequence\": 8, \"gtfs_dataset_key\": \"1051e067d18a76b0a79789f051d5c22b\", \"loop_or_inlining\": 1, \"n_trips\": 8, \"variable\": \"p20_speed_mph\", \"speed\": 3.6, \"rounded_speed\": 3}, {\"_gtfs_dataset_name\": \"Anaheim Resort VehiclePositions\", \"shape_array_key\": \"29d2bbdbeaec1d6888800f85bebf6e33\", \"trip_id\": \"aa6a03fe-f119-44a5-8976-2ad77ceeb89f:5\", \"stop_sequence\": 9, \"gtfs_dataset_key\": \"1051e067d18a76b0a79789f051d5c22b\", \"loop_or_inlining\": 1, \"n_trips\": 8, \"variable\": \"p20_speed_mph\", \"speed\": 2.99, \"rounded_speed\": 2}, {\"_gtfs_dataset_name\": \"Anaheim Resort VehiclePositions\", \"shape_array_key\": \"29d2bbdbeaec1d6888800f85bebf6e33\", \"trip_id\": \"aa6a03fe-f119-44a5-8976-2ad77ceeb89f:4\", \"stop_sequence\": 1, \"gtfs_dataset_key\": \"1051e067d18a76b0a79789f051d5c22b\", \"loop_or_inlining\": 1, \"n_trips\": 8, \"variable\": \"p80_speed_mph\", \"speed\": 0.0, \"rounded_speed\": 0}, {\"_gtfs_dataset_name\": \"Anaheim Resort VehiclePositions\", \"shape_array_key\": \"29d2bbdbeaec1d6888800f85bebf6e33\", \"trip_id\": \"aa6a03fe-f119-44a5-8976-2ad77ceeb89f:4\", \"stop_sequence\": 2, \"gtfs_dataset_key\": \"1051e067d18a76b0a79789f051d5c22b\", \"loop_or_inlining\": 1, \"n_trips\": 8, \"variable\": \"p80_speed_mph\", \"speed\": 11.08, \"rounded_speed\": 11}, {\"_gtfs_dataset_name\": \"Anaheim Resort VehiclePositions\", \"shape_array_key\": \"29d2bbdbeaec1d6888800f85bebf6e33\", \"trip_id\": \"aa6a03fe-f119-44a5-8976-2ad77ceeb89f:8\", \"stop_sequence\": 3, \"gtfs_dataset_key\": \"1051e067d18a76b0a79789f051d5c22b\", \"loop_or_inlining\": 1, \"n_trips\": 8, \"variable\": \"p80_speed_mph\", \"speed\": 4.82, \"rounded_speed\": 4}, {\"_gtfs_dataset_name\": \"Anaheim Resort VehiclePositions\", \"shape_array_key\": \"29d2bbdbeaec1d6888800f85bebf6e33\", \"trip_id\": \"aa6a03fe-f119-44a5-8976-2ad77ceeb89f:3\", \"stop_sequence\": 4, \"gtfs_dataset_key\": \"1051e067d18a76b0a79789f051d5c22b\", \"loop_or_inlining\": 1, \"n_trips\": 8, \"variable\": \"p80_speed_mph\", \"speed\": 5.68, \"rounded_speed\": 5}, {\"_gtfs_dataset_name\": \"Anaheim Resort VehiclePositions\", \"shape_array_key\": \"29d2bbdbeaec1d6888800f85bebf6e33\", \"trip_id\": \"aa6a03fe-f119-44a5-8976-2ad77ceeb89f:5\", \"stop_sequence\": 5, \"gtfs_dataset_key\": \"1051e067d18a76b0a79789f051d5c22b\", \"loop_or_inlining\": 1, \"n_trips\": 8, \"variable\": \"p80_speed_mph\", \"speed\": 0.91, \"rounded_speed\": 0}, {\"_gtfs_dataset_name\": \"Anaheim Resort VehiclePositions\", \"shape_array_key\": \"29d2bbdbeaec1d6888800f85bebf6e33\", \"trip_id\": \"aa6a03fe-f119-44a5-8976-2ad77ceeb89f:1\", \"stop_sequence\": 6, \"gtfs_dataset_key\": \"1051e067d18a76b0a79789f051d5c22b\", \"loop_or_inlining\": 1, \"n_trips\": 8, \"variable\": \"p80_speed_mph\", \"speed\": 3.36, \"rounded_speed\": 3}, {\"_gtfs_dataset_name\": \"Anaheim Resort VehiclePositions\", \"shape_array_key\": \"29d2bbdbeaec1d6888800f85bebf6e33\", \"trip_id\": \"aa6a03fe-f119-44a5-8976-2ad77ceeb89f:4\", \"stop_sequence\": 7, \"gtfs_dataset_key\": \"1051e067d18a76b0a79789f051d5c22b\", \"loop_or_inlining\": 1, \"n_trips\": 8, \"variable\": \"p80_speed_mph\", \"speed\": 4.39, \"rounded_speed\": 4}, {\"_gtfs_dataset_name\": \"Anaheim Resort VehiclePositions\", \"shape_array_key\": \"29d2bbdbeaec1d6888800f85bebf6e33\", \"trip_id\": \"aa6a03fe-f119-44a5-8976-2ad77ceeb89f:5\", \"stop_sequence\": 8, \"gtfs_dataset_key\": \"1051e067d18a76b0a79789f051d5c22b\", \"loop_or_inlining\": 1, \"n_trips\": 8, \"variable\": \"p80_speed_mph\", \"speed\": 6.2, \"rounded_speed\": 6}, {\"_gtfs_dataset_name\": \"Anaheim Resort VehiclePositions\", \"shape_array_key\": \"29d2bbdbeaec1d6888800f85bebf6e33\", \"trip_id\": \"aa6a03fe-f119-44a5-8976-2ad77ceeb89f:5\", \"stop_sequence\": 9, \"gtfs_dataset_key\": \"1051e067d18a76b0a79789f051d5c22b\", \"loop_or_inlining\": 1, \"n_trips\": 8, \"variable\": \"p80_speed_mph\", \"speed\": 6.79, \"rounded_speed\": 6}]}}, {\"mode\": \"vega-lite\"});\n",
       "</script>"
      ],
      "text/plain": [
       "alt.Chart(...)"
      ]
     },
     "execution_count": 220,
     "metadata": {},
     "output_type": "execute_result"
    }
   ],
   "source": [
    "chart1"
   ]
  },
  {
   "cell_type": "code",
   "execution_count": 222,
   "id": "edb11b29-7038-4a5d-9e44-4d3b88e6cc88",
   "metadata": {},
   "outputs": [
    {
     "data": {
      "text/html": [
       "\n",
       "<div id=\"altair-viz-7967218e5ed24204bb23b2c69112ef79\"></div>\n",
       "<script type=\"text/javascript\">\n",
       "  var VEGA_DEBUG = (typeof VEGA_DEBUG == \"undefined\") ? {} : VEGA_DEBUG;\n",
       "  (function(spec, embedOpt){\n",
       "    let outputDiv = document.currentScript.previousElementSibling;\n",
       "    if (outputDiv.id !== \"altair-viz-7967218e5ed24204bb23b2c69112ef79\") {\n",
       "      outputDiv = document.getElementById(\"altair-viz-7967218e5ed24204bb23b2c69112ef79\");\n",
       "    }\n",
       "    const paths = {\n",
       "      \"vega\": \"https://cdn.jsdelivr.net/npm//vega@5?noext\",\n",
       "      \"vega-lib\": \"https://cdn.jsdelivr.net/npm//vega-lib?noext\",\n",
       "      \"vega-lite\": \"https://cdn.jsdelivr.net/npm//vega-lite@4.17.0?noext\",\n",
       "      \"vega-embed\": \"https://cdn.jsdelivr.net/npm//vega-embed@6?noext\",\n",
       "    };\n",
       "\n",
       "    function maybeLoadScript(lib, version) {\n",
       "      var key = `${lib.replace(\"-\", \"\")}_version`;\n",
       "      return (VEGA_DEBUG[key] == version) ?\n",
       "        Promise.resolve(paths[lib]) :\n",
       "        new Promise(function(resolve, reject) {\n",
       "          var s = document.createElement('script');\n",
       "          document.getElementsByTagName(\"head\")[0].appendChild(s);\n",
       "          s.async = true;\n",
       "          s.onload = () => {\n",
       "            VEGA_DEBUG[key] = version;\n",
       "            return resolve(paths[lib]);\n",
       "          };\n",
       "          s.onerror = () => reject(`Error loading script: ${paths[lib]}`);\n",
       "          s.src = paths[lib];\n",
       "        });\n",
       "    }\n",
       "\n",
       "    function showError(err) {\n",
       "      outputDiv.innerHTML = `<div class=\"error\" style=\"color:red;\">${err}</div>`;\n",
       "      throw err;\n",
       "    }\n",
       "\n",
       "    function displayChart(vegaEmbed) {\n",
       "      vegaEmbed(outputDiv, spec, embedOpt)\n",
       "        .catch(err => showError(`Javascript Error: ${err.message}<br>This usually means there's a typo in your chart specification. See the javascript console for the full traceback.`));\n",
       "    }\n",
       "\n",
       "    if(typeof define === \"function\" && define.amd) {\n",
       "      requirejs.config({paths});\n",
       "      require([\"vega-embed\"], displayChart, err => showError(`Error loading script: ${err.message}`));\n",
       "    } else {\n",
       "      maybeLoadScript(\"vega\", \"5\")\n",
       "        .then(() => maybeLoadScript(\"vega-lite\", \"4.17.0\"))\n",
       "        .then(() => maybeLoadScript(\"vega-embed\", \"6\"))\n",
       "        .catch(showError)\n",
       "        .then(() => displayChart(vegaEmbed));\n",
       "    }\n",
       "  })({\"config\": {\"view\": {\"continuousWidth\": 400, \"continuousHeight\": 300}}, \"layer\": [{\"data\": {\"name\": \"data-eb4053f4c5ff11acdfc5792dffcd6484\"}, \"mark\": {\"type\": \"circle\", \"opacity\": 1, \"size\": 400}, \"encoding\": {\"color\": {\"field\": \"variable\", \"legend\": null, \"scale\": {\"range\": [\"#2EA8CE\", \"#EB9F3C\", \"#F4D837\", \"#51BF9D\", \"#8CBCCB\", \"#9487C0\"]}, \"type\": \"nominal\"}, \"tooltip\": [{\"field\": \"_gtfs_dataset_name\", \"type\": \"nominal\"}, {\"field\": \"shape_array_key\", \"type\": \"nominal\"}, {\"field\": \"trip_id\", \"type\": \"nominal\"}, {\"field\": \"stop_sequence\", \"type\": \"quantitative\"}, {\"field\": \"gtfs_dataset_key\", \"type\": \"nominal\"}, {\"field\": \"loop_or_inlining\", \"type\": \"quantitative\"}, {\"field\": \"n_trips\", \"type\": \"quantitative\"}, {\"field\": \"variable\", \"type\": \"nominal\"}, {\"field\": \"speed\", \"type\": \"quantitative\"}, {\"field\": \"rounded_speed\", \"type\": \"quantitative\"}], \"x\": {\"axis\": {\"grid\": true, \"ticks\": false}, \"field\": \"stop_sequence\", \"sort\": \"ascending\", \"type\": \"ordinal\"}, \"y\": {\"field\": \"rounded_speed\", \"type\": \"nominal\"}}, \"height\": 300, \"title\": \"Percentile/Average\", \"transform\": [{\"window\": [{\"op\": \"rank\", \"field\": \"\", \"as\": \"id\"}], \"groupby\": [\"variable\"]}], \"width\": 650}, {\"data\": {\"name\": \"data-781272622b392a2af105bf9f8b8cb566\"}, \"mark\": {\"type\": \"circle\", \"opacity\": 1, \"size\": 100}, \"encoding\": {\"color\": {\"field\": \"variable\", \"legend\": null, \"scale\": {\"range\": [\"#2EA8CE\", \"#EB9F3C\", \"#F4D837\", \"#51BF9D\", \"#8CBCCB\", \"#9487C0\"]}, \"type\": \"nominal\"}, \"tooltip\": [{\"field\": \"_gtfs_dataset_name\", \"type\": \"nominal\"}, {\"field\": \"shape_array_key\", \"type\": \"nominal\"}, {\"field\": \"trip_id\", \"type\": \"nominal\"}, {\"field\": \"stop_sequence\", \"type\": \"quantitative\"}, {\"field\": \"gtfs_dataset_key\", \"type\": \"nominal\"}, {\"field\": \"loop_or_inlining\", \"type\": \"quantitative\"}, {\"field\": \"n_trips\", \"type\": \"quantitative\"}, {\"field\": \"variable\", \"type\": \"nominal\"}, {\"field\": \"speed\", \"type\": \"quantitative\"}, {\"field\": \"rounded_speed\", \"type\": \"quantitative\"}], \"x\": {\"axis\": {\"grid\": true, \"ticks\": false}, \"field\": \"stop_sequence\", \"sort\": \"ascending\", \"type\": \"ordinal\"}, \"y\": {\"field\": \"rounded_speed\", \"type\": \"nominal\"}}, \"height\": 300, \"title\": \"Speed per Trip\", \"transform\": [{\"window\": [{\"op\": \"rank\", \"field\": \"\", \"as\": \"id\"}], \"groupby\": [\"variable\"]}], \"width\": 650}], \"$schema\": \"https://vega.github.io/schema/vega-lite/v4.17.0.json\", \"datasets\": {\"data-eb4053f4c5ff11acdfc5792dffcd6484\": [{\"_gtfs_dataset_name\": \"Anaheim Resort VehiclePositions\", \"shape_array_key\": \"29d2bbdbeaec1d6888800f85bebf6e33\", \"trip_id\": \"aa6a03fe-f119-44a5-8976-2ad77ceeb89f:4\", \"stop_sequence\": 1, \"gtfs_dataset_key\": \"1051e067d18a76b0a79789f051d5c22b\", \"loop_or_inlining\": 1, \"n_trips\": 8, \"variable\": \"avg_speed_mph\", \"speed\": 0.0, \"rounded_speed\": 0}, {\"_gtfs_dataset_name\": \"Anaheim Resort VehiclePositions\", \"shape_array_key\": \"29d2bbdbeaec1d6888800f85bebf6e33\", \"trip_id\": \"aa6a03fe-f119-44a5-8976-2ad77ceeb89f:4\", \"stop_sequence\": 2, \"gtfs_dataset_key\": \"1051e067d18a76b0a79789f051d5c22b\", \"loop_or_inlining\": 1, \"n_trips\": 8, \"variable\": \"avg_speed_mph\", \"speed\": 7.99, \"rounded_speed\": 7}, {\"_gtfs_dataset_name\": \"Anaheim Resort VehiclePositions\", \"shape_array_key\": \"29d2bbdbeaec1d6888800f85bebf6e33\", \"trip_id\": \"aa6a03fe-f119-44a5-8976-2ad77ceeb89f:8\", \"stop_sequence\": 3, \"gtfs_dataset_key\": \"1051e067d18a76b0a79789f051d5c22b\", \"loop_or_inlining\": 1, \"n_trips\": 8, \"variable\": \"avg_speed_mph\", \"speed\": 4.21, \"rounded_speed\": 4}, {\"_gtfs_dataset_name\": \"Anaheim Resort VehiclePositions\", \"shape_array_key\": \"29d2bbdbeaec1d6888800f85bebf6e33\", \"trip_id\": \"aa6a03fe-f119-44a5-8976-2ad77ceeb89f:3\", \"stop_sequence\": 4, \"gtfs_dataset_key\": \"1051e067d18a76b0a79789f051d5c22b\", \"loop_or_inlining\": 1, \"n_trips\": 8, \"variable\": \"avg_speed_mph\", \"speed\": 4.81, \"rounded_speed\": 4}, {\"_gtfs_dataset_name\": \"Anaheim Resort VehiclePositions\", \"shape_array_key\": \"29d2bbdbeaec1d6888800f85bebf6e33\", \"trip_id\": \"aa6a03fe-f119-44a5-8976-2ad77ceeb89f:5\", \"stop_sequence\": 5, \"gtfs_dataset_key\": \"1051e067d18a76b0a79789f051d5c22b\", \"loop_or_inlining\": 1, \"n_trips\": 8, \"variable\": \"avg_speed_mph\", \"speed\": 0.61, \"rounded_speed\": 0}, {\"_gtfs_dataset_name\": \"Anaheim Resort VehiclePositions\", \"shape_array_key\": \"29d2bbdbeaec1d6888800f85bebf6e33\", \"trip_id\": \"aa6a03fe-f119-44a5-8976-2ad77ceeb89f:1\", \"stop_sequence\": 6, \"gtfs_dataset_key\": \"1051e067d18a76b0a79789f051d5c22b\", \"loop_or_inlining\": 1, \"n_trips\": 8, \"variable\": \"avg_speed_mph\", \"speed\": 2.46, \"rounded_speed\": 2}, {\"_gtfs_dataset_name\": \"Anaheim Resort VehiclePositions\", \"shape_array_key\": \"29d2bbdbeaec1d6888800f85bebf6e33\", \"trip_id\": \"aa6a03fe-f119-44a5-8976-2ad77ceeb89f:4\", \"stop_sequence\": 7, \"gtfs_dataset_key\": \"1051e067d18a76b0a79789f051d5c22b\", \"loop_or_inlining\": 1, \"n_trips\": 8, \"variable\": \"avg_speed_mph\", \"speed\": 3.82, \"rounded_speed\": 3}, {\"_gtfs_dataset_name\": \"Anaheim Resort VehiclePositions\", \"shape_array_key\": \"29d2bbdbeaec1d6888800f85bebf6e33\", \"trip_id\": \"aa6a03fe-f119-44a5-8976-2ad77ceeb89f:5\", \"stop_sequence\": 8, \"gtfs_dataset_key\": \"1051e067d18a76b0a79789f051d5c22b\", \"loop_or_inlining\": 1, \"n_trips\": 8, \"variable\": \"avg_speed_mph\", \"speed\": 4.91, \"rounded_speed\": 4}, {\"_gtfs_dataset_name\": \"Anaheim Resort VehiclePositions\", \"shape_array_key\": \"29d2bbdbeaec1d6888800f85bebf6e33\", \"trip_id\": \"aa6a03fe-f119-44a5-8976-2ad77ceeb89f:5\", \"stop_sequence\": 9, \"gtfs_dataset_key\": \"1051e067d18a76b0a79789f051d5c22b\", \"loop_or_inlining\": 1, \"n_trips\": 8, \"variable\": \"avg_speed_mph\", \"speed\": 4.96, \"rounded_speed\": 4}, {\"_gtfs_dataset_name\": \"Anaheim Resort VehiclePositions\", \"shape_array_key\": \"29d2bbdbeaec1d6888800f85bebf6e33\", \"trip_id\": \"aa6a03fe-f119-44a5-8976-2ad77ceeb89f:4\", \"stop_sequence\": 1, \"gtfs_dataset_key\": \"1051e067d18a76b0a79789f051d5c22b\", \"loop_or_inlining\": 1, \"n_trips\": 8, \"variable\": \"p20_speed_mph\", \"speed\": 0.0, \"rounded_speed\": 0}, {\"_gtfs_dataset_name\": \"Anaheim Resort VehiclePositions\", \"shape_array_key\": \"29d2bbdbeaec1d6888800f85bebf6e33\", \"trip_id\": \"aa6a03fe-f119-44a5-8976-2ad77ceeb89f:4\", \"stop_sequence\": 2, \"gtfs_dataset_key\": \"1051e067d18a76b0a79789f051d5c22b\", \"loop_or_inlining\": 1, \"n_trips\": 8, \"variable\": \"p20_speed_mph\", \"speed\": 5.99, \"rounded_speed\": 5}, {\"_gtfs_dataset_name\": \"Anaheim Resort VehiclePositions\", \"shape_array_key\": \"29d2bbdbeaec1d6888800f85bebf6e33\", \"trip_id\": \"aa6a03fe-f119-44a5-8976-2ad77ceeb89f:8\", \"stop_sequence\": 3, \"gtfs_dataset_key\": \"1051e067d18a76b0a79789f051d5c22b\", \"loop_or_inlining\": 1, \"n_trips\": 8, \"variable\": \"p20_speed_mph\", \"speed\": 3.73, \"rounded_speed\": 3}, {\"_gtfs_dataset_name\": \"Anaheim Resort VehiclePositions\", \"shape_array_key\": \"29d2bbdbeaec1d6888800f85bebf6e33\", \"trip_id\": \"aa6a03fe-f119-44a5-8976-2ad77ceeb89f:3\", \"stop_sequence\": 4, \"gtfs_dataset_key\": \"1051e067d18a76b0a79789f051d5c22b\", \"loop_or_inlining\": 1, \"n_trips\": 8, \"variable\": \"p20_speed_mph\", \"speed\": 3.2, \"rounded_speed\": 3}, {\"_gtfs_dataset_name\": \"Anaheim Resort VehiclePositions\", \"shape_array_key\": \"29d2bbdbeaec1d6888800f85bebf6e33\", \"trip_id\": \"aa6a03fe-f119-44a5-8976-2ad77ceeb89f:5\", \"stop_sequence\": 5, \"gtfs_dataset_key\": \"1051e067d18a76b0a79789f051d5c22b\", \"loop_or_inlining\": 1, \"n_trips\": 8, \"variable\": \"p20_speed_mph\", \"speed\": 0.38, \"rounded_speed\": 0}, {\"_gtfs_dataset_name\": \"Anaheim Resort VehiclePositions\", \"shape_array_key\": \"29d2bbdbeaec1d6888800f85bebf6e33\", \"trip_id\": \"aa6a03fe-f119-44a5-8976-2ad77ceeb89f:1\", \"stop_sequence\": 6, \"gtfs_dataset_key\": \"1051e067d18a76b0a79789f051d5c22b\", \"loop_or_inlining\": 1, \"n_trips\": 8, \"variable\": \"p20_speed_mph\", \"speed\": 0.71, \"rounded_speed\": 0}, {\"_gtfs_dataset_name\": \"Anaheim Resort VehiclePositions\", \"shape_array_key\": \"29d2bbdbeaec1d6888800f85bebf6e33\", \"trip_id\": \"aa6a03fe-f119-44a5-8976-2ad77ceeb89f:4\", \"stop_sequence\": 7, \"gtfs_dataset_key\": \"1051e067d18a76b0a79789f051d5c22b\", \"loop_or_inlining\": 1, \"n_trips\": 8, \"variable\": \"p20_speed_mph\", \"speed\": 3.09, \"rounded_speed\": 3}, {\"_gtfs_dataset_name\": \"Anaheim Resort VehiclePositions\", \"shape_array_key\": \"29d2bbdbeaec1d6888800f85bebf6e33\", \"trip_id\": \"aa6a03fe-f119-44a5-8976-2ad77ceeb89f:5\", \"stop_sequence\": 8, \"gtfs_dataset_key\": \"1051e067d18a76b0a79789f051d5c22b\", \"loop_or_inlining\": 1, \"n_trips\": 8, \"variable\": \"p20_speed_mph\", \"speed\": 3.6, \"rounded_speed\": 3}, {\"_gtfs_dataset_name\": \"Anaheim Resort VehiclePositions\", \"shape_array_key\": \"29d2bbdbeaec1d6888800f85bebf6e33\", \"trip_id\": \"aa6a03fe-f119-44a5-8976-2ad77ceeb89f:5\", \"stop_sequence\": 9, \"gtfs_dataset_key\": \"1051e067d18a76b0a79789f051d5c22b\", \"loop_or_inlining\": 1, \"n_trips\": 8, \"variable\": \"p20_speed_mph\", \"speed\": 2.99, \"rounded_speed\": 2}, {\"_gtfs_dataset_name\": \"Anaheim Resort VehiclePositions\", \"shape_array_key\": \"29d2bbdbeaec1d6888800f85bebf6e33\", \"trip_id\": \"aa6a03fe-f119-44a5-8976-2ad77ceeb89f:4\", \"stop_sequence\": 1, \"gtfs_dataset_key\": \"1051e067d18a76b0a79789f051d5c22b\", \"loop_or_inlining\": 1, \"n_trips\": 8, \"variable\": \"p80_speed_mph\", \"speed\": 0.0, \"rounded_speed\": 0}, {\"_gtfs_dataset_name\": \"Anaheim Resort VehiclePositions\", \"shape_array_key\": \"29d2bbdbeaec1d6888800f85bebf6e33\", \"trip_id\": \"aa6a03fe-f119-44a5-8976-2ad77ceeb89f:4\", \"stop_sequence\": 2, \"gtfs_dataset_key\": \"1051e067d18a76b0a79789f051d5c22b\", \"loop_or_inlining\": 1, \"n_trips\": 8, \"variable\": \"p80_speed_mph\", \"speed\": 11.08, \"rounded_speed\": 11}, {\"_gtfs_dataset_name\": \"Anaheim Resort VehiclePositions\", \"shape_array_key\": \"29d2bbdbeaec1d6888800f85bebf6e33\", \"trip_id\": \"aa6a03fe-f119-44a5-8976-2ad77ceeb89f:8\", \"stop_sequence\": 3, \"gtfs_dataset_key\": \"1051e067d18a76b0a79789f051d5c22b\", \"loop_or_inlining\": 1, \"n_trips\": 8, \"variable\": \"p80_speed_mph\", \"speed\": 4.82, \"rounded_speed\": 4}, {\"_gtfs_dataset_name\": \"Anaheim Resort VehiclePositions\", \"shape_array_key\": \"29d2bbdbeaec1d6888800f85bebf6e33\", \"trip_id\": \"aa6a03fe-f119-44a5-8976-2ad77ceeb89f:3\", \"stop_sequence\": 4, \"gtfs_dataset_key\": \"1051e067d18a76b0a79789f051d5c22b\", \"loop_or_inlining\": 1, \"n_trips\": 8, \"variable\": \"p80_speed_mph\", \"speed\": 5.68, \"rounded_speed\": 5}, {\"_gtfs_dataset_name\": \"Anaheim Resort VehiclePositions\", \"shape_array_key\": \"29d2bbdbeaec1d6888800f85bebf6e33\", \"trip_id\": \"aa6a03fe-f119-44a5-8976-2ad77ceeb89f:5\", \"stop_sequence\": 5, \"gtfs_dataset_key\": \"1051e067d18a76b0a79789f051d5c22b\", \"loop_or_inlining\": 1, \"n_trips\": 8, \"variable\": \"p80_speed_mph\", \"speed\": 0.91, \"rounded_speed\": 0}, {\"_gtfs_dataset_name\": \"Anaheim Resort VehiclePositions\", \"shape_array_key\": \"29d2bbdbeaec1d6888800f85bebf6e33\", \"trip_id\": \"aa6a03fe-f119-44a5-8976-2ad77ceeb89f:1\", \"stop_sequence\": 6, \"gtfs_dataset_key\": \"1051e067d18a76b0a79789f051d5c22b\", \"loop_or_inlining\": 1, \"n_trips\": 8, \"variable\": \"p80_speed_mph\", \"speed\": 3.36, \"rounded_speed\": 3}, {\"_gtfs_dataset_name\": \"Anaheim Resort VehiclePositions\", \"shape_array_key\": \"29d2bbdbeaec1d6888800f85bebf6e33\", \"trip_id\": \"aa6a03fe-f119-44a5-8976-2ad77ceeb89f:4\", \"stop_sequence\": 7, \"gtfs_dataset_key\": \"1051e067d18a76b0a79789f051d5c22b\", \"loop_or_inlining\": 1, \"n_trips\": 8, \"variable\": \"p80_speed_mph\", \"speed\": 4.39, \"rounded_speed\": 4}, {\"_gtfs_dataset_name\": \"Anaheim Resort VehiclePositions\", \"shape_array_key\": \"29d2bbdbeaec1d6888800f85bebf6e33\", \"trip_id\": \"aa6a03fe-f119-44a5-8976-2ad77ceeb89f:5\", \"stop_sequence\": 8, \"gtfs_dataset_key\": \"1051e067d18a76b0a79789f051d5c22b\", \"loop_or_inlining\": 1, \"n_trips\": 8, \"variable\": \"p80_speed_mph\", \"speed\": 6.2, \"rounded_speed\": 6}, {\"_gtfs_dataset_name\": \"Anaheim Resort VehiclePositions\", \"shape_array_key\": \"29d2bbdbeaec1d6888800f85bebf6e33\", \"trip_id\": \"aa6a03fe-f119-44a5-8976-2ad77ceeb89f:5\", \"stop_sequence\": 9, \"gtfs_dataset_key\": \"1051e067d18a76b0a79789f051d5c22b\", \"loop_or_inlining\": 1, \"n_trips\": 8, \"variable\": \"p80_speed_mph\", \"speed\": 6.79, \"rounded_speed\": 6}], \"data-781272622b392a2af105bf9f8b8cb566\": [{\"_gtfs_dataset_name\": \"Anaheim Resort VehiclePositions\", \"shape_array_key\": \"29d2bbdbeaec1d6888800f85bebf6e33\", \"trip_id\": \"aa6a03fe-f119-44a5-8976-2ad77ceeb89f:4\", \"stop_sequence\": 1, \"gtfs_dataset_key\": \"1051e067d18a76b0a79789f051d5c22b\", \"loop_or_inlining\": 1, \"n_trips\": 8, \"variable\": \"speed_mph\", \"speed\": 0.0, \"rounded_speed\": 0}, {\"_gtfs_dataset_name\": \"Anaheim Resort VehiclePositions\", \"shape_array_key\": \"29d2bbdbeaec1d6888800f85bebf6e33\", \"trip_id\": \"aa6a03fe-f119-44a5-8976-2ad77ceeb89f:1\", \"stop_sequence\": 1, \"gtfs_dataset_key\": \"1051e067d18a76b0a79789f051d5c22b\", \"loop_or_inlining\": 1, \"n_trips\": 8, \"variable\": \"speed_mph\", \"speed\": 0.0008325192325460018, \"rounded_speed\": 0}, {\"_gtfs_dataset_name\": \"Anaheim Resort VehiclePositions\", \"shape_array_key\": \"29d2bbdbeaec1d6888800f85bebf6e33\", \"trip_id\": \"aa6a03fe-f119-44a5-8976-2ad77ceeb89f:3\", \"stop_sequence\": 1, \"gtfs_dataset_key\": \"1051e067d18a76b0a79789f051d5c22b\", \"loop_or_inlining\": 1, \"n_trips\": 8, \"variable\": \"speed_mph\", \"speed\": 0.024166183278071445, \"rounded_speed\": 0}, {\"_gtfs_dataset_name\": \"Anaheim Resort VehiclePositions\", \"shape_array_key\": \"29d2bbdbeaec1d6888800f85bebf6e33\", \"trip_id\": \"aa6a03fe-f119-44a5-8976-2ad77ceeb89f:7\", \"stop_sequence\": 1, \"gtfs_dataset_key\": \"1051e067d18a76b0a79789f051d5c22b\", \"loop_or_inlining\": 1, \"n_trips\": 8, \"variable\": \"speed_mph\", \"speed\": 0.004285628561628433, \"rounded_speed\": 0}, {\"_gtfs_dataset_name\": \"Anaheim Resort VehiclePositions\", \"shape_array_key\": \"29d2bbdbeaec1d6888800f85bebf6e33\", \"trip_id\": \"aa6a03fe-f119-44a5-8976-2ad77ceeb89f:4\", \"stop_sequence\": 2, \"gtfs_dataset_key\": \"1051e067d18a76b0a79789f051d5c22b\", \"loop_or_inlining\": 1, \"n_trips\": 8, \"variable\": \"speed_mph\", \"speed\": 9.052623885192912, \"rounded_speed\": 9}, {\"_gtfs_dataset_name\": \"Anaheim Resort VehiclePositions\", \"shape_array_key\": \"29d2bbdbeaec1d6888800f85bebf6e33\", \"trip_id\": \"aa6a03fe-f119-44a5-8976-2ad77ceeb89f:8\", \"stop_sequence\": 2, \"gtfs_dataset_key\": \"1051e067d18a76b0a79789f051d5c22b\", \"loop_or_inlining\": 1, \"n_trips\": 8, \"variable\": \"speed_mph\", \"speed\": 9.572140759512445, \"rounded_speed\": 9}, {\"_gtfs_dataset_name\": \"Anaheim Resort VehiclePositions\", \"shape_array_key\": \"29d2bbdbeaec1d6888800f85bebf6e33\", \"trip_id\": \"aa6a03fe-f119-44a5-8976-2ad77ceeb89f:2\", \"stop_sequence\": 2, \"gtfs_dataset_key\": \"1051e067d18a76b0a79789f051d5c22b\", \"loop_or_inlining\": 1, \"n_trips\": 8, \"variable\": \"speed_mph\", \"speed\": 12.084147088905848, \"rounded_speed\": 12}, {\"_gtfs_dataset_name\": \"Anaheim Resort VehiclePositions\", \"shape_array_key\": \"29d2bbdbeaec1d6888800f85bebf6e33\", \"trip_id\": \"aa6a03fe-f119-44a5-8976-2ad77ceeb89f:7\", \"stop_sequence\": 2, \"gtfs_dataset_key\": \"1051e067d18a76b0a79789f051d5c22b\", \"loop_or_inlining\": 1, \"n_trips\": 8, \"variable\": \"speed_mph\", \"speed\": 7.3172013553677715, \"rounded_speed\": 7}, {\"_gtfs_dataset_name\": \"Anaheim Resort VehiclePositions\", \"shape_array_key\": \"29d2bbdbeaec1d6888800f85bebf6e33\", \"trip_id\": \"aa6a03fe-f119-44a5-8976-2ad77ceeb89f:5\", \"stop_sequence\": 2, \"gtfs_dataset_key\": \"1051e067d18a76b0a79789f051d5c22b\", \"loop_or_inlining\": 1, \"n_trips\": 8, \"variable\": \"speed_mph\", \"speed\": 12.228887731569518, \"rounded_speed\": 12}, {\"_gtfs_dataset_name\": \"Anaheim Resort VehiclePositions\", \"shape_array_key\": \"29d2bbdbeaec1d6888800f85bebf6e33\", \"trip_id\": \"aa6a03fe-f119-44a5-8976-2ad77ceeb89f:1\", \"stop_sequence\": 2, \"gtfs_dataset_key\": \"1051e067d18a76b0a79789f051d5c22b\", \"loop_or_inlining\": 1, \"n_trips\": 8, \"variable\": \"speed_mph\", \"speed\": 1.474625853012174, \"rounded_speed\": 1}, {\"_gtfs_dataset_name\": \"Anaheim Resort VehiclePositions\", \"shape_array_key\": \"29d2bbdbeaec1d6888800f85bebf6e33\", \"trip_id\": \"aa6a03fe-f119-44a5-8976-2ad77ceeb89f:3\", \"stop_sequence\": 2, \"gtfs_dataset_key\": \"1051e067d18a76b0a79789f051d5c22b\", \"loop_or_inlining\": 1, \"n_trips\": 8, \"variable\": \"speed_mph\", \"speed\": 6.665222373845789, \"rounded_speed\": 6}, {\"_gtfs_dataset_name\": \"Anaheim Resort VehiclePositions\", \"shape_array_key\": \"29d2bbdbeaec1d6888800f85bebf6e33\", \"trip_id\": \"aa6a03fe-f119-44a5-8976-2ad77ceeb89f:6\", \"stop_sequence\": 2, \"gtfs_dataset_key\": \"1051e067d18a76b0a79789f051d5c22b\", \"loop_or_inlining\": 1, \"n_trips\": 8, \"variable\": \"speed_mph\", \"speed\": 5.539256926472267, \"rounded_speed\": 5}, {\"_gtfs_dataset_name\": \"Anaheim Resort VehiclePositions\", \"shape_array_key\": \"29d2bbdbeaec1d6888800f85bebf6e33\", \"trip_id\": \"aa6a03fe-f119-44a5-8976-2ad77ceeb89f:8\", \"stop_sequence\": 3, \"gtfs_dataset_key\": \"1051e067d18a76b0a79789f051d5c22b\", \"loop_or_inlining\": 1, \"n_trips\": 8, \"variable\": \"speed_mph\", \"speed\": 4.204004339000222, \"rounded_speed\": 4}, {\"_gtfs_dataset_name\": \"Anaheim Resort VehiclePositions\", \"shape_array_key\": \"29d2bbdbeaec1d6888800f85bebf6e33\", \"trip_id\": \"aa6a03fe-f119-44a5-8976-2ad77ceeb89f:6\", \"stop_sequence\": 3, \"gtfs_dataset_key\": \"1051e067d18a76b0a79789f051d5c22b\", \"loop_or_inlining\": 1, \"n_trips\": 8, \"variable\": \"speed_mph\", \"speed\": 5.45626095061731, \"rounded_speed\": 5}, {\"_gtfs_dataset_name\": \"Anaheim Resort VehiclePositions\", \"shape_array_key\": \"29d2bbdbeaec1d6888800f85bebf6e33\", \"trip_id\": \"aa6a03fe-f119-44a5-8976-2ad77ceeb89f:3\", \"stop_sequence\": 3, \"gtfs_dataset_key\": \"1051e067d18a76b0a79789f051d5c22b\", \"loop_or_inlining\": 1, \"n_trips\": 8, \"variable\": \"speed_mph\", \"speed\": 5.233556422020684, \"rounded_speed\": 5}, {\"_gtfs_dataset_name\": \"Anaheim Resort VehiclePositions\", \"shape_array_key\": \"29d2bbdbeaec1d6888800f85bebf6e33\", \"trip_id\": \"aa6a03fe-f119-44a5-8976-2ad77ceeb89f:7\", \"stop_sequence\": 3, \"gtfs_dataset_key\": \"1051e067d18a76b0a79789f051d5c22b\", \"loop_or_inlining\": 1, \"n_trips\": 8, \"variable\": \"speed_mph\", \"speed\": 3.743711893124285, \"rounded_speed\": 3}, {\"_gtfs_dataset_name\": \"Anaheim Resort VehiclePositions\", \"shape_array_key\": \"29d2bbdbeaec1d6888800f85bebf6e33\", \"trip_id\": \"aa6a03fe-f119-44a5-8976-2ad77ceeb89f:1\", \"stop_sequence\": 3, \"gtfs_dataset_key\": \"1051e067d18a76b0a79789f051d5c22b\", \"loop_or_inlining\": 1, \"n_trips\": 8, \"variable\": \"speed_mph\", \"speed\": 3.7712391864560812, \"rounded_speed\": 3}, {\"_gtfs_dataset_name\": \"Anaheim Resort VehiclePositions\", \"shape_array_key\": \"29d2bbdbeaec1d6888800f85bebf6e33\", \"trip_id\": \"aa6a03fe-f119-44a5-8976-2ad77ceeb89f:5\", \"stop_sequence\": 3, \"gtfs_dataset_key\": \"1051e067d18a76b0a79789f051d5c22b\", \"loop_or_inlining\": 1, \"n_trips\": 8, \"variable\": \"speed_mph\", \"speed\": 3.71658354607266, \"rounded_speed\": 3}, {\"_gtfs_dataset_name\": \"Anaheim Resort VehiclePositions\", \"shape_array_key\": \"29d2bbdbeaec1d6888800f85bebf6e33\", \"trip_id\": \"aa6a03fe-f119-44a5-8976-2ad77ceeb89f:4\", \"stop_sequence\": 3, \"gtfs_dataset_key\": \"1051e067d18a76b0a79789f051d5c22b\", \"loop_or_inlining\": 1, \"n_trips\": 8, \"variable\": \"speed_mph\", \"speed\": 4.030582374619538, \"rounded_speed\": 4}, {\"_gtfs_dataset_name\": \"Anaheim Resort VehiclePositions\", \"shape_array_key\": \"29d2bbdbeaec1d6888800f85bebf6e33\", \"trip_id\": \"aa6a03fe-f119-44a5-8976-2ad77ceeb89f:2\", \"stop_sequence\": 3, \"gtfs_dataset_key\": \"1051e067d18a76b0a79789f051d5c22b\", \"loop_or_inlining\": 1, \"n_trips\": 8, \"variable\": \"speed_mph\", \"speed\": 3.5371622714346693, \"rounded_speed\": 3}, {\"_gtfs_dataset_name\": \"Anaheim Resort VehiclePositions\", \"shape_array_key\": \"29d2bbdbeaec1d6888800f85bebf6e33\", \"trip_id\": \"aa6a03fe-f119-44a5-8976-2ad77ceeb89f:3\", \"stop_sequence\": 4, \"gtfs_dataset_key\": \"1051e067d18a76b0a79789f051d5c22b\", \"loop_or_inlining\": 1, \"n_trips\": 8, \"variable\": \"speed_mph\", \"speed\": 5.502321180654386, \"rounded_speed\": 5}, {\"_gtfs_dataset_name\": \"Anaheim Resort VehiclePositions\", \"shape_array_key\": \"29d2bbdbeaec1d6888800f85bebf6e33\", \"trip_id\": \"aa6a03fe-f119-44a5-8976-2ad77ceeb89f:2\", \"stop_sequence\": 4, \"gtfs_dataset_key\": \"1051e067d18a76b0a79789f051d5c22b\", \"loop_or_inlining\": 1, \"n_trips\": 8, \"variable\": \"speed_mph\", \"speed\": 4.743380328150332, \"rounded_speed\": 4}, {\"_gtfs_dataset_name\": \"Anaheim Resort VehiclePositions\", \"shape_array_key\": \"29d2bbdbeaec1d6888800f85bebf6e33\", \"trip_id\": \"aa6a03fe-f119-44a5-8976-2ad77ceeb89f:5\", \"stop_sequence\": 4, \"gtfs_dataset_key\": \"1051e067d18a76b0a79789f051d5c22b\", \"loop_or_inlining\": 1, \"n_trips\": 8, \"variable\": \"speed_mph\", \"speed\": 2.6851940872424147, \"rounded_speed\": 2}, {\"_gtfs_dataset_name\": \"Anaheim Resort VehiclePositions\", \"shape_array_key\": \"29d2bbdbeaec1d6888800f85bebf6e33\", \"trip_id\": \"aa6a03fe-f119-44a5-8976-2ad77ceeb89f:4\", \"stop_sequence\": 4, \"gtfs_dataset_key\": \"1051e067d18a76b0a79789f051d5c22b\", \"loop_or_inlining\": 1, \"n_trips\": 8, \"variable\": \"speed_mph\", \"speed\": 1.9037205615476676, \"rounded_speed\": 1}, {\"_gtfs_dataset_name\": \"Anaheim Resort VehiclePositions\", \"shape_array_key\": \"29d2bbdbeaec1d6888800f85bebf6e33\", \"trip_id\": \"aa6a03fe-f119-44a5-8976-2ad77ceeb89f:1\", \"stop_sequence\": 4, \"gtfs_dataset_key\": \"1051e067d18a76b0a79789f051d5c22b\", \"loop_or_inlining\": 1, \"n_trips\": 8, \"variable\": \"speed_mph\", \"speed\": 8.874711581700621, \"rounded_speed\": 8}, {\"_gtfs_dataset_name\": \"Anaheim Resort VehiclePositions\", \"shape_array_key\": \"29d2bbdbeaec1d6888800f85bebf6e33\", \"trip_id\": \"aa6a03fe-f119-44a5-8976-2ad77ceeb89f:6\", \"stop_sequence\": 4, \"gtfs_dataset_key\": \"1051e067d18a76b0a79789f051d5c22b\", \"loop_or_inlining\": 1, \"n_trips\": 8, \"variable\": \"speed_mph\", \"speed\": 3.9698284168936024, \"rounded_speed\": 3}, {\"_gtfs_dataset_name\": \"Anaheim Resort VehiclePositions\", \"shape_array_key\": \"29d2bbdbeaec1d6888800f85bebf6e33\", \"trip_id\": \"aa6a03fe-f119-44a5-8976-2ad77ceeb89f:7\", \"stop_sequence\": 4, \"gtfs_dataset_key\": \"1051e067d18a76b0a79789f051d5c22b\", \"loop_or_inlining\": 1, \"n_trips\": 8, \"variable\": \"speed_mph\", \"speed\": 5.037482591588582, \"rounded_speed\": 5}, {\"_gtfs_dataset_name\": \"Anaheim Resort VehiclePositions\", \"shape_array_key\": \"29d2bbdbeaec1d6888800f85bebf6e33\", \"trip_id\": \"aa6a03fe-f119-44a5-8976-2ad77ceeb89f:8\", \"stop_sequence\": 4, \"gtfs_dataset_key\": \"1051e067d18a76b0a79789f051d5c22b\", \"loop_or_inlining\": 1, \"n_trips\": 8, \"variable\": \"speed_mph\", \"speed\": 5.791917032267774, \"rounded_speed\": 5}, {\"_gtfs_dataset_name\": \"Anaheim Resort VehiclePositions\", \"shape_array_key\": \"29d2bbdbeaec1d6888800f85bebf6e33\", \"trip_id\": \"aa6a03fe-f119-44a5-8976-2ad77ceeb89f:5\", \"stop_sequence\": 5, \"gtfs_dataset_key\": \"1051e067d18a76b0a79789f051d5c22b\", \"loop_or_inlining\": 1, \"n_trips\": 8, \"variable\": \"speed_mph\", \"speed\": 0.4003327895449103, \"rounded_speed\": 0}, {\"_gtfs_dataset_name\": \"Anaheim Resort VehiclePositions\", \"shape_array_key\": \"29d2bbdbeaec1d6888800f85bebf6e33\", \"trip_id\": \"aa6a03fe-f119-44a5-8976-2ad77ceeb89f:1\", \"stop_sequence\": 5, \"gtfs_dataset_key\": \"1051e067d18a76b0a79789f051d5c22b\", \"loop_or_inlining\": 1, \"n_trips\": 8, \"variable\": \"speed_mph\", \"speed\": 0.3649171881347712, \"rounded_speed\": 0}, {\"_gtfs_dataset_name\": \"Anaheim Resort VehiclePositions\", \"shape_array_key\": \"29d2bbdbeaec1d6888800f85bebf6e33\", \"trip_id\": \"aa6a03fe-f119-44a5-8976-2ad77ceeb89f:6\", \"stop_sequence\": 5, \"gtfs_dataset_key\": \"1051e067d18a76b0a79789f051d5c22b\", \"loop_or_inlining\": 1, \"n_trips\": 8, \"variable\": \"speed_mph\", \"speed\": 0.9530712497677587, \"rounded_speed\": 0}, {\"_gtfs_dataset_name\": \"Anaheim Resort VehiclePositions\", \"shape_array_key\": \"29d2bbdbeaec1d6888800f85bebf6e33\", \"trip_id\": \"aa6a03fe-f119-44a5-8976-2ad77ceeb89f:2\", \"stop_sequence\": 5, \"gtfs_dataset_key\": \"1051e067d18a76b0a79789f051d5c22b\", \"loop_or_inlining\": 1, \"n_trips\": 8, \"variable\": \"speed_mph\", \"speed\": 0.9438630959548601, \"rounded_speed\": 0}, {\"_gtfs_dataset_name\": \"Anaheim Resort VehiclePositions\", \"shape_array_key\": \"29d2bbdbeaec1d6888800f85bebf6e33\", \"trip_id\": \"aa6a03fe-f119-44a5-8976-2ad77ceeb89f:4\", \"stop_sequence\": 5, \"gtfs_dataset_key\": \"1051e067d18a76b0a79789f051d5c22b\", \"loop_or_inlining\": 1, \"n_trips\": 8, \"variable\": \"speed_mph\", \"speed\": 0.7386749715210611, \"rounded_speed\": 0}, {\"_gtfs_dataset_name\": \"Anaheim Resort VehiclePositions\", \"shape_array_key\": \"29d2bbdbeaec1d6888800f85bebf6e33\", \"trip_id\": \"aa6a03fe-f119-44a5-8976-2ad77ceeb89f:7\", \"stop_sequence\": 5, \"gtfs_dataset_key\": \"1051e067d18a76b0a79789f051d5c22b\", \"loop_or_inlining\": 1, \"n_trips\": 8, \"variable\": \"speed_mph\", \"speed\": 0.858355583120451, \"rounded_speed\": 0}, {\"_gtfs_dataset_name\": \"Anaheim Resort VehiclePositions\", \"shape_array_key\": \"29d2bbdbeaec1d6888800f85bebf6e33\", \"trip_id\": \"aa6a03fe-f119-44a5-8976-2ad77ceeb89f:8\", \"stop_sequence\": 5, \"gtfs_dataset_key\": \"1051e067d18a76b0a79789f051d5c22b\", \"loop_or_inlining\": 1, \"n_trips\": 8, \"variable\": \"speed_mph\", \"speed\": 0.030505310606709555, \"rounded_speed\": 0}, {\"_gtfs_dataset_name\": \"Anaheim Resort VehiclePositions\", \"shape_array_key\": \"29d2bbdbeaec1d6888800f85bebf6e33\", \"trip_id\": \"aa6a03fe-f119-44a5-8976-2ad77ceeb89f:3\", \"stop_sequence\": 5, \"gtfs_dataset_key\": \"1051e067d18a76b0a79789f051d5c22b\", \"loop_or_inlining\": 1, \"n_trips\": 8, \"variable\": \"speed_mph\", \"speed\": 0.6211284606682089, \"rounded_speed\": 0}, {\"_gtfs_dataset_name\": \"Anaheim Resort VehiclePositions\", \"shape_array_key\": \"29d2bbdbeaec1d6888800f85bebf6e33\", \"trip_id\": \"aa6a03fe-f119-44a5-8976-2ad77ceeb89f:1\", \"stop_sequence\": 6, \"gtfs_dataset_key\": \"1051e067d18a76b0a79789f051d5c22b\", \"loop_or_inlining\": 1, \"n_trips\": 8, \"variable\": \"speed_mph\", \"speed\": 3.1778058596745042, \"rounded_speed\": 3}, {\"_gtfs_dataset_name\": \"Anaheim Resort VehiclePositions\", \"shape_array_key\": \"29d2bbdbeaec1d6888800f85bebf6e33\", \"trip_id\": \"aa6a03fe-f119-44a5-8976-2ad77ceeb89f:7\", \"stop_sequence\": 6, \"gtfs_dataset_key\": \"1051e067d18a76b0a79789f051d5c22b\", \"loop_or_inlining\": 1, \"n_trips\": 8, \"variable\": \"speed_mph\", \"speed\": 3.115495940857357, \"rounded_speed\": 3}, {\"_gtfs_dataset_name\": \"Anaheim Resort VehiclePositions\", \"shape_array_key\": \"29d2bbdbeaec1d6888800f85bebf6e33\", \"trip_id\": \"aa6a03fe-f119-44a5-8976-2ad77ceeb89f:5\", \"stop_sequence\": 6, \"gtfs_dataset_key\": \"1051e067d18a76b0a79789f051d5c22b\", \"loop_or_inlining\": 1, \"n_trips\": 8, \"variable\": \"speed_mph\", \"speed\": 3.0713753901508745, \"rounded_speed\": 3}, {\"_gtfs_dataset_name\": \"Anaheim Resort VehiclePositions\", \"shape_array_key\": \"29d2bbdbeaec1d6888800f85bebf6e33\", \"trip_id\": \"aa6a03fe-f119-44a5-8976-2ad77ceeb89f:8\", \"stop_sequence\": 6, \"gtfs_dataset_key\": \"1051e067d18a76b0a79789f051d5c22b\", \"loop_or_inlining\": 1, \"n_trips\": 8, \"variable\": \"speed_mph\", \"speed\": 1.6049524543810627, \"rounded_speed\": 1}, {\"_gtfs_dataset_name\": \"Anaheim Resort VehiclePositions\", \"shape_array_key\": \"29d2bbdbeaec1d6888800f85bebf6e33\", \"trip_id\": \"aa6a03fe-f119-44a5-8976-2ad77ceeb89f:4\", \"stop_sequence\": 6, \"gtfs_dataset_key\": \"1051e067d18a76b0a79789f051d5c22b\", \"loop_or_inlining\": 1, \"n_trips\": 8, \"variable\": \"speed_mph\", \"speed\": 0.0, \"rounded_speed\": 0}, {\"_gtfs_dataset_name\": \"Anaheim Resort VehiclePositions\", \"shape_array_key\": \"29d2bbdbeaec1d6888800f85bebf6e33\", \"trip_id\": \"aa6a03fe-f119-44a5-8976-2ad77ceeb89f:6\", \"stop_sequence\": 6, \"gtfs_dataset_key\": \"1051e067d18a76b0a79789f051d5c22b\", \"loop_or_inlining\": 1, \"n_trips\": 8, \"variable\": \"speed_mph\", \"speed\": 3.4755251261789124, \"rounded_speed\": 3}, {\"_gtfs_dataset_name\": \"Anaheim Resort VehiclePositions\", \"shape_array_key\": \"29d2bbdbeaec1d6888800f85bebf6e33\", \"trip_id\": \"aa6a03fe-f119-44a5-8976-2ad77ceeb89f:3\", \"stop_sequence\": 6, \"gtfs_dataset_key\": \"1051e067d18a76b0a79789f051d5c22b\", \"loop_or_inlining\": 1, \"n_trips\": 8, \"variable\": \"speed_mph\", \"speed\": 5.165479973825983, \"rounded_speed\": 5}, {\"_gtfs_dataset_name\": \"Anaheim Resort VehiclePositions\", \"shape_array_key\": \"29d2bbdbeaec1d6888800f85bebf6e33\", \"trip_id\": \"aa6a03fe-f119-44a5-8976-2ad77ceeb89f:2\", \"stop_sequence\": 6, \"gtfs_dataset_key\": \"1051e067d18a76b0a79789f051d5c22b\", \"loop_or_inlining\": 1, \"n_trips\": 8, \"variable\": \"speed_mph\", \"speed\": 0.10638895159918775, \"rounded_speed\": 0}, {\"_gtfs_dataset_name\": \"Anaheim Resort VehiclePositions\", \"shape_array_key\": \"29d2bbdbeaec1d6888800f85bebf6e33\", \"trip_id\": \"aa6a03fe-f119-44a5-8976-2ad77ceeb89f:4\", \"stop_sequence\": 7, \"gtfs_dataset_key\": \"1051e067d18a76b0a79789f051d5c22b\", \"loop_or_inlining\": 1, \"n_trips\": 8, \"variable\": \"speed_mph\", \"speed\": 3.7270936120609353, \"rounded_speed\": 3}, {\"_gtfs_dataset_name\": \"Anaheim Resort VehiclePositions\", \"shape_array_key\": \"29d2bbdbeaec1d6888800f85bebf6e33\", \"trip_id\": \"aa6a03fe-f119-44a5-8976-2ad77ceeb89f:2\", \"stop_sequence\": 7, \"gtfs_dataset_key\": \"1051e067d18a76b0a79789f051d5c22b\", \"loop_or_inlining\": 1, \"n_trips\": 8, \"variable\": \"speed_mph\", \"speed\": 4.198388039106803, \"rounded_speed\": 4}, {\"_gtfs_dataset_name\": \"Anaheim Resort VehiclePositions\", \"shape_array_key\": \"29d2bbdbeaec1d6888800f85bebf6e33\", \"trip_id\": \"aa6a03fe-f119-44a5-8976-2ad77ceeb89f:7\", \"stop_sequence\": 7, \"gtfs_dataset_key\": \"1051e067d18a76b0a79789f051d5c22b\", \"loop_or_inlining\": 1, \"n_trips\": 8, \"variable\": \"speed_mph\", \"speed\": 4.398551656884758, \"rounded_speed\": 4}, {\"_gtfs_dataset_name\": \"Anaheim Resort VehiclePositions\", \"shape_array_key\": \"29d2bbdbeaec1d6888800f85bebf6e33\", \"trip_id\": \"aa6a03fe-f119-44a5-8976-2ad77ceeb89f:5\", \"stop_sequence\": 7, \"gtfs_dataset_key\": \"1051e067d18a76b0a79789f051d5c22b\", \"loop_or_inlining\": 1, \"n_trips\": 8, \"variable\": \"speed_mph\", \"speed\": 1.5965853186573182, \"rounded_speed\": 1}, {\"_gtfs_dataset_name\": \"Anaheim Resort VehiclePositions\", \"shape_array_key\": \"29d2bbdbeaec1d6888800f85bebf6e33\", \"trip_id\": \"aa6a03fe-f119-44a5-8976-2ad77ceeb89f:8\", \"stop_sequence\": 7, \"gtfs_dataset_key\": \"1051e067d18a76b0a79789f051d5c22b\", \"loop_or_inlining\": 1, \"n_trips\": 8, \"variable\": \"speed_mph\", \"speed\": 4.382712794175961, \"rounded_speed\": 4}, {\"_gtfs_dataset_name\": \"Anaheim Resort VehiclePositions\", \"shape_array_key\": \"29d2bbdbeaec1d6888800f85bebf6e33\", \"trip_id\": \"aa6a03fe-f119-44a5-8976-2ad77ceeb89f:1\", \"stop_sequence\": 7, \"gtfs_dataset_key\": \"1051e067d18a76b0a79789f051d5c22b\", \"loop_or_inlining\": 1, \"n_trips\": 8, \"variable\": \"speed_mph\", \"speed\": 5.728926171239877, \"rounded_speed\": 5}, {\"_gtfs_dataset_name\": \"Anaheim Resort VehiclePositions\", \"shape_array_key\": \"29d2bbdbeaec1d6888800f85bebf6e33\", \"trip_id\": \"aa6a03fe-f119-44a5-8976-2ad77ceeb89f:6\", \"stop_sequence\": 7, \"gtfs_dataset_key\": \"1051e067d18a76b0a79789f051d5c22b\", \"loop_or_inlining\": 1, \"n_trips\": 8, \"variable\": \"speed_mph\", \"speed\": 3.8511807031171434, \"rounded_speed\": 3}, {\"_gtfs_dataset_name\": \"Anaheim Resort VehiclePositions\", \"shape_array_key\": \"29d2bbdbeaec1d6888800f85bebf6e33\", \"trip_id\": \"aa6a03fe-f119-44a5-8976-2ad77ceeb89f:3\", \"stop_sequence\": 7, \"gtfs_dataset_key\": \"1051e067d18a76b0a79789f051d5c22b\", \"loop_or_inlining\": 1, \"n_trips\": 8, \"variable\": \"speed_mph\", \"speed\": 2.665992305539968, \"rounded_speed\": 2}, {\"_gtfs_dataset_name\": \"Anaheim Resort VehiclePositions\", \"shape_array_key\": \"29d2bbdbeaec1d6888800f85bebf6e33\", \"trip_id\": \"aa6a03fe-f119-44a5-8976-2ad77ceeb89f:5\", \"stop_sequence\": 8, \"gtfs_dataset_key\": \"1051e067d18a76b0a79789f051d5c22b\", \"loop_or_inlining\": 1, \"n_trips\": 8, \"variable\": \"speed_mph\", \"speed\": 3.3531660450484737, \"rounded_speed\": 3}, {\"_gtfs_dataset_name\": \"Anaheim Resort VehiclePositions\", \"shape_array_key\": \"29d2bbdbeaec1d6888800f85bebf6e33\", \"trip_id\": \"aa6a03fe-f119-44a5-8976-2ad77ceeb89f:7\", \"stop_sequence\": 8, \"gtfs_dataset_key\": \"1051e067d18a76b0a79789f051d5c22b\", \"loop_or_inlining\": 1, \"n_trips\": 8, \"variable\": \"speed_mph\", \"speed\": 4.7153897508494165, \"rounded_speed\": 4}, {\"_gtfs_dataset_name\": \"Anaheim Resort VehiclePositions\", \"shape_array_key\": \"29d2bbdbeaec1d6888800f85bebf6e33\", \"trip_id\": \"aa6a03fe-f119-44a5-8976-2ad77ceeb89f:4\", \"stop_sequence\": 8, \"gtfs_dataset_key\": \"1051e067d18a76b0a79789f051d5c22b\", \"loop_or_inlining\": 1, \"n_trips\": 8, \"variable\": \"speed_mph\", \"speed\": 7.496716773745876, \"rounded_speed\": 7}, {\"_gtfs_dataset_name\": \"Anaheim Resort VehiclePositions\", \"shape_array_key\": \"29d2bbdbeaec1d6888800f85bebf6e33\", \"trip_id\": \"aa6a03fe-f119-44a5-8976-2ad77ceeb89f:1\", \"stop_sequence\": 8, \"gtfs_dataset_key\": \"1051e067d18a76b0a79789f051d5c22b\", \"loop_or_inlining\": 1, \"n_trips\": 8, \"variable\": \"speed_mph\", \"speed\": 7.196793712874587, \"rounded_speed\": 7}, {\"_gtfs_dataset_name\": \"Anaheim Resort VehiclePositions\", \"shape_array_key\": \"29d2bbdbeaec1d6888800f85bebf6e33\", \"trip_id\": \"aa6a03fe-f119-44a5-8976-2ad77ceeb89f:6\", \"stop_sequence\": 8, \"gtfs_dataset_key\": \"1051e067d18a76b0a79789f051d5c22b\", \"loop_or_inlining\": 1, \"n_trips\": 8, \"variable\": \"speed_mph\", \"speed\": 4.5885013672940875, \"rounded_speed\": 4}, {\"_gtfs_dataset_name\": \"Anaheim Resort VehiclePositions\", \"shape_array_key\": \"29d2bbdbeaec1d6888800f85bebf6e33\", \"trip_id\": \"aa6a03fe-f119-44a5-8976-2ad77ceeb89f:2\", \"stop_sequence\": 8, \"gtfs_dataset_key\": \"1051e067d18a76b0a79789f051d5c22b\", \"loop_or_inlining\": 1, \"n_trips\": 8, \"variable\": \"speed_mph\", \"speed\": 3.9708545270310878, \"rounded_speed\": 3}, {\"_gtfs_dataset_name\": \"Anaheim Resort VehiclePositions\", \"shape_array_key\": \"29d2bbdbeaec1d6888800f85bebf6e33\", \"trip_id\": \"aa6a03fe-f119-44a5-8976-2ad77ceeb89f:3\", \"stop_sequence\": 8, \"gtfs_dataset_key\": \"1051e067d18a76b0a79789f051d5c22b\", \"loop_or_inlining\": 1, \"n_trips\": 8, \"variable\": \"speed_mph\", \"speed\": 4.619157306954531, \"rounded_speed\": 4}, {\"_gtfs_dataset_name\": \"Anaheim Resort VehiclePositions\", \"shape_array_key\": \"29d2bbdbeaec1d6888800f85bebf6e33\", \"trip_id\": \"aa6a03fe-f119-44a5-8976-2ad77ceeb89f:5\", \"stop_sequence\": 9, \"gtfs_dataset_key\": \"1051e067d18a76b0a79789f051d5c22b\", \"loop_or_inlining\": 1, \"n_trips\": 8, \"variable\": \"speed_mph\", \"speed\": 2.493484490013982, \"rounded_speed\": 2}, {\"_gtfs_dataset_name\": \"Anaheim Resort VehiclePositions\", \"shape_array_key\": \"29d2bbdbeaec1d6888800f85bebf6e33\", \"trip_id\": \"aa6a03fe-f119-44a5-8976-2ad77ceeb89f:2\", \"stop_sequence\": 9, \"gtfs_dataset_key\": \"1051e067d18a76b0a79789f051d5c22b\", \"loop_or_inlining\": 1, \"n_trips\": 8, \"variable\": \"speed_mph\", \"speed\": 2.8256576669091813, \"rounded_speed\": 2}, {\"_gtfs_dataset_name\": \"Anaheim Resort VehiclePositions\", \"shape_array_key\": \"29d2bbdbeaec1d6888800f85bebf6e33\", \"trip_id\": \"aa6a03fe-f119-44a5-8976-2ad77ceeb89f:3\", \"stop_sequence\": 9, \"gtfs_dataset_key\": \"1051e067d18a76b0a79789f051d5c22b\", \"loop_or_inlining\": 1, \"n_trips\": 8, \"variable\": \"speed_mph\", \"speed\": 5.097026478490071, \"rounded_speed\": 5}, {\"_gtfs_dataset_name\": \"Anaheim Resort VehiclePositions\", \"shape_array_key\": \"29d2bbdbeaec1d6888800f85bebf6e33\", \"trip_id\": \"aa6a03fe-f119-44a5-8976-2ad77ceeb89f:7\", \"stop_sequence\": 9, \"gtfs_dataset_key\": \"1051e067d18a76b0a79789f051d5c22b\", \"loop_or_inlining\": 1, \"n_trips\": 8, \"variable\": \"speed_mph\", \"speed\": 6.445079680812759, \"rounded_speed\": 6}, {\"_gtfs_dataset_name\": \"Anaheim Resort VehiclePositions\", \"shape_array_key\": \"29d2bbdbeaec1d6888800f85bebf6e33\", \"trip_id\": \"aa6a03fe-f119-44a5-8976-2ad77ceeb89f:8\", \"stop_sequence\": 9, \"gtfs_dataset_key\": \"1051e067d18a76b0a79789f051d5c22b\", \"loop_or_inlining\": 1, \"n_trips\": 8, \"variable\": \"speed_mph\", \"speed\": 7.1546699425272715, \"rounded_speed\": 7}, {\"_gtfs_dataset_name\": \"Anaheim Resort VehiclePositions\", \"shape_array_key\": \"29d2bbdbeaec1d6888800f85bebf6e33\", \"trip_id\": \"aa6a03fe-f119-44a5-8976-2ad77ceeb89f:1\", \"stop_sequence\": 9, \"gtfs_dataset_key\": \"1051e067d18a76b0a79789f051d5c22b\", \"loop_or_inlining\": 1, \"n_trips\": 8, \"variable\": \"speed_mph\", \"speed\": 7.02608980528985, \"rounded_speed\": 7}, {\"_gtfs_dataset_name\": \"Anaheim Resort VehiclePositions\", \"shape_array_key\": \"29d2bbdbeaec1d6888800f85bebf6e33\", \"trip_id\": \"aa6a03fe-f119-44a5-8976-2ad77ceeb89f:6\", \"stop_sequence\": 9, \"gtfs_dataset_key\": \"1051e067d18a76b0a79789f051d5c22b\", \"loop_or_inlining\": 1, \"n_trips\": 8, \"variable\": \"speed_mph\", \"speed\": 5.383246629950887, \"rounded_speed\": 5}, {\"_gtfs_dataset_name\": \"Anaheim Resort VehiclePositions\", \"shape_array_key\": \"29d2bbdbeaec1d6888800f85bebf6e33\", \"trip_id\": \"aa6a03fe-f119-44a5-8976-2ad77ceeb89f:4\", \"stop_sequence\": 9, \"gtfs_dataset_key\": \"1051e067d18a76b0a79789f051d5c22b\", \"loop_or_inlining\": 1, \"n_trips\": 8, \"variable\": \"speed_mph\", \"speed\": 3.2376216720996656, \"rounded_speed\": 3}]}}, {\"mode\": \"vega-lite\"});\n",
       "</script>"
      ],
      "text/plain": [
       "alt.LayerChart(...)"
      ]
     },
     "execution_count": 222,
     "metadata": {},
     "output_type": "execute_result"
    }
   ],
   "source": [
    "chart1 + chart4"
   ]
  },
  {
   "cell_type": "code",
   "execution_count": 223,
   "id": "d0711d85-603d-43e7-9a78-360dee0006c5",
   "metadata": {},
   "outputs": [],
   "source": [
    "def alt_dropdown(df, col_for_dropdown:str, dropdown_menu_title:str):\n",
    "    # Create dropdown menu\n",
    "    # Exclude \"none\" operators which are only scheduled data\n",
    "    df = df.loc[df[col_for_dropdown] != \"None\"][[col_for_dropdown]]\n",
    "    dropdown_list = df[col_for_dropdown].unique().tolist()\n",
    "    \n",
    "    # Show only first operator by default\n",
    "    initialize_first_op = sorted(dropdown_list)[0]\n",
    "    input_dropdown = alt.binding_select(options=sorted(dropdown_list), name=dropdown_menu_title)\n",
    "    \n",
    "    selection = alt.selection_single(name= dropdown_menu_title,fields=[col_for_dropdown],\n",
    "    bind=input_dropdown, init={col_for_dropdown: initialize_first_op})\n",
    "                 \n",
    "    return selection"
   ]
  }
 ],
 "metadata": {
  "kernelspec": {
   "display_name": "Python 3 (ipykernel)",
   "language": "python",
   "name": "python3"
  },
  "language_info": {
   "codemirror_mode": {
    "name": "ipython",
    "version": 3
   },
   "file_extension": ".py",
   "mimetype": "text/x-python",
   "name": "python",
   "nbconvert_exporter": "python",
   "pygments_lexer": "ipython3",
   "version": "3.9.13"
  }
 },
 "nbformat": 4,
 "nbformat_minor": 5
}
