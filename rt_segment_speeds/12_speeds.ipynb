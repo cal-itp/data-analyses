{
 "cells": [
  {
   "cell_type": "code",
   "execution_count": null,
   "id": "2c7feec3-aa18-42ab-94b9-cab4be608152",
   "metadata": {},
   "outputs": [],
   "source": [
    "import _threshold_utils as threshold_utils\n",
    "import _speed_utils as speed_utils\n",
    "import altair as alt\n",
    "\n",
    "import pandas as pd\n",
    "import geopandas as gpd\n",
    "from segment_speed_utils.project_vars import analysis_date\n",
    "from segment_speed_utils import gtfs_schedule_wrangling, helpers, segment_calcs\n",
    "from shared_utils import calitp_color_palette as cp\n",
    "\n",
    "import dask.dataframe as dd"
   ]
  },
  {
   "cell_type": "code",
   "execution_count": null,
   "id": "0108ae4a-4518-4487-85f7-a5faa3e9cbf6",
   "metadata": {},
   "outputs": [],
   "source": [
    "pd.options.display.max_columns = 100\n",
    "pd.options.display.float_format = \"{:.2f}\".format\n",
    "pd.set_option(\"display.max_rows\", None)\n",
    "pd.set_option(\"display.max_colwidth\", None)"
   ]
  },
  {
   "cell_type": "code",
   "execution_count": null,
   "id": "1e9f79a4-5921-4e8c-82c5-3b414f677cf8",
   "metadata": {
    "tags": []
   },
   "outputs": [],
   "source": [
    "# Flag\n",
    "# routes_many_stops_df, routes_many_stops_list = speed_utils.find_shapes_with_many_stops(analysis_date)"
   ]
  },
  {
   "cell_type": "markdown",
   "id": "35c1ba95-5929-4a7f-bfae-f6d126622104",
   "metadata": {},
   "source": [
    "### Merging"
   ]
  },
  {
   "cell_type": "code",
   "execution_count": null,
   "id": "c3ab6f3f-2982-4466-aa76-06c7a235c62e",
   "metadata": {},
   "outputs": [],
   "source": [
    "avg_speeds = (pd.read_parquet(f\"{speed_utils.GCS_PATH}avg_speeds_stop_segments_{analysis_date}.parquet\")\n",
    "              .drop(columns = ['geometry','geometry_arrowized','district','district_name'])\n",
    "             )"
   ]
  },
  {
   "cell_type": "code",
   "execution_count": null,
   "id": "8185a464-5ca2-43bb-89f6-062ee01b5e2d",
   "metadata": {},
   "outputs": [],
   "source": [
    "speeds = pd.read_parquet(f\"{speed_utils.GCS_PATH}speeds_stop_segments_{analysis_date}\")"
   ]
  },
  {
   "cell_type": "code",
   "execution_count": null,
   "id": "01e1b2ad-edb7-4021-825f-612f070db139",
   "metadata": {},
   "outputs": [],
   "source": [
    "avg_speeds.sample()"
   ]
  },
  {
   "cell_type": "code",
   "execution_count": null,
   "id": "4623eaa7-4594-4155-859d-af997094c3de",
   "metadata": {},
   "outputs": [],
   "source": [
    "speeds.sample()"
   ]
  },
  {
   "cell_type": "code",
   "execution_count": null,
   "id": "bbc7804a-550a-40fa-a25f-7694b057c9b7",
   "metadata": {},
   "outputs": [],
   "source": [
    "merge_cols = ['gtfs_dataset_key','shape_array_key', 'stop_sequence']\n",
    "merge1 = pd.merge(avg_speeds, speeds, on = merge_cols, how = 'inner')"
   ]
  },
  {
   "cell_type": "code",
   "execution_count": null,
   "id": "34c64e59-0379-4edf-a87f-ec621c0b668b",
   "metadata": {},
   "outputs": [],
   "source": [
    "merge1.sample()"
   ]
  },
  {
   "cell_type": "code",
   "execution_count": null,
   "id": "7fa72f28-fd46-4fd9-9f4a-120812a482da",
   "metadata": {},
   "outputs": [],
   "source": [
    "segments_file =  \"stop_segments\""
   ]
  },
  {
   "cell_type": "code",
   "execution_count": null,
   "id": "77f1e38e-6dc4-4e79-9eed-569375a133fe",
   "metadata": {},
   "outputs": [],
   "source": [
    "stop_segments = (pd.read_parquet(\n",
    "        f\"{speed_utils.GCS_PATH}{segments_file}_{analysis_date}.parquet\")\n",
    "        .drop(columns = ['geometry','geometry_arrowized'])\n",
    "                )"
   ]
  },
  {
   "cell_type": "code",
   "execution_count": null,
   "id": "cdaf396a-49d0-4da6-a3f8-3080f1f838b0",
   "metadata": {},
   "outputs": [],
   "source": [
    "stop_segments.sample()"
   ]
  },
  {
   "cell_type": "code",
   "execution_count": null,
   "id": "b994dc1c-2a11-4376-9d43-f61db486e6eb",
   "metadata": {},
   "outputs": [],
   "source": [
    "# pd.merge(stop_segments, merge1, on = ['gtfs_dataset_key','shape_array_key','stop_sequence','loop_or_inlining'], how = \"inner\", indicator = True)[['_merge']].value_counts()"
   ]
  },
  {
   "cell_type": "code",
   "execution_count": null,
   "id": "e510e28b-a179-41d7-b738-e50edb26d878",
   "metadata": {},
   "outputs": [],
   "source": [
    "merge1.shape"
   ]
  },
  {
   "cell_type": "code",
   "execution_count": null,
   "id": "6483a59e-1d44-4fa9-b057-8ce5230126c2",
   "metadata": {},
   "outputs": [],
   "source": [
    "m1 =  speed_utils.merge_all_speeds(analysis_date)"
   ]
  },
  {
   "cell_type": "code",
   "execution_count": null,
   "id": "e9d651da-95f8-425b-9a7c-28781b70a595",
   "metadata": {},
   "outputs": [],
   "source": [
    "m1.sample()"
   ]
  },
  {
   "cell_type": "code",
   "execution_count": null,
   "id": "20c1eeac-34e6-417c-9354-31cfc3ea9096",
   "metadata": {},
   "outputs": [],
   "source": [
    "# m1.groupby(['shape_array_key']).agg({'trip_id':'nunique'}).sort_values(['trip_id'], ascending = False).head(30)"
   ]
  },
  {
   "cell_type": "markdown",
   "id": "801c89ce-0e7f-4758-a38a-201cc843ef28",
   "metadata": {},
   "source": [
    "#### A few routes"
   ]
  },
  {
   "cell_type": "code",
   "execution_count": null,
   "id": "8ca57e6f-fb38-4381-ac83-cb9dc9fabdf4",
   "metadata": {},
   "outputs": [],
   "source": [
    "test_shapes = [\"6388c0be232f0c745df85d66689a6db0\", \"d8b0826e923620f7b7cd74be090de936\", \"e7012e8847c179f713daee0f158233e4\"]"
   ]
  },
  {
   "cell_type": "code",
   "execution_count": null,
   "id": "6858f9a8-2136-4aab-a099-25907b6ef7ef",
   "metadata": {},
   "outputs": [],
   "source": [
    "# few_routes = merge1.loc[merge1.shape_array_key.isin(test_shapes)].reset_index(drop = True)"
   ]
  },
  {
   "cell_type": "code",
   "execution_count": null,
   "id": "913ac9e5-41ed-43c3-86ad-2b13b141d17c",
   "metadata": {},
   "outputs": [],
   "source": [
    "few_routes = merge1.copy()"
   ]
  },
  {
   "cell_type": "code",
   "execution_count": null,
   "id": "602983ba-8f2e-41cb-9eb8-96e8ede9f58a",
   "metadata": {},
   "outputs": [],
   "source": [
    "few_routes.shape"
   ]
  },
  {
   "cell_type": "code",
   "execution_count": null,
   "id": "f294ff32-b025-4037-9ebc-cefe6dca00b9",
   "metadata": {},
   "outputs": [],
   "source": [
    "few_routes.trip_id.nunique()"
   ]
  },
  {
   "cell_type": "code",
   "execution_count": null,
   "id": "b4f56307-6624-488d-8688-7a9f1e47ff65",
   "metadata": {},
   "outputs": [],
   "source": [
    "def categorize_by_percentile(df, column_percentile:str, column_str:str):\n",
    "    \n",
    "    agg1 = (df\n",
    "               .groupby(['shape_array_key','stop_sequence'])[column_percentile]\n",
    "               .describe(percentiles = [.15,.5,.95])\n",
    "               .reset_index()\n",
    "               .add_prefix(column_str)\n",
    "              )\n",
    "    \n",
    "    merge1 = (pd.merge(df, agg1, how = \"inner\", \n",
    "                      left_on = ['shape_array_key','stop_sequence'],\n",
    "                      right_on =[f'{column_str}shape_array_key', f'{column_str}stop_sequence',])\n",
    "             )\n",
    "    \n",
    "    def percentile(row):\n",
    "           \n",
    "            if (row[column_percentile] == row[f\"{column_str}mean\"]):\n",
    "                return f\"{column_str} elapsed avg\"\n",
    "            elif (row[column_percentile] == row[f\"{column_str}50%\"]):\n",
    "                return f\"{column_str} elapsed avg\"\n",
    "            elif (row[column_percentile] <= row[f\"{column_str}15%\"]):\n",
    "                return f\"{column_str} elapsed low\"\n",
    "            elif (row[column_percentile] < row[f\"{column_str}50%\"]):\n",
    "                return  f\"{column_str} elapsed low\"\n",
    "            elif(row[column_percentile] == 0):\n",
    "                return f\"{column_str} elapsed is 0\"\n",
    "            elif (row[f\"{column_str}50%\"] <= row[column_percentile] < row[f\"{column_str}95%\"]):\n",
    "                return  f\"{column_str} elapsed avg\"\n",
    "            elif (row[column_percentile] >= row[f\"{column_str}95%\"]):\n",
    "                return f\"{column_str} elapsed high\"\n",
    "            \n",
    "            else:\n",
    "                return \"other\"\n",
    "    merge1[f\"{column_str}cat\"] = merge1.apply(lambda x: percentile(x), axis=1)\n",
    "    \n",
    "    return merge1"
   ]
  },
  {
   "cell_type": "code",
   "execution_count": null,
   "id": "441613e4-1d43-4f21-9899-34529cc5c1b9",
   "metadata": {},
   "outputs": [],
   "source": [
    "\"\"\"def mph_categories(row):\n",
    "        if (row[\"speed_mph\"] <= row[\"p20_speed_mph\"]):\n",
    "            return \"speed low\"\n",
    "        elif (row[\"p20_speed_mph\"] < row[\"speed_mph\"] < row[\"p80_speed_mph\"]):\n",
    "            return \"speed average\"\n",
    "        elif (row[\"speed_mph\"] >= row[\"p80_speed_mph\"]):\n",
    "            return \"speed high\"\n",
    "        elif (row[\"speed_mph\"] == 0):\n",
    "            return \"speed is 0\"\n",
    "        else:\n",
    "            return \"other\"\n",
    "            \"\"\""
   ]
  },
  {
   "cell_type": "code",
   "execution_count": null,
   "id": "d80535fb-8648-4216-918f-76e0484ba3ea",
   "metadata": {},
   "outputs": [],
   "source": [
    "def categorize_meters_speeds(df):\n",
    "    df.speed_mph = df.speed_mph.fillna(0)\n",
    "    df = categorize_by_percentile(df, \"meters_elapsed\", \"meters_\")\n",
    "    df = categorize_by_percentile(df, \"sec_elapsed\", \"seconds_\")\n",
    "    df = categorize_by_percentile(df, \"speed_mph\", \"speed_\")\n",
    "    df = df.rename(columns = {'speed_cat':'speed_flags'})\n",
    "    # df['speed_flags'] = df.apply(lambda x: mph_categories(x), axis=1)\n",
    "    return df"
   ]
  },
  {
   "cell_type": "code",
   "execution_count": null,
   "id": "4676866e-674a-4561-bc4f-55dc2dcc4769",
   "metadata": {
    "scrolled": true,
    "tags": []
   },
   "outputs": [],
   "source": [
    "few_routes_cat = categorize_meters_speeds(few_routes)"
   ]
  },
  {
   "cell_type": "code",
   "execution_count": null,
   "id": "1f8fa537-8807-4544-8568-7d999ca9ecac",
   "metadata": {},
   "outputs": [],
   "source": [
    "few_routes_cat.columns"
   ]
  },
  {
   "cell_type": "code",
   "execution_count": null,
   "id": "1e6db506-6e09-49c7-84a1-02160178573d",
   "metadata": {},
   "outputs": [],
   "source": [
    "subset = ['stop_sequence','speed_flags','speed_mph', 'speed_15%', 'speed_50%',\n",
    "       'speed_95%', 'meters_cat',\n",
    "          'meters_elapsed', 'meters_mean','meters_15%', 'meters_50%', 'meters_95%','seconds_cat',\n",
    "          'sec_elapsed', 'seconds_mean','seconds_15%',\n",
    "       'seconds_50%', 'seconds_95%','gtfs_dataset_key',]\n",
    "          "
   ]
  },
  {
   "cell_type": "code",
   "execution_count": null,
   "id": "f5ae87ad-a3a4-4630-ac8c-b7ce711c2fb7",
   "metadata": {},
   "outputs": [],
   "source": [
    "few_routes_cat.speed_flags.value_counts()"
   ]
  },
  {
   "cell_type": "code",
   "execution_count": null,
   "id": "83ede9e9-a76d-4e57-9fac-4cc2ce1af0c5",
   "metadata": {},
   "outputs": [],
   "source": [
    "few_routes_cat.speed_flags.value_counts()/len(few_routes)*100"
   ]
  },
  {
   "cell_type": "code",
   "execution_count": null,
   "id": "e016eb5a-0039-4063-ade4-c871e01c8a16",
   "metadata": {},
   "outputs": [],
   "source": [
    "few_routes_cat.groupby(['speed_flags','meters_cat', 'seconds_cat',]).size()"
   ]
  },
  {
   "cell_type": "code",
   "execution_count": null,
   "id": "87860e54-fd6e-42d1-a38f-613fea4a77e9",
   "metadata": {},
   "outputs": [],
   "source": [
    "#65d9589130415c685b89f4f7c2d8bd7e 65"
   ]
  },
  {
   "cell_type": "code",
   "execution_count": null,
   "id": "bc6df377-9c23-4b01-80de-8c977b797c47",
   "metadata": {},
   "outputs": [],
   "source": [
    "#few_routes_cat[few_routes_cat.speed_flags == \"average\"][subset].sample(3)"
   ]
  },
  {
   "cell_type": "code",
   "execution_count": null,
   "id": "49c58012-004e-4c47-becf-20e7f18895d3",
   "metadata": {},
   "outputs": [],
   "source": [
    "#few_routes_cat[(few_routes_cat.meters_cat == \"meters_ elapsed avg\") & (few_routes_cat.seconds_cat == \"seconds_ elapsed avg\") & (few_routes_cat.speed_flags == \"speed low\")][subset]"
   ]
  },
  {
   "cell_type": "code",
   "execution_count": null,
   "id": "54f38944-af7a-47bf-a799-882899964c6a",
   "metadata": {},
   "outputs": [],
   "source": [
    "#few_routes_cat[(few_routes_cat.meters_cat == \"meters_ elapsed low\") & (few_routes_cat.seconds_cat == \"seconds_ elapsed avg\") & (few_routes_cat.speed_flags == \"speed low\")][subset].sample(3)"
   ]
  },
  {
   "cell_type": "code",
   "execution_count": null,
   "id": "8b28c22b-9b7c-41ab-b3cc-36661c8439e5",
   "metadata": {},
   "outputs": [],
   "source": [
    "#few_routes_cat[(few_routes_cat.meters_cat == \"meters_ elapsed high\") & (few_routes_cat.seconds_cat == \"seconds_ elapsed low\") & (few_routes_cat.speed_flags == \"speed high\")][subset].sample(3)"
   ]
  },
  {
   "cell_type": "code",
   "execution_count": null,
   "id": "0c00506f-00ed-4660-9c88-aa11bc925fd2",
   "metadata": {},
   "outputs": [],
   "source": [
    "# few_routes_cat[(few_routes_cat.meters_cat == \"meters_ elapsed high\") & (few_routes_cat.seconds_cat == \"seconds_ elapsed high\") & (few_routes_cat.speed_flags == \"speed low\")][subset].sample(3)"
   ]
  },
  {
   "cell_type": "code",
   "execution_count": null,
   "id": "17bceddf-6c73-466d-8a8c-115370ab3301",
   "metadata": {},
   "outputs": [],
   "source": [
    "# few_routes_cat[(few_routes_cat.meters_cat == \"meters_ elapsed avg\") & (few_routes_cat.seconds_cat == \"seconds_ elapsed high\") & (few_routes_cat.speed_flags == \"speed low\")][subset].sample(3)"
   ]
  },
  {
   "cell_type": "code",
   "execution_count": null,
   "id": "b8248dd3-c7de-4655-a8a2-9f7b486d01c1",
   "metadata": {
    "scrolled": true,
    "tags": []
   },
   "outputs": [],
   "source": [
    "# few_routes_cat[(few_routes_cat.shape_array_key == \"d8b0826e923620f7b7cd74be090de936\") & (few_routes_cat.stop_sequence == 1)][subset]"
   ]
  },
  {
   "cell_type": "code",
   "execution_count": null,
   "id": "56d7c123-5002-4ba5-916c-ed5d9097126c",
   "metadata": {
    "scrolled": true,
    "tags": []
   },
   "outputs": [],
   "source": [
    "# few_routes_cat[(few_routes_cat.stop_sequence == 65) & (few_routes_cat.gtfs_dataset_key == \"65d9589130415c685b89f4f7c2d8bd7e\")][subset].sort_values(by = ['speed_mph'])"
   ]
  },
  {
   "cell_type": "code",
   "execution_count": null,
   "id": "963353ae-52ab-4ca4-bef5-b3649b6b74c3",
   "metadata": {},
   "outputs": [],
   "source": [
    "def flag(row):\n",
    "        # If distance and time are average, flag as average\n",
    "        if ((row[\"meters_cat\"] == \"meters_ elapsed avg\") & (row[\"seconds_cat\"] ==  \"seconds_ elapsed avg\")):\n",
    "            return \"ok\"\n",
    "             \n",
    "        # Tag as zeroes\n",
    "        elif  ((row[\"meters_cat\"] ==  \"meters_ elapsed is 0\") & (row[\"speed_flags\"] ==  \"speed_ is 0\") & (row[\"seconds_cat\"] ==  \"seconds_ elapsed is 0\")):\n",
    "            return \"zeroes\"\n",
    "        elif (row[\"speed_flags\"] == \"speed_ is 0\"):\n",
    "            return \"zeroes\"\n",
    "        \n",
    "        # If MPH is average, flag as average\n",
    "        elif (row[\"speed_flags\"] ==  \"speed_ elapsed avg\"):\n",
    "            return \"ok\"\n",
    "        # If meters and seconds are high, flag as average\n",
    "        elif  ((row[\"meters_cat\"] ==  \"meters_ elapsed high\") & (row[\"seconds_cat\"] ==  \"seconds_ elapsed high\")):\n",
    "            return \"ok\"\n",
    "        # If meters and seconds are low, flag as average\n",
    "        elif  ((row[\"meters_cat\"] ==  \"meters_ elapsed low\") & (row[\"seconds_cat\"] ==  \"seconds_ elapsed low\")):\n",
    "            return \"ok\"\n",
    "        \n",
    "        # Tag as high\n",
    "        elif  ((row[\"meters_cat\"] != \"meters_ elapsed avg\") & (row[\"seconds_cat\"] !=  \"seconds_ elapsed avg\") & (row[\"speed_flags\"] ==  \"speed_ elapsed high\")):\n",
    "            return \"high\"\n",
    "        elif  ((row[\"seconds_cat\"] ==  \"seconds_ elapsed low\") & (row[\"speed_flags\"] ==  \"speed_ elapsed high\")):\n",
    "            return \"high\"\n",
    "        \n",
    "        # Tag as low \n",
    "        elif  ((row[\"meters_cat\"] != \"meters_ elapsed avg\") & (row[\"seconds_cat\"] !=  \"seconds_ elapsed avg\") & (row[\"speed_flags\"] ==  \"speed_ elapsed low\")):\n",
    "            return \"low\"\n",
    "        elif  ((row[\"seconds_cat\"] ==  \"seconds_ elapsed low\") & (row[\"speed_flags\"] ==  \"speed_ elapsed low\")):\n",
    "            return \"low\"\n",
    "   \n",
    "        else:\n",
    "            return \"other\""
   ]
  },
  {
   "cell_type": "code",
   "execution_count": null,
   "id": "e9994532-e658-480e-b009-8ad7ef6392b5",
   "metadata": {},
   "outputs": [],
   "source": [
    "few_routes_cat[\"unusual_flag\"] = few_routes_cat.apply(lambda x: flag(x), axis=1)"
   ]
  },
  {
   "cell_type": "code",
   "execution_count": null,
   "id": "d7340f9e-62ae-4684-9415-a8d9189fb3f9",
   "metadata": {},
   "outputs": [],
   "source": [
    "few_routes_cat.unusual_flag.value_counts()/len(few_routes_cat)*100"
   ]
  },
  {
   "cell_type": "code",
   "execution_count": null,
   "id": "40c0937e-de60-4508-a2aa-056209649c4b",
   "metadata": {},
   "outputs": [],
   "source": [
    "few_routes_cat.unusual_flag.value_counts()"
   ]
  },
  {
   "cell_type": "code",
   "execution_count": null,
   "id": "9978f816-a208-4dac-9eb8-154ba9e58d6b",
   "metadata": {},
   "outputs": [],
   "source": [
    "# few_routes_cat[few_routes_cat.unusual_flag == \"zeroes\"][subset].sample(10)"
   ]
  },
  {
   "cell_type": "code",
   "execution_count": null,
   "id": "347a8e6b-162a-4079-b258-22017bad83e9",
   "metadata": {},
   "outputs": [],
   "source": [
    "subset2 = ['unusual_flag'] + subset"
   ]
  },
  {
   "cell_type": "code",
   "execution_count": null,
   "id": "43ff6e38-5084-463f-a444-68e3bffdd7cc",
   "metadata": {
    "scrolled": true,
    "tags": []
   },
   "outputs": [],
   "source": [
    "stop_16 = few_routes_cat[(few_routes_cat.stop_sequence == 16) & (few_routes_cat._gtfs_dataset_name == \"Bay Area 511 Muni VehiclePositions\")]"
   ]
  },
  {
   "cell_type": "code",
   "execution_count": null,
   "id": "2ab8bc36-acce-4f25-a30c-528f592795fb",
   "metadata": {},
   "outputs": [],
   "source": [
    "stop_16.speed_mph.describe()"
   ]
  },
  {
   "cell_type": "code",
   "execution_count": null,
   "id": "34575222-8522-47c1-8999-6b53a5d161a3",
   "metadata": {
    "scrolled": true,
    "tags": []
   },
   "outputs": [],
   "source": [
    "stop_16[stop_16.unusual_flag == 'other'][subset2].sort_values(['speed_mph'], ascending = False)"
   ]
  },
  {
   "cell_type": "code",
   "execution_count": null,
   "id": "39405dc0-abe4-4575-8217-d7cddddeb5da",
   "metadata": {
    "scrolled": true,
    "tags": []
   },
   "outputs": [],
   "source": [
    "# few_routes_cat[few_routes_cat.unusual_flag == \"high\"][subset].sample(40)"
   ]
  },
  {
   "cell_type": "code",
   "execution_count": null,
   "id": "2dcf7cef-4822-4617-b93a-988b411d32a8",
   "metadata": {},
   "outputs": [],
   "source": [
    "len(few_routes_cat[few_routes_cat.unusual_flag.isin(['high','low', 'speed is 0'])])/len(few_routes_cat) *100"
   ]
  },
  {
   "cell_type": "markdown",
   "id": "e01d88e4-a3e2-43f1-9591-afe83e8a92cf",
   "metadata": {},
   "source": [
    "#### Should filter even further."
   ]
  },
  {
   "cell_type": "code",
   "execution_count": null,
   "id": "bdd2b274-87a7-4306-8494-f65416ac88fb",
   "metadata": {},
   "outputs": [],
   "source": [
    "high_low_zero = few_routes_cat[few_routes_cat.unusual_flag.isin(['high','low'])].reset_index()"
   ]
  },
  {
   "cell_type": "code",
   "execution_count": null,
   "id": "987d3500-7594-4d12-a9d0-45d2c19999d9",
   "metadata": {},
   "outputs": [],
   "source": [
    "high_low_zero.shape"
   ]
  },
  {
   "cell_type": "code",
   "execution_count": null,
   "id": "8b912560-11ed-4aad-bcc3-ffb9e7966c24",
   "metadata": {
    "scrolled": true,
    "tags": []
   },
   "outputs": [],
   "source": [
    "# To plot\n",
    "#all_trips = one_route3.melt(id_vars=[ '_gtfs_dataset_name','shape_array_key','trip_id', 'stop_sequence','gtfs_dataset_key','loop_or_inlining',\n",
    "#'n_trips'], value_vars=['avg_speed_mph','speed_mph','p20_speed_mph', 'p80_speed_mph'])"
   ]
  },
  {
   "cell_type": "code",
   "execution_count": null,
   "id": "bc09e6d6-9811-4c50-9f61-e00af00f0b83",
   "metadata": {},
   "outputs": [],
   "source": [
    "\n",
    "#all_trips = all_trips.drop_duplicates(subset = [ '_gtfs_dataset_name','shape_array_key','stop_sequence','gtfs_dataset_key','variable','value']).reset_index(drop = True)"
   ]
  },
  {
   "cell_type": "markdown",
   "id": "cde431f9-10ad-484f-b954-dd3c13a6e683",
   "metadata": {},
   "source": [
    "#### Other ideas\n",
    "* Show which stops are excluded from flags\n",
    "* Show how many stops are dropped\n",
    "* Show % of stops that were flagged compared to total stops."
   ]
  },
  {
   "cell_type": "code",
   "execution_count": null,
   "id": "d8e7c115-8a6f-44f3-a830-82f491a9dcec",
   "metadata": {},
   "outputs": [],
   "source": [
    "high_low_zero.shape"
   ]
  },
  {
   "cell_type": "code",
   "execution_count": null,
   "id": "aae6b6c0-ce47-4ca1-b104-68b39ebcf2ca",
   "metadata": {},
   "outputs": [],
   "source": [
    "high_low_zero2 = high_low_zero.melt(id_vars=[ '_gtfs_dataset_name','shape_array_key','trip_id', 'stop_sequence','gtfs_dataset_key','loop_or_inlining',\n",
    "'n_trips', 'meters_cat', 'seconds_cat','unusual_flag'], value_vars=['avg_speed_mph','speed_mph','p20_speed_mph', 'p80_speed_mph'])"
   ]
  },
  {
   "cell_type": "code",
   "execution_count": null,
   "id": "767abd20-d030-42d3-b85f-6d3023d69b8a",
   "metadata": {},
   "outputs": [],
   "source": [
    "\n",
    "high_low_zero2 = high_low_zero2.drop_duplicates(subset = [ '_gtfs_dataset_name','shape_array_key','stop_sequence','gtfs_dataset_key','variable','value']).reset_index(drop = True)"
   ]
  },
  {
   "cell_type": "code",
   "execution_count": null,
   "id": "2700b237-71c0-460b-acba-3d5f3e00d3c0",
   "metadata": {},
   "outputs": [],
   "source": [
    "# high_low_zero2 = high_low_zero2[high_low_zero2.variable.isin(['avg_speed_mph','speed_"
   ]
  },
  {
   "cell_type": "code",
   "execution_count": null,
   "id": "072f39d9-4bf9-4efc-a393-24f096cecf7e",
   "metadata": {},
   "outputs": [],
   "source": [
    "def alt_dropdown(df, col_for_dropdown:str, dropdown_menu_title:str):\n",
    "    # Create dropdown menu\n",
    "    # Exclude \"none\" operators which are only scheduled data\n",
    "    df = df.loc[df[col_for_dropdown] != \"None\"][[col_for_dropdown]]\n",
    "    dropdown_list = df[col_for_dropdown].unique().tolist()\n",
    "    \n",
    "    # Show only first operator by default\n",
    "    initialize_first_op = sorted(dropdown_list)[0]\n",
    "    input_dropdown = alt.binding_select(options=sorted(dropdown_list), name=dropdown_menu_title)\n",
    "    \n",
    "    selection = alt.selection_single(name= dropdown_menu_title,fields=[col_for_dropdown],\n",
    "    bind=input_dropdown, init={col_for_dropdown: initialize_first_op})\n",
    "                 \n",
    "    return selection"
   ]
  },
  {
   "cell_type": "code",
   "execution_count": null,
   "id": "b7b429be-057c-4692-927e-92107b015ae6",
   "metadata": {},
   "outputs": [],
   "source": [
    "selection_test = alt_dropdown(high_low_zero2, \"shape_array_key\", \"Route\")"
   ]
  },
  {
   "cell_type": "code",
   "execution_count": null,
   "id": "6067e93b-3519-45fc-b027-11cbcc82d80f",
   "metadata": {},
   "outputs": [],
   "source": [
    "threshold_utils.chart_size(alt.Chart(high_low_zero2).mark_tick(size=15,thickness=5,).encode(\n",
    "    x='stop_sequence:N',\n",
    "    y='value:Q',\n",
    "    color=alt.Color(\"variable:N\",scale=alt.Scale(range=cp.CALITP_CATEGORY_BRIGHT_COLORS)),\n",
    "    tooltip=high_low_zero2.columns.tolist()\n",
    ").interactive(), 900, 400).add_selection(selection_test).transform_filter(selection_test)\n"
   ]
  },
  {
   "cell_type": "markdown",
   "id": "5816ef70-bc10-4b87-b587-73f3789c5674",
   "metadata": {},
   "source": [
    "### Charts  \n",
    "Test with a few routes first\n",
    "* Create new col that rounds up speed for plotting purposes only."
   ]
  },
  {
   "cell_type": "markdown",
   "id": "c1b099f7-c8e3-4c37-a70d-e765763448d7",
   "metadata": {
    "tags": []
   },
   "source": [
    "#### Manipulate DF for charts"
   ]
  },
  {
   "cell_type": "code",
   "execution_count": null,
   "id": "a6401179-2b91-444c-8c80-b97659f4225e",
   "metadata": {},
   "outputs": [],
   "source": [
    "m1 = "
   ]
  },
  {
   "cell_type": "code",
   "execution_count": null,
   "id": "576c28b2-8c36-48a2-b312-9fc54010f7b5",
   "metadata": {},
   "outputs": [],
   "source": [
    "test1 = m1.melt(id_vars=[ '_gtfs_dataset_name','shape_array_key','trip_id', 'sorted_stop_seq','gtfs_dataset_key','loop_or_inlining',\n",
    "                       'n_trips'], value_vars=[ 'avg_speed_mph','speed_mph','p20_speed_mph', 'p80_speed_mph'])"
   ]
  },
  {
   "cell_type": "code",
   "execution_count": null,
   "id": "2b55cb75-8ee8-477c-95bc-439d2ee65962",
   "metadata": {},
   "outputs": [],
   "source": [
    "test1.shape"
   ]
  },
  {
   "cell_type": "code",
   "execution_count": null,
   "id": "29dc19fd-0d8b-430d-a78a-a1c947263ef0",
   "metadata": {
    "scrolled": true,
    "tags": []
   },
   "outputs": [],
   "source": [
    "# test1[test1.shape_array_key == \"29d2bbdbeaec1d6888800f85bebf6e33\"]"
   ]
  },
  {
   "cell_type": "code",
   "execution_count": null,
   "id": "e2c00548-7615-409c-a7cc-7db5f16c9a88",
   "metadata": {},
   "outputs": [],
   "source": [
    "# Only need average speed/p20 speed/p80 to show up once for each stop sequence-operator-shape array\n",
    "test2 = test1.drop_duplicates(subset = [ '_gtfs_dataset_name','shape_array_key','sorted_stop_seq','gtfs_dataset_key','variable','value']).reset_index(drop = True)"
   ]
  },
  {
   "cell_type": "code",
   "execution_count": null,
   "id": "436aca32-61c9-4488-8fae-26fe66688851",
   "metadata": {},
   "outputs": [],
   "source": [
    "# test2.to_csv(\"./speeds.csv\")"
   ]
  },
  {
   "cell_type": "code",
   "execution_count": null,
   "id": "be4bac6e-2d9f-4d64-a835-22bb4f3c32f5",
   "metadata": {},
   "outputs": [],
   "source": [
    "test2.shape"
   ]
  },
  {
   "cell_type": "code",
   "execution_count": null,
   "id": "5723b75c-0cc2-42e7-95e0-17b444971ee2",
   "metadata": {},
   "outputs": [],
   "source": [
    "other = ['cf688717cf0cd8dac0e6d1f12f9c7333',\n",
    "       '6f39f818c9a0c5496cd1c8bd1aa11e67',\n",
    "       '3de4482ec32ba0f2edb451d3528b5a5e']"
   ]
  },
  {
   "cell_type": "code",
   "execution_count": null,
   "id": "7b08d810-9e33-4a4f-b600-b5c8de9bdef6",
   "metadata": {},
   "outputs": [],
   "source": [
    "# Take out routes that have over 85 stops\n",
    "# subset = test2[~test2.shape_array_key.isin(routes_many_stops_list)].reset_index(drop = True)"
   ]
  },
  {
   "cell_type": "code",
   "execution_count": null,
   "id": "600d9ed7-524e-4af6-b90b-81fd89cf8c02",
   "metadata": {},
   "outputs": [],
   "source": [
    "subset = test2[test2.shape_array_key.isin([\"29d2bbdbeaec1d6888800f85bebf6e33\",'754c5b012195800c38dc58e72e4f482e',\n",
    "      'e3c5ed2c6fa6cd5c5cd57d46aeb3cd8e', ])]"
   ]
  },
  {
   "cell_type": "code",
   "execution_count": null,
   "id": "a92360af-5dfb-43e2-b89c-87c8b8268665",
   "metadata": {},
   "outputs": [],
   "source": [
    "subset = threshold_utils.pre_clean(subset)"
   ]
  },
  {
   "cell_type": "code",
   "execution_count": null,
   "id": "3a4c7ac2-4d6f-4702-a20b-0de69e0c86d4",
   "metadata": {},
   "outputs": [],
   "source": [
    "subset.columns"
   ]
  },
  {
   "cell_type": "code",
   "execution_count": null,
   "id": "52df69f0-7083-4551-b5f5-5dd88f30a69a",
   "metadata": {},
   "outputs": [],
   "source": [
    "subset.sample()"
   ]
  },
  {
   "cell_type": "code",
   "execution_count": null,
   "id": "4f0d0a5e-186e-4b7e-b307-6e6326c3e747",
   "metadata": {},
   "outputs": [],
   "source": [
    "subset['Route'] = subset['Gtfs Dataset Name'] +' '  + subset['Shape Array Key']"
   ]
  },
  {
   "cell_type": "code",
   "execution_count": null,
   "id": "a8d96219-49d0-4251-9b4b-a6968542424d",
   "metadata": {},
   "outputs": [],
   "source": [
    "subset = subset.rename(columns = {'Value':'Speed'})"
   ]
  },
  {
   "cell_type": "code",
   "execution_count": null,
   "id": "b1155355-b4f6-41c2-beb1-f839d9d46027",
   "metadata": {},
   "outputs": [],
   "source": [
    "subset['Speed_Int'] = subset.Speed.fillna(0).astype(int)"
   ]
  },
  {
   "cell_type": "code",
   "execution_count": null,
   "id": "6f695b90-4157-42bd-b9cf-aaa4d71773ef",
   "metadata": {},
   "outputs": [],
   "source": [
    "subset['Route Type'] = \"Loop or Inlining: \" + subset[\"Loop Or Inlining\"].astype(str)"
   ]
  },
  {
   "cell_type": "code",
   "execution_count": null,
   "id": "0834a228-c47d-4760-ae13-aca72784e747",
   "metadata": {},
   "outputs": [],
   "source": [
    "# subset['Rounded Speed'].unique()"
   ]
  },
  {
   "cell_type": "code",
   "execution_count": null,
   "id": "67cb1df7-6337-478d-bd9c-3fbc0a3f698f",
   "metadata": {},
   "outputs": [],
   "source": [
    "def speed(row):\n",
    "    # If partner is none, return Unknown.\n",
    "    if row.Speed_Int == 0:\n",
    "        return 0\n",
    "    elif 0 < row.Speed_Int < 6:\n",
    "        return 5\n",
    "    elif 5 < row.Speed_Int < 11:\n",
    "        return 10\n",
    "    elif 10 < row.Speed_Int < 16:\n",
    "        return 15\n",
    "    elif 15 < row.Speed_Int < 21:\n",
    "        return 20\n",
    "    elif 20 < row.Speed_Int < 26:\n",
    "        return 25\n",
    "    elif 25 < row.Speed_Int < 31:\n",
    "        return 30\n",
    "    else:\n",
    "        return 35"
   ]
  },
  {
   "cell_type": "code",
   "execution_count": null,
   "id": "de056258-240b-4aff-a3f9-aabe5330a9e0",
   "metadata": {},
   "outputs": [],
   "source": [
    "# Apply the function\n",
    "subset[\"Rounded Speed\"] = subset.apply(speed, axis=1)"
   ]
  },
  {
   "cell_type": "code",
   "execution_count": null,
   "id": "afc90938-3fbd-4235-b6ab-68cfa445f0b6",
   "metadata": {
    "scrolled": true,
    "tags": []
   },
   "outputs": [],
   "source": [
    "# subset[['Rounded Speed', 'Speed', 'Speed_Int']]"
   ]
  },
  {
   "cell_type": "code",
   "execution_count": null,
   "id": "9a39e842-70f6-4ff6-84b7-44b4dea48a40",
   "metadata": {},
   "outputs": [],
   "source": [
    "subset.Variable = subset.Variable.str.title().str.replace(\"_\",\" \")"
   ]
  },
  {
   "cell_type": "code",
   "execution_count": null,
   "id": "a95e775c-4cff-44b6-a861-1a17efb5fbf2",
   "metadata": {},
   "outputs": [],
   "source": [
    "# One df for the actual speeds\n",
    "subset_speedmph = subset[subset.Variable == 'Speed Mph'].reset_index(drop = True)"
   ]
  },
  {
   "cell_type": "code",
   "execution_count": null,
   "id": "447aec9f-1a4a-408c-bc16-22c67746c262",
   "metadata": {},
   "outputs": [],
   "source": [
    "# One df for the percentiles\n",
    "subset_other= subset[subset.Variable != 'Speed Mph'].reset_index(drop = True)"
   ]
  },
  {
   "cell_type": "code",
   "execution_count": null,
   "id": "c2fd6ee4-c841-44fd-8659-0ee2bc8a926d",
   "metadata": {},
   "outputs": [],
   "source": [
    "selection_test = alt_dropdown(subset, \"Route\", \"Operator/Shape Array\")"
   ]
  },
  {
   "cell_type": "code",
   "execution_count": null,
   "id": "aa0fad8b-b49e-48be-8070-adaf6e63d541",
   "metadata": {},
   "outputs": [],
   "source": [
    "# https://github.com/altair-viz/altair/issues/1168\n",
    "title = alt.Chart(subset).mark_text(dy=-40, size=15, fontWeight='normal').encode(\n",
    "    text='Route Type:N',\n",
    ")"
   ]
  },
  {
   "cell_type": "code",
   "execution_count": null,
   "id": "27a02401-dc45-493b-baad-e4cb84b6db46",
   "metadata": {},
   "outputs": [],
   "source": [
    "title = title.add_selection(selection_test).transform_filter(selection_test)"
   ]
  },
  {
   "cell_type": "markdown",
   "id": "c4904d76-f74e-4fd5-84e1-cd3c4476d010",
   "metadata": {},
   "source": [
    "#### Scatterplot"
   ]
  },
  {
   "cell_type": "markdown",
   "id": "9c8ae725-71da-4c21-a575-969d14a0aa17",
   "metadata": {},
   "source": [
    "#### Jitter"
   ]
  },
  {
   "cell_type": "code",
   "execution_count": null,
   "id": "e8c0fb00-e9a0-47c1-abc5-cea7a806a6df",
   "metadata": {},
   "outputs": [],
   "source": [
    "def create_jitter_plot(df):\n",
    "    \n",
    "    #title_op = df['Gtfs Dataset Name'].iloc[0].replace('VehiclePositions','').strip()\n",
    "    #inline = df['Loop Or Inlining'].iloc[0]\n",
    "    chart1 = (\n",
    "        alt.Chart(df, width=0.5)\n",
    "        .mark_circle(size=100)\n",
    "        .encode(\n",
    "            x=alt.X(\n",
    "                \"jitter:Q\",\n",
    "                title=None,\n",
    "                axis=alt.Axis(values=[0], ticks=False, grid=False, labels=False),\n",
    "                scale=alt.Scale(),\n",
    "            ),\n",
    "            y=alt.Y(\"Rounded Speed:Q\",\n",
    "                    scale=alt.Scale(domain=[0,50]),\n",
    "                    title = \"Speed (MPH)\",\n",
    "                    axis=alt.Axis(labelAngle=360, grid=False,)),\n",
    "            color=alt.Color(\n",
    "                \"Variable:N\",\n",
    "                scale=alt.Scale(range=cp.CALITP_CATEGORY_BRIGHT_COLORS),\n",
    "            ),\n",
    "            tooltip=df.columns.tolist(),\n",
    "            column=alt.Column(\n",
    "                \"Sorted Stop Seq:N\",\n",
    "                header=alt.Header(\n",
    "                    labelAngle=360,\n",
    "                    titleOrient=\"top\",\n",
    "                    labelOrient=\"top\",\n",
    "                    labelAlign=\"right\",\n",
    "                    labelPadding=2,\n",
    "                ),\n",
    "            ),\n",
    "        )\n",
    "        .transform_calculate(\n",
    "            # Generate Gaussian jitter with a Box-Muller transform\n",
    "            jitter=\"sqrt(-2*log(random()))*cos(2*PI*random())\"\n",
    "        )\n",
    "        .properties(title=\"Speeds by Operator-Shape Array\")\n",
    "    )\n",
    "    \n",
    "    chart1 = threshold_utils.chart_size(chart1, 75, 200)\n",
    "    \n",
    "    return chart1"
   ]
  },
  {
   "cell_type": "code",
   "execution_count": null,
   "id": "19b97ca6-17c9-4540-acfe-9a4caf740ef4",
   "metadata": {},
   "outputs": [],
   "source": [
    "chart1 = create_jitter_plot(subset_speedmph).add_selection(selection_test).transform_filter(selection_test)"
   ]
  },
  {
   "cell_type": "code",
   "execution_count": null,
   "id": "c13568df-5e19-4f0a-a9fe-c3edeb0a0073",
   "metadata": {},
   "outputs": [],
   "source": [
    "chart2 = (\n",
    "        alt.Chart(subset_other, width=0.5)\n",
    "        .mark_circle(size=200)\n",
    "        .encode(\n",
    "            x=alt.X(\n",
    "                \"jitter:Q\",\n",
    "                title=None,\n",
    "                axis=alt.Axis(values=[0], ticks=False, grid=False, labels=False),\n",
    "                scale=alt.Scale(),\n",
    "            ),\n",
    "            y=alt.Y(\"Rounded Speed:Q\", \n",
    "                    title = \"Speed (MPH)\",\n",
    "                    scale=alt.Scale(domain=[0, 50]),\n",
    "                   axis = alt.Axis(grid = False)),\n",
    "            color=alt.Color(\n",
    "                \"Variable:N\",\n",
    "                scale=alt.Scale(range=cp.CALITP_CATEGORY_BRIGHT_COLORS),\n",
    "            ),\n",
    "            tooltip=subset_other.columns.tolist(),\n",
    "            column=alt.Column(\n",
    "                \"Sorted Stop Seq:N\",\n",
    "                header=alt.Header(\n",
    "                    labelAngle=360,\n",
    "                    title = None,\n",
    "                    titleOrient=\"top\",\n",
    "                    labelOrient=\"top\",\n",
    "                    labelAlign=\"right\",\n",
    "                    labelPadding=2,\n",
    "                ),\n",
    "            ),\n",
    "        )\n",
    "        .transform_calculate(\n",
    "            # Generate Gaussian jitter with a Box-Muller transform\n",
    "            jitter=\"sqrt(-2*log(random()))*cos(2*PI*random())\"\n",
    "        )\n",
    "    )\n",
    "    "
   ]
  },
  {
   "cell_type": "code",
   "execution_count": null,
   "id": "2a2bda8b-d48c-44f3-a928-08aca894c565",
   "metadata": {},
   "outputs": [],
   "source": [
    "chart2 = threshold_utils.chart_size(chart2, 75, 200)"
   ]
  },
  {
   "cell_type": "code",
   "execution_count": null,
   "id": "dd20293d-7c43-42c4-b053-de945860b6f0",
   "metadata": {},
   "outputs": [],
   "source": [
    "chart2 = chart2.add_selection(selection_test).transform_filter(selection_test)"
   ]
  },
  {
   "cell_type": "code",
   "execution_count": null,
   "id": "44dc6896-e95d-42df-bbd5-f2bb2c2a2cc6",
   "metadata": {},
   "outputs": [],
   "source": [
    "title = threshold_utils.chart_size(title, 20, 20)"
   ]
  },
  {
   "cell_type": "code",
   "execution_count": null,
   "id": "d651c8c6-179c-4157-a671-11006cb419df",
   "metadata": {},
   "outputs": [],
   "source": [
    "alt.data_transformers.enable('default', max_rows=None)"
   ]
  },
  {
   "cell_type": "code",
   "execution_count": null,
   "id": "8e753711-8506-4939-8d9d-22566a641988",
   "metadata": {},
   "outputs": [],
   "source": [
    "title & (chart1.interactive() & chart2.interactive())"
   ]
  },
  {
   "cell_type": "markdown",
   "id": "9745f078-1999-4e5c-9ddc-5eba135f55ab",
   "metadata": {},
   "source": [
    "### Draft"
   ]
  },
  {
   "cell_type": "code",
   "execution_count": null,
   "id": "64011717-6707-4a7a-8eec-9bdb0861bab6",
   "metadata": {},
   "outputs": [],
   "source": [
    "def meter_elapsed_categories(row):\n",
    "        lower_end = (row[\"meters_mean\"] - row[\"meters_std\"])\n",
    "        higher_end = (row[\"meters_mean\"] + row[\"meters_std\"])\n",
    "        if (row[\"meters_elapsed\"] == row[\"meters_mean\"]):\n",
    "            return \"distance elapsed is average\"\n",
    "        elif (row[\"meters_elapsed\"] <= lower_end):\n",
    "            return \"distance lapsed on lower end\"\n",
    "        elif (row[\"meters_elapsed\"] >= higher_end):\n",
    "            return \"distance lapsed on higher end\"\n",
    "        elif (lower_end < row[\"meters_elapsed\"] < higher_end):\n",
    "            return \"distance elapsed is average\"\n",
    "        else:\n",
    "            return \"other\"\n",
    "def seconds_elapsed_categories(row):\n",
    "        lower_end = (row[\"secs_mean\"] - row[\"secs_std\"])\n",
    "        higher_end = (row[\"secs_mean\"] + row[\"secs_std\"])\n",
    "        if (row[\"sec_elapsed\"] == row[\"secs_mean\"]):\n",
    "            return \"secs elapsed is average\"\n",
    "        elif (row[\"sec_elapsed\"] <= lower_end):\n",
    "            return \"secs lapsed on lower end\"\n",
    "        elif (row[\"sec_elapsed\"] >= higher_end):\n",
    "            return \"secs lapsed on higher end\"\n",
    "        elif (lower_end < row[\"sec_elapsed\"] < higher_end):\n",
    "            return \"secs elapsed is average\"\n",
    "        else:\n",
    "            return \"other\""
   ]
  },
  {
   "cell_type": "code",
   "execution_count": null,
   "id": "05d629ed-abfd-477e-b87b-7e321a6d0831",
   "metadata": {},
   "outputs": [],
   "source": [
    "def speed_categories(row):\n",
    "        \"\"\"\n",
    "        Stricter thresholds for speed categories.\n",
    "        Just because a speed is below the 25th or\n",
    "        above the 75th percentile doesn't mean it\n",
    "        should be flagged. Take into account how far away\n",
    "        it is from that.\n",
    "        \"\"\"\n",
    "        #lower_end = (row[\"speed_mean\"] - row[\"speed_std\"])\n",
    "        #higher_end = (row[\"speed_mean\"] + row[\"speed_std\"])\n",
    "        if (row[\"speed_mph\"] == row[\"avg_speed_mph\"]):\n",
    "            return \"average\"\n",
    "        elif (row[\"speed_mph\"] <= lower_end):\n",
    "            return \"speed low\"\n",
    "        elif (row[\"speed_mph\"] >= higher_end):\n",
    "            return \"speed high\"\n",
    "        elif (row[\"speed_mph\"] == 0)|(row[\"speed_mph\"] == None):\n",
    "            return \"speed is 0\"\n",
    "        else:\n",
    "            return \"average\""
   ]
  },
  {
   "cell_type": "code",
   "execution_count": null,
   "id": "86a5c48c-6720-41a8-b626-94305506ab3a",
   "metadata": {},
   "outputs": [],
   "source": [
    "#Determine if an agency has a small, medium, or large fleet size.\n",
    "def categorize_by_percentile(df, column_percentile:str): \n",
    "  \n",
    "    #Get percentiles in objects for total vehicle.\n",
    "    p75 = df[column_percentile].quantile(0.75).astype(float)\n",
    "    p25 = df[column_percentile].quantile(0.25).astype(float)\n",
    "    p50 = df[column_percentile].quantile(0.50).astype(float)\n",
    "\n",
    "    def percentile(row):\n",
    "        if (row[column_percentile] <= p25):\n",
    "            return f\"{column_percentile}: low\"\n",
    "        elif ((p25 < row[column_percentile]) and (row[column_percentile] <= p75)):\n",
    "            return f\"{column_percentile}: average\"\n",
    "        elif (row[column_percentile] > p75):\n",
    "               return f\"{column_percentile}: high\"\n",
    "        else:\n",
    "            return \"other\"\n",
    "    df[f\"{column_percentile}_cat\"] = df.apply(lambda x: percentile(x), axis=1)\n",
    "  \n",
    "    return df    \n",
    "\n",
    "def categorize_all(df):\n",
    "\n",
    "    # Hold results\n",
    "    final = pd.DataFrame()\n",
    "\n",
    "    for column in ['meters_elapsed', 'sec_elapsed']:\n",
    "            for shape_array_key in df.shape_array_key.tolist():\n",
    "                for stop in df.stop_sequence.tolist():\n",
    "                    filtered = df[(df.shape_array_key == shape_array_key) & (df.stop_sequence == stop)].reset_index()\n",
    "                    categorized = categorize_by_percentile(filtered, column)\n",
    "                    final = pd.concat([final, categorized], axis=0)\n",
    "                    print(f'done for {column}/{stop}')\n",
    "\n",
    "    return final"
   ]
  },
  {
   "cell_type": "code",
   "execution_count": null,
   "id": "1bb82075-6269-472e-8582-27a7640f0aa5",
   "metadata": {},
   "outputs": [],
   "source": []
  },
  {
   "cell_type": "code",
   "execution_count": null,
   "id": "4f25a17e-cea1-4bff-888d-d8f37dc31775",
   "metadata": {},
   "outputs": [],
   "source": [
    "\"\"\"\n",
    "p25 = troubleshoot.total_stops.quantile(0.25).astype(float)\n",
    "p50 =  troubleshoot.total_stops.quantile(0.50).astype(float)\n",
    "p75 =  troubleshoot.total_stops.quantile(0.75).astype(float)\n",
    "p95 =  troubleshoot.total_stops.quantile(0.95).astype(float)\n",
    "p99 =  troubleshoot.total_stops.quantile(0.99).astype(float)\n",
    "\"\"\""
   ]
  },
  {
   "cell_type": "code",
   "execution_count": null,
   "id": "0e676189-df19-4630-8dc6-3c4fc8c60e16",
   "metadata": {},
   "outputs": [],
   "source": [
    "def stop_categories1(row):\n",
    "        if ((row.total_stops > 0) and (row.total_stops <= p25)):\n",
    "            return \"25th  <= 17 stops\"\n",
    "        elif ((row.total_stops > p25) and (row.total_stops <= p75)):\n",
    "            return \"50th <= 30 stops\"\n",
    "        elif ((row.total_stops > p75) and (row.total_stops <= p95)):\n",
    "               return \"75th <= 50 stops\"\n",
    "        elif ((row.total_stops > p95) and (row.total_stops <= p99)):\n",
    "               return \"95th <= 85 stops\"\n",
    "        elif row.total_stops >= p95:\n",
    "               return \"99th >= 203 stops\"\n",
    "        else:\n",
    "            return \"other\""
   ]
  },
  {
   "cell_type": "code",
   "execution_count": null,
   "id": "af72c1c9-df07-4e7f-973f-f0c07223b7a4",
   "metadata": {},
   "outputs": [],
   "source": [
    "def create_jitter_plot(df):\n",
    "    \n",
    "    title_op = df['Gtfs Dataset Name'].iloc[0].replace('VehiclePositions','').strip()\n",
    "    inline = df['Loop Or Inlining'].iloc[0]\n",
    "    \n",
    "    chart1 = (\n",
    "        alt.Chart(df, width=0.5)\n",
    "        .mark_circle(size=100)\n",
    "        .encode(\n",
    "            x=alt.X(\n",
    "                \"jitter:Q\",\n",
    "                title=None,\n",
    "                axis=alt.Axis(values=[0], ticks=False, grid=False, labels=False),\n",
    "                scale=alt.Scale(),\n",
    "            ),\n",
    "            y=alt.Y(\"Rounded Speed:Q\", axis=alt.Axis(labelAngle=360)),\n",
    "            color=alt.Color(\n",
    "                \"Variable:N\",\n",
    "                scale=alt.Scale(range=cp.CALITP_CATEGORY_BRIGHT_COLORS),\n",
    "            ),\n",
    "            tooltip=df.columns.tolist(),\n",
    "            column=alt.Column(\n",
    "                \"Stop Sequence:N\",\n",
    "                header=alt.Header(\n",
    "                    labelAngle=360,\n",
    "                    titleOrient=\"top\",\n",
    "                    labelOrient=\"bottom\",\n",
    "                    labelAlign=\"right\",\n",
    "                    labelPadding=2,\n",
    "                ),\n",
    "            ),\n",
    "        )\n",
    "        .transform_calculate(\n",
    "            # Generate Gaussian jitter with a Box-Muller transform\n",
    "            jitter=\"sqrt(-2*log(random()))*cos(2*PI*random())\"\n",
    "        )\n",
    "        .properties(title=f\"{title_op} - Route Type {inline}\")\n",
    "    )\n",
    "    \n",
    "    chart1 = threshold_utils.chart_size(chart1, 40, 250)\n",
    "    \n",
    "    return chart1"
   ]
  },
  {
   "cell_type": "code",
   "execution_count": null,
   "id": "18ebd177-efc1-4bdc-9fac-bf947db810a4",
   "metadata": {},
   "outputs": [],
   "source": [
    "chart2 = (\n",
    "        alt.Chart(anaheim_test, width=0.5)\n",
    "        .mark_circle(size=100)\n",
    "        .encode(\n",
    "            x=alt.X(\n",
    "                \"jitter:Q\",\n",
    "                title=None,\n",
    "                axis=alt.Axis(values=[0], ticks=False, grid=False, labels=False),\n",
    "                scale=alt.Scale(),\n",
    "            ),\n",
    "            y=alt.Y(\"rounded_speed:Q\", axis=alt.Axis(labelAngle=-90)),\n",
    "            color=alt.Color(\n",
    "                \"variable:N\",\n",
    "                scale=alt.Scale(range=cp.CALITP_CATEGORY_BRIGHT_COLORS),\n",
    "            ),\n",
    "            tooltip=anaheim_test.columns.tolist(),\n",
    "            column=alt.Column(\n",
    "                \"stop_sequence:N\",\n",
    "                header=alt.Header(\n",
    "                    labelAngle=360,\n",
    "                    titleOrient=\"top\",\n",
    "                    labelOrient=\"bottom\",\n",
    "                    labelAlign=\"right\",\n",
    "                    labelPadding=2,\n",
    "                ),\n",
    "            ),\n",
    "        )\n",
    "        .transform_calculate(\n",
    "            # Generate Gaussian jitter with a Box-Muller transform\n",
    "            jitter=\"sqrt(-2*log(random()))*cos(2*PI*random())\"\n",
    "        )\n",
    "        .configure_facet(spacing=0)\n",
    "        .configure_view(stroke=None)\n",
    "        .properties(title=\"Trip Duration by RT Category\")\n",
    "    )"
   ]
  },
  {
   "cell_type": "code",
   "execution_count": null,
   "id": "a7287305-20d8-434f-9756-42b18cf172a4",
   "metadata": {},
   "outputs": [],
   "source": [
    "chart2 = threshold_utils.chart_size(chart2,80,300)"
   ]
  },
  {
   "cell_type": "code",
   "execution_count": null,
   "id": "3f9e9258-b954-45bf-bd7a-17822c9c607a",
   "metadata": {},
   "outputs": [],
   "source": [
    "chart2"
   ]
  },
  {
   "cell_type": "code",
   "execution_count": null,
   "id": "ea1d8514-ae9c-42e6-b59a-49a44fecbc98",
   "metadata": {},
   "outputs": [],
   "source": [
    "chart1 = (\n",
    "        alt.Chart(anaheim_test_speedmph, width=0.5)\n",
    "        .mark_circle(size=100)\n",
    "        .encode(\n",
    "            x=alt.X(\n",
    "                \"jitter:Q\",\n",
    "                title=None,\n",
    "                axis=alt.Axis(values=[0], ticks=False, grid=False, labels=False),\n",
    "                scale=alt.Scale(),\n",
    "            ),\n",
    "            y=alt.Y(\"rounded_speed:Q\", axis=alt.Axis(labelAngle=-90)),\n",
    "            color=alt.Color(\n",
    "                \"stop_sequence:N\",\n",
    "                scale=alt.Scale(range=cp.CALITP_CATEGORY_BRIGHT_COLORS),\n",
    "            ),\n",
    "            tooltip=anaheim_test.columns.tolist(),\n",
    "            column=alt.Column(\n",
    "                \"stop_sequence:N\",\n",
    "                header=alt.Header(\n",
    "                    labelAngle=360,\n",
    "                    titleOrient=\"top\",\n",
    "                    labelOrient=\"bottom\",\n",
    "                    labelAlign=\"right\",\n",
    "                    labelPadding=2,\n",
    "                ),\n",
    "            ),\n",
    "        )\n",
    "        .transform_calculate(\n",
    "            # Generate Gaussian jitter with a Box-Muller transform\n",
    "            jitter=\"sqrt(-2*log(random()))*cos(2*PI*random())\"\n",
    "        )\n",
    "        .configure_facet(spacing=0)\n",
    "        .configure_view(stroke=None)\n",
    "        .properties(title=f\"Loop/Inling:{anaheim_test_speedmph.loop_or_inlining.iloc[0]}\")\n",
    "    )"
   ]
  },
  {
   "cell_type": "code",
   "execution_count": null,
   "id": "4e1eea88-640b-4e96-b2d5-07cd2f19afdf",
   "metadata": {},
   "outputs": [],
   "source": [
    "chart1 = threshold_utils.chart_size(chart1,80,300)"
   ]
  },
  {
   "cell_type": "code",
   "execution_count": null,
   "id": "c54559c6-8fb0-4109-8e7d-84c1ecb6497e",
   "metadata": {},
   "outputs": [],
   "source": [
    "chart1"
   ]
  },
  {
   "cell_type": "code",
   "execution_count": null,
   "id": "79375476-00a1-4b85-a532-26889fc465e4",
   "metadata": {},
   "outputs": [],
   "source": []
  },
  {
   "cell_type": "code",
   "execution_count": null,
   "id": "0e5c052e-cccd-4f75-be65-9658cf7616b1",
   "metadata": {},
   "outputs": [],
   "source": [
    "def create_dot_plot2(df, col_for_dots: str, \n",
    "                    x_axis_col:str, y_axis_col:str,\n",
    "                   tooltip_cols:list, chart_title:str):\n",
    "  \n",
    "    chart = (alt.Chart(df).mark_circle(opacity=1, size = 100).transform_window(\n",
    "    id='rank()',\n",
    "    groupby=[col_for_dots]).encode(\n",
    "    alt.X(f'{x_axis_col}:O', sort='descending', \n",
    "          axis=alt.Axis(ticks=False, grid=True)),\n",
    "    alt.Y(f'{y_axis_col}:N'), \n",
    "    color=alt.Color(f\"{col_for_dots}:N\", scale=alt.Scale(range=cp.CALITP_CATEGORY_BRIGHT_COLORS), legend=None),\n",
    "    tooltip = tooltip_cols)\n",
    "             .properties(title = chart_title))\n",
    "    \n",
    "    return chart"
   ]
  },
  {
   "cell_type": "code",
   "execution_count": null,
   "id": "e38644ab-7fb8-47b1-b692-512b55f05625",
   "metadata": {},
   "outputs": [],
   "source": [
    "chart3 = create_dot_plot1(anaheim_test_other, 'variable', 'stop_sequence', 'rounded_speed', anaheim_test_other.columns.tolist(),  'Percentile/Average')"
   ]
  },
  {
   "cell_type": "code",
   "execution_count": null,
   "id": "2b6df39b-b074-494d-8f5e-65fe05356f4b",
   "metadata": {},
   "outputs": [],
   "source": [
    "chart3 = threshold_utils.chart_size(chart3,650,300)"
   ]
  },
  {
   "cell_type": "code",
   "execution_count": null,
   "id": "c2c565de-3c55-4827-a5bb-b48c6d49d4c1",
   "metadata": {},
   "outputs": [],
   "source": [
    "chart4 = create_dot_plot2(anaheim_test_speedmph, 'variable', 'stop_sequence', 'rounded_speed', anaheim_test_speedmph.columns.tolist(), 'Speed per Trip')"
   ]
  },
  {
   "cell_type": "code",
   "execution_count": null,
   "id": "29b3b7b1-8f44-4a8d-97c3-ff934250e874",
   "metadata": {},
   "outputs": [],
   "source": [
    "chart4 = threshold_utils.chart_size(chart4,650,300)"
   ]
  },
  {
   "cell_type": "code",
   "execution_count": null,
   "id": "54146c88-15df-49e2-9de6-18f2666d9f9f",
   "metadata": {},
   "outputs": [],
   "source": [
    "chart4"
   ]
  },
  {
   "cell_type": "code",
   "execution_count": null,
   "id": "3ccbc087-f799-4429-b6c7-a9c1f38f021d",
   "metadata": {},
   "outputs": [],
   "source": [
    "chart3 + chart4"
   ]
  },
  {
   "cell_type": "code",
   "execution_count": null,
   "id": "9829d749-580c-4440-9397-4562192417b7",
   "metadata": {},
   "outputs": [],
   "source": [
    "chart7 = (\n",
    "        alt.Chart(anaheim_test_other, width=0.5)\n",
    "        .mark_circle(size=100)\n",
    "        .encode(\n",
    "            x=alt.X(\n",
    "                \"jitter:Q\",\n",
    "                title=None,\n",
    "                axis=alt.Axis(values=[0], ticks=False, grid=False, labels=False),\n",
    "                scale=alt.Scale(),\n",
    "            ),\n",
    "            y=alt.Y(\"rounded_speed:Q\", axis=alt.Axis(labelAngle=-90)),\n",
    "            color=alt.Color(\n",
    "                \"variable:N\",\n",
    "                scale=alt.Scale(range=cp.CALITP_CATEGORY_BRIGHT_COLORS),\n",
    "            ),\n",
    "            tooltip=anaheim_test.columns.tolist(),\n",
    "            column=alt.Column(\n",
    "                \"stop_sequence:N\",\n",
    "                header=alt.Header(\n",
    "                    labelAngle=-90,\n",
    "                    titleOrient=\"top\",\n",
    "                    labelOrient=\"bottom\",\n",
    "                    labelAlign=\"right\",\n",
    "                    labelPadding=2,\n",
    "                ),\n",
    "            ),\n",
    "        )\n",
    "        .transform_calculate(\n",
    "            # Generate Gaussian jitter with a Box-Muller transform\n",
    "            jitter=\"sqrt(-2*log(random()))*cos(2*PI*random())\"\n",
    "        )\n",
    "        .configure_facet(spacing=0)\n",
    "        .configure_view(stroke=None)\n",
    "        .properties(title=\"Trip Duration by RT Category\")\n",
    "    )"
   ]
  },
  {
   "cell_type": "code",
   "execution_count": null,
   "id": "454980fc-e6ab-4d53-b844-120a075b8034",
   "metadata": {},
   "outputs": [],
   "source": [
    "chart7 = threshold_utils.chart_size(chart7,80,300)"
   ]
  },
  {
   "cell_type": "code",
   "execution_count": null,
   "id": "58e57fb2-1c3b-47e1-8bb6-d4941f0ee985",
   "metadata": {},
   "outputs": [],
   "source": [
    "chart8 = (\n",
    "        alt.Chart(anaheim_test_other, width=0.5)\n",
    "        .mark_circle(size=100)\n",
    "        .encode(\n",
    "            x=alt.X(\n",
    "                \"jitter:Q\",\n",
    "                title=None,\n",
    "                axis=alt.Axis(values=[0], ticks=False, grid=False, labels=False),\n",
    "                scale=alt.Scale(),\n",
    "            ),\n",
    "            y=alt.Y(\"rounded_speed:Q\", axis=alt.Axis(labelAngle=-90)),\n",
    "            color=alt.Color(\n",
    "                \"variable:N\",\n",
    "                scale=alt.Scale(range=cp.CALITP_CATEGORY_BRIGHT_COLORS),\n",
    "            ),\n",
    "            tooltip=anaheim_test.columns.tolist(),\n",
    "            column=alt.Column(\n",
    "                \"stop_sequence:N\",\n",
    "                header=alt.Header(\n",
    "                    labelAngle=-90,\n",
    "                    titleOrient=\"top\",\n",
    "                    labelOrient=\"bottom\",\n",
    "                    labelAlign=\"right\",\n",
    "                    labelPadding=2,\n",
    "                ),\n",
    "            ),\n",
    "        )\n",
    "        .transform_calculate(\n",
    "            # Generate Gaussian jitter with a Box-Muller transform\n",
    "            jitter=\"sqrt(-2*log(random()))*cos(2*PI*random())\"\n",
    "        )\n",
    "        .properties(title=\"Trip Duration by RT Category\")\n",
    "    )"
   ]
  },
  {
   "cell_type": "code",
   "execution_count": null,
   "id": "c2ce0879-f45f-4c66-9b1a-870a243a1260",
   "metadata": {},
   "outputs": [],
   "source": [
    "chart9 = (\n",
    "        alt.Chart(anaheim_test_speedmph, width=0.5)\n",
    "        .mark_circle(size=100)\n",
    "        .encode(\n",
    "            x=alt.X(\n",
    "                \"jitter:Q\",\n",
    "                title=None,\n",
    "                axis=alt.Axis(values=[0], ticks=False, grid=False, labels=False),\n",
    "                scale=alt.Scale(),\n",
    "            ),\n",
    "            y=alt.Y(\"rounded_speed:Q\", axis=alt.Axis(labelAngle=-90)),\n",
    "            color=alt.Color(\n",
    "                \"variable:N\",\n",
    "                scale=alt.Scale(range=cp.CALITP_CATEGORY_BRIGHT_COLORS),\n",
    "            ),\n",
    "            tooltip=anaheim_test.columns.tolist(),\n",
    "            column=alt.Column(\n",
    "                \"stop_sequence:N\",\n",
    "                header=alt.Header(\n",
    "                    labelAngle=360,\n",
    "                    titleOrient=\"top\",\n",
    "                    labelOrient=\"bottom\",\n",
    "                    labelAlign=\"right\",\n",
    "                    labelPadding=2,\n",
    "                ),\n",
    "            ),\n",
    "        )\n",
    "        .transform_calculate(\n",
    "            # Generate Gaussian jitter with a Box-Muller transform\n",
    "            jitter=\"sqrt(-2*log(random()))*cos(2*PI*random())\"\n",
    "        )\n",
    "        .properties(title=f\"Loop/Inling:{anaheim_test_speedmph.loop_or_inlining.iloc[0]}\")\n",
    "    )"
   ]
  },
  {
   "cell_type": "code",
   "execution_count": null,
   "id": "04e3ce9a-a5ab-4aeb-a7d0-4ead6738324b",
   "metadata": {},
   "outputs": [],
   "source": [
    "chart8"
   ]
  },
  {
   "cell_type": "code",
   "execution_count": null,
   "id": "04d2026e-c040-45ea-aab6-2c09c2211632",
   "metadata": {},
   "outputs": [],
   "source": [
    "chart9 | chart8"
   ]
  },
  {
   "cell_type": "code",
   "execution_count": null,
   "id": "edb11b29-7038-4a5d-9e44-4d3b88e6cc88",
   "metadata": {},
   "outputs": [],
   "source": [
    "# pip install altair==5.0.0rc3\n",
    "chart5 = alt.Chart(anaheim_test_speedmph, title='Normally distributed jitter').mark_circle(size=50).encode(\n",
    "    y=\"rounded_speed:Q\",\n",
    "    x=\"stop_sequence:N\",\n",
    "    yOffset=\"jitter:Q\",\n",
    "    color=alt.Color('stop_sequence:Q').legend(None)\n",
    ").transform_calculate(\n",
    "    # Generate Gaussian jitter with a Box-Muller transform\n",
    "    jitter=\"sqrt(-2*log(random()))*cos(2*PI*random())\"\n",
    ")\n"
   ]
  },
  {
   "cell_type": "code",
   "execution_count": null,
   "id": "9bbcc880-7866-495c-9a68-3b7ca6c00c4a",
   "metadata": {},
   "outputs": [],
   "source": [
    "chart5 = threshold_utils.chart_size(chart5,650,300)"
   ]
  },
  {
   "cell_type": "code",
   "execution_count": null,
   "id": "a765f55e-73e2-4bae-9326-98ed1bbfadaf",
   "metadata": {},
   "outputs": [],
   "source": [
    "chart5"
   ]
  },
  {
   "cell_type": "markdown",
   "id": "c911a105-147a-4b8a-a741-5b67a8cf710a",
   "metadata": {
    "tags": []
   },
   "source": [
    "#### Look at one trip"
   ]
  },
  {
   "cell_type": "code",
   "execution_count": null,
   "id": "f02f2c0b-f5fc-4452-b39b-bb1a443bc727",
   "metadata": {},
   "outputs": [],
   "source": [
    "#foothill_og = speed_stops2[speed_stops2.trip_id == \"t604-b2791-sl5\"]"
   ]
  },
  {
   "cell_type": "code",
   "execution_count": null,
   "id": "173615fa-c942-4d85-9ca8-64852b706d1f",
   "metadata": {},
   "outputs": [],
   "source": [
    "#len(foothill_og)"
   ]
  },
  {
   "cell_type": "code",
   "execution_count": null,
   "id": "28521af6-c34e-4b20-9831-3177722b9b46",
   "metadata": {},
   "outputs": [],
   "source": [
    "#foothill_og.stop_sequence.nunique()"
   ]
  },
  {
   "cell_type": "code",
   "execution_count": null,
   "id": "1136e4c7-2e5b-492d-8ae6-299a04164ac3",
   "metadata": {},
   "outputs": [],
   "source": [
    "#foothill_og.stop_sequence.describe()"
   ]
  },
  {
   "cell_type": "code",
   "execution_count": null,
   "id": "9cee6f4c-8786-478a-97ff-702be25d0788",
   "metadata": {},
   "outputs": [],
   "source": [
    "#foothill_og.sort_values('stop_sequence').head()"
   ]
  },
  {
   "cell_type": "code",
   "execution_count": null,
   "id": "97ec3ff5-bcda-4edd-9ba6-50821923dd98",
   "metadata": {},
   "outputs": [],
   "source": [
    "#foothill_renumbered_stop_seq = m2[m2.trip_id == \"t604-b2791-sl5\"] "
   ]
  },
  {
   "cell_type": "code",
   "execution_count": null,
   "id": "f2733f91-b890-4818-a649-d79bd6f9a16a",
   "metadata": {},
   "outputs": [],
   "source": [
    "#foothill_renumbered_stop_seq['Test Stop Sequence'].describe()"
   ]
  },
  {
   "cell_type": "code",
   "execution_count": null,
   "id": "c9b04672-2b10-4d06-b84a-1fd92a6a78ac",
   "metadata": {},
   "outputs": [],
   "source": [
    "#foothill_renumbered_stop_seq.sort_values('stop_sequence').head()"
   ]
  },
  {
   "cell_type": "code",
   "execution_count": null,
   "id": "9581ead1-5d91-44a4-a9d3-299445d55056",
   "metadata": {},
   "outputs": [],
   "source": [
    "# len(troubleshoot)"
   ]
  },
  {
   "cell_type": "code",
   "execution_count": null,
   "id": "1f50eb55-9373-4004-b23b-8129db734c1b",
   "metadata": {},
   "outputs": [],
   "source": [
    "# Number of test stops should match stop sequence...\n",
    "# troubleshoot['sequences_are_equal'] = troubleshoot['Test Stop Sequence'] - troubleshoot['stop_sequence']"
   ]
  },
  {
   "cell_type": "code",
   "execution_count": null,
   "id": "46843106-2e31-46c9-9220-2f12a3e6a4fb",
   "metadata": {},
   "outputs": [],
   "source": [
    "# troubleshoot['sequences_are_equal'].value_counts()"
   ]
  },
  {
   "cell_type": "code",
   "execution_count": null,
   "id": "34d189fa-632c-40d7-a793-e576645e879e",
   "metadata": {},
   "outputs": [],
   "source": [
    "# Look at this trip id in the original df\n",
    "#og_trip = speed_stops2[speed_stops2.trip_id == \"t640-b15FF1-sl5\"]"
   ]
  },
  {
   "cell_type": "code",
   "execution_count": null,
   "id": "34b1e2f4-fe20-4029-9ec1-e5cbaaf73178",
   "metadata": {},
   "outputs": [],
   "source": [
    "# Look at this trip id in the manipulated df\n",
    "#new_trip = m2[m2.trip_id == \"t640-b15FF1-sl5\"]"
   ]
  },
  {
   "cell_type": "code",
   "execution_count": null,
   "id": "81190a32-907b-4a5d-818a-ab5c2740dbc3",
   "metadata": {
    "tags": []
   },
   "outputs": [],
   "source": [
    "#og_trip.shape, og_trip.stop_sequence.nunique()"
   ]
  },
  {
   "cell_type": "code",
   "execution_count": null,
   "id": "ae8d06ad-3016-4909-b766-c370ef074aae",
   "metadata": {},
   "outputs": [],
   "source": [
    "#new_trip.shape, new_trip.stop_sequence.nunique()"
   ]
  }
 ],
 "metadata": {
  "kernelspec": {
   "display_name": "Python 3 (ipykernel)",
   "language": "python",
   "name": "python3"
  },
  "language_info": {
   "codemirror_mode": {
    "name": "ipython",
    "version": 3
   },
   "file_extension": ".py",
   "mimetype": "text/x-python",
   "name": "python",
   "nbconvert_exporter": "python",
   "pygments_lexer": "ipython3",
   "version": "3.9.13"
  }
 },
 "nbformat": 4,
 "nbformat_minor": 5
}
