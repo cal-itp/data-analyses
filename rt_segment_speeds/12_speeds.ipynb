{
 "cells": [
  {
   "cell_type": "code",
   "execution_count": 19,
   "id": "2c7feec3-aa18-42ab-94b9-cab4be608152",
   "metadata": {},
   "outputs": [],
   "source": [
    "import _threshold_utils as threshold_utils\n",
    "import altair as alt\n",
    "\n",
    "import pandas as pd\n",
    "import geopandas as gpd\n",
    "from segment_speed_utils.project_vars import analysis_date\n",
    "from shared_utils import calitp_color_palette as cp"
   ]
  },
  {
   "cell_type": "code",
   "execution_count": 20,
   "id": "0108ae4a-4518-4487-85f7-a5faa3e9cbf6",
   "metadata": {},
   "outputs": [],
   "source": [
    "pd.options.display.max_columns = 100\n",
    "pd.options.display.float_format = \"{:.2f}\".format\n",
    "pd.set_option(\"display.max_rows\", None)\n",
    "pd.set_option(\"display.max_colwidth\", None)"
   ]
  },
  {
   "cell_type": "code",
   "execution_count": 21,
   "id": "e3adcb1c-9a8a-4dee-9bdc-fddb63adbad9",
   "metadata": {},
   "outputs": [],
   "source": [
    "GCS_PATH = \"gs://calitp-analytics-data/data-analyses/rt_segment_speeds/\""
   ]
  },
  {
   "cell_type": "code",
   "execution_count": 22,
   "id": "73d5e27d-92d4-4dcd-b7b4-92272e6a71ff",
   "metadata": {},
   "outputs": [
    {
     "data": {
      "text/plain": [
       "'2023-03-15'"
      ]
     },
     "execution_count": 22,
     "metadata": {},
     "output_type": "execute_result"
    }
   ],
   "source": [
    "analysis_date"
   ]
  },
  {
   "cell_type": "code",
   "execution_count": 23,
   "id": "78c008c7-ebb5-4ea2-afa5-dab02c657614",
   "metadata": {},
   "outputs": [],
   "source": [
    "speed_stops_subset = ['gtfs_dataset_key', '_gtfs_dataset_name', 'shape_array_key',\n",
    "       'stop_sequence', 'trip_id','speed_mph']"
   ]
  },
  {
   "cell_type": "code",
   "execution_count": 24,
   "id": "28a36e54-f835-44a3-b083-6fcd07a9f3d7",
   "metadata": {
    "scrolled": true,
    "tags": []
   },
   "outputs": [],
   "source": [
    "speed_stops = pd.read_parquet(f\"{GCS_PATH}speeds_stop_segments_{analysis_date}\")"
   ]
  },
  {
   "cell_type": "code",
   "execution_count": 63,
   "id": "8f124b35-ca02-48a0-a845-4c8cfa95c057",
   "metadata": {},
   "outputs": [
    {
     "data": {
      "text/html": [
       "<div>\n",
       "<style scoped>\n",
       "    .dataframe tbody tr th:only-of-type {\n",
       "        vertical-align: middle;\n",
       "    }\n",
       "\n",
       "    .dataframe tbody tr th {\n",
       "        vertical-align: top;\n",
       "    }\n",
       "\n",
       "    .dataframe thead th {\n",
       "        text-align: right;\n",
       "    }\n",
       "</style>\n",
       "<table border=\"1\" class=\"dataframe\">\n",
       "  <thead>\n",
       "    <tr style=\"text-align: right;\">\n",
       "      <th></th>\n",
       "      <th>gtfs_dataset_key</th>\n",
       "      <th>_gtfs_dataset_name</th>\n",
       "      <th>shape_array_key</th>\n",
       "      <th>stop_sequence</th>\n",
       "      <th>trip_id</th>\n",
       "      <th>min_time</th>\n",
       "      <th>min_dist</th>\n",
       "      <th>max_time</th>\n",
       "      <th>max_dist</th>\n",
       "      <th>meters_elapsed</th>\n",
       "      <th>sec_elapsed</th>\n",
       "      <th>speed_mph</th>\n",
       "    </tr>\n",
       "    <tr>\n",
       "      <th>__null_dask_index__</th>\n",
       "      <th></th>\n",
       "      <th></th>\n",
       "      <th></th>\n",
       "      <th></th>\n",
       "      <th></th>\n",
       "      <th></th>\n",
       "      <th></th>\n",
       "      <th></th>\n",
       "      <th></th>\n",
       "      <th></th>\n",
       "      <th></th>\n",
       "      <th></th>\n",
       "    </tr>\n",
       "  </thead>\n",
       "  <tbody>\n",
       "    <tr>\n",
       "      <th>1419102</th>\n",
       "      <td>ec4a1466e6836587e9754591dca807d0</td>\n",
       "      <td>Bay Area 511 Muni VehiclePositions</td>\n",
       "      <td>f46717b0a40542eec3dbfe55ac8d8058</td>\n",
       "      <td>14</td>\n",
       "      <td>11042111_M11</td>\n",
       "      <td>2023-03-15 12:17:43</td>\n",
       "      <td>71.11</td>\n",
       "      <td>2023-03-15 12:18:33</td>\n",
       "      <td>81.79</td>\n",
       "      <td>10.68</td>\n",
       "      <td>50.00</td>\n",
       "      <td>0.48</td>\n",
       "    </tr>\n",
       "  </tbody>\n",
       "</table>\n",
       "</div>"
      ],
      "text/plain": [
       "                                     gtfs_dataset_key  \\\n",
       "__null_dask_index__                                     \n",
       "1419102              ec4a1466e6836587e9754591dca807d0   \n",
       "\n",
       "                                     _gtfs_dataset_name  \\\n",
       "__null_dask_index__                                       \n",
       "1419102              Bay Area 511 Muni VehiclePositions   \n",
       "\n",
       "                                      shape_array_key  stop_sequence  \\\n",
       "__null_dask_index__                                                    \n",
       "1419102              f46717b0a40542eec3dbfe55ac8d8058             14   \n",
       "\n",
       "                          trip_id            min_time  min_dist  \\\n",
       "__null_dask_index__                                               \n",
       "1419102              11042111_M11 2023-03-15 12:17:43     71.11   \n",
       "\n",
       "                               max_time  max_dist  meters_elapsed  \\\n",
       "__null_dask_index__                                                 \n",
       "1419102             2023-03-15 12:18:33     81.79           10.68   \n",
       "\n",
       "                     sec_elapsed  speed_mph  \n",
       "__null_dask_index__                          \n",
       "1419102                    50.00       0.48  "
      ]
     },
     "execution_count": 63,
     "metadata": {},
     "output_type": "execute_result"
    }
   ],
   "source": [
    "speed_stops.sample()"
   ]
  },
  {
   "cell_type": "code",
   "execution_count": 25,
   "id": "e7f75ba6-88c2-4e9a-a79f-8e698dcbe44c",
   "metadata": {},
   "outputs": [],
   "source": [
    "speed_stops2 = speed_stops[speed_stops_subset]"
   ]
  },
  {
   "cell_type": "code",
   "execution_count": 29,
   "id": "c12348af-0b89-4ac5-8b58-c76b99ae4158",
   "metadata": {
    "scrolled": true,
    "tags": []
   },
   "outputs": [],
   "source": [
    "# Do I need geometry? Doesn't seem like it..\n",
    "avg_speeds = gpd.read_parquet(f\"{GCS_PATH}avg_speeds_stop_segments_{analysis_date}.parquet\")"
   ]
  },
  {
   "cell_type": "code",
   "execution_count": 31,
   "id": "7b280cfd-6b7e-4352-80af-16941294bf6c",
   "metadata": {},
   "outputs": [],
   "source": [
    "avg_speeds_subset = ['geometry','geometry_arrowized','district','district_name']\n",
    "avg_speeds2 = avg_speeds.drop(columns = avg_speeds_subset)"
   ]
  },
  {
   "cell_type": "code",
   "execution_count": 33,
   "id": "3396cdc3-f776-49de-9ff4-dfd1d57f28de",
   "metadata": {},
   "outputs": [],
   "source": [
    "m1 = pd.merge(avg_speeds2, speed_stops2, on = ['gtfs_dataset_key','shape_array_key', 'stop_sequence'], how = 'inner')"
   ]
  },
  {
   "cell_type": "code",
   "execution_count": 34,
   "id": "a3564164-427d-43a6-8c31-7bf9ea729ea4",
   "metadata": {},
   "outputs": [
    {
     "data": {
      "text/plain": [
       "count   2793704.00\n",
       "mean        382.17\n",
       "std        1018.44\n",
       "min           0.00\n",
       "25%          13.00\n",
       "50%          28.00\n",
       "75%          54.00\n",
       "max       12000.00\n",
       "Name: stop_sequence, dtype: float64"
      ]
     },
     "execution_count": 34,
     "metadata": {},
     "output_type": "execute_result"
    }
   ],
   "source": [
    "m1.stop_sequence.describe()"
   ]
  },
  {
   "cell_type": "code",
   "execution_count": null,
   "id": "b6101f73-f47f-4e22-9ddf-780fa7800cf1",
   "metadata": {},
   "outputs": [],
   "source": [
    "# one_route3 = m1[m1.shape_array_key == \"79546070e205e6085de4597ac1063d77\"]"
   ]
  },
  {
   "cell_type": "code",
   "execution_count": null,
   "id": "6f44967c-c13e-4cf3-aab7-b9d561e2773b",
   "metadata": {
    "tags": []
   },
   "outputs": [],
   "source": [
    "# one_route3['test_seq'] = one_route3.groupby(['gtfs_dataset_key','shape_array_key', 'trip_id']).cumcount().astype(int)+1"
   ]
  },
  {
   "cell_type": "code",
   "execution_count": null,
   "id": "923d3a1a-2eee-4f51-97dd-64aeed5bdcf7",
   "metadata": {},
   "outputs": [],
   "source": [
    "#one_route3"
   ]
  },
  {
   "cell_type": "code",
   "execution_count": 36,
   "id": "0673698c-9131-4f51-9e90-2e0651123773",
   "metadata": {
    "scrolled": true,
    "tags": []
   },
   "outputs": [],
   "source": [
    "# Renumber stop sequences since some of them are out of order\n",
    "m1 = m1.sort_values(['shape_array_key', 'gtfs_dataset_key', 'trip_id', 'stop_sequence']).reset_index(drop = True)"
   ]
  },
  {
   "cell_type": "code",
   "execution_count": 37,
   "id": "a138b42a-ddbc-4bec-8531-72b81ff3c21c",
   "metadata": {},
   "outputs": [],
   "source": [
    "m1['Test Stop Sequence'] = m1.groupby(['gtfs_dataset_key','shape_array_key', 'trip_id']).cumcount().astype(int)+1"
   ]
  },
  {
   "cell_type": "code",
   "execution_count": 69,
   "id": "01078044-278b-4043-901e-5b40e80bfea9",
   "metadata": {},
   "outputs": [],
   "source": [
    "foothill3 = speed_stops2[speed_stops2.shape_array_key == \"053bf66eba3f5d9980daafd812b99161\"]"
   ]
  },
  {
   "cell_type": "code",
   "execution_count": 70,
   "id": "173615fa-c942-4d85-9ca8-64852b706d1f",
   "metadata": {},
   "outputs": [
    {
     "data": {
      "text/plain": [
       "29888"
      ]
     },
     "execution_count": 70,
     "metadata": {},
     "output_type": "execute_result"
    }
   ],
   "source": [
    "len(foothill3)"
   ]
  },
  {
   "cell_type": "code",
   "execution_count": 71,
   "id": "9cee6f4c-8786-478a-97ff-702be25d0788",
   "metadata": {},
   "outputs": [
    {
     "data": {
      "text/html": [
       "<div>\n",
       "<style scoped>\n",
       "    .dataframe tbody tr th:only-of-type {\n",
       "        vertical-align: middle;\n",
       "    }\n",
       "\n",
       "    .dataframe tbody tr th {\n",
       "        vertical-align: top;\n",
       "    }\n",
       "\n",
       "    .dataframe thead th {\n",
       "        text-align: right;\n",
       "    }\n",
       "</style>\n",
       "<table border=\"1\" class=\"dataframe\">\n",
       "  <thead>\n",
       "    <tr style=\"text-align: right;\">\n",
       "      <th></th>\n",
       "      <th>gtfs_dataset_key</th>\n",
       "      <th>_gtfs_dataset_name</th>\n",
       "      <th>shape_array_key</th>\n",
       "      <th>stop_sequence</th>\n",
       "      <th>trip_id</th>\n",
       "      <th>speed_mph</th>\n",
       "    </tr>\n",
       "    <tr>\n",
       "      <th>__null_dask_index__</th>\n",
       "      <th></th>\n",
       "      <th></th>\n",
       "      <th></th>\n",
       "      <th></th>\n",
       "      <th></th>\n",
       "      <th></th>\n",
       "    </tr>\n",
       "  </thead>\n",
       "  <tbody>\n",
       "    <tr>\n",
       "      <th>2538062</th>\n",
       "      <td>7342e9ab4e268b54f9cce8cc25f11345</td>\n",
       "      <td>Foothill Vehicle Positions</td>\n",
       "      <td>053bf66eba3f5d9980daafd812b99161</td>\n",
       "      <td>3218</td>\n",
       "      <td>t604-b2791-sl5</td>\n",
       "      <td>4.76</td>\n",
       "    </tr>\n",
       "    <tr>\n",
       "      <th>2538063</th>\n",
       "      <td>7342e9ab4e268b54f9cce8cc25f11345</td>\n",
       "      <td>Foothill Vehicle Positions</td>\n",
       "      <td>053bf66eba3f5d9980daafd812b99161</td>\n",
       "      <td>3218</td>\n",
       "      <td>t64A-b275D-sl5</td>\n",
       "      <td>9.90</td>\n",
       "    </tr>\n",
       "    <tr>\n",
       "      <th>2538064</th>\n",
       "      <td>7342e9ab4e268b54f9cce8cc25f11345</td>\n",
       "      <td>Foothill Vehicle Positions</td>\n",
       "      <td>053bf66eba3f5d9980daafd812b99161</td>\n",
       "      <td>3218</td>\n",
       "      <td>t4D1-b27B5-sl5</td>\n",
       "      <td>25.60</td>\n",
       "    </tr>\n",
       "    <tr>\n",
       "      <th>2538065</th>\n",
       "      <td>7342e9ab4e268b54f9cce8cc25f11345</td>\n",
       "      <td>Foothill Vehicle Positions</td>\n",
       "      <td>053bf66eba3f5d9980daafd812b99161</td>\n",
       "      <td>3218</td>\n",
       "      <td>t802-b2790-sl5</td>\n",
       "      <td>34.24</td>\n",
       "    </tr>\n",
       "    <tr>\n",
       "      <th>2538066</th>\n",
       "      <td>7342e9ab4e268b54f9cce8cc25f11345</td>\n",
       "      <td>Foothill Vehicle Positions</td>\n",
       "      <td>053bf66eba3f5d9980daafd812b99161</td>\n",
       "      <td>3218</td>\n",
       "      <td>t613-b2775-sl5</td>\n",
       "      <td>8.07</td>\n",
       "    </tr>\n",
       "  </tbody>\n",
       "</table>\n",
       "</div>"
      ],
      "text/plain": [
       "                                     gtfs_dataset_key  \\\n",
       "__null_dask_index__                                     \n",
       "2538062              7342e9ab4e268b54f9cce8cc25f11345   \n",
       "2538063              7342e9ab4e268b54f9cce8cc25f11345   \n",
       "2538064              7342e9ab4e268b54f9cce8cc25f11345   \n",
       "2538065              7342e9ab4e268b54f9cce8cc25f11345   \n",
       "2538066              7342e9ab4e268b54f9cce8cc25f11345   \n",
       "\n",
       "                             _gtfs_dataset_name  \\\n",
       "__null_dask_index__                               \n",
       "2538062              Foothill Vehicle Positions   \n",
       "2538063              Foothill Vehicle Positions   \n",
       "2538064              Foothill Vehicle Positions   \n",
       "2538065              Foothill Vehicle Positions   \n",
       "2538066              Foothill Vehicle Positions   \n",
       "\n",
       "                                      shape_array_key  stop_sequence  \\\n",
       "__null_dask_index__                                                    \n",
       "2538062              053bf66eba3f5d9980daafd812b99161           3218   \n",
       "2538063              053bf66eba3f5d9980daafd812b99161           3218   \n",
       "2538064              053bf66eba3f5d9980daafd812b99161           3218   \n",
       "2538065              053bf66eba3f5d9980daafd812b99161           3218   \n",
       "2538066              053bf66eba3f5d9980daafd812b99161           3218   \n",
       "\n",
       "                            trip_id  speed_mph  \n",
       "__null_dask_index__                             \n",
       "2538062              t604-b2791-sl5       4.76  \n",
       "2538063              t64A-b275D-sl5       9.90  \n",
       "2538064              t4D1-b27B5-sl5      25.60  \n",
       "2538065              t802-b2790-sl5      34.24  \n",
       "2538066              t613-b2775-sl5       8.07  "
      ]
     },
     "execution_count": 71,
     "metadata": {},
     "output_type": "execute_result"
    }
   ],
   "source": [
    "foothill3.head()"
   ]
  },
  {
   "cell_type": "code",
   "execution_count": 65,
   "id": "fe22bbf3-d74a-4f3d-881c-acde08773e9e",
   "metadata": {},
   "outputs": [],
   "source": [
    "foothill2 = avg_speeds[avg_speeds.shape_array_key == \"053bf66eba3f5d9980daafd812b99161\"]"
   ]
  },
  {
   "cell_type": "code",
   "execution_count": 66,
   "id": "d6c010f5-a7e3-4a46-8fcd-09a3ce5f6e2a",
   "metadata": {},
   "outputs": [
    {
     "data": {
      "text/plain": [
       "752"
      ]
     },
     "execution_count": 66,
     "metadata": {},
     "output_type": "execute_result"
    }
   ],
   "source": [
    "len(foothill2)"
   ]
  },
  {
   "cell_type": "code",
   "execution_count": 67,
   "id": "13663829-55de-4215-9dbd-01ee2d67c803",
   "metadata": {},
   "outputs": [],
   "source": [
    "foothill = m1[m1.shape_array_key == \"053bf66eba3f5d9980daafd812b99161\"]"
   ]
  },
  {
   "cell_type": "code",
   "execution_count": 68,
   "id": "21685bfd-af5a-4d5b-bd24-b28bc50cc1fd",
   "metadata": {},
   "outputs": [
    {
     "data": {
      "text/plain": [
       "29888"
      ]
     },
     "execution_count": 68,
     "metadata": {},
     "output_type": "execute_result"
    }
   ],
   "source": [
    "len(foothill)"
   ]
  },
  {
   "cell_type": "code",
   "execution_count": 53,
   "id": "7b0fe00e-0995-4fed-a2ff-1e43cbad78d8",
   "metadata": {},
   "outputs": [
    {
     "data": {
      "text/plain": [
       "count   29888.00\n",
       "mean      288.94\n",
       "std       167.54\n",
       "min         1.00\n",
       "25%       144.00\n",
       "50%       288.00\n",
       "75%       432.00\n",
       "max       640.00\n",
       "Name: Test Stop Sequence, dtype: float64"
      ]
     },
     "execution_count": 53,
     "metadata": {},
     "output_type": "execute_result"
    }
   ],
   "source": [
    "foothill['Test Stop Sequence'].describe()"
   ]
  },
  {
   "cell_type": "code",
   "execution_count": 54,
   "id": "b35cb49c-2a34-4221-9314-d8460c06c616",
   "metadata": {},
   "outputs": [
    {
     "data": {
      "text/plain": [
       "1      52\n",
       "271    52\n",
       "269    52\n",
       "268    52\n",
       "267    52\n",
       "Name: Test Stop Sequence, dtype: int64"
      ]
     },
     "execution_count": 54,
     "metadata": {},
     "output_type": "execute_result"
    }
   ],
   "source": [
    "foothill['Test Stop Sequence'].value_counts().head()"
   ]
  },
  {
   "cell_type": "code",
   "execution_count": 55,
   "id": "d7d5d164-12c5-4df2-b5c2-8e5d23b567f8",
   "metadata": {},
   "outputs": [
    {
     "data": {
      "text/plain": [
       "array(['Foothill Vehicle Positions'], dtype=object)"
      ]
     },
     "execution_count": 55,
     "metadata": {},
     "output_type": "execute_result"
    }
   ],
   "source": [
    "foothill['_gtfs_dataset_name'].unique()"
   ]
  },
  {
   "cell_type": "code",
   "execution_count": 72,
   "id": "a662ba7f-5dc6-4d4b-8ffc-26d6a8b702ef",
   "metadata": {},
   "outputs": [
    {
     "data": {
      "text/html": [
       "<div>\n",
       "<style scoped>\n",
       "    .dataframe tbody tr th:only-of-type {\n",
       "        vertical-align: middle;\n",
       "    }\n",
       "\n",
       "    .dataframe tbody tr th {\n",
       "        vertical-align: top;\n",
       "    }\n",
       "\n",
       "    .dataframe thead th {\n",
       "        text-align: right;\n",
       "    }\n",
       "</style>\n",
       "<table border=\"1\" class=\"dataframe\">\n",
       "  <thead>\n",
       "    <tr style=\"text-align: right;\">\n",
       "      <th></th>\n",
       "      <th>stop_sequence</th>\n",
       "    </tr>\n",
       "    <tr>\n",
       "      <th>trip_id</th>\n",
       "      <th></th>\n",
       "    </tr>\n",
       "  </thead>\n",
       "  <tbody>\n",
       "    <tr>\n",
       "      <th>t604-b2791-sl5</th>\n",
       "      <td>640</td>\n",
       "    </tr>\n",
       "    <tr>\n",
       "      <th>t4D1-b27B5-sl5</th>\n",
       "      <td>616</td>\n",
       "    </tr>\n",
       "    <tr>\n",
       "      <th>t59B-b2793-sl5</th>\n",
       "      <td>614</td>\n",
       "    </tr>\n",
       "    <tr>\n",
       "      <th>t668-b278A-sl5</th>\n",
       "      <td>611</td>\n",
       "    </tr>\n",
       "    <tr>\n",
       "      <th>t64A-b275D-sl5</th>\n",
       "      <td>611</td>\n",
       "    </tr>\n",
       "  </tbody>\n",
       "</table>\n",
       "</div>"
      ],
      "text/plain": [
       "                stop_sequence\n",
       "trip_id                      \n",
       "t604-b2791-sl5            640\n",
       "t4D1-b27B5-sl5            616\n",
       "t59B-b2793-sl5            614\n",
       "t668-b278A-sl5            611\n",
       "t64A-b275D-sl5            611"
      ]
     },
     "execution_count": 72,
     "metadata": {},
     "output_type": "execute_result"
    }
   ],
   "source": [
    "foothill.groupby(['trip_id']).agg({'stop_sequence':'count'}).sort_values(['stop_sequence'], ascending = False).head()"
   ]
  },
  {
   "cell_type": "code",
   "execution_count": 74,
   "id": "4b74a4d0-df64-43ff-8a58-0cc777e5003a",
   "metadata": {
    "tags": []
   },
   "outputs": [
    {
     "data": {
      "text/html": [
       "<div>\n",
       "<style scoped>\n",
       "    .dataframe tbody tr th:only-of-type {\n",
       "        vertical-align: middle;\n",
       "    }\n",
       "\n",
       "    .dataframe tbody tr th {\n",
       "        vertical-align: top;\n",
       "    }\n",
       "\n",
       "    .dataframe thead th {\n",
       "        text-align: right;\n",
       "    }\n",
       "</style>\n",
       "<table border=\"1\" class=\"dataframe\">\n",
       "  <thead>\n",
       "    <tr style=\"text-align: right;\">\n",
       "      <th></th>\n",
       "      <th>shape_array_key</th>\n",
       "      <th>stop_sequence</th>\n",
       "      <th>gtfs_dataset_key</th>\n",
       "      <th>loop_or_inlining</th>\n",
       "      <th>avg_speed_mph</th>\n",
       "      <th>n_trips</th>\n",
       "      <th>p20_speed_mph</th>\n",
       "      <th>p80_speed_mph</th>\n",
       "      <th>_gtfs_dataset_name</th>\n",
       "      <th>trip_id</th>\n",
       "      <th>speed_mph</th>\n",
       "      <th>Test Stop Sequence</th>\n",
       "    </tr>\n",
       "  </thead>\n",
       "  <tbody>\n",
       "    <tr>\n",
       "      <th>68820</th>\n",
       "      <td>053bf66eba3f5d9980daafd812b99161</td>\n",
       "      <td>151</td>\n",
       "      <td>7342e9ab4e268b54f9cce8cc25f11345</td>\n",
       "      <td>1</td>\n",
       "      <td>6.00</td>\n",
       "      <td>48</td>\n",
       "      <td>1.57</td>\n",
       "      <td>11.17</td>\n",
       "      <td>Foothill Vehicle Positions</td>\n",
       "      <td>t604-b2791-sl5</td>\n",
       "      <td>0.88</td>\n",
       "      <td>1</td>\n",
       "    </tr>\n",
       "    <tr>\n",
       "      <th>68821</th>\n",
       "      <td>053bf66eba3f5d9980daafd812b99161</td>\n",
       "      <td>173</td>\n",
       "      <td>7342e9ab4e268b54f9cce8cc25f11345</td>\n",
       "      <td>1</td>\n",
       "      <td>6.37</td>\n",
       "      <td>49</td>\n",
       "      <td>3.25</td>\n",
       "      <td>8.78</td>\n",
       "      <td>Foothill Vehicle Positions</td>\n",
       "      <td>t604-b2791-sl5</td>\n",
       "      <td>1.46</td>\n",
       "      <td>2</td>\n",
       "    </tr>\n",
       "    <tr>\n",
       "      <th>68822</th>\n",
       "      <td>053bf66eba3f5d9980daafd812b99161</td>\n",
       "      <td>194</td>\n",
       "      <td>7342e9ab4e268b54f9cce8cc25f11345</td>\n",
       "      <td>1</td>\n",
       "      <td>6.37</td>\n",
       "      <td>49</td>\n",
       "      <td>3.25</td>\n",
       "      <td>8.78</td>\n",
       "      <td>Foothill Vehicle Positions</td>\n",
       "      <td>t604-b2791-sl5</td>\n",
       "      <td>1.46</td>\n",
       "      <td>3</td>\n",
       "    </tr>\n",
       "    <tr>\n",
       "      <th>68823</th>\n",
       "      <td>053bf66eba3f5d9980daafd812b99161</td>\n",
       "      <td>200</td>\n",
       "      <td>7342e9ab4e268b54f9cce8cc25f11345</td>\n",
       "      <td>1</td>\n",
       "      <td>5.60</td>\n",
       "      <td>14</td>\n",
       "      <td>1.35</td>\n",
       "      <td>9.09</td>\n",
       "      <td>Foothill Vehicle Positions</td>\n",
       "      <td>t604-b2791-sl5</td>\n",
       "      <td>4.15</td>\n",
       "      <td>4</td>\n",
       "    </tr>\n",
       "    <tr>\n",
       "      <th>68824</th>\n",
       "      <td>053bf66eba3f5d9980daafd812b99161</td>\n",
       "      <td>229</td>\n",
       "      <td>7342e9ab4e268b54f9cce8cc25f11345</td>\n",
       "      <td>1</td>\n",
       "      <td>5.60</td>\n",
       "      <td>14</td>\n",
       "      <td>1.35</td>\n",
       "      <td>9.09</td>\n",
       "      <td>Foothill Vehicle Positions</td>\n",
       "      <td>t604-b2791-sl5</td>\n",
       "      <td>4.15</td>\n",
       "      <td>5</td>\n",
       "    </tr>\n",
       "    <tr>\n",
       "      <th>68825</th>\n",
       "      <td>053bf66eba3f5d9980daafd812b99161</td>\n",
       "      <td>245</td>\n",
       "      <td>7342e9ab4e268b54f9cce8cc25f11345</td>\n",
       "      <td>1</td>\n",
       "      <td>6.29</td>\n",
       "      <td>42</td>\n",
       "      <td>4.17</td>\n",
       "      <td>7.86</td>\n",
       "      <td>Foothill Vehicle Positions</td>\n",
       "      <td>t604-b2791-sl5</td>\n",
       "      <td>5.98</td>\n",
       "      <td>6</td>\n",
       "    </tr>\n",
       "    <tr>\n",
       "      <th>68826</th>\n",
       "      <td>053bf66eba3f5d9980daafd812b99161</td>\n",
       "      <td>280</td>\n",
       "      <td>7342e9ab4e268b54f9cce8cc25f11345</td>\n",
       "      <td>1</td>\n",
       "      <td>5.56</td>\n",
       "      <td>28</td>\n",
       "      <td>1.98</td>\n",
       "      <td>7.94</td>\n",
       "      <td>Foothill Vehicle Positions</td>\n",
       "      <td>t604-b2791-sl5</td>\n",
       "      <td>5.36</td>\n",
       "      <td>7</td>\n",
       "    </tr>\n",
       "    <tr>\n",
       "      <th>68827</th>\n",
       "      <td>053bf66eba3f5d9980daafd812b99161</td>\n",
       "      <td>287</td>\n",
       "      <td>7342e9ab4e268b54f9cce8cc25f11345</td>\n",
       "      <td>1</td>\n",
       "      <td>10.18</td>\n",
       "      <td>45</td>\n",
       "      <td>5.60</td>\n",
       "      <td>16.33</td>\n",
       "      <td>Foothill Vehicle Positions</td>\n",
       "      <td>t604-b2791-sl5</td>\n",
       "      <td>5.91</td>\n",
       "      <td>8</td>\n",
       "    </tr>\n",
       "    <tr>\n",
       "      <th>68828</th>\n",
       "      <td>053bf66eba3f5d9980daafd812b99161</td>\n",
       "      <td>328</td>\n",
       "      <td>7342e9ab4e268b54f9cce8cc25f11345</td>\n",
       "      <td>1</td>\n",
       "      <td>10.18</td>\n",
       "      <td>45</td>\n",
       "      <td>5.60</td>\n",
       "      <td>16.33</td>\n",
       "      <td>Foothill Vehicle Positions</td>\n",
       "      <td>t604-b2791-sl5</td>\n",
       "      <td>5.91</td>\n",
       "      <td>9</td>\n",
       "    </tr>\n",
       "    <tr>\n",
       "      <th>68829</th>\n",
       "      <td>053bf66eba3f5d9980daafd812b99161</td>\n",
       "      <td>355</td>\n",
       "      <td>7342e9ab4e268b54f9cce8cc25f11345</td>\n",
       "      <td>1</td>\n",
       "      <td>8.52</td>\n",
       "      <td>46</td>\n",
       "      <td>6.28</td>\n",
       "      <td>9.92</td>\n",
       "      <td>Foothill Vehicle Positions</td>\n",
       "      <td>t604-b2791-sl5</td>\n",
       "      <td>9.09</td>\n",
       "      <td>10</td>\n",
       "    </tr>\n",
       "  </tbody>\n",
       "</table>\n",
       "</div>"
      ],
      "text/plain": [
       "                        shape_array_key  stop_sequence  \\\n",
       "68820  053bf66eba3f5d9980daafd812b99161            151   \n",
       "68821  053bf66eba3f5d9980daafd812b99161            173   \n",
       "68822  053bf66eba3f5d9980daafd812b99161            194   \n",
       "68823  053bf66eba3f5d9980daafd812b99161            200   \n",
       "68824  053bf66eba3f5d9980daafd812b99161            229   \n",
       "68825  053bf66eba3f5d9980daafd812b99161            245   \n",
       "68826  053bf66eba3f5d9980daafd812b99161            280   \n",
       "68827  053bf66eba3f5d9980daafd812b99161            287   \n",
       "68828  053bf66eba3f5d9980daafd812b99161            328   \n",
       "68829  053bf66eba3f5d9980daafd812b99161            355   \n",
       "\n",
       "                       gtfs_dataset_key  loop_or_inlining  avg_speed_mph  \\\n",
       "68820  7342e9ab4e268b54f9cce8cc25f11345                 1           6.00   \n",
       "68821  7342e9ab4e268b54f9cce8cc25f11345                 1           6.37   \n",
       "68822  7342e9ab4e268b54f9cce8cc25f11345                 1           6.37   \n",
       "68823  7342e9ab4e268b54f9cce8cc25f11345                 1           5.60   \n",
       "68824  7342e9ab4e268b54f9cce8cc25f11345                 1           5.60   \n",
       "68825  7342e9ab4e268b54f9cce8cc25f11345                 1           6.29   \n",
       "68826  7342e9ab4e268b54f9cce8cc25f11345                 1           5.56   \n",
       "68827  7342e9ab4e268b54f9cce8cc25f11345                 1          10.18   \n",
       "68828  7342e9ab4e268b54f9cce8cc25f11345                 1          10.18   \n",
       "68829  7342e9ab4e268b54f9cce8cc25f11345                 1           8.52   \n",
       "\n",
       "       n_trips  p20_speed_mph  p80_speed_mph          _gtfs_dataset_name  \\\n",
       "68820       48           1.57          11.17  Foothill Vehicle Positions   \n",
       "68821       49           3.25           8.78  Foothill Vehicle Positions   \n",
       "68822       49           3.25           8.78  Foothill Vehicle Positions   \n",
       "68823       14           1.35           9.09  Foothill Vehicle Positions   \n",
       "68824       14           1.35           9.09  Foothill Vehicle Positions   \n",
       "68825       42           4.17           7.86  Foothill Vehicle Positions   \n",
       "68826       28           1.98           7.94  Foothill Vehicle Positions   \n",
       "68827       45           5.60          16.33  Foothill Vehicle Positions   \n",
       "68828       45           5.60          16.33  Foothill Vehicle Positions   \n",
       "68829       46           6.28           9.92  Foothill Vehicle Positions   \n",
       "\n",
       "              trip_id  speed_mph  Test Stop Sequence  \n",
       "68820  t604-b2791-sl5       0.88                   1  \n",
       "68821  t604-b2791-sl5       1.46                   2  \n",
       "68822  t604-b2791-sl5       1.46                   3  \n",
       "68823  t604-b2791-sl5       4.15                   4  \n",
       "68824  t604-b2791-sl5       4.15                   5  \n",
       "68825  t604-b2791-sl5       5.98                   6  \n",
       "68826  t604-b2791-sl5       5.36                   7  \n",
       "68827  t604-b2791-sl5       5.91                   8  \n",
       "68828  t604-b2791-sl5       5.91                   9  \n",
       "68829  t604-b2791-sl5       9.09                  10  "
      ]
     },
     "execution_count": 74,
     "metadata": {},
     "output_type": "execute_result"
    }
   ],
   "source": [
    "foothill[muni['trip_id'] == \"t604-b2791-sl5\"].head(10)"
   ]
  },
  {
   "cell_type": "code",
   "execution_count": 75,
   "id": "65acf425-3fd1-4b41-b3f4-016ce2b71b1e",
   "metadata": {},
   "outputs": [],
   "source": [
    "# one_route4 =  m1[m1.shape_array_key == \"053bf66eba3f5d9980daafd812b99161\"]"
   ]
  },
  {
   "cell_type": "code",
   "execution_count": 76,
   "id": "df3b6328-f585-4010-9b69-04afd2052b2f",
   "metadata": {},
   "outputs": [],
   "source": [
    "# one_route4.head()"
   ]
  },
  {
   "cell_type": "code",
   "execution_count": 77,
   "id": "8d61ae16-ee8b-4d74-88c5-adad6f4d33a8",
   "metadata": {
    "tags": []
   },
   "outputs": [],
   "source": [
    "# one_route2"
   ]
  },
  {
   "cell_type": "code",
   "execution_count": 78,
   "id": "d88c60ee-cd93-43f8-a4d0-72db52e11b81",
   "metadata": {},
   "outputs": [],
   "source": [
    "# one_route['test_seq'] = one_route.groupby(['gtfs_dataset_key','shape_array_key', 'trip_id']).cumcount().astype(int)+1"
   ]
  },
  {
   "cell_type": "code",
   "execution_count": 79,
   "id": "8b99619c-95a6-43f5-9b21-76cf843724ff",
   "metadata": {},
   "outputs": [],
   "source": [
    "# one_route"
   ]
  },
  {
   "cell_type": "code",
   "execution_count": 80,
   "id": "a8968f6c-a4df-4861-a5e2-9aad3e3d78e6",
   "metadata": {
    "scrolled": true,
    "tags": []
   },
   "outputs": [],
   "source": [
    "# one_route2['test_seq'] = one_route2.groupby(['gtfs_dataset_key','shape_array_key', 'trip_id']).cumcount().astype(int)+1"
   ]
  },
  {
   "cell_type": "code",
   "execution_count": 81,
   "id": "f141214b-6220-48dc-8178-ed2923ddf5a0",
   "metadata": {
    "scrolled": true,
    "tags": []
   },
   "outputs": [],
   "source": [
    "# one_route2.sort_values(by = ['trip_id', 'test_seq', 'stop_sequence'])# "
   ]
  },
  {
   "cell_type": "code",
   "execution_count": 82,
   "id": "576c28b2-8c36-48a2-b312-9fc54010f7b5",
   "metadata": {},
   "outputs": [],
   "source": [
    "test1 = m1.melt(id_vars=[ '_gtfs_dataset_name','shape_array_key','trip_id', 'Test Stop Sequence','gtfs_dataset_key','loop_or_inlining',\n",
    "                       'n_trips'], value_vars=[ 'avg_speed_mph','speed_mph','p20_speed_mph', 'p80_speed_mph'])"
   ]
  },
  {
   "cell_type": "code",
   "execution_count": 83,
   "id": "2b55cb75-8ee8-477c-95bc-439d2ee65962",
   "metadata": {},
   "outputs": [
    {
     "data": {
      "text/plain": [
       "(11174816, 9)"
      ]
     },
     "execution_count": 83,
     "metadata": {},
     "output_type": "execute_result"
    }
   ],
   "source": [
    "test1.shape"
   ]
  },
  {
   "cell_type": "code",
   "execution_count": 84,
   "id": "29dc19fd-0d8b-430d-a78a-a1c947263ef0",
   "metadata": {
    "scrolled": true,
    "tags": []
   },
   "outputs": [],
   "source": [
    "# test1[test1.shape_array_key == \"29d2bbdbeaec1d6888800f85bebf6e33\"]"
   ]
  },
  {
   "cell_type": "code",
   "execution_count": 85,
   "id": "e2c00548-7615-409c-a7cc-7db5f16c9a88",
   "metadata": {},
   "outputs": [],
   "source": [
    "# Only need average speed/p20 speed/p80 to show up once for each stop sequence-operator-shape array\n",
    "test2 = test1.drop_duplicates(subset = [ '_gtfs_dataset_name','shape_array_key','Test Stop Sequence','gtfs_dataset_key','variable','value']).reset_index(drop = True)"
   ]
  },
  {
   "cell_type": "code",
   "execution_count": 86,
   "id": "be4bac6e-2d9f-4d64-a835-22bb4f3c32f5",
   "metadata": {},
   "outputs": [
    {
     "data": {
      "text/plain": [
       "(4213138, 9)"
      ]
     },
     "execution_count": 86,
     "metadata": {},
     "output_type": "execute_result"
    }
   ],
   "source": [
    "test2.shape"
   ]
  },
  {
   "cell_type": "markdown",
   "id": "5816ef70-bc10-4b87-b587-73f3789c5674",
   "metadata": {},
   "source": [
    "### Charts  \n",
    "Test with a few routes first\n",
    "* Create new col that rounds up speed for plotting purposes only."
   ]
  },
  {
   "cell_type": "code",
   "execution_count": 87,
   "id": "600d9ed7-524e-4af6-b90b-81fd89cf8c02",
   "metadata": {},
   "outputs": [],
   "source": [
    "subset = test2[test2.shape_array_key.isin([\"29d2bbdbeaec1d6888800f85bebf6e33\",'754c5b012195800c38dc58e72e4f482e',\n",
    "       'e3c5ed2c6fa6cd5c5cd57d46aeb3cd8e'])]"
   ]
  },
  {
   "cell_type": "code",
   "execution_count": 88,
   "id": "a92360af-5dfb-43e2-b89c-87c8b8268665",
   "metadata": {},
   "outputs": [],
   "source": [
    "subset = threshold_utils.pre_clean(subset)"
   ]
  },
  {
   "cell_type": "code",
   "execution_count": 89,
   "id": "4f0d0a5e-186e-4b7e-b307-6e6326c3e747",
   "metadata": {},
   "outputs": [],
   "source": [
    "subset['Route'] = 'Operator: ' + subset['Gtfs Dataset Name'] + ' Route Type: ' + subset['Loop Or Inlining'].astype(str) + ' Shape Array: ' + subset['Shape Array Key']"
   ]
  },
  {
   "cell_type": "code",
   "execution_count": 90,
   "id": "a8d96219-49d0-4251-9b4b-a6968542424d",
   "metadata": {},
   "outputs": [],
   "source": [
    "subset = subset.rename(columns = {'Value':'Speed'})"
   ]
  },
  {
   "cell_type": "code",
   "execution_count": 91,
   "id": "b1155355-b4f6-41c2-beb1-f839d9d46027",
   "metadata": {},
   "outputs": [],
   "source": [
    "subset['Speed_Int'] = subset.Speed.fillna(0).astype(int)"
   ]
  },
  {
   "cell_type": "code",
   "execution_count": 92,
   "id": "0834a228-c47d-4760-ae13-aca72784e747",
   "metadata": {},
   "outputs": [],
   "source": [
    "# subset['Rounded Speed'].unique()"
   ]
  },
  {
   "cell_type": "code",
   "execution_count": 93,
   "id": "67cb1df7-6337-478d-bd9c-3fbc0a3f698f",
   "metadata": {},
   "outputs": [],
   "source": [
    "def speed(row):\n",
    "    # If partner is none, return Unknown.\n",
    "    if row.Speed_Int == 0:\n",
    "        return 0\n",
    "    elif 0 < row.Speed_Int < 6:\n",
    "        return 5\n",
    "    elif 5 < row.Speed_Int < 11:\n",
    "        return 10\n",
    "    elif 10 < row.Speed_Int < 16:\n",
    "        return 15\n",
    "    elif 15 < row.Speed_Int < 21:\n",
    "        return 20\n",
    "    elif 20 < row.Speed_Int < 26:\n",
    "        return 25\n",
    "    elif 25 < row.Speed_Int < 31:\n",
    "        return 30\n",
    "    else:\n",
    "        return 35"
   ]
  },
  {
   "cell_type": "code",
   "execution_count": 94,
   "id": "de056258-240b-4aff-a3f9-aabe5330a9e0",
   "metadata": {},
   "outputs": [],
   "source": [
    "# Apply the function\n",
    "subset[\"Rounded Speed\"] = subset.apply(speed, axis=1)"
   ]
  },
  {
   "cell_type": "code",
   "execution_count": 95,
   "id": "afc90938-3fbd-4235-b6ab-68cfa445f0b6",
   "metadata": {
    "scrolled": true,
    "tags": []
   },
   "outputs": [],
   "source": [
    "# subset[['Rounded Speed', 'Speed', 'Speed_Int']]"
   ]
  },
  {
   "cell_type": "code",
   "execution_count": 96,
   "id": "9a39e842-70f6-4ff6-84b7-44b4dea48a40",
   "metadata": {},
   "outputs": [],
   "source": [
    "subset.Variable = subset.Variable.str.title().str.replace(\"_\",\" \")"
   ]
  },
  {
   "cell_type": "code",
   "execution_count": 97,
   "id": "a95e775c-4cff-44b6-a861-1a17efb5fbf2",
   "metadata": {},
   "outputs": [],
   "source": [
    "# One df for the actual speeds\n",
    "subset_speedmph = subset[subset.Variable == 'Speed Mph'].reset_index(drop = True)"
   ]
  },
  {
   "cell_type": "code",
   "execution_count": 98,
   "id": "447aec9f-1a4a-408c-bc16-22c67746c262",
   "metadata": {},
   "outputs": [],
   "source": [
    "# One df for the percentiles\n",
    "subset_other= subset[subset.Variable != 'Speed Mph'].reset_index(drop = True)"
   ]
  },
  {
   "cell_type": "code",
   "execution_count": 99,
   "id": "072f39d9-4bf9-4efc-a393-24f096cecf7e",
   "metadata": {},
   "outputs": [],
   "source": [
    "def alt_dropdown(df, col_for_dropdown:str, dropdown_menu_title:str):\n",
    "    # Create dropdown menu\n",
    "    # Exclude \"none\" operators which are only scheduled data\n",
    "    df = df.loc[df[col_for_dropdown] != \"None\"][[col_for_dropdown]]\n",
    "    dropdown_list = df[col_for_dropdown].unique().tolist()\n",
    "    \n",
    "    # Show only first operator by default\n",
    "    initialize_first_op = sorted(dropdown_list)[0]\n",
    "    input_dropdown = alt.binding_select(options=sorted(dropdown_list), name=dropdown_menu_title)\n",
    "    \n",
    "    selection = alt.selection_single(name= dropdown_menu_title,fields=[col_for_dropdown],\n",
    "    bind=input_dropdown, init={col_for_dropdown: initialize_first_op})\n",
    "                 \n",
    "    return selection"
   ]
  },
  {
   "cell_type": "code",
   "execution_count": 100,
   "id": "c2fd6ee4-c841-44fd-8659-0ee2bc8a926d",
   "metadata": {},
   "outputs": [],
   "source": [
    "selection_test = alt_dropdown(subset, \"Route\", \"Operator/Shape Array\")"
   ]
  },
  {
   "cell_type": "code",
   "execution_count": 115,
   "id": "e8c0fb00-e9a0-47c1-abc5-cea7a806a6df",
   "metadata": {},
   "outputs": [],
   "source": [
    "def create_jitter_plot(df):\n",
    "    \n",
    "    #title_op = df['Gtfs Dataset Name'].iloc[0].replace('VehiclePositions','').strip()\n",
    "    #inline = df['Loop Or Inlining'].iloc[0]\n",
    "    chart1 = (\n",
    "        alt.Chart(df, width=0.5)\n",
    "        .mark_circle(size=100)\n",
    "        .encode(\n",
    "            x=alt.X(\n",
    "                \"jitter:Q\",\n",
    "                title=None,\n",
    "                axis=alt.Axis(values=[0], ticks=False, grid=False, labels=False),\n",
    "                scale=alt.Scale(),\n",
    "            ),\n",
    "            y=alt.Y(\"Rounded Speed:Q\",\n",
    "                    scale=alt.Scale(domain=[0, 50]),\n",
    "                    title = \"Speed (MPH)\",\n",
    "                    axis=alt.Axis(labelAngle=360, grid=False,)),\n",
    "            color=alt.Color(\n",
    "                \"Variable:N\",\n",
    "                scale=alt.Scale(range=cp.CALITP_CATEGORY_BRIGHT_COLORS),\n",
    "            ),\n",
    "            tooltip=df.columns.tolist(),\n",
    "            column=alt.Column(\n",
    "                \"Test Stop Sequence:N\",\n",
    "                header=alt.Header(\n",
    "                    labelAngle=360,\n",
    "                    titleOrient=\"top\",\n",
    "                    labelOrient=\"top\",\n",
    "                    labelAlign=\"right\",\n",
    "                    labelPadding=2,\n",
    "                ),\n",
    "            ),\n",
    "        )\n",
    "        .transform_calculate(\n",
    "            # Generate Gaussian jitter with a Box-Muller transform\n",
    "            jitter=\"sqrt(-2*log(random()))*cos(2*PI*random())\"\n",
    "        )\n",
    "        .properties(title=\"Speeds by Operator-Shape Array\")\n",
    "    )\n",
    "    \n",
    "    chart1 = threshold_utils.chart_size(chart1, 40, 250)\n",
    "    \n",
    "    return chart1"
   ]
  },
  {
   "cell_type": "code",
   "execution_count": 116,
   "id": "19b97ca6-17c9-4540-acfe-9a4caf740ef4",
   "metadata": {},
   "outputs": [],
   "source": [
    "chart1 = create_jitter_plot(subset_speedmph).add_selection(selection_test).transform_filter(selection_test)"
   ]
  },
  {
   "cell_type": "code",
   "execution_count": 117,
   "id": "c13568df-5e19-4f0a-a9fe-c3edeb0a0073",
   "metadata": {},
   "outputs": [],
   "source": [
    "chart2 = (\n",
    "        alt.Chart(subset_other, width=0.5)\n",
    "        .mark_circle(size=200)\n",
    "        .encode(\n",
    "            x=alt.X(\n",
    "                \"jitter:Q\",\n",
    "                title=None,\n",
    "                axis=alt.Axis(values=[0], ticks=False, grid=False, labels=False),\n",
    "                scale=alt.Scale(),\n",
    "            ),\n",
    "            y=alt.Y(\"Rounded Speed:Q\", \n",
    "                    title = \"Speed (MPH)\",\n",
    "                    \n",
    "                    scale=alt.Scale(domain=[0, 50]),\n",
    "                    axis=alt.Axis(labels=False, ticks = False, grid= False)),\n",
    "            color=alt.Color(\n",
    "                \"Variable:N\",\n",
    "                scale=alt.Scale(range=cp.CALITP_CATEGORY_BRIGHT_COLORS),\n",
    "            ),\n",
    "            tooltip=subset_other.columns.tolist(),\n",
    "            column=alt.Column(\n",
    "                \"Test Stop Sequence:N\",\n",
    "                header=alt.Header(\n",
    "                    labelAngle=360,\n",
    "                    title = None,\n",
    "                    titleOrient=\"top\",\n",
    "                    labelOrient=\"top\",\n",
    "                    labelAlign=\"right\",\n",
    "                    labelPadding=2,\n",
    "                ),\n",
    "            ),\n",
    "        )\n",
    "        .transform_calculate(\n",
    "            # Generate Gaussian jitter with a Box-Muller transform\n",
    "            jitter=\"sqrt(-2*log(random()))*cos(2*PI*random())\"\n",
    "        )\n",
    "    )\n",
    "    "
   ]
  },
  {
   "cell_type": "code",
   "execution_count": 118,
   "id": "2a2bda8b-d48c-44f3-a928-08aca894c565",
   "metadata": {},
   "outputs": [],
   "source": [
    "chart2 = threshold_utils.chart_size(chart2, 50, 250)"
   ]
  },
  {
   "cell_type": "code",
   "execution_count": 119,
   "id": "dd20293d-7c43-42c4-b053-de945860b6f0",
   "metadata": {},
   "outputs": [],
   "source": [
    "chart2 = chart2.add_selection(selection_test).transform_filter(selection_test)"
   ]
  },
  {
   "cell_type": "code",
   "execution_count": 120,
   "id": "8e753711-8506-4939-8d9d-22566a641988",
   "metadata": {},
   "outputs": [
    {
     "data": {
      "text/html": [
       "\n",
       "<div id=\"altair-viz-e1bbd7997fc74f15a5a8aff9fbc94d74\"></div>\n",
       "<script type=\"text/javascript\">\n",
       "  var VEGA_DEBUG = (typeof VEGA_DEBUG == \"undefined\") ? {} : VEGA_DEBUG;\n",
       "  (function(spec, embedOpt){\n",
       "    let outputDiv = document.currentScript.previousElementSibling;\n",
       "    if (outputDiv.id !== \"altair-viz-e1bbd7997fc74f15a5a8aff9fbc94d74\") {\n",
       "      outputDiv = document.getElementById(\"altair-viz-e1bbd7997fc74f15a5a8aff9fbc94d74\");\n",
       "    }\n",
       "    const paths = {\n",
       "      \"vega\": \"https://cdn.jsdelivr.net/npm//vega@5?noext\",\n",
       "      \"vega-lib\": \"https://cdn.jsdelivr.net/npm//vega-lib?noext\",\n",
       "      \"vega-lite\": \"https://cdn.jsdelivr.net/npm//vega-lite@4.17.0?noext\",\n",
       "      \"vega-embed\": \"https://cdn.jsdelivr.net/npm//vega-embed@6?noext\",\n",
       "    };\n",
       "\n",
       "    function maybeLoadScript(lib, version) {\n",
       "      var key = `${lib.replace(\"-\", \"\")}_version`;\n",
       "      return (VEGA_DEBUG[key] == version) ?\n",
       "        Promise.resolve(paths[lib]) :\n",
       "        new Promise(function(resolve, reject) {\n",
       "          var s = document.createElement('script');\n",
       "          document.getElementsByTagName(\"head\")[0].appendChild(s);\n",
       "          s.async = true;\n",
       "          s.onload = () => {\n",
       "            VEGA_DEBUG[key] = version;\n",
       "            return resolve(paths[lib]);\n",
       "          };\n",
       "          s.onerror = () => reject(`Error loading script: ${paths[lib]}`);\n",
       "          s.src = paths[lib];\n",
       "        });\n",
       "    }\n",
       "\n",
       "    function showError(err) {\n",
       "      outputDiv.innerHTML = `<div class=\"error\" style=\"color:red;\">${err}</div>`;\n",
       "      throw err;\n",
       "    }\n",
       "\n",
       "    function displayChart(vegaEmbed) {\n",
       "      vegaEmbed(outputDiv, spec, embedOpt)\n",
       "        .catch(err => showError(`Javascript Error: ${err.message}<br>This usually means there's a typo in your chart specification. See the javascript console for the full traceback.`));\n",
       "    }\n",
       "\n",
       "    if(typeof define === \"function\" && define.amd) {\n",
       "      requirejs.config({paths});\n",
       "      require([\"vega-embed\"], displayChart, err => showError(`Error loading script: ${err.message}`));\n",
       "    } else {\n",
       "      maybeLoadScript(\"vega\", \"5\")\n",
       "        .then(() => maybeLoadScript(\"vega-lite\", \"4.17.0\"))\n",
       "        .then(() => maybeLoadScript(\"vega-embed\", \"6\"))\n",
       "        .catch(showError)\n",
       "        .then(() => displayChart(vegaEmbed));\n",
       "    }\n",
       "  })({\"config\": {\"view\": {\"continuousWidth\": 400, \"continuousHeight\": 300}}, \"hconcat\": [{\"data\": {\"name\": \"data-bc7bd5a3fc0d021c65a7c158eee2baf8\"}, \"mark\": {\"type\": \"circle\", \"size\": 100}, \"encoding\": {\"color\": {\"field\": \"Variable\", \"scale\": {\"range\": [\"#2EA8CE\", \"#EB9F3C\", \"#F4D837\", \"#51BF9D\", \"#8CBCCB\", \"#9487C0\"]}, \"type\": \"nominal\"}, \"column\": {\"field\": \"Test Stop Sequence\", \"header\": {\"labelAlign\": \"right\", \"labelAngle\": 360, \"labelOrient\": \"top\", \"labelPadding\": 2, \"titleOrient\": \"top\"}, \"type\": \"nominal\"}, \"tooltip\": [{\"field\": \"Gtfs Dataset Name\", \"type\": \"nominal\"}, {\"field\": \"Shape Array Key\", \"type\": \"nominal\"}, {\"field\": \"Trip Id\", \"type\": \"nominal\"}, {\"field\": \"Test Stop Sequence\", \"type\": \"quantitative\"}, {\"field\": \"Gtfs Dataset Key\", \"type\": \"nominal\"}, {\"field\": \"Loop Or Inlining\", \"type\": \"quantitative\"}, {\"field\": \"N Trips\", \"type\": \"quantitative\"}, {\"field\": \"Variable\", \"type\": \"nominal\"}, {\"field\": \"Speed\", \"type\": \"quantitative\"}, {\"field\": \"Route\", \"type\": \"nominal\"}, {\"field\": \"Speed_Int\", \"type\": \"quantitative\"}, {\"field\": \"Rounded Speed\", \"type\": \"quantitative\"}], \"x\": {\"axis\": {\"grid\": false, \"labels\": false, \"ticks\": false, \"values\": [0]}, \"field\": \"jitter\", \"scale\": {}, \"title\": null, \"type\": \"quantitative\"}, \"y\": {\"axis\": {\"grid\": false, \"labelAngle\": 360}, \"field\": \"Rounded Speed\", \"scale\": {\"domain\": [0, 50]}, \"title\": \"Speed (MPH)\", \"type\": \"quantitative\"}}, \"height\": 250, \"selection\": {\"Operator/Shape Array\": {\"type\": \"single\", \"fields\": [\"Route\"], \"bind\": {\"input\": \"select\", \"options\": [\"Operator: Anaheim Resort VehiclePositions Route Type: 1 Shape Array: 29d2bbdbeaec1d6888800f85bebf6e33\", \"Operator: Eastern Sierra Vehicle Positions Route Type: 0 Shape Array: 754c5b012195800c38dc58e72e4f482e\", \"Operator: Eastern Sierra Vehicle Positions Route Type: 0 Shape Array: e3c5ed2c6fa6cd5c5cd57d46aeb3cd8e\"], \"name\": \"Operator/Shape Array\"}, \"init\": {\"Route\": \"Operator: Anaheim Resort VehiclePositions Route Type: 1 Shape Array: 29d2bbdbeaec1d6888800f85bebf6e33\"}}, \"selector005\": {\"type\": \"interval\", \"bind\": \"scales\", \"encodings\": [\"x\", \"y\"]}}, \"title\": \"Speeds by Operator-Shape Array\", \"transform\": [{\"calculate\": \"sqrt(-2*log(random()))*cos(2*PI*random())\", \"as\": \"jitter\"}, {\"filter\": {\"selection\": \"Operator/Shape Array\"}}], \"width\": 40}, {\"data\": {\"name\": \"data-64787b9f08a965d3e0f41018ed111db3\"}, \"mark\": {\"type\": \"circle\", \"size\": 200}, \"encoding\": {\"color\": {\"field\": \"Variable\", \"scale\": {\"range\": [\"#2EA8CE\", \"#EB9F3C\", \"#F4D837\", \"#51BF9D\", \"#8CBCCB\", \"#9487C0\"]}, \"type\": \"nominal\"}, \"column\": {\"field\": \"Test Stop Sequence\", \"header\": {\"labelAlign\": \"right\", \"labelAngle\": 360, \"labelOrient\": \"top\", \"labelPadding\": 2, \"title\": null, \"titleOrient\": \"top\"}, \"type\": \"nominal\"}, \"tooltip\": [{\"field\": \"Gtfs Dataset Name\", \"type\": \"nominal\"}, {\"field\": \"Shape Array Key\", \"type\": \"nominal\"}, {\"field\": \"Trip Id\", \"type\": \"nominal\"}, {\"field\": \"Test Stop Sequence\", \"type\": \"quantitative\"}, {\"field\": \"Gtfs Dataset Key\", \"type\": \"nominal\"}, {\"field\": \"Loop Or Inlining\", \"type\": \"quantitative\"}, {\"field\": \"N Trips\", \"type\": \"quantitative\"}, {\"field\": \"Variable\", \"type\": \"nominal\"}, {\"field\": \"Speed\", \"type\": \"quantitative\"}, {\"field\": \"Route\", \"type\": \"nominal\"}, {\"field\": \"Speed_Int\", \"type\": \"quantitative\"}, {\"field\": \"Rounded Speed\", \"type\": \"quantitative\"}], \"x\": {\"axis\": {\"grid\": false, \"labels\": false, \"ticks\": false, \"values\": [0]}, \"field\": \"jitter\", \"scale\": {}, \"title\": null, \"type\": \"quantitative\"}, \"y\": {\"axis\": {\"grid\": false, \"labels\": false, \"ticks\": false}, \"field\": \"Rounded Speed\", \"scale\": {\"domain\": [0, 50]}, \"title\": \"Speed (MPH)\", \"type\": \"quantitative\"}}, \"height\": 250, \"selection\": {\"Operator/Shape Array\": {\"type\": \"single\", \"fields\": [\"Route\"], \"bind\": {\"input\": \"select\", \"options\": [\"Operator: Anaheim Resort VehiclePositions Route Type: 1 Shape Array: 29d2bbdbeaec1d6888800f85bebf6e33\", \"Operator: Eastern Sierra Vehicle Positions Route Type: 0 Shape Array: 754c5b012195800c38dc58e72e4f482e\", \"Operator: Eastern Sierra Vehicle Positions Route Type: 0 Shape Array: e3c5ed2c6fa6cd5c5cd57d46aeb3cd8e\"], \"name\": \"Operator/Shape Array\"}, \"init\": {\"Route\": \"Operator: Anaheim Resort VehiclePositions Route Type: 1 Shape Array: 29d2bbdbeaec1d6888800f85bebf6e33\"}}, \"selector006\": {\"type\": \"interval\", \"bind\": \"scales\", \"encodings\": [\"x\", \"y\"]}}, \"transform\": [{\"calculate\": \"sqrt(-2*log(random()))*cos(2*PI*random())\", \"as\": \"jitter\"}, {\"filter\": {\"selection\": \"Operator/Shape Array\"}}], \"width\": 50}], \"$schema\": \"https://vega.github.io/schema/vega-lite/v4.17.0.json\", \"datasets\": {\"data-bc7bd5a3fc0d021c65a7c158eee2baf8\": [{\"Gtfs Dataset Name\": \"Anaheim Resort VehiclePositions\", \"Shape Array Key\": \"29d2bbdbeaec1d6888800f85bebf6e33\", \"Trip Id\": \"aa6a03fe-f119-44a5-8976-2ad77ceeb89f:1\", \"Test Stop Sequence\": 1, \"Gtfs Dataset Key\": \"1051e067d18a76b0a79789f051d5c22b\", \"Loop Or Inlining\": 1, \"N Trips\": 8, \"Variable\": \"Speed Mph\", \"Speed\": 0.0, \"Route\": \"Operator: Anaheim Resort VehiclePositions Route Type: 1 Shape Array: 29d2bbdbeaec1d6888800f85bebf6e33\", \"Speed_Int\": 0, \"Rounded Speed\": 0}, {\"Gtfs Dataset Name\": \"Anaheim Resort VehiclePositions\", \"Shape Array Key\": \"29d2bbdbeaec1d6888800f85bebf6e33\", \"Trip Id\": \"aa6a03fe-f119-44a5-8976-2ad77ceeb89f:1\", \"Test Stop Sequence\": 2, \"Gtfs Dataset Key\": \"1051e067d18a76b0a79789f051d5c22b\", \"Loop Or Inlining\": 1, \"N Trips\": 8, \"Variable\": \"Speed Mph\", \"Speed\": 1.5, \"Route\": \"Operator: Anaheim Resort VehiclePositions Route Type: 1 Shape Array: 29d2bbdbeaec1d6888800f85bebf6e33\", \"Speed_Int\": 1, \"Rounded Speed\": 5}, {\"Gtfs Dataset Name\": \"Anaheim Resort VehiclePositions\", \"Shape Array Key\": \"29d2bbdbeaec1d6888800f85bebf6e33\", \"Trip Id\": \"aa6a03fe-f119-44a5-8976-2ad77ceeb89f:1\", \"Test Stop Sequence\": 3, \"Gtfs Dataset Key\": \"1051e067d18a76b0a79789f051d5c22b\", \"Loop Or Inlining\": 1, \"N Trips\": 8, \"Variable\": \"Speed Mph\", \"Speed\": 3.8, \"Route\": \"Operator: Anaheim Resort VehiclePositions Route Type: 1 Shape Array: 29d2bbdbeaec1d6888800f85bebf6e33\", \"Speed_Int\": 3, \"Rounded Speed\": 5}, {\"Gtfs Dataset Name\": \"Anaheim Resort VehiclePositions\", \"Shape Array Key\": \"29d2bbdbeaec1d6888800f85bebf6e33\", \"Trip Id\": \"aa6a03fe-f119-44a5-8976-2ad77ceeb89f:1\", \"Test Stop Sequence\": 4, \"Gtfs Dataset Key\": \"1051e067d18a76b0a79789f051d5c22b\", \"Loop Or Inlining\": 1, \"N Trips\": 8, \"Variable\": \"Speed Mph\", \"Speed\": 8.9, \"Route\": \"Operator: Anaheim Resort VehiclePositions Route Type: 1 Shape Array: 29d2bbdbeaec1d6888800f85bebf6e33\", \"Speed_Int\": 8, \"Rounded Speed\": 10}, {\"Gtfs Dataset Name\": \"Anaheim Resort VehiclePositions\", \"Shape Array Key\": \"29d2bbdbeaec1d6888800f85bebf6e33\", \"Trip Id\": \"aa6a03fe-f119-44a5-8976-2ad77ceeb89f:1\", \"Test Stop Sequence\": 5, \"Gtfs Dataset Key\": \"1051e067d18a76b0a79789f051d5c22b\", \"Loop Or Inlining\": 1, \"N Trips\": 8, \"Variable\": \"Speed Mph\", \"Speed\": 0.4, \"Route\": \"Operator: Anaheim Resort VehiclePositions Route Type: 1 Shape Array: 29d2bbdbeaec1d6888800f85bebf6e33\", \"Speed_Int\": 0, \"Rounded Speed\": 0}, {\"Gtfs Dataset Name\": \"Anaheim Resort VehiclePositions\", \"Shape Array Key\": \"29d2bbdbeaec1d6888800f85bebf6e33\", \"Trip Id\": \"aa6a03fe-f119-44a5-8976-2ad77ceeb89f:1\", \"Test Stop Sequence\": 6, \"Gtfs Dataset Key\": \"1051e067d18a76b0a79789f051d5c22b\", \"Loop Or Inlining\": 1, \"N Trips\": 8, \"Variable\": \"Speed Mph\", \"Speed\": 3.2, \"Route\": \"Operator: Anaheim Resort VehiclePositions Route Type: 1 Shape Array: 29d2bbdbeaec1d6888800f85bebf6e33\", \"Speed_Int\": 3, \"Rounded Speed\": 5}, {\"Gtfs Dataset Name\": \"Anaheim Resort VehiclePositions\", \"Shape Array Key\": \"29d2bbdbeaec1d6888800f85bebf6e33\", \"Trip Id\": \"aa6a03fe-f119-44a5-8976-2ad77ceeb89f:1\", \"Test Stop Sequence\": 7, \"Gtfs Dataset Key\": \"1051e067d18a76b0a79789f051d5c22b\", \"Loop Or Inlining\": 1, \"N Trips\": 8, \"Variable\": \"Speed Mph\", \"Speed\": 5.7, \"Route\": \"Operator: Anaheim Resort VehiclePositions Route Type: 1 Shape Array: 29d2bbdbeaec1d6888800f85bebf6e33\", \"Speed_Int\": 5, \"Rounded Speed\": 5}, {\"Gtfs Dataset Name\": \"Anaheim Resort VehiclePositions\", \"Shape Array Key\": \"29d2bbdbeaec1d6888800f85bebf6e33\", \"Trip Id\": \"aa6a03fe-f119-44a5-8976-2ad77ceeb89f:1\", \"Test Stop Sequence\": 8, \"Gtfs Dataset Key\": \"1051e067d18a76b0a79789f051d5c22b\", \"Loop Or Inlining\": 1, \"N Trips\": 8, \"Variable\": \"Speed Mph\", \"Speed\": 7.2, \"Route\": \"Operator: Anaheim Resort VehiclePositions Route Type: 1 Shape Array: 29d2bbdbeaec1d6888800f85bebf6e33\", \"Speed_Int\": 7, \"Rounded Speed\": 10}, {\"Gtfs Dataset Name\": \"Anaheim Resort VehiclePositions\", \"Shape Array Key\": \"29d2bbdbeaec1d6888800f85bebf6e33\", \"Trip Id\": \"aa6a03fe-f119-44a5-8976-2ad77ceeb89f:1\", \"Test Stop Sequence\": 9, \"Gtfs Dataset Key\": \"1051e067d18a76b0a79789f051d5c22b\", \"Loop Or Inlining\": 1, \"N Trips\": 8, \"Variable\": \"Speed Mph\", \"Speed\": 7.0, \"Route\": \"Operator: Anaheim Resort VehiclePositions Route Type: 1 Shape Array: 29d2bbdbeaec1d6888800f85bebf6e33\", \"Speed_Int\": 7, \"Rounded Speed\": 10}, {\"Gtfs Dataset Name\": \"Anaheim Resort VehiclePositions\", \"Shape Array Key\": \"29d2bbdbeaec1d6888800f85bebf6e33\", \"Trip Id\": \"aa6a03fe-f119-44a5-8976-2ad77ceeb89f:2\", \"Test Stop Sequence\": 1, \"Gtfs Dataset Key\": \"1051e067d18a76b0a79789f051d5c22b\", \"Loop Or Inlining\": 1, \"N Trips\": 8, \"Variable\": \"Speed Mph\", \"Speed\": 0.0, \"Route\": \"Operator: Anaheim Resort VehiclePositions Route Type: 1 Shape Array: 29d2bbdbeaec1d6888800f85bebf6e33\", \"Speed_Int\": 0, \"Rounded Speed\": 0}, {\"Gtfs Dataset Name\": \"Anaheim Resort VehiclePositions\", \"Shape Array Key\": \"29d2bbdbeaec1d6888800f85bebf6e33\", \"Trip Id\": \"aa6a03fe-f119-44a5-8976-2ad77ceeb89f:2\", \"Test Stop Sequence\": 2, \"Gtfs Dataset Key\": \"1051e067d18a76b0a79789f051d5c22b\", \"Loop Or Inlining\": 1, \"N Trips\": 8, \"Variable\": \"Speed Mph\", \"Speed\": 12.1, \"Route\": \"Operator: Anaheim Resort VehiclePositions Route Type: 1 Shape Array: 29d2bbdbeaec1d6888800f85bebf6e33\", \"Speed_Int\": 12, \"Rounded Speed\": 15}, {\"Gtfs Dataset Name\": \"Anaheim Resort VehiclePositions\", \"Shape Array Key\": \"29d2bbdbeaec1d6888800f85bebf6e33\", \"Trip Id\": \"aa6a03fe-f119-44a5-8976-2ad77ceeb89f:2\", \"Test Stop Sequence\": 3, \"Gtfs Dataset Key\": \"1051e067d18a76b0a79789f051d5c22b\", \"Loop Or Inlining\": 1, \"N Trips\": 8, \"Variable\": \"Speed Mph\", \"Speed\": 3.5, \"Route\": \"Operator: Anaheim Resort VehiclePositions Route Type: 1 Shape Array: 29d2bbdbeaec1d6888800f85bebf6e33\", \"Speed_Int\": 3, \"Rounded Speed\": 5}, {\"Gtfs Dataset Name\": \"Anaheim Resort VehiclePositions\", \"Shape Array Key\": \"29d2bbdbeaec1d6888800f85bebf6e33\", \"Trip Id\": \"aa6a03fe-f119-44a5-8976-2ad77ceeb89f:2\", \"Test Stop Sequence\": 4, \"Gtfs Dataset Key\": \"1051e067d18a76b0a79789f051d5c22b\", \"Loop Or Inlining\": 1, \"N Trips\": 8, \"Variable\": \"Speed Mph\", \"Speed\": 4.7, \"Route\": \"Operator: Anaheim Resort VehiclePositions Route Type: 1 Shape Array: 29d2bbdbeaec1d6888800f85bebf6e33\", \"Speed_Int\": 4, \"Rounded Speed\": 5}, {\"Gtfs Dataset Name\": \"Anaheim Resort VehiclePositions\", \"Shape Array Key\": \"29d2bbdbeaec1d6888800f85bebf6e33\", \"Trip Id\": \"aa6a03fe-f119-44a5-8976-2ad77ceeb89f:2\", \"Test Stop Sequence\": 5, \"Gtfs Dataset Key\": \"1051e067d18a76b0a79789f051d5c22b\", \"Loop Or Inlining\": 1, \"N Trips\": 8, \"Variable\": \"Speed Mph\", \"Speed\": 0.9, \"Route\": \"Operator: Anaheim Resort VehiclePositions Route Type: 1 Shape Array: 29d2bbdbeaec1d6888800f85bebf6e33\", \"Speed_Int\": 0, \"Rounded Speed\": 0}, {\"Gtfs Dataset Name\": \"Anaheim Resort VehiclePositions\", \"Shape Array Key\": \"29d2bbdbeaec1d6888800f85bebf6e33\", \"Trip Id\": \"aa6a03fe-f119-44a5-8976-2ad77ceeb89f:2\", \"Test Stop Sequence\": 6, \"Gtfs Dataset Key\": \"1051e067d18a76b0a79789f051d5c22b\", \"Loop Or Inlining\": 1, \"N Trips\": 8, \"Variable\": \"Speed Mph\", \"Speed\": 0.1, \"Route\": \"Operator: Anaheim Resort VehiclePositions Route Type: 1 Shape Array: 29d2bbdbeaec1d6888800f85bebf6e33\", \"Speed_Int\": 0, \"Rounded Speed\": 0}, {\"Gtfs Dataset Name\": \"Anaheim Resort VehiclePositions\", \"Shape Array Key\": \"29d2bbdbeaec1d6888800f85bebf6e33\", \"Trip Id\": \"aa6a03fe-f119-44a5-8976-2ad77ceeb89f:2\", \"Test Stop Sequence\": 7, \"Gtfs Dataset Key\": \"1051e067d18a76b0a79789f051d5c22b\", \"Loop Or Inlining\": 1, \"N Trips\": 8, \"Variable\": \"Speed Mph\", \"Speed\": 4.2, \"Route\": \"Operator: Anaheim Resort VehiclePositions Route Type: 1 Shape Array: 29d2bbdbeaec1d6888800f85bebf6e33\", \"Speed_Int\": 4, \"Rounded Speed\": 5}, {\"Gtfs Dataset Name\": \"Anaheim Resort VehiclePositions\", \"Shape Array Key\": \"29d2bbdbeaec1d6888800f85bebf6e33\", \"Trip Id\": \"aa6a03fe-f119-44a5-8976-2ad77ceeb89f:2\", \"Test Stop Sequence\": 8, \"Gtfs Dataset Key\": \"1051e067d18a76b0a79789f051d5c22b\", \"Loop Or Inlining\": 1, \"N Trips\": 8, \"Variable\": \"Speed Mph\", \"Speed\": 4.0, \"Route\": \"Operator: Anaheim Resort VehiclePositions Route Type: 1 Shape Array: 29d2bbdbeaec1d6888800f85bebf6e33\", \"Speed_Int\": 4, \"Rounded Speed\": 5}, {\"Gtfs Dataset Name\": \"Anaheim Resort VehiclePositions\", \"Shape Array Key\": \"29d2bbdbeaec1d6888800f85bebf6e33\", \"Trip Id\": \"aa6a03fe-f119-44a5-8976-2ad77ceeb89f:2\", \"Test Stop Sequence\": 9, \"Gtfs Dataset Key\": \"1051e067d18a76b0a79789f051d5c22b\", \"Loop Or Inlining\": 1, \"N Trips\": 8, \"Variable\": \"Speed Mph\", \"Speed\": 2.8, \"Route\": \"Operator: Anaheim Resort VehiclePositions Route Type: 1 Shape Array: 29d2bbdbeaec1d6888800f85bebf6e33\", \"Speed_Int\": 2, \"Rounded Speed\": 5}, {\"Gtfs Dataset Name\": \"Anaheim Resort VehiclePositions\", \"Shape Array Key\": \"29d2bbdbeaec1d6888800f85bebf6e33\", \"Trip Id\": \"aa6a03fe-f119-44a5-8976-2ad77ceeb89f:3\", \"Test Stop Sequence\": 1, \"Gtfs Dataset Key\": \"1051e067d18a76b0a79789f051d5c22b\", \"Loop Or Inlining\": 1, \"N Trips\": 8, \"Variable\": \"Speed Mph\", \"Speed\": 0.0, \"Route\": \"Operator: Anaheim Resort VehiclePositions Route Type: 1 Shape Array: 29d2bbdbeaec1d6888800f85bebf6e33\", \"Speed_Int\": 0, \"Rounded Speed\": 0}, {\"Gtfs Dataset Name\": \"Anaheim Resort VehiclePositions\", \"Shape Array Key\": \"29d2bbdbeaec1d6888800f85bebf6e33\", \"Trip Id\": \"aa6a03fe-f119-44a5-8976-2ad77ceeb89f:3\", \"Test Stop Sequence\": 2, \"Gtfs Dataset Key\": \"1051e067d18a76b0a79789f051d5c22b\", \"Loop Or Inlining\": 1, \"N Trips\": 8, \"Variable\": \"Speed Mph\", \"Speed\": 6.7, \"Route\": \"Operator: Anaheim Resort VehiclePositions Route Type: 1 Shape Array: 29d2bbdbeaec1d6888800f85bebf6e33\", \"Speed_Int\": 6, \"Rounded Speed\": 10}, {\"Gtfs Dataset Name\": \"Anaheim Resort VehiclePositions\", \"Shape Array Key\": \"29d2bbdbeaec1d6888800f85bebf6e33\", \"Trip Id\": \"aa6a03fe-f119-44a5-8976-2ad77ceeb89f:3\", \"Test Stop Sequence\": 3, \"Gtfs Dataset Key\": \"1051e067d18a76b0a79789f051d5c22b\", \"Loop Or Inlining\": 1, \"N Trips\": 8, \"Variable\": \"Speed Mph\", \"Speed\": 5.2, \"Route\": \"Operator: Anaheim Resort VehiclePositions Route Type: 1 Shape Array: 29d2bbdbeaec1d6888800f85bebf6e33\", \"Speed_Int\": 5, \"Rounded Speed\": 5}, {\"Gtfs Dataset Name\": \"Anaheim Resort VehiclePositions\", \"Shape Array Key\": \"29d2bbdbeaec1d6888800f85bebf6e33\", \"Trip Id\": \"aa6a03fe-f119-44a5-8976-2ad77ceeb89f:3\", \"Test Stop Sequence\": 4, \"Gtfs Dataset Key\": \"1051e067d18a76b0a79789f051d5c22b\", \"Loop Or Inlining\": 1, \"N Trips\": 8, \"Variable\": \"Speed Mph\", \"Speed\": 5.5, \"Route\": \"Operator: Anaheim Resort VehiclePositions Route Type: 1 Shape Array: 29d2bbdbeaec1d6888800f85bebf6e33\", \"Speed_Int\": 5, \"Rounded Speed\": 5}, {\"Gtfs Dataset Name\": \"Anaheim Resort VehiclePositions\", \"Shape Array Key\": \"29d2bbdbeaec1d6888800f85bebf6e33\", \"Trip Id\": \"aa6a03fe-f119-44a5-8976-2ad77ceeb89f:3\", \"Test Stop Sequence\": 5, \"Gtfs Dataset Key\": \"1051e067d18a76b0a79789f051d5c22b\", \"Loop Or Inlining\": 1, \"N Trips\": 8, \"Variable\": \"Speed Mph\", \"Speed\": 0.6, \"Route\": \"Operator: Anaheim Resort VehiclePositions Route Type: 1 Shape Array: 29d2bbdbeaec1d6888800f85bebf6e33\", \"Speed_Int\": 0, \"Rounded Speed\": 0}, {\"Gtfs Dataset Name\": \"Anaheim Resort VehiclePositions\", \"Shape Array Key\": \"29d2bbdbeaec1d6888800f85bebf6e33\", \"Trip Id\": \"aa6a03fe-f119-44a5-8976-2ad77ceeb89f:3\", \"Test Stop Sequence\": 6, \"Gtfs Dataset Key\": \"1051e067d18a76b0a79789f051d5c22b\", \"Loop Or Inlining\": 1, \"N Trips\": 8, \"Variable\": \"Speed Mph\", \"Speed\": 5.2, \"Route\": \"Operator: Anaheim Resort VehiclePositions Route Type: 1 Shape Array: 29d2bbdbeaec1d6888800f85bebf6e33\", \"Speed_Int\": 5, \"Rounded Speed\": 5}, {\"Gtfs Dataset Name\": \"Anaheim Resort VehiclePositions\", \"Shape Array Key\": \"29d2bbdbeaec1d6888800f85bebf6e33\", \"Trip Id\": \"aa6a03fe-f119-44a5-8976-2ad77ceeb89f:3\", \"Test Stop Sequence\": 7, \"Gtfs Dataset Key\": \"1051e067d18a76b0a79789f051d5c22b\", \"Loop Or Inlining\": 1, \"N Trips\": 8, \"Variable\": \"Speed Mph\", \"Speed\": 2.7, \"Route\": \"Operator: Anaheim Resort VehiclePositions Route Type: 1 Shape Array: 29d2bbdbeaec1d6888800f85bebf6e33\", \"Speed_Int\": 2, \"Rounded Speed\": 5}, {\"Gtfs Dataset Name\": \"Anaheim Resort VehiclePositions\", \"Shape Array Key\": \"29d2bbdbeaec1d6888800f85bebf6e33\", \"Trip Id\": \"aa6a03fe-f119-44a5-8976-2ad77ceeb89f:3\", \"Test Stop Sequence\": 8, \"Gtfs Dataset Key\": \"1051e067d18a76b0a79789f051d5c22b\", \"Loop Or Inlining\": 1, \"N Trips\": 8, \"Variable\": \"Speed Mph\", \"Speed\": 4.6, \"Route\": \"Operator: Anaheim Resort VehiclePositions Route Type: 1 Shape Array: 29d2bbdbeaec1d6888800f85bebf6e33\", \"Speed_Int\": 4, \"Rounded Speed\": 5}, {\"Gtfs Dataset Name\": \"Anaheim Resort VehiclePositions\", \"Shape Array Key\": \"29d2bbdbeaec1d6888800f85bebf6e33\", \"Trip Id\": \"aa6a03fe-f119-44a5-8976-2ad77ceeb89f:3\", \"Test Stop Sequence\": 9, \"Gtfs Dataset Key\": \"1051e067d18a76b0a79789f051d5c22b\", \"Loop Or Inlining\": 1, \"N Trips\": 8, \"Variable\": \"Speed Mph\", \"Speed\": 5.1, \"Route\": \"Operator: Anaheim Resort VehiclePositions Route Type: 1 Shape Array: 29d2bbdbeaec1d6888800f85bebf6e33\", \"Speed_Int\": 5, \"Rounded Speed\": 5}, {\"Gtfs Dataset Name\": \"Anaheim Resort VehiclePositions\", \"Shape Array Key\": \"29d2bbdbeaec1d6888800f85bebf6e33\", \"Trip Id\": \"aa6a03fe-f119-44a5-8976-2ad77ceeb89f:4\", \"Test Stop Sequence\": 2, \"Gtfs Dataset Key\": \"1051e067d18a76b0a79789f051d5c22b\", \"Loop Or Inlining\": 1, \"N Trips\": 8, \"Variable\": \"Speed Mph\", \"Speed\": 9.1, \"Route\": \"Operator: Anaheim Resort VehiclePositions Route Type: 1 Shape Array: 29d2bbdbeaec1d6888800f85bebf6e33\", \"Speed_Int\": 9, \"Rounded Speed\": 10}, {\"Gtfs Dataset Name\": \"Anaheim Resort VehiclePositions\", \"Shape Array Key\": \"29d2bbdbeaec1d6888800f85bebf6e33\", \"Trip Id\": \"aa6a03fe-f119-44a5-8976-2ad77ceeb89f:4\", \"Test Stop Sequence\": 3, \"Gtfs Dataset Key\": \"1051e067d18a76b0a79789f051d5c22b\", \"Loop Or Inlining\": 1, \"N Trips\": 8, \"Variable\": \"Speed Mph\", \"Speed\": 4.0, \"Route\": \"Operator: Anaheim Resort VehiclePositions Route Type: 1 Shape Array: 29d2bbdbeaec1d6888800f85bebf6e33\", \"Speed_Int\": 4, \"Rounded Speed\": 5}, {\"Gtfs Dataset Name\": \"Anaheim Resort VehiclePositions\", \"Shape Array Key\": \"29d2bbdbeaec1d6888800f85bebf6e33\", \"Trip Id\": \"aa6a03fe-f119-44a5-8976-2ad77ceeb89f:4\", \"Test Stop Sequence\": 4, \"Gtfs Dataset Key\": \"1051e067d18a76b0a79789f051d5c22b\", \"Loop Or Inlining\": 1, \"N Trips\": 8, \"Variable\": \"Speed Mph\", \"Speed\": 1.9, \"Route\": \"Operator: Anaheim Resort VehiclePositions Route Type: 1 Shape Array: 29d2bbdbeaec1d6888800f85bebf6e33\", \"Speed_Int\": 1, \"Rounded Speed\": 5}, {\"Gtfs Dataset Name\": \"Anaheim Resort VehiclePositions\", \"Shape Array Key\": \"29d2bbdbeaec1d6888800f85bebf6e33\", \"Trip Id\": \"aa6a03fe-f119-44a5-8976-2ad77ceeb89f:4\", \"Test Stop Sequence\": 5, \"Gtfs Dataset Key\": \"1051e067d18a76b0a79789f051d5c22b\", \"Loop Or Inlining\": 1, \"N Trips\": 8, \"Variable\": \"Speed Mph\", \"Speed\": 0.7, \"Route\": \"Operator: Anaheim Resort VehiclePositions Route Type: 1 Shape Array: 29d2bbdbeaec1d6888800f85bebf6e33\", \"Speed_Int\": 0, \"Rounded Speed\": 0}, {\"Gtfs Dataset Name\": \"Anaheim Resort VehiclePositions\", \"Shape Array Key\": \"29d2bbdbeaec1d6888800f85bebf6e33\", \"Trip Id\": \"aa6a03fe-f119-44a5-8976-2ad77ceeb89f:4\", \"Test Stop Sequence\": 6, \"Gtfs Dataset Key\": \"1051e067d18a76b0a79789f051d5c22b\", \"Loop Or Inlining\": 1, \"N Trips\": 8, \"Variable\": \"Speed Mph\", \"Speed\": 0.0, \"Route\": \"Operator: Anaheim Resort VehiclePositions Route Type: 1 Shape Array: 29d2bbdbeaec1d6888800f85bebf6e33\", \"Speed_Int\": 0, \"Rounded Speed\": 0}, {\"Gtfs Dataset Name\": \"Anaheim Resort VehiclePositions\", \"Shape Array Key\": \"29d2bbdbeaec1d6888800f85bebf6e33\", \"Trip Id\": \"aa6a03fe-f119-44a5-8976-2ad77ceeb89f:4\", \"Test Stop Sequence\": 7, \"Gtfs Dataset Key\": \"1051e067d18a76b0a79789f051d5c22b\", \"Loop Or Inlining\": 1, \"N Trips\": 8, \"Variable\": \"Speed Mph\", \"Speed\": 3.7, \"Route\": \"Operator: Anaheim Resort VehiclePositions Route Type: 1 Shape Array: 29d2bbdbeaec1d6888800f85bebf6e33\", \"Speed_Int\": 3, \"Rounded Speed\": 5}, {\"Gtfs Dataset Name\": \"Anaheim Resort VehiclePositions\", \"Shape Array Key\": \"29d2bbdbeaec1d6888800f85bebf6e33\", \"Trip Id\": \"aa6a03fe-f119-44a5-8976-2ad77ceeb89f:4\", \"Test Stop Sequence\": 8, \"Gtfs Dataset Key\": \"1051e067d18a76b0a79789f051d5c22b\", \"Loop Or Inlining\": 1, \"N Trips\": 8, \"Variable\": \"Speed Mph\", \"Speed\": 7.5, \"Route\": \"Operator: Anaheim Resort VehiclePositions Route Type: 1 Shape Array: 29d2bbdbeaec1d6888800f85bebf6e33\", \"Speed_Int\": 7, \"Rounded Speed\": 10}, {\"Gtfs Dataset Name\": \"Anaheim Resort VehiclePositions\", \"Shape Array Key\": \"29d2bbdbeaec1d6888800f85bebf6e33\", \"Trip Id\": \"aa6a03fe-f119-44a5-8976-2ad77ceeb89f:4\", \"Test Stop Sequence\": 9, \"Gtfs Dataset Key\": \"1051e067d18a76b0a79789f051d5c22b\", \"Loop Or Inlining\": 1, \"N Trips\": 8, \"Variable\": \"Speed Mph\", \"Speed\": 3.2, \"Route\": \"Operator: Anaheim Resort VehiclePositions Route Type: 1 Shape Array: 29d2bbdbeaec1d6888800f85bebf6e33\", \"Speed_Int\": 3, \"Rounded Speed\": 5}, {\"Gtfs Dataset Name\": \"Anaheim Resort VehiclePositions\", \"Shape Array Key\": \"29d2bbdbeaec1d6888800f85bebf6e33\", \"Trip Id\": \"aa6a03fe-f119-44a5-8976-2ad77ceeb89f:5\", \"Test Stop Sequence\": 2, \"Gtfs Dataset Key\": \"1051e067d18a76b0a79789f051d5c22b\", \"Loop Or Inlining\": 1, \"N Trips\": 8, \"Variable\": \"Speed Mph\", \"Speed\": 12.2, \"Route\": \"Operator: Anaheim Resort VehiclePositions Route Type: 1 Shape Array: 29d2bbdbeaec1d6888800f85bebf6e33\", \"Speed_Int\": 12, \"Rounded Speed\": 15}, {\"Gtfs Dataset Name\": \"Anaheim Resort VehiclePositions\", \"Shape Array Key\": \"29d2bbdbeaec1d6888800f85bebf6e33\", \"Trip Id\": \"aa6a03fe-f119-44a5-8976-2ad77ceeb89f:5\", \"Test Stop Sequence\": 3, \"Gtfs Dataset Key\": \"1051e067d18a76b0a79789f051d5c22b\", \"Loop Or Inlining\": 1, \"N Trips\": 8, \"Variable\": \"Speed Mph\", \"Speed\": 3.7, \"Route\": \"Operator: Anaheim Resort VehiclePositions Route Type: 1 Shape Array: 29d2bbdbeaec1d6888800f85bebf6e33\", \"Speed_Int\": 3, \"Rounded Speed\": 5}, {\"Gtfs Dataset Name\": \"Anaheim Resort VehiclePositions\", \"Shape Array Key\": \"29d2bbdbeaec1d6888800f85bebf6e33\", \"Trip Id\": \"aa6a03fe-f119-44a5-8976-2ad77ceeb89f:5\", \"Test Stop Sequence\": 4, \"Gtfs Dataset Key\": \"1051e067d18a76b0a79789f051d5c22b\", \"Loop Or Inlining\": 1, \"N Trips\": 8, \"Variable\": \"Speed Mph\", \"Speed\": 2.7, \"Route\": \"Operator: Anaheim Resort VehiclePositions Route Type: 1 Shape Array: 29d2bbdbeaec1d6888800f85bebf6e33\", \"Speed_Int\": 2, \"Rounded Speed\": 5}, {\"Gtfs Dataset Name\": \"Anaheim Resort VehiclePositions\", \"Shape Array Key\": \"29d2bbdbeaec1d6888800f85bebf6e33\", \"Trip Id\": \"aa6a03fe-f119-44a5-8976-2ad77ceeb89f:5\", \"Test Stop Sequence\": 5, \"Gtfs Dataset Key\": \"1051e067d18a76b0a79789f051d5c22b\", \"Loop Or Inlining\": 1, \"N Trips\": 8, \"Variable\": \"Speed Mph\", \"Speed\": 0.4, \"Route\": \"Operator: Anaheim Resort VehiclePositions Route Type: 1 Shape Array: 29d2bbdbeaec1d6888800f85bebf6e33\", \"Speed_Int\": 0, \"Rounded Speed\": 0}, {\"Gtfs Dataset Name\": \"Anaheim Resort VehiclePositions\", \"Shape Array Key\": \"29d2bbdbeaec1d6888800f85bebf6e33\", \"Trip Id\": \"aa6a03fe-f119-44a5-8976-2ad77ceeb89f:5\", \"Test Stop Sequence\": 6, \"Gtfs Dataset Key\": \"1051e067d18a76b0a79789f051d5c22b\", \"Loop Or Inlining\": 1, \"N Trips\": 8, \"Variable\": \"Speed Mph\", \"Speed\": 3.1, \"Route\": \"Operator: Anaheim Resort VehiclePositions Route Type: 1 Shape Array: 29d2bbdbeaec1d6888800f85bebf6e33\", \"Speed_Int\": 3, \"Rounded Speed\": 5}, {\"Gtfs Dataset Name\": \"Anaheim Resort VehiclePositions\", \"Shape Array Key\": \"29d2bbdbeaec1d6888800f85bebf6e33\", \"Trip Id\": \"aa6a03fe-f119-44a5-8976-2ad77ceeb89f:5\", \"Test Stop Sequence\": 7, \"Gtfs Dataset Key\": \"1051e067d18a76b0a79789f051d5c22b\", \"Loop Or Inlining\": 1, \"N Trips\": 8, \"Variable\": \"Speed Mph\", \"Speed\": 1.6, \"Route\": \"Operator: Anaheim Resort VehiclePositions Route Type: 1 Shape Array: 29d2bbdbeaec1d6888800f85bebf6e33\", \"Speed_Int\": 1, \"Rounded Speed\": 5}, {\"Gtfs Dataset Name\": \"Anaheim Resort VehiclePositions\", \"Shape Array Key\": \"29d2bbdbeaec1d6888800f85bebf6e33\", \"Trip Id\": \"aa6a03fe-f119-44a5-8976-2ad77ceeb89f:5\", \"Test Stop Sequence\": 8, \"Gtfs Dataset Key\": \"1051e067d18a76b0a79789f051d5c22b\", \"Loop Or Inlining\": 1, \"N Trips\": 8, \"Variable\": \"Speed Mph\", \"Speed\": 3.4, \"Route\": \"Operator: Anaheim Resort VehiclePositions Route Type: 1 Shape Array: 29d2bbdbeaec1d6888800f85bebf6e33\", \"Speed_Int\": 3, \"Rounded Speed\": 5}, {\"Gtfs Dataset Name\": \"Anaheim Resort VehiclePositions\", \"Shape Array Key\": \"29d2bbdbeaec1d6888800f85bebf6e33\", \"Trip Id\": \"aa6a03fe-f119-44a5-8976-2ad77ceeb89f:5\", \"Test Stop Sequence\": 9, \"Gtfs Dataset Key\": \"1051e067d18a76b0a79789f051d5c22b\", \"Loop Or Inlining\": 1, \"N Trips\": 8, \"Variable\": \"Speed Mph\", \"Speed\": 2.5, \"Route\": \"Operator: Anaheim Resort VehiclePositions Route Type: 1 Shape Array: 29d2bbdbeaec1d6888800f85bebf6e33\", \"Speed_Int\": 2, \"Rounded Speed\": 5}, {\"Gtfs Dataset Name\": \"Anaheim Resort VehiclePositions\", \"Shape Array Key\": \"29d2bbdbeaec1d6888800f85bebf6e33\", \"Trip Id\": \"aa6a03fe-f119-44a5-8976-2ad77ceeb89f:6\", \"Test Stop Sequence\": 2, \"Gtfs Dataset Key\": \"1051e067d18a76b0a79789f051d5c22b\", \"Loop Or Inlining\": 1, \"N Trips\": 8, \"Variable\": \"Speed Mph\", \"Speed\": 5.5, \"Route\": \"Operator: Anaheim Resort VehiclePositions Route Type: 1 Shape Array: 29d2bbdbeaec1d6888800f85bebf6e33\", \"Speed_Int\": 5, \"Rounded Speed\": 5}, {\"Gtfs Dataset Name\": \"Anaheim Resort VehiclePositions\", \"Shape Array Key\": \"29d2bbdbeaec1d6888800f85bebf6e33\", \"Trip Id\": \"aa6a03fe-f119-44a5-8976-2ad77ceeb89f:6\", \"Test Stop Sequence\": 3, \"Gtfs Dataset Key\": \"1051e067d18a76b0a79789f051d5c22b\", \"Loop Or Inlining\": 1, \"N Trips\": 8, \"Variable\": \"Speed Mph\", \"Speed\": 5.5, \"Route\": \"Operator: Anaheim Resort VehiclePositions Route Type: 1 Shape Array: 29d2bbdbeaec1d6888800f85bebf6e33\", \"Speed_Int\": 5, \"Rounded Speed\": 5}, {\"Gtfs Dataset Name\": \"Anaheim Resort VehiclePositions\", \"Shape Array Key\": \"29d2bbdbeaec1d6888800f85bebf6e33\", \"Trip Id\": \"aa6a03fe-f119-44a5-8976-2ad77ceeb89f:6\", \"Test Stop Sequence\": 4, \"Gtfs Dataset Key\": \"1051e067d18a76b0a79789f051d5c22b\", \"Loop Or Inlining\": 1, \"N Trips\": 8, \"Variable\": \"Speed Mph\", \"Speed\": 4.0, \"Route\": \"Operator: Anaheim Resort VehiclePositions Route Type: 1 Shape Array: 29d2bbdbeaec1d6888800f85bebf6e33\", \"Speed_Int\": 4, \"Rounded Speed\": 5}, {\"Gtfs Dataset Name\": \"Anaheim Resort VehiclePositions\", \"Shape Array Key\": \"29d2bbdbeaec1d6888800f85bebf6e33\", \"Trip Id\": \"aa6a03fe-f119-44a5-8976-2ad77ceeb89f:6\", \"Test Stop Sequence\": 5, \"Gtfs Dataset Key\": \"1051e067d18a76b0a79789f051d5c22b\", \"Loop Or Inlining\": 1, \"N Trips\": 8, \"Variable\": \"Speed Mph\", \"Speed\": 1.0, \"Route\": \"Operator: Anaheim Resort VehiclePositions Route Type: 1 Shape Array: 29d2bbdbeaec1d6888800f85bebf6e33\", \"Speed_Int\": 1, \"Rounded Speed\": 5}, {\"Gtfs Dataset Name\": \"Anaheim Resort VehiclePositions\", \"Shape Array Key\": \"29d2bbdbeaec1d6888800f85bebf6e33\", \"Trip Id\": \"aa6a03fe-f119-44a5-8976-2ad77ceeb89f:6\", \"Test Stop Sequence\": 6, \"Gtfs Dataset Key\": \"1051e067d18a76b0a79789f051d5c22b\", \"Loop Or Inlining\": 1, \"N Trips\": 8, \"Variable\": \"Speed Mph\", \"Speed\": 3.5, \"Route\": \"Operator: Anaheim Resort VehiclePositions Route Type: 1 Shape Array: 29d2bbdbeaec1d6888800f85bebf6e33\", \"Speed_Int\": 3, \"Rounded Speed\": 5}, {\"Gtfs Dataset Name\": \"Anaheim Resort VehiclePositions\", \"Shape Array Key\": \"29d2bbdbeaec1d6888800f85bebf6e33\", \"Trip Id\": \"aa6a03fe-f119-44a5-8976-2ad77ceeb89f:6\", \"Test Stop Sequence\": 7, \"Gtfs Dataset Key\": \"1051e067d18a76b0a79789f051d5c22b\", \"Loop Or Inlining\": 1, \"N Trips\": 8, \"Variable\": \"Speed Mph\", \"Speed\": 3.9, \"Route\": \"Operator: Anaheim Resort VehiclePositions Route Type: 1 Shape Array: 29d2bbdbeaec1d6888800f85bebf6e33\", \"Speed_Int\": 3, \"Rounded Speed\": 5}, {\"Gtfs Dataset Name\": \"Anaheim Resort VehiclePositions\", \"Shape Array Key\": \"29d2bbdbeaec1d6888800f85bebf6e33\", \"Trip Id\": \"aa6a03fe-f119-44a5-8976-2ad77ceeb89f:6\", \"Test Stop Sequence\": 8, \"Gtfs Dataset Key\": \"1051e067d18a76b0a79789f051d5c22b\", \"Loop Or Inlining\": 1, \"N Trips\": 8, \"Variable\": \"Speed Mph\", \"Speed\": 4.6, \"Route\": \"Operator: Anaheim Resort VehiclePositions Route Type: 1 Shape Array: 29d2bbdbeaec1d6888800f85bebf6e33\", \"Speed_Int\": 4, \"Rounded Speed\": 5}, {\"Gtfs Dataset Name\": \"Anaheim Resort VehiclePositions\", \"Shape Array Key\": \"29d2bbdbeaec1d6888800f85bebf6e33\", \"Trip Id\": \"aa6a03fe-f119-44a5-8976-2ad77ceeb89f:6\", \"Test Stop Sequence\": 9, \"Gtfs Dataset Key\": \"1051e067d18a76b0a79789f051d5c22b\", \"Loop Or Inlining\": 1, \"N Trips\": 8, \"Variable\": \"Speed Mph\", \"Speed\": 5.4, \"Route\": \"Operator: Anaheim Resort VehiclePositions Route Type: 1 Shape Array: 29d2bbdbeaec1d6888800f85bebf6e33\", \"Speed_Int\": 5, \"Rounded Speed\": 5}, {\"Gtfs Dataset Name\": \"Anaheim Resort VehiclePositions\", \"Shape Array Key\": \"29d2bbdbeaec1d6888800f85bebf6e33\", \"Trip Id\": \"aa6a03fe-f119-44a5-8976-2ad77ceeb89f:7\", \"Test Stop Sequence\": 1, \"Gtfs Dataset Key\": \"1051e067d18a76b0a79789f051d5c22b\", \"Loop Or Inlining\": 1, \"N Trips\": 8, \"Variable\": \"Speed Mph\", \"Speed\": 0.0, \"Route\": \"Operator: Anaheim Resort VehiclePositions Route Type: 1 Shape Array: 29d2bbdbeaec1d6888800f85bebf6e33\", \"Speed_Int\": 0, \"Rounded Speed\": 0}, {\"Gtfs Dataset Name\": \"Anaheim Resort VehiclePositions\", \"Shape Array Key\": \"29d2bbdbeaec1d6888800f85bebf6e33\", \"Trip Id\": \"aa6a03fe-f119-44a5-8976-2ad77ceeb89f:7\", \"Test Stop Sequence\": 2, \"Gtfs Dataset Key\": \"1051e067d18a76b0a79789f051d5c22b\", \"Loop Or Inlining\": 1, \"N Trips\": 8, \"Variable\": \"Speed Mph\", \"Speed\": 7.3, \"Route\": \"Operator: Anaheim Resort VehiclePositions Route Type: 1 Shape Array: 29d2bbdbeaec1d6888800f85bebf6e33\", \"Speed_Int\": 7, \"Rounded Speed\": 10}, {\"Gtfs Dataset Name\": \"Anaheim Resort VehiclePositions\", \"Shape Array Key\": \"29d2bbdbeaec1d6888800f85bebf6e33\", \"Trip Id\": \"aa6a03fe-f119-44a5-8976-2ad77ceeb89f:7\", \"Test Stop Sequence\": 3, \"Gtfs Dataset Key\": \"1051e067d18a76b0a79789f051d5c22b\", \"Loop Or Inlining\": 1, \"N Trips\": 8, \"Variable\": \"Speed Mph\", \"Speed\": 3.7, \"Route\": \"Operator: Anaheim Resort VehiclePositions Route Type: 1 Shape Array: 29d2bbdbeaec1d6888800f85bebf6e33\", \"Speed_Int\": 3, \"Rounded Speed\": 5}, {\"Gtfs Dataset Name\": \"Anaheim Resort VehiclePositions\", \"Shape Array Key\": \"29d2bbdbeaec1d6888800f85bebf6e33\", \"Trip Id\": \"aa6a03fe-f119-44a5-8976-2ad77ceeb89f:7\", \"Test Stop Sequence\": 4, \"Gtfs Dataset Key\": \"1051e067d18a76b0a79789f051d5c22b\", \"Loop Or Inlining\": 1, \"N Trips\": 8, \"Variable\": \"Speed Mph\", \"Speed\": 5.0, \"Route\": \"Operator: Anaheim Resort VehiclePositions Route Type: 1 Shape Array: 29d2bbdbeaec1d6888800f85bebf6e33\", \"Speed_Int\": 5, \"Rounded Speed\": 5}, {\"Gtfs Dataset Name\": \"Anaheim Resort VehiclePositions\", \"Shape Array Key\": \"29d2bbdbeaec1d6888800f85bebf6e33\", \"Trip Id\": \"aa6a03fe-f119-44a5-8976-2ad77ceeb89f:7\", \"Test Stop Sequence\": 5, \"Gtfs Dataset Key\": \"1051e067d18a76b0a79789f051d5c22b\", \"Loop Or Inlining\": 1, \"N Trips\": 8, \"Variable\": \"Speed Mph\", \"Speed\": 0.9, \"Route\": \"Operator: Anaheim Resort VehiclePositions Route Type: 1 Shape Array: 29d2bbdbeaec1d6888800f85bebf6e33\", \"Speed_Int\": 0, \"Rounded Speed\": 0}, {\"Gtfs Dataset Name\": \"Anaheim Resort VehiclePositions\", \"Shape Array Key\": \"29d2bbdbeaec1d6888800f85bebf6e33\", \"Trip Id\": \"aa6a03fe-f119-44a5-8976-2ad77ceeb89f:7\", \"Test Stop Sequence\": 6, \"Gtfs Dataset Key\": \"1051e067d18a76b0a79789f051d5c22b\", \"Loop Or Inlining\": 1, \"N Trips\": 8, \"Variable\": \"Speed Mph\", \"Speed\": 3.1, \"Route\": \"Operator: Anaheim Resort VehiclePositions Route Type: 1 Shape Array: 29d2bbdbeaec1d6888800f85bebf6e33\", \"Speed_Int\": 3, \"Rounded Speed\": 5}, {\"Gtfs Dataset Name\": \"Anaheim Resort VehiclePositions\", \"Shape Array Key\": \"29d2bbdbeaec1d6888800f85bebf6e33\", \"Trip Id\": \"aa6a03fe-f119-44a5-8976-2ad77ceeb89f:7\", \"Test Stop Sequence\": 7, \"Gtfs Dataset Key\": \"1051e067d18a76b0a79789f051d5c22b\", \"Loop Or Inlining\": 1, \"N Trips\": 8, \"Variable\": \"Speed Mph\", \"Speed\": 4.4, \"Route\": \"Operator: Anaheim Resort VehiclePositions Route Type: 1 Shape Array: 29d2bbdbeaec1d6888800f85bebf6e33\", \"Speed_Int\": 4, \"Rounded Speed\": 5}, {\"Gtfs Dataset Name\": \"Anaheim Resort VehiclePositions\", \"Shape Array Key\": \"29d2bbdbeaec1d6888800f85bebf6e33\", \"Trip Id\": \"aa6a03fe-f119-44a5-8976-2ad77ceeb89f:7\", \"Test Stop Sequence\": 8, \"Gtfs Dataset Key\": \"1051e067d18a76b0a79789f051d5c22b\", \"Loop Or Inlining\": 1, \"N Trips\": 8, \"Variable\": \"Speed Mph\", \"Speed\": 4.7, \"Route\": \"Operator: Anaheim Resort VehiclePositions Route Type: 1 Shape Array: 29d2bbdbeaec1d6888800f85bebf6e33\", \"Speed_Int\": 4, \"Rounded Speed\": 5}, {\"Gtfs Dataset Name\": \"Anaheim Resort VehiclePositions\", \"Shape Array Key\": \"29d2bbdbeaec1d6888800f85bebf6e33\", \"Trip Id\": \"aa6a03fe-f119-44a5-8976-2ad77ceeb89f:7\", \"Test Stop Sequence\": 9, \"Gtfs Dataset Key\": \"1051e067d18a76b0a79789f051d5c22b\", \"Loop Or Inlining\": 1, \"N Trips\": 8, \"Variable\": \"Speed Mph\", \"Speed\": 6.4, \"Route\": \"Operator: Anaheim Resort VehiclePositions Route Type: 1 Shape Array: 29d2bbdbeaec1d6888800f85bebf6e33\", \"Speed_Int\": 6, \"Rounded Speed\": 10}, {\"Gtfs Dataset Name\": \"Anaheim Resort VehiclePositions\", \"Shape Array Key\": \"29d2bbdbeaec1d6888800f85bebf6e33\", \"Trip Id\": \"aa6a03fe-f119-44a5-8976-2ad77ceeb89f:8\", \"Test Stop Sequence\": 2, \"Gtfs Dataset Key\": \"1051e067d18a76b0a79789f051d5c22b\", \"Loop Or Inlining\": 1, \"N Trips\": 8, \"Variable\": \"Speed Mph\", \"Speed\": 9.6, \"Route\": \"Operator: Anaheim Resort VehiclePositions Route Type: 1 Shape Array: 29d2bbdbeaec1d6888800f85bebf6e33\", \"Speed_Int\": 9, \"Rounded Speed\": 10}, {\"Gtfs Dataset Name\": \"Anaheim Resort VehiclePositions\", \"Shape Array Key\": \"29d2bbdbeaec1d6888800f85bebf6e33\", \"Trip Id\": \"aa6a03fe-f119-44a5-8976-2ad77ceeb89f:8\", \"Test Stop Sequence\": 3, \"Gtfs Dataset Key\": \"1051e067d18a76b0a79789f051d5c22b\", \"Loop Or Inlining\": 1, \"N Trips\": 8, \"Variable\": \"Speed Mph\", \"Speed\": 4.2, \"Route\": \"Operator: Anaheim Resort VehiclePositions Route Type: 1 Shape Array: 29d2bbdbeaec1d6888800f85bebf6e33\", \"Speed_Int\": 4, \"Rounded Speed\": 5}, {\"Gtfs Dataset Name\": \"Anaheim Resort VehiclePositions\", \"Shape Array Key\": \"29d2bbdbeaec1d6888800f85bebf6e33\", \"Trip Id\": \"aa6a03fe-f119-44a5-8976-2ad77ceeb89f:8\", \"Test Stop Sequence\": 4, \"Gtfs Dataset Key\": \"1051e067d18a76b0a79789f051d5c22b\", \"Loop Or Inlining\": 1, \"N Trips\": 8, \"Variable\": \"Speed Mph\", \"Speed\": 5.8, \"Route\": \"Operator: Anaheim Resort VehiclePositions Route Type: 1 Shape Array: 29d2bbdbeaec1d6888800f85bebf6e33\", \"Speed_Int\": 5, \"Rounded Speed\": 5}, {\"Gtfs Dataset Name\": \"Anaheim Resort VehiclePositions\", \"Shape Array Key\": \"29d2bbdbeaec1d6888800f85bebf6e33\", \"Trip Id\": \"aa6a03fe-f119-44a5-8976-2ad77ceeb89f:8\", \"Test Stop Sequence\": 5, \"Gtfs Dataset Key\": \"1051e067d18a76b0a79789f051d5c22b\", \"Loop Or Inlining\": 1, \"N Trips\": 8, \"Variable\": \"Speed Mph\", \"Speed\": 0.0, \"Route\": \"Operator: Anaheim Resort VehiclePositions Route Type: 1 Shape Array: 29d2bbdbeaec1d6888800f85bebf6e33\", \"Speed_Int\": 0, \"Rounded Speed\": 0}, {\"Gtfs Dataset Name\": \"Anaheim Resort VehiclePositions\", \"Shape Array Key\": \"29d2bbdbeaec1d6888800f85bebf6e33\", \"Trip Id\": \"aa6a03fe-f119-44a5-8976-2ad77ceeb89f:8\", \"Test Stop Sequence\": 6, \"Gtfs Dataset Key\": \"1051e067d18a76b0a79789f051d5c22b\", \"Loop Or Inlining\": 1, \"N Trips\": 8, \"Variable\": \"Speed Mph\", \"Speed\": 1.6, \"Route\": \"Operator: Anaheim Resort VehiclePositions Route Type: 1 Shape Array: 29d2bbdbeaec1d6888800f85bebf6e33\", \"Speed_Int\": 1, \"Rounded Speed\": 5}, {\"Gtfs Dataset Name\": \"Anaheim Resort VehiclePositions\", \"Shape Array Key\": \"29d2bbdbeaec1d6888800f85bebf6e33\", \"Trip Id\": \"aa6a03fe-f119-44a5-8976-2ad77ceeb89f:8\", \"Test Stop Sequence\": 7, \"Gtfs Dataset Key\": \"1051e067d18a76b0a79789f051d5c22b\", \"Loop Or Inlining\": 1, \"N Trips\": 8, \"Variable\": \"Speed Mph\", \"Speed\": 4.4, \"Route\": \"Operator: Anaheim Resort VehiclePositions Route Type: 1 Shape Array: 29d2bbdbeaec1d6888800f85bebf6e33\", \"Speed_Int\": 4, \"Rounded Speed\": 5}, {\"Gtfs Dataset Name\": \"Anaheim Resort VehiclePositions\", \"Shape Array Key\": \"29d2bbdbeaec1d6888800f85bebf6e33\", \"Trip Id\": \"aa6a03fe-f119-44a5-8976-2ad77ceeb89f:8\", \"Test Stop Sequence\": 9, \"Gtfs Dataset Key\": \"1051e067d18a76b0a79789f051d5c22b\", \"Loop Or Inlining\": 1, \"N Trips\": 8, \"Variable\": \"Speed Mph\", \"Speed\": 7.2, \"Route\": \"Operator: Anaheim Resort VehiclePositions Route Type: 1 Shape Array: 29d2bbdbeaec1d6888800f85bebf6e33\", \"Speed_Int\": 7, \"Rounded Speed\": 10}, {\"Gtfs Dataset Name\": \"Eastern Sierra Vehicle Positions\", \"Shape Array Key\": \"754c5b012195800c38dc58e72e4f482e\", \"Trip Id\": \"t_97725_b_2397_tn_11\", \"Test Stop Sequence\": 1, \"Gtfs Dataset Key\": \"64b3bb0d6a6888b62be32aa789cc37ef\", \"Loop Or Inlining\": 0, \"N Trips\": 8, \"Variable\": \"Speed Mph\", \"Speed\": 0.0, \"Route\": \"Operator: Eastern Sierra Vehicle Positions Route Type: 0 Shape Array: 754c5b012195800c38dc58e72e4f482e\", \"Speed_Int\": 0, \"Rounded Speed\": 0}, {\"Gtfs Dataset Name\": \"Eastern Sierra Vehicle Positions\", \"Shape Array Key\": \"754c5b012195800c38dc58e72e4f482e\", \"Trip Id\": \"t_97725_b_2397_tn_11\", \"Test Stop Sequence\": 2, \"Gtfs Dataset Key\": \"64b3bb0d6a6888b62be32aa789cc37ef\", \"Loop Or Inlining\": 0, \"N Trips\": 9, \"Variable\": \"Speed Mph\", \"Speed\": 2.2, \"Route\": \"Operator: Eastern Sierra Vehicle Positions Route Type: 0 Shape Array: 754c5b012195800c38dc58e72e4f482e\", \"Speed_Int\": 2, \"Rounded Speed\": 5}, {\"Gtfs Dataset Name\": \"Eastern Sierra Vehicle Positions\", \"Shape Array Key\": \"754c5b012195800c38dc58e72e4f482e\", \"Trip Id\": \"t_97725_b_2397_tn_13\", \"Test Stop Sequence\": 2, \"Gtfs Dataset Key\": \"64b3bb0d6a6888b62be32aa789cc37ef\", \"Loop Or Inlining\": 0, \"N Trips\": 9, \"Variable\": \"Speed Mph\", \"Speed\": 2.9, \"Route\": \"Operator: Eastern Sierra Vehicle Positions Route Type: 0 Shape Array: 754c5b012195800c38dc58e72e4f482e\", \"Speed_Int\": 2, \"Rounded Speed\": 5}, {\"Gtfs Dataset Name\": \"Eastern Sierra Vehicle Positions\", \"Shape Array Key\": \"754c5b012195800c38dc58e72e4f482e\", \"Trip Id\": \"t_97725_b_2397_tn_13\", \"Test Stop Sequence\": 3, \"Gtfs Dataset Key\": \"64b3bb0d6a6888b62be32aa789cc37ef\", \"Loop Or Inlining\": 0, \"N Trips\": 1, \"Variable\": \"Speed Mph\", \"Speed\": null, \"Route\": \"Operator: Eastern Sierra Vehicle Positions Route Type: 0 Shape Array: 754c5b012195800c38dc58e72e4f482e\", \"Speed_Int\": 0, \"Rounded Speed\": 0}, {\"Gtfs Dataset Name\": \"Eastern Sierra Vehicle Positions\", \"Shape Array Key\": \"754c5b012195800c38dc58e72e4f482e\", \"Trip Id\": \"t_97725_b_2397_tn_15\", \"Test Stop Sequence\": 1, \"Gtfs Dataset Key\": \"64b3bb0d6a6888b62be32aa789cc37ef\", \"Loop Or Inlining\": 0, \"N Trips\": 1, \"Variable\": \"Speed Mph\", \"Speed\": null, \"Route\": \"Operator: Eastern Sierra Vehicle Positions Route Type: 0 Shape Array: 754c5b012195800c38dc58e72e4f482e\", \"Speed_Int\": 0, \"Rounded Speed\": 0}, {\"Gtfs Dataset Name\": \"Eastern Sierra Vehicle Positions\", \"Shape Array Key\": \"754c5b012195800c38dc58e72e4f482e\", \"Trip Id\": \"t_97725_b_2397_tn_17\", \"Test Stop Sequence\": 2, \"Gtfs Dataset Key\": \"64b3bb0d6a6888b62be32aa789cc37ef\", \"Loop Or Inlining\": 0, \"N Trips\": 9, \"Variable\": \"Speed Mph\", \"Speed\": 2.3, \"Route\": \"Operator: Eastern Sierra Vehicle Positions Route Type: 0 Shape Array: 754c5b012195800c38dc58e72e4f482e\", \"Speed_Int\": 2, \"Rounded Speed\": 5}, {\"Gtfs Dataset Name\": \"Eastern Sierra Vehicle Positions\", \"Shape Array Key\": \"754c5b012195800c38dc58e72e4f482e\", \"Trip Id\": \"t_97725_b_2397_tn_19\", \"Test Stop Sequence\": 2, \"Gtfs Dataset Key\": \"64b3bb0d6a6888b62be32aa789cc37ef\", \"Loop Or Inlining\": 0, \"N Trips\": 9, \"Variable\": \"Speed Mph\", \"Speed\": 3.6, \"Route\": \"Operator: Eastern Sierra Vehicle Positions Route Type: 0 Shape Array: 754c5b012195800c38dc58e72e4f482e\", \"Speed_Int\": 3, \"Rounded Speed\": 5}, {\"Gtfs Dataset Name\": \"Eastern Sierra Vehicle Positions\", \"Shape Array Key\": \"754c5b012195800c38dc58e72e4f482e\", \"Trip Id\": \"t_97725_b_2397_tn_21\", \"Test Stop Sequence\": 2, \"Gtfs Dataset Key\": \"64b3bb0d6a6888b62be32aa789cc37ef\", \"Loop Or Inlining\": 0, \"N Trips\": 9, \"Variable\": \"Speed Mph\", \"Speed\": 5.0, \"Route\": \"Operator: Eastern Sierra Vehicle Positions Route Type: 0 Shape Array: 754c5b012195800c38dc58e72e4f482e\", \"Speed_Int\": 5, \"Rounded Speed\": 5}, {\"Gtfs Dataset Name\": \"Eastern Sierra Vehicle Positions\", \"Shape Array Key\": \"754c5b012195800c38dc58e72e4f482e\", \"Trip Id\": \"t_97725_b_2397_tn_3\", \"Test Stop Sequence\": 2, \"Gtfs Dataset Key\": \"64b3bb0d6a6888b62be32aa789cc37ef\", \"Loop Or Inlining\": 0, \"N Trips\": 9, \"Variable\": \"Speed Mph\", \"Speed\": 0.5, \"Route\": \"Operator: Eastern Sierra Vehicle Positions Route Type: 0 Shape Array: 754c5b012195800c38dc58e72e4f482e\", \"Speed_Int\": 0, \"Rounded Speed\": 0}, {\"Gtfs Dataset Name\": \"Eastern Sierra Vehicle Positions\", \"Shape Array Key\": \"754c5b012195800c38dc58e72e4f482e\", \"Trip Id\": \"t_97725_b_2397_tn_3\", \"Test Stop Sequence\": 3, \"Gtfs Dataset Key\": \"64b3bb0d6a6888b62be32aa789cc37ef\", \"Loop Or Inlining\": 0, \"N Trips\": 1, \"Variable\": \"Speed Mph\", \"Speed\": 0.0, \"Route\": \"Operator: Eastern Sierra Vehicle Positions Route Type: 0 Shape Array: 754c5b012195800c38dc58e72e4f482e\", \"Speed_Int\": 0, \"Rounded Speed\": 0}, {\"Gtfs Dataset Name\": \"Eastern Sierra Vehicle Positions\", \"Shape Array Key\": \"754c5b012195800c38dc58e72e4f482e\", \"Trip Id\": \"t_97725_b_2397_tn_5\", \"Test Stop Sequence\": 2, \"Gtfs Dataset Key\": \"64b3bb0d6a6888b62be32aa789cc37ef\", \"Loop Or Inlining\": 0, \"N Trips\": 9, \"Variable\": \"Speed Mph\", \"Speed\": 5.2, \"Route\": \"Operator: Eastern Sierra Vehicle Positions Route Type: 0 Shape Array: 754c5b012195800c38dc58e72e4f482e\", \"Speed_Int\": 5, \"Rounded Speed\": 5}, {\"Gtfs Dataset Name\": \"Eastern Sierra Vehicle Positions\", \"Shape Array Key\": \"754c5b012195800c38dc58e72e4f482e\", \"Trip Id\": \"t_97725_b_2397_tn_7\", \"Test Stop Sequence\": 2, \"Gtfs Dataset Key\": \"64b3bb0d6a6888b62be32aa789cc37ef\", \"Loop Or Inlining\": 0, \"N Trips\": 9, \"Variable\": \"Speed Mph\", \"Speed\": 2.2, \"Route\": \"Operator: Eastern Sierra Vehicle Positions Route Type: 0 Shape Array: 754c5b012195800c38dc58e72e4f482e\", \"Speed_Int\": 2, \"Rounded Speed\": 5}, {\"Gtfs Dataset Name\": \"Eastern Sierra Vehicle Positions\", \"Shape Array Key\": \"754c5b012195800c38dc58e72e4f482e\", \"Trip Id\": \"t_97725_b_2397_tn_9\", \"Test Stop Sequence\": 1, \"Gtfs Dataset Key\": \"64b3bb0d6a6888b62be32aa789cc37ef\", \"Loop Or Inlining\": 0, \"N Trips\": 9, \"Variable\": \"Speed Mph\", \"Speed\": 8.3, \"Route\": \"Operator: Eastern Sierra Vehicle Positions Route Type: 0 Shape Array: 754c5b012195800c38dc58e72e4f482e\", \"Speed_Int\": 8, \"Rounded Speed\": 10}, {\"Gtfs Dataset Name\": \"Eastern Sierra Vehicle Positions\", \"Shape Array Key\": \"754c5b012195800c38dc58e72e4f482e\", \"Trip Id\": \"t_97725_b_2397_tn_9\", \"Test Stop Sequence\": 2, \"Gtfs Dataset Key\": \"64b3bb0d6a6888b62be32aa789cc37ef\", \"Loop Or Inlining\": 0, \"N Trips\": 1, \"Variable\": \"Speed Mph\", \"Speed\": null, \"Route\": \"Operator: Eastern Sierra Vehicle Positions Route Type: 0 Shape Array: 754c5b012195800c38dc58e72e4f482e\", \"Speed_Int\": 0, \"Rounded Speed\": 0}, {\"Gtfs Dataset Name\": \"Eastern Sierra Vehicle Positions\", \"Shape Array Key\": \"e3c5ed2c6fa6cd5c5cd57d46aeb3cd8e\", \"Trip Id\": \"t_195132_b_78389_tn_1\", \"Test Stop Sequence\": 1, \"Gtfs Dataset Key\": \"64b3bb0d6a6888b62be32aa789cc37ef\", \"Loop Or Inlining\": 0, \"N Trips\": 1, \"Variable\": \"Speed Mph\", \"Speed\": 34.6, \"Route\": \"Operator: Eastern Sierra Vehicle Positions Route Type: 0 Shape Array: e3c5ed2c6fa6cd5c5cd57d46aeb3cd8e\", \"Speed_Int\": 34, \"Rounded Speed\": 35}, {\"Gtfs Dataset Name\": \"Eastern Sierra Vehicle Positions\", \"Shape Array Key\": \"e3c5ed2c6fa6cd5c5cd57d46aeb3cd8e\", \"Trip Id\": \"t_195132_b_78389_tn_1\", \"Test Stop Sequence\": 2, \"Gtfs Dataset Key\": \"64b3bb0d6a6888b62be32aa789cc37ef\", \"Loop Or Inlining\": 0, \"N Trips\": 1, \"Variable\": \"Speed Mph\", \"Speed\": 0.5, \"Route\": \"Operator: Eastern Sierra Vehicle Positions Route Type: 0 Shape Array: e3c5ed2c6fa6cd5c5cd57d46aeb3cd8e\", \"Speed_Int\": 0, \"Rounded Speed\": 0}, {\"Gtfs Dataset Name\": \"Eastern Sierra Vehicle Positions\", \"Shape Array Key\": \"e3c5ed2c6fa6cd5c5cd57d46aeb3cd8e\", \"Trip Id\": \"t_195132_b_78389_tn_1\", \"Test Stop Sequence\": 3, \"Gtfs Dataset Key\": \"64b3bb0d6a6888b62be32aa789cc37ef\", \"Loop Or Inlining\": 0, \"N Trips\": 1, \"Variable\": \"Speed Mph\", \"Speed\": 0.5, \"Route\": \"Operator: Eastern Sierra Vehicle Positions Route Type: 0 Shape Array: e3c5ed2c6fa6cd5c5cd57d46aeb3cd8e\", \"Speed_Int\": 0, \"Rounded Speed\": 0}, {\"Gtfs Dataset Name\": \"Eastern Sierra Vehicle Positions\", \"Shape Array Key\": \"e3c5ed2c6fa6cd5c5cd57d46aeb3cd8e\", \"Trip Id\": \"t_195132_b_78389_tn_1\", \"Test Stop Sequence\": 4, \"Gtfs Dataset Key\": \"64b3bb0d6a6888b62be32aa789cc37ef\", \"Loop Or Inlining\": 0, \"N Trips\": 1, \"Variable\": \"Speed Mph\", \"Speed\": 11.8, \"Route\": \"Operator: Eastern Sierra Vehicle Positions Route Type: 0 Shape Array: e3c5ed2c6fa6cd5c5cd57d46aeb3cd8e\", \"Speed_Int\": 11, \"Rounded Speed\": 15}], \"data-64787b9f08a965d3e0f41018ed111db3\": [{\"Gtfs Dataset Name\": \"Anaheim Resort VehiclePositions\", \"Shape Array Key\": \"29d2bbdbeaec1d6888800f85bebf6e33\", \"Trip Id\": \"aa6a03fe-f119-44a5-8976-2ad77ceeb89f:1\", \"Test Stop Sequence\": 1, \"Gtfs Dataset Key\": \"1051e067d18a76b0a79789f051d5c22b\", \"Loop Or Inlining\": 1, \"N Trips\": 8, \"Variable\": \"Avg Speed Mph\", \"Speed\": 0.0, \"Route\": \"Operator: Anaheim Resort VehiclePositions Route Type: 1 Shape Array: 29d2bbdbeaec1d6888800f85bebf6e33\", \"Speed_Int\": 0, \"Rounded Speed\": 0}, {\"Gtfs Dataset Name\": \"Anaheim Resort VehiclePositions\", \"Shape Array Key\": \"29d2bbdbeaec1d6888800f85bebf6e33\", \"Trip Id\": \"aa6a03fe-f119-44a5-8976-2ad77ceeb89f:1\", \"Test Stop Sequence\": 2, \"Gtfs Dataset Key\": \"1051e067d18a76b0a79789f051d5c22b\", \"Loop Or Inlining\": 1, \"N Trips\": 8, \"Variable\": \"Avg Speed Mph\", \"Speed\": 8.0, \"Route\": \"Operator: Anaheim Resort VehiclePositions Route Type: 1 Shape Array: 29d2bbdbeaec1d6888800f85bebf6e33\", \"Speed_Int\": 8, \"Rounded Speed\": 10}, {\"Gtfs Dataset Name\": \"Anaheim Resort VehiclePositions\", \"Shape Array Key\": \"29d2bbdbeaec1d6888800f85bebf6e33\", \"Trip Id\": \"aa6a03fe-f119-44a5-8976-2ad77ceeb89f:1\", \"Test Stop Sequence\": 3, \"Gtfs Dataset Key\": \"1051e067d18a76b0a79789f051d5c22b\", \"Loop Or Inlining\": 1, \"N Trips\": 8, \"Variable\": \"Avg Speed Mph\", \"Speed\": 4.2, \"Route\": \"Operator: Anaheim Resort VehiclePositions Route Type: 1 Shape Array: 29d2bbdbeaec1d6888800f85bebf6e33\", \"Speed_Int\": 4, \"Rounded Speed\": 5}, {\"Gtfs Dataset Name\": \"Anaheim Resort VehiclePositions\", \"Shape Array Key\": \"29d2bbdbeaec1d6888800f85bebf6e33\", \"Trip Id\": \"aa6a03fe-f119-44a5-8976-2ad77ceeb89f:1\", \"Test Stop Sequence\": 4, \"Gtfs Dataset Key\": \"1051e067d18a76b0a79789f051d5c22b\", \"Loop Or Inlining\": 1, \"N Trips\": 8, \"Variable\": \"Avg Speed Mph\", \"Speed\": 4.8, \"Route\": \"Operator: Anaheim Resort VehiclePositions Route Type: 1 Shape Array: 29d2bbdbeaec1d6888800f85bebf6e33\", \"Speed_Int\": 4, \"Rounded Speed\": 5}, {\"Gtfs Dataset Name\": \"Anaheim Resort VehiclePositions\", \"Shape Array Key\": \"29d2bbdbeaec1d6888800f85bebf6e33\", \"Trip Id\": \"aa6a03fe-f119-44a5-8976-2ad77ceeb89f:1\", \"Test Stop Sequence\": 5, \"Gtfs Dataset Key\": \"1051e067d18a76b0a79789f051d5c22b\", \"Loop Or Inlining\": 1, \"N Trips\": 8, \"Variable\": \"Avg Speed Mph\", \"Speed\": 0.6, \"Route\": \"Operator: Anaheim Resort VehiclePositions Route Type: 1 Shape Array: 29d2bbdbeaec1d6888800f85bebf6e33\", \"Speed_Int\": 0, \"Rounded Speed\": 0}, {\"Gtfs Dataset Name\": \"Anaheim Resort VehiclePositions\", \"Shape Array Key\": \"29d2bbdbeaec1d6888800f85bebf6e33\", \"Trip Id\": \"aa6a03fe-f119-44a5-8976-2ad77ceeb89f:1\", \"Test Stop Sequence\": 6, \"Gtfs Dataset Key\": \"1051e067d18a76b0a79789f051d5c22b\", \"Loop Or Inlining\": 1, \"N Trips\": 8, \"Variable\": \"Avg Speed Mph\", \"Speed\": 2.5, \"Route\": \"Operator: Anaheim Resort VehiclePositions Route Type: 1 Shape Array: 29d2bbdbeaec1d6888800f85bebf6e33\", \"Speed_Int\": 2, \"Rounded Speed\": 5}, {\"Gtfs Dataset Name\": \"Anaheim Resort VehiclePositions\", \"Shape Array Key\": \"29d2bbdbeaec1d6888800f85bebf6e33\", \"Trip Id\": \"aa6a03fe-f119-44a5-8976-2ad77ceeb89f:1\", \"Test Stop Sequence\": 7, \"Gtfs Dataset Key\": \"1051e067d18a76b0a79789f051d5c22b\", \"Loop Or Inlining\": 1, \"N Trips\": 8, \"Variable\": \"Avg Speed Mph\", \"Speed\": 3.8, \"Route\": \"Operator: Anaheim Resort VehiclePositions Route Type: 1 Shape Array: 29d2bbdbeaec1d6888800f85bebf6e33\", \"Speed_Int\": 3, \"Rounded Speed\": 5}, {\"Gtfs Dataset Name\": \"Anaheim Resort VehiclePositions\", \"Shape Array Key\": \"29d2bbdbeaec1d6888800f85bebf6e33\", \"Trip Id\": \"aa6a03fe-f119-44a5-8976-2ad77ceeb89f:1\", \"Test Stop Sequence\": 8, \"Gtfs Dataset Key\": \"1051e067d18a76b0a79789f051d5c22b\", \"Loop Or Inlining\": 1, \"N Trips\": 8, \"Variable\": \"Avg Speed Mph\", \"Speed\": 4.9, \"Route\": \"Operator: Anaheim Resort VehiclePositions Route Type: 1 Shape Array: 29d2bbdbeaec1d6888800f85bebf6e33\", \"Speed_Int\": 4, \"Rounded Speed\": 5}, {\"Gtfs Dataset Name\": \"Anaheim Resort VehiclePositions\", \"Shape Array Key\": \"29d2bbdbeaec1d6888800f85bebf6e33\", \"Trip Id\": \"aa6a03fe-f119-44a5-8976-2ad77ceeb89f:1\", \"Test Stop Sequence\": 9, \"Gtfs Dataset Key\": \"1051e067d18a76b0a79789f051d5c22b\", \"Loop Or Inlining\": 1, \"N Trips\": 8, \"Variable\": \"Avg Speed Mph\", \"Speed\": 5.0, \"Route\": \"Operator: Anaheim Resort VehiclePositions Route Type: 1 Shape Array: 29d2bbdbeaec1d6888800f85bebf6e33\", \"Speed_Int\": 5, \"Rounded Speed\": 5}, {\"Gtfs Dataset Name\": \"Eastern Sierra Vehicle Positions\", \"Shape Array Key\": \"754c5b012195800c38dc58e72e4f482e\", \"Trip Id\": \"t_97725_b_2397_tn_11\", \"Test Stop Sequence\": 1, \"Gtfs Dataset Key\": \"64b3bb0d6a6888b62be32aa789cc37ef\", \"Loop Or Inlining\": 0, \"N Trips\": 8, \"Variable\": \"Avg Speed Mph\", \"Speed\": 0.0, \"Route\": \"Operator: Eastern Sierra Vehicle Positions Route Type: 0 Shape Array: 754c5b012195800c38dc58e72e4f482e\", \"Speed_Int\": 0, \"Rounded Speed\": 0}, {\"Gtfs Dataset Name\": \"Eastern Sierra Vehicle Positions\", \"Shape Array Key\": \"754c5b012195800c38dc58e72e4f482e\", \"Trip Id\": \"t_97725_b_2397_tn_11\", \"Test Stop Sequence\": 2, \"Gtfs Dataset Key\": \"64b3bb0d6a6888b62be32aa789cc37ef\", \"Loop Or Inlining\": 0, \"N Trips\": 9, \"Variable\": \"Avg Speed Mph\", \"Speed\": 3.6, \"Route\": \"Operator: Eastern Sierra Vehicle Positions Route Type: 0 Shape Array: 754c5b012195800c38dc58e72e4f482e\", \"Speed_Int\": 3, \"Rounded Speed\": 5}, {\"Gtfs Dataset Name\": \"Eastern Sierra Vehicle Positions\", \"Shape Array Key\": \"754c5b012195800c38dc58e72e4f482e\", \"Trip Id\": \"t_97725_b_2397_tn_13\", \"Test Stop Sequence\": 3, \"Gtfs Dataset Key\": \"64b3bb0d6a6888b62be32aa789cc37ef\", \"Loop Or Inlining\": 0, \"N Trips\": 1, \"Variable\": \"Avg Speed Mph\", \"Speed\": 0.0, \"Route\": \"Operator: Eastern Sierra Vehicle Positions Route Type: 0 Shape Array: 754c5b012195800c38dc58e72e4f482e\", \"Speed_Int\": 0, \"Rounded Speed\": 0}, {\"Gtfs Dataset Name\": \"Eastern Sierra Vehicle Positions\", \"Shape Array Key\": \"754c5b012195800c38dc58e72e4f482e\", \"Trip Id\": \"t_97725_b_2397_tn_9\", \"Test Stop Sequence\": 1, \"Gtfs Dataset Key\": \"64b3bb0d6a6888b62be32aa789cc37ef\", \"Loop Or Inlining\": 0, \"N Trips\": 9, \"Variable\": \"Avg Speed Mph\", \"Speed\": 3.6, \"Route\": \"Operator: Eastern Sierra Vehicle Positions Route Type: 0 Shape Array: 754c5b012195800c38dc58e72e4f482e\", \"Speed_Int\": 3, \"Rounded Speed\": 5}, {\"Gtfs Dataset Name\": \"Eastern Sierra Vehicle Positions\", \"Shape Array Key\": \"754c5b012195800c38dc58e72e4f482e\", \"Trip Id\": \"t_97725_b_2397_tn_9\", \"Test Stop Sequence\": 2, \"Gtfs Dataset Key\": \"64b3bb0d6a6888b62be32aa789cc37ef\", \"Loop Or Inlining\": 0, \"N Trips\": 1, \"Variable\": \"Avg Speed Mph\", \"Speed\": 0.0, \"Route\": \"Operator: Eastern Sierra Vehicle Positions Route Type: 0 Shape Array: 754c5b012195800c38dc58e72e4f482e\", \"Speed_Int\": 0, \"Rounded Speed\": 0}, {\"Gtfs Dataset Name\": \"Eastern Sierra Vehicle Positions\", \"Shape Array Key\": \"e3c5ed2c6fa6cd5c5cd57d46aeb3cd8e\", \"Trip Id\": \"t_195132_b_78389_tn_1\", \"Test Stop Sequence\": 1, \"Gtfs Dataset Key\": \"64b3bb0d6a6888b62be32aa789cc37ef\", \"Loop Or Inlining\": 0, \"N Trips\": 1, \"Variable\": \"Avg Speed Mph\", \"Speed\": 34.6, \"Route\": \"Operator: Eastern Sierra Vehicle Positions Route Type: 0 Shape Array: e3c5ed2c6fa6cd5c5cd57d46aeb3cd8e\", \"Speed_Int\": 34, \"Rounded Speed\": 35}, {\"Gtfs Dataset Name\": \"Eastern Sierra Vehicle Positions\", \"Shape Array Key\": \"e3c5ed2c6fa6cd5c5cd57d46aeb3cd8e\", \"Trip Id\": \"t_195132_b_78389_tn_1\", \"Test Stop Sequence\": 2, \"Gtfs Dataset Key\": \"64b3bb0d6a6888b62be32aa789cc37ef\", \"Loop Or Inlining\": 0, \"N Trips\": 1, \"Variable\": \"Avg Speed Mph\", \"Speed\": 0.5, \"Route\": \"Operator: Eastern Sierra Vehicle Positions Route Type: 0 Shape Array: e3c5ed2c6fa6cd5c5cd57d46aeb3cd8e\", \"Speed_Int\": 0, \"Rounded Speed\": 0}, {\"Gtfs Dataset Name\": \"Eastern Sierra Vehicle Positions\", \"Shape Array Key\": \"e3c5ed2c6fa6cd5c5cd57d46aeb3cd8e\", \"Trip Id\": \"t_195132_b_78389_tn_1\", \"Test Stop Sequence\": 3, \"Gtfs Dataset Key\": \"64b3bb0d6a6888b62be32aa789cc37ef\", \"Loop Or Inlining\": 0, \"N Trips\": 1, \"Variable\": \"Avg Speed Mph\", \"Speed\": 0.5, \"Route\": \"Operator: Eastern Sierra Vehicle Positions Route Type: 0 Shape Array: e3c5ed2c6fa6cd5c5cd57d46aeb3cd8e\", \"Speed_Int\": 0, \"Rounded Speed\": 0}, {\"Gtfs Dataset Name\": \"Eastern Sierra Vehicle Positions\", \"Shape Array Key\": \"e3c5ed2c6fa6cd5c5cd57d46aeb3cd8e\", \"Trip Id\": \"t_195132_b_78389_tn_1\", \"Test Stop Sequence\": 4, \"Gtfs Dataset Key\": \"64b3bb0d6a6888b62be32aa789cc37ef\", \"Loop Or Inlining\": 0, \"N Trips\": 1, \"Variable\": \"Avg Speed Mph\", \"Speed\": 11.8, \"Route\": \"Operator: Eastern Sierra Vehicle Positions Route Type: 0 Shape Array: e3c5ed2c6fa6cd5c5cd57d46aeb3cd8e\", \"Speed_Int\": 11, \"Rounded Speed\": 15}, {\"Gtfs Dataset Name\": \"Anaheim Resort VehiclePositions\", \"Shape Array Key\": \"29d2bbdbeaec1d6888800f85bebf6e33\", \"Trip Id\": \"aa6a03fe-f119-44a5-8976-2ad77ceeb89f:1\", \"Test Stop Sequence\": 1, \"Gtfs Dataset Key\": \"1051e067d18a76b0a79789f051d5c22b\", \"Loop Or Inlining\": 1, \"N Trips\": 8, \"Variable\": \"P20 Speed Mph\", \"Speed\": 0.0, \"Route\": \"Operator: Anaheim Resort VehiclePositions Route Type: 1 Shape Array: 29d2bbdbeaec1d6888800f85bebf6e33\", \"Speed_Int\": 0, \"Rounded Speed\": 0}, {\"Gtfs Dataset Name\": \"Anaheim Resort VehiclePositions\", \"Shape Array Key\": \"29d2bbdbeaec1d6888800f85bebf6e33\", \"Trip Id\": \"aa6a03fe-f119-44a5-8976-2ad77ceeb89f:1\", \"Test Stop Sequence\": 2, \"Gtfs Dataset Key\": \"1051e067d18a76b0a79789f051d5c22b\", \"Loop Or Inlining\": 1, \"N Trips\": 8, \"Variable\": \"P20 Speed Mph\", \"Speed\": 6.0, \"Route\": \"Operator: Anaheim Resort VehiclePositions Route Type: 1 Shape Array: 29d2bbdbeaec1d6888800f85bebf6e33\", \"Speed_Int\": 6, \"Rounded Speed\": 10}, {\"Gtfs Dataset Name\": \"Anaheim Resort VehiclePositions\", \"Shape Array Key\": \"29d2bbdbeaec1d6888800f85bebf6e33\", \"Trip Id\": \"aa6a03fe-f119-44a5-8976-2ad77ceeb89f:1\", \"Test Stop Sequence\": 3, \"Gtfs Dataset Key\": \"1051e067d18a76b0a79789f051d5c22b\", \"Loop Or Inlining\": 1, \"N Trips\": 8, \"Variable\": \"P20 Speed Mph\", \"Speed\": 3.7, \"Route\": \"Operator: Anaheim Resort VehiclePositions Route Type: 1 Shape Array: 29d2bbdbeaec1d6888800f85bebf6e33\", \"Speed_Int\": 3, \"Rounded Speed\": 5}, {\"Gtfs Dataset Name\": \"Anaheim Resort VehiclePositions\", \"Shape Array Key\": \"29d2bbdbeaec1d6888800f85bebf6e33\", \"Trip Id\": \"aa6a03fe-f119-44a5-8976-2ad77ceeb89f:1\", \"Test Stop Sequence\": 4, \"Gtfs Dataset Key\": \"1051e067d18a76b0a79789f051d5c22b\", \"Loop Or Inlining\": 1, \"N Trips\": 8, \"Variable\": \"P20 Speed Mph\", \"Speed\": 3.2, \"Route\": \"Operator: Anaheim Resort VehiclePositions Route Type: 1 Shape Array: 29d2bbdbeaec1d6888800f85bebf6e33\", \"Speed_Int\": 3, \"Rounded Speed\": 5}, {\"Gtfs Dataset Name\": \"Anaheim Resort VehiclePositions\", \"Shape Array Key\": \"29d2bbdbeaec1d6888800f85bebf6e33\", \"Trip Id\": \"aa6a03fe-f119-44a5-8976-2ad77ceeb89f:1\", \"Test Stop Sequence\": 5, \"Gtfs Dataset Key\": \"1051e067d18a76b0a79789f051d5c22b\", \"Loop Or Inlining\": 1, \"N Trips\": 8, \"Variable\": \"P20 Speed Mph\", \"Speed\": 0.4, \"Route\": \"Operator: Anaheim Resort VehiclePositions Route Type: 1 Shape Array: 29d2bbdbeaec1d6888800f85bebf6e33\", \"Speed_Int\": 0, \"Rounded Speed\": 0}, {\"Gtfs Dataset Name\": \"Anaheim Resort VehiclePositions\", \"Shape Array Key\": \"29d2bbdbeaec1d6888800f85bebf6e33\", \"Trip Id\": \"aa6a03fe-f119-44a5-8976-2ad77ceeb89f:1\", \"Test Stop Sequence\": 6, \"Gtfs Dataset Key\": \"1051e067d18a76b0a79789f051d5c22b\", \"Loop Or Inlining\": 1, \"N Trips\": 8, \"Variable\": \"P20 Speed Mph\", \"Speed\": 0.7, \"Route\": \"Operator: Anaheim Resort VehiclePositions Route Type: 1 Shape Array: 29d2bbdbeaec1d6888800f85bebf6e33\", \"Speed_Int\": 0, \"Rounded Speed\": 0}, {\"Gtfs Dataset Name\": \"Anaheim Resort VehiclePositions\", \"Shape Array Key\": \"29d2bbdbeaec1d6888800f85bebf6e33\", \"Trip Id\": \"aa6a03fe-f119-44a5-8976-2ad77ceeb89f:1\", \"Test Stop Sequence\": 7, \"Gtfs Dataset Key\": \"1051e067d18a76b0a79789f051d5c22b\", \"Loop Or Inlining\": 1, \"N Trips\": 8, \"Variable\": \"P20 Speed Mph\", \"Speed\": 3.1, \"Route\": \"Operator: Anaheim Resort VehiclePositions Route Type: 1 Shape Array: 29d2bbdbeaec1d6888800f85bebf6e33\", \"Speed_Int\": 3, \"Rounded Speed\": 5}, {\"Gtfs Dataset Name\": \"Anaheim Resort VehiclePositions\", \"Shape Array Key\": \"29d2bbdbeaec1d6888800f85bebf6e33\", \"Trip Id\": \"aa6a03fe-f119-44a5-8976-2ad77ceeb89f:1\", \"Test Stop Sequence\": 8, \"Gtfs Dataset Key\": \"1051e067d18a76b0a79789f051d5c22b\", \"Loop Or Inlining\": 1, \"N Trips\": 8, \"Variable\": \"P20 Speed Mph\", \"Speed\": 3.6, \"Route\": \"Operator: Anaheim Resort VehiclePositions Route Type: 1 Shape Array: 29d2bbdbeaec1d6888800f85bebf6e33\", \"Speed_Int\": 3, \"Rounded Speed\": 5}, {\"Gtfs Dataset Name\": \"Anaheim Resort VehiclePositions\", \"Shape Array Key\": \"29d2bbdbeaec1d6888800f85bebf6e33\", \"Trip Id\": \"aa6a03fe-f119-44a5-8976-2ad77ceeb89f:1\", \"Test Stop Sequence\": 9, \"Gtfs Dataset Key\": \"1051e067d18a76b0a79789f051d5c22b\", \"Loop Or Inlining\": 1, \"N Trips\": 8, \"Variable\": \"P20 Speed Mph\", \"Speed\": 3.0, \"Route\": \"Operator: Anaheim Resort VehiclePositions Route Type: 1 Shape Array: 29d2bbdbeaec1d6888800f85bebf6e33\", \"Speed_Int\": 3, \"Rounded Speed\": 5}, {\"Gtfs Dataset Name\": \"Eastern Sierra Vehicle Positions\", \"Shape Array Key\": \"754c5b012195800c38dc58e72e4f482e\", \"Trip Id\": \"t_97725_b_2397_tn_11\", \"Test Stop Sequence\": 1, \"Gtfs Dataset Key\": \"64b3bb0d6a6888b62be32aa789cc37ef\", \"Loop Or Inlining\": 0, \"N Trips\": 8, \"Variable\": \"P20 Speed Mph\", \"Speed\": 0.0, \"Route\": \"Operator: Eastern Sierra Vehicle Positions Route Type: 0 Shape Array: 754c5b012195800c38dc58e72e4f482e\", \"Speed_Int\": 0, \"Rounded Speed\": 0}, {\"Gtfs Dataset Name\": \"Eastern Sierra Vehicle Positions\", \"Shape Array Key\": \"754c5b012195800c38dc58e72e4f482e\", \"Trip Id\": \"t_97725_b_2397_tn_11\", \"Test Stop Sequence\": 2, \"Gtfs Dataset Key\": \"64b3bb0d6a6888b62be32aa789cc37ef\", \"Loop Or Inlining\": 0, \"N Trips\": 9, \"Variable\": \"P20 Speed Mph\", \"Speed\": 2.2, \"Route\": \"Operator: Eastern Sierra Vehicle Positions Route Type: 0 Shape Array: 754c5b012195800c38dc58e72e4f482e\", \"Speed_Int\": 2, \"Rounded Speed\": 5}, {\"Gtfs Dataset Name\": \"Eastern Sierra Vehicle Positions\", \"Shape Array Key\": \"754c5b012195800c38dc58e72e4f482e\", \"Trip Id\": \"t_97725_b_2397_tn_13\", \"Test Stop Sequence\": 3, \"Gtfs Dataset Key\": \"64b3bb0d6a6888b62be32aa789cc37ef\", \"Loop Or Inlining\": 0, \"N Trips\": 1, \"Variable\": \"P20 Speed Mph\", \"Speed\": 0.0, \"Route\": \"Operator: Eastern Sierra Vehicle Positions Route Type: 0 Shape Array: 754c5b012195800c38dc58e72e4f482e\", \"Speed_Int\": 0, \"Rounded Speed\": 0}, {\"Gtfs Dataset Name\": \"Eastern Sierra Vehicle Positions\", \"Shape Array Key\": \"754c5b012195800c38dc58e72e4f482e\", \"Trip Id\": \"t_97725_b_2397_tn_9\", \"Test Stop Sequence\": 1, \"Gtfs Dataset Key\": \"64b3bb0d6a6888b62be32aa789cc37ef\", \"Loop Or Inlining\": 0, \"N Trips\": 9, \"Variable\": \"P20 Speed Mph\", \"Speed\": 2.2, \"Route\": \"Operator: Eastern Sierra Vehicle Positions Route Type: 0 Shape Array: 754c5b012195800c38dc58e72e4f482e\", \"Speed_Int\": 2, \"Rounded Speed\": 5}, {\"Gtfs Dataset Name\": \"Eastern Sierra Vehicle Positions\", \"Shape Array Key\": \"754c5b012195800c38dc58e72e4f482e\", \"Trip Id\": \"t_97725_b_2397_tn_9\", \"Test Stop Sequence\": 2, \"Gtfs Dataset Key\": \"64b3bb0d6a6888b62be32aa789cc37ef\", \"Loop Or Inlining\": 0, \"N Trips\": 1, \"Variable\": \"P20 Speed Mph\", \"Speed\": 0.0, \"Route\": \"Operator: Eastern Sierra Vehicle Positions Route Type: 0 Shape Array: 754c5b012195800c38dc58e72e4f482e\", \"Speed_Int\": 0, \"Rounded Speed\": 0}, {\"Gtfs Dataset Name\": \"Eastern Sierra Vehicle Positions\", \"Shape Array Key\": \"e3c5ed2c6fa6cd5c5cd57d46aeb3cd8e\", \"Trip Id\": \"t_195132_b_78389_tn_1\", \"Test Stop Sequence\": 1, \"Gtfs Dataset Key\": \"64b3bb0d6a6888b62be32aa789cc37ef\", \"Loop Or Inlining\": 0, \"N Trips\": 1, \"Variable\": \"P20 Speed Mph\", \"Speed\": 34.6, \"Route\": \"Operator: Eastern Sierra Vehicle Positions Route Type: 0 Shape Array: e3c5ed2c6fa6cd5c5cd57d46aeb3cd8e\", \"Speed_Int\": 34, \"Rounded Speed\": 35}, {\"Gtfs Dataset Name\": \"Eastern Sierra Vehicle Positions\", \"Shape Array Key\": \"e3c5ed2c6fa6cd5c5cd57d46aeb3cd8e\", \"Trip Id\": \"t_195132_b_78389_tn_1\", \"Test Stop Sequence\": 2, \"Gtfs Dataset Key\": \"64b3bb0d6a6888b62be32aa789cc37ef\", \"Loop Or Inlining\": 0, \"N Trips\": 1, \"Variable\": \"P20 Speed Mph\", \"Speed\": 0.5, \"Route\": \"Operator: Eastern Sierra Vehicle Positions Route Type: 0 Shape Array: e3c5ed2c6fa6cd5c5cd57d46aeb3cd8e\", \"Speed_Int\": 0, \"Rounded Speed\": 0}, {\"Gtfs Dataset Name\": \"Eastern Sierra Vehicle Positions\", \"Shape Array Key\": \"e3c5ed2c6fa6cd5c5cd57d46aeb3cd8e\", \"Trip Id\": \"t_195132_b_78389_tn_1\", \"Test Stop Sequence\": 3, \"Gtfs Dataset Key\": \"64b3bb0d6a6888b62be32aa789cc37ef\", \"Loop Or Inlining\": 0, \"N Trips\": 1, \"Variable\": \"P20 Speed Mph\", \"Speed\": 0.5, \"Route\": \"Operator: Eastern Sierra Vehicle Positions Route Type: 0 Shape Array: e3c5ed2c6fa6cd5c5cd57d46aeb3cd8e\", \"Speed_Int\": 0, \"Rounded Speed\": 0}, {\"Gtfs Dataset Name\": \"Eastern Sierra Vehicle Positions\", \"Shape Array Key\": \"e3c5ed2c6fa6cd5c5cd57d46aeb3cd8e\", \"Trip Id\": \"t_195132_b_78389_tn_1\", \"Test Stop Sequence\": 4, \"Gtfs Dataset Key\": \"64b3bb0d6a6888b62be32aa789cc37ef\", \"Loop Or Inlining\": 0, \"N Trips\": 1, \"Variable\": \"P20 Speed Mph\", \"Speed\": 11.8, \"Route\": \"Operator: Eastern Sierra Vehicle Positions Route Type: 0 Shape Array: e3c5ed2c6fa6cd5c5cd57d46aeb3cd8e\", \"Speed_Int\": 11, \"Rounded Speed\": 15}, {\"Gtfs Dataset Name\": \"Anaheim Resort VehiclePositions\", \"Shape Array Key\": \"29d2bbdbeaec1d6888800f85bebf6e33\", \"Trip Id\": \"aa6a03fe-f119-44a5-8976-2ad77ceeb89f:1\", \"Test Stop Sequence\": 1, \"Gtfs Dataset Key\": \"1051e067d18a76b0a79789f051d5c22b\", \"Loop Or Inlining\": 1, \"N Trips\": 8, \"Variable\": \"P80 Speed Mph\", \"Speed\": 0.0, \"Route\": \"Operator: Anaheim Resort VehiclePositions Route Type: 1 Shape Array: 29d2bbdbeaec1d6888800f85bebf6e33\", \"Speed_Int\": 0, \"Rounded Speed\": 0}, {\"Gtfs Dataset Name\": \"Anaheim Resort VehiclePositions\", \"Shape Array Key\": \"29d2bbdbeaec1d6888800f85bebf6e33\", \"Trip Id\": \"aa6a03fe-f119-44a5-8976-2ad77ceeb89f:1\", \"Test Stop Sequence\": 2, \"Gtfs Dataset Key\": \"1051e067d18a76b0a79789f051d5c22b\", \"Loop Or Inlining\": 1, \"N Trips\": 8, \"Variable\": \"P80 Speed Mph\", \"Speed\": 11.1, \"Route\": \"Operator: Anaheim Resort VehiclePositions Route Type: 1 Shape Array: 29d2bbdbeaec1d6888800f85bebf6e33\", \"Speed_Int\": 11, \"Rounded Speed\": 15}, {\"Gtfs Dataset Name\": \"Anaheim Resort VehiclePositions\", \"Shape Array Key\": \"29d2bbdbeaec1d6888800f85bebf6e33\", \"Trip Id\": \"aa6a03fe-f119-44a5-8976-2ad77ceeb89f:1\", \"Test Stop Sequence\": 3, \"Gtfs Dataset Key\": \"1051e067d18a76b0a79789f051d5c22b\", \"Loop Or Inlining\": 1, \"N Trips\": 8, \"Variable\": \"P80 Speed Mph\", \"Speed\": 4.8, \"Route\": \"Operator: Anaheim Resort VehiclePositions Route Type: 1 Shape Array: 29d2bbdbeaec1d6888800f85bebf6e33\", \"Speed_Int\": 4, \"Rounded Speed\": 5}, {\"Gtfs Dataset Name\": \"Anaheim Resort VehiclePositions\", \"Shape Array Key\": \"29d2bbdbeaec1d6888800f85bebf6e33\", \"Trip Id\": \"aa6a03fe-f119-44a5-8976-2ad77ceeb89f:1\", \"Test Stop Sequence\": 4, \"Gtfs Dataset Key\": \"1051e067d18a76b0a79789f051d5c22b\", \"Loop Or Inlining\": 1, \"N Trips\": 8, \"Variable\": \"P80 Speed Mph\", \"Speed\": 5.7, \"Route\": \"Operator: Anaheim Resort VehiclePositions Route Type: 1 Shape Array: 29d2bbdbeaec1d6888800f85bebf6e33\", \"Speed_Int\": 5, \"Rounded Speed\": 5}, {\"Gtfs Dataset Name\": \"Anaheim Resort VehiclePositions\", \"Shape Array Key\": \"29d2bbdbeaec1d6888800f85bebf6e33\", \"Trip Id\": \"aa6a03fe-f119-44a5-8976-2ad77ceeb89f:1\", \"Test Stop Sequence\": 5, \"Gtfs Dataset Key\": \"1051e067d18a76b0a79789f051d5c22b\", \"Loop Or Inlining\": 1, \"N Trips\": 8, \"Variable\": \"P80 Speed Mph\", \"Speed\": 0.9, \"Route\": \"Operator: Anaheim Resort VehiclePositions Route Type: 1 Shape Array: 29d2bbdbeaec1d6888800f85bebf6e33\", \"Speed_Int\": 0, \"Rounded Speed\": 0}, {\"Gtfs Dataset Name\": \"Anaheim Resort VehiclePositions\", \"Shape Array Key\": \"29d2bbdbeaec1d6888800f85bebf6e33\", \"Trip Id\": \"aa6a03fe-f119-44a5-8976-2ad77ceeb89f:1\", \"Test Stop Sequence\": 6, \"Gtfs Dataset Key\": \"1051e067d18a76b0a79789f051d5c22b\", \"Loop Or Inlining\": 1, \"N Trips\": 8, \"Variable\": \"P80 Speed Mph\", \"Speed\": 3.4, \"Route\": \"Operator: Anaheim Resort VehiclePositions Route Type: 1 Shape Array: 29d2bbdbeaec1d6888800f85bebf6e33\", \"Speed_Int\": 3, \"Rounded Speed\": 5}, {\"Gtfs Dataset Name\": \"Anaheim Resort VehiclePositions\", \"Shape Array Key\": \"29d2bbdbeaec1d6888800f85bebf6e33\", \"Trip Id\": \"aa6a03fe-f119-44a5-8976-2ad77ceeb89f:1\", \"Test Stop Sequence\": 7, \"Gtfs Dataset Key\": \"1051e067d18a76b0a79789f051d5c22b\", \"Loop Or Inlining\": 1, \"N Trips\": 8, \"Variable\": \"P80 Speed Mph\", \"Speed\": 4.4, \"Route\": \"Operator: Anaheim Resort VehiclePositions Route Type: 1 Shape Array: 29d2bbdbeaec1d6888800f85bebf6e33\", \"Speed_Int\": 4, \"Rounded Speed\": 5}, {\"Gtfs Dataset Name\": \"Anaheim Resort VehiclePositions\", \"Shape Array Key\": \"29d2bbdbeaec1d6888800f85bebf6e33\", \"Trip Id\": \"aa6a03fe-f119-44a5-8976-2ad77ceeb89f:1\", \"Test Stop Sequence\": 8, \"Gtfs Dataset Key\": \"1051e067d18a76b0a79789f051d5c22b\", \"Loop Or Inlining\": 1, \"N Trips\": 8, \"Variable\": \"P80 Speed Mph\", \"Speed\": 6.2, \"Route\": \"Operator: Anaheim Resort VehiclePositions Route Type: 1 Shape Array: 29d2bbdbeaec1d6888800f85bebf6e33\", \"Speed_Int\": 6, \"Rounded Speed\": 10}, {\"Gtfs Dataset Name\": \"Anaheim Resort VehiclePositions\", \"Shape Array Key\": \"29d2bbdbeaec1d6888800f85bebf6e33\", \"Trip Id\": \"aa6a03fe-f119-44a5-8976-2ad77ceeb89f:1\", \"Test Stop Sequence\": 9, \"Gtfs Dataset Key\": \"1051e067d18a76b0a79789f051d5c22b\", \"Loop Or Inlining\": 1, \"N Trips\": 8, \"Variable\": \"P80 Speed Mph\", \"Speed\": 6.8, \"Route\": \"Operator: Anaheim Resort VehiclePositions Route Type: 1 Shape Array: 29d2bbdbeaec1d6888800f85bebf6e33\", \"Speed_Int\": 6, \"Rounded Speed\": 10}, {\"Gtfs Dataset Name\": \"Eastern Sierra Vehicle Positions\", \"Shape Array Key\": \"754c5b012195800c38dc58e72e4f482e\", \"Trip Id\": \"t_97725_b_2397_tn_11\", \"Test Stop Sequence\": 1, \"Gtfs Dataset Key\": \"64b3bb0d6a6888b62be32aa789cc37ef\", \"Loop Or Inlining\": 0, \"N Trips\": 8, \"Variable\": \"P80 Speed Mph\", \"Speed\": 0.0, \"Route\": \"Operator: Eastern Sierra Vehicle Positions Route Type: 0 Shape Array: 754c5b012195800c38dc58e72e4f482e\", \"Speed_Int\": 0, \"Rounded Speed\": 0}, {\"Gtfs Dataset Name\": \"Eastern Sierra Vehicle Positions\", \"Shape Array Key\": \"754c5b012195800c38dc58e72e4f482e\", \"Trip Id\": \"t_97725_b_2397_tn_11\", \"Test Stop Sequence\": 2, \"Gtfs Dataset Key\": \"64b3bb0d6a6888b62be32aa789cc37ef\", \"Loop Or Inlining\": 0, \"N Trips\": 9, \"Variable\": \"P80 Speed Mph\", \"Speed\": 5.1, \"Route\": \"Operator: Eastern Sierra Vehicle Positions Route Type: 0 Shape Array: 754c5b012195800c38dc58e72e4f482e\", \"Speed_Int\": 5, \"Rounded Speed\": 5}, {\"Gtfs Dataset Name\": \"Eastern Sierra Vehicle Positions\", \"Shape Array Key\": \"754c5b012195800c38dc58e72e4f482e\", \"Trip Id\": \"t_97725_b_2397_tn_13\", \"Test Stop Sequence\": 3, \"Gtfs Dataset Key\": \"64b3bb0d6a6888b62be32aa789cc37ef\", \"Loop Or Inlining\": 0, \"N Trips\": 1, \"Variable\": \"P80 Speed Mph\", \"Speed\": 0.0, \"Route\": \"Operator: Eastern Sierra Vehicle Positions Route Type: 0 Shape Array: 754c5b012195800c38dc58e72e4f482e\", \"Speed_Int\": 0, \"Rounded Speed\": 0}, {\"Gtfs Dataset Name\": \"Eastern Sierra Vehicle Positions\", \"Shape Array Key\": \"754c5b012195800c38dc58e72e4f482e\", \"Trip Id\": \"t_97725_b_2397_tn_9\", \"Test Stop Sequence\": 1, \"Gtfs Dataset Key\": \"64b3bb0d6a6888b62be32aa789cc37ef\", \"Loop Or Inlining\": 0, \"N Trips\": 9, \"Variable\": \"P80 Speed Mph\", \"Speed\": 5.1, \"Route\": \"Operator: Eastern Sierra Vehicle Positions Route Type: 0 Shape Array: 754c5b012195800c38dc58e72e4f482e\", \"Speed_Int\": 5, \"Rounded Speed\": 5}, {\"Gtfs Dataset Name\": \"Eastern Sierra Vehicle Positions\", \"Shape Array Key\": \"754c5b012195800c38dc58e72e4f482e\", \"Trip Id\": \"t_97725_b_2397_tn_9\", \"Test Stop Sequence\": 2, \"Gtfs Dataset Key\": \"64b3bb0d6a6888b62be32aa789cc37ef\", \"Loop Or Inlining\": 0, \"N Trips\": 1, \"Variable\": \"P80 Speed Mph\", \"Speed\": 0.0, \"Route\": \"Operator: Eastern Sierra Vehicle Positions Route Type: 0 Shape Array: 754c5b012195800c38dc58e72e4f482e\", \"Speed_Int\": 0, \"Rounded Speed\": 0}, {\"Gtfs Dataset Name\": \"Eastern Sierra Vehicle Positions\", \"Shape Array Key\": \"e3c5ed2c6fa6cd5c5cd57d46aeb3cd8e\", \"Trip Id\": \"t_195132_b_78389_tn_1\", \"Test Stop Sequence\": 1, \"Gtfs Dataset Key\": \"64b3bb0d6a6888b62be32aa789cc37ef\", \"Loop Or Inlining\": 0, \"N Trips\": 1, \"Variable\": \"P80 Speed Mph\", \"Speed\": 34.6, \"Route\": \"Operator: Eastern Sierra Vehicle Positions Route Type: 0 Shape Array: e3c5ed2c6fa6cd5c5cd57d46aeb3cd8e\", \"Speed_Int\": 34, \"Rounded Speed\": 35}, {\"Gtfs Dataset Name\": \"Eastern Sierra Vehicle Positions\", \"Shape Array Key\": \"e3c5ed2c6fa6cd5c5cd57d46aeb3cd8e\", \"Trip Id\": \"t_195132_b_78389_tn_1\", \"Test Stop Sequence\": 2, \"Gtfs Dataset Key\": \"64b3bb0d6a6888b62be32aa789cc37ef\", \"Loop Or Inlining\": 0, \"N Trips\": 1, \"Variable\": \"P80 Speed Mph\", \"Speed\": 0.5, \"Route\": \"Operator: Eastern Sierra Vehicle Positions Route Type: 0 Shape Array: e3c5ed2c6fa6cd5c5cd57d46aeb3cd8e\", \"Speed_Int\": 0, \"Rounded Speed\": 0}, {\"Gtfs Dataset Name\": \"Eastern Sierra Vehicle Positions\", \"Shape Array Key\": \"e3c5ed2c6fa6cd5c5cd57d46aeb3cd8e\", \"Trip Id\": \"t_195132_b_78389_tn_1\", \"Test Stop Sequence\": 3, \"Gtfs Dataset Key\": \"64b3bb0d6a6888b62be32aa789cc37ef\", \"Loop Or Inlining\": 0, \"N Trips\": 1, \"Variable\": \"P80 Speed Mph\", \"Speed\": 0.5, \"Route\": \"Operator: Eastern Sierra Vehicle Positions Route Type: 0 Shape Array: e3c5ed2c6fa6cd5c5cd57d46aeb3cd8e\", \"Speed_Int\": 0, \"Rounded Speed\": 0}, {\"Gtfs Dataset Name\": \"Eastern Sierra Vehicle Positions\", \"Shape Array Key\": \"e3c5ed2c6fa6cd5c5cd57d46aeb3cd8e\", \"Trip Id\": \"t_195132_b_78389_tn_1\", \"Test Stop Sequence\": 4, \"Gtfs Dataset Key\": \"64b3bb0d6a6888b62be32aa789cc37ef\", \"Loop Or Inlining\": 0, \"N Trips\": 1, \"Variable\": \"P80 Speed Mph\", \"Speed\": 11.8, \"Route\": \"Operator: Eastern Sierra Vehicle Positions Route Type: 0 Shape Array: e3c5ed2c6fa6cd5c5cd57d46aeb3cd8e\", \"Speed_Int\": 11, \"Rounded Speed\": 15}]}}, {\"mode\": \"vega-lite\"});\n",
       "</script>"
      ],
      "text/plain": [
       "alt.HConcatChart(...)"
      ]
     },
     "execution_count": 120,
     "metadata": {},
     "output_type": "execute_result"
    }
   ],
   "source": [
    "chart1.interactive() | chart2.interactive()"
   ]
  },
  {
   "cell_type": "markdown",
   "id": "9745f078-1999-4e5c-9ddc-5eba135f55ab",
   "metadata": {},
   "source": [
    "### Draft"
   ]
  },
  {
   "cell_type": "code",
   "execution_count": 121,
   "id": "af72c1c9-df07-4e7f-973f-f0c07223b7a4",
   "metadata": {},
   "outputs": [],
   "source": [
    "def create_jitter_plot(df):\n",
    "    \n",
    "    title_op = df['Gtfs Dataset Name'].iloc[0].replace('VehiclePositions','').strip()\n",
    "    inline = df['Loop Or Inlining'].iloc[0]\n",
    "    \n",
    "    chart1 = (\n",
    "        alt.Chart(df, width=0.5)\n",
    "        .mark_circle(size=100)\n",
    "        .encode(\n",
    "            x=alt.X(\n",
    "                \"jitter:Q\",\n",
    "                title=None,\n",
    "                axis=alt.Axis(values=[0], ticks=False, grid=False, labels=False),\n",
    "                scale=alt.Scale(),\n",
    "            ),\n",
    "            y=alt.Y(\"Rounded Speed:Q\", axis=alt.Axis(labelAngle=360)),\n",
    "            color=alt.Color(\n",
    "                \"Variable:N\",\n",
    "                scale=alt.Scale(range=cp.CALITP_CATEGORY_BRIGHT_COLORS),\n",
    "            ),\n",
    "            tooltip=df.columns.tolist(),\n",
    "            column=alt.Column(\n",
    "                \"Stop Sequence:N\",\n",
    "                header=alt.Header(\n",
    "                    labelAngle=360,\n",
    "                    titleOrient=\"top\",\n",
    "                    labelOrient=\"bottom\",\n",
    "                    labelAlign=\"right\",\n",
    "                    labelPadding=2,\n",
    "                ),\n",
    "            ),\n",
    "        )\n",
    "        .transform_calculate(\n",
    "            # Generate Gaussian jitter with a Box-Muller transform\n",
    "            jitter=\"sqrt(-2*log(random()))*cos(2*PI*random())\"\n",
    "        )\n",
    "        .properties(title=f\"{title_op} - Route Type {inline}\")\n",
    "    )\n",
    "    \n",
    "    chart1 = threshold_utils.chart_size(chart1, 40, 250)\n",
    "    \n",
    "    return chart1"
   ]
  },
  {
   "cell_type": "code",
   "execution_count": 122,
   "id": "18ebd177-efc1-4bdc-9fac-bf947db810a4",
   "metadata": {},
   "outputs": [
    {
     "ename": "NameError",
     "evalue": "name 'anaheim_test' is not defined",
     "output_type": "error",
     "traceback": [
      "\u001b[0;31m---------------------------------------------------------------------------\u001b[0m",
      "\u001b[0;31mNameError\u001b[0m                                 Traceback (most recent call last)",
      "Cell \u001b[0;32mIn[122], line 2\u001b[0m\n\u001b[1;32m      1\u001b[0m chart2 \u001b[38;5;241m=\u001b[39m (\n\u001b[0;32m----> 2\u001b[0m         alt\u001b[38;5;241m.\u001b[39mChart(\u001b[43manaheim_test\u001b[49m, width\u001b[38;5;241m=\u001b[39m\u001b[38;5;241m0.5\u001b[39m)\n\u001b[1;32m      3\u001b[0m         \u001b[38;5;241m.\u001b[39mmark_circle(size\u001b[38;5;241m=\u001b[39m\u001b[38;5;241m100\u001b[39m)\n\u001b[1;32m      4\u001b[0m         \u001b[38;5;241m.\u001b[39mencode(\n\u001b[1;32m      5\u001b[0m             x\u001b[38;5;241m=\u001b[39malt\u001b[38;5;241m.\u001b[39mX(\n\u001b[1;32m      6\u001b[0m                 \u001b[38;5;124m\"\u001b[39m\u001b[38;5;124mjitter:Q\u001b[39m\u001b[38;5;124m\"\u001b[39m,\n\u001b[1;32m      7\u001b[0m                 title\u001b[38;5;241m=\u001b[39m\u001b[38;5;28;01mNone\u001b[39;00m,\n\u001b[1;32m      8\u001b[0m                 axis\u001b[38;5;241m=\u001b[39malt\u001b[38;5;241m.\u001b[39mAxis(values\u001b[38;5;241m=\u001b[39m[\u001b[38;5;241m0\u001b[39m], ticks\u001b[38;5;241m=\u001b[39m\u001b[38;5;28;01mFalse\u001b[39;00m, grid\u001b[38;5;241m=\u001b[39m\u001b[38;5;28;01mFalse\u001b[39;00m, labels\u001b[38;5;241m=\u001b[39m\u001b[38;5;28;01mFalse\u001b[39;00m),\n\u001b[1;32m      9\u001b[0m                 scale\u001b[38;5;241m=\u001b[39malt\u001b[38;5;241m.\u001b[39mScale(),\n\u001b[1;32m     10\u001b[0m             ),\n\u001b[1;32m     11\u001b[0m             y\u001b[38;5;241m=\u001b[39malt\u001b[38;5;241m.\u001b[39mY(\u001b[38;5;124m\"\u001b[39m\u001b[38;5;124mrounded_speed:Q\u001b[39m\u001b[38;5;124m\"\u001b[39m, axis\u001b[38;5;241m=\u001b[39malt\u001b[38;5;241m.\u001b[39mAxis(labelAngle\u001b[38;5;241m=\u001b[39m\u001b[38;5;241m-\u001b[39m\u001b[38;5;241m90\u001b[39m)),\n\u001b[1;32m     12\u001b[0m             color\u001b[38;5;241m=\u001b[39malt\u001b[38;5;241m.\u001b[39mColor(\n\u001b[1;32m     13\u001b[0m                 \u001b[38;5;124m\"\u001b[39m\u001b[38;5;124mvariable:N\u001b[39m\u001b[38;5;124m\"\u001b[39m,\n\u001b[1;32m     14\u001b[0m                 scale\u001b[38;5;241m=\u001b[39malt\u001b[38;5;241m.\u001b[39mScale(\u001b[38;5;28mrange\u001b[39m\u001b[38;5;241m=\u001b[39mcp\u001b[38;5;241m.\u001b[39mCALITP_CATEGORY_BRIGHT_COLORS),\n\u001b[1;32m     15\u001b[0m             ),\n\u001b[1;32m     16\u001b[0m             tooltip\u001b[38;5;241m=\u001b[39manaheim_test\u001b[38;5;241m.\u001b[39mcolumns\u001b[38;5;241m.\u001b[39mtolist(),\n\u001b[1;32m     17\u001b[0m             column\u001b[38;5;241m=\u001b[39malt\u001b[38;5;241m.\u001b[39mColumn(\n\u001b[1;32m     18\u001b[0m                 \u001b[38;5;124m\"\u001b[39m\u001b[38;5;124mstop_sequence:N\u001b[39m\u001b[38;5;124m\"\u001b[39m,\n\u001b[1;32m     19\u001b[0m                 header\u001b[38;5;241m=\u001b[39malt\u001b[38;5;241m.\u001b[39mHeader(\n\u001b[1;32m     20\u001b[0m                     labelAngle\u001b[38;5;241m=\u001b[39m\u001b[38;5;241m360\u001b[39m,\n\u001b[1;32m     21\u001b[0m                     titleOrient\u001b[38;5;241m=\u001b[39m\u001b[38;5;124m\"\u001b[39m\u001b[38;5;124mtop\u001b[39m\u001b[38;5;124m\"\u001b[39m,\n\u001b[1;32m     22\u001b[0m                     labelOrient\u001b[38;5;241m=\u001b[39m\u001b[38;5;124m\"\u001b[39m\u001b[38;5;124mbottom\u001b[39m\u001b[38;5;124m\"\u001b[39m,\n\u001b[1;32m     23\u001b[0m                     labelAlign\u001b[38;5;241m=\u001b[39m\u001b[38;5;124m\"\u001b[39m\u001b[38;5;124mright\u001b[39m\u001b[38;5;124m\"\u001b[39m,\n\u001b[1;32m     24\u001b[0m                     labelPadding\u001b[38;5;241m=\u001b[39m\u001b[38;5;241m2\u001b[39m,\n\u001b[1;32m     25\u001b[0m                 ),\n\u001b[1;32m     26\u001b[0m             ),\n\u001b[1;32m     27\u001b[0m         )\n\u001b[1;32m     28\u001b[0m         \u001b[38;5;241m.\u001b[39mtransform_calculate(\n\u001b[1;32m     29\u001b[0m             \u001b[38;5;66;03m# Generate Gaussian jitter with a Box-Muller transform\u001b[39;00m\n\u001b[1;32m     30\u001b[0m             jitter\u001b[38;5;241m=\u001b[39m\u001b[38;5;124m\"\u001b[39m\u001b[38;5;124msqrt(-2*log(random()))*cos(2*PI*random())\u001b[39m\u001b[38;5;124m\"\u001b[39m\n\u001b[1;32m     31\u001b[0m         )\n\u001b[1;32m     32\u001b[0m         \u001b[38;5;241m.\u001b[39mconfigure_facet(spacing\u001b[38;5;241m=\u001b[39m\u001b[38;5;241m0\u001b[39m)\n\u001b[1;32m     33\u001b[0m         \u001b[38;5;241m.\u001b[39mconfigure_view(stroke\u001b[38;5;241m=\u001b[39m\u001b[38;5;28;01mNone\u001b[39;00m)\n\u001b[1;32m     34\u001b[0m         \u001b[38;5;241m.\u001b[39mproperties(title\u001b[38;5;241m=\u001b[39m\u001b[38;5;124m\"\u001b[39m\u001b[38;5;124mTrip Duration by RT Category\u001b[39m\u001b[38;5;124m\"\u001b[39m)\n\u001b[1;32m     35\u001b[0m     )\n",
      "\u001b[0;31mNameError\u001b[0m: name 'anaheim_test' is not defined"
     ]
    }
   ],
   "source": [
    "chart2 = (\n",
    "        alt.Chart(anaheim_test, width=0.5)\n",
    "        .mark_circle(size=100)\n",
    "        .encode(\n",
    "            x=alt.X(\n",
    "                \"jitter:Q\",\n",
    "                title=None,\n",
    "                axis=alt.Axis(values=[0], ticks=False, grid=False, labels=False),\n",
    "                scale=alt.Scale(),\n",
    "            ),\n",
    "            y=alt.Y(\"rounded_speed:Q\", axis=alt.Axis(labelAngle=-90)),\n",
    "            color=alt.Color(\n",
    "                \"variable:N\",\n",
    "                scale=alt.Scale(range=cp.CALITP_CATEGORY_BRIGHT_COLORS),\n",
    "            ),\n",
    "            tooltip=anaheim_test.columns.tolist(),\n",
    "            column=alt.Column(\n",
    "                \"stop_sequence:N\",\n",
    "                header=alt.Header(\n",
    "                    labelAngle=360,\n",
    "                    titleOrient=\"top\",\n",
    "                    labelOrient=\"bottom\",\n",
    "                    labelAlign=\"right\",\n",
    "                    labelPadding=2,\n",
    "                ),\n",
    "            ),\n",
    "        )\n",
    "        .transform_calculate(\n",
    "            # Generate Gaussian jitter with a Box-Muller transform\n",
    "            jitter=\"sqrt(-2*log(random()))*cos(2*PI*random())\"\n",
    "        )\n",
    "        .configure_facet(spacing=0)\n",
    "        .configure_view(stroke=None)\n",
    "        .properties(title=\"Trip Duration by RT Category\")\n",
    "    )"
   ]
  },
  {
   "cell_type": "code",
   "execution_count": null,
   "id": "a7287305-20d8-434f-9756-42b18cf172a4",
   "metadata": {},
   "outputs": [],
   "source": [
    "chart2 = threshold_utils.chart_size(chart2,80,300)"
   ]
  },
  {
   "cell_type": "code",
   "execution_count": null,
   "id": "3f9e9258-b954-45bf-bd7a-17822c9c607a",
   "metadata": {},
   "outputs": [],
   "source": [
    "chart2"
   ]
  },
  {
   "cell_type": "code",
   "execution_count": null,
   "id": "ea1d8514-ae9c-42e6-b59a-49a44fecbc98",
   "metadata": {},
   "outputs": [],
   "source": [
    "chart1 = (\n",
    "        alt.Chart(anaheim_test_speedmph, width=0.5)\n",
    "        .mark_circle(size=100)\n",
    "        .encode(\n",
    "            x=alt.X(\n",
    "                \"jitter:Q\",\n",
    "                title=None,\n",
    "                axis=alt.Axis(values=[0], ticks=False, grid=False, labels=False),\n",
    "                scale=alt.Scale(),\n",
    "            ),\n",
    "            y=alt.Y(\"rounded_speed:Q\", axis=alt.Axis(labelAngle=-90)),\n",
    "            color=alt.Color(\n",
    "                \"stop_sequence:N\",\n",
    "                scale=alt.Scale(range=cp.CALITP_CATEGORY_BRIGHT_COLORS),\n",
    "            ),\n",
    "            tooltip=anaheim_test.columns.tolist(),\n",
    "            column=alt.Column(\n",
    "                \"stop_sequence:N\",\n",
    "                header=alt.Header(\n",
    "                    labelAngle=360,\n",
    "                    titleOrient=\"top\",\n",
    "                    labelOrient=\"bottom\",\n",
    "                    labelAlign=\"right\",\n",
    "                    labelPadding=2,\n",
    "                ),\n",
    "            ),\n",
    "        )\n",
    "        .transform_calculate(\n",
    "            # Generate Gaussian jitter with a Box-Muller transform\n",
    "            jitter=\"sqrt(-2*log(random()))*cos(2*PI*random())\"\n",
    "        )\n",
    "        .configure_facet(spacing=0)\n",
    "        .configure_view(stroke=None)\n",
    "        .properties(title=f\"Loop/Inling:{anaheim_test_speedmph.loop_or_inlining.iloc[0]}\")\n",
    "    )"
   ]
  },
  {
   "cell_type": "code",
   "execution_count": null,
   "id": "4e1eea88-640b-4e96-b2d5-07cd2f19afdf",
   "metadata": {},
   "outputs": [],
   "source": [
    "chart1 = threshold_utils.chart_size(chart1,80,300)"
   ]
  },
  {
   "cell_type": "code",
   "execution_count": null,
   "id": "c54559c6-8fb0-4109-8e7d-84c1ecb6497e",
   "metadata": {},
   "outputs": [],
   "source": [
    "chart1"
   ]
  },
  {
   "cell_type": "code",
   "execution_count": null,
   "id": "79375476-00a1-4b85-a532-26889fc465e4",
   "metadata": {},
   "outputs": [],
   "source": []
  },
  {
   "cell_type": "code",
   "execution_count": null,
   "id": "0e5c052e-cccd-4f75-be65-9658cf7616b1",
   "metadata": {},
   "outputs": [],
   "source": [
    "def create_dot_plot2(df, col_for_dots: str, \n",
    "                    x_axis_col:str, y_axis_col:str,\n",
    "                   tooltip_cols:list, chart_title:str):\n",
    "  \n",
    "    chart = (alt.Chart(df).mark_circle(opacity=1, size = 100).transform_window(\n",
    "    id='rank()',\n",
    "    groupby=[col_for_dots]).encode(\n",
    "    alt.X(f'{x_axis_col}:O', sort='descending', \n",
    "          axis=alt.Axis(ticks=False, grid=True)),\n",
    "    alt.Y(f'{y_axis_col}:N'), \n",
    "    color=alt.Color(f\"{col_for_dots}:N\", scale=alt.Scale(range=cp.CALITP_CATEGORY_BRIGHT_COLORS), legend=None),\n",
    "    tooltip = tooltip_cols)\n",
    "             .properties(title = chart_title))\n",
    "    \n",
    "    return chart"
   ]
  },
  {
   "cell_type": "code",
   "execution_count": null,
   "id": "e38644ab-7fb8-47b1-b692-512b55f05625",
   "metadata": {},
   "outputs": [],
   "source": [
    "chart3 = create_dot_plot1(anaheim_test_other, 'variable', 'stop_sequence', 'rounded_speed', anaheim_test_other.columns.tolist(),  'Percentile/Average')"
   ]
  },
  {
   "cell_type": "code",
   "execution_count": null,
   "id": "2b6df39b-b074-494d-8f5e-65fe05356f4b",
   "metadata": {},
   "outputs": [],
   "source": [
    "chart3 = threshold_utils.chart_size(chart3,650,300)"
   ]
  },
  {
   "cell_type": "code",
   "execution_count": null,
   "id": "c2c565de-3c55-4827-a5bb-b48c6d49d4c1",
   "metadata": {},
   "outputs": [],
   "source": [
    "chart4 = create_dot_plot2(anaheim_test_speedmph, 'variable', 'stop_sequence', 'rounded_speed', anaheim_test_speedmph.columns.tolist(), 'Speed per Trip')"
   ]
  },
  {
   "cell_type": "code",
   "execution_count": null,
   "id": "29b3b7b1-8f44-4a8d-97c3-ff934250e874",
   "metadata": {},
   "outputs": [],
   "source": [
    "chart4 = threshold_utils.chart_size(chart4,650,300)"
   ]
  },
  {
   "cell_type": "code",
   "execution_count": null,
   "id": "54146c88-15df-49e2-9de6-18f2666d9f9f",
   "metadata": {},
   "outputs": [],
   "source": [
    "chart4"
   ]
  },
  {
   "cell_type": "code",
   "execution_count": null,
   "id": "3ccbc087-f799-4429-b6c7-a9c1f38f021d",
   "metadata": {},
   "outputs": [],
   "source": [
    "chart3 + chart4"
   ]
  },
  {
   "cell_type": "code",
   "execution_count": null,
   "id": "9829d749-580c-4440-9397-4562192417b7",
   "metadata": {},
   "outputs": [],
   "source": [
    "chart7 = (\n",
    "        alt.Chart(anaheim_test_other, width=0.5)\n",
    "        .mark_circle(size=100)\n",
    "        .encode(\n",
    "            x=alt.X(\n",
    "                \"jitter:Q\",\n",
    "                title=None,\n",
    "                axis=alt.Axis(values=[0], ticks=False, grid=False, labels=False),\n",
    "                scale=alt.Scale(),\n",
    "            ),\n",
    "            y=alt.Y(\"rounded_speed:Q\", axis=alt.Axis(labelAngle=-90)),\n",
    "            color=alt.Color(\n",
    "                \"variable:N\",\n",
    "                scale=alt.Scale(range=cp.CALITP_CATEGORY_BRIGHT_COLORS),\n",
    "            ),\n",
    "            tooltip=anaheim_test.columns.tolist(),\n",
    "            column=alt.Column(\n",
    "                \"stop_sequence:N\",\n",
    "                header=alt.Header(\n",
    "                    labelAngle=-90,\n",
    "                    titleOrient=\"top\",\n",
    "                    labelOrient=\"bottom\",\n",
    "                    labelAlign=\"right\",\n",
    "                    labelPadding=2,\n",
    "                ),\n",
    "            ),\n",
    "        )\n",
    "        .transform_calculate(\n",
    "            # Generate Gaussian jitter with a Box-Muller transform\n",
    "            jitter=\"sqrt(-2*log(random()))*cos(2*PI*random())\"\n",
    "        )\n",
    "        .configure_facet(spacing=0)\n",
    "        .configure_view(stroke=None)\n",
    "        .properties(title=\"Trip Duration by RT Category\")\n",
    "    )"
   ]
  },
  {
   "cell_type": "code",
   "execution_count": null,
   "id": "454980fc-e6ab-4d53-b844-120a075b8034",
   "metadata": {},
   "outputs": [],
   "source": [
    "chart7 = threshold_utils.chart_size(chart7,80,300)"
   ]
  },
  {
   "cell_type": "code",
   "execution_count": null,
   "id": "58e57fb2-1c3b-47e1-8bb6-d4941f0ee985",
   "metadata": {},
   "outputs": [],
   "source": [
    "chart8 = (\n",
    "        alt.Chart(anaheim_test_other, width=0.5)\n",
    "        .mark_circle(size=100)\n",
    "        .encode(\n",
    "            x=alt.X(\n",
    "                \"jitter:Q\",\n",
    "                title=None,\n",
    "                axis=alt.Axis(values=[0], ticks=False, grid=False, labels=False),\n",
    "                scale=alt.Scale(),\n",
    "            ),\n",
    "            y=alt.Y(\"rounded_speed:Q\", axis=alt.Axis(labelAngle=-90)),\n",
    "            color=alt.Color(\n",
    "                \"variable:N\",\n",
    "                scale=alt.Scale(range=cp.CALITP_CATEGORY_BRIGHT_COLORS),\n",
    "            ),\n",
    "            tooltip=anaheim_test.columns.tolist(),\n",
    "            column=alt.Column(\n",
    "                \"stop_sequence:N\",\n",
    "                header=alt.Header(\n",
    "                    labelAngle=-90,\n",
    "                    titleOrient=\"top\",\n",
    "                    labelOrient=\"bottom\",\n",
    "                    labelAlign=\"right\",\n",
    "                    labelPadding=2,\n",
    "                ),\n",
    "            ),\n",
    "        )\n",
    "        .transform_calculate(\n",
    "            # Generate Gaussian jitter with a Box-Muller transform\n",
    "            jitter=\"sqrt(-2*log(random()))*cos(2*PI*random())\"\n",
    "        )\n",
    "        .properties(title=\"Trip Duration by RT Category\")\n",
    "    )"
   ]
  },
  {
   "cell_type": "code",
   "execution_count": null,
   "id": "c2ce0879-f45f-4c66-9b1a-870a243a1260",
   "metadata": {},
   "outputs": [],
   "source": [
    "chart9 = (\n",
    "        alt.Chart(anaheim_test_speedmph, width=0.5)\n",
    "        .mark_circle(size=100)\n",
    "        .encode(\n",
    "            x=alt.X(\n",
    "                \"jitter:Q\",\n",
    "                title=None,\n",
    "                axis=alt.Axis(values=[0], ticks=False, grid=False, labels=False),\n",
    "                scale=alt.Scale(),\n",
    "            ),\n",
    "            y=alt.Y(\"rounded_speed:Q\", axis=alt.Axis(labelAngle=-90)),\n",
    "            color=alt.Color(\n",
    "                \"variable:N\",\n",
    "                scale=alt.Scale(range=cp.CALITP_CATEGORY_BRIGHT_COLORS),\n",
    "            ),\n",
    "            tooltip=anaheim_test.columns.tolist(),\n",
    "            column=alt.Column(\n",
    "                \"stop_sequence:N\",\n",
    "                header=alt.Header(\n",
    "                    labelAngle=360,\n",
    "                    titleOrient=\"top\",\n",
    "                    labelOrient=\"bottom\",\n",
    "                    labelAlign=\"right\",\n",
    "                    labelPadding=2,\n",
    "                ),\n",
    "            ),\n",
    "        )\n",
    "        .transform_calculate(\n",
    "            # Generate Gaussian jitter with a Box-Muller transform\n",
    "            jitter=\"sqrt(-2*log(random()))*cos(2*PI*random())\"\n",
    "        )\n",
    "        .properties(title=f\"Loop/Inling:{anaheim_test_speedmph.loop_or_inlining.iloc[0]}\")\n",
    "    )"
   ]
  },
  {
   "cell_type": "code",
   "execution_count": null,
   "id": "04e3ce9a-a5ab-4aeb-a7d0-4ead6738324b",
   "metadata": {},
   "outputs": [],
   "source": [
    "chart8"
   ]
  },
  {
   "cell_type": "code",
   "execution_count": null,
   "id": "04d2026e-c040-45ea-aab6-2c09c2211632",
   "metadata": {},
   "outputs": [],
   "source": [
    "chart9 | chart8"
   ]
  },
  {
   "cell_type": "code",
   "execution_count": null,
   "id": "edb11b29-7038-4a5d-9e44-4d3b88e6cc88",
   "metadata": {},
   "outputs": [],
   "source": [
    "# pip install altair==5.0.0rc3\n",
    "chart5 = alt.Chart(anaheim_test_speedmph, title='Normally distributed jitter').mark_circle(size=50).encode(\n",
    "    y=\"rounded_speed:Q\",\n",
    "    x=\"stop_sequence:N\",\n",
    "    yOffset=\"jitter:Q\",\n",
    "    color=alt.Color('stop_sequence:Q').legend(None)\n",
    ").transform_calculate(\n",
    "    # Generate Gaussian jitter with a Box-Muller transform\n",
    "    jitter=\"sqrt(-2*log(random()))*cos(2*PI*random())\"\n",
    ")\n"
   ]
  },
  {
   "cell_type": "code",
   "execution_count": null,
   "id": "9bbcc880-7866-495c-9a68-3b7ca6c00c4a",
   "metadata": {},
   "outputs": [],
   "source": [
    "chart5 = threshold_utils.chart_size(chart5,650,300)"
   ]
  },
  {
   "cell_type": "code",
   "execution_count": null,
   "id": "a765f55e-73e2-4bae-9326-98ed1bbfadaf",
   "metadata": {},
   "outputs": [],
   "source": [
    "chart5"
   ]
  }
 ],
 "metadata": {
  "kernelspec": {
   "display_name": "Python 3 (ipykernel)",
   "language": "python",
   "name": "python3"
  },
  "language_info": {
   "codemirror_mode": {
    "name": "ipython",
    "version": 3
   },
   "file_extension": ".py",
   "mimetype": "text/x-python",
   "name": "python",
   "nbconvert_exporter": "python",
   "pygments_lexer": "ipython3",
   "version": "3.9.13"
  }
 },
 "nbformat": 4,
 "nbformat_minor": 5
}
