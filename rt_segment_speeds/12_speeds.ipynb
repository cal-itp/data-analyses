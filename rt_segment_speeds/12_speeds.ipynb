{
 "cells": [
  {
   "cell_type": "code",
   "execution_count": 214,
   "id": "2c7feec3-aa18-42ab-94b9-cab4be608152",
   "metadata": {},
   "outputs": [],
   "source": [
    "import datetime\n",
    "import _speed_utils as speed_utils\n",
    "import dask.dataframe as dd\n",
    "import numpy as np\n",
    "import geopandas as gpd\n",
    "import pandas as pd\n",
    "from segment_speed_utils import gtfs_schedule_wrangling, helpers, segment_calcs,sched_rt_utils\n",
    "from segment_speed_utils.project_vars import (\n",
    "    COMPILED_CACHED_VIEWS,\n",
    "    PROJECT_CRS,\n",
    "    SEGMENT_GCS,\n",
    "    analysis_date,\n",
    ")\n",
    "from datetime import timedelta\n",
    "\n",
    "from scripts import (A1_sjoin_vp_segments, A2_valid_vehicle_positions, cut_road_segments)\n",
    "from shared_utils import calitp_color_palette as cp"
   ]
  },
  {
   "cell_type": "code",
   "execution_count": 41,
   "id": "aaadc719-374b-4cfc-b9ab-c3ee6ca454fe",
   "metadata": {},
   "outputs": [],
   "source": [
    "import gcsfs\n",
    "fs = gcsfs.GCSFileSystem()"
   ]
  },
  {
   "cell_type": "code",
   "execution_count": 2,
   "id": "0108ae4a-4518-4487-85f7-a5faa3e9cbf6",
   "metadata": {},
   "outputs": [],
   "source": [
    "pd.options.display.max_columns = 100\n",
    "pd.options.display.float_format = \"{:.2f}\".format\n",
    "pd.set_option(\"display.max_rows\", None)\n",
    "pd.set_option(\"display.max_colwidth\", None)"
   ]
  },
  {
   "cell_type": "code",
   "execution_count": 3,
   "id": "c130ab8b-80ac-4edf-bb59-715a793c15a6",
   "metadata": {},
   "outputs": [],
   "source": [
    "CONFIG_PATH = './scripts/config.yml'"
   ]
  },
  {
   "cell_type": "code",
   "execution_count": 4,
   "id": "0c65c2fd-4eb6-46d0-8007-e91096133954",
   "metadata": {},
   "outputs": [],
   "source": [
    "STOP_SEG_DICT = helpers.get_parameters(CONFIG_PATH, \"stop_segments\")"
   ]
  },
  {
   "cell_type": "code",
   "execution_count": 5,
   "id": "185c3e26-0dcb-4f2b-999c-a21939f2a6bd",
   "metadata": {},
   "outputs": [],
   "source": [
    "analysis_date = '2023-07-12'"
   ]
  },
  {
   "cell_type": "markdown",
   "id": "778a2aa1-d73b-4ebf-89e2-8f9eb5ca5aa1",
   "metadata": {
    "jp-MarkdownHeadingCollapsed": true,
    "tags": []
   },
   "source": [
    "### Observations (7/12)\n",
    "* Step 1: Flagging\n",
    "    * There are 2,704,812 rows in the dataframe original. About 10% of those rows are flagged as having zeroes in meters elapsed and seconds elapsed. \n",
    "    * There are around 4566 routes. About 57% of these routes had at least one trip with one or more rows flagged as zero.\n",
    "* I took 2 passes at trying to understand why both these columns recorded zeroes.\n",
    "\n",
    "* Step 2: `vp_pared_stops`. \n",
    "    * I grouped `vp_pared_stops` by 'shape_array_key','trip_id', and 'location_timestamp_local' OR `x` and `y`. I counted the number of unique stop sequences after grouping. If this trio had more than one unique stop sequence, that meant the timestamp or location recorded between sequences was duplicated.\n",
    "    * Only around 9% of rows were flagged as having (obviously) repeated timestamps and locations. \n",
    "    * For all of these rows, both the timestamp and location were duplicated. \n",
    "    * All the routes that were flagged in step one needed a further look in step 3.\n",
    "    \n",
    "* Step 3: `vp_usable`\n",
    "    * For one route and trip, find: all the recorded vehicle positions, sjoin of vps to segments,\n",
    "    and the first and last points kept. \n",
    "    * Plot the three gdfs in a map to visually inspect what's happening.\n",
    "    * Compare the sample route and trips with the trip with the highest percentage of non division by 0 rows to see what's going on. \n",
    "    \n",
    "* Buckets of errors (all based on `stage0 vp`). \n",
    "    * There is only one recorded point in that segment in the raw data.\n",
    "        * Fix: use the timestamp that comes after it.\n",
    "        * <img src= \"./speeds_images/only_one_pt_collected.png\" width = 300>\n",
    "    * Points are shared between segments\n",
    "        * Use p20/p50/p80.\n",
    "        * <img src= \"./speeds_images/shared_vp.png\" width = 300>\n",
    "    * Points recorded are really far out and they don't touch the buffered segments.\n",
    "        * Fix: figure out % of vehicle positions that are too far out.\n",
    "        * <img src= \"./speeds_images/dots_not_on_seg.png\" width = 300>\n",
    "    * No data captured for that segment at all.\n",
    "        * Use p20/p50/p80. \n",
    "        * <img src= \"./speeds_images/no_dots_collected.png\" width = 300> "
   ]
  },
  {
   "cell_type": "markdown",
   "id": "35c1ba95-5929-4a7f-bfae-f6d126622104",
   "metadata": {},
   "source": [
    "### Flagging"
   ]
  },
  {
   "cell_type": "code",
   "execution_count": 117,
   "id": "be9888dd-232a-401d-8039-9c2d1954a167",
   "metadata": {},
   "outputs": [
    {
     "name": "stdout",
     "output_type": "stream",
     "text": [
      "2023-07-24 14:16:18.699535\n",
      "There are 2517784 rows in the original dataframe\n",
      "sec_cat      meters_cat    \n",
      "sec is avg   meters is avg     1873691\n",
      "             meters is high     101369\n",
      "             meters is low      127190\n",
      "sec is high  meters is avg       78048\n",
      "             meters is high      24521\n",
      "             meters is low       23737\n",
      "sec is low   meters is low      289228\n",
      "dtype: int64\n",
      "ok                 78.44\n",
      "division by 0      11.49\n",
      "meters too low      5.99\n",
      "seconds too high    4.07\n",
      "Name: flag, dtype: float64\n",
      "22727 unique trips flagged.\n",
      "2578 routes flagged out of 4087.\n",
      "63.0780523611451 routes have 1+ row that has zeroes for meters/sec elapsed\n",
      "14 operators are not flagged.\n",
      "36.92194763885491% of routes have 1+ division by 0 row\n",
      "Took 0:01:59.306691\n"
     ]
    }
   ],
   "source": [
    "# Flagged: all the rows in the df flagged\n",
    "# divide_by_zero: only the rows that have 0 for meters and sec elapsed\n",
    "# trips_count: % of trips with 1+ division by 0 row for a route\n",
    "# route_most_populated_df: the trip for a route with the smallest % of rows that are divided by 0\n",
    "flagged, divide_by_zero, trips_count, route_most_populated_df = speed_utils.flagging_stage(analysis_date)"
   ]
  },
  {
   "cell_type": "code",
   "execution_count": 253,
   "id": "46dc9836-939a-4624-8dec-a10242ac7870",
   "metadata": {},
   "outputs": [],
   "source": [
    "shape_trips = speed_utils.count_trips_routes(stage3_df)"
   ]
  },
  {
   "cell_type": "code",
   "execution_count": 258,
   "id": "d59714a8-1779-4c09-a61f-6f5ed68964a7",
   "metadata": {},
   "outputs": [
    {
     "name": "stdout",
     "output_type": "stream",
     "text": [
      "2023-07-24 16:00:44.959306\n",
      "check in stage 2                   265623\n",
      "repeated timestamps & locations     23593\n",
      "repeated locations                     12\n",
      "Name: stage3_flag, dtype: int64\n",
      "Have to check 91.83861866762554 % of rows in stage 2\n",
      "Took 0:00:27.722347\n"
     ]
    }
   ],
   "source": [
    "stage3_df = speed_utils.flag_stage3(divide_by_zero, analysis_date)"
   ]
  },
  {
   "cell_type": "markdown",
   "id": "cb2050b4-d265-47bb-9de5-93c7ef621448",
   "metadata": {},
   "source": [
    "### Fix 1  - % of vehicle positions that are too far away from the shapes to be joined\n",
    "* https://github.com/cal-itp/data-analyses/blob/main/rt_segment_speeds/scripts/A0_preprocessing.py"
   ]
  },
  {
   "cell_type": "code",
   "execution_count": 8,
   "id": "cafa413c-2a83-4845-807e-a09dd02e16f4",
   "metadata": {},
   "outputs": [],
   "source": [
    "INPUT_FILE_PREFIX = STOP_SEG_DICT[\"stage0\"]"
   ]
  },
  {
   "cell_type": "code",
   "execution_count": 9,
   "id": "a07ef2da-3a04-4d29-9d4f-df772704e623",
   "metadata": {},
   "outputs": [],
   "source": [
    "# 14_600_897 rows\n",
    "original = dd.read_parquet(\n",
    "        f\"{SEGMENT_GCS}{INPUT_FILE_PREFIX}_{analysis_date}.parquet\"\n",
    "    )"
   ]
  },
  {
   "cell_type": "code",
   "execution_count": 10,
   "id": "ae7aed61-fe39-4632-84a5-44e229ed3798",
   "metadata": {},
   "outputs": [],
   "source": [
    "# len(original)"
   ]
  },
  {
   "cell_type": "markdown",
   "id": "0af7def7-63fb-4c5f-be98-c4ced5ea135a",
   "metadata": {
    "tags": [],
    "toc-hr-collapsed": true
   },
   "source": [
    "#### Crosswalk"
   ]
  },
  {
   "cell_type": "code",
   "execution_count": 11,
   "id": "30ac6cca-9c9a-49a2-aa83-574e1b1798c6",
   "metadata": {},
   "outputs": [],
   "source": [
    "TRIP_GROUPING_COLS = STOP_SEG_DICT[\"trip_grouping_cols\"]"
   ]
  },
  {
   "cell_type": "code",
   "execution_count": 12,
   "id": "55d2c64f-1850-4b79-addd-8b8e1810d66f",
   "metadata": {},
   "outputs": [],
   "source": [
    "crosswalk = sched_rt_utils.crosswalk_scheduled_trip_grouping_with_rt_key(\n",
    "        analysis_date, \n",
    "        [\"feed_key\", \"trip_id\"] + TRIP_GROUPING_COLS\n",
    "    )"
   ]
  },
  {
   "cell_type": "code",
   "execution_count": 13,
   "id": "de4e1504-f4d8-4b68-b5ce-98ba38c39972",
   "metadata": {},
   "outputs": [],
   "source": [
    "crosswalk = crosswalk.compute()"
   ]
  },
  {
   "cell_type": "code",
   "execution_count": 14,
   "id": "10ff6a7a-b8e3-4ac3-a316-9770de2e427a",
   "metadata": {},
   "outputs": [
    {
     "data": {
      "text/html": [
       "<div>\n",
       "<style scoped>\n",
       "    .dataframe tbody tr th:only-of-type {\n",
       "        vertical-align: middle;\n",
       "    }\n",
       "\n",
       "    .dataframe tbody tr th {\n",
       "        vertical-align: top;\n",
       "    }\n",
       "\n",
       "    .dataframe thead th {\n",
       "        text-align: right;\n",
       "    }\n",
       "</style>\n",
       "<table border=\"1\" class=\"dataframe\">\n",
       "  <thead>\n",
       "    <tr style=\"text-align: right;\">\n",
       "      <th></th>\n",
       "      <th>feed_key</th>\n",
       "      <th>trip_id</th>\n",
       "      <th>shape_array_key</th>\n",
       "      <th>gtfs_dataset_key</th>\n",
       "    </tr>\n",
       "  </thead>\n",
       "  <tbody>\n",
       "    <tr>\n",
       "      <th>71457</th>\n",
       "      <td>096759c7f20dfc773d88c3974905e494</td>\n",
       "      <td>17076246</td>\n",
       "      <td>7837a2d9138e92540706264dfe253329</td>\n",
       "      <td>a4f6fd5552107e05fe9743ac7cce2c55</td>\n",
       "    </tr>\n",
       "  </tbody>\n",
       "</table>\n",
       "</div>"
      ],
      "text/plain": [
       "                               feed_key   trip_id  \\\n",
       "71457  096759c7f20dfc773d88c3974905e494  17076246   \n",
       "\n",
       "                        shape_array_key                  gtfs_dataset_key  \n",
       "71457  7837a2d9138e92540706264dfe253329  a4f6fd5552107e05fe9743ac7cce2c55  "
      ]
     },
     "execution_count": 14,
     "metadata": {},
     "output_type": "execute_result"
    }
   ],
   "source": [
    "crosswalk.sample()"
   ]
  },
  {
   "cell_type": "markdown",
   "id": "1403a659-4f3a-4f0a-804f-dc3ff0be5a29",
   "metadata": {},
   "source": [
    "#### A1 sjoin\n",
    "* Contains the columns:\n",
    "    * vp_idx\n",
    "    * shape_array_key\n",
    "    * stop_sequence"
   ]
  },
  {
   "cell_type": "code",
   "execution_count": 15,
   "id": "c8a19def-8e1b-45fd-8bd1-11ca8093697b",
   "metadata": {},
   "outputs": [],
   "source": [
    "USABLE_VP = STOP_SEG_DICT[\"stage1\"]\n",
    "INPUT_FILE_PREFIX = STOP_SEG_DICT[\"stage2\"]\n",
    "GROUPING_COL = STOP_SEG_DICT[\"grouping_col\"]"
   ]
  },
  {
   "cell_type": "code",
   "execution_count": 16,
   "id": "0b60036b-a608-415e-863b-de13a0b8f78e",
   "metadata": {},
   "outputs": [],
   "source": [
    "def load_sjoin(analysis_date:str):\n",
    "    INPUT_FILE_PREFIX = STOP_SEG_DICT[\"stage2\"]\n",
    "    df = dd.read_parquet(\n",
    "      f\"{SEGMENT_GCS}vp_sjoin/{INPUT_FILE_PREFIX}_{analysis_date}\",\n",
    "    )\n",
    "    return df"
   ]
  },
  {
   "cell_type": "code",
   "execution_count": 17,
   "id": "d451f53e-c505-45b5-bf24-a9cf2e363b1a",
   "metadata": {},
   "outputs": [
    {
     "data": {
      "text/plain": [
       "'gs://calitp-analytics-data/data-analyses/rt_segment_speeds/vp_sjoin/vp_stop_segment_2023-07-12'"
      ]
     },
     "execution_count": 17,
     "metadata": {},
     "output_type": "execute_result"
    }
   ],
   "source": [
    "# This is the end result from A1_sjoin\n",
    "f\"{SEGMENT_GCS}vp_sjoin/{INPUT_FILE_PREFIX}_{analysis_date}\""
   ]
  },
  {
   "cell_type": "markdown",
   "id": "40445156-0512-4a28-8db5-3c98dfd27fc6",
   "metadata": {},
   "source": [
    "#### Sjoin\n",
    "['vp_idx', 'shape_array_key', 'stop_sequence']"
   ]
  },
  {
   "cell_type": "code",
   "execution_count": 18,
   "id": "d7aef099-6c98-4af2-9bd7-596d3e720ec9",
   "metadata": {},
   "outputs": [],
   "source": [
    "vp_to_seg = dd.read_parquet(\n",
    "      f\"{SEGMENT_GCS}vp_sjoin/{INPUT_FILE_PREFIX}_{analysis_date}\",\n",
    "    )"
   ]
  },
  {
   "cell_type": "code",
   "execution_count": 210,
   "id": "1f3df459-5f71-400f-97b1-fe3157705f36",
   "metadata": {},
   "outputs": [],
   "source": [
    "# vp_to_seg = vp_to_seg.compute()"
   ]
  },
  {
   "cell_type": "code",
   "execution_count": 213,
   "id": "46883bd4-8696-47bf-9441-c8fa9c6a4497",
   "metadata": {},
   "outputs": [],
   "source": [
    "# vp_to_seg.columns"
   ]
  },
  {
   "cell_type": "code",
   "execution_count": 20,
   "id": "2da56431-24d9-4e39-afa9-d57565701213",
   "metadata": {},
   "outputs": [],
   "source": [
    "# 24_973_725\n",
    "# len(vp_to_seg)"
   ]
  },
  {
   "cell_type": "code",
   "execution_count": 21,
   "id": "3bc9df8a-7b01-4541-baf6-bdae50467a54",
   "metadata": {},
   "outputs": [],
   "source": [
    "# 11_350_051\n",
    "# vp_to_seg.vp_idx.nunique().compute()"
   ]
  },
  {
   "cell_type": "markdown",
   "id": "a99a6c14-31b1-46d1-b292-5544041b1f75",
   "metadata": {
    "tags": []
   },
   "source": [
    "#### Usable VPS\n",
    "* _gtfs_dataset_name\t\n",
    "* schedule_gtfs_dataset_key\n",
    "* trip_id\t\n",
    "* trip_instance_key\t\n",
    "* location_timestamp\t\n",
    "* location_timestamp_local\t\n",
    "* hour\t\n",
    "* gtfs_dataset_key\t\n",
    "* x\ty\t\n",
    "* vp_idx"
   ]
  },
  {
   "cell_type": "code",
   "execution_count": 22,
   "id": "760bc660-4101-4e47-a8f1-554b7c071f66",
   "metadata": {},
   "outputs": [],
   "source": [
    "usable_vp = dd.read_parquet(\n",
    "        f\"{SEGMENT_GCS}{USABLE_VP}_{analysis_date}\"\n",
    "    )"
   ]
  },
  {
   "cell_type": "code",
   "execution_count": 23,
   "id": "0ea87ecd-b7da-4c8d-84de-b24fd61da3fc",
   "metadata": {},
   "outputs": [],
   "source": [
    "usable_vp = usable_vp.drop_duplicates(subset = ['vp_idx'])"
   ]
  },
  {
   "cell_type": "code",
   "execution_count": 24,
   "id": "e9ed076e-7247-4e1c-99f9-083aae0114d0",
   "metadata": {},
   "outputs": [],
   "source": [
    "# 14_579_242\n",
    "# usable_vp.vp_idx.nunique().compute()"
   ]
  },
  {
   "cell_type": "code",
   "execution_count": 25,
   "id": "9f0323e2-8d55-4911-9b09-a8fa571bd0c9",
   "metadata": {},
   "outputs": [],
   "source": [
    "# 14,579,242\n",
    "# len(usable_vp)"
   ]
  },
  {
   "cell_type": "code",
   "execution_count": 26,
   "id": "13ae10f5-58b7-4a35-a018-c117416ae8ae",
   "metadata": {},
   "outputs": [],
   "source": [
    "# https://stackoverflow.com/questions/49139371/slicing-out-a-few-rows-from-a-dask-dataframe\n",
    "npart = round(len(usable_vp)/1_000_000)\n",
    "parted_usable_vp = usable_vp.repartition(npartitions=npart)"
   ]
  },
  {
   "cell_type": "code",
   "execution_count": 27,
   "id": "4e16465b-55fd-483c-aa2c-370d13148db0",
   "metadata": {},
   "outputs": [],
   "source": [
    "#npart"
   ]
  },
  {
   "cell_type": "code",
   "execution_count": 28,
   "id": "45e689db-dc67-4feb-98f1-960e8360f616",
   "metadata": {},
   "outputs": [],
   "source": [
    "#my_list = [n for n in range(0,npart)]"
   ]
  },
  {
   "cell_type": "code",
   "execution_count": 29,
   "id": "6f5cd835-63c2-4eba-84ac-041a1b1b19d8",
   "metadata": {},
   "outputs": [],
   "source": [
    "def load_usable_vp(analysis_date:str):\n",
    "    USABLE_VP = STOP_SEG_DICT[\"stage1\"]\n",
    "    usable_vp = dd.read_parquet(\n",
    "        f\"{SEGMENT_GCS}{USABLE_VP}_{analysis_date}\"\n",
    "    )\n",
    "    \n",
    "    usable_vp = usable_vp.drop_duplicates(subset = ['vp_idx'])\n",
    "    \n",
    "    return usable_vp"
   ]
  },
  {
   "cell_type": "code",
   "execution_count": 105,
   "id": "510be7ee-5f9d-4dc4-9457-458648d91689",
   "metadata": {},
   "outputs": [],
   "source": [
    "# usable_vp1 = parted_usable_vp.partitions[0]"
   ]
  },
  {
   "cell_type": "code",
   "execution_count": 35,
   "id": "34d2a229-8987-49dd-ae05-a067d2a0297c",
   "metadata": {},
   "outputs": [],
   "source": [
    "# usable_vp15 = parted_usable_vp.partitions[14]"
   ]
  },
  {
   "cell_type": "markdown",
   "id": "60a012ba-5378-4e25-aeca-e3768cbd65f2",
   "metadata": {},
   "source": [
    "#### Merge test2 with A1sjoin"
   ]
  },
  {
   "cell_type": "code",
   "execution_count": 31,
   "id": "3d958e76-c2e7-4ccb-bf26-94b90b71320e",
   "metadata": {},
   "outputs": [],
   "source": [
    "# outer_merge = dd.merge(usable_vp1, vp_to_seg, on = ['vp_idx'], how = 'outer', indicator = True)"
   ]
  },
  {
   "cell_type": "code",
   "execution_count": 32,
   "id": "3149d860-736c-4008-9608-c4841e4decce",
   "metadata": {},
   "outputs": [],
   "source": [
    "def percent_sjoin_pts(usable_vp: dd.DataFrame, sjoin_vps: dd.DataFrame):\n",
    "    start = datetime.datetime.now()\n",
    "    \n",
    "    # Use a left join because these are the vps that were not properly joined\n",
    "    merge1 = dd.merge(usable_vp, sjoin_vps, on = ['vp_idx'], how = 'left', indicator = True)\n",
    "    \n",
    "    # Drop duplicated vp idx\n",
    "    # Since same pt can attach to multiple segs\n",
    "    merge1 = merge1.drop_duplicates(subset = ['vp_idx'])\n",
    "\n",
    "    # First groupby, have to use observed = True because\n",
    "    # merge and gtfs dataset key are the categorical data type\n",
    "    agg1 = (merge1.groupby(['gtfs_dataset_key','trip_id','_merge'],observed=True,)\n",
    "                .agg({'trip_instance_key':'count'})\n",
    "                .reset_index()\n",
    "               )\n",
    "    \n",
    "    agg1 = agg1.compute() \n",
    "    \n",
    "    # Create new columns so the dataframe will be the way I like it\n",
    "    agg1['left_only'] = None\n",
    "    agg1['both'] = None\n",
    "    agg1['pts_not_in_sjoin'] = np.where(agg1._merge == 'left_only', agg1.trip_instance_key, agg1.left_only)\n",
    "    agg1['sjoin_pts'] = np.where(agg1._merge == 'both', agg1.trip_instance_key, agg1.both)\n",
    "   \n",
    "    # One row for each route/trip id\n",
    "    agg2 = (agg1\n",
    "            .groupby(['gtfs_dataset_key','trip_id'], observed=True, group_keys=False)\n",
    "            .agg({'pts_not_in_sjoin':'sum','sjoin_pts':'sum'})\n",
    "            .reset_index()\n",
    "           )\n",
    "    \n",
    "    print(f\"{len(agg1)-len(agg2)} rows dropped, now {len(agg2)} rows\")\n",
    "    \n",
    "    # Add some additional columns\n",
    "    agg2 = agg2.fillna(0)\n",
    "    agg2['all_pts'] = agg2.pts_not_in_sjoin + agg2.sjoin_pts\n",
    "    agg2['percent_of_pts'] = agg2.sjoin_pts/agg2.all_pts * 100\n",
    "    \n",
    "    # Filter out vpidx already found \n",
    "    new_usable_vps = merge1[['vp_idx']].drop_duplicates().compute()\n",
    "    new_usable_vps = new_usable_vps.vp_idx.to_list()\n",
    "    \n",
    "    end = datetime.datetime.now()\n",
    "    print(f\"Time lapsed: {end-start}\")\n",
    "\n",
    "    return new_usable_vps, agg2"
   ]
  },
  {
   "cell_type": "code",
   "execution_count": null,
   "id": "fc2ebee0-3bca-4187-8cdf-6f6db5ecd679",
   "metadata": {
    "tags": []
   },
   "outputs": [
    {
     "name": "stdout",
     "output_type": "stream",
     "text": [
      "1705 rows dropped, now 4391 rows\n",
      "Time lapsed: 0:02:39.194813\n"
     ]
    }
   ],
   "source": [
    "# new_usable_vps, merge1 = percent_sjoin_pts(usable_vp1,vp_to_seg)"
   ]
  },
  {
   "cell_type": "code",
   "execution_count": null,
   "id": "4a571961-d4a7-40e6-af99-abeadcf296a2",
   "metadata": {},
   "outputs": [
    {
     "name": "stdout",
     "output_type": "stream",
     "text": [
      "3361 rows dropped, now 7207 rows\n",
      "Time lapsed: 0:02:41.169857\n"
     ]
    }
   ],
   "source": [
    "# new_usable_vps2, merge2 = percent_sjoin_pts(usable_vp15,vp_to_seg)"
   ]
  },
  {
   "cell_type": "markdown",
   "id": "6bc1a08d-3a41-47da-9192-c2891c618ab7",
   "metadata": {},
   "source": [
    "#### Full merge\n",
    "* Not working as intended. Stops right at the final file."
   ]
  },
  {
   "cell_type": "code",
   "execution_count": 43,
   "id": "dc0a1eef-dc19-4a26-bb29-410e89ae750d",
   "metadata": {},
   "outputs": [],
   "source": [
    "# https://www.geeksforgeeks.org/python-reversing-list/\n",
    "def reverse(lst):\n",
    "    new_list = lst[::-1]\n",
    "    return new_list"
   ]
  },
  {
   "cell_type": "code",
   "execution_count": null,
   "id": "88a919eb-cd8c-4adc-8ede-26bdbc26956a",
   "metadata": {},
   "outputs": [],
   "source": [
    "def percent_sjoin_all_pts(analysis_date:str):\n",
    "    \n",
    "    start = datetime.datetime.now()\n",
    "    print(start)\n",
    "    \n",
    "    # Load usable vp\n",
    "    usable_vps_og = load_usable_vp(analysis_date)\n",
    "    \n",
    "    # Load sjoin\n",
    "    sjoin_og = load_sjoin(analysis_date)\n",
    "    \n",
    "    # Break it apart\n",
    "    # https://stackoverflow.com/questions/49139371/slicing-out-a-few-rows-from-a-dask-dataframe\n",
    "    npart = round(len(usable_vps_og)/500_000)\n",
    "    usable_vps_og = usable_vps_og.repartition(npartitions=npart)\n",
    "    my_list = [n for n in range(0,npart)]\n",
    "    \n",
    "    for i in reverse(my_list):\n",
    "        my_results = []\n",
    "        try:\n",
    "            sjoin_og = sjoin_og[~sjoin_og.vp_idx.isin(remaining_vp_idx_list)].reset_index(drop = True)\n",
    "        except:\n",
    "            sjoin_og\n",
    "            \n",
    "        # Apply function\n",
    "        remaining_vp_idx_list, results = percent_sjoin_pts(usable_vps_og.partitions[i], sjoin_og)\n",
    "        my_results.append(results)\n",
    "        \n",
    "        # Save\n",
    "        results.to_parquet(f\"{SEGMENT_GCS}ah_testing/part_{i}.parquet\")\n",
    "        print(f\"done with {i}\")\n",
    "        \n",
    "    \n",
    "    final = pd.concat(my_results, axis=0).reset_index(drop=True)\n",
    "    end = datetime.datetime.now()\n",
    "    print(f\"Time lapsed: {end-start}\")\n",
    "    return final\n",
    "        "
   ]
  },
  {
   "cell_type": "code",
   "execution_count": null,
   "id": "3a372a8c-08d4-431d-bf43-e76ab6710ae4",
   "metadata": {
    "scrolled": true,
    "tags": []
   },
   "outputs": [],
   "source": [
    "# test = percent_sjoin_all_pts(analysis_date)"
   ]
  },
  {
   "cell_type": "code",
   "execution_count": 38,
   "id": "2e6c1744-fb92-479a-a99e-4933497d327f",
   "metadata": {},
   "outputs": [],
   "source": [
    "def find_files(phrase_to_find: str, file_path:str) -> list:\n",
    "    \"\"\"\n",
    "    Grab a list of files that contain the\n",
    "    phrase inputted. \n",
    "    \"\"\"\n",
    "    # Create a list of all the files in my folder\n",
    "    all_files_in_folder = fs.ls(file_path)\n",
    "\n",
    "    # Grab only files with the string \"Verizon_no_coverage_\"\n",
    "    my_files = [i for i in all_files_in_folder if phrase_to_find in i]\n",
    "\n",
    "    # String to add to read the files\n",
    "    my_string = \"gs://\"\n",
    "    my_files = [my_string + i for i in my_files]\n",
    "    \n",
    "    # Extract digit of parquet \n",
    "    return my_files\n"
   ]
  },
  {
   "cell_type": "code",
   "execution_count": 106,
   "id": "ca9e1edc-11ac-48df-8da5-2e64e6dc1a93",
   "metadata": {},
   "outputs": [],
   "source": [
    "file_names = find_files('part',f\"{SEGMENT_GCS}ah_testing/\")"
   ]
  },
  {
   "cell_type": "code",
   "execution_count": 58,
   "id": "070e8f42-52ae-4be1-a3fa-b1e2be2d62f7",
   "metadata": {},
   "outputs": [],
   "source": [
    "all_file_numbers = []"
   ]
  },
  {
   "cell_type": "code",
   "execution_count": 107,
   "id": "f551e0f3-b861-49c7-8514-4d0cc8f1a892",
   "metadata": {},
   "outputs": [],
   "source": [
    "for file in file_names:\n",
    "    # https://stackoverflow.com/questions/11339210/how-to-get-integer-values-from-a-string-in-python\n",
    "        file_number = \"\".join(i for i in file if i.isdigit())\n",
    "        all_file_numbers.append(file_number)\n",
    "      "
   ]
  },
  {
   "cell_type": "code",
   "execution_count": 109,
   "id": "87da9e1e-b5bd-41e2-8e5b-b1600c380f0b",
   "metadata": {},
   "outputs": [],
   "source": [
    "dataframes_list = []"
   ]
  },
  {
   "cell_type": "code",
   "execution_count": 110,
   "id": "7df37178-4f14-4214-9939-a68e03bdef57",
   "metadata": {},
   "outputs": [],
   "source": [
    "for i in all_file_numbers:\n",
    "    temp_df = dd.read_parquet(f\"{SEGMENT_GCS}ah_testing/part_{i}.parquet\")\n",
    "    dataframes_list.append(temp_df)"
   ]
  },
  {
   "cell_type": "code",
   "execution_count": 111,
   "id": "65d9f1fd-1ae3-4a61-884e-c3b855b37462",
   "metadata": {},
   "outputs": [],
   "source": [
    "final = dd.concat(dataframes_list, axis=0).reset_index(drop=True)"
   ]
  },
  {
   "cell_type": "code",
   "execution_count": 80,
   "id": "b62a8b71-2cb0-4d8a-baa6-5dd1a71b7c2e",
   "metadata": {},
   "outputs": [
    {
     "data": {
      "text/html": [
       "<div>\n",
       "<style scoped>\n",
       "    .dataframe tbody tr th:only-of-type {\n",
       "        vertical-align: middle;\n",
       "    }\n",
       "\n",
       "    .dataframe tbody tr th {\n",
       "        vertical-align: top;\n",
       "    }\n",
       "\n",
       "    .dataframe thead th {\n",
       "        text-align: right;\n",
       "    }\n",
       "</style>\n",
       "<table border=\"1\" class=\"dataframe\">\n",
       "  <thead>\n",
       "    <tr style=\"text-align: right;\">\n",
       "      <th></th>\n",
       "      <th>gtfs_dataset_key</th>\n",
       "      <th>trip_id</th>\n",
       "      <th>pts_not_in_sjoin</th>\n",
       "      <th>sjoin_pts</th>\n",
       "      <th>all_pts</th>\n",
       "      <th>percent_of_pts</th>\n",
       "    </tr>\n",
       "  </thead>\n",
       "  <tbody>\n",
       "    <tr>\n",
       "      <th>0</th>\n",
       "      <td>a2710c46937c4d17f3b41568a2d67f05</td>\n",
       "      <td>3337896</td>\n",
       "      <td>0</td>\n",
       "      <td>13</td>\n",
       "      <td>13</td>\n",
       "      <td>100.00</td>\n",
       "    </tr>\n",
       "    <tr>\n",
       "      <th>1</th>\n",
       "      <td>a2710c46937c4d17f3b41568a2d67f05</td>\n",
       "      <td>3338017</td>\n",
       "      <td>0</td>\n",
       "      <td>146</td>\n",
       "      <td>146</td>\n",
       "      <td>100.00</td>\n",
       "    </tr>\n",
       "    <tr>\n",
       "      <th>2</th>\n",
       "      <td>a2710c46937c4d17f3b41568a2d67f05</td>\n",
       "      <td>3338018</td>\n",
       "      <td>0</td>\n",
       "      <td>143</td>\n",
       "      <td>143</td>\n",
       "      <td>100.00</td>\n",
       "    </tr>\n",
       "    <tr>\n",
       "      <th>3</th>\n",
       "      <td>a2710c46937c4d17f3b41568a2d67f05</td>\n",
       "      <td>3338019</td>\n",
       "      <td>0</td>\n",
       "      <td>148</td>\n",
       "      <td>148</td>\n",
       "      <td>100.00</td>\n",
       "    </tr>\n",
       "    <tr>\n",
       "      <th>4</th>\n",
       "      <td>a2710c46937c4d17f3b41568a2d67f05</td>\n",
       "      <td>3338020</td>\n",
       "      <td>0</td>\n",
       "      <td>120</td>\n",
       "      <td>120</td>\n",
       "      <td>100.00</td>\n",
       "    </tr>\n",
       "  </tbody>\n",
       "</table>\n",
       "</div>"
      ],
      "text/plain": [
       "                   gtfs_dataset_key  trip_id  pts_not_in_sjoin  sjoin_pts  \\\n",
       "0  a2710c46937c4d17f3b41568a2d67f05  3337896                 0         13   \n",
       "1  a2710c46937c4d17f3b41568a2d67f05  3338017                 0        146   \n",
       "2  a2710c46937c4d17f3b41568a2d67f05  3338018                 0        143   \n",
       "3  a2710c46937c4d17f3b41568a2d67f05  3338019                 0        148   \n",
       "4  a2710c46937c4d17f3b41568a2d67f05  3338020                 0        120   \n",
       "\n",
       "   all_pts  percent_of_pts  \n",
       "0       13          100.00  \n",
       "1      146          100.00  \n",
       "2      143          100.00  \n",
       "3      148          100.00  \n",
       "4      120          100.00  "
      ]
     },
     "execution_count": 80,
     "metadata": {},
     "output_type": "execute_result"
    }
   ],
   "source": [
    "final.head()"
   ]
  },
  {
   "cell_type": "code",
   "execution_count": 115,
   "id": "97557c50-4f4a-40f8-a87b-3aefcb0c4b12",
   "metadata": {},
   "outputs": [
    {
     "data": {
      "text/plain": [
       "(137854, 6)"
      ]
     },
     "execution_count": 115,
     "metadata": {},
     "output_type": "execute_result"
    }
   ],
   "source": [
    "final.shape"
   ]
  },
  {
   "cell_type": "code",
   "execution_count": 113,
   "id": "1b32392f-f076-4f79-9282-1f3eecca0ec4",
   "metadata": {},
   "outputs": [],
   "source": [
    "final_less_than_100 = final[final.percent_of_pts != 100].reset_index(drop = True)"
   ]
  },
  {
   "cell_type": "code",
   "execution_count": 114,
   "id": "e99cbd07-4f3a-4ab7-9aec-efb6c3db2a4f",
   "metadata": {},
   "outputs": [
    {
     "data": {
      "text/plain": [
       "(87832, 6)"
      ]
     },
     "execution_count": 114,
     "metadata": {},
     "output_type": "execute_result"
    }
   ],
   "source": [
    "final_less_than_100.shape"
   ]
  },
  {
   "cell_type": "code",
   "execution_count": 116,
   "id": "e6cbb763-c6a0-4375-866e-8d292f2bd74d",
   "metadata": {},
   "outputs": [
    {
     "data": {
      "text/plain": [
       "count   87498.00\n",
       "mean       68.11\n",
       "std        38.26\n",
       "min         0.00\n",
       "25%        51.43\n",
       "50%        86.84\n",
       "75%        97.39\n",
       "max        99.88\n",
       "Name: percent_of_pts, dtype: float64"
      ]
     },
     "execution_count": 116,
     "metadata": {},
     "output_type": "execute_result"
    }
   ],
   "source": [
    "final_less_than_100.percent_of_pts.describe()"
   ]
  },
  {
   "cell_type": "code",
   "execution_count": 97,
   "id": "b665601b-b61e-4780-a46f-a3f69a362319",
   "metadata": {},
   "outputs": [],
   "source": [
    "# final = pd.merge(final , crosswalk, on = ['trip_id','gtfs_dataset_key'], how = 'left')"
   ]
  },
  {
   "cell_type": "code",
   "execution_count": 91,
   "id": "d48aac96-f0af-4d32-8855-b424f4d9335e",
   "metadata": {},
   "outputs": [
    {
     "data": {
      "text/plain": [
       "count   68760.00\n",
       "mean       79.71\n",
       "std        34.15\n",
       "min         0.00\n",
       "25%        78.77\n",
       "50%        97.96\n",
       "75%       100.00\n",
       "max       100.00\n",
       "Name: percent_of_pts, dtype: float64"
      ]
     },
     "execution_count": 91,
     "metadata": {},
     "output_type": "execute_result"
    }
   ],
   "source": [
    "final.percent_of_pts.describe()"
   ]
  },
  {
   "cell_type": "markdown",
   "id": "a9092c5a-4fc2-40a4-bbdc-35d85c6de477",
   "metadata": {
    "tags": []
   },
   "source": [
    "#### Check for missing operators/trips"
   ]
  },
  {
   "cell_type": "code",
   "execution_count": 95,
   "id": "be69957f-92fe-4526-a240-96899146a58c",
   "metadata": {},
   "outputs": [
    {
     "data": {
      "text/plain": [
       "(55, 62277)"
      ]
     },
     "execution_count": 95,
     "metadata": {},
     "output_type": "execute_result"
    }
   ],
   "source": [
    "final.gtfs_dataset_key.nunique(), final.trip_id.nunique()"
   ]
  },
  {
   "cell_type": "code",
   "execution_count": 83,
   "id": "b3750264-b35c-4a57-a015-e1dc330759ef",
   "metadata": {},
   "outputs": [],
   "source": [
    "usable_vp = usable_vp.compute()"
   ]
  },
  {
   "cell_type": "code",
   "execution_count": 85,
   "id": "2cf5b62f-a52e-49e1-a67a-86eb9b83003c",
   "metadata": {},
   "outputs": [
    {
     "data": {
      "text/plain": [
       "(89, 70978)"
      ]
     },
     "execution_count": 85,
     "metadata": {},
     "output_type": "execute_result"
    }
   ],
   "source": [
    "usable_vp.gtfs_dataset_key.nunique(), usable_vp.trip_id.nunique()"
   ]
  },
  {
   "cell_type": "code",
   "execution_count": 101,
   "id": "8024e468-dbf8-4396-b993-25e2e633aa1d",
   "metadata": {
    "scrolled": true,
    "tags": []
   },
   "outputs": [],
   "source": [
    "og = set(usable_vp.trip_id.unique().tolist())\n",
    "agg = set(final.trip_id.unique().tolist())\n"
   ]
  },
  {
   "cell_type": "code",
   "execution_count": 102,
   "id": "d88bd198-45c4-498d-8d44-7e2f0a425aa7",
   "metadata": {},
   "outputs": [
    {
     "data": {
      "text/plain": [
       "8701"
      ]
     },
     "execution_count": 102,
     "metadata": {},
     "output_type": "execute_result"
    }
   ],
   "source": [
    "len(og-agg)"
   ]
  },
  {
   "cell_type": "code",
   "execution_count": 103,
   "id": "26cb9a86-c405-4071-8c68-15f02e387f8b",
   "metadata": {},
   "outputs": [
    {
     "data": {
      "text/plain": [
       "0.8774127194341909"
      ]
     },
     "execution_count": 103,
     "metadata": {},
     "output_type": "execute_result"
    }
   ],
   "source": [
    "62277/70978"
   ]
  },
  {
   "cell_type": "markdown",
   "id": "4526c987-ce6f-4a90-9d27-46bcdc5116ab",
   "metadata": {
    "tags": []
   },
   "source": [
    "### Fix 2 - Keep timestamps nearby if there aren't enough points\n",
    "* Figure out whether or not there are enough points kept after paring down for each trip/route (fix 1)\n",
    "* Or use the flagged_df to see which routes have a very low % of points.\n",
    "* For those routes without enough points, find the timestamps a few minutes around. \n",
    "* How do I know which point is wrong though??\n",
    "* Can only use stage3 dataframe, since those have something wrong with them..."
   ]
  },
  {
   "cell_type": "code",
   "execution_count": 119,
   "id": "d3938de8-7386-4689-b84c-44ebf816d746",
   "metadata": {},
   "outputs": [],
   "source": [
    "def route_most_populated(flagged:pd.DataFrame)-> pd.DataFrame:\n",
    "    \"\"\"\n",
    "    For each route, the \"quality\" of vehicle positions varies by trip.\n",
    "    Find the trip with the highest percentage of \"ok\" rows. Ok is defined\n",
    "    as a row with non-zero values populated for meters_elapsed and \n",
    "    sec_elapsed\n",
    "    \n",
    "    Args:\n",
    "        flagged: df from categorize_meters_speeds_pandas()\n",
    "    \"\"\"\n",
    "    # First aggregation to count number of stops by flag\n",
    "    agg1 = (flagged\n",
    "        .groupby(['gtfs_dataset_key','shape_array_key','trip_id','flag'])\n",
    "        .agg({'stop_sequence':'nunique'})\n",
    "        .rename(columns = {'stop_sequence':'number_of_rows'})\n",
    "        .reset_index()\n",
    "       )\n",
    "    \n",
    "    # Create separate cols for the number of rows that are ok and rows that are division by 0\n",
    "    # https://stackoverflow.com/questions/49161120/set-value-of-one-pandas-column-based-on-value-in-another-column\n",
    "    agg1['division_by_zero'] = None\n",
    "    agg1['ok'] = None\n",
    "    agg1['division_by_zero'] = np.where(agg1.flag == 'division by 0', agg1.number_of_rows, agg1.division_by_zero)\n",
    "    agg1['ok'] = np.where(agg1.flag != 'division by 0', agg1.number_of_rows, agg1.ok)\n",
    "    agg1['division_by_zero'] = agg1['division_by_zero'].fillna(0)\n",
    "    agg1['ok'] = agg1['ok'].fillna(0)\n",
    "    \n",
    "    # Aggregate again to simplify the df \n",
    "    agg1 = agg1.drop(columns = ['flag','number_of_rows'])\n",
    "    agg2 = (agg1\n",
    "            .groupby(['gtfs_dataset_key','shape_array_key','trip_id'])\n",
    "            .agg({'division_by_zero':'sum','ok':'sum'})\n",
    "            .reset_index()\n",
    "           )\n",
    "    \n",
    "    # Find total rows for that trip\n",
    "    agg2['total_rows'] = agg2.division_by_zero + agg2.ok\n",
    "    \n",
    "    # Find total % of rows that are ok\n",
    "    agg2['percent_of_ok_rows'] = (agg2.ok/agg2.total_rows * 100)\n",
    "    \n",
    "    return agg2"
   ]
  },
  {
   "cell_type": "code",
   "execution_count": 120,
   "id": "85b84dbf-0c00-4b89-b9ac-80c736c10763",
   "metadata": {},
   "outputs": [],
   "source": [
    "trips_more_points = route_most_populated(flagged)"
   ]
  },
  {
   "cell_type": "code",
   "execution_count": 122,
   "id": "f959fe00-f738-403f-8c36-0e12af1eab99",
   "metadata": {},
   "outputs": [
    {
     "data": {
      "text/plain": [
       "(70244, 7)"
      ]
     },
     "execution_count": 122,
     "metadata": {},
     "output_type": "execute_result"
    }
   ],
   "source": [
    "trips_more_points.shape"
   ]
  },
  {
   "cell_type": "code",
   "execution_count": 121,
   "id": "0d1755b7-591e-4ccf-8710-505c7bc69532",
   "metadata": {},
   "outputs": [
    {
     "data": {
      "text/html": [
       "<div>\n",
       "<style scoped>\n",
       "    .dataframe tbody tr th:only-of-type {\n",
       "        vertical-align: middle;\n",
       "    }\n",
       "\n",
       "    .dataframe tbody tr th {\n",
       "        vertical-align: top;\n",
       "    }\n",
       "\n",
       "    .dataframe thead th {\n",
       "        text-align: right;\n",
       "    }\n",
       "</style>\n",
       "<table border=\"1\" class=\"dataframe\">\n",
       "  <thead>\n",
       "    <tr style=\"text-align: right;\">\n",
       "      <th></th>\n",
       "      <th>gtfs_dataset_key</th>\n",
       "      <th>shape_array_key</th>\n",
       "      <th>trip_id</th>\n",
       "      <th>division_by_zero</th>\n",
       "      <th>ok</th>\n",
       "      <th>total_rows</th>\n",
       "      <th>percent_of_ok_rows</th>\n",
       "    </tr>\n",
       "  </thead>\n",
       "  <tbody>\n",
       "    <tr>\n",
       "      <th>0</th>\n",
       "      <td>00accf770009aafd5dc103ff2eeddb37</td>\n",
       "      <td>01757ff15f8d471eecfe9cf0bec4d039</td>\n",
       "      <td>t_5634867_b_80735_tn_0</td>\n",
       "      <td>9</td>\n",
       "      <td>62</td>\n",
       "      <td>71</td>\n",
       "      <td>87.32</td>\n",
       "    </tr>\n",
       "    <tr>\n",
       "      <th>1</th>\n",
       "      <td>00accf770009aafd5dc103ff2eeddb37</td>\n",
       "      <td>01757ff15f8d471eecfe9cf0bec4d039</td>\n",
       "      <td>t_5634886_b_80735_tn_0</td>\n",
       "      <td>0</td>\n",
       "      <td>12</td>\n",
       "      <td>12</td>\n",
       "      <td>100.00</td>\n",
       "    </tr>\n",
       "    <tr>\n",
       "      <th>2</th>\n",
       "      <td>00accf770009aafd5dc103ff2eeddb37</td>\n",
       "      <td>01757ff15f8d471eecfe9cf0bec4d039</td>\n",
       "      <td>t_5635016_b_80735_tn_0</td>\n",
       "      <td>10</td>\n",
       "      <td>70</td>\n",
       "      <td>80</td>\n",
       "      <td>87.50</td>\n",
       "    </tr>\n",
       "    <tr>\n",
       "      <th>3</th>\n",
       "      <td>00accf770009aafd5dc103ff2eeddb37</td>\n",
       "      <td>01757ff15f8d471eecfe9cf0bec4d039</td>\n",
       "      <td>t_5635109_b_80735_tn_0</td>\n",
       "      <td>5</td>\n",
       "      <td>65</td>\n",
       "      <td>70</td>\n",
       "      <td>92.86</td>\n",
       "    </tr>\n",
       "    <tr>\n",
       "      <th>4</th>\n",
       "      <td>00accf770009aafd5dc103ff2eeddb37</td>\n",
       "      <td>01757ff15f8d471eecfe9cf0bec4d039</td>\n",
       "      <td>t_5635110_b_80735_tn_0</td>\n",
       "      <td>11</td>\n",
       "      <td>69</td>\n",
       "      <td>80</td>\n",
       "      <td>86.25</td>\n",
       "    </tr>\n",
       "  </tbody>\n",
       "</table>\n",
       "</div>"
      ],
      "text/plain": [
       "                   gtfs_dataset_key                   shape_array_key  \\\n",
       "0  00accf770009aafd5dc103ff2eeddb37  01757ff15f8d471eecfe9cf0bec4d039   \n",
       "1  00accf770009aafd5dc103ff2eeddb37  01757ff15f8d471eecfe9cf0bec4d039   \n",
       "2  00accf770009aafd5dc103ff2eeddb37  01757ff15f8d471eecfe9cf0bec4d039   \n",
       "3  00accf770009aafd5dc103ff2eeddb37  01757ff15f8d471eecfe9cf0bec4d039   \n",
       "4  00accf770009aafd5dc103ff2eeddb37  01757ff15f8d471eecfe9cf0bec4d039   \n",
       "\n",
       "                  trip_id  division_by_zero  ok  total_rows  \\\n",
       "0  t_5634867_b_80735_tn_0                 9  62          71   \n",
       "1  t_5634886_b_80735_tn_0                 0  12          12   \n",
       "2  t_5635016_b_80735_tn_0                10  70          80   \n",
       "3  t_5635109_b_80735_tn_0                 5  65          70   \n",
       "4  t_5635110_b_80735_tn_0                11  69          80   \n",
       "\n",
       "   percent_of_ok_rows  \n",
       "0               87.32  \n",
       "1              100.00  \n",
       "2               87.50  \n",
       "3               92.86  \n",
       "4               86.25  "
      ]
     },
     "execution_count": 121,
     "metadata": {},
     "output_type": "execute_result"
    }
   ],
   "source": [
    "trips_more_points.head()"
   ]
  },
  {
   "cell_type": "code",
   "execution_count": 134,
   "id": "30ed31e7-3081-4d2c-a73b-a634f3104827",
   "metadata": {},
   "outputs": [],
   "source": [
    "average_per_route = (trips_more_points\n",
    "                     .groupby(['gtfs_dataset_key','shape_array_key'])\n",
    "                     .agg({'percent_of_ok_rows':'mean'}).reset_index()\n",
    "                     .rename(columns = {'percent_of_ok_rows':'avg_percent_ok_rows'})\n",
    "                    )"
   ]
  },
  {
   "cell_type": "code",
   "execution_count": 131,
   "id": "3a1a996d-fd84-43f5-a028-e071838f7050",
   "metadata": {},
   "outputs": [
    {
     "data": {
      "text/plain": [
       "(4114, 3)"
      ]
     },
     "execution_count": 131,
     "metadata": {},
     "output_type": "execute_result"
    }
   ],
   "source": [
    "average_per_route.shape"
   ]
  },
  {
   "cell_type": "code",
   "execution_count": 135,
   "id": "c9e2e6ac-81c5-45fe-9fa5-5941c04c58e6",
   "metadata": {},
   "outputs": [],
   "source": [
    "# merge\n",
    "merge1 = pd.merge(trips_more_points,average_per_route, on =['gtfs_dataset_key','shape_array_key'], how = \"inner\") "
   ]
  },
  {
   "cell_type": "code",
   "execution_count": 184,
   "id": "ca2573a4-c2d4-4b51-9183-af95b30eeac4",
   "metadata": {},
   "outputs": [
    {
     "data": {
      "text/plain": [
       "46181"
      ]
     },
     "execution_count": 184,
     "metadata": {},
     "output_type": "execute_result"
    }
   ],
   "source": [
    "len(merge1[merge1.percent_of_ok_rows != 100])"
   ]
  },
  {
   "cell_type": "code",
   "execution_count": 137,
   "id": "e6de4441-ce1b-4a20-8e84-2f222aae1ab8",
   "metadata": {},
   "outputs": [],
   "source": [
    "# https://stackoverflow.com/questions/63445182/how-to-compare-two-columns-using-pandas\n",
    "# maybe I shouldn't filter this?? find all rows that aren't 100.\n",
    "comparison_column = np.where(merge1[\"percent_of_ok_rows\"] >= merge1[\"avg_percent_ok_rows\"],0,1)"
   ]
  },
  {
   "cell_type": "code",
   "execution_count": 138,
   "id": "2f7189e5-14da-4e2b-8460-604391ac62c7",
   "metadata": {},
   "outputs": [],
   "source": [
    "merge1['comparison'] = comparison_column"
   ]
  },
  {
   "cell_type": "code",
   "execution_count": 140,
   "id": "877af8f2-4283-4e80-b887-69d1e47c9a62",
   "metadata": {},
   "outputs": [],
   "source": [
    "rows_fix2 = merge1[merge1.comparison == 1].reset_index(drop = True)"
   ]
  },
  {
   "cell_type": "code",
   "execution_count": 142,
   "id": "22286888-b010-45f4-9f6c-703c5aaa7565",
   "metadata": {},
   "outputs": [
    {
     "data": {
      "text/plain": [
       "(22558, 9)"
      ]
     },
     "execution_count": 142,
     "metadata": {},
     "output_type": "execute_result"
    }
   ],
   "source": [
    "rows_fix2.shape"
   ]
  },
  {
   "cell_type": "code",
   "execution_count": 158,
   "id": "036c3262-4361-4207-866a-85f615663d34",
   "metadata": {},
   "outputs": [],
   "source": [
    "fix2_routes = list(rows_fix2.shape_array_key.unique())"
   ]
  },
  {
   "cell_type": "code",
   "execution_count": 160,
   "id": "6d2f713d-abe2-45ef-9380-2e4260e86619",
   "metadata": {},
   "outputs": [],
   "source": [
    "fix2_trips = list(rows_fix2.trip_id.unique())"
   ]
  },
  {
   "cell_type": "code",
   "execution_count": 169,
   "id": "328dbec1-e941-4540-9a82-def6e1ca076e",
   "metadata": {},
   "outputs": [],
   "source": [
    "fix2_keys = list(rows_fix2.gtfs_dataset_key.unique())"
   ]
  },
  {
   "cell_type": "code",
   "execution_count": 170,
   "id": "2b47b1cb-fb69-4ffd-a69f-23730b79bf59",
   "metadata": {},
   "outputs": [
    {
     "data": {
      "text/plain": [
       "(2565, 21739, 61)"
      ]
     },
     "execution_count": 170,
     "metadata": {},
     "output_type": "execute_result"
    }
   ],
   "source": [
    "len(fix2_routes), len(fix2_trips), len(fix2_keys)"
   ]
  },
  {
   "cell_type": "code",
   "execution_count": 182,
   "id": "4954dea3-b37b-46b8-b60f-a4a31dfaa5be",
   "metadata": {},
   "outputs": [
    {
     "data": {
      "text/html": [
       "<div>\n",
       "<style scoped>\n",
       "    .dataframe tbody tr th:only-of-type {\n",
       "        vertical-align: middle;\n",
       "    }\n",
       "\n",
       "    .dataframe tbody tr th {\n",
       "        vertical-align: top;\n",
       "    }\n",
       "\n",
       "    .dataframe thead th {\n",
       "        text-align: right;\n",
       "    }\n",
       "</style>\n",
       "<table border=\"1\" class=\"dataframe\">\n",
       "  <thead>\n",
       "    <tr style=\"text-align: right;\">\n",
       "      <th></th>\n",
       "      <th>gtfs_dataset_key</th>\n",
       "      <th>shape_array_key</th>\n",
       "      <th>trip_id</th>\n",
       "      <th>division_by_zero</th>\n",
       "      <th>ok</th>\n",
       "      <th>total_rows</th>\n",
       "      <th>percent_of_ok_rows</th>\n",
       "      <th>avg_percent_ok_rows</th>\n",
       "      <th>comparison</th>\n",
       "    </tr>\n",
       "  </thead>\n",
       "  <tbody>\n",
       "    <tr>\n",
       "      <th>12579</th>\n",
       "      <td>a4f6fd5552107e05fe9743ac7cce2c55</td>\n",
       "      <td>5f004bd423bb7ae5b471472353c6c321</td>\n",
       "      <td>17076341</td>\n",
       "      <td>9</td>\n",
       "      <td>13</td>\n",
       "      <td>22</td>\n",
       "      <td>59.09</td>\n",
       "      <td>70.08</td>\n",
       "      <td>1</td>\n",
       "    </tr>\n",
       "    <tr>\n",
       "      <th>4267</th>\n",
       "      <td>5a3ed004c18b1388ecf8f219f5483043</td>\n",
       "      <td>c1dd1b5d0f75acdd3d36c805dfb1b0ff</td>\n",
       "      <td>113020</td>\n",
       "      <td>11</td>\n",
       "      <td>43</td>\n",
       "      <td>54</td>\n",
       "      <td>79.63</td>\n",
       "      <td>86.14</td>\n",
       "      <td>1</td>\n",
       "    </tr>\n",
       "    <tr>\n",
       "      <th>13998</th>\n",
       "      <td>a4f6fd5552107e05fe9743ac7cce2c55</td>\n",
       "      <td>d027287848e79f2ca6ebf32df036590a</td>\n",
       "      <td>17099244</td>\n",
       "      <td>14</td>\n",
       "      <td>17</td>\n",
       "      <td>31</td>\n",
       "      <td>54.84</td>\n",
       "      <td>66.32</td>\n",
       "      <td>1</td>\n",
       "    </tr>\n",
       "    <tr>\n",
       "      <th>194</th>\n",
       "      <td>0af37e731f00a843fb9a0fe286f8d958</td>\n",
       "      <td>7522dcf861b71950ebce7fc12d3b7e61</td>\n",
       "      <td>1093536</td>\n",
       "      <td>8</td>\n",
       "      <td>18</td>\n",
       "      <td>26</td>\n",
       "      <td>69.23</td>\n",
       "      <td>77.73</td>\n",
       "      <td>1</td>\n",
       "    </tr>\n",
       "    <tr>\n",
       "      <th>2280</th>\n",
       "      <td>33dd64366cfab802596d05a407a4a35a</td>\n",
       "      <td>53edd5209365330969b0f1af7fbb5b45</td>\n",
       "      <td>85020</td>\n",
       "      <td>4</td>\n",
       "      <td>14</td>\n",
       "      <td>18</td>\n",
       "      <td>77.78</td>\n",
       "      <td>81.89</td>\n",
       "      <td>1</td>\n",
       "    </tr>\n",
       "  </tbody>\n",
       "</table>\n",
       "</div>"
      ],
      "text/plain": [
       "                       gtfs_dataset_key                   shape_array_key  \\\n",
       "12579  a4f6fd5552107e05fe9743ac7cce2c55  5f004bd423bb7ae5b471472353c6c321   \n",
       "4267   5a3ed004c18b1388ecf8f219f5483043  c1dd1b5d0f75acdd3d36c805dfb1b0ff   \n",
       "13998  a4f6fd5552107e05fe9743ac7cce2c55  d027287848e79f2ca6ebf32df036590a   \n",
       "194    0af37e731f00a843fb9a0fe286f8d958  7522dcf861b71950ebce7fc12d3b7e61   \n",
       "2280   33dd64366cfab802596d05a407a4a35a  53edd5209365330969b0f1af7fbb5b45   \n",
       "\n",
       "        trip_id  division_by_zero  ok  total_rows  percent_of_ok_rows  \\\n",
       "12579  17076341                 9  13          22               59.09   \n",
       "4267     113020                11  43          54               79.63   \n",
       "13998  17099244                14  17          31               54.84   \n",
       "194     1093536                 8  18          26               69.23   \n",
       "2280      85020                 4  14          18               77.78   \n",
       "\n",
       "       avg_percent_ok_rows  comparison  \n",
       "12579                70.08           1  \n",
       "4267                 86.14           1  \n",
       "13998                66.32           1  \n",
       "194                  77.73           1  \n",
       "2280                 81.89           1  "
      ]
     },
     "execution_count": 182,
     "metadata": {},
     "output_type": "execute_result"
    }
   ],
   "source": [
    "rows_fix2.sample(5)"
   ]
  },
  {
   "cell_type": "code",
   "execution_count": 164,
   "id": "843faf4f-a945-48ac-8527-0a986bd6a7fb",
   "metadata": {},
   "outputs": [
    {
     "data": {
      "text/plain": [
       "(14579242, 11)"
      ]
     },
     "execution_count": 164,
     "metadata": {},
     "output_type": "execute_result"
    }
   ],
   "source": [
    "# Find first and last point or use vp usable??\n",
    "usable_vp.shape"
   ]
  },
  {
   "cell_type": "code",
   "execution_count": 173,
   "id": "f0c62b68-ad9b-4944-9deb-fa1322119164",
   "metadata": {},
   "outputs": [],
   "source": [
    "usable_vp2 = usable_vp[(usable_vp.trip_id.isin(fix2_trips))].reset_index(drop = True)"
   ]
  },
  {
   "cell_type": "code",
   "execution_count": 187,
   "id": "5481bbf5-5e7a-435f-a176-c3bbddd39b0c",
   "metadata": {},
   "outputs": [],
   "source": [
    "divide_by_zero2 = divide_by_zero[divide_by_zero.trip_id.isin(fix2_trips)].reset_index(drop = True)"
   ]
  },
  {
   "cell_type": "code",
   "execution_count": 179,
   "id": "d350b0ed-63a1-4a0a-8be9-21af8f98d399",
   "metadata": {},
   "outputs": [
    {
     "data": {
      "text/plain": [
       "21739"
      ]
     },
     "execution_count": 179,
     "metadata": {},
     "output_type": "execute_result"
    }
   ],
   "source": [
    "usable_vp2.trip_id.nunique()"
   ]
  },
  {
   "cell_type": "markdown",
   "id": "df413ea5-d5c2-4260-b77d-24b940e829bf",
   "metadata": {},
   "source": [
    "#### Test with one trip\n",
    "* Mapped in example 1\n",
    "* Duplicate the next that has a changed location within reason"
   ]
  },
  {
   "cell_type": "code",
   "execution_count": 180,
   "id": "eb070f8a-75ef-4620-b63f-855ffd16cebe",
   "metadata": {},
   "outputs": [],
   "source": [
    "test_trip = \"t120-sl9-p84-r1A\""
   ]
  },
  {
   "cell_type": "code",
   "execution_count": 240,
   "id": "7e4c3692-c7b3-4392-8b1d-d402358cd1e1",
   "metadata": {},
   "outputs": [],
   "source": [
    "test_shape = \"21aedea4c0d05c570e042903cc62c9cf\"\n",
    "test_key = \"gtfs_dataset_key\""
   ]
  },
  {
   "cell_type": "code",
   "execution_count": 181,
   "id": "9f831e3a-f362-48c4-ad73-4c379e6cec3c",
   "metadata": {},
   "outputs": [
    {
     "data": {
      "text/html": [
       "<div>\n",
       "<style scoped>\n",
       "    .dataframe tbody tr th:only-of-type {\n",
       "        vertical-align: middle;\n",
       "    }\n",
       "\n",
       "    .dataframe tbody tr th {\n",
       "        vertical-align: top;\n",
       "    }\n",
       "\n",
       "    .dataframe thead th {\n",
       "        text-align: right;\n",
       "    }\n",
       "</style>\n",
       "<table border=\"1\" class=\"dataframe\">\n",
       "  <thead>\n",
       "    <tr style=\"text-align: right;\">\n",
       "      <th></th>\n",
       "      <th>gtfs_dataset_key</th>\n",
       "      <th>shape_array_key</th>\n",
       "      <th>trip_id</th>\n",
       "      <th>division_by_zero</th>\n",
       "      <th>ok</th>\n",
       "      <th>total_rows</th>\n",
       "      <th>percent_of_ok_rows</th>\n",
       "      <th>avg_percent_ok_rows</th>\n",
       "      <th>comparison</th>\n",
       "    </tr>\n",
       "  </thead>\n",
       "  <tbody>\n",
       "    <tr>\n",
       "      <th>16335</th>\n",
       "      <td>bc21582ac1ad2b7de0647dfd5b76f67c</td>\n",
       "      <td>21aedea4c0d05c570e042903cc62c9cf</td>\n",
       "      <td>t120-sl9-p84-r1A</td>\n",
       "      <td>3</td>\n",
       "      <td>10</td>\n",
       "      <td>13</td>\n",
       "      <td>76.92</td>\n",
       "      <td>86.16</td>\n",
       "      <td>1</td>\n",
       "    </tr>\n",
       "  </tbody>\n",
       "</table>\n",
       "</div>"
      ],
      "text/plain": [
       "                       gtfs_dataset_key                   shape_array_key  \\\n",
       "16335  bc21582ac1ad2b7de0647dfd5b76f67c  21aedea4c0d05c570e042903cc62c9cf   \n",
       "\n",
       "                trip_id  division_by_zero  ok  total_rows  percent_of_ok_rows  \\\n",
       "16335  t120-sl9-p84-r1A                 3  10          13               76.92   \n",
       "\n",
       "       avg_percent_ok_rows  comparison  \n",
       "16335                86.16           1  "
      ]
     },
     "execution_count": 181,
     "metadata": {},
     "output_type": "execute_result"
    }
   ],
   "source": [
    "rows_fix2[rows_fix2.trip_id == test_trip]"
   ]
  },
  {
   "cell_type": "code",
   "execution_count": 197,
   "id": "1d5cf020-3702-4a16-b559-dbc9dc5e65d3",
   "metadata": {},
   "outputs": [],
   "source": [
    "test_divide_zero = divide_by_zero2[divide_by_zero2.trip_id == test_trip]"
   ]
  },
  {
   "cell_type": "code",
   "execution_count": 247,
   "id": "68dedba4-ecc8-4434-b0dd-4f572c731f22",
   "metadata": {},
   "outputs": [],
   "source": [
    "test_zero_stop_seq = list(test_divide_zero.stop_sequence.unique())"
   ]
  },
  {
   "cell_type": "code",
   "execution_count": 231,
   "id": "9f3f6b06-a9bf-449c-8d0d-e6d5ff2aa64b",
   "metadata": {},
   "outputs": [
    {
     "data": {
      "text/html": [
       "<div>\n",
       "<style scoped>\n",
       "    .dataframe tbody tr th:only-of-type {\n",
       "        vertical-align: middle;\n",
       "    }\n",
       "\n",
       "    .dataframe tbody tr th {\n",
       "        vertical-align: top;\n",
       "    }\n",
       "\n",
       "    .dataframe thead th {\n",
       "        text-align: right;\n",
       "    }\n",
       "</style>\n",
       "<table border=\"1\" class=\"dataframe\">\n",
       "  <thead>\n",
       "    <tr style=\"text-align: right;\">\n",
       "      <th></th>\n",
       "      <th>shape_array_key</th>\n",
       "      <th>stop_sequence</th>\n",
       "      <th>gtfs_dataset_key</th>\n",
       "      <th>stop_id</th>\n",
       "      <th>loop_or_inlining</th>\n",
       "      <th>p50_mph</th>\n",
       "      <th>n_trips</th>\n",
       "      <th>p20_mph</th>\n",
       "      <th>p80_mph</th>\n",
       "      <th>time_of_day</th>\n",
       "      <th>_gtfs_dataset_name</th>\n",
       "      <th>trip_id</th>\n",
       "      <th>min_time</th>\n",
       "      <th>min_dist</th>\n",
       "      <th>max_time</th>\n",
       "      <th>max_dist</th>\n",
       "      <th>meters_elapsed</th>\n",
       "      <th>sec_elapsed</th>\n",
       "      <th>speed_mph</th>\n",
       "      <th>meters_cat</th>\n",
       "      <th>sec_cat</th>\n",
       "      <th>flag</th>\n",
       "      <th>add_5_minutes</th>\n",
       "      <th>subtract_5_minutes</th>\n",
       "    </tr>\n",
       "  </thead>\n",
       "  <tbody>\n",
       "    <tr>\n",
       "      <th>22092</th>\n",
       "      <td>21aedea4c0d05c570e042903cc62c9cf</td>\n",
       "      <td>200</td>\n",
       "      <td>bc21582ac1ad2b7de0647dfd5b76f67c</td>\n",
       "      <td>87503</td>\n",
       "      <td>0</td>\n",
       "      <td>14.17</td>\n",
       "      <td>4</td>\n",
       "      <td>5.35</td>\n",
       "      <td>28.37</td>\n",
       "      <td>all_day</td>\n",
       "      <td>Bay Area 511 Petaluma VehiclePositions</td>\n",
       "      <td>t120-sl9-p84-r1A</td>\n",
       "      <td>2023-07-12 16:00:38</td>\n",
       "      <td>61.66</td>\n",
       "      <td>2023-07-12 16:00:38</td>\n",
       "      <td>61.66</td>\n",
       "      <td>0.00</td>\n",
       "      <td>0.00</td>\n",
       "      <td>NaN</td>\n",
       "      <td>meters is low</td>\n",
       "      <td>sec is low</td>\n",
       "      <td>division by 0</td>\n",
       "      <td>2023-07-12 16:05:38</td>\n",
       "      <td>2023-07-12 15:55:38</td>\n",
       "    </tr>\n",
       "    <tr>\n",
       "      <th>22096</th>\n",
       "      <td>21aedea4c0d05c570e042903cc62c9cf</td>\n",
       "      <td>270</td>\n",
       "      <td>bc21582ac1ad2b7de0647dfd5b76f67c</td>\n",
       "      <td>87529</td>\n",
       "      <td>0</td>\n",
       "      <td>1.64</td>\n",
       "      <td>4</td>\n",
       "      <td>0.00</td>\n",
       "      <td>5.16</td>\n",
       "      <td>all_day</td>\n",
       "      <td>Bay Area 511 Petaluma VehiclePositions</td>\n",
       "      <td>t120-sl9-p84-r1A</td>\n",
       "      <td>2023-07-12 16:02:38</td>\n",
       "      <td>97.50</td>\n",
       "      <td>2023-07-12 16:02:38</td>\n",
       "      <td>97.50</td>\n",
       "      <td>0.00</td>\n",
       "      <td>0.00</td>\n",
       "      <td>NaN</td>\n",
       "      <td>meters is low</td>\n",
       "      <td>sec is low</td>\n",
       "      <td>division by 0</td>\n",
       "      <td>2023-07-12 16:07:38</td>\n",
       "      <td>2023-07-12 15:57:38</td>\n",
       "    </tr>\n",
       "    <tr>\n",
       "      <th>22100</th>\n",
       "      <td>21aedea4c0d05c570e042903cc62c9cf</td>\n",
       "      <td>360</td>\n",
       "      <td>bc21582ac1ad2b7de0647dfd5b76f67c</td>\n",
       "      <td>87508</td>\n",
       "      <td>0</td>\n",
       "      <td>4.48</td>\n",
       "      <td>7</td>\n",
       "      <td>1.52</td>\n",
       "      <td>13.83</td>\n",
       "      <td>all_day</td>\n",
       "      <td>Bay Area 511 Petaluma VehiclePositions</td>\n",
       "      <td>t120-sl9-p84-r1A</td>\n",
       "      <td>2023-07-12 16:04:38</td>\n",
       "      <td>43.85</td>\n",
       "      <td>2023-07-12 16:04:38</td>\n",
       "      <td>43.85</td>\n",
       "      <td>0.00</td>\n",
       "      <td>0.00</td>\n",
       "      <td>NaN</td>\n",
       "      <td>meters is low</td>\n",
       "      <td>sec is low</td>\n",
       "      <td>division by 0</td>\n",
       "      <td>2023-07-12 16:09:38</td>\n",
       "      <td>2023-07-12 15:59:38</td>\n",
       "    </tr>\n",
       "  </tbody>\n",
       "</table>\n",
       "</div>"
      ],
      "text/plain": [
       "                        shape_array_key  stop_sequence  \\\n",
       "22092  21aedea4c0d05c570e042903cc62c9cf            200   \n",
       "22096  21aedea4c0d05c570e042903cc62c9cf            270   \n",
       "22100  21aedea4c0d05c570e042903cc62c9cf            360   \n",
       "\n",
       "                       gtfs_dataset_key stop_id  loop_or_inlining  p50_mph  \\\n",
       "22092  bc21582ac1ad2b7de0647dfd5b76f67c   87503                 0    14.17   \n",
       "22096  bc21582ac1ad2b7de0647dfd5b76f67c   87529                 0     1.64   \n",
       "22100  bc21582ac1ad2b7de0647dfd5b76f67c   87508                 0     4.48   \n",
       "\n",
       "       n_trips  p20_mph  p80_mph time_of_day  \\\n",
       "22092        4     5.35    28.37     all_day   \n",
       "22096        4     0.00     5.16     all_day   \n",
       "22100        7     1.52    13.83     all_day   \n",
       "\n",
       "                           _gtfs_dataset_name           trip_id  \\\n",
       "22092  Bay Area 511 Petaluma VehiclePositions  t120-sl9-p84-r1A   \n",
       "22096  Bay Area 511 Petaluma VehiclePositions  t120-sl9-p84-r1A   \n",
       "22100  Bay Area 511 Petaluma VehiclePositions  t120-sl9-p84-r1A   \n",
       "\n",
       "                 min_time  min_dist            max_time  max_dist  \\\n",
       "22092 2023-07-12 16:00:38     61.66 2023-07-12 16:00:38     61.66   \n",
       "22096 2023-07-12 16:02:38     97.50 2023-07-12 16:02:38     97.50   \n",
       "22100 2023-07-12 16:04:38     43.85 2023-07-12 16:04:38     43.85   \n",
       "\n",
       "       meters_elapsed  sec_elapsed  speed_mph     meters_cat     sec_cat  \\\n",
       "22092            0.00         0.00        NaN  meters is low  sec is low   \n",
       "22096            0.00         0.00        NaN  meters is low  sec is low   \n",
       "22100            0.00         0.00        NaN  meters is low  sec is low   \n",
       "\n",
       "                flag       add_5_minutes  subtract_5_minutes  \n",
       "22092  division by 0 2023-07-12 16:05:38 2023-07-12 15:55:38  \n",
       "22096  division by 0 2023-07-12 16:07:38 2023-07-12 15:57:38  \n",
       "22100  division by 0 2023-07-12 16:09:38 2023-07-12 15:59:38  "
      ]
     },
     "execution_count": 231,
     "metadata": {},
     "output_type": "execute_result"
    }
   ],
   "source": [
    "test_divide_zero"
   ]
  },
  {
   "cell_type": "markdown",
   "id": "47fcc014-26db-480e-87c3-dfe056ef534c",
   "metadata": {},
   "source": [
    "##### Stage 3"
   ]
  },
  {
   "cell_type": "code",
   "execution_count": 257,
   "id": "749c61d8-fb39-41d3-836d-5d73354d464d",
   "metadata": {},
   "outputs": [
    {
     "data": {
      "text/html": [
       "<div>\n",
       "<style scoped>\n",
       "    .dataframe tbody tr th:only-of-type {\n",
       "        vertical-align: middle;\n",
       "    }\n",
       "\n",
       "    .dataframe tbody tr th {\n",
       "        vertical-align: top;\n",
       "    }\n",
       "\n",
       "    .dataframe thead th {\n",
       "        text-align: right;\n",
       "    }\n",
       "</style>\n",
       "<table border=\"1\" class=\"dataframe\">\n",
       "  <thead>\n",
       "    <tr style=\"text-align: right;\">\n",
       "      <th></th>\n",
       "      <th>shape_array_key</th>\n",
       "      <th>_gtfs_dataset_name</th>\n",
       "      <th>gtfs_dataset_key</th>\n",
       "      <th>trip_id</th>\n",
       "      <th>n_trips</th>\n",
       "    </tr>\n",
       "  </thead>\n",
       "  <tbody>\n",
       "    <tr>\n",
       "      <th>258348</th>\n",
       "      <td>e22aab342fa9be03e18fbbd8fed80659</td>\n",
       "      <td>Bay Area 511 Muni VehiclePositions</td>\n",
       "      <td>c0e3039da063db95ebabd3fe4ee611a4</td>\n",
       "      <td>11359079_M11</td>\n",
       "      <td>160</td>\n",
       "    </tr>\n",
       "    <tr>\n",
       "      <th>152408</th>\n",
       "      <td>82e4c946c08a695b0169ed9e3bc1d681</td>\n",
       "      <td>Bay Area 511 Muni VehiclePositions</td>\n",
       "      <td>c0e3039da063db95ebabd3fe4ee611a4</td>\n",
       "      <td>11384062_M11</td>\n",
       "      <td>155</td>\n",
       "    </tr>\n",
       "    <tr>\n",
       "      <th>64543</th>\n",
       "      <td>3cf4fab74c683cd8c936e5144e4a73d5</td>\n",
       "      <td>Bay Area 511 Muni VehiclePositions</td>\n",
       "      <td>c0e3039da063db95ebabd3fe4ee611a4</td>\n",
       "      <td>11355247_M11</td>\n",
       "      <td>149</td>\n",
       "    </tr>\n",
       "    <tr>\n",
       "      <th>11575</th>\n",
       "      <td>08f0692fdf4fd09673d6da595695acce</td>\n",
       "      <td>Bay Area 511 Muni VehiclePositions</td>\n",
       "      <td>c0e3039da063db95ebabd3fe4ee611a4</td>\n",
       "      <td>11348579_M11</td>\n",
       "      <td>149</td>\n",
       "    </tr>\n",
       "    <tr>\n",
       "      <th>60737</th>\n",
       "      <td>3852bca066b78935219798cf7a9472b0</td>\n",
       "      <td>Bay Area 511 Muni VehiclePositions</td>\n",
       "      <td>c0e3039da063db95ebabd3fe4ee611a4</td>\n",
       "      <td>11355137_M11</td>\n",
       "      <td>146</td>\n",
       "    </tr>\n",
       "  </tbody>\n",
       "</table>\n",
       "</div>"
      ],
      "text/plain": [
       "                         shape_array_key                  _gtfs_dataset_name  \\\n",
       "258348  e22aab342fa9be03e18fbbd8fed80659  Bay Area 511 Muni VehiclePositions   \n",
       "152408  82e4c946c08a695b0169ed9e3bc1d681  Bay Area 511 Muni VehiclePositions   \n",
       "64543   3cf4fab74c683cd8c936e5144e4a73d5  Bay Area 511 Muni VehiclePositions   \n",
       "11575   08f0692fdf4fd09673d6da595695acce  Bay Area 511 Muni VehiclePositions   \n",
       "60737   3852bca066b78935219798cf7a9472b0  Bay Area 511 Muni VehiclePositions   \n",
       "\n",
       "                        gtfs_dataset_key       trip_id  n_trips  \n",
       "258348  c0e3039da063db95ebabd3fe4ee611a4  11359079_M11      160  \n",
       "152408  c0e3039da063db95ebabd3fe4ee611a4  11384062_M11      155  \n",
       "64543   c0e3039da063db95ebabd3fe4ee611a4  11355247_M11      149  \n",
       "11575   c0e3039da063db95ebabd3fe4ee611a4  11348579_M11      149  \n",
       "60737   c0e3039da063db95ebabd3fe4ee611a4  11355137_M11      146  "
      ]
     },
     "execution_count": 257,
     "metadata": {},
     "output_type": "execute_result"
    }
   ],
   "source": [
    "shape_trips.head()"
   ]
  },
  {
   "cell_type": "code",
   "execution_count": 259,
   "id": "3d15dd01-3054-49e2-8eb3-d137e9177c32",
   "metadata": {},
   "outputs": [],
   "source": [
    "test_stg2 = stage3_df[stage3_df.trip_id == test_trip]"
   ]
  },
  {
   "cell_type": "code",
   "execution_count": 261,
   "id": "3e925769-b386-4c50-b09d-30b128e7f69f",
   "metadata": {},
   "outputs": [
    {
     "data": {
      "text/html": [
       "<div>\n",
       "<style scoped>\n",
       "    .dataframe tbody tr th:only-of-type {\n",
       "        vertical-align: middle;\n",
       "    }\n",
       "\n",
       "    .dataframe tbody tr th {\n",
       "        vertical-align: top;\n",
       "    }\n",
       "\n",
       "    .dataframe thead th {\n",
       "        text-align: right;\n",
       "    }\n",
       "</style>\n",
       "<table border=\"1\" class=\"dataframe\">\n",
       "  <thead>\n",
       "    <tr style=\"text-align: right;\">\n",
       "      <th></th>\n",
       "      <th>shape_array_key</th>\n",
       "      <th>stop_sequence</th>\n",
       "      <th>gtfs_dataset_key</th>\n",
       "      <th>stop_id</th>\n",
       "      <th>loop_or_inlining</th>\n",
       "      <th>p50_mph</th>\n",
       "      <th>n_trips</th>\n",
       "      <th>p20_mph</th>\n",
       "      <th>p80_mph</th>\n",
       "      <th>time_of_day</th>\n",
       "      <th>_gtfs_dataset_name</th>\n",
       "      <th>trip_id</th>\n",
       "      <th>min_time</th>\n",
       "      <th>min_dist</th>\n",
       "      <th>max_time</th>\n",
       "      <th>max_dist</th>\n",
       "      <th>meters_elapsed</th>\n",
       "      <th>sec_elapsed</th>\n",
       "      <th>speed_mph</th>\n",
       "      <th>meters_cat</th>\n",
       "      <th>sec_cat</th>\n",
       "      <th>flag</th>\n",
       "      <th>schedule_gtfs_dataset_key</th>\n",
       "      <th>trip_instance_key</th>\n",
       "      <th>location_timestamp</th>\n",
       "      <th>location_timestamp_local</th>\n",
       "      <th>pair</th>\n",
       "      <th>number_of_repeated_timestamps</th>\n",
       "      <th>number_of_repeated_locs</th>\n",
       "      <th>stage3_flag</th>\n",
       "    </tr>\n",
       "  </thead>\n",
       "  <tbody>\n",
       "    <tr>\n",
       "      <th>33485</th>\n",
       "      <td>21aedea4c0d05c570e042903cc62c9cf</td>\n",
       "      <td>200</td>\n",
       "      <td>bc21582ac1ad2b7de0647dfd5b76f67c</td>\n",
       "      <td>87503</td>\n",
       "      <td>0</td>\n",
       "      <td>14.17</td>\n",
       "      <td>4</td>\n",
       "      <td>5.35</td>\n",
       "      <td>28.37</td>\n",
       "      <td>all_day</td>\n",
       "      <td>Bay Area 511 Petaluma VehiclePositions</td>\n",
       "      <td>t120-sl9-p84-r1A</td>\n",
       "      <td>2023-07-12 16:00:38</td>\n",
       "      <td>61.66</td>\n",
       "      <td>2023-07-12 16:00:38</td>\n",
       "      <td>61.66</td>\n",
       "      <td>0.00</td>\n",
       "      <td>0.00</td>\n",
       "      <td>NaN</td>\n",
       "      <td>meters is low</td>\n",
       "      <td>sec is low</td>\n",
       "      <td>division by 0</td>\n",
       "      <td>5ecac12d61709ec34b5f30a34fdbab64</td>\n",
       "      <td>3016185266a75e3365d76454874cc68e</td>\n",
       "      <td>2023-07-12 23:00:38+00:00</td>\n",
       "      <td>2023-07-12 16:00:38</td>\n",
       "      <td>-122.63927/38.2568</td>\n",
       "      <td>NaN</td>\n",
       "      <td>NaN</td>\n",
       "      <td>check in stage 2</td>\n",
       "    </tr>\n",
       "    <tr>\n",
       "      <th>33490</th>\n",
       "      <td>21aedea4c0d05c570e042903cc62c9cf</td>\n",
       "      <td>270</td>\n",
       "      <td>bc21582ac1ad2b7de0647dfd5b76f67c</td>\n",
       "      <td>87529</td>\n",
       "      <td>0</td>\n",
       "      <td>1.64</td>\n",
       "      <td>4</td>\n",
       "      <td>0.00</td>\n",
       "      <td>5.16</td>\n",
       "      <td>all_day</td>\n",
       "      <td>Bay Area 511 Petaluma VehiclePositions</td>\n",
       "      <td>t120-sl9-p84-r1A</td>\n",
       "      <td>2023-07-12 16:02:38</td>\n",
       "      <td>97.50</td>\n",
       "      <td>2023-07-12 16:02:38</td>\n",
       "      <td>97.50</td>\n",
       "      <td>0.00</td>\n",
       "      <td>0.00</td>\n",
       "      <td>NaN</td>\n",
       "      <td>meters is low</td>\n",
       "      <td>sec is low</td>\n",
       "      <td>division by 0</td>\n",
       "      <td>5ecac12d61709ec34b5f30a34fdbab64</td>\n",
       "      <td>3016185266a75e3365d76454874cc68e</td>\n",
       "      <td>2023-07-12 23:02:38+00:00</td>\n",
       "      <td>2023-07-12 16:02:38</td>\n",
       "      <td>-122.64881/38.262207</td>\n",
       "      <td>NaN</td>\n",
       "      <td>NaN</td>\n",
       "      <td>check in stage 2</td>\n",
       "    </tr>\n",
       "    <tr>\n",
       "      <th>33494</th>\n",
       "      <td>21aedea4c0d05c570e042903cc62c9cf</td>\n",
       "      <td>360</td>\n",
       "      <td>bc21582ac1ad2b7de0647dfd5b76f67c</td>\n",
       "      <td>87508</td>\n",
       "      <td>0</td>\n",
       "      <td>4.48</td>\n",
       "      <td>7</td>\n",
       "      <td>1.52</td>\n",
       "      <td>13.83</td>\n",
       "      <td>all_day</td>\n",
       "      <td>Bay Area 511 Petaluma VehiclePositions</td>\n",
       "      <td>t120-sl9-p84-r1A</td>\n",
       "      <td>2023-07-12 16:04:38</td>\n",
       "      <td>43.85</td>\n",
       "      <td>2023-07-12 16:04:38</td>\n",
       "      <td>43.85</td>\n",
       "      <td>0.00</td>\n",
       "      <td>0.00</td>\n",
       "      <td>NaN</td>\n",
       "      <td>meters is low</td>\n",
       "      <td>sec is low</td>\n",
       "      <td>division by 0</td>\n",
       "      <td>5ecac12d61709ec34b5f30a34fdbab64</td>\n",
       "      <td>3016185266a75e3365d76454874cc68e</td>\n",
       "      <td>2023-07-12 23:04:38+00:00</td>\n",
       "      <td>2023-07-12 16:04:38</td>\n",
       "      <td>-122.65681/38.266685</td>\n",
       "      <td>NaN</td>\n",
       "      <td>NaN</td>\n",
       "      <td>check in stage 2</td>\n",
       "    </tr>\n",
       "  </tbody>\n",
       "</table>\n",
       "</div>"
      ],
      "text/plain": [
       "                        shape_array_key  stop_sequence  \\\n",
       "33485  21aedea4c0d05c570e042903cc62c9cf            200   \n",
       "33490  21aedea4c0d05c570e042903cc62c9cf            270   \n",
       "33494  21aedea4c0d05c570e042903cc62c9cf            360   \n",
       "\n",
       "                       gtfs_dataset_key stop_id  loop_or_inlining  p50_mph  \\\n",
       "33485  bc21582ac1ad2b7de0647dfd5b76f67c   87503                 0    14.17   \n",
       "33490  bc21582ac1ad2b7de0647dfd5b76f67c   87529                 0     1.64   \n",
       "33494  bc21582ac1ad2b7de0647dfd5b76f67c   87508                 0     4.48   \n",
       "\n",
       "       n_trips  p20_mph  p80_mph time_of_day  \\\n",
       "33485        4     5.35    28.37     all_day   \n",
       "33490        4     0.00     5.16     all_day   \n",
       "33494        7     1.52    13.83     all_day   \n",
       "\n",
       "                           _gtfs_dataset_name           trip_id  \\\n",
       "33485  Bay Area 511 Petaluma VehiclePositions  t120-sl9-p84-r1A   \n",
       "33490  Bay Area 511 Petaluma VehiclePositions  t120-sl9-p84-r1A   \n",
       "33494  Bay Area 511 Petaluma VehiclePositions  t120-sl9-p84-r1A   \n",
       "\n",
       "                 min_time  min_dist            max_time  max_dist  \\\n",
       "33485 2023-07-12 16:00:38     61.66 2023-07-12 16:00:38     61.66   \n",
       "33490 2023-07-12 16:02:38     97.50 2023-07-12 16:02:38     97.50   \n",
       "33494 2023-07-12 16:04:38     43.85 2023-07-12 16:04:38     43.85   \n",
       "\n",
       "       meters_elapsed  sec_elapsed  speed_mph     meters_cat     sec_cat  \\\n",
       "33485            0.00         0.00        NaN  meters is low  sec is low   \n",
       "33490            0.00         0.00        NaN  meters is low  sec is low   \n",
       "33494            0.00         0.00        NaN  meters is low  sec is low   \n",
       "\n",
       "                flag         schedule_gtfs_dataset_key  \\\n",
       "33485  division by 0  5ecac12d61709ec34b5f30a34fdbab64   \n",
       "33490  division by 0  5ecac12d61709ec34b5f30a34fdbab64   \n",
       "33494  division by 0  5ecac12d61709ec34b5f30a34fdbab64   \n",
       "\n",
       "                      trip_instance_key        location_timestamp  \\\n",
       "33485  3016185266a75e3365d76454874cc68e 2023-07-12 23:00:38+00:00   \n",
       "33490  3016185266a75e3365d76454874cc68e 2023-07-12 23:02:38+00:00   \n",
       "33494  3016185266a75e3365d76454874cc68e 2023-07-12 23:04:38+00:00   \n",
       "\n",
       "      location_timestamp_local                  pair  \\\n",
       "33485      2023-07-12 16:00:38    -122.63927/38.2568   \n",
       "33490      2023-07-12 16:02:38  -122.64881/38.262207   \n",
       "33494      2023-07-12 16:04:38  -122.65681/38.266685   \n",
       "\n",
       "       number_of_repeated_timestamps  number_of_repeated_locs  \\\n",
       "33485                            NaN                      NaN   \n",
       "33490                            NaN                      NaN   \n",
       "33494                            NaN                      NaN   \n",
       "\n",
       "            stage3_flag  \n",
       "33485  check in stage 2  \n",
       "33490  check in stage 2  \n",
       "33494  check in stage 2  "
      ]
     },
     "execution_count": 261,
     "metadata": {},
     "output_type": "execute_result"
    }
   ],
   "source": [
    "test_stg2"
   ]
  },
  {
   "cell_type": "markdown",
   "id": "883b20be-753a-4a9e-9564-fdd6ca7c6ce9",
   "metadata": {},
   "source": [
    "##### Usable"
   ]
  },
  {
   "cell_type": "code",
   "execution_count": 194,
   "id": "0760acf5-6d29-47f0-8248-2859aabb7e35",
   "metadata": {},
   "outputs": [],
   "source": [
    "test_usable_vp = usable_vp2[usable_vp2.trip_id == test_trip]"
   ]
  },
  {
   "cell_type": "code",
   "execution_count": 224,
   "id": "4606bebd-7a2a-446c-b8ba-64ea990724f9",
   "metadata": {},
   "outputs": [
    {
     "data": {
      "text/plain": [
       "(125, 11)"
      ]
     },
     "execution_count": 224,
     "metadata": {},
     "output_type": "execute_result"
    }
   ],
   "source": [
    "test_usable_vp.shape"
   ]
  },
  {
   "cell_type": "code",
   "execution_count": 246,
   "id": "2e88b371-6f6b-4219-aea6-4fe3f8657f70",
   "metadata": {
    "scrolled": true,
    "tags": []
   },
   "outputs": [],
   "source": [
    "# test_usable_vp[(test_usable_vp['location_timestamp_local'] > test_divide_zero.add_5_minutes.iloc[0]) | (test_usable_vp['location_timestamp_local'] < test_divide_zero.subtract_5_minutes.iloc[0])]"
   ]
  },
  {
   "cell_type": "markdown",
   "id": "677a5a30-86b1-4842-8fe0-d739228bf7fd",
   "metadata": {},
   "source": [
    "##### Pared"
   ]
  },
  {
   "cell_type": "code",
   "execution_count": 248,
   "id": "b39f0d0a-2faa-4ddb-8f9b-634bc9dde451",
   "metadata": {},
   "outputs": [],
   "source": [
    "# test_vpidx = list(test_usable_vp.vp_idx.unique())"
   ]
  },
  {
   "cell_type": "code",
   "execution_count": 166,
   "id": "5faca44d-4402-4c15-bda2-30835aeb7aaa",
   "metadata": {},
   "outputs": [],
   "source": [
    "PARED = STOP_SEG_DICT[\"stage3\"]"
   ]
  },
  {
   "cell_type": "code",
   "execution_count": 190,
   "id": "b7d3ed9c-7b83-4531-b402-b6b6a55e0f26",
   "metadata": {},
   "outputs": [],
   "source": [
    "normal = pd.read_parquet(f\"{SEGMENT_GCS}{PARED}_normal_{analysis_date}\")"
   ]
  },
  {
   "cell_type": "code",
   "execution_count": 191,
   "id": "2ba6100d-53cf-42ca-bdaf-ad9f81c8efba",
   "metadata": {},
   "outputs": [],
   "source": [
    "special = pd.read_parquet(f\"{SEGMENT_GCS}{PARED}_special_{analysis_date}\")"
   ]
  },
  {
   "cell_type": "code",
   "execution_count": 199,
   "id": "bdb437cf-b570-4c11-bc28-38d0b1194bf1",
   "metadata": {},
   "outputs": [],
   "source": [
    "all_pared = pd.concat([normal, special], axis=0)"
   ]
  },
  {
   "cell_type": "code",
   "execution_count": 206,
   "id": "028fcf5a-3c32-4684-bc92-27ef8d5b1783",
   "metadata": {},
   "outputs": [],
   "source": [
    "all_pared = all_pared.sort_values(['gtfs_dataset_key','shape_array_key','trip_id','stop_sequence']).reset_index()"
   ]
  },
  {
   "cell_type": "code",
   "execution_count": 288,
   "id": "f71dfa84-6935-4cd0-bd2f-5f6165558388",
   "metadata": {},
   "outputs": [],
   "source": [
    "test_pared =  all_pared[(all_pared.trip_id == test_trip)]"
   ]
  },
  {
   "cell_type": "code",
   "execution_count": 289,
   "id": "13b72e28-6075-4301-bd8a-fe75b828aca1",
   "metadata": {},
   "outputs": [
    {
     "data": {
      "text/plain": [
       "(26, 14)"
      ]
     },
     "execution_count": 289,
     "metadata": {},
     "output_type": "execute_result"
    }
   ],
   "source": [
    "test_pared.shape"
   ]
  },
  {
   "cell_type": "code",
   "execution_count": 263,
   "id": "466e5ec5-abf9-404c-bbfc-0a5bd94cd4ae",
   "metadata": {},
   "outputs": [
    {
     "data": {
      "text/plain": [
       "Index(['__null_dask_index__', 'vp_idx', '_gtfs_dataset_name',\n",
       "       'schedule_gtfs_dataset_key', 'trip_id', 'trip_instance_key',\n",
       "       'location_timestamp', 'location_timestamp_local', 'hour',\n",
       "       'gtfs_dataset_key', 'x', 'y', 'shape_array_key', 'stop_sequence'],\n",
       "      dtype='object')"
      ]
     },
     "execution_count": 263,
     "metadata": {},
     "output_type": "execute_result"
    }
   ],
   "source": [
    "test_pared.columns"
   ]
  },
  {
   "cell_type": "code",
   "execution_count": 269,
   "id": "433ac69c-dfd9-48fb-8e52-b23968c6e198",
   "metadata": {},
   "outputs": [
    {
     "name": "stderr",
     "output_type": "stream",
     "text": [
      "/tmp/ipykernel_587/543739408.py:2: SettingWithCopyWarning: \n",
      "A value is trying to be set on a copy of a slice from a DataFrame.\n",
      "Try using .loc[row_indexer,col_indexer] = value instead\n",
      "\n",
      "See the caveats in the documentation: https://pandas.pydata.org/pandas-docs/stable/user_guide/indexing.html#returning-a-view-versus-a-copy\n"
     ]
    }
   ],
   "source": [
    "# https://stackoverflow.com/questions/53065104/how-can-i-subtract-3-hours-from-a-datetime-in-a-pandas-dataframe-column\n",
    "test_pared['add_min'] = test_pared.location_timestamp_local + timedelta(minutes=5)"
   ]
  },
  {
   "cell_type": "code",
   "execution_count": 294,
   "id": "4bff3789-0459-412b-a8a6-8eb993b0507d",
   "metadata": {},
   "outputs": [],
   "source": [
    "test_one_seq = test_pared[test_pared.stop_sequence == 200]"
   ]
  },
  {
   "cell_type": "code",
   "execution_count": 306,
   "id": "0d5957d3-5055-4cb1-b282-d630e18022e8",
   "metadata": {},
   "outputs": [],
   "source": [
    "time_constraint = test_one_seq['location_timestamp_local'] - pd.to_timedelta(2, unit='min')"
   ]
  },
  {
   "cell_type": "code",
   "execution_count": 307,
   "id": "2150b0be-dfdc-4772-83b1-a8023608b289",
   "metadata": {},
   "outputs": [],
   "source": [
    "time_constraint = time_constraint.iloc[0]"
   ]
  },
  {
   "cell_type": "code",
   "execution_count": 308,
   "id": "54c31de2-07db-4e15-b975-ec88ec771478",
   "metadata": {},
   "outputs": [
    {
     "data": {
      "text/plain": [
       "Timestamp('2023-07-12 15:58:38')"
      ]
     },
     "execution_count": 308,
     "metadata": {},
     "output_type": "execute_result"
    }
   ],
   "source": [
    "time_constraint"
   ]
  },
  {
   "cell_type": "code",
   "execution_count": 313,
   "id": "9b6f24cf-029c-4bf3-8482-6835d75afdaa",
   "metadata": {},
   "outputs": [],
   "source": [
    "loc_constraint = test_one_seq.x.astype(str) + test_one_seq.y.astype(str)"
   ]
  },
  {
   "cell_type": "code",
   "execution_count": 316,
   "id": "238b8bf0-73b8-47fe-91c6-457168b05ab3",
   "metadata": {},
   "outputs": [],
   "source": [
    "# loc_constraint = time_constraint.location_.iloc[0]"
   ]
  },
  {
   "cell_type": "code",
   "execution_count": 309,
   "id": "ac85c6b3-3431-4276-a367-b2a85700774b",
   "metadata": {},
   "outputs": [],
   "source": [
    "intersect_df2 = test_pared[(test_pared.location_timestamp_local <= time_constraint) & (test_pared.]"
   ]
  },
  {
   "cell_type": "code",
   "execution_count": null,
   "id": "eeace865-4f49-4742-aeaf-9b44345c25e8",
   "metadata": {},
   "outputs": [],
   "source": [
    "intersect_df2 = intersect_df2.sort_values(['stop_sequence']"
   ]
  },
  {
   "cell_type": "code",
   "execution_count": 310,
   "id": "3a5508fe-e22c-41b2-ad66-b8142500496e",
   "metadata": {
    "scrolled": true,
    "tags": []
   },
   "outputs": [
    {
     "data": {
      "text/html": [
       "<div>\n",
       "<style scoped>\n",
       "    .dataframe tbody tr th:only-of-type {\n",
       "        vertical-align: middle;\n",
       "    }\n",
       "\n",
       "    .dataframe tbody tr th {\n",
       "        vertical-align: top;\n",
       "    }\n",
       "\n",
       "    .dataframe thead th {\n",
       "        text-align: right;\n",
       "    }\n",
       "</style>\n",
       "<table border=\"1\" class=\"dataframe\">\n",
       "  <thead>\n",
       "    <tr style=\"text-align: right;\">\n",
       "      <th></th>\n",
       "      <th>__null_dask_index__</th>\n",
       "      <th>vp_idx</th>\n",
       "      <th>_gtfs_dataset_name</th>\n",
       "      <th>schedule_gtfs_dataset_key</th>\n",
       "      <th>trip_id</th>\n",
       "      <th>trip_instance_key</th>\n",
       "      <th>location_timestamp</th>\n",
       "      <th>location_timestamp_local</th>\n",
       "      <th>hour</th>\n",
       "      <th>gtfs_dataset_key</th>\n",
       "      <th>x</th>\n",
       "      <th>y</th>\n",
       "      <th>shape_array_key</th>\n",
       "      <th>stop_sequence</th>\n",
       "    </tr>\n",
       "  </thead>\n",
       "  <tbody>\n",
       "    <tr>\n",
       "      <th>3874340</th>\n",
       "      <td>2445</td>\n",
       "      <td>11573412</td>\n",
       "      <td>Bay Area 511 Petaluma VehiclePositions</td>\n",
       "      <td>5ecac12d61709ec34b5f30a34fdbab64</td>\n",
       "      <td>t120-sl9-p84-r1A</td>\n",
       "      <td>3016185266a75e3365d76454874cc68e</td>\n",
       "      <td>2023-07-12 22:55:08+00:00</td>\n",
       "      <td>2023-07-12 15:55:08</td>\n",
       "      <td>15</td>\n",
       "      <td>bc21582ac1ad2b7de0647dfd5b76f67c</td>\n",
       "      <td>-122.62</td>\n",
       "      <td>38.25</td>\n",
       "      <td>21aedea4c0d05c570e042903cc62c9cf</td>\n",
       "      <td>0</td>\n",
       "    </tr>\n",
       "    <tr>\n",
       "      <th>3874341</th>\n",
       "      <td>17696</td>\n",
       "      <td>11573396</td>\n",
       "      <td>Bay Area 511 Petaluma VehiclePositions</td>\n",
       "      <td>5ecac12d61709ec34b5f30a34fdbab64</td>\n",
       "      <td>t120-sl9-p84-r1A</td>\n",
       "      <td>3016185266a75e3365d76454874cc68e</td>\n",
       "      <td>2023-07-12 22:49:53+00:00</td>\n",
       "      <td>2023-07-12 15:49:53</td>\n",
       "      <td>15</td>\n",
       "      <td>bc21582ac1ad2b7de0647dfd5b76f67c</td>\n",
       "      <td>-122.62</td>\n",
       "      <td>38.25</td>\n",
       "      <td>21aedea4c0d05c570e042903cc62c9cf</td>\n",
       "      <td>0</td>\n",
       "    </tr>\n",
       "    <tr>\n",
       "      <th>3874342</th>\n",
       "      <td>4222</td>\n",
       "      <td>11573396</td>\n",
       "      <td>Bay Area 511 Petaluma VehiclePositions</td>\n",
       "      <td>5ecac12d61709ec34b5f30a34fdbab64</td>\n",
       "      <td>t120-sl9-p84-r1A</td>\n",
       "      <td>3016185266a75e3365d76454874cc68e</td>\n",
       "      <td>2023-07-12 22:49:53+00:00</td>\n",
       "      <td>2023-07-12 15:49:53</td>\n",
       "      <td>15</td>\n",
       "      <td>bc21582ac1ad2b7de0647dfd5b76f67c</td>\n",
       "      <td>-122.62</td>\n",
       "      <td>38.25</td>\n",
       "      <td>21aedea4c0d05c570e042903cc62c9cf</td>\n",
       "      <td>105</td>\n",
       "    </tr>\n",
       "    <tr>\n",
       "      <th>3874343</th>\n",
       "      <td>47904</td>\n",
       "      <td>11573421</td>\n",
       "      <td>Bay Area 511 Petaluma VehiclePositions</td>\n",
       "      <td>5ecac12d61709ec34b5f30a34fdbab64</td>\n",
       "      <td>t120-sl9-p84-r1A</td>\n",
       "      <td>3016185266a75e3365d76454874cc68e</td>\n",
       "      <td>2023-07-12 22:58:08+00:00</td>\n",
       "      <td>2023-07-12 15:58:08</td>\n",
       "      <td>15</td>\n",
       "      <td>bc21582ac1ad2b7de0647dfd5b76f67c</td>\n",
       "      <td>-122.63</td>\n",
       "      <td>38.25</td>\n",
       "      <td>21aedea4c0d05c570e042903cc62c9cf</td>\n",
       "      <td>105</td>\n",
       "    </tr>\n",
       "    <tr>\n",
       "      <th>3874345</th>\n",
       "      <td>18821</td>\n",
       "      <td>11573421</td>\n",
       "      <td>Bay Area 511 Petaluma VehiclePositions</td>\n",
       "      <td>5ecac12d61709ec34b5f30a34fdbab64</td>\n",
       "      <td>t120-sl9-p84-r1A</td>\n",
       "      <td>3016185266a75e3365d76454874cc68e</td>\n",
       "      <td>2023-07-12 22:58:08+00:00</td>\n",
       "      <td>2023-07-12 15:58:08</td>\n",
       "      <td>15</td>\n",
       "      <td>bc21582ac1ad2b7de0647dfd5b76f67c</td>\n",
       "      <td>-122.63</td>\n",
       "      <td>38.25</td>\n",
       "      <td>21aedea4c0d05c570e042903cc62c9cf</td>\n",
       "      <td>120</td>\n",
       "    </tr>\n",
       "  </tbody>\n",
       "</table>\n",
       "</div>"
      ],
      "text/plain": [
       "         __null_dask_index__    vp_idx  \\\n",
       "3874340                 2445  11573412   \n",
       "3874341                17696  11573396   \n",
       "3874342                 4222  11573396   \n",
       "3874343                47904  11573421   \n",
       "3874345                18821  11573421   \n",
       "\n",
       "                             _gtfs_dataset_name  \\\n",
       "3874340  Bay Area 511 Petaluma VehiclePositions   \n",
       "3874341  Bay Area 511 Petaluma VehiclePositions   \n",
       "3874342  Bay Area 511 Petaluma VehiclePositions   \n",
       "3874343  Bay Area 511 Petaluma VehiclePositions   \n",
       "3874345  Bay Area 511 Petaluma VehiclePositions   \n",
       "\n",
       "                schedule_gtfs_dataset_key           trip_id  \\\n",
       "3874340  5ecac12d61709ec34b5f30a34fdbab64  t120-sl9-p84-r1A   \n",
       "3874341  5ecac12d61709ec34b5f30a34fdbab64  t120-sl9-p84-r1A   \n",
       "3874342  5ecac12d61709ec34b5f30a34fdbab64  t120-sl9-p84-r1A   \n",
       "3874343  5ecac12d61709ec34b5f30a34fdbab64  t120-sl9-p84-r1A   \n",
       "3874345  5ecac12d61709ec34b5f30a34fdbab64  t120-sl9-p84-r1A   \n",
       "\n",
       "                        trip_instance_key        location_timestamp  \\\n",
       "3874340  3016185266a75e3365d76454874cc68e 2023-07-12 22:55:08+00:00   \n",
       "3874341  3016185266a75e3365d76454874cc68e 2023-07-12 22:49:53+00:00   \n",
       "3874342  3016185266a75e3365d76454874cc68e 2023-07-12 22:49:53+00:00   \n",
       "3874343  3016185266a75e3365d76454874cc68e 2023-07-12 22:58:08+00:00   \n",
       "3874345  3016185266a75e3365d76454874cc68e 2023-07-12 22:58:08+00:00   \n",
       "\n",
       "        location_timestamp_local  hour                  gtfs_dataset_key  \\\n",
       "3874340      2023-07-12 15:55:08    15  bc21582ac1ad2b7de0647dfd5b76f67c   \n",
       "3874341      2023-07-12 15:49:53    15  bc21582ac1ad2b7de0647dfd5b76f67c   \n",
       "3874342      2023-07-12 15:49:53    15  bc21582ac1ad2b7de0647dfd5b76f67c   \n",
       "3874343      2023-07-12 15:58:08    15  bc21582ac1ad2b7de0647dfd5b76f67c   \n",
       "3874345      2023-07-12 15:58:08    15  bc21582ac1ad2b7de0647dfd5b76f67c   \n",
       "\n",
       "              x     y                   shape_array_key  stop_sequence  \n",
       "3874340 -122.62 38.25  21aedea4c0d05c570e042903cc62c9cf              0  \n",
       "3874341 -122.62 38.25  21aedea4c0d05c570e042903cc62c9cf              0  \n",
       "3874342 -122.62 38.25  21aedea4c0d05c570e042903cc62c9cf            105  \n",
       "3874343 -122.63 38.25  21aedea4c0d05c570e042903cc62c9cf            105  \n",
       "3874345 -122.63 38.25  21aedea4c0d05c570e042903cc62c9cf            120  "
      ]
     },
     "execution_count": 310,
     "metadata": {},
     "output_type": "execute_result"
    }
   ],
   "source": [
    "intersect_df2 "
   ]
  },
  {
   "cell_type": "code",
   "execution_count": 271,
   "id": "d8e3e4b8-ced6-4500-b91a-654bb3343a21",
   "metadata": {
    "scrolled": true,
    "tags": []
   },
   "outputs": [
    {
     "data": {
      "text/html": [
       "<div>\n",
       "<style scoped>\n",
       "    .dataframe tbody tr th:only-of-type {\n",
       "        vertical-align: middle;\n",
       "    }\n",
       "\n",
       "    .dataframe tbody tr th {\n",
       "        vertical-align: top;\n",
       "    }\n",
       "\n",
       "    .dataframe thead th {\n",
       "        text-align: right;\n",
       "    }\n",
       "</style>\n",
       "<table border=\"1\" class=\"dataframe\">\n",
       "  <thead>\n",
       "    <tr style=\"text-align: right;\">\n",
       "      <th></th>\n",
       "      <th>stop_sequence</th>\n",
       "      <th>location_timestamp_local</th>\n",
       "      <th>add_min</th>\n",
       "      <th>minus_min</th>\n",
       "      <th>x</th>\n",
       "      <th>y</th>\n",
       "    </tr>\n",
       "  </thead>\n",
       "  <tbody>\n",
       "    <tr>\n",
       "      <th>3874340</th>\n",
       "      <td>0</td>\n",
       "      <td>2023-07-12 15:55:08</td>\n",
       "      <td>2023-07-12 16:00:08</td>\n",
       "      <td>2023-07-12 15:50:08</td>\n",
       "      <td>-122.62</td>\n",
       "      <td>38.25</td>\n",
       "    </tr>\n",
       "    <tr>\n",
       "      <th>3874341</th>\n",
       "      <td>0</td>\n",
       "      <td>2023-07-12 15:49:53</td>\n",
       "      <td>2023-07-12 15:54:53</td>\n",
       "      <td>2023-07-12 15:44:53</td>\n",
       "      <td>-122.62</td>\n",
       "      <td>38.25</td>\n",
       "    </tr>\n",
       "    <tr>\n",
       "      <th>3874342</th>\n",
       "      <td>105</td>\n",
       "      <td>2023-07-12 15:49:53</td>\n",
       "      <td>2023-07-12 15:54:53</td>\n",
       "      <td>2023-07-12 15:44:53</td>\n",
       "      <td>-122.62</td>\n",
       "      <td>38.25</td>\n",
       "    </tr>\n",
       "    <tr>\n",
       "      <th>3874343</th>\n",
       "      <td>105</td>\n",
       "      <td>2023-07-12 15:58:08</td>\n",
       "      <td>2023-07-12 16:03:08</td>\n",
       "      <td>2023-07-12 15:53:08</td>\n",
       "      <td>-122.63</td>\n",
       "      <td>38.25</td>\n",
       "    </tr>\n",
       "    <tr>\n",
       "      <th>3874344</th>\n",
       "      <td>120</td>\n",
       "      <td>2023-07-12 15:58:53</td>\n",
       "      <td>2023-07-12 16:03:53</td>\n",
       "      <td>2023-07-12 15:53:53</td>\n",
       "      <td>-122.63</td>\n",
       "      <td>38.25</td>\n",
       "    </tr>\n",
       "    <tr>\n",
       "      <th>3874345</th>\n",
       "      <td>120</td>\n",
       "      <td>2023-07-12 15:58:08</td>\n",
       "      <td>2023-07-12 16:03:08</td>\n",
       "      <td>2023-07-12 15:53:08</td>\n",
       "      <td>-122.63</td>\n",
       "      <td>38.25</td>\n",
       "    </tr>\n",
       "    <tr>\n",
       "      <th>3874346</th>\n",
       "      <td>180</td>\n",
       "      <td>2023-07-12 15:59:08</td>\n",
       "      <td>2023-07-12 16:04:08</td>\n",
       "      <td>2023-07-12 15:54:08</td>\n",
       "      <td>-122.63</td>\n",
       "      <td>38.25</td>\n",
       "    </tr>\n",
       "    <tr>\n",
       "      <th>3874347</th>\n",
       "      <td>180</td>\n",
       "      <td>2023-07-12 16:00:08</td>\n",
       "      <td>2023-07-12 16:05:08</td>\n",
       "      <td>2023-07-12 15:55:08</td>\n",
       "      <td>-122.64</td>\n",
       "      <td>38.26</td>\n",
       "    </tr>\n",
       "    <tr>\n",
       "      <th>3874348</th>\n",
       "      <td>200</td>\n",
       "      <td>2023-07-12 16:00:38</td>\n",
       "      <td>2023-07-12 16:05:38</td>\n",
       "      <td>2023-07-12 15:55:38</td>\n",
       "      <td>-122.64</td>\n",
       "      <td>38.26</td>\n",
       "    </tr>\n",
       "    <tr>\n",
       "      <th>3874349</th>\n",
       "      <td>200</td>\n",
       "      <td>2023-07-12 16:00:38</td>\n",
       "      <td>2023-07-12 16:05:38</td>\n",
       "      <td>2023-07-12 15:55:38</td>\n",
       "      <td>-122.64</td>\n",
       "      <td>38.26</td>\n",
       "    </tr>\n",
       "    <tr>\n",
       "      <th>3874350</th>\n",
       "      <td>220</td>\n",
       "      <td>2023-07-12 16:00:53</td>\n",
       "      <td>2023-07-12 16:05:53</td>\n",
       "      <td>2023-07-12 15:55:53</td>\n",
       "      <td>-122.64</td>\n",
       "      <td>38.26</td>\n",
       "    </tr>\n",
       "    <tr>\n",
       "      <th>3874351</th>\n",
       "      <td>220</td>\n",
       "      <td>2023-07-12 16:01:08</td>\n",
       "      <td>2023-07-12 16:06:08</td>\n",
       "      <td>2023-07-12 15:56:08</td>\n",
       "      <td>-122.64</td>\n",
       "      <td>38.26</td>\n",
       "    </tr>\n",
       "    <tr>\n",
       "      <th>3874352</th>\n",
       "      <td>240</td>\n",
       "      <td>2023-07-12 16:02:08</td>\n",
       "      <td>2023-07-12 16:07:08</td>\n",
       "      <td>2023-07-12 15:57:08</td>\n",
       "      <td>-122.65</td>\n",
       "      <td>38.26</td>\n",
       "    </tr>\n",
       "    <tr>\n",
       "      <th>3874353</th>\n",
       "      <td>240</td>\n",
       "      <td>2023-07-12 16:01:38</td>\n",
       "      <td>2023-07-12 16:06:38</td>\n",
       "      <td>2023-07-12 15:56:38</td>\n",
       "      <td>-122.65</td>\n",
       "      <td>38.26</td>\n",
       "    </tr>\n",
       "    <tr>\n",
       "      <th>3874354</th>\n",
       "      <td>270</td>\n",
       "      <td>2023-07-12 16:02:38</td>\n",
       "      <td>2023-07-12 16:07:38</td>\n",
       "      <td>2023-07-12 15:57:38</td>\n",
       "      <td>-122.65</td>\n",
       "      <td>38.26</td>\n",
       "    </tr>\n",
       "    <tr>\n",
       "      <th>3874355</th>\n",
       "      <td>270</td>\n",
       "      <td>2023-07-12 16:02:38</td>\n",
       "      <td>2023-07-12 16:07:38</td>\n",
       "      <td>2023-07-12 15:57:38</td>\n",
       "      <td>-122.65</td>\n",
       "      <td>38.26</td>\n",
       "    </tr>\n",
       "    <tr>\n",
       "      <th>3874356</th>\n",
       "      <td>330</td>\n",
       "      <td>2023-07-12 16:02:53</td>\n",
       "      <td>2023-07-12 16:07:53</td>\n",
       "      <td>2023-07-12 15:57:53</td>\n",
       "      <td>-122.65</td>\n",
       "      <td>38.26</td>\n",
       "    </tr>\n",
       "    <tr>\n",
       "      <th>3874357</th>\n",
       "      <td>330</td>\n",
       "      <td>2023-07-12 16:04:08</td>\n",
       "      <td>2023-07-12 16:09:08</td>\n",
       "      <td>2023-07-12 15:59:08</td>\n",
       "      <td>-122.65</td>\n",
       "      <td>38.26</td>\n",
       "    </tr>\n",
       "    <tr>\n",
       "      <th>3874358</th>\n",
       "      <td>360</td>\n",
       "      <td>2023-07-12 16:04:38</td>\n",
       "      <td>2023-07-12 16:09:38</td>\n",
       "      <td>2023-07-12 15:59:38</td>\n",
       "      <td>-122.66</td>\n",
       "      <td>38.27</td>\n",
       "    </tr>\n",
       "    <tr>\n",
       "      <th>3874359</th>\n",
       "      <td>360</td>\n",
       "      <td>2023-07-12 16:04:38</td>\n",
       "      <td>2023-07-12 16:09:38</td>\n",
       "      <td>2023-07-12 15:59:38</td>\n",
       "      <td>-122.66</td>\n",
       "      <td>38.27</td>\n",
       "    </tr>\n",
       "    <tr>\n",
       "      <th>3874360</th>\n",
       "      <td>420</td>\n",
       "      <td>2023-07-12 16:06:54</td>\n",
       "      <td>2023-07-12 16:11:54</td>\n",
       "      <td>2023-07-12 16:01:54</td>\n",
       "      <td>-122.66</td>\n",
       "      <td>38.27</td>\n",
       "    </tr>\n",
       "    <tr>\n",
       "      <th>3874361</th>\n",
       "      <td>420</td>\n",
       "      <td>2023-07-12 16:04:53</td>\n",
       "      <td>2023-07-12 16:09:53</td>\n",
       "      <td>2023-07-12 15:59:53</td>\n",
       "      <td>-122.66</td>\n",
       "      <td>38.27</td>\n",
       "    </tr>\n",
       "    <tr>\n",
       "      <th>3874362</th>\n",
       "      <td>440</td>\n",
       "      <td>2023-07-12 16:06:54</td>\n",
       "      <td>2023-07-12 16:11:54</td>\n",
       "      <td>2023-07-12 16:01:54</td>\n",
       "      <td>-122.66</td>\n",
       "      <td>38.27</td>\n",
       "    </tr>\n",
       "    <tr>\n",
       "      <th>3874363</th>\n",
       "      <td>440</td>\n",
       "      <td>2023-07-12 16:07:54</td>\n",
       "      <td>2023-07-12 16:12:54</td>\n",
       "      <td>2023-07-12 16:02:54</td>\n",
       "      <td>-122.66</td>\n",
       "      <td>38.27</td>\n",
       "    </tr>\n",
       "    <tr>\n",
       "      <th>3874364</th>\n",
       "      <td>480</td>\n",
       "      <td>2023-07-12 16:10:39</td>\n",
       "      <td>2023-07-12 16:15:39</td>\n",
       "      <td>2023-07-12 16:05:39</td>\n",
       "      <td>-122.67</td>\n",
       "      <td>38.27</td>\n",
       "    </tr>\n",
       "    <tr>\n",
       "      <th>3874365</th>\n",
       "      <td>480</td>\n",
       "      <td>2023-07-12 16:07:54</td>\n",
       "      <td>2023-07-12 16:12:54</td>\n",
       "      <td>2023-07-12 16:02:54</td>\n",
       "      <td>-122.66</td>\n",
       "      <td>38.27</td>\n",
       "    </tr>\n",
       "  </tbody>\n",
       "</table>\n",
       "</div>"
      ],
      "text/plain": [
       "         stop_sequence location_timestamp_local             add_min  \\\n",
       "3874340              0      2023-07-12 15:55:08 2023-07-12 16:00:08   \n",
       "3874341              0      2023-07-12 15:49:53 2023-07-12 15:54:53   \n",
       "3874342            105      2023-07-12 15:49:53 2023-07-12 15:54:53   \n",
       "3874343            105      2023-07-12 15:58:08 2023-07-12 16:03:08   \n",
       "3874344            120      2023-07-12 15:58:53 2023-07-12 16:03:53   \n",
       "3874345            120      2023-07-12 15:58:08 2023-07-12 16:03:08   \n",
       "3874346            180      2023-07-12 15:59:08 2023-07-12 16:04:08   \n",
       "3874347            180      2023-07-12 16:00:08 2023-07-12 16:05:08   \n",
       "3874348            200      2023-07-12 16:00:38 2023-07-12 16:05:38   \n",
       "3874349            200      2023-07-12 16:00:38 2023-07-12 16:05:38   \n",
       "3874350            220      2023-07-12 16:00:53 2023-07-12 16:05:53   \n",
       "3874351            220      2023-07-12 16:01:08 2023-07-12 16:06:08   \n",
       "3874352            240      2023-07-12 16:02:08 2023-07-12 16:07:08   \n",
       "3874353            240      2023-07-12 16:01:38 2023-07-12 16:06:38   \n",
       "3874354            270      2023-07-12 16:02:38 2023-07-12 16:07:38   \n",
       "3874355            270      2023-07-12 16:02:38 2023-07-12 16:07:38   \n",
       "3874356            330      2023-07-12 16:02:53 2023-07-12 16:07:53   \n",
       "3874357            330      2023-07-12 16:04:08 2023-07-12 16:09:08   \n",
       "3874358            360      2023-07-12 16:04:38 2023-07-12 16:09:38   \n",
       "3874359            360      2023-07-12 16:04:38 2023-07-12 16:09:38   \n",
       "3874360            420      2023-07-12 16:06:54 2023-07-12 16:11:54   \n",
       "3874361            420      2023-07-12 16:04:53 2023-07-12 16:09:53   \n",
       "3874362            440      2023-07-12 16:06:54 2023-07-12 16:11:54   \n",
       "3874363            440      2023-07-12 16:07:54 2023-07-12 16:12:54   \n",
       "3874364            480      2023-07-12 16:10:39 2023-07-12 16:15:39   \n",
       "3874365            480      2023-07-12 16:07:54 2023-07-12 16:12:54   \n",
       "\n",
       "                  minus_min       x     y  \n",
       "3874340 2023-07-12 15:50:08 -122.62 38.25  \n",
       "3874341 2023-07-12 15:44:53 -122.62 38.25  \n",
       "3874342 2023-07-12 15:44:53 -122.62 38.25  \n",
       "3874343 2023-07-12 15:53:08 -122.63 38.25  \n",
       "3874344 2023-07-12 15:53:53 -122.63 38.25  \n",
       "3874345 2023-07-12 15:53:08 -122.63 38.25  \n",
       "3874346 2023-07-12 15:54:08 -122.63 38.25  \n",
       "3874347 2023-07-12 15:55:08 -122.64 38.26  \n",
       "3874348 2023-07-12 15:55:38 -122.64 38.26  \n",
       "3874349 2023-07-12 15:55:38 -122.64 38.26  \n",
       "3874350 2023-07-12 15:55:53 -122.64 38.26  \n",
       "3874351 2023-07-12 15:56:08 -122.64 38.26  \n",
       "3874352 2023-07-12 15:57:08 -122.65 38.26  \n",
       "3874353 2023-07-12 15:56:38 -122.65 38.26  \n",
       "3874354 2023-07-12 15:57:38 -122.65 38.26  \n",
       "3874355 2023-07-12 15:57:38 -122.65 38.26  \n",
       "3874356 2023-07-12 15:57:53 -122.65 38.26  \n",
       "3874357 2023-07-12 15:59:08 -122.65 38.26  \n",
       "3874358 2023-07-12 15:59:38 -122.66 38.27  \n",
       "3874359 2023-07-12 15:59:38 -122.66 38.27  \n",
       "3874360 2023-07-12 16:01:54 -122.66 38.27  \n",
       "3874361 2023-07-12 15:59:53 -122.66 38.27  \n",
       "3874362 2023-07-12 16:01:54 -122.66 38.27  \n",
       "3874363 2023-07-12 16:02:54 -122.66 38.27  \n",
       "3874364 2023-07-12 16:05:39 -122.67 38.27  \n",
       "3874365 2023-07-12 16:02:54 -122.66 38.27  "
      ]
     },
     "execution_count": 271,
     "metadata": {},
     "output_type": "execute_result"
    }
   ],
   "source": [
    "test_pared[['stop_sequence','location_timestamp_local','add_min', 'minus_min','x','y']]"
   ]
  },
  {
   "cell_type": "markdown",
   "id": "6ccd0ac3-2aa6-42ab-a121-6ba3ab7673b1",
   "metadata": {
    "tags": []
   },
   "source": [
    "### Investigate - Don't Delete"
   ]
  },
  {
   "cell_type": "code",
   "execution_count": null,
   "id": "5a9b018c-42ae-498c-b34e-c649591b7475",
   "metadata": {},
   "outputs": [],
   "source": [
    "stop"
   ]
  },
  {
   "cell_type": "code",
   "execution_count": 241,
   "id": "cab32ef3-cc66-40ce-aa19-59631734f539",
   "metadata": {},
   "outputs": [
    {
     "name": "stdout",
     "output_type": "stream",
     "text": [
      "2023-07-24 15:29:00.052445\n",
      "check in stage 2                   265623\n",
      "repeated timestamps & locations     23593\n",
      "repeated locations                     12\n",
      "Name: stage3_flag, dtype: int64\n",
      "Have to check 91.83861866762554 % of rows in stage 2\n",
      "Took 0:00:29.621392\n"
     ]
    }
   ],
   "source": [
    "# stage3_df = speed_utils.flag_stage3(divide_by_zero, analysis_date)"
   ]
  },
  {
   "cell_type": "code",
   "execution_count": null,
   "id": "3e4e731a-6e1d-47db-aa57-abf7c34b1bf9",
   "metadata": {},
   "outputs": [],
   "source": [
    "stage3_df.shape_array_key.nunique()"
   ]
  },
  {
   "cell_type": "code",
   "execution_count": null,
   "id": "fdafc453-0d9d-4e4a-9355-38e2ad76a1a4",
   "metadata": {},
   "outputs": [],
   "source": [
    "sort_by = ['_gtfs_dataset_name','shape_array_key','trip_id','stop_sequence']"
   ]
  },
  {
   "cell_type": "code",
   "execution_count": null,
   "id": "70996816-e94c-4906-838c-0d9e0fe3049e",
   "metadata": {},
   "outputs": [],
   "source": [
    "preview_cols = sort_by + ['stop_id','gtfs_dataset_key','location_timestamp_local','pair','stage3_flag']"
   ]
  },
  {
   "cell_type": "markdown",
   "id": "e52c8e35-2341-4aae-93f4-5555b54f1afb",
   "metadata": {},
   "source": [
    "#### Find routes with a lot of n_trips that need to be evaluated."
   ]
  },
  {
   "cell_type": "code",
   "execution_count": null,
   "id": "05b804be-9dba-425a-bbae-6ccd65c22885",
   "metadata": {},
   "outputs": [],
   "source": [
    "shape_trips.head(5)"
   ]
  },
  {
   "cell_type": "code",
   "execution_count": null,
   "id": "7387da40-015e-4da3-8136-9a8a6fe13614",
   "metadata": {},
   "outputs": [],
   "source": [
    "def count_all_pts_sjoin(flagged: pd.DataFrame, gtfs_key:str, trip:str, route:str):\n",
    "    unique_trips = speed_utils.import_unique_trips(\n",
    "    gtfs_key,trip,route)\n",
    "    \n",
    "    all_pts = speed_utils.import_vehicle_positions(\n",
    "    unique_trips, gtfs_key, trip)\n",
    "    \n",
    "    segs = speed_utils.import_segments(flagged,route, gtfs_key, trip)\n",
    "    \n",
    "    sjoin = speed_utils.sjoin_vp_segments(segs, all_pts)\n",
    "    print(f\"{all_pts.geometry.nunique()} points for all vehicle positions, {sjoin.geometry_left.nunique()} after sjoin.\")"
   ]
  },
  {
   "cell_type": "markdown",
   "id": "4a9bbe1e-02f6-44b3-bf8a-693d9f94da7a",
   "metadata": {},
   "source": [
    "#### Example Trip 1\n",
    "* Understanding the result from flag_stage3().\n",
    "* Looking at AC Transit: stop sequences 6 and 7 have different stop_ids. However, their time stamps and locations are the same.\n",
    "* It looks like they share the same point.\n",
    "* However, this isn't due to paring too many points: there just aren't enough points to choose from in the raw data.\n",
    "* Also sequence 2 is extremely long."
   ]
  },
  {
   "cell_type": "code",
   "execution_count": 242,
   "id": "f50dc43f-697f-400c-b598-968a59ac7452",
   "metadata": {},
   "outputs": [],
   "source": [
    "test_route1 = \"21aedea4c0d05c570e042903cc62c9cf\"\n",
    "test_gtfs_key1 = \"bc21582ac1ad2b7de0647dfd5b76f67c\"\n",
    "test_trip1 = \"t120-sl9-p84-r1A\""
   ]
  },
  {
   "cell_type": "code",
   "execution_count": 243,
   "id": "aef433dd-9019-439a-abb2-70e0a65bfb1f",
   "metadata": {},
   "outputs": [
    {
     "data": {
      "text/html": [
       "<div>\n",
       "<style scoped>\n",
       "    .dataframe tbody tr th:only-of-type {\n",
       "        vertical-align: middle;\n",
       "    }\n",
       "\n",
       "    .dataframe tbody tr th {\n",
       "        vertical-align: top;\n",
       "    }\n",
       "\n",
       "    .dataframe thead th {\n",
       "        text-align: right;\n",
       "    }\n",
       "</style>\n",
       "<table border=\"1\" class=\"dataframe\">\n",
       "  <thead>\n",
       "    <tr style=\"text-align: right;\">\n",
       "      <th></th>\n",
       "      <th>shape_array_key</th>\n",
       "      <th>all_trips</th>\n",
       "      <th>trips_with_zero</th>\n",
       "      <th>percent_of_trips_with_problematic_rows</th>\n",
       "    </tr>\n",
       "  </thead>\n",
       "  <tbody>\n",
       "    <tr>\n",
       "      <th>515</th>\n",
       "      <td>21aedea4c0d05c570e042903cc62c9cf</td>\n",
       "      <td>12</td>\n",
       "      <td>8.00</td>\n",
       "      <td>66.67</td>\n",
       "    </tr>\n",
       "  </tbody>\n",
       "</table>\n",
       "</div>"
      ],
      "text/plain": [
       "                      shape_array_key  all_trips  trips_with_zero  \\\n",
       "515  21aedea4c0d05c570e042903cc62c9cf         12             8.00   \n",
       "\n",
       "     percent_of_trips_with_problematic_rows  \n",
       "515                                   66.67  "
      ]
     },
     "execution_count": 243,
     "metadata": {},
     "output_type": "execute_result"
    }
   ],
   "source": [
    "# % of trips with problematic rows for this route\n",
    "trips_count[trips_count.shape_array_key == test_route1]"
   ]
  },
  {
   "cell_type": "code",
   "execution_count": 244,
   "id": "03312246-3ea0-42a7-a552-86196a61b0f9",
   "metadata": {
    "scrolled": true,
    "tags": []
   },
   "outputs": [
    {
     "data": {
      "text/html": [
       "<div>\n",
       "<style scoped>\n",
       "    .dataframe tbody tr th:only-of-type {\n",
       "        vertical-align: middle;\n",
       "    }\n",
       "\n",
       "    .dataframe tbody tr th {\n",
       "        vertical-align: top;\n",
       "    }\n",
       "\n",
       "    .dataframe thead th {\n",
       "        text-align: right;\n",
       "    }\n",
       "</style>\n",
       "<table border=\"1\" class=\"dataframe\">\n",
       "  <thead>\n",
       "    <tr style=\"text-align: right;\">\n",
       "      <th></th>\n",
       "      <th>stop_sequence</th>\n",
       "      <th>stop_id</th>\n",
       "      <th>meters_elapsed</th>\n",
       "      <th>sec_elapsed</th>\n",
       "    </tr>\n",
       "  </thead>\n",
       "  <tbody>\n",
       "    <tr>\n",
       "      <th>310990</th>\n",
       "      <td>0</td>\n",
       "      <td>87202</td>\n",
       "      <td>0.00</td>\n",
       "      <td>315.00</td>\n",
       "    </tr>\n",
       "    <tr>\n",
       "      <th>310997</th>\n",
       "      <td>105</td>\n",
       "      <td>87500</td>\n",
       "      <td>1028.17</td>\n",
       "      <td>495.00</td>\n",
       "    </tr>\n",
       "    <tr>\n",
       "      <th>311008</th>\n",
       "      <td>120</td>\n",
       "      <td>87501</td>\n",
       "      <td>151.97</td>\n",
       "      <td>45.00</td>\n",
       "    </tr>\n",
       "    <tr>\n",
       "      <th>311016</th>\n",
       "      <td>180</td>\n",
       "      <td>87502</td>\n",
       "      <td>343.48</td>\n",
       "      <td>60.00</td>\n",
       "    </tr>\n",
       "    <tr>\n",
       "      <th>311027</th>\n",
       "      <td>200</td>\n",
       "      <td>87503</td>\n",
       "      <td>0.00</td>\n",
       "      <td>0.00</td>\n",
       "    </tr>\n",
       "    <tr>\n",
       "      <th>311038</th>\n",
       "      <td>220</td>\n",
       "      <td>87504</td>\n",
       "      <td>0.00</td>\n",
       "      <td>15.00</td>\n",
       "    </tr>\n",
       "    <tr>\n",
       "      <th>311041</th>\n",
       "      <td>240</td>\n",
       "      <td>87505</td>\n",
       "      <td>148.67</td>\n",
       "      <td>30.00</td>\n",
       "    </tr>\n",
       "    <tr>\n",
       "      <th>311051</th>\n",
       "      <td>270</td>\n",
       "      <td>87529</td>\n",
       "      <td>0.00</td>\n",
       "      <td>0.00</td>\n",
       "    </tr>\n",
       "    <tr>\n",
       "      <th>311059</th>\n",
       "      <td>330</td>\n",
       "      <td>87507</td>\n",
       "      <td>329.83</td>\n",
       "      <td>75.00</td>\n",
       "    </tr>\n",
       "    <tr>\n",
       "      <th>311074</th>\n",
       "      <td>360</td>\n",
       "      <td>87508</td>\n",
       "      <td>0.00</td>\n",
       "      <td>0.00</td>\n",
       "    </tr>\n",
       "    <tr>\n",
       "      <th>311076</th>\n",
       "      <td>420</td>\n",
       "      <td>87509</td>\n",
       "      <td>490.72</td>\n",
       "      <td>121.00</td>\n",
       "    </tr>\n",
       "    <tr>\n",
       "      <th>311084</th>\n",
       "      <td>440</td>\n",
       "      <td>87530</td>\n",
       "      <td>209.59</td>\n",
       "      <td>60.00</td>\n",
       "    </tr>\n",
       "    <tr>\n",
       "      <th>311100</th>\n",
       "      <td>480</td>\n",
       "      <td>87511</td>\n",
       "      <td>244.18</td>\n",
       "      <td>165.00</td>\n",
       "    </tr>\n",
       "  </tbody>\n",
       "</table>\n",
       "</div>"
      ],
      "text/plain": [
       "        stop_sequence stop_id  meters_elapsed  sec_elapsed\n",
       "310990              0   87202            0.00       315.00\n",
       "310997            105   87500         1028.17       495.00\n",
       "311008            120   87501          151.97        45.00\n",
       "311016            180   87502          343.48        60.00\n",
       "311027            200   87503            0.00         0.00\n",
       "311038            220   87504            0.00        15.00\n",
       "311041            240   87505          148.67        30.00\n",
       "311051            270   87529            0.00         0.00\n",
       "311059            330   87507          329.83        75.00\n",
       "311074            360   87508            0.00         0.00\n",
       "311076            420   87509          490.72       121.00\n",
       "311084            440   87530          209.59        60.00\n",
       "311100            480   87511          244.18       165.00"
      ]
     },
     "execution_count": 244,
     "metadata": {},
     "output_type": "execute_result"
    }
   ],
   "source": [
    "speed_utils.original_df_rows(flagged, test_trip1, test_route1)"
   ]
  },
  {
   "cell_type": "code",
   "execution_count": 245,
   "id": "7a4ae095-d010-46b5-80b2-0bbe948f249f",
   "metadata": {},
   "outputs": [
    {
     "name": "stdout",
     "output_type": "stream",
     "text": [
      "ALL POINTS\n"
     ]
    },
    {
     "data": {
      "text/html": [
       "<div style=\"width:100%;\"><div style=\"position:relative;width:100%;height:0;padding-bottom:60%;\"><span style=\"color:#565656\">Make this Notebook Trusted to load map: File -> Trust Notebook</span><iframe src=\"about:blank\" style=\"position:absolute;width:100%;height:100%;left:0;top:0;border:none !important;\" data-html=%3C%21DOCTYPE%20html%3E%0A%3Chead%3E%20%20%20%20%0A%20%20%20%20%3Cmeta%20http-equiv%3D%22content-type%22%20content%3D%22text/html%3B%20charset%3DUTF-8%22%20/%3E%0A%20%20%20%20%0A%20%20%20%20%20%20%20%20%3Cscript%3E%0A%20%20%20%20%20%20%20%20%20%20%20%20L_NO_TOUCH%20%3D%20false%3B%0A%20%20%20%20%20%20%20%20%20%20%20%20L_DISABLE_3D%20%3D%20false%3B%0A%20%20%20%20%20%20%20%20%3C/script%3E%0A%20%20%20%20%0A%20%20%20%20%3Cstyle%3Ehtml%2C%20body%20%7Bwidth%3A%20100%25%3Bheight%3A%20100%25%3Bmargin%3A%200%3Bpadding%3A%200%3B%7D%3C/style%3E%0A%20%20%20%20%3Cstyle%3E%23map%20%7Bposition%3Aabsolute%3Btop%3A0%3Bbottom%3A0%3Bright%3A0%3Bleft%3A0%3B%7D%3C/style%3E%0A%20%20%20%20%3Cscript%20src%3D%22https%3A//cdn.jsdelivr.net/npm/leaflet%401.6.0/dist/leaflet.js%22%3E%3C/script%3E%0A%20%20%20%20%3Cscript%20src%3D%22https%3A//code.jquery.com/jquery-1.12.4.min.js%22%3E%3C/script%3E%0A%20%20%20%20%3Cscript%20src%3D%22https%3A//maxcdn.bootstrapcdn.com/bootstrap/3.2.0/js/bootstrap.min.js%22%3E%3C/script%3E%0A%20%20%20%20%3Cscript%20src%3D%22https%3A//cdnjs.cloudflare.com/ajax/libs/Leaflet.awesome-markers/2.0.2/leaflet.awesome-markers.js%22%3E%3C/script%3E%0A%20%20%20%20%3Clink%20rel%3D%22stylesheet%22%20href%3D%22https%3A//cdn.jsdelivr.net/npm/leaflet%401.6.0/dist/leaflet.css%22/%3E%0A%20%20%20%20%3Clink%20rel%3D%22stylesheet%22%20href%3D%22https%3A//maxcdn.bootstrapcdn.com/bootstrap/3.2.0/css/bootstrap.min.css%22/%3E%0A%20%20%20%20%3Clink%20rel%3D%22stylesheet%22%20href%3D%22https%3A//maxcdn.bootstrapcdn.com/bootstrap/3.2.0/css/bootstrap-theme.min.css%22/%3E%0A%20%20%20%20%3Clink%20rel%3D%22stylesheet%22%20href%3D%22https%3A//maxcdn.bootstrapcdn.com/font-awesome/4.6.3/css/font-awesome.min.css%22/%3E%0A%20%20%20%20%3Clink%20rel%3D%22stylesheet%22%20href%3D%22https%3A//cdnjs.cloudflare.com/ajax/libs/Leaflet.awesome-markers/2.0.2/leaflet.awesome-markers.css%22/%3E%0A%20%20%20%20%3Clink%20rel%3D%22stylesheet%22%20href%3D%22https%3A//cdn.jsdelivr.net/gh/python-visualization/folium/folium/templates/leaflet.awesome.rotate.min.css%22/%3E%0A%20%20%20%20%0A%20%20%20%20%20%20%20%20%20%20%20%20%3Cmeta%20name%3D%22viewport%22%20content%3D%22width%3Ddevice-width%2C%0A%20%20%20%20%20%20%20%20%20%20%20%20%20%20%20%20initial-scale%3D1.0%2C%20maximum-scale%3D1.0%2C%20user-scalable%3Dno%22%20/%3E%0A%20%20%20%20%20%20%20%20%20%20%20%20%3Cstyle%3E%0A%20%20%20%20%20%20%20%20%20%20%20%20%20%20%20%20%23map_c575f9a8af8c452bb1e2ab8dacb5e34e%20%7B%0A%20%20%20%20%20%20%20%20%20%20%20%20%20%20%20%20%20%20%20%20position%3A%20relative%3B%0A%20%20%20%20%20%20%20%20%20%20%20%20%20%20%20%20%20%20%20%20width%3A%20600.0px%3B%0A%20%20%20%20%20%20%20%20%20%20%20%20%20%20%20%20%20%20%20%20height%3A%20400.0px%3B%0A%20%20%20%20%20%20%20%20%20%20%20%20%20%20%20%20%20%20%20%20left%3A%200.0%25%3B%0A%20%20%20%20%20%20%20%20%20%20%20%20%20%20%20%20%20%20%20%20top%3A%200.0%25%3B%0A%20%20%20%20%20%20%20%20%20%20%20%20%20%20%20%20%7D%0A%20%20%20%20%20%20%20%20%20%20%20%20%3C/style%3E%0A%20%20%20%20%20%20%20%20%0A%20%20%20%20%0A%20%20%20%20%20%20%20%20%20%20%20%20%20%20%20%20%20%20%20%20%3Cstyle%3E%0A%20%20%20%20%20%20%20%20%20%20%20%20%20%20%20%20%20%20%20%20%20%20%20%20.foliumtooltip%20%7B%0A%20%20%20%20%20%20%20%20%20%20%20%20%20%20%20%20%20%20%20%20%20%20%20%20%20%20%20%20%0A%20%20%20%20%20%20%20%20%20%20%20%20%20%20%20%20%20%20%20%20%20%20%20%20%7D%0A%20%20%20%20%20%20%20%20%20%20%20%20%20%20%20%20%20%20%20%20%20%20%20.foliumtooltip%20table%7B%0A%20%20%20%20%20%20%20%20%20%20%20%20%20%20%20%20%20%20%20%20%20%20%20%20%20%20%20%20margin%3A%20auto%3B%0A%20%20%20%20%20%20%20%20%20%20%20%20%20%20%20%20%20%20%20%20%20%20%20%20%7D%0A%20%20%20%20%20%20%20%20%20%20%20%20%20%20%20%20%20%20%20%20%20%20%20%20.foliumtooltip%20tr%7B%0A%20%20%20%20%20%20%20%20%20%20%20%20%20%20%20%20%20%20%20%20%20%20%20%20%20%20%20%20text-align%3A%20left%3B%0A%20%20%20%20%20%20%20%20%20%20%20%20%20%20%20%20%20%20%20%20%20%20%20%20%7D%0A%20%20%20%20%20%20%20%20%20%20%20%20%20%20%20%20%20%20%20%20%20%20%20%20.foliumtooltip%20th%7B%0A%20%20%20%20%20%20%20%20%20%20%20%20%20%20%20%20%20%20%20%20%20%20%20%20%20%20%20%20padding%3A%202px%3B%20padding-right%3A%208px%3B%0A%20%20%20%20%20%20%20%20%20%20%20%20%20%20%20%20%20%20%20%20%20%20%20%20%7D%0A%20%20%20%20%20%20%20%20%20%20%20%20%20%20%20%20%20%20%20%20%3C/style%3E%0A%20%20%20%20%20%20%20%20%20%20%20%20%0A%20%20%20%20%0A%20%20%20%20%20%20%20%20%20%20%20%20%20%20%20%20%20%20%20%20%3Cstyle%3E%0A%20%20%20%20%20%20%20%20%20%20%20%20%20%20%20%20%20%20%20%20%20%20%20%20.foliumtooltip%20%7B%0A%20%20%20%20%20%20%20%20%20%20%20%20%20%20%20%20%20%20%20%20%20%20%20%20%20%20%20%20%0A%20%20%20%20%20%20%20%20%20%20%20%20%20%20%20%20%20%20%20%20%20%20%20%20%7D%0A%20%20%20%20%20%20%20%20%20%20%20%20%20%20%20%20%20%20%20%20%20%20%20.foliumtooltip%20table%7B%0A%20%20%20%20%20%20%20%20%20%20%20%20%20%20%20%20%20%20%20%20%20%20%20%20%20%20%20%20margin%3A%20auto%3B%0A%20%20%20%20%20%20%20%20%20%20%20%20%20%20%20%20%20%20%20%20%20%20%20%20%7D%0A%20%20%20%20%20%20%20%20%20%20%20%20%20%20%20%20%20%20%20%20%20%20%20%20.foliumtooltip%20tr%7B%0A%20%20%20%20%20%20%20%20%20%20%20%20%20%20%20%20%20%20%20%20%20%20%20%20%20%20%20%20text-align%3A%20left%3B%0A%20%20%20%20%20%20%20%20%20%20%20%20%20%20%20%20%20%20%20%20%20%20%20%20%7D%0A%20%20%20%20%20%20%20%20%20%20%20%20%20%20%20%20%20%20%20%20%20%20%20%20.foliumtooltip%20th%7B%0A%20%20%20%20%20%20%20%20%20%20%20%20%20%20%20%20%20%20%20%20%20%20%20%20%20%20%20%20padding%3A%202px%3B%20padding-right%3A%208px%3B%0A%20%20%20%20%20%20%20%20%20%20%20%20%20%20%20%20%20%20%20%20%20%20%20%20%7D%0A%20%20%20%20%20%20%20%20%20%20%20%20%20%20%20%20%20%20%20%20%3C/style%3E%0A%20%20%20%20%20%20%20%20%20%20%20%20%0A%3C/head%3E%0A%3Cbody%3E%20%20%20%20%0A%20%20%20%20%0A%20%20%20%20%20%20%20%20%20%20%20%20%3Cdiv%20class%3D%22folium-map%22%20id%3D%22map_c575f9a8af8c452bb1e2ab8dacb5e34e%22%20%3E%3C/div%3E%0A%20%20%20%20%20%20%20%20%0A%3C/body%3E%0A%3Cscript%3E%20%20%20%20%0A%20%20%20%20%0A%20%20%20%20%20%20%20%20%20%20%20%20var%20map_c575f9a8af8c452bb1e2ab8dacb5e34e%20%3D%20L.map%28%0A%20%20%20%20%20%20%20%20%20%20%20%20%20%20%20%20%22map_c575f9a8af8c452bb1e2ab8dacb5e34e%22%2C%0A%20%20%20%20%20%20%20%20%20%20%20%20%20%20%20%20%7B%0A%20%20%20%20%20%20%20%20%20%20%20%20%20%20%20%20%20%20%20%20center%3A%20%5B38.26179741279877%2C%20-122.64549515041911%5D%2C%0A%20%20%20%20%20%20%20%20%20%20%20%20%20%20%20%20%20%20%20%20crs%3A%20L.CRS.EPSG3857%2C%0A%20%20%20%20%20%20%20%20%20%20%20%20%20%20%20%20%20%20%20%20zoom%3A%2010%2C%0A%20%20%20%20%20%20%20%20%20%20%20%20%20%20%20%20%20%20%20%20zoomControl%3A%20true%2C%0A%20%20%20%20%20%20%20%20%20%20%20%20%20%20%20%20%20%20%20%20preferCanvas%3A%20false%2C%0A%20%20%20%20%20%20%20%20%20%20%20%20%20%20%20%20%7D%0A%20%20%20%20%20%20%20%20%20%20%20%20%29%3B%0A%20%20%20%20%20%20%20%20%20%20%20%20L.control.scale%28%29.addTo%28map_c575f9a8af8c452bb1e2ab8dacb5e34e%29%3B%0A%0A%20%20%20%20%20%20%20%20%20%20%20%20%0A%0A%20%20%20%20%20%20%20%20%0A%20%20%20%20%0A%20%20%20%20%20%20%20%20%20%20%20%20var%20tile_layer_6acaae7a7c4b4c37bb70d927cb416517%20%3D%20L.tileLayer%28%0A%20%20%20%20%20%20%20%20%20%20%20%20%20%20%20%20%22https%3A//%7Bs%7D.tile.openstreetmap.org/%7Bz%7D/%7Bx%7D/%7By%7D.png%22%2C%0A%20%20%20%20%20%20%20%20%20%20%20%20%20%20%20%20%7B%22attribution%22%3A%20%22Data%20by%20%5Cu0026copy%3B%20%5Cu003ca%20href%3D%5C%22http%3A//openstreetmap.org%5C%22%5Cu003eOpenStreetMap%5Cu003c/a%5Cu003e%2C%20under%20%5Cu003ca%20href%3D%5C%22http%3A//www.openstreetmap.org/copyright%5C%22%5Cu003eODbL%5Cu003c/a%5Cu003e.%22%2C%20%22detectRetina%22%3A%20false%2C%20%22maxNativeZoom%22%3A%2018%2C%20%22maxZoom%22%3A%2018%2C%20%22minZoom%22%3A%200%2C%20%22noWrap%22%3A%20false%2C%20%22opacity%22%3A%201%2C%20%22subdomains%22%3A%20%22abc%22%2C%20%22tms%22%3A%20false%7D%0A%20%20%20%20%20%20%20%20%20%20%20%20%29.addTo%28map_c575f9a8af8c452bb1e2ab8dacb5e34e%29%3B%0A%20%20%20%20%20%20%20%20%0A%20%20%20%20%0A%20%20%20%20%20%20%20%20%20%20%20%20map_c575f9a8af8c452bb1e2ab8dacb5e34e.fitBounds%28%0A%20%20%20%20%20%20%20%20%20%20%20%20%20%20%20%20%5B%5B38.2469653226834%2C%20-122.6697105729241%5D%2C%20%5B38.27662950291414%2C%20-122.62127972791411%5D%5D%2C%0A%20%20%20%20%20%20%20%20%20%20%20%20%20%20%20%20%7B%7D%0A%20%20%20%20%20%20%20%20%20%20%20%20%29%3B%0A%20%20%20%20%20%20%20%20%0A%20%20%20%20%0A%20%20%20%20%20%20%20%20function%20geo_json_9cf2781c8e3a454aad3fcfe20570077d_styler%28feature%29%20%7B%0A%20%20%20%20%20%20%20%20%20%20%20%20switch%28feature.id%29%20%7B%0A%20%20%20%20%20%20%20%20%20%20%20%20%20%20%20%20default%3A%0A%20%20%20%20%20%20%20%20%20%20%20%20%20%20%20%20%20%20%20%20return%20%7B%22fillOpacity%22%3A%200.5%2C%20%22weight%22%3A%202%7D%3B%0A%20%20%20%20%20%20%20%20%20%20%20%20%7D%0A%20%20%20%20%20%20%20%20%7D%0A%20%20%20%20%20%20%20%20function%20geo_json_9cf2781c8e3a454aad3fcfe20570077d_highlighter%28feature%29%20%7B%0A%20%20%20%20%20%20%20%20%20%20%20%20switch%28feature.id%29%20%7B%0A%20%20%20%20%20%20%20%20%20%20%20%20%20%20%20%20default%3A%0A%20%20%20%20%20%20%20%20%20%20%20%20%20%20%20%20%20%20%20%20return%20%7B%22fillOpacity%22%3A%200.75%7D%3B%0A%20%20%20%20%20%20%20%20%20%20%20%20%7D%0A%20%20%20%20%20%20%20%20%7D%0A%20%20%20%20%20%20%20%20function%20geo_json_9cf2781c8e3a454aad3fcfe20570077d_pointToLayer%28feature%2C%20latlng%29%20%7B%0A%20%20%20%20%20%20%20%20%20%20%20%20var%20opts%20%3D%20%7B%22bubblingMouseEvents%22%3A%20true%2C%20%22color%22%3A%20%22%233388ff%22%2C%20%22dashArray%22%3A%20null%2C%20%22dashOffset%22%3A%20null%2C%20%22fill%22%3A%20true%2C%20%22fillColor%22%3A%20%22%233388ff%22%2C%20%22fillOpacity%22%3A%200.2%2C%20%22fillRule%22%3A%20%22evenodd%22%2C%20%22lineCap%22%3A%20%22round%22%2C%20%22lineJoin%22%3A%20%22round%22%2C%20%22opacity%22%3A%201.0%2C%20%22radius%22%3A%202%2C%20%22stroke%22%3A%20true%2C%20%22weight%22%3A%203%7D%3B%0A%20%20%20%20%20%20%20%20%20%20%20%20%0A%20%20%20%20%20%20%20%20%20%20%20%20let%20style%20%3D%20geo_json_9cf2781c8e3a454aad3fcfe20570077d_styler%28feature%29%0A%20%20%20%20%20%20%20%20%20%20%20%20Object.assign%28opts%2C%20style%29%0A%20%20%20%20%20%20%20%20%20%20%20%20%0A%20%20%20%20%20%20%20%20%20%20%20%20return%20new%20L.CircleMarker%28latlng%2C%20opts%29%0A%20%20%20%20%20%20%20%20%7D%0A%0A%20%20%20%20%20%20%20%20function%20geo_json_9cf2781c8e3a454aad3fcfe20570077d_onEachFeature%28feature%2C%20layer%29%20%7B%0A%20%20%20%20%20%20%20%20%20%20%20%20layer.on%28%7B%0A%20%20%20%20%20%20%20%20%20%20%20%20%20%20%20%20mouseout%3A%20function%28e%29%20%7B%0A%20%20%20%20%20%20%20%20%20%20%20%20%20%20%20%20%20%20%20%20if%28typeof%20e.target.setStyle%20%3D%3D%3D%20%22function%22%29%7B%0A%20%20%20%20%20%20%20%20%20%20%20%20%20%20%20%20%20%20%20%20%20%20%20%20geo_json_9cf2781c8e3a454aad3fcfe20570077d.resetStyle%28e.target%29%3B%0A%20%20%20%20%20%20%20%20%20%20%20%20%20%20%20%20%20%20%20%20%7D%0A%20%20%20%20%20%20%20%20%20%20%20%20%20%20%20%20%7D%2C%0A%20%20%20%20%20%20%20%20%20%20%20%20%20%20%20%20mouseover%3A%20function%28e%29%20%7B%0A%20%20%20%20%20%20%20%20%20%20%20%20%20%20%20%20%20%20%20%20if%28typeof%20e.target.setStyle%20%3D%3D%3D%20%22function%22%29%7B%0A%20%20%20%20%20%20%20%20%20%20%20%20%20%20%20%20%20%20%20%20%20%20%20%20const%20highlightStyle%20%3D%20geo_json_9cf2781c8e3a454aad3fcfe20570077d_highlighter%28e.target.feature%29%0A%20%20%20%20%20%20%20%20%20%20%20%20%20%20%20%20%20%20%20%20%20%20%20%20e.target.setStyle%28highlightStyle%29%3B%0A%20%20%20%20%20%20%20%20%20%20%20%20%20%20%20%20%20%20%20%20%7D%0A%20%20%20%20%20%20%20%20%20%20%20%20%20%20%20%20%7D%2C%0A%20%20%20%20%20%20%20%20%20%20%20%20%7D%29%3B%0A%20%20%20%20%20%20%20%20%7D%3B%0A%20%20%20%20%20%20%20%20var%20geo_json_9cf2781c8e3a454aad3fcfe20570077d%20%3D%20L.geoJson%28null%2C%20%7B%0A%20%20%20%20%20%20%20%20%20%20%20%20%20%20%20%20onEachFeature%3A%20geo_json_9cf2781c8e3a454aad3fcfe20570077d_onEachFeature%2C%0A%20%20%20%20%20%20%20%20%20%20%20%20%0A%20%20%20%20%20%20%20%20%20%20%20%20%20%20%20%20style%3A%20geo_json_9cf2781c8e3a454aad3fcfe20570077d_styler%2C%0A%20%20%20%20%20%20%20%20%20%20%20%20%20%20%20%20pointToLayer%3A%20geo_json_9cf2781c8e3a454aad3fcfe20570077d_pointToLayer%0A%20%20%20%20%20%20%20%20%7D%29%3B%0A%0A%20%20%20%20%20%20%20%20function%20geo_json_9cf2781c8e3a454aad3fcfe20570077d_add%20%28data%29%20%7B%0A%20%20%20%20%20%20%20%20%20%20%20%20geo_json_9cf2781c8e3a454aad3fcfe20570077d%0A%20%20%20%20%20%20%20%20%20%20%20%20%20%20%20%20.addData%28data%29%0A%20%20%20%20%20%20%20%20%20%20%20%20%20%20%20%20.addTo%28map_c575f9a8af8c452bb1e2ab8dacb5e34e%29%3B%0A%20%20%20%20%20%20%20%20%7D%0A%20%20%20%20%20%20%20%20%20%20%20%20geo_json_9cf2781c8e3a454aad3fcfe20570077d_add%28%7B%22bbox%22%3A%20%5B-122.6697105729241%2C%2038.2469653226834%2C%20-122.62127972791411%2C%2038.27662950291414%5D%2C%20%22features%22%3A%20%5B%7B%22bbox%22%3A%20%5B-122.62208027199242%2C%2038.2477752717634%2C%20-122.62127972791411%2C%2038.24840472824704%5D%2C%20%22geometry%22%3A%20%7B%22coordinates%22%3A%20%5B%5B%5B-122.62127972791411%2C%2038.24809870453459%5D%2C%20%5B-122.62128057032277%2C%2038.24806781385725%5D%2C%20%5B-122.62128525945415%2C%2038.24803713685097%5D%2C%20%5B-122.62129375014474%2C%2038.24800696895171%5D%2C%20%5B-122.62130596062016%2C%2038.24797760069185%5D%2C%20%5B-122.62132177328306%2C%2038.247949314902904%5D%2C%20%5B-122.62134103584557%2C%2038.24792238399094%5D%2C%20%5B-122.62136356279628%2C%2038.24789706731381%5D%2C%20%5B-122.62138913718664%2C%2038.24787360868306%5D%2C%20%5B-122.62141751272057%2C%2038.24785223401643%5D%2C%20%5B-122.62144841612638%2C%2038.247833149161615%5D%2C%20%5B-122.6214815497885%2C%2038.24781653791445%5D%2C%20%5B-122.6215165946137%2C%2038.24780256024856%5D%2C%20%5B-122.62155321310395%2C%2038.24779135077497%5D%2C%20%5B-122.62159105260666%2C%2038.24778301744582%5D%2C%20%5B-122.62162974871087%2C%2038.247777640514556%5D%2C%20%5B-122.6216689287564%2C%2038.2477752717634%5D%2C%20%5B-122.62170821542273%2C%2038.24777593400438%5D%2C%20%5B-122.6217472303625%2C%2038.247779620859845%5D%2C%20%5B-122.62178559784522%2C%2038.24778629682384%5D%2C%20%5B-122.62182294837534%2C%2038.24779589760393%5D%2C%20%5B-122.62185892225068%2C%2038.24780833074051%5D%2C%20%5B-122.62189317302644%2C%2038.24782347649704%5D%2C%20%5B-122.62192537085136%2C%2038.24784118901321%5D%2C%20%5B-122.62195520564444%2C%2038.24786129770968%5D%2C%20%5B-122.62198239008102%2C%2038.247883608930536%5D%2C%20%5B-122.62200666235995%2C%2038.24790790780836%5D%2C%20%5B-122.62202778872475%2C%2038.247933960333526%5D%2C%20%5B-122.62204556571496%2C%2038.247961515607784%5D%2C%20%5B-122.62205982212566%2C%2038.247990308260185%5D%2C%20%5B-122.62207042065629%2C%2038.248020061003146%5D%2C%20%5B-122.62207725923312%2C%2038.248050487302365%5D%2C%20%5B-122.62208027199242%2C%2038.24808129413665%5D%2C%20%5B-122.62207942991498%2C%2038.24811218481962%5D%2C%20%5B-122.62207474110569%2C%2038.24814286185702%5D%2C%20%5B-122.6220662507157%2C%2038.24817302981181%5D%2C%20%5B-122.62205404050779%2C%2038.24820239814922%5D%2C%20%5B-122.62203822806904%2C%2038.248230684035086%5D%2C%20%5B-122.62201896567873%2C%2038.24825761505943%5D%2C%20%5B-122.62199643884168%2C%2038.24828293186007%5D%2C%20%5B-122.621970864502%2C%2038.24830639062069%5D%2C%20%5B-122.62194248895388%2C%2038.24832776541871%5D%2C%20%5B-122.62191158546949%2C%2038.24834685040118%5D%2C%20%5B-122.62187845166747%2C%2038.248363461767575%5D%2C%20%5B-122.62184340664645%2C%2038.248377439539524%5D%2C%20%5B-122.62180678791194%2C%2038.248388649102026%5D%2C%20%5B-122.62176894812592%2C%2038.24839698249945%5D%2C%20%5B-122.62173025171025%2C%2038.248402359475755%5D%2C%20%5B-122.6216910713371%2C%2038.24840472824704%5D%2C%20%5B-122.62165178433956%2C%2038.24840406600045%5D%2C%20%5B-122.62161276907769%2C%2038.248400379113775%5D%2C%20%5B-122.6215744012944%2C%2038.24839370309437%5D%2C%20%5B-122.62153705049676%2C%2038.24838410223662%5D%2C%20%5B-122.62150107639724%2C%2038.248371669003184%5D%2C%20%5B-122.62146682544928%2C%2038.24835652313426%5D%2C%20%5B-122.62143462751072%2C%2038.24833881049457%5D%2C%20%5B-122.62140479266695%2C%2038.248318701668175%5D%2C%20%5B-122.62137760824457%2C%2038.248296390316035%5D%2C%20%5B-122.62135333604421%2C%2038.24827209131051%5D%2C%20%5B-122.62133220981929%2C%2038.248246038666075%5D%2C%20%5B-122.62131443302492%2C%2038.24821848328579%5D%2C%20%5B-122.62130017685847%2C%2038.24818969054448%5D%2C%20%5B-122.62128957861115%2C%2038.24815993773322%5D%2C%20%5B-122.62128274034579%2C%2038.248129511388996%5D%2C%20%5B-122.62127972791411%2C%2038.24809870453459%5D%5D%5D%2C%20%22type%22%3A%20%22Polygon%22%7D%2C%20%22id%22%3A%20%2220082%22%2C%20%22properties%22%3A%20%7B%22district%22%3A%204%2C%20%22district_name%22%3A%20%22District%204%20-%20Oakland%22%2C%20%22feed_key%22%3A%20%22540e857d28ffdc628260ca22a21cb330%22%2C%20%22gtfs_dataset_key%22%3A%20%22bc21582ac1ad2b7de0647dfd5b76f67c%22%2C%20%22loop_or_inlining%22%3A%200%2C%20%22seg_idx%22%3A%2020122%2C%20%22shape_array_key%22%3A%20%2221aedea4c0d05c570e042903cc62c9cf%22%2C%20%22stop_id%22%3A%20%2287202%22%2C%20%22stop_sequence%22%3A%200%7D%2C%20%22type%22%3A%20%22Feature%22%7D%2C%20%7B%22bbox%22%3A%20%5B-122.6313852040316%2C%2038.2469653226834%2C%20-122.62127995136046%2C%2038.252366313938204%5D%2C%20%22geometry%22%3A%20%7B%22coordinates%22%3A%20%5B%5B%5B-122.62252178102098%2C%2038.24771873501208%5D%2C%20%5B-122.62221501086226%2C%2038.24805390998142%5D%2C%20%5B-122.62221025617347%2C%2038.248058996550924%5D%2C%20%5B-122.62200025658619%2C%2038.24827899711347%5D%2C%20%5B-122.62197515436611%2C%2038.24830276905272%5D%2C%20%5B-122.62194720962387%2C%2038.24832449190733%5D%2C%20%5B-122.62191669148268%2C%2038.24834395647248%5D%2C%20%5B-122.6218838938499%2C%2038.24836097529197%5D%2C%20%5B-122.62184913258652%2C%2038.248375384463316%5D%2C%20%5B-122.62181274246527%2C%2038.248387045216965%5D%2C%20%5B-122.62177507394624%2C%2038.248395845252034%5D%2C%20%5B-122.62173648980193%2C%2038.24840169981842%5D%2C%20%5B-122.62169736162313%2C%2038.24840455253271%5D%2C%20%5B-122.62165806624031%2C%2038.248404375921375%5D%2C%20%5B-122.62161898209426%2C%2038.24840117168526%5D%2C%20%5B-122.62158048559131%2C%2038.248394970683385%5D%2C%20%5B-122.62154294747826%2C%2038.24838583263546%5D%2C%20%5B-122.62150672927156%2C%2038.2483738455469%5D%2C%20%5B-122.6214721797757%2C%2038.248359124861445%5D%2C%20%5B-122.6214396317238%2C%2038.24834181234878%5D%2C%20%5B-122.6214093985732%2C%2038.24832207473966%5D%2C%20%5B-122.62138177148654%2C%2038.24830010211991%5D%2C%20%5B-122.62135701652767%2C%2038.24827610609981%5D%2C%20%5B-122.62133537209945%2C%2038.24825031777594%5D%2C%20%5B-122.62131704664762%2C%2038.24822298550571%5D%2C%20%5B-122.62130221665365%2C%2038.24819437251547%5D%2C%20%5B-122.62129102493503%2C%2038.24816475436515%5D%2C%20%5B-122.62128357927018%2C%2038.24813441629485%5D%2C%20%5B-122.62127995136046%2C%2038.248103650477425%5D%2C%20%5B-122.62128017613993%2C%2038.24807275320489%5D%2C%20%5B-122.6212842514391%2C%2038.24804202203487%5D%2C%20%5B-122.6212921380059%2C%2038.24801175292487%5D%2C%20%5B-122.621303759884%2C%2038.24798223738231%5D%2C%20%5B-122.62131900514441%2C%2038.24795375965684%5D%2C%20%5B-122.62133772696363%2C%2038.24792659400329%5D%2C%20%5B-122.62135974503772%2C%2038.24790100204006%5D%2C%20%5B-122.62156733566843%2C%2038.24768352713417%5D%2C%20%5B-122.62210499198143%2C%2038.2470960906146%5D%2C%20%5B-122.62212943598402%2C%2038.24707196932626%5D%2C%20%5B-122.6221567641929%2C%2038.24704984431078%5D%2C%20%5B-122.62218671436477%2C%2038.24702992787931%5D%2C%20%5B-122.62221899909675%2C%2038.247012411149214%5D%2C%20%5B-122.62225330858435%2C%2038.24699746221035%5D%2C%20%5B-122.62228931359414%2C%2038.246985224512024%5D%2C%20%5B-122.62232666862315%2C%2038.246975815486536%5D%2C%20%5B-122.62236501521416%2C%2038.24696932542245%5D%2C%20%5B-122.6224039853953%2C%2038.246965816597886%5D%2C%20%5B-122.62244320521101%2C%2038.2469653226834%5D%2C%20%5B-122.6224822983103%2C%2038.246967848418635%5D%2C%20%5B-122.62252088955816%2C%2038.246973369566625%5D%2C%20%5B-122.62255860863512%2C%2038.2469818331469%5D%2C%20%5B-122.62259509359063%2C%2038.24699315794342%5D%2C%20%5B-122.6226299943164%2C%2038.24700723528393%5D%2C%20%5B-122.6226629759057%2C%2038.24702393008311%5D%2C%20%5B-122.62298261850819%2C%2038.24720372872657%5D%2C%20%5B-122.62606927490589%2C%2038.248931853743734%5D%2C%20%5B-122.62645625495048%2C%2038.24914022725766%5D%2C%20%5B-122.62646166301622%2C%2038.249143190979844%5D%2C%20%5B-122.6312165675439%2C%2038.251794768880444%5D%2C%20%5B-122.63124746823019%2C%2038.2518138581098%5D%2C%20%5B-122.63127584038698%2C%2038.251835236794804%5D%2C%20%5B-122.63130141077514%2C%2038.2518586990491%5D%2C%20%5B-122.63132393313711%2C%2038.25188401892011%5D%2C%20%5B-122.63134319056859%2C%2038.25191095256547%5D%2C%20%5B-122.63135899760749%2C%2038.251939240601075%5D%2C%20%5B-122.63137120202019%2C%2038.251968610599015%5D%2C%20%5B-122.63137968626764%2C%2038.25199877971132%5D%2C%20%5B-122.63138436863757%2C%2038.25202945739373%5D%2C%20%5B-122.6313852040316%2C%2038.252060348203855%5D%2C%20%5B-122.6313821843996%2C%2038.25209115464635%5D%2C%20%5B-122.63137533881759%2C%2038.2521215800381%5D%2C%20%5B-122.6313647332078%2C%2038.25215133136522%5D%2C%20%5B-122.63135046970393%2C%2038.25218012210527%5D%2C%20%5B-122.63133268566786%2C%2038.25220767498639%5D%2C%20%5B-122.63131155236668%2C%2038.25223372465767%5D%2C%20%5B-122.63128727332366%2C%2038.25225802024491%5D%2C%20%5B-122.63126008235817%2C%2038.25228032776637%5D%2C%20%5B-122.63123024133381%2C%2038.25230043238671%5D%2C%20%5B-122.63119803763671%2C%2038.25231814048539%5D%2C%20%5B-122.63116378140774%2C%2038.252333281522056%5D%2C%20%5B-122.63112780255553%2C%2038.25234570967864%5D%2C%20%5B-122.63109044757937%2C%2038.25235530526375%5D%2C%20%5B-122.63105207623194%2C%2038.25236197586554%5D%2C%20%5B-122.63101305805463%2C%2038.252365657241754%5D%2C%20%5B-122.63097376881848%2C%2038.252366313938204%5D%2C%20%5B-122.63093458690501%2C%2038.25236393963048%5D%2C%20%5B-122.63089588966227%2C%2038.25235855718481%5D%2C%20%5B-122.63085804977028%2C%2038.25235021843762%5D%2C%20%5B-122.63082143165198%2C%2038.252339003696676%5D%2C%20%5B-122.63078638796341%2C%2038.25232502096731%5D%2C%20%5B-122.63075325619725%2C%2038.25230840491239%5D%2C%20%5B-122.62600102391636%2C%2038.24965830795512%5D%2C%20%5B-122.62561374275097%2C%2038.249449771587436%5D%2C%20%5B-122.62560774255401%2C%2038.24944647695458%5D%2C%20%5B-122.62252178102098%2C%2038.24771873501208%5D%5D%5D%2C%20%22type%22%3A%20%22Polygon%22%7D%2C%20%22id%22%3A%20%2220083%22%2C%20%22properties%22%3A%20%7B%22district%22%3A%204%2C%20%22district_name%22%3A%20%22District%204%20-%20Oakland%22%2C%20%22feed_key%22%3A%20%22540e857d28ffdc628260ca22a21cb330%22%2C%20%22gtfs_dataset_key%22%3A%20%22bc21582ac1ad2b7de0647dfd5b76f67c%22%2C%20%22loop_or_inlining%22%3A%200%2C%20%22seg_idx%22%3A%2020123%2C%20%22shape_array_key%22%3A%20%2221aedea4c0d05c570e042903cc62c9cf%22%2C%20%22stop_id%22%3A%20%2287500%22%2C%20%22stop_sequence%22%3A%20105%7D%2C%20%22type%22%3A%20%22Feature%22%7D%2C%20%7B%22bbox%22%3A%20%5B-122.6336530896757%2C%2038.25173686030252%2C%20-122.63058462139988%2C%2038.25364066646789%5D%2C%20%22geometry%22%3A%20%7B%22coordinates%22%3A%20%5B%5B%5B-122.63123165484937%2C%2038.25180318173611%5D%2C%20%5B-122.63123285347494%2C%2038.25180385270906%5D%2C%20%5B-122.63348568449892%2C%2038.25306982199989%5D%2C%20%5B-122.63351649687779%2C%2038.253088999794244%5D%2C%20%5B-122.63354477007094%2C%2038.253110459772216%5D%2C%20%5B-122.63357023179229%2C%2038.253133995264356%5D%2C%20%5B-122.6335926368307%2C%2038.25315937961285%5D%2C%20%5B-122.63361176941181%2C%2038.253186368354385%5D%2C%20%5B-122.63362744527582%2C%2038.25321470157419%5D%2C%20%5B-122.63363951345241%2C%2038.253244106409234%5D%2C%20%5B-122.63364785771451%2C%2038.253274299676065%5D%2C%20%5B-122.633652397698%2C%2038.25330499059772%5D%2C%20%5B-122.6336530896757%2C%2038.25333588360434%5D%2C%20%5B-122.63364992697872%2C%2038.253366681179415%5D%2C%20%5B-122.63364294006085%2C%2038.2533970867252%5D%2C%20%5B-122.63363219620545%2C%2038.25342680741895%5D%2C%20%5B-122.63361779887767%2C%2038.253455557033156%5D%2C%20%5B-122.63359988672812%2C%2038.253483058692034%5D%2C%20%5B-122.63357863225784%2C%2038.25350904753809%5D%2C%20%5B-122.63355424015701%2C%2038.25353327328273%5D%2C%20%5B-122.63352694533376%2C%2038.253555502616976%5D%2C%20%5B-122.63349701065205%2C%2038.25357552145831%5D%2C%20%5B-122.63346472439997%2C%2038.253593137012416%5D%2C%20%5B-122.63343039751341%2C%2038.25360817963024%5D%2C%20%5B-122.63339436058163%2C%2038.25362050444137%5D%2C%20%5B-122.6333569606632%2C%2038.25362999274989%5D%2C%20%5B-122.63331855794367%2C%2038.25363655317697%5D%2C%20%5B-122.63327952226653%2C%2038.25364012254148%5D%2C%20%5B-122.63324022957138%2C%2038.25364066646789%5D%2C%20%5B-122.63320105827312%2C%2038.253638179717925%5D%2C%20%5B-122.63316238561747%2C%2038.25363268624064%5D%2C%20%5B-122.63312458404769%2C%2038.25362423894188%5D%2C%20%5B-122.63308801761765%2C%2038.253612919174714%5D%2C%20%5B-122.63305303848557%2C%2038.25359883595602%5D%2C%20%5B-122.63301998352237%2C%2038.25358212491642%5D%2C%20%5B-122.63076774345564%2C%2038.25231648320346%5D%2C%20%5B-122.63075325619725%2C%2038.25230840491239%5D%2C%20%5B-122.63072235543251%2C%2038.25228931555534%5D%2C%20%5B-122.63069398326164%2C%2038.252267936738924%5D%2C%20%5B-122.63066841292427%2C%2038.25224447435466%5D%2C%20%5B-122.63064589067605%2C%2038.25221915436019%5D%2C%20%5B-122.63062663341692%2C%2038.25219222060249%5D%2C%20%5B-122.63061082660226%2C%2038.25216393247006%5D%2C%20%5B-122.6305986224572%2C%2038.252134562394424%5D%2C%20%5B-122.6305901385104%2C%2038.252104393226716%5D%2C%20%5B-122.63058545646263%2C%2038.25207371551317%5D%2C%20%5B-122.63058462139988%2C%2038.25204282469746%5D%2C%20%5B-122.63058764135953%2C%2038.25201201827512%5D%2C%20%5B-122.63059448725298%2C%2038.2519815929285%5D%2C%20%5B-122.63060509314603%2C%2038.2519518416697%5D%2C%20%5B-122.6306193568941%2C%2038.25192305101856%5D%2C%20%5B-122.63063714112594%2C%2038.25189549824363%5D%2C%20%5B-122.63065827456691%2C%2038.251869448691544%5D%2C%20%5B-122.63068255368837%2C%2038.25184515323208%5D%2C%20%5B-122.63070974466795%2C%2038.25182284584194%5D%2C%20%5B-122.63073958564152%2C%2038.251802741351625%5D%2C%20%5B-122.63077178922485%2C%2038.25178503337642%5D%2C%20%5B-122.63080604528152%2C%2038.25176989245205%5D%2C%20%5B-122.63084202390945%2C%2038.25175746439234%5D%2C%20%5B-122.63087937861798%2C%2038.251747868884884%5D%2C%20%5B-122.63091774966475%2C%2038.25174119833849%5D%2C%20%5B-122.6309567675199%2C%2038.25173751699337%5D%2C%20%5B-122.63099605642479%2C%2038.25173686030252%5D%2C%20%5B-122.6310352380106%2C%2038.25173923459004%5D%2C%20%5B-122.63107393494191%2C%2038.25174461699065%5D%2C%20%5B-122.63111177455063%2C%2038.25175295566951%5D%2C%20%5B-122.63114839242472%2C%2038.251764170321515%5D%2C%20%5B-122.6311834359175%2C%2038.25177815294479%5D%2C%20%5B-122.6312165675439%2C%2038.251794768880444%5D%2C%20%5B-122.63123165484937%2C%2038.25180318173611%5D%5D%5D%2C%20%22type%22%3A%20%22Polygon%22%7D%2C%20%22id%22%3A%20%2220084%22%2C%20%22properties%22%3A%20%7B%22district%22%3A%204%2C%20%22district_name%22%3A%20%22District%204%20-%20Oakland%22%2C%20%22feed_key%22%3A%20%22540e857d28ffdc628260ca22a21cb330%22%2C%20%22gtfs_dataset_key%22%3A%20%22bc21582ac1ad2b7de0647dfd5b76f67c%22%2C%20%22loop_or_inlining%22%3A%200%2C%20%22seg_idx%22%3A%2020124%2C%20%22shape_array_key%22%3A%20%2221aedea4c0d05c570e042903cc62c9cf%22%2C%20%22stop_id%22%3A%20%2287501%22%2C%20%22stop_sequence%22%3A%20120%7D%2C%20%22type%22%3A%20%22Feature%22%7D%2C%20%7B%22bbox%22%3A%20%5B-122.63912022184543%2C%2038.253011280900644%2C%20-122.63285258005232%2C%2038.25676602549899%5D%2C%20%22geometry%22%3A%20%7B%22coordinates%22%3A%20%5B%5B%5B-122.6334928496761%2C%2038.25307384830678%5D%2C%20%5B-122.6334955164429%2C%2038.25307535987611%5D%2C%20%5B-122.63893514105472%2C%2038.256185139576395%5D%2C%20%5B-122.63895480513838%2C%2038.25619632701148%5D%2C%20%5B-122.63898547464956%2C%2038.256215647121586%5D%2C%20%5B-122.63901358782083%2C%2038.2562372376219%5D%2C%20%5B-122.63903887390708%2C%2038.25626089058584%5D%2C%20%5B-122.63906108938868%2C%2038.25628637822436%5D%2C%20%5B-122.63908002031665%2C%2038.25631345507937%5D%2C%20%5B-122.63909548437326%2C%2038.256341860387465%5D%2C%20%5B-122.63910733262789%2C%2038.2563713205914%5D%2C%20%5B-122.63911545097147%2C%2038.256401551974456%5D%2C%20%5B-122.63911976121554%2C%2038.25643226339262%5D%2C%20%5B-122.63912022184543%2C%2038.256463159078486%5D%2C%20%5B-122.63911682842027%2C%2038.2564939414899%5D%2C%20%5B-122.63910961361586%2C%2038.25652431417496%5D%2C%20%5B-122.6390986469103%2C%2038.25655398462746%5D%2C%20%5B-122.63908403391488%2C%2038.256582667103714%5D%2C%20%5B-122.63906591535729%2C%2038.25661008537446%5D%2C%20%5B-122.63904446572646%2C%2038.2566359753853%5D%2C%20%5B-122.63901989159206%2C%2038.25666008779948%5D%2C%20%5B-122.63899242961543%2C%2038.25668219039942%5D%2C%20%5B-122.63896234427028%2C%2038.256702070323115%5D%2C%20%5B-122.63892992529577%2C%2038.256719536114176%5D%2C%20%5B-122.63889548490609%2C%2038.256734419565674%5D%2C%20%5B-122.63885935478352%2C%2038.256746577340294%5D%2C%20%5B-122.63882188288424%2C%2038.25675589235069%5D%2C%20%5B-122.63878343008702%2C%2038.256762274886974%5D%2C%20%5B-122.6387443667177%2C%2038.25676566348118%5D%2C%20%5B-122.63870506898249%2C%2038.25676602549899%5D%2C%20%5B-122.63866591534487%2C%2038.25676335745369%5D%2C%20%5B-122.63862728288049%2C%2038.25675768504046%5D%2C%20%5B-122.63858954364552%2C%2038.256749062888474%5D%2C%20%5B-122.6385530610935%2C%2038.25673757403468%5D%2C%20%5B-122.63851818657474%2C%2038.256723329124455%5D%2C%20%5B-122.63848525595274%2C%2038.256706465345445%5D%2C%20%5B-122.63846522457112%2C%2038.25669506890295%5D%2C%20%5B-122.63846449070604%2C%2038.25669465038949%5D%2C%20%5B-122.63302581138994%2C%2038.253585399764674%5D%2C%20%5B-122.63301998352237%2C%2038.25358212491642%5D%2C%20%5B-122.63298917106742%2C%2038.25356294699407%5D%2C%20%5B-122.63296089786257%2C%2038.253541486884714%5D%2C%20%5B-122.63293543619446%2C%2038.25351795126283%5D%2C%20%5B-122.63291303127205%2C%2038.25349256679111%5D%2C%20%5B-122.63289389886536%2C%2038.25346557793775%5D%2C%20%5B-122.63287822322737%2C%2038.25343724462175%5D%2C%20%5B-122.63286615531986%2C%2038.25340783970985%5D%2C%20%5B-122.63285781135943%2C%2038.25337764638845%5D%2C%20%5B-122.63285327169866%2C%2038.2533469554366%5D%2C%20%5B-122.63285258005232%2C%2038.253316062425355%5D%2C%20%5B-122.6328557430766%2C%2038.25328526487136%5D%2C%20%5B-122.63286273030509%2C%2038.25325485937162%5D%2C%20%5B-122.63287347444252%2C%2038.25322513874703%5D%2C%20%5B-122.63288787201287%2C%2038.25319638922245%5D%2C%20%5B-122.63290578435623%2C%2038.25316888767021%5D%2C%20%5B-122.63292703896408%2C%2038.25314289894384%5D%2C%20%5B-122.63295143114102%2C%2038.253118673327215%5D%2C%20%5B-122.63297872597593%2C%2038.25309644412434%5D%2C%20%5B-122.63300866060446%2C%2038.2530764254128%5D%2C%20%5B-122.63304094674051%2C%2038.253058809981866%5D%2C%20%5B-122.63307527345265%2C%2038.25304376747587%5D%2C%20%5B-122.63311131015837%2C%2038.25303144276093%5D%2C%20%5B-122.63314870980776%2C%2038.253021954529295%5D%2C%20%5B-122.6331871122256%2C%2038.253015394156755%5D%2C%20%5B-122.63322614758002%2C%2038.25301182482247%5D%2C%20%5B-122.63326543994378%2C%2038.253011280900644%5D%2C%20%5B-122.63330461091478%2C%2038.25301376762953%5D%2C%20%5B-122.6333432832598%2C%2038.253019261060814%5D%2C%20%5B-122.63338108454758%2C%2038.25302770829044%5D%2C%20%5B-122.63341765073503%2C%2038.25303902796793%5D%2C%20%5B-122.63345262967333%2C%2038.2530531110799%5D%2C%20%5B-122.63348568449892%2C%2038.25306982199989%5D%2C%20%5B-122.6334928496761%2C%2038.25307384830678%5D%5D%5D%2C%20%22type%22%3A%20%22Polygon%22%7D%2C%20%22id%22%3A%20%2220085%22%2C%20%22properties%22%3A%20%7B%22district%22%3A%204%2C%20%22district_name%22%3A%20%22District%204%20-%20Oakland%22%2C%20%22feed_key%22%3A%20%22540e857d28ffdc628260ca22a21cb330%22%2C%20%22gtfs_dataset_key%22%3A%20%22bc21582ac1ad2b7de0647dfd5b76f67c%22%2C%20%22loop_or_inlining%22%3A%200%2C%20%22seg_idx%22%3A%2020125%2C%20%22shape_array_key%22%3A%20%2221aedea4c0d05c570e042903cc62c9cf%22%2C%20%22stop_id%22%3A%20%2287502%22%2C%20%22stop_sequence%22%3A%20180%7D%2C%20%22type%22%3A%20%22Feature%22%7D%2C%20%7B%22bbox%22%3A%20%5B-122.6419514591245%2C%2038.25613676731722%2C%20-122.63831984097878%2C%2038.25837670336824%5D%2C%20%22geometry%22%3A%20%7B%22coordinates%22%3A%20%5B%5B%5B-122.64176462122163%2C%2038.2577948409026%5D%2C%20%5B-122.64178571916503%2C%2038.25780682004961%5D%2C%20%5B-122.64181641247696%2C%2038.25782611743854%5D%2C%20%5B-122.64184455211556%2C%2038.257847687110434%5D%2C%20%5B-122.64186986708084%2C%2038.25787132133947%5D%2C%20%5B-122.64189211357501%2C%2038.25789679251704%5D%2C%20%5B-122.64191107735049%2C%2038.2579238553433%5D%2C%20%5B-122.64192657577316%2C%2038.257952249190346%5D%2C%20%5B-122.64193845958148%2C%2038.25798170061112%5D%2C%20%5B-122.64194661432397%2C%2038.25801192597335%5D%2C%20%5B-122.64195096146163%2C%2038.25804263419121%5D%2C%20%5B-122.6419514591245%2C%2038.2580735295282%5D%2C%20%5B-122.64194810251504%2C%2038.25810431444521%5D%2C%20%5B-122.64194092395454%2C%2038.258134692466484%5D%2C%20%5B-122.64192999257196%2C%2038.25816437103434%5D%2C%20%5B-122.64191541363851%2C%2038.2581930643269%5D%2C%20%5B-122.6418973275538%2C%2038.25822049601085%5D%2C%20%5B-122.64187590849396%2C%2038.258246401902504%5D%2C%20%5B-122.64185136273429%2C%2038.25827053251219%5D%2C%20%5B-122.64182392666287%2C%2038.25829265544709%5D%2C%20%5B-122.6417938645039%2C%2038.2583125576495%5D%2C%20%5B-122.64176146577324%2C%2038.25833004744825%5D%2C%20%5B-122.64172704249009%2C%2038.258344956405395%5D%2C%20%5B-122.64169092617202%2C%2038.25835714093788%5D%2C%20%5B-122.64165346464225%2C%2038.258366483700605%5D%2C%20%5B-122.64161501867963%2C%2038.25837289471661%5D%2C%20%5B-122.6415759585442%2C%2038.25837631224351%5D%2C%20%5B-122.64153666041108%2C%2038.25837670336824%5D%2C%20%5B-122.64149750274753%2C%2038.258374064323974%5D%2C%20%5B-122.64145886266795%2C%2038.25836842052663%5D%2C%20%5B-122.64142111230193%2C%2038.25835982632949%5D%2C%20%5B-122.64138461521011%2C%2038.258348364500605%5D%2C%20%5B-122.64134972288295%2C%2038.25833414542484%5D%2C%20%5B-122.64131677135536%2C%2038.25831730604125%5D%2C%20%5B-122.64129552525742%2C%2038.25830524273008%5D%2C%20%5B-122.63848525595274%2C%2038.256706465345445%5D%2C%20%5B-122.63845458636925%2C%2038.25668714510695%5D%2C%20%5B-122.63842647319022%2C%2038.256665554475234%5D%2C%20%5B-122.63840118716104%2C%2038.256641901381705%5D%2C%20%5B-122.63837897179913%2C%2038.25661641362054%5D%2C%20%5B-122.63836004104886%2C%2038.256589336654564%5D%2C%20%5B-122.63834457722118%2C%2038.25656093125127%5D%2C%20%5B-122.63833272923789%2C%2038.25653147097173%5D%2C%20%5B-122.63832461119762%2C%2038.25650123953553%5D%2C%20%5B-122.63832030127718%2C%2038.25647052808874%5D%2C%20%5B-122.63831984097878%2C%2038.256439632399726%5D%2C%20%5B-122.63832323473062%2C%2038.25640885001097%5D%2C%20%5B-122.63833044984429%2C%2038.25637847737339%5D%2C%20%5B-122.63834141682982%2C%2038.256348806991376%5D%2C%20%5B-122.63835603006514%2C%2038.25632012460588%5D%2C%20%5B-122.63837414881336%2C%2038.256292706442736%5D%2C%20%5B-122.63839559857824%2C%2038.256266816552184%5D%2C%20%5B-122.63842017278495%2C%2038.25624270426638%5D%2C%20%5B-122.63844763476935%2C%2038.256220601797864%5D%2C%20%5B-122.63847772005744%2C%2038.25620072200375%5D%2C%20%5B-122.63851013891224%2C%2038.25618325633531%5D%2C%20%5B-122.63854457912423%2C%2038.25616837299482%5D%2C%20%5B-122.63858070901786%2C%2038.25615621531536%5D%2C%20%5B-122.63861818064579%2C%2038.25614690038062%5D%2C%20%5B-122.63865663313972%2C%2038.256140517897414%5D%2C%20%5B-122.63869569618542%2C%2038.25613712933187%5D%2C%20%5B-122.63873499358911%2C%2038.25613676731722%5D%2C%20%5B-122.63877414690006%2C%2038.25613943533983%5D%2C%20%5B-122.6388127790552%2C%2038.25614510770559%5D%2C%20%5B-122.63885051801019%2C%2038.25615372978715%5D%2C%20%5B-122.63888700032231%2C%2038.2561652185501%5D%2C%20%5B-122.6389218746504%2C%2038.256179463352794%5D%2C%20%5B-122.6389548051384%2C%2038.25619632701148%5D%2C%20%5B-122.64176462122163%2C%2038.2577948409026%5D%5D%5D%2C%20%22type%22%3A%20%22Polygon%22%7D%2C%20%22id%22%3A%20%2220086%22%2C%20%22properties%22%3A%20%7B%22district%22%3A%204%2C%20%22district_name%22%3A%20%22District%204%20-%20Oakland%22%2C%20%22feed_key%22%3A%20%22540e857d28ffdc628260ca22a21cb330%22%2C%20%22gtfs_dataset_key%22%3A%20%22bc21582ac1ad2b7de0647dfd5b76f67c%22%2C%20%22loop_or_inlining%22%3A%200%2C%20%22seg_idx%22%3A%2020126%2C%20%22shape_array_key%22%3A%20%2221aedea4c0d05c570e042903cc62c9cf%22%2C%20%22stop_id%22%3A%20%2287503%22%2C%20%22stop_sequence%22%3A%20200%7D%2C%20%22type%22%3A%20%22Feature%22%7D%2C%20%7B%22bbox%22%3A%20%5B-122.64466826082875%2C%2038.25774742318078%2C%20-122.6411510331249%2C%2038.25991919499197%5D%2C%20%22geometry%22%3A%20%7B%22coordinates%22%3A%20%5B%5B%5B-122.6444942271368%2C%2038.25934461434185%5D%2C%20%5B-122.64450200316617%2C%2038.259349015291676%5D%2C%20%5B-122.64453273430114%2C%2038.25936827606889%5D%2C%20%5B-122.64456091609593%2C%2038.259389812171435%5D%2C%20%5B-122.64458627714457%2C%2038.259413416196715%5D%2C%20%5B-122.64460857320555%2C%2038.25943886082694%5D%2C%20%5B-122.64462758955388%2C%2038.25946590101826%5D%2C%20%5B-122.64464314304918%2C%2038.25949427636032%5D%2C%20%5B-122.64465508389954%2C%2038.2595237135845%5D%2C%20%5B-122.64466329710413%2C%2038.259553929195384%5D%2C%20%5B-122.64466770356094%2C%2038.25958463220091%5D%2C%20%5B-122.64466826082875%2C%2038.259615526914615%5D%2C%20%5B-122.64466496353599%2C%2038.259646315803764%5D%2C%20%5B-122.64465784343264%2C%2038.25967670235407%5D%2C%20%5B-122.64464696908479%2C%2038.25970639392582%5D%2C%20%5B-122.64463244521424%2C%2038.25973510457197%5D%2C%20%5B-122.6446144116904%2C%2038.25976255779197%5D%2C%20%5B-122.64459304218313%2C%2038.25978848919477%5D%2C%20%5B-122.64456854249057%2C%2038.25981264904501%5D%2C%20%5B-122.64454114855707%2C%2038.25983480466833%5D%2C%20%5B-122.64451112420105%2C%2038.25985474269202%5D%2C%20%5B-122.64447875857428%2C%2038.25987227110024%5D%2C%20%5B-122.64444436337712%2C%2038.25988722108303%5D%2C%20%5B-122.64440826985665%2C%2038.25989944866224%5D%2C%20%5B-122.6443708256165%2C%2038.25990883607818%5D%2C%20%5B-122.6443323912691%2C%2038.25991529292396%5D%2C%20%5B-122.64429333696252%2C%2038.259918757015654%5D%2C%20%5B-122.6442540388158%2C%2038.25991919499197%5D%2C%20%5B-122.64421487529631%2C%2038.25991660263473%5D%2C%20%5B-122.64417622357486%2C%2038.25991100491007%5D%2C%20%5B-122.6441384558931%2C%2038.25990245572795%5D%2C%20%5B-122.64410193597855%2C%2038.25989103742257%5D%2C%20%5B-122.6440670155414%2C%2038.25987685995976%5D%2C%20%5B-122.64403403088728%2C%2038.25986005987775%5D%2C%20%5B-122.64402601304515%2C%2038.25985552205424%5D%2C%20%5B-122.64402552973029%2C%2038.259855248085216%5D%2C%20%5B-122.64131677135536%2C%2038.25831730604125%5D%2C%20%5B-122.6412860779705%2C%2038.258298008524%5D%2C%20%5B-122.64125793832352%2C%2038.25827643872059%5D%2C%20%5B-122.64123262341468%2C%2038.25825280436194%5D%2C%20%5B-122.64121037703963%2C%2038.258227333061726%5D%2C%20%5B-122.64119141344135%2C%2038.258200270124235%5D%2C%20%5B-122.64117591524715%2C%2038.25817187618193%5D%2C%20%5B-122.64116403170982%2C%2038.25814242468536%5D%2C%20%5B-122.6411558772704%2C%2038.25811219926968%5D%2C%20%5B-122.64115153045624%2C%2038.25808149102293%5D%2C%20%5B-122.6411510331249%2C%2038.25805059568266%5D%2C%20%5B-122.64115439006113%2C%2038.258019810788%5D%2C%20%5B-122.64116156893112%2C%2038.257989432813964%5D%2C%20%5B-122.641172500594%2C%2038.25795975431637%5D%2C%20%5B-122.64118707976782%2C%2038.257931061114384%5D%2C%20%5B-122.64120516604369%2C%2038.2579036295379%5D%2C%20%5B-122.64122658523816%2C%2038.257877723766484%5D%2C%20%5B-122.64125113107072%2C%2038.257853593285105%5D%2C%20%5B-122.64127856715055%2C%2038.25783147048159%5D%2C%20%5B-122.64130862925309%2C%2038.25781156840885%5D%2C%20%5B-122.64134102786463%2C%2038.257794078732836%5D%2C%20%5B-122.64137545097059%2C%2038.257779169886874%5D%2C%20%5B-122.64141156706016%2C%2038.25776698544972%5D%2C%20%5B-122.64144902831896%2C%2038.25775764276276%5D%2C%20%5B-122.6414874739785%2C%2038.25775123180014%5D%2C%20%5B-122.64152653379041%2C%2038.257747814302185%5D%2C%20%5B-122.64156583159203%2C%2038.25774742318078%5D%2C%20%5B-122.6416049889288%2C%2038.2577500622026%5D%2C%20%5B-122.64164362869889%2C%2038.25775570595277%5D%2C%20%5B-122.64168137878461%2C%2038.25776430007956%5D%2C%20%5B-122.64171787563605%2C%2038.25777576181791%5D%2C%20%5B-122.64175276777205%2C%2038.25778998078619%5D%2C%20%5B-122.64178571916503%2C%2038.25780682004961%5D%2C%20%5B-122.6444942271368%2C%2038.25934461434185%5D%5D%5D%2C%20%22type%22%3A%20%22Polygon%22%7D%2C%20%22id%22%3A%20%2220087%22%2C%20%22properties%22%3A%20%7B%22district%22%3A%204%2C%20%22district_name%22%3A%20%22District%204%20-%20Oakland%22%2C%20%22feed_key%22%3A%20%22540e857d28ffdc628260ca22a21cb330%22%2C%20%22gtfs_dataset_key%22%3A%20%22bc21582ac1ad2b7de0647dfd5b76f67c%22%2C%20%22loop_or_inlining%22%3A%200%2C%20%22seg_idx%22%3A%2020127%2C%20%22shape_array_key%22%3A%20%2221aedea4c0d05c570e042903cc62c9cf%22%2C%20%22stop_id%22%3A%20%2287504%22%2C%20%22stop_sequence%22%3A%20220%7D%2C%20%22type%22%3A%20%22Feature%22%7D%2C%20%7B%22bbox%22%3A%20%5B-122.64832475376075%2C%2038.25928988063394%2C%20-122.64386777494704%2C%2038.26198806471433%5D%2C%20%22geometry%22%3A%20%7B%22coordinates%22%3A%20%5B%5B%5B-122.64813116062317%2C%2038.261402875256515%5D%2C%20%5B-122.64815262426869%2C%2038.261414582732385%5D%2C%20%5B-122.64818377745046%2C%2038.26143342068374%5D%2C%20%5B-122.64821243191196%2C%2038.26145456845235%5D%2C%20%5B-122.64823831169528%2C%2038.26147782237551%5D%2C%20%5B-122.64826116756342%2C%2038.26150295850711%5D%2C%20%5B-122.64828077940027%2C%2038.26152973477429%5D%2C%20%5B-122.64829695833075%2C%2038.26155789330849%5D%2C%20%5B-122.64830954853974%2C%2038.261587162929196%5D%2C%20%5B-122.64831842877284%2C%2038.26161726175506%5D%2C%20%5B-122.64832351350431%2C%2038.261647899918685%5D%2C%20%5B-122.64832475376075%2C%2038.26167878235835%5D%2C%20%5B-122.64832213759304%2C%2038.2617096116595%5D%2C%20%5B-122.6483156901916%2C%2038.2617400909187%5D%2C%20%5B-122.6483054736439%2C%2038.2617699266035%5D%2C%20%5B-122.64829158633674%2C%2038.261798831378954%5D%2C%20%5B-122.6482741620089%2C%2038.261826526875%5D%2C%20%5B-122.6482533684633%2C%2038.26185274636746%5D%2C%20%5B-122.64822940595104%2C%2038.26187723734653%5D%2C%20%5B-122.64820250524299%2C%2038.26189976394888%5D%2C%20%5B-122.64817292540735%2C%2038.26192010922904%5D%2C%20%5B-122.64814095131477%2C%2038.2619380772491%5D%2C%20%5B-122.64810689089478%2C%2038.261953494965326%5D%2C%20%5B-122.64807107217023%2C%2038.26196621389504%5D%2C%20%5B-122.64803384009817%2C%2038.26197611154665%5D%2C%20%5B-122.64799555324763%2C%2038.26198309259917%5D%2C%20%5B-122.64795658034619%2C%2038.261987089820344%5D%2C%20%5B-122.64791729672876%2C%2038.26198806471433%5D%2C%20%5B-122.64787808072289%2C%2038.26198600789226%5D%2C%20%5B-122.64783931000488%2C%2038.261980939162704%5D%2C%20%5B-122.64780135796241%2C%2038.26197290734086%5D%2C%20%5B-122.64776459009856%2C%2038.26196198977854%5D%2C%20%5B-122.64772936051153%2C%2038.26194829161911%5D%2C%20%5B-122.6476960084844%2C%2038.261931944784834%5D%2C%20%5B-122.64767169127171%2C%2038.261918680767735%5D%2C%20%5B-122.64766601905728%2C%2038.261915529179674%5D%2C%20%5B-122.64403403088728%2C%2038.25986005987775%5D%2C%20%5B-122.64400329967843%2C%2038.25984079897231%5D%2C%20%5B-122.64397511787425%2C%2038.25981926273834%5D%2C%20%5B-122.64394975688104%2C%2038.25979565858342%5D%2C%20%5B-122.64392746093826%2C%2038.259770213830265%5D%2C%20%5B-122.64390844476628%2C%2038.259743173527575%5D%2C%20%5B-122.64389289149874%2C%2038.259714798089945%5D%2C%20%5B-122.64388095091881%2C%2038.25968536078955%5D%2C%20%5B-122.64387273801687%2C%2038.25965514512493%5D%2C%20%5B-122.64386833188335%2C%2038.259624442090136%5D%2C%20%5B-122.64386777494704%2C%2038.25959354737269%5D%2C%20%5B-122.6438710725668%2C%2038.25956275850555%5D%2C%20%5B-122.64387819298%2C%2038.25953237200211%5D%2C%20%5B-122.64388906760874%2C%2038.25950268050028%5D%2C%20%5B-122.6439035917203%2C%2038.25947396994445%5D%2C%20%5B-122.64392162543616%2C%2038.25944651683176%5D%2C%20%5B-122.64394299507894%2C%2038.25942058554897%5D%2C%20%5B-122.6439674948454%2C%2038.25939642582692%5D%2C%20%5B-122.64399488878831%2C%2038.259374270335066%5D%2C%20%5B-122.64402491308887%2C%2038.25935433244102%5D%2C%20%5B-122.64405727859747%2C%2038.25933680415569%5D%2C%20%5B-122.6440916736183%2C%2038.259321854284316%5D%2C%20%5B-122.64412776691098%2C%2038.25930962680072%5D%2C%20%5B-122.64416521088071%2C%2038.259300239460856%5D%2C%20%5B-122.64420364492545%2C%2038.25929378266892%5D%2C%20%5B-122.64424269890874%2C%2038.25929031860641%5D%2C%20%5B-122.64428199672396%2C%2038.25928988063394%5D%2C%20%5B-122.6443211599165%2C%2038.259292472969186%5D%2C%20%5B-122.64435981132806%2C%2038.259298070646885%5D%2C%20%5B-122.64439757872896%2C%2038.25930661975911%5D%2C%20%5B-122.64443409840244%2C%2038.25931803797419%5D%2C%20%5B-122.64446901864764%2C%2038.25933221532975%5D%2C%20%5B-122.6445020031662%2C%2038.259349015291676%5D%2C%20%5B-122.64813116062317%2C%2038.261402875256515%5D%5D%5D%2C%20%22type%22%3A%20%22Polygon%22%7D%2C%20%22id%22%3A%20%2220088%22%2C%20%22properties%22%3A%20%7B%22district%22%3A%204%2C%20%22district_name%22%3A%20%22District%204%20-%20Oakland%22%2C%20%22feed_key%22%3A%20%22540e857d28ffdc628260ca22a21cb330%22%2C%20%22gtfs_dataset_key%22%3A%20%22bc21582ac1ad2b7de0647dfd5b76f67c%22%2C%20%22loop_or_inlining%22%3A%200%2C%20%22seg_idx%22%3A%2020128%2C%20%22shape_array_key%22%3A%20%2221aedea4c0d05c570e042903cc62c9cf%22%2C%20%22stop_id%22%3A%20%2287505%22%2C%20%22stop_sequence%22%3A%20240%7D%2C%20%22type%22%3A%20%22Feature%22%7D%2C%20%7B%22bbox%22%3A%20%5B-122.65037353737586%2C%2038.26135846323855%2C%20-122.64752388063641%2C%2038.26314212447898%5D%2C%20%22geometry%22%3A%20%7B%22coordinates%22%3A%20%5B%5B%5B-122.64845830654959%2C%2038.261581318177804%5D%2C%20%5B-122.6484651195343%2C%2038.26158511767743%5D%2C%20%5B-122.64953383024937%2C%2038.26219438156179%5D%2C%20%5B-122.65019253420871%2C%2038.262563654329234%5D%2C%20%5B-122.65020603546115%2C%2038.262571236384915%5D%2C%20%5B-122.65023685720216%2C%2038.26259040880332%5D%2C%20%5B-122.65026514008059%2C%2038.26261186385254%5D%2C%20%5B-122.65029061171703%2C%2038.26263539491074%5D%2C%20%5B-122.65031302680497%2C%2038.26266077536281%5D%2C%20%5B-122.65033216947316%2C%2038.262687760782825%5D%2C%20%5B-122.65034785536471%2C%2038.262716091288134%5D%2C%20%5B-122.6503599334127%2C%2038.2627454940418%5D%2C%20%5B-122.65036828729504%2C%2038.262775685880364%5D%2C%20%5B-122.65037283655494%2C%2038.262806376040764%5D%2C%20%5B-122.65037353737586%2C%2038.262837268960354%5D%2C%20%5B-122.65037038300376%2C%2038.26286806712351%5D%2C%20%5B-122.65036340381225%2C%2038.262898473926725%5D%2C%20%5B-122.6503526670103%2C%2038.2629281965353%5D%2C%20%5B-122.6503382759951%2C%2038.262956948703234%5D%2C%20%5B-122.65032036935649%2C%2038.262984453530116%5D%2C%20%5B-122.65029911954241%2C%2038.26301044612787%5D%2C%20%5B-122.65027473119822%2C%2038.26303467617195%5D%2C%20%5B-122.65024743919587%2C%2038.26305691031187%5D%2C%20%5B-122.65021750637212%2C%2038.263076934418784%5D%2C%20%5B-122.65018522099717%2C%2038.26309455564779%5D%2C%20%5B-122.65015089399854%2C%2038.263109604295%5D%2C%20%5B-122.65011485596645%2C%2038.263121935432125%5D%2C%20%5B-122.65007745397011%2C%2038.263131430302224%5D%2C%20%5B-122.6500390482151%2C%2038.26313799746333%5D%2C%20%5B-122.65000000857417%2C%2038.263141573669316%5D%2C%20%5B-122.649960711025%2C%2038.26314212447898%5D%2C%20%5B-122.64992153402933%2C%2038.263139644587646%5D%2C%20%5B-122.64988285488771%2C%2038.26313415787825%5D%2C%20%5B-122.64984504610585%2C%2038.26312571719157%5D%2C%20%5B-122.64980847180715%2C%2038.26311440381695%5D%2C%20%5B-122.6497734842255%2C%2038.26310032670975%5D%2C%20%5B-122.6497404203133%2C%2038.263083621441595%5D%2C%20%5B-122.64972732785704%2C%2038.26307626880099%5D%2C%20%5B-122.64906746307612%2C%2038.26270634394636%5D%2C%20%5B-122.64906488059246%2C%2038.26270488397674%5D%2C%20%5B-122.647998260159%2C%2038.262096809563886%5D%2C%20%5B-122.6476960084844%2C%2038.261931944784834%5D%2C%20%5B-122.64766485521751%2C%2038.261913106706366%5D%2C%20%5B-122.6476362007351%2C%2038.26189195880644%5D%2C%20%5B-122.64761032099582%2C%2038.26186870475293%5D%2C%20%5B-122.64758746523503%2C%2038.26184356849688%5D%2C%20%5B-122.64756785356467%2C%2038.261816792115994%5D%2C%20%5B-122.64755167485346%2C%2038.26178863348305%5D%2C%20%5B-122.64753908490808%2C%2038.261759363782524%5D%2C%20%5B-122.64753020497274%2C%2038.261729264898776%5D%2C%20%5B-122.64752512056184%2C%2038.2616986267014%5D%2C%20%5B-122.64752388063641%2C%2038.26166774425339%5D%2C%20%5B-122.64752649713283%2C%2038.261636914969785%5D%2C%20%5B-122.64753294484805%2C%2038.26160643575318%5D%2C%20%5B-122.64754316168262%2C%2038.261576600134376%5D%2C%20%5B-122.64755704923859%2C%2038.261547695445906%5D%2C%20%5B-122.64757447376772%2C%2038.26152000005435%5D%2C%20%5B-122.6475952674593%2C%2038.26149378067998%5D%2C%20%5B-122.64761923005665%2C%2038.26146928982809%5D%2C%20%5B-122.64764613078565%2C%2038.26144676335699%5D%2C%20%5B-122.6476757105772%2C%2038.26142641820716%5D%2C%20%5B-122.64770768456246%2C%2038.261408450311535%5D%2C%20%5B-122.64774174481593%2C%2038.26139303270909%5D%2C%20%5B-122.64777756332124%2C%2038.26138031387807%5D%2C%20%5B-122.6478147951297%2C%2038.26137041630631%5D%2C%20%5B-122.64785308168246%2C%2038.26136343531172%5D%2C%20%5B-122.64789205426335%2C%2038.261359438124195%5D%2C%20%5B-122.64793133754976%2C%2038.26135846323855%5D%2C%20%5B-122.64797055322693%2C%2038.261360520043134%5D%2C%20%5B-122.64800932363116%2C%2038.26136558873014%5D%2C%20%5B-122.64804727538679%2C%2038.26137362048594%5D%2C%20%5B-122.6480840430018%2C%2038.26138453796129%5D%2C%20%5B-122.64811927238753%2C%2038.261398236016234%5D%2C%20%5B-122.64815262426869%2C%2038.261414582732385%5D%2C%20%5B-122.64845830654959%2C%2038.261581318177804%5D%5D%5D%2C%20%22type%22%3A%20%22Polygon%22%7D%2C%20%22id%22%3A%20%2220089%22%2C%20%22properties%22%3A%20%7B%22district%22%3A%204%2C%20%22district_name%22%3A%20%22District%204%20-%20Oakland%22%2C%20%22feed_key%22%3A%20%22540e857d28ffdc628260ca22a21cb330%22%2C%20%22gtfs_dataset_key%22%3A%20%22bc21582ac1ad2b7de0647dfd5b76f67c%22%2C%20%22loop_or_inlining%22%3A%200%2C%20%22seg_idx%22%3A%2020129%2C%20%22shape_array_key%22%3A%20%2221aedea4c0d05c570e042903cc62c9cf%22%2C%20%22stop_id%22%3A%20%2287529%22%2C%20%22stop_sequence%22%3A%20270%7D%2C%20%22type%22%3A%20%22Feature%22%7D%2C%20%7B%22bbox%22%3A%20%5B-122.65686018509088%2C%2038.262512733799696%2C%20-122.64957292010479%2C%2038.266813904991736%5D%2C%20%22geometry%22%3A%20%7B%22coordinates%22%3A%20%5B%5B%5B-122.65669279585317%2C%2038.266213794616554%5D%2C%20%5B-122.6567244859039%2C%2038.266233561678526%5D%2C%20%5B-122.65675347771874%2C%2038.26625574085837%5D%2C%20%5B-122.6567794755259%2C%2038.2662801058882%5D%2C%20%5B-122.65680221409718%2C%2038.26630640820018%5D%2C%20%5B-122.6568214614538%2C%2038.26633437946234%5D%2C%20%5B-122.65683702123312%2C%2038.26636373431623%5D%2C%20%5B-122.65684873469198%2C%2038.26639417328762%5D%2C%20%5B-122.6568564823264%2C%2038.26642538584201%5D%2C%20%5B-122.65686018509088%2C%2038.266457053552564%5D%2C%20%5B-122.656859805205%2C%2038.26648885334839%5D%2C%20%5B-122.65685534653917%2C%2038.26652046081088%5D%2C%20%5B-122.65684685457518%2C%2038.26655155348303%5D%2C%20%5B-122.65683441594257%2C%2038.266581814159345%5D%2C%20%5B-122.65681815753487%2C%2038.26661093412191%5D%2C%20%5B-122.65679824521546%2C%2038.266638616289995%5D%2C%20%5B-122.6567748821253%2C%2038.266664578250754%5D%2C%20%5B-122.65674575693785%2C%2038.26669370356747%5D%2C%20%5B-122.65671997890803%2C%2038.2667170284883%5D%2C%20%5B-122.65669141662289%2C%2038.26673825487895%5D%2C%20%5B-122.65666034515318%2C%2038.266757178315885%5D%2C%20%5B-122.65662706373531%2C%2038.26677361655409%5D%2C%20%5B-122.65659189288962%2C%2038.26678741128266%5D%2C%20%5B-122.65655517133342%2C%2038.26679842964939%5D%2C%20%5B-122.65651725271896%2C%2038.26680656554%5D%2C%20%5B-122.65647850222732%2C%2038.26681174060055%5D%2C%20%5B-122.65643929305142%2C%2038.266813904991736%5D%2C%20%5B-122.65640000280183%2C%2038.26681303786905%5D%2C%20%5B-122.65636100986984%2C%2038.266809147583345%5D%2C%20%5B-122.65632268978337%2C%2038.26680227160079%5D%2C%20%5B-122.6562854115901%2C%2038.266792476141596%5D%2C%20%5B-122.65624953430321%2C%2038.26677985554256%5D%2C%20%5B-122.6562154034438%2C%2038.26676453134843%5D%2C%20%5B-122.65618334771307%2C%2038.26674665114111%5D%2C%20%5B-122.65615367582686%2C%2038.26672638711864%5D%2C%20%5B-122.6561266735423%2C%2038.26670393443646%5D%2C%20%5B-122.6561026009059%2C%2038.266679509328036%5D%2C%20%5B-122.65608168974909%2C%2038.26665334702236%5D%2C%20%5B-122.65607296655112%2C%2038.2666396035237%5D%2C%20%5B-122.6497404203133%2C%2038.263083621441595%5D%2C%20%5B-122.64970959849607%2C%2038.26306444889522%5D%2C%20%5B-122.64968131560579%2C%2038.26304299371451%5D%2C%20%5B-122.64965584402243%2C%2038.26301946252645%5D%2C%20%5B-122.64963342905043%2C%2038.2629940819512%5D%2C%20%5B-122.64961428655656%2C%2038.26296709641924%5D%2C%20%5B-122.649598600891%2C%2038.2629387658177%5D%2C%20%5B-122.64958652311203%2C%2038.26290936298709%5D%2C%20%5B-122.6495781695314%2C%2038.262879171093836%5D%2C%20%5B-122.64957362059428%2C%2038.262848480903195%5D%2C%20%5B-122.64957292010479%2C%2038.26281758797899%5D%2C%20%5B-122.64957607480429%2C%2038.262786789836845%5D%2C%20%5B-122.64958305430656%2C%2038.26275638307954%5D%2C%20%5B-122.64959379139067%2C%2038.26272666054018%5D%2C%20%5B-122.6496081826486%2C%2038.2626979084619%5D%2C%20%5B-122.64962608948119%2C%2038.26267040374167%5D%2C%20%5B-122.64964733943303%2C%2038.26264441126356%5D%2C%20%5B-122.64967172785347%2C%2038.26262018134751%5D%2C%20%5B-122.64969901986764%2C%2038.26259794733905%5D%2C%20%5B-122.64972895263834%2C%2038.262577923362%5D%2C%20%5B-122.64976123789735%2C%2038.26256030225622%5D%2C%20%5B-122.64979556472169%2C%2038.26254525372094%5D%2C%20%5B-122.64983160252777%2C%2038.26253292268006%5D%2C%20%5B-122.64986900425507%2C%2038.262523427886876%5D%2C%20%5B-122.64990740970839%2C%2038.262516860780394%5D%2C%20%5B-122.64994644902653%2C%2038.262513284604644%5D%2C%20%5B-122.64998574624423%2C%2038.262512733799696%5D%2C%20%5B-122.65002492291252%2C%2038.262515213669985%5D%2C%20%5B-122.65006360174341%2C%2038.262520700333376%5D%2C%20%5B-122.65010141024308%2C%2038.262529140950946%5D%2C%20%5B-122.65013798429906%2C%2038.26254045423592%5D%2C%20%5B-122.65017297168673%2C%2038.26255453123647%5D%2C%20%5B-122.65020603546115%2C%2038.262571236384915%5D%2C%20%5B-122.65669279585317%2C%2038.266213794616554%5D%5D%5D%2C%20%22type%22%3A%20%22Polygon%22%7D%2C%20%22id%22%3A%20%2220090%22%2C%20%22properties%22%3A%20%7B%22district%22%3A%204%2C%20%22district_name%22%3A%20%22District%204%20-%20Oakland%22%2C%20%22feed_key%22%3A%20%22540e857d28ffdc628260ca22a21cb330%22%2C%20%22gtfs_dataset_key%22%3A%20%22bc21582ac1ad2b7de0647dfd5b76f67c%22%2C%20%22loop_or_inlining%22%3A%200%2C%20%22seg_idx%22%3A%2020130%2C%20%22shape_array_key%22%3A%20%2221aedea4c0d05c570e042903cc62c9cf%22%2C%20%22stop_id%22%3A%20%2287507%22%2C%20%22stop_sequence%22%3A%20330%7D%2C%20%22type%22%3A%20%22Feature%22%7D%2C%20%7B%22bbox%22%3A%20%5B-122.65899509310127%2C%2038.26618434549974%2C%20-122.65599948020758%2C%2038.26810181578547%5D%2C%20%22geometry%22%3A%20%7B%22coordinates%22%3A%20%5B%5B%5B-122.6588791612284%2C%2038.267565605549926%5D%2C%20%5B-122.65890322759006%2C%2038.26758632234407%5D%2C%20%5B-122.65892676008677%2C%2038.26761107075267%5D%2C%20%5B-122.6589470933853%2C%2038.26763751315441%5D%2C%20%5B-122.6589640316626%2C%2038.26766539489625%5D%2C%20%5B-122.65897741179087%2C%2038.267694447463214%5D%2C%20%5B-122.65898710490842%2C%2038.267724391064284%5D%2C%20%5B-122.6589930176611%2C%2038.267754937327354%5D%2C%20%5B-122.65899509310127%2C%2038.26778579207556%5D%2C%20%5B-122.65899331123656%2C%2038.267816658161166%5D%2C%20%5B-122.65898768922253%2C%2038.2678472383266%5D%2C%20%5B-122.6589782811977%2C%2038.267877238067705%5D%2C%20%5B-122.65896517776223%2C%2038.26790636846966%5D%2C%20%5B-122.65894850510568%2C%2038.26793434898962%5D%2C%20%5B-122.6589284237918%2C%2038.26796091015832%5D%2C%20%5B-122.6589051272123%2C%2038.26798579617561%5D%2C%20%5B-122.65887883972457%2C%2038.26800876737378%5D%2C%20%5B-122.65884981449098%2C%2038.2680296025256%5D%2C%20%5B-122.65881833104085%2C%2038.26804810097538%5D%2C%20%5B-122.65878469257834%2C%2038.268064084571165%5D%2C%20%5B-122.65874922306244%2C%2038.26807739938038%5D%2C%20%5B-122.65871226408703%2C%2038.26808791717274%5D%2C%20%5B-122.65867417159087%2C%2038.26809553665495%5D%2C%20%5B-122.65863531242978%2C%2038.26810018444627%5D%2C%20%5B-122.6585960608432%2C%2038.26810181578547%5D%2C%20%5B-122.65855679485017%2C%2038.26810041496155%5D%2C%20%5B-122.65851789260842%2C%2038.268095995465444%5D%2C%20%5B-122.65847972877238%2C%2038.26808859985985%5D%2C%20%5B-122.65844267088485%2C%2038.26807829936936%5D%2C%20%5B-122.65840707583732%2C%2038.26806519319448%5D%2C%20%5B-122.65837328643256%2C%2038.26804940755634%5D%2C%20%5B-122.65834162808335%2C%2038.268031094480946%5D%2C%20%5B-122.65831240567827%2C%2038.26801043033498%5D%2C%20%5B-122.6582778407279%2C%2038.267983461625136%5D%2C%20%5B-122.65825460222632%2C%2038.26796371065953%5D%2C%20%5B-122.65823359359072%2C%2038.26794247230876%5D%2C%20%5B-122.65821496821391%2C%2038.26791990164484%5D%2C%20%5B-122.65814049155586%2C%2038.267820598913765%5D%2C%20%5B-122.65750478356276%2C%2038.267480359896844%5D%2C%20%5B-122.65617498180679%2C%2038.266770464557574%5D%2C%20%5B-122.65614367721285%2C%2038.266751930845835%5D%2C%20%5B-122.65611482665884%2C%2038.26673108090051%5D%2C%20%5B-122.6560887063583%2C%2038.266708114339416%5D%2C%20%5B-122.65606556638463%2C%2038.26668325104453%5D%2C%20%5B-122.65604562827679%2C%2038.2666567290571%5D%2C%20%5B-122.6560290829186%2C%2038.26662880229849%5D%2C%20%5B-122.65601608871101%2C%2038.266599738138794%5D%2C%20%5B-122.65600677005601%2C%2038.26656981483749%5D%2C%20%5B-122.65600121616555%2C%2038.26653931887893%5D%2C%20%5B-122.65599948020758%2C%2038.26650854222975%5D%2C%20%5B-122.65600157879736%2C%2038.26647777954371%5D%2C%20%5B-122.6560074918384%2C%2038.26644732534018%5D%2C%20%5B-122.6560171627152%2C%2038.26641747118513%5D%2C%20%5B-122.65603049883528%2C%2038.26638850289908%5D%2C%20%5B-122.65604737251593%2C%2038.26636069782129%5D%2C%20%5B-122.65606762220679%2C%2038.26633432215401%5D%2C%20%5B-122.65609105403652%2C%2038.26630962841446%5D%2C%20%5B-122.65611744366913%2C%2038.266286853016744%5D%2C%20%5B-122.65614653845171%2C%2038.26626621400925%5D%2C%20%5B-122.65617805983337%2C%2038.26624790898635%5D%2C%20%5B-122.65621170603201%2C%2038.26623211319729%5D%2C%20%5B-122.65624715492359%2C%2038.26621897786818%5D%2C%20%5B-122.65625400056986%2C%2038.26621705854805%5D%2C%20%5B-122.65626985788715%2C%2038.26621083899252%5D%2C%20%5B-122.65630657919601%2C%2038.26619982071343%5D%2C%20%5B-122.65634449752478%2C%2038.26619168488963%5D%2C%20%5B-122.65638324770333%2C%2038.266186509872526%5D%2C%20%5B-122.65642245655077%2C%2038.26618434549974%5D%2C%20%5B-122.65646174646922%2C%2038.2661852126151%5D%2C%20%5B-122.65650073908%2C%2038.26618910286794%5D%2C%20%5B-122.65653905886762%2C%2038.26619597879338%5D%2C%20%5B-122.65657633679588%2C%2038.26620577417344%5D%2C%20%5B-122.65661221386173%2C%2038.26621839467436%5D%2C%20%5B-122.65664634455267%2C%2038.266233718755174%5D%2C%20%5B-122.65667840017383%2C%2038.2662515988383%5D%2C%20%5B-122.6567080720137%2C%2038.266271862730584%5D%2C%20%5B-122.65673507431686%2C%2038.2662943152814%5D%2C%20%5B-122.65675914703614%2C%2038.26631874026246%5D%2C%20%5B-122.65676249223529%2C%2038.26632292545193%5D%2C%20%5B-122.6579550141159%2C%2038.26695953252698%5D%2C%20%5B-122.65795541544617%2C%2038.26695974704578%5D%2C%20%5B-122.65866541411614%2C%2038.26733974570679%5D%2C%20%5B-122.6587004218855%2C%2038.267360787568755%5D%2C%20%5B-122.65873227704425%2C%2038.26738472530616%5D%2C%20%5B-122.65876059395745%2C%2038.26741126913389%5D%2C%20%5B-122.65878502982224%2C%2038.26744009771764%5D%2C%20%5B-122.6588791612284%2C%2038.267565605549926%5D%5D%5D%2C%20%22type%22%3A%20%22Polygon%22%7D%2C%20%22id%22%3A%20%2220091%22%2C%20%22properties%22%3A%20%7B%22district%22%3A%204%2C%20%22district_name%22%3A%20%22District%204%20-%20Oakland%22%2C%20%22feed_key%22%3A%20%22540e857d28ffdc628260ca22a21cb330%22%2C%20%22gtfs_dataset_key%22%3A%20%22bc21582ac1ad2b7de0647dfd5b76f67c%22%2C%20%22loop_or_inlining%22%3A%200%2C%20%22seg_idx%22%3A%2020131%2C%20%22shape_array_key%22%3A%20%2221aedea4c0d05c570e042903cc62c9cf%22%2C%20%22stop_id%22%3A%20%2287508%22%2C%20%22stop_sequence%22%3A%20360%7D%2C%20%22type%22%3A%20%22Feature%22%7D%2C%20%7B%22bbox%22%3A%20%5B-122.66310841533114%2C%2038.2674721214831%2C%20-122.65819403678371%2C%2038.27182101572987%5D%2C%20%22geometry%22%3A%20%7B%22coordinates%22%3A%20%5B%5B%5B-122.6597521575395%2C%2038.268246535572565%5D%2C%20%5B-122.65977697982494%2C%2038.26826776206832%5D%2C%20%5B-122.66299463940776%2C%2038.27128555540497%5D%2C%20%5B-122.6630102726072%2C%2038.27129968559999%5D%2C%20%5B-122.66303458078546%2C%2038.271323967074416%5D%2C%20%5B-122.66305574410364%2C%2038.27135000446342%5D%2C%20%5B-122.66307355874538%2C%2038.27137754701464%5D%2C%20%5B-122.66308785314315%2C%2038.271406329479596%5D%2C%20%5B-122.66309848963058%2C%2038.27143607466887%5D%2C%20%5B-122.66310536576839%2C%2038.27146649612095%5D%2C%20%5B-122.66310841533114%2C%2038.27149730086124%5D%2C%20%5B-122.66310760894515%2C%2038.27152819222351%5D%2C%20%5B-122.66310295437157%2C%2038.27155887270711%5D%2C%20%5B-122.6630944964319%2C%2038.27158904684166%5D%2C%20%5B-122.66308231657628%2C%2038.271618424032994%5D%2C%20%5B-122.66306653209963%2C%2038.27164672136156%5D%2C%20%5B-122.66304729501181%2C%2038.2716736663072%5D%2C%20%5B-122.66302479057399%2C%2038.27169899937382%5D%2C%20%5B-122.66299923551456%2C%2038.27172247658831%5D%2C%20%5B-122.66297087594201%2C%2038.27174387185038%5D%2C%20%5B-122.66293998497468%2C%2038.27176297911008%5D%2C%20%5B-122.66290686011062%2C%2038.27177961435225%5D%2C%20%5B-122.66287182036238%2C%2038.271793617368616%5D%2C%20%5B-122.66283520318471%2C%2038.27180485330099%5D%2C%20%5B-122.66279736122455%2C%2038.27181321393996%5D%2C%20%5B-122.66275865892477%2C%2038.27181861876694%5D%2C%20%5B-122.6627194690141%2C%2038.27182101572987%5D%2C%20%5B-122.66268016891759%2C%2038.271820381744355%5D%2C%20%5B-122.66264113712138%2C%2038.27181672291619%5D%2C%20%5B-122.66260274952766%2C%2038.271810074482254%5D%2C%20%5B-122.66256537583428%2C%2038.27180050047147%5D%2C%20%5B-122.66252937597422%2C%2038.27178809308783%5D%2C%20%5B-122.66249509664898%2C%2038.271772971822635%5D%2C%20%5B-122.66246286798975%2C%2038.271755282303616%5D%2C%20%5B-122.66243300037777%2C%2038.2717351948922%5D%2C%20%5B-122.66240578145523%2C%2038.271712903043074%5D%2C%20%5B-122.66238775360218%2C%2038.271696608299884%5D%2C%20%5B-122.66238301480722%2C%2038.2716922454258%5D%2C%20%5B-122.65917481078284%2C%2038.268683297634155%5D%2C%20%5B-122.65831240567827%2C%2038.26801043033498%5D%2C%20%5B-122.65828590064555%2C%2038.26798761412736%5D%2C%20%5B-122.65826236824276%2C%2038.2679628655926%5D%2C%20%5B-122.65824203509841%2C%2038.26793642307435%5D%2C%20%5B-122.6582250970296%2C%2038.26790854123022%5D%2C%20%5B-122.65821171715618%2C%2038.26787948857911%5D%2C%20%5B-122.65820202433%2C%2038.26784954491506%5D%2C%20%5B-122.65819611189401%2C%2038.26781899861288%5D%2C%20%5B-122.65819403678371%2C%2038.26778814385077%5D%2C%20%5B-122.65819581897878%2C%2038.26775727777713%5D%2C%20%5B-122.65820144131094%2C%2038.267726697648925%5D%2C%20%5B-122.65821084962946%2C%2038.26769669796897%5D%2C%20%5B-122.6582239533229%2C%2038.267667567649674%5D%2C%20%5B-122.6582406261918%2C%2038.26763958723086%5D%2C%20%5B-122.65826070766423%2C%2038.26761302617766%5D%2C%20%5B-122.65828400434239%2C%2038.267588140285966%5D%2C%20%5B-122.65831029186509%2C%2038.267565169218685%5D%2C%20%5B-122.65833931706864%2C%2038.26754433419786%5D%2C%20%5B-122.65837080042488%2C%2038.267525835874245%5D%2C%20%5B-122.6584044387332%2C%2038.26750985239498%5D%2C%20%5B-122.65843990804056%2C%2038.26749653768808%5D%2C%20%5B-122.65847686676113%2C%2038.267486019979906%5D%2C%20%5B-122.65851495896592%2C%2038.26747840056058%5D%2C%20%5B-122.65855381781033%2C%2038.26747375280837%5D%2C%20%5B-122.65859306906705%2C%2038.2674721214831%5D%2C%20%5B-122.65863233472973%2C%2038.267473522295084%5D%2C%20%5B-122.65867123665336%2C%2038.26747794175393%5D%2C%20%5B-122.6587094001957%2C%2038.26748533729841%5D%2C%20%5B-122.65874645782523%2C%2038.267495637706226%5D%2C%20%5B-122.65878205266041%2C%2038.26750874378%5D%2C%20%5B-122.65881584190662%2C%2038.267524529302555%5D%2C%20%5B-122.65884750015721%2C%2038.26754284225236%5D%2C%20%5B-122.65887672252731%2C%2038.267563506267514%5D%2C%20%5B-122.6597521575395%2C%2038.268246535572565%5D%5D%5D%2C%20%22type%22%3A%20%22Polygon%22%7D%2C%20%22id%22%3A%20%2220092%22%2C%20%22properties%22%3A%20%7B%22district%22%3A%204%2C%20%22district_name%22%3A%20%22District%204%20-%20Oakland%22%2C%20%22feed_key%22%3A%20%22540e857d28ffdc628260ca22a21cb330%22%2C%20%22gtfs_dataset_key%22%3A%20%22bc21582ac1ad2b7de0647dfd5b76f67c%22%2C%20%22loop_or_inlining%22%3A%200%2C%20%22seg_idx%22%3A%2020132%2C%20%22shape_array_key%22%3A%20%2221aedea4c0d05c570e042903cc62c9cf%22%2C%20%22stop_id%22%3A%20%2287509%22%2C%20%22stop_sequence%22%3A%20420%7D%2C%20%22type%22%3A%20%22Feature%22%7D%2C%20%7B%22bbox%22%3A%20%5B-122.66503270252491%2C%2038.27119157367651%2C%20-122.66230764031053%2C%2038.2733016385794%5D%2C%20%22geometry%22%3A%20%7B%22coordinates%22%3A%20%5B%5B%5B-122.66400736898471%2C%2038.272200904102036%5D%2C%20%5B-122.66486051800402%2C%2038.27272812974614%5D%2C%20%5B-122.66486558299647%2C%2038.272730981022356%5D%2C%20%5B-122.66489637972258%2C%2038.272750182452256%5D%2C%20%5B-122.66492463376593%2C%2038.272771664125365%5D%2C%20%5B-122.66495007302481%2C%2038.272795219163235%5D%2C%20%5B-122.66497245250446%2C%2038.27282062071988%5D%2C%20%5B-122.66499155667658%2C%2038.27284762416625%5D%2C%20%5B-122.66500720155501%2C%2038.27287596944588%5D%2C%20%5B-122.6650192364678%2C%2038.27290538357977%5D%2C%20%5B-122.66502754550827%2C%2038.272935583294725%5D%2C%20%5B-122.66503204865143%2C%2038.272966277751756%5D%2C%20%5B-122.66503270252491%2C%2038.272997171346965%5D%2C%20%5B-122.66502950082679%2C%2038.27302796655812%5D%2C%20%5B-122.66502247438646%2C%2038.273058366810346%5D%2C%20%5B-122.66501169086793%2C%2038.27308807933175%5D%2C%20%5B-122.66499725411828%2C%2038.27311681797363%5D%2C%20%5B-122.6649793031678%2C%2038.273144305965815%5D%2C%20%5B-122.66495801089123%2C%2038.273170278582406%5D%2C%20%5B-122.66493358234281%2C%2038.27319448569114%5D%2C%20%5B-122.66490625278178%2C%2038.27321669416248%5D%2C%20%5B-122.66487628540654%2C%2038.27323669011485%5D%2C%20%5B-122.66484396882008%2C%2038.27325428097434%5D%2C%20%5B-122.66480961425049%2C%2038.27326929732972%5D%2C%20%5B-122.66477355255358%2C%2038.27328159456358%5D%2C%20%5B-122.66473613102646%2C%2038.27329105424551%5D%2C%20%5B-122.66469771006278%2C%2038.273297585272445%5D%2C%20%5B-122.66465865968175%2C%2038.2733011247462%5D%2C%20%5B-122.66461935596458%2C%2038.2733016385794%5D%2C%20%5B-122.66458017743227%2C%2038.27329912182341%5D%2C%20%5B-122.66454150140027%2C%2038.27329359871627%5D%2C%20%5B-122.66450370034434%2C%2038.27328512244921%5D%2C%20%5B-122.66446713831343%2C%2038.273273774654264%5D%2C%20%5B-122.6644321674233%2C%2038.27325966461829%5D%2C%20%5B-122.66439912446558%2C%2038.27324292823016%5D%2C%20%5B-122.66438676991277%2C%2038.27323597335837%5D%2C%20%5B-122.6643724317339%2C%2038.27322751393277%5D%2C%20%5B-122.66348243060504%2C%2038.272677512089146%5D%2C%20%5B-122.66345386321531%2C%2038.27265807612275%5D%2C%20%5B-122.66342775267307%2C%2038.272636610929936%5D%2C%20%5B-122.66240578145523%2C%2038.271712903043074%5D%2C%20%5B-122.66238147335498%2C%2038.271688621440795%5D%2C%20%5B-122.66236031017624%2C%2038.271662583932354%5D%2C%20%5B-122.66234249572996%2C%2038.27163504127488%5D%2C%20%5B-122.66232820157617%2C%2038.27160625872072%5D%2C%20%5B-122.66231756537192%2C%2038.271576513462854%5D%2C%20%5B-122.66231068954555%2C%2038.271546091965526%5D%2C%20%5B-122.66230764031053%2C%2038.27151528720492%5D%2C%20%5B-122.662308447028%2C%2038.27148439584797%5D%2C%20%5B-122.66231310192401%2C%2038.27145371539536%5D%2C%20%5B-122.66232156016473%2C%2038.27142354131611%5D%2C%20%5B-122.66233374028837%2C%2038.271394164202334%5D%2C%20%5B-122.66234952498976%2C%2038.27136586697051%5D%2C%20%5B-122.66236876225044%2C%2038.27133892213717%5D%2C%20%5B-122.66239126680253%2C%2038.27131358919407%5D%2C%20%5B-122.66241682191325%2C%2038.27129011210956%5D%2C%20%5B-122.66244518147222%2C%2038.27126871697899%5D%2C%20%5B-122.66247607236151%2C%2038.27124960984716%5D%2C%20%5B-122.66250919708615%2C%2038.27123297472441%5D%2C%20%5B-122.66254423663892%2C%2038.27121897181436%5D%2C%20%5B-122.66258085357259%2C%2038.2712077359711%5D%2C%20%5B-122.66261869524958%2C%2038.27119937540072%5D%2C%20%5B-122.66265739723795%2C%2038.27119397061903%5D%2C%20%5B-122.66269658682084%2C%2038.27119157367651%5D%2C%20%5B-122.6627358865859%2C%2038.27119220765659%5D%2C%20%5B-122.66277491805968%2C%2038.27119586645379%5D%2C%20%5B-122.66281330535236%2C%2038.27120251483244%5D%2C%20%5B-122.66285067877772%2C%2038.27121208876572%5D%2C%20%5B-122.66288667841305%2C%2038.2712244960526%5D%2C%20%5B-122.66292095756542%2C%2038.27123961720542%5D%2C%20%5B-122.66295318611036%2C%2038.27125730660095%5D%2C%20%5B-122.66298305367104%2C%2038.27127739388234%5D%2C%20%5B-122.6630102726072%2C%2038.27129968560001%5D%2C%20%5B-122.66400736898471%2C%2038.272200904102036%5D%5D%5D%2C%20%22type%22%3A%20%22Polygon%22%7D%2C%20%22id%22%3A%20%2220093%22%2C%20%22properties%22%3A%20%7B%22district%22%3A%204%2C%20%22district_name%22%3A%20%22District%204%20-%20Oakland%22%2C%20%22feed_key%22%3A%20%22540e857d28ffdc628260ca22a21cb330%22%2C%20%22gtfs_dataset_key%22%3A%20%22bc21582ac1ad2b7de0647dfd5b76f67c%22%2C%20%22loop_or_inlining%22%3A%200%2C%20%22seg_idx%22%3A%2020133%2C%20%22shape_array_key%22%3A%20%2221aedea4c0d05c570e042903cc62c9cf%22%2C%20%22stop_id%22%3A%20%2287530%22%2C%20%22stop_sequence%22%3A%20440%7D%2C%20%22type%22%3A%20%22Feature%22%7D%2C%20%7B%22bbox%22%3A%20%5B-122.6697105729241%2C%2038.27267227112682%2C%20-122.66423200664913%2C%2038.27662950291414%5D%2C%20%22geometry%22%3A%20%7B%22coordinates%22%3A%20%5B%5B%5B-122.66954322063717%2C%2038.275364017046535%5D%2C%20%5B-122.6695730178313%2C%2038.27538252948064%5D%2C%20%5B-122.66960045037435%2C%2038.27540317689998%5D%2C%20%5B-122.66962527163298%2C%2038.2754257736746%5D%2C%20%5B-122.66964725844993%2C%2038.27545011664892%5D%2C%20%5B-122.6696662131503%2C%2038.275475986967926%5D%2C%20%5B-122.66968196531884%2C%2038.27550315204488%5D%2C%20%5B-122.66969437333215%2C%2038.27553136765223%5D%2C%20%5B-122.66970332563203%2C%2038.275560380117284%5D%2C%20%5B-122.66970874172863%2C%2038.275589928603004%5D%2C%20%5B-122.6697105729241%2C%2038.27561974745286%5D%2C%20%5B-122.66970880275075%2C%2038.27564956857933%5D%2C%20%5B-122.66970344711909%2C%2038.275679123874035%5D%2C%20%5B-122.66961344900122%2C%2038.27604912417037%5D%2C%20%5B-122.66961217713799%2C%2038.27605413245402%5D%2C%20%5B-122.6695262379578%2C%2038.27637879810467%5D%2C%20%5B-122.66951635189137%2C%2038.2764087029682%5D%2C%20%5B-122.66950278412334%2C%2038.27643770220298%5D%2C%20%5B-122.66948566531502%2C%2038.27646551652937%5D%2C%20%5B-122.66946516032698%2C%2038.27649187807869%5D%2C%20%5B-122.66944146663127%2C%2038.27651653297301%5D%2C%20%5B-122.66941481240983%2C%2038.27653924377057%5D%2C%20%5B-122.66938545435696%2C%2038.27655979175199%5D%2C%20%5B-122.66935367520738%2C%2038.27657797902713%5D%2C%20%5B-122.6693197810131%2C%2038.27659363044076%5D%2C%20%5B-122.66928409819603%2C%2038.27660659525956%5D%2C%20%5B-122.66924697040439%2C%2038.27661674862379%5D%2C%20%5B-122.66920875520276%2C%2038.276623992749826%5D%2C%20%5B-122.66916982062875%2C%2038.27662825787193%5D%2C%20%5B-122.66913054164813%2C%2038.27662950291414%5D%2C%20%5B-122.66909129654377%2C%2038.276627715885844%5D%2C%20%5B-122.66905246327217%2C%2038.27662291399725%5D%2C%20%5B-122.66901441582355%2C%2038.27661514349388%5D%2C%20%5B-122.66897752061978%2C%2038.27660447921074%5D%2C%20%5B-122.66894213298552%2C%2038.27659102385203%5D%2C%20%5B-122.66890859372599%2C%2038.27657490700162%5D%2C%20%5B-122.66887722584474%2C%2038.27655628387533%5D%2C%20%5B-122.66884833143294%2C%2038.27653533382581%5D%2C%20%5B-122.66882218875995%2C%2038.27651225861547%5D%2C%20%5B-122.66879904959346%2C%2038.276487280473035%5D%2C%20%5B-122.66877913677483%2C%2038.27646063995341%5D%2C%20%5B-122.66876264207305%2C%2038.276432593621074%5D%2C%20%5B-122.66874972433801%2C%2038.27640341157901%5D%2C%20%5B-122.66874050797085%2C%2038.27637337486741%5D%2C%20%5B-122.66873508172594%2C%2038.27634277275703%5D%2C%20%5B-122.66873349785641%2C%2038.27631189996345%5D%2C%20%5B-122.668735771611%2C%2038.27628105380879%5D%2C%20%5B-122.66874188108747%2C%2038.27625053135802%5D%2C%20%5B-122.66882716174013%2C%2038.2759283663549%5D%2C%20%5B-122.66886843018723%2C%2038.27575871131798%5D%2C%20%5B-122.66439912446558%2C%2038.27324292823016%5D%2C%20%5B-122.66436832766398%2C%2038.273223726672065%5D%2C%20%5B-122.66434007360958%2C%2038.273202244867456%5D%2C%20%5B-122.66431463440458%2C%2038.27317868969976%5D%2C%20%5B-122.66429225504162%2C%2038.27315328801997%5D%2C%20%5B-122.66427315104454%2C%2038.27312628446183%5D%2C%20%5B-122.66425750639274%2C%2038.27309793908604%5D%2C%20%5B-122.66424547174951%2C%2038.27306852487553%5D%2C%20%5B-122.66423716301118%2C%2038.273038325106214%5D%2C%20%5B-122.66423266019106%2C%2038.27300763061921%5D%2C%20%5B-122.66423200664913%2C%2038.272976737019626%5D%2C%20%5B-122.66423520867463%2C%2038.272945941829825%5D%2C%20%5B-122.66424223542548%2C%2038.27291554162391%5D%2C%20%5B-122.66425301922587%2C%2038.272885829171855%5D%2C%20%5B-122.66426745621777%2C%2038.272857090619894%5D%2C%20%5B-122.66428540736163%2C%2038.27282960273458%5D%2C%20%5B-122.66430669977527%2C%2038.2728036302379%5D%2C%20%5B-122.6643311283992%2C%2038.272779423257305%5D%2C%20%5B-122.66435845797129%2C%2038.27275721491745%5D%2C%20%5B-122.66438842529266%2C%2038.27273721909493%5D%2C%20%5B-122.6644207417624%2C%2038.27271962835857%5D%2C%20%5B-122.66445509615696%2C%2038.27270461211502%5D%2C%20%5B-122.6644911576272%2C%2038.272692314977185%5D%2C%20%5B-122.66452857888476%2C%2038.27268285537201%5D%2C%20%5B-122.66456699954635%2C%2038.272676324399505%5D%2C%20%5B-122.66460604960432%2C%2038.272672784955645%5D%2C%20%5B-122.66464535298994%2C%2038.27267227112682%5D%2C%20%5B-122.66468453119487%2C%2038.27267478786146%5D%2C%20%5B-122.66472320691634%2C%2038.27268031092235%5D%2C%20%5B-122.6647610076904%2C%2038.27268878711996%5D%2C%20%5B-122.66479756947909%2C%2038.272700134824944%5D%2C%20%5B-122.66483254017581%2C%2038.27271424475398%5D%2C%20%5B-122.66486558299647%2C%2038.272730981022356%5D%2C%20%5B-122.66954322063717%2C%2038.275364017046535%5D%5D%5D%2C%20%22type%22%3A%20%22Polygon%22%7D%2C%20%22id%22%3A%20%2220094%22%2C%20%22properties%22%3A%20%7B%22district%22%3A%204%2C%20%22district_name%22%3A%20%22District%204%20-%20Oakland%22%2C%20%22feed_key%22%3A%20%22540e857d28ffdc628260ca22a21cb330%22%2C%20%22gtfs_dataset_key%22%3A%20%22bc21582ac1ad2b7de0647dfd5b76f67c%22%2C%20%22loop_or_inlining%22%3A%200%2C%20%22seg_idx%22%3A%2020134%2C%20%22shape_array_key%22%3A%20%2221aedea4c0d05c570e042903cc62c9cf%22%2C%20%22stop_id%22%3A%20%2287511%22%2C%20%22stop_sequence%22%3A%20480%7D%2C%20%22type%22%3A%20%22Feature%22%7D%5D%2C%20%22type%22%3A%20%22FeatureCollection%22%7D%29%3B%0A%0A%20%20%20%20%20%20%20%20%0A%20%20%20%20%0A%20%20%20%20geo_json_9cf2781c8e3a454aad3fcfe20570077d.bindTooltip%28%0A%20%20%20%20function%28layer%29%7B%0A%20%20%20%20let%20div%20%3D%20L.DomUtil.create%28%27div%27%29%3B%0A%20%20%20%20%0A%20%20%20%20let%20handleObject%20%3D%20feature%3D%3Etypeof%28feature%29%3D%3D%27object%27%20%3F%20JSON.stringify%28feature%29%20%3A%20feature%3B%0A%20%20%20%20let%20fields%20%3D%20%5B%22feed_key%22%2C%20%22shape_array_key%22%2C%20%22stop_id%22%2C%20%22stop_sequence%22%2C%20%22loop_or_inlining%22%2C%20%22gtfs_dataset_key%22%2C%20%22seg_idx%22%2C%20%22district%22%2C%20%22district_name%22%5D%3B%0A%20%20%20%20let%20aliases%20%3D%20%5B%22feed_key%22%2C%20%22shape_array_key%22%2C%20%22stop_id%22%2C%20%22stop_sequence%22%2C%20%22loop_or_inlining%22%2C%20%22gtfs_dataset_key%22%2C%20%22seg_idx%22%2C%20%22district%22%2C%20%22district_name%22%5D%3B%0A%20%20%20%20let%20table%20%3D%20%27%3Ctable%3E%27%20%2B%0A%20%20%20%20%20%20%20%20String%28%0A%20%20%20%20%20%20%20%20fields.map%28%0A%20%20%20%20%20%20%20%20%28v%2Ci%29%3D%3E%0A%20%20%20%20%20%20%20%20%60%3Ctr%3E%0A%20%20%20%20%20%20%20%20%20%20%20%20%3Cth%3E%24%7Baliases%5Bi%5D%7D%3C/th%3E%0A%20%20%20%20%20%20%20%20%20%20%20%20%0A%20%20%20%20%20%20%20%20%20%20%20%20%3Ctd%3E%24%7BhandleObject%28layer.feature.properties%5Bv%5D%29%7D%3C/td%3E%0A%20%20%20%20%20%20%20%20%3C/tr%3E%60%29.join%28%27%27%29%29%0A%20%20%20%20%2B%27%3C/table%3E%27%3B%0A%20%20%20%20div.innerHTML%3Dtable%3B%0A%20%20%20%20%0A%20%20%20%20return%20div%0A%20%20%20%20%7D%0A%20%20%20%20%2C%7B%22className%22%3A%20%22foliumtooltip%22%2C%20%22sticky%22%3A%20true%7D%29%3B%0A%20%20%20%20%20%20%20%20%20%20%20%20%20%20%20%20%20%20%20%20%20%0A%20%20%20%20%0A%20%20%20%20%20%20%20%20function%20geo_json_25843bdda2e0454b8a2dd7d3e6369dd1_styler%28feature%29%20%7B%0A%20%20%20%20%20%20%20%20%20%20%20%20switch%28feature.id%29%20%7B%0A%20%20%20%20%20%20%20%20%20%20%20%20%20%20%20%20default%3A%0A%20%20%20%20%20%20%20%20%20%20%20%20%20%20%20%20%20%20%20%20return%20%7B%22color%22%3A%20%22red%22%2C%20%22fillColor%22%3A%20%22red%22%2C%20%22fillOpacity%22%3A%200.5%2C%20%22weight%22%3A%206%7D%3B%0A%20%20%20%20%20%20%20%20%20%20%20%20%7D%0A%20%20%20%20%20%20%20%20%7D%0A%20%20%20%20%20%20%20%20function%20geo_json_25843bdda2e0454b8a2dd7d3e6369dd1_highlighter%28feature%29%20%7B%0A%20%20%20%20%20%20%20%20%20%20%20%20switch%28feature.id%29%20%7B%0A%20%20%20%20%20%20%20%20%20%20%20%20%20%20%20%20default%3A%0A%20%20%20%20%20%20%20%20%20%20%20%20%20%20%20%20%20%20%20%20return%20%7B%22fillOpacity%22%3A%200.75%7D%3B%0A%20%20%20%20%20%20%20%20%20%20%20%20%7D%0A%20%20%20%20%20%20%20%20%7D%0A%20%20%20%20%20%20%20%20function%20geo_json_25843bdda2e0454b8a2dd7d3e6369dd1_pointToLayer%28feature%2C%20latlng%29%20%7B%0A%20%20%20%20%20%20%20%20%20%20%20%20var%20opts%20%3D%20%7B%22bubblingMouseEvents%22%3A%20true%2C%20%22color%22%3A%20%22%233388ff%22%2C%20%22dashArray%22%3A%20null%2C%20%22dashOffset%22%3A%20null%2C%20%22fill%22%3A%20true%2C%20%22fillColor%22%3A%20%22%233388ff%22%2C%20%22fillOpacity%22%3A%200.2%2C%20%22fillRule%22%3A%20%22evenodd%22%2C%20%22lineCap%22%3A%20%22round%22%2C%20%22lineJoin%22%3A%20%22round%22%2C%20%22opacity%22%3A%201.0%2C%20%22radius%22%3A%202%2C%20%22stroke%22%3A%20true%2C%20%22weight%22%3A%203%7D%3B%0A%20%20%20%20%20%20%20%20%20%20%20%20%0A%20%20%20%20%20%20%20%20%20%20%20%20let%20style%20%3D%20geo_json_25843bdda2e0454b8a2dd7d3e6369dd1_styler%28feature%29%0A%20%20%20%20%20%20%20%20%20%20%20%20Object.assign%28opts%2C%20style%29%0A%20%20%20%20%20%20%20%20%20%20%20%20%0A%20%20%20%20%20%20%20%20%20%20%20%20return%20new%20L.CircleMarker%28latlng%2C%20opts%29%0A%20%20%20%20%20%20%20%20%7D%0A%0A%20%20%20%20%20%20%20%20function%20geo_json_25843bdda2e0454b8a2dd7d3e6369dd1_onEachFeature%28feature%2C%20layer%29%20%7B%0A%20%20%20%20%20%20%20%20%20%20%20%20layer.on%28%7B%0A%20%20%20%20%20%20%20%20%20%20%20%20%20%20%20%20mouseout%3A%20function%28e%29%20%7B%0A%20%20%20%20%20%20%20%20%20%20%20%20%20%20%20%20%20%20%20%20if%28typeof%20e.target.setStyle%20%3D%3D%3D%20%22function%22%29%7B%0A%20%20%20%20%20%20%20%20%20%20%20%20%20%20%20%20%20%20%20%20%20%20%20%20geo_json_25843bdda2e0454b8a2dd7d3e6369dd1.resetStyle%28e.target%29%3B%0A%20%20%20%20%20%20%20%20%20%20%20%20%20%20%20%20%20%20%20%20%7D%0A%20%20%20%20%20%20%20%20%20%20%20%20%20%20%20%20%7D%2C%0A%20%20%20%20%20%20%20%20%20%20%20%20%20%20%20%20mouseover%3A%20function%28e%29%20%7B%0A%20%20%20%20%20%20%20%20%20%20%20%20%20%20%20%20%20%20%20%20if%28typeof%20e.target.setStyle%20%3D%3D%3D%20%22function%22%29%7B%0A%20%20%20%20%20%20%20%20%20%20%20%20%20%20%20%20%20%20%20%20%20%20%20%20const%20highlightStyle%20%3D%20geo_json_25843bdda2e0454b8a2dd7d3e6369dd1_highlighter%28e.target.feature%29%0A%20%20%20%20%20%20%20%20%20%20%20%20%20%20%20%20%20%20%20%20%20%20%20%20e.target.setStyle%28highlightStyle%29%3B%0A%20%20%20%20%20%20%20%20%20%20%20%20%20%20%20%20%20%20%20%20%7D%0A%20%20%20%20%20%20%20%20%20%20%20%20%20%20%20%20%7D%2C%0A%20%20%20%20%20%20%20%20%20%20%20%20%7D%29%3B%0A%20%20%20%20%20%20%20%20%7D%3B%0A%20%20%20%20%20%20%20%20var%20geo_json_25843bdda2e0454b8a2dd7d3e6369dd1%20%3D%20L.geoJson%28null%2C%20%7B%0A%20%20%20%20%20%20%20%20%20%20%20%20%20%20%20%20onEachFeature%3A%20geo_json_25843bdda2e0454b8a2dd7d3e6369dd1_onEachFeature%2C%0A%20%20%20%20%20%20%20%20%20%20%20%20%0A%20%20%20%20%20%20%20%20%20%20%20%20%20%20%20%20style%3A%20geo_json_25843bdda2e0454b8a2dd7d3e6369dd1_styler%2C%0A%20%20%20%20%20%20%20%20%20%20%20%20%20%20%20%20pointToLayer%3A%20geo_json_25843bdda2e0454b8a2dd7d3e6369dd1_pointToLayer%0A%20%20%20%20%20%20%20%20%7D%29%3B%0A%0A%20%20%20%20%20%20%20%20function%20geo_json_25843bdda2e0454b8a2dd7d3e6369dd1_add%20%28data%29%20%7B%0A%20%20%20%20%20%20%20%20%20%20%20%20geo_json_25843bdda2e0454b8a2dd7d3e6369dd1%0A%20%20%20%20%20%20%20%20%20%20%20%20%20%20%20%20.addData%28data%29%0A%20%20%20%20%20%20%20%20%20%20%20%20%20%20%20%20.addTo%28map_c575f9a8af8c452bb1e2ab8dacb5e34e%29%3B%0A%20%20%20%20%20%20%20%20%7D%0A%20%20%20%20%20%20%20%20%20%20%20%20geo_json_25843bdda2e0454b8a2dd7d3e6369dd1_add%28%7B%22bbox%22%3A%20%5B-122.66686%2C%2038.24746999999999%2C%20-122.62107000000002%2C%2038.27431999999997%5D%2C%20%22features%22%3A%20%5B%7B%22bbox%22%3A%20%5B-122.66130999999999%2C%2038.270251999999985%2C%20-122.66130999999999%2C%2038.270251999999985%5D%2C%20%22geometry%22%3A%20%7B%22coordinates%22%3A%20%5B-122.66130999999999%2C%2038.270251999999985%5D%2C%20%22type%22%3A%20%22Point%22%7D%2C%20%22id%22%3A%20%220%22%2C%20%22properties%22%3A%20%7B%22__folium_color%22%3A%20%22red%22%2C%20%22feed_key%22%3A%20%22540e857d28ffdc628260ca22a21cb330%22%2C%20%22gtfs_dataset_key%22%3A%20%22bc21582ac1ad2b7de0647dfd5b76f67c%22%2C%20%22shape_array_key%22%3A%20%2221aedea4c0d05c570e042903cc62c9cf%22%2C%20%22trip_id%22%3A%20%22t120-sl9-p84-r1A%22%7D%2C%20%22type%22%3A%20%22Feature%22%7D%2C%20%7B%22bbox%22%3A%20%5B-122.6589%2C%2038.26799999999999%2C%20-122.6589%2C%2038.26799999999999%5D%2C%20%22geometry%22%3A%20%7B%22coordinates%22%3A%20%5B-122.6589%2C%2038.26799999999999%5D%2C%20%22type%22%3A%20%22Point%22%7D%2C%20%22id%22%3A%20%221%22%2C%20%22properties%22%3A%20%7B%22__folium_color%22%3A%20%22red%22%2C%20%22feed_key%22%3A%20%22540e857d28ffdc628260ca22a21cb330%22%2C%20%22gtfs_dataset_key%22%3A%20%22bc21582ac1ad2b7de0647dfd5b76f67c%22%2C%20%22shape_array_key%22%3A%20%2221aedea4c0d05c570e042903cc62c9cf%22%2C%20%22trip_id%22%3A%20%22t120-sl9-p84-r1A%22%7D%2C%20%22type%22%3A%20%22Feature%22%7D%2C%20%7B%22bbox%22%3A%20%5B-122.64506000000002%2C%2038.260094000000024%2C%20-122.64506000000002%2C%2038.260094000000024%5D%2C%20%22geometry%22%3A%20%7B%22coordinates%22%3A%20%5B-122.64506000000002%2C%2038.260094000000024%5D%2C%20%22type%22%3A%20%22Point%22%7D%2C%20%22id%22%3A%20%222%22%2C%20%22properties%22%3A%20%7B%22__folium_color%22%3A%20%22red%22%2C%20%22feed_key%22%3A%20%22540e857d28ffdc628260ca22a21cb330%22%2C%20%22gtfs_dataset_key%22%3A%20%22bc21582ac1ad2b7de0647dfd5b76f67c%22%2C%20%22shape_array_key%22%3A%20%2221aedea4c0d05c570e042903cc62c9cf%22%2C%20%22trip_id%22%3A%20%22t120-sl9-p84-r1A%22%7D%2C%20%22type%22%3A%20%22Feature%22%7D%2C%20%7B%22bbox%22%3A%20%5B-122.66251000000001%2C%2038.27138000000001%2C%20-122.66251000000001%2C%2038.27138000000001%5D%2C%20%22geometry%22%3A%20%7B%22coordinates%22%3A%20%5B-122.66251000000001%2C%2038.27138000000001%5D%2C%20%22type%22%3A%20%22Point%22%7D%2C%20%22id%22%3A%20%223%22%2C%20%22properties%22%3A%20%7B%22__folium_color%22%3A%20%22red%22%2C%20%22feed_key%22%3A%20%22540e857d28ffdc628260ca22a21cb330%22%2C%20%22gtfs_dataset_key%22%3A%20%22bc21582ac1ad2b7de0647dfd5b76f67c%22%2C%20%22shape_array_key%22%3A%20%2221aedea4c0d05c570e042903cc62c9cf%22%2C%20%22trip_id%22%3A%20%22t120-sl9-p84-r1A%22%7D%2C%20%22type%22%3A%20%22Feature%22%7D%2C%20%7B%22bbox%22%3A%20%5B-122.66572000000001%2C%2038.273665999999956%2C%20-122.66572000000001%2C%2038.273665999999956%5D%2C%20%22geometry%22%3A%20%7B%22coordinates%22%3A%20%5B-122.66572000000001%2C%2038.273665999999956%5D%2C%20%22type%22%3A%20%22Point%22%7D%2C%20%22id%22%3A%20%224%22%2C%20%22properties%22%3A%20%7B%22__folium_color%22%3A%20%22red%22%2C%20%22feed_key%22%3A%20%22540e857d28ffdc628260ca22a21cb330%22%2C%20%22gtfs_dataset_key%22%3A%20%22bc21582ac1ad2b7de0647dfd5b76f67c%22%2C%20%22shape_array_key%22%3A%20%2221aedea4c0d05c570e042903cc62c9cf%22%2C%20%22trip_id%22%3A%20%22t120-sl9-p84-r1A%22%7D%2C%20%22type%22%3A%20%22Feature%22%7D%2C%20%7B%22bbox%22%3A%20%5B-122.65044000000002%2C%2038.263123000000036%2C%20-122.65044000000002%2C%2038.263123000000036%5D%2C%20%22geometry%22%3A%20%7B%22coordinates%22%3A%20%5B-122.65044000000002%2C%2038.263123000000036%5D%2C%20%22type%22%3A%20%22Point%22%7D%2C%20%22id%22%3A%20%225%22%2C%20%22properties%22%3A%20%7B%22__folium_color%22%3A%20%22red%22%2C%20%22feed_key%22%3A%20%22540e857d28ffdc628260ca22a21cb330%22%2C%20%22gtfs_dataset_key%22%3A%20%22bc21582ac1ad2b7de0647dfd5b76f67c%22%2C%20%22shape_array_key%22%3A%20%2221aedea4c0d05c570e042903cc62c9cf%22%2C%20%22trip_id%22%3A%20%22t120-sl9-p84-r1A%22%7D%2C%20%22type%22%3A%20%22Feature%22%7D%2C%20%7B%22bbox%22%3A%20%5B-122.63156%2C%2038.25246400000003%2C%20-122.63156%2C%2038.25246400000003%5D%2C%20%22geometry%22%3A%20%7B%22coordinates%22%3A%20%5B-122.63156%2C%2038.25246400000003%5D%2C%20%22type%22%3A%20%22Point%22%7D%2C%20%22id%22%3A%20%226%22%2C%20%22properties%22%3A%20%7B%22__folium_color%22%3A%20%22red%22%2C%20%22feed_key%22%3A%20%22540e857d28ffdc628260ca22a21cb330%22%2C%20%22gtfs_dataset_key%22%3A%20%22bc21582ac1ad2b7de0647dfd5b76f67c%22%2C%20%22shape_array_key%22%3A%20%2221aedea4c0d05c570e042903cc62c9cf%22%2C%20%22trip_id%22%3A%20%22t120-sl9-p84-r1A%22%7D%2C%20%22type%22%3A%20%22Feature%22%7D%2C%20%7B%22bbox%22%3A%20%5B-122.62174000000002%2C%2038.248139999999964%2C%20-122.62174000000002%2C%2038.248139999999964%5D%2C%20%22geometry%22%3A%20%7B%22coordinates%22%3A%20%5B-122.62174000000002%2C%2038.248139999999964%5D%2C%20%22type%22%3A%20%22Point%22%7D%2C%20%22id%22%3A%20%227%22%2C%20%22properties%22%3A%20%7B%22__folium_color%22%3A%20%22red%22%2C%20%22feed_key%22%3A%20%22540e857d28ffdc628260ca22a21cb330%22%2C%20%22gtfs_dataset_key%22%3A%20%22bc21582ac1ad2b7de0647dfd5b76f67c%22%2C%20%22shape_array_key%22%3A%20%2221aedea4c0d05c570e042903cc62c9cf%22%2C%20%22trip_id%22%3A%20%22t120-sl9-p84-r1A%22%7D%2C%20%22type%22%3A%20%22Feature%22%7D%2C%20%7B%22bbox%22%3A%20%5B-122.62175%2C%2038.24813999999994%2C%20-122.62175%2C%2038.24813999999994%5D%2C%20%22geometry%22%3A%20%7B%22coordinates%22%3A%20%5B-122.62175%2C%2038.24813999999994%5D%2C%20%22type%22%3A%20%22Point%22%7D%2C%20%22id%22%3A%20%228%22%2C%20%22properties%22%3A%20%7B%22__folium_color%22%3A%20%22red%22%2C%20%22feed_key%22%3A%20%22540e857d28ffdc628260ca22a21cb330%22%2C%20%22gtfs_dataset_key%22%3A%20%22bc21582ac1ad2b7de0647dfd5b76f67c%22%2C%20%22shape_array_key%22%3A%20%2221aedea4c0d05c570e042903cc62c9cf%22%2C%20%22trip_id%22%3A%20%22t120-sl9-p84-r1A%22%7D%2C%20%22type%22%3A%20%22Feature%22%7D%2C%20%7B%22bbox%22%3A%20%5B-122.62206%2C%2038.247770000000024%2C%20-122.62206%2C%2038.247770000000024%5D%2C%20%22geometry%22%3A%20%7B%22coordinates%22%3A%20%5B-122.62206%2C%2038.247770000000024%5D%2C%20%22type%22%3A%20%22Point%22%7D%2C%20%22id%22%3A%20%229%22%2C%20%22properties%22%3A%20%7B%22__folium_color%22%3A%20%22red%22%2C%20%22feed_key%22%3A%20%22540e857d28ffdc628260ca22a21cb330%22%2C%20%22gtfs_dataset_key%22%3A%20%22bc21582ac1ad2b7de0647dfd5b76f67c%22%2C%20%22shape_array_key%22%3A%20%2221aedea4c0d05c570e042903cc62c9cf%22%2C%20%22trip_id%22%3A%20%22t120-sl9-p84-r1A%22%7D%2C%20%22type%22%3A%20%22Feature%22%7D%2C%20%7B%22bbox%22%3A%20%5B-122.62174000000002%2C%2038.248120000000014%2C%20-122.62174000000002%2C%2038.248120000000014%5D%2C%20%22geometry%22%3A%20%7B%22coordinates%22%3A%20%5B-122.62174000000002%2C%2038.248120000000014%5D%2C%20%22type%22%3A%20%22Point%22%7D%2C%20%22id%22%3A%20%2210%22%2C%20%22properties%22%3A%20%7B%22__folium_color%22%3A%20%22red%22%2C%20%22feed_key%22%3A%20%22540e857d28ffdc628260ca22a21cb330%22%2C%20%22gtfs_dataset_key%22%3A%20%22bc21582ac1ad2b7de0647dfd5b76f67c%22%2C%20%22shape_array_key%22%3A%20%2221aedea4c0d05c570e042903cc62c9cf%22%2C%20%22trip_id%22%3A%20%22t120-sl9-p84-r1A%22%7D%2C%20%22type%22%3A%20%22Feature%22%7D%2C%20%7B%22bbox%22%3A%20%5B-122.63251000000001%2C%2038.25300199999997%2C%20-122.63251000000001%2C%2038.25300199999997%5D%2C%20%22geometry%22%3A%20%7B%22coordinates%22%3A%20%5B-122.63251000000001%2C%2038.25300199999997%5D%2C%20%22type%22%3A%20%22Point%22%7D%2C%20%22id%22%3A%20%2211%22%2C%20%22properties%22%3A%20%7B%22__folium_color%22%3A%20%22red%22%2C%20%22feed_key%22%3A%20%22540e857d28ffdc628260ca22a21cb330%22%2C%20%22gtfs_dataset_key%22%3A%20%22bc21582ac1ad2b7de0647dfd5b76f67c%22%2C%20%22shape_array_key%22%3A%20%2221aedea4c0d05c570e042903cc62c9cf%22%2C%20%22trip_id%22%3A%20%22t120-sl9-p84-r1A%22%7D%2C%20%22type%22%3A%20%22Feature%22%7D%2C%20%7B%22bbox%22%3A%20%5B-122.66294%2C%2038.27178000000003%2C%20-122.66294%2C%2038.27178000000003%5D%2C%20%22geometry%22%3A%20%7B%22coordinates%22%3A%20%5B-122.66294%2C%2038.27178000000003%5D%2C%20%22type%22%3A%20%22Point%22%7D%2C%20%22id%22%3A%20%2212%22%2C%20%22properties%22%3A%20%7B%22__folium_color%22%3A%20%22red%22%2C%20%22feed_key%22%3A%20%22540e857d28ffdc628260ca22a21cb330%22%2C%20%22gtfs_dataset_key%22%3A%20%22bc21582ac1ad2b7de0647dfd5b76f67c%22%2C%20%22shape_array_key%22%3A%20%2221aedea4c0d05c570e042903cc62c9cf%22%2C%20%22trip_id%22%3A%20%22t120-sl9-p84-r1A%22%7D%2C%20%22type%22%3A%20%22Feature%22%7D%2C%20%7B%22bbox%22%3A%20%5B-122.65350000000001%2C%2038.26486%2C%20-122.65350000000001%2C%2038.26486%5D%2C%20%22geometry%22%3A%20%7B%22coordinates%22%3A%20%5B-122.65350000000001%2C%2038.26486%5D%2C%20%22type%22%3A%20%22Point%22%7D%2C%20%22id%22%3A%20%2213%22%2C%20%22properties%22%3A%20%7B%22__folium_color%22%3A%20%22red%22%2C%20%22feed_key%22%3A%20%22540e857d28ffdc628260ca22a21cb330%22%2C%20%22gtfs_dataset_key%22%3A%20%22bc21582ac1ad2b7de0647dfd5b76f67c%22%2C%20%22shape_array_key%22%3A%20%2221aedea4c0d05c570e042903cc62c9cf%22%2C%20%22trip_id%22%3A%20%22t120-sl9-p84-r1A%22%7D%2C%20%22type%22%3A%20%22Feature%22%7D%2C%20%7B%22bbox%22%3A%20%5B-122.62107000000002%2C%2038.248833000000026%2C%20-122.62107000000002%2C%2038.248833000000026%5D%2C%20%22geometry%22%3A%20%7B%22coordinates%22%3A%20%5B-122.62107000000002%2C%2038.248833000000026%5D%2C%20%22type%22%3A%20%22Point%22%7D%2C%20%22id%22%3A%20%2214%22%2C%20%22properties%22%3A%20%7B%22__folium_color%22%3A%20%22red%22%2C%20%22feed_key%22%3A%20%22540e857d28ffdc628260ca22a21cb330%22%2C%20%22gtfs_dataset_key%22%3A%20%22bc21582ac1ad2b7de0647dfd5b76f67c%22%2C%20%22shape_array_key%22%3A%20%2221aedea4c0d05c570e042903cc62c9cf%22%2C%20%22trip_id%22%3A%20%22t120-sl9-p84-r1A%22%7D%2C%20%22type%22%3A%20%22Feature%22%7D%2C%20%7B%22bbox%22%3A%20%5B-122.62176%2C%2038.248135%2C%20-122.62176%2C%2038.248135%5D%2C%20%22geometry%22%3A%20%7B%22coordinates%22%3A%20%5B-122.62176%2C%2038.248135%5D%2C%20%22type%22%3A%20%22Point%22%7D%2C%20%22id%22%3A%20%2215%22%2C%20%22properties%22%3A%20%7B%22__folium_color%22%3A%20%22red%22%2C%20%22feed_key%22%3A%20%22540e857d28ffdc628260ca22a21cb330%22%2C%20%22gtfs_dataset_key%22%3A%20%22bc21582ac1ad2b7de0647dfd5b76f67c%22%2C%20%22shape_array_key%22%3A%20%2221aedea4c0d05c570e042903cc62c9cf%22%2C%20%22trip_id%22%3A%20%22t120-sl9-p84-r1A%22%7D%2C%20%22type%22%3A%20%22Feature%22%7D%2C%20%7B%22bbox%22%3A%20%5B-122.62175%2C%2038.24813500000001%2C%20-122.62175%2C%2038.24813500000001%5D%2C%20%22geometry%22%3A%20%7B%22coordinates%22%3A%20%5B-122.62175%2C%2038.24813500000001%5D%2C%20%22type%22%3A%20%22Point%22%7D%2C%20%22id%22%3A%20%2216%22%2C%20%22properties%22%3A%20%7B%22__folium_color%22%3A%20%22red%22%2C%20%22feed_key%22%3A%20%22540e857d28ffdc628260ca22a21cb330%22%2C%20%22gtfs_dataset_key%22%3A%20%22bc21582ac1ad2b7de0647dfd5b76f67c%22%2C%20%22shape_array_key%22%3A%20%2221aedea4c0d05c570e042903cc62c9cf%22%2C%20%22trip_id%22%3A%20%22t120-sl9-p84-r1A%22%7D%2C%20%22type%22%3A%20%22Feature%22%7D%2C%20%7B%22bbox%22%3A%20%5B-122.64287%2C%2038.25883000000004%2C%20-122.64287%2C%2038.25883000000004%5D%2C%20%22geometry%22%3A%20%7B%22coordinates%22%3A%20%5B-122.64287%2C%2038.25883000000004%5D%2C%20%22type%22%3A%20%22Point%22%7D%2C%20%22id%22%3A%20%2217%22%2C%20%22properties%22%3A%20%7B%22__folium_color%22%3A%20%22red%22%2C%20%22feed_key%22%3A%20%22540e857d28ffdc628260ca22a21cb330%22%2C%20%22gtfs_dataset_key%22%3A%20%22bc21582ac1ad2b7de0647dfd5b76f67c%22%2C%20%22shape_array_key%22%3A%20%2221aedea4c0d05c570e042903cc62c9cf%22%2C%20%22trip_id%22%3A%20%22t120-sl9-p84-r1A%22%7D%2C%20%22type%22%3A%20%22Feature%22%7D%2C%20%7B%22bbox%22%3A%20%5B-122.62401600000001%2C%2038.24820299999998%2C%20-122.62401600000001%2C%2038.24820299999998%5D%2C%20%22geometry%22%3A%20%7B%22coordinates%22%3A%20%5B-122.62401600000001%2C%2038.24820299999998%5D%2C%20%22type%22%3A%20%22Point%22%7D%2C%20%22id%22%3A%20%2218%22%2C%20%22properties%22%3A%20%7B%22__folium_color%22%3A%20%22red%22%2C%20%22feed_key%22%3A%20%22540e857d28ffdc628260ca22a21cb330%22%2C%20%22gtfs_dataset_key%22%3A%20%22bc21582ac1ad2b7de0647dfd5b76f67c%22%2C%20%22shape_array_key%22%3A%20%2221aedea4c0d05c570e042903cc62c9cf%22%2C%20%22trip_id%22%3A%20%22t120-sl9-p84-r1A%22%7D%2C%20%22type%22%3A%20%22Feature%22%7D%2C%20%7B%22bbox%22%3A%20%5B-122.66685500000001%2C%2038.27431999999997%2C%20-122.66685500000001%2C%2038.27431999999997%5D%2C%20%22geometry%22%3A%20%7B%22coordinates%22%3A%20%5B-122.66685500000001%2C%2038.27431999999997%5D%2C%20%22type%22%3A%20%22Point%22%7D%2C%20%22id%22%3A%20%2219%22%2C%20%22properties%22%3A%20%7B%22__folium_color%22%3A%20%22red%22%2C%20%22feed_key%22%3A%20%22540e857d28ffdc628260ca22a21cb330%22%2C%20%22gtfs_dataset_key%22%3A%20%22bc21582ac1ad2b7de0647dfd5b76f67c%22%2C%20%22shape_array_key%22%3A%20%2221aedea4c0d05c570e042903cc62c9cf%22%2C%20%22trip_id%22%3A%20%22t120-sl9-p84-r1A%22%7D%2C%20%22type%22%3A%20%22Feature%22%7D%2C%20%7B%22bbox%22%3A%20%5B-122.66236999999998%2C%2038.271243999999996%2C%20-122.66236999999998%2C%2038.271243999999996%5D%2C%20%22geometry%22%3A%20%7B%22coordinates%22%3A%20%5B-122.66236999999998%2C%2038.271243999999996%5D%2C%20%22type%22%3A%20%22Point%22%7D%2C%20%22id%22%3A%20%2220%22%2C%20%22properties%22%3A%20%7B%22__folium_color%22%3A%20%22red%22%2C%20%22feed_key%22%3A%20%22540e857d28ffdc628260ca22a21cb330%22%2C%20%22gtfs_dataset_key%22%3A%20%22bc21582ac1ad2b7de0647dfd5b76f67c%22%2C%20%22shape_array_key%22%3A%20%2221aedea4c0d05c570e042903cc62c9cf%22%2C%20%22trip_id%22%3A%20%22t120-sl9-p84-r1A%22%7D%2C%20%22type%22%3A%20%22Feature%22%7D%2C%20%7B%22bbox%22%3A%20%5B-122.63108%2C%2038.25222399999997%2C%20-122.63108%2C%2038.25222399999997%5D%2C%20%22geometry%22%3A%20%7B%22coordinates%22%3A%20%5B-122.63108%2C%2038.25222399999997%5D%2C%20%22type%22%3A%20%22Point%22%7D%2C%20%22id%22%3A%20%2221%22%2C%20%22properties%22%3A%20%7B%22__folium_color%22%3A%20%22red%22%2C%20%22feed_key%22%3A%20%22540e857d28ffdc628260ca22a21cb330%22%2C%20%22gtfs_dataset_key%22%3A%20%22bc21582ac1ad2b7de0647dfd5b76f67c%22%2C%20%22shape_array_key%22%3A%20%2221aedea4c0d05c570e042903cc62c9cf%22%2C%20%22trip_id%22%3A%20%22t120-sl9-p84-r1A%22%7D%2C%20%22type%22%3A%20%22Feature%22%7D%2C%20%7B%22bbox%22%3A%20%5B-122.64644%2C%2038.260876000000025%2C%20-122.64644%2C%2038.260876000000025%5D%2C%20%22geometry%22%3A%20%7B%22coordinates%22%3A%20%5B-122.64644%2C%2038.260876000000025%5D%2C%20%22type%22%3A%20%22Point%22%7D%2C%20%22id%22%3A%20%2222%22%2C%20%22properties%22%3A%20%7B%22__folium_color%22%3A%20%22red%22%2C%20%22feed_key%22%3A%20%22540e857d28ffdc628260ca22a21cb330%22%2C%20%22gtfs_dataset_key%22%3A%20%22bc21582ac1ad2b7de0647dfd5b76f67c%22%2C%20%22shape_array_key%22%3A%20%2221aedea4c0d05c570e042903cc62c9cf%22%2C%20%22trip_id%22%3A%20%22t120-sl9-p84-r1A%22%7D%2C%20%22type%22%3A%20%22Feature%22%7D%2C%20%7B%22bbox%22%3A%20%5B-122.66503%2C%2038.273270000000004%2C%20-122.66503%2C%2038.273270000000004%5D%2C%20%22geometry%22%3A%20%7B%22coordinates%22%3A%20%5B-122.66503%2C%2038.273270000000004%5D%2C%20%22type%22%3A%20%22Point%22%7D%2C%20%22id%22%3A%20%2223%22%2C%20%22properties%22%3A%20%7B%22__folium_color%22%3A%20%22red%22%2C%20%22feed_key%22%3A%20%22540e857d28ffdc628260ca22a21cb330%22%2C%20%22gtfs_dataset_key%22%3A%20%22bc21582ac1ad2b7de0647dfd5b76f67c%22%2C%20%22shape_array_key%22%3A%20%2221aedea4c0d05c570e042903cc62c9cf%22%2C%20%22trip_id%22%3A%20%22t120-sl9-p84-r1A%22%7D%2C%20%22type%22%3A%20%22Feature%22%7D%2C%20%7B%22bbox%22%3A%20%5B-122.65059%2C%2038.26321000000001%2C%20-122.65059%2C%2038.26321000000001%5D%2C%20%22geometry%22%3A%20%7B%22coordinates%22%3A%20%5B-122.65059%2C%2038.26321000000001%5D%2C%20%22type%22%3A%20%22Point%22%7D%2C%20%22id%22%3A%20%2224%22%2C%20%22properties%22%3A%20%7B%22__folium_color%22%3A%20%22red%22%2C%20%22feed_key%22%3A%20%22540e857d28ffdc628260ca22a21cb330%22%2C%20%22gtfs_dataset_key%22%3A%20%22bc21582ac1ad2b7de0647dfd5b76f67c%22%2C%20%22shape_array_key%22%3A%20%2221aedea4c0d05c570e042903cc62c9cf%22%2C%20%22trip_id%22%3A%20%22t120-sl9-p84-r1A%22%7D%2C%20%22type%22%3A%20%22Feature%22%7D%2C%20%7B%22bbox%22%3A%20%5B-122.66371%2C%2038.27247600000004%2C%20-122.66371%2C%2038.27247600000004%5D%2C%20%22geometry%22%3A%20%7B%22coordinates%22%3A%20%5B-122.66371%2C%2038.27247600000004%5D%2C%20%22type%22%3A%20%22Point%22%7D%2C%20%22id%22%3A%20%2225%22%2C%20%22properties%22%3A%20%7B%22__folium_color%22%3A%20%22red%22%2C%20%22feed_key%22%3A%20%22540e857d28ffdc628260ca22a21cb330%22%2C%20%22gtfs_dataset_key%22%3A%20%22bc21582ac1ad2b7de0647dfd5b76f67c%22%2C%20%22shape_array_key%22%3A%20%2221aedea4c0d05c570e042903cc62c9cf%22%2C%20%22trip_id%22%3A%20%22t120-sl9-p84-r1A%22%7D%2C%20%22type%22%3A%20%22Feature%22%7D%2C%20%7B%22bbox%22%3A%20%5B-122.62176%2C%2038.248139999999964%2C%20-122.62176%2C%2038.248139999999964%5D%2C%20%22geometry%22%3A%20%7B%22coordinates%22%3A%20%5B-122.62176%2C%2038.248139999999964%5D%2C%20%22type%22%3A%20%22Point%22%7D%2C%20%22id%22%3A%20%2226%22%2C%20%22properties%22%3A%20%7B%22__folium_color%22%3A%20%22red%22%2C%20%22feed_key%22%3A%20%22540e857d28ffdc628260ca22a21cb330%22%2C%20%22gtfs_dataset_key%22%3A%20%22bc21582ac1ad2b7de0647dfd5b76f67c%22%2C%20%22shape_array_key%22%3A%20%2221aedea4c0d05c570e042903cc62c9cf%22%2C%20%22trip_id%22%3A%20%22t120-sl9-p84-r1A%22%7D%2C%20%22type%22%3A%20%22Feature%22%7D%2C%20%7B%22bbox%22%3A%20%5B-122.62176%2C%2038.24813%2C%20-122.62176%2C%2038.24813%5D%2C%20%22geometry%22%3A%20%7B%22coordinates%22%3A%20%5B-122.62176%2C%2038.24813%5D%2C%20%22type%22%3A%20%22Point%22%7D%2C%20%22id%22%3A%20%2227%22%2C%20%22properties%22%3A%20%7B%22__folium_color%22%3A%20%22red%22%2C%20%22feed_key%22%3A%20%22540e857d28ffdc628260ca22a21cb330%22%2C%20%22gtfs_dataset_key%22%3A%20%22bc21582ac1ad2b7de0647dfd5b76f67c%22%2C%20%22shape_array_key%22%3A%20%2221aedea4c0d05c570e042903cc62c9cf%22%2C%20%22trip_id%22%3A%20%22t120-sl9-p84-r1A%22%7D%2C%20%22type%22%3A%20%22Feature%22%7D%2C%20%7B%22bbox%22%3A%20%5B-122.66194000000002%2C%2038.27084699999998%2C%20-122.66194000000002%2C%2038.27084699999998%5D%2C%20%22geometry%22%3A%20%7B%22coordinates%22%3A%20%5B-122.66194000000002%2C%2038.27084699999998%5D%2C%20%22type%22%3A%20%22Point%22%7D%2C%20%22id%22%3A%20%2228%22%2C%20%22properties%22%3A%20%7B%22__folium_color%22%3A%20%22red%22%2C%20%22feed_key%22%3A%20%22540e857d28ffdc628260ca22a21cb330%22%2C%20%22gtfs_dataset_key%22%3A%20%22bc21582ac1ad2b7de0647dfd5b76f67c%22%2C%20%22shape_array_key%22%3A%20%2221aedea4c0d05c570e042903cc62c9cf%22%2C%20%22trip_id%22%3A%20%22t120-sl9-p84-r1A%22%7D%2C%20%22type%22%3A%20%22Feature%22%7D%2C%20%7B%22bbox%22%3A%20%5B-122.628525%2C%2038.25071299999999%2C%20-122.628525%2C%2038.25071299999999%5D%2C%20%22geometry%22%3A%20%7B%22coordinates%22%3A%20%5B-122.628525%2C%2038.25071299999999%5D%2C%20%22type%22%3A%20%22Point%22%7D%2C%20%22id%22%3A%20%2229%22%2C%20%22properties%22%3A%20%7B%22__folium_color%22%3A%20%22red%22%2C%20%22feed_key%22%3A%20%22540e857d28ffdc628260ca22a21cb330%22%2C%20%22gtfs_dataset_key%22%3A%20%22bc21582ac1ad2b7de0647dfd5b76f67c%22%2C%20%22shape_array_key%22%3A%20%2221aedea4c0d05c570e042903cc62c9cf%22%2C%20%22trip_id%22%3A%20%22t120-sl9-p84-r1A%22%7D%2C%20%22type%22%3A%20%22Feature%22%7D%2C%20%7B%22bbox%22%3A%20%5B-122.64881000000001%2C%2038.26220699999998%2C%20-122.64881000000001%2C%2038.26220699999998%5D%2C%20%22geometry%22%3A%20%7B%22coordinates%22%3A%20%5B-122.64881000000001%2C%2038.26220699999998%5D%2C%20%22type%22%3A%20%22Point%22%7D%2C%20%22id%22%3A%20%2230%22%2C%20%22properties%22%3A%20%7B%22__folium_color%22%3A%20%22red%22%2C%20%22feed_key%22%3A%20%22540e857d28ffdc628260ca22a21cb330%22%2C%20%22gtfs_dataset_key%22%3A%20%22bc21582ac1ad2b7de0647dfd5b76f67c%22%2C%20%22shape_array_key%22%3A%20%2221aedea4c0d05c570e042903cc62c9cf%22%2C%20%22trip_id%22%3A%20%22t120-sl9-p84-r1A%22%7D%2C%20%22type%22%3A%20%22Feature%22%7D%2C%20%7B%22bbox%22%3A%20%5B-122.62174000000002%2C%2038.248122999999985%2C%20-122.62174000000002%2C%2038.248122999999985%5D%2C%20%22geometry%22%3A%20%7B%22coordinates%22%3A%20%5B-122.62174000000002%2C%2038.248122999999985%5D%2C%20%22type%22%3A%20%22Point%22%7D%2C%20%22id%22%3A%20%2231%22%2C%20%22properties%22%3A%20%7B%22__folium_color%22%3A%20%22red%22%2C%20%22feed_key%22%3A%20%22540e857d28ffdc628260ca22a21cb330%22%2C%20%22gtfs_dataset_key%22%3A%20%22bc21582ac1ad2b7de0647dfd5b76f67c%22%2C%20%22shape_array_key%22%3A%20%2221aedea4c0d05c570e042903cc62c9cf%22%2C%20%22trip_id%22%3A%20%22t120-sl9-p84-r1A%22%7D%2C%20%22type%22%3A%20%22Feature%22%7D%2C%20%7B%22bbox%22%3A%20%5B-122.63041%2C%2038.251811999999994%2C%20-122.63041%2C%2038.251811999999994%5D%2C%20%22geometry%22%3A%20%7B%22coordinates%22%3A%20%5B-122.63041%2C%2038.251811999999994%5D%2C%20%22type%22%3A%20%22Point%22%7D%2C%20%22id%22%3A%20%2232%22%2C%20%22properties%22%3A%20%7B%22__folium_color%22%3A%20%22red%22%2C%20%22feed_key%22%3A%20%22540e857d28ffdc628260ca22a21cb330%22%2C%20%22gtfs_dataset_key%22%3A%20%22bc21582ac1ad2b7de0647dfd5b76f67c%22%2C%20%22shape_array_key%22%3A%20%2221aedea4c0d05c570e042903cc62c9cf%22%2C%20%22trip_id%22%3A%20%22t120-sl9-p84-r1A%22%7D%2C%20%22type%22%3A%20%22Feature%22%7D%2C%20%7B%22bbox%22%3A%20%5B-122.65680999999998%2C%2038.26668499999999%2C%20-122.65680999999998%2C%2038.26668499999999%5D%2C%20%22geometry%22%3A%20%7B%22coordinates%22%3A%20%5B-122.65680999999998%2C%2038.26668499999999%5D%2C%20%22type%22%3A%20%22Point%22%7D%2C%20%22id%22%3A%20%2233%22%2C%20%22properties%22%3A%20%7B%22__folium_color%22%3A%20%22red%22%2C%20%22feed_key%22%3A%20%22540e857d28ffdc628260ca22a21cb330%22%2C%20%22gtfs_dataset_key%22%3A%20%22bc21582ac1ad2b7de0647dfd5b76f67c%22%2C%20%22shape_array_key%22%3A%20%2221aedea4c0d05c570e042903cc62c9cf%22%2C%20%22trip_id%22%3A%20%22t120-sl9-p84-r1A%22%7D%2C%20%22type%22%3A%20%22Feature%22%7D%2C%20%7B%22bbox%22%3A%20%5B-122.628975%2C%2038.250957000000014%2C%20-122.628975%2C%2038.250957000000014%5D%2C%20%22geometry%22%3A%20%7B%22coordinates%22%3A%20%5B-122.628975%2C%2038.250957000000014%5D%2C%20%22type%22%3A%20%22Point%22%7D%2C%20%22id%22%3A%20%2234%22%2C%20%22properties%22%3A%20%7B%22__folium_color%22%3A%20%22red%22%2C%20%22feed_key%22%3A%20%22540e857d28ffdc628260ca22a21cb330%22%2C%20%22gtfs_dataset_key%22%3A%20%22bc21582ac1ad2b7de0647dfd5b76f67c%22%2C%20%22shape_array_key%22%3A%20%2221aedea4c0d05c570e042903cc62c9cf%22%2C%20%22trip_id%22%3A%20%22t120-sl9-p84-r1A%22%7D%2C%20%22type%22%3A%20%22Feature%22%7D%2C%20%7B%22bbox%22%3A%20%5B-122.63927%2C%2038.25680000000002%2C%20-122.63927%2C%2038.25680000000002%5D%2C%20%22geometry%22%3A%20%7B%22coordinates%22%3A%20%5B-122.63927%2C%2038.25680000000002%5D%2C%20%22type%22%3A%20%22Point%22%7D%2C%20%22id%22%3A%20%2235%22%2C%20%22properties%22%3A%20%7B%22__folium_color%22%3A%20%22red%22%2C%20%22feed_key%22%3A%20%22540e857d28ffdc628260ca22a21cb330%22%2C%20%22gtfs_dataset_key%22%3A%20%22bc21582ac1ad2b7de0647dfd5b76f67c%22%2C%20%22shape_array_key%22%3A%20%2221aedea4c0d05c570e042903cc62c9cf%22%2C%20%22trip_id%22%3A%20%22t120-sl9-p84-r1A%22%7D%2C%20%22type%22%3A%20%22Feature%22%7D%2C%20%7B%22bbox%22%3A%20%5B-122.63443%2C%2038.25409299999999%2C%20-122.63443%2C%2038.25409299999999%5D%2C%20%22geometry%22%3A%20%7B%22coordinates%22%3A%20%5B-122.63443%2C%2038.25409299999999%5D%2C%20%22type%22%3A%20%22Point%22%7D%2C%20%22id%22%3A%20%2236%22%2C%20%22properties%22%3A%20%7B%22__folium_color%22%3A%20%22red%22%2C%20%22feed_key%22%3A%20%22540e857d28ffdc628260ca22a21cb330%22%2C%20%22gtfs_dataset_key%22%3A%20%22bc21582ac1ad2b7de0647dfd5b76f67c%22%2C%20%22shape_array_key%22%3A%20%2221aedea4c0d05c570e042903cc62c9cf%22%2C%20%22trip_id%22%3A%20%22t120-sl9-p84-r1A%22%7D%2C%20%22type%22%3A%20%22Feature%22%7D%2C%20%7B%22bbox%22%3A%20%5B-122.66435%2C%2038.27288000000006%2C%20-122.66435%2C%2038.27288000000006%5D%2C%20%22geometry%22%3A%20%7B%22coordinates%22%3A%20%5B-122.66435%2C%2038.27288000000006%5D%2C%20%22type%22%3A%20%22Point%22%7D%2C%20%22id%22%3A%20%2237%22%2C%20%22properties%22%3A%20%7B%22__folium_color%22%3A%20%22red%22%2C%20%22feed_key%22%3A%20%22540e857d28ffdc628260ca22a21cb330%22%2C%20%22gtfs_dataset_key%22%3A%20%22bc21582ac1ad2b7de0647dfd5b76f67c%22%2C%20%22shape_array_key%22%3A%20%2221aedea4c0d05c570e042903cc62c9cf%22%2C%20%22trip_id%22%3A%20%22t120-sl9-p84-r1A%22%7D%2C%20%22type%22%3A%20%22Feature%22%7D%2C%20%7B%22bbox%22%3A%20%5B-122.65172000000001%2C%2038.26384999999999%2C%20-122.65172000000001%2C%2038.26384999999999%5D%2C%20%22geometry%22%3A%20%7B%22coordinates%22%3A%20%5B-122.65172000000001%2C%2038.26384999999999%5D%2C%20%22type%22%3A%20%22Point%22%7D%2C%20%22id%22%3A%20%2238%22%2C%20%22properties%22%3A%20%7B%22__folium_color%22%3A%20%22red%22%2C%20%22feed_key%22%3A%20%22540e857d28ffdc628260ca22a21cb330%22%2C%20%22gtfs_dataset_key%22%3A%20%22bc21582ac1ad2b7de0647dfd5b76f67c%22%2C%20%22shape_array_key%22%3A%20%2221aedea4c0d05c570e042903cc62c9cf%22%2C%20%22trip_id%22%3A%20%22t120-sl9-p84-r1A%22%7D%2C%20%22type%22%3A%20%22Feature%22%7D%2C%20%7B%22bbox%22%3A%20%5B-122.66011%2C%2038.26914%2C%20-122.66011%2C%2038.26914%5D%2C%20%22geometry%22%3A%20%7B%22coordinates%22%3A%20%5B-122.66011%2C%2038.26914%5D%2C%20%22type%22%3A%20%22Point%22%7D%2C%20%22id%22%3A%20%2239%22%2C%20%22properties%22%3A%20%7B%22__folium_color%22%3A%20%22red%22%2C%20%22feed_key%22%3A%20%22540e857d28ffdc628260ca22a21cb330%22%2C%20%22gtfs_dataset_key%22%3A%20%22bc21582ac1ad2b7de0647dfd5b76f67c%22%2C%20%22shape_array_key%22%3A%20%2221aedea4c0d05c570e042903cc62c9cf%22%2C%20%22trip_id%22%3A%20%22t120-sl9-p84-r1A%22%7D%2C%20%22type%22%3A%20%22Feature%22%7D%2C%20%7B%22bbox%22%3A%20%5B-122.63464%2C%2038.25419999999998%2C%20-122.63464%2C%2038.25419999999998%5D%2C%20%22geometry%22%3A%20%7B%22coordinates%22%3A%20%5B-122.63464%2C%2038.25419999999998%5D%2C%20%22type%22%3A%20%22Point%22%7D%2C%20%22id%22%3A%20%2240%22%2C%20%22properties%22%3A%20%7B%22__folium_color%22%3A%20%22red%22%2C%20%22feed_key%22%3A%20%22540e857d28ffdc628260ca22a21cb330%22%2C%20%22gtfs_dataset_key%22%3A%20%22bc21582ac1ad2b7de0647dfd5b76f67c%22%2C%20%22shape_array_key%22%3A%20%2221aedea4c0d05c570e042903cc62c9cf%22%2C%20%22trip_id%22%3A%20%22t120-sl9-p84-r1A%22%7D%2C%20%22type%22%3A%20%22Feature%22%7D%2C%20%7B%22bbox%22%3A%20%5B-122.62621999999999%2C%2038.249435%2C%20-122.62621999999999%2C%2038.249435%5D%2C%20%22geometry%22%3A%20%7B%22coordinates%22%3A%20%5B-122.62621999999999%2C%2038.249435%5D%2C%20%22type%22%3A%20%22Point%22%7D%2C%20%22id%22%3A%20%2241%22%2C%20%22properties%22%3A%20%7B%22__folium_color%22%3A%20%22red%22%2C%20%22feed_key%22%3A%20%22540e857d28ffdc628260ca22a21cb330%22%2C%20%22gtfs_dataset_key%22%3A%20%22bc21582ac1ad2b7de0647dfd5b76f67c%22%2C%20%22shape_array_key%22%3A%20%2221aedea4c0d05c570e042903cc62c9cf%22%2C%20%22trip_id%22%3A%20%22t120-sl9-p84-r1A%22%7D%2C%20%22type%22%3A%20%22Feature%22%7D%2C%20%7B%22bbox%22%3A%20%5B-122.63725%2C%2038.25567000000004%2C%20-122.63725%2C%2038.25567000000004%5D%2C%20%22geometry%22%3A%20%7B%22coordinates%22%3A%20%5B-122.63725%2C%2038.25567000000004%5D%2C%20%22type%22%3A%20%22Point%22%7D%2C%20%22id%22%3A%20%2242%22%2C%20%22properties%22%3A%20%7B%22__folium_color%22%3A%20%22red%22%2C%20%22feed_key%22%3A%20%22540e857d28ffdc628260ca22a21cb330%22%2C%20%22gtfs_dataset_key%22%3A%20%22bc21582ac1ad2b7de0647dfd5b76f67c%22%2C%20%22shape_array_key%22%3A%20%2221aedea4c0d05c570e042903cc62c9cf%22%2C%20%22trip_id%22%3A%20%22t120-sl9-p84-r1A%22%7D%2C%20%22type%22%3A%20%22Feature%22%7D%2C%20%7B%22bbox%22%3A%20%5B-122.66685500000001%2C%2038.274314999999994%2C%20-122.66685500000001%2C%2038.274314999999994%5D%2C%20%22geometry%22%3A%20%7B%22coordinates%22%3A%20%5B-122.66685500000001%2C%2038.274314999999994%5D%2C%20%22type%22%3A%20%22Point%22%7D%2C%20%22id%22%3A%20%2243%22%2C%20%22properties%22%3A%20%7B%22__folium_color%22%3A%20%22red%22%2C%20%22feed_key%22%3A%20%22540e857d28ffdc628260ca22a21cb330%22%2C%20%22gtfs_dataset_key%22%3A%20%22bc21582ac1ad2b7de0647dfd5b76f67c%22%2C%20%22shape_array_key%22%3A%20%2221aedea4c0d05c570e042903cc62c9cf%22%2C%20%22trip_id%22%3A%20%22t120-sl9-p84-r1A%22%7D%2C%20%22type%22%3A%20%22Feature%22%7D%2C%20%7B%22bbox%22%3A%20%5B-122.66605000000001%2C%2038.273853000000024%2C%20-122.66605000000001%2C%2038.273853000000024%5D%2C%20%22geometry%22%3A%20%7B%22coordinates%22%3A%20%5B-122.66605000000001%2C%2038.273853000000024%5D%2C%20%22type%22%3A%20%22Point%22%7D%2C%20%22id%22%3A%20%2244%22%2C%20%22properties%22%3A%20%7B%22__folium_color%22%3A%20%22red%22%2C%20%22feed_key%22%3A%20%22540e857d28ffdc628260ca22a21cb330%22%2C%20%22gtfs_dataset_key%22%3A%20%22bc21582ac1ad2b7de0647dfd5b76f67c%22%2C%20%22shape_array_key%22%3A%20%2221aedea4c0d05c570e042903cc62c9cf%22%2C%20%22trip_id%22%3A%20%22t120-sl9-p84-r1A%22%7D%2C%20%22type%22%3A%20%22Feature%22%7D%2C%20%7B%22bbox%22%3A%20%5B-122.62825000000001%2C%2038.250550000000004%2C%20-122.62825000000001%2C%2038.250550000000004%5D%2C%20%22geometry%22%3A%20%7B%22coordinates%22%3A%20%5B-122.62825000000001%2C%2038.250550000000004%5D%2C%20%22type%22%3A%20%22Point%22%7D%2C%20%22id%22%3A%20%2245%22%2C%20%22properties%22%3A%20%7B%22__folium_color%22%3A%20%22red%22%2C%20%22feed_key%22%3A%20%22540e857d28ffdc628260ca22a21cb330%22%2C%20%22gtfs_dataset_key%22%3A%20%22bc21582ac1ad2b7de0647dfd5b76f67c%22%2C%20%22shape_array_key%22%3A%20%2221aedea4c0d05c570e042903cc62c9cf%22%2C%20%22trip_id%22%3A%20%22t120-sl9-p84-r1A%22%7D%2C%20%22type%22%3A%20%22Feature%22%7D%2C%20%7B%22bbox%22%3A%20%5B-122.622345%2C%2038.24746999999999%2C%20-122.622345%2C%2038.24746999999999%5D%2C%20%22geometry%22%3A%20%7B%22coordinates%22%3A%20%5B-122.622345%2C%2038.24746999999999%5D%2C%20%22type%22%3A%20%22Point%22%7D%2C%20%22id%22%3A%20%2246%22%2C%20%22properties%22%3A%20%7B%22__folium_color%22%3A%20%22red%22%2C%20%22feed_key%22%3A%20%22540e857d28ffdc628260ca22a21cb330%22%2C%20%22gtfs_dataset_key%22%3A%20%22bc21582ac1ad2b7de0647dfd5b76f67c%22%2C%20%22shape_array_key%22%3A%20%2221aedea4c0d05c570e042903cc62c9cf%22%2C%20%22trip_id%22%3A%20%22t120-sl9-p84-r1A%22%7D%2C%20%22type%22%3A%20%22Feature%22%7D%2C%20%7B%22bbox%22%3A%20%5B-122.63405000000002%2C%2038.25387599999997%2C%20-122.63405000000002%2C%2038.25387599999997%5D%2C%20%22geometry%22%3A%20%7B%22coordinates%22%3A%20%5B-122.63405000000002%2C%2038.25387599999997%5D%2C%20%22type%22%3A%20%22Point%22%7D%2C%20%22id%22%3A%20%2247%22%2C%20%22properties%22%3A%20%7B%22__folium_color%22%3A%20%22red%22%2C%20%22feed_key%22%3A%20%22540e857d28ffdc628260ca22a21cb330%22%2C%20%22gtfs_dataset_key%22%3A%20%22bc21582ac1ad2b7de0647dfd5b76f67c%22%2C%20%22shape_array_key%22%3A%20%2221aedea4c0d05c570e042903cc62c9cf%22%2C%20%22trip_id%22%3A%20%22t120-sl9-p84-r1A%22%7D%2C%20%22type%22%3A%20%22Feature%22%7D%2C%20%7B%22bbox%22%3A%20%5B-122.66686%2C%2038.274314999999994%2C%20-122.66686%2C%2038.274314999999994%5D%2C%20%22geometry%22%3A%20%7B%22coordinates%22%3A%20%5B-122.66686%2C%2038.274314999999994%5D%2C%20%22type%22%3A%20%22Point%22%7D%2C%20%22id%22%3A%20%2248%22%2C%20%22properties%22%3A%20%7B%22__folium_color%22%3A%20%22red%22%2C%20%22feed_key%22%3A%20%22540e857d28ffdc628260ca22a21cb330%22%2C%20%22gtfs_dataset_key%22%3A%20%22bc21582ac1ad2b7de0647dfd5b76f67c%22%2C%20%22shape_array_key%22%3A%20%2221aedea4c0d05c570e042903cc62c9cf%22%2C%20%22trip_id%22%3A%20%22t120-sl9-p84-r1A%22%7D%2C%20%22type%22%3A%20%22Feature%22%7D%5D%2C%20%22type%22%3A%20%22FeatureCollection%22%7D%29%3B%0A%0A%20%20%20%20%20%20%20%20%0A%20%20%20%20%0A%20%20%20%20geo_json_25843bdda2e0454b8a2dd7d3e6369dd1.bindTooltip%28%0A%20%20%20%20function%28layer%29%7B%0A%20%20%20%20let%20div%20%3D%20L.DomUtil.create%28%27div%27%29%3B%0A%20%20%20%20%0A%20%20%20%20let%20handleObject%20%3D%20feature%3D%3Etypeof%28feature%29%3D%3D%27object%27%20%3F%20JSON.stringify%28feature%29%20%3A%20feature%3B%0A%20%20%20%20let%20fields%20%3D%20%5B%22gtfs_dataset_key%22%2C%20%22trip_id%22%2C%20%22feed_key%22%2C%20%22shape_array_key%22%5D%3B%0A%20%20%20%20let%20aliases%20%3D%20%5B%22gtfs_dataset_key%22%2C%20%22trip_id%22%2C%20%22feed_key%22%2C%20%22shape_array_key%22%5D%3B%0A%20%20%20%20let%20table%20%3D%20%27%3Ctable%3E%27%20%2B%0A%20%20%20%20%20%20%20%20String%28%0A%20%20%20%20%20%20%20%20fields.map%28%0A%20%20%20%20%20%20%20%20%28v%2Ci%29%3D%3E%0A%20%20%20%20%20%20%20%20%60%3Ctr%3E%0A%20%20%20%20%20%20%20%20%20%20%20%20%3Cth%3E%24%7Baliases%5Bi%5D%7D%3C/th%3E%0A%20%20%20%20%20%20%20%20%20%20%20%20%0A%20%20%20%20%20%20%20%20%20%20%20%20%3Ctd%3E%24%7BhandleObject%28layer.feature.properties%5Bv%5D%29%7D%3C/td%3E%0A%20%20%20%20%20%20%20%20%3C/tr%3E%60%29.join%28%27%27%29%29%0A%20%20%20%20%2B%27%3C/table%3E%27%3B%0A%20%20%20%20div.innerHTML%3Dtable%3B%0A%20%20%20%20%0A%20%20%20%20return%20div%0A%20%20%20%20%7D%0A%20%20%20%20%2C%7B%22className%22%3A%20%22foliumtooltip%22%2C%20%22sticky%22%3A%20true%7D%29%3B%0A%20%20%20%20%20%20%20%20%20%20%20%20%20%20%20%20%20%20%20%20%20%0A%3C/script%3E onload=\"this.contentDocument.open();this.contentDocument.write(    decodeURIComponent(this.getAttribute('data-html')));this.contentDocument.close();\" allowfullscreen webkitallowfullscreen mozallowfullscreen></iframe></div></div>"
      ],
      "text/plain": [
       "<folium.folium.Map at 0x7f7d42e6e6d0>"
      ]
     },
     "metadata": {},
     "output_type": "display_data"
    },
    {
     "name": "stdout",
     "output_type": "stream",
     "text": [
      "SJOIN\n"
     ]
    },
    {
     "data": {
      "text/html": [
       "<div style=\"width:100%;\"><div style=\"position:relative;width:100%;height:0;padding-bottom:60%;\"><span style=\"color:#565656\">Make this Notebook Trusted to load map: File -> Trust Notebook</span><iframe src=\"about:blank\" style=\"position:absolute;width:100%;height:100%;left:0;top:0;border:none !important;\" data-html=%3C%21DOCTYPE%20html%3E%0A%3Chead%3E%20%20%20%20%0A%20%20%20%20%3Cmeta%20http-equiv%3D%22content-type%22%20content%3D%22text/html%3B%20charset%3DUTF-8%22%20/%3E%0A%20%20%20%20%0A%20%20%20%20%20%20%20%20%3Cscript%3E%0A%20%20%20%20%20%20%20%20%20%20%20%20L_NO_TOUCH%20%3D%20false%3B%0A%20%20%20%20%20%20%20%20%20%20%20%20L_DISABLE_3D%20%3D%20false%3B%0A%20%20%20%20%20%20%20%20%3C/script%3E%0A%20%20%20%20%0A%20%20%20%20%3Cstyle%3Ehtml%2C%20body%20%7Bwidth%3A%20100%25%3Bheight%3A%20100%25%3Bmargin%3A%200%3Bpadding%3A%200%3B%7D%3C/style%3E%0A%20%20%20%20%3Cstyle%3E%23map%20%7Bposition%3Aabsolute%3Btop%3A0%3Bbottom%3A0%3Bright%3A0%3Bleft%3A0%3B%7D%3C/style%3E%0A%20%20%20%20%3Cscript%20src%3D%22https%3A//cdn.jsdelivr.net/npm/leaflet%401.6.0/dist/leaflet.js%22%3E%3C/script%3E%0A%20%20%20%20%3Cscript%20src%3D%22https%3A//code.jquery.com/jquery-1.12.4.min.js%22%3E%3C/script%3E%0A%20%20%20%20%3Cscript%20src%3D%22https%3A//maxcdn.bootstrapcdn.com/bootstrap/3.2.0/js/bootstrap.min.js%22%3E%3C/script%3E%0A%20%20%20%20%3Cscript%20src%3D%22https%3A//cdnjs.cloudflare.com/ajax/libs/Leaflet.awesome-markers/2.0.2/leaflet.awesome-markers.js%22%3E%3C/script%3E%0A%20%20%20%20%3Clink%20rel%3D%22stylesheet%22%20href%3D%22https%3A//cdn.jsdelivr.net/npm/leaflet%401.6.0/dist/leaflet.css%22/%3E%0A%20%20%20%20%3Clink%20rel%3D%22stylesheet%22%20href%3D%22https%3A//maxcdn.bootstrapcdn.com/bootstrap/3.2.0/css/bootstrap.min.css%22/%3E%0A%20%20%20%20%3Clink%20rel%3D%22stylesheet%22%20href%3D%22https%3A//maxcdn.bootstrapcdn.com/bootstrap/3.2.0/css/bootstrap-theme.min.css%22/%3E%0A%20%20%20%20%3Clink%20rel%3D%22stylesheet%22%20href%3D%22https%3A//maxcdn.bootstrapcdn.com/font-awesome/4.6.3/css/font-awesome.min.css%22/%3E%0A%20%20%20%20%3Clink%20rel%3D%22stylesheet%22%20href%3D%22https%3A//cdnjs.cloudflare.com/ajax/libs/Leaflet.awesome-markers/2.0.2/leaflet.awesome-markers.css%22/%3E%0A%20%20%20%20%3Clink%20rel%3D%22stylesheet%22%20href%3D%22https%3A//cdn.jsdelivr.net/gh/python-visualization/folium/folium/templates/leaflet.awesome.rotate.min.css%22/%3E%0A%20%20%20%20%0A%20%20%20%20%20%20%20%20%20%20%20%20%3Cmeta%20name%3D%22viewport%22%20content%3D%22width%3Ddevice-width%2C%0A%20%20%20%20%20%20%20%20%20%20%20%20%20%20%20%20initial-scale%3D1.0%2C%20maximum-scale%3D1.0%2C%20user-scalable%3Dno%22%20/%3E%0A%20%20%20%20%20%20%20%20%20%20%20%20%3Cstyle%3E%0A%20%20%20%20%20%20%20%20%20%20%20%20%20%20%20%20%23map_862e926ebc5448329564e826c15f50fa%20%7B%0A%20%20%20%20%20%20%20%20%20%20%20%20%20%20%20%20%20%20%20%20position%3A%20relative%3B%0A%20%20%20%20%20%20%20%20%20%20%20%20%20%20%20%20%20%20%20%20width%3A%20600.0px%3B%0A%20%20%20%20%20%20%20%20%20%20%20%20%20%20%20%20%20%20%20%20height%3A%20400.0px%3B%0A%20%20%20%20%20%20%20%20%20%20%20%20%20%20%20%20%20%20%20%20left%3A%200.0%25%3B%0A%20%20%20%20%20%20%20%20%20%20%20%20%20%20%20%20%20%20%20%20top%3A%200.0%25%3B%0A%20%20%20%20%20%20%20%20%20%20%20%20%20%20%20%20%7D%0A%20%20%20%20%20%20%20%20%20%20%20%20%3C/style%3E%0A%20%20%20%20%20%20%20%20%0A%20%20%20%20%0A%20%20%20%20%20%20%20%20%20%20%20%20%20%20%20%20%20%20%20%20%3Cstyle%3E%0A%20%20%20%20%20%20%20%20%20%20%20%20%20%20%20%20%20%20%20%20%20%20%20%20.foliumtooltip%20%7B%0A%20%20%20%20%20%20%20%20%20%20%20%20%20%20%20%20%20%20%20%20%20%20%20%20%20%20%20%20%0A%20%20%20%20%20%20%20%20%20%20%20%20%20%20%20%20%20%20%20%20%20%20%20%20%7D%0A%20%20%20%20%20%20%20%20%20%20%20%20%20%20%20%20%20%20%20%20%20%20%20.foliumtooltip%20table%7B%0A%20%20%20%20%20%20%20%20%20%20%20%20%20%20%20%20%20%20%20%20%20%20%20%20%20%20%20%20margin%3A%20auto%3B%0A%20%20%20%20%20%20%20%20%20%20%20%20%20%20%20%20%20%20%20%20%20%20%20%20%7D%0A%20%20%20%20%20%20%20%20%20%20%20%20%20%20%20%20%20%20%20%20%20%20%20%20.foliumtooltip%20tr%7B%0A%20%20%20%20%20%20%20%20%20%20%20%20%20%20%20%20%20%20%20%20%20%20%20%20%20%20%20%20text-align%3A%20left%3B%0A%20%20%20%20%20%20%20%20%20%20%20%20%20%20%20%20%20%20%20%20%20%20%20%20%7D%0A%20%20%20%20%20%20%20%20%20%20%20%20%20%20%20%20%20%20%20%20%20%20%20%20.foliumtooltip%20th%7B%0A%20%20%20%20%20%20%20%20%20%20%20%20%20%20%20%20%20%20%20%20%20%20%20%20%20%20%20%20padding%3A%202px%3B%20padding-right%3A%208px%3B%0A%20%20%20%20%20%20%20%20%20%20%20%20%20%20%20%20%20%20%20%20%20%20%20%20%7D%0A%20%20%20%20%20%20%20%20%20%20%20%20%20%20%20%20%20%20%20%20%3C/style%3E%0A%20%20%20%20%20%20%20%20%20%20%20%20%0A%20%20%20%20%0A%20%20%20%20%20%20%20%20%20%20%20%20%20%20%20%20%20%20%20%20%3Cstyle%3E%0A%20%20%20%20%20%20%20%20%20%20%20%20%20%20%20%20%20%20%20%20%20%20%20%20.foliumtooltip%20%7B%0A%20%20%20%20%20%20%20%20%20%20%20%20%20%20%20%20%20%20%20%20%20%20%20%20%20%20%20%20%0A%20%20%20%20%20%20%20%20%20%20%20%20%20%20%20%20%20%20%20%20%20%20%20%20%7D%0A%20%20%20%20%20%20%20%20%20%20%20%20%20%20%20%20%20%20%20%20%20%20%20.foliumtooltip%20table%7B%0A%20%20%20%20%20%20%20%20%20%20%20%20%20%20%20%20%20%20%20%20%20%20%20%20%20%20%20%20margin%3A%20auto%3B%0A%20%20%20%20%20%20%20%20%20%20%20%20%20%20%20%20%20%20%20%20%20%20%20%20%7D%0A%20%20%20%20%20%20%20%20%20%20%20%20%20%20%20%20%20%20%20%20%20%20%20%20.foliumtooltip%20tr%7B%0A%20%20%20%20%20%20%20%20%20%20%20%20%20%20%20%20%20%20%20%20%20%20%20%20%20%20%20%20text-align%3A%20left%3B%0A%20%20%20%20%20%20%20%20%20%20%20%20%20%20%20%20%20%20%20%20%20%20%20%20%7D%0A%20%20%20%20%20%20%20%20%20%20%20%20%20%20%20%20%20%20%20%20%20%20%20%20.foliumtooltip%20th%7B%0A%20%20%20%20%20%20%20%20%20%20%20%20%20%20%20%20%20%20%20%20%20%20%20%20%20%20%20%20padding%3A%202px%3B%20padding-right%3A%208px%3B%0A%20%20%20%20%20%20%20%20%20%20%20%20%20%20%20%20%20%20%20%20%20%20%20%20%7D%0A%20%20%20%20%20%20%20%20%20%20%20%20%20%20%20%20%20%20%20%20%3C/style%3E%0A%20%20%20%20%20%20%20%20%20%20%20%20%0A%3C/head%3E%0A%3Cbody%3E%20%20%20%20%0A%20%20%20%20%0A%20%20%20%20%20%20%20%20%20%20%20%20%3Cdiv%20class%3D%22folium-map%22%20id%3D%22map_862e926ebc5448329564e826c15f50fa%22%20%3E%3C/div%3E%0A%20%20%20%20%20%20%20%20%0A%3C/body%3E%0A%3Cscript%3E%20%20%20%20%0A%20%20%20%20%0A%20%20%20%20%20%20%20%20%20%20%20%20var%20map_862e926ebc5448329564e826c15f50fa%20%3D%20L.map%28%0A%20%20%20%20%20%20%20%20%20%20%20%20%20%20%20%20%22map_862e926ebc5448329564e826c15f50fa%22%2C%0A%20%20%20%20%20%20%20%20%20%20%20%20%20%20%20%20%7B%0A%20%20%20%20%20%20%20%20%20%20%20%20%20%20%20%20%20%20%20%20center%3A%20%5B38.26179741279877%2C%20-122.64549515041911%5D%2C%0A%20%20%20%20%20%20%20%20%20%20%20%20%20%20%20%20%20%20%20%20crs%3A%20L.CRS.EPSG3857%2C%0A%20%20%20%20%20%20%20%20%20%20%20%20%20%20%20%20%20%20%20%20zoom%3A%2010%2C%0A%20%20%20%20%20%20%20%20%20%20%20%20%20%20%20%20%20%20%20%20zoomControl%3A%20true%2C%0A%20%20%20%20%20%20%20%20%20%20%20%20%20%20%20%20%20%20%20%20preferCanvas%3A%20false%2C%0A%20%20%20%20%20%20%20%20%20%20%20%20%20%20%20%20%7D%0A%20%20%20%20%20%20%20%20%20%20%20%20%29%3B%0A%20%20%20%20%20%20%20%20%20%20%20%20L.control.scale%28%29.addTo%28map_862e926ebc5448329564e826c15f50fa%29%3B%0A%0A%20%20%20%20%20%20%20%20%20%20%20%20%0A%0A%20%20%20%20%20%20%20%20%0A%20%20%20%20%0A%20%20%20%20%20%20%20%20%20%20%20%20var%20tile_layer_616ec6df02e04e38bcf83d0496c59c2b%20%3D%20L.tileLayer%28%0A%20%20%20%20%20%20%20%20%20%20%20%20%20%20%20%20%22https%3A//%7Bs%7D.tile.openstreetmap.org/%7Bz%7D/%7Bx%7D/%7By%7D.png%22%2C%0A%20%20%20%20%20%20%20%20%20%20%20%20%20%20%20%20%7B%22attribution%22%3A%20%22Data%20by%20%5Cu0026copy%3B%20%5Cu003ca%20href%3D%5C%22http%3A//openstreetmap.org%5C%22%5Cu003eOpenStreetMap%5Cu003c/a%5Cu003e%2C%20under%20%5Cu003ca%20href%3D%5C%22http%3A//www.openstreetmap.org/copyright%5C%22%5Cu003eODbL%5Cu003c/a%5Cu003e.%22%2C%20%22detectRetina%22%3A%20false%2C%20%22maxNativeZoom%22%3A%2018%2C%20%22maxZoom%22%3A%2018%2C%20%22minZoom%22%3A%200%2C%20%22noWrap%22%3A%20false%2C%20%22opacity%22%3A%201%2C%20%22subdomains%22%3A%20%22abc%22%2C%20%22tms%22%3A%20false%7D%0A%20%20%20%20%20%20%20%20%20%20%20%20%29.addTo%28map_862e926ebc5448329564e826c15f50fa%29%3B%0A%20%20%20%20%20%20%20%20%0A%20%20%20%20%0A%20%20%20%20%20%20%20%20%20%20%20%20map_862e926ebc5448329564e826c15f50fa.fitBounds%28%0A%20%20%20%20%20%20%20%20%20%20%20%20%20%20%20%20%5B%5B38.2469653226834%2C%20-122.6697105729241%5D%2C%20%5B38.27662950291414%2C%20-122.62127972791411%5D%5D%2C%0A%20%20%20%20%20%20%20%20%20%20%20%20%20%20%20%20%7B%7D%0A%20%20%20%20%20%20%20%20%20%20%20%20%29%3B%0A%20%20%20%20%20%20%20%20%0A%20%20%20%20%0A%20%20%20%20%20%20%20%20function%20geo_json_b4a05b02982544e887393502950a57a0_styler%28feature%29%20%7B%0A%20%20%20%20%20%20%20%20%20%20%20%20switch%28feature.id%29%20%7B%0A%20%20%20%20%20%20%20%20%20%20%20%20%20%20%20%20default%3A%0A%20%20%20%20%20%20%20%20%20%20%20%20%20%20%20%20%20%20%20%20return%20%7B%22fillOpacity%22%3A%200.5%2C%20%22weight%22%3A%202%7D%3B%0A%20%20%20%20%20%20%20%20%20%20%20%20%7D%0A%20%20%20%20%20%20%20%20%7D%0A%20%20%20%20%20%20%20%20function%20geo_json_b4a05b02982544e887393502950a57a0_highlighter%28feature%29%20%7B%0A%20%20%20%20%20%20%20%20%20%20%20%20switch%28feature.id%29%20%7B%0A%20%20%20%20%20%20%20%20%20%20%20%20%20%20%20%20default%3A%0A%20%20%20%20%20%20%20%20%20%20%20%20%20%20%20%20%20%20%20%20return%20%7B%22fillOpacity%22%3A%200.75%7D%3B%0A%20%20%20%20%20%20%20%20%20%20%20%20%7D%0A%20%20%20%20%20%20%20%20%7D%0A%20%20%20%20%20%20%20%20function%20geo_json_b4a05b02982544e887393502950a57a0_pointToLayer%28feature%2C%20latlng%29%20%7B%0A%20%20%20%20%20%20%20%20%20%20%20%20var%20opts%20%3D%20%7B%22bubblingMouseEvents%22%3A%20true%2C%20%22color%22%3A%20%22%233388ff%22%2C%20%22dashArray%22%3A%20null%2C%20%22dashOffset%22%3A%20null%2C%20%22fill%22%3A%20true%2C%20%22fillColor%22%3A%20%22%233388ff%22%2C%20%22fillOpacity%22%3A%200.2%2C%20%22fillRule%22%3A%20%22evenodd%22%2C%20%22lineCap%22%3A%20%22round%22%2C%20%22lineJoin%22%3A%20%22round%22%2C%20%22opacity%22%3A%201.0%2C%20%22radius%22%3A%202%2C%20%22stroke%22%3A%20true%2C%20%22weight%22%3A%203%7D%3B%0A%20%20%20%20%20%20%20%20%20%20%20%20%0A%20%20%20%20%20%20%20%20%20%20%20%20let%20style%20%3D%20geo_json_b4a05b02982544e887393502950a57a0_styler%28feature%29%0A%20%20%20%20%20%20%20%20%20%20%20%20Object.assign%28opts%2C%20style%29%0A%20%20%20%20%20%20%20%20%20%20%20%20%0A%20%20%20%20%20%20%20%20%20%20%20%20return%20new%20L.CircleMarker%28latlng%2C%20opts%29%0A%20%20%20%20%20%20%20%20%7D%0A%0A%20%20%20%20%20%20%20%20function%20geo_json_b4a05b02982544e887393502950a57a0_onEachFeature%28feature%2C%20layer%29%20%7B%0A%20%20%20%20%20%20%20%20%20%20%20%20layer.on%28%7B%0A%20%20%20%20%20%20%20%20%20%20%20%20%20%20%20%20mouseout%3A%20function%28e%29%20%7B%0A%20%20%20%20%20%20%20%20%20%20%20%20%20%20%20%20%20%20%20%20if%28typeof%20e.target.setStyle%20%3D%3D%3D%20%22function%22%29%7B%0A%20%20%20%20%20%20%20%20%20%20%20%20%20%20%20%20%20%20%20%20%20%20%20%20geo_json_b4a05b02982544e887393502950a57a0.resetStyle%28e.target%29%3B%0A%20%20%20%20%20%20%20%20%20%20%20%20%20%20%20%20%20%20%20%20%7D%0A%20%20%20%20%20%20%20%20%20%20%20%20%20%20%20%20%7D%2C%0A%20%20%20%20%20%20%20%20%20%20%20%20%20%20%20%20mouseover%3A%20function%28e%29%20%7B%0A%20%20%20%20%20%20%20%20%20%20%20%20%20%20%20%20%20%20%20%20if%28typeof%20e.target.setStyle%20%3D%3D%3D%20%22function%22%29%7B%0A%20%20%20%20%20%20%20%20%20%20%20%20%20%20%20%20%20%20%20%20%20%20%20%20const%20highlightStyle%20%3D%20geo_json_b4a05b02982544e887393502950a57a0_highlighter%28e.target.feature%29%0A%20%20%20%20%20%20%20%20%20%20%20%20%20%20%20%20%20%20%20%20%20%20%20%20e.target.setStyle%28highlightStyle%29%3B%0A%20%20%20%20%20%20%20%20%20%20%20%20%20%20%20%20%20%20%20%20%7D%0A%20%20%20%20%20%20%20%20%20%20%20%20%20%20%20%20%7D%2C%0A%20%20%20%20%20%20%20%20%20%20%20%20%7D%29%3B%0A%20%20%20%20%20%20%20%20%7D%3B%0A%20%20%20%20%20%20%20%20var%20geo_json_b4a05b02982544e887393502950a57a0%20%3D%20L.geoJson%28null%2C%20%7B%0A%20%20%20%20%20%20%20%20%20%20%20%20%20%20%20%20onEachFeature%3A%20geo_json_b4a05b02982544e887393502950a57a0_onEachFeature%2C%0A%20%20%20%20%20%20%20%20%20%20%20%20%0A%20%20%20%20%20%20%20%20%20%20%20%20%20%20%20%20style%3A%20geo_json_b4a05b02982544e887393502950a57a0_styler%2C%0A%20%20%20%20%20%20%20%20%20%20%20%20%20%20%20%20pointToLayer%3A%20geo_json_b4a05b02982544e887393502950a57a0_pointToLayer%0A%20%20%20%20%20%20%20%20%7D%29%3B%0A%0A%20%20%20%20%20%20%20%20function%20geo_json_b4a05b02982544e887393502950a57a0_add%20%28data%29%20%7B%0A%20%20%20%20%20%20%20%20%20%20%20%20geo_json_b4a05b02982544e887393502950a57a0%0A%20%20%20%20%20%20%20%20%20%20%20%20%20%20%20%20.addData%28data%29%0A%20%20%20%20%20%20%20%20%20%20%20%20%20%20%20%20.addTo%28map_862e926ebc5448329564e826c15f50fa%29%3B%0A%20%20%20%20%20%20%20%20%7D%0A%20%20%20%20%20%20%20%20%20%20%20%20geo_json_b4a05b02982544e887393502950a57a0_add%28%7B%22bbox%22%3A%20%5B-122.6697105729241%2C%2038.2469653226834%2C%20-122.62127972791411%2C%2038.27662950291414%5D%2C%20%22features%22%3A%20%5B%7B%22bbox%22%3A%20%5B-122.66310841533114%2C%2038.2674721214831%2C%20-122.65819403678371%2C%2038.27182101572987%5D%2C%20%22geometry%22%3A%20%7B%22coordinates%22%3A%20%5B%5B%5B-122.6597521575395%2C%2038.268246535572565%5D%2C%20%5B-122.65977697982494%2C%2038.26826776206832%5D%2C%20%5B-122.66299463940776%2C%2038.27128555540497%5D%2C%20%5B-122.6630102726072%2C%2038.27129968559999%5D%2C%20%5B-122.66303458078546%2C%2038.271323967074416%5D%2C%20%5B-122.66305574410364%2C%2038.27135000446342%5D%2C%20%5B-122.66307355874538%2C%2038.27137754701464%5D%2C%20%5B-122.66308785314315%2C%2038.271406329479596%5D%2C%20%5B-122.66309848963058%2C%2038.27143607466887%5D%2C%20%5B-122.66310536576839%2C%2038.27146649612095%5D%2C%20%5B-122.66310841533114%2C%2038.27149730086124%5D%2C%20%5B-122.66310760894515%2C%2038.27152819222351%5D%2C%20%5B-122.66310295437157%2C%2038.27155887270711%5D%2C%20%5B-122.6630944964319%2C%2038.27158904684166%5D%2C%20%5B-122.66308231657628%2C%2038.271618424032994%5D%2C%20%5B-122.66306653209963%2C%2038.27164672136156%5D%2C%20%5B-122.66304729501181%2C%2038.2716736663072%5D%2C%20%5B-122.66302479057399%2C%2038.27169899937382%5D%2C%20%5B-122.66299923551456%2C%2038.27172247658831%5D%2C%20%5B-122.66297087594201%2C%2038.27174387185038%5D%2C%20%5B-122.66293998497468%2C%2038.27176297911008%5D%2C%20%5B-122.66290686011062%2C%2038.27177961435225%5D%2C%20%5B-122.66287182036238%2C%2038.271793617368616%5D%2C%20%5B-122.66283520318471%2C%2038.27180485330099%5D%2C%20%5B-122.66279736122455%2C%2038.27181321393996%5D%2C%20%5B-122.66275865892477%2C%2038.27181861876694%5D%2C%20%5B-122.6627194690141%2C%2038.27182101572987%5D%2C%20%5B-122.66268016891759%2C%2038.271820381744355%5D%2C%20%5B-122.66264113712138%2C%2038.27181672291619%5D%2C%20%5B-122.66260274952766%2C%2038.271810074482254%5D%2C%20%5B-122.66256537583428%2C%2038.27180050047147%5D%2C%20%5B-122.66252937597422%2C%2038.27178809308783%5D%2C%20%5B-122.66249509664898%2C%2038.271772971822635%5D%2C%20%5B-122.66246286798975%2C%2038.271755282303616%5D%2C%20%5B-122.66243300037777%2C%2038.2717351948922%5D%2C%20%5B-122.66240578145523%2C%2038.271712903043074%5D%2C%20%5B-122.66238775360218%2C%2038.271696608299884%5D%2C%20%5B-122.66238301480722%2C%2038.2716922454258%5D%2C%20%5B-122.65917481078284%2C%2038.268683297634155%5D%2C%20%5B-122.65831240567827%2C%2038.26801043033498%5D%2C%20%5B-122.65828590064555%2C%2038.26798761412736%5D%2C%20%5B-122.65826236824276%2C%2038.2679628655926%5D%2C%20%5B-122.65824203509841%2C%2038.26793642307435%5D%2C%20%5B-122.6582250970296%2C%2038.26790854123022%5D%2C%20%5B-122.65821171715618%2C%2038.26787948857911%5D%2C%20%5B-122.65820202433%2C%2038.26784954491506%5D%2C%20%5B-122.65819611189401%2C%2038.26781899861288%5D%2C%20%5B-122.65819403678371%2C%2038.26778814385077%5D%2C%20%5B-122.65819581897878%2C%2038.26775727777713%5D%2C%20%5B-122.65820144131094%2C%2038.267726697648925%5D%2C%20%5B-122.65821084962946%2C%2038.26769669796897%5D%2C%20%5B-122.6582239533229%2C%2038.267667567649674%5D%2C%20%5B-122.6582406261918%2C%2038.26763958723086%5D%2C%20%5B-122.65826070766423%2C%2038.26761302617766%5D%2C%20%5B-122.65828400434239%2C%2038.267588140285966%5D%2C%20%5B-122.65831029186509%2C%2038.267565169218685%5D%2C%20%5B-122.65833931706864%2C%2038.26754433419786%5D%2C%20%5B-122.65837080042488%2C%2038.267525835874245%5D%2C%20%5B-122.6584044387332%2C%2038.26750985239498%5D%2C%20%5B-122.65843990804056%2C%2038.26749653768808%5D%2C%20%5B-122.65847686676113%2C%2038.267486019979906%5D%2C%20%5B-122.65851495896592%2C%2038.26747840056058%5D%2C%20%5B-122.65855381781033%2C%2038.26747375280837%5D%2C%20%5B-122.65859306906705%2C%2038.2674721214831%5D%2C%20%5B-122.65863233472973%2C%2038.267473522295084%5D%2C%20%5B-122.65867123665336%2C%2038.26747794175393%5D%2C%20%5B-122.6587094001957%2C%2038.26748533729841%5D%2C%20%5B-122.65874645782523%2C%2038.267495637706226%5D%2C%20%5B-122.65878205266041%2C%2038.26750874378%5D%2C%20%5B-122.65881584190662%2C%2038.267524529302555%5D%2C%20%5B-122.65884750015721%2C%2038.26754284225236%5D%2C%20%5B-122.65887672252731%2C%2038.267563506267514%5D%2C%20%5B-122.6597521575395%2C%2038.268246535572565%5D%5D%5D%2C%20%22type%22%3A%20%22Polygon%22%7D%2C%20%22id%22%3A%20%220%22%2C%20%22properties%22%3A%20%7B%22district%22%3A%204%2C%20%22district_name%22%3A%20%22District%204%20-%20Oakland%22%2C%20%22feed_key_left%22%3A%20%22540e857d28ffdc628260ca22a21cb330%22%2C%20%22feed_key_right%22%3A%20%22540e857d28ffdc628260ca22a21cb330%22%2C%20%22gtfs_dataset_key_left%22%3A%20%22bc21582ac1ad2b7de0647dfd5b76f67c%22%2C%20%22gtfs_dataset_key_right%22%3A%20%22bc21582ac1ad2b7de0647dfd5b76f67c%22%2C%20%22index_right%22%3A%2020092%2C%20%22loop_or_inlining%22%3A%200%2C%20%22seg_idx%22%3A%2020132%2C%20%22shape_array_key_left%22%3A%20%2221aedea4c0d05c570e042903cc62c9cf%22%2C%20%22shape_array_key_right%22%3A%20%2221aedea4c0d05c570e042903cc62c9cf%22%2C%20%22stop_id%22%3A%20%2287509%22%2C%20%22stop_sequence%22%3A%20420%2C%20%22trip_id%22%3A%20%22t120-sl9-p84-r1A%22%7D%2C%20%22type%22%3A%20%22Feature%22%7D%2C%20%7B%22bbox%22%3A%20%5B-122.66310841533114%2C%2038.2674721214831%2C%20-122.65819403678371%2C%2038.27182101572987%5D%2C%20%22geometry%22%3A%20%7B%22coordinates%22%3A%20%5B%5B%5B-122.6597521575395%2C%2038.268246535572565%5D%2C%20%5B-122.65977697982494%2C%2038.26826776206832%5D%2C%20%5B-122.66299463940776%2C%2038.27128555540497%5D%2C%20%5B-122.6630102726072%2C%2038.27129968559999%5D%2C%20%5B-122.66303458078546%2C%2038.271323967074416%5D%2C%20%5B-122.66305574410364%2C%2038.27135000446342%5D%2C%20%5B-122.66307355874538%2C%2038.27137754701464%5D%2C%20%5B-122.66308785314315%2C%2038.271406329479596%5D%2C%20%5B-122.66309848963058%2C%2038.27143607466887%5D%2C%20%5B-122.66310536576839%2C%2038.27146649612095%5D%2C%20%5B-122.66310841533114%2C%2038.27149730086124%5D%2C%20%5B-122.66310760894515%2C%2038.27152819222351%5D%2C%20%5B-122.66310295437157%2C%2038.27155887270711%5D%2C%20%5B-122.6630944964319%2C%2038.27158904684166%5D%2C%20%5B-122.66308231657628%2C%2038.271618424032994%5D%2C%20%5B-122.66306653209963%2C%2038.27164672136156%5D%2C%20%5B-122.66304729501181%2C%2038.2716736663072%5D%2C%20%5B-122.66302479057399%2C%2038.27169899937382%5D%2C%20%5B-122.66299923551456%2C%2038.27172247658831%5D%2C%20%5B-122.66297087594201%2C%2038.27174387185038%5D%2C%20%5B-122.66293998497468%2C%2038.27176297911008%5D%2C%20%5B-122.66290686011062%2C%2038.27177961435225%5D%2C%20%5B-122.66287182036238%2C%2038.271793617368616%5D%2C%20%5B-122.66283520318471%2C%2038.27180485330099%5D%2C%20%5B-122.66279736122455%2C%2038.27181321393996%5D%2C%20%5B-122.66275865892477%2C%2038.27181861876694%5D%2C%20%5B-122.6627194690141%2C%2038.27182101572987%5D%2C%20%5B-122.66268016891759%2C%2038.271820381744355%5D%2C%20%5B-122.66264113712138%2C%2038.27181672291619%5D%2C%20%5B-122.66260274952766%2C%2038.271810074482254%5D%2C%20%5B-122.66256537583428%2C%2038.27180050047147%5D%2C%20%5B-122.66252937597422%2C%2038.27178809308783%5D%2C%20%5B-122.66249509664898%2C%2038.271772971822635%5D%2C%20%5B-122.66246286798975%2C%2038.271755282303616%5D%2C%20%5B-122.66243300037777%2C%2038.2717351948922%5D%2C%20%5B-122.66240578145523%2C%2038.271712903043074%5D%2C%20%5B-122.66238775360218%2C%2038.271696608299884%5D%2C%20%5B-122.66238301480722%2C%2038.2716922454258%5D%2C%20%5B-122.65917481078284%2C%2038.268683297634155%5D%2C%20%5B-122.65831240567827%2C%2038.26801043033498%5D%2C%20%5B-122.65828590064555%2C%2038.26798761412736%5D%2C%20%5B-122.65826236824276%2C%2038.2679628655926%5D%2C%20%5B-122.65824203509841%2C%2038.26793642307435%5D%2C%20%5B-122.6582250970296%2C%2038.26790854123022%5D%2C%20%5B-122.65821171715618%2C%2038.26787948857911%5D%2C%20%5B-122.65820202433%2C%2038.26784954491506%5D%2C%20%5B-122.65819611189401%2C%2038.26781899861288%5D%2C%20%5B-122.65819403678371%2C%2038.26778814385077%5D%2C%20%5B-122.65819581897878%2C%2038.26775727777713%5D%2C%20%5B-122.65820144131094%2C%2038.267726697648925%5D%2C%20%5B-122.65821084962946%2C%2038.26769669796897%5D%2C%20%5B-122.6582239533229%2C%2038.267667567649674%5D%2C%20%5B-122.6582406261918%2C%2038.26763958723086%5D%2C%20%5B-122.65826070766423%2C%2038.26761302617766%5D%2C%20%5B-122.65828400434239%2C%2038.267588140285966%5D%2C%20%5B-122.65831029186509%2C%2038.267565169218685%5D%2C%20%5B-122.65833931706864%2C%2038.26754433419786%5D%2C%20%5B-122.65837080042488%2C%2038.267525835874245%5D%2C%20%5B-122.6584044387332%2C%2038.26750985239498%5D%2C%20%5B-122.65843990804056%2C%2038.26749653768808%5D%2C%20%5B-122.65847686676113%2C%2038.267486019979906%5D%2C%20%5B-122.65851495896592%2C%2038.26747840056058%5D%2C%20%5B-122.65855381781033%2C%2038.26747375280837%5D%2C%20%5B-122.65859306906705%2C%2038.2674721214831%5D%2C%20%5B-122.65863233472973%2C%2038.267473522295084%5D%2C%20%5B-122.65867123665336%2C%2038.26747794175393%5D%2C%20%5B-122.6587094001957%2C%2038.26748533729841%5D%2C%20%5B-122.65874645782523%2C%2038.267495637706226%5D%2C%20%5B-122.65878205266041%2C%2038.26750874378%5D%2C%20%5B-122.65881584190662%2C%2038.267524529302555%5D%2C%20%5B-122.65884750015721%2C%2038.26754284225236%5D%2C%20%5B-122.65887672252731%2C%2038.267563506267514%5D%2C%20%5B-122.6597521575395%2C%2038.268246535572565%5D%5D%5D%2C%20%22type%22%3A%20%22Polygon%22%7D%2C%20%22id%22%3A%20%221%22%2C%20%22properties%22%3A%20%7B%22district%22%3A%204%2C%20%22district_name%22%3A%20%22District%204%20-%20Oakland%22%2C%20%22feed_key_left%22%3A%20%22540e857d28ffdc628260ca22a21cb330%22%2C%20%22feed_key_right%22%3A%20%22540e857d28ffdc628260ca22a21cb330%22%2C%20%22gtfs_dataset_key_left%22%3A%20%22bc21582ac1ad2b7de0647dfd5b76f67c%22%2C%20%22gtfs_dataset_key_right%22%3A%20%22bc21582ac1ad2b7de0647dfd5b76f67c%22%2C%20%22index_right%22%3A%2020092%2C%20%22loop_or_inlining%22%3A%200%2C%20%22seg_idx%22%3A%2020132%2C%20%22shape_array_key_left%22%3A%20%2221aedea4c0d05c570e042903cc62c9cf%22%2C%20%22shape_array_key_right%22%3A%20%2221aedea4c0d05c570e042903cc62c9cf%22%2C%20%22stop_id%22%3A%20%2287509%22%2C%20%22stop_sequence%22%3A%20420%2C%20%22trip_id%22%3A%20%22t120-sl9-p84-r1A%22%7D%2C%20%22type%22%3A%20%22Feature%22%7D%2C%20%7B%22bbox%22%3A%20%5B-122.66310841533114%2C%2038.2674721214831%2C%20-122.65819403678371%2C%2038.27182101572987%5D%2C%20%22geometry%22%3A%20%7B%22coordinates%22%3A%20%5B%5B%5B-122.6597521575395%2C%2038.268246535572565%5D%2C%20%5B-122.65977697982494%2C%2038.26826776206832%5D%2C%20%5B-122.66299463940776%2C%2038.27128555540497%5D%2C%20%5B-122.6630102726072%2C%2038.27129968559999%5D%2C%20%5B-122.66303458078546%2C%2038.271323967074416%5D%2C%20%5B-122.66305574410364%2C%2038.27135000446342%5D%2C%20%5B-122.66307355874538%2C%2038.27137754701464%5D%2C%20%5B-122.66308785314315%2C%2038.271406329479596%5D%2C%20%5B-122.66309848963058%2C%2038.27143607466887%5D%2C%20%5B-122.66310536576839%2C%2038.27146649612095%5D%2C%20%5B-122.66310841533114%2C%2038.27149730086124%5D%2C%20%5B-122.66310760894515%2C%2038.27152819222351%5D%2C%20%5B-122.66310295437157%2C%2038.27155887270711%5D%2C%20%5B-122.6630944964319%2C%2038.27158904684166%5D%2C%20%5B-122.66308231657628%2C%2038.271618424032994%5D%2C%20%5B-122.66306653209963%2C%2038.27164672136156%5D%2C%20%5B-122.66304729501181%2C%2038.2716736663072%5D%2C%20%5B-122.66302479057399%2C%2038.27169899937382%5D%2C%20%5B-122.66299923551456%2C%2038.27172247658831%5D%2C%20%5B-122.66297087594201%2C%2038.27174387185038%5D%2C%20%5B-122.66293998497468%2C%2038.27176297911008%5D%2C%20%5B-122.66290686011062%2C%2038.27177961435225%5D%2C%20%5B-122.66287182036238%2C%2038.271793617368616%5D%2C%20%5B-122.66283520318471%2C%2038.27180485330099%5D%2C%20%5B-122.66279736122455%2C%2038.27181321393996%5D%2C%20%5B-122.66275865892477%2C%2038.27181861876694%5D%2C%20%5B-122.6627194690141%2C%2038.27182101572987%5D%2C%20%5B-122.66268016891759%2C%2038.271820381744355%5D%2C%20%5B-122.66264113712138%2C%2038.27181672291619%5D%2C%20%5B-122.66260274952766%2C%2038.271810074482254%5D%2C%20%5B-122.66256537583428%2C%2038.27180050047147%5D%2C%20%5B-122.66252937597422%2C%2038.27178809308783%5D%2C%20%5B-122.66249509664898%2C%2038.271772971822635%5D%2C%20%5B-122.66246286798975%2C%2038.271755282303616%5D%2C%20%5B-122.66243300037777%2C%2038.2717351948922%5D%2C%20%5B-122.66240578145523%2C%2038.271712903043074%5D%2C%20%5B-122.66238775360218%2C%2038.271696608299884%5D%2C%20%5B-122.66238301480722%2C%2038.2716922454258%5D%2C%20%5B-122.65917481078284%2C%2038.268683297634155%5D%2C%20%5B-122.65831240567827%2C%2038.26801043033498%5D%2C%20%5B-122.65828590064555%2C%2038.26798761412736%5D%2C%20%5B-122.65826236824276%2C%2038.2679628655926%5D%2C%20%5B-122.65824203509841%2C%2038.26793642307435%5D%2C%20%5B-122.6582250970296%2C%2038.26790854123022%5D%2C%20%5B-122.65821171715618%2C%2038.26787948857911%5D%2C%20%5B-122.65820202433%2C%2038.26784954491506%5D%2C%20%5B-122.65819611189401%2C%2038.26781899861288%5D%2C%20%5B-122.65819403678371%2C%2038.26778814385077%5D%2C%20%5B-122.65819581897878%2C%2038.26775727777713%5D%2C%20%5B-122.65820144131094%2C%2038.267726697648925%5D%2C%20%5B-122.65821084962946%2C%2038.26769669796897%5D%2C%20%5B-122.6582239533229%2C%2038.267667567649674%5D%2C%20%5B-122.6582406261918%2C%2038.26763958723086%5D%2C%20%5B-122.65826070766423%2C%2038.26761302617766%5D%2C%20%5B-122.65828400434239%2C%2038.267588140285966%5D%2C%20%5B-122.65831029186509%2C%2038.267565169218685%5D%2C%20%5B-122.65833931706864%2C%2038.26754433419786%5D%2C%20%5B-122.65837080042488%2C%2038.267525835874245%5D%2C%20%5B-122.6584044387332%2C%2038.26750985239498%5D%2C%20%5B-122.65843990804056%2C%2038.26749653768808%5D%2C%20%5B-122.65847686676113%2C%2038.267486019979906%5D%2C%20%5B-122.65851495896592%2C%2038.26747840056058%5D%2C%20%5B-122.65855381781033%2C%2038.26747375280837%5D%2C%20%5B-122.65859306906705%2C%2038.2674721214831%5D%2C%20%5B-122.65863233472973%2C%2038.267473522295084%5D%2C%20%5B-122.65867123665336%2C%2038.26747794175393%5D%2C%20%5B-122.6587094001957%2C%2038.26748533729841%5D%2C%20%5B-122.65874645782523%2C%2038.267495637706226%5D%2C%20%5B-122.65878205266041%2C%2038.26750874378%5D%2C%20%5B-122.65881584190662%2C%2038.267524529302555%5D%2C%20%5B-122.65884750015721%2C%2038.26754284225236%5D%2C%20%5B-122.65887672252731%2C%2038.267563506267514%5D%2C%20%5B-122.6597521575395%2C%2038.268246535572565%5D%5D%5D%2C%20%22type%22%3A%20%22Polygon%22%7D%2C%20%22id%22%3A%20%222%22%2C%20%22properties%22%3A%20%7B%22district%22%3A%204%2C%20%22district_name%22%3A%20%22District%204%20-%20Oakland%22%2C%20%22feed_key_left%22%3A%20%22540e857d28ffdc628260ca22a21cb330%22%2C%20%22feed_key_right%22%3A%20%22540e857d28ffdc628260ca22a21cb330%22%2C%20%22gtfs_dataset_key_left%22%3A%20%22bc21582ac1ad2b7de0647dfd5b76f67c%22%2C%20%22gtfs_dataset_key_right%22%3A%20%22bc21582ac1ad2b7de0647dfd5b76f67c%22%2C%20%22index_right%22%3A%2020092%2C%20%22loop_or_inlining%22%3A%200%2C%20%22seg_idx%22%3A%2020132%2C%20%22shape_array_key_left%22%3A%20%2221aedea4c0d05c570e042903cc62c9cf%22%2C%20%22shape_array_key_right%22%3A%20%2221aedea4c0d05c570e042903cc62c9cf%22%2C%20%22stop_id%22%3A%20%2287509%22%2C%20%22stop_sequence%22%3A%20420%2C%20%22trip_id%22%3A%20%22t120-sl9-p84-r1A%22%7D%2C%20%22type%22%3A%20%22Feature%22%7D%2C%20%7B%22bbox%22%3A%20%5B-122.66310841533114%2C%2038.2674721214831%2C%20-122.65819403678371%2C%2038.27182101572987%5D%2C%20%22geometry%22%3A%20%7B%22coordinates%22%3A%20%5B%5B%5B-122.6597521575395%2C%2038.268246535572565%5D%2C%20%5B-122.65977697982494%2C%2038.26826776206832%5D%2C%20%5B-122.66299463940776%2C%2038.27128555540497%5D%2C%20%5B-122.6630102726072%2C%2038.27129968559999%5D%2C%20%5B-122.66303458078546%2C%2038.271323967074416%5D%2C%20%5B-122.66305574410364%2C%2038.27135000446342%5D%2C%20%5B-122.66307355874538%2C%2038.27137754701464%5D%2C%20%5B-122.66308785314315%2C%2038.271406329479596%5D%2C%20%5B-122.66309848963058%2C%2038.27143607466887%5D%2C%20%5B-122.66310536576839%2C%2038.27146649612095%5D%2C%20%5B-122.66310841533114%2C%2038.27149730086124%5D%2C%20%5B-122.66310760894515%2C%2038.27152819222351%5D%2C%20%5B-122.66310295437157%2C%2038.27155887270711%5D%2C%20%5B-122.6630944964319%2C%2038.27158904684166%5D%2C%20%5B-122.66308231657628%2C%2038.271618424032994%5D%2C%20%5B-122.66306653209963%2C%2038.27164672136156%5D%2C%20%5B-122.66304729501181%2C%2038.2716736663072%5D%2C%20%5B-122.66302479057399%2C%2038.27169899937382%5D%2C%20%5B-122.66299923551456%2C%2038.27172247658831%5D%2C%20%5B-122.66297087594201%2C%2038.27174387185038%5D%2C%20%5B-122.66293998497468%2C%2038.27176297911008%5D%2C%20%5B-122.66290686011062%2C%2038.27177961435225%5D%2C%20%5B-122.66287182036238%2C%2038.271793617368616%5D%2C%20%5B-122.66283520318471%2C%2038.27180485330099%5D%2C%20%5B-122.66279736122455%2C%2038.27181321393996%5D%2C%20%5B-122.66275865892477%2C%2038.27181861876694%5D%2C%20%5B-122.6627194690141%2C%2038.27182101572987%5D%2C%20%5B-122.66268016891759%2C%2038.271820381744355%5D%2C%20%5B-122.66264113712138%2C%2038.27181672291619%5D%2C%20%5B-122.66260274952766%2C%2038.271810074482254%5D%2C%20%5B-122.66256537583428%2C%2038.27180050047147%5D%2C%20%5B-122.66252937597422%2C%2038.27178809308783%5D%2C%20%5B-122.66249509664898%2C%2038.271772971822635%5D%2C%20%5B-122.66246286798975%2C%2038.271755282303616%5D%2C%20%5B-122.66243300037777%2C%2038.2717351948922%5D%2C%20%5B-122.66240578145523%2C%2038.271712903043074%5D%2C%20%5B-122.66238775360218%2C%2038.271696608299884%5D%2C%20%5B-122.66238301480722%2C%2038.2716922454258%5D%2C%20%5B-122.65917481078284%2C%2038.268683297634155%5D%2C%20%5B-122.65831240567827%2C%2038.26801043033498%5D%2C%20%5B-122.65828590064555%2C%2038.26798761412736%5D%2C%20%5B-122.65826236824276%2C%2038.2679628655926%5D%2C%20%5B-122.65824203509841%2C%2038.26793642307435%5D%2C%20%5B-122.6582250970296%2C%2038.26790854123022%5D%2C%20%5B-122.65821171715618%2C%2038.26787948857911%5D%2C%20%5B-122.65820202433%2C%2038.26784954491506%5D%2C%20%5B-122.65819611189401%2C%2038.26781899861288%5D%2C%20%5B-122.65819403678371%2C%2038.26778814385077%5D%2C%20%5B-122.65819581897878%2C%2038.26775727777713%5D%2C%20%5B-122.65820144131094%2C%2038.267726697648925%5D%2C%20%5B-122.65821084962946%2C%2038.26769669796897%5D%2C%20%5B-122.6582239533229%2C%2038.267667567649674%5D%2C%20%5B-122.6582406261918%2C%2038.26763958723086%5D%2C%20%5B-122.65826070766423%2C%2038.26761302617766%5D%2C%20%5B-122.65828400434239%2C%2038.267588140285966%5D%2C%20%5B-122.65831029186509%2C%2038.267565169218685%5D%2C%20%5B-122.65833931706864%2C%2038.26754433419786%5D%2C%20%5B-122.65837080042488%2C%2038.267525835874245%5D%2C%20%5B-122.6584044387332%2C%2038.26750985239498%5D%2C%20%5B-122.65843990804056%2C%2038.26749653768808%5D%2C%20%5B-122.65847686676113%2C%2038.267486019979906%5D%2C%20%5B-122.65851495896592%2C%2038.26747840056058%5D%2C%20%5B-122.65855381781033%2C%2038.26747375280837%5D%2C%20%5B-122.65859306906705%2C%2038.2674721214831%5D%2C%20%5B-122.65863233472973%2C%2038.267473522295084%5D%2C%20%5B-122.65867123665336%2C%2038.26747794175393%5D%2C%20%5B-122.6587094001957%2C%2038.26748533729841%5D%2C%20%5B-122.65874645782523%2C%2038.267495637706226%5D%2C%20%5B-122.65878205266041%2C%2038.26750874378%5D%2C%20%5B-122.65881584190662%2C%2038.267524529302555%5D%2C%20%5B-122.65884750015721%2C%2038.26754284225236%5D%2C%20%5B-122.65887672252731%2C%2038.267563506267514%5D%2C%20%5B-122.6597521575395%2C%2038.268246535572565%5D%5D%5D%2C%20%22type%22%3A%20%22Polygon%22%7D%2C%20%22id%22%3A%20%223%22%2C%20%22properties%22%3A%20%7B%22district%22%3A%204%2C%20%22district_name%22%3A%20%22District%204%20-%20Oakland%22%2C%20%22feed_key_left%22%3A%20%22540e857d28ffdc628260ca22a21cb330%22%2C%20%22feed_key_right%22%3A%20%22540e857d28ffdc628260ca22a21cb330%22%2C%20%22gtfs_dataset_key_left%22%3A%20%22bc21582ac1ad2b7de0647dfd5b76f67c%22%2C%20%22gtfs_dataset_key_right%22%3A%20%22bc21582ac1ad2b7de0647dfd5b76f67c%22%2C%20%22index_right%22%3A%2020092%2C%20%22loop_or_inlining%22%3A%200%2C%20%22seg_idx%22%3A%2020132%2C%20%22shape_array_key_left%22%3A%20%2221aedea4c0d05c570e042903cc62c9cf%22%2C%20%22shape_array_key_right%22%3A%20%2221aedea4c0d05c570e042903cc62c9cf%22%2C%20%22stop_id%22%3A%20%2287509%22%2C%20%22stop_sequence%22%3A%20420%2C%20%22trip_id%22%3A%20%22t120-sl9-p84-r1A%22%7D%2C%20%22type%22%3A%20%22Feature%22%7D%2C%20%7B%22bbox%22%3A%20%5B-122.66310841533114%2C%2038.2674721214831%2C%20-122.65819403678371%2C%2038.27182101572987%5D%2C%20%22geometry%22%3A%20%7B%22coordinates%22%3A%20%5B%5B%5B-122.6597521575395%2C%2038.268246535572565%5D%2C%20%5B-122.65977697982494%2C%2038.26826776206832%5D%2C%20%5B-122.66299463940776%2C%2038.27128555540497%5D%2C%20%5B-122.6630102726072%2C%2038.27129968559999%5D%2C%20%5B-122.66303458078546%2C%2038.271323967074416%5D%2C%20%5B-122.66305574410364%2C%2038.27135000446342%5D%2C%20%5B-122.66307355874538%2C%2038.27137754701464%5D%2C%20%5B-122.66308785314315%2C%2038.271406329479596%5D%2C%20%5B-122.66309848963058%2C%2038.27143607466887%5D%2C%20%5B-122.66310536576839%2C%2038.27146649612095%5D%2C%20%5B-122.66310841533114%2C%2038.27149730086124%5D%2C%20%5B-122.66310760894515%2C%2038.27152819222351%5D%2C%20%5B-122.66310295437157%2C%2038.27155887270711%5D%2C%20%5B-122.6630944964319%2C%2038.27158904684166%5D%2C%20%5B-122.66308231657628%2C%2038.271618424032994%5D%2C%20%5B-122.66306653209963%2C%2038.27164672136156%5D%2C%20%5B-122.66304729501181%2C%2038.2716736663072%5D%2C%20%5B-122.66302479057399%2C%2038.27169899937382%5D%2C%20%5B-122.66299923551456%2C%2038.27172247658831%5D%2C%20%5B-122.66297087594201%2C%2038.27174387185038%5D%2C%20%5B-122.66293998497468%2C%2038.27176297911008%5D%2C%20%5B-122.66290686011062%2C%2038.27177961435225%5D%2C%20%5B-122.66287182036238%2C%2038.271793617368616%5D%2C%20%5B-122.66283520318471%2C%2038.27180485330099%5D%2C%20%5B-122.66279736122455%2C%2038.27181321393996%5D%2C%20%5B-122.66275865892477%2C%2038.27181861876694%5D%2C%20%5B-122.6627194690141%2C%2038.27182101572987%5D%2C%20%5B-122.66268016891759%2C%2038.271820381744355%5D%2C%20%5B-122.66264113712138%2C%2038.27181672291619%5D%2C%20%5B-122.66260274952766%2C%2038.271810074482254%5D%2C%20%5B-122.66256537583428%2C%2038.27180050047147%5D%2C%20%5B-122.66252937597422%2C%2038.27178809308783%5D%2C%20%5B-122.66249509664898%2C%2038.271772971822635%5D%2C%20%5B-122.66246286798975%2C%2038.271755282303616%5D%2C%20%5B-122.66243300037777%2C%2038.2717351948922%5D%2C%20%5B-122.66240578145523%2C%2038.271712903043074%5D%2C%20%5B-122.66238775360218%2C%2038.271696608299884%5D%2C%20%5B-122.66238301480722%2C%2038.2716922454258%5D%2C%20%5B-122.65917481078284%2C%2038.268683297634155%5D%2C%20%5B-122.65831240567827%2C%2038.26801043033498%5D%2C%20%5B-122.65828590064555%2C%2038.26798761412736%5D%2C%20%5B-122.65826236824276%2C%2038.2679628655926%5D%2C%20%5B-122.65824203509841%2C%2038.26793642307435%5D%2C%20%5B-122.6582250970296%2C%2038.26790854123022%5D%2C%20%5B-122.65821171715618%2C%2038.26787948857911%5D%2C%20%5B-122.65820202433%2C%2038.26784954491506%5D%2C%20%5B-122.65819611189401%2C%2038.26781899861288%5D%2C%20%5B-122.65819403678371%2C%2038.26778814385077%5D%2C%20%5B-122.65819581897878%2C%2038.26775727777713%5D%2C%20%5B-122.65820144131094%2C%2038.267726697648925%5D%2C%20%5B-122.65821084962946%2C%2038.26769669796897%5D%2C%20%5B-122.6582239533229%2C%2038.267667567649674%5D%2C%20%5B-122.6582406261918%2C%2038.26763958723086%5D%2C%20%5B-122.65826070766423%2C%2038.26761302617766%5D%2C%20%5B-122.65828400434239%2C%2038.267588140285966%5D%2C%20%5B-122.65831029186509%2C%2038.267565169218685%5D%2C%20%5B-122.65833931706864%2C%2038.26754433419786%5D%2C%20%5B-122.65837080042488%2C%2038.267525835874245%5D%2C%20%5B-122.6584044387332%2C%2038.26750985239498%5D%2C%20%5B-122.65843990804056%2C%2038.26749653768808%5D%2C%20%5B-122.65847686676113%2C%2038.267486019979906%5D%2C%20%5B-122.65851495896592%2C%2038.26747840056058%5D%2C%20%5B-122.65855381781033%2C%2038.26747375280837%5D%2C%20%5B-122.65859306906705%2C%2038.2674721214831%5D%2C%20%5B-122.65863233472973%2C%2038.267473522295084%5D%2C%20%5B-122.65867123665336%2C%2038.26747794175393%5D%2C%20%5B-122.6587094001957%2C%2038.26748533729841%5D%2C%20%5B-122.65874645782523%2C%2038.267495637706226%5D%2C%20%5B-122.65878205266041%2C%2038.26750874378%5D%2C%20%5B-122.65881584190662%2C%2038.267524529302555%5D%2C%20%5B-122.65884750015721%2C%2038.26754284225236%5D%2C%20%5B-122.65887672252731%2C%2038.267563506267514%5D%2C%20%5B-122.6597521575395%2C%2038.268246535572565%5D%5D%5D%2C%20%22type%22%3A%20%22Polygon%22%7D%2C%20%22id%22%3A%20%224%22%2C%20%22properties%22%3A%20%7B%22district%22%3A%204%2C%20%22district_name%22%3A%20%22District%204%20-%20Oakland%22%2C%20%22feed_key_left%22%3A%20%22540e857d28ffdc628260ca22a21cb330%22%2C%20%22feed_key_right%22%3A%20%22540e857d28ffdc628260ca22a21cb330%22%2C%20%22gtfs_dataset_key_left%22%3A%20%22bc21582ac1ad2b7de0647dfd5b76f67c%22%2C%20%22gtfs_dataset_key_right%22%3A%20%22bc21582ac1ad2b7de0647dfd5b76f67c%22%2C%20%22index_right%22%3A%2020092%2C%20%22loop_or_inlining%22%3A%200%2C%20%22seg_idx%22%3A%2020132%2C%20%22shape_array_key_left%22%3A%20%2221aedea4c0d05c570e042903cc62c9cf%22%2C%20%22shape_array_key_right%22%3A%20%2221aedea4c0d05c570e042903cc62c9cf%22%2C%20%22stop_id%22%3A%20%2287509%22%2C%20%22stop_sequence%22%3A%20420%2C%20%22trip_id%22%3A%20%22t120-sl9-p84-r1A%22%7D%2C%20%22type%22%3A%20%22Feature%22%7D%2C%20%7B%22bbox%22%3A%20%5B-122.66310841533114%2C%2038.2674721214831%2C%20-122.65819403678371%2C%2038.27182101572987%5D%2C%20%22geometry%22%3A%20%7B%22coordinates%22%3A%20%5B%5B%5B-122.6597521575395%2C%2038.268246535572565%5D%2C%20%5B-122.65977697982494%2C%2038.26826776206832%5D%2C%20%5B-122.66299463940776%2C%2038.27128555540497%5D%2C%20%5B-122.6630102726072%2C%2038.27129968559999%5D%2C%20%5B-122.66303458078546%2C%2038.271323967074416%5D%2C%20%5B-122.66305574410364%2C%2038.27135000446342%5D%2C%20%5B-122.66307355874538%2C%2038.27137754701464%5D%2C%20%5B-122.66308785314315%2C%2038.271406329479596%5D%2C%20%5B-122.66309848963058%2C%2038.27143607466887%5D%2C%20%5B-122.66310536576839%2C%2038.27146649612095%5D%2C%20%5B-122.66310841533114%2C%2038.27149730086124%5D%2C%20%5B-122.66310760894515%2C%2038.27152819222351%5D%2C%20%5B-122.66310295437157%2C%2038.27155887270711%5D%2C%20%5B-122.6630944964319%2C%2038.27158904684166%5D%2C%20%5B-122.66308231657628%2C%2038.271618424032994%5D%2C%20%5B-122.66306653209963%2C%2038.27164672136156%5D%2C%20%5B-122.66304729501181%2C%2038.2716736663072%5D%2C%20%5B-122.66302479057399%2C%2038.27169899937382%5D%2C%20%5B-122.66299923551456%2C%2038.27172247658831%5D%2C%20%5B-122.66297087594201%2C%2038.27174387185038%5D%2C%20%5B-122.66293998497468%2C%2038.27176297911008%5D%2C%20%5B-122.66290686011062%2C%2038.27177961435225%5D%2C%20%5B-122.66287182036238%2C%2038.271793617368616%5D%2C%20%5B-122.66283520318471%2C%2038.27180485330099%5D%2C%20%5B-122.66279736122455%2C%2038.27181321393996%5D%2C%20%5B-122.66275865892477%2C%2038.27181861876694%5D%2C%20%5B-122.6627194690141%2C%2038.27182101572987%5D%2C%20%5B-122.66268016891759%2C%2038.271820381744355%5D%2C%20%5B-122.66264113712138%2C%2038.27181672291619%5D%2C%20%5B-122.66260274952766%2C%2038.271810074482254%5D%2C%20%5B-122.66256537583428%2C%2038.27180050047147%5D%2C%20%5B-122.66252937597422%2C%2038.27178809308783%5D%2C%20%5B-122.66249509664898%2C%2038.271772971822635%5D%2C%20%5B-122.66246286798975%2C%2038.271755282303616%5D%2C%20%5B-122.66243300037777%2C%2038.2717351948922%5D%2C%20%5B-122.66240578145523%2C%2038.271712903043074%5D%2C%20%5B-122.66238775360218%2C%2038.271696608299884%5D%2C%20%5B-122.66238301480722%2C%2038.2716922454258%5D%2C%20%5B-122.65917481078284%2C%2038.268683297634155%5D%2C%20%5B-122.65831240567827%2C%2038.26801043033498%5D%2C%20%5B-122.65828590064555%2C%2038.26798761412736%5D%2C%20%5B-122.65826236824276%2C%2038.2679628655926%5D%2C%20%5B-122.65824203509841%2C%2038.26793642307435%5D%2C%20%5B-122.6582250970296%2C%2038.26790854123022%5D%2C%20%5B-122.65821171715618%2C%2038.26787948857911%5D%2C%20%5B-122.65820202433%2C%2038.26784954491506%5D%2C%20%5B-122.65819611189401%2C%2038.26781899861288%5D%2C%20%5B-122.65819403678371%2C%2038.26778814385077%5D%2C%20%5B-122.65819581897878%2C%2038.26775727777713%5D%2C%20%5B-122.65820144131094%2C%2038.267726697648925%5D%2C%20%5B-122.65821084962946%2C%2038.26769669796897%5D%2C%20%5B-122.6582239533229%2C%2038.267667567649674%5D%2C%20%5B-122.6582406261918%2C%2038.26763958723086%5D%2C%20%5B-122.65826070766423%2C%2038.26761302617766%5D%2C%20%5B-122.65828400434239%2C%2038.267588140285966%5D%2C%20%5B-122.65831029186509%2C%2038.267565169218685%5D%2C%20%5B-122.65833931706864%2C%2038.26754433419786%5D%2C%20%5B-122.65837080042488%2C%2038.267525835874245%5D%2C%20%5B-122.6584044387332%2C%2038.26750985239498%5D%2C%20%5B-122.65843990804056%2C%2038.26749653768808%5D%2C%20%5B-122.65847686676113%2C%2038.267486019979906%5D%2C%20%5B-122.65851495896592%2C%2038.26747840056058%5D%2C%20%5B-122.65855381781033%2C%2038.26747375280837%5D%2C%20%5B-122.65859306906705%2C%2038.2674721214831%5D%2C%20%5B-122.65863233472973%2C%2038.267473522295084%5D%2C%20%5B-122.65867123665336%2C%2038.26747794175393%5D%2C%20%5B-122.6587094001957%2C%2038.26748533729841%5D%2C%20%5B-122.65874645782523%2C%2038.267495637706226%5D%2C%20%5B-122.65878205266041%2C%2038.26750874378%5D%2C%20%5B-122.65881584190662%2C%2038.267524529302555%5D%2C%20%5B-122.65884750015721%2C%2038.26754284225236%5D%2C%20%5B-122.65887672252731%2C%2038.267563506267514%5D%2C%20%5B-122.6597521575395%2C%2038.268246535572565%5D%5D%5D%2C%20%22type%22%3A%20%22Polygon%22%7D%2C%20%22id%22%3A%20%225%22%2C%20%22properties%22%3A%20%7B%22district%22%3A%204%2C%20%22district_name%22%3A%20%22District%204%20-%20Oakland%22%2C%20%22feed_key_left%22%3A%20%22540e857d28ffdc628260ca22a21cb330%22%2C%20%22feed_key_right%22%3A%20%22540e857d28ffdc628260ca22a21cb330%22%2C%20%22gtfs_dataset_key_left%22%3A%20%22bc21582ac1ad2b7de0647dfd5b76f67c%22%2C%20%22gtfs_dataset_key_right%22%3A%20%22bc21582ac1ad2b7de0647dfd5b76f67c%22%2C%20%22index_right%22%3A%2020092%2C%20%22loop_or_inlining%22%3A%200%2C%20%22seg_idx%22%3A%2020132%2C%20%22shape_array_key_left%22%3A%20%2221aedea4c0d05c570e042903cc62c9cf%22%2C%20%22shape_array_key_right%22%3A%20%2221aedea4c0d05c570e042903cc62c9cf%22%2C%20%22stop_id%22%3A%20%2287509%22%2C%20%22stop_sequence%22%3A%20420%2C%20%22trip_id%22%3A%20%22t120-sl9-p84-r1A%22%7D%2C%20%22type%22%3A%20%22Feature%22%7D%2C%20%7B%22bbox%22%3A%20%5B-122.64832475376075%2C%2038.25928988063394%2C%20-122.64386777494704%2C%2038.26198806471433%5D%2C%20%22geometry%22%3A%20%7B%22coordinates%22%3A%20%5B%5B%5B-122.64813116062317%2C%2038.261402875256515%5D%2C%20%5B-122.64815262426869%2C%2038.261414582732385%5D%2C%20%5B-122.64818377745046%2C%2038.26143342068374%5D%2C%20%5B-122.64821243191196%2C%2038.26145456845235%5D%2C%20%5B-122.64823831169528%2C%2038.26147782237551%5D%2C%20%5B-122.64826116756342%2C%2038.26150295850711%5D%2C%20%5B-122.64828077940027%2C%2038.26152973477429%5D%2C%20%5B-122.64829695833075%2C%2038.26155789330849%5D%2C%20%5B-122.64830954853974%2C%2038.261587162929196%5D%2C%20%5B-122.64831842877284%2C%2038.26161726175506%5D%2C%20%5B-122.64832351350431%2C%2038.261647899918685%5D%2C%20%5B-122.64832475376075%2C%2038.26167878235835%5D%2C%20%5B-122.64832213759304%2C%2038.2617096116595%5D%2C%20%5B-122.6483156901916%2C%2038.2617400909187%5D%2C%20%5B-122.6483054736439%2C%2038.2617699266035%5D%2C%20%5B-122.64829158633674%2C%2038.261798831378954%5D%2C%20%5B-122.6482741620089%2C%2038.261826526875%5D%2C%20%5B-122.6482533684633%2C%2038.26185274636746%5D%2C%20%5B-122.64822940595104%2C%2038.26187723734653%5D%2C%20%5B-122.64820250524299%2C%2038.26189976394888%5D%2C%20%5B-122.64817292540735%2C%2038.26192010922904%5D%2C%20%5B-122.64814095131477%2C%2038.2619380772491%5D%2C%20%5B-122.64810689089478%2C%2038.261953494965326%5D%2C%20%5B-122.64807107217023%2C%2038.26196621389504%5D%2C%20%5B-122.64803384009817%2C%2038.26197611154665%5D%2C%20%5B-122.64799555324763%2C%2038.26198309259917%5D%2C%20%5B-122.64795658034619%2C%2038.261987089820344%5D%2C%20%5B-122.64791729672876%2C%2038.26198806471433%5D%2C%20%5B-122.64787808072289%2C%2038.26198600789226%5D%2C%20%5B-122.64783931000488%2C%2038.261980939162704%5D%2C%20%5B-122.64780135796241%2C%2038.26197290734086%5D%2C%20%5B-122.64776459009856%2C%2038.26196198977854%5D%2C%20%5B-122.64772936051153%2C%2038.26194829161911%5D%2C%20%5B-122.6476960084844%2C%2038.261931944784834%5D%2C%20%5B-122.64767169127171%2C%2038.261918680767735%5D%2C%20%5B-122.64766601905728%2C%2038.261915529179674%5D%2C%20%5B-122.64403403088728%2C%2038.25986005987775%5D%2C%20%5B-122.64400329967843%2C%2038.25984079897231%5D%2C%20%5B-122.64397511787425%2C%2038.25981926273834%5D%2C%20%5B-122.64394975688104%2C%2038.25979565858342%5D%2C%20%5B-122.64392746093826%2C%2038.259770213830265%5D%2C%20%5B-122.64390844476628%2C%2038.259743173527575%5D%2C%20%5B-122.64389289149874%2C%2038.259714798089945%5D%2C%20%5B-122.64388095091881%2C%2038.25968536078955%5D%2C%20%5B-122.64387273801687%2C%2038.25965514512493%5D%2C%20%5B-122.64386833188335%2C%2038.259624442090136%5D%2C%20%5B-122.64386777494704%2C%2038.25959354737269%5D%2C%20%5B-122.6438710725668%2C%2038.25956275850555%5D%2C%20%5B-122.64387819298%2C%2038.25953237200211%5D%2C%20%5B-122.64388906760874%2C%2038.25950268050028%5D%2C%20%5B-122.6439035917203%2C%2038.25947396994445%5D%2C%20%5B-122.64392162543616%2C%2038.25944651683176%5D%2C%20%5B-122.64394299507894%2C%2038.25942058554897%5D%2C%20%5B-122.6439674948454%2C%2038.25939642582692%5D%2C%20%5B-122.64399488878831%2C%2038.259374270335066%5D%2C%20%5B-122.64402491308887%2C%2038.25935433244102%5D%2C%20%5B-122.64405727859747%2C%2038.25933680415569%5D%2C%20%5B-122.6440916736183%2C%2038.259321854284316%5D%2C%20%5B-122.64412776691098%2C%2038.25930962680072%5D%2C%20%5B-122.64416521088071%2C%2038.259300239460856%5D%2C%20%5B-122.64420364492545%2C%2038.25929378266892%5D%2C%20%5B-122.64424269890874%2C%2038.25929031860641%5D%2C%20%5B-122.64428199672396%2C%2038.25928988063394%5D%2C%20%5B-122.6443211599165%2C%2038.259292472969186%5D%2C%20%5B-122.64435981132806%2C%2038.259298070646885%5D%2C%20%5B-122.64439757872896%2C%2038.25930661975911%5D%2C%20%5B-122.64443409840244%2C%2038.25931803797419%5D%2C%20%5B-122.64446901864764%2C%2038.25933221532975%5D%2C%20%5B-122.6445020031662%2C%2038.259349015291676%5D%2C%20%5B-122.64813116062317%2C%2038.261402875256515%5D%5D%5D%2C%20%22type%22%3A%20%22Polygon%22%7D%2C%20%22id%22%3A%20%226%22%2C%20%22properties%22%3A%20%7B%22district%22%3A%204%2C%20%22district_name%22%3A%20%22District%204%20-%20Oakland%22%2C%20%22feed_key_left%22%3A%20%22540e857d28ffdc628260ca22a21cb330%22%2C%20%22feed_key_right%22%3A%20%22540e857d28ffdc628260ca22a21cb330%22%2C%20%22gtfs_dataset_key_left%22%3A%20%22bc21582ac1ad2b7de0647dfd5b76f67c%22%2C%20%22gtfs_dataset_key_right%22%3A%20%22bc21582ac1ad2b7de0647dfd5b76f67c%22%2C%20%22index_right%22%3A%2020088%2C%20%22loop_or_inlining%22%3A%200%2C%20%22seg_idx%22%3A%2020128%2C%20%22shape_array_key_left%22%3A%20%2221aedea4c0d05c570e042903cc62c9cf%22%2C%20%22shape_array_key_right%22%3A%20%2221aedea4c0d05c570e042903cc62c9cf%22%2C%20%22stop_id%22%3A%20%2287505%22%2C%20%22stop_sequence%22%3A%20240%2C%20%22trip_id%22%3A%20%22t120-sl9-p84-r1A%22%7D%2C%20%22type%22%3A%20%22Feature%22%7D%2C%20%7B%22bbox%22%3A%20%5B-122.64832475376075%2C%2038.25928988063394%2C%20-122.64386777494704%2C%2038.26198806471433%5D%2C%20%22geometry%22%3A%20%7B%22coordinates%22%3A%20%5B%5B%5B-122.64813116062317%2C%2038.261402875256515%5D%2C%20%5B-122.64815262426869%2C%2038.261414582732385%5D%2C%20%5B-122.64818377745046%2C%2038.26143342068374%5D%2C%20%5B-122.64821243191196%2C%2038.26145456845235%5D%2C%20%5B-122.64823831169528%2C%2038.26147782237551%5D%2C%20%5B-122.64826116756342%2C%2038.26150295850711%5D%2C%20%5B-122.64828077940027%2C%2038.26152973477429%5D%2C%20%5B-122.64829695833075%2C%2038.26155789330849%5D%2C%20%5B-122.64830954853974%2C%2038.261587162929196%5D%2C%20%5B-122.64831842877284%2C%2038.26161726175506%5D%2C%20%5B-122.64832351350431%2C%2038.261647899918685%5D%2C%20%5B-122.64832475376075%2C%2038.26167878235835%5D%2C%20%5B-122.64832213759304%2C%2038.2617096116595%5D%2C%20%5B-122.6483156901916%2C%2038.2617400909187%5D%2C%20%5B-122.6483054736439%2C%2038.2617699266035%5D%2C%20%5B-122.64829158633674%2C%2038.261798831378954%5D%2C%20%5B-122.6482741620089%2C%2038.261826526875%5D%2C%20%5B-122.6482533684633%2C%2038.26185274636746%5D%2C%20%5B-122.64822940595104%2C%2038.26187723734653%5D%2C%20%5B-122.64820250524299%2C%2038.26189976394888%5D%2C%20%5B-122.64817292540735%2C%2038.26192010922904%5D%2C%20%5B-122.64814095131477%2C%2038.2619380772491%5D%2C%20%5B-122.64810689089478%2C%2038.261953494965326%5D%2C%20%5B-122.64807107217023%2C%2038.26196621389504%5D%2C%20%5B-122.64803384009817%2C%2038.26197611154665%5D%2C%20%5B-122.64799555324763%2C%2038.26198309259917%5D%2C%20%5B-122.64795658034619%2C%2038.261987089820344%5D%2C%20%5B-122.64791729672876%2C%2038.26198806471433%5D%2C%20%5B-122.64787808072289%2C%2038.26198600789226%5D%2C%20%5B-122.64783931000488%2C%2038.261980939162704%5D%2C%20%5B-122.64780135796241%2C%2038.26197290734086%5D%2C%20%5B-122.64776459009856%2C%2038.26196198977854%5D%2C%20%5B-122.64772936051153%2C%2038.26194829161911%5D%2C%20%5B-122.6476960084844%2C%2038.261931944784834%5D%2C%20%5B-122.64767169127171%2C%2038.261918680767735%5D%2C%20%5B-122.64766601905728%2C%2038.261915529179674%5D%2C%20%5B-122.64403403088728%2C%2038.25986005987775%5D%2C%20%5B-122.64400329967843%2C%2038.25984079897231%5D%2C%20%5B-122.64397511787425%2C%2038.25981926273834%5D%2C%20%5B-122.64394975688104%2C%2038.25979565858342%5D%2C%20%5B-122.64392746093826%2C%2038.259770213830265%5D%2C%20%5B-122.64390844476628%2C%2038.259743173527575%5D%2C%20%5B-122.64389289149874%2C%2038.259714798089945%5D%2C%20%5B-122.64388095091881%2C%2038.25968536078955%5D%2C%20%5B-122.64387273801687%2C%2038.25965514512493%5D%2C%20%5B-122.64386833188335%2C%2038.259624442090136%5D%2C%20%5B-122.64386777494704%2C%2038.25959354737269%5D%2C%20%5B-122.6438710725668%2C%2038.25956275850555%5D%2C%20%5B-122.64387819298%2C%2038.25953237200211%5D%2C%20%5B-122.64388906760874%2C%2038.25950268050028%5D%2C%20%5B-122.6439035917203%2C%2038.25947396994445%5D%2C%20%5B-122.64392162543616%2C%2038.25944651683176%5D%2C%20%5B-122.64394299507894%2C%2038.25942058554897%5D%2C%20%5B-122.6439674948454%2C%2038.25939642582692%5D%2C%20%5B-122.64399488878831%2C%2038.259374270335066%5D%2C%20%5B-122.64402491308887%2C%2038.25935433244102%5D%2C%20%5B-122.64405727859747%2C%2038.25933680415569%5D%2C%20%5B-122.6440916736183%2C%2038.259321854284316%5D%2C%20%5B-122.64412776691098%2C%2038.25930962680072%5D%2C%20%5B-122.64416521088071%2C%2038.259300239460856%5D%2C%20%5B-122.64420364492545%2C%2038.25929378266892%5D%2C%20%5B-122.64424269890874%2C%2038.25929031860641%5D%2C%20%5B-122.64428199672396%2C%2038.25928988063394%5D%2C%20%5B-122.6443211599165%2C%2038.259292472969186%5D%2C%20%5B-122.64435981132806%2C%2038.259298070646885%5D%2C%20%5B-122.64439757872896%2C%2038.25930661975911%5D%2C%20%5B-122.64443409840244%2C%2038.25931803797419%5D%2C%20%5B-122.64446901864764%2C%2038.25933221532975%5D%2C%20%5B-122.6445020031662%2C%2038.259349015291676%5D%2C%20%5B-122.64813116062317%2C%2038.261402875256515%5D%5D%5D%2C%20%22type%22%3A%20%22Polygon%22%7D%2C%20%22id%22%3A%20%227%22%2C%20%22properties%22%3A%20%7B%22district%22%3A%204%2C%20%22district_name%22%3A%20%22District%204%20-%20Oakland%22%2C%20%22feed_key_left%22%3A%20%22540e857d28ffdc628260ca22a21cb330%22%2C%20%22feed_key_right%22%3A%20%22540e857d28ffdc628260ca22a21cb330%22%2C%20%22gtfs_dataset_key_left%22%3A%20%22bc21582ac1ad2b7de0647dfd5b76f67c%22%2C%20%22gtfs_dataset_key_right%22%3A%20%22bc21582ac1ad2b7de0647dfd5b76f67c%22%2C%20%22index_right%22%3A%2020088%2C%20%22loop_or_inlining%22%3A%200%2C%20%22seg_idx%22%3A%2020128%2C%20%22shape_array_key_left%22%3A%20%2221aedea4c0d05c570e042903cc62c9cf%22%2C%20%22shape_array_key_right%22%3A%20%2221aedea4c0d05c570e042903cc62c9cf%22%2C%20%22stop_id%22%3A%20%2287505%22%2C%20%22stop_sequence%22%3A%20240%2C%20%22trip_id%22%3A%20%22t120-sl9-p84-r1A%22%7D%2C%20%22type%22%3A%20%22Feature%22%7D%2C%20%7B%22bbox%22%3A%20%5B-122.66503270252491%2C%2038.27119157367651%2C%20-122.66230764031053%2C%2038.2733016385794%5D%2C%20%22geometry%22%3A%20%7B%22coordinates%22%3A%20%5B%5B%5B-122.66400736898471%2C%2038.272200904102036%5D%2C%20%5B-122.66486051800402%2C%2038.27272812974614%5D%2C%20%5B-122.66486558299647%2C%2038.272730981022356%5D%2C%20%5B-122.66489637972258%2C%2038.272750182452256%5D%2C%20%5B-122.66492463376593%2C%2038.272771664125365%5D%2C%20%5B-122.66495007302481%2C%2038.272795219163235%5D%2C%20%5B-122.66497245250446%2C%2038.27282062071988%5D%2C%20%5B-122.66499155667658%2C%2038.27284762416625%5D%2C%20%5B-122.66500720155501%2C%2038.27287596944588%5D%2C%20%5B-122.6650192364678%2C%2038.27290538357977%5D%2C%20%5B-122.66502754550827%2C%2038.272935583294725%5D%2C%20%5B-122.66503204865143%2C%2038.272966277751756%5D%2C%20%5B-122.66503270252491%2C%2038.272997171346965%5D%2C%20%5B-122.66502950082679%2C%2038.27302796655812%5D%2C%20%5B-122.66502247438646%2C%2038.273058366810346%5D%2C%20%5B-122.66501169086793%2C%2038.27308807933175%5D%2C%20%5B-122.66499725411828%2C%2038.27311681797363%5D%2C%20%5B-122.6649793031678%2C%2038.273144305965815%5D%2C%20%5B-122.66495801089123%2C%2038.273170278582406%5D%2C%20%5B-122.66493358234281%2C%2038.27319448569114%5D%2C%20%5B-122.66490625278178%2C%2038.27321669416248%5D%2C%20%5B-122.66487628540654%2C%2038.27323669011485%5D%2C%20%5B-122.66484396882008%2C%2038.27325428097434%5D%2C%20%5B-122.66480961425049%2C%2038.27326929732972%5D%2C%20%5B-122.66477355255358%2C%2038.27328159456358%5D%2C%20%5B-122.66473613102646%2C%2038.27329105424551%5D%2C%20%5B-122.66469771006278%2C%2038.273297585272445%5D%2C%20%5B-122.66465865968175%2C%2038.2733011247462%5D%2C%20%5B-122.66461935596458%2C%2038.2733016385794%5D%2C%20%5B-122.66458017743227%2C%2038.27329912182341%5D%2C%20%5B-122.66454150140027%2C%2038.27329359871627%5D%2C%20%5B-122.66450370034434%2C%2038.27328512244921%5D%2C%20%5B-122.66446713831343%2C%2038.273273774654264%5D%2C%20%5B-122.6644321674233%2C%2038.27325966461829%5D%2C%20%5B-122.66439912446558%2C%2038.27324292823016%5D%2C%20%5B-122.66438676991277%2C%2038.27323597335837%5D%2C%20%5B-122.6643724317339%2C%2038.27322751393277%5D%2C%20%5B-122.66348243060504%2C%2038.272677512089146%5D%2C%20%5B-122.66345386321531%2C%2038.27265807612275%5D%2C%20%5B-122.66342775267307%2C%2038.272636610929936%5D%2C%20%5B-122.66240578145523%2C%2038.271712903043074%5D%2C%20%5B-122.66238147335498%2C%2038.271688621440795%5D%2C%20%5B-122.66236031017624%2C%2038.271662583932354%5D%2C%20%5B-122.66234249572996%2C%2038.27163504127488%5D%2C%20%5B-122.66232820157617%2C%2038.27160625872072%5D%2C%20%5B-122.66231756537192%2C%2038.271576513462854%5D%2C%20%5B-122.66231068954555%2C%2038.271546091965526%5D%2C%20%5B-122.66230764031053%2C%2038.27151528720492%5D%2C%20%5B-122.662308447028%2C%2038.27148439584797%5D%2C%20%5B-122.66231310192401%2C%2038.27145371539536%5D%2C%20%5B-122.66232156016473%2C%2038.27142354131611%5D%2C%20%5B-122.66233374028837%2C%2038.271394164202334%5D%2C%20%5B-122.66234952498976%2C%2038.27136586697051%5D%2C%20%5B-122.66236876225044%2C%2038.27133892213717%5D%2C%20%5B-122.66239126680253%2C%2038.27131358919407%5D%2C%20%5B-122.66241682191325%2C%2038.27129011210956%5D%2C%20%5B-122.66244518147222%2C%2038.27126871697899%5D%2C%20%5B-122.66247607236151%2C%2038.27124960984716%5D%2C%20%5B-122.66250919708615%2C%2038.27123297472441%5D%2C%20%5B-122.66254423663892%2C%2038.27121897181436%5D%2C%20%5B-122.66258085357259%2C%2038.2712077359711%5D%2C%20%5B-122.66261869524958%2C%2038.27119937540072%5D%2C%20%5B-122.66265739723795%2C%2038.27119397061903%5D%2C%20%5B-122.66269658682084%2C%2038.27119157367651%5D%2C%20%5B-122.6627358865859%2C%2038.27119220765659%5D%2C%20%5B-122.66277491805968%2C%2038.27119586645379%5D%2C%20%5B-122.66281330535236%2C%2038.27120251483244%5D%2C%20%5B-122.66285067877772%2C%2038.27121208876572%5D%2C%20%5B-122.66288667841305%2C%2038.2712244960526%5D%2C%20%5B-122.66292095756542%2C%2038.27123961720542%5D%2C%20%5B-122.66295318611036%2C%2038.27125730660095%5D%2C%20%5B-122.66298305367104%2C%2038.27127739388234%5D%2C%20%5B-122.6630102726072%2C%2038.27129968560001%5D%2C%20%5B-122.66400736898471%2C%2038.272200904102036%5D%5D%5D%2C%20%22type%22%3A%20%22Polygon%22%7D%2C%20%22id%22%3A%20%228%22%2C%20%22properties%22%3A%20%7B%22district%22%3A%204%2C%20%22district_name%22%3A%20%22District%204%20-%20Oakland%22%2C%20%22feed_key_left%22%3A%20%22540e857d28ffdc628260ca22a21cb330%22%2C%20%22feed_key_right%22%3A%20%22540e857d28ffdc628260ca22a21cb330%22%2C%20%22gtfs_dataset_key_left%22%3A%20%22bc21582ac1ad2b7de0647dfd5b76f67c%22%2C%20%22gtfs_dataset_key_right%22%3A%20%22bc21582ac1ad2b7de0647dfd5b76f67c%22%2C%20%22index_right%22%3A%2020093%2C%20%22loop_or_inlining%22%3A%200%2C%20%22seg_idx%22%3A%2020133%2C%20%22shape_array_key_left%22%3A%20%2221aedea4c0d05c570e042903cc62c9cf%22%2C%20%22shape_array_key_right%22%3A%20%2221aedea4c0d05c570e042903cc62c9cf%22%2C%20%22stop_id%22%3A%20%2287530%22%2C%20%22stop_sequence%22%3A%20440%2C%20%22trip_id%22%3A%20%22t120-sl9-p84-r1A%22%7D%2C%20%22type%22%3A%20%22Feature%22%7D%2C%20%7B%22bbox%22%3A%20%5B-122.66503270252491%2C%2038.27119157367651%2C%20-122.66230764031053%2C%2038.2733016385794%5D%2C%20%22geometry%22%3A%20%7B%22coordinates%22%3A%20%5B%5B%5B-122.66400736898471%2C%2038.272200904102036%5D%2C%20%5B-122.66486051800402%2C%2038.27272812974614%5D%2C%20%5B-122.66486558299647%2C%2038.272730981022356%5D%2C%20%5B-122.66489637972258%2C%2038.272750182452256%5D%2C%20%5B-122.66492463376593%2C%2038.272771664125365%5D%2C%20%5B-122.66495007302481%2C%2038.272795219163235%5D%2C%20%5B-122.66497245250446%2C%2038.27282062071988%5D%2C%20%5B-122.66499155667658%2C%2038.27284762416625%5D%2C%20%5B-122.66500720155501%2C%2038.27287596944588%5D%2C%20%5B-122.6650192364678%2C%2038.27290538357977%5D%2C%20%5B-122.66502754550827%2C%2038.272935583294725%5D%2C%20%5B-122.66503204865143%2C%2038.272966277751756%5D%2C%20%5B-122.66503270252491%2C%2038.272997171346965%5D%2C%20%5B-122.66502950082679%2C%2038.27302796655812%5D%2C%20%5B-122.66502247438646%2C%2038.273058366810346%5D%2C%20%5B-122.66501169086793%2C%2038.27308807933175%5D%2C%20%5B-122.66499725411828%2C%2038.27311681797363%5D%2C%20%5B-122.6649793031678%2C%2038.273144305965815%5D%2C%20%5B-122.66495801089123%2C%2038.273170278582406%5D%2C%20%5B-122.66493358234281%2C%2038.27319448569114%5D%2C%20%5B-122.66490625278178%2C%2038.27321669416248%5D%2C%20%5B-122.66487628540654%2C%2038.27323669011485%5D%2C%20%5B-122.66484396882008%2C%2038.27325428097434%5D%2C%20%5B-122.66480961425049%2C%2038.27326929732972%5D%2C%20%5B-122.66477355255358%2C%2038.27328159456358%5D%2C%20%5B-122.66473613102646%2C%2038.27329105424551%5D%2C%20%5B-122.66469771006278%2C%2038.273297585272445%5D%2C%20%5B-122.66465865968175%2C%2038.2733011247462%5D%2C%20%5B-122.66461935596458%2C%2038.2733016385794%5D%2C%20%5B-122.66458017743227%2C%2038.27329912182341%5D%2C%20%5B-122.66454150140027%2C%2038.27329359871627%5D%2C%20%5B-122.66450370034434%2C%2038.27328512244921%5D%2C%20%5B-122.66446713831343%2C%2038.273273774654264%5D%2C%20%5B-122.6644321674233%2C%2038.27325966461829%5D%2C%20%5B-122.66439912446558%2C%2038.27324292823016%5D%2C%20%5B-122.66438676991277%2C%2038.27323597335837%5D%2C%20%5B-122.6643724317339%2C%2038.27322751393277%5D%2C%20%5B-122.66348243060504%2C%2038.272677512089146%5D%2C%20%5B-122.66345386321531%2C%2038.27265807612275%5D%2C%20%5B-122.66342775267307%2C%2038.272636610929936%5D%2C%20%5B-122.66240578145523%2C%2038.271712903043074%5D%2C%20%5B-122.66238147335498%2C%2038.271688621440795%5D%2C%20%5B-122.66236031017624%2C%2038.271662583932354%5D%2C%20%5B-122.66234249572996%2C%2038.27163504127488%5D%2C%20%5B-122.66232820157617%2C%2038.27160625872072%5D%2C%20%5B-122.66231756537192%2C%2038.271576513462854%5D%2C%20%5B-122.66231068954555%2C%2038.271546091965526%5D%2C%20%5B-122.66230764031053%2C%2038.27151528720492%5D%2C%20%5B-122.662308447028%2C%2038.27148439584797%5D%2C%20%5B-122.66231310192401%2C%2038.27145371539536%5D%2C%20%5B-122.66232156016473%2C%2038.27142354131611%5D%2C%20%5B-122.66233374028837%2C%2038.271394164202334%5D%2C%20%5B-122.66234952498976%2C%2038.27136586697051%5D%2C%20%5B-122.66236876225044%2C%2038.27133892213717%5D%2C%20%5B-122.66239126680253%2C%2038.27131358919407%5D%2C%20%5B-122.66241682191325%2C%2038.27129011210956%5D%2C%20%5B-122.66244518147222%2C%2038.27126871697899%5D%2C%20%5B-122.66247607236151%2C%2038.27124960984716%5D%2C%20%5B-122.66250919708615%2C%2038.27123297472441%5D%2C%20%5B-122.66254423663892%2C%2038.27121897181436%5D%2C%20%5B-122.66258085357259%2C%2038.2712077359711%5D%2C%20%5B-122.66261869524958%2C%2038.27119937540072%5D%2C%20%5B-122.66265739723795%2C%2038.27119397061903%5D%2C%20%5B-122.66269658682084%2C%2038.27119157367651%5D%2C%20%5B-122.6627358865859%2C%2038.27119220765659%5D%2C%20%5B-122.66277491805968%2C%2038.27119586645379%5D%2C%20%5B-122.66281330535236%2C%2038.27120251483244%5D%2C%20%5B-122.66285067877772%2C%2038.27121208876572%5D%2C%20%5B-122.66288667841305%2C%2038.2712244960526%5D%2C%20%5B-122.66292095756542%2C%2038.27123961720542%5D%2C%20%5B-122.66295318611036%2C%2038.27125730660095%5D%2C%20%5B-122.66298305367104%2C%2038.27127739388234%5D%2C%20%5B-122.6630102726072%2C%2038.27129968560001%5D%2C%20%5B-122.66400736898471%2C%2038.272200904102036%5D%5D%5D%2C%20%22type%22%3A%20%22Polygon%22%7D%2C%20%22id%22%3A%20%229%22%2C%20%22properties%22%3A%20%7B%22district%22%3A%204%2C%20%22district_name%22%3A%20%22District%204%20-%20Oakland%22%2C%20%22feed_key_left%22%3A%20%22540e857d28ffdc628260ca22a21cb330%22%2C%20%22feed_key_right%22%3A%20%22540e857d28ffdc628260ca22a21cb330%22%2C%20%22gtfs_dataset_key_left%22%3A%20%22bc21582ac1ad2b7de0647dfd5b76f67c%22%2C%20%22gtfs_dataset_key_right%22%3A%20%22bc21582ac1ad2b7de0647dfd5b76f67c%22%2C%20%22index_right%22%3A%2020093%2C%20%22loop_or_inlining%22%3A%200%2C%20%22seg_idx%22%3A%2020133%2C%20%22shape_array_key_left%22%3A%20%2221aedea4c0d05c570e042903cc62c9cf%22%2C%20%22shape_array_key_right%22%3A%20%2221aedea4c0d05c570e042903cc62c9cf%22%2C%20%22stop_id%22%3A%20%2287530%22%2C%20%22stop_sequence%22%3A%20440%2C%20%22trip_id%22%3A%20%22t120-sl9-p84-r1A%22%7D%2C%20%22type%22%3A%20%22Feature%22%7D%2C%20%7B%22bbox%22%3A%20%5B-122.66503270252491%2C%2038.27119157367651%2C%20-122.66230764031053%2C%2038.2733016385794%5D%2C%20%22geometry%22%3A%20%7B%22coordinates%22%3A%20%5B%5B%5B-122.66400736898471%2C%2038.272200904102036%5D%2C%20%5B-122.66486051800402%2C%2038.27272812974614%5D%2C%20%5B-122.66486558299647%2C%2038.272730981022356%5D%2C%20%5B-122.66489637972258%2C%2038.272750182452256%5D%2C%20%5B-122.66492463376593%2C%2038.272771664125365%5D%2C%20%5B-122.66495007302481%2C%2038.272795219163235%5D%2C%20%5B-122.66497245250446%2C%2038.27282062071988%5D%2C%20%5B-122.66499155667658%2C%2038.27284762416625%5D%2C%20%5B-122.66500720155501%2C%2038.27287596944588%5D%2C%20%5B-122.6650192364678%2C%2038.27290538357977%5D%2C%20%5B-122.66502754550827%2C%2038.272935583294725%5D%2C%20%5B-122.66503204865143%2C%2038.272966277751756%5D%2C%20%5B-122.66503270252491%2C%2038.272997171346965%5D%2C%20%5B-122.66502950082679%2C%2038.27302796655812%5D%2C%20%5B-122.66502247438646%2C%2038.273058366810346%5D%2C%20%5B-122.66501169086793%2C%2038.27308807933175%5D%2C%20%5B-122.66499725411828%2C%2038.27311681797363%5D%2C%20%5B-122.6649793031678%2C%2038.273144305965815%5D%2C%20%5B-122.66495801089123%2C%2038.273170278582406%5D%2C%20%5B-122.66493358234281%2C%2038.27319448569114%5D%2C%20%5B-122.66490625278178%2C%2038.27321669416248%5D%2C%20%5B-122.66487628540654%2C%2038.27323669011485%5D%2C%20%5B-122.66484396882008%2C%2038.27325428097434%5D%2C%20%5B-122.66480961425049%2C%2038.27326929732972%5D%2C%20%5B-122.66477355255358%2C%2038.27328159456358%5D%2C%20%5B-122.66473613102646%2C%2038.27329105424551%5D%2C%20%5B-122.66469771006278%2C%2038.273297585272445%5D%2C%20%5B-122.66465865968175%2C%2038.2733011247462%5D%2C%20%5B-122.66461935596458%2C%2038.2733016385794%5D%2C%20%5B-122.66458017743227%2C%2038.27329912182341%5D%2C%20%5B-122.66454150140027%2C%2038.27329359871627%5D%2C%20%5B-122.66450370034434%2C%2038.27328512244921%5D%2C%20%5B-122.66446713831343%2C%2038.273273774654264%5D%2C%20%5B-122.6644321674233%2C%2038.27325966461829%5D%2C%20%5B-122.66439912446558%2C%2038.27324292823016%5D%2C%20%5B-122.66438676991277%2C%2038.27323597335837%5D%2C%20%5B-122.6643724317339%2C%2038.27322751393277%5D%2C%20%5B-122.66348243060504%2C%2038.272677512089146%5D%2C%20%5B-122.66345386321531%2C%2038.27265807612275%5D%2C%20%5B-122.66342775267307%2C%2038.272636610929936%5D%2C%20%5B-122.66240578145523%2C%2038.271712903043074%5D%2C%20%5B-122.66238147335498%2C%2038.271688621440795%5D%2C%20%5B-122.66236031017624%2C%2038.271662583932354%5D%2C%20%5B-122.66234249572996%2C%2038.27163504127488%5D%2C%20%5B-122.66232820157617%2C%2038.27160625872072%5D%2C%20%5B-122.66231756537192%2C%2038.271576513462854%5D%2C%20%5B-122.66231068954555%2C%2038.271546091965526%5D%2C%20%5B-122.66230764031053%2C%2038.27151528720492%5D%2C%20%5B-122.662308447028%2C%2038.27148439584797%5D%2C%20%5B-122.66231310192401%2C%2038.27145371539536%5D%2C%20%5B-122.66232156016473%2C%2038.27142354131611%5D%2C%20%5B-122.66233374028837%2C%2038.271394164202334%5D%2C%20%5B-122.66234952498976%2C%2038.27136586697051%5D%2C%20%5B-122.66236876225044%2C%2038.27133892213717%5D%2C%20%5B-122.66239126680253%2C%2038.27131358919407%5D%2C%20%5B-122.66241682191325%2C%2038.27129011210956%5D%2C%20%5B-122.66244518147222%2C%2038.27126871697899%5D%2C%20%5B-122.66247607236151%2C%2038.27124960984716%5D%2C%20%5B-122.66250919708615%2C%2038.27123297472441%5D%2C%20%5B-122.66254423663892%2C%2038.27121897181436%5D%2C%20%5B-122.66258085357259%2C%2038.2712077359711%5D%2C%20%5B-122.66261869524958%2C%2038.27119937540072%5D%2C%20%5B-122.66265739723795%2C%2038.27119397061903%5D%2C%20%5B-122.66269658682084%2C%2038.27119157367651%5D%2C%20%5B-122.6627358865859%2C%2038.27119220765659%5D%2C%20%5B-122.66277491805968%2C%2038.27119586645379%5D%2C%20%5B-122.66281330535236%2C%2038.27120251483244%5D%2C%20%5B-122.66285067877772%2C%2038.27121208876572%5D%2C%20%5B-122.66288667841305%2C%2038.2712244960526%5D%2C%20%5B-122.66292095756542%2C%2038.27123961720542%5D%2C%20%5B-122.66295318611036%2C%2038.27125730660095%5D%2C%20%5B-122.66298305367104%2C%2038.27127739388234%5D%2C%20%5B-122.6630102726072%2C%2038.27129968560001%5D%2C%20%5B-122.66400736898471%2C%2038.272200904102036%5D%5D%5D%2C%20%22type%22%3A%20%22Polygon%22%7D%2C%20%22id%22%3A%20%2210%22%2C%20%22properties%22%3A%20%7B%22district%22%3A%204%2C%20%22district_name%22%3A%20%22District%204%20-%20Oakland%22%2C%20%22feed_key_left%22%3A%20%22540e857d28ffdc628260ca22a21cb330%22%2C%20%22feed_key_right%22%3A%20%22540e857d28ffdc628260ca22a21cb330%22%2C%20%22gtfs_dataset_key_left%22%3A%20%22bc21582ac1ad2b7de0647dfd5b76f67c%22%2C%20%22gtfs_dataset_key_right%22%3A%20%22bc21582ac1ad2b7de0647dfd5b76f67c%22%2C%20%22index_right%22%3A%2020093%2C%20%22loop_or_inlining%22%3A%200%2C%20%22seg_idx%22%3A%2020133%2C%20%22shape_array_key_left%22%3A%20%2221aedea4c0d05c570e042903cc62c9cf%22%2C%20%22shape_array_key_right%22%3A%20%2221aedea4c0d05c570e042903cc62c9cf%22%2C%20%22stop_id%22%3A%20%2287530%22%2C%20%22stop_sequence%22%3A%20440%2C%20%22trip_id%22%3A%20%22t120-sl9-p84-r1A%22%7D%2C%20%22type%22%3A%20%22Feature%22%7D%2C%20%7B%22bbox%22%3A%20%5B-122.66503270252491%2C%2038.27119157367651%2C%20-122.66230764031053%2C%2038.2733016385794%5D%2C%20%22geometry%22%3A%20%7B%22coordinates%22%3A%20%5B%5B%5B-122.66400736898471%2C%2038.272200904102036%5D%2C%20%5B-122.66486051800402%2C%2038.27272812974614%5D%2C%20%5B-122.66486558299647%2C%2038.272730981022356%5D%2C%20%5B-122.66489637972258%2C%2038.272750182452256%5D%2C%20%5B-122.66492463376593%2C%2038.272771664125365%5D%2C%20%5B-122.66495007302481%2C%2038.272795219163235%5D%2C%20%5B-122.66497245250446%2C%2038.27282062071988%5D%2C%20%5B-122.66499155667658%2C%2038.27284762416625%5D%2C%20%5B-122.66500720155501%2C%2038.27287596944588%5D%2C%20%5B-122.6650192364678%2C%2038.27290538357977%5D%2C%20%5B-122.66502754550827%2C%2038.272935583294725%5D%2C%20%5B-122.66503204865143%2C%2038.272966277751756%5D%2C%20%5B-122.66503270252491%2C%2038.272997171346965%5D%2C%20%5B-122.66502950082679%2C%2038.27302796655812%5D%2C%20%5B-122.66502247438646%2C%2038.273058366810346%5D%2C%20%5B-122.66501169086793%2C%2038.27308807933175%5D%2C%20%5B-122.66499725411828%2C%2038.27311681797363%5D%2C%20%5B-122.6649793031678%2C%2038.273144305965815%5D%2C%20%5B-122.66495801089123%2C%2038.273170278582406%5D%2C%20%5B-122.66493358234281%2C%2038.27319448569114%5D%2C%20%5B-122.66490625278178%2C%2038.27321669416248%5D%2C%20%5B-122.66487628540654%2C%2038.27323669011485%5D%2C%20%5B-122.66484396882008%2C%2038.27325428097434%5D%2C%20%5B-122.66480961425049%2C%2038.27326929732972%5D%2C%20%5B-122.66477355255358%2C%2038.27328159456358%5D%2C%20%5B-122.66473613102646%2C%2038.27329105424551%5D%2C%20%5B-122.66469771006278%2C%2038.273297585272445%5D%2C%20%5B-122.66465865968175%2C%2038.2733011247462%5D%2C%20%5B-122.66461935596458%2C%2038.2733016385794%5D%2C%20%5B-122.66458017743227%2C%2038.27329912182341%5D%2C%20%5B-122.66454150140027%2C%2038.27329359871627%5D%2C%20%5B-122.66450370034434%2C%2038.27328512244921%5D%2C%20%5B-122.66446713831343%2C%2038.273273774654264%5D%2C%20%5B-122.6644321674233%2C%2038.27325966461829%5D%2C%20%5B-122.66439912446558%2C%2038.27324292823016%5D%2C%20%5B-122.66438676991277%2C%2038.27323597335837%5D%2C%20%5B-122.6643724317339%2C%2038.27322751393277%5D%2C%20%5B-122.66348243060504%2C%2038.272677512089146%5D%2C%20%5B-122.66345386321531%2C%2038.27265807612275%5D%2C%20%5B-122.66342775267307%2C%2038.272636610929936%5D%2C%20%5B-122.66240578145523%2C%2038.271712903043074%5D%2C%20%5B-122.66238147335498%2C%2038.271688621440795%5D%2C%20%5B-122.66236031017624%2C%2038.271662583932354%5D%2C%20%5B-122.66234249572996%2C%2038.27163504127488%5D%2C%20%5B-122.66232820157617%2C%2038.27160625872072%5D%2C%20%5B-122.66231756537192%2C%2038.271576513462854%5D%2C%20%5B-122.66231068954555%2C%2038.271546091965526%5D%2C%20%5B-122.66230764031053%2C%2038.27151528720492%5D%2C%20%5B-122.662308447028%2C%2038.27148439584797%5D%2C%20%5B-122.66231310192401%2C%2038.27145371539536%5D%2C%20%5B-122.66232156016473%2C%2038.27142354131611%5D%2C%20%5B-122.66233374028837%2C%2038.271394164202334%5D%2C%20%5B-122.66234952498976%2C%2038.27136586697051%5D%2C%20%5B-122.66236876225044%2C%2038.27133892213717%5D%2C%20%5B-122.66239126680253%2C%2038.27131358919407%5D%2C%20%5B-122.66241682191325%2C%2038.27129011210956%5D%2C%20%5B-122.66244518147222%2C%2038.27126871697899%5D%2C%20%5B-122.66247607236151%2C%2038.27124960984716%5D%2C%20%5B-122.66250919708615%2C%2038.27123297472441%5D%2C%20%5B-122.66254423663892%2C%2038.27121897181436%5D%2C%20%5B-122.66258085357259%2C%2038.2712077359711%5D%2C%20%5B-122.66261869524958%2C%2038.27119937540072%5D%2C%20%5B-122.66265739723795%2C%2038.27119397061903%5D%2C%20%5B-122.66269658682084%2C%2038.27119157367651%5D%2C%20%5B-122.6627358865859%2C%2038.27119220765659%5D%2C%20%5B-122.66277491805968%2C%2038.27119586645379%5D%2C%20%5B-122.66281330535236%2C%2038.27120251483244%5D%2C%20%5B-122.66285067877772%2C%2038.27121208876572%5D%2C%20%5B-122.66288667841305%2C%2038.2712244960526%5D%2C%20%5B-122.66292095756542%2C%2038.27123961720542%5D%2C%20%5B-122.66295318611036%2C%2038.27125730660095%5D%2C%20%5B-122.66298305367104%2C%2038.27127739388234%5D%2C%20%5B-122.6630102726072%2C%2038.27129968560001%5D%2C%20%5B-122.66400736898471%2C%2038.272200904102036%5D%5D%5D%2C%20%22type%22%3A%20%22Polygon%22%7D%2C%20%22id%22%3A%20%2211%22%2C%20%22properties%22%3A%20%7B%22district%22%3A%204%2C%20%22district_name%22%3A%20%22District%204%20-%20Oakland%22%2C%20%22feed_key_left%22%3A%20%22540e857d28ffdc628260ca22a21cb330%22%2C%20%22feed_key_right%22%3A%20%22540e857d28ffdc628260ca22a21cb330%22%2C%20%22gtfs_dataset_key_left%22%3A%20%22bc21582ac1ad2b7de0647dfd5b76f67c%22%2C%20%22gtfs_dataset_key_right%22%3A%20%22bc21582ac1ad2b7de0647dfd5b76f67c%22%2C%20%22index_right%22%3A%2020093%2C%20%22loop_or_inlining%22%3A%200%2C%20%22seg_idx%22%3A%2020133%2C%20%22shape_array_key_left%22%3A%20%2221aedea4c0d05c570e042903cc62c9cf%22%2C%20%22shape_array_key_right%22%3A%20%2221aedea4c0d05c570e042903cc62c9cf%22%2C%20%22stop_id%22%3A%20%2287530%22%2C%20%22stop_sequence%22%3A%20440%2C%20%22trip_id%22%3A%20%22t120-sl9-p84-r1A%22%7D%2C%20%22type%22%3A%20%22Feature%22%7D%2C%20%7B%22bbox%22%3A%20%5B-122.6697105729241%2C%2038.27267227112682%2C%20-122.66423200664913%2C%2038.27662950291414%5D%2C%20%22geometry%22%3A%20%7B%22coordinates%22%3A%20%5B%5B%5B-122.66954322063717%2C%2038.275364017046535%5D%2C%20%5B-122.6695730178313%2C%2038.27538252948064%5D%2C%20%5B-122.66960045037435%2C%2038.27540317689998%5D%2C%20%5B-122.66962527163298%2C%2038.2754257736746%5D%2C%20%5B-122.66964725844993%2C%2038.27545011664892%5D%2C%20%5B-122.6696662131503%2C%2038.275475986967926%5D%2C%20%5B-122.66968196531884%2C%2038.27550315204488%5D%2C%20%5B-122.66969437333215%2C%2038.27553136765223%5D%2C%20%5B-122.66970332563203%2C%2038.275560380117284%5D%2C%20%5B-122.66970874172863%2C%2038.275589928603004%5D%2C%20%5B-122.6697105729241%2C%2038.27561974745286%5D%2C%20%5B-122.66970880275075%2C%2038.27564956857933%5D%2C%20%5B-122.66970344711909%2C%2038.275679123874035%5D%2C%20%5B-122.66961344900122%2C%2038.27604912417037%5D%2C%20%5B-122.66961217713799%2C%2038.27605413245402%5D%2C%20%5B-122.6695262379578%2C%2038.27637879810467%5D%2C%20%5B-122.66951635189137%2C%2038.2764087029682%5D%2C%20%5B-122.66950278412334%2C%2038.27643770220298%5D%2C%20%5B-122.66948566531502%2C%2038.27646551652937%5D%2C%20%5B-122.66946516032698%2C%2038.27649187807869%5D%2C%20%5B-122.66944146663127%2C%2038.27651653297301%5D%2C%20%5B-122.66941481240983%2C%2038.27653924377057%5D%2C%20%5B-122.66938545435696%2C%2038.27655979175199%5D%2C%20%5B-122.66935367520738%2C%2038.27657797902713%5D%2C%20%5B-122.6693197810131%2C%2038.27659363044076%5D%2C%20%5B-122.66928409819603%2C%2038.27660659525956%5D%2C%20%5B-122.66924697040439%2C%2038.27661674862379%5D%2C%20%5B-122.66920875520276%2C%2038.276623992749826%5D%2C%20%5B-122.66916982062875%2C%2038.27662825787193%5D%2C%20%5B-122.66913054164813%2C%2038.27662950291414%5D%2C%20%5B-122.66909129654377%2C%2038.276627715885844%5D%2C%20%5B-122.66905246327217%2C%2038.27662291399725%5D%2C%20%5B-122.66901441582355%2C%2038.27661514349388%5D%2C%20%5B-122.66897752061978%2C%2038.27660447921074%5D%2C%20%5B-122.66894213298552%2C%2038.27659102385203%5D%2C%20%5B-122.66890859372599%2C%2038.27657490700162%5D%2C%20%5B-122.66887722584474%2C%2038.27655628387533%5D%2C%20%5B-122.66884833143294%2C%2038.27653533382581%5D%2C%20%5B-122.66882218875995%2C%2038.27651225861547%5D%2C%20%5B-122.66879904959346%2C%2038.276487280473035%5D%2C%20%5B-122.66877913677483%2C%2038.27646063995341%5D%2C%20%5B-122.66876264207305%2C%2038.276432593621074%5D%2C%20%5B-122.66874972433801%2C%2038.27640341157901%5D%2C%20%5B-122.66874050797085%2C%2038.27637337486741%5D%2C%20%5B-122.66873508172594%2C%2038.27634277275703%5D%2C%20%5B-122.66873349785641%2C%2038.27631189996345%5D%2C%20%5B-122.668735771611%2C%2038.27628105380879%5D%2C%20%5B-122.66874188108747%2C%2038.27625053135802%5D%2C%20%5B-122.66882716174013%2C%2038.2759283663549%5D%2C%20%5B-122.66886843018723%2C%2038.27575871131798%5D%2C%20%5B-122.66439912446558%2C%2038.27324292823016%5D%2C%20%5B-122.66436832766398%2C%2038.273223726672065%5D%2C%20%5B-122.66434007360958%2C%2038.273202244867456%5D%2C%20%5B-122.66431463440458%2C%2038.27317868969976%5D%2C%20%5B-122.66429225504162%2C%2038.27315328801997%5D%2C%20%5B-122.66427315104454%2C%2038.27312628446183%5D%2C%20%5B-122.66425750639274%2C%2038.27309793908604%5D%2C%20%5B-122.66424547174951%2C%2038.27306852487553%5D%2C%20%5B-122.66423716301118%2C%2038.273038325106214%5D%2C%20%5B-122.66423266019106%2C%2038.27300763061921%5D%2C%20%5B-122.66423200664913%2C%2038.272976737019626%5D%2C%20%5B-122.66423520867463%2C%2038.272945941829825%5D%2C%20%5B-122.66424223542548%2C%2038.27291554162391%5D%2C%20%5B-122.66425301922587%2C%2038.272885829171855%5D%2C%20%5B-122.66426745621777%2C%2038.272857090619894%5D%2C%20%5B-122.66428540736163%2C%2038.27282960273458%5D%2C%20%5B-122.66430669977527%2C%2038.2728036302379%5D%2C%20%5B-122.6643311283992%2C%2038.272779423257305%5D%2C%20%5B-122.66435845797129%2C%2038.27275721491745%5D%2C%20%5B-122.66438842529266%2C%2038.27273721909493%5D%2C%20%5B-122.6644207417624%2C%2038.27271962835857%5D%2C%20%5B-122.66445509615696%2C%2038.27270461211502%5D%2C%20%5B-122.6644911576272%2C%2038.272692314977185%5D%2C%20%5B-122.66452857888476%2C%2038.27268285537201%5D%2C%20%5B-122.66456699954635%2C%2038.272676324399505%5D%2C%20%5B-122.66460604960432%2C%2038.272672784955645%5D%2C%20%5B-122.66464535298994%2C%2038.27267227112682%5D%2C%20%5B-122.66468453119487%2C%2038.27267478786146%5D%2C%20%5B-122.66472320691634%2C%2038.27268031092235%5D%2C%20%5B-122.6647610076904%2C%2038.27268878711996%5D%2C%20%5B-122.66479756947909%2C%2038.272700134824944%5D%2C%20%5B-122.66483254017581%2C%2038.27271424475398%5D%2C%20%5B-122.66486558299647%2C%2038.272730981022356%5D%2C%20%5B-122.66954322063717%2C%2038.275364017046535%5D%5D%5D%2C%20%22type%22%3A%20%22Polygon%22%7D%2C%20%22id%22%3A%20%2212%22%2C%20%22properties%22%3A%20%7B%22district%22%3A%204%2C%20%22district_name%22%3A%20%22District%204%20-%20Oakland%22%2C%20%22feed_key_left%22%3A%20%22540e857d28ffdc628260ca22a21cb330%22%2C%20%22feed_key_right%22%3A%20%22540e857d28ffdc628260ca22a21cb330%22%2C%20%22gtfs_dataset_key_left%22%3A%20%22bc21582ac1ad2b7de0647dfd5b76f67c%22%2C%20%22gtfs_dataset_key_right%22%3A%20%22bc21582ac1ad2b7de0647dfd5b76f67c%22%2C%20%22index_right%22%3A%2020094%2C%20%22loop_or_inlining%22%3A%200%2C%20%22seg_idx%22%3A%2020134%2C%20%22shape_array_key_left%22%3A%20%2221aedea4c0d05c570e042903cc62c9cf%22%2C%20%22shape_array_key_right%22%3A%20%2221aedea4c0d05c570e042903cc62c9cf%22%2C%20%22stop_id%22%3A%20%2287511%22%2C%20%22stop_sequence%22%3A%20480%2C%20%22trip_id%22%3A%20%22t120-sl9-p84-r1A%22%7D%2C%20%22type%22%3A%20%22Feature%22%7D%2C%20%7B%22bbox%22%3A%20%5B-122.6697105729241%2C%2038.27267227112682%2C%20-122.66423200664913%2C%2038.27662950291414%5D%2C%20%22geometry%22%3A%20%7B%22coordinates%22%3A%20%5B%5B%5B-122.66954322063717%2C%2038.275364017046535%5D%2C%20%5B-122.6695730178313%2C%2038.27538252948064%5D%2C%20%5B-122.66960045037435%2C%2038.27540317689998%5D%2C%20%5B-122.66962527163298%2C%2038.2754257736746%5D%2C%20%5B-122.66964725844993%2C%2038.27545011664892%5D%2C%20%5B-122.6696662131503%2C%2038.275475986967926%5D%2C%20%5B-122.66968196531884%2C%2038.27550315204488%5D%2C%20%5B-122.66969437333215%2C%2038.27553136765223%5D%2C%20%5B-122.66970332563203%2C%2038.275560380117284%5D%2C%20%5B-122.66970874172863%2C%2038.275589928603004%5D%2C%20%5B-122.6697105729241%2C%2038.27561974745286%5D%2C%20%5B-122.66970880275075%2C%2038.27564956857933%5D%2C%20%5B-122.66970344711909%2C%2038.275679123874035%5D%2C%20%5B-122.66961344900122%2C%2038.27604912417037%5D%2C%20%5B-122.66961217713799%2C%2038.27605413245402%5D%2C%20%5B-122.6695262379578%2C%2038.27637879810467%5D%2C%20%5B-122.66951635189137%2C%2038.2764087029682%5D%2C%20%5B-122.66950278412334%2C%2038.27643770220298%5D%2C%20%5B-122.66948566531502%2C%2038.27646551652937%5D%2C%20%5B-122.66946516032698%2C%2038.27649187807869%5D%2C%20%5B-122.66944146663127%2C%2038.27651653297301%5D%2C%20%5B-122.66941481240983%2C%2038.27653924377057%5D%2C%20%5B-122.66938545435696%2C%2038.27655979175199%5D%2C%20%5B-122.66935367520738%2C%2038.27657797902713%5D%2C%20%5B-122.6693197810131%2C%2038.27659363044076%5D%2C%20%5B-122.66928409819603%2C%2038.27660659525956%5D%2C%20%5B-122.66924697040439%2C%2038.27661674862379%5D%2C%20%5B-122.66920875520276%2C%2038.276623992749826%5D%2C%20%5B-122.66916982062875%2C%2038.27662825787193%5D%2C%20%5B-122.66913054164813%2C%2038.27662950291414%5D%2C%20%5B-122.66909129654377%2C%2038.276627715885844%5D%2C%20%5B-122.66905246327217%2C%2038.27662291399725%5D%2C%20%5B-122.66901441582355%2C%2038.27661514349388%5D%2C%20%5B-122.66897752061978%2C%2038.27660447921074%5D%2C%20%5B-122.66894213298552%2C%2038.27659102385203%5D%2C%20%5B-122.66890859372599%2C%2038.27657490700162%5D%2C%20%5B-122.66887722584474%2C%2038.27655628387533%5D%2C%20%5B-122.66884833143294%2C%2038.27653533382581%5D%2C%20%5B-122.66882218875995%2C%2038.27651225861547%5D%2C%20%5B-122.66879904959346%2C%2038.276487280473035%5D%2C%20%5B-122.66877913677483%2C%2038.27646063995341%5D%2C%20%5B-122.66876264207305%2C%2038.276432593621074%5D%2C%20%5B-122.66874972433801%2C%2038.27640341157901%5D%2C%20%5B-122.66874050797085%2C%2038.27637337486741%5D%2C%20%5B-122.66873508172594%2C%2038.27634277275703%5D%2C%20%5B-122.66873349785641%2C%2038.27631189996345%5D%2C%20%5B-122.668735771611%2C%2038.27628105380879%5D%2C%20%5B-122.66874188108747%2C%2038.27625053135802%5D%2C%20%5B-122.66882716174013%2C%2038.2759283663549%5D%2C%20%5B-122.66886843018723%2C%2038.27575871131798%5D%2C%20%5B-122.66439912446558%2C%2038.27324292823016%5D%2C%20%5B-122.66436832766398%2C%2038.273223726672065%5D%2C%20%5B-122.66434007360958%2C%2038.273202244867456%5D%2C%20%5B-122.66431463440458%2C%2038.27317868969976%5D%2C%20%5B-122.66429225504162%2C%2038.27315328801997%5D%2C%20%5B-122.66427315104454%2C%2038.27312628446183%5D%2C%20%5B-122.66425750639274%2C%2038.27309793908604%5D%2C%20%5B-122.66424547174951%2C%2038.27306852487553%5D%2C%20%5B-122.66423716301118%2C%2038.273038325106214%5D%2C%20%5B-122.66423266019106%2C%2038.27300763061921%5D%2C%20%5B-122.66423200664913%2C%2038.272976737019626%5D%2C%20%5B-122.66423520867463%2C%2038.272945941829825%5D%2C%20%5B-122.66424223542548%2C%2038.27291554162391%5D%2C%20%5B-122.66425301922587%2C%2038.272885829171855%5D%2C%20%5B-122.66426745621777%2C%2038.272857090619894%5D%2C%20%5B-122.66428540736163%2C%2038.27282960273458%5D%2C%20%5B-122.66430669977527%2C%2038.2728036302379%5D%2C%20%5B-122.6643311283992%2C%2038.272779423257305%5D%2C%20%5B-122.66435845797129%2C%2038.27275721491745%5D%2C%20%5B-122.66438842529266%2C%2038.27273721909493%5D%2C%20%5B-122.6644207417624%2C%2038.27271962835857%5D%2C%20%5B-122.66445509615696%2C%2038.27270461211502%5D%2C%20%5B-122.6644911576272%2C%2038.272692314977185%5D%2C%20%5B-122.66452857888476%2C%2038.27268285537201%5D%2C%20%5B-122.66456699954635%2C%2038.272676324399505%5D%2C%20%5B-122.66460604960432%2C%2038.272672784955645%5D%2C%20%5B-122.66464535298994%2C%2038.27267227112682%5D%2C%20%5B-122.66468453119487%2C%2038.27267478786146%5D%2C%20%5B-122.66472320691634%2C%2038.27268031092235%5D%2C%20%5B-122.6647610076904%2C%2038.27268878711996%5D%2C%20%5B-122.66479756947909%2C%2038.272700134824944%5D%2C%20%5B-122.66483254017581%2C%2038.27271424475398%5D%2C%20%5B-122.66486558299647%2C%2038.272730981022356%5D%2C%20%5B-122.66954322063717%2C%2038.275364017046535%5D%5D%5D%2C%20%22type%22%3A%20%22Polygon%22%7D%2C%20%22id%22%3A%20%2213%22%2C%20%22properties%22%3A%20%7B%22district%22%3A%204%2C%20%22district_name%22%3A%20%22District%204%20-%20Oakland%22%2C%20%22feed_key_left%22%3A%20%22540e857d28ffdc628260ca22a21cb330%22%2C%20%22feed_key_right%22%3A%20%22540e857d28ffdc628260ca22a21cb330%22%2C%20%22gtfs_dataset_key_left%22%3A%20%22bc21582ac1ad2b7de0647dfd5b76f67c%22%2C%20%22gtfs_dataset_key_right%22%3A%20%22bc21582ac1ad2b7de0647dfd5b76f67c%22%2C%20%22index_right%22%3A%2020094%2C%20%22loop_or_inlining%22%3A%200%2C%20%22seg_idx%22%3A%2020134%2C%20%22shape_array_key_left%22%3A%20%2221aedea4c0d05c570e042903cc62c9cf%22%2C%20%22shape_array_key_right%22%3A%20%2221aedea4c0d05c570e042903cc62c9cf%22%2C%20%22stop_id%22%3A%20%2287511%22%2C%20%22stop_sequence%22%3A%20480%2C%20%22trip_id%22%3A%20%22t120-sl9-p84-r1A%22%7D%2C%20%22type%22%3A%20%22Feature%22%7D%2C%20%7B%22bbox%22%3A%20%5B-122.6697105729241%2C%2038.27267227112682%2C%20-122.66423200664913%2C%2038.27662950291414%5D%2C%20%22geometry%22%3A%20%7B%22coordinates%22%3A%20%5B%5B%5B-122.66954322063717%2C%2038.275364017046535%5D%2C%20%5B-122.6695730178313%2C%2038.27538252948064%5D%2C%20%5B-122.66960045037435%2C%2038.27540317689998%5D%2C%20%5B-122.66962527163298%2C%2038.2754257736746%5D%2C%20%5B-122.66964725844993%2C%2038.27545011664892%5D%2C%20%5B-122.6696662131503%2C%2038.275475986967926%5D%2C%20%5B-122.66968196531884%2C%2038.27550315204488%5D%2C%20%5B-122.66969437333215%2C%2038.27553136765223%5D%2C%20%5B-122.66970332563203%2C%2038.275560380117284%5D%2C%20%5B-122.66970874172863%2C%2038.275589928603004%5D%2C%20%5B-122.6697105729241%2C%2038.27561974745286%5D%2C%20%5B-122.66970880275075%2C%2038.27564956857933%5D%2C%20%5B-122.66970344711909%2C%2038.275679123874035%5D%2C%20%5B-122.66961344900122%2C%2038.27604912417037%5D%2C%20%5B-122.66961217713799%2C%2038.27605413245402%5D%2C%20%5B-122.6695262379578%2C%2038.27637879810467%5D%2C%20%5B-122.66951635189137%2C%2038.2764087029682%5D%2C%20%5B-122.66950278412334%2C%2038.27643770220298%5D%2C%20%5B-122.66948566531502%2C%2038.27646551652937%5D%2C%20%5B-122.66946516032698%2C%2038.27649187807869%5D%2C%20%5B-122.66944146663127%2C%2038.27651653297301%5D%2C%20%5B-122.66941481240983%2C%2038.27653924377057%5D%2C%20%5B-122.66938545435696%2C%2038.27655979175199%5D%2C%20%5B-122.66935367520738%2C%2038.27657797902713%5D%2C%20%5B-122.6693197810131%2C%2038.27659363044076%5D%2C%20%5B-122.66928409819603%2C%2038.27660659525956%5D%2C%20%5B-122.66924697040439%2C%2038.27661674862379%5D%2C%20%5B-122.66920875520276%2C%2038.276623992749826%5D%2C%20%5B-122.66916982062875%2C%2038.27662825787193%5D%2C%20%5B-122.66913054164813%2C%2038.27662950291414%5D%2C%20%5B-122.66909129654377%2C%2038.276627715885844%5D%2C%20%5B-122.66905246327217%2C%2038.27662291399725%5D%2C%20%5B-122.66901441582355%2C%2038.27661514349388%5D%2C%20%5B-122.66897752061978%2C%2038.27660447921074%5D%2C%20%5B-122.66894213298552%2C%2038.27659102385203%5D%2C%20%5B-122.66890859372599%2C%2038.27657490700162%5D%2C%20%5B-122.66887722584474%2C%2038.27655628387533%5D%2C%20%5B-122.66884833143294%2C%2038.27653533382581%5D%2C%20%5B-122.66882218875995%2C%2038.27651225861547%5D%2C%20%5B-122.66879904959346%2C%2038.276487280473035%5D%2C%20%5B-122.66877913677483%2C%2038.27646063995341%5D%2C%20%5B-122.66876264207305%2C%2038.276432593621074%5D%2C%20%5B-122.66874972433801%2C%2038.27640341157901%5D%2C%20%5B-122.66874050797085%2C%2038.27637337486741%5D%2C%20%5B-122.66873508172594%2C%2038.27634277275703%5D%2C%20%5B-122.66873349785641%2C%2038.27631189996345%5D%2C%20%5B-122.668735771611%2C%2038.27628105380879%5D%2C%20%5B-122.66874188108747%2C%2038.27625053135802%5D%2C%20%5B-122.66882716174013%2C%2038.2759283663549%5D%2C%20%5B-122.66886843018723%2C%2038.27575871131798%5D%2C%20%5B-122.66439912446558%2C%2038.27324292823016%5D%2C%20%5B-122.66436832766398%2C%2038.273223726672065%5D%2C%20%5B-122.66434007360958%2C%2038.273202244867456%5D%2C%20%5B-122.66431463440458%2C%2038.27317868969976%5D%2C%20%5B-122.66429225504162%2C%2038.27315328801997%5D%2C%20%5B-122.66427315104454%2C%2038.27312628446183%5D%2C%20%5B-122.66425750639274%2C%2038.27309793908604%5D%2C%20%5B-122.66424547174951%2C%2038.27306852487553%5D%2C%20%5B-122.66423716301118%2C%2038.273038325106214%5D%2C%20%5B-122.66423266019106%2C%2038.27300763061921%5D%2C%20%5B-122.66423200664913%2C%2038.272976737019626%5D%2C%20%5B-122.66423520867463%2C%2038.272945941829825%5D%2C%20%5B-122.66424223542548%2C%2038.27291554162391%5D%2C%20%5B-122.66425301922587%2C%2038.272885829171855%5D%2C%20%5B-122.66426745621777%2C%2038.272857090619894%5D%2C%20%5B-122.66428540736163%2C%2038.27282960273458%5D%2C%20%5B-122.66430669977527%2C%2038.2728036302379%5D%2C%20%5B-122.6643311283992%2C%2038.272779423257305%5D%2C%20%5B-122.66435845797129%2C%2038.27275721491745%5D%2C%20%5B-122.66438842529266%2C%2038.27273721909493%5D%2C%20%5B-122.6644207417624%2C%2038.27271962835857%5D%2C%20%5B-122.66445509615696%2C%2038.27270461211502%5D%2C%20%5B-122.6644911576272%2C%2038.272692314977185%5D%2C%20%5B-122.66452857888476%2C%2038.27268285537201%5D%2C%20%5B-122.66456699954635%2C%2038.272676324399505%5D%2C%20%5B-122.66460604960432%2C%2038.272672784955645%5D%2C%20%5B-122.66464535298994%2C%2038.27267227112682%5D%2C%20%5B-122.66468453119487%2C%2038.27267478786146%5D%2C%20%5B-122.66472320691634%2C%2038.27268031092235%5D%2C%20%5B-122.6647610076904%2C%2038.27268878711996%5D%2C%20%5B-122.66479756947909%2C%2038.272700134824944%5D%2C%20%5B-122.66483254017581%2C%2038.27271424475398%5D%2C%20%5B-122.66486558299647%2C%2038.272730981022356%5D%2C%20%5B-122.66954322063717%2C%2038.275364017046535%5D%5D%5D%2C%20%22type%22%3A%20%22Polygon%22%7D%2C%20%22id%22%3A%20%2214%22%2C%20%22properties%22%3A%20%7B%22district%22%3A%204%2C%20%22district_name%22%3A%20%22District%204%20-%20Oakland%22%2C%20%22feed_key_left%22%3A%20%22540e857d28ffdc628260ca22a21cb330%22%2C%20%22feed_key_right%22%3A%20%22540e857d28ffdc628260ca22a21cb330%22%2C%20%22gtfs_dataset_key_left%22%3A%20%22bc21582ac1ad2b7de0647dfd5b76f67c%22%2C%20%22gtfs_dataset_key_right%22%3A%20%22bc21582ac1ad2b7de0647dfd5b76f67c%22%2C%20%22index_right%22%3A%2020094%2C%20%22loop_or_inlining%22%3A%200%2C%20%22seg_idx%22%3A%2020134%2C%20%22shape_array_key_left%22%3A%20%2221aedea4c0d05c570e042903cc62c9cf%22%2C%20%22shape_array_key_right%22%3A%20%2221aedea4c0d05c570e042903cc62c9cf%22%2C%20%22stop_id%22%3A%20%2287511%22%2C%20%22stop_sequence%22%3A%20480%2C%20%22trip_id%22%3A%20%22t120-sl9-p84-r1A%22%7D%2C%20%22type%22%3A%20%22Feature%22%7D%2C%20%7B%22bbox%22%3A%20%5B-122.6697105729241%2C%2038.27267227112682%2C%20-122.66423200664913%2C%2038.27662950291414%5D%2C%20%22geometry%22%3A%20%7B%22coordinates%22%3A%20%5B%5B%5B-122.66954322063717%2C%2038.275364017046535%5D%2C%20%5B-122.6695730178313%2C%2038.27538252948064%5D%2C%20%5B-122.66960045037435%2C%2038.27540317689998%5D%2C%20%5B-122.66962527163298%2C%2038.2754257736746%5D%2C%20%5B-122.66964725844993%2C%2038.27545011664892%5D%2C%20%5B-122.6696662131503%2C%2038.275475986967926%5D%2C%20%5B-122.66968196531884%2C%2038.27550315204488%5D%2C%20%5B-122.66969437333215%2C%2038.27553136765223%5D%2C%20%5B-122.66970332563203%2C%2038.275560380117284%5D%2C%20%5B-122.66970874172863%2C%2038.275589928603004%5D%2C%20%5B-122.6697105729241%2C%2038.27561974745286%5D%2C%20%5B-122.66970880275075%2C%2038.27564956857933%5D%2C%20%5B-122.66970344711909%2C%2038.275679123874035%5D%2C%20%5B-122.66961344900122%2C%2038.27604912417037%5D%2C%20%5B-122.66961217713799%2C%2038.27605413245402%5D%2C%20%5B-122.6695262379578%2C%2038.27637879810467%5D%2C%20%5B-122.66951635189137%2C%2038.2764087029682%5D%2C%20%5B-122.66950278412334%2C%2038.27643770220298%5D%2C%20%5B-122.66948566531502%2C%2038.27646551652937%5D%2C%20%5B-122.66946516032698%2C%2038.27649187807869%5D%2C%20%5B-122.66944146663127%2C%2038.27651653297301%5D%2C%20%5B-122.66941481240983%2C%2038.27653924377057%5D%2C%20%5B-122.66938545435696%2C%2038.27655979175199%5D%2C%20%5B-122.66935367520738%2C%2038.27657797902713%5D%2C%20%5B-122.6693197810131%2C%2038.27659363044076%5D%2C%20%5B-122.66928409819603%2C%2038.27660659525956%5D%2C%20%5B-122.66924697040439%2C%2038.27661674862379%5D%2C%20%5B-122.66920875520276%2C%2038.276623992749826%5D%2C%20%5B-122.66916982062875%2C%2038.27662825787193%5D%2C%20%5B-122.66913054164813%2C%2038.27662950291414%5D%2C%20%5B-122.66909129654377%2C%2038.276627715885844%5D%2C%20%5B-122.66905246327217%2C%2038.27662291399725%5D%2C%20%5B-122.66901441582355%2C%2038.27661514349388%5D%2C%20%5B-122.66897752061978%2C%2038.27660447921074%5D%2C%20%5B-122.66894213298552%2C%2038.27659102385203%5D%2C%20%5B-122.66890859372599%2C%2038.27657490700162%5D%2C%20%5B-122.66887722584474%2C%2038.27655628387533%5D%2C%20%5B-122.66884833143294%2C%2038.27653533382581%5D%2C%20%5B-122.66882218875995%2C%2038.27651225861547%5D%2C%20%5B-122.66879904959346%2C%2038.276487280473035%5D%2C%20%5B-122.66877913677483%2C%2038.27646063995341%5D%2C%20%5B-122.66876264207305%2C%2038.276432593621074%5D%2C%20%5B-122.66874972433801%2C%2038.27640341157901%5D%2C%20%5B-122.66874050797085%2C%2038.27637337486741%5D%2C%20%5B-122.66873508172594%2C%2038.27634277275703%5D%2C%20%5B-122.66873349785641%2C%2038.27631189996345%5D%2C%20%5B-122.668735771611%2C%2038.27628105380879%5D%2C%20%5B-122.66874188108747%2C%2038.27625053135802%5D%2C%20%5B-122.66882716174013%2C%2038.2759283663549%5D%2C%20%5B-122.66886843018723%2C%2038.27575871131798%5D%2C%20%5B-122.66439912446558%2C%2038.27324292823016%5D%2C%20%5B-122.66436832766398%2C%2038.273223726672065%5D%2C%20%5B-122.66434007360958%2C%2038.273202244867456%5D%2C%20%5B-122.66431463440458%2C%2038.27317868969976%5D%2C%20%5B-122.66429225504162%2C%2038.27315328801997%5D%2C%20%5B-122.66427315104454%2C%2038.27312628446183%5D%2C%20%5B-122.66425750639274%2C%2038.27309793908604%5D%2C%20%5B-122.66424547174951%2C%2038.27306852487553%5D%2C%20%5B-122.66423716301118%2C%2038.273038325106214%5D%2C%20%5B-122.66423266019106%2C%2038.27300763061921%5D%2C%20%5B-122.66423200664913%2C%2038.272976737019626%5D%2C%20%5B-122.66423520867463%2C%2038.272945941829825%5D%2C%20%5B-122.66424223542548%2C%2038.27291554162391%5D%2C%20%5B-122.66425301922587%2C%2038.272885829171855%5D%2C%20%5B-122.66426745621777%2C%2038.272857090619894%5D%2C%20%5B-122.66428540736163%2C%2038.27282960273458%5D%2C%20%5B-122.66430669977527%2C%2038.2728036302379%5D%2C%20%5B-122.6643311283992%2C%2038.272779423257305%5D%2C%20%5B-122.66435845797129%2C%2038.27275721491745%5D%2C%20%5B-122.66438842529266%2C%2038.27273721909493%5D%2C%20%5B-122.6644207417624%2C%2038.27271962835857%5D%2C%20%5B-122.66445509615696%2C%2038.27270461211502%5D%2C%20%5B-122.6644911576272%2C%2038.272692314977185%5D%2C%20%5B-122.66452857888476%2C%2038.27268285537201%5D%2C%20%5B-122.66456699954635%2C%2038.272676324399505%5D%2C%20%5B-122.66460604960432%2C%2038.272672784955645%5D%2C%20%5B-122.66464535298994%2C%2038.27267227112682%5D%2C%20%5B-122.66468453119487%2C%2038.27267478786146%5D%2C%20%5B-122.66472320691634%2C%2038.27268031092235%5D%2C%20%5B-122.6647610076904%2C%2038.27268878711996%5D%2C%20%5B-122.66479756947909%2C%2038.272700134824944%5D%2C%20%5B-122.66483254017581%2C%2038.27271424475398%5D%2C%20%5B-122.66486558299647%2C%2038.272730981022356%5D%2C%20%5B-122.66954322063717%2C%2038.275364017046535%5D%5D%5D%2C%20%22type%22%3A%20%22Polygon%22%7D%2C%20%22id%22%3A%20%2215%22%2C%20%22properties%22%3A%20%7B%22district%22%3A%204%2C%20%22district_name%22%3A%20%22District%204%20-%20Oakland%22%2C%20%22feed_key_left%22%3A%20%22540e857d28ffdc628260ca22a21cb330%22%2C%20%22feed_key_right%22%3A%20%22540e857d28ffdc628260ca22a21cb330%22%2C%20%22gtfs_dataset_key_left%22%3A%20%22bc21582ac1ad2b7de0647dfd5b76f67c%22%2C%20%22gtfs_dataset_key_right%22%3A%20%22bc21582ac1ad2b7de0647dfd5b76f67c%22%2C%20%22index_right%22%3A%2020094%2C%20%22loop_or_inlining%22%3A%200%2C%20%22seg_idx%22%3A%2020134%2C%20%22shape_array_key_left%22%3A%20%2221aedea4c0d05c570e042903cc62c9cf%22%2C%20%22shape_array_key_right%22%3A%20%2221aedea4c0d05c570e042903cc62c9cf%22%2C%20%22stop_id%22%3A%20%2287511%22%2C%20%22stop_sequence%22%3A%20480%2C%20%22trip_id%22%3A%20%22t120-sl9-p84-r1A%22%7D%2C%20%22type%22%3A%20%22Feature%22%7D%2C%20%7B%22bbox%22%3A%20%5B-122.6697105729241%2C%2038.27267227112682%2C%20-122.66423200664913%2C%2038.27662950291414%5D%2C%20%22geometry%22%3A%20%7B%22coordinates%22%3A%20%5B%5B%5B-122.66954322063717%2C%2038.275364017046535%5D%2C%20%5B-122.6695730178313%2C%2038.27538252948064%5D%2C%20%5B-122.66960045037435%2C%2038.27540317689998%5D%2C%20%5B-122.66962527163298%2C%2038.2754257736746%5D%2C%20%5B-122.66964725844993%2C%2038.27545011664892%5D%2C%20%5B-122.6696662131503%2C%2038.275475986967926%5D%2C%20%5B-122.66968196531884%2C%2038.27550315204488%5D%2C%20%5B-122.66969437333215%2C%2038.27553136765223%5D%2C%20%5B-122.66970332563203%2C%2038.275560380117284%5D%2C%20%5B-122.66970874172863%2C%2038.275589928603004%5D%2C%20%5B-122.6697105729241%2C%2038.27561974745286%5D%2C%20%5B-122.66970880275075%2C%2038.27564956857933%5D%2C%20%5B-122.66970344711909%2C%2038.275679123874035%5D%2C%20%5B-122.66961344900122%2C%2038.27604912417037%5D%2C%20%5B-122.66961217713799%2C%2038.27605413245402%5D%2C%20%5B-122.6695262379578%2C%2038.27637879810467%5D%2C%20%5B-122.66951635189137%2C%2038.2764087029682%5D%2C%20%5B-122.66950278412334%2C%2038.27643770220298%5D%2C%20%5B-122.66948566531502%2C%2038.27646551652937%5D%2C%20%5B-122.66946516032698%2C%2038.27649187807869%5D%2C%20%5B-122.66944146663127%2C%2038.27651653297301%5D%2C%20%5B-122.66941481240983%2C%2038.27653924377057%5D%2C%20%5B-122.66938545435696%2C%2038.27655979175199%5D%2C%20%5B-122.66935367520738%2C%2038.27657797902713%5D%2C%20%5B-122.6693197810131%2C%2038.27659363044076%5D%2C%20%5B-122.66928409819603%2C%2038.27660659525956%5D%2C%20%5B-122.66924697040439%2C%2038.27661674862379%5D%2C%20%5B-122.66920875520276%2C%2038.276623992749826%5D%2C%20%5B-122.66916982062875%2C%2038.27662825787193%5D%2C%20%5B-122.66913054164813%2C%2038.27662950291414%5D%2C%20%5B-122.66909129654377%2C%2038.276627715885844%5D%2C%20%5B-122.66905246327217%2C%2038.27662291399725%5D%2C%20%5B-122.66901441582355%2C%2038.27661514349388%5D%2C%20%5B-122.66897752061978%2C%2038.27660447921074%5D%2C%20%5B-122.66894213298552%2C%2038.27659102385203%5D%2C%20%5B-122.66890859372599%2C%2038.27657490700162%5D%2C%20%5B-122.66887722584474%2C%2038.27655628387533%5D%2C%20%5B-122.66884833143294%2C%2038.27653533382581%5D%2C%20%5B-122.66882218875995%2C%2038.27651225861547%5D%2C%20%5B-122.66879904959346%2C%2038.276487280473035%5D%2C%20%5B-122.66877913677483%2C%2038.27646063995341%5D%2C%20%5B-122.66876264207305%2C%2038.276432593621074%5D%2C%20%5B-122.66874972433801%2C%2038.27640341157901%5D%2C%20%5B-122.66874050797085%2C%2038.27637337486741%5D%2C%20%5B-122.66873508172594%2C%2038.27634277275703%5D%2C%20%5B-122.66873349785641%2C%2038.27631189996345%5D%2C%20%5B-122.668735771611%2C%2038.27628105380879%5D%2C%20%5B-122.66874188108747%2C%2038.27625053135802%5D%2C%20%5B-122.66882716174013%2C%2038.2759283663549%5D%2C%20%5B-122.66886843018723%2C%2038.27575871131798%5D%2C%20%5B-122.66439912446558%2C%2038.27324292823016%5D%2C%20%5B-122.66436832766398%2C%2038.273223726672065%5D%2C%20%5B-122.66434007360958%2C%2038.273202244867456%5D%2C%20%5B-122.66431463440458%2C%2038.27317868969976%5D%2C%20%5B-122.66429225504162%2C%2038.27315328801997%5D%2C%20%5B-122.66427315104454%2C%2038.27312628446183%5D%2C%20%5B-122.66425750639274%2C%2038.27309793908604%5D%2C%20%5B-122.66424547174951%2C%2038.27306852487553%5D%2C%20%5B-122.66423716301118%2C%2038.273038325106214%5D%2C%20%5B-122.66423266019106%2C%2038.27300763061921%5D%2C%20%5B-122.66423200664913%2C%2038.272976737019626%5D%2C%20%5B-122.66423520867463%2C%2038.272945941829825%5D%2C%20%5B-122.66424223542548%2C%2038.27291554162391%5D%2C%20%5B-122.66425301922587%2C%2038.272885829171855%5D%2C%20%5B-122.66426745621777%2C%2038.272857090619894%5D%2C%20%5B-122.66428540736163%2C%2038.27282960273458%5D%2C%20%5B-122.66430669977527%2C%2038.2728036302379%5D%2C%20%5B-122.6643311283992%2C%2038.272779423257305%5D%2C%20%5B-122.66435845797129%2C%2038.27275721491745%5D%2C%20%5B-122.66438842529266%2C%2038.27273721909493%5D%2C%20%5B-122.6644207417624%2C%2038.27271962835857%5D%2C%20%5B-122.66445509615696%2C%2038.27270461211502%5D%2C%20%5B-122.6644911576272%2C%2038.272692314977185%5D%2C%20%5B-122.66452857888476%2C%2038.27268285537201%5D%2C%20%5B-122.66456699954635%2C%2038.272676324399505%5D%2C%20%5B-122.66460604960432%2C%2038.272672784955645%5D%2C%20%5B-122.66464535298994%2C%2038.27267227112682%5D%2C%20%5B-122.66468453119487%2C%2038.27267478786146%5D%2C%20%5B-122.66472320691634%2C%2038.27268031092235%5D%2C%20%5B-122.6647610076904%2C%2038.27268878711996%5D%2C%20%5B-122.66479756947909%2C%2038.272700134824944%5D%2C%20%5B-122.66483254017581%2C%2038.27271424475398%5D%2C%20%5B-122.66486558299647%2C%2038.272730981022356%5D%2C%20%5B-122.66954322063717%2C%2038.275364017046535%5D%5D%5D%2C%20%22type%22%3A%20%22Polygon%22%7D%2C%20%22id%22%3A%20%2216%22%2C%20%22properties%22%3A%20%7B%22district%22%3A%204%2C%20%22district_name%22%3A%20%22District%204%20-%20Oakland%22%2C%20%22feed_key_left%22%3A%20%22540e857d28ffdc628260ca22a21cb330%22%2C%20%22feed_key_right%22%3A%20%22540e857d28ffdc628260ca22a21cb330%22%2C%20%22gtfs_dataset_key_left%22%3A%20%22bc21582ac1ad2b7de0647dfd5b76f67c%22%2C%20%22gtfs_dataset_key_right%22%3A%20%22bc21582ac1ad2b7de0647dfd5b76f67c%22%2C%20%22index_right%22%3A%2020094%2C%20%22loop_or_inlining%22%3A%200%2C%20%22seg_idx%22%3A%2020134%2C%20%22shape_array_key_left%22%3A%20%2221aedea4c0d05c570e042903cc62c9cf%22%2C%20%22shape_array_key_right%22%3A%20%2221aedea4c0d05c570e042903cc62c9cf%22%2C%20%22stop_id%22%3A%20%2287511%22%2C%20%22stop_sequence%22%3A%20480%2C%20%22trip_id%22%3A%20%22t120-sl9-p84-r1A%22%7D%2C%20%22type%22%3A%20%22Feature%22%7D%2C%20%7B%22bbox%22%3A%20%5B-122.6697105729241%2C%2038.27267227112682%2C%20-122.66423200664913%2C%2038.27662950291414%5D%2C%20%22geometry%22%3A%20%7B%22coordinates%22%3A%20%5B%5B%5B-122.66954322063717%2C%2038.275364017046535%5D%2C%20%5B-122.6695730178313%2C%2038.27538252948064%5D%2C%20%5B-122.66960045037435%2C%2038.27540317689998%5D%2C%20%5B-122.66962527163298%2C%2038.2754257736746%5D%2C%20%5B-122.66964725844993%2C%2038.27545011664892%5D%2C%20%5B-122.6696662131503%2C%2038.275475986967926%5D%2C%20%5B-122.66968196531884%2C%2038.27550315204488%5D%2C%20%5B-122.66969437333215%2C%2038.27553136765223%5D%2C%20%5B-122.66970332563203%2C%2038.275560380117284%5D%2C%20%5B-122.66970874172863%2C%2038.275589928603004%5D%2C%20%5B-122.6697105729241%2C%2038.27561974745286%5D%2C%20%5B-122.66970880275075%2C%2038.27564956857933%5D%2C%20%5B-122.66970344711909%2C%2038.275679123874035%5D%2C%20%5B-122.66961344900122%2C%2038.27604912417037%5D%2C%20%5B-122.66961217713799%2C%2038.27605413245402%5D%2C%20%5B-122.6695262379578%2C%2038.27637879810467%5D%2C%20%5B-122.66951635189137%2C%2038.2764087029682%5D%2C%20%5B-122.66950278412334%2C%2038.27643770220298%5D%2C%20%5B-122.66948566531502%2C%2038.27646551652937%5D%2C%20%5B-122.66946516032698%2C%2038.27649187807869%5D%2C%20%5B-122.66944146663127%2C%2038.27651653297301%5D%2C%20%5B-122.66941481240983%2C%2038.27653924377057%5D%2C%20%5B-122.66938545435696%2C%2038.27655979175199%5D%2C%20%5B-122.66935367520738%2C%2038.27657797902713%5D%2C%20%5B-122.6693197810131%2C%2038.27659363044076%5D%2C%20%5B-122.66928409819603%2C%2038.27660659525956%5D%2C%20%5B-122.66924697040439%2C%2038.27661674862379%5D%2C%20%5B-122.66920875520276%2C%2038.276623992749826%5D%2C%20%5B-122.66916982062875%2C%2038.27662825787193%5D%2C%20%5B-122.66913054164813%2C%2038.27662950291414%5D%2C%20%5B-122.66909129654377%2C%2038.276627715885844%5D%2C%20%5B-122.66905246327217%2C%2038.27662291399725%5D%2C%20%5B-122.66901441582355%2C%2038.27661514349388%5D%2C%20%5B-122.66897752061978%2C%2038.27660447921074%5D%2C%20%5B-122.66894213298552%2C%2038.27659102385203%5D%2C%20%5B-122.66890859372599%2C%2038.27657490700162%5D%2C%20%5B-122.66887722584474%2C%2038.27655628387533%5D%2C%20%5B-122.66884833143294%2C%2038.27653533382581%5D%2C%20%5B-122.66882218875995%2C%2038.27651225861547%5D%2C%20%5B-122.66879904959346%2C%2038.276487280473035%5D%2C%20%5B-122.66877913677483%2C%2038.27646063995341%5D%2C%20%5B-122.66876264207305%2C%2038.276432593621074%5D%2C%20%5B-122.66874972433801%2C%2038.27640341157901%5D%2C%20%5B-122.66874050797085%2C%2038.27637337486741%5D%2C%20%5B-122.66873508172594%2C%2038.27634277275703%5D%2C%20%5B-122.66873349785641%2C%2038.27631189996345%5D%2C%20%5B-122.668735771611%2C%2038.27628105380879%5D%2C%20%5B-122.66874188108747%2C%2038.27625053135802%5D%2C%20%5B-122.66882716174013%2C%2038.2759283663549%5D%2C%20%5B-122.66886843018723%2C%2038.27575871131798%5D%2C%20%5B-122.66439912446558%2C%2038.27324292823016%5D%2C%20%5B-122.66436832766398%2C%2038.273223726672065%5D%2C%20%5B-122.66434007360958%2C%2038.273202244867456%5D%2C%20%5B-122.66431463440458%2C%2038.27317868969976%5D%2C%20%5B-122.66429225504162%2C%2038.27315328801997%5D%2C%20%5B-122.66427315104454%2C%2038.27312628446183%5D%2C%20%5B-122.66425750639274%2C%2038.27309793908604%5D%2C%20%5B-122.66424547174951%2C%2038.27306852487553%5D%2C%20%5B-122.66423716301118%2C%2038.273038325106214%5D%2C%20%5B-122.66423266019106%2C%2038.27300763061921%5D%2C%20%5B-122.66423200664913%2C%2038.272976737019626%5D%2C%20%5B-122.66423520867463%2C%2038.272945941829825%5D%2C%20%5B-122.66424223542548%2C%2038.27291554162391%5D%2C%20%5B-122.66425301922587%2C%2038.272885829171855%5D%2C%20%5B-122.66426745621777%2C%2038.272857090619894%5D%2C%20%5B-122.66428540736163%2C%2038.27282960273458%5D%2C%20%5B-122.66430669977527%2C%2038.2728036302379%5D%2C%20%5B-122.6643311283992%2C%2038.272779423257305%5D%2C%20%5B-122.66435845797129%2C%2038.27275721491745%5D%2C%20%5B-122.66438842529266%2C%2038.27273721909493%5D%2C%20%5B-122.6644207417624%2C%2038.27271962835857%5D%2C%20%5B-122.66445509615696%2C%2038.27270461211502%5D%2C%20%5B-122.6644911576272%2C%2038.272692314977185%5D%2C%20%5B-122.66452857888476%2C%2038.27268285537201%5D%2C%20%5B-122.66456699954635%2C%2038.272676324399505%5D%2C%20%5B-122.66460604960432%2C%2038.272672784955645%5D%2C%20%5B-122.66464535298994%2C%2038.27267227112682%5D%2C%20%5B-122.66468453119487%2C%2038.27267478786146%5D%2C%20%5B-122.66472320691634%2C%2038.27268031092235%5D%2C%20%5B-122.6647610076904%2C%2038.27268878711996%5D%2C%20%5B-122.66479756947909%2C%2038.272700134824944%5D%2C%20%5B-122.66483254017581%2C%2038.27271424475398%5D%2C%20%5B-122.66486558299647%2C%2038.272730981022356%5D%2C%20%5B-122.66954322063717%2C%2038.275364017046535%5D%5D%5D%2C%20%22type%22%3A%20%22Polygon%22%7D%2C%20%22id%22%3A%20%2217%22%2C%20%22properties%22%3A%20%7B%22district%22%3A%204%2C%20%22district_name%22%3A%20%22District%204%20-%20Oakland%22%2C%20%22feed_key_left%22%3A%20%22540e857d28ffdc628260ca22a21cb330%22%2C%20%22feed_key_right%22%3A%20%22540e857d28ffdc628260ca22a21cb330%22%2C%20%22gtfs_dataset_key_left%22%3A%20%22bc21582ac1ad2b7de0647dfd5b76f67c%22%2C%20%22gtfs_dataset_key_right%22%3A%20%22bc21582ac1ad2b7de0647dfd5b76f67c%22%2C%20%22index_right%22%3A%2020094%2C%20%22loop_or_inlining%22%3A%200%2C%20%22seg_idx%22%3A%2020134%2C%20%22shape_array_key_left%22%3A%20%2221aedea4c0d05c570e042903cc62c9cf%22%2C%20%22shape_array_key_right%22%3A%20%2221aedea4c0d05c570e042903cc62c9cf%22%2C%20%22stop_id%22%3A%20%2287511%22%2C%20%22stop_sequence%22%3A%20480%2C%20%22trip_id%22%3A%20%22t120-sl9-p84-r1A%22%7D%2C%20%22type%22%3A%20%22Feature%22%7D%2C%20%7B%22bbox%22%3A%20%5B-122.6697105729241%2C%2038.27267227112682%2C%20-122.66423200664913%2C%2038.27662950291414%5D%2C%20%22geometry%22%3A%20%7B%22coordinates%22%3A%20%5B%5B%5B-122.66954322063717%2C%2038.275364017046535%5D%2C%20%5B-122.6695730178313%2C%2038.27538252948064%5D%2C%20%5B-122.66960045037435%2C%2038.27540317689998%5D%2C%20%5B-122.66962527163298%2C%2038.2754257736746%5D%2C%20%5B-122.66964725844993%2C%2038.27545011664892%5D%2C%20%5B-122.6696662131503%2C%2038.275475986967926%5D%2C%20%5B-122.66968196531884%2C%2038.27550315204488%5D%2C%20%5B-122.66969437333215%2C%2038.27553136765223%5D%2C%20%5B-122.66970332563203%2C%2038.275560380117284%5D%2C%20%5B-122.66970874172863%2C%2038.275589928603004%5D%2C%20%5B-122.6697105729241%2C%2038.27561974745286%5D%2C%20%5B-122.66970880275075%2C%2038.27564956857933%5D%2C%20%5B-122.66970344711909%2C%2038.275679123874035%5D%2C%20%5B-122.66961344900122%2C%2038.27604912417037%5D%2C%20%5B-122.66961217713799%2C%2038.27605413245402%5D%2C%20%5B-122.6695262379578%2C%2038.27637879810467%5D%2C%20%5B-122.66951635189137%2C%2038.2764087029682%5D%2C%20%5B-122.66950278412334%2C%2038.27643770220298%5D%2C%20%5B-122.66948566531502%2C%2038.27646551652937%5D%2C%20%5B-122.66946516032698%2C%2038.27649187807869%5D%2C%20%5B-122.66944146663127%2C%2038.27651653297301%5D%2C%20%5B-122.66941481240983%2C%2038.27653924377057%5D%2C%20%5B-122.66938545435696%2C%2038.27655979175199%5D%2C%20%5B-122.66935367520738%2C%2038.27657797902713%5D%2C%20%5B-122.6693197810131%2C%2038.27659363044076%5D%2C%20%5B-122.66928409819603%2C%2038.27660659525956%5D%2C%20%5B-122.66924697040439%2C%2038.27661674862379%5D%2C%20%5B-122.66920875520276%2C%2038.276623992749826%5D%2C%20%5B-122.66916982062875%2C%2038.27662825787193%5D%2C%20%5B-122.66913054164813%2C%2038.27662950291414%5D%2C%20%5B-122.66909129654377%2C%2038.276627715885844%5D%2C%20%5B-122.66905246327217%2C%2038.27662291399725%5D%2C%20%5B-122.66901441582355%2C%2038.27661514349388%5D%2C%20%5B-122.66897752061978%2C%2038.27660447921074%5D%2C%20%5B-122.66894213298552%2C%2038.27659102385203%5D%2C%20%5B-122.66890859372599%2C%2038.27657490700162%5D%2C%20%5B-122.66887722584474%2C%2038.27655628387533%5D%2C%20%5B-122.66884833143294%2C%2038.27653533382581%5D%2C%20%5B-122.66882218875995%2C%2038.27651225861547%5D%2C%20%5B-122.66879904959346%2C%2038.276487280473035%5D%2C%20%5B-122.66877913677483%2C%2038.27646063995341%5D%2C%20%5B-122.66876264207305%2C%2038.276432593621074%5D%2C%20%5B-122.66874972433801%2C%2038.27640341157901%5D%2C%20%5B-122.66874050797085%2C%2038.27637337486741%5D%2C%20%5B-122.66873508172594%2C%2038.27634277275703%5D%2C%20%5B-122.66873349785641%2C%2038.27631189996345%5D%2C%20%5B-122.668735771611%2C%2038.27628105380879%5D%2C%20%5B-122.66874188108747%2C%2038.27625053135802%5D%2C%20%5B-122.66882716174013%2C%2038.2759283663549%5D%2C%20%5B-122.66886843018723%2C%2038.27575871131798%5D%2C%20%5B-122.66439912446558%2C%2038.27324292823016%5D%2C%20%5B-122.66436832766398%2C%2038.273223726672065%5D%2C%20%5B-122.66434007360958%2C%2038.273202244867456%5D%2C%20%5B-122.66431463440458%2C%2038.27317868969976%5D%2C%20%5B-122.66429225504162%2C%2038.27315328801997%5D%2C%20%5B-122.66427315104454%2C%2038.27312628446183%5D%2C%20%5B-122.66425750639274%2C%2038.27309793908604%5D%2C%20%5B-122.66424547174951%2C%2038.27306852487553%5D%2C%20%5B-122.66423716301118%2C%2038.273038325106214%5D%2C%20%5B-122.66423266019106%2C%2038.27300763061921%5D%2C%20%5B-122.66423200664913%2C%2038.272976737019626%5D%2C%20%5B-122.66423520867463%2C%2038.272945941829825%5D%2C%20%5B-122.66424223542548%2C%2038.27291554162391%5D%2C%20%5B-122.66425301922587%2C%2038.272885829171855%5D%2C%20%5B-122.66426745621777%2C%2038.272857090619894%5D%2C%20%5B-122.66428540736163%2C%2038.27282960273458%5D%2C%20%5B-122.66430669977527%2C%2038.2728036302379%5D%2C%20%5B-122.6643311283992%2C%2038.272779423257305%5D%2C%20%5B-122.66435845797129%2C%2038.27275721491745%5D%2C%20%5B-122.66438842529266%2C%2038.27273721909493%5D%2C%20%5B-122.6644207417624%2C%2038.27271962835857%5D%2C%20%5B-122.66445509615696%2C%2038.27270461211502%5D%2C%20%5B-122.6644911576272%2C%2038.272692314977185%5D%2C%20%5B-122.66452857888476%2C%2038.27268285537201%5D%2C%20%5B-122.66456699954635%2C%2038.272676324399505%5D%2C%20%5B-122.66460604960432%2C%2038.272672784955645%5D%2C%20%5B-122.66464535298994%2C%2038.27267227112682%5D%2C%20%5B-122.66468453119487%2C%2038.27267478786146%5D%2C%20%5B-122.66472320691634%2C%2038.27268031092235%5D%2C%20%5B-122.6647610076904%2C%2038.27268878711996%5D%2C%20%5B-122.66479756947909%2C%2038.272700134824944%5D%2C%20%5B-122.66483254017581%2C%2038.27271424475398%5D%2C%20%5B-122.66486558299647%2C%2038.272730981022356%5D%2C%20%5B-122.66954322063717%2C%2038.275364017046535%5D%5D%5D%2C%20%22type%22%3A%20%22Polygon%22%7D%2C%20%22id%22%3A%20%2218%22%2C%20%22properties%22%3A%20%7B%22district%22%3A%204%2C%20%22district_name%22%3A%20%22District%204%20-%20Oakland%22%2C%20%22feed_key_left%22%3A%20%22540e857d28ffdc628260ca22a21cb330%22%2C%20%22feed_key_right%22%3A%20%22540e857d28ffdc628260ca22a21cb330%22%2C%20%22gtfs_dataset_key_left%22%3A%20%22bc21582ac1ad2b7de0647dfd5b76f67c%22%2C%20%22gtfs_dataset_key_right%22%3A%20%22bc21582ac1ad2b7de0647dfd5b76f67c%22%2C%20%22index_right%22%3A%2020094%2C%20%22loop_or_inlining%22%3A%200%2C%20%22seg_idx%22%3A%2020134%2C%20%22shape_array_key_left%22%3A%20%2221aedea4c0d05c570e042903cc62c9cf%22%2C%20%22shape_array_key_right%22%3A%20%2221aedea4c0d05c570e042903cc62c9cf%22%2C%20%22stop_id%22%3A%20%2287511%22%2C%20%22stop_sequence%22%3A%20480%2C%20%22trip_id%22%3A%20%22t120-sl9-p84-r1A%22%7D%2C%20%22type%22%3A%20%22Feature%22%7D%2C%20%7B%22bbox%22%3A%20%5B-122.65686018509088%2C%2038.262512733799696%2C%20-122.64957292010479%2C%2038.266813904991736%5D%2C%20%22geometry%22%3A%20%7B%22coordinates%22%3A%20%5B%5B%5B-122.65669279585317%2C%2038.266213794616554%5D%2C%20%5B-122.6567244859039%2C%2038.266233561678526%5D%2C%20%5B-122.65675347771874%2C%2038.26625574085837%5D%2C%20%5B-122.6567794755259%2C%2038.2662801058882%5D%2C%20%5B-122.65680221409718%2C%2038.26630640820018%5D%2C%20%5B-122.6568214614538%2C%2038.26633437946234%5D%2C%20%5B-122.65683702123312%2C%2038.26636373431623%5D%2C%20%5B-122.65684873469198%2C%2038.26639417328762%5D%2C%20%5B-122.6568564823264%2C%2038.26642538584201%5D%2C%20%5B-122.65686018509088%2C%2038.266457053552564%5D%2C%20%5B-122.656859805205%2C%2038.26648885334839%5D%2C%20%5B-122.65685534653917%2C%2038.26652046081088%5D%2C%20%5B-122.65684685457518%2C%2038.26655155348303%5D%2C%20%5B-122.65683441594257%2C%2038.266581814159345%5D%2C%20%5B-122.65681815753487%2C%2038.26661093412191%5D%2C%20%5B-122.65679824521546%2C%2038.266638616289995%5D%2C%20%5B-122.6567748821253%2C%2038.266664578250754%5D%2C%20%5B-122.65674575693785%2C%2038.26669370356747%5D%2C%20%5B-122.65671997890803%2C%2038.2667170284883%5D%2C%20%5B-122.65669141662289%2C%2038.26673825487895%5D%2C%20%5B-122.65666034515318%2C%2038.266757178315885%5D%2C%20%5B-122.65662706373531%2C%2038.26677361655409%5D%2C%20%5B-122.65659189288962%2C%2038.26678741128266%5D%2C%20%5B-122.65655517133342%2C%2038.26679842964939%5D%2C%20%5B-122.65651725271896%2C%2038.26680656554%5D%2C%20%5B-122.65647850222732%2C%2038.26681174060055%5D%2C%20%5B-122.65643929305142%2C%2038.266813904991736%5D%2C%20%5B-122.65640000280183%2C%2038.26681303786905%5D%2C%20%5B-122.65636100986984%2C%2038.266809147583345%5D%2C%20%5B-122.65632268978337%2C%2038.26680227160079%5D%2C%20%5B-122.6562854115901%2C%2038.266792476141596%5D%2C%20%5B-122.65624953430321%2C%2038.26677985554256%5D%2C%20%5B-122.6562154034438%2C%2038.26676453134843%5D%2C%20%5B-122.65618334771307%2C%2038.26674665114111%5D%2C%20%5B-122.65615367582686%2C%2038.26672638711864%5D%2C%20%5B-122.6561266735423%2C%2038.26670393443646%5D%2C%20%5B-122.6561026009059%2C%2038.266679509328036%5D%2C%20%5B-122.65608168974909%2C%2038.26665334702236%5D%2C%20%5B-122.65607296655112%2C%2038.2666396035237%5D%2C%20%5B-122.6497404203133%2C%2038.263083621441595%5D%2C%20%5B-122.64970959849607%2C%2038.26306444889522%5D%2C%20%5B-122.64968131560579%2C%2038.26304299371451%5D%2C%20%5B-122.64965584402243%2C%2038.26301946252645%5D%2C%20%5B-122.64963342905043%2C%2038.2629940819512%5D%2C%20%5B-122.64961428655656%2C%2038.26296709641924%5D%2C%20%5B-122.649598600891%2C%2038.2629387658177%5D%2C%20%5B-122.64958652311203%2C%2038.26290936298709%5D%2C%20%5B-122.6495781695314%2C%2038.262879171093836%5D%2C%20%5B-122.64957362059428%2C%2038.262848480903195%5D%2C%20%5B-122.64957292010479%2C%2038.26281758797899%5D%2C%20%5B-122.64957607480429%2C%2038.262786789836845%5D%2C%20%5B-122.64958305430656%2C%2038.26275638307954%5D%2C%20%5B-122.64959379139067%2C%2038.26272666054018%5D%2C%20%5B-122.6496081826486%2C%2038.2626979084619%5D%2C%20%5B-122.64962608948119%2C%2038.26267040374167%5D%2C%20%5B-122.64964733943303%2C%2038.26264441126356%5D%2C%20%5B-122.64967172785347%2C%2038.26262018134751%5D%2C%20%5B-122.64969901986764%2C%2038.26259794733905%5D%2C%20%5B-122.64972895263834%2C%2038.262577923362%5D%2C%20%5B-122.64976123789735%2C%2038.26256030225622%5D%2C%20%5B-122.64979556472169%2C%2038.26254525372094%5D%2C%20%5B-122.64983160252777%2C%2038.26253292268006%5D%2C%20%5B-122.64986900425507%2C%2038.262523427886876%5D%2C%20%5B-122.64990740970839%2C%2038.262516860780394%5D%2C%20%5B-122.64994644902653%2C%2038.262513284604644%5D%2C%20%5B-122.64998574624423%2C%2038.262512733799696%5D%2C%20%5B-122.65002492291252%2C%2038.262515213669985%5D%2C%20%5B-122.65006360174341%2C%2038.262520700333376%5D%2C%20%5B-122.65010141024308%2C%2038.262529140950946%5D%2C%20%5B-122.65013798429906%2C%2038.26254045423592%5D%2C%20%5B-122.65017297168673%2C%2038.26255453123647%5D%2C%20%5B-122.65020603546115%2C%2038.262571236384915%5D%2C%20%5B-122.65669279585317%2C%2038.266213794616554%5D%5D%5D%2C%20%22type%22%3A%20%22Polygon%22%7D%2C%20%22id%22%3A%20%2219%22%2C%20%22properties%22%3A%20%7B%22district%22%3A%204%2C%20%22district_name%22%3A%20%22District%204%20-%20Oakland%22%2C%20%22feed_key_left%22%3A%20%22540e857d28ffdc628260ca22a21cb330%22%2C%20%22feed_key_right%22%3A%20%22540e857d28ffdc628260ca22a21cb330%22%2C%20%22gtfs_dataset_key_left%22%3A%20%22bc21582ac1ad2b7de0647dfd5b76f67c%22%2C%20%22gtfs_dataset_key_right%22%3A%20%22bc21582ac1ad2b7de0647dfd5b76f67c%22%2C%20%22index_right%22%3A%2020090%2C%20%22loop_or_inlining%22%3A%200%2C%20%22seg_idx%22%3A%2020130%2C%20%22shape_array_key_left%22%3A%20%2221aedea4c0d05c570e042903cc62c9cf%22%2C%20%22shape_array_key_right%22%3A%20%2221aedea4c0d05c570e042903cc62c9cf%22%2C%20%22stop_id%22%3A%20%2287507%22%2C%20%22stop_sequence%22%3A%20330%2C%20%22trip_id%22%3A%20%22t120-sl9-p84-r1A%22%7D%2C%20%22type%22%3A%20%22Feature%22%7D%2C%20%7B%22bbox%22%3A%20%5B-122.65686018509088%2C%2038.262512733799696%2C%20-122.64957292010479%2C%2038.266813904991736%5D%2C%20%22geometry%22%3A%20%7B%22coordinates%22%3A%20%5B%5B%5B-122.65669279585317%2C%2038.266213794616554%5D%2C%20%5B-122.6567244859039%2C%2038.266233561678526%5D%2C%20%5B-122.65675347771874%2C%2038.26625574085837%5D%2C%20%5B-122.6567794755259%2C%2038.2662801058882%5D%2C%20%5B-122.65680221409718%2C%2038.26630640820018%5D%2C%20%5B-122.6568214614538%2C%2038.26633437946234%5D%2C%20%5B-122.65683702123312%2C%2038.26636373431623%5D%2C%20%5B-122.65684873469198%2C%2038.26639417328762%5D%2C%20%5B-122.6568564823264%2C%2038.26642538584201%5D%2C%20%5B-122.65686018509088%2C%2038.266457053552564%5D%2C%20%5B-122.656859805205%2C%2038.26648885334839%5D%2C%20%5B-122.65685534653917%2C%2038.26652046081088%5D%2C%20%5B-122.65684685457518%2C%2038.26655155348303%5D%2C%20%5B-122.65683441594257%2C%2038.266581814159345%5D%2C%20%5B-122.65681815753487%2C%2038.26661093412191%5D%2C%20%5B-122.65679824521546%2C%2038.266638616289995%5D%2C%20%5B-122.6567748821253%2C%2038.266664578250754%5D%2C%20%5B-122.65674575693785%2C%2038.26669370356747%5D%2C%20%5B-122.65671997890803%2C%2038.2667170284883%5D%2C%20%5B-122.65669141662289%2C%2038.26673825487895%5D%2C%20%5B-122.65666034515318%2C%2038.266757178315885%5D%2C%20%5B-122.65662706373531%2C%2038.26677361655409%5D%2C%20%5B-122.65659189288962%2C%2038.26678741128266%5D%2C%20%5B-122.65655517133342%2C%2038.26679842964939%5D%2C%20%5B-122.65651725271896%2C%2038.26680656554%5D%2C%20%5B-122.65647850222732%2C%2038.26681174060055%5D%2C%20%5B-122.65643929305142%2C%2038.266813904991736%5D%2C%20%5B-122.65640000280183%2C%2038.26681303786905%5D%2C%20%5B-122.65636100986984%2C%2038.266809147583345%5D%2C%20%5B-122.65632268978337%2C%2038.26680227160079%5D%2C%20%5B-122.6562854115901%2C%2038.266792476141596%5D%2C%20%5B-122.65624953430321%2C%2038.26677985554256%5D%2C%20%5B-122.6562154034438%2C%2038.26676453134843%5D%2C%20%5B-122.65618334771307%2C%2038.26674665114111%5D%2C%20%5B-122.65615367582686%2C%2038.26672638711864%5D%2C%20%5B-122.6561266735423%2C%2038.26670393443646%5D%2C%20%5B-122.6561026009059%2C%2038.266679509328036%5D%2C%20%5B-122.65608168974909%2C%2038.26665334702236%5D%2C%20%5B-122.65607296655112%2C%2038.2666396035237%5D%2C%20%5B-122.6497404203133%2C%2038.263083621441595%5D%2C%20%5B-122.64970959849607%2C%2038.26306444889522%5D%2C%20%5B-122.64968131560579%2C%2038.26304299371451%5D%2C%20%5B-122.64965584402243%2C%2038.26301946252645%5D%2C%20%5B-122.64963342905043%2C%2038.2629940819512%5D%2C%20%5B-122.64961428655656%2C%2038.26296709641924%5D%2C%20%5B-122.649598600891%2C%2038.2629387658177%5D%2C%20%5B-122.64958652311203%2C%2038.26290936298709%5D%2C%20%5B-122.6495781695314%2C%2038.262879171093836%5D%2C%20%5B-122.64957362059428%2C%2038.262848480903195%5D%2C%20%5B-122.64957292010479%2C%2038.26281758797899%5D%2C%20%5B-122.64957607480429%2C%2038.262786789836845%5D%2C%20%5B-122.64958305430656%2C%2038.26275638307954%5D%2C%20%5B-122.64959379139067%2C%2038.26272666054018%5D%2C%20%5B-122.6496081826486%2C%2038.2626979084619%5D%2C%20%5B-122.64962608948119%2C%2038.26267040374167%5D%2C%20%5B-122.64964733943303%2C%2038.26264441126356%5D%2C%20%5B-122.64967172785347%2C%2038.26262018134751%5D%2C%20%5B-122.64969901986764%2C%2038.26259794733905%5D%2C%20%5B-122.64972895263834%2C%2038.262577923362%5D%2C%20%5B-122.64976123789735%2C%2038.26256030225622%5D%2C%20%5B-122.64979556472169%2C%2038.26254525372094%5D%2C%20%5B-122.64983160252777%2C%2038.26253292268006%5D%2C%20%5B-122.64986900425507%2C%2038.262523427886876%5D%2C%20%5B-122.64990740970839%2C%2038.262516860780394%5D%2C%20%5B-122.64994644902653%2C%2038.262513284604644%5D%2C%20%5B-122.64998574624423%2C%2038.262512733799696%5D%2C%20%5B-122.65002492291252%2C%2038.262515213669985%5D%2C%20%5B-122.65006360174341%2C%2038.262520700333376%5D%2C%20%5B-122.65010141024308%2C%2038.262529140950946%5D%2C%20%5B-122.65013798429906%2C%2038.26254045423592%5D%2C%20%5B-122.65017297168673%2C%2038.26255453123647%5D%2C%20%5B-122.65020603546115%2C%2038.262571236384915%5D%2C%20%5B-122.65669279585317%2C%2038.266213794616554%5D%5D%5D%2C%20%22type%22%3A%20%22Polygon%22%7D%2C%20%22id%22%3A%20%2220%22%2C%20%22properties%22%3A%20%7B%22district%22%3A%204%2C%20%22district_name%22%3A%20%22District%204%20-%20Oakland%22%2C%20%22feed_key_left%22%3A%20%22540e857d28ffdc628260ca22a21cb330%22%2C%20%22feed_key_right%22%3A%20%22540e857d28ffdc628260ca22a21cb330%22%2C%20%22gtfs_dataset_key_left%22%3A%20%22bc21582ac1ad2b7de0647dfd5b76f67c%22%2C%20%22gtfs_dataset_key_right%22%3A%20%22bc21582ac1ad2b7de0647dfd5b76f67c%22%2C%20%22index_right%22%3A%2020090%2C%20%22loop_or_inlining%22%3A%200%2C%20%22seg_idx%22%3A%2020130%2C%20%22shape_array_key_left%22%3A%20%2221aedea4c0d05c570e042903cc62c9cf%22%2C%20%22shape_array_key_right%22%3A%20%2221aedea4c0d05c570e042903cc62c9cf%22%2C%20%22stop_id%22%3A%20%2287507%22%2C%20%22stop_sequence%22%3A%20330%2C%20%22trip_id%22%3A%20%22t120-sl9-p84-r1A%22%7D%2C%20%22type%22%3A%20%22Feature%22%7D%2C%20%7B%22bbox%22%3A%20%5B-122.65686018509088%2C%2038.262512733799696%2C%20-122.64957292010479%2C%2038.266813904991736%5D%2C%20%22geometry%22%3A%20%7B%22coordinates%22%3A%20%5B%5B%5B-122.65669279585317%2C%2038.266213794616554%5D%2C%20%5B-122.6567244859039%2C%2038.266233561678526%5D%2C%20%5B-122.65675347771874%2C%2038.26625574085837%5D%2C%20%5B-122.6567794755259%2C%2038.2662801058882%5D%2C%20%5B-122.65680221409718%2C%2038.26630640820018%5D%2C%20%5B-122.6568214614538%2C%2038.26633437946234%5D%2C%20%5B-122.65683702123312%2C%2038.26636373431623%5D%2C%20%5B-122.65684873469198%2C%2038.26639417328762%5D%2C%20%5B-122.6568564823264%2C%2038.26642538584201%5D%2C%20%5B-122.65686018509088%2C%2038.266457053552564%5D%2C%20%5B-122.656859805205%2C%2038.26648885334839%5D%2C%20%5B-122.65685534653917%2C%2038.26652046081088%5D%2C%20%5B-122.65684685457518%2C%2038.26655155348303%5D%2C%20%5B-122.65683441594257%2C%2038.266581814159345%5D%2C%20%5B-122.65681815753487%2C%2038.26661093412191%5D%2C%20%5B-122.65679824521546%2C%2038.266638616289995%5D%2C%20%5B-122.6567748821253%2C%2038.266664578250754%5D%2C%20%5B-122.65674575693785%2C%2038.26669370356747%5D%2C%20%5B-122.65671997890803%2C%2038.2667170284883%5D%2C%20%5B-122.65669141662289%2C%2038.26673825487895%5D%2C%20%5B-122.65666034515318%2C%2038.266757178315885%5D%2C%20%5B-122.65662706373531%2C%2038.26677361655409%5D%2C%20%5B-122.65659189288962%2C%2038.26678741128266%5D%2C%20%5B-122.65655517133342%2C%2038.26679842964939%5D%2C%20%5B-122.65651725271896%2C%2038.26680656554%5D%2C%20%5B-122.65647850222732%2C%2038.26681174060055%5D%2C%20%5B-122.65643929305142%2C%2038.266813904991736%5D%2C%20%5B-122.65640000280183%2C%2038.26681303786905%5D%2C%20%5B-122.65636100986984%2C%2038.266809147583345%5D%2C%20%5B-122.65632268978337%2C%2038.26680227160079%5D%2C%20%5B-122.6562854115901%2C%2038.266792476141596%5D%2C%20%5B-122.65624953430321%2C%2038.26677985554256%5D%2C%20%5B-122.6562154034438%2C%2038.26676453134843%5D%2C%20%5B-122.65618334771307%2C%2038.26674665114111%5D%2C%20%5B-122.65615367582686%2C%2038.26672638711864%5D%2C%20%5B-122.6561266735423%2C%2038.26670393443646%5D%2C%20%5B-122.6561026009059%2C%2038.266679509328036%5D%2C%20%5B-122.65608168974909%2C%2038.26665334702236%5D%2C%20%5B-122.65607296655112%2C%2038.2666396035237%5D%2C%20%5B-122.6497404203133%2C%2038.263083621441595%5D%2C%20%5B-122.64970959849607%2C%2038.26306444889522%5D%2C%20%5B-122.64968131560579%2C%2038.26304299371451%5D%2C%20%5B-122.64965584402243%2C%2038.26301946252645%5D%2C%20%5B-122.64963342905043%2C%2038.2629940819512%5D%2C%20%5B-122.64961428655656%2C%2038.26296709641924%5D%2C%20%5B-122.649598600891%2C%2038.2629387658177%5D%2C%20%5B-122.64958652311203%2C%2038.26290936298709%5D%2C%20%5B-122.6495781695314%2C%2038.262879171093836%5D%2C%20%5B-122.64957362059428%2C%2038.262848480903195%5D%2C%20%5B-122.64957292010479%2C%2038.26281758797899%5D%2C%20%5B-122.64957607480429%2C%2038.262786789836845%5D%2C%20%5B-122.64958305430656%2C%2038.26275638307954%5D%2C%20%5B-122.64959379139067%2C%2038.26272666054018%5D%2C%20%5B-122.6496081826486%2C%2038.2626979084619%5D%2C%20%5B-122.64962608948119%2C%2038.26267040374167%5D%2C%20%5B-122.64964733943303%2C%2038.26264441126356%5D%2C%20%5B-122.64967172785347%2C%2038.26262018134751%5D%2C%20%5B-122.64969901986764%2C%2038.26259794733905%5D%2C%20%5B-122.64972895263834%2C%2038.262577923362%5D%2C%20%5B-122.64976123789735%2C%2038.26256030225622%5D%2C%20%5B-122.64979556472169%2C%2038.26254525372094%5D%2C%20%5B-122.64983160252777%2C%2038.26253292268006%5D%2C%20%5B-122.64986900425507%2C%2038.262523427886876%5D%2C%20%5B-122.64990740970839%2C%2038.262516860780394%5D%2C%20%5B-122.64994644902653%2C%2038.262513284604644%5D%2C%20%5B-122.64998574624423%2C%2038.262512733799696%5D%2C%20%5B-122.65002492291252%2C%2038.262515213669985%5D%2C%20%5B-122.65006360174341%2C%2038.262520700333376%5D%2C%20%5B-122.65010141024308%2C%2038.262529140950946%5D%2C%20%5B-122.65013798429906%2C%2038.26254045423592%5D%2C%20%5B-122.65017297168673%2C%2038.26255453123647%5D%2C%20%5B-122.65020603546115%2C%2038.262571236384915%5D%2C%20%5B-122.65669279585317%2C%2038.266213794616554%5D%5D%5D%2C%20%22type%22%3A%20%22Polygon%22%7D%2C%20%22id%22%3A%20%2221%22%2C%20%22properties%22%3A%20%7B%22district%22%3A%204%2C%20%22district_name%22%3A%20%22District%204%20-%20Oakland%22%2C%20%22feed_key_left%22%3A%20%22540e857d28ffdc628260ca22a21cb330%22%2C%20%22feed_key_right%22%3A%20%22540e857d28ffdc628260ca22a21cb330%22%2C%20%22gtfs_dataset_key_left%22%3A%20%22bc21582ac1ad2b7de0647dfd5b76f67c%22%2C%20%22gtfs_dataset_key_right%22%3A%20%22bc21582ac1ad2b7de0647dfd5b76f67c%22%2C%20%22index_right%22%3A%2020090%2C%20%22loop_or_inlining%22%3A%200%2C%20%22seg_idx%22%3A%2020130%2C%20%22shape_array_key_left%22%3A%20%2221aedea4c0d05c570e042903cc62c9cf%22%2C%20%22shape_array_key_right%22%3A%20%2221aedea4c0d05c570e042903cc62c9cf%22%2C%20%22stop_id%22%3A%20%2287507%22%2C%20%22stop_sequence%22%3A%20330%2C%20%22trip_id%22%3A%20%22t120-sl9-p84-r1A%22%7D%2C%20%22type%22%3A%20%22Feature%22%7D%2C%20%7B%22bbox%22%3A%20%5B-122.65686018509088%2C%2038.262512733799696%2C%20-122.64957292010479%2C%2038.266813904991736%5D%2C%20%22geometry%22%3A%20%7B%22coordinates%22%3A%20%5B%5B%5B-122.65669279585317%2C%2038.266213794616554%5D%2C%20%5B-122.6567244859039%2C%2038.266233561678526%5D%2C%20%5B-122.65675347771874%2C%2038.26625574085837%5D%2C%20%5B-122.6567794755259%2C%2038.2662801058882%5D%2C%20%5B-122.65680221409718%2C%2038.26630640820018%5D%2C%20%5B-122.6568214614538%2C%2038.26633437946234%5D%2C%20%5B-122.65683702123312%2C%2038.26636373431623%5D%2C%20%5B-122.65684873469198%2C%2038.26639417328762%5D%2C%20%5B-122.6568564823264%2C%2038.26642538584201%5D%2C%20%5B-122.65686018509088%2C%2038.266457053552564%5D%2C%20%5B-122.656859805205%2C%2038.26648885334839%5D%2C%20%5B-122.65685534653917%2C%2038.26652046081088%5D%2C%20%5B-122.65684685457518%2C%2038.26655155348303%5D%2C%20%5B-122.65683441594257%2C%2038.266581814159345%5D%2C%20%5B-122.65681815753487%2C%2038.26661093412191%5D%2C%20%5B-122.65679824521546%2C%2038.266638616289995%5D%2C%20%5B-122.6567748821253%2C%2038.266664578250754%5D%2C%20%5B-122.65674575693785%2C%2038.26669370356747%5D%2C%20%5B-122.65671997890803%2C%2038.2667170284883%5D%2C%20%5B-122.65669141662289%2C%2038.26673825487895%5D%2C%20%5B-122.65666034515318%2C%2038.266757178315885%5D%2C%20%5B-122.65662706373531%2C%2038.26677361655409%5D%2C%20%5B-122.65659189288962%2C%2038.26678741128266%5D%2C%20%5B-122.65655517133342%2C%2038.26679842964939%5D%2C%20%5B-122.65651725271896%2C%2038.26680656554%5D%2C%20%5B-122.65647850222732%2C%2038.26681174060055%5D%2C%20%5B-122.65643929305142%2C%2038.266813904991736%5D%2C%20%5B-122.65640000280183%2C%2038.26681303786905%5D%2C%20%5B-122.65636100986984%2C%2038.266809147583345%5D%2C%20%5B-122.65632268978337%2C%2038.26680227160079%5D%2C%20%5B-122.6562854115901%2C%2038.266792476141596%5D%2C%20%5B-122.65624953430321%2C%2038.26677985554256%5D%2C%20%5B-122.6562154034438%2C%2038.26676453134843%5D%2C%20%5B-122.65618334771307%2C%2038.26674665114111%5D%2C%20%5B-122.65615367582686%2C%2038.26672638711864%5D%2C%20%5B-122.6561266735423%2C%2038.26670393443646%5D%2C%20%5B-122.6561026009059%2C%2038.266679509328036%5D%2C%20%5B-122.65608168974909%2C%2038.26665334702236%5D%2C%20%5B-122.65607296655112%2C%2038.2666396035237%5D%2C%20%5B-122.6497404203133%2C%2038.263083621441595%5D%2C%20%5B-122.64970959849607%2C%2038.26306444889522%5D%2C%20%5B-122.64968131560579%2C%2038.26304299371451%5D%2C%20%5B-122.64965584402243%2C%2038.26301946252645%5D%2C%20%5B-122.64963342905043%2C%2038.2629940819512%5D%2C%20%5B-122.64961428655656%2C%2038.26296709641924%5D%2C%20%5B-122.649598600891%2C%2038.2629387658177%5D%2C%20%5B-122.64958652311203%2C%2038.26290936298709%5D%2C%20%5B-122.6495781695314%2C%2038.262879171093836%5D%2C%20%5B-122.64957362059428%2C%2038.262848480903195%5D%2C%20%5B-122.64957292010479%2C%2038.26281758797899%5D%2C%20%5B-122.64957607480429%2C%2038.262786789836845%5D%2C%20%5B-122.64958305430656%2C%2038.26275638307954%5D%2C%20%5B-122.64959379139067%2C%2038.26272666054018%5D%2C%20%5B-122.6496081826486%2C%2038.2626979084619%5D%2C%20%5B-122.64962608948119%2C%2038.26267040374167%5D%2C%20%5B-122.64964733943303%2C%2038.26264441126356%5D%2C%20%5B-122.64967172785347%2C%2038.26262018134751%5D%2C%20%5B-122.64969901986764%2C%2038.26259794733905%5D%2C%20%5B-122.64972895263834%2C%2038.262577923362%5D%2C%20%5B-122.64976123789735%2C%2038.26256030225622%5D%2C%20%5B-122.64979556472169%2C%2038.26254525372094%5D%2C%20%5B-122.64983160252777%2C%2038.26253292268006%5D%2C%20%5B-122.64986900425507%2C%2038.262523427886876%5D%2C%20%5B-122.64990740970839%2C%2038.262516860780394%5D%2C%20%5B-122.64994644902653%2C%2038.262513284604644%5D%2C%20%5B-122.64998574624423%2C%2038.262512733799696%5D%2C%20%5B-122.65002492291252%2C%2038.262515213669985%5D%2C%20%5B-122.65006360174341%2C%2038.262520700333376%5D%2C%20%5B-122.65010141024308%2C%2038.262529140950946%5D%2C%20%5B-122.65013798429906%2C%2038.26254045423592%5D%2C%20%5B-122.65017297168673%2C%2038.26255453123647%5D%2C%20%5B-122.65020603546115%2C%2038.262571236384915%5D%2C%20%5B-122.65669279585317%2C%2038.266213794616554%5D%5D%5D%2C%20%22type%22%3A%20%22Polygon%22%7D%2C%20%22id%22%3A%20%2222%22%2C%20%22properties%22%3A%20%7B%22district%22%3A%204%2C%20%22district_name%22%3A%20%22District%204%20-%20Oakland%22%2C%20%22feed_key_left%22%3A%20%22540e857d28ffdc628260ca22a21cb330%22%2C%20%22feed_key_right%22%3A%20%22540e857d28ffdc628260ca22a21cb330%22%2C%20%22gtfs_dataset_key_left%22%3A%20%22bc21582ac1ad2b7de0647dfd5b76f67c%22%2C%20%22gtfs_dataset_key_right%22%3A%20%22bc21582ac1ad2b7de0647dfd5b76f67c%22%2C%20%22index_right%22%3A%2020090%2C%20%22loop_or_inlining%22%3A%200%2C%20%22seg_idx%22%3A%2020130%2C%20%22shape_array_key_left%22%3A%20%2221aedea4c0d05c570e042903cc62c9cf%22%2C%20%22shape_array_key_right%22%3A%20%2221aedea4c0d05c570e042903cc62c9cf%22%2C%20%22stop_id%22%3A%20%2287507%22%2C%20%22stop_sequence%22%3A%20330%2C%20%22trip_id%22%3A%20%22t120-sl9-p84-r1A%22%7D%2C%20%22type%22%3A%20%22Feature%22%7D%2C%20%7B%22bbox%22%3A%20%5B-122.6336530896757%2C%2038.25173686030252%2C%20-122.63058462139988%2C%2038.25364066646789%5D%2C%20%22geometry%22%3A%20%7B%22coordinates%22%3A%20%5B%5B%5B-122.63123165484937%2C%2038.25180318173611%5D%2C%20%5B-122.63123285347494%2C%2038.25180385270906%5D%2C%20%5B-122.63348568449892%2C%2038.25306982199989%5D%2C%20%5B-122.63351649687779%2C%2038.253088999794244%5D%2C%20%5B-122.63354477007094%2C%2038.253110459772216%5D%2C%20%5B-122.63357023179229%2C%2038.253133995264356%5D%2C%20%5B-122.6335926368307%2C%2038.25315937961285%5D%2C%20%5B-122.63361176941181%2C%2038.253186368354385%5D%2C%20%5B-122.63362744527582%2C%2038.25321470157419%5D%2C%20%5B-122.63363951345241%2C%2038.253244106409234%5D%2C%20%5B-122.63364785771451%2C%2038.253274299676065%5D%2C%20%5B-122.633652397698%2C%2038.25330499059772%5D%2C%20%5B-122.6336530896757%2C%2038.25333588360434%5D%2C%20%5B-122.63364992697872%2C%2038.253366681179415%5D%2C%20%5B-122.63364294006085%2C%2038.2533970867252%5D%2C%20%5B-122.63363219620545%2C%2038.25342680741895%5D%2C%20%5B-122.63361779887767%2C%2038.253455557033156%5D%2C%20%5B-122.63359988672812%2C%2038.253483058692034%5D%2C%20%5B-122.63357863225784%2C%2038.25350904753809%5D%2C%20%5B-122.63355424015701%2C%2038.25353327328273%5D%2C%20%5B-122.63352694533376%2C%2038.253555502616976%5D%2C%20%5B-122.63349701065205%2C%2038.25357552145831%5D%2C%20%5B-122.63346472439997%2C%2038.253593137012416%5D%2C%20%5B-122.63343039751341%2C%2038.25360817963024%5D%2C%20%5B-122.63339436058163%2C%2038.25362050444137%5D%2C%20%5B-122.6333569606632%2C%2038.25362999274989%5D%2C%20%5B-122.63331855794367%2C%2038.25363655317697%5D%2C%20%5B-122.63327952226653%2C%2038.25364012254148%5D%2C%20%5B-122.63324022957138%2C%2038.25364066646789%5D%2C%20%5B-122.63320105827312%2C%2038.253638179717925%5D%2C%20%5B-122.63316238561747%2C%2038.25363268624064%5D%2C%20%5B-122.63312458404769%2C%2038.25362423894188%5D%2C%20%5B-122.63308801761765%2C%2038.253612919174714%5D%2C%20%5B-122.63305303848557%2C%2038.25359883595602%5D%2C%20%5B-122.63301998352237%2C%2038.25358212491642%5D%2C%20%5B-122.63076774345564%2C%2038.25231648320346%5D%2C%20%5B-122.63075325619725%2C%2038.25230840491239%5D%2C%20%5B-122.63072235543251%2C%2038.25228931555534%5D%2C%20%5B-122.63069398326164%2C%2038.252267936738924%5D%2C%20%5B-122.63066841292427%2C%2038.25224447435466%5D%2C%20%5B-122.63064589067605%2C%2038.25221915436019%5D%2C%20%5B-122.63062663341692%2C%2038.25219222060249%5D%2C%20%5B-122.63061082660226%2C%2038.25216393247006%5D%2C%20%5B-122.6305986224572%2C%2038.252134562394424%5D%2C%20%5B-122.6305901385104%2C%2038.252104393226716%5D%2C%20%5B-122.63058545646263%2C%2038.25207371551317%5D%2C%20%5B-122.63058462139988%2C%2038.25204282469746%5D%2C%20%5B-122.63058764135953%2C%2038.25201201827512%5D%2C%20%5B-122.63059448725298%2C%2038.2519815929285%5D%2C%20%5B-122.63060509314603%2C%2038.2519518416697%5D%2C%20%5B-122.6306193568941%2C%2038.25192305101856%5D%2C%20%5B-122.63063714112594%2C%2038.25189549824363%5D%2C%20%5B-122.63065827456691%2C%2038.251869448691544%5D%2C%20%5B-122.63068255368837%2C%2038.25184515323208%5D%2C%20%5B-122.63070974466795%2C%2038.25182284584194%5D%2C%20%5B-122.63073958564152%2C%2038.251802741351625%5D%2C%20%5B-122.63077178922485%2C%2038.25178503337642%5D%2C%20%5B-122.63080604528152%2C%2038.25176989245205%5D%2C%20%5B-122.63084202390945%2C%2038.25175746439234%5D%2C%20%5B-122.63087937861798%2C%2038.251747868884884%5D%2C%20%5B-122.63091774966475%2C%2038.25174119833849%5D%2C%20%5B-122.6309567675199%2C%2038.25173751699337%5D%2C%20%5B-122.63099605642479%2C%2038.25173686030252%5D%2C%20%5B-122.6310352380106%2C%2038.25173923459004%5D%2C%20%5B-122.63107393494191%2C%2038.25174461699065%5D%2C%20%5B-122.63111177455063%2C%2038.25175295566951%5D%2C%20%5B-122.63114839242472%2C%2038.251764170321515%5D%2C%20%5B-122.6311834359175%2C%2038.25177815294479%5D%2C%20%5B-122.6312165675439%2C%2038.251794768880444%5D%2C%20%5B-122.63123165484937%2C%2038.25180318173611%5D%5D%5D%2C%20%22type%22%3A%20%22Polygon%22%7D%2C%20%22id%22%3A%20%2223%22%2C%20%22properties%22%3A%20%7B%22district%22%3A%204%2C%20%22district_name%22%3A%20%22District%204%20-%20Oakland%22%2C%20%22feed_key_left%22%3A%20%22540e857d28ffdc628260ca22a21cb330%22%2C%20%22feed_key_right%22%3A%20%22540e857d28ffdc628260ca22a21cb330%22%2C%20%22gtfs_dataset_key_left%22%3A%20%22bc21582ac1ad2b7de0647dfd5b76f67c%22%2C%20%22gtfs_dataset_key_right%22%3A%20%22bc21582ac1ad2b7de0647dfd5b76f67c%22%2C%20%22index_right%22%3A%2020084%2C%20%22loop_or_inlining%22%3A%200%2C%20%22seg_idx%22%3A%2020124%2C%20%22shape_array_key_left%22%3A%20%2221aedea4c0d05c570e042903cc62c9cf%22%2C%20%22shape_array_key_right%22%3A%20%2221aedea4c0d05c570e042903cc62c9cf%22%2C%20%22stop_id%22%3A%20%2287501%22%2C%20%22stop_sequence%22%3A%20120%2C%20%22trip_id%22%3A%20%22t120-sl9-p84-r1A%22%7D%2C%20%22type%22%3A%20%22Feature%22%7D%2C%20%7B%22bbox%22%3A%20%5B-122.6336530896757%2C%2038.25173686030252%2C%20-122.63058462139988%2C%2038.25364066646789%5D%2C%20%22geometry%22%3A%20%7B%22coordinates%22%3A%20%5B%5B%5B-122.63123165484937%2C%2038.25180318173611%5D%2C%20%5B-122.63123285347494%2C%2038.25180385270906%5D%2C%20%5B-122.63348568449892%2C%2038.25306982199989%5D%2C%20%5B-122.63351649687779%2C%2038.253088999794244%5D%2C%20%5B-122.63354477007094%2C%2038.253110459772216%5D%2C%20%5B-122.63357023179229%2C%2038.253133995264356%5D%2C%20%5B-122.6335926368307%2C%2038.25315937961285%5D%2C%20%5B-122.63361176941181%2C%2038.253186368354385%5D%2C%20%5B-122.63362744527582%2C%2038.25321470157419%5D%2C%20%5B-122.63363951345241%2C%2038.253244106409234%5D%2C%20%5B-122.63364785771451%2C%2038.253274299676065%5D%2C%20%5B-122.633652397698%2C%2038.25330499059772%5D%2C%20%5B-122.6336530896757%2C%2038.25333588360434%5D%2C%20%5B-122.63364992697872%2C%2038.253366681179415%5D%2C%20%5B-122.63364294006085%2C%2038.2533970867252%5D%2C%20%5B-122.63363219620545%2C%2038.25342680741895%5D%2C%20%5B-122.63361779887767%2C%2038.253455557033156%5D%2C%20%5B-122.63359988672812%2C%2038.253483058692034%5D%2C%20%5B-122.63357863225784%2C%2038.25350904753809%5D%2C%20%5B-122.63355424015701%2C%2038.25353327328273%5D%2C%20%5B-122.63352694533376%2C%2038.253555502616976%5D%2C%20%5B-122.63349701065205%2C%2038.25357552145831%5D%2C%20%5B-122.63346472439997%2C%2038.253593137012416%5D%2C%20%5B-122.63343039751341%2C%2038.25360817963024%5D%2C%20%5B-122.63339436058163%2C%2038.25362050444137%5D%2C%20%5B-122.6333569606632%2C%2038.25362999274989%5D%2C%20%5B-122.63331855794367%2C%2038.25363655317697%5D%2C%20%5B-122.63327952226653%2C%2038.25364012254148%5D%2C%20%5B-122.63324022957138%2C%2038.25364066646789%5D%2C%20%5B-122.63320105827312%2C%2038.253638179717925%5D%2C%20%5B-122.63316238561747%2C%2038.25363268624064%5D%2C%20%5B-122.63312458404769%2C%2038.25362423894188%5D%2C%20%5B-122.63308801761765%2C%2038.253612919174714%5D%2C%20%5B-122.63305303848557%2C%2038.25359883595602%5D%2C%20%5B-122.63301998352237%2C%2038.25358212491642%5D%2C%20%5B-122.63076774345564%2C%2038.25231648320346%5D%2C%20%5B-122.63075325619725%2C%2038.25230840491239%5D%2C%20%5B-122.63072235543251%2C%2038.25228931555534%5D%2C%20%5B-122.63069398326164%2C%2038.252267936738924%5D%2C%20%5B-122.63066841292427%2C%2038.25224447435466%5D%2C%20%5B-122.63064589067605%2C%2038.25221915436019%5D%2C%20%5B-122.63062663341692%2C%2038.25219222060249%5D%2C%20%5B-122.63061082660226%2C%2038.25216393247006%5D%2C%20%5B-122.6305986224572%2C%2038.252134562394424%5D%2C%20%5B-122.6305901385104%2C%2038.252104393226716%5D%2C%20%5B-122.63058545646263%2C%2038.25207371551317%5D%2C%20%5B-122.63058462139988%2C%2038.25204282469746%5D%2C%20%5B-122.63058764135953%2C%2038.25201201827512%5D%2C%20%5B-122.63059448725298%2C%2038.2519815929285%5D%2C%20%5B-122.63060509314603%2C%2038.2519518416697%5D%2C%20%5B-122.6306193568941%2C%2038.25192305101856%5D%2C%20%5B-122.63063714112594%2C%2038.25189549824363%5D%2C%20%5B-122.63065827456691%2C%2038.251869448691544%5D%2C%20%5B-122.63068255368837%2C%2038.25184515323208%5D%2C%20%5B-122.63070974466795%2C%2038.25182284584194%5D%2C%20%5B-122.63073958564152%2C%2038.251802741351625%5D%2C%20%5B-122.63077178922485%2C%2038.25178503337642%5D%2C%20%5B-122.63080604528152%2C%2038.25176989245205%5D%2C%20%5B-122.63084202390945%2C%2038.25175746439234%5D%2C%20%5B-122.63087937861798%2C%2038.251747868884884%5D%2C%20%5B-122.63091774966475%2C%2038.25174119833849%5D%2C%20%5B-122.6309567675199%2C%2038.25173751699337%5D%2C%20%5B-122.63099605642479%2C%2038.25173686030252%5D%2C%20%5B-122.6310352380106%2C%2038.25173923459004%5D%2C%20%5B-122.63107393494191%2C%2038.25174461699065%5D%2C%20%5B-122.63111177455063%2C%2038.25175295566951%5D%2C%20%5B-122.63114839242472%2C%2038.251764170321515%5D%2C%20%5B-122.6311834359175%2C%2038.25177815294479%5D%2C%20%5B-122.6312165675439%2C%2038.251794768880444%5D%2C%20%5B-122.63123165484937%2C%2038.25180318173611%5D%5D%5D%2C%20%22type%22%3A%20%22Polygon%22%7D%2C%20%22id%22%3A%20%2224%22%2C%20%22properties%22%3A%20%7B%22district%22%3A%204%2C%20%22district_name%22%3A%20%22District%204%20-%20Oakland%22%2C%20%22feed_key_left%22%3A%20%22540e857d28ffdc628260ca22a21cb330%22%2C%20%22feed_key_right%22%3A%20%22540e857d28ffdc628260ca22a21cb330%22%2C%20%22gtfs_dataset_key_left%22%3A%20%22bc21582ac1ad2b7de0647dfd5b76f67c%22%2C%20%22gtfs_dataset_key_right%22%3A%20%22bc21582ac1ad2b7de0647dfd5b76f67c%22%2C%20%22index_right%22%3A%2020084%2C%20%22loop_or_inlining%22%3A%200%2C%20%22seg_idx%22%3A%2020124%2C%20%22shape_array_key_left%22%3A%20%2221aedea4c0d05c570e042903cc62c9cf%22%2C%20%22shape_array_key_right%22%3A%20%2221aedea4c0d05c570e042903cc62c9cf%22%2C%20%22stop_id%22%3A%20%2287501%22%2C%20%22stop_sequence%22%3A%20120%2C%20%22trip_id%22%3A%20%22t120-sl9-p84-r1A%22%7D%2C%20%22type%22%3A%20%22Feature%22%7D%2C%20%7B%22bbox%22%3A%20%5B-122.6336530896757%2C%2038.25173686030252%2C%20-122.63058462139988%2C%2038.25364066646789%5D%2C%20%22geometry%22%3A%20%7B%22coordinates%22%3A%20%5B%5B%5B-122.63123165484937%2C%2038.25180318173611%5D%2C%20%5B-122.63123285347494%2C%2038.25180385270906%5D%2C%20%5B-122.63348568449892%2C%2038.25306982199989%5D%2C%20%5B-122.63351649687779%2C%2038.253088999794244%5D%2C%20%5B-122.63354477007094%2C%2038.253110459772216%5D%2C%20%5B-122.63357023179229%2C%2038.253133995264356%5D%2C%20%5B-122.6335926368307%2C%2038.25315937961285%5D%2C%20%5B-122.63361176941181%2C%2038.253186368354385%5D%2C%20%5B-122.63362744527582%2C%2038.25321470157419%5D%2C%20%5B-122.63363951345241%2C%2038.253244106409234%5D%2C%20%5B-122.63364785771451%2C%2038.253274299676065%5D%2C%20%5B-122.633652397698%2C%2038.25330499059772%5D%2C%20%5B-122.6336530896757%2C%2038.25333588360434%5D%2C%20%5B-122.63364992697872%2C%2038.253366681179415%5D%2C%20%5B-122.63364294006085%2C%2038.2533970867252%5D%2C%20%5B-122.63363219620545%2C%2038.25342680741895%5D%2C%20%5B-122.63361779887767%2C%2038.253455557033156%5D%2C%20%5B-122.63359988672812%2C%2038.253483058692034%5D%2C%20%5B-122.63357863225784%2C%2038.25350904753809%5D%2C%20%5B-122.63355424015701%2C%2038.25353327328273%5D%2C%20%5B-122.63352694533376%2C%2038.253555502616976%5D%2C%20%5B-122.63349701065205%2C%2038.25357552145831%5D%2C%20%5B-122.63346472439997%2C%2038.253593137012416%5D%2C%20%5B-122.63343039751341%2C%2038.25360817963024%5D%2C%20%5B-122.63339436058163%2C%2038.25362050444137%5D%2C%20%5B-122.6333569606632%2C%2038.25362999274989%5D%2C%20%5B-122.63331855794367%2C%2038.25363655317697%5D%2C%20%5B-122.63327952226653%2C%2038.25364012254148%5D%2C%20%5B-122.63324022957138%2C%2038.25364066646789%5D%2C%20%5B-122.63320105827312%2C%2038.253638179717925%5D%2C%20%5B-122.63316238561747%2C%2038.25363268624064%5D%2C%20%5B-122.63312458404769%2C%2038.25362423894188%5D%2C%20%5B-122.63308801761765%2C%2038.253612919174714%5D%2C%20%5B-122.63305303848557%2C%2038.25359883595602%5D%2C%20%5B-122.63301998352237%2C%2038.25358212491642%5D%2C%20%5B-122.63076774345564%2C%2038.25231648320346%5D%2C%20%5B-122.63075325619725%2C%2038.25230840491239%5D%2C%20%5B-122.63072235543251%2C%2038.25228931555534%5D%2C%20%5B-122.63069398326164%2C%2038.252267936738924%5D%2C%20%5B-122.63066841292427%2C%2038.25224447435466%5D%2C%20%5B-122.63064589067605%2C%2038.25221915436019%5D%2C%20%5B-122.63062663341692%2C%2038.25219222060249%5D%2C%20%5B-122.63061082660226%2C%2038.25216393247006%5D%2C%20%5B-122.6305986224572%2C%2038.252134562394424%5D%2C%20%5B-122.6305901385104%2C%2038.252104393226716%5D%2C%20%5B-122.63058545646263%2C%2038.25207371551317%5D%2C%20%5B-122.63058462139988%2C%2038.25204282469746%5D%2C%20%5B-122.63058764135953%2C%2038.25201201827512%5D%2C%20%5B-122.63059448725298%2C%2038.2519815929285%5D%2C%20%5B-122.63060509314603%2C%2038.2519518416697%5D%2C%20%5B-122.6306193568941%2C%2038.25192305101856%5D%2C%20%5B-122.63063714112594%2C%2038.25189549824363%5D%2C%20%5B-122.63065827456691%2C%2038.251869448691544%5D%2C%20%5B-122.63068255368837%2C%2038.25184515323208%5D%2C%20%5B-122.63070974466795%2C%2038.25182284584194%5D%2C%20%5B-122.63073958564152%2C%2038.251802741351625%5D%2C%20%5B-122.63077178922485%2C%2038.25178503337642%5D%2C%20%5B-122.63080604528152%2C%2038.25176989245205%5D%2C%20%5B-122.63084202390945%2C%2038.25175746439234%5D%2C%20%5B-122.63087937861798%2C%2038.251747868884884%5D%2C%20%5B-122.63091774966475%2C%2038.25174119833849%5D%2C%20%5B-122.6309567675199%2C%2038.25173751699337%5D%2C%20%5B-122.63099605642479%2C%2038.25173686030252%5D%2C%20%5B-122.6310352380106%2C%2038.25173923459004%5D%2C%20%5B-122.63107393494191%2C%2038.25174461699065%5D%2C%20%5B-122.63111177455063%2C%2038.25175295566951%5D%2C%20%5B-122.63114839242472%2C%2038.251764170321515%5D%2C%20%5B-122.6311834359175%2C%2038.25177815294479%5D%2C%20%5B-122.6312165675439%2C%2038.251794768880444%5D%2C%20%5B-122.63123165484937%2C%2038.25180318173611%5D%5D%5D%2C%20%22type%22%3A%20%22Polygon%22%7D%2C%20%22id%22%3A%20%2225%22%2C%20%22properties%22%3A%20%7B%22district%22%3A%204%2C%20%22district_name%22%3A%20%22District%204%20-%20Oakland%22%2C%20%22feed_key_left%22%3A%20%22540e857d28ffdc628260ca22a21cb330%22%2C%20%22feed_key_right%22%3A%20%22540e857d28ffdc628260ca22a21cb330%22%2C%20%22gtfs_dataset_key_left%22%3A%20%22bc21582ac1ad2b7de0647dfd5b76f67c%22%2C%20%22gtfs_dataset_key_right%22%3A%20%22bc21582ac1ad2b7de0647dfd5b76f67c%22%2C%20%22index_right%22%3A%2020084%2C%20%22loop_or_inlining%22%3A%200%2C%20%22seg_idx%22%3A%2020124%2C%20%22shape_array_key_left%22%3A%20%2221aedea4c0d05c570e042903cc62c9cf%22%2C%20%22shape_array_key_right%22%3A%20%2221aedea4c0d05c570e042903cc62c9cf%22%2C%20%22stop_id%22%3A%20%2287501%22%2C%20%22stop_sequence%22%3A%20120%2C%20%22trip_id%22%3A%20%22t120-sl9-p84-r1A%22%7D%2C%20%22type%22%3A%20%22Feature%22%7D%2C%20%7B%22bbox%22%3A%20%5B-122.62208027199242%2C%2038.2477752717634%2C%20-122.62127972791411%2C%2038.24840472824704%5D%2C%20%22geometry%22%3A%20%7B%22coordinates%22%3A%20%5B%5B%5B-122.62127972791411%2C%2038.24809870453459%5D%2C%20%5B-122.62128057032277%2C%2038.24806781385725%5D%2C%20%5B-122.62128525945415%2C%2038.24803713685097%5D%2C%20%5B-122.62129375014474%2C%2038.24800696895171%5D%2C%20%5B-122.62130596062016%2C%2038.24797760069185%5D%2C%20%5B-122.62132177328306%2C%2038.247949314902904%5D%2C%20%5B-122.62134103584557%2C%2038.24792238399094%5D%2C%20%5B-122.62136356279628%2C%2038.24789706731381%5D%2C%20%5B-122.62138913718664%2C%2038.24787360868306%5D%2C%20%5B-122.62141751272057%2C%2038.24785223401643%5D%2C%20%5B-122.62144841612638%2C%2038.247833149161615%5D%2C%20%5B-122.6214815497885%2C%2038.24781653791445%5D%2C%20%5B-122.6215165946137%2C%2038.24780256024856%5D%2C%20%5B-122.62155321310395%2C%2038.24779135077497%5D%2C%20%5B-122.62159105260666%2C%2038.24778301744582%5D%2C%20%5B-122.62162974871087%2C%2038.247777640514556%5D%2C%20%5B-122.6216689287564%2C%2038.2477752717634%5D%2C%20%5B-122.62170821542273%2C%2038.24777593400438%5D%2C%20%5B-122.6217472303625%2C%2038.247779620859845%5D%2C%20%5B-122.62178559784522%2C%2038.24778629682384%5D%2C%20%5B-122.62182294837534%2C%2038.24779589760393%5D%2C%20%5B-122.62185892225068%2C%2038.24780833074051%5D%2C%20%5B-122.62189317302644%2C%2038.24782347649704%5D%2C%20%5B-122.62192537085136%2C%2038.24784118901321%5D%2C%20%5B-122.62195520564444%2C%2038.24786129770968%5D%2C%20%5B-122.62198239008102%2C%2038.247883608930536%5D%2C%20%5B-122.62200666235995%2C%2038.24790790780836%5D%2C%20%5B-122.62202778872475%2C%2038.247933960333526%5D%2C%20%5B-122.62204556571496%2C%2038.247961515607784%5D%2C%20%5B-122.62205982212566%2C%2038.247990308260185%5D%2C%20%5B-122.62207042065629%2C%2038.248020061003146%5D%2C%20%5B-122.62207725923312%2C%2038.248050487302365%5D%2C%20%5B-122.62208027199242%2C%2038.24808129413665%5D%2C%20%5B-122.62207942991498%2C%2038.24811218481962%5D%2C%20%5B-122.62207474110569%2C%2038.24814286185702%5D%2C%20%5B-122.6220662507157%2C%2038.24817302981181%5D%2C%20%5B-122.62205404050779%2C%2038.24820239814922%5D%2C%20%5B-122.62203822806904%2C%2038.248230684035086%5D%2C%20%5B-122.62201896567873%2C%2038.24825761505943%5D%2C%20%5B-122.62199643884168%2C%2038.24828293186007%5D%2C%20%5B-122.621970864502%2C%2038.24830639062069%5D%2C%20%5B-122.62194248895388%2C%2038.24832776541871%5D%2C%20%5B-122.62191158546949%2C%2038.24834685040118%5D%2C%20%5B-122.62187845166747%2C%2038.248363461767575%5D%2C%20%5B-122.62184340664645%2C%2038.248377439539524%5D%2C%20%5B-122.62180678791194%2C%2038.248388649102026%5D%2C%20%5B-122.62176894812592%2C%2038.24839698249945%5D%2C%20%5B-122.62173025171025%2C%2038.248402359475755%5D%2C%20%5B-122.6216910713371%2C%2038.24840472824704%5D%2C%20%5B-122.62165178433956%2C%2038.24840406600045%5D%2C%20%5B-122.62161276907769%2C%2038.248400379113775%5D%2C%20%5B-122.6215744012944%2C%2038.24839370309437%5D%2C%20%5B-122.62153705049676%2C%2038.24838410223662%5D%2C%20%5B-122.62150107639724%2C%2038.248371669003184%5D%2C%20%5B-122.62146682544928%2C%2038.24835652313426%5D%2C%20%5B-122.62143462751072%2C%2038.24833881049457%5D%2C%20%5B-122.62140479266695%2C%2038.248318701668175%5D%2C%20%5B-122.62137760824457%2C%2038.248296390316035%5D%2C%20%5B-122.62135333604421%2C%2038.24827209131051%5D%2C%20%5B-122.62133220981929%2C%2038.248246038666075%5D%2C%20%5B-122.62131443302492%2C%2038.24821848328579%5D%2C%20%5B-122.62130017685847%2C%2038.24818969054448%5D%2C%20%5B-122.62128957861115%2C%2038.24815993773322%5D%2C%20%5B-122.62128274034579%2C%2038.248129511388996%5D%2C%20%5B-122.62127972791411%2C%2038.24809870453459%5D%5D%5D%2C%20%22type%22%3A%20%22Polygon%22%7D%2C%20%22id%22%3A%20%2226%22%2C%20%22properties%22%3A%20%7B%22district%22%3A%204%2C%20%22district_name%22%3A%20%22District%204%20-%20Oakland%22%2C%20%22feed_key_left%22%3A%20%22540e857d28ffdc628260ca22a21cb330%22%2C%20%22feed_key_right%22%3A%20%22540e857d28ffdc628260ca22a21cb330%22%2C%20%22gtfs_dataset_key_left%22%3A%20%22bc21582ac1ad2b7de0647dfd5b76f67c%22%2C%20%22gtfs_dataset_key_right%22%3A%20%22bc21582ac1ad2b7de0647dfd5b76f67c%22%2C%20%22index_right%22%3A%2020082%2C%20%22loop_or_inlining%22%3A%200%2C%20%22seg_idx%22%3A%2020122%2C%20%22shape_array_key_left%22%3A%20%2221aedea4c0d05c570e042903cc62c9cf%22%2C%20%22shape_array_key_right%22%3A%20%2221aedea4c0d05c570e042903cc62c9cf%22%2C%20%22stop_id%22%3A%20%2287202%22%2C%20%22stop_sequence%22%3A%200%2C%20%22trip_id%22%3A%20%22t120-sl9-p84-r1A%22%7D%2C%20%22type%22%3A%20%22Feature%22%7D%2C%20%7B%22bbox%22%3A%20%5B-122.62208027199242%2C%2038.2477752717634%2C%20-122.62127972791411%2C%2038.24840472824704%5D%2C%20%22geometry%22%3A%20%7B%22coordinates%22%3A%20%5B%5B%5B-122.62127972791411%2C%2038.24809870453459%5D%2C%20%5B-122.62128057032277%2C%2038.24806781385725%5D%2C%20%5B-122.62128525945415%2C%2038.24803713685097%5D%2C%20%5B-122.62129375014474%2C%2038.24800696895171%5D%2C%20%5B-122.62130596062016%2C%2038.24797760069185%5D%2C%20%5B-122.62132177328306%2C%2038.247949314902904%5D%2C%20%5B-122.62134103584557%2C%2038.24792238399094%5D%2C%20%5B-122.62136356279628%2C%2038.24789706731381%5D%2C%20%5B-122.62138913718664%2C%2038.24787360868306%5D%2C%20%5B-122.62141751272057%2C%2038.24785223401643%5D%2C%20%5B-122.62144841612638%2C%2038.247833149161615%5D%2C%20%5B-122.6214815497885%2C%2038.24781653791445%5D%2C%20%5B-122.6215165946137%2C%2038.24780256024856%5D%2C%20%5B-122.62155321310395%2C%2038.24779135077497%5D%2C%20%5B-122.62159105260666%2C%2038.24778301744582%5D%2C%20%5B-122.62162974871087%2C%2038.247777640514556%5D%2C%20%5B-122.6216689287564%2C%2038.2477752717634%5D%2C%20%5B-122.62170821542273%2C%2038.24777593400438%5D%2C%20%5B-122.6217472303625%2C%2038.247779620859845%5D%2C%20%5B-122.62178559784522%2C%2038.24778629682384%5D%2C%20%5B-122.62182294837534%2C%2038.24779589760393%5D%2C%20%5B-122.62185892225068%2C%2038.24780833074051%5D%2C%20%5B-122.62189317302644%2C%2038.24782347649704%5D%2C%20%5B-122.62192537085136%2C%2038.24784118901321%5D%2C%20%5B-122.62195520564444%2C%2038.24786129770968%5D%2C%20%5B-122.62198239008102%2C%2038.247883608930536%5D%2C%20%5B-122.62200666235995%2C%2038.24790790780836%5D%2C%20%5B-122.62202778872475%2C%2038.247933960333526%5D%2C%20%5B-122.62204556571496%2C%2038.247961515607784%5D%2C%20%5B-122.62205982212566%2C%2038.247990308260185%5D%2C%20%5B-122.62207042065629%2C%2038.248020061003146%5D%2C%20%5B-122.62207725923312%2C%2038.248050487302365%5D%2C%20%5B-122.62208027199242%2C%2038.24808129413665%5D%2C%20%5B-122.62207942991498%2C%2038.24811218481962%5D%2C%20%5B-122.62207474110569%2C%2038.24814286185702%5D%2C%20%5B-122.6220662507157%2C%2038.24817302981181%5D%2C%20%5B-122.62205404050779%2C%2038.24820239814922%5D%2C%20%5B-122.62203822806904%2C%2038.248230684035086%5D%2C%20%5B-122.62201896567873%2C%2038.24825761505943%5D%2C%20%5B-122.62199643884168%2C%2038.24828293186007%5D%2C%20%5B-122.621970864502%2C%2038.24830639062069%5D%2C%20%5B-122.62194248895388%2C%2038.24832776541871%5D%2C%20%5B-122.62191158546949%2C%2038.24834685040118%5D%2C%20%5B-122.62187845166747%2C%2038.248363461767575%5D%2C%20%5B-122.62184340664645%2C%2038.248377439539524%5D%2C%20%5B-122.62180678791194%2C%2038.248388649102026%5D%2C%20%5B-122.62176894812592%2C%2038.24839698249945%5D%2C%20%5B-122.62173025171025%2C%2038.248402359475755%5D%2C%20%5B-122.6216910713371%2C%2038.24840472824704%5D%2C%20%5B-122.62165178433956%2C%2038.24840406600045%5D%2C%20%5B-122.62161276907769%2C%2038.248400379113775%5D%2C%20%5B-122.6215744012944%2C%2038.24839370309437%5D%2C%20%5B-122.62153705049676%2C%2038.24838410223662%5D%2C%20%5B-122.62150107639724%2C%2038.248371669003184%5D%2C%20%5B-122.62146682544928%2C%2038.24835652313426%5D%2C%20%5B-122.62143462751072%2C%2038.24833881049457%5D%2C%20%5B-122.62140479266695%2C%2038.248318701668175%5D%2C%20%5B-122.62137760824457%2C%2038.248296390316035%5D%2C%20%5B-122.62135333604421%2C%2038.24827209131051%5D%2C%20%5B-122.62133220981929%2C%2038.248246038666075%5D%2C%20%5B-122.62131443302492%2C%2038.24821848328579%5D%2C%20%5B-122.62130017685847%2C%2038.24818969054448%5D%2C%20%5B-122.62128957861115%2C%2038.24815993773322%5D%2C%20%5B-122.62128274034579%2C%2038.248129511388996%5D%2C%20%5B-122.62127972791411%2C%2038.24809870453459%5D%5D%5D%2C%20%22type%22%3A%20%22Polygon%22%7D%2C%20%22id%22%3A%20%2227%22%2C%20%22properties%22%3A%20%7B%22district%22%3A%204%2C%20%22district_name%22%3A%20%22District%204%20-%20Oakland%22%2C%20%22feed_key_left%22%3A%20%22540e857d28ffdc628260ca22a21cb330%22%2C%20%22feed_key_right%22%3A%20%22540e857d28ffdc628260ca22a21cb330%22%2C%20%22gtfs_dataset_key_left%22%3A%20%22bc21582ac1ad2b7de0647dfd5b76f67c%22%2C%20%22gtfs_dataset_key_right%22%3A%20%22bc21582ac1ad2b7de0647dfd5b76f67c%22%2C%20%22index_right%22%3A%2020082%2C%20%22loop_or_inlining%22%3A%200%2C%20%22seg_idx%22%3A%2020122%2C%20%22shape_array_key_left%22%3A%20%2221aedea4c0d05c570e042903cc62c9cf%22%2C%20%22shape_array_key_right%22%3A%20%2221aedea4c0d05c570e042903cc62c9cf%22%2C%20%22stop_id%22%3A%20%2287202%22%2C%20%22stop_sequence%22%3A%200%2C%20%22trip_id%22%3A%20%22t120-sl9-p84-r1A%22%7D%2C%20%22type%22%3A%20%22Feature%22%7D%2C%20%7B%22bbox%22%3A%20%5B-122.62208027199242%2C%2038.2477752717634%2C%20-122.62127972791411%2C%2038.24840472824704%5D%2C%20%22geometry%22%3A%20%7B%22coordinates%22%3A%20%5B%5B%5B-122.62127972791411%2C%2038.24809870453459%5D%2C%20%5B-122.62128057032277%2C%2038.24806781385725%5D%2C%20%5B-122.62128525945415%2C%2038.24803713685097%5D%2C%20%5B-122.62129375014474%2C%2038.24800696895171%5D%2C%20%5B-122.62130596062016%2C%2038.24797760069185%5D%2C%20%5B-122.62132177328306%2C%2038.247949314902904%5D%2C%20%5B-122.62134103584557%2C%2038.24792238399094%5D%2C%20%5B-122.62136356279628%2C%2038.24789706731381%5D%2C%20%5B-122.62138913718664%2C%2038.24787360868306%5D%2C%20%5B-122.62141751272057%2C%2038.24785223401643%5D%2C%20%5B-122.62144841612638%2C%2038.247833149161615%5D%2C%20%5B-122.6214815497885%2C%2038.24781653791445%5D%2C%20%5B-122.6215165946137%2C%2038.24780256024856%5D%2C%20%5B-122.62155321310395%2C%2038.24779135077497%5D%2C%20%5B-122.62159105260666%2C%2038.24778301744582%5D%2C%20%5B-122.62162974871087%2C%2038.247777640514556%5D%2C%20%5B-122.6216689287564%2C%2038.2477752717634%5D%2C%20%5B-122.62170821542273%2C%2038.24777593400438%5D%2C%20%5B-122.6217472303625%2C%2038.247779620859845%5D%2C%20%5B-122.62178559784522%2C%2038.24778629682384%5D%2C%20%5B-122.62182294837534%2C%2038.24779589760393%5D%2C%20%5B-122.62185892225068%2C%2038.24780833074051%5D%2C%20%5B-122.62189317302644%2C%2038.24782347649704%5D%2C%20%5B-122.62192537085136%2C%2038.24784118901321%5D%2C%20%5B-122.62195520564444%2C%2038.24786129770968%5D%2C%20%5B-122.62198239008102%2C%2038.247883608930536%5D%2C%20%5B-122.62200666235995%2C%2038.24790790780836%5D%2C%20%5B-122.62202778872475%2C%2038.247933960333526%5D%2C%20%5B-122.62204556571496%2C%2038.247961515607784%5D%2C%20%5B-122.62205982212566%2C%2038.247990308260185%5D%2C%20%5B-122.62207042065629%2C%2038.248020061003146%5D%2C%20%5B-122.62207725923312%2C%2038.248050487302365%5D%2C%20%5B-122.62208027199242%2C%2038.24808129413665%5D%2C%20%5B-122.62207942991498%2C%2038.24811218481962%5D%2C%20%5B-122.62207474110569%2C%2038.24814286185702%5D%2C%20%5B-122.6220662507157%2C%2038.24817302981181%5D%2C%20%5B-122.62205404050779%2C%2038.24820239814922%5D%2C%20%5B-122.62203822806904%2C%2038.248230684035086%5D%2C%20%5B-122.62201896567873%2C%2038.24825761505943%5D%2C%20%5B-122.62199643884168%2C%2038.24828293186007%5D%2C%20%5B-122.621970864502%2C%2038.24830639062069%5D%2C%20%5B-122.62194248895388%2C%2038.24832776541871%5D%2C%20%5B-122.62191158546949%2C%2038.24834685040118%5D%2C%20%5B-122.62187845166747%2C%2038.248363461767575%5D%2C%20%5B-122.62184340664645%2C%2038.248377439539524%5D%2C%20%5B-122.62180678791194%2C%2038.248388649102026%5D%2C%20%5B-122.62176894812592%2C%2038.24839698249945%5D%2C%20%5B-122.62173025171025%2C%2038.248402359475755%5D%2C%20%5B-122.6216910713371%2C%2038.24840472824704%5D%2C%20%5B-122.62165178433956%2C%2038.24840406600045%5D%2C%20%5B-122.62161276907769%2C%2038.248400379113775%5D%2C%20%5B-122.6215744012944%2C%2038.24839370309437%5D%2C%20%5B-122.62153705049676%2C%2038.24838410223662%5D%2C%20%5B-122.62150107639724%2C%2038.248371669003184%5D%2C%20%5B-122.62146682544928%2C%2038.24835652313426%5D%2C%20%5B-122.62143462751072%2C%2038.24833881049457%5D%2C%20%5B-122.62140479266695%2C%2038.248318701668175%5D%2C%20%5B-122.62137760824457%2C%2038.248296390316035%5D%2C%20%5B-122.62135333604421%2C%2038.24827209131051%5D%2C%20%5B-122.62133220981929%2C%2038.248246038666075%5D%2C%20%5B-122.62131443302492%2C%2038.24821848328579%5D%2C%20%5B-122.62130017685847%2C%2038.24818969054448%5D%2C%20%5B-122.62128957861115%2C%2038.24815993773322%5D%2C%20%5B-122.62128274034579%2C%2038.248129511388996%5D%2C%20%5B-122.62127972791411%2C%2038.24809870453459%5D%5D%5D%2C%20%22type%22%3A%20%22Polygon%22%7D%2C%20%22id%22%3A%20%2228%22%2C%20%22properties%22%3A%20%7B%22district%22%3A%204%2C%20%22district_name%22%3A%20%22District%204%20-%20Oakland%22%2C%20%22feed_key_left%22%3A%20%22540e857d28ffdc628260ca22a21cb330%22%2C%20%22feed_key_right%22%3A%20%22540e857d28ffdc628260ca22a21cb330%22%2C%20%22gtfs_dataset_key_left%22%3A%20%22bc21582ac1ad2b7de0647dfd5b76f67c%22%2C%20%22gtfs_dataset_key_right%22%3A%20%22bc21582ac1ad2b7de0647dfd5b76f67c%22%2C%20%22index_right%22%3A%2020082%2C%20%22loop_or_inlining%22%3A%200%2C%20%22seg_idx%22%3A%2020122%2C%20%22shape_array_key_left%22%3A%20%2221aedea4c0d05c570e042903cc62c9cf%22%2C%20%22shape_array_key_right%22%3A%20%2221aedea4c0d05c570e042903cc62c9cf%22%2C%20%22stop_id%22%3A%20%2287202%22%2C%20%22stop_sequence%22%3A%200%2C%20%22trip_id%22%3A%20%22t120-sl9-p84-r1A%22%7D%2C%20%22type%22%3A%20%22Feature%22%7D%2C%20%7B%22bbox%22%3A%20%5B-122.62208027199242%2C%2038.2477752717634%2C%20-122.62127972791411%2C%2038.24840472824704%5D%2C%20%22geometry%22%3A%20%7B%22coordinates%22%3A%20%5B%5B%5B-122.62127972791411%2C%2038.24809870453459%5D%2C%20%5B-122.62128057032277%2C%2038.24806781385725%5D%2C%20%5B-122.62128525945415%2C%2038.24803713685097%5D%2C%20%5B-122.62129375014474%2C%2038.24800696895171%5D%2C%20%5B-122.62130596062016%2C%2038.24797760069185%5D%2C%20%5B-122.62132177328306%2C%2038.247949314902904%5D%2C%20%5B-122.62134103584557%2C%2038.24792238399094%5D%2C%20%5B-122.62136356279628%2C%2038.24789706731381%5D%2C%20%5B-122.62138913718664%2C%2038.24787360868306%5D%2C%20%5B-122.62141751272057%2C%2038.24785223401643%5D%2C%20%5B-122.62144841612638%2C%2038.247833149161615%5D%2C%20%5B-122.6214815497885%2C%2038.24781653791445%5D%2C%20%5B-122.6215165946137%2C%2038.24780256024856%5D%2C%20%5B-122.62155321310395%2C%2038.24779135077497%5D%2C%20%5B-122.62159105260666%2C%2038.24778301744582%5D%2C%20%5B-122.62162974871087%2C%2038.247777640514556%5D%2C%20%5B-122.6216689287564%2C%2038.2477752717634%5D%2C%20%5B-122.62170821542273%2C%2038.24777593400438%5D%2C%20%5B-122.6217472303625%2C%2038.247779620859845%5D%2C%20%5B-122.62178559784522%2C%2038.24778629682384%5D%2C%20%5B-122.62182294837534%2C%2038.24779589760393%5D%2C%20%5B-122.62185892225068%2C%2038.24780833074051%5D%2C%20%5B-122.62189317302644%2C%2038.24782347649704%5D%2C%20%5B-122.62192537085136%2C%2038.24784118901321%5D%2C%20%5B-122.62195520564444%2C%2038.24786129770968%5D%2C%20%5B-122.62198239008102%2C%2038.247883608930536%5D%2C%20%5B-122.62200666235995%2C%2038.24790790780836%5D%2C%20%5B-122.62202778872475%2C%2038.247933960333526%5D%2C%20%5B-122.62204556571496%2C%2038.247961515607784%5D%2C%20%5B-122.62205982212566%2C%2038.247990308260185%5D%2C%20%5B-122.62207042065629%2C%2038.248020061003146%5D%2C%20%5B-122.62207725923312%2C%2038.248050487302365%5D%2C%20%5B-122.62208027199242%2C%2038.24808129413665%5D%2C%20%5B-122.62207942991498%2C%2038.24811218481962%5D%2C%20%5B-122.62207474110569%2C%2038.24814286185702%5D%2C%20%5B-122.6220662507157%2C%2038.24817302981181%5D%2C%20%5B-122.62205404050779%2C%2038.24820239814922%5D%2C%20%5B-122.62203822806904%2C%2038.248230684035086%5D%2C%20%5B-122.62201896567873%2C%2038.24825761505943%5D%2C%20%5B-122.62199643884168%2C%2038.24828293186007%5D%2C%20%5B-122.621970864502%2C%2038.24830639062069%5D%2C%20%5B-122.62194248895388%2C%2038.24832776541871%5D%2C%20%5B-122.62191158546949%2C%2038.24834685040118%5D%2C%20%5B-122.62187845166747%2C%2038.248363461767575%5D%2C%20%5B-122.62184340664645%2C%2038.248377439539524%5D%2C%20%5B-122.62180678791194%2C%2038.248388649102026%5D%2C%20%5B-122.62176894812592%2C%2038.24839698249945%5D%2C%20%5B-122.62173025171025%2C%2038.248402359475755%5D%2C%20%5B-122.6216910713371%2C%2038.24840472824704%5D%2C%20%5B-122.62165178433956%2C%2038.24840406600045%5D%2C%20%5B-122.62161276907769%2C%2038.248400379113775%5D%2C%20%5B-122.6215744012944%2C%2038.24839370309437%5D%2C%20%5B-122.62153705049676%2C%2038.24838410223662%5D%2C%20%5B-122.62150107639724%2C%2038.248371669003184%5D%2C%20%5B-122.62146682544928%2C%2038.24835652313426%5D%2C%20%5B-122.62143462751072%2C%2038.24833881049457%5D%2C%20%5B-122.62140479266695%2C%2038.248318701668175%5D%2C%20%5B-122.62137760824457%2C%2038.248296390316035%5D%2C%20%5B-122.62135333604421%2C%2038.24827209131051%5D%2C%20%5B-122.62133220981929%2C%2038.248246038666075%5D%2C%20%5B-122.62131443302492%2C%2038.24821848328579%5D%2C%20%5B-122.62130017685847%2C%2038.24818969054448%5D%2C%20%5B-122.62128957861115%2C%2038.24815993773322%5D%2C%20%5B-122.62128274034579%2C%2038.248129511388996%5D%2C%20%5B-122.62127972791411%2C%2038.24809870453459%5D%5D%5D%2C%20%22type%22%3A%20%22Polygon%22%7D%2C%20%22id%22%3A%20%2229%22%2C%20%22properties%22%3A%20%7B%22district%22%3A%204%2C%20%22district_name%22%3A%20%22District%204%20-%20Oakland%22%2C%20%22feed_key_left%22%3A%20%22540e857d28ffdc628260ca22a21cb330%22%2C%20%22feed_key_right%22%3A%20%22540e857d28ffdc628260ca22a21cb330%22%2C%20%22gtfs_dataset_key_left%22%3A%20%22bc21582ac1ad2b7de0647dfd5b76f67c%22%2C%20%22gtfs_dataset_key_right%22%3A%20%22bc21582ac1ad2b7de0647dfd5b76f67c%22%2C%20%22index_right%22%3A%2020082%2C%20%22loop_or_inlining%22%3A%200%2C%20%22seg_idx%22%3A%2020122%2C%20%22shape_array_key_left%22%3A%20%2221aedea4c0d05c570e042903cc62c9cf%22%2C%20%22shape_array_key_right%22%3A%20%2221aedea4c0d05c570e042903cc62c9cf%22%2C%20%22stop_id%22%3A%20%2287202%22%2C%20%22stop_sequence%22%3A%200%2C%20%22trip_id%22%3A%20%22t120-sl9-p84-r1A%22%7D%2C%20%22type%22%3A%20%22Feature%22%7D%2C%20%7B%22bbox%22%3A%20%5B-122.62208027199242%2C%2038.2477752717634%2C%20-122.62127972791411%2C%2038.24840472824704%5D%2C%20%22geometry%22%3A%20%7B%22coordinates%22%3A%20%5B%5B%5B-122.62127972791411%2C%2038.24809870453459%5D%2C%20%5B-122.62128057032277%2C%2038.24806781385725%5D%2C%20%5B-122.62128525945415%2C%2038.24803713685097%5D%2C%20%5B-122.62129375014474%2C%2038.24800696895171%5D%2C%20%5B-122.62130596062016%2C%2038.24797760069185%5D%2C%20%5B-122.62132177328306%2C%2038.247949314902904%5D%2C%20%5B-122.62134103584557%2C%2038.24792238399094%5D%2C%20%5B-122.62136356279628%2C%2038.24789706731381%5D%2C%20%5B-122.62138913718664%2C%2038.24787360868306%5D%2C%20%5B-122.62141751272057%2C%2038.24785223401643%5D%2C%20%5B-122.62144841612638%2C%2038.247833149161615%5D%2C%20%5B-122.6214815497885%2C%2038.24781653791445%5D%2C%20%5B-122.6215165946137%2C%2038.24780256024856%5D%2C%20%5B-122.62155321310395%2C%2038.24779135077497%5D%2C%20%5B-122.62159105260666%2C%2038.24778301744582%5D%2C%20%5B-122.62162974871087%2C%2038.247777640514556%5D%2C%20%5B-122.6216689287564%2C%2038.2477752717634%5D%2C%20%5B-122.62170821542273%2C%2038.24777593400438%5D%2C%20%5B-122.6217472303625%2C%2038.247779620859845%5D%2C%20%5B-122.62178559784522%2C%2038.24778629682384%5D%2C%20%5B-122.62182294837534%2C%2038.24779589760393%5D%2C%20%5B-122.62185892225068%2C%2038.24780833074051%5D%2C%20%5B-122.62189317302644%2C%2038.24782347649704%5D%2C%20%5B-122.62192537085136%2C%2038.24784118901321%5D%2C%20%5B-122.62195520564444%2C%2038.24786129770968%5D%2C%20%5B-122.62198239008102%2C%2038.247883608930536%5D%2C%20%5B-122.62200666235995%2C%2038.24790790780836%5D%2C%20%5B-122.62202778872475%2C%2038.247933960333526%5D%2C%20%5B-122.62204556571496%2C%2038.247961515607784%5D%2C%20%5B-122.62205982212566%2C%2038.247990308260185%5D%2C%20%5B-122.62207042065629%2C%2038.248020061003146%5D%2C%20%5B-122.62207725923312%2C%2038.248050487302365%5D%2C%20%5B-122.62208027199242%2C%2038.24808129413665%5D%2C%20%5B-122.62207942991498%2C%2038.24811218481962%5D%2C%20%5B-122.62207474110569%2C%2038.24814286185702%5D%2C%20%5B-122.6220662507157%2C%2038.24817302981181%5D%2C%20%5B-122.62205404050779%2C%2038.24820239814922%5D%2C%20%5B-122.62203822806904%2C%2038.248230684035086%5D%2C%20%5B-122.62201896567873%2C%2038.24825761505943%5D%2C%20%5B-122.62199643884168%2C%2038.24828293186007%5D%2C%20%5B-122.621970864502%2C%2038.24830639062069%5D%2C%20%5B-122.62194248895388%2C%2038.24832776541871%5D%2C%20%5B-122.62191158546949%2C%2038.24834685040118%5D%2C%20%5B-122.62187845166747%2C%2038.248363461767575%5D%2C%20%5B-122.62184340664645%2C%2038.248377439539524%5D%2C%20%5B-122.62180678791194%2C%2038.248388649102026%5D%2C%20%5B-122.62176894812592%2C%2038.24839698249945%5D%2C%20%5B-122.62173025171025%2C%2038.248402359475755%5D%2C%20%5B-122.6216910713371%2C%2038.24840472824704%5D%2C%20%5B-122.62165178433956%2C%2038.24840406600045%5D%2C%20%5B-122.62161276907769%2C%2038.248400379113775%5D%2C%20%5B-122.6215744012944%2C%2038.24839370309437%5D%2C%20%5B-122.62153705049676%2C%2038.24838410223662%5D%2C%20%5B-122.62150107639724%2C%2038.248371669003184%5D%2C%20%5B-122.62146682544928%2C%2038.24835652313426%5D%2C%20%5B-122.62143462751072%2C%2038.24833881049457%5D%2C%20%5B-122.62140479266695%2C%2038.248318701668175%5D%2C%20%5B-122.62137760824457%2C%2038.248296390316035%5D%2C%20%5B-122.62135333604421%2C%2038.24827209131051%5D%2C%20%5B-122.62133220981929%2C%2038.248246038666075%5D%2C%20%5B-122.62131443302492%2C%2038.24821848328579%5D%2C%20%5B-122.62130017685847%2C%2038.24818969054448%5D%2C%20%5B-122.62128957861115%2C%2038.24815993773322%5D%2C%20%5B-122.62128274034579%2C%2038.248129511388996%5D%2C%20%5B-122.62127972791411%2C%2038.24809870453459%5D%5D%5D%2C%20%22type%22%3A%20%22Polygon%22%7D%2C%20%22id%22%3A%20%2230%22%2C%20%22properties%22%3A%20%7B%22district%22%3A%204%2C%20%22district_name%22%3A%20%22District%204%20-%20Oakland%22%2C%20%22feed_key_left%22%3A%20%22540e857d28ffdc628260ca22a21cb330%22%2C%20%22feed_key_right%22%3A%20%22540e857d28ffdc628260ca22a21cb330%22%2C%20%22gtfs_dataset_key_left%22%3A%20%22bc21582ac1ad2b7de0647dfd5b76f67c%22%2C%20%22gtfs_dataset_key_right%22%3A%20%22bc21582ac1ad2b7de0647dfd5b76f67c%22%2C%20%22index_right%22%3A%2020082%2C%20%22loop_or_inlining%22%3A%200%2C%20%22seg_idx%22%3A%2020122%2C%20%22shape_array_key_left%22%3A%20%2221aedea4c0d05c570e042903cc62c9cf%22%2C%20%22shape_array_key_right%22%3A%20%2221aedea4c0d05c570e042903cc62c9cf%22%2C%20%22stop_id%22%3A%20%2287202%22%2C%20%22stop_sequence%22%3A%200%2C%20%22trip_id%22%3A%20%22t120-sl9-p84-r1A%22%7D%2C%20%22type%22%3A%20%22Feature%22%7D%2C%20%7B%22bbox%22%3A%20%5B-122.62208027199242%2C%2038.2477752717634%2C%20-122.62127972791411%2C%2038.24840472824704%5D%2C%20%22geometry%22%3A%20%7B%22coordinates%22%3A%20%5B%5B%5B-122.62127972791411%2C%2038.24809870453459%5D%2C%20%5B-122.62128057032277%2C%2038.24806781385725%5D%2C%20%5B-122.62128525945415%2C%2038.24803713685097%5D%2C%20%5B-122.62129375014474%2C%2038.24800696895171%5D%2C%20%5B-122.62130596062016%2C%2038.24797760069185%5D%2C%20%5B-122.62132177328306%2C%2038.247949314902904%5D%2C%20%5B-122.62134103584557%2C%2038.24792238399094%5D%2C%20%5B-122.62136356279628%2C%2038.24789706731381%5D%2C%20%5B-122.62138913718664%2C%2038.24787360868306%5D%2C%20%5B-122.62141751272057%2C%2038.24785223401643%5D%2C%20%5B-122.62144841612638%2C%2038.247833149161615%5D%2C%20%5B-122.6214815497885%2C%2038.24781653791445%5D%2C%20%5B-122.6215165946137%2C%2038.24780256024856%5D%2C%20%5B-122.62155321310395%2C%2038.24779135077497%5D%2C%20%5B-122.62159105260666%2C%2038.24778301744582%5D%2C%20%5B-122.62162974871087%2C%2038.247777640514556%5D%2C%20%5B-122.6216689287564%2C%2038.2477752717634%5D%2C%20%5B-122.62170821542273%2C%2038.24777593400438%5D%2C%20%5B-122.6217472303625%2C%2038.247779620859845%5D%2C%20%5B-122.62178559784522%2C%2038.24778629682384%5D%2C%20%5B-122.62182294837534%2C%2038.24779589760393%5D%2C%20%5B-122.62185892225068%2C%2038.24780833074051%5D%2C%20%5B-122.62189317302644%2C%2038.24782347649704%5D%2C%20%5B-122.62192537085136%2C%2038.24784118901321%5D%2C%20%5B-122.62195520564444%2C%2038.24786129770968%5D%2C%20%5B-122.62198239008102%2C%2038.247883608930536%5D%2C%20%5B-122.62200666235995%2C%2038.24790790780836%5D%2C%20%5B-122.62202778872475%2C%2038.247933960333526%5D%2C%20%5B-122.62204556571496%2C%2038.247961515607784%5D%2C%20%5B-122.62205982212566%2C%2038.247990308260185%5D%2C%20%5B-122.62207042065629%2C%2038.248020061003146%5D%2C%20%5B-122.62207725923312%2C%2038.248050487302365%5D%2C%20%5B-122.62208027199242%2C%2038.24808129413665%5D%2C%20%5B-122.62207942991498%2C%2038.24811218481962%5D%2C%20%5B-122.62207474110569%2C%2038.24814286185702%5D%2C%20%5B-122.6220662507157%2C%2038.24817302981181%5D%2C%20%5B-122.62205404050779%2C%2038.24820239814922%5D%2C%20%5B-122.62203822806904%2C%2038.248230684035086%5D%2C%20%5B-122.62201896567873%2C%2038.24825761505943%5D%2C%20%5B-122.62199643884168%2C%2038.24828293186007%5D%2C%20%5B-122.621970864502%2C%2038.24830639062069%5D%2C%20%5B-122.62194248895388%2C%2038.24832776541871%5D%2C%20%5B-122.62191158546949%2C%2038.24834685040118%5D%2C%20%5B-122.62187845166747%2C%2038.248363461767575%5D%2C%20%5B-122.62184340664645%2C%2038.248377439539524%5D%2C%20%5B-122.62180678791194%2C%2038.248388649102026%5D%2C%20%5B-122.62176894812592%2C%2038.24839698249945%5D%2C%20%5B-122.62173025171025%2C%2038.248402359475755%5D%2C%20%5B-122.6216910713371%2C%2038.24840472824704%5D%2C%20%5B-122.62165178433956%2C%2038.24840406600045%5D%2C%20%5B-122.62161276907769%2C%2038.248400379113775%5D%2C%20%5B-122.6215744012944%2C%2038.24839370309437%5D%2C%20%5B-122.62153705049676%2C%2038.24838410223662%5D%2C%20%5B-122.62150107639724%2C%2038.248371669003184%5D%2C%20%5B-122.62146682544928%2C%2038.24835652313426%5D%2C%20%5B-122.62143462751072%2C%2038.24833881049457%5D%2C%20%5B-122.62140479266695%2C%2038.248318701668175%5D%2C%20%5B-122.62137760824457%2C%2038.248296390316035%5D%2C%20%5B-122.62135333604421%2C%2038.24827209131051%5D%2C%20%5B-122.62133220981929%2C%2038.248246038666075%5D%2C%20%5B-122.62131443302492%2C%2038.24821848328579%5D%2C%20%5B-122.62130017685847%2C%2038.24818969054448%5D%2C%20%5B-122.62128957861115%2C%2038.24815993773322%5D%2C%20%5B-122.62128274034579%2C%2038.248129511388996%5D%2C%20%5B-122.62127972791411%2C%2038.24809870453459%5D%5D%5D%2C%20%22type%22%3A%20%22Polygon%22%7D%2C%20%22id%22%3A%20%2231%22%2C%20%22properties%22%3A%20%7B%22district%22%3A%204%2C%20%22district_name%22%3A%20%22District%204%20-%20Oakland%22%2C%20%22feed_key_left%22%3A%20%22540e857d28ffdc628260ca22a21cb330%22%2C%20%22feed_key_right%22%3A%20%22540e857d28ffdc628260ca22a21cb330%22%2C%20%22gtfs_dataset_key_left%22%3A%20%22bc21582ac1ad2b7de0647dfd5b76f67c%22%2C%20%22gtfs_dataset_key_right%22%3A%20%22bc21582ac1ad2b7de0647dfd5b76f67c%22%2C%20%22index_right%22%3A%2020082%2C%20%22loop_or_inlining%22%3A%200%2C%20%22seg_idx%22%3A%2020122%2C%20%22shape_array_key_left%22%3A%20%2221aedea4c0d05c570e042903cc62c9cf%22%2C%20%22shape_array_key_right%22%3A%20%2221aedea4c0d05c570e042903cc62c9cf%22%2C%20%22stop_id%22%3A%20%2287202%22%2C%20%22stop_sequence%22%3A%200%2C%20%22trip_id%22%3A%20%22t120-sl9-p84-r1A%22%7D%2C%20%22type%22%3A%20%22Feature%22%7D%2C%20%7B%22bbox%22%3A%20%5B-122.62208027199242%2C%2038.2477752717634%2C%20-122.62127972791411%2C%2038.24840472824704%5D%2C%20%22geometry%22%3A%20%7B%22coordinates%22%3A%20%5B%5B%5B-122.62127972791411%2C%2038.24809870453459%5D%2C%20%5B-122.62128057032277%2C%2038.24806781385725%5D%2C%20%5B-122.62128525945415%2C%2038.24803713685097%5D%2C%20%5B-122.62129375014474%2C%2038.24800696895171%5D%2C%20%5B-122.62130596062016%2C%2038.24797760069185%5D%2C%20%5B-122.62132177328306%2C%2038.247949314902904%5D%2C%20%5B-122.62134103584557%2C%2038.24792238399094%5D%2C%20%5B-122.62136356279628%2C%2038.24789706731381%5D%2C%20%5B-122.62138913718664%2C%2038.24787360868306%5D%2C%20%5B-122.62141751272057%2C%2038.24785223401643%5D%2C%20%5B-122.62144841612638%2C%2038.247833149161615%5D%2C%20%5B-122.6214815497885%2C%2038.24781653791445%5D%2C%20%5B-122.6215165946137%2C%2038.24780256024856%5D%2C%20%5B-122.62155321310395%2C%2038.24779135077497%5D%2C%20%5B-122.62159105260666%2C%2038.24778301744582%5D%2C%20%5B-122.62162974871087%2C%2038.247777640514556%5D%2C%20%5B-122.6216689287564%2C%2038.2477752717634%5D%2C%20%5B-122.62170821542273%2C%2038.24777593400438%5D%2C%20%5B-122.6217472303625%2C%2038.247779620859845%5D%2C%20%5B-122.62178559784522%2C%2038.24778629682384%5D%2C%20%5B-122.62182294837534%2C%2038.24779589760393%5D%2C%20%5B-122.62185892225068%2C%2038.24780833074051%5D%2C%20%5B-122.62189317302644%2C%2038.24782347649704%5D%2C%20%5B-122.62192537085136%2C%2038.24784118901321%5D%2C%20%5B-122.62195520564444%2C%2038.24786129770968%5D%2C%20%5B-122.62198239008102%2C%2038.247883608930536%5D%2C%20%5B-122.62200666235995%2C%2038.24790790780836%5D%2C%20%5B-122.62202778872475%2C%2038.247933960333526%5D%2C%20%5B-122.62204556571496%2C%2038.247961515607784%5D%2C%20%5B-122.62205982212566%2C%2038.247990308260185%5D%2C%20%5B-122.62207042065629%2C%2038.248020061003146%5D%2C%20%5B-122.62207725923312%2C%2038.248050487302365%5D%2C%20%5B-122.62208027199242%2C%2038.24808129413665%5D%2C%20%5B-122.62207942991498%2C%2038.24811218481962%5D%2C%20%5B-122.62207474110569%2C%2038.24814286185702%5D%2C%20%5B-122.6220662507157%2C%2038.24817302981181%5D%2C%20%5B-122.62205404050779%2C%2038.24820239814922%5D%2C%20%5B-122.62203822806904%2C%2038.248230684035086%5D%2C%20%5B-122.62201896567873%2C%2038.24825761505943%5D%2C%20%5B-122.62199643884168%2C%2038.24828293186007%5D%2C%20%5B-122.621970864502%2C%2038.24830639062069%5D%2C%20%5B-122.62194248895388%2C%2038.24832776541871%5D%2C%20%5B-122.62191158546949%2C%2038.24834685040118%5D%2C%20%5B-122.62187845166747%2C%2038.248363461767575%5D%2C%20%5B-122.62184340664645%2C%2038.248377439539524%5D%2C%20%5B-122.62180678791194%2C%2038.248388649102026%5D%2C%20%5B-122.62176894812592%2C%2038.24839698249945%5D%2C%20%5B-122.62173025171025%2C%2038.248402359475755%5D%2C%20%5B-122.6216910713371%2C%2038.24840472824704%5D%2C%20%5B-122.62165178433956%2C%2038.24840406600045%5D%2C%20%5B-122.62161276907769%2C%2038.248400379113775%5D%2C%20%5B-122.6215744012944%2C%2038.24839370309437%5D%2C%20%5B-122.62153705049676%2C%2038.24838410223662%5D%2C%20%5B-122.62150107639724%2C%2038.248371669003184%5D%2C%20%5B-122.62146682544928%2C%2038.24835652313426%5D%2C%20%5B-122.62143462751072%2C%2038.24833881049457%5D%2C%20%5B-122.62140479266695%2C%2038.248318701668175%5D%2C%20%5B-122.62137760824457%2C%2038.248296390316035%5D%2C%20%5B-122.62135333604421%2C%2038.24827209131051%5D%2C%20%5B-122.62133220981929%2C%2038.248246038666075%5D%2C%20%5B-122.62131443302492%2C%2038.24821848328579%5D%2C%20%5B-122.62130017685847%2C%2038.24818969054448%5D%2C%20%5B-122.62128957861115%2C%2038.24815993773322%5D%2C%20%5B-122.62128274034579%2C%2038.248129511388996%5D%2C%20%5B-122.62127972791411%2C%2038.24809870453459%5D%5D%5D%2C%20%22type%22%3A%20%22Polygon%22%7D%2C%20%22id%22%3A%20%2232%22%2C%20%22properties%22%3A%20%7B%22district%22%3A%204%2C%20%22district_name%22%3A%20%22District%204%20-%20Oakland%22%2C%20%22feed_key_left%22%3A%20%22540e857d28ffdc628260ca22a21cb330%22%2C%20%22feed_key_right%22%3A%20%22540e857d28ffdc628260ca22a21cb330%22%2C%20%22gtfs_dataset_key_left%22%3A%20%22bc21582ac1ad2b7de0647dfd5b76f67c%22%2C%20%22gtfs_dataset_key_right%22%3A%20%22bc21582ac1ad2b7de0647dfd5b76f67c%22%2C%20%22index_right%22%3A%2020082%2C%20%22loop_or_inlining%22%3A%200%2C%20%22seg_idx%22%3A%2020122%2C%20%22shape_array_key_left%22%3A%20%2221aedea4c0d05c570e042903cc62c9cf%22%2C%20%22shape_array_key_right%22%3A%20%2221aedea4c0d05c570e042903cc62c9cf%22%2C%20%22stop_id%22%3A%20%2287202%22%2C%20%22stop_sequence%22%3A%200%2C%20%22trip_id%22%3A%20%22t120-sl9-p84-r1A%22%7D%2C%20%22type%22%3A%20%22Feature%22%7D%2C%20%7B%22bbox%22%3A%20%5B-122.62208027199242%2C%2038.2477752717634%2C%20-122.62127972791411%2C%2038.24840472824704%5D%2C%20%22geometry%22%3A%20%7B%22coordinates%22%3A%20%5B%5B%5B-122.62127972791411%2C%2038.24809870453459%5D%2C%20%5B-122.62128057032277%2C%2038.24806781385725%5D%2C%20%5B-122.62128525945415%2C%2038.24803713685097%5D%2C%20%5B-122.62129375014474%2C%2038.24800696895171%5D%2C%20%5B-122.62130596062016%2C%2038.24797760069185%5D%2C%20%5B-122.62132177328306%2C%2038.247949314902904%5D%2C%20%5B-122.62134103584557%2C%2038.24792238399094%5D%2C%20%5B-122.62136356279628%2C%2038.24789706731381%5D%2C%20%5B-122.62138913718664%2C%2038.24787360868306%5D%2C%20%5B-122.62141751272057%2C%2038.24785223401643%5D%2C%20%5B-122.62144841612638%2C%2038.247833149161615%5D%2C%20%5B-122.6214815497885%2C%2038.24781653791445%5D%2C%20%5B-122.6215165946137%2C%2038.24780256024856%5D%2C%20%5B-122.62155321310395%2C%2038.24779135077497%5D%2C%20%5B-122.62159105260666%2C%2038.24778301744582%5D%2C%20%5B-122.62162974871087%2C%2038.247777640514556%5D%2C%20%5B-122.6216689287564%2C%2038.2477752717634%5D%2C%20%5B-122.62170821542273%2C%2038.24777593400438%5D%2C%20%5B-122.6217472303625%2C%2038.247779620859845%5D%2C%20%5B-122.62178559784522%2C%2038.24778629682384%5D%2C%20%5B-122.62182294837534%2C%2038.24779589760393%5D%2C%20%5B-122.62185892225068%2C%2038.24780833074051%5D%2C%20%5B-122.62189317302644%2C%2038.24782347649704%5D%2C%20%5B-122.62192537085136%2C%2038.24784118901321%5D%2C%20%5B-122.62195520564444%2C%2038.24786129770968%5D%2C%20%5B-122.62198239008102%2C%2038.247883608930536%5D%2C%20%5B-122.62200666235995%2C%2038.24790790780836%5D%2C%20%5B-122.62202778872475%2C%2038.247933960333526%5D%2C%20%5B-122.62204556571496%2C%2038.247961515607784%5D%2C%20%5B-122.62205982212566%2C%2038.247990308260185%5D%2C%20%5B-122.62207042065629%2C%2038.248020061003146%5D%2C%20%5B-122.62207725923312%2C%2038.248050487302365%5D%2C%20%5B-122.62208027199242%2C%2038.24808129413665%5D%2C%20%5B-122.62207942991498%2C%2038.24811218481962%5D%2C%20%5B-122.62207474110569%2C%2038.24814286185702%5D%2C%20%5B-122.6220662507157%2C%2038.24817302981181%5D%2C%20%5B-122.62205404050779%2C%2038.24820239814922%5D%2C%20%5B-122.62203822806904%2C%2038.248230684035086%5D%2C%20%5B-122.62201896567873%2C%2038.24825761505943%5D%2C%20%5B-122.62199643884168%2C%2038.24828293186007%5D%2C%20%5B-122.621970864502%2C%2038.24830639062069%5D%2C%20%5B-122.62194248895388%2C%2038.24832776541871%5D%2C%20%5B-122.62191158546949%2C%2038.24834685040118%5D%2C%20%5B-122.62187845166747%2C%2038.248363461767575%5D%2C%20%5B-122.62184340664645%2C%2038.248377439539524%5D%2C%20%5B-122.62180678791194%2C%2038.248388649102026%5D%2C%20%5B-122.62176894812592%2C%2038.24839698249945%5D%2C%20%5B-122.62173025171025%2C%2038.248402359475755%5D%2C%20%5B-122.6216910713371%2C%2038.24840472824704%5D%2C%20%5B-122.62165178433956%2C%2038.24840406600045%5D%2C%20%5B-122.62161276907769%2C%2038.248400379113775%5D%2C%20%5B-122.6215744012944%2C%2038.24839370309437%5D%2C%20%5B-122.62153705049676%2C%2038.24838410223662%5D%2C%20%5B-122.62150107639724%2C%2038.248371669003184%5D%2C%20%5B-122.62146682544928%2C%2038.24835652313426%5D%2C%20%5B-122.62143462751072%2C%2038.24833881049457%5D%2C%20%5B-122.62140479266695%2C%2038.248318701668175%5D%2C%20%5B-122.62137760824457%2C%2038.248296390316035%5D%2C%20%5B-122.62135333604421%2C%2038.24827209131051%5D%2C%20%5B-122.62133220981929%2C%2038.248246038666075%5D%2C%20%5B-122.62131443302492%2C%2038.24821848328579%5D%2C%20%5B-122.62130017685847%2C%2038.24818969054448%5D%2C%20%5B-122.62128957861115%2C%2038.24815993773322%5D%2C%20%5B-122.62128274034579%2C%2038.248129511388996%5D%2C%20%5B-122.62127972791411%2C%2038.24809870453459%5D%5D%5D%2C%20%22type%22%3A%20%22Polygon%22%7D%2C%20%22id%22%3A%20%2233%22%2C%20%22properties%22%3A%20%7B%22district%22%3A%204%2C%20%22district_name%22%3A%20%22District%204%20-%20Oakland%22%2C%20%22feed_key_left%22%3A%20%22540e857d28ffdc628260ca22a21cb330%22%2C%20%22feed_key_right%22%3A%20%22540e857d28ffdc628260ca22a21cb330%22%2C%20%22gtfs_dataset_key_left%22%3A%20%22bc21582ac1ad2b7de0647dfd5b76f67c%22%2C%20%22gtfs_dataset_key_right%22%3A%20%22bc21582ac1ad2b7de0647dfd5b76f67c%22%2C%20%22index_right%22%3A%2020082%2C%20%22loop_or_inlining%22%3A%200%2C%20%22seg_idx%22%3A%2020122%2C%20%22shape_array_key_left%22%3A%20%2221aedea4c0d05c570e042903cc62c9cf%22%2C%20%22shape_array_key_right%22%3A%20%2221aedea4c0d05c570e042903cc62c9cf%22%2C%20%22stop_id%22%3A%20%2287202%22%2C%20%22stop_sequence%22%3A%200%2C%20%22trip_id%22%3A%20%22t120-sl9-p84-r1A%22%7D%2C%20%22type%22%3A%20%22Feature%22%7D%2C%20%7B%22bbox%22%3A%20%5B-122.6313852040316%2C%2038.2469653226834%2C%20-122.62127995136046%2C%2038.252366313938204%5D%2C%20%22geometry%22%3A%20%7B%22coordinates%22%3A%20%5B%5B%5B-122.62252178102098%2C%2038.24771873501208%5D%2C%20%5B-122.62221501086226%2C%2038.24805390998142%5D%2C%20%5B-122.62221025617347%2C%2038.248058996550924%5D%2C%20%5B-122.62200025658619%2C%2038.24827899711347%5D%2C%20%5B-122.62197515436611%2C%2038.24830276905272%5D%2C%20%5B-122.62194720962387%2C%2038.24832449190733%5D%2C%20%5B-122.62191669148268%2C%2038.24834395647248%5D%2C%20%5B-122.6218838938499%2C%2038.24836097529197%5D%2C%20%5B-122.62184913258652%2C%2038.248375384463316%5D%2C%20%5B-122.62181274246527%2C%2038.248387045216965%5D%2C%20%5B-122.62177507394624%2C%2038.248395845252034%5D%2C%20%5B-122.62173648980193%2C%2038.24840169981842%5D%2C%20%5B-122.62169736162313%2C%2038.24840455253271%5D%2C%20%5B-122.62165806624031%2C%2038.248404375921375%5D%2C%20%5B-122.62161898209426%2C%2038.24840117168526%5D%2C%20%5B-122.62158048559131%2C%2038.248394970683385%5D%2C%20%5B-122.62154294747826%2C%2038.24838583263546%5D%2C%20%5B-122.62150672927156%2C%2038.2483738455469%5D%2C%20%5B-122.6214721797757%2C%2038.248359124861445%5D%2C%20%5B-122.6214396317238%2C%2038.24834181234878%5D%2C%20%5B-122.6214093985732%2C%2038.24832207473966%5D%2C%20%5B-122.62138177148654%2C%2038.24830010211991%5D%2C%20%5B-122.62135701652767%2C%2038.24827610609981%5D%2C%20%5B-122.62133537209945%2C%2038.24825031777594%5D%2C%20%5B-122.62131704664762%2C%2038.24822298550571%5D%2C%20%5B-122.62130221665365%2C%2038.24819437251547%5D%2C%20%5B-122.62129102493503%2C%2038.24816475436515%5D%2C%20%5B-122.62128357927018%2C%2038.24813441629485%5D%2C%20%5B-122.62127995136046%2C%2038.248103650477425%5D%2C%20%5B-122.62128017613993%2C%2038.24807275320489%5D%2C%20%5B-122.6212842514391%2C%2038.24804202203487%5D%2C%20%5B-122.6212921380059%2C%2038.24801175292487%5D%2C%20%5B-122.621303759884%2C%2038.24798223738231%5D%2C%20%5B-122.62131900514441%2C%2038.24795375965684%5D%2C%20%5B-122.62133772696363%2C%2038.24792659400329%5D%2C%20%5B-122.62135974503772%2C%2038.24790100204006%5D%2C%20%5B-122.62156733566843%2C%2038.24768352713417%5D%2C%20%5B-122.62210499198143%2C%2038.2470960906146%5D%2C%20%5B-122.62212943598402%2C%2038.24707196932626%5D%2C%20%5B-122.6221567641929%2C%2038.24704984431078%5D%2C%20%5B-122.62218671436477%2C%2038.24702992787931%5D%2C%20%5B-122.62221899909675%2C%2038.247012411149214%5D%2C%20%5B-122.62225330858435%2C%2038.24699746221035%5D%2C%20%5B-122.62228931359414%2C%2038.246985224512024%5D%2C%20%5B-122.62232666862315%2C%2038.246975815486536%5D%2C%20%5B-122.62236501521416%2C%2038.24696932542245%5D%2C%20%5B-122.6224039853953%2C%2038.246965816597886%5D%2C%20%5B-122.62244320521101%2C%2038.2469653226834%5D%2C%20%5B-122.6224822983103%2C%2038.246967848418635%5D%2C%20%5B-122.62252088955816%2C%2038.246973369566625%5D%2C%20%5B-122.62255860863512%2C%2038.2469818331469%5D%2C%20%5B-122.62259509359063%2C%2038.24699315794342%5D%2C%20%5B-122.6226299943164%2C%2038.24700723528393%5D%2C%20%5B-122.6226629759057%2C%2038.24702393008311%5D%2C%20%5B-122.62298261850819%2C%2038.24720372872657%5D%2C%20%5B-122.62606927490589%2C%2038.248931853743734%5D%2C%20%5B-122.62645625495048%2C%2038.24914022725766%5D%2C%20%5B-122.62646166301622%2C%2038.249143190979844%5D%2C%20%5B-122.6312165675439%2C%2038.251794768880444%5D%2C%20%5B-122.63124746823019%2C%2038.2518138581098%5D%2C%20%5B-122.63127584038698%2C%2038.251835236794804%5D%2C%20%5B-122.63130141077514%2C%2038.2518586990491%5D%2C%20%5B-122.63132393313711%2C%2038.25188401892011%5D%2C%20%5B-122.63134319056859%2C%2038.25191095256547%5D%2C%20%5B-122.63135899760749%2C%2038.251939240601075%5D%2C%20%5B-122.63137120202019%2C%2038.251968610599015%5D%2C%20%5B-122.63137968626764%2C%2038.25199877971132%5D%2C%20%5B-122.63138436863757%2C%2038.25202945739373%5D%2C%20%5B-122.6313852040316%2C%2038.252060348203855%5D%2C%20%5B-122.6313821843996%2C%2038.25209115464635%5D%2C%20%5B-122.63137533881759%2C%2038.2521215800381%5D%2C%20%5B-122.6313647332078%2C%2038.25215133136522%5D%2C%20%5B-122.63135046970393%2C%2038.25218012210527%5D%2C%20%5B-122.63133268566786%2C%2038.25220767498639%5D%2C%20%5B-122.63131155236668%2C%2038.25223372465767%5D%2C%20%5B-122.63128727332366%2C%2038.25225802024491%5D%2C%20%5B-122.63126008235817%2C%2038.25228032776637%5D%2C%20%5B-122.63123024133381%2C%2038.25230043238671%5D%2C%20%5B-122.63119803763671%2C%2038.25231814048539%5D%2C%20%5B-122.63116378140774%2C%2038.252333281522056%5D%2C%20%5B-122.63112780255553%2C%2038.25234570967864%5D%2C%20%5B-122.63109044757937%2C%2038.25235530526375%5D%2C%20%5B-122.63105207623194%2C%2038.25236197586554%5D%2C%20%5B-122.63101305805463%2C%2038.252365657241754%5D%2C%20%5B-122.63097376881848%2C%2038.252366313938204%5D%2C%20%5B-122.63093458690501%2C%2038.25236393963048%5D%2C%20%5B-122.63089588966227%2C%2038.25235855718481%5D%2C%20%5B-122.63085804977028%2C%2038.25235021843762%5D%2C%20%5B-122.63082143165198%2C%2038.252339003696676%5D%2C%20%5B-122.63078638796341%2C%2038.25232502096731%5D%2C%20%5B-122.63075325619725%2C%2038.25230840491239%5D%2C%20%5B-122.62600102391636%2C%2038.24965830795512%5D%2C%20%5B-122.62561374275097%2C%2038.249449771587436%5D%2C%20%5B-122.62560774255401%2C%2038.24944647695458%5D%2C%20%5B-122.62252178102098%2C%2038.24771873501208%5D%5D%5D%2C%20%22type%22%3A%20%22Polygon%22%7D%2C%20%22id%22%3A%20%2234%22%2C%20%22properties%22%3A%20%7B%22district%22%3A%204%2C%20%22district_name%22%3A%20%22District%204%20-%20Oakland%22%2C%20%22feed_key_left%22%3A%20%22540e857d28ffdc628260ca22a21cb330%22%2C%20%22feed_key_right%22%3A%20%22540e857d28ffdc628260ca22a21cb330%22%2C%20%22gtfs_dataset_key_left%22%3A%20%22bc21582ac1ad2b7de0647dfd5b76f67c%22%2C%20%22gtfs_dataset_key_right%22%3A%20%22bc21582ac1ad2b7de0647dfd5b76f67c%22%2C%20%22index_right%22%3A%2020083%2C%20%22loop_or_inlining%22%3A%200%2C%20%22seg_idx%22%3A%2020123%2C%20%22shape_array_key_left%22%3A%20%2221aedea4c0d05c570e042903cc62c9cf%22%2C%20%22shape_array_key_right%22%3A%20%2221aedea4c0d05c570e042903cc62c9cf%22%2C%20%22stop_id%22%3A%20%2287500%22%2C%20%22stop_sequence%22%3A%20105%2C%20%22trip_id%22%3A%20%22t120-sl9-p84-r1A%22%7D%2C%20%22type%22%3A%20%22Feature%22%7D%2C%20%7B%22bbox%22%3A%20%5B-122.6313852040316%2C%2038.2469653226834%2C%20-122.62127995136046%2C%2038.252366313938204%5D%2C%20%22geometry%22%3A%20%7B%22coordinates%22%3A%20%5B%5B%5B-122.62252178102098%2C%2038.24771873501208%5D%2C%20%5B-122.62221501086226%2C%2038.24805390998142%5D%2C%20%5B-122.62221025617347%2C%2038.248058996550924%5D%2C%20%5B-122.62200025658619%2C%2038.24827899711347%5D%2C%20%5B-122.62197515436611%2C%2038.24830276905272%5D%2C%20%5B-122.62194720962387%2C%2038.24832449190733%5D%2C%20%5B-122.62191669148268%2C%2038.24834395647248%5D%2C%20%5B-122.6218838938499%2C%2038.24836097529197%5D%2C%20%5B-122.62184913258652%2C%2038.248375384463316%5D%2C%20%5B-122.62181274246527%2C%2038.248387045216965%5D%2C%20%5B-122.62177507394624%2C%2038.248395845252034%5D%2C%20%5B-122.62173648980193%2C%2038.24840169981842%5D%2C%20%5B-122.62169736162313%2C%2038.24840455253271%5D%2C%20%5B-122.62165806624031%2C%2038.248404375921375%5D%2C%20%5B-122.62161898209426%2C%2038.24840117168526%5D%2C%20%5B-122.62158048559131%2C%2038.248394970683385%5D%2C%20%5B-122.62154294747826%2C%2038.24838583263546%5D%2C%20%5B-122.62150672927156%2C%2038.2483738455469%5D%2C%20%5B-122.6214721797757%2C%2038.248359124861445%5D%2C%20%5B-122.6214396317238%2C%2038.24834181234878%5D%2C%20%5B-122.6214093985732%2C%2038.24832207473966%5D%2C%20%5B-122.62138177148654%2C%2038.24830010211991%5D%2C%20%5B-122.62135701652767%2C%2038.24827610609981%5D%2C%20%5B-122.62133537209945%2C%2038.24825031777594%5D%2C%20%5B-122.62131704664762%2C%2038.24822298550571%5D%2C%20%5B-122.62130221665365%2C%2038.24819437251547%5D%2C%20%5B-122.62129102493503%2C%2038.24816475436515%5D%2C%20%5B-122.62128357927018%2C%2038.24813441629485%5D%2C%20%5B-122.62127995136046%2C%2038.248103650477425%5D%2C%20%5B-122.62128017613993%2C%2038.24807275320489%5D%2C%20%5B-122.6212842514391%2C%2038.24804202203487%5D%2C%20%5B-122.6212921380059%2C%2038.24801175292487%5D%2C%20%5B-122.621303759884%2C%2038.24798223738231%5D%2C%20%5B-122.62131900514441%2C%2038.24795375965684%5D%2C%20%5B-122.62133772696363%2C%2038.24792659400329%5D%2C%20%5B-122.62135974503772%2C%2038.24790100204006%5D%2C%20%5B-122.62156733566843%2C%2038.24768352713417%5D%2C%20%5B-122.62210499198143%2C%2038.2470960906146%5D%2C%20%5B-122.62212943598402%2C%2038.24707196932626%5D%2C%20%5B-122.6221567641929%2C%2038.24704984431078%5D%2C%20%5B-122.62218671436477%2C%2038.24702992787931%5D%2C%20%5B-122.62221899909675%2C%2038.247012411149214%5D%2C%20%5B-122.62225330858435%2C%2038.24699746221035%5D%2C%20%5B-122.62228931359414%2C%2038.246985224512024%5D%2C%20%5B-122.62232666862315%2C%2038.246975815486536%5D%2C%20%5B-122.62236501521416%2C%2038.24696932542245%5D%2C%20%5B-122.6224039853953%2C%2038.246965816597886%5D%2C%20%5B-122.62244320521101%2C%2038.2469653226834%5D%2C%20%5B-122.6224822983103%2C%2038.246967848418635%5D%2C%20%5B-122.62252088955816%2C%2038.246973369566625%5D%2C%20%5B-122.62255860863512%2C%2038.2469818331469%5D%2C%20%5B-122.62259509359063%2C%2038.24699315794342%5D%2C%20%5B-122.6226299943164%2C%2038.24700723528393%5D%2C%20%5B-122.6226629759057%2C%2038.24702393008311%5D%2C%20%5B-122.62298261850819%2C%2038.24720372872657%5D%2C%20%5B-122.62606927490589%2C%2038.248931853743734%5D%2C%20%5B-122.62645625495048%2C%2038.24914022725766%5D%2C%20%5B-122.62646166301622%2C%2038.249143190979844%5D%2C%20%5B-122.6312165675439%2C%2038.251794768880444%5D%2C%20%5B-122.63124746823019%2C%2038.2518138581098%5D%2C%20%5B-122.63127584038698%2C%2038.251835236794804%5D%2C%20%5B-122.63130141077514%2C%2038.2518586990491%5D%2C%20%5B-122.63132393313711%2C%2038.25188401892011%5D%2C%20%5B-122.63134319056859%2C%2038.25191095256547%5D%2C%20%5B-122.63135899760749%2C%2038.251939240601075%5D%2C%20%5B-122.63137120202019%2C%2038.251968610599015%5D%2C%20%5B-122.63137968626764%2C%2038.25199877971132%5D%2C%20%5B-122.63138436863757%2C%2038.25202945739373%5D%2C%20%5B-122.6313852040316%2C%2038.252060348203855%5D%2C%20%5B-122.6313821843996%2C%2038.25209115464635%5D%2C%20%5B-122.63137533881759%2C%2038.2521215800381%5D%2C%20%5B-122.6313647332078%2C%2038.25215133136522%5D%2C%20%5B-122.63135046970393%2C%2038.25218012210527%5D%2C%20%5B-122.63133268566786%2C%2038.25220767498639%5D%2C%20%5B-122.63131155236668%2C%2038.25223372465767%5D%2C%20%5B-122.63128727332366%2C%2038.25225802024491%5D%2C%20%5B-122.63126008235817%2C%2038.25228032776637%5D%2C%20%5B-122.63123024133381%2C%2038.25230043238671%5D%2C%20%5B-122.63119803763671%2C%2038.25231814048539%5D%2C%20%5B-122.63116378140774%2C%2038.252333281522056%5D%2C%20%5B-122.63112780255553%2C%2038.25234570967864%5D%2C%20%5B-122.63109044757937%2C%2038.25235530526375%5D%2C%20%5B-122.63105207623194%2C%2038.25236197586554%5D%2C%20%5B-122.63101305805463%2C%2038.252365657241754%5D%2C%20%5B-122.63097376881848%2C%2038.252366313938204%5D%2C%20%5B-122.63093458690501%2C%2038.25236393963048%5D%2C%20%5B-122.63089588966227%2C%2038.25235855718481%5D%2C%20%5B-122.63085804977028%2C%2038.25235021843762%5D%2C%20%5B-122.63082143165198%2C%2038.252339003696676%5D%2C%20%5B-122.63078638796341%2C%2038.25232502096731%5D%2C%20%5B-122.63075325619725%2C%2038.25230840491239%5D%2C%20%5B-122.62600102391636%2C%2038.24965830795512%5D%2C%20%5B-122.62561374275097%2C%2038.249449771587436%5D%2C%20%5B-122.62560774255401%2C%2038.24944647695458%5D%2C%20%5B-122.62252178102098%2C%2038.24771873501208%5D%5D%5D%2C%20%22type%22%3A%20%22Polygon%22%7D%2C%20%22id%22%3A%20%2235%22%2C%20%22properties%22%3A%20%7B%22district%22%3A%204%2C%20%22district_name%22%3A%20%22District%204%20-%20Oakland%22%2C%20%22feed_key_left%22%3A%20%22540e857d28ffdc628260ca22a21cb330%22%2C%20%22feed_key_right%22%3A%20%22540e857d28ffdc628260ca22a21cb330%22%2C%20%22gtfs_dataset_key_left%22%3A%20%22bc21582ac1ad2b7de0647dfd5b76f67c%22%2C%20%22gtfs_dataset_key_right%22%3A%20%22bc21582ac1ad2b7de0647dfd5b76f67c%22%2C%20%22index_right%22%3A%2020083%2C%20%22loop_or_inlining%22%3A%200%2C%20%22seg_idx%22%3A%2020123%2C%20%22shape_array_key_left%22%3A%20%2221aedea4c0d05c570e042903cc62c9cf%22%2C%20%22shape_array_key_right%22%3A%20%2221aedea4c0d05c570e042903cc62c9cf%22%2C%20%22stop_id%22%3A%20%2287500%22%2C%20%22stop_sequence%22%3A%20105%2C%20%22trip_id%22%3A%20%22t120-sl9-p84-r1A%22%7D%2C%20%22type%22%3A%20%22Feature%22%7D%2C%20%7B%22bbox%22%3A%20%5B-122.6313852040316%2C%2038.2469653226834%2C%20-122.62127995136046%2C%2038.252366313938204%5D%2C%20%22geometry%22%3A%20%7B%22coordinates%22%3A%20%5B%5B%5B-122.62252178102098%2C%2038.24771873501208%5D%2C%20%5B-122.62221501086226%2C%2038.24805390998142%5D%2C%20%5B-122.62221025617347%2C%2038.248058996550924%5D%2C%20%5B-122.62200025658619%2C%2038.24827899711347%5D%2C%20%5B-122.62197515436611%2C%2038.24830276905272%5D%2C%20%5B-122.62194720962387%2C%2038.24832449190733%5D%2C%20%5B-122.62191669148268%2C%2038.24834395647248%5D%2C%20%5B-122.6218838938499%2C%2038.24836097529197%5D%2C%20%5B-122.62184913258652%2C%2038.248375384463316%5D%2C%20%5B-122.62181274246527%2C%2038.248387045216965%5D%2C%20%5B-122.62177507394624%2C%2038.248395845252034%5D%2C%20%5B-122.62173648980193%2C%2038.24840169981842%5D%2C%20%5B-122.62169736162313%2C%2038.24840455253271%5D%2C%20%5B-122.62165806624031%2C%2038.248404375921375%5D%2C%20%5B-122.62161898209426%2C%2038.24840117168526%5D%2C%20%5B-122.62158048559131%2C%2038.248394970683385%5D%2C%20%5B-122.62154294747826%2C%2038.24838583263546%5D%2C%20%5B-122.62150672927156%2C%2038.2483738455469%5D%2C%20%5B-122.6214721797757%2C%2038.248359124861445%5D%2C%20%5B-122.6214396317238%2C%2038.24834181234878%5D%2C%20%5B-122.6214093985732%2C%2038.24832207473966%5D%2C%20%5B-122.62138177148654%2C%2038.24830010211991%5D%2C%20%5B-122.62135701652767%2C%2038.24827610609981%5D%2C%20%5B-122.62133537209945%2C%2038.24825031777594%5D%2C%20%5B-122.62131704664762%2C%2038.24822298550571%5D%2C%20%5B-122.62130221665365%2C%2038.24819437251547%5D%2C%20%5B-122.62129102493503%2C%2038.24816475436515%5D%2C%20%5B-122.62128357927018%2C%2038.24813441629485%5D%2C%20%5B-122.62127995136046%2C%2038.248103650477425%5D%2C%20%5B-122.62128017613993%2C%2038.24807275320489%5D%2C%20%5B-122.6212842514391%2C%2038.24804202203487%5D%2C%20%5B-122.6212921380059%2C%2038.24801175292487%5D%2C%20%5B-122.621303759884%2C%2038.24798223738231%5D%2C%20%5B-122.62131900514441%2C%2038.24795375965684%5D%2C%20%5B-122.62133772696363%2C%2038.24792659400329%5D%2C%20%5B-122.62135974503772%2C%2038.24790100204006%5D%2C%20%5B-122.62156733566843%2C%2038.24768352713417%5D%2C%20%5B-122.62210499198143%2C%2038.2470960906146%5D%2C%20%5B-122.62212943598402%2C%2038.24707196932626%5D%2C%20%5B-122.6221567641929%2C%2038.24704984431078%5D%2C%20%5B-122.62218671436477%2C%2038.24702992787931%5D%2C%20%5B-122.62221899909675%2C%2038.247012411149214%5D%2C%20%5B-122.62225330858435%2C%2038.24699746221035%5D%2C%20%5B-122.62228931359414%2C%2038.246985224512024%5D%2C%20%5B-122.62232666862315%2C%2038.246975815486536%5D%2C%20%5B-122.62236501521416%2C%2038.24696932542245%5D%2C%20%5B-122.6224039853953%2C%2038.246965816597886%5D%2C%20%5B-122.62244320521101%2C%2038.2469653226834%5D%2C%20%5B-122.6224822983103%2C%2038.246967848418635%5D%2C%20%5B-122.62252088955816%2C%2038.246973369566625%5D%2C%20%5B-122.62255860863512%2C%2038.2469818331469%5D%2C%20%5B-122.62259509359063%2C%2038.24699315794342%5D%2C%20%5B-122.6226299943164%2C%2038.24700723528393%5D%2C%20%5B-122.6226629759057%2C%2038.24702393008311%5D%2C%20%5B-122.62298261850819%2C%2038.24720372872657%5D%2C%20%5B-122.62606927490589%2C%2038.248931853743734%5D%2C%20%5B-122.62645625495048%2C%2038.24914022725766%5D%2C%20%5B-122.62646166301622%2C%2038.249143190979844%5D%2C%20%5B-122.6312165675439%2C%2038.251794768880444%5D%2C%20%5B-122.63124746823019%2C%2038.2518138581098%5D%2C%20%5B-122.63127584038698%2C%2038.251835236794804%5D%2C%20%5B-122.63130141077514%2C%2038.2518586990491%5D%2C%20%5B-122.63132393313711%2C%2038.25188401892011%5D%2C%20%5B-122.63134319056859%2C%2038.25191095256547%5D%2C%20%5B-122.63135899760749%2C%2038.251939240601075%5D%2C%20%5B-122.63137120202019%2C%2038.251968610599015%5D%2C%20%5B-122.63137968626764%2C%2038.25199877971132%5D%2C%20%5B-122.63138436863757%2C%2038.25202945739373%5D%2C%20%5B-122.6313852040316%2C%2038.252060348203855%5D%2C%20%5B-122.6313821843996%2C%2038.25209115464635%5D%2C%20%5B-122.63137533881759%2C%2038.2521215800381%5D%2C%20%5B-122.6313647332078%2C%2038.25215133136522%5D%2C%20%5B-122.63135046970393%2C%2038.25218012210527%5D%2C%20%5B-122.63133268566786%2C%2038.25220767498639%5D%2C%20%5B-122.63131155236668%2C%2038.25223372465767%5D%2C%20%5B-122.63128727332366%2C%2038.25225802024491%5D%2C%20%5B-122.63126008235817%2C%2038.25228032776637%5D%2C%20%5B-122.63123024133381%2C%2038.25230043238671%5D%2C%20%5B-122.63119803763671%2C%2038.25231814048539%5D%2C%20%5B-122.63116378140774%2C%2038.252333281522056%5D%2C%20%5B-122.63112780255553%2C%2038.25234570967864%5D%2C%20%5B-122.63109044757937%2C%2038.25235530526375%5D%2C%20%5B-122.63105207623194%2C%2038.25236197586554%5D%2C%20%5B-122.63101305805463%2C%2038.252365657241754%5D%2C%20%5B-122.63097376881848%2C%2038.252366313938204%5D%2C%20%5B-122.63093458690501%2C%2038.25236393963048%5D%2C%20%5B-122.63089588966227%2C%2038.25235855718481%5D%2C%20%5B-122.63085804977028%2C%2038.25235021843762%5D%2C%20%5B-122.63082143165198%2C%2038.252339003696676%5D%2C%20%5B-122.63078638796341%2C%2038.25232502096731%5D%2C%20%5B-122.63075325619725%2C%2038.25230840491239%5D%2C%20%5B-122.62600102391636%2C%2038.24965830795512%5D%2C%20%5B-122.62561374275097%2C%2038.249449771587436%5D%2C%20%5B-122.62560774255401%2C%2038.24944647695458%5D%2C%20%5B-122.62252178102098%2C%2038.24771873501208%5D%5D%5D%2C%20%22type%22%3A%20%22Polygon%22%7D%2C%20%22id%22%3A%20%2236%22%2C%20%22properties%22%3A%20%7B%22district%22%3A%204%2C%20%22district_name%22%3A%20%22District%204%20-%20Oakland%22%2C%20%22feed_key_left%22%3A%20%22540e857d28ffdc628260ca22a21cb330%22%2C%20%22feed_key_right%22%3A%20%22540e857d28ffdc628260ca22a21cb330%22%2C%20%22gtfs_dataset_key_left%22%3A%20%22bc21582ac1ad2b7de0647dfd5b76f67c%22%2C%20%22gtfs_dataset_key_right%22%3A%20%22bc21582ac1ad2b7de0647dfd5b76f67c%22%2C%20%22index_right%22%3A%2020083%2C%20%22loop_or_inlining%22%3A%200%2C%20%22seg_idx%22%3A%2020123%2C%20%22shape_array_key_left%22%3A%20%2221aedea4c0d05c570e042903cc62c9cf%22%2C%20%22shape_array_key_right%22%3A%20%2221aedea4c0d05c570e042903cc62c9cf%22%2C%20%22stop_id%22%3A%20%2287500%22%2C%20%22stop_sequence%22%3A%20105%2C%20%22trip_id%22%3A%20%22t120-sl9-p84-r1A%22%7D%2C%20%22type%22%3A%20%22Feature%22%7D%2C%20%7B%22bbox%22%3A%20%5B-122.6313852040316%2C%2038.2469653226834%2C%20-122.62127995136046%2C%2038.252366313938204%5D%2C%20%22geometry%22%3A%20%7B%22coordinates%22%3A%20%5B%5B%5B-122.62252178102098%2C%2038.24771873501208%5D%2C%20%5B-122.62221501086226%2C%2038.24805390998142%5D%2C%20%5B-122.62221025617347%2C%2038.248058996550924%5D%2C%20%5B-122.62200025658619%2C%2038.24827899711347%5D%2C%20%5B-122.62197515436611%2C%2038.24830276905272%5D%2C%20%5B-122.62194720962387%2C%2038.24832449190733%5D%2C%20%5B-122.62191669148268%2C%2038.24834395647248%5D%2C%20%5B-122.6218838938499%2C%2038.24836097529197%5D%2C%20%5B-122.62184913258652%2C%2038.248375384463316%5D%2C%20%5B-122.62181274246527%2C%2038.248387045216965%5D%2C%20%5B-122.62177507394624%2C%2038.248395845252034%5D%2C%20%5B-122.62173648980193%2C%2038.24840169981842%5D%2C%20%5B-122.62169736162313%2C%2038.24840455253271%5D%2C%20%5B-122.62165806624031%2C%2038.248404375921375%5D%2C%20%5B-122.62161898209426%2C%2038.24840117168526%5D%2C%20%5B-122.62158048559131%2C%2038.248394970683385%5D%2C%20%5B-122.62154294747826%2C%2038.24838583263546%5D%2C%20%5B-122.62150672927156%2C%2038.2483738455469%5D%2C%20%5B-122.6214721797757%2C%2038.248359124861445%5D%2C%20%5B-122.6214396317238%2C%2038.24834181234878%5D%2C%20%5B-122.6214093985732%2C%2038.24832207473966%5D%2C%20%5B-122.62138177148654%2C%2038.24830010211991%5D%2C%20%5B-122.62135701652767%2C%2038.24827610609981%5D%2C%20%5B-122.62133537209945%2C%2038.24825031777594%5D%2C%20%5B-122.62131704664762%2C%2038.24822298550571%5D%2C%20%5B-122.62130221665365%2C%2038.24819437251547%5D%2C%20%5B-122.62129102493503%2C%2038.24816475436515%5D%2C%20%5B-122.62128357927018%2C%2038.24813441629485%5D%2C%20%5B-122.62127995136046%2C%2038.248103650477425%5D%2C%20%5B-122.62128017613993%2C%2038.24807275320489%5D%2C%20%5B-122.6212842514391%2C%2038.24804202203487%5D%2C%20%5B-122.6212921380059%2C%2038.24801175292487%5D%2C%20%5B-122.621303759884%2C%2038.24798223738231%5D%2C%20%5B-122.62131900514441%2C%2038.24795375965684%5D%2C%20%5B-122.62133772696363%2C%2038.24792659400329%5D%2C%20%5B-122.62135974503772%2C%2038.24790100204006%5D%2C%20%5B-122.62156733566843%2C%2038.24768352713417%5D%2C%20%5B-122.62210499198143%2C%2038.2470960906146%5D%2C%20%5B-122.62212943598402%2C%2038.24707196932626%5D%2C%20%5B-122.6221567641929%2C%2038.24704984431078%5D%2C%20%5B-122.62218671436477%2C%2038.24702992787931%5D%2C%20%5B-122.62221899909675%2C%2038.247012411149214%5D%2C%20%5B-122.62225330858435%2C%2038.24699746221035%5D%2C%20%5B-122.62228931359414%2C%2038.246985224512024%5D%2C%20%5B-122.62232666862315%2C%2038.246975815486536%5D%2C%20%5B-122.62236501521416%2C%2038.24696932542245%5D%2C%20%5B-122.6224039853953%2C%2038.246965816597886%5D%2C%20%5B-122.62244320521101%2C%2038.2469653226834%5D%2C%20%5B-122.6224822983103%2C%2038.246967848418635%5D%2C%20%5B-122.62252088955816%2C%2038.246973369566625%5D%2C%20%5B-122.62255860863512%2C%2038.2469818331469%5D%2C%20%5B-122.62259509359063%2C%2038.24699315794342%5D%2C%20%5B-122.6226299943164%2C%2038.24700723528393%5D%2C%20%5B-122.6226629759057%2C%2038.24702393008311%5D%2C%20%5B-122.62298261850819%2C%2038.24720372872657%5D%2C%20%5B-122.62606927490589%2C%2038.248931853743734%5D%2C%20%5B-122.62645625495048%2C%2038.24914022725766%5D%2C%20%5B-122.62646166301622%2C%2038.249143190979844%5D%2C%20%5B-122.6312165675439%2C%2038.251794768880444%5D%2C%20%5B-122.63124746823019%2C%2038.2518138581098%5D%2C%20%5B-122.63127584038698%2C%2038.251835236794804%5D%2C%20%5B-122.63130141077514%2C%2038.2518586990491%5D%2C%20%5B-122.63132393313711%2C%2038.25188401892011%5D%2C%20%5B-122.63134319056859%2C%2038.25191095256547%5D%2C%20%5B-122.63135899760749%2C%2038.251939240601075%5D%2C%20%5B-122.63137120202019%2C%2038.251968610599015%5D%2C%20%5B-122.63137968626764%2C%2038.25199877971132%5D%2C%20%5B-122.63138436863757%2C%2038.25202945739373%5D%2C%20%5B-122.6313852040316%2C%2038.252060348203855%5D%2C%20%5B-122.6313821843996%2C%2038.25209115464635%5D%2C%20%5B-122.63137533881759%2C%2038.2521215800381%5D%2C%20%5B-122.6313647332078%2C%2038.25215133136522%5D%2C%20%5B-122.63135046970393%2C%2038.25218012210527%5D%2C%20%5B-122.63133268566786%2C%2038.25220767498639%5D%2C%20%5B-122.63131155236668%2C%2038.25223372465767%5D%2C%20%5B-122.63128727332366%2C%2038.25225802024491%5D%2C%20%5B-122.63126008235817%2C%2038.25228032776637%5D%2C%20%5B-122.63123024133381%2C%2038.25230043238671%5D%2C%20%5B-122.63119803763671%2C%2038.25231814048539%5D%2C%20%5B-122.63116378140774%2C%2038.252333281522056%5D%2C%20%5B-122.63112780255553%2C%2038.25234570967864%5D%2C%20%5B-122.63109044757937%2C%2038.25235530526375%5D%2C%20%5B-122.63105207623194%2C%2038.25236197586554%5D%2C%20%5B-122.63101305805463%2C%2038.252365657241754%5D%2C%20%5B-122.63097376881848%2C%2038.252366313938204%5D%2C%20%5B-122.63093458690501%2C%2038.25236393963048%5D%2C%20%5B-122.63089588966227%2C%2038.25235855718481%5D%2C%20%5B-122.63085804977028%2C%2038.25235021843762%5D%2C%20%5B-122.63082143165198%2C%2038.252339003696676%5D%2C%20%5B-122.63078638796341%2C%2038.25232502096731%5D%2C%20%5B-122.63075325619725%2C%2038.25230840491239%5D%2C%20%5B-122.62600102391636%2C%2038.24965830795512%5D%2C%20%5B-122.62561374275097%2C%2038.249449771587436%5D%2C%20%5B-122.62560774255401%2C%2038.24944647695458%5D%2C%20%5B-122.62252178102098%2C%2038.24771873501208%5D%5D%5D%2C%20%22type%22%3A%20%22Polygon%22%7D%2C%20%22id%22%3A%20%2237%22%2C%20%22properties%22%3A%20%7B%22district%22%3A%204%2C%20%22district_name%22%3A%20%22District%204%20-%20Oakland%22%2C%20%22feed_key_left%22%3A%20%22540e857d28ffdc628260ca22a21cb330%22%2C%20%22feed_key_right%22%3A%20%22540e857d28ffdc628260ca22a21cb330%22%2C%20%22gtfs_dataset_key_left%22%3A%20%22bc21582ac1ad2b7de0647dfd5b76f67c%22%2C%20%22gtfs_dataset_key_right%22%3A%20%22bc21582ac1ad2b7de0647dfd5b76f67c%22%2C%20%22index_right%22%3A%2020083%2C%20%22loop_or_inlining%22%3A%200%2C%20%22seg_idx%22%3A%2020123%2C%20%22shape_array_key_left%22%3A%20%2221aedea4c0d05c570e042903cc62c9cf%22%2C%20%22shape_array_key_right%22%3A%20%2221aedea4c0d05c570e042903cc62c9cf%22%2C%20%22stop_id%22%3A%20%2287500%22%2C%20%22stop_sequence%22%3A%20105%2C%20%22trip_id%22%3A%20%22t120-sl9-p84-r1A%22%7D%2C%20%22type%22%3A%20%22Feature%22%7D%2C%20%7B%22bbox%22%3A%20%5B-122.6313852040316%2C%2038.2469653226834%2C%20-122.62127995136046%2C%2038.252366313938204%5D%2C%20%22geometry%22%3A%20%7B%22coordinates%22%3A%20%5B%5B%5B-122.62252178102098%2C%2038.24771873501208%5D%2C%20%5B-122.62221501086226%2C%2038.24805390998142%5D%2C%20%5B-122.62221025617347%2C%2038.248058996550924%5D%2C%20%5B-122.62200025658619%2C%2038.24827899711347%5D%2C%20%5B-122.62197515436611%2C%2038.24830276905272%5D%2C%20%5B-122.62194720962387%2C%2038.24832449190733%5D%2C%20%5B-122.62191669148268%2C%2038.24834395647248%5D%2C%20%5B-122.6218838938499%2C%2038.24836097529197%5D%2C%20%5B-122.62184913258652%2C%2038.248375384463316%5D%2C%20%5B-122.62181274246527%2C%2038.248387045216965%5D%2C%20%5B-122.62177507394624%2C%2038.248395845252034%5D%2C%20%5B-122.62173648980193%2C%2038.24840169981842%5D%2C%20%5B-122.62169736162313%2C%2038.24840455253271%5D%2C%20%5B-122.62165806624031%2C%2038.248404375921375%5D%2C%20%5B-122.62161898209426%2C%2038.24840117168526%5D%2C%20%5B-122.62158048559131%2C%2038.248394970683385%5D%2C%20%5B-122.62154294747826%2C%2038.24838583263546%5D%2C%20%5B-122.62150672927156%2C%2038.2483738455469%5D%2C%20%5B-122.6214721797757%2C%2038.248359124861445%5D%2C%20%5B-122.6214396317238%2C%2038.24834181234878%5D%2C%20%5B-122.6214093985732%2C%2038.24832207473966%5D%2C%20%5B-122.62138177148654%2C%2038.24830010211991%5D%2C%20%5B-122.62135701652767%2C%2038.24827610609981%5D%2C%20%5B-122.62133537209945%2C%2038.24825031777594%5D%2C%20%5B-122.62131704664762%2C%2038.24822298550571%5D%2C%20%5B-122.62130221665365%2C%2038.24819437251547%5D%2C%20%5B-122.62129102493503%2C%2038.24816475436515%5D%2C%20%5B-122.62128357927018%2C%2038.24813441629485%5D%2C%20%5B-122.62127995136046%2C%2038.248103650477425%5D%2C%20%5B-122.62128017613993%2C%2038.24807275320489%5D%2C%20%5B-122.6212842514391%2C%2038.24804202203487%5D%2C%20%5B-122.6212921380059%2C%2038.24801175292487%5D%2C%20%5B-122.621303759884%2C%2038.24798223738231%5D%2C%20%5B-122.62131900514441%2C%2038.24795375965684%5D%2C%20%5B-122.62133772696363%2C%2038.24792659400329%5D%2C%20%5B-122.62135974503772%2C%2038.24790100204006%5D%2C%20%5B-122.62156733566843%2C%2038.24768352713417%5D%2C%20%5B-122.62210499198143%2C%2038.2470960906146%5D%2C%20%5B-122.62212943598402%2C%2038.24707196932626%5D%2C%20%5B-122.6221567641929%2C%2038.24704984431078%5D%2C%20%5B-122.62218671436477%2C%2038.24702992787931%5D%2C%20%5B-122.62221899909675%2C%2038.247012411149214%5D%2C%20%5B-122.62225330858435%2C%2038.24699746221035%5D%2C%20%5B-122.62228931359414%2C%2038.246985224512024%5D%2C%20%5B-122.62232666862315%2C%2038.246975815486536%5D%2C%20%5B-122.62236501521416%2C%2038.24696932542245%5D%2C%20%5B-122.6224039853953%2C%2038.246965816597886%5D%2C%20%5B-122.62244320521101%2C%2038.2469653226834%5D%2C%20%5B-122.6224822983103%2C%2038.246967848418635%5D%2C%20%5B-122.62252088955816%2C%2038.246973369566625%5D%2C%20%5B-122.62255860863512%2C%2038.2469818331469%5D%2C%20%5B-122.62259509359063%2C%2038.24699315794342%5D%2C%20%5B-122.6226299943164%2C%2038.24700723528393%5D%2C%20%5B-122.6226629759057%2C%2038.24702393008311%5D%2C%20%5B-122.62298261850819%2C%2038.24720372872657%5D%2C%20%5B-122.62606927490589%2C%2038.248931853743734%5D%2C%20%5B-122.62645625495048%2C%2038.24914022725766%5D%2C%20%5B-122.62646166301622%2C%2038.249143190979844%5D%2C%20%5B-122.6312165675439%2C%2038.251794768880444%5D%2C%20%5B-122.63124746823019%2C%2038.2518138581098%5D%2C%20%5B-122.63127584038698%2C%2038.251835236794804%5D%2C%20%5B-122.63130141077514%2C%2038.2518586990491%5D%2C%20%5B-122.63132393313711%2C%2038.25188401892011%5D%2C%20%5B-122.63134319056859%2C%2038.25191095256547%5D%2C%20%5B-122.63135899760749%2C%2038.251939240601075%5D%2C%20%5B-122.63137120202019%2C%2038.251968610599015%5D%2C%20%5B-122.63137968626764%2C%2038.25199877971132%5D%2C%20%5B-122.63138436863757%2C%2038.25202945739373%5D%2C%20%5B-122.6313852040316%2C%2038.252060348203855%5D%2C%20%5B-122.6313821843996%2C%2038.25209115464635%5D%2C%20%5B-122.63137533881759%2C%2038.2521215800381%5D%2C%20%5B-122.6313647332078%2C%2038.25215133136522%5D%2C%20%5B-122.63135046970393%2C%2038.25218012210527%5D%2C%20%5B-122.63133268566786%2C%2038.25220767498639%5D%2C%20%5B-122.63131155236668%2C%2038.25223372465767%5D%2C%20%5B-122.63128727332366%2C%2038.25225802024491%5D%2C%20%5B-122.63126008235817%2C%2038.25228032776637%5D%2C%20%5B-122.63123024133381%2C%2038.25230043238671%5D%2C%20%5B-122.63119803763671%2C%2038.25231814048539%5D%2C%20%5B-122.63116378140774%2C%2038.252333281522056%5D%2C%20%5B-122.63112780255553%2C%2038.25234570967864%5D%2C%20%5B-122.63109044757937%2C%2038.25235530526375%5D%2C%20%5B-122.63105207623194%2C%2038.25236197586554%5D%2C%20%5B-122.63101305805463%2C%2038.252365657241754%5D%2C%20%5B-122.63097376881848%2C%2038.252366313938204%5D%2C%20%5B-122.63093458690501%2C%2038.25236393963048%5D%2C%20%5B-122.63089588966227%2C%2038.25235855718481%5D%2C%20%5B-122.63085804977028%2C%2038.25235021843762%5D%2C%20%5B-122.63082143165198%2C%2038.252339003696676%5D%2C%20%5B-122.63078638796341%2C%2038.25232502096731%5D%2C%20%5B-122.63075325619725%2C%2038.25230840491239%5D%2C%20%5B-122.62600102391636%2C%2038.24965830795512%5D%2C%20%5B-122.62561374275097%2C%2038.249449771587436%5D%2C%20%5B-122.62560774255401%2C%2038.24944647695458%5D%2C%20%5B-122.62252178102098%2C%2038.24771873501208%5D%5D%5D%2C%20%22type%22%3A%20%22Polygon%22%7D%2C%20%22id%22%3A%20%2238%22%2C%20%22properties%22%3A%20%7B%22district%22%3A%204%2C%20%22district_name%22%3A%20%22District%204%20-%20Oakland%22%2C%20%22feed_key_left%22%3A%20%22540e857d28ffdc628260ca22a21cb330%22%2C%20%22feed_key_right%22%3A%20%22540e857d28ffdc628260ca22a21cb330%22%2C%20%22gtfs_dataset_key_left%22%3A%20%22bc21582ac1ad2b7de0647dfd5b76f67c%22%2C%20%22gtfs_dataset_key_right%22%3A%20%22bc21582ac1ad2b7de0647dfd5b76f67c%22%2C%20%22index_right%22%3A%2020083%2C%20%22loop_or_inlining%22%3A%200%2C%20%22seg_idx%22%3A%2020123%2C%20%22shape_array_key_left%22%3A%20%2221aedea4c0d05c570e042903cc62c9cf%22%2C%20%22shape_array_key_right%22%3A%20%2221aedea4c0d05c570e042903cc62c9cf%22%2C%20%22stop_id%22%3A%20%2287500%22%2C%20%22stop_sequence%22%3A%20105%2C%20%22trip_id%22%3A%20%22t120-sl9-p84-r1A%22%7D%2C%20%22type%22%3A%20%22Feature%22%7D%2C%20%7B%22bbox%22%3A%20%5B-122.6313852040316%2C%2038.2469653226834%2C%20-122.62127995136046%2C%2038.252366313938204%5D%2C%20%22geometry%22%3A%20%7B%22coordinates%22%3A%20%5B%5B%5B-122.62252178102098%2C%2038.24771873501208%5D%2C%20%5B-122.62221501086226%2C%2038.24805390998142%5D%2C%20%5B-122.62221025617347%2C%2038.248058996550924%5D%2C%20%5B-122.62200025658619%2C%2038.24827899711347%5D%2C%20%5B-122.62197515436611%2C%2038.24830276905272%5D%2C%20%5B-122.62194720962387%2C%2038.24832449190733%5D%2C%20%5B-122.62191669148268%2C%2038.24834395647248%5D%2C%20%5B-122.6218838938499%2C%2038.24836097529197%5D%2C%20%5B-122.62184913258652%2C%2038.248375384463316%5D%2C%20%5B-122.62181274246527%2C%2038.248387045216965%5D%2C%20%5B-122.62177507394624%2C%2038.248395845252034%5D%2C%20%5B-122.62173648980193%2C%2038.24840169981842%5D%2C%20%5B-122.62169736162313%2C%2038.24840455253271%5D%2C%20%5B-122.62165806624031%2C%2038.248404375921375%5D%2C%20%5B-122.62161898209426%2C%2038.24840117168526%5D%2C%20%5B-122.62158048559131%2C%2038.248394970683385%5D%2C%20%5B-122.62154294747826%2C%2038.24838583263546%5D%2C%20%5B-122.62150672927156%2C%2038.2483738455469%5D%2C%20%5B-122.6214721797757%2C%2038.248359124861445%5D%2C%20%5B-122.6214396317238%2C%2038.24834181234878%5D%2C%20%5B-122.6214093985732%2C%2038.24832207473966%5D%2C%20%5B-122.62138177148654%2C%2038.24830010211991%5D%2C%20%5B-122.62135701652767%2C%2038.24827610609981%5D%2C%20%5B-122.62133537209945%2C%2038.24825031777594%5D%2C%20%5B-122.62131704664762%2C%2038.24822298550571%5D%2C%20%5B-122.62130221665365%2C%2038.24819437251547%5D%2C%20%5B-122.62129102493503%2C%2038.24816475436515%5D%2C%20%5B-122.62128357927018%2C%2038.24813441629485%5D%2C%20%5B-122.62127995136046%2C%2038.248103650477425%5D%2C%20%5B-122.62128017613993%2C%2038.24807275320489%5D%2C%20%5B-122.6212842514391%2C%2038.24804202203487%5D%2C%20%5B-122.6212921380059%2C%2038.24801175292487%5D%2C%20%5B-122.621303759884%2C%2038.24798223738231%5D%2C%20%5B-122.62131900514441%2C%2038.24795375965684%5D%2C%20%5B-122.62133772696363%2C%2038.24792659400329%5D%2C%20%5B-122.62135974503772%2C%2038.24790100204006%5D%2C%20%5B-122.62156733566843%2C%2038.24768352713417%5D%2C%20%5B-122.62210499198143%2C%2038.2470960906146%5D%2C%20%5B-122.62212943598402%2C%2038.24707196932626%5D%2C%20%5B-122.6221567641929%2C%2038.24704984431078%5D%2C%20%5B-122.62218671436477%2C%2038.24702992787931%5D%2C%20%5B-122.62221899909675%2C%2038.247012411149214%5D%2C%20%5B-122.62225330858435%2C%2038.24699746221035%5D%2C%20%5B-122.62228931359414%2C%2038.246985224512024%5D%2C%20%5B-122.62232666862315%2C%2038.246975815486536%5D%2C%20%5B-122.62236501521416%2C%2038.24696932542245%5D%2C%20%5B-122.6224039853953%2C%2038.246965816597886%5D%2C%20%5B-122.62244320521101%2C%2038.2469653226834%5D%2C%20%5B-122.6224822983103%2C%2038.246967848418635%5D%2C%20%5B-122.62252088955816%2C%2038.246973369566625%5D%2C%20%5B-122.62255860863512%2C%2038.2469818331469%5D%2C%20%5B-122.62259509359063%2C%2038.24699315794342%5D%2C%20%5B-122.6226299943164%2C%2038.24700723528393%5D%2C%20%5B-122.6226629759057%2C%2038.24702393008311%5D%2C%20%5B-122.62298261850819%2C%2038.24720372872657%5D%2C%20%5B-122.62606927490589%2C%2038.248931853743734%5D%2C%20%5B-122.62645625495048%2C%2038.24914022725766%5D%2C%20%5B-122.62646166301622%2C%2038.249143190979844%5D%2C%20%5B-122.6312165675439%2C%2038.251794768880444%5D%2C%20%5B-122.63124746823019%2C%2038.2518138581098%5D%2C%20%5B-122.63127584038698%2C%2038.251835236794804%5D%2C%20%5B-122.63130141077514%2C%2038.2518586990491%5D%2C%20%5B-122.63132393313711%2C%2038.25188401892011%5D%2C%20%5B-122.63134319056859%2C%2038.25191095256547%5D%2C%20%5B-122.63135899760749%2C%2038.251939240601075%5D%2C%20%5B-122.63137120202019%2C%2038.251968610599015%5D%2C%20%5B-122.63137968626764%2C%2038.25199877971132%5D%2C%20%5B-122.63138436863757%2C%2038.25202945739373%5D%2C%20%5B-122.6313852040316%2C%2038.252060348203855%5D%2C%20%5B-122.6313821843996%2C%2038.25209115464635%5D%2C%20%5B-122.63137533881759%2C%2038.2521215800381%5D%2C%20%5B-122.6313647332078%2C%2038.25215133136522%5D%2C%20%5B-122.63135046970393%2C%2038.25218012210527%5D%2C%20%5B-122.63133268566786%2C%2038.25220767498639%5D%2C%20%5B-122.63131155236668%2C%2038.25223372465767%5D%2C%20%5B-122.63128727332366%2C%2038.25225802024491%5D%2C%20%5B-122.63126008235817%2C%2038.25228032776637%5D%2C%20%5B-122.63123024133381%2C%2038.25230043238671%5D%2C%20%5B-122.63119803763671%2C%2038.25231814048539%5D%2C%20%5B-122.63116378140774%2C%2038.252333281522056%5D%2C%20%5B-122.63112780255553%2C%2038.25234570967864%5D%2C%20%5B-122.63109044757937%2C%2038.25235530526375%5D%2C%20%5B-122.63105207623194%2C%2038.25236197586554%5D%2C%20%5B-122.63101305805463%2C%2038.252365657241754%5D%2C%20%5B-122.63097376881848%2C%2038.252366313938204%5D%2C%20%5B-122.63093458690501%2C%2038.25236393963048%5D%2C%20%5B-122.63089588966227%2C%2038.25235855718481%5D%2C%20%5B-122.63085804977028%2C%2038.25235021843762%5D%2C%20%5B-122.63082143165198%2C%2038.252339003696676%5D%2C%20%5B-122.63078638796341%2C%2038.25232502096731%5D%2C%20%5B-122.63075325619725%2C%2038.25230840491239%5D%2C%20%5B-122.62600102391636%2C%2038.24965830795512%5D%2C%20%5B-122.62561374275097%2C%2038.249449771587436%5D%2C%20%5B-122.62560774255401%2C%2038.24944647695458%5D%2C%20%5B-122.62252178102098%2C%2038.24771873501208%5D%5D%5D%2C%20%22type%22%3A%20%22Polygon%22%7D%2C%20%22id%22%3A%20%2239%22%2C%20%22properties%22%3A%20%7B%22district%22%3A%204%2C%20%22district_name%22%3A%20%22District%204%20-%20Oakland%22%2C%20%22feed_key_left%22%3A%20%22540e857d28ffdc628260ca22a21cb330%22%2C%20%22feed_key_right%22%3A%20%22540e857d28ffdc628260ca22a21cb330%22%2C%20%22gtfs_dataset_key_left%22%3A%20%22bc21582ac1ad2b7de0647dfd5b76f67c%22%2C%20%22gtfs_dataset_key_right%22%3A%20%22bc21582ac1ad2b7de0647dfd5b76f67c%22%2C%20%22index_right%22%3A%2020083%2C%20%22loop_or_inlining%22%3A%200%2C%20%22seg_idx%22%3A%2020123%2C%20%22shape_array_key_left%22%3A%20%2221aedea4c0d05c570e042903cc62c9cf%22%2C%20%22shape_array_key_right%22%3A%20%2221aedea4c0d05c570e042903cc62c9cf%22%2C%20%22stop_id%22%3A%20%2287500%22%2C%20%22stop_sequence%22%3A%20105%2C%20%22trip_id%22%3A%20%22t120-sl9-p84-r1A%22%7D%2C%20%22type%22%3A%20%22Feature%22%7D%2C%20%7B%22bbox%22%3A%20%5B-122.6313852040316%2C%2038.2469653226834%2C%20-122.62127995136046%2C%2038.252366313938204%5D%2C%20%22geometry%22%3A%20%7B%22coordinates%22%3A%20%5B%5B%5B-122.62252178102098%2C%2038.24771873501208%5D%2C%20%5B-122.62221501086226%2C%2038.24805390998142%5D%2C%20%5B-122.62221025617347%2C%2038.248058996550924%5D%2C%20%5B-122.62200025658619%2C%2038.24827899711347%5D%2C%20%5B-122.62197515436611%2C%2038.24830276905272%5D%2C%20%5B-122.62194720962387%2C%2038.24832449190733%5D%2C%20%5B-122.62191669148268%2C%2038.24834395647248%5D%2C%20%5B-122.6218838938499%2C%2038.24836097529197%5D%2C%20%5B-122.62184913258652%2C%2038.248375384463316%5D%2C%20%5B-122.62181274246527%2C%2038.248387045216965%5D%2C%20%5B-122.62177507394624%2C%2038.248395845252034%5D%2C%20%5B-122.62173648980193%2C%2038.24840169981842%5D%2C%20%5B-122.62169736162313%2C%2038.24840455253271%5D%2C%20%5B-122.62165806624031%2C%2038.248404375921375%5D%2C%20%5B-122.62161898209426%2C%2038.24840117168526%5D%2C%20%5B-122.62158048559131%2C%2038.248394970683385%5D%2C%20%5B-122.62154294747826%2C%2038.24838583263546%5D%2C%20%5B-122.62150672927156%2C%2038.2483738455469%5D%2C%20%5B-122.6214721797757%2C%2038.248359124861445%5D%2C%20%5B-122.6214396317238%2C%2038.24834181234878%5D%2C%20%5B-122.6214093985732%2C%2038.24832207473966%5D%2C%20%5B-122.62138177148654%2C%2038.24830010211991%5D%2C%20%5B-122.62135701652767%2C%2038.24827610609981%5D%2C%20%5B-122.62133537209945%2C%2038.24825031777594%5D%2C%20%5B-122.62131704664762%2C%2038.24822298550571%5D%2C%20%5B-122.62130221665365%2C%2038.24819437251547%5D%2C%20%5B-122.62129102493503%2C%2038.24816475436515%5D%2C%20%5B-122.62128357927018%2C%2038.24813441629485%5D%2C%20%5B-122.62127995136046%2C%2038.248103650477425%5D%2C%20%5B-122.62128017613993%2C%2038.24807275320489%5D%2C%20%5B-122.6212842514391%2C%2038.24804202203487%5D%2C%20%5B-122.6212921380059%2C%2038.24801175292487%5D%2C%20%5B-122.621303759884%2C%2038.24798223738231%5D%2C%20%5B-122.62131900514441%2C%2038.24795375965684%5D%2C%20%5B-122.62133772696363%2C%2038.24792659400329%5D%2C%20%5B-122.62135974503772%2C%2038.24790100204006%5D%2C%20%5B-122.62156733566843%2C%2038.24768352713417%5D%2C%20%5B-122.62210499198143%2C%2038.2470960906146%5D%2C%20%5B-122.62212943598402%2C%2038.24707196932626%5D%2C%20%5B-122.6221567641929%2C%2038.24704984431078%5D%2C%20%5B-122.62218671436477%2C%2038.24702992787931%5D%2C%20%5B-122.62221899909675%2C%2038.247012411149214%5D%2C%20%5B-122.62225330858435%2C%2038.24699746221035%5D%2C%20%5B-122.62228931359414%2C%2038.246985224512024%5D%2C%20%5B-122.62232666862315%2C%2038.246975815486536%5D%2C%20%5B-122.62236501521416%2C%2038.24696932542245%5D%2C%20%5B-122.6224039853953%2C%2038.246965816597886%5D%2C%20%5B-122.62244320521101%2C%2038.2469653226834%5D%2C%20%5B-122.6224822983103%2C%2038.246967848418635%5D%2C%20%5B-122.62252088955816%2C%2038.246973369566625%5D%2C%20%5B-122.62255860863512%2C%2038.2469818331469%5D%2C%20%5B-122.62259509359063%2C%2038.24699315794342%5D%2C%20%5B-122.6226299943164%2C%2038.24700723528393%5D%2C%20%5B-122.6226629759057%2C%2038.24702393008311%5D%2C%20%5B-122.62298261850819%2C%2038.24720372872657%5D%2C%20%5B-122.62606927490589%2C%2038.248931853743734%5D%2C%20%5B-122.62645625495048%2C%2038.24914022725766%5D%2C%20%5B-122.62646166301622%2C%2038.249143190979844%5D%2C%20%5B-122.6312165675439%2C%2038.251794768880444%5D%2C%20%5B-122.63124746823019%2C%2038.2518138581098%5D%2C%20%5B-122.63127584038698%2C%2038.251835236794804%5D%2C%20%5B-122.63130141077514%2C%2038.2518586990491%5D%2C%20%5B-122.63132393313711%2C%2038.25188401892011%5D%2C%20%5B-122.63134319056859%2C%2038.25191095256547%5D%2C%20%5B-122.63135899760749%2C%2038.251939240601075%5D%2C%20%5B-122.63137120202019%2C%2038.251968610599015%5D%2C%20%5B-122.63137968626764%2C%2038.25199877971132%5D%2C%20%5B-122.63138436863757%2C%2038.25202945739373%5D%2C%20%5B-122.6313852040316%2C%2038.252060348203855%5D%2C%20%5B-122.6313821843996%2C%2038.25209115464635%5D%2C%20%5B-122.63137533881759%2C%2038.2521215800381%5D%2C%20%5B-122.6313647332078%2C%2038.25215133136522%5D%2C%20%5B-122.63135046970393%2C%2038.25218012210527%5D%2C%20%5B-122.63133268566786%2C%2038.25220767498639%5D%2C%20%5B-122.63131155236668%2C%2038.25223372465767%5D%2C%20%5B-122.63128727332366%2C%2038.25225802024491%5D%2C%20%5B-122.63126008235817%2C%2038.25228032776637%5D%2C%20%5B-122.63123024133381%2C%2038.25230043238671%5D%2C%20%5B-122.63119803763671%2C%2038.25231814048539%5D%2C%20%5B-122.63116378140774%2C%2038.252333281522056%5D%2C%20%5B-122.63112780255553%2C%2038.25234570967864%5D%2C%20%5B-122.63109044757937%2C%2038.25235530526375%5D%2C%20%5B-122.63105207623194%2C%2038.25236197586554%5D%2C%20%5B-122.63101305805463%2C%2038.252365657241754%5D%2C%20%5B-122.63097376881848%2C%2038.252366313938204%5D%2C%20%5B-122.63093458690501%2C%2038.25236393963048%5D%2C%20%5B-122.63089588966227%2C%2038.25235855718481%5D%2C%20%5B-122.63085804977028%2C%2038.25235021843762%5D%2C%20%5B-122.63082143165198%2C%2038.252339003696676%5D%2C%20%5B-122.63078638796341%2C%2038.25232502096731%5D%2C%20%5B-122.63075325619725%2C%2038.25230840491239%5D%2C%20%5B-122.62600102391636%2C%2038.24965830795512%5D%2C%20%5B-122.62561374275097%2C%2038.249449771587436%5D%2C%20%5B-122.62560774255401%2C%2038.24944647695458%5D%2C%20%5B-122.62252178102098%2C%2038.24771873501208%5D%5D%5D%2C%20%22type%22%3A%20%22Polygon%22%7D%2C%20%22id%22%3A%20%2240%22%2C%20%22properties%22%3A%20%7B%22district%22%3A%204%2C%20%22district_name%22%3A%20%22District%204%20-%20Oakland%22%2C%20%22feed_key_left%22%3A%20%22540e857d28ffdc628260ca22a21cb330%22%2C%20%22feed_key_right%22%3A%20%22540e857d28ffdc628260ca22a21cb330%22%2C%20%22gtfs_dataset_key_left%22%3A%20%22bc21582ac1ad2b7de0647dfd5b76f67c%22%2C%20%22gtfs_dataset_key_right%22%3A%20%22bc21582ac1ad2b7de0647dfd5b76f67c%22%2C%20%22index_right%22%3A%2020083%2C%20%22loop_or_inlining%22%3A%200%2C%20%22seg_idx%22%3A%2020123%2C%20%22shape_array_key_left%22%3A%20%2221aedea4c0d05c570e042903cc62c9cf%22%2C%20%22shape_array_key_right%22%3A%20%2221aedea4c0d05c570e042903cc62c9cf%22%2C%20%22stop_id%22%3A%20%2287500%22%2C%20%22stop_sequence%22%3A%20105%2C%20%22trip_id%22%3A%20%22t120-sl9-p84-r1A%22%7D%2C%20%22type%22%3A%20%22Feature%22%7D%2C%20%7B%22bbox%22%3A%20%5B-122.6313852040316%2C%2038.2469653226834%2C%20-122.62127995136046%2C%2038.252366313938204%5D%2C%20%22geometry%22%3A%20%7B%22coordinates%22%3A%20%5B%5B%5B-122.62252178102098%2C%2038.24771873501208%5D%2C%20%5B-122.62221501086226%2C%2038.24805390998142%5D%2C%20%5B-122.62221025617347%2C%2038.248058996550924%5D%2C%20%5B-122.62200025658619%2C%2038.24827899711347%5D%2C%20%5B-122.62197515436611%2C%2038.24830276905272%5D%2C%20%5B-122.62194720962387%2C%2038.24832449190733%5D%2C%20%5B-122.62191669148268%2C%2038.24834395647248%5D%2C%20%5B-122.6218838938499%2C%2038.24836097529197%5D%2C%20%5B-122.62184913258652%2C%2038.248375384463316%5D%2C%20%5B-122.62181274246527%2C%2038.248387045216965%5D%2C%20%5B-122.62177507394624%2C%2038.248395845252034%5D%2C%20%5B-122.62173648980193%2C%2038.24840169981842%5D%2C%20%5B-122.62169736162313%2C%2038.24840455253271%5D%2C%20%5B-122.62165806624031%2C%2038.248404375921375%5D%2C%20%5B-122.62161898209426%2C%2038.24840117168526%5D%2C%20%5B-122.62158048559131%2C%2038.248394970683385%5D%2C%20%5B-122.62154294747826%2C%2038.24838583263546%5D%2C%20%5B-122.62150672927156%2C%2038.2483738455469%5D%2C%20%5B-122.6214721797757%2C%2038.248359124861445%5D%2C%20%5B-122.6214396317238%2C%2038.24834181234878%5D%2C%20%5B-122.6214093985732%2C%2038.24832207473966%5D%2C%20%5B-122.62138177148654%2C%2038.24830010211991%5D%2C%20%5B-122.62135701652767%2C%2038.24827610609981%5D%2C%20%5B-122.62133537209945%2C%2038.24825031777594%5D%2C%20%5B-122.62131704664762%2C%2038.24822298550571%5D%2C%20%5B-122.62130221665365%2C%2038.24819437251547%5D%2C%20%5B-122.62129102493503%2C%2038.24816475436515%5D%2C%20%5B-122.62128357927018%2C%2038.24813441629485%5D%2C%20%5B-122.62127995136046%2C%2038.248103650477425%5D%2C%20%5B-122.62128017613993%2C%2038.24807275320489%5D%2C%20%5B-122.6212842514391%2C%2038.24804202203487%5D%2C%20%5B-122.6212921380059%2C%2038.24801175292487%5D%2C%20%5B-122.621303759884%2C%2038.24798223738231%5D%2C%20%5B-122.62131900514441%2C%2038.24795375965684%5D%2C%20%5B-122.62133772696363%2C%2038.24792659400329%5D%2C%20%5B-122.62135974503772%2C%2038.24790100204006%5D%2C%20%5B-122.62156733566843%2C%2038.24768352713417%5D%2C%20%5B-122.62210499198143%2C%2038.2470960906146%5D%2C%20%5B-122.62212943598402%2C%2038.24707196932626%5D%2C%20%5B-122.6221567641929%2C%2038.24704984431078%5D%2C%20%5B-122.62218671436477%2C%2038.24702992787931%5D%2C%20%5B-122.62221899909675%2C%2038.247012411149214%5D%2C%20%5B-122.62225330858435%2C%2038.24699746221035%5D%2C%20%5B-122.62228931359414%2C%2038.246985224512024%5D%2C%20%5B-122.62232666862315%2C%2038.246975815486536%5D%2C%20%5B-122.62236501521416%2C%2038.24696932542245%5D%2C%20%5B-122.6224039853953%2C%2038.246965816597886%5D%2C%20%5B-122.62244320521101%2C%2038.2469653226834%5D%2C%20%5B-122.6224822983103%2C%2038.246967848418635%5D%2C%20%5B-122.62252088955816%2C%2038.246973369566625%5D%2C%20%5B-122.62255860863512%2C%2038.2469818331469%5D%2C%20%5B-122.62259509359063%2C%2038.24699315794342%5D%2C%20%5B-122.6226299943164%2C%2038.24700723528393%5D%2C%20%5B-122.6226629759057%2C%2038.24702393008311%5D%2C%20%5B-122.62298261850819%2C%2038.24720372872657%5D%2C%20%5B-122.62606927490589%2C%2038.248931853743734%5D%2C%20%5B-122.62645625495048%2C%2038.24914022725766%5D%2C%20%5B-122.62646166301622%2C%2038.249143190979844%5D%2C%20%5B-122.6312165675439%2C%2038.251794768880444%5D%2C%20%5B-122.63124746823019%2C%2038.2518138581098%5D%2C%20%5B-122.63127584038698%2C%2038.251835236794804%5D%2C%20%5B-122.63130141077514%2C%2038.2518586990491%5D%2C%20%5B-122.63132393313711%2C%2038.25188401892011%5D%2C%20%5B-122.63134319056859%2C%2038.25191095256547%5D%2C%20%5B-122.63135899760749%2C%2038.251939240601075%5D%2C%20%5B-122.63137120202019%2C%2038.251968610599015%5D%2C%20%5B-122.63137968626764%2C%2038.25199877971132%5D%2C%20%5B-122.63138436863757%2C%2038.25202945739373%5D%2C%20%5B-122.6313852040316%2C%2038.252060348203855%5D%2C%20%5B-122.6313821843996%2C%2038.25209115464635%5D%2C%20%5B-122.63137533881759%2C%2038.2521215800381%5D%2C%20%5B-122.6313647332078%2C%2038.25215133136522%5D%2C%20%5B-122.63135046970393%2C%2038.25218012210527%5D%2C%20%5B-122.63133268566786%2C%2038.25220767498639%5D%2C%20%5B-122.63131155236668%2C%2038.25223372465767%5D%2C%20%5B-122.63128727332366%2C%2038.25225802024491%5D%2C%20%5B-122.63126008235817%2C%2038.25228032776637%5D%2C%20%5B-122.63123024133381%2C%2038.25230043238671%5D%2C%20%5B-122.63119803763671%2C%2038.25231814048539%5D%2C%20%5B-122.63116378140774%2C%2038.252333281522056%5D%2C%20%5B-122.63112780255553%2C%2038.25234570967864%5D%2C%20%5B-122.63109044757937%2C%2038.25235530526375%5D%2C%20%5B-122.63105207623194%2C%2038.25236197586554%5D%2C%20%5B-122.63101305805463%2C%2038.252365657241754%5D%2C%20%5B-122.63097376881848%2C%2038.252366313938204%5D%2C%20%5B-122.63093458690501%2C%2038.25236393963048%5D%2C%20%5B-122.63089588966227%2C%2038.25235855718481%5D%2C%20%5B-122.63085804977028%2C%2038.25235021843762%5D%2C%20%5B-122.63082143165198%2C%2038.252339003696676%5D%2C%20%5B-122.63078638796341%2C%2038.25232502096731%5D%2C%20%5B-122.63075325619725%2C%2038.25230840491239%5D%2C%20%5B-122.62600102391636%2C%2038.24965830795512%5D%2C%20%5B-122.62561374275097%2C%2038.249449771587436%5D%2C%20%5B-122.62560774255401%2C%2038.24944647695458%5D%2C%20%5B-122.62252178102098%2C%2038.24771873501208%5D%5D%5D%2C%20%22type%22%3A%20%22Polygon%22%7D%2C%20%22id%22%3A%20%2241%22%2C%20%22properties%22%3A%20%7B%22district%22%3A%204%2C%20%22district_name%22%3A%20%22District%204%20-%20Oakland%22%2C%20%22feed_key_left%22%3A%20%22540e857d28ffdc628260ca22a21cb330%22%2C%20%22feed_key_right%22%3A%20%22540e857d28ffdc628260ca22a21cb330%22%2C%20%22gtfs_dataset_key_left%22%3A%20%22bc21582ac1ad2b7de0647dfd5b76f67c%22%2C%20%22gtfs_dataset_key_right%22%3A%20%22bc21582ac1ad2b7de0647dfd5b76f67c%22%2C%20%22index_right%22%3A%2020083%2C%20%22loop_or_inlining%22%3A%200%2C%20%22seg_idx%22%3A%2020123%2C%20%22shape_array_key_left%22%3A%20%2221aedea4c0d05c570e042903cc62c9cf%22%2C%20%22shape_array_key_right%22%3A%20%2221aedea4c0d05c570e042903cc62c9cf%22%2C%20%22stop_id%22%3A%20%2287500%22%2C%20%22stop_sequence%22%3A%20105%2C%20%22trip_id%22%3A%20%22t120-sl9-p84-r1A%22%7D%2C%20%22type%22%3A%20%22Feature%22%7D%2C%20%7B%22bbox%22%3A%20%5B-122.6313852040316%2C%2038.2469653226834%2C%20-122.62127995136046%2C%2038.252366313938204%5D%2C%20%22geometry%22%3A%20%7B%22coordinates%22%3A%20%5B%5B%5B-122.62252178102098%2C%2038.24771873501208%5D%2C%20%5B-122.62221501086226%2C%2038.24805390998142%5D%2C%20%5B-122.62221025617347%2C%2038.248058996550924%5D%2C%20%5B-122.62200025658619%2C%2038.24827899711347%5D%2C%20%5B-122.62197515436611%2C%2038.24830276905272%5D%2C%20%5B-122.62194720962387%2C%2038.24832449190733%5D%2C%20%5B-122.62191669148268%2C%2038.24834395647248%5D%2C%20%5B-122.6218838938499%2C%2038.24836097529197%5D%2C%20%5B-122.62184913258652%2C%2038.248375384463316%5D%2C%20%5B-122.62181274246527%2C%2038.248387045216965%5D%2C%20%5B-122.62177507394624%2C%2038.248395845252034%5D%2C%20%5B-122.62173648980193%2C%2038.24840169981842%5D%2C%20%5B-122.62169736162313%2C%2038.24840455253271%5D%2C%20%5B-122.62165806624031%2C%2038.248404375921375%5D%2C%20%5B-122.62161898209426%2C%2038.24840117168526%5D%2C%20%5B-122.62158048559131%2C%2038.248394970683385%5D%2C%20%5B-122.62154294747826%2C%2038.24838583263546%5D%2C%20%5B-122.62150672927156%2C%2038.2483738455469%5D%2C%20%5B-122.6214721797757%2C%2038.248359124861445%5D%2C%20%5B-122.6214396317238%2C%2038.24834181234878%5D%2C%20%5B-122.6214093985732%2C%2038.24832207473966%5D%2C%20%5B-122.62138177148654%2C%2038.24830010211991%5D%2C%20%5B-122.62135701652767%2C%2038.24827610609981%5D%2C%20%5B-122.62133537209945%2C%2038.24825031777594%5D%2C%20%5B-122.62131704664762%2C%2038.24822298550571%5D%2C%20%5B-122.62130221665365%2C%2038.24819437251547%5D%2C%20%5B-122.62129102493503%2C%2038.24816475436515%5D%2C%20%5B-122.62128357927018%2C%2038.24813441629485%5D%2C%20%5B-122.62127995136046%2C%2038.248103650477425%5D%2C%20%5B-122.62128017613993%2C%2038.24807275320489%5D%2C%20%5B-122.6212842514391%2C%2038.24804202203487%5D%2C%20%5B-122.6212921380059%2C%2038.24801175292487%5D%2C%20%5B-122.621303759884%2C%2038.24798223738231%5D%2C%20%5B-122.62131900514441%2C%2038.24795375965684%5D%2C%20%5B-122.62133772696363%2C%2038.24792659400329%5D%2C%20%5B-122.62135974503772%2C%2038.24790100204006%5D%2C%20%5B-122.62156733566843%2C%2038.24768352713417%5D%2C%20%5B-122.62210499198143%2C%2038.2470960906146%5D%2C%20%5B-122.62212943598402%2C%2038.24707196932626%5D%2C%20%5B-122.6221567641929%2C%2038.24704984431078%5D%2C%20%5B-122.62218671436477%2C%2038.24702992787931%5D%2C%20%5B-122.62221899909675%2C%2038.247012411149214%5D%2C%20%5B-122.62225330858435%2C%2038.24699746221035%5D%2C%20%5B-122.62228931359414%2C%2038.246985224512024%5D%2C%20%5B-122.62232666862315%2C%2038.246975815486536%5D%2C%20%5B-122.62236501521416%2C%2038.24696932542245%5D%2C%20%5B-122.6224039853953%2C%2038.246965816597886%5D%2C%20%5B-122.62244320521101%2C%2038.2469653226834%5D%2C%20%5B-122.6224822983103%2C%2038.246967848418635%5D%2C%20%5B-122.62252088955816%2C%2038.246973369566625%5D%2C%20%5B-122.62255860863512%2C%2038.2469818331469%5D%2C%20%5B-122.62259509359063%2C%2038.24699315794342%5D%2C%20%5B-122.6226299943164%2C%2038.24700723528393%5D%2C%20%5B-122.6226629759057%2C%2038.24702393008311%5D%2C%20%5B-122.62298261850819%2C%2038.24720372872657%5D%2C%20%5B-122.62606927490589%2C%2038.248931853743734%5D%2C%20%5B-122.62645625495048%2C%2038.24914022725766%5D%2C%20%5B-122.62646166301622%2C%2038.249143190979844%5D%2C%20%5B-122.6312165675439%2C%2038.251794768880444%5D%2C%20%5B-122.63124746823019%2C%2038.2518138581098%5D%2C%20%5B-122.63127584038698%2C%2038.251835236794804%5D%2C%20%5B-122.63130141077514%2C%2038.2518586990491%5D%2C%20%5B-122.63132393313711%2C%2038.25188401892011%5D%2C%20%5B-122.63134319056859%2C%2038.25191095256547%5D%2C%20%5B-122.63135899760749%2C%2038.251939240601075%5D%2C%20%5B-122.63137120202019%2C%2038.251968610599015%5D%2C%20%5B-122.63137968626764%2C%2038.25199877971132%5D%2C%20%5B-122.63138436863757%2C%2038.25202945739373%5D%2C%20%5B-122.6313852040316%2C%2038.252060348203855%5D%2C%20%5B-122.6313821843996%2C%2038.25209115464635%5D%2C%20%5B-122.63137533881759%2C%2038.2521215800381%5D%2C%20%5B-122.6313647332078%2C%2038.25215133136522%5D%2C%20%5B-122.63135046970393%2C%2038.25218012210527%5D%2C%20%5B-122.63133268566786%2C%2038.25220767498639%5D%2C%20%5B-122.63131155236668%2C%2038.25223372465767%5D%2C%20%5B-122.63128727332366%2C%2038.25225802024491%5D%2C%20%5B-122.63126008235817%2C%2038.25228032776637%5D%2C%20%5B-122.63123024133381%2C%2038.25230043238671%5D%2C%20%5B-122.63119803763671%2C%2038.25231814048539%5D%2C%20%5B-122.63116378140774%2C%2038.252333281522056%5D%2C%20%5B-122.63112780255553%2C%2038.25234570967864%5D%2C%20%5B-122.63109044757937%2C%2038.25235530526375%5D%2C%20%5B-122.63105207623194%2C%2038.25236197586554%5D%2C%20%5B-122.63101305805463%2C%2038.252365657241754%5D%2C%20%5B-122.63097376881848%2C%2038.252366313938204%5D%2C%20%5B-122.63093458690501%2C%2038.25236393963048%5D%2C%20%5B-122.63089588966227%2C%2038.25235855718481%5D%2C%20%5B-122.63085804977028%2C%2038.25235021843762%5D%2C%20%5B-122.63082143165198%2C%2038.252339003696676%5D%2C%20%5B-122.63078638796341%2C%2038.25232502096731%5D%2C%20%5B-122.63075325619725%2C%2038.25230840491239%5D%2C%20%5B-122.62600102391636%2C%2038.24965830795512%5D%2C%20%5B-122.62561374275097%2C%2038.249449771587436%5D%2C%20%5B-122.62560774255401%2C%2038.24944647695458%5D%2C%20%5B-122.62252178102098%2C%2038.24771873501208%5D%5D%5D%2C%20%22type%22%3A%20%22Polygon%22%7D%2C%20%22id%22%3A%20%2242%22%2C%20%22properties%22%3A%20%7B%22district%22%3A%204%2C%20%22district_name%22%3A%20%22District%204%20-%20Oakland%22%2C%20%22feed_key_left%22%3A%20%22540e857d28ffdc628260ca22a21cb330%22%2C%20%22feed_key_right%22%3A%20%22540e857d28ffdc628260ca22a21cb330%22%2C%20%22gtfs_dataset_key_left%22%3A%20%22bc21582ac1ad2b7de0647dfd5b76f67c%22%2C%20%22gtfs_dataset_key_right%22%3A%20%22bc21582ac1ad2b7de0647dfd5b76f67c%22%2C%20%22index_right%22%3A%2020083%2C%20%22loop_or_inlining%22%3A%200%2C%20%22seg_idx%22%3A%2020123%2C%20%22shape_array_key_left%22%3A%20%2221aedea4c0d05c570e042903cc62c9cf%22%2C%20%22shape_array_key_right%22%3A%20%2221aedea4c0d05c570e042903cc62c9cf%22%2C%20%22stop_id%22%3A%20%2287500%22%2C%20%22stop_sequence%22%3A%20105%2C%20%22trip_id%22%3A%20%22t120-sl9-p84-r1A%22%7D%2C%20%22type%22%3A%20%22Feature%22%7D%2C%20%7B%22bbox%22%3A%20%5B-122.6313852040316%2C%2038.2469653226834%2C%20-122.62127995136046%2C%2038.252366313938204%5D%2C%20%22geometry%22%3A%20%7B%22coordinates%22%3A%20%5B%5B%5B-122.62252178102098%2C%2038.24771873501208%5D%2C%20%5B-122.62221501086226%2C%2038.24805390998142%5D%2C%20%5B-122.62221025617347%2C%2038.248058996550924%5D%2C%20%5B-122.62200025658619%2C%2038.24827899711347%5D%2C%20%5B-122.62197515436611%2C%2038.24830276905272%5D%2C%20%5B-122.62194720962387%2C%2038.24832449190733%5D%2C%20%5B-122.62191669148268%2C%2038.24834395647248%5D%2C%20%5B-122.6218838938499%2C%2038.24836097529197%5D%2C%20%5B-122.62184913258652%2C%2038.248375384463316%5D%2C%20%5B-122.62181274246527%2C%2038.248387045216965%5D%2C%20%5B-122.62177507394624%2C%2038.248395845252034%5D%2C%20%5B-122.62173648980193%2C%2038.24840169981842%5D%2C%20%5B-122.62169736162313%2C%2038.24840455253271%5D%2C%20%5B-122.62165806624031%2C%2038.248404375921375%5D%2C%20%5B-122.62161898209426%2C%2038.24840117168526%5D%2C%20%5B-122.62158048559131%2C%2038.248394970683385%5D%2C%20%5B-122.62154294747826%2C%2038.24838583263546%5D%2C%20%5B-122.62150672927156%2C%2038.2483738455469%5D%2C%20%5B-122.6214721797757%2C%2038.248359124861445%5D%2C%20%5B-122.6214396317238%2C%2038.24834181234878%5D%2C%20%5B-122.6214093985732%2C%2038.24832207473966%5D%2C%20%5B-122.62138177148654%2C%2038.24830010211991%5D%2C%20%5B-122.62135701652767%2C%2038.24827610609981%5D%2C%20%5B-122.62133537209945%2C%2038.24825031777594%5D%2C%20%5B-122.62131704664762%2C%2038.24822298550571%5D%2C%20%5B-122.62130221665365%2C%2038.24819437251547%5D%2C%20%5B-122.62129102493503%2C%2038.24816475436515%5D%2C%20%5B-122.62128357927018%2C%2038.24813441629485%5D%2C%20%5B-122.62127995136046%2C%2038.248103650477425%5D%2C%20%5B-122.62128017613993%2C%2038.24807275320489%5D%2C%20%5B-122.6212842514391%2C%2038.24804202203487%5D%2C%20%5B-122.6212921380059%2C%2038.24801175292487%5D%2C%20%5B-122.621303759884%2C%2038.24798223738231%5D%2C%20%5B-122.62131900514441%2C%2038.24795375965684%5D%2C%20%5B-122.62133772696363%2C%2038.24792659400329%5D%2C%20%5B-122.62135974503772%2C%2038.24790100204006%5D%2C%20%5B-122.62156733566843%2C%2038.24768352713417%5D%2C%20%5B-122.62210499198143%2C%2038.2470960906146%5D%2C%20%5B-122.62212943598402%2C%2038.24707196932626%5D%2C%20%5B-122.6221567641929%2C%2038.24704984431078%5D%2C%20%5B-122.62218671436477%2C%2038.24702992787931%5D%2C%20%5B-122.62221899909675%2C%2038.247012411149214%5D%2C%20%5B-122.62225330858435%2C%2038.24699746221035%5D%2C%20%5B-122.62228931359414%2C%2038.246985224512024%5D%2C%20%5B-122.62232666862315%2C%2038.246975815486536%5D%2C%20%5B-122.62236501521416%2C%2038.24696932542245%5D%2C%20%5B-122.6224039853953%2C%2038.246965816597886%5D%2C%20%5B-122.62244320521101%2C%2038.2469653226834%5D%2C%20%5B-122.6224822983103%2C%2038.246967848418635%5D%2C%20%5B-122.62252088955816%2C%2038.246973369566625%5D%2C%20%5B-122.62255860863512%2C%2038.2469818331469%5D%2C%20%5B-122.62259509359063%2C%2038.24699315794342%5D%2C%20%5B-122.6226299943164%2C%2038.24700723528393%5D%2C%20%5B-122.6226629759057%2C%2038.24702393008311%5D%2C%20%5B-122.62298261850819%2C%2038.24720372872657%5D%2C%20%5B-122.62606927490589%2C%2038.248931853743734%5D%2C%20%5B-122.62645625495048%2C%2038.24914022725766%5D%2C%20%5B-122.62646166301622%2C%2038.249143190979844%5D%2C%20%5B-122.6312165675439%2C%2038.251794768880444%5D%2C%20%5B-122.63124746823019%2C%2038.2518138581098%5D%2C%20%5B-122.63127584038698%2C%2038.251835236794804%5D%2C%20%5B-122.63130141077514%2C%2038.2518586990491%5D%2C%20%5B-122.63132393313711%2C%2038.25188401892011%5D%2C%20%5B-122.63134319056859%2C%2038.25191095256547%5D%2C%20%5B-122.63135899760749%2C%2038.251939240601075%5D%2C%20%5B-122.63137120202019%2C%2038.251968610599015%5D%2C%20%5B-122.63137968626764%2C%2038.25199877971132%5D%2C%20%5B-122.63138436863757%2C%2038.25202945739373%5D%2C%20%5B-122.6313852040316%2C%2038.252060348203855%5D%2C%20%5B-122.6313821843996%2C%2038.25209115464635%5D%2C%20%5B-122.63137533881759%2C%2038.2521215800381%5D%2C%20%5B-122.6313647332078%2C%2038.25215133136522%5D%2C%20%5B-122.63135046970393%2C%2038.25218012210527%5D%2C%20%5B-122.63133268566786%2C%2038.25220767498639%5D%2C%20%5B-122.63131155236668%2C%2038.25223372465767%5D%2C%20%5B-122.63128727332366%2C%2038.25225802024491%5D%2C%20%5B-122.63126008235817%2C%2038.25228032776637%5D%2C%20%5B-122.63123024133381%2C%2038.25230043238671%5D%2C%20%5B-122.63119803763671%2C%2038.25231814048539%5D%2C%20%5B-122.63116378140774%2C%2038.252333281522056%5D%2C%20%5B-122.63112780255553%2C%2038.25234570967864%5D%2C%20%5B-122.63109044757937%2C%2038.25235530526375%5D%2C%20%5B-122.63105207623194%2C%2038.25236197586554%5D%2C%20%5B-122.63101305805463%2C%2038.252365657241754%5D%2C%20%5B-122.63097376881848%2C%2038.252366313938204%5D%2C%20%5B-122.63093458690501%2C%2038.25236393963048%5D%2C%20%5B-122.63089588966227%2C%2038.25235855718481%5D%2C%20%5B-122.63085804977028%2C%2038.25235021843762%5D%2C%20%5B-122.63082143165198%2C%2038.252339003696676%5D%2C%20%5B-122.63078638796341%2C%2038.25232502096731%5D%2C%20%5B-122.63075325619725%2C%2038.25230840491239%5D%2C%20%5B-122.62600102391636%2C%2038.24965830795512%5D%2C%20%5B-122.62561374275097%2C%2038.249449771587436%5D%2C%20%5B-122.62560774255401%2C%2038.24944647695458%5D%2C%20%5B-122.62252178102098%2C%2038.24771873501208%5D%5D%5D%2C%20%22type%22%3A%20%22Polygon%22%7D%2C%20%22id%22%3A%20%2243%22%2C%20%22properties%22%3A%20%7B%22district%22%3A%204%2C%20%22district_name%22%3A%20%22District%204%20-%20Oakland%22%2C%20%22feed_key_left%22%3A%20%22540e857d28ffdc628260ca22a21cb330%22%2C%20%22feed_key_right%22%3A%20%22540e857d28ffdc628260ca22a21cb330%22%2C%20%22gtfs_dataset_key_left%22%3A%20%22bc21582ac1ad2b7de0647dfd5b76f67c%22%2C%20%22gtfs_dataset_key_right%22%3A%20%22bc21582ac1ad2b7de0647dfd5b76f67c%22%2C%20%22index_right%22%3A%2020083%2C%20%22loop_or_inlining%22%3A%200%2C%20%22seg_idx%22%3A%2020123%2C%20%22shape_array_key_left%22%3A%20%2221aedea4c0d05c570e042903cc62c9cf%22%2C%20%22shape_array_key_right%22%3A%20%2221aedea4c0d05c570e042903cc62c9cf%22%2C%20%22stop_id%22%3A%20%2287500%22%2C%20%22stop_sequence%22%3A%20105%2C%20%22trip_id%22%3A%20%22t120-sl9-p84-r1A%22%7D%2C%20%22type%22%3A%20%22Feature%22%7D%2C%20%7B%22bbox%22%3A%20%5B-122.6313852040316%2C%2038.2469653226834%2C%20-122.62127995136046%2C%2038.252366313938204%5D%2C%20%22geometry%22%3A%20%7B%22coordinates%22%3A%20%5B%5B%5B-122.62252178102098%2C%2038.24771873501208%5D%2C%20%5B-122.62221501086226%2C%2038.24805390998142%5D%2C%20%5B-122.62221025617347%2C%2038.248058996550924%5D%2C%20%5B-122.62200025658619%2C%2038.24827899711347%5D%2C%20%5B-122.62197515436611%2C%2038.24830276905272%5D%2C%20%5B-122.62194720962387%2C%2038.24832449190733%5D%2C%20%5B-122.62191669148268%2C%2038.24834395647248%5D%2C%20%5B-122.6218838938499%2C%2038.24836097529197%5D%2C%20%5B-122.62184913258652%2C%2038.248375384463316%5D%2C%20%5B-122.62181274246527%2C%2038.248387045216965%5D%2C%20%5B-122.62177507394624%2C%2038.248395845252034%5D%2C%20%5B-122.62173648980193%2C%2038.24840169981842%5D%2C%20%5B-122.62169736162313%2C%2038.24840455253271%5D%2C%20%5B-122.62165806624031%2C%2038.248404375921375%5D%2C%20%5B-122.62161898209426%2C%2038.24840117168526%5D%2C%20%5B-122.62158048559131%2C%2038.248394970683385%5D%2C%20%5B-122.62154294747826%2C%2038.24838583263546%5D%2C%20%5B-122.62150672927156%2C%2038.2483738455469%5D%2C%20%5B-122.6214721797757%2C%2038.248359124861445%5D%2C%20%5B-122.6214396317238%2C%2038.24834181234878%5D%2C%20%5B-122.6214093985732%2C%2038.24832207473966%5D%2C%20%5B-122.62138177148654%2C%2038.24830010211991%5D%2C%20%5B-122.62135701652767%2C%2038.24827610609981%5D%2C%20%5B-122.62133537209945%2C%2038.24825031777594%5D%2C%20%5B-122.62131704664762%2C%2038.24822298550571%5D%2C%20%5B-122.62130221665365%2C%2038.24819437251547%5D%2C%20%5B-122.62129102493503%2C%2038.24816475436515%5D%2C%20%5B-122.62128357927018%2C%2038.24813441629485%5D%2C%20%5B-122.62127995136046%2C%2038.248103650477425%5D%2C%20%5B-122.62128017613993%2C%2038.24807275320489%5D%2C%20%5B-122.6212842514391%2C%2038.24804202203487%5D%2C%20%5B-122.6212921380059%2C%2038.24801175292487%5D%2C%20%5B-122.621303759884%2C%2038.24798223738231%5D%2C%20%5B-122.62131900514441%2C%2038.24795375965684%5D%2C%20%5B-122.62133772696363%2C%2038.24792659400329%5D%2C%20%5B-122.62135974503772%2C%2038.24790100204006%5D%2C%20%5B-122.62156733566843%2C%2038.24768352713417%5D%2C%20%5B-122.62210499198143%2C%2038.2470960906146%5D%2C%20%5B-122.62212943598402%2C%2038.24707196932626%5D%2C%20%5B-122.6221567641929%2C%2038.24704984431078%5D%2C%20%5B-122.62218671436477%2C%2038.24702992787931%5D%2C%20%5B-122.62221899909675%2C%2038.247012411149214%5D%2C%20%5B-122.62225330858435%2C%2038.24699746221035%5D%2C%20%5B-122.62228931359414%2C%2038.246985224512024%5D%2C%20%5B-122.62232666862315%2C%2038.246975815486536%5D%2C%20%5B-122.62236501521416%2C%2038.24696932542245%5D%2C%20%5B-122.6224039853953%2C%2038.246965816597886%5D%2C%20%5B-122.62244320521101%2C%2038.2469653226834%5D%2C%20%5B-122.6224822983103%2C%2038.246967848418635%5D%2C%20%5B-122.62252088955816%2C%2038.246973369566625%5D%2C%20%5B-122.62255860863512%2C%2038.2469818331469%5D%2C%20%5B-122.62259509359063%2C%2038.24699315794342%5D%2C%20%5B-122.6226299943164%2C%2038.24700723528393%5D%2C%20%5B-122.6226629759057%2C%2038.24702393008311%5D%2C%20%5B-122.62298261850819%2C%2038.24720372872657%5D%2C%20%5B-122.62606927490589%2C%2038.248931853743734%5D%2C%20%5B-122.62645625495048%2C%2038.24914022725766%5D%2C%20%5B-122.62646166301622%2C%2038.249143190979844%5D%2C%20%5B-122.6312165675439%2C%2038.251794768880444%5D%2C%20%5B-122.63124746823019%2C%2038.2518138581098%5D%2C%20%5B-122.63127584038698%2C%2038.251835236794804%5D%2C%20%5B-122.63130141077514%2C%2038.2518586990491%5D%2C%20%5B-122.63132393313711%2C%2038.25188401892011%5D%2C%20%5B-122.63134319056859%2C%2038.25191095256547%5D%2C%20%5B-122.63135899760749%2C%2038.251939240601075%5D%2C%20%5B-122.63137120202019%2C%2038.251968610599015%5D%2C%20%5B-122.63137968626764%2C%2038.25199877971132%5D%2C%20%5B-122.63138436863757%2C%2038.25202945739373%5D%2C%20%5B-122.6313852040316%2C%2038.252060348203855%5D%2C%20%5B-122.6313821843996%2C%2038.25209115464635%5D%2C%20%5B-122.63137533881759%2C%2038.2521215800381%5D%2C%20%5B-122.6313647332078%2C%2038.25215133136522%5D%2C%20%5B-122.63135046970393%2C%2038.25218012210527%5D%2C%20%5B-122.63133268566786%2C%2038.25220767498639%5D%2C%20%5B-122.63131155236668%2C%2038.25223372465767%5D%2C%20%5B-122.63128727332366%2C%2038.25225802024491%5D%2C%20%5B-122.63126008235817%2C%2038.25228032776637%5D%2C%20%5B-122.63123024133381%2C%2038.25230043238671%5D%2C%20%5B-122.63119803763671%2C%2038.25231814048539%5D%2C%20%5B-122.63116378140774%2C%2038.252333281522056%5D%2C%20%5B-122.63112780255553%2C%2038.25234570967864%5D%2C%20%5B-122.63109044757937%2C%2038.25235530526375%5D%2C%20%5B-122.63105207623194%2C%2038.25236197586554%5D%2C%20%5B-122.63101305805463%2C%2038.252365657241754%5D%2C%20%5B-122.63097376881848%2C%2038.252366313938204%5D%2C%20%5B-122.63093458690501%2C%2038.25236393963048%5D%2C%20%5B-122.63089588966227%2C%2038.25235855718481%5D%2C%20%5B-122.63085804977028%2C%2038.25235021843762%5D%2C%20%5B-122.63082143165198%2C%2038.252339003696676%5D%2C%20%5B-122.63078638796341%2C%2038.25232502096731%5D%2C%20%5B-122.63075325619725%2C%2038.25230840491239%5D%2C%20%5B-122.62600102391636%2C%2038.24965830795512%5D%2C%20%5B-122.62561374275097%2C%2038.249449771587436%5D%2C%20%5B-122.62560774255401%2C%2038.24944647695458%5D%2C%20%5B-122.62252178102098%2C%2038.24771873501208%5D%5D%5D%2C%20%22type%22%3A%20%22Polygon%22%7D%2C%20%22id%22%3A%20%2244%22%2C%20%22properties%22%3A%20%7B%22district%22%3A%204%2C%20%22district_name%22%3A%20%22District%204%20-%20Oakland%22%2C%20%22feed_key_left%22%3A%20%22540e857d28ffdc628260ca22a21cb330%22%2C%20%22feed_key_right%22%3A%20%22540e857d28ffdc628260ca22a21cb330%22%2C%20%22gtfs_dataset_key_left%22%3A%20%22bc21582ac1ad2b7de0647dfd5b76f67c%22%2C%20%22gtfs_dataset_key_right%22%3A%20%22bc21582ac1ad2b7de0647dfd5b76f67c%22%2C%20%22index_right%22%3A%2020083%2C%20%22loop_or_inlining%22%3A%200%2C%20%22seg_idx%22%3A%2020123%2C%20%22shape_array_key_left%22%3A%20%2221aedea4c0d05c570e042903cc62c9cf%22%2C%20%22shape_array_key_right%22%3A%20%2221aedea4c0d05c570e042903cc62c9cf%22%2C%20%22stop_id%22%3A%20%2287500%22%2C%20%22stop_sequence%22%3A%20105%2C%20%22trip_id%22%3A%20%22t120-sl9-p84-r1A%22%7D%2C%20%22type%22%3A%20%22Feature%22%7D%2C%20%7B%22bbox%22%3A%20%5B-122.6313852040316%2C%2038.2469653226834%2C%20-122.62127995136046%2C%2038.252366313938204%5D%2C%20%22geometry%22%3A%20%7B%22coordinates%22%3A%20%5B%5B%5B-122.62252178102098%2C%2038.24771873501208%5D%2C%20%5B-122.62221501086226%2C%2038.24805390998142%5D%2C%20%5B-122.62221025617347%2C%2038.248058996550924%5D%2C%20%5B-122.62200025658619%2C%2038.24827899711347%5D%2C%20%5B-122.62197515436611%2C%2038.24830276905272%5D%2C%20%5B-122.62194720962387%2C%2038.24832449190733%5D%2C%20%5B-122.62191669148268%2C%2038.24834395647248%5D%2C%20%5B-122.6218838938499%2C%2038.24836097529197%5D%2C%20%5B-122.62184913258652%2C%2038.248375384463316%5D%2C%20%5B-122.62181274246527%2C%2038.248387045216965%5D%2C%20%5B-122.62177507394624%2C%2038.248395845252034%5D%2C%20%5B-122.62173648980193%2C%2038.24840169981842%5D%2C%20%5B-122.62169736162313%2C%2038.24840455253271%5D%2C%20%5B-122.62165806624031%2C%2038.248404375921375%5D%2C%20%5B-122.62161898209426%2C%2038.24840117168526%5D%2C%20%5B-122.62158048559131%2C%2038.248394970683385%5D%2C%20%5B-122.62154294747826%2C%2038.24838583263546%5D%2C%20%5B-122.62150672927156%2C%2038.2483738455469%5D%2C%20%5B-122.6214721797757%2C%2038.248359124861445%5D%2C%20%5B-122.6214396317238%2C%2038.24834181234878%5D%2C%20%5B-122.6214093985732%2C%2038.24832207473966%5D%2C%20%5B-122.62138177148654%2C%2038.24830010211991%5D%2C%20%5B-122.62135701652767%2C%2038.24827610609981%5D%2C%20%5B-122.62133537209945%2C%2038.24825031777594%5D%2C%20%5B-122.62131704664762%2C%2038.24822298550571%5D%2C%20%5B-122.62130221665365%2C%2038.24819437251547%5D%2C%20%5B-122.62129102493503%2C%2038.24816475436515%5D%2C%20%5B-122.62128357927018%2C%2038.24813441629485%5D%2C%20%5B-122.62127995136046%2C%2038.248103650477425%5D%2C%20%5B-122.62128017613993%2C%2038.24807275320489%5D%2C%20%5B-122.6212842514391%2C%2038.24804202203487%5D%2C%20%5B-122.6212921380059%2C%2038.24801175292487%5D%2C%20%5B-122.621303759884%2C%2038.24798223738231%5D%2C%20%5B-122.62131900514441%2C%2038.24795375965684%5D%2C%20%5B-122.62133772696363%2C%2038.24792659400329%5D%2C%20%5B-122.62135974503772%2C%2038.24790100204006%5D%2C%20%5B-122.62156733566843%2C%2038.24768352713417%5D%2C%20%5B-122.62210499198143%2C%2038.2470960906146%5D%2C%20%5B-122.62212943598402%2C%2038.24707196932626%5D%2C%20%5B-122.6221567641929%2C%2038.24704984431078%5D%2C%20%5B-122.62218671436477%2C%2038.24702992787931%5D%2C%20%5B-122.62221899909675%2C%2038.247012411149214%5D%2C%20%5B-122.62225330858435%2C%2038.24699746221035%5D%2C%20%5B-122.62228931359414%2C%2038.246985224512024%5D%2C%20%5B-122.62232666862315%2C%2038.246975815486536%5D%2C%20%5B-122.62236501521416%2C%2038.24696932542245%5D%2C%20%5B-122.6224039853953%2C%2038.246965816597886%5D%2C%20%5B-122.62244320521101%2C%2038.2469653226834%5D%2C%20%5B-122.6224822983103%2C%2038.246967848418635%5D%2C%20%5B-122.62252088955816%2C%2038.246973369566625%5D%2C%20%5B-122.62255860863512%2C%2038.2469818331469%5D%2C%20%5B-122.62259509359063%2C%2038.24699315794342%5D%2C%20%5B-122.6226299943164%2C%2038.24700723528393%5D%2C%20%5B-122.6226629759057%2C%2038.24702393008311%5D%2C%20%5B-122.62298261850819%2C%2038.24720372872657%5D%2C%20%5B-122.62606927490589%2C%2038.248931853743734%5D%2C%20%5B-122.62645625495048%2C%2038.24914022725766%5D%2C%20%5B-122.62646166301622%2C%2038.249143190979844%5D%2C%20%5B-122.6312165675439%2C%2038.251794768880444%5D%2C%20%5B-122.63124746823019%2C%2038.2518138581098%5D%2C%20%5B-122.63127584038698%2C%2038.251835236794804%5D%2C%20%5B-122.63130141077514%2C%2038.2518586990491%5D%2C%20%5B-122.63132393313711%2C%2038.25188401892011%5D%2C%20%5B-122.63134319056859%2C%2038.25191095256547%5D%2C%20%5B-122.63135899760749%2C%2038.251939240601075%5D%2C%20%5B-122.63137120202019%2C%2038.251968610599015%5D%2C%20%5B-122.63137968626764%2C%2038.25199877971132%5D%2C%20%5B-122.63138436863757%2C%2038.25202945739373%5D%2C%20%5B-122.6313852040316%2C%2038.252060348203855%5D%2C%20%5B-122.6313821843996%2C%2038.25209115464635%5D%2C%20%5B-122.63137533881759%2C%2038.2521215800381%5D%2C%20%5B-122.6313647332078%2C%2038.25215133136522%5D%2C%20%5B-122.63135046970393%2C%2038.25218012210527%5D%2C%20%5B-122.63133268566786%2C%2038.25220767498639%5D%2C%20%5B-122.63131155236668%2C%2038.25223372465767%5D%2C%20%5B-122.63128727332366%2C%2038.25225802024491%5D%2C%20%5B-122.63126008235817%2C%2038.25228032776637%5D%2C%20%5B-122.63123024133381%2C%2038.25230043238671%5D%2C%20%5B-122.63119803763671%2C%2038.25231814048539%5D%2C%20%5B-122.63116378140774%2C%2038.252333281522056%5D%2C%20%5B-122.63112780255553%2C%2038.25234570967864%5D%2C%20%5B-122.63109044757937%2C%2038.25235530526375%5D%2C%20%5B-122.63105207623194%2C%2038.25236197586554%5D%2C%20%5B-122.63101305805463%2C%2038.252365657241754%5D%2C%20%5B-122.63097376881848%2C%2038.252366313938204%5D%2C%20%5B-122.63093458690501%2C%2038.25236393963048%5D%2C%20%5B-122.63089588966227%2C%2038.25235855718481%5D%2C%20%5B-122.63085804977028%2C%2038.25235021843762%5D%2C%20%5B-122.63082143165198%2C%2038.252339003696676%5D%2C%20%5B-122.63078638796341%2C%2038.25232502096731%5D%2C%20%5B-122.63075325619725%2C%2038.25230840491239%5D%2C%20%5B-122.62600102391636%2C%2038.24965830795512%5D%2C%20%5B-122.62561374275097%2C%2038.249449771587436%5D%2C%20%5B-122.62560774255401%2C%2038.24944647695458%5D%2C%20%5B-122.62252178102098%2C%2038.24771873501208%5D%5D%5D%2C%20%22type%22%3A%20%22Polygon%22%7D%2C%20%22id%22%3A%20%2245%22%2C%20%22properties%22%3A%20%7B%22district%22%3A%204%2C%20%22district_name%22%3A%20%22District%204%20-%20Oakland%22%2C%20%22feed_key_left%22%3A%20%22540e857d28ffdc628260ca22a21cb330%22%2C%20%22feed_key_right%22%3A%20%22540e857d28ffdc628260ca22a21cb330%22%2C%20%22gtfs_dataset_key_left%22%3A%20%22bc21582ac1ad2b7de0647dfd5b76f67c%22%2C%20%22gtfs_dataset_key_right%22%3A%20%22bc21582ac1ad2b7de0647dfd5b76f67c%22%2C%20%22index_right%22%3A%2020083%2C%20%22loop_or_inlining%22%3A%200%2C%20%22seg_idx%22%3A%2020123%2C%20%22shape_array_key_left%22%3A%20%2221aedea4c0d05c570e042903cc62c9cf%22%2C%20%22shape_array_key_right%22%3A%20%2221aedea4c0d05c570e042903cc62c9cf%22%2C%20%22stop_id%22%3A%20%2287500%22%2C%20%22stop_sequence%22%3A%20105%2C%20%22trip_id%22%3A%20%22t120-sl9-p84-r1A%22%7D%2C%20%22type%22%3A%20%22Feature%22%7D%2C%20%7B%22bbox%22%3A%20%5B-122.6313852040316%2C%2038.2469653226834%2C%20-122.62127995136046%2C%2038.252366313938204%5D%2C%20%22geometry%22%3A%20%7B%22coordinates%22%3A%20%5B%5B%5B-122.62252178102098%2C%2038.24771873501208%5D%2C%20%5B-122.62221501086226%2C%2038.24805390998142%5D%2C%20%5B-122.62221025617347%2C%2038.248058996550924%5D%2C%20%5B-122.62200025658619%2C%2038.24827899711347%5D%2C%20%5B-122.62197515436611%2C%2038.24830276905272%5D%2C%20%5B-122.62194720962387%2C%2038.24832449190733%5D%2C%20%5B-122.62191669148268%2C%2038.24834395647248%5D%2C%20%5B-122.6218838938499%2C%2038.24836097529197%5D%2C%20%5B-122.62184913258652%2C%2038.248375384463316%5D%2C%20%5B-122.62181274246527%2C%2038.248387045216965%5D%2C%20%5B-122.62177507394624%2C%2038.248395845252034%5D%2C%20%5B-122.62173648980193%2C%2038.24840169981842%5D%2C%20%5B-122.62169736162313%2C%2038.24840455253271%5D%2C%20%5B-122.62165806624031%2C%2038.248404375921375%5D%2C%20%5B-122.62161898209426%2C%2038.24840117168526%5D%2C%20%5B-122.62158048559131%2C%2038.248394970683385%5D%2C%20%5B-122.62154294747826%2C%2038.24838583263546%5D%2C%20%5B-122.62150672927156%2C%2038.2483738455469%5D%2C%20%5B-122.6214721797757%2C%2038.248359124861445%5D%2C%20%5B-122.6214396317238%2C%2038.24834181234878%5D%2C%20%5B-122.6214093985732%2C%2038.24832207473966%5D%2C%20%5B-122.62138177148654%2C%2038.24830010211991%5D%2C%20%5B-122.62135701652767%2C%2038.24827610609981%5D%2C%20%5B-122.62133537209945%2C%2038.24825031777594%5D%2C%20%5B-122.62131704664762%2C%2038.24822298550571%5D%2C%20%5B-122.62130221665365%2C%2038.24819437251547%5D%2C%20%5B-122.62129102493503%2C%2038.24816475436515%5D%2C%20%5B-122.62128357927018%2C%2038.24813441629485%5D%2C%20%5B-122.62127995136046%2C%2038.248103650477425%5D%2C%20%5B-122.62128017613993%2C%2038.24807275320489%5D%2C%20%5B-122.6212842514391%2C%2038.24804202203487%5D%2C%20%5B-122.6212921380059%2C%2038.24801175292487%5D%2C%20%5B-122.621303759884%2C%2038.24798223738231%5D%2C%20%5B-122.62131900514441%2C%2038.24795375965684%5D%2C%20%5B-122.62133772696363%2C%2038.24792659400329%5D%2C%20%5B-122.62135974503772%2C%2038.24790100204006%5D%2C%20%5B-122.62156733566843%2C%2038.24768352713417%5D%2C%20%5B-122.62210499198143%2C%2038.2470960906146%5D%2C%20%5B-122.62212943598402%2C%2038.24707196932626%5D%2C%20%5B-122.6221567641929%2C%2038.24704984431078%5D%2C%20%5B-122.62218671436477%2C%2038.24702992787931%5D%2C%20%5B-122.62221899909675%2C%2038.247012411149214%5D%2C%20%5B-122.62225330858435%2C%2038.24699746221035%5D%2C%20%5B-122.62228931359414%2C%2038.246985224512024%5D%2C%20%5B-122.62232666862315%2C%2038.246975815486536%5D%2C%20%5B-122.62236501521416%2C%2038.24696932542245%5D%2C%20%5B-122.6224039853953%2C%2038.246965816597886%5D%2C%20%5B-122.62244320521101%2C%2038.2469653226834%5D%2C%20%5B-122.6224822983103%2C%2038.246967848418635%5D%2C%20%5B-122.62252088955816%2C%2038.246973369566625%5D%2C%20%5B-122.62255860863512%2C%2038.2469818331469%5D%2C%20%5B-122.62259509359063%2C%2038.24699315794342%5D%2C%20%5B-122.6226299943164%2C%2038.24700723528393%5D%2C%20%5B-122.6226629759057%2C%2038.24702393008311%5D%2C%20%5B-122.62298261850819%2C%2038.24720372872657%5D%2C%20%5B-122.62606927490589%2C%2038.248931853743734%5D%2C%20%5B-122.62645625495048%2C%2038.24914022725766%5D%2C%20%5B-122.62646166301622%2C%2038.249143190979844%5D%2C%20%5B-122.6312165675439%2C%2038.251794768880444%5D%2C%20%5B-122.63124746823019%2C%2038.2518138581098%5D%2C%20%5B-122.63127584038698%2C%2038.251835236794804%5D%2C%20%5B-122.63130141077514%2C%2038.2518586990491%5D%2C%20%5B-122.63132393313711%2C%2038.25188401892011%5D%2C%20%5B-122.63134319056859%2C%2038.25191095256547%5D%2C%20%5B-122.63135899760749%2C%2038.251939240601075%5D%2C%20%5B-122.63137120202019%2C%2038.251968610599015%5D%2C%20%5B-122.63137968626764%2C%2038.25199877971132%5D%2C%20%5B-122.63138436863757%2C%2038.25202945739373%5D%2C%20%5B-122.6313852040316%2C%2038.252060348203855%5D%2C%20%5B-122.6313821843996%2C%2038.25209115464635%5D%2C%20%5B-122.63137533881759%2C%2038.2521215800381%5D%2C%20%5B-122.6313647332078%2C%2038.25215133136522%5D%2C%20%5B-122.63135046970393%2C%2038.25218012210527%5D%2C%20%5B-122.63133268566786%2C%2038.25220767498639%5D%2C%20%5B-122.63131155236668%2C%2038.25223372465767%5D%2C%20%5B-122.63128727332366%2C%2038.25225802024491%5D%2C%20%5B-122.63126008235817%2C%2038.25228032776637%5D%2C%20%5B-122.63123024133381%2C%2038.25230043238671%5D%2C%20%5B-122.63119803763671%2C%2038.25231814048539%5D%2C%20%5B-122.63116378140774%2C%2038.252333281522056%5D%2C%20%5B-122.63112780255553%2C%2038.25234570967864%5D%2C%20%5B-122.63109044757937%2C%2038.25235530526375%5D%2C%20%5B-122.63105207623194%2C%2038.25236197586554%5D%2C%20%5B-122.63101305805463%2C%2038.252365657241754%5D%2C%20%5B-122.63097376881848%2C%2038.252366313938204%5D%2C%20%5B-122.63093458690501%2C%2038.25236393963048%5D%2C%20%5B-122.63089588966227%2C%2038.25235855718481%5D%2C%20%5B-122.63085804977028%2C%2038.25235021843762%5D%2C%20%5B-122.63082143165198%2C%2038.252339003696676%5D%2C%20%5B-122.63078638796341%2C%2038.25232502096731%5D%2C%20%5B-122.63075325619725%2C%2038.25230840491239%5D%2C%20%5B-122.62600102391636%2C%2038.24965830795512%5D%2C%20%5B-122.62561374275097%2C%2038.249449771587436%5D%2C%20%5B-122.62560774255401%2C%2038.24944647695458%5D%2C%20%5B-122.62252178102098%2C%2038.24771873501208%5D%5D%5D%2C%20%22type%22%3A%20%22Polygon%22%7D%2C%20%22id%22%3A%20%2246%22%2C%20%22properties%22%3A%20%7B%22district%22%3A%204%2C%20%22district_name%22%3A%20%22District%204%20-%20Oakland%22%2C%20%22feed_key_left%22%3A%20%22540e857d28ffdc628260ca22a21cb330%22%2C%20%22feed_key_right%22%3A%20%22540e857d28ffdc628260ca22a21cb330%22%2C%20%22gtfs_dataset_key_left%22%3A%20%22bc21582ac1ad2b7de0647dfd5b76f67c%22%2C%20%22gtfs_dataset_key_right%22%3A%20%22bc21582ac1ad2b7de0647dfd5b76f67c%22%2C%20%22index_right%22%3A%2020083%2C%20%22loop_or_inlining%22%3A%200%2C%20%22seg_idx%22%3A%2020123%2C%20%22shape_array_key_left%22%3A%20%2221aedea4c0d05c570e042903cc62c9cf%22%2C%20%22shape_array_key_right%22%3A%20%2221aedea4c0d05c570e042903cc62c9cf%22%2C%20%22stop_id%22%3A%20%2287500%22%2C%20%22stop_sequence%22%3A%20105%2C%20%22trip_id%22%3A%20%22t120-sl9-p84-r1A%22%7D%2C%20%22type%22%3A%20%22Feature%22%7D%2C%20%7B%22bbox%22%3A%20%5B-122.6313852040316%2C%2038.2469653226834%2C%20-122.62127995136046%2C%2038.252366313938204%5D%2C%20%22geometry%22%3A%20%7B%22coordinates%22%3A%20%5B%5B%5B-122.62252178102098%2C%2038.24771873501208%5D%2C%20%5B-122.62221501086226%2C%2038.24805390998142%5D%2C%20%5B-122.62221025617347%2C%2038.248058996550924%5D%2C%20%5B-122.62200025658619%2C%2038.24827899711347%5D%2C%20%5B-122.62197515436611%2C%2038.24830276905272%5D%2C%20%5B-122.62194720962387%2C%2038.24832449190733%5D%2C%20%5B-122.62191669148268%2C%2038.24834395647248%5D%2C%20%5B-122.6218838938499%2C%2038.24836097529197%5D%2C%20%5B-122.62184913258652%2C%2038.248375384463316%5D%2C%20%5B-122.62181274246527%2C%2038.248387045216965%5D%2C%20%5B-122.62177507394624%2C%2038.248395845252034%5D%2C%20%5B-122.62173648980193%2C%2038.24840169981842%5D%2C%20%5B-122.62169736162313%2C%2038.24840455253271%5D%2C%20%5B-122.62165806624031%2C%2038.248404375921375%5D%2C%20%5B-122.62161898209426%2C%2038.24840117168526%5D%2C%20%5B-122.62158048559131%2C%2038.248394970683385%5D%2C%20%5B-122.62154294747826%2C%2038.24838583263546%5D%2C%20%5B-122.62150672927156%2C%2038.2483738455469%5D%2C%20%5B-122.6214721797757%2C%2038.248359124861445%5D%2C%20%5B-122.6214396317238%2C%2038.24834181234878%5D%2C%20%5B-122.6214093985732%2C%2038.24832207473966%5D%2C%20%5B-122.62138177148654%2C%2038.24830010211991%5D%2C%20%5B-122.62135701652767%2C%2038.24827610609981%5D%2C%20%5B-122.62133537209945%2C%2038.24825031777594%5D%2C%20%5B-122.62131704664762%2C%2038.24822298550571%5D%2C%20%5B-122.62130221665365%2C%2038.24819437251547%5D%2C%20%5B-122.62129102493503%2C%2038.24816475436515%5D%2C%20%5B-122.62128357927018%2C%2038.24813441629485%5D%2C%20%5B-122.62127995136046%2C%2038.248103650477425%5D%2C%20%5B-122.62128017613993%2C%2038.24807275320489%5D%2C%20%5B-122.6212842514391%2C%2038.24804202203487%5D%2C%20%5B-122.6212921380059%2C%2038.24801175292487%5D%2C%20%5B-122.621303759884%2C%2038.24798223738231%5D%2C%20%5B-122.62131900514441%2C%2038.24795375965684%5D%2C%20%5B-122.62133772696363%2C%2038.24792659400329%5D%2C%20%5B-122.62135974503772%2C%2038.24790100204006%5D%2C%20%5B-122.62156733566843%2C%2038.24768352713417%5D%2C%20%5B-122.62210499198143%2C%2038.2470960906146%5D%2C%20%5B-122.62212943598402%2C%2038.24707196932626%5D%2C%20%5B-122.6221567641929%2C%2038.24704984431078%5D%2C%20%5B-122.62218671436477%2C%2038.24702992787931%5D%2C%20%5B-122.62221899909675%2C%2038.247012411149214%5D%2C%20%5B-122.62225330858435%2C%2038.24699746221035%5D%2C%20%5B-122.62228931359414%2C%2038.246985224512024%5D%2C%20%5B-122.62232666862315%2C%2038.246975815486536%5D%2C%20%5B-122.62236501521416%2C%2038.24696932542245%5D%2C%20%5B-122.6224039853953%2C%2038.246965816597886%5D%2C%20%5B-122.62244320521101%2C%2038.2469653226834%5D%2C%20%5B-122.6224822983103%2C%2038.246967848418635%5D%2C%20%5B-122.62252088955816%2C%2038.246973369566625%5D%2C%20%5B-122.62255860863512%2C%2038.2469818331469%5D%2C%20%5B-122.62259509359063%2C%2038.24699315794342%5D%2C%20%5B-122.6226299943164%2C%2038.24700723528393%5D%2C%20%5B-122.6226629759057%2C%2038.24702393008311%5D%2C%20%5B-122.62298261850819%2C%2038.24720372872657%5D%2C%20%5B-122.62606927490589%2C%2038.248931853743734%5D%2C%20%5B-122.62645625495048%2C%2038.24914022725766%5D%2C%20%5B-122.62646166301622%2C%2038.249143190979844%5D%2C%20%5B-122.6312165675439%2C%2038.251794768880444%5D%2C%20%5B-122.63124746823019%2C%2038.2518138581098%5D%2C%20%5B-122.63127584038698%2C%2038.251835236794804%5D%2C%20%5B-122.63130141077514%2C%2038.2518586990491%5D%2C%20%5B-122.63132393313711%2C%2038.25188401892011%5D%2C%20%5B-122.63134319056859%2C%2038.25191095256547%5D%2C%20%5B-122.63135899760749%2C%2038.251939240601075%5D%2C%20%5B-122.63137120202019%2C%2038.251968610599015%5D%2C%20%5B-122.63137968626764%2C%2038.25199877971132%5D%2C%20%5B-122.63138436863757%2C%2038.25202945739373%5D%2C%20%5B-122.6313852040316%2C%2038.252060348203855%5D%2C%20%5B-122.6313821843996%2C%2038.25209115464635%5D%2C%20%5B-122.63137533881759%2C%2038.2521215800381%5D%2C%20%5B-122.6313647332078%2C%2038.25215133136522%5D%2C%20%5B-122.63135046970393%2C%2038.25218012210527%5D%2C%20%5B-122.63133268566786%2C%2038.25220767498639%5D%2C%20%5B-122.63131155236668%2C%2038.25223372465767%5D%2C%20%5B-122.63128727332366%2C%2038.25225802024491%5D%2C%20%5B-122.63126008235817%2C%2038.25228032776637%5D%2C%20%5B-122.63123024133381%2C%2038.25230043238671%5D%2C%20%5B-122.63119803763671%2C%2038.25231814048539%5D%2C%20%5B-122.63116378140774%2C%2038.252333281522056%5D%2C%20%5B-122.63112780255553%2C%2038.25234570967864%5D%2C%20%5B-122.63109044757937%2C%2038.25235530526375%5D%2C%20%5B-122.63105207623194%2C%2038.25236197586554%5D%2C%20%5B-122.63101305805463%2C%2038.252365657241754%5D%2C%20%5B-122.63097376881848%2C%2038.252366313938204%5D%2C%20%5B-122.63093458690501%2C%2038.25236393963048%5D%2C%20%5B-122.63089588966227%2C%2038.25235855718481%5D%2C%20%5B-122.63085804977028%2C%2038.25235021843762%5D%2C%20%5B-122.63082143165198%2C%2038.252339003696676%5D%2C%20%5B-122.63078638796341%2C%2038.25232502096731%5D%2C%20%5B-122.63075325619725%2C%2038.25230840491239%5D%2C%20%5B-122.62600102391636%2C%2038.24965830795512%5D%2C%20%5B-122.62561374275097%2C%2038.249449771587436%5D%2C%20%5B-122.62560774255401%2C%2038.24944647695458%5D%2C%20%5B-122.62252178102098%2C%2038.24771873501208%5D%5D%5D%2C%20%22type%22%3A%20%22Polygon%22%7D%2C%20%22id%22%3A%20%2247%22%2C%20%22properties%22%3A%20%7B%22district%22%3A%204%2C%20%22district_name%22%3A%20%22District%204%20-%20Oakland%22%2C%20%22feed_key_left%22%3A%20%22540e857d28ffdc628260ca22a21cb330%22%2C%20%22feed_key_right%22%3A%20%22540e857d28ffdc628260ca22a21cb330%22%2C%20%22gtfs_dataset_key_left%22%3A%20%22bc21582ac1ad2b7de0647dfd5b76f67c%22%2C%20%22gtfs_dataset_key_right%22%3A%20%22bc21582ac1ad2b7de0647dfd5b76f67c%22%2C%20%22index_right%22%3A%2020083%2C%20%22loop_or_inlining%22%3A%200%2C%20%22seg_idx%22%3A%2020123%2C%20%22shape_array_key_left%22%3A%20%2221aedea4c0d05c570e042903cc62c9cf%22%2C%20%22shape_array_key_right%22%3A%20%2221aedea4c0d05c570e042903cc62c9cf%22%2C%20%22stop_id%22%3A%20%2287500%22%2C%20%22stop_sequence%22%3A%20105%2C%20%22trip_id%22%3A%20%22t120-sl9-p84-r1A%22%7D%2C%20%22type%22%3A%20%22Feature%22%7D%2C%20%7B%22bbox%22%3A%20%5B-122.6313852040316%2C%2038.2469653226834%2C%20-122.62127995136046%2C%2038.252366313938204%5D%2C%20%22geometry%22%3A%20%7B%22coordinates%22%3A%20%5B%5B%5B-122.62252178102098%2C%2038.24771873501208%5D%2C%20%5B-122.62221501086226%2C%2038.24805390998142%5D%2C%20%5B-122.62221025617347%2C%2038.248058996550924%5D%2C%20%5B-122.62200025658619%2C%2038.24827899711347%5D%2C%20%5B-122.62197515436611%2C%2038.24830276905272%5D%2C%20%5B-122.62194720962387%2C%2038.24832449190733%5D%2C%20%5B-122.62191669148268%2C%2038.24834395647248%5D%2C%20%5B-122.6218838938499%2C%2038.24836097529197%5D%2C%20%5B-122.62184913258652%2C%2038.248375384463316%5D%2C%20%5B-122.62181274246527%2C%2038.248387045216965%5D%2C%20%5B-122.62177507394624%2C%2038.248395845252034%5D%2C%20%5B-122.62173648980193%2C%2038.24840169981842%5D%2C%20%5B-122.62169736162313%2C%2038.24840455253271%5D%2C%20%5B-122.62165806624031%2C%2038.248404375921375%5D%2C%20%5B-122.62161898209426%2C%2038.24840117168526%5D%2C%20%5B-122.62158048559131%2C%2038.248394970683385%5D%2C%20%5B-122.62154294747826%2C%2038.24838583263546%5D%2C%20%5B-122.62150672927156%2C%2038.2483738455469%5D%2C%20%5B-122.6214721797757%2C%2038.248359124861445%5D%2C%20%5B-122.6214396317238%2C%2038.24834181234878%5D%2C%20%5B-122.6214093985732%2C%2038.24832207473966%5D%2C%20%5B-122.62138177148654%2C%2038.24830010211991%5D%2C%20%5B-122.62135701652767%2C%2038.24827610609981%5D%2C%20%5B-122.62133537209945%2C%2038.24825031777594%5D%2C%20%5B-122.62131704664762%2C%2038.24822298550571%5D%2C%20%5B-122.62130221665365%2C%2038.24819437251547%5D%2C%20%5B-122.62129102493503%2C%2038.24816475436515%5D%2C%20%5B-122.62128357927018%2C%2038.24813441629485%5D%2C%20%5B-122.62127995136046%2C%2038.248103650477425%5D%2C%20%5B-122.62128017613993%2C%2038.24807275320489%5D%2C%20%5B-122.6212842514391%2C%2038.24804202203487%5D%2C%20%5B-122.6212921380059%2C%2038.24801175292487%5D%2C%20%5B-122.621303759884%2C%2038.24798223738231%5D%2C%20%5B-122.62131900514441%2C%2038.24795375965684%5D%2C%20%5B-122.62133772696363%2C%2038.24792659400329%5D%2C%20%5B-122.62135974503772%2C%2038.24790100204006%5D%2C%20%5B-122.62156733566843%2C%2038.24768352713417%5D%2C%20%5B-122.62210499198143%2C%2038.2470960906146%5D%2C%20%5B-122.62212943598402%2C%2038.24707196932626%5D%2C%20%5B-122.6221567641929%2C%2038.24704984431078%5D%2C%20%5B-122.62218671436477%2C%2038.24702992787931%5D%2C%20%5B-122.62221899909675%2C%2038.247012411149214%5D%2C%20%5B-122.62225330858435%2C%2038.24699746221035%5D%2C%20%5B-122.62228931359414%2C%2038.246985224512024%5D%2C%20%5B-122.62232666862315%2C%2038.246975815486536%5D%2C%20%5B-122.62236501521416%2C%2038.24696932542245%5D%2C%20%5B-122.6224039853953%2C%2038.246965816597886%5D%2C%20%5B-122.62244320521101%2C%2038.2469653226834%5D%2C%20%5B-122.6224822983103%2C%2038.246967848418635%5D%2C%20%5B-122.62252088955816%2C%2038.246973369566625%5D%2C%20%5B-122.62255860863512%2C%2038.2469818331469%5D%2C%20%5B-122.62259509359063%2C%2038.24699315794342%5D%2C%20%5B-122.6226299943164%2C%2038.24700723528393%5D%2C%20%5B-122.6226629759057%2C%2038.24702393008311%5D%2C%20%5B-122.62298261850819%2C%2038.24720372872657%5D%2C%20%5B-122.62606927490589%2C%2038.248931853743734%5D%2C%20%5B-122.62645625495048%2C%2038.24914022725766%5D%2C%20%5B-122.62646166301622%2C%2038.249143190979844%5D%2C%20%5B-122.6312165675439%2C%2038.251794768880444%5D%2C%20%5B-122.63124746823019%2C%2038.2518138581098%5D%2C%20%5B-122.63127584038698%2C%2038.251835236794804%5D%2C%20%5B-122.63130141077514%2C%2038.2518586990491%5D%2C%20%5B-122.63132393313711%2C%2038.25188401892011%5D%2C%20%5B-122.63134319056859%2C%2038.25191095256547%5D%2C%20%5B-122.63135899760749%2C%2038.251939240601075%5D%2C%20%5B-122.63137120202019%2C%2038.251968610599015%5D%2C%20%5B-122.63137968626764%2C%2038.25199877971132%5D%2C%20%5B-122.63138436863757%2C%2038.25202945739373%5D%2C%20%5B-122.6313852040316%2C%2038.252060348203855%5D%2C%20%5B-122.6313821843996%2C%2038.25209115464635%5D%2C%20%5B-122.63137533881759%2C%2038.2521215800381%5D%2C%20%5B-122.6313647332078%2C%2038.25215133136522%5D%2C%20%5B-122.63135046970393%2C%2038.25218012210527%5D%2C%20%5B-122.63133268566786%2C%2038.25220767498639%5D%2C%20%5B-122.63131155236668%2C%2038.25223372465767%5D%2C%20%5B-122.63128727332366%2C%2038.25225802024491%5D%2C%20%5B-122.63126008235817%2C%2038.25228032776637%5D%2C%20%5B-122.63123024133381%2C%2038.25230043238671%5D%2C%20%5B-122.63119803763671%2C%2038.25231814048539%5D%2C%20%5B-122.63116378140774%2C%2038.252333281522056%5D%2C%20%5B-122.63112780255553%2C%2038.25234570967864%5D%2C%20%5B-122.63109044757937%2C%2038.25235530526375%5D%2C%20%5B-122.63105207623194%2C%2038.25236197586554%5D%2C%20%5B-122.63101305805463%2C%2038.252365657241754%5D%2C%20%5B-122.63097376881848%2C%2038.252366313938204%5D%2C%20%5B-122.63093458690501%2C%2038.25236393963048%5D%2C%20%5B-122.63089588966227%2C%2038.25235855718481%5D%2C%20%5B-122.63085804977028%2C%2038.25235021843762%5D%2C%20%5B-122.63082143165198%2C%2038.252339003696676%5D%2C%20%5B-122.63078638796341%2C%2038.25232502096731%5D%2C%20%5B-122.63075325619725%2C%2038.25230840491239%5D%2C%20%5B-122.62600102391636%2C%2038.24965830795512%5D%2C%20%5B-122.62561374275097%2C%2038.249449771587436%5D%2C%20%5B-122.62560774255401%2C%2038.24944647695458%5D%2C%20%5B-122.62252178102098%2C%2038.24771873501208%5D%5D%5D%2C%20%22type%22%3A%20%22Polygon%22%7D%2C%20%22id%22%3A%20%2248%22%2C%20%22properties%22%3A%20%7B%22district%22%3A%204%2C%20%22district_name%22%3A%20%22District%204%20-%20Oakland%22%2C%20%22feed_key_left%22%3A%20%22540e857d28ffdc628260ca22a21cb330%22%2C%20%22feed_key_right%22%3A%20%22540e857d28ffdc628260ca22a21cb330%22%2C%20%22gtfs_dataset_key_left%22%3A%20%22bc21582ac1ad2b7de0647dfd5b76f67c%22%2C%20%22gtfs_dataset_key_right%22%3A%20%22bc21582ac1ad2b7de0647dfd5b76f67c%22%2C%20%22index_right%22%3A%2020083%2C%20%22loop_or_inlining%22%3A%200%2C%20%22seg_idx%22%3A%2020123%2C%20%22shape_array_key_left%22%3A%20%2221aedea4c0d05c570e042903cc62c9cf%22%2C%20%22shape_array_key_right%22%3A%20%2221aedea4c0d05c570e042903cc62c9cf%22%2C%20%22stop_id%22%3A%20%2287500%22%2C%20%22stop_sequence%22%3A%20105%2C%20%22trip_id%22%3A%20%22t120-sl9-p84-r1A%22%7D%2C%20%22type%22%3A%20%22Feature%22%7D%2C%20%7B%22bbox%22%3A%20%5B-122.6313852040316%2C%2038.2469653226834%2C%20-122.62127995136046%2C%2038.252366313938204%5D%2C%20%22geometry%22%3A%20%7B%22coordinates%22%3A%20%5B%5B%5B-122.62252178102098%2C%2038.24771873501208%5D%2C%20%5B-122.62221501086226%2C%2038.24805390998142%5D%2C%20%5B-122.62221025617347%2C%2038.248058996550924%5D%2C%20%5B-122.62200025658619%2C%2038.24827899711347%5D%2C%20%5B-122.62197515436611%2C%2038.24830276905272%5D%2C%20%5B-122.62194720962387%2C%2038.24832449190733%5D%2C%20%5B-122.62191669148268%2C%2038.24834395647248%5D%2C%20%5B-122.6218838938499%2C%2038.24836097529197%5D%2C%20%5B-122.62184913258652%2C%2038.248375384463316%5D%2C%20%5B-122.62181274246527%2C%2038.248387045216965%5D%2C%20%5B-122.62177507394624%2C%2038.248395845252034%5D%2C%20%5B-122.62173648980193%2C%2038.24840169981842%5D%2C%20%5B-122.62169736162313%2C%2038.24840455253271%5D%2C%20%5B-122.62165806624031%2C%2038.248404375921375%5D%2C%20%5B-122.62161898209426%2C%2038.24840117168526%5D%2C%20%5B-122.62158048559131%2C%2038.248394970683385%5D%2C%20%5B-122.62154294747826%2C%2038.24838583263546%5D%2C%20%5B-122.62150672927156%2C%2038.2483738455469%5D%2C%20%5B-122.6214721797757%2C%2038.248359124861445%5D%2C%20%5B-122.6214396317238%2C%2038.24834181234878%5D%2C%20%5B-122.6214093985732%2C%2038.24832207473966%5D%2C%20%5B-122.62138177148654%2C%2038.24830010211991%5D%2C%20%5B-122.62135701652767%2C%2038.24827610609981%5D%2C%20%5B-122.62133537209945%2C%2038.24825031777594%5D%2C%20%5B-122.62131704664762%2C%2038.24822298550571%5D%2C%20%5B-122.62130221665365%2C%2038.24819437251547%5D%2C%20%5B-122.62129102493503%2C%2038.24816475436515%5D%2C%20%5B-122.62128357927018%2C%2038.24813441629485%5D%2C%20%5B-122.62127995136046%2C%2038.248103650477425%5D%2C%20%5B-122.62128017613993%2C%2038.24807275320489%5D%2C%20%5B-122.6212842514391%2C%2038.24804202203487%5D%2C%20%5B-122.6212921380059%2C%2038.24801175292487%5D%2C%20%5B-122.621303759884%2C%2038.24798223738231%5D%2C%20%5B-122.62131900514441%2C%2038.24795375965684%5D%2C%20%5B-122.62133772696363%2C%2038.24792659400329%5D%2C%20%5B-122.62135974503772%2C%2038.24790100204006%5D%2C%20%5B-122.62156733566843%2C%2038.24768352713417%5D%2C%20%5B-122.62210499198143%2C%2038.2470960906146%5D%2C%20%5B-122.62212943598402%2C%2038.24707196932626%5D%2C%20%5B-122.6221567641929%2C%2038.24704984431078%5D%2C%20%5B-122.62218671436477%2C%2038.24702992787931%5D%2C%20%5B-122.62221899909675%2C%2038.247012411149214%5D%2C%20%5B-122.62225330858435%2C%2038.24699746221035%5D%2C%20%5B-122.62228931359414%2C%2038.246985224512024%5D%2C%20%5B-122.62232666862315%2C%2038.246975815486536%5D%2C%20%5B-122.62236501521416%2C%2038.24696932542245%5D%2C%20%5B-122.6224039853953%2C%2038.246965816597886%5D%2C%20%5B-122.62244320521101%2C%2038.2469653226834%5D%2C%20%5B-122.6224822983103%2C%2038.246967848418635%5D%2C%20%5B-122.62252088955816%2C%2038.246973369566625%5D%2C%20%5B-122.62255860863512%2C%2038.2469818331469%5D%2C%20%5B-122.62259509359063%2C%2038.24699315794342%5D%2C%20%5B-122.6226299943164%2C%2038.24700723528393%5D%2C%20%5B-122.6226629759057%2C%2038.24702393008311%5D%2C%20%5B-122.62298261850819%2C%2038.24720372872657%5D%2C%20%5B-122.62606927490589%2C%2038.248931853743734%5D%2C%20%5B-122.62645625495048%2C%2038.24914022725766%5D%2C%20%5B-122.62646166301622%2C%2038.249143190979844%5D%2C%20%5B-122.6312165675439%2C%2038.251794768880444%5D%2C%20%5B-122.63124746823019%2C%2038.2518138581098%5D%2C%20%5B-122.63127584038698%2C%2038.251835236794804%5D%2C%20%5B-122.63130141077514%2C%2038.2518586990491%5D%2C%20%5B-122.63132393313711%2C%2038.25188401892011%5D%2C%20%5B-122.63134319056859%2C%2038.25191095256547%5D%2C%20%5B-122.63135899760749%2C%2038.251939240601075%5D%2C%20%5B-122.63137120202019%2C%2038.251968610599015%5D%2C%20%5B-122.63137968626764%2C%2038.25199877971132%5D%2C%20%5B-122.63138436863757%2C%2038.25202945739373%5D%2C%20%5B-122.6313852040316%2C%2038.252060348203855%5D%2C%20%5B-122.6313821843996%2C%2038.25209115464635%5D%2C%20%5B-122.63137533881759%2C%2038.2521215800381%5D%2C%20%5B-122.6313647332078%2C%2038.25215133136522%5D%2C%20%5B-122.63135046970393%2C%2038.25218012210527%5D%2C%20%5B-122.63133268566786%2C%2038.25220767498639%5D%2C%20%5B-122.63131155236668%2C%2038.25223372465767%5D%2C%20%5B-122.63128727332366%2C%2038.25225802024491%5D%2C%20%5B-122.63126008235817%2C%2038.25228032776637%5D%2C%20%5B-122.63123024133381%2C%2038.25230043238671%5D%2C%20%5B-122.63119803763671%2C%2038.25231814048539%5D%2C%20%5B-122.63116378140774%2C%2038.252333281522056%5D%2C%20%5B-122.63112780255553%2C%2038.25234570967864%5D%2C%20%5B-122.63109044757937%2C%2038.25235530526375%5D%2C%20%5B-122.63105207623194%2C%2038.25236197586554%5D%2C%20%5B-122.63101305805463%2C%2038.252365657241754%5D%2C%20%5B-122.63097376881848%2C%2038.252366313938204%5D%2C%20%5B-122.63093458690501%2C%2038.25236393963048%5D%2C%20%5B-122.63089588966227%2C%2038.25235855718481%5D%2C%20%5B-122.63085804977028%2C%2038.25235021843762%5D%2C%20%5B-122.63082143165198%2C%2038.252339003696676%5D%2C%20%5B-122.63078638796341%2C%2038.25232502096731%5D%2C%20%5B-122.63075325619725%2C%2038.25230840491239%5D%2C%20%5B-122.62600102391636%2C%2038.24965830795512%5D%2C%20%5B-122.62561374275097%2C%2038.249449771587436%5D%2C%20%5B-122.62560774255401%2C%2038.24944647695458%5D%2C%20%5B-122.62252178102098%2C%2038.24771873501208%5D%5D%5D%2C%20%22type%22%3A%20%22Polygon%22%7D%2C%20%22id%22%3A%20%2249%22%2C%20%22properties%22%3A%20%7B%22district%22%3A%204%2C%20%22district_name%22%3A%20%22District%204%20-%20Oakland%22%2C%20%22feed_key_left%22%3A%20%22540e857d28ffdc628260ca22a21cb330%22%2C%20%22feed_key_right%22%3A%20%22540e857d28ffdc628260ca22a21cb330%22%2C%20%22gtfs_dataset_key_left%22%3A%20%22bc21582ac1ad2b7de0647dfd5b76f67c%22%2C%20%22gtfs_dataset_key_right%22%3A%20%22bc21582ac1ad2b7de0647dfd5b76f67c%22%2C%20%22index_right%22%3A%2020083%2C%20%22loop_or_inlining%22%3A%200%2C%20%22seg_idx%22%3A%2020123%2C%20%22shape_array_key_left%22%3A%20%2221aedea4c0d05c570e042903cc62c9cf%22%2C%20%22shape_array_key_right%22%3A%20%2221aedea4c0d05c570e042903cc62c9cf%22%2C%20%22stop_id%22%3A%20%2287500%22%2C%20%22stop_sequence%22%3A%20105%2C%20%22trip_id%22%3A%20%22t120-sl9-p84-r1A%22%7D%2C%20%22type%22%3A%20%22Feature%22%7D%2C%20%7B%22bbox%22%3A%20%5B-122.6313852040316%2C%2038.2469653226834%2C%20-122.62127995136046%2C%2038.252366313938204%5D%2C%20%22geometry%22%3A%20%7B%22coordinates%22%3A%20%5B%5B%5B-122.62252178102098%2C%2038.24771873501208%5D%2C%20%5B-122.62221501086226%2C%2038.24805390998142%5D%2C%20%5B-122.62221025617347%2C%2038.248058996550924%5D%2C%20%5B-122.62200025658619%2C%2038.24827899711347%5D%2C%20%5B-122.62197515436611%2C%2038.24830276905272%5D%2C%20%5B-122.62194720962387%2C%2038.24832449190733%5D%2C%20%5B-122.62191669148268%2C%2038.24834395647248%5D%2C%20%5B-122.6218838938499%2C%2038.24836097529197%5D%2C%20%5B-122.62184913258652%2C%2038.248375384463316%5D%2C%20%5B-122.62181274246527%2C%2038.248387045216965%5D%2C%20%5B-122.62177507394624%2C%2038.248395845252034%5D%2C%20%5B-122.62173648980193%2C%2038.24840169981842%5D%2C%20%5B-122.62169736162313%2C%2038.24840455253271%5D%2C%20%5B-122.62165806624031%2C%2038.248404375921375%5D%2C%20%5B-122.62161898209426%2C%2038.24840117168526%5D%2C%20%5B-122.62158048559131%2C%2038.248394970683385%5D%2C%20%5B-122.62154294747826%2C%2038.24838583263546%5D%2C%20%5B-122.62150672927156%2C%2038.2483738455469%5D%2C%20%5B-122.6214721797757%2C%2038.248359124861445%5D%2C%20%5B-122.6214396317238%2C%2038.24834181234878%5D%2C%20%5B-122.6214093985732%2C%2038.24832207473966%5D%2C%20%5B-122.62138177148654%2C%2038.24830010211991%5D%2C%20%5B-122.62135701652767%2C%2038.24827610609981%5D%2C%20%5B-122.62133537209945%2C%2038.24825031777594%5D%2C%20%5B-122.62131704664762%2C%2038.24822298550571%5D%2C%20%5B-122.62130221665365%2C%2038.24819437251547%5D%2C%20%5B-122.62129102493503%2C%2038.24816475436515%5D%2C%20%5B-122.62128357927018%2C%2038.24813441629485%5D%2C%20%5B-122.62127995136046%2C%2038.248103650477425%5D%2C%20%5B-122.62128017613993%2C%2038.24807275320489%5D%2C%20%5B-122.6212842514391%2C%2038.24804202203487%5D%2C%20%5B-122.6212921380059%2C%2038.24801175292487%5D%2C%20%5B-122.621303759884%2C%2038.24798223738231%5D%2C%20%5B-122.62131900514441%2C%2038.24795375965684%5D%2C%20%5B-122.62133772696363%2C%2038.24792659400329%5D%2C%20%5B-122.62135974503772%2C%2038.24790100204006%5D%2C%20%5B-122.62156733566843%2C%2038.24768352713417%5D%2C%20%5B-122.62210499198143%2C%2038.2470960906146%5D%2C%20%5B-122.62212943598402%2C%2038.24707196932626%5D%2C%20%5B-122.6221567641929%2C%2038.24704984431078%5D%2C%20%5B-122.62218671436477%2C%2038.24702992787931%5D%2C%20%5B-122.62221899909675%2C%2038.247012411149214%5D%2C%20%5B-122.62225330858435%2C%2038.24699746221035%5D%2C%20%5B-122.62228931359414%2C%2038.246985224512024%5D%2C%20%5B-122.62232666862315%2C%2038.246975815486536%5D%2C%20%5B-122.62236501521416%2C%2038.24696932542245%5D%2C%20%5B-122.6224039853953%2C%2038.246965816597886%5D%2C%20%5B-122.62244320521101%2C%2038.2469653226834%5D%2C%20%5B-122.6224822983103%2C%2038.246967848418635%5D%2C%20%5B-122.62252088955816%2C%2038.246973369566625%5D%2C%20%5B-122.62255860863512%2C%2038.2469818331469%5D%2C%20%5B-122.62259509359063%2C%2038.24699315794342%5D%2C%20%5B-122.6226299943164%2C%2038.24700723528393%5D%2C%20%5B-122.6226629759057%2C%2038.24702393008311%5D%2C%20%5B-122.62298261850819%2C%2038.24720372872657%5D%2C%20%5B-122.62606927490589%2C%2038.248931853743734%5D%2C%20%5B-122.62645625495048%2C%2038.24914022725766%5D%2C%20%5B-122.62646166301622%2C%2038.249143190979844%5D%2C%20%5B-122.6312165675439%2C%2038.251794768880444%5D%2C%20%5B-122.63124746823019%2C%2038.2518138581098%5D%2C%20%5B-122.63127584038698%2C%2038.251835236794804%5D%2C%20%5B-122.63130141077514%2C%2038.2518586990491%5D%2C%20%5B-122.63132393313711%2C%2038.25188401892011%5D%2C%20%5B-122.63134319056859%2C%2038.25191095256547%5D%2C%20%5B-122.63135899760749%2C%2038.251939240601075%5D%2C%20%5B-122.63137120202019%2C%2038.251968610599015%5D%2C%20%5B-122.63137968626764%2C%2038.25199877971132%5D%2C%20%5B-122.63138436863757%2C%2038.25202945739373%5D%2C%20%5B-122.6313852040316%2C%2038.252060348203855%5D%2C%20%5B-122.6313821843996%2C%2038.25209115464635%5D%2C%20%5B-122.63137533881759%2C%2038.2521215800381%5D%2C%20%5B-122.6313647332078%2C%2038.25215133136522%5D%2C%20%5B-122.63135046970393%2C%2038.25218012210527%5D%2C%20%5B-122.63133268566786%2C%2038.25220767498639%5D%2C%20%5B-122.63131155236668%2C%2038.25223372465767%5D%2C%20%5B-122.63128727332366%2C%2038.25225802024491%5D%2C%20%5B-122.63126008235817%2C%2038.25228032776637%5D%2C%20%5B-122.63123024133381%2C%2038.25230043238671%5D%2C%20%5B-122.63119803763671%2C%2038.25231814048539%5D%2C%20%5B-122.63116378140774%2C%2038.252333281522056%5D%2C%20%5B-122.63112780255553%2C%2038.25234570967864%5D%2C%20%5B-122.63109044757937%2C%2038.25235530526375%5D%2C%20%5B-122.63105207623194%2C%2038.25236197586554%5D%2C%20%5B-122.63101305805463%2C%2038.252365657241754%5D%2C%20%5B-122.63097376881848%2C%2038.252366313938204%5D%2C%20%5B-122.63093458690501%2C%2038.25236393963048%5D%2C%20%5B-122.63089588966227%2C%2038.25235855718481%5D%2C%20%5B-122.63085804977028%2C%2038.25235021843762%5D%2C%20%5B-122.63082143165198%2C%2038.252339003696676%5D%2C%20%5B-122.63078638796341%2C%2038.25232502096731%5D%2C%20%5B-122.63075325619725%2C%2038.25230840491239%5D%2C%20%5B-122.62600102391636%2C%2038.24965830795512%5D%2C%20%5B-122.62561374275097%2C%2038.249449771587436%5D%2C%20%5B-122.62560774255401%2C%2038.24944647695458%5D%2C%20%5B-122.62252178102098%2C%2038.24771873501208%5D%5D%5D%2C%20%22type%22%3A%20%22Polygon%22%7D%2C%20%22id%22%3A%20%2250%22%2C%20%22properties%22%3A%20%7B%22district%22%3A%204%2C%20%22district_name%22%3A%20%22District%204%20-%20Oakland%22%2C%20%22feed_key_left%22%3A%20%22540e857d28ffdc628260ca22a21cb330%22%2C%20%22feed_key_right%22%3A%20%22540e857d28ffdc628260ca22a21cb330%22%2C%20%22gtfs_dataset_key_left%22%3A%20%22bc21582ac1ad2b7de0647dfd5b76f67c%22%2C%20%22gtfs_dataset_key_right%22%3A%20%22bc21582ac1ad2b7de0647dfd5b76f67c%22%2C%20%22index_right%22%3A%2020083%2C%20%22loop_or_inlining%22%3A%200%2C%20%22seg_idx%22%3A%2020123%2C%20%22shape_array_key_left%22%3A%20%2221aedea4c0d05c570e042903cc62c9cf%22%2C%20%22shape_array_key_right%22%3A%20%2221aedea4c0d05c570e042903cc62c9cf%22%2C%20%22stop_id%22%3A%20%2287500%22%2C%20%22stop_sequence%22%3A%20105%2C%20%22trip_id%22%3A%20%22t120-sl9-p84-r1A%22%7D%2C%20%22type%22%3A%20%22Feature%22%7D%2C%20%7B%22bbox%22%3A%20%5B-122.64466826082875%2C%2038.25774742318078%2C%20-122.6411510331249%2C%2038.25991919499197%5D%2C%20%22geometry%22%3A%20%7B%22coordinates%22%3A%20%5B%5B%5B-122.6444942271368%2C%2038.25934461434185%5D%2C%20%5B-122.64450200316617%2C%2038.259349015291676%5D%2C%20%5B-122.64453273430114%2C%2038.25936827606889%5D%2C%20%5B-122.64456091609593%2C%2038.259389812171435%5D%2C%20%5B-122.64458627714457%2C%2038.259413416196715%5D%2C%20%5B-122.64460857320555%2C%2038.25943886082694%5D%2C%20%5B-122.64462758955388%2C%2038.25946590101826%5D%2C%20%5B-122.64464314304918%2C%2038.25949427636032%5D%2C%20%5B-122.64465508389954%2C%2038.2595237135845%5D%2C%20%5B-122.64466329710413%2C%2038.259553929195384%5D%2C%20%5B-122.64466770356094%2C%2038.25958463220091%5D%2C%20%5B-122.64466826082875%2C%2038.259615526914615%5D%2C%20%5B-122.64466496353599%2C%2038.259646315803764%5D%2C%20%5B-122.64465784343264%2C%2038.25967670235407%5D%2C%20%5B-122.64464696908479%2C%2038.25970639392582%5D%2C%20%5B-122.64463244521424%2C%2038.25973510457197%5D%2C%20%5B-122.6446144116904%2C%2038.25976255779197%5D%2C%20%5B-122.64459304218313%2C%2038.25978848919477%5D%2C%20%5B-122.64456854249057%2C%2038.25981264904501%5D%2C%20%5B-122.64454114855707%2C%2038.25983480466833%5D%2C%20%5B-122.64451112420105%2C%2038.25985474269202%5D%2C%20%5B-122.64447875857428%2C%2038.25987227110024%5D%2C%20%5B-122.64444436337712%2C%2038.25988722108303%5D%2C%20%5B-122.64440826985665%2C%2038.25989944866224%5D%2C%20%5B-122.6443708256165%2C%2038.25990883607818%5D%2C%20%5B-122.6443323912691%2C%2038.25991529292396%5D%2C%20%5B-122.64429333696252%2C%2038.259918757015654%5D%2C%20%5B-122.6442540388158%2C%2038.25991919499197%5D%2C%20%5B-122.64421487529631%2C%2038.25991660263473%5D%2C%20%5B-122.64417622357486%2C%2038.25991100491007%5D%2C%20%5B-122.6441384558931%2C%2038.25990245572795%5D%2C%20%5B-122.64410193597855%2C%2038.25989103742257%5D%2C%20%5B-122.6440670155414%2C%2038.25987685995976%5D%2C%20%5B-122.64403403088728%2C%2038.25986005987775%5D%2C%20%5B-122.64402601304515%2C%2038.25985552205424%5D%2C%20%5B-122.64402552973029%2C%2038.259855248085216%5D%2C%20%5B-122.64131677135536%2C%2038.25831730604125%5D%2C%20%5B-122.6412860779705%2C%2038.258298008524%5D%2C%20%5B-122.64125793832352%2C%2038.25827643872059%5D%2C%20%5B-122.64123262341468%2C%2038.25825280436194%5D%2C%20%5B-122.64121037703963%2C%2038.258227333061726%5D%2C%20%5B-122.64119141344135%2C%2038.258200270124235%5D%2C%20%5B-122.64117591524715%2C%2038.25817187618193%5D%2C%20%5B-122.64116403170982%2C%2038.25814242468536%5D%2C%20%5B-122.6411558772704%2C%2038.25811219926968%5D%2C%20%5B-122.64115153045624%2C%2038.25808149102293%5D%2C%20%5B-122.6411510331249%2C%2038.25805059568266%5D%2C%20%5B-122.64115439006113%2C%2038.258019810788%5D%2C%20%5B-122.64116156893112%2C%2038.257989432813964%5D%2C%20%5B-122.641172500594%2C%2038.25795975431637%5D%2C%20%5B-122.64118707976782%2C%2038.257931061114384%5D%2C%20%5B-122.64120516604369%2C%2038.2579036295379%5D%2C%20%5B-122.64122658523816%2C%2038.257877723766484%5D%2C%20%5B-122.64125113107072%2C%2038.257853593285105%5D%2C%20%5B-122.64127856715055%2C%2038.25783147048159%5D%2C%20%5B-122.64130862925309%2C%2038.25781156840885%5D%2C%20%5B-122.64134102786463%2C%2038.257794078732836%5D%2C%20%5B-122.64137545097059%2C%2038.257779169886874%5D%2C%20%5B-122.64141156706016%2C%2038.25776698544972%5D%2C%20%5B-122.64144902831896%2C%2038.25775764276276%5D%2C%20%5B-122.6414874739785%2C%2038.25775123180014%5D%2C%20%5B-122.64152653379041%2C%2038.257747814302185%5D%2C%20%5B-122.64156583159203%2C%2038.25774742318078%5D%2C%20%5B-122.6416049889288%2C%2038.2577500622026%5D%2C%20%5B-122.64164362869889%2C%2038.25775570595277%5D%2C%20%5B-122.64168137878461%2C%2038.25776430007956%5D%2C%20%5B-122.64171787563605%2C%2038.25777576181791%5D%2C%20%5B-122.64175276777205%2C%2038.25778998078619%5D%2C%20%5B-122.64178571916503%2C%2038.25780682004961%5D%2C%20%5B-122.6444942271368%2C%2038.25934461434185%5D%5D%5D%2C%20%22type%22%3A%20%22Polygon%22%7D%2C%20%22id%22%3A%20%2251%22%2C%20%22properties%22%3A%20%7B%22district%22%3A%204%2C%20%22district_name%22%3A%20%22District%204%20-%20Oakland%22%2C%20%22feed_key_left%22%3A%20%22540e857d28ffdc628260ca22a21cb330%22%2C%20%22feed_key_right%22%3A%20%22540e857d28ffdc628260ca22a21cb330%22%2C%20%22gtfs_dataset_key_left%22%3A%20%22bc21582ac1ad2b7de0647dfd5b76f67c%22%2C%20%22gtfs_dataset_key_right%22%3A%20%22bc21582ac1ad2b7de0647dfd5b76f67c%22%2C%20%22index_right%22%3A%2020087%2C%20%22loop_or_inlining%22%3A%200%2C%20%22seg_idx%22%3A%2020127%2C%20%22shape_array_key_left%22%3A%20%2221aedea4c0d05c570e042903cc62c9cf%22%2C%20%22shape_array_key_right%22%3A%20%2221aedea4c0d05c570e042903cc62c9cf%22%2C%20%22stop_id%22%3A%20%2287504%22%2C%20%22stop_sequence%22%3A%20220%2C%20%22trip_id%22%3A%20%22t120-sl9-p84-r1A%22%7D%2C%20%22type%22%3A%20%22Feature%22%7D%2C%20%7B%22bbox%22%3A%20%5B-122.65037353737586%2C%2038.26135846323855%2C%20-122.64752388063641%2C%2038.26314212447898%5D%2C%20%22geometry%22%3A%20%7B%22coordinates%22%3A%20%5B%5B%5B-122.64845830654959%2C%2038.261581318177804%5D%2C%20%5B-122.6484651195343%2C%2038.26158511767743%5D%2C%20%5B-122.64953383024937%2C%2038.26219438156179%5D%2C%20%5B-122.65019253420871%2C%2038.262563654329234%5D%2C%20%5B-122.65020603546115%2C%2038.262571236384915%5D%2C%20%5B-122.65023685720216%2C%2038.26259040880332%5D%2C%20%5B-122.65026514008059%2C%2038.26261186385254%5D%2C%20%5B-122.65029061171703%2C%2038.26263539491074%5D%2C%20%5B-122.65031302680497%2C%2038.26266077536281%5D%2C%20%5B-122.65033216947316%2C%2038.262687760782825%5D%2C%20%5B-122.65034785536471%2C%2038.262716091288134%5D%2C%20%5B-122.6503599334127%2C%2038.2627454940418%5D%2C%20%5B-122.65036828729504%2C%2038.262775685880364%5D%2C%20%5B-122.65037283655494%2C%2038.262806376040764%5D%2C%20%5B-122.65037353737586%2C%2038.262837268960354%5D%2C%20%5B-122.65037038300376%2C%2038.26286806712351%5D%2C%20%5B-122.65036340381225%2C%2038.262898473926725%5D%2C%20%5B-122.6503526670103%2C%2038.2629281965353%5D%2C%20%5B-122.6503382759951%2C%2038.262956948703234%5D%2C%20%5B-122.65032036935649%2C%2038.262984453530116%5D%2C%20%5B-122.65029911954241%2C%2038.26301044612787%5D%2C%20%5B-122.65027473119822%2C%2038.26303467617195%5D%2C%20%5B-122.65024743919587%2C%2038.26305691031187%5D%2C%20%5B-122.65021750637212%2C%2038.263076934418784%5D%2C%20%5B-122.65018522099717%2C%2038.26309455564779%5D%2C%20%5B-122.65015089399854%2C%2038.263109604295%5D%2C%20%5B-122.65011485596645%2C%2038.263121935432125%5D%2C%20%5B-122.65007745397011%2C%2038.263131430302224%5D%2C%20%5B-122.6500390482151%2C%2038.26313799746333%5D%2C%20%5B-122.65000000857417%2C%2038.263141573669316%5D%2C%20%5B-122.649960711025%2C%2038.26314212447898%5D%2C%20%5B-122.64992153402933%2C%2038.263139644587646%5D%2C%20%5B-122.64988285488771%2C%2038.26313415787825%5D%2C%20%5B-122.64984504610585%2C%2038.26312571719157%5D%2C%20%5B-122.64980847180715%2C%2038.26311440381695%5D%2C%20%5B-122.6497734842255%2C%2038.26310032670975%5D%2C%20%5B-122.6497404203133%2C%2038.263083621441595%5D%2C%20%5B-122.64972732785704%2C%2038.26307626880099%5D%2C%20%5B-122.64906746307612%2C%2038.26270634394636%5D%2C%20%5B-122.64906488059246%2C%2038.26270488397674%5D%2C%20%5B-122.647998260159%2C%2038.262096809563886%5D%2C%20%5B-122.6476960084844%2C%2038.261931944784834%5D%2C%20%5B-122.64766485521751%2C%2038.261913106706366%5D%2C%20%5B-122.6476362007351%2C%2038.26189195880644%5D%2C%20%5B-122.64761032099582%2C%2038.26186870475293%5D%2C%20%5B-122.64758746523503%2C%2038.26184356849688%5D%2C%20%5B-122.64756785356467%2C%2038.261816792115994%5D%2C%20%5B-122.64755167485346%2C%2038.26178863348305%5D%2C%20%5B-122.64753908490808%2C%2038.261759363782524%5D%2C%20%5B-122.64753020497274%2C%2038.261729264898776%5D%2C%20%5B-122.64752512056184%2C%2038.2616986267014%5D%2C%20%5B-122.64752388063641%2C%2038.26166774425339%5D%2C%20%5B-122.64752649713283%2C%2038.261636914969785%5D%2C%20%5B-122.64753294484805%2C%2038.26160643575318%5D%2C%20%5B-122.64754316168262%2C%2038.261576600134376%5D%2C%20%5B-122.64755704923859%2C%2038.261547695445906%5D%2C%20%5B-122.64757447376772%2C%2038.26152000005435%5D%2C%20%5B-122.6475952674593%2C%2038.26149378067998%5D%2C%20%5B-122.64761923005665%2C%2038.26146928982809%5D%2C%20%5B-122.64764613078565%2C%2038.26144676335699%5D%2C%20%5B-122.6476757105772%2C%2038.26142641820716%5D%2C%20%5B-122.64770768456246%2C%2038.261408450311535%5D%2C%20%5B-122.64774174481593%2C%2038.26139303270909%5D%2C%20%5B-122.64777756332124%2C%2038.26138031387807%5D%2C%20%5B-122.6478147951297%2C%2038.26137041630631%5D%2C%20%5B-122.64785308168246%2C%2038.26136343531172%5D%2C%20%5B-122.64789205426335%2C%2038.261359438124195%5D%2C%20%5B-122.64793133754976%2C%2038.26135846323855%5D%2C%20%5B-122.64797055322693%2C%2038.261360520043134%5D%2C%20%5B-122.64800932363116%2C%2038.26136558873014%5D%2C%20%5B-122.64804727538679%2C%2038.26137362048594%5D%2C%20%5B-122.6480840430018%2C%2038.26138453796129%5D%2C%20%5B-122.64811927238753%2C%2038.261398236016234%5D%2C%20%5B-122.64815262426869%2C%2038.261414582732385%5D%2C%20%5B-122.64845830654959%2C%2038.261581318177804%5D%5D%5D%2C%20%22type%22%3A%20%22Polygon%22%7D%2C%20%22id%22%3A%20%2252%22%2C%20%22properties%22%3A%20%7B%22district%22%3A%204%2C%20%22district_name%22%3A%20%22District%204%20-%20Oakland%22%2C%20%22feed_key_left%22%3A%20%22540e857d28ffdc628260ca22a21cb330%22%2C%20%22feed_key_right%22%3A%20%22540e857d28ffdc628260ca22a21cb330%22%2C%20%22gtfs_dataset_key_left%22%3A%20%22bc21582ac1ad2b7de0647dfd5b76f67c%22%2C%20%22gtfs_dataset_key_right%22%3A%20%22bc21582ac1ad2b7de0647dfd5b76f67c%22%2C%20%22index_right%22%3A%2020089%2C%20%22loop_or_inlining%22%3A%200%2C%20%22seg_idx%22%3A%2020129%2C%20%22shape_array_key_left%22%3A%20%2221aedea4c0d05c570e042903cc62c9cf%22%2C%20%22shape_array_key_right%22%3A%20%2221aedea4c0d05c570e042903cc62c9cf%22%2C%20%22stop_id%22%3A%20%2287529%22%2C%20%22stop_sequence%22%3A%20270%2C%20%22trip_id%22%3A%20%22t120-sl9-p84-r1A%22%7D%2C%20%22type%22%3A%20%22Feature%22%7D%2C%20%7B%22bbox%22%3A%20%5B-122.65899509310127%2C%2038.26618434549974%2C%20-122.65599948020758%2C%2038.26810181578547%5D%2C%20%22geometry%22%3A%20%7B%22coordinates%22%3A%20%5B%5B%5B-122.6588791612284%2C%2038.267565605549926%5D%2C%20%5B-122.65890322759006%2C%2038.26758632234407%5D%2C%20%5B-122.65892676008677%2C%2038.26761107075267%5D%2C%20%5B-122.6589470933853%2C%2038.26763751315441%5D%2C%20%5B-122.6589640316626%2C%2038.26766539489625%5D%2C%20%5B-122.65897741179087%2C%2038.267694447463214%5D%2C%20%5B-122.65898710490842%2C%2038.267724391064284%5D%2C%20%5B-122.6589930176611%2C%2038.267754937327354%5D%2C%20%5B-122.65899509310127%2C%2038.26778579207556%5D%2C%20%5B-122.65899331123656%2C%2038.267816658161166%5D%2C%20%5B-122.65898768922253%2C%2038.2678472383266%5D%2C%20%5B-122.6589782811977%2C%2038.267877238067705%5D%2C%20%5B-122.65896517776223%2C%2038.26790636846966%5D%2C%20%5B-122.65894850510568%2C%2038.26793434898962%5D%2C%20%5B-122.6589284237918%2C%2038.26796091015832%5D%2C%20%5B-122.6589051272123%2C%2038.26798579617561%5D%2C%20%5B-122.65887883972457%2C%2038.26800876737378%5D%2C%20%5B-122.65884981449098%2C%2038.2680296025256%5D%2C%20%5B-122.65881833104085%2C%2038.26804810097538%5D%2C%20%5B-122.65878469257834%2C%2038.268064084571165%5D%2C%20%5B-122.65874922306244%2C%2038.26807739938038%5D%2C%20%5B-122.65871226408703%2C%2038.26808791717274%5D%2C%20%5B-122.65867417159087%2C%2038.26809553665495%5D%2C%20%5B-122.65863531242978%2C%2038.26810018444627%5D%2C%20%5B-122.6585960608432%2C%2038.26810181578547%5D%2C%20%5B-122.65855679485017%2C%2038.26810041496155%5D%2C%20%5B-122.65851789260842%2C%2038.268095995465444%5D%2C%20%5B-122.65847972877238%2C%2038.26808859985985%5D%2C%20%5B-122.65844267088485%2C%2038.26807829936936%5D%2C%20%5B-122.65840707583732%2C%2038.26806519319448%5D%2C%20%5B-122.65837328643256%2C%2038.26804940755634%5D%2C%20%5B-122.65834162808335%2C%2038.268031094480946%5D%2C%20%5B-122.65831240567827%2C%2038.26801043033498%5D%2C%20%5B-122.6582778407279%2C%2038.267983461625136%5D%2C%20%5B-122.65825460222632%2C%2038.26796371065953%5D%2C%20%5B-122.65823359359072%2C%2038.26794247230876%5D%2C%20%5B-122.65821496821391%2C%2038.26791990164484%5D%2C%20%5B-122.65814049155586%2C%2038.267820598913765%5D%2C%20%5B-122.65750478356276%2C%2038.267480359896844%5D%2C%20%5B-122.65617498180679%2C%2038.266770464557574%5D%2C%20%5B-122.65614367721285%2C%2038.266751930845835%5D%2C%20%5B-122.65611482665884%2C%2038.26673108090051%5D%2C%20%5B-122.6560887063583%2C%2038.266708114339416%5D%2C%20%5B-122.65606556638463%2C%2038.26668325104453%5D%2C%20%5B-122.65604562827679%2C%2038.2666567290571%5D%2C%20%5B-122.6560290829186%2C%2038.26662880229849%5D%2C%20%5B-122.65601608871101%2C%2038.266599738138794%5D%2C%20%5B-122.65600677005601%2C%2038.26656981483749%5D%2C%20%5B-122.65600121616555%2C%2038.26653931887893%5D%2C%20%5B-122.65599948020758%2C%2038.26650854222975%5D%2C%20%5B-122.65600157879736%2C%2038.26647777954371%5D%2C%20%5B-122.6560074918384%2C%2038.26644732534018%5D%2C%20%5B-122.6560171627152%2C%2038.26641747118513%5D%2C%20%5B-122.65603049883528%2C%2038.26638850289908%5D%2C%20%5B-122.65604737251593%2C%2038.26636069782129%5D%2C%20%5B-122.65606762220679%2C%2038.26633432215401%5D%2C%20%5B-122.65609105403652%2C%2038.26630962841446%5D%2C%20%5B-122.65611744366913%2C%2038.266286853016744%5D%2C%20%5B-122.65614653845171%2C%2038.26626621400925%5D%2C%20%5B-122.65617805983337%2C%2038.26624790898635%5D%2C%20%5B-122.65621170603201%2C%2038.26623211319729%5D%2C%20%5B-122.65624715492359%2C%2038.26621897786818%5D%2C%20%5B-122.65625400056986%2C%2038.26621705854805%5D%2C%20%5B-122.65626985788715%2C%2038.26621083899252%5D%2C%20%5B-122.65630657919601%2C%2038.26619982071343%5D%2C%20%5B-122.65634449752478%2C%2038.26619168488963%5D%2C%20%5B-122.65638324770333%2C%2038.266186509872526%5D%2C%20%5B-122.65642245655077%2C%2038.26618434549974%5D%2C%20%5B-122.65646174646922%2C%2038.2661852126151%5D%2C%20%5B-122.65650073908%2C%2038.26618910286794%5D%2C%20%5B-122.65653905886762%2C%2038.26619597879338%5D%2C%20%5B-122.65657633679588%2C%2038.26620577417344%5D%2C%20%5B-122.65661221386173%2C%2038.26621839467436%5D%2C%20%5B-122.65664634455267%2C%2038.266233718755174%5D%2C%20%5B-122.65667840017383%2C%2038.2662515988383%5D%2C%20%5B-122.6567080720137%2C%2038.266271862730584%5D%2C%20%5B-122.65673507431686%2C%2038.2662943152814%5D%2C%20%5B-122.65675914703614%2C%2038.26631874026246%5D%2C%20%5B-122.65676249223529%2C%2038.26632292545193%5D%2C%20%5B-122.6579550141159%2C%2038.26695953252698%5D%2C%20%5B-122.65795541544617%2C%2038.26695974704578%5D%2C%20%5B-122.65866541411614%2C%2038.26733974570679%5D%2C%20%5B-122.6587004218855%2C%2038.267360787568755%5D%2C%20%5B-122.65873227704425%2C%2038.26738472530616%5D%2C%20%5B-122.65876059395745%2C%2038.26741126913389%5D%2C%20%5B-122.65878502982224%2C%2038.26744009771764%5D%2C%20%5B-122.6588791612284%2C%2038.267565605549926%5D%5D%5D%2C%20%22type%22%3A%20%22Polygon%22%7D%2C%20%22id%22%3A%20%2253%22%2C%20%22properties%22%3A%20%7B%22district%22%3A%204%2C%20%22district_name%22%3A%20%22District%204%20-%20Oakland%22%2C%20%22feed_key_left%22%3A%20%22540e857d28ffdc628260ca22a21cb330%22%2C%20%22feed_key_right%22%3A%20%22540e857d28ffdc628260ca22a21cb330%22%2C%20%22gtfs_dataset_key_left%22%3A%20%22bc21582ac1ad2b7de0647dfd5b76f67c%22%2C%20%22gtfs_dataset_key_right%22%3A%20%22bc21582ac1ad2b7de0647dfd5b76f67c%22%2C%20%22index_right%22%3A%2020091%2C%20%22loop_or_inlining%22%3A%200%2C%20%22seg_idx%22%3A%2020131%2C%20%22shape_array_key_left%22%3A%20%2221aedea4c0d05c570e042903cc62c9cf%22%2C%20%22shape_array_key_right%22%3A%20%2221aedea4c0d05c570e042903cc62c9cf%22%2C%20%22stop_id%22%3A%20%2287508%22%2C%20%22stop_sequence%22%3A%20360%2C%20%22trip_id%22%3A%20%22t120-sl9-p84-r1A%22%7D%2C%20%22type%22%3A%20%22Feature%22%7D%2C%20%7B%22bbox%22%3A%20%5B-122.6419514591245%2C%2038.25613676731722%2C%20-122.63831984097878%2C%2038.25837670336824%5D%2C%20%22geometry%22%3A%20%7B%22coordinates%22%3A%20%5B%5B%5B-122.64176462122163%2C%2038.2577948409026%5D%2C%20%5B-122.64178571916503%2C%2038.25780682004961%5D%2C%20%5B-122.64181641247696%2C%2038.25782611743854%5D%2C%20%5B-122.64184455211556%2C%2038.257847687110434%5D%2C%20%5B-122.64186986708084%2C%2038.25787132133947%5D%2C%20%5B-122.64189211357501%2C%2038.25789679251704%5D%2C%20%5B-122.64191107735049%2C%2038.2579238553433%5D%2C%20%5B-122.64192657577316%2C%2038.257952249190346%5D%2C%20%5B-122.64193845958148%2C%2038.25798170061112%5D%2C%20%5B-122.64194661432397%2C%2038.25801192597335%5D%2C%20%5B-122.64195096146163%2C%2038.25804263419121%5D%2C%20%5B-122.6419514591245%2C%2038.2580735295282%5D%2C%20%5B-122.64194810251504%2C%2038.25810431444521%5D%2C%20%5B-122.64194092395454%2C%2038.258134692466484%5D%2C%20%5B-122.64192999257196%2C%2038.25816437103434%5D%2C%20%5B-122.64191541363851%2C%2038.2581930643269%5D%2C%20%5B-122.6418973275538%2C%2038.25822049601085%5D%2C%20%5B-122.64187590849396%2C%2038.258246401902504%5D%2C%20%5B-122.64185136273429%2C%2038.25827053251219%5D%2C%20%5B-122.64182392666287%2C%2038.25829265544709%5D%2C%20%5B-122.6417938645039%2C%2038.2583125576495%5D%2C%20%5B-122.64176146577324%2C%2038.25833004744825%5D%2C%20%5B-122.64172704249009%2C%2038.258344956405395%5D%2C%20%5B-122.64169092617202%2C%2038.25835714093788%5D%2C%20%5B-122.64165346464225%2C%2038.258366483700605%5D%2C%20%5B-122.64161501867963%2C%2038.25837289471661%5D%2C%20%5B-122.6415759585442%2C%2038.25837631224351%5D%2C%20%5B-122.64153666041108%2C%2038.25837670336824%5D%2C%20%5B-122.64149750274753%2C%2038.258374064323974%5D%2C%20%5B-122.64145886266795%2C%2038.25836842052663%5D%2C%20%5B-122.64142111230193%2C%2038.25835982632949%5D%2C%20%5B-122.64138461521011%2C%2038.258348364500605%5D%2C%20%5B-122.64134972288295%2C%2038.25833414542484%5D%2C%20%5B-122.64131677135536%2C%2038.25831730604125%5D%2C%20%5B-122.64129552525742%2C%2038.25830524273008%5D%2C%20%5B-122.63848525595274%2C%2038.256706465345445%5D%2C%20%5B-122.63845458636925%2C%2038.25668714510695%5D%2C%20%5B-122.63842647319022%2C%2038.256665554475234%5D%2C%20%5B-122.63840118716104%2C%2038.256641901381705%5D%2C%20%5B-122.63837897179913%2C%2038.25661641362054%5D%2C%20%5B-122.63836004104886%2C%2038.256589336654564%5D%2C%20%5B-122.63834457722118%2C%2038.25656093125127%5D%2C%20%5B-122.63833272923789%2C%2038.25653147097173%5D%2C%20%5B-122.63832461119762%2C%2038.25650123953553%5D%2C%20%5B-122.63832030127718%2C%2038.25647052808874%5D%2C%20%5B-122.63831984097878%2C%2038.256439632399726%5D%2C%20%5B-122.63832323473062%2C%2038.25640885001097%5D%2C%20%5B-122.63833044984429%2C%2038.25637847737339%5D%2C%20%5B-122.63834141682982%2C%2038.256348806991376%5D%2C%20%5B-122.63835603006514%2C%2038.25632012460588%5D%2C%20%5B-122.63837414881336%2C%2038.256292706442736%5D%2C%20%5B-122.63839559857824%2C%2038.256266816552184%5D%2C%20%5B-122.63842017278495%2C%2038.25624270426638%5D%2C%20%5B-122.63844763476935%2C%2038.256220601797864%5D%2C%20%5B-122.63847772005744%2C%2038.25620072200375%5D%2C%20%5B-122.63851013891224%2C%2038.25618325633531%5D%2C%20%5B-122.63854457912423%2C%2038.25616837299482%5D%2C%20%5B-122.63858070901786%2C%2038.25615621531536%5D%2C%20%5B-122.63861818064579%2C%2038.25614690038062%5D%2C%20%5B-122.63865663313972%2C%2038.256140517897414%5D%2C%20%5B-122.63869569618542%2C%2038.25613712933187%5D%2C%20%5B-122.63873499358911%2C%2038.25613676731722%5D%2C%20%5B-122.63877414690006%2C%2038.25613943533983%5D%2C%20%5B-122.6388127790552%2C%2038.25614510770559%5D%2C%20%5B-122.63885051801019%2C%2038.25615372978715%5D%2C%20%5B-122.63888700032231%2C%2038.2561652185501%5D%2C%20%5B-122.6389218746504%2C%2038.256179463352794%5D%2C%20%5B-122.6389548051384%2C%2038.25619632701148%5D%2C%20%5B-122.64176462122163%2C%2038.2577948409026%5D%5D%5D%2C%20%22type%22%3A%20%22Polygon%22%7D%2C%20%22id%22%3A%20%2254%22%2C%20%22properties%22%3A%20%7B%22district%22%3A%204%2C%20%22district_name%22%3A%20%22District%204%20-%20Oakland%22%2C%20%22feed_key_left%22%3A%20%22540e857d28ffdc628260ca22a21cb330%22%2C%20%22feed_key_right%22%3A%20%22540e857d28ffdc628260ca22a21cb330%22%2C%20%22gtfs_dataset_key_left%22%3A%20%22bc21582ac1ad2b7de0647dfd5b76f67c%22%2C%20%22gtfs_dataset_key_right%22%3A%20%22bc21582ac1ad2b7de0647dfd5b76f67c%22%2C%20%22index_right%22%3A%2020086%2C%20%22loop_or_inlining%22%3A%200%2C%20%22seg_idx%22%3A%2020126%2C%20%22shape_array_key_left%22%3A%20%2221aedea4c0d05c570e042903cc62c9cf%22%2C%20%22shape_array_key_right%22%3A%20%2221aedea4c0d05c570e042903cc62c9cf%22%2C%20%22stop_id%22%3A%20%2287503%22%2C%20%22stop_sequence%22%3A%20200%2C%20%22trip_id%22%3A%20%22t120-sl9-p84-r1A%22%7D%2C%20%22type%22%3A%20%22Feature%22%7D%2C%20%7B%22bbox%22%3A%20%5B-122.63912022184543%2C%2038.253011280900644%2C%20-122.63285258005232%2C%2038.25676602549899%5D%2C%20%22geometry%22%3A%20%7B%22coordinates%22%3A%20%5B%5B%5B-122.6334928496761%2C%2038.25307384830678%5D%2C%20%5B-122.6334955164429%2C%2038.25307535987611%5D%2C%20%5B-122.63893514105472%2C%2038.256185139576395%5D%2C%20%5B-122.63895480513838%2C%2038.25619632701148%5D%2C%20%5B-122.63898547464956%2C%2038.256215647121586%5D%2C%20%5B-122.63901358782083%2C%2038.2562372376219%5D%2C%20%5B-122.63903887390708%2C%2038.25626089058584%5D%2C%20%5B-122.63906108938868%2C%2038.25628637822436%5D%2C%20%5B-122.63908002031665%2C%2038.25631345507937%5D%2C%20%5B-122.63909548437326%2C%2038.256341860387465%5D%2C%20%5B-122.63910733262789%2C%2038.2563713205914%5D%2C%20%5B-122.63911545097147%2C%2038.256401551974456%5D%2C%20%5B-122.63911976121554%2C%2038.25643226339262%5D%2C%20%5B-122.63912022184543%2C%2038.256463159078486%5D%2C%20%5B-122.63911682842027%2C%2038.2564939414899%5D%2C%20%5B-122.63910961361586%2C%2038.25652431417496%5D%2C%20%5B-122.6390986469103%2C%2038.25655398462746%5D%2C%20%5B-122.63908403391488%2C%2038.256582667103714%5D%2C%20%5B-122.63906591535729%2C%2038.25661008537446%5D%2C%20%5B-122.63904446572646%2C%2038.2566359753853%5D%2C%20%5B-122.63901989159206%2C%2038.25666008779948%5D%2C%20%5B-122.63899242961543%2C%2038.25668219039942%5D%2C%20%5B-122.63896234427028%2C%2038.256702070323115%5D%2C%20%5B-122.63892992529577%2C%2038.256719536114176%5D%2C%20%5B-122.63889548490609%2C%2038.256734419565674%5D%2C%20%5B-122.63885935478352%2C%2038.256746577340294%5D%2C%20%5B-122.63882188288424%2C%2038.25675589235069%5D%2C%20%5B-122.63878343008702%2C%2038.256762274886974%5D%2C%20%5B-122.6387443667177%2C%2038.25676566348118%5D%2C%20%5B-122.63870506898249%2C%2038.25676602549899%5D%2C%20%5B-122.63866591534487%2C%2038.25676335745369%5D%2C%20%5B-122.63862728288049%2C%2038.25675768504046%5D%2C%20%5B-122.63858954364552%2C%2038.256749062888474%5D%2C%20%5B-122.6385530610935%2C%2038.25673757403468%5D%2C%20%5B-122.63851818657474%2C%2038.256723329124455%5D%2C%20%5B-122.63848525595274%2C%2038.256706465345445%5D%2C%20%5B-122.63846522457112%2C%2038.25669506890295%5D%2C%20%5B-122.63846449070604%2C%2038.25669465038949%5D%2C%20%5B-122.63302581138994%2C%2038.253585399764674%5D%2C%20%5B-122.63301998352237%2C%2038.25358212491642%5D%2C%20%5B-122.63298917106742%2C%2038.25356294699407%5D%2C%20%5B-122.63296089786257%2C%2038.253541486884714%5D%2C%20%5B-122.63293543619446%2C%2038.25351795126283%5D%2C%20%5B-122.63291303127205%2C%2038.25349256679111%5D%2C%20%5B-122.63289389886536%2C%2038.25346557793775%5D%2C%20%5B-122.63287822322737%2C%2038.25343724462175%5D%2C%20%5B-122.63286615531986%2C%2038.25340783970985%5D%2C%20%5B-122.63285781135943%2C%2038.25337764638845%5D%2C%20%5B-122.63285327169866%2C%2038.2533469554366%5D%2C%20%5B-122.63285258005232%2C%2038.253316062425355%5D%2C%20%5B-122.6328557430766%2C%2038.25328526487136%5D%2C%20%5B-122.63286273030509%2C%2038.25325485937162%5D%2C%20%5B-122.63287347444252%2C%2038.25322513874703%5D%2C%20%5B-122.63288787201287%2C%2038.25319638922245%5D%2C%20%5B-122.63290578435623%2C%2038.25316888767021%5D%2C%20%5B-122.63292703896408%2C%2038.25314289894384%5D%2C%20%5B-122.63295143114102%2C%2038.253118673327215%5D%2C%20%5B-122.63297872597593%2C%2038.25309644412434%5D%2C%20%5B-122.63300866060446%2C%2038.2530764254128%5D%2C%20%5B-122.63304094674051%2C%2038.253058809981866%5D%2C%20%5B-122.63307527345265%2C%2038.25304376747587%5D%2C%20%5B-122.63311131015837%2C%2038.25303144276093%5D%2C%20%5B-122.63314870980776%2C%2038.253021954529295%5D%2C%20%5B-122.6331871122256%2C%2038.253015394156755%5D%2C%20%5B-122.63322614758002%2C%2038.25301182482247%5D%2C%20%5B-122.63326543994378%2C%2038.253011280900644%5D%2C%20%5B-122.63330461091478%2C%2038.25301376762953%5D%2C%20%5B-122.6333432832598%2C%2038.253019261060814%5D%2C%20%5B-122.63338108454758%2C%2038.25302770829044%5D%2C%20%5B-122.63341765073503%2C%2038.25303902796793%5D%2C%20%5B-122.63345262967333%2C%2038.2530531110799%5D%2C%20%5B-122.63348568449892%2C%2038.25306982199989%5D%2C%20%5B-122.6334928496761%2C%2038.25307384830678%5D%5D%5D%2C%20%22type%22%3A%20%22Polygon%22%7D%2C%20%22id%22%3A%20%2255%22%2C%20%22properties%22%3A%20%7B%22district%22%3A%204%2C%20%22district_name%22%3A%20%22District%204%20-%20Oakland%22%2C%20%22feed_key_left%22%3A%20%22540e857d28ffdc628260ca22a21cb330%22%2C%20%22feed_key_right%22%3A%20%22540e857d28ffdc628260ca22a21cb330%22%2C%20%22gtfs_dataset_key_left%22%3A%20%22bc21582ac1ad2b7de0647dfd5b76f67c%22%2C%20%22gtfs_dataset_key_right%22%3A%20%22bc21582ac1ad2b7de0647dfd5b76f67c%22%2C%20%22index_right%22%3A%2020085%2C%20%22loop_or_inlining%22%3A%200%2C%20%22seg_idx%22%3A%2020125%2C%20%22shape_array_key_left%22%3A%20%2221aedea4c0d05c570e042903cc62c9cf%22%2C%20%22shape_array_key_right%22%3A%20%2221aedea4c0d05c570e042903cc62c9cf%22%2C%20%22stop_id%22%3A%20%2287502%22%2C%20%22stop_sequence%22%3A%20180%2C%20%22trip_id%22%3A%20%22t120-sl9-p84-r1A%22%7D%2C%20%22type%22%3A%20%22Feature%22%7D%2C%20%7B%22bbox%22%3A%20%5B-122.63912022184543%2C%2038.253011280900644%2C%20-122.63285258005232%2C%2038.25676602549899%5D%2C%20%22geometry%22%3A%20%7B%22coordinates%22%3A%20%5B%5B%5B-122.6334928496761%2C%2038.25307384830678%5D%2C%20%5B-122.6334955164429%2C%2038.25307535987611%5D%2C%20%5B-122.63893514105472%2C%2038.256185139576395%5D%2C%20%5B-122.63895480513838%2C%2038.25619632701148%5D%2C%20%5B-122.63898547464956%2C%2038.256215647121586%5D%2C%20%5B-122.63901358782083%2C%2038.2562372376219%5D%2C%20%5B-122.63903887390708%2C%2038.25626089058584%5D%2C%20%5B-122.63906108938868%2C%2038.25628637822436%5D%2C%20%5B-122.63908002031665%2C%2038.25631345507937%5D%2C%20%5B-122.63909548437326%2C%2038.256341860387465%5D%2C%20%5B-122.63910733262789%2C%2038.2563713205914%5D%2C%20%5B-122.63911545097147%2C%2038.256401551974456%5D%2C%20%5B-122.63911976121554%2C%2038.25643226339262%5D%2C%20%5B-122.63912022184543%2C%2038.256463159078486%5D%2C%20%5B-122.63911682842027%2C%2038.2564939414899%5D%2C%20%5B-122.63910961361586%2C%2038.25652431417496%5D%2C%20%5B-122.6390986469103%2C%2038.25655398462746%5D%2C%20%5B-122.63908403391488%2C%2038.256582667103714%5D%2C%20%5B-122.63906591535729%2C%2038.25661008537446%5D%2C%20%5B-122.63904446572646%2C%2038.2566359753853%5D%2C%20%5B-122.63901989159206%2C%2038.25666008779948%5D%2C%20%5B-122.63899242961543%2C%2038.25668219039942%5D%2C%20%5B-122.63896234427028%2C%2038.256702070323115%5D%2C%20%5B-122.63892992529577%2C%2038.256719536114176%5D%2C%20%5B-122.63889548490609%2C%2038.256734419565674%5D%2C%20%5B-122.63885935478352%2C%2038.256746577340294%5D%2C%20%5B-122.63882188288424%2C%2038.25675589235069%5D%2C%20%5B-122.63878343008702%2C%2038.256762274886974%5D%2C%20%5B-122.6387443667177%2C%2038.25676566348118%5D%2C%20%5B-122.63870506898249%2C%2038.25676602549899%5D%2C%20%5B-122.63866591534487%2C%2038.25676335745369%5D%2C%20%5B-122.63862728288049%2C%2038.25675768504046%5D%2C%20%5B-122.63858954364552%2C%2038.256749062888474%5D%2C%20%5B-122.6385530610935%2C%2038.25673757403468%5D%2C%20%5B-122.63851818657474%2C%2038.256723329124455%5D%2C%20%5B-122.63848525595274%2C%2038.256706465345445%5D%2C%20%5B-122.63846522457112%2C%2038.25669506890295%5D%2C%20%5B-122.63846449070604%2C%2038.25669465038949%5D%2C%20%5B-122.63302581138994%2C%2038.253585399764674%5D%2C%20%5B-122.63301998352237%2C%2038.25358212491642%5D%2C%20%5B-122.63298917106742%2C%2038.25356294699407%5D%2C%20%5B-122.63296089786257%2C%2038.253541486884714%5D%2C%20%5B-122.63293543619446%2C%2038.25351795126283%5D%2C%20%5B-122.63291303127205%2C%2038.25349256679111%5D%2C%20%5B-122.63289389886536%2C%2038.25346557793775%5D%2C%20%5B-122.63287822322737%2C%2038.25343724462175%5D%2C%20%5B-122.63286615531986%2C%2038.25340783970985%5D%2C%20%5B-122.63285781135943%2C%2038.25337764638845%5D%2C%20%5B-122.63285327169866%2C%2038.2533469554366%5D%2C%20%5B-122.63285258005232%2C%2038.253316062425355%5D%2C%20%5B-122.6328557430766%2C%2038.25328526487136%5D%2C%20%5B-122.63286273030509%2C%2038.25325485937162%5D%2C%20%5B-122.63287347444252%2C%2038.25322513874703%5D%2C%20%5B-122.63288787201287%2C%2038.25319638922245%5D%2C%20%5B-122.63290578435623%2C%2038.25316888767021%5D%2C%20%5B-122.63292703896408%2C%2038.25314289894384%5D%2C%20%5B-122.63295143114102%2C%2038.253118673327215%5D%2C%20%5B-122.63297872597593%2C%2038.25309644412434%5D%2C%20%5B-122.63300866060446%2C%2038.2530764254128%5D%2C%20%5B-122.63304094674051%2C%2038.253058809981866%5D%2C%20%5B-122.63307527345265%2C%2038.25304376747587%5D%2C%20%5B-122.63311131015837%2C%2038.25303144276093%5D%2C%20%5B-122.63314870980776%2C%2038.253021954529295%5D%2C%20%5B-122.6331871122256%2C%2038.253015394156755%5D%2C%20%5B-122.63322614758002%2C%2038.25301182482247%5D%2C%20%5B-122.63326543994378%2C%2038.253011280900644%5D%2C%20%5B-122.63330461091478%2C%2038.25301376762953%5D%2C%20%5B-122.6333432832598%2C%2038.253019261060814%5D%2C%20%5B-122.63338108454758%2C%2038.25302770829044%5D%2C%20%5B-122.63341765073503%2C%2038.25303902796793%5D%2C%20%5B-122.63345262967333%2C%2038.2530531110799%5D%2C%20%5B-122.63348568449892%2C%2038.25306982199989%5D%2C%20%5B-122.6334928496761%2C%2038.25307384830678%5D%5D%5D%2C%20%22type%22%3A%20%22Polygon%22%7D%2C%20%22id%22%3A%20%2256%22%2C%20%22properties%22%3A%20%7B%22district%22%3A%204%2C%20%22district_name%22%3A%20%22District%204%20-%20Oakland%22%2C%20%22feed_key_left%22%3A%20%22540e857d28ffdc628260ca22a21cb330%22%2C%20%22feed_key_right%22%3A%20%22540e857d28ffdc628260ca22a21cb330%22%2C%20%22gtfs_dataset_key_left%22%3A%20%22bc21582ac1ad2b7de0647dfd5b76f67c%22%2C%20%22gtfs_dataset_key_right%22%3A%20%22bc21582ac1ad2b7de0647dfd5b76f67c%22%2C%20%22index_right%22%3A%2020085%2C%20%22loop_or_inlining%22%3A%200%2C%20%22seg_idx%22%3A%2020125%2C%20%22shape_array_key_left%22%3A%20%2221aedea4c0d05c570e042903cc62c9cf%22%2C%20%22shape_array_key_right%22%3A%20%2221aedea4c0d05c570e042903cc62c9cf%22%2C%20%22stop_id%22%3A%20%2287502%22%2C%20%22stop_sequence%22%3A%20180%2C%20%22trip_id%22%3A%20%22t120-sl9-p84-r1A%22%7D%2C%20%22type%22%3A%20%22Feature%22%7D%2C%20%7B%22bbox%22%3A%20%5B-122.63912022184543%2C%2038.253011280900644%2C%20-122.63285258005232%2C%2038.25676602549899%5D%2C%20%22geometry%22%3A%20%7B%22coordinates%22%3A%20%5B%5B%5B-122.6334928496761%2C%2038.25307384830678%5D%2C%20%5B-122.6334955164429%2C%2038.25307535987611%5D%2C%20%5B-122.63893514105472%2C%2038.256185139576395%5D%2C%20%5B-122.63895480513838%2C%2038.25619632701148%5D%2C%20%5B-122.63898547464956%2C%2038.256215647121586%5D%2C%20%5B-122.63901358782083%2C%2038.2562372376219%5D%2C%20%5B-122.63903887390708%2C%2038.25626089058584%5D%2C%20%5B-122.63906108938868%2C%2038.25628637822436%5D%2C%20%5B-122.63908002031665%2C%2038.25631345507937%5D%2C%20%5B-122.63909548437326%2C%2038.256341860387465%5D%2C%20%5B-122.63910733262789%2C%2038.2563713205914%5D%2C%20%5B-122.63911545097147%2C%2038.256401551974456%5D%2C%20%5B-122.63911976121554%2C%2038.25643226339262%5D%2C%20%5B-122.63912022184543%2C%2038.256463159078486%5D%2C%20%5B-122.63911682842027%2C%2038.2564939414899%5D%2C%20%5B-122.63910961361586%2C%2038.25652431417496%5D%2C%20%5B-122.6390986469103%2C%2038.25655398462746%5D%2C%20%5B-122.63908403391488%2C%2038.256582667103714%5D%2C%20%5B-122.63906591535729%2C%2038.25661008537446%5D%2C%20%5B-122.63904446572646%2C%2038.2566359753853%5D%2C%20%5B-122.63901989159206%2C%2038.25666008779948%5D%2C%20%5B-122.63899242961543%2C%2038.25668219039942%5D%2C%20%5B-122.63896234427028%2C%2038.256702070323115%5D%2C%20%5B-122.63892992529577%2C%2038.256719536114176%5D%2C%20%5B-122.63889548490609%2C%2038.256734419565674%5D%2C%20%5B-122.63885935478352%2C%2038.256746577340294%5D%2C%20%5B-122.63882188288424%2C%2038.25675589235069%5D%2C%20%5B-122.63878343008702%2C%2038.256762274886974%5D%2C%20%5B-122.6387443667177%2C%2038.25676566348118%5D%2C%20%5B-122.63870506898249%2C%2038.25676602549899%5D%2C%20%5B-122.63866591534487%2C%2038.25676335745369%5D%2C%20%5B-122.63862728288049%2C%2038.25675768504046%5D%2C%20%5B-122.63858954364552%2C%2038.256749062888474%5D%2C%20%5B-122.6385530610935%2C%2038.25673757403468%5D%2C%20%5B-122.63851818657474%2C%2038.256723329124455%5D%2C%20%5B-122.63848525595274%2C%2038.256706465345445%5D%2C%20%5B-122.63846522457112%2C%2038.25669506890295%5D%2C%20%5B-122.63846449070604%2C%2038.25669465038949%5D%2C%20%5B-122.63302581138994%2C%2038.253585399764674%5D%2C%20%5B-122.63301998352237%2C%2038.25358212491642%5D%2C%20%5B-122.63298917106742%2C%2038.25356294699407%5D%2C%20%5B-122.63296089786257%2C%2038.253541486884714%5D%2C%20%5B-122.63293543619446%2C%2038.25351795126283%5D%2C%20%5B-122.63291303127205%2C%2038.25349256679111%5D%2C%20%5B-122.63289389886536%2C%2038.25346557793775%5D%2C%20%5B-122.63287822322737%2C%2038.25343724462175%5D%2C%20%5B-122.63286615531986%2C%2038.25340783970985%5D%2C%20%5B-122.63285781135943%2C%2038.25337764638845%5D%2C%20%5B-122.63285327169866%2C%2038.2533469554366%5D%2C%20%5B-122.63285258005232%2C%2038.253316062425355%5D%2C%20%5B-122.6328557430766%2C%2038.25328526487136%5D%2C%20%5B-122.63286273030509%2C%2038.25325485937162%5D%2C%20%5B-122.63287347444252%2C%2038.25322513874703%5D%2C%20%5B-122.63288787201287%2C%2038.25319638922245%5D%2C%20%5B-122.63290578435623%2C%2038.25316888767021%5D%2C%20%5B-122.63292703896408%2C%2038.25314289894384%5D%2C%20%5B-122.63295143114102%2C%2038.253118673327215%5D%2C%20%5B-122.63297872597593%2C%2038.25309644412434%5D%2C%20%5B-122.63300866060446%2C%2038.2530764254128%5D%2C%20%5B-122.63304094674051%2C%2038.253058809981866%5D%2C%20%5B-122.63307527345265%2C%2038.25304376747587%5D%2C%20%5B-122.63311131015837%2C%2038.25303144276093%5D%2C%20%5B-122.63314870980776%2C%2038.253021954529295%5D%2C%20%5B-122.6331871122256%2C%2038.253015394156755%5D%2C%20%5B-122.63322614758002%2C%2038.25301182482247%5D%2C%20%5B-122.63326543994378%2C%2038.253011280900644%5D%2C%20%5B-122.63330461091478%2C%2038.25301376762953%5D%2C%20%5B-122.6333432832598%2C%2038.253019261060814%5D%2C%20%5B-122.63338108454758%2C%2038.25302770829044%5D%2C%20%5B-122.63341765073503%2C%2038.25303902796793%5D%2C%20%5B-122.63345262967333%2C%2038.2530531110799%5D%2C%20%5B-122.63348568449892%2C%2038.25306982199989%5D%2C%20%5B-122.6334928496761%2C%2038.25307384830678%5D%5D%5D%2C%20%22type%22%3A%20%22Polygon%22%7D%2C%20%22id%22%3A%20%2257%22%2C%20%22properties%22%3A%20%7B%22district%22%3A%204%2C%20%22district_name%22%3A%20%22District%204%20-%20Oakland%22%2C%20%22feed_key_left%22%3A%20%22540e857d28ffdc628260ca22a21cb330%22%2C%20%22feed_key_right%22%3A%20%22540e857d28ffdc628260ca22a21cb330%22%2C%20%22gtfs_dataset_key_left%22%3A%20%22bc21582ac1ad2b7de0647dfd5b76f67c%22%2C%20%22gtfs_dataset_key_right%22%3A%20%22bc21582ac1ad2b7de0647dfd5b76f67c%22%2C%20%22index_right%22%3A%2020085%2C%20%22loop_or_inlining%22%3A%200%2C%20%22seg_idx%22%3A%2020125%2C%20%22shape_array_key_left%22%3A%20%2221aedea4c0d05c570e042903cc62c9cf%22%2C%20%22shape_array_key_right%22%3A%20%2221aedea4c0d05c570e042903cc62c9cf%22%2C%20%22stop_id%22%3A%20%2287502%22%2C%20%22stop_sequence%22%3A%20180%2C%20%22trip_id%22%3A%20%22t120-sl9-p84-r1A%22%7D%2C%20%22type%22%3A%20%22Feature%22%7D%2C%20%7B%22bbox%22%3A%20%5B-122.63912022184543%2C%2038.253011280900644%2C%20-122.63285258005232%2C%2038.25676602549899%5D%2C%20%22geometry%22%3A%20%7B%22coordinates%22%3A%20%5B%5B%5B-122.6334928496761%2C%2038.25307384830678%5D%2C%20%5B-122.6334955164429%2C%2038.25307535987611%5D%2C%20%5B-122.63893514105472%2C%2038.256185139576395%5D%2C%20%5B-122.63895480513838%2C%2038.25619632701148%5D%2C%20%5B-122.63898547464956%2C%2038.256215647121586%5D%2C%20%5B-122.63901358782083%2C%2038.2562372376219%5D%2C%20%5B-122.63903887390708%2C%2038.25626089058584%5D%2C%20%5B-122.63906108938868%2C%2038.25628637822436%5D%2C%20%5B-122.63908002031665%2C%2038.25631345507937%5D%2C%20%5B-122.63909548437326%2C%2038.256341860387465%5D%2C%20%5B-122.63910733262789%2C%2038.2563713205914%5D%2C%20%5B-122.63911545097147%2C%2038.256401551974456%5D%2C%20%5B-122.63911976121554%2C%2038.25643226339262%5D%2C%20%5B-122.63912022184543%2C%2038.256463159078486%5D%2C%20%5B-122.63911682842027%2C%2038.2564939414899%5D%2C%20%5B-122.63910961361586%2C%2038.25652431417496%5D%2C%20%5B-122.6390986469103%2C%2038.25655398462746%5D%2C%20%5B-122.63908403391488%2C%2038.256582667103714%5D%2C%20%5B-122.63906591535729%2C%2038.25661008537446%5D%2C%20%5B-122.63904446572646%2C%2038.2566359753853%5D%2C%20%5B-122.63901989159206%2C%2038.25666008779948%5D%2C%20%5B-122.63899242961543%2C%2038.25668219039942%5D%2C%20%5B-122.63896234427028%2C%2038.256702070323115%5D%2C%20%5B-122.63892992529577%2C%2038.256719536114176%5D%2C%20%5B-122.63889548490609%2C%2038.256734419565674%5D%2C%20%5B-122.63885935478352%2C%2038.256746577340294%5D%2C%20%5B-122.63882188288424%2C%2038.25675589235069%5D%2C%20%5B-122.63878343008702%2C%2038.256762274886974%5D%2C%20%5B-122.6387443667177%2C%2038.25676566348118%5D%2C%20%5B-122.63870506898249%2C%2038.25676602549899%5D%2C%20%5B-122.63866591534487%2C%2038.25676335745369%5D%2C%20%5B-122.63862728288049%2C%2038.25675768504046%5D%2C%20%5B-122.63858954364552%2C%2038.256749062888474%5D%2C%20%5B-122.6385530610935%2C%2038.25673757403468%5D%2C%20%5B-122.63851818657474%2C%2038.256723329124455%5D%2C%20%5B-122.63848525595274%2C%2038.256706465345445%5D%2C%20%5B-122.63846522457112%2C%2038.25669506890295%5D%2C%20%5B-122.63846449070604%2C%2038.25669465038949%5D%2C%20%5B-122.63302581138994%2C%2038.253585399764674%5D%2C%20%5B-122.63301998352237%2C%2038.25358212491642%5D%2C%20%5B-122.63298917106742%2C%2038.25356294699407%5D%2C%20%5B-122.63296089786257%2C%2038.253541486884714%5D%2C%20%5B-122.63293543619446%2C%2038.25351795126283%5D%2C%20%5B-122.63291303127205%2C%2038.25349256679111%5D%2C%20%5B-122.63289389886536%2C%2038.25346557793775%5D%2C%20%5B-122.63287822322737%2C%2038.25343724462175%5D%2C%20%5B-122.63286615531986%2C%2038.25340783970985%5D%2C%20%5B-122.63285781135943%2C%2038.25337764638845%5D%2C%20%5B-122.63285327169866%2C%2038.2533469554366%5D%2C%20%5B-122.63285258005232%2C%2038.253316062425355%5D%2C%20%5B-122.6328557430766%2C%2038.25328526487136%5D%2C%20%5B-122.63286273030509%2C%2038.25325485937162%5D%2C%20%5B-122.63287347444252%2C%2038.25322513874703%5D%2C%20%5B-122.63288787201287%2C%2038.25319638922245%5D%2C%20%5B-122.63290578435623%2C%2038.25316888767021%5D%2C%20%5B-122.63292703896408%2C%2038.25314289894384%5D%2C%20%5B-122.63295143114102%2C%2038.253118673327215%5D%2C%20%5B-122.63297872597593%2C%2038.25309644412434%5D%2C%20%5B-122.63300866060446%2C%2038.2530764254128%5D%2C%20%5B-122.63304094674051%2C%2038.253058809981866%5D%2C%20%5B-122.63307527345265%2C%2038.25304376747587%5D%2C%20%5B-122.63311131015837%2C%2038.25303144276093%5D%2C%20%5B-122.63314870980776%2C%2038.253021954529295%5D%2C%20%5B-122.6331871122256%2C%2038.253015394156755%5D%2C%20%5B-122.63322614758002%2C%2038.25301182482247%5D%2C%20%5B-122.63326543994378%2C%2038.253011280900644%5D%2C%20%5B-122.63330461091478%2C%2038.25301376762953%5D%2C%20%5B-122.6333432832598%2C%2038.253019261060814%5D%2C%20%5B-122.63338108454758%2C%2038.25302770829044%5D%2C%20%5B-122.63341765073503%2C%2038.25303902796793%5D%2C%20%5B-122.63345262967333%2C%2038.2530531110799%5D%2C%20%5B-122.63348568449892%2C%2038.25306982199989%5D%2C%20%5B-122.6334928496761%2C%2038.25307384830678%5D%5D%5D%2C%20%22type%22%3A%20%22Polygon%22%7D%2C%20%22id%22%3A%20%2258%22%2C%20%22properties%22%3A%20%7B%22district%22%3A%204%2C%20%22district_name%22%3A%20%22District%204%20-%20Oakland%22%2C%20%22feed_key_left%22%3A%20%22540e857d28ffdc628260ca22a21cb330%22%2C%20%22feed_key_right%22%3A%20%22540e857d28ffdc628260ca22a21cb330%22%2C%20%22gtfs_dataset_key_left%22%3A%20%22bc21582ac1ad2b7de0647dfd5b76f67c%22%2C%20%22gtfs_dataset_key_right%22%3A%20%22bc21582ac1ad2b7de0647dfd5b76f67c%22%2C%20%22index_right%22%3A%2020085%2C%20%22loop_or_inlining%22%3A%200%2C%20%22seg_idx%22%3A%2020125%2C%20%22shape_array_key_left%22%3A%20%2221aedea4c0d05c570e042903cc62c9cf%22%2C%20%22shape_array_key_right%22%3A%20%2221aedea4c0d05c570e042903cc62c9cf%22%2C%20%22stop_id%22%3A%20%2287502%22%2C%20%22stop_sequence%22%3A%20180%2C%20%22trip_id%22%3A%20%22t120-sl9-p84-r1A%22%7D%2C%20%22type%22%3A%20%22Feature%22%7D%5D%2C%20%22type%22%3A%20%22FeatureCollection%22%7D%29%3B%0A%0A%20%20%20%20%20%20%20%20%0A%20%20%20%20%0A%20%20%20%20geo_json_b4a05b02982544e887393502950a57a0.bindTooltip%28%0A%20%20%20%20function%28layer%29%7B%0A%20%20%20%20let%20div%20%3D%20L.DomUtil.create%28%27div%27%29%3B%0A%20%20%20%20%0A%20%20%20%20let%20handleObject%20%3D%20feature%3D%3Etypeof%28feature%29%3D%3D%27object%27%20%3F%20JSON.stringify%28feature%29%20%3A%20feature%3B%0A%20%20%20%20let%20fields%20%3D%20%5B%22gtfs_dataset_key_left%22%2C%20%22trip_id%22%2C%20%22feed_key_left%22%2C%20%22shape_array_key_left%22%2C%20%22index_right%22%2C%20%22feed_key_right%22%2C%20%22shape_array_key_right%22%2C%20%22stop_id%22%2C%20%22stop_sequence%22%2C%20%22loop_or_inlining%22%2C%20%22gtfs_dataset_key_right%22%2C%20%22seg_idx%22%2C%20%22district%22%2C%20%22district_name%22%5D%3B%0A%20%20%20%20let%20aliases%20%3D%20%5B%22gtfs_dataset_key_left%22%2C%20%22trip_id%22%2C%20%22feed_key_left%22%2C%20%22shape_array_key_left%22%2C%20%22index_right%22%2C%20%22feed_key_right%22%2C%20%22shape_array_key_right%22%2C%20%22stop_id%22%2C%20%22stop_sequence%22%2C%20%22loop_or_inlining%22%2C%20%22gtfs_dataset_key_right%22%2C%20%22seg_idx%22%2C%20%22district%22%2C%20%22district_name%22%5D%3B%0A%20%20%20%20let%20table%20%3D%20%27%3Ctable%3E%27%20%2B%0A%20%20%20%20%20%20%20%20String%28%0A%20%20%20%20%20%20%20%20fields.map%28%0A%20%20%20%20%20%20%20%20%28v%2Ci%29%3D%3E%0A%20%20%20%20%20%20%20%20%60%3Ctr%3E%0A%20%20%20%20%20%20%20%20%20%20%20%20%3Cth%3E%24%7Baliases%5Bi%5D%7D%3C/th%3E%0A%20%20%20%20%20%20%20%20%20%20%20%20%0A%20%20%20%20%20%20%20%20%20%20%20%20%3Ctd%3E%24%7BhandleObject%28layer.feature.properties%5Bv%5D%29%7D%3C/td%3E%0A%20%20%20%20%20%20%20%20%3C/tr%3E%60%29.join%28%27%27%29%29%0A%20%20%20%20%2B%27%3C/table%3E%27%3B%0A%20%20%20%20div.innerHTML%3Dtable%3B%0A%20%20%20%20%0A%20%20%20%20return%20div%0A%20%20%20%20%7D%0A%20%20%20%20%2C%7B%22className%22%3A%20%22foliumtooltip%22%2C%20%22sticky%22%3A%20true%7D%29%3B%0A%20%20%20%20%20%20%20%20%20%20%20%20%20%20%20%20%20%20%20%20%20%0A%20%20%20%20%0A%20%20%20%20%20%20%20%20function%20geo_json_1df3d121fc284800adcc09c51d164400_styler%28feature%29%20%7B%0A%20%20%20%20%20%20%20%20%20%20%20%20switch%28feature.id%29%20%7B%0A%20%20%20%20%20%20%20%20%20%20%20%20%20%20%20%20default%3A%0A%20%20%20%20%20%20%20%20%20%20%20%20%20%20%20%20%20%20%20%20return%20%7B%22color%22%3A%20%22orange%22%2C%20%22fillColor%22%3A%20%22orange%22%2C%20%22fillOpacity%22%3A%200.5%2C%20%22weight%22%3A%206%7D%3B%0A%20%20%20%20%20%20%20%20%20%20%20%20%7D%0A%20%20%20%20%20%20%20%20%7D%0A%20%20%20%20%20%20%20%20function%20geo_json_1df3d121fc284800adcc09c51d164400_highlighter%28feature%29%20%7B%0A%20%20%20%20%20%20%20%20%20%20%20%20switch%28feature.id%29%20%7B%0A%20%20%20%20%20%20%20%20%20%20%20%20%20%20%20%20default%3A%0A%20%20%20%20%20%20%20%20%20%20%20%20%20%20%20%20%20%20%20%20return%20%7B%22fillOpacity%22%3A%200.75%7D%3B%0A%20%20%20%20%20%20%20%20%20%20%20%20%7D%0A%20%20%20%20%20%20%20%20%7D%0A%20%20%20%20%20%20%20%20function%20geo_json_1df3d121fc284800adcc09c51d164400_pointToLayer%28feature%2C%20latlng%29%20%7B%0A%20%20%20%20%20%20%20%20%20%20%20%20var%20opts%20%3D%20%7B%22bubblingMouseEvents%22%3A%20true%2C%20%22color%22%3A%20%22%233388ff%22%2C%20%22dashArray%22%3A%20null%2C%20%22dashOffset%22%3A%20null%2C%20%22fill%22%3A%20true%2C%20%22fillColor%22%3A%20%22%233388ff%22%2C%20%22fillOpacity%22%3A%200.2%2C%20%22fillRule%22%3A%20%22evenodd%22%2C%20%22lineCap%22%3A%20%22round%22%2C%20%22lineJoin%22%3A%20%22round%22%2C%20%22opacity%22%3A%201.0%2C%20%22radius%22%3A%202%2C%20%22stroke%22%3A%20true%2C%20%22weight%22%3A%203%7D%3B%0A%20%20%20%20%20%20%20%20%20%20%20%20%0A%20%20%20%20%20%20%20%20%20%20%20%20let%20style%20%3D%20geo_json_1df3d121fc284800adcc09c51d164400_styler%28feature%29%0A%20%20%20%20%20%20%20%20%20%20%20%20Object.assign%28opts%2C%20style%29%0A%20%20%20%20%20%20%20%20%20%20%20%20%0A%20%20%20%20%20%20%20%20%20%20%20%20return%20new%20L.CircleMarker%28latlng%2C%20opts%29%0A%20%20%20%20%20%20%20%20%7D%0A%0A%20%20%20%20%20%20%20%20function%20geo_json_1df3d121fc284800adcc09c51d164400_onEachFeature%28feature%2C%20layer%29%20%7B%0A%20%20%20%20%20%20%20%20%20%20%20%20layer.on%28%7B%0A%20%20%20%20%20%20%20%20%20%20%20%20%20%20%20%20mouseout%3A%20function%28e%29%20%7B%0A%20%20%20%20%20%20%20%20%20%20%20%20%20%20%20%20%20%20%20%20if%28typeof%20e.target.setStyle%20%3D%3D%3D%20%22function%22%29%7B%0A%20%20%20%20%20%20%20%20%20%20%20%20%20%20%20%20%20%20%20%20%20%20%20%20geo_json_1df3d121fc284800adcc09c51d164400.resetStyle%28e.target%29%3B%0A%20%20%20%20%20%20%20%20%20%20%20%20%20%20%20%20%20%20%20%20%7D%0A%20%20%20%20%20%20%20%20%20%20%20%20%20%20%20%20%7D%2C%0A%20%20%20%20%20%20%20%20%20%20%20%20%20%20%20%20mouseover%3A%20function%28e%29%20%7B%0A%20%20%20%20%20%20%20%20%20%20%20%20%20%20%20%20%20%20%20%20if%28typeof%20e.target.setStyle%20%3D%3D%3D%20%22function%22%29%7B%0A%20%20%20%20%20%20%20%20%20%20%20%20%20%20%20%20%20%20%20%20%20%20%20%20const%20highlightStyle%20%3D%20geo_json_1df3d121fc284800adcc09c51d164400_highlighter%28e.target.feature%29%0A%20%20%20%20%20%20%20%20%20%20%20%20%20%20%20%20%20%20%20%20%20%20%20%20e.target.setStyle%28highlightStyle%29%3B%0A%20%20%20%20%20%20%20%20%20%20%20%20%20%20%20%20%20%20%20%20%7D%0A%20%20%20%20%20%20%20%20%20%20%20%20%20%20%20%20%7D%2C%0A%20%20%20%20%20%20%20%20%20%20%20%20%7D%29%3B%0A%20%20%20%20%20%20%20%20%7D%3B%0A%20%20%20%20%20%20%20%20var%20geo_json_1df3d121fc284800adcc09c51d164400%20%3D%20L.geoJson%28null%2C%20%7B%0A%20%20%20%20%20%20%20%20%20%20%20%20%20%20%20%20onEachFeature%3A%20geo_json_1df3d121fc284800adcc09c51d164400_onEachFeature%2C%0A%20%20%20%20%20%20%20%20%20%20%20%20%0A%20%20%20%20%20%20%20%20%20%20%20%20%20%20%20%20style%3A%20geo_json_1df3d121fc284800adcc09c51d164400_styler%2C%0A%20%20%20%20%20%20%20%20%20%20%20%20%20%20%20%20pointToLayer%3A%20geo_json_1df3d121fc284800adcc09c51d164400_pointToLayer%0A%20%20%20%20%20%20%20%20%7D%29%3B%0A%0A%20%20%20%20%20%20%20%20function%20geo_json_1df3d121fc284800adcc09c51d164400_add%20%28data%29%20%7B%0A%20%20%20%20%20%20%20%20%20%20%20%20geo_json_1df3d121fc284800adcc09c51d164400%0A%20%20%20%20%20%20%20%20%20%20%20%20%20%20%20%20.addData%28data%29%0A%20%20%20%20%20%20%20%20%20%20%20%20%20%20%20%20.addTo%28map_862e926ebc5448329564e826c15f50fa%29%3B%0A%20%20%20%20%20%20%20%20%7D%0A%20%20%20%20%20%20%20%20%20%20%20%20geo_json_1df3d121fc284800adcc09c51d164400_add%28%7B%22bbox%22%3A%20%5B-122.66686%2C%2038.24746999999999%2C%20-122.62174000000002%2C%2038.27431999999997%5D%2C%20%22features%22%3A%20%5B%7B%22bbox%22%3A%20%5B-122.66130999999999%2C%2038.270251999999985%2C%20-122.66130999999999%2C%2038.270251999999985%5D%2C%20%22geometry%22%3A%20%7B%22coordinates%22%3A%20%5B-122.66130999999999%2C%2038.270251999999985%5D%2C%20%22type%22%3A%20%22Point%22%7D%2C%20%22id%22%3A%20%220%22%2C%20%22properties%22%3A%20%7B%22__folium_color%22%3A%20%22orange%22%2C%20%22district%22%3A%204%2C%20%22district_name%22%3A%20%22District%204%20-%20Oakland%22%2C%20%22feed_key_left%22%3A%20%22540e857d28ffdc628260ca22a21cb330%22%2C%20%22feed_key_right%22%3A%20%22540e857d28ffdc628260ca22a21cb330%22%2C%20%22gtfs_dataset_key_left%22%3A%20%22bc21582ac1ad2b7de0647dfd5b76f67c%22%2C%20%22gtfs_dataset_key_right%22%3A%20%22bc21582ac1ad2b7de0647dfd5b76f67c%22%2C%20%22index_right%22%3A%2020092%2C%20%22loop_or_inlining%22%3A%200%2C%20%22seg_idx%22%3A%2020132%2C%20%22shape_array_key_left%22%3A%20%2221aedea4c0d05c570e042903cc62c9cf%22%2C%20%22shape_array_key_right%22%3A%20%2221aedea4c0d05c570e042903cc62c9cf%22%2C%20%22stop_id%22%3A%20%2287509%22%2C%20%22stop_sequence%22%3A%20420%2C%20%22trip_id%22%3A%20%22t120-sl9-p84-r1A%22%7D%2C%20%22type%22%3A%20%22Feature%22%7D%2C%20%7B%22bbox%22%3A%20%5B-122.6589%2C%2038.26799999999999%2C%20-122.6589%2C%2038.26799999999999%5D%2C%20%22geometry%22%3A%20%7B%22coordinates%22%3A%20%5B-122.6589%2C%2038.26799999999999%5D%2C%20%22type%22%3A%20%22Point%22%7D%2C%20%22id%22%3A%20%221%22%2C%20%22properties%22%3A%20%7B%22__folium_color%22%3A%20%22orange%22%2C%20%22district%22%3A%204%2C%20%22district_name%22%3A%20%22District%204%20-%20Oakland%22%2C%20%22feed_key_left%22%3A%20%22540e857d28ffdc628260ca22a21cb330%22%2C%20%22feed_key_right%22%3A%20%22540e857d28ffdc628260ca22a21cb330%22%2C%20%22gtfs_dataset_key_left%22%3A%20%22bc21582ac1ad2b7de0647dfd5b76f67c%22%2C%20%22gtfs_dataset_key_right%22%3A%20%22bc21582ac1ad2b7de0647dfd5b76f67c%22%2C%20%22index_right%22%3A%2020092%2C%20%22loop_or_inlining%22%3A%200%2C%20%22seg_idx%22%3A%2020132%2C%20%22shape_array_key_left%22%3A%20%2221aedea4c0d05c570e042903cc62c9cf%22%2C%20%22shape_array_key_right%22%3A%20%2221aedea4c0d05c570e042903cc62c9cf%22%2C%20%22stop_id%22%3A%20%2287509%22%2C%20%22stop_sequence%22%3A%20420%2C%20%22trip_id%22%3A%20%22t120-sl9-p84-r1A%22%7D%2C%20%22type%22%3A%20%22Feature%22%7D%2C%20%7B%22bbox%22%3A%20%5B-122.66251000000001%2C%2038.27138000000001%2C%20-122.66251000000001%2C%2038.27138000000001%5D%2C%20%22geometry%22%3A%20%7B%22coordinates%22%3A%20%5B-122.66251000000001%2C%2038.27138000000001%5D%2C%20%22type%22%3A%20%22Point%22%7D%2C%20%22id%22%3A%20%222%22%2C%20%22properties%22%3A%20%7B%22__folium_color%22%3A%20%22orange%22%2C%20%22district%22%3A%204%2C%20%22district_name%22%3A%20%22District%204%20-%20Oakland%22%2C%20%22feed_key_left%22%3A%20%22540e857d28ffdc628260ca22a21cb330%22%2C%20%22feed_key_right%22%3A%20%22540e857d28ffdc628260ca22a21cb330%22%2C%20%22gtfs_dataset_key_left%22%3A%20%22bc21582ac1ad2b7de0647dfd5b76f67c%22%2C%20%22gtfs_dataset_key_right%22%3A%20%22bc21582ac1ad2b7de0647dfd5b76f67c%22%2C%20%22index_right%22%3A%2020092%2C%20%22loop_or_inlining%22%3A%200%2C%20%22seg_idx%22%3A%2020132%2C%20%22shape_array_key_left%22%3A%20%2221aedea4c0d05c570e042903cc62c9cf%22%2C%20%22shape_array_key_right%22%3A%20%2221aedea4c0d05c570e042903cc62c9cf%22%2C%20%22stop_id%22%3A%20%2287509%22%2C%20%22stop_sequence%22%3A%20420%2C%20%22trip_id%22%3A%20%22t120-sl9-p84-r1A%22%7D%2C%20%22type%22%3A%20%22Feature%22%7D%2C%20%7B%22bbox%22%3A%20%5B-122.66236999999998%2C%2038.271243999999996%2C%20-122.66236999999998%2C%2038.271243999999996%5D%2C%20%22geometry%22%3A%20%7B%22coordinates%22%3A%20%5B-122.66236999999998%2C%2038.271243999999996%5D%2C%20%22type%22%3A%20%22Point%22%7D%2C%20%22id%22%3A%20%223%22%2C%20%22properties%22%3A%20%7B%22__folium_color%22%3A%20%22orange%22%2C%20%22district%22%3A%204%2C%20%22district_name%22%3A%20%22District%204%20-%20Oakland%22%2C%20%22feed_key_left%22%3A%20%22540e857d28ffdc628260ca22a21cb330%22%2C%20%22feed_key_right%22%3A%20%22540e857d28ffdc628260ca22a21cb330%22%2C%20%22gtfs_dataset_key_left%22%3A%20%22bc21582ac1ad2b7de0647dfd5b76f67c%22%2C%20%22gtfs_dataset_key_right%22%3A%20%22bc21582ac1ad2b7de0647dfd5b76f67c%22%2C%20%22index_right%22%3A%2020092%2C%20%22loop_or_inlining%22%3A%200%2C%20%22seg_idx%22%3A%2020132%2C%20%22shape_array_key_left%22%3A%20%2221aedea4c0d05c570e042903cc62c9cf%22%2C%20%22shape_array_key_right%22%3A%20%2221aedea4c0d05c570e042903cc62c9cf%22%2C%20%22stop_id%22%3A%20%2287509%22%2C%20%22stop_sequence%22%3A%20420%2C%20%22trip_id%22%3A%20%22t120-sl9-p84-r1A%22%7D%2C%20%22type%22%3A%20%22Feature%22%7D%2C%20%7B%22bbox%22%3A%20%5B-122.66194000000002%2C%2038.27084699999998%2C%20-122.66194000000002%2C%2038.27084699999998%5D%2C%20%22geometry%22%3A%20%7B%22coordinates%22%3A%20%5B-122.66194000000002%2C%2038.27084699999998%5D%2C%20%22type%22%3A%20%22Point%22%7D%2C%20%22id%22%3A%20%224%22%2C%20%22properties%22%3A%20%7B%22__folium_color%22%3A%20%22orange%22%2C%20%22district%22%3A%204%2C%20%22district_name%22%3A%20%22District%204%20-%20Oakland%22%2C%20%22feed_key_left%22%3A%20%22540e857d28ffdc628260ca22a21cb330%22%2C%20%22feed_key_right%22%3A%20%22540e857d28ffdc628260ca22a21cb330%22%2C%20%22gtfs_dataset_key_left%22%3A%20%22bc21582ac1ad2b7de0647dfd5b76f67c%22%2C%20%22gtfs_dataset_key_right%22%3A%20%22bc21582ac1ad2b7de0647dfd5b76f67c%22%2C%20%22index_right%22%3A%2020092%2C%20%22loop_or_inlining%22%3A%200%2C%20%22seg_idx%22%3A%2020132%2C%20%22shape_array_key_left%22%3A%20%2221aedea4c0d05c570e042903cc62c9cf%22%2C%20%22shape_array_key_right%22%3A%20%2221aedea4c0d05c570e042903cc62c9cf%22%2C%20%22stop_id%22%3A%20%2287509%22%2C%20%22stop_sequence%22%3A%20420%2C%20%22trip_id%22%3A%20%22t120-sl9-p84-r1A%22%7D%2C%20%22type%22%3A%20%22Feature%22%7D%2C%20%7B%22bbox%22%3A%20%5B-122.66011%2C%2038.26914%2C%20-122.66011%2C%2038.26914%5D%2C%20%22geometry%22%3A%20%7B%22coordinates%22%3A%20%5B-122.66011%2C%2038.26914%5D%2C%20%22type%22%3A%20%22Point%22%7D%2C%20%22id%22%3A%20%225%22%2C%20%22properties%22%3A%20%7B%22__folium_color%22%3A%20%22orange%22%2C%20%22district%22%3A%204%2C%20%22district_name%22%3A%20%22District%204%20-%20Oakland%22%2C%20%22feed_key_left%22%3A%20%22540e857d28ffdc628260ca22a21cb330%22%2C%20%22feed_key_right%22%3A%20%22540e857d28ffdc628260ca22a21cb330%22%2C%20%22gtfs_dataset_key_left%22%3A%20%22bc21582ac1ad2b7de0647dfd5b76f67c%22%2C%20%22gtfs_dataset_key_right%22%3A%20%22bc21582ac1ad2b7de0647dfd5b76f67c%22%2C%20%22index_right%22%3A%2020092%2C%20%22loop_or_inlining%22%3A%200%2C%20%22seg_idx%22%3A%2020132%2C%20%22shape_array_key_left%22%3A%20%2221aedea4c0d05c570e042903cc62c9cf%22%2C%20%22shape_array_key_right%22%3A%20%2221aedea4c0d05c570e042903cc62c9cf%22%2C%20%22stop_id%22%3A%20%2287509%22%2C%20%22stop_sequence%22%3A%20420%2C%20%22trip_id%22%3A%20%22t120-sl9-p84-r1A%22%7D%2C%20%22type%22%3A%20%22Feature%22%7D%2C%20%7B%22bbox%22%3A%20%5B-122.64506000000002%2C%2038.260094000000024%2C%20-122.64506000000002%2C%2038.260094000000024%5D%2C%20%22geometry%22%3A%20%7B%22coordinates%22%3A%20%5B-122.64506000000002%2C%2038.260094000000024%5D%2C%20%22type%22%3A%20%22Point%22%7D%2C%20%22id%22%3A%20%226%22%2C%20%22properties%22%3A%20%7B%22__folium_color%22%3A%20%22orange%22%2C%20%22district%22%3A%204%2C%20%22district_name%22%3A%20%22District%204%20-%20Oakland%22%2C%20%22feed_key_left%22%3A%20%22540e857d28ffdc628260ca22a21cb330%22%2C%20%22feed_key_right%22%3A%20%22540e857d28ffdc628260ca22a21cb330%22%2C%20%22gtfs_dataset_key_left%22%3A%20%22bc21582ac1ad2b7de0647dfd5b76f67c%22%2C%20%22gtfs_dataset_key_right%22%3A%20%22bc21582ac1ad2b7de0647dfd5b76f67c%22%2C%20%22index_right%22%3A%2020088%2C%20%22loop_or_inlining%22%3A%200%2C%20%22seg_idx%22%3A%2020128%2C%20%22shape_array_key_left%22%3A%20%2221aedea4c0d05c570e042903cc62c9cf%22%2C%20%22shape_array_key_right%22%3A%20%2221aedea4c0d05c570e042903cc62c9cf%22%2C%20%22stop_id%22%3A%20%2287505%22%2C%20%22stop_sequence%22%3A%20240%2C%20%22trip_id%22%3A%20%22t120-sl9-p84-r1A%22%7D%2C%20%22type%22%3A%20%22Feature%22%7D%2C%20%7B%22bbox%22%3A%20%5B-122.64644%2C%2038.260876000000025%2C%20-122.64644%2C%2038.260876000000025%5D%2C%20%22geometry%22%3A%20%7B%22coordinates%22%3A%20%5B-122.64644%2C%2038.260876000000025%5D%2C%20%22type%22%3A%20%22Point%22%7D%2C%20%22id%22%3A%20%227%22%2C%20%22properties%22%3A%20%7B%22__folium_color%22%3A%20%22orange%22%2C%20%22district%22%3A%204%2C%20%22district_name%22%3A%20%22District%204%20-%20Oakland%22%2C%20%22feed_key_left%22%3A%20%22540e857d28ffdc628260ca22a21cb330%22%2C%20%22feed_key_right%22%3A%20%22540e857d28ffdc628260ca22a21cb330%22%2C%20%22gtfs_dataset_key_left%22%3A%20%22bc21582ac1ad2b7de0647dfd5b76f67c%22%2C%20%22gtfs_dataset_key_right%22%3A%20%22bc21582ac1ad2b7de0647dfd5b76f67c%22%2C%20%22index_right%22%3A%2020088%2C%20%22loop_or_inlining%22%3A%200%2C%20%22seg_idx%22%3A%2020128%2C%20%22shape_array_key_left%22%3A%20%2221aedea4c0d05c570e042903cc62c9cf%22%2C%20%22shape_array_key_right%22%3A%20%2221aedea4c0d05c570e042903cc62c9cf%22%2C%20%22stop_id%22%3A%20%2287505%22%2C%20%22stop_sequence%22%3A%20240%2C%20%22trip_id%22%3A%20%22t120-sl9-p84-r1A%22%7D%2C%20%22type%22%3A%20%22Feature%22%7D%2C%20%7B%22bbox%22%3A%20%5B-122.66251000000001%2C%2038.27138000000001%2C%20-122.66251000000001%2C%2038.27138000000001%5D%2C%20%22geometry%22%3A%20%7B%22coordinates%22%3A%20%5B-122.66251000000001%2C%2038.27138000000001%5D%2C%20%22type%22%3A%20%22Point%22%7D%2C%20%22id%22%3A%20%228%22%2C%20%22properties%22%3A%20%7B%22__folium_color%22%3A%20%22orange%22%2C%20%22district%22%3A%204%2C%20%22district_name%22%3A%20%22District%204%20-%20Oakland%22%2C%20%22feed_key_left%22%3A%20%22540e857d28ffdc628260ca22a21cb330%22%2C%20%22feed_key_right%22%3A%20%22540e857d28ffdc628260ca22a21cb330%22%2C%20%22gtfs_dataset_key_left%22%3A%20%22bc21582ac1ad2b7de0647dfd5b76f67c%22%2C%20%22gtfs_dataset_key_right%22%3A%20%22bc21582ac1ad2b7de0647dfd5b76f67c%22%2C%20%22index_right%22%3A%2020093%2C%20%22loop_or_inlining%22%3A%200%2C%20%22seg_idx%22%3A%2020133%2C%20%22shape_array_key_left%22%3A%20%2221aedea4c0d05c570e042903cc62c9cf%22%2C%20%22shape_array_key_right%22%3A%20%2221aedea4c0d05c570e042903cc62c9cf%22%2C%20%22stop_id%22%3A%20%2287530%22%2C%20%22stop_sequence%22%3A%20440%2C%20%22trip_id%22%3A%20%22t120-sl9-p84-r1A%22%7D%2C%20%22type%22%3A%20%22Feature%22%7D%2C%20%7B%22bbox%22%3A%20%5B-122.66294%2C%2038.27178000000003%2C%20-122.66294%2C%2038.27178000000003%5D%2C%20%22geometry%22%3A%20%7B%22coordinates%22%3A%20%5B-122.66294%2C%2038.27178000000003%5D%2C%20%22type%22%3A%20%22Point%22%7D%2C%20%22id%22%3A%20%229%22%2C%20%22properties%22%3A%20%7B%22__folium_color%22%3A%20%22orange%22%2C%20%22district%22%3A%204%2C%20%22district_name%22%3A%20%22District%204%20-%20Oakland%22%2C%20%22feed_key_left%22%3A%20%22540e857d28ffdc628260ca22a21cb330%22%2C%20%22feed_key_right%22%3A%20%22540e857d28ffdc628260ca22a21cb330%22%2C%20%22gtfs_dataset_key_left%22%3A%20%22bc21582ac1ad2b7de0647dfd5b76f67c%22%2C%20%22gtfs_dataset_key_right%22%3A%20%22bc21582ac1ad2b7de0647dfd5b76f67c%22%2C%20%22index_right%22%3A%2020093%2C%20%22loop_or_inlining%22%3A%200%2C%20%22seg_idx%22%3A%2020133%2C%20%22shape_array_key_left%22%3A%20%2221aedea4c0d05c570e042903cc62c9cf%22%2C%20%22shape_array_key_right%22%3A%20%2221aedea4c0d05c570e042903cc62c9cf%22%2C%20%22stop_id%22%3A%20%2287530%22%2C%20%22stop_sequence%22%3A%20440%2C%20%22trip_id%22%3A%20%22t120-sl9-p84-r1A%22%7D%2C%20%22type%22%3A%20%22Feature%22%7D%2C%20%7B%22bbox%22%3A%20%5B-122.66371%2C%2038.27247600000004%2C%20-122.66371%2C%2038.27247600000004%5D%2C%20%22geometry%22%3A%20%7B%22coordinates%22%3A%20%5B-122.66371%2C%2038.27247600000004%5D%2C%20%22type%22%3A%20%22Point%22%7D%2C%20%22id%22%3A%20%2210%22%2C%20%22properties%22%3A%20%7B%22__folium_color%22%3A%20%22orange%22%2C%20%22district%22%3A%204%2C%20%22district_name%22%3A%20%22District%204%20-%20Oakland%22%2C%20%22feed_key_left%22%3A%20%22540e857d28ffdc628260ca22a21cb330%22%2C%20%22feed_key_right%22%3A%20%22540e857d28ffdc628260ca22a21cb330%22%2C%20%22gtfs_dataset_key_left%22%3A%20%22bc21582ac1ad2b7de0647dfd5b76f67c%22%2C%20%22gtfs_dataset_key_right%22%3A%20%22bc21582ac1ad2b7de0647dfd5b76f67c%22%2C%20%22index_right%22%3A%2020093%2C%20%22loop_or_inlining%22%3A%200%2C%20%22seg_idx%22%3A%2020133%2C%20%22shape_array_key_left%22%3A%20%2221aedea4c0d05c570e042903cc62c9cf%22%2C%20%22shape_array_key_right%22%3A%20%2221aedea4c0d05c570e042903cc62c9cf%22%2C%20%22stop_id%22%3A%20%2287530%22%2C%20%22stop_sequence%22%3A%20440%2C%20%22trip_id%22%3A%20%22t120-sl9-p84-r1A%22%7D%2C%20%22type%22%3A%20%22Feature%22%7D%2C%20%7B%22bbox%22%3A%20%5B-122.66435%2C%2038.27288000000006%2C%20-122.66435%2C%2038.27288000000006%5D%2C%20%22geometry%22%3A%20%7B%22coordinates%22%3A%20%5B-122.66435%2C%2038.27288000000006%5D%2C%20%22type%22%3A%20%22Point%22%7D%2C%20%22id%22%3A%20%2211%22%2C%20%22properties%22%3A%20%7B%22__folium_color%22%3A%20%22orange%22%2C%20%22district%22%3A%204%2C%20%22district_name%22%3A%20%22District%204%20-%20Oakland%22%2C%20%22feed_key_left%22%3A%20%22540e857d28ffdc628260ca22a21cb330%22%2C%20%22feed_key_right%22%3A%20%22540e857d28ffdc628260ca22a21cb330%22%2C%20%22gtfs_dataset_key_left%22%3A%20%22bc21582ac1ad2b7de0647dfd5b76f67c%22%2C%20%22gtfs_dataset_key_right%22%3A%20%22bc21582ac1ad2b7de0647dfd5b76f67c%22%2C%20%22index_right%22%3A%2020093%2C%20%22loop_or_inlining%22%3A%200%2C%20%22seg_idx%22%3A%2020133%2C%20%22shape_array_key_left%22%3A%20%2221aedea4c0d05c570e042903cc62c9cf%22%2C%20%22shape_array_key_right%22%3A%20%2221aedea4c0d05c570e042903cc62c9cf%22%2C%20%22stop_id%22%3A%20%2287530%22%2C%20%22stop_sequence%22%3A%20440%2C%20%22trip_id%22%3A%20%22t120-sl9-p84-r1A%22%7D%2C%20%22type%22%3A%20%22Feature%22%7D%2C%20%7B%22bbox%22%3A%20%5B-122.66572000000001%2C%2038.273665999999956%2C%20-122.66572000000001%2C%2038.273665999999956%5D%2C%20%22geometry%22%3A%20%7B%22coordinates%22%3A%20%5B-122.66572000000001%2C%2038.273665999999956%5D%2C%20%22type%22%3A%20%22Point%22%7D%2C%20%22id%22%3A%20%2212%22%2C%20%22properties%22%3A%20%7B%22__folium_color%22%3A%20%22orange%22%2C%20%22district%22%3A%204%2C%20%22district_name%22%3A%20%22District%204%20-%20Oakland%22%2C%20%22feed_key_left%22%3A%20%22540e857d28ffdc628260ca22a21cb330%22%2C%20%22feed_key_right%22%3A%20%22540e857d28ffdc628260ca22a21cb330%22%2C%20%22gtfs_dataset_key_left%22%3A%20%22bc21582ac1ad2b7de0647dfd5b76f67c%22%2C%20%22gtfs_dataset_key_right%22%3A%20%22bc21582ac1ad2b7de0647dfd5b76f67c%22%2C%20%22index_right%22%3A%2020094%2C%20%22loop_or_inlining%22%3A%200%2C%20%22seg_idx%22%3A%2020134%2C%20%22shape_array_key_left%22%3A%20%2221aedea4c0d05c570e042903cc62c9cf%22%2C%20%22shape_array_key_right%22%3A%20%2221aedea4c0d05c570e042903cc62c9cf%22%2C%20%22stop_id%22%3A%20%2287511%22%2C%20%22stop_sequence%22%3A%20480%2C%20%22trip_id%22%3A%20%22t120-sl9-p84-r1A%22%7D%2C%20%22type%22%3A%20%22Feature%22%7D%2C%20%7B%22bbox%22%3A%20%5B-122.66685500000001%2C%2038.27431999999997%2C%20-122.66685500000001%2C%2038.27431999999997%5D%2C%20%22geometry%22%3A%20%7B%22coordinates%22%3A%20%5B-122.66685500000001%2C%2038.27431999999997%5D%2C%20%22type%22%3A%20%22Point%22%7D%2C%20%22id%22%3A%20%2213%22%2C%20%22properties%22%3A%20%7B%22__folium_color%22%3A%20%22orange%22%2C%20%22district%22%3A%204%2C%20%22district_name%22%3A%20%22District%204%20-%20Oakland%22%2C%20%22feed_key_left%22%3A%20%22540e857d28ffdc628260ca22a21cb330%22%2C%20%22feed_key_right%22%3A%20%22540e857d28ffdc628260ca22a21cb330%22%2C%20%22gtfs_dataset_key_left%22%3A%20%22bc21582ac1ad2b7de0647dfd5b76f67c%22%2C%20%22gtfs_dataset_key_right%22%3A%20%22bc21582ac1ad2b7de0647dfd5b76f67c%22%2C%20%22index_right%22%3A%2020094%2C%20%22loop_or_inlining%22%3A%200%2C%20%22seg_idx%22%3A%2020134%2C%20%22shape_array_key_left%22%3A%20%2221aedea4c0d05c570e042903cc62c9cf%22%2C%20%22shape_array_key_right%22%3A%20%2221aedea4c0d05c570e042903cc62c9cf%22%2C%20%22stop_id%22%3A%20%2287511%22%2C%20%22stop_sequence%22%3A%20480%2C%20%22trip_id%22%3A%20%22t120-sl9-p84-r1A%22%7D%2C%20%22type%22%3A%20%22Feature%22%7D%2C%20%7B%22bbox%22%3A%20%5B-122.66503%2C%2038.273270000000004%2C%20-122.66503%2C%2038.273270000000004%5D%2C%20%22geometry%22%3A%20%7B%22coordinates%22%3A%20%5B-122.66503%2C%2038.273270000000004%5D%2C%20%22type%22%3A%20%22Point%22%7D%2C%20%22id%22%3A%20%2214%22%2C%20%22properties%22%3A%20%7B%22__folium_color%22%3A%20%22orange%22%2C%20%22district%22%3A%204%2C%20%22district_name%22%3A%20%22District%204%20-%20Oakland%22%2C%20%22feed_key_left%22%3A%20%22540e857d28ffdc628260ca22a21cb330%22%2C%20%22feed_key_right%22%3A%20%22540e857d28ffdc628260ca22a21cb330%22%2C%20%22gtfs_dataset_key_left%22%3A%20%22bc21582ac1ad2b7de0647dfd5b76f67c%22%2C%20%22gtfs_dataset_key_right%22%3A%20%22bc21582ac1ad2b7de0647dfd5b76f67c%22%2C%20%22index_right%22%3A%2020094%2C%20%22loop_or_inlining%22%3A%200%2C%20%22seg_idx%22%3A%2020134%2C%20%22shape_array_key_left%22%3A%20%2221aedea4c0d05c570e042903cc62c9cf%22%2C%20%22shape_array_key_right%22%3A%20%2221aedea4c0d05c570e042903cc62c9cf%22%2C%20%22stop_id%22%3A%20%2287511%22%2C%20%22stop_sequence%22%3A%20480%2C%20%22trip_id%22%3A%20%22t120-sl9-p84-r1A%22%7D%2C%20%22type%22%3A%20%22Feature%22%7D%2C%20%7B%22bbox%22%3A%20%5B-122.66435%2C%2038.27288000000006%2C%20-122.66435%2C%2038.27288000000006%5D%2C%20%22geometry%22%3A%20%7B%22coordinates%22%3A%20%5B-122.66435%2C%2038.27288000000006%5D%2C%20%22type%22%3A%20%22Point%22%7D%2C%20%22id%22%3A%20%2215%22%2C%20%22properties%22%3A%20%7B%22__folium_color%22%3A%20%22orange%22%2C%20%22district%22%3A%204%2C%20%22district_name%22%3A%20%22District%204%20-%20Oakland%22%2C%20%22feed_key_left%22%3A%20%22540e857d28ffdc628260ca22a21cb330%22%2C%20%22feed_key_right%22%3A%20%22540e857d28ffdc628260ca22a21cb330%22%2C%20%22gtfs_dataset_key_left%22%3A%20%22bc21582ac1ad2b7de0647dfd5b76f67c%22%2C%20%22gtfs_dataset_key_right%22%3A%20%22bc21582ac1ad2b7de0647dfd5b76f67c%22%2C%20%22index_right%22%3A%2020094%2C%20%22loop_or_inlining%22%3A%200%2C%20%22seg_idx%22%3A%2020134%2C%20%22shape_array_key_left%22%3A%20%2221aedea4c0d05c570e042903cc62c9cf%22%2C%20%22shape_array_key_right%22%3A%20%2221aedea4c0d05c570e042903cc62c9cf%22%2C%20%22stop_id%22%3A%20%2287511%22%2C%20%22stop_sequence%22%3A%20480%2C%20%22trip_id%22%3A%20%22t120-sl9-p84-r1A%22%7D%2C%20%22type%22%3A%20%22Feature%22%7D%2C%20%7B%22bbox%22%3A%20%5B-122.66685500000001%2C%2038.274314999999994%2C%20-122.66685500000001%2C%2038.274314999999994%5D%2C%20%22geometry%22%3A%20%7B%22coordinates%22%3A%20%5B-122.66685500000001%2C%2038.274314999999994%5D%2C%20%22type%22%3A%20%22Point%22%7D%2C%20%22id%22%3A%20%2216%22%2C%20%22properties%22%3A%20%7B%22__folium_color%22%3A%20%22orange%22%2C%20%22district%22%3A%204%2C%20%22district_name%22%3A%20%22District%204%20-%20Oakland%22%2C%20%22feed_key_left%22%3A%20%22540e857d28ffdc628260ca22a21cb330%22%2C%20%22feed_key_right%22%3A%20%22540e857d28ffdc628260ca22a21cb330%22%2C%20%22gtfs_dataset_key_left%22%3A%20%22bc21582ac1ad2b7de0647dfd5b76f67c%22%2C%20%22gtfs_dataset_key_right%22%3A%20%22bc21582ac1ad2b7de0647dfd5b76f67c%22%2C%20%22index_right%22%3A%2020094%2C%20%22loop_or_inlining%22%3A%200%2C%20%22seg_idx%22%3A%2020134%2C%20%22shape_array_key_left%22%3A%20%2221aedea4c0d05c570e042903cc62c9cf%22%2C%20%22shape_array_key_right%22%3A%20%2221aedea4c0d05c570e042903cc62c9cf%22%2C%20%22stop_id%22%3A%20%2287511%22%2C%20%22stop_sequence%22%3A%20480%2C%20%22trip_id%22%3A%20%22t120-sl9-p84-r1A%22%7D%2C%20%22type%22%3A%20%22Feature%22%7D%2C%20%7B%22bbox%22%3A%20%5B-122.66605000000001%2C%2038.273853000000024%2C%20-122.66605000000001%2C%2038.273853000000024%5D%2C%20%22geometry%22%3A%20%7B%22coordinates%22%3A%20%5B-122.66605000000001%2C%2038.273853000000024%5D%2C%20%22type%22%3A%20%22Point%22%7D%2C%20%22id%22%3A%20%2217%22%2C%20%22properties%22%3A%20%7B%22__folium_color%22%3A%20%22orange%22%2C%20%22district%22%3A%204%2C%20%22district_name%22%3A%20%22District%204%20-%20Oakland%22%2C%20%22feed_key_left%22%3A%20%22540e857d28ffdc628260ca22a21cb330%22%2C%20%22feed_key_right%22%3A%20%22540e857d28ffdc628260ca22a21cb330%22%2C%20%22gtfs_dataset_key_left%22%3A%20%22bc21582ac1ad2b7de0647dfd5b76f67c%22%2C%20%22gtfs_dataset_key_right%22%3A%20%22bc21582ac1ad2b7de0647dfd5b76f67c%22%2C%20%22index_right%22%3A%2020094%2C%20%22loop_or_inlining%22%3A%200%2C%20%22seg_idx%22%3A%2020134%2C%20%22shape_array_key_left%22%3A%20%2221aedea4c0d05c570e042903cc62c9cf%22%2C%20%22shape_array_key_right%22%3A%20%2221aedea4c0d05c570e042903cc62c9cf%22%2C%20%22stop_id%22%3A%20%2287511%22%2C%20%22stop_sequence%22%3A%20480%2C%20%22trip_id%22%3A%20%22t120-sl9-p84-r1A%22%7D%2C%20%22type%22%3A%20%22Feature%22%7D%2C%20%7B%22bbox%22%3A%20%5B-122.66686%2C%2038.274314999999994%2C%20-122.66686%2C%2038.274314999999994%5D%2C%20%22geometry%22%3A%20%7B%22coordinates%22%3A%20%5B-122.66686%2C%2038.274314999999994%5D%2C%20%22type%22%3A%20%22Point%22%7D%2C%20%22id%22%3A%20%2218%22%2C%20%22properties%22%3A%20%7B%22__folium_color%22%3A%20%22orange%22%2C%20%22district%22%3A%204%2C%20%22district_name%22%3A%20%22District%204%20-%20Oakland%22%2C%20%22feed_key_left%22%3A%20%22540e857d28ffdc628260ca22a21cb330%22%2C%20%22feed_key_right%22%3A%20%22540e857d28ffdc628260ca22a21cb330%22%2C%20%22gtfs_dataset_key_left%22%3A%20%22bc21582ac1ad2b7de0647dfd5b76f67c%22%2C%20%22gtfs_dataset_key_right%22%3A%20%22bc21582ac1ad2b7de0647dfd5b76f67c%22%2C%20%22index_right%22%3A%2020094%2C%20%22loop_or_inlining%22%3A%200%2C%20%22seg_idx%22%3A%2020134%2C%20%22shape_array_key_left%22%3A%20%2221aedea4c0d05c570e042903cc62c9cf%22%2C%20%22shape_array_key_right%22%3A%20%2221aedea4c0d05c570e042903cc62c9cf%22%2C%20%22stop_id%22%3A%20%2287511%22%2C%20%22stop_sequence%22%3A%20480%2C%20%22trip_id%22%3A%20%22t120-sl9-p84-r1A%22%7D%2C%20%22type%22%3A%20%22Feature%22%7D%2C%20%7B%22bbox%22%3A%20%5B-122.65044000000002%2C%2038.263123000000036%2C%20-122.65044000000002%2C%2038.263123000000036%5D%2C%20%22geometry%22%3A%20%7B%22coordinates%22%3A%20%5B-122.65044000000002%2C%2038.263123000000036%5D%2C%20%22type%22%3A%20%22Point%22%7D%2C%20%22id%22%3A%20%2219%22%2C%20%22properties%22%3A%20%7B%22__folium_color%22%3A%20%22orange%22%2C%20%22district%22%3A%204%2C%20%22district_name%22%3A%20%22District%204%20-%20Oakland%22%2C%20%22feed_key_left%22%3A%20%22540e857d28ffdc628260ca22a21cb330%22%2C%20%22feed_key_right%22%3A%20%22540e857d28ffdc628260ca22a21cb330%22%2C%20%22gtfs_dataset_key_left%22%3A%20%22bc21582ac1ad2b7de0647dfd5b76f67c%22%2C%20%22gtfs_dataset_key_right%22%3A%20%22bc21582ac1ad2b7de0647dfd5b76f67c%22%2C%20%22index_right%22%3A%2020090%2C%20%22loop_or_inlining%22%3A%200%2C%20%22seg_idx%22%3A%2020130%2C%20%22shape_array_key_left%22%3A%20%2221aedea4c0d05c570e042903cc62c9cf%22%2C%20%22shape_array_key_right%22%3A%20%2221aedea4c0d05c570e042903cc62c9cf%22%2C%20%22stop_id%22%3A%20%2287507%22%2C%20%22stop_sequence%22%3A%20330%2C%20%22trip_id%22%3A%20%22t120-sl9-p84-r1A%22%7D%2C%20%22type%22%3A%20%22Feature%22%7D%2C%20%7B%22bbox%22%3A%20%5B-122.65350000000001%2C%2038.26486%2C%20-122.65350000000001%2C%2038.26486%5D%2C%20%22geometry%22%3A%20%7B%22coordinates%22%3A%20%5B-122.65350000000001%2C%2038.26486%5D%2C%20%22type%22%3A%20%22Point%22%7D%2C%20%22id%22%3A%20%2220%22%2C%20%22properties%22%3A%20%7B%22__folium_color%22%3A%20%22orange%22%2C%20%22district%22%3A%204%2C%20%22district_name%22%3A%20%22District%204%20-%20Oakland%22%2C%20%22feed_key_left%22%3A%20%22540e857d28ffdc628260ca22a21cb330%22%2C%20%22feed_key_right%22%3A%20%22540e857d28ffdc628260ca22a21cb330%22%2C%20%22gtfs_dataset_key_left%22%3A%20%22bc21582ac1ad2b7de0647dfd5b76f67c%22%2C%20%22gtfs_dataset_key_right%22%3A%20%22bc21582ac1ad2b7de0647dfd5b76f67c%22%2C%20%22index_right%22%3A%2020090%2C%20%22loop_or_inlining%22%3A%200%2C%20%22seg_idx%22%3A%2020130%2C%20%22shape_array_key_left%22%3A%20%2221aedea4c0d05c570e042903cc62c9cf%22%2C%20%22shape_array_key_right%22%3A%20%2221aedea4c0d05c570e042903cc62c9cf%22%2C%20%22stop_id%22%3A%20%2287507%22%2C%20%22stop_sequence%22%3A%20330%2C%20%22trip_id%22%3A%20%22t120-sl9-p84-r1A%22%7D%2C%20%22type%22%3A%20%22Feature%22%7D%2C%20%7B%22bbox%22%3A%20%5B-122.65059%2C%2038.26321000000001%2C%20-122.65059%2C%2038.26321000000001%5D%2C%20%22geometry%22%3A%20%7B%22coordinates%22%3A%20%5B-122.65059%2C%2038.26321000000001%5D%2C%20%22type%22%3A%20%22Point%22%7D%2C%20%22id%22%3A%20%2221%22%2C%20%22properties%22%3A%20%7B%22__folium_color%22%3A%20%22orange%22%2C%20%22district%22%3A%204%2C%20%22district_name%22%3A%20%22District%204%20-%20Oakland%22%2C%20%22feed_key_left%22%3A%20%22540e857d28ffdc628260ca22a21cb330%22%2C%20%22feed_key_right%22%3A%20%22540e857d28ffdc628260ca22a21cb330%22%2C%20%22gtfs_dataset_key_left%22%3A%20%22bc21582ac1ad2b7de0647dfd5b76f67c%22%2C%20%22gtfs_dataset_key_right%22%3A%20%22bc21582ac1ad2b7de0647dfd5b76f67c%22%2C%20%22index_right%22%3A%2020090%2C%20%22loop_or_inlining%22%3A%200%2C%20%22seg_idx%22%3A%2020130%2C%20%22shape_array_key_left%22%3A%20%2221aedea4c0d05c570e042903cc62c9cf%22%2C%20%22shape_array_key_right%22%3A%20%2221aedea4c0d05c570e042903cc62c9cf%22%2C%20%22stop_id%22%3A%20%2287507%22%2C%20%22stop_sequence%22%3A%20330%2C%20%22trip_id%22%3A%20%22t120-sl9-p84-r1A%22%7D%2C%20%22type%22%3A%20%22Feature%22%7D%2C%20%7B%22bbox%22%3A%20%5B-122.65172000000001%2C%2038.26384999999999%2C%20-122.65172000000001%2C%2038.26384999999999%5D%2C%20%22geometry%22%3A%20%7B%22coordinates%22%3A%20%5B-122.65172000000001%2C%2038.26384999999999%5D%2C%20%22type%22%3A%20%22Point%22%7D%2C%20%22id%22%3A%20%2222%22%2C%20%22properties%22%3A%20%7B%22__folium_color%22%3A%20%22orange%22%2C%20%22district%22%3A%204%2C%20%22district_name%22%3A%20%22District%204%20-%20Oakland%22%2C%20%22feed_key_left%22%3A%20%22540e857d28ffdc628260ca22a21cb330%22%2C%20%22feed_key_right%22%3A%20%22540e857d28ffdc628260ca22a21cb330%22%2C%20%22gtfs_dataset_key_left%22%3A%20%22bc21582ac1ad2b7de0647dfd5b76f67c%22%2C%20%22gtfs_dataset_key_right%22%3A%20%22bc21582ac1ad2b7de0647dfd5b76f67c%22%2C%20%22index_right%22%3A%2020090%2C%20%22loop_or_inlining%22%3A%200%2C%20%22seg_idx%22%3A%2020130%2C%20%22shape_array_key_left%22%3A%20%2221aedea4c0d05c570e042903cc62c9cf%22%2C%20%22shape_array_key_right%22%3A%20%2221aedea4c0d05c570e042903cc62c9cf%22%2C%20%22stop_id%22%3A%20%2287507%22%2C%20%22stop_sequence%22%3A%20330%2C%20%22trip_id%22%3A%20%22t120-sl9-p84-r1A%22%7D%2C%20%22type%22%3A%20%22Feature%22%7D%2C%20%7B%22bbox%22%3A%20%5B-122.63156%2C%2038.25246400000003%2C%20-122.63156%2C%2038.25246400000003%5D%2C%20%22geometry%22%3A%20%7B%22coordinates%22%3A%20%5B-122.63156%2C%2038.25246400000003%5D%2C%20%22type%22%3A%20%22Point%22%7D%2C%20%22id%22%3A%20%2223%22%2C%20%22properties%22%3A%20%7B%22__folium_color%22%3A%20%22orange%22%2C%20%22district%22%3A%204%2C%20%22district_name%22%3A%20%22District%204%20-%20Oakland%22%2C%20%22feed_key_left%22%3A%20%22540e857d28ffdc628260ca22a21cb330%22%2C%20%22feed_key_right%22%3A%20%22540e857d28ffdc628260ca22a21cb330%22%2C%20%22gtfs_dataset_key_left%22%3A%20%22bc21582ac1ad2b7de0647dfd5b76f67c%22%2C%20%22gtfs_dataset_key_right%22%3A%20%22bc21582ac1ad2b7de0647dfd5b76f67c%22%2C%20%22index_right%22%3A%2020084%2C%20%22loop_or_inlining%22%3A%200%2C%20%22seg_idx%22%3A%2020124%2C%20%22shape_array_key_left%22%3A%20%2221aedea4c0d05c570e042903cc62c9cf%22%2C%20%22shape_array_key_right%22%3A%20%2221aedea4c0d05c570e042903cc62c9cf%22%2C%20%22stop_id%22%3A%20%2287501%22%2C%20%22stop_sequence%22%3A%20120%2C%20%22trip_id%22%3A%20%22t120-sl9-p84-r1A%22%7D%2C%20%22type%22%3A%20%22Feature%22%7D%2C%20%7B%22bbox%22%3A%20%5B-122.63251000000001%2C%2038.25300199999997%2C%20-122.63251000000001%2C%2038.25300199999997%5D%2C%20%22geometry%22%3A%20%7B%22coordinates%22%3A%20%5B-122.63251000000001%2C%2038.25300199999997%5D%2C%20%22type%22%3A%20%22Point%22%7D%2C%20%22id%22%3A%20%2224%22%2C%20%22properties%22%3A%20%7B%22__folium_color%22%3A%20%22orange%22%2C%20%22district%22%3A%204%2C%20%22district_name%22%3A%20%22District%204%20-%20Oakland%22%2C%20%22feed_key_left%22%3A%20%22540e857d28ffdc628260ca22a21cb330%22%2C%20%22feed_key_right%22%3A%20%22540e857d28ffdc628260ca22a21cb330%22%2C%20%22gtfs_dataset_key_left%22%3A%20%22bc21582ac1ad2b7de0647dfd5b76f67c%22%2C%20%22gtfs_dataset_key_right%22%3A%20%22bc21582ac1ad2b7de0647dfd5b76f67c%22%2C%20%22index_right%22%3A%2020084%2C%20%22loop_or_inlining%22%3A%200%2C%20%22seg_idx%22%3A%2020124%2C%20%22shape_array_key_left%22%3A%20%2221aedea4c0d05c570e042903cc62c9cf%22%2C%20%22shape_array_key_right%22%3A%20%2221aedea4c0d05c570e042903cc62c9cf%22%2C%20%22stop_id%22%3A%20%2287501%22%2C%20%22stop_sequence%22%3A%20120%2C%20%22trip_id%22%3A%20%22t120-sl9-p84-r1A%22%7D%2C%20%22type%22%3A%20%22Feature%22%7D%2C%20%7B%22bbox%22%3A%20%5B-122.63108%2C%2038.25222399999997%2C%20-122.63108%2C%2038.25222399999997%5D%2C%20%22geometry%22%3A%20%7B%22coordinates%22%3A%20%5B-122.63108%2C%2038.25222399999997%5D%2C%20%22type%22%3A%20%22Point%22%7D%2C%20%22id%22%3A%20%2225%22%2C%20%22properties%22%3A%20%7B%22__folium_color%22%3A%20%22orange%22%2C%20%22district%22%3A%204%2C%20%22district_name%22%3A%20%22District%204%20-%20Oakland%22%2C%20%22feed_key_left%22%3A%20%22540e857d28ffdc628260ca22a21cb330%22%2C%20%22feed_key_right%22%3A%20%22540e857d28ffdc628260ca22a21cb330%22%2C%20%22gtfs_dataset_key_left%22%3A%20%22bc21582ac1ad2b7de0647dfd5b76f67c%22%2C%20%22gtfs_dataset_key_right%22%3A%20%22bc21582ac1ad2b7de0647dfd5b76f67c%22%2C%20%22index_right%22%3A%2020084%2C%20%22loop_or_inlining%22%3A%200%2C%20%22seg_idx%22%3A%2020124%2C%20%22shape_array_key_left%22%3A%20%2221aedea4c0d05c570e042903cc62c9cf%22%2C%20%22shape_array_key_right%22%3A%20%2221aedea4c0d05c570e042903cc62c9cf%22%2C%20%22stop_id%22%3A%20%2287501%22%2C%20%22stop_sequence%22%3A%20120%2C%20%22trip_id%22%3A%20%22t120-sl9-p84-r1A%22%7D%2C%20%22type%22%3A%20%22Feature%22%7D%2C%20%7B%22bbox%22%3A%20%5B-122.62174000000002%2C%2038.248139999999964%2C%20-122.62174000000002%2C%2038.248139999999964%5D%2C%20%22geometry%22%3A%20%7B%22coordinates%22%3A%20%5B-122.62174000000002%2C%2038.248139999999964%5D%2C%20%22type%22%3A%20%22Point%22%7D%2C%20%22id%22%3A%20%2226%22%2C%20%22properties%22%3A%20%7B%22__folium_color%22%3A%20%22orange%22%2C%20%22district%22%3A%204%2C%20%22district_name%22%3A%20%22District%204%20-%20Oakland%22%2C%20%22feed_key_left%22%3A%20%22540e857d28ffdc628260ca22a21cb330%22%2C%20%22feed_key_right%22%3A%20%22540e857d28ffdc628260ca22a21cb330%22%2C%20%22gtfs_dataset_key_left%22%3A%20%22bc21582ac1ad2b7de0647dfd5b76f67c%22%2C%20%22gtfs_dataset_key_right%22%3A%20%22bc21582ac1ad2b7de0647dfd5b76f67c%22%2C%20%22index_right%22%3A%2020082%2C%20%22loop_or_inlining%22%3A%200%2C%20%22seg_idx%22%3A%2020122%2C%20%22shape_array_key_left%22%3A%20%2221aedea4c0d05c570e042903cc62c9cf%22%2C%20%22shape_array_key_right%22%3A%20%2221aedea4c0d05c570e042903cc62c9cf%22%2C%20%22stop_id%22%3A%20%2287202%22%2C%20%22stop_sequence%22%3A%200%2C%20%22trip_id%22%3A%20%22t120-sl9-p84-r1A%22%7D%2C%20%22type%22%3A%20%22Feature%22%7D%2C%20%7B%22bbox%22%3A%20%5B-122.62175%2C%2038.24813999999994%2C%20-122.62175%2C%2038.24813999999994%5D%2C%20%22geometry%22%3A%20%7B%22coordinates%22%3A%20%5B-122.62175%2C%2038.24813999999994%5D%2C%20%22type%22%3A%20%22Point%22%7D%2C%20%22id%22%3A%20%2227%22%2C%20%22properties%22%3A%20%7B%22__folium_color%22%3A%20%22orange%22%2C%20%22district%22%3A%204%2C%20%22district_name%22%3A%20%22District%204%20-%20Oakland%22%2C%20%22feed_key_left%22%3A%20%22540e857d28ffdc628260ca22a21cb330%22%2C%20%22feed_key_right%22%3A%20%22540e857d28ffdc628260ca22a21cb330%22%2C%20%22gtfs_dataset_key_left%22%3A%20%22bc21582ac1ad2b7de0647dfd5b76f67c%22%2C%20%22gtfs_dataset_key_right%22%3A%20%22bc21582ac1ad2b7de0647dfd5b76f67c%22%2C%20%22index_right%22%3A%2020082%2C%20%22loop_or_inlining%22%3A%200%2C%20%22seg_idx%22%3A%2020122%2C%20%22shape_array_key_left%22%3A%20%2221aedea4c0d05c570e042903cc62c9cf%22%2C%20%22shape_array_key_right%22%3A%20%2221aedea4c0d05c570e042903cc62c9cf%22%2C%20%22stop_id%22%3A%20%2287202%22%2C%20%22stop_sequence%22%3A%200%2C%20%22trip_id%22%3A%20%22t120-sl9-p84-r1A%22%7D%2C%20%22type%22%3A%20%22Feature%22%7D%2C%20%7B%22bbox%22%3A%20%5B-122.62174000000002%2C%2038.248120000000014%2C%20-122.62174000000002%2C%2038.248120000000014%5D%2C%20%22geometry%22%3A%20%7B%22coordinates%22%3A%20%5B-122.62174000000002%2C%2038.248120000000014%5D%2C%20%22type%22%3A%20%22Point%22%7D%2C%20%22id%22%3A%20%2228%22%2C%20%22properties%22%3A%20%7B%22__folium_color%22%3A%20%22orange%22%2C%20%22district%22%3A%204%2C%20%22district_name%22%3A%20%22District%204%20-%20Oakland%22%2C%20%22feed_key_left%22%3A%20%22540e857d28ffdc628260ca22a21cb330%22%2C%20%22feed_key_right%22%3A%20%22540e857d28ffdc628260ca22a21cb330%22%2C%20%22gtfs_dataset_key_left%22%3A%20%22bc21582ac1ad2b7de0647dfd5b76f67c%22%2C%20%22gtfs_dataset_key_right%22%3A%20%22bc21582ac1ad2b7de0647dfd5b76f67c%22%2C%20%22index_right%22%3A%2020082%2C%20%22loop_or_inlining%22%3A%200%2C%20%22seg_idx%22%3A%2020122%2C%20%22shape_array_key_left%22%3A%20%2221aedea4c0d05c570e042903cc62c9cf%22%2C%20%22shape_array_key_right%22%3A%20%2221aedea4c0d05c570e042903cc62c9cf%22%2C%20%22stop_id%22%3A%20%2287202%22%2C%20%22stop_sequence%22%3A%200%2C%20%22trip_id%22%3A%20%22t120-sl9-p84-r1A%22%7D%2C%20%22type%22%3A%20%22Feature%22%7D%2C%20%7B%22bbox%22%3A%20%5B-122.62176%2C%2038.248135%2C%20-122.62176%2C%2038.248135%5D%2C%20%22geometry%22%3A%20%7B%22coordinates%22%3A%20%5B-122.62176%2C%2038.248135%5D%2C%20%22type%22%3A%20%22Point%22%7D%2C%20%22id%22%3A%20%2229%22%2C%20%22properties%22%3A%20%7B%22__folium_color%22%3A%20%22orange%22%2C%20%22district%22%3A%204%2C%20%22district_name%22%3A%20%22District%204%20-%20Oakland%22%2C%20%22feed_key_left%22%3A%20%22540e857d28ffdc628260ca22a21cb330%22%2C%20%22feed_key_right%22%3A%20%22540e857d28ffdc628260ca22a21cb330%22%2C%20%22gtfs_dataset_key_left%22%3A%20%22bc21582ac1ad2b7de0647dfd5b76f67c%22%2C%20%22gtfs_dataset_key_right%22%3A%20%22bc21582ac1ad2b7de0647dfd5b76f67c%22%2C%20%22index_right%22%3A%2020082%2C%20%22loop_or_inlining%22%3A%200%2C%20%22seg_idx%22%3A%2020122%2C%20%22shape_array_key_left%22%3A%20%2221aedea4c0d05c570e042903cc62c9cf%22%2C%20%22shape_array_key_right%22%3A%20%2221aedea4c0d05c570e042903cc62c9cf%22%2C%20%22stop_id%22%3A%20%2287202%22%2C%20%22stop_sequence%22%3A%200%2C%20%22trip_id%22%3A%20%22t120-sl9-p84-r1A%22%7D%2C%20%22type%22%3A%20%22Feature%22%7D%2C%20%7B%22bbox%22%3A%20%5B-122.62175%2C%2038.24813500000001%2C%20-122.62175%2C%2038.24813500000001%5D%2C%20%22geometry%22%3A%20%7B%22coordinates%22%3A%20%5B-122.62175%2C%2038.24813500000001%5D%2C%20%22type%22%3A%20%22Point%22%7D%2C%20%22id%22%3A%20%2230%22%2C%20%22properties%22%3A%20%7B%22__folium_color%22%3A%20%22orange%22%2C%20%22district%22%3A%204%2C%20%22district_name%22%3A%20%22District%204%20-%20Oakland%22%2C%20%22feed_key_left%22%3A%20%22540e857d28ffdc628260ca22a21cb330%22%2C%20%22feed_key_right%22%3A%20%22540e857d28ffdc628260ca22a21cb330%22%2C%20%22gtfs_dataset_key_left%22%3A%20%22bc21582ac1ad2b7de0647dfd5b76f67c%22%2C%20%22gtfs_dataset_key_right%22%3A%20%22bc21582ac1ad2b7de0647dfd5b76f67c%22%2C%20%22index_right%22%3A%2020082%2C%20%22loop_or_inlining%22%3A%200%2C%20%22seg_idx%22%3A%2020122%2C%20%22shape_array_key_left%22%3A%20%2221aedea4c0d05c570e042903cc62c9cf%22%2C%20%22shape_array_key_right%22%3A%20%2221aedea4c0d05c570e042903cc62c9cf%22%2C%20%22stop_id%22%3A%20%2287202%22%2C%20%22stop_sequence%22%3A%200%2C%20%22trip_id%22%3A%20%22t120-sl9-p84-r1A%22%7D%2C%20%22type%22%3A%20%22Feature%22%7D%2C%20%7B%22bbox%22%3A%20%5B-122.62176%2C%2038.248139999999964%2C%20-122.62176%2C%2038.248139999999964%5D%2C%20%22geometry%22%3A%20%7B%22coordinates%22%3A%20%5B-122.62176%2C%2038.248139999999964%5D%2C%20%22type%22%3A%20%22Point%22%7D%2C%20%22id%22%3A%20%2231%22%2C%20%22properties%22%3A%20%7B%22__folium_color%22%3A%20%22orange%22%2C%20%22district%22%3A%204%2C%20%22district_name%22%3A%20%22District%204%20-%20Oakland%22%2C%20%22feed_key_left%22%3A%20%22540e857d28ffdc628260ca22a21cb330%22%2C%20%22feed_key_right%22%3A%20%22540e857d28ffdc628260ca22a21cb330%22%2C%20%22gtfs_dataset_key_left%22%3A%20%22bc21582ac1ad2b7de0647dfd5b76f67c%22%2C%20%22gtfs_dataset_key_right%22%3A%20%22bc21582ac1ad2b7de0647dfd5b76f67c%22%2C%20%22index_right%22%3A%2020082%2C%20%22loop_or_inlining%22%3A%200%2C%20%22seg_idx%22%3A%2020122%2C%20%22shape_array_key_left%22%3A%20%2221aedea4c0d05c570e042903cc62c9cf%22%2C%20%22shape_array_key_right%22%3A%20%2221aedea4c0d05c570e042903cc62c9cf%22%2C%20%22stop_id%22%3A%20%2287202%22%2C%20%22stop_sequence%22%3A%200%2C%20%22trip_id%22%3A%20%22t120-sl9-p84-r1A%22%7D%2C%20%22type%22%3A%20%22Feature%22%7D%2C%20%7B%22bbox%22%3A%20%5B-122.62176%2C%2038.24813%2C%20-122.62176%2C%2038.24813%5D%2C%20%22geometry%22%3A%20%7B%22coordinates%22%3A%20%5B-122.62176%2C%2038.24813%5D%2C%20%22type%22%3A%20%22Point%22%7D%2C%20%22id%22%3A%20%2232%22%2C%20%22properties%22%3A%20%7B%22__folium_color%22%3A%20%22orange%22%2C%20%22district%22%3A%204%2C%20%22district_name%22%3A%20%22District%204%20-%20Oakland%22%2C%20%22feed_key_left%22%3A%20%22540e857d28ffdc628260ca22a21cb330%22%2C%20%22feed_key_right%22%3A%20%22540e857d28ffdc628260ca22a21cb330%22%2C%20%22gtfs_dataset_key_left%22%3A%20%22bc21582ac1ad2b7de0647dfd5b76f67c%22%2C%20%22gtfs_dataset_key_right%22%3A%20%22bc21582ac1ad2b7de0647dfd5b76f67c%22%2C%20%22index_right%22%3A%2020082%2C%20%22loop_or_inlining%22%3A%200%2C%20%22seg_idx%22%3A%2020122%2C%20%22shape_array_key_left%22%3A%20%2221aedea4c0d05c570e042903cc62c9cf%22%2C%20%22shape_array_key_right%22%3A%20%2221aedea4c0d05c570e042903cc62c9cf%22%2C%20%22stop_id%22%3A%20%2287202%22%2C%20%22stop_sequence%22%3A%200%2C%20%22trip_id%22%3A%20%22t120-sl9-p84-r1A%22%7D%2C%20%22type%22%3A%20%22Feature%22%7D%2C%20%7B%22bbox%22%3A%20%5B-122.62174000000002%2C%2038.248122999999985%2C%20-122.62174000000002%2C%2038.248122999999985%5D%2C%20%22geometry%22%3A%20%7B%22coordinates%22%3A%20%5B-122.62174000000002%2C%2038.248122999999985%5D%2C%20%22type%22%3A%20%22Point%22%7D%2C%20%22id%22%3A%20%2233%22%2C%20%22properties%22%3A%20%7B%22__folium_color%22%3A%20%22orange%22%2C%20%22district%22%3A%204%2C%20%22district_name%22%3A%20%22District%204%20-%20Oakland%22%2C%20%22feed_key_left%22%3A%20%22540e857d28ffdc628260ca22a21cb330%22%2C%20%22feed_key_right%22%3A%20%22540e857d28ffdc628260ca22a21cb330%22%2C%20%22gtfs_dataset_key_left%22%3A%20%22bc21582ac1ad2b7de0647dfd5b76f67c%22%2C%20%22gtfs_dataset_key_right%22%3A%20%22bc21582ac1ad2b7de0647dfd5b76f67c%22%2C%20%22index_right%22%3A%2020082%2C%20%22loop_or_inlining%22%3A%200%2C%20%22seg_idx%22%3A%2020122%2C%20%22shape_array_key_left%22%3A%20%2221aedea4c0d05c570e042903cc62c9cf%22%2C%20%22shape_array_key_right%22%3A%20%2221aedea4c0d05c570e042903cc62c9cf%22%2C%20%22stop_id%22%3A%20%2287202%22%2C%20%22stop_sequence%22%3A%200%2C%20%22trip_id%22%3A%20%22t120-sl9-p84-r1A%22%7D%2C%20%22type%22%3A%20%22Feature%22%7D%2C%20%7B%22bbox%22%3A%20%5B-122.62174000000002%2C%2038.248139999999964%2C%20-122.62174000000002%2C%2038.248139999999964%5D%2C%20%22geometry%22%3A%20%7B%22coordinates%22%3A%20%5B-122.62174000000002%2C%2038.248139999999964%5D%2C%20%22type%22%3A%20%22Point%22%7D%2C%20%22id%22%3A%20%2234%22%2C%20%22properties%22%3A%20%7B%22__folium_color%22%3A%20%22orange%22%2C%20%22district%22%3A%204%2C%20%22district_name%22%3A%20%22District%204%20-%20Oakland%22%2C%20%22feed_key_left%22%3A%20%22540e857d28ffdc628260ca22a21cb330%22%2C%20%22feed_key_right%22%3A%20%22540e857d28ffdc628260ca22a21cb330%22%2C%20%22gtfs_dataset_key_left%22%3A%20%22bc21582ac1ad2b7de0647dfd5b76f67c%22%2C%20%22gtfs_dataset_key_right%22%3A%20%22bc21582ac1ad2b7de0647dfd5b76f67c%22%2C%20%22index_right%22%3A%2020083%2C%20%22loop_or_inlining%22%3A%200%2C%20%22seg_idx%22%3A%2020123%2C%20%22shape_array_key_left%22%3A%20%2221aedea4c0d05c570e042903cc62c9cf%22%2C%20%22shape_array_key_right%22%3A%20%2221aedea4c0d05c570e042903cc62c9cf%22%2C%20%22stop_id%22%3A%20%2287500%22%2C%20%22stop_sequence%22%3A%20105%2C%20%22trip_id%22%3A%20%22t120-sl9-p84-r1A%22%7D%2C%20%22type%22%3A%20%22Feature%22%7D%2C%20%7B%22bbox%22%3A%20%5B-122.62175%2C%2038.24813999999994%2C%20-122.62175%2C%2038.24813999999994%5D%2C%20%22geometry%22%3A%20%7B%22coordinates%22%3A%20%5B-122.62175%2C%2038.24813999999994%5D%2C%20%22type%22%3A%20%22Point%22%7D%2C%20%22id%22%3A%20%2235%22%2C%20%22properties%22%3A%20%7B%22__folium_color%22%3A%20%22orange%22%2C%20%22district%22%3A%204%2C%20%22district_name%22%3A%20%22District%204%20-%20Oakland%22%2C%20%22feed_key_left%22%3A%20%22540e857d28ffdc628260ca22a21cb330%22%2C%20%22feed_key_right%22%3A%20%22540e857d28ffdc628260ca22a21cb330%22%2C%20%22gtfs_dataset_key_left%22%3A%20%22bc21582ac1ad2b7de0647dfd5b76f67c%22%2C%20%22gtfs_dataset_key_right%22%3A%20%22bc21582ac1ad2b7de0647dfd5b76f67c%22%2C%20%22index_right%22%3A%2020083%2C%20%22loop_or_inlining%22%3A%200%2C%20%22seg_idx%22%3A%2020123%2C%20%22shape_array_key_left%22%3A%20%2221aedea4c0d05c570e042903cc62c9cf%22%2C%20%22shape_array_key_right%22%3A%20%2221aedea4c0d05c570e042903cc62c9cf%22%2C%20%22stop_id%22%3A%20%2287500%22%2C%20%22stop_sequence%22%3A%20105%2C%20%22trip_id%22%3A%20%22t120-sl9-p84-r1A%22%7D%2C%20%22type%22%3A%20%22Feature%22%7D%2C%20%7B%22bbox%22%3A%20%5B-122.62206%2C%2038.247770000000024%2C%20-122.62206%2C%2038.247770000000024%5D%2C%20%22geometry%22%3A%20%7B%22coordinates%22%3A%20%5B-122.62206%2C%2038.247770000000024%5D%2C%20%22type%22%3A%20%22Point%22%7D%2C%20%22id%22%3A%20%2236%22%2C%20%22properties%22%3A%20%7B%22__folium_color%22%3A%20%22orange%22%2C%20%22district%22%3A%204%2C%20%22district_name%22%3A%20%22District%204%20-%20Oakland%22%2C%20%22feed_key_left%22%3A%20%22540e857d28ffdc628260ca22a21cb330%22%2C%20%22feed_key_right%22%3A%20%22540e857d28ffdc628260ca22a21cb330%22%2C%20%22gtfs_dataset_key_left%22%3A%20%22bc21582ac1ad2b7de0647dfd5b76f67c%22%2C%20%22gtfs_dataset_key_right%22%3A%20%22bc21582ac1ad2b7de0647dfd5b76f67c%22%2C%20%22index_right%22%3A%2020083%2C%20%22loop_or_inlining%22%3A%200%2C%20%22seg_idx%22%3A%2020123%2C%20%22shape_array_key_left%22%3A%20%2221aedea4c0d05c570e042903cc62c9cf%22%2C%20%22shape_array_key_right%22%3A%20%2221aedea4c0d05c570e042903cc62c9cf%22%2C%20%22stop_id%22%3A%20%2287500%22%2C%20%22stop_sequence%22%3A%20105%2C%20%22trip_id%22%3A%20%22t120-sl9-p84-r1A%22%7D%2C%20%22type%22%3A%20%22Feature%22%7D%2C%20%7B%22bbox%22%3A%20%5B-122.62174000000002%2C%2038.248120000000014%2C%20-122.62174000000002%2C%2038.248120000000014%5D%2C%20%22geometry%22%3A%20%7B%22coordinates%22%3A%20%5B-122.62174000000002%2C%2038.248120000000014%5D%2C%20%22type%22%3A%20%22Point%22%7D%2C%20%22id%22%3A%20%2237%22%2C%20%22properties%22%3A%20%7B%22__folium_color%22%3A%20%22orange%22%2C%20%22district%22%3A%204%2C%20%22district_name%22%3A%20%22District%204%20-%20Oakland%22%2C%20%22feed_key_left%22%3A%20%22540e857d28ffdc628260ca22a21cb330%22%2C%20%22feed_key_right%22%3A%20%22540e857d28ffdc628260ca22a21cb330%22%2C%20%22gtfs_dataset_key_left%22%3A%20%22bc21582ac1ad2b7de0647dfd5b76f67c%22%2C%20%22gtfs_dataset_key_right%22%3A%20%22bc21582ac1ad2b7de0647dfd5b76f67c%22%2C%20%22index_right%22%3A%2020083%2C%20%22loop_or_inlining%22%3A%200%2C%20%22seg_idx%22%3A%2020123%2C%20%22shape_array_key_left%22%3A%20%2221aedea4c0d05c570e042903cc62c9cf%22%2C%20%22shape_array_key_right%22%3A%20%2221aedea4c0d05c570e042903cc62c9cf%22%2C%20%22stop_id%22%3A%20%2287500%22%2C%20%22stop_sequence%22%3A%20105%2C%20%22trip_id%22%3A%20%22t120-sl9-p84-r1A%22%7D%2C%20%22type%22%3A%20%22Feature%22%7D%2C%20%7B%22bbox%22%3A%20%5B-122.62176%2C%2038.248135%2C%20-122.62176%2C%2038.248135%5D%2C%20%22geometry%22%3A%20%7B%22coordinates%22%3A%20%5B-122.62176%2C%2038.248135%5D%2C%20%22type%22%3A%20%22Point%22%7D%2C%20%22id%22%3A%20%2238%22%2C%20%22properties%22%3A%20%7B%22__folium_color%22%3A%20%22orange%22%2C%20%22district%22%3A%204%2C%20%22district_name%22%3A%20%22District%204%20-%20Oakland%22%2C%20%22feed_key_left%22%3A%20%22540e857d28ffdc628260ca22a21cb330%22%2C%20%22feed_key_right%22%3A%20%22540e857d28ffdc628260ca22a21cb330%22%2C%20%22gtfs_dataset_key_left%22%3A%20%22bc21582ac1ad2b7de0647dfd5b76f67c%22%2C%20%22gtfs_dataset_key_right%22%3A%20%22bc21582ac1ad2b7de0647dfd5b76f67c%22%2C%20%22index_right%22%3A%2020083%2C%20%22loop_or_inlining%22%3A%200%2C%20%22seg_idx%22%3A%2020123%2C%20%22shape_array_key_left%22%3A%20%2221aedea4c0d05c570e042903cc62c9cf%22%2C%20%22shape_array_key_right%22%3A%20%2221aedea4c0d05c570e042903cc62c9cf%22%2C%20%22stop_id%22%3A%20%2287500%22%2C%20%22stop_sequence%22%3A%20105%2C%20%22trip_id%22%3A%20%22t120-sl9-p84-r1A%22%7D%2C%20%22type%22%3A%20%22Feature%22%7D%2C%20%7B%22bbox%22%3A%20%5B-122.62175%2C%2038.24813500000001%2C%20-122.62175%2C%2038.24813500000001%5D%2C%20%22geometry%22%3A%20%7B%22coordinates%22%3A%20%5B-122.62175%2C%2038.24813500000001%5D%2C%20%22type%22%3A%20%22Point%22%7D%2C%20%22id%22%3A%20%2239%22%2C%20%22properties%22%3A%20%7B%22__folium_color%22%3A%20%22orange%22%2C%20%22district%22%3A%204%2C%20%22district_name%22%3A%20%22District%204%20-%20Oakland%22%2C%20%22feed_key_left%22%3A%20%22540e857d28ffdc628260ca22a21cb330%22%2C%20%22feed_key_right%22%3A%20%22540e857d28ffdc628260ca22a21cb330%22%2C%20%22gtfs_dataset_key_left%22%3A%20%22bc21582ac1ad2b7de0647dfd5b76f67c%22%2C%20%22gtfs_dataset_key_right%22%3A%20%22bc21582ac1ad2b7de0647dfd5b76f67c%22%2C%20%22index_right%22%3A%2020083%2C%20%22loop_or_inlining%22%3A%200%2C%20%22seg_idx%22%3A%2020123%2C%20%22shape_array_key_left%22%3A%20%2221aedea4c0d05c570e042903cc62c9cf%22%2C%20%22shape_array_key_right%22%3A%20%2221aedea4c0d05c570e042903cc62c9cf%22%2C%20%22stop_id%22%3A%20%2287500%22%2C%20%22stop_sequence%22%3A%20105%2C%20%22trip_id%22%3A%20%22t120-sl9-p84-r1A%22%7D%2C%20%22type%22%3A%20%22Feature%22%7D%2C%20%7B%22bbox%22%3A%20%5B-122.62401600000001%2C%2038.24820299999998%2C%20-122.62401600000001%2C%2038.24820299999998%5D%2C%20%22geometry%22%3A%20%7B%22coordinates%22%3A%20%5B-122.62401600000001%2C%2038.24820299999998%5D%2C%20%22type%22%3A%20%22Point%22%7D%2C%20%22id%22%3A%20%2240%22%2C%20%22properties%22%3A%20%7B%22__folium_color%22%3A%20%22orange%22%2C%20%22district%22%3A%204%2C%20%22district_name%22%3A%20%22District%204%20-%20Oakland%22%2C%20%22feed_key_left%22%3A%20%22540e857d28ffdc628260ca22a21cb330%22%2C%20%22feed_key_right%22%3A%20%22540e857d28ffdc628260ca22a21cb330%22%2C%20%22gtfs_dataset_key_left%22%3A%20%22bc21582ac1ad2b7de0647dfd5b76f67c%22%2C%20%22gtfs_dataset_key_right%22%3A%20%22bc21582ac1ad2b7de0647dfd5b76f67c%22%2C%20%22index_right%22%3A%2020083%2C%20%22loop_or_inlining%22%3A%200%2C%20%22seg_idx%22%3A%2020123%2C%20%22shape_array_key_left%22%3A%20%2221aedea4c0d05c570e042903cc62c9cf%22%2C%20%22shape_array_key_right%22%3A%20%2221aedea4c0d05c570e042903cc62c9cf%22%2C%20%22stop_id%22%3A%20%2287500%22%2C%20%22stop_sequence%22%3A%20105%2C%20%22trip_id%22%3A%20%22t120-sl9-p84-r1A%22%7D%2C%20%22type%22%3A%20%22Feature%22%7D%2C%20%7B%22bbox%22%3A%20%5B-122.63108%2C%2038.25222399999997%2C%20-122.63108%2C%2038.25222399999997%5D%2C%20%22geometry%22%3A%20%7B%22coordinates%22%3A%20%5B-122.63108%2C%2038.25222399999997%5D%2C%20%22type%22%3A%20%22Point%22%7D%2C%20%22id%22%3A%20%2241%22%2C%20%22properties%22%3A%20%7B%22__folium_color%22%3A%20%22orange%22%2C%20%22district%22%3A%204%2C%20%22district_name%22%3A%20%22District%204%20-%20Oakland%22%2C%20%22feed_key_left%22%3A%20%22540e857d28ffdc628260ca22a21cb330%22%2C%20%22feed_key_right%22%3A%20%22540e857d28ffdc628260ca22a21cb330%22%2C%20%22gtfs_dataset_key_left%22%3A%20%22bc21582ac1ad2b7de0647dfd5b76f67c%22%2C%20%22gtfs_dataset_key_right%22%3A%20%22bc21582ac1ad2b7de0647dfd5b76f67c%22%2C%20%22index_right%22%3A%2020083%2C%20%22loop_or_inlining%22%3A%200%2C%20%22seg_idx%22%3A%2020123%2C%20%22shape_array_key_left%22%3A%20%2221aedea4c0d05c570e042903cc62c9cf%22%2C%20%22shape_array_key_right%22%3A%20%2221aedea4c0d05c570e042903cc62c9cf%22%2C%20%22stop_id%22%3A%20%2287500%22%2C%20%22stop_sequence%22%3A%20105%2C%20%22trip_id%22%3A%20%22t120-sl9-p84-r1A%22%7D%2C%20%22type%22%3A%20%22Feature%22%7D%2C%20%7B%22bbox%22%3A%20%5B-122.62176%2C%2038.248139999999964%2C%20-122.62176%2C%2038.248139999999964%5D%2C%20%22geometry%22%3A%20%7B%22coordinates%22%3A%20%5B-122.62176%2C%2038.248139999999964%5D%2C%20%22type%22%3A%20%22Point%22%7D%2C%20%22id%22%3A%20%2242%22%2C%20%22properties%22%3A%20%7B%22__folium_color%22%3A%20%22orange%22%2C%20%22district%22%3A%204%2C%20%22district_name%22%3A%20%22District%204%20-%20Oakland%22%2C%20%22feed_key_left%22%3A%20%22540e857d28ffdc628260ca22a21cb330%22%2C%20%22feed_key_right%22%3A%20%22540e857d28ffdc628260ca22a21cb330%22%2C%20%22gtfs_dataset_key_left%22%3A%20%22bc21582ac1ad2b7de0647dfd5b76f67c%22%2C%20%22gtfs_dataset_key_right%22%3A%20%22bc21582ac1ad2b7de0647dfd5b76f67c%22%2C%20%22index_right%22%3A%2020083%2C%20%22loop_or_inlining%22%3A%200%2C%20%22seg_idx%22%3A%2020123%2C%20%22shape_array_key_left%22%3A%20%2221aedea4c0d05c570e042903cc62c9cf%22%2C%20%22shape_array_key_right%22%3A%20%2221aedea4c0d05c570e042903cc62c9cf%22%2C%20%22stop_id%22%3A%20%2287500%22%2C%20%22stop_sequence%22%3A%20105%2C%20%22trip_id%22%3A%20%22t120-sl9-p84-r1A%22%7D%2C%20%22type%22%3A%20%22Feature%22%7D%2C%20%7B%22bbox%22%3A%20%5B-122.62176%2C%2038.24813%2C%20-122.62176%2C%2038.24813%5D%2C%20%22geometry%22%3A%20%7B%22coordinates%22%3A%20%5B-122.62176%2C%2038.24813%5D%2C%20%22type%22%3A%20%22Point%22%7D%2C%20%22id%22%3A%20%2243%22%2C%20%22properties%22%3A%20%7B%22__folium_color%22%3A%20%22orange%22%2C%20%22district%22%3A%204%2C%20%22district_name%22%3A%20%22District%204%20-%20Oakland%22%2C%20%22feed_key_left%22%3A%20%22540e857d28ffdc628260ca22a21cb330%22%2C%20%22feed_key_right%22%3A%20%22540e857d28ffdc628260ca22a21cb330%22%2C%20%22gtfs_dataset_key_left%22%3A%20%22bc21582ac1ad2b7de0647dfd5b76f67c%22%2C%20%22gtfs_dataset_key_right%22%3A%20%22bc21582ac1ad2b7de0647dfd5b76f67c%22%2C%20%22index_right%22%3A%2020083%2C%20%22loop_or_inlining%22%3A%200%2C%20%22seg_idx%22%3A%2020123%2C%20%22shape_array_key_left%22%3A%20%2221aedea4c0d05c570e042903cc62c9cf%22%2C%20%22shape_array_key_right%22%3A%20%2221aedea4c0d05c570e042903cc62c9cf%22%2C%20%22stop_id%22%3A%20%2287500%22%2C%20%22stop_sequence%22%3A%20105%2C%20%22trip_id%22%3A%20%22t120-sl9-p84-r1A%22%7D%2C%20%22type%22%3A%20%22Feature%22%7D%2C%20%7B%22bbox%22%3A%20%5B-122.628525%2C%2038.25071299999999%2C%20-122.628525%2C%2038.25071299999999%5D%2C%20%22geometry%22%3A%20%7B%22coordinates%22%3A%20%5B-122.628525%2C%2038.25071299999999%5D%2C%20%22type%22%3A%20%22Point%22%7D%2C%20%22id%22%3A%20%2244%22%2C%20%22properties%22%3A%20%7B%22__folium_color%22%3A%20%22orange%22%2C%20%22district%22%3A%204%2C%20%22district_name%22%3A%20%22District%204%20-%20Oakland%22%2C%20%22feed_key_left%22%3A%20%22540e857d28ffdc628260ca22a21cb330%22%2C%20%22feed_key_right%22%3A%20%22540e857d28ffdc628260ca22a21cb330%22%2C%20%22gtfs_dataset_key_left%22%3A%20%22bc21582ac1ad2b7de0647dfd5b76f67c%22%2C%20%22gtfs_dataset_key_right%22%3A%20%22bc21582ac1ad2b7de0647dfd5b76f67c%22%2C%20%22index_right%22%3A%2020083%2C%20%22loop_or_inlining%22%3A%200%2C%20%22seg_idx%22%3A%2020123%2C%20%22shape_array_key_left%22%3A%20%2221aedea4c0d05c570e042903cc62c9cf%22%2C%20%22shape_array_key_right%22%3A%20%2221aedea4c0d05c570e042903cc62c9cf%22%2C%20%22stop_id%22%3A%20%2287500%22%2C%20%22stop_sequence%22%3A%20105%2C%20%22trip_id%22%3A%20%22t120-sl9-p84-r1A%22%7D%2C%20%22type%22%3A%20%22Feature%22%7D%2C%20%7B%22bbox%22%3A%20%5B-122.62174000000002%2C%2038.248122999999985%2C%20-122.62174000000002%2C%2038.248122999999985%5D%2C%20%22geometry%22%3A%20%7B%22coordinates%22%3A%20%5B-122.62174000000002%2C%2038.248122999999985%5D%2C%20%22type%22%3A%20%22Point%22%7D%2C%20%22id%22%3A%20%2245%22%2C%20%22properties%22%3A%20%7B%22__folium_color%22%3A%20%22orange%22%2C%20%22district%22%3A%204%2C%20%22district_name%22%3A%20%22District%204%20-%20Oakland%22%2C%20%22feed_key_left%22%3A%20%22540e857d28ffdc628260ca22a21cb330%22%2C%20%22feed_key_right%22%3A%20%22540e857d28ffdc628260ca22a21cb330%22%2C%20%22gtfs_dataset_key_left%22%3A%20%22bc21582ac1ad2b7de0647dfd5b76f67c%22%2C%20%22gtfs_dataset_key_right%22%3A%20%22bc21582ac1ad2b7de0647dfd5b76f67c%22%2C%20%22index_right%22%3A%2020083%2C%20%22loop_or_inlining%22%3A%200%2C%20%22seg_idx%22%3A%2020123%2C%20%22shape_array_key_left%22%3A%20%2221aedea4c0d05c570e042903cc62c9cf%22%2C%20%22shape_array_key_right%22%3A%20%2221aedea4c0d05c570e042903cc62c9cf%22%2C%20%22stop_id%22%3A%20%2287500%22%2C%20%22stop_sequence%22%3A%20105%2C%20%22trip_id%22%3A%20%22t120-sl9-p84-r1A%22%7D%2C%20%22type%22%3A%20%22Feature%22%7D%2C%20%7B%22bbox%22%3A%20%5B-122.63041%2C%2038.251811999999994%2C%20-122.63041%2C%2038.251811999999994%5D%2C%20%22geometry%22%3A%20%7B%22coordinates%22%3A%20%5B-122.63041%2C%2038.251811999999994%5D%2C%20%22type%22%3A%20%22Point%22%7D%2C%20%22id%22%3A%20%2246%22%2C%20%22properties%22%3A%20%7B%22__folium_color%22%3A%20%22orange%22%2C%20%22district%22%3A%204%2C%20%22district_name%22%3A%20%22District%204%20-%20Oakland%22%2C%20%22feed_key_left%22%3A%20%22540e857d28ffdc628260ca22a21cb330%22%2C%20%22feed_key_right%22%3A%20%22540e857d28ffdc628260ca22a21cb330%22%2C%20%22gtfs_dataset_key_left%22%3A%20%22bc21582ac1ad2b7de0647dfd5b76f67c%22%2C%20%22gtfs_dataset_key_right%22%3A%20%22bc21582ac1ad2b7de0647dfd5b76f67c%22%2C%20%22index_right%22%3A%2020083%2C%20%22loop_or_inlining%22%3A%200%2C%20%22seg_idx%22%3A%2020123%2C%20%22shape_array_key_left%22%3A%20%2221aedea4c0d05c570e042903cc62c9cf%22%2C%20%22shape_array_key_right%22%3A%20%2221aedea4c0d05c570e042903cc62c9cf%22%2C%20%22stop_id%22%3A%20%2287500%22%2C%20%22stop_sequence%22%3A%20105%2C%20%22trip_id%22%3A%20%22t120-sl9-p84-r1A%22%7D%2C%20%22type%22%3A%20%22Feature%22%7D%2C%20%7B%22bbox%22%3A%20%5B-122.628975%2C%2038.250957000000014%2C%20-122.628975%2C%2038.250957000000014%5D%2C%20%22geometry%22%3A%20%7B%22coordinates%22%3A%20%5B-122.628975%2C%2038.250957000000014%5D%2C%20%22type%22%3A%20%22Point%22%7D%2C%20%22id%22%3A%20%2247%22%2C%20%22properties%22%3A%20%7B%22__folium_color%22%3A%20%22orange%22%2C%20%22district%22%3A%204%2C%20%22district_name%22%3A%20%22District%204%20-%20Oakland%22%2C%20%22feed_key_left%22%3A%20%22540e857d28ffdc628260ca22a21cb330%22%2C%20%22feed_key_right%22%3A%20%22540e857d28ffdc628260ca22a21cb330%22%2C%20%22gtfs_dataset_key_left%22%3A%20%22bc21582ac1ad2b7de0647dfd5b76f67c%22%2C%20%22gtfs_dataset_key_right%22%3A%20%22bc21582ac1ad2b7de0647dfd5b76f67c%22%2C%20%22index_right%22%3A%2020083%2C%20%22loop_or_inlining%22%3A%200%2C%20%22seg_idx%22%3A%2020123%2C%20%22shape_array_key_left%22%3A%20%2221aedea4c0d05c570e042903cc62c9cf%22%2C%20%22shape_array_key_right%22%3A%20%2221aedea4c0d05c570e042903cc62c9cf%22%2C%20%22stop_id%22%3A%20%2287500%22%2C%20%22stop_sequence%22%3A%20105%2C%20%22trip_id%22%3A%20%22t120-sl9-p84-r1A%22%7D%2C%20%22type%22%3A%20%22Feature%22%7D%2C%20%7B%22bbox%22%3A%20%5B-122.62621999999999%2C%2038.249435%2C%20-122.62621999999999%2C%2038.249435%5D%2C%20%22geometry%22%3A%20%7B%22coordinates%22%3A%20%5B-122.62621999999999%2C%2038.249435%5D%2C%20%22type%22%3A%20%22Point%22%7D%2C%20%22id%22%3A%20%2248%22%2C%20%22properties%22%3A%20%7B%22__folium_color%22%3A%20%22orange%22%2C%20%22district%22%3A%204%2C%20%22district_name%22%3A%20%22District%204%20-%20Oakland%22%2C%20%22feed_key_left%22%3A%20%22540e857d28ffdc628260ca22a21cb330%22%2C%20%22feed_key_right%22%3A%20%22540e857d28ffdc628260ca22a21cb330%22%2C%20%22gtfs_dataset_key_left%22%3A%20%22bc21582ac1ad2b7de0647dfd5b76f67c%22%2C%20%22gtfs_dataset_key_right%22%3A%20%22bc21582ac1ad2b7de0647dfd5b76f67c%22%2C%20%22index_right%22%3A%2020083%2C%20%22loop_or_inlining%22%3A%200%2C%20%22seg_idx%22%3A%2020123%2C%20%22shape_array_key_left%22%3A%20%2221aedea4c0d05c570e042903cc62c9cf%22%2C%20%22shape_array_key_right%22%3A%20%2221aedea4c0d05c570e042903cc62c9cf%22%2C%20%22stop_id%22%3A%20%2287500%22%2C%20%22stop_sequence%22%3A%20105%2C%20%22trip_id%22%3A%20%22t120-sl9-p84-r1A%22%7D%2C%20%22type%22%3A%20%22Feature%22%7D%2C%20%7B%22bbox%22%3A%20%5B-122.62825000000001%2C%2038.250550000000004%2C%20-122.62825000000001%2C%2038.250550000000004%5D%2C%20%22geometry%22%3A%20%7B%22coordinates%22%3A%20%5B-122.62825000000001%2C%2038.250550000000004%5D%2C%20%22type%22%3A%20%22Point%22%7D%2C%20%22id%22%3A%20%2249%22%2C%20%22properties%22%3A%20%7B%22__folium_color%22%3A%20%22orange%22%2C%20%22district%22%3A%204%2C%20%22district_name%22%3A%20%22District%204%20-%20Oakland%22%2C%20%22feed_key_left%22%3A%20%22540e857d28ffdc628260ca22a21cb330%22%2C%20%22feed_key_right%22%3A%20%22540e857d28ffdc628260ca22a21cb330%22%2C%20%22gtfs_dataset_key_left%22%3A%20%22bc21582ac1ad2b7de0647dfd5b76f67c%22%2C%20%22gtfs_dataset_key_right%22%3A%20%22bc21582ac1ad2b7de0647dfd5b76f67c%22%2C%20%22index_right%22%3A%2020083%2C%20%22loop_or_inlining%22%3A%200%2C%20%22seg_idx%22%3A%2020123%2C%20%22shape_array_key_left%22%3A%20%2221aedea4c0d05c570e042903cc62c9cf%22%2C%20%22shape_array_key_right%22%3A%20%2221aedea4c0d05c570e042903cc62c9cf%22%2C%20%22stop_id%22%3A%20%2287500%22%2C%20%22stop_sequence%22%3A%20105%2C%20%22trip_id%22%3A%20%22t120-sl9-p84-r1A%22%7D%2C%20%22type%22%3A%20%22Feature%22%7D%2C%20%7B%22bbox%22%3A%20%5B-122.622345%2C%2038.24746999999999%2C%20-122.622345%2C%2038.24746999999999%5D%2C%20%22geometry%22%3A%20%7B%22coordinates%22%3A%20%5B-122.622345%2C%2038.24746999999999%5D%2C%20%22type%22%3A%20%22Point%22%7D%2C%20%22id%22%3A%20%2250%22%2C%20%22properties%22%3A%20%7B%22__folium_color%22%3A%20%22orange%22%2C%20%22district%22%3A%204%2C%20%22district_name%22%3A%20%22District%204%20-%20Oakland%22%2C%20%22feed_key_left%22%3A%20%22540e857d28ffdc628260ca22a21cb330%22%2C%20%22feed_key_right%22%3A%20%22540e857d28ffdc628260ca22a21cb330%22%2C%20%22gtfs_dataset_key_left%22%3A%20%22bc21582ac1ad2b7de0647dfd5b76f67c%22%2C%20%22gtfs_dataset_key_right%22%3A%20%22bc21582ac1ad2b7de0647dfd5b76f67c%22%2C%20%22index_right%22%3A%2020083%2C%20%22loop_or_inlining%22%3A%200%2C%20%22seg_idx%22%3A%2020123%2C%20%22shape_array_key_left%22%3A%20%2221aedea4c0d05c570e042903cc62c9cf%22%2C%20%22shape_array_key_right%22%3A%20%2221aedea4c0d05c570e042903cc62c9cf%22%2C%20%22stop_id%22%3A%20%2287500%22%2C%20%22stop_sequence%22%3A%20105%2C%20%22trip_id%22%3A%20%22t120-sl9-p84-r1A%22%7D%2C%20%22type%22%3A%20%22Feature%22%7D%2C%20%7B%22bbox%22%3A%20%5B-122.64287%2C%2038.25883000000004%2C%20-122.64287%2C%2038.25883000000004%5D%2C%20%22geometry%22%3A%20%7B%22coordinates%22%3A%20%5B-122.64287%2C%2038.25883000000004%5D%2C%20%22type%22%3A%20%22Point%22%7D%2C%20%22id%22%3A%20%2251%22%2C%20%22properties%22%3A%20%7B%22__folium_color%22%3A%20%22orange%22%2C%20%22district%22%3A%204%2C%20%22district_name%22%3A%20%22District%204%20-%20Oakland%22%2C%20%22feed_key_left%22%3A%20%22540e857d28ffdc628260ca22a21cb330%22%2C%20%22feed_key_right%22%3A%20%22540e857d28ffdc628260ca22a21cb330%22%2C%20%22gtfs_dataset_key_left%22%3A%20%22bc21582ac1ad2b7de0647dfd5b76f67c%22%2C%20%22gtfs_dataset_key_right%22%3A%20%22bc21582ac1ad2b7de0647dfd5b76f67c%22%2C%20%22index_right%22%3A%2020087%2C%20%22loop_or_inlining%22%3A%200%2C%20%22seg_idx%22%3A%2020127%2C%20%22shape_array_key_left%22%3A%20%2221aedea4c0d05c570e042903cc62c9cf%22%2C%20%22shape_array_key_right%22%3A%20%2221aedea4c0d05c570e042903cc62c9cf%22%2C%20%22stop_id%22%3A%20%2287504%22%2C%20%22stop_sequence%22%3A%20220%2C%20%22trip_id%22%3A%20%22t120-sl9-p84-r1A%22%7D%2C%20%22type%22%3A%20%22Feature%22%7D%2C%20%7B%22bbox%22%3A%20%5B-122.64881000000001%2C%2038.26220699999998%2C%20-122.64881000000001%2C%2038.26220699999998%5D%2C%20%22geometry%22%3A%20%7B%22coordinates%22%3A%20%5B-122.64881000000001%2C%2038.26220699999998%5D%2C%20%22type%22%3A%20%22Point%22%7D%2C%20%22id%22%3A%20%2252%22%2C%20%22properties%22%3A%20%7B%22__folium_color%22%3A%20%22orange%22%2C%20%22district%22%3A%204%2C%20%22district_name%22%3A%20%22District%204%20-%20Oakland%22%2C%20%22feed_key_left%22%3A%20%22540e857d28ffdc628260ca22a21cb330%22%2C%20%22feed_key_right%22%3A%20%22540e857d28ffdc628260ca22a21cb330%22%2C%20%22gtfs_dataset_key_left%22%3A%20%22bc21582ac1ad2b7de0647dfd5b76f67c%22%2C%20%22gtfs_dataset_key_right%22%3A%20%22bc21582ac1ad2b7de0647dfd5b76f67c%22%2C%20%22index_right%22%3A%2020089%2C%20%22loop_or_inlining%22%3A%200%2C%20%22seg_idx%22%3A%2020129%2C%20%22shape_array_key_left%22%3A%20%2221aedea4c0d05c570e042903cc62c9cf%22%2C%20%22shape_array_key_right%22%3A%20%2221aedea4c0d05c570e042903cc62c9cf%22%2C%20%22stop_id%22%3A%20%2287529%22%2C%20%22stop_sequence%22%3A%20270%2C%20%22trip_id%22%3A%20%22t120-sl9-p84-r1A%22%7D%2C%20%22type%22%3A%20%22Feature%22%7D%2C%20%7B%22bbox%22%3A%20%5B-122.65680999999998%2C%2038.26668499999999%2C%20-122.65680999999998%2C%2038.26668499999999%5D%2C%20%22geometry%22%3A%20%7B%22coordinates%22%3A%20%5B-122.65680999999998%2C%2038.26668499999999%5D%2C%20%22type%22%3A%20%22Point%22%7D%2C%20%22id%22%3A%20%2253%22%2C%20%22properties%22%3A%20%7B%22__folium_color%22%3A%20%22orange%22%2C%20%22district%22%3A%204%2C%20%22district_name%22%3A%20%22District%204%20-%20Oakland%22%2C%20%22feed_key_left%22%3A%20%22540e857d28ffdc628260ca22a21cb330%22%2C%20%22feed_key_right%22%3A%20%22540e857d28ffdc628260ca22a21cb330%22%2C%20%22gtfs_dataset_key_left%22%3A%20%22bc21582ac1ad2b7de0647dfd5b76f67c%22%2C%20%22gtfs_dataset_key_right%22%3A%20%22bc21582ac1ad2b7de0647dfd5b76f67c%22%2C%20%22index_right%22%3A%2020091%2C%20%22loop_or_inlining%22%3A%200%2C%20%22seg_idx%22%3A%2020131%2C%20%22shape_array_key_left%22%3A%20%2221aedea4c0d05c570e042903cc62c9cf%22%2C%20%22shape_array_key_right%22%3A%20%2221aedea4c0d05c570e042903cc62c9cf%22%2C%20%22stop_id%22%3A%20%2287508%22%2C%20%22stop_sequence%22%3A%20360%2C%20%22trip_id%22%3A%20%22t120-sl9-p84-r1A%22%7D%2C%20%22type%22%3A%20%22Feature%22%7D%2C%20%7B%22bbox%22%3A%20%5B-122.63927%2C%2038.25680000000002%2C%20-122.63927%2C%2038.25680000000002%5D%2C%20%22geometry%22%3A%20%7B%22coordinates%22%3A%20%5B-122.63927%2C%2038.25680000000002%5D%2C%20%22type%22%3A%20%22Point%22%7D%2C%20%22id%22%3A%20%2254%22%2C%20%22properties%22%3A%20%7B%22__folium_color%22%3A%20%22orange%22%2C%20%22district%22%3A%204%2C%20%22district_name%22%3A%20%22District%204%20-%20Oakland%22%2C%20%22feed_key_left%22%3A%20%22540e857d28ffdc628260ca22a21cb330%22%2C%20%22feed_key_right%22%3A%20%22540e857d28ffdc628260ca22a21cb330%22%2C%20%22gtfs_dataset_key_left%22%3A%20%22bc21582ac1ad2b7de0647dfd5b76f67c%22%2C%20%22gtfs_dataset_key_right%22%3A%20%22bc21582ac1ad2b7de0647dfd5b76f67c%22%2C%20%22index_right%22%3A%2020086%2C%20%22loop_or_inlining%22%3A%200%2C%20%22seg_idx%22%3A%2020126%2C%20%22shape_array_key_left%22%3A%20%2221aedea4c0d05c570e042903cc62c9cf%22%2C%20%22shape_array_key_right%22%3A%20%2221aedea4c0d05c570e042903cc62c9cf%22%2C%20%22stop_id%22%3A%20%2287503%22%2C%20%22stop_sequence%22%3A%20200%2C%20%22trip_id%22%3A%20%22t120-sl9-p84-r1A%22%7D%2C%20%22type%22%3A%20%22Feature%22%7D%2C%20%7B%22bbox%22%3A%20%5B-122.63443%2C%2038.25409299999999%2C%20-122.63443%2C%2038.25409299999999%5D%2C%20%22geometry%22%3A%20%7B%22coordinates%22%3A%20%5B-122.63443%2C%2038.25409299999999%5D%2C%20%22type%22%3A%20%22Point%22%7D%2C%20%22id%22%3A%20%2255%22%2C%20%22properties%22%3A%20%7B%22__folium_color%22%3A%20%22orange%22%2C%20%22district%22%3A%204%2C%20%22district_name%22%3A%20%22District%204%20-%20Oakland%22%2C%20%22feed_key_left%22%3A%20%22540e857d28ffdc628260ca22a21cb330%22%2C%20%22feed_key_right%22%3A%20%22540e857d28ffdc628260ca22a21cb330%22%2C%20%22gtfs_dataset_key_left%22%3A%20%22bc21582ac1ad2b7de0647dfd5b76f67c%22%2C%20%22gtfs_dataset_key_right%22%3A%20%22bc21582ac1ad2b7de0647dfd5b76f67c%22%2C%20%22index_right%22%3A%2020085%2C%20%22loop_or_inlining%22%3A%200%2C%20%22seg_idx%22%3A%2020125%2C%20%22shape_array_key_left%22%3A%20%2221aedea4c0d05c570e042903cc62c9cf%22%2C%20%22shape_array_key_right%22%3A%20%2221aedea4c0d05c570e042903cc62c9cf%22%2C%20%22stop_id%22%3A%20%2287502%22%2C%20%22stop_sequence%22%3A%20180%2C%20%22trip_id%22%3A%20%22t120-sl9-p84-r1A%22%7D%2C%20%22type%22%3A%20%22Feature%22%7D%2C%20%7B%22bbox%22%3A%20%5B-122.63464%2C%2038.25419999999998%2C%20-122.63464%2C%2038.25419999999998%5D%2C%20%22geometry%22%3A%20%7B%22coordinates%22%3A%20%5B-122.63464%2C%2038.25419999999998%5D%2C%20%22type%22%3A%20%22Point%22%7D%2C%20%22id%22%3A%20%2256%22%2C%20%22properties%22%3A%20%7B%22__folium_color%22%3A%20%22orange%22%2C%20%22district%22%3A%204%2C%20%22district_name%22%3A%20%22District%204%20-%20Oakland%22%2C%20%22feed_key_left%22%3A%20%22540e857d28ffdc628260ca22a21cb330%22%2C%20%22feed_key_right%22%3A%20%22540e857d28ffdc628260ca22a21cb330%22%2C%20%22gtfs_dataset_key_left%22%3A%20%22bc21582ac1ad2b7de0647dfd5b76f67c%22%2C%20%22gtfs_dataset_key_right%22%3A%20%22bc21582ac1ad2b7de0647dfd5b76f67c%22%2C%20%22index_right%22%3A%2020085%2C%20%22loop_or_inlining%22%3A%200%2C%20%22seg_idx%22%3A%2020125%2C%20%22shape_array_key_left%22%3A%20%2221aedea4c0d05c570e042903cc62c9cf%22%2C%20%22shape_array_key_right%22%3A%20%2221aedea4c0d05c570e042903cc62c9cf%22%2C%20%22stop_id%22%3A%20%2287502%22%2C%20%22stop_sequence%22%3A%20180%2C%20%22trip_id%22%3A%20%22t120-sl9-p84-r1A%22%7D%2C%20%22type%22%3A%20%22Feature%22%7D%2C%20%7B%22bbox%22%3A%20%5B-122.63725%2C%2038.25567000000004%2C%20-122.63725%2C%2038.25567000000004%5D%2C%20%22geometry%22%3A%20%7B%22coordinates%22%3A%20%5B-122.63725%2C%2038.25567000000004%5D%2C%20%22type%22%3A%20%22Point%22%7D%2C%20%22id%22%3A%20%2257%22%2C%20%22properties%22%3A%20%7B%22__folium_color%22%3A%20%22orange%22%2C%20%22district%22%3A%204%2C%20%22district_name%22%3A%20%22District%204%20-%20Oakland%22%2C%20%22feed_key_left%22%3A%20%22540e857d28ffdc628260ca22a21cb330%22%2C%20%22feed_key_right%22%3A%20%22540e857d28ffdc628260ca22a21cb330%22%2C%20%22gtfs_dataset_key_left%22%3A%20%22bc21582ac1ad2b7de0647dfd5b76f67c%22%2C%20%22gtfs_dataset_key_right%22%3A%20%22bc21582ac1ad2b7de0647dfd5b76f67c%22%2C%20%22index_right%22%3A%2020085%2C%20%22loop_or_inlining%22%3A%200%2C%20%22seg_idx%22%3A%2020125%2C%20%22shape_array_key_left%22%3A%20%2221aedea4c0d05c570e042903cc62c9cf%22%2C%20%22shape_array_key_right%22%3A%20%2221aedea4c0d05c570e042903cc62c9cf%22%2C%20%22stop_id%22%3A%20%2287502%22%2C%20%22stop_sequence%22%3A%20180%2C%20%22trip_id%22%3A%20%22t120-sl9-p84-r1A%22%7D%2C%20%22type%22%3A%20%22Feature%22%7D%2C%20%7B%22bbox%22%3A%20%5B-122.63405000000002%2C%2038.25387599999997%2C%20-122.63405000000002%2C%2038.25387599999997%5D%2C%20%22geometry%22%3A%20%7B%22coordinates%22%3A%20%5B-122.63405000000002%2C%2038.25387599999997%5D%2C%20%22type%22%3A%20%22Point%22%7D%2C%20%22id%22%3A%20%2258%22%2C%20%22properties%22%3A%20%7B%22__folium_color%22%3A%20%22orange%22%2C%20%22district%22%3A%204%2C%20%22district_name%22%3A%20%22District%204%20-%20Oakland%22%2C%20%22feed_key_left%22%3A%20%22540e857d28ffdc628260ca22a21cb330%22%2C%20%22feed_key_right%22%3A%20%22540e857d28ffdc628260ca22a21cb330%22%2C%20%22gtfs_dataset_key_left%22%3A%20%22bc21582ac1ad2b7de0647dfd5b76f67c%22%2C%20%22gtfs_dataset_key_right%22%3A%20%22bc21582ac1ad2b7de0647dfd5b76f67c%22%2C%20%22index_right%22%3A%2020085%2C%20%22loop_or_inlining%22%3A%200%2C%20%22seg_idx%22%3A%2020125%2C%20%22shape_array_key_left%22%3A%20%2221aedea4c0d05c570e042903cc62c9cf%22%2C%20%22shape_array_key_right%22%3A%20%2221aedea4c0d05c570e042903cc62c9cf%22%2C%20%22stop_id%22%3A%20%2287502%22%2C%20%22stop_sequence%22%3A%20180%2C%20%22trip_id%22%3A%20%22t120-sl9-p84-r1A%22%7D%2C%20%22type%22%3A%20%22Feature%22%7D%5D%2C%20%22type%22%3A%20%22FeatureCollection%22%7D%29%3B%0A%0A%20%20%20%20%20%20%20%20%0A%20%20%20%20%0A%20%20%20%20geo_json_1df3d121fc284800adcc09c51d164400.bindTooltip%28%0A%20%20%20%20function%28layer%29%7B%0A%20%20%20%20let%20div%20%3D%20L.DomUtil.create%28%27div%27%29%3B%0A%20%20%20%20%0A%20%20%20%20let%20handleObject%20%3D%20feature%3D%3Etypeof%28feature%29%3D%3D%27object%27%20%3F%20JSON.stringify%28feature%29%20%3A%20feature%3B%0A%20%20%20%20let%20fields%20%3D%20%5B%22gtfs_dataset_key_left%22%2C%20%22trip_id%22%2C%20%22feed_key_left%22%2C%20%22shape_array_key_left%22%2C%20%22index_right%22%2C%20%22feed_key_right%22%2C%20%22shape_array_key_right%22%2C%20%22stop_id%22%2C%20%22stop_sequence%22%2C%20%22loop_or_inlining%22%2C%20%22gtfs_dataset_key_right%22%2C%20%22seg_idx%22%2C%20%22district%22%2C%20%22district_name%22%5D%3B%0A%20%20%20%20let%20aliases%20%3D%20%5B%22gtfs_dataset_key_left%22%2C%20%22trip_id%22%2C%20%22feed_key_left%22%2C%20%22shape_array_key_left%22%2C%20%22index_right%22%2C%20%22feed_key_right%22%2C%20%22shape_array_key_right%22%2C%20%22stop_id%22%2C%20%22stop_sequence%22%2C%20%22loop_or_inlining%22%2C%20%22gtfs_dataset_key_right%22%2C%20%22seg_idx%22%2C%20%22district%22%2C%20%22district_name%22%5D%3B%0A%20%20%20%20let%20table%20%3D%20%27%3Ctable%3E%27%20%2B%0A%20%20%20%20%20%20%20%20String%28%0A%20%20%20%20%20%20%20%20fields.map%28%0A%20%20%20%20%20%20%20%20%28v%2Ci%29%3D%3E%0A%20%20%20%20%20%20%20%20%60%3Ctr%3E%0A%20%20%20%20%20%20%20%20%20%20%20%20%3Cth%3E%24%7Baliases%5Bi%5D%7D%3C/th%3E%0A%20%20%20%20%20%20%20%20%20%20%20%20%0A%20%20%20%20%20%20%20%20%20%20%20%20%3Ctd%3E%24%7BhandleObject%28layer.feature.properties%5Bv%5D%29%7D%3C/td%3E%0A%20%20%20%20%20%20%20%20%3C/tr%3E%60%29.join%28%27%27%29%29%0A%20%20%20%20%2B%27%3C/table%3E%27%3B%0A%20%20%20%20div.innerHTML%3Dtable%3B%0A%20%20%20%20%0A%20%20%20%20return%20div%0A%20%20%20%20%7D%0A%20%20%20%20%2C%7B%22className%22%3A%20%22foliumtooltip%22%2C%20%22sticky%22%3A%20true%7D%29%3B%0A%20%20%20%20%20%20%20%20%20%20%20%20%20%20%20%20%20%20%20%20%20%0A%3C/script%3E onload=\"this.contentDocument.open();this.contentDocument.write(    decodeURIComponent(this.getAttribute('data-html')));this.contentDocument.close();\" allowfullscreen webkitallowfullscreen mozallowfullscreen></iframe></div></div>"
      ],
      "text/plain": [
       "<folium.folium.Map at 0x7f7c5caefb50>"
      ]
     },
     "metadata": {},
     "output_type": "display_data"
    },
    {
     "name": "stdout",
     "output_type": "stream",
     "text": [
      "FIRST AND LAST\n"
     ]
    },
    {
     "data": {
      "text/html": [
       "<div style=\"width:100%;\"><div style=\"position:relative;width:100%;height:0;padding-bottom:60%;\"><span style=\"color:#565656\">Make this Notebook Trusted to load map: File -> Trust Notebook</span><iframe src=\"about:blank\" style=\"position:absolute;width:100%;height:100%;left:0;top:0;border:none !important;\" data-html=%3C%21DOCTYPE%20html%3E%0A%3Chead%3E%20%20%20%20%0A%20%20%20%20%3Cmeta%20http-equiv%3D%22content-type%22%20content%3D%22text/html%3B%20charset%3DUTF-8%22%20/%3E%0A%20%20%20%20%0A%20%20%20%20%20%20%20%20%3Cscript%3E%0A%20%20%20%20%20%20%20%20%20%20%20%20L_NO_TOUCH%20%3D%20false%3B%0A%20%20%20%20%20%20%20%20%20%20%20%20L_DISABLE_3D%20%3D%20false%3B%0A%20%20%20%20%20%20%20%20%3C/script%3E%0A%20%20%20%20%0A%20%20%20%20%3Cstyle%3Ehtml%2C%20body%20%7Bwidth%3A%20100%25%3Bheight%3A%20100%25%3Bmargin%3A%200%3Bpadding%3A%200%3B%7D%3C/style%3E%0A%20%20%20%20%3Cstyle%3E%23map%20%7Bposition%3Aabsolute%3Btop%3A0%3Bbottom%3A0%3Bright%3A0%3Bleft%3A0%3B%7D%3C/style%3E%0A%20%20%20%20%3Cscript%20src%3D%22https%3A//cdn.jsdelivr.net/npm/leaflet%401.6.0/dist/leaflet.js%22%3E%3C/script%3E%0A%20%20%20%20%3Cscript%20src%3D%22https%3A//code.jquery.com/jquery-1.12.4.min.js%22%3E%3C/script%3E%0A%20%20%20%20%3Cscript%20src%3D%22https%3A//maxcdn.bootstrapcdn.com/bootstrap/3.2.0/js/bootstrap.min.js%22%3E%3C/script%3E%0A%20%20%20%20%3Cscript%20src%3D%22https%3A//cdnjs.cloudflare.com/ajax/libs/Leaflet.awesome-markers/2.0.2/leaflet.awesome-markers.js%22%3E%3C/script%3E%0A%20%20%20%20%3Clink%20rel%3D%22stylesheet%22%20href%3D%22https%3A//cdn.jsdelivr.net/npm/leaflet%401.6.0/dist/leaflet.css%22/%3E%0A%20%20%20%20%3Clink%20rel%3D%22stylesheet%22%20href%3D%22https%3A//maxcdn.bootstrapcdn.com/bootstrap/3.2.0/css/bootstrap.min.css%22/%3E%0A%20%20%20%20%3Clink%20rel%3D%22stylesheet%22%20href%3D%22https%3A//maxcdn.bootstrapcdn.com/bootstrap/3.2.0/css/bootstrap-theme.min.css%22/%3E%0A%20%20%20%20%3Clink%20rel%3D%22stylesheet%22%20href%3D%22https%3A//maxcdn.bootstrapcdn.com/font-awesome/4.6.3/css/font-awesome.min.css%22/%3E%0A%20%20%20%20%3Clink%20rel%3D%22stylesheet%22%20href%3D%22https%3A//cdnjs.cloudflare.com/ajax/libs/Leaflet.awesome-markers/2.0.2/leaflet.awesome-markers.css%22/%3E%0A%20%20%20%20%3Clink%20rel%3D%22stylesheet%22%20href%3D%22https%3A//cdn.jsdelivr.net/gh/python-visualization/folium/folium/templates/leaflet.awesome.rotate.min.css%22/%3E%0A%20%20%20%20%0A%20%20%20%20%20%20%20%20%20%20%20%20%3Cmeta%20name%3D%22viewport%22%20content%3D%22width%3Ddevice-width%2C%0A%20%20%20%20%20%20%20%20%20%20%20%20%20%20%20%20initial-scale%3D1.0%2C%20maximum-scale%3D1.0%2C%20user-scalable%3Dno%22%20/%3E%0A%20%20%20%20%20%20%20%20%20%20%20%20%3Cstyle%3E%0A%20%20%20%20%20%20%20%20%20%20%20%20%20%20%20%20%23map_09eb5ecba79843a0a7cb54be039626e7%20%7B%0A%20%20%20%20%20%20%20%20%20%20%20%20%20%20%20%20%20%20%20%20position%3A%20relative%3B%0A%20%20%20%20%20%20%20%20%20%20%20%20%20%20%20%20%20%20%20%20width%3A%20600.0px%3B%0A%20%20%20%20%20%20%20%20%20%20%20%20%20%20%20%20%20%20%20%20height%3A%20400.0px%3B%0A%20%20%20%20%20%20%20%20%20%20%20%20%20%20%20%20%20%20%20%20left%3A%200.0%25%3B%0A%20%20%20%20%20%20%20%20%20%20%20%20%20%20%20%20%20%20%20%20top%3A%200.0%25%3B%0A%20%20%20%20%20%20%20%20%20%20%20%20%20%20%20%20%7D%0A%20%20%20%20%20%20%20%20%20%20%20%20%3C/style%3E%0A%20%20%20%20%20%20%20%20%0A%20%20%20%20%0A%20%20%20%20%20%20%20%20%20%20%20%20%20%20%20%20%20%20%20%20%3Cstyle%3E%0A%20%20%20%20%20%20%20%20%20%20%20%20%20%20%20%20%20%20%20%20%20%20%20%20.foliumtooltip%20%7B%0A%20%20%20%20%20%20%20%20%20%20%20%20%20%20%20%20%20%20%20%20%20%20%20%20%20%20%20%20%0A%20%20%20%20%20%20%20%20%20%20%20%20%20%20%20%20%20%20%20%20%20%20%20%20%7D%0A%20%20%20%20%20%20%20%20%20%20%20%20%20%20%20%20%20%20%20%20%20%20%20.foliumtooltip%20table%7B%0A%20%20%20%20%20%20%20%20%20%20%20%20%20%20%20%20%20%20%20%20%20%20%20%20%20%20%20%20margin%3A%20auto%3B%0A%20%20%20%20%20%20%20%20%20%20%20%20%20%20%20%20%20%20%20%20%20%20%20%20%7D%0A%20%20%20%20%20%20%20%20%20%20%20%20%20%20%20%20%20%20%20%20%20%20%20%20.foliumtooltip%20tr%7B%0A%20%20%20%20%20%20%20%20%20%20%20%20%20%20%20%20%20%20%20%20%20%20%20%20%20%20%20%20text-align%3A%20left%3B%0A%20%20%20%20%20%20%20%20%20%20%20%20%20%20%20%20%20%20%20%20%20%20%20%20%7D%0A%20%20%20%20%20%20%20%20%20%20%20%20%20%20%20%20%20%20%20%20%20%20%20%20.foliumtooltip%20th%7B%0A%20%20%20%20%20%20%20%20%20%20%20%20%20%20%20%20%20%20%20%20%20%20%20%20%20%20%20%20padding%3A%202px%3B%20padding-right%3A%208px%3B%0A%20%20%20%20%20%20%20%20%20%20%20%20%20%20%20%20%20%20%20%20%20%20%20%20%7D%0A%20%20%20%20%20%20%20%20%20%20%20%20%20%20%20%20%20%20%20%20%3C/style%3E%0A%20%20%20%20%20%20%20%20%20%20%20%20%0A%20%20%20%20%0A%20%20%20%20%20%20%20%20%20%20%20%20%20%20%20%20%20%20%20%20%3Cstyle%3E%0A%20%20%20%20%20%20%20%20%20%20%20%20%20%20%20%20%20%20%20%20%20%20%20%20.foliumtooltip%20%7B%0A%20%20%20%20%20%20%20%20%20%20%20%20%20%20%20%20%20%20%20%20%20%20%20%20%20%20%20%20%0A%20%20%20%20%20%20%20%20%20%20%20%20%20%20%20%20%20%20%20%20%20%20%20%20%7D%0A%20%20%20%20%20%20%20%20%20%20%20%20%20%20%20%20%20%20%20%20%20%20%20.foliumtooltip%20table%7B%0A%20%20%20%20%20%20%20%20%20%20%20%20%20%20%20%20%20%20%20%20%20%20%20%20%20%20%20%20margin%3A%20auto%3B%0A%20%20%20%20%20%20%20%20%20%20%20%20%20%20%20%20%20%20%20%20%20%20%20%20%7D%0A%20%20%20%20%20%20%20%20%20%20%20%20%20%20%20%20%20%20%20%20%20%20%20%20.foliumtooltip%20tr%7B%0A%20%20%20%20%20%20%20%20%20%20%20%20%20%20%20%20%20%20%20%20%20%20%20%20%20%20%20%20text-align%3A%20left%3B%0A%20%20%20%20%20%20%20%20%20%20%20%20%20%20%20%20%20%20%20%20%20%20%20%20%7D%0A%20%20%20%20%20%20%20%20%20%20%20%20%20%20%20%20%20%20%20%20%20%20%20%20.foliumtooltip%20th%7B%0A%20%20%20%20%20%20%20%20%20%20%20%20%20%20%20%20%20%20%20%20%20%20%20%20%20%20%20%20padding%3A%202px%3B%20padding-right%3A%208px%3B%0A%20%20%20%20%20%20%20%20%20%20%20%20%20%20%20%20%20%20%20%20%20%20%20%20%7D%0A%20%20%20%20%20%20%20%20%20%20%20%20%20%20%20%20%20%20%20%20%3C/style%3E%0A%20%20%20%20%20%20%20%20%20%20%20%20%0A%3C/head%3E%0A%3Cbody%3E%20%20%20%20%0A%20%20%20%20%0A%20%20%20%20%20%20%20%20%20%20%20%20%3Cdiv%20class%3D%22folium-map%22%20id%3D%22map_09eb5ecba79843a0a7cb54be039626e7%22%20%3E%3C/div%3E%0A%20%20%20%20%20%20%20%20%0A%3C/body%3E%0A%3Cscript%3E%20%20%20%20%0A%20%20%20%20%0A%20%20%20%20%20%20%20%20%20%20%20%20var%20map_09eb5ecba79843a0a7cb54be039626e7%20%3D%20L.map%28%0A%20%20%20%20%20%20%20%20%20%20%20%20%20%20%20%20%22map_09eb5ecba79843a0a7cb54be039626e7%22%2C%0A%20%20%20%20%20%20%20%20%20%20%20%20%20%20%20%20%7B%0A%20%20%20%20%20%20%20%20%20%20%20%20%20%20%20%20%20%20%20%20center%3A%20%5B38.26179741279877%2C%20-122.64549515041911%5D%2C%0A%20%20%20%20%20%20%20%20%20%20%20%20%20%20%20%20%20%20%20%20crs%3A%20L.CRS.EPSG3857%2C%0A%20%20%20%20%20%20%20%20%20%20%20%20%20%20%20%20%20%20%20%20zoom%3A%2010%2C%0A%20%20%20%20%20%20%20%20%20%20%20%20%20%20%20%20%20%20%20%20zoomControl%3A%20true%2C%0A%20%20%20%20%20%20%20%20%20%20%20%20%20%20%20%20%20%20%20%20preferCanvas%3A%20false%2C%0A%20%20%20%20%20%20%20%20%20%20%20%20%20%20%20%20%7D%0A%20%20%20%20%20%20%20%20%20%20%20%20%29%3B%0A%20%20%20%20%20%20%20%20%20%20%20%20L.control.scale%28%29.addTo%28map_09eb5ecba79843a0a7cb54be039626e7%29%3B%0A%0A%20%20%20%20%20%20%20%20%20%20%20%20%0A%0A%20%20%20%20%20%20%20%20%0A%20%20%20%20%0A%20%20%20%20%20%20%20%20%20%20%20%20var%20tile_layer_a159aa56d92b4f089eb4310cd6ce49d8%20%3D%20L.tileLayer%28%0A%20%20%20%20%20%20%20%20%20%20%20%20%20%20%20%20%22https%3A//%7Bs%7D.tile.openstreetmap.org/%7Bz%7D/%7Bx%7D/%7By%7D.png%22%2C%0A%20%20%20%20%20%20%20%20%20%20%20%20%20%20%20%20%7B%22attribution%22%3A%20%22Data%20by%20%5Cu0026copy%3B%20%5Cu003ca%20href%3D%5C%22http%3A//openstreetmap.org%5C%22%5Cu003eOpenStreetMap%5Cu003c/a%5Cu003e%2C%20under%20%5Cu003ca%20href%3D%5C%22http%3A//www.openstreetmap.org/copyright%5C%22%5Cu003eODbL%5Cu003c/a%5Cu003e.%22%2C%20%22detectRetina%22%3A%20false%2C%20%22maxNativeZoom%22%3A%2018%2C%20%22maxZoom%22%3A%2018%2C%20%22minZoom%22%3A%200%2C%20%22noWrap%22%3A%20false%2C%20%22opacity%22%3A%201%2C%20%22subdomains%22%3A%20%22abc%22%2C%20%22tms%22%3A%20false%7D%0A%20%20%20%20%20%20%20%20%20%20%20%20%29.addTo%28map_09eb5ecba79843a0a7cb54be039626e7%29%3B%0A%20%20%20%20%20%20%20%20%0A%20%20%20%20%0A%20%20%20%20%20%20%20%20%20%20%20%20map_09eb5ecba79843a0a7cb54be039626e7.fitBounds%28%0A%20%20%20%20%20%20%20%20%20%20%20%20%20%20%20%20%5B%5B38.2469653226834%2C%20-122.6697105729241%5D%2C%20%5B38.27662950291414%2C%20-122.62127972791411%5D%5D%2C%0A%20%20%20%20%20%20%20%20%20%20%20%20%20%20%20%20%7B%7D%0A%20%20%20%20%20%20%20%20%20%20%20%20%29%3B%0A%20%20%20%20%20%20%20%20%0A%20%20%20%20%0A%20%20%20%20%20%20%20%20function%20geo_json_e4be3e8542b34ffcbac9d0acac1aa59a_styler%28feature%29%20%7B%0A%20%20%20%20%20%20%20%20%20%20%20%20switch%28feature.id%29%20%7B%0A%20%20%20%20%20%20%20%20%20%20%20%20%20%20%20%20default%3A%0A%20%20%20%20%20%20%20%20%20%20%20%20%20%20%20%20%20%20%20%20return%20%7B%22fillOpacity%22%3A%200.5%2C%20%22weight%22%3A%202%7D%3B%0A%20%20%20%20%20%20%20%20%20%20%20%20%7D%0A%20%20%20%20%20%20%20%20%7D%0A%20%20%20%20%20%20%20%20function%20geo_json_e4be3e8542b34ffcbac9d0acac1aa59a_highlighter%28feature%29%20%7B%0A%20%20%20%20%20%20%20%20%20%20%20%20switch%28feature.id%29%20%7B%0A%20%20%20%20%20%20%20%20%20%20%20%20%20%20%20%20default%3A%0A%20%20%20%20%20%20%20%20%20%20%20%20%20%20%20%20%20%20%20%20return%20%7B%22fillOpacity%22%3A%200.75%7D%3B%0A%20%20%20%20%20%20%20%20%20%20%20%20%7D%0A%20%20%20%20%20%20%20%20%7D%0A%20%20%20%20%20%20%20%20function%20geo_json_e4be3e8542b34ffcbac9d0acac1aa59a_pointToLayer%28feature%2C%20latlng%29%20%7B%0A%20%20%20%20%20%20%20%20%20%20%20%20var%20opts%20%3D%20%7B%22bubblingMouseEvents%22%3A%20true%2C%20%22color%22%3A%20%22%233388ff%22%2C%20%22dashArray%22%3A%20null%2C%20%22dashOffset%22%3A%20null%2C%20%22fill%22%3A%20true%2C%20%22fillColor%22%3A%20%22%233388ff%22%2C%20%22fillOpacity%22%3A%200.2%2C%20%22fillRule%22%3A%20%22evenodd%22%2C%20%22lineCap%22%3A%20%22round%22%2C%20%22lineJoin%22%3A%20%22round%22%2C%20%22opacity%22%3A%201.0%2C%20%22radius%22%3A%202%2C%20%22stroke%22%3A%20true%2C%20%22weight%22%3A%203%7D%3B%0A%20%20%20%20%20%20%20%20%20%20%20%20%0A%20%20%20%20%20%20%20%20%20%20%20%20let%20style%20%3D%20geo_json_e4be3e8542b34ffcbac9d0acac1aa59a_styler%28feature%29%0A%20%20%20%20%20%20%20%20%20%20%20%20Object.assign%28opts%2C%20style%29%0A%20%20%20%20%20%20%20%20%20%20%20%20%0A%20%20%20%20%20%20%20%20%20%20%20%20return%20new%20L.CircleMarker%28latlng%2C%20opts%29%0A%20%20%20%20%20%20%20%20%7D%0A%0A%20%20%20%20%20%20%20%20function%20geo_json_e4be3e8542b34ffcbac9d0acac1aa59a_onEachFeature%28feature%2C%20layer%29%20%7B%0A%20%20%20%20%20%20%20%20%20%20%20%20layer.on%28%7B%0A%20%20%20%20%20%20%20%20%20%20%20%20%20%20%20%20mouseout%3A%20function%28e%29%20%7B%0A%20%20%20%20%20%20%20%20%20%20%20%20%20%20%20%20%20%20%20%20if%28typeof%20e.target.setStyle%20%3D%3D%3D%20%22function%22%29%7B%0A%20%20%20%20%20%20%20%20%20%20%20%20%20%20%20%20%20%20%20%20%20%20%20%20geo_json_e4be3e8542b34ffcbac9d0acac1aa59a.resetStyle%28e.target%29%3B%0A%20%20%20%20%20%20%20%20%20%20%20%20%20%20%20%20%20%20%20%20%7D%0A%20%20%20%20%20%20%20%20%20%20%20%20%20%20%20%20%7D%2C%0A%20%20%20%20%20%20%20%20%20%20%20%20%20%20%20%20mouseover%3A%20function%28e%29%20%7B%0A%20%20%20%20%20%20%20%20%20%20%20%20%20%20%20%20%20%20%20%20if%28typeof%20e.target.setStyle%20%3D%3D%3D%20%22function%22%29%7B%0A%20%20%20%20%20%20%20%20%20%20%20%20%20%20%20%20%20%20%20%20%20%20%20%20const%20highlightStyle%20%3D%20geo_json_e4be3e8542b34ffcbac9d0acac1aa59a_highlighter%28e.target.feature%29%0A%20%20%20%20%20%20%20%20%20%20%20%20%20%20%20%20%20%20%20%20%20%20%20%20e.target.setStyle%28highlightStyle%29%3B%0A%20%20%20%20%20%20%20%20%20%20%20%20%20%20%20%20%20%20%20%20%7D%0A%20%20%20%20%20%20%20%20%20%20%20%20%20%20%20%20%7D%2C%0A%20%20%20%20%20%20%20%20%20%20%20%20%7D%29%3B%0A%20%20%20%20%20%20%20%20%7D%3B%0A%20%20%20%20%20%20%20%20var%20geo_json_e4be3e8542b34ffcbac9d0acac1aa59a%20%3D%20L.geoJson%28null%2C%20%7B%0A%20%20%20%20%20%20%20%20%20%20%20%20%20%20%20%20onEachFeature%3A%20geo_json_e4be3e8542b34ffcbac9d0acac1aa59a_onEachFeature%2C%0A%20%20%20%20%20%20%20%20%20%20%20%20%0A%20%20%20%20%20%20%20%20%20%20%20%20%20%20%20%20style%3A%20geo_json_e4be3e8542b34ffcbac9d0acac1aa59a_styler%2C%0A%20%20%20%20%20%20%20%20%20%20%20%20%20%20%20%20pointToLayer%3A%20geo_json_e4be3e8542b34ffcbac9d0acac1aa59a_pointToLayer%0A%20%20%20%20%20%20%20%20%7D%29%3B%0A%0A%20%20%20%20%20%20%20%20function%20geo_json_e4be3e8542b34ffcbac9d0acac1aa59a_add%20%28data%29%20%7B%0A%20%20%20%20%20%20%20%20%20%20%20%20geo_json_e4be3e8542b34ffcbac9d0acac1aa59a%0A%20%20%20%20%20%20%20%20%20%20%20%20%20%20%20%20.addData%28data%29%0A%20%20%20%20%20%20%20%20%20%20%20%20%20%20%20%20.addTo%28map_09eb5ecba79843a0a7cb54be039626e7%29%3B%0A%20%20%20%20%20%20%20%20%7D%0A%20%20%20%20%20%20%20%20%20%20%20%20geo_json_e4be3e8542b34ffcbac9d0acac1aa59a_add%28%7B%22bbox%22%3A%20%5B-122.6697105729241%2C%2038.2469653226834%2C%20-122.62127972791411%2C%2038.27662950291414%5D%2C%20%22features%22%3A%20%5B%7B%22bbox%22%3A%20%5B-122.62208027199242%2C%2038.2477752717634%2C%20-122.62127972791411%2C%2038.24840472824704%5D%2C%20%22geometry%22%3A%20%7B%22coordinates%22%3A%20%5B%5B%5B-122.62127972791411%2C%2038.24809870453459%5D%2C%20%5B-122.62128057032277%2C%2038.24806781385725%5D%2C%20%5B-122.62128525945415%2C%2038.24803713685097%5D%2C%20%5B-122.62129375014474%2C%2038.24800696895171%5D%2C%20%5B-122.62130596062016%2C%2038.24797760069185%5D%2C%20%5B-122.62132177328306%2C%2038.247949314902904%5D%2C%20%5B-122.62134103584557%2C%2038.24792238399094%5D%2C%20%5B-122.62136356279628%2C%2038.24789706731381%5D%2C%20%5B-122.62138913718664%2C%2038.24787360868306%5D%2C%20%5B-122.62141751272057%2C%2038.24785223401643%5D%2C%20%5B-122.62144841612638%2C%2038.247833149161615%5D%2C%20%5B-122.6214815497885%2C%2038.24781653791445%5D%2C%20%5B-122.6215165946137%2C%2038.24780256024856%5D%2C%20%5B-122.62155321310395%2C%2038.24779135077497%5D%2C%20%5B-122.62159105260666%2C%2038.24778301744582%5D%2C%20%5B-122.62162974871087%2C%2038.247777640514556%5D%2C%20%5B-122.6216689287564%2C%2038.2477752717634%5D%2C%20%5B-122.62170821542273%2C%2038.24777593400438%5D%2C%20%5B-122.6217472303625%2C%2038.247779620859845%5D%2C%20%5B-122.62178559784522%2C%2038.24778629682384%5D%2C%20%5B-122.62182294837534%2C%2038.24779589760393%5D%2C%20%5B-122.62185892225068%2C%2038.24780833074051%5D%2C%20%5B-122.62189317302644%2C%2038.24782347649704%5D%2C%20%5B-122.62192537085136%2C%2038.24784118901321%5D%2C%20%5B-122.62195520564444%2C%2038.24786129770968%5D%2C%20%5B-122.62198239008102%2C%2038.247883608930536%5D%2C%20%5B-122.62200666235995%2C%2038.24790790780836%5D%2C%20%5B-122.62202778872475%2C%2038.247933960333526%5D%2C%20%5B-122.62204556571496%2C%2038.247961515607784%5D%2C%20%5B-122.62205982212566%2C%2038.247990308260185%5D%2C%20%5B-122.62207042065629%2C%2038.248020061003146%5D%2C%20%5B-122.62207725923312%2C%2038.248050487302365%5D%2C%20%5B-122.62208027199242%2C%2038.24808129413665%5D%2C%20%5B-122.62207942991498%2C%2038.24811218481962%5D%2C%20%5B-122.62207474110569%2C%2038.24814286185702%5D%2C%20%5B-122.6220662507157%2C%2038.24817302981181%5D%2C%20%5B-122.62205404050779%2C%2038.24820239814922%5D%2C%20%5B-122.62203822806904%2C%2038.248230684035086%5D%2C%20%5B-122.62201896567873%2C%2038.24825761505943%5D%2C%20%5B-122.62199643884168%2C%2038.24828293186007%5D%2C%20%5B-122.621970864502%2C%2038.24830639062069%5D%2C%20%5B-122.62194248895388%2C%2038.24832776541871%5D%2C%20%5B-122.62191158546949%2C%2038.24834685040118%5D%2C%20%5B-122.62187845166747%2C%2038.248363461767575%5D%2C%20%5B-122.62184340664645%2C%2038.248377439539524%5D%2C%20%5B-122.62180678791194%2C%2038.248388649102026%5D%2C%20%5B-122.62176894812592%2C%2038.24839698249945%5D%2C%20%5B-122.62173025171025%2C%2038.248402359475755%5D%2C%20%5B-122.6216910713371%2C%2038.24840472824704%5D%2C%20%5B-122.62165178433956%2C%2038.24840406600045%5D%2C%20%5B-122.62161276907769%2C%2038.248400379113775%5D%2C%20%5B-122.6215744012944%2C%2038.24839370309437%5D%2C%20%5B-122.62153705049676%2C%2038.24838410223662%5D%2C%20%5B-122.62150107639724%2C%2038.248371669003184%5D%2C%20%5B-122.62146682544928%2C%2038.24835652313426%5D%2C%20%5B-122.62143462751072%2C%2038.24833881049457%5D%2C%20%5B-122.62140479266695%2C%2038.248318701668175%5D%2C%20%5B-122.62137760824457%2C%2038.248296390316035%5D%2C%20%5B-122.62135333604421%2C%2038.24827209131051%5D%2C%20%5B-122.62133220981929%2C%2038.248246038666075%5D%2C%20%5B-122.62131443302492%2C%2038.24821848328579%5D%2C%20%5B-122.62130017685847%2C%2038.24818969054448%5D%2C%20%5B-122.62128957861115%2C%2038.24815993773322%5D%2C%20%5B-122.62128274034579%2C%2038.248129511388996%5D%2C%20%5B-122.62127972791411%2C%2038.24809870453459%5D%5D%5D%2C%20%22type%22%3A%20%22Polygon%22%7D%2C%20%22id%22%3A%20%2220082%22%2C%20%22properties%22%3A%20%7B%22district%22%3A%204%2C%20%22district_name%22%3A%20%22District%204%20-%20Oakland%22%2C%20%22feed_key%22%3A%20%22540e857d28ffdc628260ca22a21cb330%22%2C%20%22gtfs_dataset_key%22%3A%20%22bc21582ac1ad2b7de0647dfd5b76f67c%22%2C%20%22loop_or_inlining%22%3A%200%2C%20%22seg_idx%22%3A%2020122%2C%20%22shape_array_key%22%3A%20%2221aedea4c0d05c570e042903cc62c9cf%22%2C%20%22stop_id%22%3A%20%2287202%22%2C%20%22stop_sequence%22%3A%200%7D%2C%20%22type%22%3A%20%22Feature%22%7D%2C%20%7B%22bbox%22%3A%20%5B-122.6313852040316%2C%2038.2469653226834%2C%20-122.62127995136046%2C%2038.252366313938204%5D%2C%20%22geometry%22%3A%20%7B%22coordinates%22%3A%20%5B%5B%5B-122.62252178102098%2C%2038.24771873501208%5D%2C%20%5B-122.62221501086226%2C%2038.24805390998142%5D%2C%20%5B-122.62221025617347%2C%2038.248058996550924%5D%2C%20%5B-122.62200025658619%2C%2038.24827899711347%5D%2C%20%5B-122.62197515436611%2C%2038.24830276905272%5D%2C%20%5B-122.62194720962387%2C%2038.24832449190733%5D%2C%20%5B-122.62191669148268%2C%2038.24834395647248%5D%2C%20%5B-122.6218838938499%2C%2038.24836097529197%5D%2C%20%5B-122.62184913258652%2C%2038.248375384463316%5D%2C%20%5B-122.62181274246527%2C%2038.248387045216965%5D%2C%20%5B-122.62177507394624%2C%2038.248395845252034%5D%2C%20%5B-122.62173648980193%2C%2038.24840169981842%5D%2C%20%5B-122.62169736162313%2C%2038.24840455253271%5D%2C%20%5B-122.62165806624031%2C%2038.248404375921375%5D%2C%20%5B-122.62161898209426%2C%2038.24840117168526%5D%2C%20%5B-122.62158048559131%2C%2038.248394970683385%5D%2C%20%5B-122.62154294747826%2C%2038.24838583263546%5D%2C%20%5B-122.62150672927156%2C%2038.2483738455469%5D%2C%20%5B-122.6214721797757%2C%2038.248359124861445%5D%2C%20%5B-122.6214396317238%2C%2038.24834181234878%5D%2C%20%5B-122.6214093985732%2C%2038.24832207473966%5D%2C%20%5B-122.62138177148654%2C%2038.24830010211991%5D%2C%20%5B-122.62135701652767%2C%2038.24827610609981%5D%2C%20%5B-122.62133537209945%2C%2038.24825031777594%5D%2C%20%5B-122.62131704664762%2C%2038.24822298550571%5D%2C%20%5B-122.62130221665365%2C%2038.24819437251547%5D%2C%20%5B-122.62129102493503%2C%2038.24816475436515%5D%2C%20%5B-122.62128357927018%2C%2038.24813441629485%5D%2C%20%5B-122.62127995136046%2C%2038.248103650477425%5D%2C%20%5B-122.62128017613993%2C%2038.24807275320489%5D%2C%20%5B-122.6212842514391%2C%2038.24804202203487%5D%2C%20%5B-122.6212921380059%2C%2038.24801175292487%5D%2C%20%5B-122.621303759884%2C%2038.24798223738231%5D%2C%20%5B-122.62131900514441%2C%2038.24795375965684%5D%2C%20%5B-122.62133772696363%2C%2038.24792659400329%5D%2C%20%5B-122.62135974503772%2C%2038.24790100204006%5D%2C%20%5B-122.62156733566843%2C%2038.24768352713417%5D%2C%20%5B-122.62210499198143%2C%2038.2470960906146%5D%2C%20%5B-122.62212943598402%2C%2038.24707196932626%5D%2C%20%5B-122.6221567641929%2C%2038.24704984431078%5D%2C%20%5B-122.62218671436477%2C%2038.24702992787931%5D%2C%20%5B-122.62221899909675%2C%2038.247012411149214%5D%2C%20%5B-122.62225330858435%2C%2038.24699746221035%5D%2C%20%5B-122.62228931359414%2C%2038.246985224512024%5D%2C%20%5B-122.62232666862315%2C%2038.246975815486536%5D%2C%20%5B-122.62236501521416%2C%2038.24696932542245%5D%2C%20%5B-122.6224039853953%2C%2038.246965816597886%5D%2C%20%5B-122.62244320521101%2C%2038.2469653226834%5D%2C%20%5B-122.6224822983103%2C%2038.246967848418635%5D%2C%20%5B-122.62252088955816%2C%2038.246973369566625%5D%2C%20%5B-122.62255860863512%2C%2038.2469818331469%5D%2C%20%5B-122.62259509359063%2C%2038.24699315794342%5D%2C%20%5B-122.6226299943164%2C%2038.24700723528393%5D%2C%20%5B-122.6226629759057%2C%2038.24702393008311%5D%2C%20%5B-122.62298261850819%2C%2038.24720372872657%5D%2C%20%5B-122.62606927490589%2C%2038.248931853743734%5D%2C%20%5B-122.62645625495048%2C%2038.24914022725766%5D%2C%20%5B-122.62646166301622%2C%2038.249143190979844%5D%2C%20%5B-122.6312165675439%2C%2038.251794768880444%5D%2C%20%5B-122.63124746823019%2C%2038.2518138581098%5D%2C%20%5B-122.63127584038698%2C%2038.251835236794804%5D%2C%20%5B-122.63130141077514%2C%2038.2518586990491%5D%2C%20%5B-122.63132393313711%2C%2038.25188401892011%5D%2C%20%5B-122.63134319056859%2C%2038.25191095256547%5D%2C%20%5B-122.63135899760749%2C%2038.251939240601075%5D%2C%20%5B-122.63137120202019%2C%2038.251968610599015%5D%2C%20%5B-122.63137968626764%2C%2038.25199877971132%5D%2C%20%5B-122.63138436863757%2C%2038.25202945739373%5D%2C%20%5B-122.6313852040316%2C%2038.252060348203855%5D%2C%20%5B-122.6313821843996%2C%2038.25209115464635%5D%2C%20%5B-122.63137533881759%2C%2038.2521215800381%5D%2C%20%5B-122.6313647332078%2C%2038.25215133136522%5D%2C%20%5B-122.63135046970393%2C%2038.25218012210527%5D%2C%20%5B-122.63133268566786%2C%2038.25220767498639%5D%2C%20%5B-122.63131155236668%2C%2038.25223372465767%5D%2C%20%5B-122.63128727332366%2C%2038.25225802024491%5D%2C%20%5B-122.63126008235817%2C%2038.25228032776637%5D%2C%20%5B-122.63123024133381%2C%2038.25230043238671%5D%2C%20%5B-122.63119803763671%2C%2038.25231814048539%5D%2C%20%5B-122.63116378140774%2C%2038.252333281522056%5D%2C%20%5B-122.63112780255553%2C%2038.25234570967864%5D%2C%20%5B-122.63109044757937%2C%2038.25235530526375%5D%2C%20%5B-122.63105207623194%2C%2038.25236197586554%5D%2C%20%5B-122.63101305805463%2C%2038.252365657241754%5D%2C%20%5B-122.63097376881848%2C%2038.252366313938204%5D%2C%20%5B-122.63093458690501%2C%2038.25236393963048%5D%2C%20%5B-122.63089588966227%2C%2038.25235855718481%5D%2C%20%5B-122.63085804977028%2C%2038.25235021843762%5D%2C%20%5B-122.63082143165198%2C%2038.252339003696676%5D%2C%20%5B-122.63078638796341%2C%2038.25232502096731%5D%2C%20%5B-122.63075325619725%2C%2038.25230840491239%5D%2C%20%5B-122.62600102391636%2C%2038.24965830795512%5D%2C%20%5B-122.62561374275097%2C%2038.249449771587436%5D%2C%20%5B-122.62560774255401%2C%2038.24944647695458%5D%2C%20%5B-122.62252178102098%2C%2038.24771873501208%5D%5D%5D%2C%20%22type%22%3A%20%22Polygon%22%7D%2C%20%22id%22%3A%20%2220083%22%2C%20%22properties%22%3A%20%7B%22district%22%3A%204%2C%20%22district_name%22%3A%20%22District%204%20-%20Oakland%22%2C%20%22feed_key%22%3A%20%22540e857d28ffdc628260ca22a21cb330%22%2C%20%22gtfs_dataset_key%22%3A%20%22bc21582ac1ad2b7de0647dfd5b76f67c%22%2C%20%22loop_or_inlining%22%3A%200%2C%20%22seg_idx%22%3A%2020123%2C%20%22shape_array_key%22%3A%20%2221aedea4c0d05c570e042903cc62c9cf%22%2C%20%22stop_id%22%3A%20%2287500%22%2C%20%22stop_sequence%22%3A%20105%7D%2C%20%22type%22%3A%20%22Feature%22%7D%2C%20%7B%22bbox%22%3A%20%5B-122.6336530896757%2C%2038.25173686030252%2C%20-122.63058462139988%2C%2038.25364066646789%5D%2C%20%22geometry%22%3A%20%7B%22coordinates%22%3A%20%5B%5B%5B-122.63123165484937%2C%2038.25180318173611%5D%2C%20%5B-122.63123285347494%2C%2038.25180385270906%5D%2C%20%5B-122.63348568449892%2C%2038.25306982199989%5D%2C%20%5B-122.63351649687779%2C%2038.253088999794244%5D%2C%20%5B-122.63354477007094%2C%2038.253110459772216%5D%2C%20%5B-122.63357023179229%2C%2038.253133995264356%5D%2C%20%5B-122.6335926368307%2C%2038.25315937961285%5D%2C%20%5B-122.63361176941181%2C%2038.253186368354385%5D%2C%20%5B-122.63362744527582%2C%2038.25321470157419%5D%2C%20%5B-122.63363951345241%2C%2038.253244106409234%5D%2C%20%5B-122.63364785771451%2C%2038.253274299676065%5D%2C%20%5B-122.633652397698%2C%2038.25330499059772%5D%2C%20%5B-122.6336530896757%2C%2038.25333588360434%5D%2C%20%5B-122.63364992697872%2C%2038.253366681179415%5D%2C%20%5B-122.63364294006085%2C%2038.2533970867252%5D%2C%20%5B-122.63363219620545%2C%2038.25342680741895%5D%2C%20%5B-122.63361779887767%2C%2038.253455557033156%5D%2C%20%5B-122.63359988672812%2C%2038.253483058692034%5D%2C%20%5B-122.63357863225784%2C%2038.25350904753809%5D%2C%20%5B-122.63355424015701%2C%2038.25353327328273%5D%2C%20%5B-122.63352694533376%2C%2038.253555502616976%5D%2C%20%5B-122.63349701065205%2C%2038.25357552145831%5D%2C%20%5B-122.63346472439997%2C%2038.253593137012416%5D%2C%20%5B-122.63343039751341%2C%2038.25360817963024%5D%2C%20%5B-122.63339436058163%2C%2038.25362050444137%5D%2C%20%5B-122.6333569606632%2C%2038.25362999274989%5D%2C%20%5B-122.63331855794367%2C%2038.25363655317697%5D%2C%20%5B-122.63327952226653%2C%2038.25364012254148%5D%2C%20%5B-122.63324022957138%2C%2038.25364066646789%5D%2C%20%5B-122.63320105827312%2C%2038.253638179717925%5D%2C%20%5B-122.63316238561747%2C%2038.25363268624064%5D%2C%20%5B-122.63312458404769%2C%2038.25362423894188%5D%2C%20%5B-122.63308801761765%2C%2038.253612919174714%5D%2C%20%5B-122.63305303848557%2C%2038.25359883595602%5D%2C%20%5B-122.63301998352237%2C%2038.25358212491642%5D%2C%20%5B-122.63076774345564%2C%2038.25231648320346%5D%2C%20%5B-122.63075325619725%2C%2038.25230840491239%5D%2C%20%5B-122.63072235543251%2C%2038.25228931555534%5D%2C%20%5B-122.63069398326164%2C%2038.252267936738924%5D%2C%20%5B-122.63066841292427%2C%2038.25224447435466%5D%2C%20%5B-122.63064589067605%2C%2038.25221915436019%5D%2C%20%5B-122.63062663341692%2C%2038.25219222060249%5D%2C%20%5B-122.63061082660226%2C%2038.25216393247006%5D%2C%20%5B-122.6305986224572%2C%2038.252134562394424%5D%2C%20%5B-122.6305901385104%2C%2038.252104393226716%5D%2C%20%5B-122.63058545646263%2C%2038.25207371551317%5D%2C%20%5B-122.63058462139988%2C%2038.25204282469746%5D%2C%20%5B-122.63058764135953%2C%2038.25201201827512%5D%2C%20%5B-122.63059448725298%2C%2038.2519815929285%5D%2C%20%5B-122.63060509314603%2C%2038.2519518416697%5D%2C%20%5B-122.6306193568941%2C%2038.25192305101856%5D%2C%20%5B-122.63063714112594%2C%2038.25189549824363%5D%2C%20%5B-122.63065827456691%2C%2038.251869448691544%5D%2C%20%5B-122.63068255368837%2C%2038.25184515323208%5D%2C%20%5B-122.63070974466795%2C%2038.25182284584194%5D%2C%20%5B-122.63073958564152%2C%2038.251802741351625%5D%2C%20%5B-122.63077178922485%2C%2038.25178503337642%5D%2C%20%5B-122.63080604528152%2C%2038.25176989245205%5D%2C%20%5B-122.63084202390945%2C%2038.25175746439234%5D%2C%20%5B-122.63087937861798%2C%2038.251747868884884%5D%2C%20%5B-122.63091774966475%2C%2038.25174119833849%5D%2C%20%5B-122.6309567675199%2C%2038.25173751699337%5D%2C%20%5B-122.63099605642479%2C%2038.25173686030252%5D%2C%20%5B-122.6310352380106%2C%2038.25173923459004%5D%2C%20%5B-122.63107393494191%2C%2038.25174461699065%5D%2C%20%5B-122.63111177455063%2C%2038.25175295566951%5D%2C%20%5B-122.63114839242472%2C%2038.251764170321515%5D%2C%20%5B-122.6311834359175%2C%2038.25177815294479%5D%2C%20%5B-122.6312165675439%2C%2038.251794768880444%5D%2C%20%5B-122.63123165484937%2C%2038.25180318173611%5D%5D%5D%2C%20%22type%22%3A%20%22Polygon%22%7D%2C%20%22id%22%3A%20%2220084%22%2C%20%22properties%22%3A%20%7B%22district%22%3A%204%2C%20%22district_name%22%3A%20%22District%204%20-%20Oakland%22%2C%20%22feed_key%22%3A%20%22540e857d28ffdc628260ca22a21cb330%22%2C%20%22gtfs_dataset_key%22%3A%20%22bc21582ac1ad2b7de0647dfd5b76f67c%22%2C%20%22loop_or_inlining%22%3A%200%2C%20%22seg_idx%22%3A%2020124%2C%20%22shape_array_key%22%3A%20%2221aedea4c0d05c570e042903cc62c9cf%22%2C%20%22stop_id%22%3A%20%2287501%22%2C%20%22stop_sequence%22%3A%20120%7D%2C%20%22type%22%3A%20%22Feature%22%7D%2C%20%7B%22bbox%22%3A%20%5B-122.63912022184543%2C%2038.253011280900644%2C%20-122.63285258005232%2C%2038.25676602549899%5D%2C%20%22geometry%22%3A%20%7B%22coordinates%22%3A%20%5B%5B%5B-122.6334928496761%2C%2038.25307384830678%5D%2C%20%5B-122.6334955164429%2C%2038.25307535987611%5D%2C%20%5B-122.63893514105472%2C%2038.256185139576395%5D%2C%20%5B-122.63895480513838%2C%2038.25619632701148%5D%2C%20%5B-122.63898547464956%2C%2038.256215647121586%5D%2C%20%5B-122.63901358782083%2C%2038.2562372376219%5D%2C%20%5B-122.63903887390708%2C%2038.25626089058584%5D%2C%20%5B-122.63906108938868%2C%2038.25628637822436%5D%2C%20%5B-122.63908002031665%2C%2038.25631345507937%5D%2C%20%5B-122.63909548437326%2C%2038.256341860387465%5D%2C%20%5B-122.63910733262789%2C%2038.2563713205914%5D%2C%20%5B-122.63911545097147%2C%2038.256401551974456%5D%2C%20%5B-122.63911976121554%2C%2038.25643226339262%5D%2C%20%5B-122.63912022184543%2C%2038.256463159078486%5D%2C%20%5B-122.63911682842027%2C%2038.2564939414899%5D%2C%20%5B-122.63910961361586%2C%2038.25652431417496%5D%2C%20%5B-122.6390986469103%2C%2038.25655398462746%5D%2C%20%5B-122.63908403391488%2C%2038.256582667103714%5D%2C%20%5B-122.63906591535729%2C%2038.25661008537446%5D%2C%20%5B-122.63904446572646%2C%2038.2566359753853%5D%2C%20%5B-122.63901989159206%2C%2038.25666008779948%5D%2C%20%5B-122.63899242961543%2C%2038.25668219039942%5D%2C%20%5B-122.63896234427028%2C%2038.256702070323115%5D%2C%20%5B-122.63892992529577%2C%2038.256719536114176%5D%2C%20%5B-122.63889548490609%2C%2038.256734419565674%5D%2C%20%5B-122.63885935478352%2C%2038.256746577340294%5D%2C%20%5B-122.63882188288424%2C%2038.25675589235069%5D%2C%20%5B-122.63878343008702%2C%2038.256762274886974%5D%2C%20%5B-122.6387443667177%2C%2038.25676566348118%5D%2C%20%5B-122.63870506898249%2C%2038.25676602549899%5D%2C%20%5B-122.63866591534487%2C%2038.25676335745369%5D%2C%20%5B-122.63862728288049%2C%2038.25675768504046%5D%2C%20%5B-122.63858954364552%2C%2038.256749062888474%5D%2C%20%5B-122.6385530610935%2C%2038.25673757403468%5D%2C%20%5B-122.63851818657474%2C%2038.256723329124455%5D%2C%20%5B-122.63848525595274%2C%2038.256706465345445%5D%2C%20%5B-122.63846522457112%2C%2038.25669506890295%5D%2C%20%5B-122.63846449070604%2C%2038.25669465038949%5D%2C%20%5B-122.63302581138994%2C%2038.253585399764674%5D%2C%20%5B-122.63301998352237%2C%2038.25358212491642%5D%2C%20%5B-122.63298917106742%2C%2038.25356294699407%5D%2C%20%5B-122.63296089786257%2C%2038.253541486884714%5D%2C%20%5B-122.63293543619446%2C%2038.25351795126283%5D%2C%20%5B-122.63291303127205%2C%2038.25349256679111%5D%2C%20%5B-122.63289389886536%2C%2038.25346557793775%5D%2C%20%5B-122.63287822322737%2C%2038.25343724462175%5D%2C%20%5B-122.63286615531986%2C%2038.25340783970985%5D%2C%20%5B-122.63285781135943%2C%2038.25337764638845%5D%2C%20%5B-122.63285327169866%2C%2038.2533469554366%5D%2C%20%5B-122.63285258005232%2C%2038.253316062425355%5D%2C%20%5B-122.6328557430766%2C%2038.25328526487136%5D%2C%20%5B-122.63286273030509%2C%2038.25325485937162%5D%2C%20%5B-122.63287347444252%2C%2038.25322513874703%5D%2C%20%5B-122.63288787201287%2C%2038.25319638922245%5D%2C%20%5B-122.63290578435623%2C%2038.25316888767021%5D%2C%20%5B-122.63292703896408%2C%2038.25314289894384%5D%2C%20%5B-122.63295143114102%2C%2038.253118673327215%5D%2C%20%5B-122.63297872597593%2C%2038.25309644412434%5D%2C%20%5B-122.63300866060446%2C%2038.2530764254128%5D%2C%20%5B-122.63304094674051%2C%2038.253058809981866%5D%2C%20%5B-122.63307527345265%2C%2038.25304376747587%5D%2C%20%5B-122.63311131015837%2C%2038.25303144276093%5D%2C%20%5B-122.63314870980776%2C%2038.253021954529295%5D%2C%20%5B-122.6331871122256%2C%2038.253015394156755%5D%2C%20%5B-122.63322614758002%2C%2038.25301182482247%5D%2C%20%5B-122.63326543994378%2C%2038.253011280900644%5D%2C%20%5B-122.63330461091478%2C%2038.25301376762953%5D%2C%20%5B-122.6333432832598%2C%2038.253019261060814%5D%2C%20%5B-122.63338108454758%2C%2038.25302770829044%5D%2C%20%5B-122.63341765073503%2C%2038.25303902796793%5D%2C%20%5B-122.63345262967333%2C%2038.2530531110799%5D%2C%20%5B-122.63348568449892%2C%2038.25306982199989%5D%2C%20%5B-122.6334928496761%2C%2038.25307384830678%5D%5D%5D%2C%20%22type%22%3A%20%22Polygon%22%7D%2C%20%22id%22%3A%20%2220085%22%2C%20%22properties%22%3A%20%7B%22district%22%3A%204%2C%20%22district_name%22%3A%20%22District%204%20-%20Oakland%22%2C%20%22feed_key%22%3A%20%22540e857d28ffdc628260ca22a21cb330%22%2C%20%22gtfs_dataset_key%22%3A%20%22bc21582ac1ad2b7de0647dfd5b76f67c%22%2C%20%22loop_or_inlining%22%3A%200%2C%20%22seg_idx%22%3A%2020125%2C%20%22shape_array_key%22%3A%20%2221aedea4c0d05c570e042903cc62c9cf%22%2C%20%22stop_id%22%3A%20%2287502%22%2C%20%22stop_sequence%22%3A%20180%7D%2C%20%22type%22%3A%20%22Feature%22%7D%2C%20%7B%22bbox%22%3A%20%5B-122.6419514591245%2C%2038.25613676731722%2C%20-122.63831984097878%2C%2038.25837670336824%5D%2C%20%22geometry%22%3A%20%7B%22coordinates%22%3A%20%5B%5B%5B-122.64176462122163%2C%2038.2577948409026%5D%2C%20%5B-122.64178571916503%2C%2038.25780682004961%5D%2C%20%5B-122.64181641247696%2C%2038.25782611743854%5D%2C%20%5B-122.64184455211556%2C%2038.257847687110434%5D%2C%20%5B-122.64186986708084%2C%2038.25787132133947%5D%2C%20%5B-122.64189211357501%2C%2038.25789679251704%5D%2C%20%5B-122.64191107735049%2C%2038.2579238553433%5D%2C%20%5B-122.64192657577316%2C%2038.257952249190346%5D%2C%20%5B-122.64193845958148%2C%2038.25798170061112%5D%2C%20%5B-122.64194661432397%2C%2038.25801192597335%5D%2C%20%5B-122.64195096146163%2C%2038.25804263419121%5D%2C%20%5B-122.6419514591245%2C%2038.2580735295282%5D%2C%20%5B-122.64194810251504%2C%2038.25810431444521%5D%2C%20%5B-122.64194092395454%2C%2038.258134692466484%5D%2C%20%5B-122.64192999257196%2C%2038.25816437103434%5D%2C%20%5B-122.64191541363851%2C%2038.2581930643269%5D%2C%20%5B-122.6418973275538%2C%2038.25822049601085%5D%2C%20%5B-122.64187590849396%2C%2038.258246401902504%5D%2C%20%5B-122.64185136273429%2C%2038.25827053251219%5D%2C%20%5B-122.64182392666287%2C%2038.25829265544709%5D%2C%20%5B-122.6417938645039%2C%2038.2583125576495%5D%2C%20%5B-122.64176146577324%2C%2038.25833004744825%5D%2C%20%5B-122.64172704249009%2C%2038.258344956405395%5D%2C%20%5B-122.64169092617202%2C%2038.25835714093788%5D%2C%20%5B-122.64165346464225%2C%2038.258366483700605%5D%2C%20%5B-122.64161501867963%2C%2038.25837289471661%5D%2C%20%5B-122.6415759585442%2C%2038.25837631224351%5D%2C%20%5B-122.64153666041108%2C%2038.25837670336824%5D%2C%20%5B-122.64149750274753%2C%2038.258374064323974%5D%2C%20%5B-122.64145886266795%2C%2038.25836842052663%5D%2C%20%5B-122.64142111230193%2C%2038.25835982632949%5D%2C%20%5B-122.64138461521011%2C%2038.258348364500605%5D%2C%20%5B-122.64134972288295%2C%2038.25833414542484%5D%2C%20%5B-122.64131677135536%2C%2038.25831730604125%5D%2C%20%5B-122.64129552525742%2C%2038.25830524273008%5D%2C%20%5B-122.63848525595274%2C%2038.256706465345445%5D%2C%20%5B-122.63845458636925%2C%2038.25668714510695%5D%2C%20%5B-122.63842647319022%2C%2038.256665554475234%5D%2C%20%5B-122.63840118716104%2C%2038.256641901381705%5D%2C%20%5B-122.63837897179913%2C%2038.25661641362054%5D%2C%20%5B-122.63836004104886%2C%2038.256589336654564%5D%2C%20%5B-122.63834457722118%2C%2038.25656093125127%5D%2C%20%5B-122.63833272923789%2C%2038.25653147097173%5D%2C%20%5B-122.63832461119762%2C%2038.25650123953553%5D%2C%20%5B-122.63832030127718%2C%2038.25647052808874%5D%2C%20%5B-122.63831984097878%2C%2038.256439632399726%5D%2C%20%5B-122.63832323473062%2C%2038.25640885001097%5D%2C%20%5B-122.63833044984429%2C%2038.25637847737339%5D%2C%20%5B-122.63834141682982%2C%2038.256348806991376%5D%2C%20%5B-122.63835603006514%2C%2038.25632012460588%5D%2C%20%5B-122.63837414881336%2C%2038.256292706442736%5D%2C%20%5B-122.63839559857824%2C%2038.256266816552184%5D%2C%20%5B-122.63842017278495%2C%2038.25624270426638%5D%2C%20%5B-122.63844763476935%2C%2038.256220601797864%5D%2C%20%5B-122.63847772005744%2C%2038.25620072200375%5D%2C%20%5B-122.63851013891224%2C%2038.25618325633531%5D%2C%20%5B-122.63854457912423%2C%2038.25616837299482%5D%2C%20%5B-122.63858070901786%2C%2038.25615621531536%5D%2C%20%5B-122.63861818064579%2C%2038.25614690038062%5D%2C%20%5B-122.63865663313972%2C%2038.256140517897414%5D%2C%20%5B-122.63869569618542%2C%2038.25613712933187%5D%2C%20%5B-122.63873499358911%2C%2038.25613676731722%5D%2C%20%5B-122.63877414690006%2C%2038.25613943533983%5D%2C%20%5B-122.6388127790552%2C%2038.25614510770559%5D%2C%20%5B-122.63885051801019%2C%2038.25615372978715%5D%2C%20%5B-122.63888700032231%2C%2038.2561652185501%5D%2C%20%5B-122.6389218746504%2C%2038.256179463352794%5D%2C%20%5B-122.6389548051384%2C%2038.25619632701148%5D%2C%20%5B-122.64176462122163%2C%2038.2577948409026%5D%5D%5D%2C%20%22type%22%3A%20%22Polygon%22%7D%2C%20%22id%22%3A%20%2220086%22%2C%20%22properties%22%3A%20%7B%22district%22%3A%204%2C%20%22district_name%22%3A%20%22District%204%20-%20Oakland%22%2C%20%22feed_key%22%3A%20%22540e857d28ffdc628260ca22a21cb330%22%2C%20%22gtfs_dataset_key%22%3A%20%22bc21582ac1ad2b7de0647dfd5b76f67c%22%2C%20%22loop_or_inlining%22%3A%200%2C%20%22seg_idx%22%3A%2020126%2C%20%22shape_array_key%22%3A%20%2221aedea4c0d05c570e042903cc62c9cf%22%2C%20%22stop_id%22%3A%20%2287503%22%2C%20%22stop_sequence%22%3A%20200%7D%2C%20%22type%22%3A%20%22Feature%22%7D%2C%20%7B%22bbox%22%3A%20%5B-122.64466826082875%2C%2038.25774742318078%2C%20-122.6411510331249%2C%2038.25991919499197%5D%2C%20%22geometry%22%3A%20%7B%22coordinates%22%3A%20%5B%5B%5B-122.6444942271368%2C%2038.25934461434185%5D%2C%20%5B-122.64450200316617%2C%2038.259349015291676%5D%2C%20%5B-122.64453273430114%2C%2038.25936827606889%5D%2C%20%5B-122.64456091609593%2C%2038.259389812171435%5D%2C%20%5B-122.64458627714457%2C%2038.259413416196715%5D%2C%20%5B-122.64460857320555%2C%2038.25943886082694%5D%2C%20%5B-122.64462758955388%2C%2038.25946590101826%5D%2C%20%5B-122.64464314304918%2C%2038.25949427636032%5D%2C%20%5B-122.64465508389954%2C%2038.2595237135845%5D%2C%20%5B-122.64466329710413%2C%2038.259553929195384%5D%2C%20%5B-122.64466770356094%2C%2038.25958463220091%5D%2C%20%5B-122.64466826082875%2C%2038.259615526914615%5D%2C%20%5B-122.64466496353599%2C%2038.259646315803764%5D%2C%20%5B-122.64465784343264%2C%2038.25967670235407%5D%2C%20%5B-122.64464696908479%2C%2038.25970639392582%5D%2C%20%5B-122.64463244521424%2C%2038.25973510457197%5D%2C%20%5B-122.6446144116904%2C%2038.25976255779197%5D%2C%20%5B-122.64459304218313%2C%2038.25978848919477%5D%2C%20%5B-122.64456854249057%2C%2038.25981264904501%5D%2C%20%5B-122.64454114855707%2C%2038.25983480466833%5D%2C%20%5B-122.64451112420105%2C%2038.25985474269202%5D%2C%20%5B-122.64447875857428%2C%2038.25987227110024%5D%2C%20%5B-122.64444436337712%2C%2038.25988722108303%5D%2C%20%5B-122.64440826985665%2C%2038.25989944866224%5D%2C%20%5B-122.6443708256165%2C%2038.25990883607818%5D%2C%20%5B-122.6443323912691%2C%2038.25991529292396%5D%2C%20%5B-122.64429333696252%2C%2038.259918757015654%5D%2C%20%5B-122.6442540388158%2C%2038.25991919499197%5D%2C%20%5B-122.64421487529631%2C%2038.25991660263473%5D%2C%20%5B-122.64417622357486%2C%2038.25991100491007%5D%2C%20%5B-122.6441384558931%2C%2038.25990245572795%5D%2C%20%5B-122.64410193597855%2C%2038.25989103742257%5D%2C%20%5B-122.6440670155414%2C%2038.25987685995976%5D%2C%20%5B-122.64403403088728%2C%2038.25986005987775%5D%2C%20%5B-122.64402601304515%2C%2038.25985552205424%5D%2C%20%5B-122.64402552973029%2C%2038.259855248085216%5D%2C%20%5B-122.64131677135536%2C%2038.25831730604125%5D%2C%20%5B-122.6412860779705%2C%2038.258298008524%5D%2C%20%5B-122.64125793832352%2C%2038.25827643872059%5D%2C%20%5B-122.64123262341468%2C%2038.25825280436194%5D%2C%20%5B-122.64121037703963%2C%2038.258227333061726%5D%2C%20%5B-122.64119141344135%2C%2038.258200270124235%5D%2C%20%5B-122.64117591524715%2C%2038.25817187618193%5D%2C%20%5B-122.64116403170982%2C%2038.25814242468536%5D%2C%20%5B-122.6411558772704%2C%2038.25811219926968%5D%2C%20%5B-122.64115153045624%2C%2038.25808149102293%5D%2C%20%5B-122.6411510331249%2C%2038.25805059568266%5D%2C%20%5B-122.64115439006113%2C%2038.258019810788%5D%2C%20%5B-122.64116156893112%2C%2038.257989432813964%5D%2C%20%5B-122.641172500594%2C%2038.25795975431637%5D%2C%20%5B-122.64118707976782%2C%2038.257931061114384%5D%2C%20%5B-122.64120516604369%2C%2038.2579036295379%5D%2C%20%5B-122.64122658523816%2C%2038.257877723766484%5D%2C%20%5B-122.64125113107072%2C%2038.257853593285105%5D%2C%20%5B-122.64127856715055%2C%2038.25783147048159%5D%2C%20%5B-122.64130862925309%2C%2038.25781156840885%5D%2C%20%5B-122.64134102786463%2C%2038.257794078732836%5D%2C%20%5B-122.64137545097059%2C%2038.257779169886874%5D%2C%20%5B-122.64141156706016%2C%2038.25776698544972%5D%2C%20%5B-122.64144902831896%2C%2038.25775764276276%5D%2C%20%5B-122.6414874739785%2C%2038.25775123180014%5D%2C%20%5B-122.64152653379041%2C%2038.257747814302185%5D%2C%20%5B-122.64156583159203%2C%2038.25774742318078%5D%2C%20%5B-122.6416049889288%2C%2038.2577500622026%5D%2C%20%5B-122.64164362869889%2C%2038.25775570595277%5D%2C%20%5B-122.64168137878461%2C%2038.25776430007956%5D%2C%20%5B-122.64171787563605%2C%2038.25777576181791%5D%2C%20%5B-122.64175276777205%2C%2038.25778998078619%5D%2C%20%5B-122.64178571916503%2C%2038.25780682004961%5D%2C%20%5B-122.6444942271368%2C%2038.25934461434185%5D%5D%5D%2C%20%22type%22%3A%20%22Polygon%22%7D%2C%20%22id%22%3A%20%2220087%22%2C%20%22properties%22%3A%20%7B%22district%22%3A%204%2C%20%22district_name%22%3A%20%22District%204%20-%20Oakland%22%2C%20%22feed_key%22%3A%20%22540e857d28ffdc628260ca22a21cb330%22%2C%20%22gtfs_dataset_key%22%3A%20%22bc21582ac1ad2b7de0647dfd5b76f67c%22%2C%20%22loop_or_inlining%22%3A%200%2C%20%22seg_idx%22%3A%2020127%2C%20%22shape_array_key%22%3A%20%2221aedea4c0d05c570e042903cc62c9cf%22%2C%20%22stop_id%22%3A%20%2287504%22%2C%20%22stop_sequence%22%3A%20220%7D%2C%20%22type%22%3A%20%22Feature%22%7D%2C%20%7B%22bbox%22%3A%20%5B-122.64832475376075%2C%2038.25928988063394%2C%20-122.64386777494704%2C%2038.26198806471433%5D%2C%20%22geometry%22%3A%20%7B%22coordinates%22%3A%20%5B%5B%5B-122.64813116062317%2C%2038.261402875256515%5D%2C%20%5B-122.64815262426869%2C%2038.261414582732385%5D%2C%20%5B-122.64818377745046%2C%2038.26143342068374%5D%2C%20%5B-122.64821243191196%2C%2038.26145456845235%5D%2C%20%5B-122.64823831169528%2C%2038.26147782237551%5D%2C%20%5B-122.64826116756342%2C%2038.26150295850711%5D%2C%20%5B-122.64828077940027%2C%2038.26152973477429%5D%2C%20%5B-122.64829695833075%2C%2038.26155789330849%5D%2C%20%5B-122.64830954853974%2C%2038.261587162929196%5D%2C%20%5B-122.64831842877284%2C%2038.26161726175506%5D%2C%20%5B-122.64832351350431%2C%2038.261647899918685%5D%2C%20%5B-122.64832475376075%2C%2038.26167878235835%5D%2C%20%5B-122.64832213759304%2C%2038.2617096116595%5D%2C%20%5B-122.6483156901916%2C%2038.2617400909187%5D%2C%20%5B-122.6483054736439%2C%2038.2617699266035%5D%2C%20%5B-122.64829158633674%2C%2038.261798831378954%5D%2C%20%5B-122.6482741620089%2C%2038.261826526875%5D%2C%20%5B-122.6482533684633%2C%2038.26185274636746%5D%2C%20%5B-122.64822940595104%2C%2038.26187723734653%5D%2C%20%5B-122.64820250524299%2C%2038.26189976394888%5D%2C%20%5B-122.64817292540735%2C%2038.26192010922904%5D%2C%20%5B-122.64814095131477%2C%2038.2619380772491%5D%2C%20%5B-122.64810689089478%2C%2038.261953494965326%5D%2C%20%5B-122.64807107217023%2C%2038.26196621389504%5D%2C%20%5B-122.64803384009817%2C%2038.26197611154665%5D%2C%20%5B-122.64799555324763%2C%2038.26198309259917%5D%2C%20%5B-122.64795658034619%2C%2038.261987089820344%5D%2C%20%5B-122.64791729672876%2C%2038.26198806471433%5D%2C%20%5B-122.64787808072289%2C%2038.26198600789226%5D%2C%20%5B-122.64783931000488%2C%2038.261980939162704%5D%2C%20%5B-122.64780135796241%2C%2038.26197290734086%5D%2C%20%5B-122.64776459009856%2C%2038.26196198977854%5D%2C%20%5B-122.64772936051153%2C%2038.26194829161911%5D%2C%20%5B-122.6476960084844%2C%2038.261931944784834%5D%2C%20%5B-122.64767169127171%2C%2038.261918680767735%5D%2C%20%5B-122.64766601905728%2C%2038.261915529179674%5D%2C%20%5B-122.64403403088728%2C%2038.25986005987775%5D%2C%20%5B-122.64400329967843%2C%2038.25984079897231%5D%2C%20%5B-122.64397511787425%2C%2038.25981926273834%5D%2C%20%5B-122.64394975688104%2C%2038.25979565858342%5D%2C%20%5B-122.64392746093826%2C%2038.259770213830265%5D%2C%20%5B-122.64390844476628%2C%2038.259743173527575%5D%2C%20%5B-122.64389289149874%2C%2038.259714798089945%5D%2C%20%5B-122.64388095091881%2C%2038.25968536078955%5D%2C%20%5B-122.64387273801687%2C%2038.25965514512493%5D%2C%20%5B-122.64386833188335%2C%2038.259624442090136%5D%2C%20%5B-122.64386777494704%2C%2038.25959354737269%5D%2C%20%5B-122.6438710725668%2C%2038.25956275850555%5D%2C%20%5B-122.64387819298%2C%2038.25953237200211%5D%2C%20%5B-122.64388906760874%2C%2038.25950268050028%5D%2C%20%5B-122.6439035917203%2C%2038.25947396994445%5D%2C%20%5B-122.64392162543616%2C%2038.25944651683176%5D%2C%20%5B-122.64394299507894%2C%2038.25942058554897%5D%2C%20%5B-122.6439674948454%2C%2038.25939642582692%5D%2C%20%5B-122.64399488878831%2C%2038.259374270335066%5D%2C%20%5B-122.64402491308887%2C%2038.25935433244102%5D%2C%20%5B-122.64405727859747%2C%2038.25933680415569%5D%2C%20%5B-122.6440916736183%2C%2038.259321854284316%5D%2C%20%5B-122.64412776691098%2C%2038.25930962680072%5D%2C%20%5B-122.64416521088071%2C%2038.259300239460856%5D%2C%20%5B-122.64420364492545%2C%2038.25929378266892%5D%2C%20%5B-122.64424269890874%2C%2038.25929031860641%5D%2C%20%5B-122.64428199672396%2C%2038.25928988063394%5D%2C%20%5B-122.6443211599165%2C%2038.259292472969186%5D%2C%20%5B-122.64435981132806%2C%2038.259298070646885%5D%2C%20%5B-122.64439757872896%2C%2038.25930661975911%5D%2C%20%5B-122.64443409840244%2C%2038.25931803797419%5D%2C%20%5B-122.64446901864764%2C%2038.25933221532975%5D%2C%20%5B-122.6445020031662%2C%2038.259349015291676%5D%2C%20%5B-122.64813116062317%2C%2038.261402875256515%5D%5D%5D%2C%20%22type%22%3A%20%22Polygon%22%7D%2C%20%22id%22%3A%20%2220088%22%2C%20%22properties%22%3A%20%7B%22district%22%3A%204%2C%20%22district_name%22%3A%20%22District%204%20-%20Oakland%22%2C%20%22feed_key%22%3A%20%22540e857d28ffdc628260ca22a21cb330%22%2C%20%22gtfs_dataset_key%22%3A%20%22bc21582ac1ad2b7de0647dfd5b76f67c%22%2C%20%22loop_or_inlining%22%3A%200%2C%20%22seg_idx%22%3A%2020128%2C%20%22shape_array_key%22%3A%20%2221aedea4c0d05c570e042903cc62c9cf%22%2C%20%22stop_id%22%3A%20%2287505%22%2C%20%22stop_sequence%22%3A%20240%7D%2C%20%22type%22%3A%20%22Feature%22%7D%2C%20%7B%22bbox%22%3A%20%5B-122.65037353737586%2C%2038.26135846323855%2C%20-122.64752388063641%2C%2038.26314212447898%5D%2C%20%22geometry%22%3A%20%7B%22coordinates%22%3A%20%5B%5B%5B-122.64845830654959%2C%2038.261581318177804%5D%2C%20%5B-122.6484651195343%2C%2038.26158511767743%5D%2C%20%5B-122.64953383024937%2C%2038.26219438156179%5D%2C%20%5B-122.65019253420871%2C%2038.262563654329234%5D%2C%20%5B-122.65020603546115%2C%2038.262571236384915%5D%2C%20%5B-122.65023685720216%2C%2038.26259040880332%5D%2C%20%5B-122.65026514008059%2C%2038.26261186385254%5D%2C%20%5B-122.65029061171703%2C%2038.26263539491074%5D%2C%20%5B-122.65031302680497%2C%2038.26266077536281%5D%2C%20%5B-122.65033216947316%2C%2038.262687760782825%5D%2C%20%5B-122.65034785536471%2C%2038.262716091288134%5D%2C%20%5B-122.6503599334127%2C%2038.2627454940418%5D%2C%20%5B-122.65036828729504%2C%2038.262775685880364%5D%2C%20%5B-122.65037283655494%2C%2038.262806376040764%5D%2C%20%5B-122.65037353737586%2C%2038.262837268960354%5D%2C%20%5B-122.65037038300376%2C%2038.26286806712351%5D%2C%20%5B-122.65036340381225%2C%2038.262898473926725%5D%2C%20%5B-122.6503526670103%2C%2038.2629281965353%5D%2C%20%5B-122.6503382759951%2C%2038.262956948703234%5D%2C%20%5B-122.65032036935649%2C%2038.262984453530116%5D%2C%20%5B-122.65029911954241%2C%2038.26301044612787%5D%2C%20%5B-122.65027473119822%2C%2038.26303467617195%5D%2C%20%5B-122.65024743919587%2C%2038.26305691031187%5D%2C%20%5B-122.65021750637212%2C%2038.263076934418784%5D%2C%20%5B-122.65018522099717%2C%2038.26309455564779%5D%2C%20%5B-122.65015089399854%2C%2038.263109604295%5D%2C%20%5B-122.65011485596645%2C%2038.263121935432125%5D%2C%20%5B-122.65007745397011%2C%2038.263131430302224%5D%2C%20%5B-122.6500390482151%2C%2038.26313799746333%5D%2C%20%5B-122.65000000857417%2C%2038.263141573669316%5D%2C%20%5B-122.649960711025%2C%2038.26314212447898%5D%2C%20%5B-122.64992153402933%2C%2038.263139644587646%5D%2C%20%5B-122.64988285488771%2C%2038.26313415787825%5D%2C%20%5B-122.64984504610585%2C%2038.26312571719157%5D%2C%20%5B-122.64980847180715%2C%2038.26311440381695%5D%2C%20%5B-122.6497734842255%2C%2038.26310032670975%5D%2C%20%5B-122.6497404203133%2C%2038.263083621441595%5D%2C%20%5B-122.64972732785704%2C%2038.26307626880099%5D%2C%20%5B-122.64906746307612%2C%2038.26270634394636%5D%2C%20%5B-122.64906488059246%2C%2038.26270488397674%5D%2C%20%5B-122.647998260159%2C%2038.262096809563886%5D%2C%20%5B-122.6476960084844%2C%2038.261931944784834%5D%2C%20%5B-122.64766485521751%2C%2038.261913106706366%5D%2C%20%5B-122.6476362007351%2C%2038.26189195880644%5D%2C%20%5B-122.64761032099582%2C%2038.26186870475293%5D%2C%20%5B-122.64758746523503%2C%2038.26184356849688%5D%2C%20%5B-122.64756785356467%2C%2038.261816792115994%5D%2C%20%5B-122.64755167485346%2C%2038.26178863348305%5D%2C%20%5B-122.64753908490808%2C%2038.261759363782524%5D%2C%20%5B-122.64753020497274%2C%2038.261729264898776%5D%2C%20%5B-122.64752512056184%2C%2038.2616986267014%5D%2C%20%5B-122.64752388063641%2C%2038.26166774425339%5D%2C%20%5B-122.64752649713283%2C%2038.261636914969785%5D%2C%20%5B-122.64753294484805%2C%2038.26160643575318%5D%2C%20%5B-122.64754316168262%2C%2038.261576600134376%5D%2C%20%5B-122.64755704923859%2C%2038.261547695445906%5D%2C%20%5B-122.64757447376772%2C%2038.26152000005435%5D%2C%20%5B-122.6475952674593%2C%2038.26149378067998%5D%2C%20%5B-122.64761923005665%2C%2038.26146928982809%5D%2C%20%5B-122.64764613078565%2C%2038.26144676335699%5D%2C%20%5B-122.6476757105772%2C%2038.26142641820716%5D%2C%20%5B-122.64770768456246%2C%2038.261408450311535%5D%2C%20%5B-122.64774174481593%2C%2038.26139303270909%5D%2C%20%5B-122.64777756332124%2C%2038.26138031387807%5D%2C%20%5B-122.6478147951297%2C%2038.26137041630631%5D%2C%20%5B-122.64785308168246%2C%2038.26136343531172%5D%2C%20%5B-122.64789205426335%2C%2038.261359438124195%5D%2C%20%5B-122.64793133754976%2C%2038.26135846323855%5D%2C%20%5B-122.64797055322693%2C%2038.261360520043134%5D%2C%20%5B-122.64800932363116%2C%2038.26136558873014%5D%2C%20%5B-122.64804727538679%2C%2038.26137362048594%5D%2C%20%5B-122.6480840430018%2C%2038.26138453796129%5D%2C%20%5B-122.64811927238753%2C%2038.261398236016234%5D%2C%20%5B-122.64815262426869%2C%2038.261414582732385%5D%2C%20%5B-122.64845830654959%2C%2038.261581318177804%5D%5D%5D%2C%20%22type%22%3A%20%22Polygon%22%7D%2C%20%22id%22%3A%20%2220089%22%2C%20%22properties%22%3A%20%7B%22district%22%3A%204%2C%20%22district_name%22%3A%20%22District%204%20-%20Oakland%22%2C%20%22feed_key%22%3A%20%22540e857d28ffdc628260ca22a21cb330%22%2C%20%22gtfs_dataset_key%22%3A%20%22bc21582ac1ad2b7de0647dfd5b76f67c%22%2C%20%22loop_or_inlining%22%3A%200%2C%20%22seg_idx%22%3A%2020129%2C%20%22shape_array_key%22%3A%20%2221aedea4c0d05c570e042903cc62c9cf%22%2C%20%22stop_id%22%3A%20%2287529%22%2C%20%22stop_sequence%22%3A%20270%7D%2C%20%22type%22%3A%20%22Feature%22%7D%2C%20%7B%22bbox%22%3A%20%5B-122.65686018509088%2C%2038.262512733799696%2C%20-122.64957292010479%2C%2038.266813904991736%5D%2C%20%22geometry%22%3A%20%7B%22coordinates%22%3A%20%5B%5B%5B-122.65669279585317%2C%2038.266213794616554%5D%2C%20%5B-122.6567244859039%2C%2038.266233561678526%5D%2C%20%5B-122.65675347771874%2C%2038.26625574085837%5D%2C%20%5B-122.6567794755259%2C%2038.2662801058882%5D%2C%20%5B-122.65680221409718%2C%2038.26630640820018%5D%2C%20%5B-122.6568214614538%2C%2038.26633437946234%5D%2C%20%5B-122.65683702123312%2C%2038.26636373431623%5D%2C%20%5B-122.65684873469198%2C%2038.26639417328762%5D%2C%20%5B-122.6568564823264%2C%2038.26642538584201%5D%2C%20%5B-122.65686018509088%2C%2038.266457053552564%5D%2C%20%5B-122.656859805205%2C%2038.26648885334839%5D%2C%20%5B-122.65685534653917%2C%2038.26652046081088%5D%2C%20%5B-122.65684685457518%2C%2038.26655155348303%5D%2C%20%5B-122.65683441594257%2C%2038.266581814159345%5D%2C%20%5B-122.65681815753487%2C%2038.26661093412191%5D%2C%20%5B-122.65679824521546%2C%2038.266638616289995%5D%2C%20%5B-122.6567748821253%2C%2038.266664578250754%5D%2C%20%5B-122.65674575693785%2C%2038.26669370356747%5D%2C%20%5B-122.65671997890803%2C%2038.2667170284883%5D%2C%20%5B-122.65669141662289%2C%2038.26673825487895%5D%2C%20%5B-122.65666034515318%2C%2038.266757178315885%5D%2C%20%5B-122.65662706373531%2C%2038.26677361655409%5D%2C%20%5B-122.65659189288962%2C%2038.26678741128266%5D%2C%20%5B-122.65655517133342%2C%2038.26679842964939%5D%2C%20%5B-122.65651725271896%2C%2038.26680656554%5D%2C%20%5B-122.65647850222732%2C%2038.26681174060055%5D%2C%20%5B-122.65643929305142%2C%2038.266813904991736%5D%2C%20%5B-122.65640000280183%2C%2038.26681303786905%5D%2C%20%5B-122.65636100986984%2C%2038.266809147583345%5D%2C%20%5B-122.65632268978337%2C%2038.26680227160079%5D%2C%20%5B-122.6562854115901%2C%2038.266792476141596%5D%2C%20%5B-122.65624953430321%2C%2038.26677985554256%5D%2C%20%5B-122.6562154034438%2C%2038.26676453134843%5D%2C%20%5B-122.65618334771307%2C%2038.26674665114111%5D%2C%20%5B-122.65615367582686%2C%2038.26672638711864%5D%2C%20%5B-122.6561266735423%2C%2038.26670393443646%5D%2C%20%5B-122.6561026009059%2C%2038.266679509328036%5D%2C%20%5B-122.65608168974909%2C%2038.26665334702236%5D%2C%20%5B-122.65607296655112%2C%2038.2666396035237%5D%2C%20%5B-122.6497404203133%2C%2038.263083621441595%5D%2C%20%5B-122.64970959849607%2C%2038.26306444889522%5D%2C%20%5B-122.64968131560579%2C%2038.26304299371451%5D%2C%20%5B-122.64965584402243%2C%2038.26301946252645%5D%2C%20%5B-122.64963342905043%2C%2038.2629940819512%5D%2C%20%5B-122.64961428655656%2C%2038.26296709641924%5D%2C%20%5B-122.649598600891%2C%2038.2629387658177%5D%2C%20%5B-122.64958652311203%2C%2038.26290936298709%5D%2C%20%5B-122.6495781695314%2C%2038.262879171093836%5D%2C%20%5B-122.64957362059428%2C%2038.262848480903195%5D%2C%20%5B-122.64957292010479%2C%2038.26281758797899%5D%2C%20%5B-122.64957607480429%2C%2038.262786789836845%5D%2C%20%5B-122.64958305430656%2C%2038.26275638307954%5D%2C%20%5B-122.64959379139067%2C%2038.26272666054018%5D%2C%20%5B-122.6496081826486%2C%2038.2626979084619%5D%2C%20%5B-122.64962608948119%2C%2038.26267040374167%5D%2C%20%5B-122.64964733943303%2C%2038.26264441126356%5D%2C%20%5B-122.64967172785347%2C%2038.26262018134751%5D%2C%20%5B-122.64969901986764%2C%2038.26259794733905%5D%2C%20%5B-122.64972895263834%2C%2038.262577923362%5D%2C%20%5B-122.64976123789735%2C%2038.26256030225622%5D%2C%20%5B-122.64979556472169%2C%2038.26254525372094%5D%2C%20%5B-122.64983160252777%2C%2038.26253292268006%5D%2C%20%5B-122.64986900425507%2C%2038.262523427886876%5D%2C%20%5B-122.64990740970839%2C%2038.262516860780394%5D%2C%20%5B-122.64994644902653%2C%2038.262513284604644%5D%2C%20%5B-122.64998574624423%2C%2038.262512733799696%5D%2C%20%5B-122.65002492291252%2C%2038.262515213669985%5D%2C%20%5B-122.65006360174341%2C%2038.262520700333376%5D%2C%20%5B-122.65010141024308%2C%2038.262529140950946%5D%2C%20%5B-122.65013798429906%2C%2038.26254045423592%5D%2C%20%5B-122.65017297168673%2C%2038.26255453123647%5D%2C%20%5B-122.65020603546115%2C%2038.262571236384915%5D%2C%20%5B-122.65669279585317%2C%2038.266213794616554%5D%5D%5D%2C%20%22type%22%3A%20%22Polygon%22%7D%2C%20%22id%22%3A%20%2220090%22%2C%20%22properties%22%3A%20%7B%22district%22%3A%204%2C%20%22district_name%22%3A%20%22District%204%20-%20Oakland%22%2C%20%22feed_key%22%3A%20%22540e857d28ffdc628260ca22a21cb330%22%2C%20%22gtfs_dataset_key%22%3A%20%22bc21582ac1ad2b7de0647dfd5b76f67c%22%2C%20%22loop_or_inlining%22%3A%200%2C%20%22seg_idx%22%3A%2020130%2C%20%22shape_array_key%22%3A%20%2221aedea4c0d05c570e042903cc62c9cf%22%2C%20%22stop_id%22%3A%20%2287507%22%2C%20%22stop_sequence%22%3A%20330%7D%2C%20%22type%22%3A%20%22Feature%22%7D%2C%20%7B%22bbox%22%3A%20%5B-122.65899509310127%2C%2038.26618434549974%2C%20-122.65599948020758%2C%2038.26810181578547%5D%2C%20%22geometry%22%3A%20%7B%22coordinates%22%3A%20%5B%5B%5B-122.6588791612284%2C%2038.267565605549926%5D%2C%20%5B-122.65890322759006%2C%2038.26758632234407%5D%2C%20%5B-122.65892676008677%2C%2038.26761107075267%5D%2C%20%5B-122.6589470933853%2C%2038.26763751315441%5D%2C%20%5B-122.6589640316626%2C%2038.26766539489625%5D%2C%20%5B-122.65897741179087%2C%2038.267694447463214%5D%2C%20%5B-122.65898710490842%2C%2038.267724391064284%5D%2C%20%5B-122.6589930176611%2C%2038.267754937327354%5D%2C%20%5B-122.65899509310127%2C%2038.26778579207556%5D%2C%20%5B-122.65899331123656%2C%2038.267816658161166%5D%2C%20%5B-122.65898768922253%2C%2038.2678472383266%5D%2C%20%5B-122.6589782811977%2C%2038.267877238067705%5D%2C%20%5B-122.65896517776223%2C%2038.26790636846966%5D%2C%20%5B-122.65894850510568%2C%2038.26793434898962%5D%2C%20%5B-122.6589284237918%2C%2038.26796091015832%5D%2C%20%5B-122.6589051272123%2C%2038.26798579617561%5D%2C%20%5B-122.65887883972457%2C%2038.26800876737378%5D%2C%20%5B-122.65884981449098%2C%2038.2680296025256%5D%2C%20%5B-122.65881833104085%2C%2038.26804810097538%5D%2C%20%5B-122.65878469257834%2C%2038.268064084571165%5D%2C%20%5B-122.65874922306244%2C%2038.26807739938038%5D%2C%20%5B-122.65871226408703%2C%2038.26808791717274%5D%2C%20%5B-122.65867417159087%2C%2038.26809553665495%5D%2C%20%5B-122.65863531242978%2C%2038.26810018444627%5D%2C%20%5B-122.6585960608432%2C%2038.26810181578547%5D%2C%20%5B-122.65855679485017%2C%2038.26810041496155%5D%2C%20%5B-122.65851789260842%2C%2038.268095995465444%5D%2C%20%5B-122.65847972877238%2C%2038.26808859985985%5D%2C%20%5B-122.65844267088485%2C%2038.26807829936936%5D%2C%20%5B-122.65840707583732%2C%2038.26806519319448%5D%2C%20%5B-122.65837328643256%2C%2038.26804940755634%5D%2C%20%5B-122.65834162808335%2C%2038.268031094480946%5D%2C%20%5B-122.65831240567827%2C%2038.26801043033498%5D%2C%20%5B-122.6582778407279%2C%2038.267983461625136%5D%2C%20%5B-122.65825460222632%2C%2038.26796371065953%5D%2C%20%5B-122.65823359359072%2C%2038.26794247230876%5D%2C%20%5B-122.65821496821391%2C%2038.26791990164484%5D%2C%20%5B-122.65814049155586%2C%2038.267820598913765%5D%2C%20%5B-122.65750478356276%2C%2038.267480359896844%5D%2C%20%5B-122.65617498180679%2C%2038.266770464557574%5D%2C%20%5B-122.65614367721285%2C%2038.266751930845835%5D%2C%20%5B-122.65611482665884%2C%2038.26673108090051%5D%2C%20%5B-122.6560887063583%2C%2038.266708114339416%5D%2C%20%5B-122.65606556638463%2C%2038.26668325104453%5D%2C%20%5B-122.65604562827679%2C%2038.2666567290571%5D%2C%20%5B-122.6560290829186%2C%2038.26662880229849%5D%2C%20%5B-122.65601608871101%2C%2038.266599738138794%5D%2C%20%5B-122.65600677005601%2C%2038.26656981483749%5D%2C%20%5B-122.65600121616555%2C%2038.26653931887893%5D%2C%20%5B-122.65599948020758%2C%2038.26650854222975%5D%2C%20%5B-122.65600157879736%2C%2038.26647777954371%5D%2C%20%5B-122.6560074918384%2C%2038.26644732534018%5D%2C%20%5B-122.6560171627152%2C%2038.26641747118513%5D%2C%20%5B-122.65603049883528%2C%2038.26638850289908%5D%2C%20%5B-122.65604737251593%2C%2038.26636069782129%5D%2C%20%5B-122.65606762220679%2C%2038.26633432215401%5D%2C%20%5B-122.65609105403652%2C%2038.26630962841446%5D%2C%20%5B-122.65611744366913%2C%2038.266286853016744%5D%2C%20%5B-122.65614653845171%2C%2038.26626621400925%5D%2C%20%5B-122.65617805983337%2C%2038.26624790898635%5D%2C%20%5B-122.65621170603201%2C%2038.26623211319729%5D%2C%20%5B-122.65624715492359%2C%2038.26621897786818%5D%2C%20%5B-122.65625400056986%2C%2038.26621705854805%5D%2C%20%5B-122.65626985788715%2C%2038.26621083899252%5D%2C%20%5B-122.65630657919601%2C%2038.26619982071343%5D%2C%20%5B-122.65634449752478%2C%2038.26619168488963%5D%2C%20%5B-122.65638324770333%2C%2038.266186509872526%5D%2C%20%5B-122.65642245655077%2C%2038.26618434549974%5D%2C%20%5B-122.65646174646922%2C%2038.2661852126151%5D%2C%20%5B-122.65650073908%2C%2038.26618910286794%5D%2C%20%5B-122.65653905886762%2C%2038.26619597879338%5D%2C%20%5B-122.65657633679588%2C%2038.26620577417344%5D%2C%20%5B-122.65661221386173%2C%2038.26621839467436%5D%2C%20%5B-122.65664634455267%2C%2038.266233718755174%5D%2C%20%5B-122.65667840017383%2C%2038.2662515988383%5D%2C%20%5B-122.6567080720137%2C%2038.266271862730584%5D%2C%20%5B-122.65673507431686%2C%2038.2662943152814%5D%2C%20%5B-122.65675914703614%2C%2038.26631874026246%5D%2C%20%5B-122.65676249223529%2C%2038.26632292545193%5D%2C%20%5B-122.6579550141159%2C%2038.26695953252698%5D%2C%20%5B-122.65795541544617%2C%2038.26695974704578%5D%2C%20%5B-122.65866541411614%2C%2038.26733974570679%5D%2C%20%5B-122.6587004218855%2C%2038.267360787568755%5D%2C%20%5B-122.65873227704425%2C%2038.26738472530616%5D%2C%20%5B-122.65876059395745%2C%2038.26741126913389%5D%2C%20%5B-122.65878502982224%2C%2038.26744009771764%5D%2C%20%5B-122.6588791612284%2C%2038.267565605549926%5D%5D%5D%2C%20%22type%22%3A%20%22Polygon%22%7D%2C%20%22id%22%3A%20%2220091%22%2C%20%22properties%22%3A%20%7B%22district%22%3A%204%2C%20%22district_name%22%3A%20%22District%204%20-%20Oakland%22%2C%20%22feed_key%22%3A%20%22540e857d28ffdc628260ca22a21cb330%22%2C%20%22gtfs_dataset_key%22%3A%20%22bc21582ac1ad2b7de0647dfd5b76f67c%22%2C%20%22loop_or_inlining%22%3A%200%2C%20%22seg_idx%22%3A%2020131%2C%20%22shape_array_key%22%3A%20%2221aedea4c0d05c570e042903cc62c9cf%22%2C%20%22stop_id%22%3A%20%2287508%22%2C%20%22stop_sequence%22%3A%20360%7D%2C%20%22type%22%3A%20%22Feature%22%7D%2C%20%7B%22bbox%22%3A%20%5B-122.66310841533114%2C%2038.2674721214831%2C%20-122.65819403678371%2C%2038.27182101572987%5D%2C%20%22geometry%22%3A%20%7B%22coordinates%22%3A%20%5B%5B%5B-122.6597521575395%2C%2038.268246535572565%5D%2C%20%5B-122.65977697982494%2C%2038.26826776206832%5D%2C%20%5B-122.66299463940776%2C%2038.27128555540497%5D%2C%20%5B-122.6630102726072%2C%2038.27129968559999%5D%2C%20%5B-122.66303458078546%2C%2038.271323967074416%5D%2C%20%5B-122.66305574410364%2C%2038.27135000446342%5D%2C%20%5B-122.66307355874538%2C%2038.27137754701464%5D%2C%20%5B-122.66308785314315%2C%2038.271406329479596%5D%2C%20%5B-122.66309848963058%2C%2038.27143607466887%5D%2C%20%5B-122.66310536576839%2C%2038.27146649612095%5D%2C%20%5B-122.66310841533114%2C%2038.27149730086124%5D%2C%20%5B-122.66310760894515%2C%2038.27152819222351%5D%2C%20%5B-122.66310295437157%2C%2038.27155887270711%5D%2C%20%5B-122.6630944964319%2C%2038.27158904684166%5D%2C%20%5B-122.66308231657628%2C%2038.271618424032994%5D%2C%20%5B-122.66306653209963%2C%2038.27164672136156%5D%2C%20%5B-122.66304729501181%2C%2038.2716736663072%5D%2C%20%5B-122.66302479057399%2C%2038.27169899937382%5D%2C%20%5B-122.66299923551456%2C%2038.27172247658831%5D%2C%20%5B-122.66297087594201%2C%2038.27174387185038%5D%2C%20%5B-122.66293998497468%2C%2038.27176297911008%5D%2C%20%5B-122.66290686011062%2C%2038.27177961435225%5D%2C%20%5B-122.66287182036238%2C%2038.271793617368616%5D%2C%20%5B-122.66283520318471%2C%2038.27180485330099%5D%2C%20%5B-122.66279736122455%2C%2038.27181321393996%5D%2C%20%5B-122.66275865892477%2C%2038.27181861876694%5D%2C%20%5B-122.6627194690141%2C%2038.27182101572987%5D%2C%20%5B-122.66268016891759%2C%2038.271820381744355%5D%2C%20%5B-122.66264113712138%2C%2038.27181672291619%5D%2C%20%5B-122.66260274952766%2C%2038.271810074482254%5D%2C%20%5B-122.66256537583428%2C%2038.27180050047147%5D%2C%20%5B-122.66252937597422%2C%2038.27178809308783%5D%2C%20%5B-122.66249509664898%2C%2038.271772971822635%5D%2C%20%5B-122.66246286798975%2C%2038.271755282303616%5D%2C%20%5B-122.66243300037777%2C%2038.2717351948922%5D%2C%20%5B-122.66240578145523%2C%2038.271712903043074%5D%2C%20%5B-122.66238775360218%2C%2038.271696608299884%5D%2C%20%5B-122.66238301480722%2C%2038.2716922454258%5D%2C%20%5B-122.65917481078284%2C%2038.268683297634155%5D%2C%20%5B-122.65831240567827%2C%2038.26801043033498%5D%2C%20%5B-122.65828590064555%2C%2038.26798761412736%5D%2C%20%5B-122.65826236824276%2C%2038.2679628655926%5D%2C%20%5B-122.65824203509841%2C%2038.26793642307435%5D%2C%20%5B-122.6582250970296%2C%2038.26790854123022%5D%2C%20%5B-122.65821171715618%2C%2038.26787948857911%5D%2C%20%5B-122.65820202433%2C%2038.26784954491506%5D%2C%20%5B-122.65819611189401%2C%2038.26781899861288%5D%2C%20%5B-122.65819403678371%2C%2038.26778814385077%5D%2C%20%5B-122.65819581897878%2C%2038.26775727777713%5D%2C%20%5B-122.65820144131094%2C%2038.267726697648925%5D%2C%20%5B-122.65821084962946%2C%2038.26769669796897%5D%2C%20%5B-122.6582239533229%2C%2038.267667567649674%5D%2C%20%5B-122.6582406261918%2C%2038.26763958723086%5D%2C%20%5B-122.65826070766423%2C%2038.26761302617766%5D%2C%20%5B-122.65828400434239%2C%2038.267588140285966%5D%2C%20%5B-122.65831029186509%2C%2038.267565169218685%5D%2C%20%5B-122.65833931706864%2C%2038.26754433419786%5D%2C%20%5B-122.65837080042488%2C%2038.267525835874245%5D%2C%20%5B-122.6584044387332%2C%2038.26750985239498%5D%2C%20%5B-122.65843990804056%2C%2038.26749653768808%5D%2C%20%5B-122.65847686676113%2C%2038.267486019979906%5D%2C%20%5B-122.65851495896592%2C%2038.26747840056058%5D%2C%20%5B-122.65855381781033%2C%2038.26747375280837%5D%2C%20%5B-122.65859306906705%2C%2038.2674721214831%5D%2C%20%5B-122.65863233472973%2C%2038.267473522295084%5D%2C%20%5B-122.65867123665336%2C%2038.26747794175393%5D%2C%20%5B-122.6587094001957%2C%2038.26748533729841%5D%2C%20%5B-122.65874645782523%2C%2038.267495637706226%5D%2C%20%5B-122.65878205266041%2C%2038.26750874378%5D%2C%20%5B-122.65881584190662%2C%2038.267524529302555%5D%2C%20%5B-122.65884750015721%2C%2038.26754284225236%5D%2C%20%5B-122.65887672252731%2C%2038.267563506267514%5D%2C%20%5B-122.6597521575395%2C%2038.268246535572565%5D%5D%5D%2C%20%22type%22%3A%20%22Polygon%22%7D%2C%20%22id%22%3A%20%2220092%22%2C%20%22properties%22%3A%20%7B%22district%22%3A%204%2C%20%22district_name%22%3A%20%22District%204%20-%20Oakland%22%2C%20%22feed_key%22%3A%20%22540e857d28ffdc628260ca22a21cb330%22%2C%20%22gtfs_dataset_key%22%3A%20%22bc21582ac1ad2b7de0647dfd5b76f67c%22%2C%20%22loop_or_inlining%22%3A%200%2C%20%22seg_idx%22%3A%2020132%2C%20%22shape_array_key%22%3A%20%2221aedea4c0d05c570e042903cc62c9cf%22%2C%20%22stop_id%22%3A%20%2287509%22%2C%20%22stop_sequence%22%3A%20420%7D%2C%20%22type%22%3A%20%22Feature%22%7D%2C%20%7B%22bbox%22%3A%20%5B-122.66503270252491%2C%2038.27119157367651%2C%20-122.66230764031053%2C%2038.2733016385794%5D%2C%20%22geometry%22%3A%20%7B%22coordinates%22%3A%20%5B%5B%5B-122.66400736898471%2C%2038.272200904102036%5D%2C%20%5B-122.66486051800402%2C%2038.27272812974614%5D%2C%20%5B-122.66486558299647%2C%2038.272730981022356%5D%2C%20%5B-122.66489637972258%2C%2038.272750182452256%5D%2C%20%5B-122.66492463376593%2C%2038.272771664125365%5D%2C%20%5B-122.66495007302481%2C%2038.272795219163235%5D%2C%20%5B-122.66497245250446%2C%2038.27282062071988%5D%2C%20%5B-122.66499155667658%2C%2038.27284762416625%5D%2C%20%5B-122.66500720155501%2C%2038.27287596944588%5D%2C%20%5B-122.6650192364678%2C%2038.27290538357977%5D%2C%20%5B-122.66502754550827%2C%2038.272935583294725%5D%2C%20%5B-122.66503204865143%2C%2038.272966277751756%5D%2C%20%5B-122.66503270252491%2C%2038.272997171346965%5D%2C%20%5B-122.66502950082679%2C%2038.27302796655812%5D%2C%20%5B-122.66502247438646%2C%2038.273058366810346%5D%2C%20%5B-122.66501169086793%2C%2038.27308807933175%5D%2C%20%5B-122.66499725411828%2C%2038.27311681797363%5D%2C%20%5B-122.6649793031678%2C%2038.273144305965815%5D%2C%20%5B-122.66495801089123%2C%2038.273170278582406%5D%2C%20%5B-122.66493358234281%2C%2038.27319448569114%5D%2C%20%5B-122.66490625278178%2C%2038.27321669416248%5D%2C%20%5B-122.66487628540654%2C%2038.27323669011485%5D%2C%20%5B-122.66484396882008%2C%2038.27325428097434%5D%2C%20%5B-122.66480961425049%2C%2038.27326929732972%5D%2C%20%5B-122.66477355255358%2C%2038.27328159456358%5D%2C%20%5B-122.66473613102646%2C%2038.27329105424551%5D%2C%20%5B-122.66469771006278%2C%2038.273297585272445%5D%2C%20%5B-122.66465865968175%2C%2038.2733011247462%5D%2C%20%5B-122.66461935596458%2C%2038.2733016385794%5D%2C%20%5B-122.66458017743227%2C%2038.27329912182341%5D%2C%20%5B-122.66454150140027%2C%2038.27329359871627%5D%2C%20%5B-122.66450370034434%2C%2038.27328512244921%5D%2C%20%5B-122.66446713831343%2C%2038.273273774654264%5D%2C%20%5B-122.6644321674233%2C%2038.27325966461829%5D%2C%20%5B-122.66439912446558%2C%2038.27324292823016%5D%2C%20%5B-122.66438676991277%2C%2038.27323597335837%5D%2C%20%5B-122.6643724317339%2C%2038.27322751393277%5D%2C%20%5B-122.66348243060504%2C%2038.272677512089146%5D%2C%20%5B-122.66345386321531%2C%2038.27265807612275%5D%2C%20%5B-122.66342775267307%2C%2038.272636610929936%5D%2C%20%5B-122.66240578145523%2C%2038.271712903043074%5D%2C%20%5B-122.66238147335498%2C%2038.271688621440795%5D%2C%20%5B-122.66236031017624%2C%2038.271662583932354%5D%2C%20%5B-122.66234249572996%2C%2038.27163504127488%5D%2C%20%5B-122.66232820157617%2C%2038.27160625872072%5D%2C%20%5B-122.66231756537192%2C%2038.271576513462854%5D%2C%20%5B-122.66231068954555%2C%2038.271546091965526%5D%2C%20%5B-122.66230764031053%2C%2038.27151528720492%5D%2C%20%5B-122.662308447028%2C%2038.27148439584797%5D%2C%20%5B-122.66231310192401%2C%2038.27145371539536%5D%2C%20%5B-122.66232156016473%2C%2038.27142354131611%5D%2C%20%5B-122.66233374028837%2C%2038.271394164202334%5D%2C%20%5B-122.66234952498976%2C%2038.27136586697051%5D%2C%20%5B-122.66236876225044%2C%2038.27133892213717%5D%2C%20%5B-122.66239126680253%2C%2038.27131358919407%5D%2C%20%5B-122.66241682191325%2C%2038.27129011210956%5D%2C%20%5B-122.66244518147222%2C%2038.27126871697899%5D%2C%20%5B-122.66247607236151%2C%2038.27124960984716%5D%2C%20%5B-122.66250919708615%2C%2038.27123297472441%5D%2C%20%5B-122.66254423663892%2C%2038.27121897181436%5D%2C%20%5B-122.66258085357259%2C%2038.2712077359711%5D%2C%20%5B-122.66261869524958%2C%2038.27119937540072%5D%2C%20%5B-122.66265739723795%2C%2038.27119397061903%5D%2C%20%5B-122.66269658682084%2C%2038.27119157367651%5D%2C%20%5B-122.6627358865859%2C%2038.27119220765659%5D%2C%20%5B-122.66277491805968%2C%2038.27119586645379%5D%2C%20%5B-122.66281330535236%2C%2038.27120251483244%5D%2C%20%5B-122.66285067877772%2C%2038.27121208876572%5D%2C%20%5B-122.66288667841305%2C%2038.2712244960526%5D%2C%20%5B-122.66292095756542%2C%2038.27123961720542%5D%2C%20%5B-122.66295318611036%2C%2038.27125730660095%5D%2C%20%5B-122.66298305367104%2C%2038.27127739388234%5D%2C%20%5B-122.6630102726072%2C%2038.27129968560001%5D%2C%20%5B-122.66400736898471%2C%2038.272200904102036%5D%5D%5D%2C%20%22type%22%3A%20%22Polygon%22%7D%2C%20%22id%22%3A%20%2220093%22%2C%20%22properties%22%3A%20%7B%22district%22%3A%204%2C%20%22district_name%22%3A%20%22District%204%20-%20Oakland%22%2C%20%22feed_key%22%3A%20%22540e857d28ffdc628260ca22a21cb330%22%2C%20%22gtfs_dataset_key%22%3A%20%22bc21582ac1ad2b7de0647dfd5b76f67c%22%2C%20%22loop_or_inlining%22%3A%200%2C%20%22seg_idx%22%3A%2020133%2C%20%22shape_array_key%22%3A%20%2221aedea4c0d05c570e042903cc62c9cf%22%2C%20%22stop_id%22%3A%20%2287530%22%2C%20%22stop_sequence%22%3A%20440%7D%2C%20%22type%22%3A%20%22Feature%22%7D%2C%20%7B%22bbox%22%3A%20%5B-122.6697105729241%2C%2038.27267227112682%2C%20-122.66423200664913%2C%2038.27662950291414%5D%2C%20%22geometry%22%3A%20%7B%22coordinates%22%3A%20%5B%5B%5B-122.66954322063717%2C%2038.275364017046535%5D%2C%20%5B-122.6695730178313%2C%2038.27538252948064%5D%2C%20%5B-122.66960045037435%2C%2038.27540317689998%5D%2C%20%5B-122.66962527163298%2C%2038.2754257736746%5D%2C%20%5B-122.66964725844993%2C%2038.27545011664892%5D%2C%20%5B-122.6696662131503%2C%2038.275475986967926%5D%2C%20%5B-122.66968196531884%2C%2038.27550315204488%5D%2C%20%5B-122.66969437333215%2C%2038.27553136765223%5D%2C%20%5B-122.66970332563203%2C%2038.275560380117284%5D%2C%20%5B-122.66970874172863%2C%2038.275589928603004%5D%2C%20%5B-122.6697105729241%2C%2038.27561974745286%5D%2C%20%5B-122.66970880275075%2C%2038.27564956857933%5D%2C%20%5B-122.66970344711909%2C%2038.275679123874035%5D%2C%20%5B-122.66961344900122%2C%2038.27604912417037%5D%2C%20%5B-122.66961217713799%2C%2038.27605413245402%5D%2C%20%5B-122.6695262379578%2C%2038.27637879810467%5D%2C%20%5B-122.66951635189137%2C%2038.2764087029682%5D%2C%20%5B-122.66950278412334%2C%2038.27643770220298%5D%2C%20%5B-122.66948566531502%2C%2038.27646551652937%5D%2C%20%5B-122.66946516032698%2C%2038.27649187807869%5D%2C%20%5B-122.66944146663127%2C%2038.27651653297301%5D%2C%20%5B-122.66941481240983%2C%2038.27653924377057%5D%2C%20%5B-122.66938545435696%2C%2038.27655979175199%5D%2C%20%5B-122.66935367520738%2C%2038.27657797902713%5D%2C%20%5B-122.6693197810131%2C%2038.27659363044076%5D%2C%20%5B-122.66928409819603%2C%2038.27660659525956%5D%2C%20%5B-122.66924697040439%2C%2038.27661674862379%5D%2C%20%5B-122.66920875520276%2C%2038.276623992749826%5D%2C%20%5B-122.66916982062875%2C%2038.27662825787193%5D%2C%20%5B-122.66913054164813%2C%2038.27662950291414%5D%2C%20%5B-122.66909129654377%2C%2038.276627715885844%5D%2C%20%5B-122.66905246327217%2C%2038.27662291399725%5D%2C%20%5B-122.66901441582355%2C%2038.27661514349388%5D%2C%20%5B-122.66897752061978%2C%2038.27660447921074%5D%2C%20%5B-122.66894213298552%2C%2038.27659102385203%5D%2C%20%5B-122.66890859372599%2C%2038.27657490700162%5D%2C%20%5B-122.66887722584474%2C%2038.27655628387533%5D%2C%20%5B-122.66884833143294%2C%2038.27653533382581%5D%2C%20%5B-122.66882218875995%2C%2038.27651225861547%5D%2C%20%5B-122.66879904959346%2C%2038.276487280473035%5D%2C%20%5B-122.66877913677483%2C%2038.27646063995341%5D%2C%20%5B-122.66876264207305%2C%2038.276432593621074%5D%2C%20%5B-122.66874972433801%2C%2038.27640341157901%5D%2C%20%5B-122.66874050797085%2C%2038.27637337486741%5D%2C%20%5B-122.66873508172594%2C%2038.27634277275703%5D%2C%20%5B-122.66873349785641%2C%2038.27631189996345%5D%2C%20%5B-122.668735771611%2C%2038.27628105380879%5D%2C%20%5B-122.66874188108747%2C%2038.27625053135802%5D%2C%20%5B-122.66882716174013%2C%2038.2759283663549%5D%2C%20%5B-122.66886843018723%2C%2038.27575871131798%5D%2C%20%5B-122.66439912446558%2C%2038.27324292823016%5D%2C%20%5B-122.66436832766398%2C%2038.273223726672065%5D%2C%20%5B-122.66434007360958%2C%2038.273202244867456%5D%2C%20%5B-122.66431463440458%2C%2038.27317868969976%5D%2C%20%5B-122.66429225504162%2C%2038.27315328801997%5D%2C%20%5B-122.66427315104454%2C%2038.27312628446183%5D%2C%20%5B-122.66425750639274%2C%2038.27309793908604%5D%2C%20%5B-122.66424547174951%2C%2038.27306852487553%5D%2C%20%5B-122.66423716301118%2C%2038.273038325106214%5D%2C%20%5B-122.66423266019106%2C%2038.27300763061921%5D%2C%20%5B-122.66423200664913%2C%2038.272976737019626%5D%2C%20%5B-122.66423520867463%2C%2038.272945941829825%5D%2C%20%5B-122.66424223542548%2C%2038.27291554162391%5D%2C%20%5B-122.66425301922587%2C%2038.272885829171855%5D%2C%20%5B-122.66426745621777%2C%2038.272857090619894%5D%2C%20%5B-122.66428540736163%2C%2038.27282960273458%5D%2C%20%5B-122.66430669977527%2C%2038.2728036302379%5D%2C%20%5B-122.6643311283992%2C%2038.272779423257305%5D%2C%20%5B-122.66435845797129%2C%2038.27275721491745%5D%2C%20%5B-122.66438842529266%2C%2038.27273721909493%5D%2C%20%5B-122.6644207417624%2C%2038.27271962835857%5D%2C%20%5B-122.66445509615696%2C%2038.27270461211502%5D%2C%20%5B-122.6644911576272%2C%2038.272692314977185%5D%2C%20%5B-122.66452857888476%2C%2038.27268285537201%5D%2C%20%5B-122.66456699954635%2C%2038.272676324399505%5D%2C%20%5B-122.66460604960432%2C%2038.272672784955645%5D%2C%20%5B-122.66464535298994%2C%2038.27267227112682%5D%2C%20%5B-122.66468453119487%2C%2038.27267478786146%5D%2C%20%5B-122.66472320691634%2C%2038.27268031092235%5D%2C%20%5B-122.6647610076904%2C%2038.27268878711996%5D%2C%20%5B-122.66479756947909%2C%2038.272700134824944%5D%2C%20%5B-122.66483254017581%2C%2038.27271424475398%5D%2C%20%5B-122.66486558299647%2C%2038.272730981022356%5D%2C%20%5B-122.66954322063717%2C%2038.275364017046535%5D%5D%5D%2C%20%22type%22%3A%20%22Polygon%22%7D%2C%20%22id%22%3A%20%2220094%22%2C%20%22properties%22%3A%20%7B%22district%22%3A%204%2C%20%22district_name%22%3A%20%22District%204%20-%20Oakland%22%2C%20%22feed_key%22%3A%20%22540e857d28ffdc628260ca22a21cb330%22%2C%20%22gtfs_dataset_key%22%3A%20%22bc21582ac1ad2b7de0647dfd5b76f67c%22%2C%20%22loop_or_inlining%22%3A%200%2C%20%22seg_idx%22%3A%2020134%2C%20%22shape_array_key%22%3A%20%2221aedea4c0d05c570e042903cc62c9cf%22%2C%20%22stop_id%22%3A%20%2287511%22%2C%20%22stop_sequence%22%3A%20480%7D%2C%20%22type%22%3A%20%22Feature%22%7D%5D%2C%20%22type%22%3A%20%22FeatureCollection%22%7D%29%3B%0A%0A%20%20%20%20%20%20%20%20%0A%20%20%20%20%0A%20%20%20%20geo_json_e4be3e8542b34ffcbac9d0acac1aa59a.bindTooltip%28%0A%20%20%20%20function%28layer%29%7B%0A%20%20%20%20let%20div%20%3D%20L.DomUtil.create%28%27div%27%29%3B%0A%20%20%20%20%0A%20%20%20%20let%20handleObject%20%3D%20feature%3D%3Etypeof%28feature%29%3D%3D%27object%27%20%3F%20JSON.stringify%28feature%29%20%3A%20feature%3B%0A%20%20%20%20let%20fields%20%3D%20%5B%22feed_key%22%2C%20%22shape_array_key%22%2C%20%22stop_id%22%2C%20%22stop_sequence%22%2C%20%22loop_or_inlining%22%2C%20%22gtfs_dataset_key%22%2C%20%22seg_idx%22%2C%20%22district%22%2C%20%22district_name%22%5D%3B%0A%20%20%20%20let%20aliases%20%3D%20%5B%22feed_key%22%2C%20%22shape_array_key%22%2C%20%22stop_id%22%2C%20%22stop_sequence%22%2C%20%22loop_or_inlining%22%2C%20%22gtfs_dataset_key%22%2C%20%22seg_idx%22%2C%20%22district%22%2C%20%22district_name%22%5D%3B%0A%20%20%20%20let%20table%20%3D%20%27%3Ctable%3E%27%20%2B%0A%20%20%20%20%20%20%20%20String%28%0A%20%20%20%20%20%20%20%20fields.map%28%0A%20%20%20%20%20%20%20%20%28v%2Ci%29%3D%3E%0A%20%20%20%20%20%20%20%20%60%3Ctr%3E%0A%20%20%20%20%20%20%20%20%20%20%20%20%3Cth%3E%24%7Baliases%5Bi%5D%7D%3C/th%3E%0A%20%20%20%20%20%20%20%20%20%20%20%20%0A%20%20%20%20%20%20%20%20%20%20%20%20%3Ctd%3E%24%7BhandleObject%28layer.feature.properties%5Bv%5D%29%7D%3C/td%3E%0A%20%20%20%20%20%20%20%20%3C/tr%3E%60%29.join%28%27%27%29%29%0A%20%20%20%20%2B%27%3C/table%3E%27%3B%0A%20%20%20%20div.innerHTML%3Dtable%3B%0A%20%20%20%20%0A%20%20%20%20return%20div%0A%20%20%20%20%7D%0A%20%20%20%20%2C%7B%22className%22%3A%20%22foliumtooltip%22%2C%20%22sticky%22%3A%20true%7D%29%3B%0A%20%20%20%20%20%20%20%20%20%20%20%20%20%20%20%20%20%20%20%20%20%0A%20%20%20%20%0A%20%20%20%20%20%20%20%20function%20geo_json_3afc8aefac51499b80b5b944a06a3146_styler%28feature%29%20%7B%0A%20%20%20%20%20%20%20%20%20%20%20%20switch%28feature.id%29%20%7B%0A%20%20%20%20%20%20%20%20%20%20%20%20%20%20%20%20default%3A%0A%20%20%20%20%20%20%20%20%20%20%20%20%20%20%20%20%20%20%20%20return%20%7B%22color%22%3A%20%22pink%22%2C%20%22fillColor%22%3A%20%22pink%22%2C%20%22fillOpacity%22%3A%200.5%2C%20%22weight%22%3A%206%7D%3B%0A%20%20%20%20%20%20%20%20%20%20%20%20%7D%0A%20%20%20%20%20%20%20%20%7D%0A%20%20%20%20%20%20%20%20function%20geo_json_3afc8aefac51499b80b5b944a06a3146_highlighter%28feature%29%20%7B%0A%20%20%20%20%20%20%20%20%20%20%20%20switch%28feature.id%29%20%7B%0A%20%20%20%20%20%20%20%20%20%20%20%20%20%20%20%20default%3A%0A%20%20%20%20%20%20%20%20%20%20%20%20%20%20%20%20%20%20%20%20return%20%7B%22fillOpacity%22%3A%200.75%7D%3B%0A%20%20%20%20%20%20%20%20%20%20%20%20%7D%0A%20%20%20%20%20%20%20%20%7D%0A%20%20%20%20%20%20%20%20function%20geo_json_3afc8aefac51499b80b5b944a06a3146_pointToLayer%28feature%2C%20latlng%29%20%7B%0A%20%20%20%20%20%20%20%20%20%20%20%20var%20opts%20%3D%20%7B%22bubblingMouseEvents%22%3A%20true%2C%20%22color%22%3A%20%22%233388ff%22%2C%20%22dashArray%22%3A%20null%2C%20%22dashOffset%22%3A%20null%2C%20%22fill%22%3A%20true%2C%20%22fillColor%22%3A%20%22%233388ff%22%2C%20%22fillOpacity%22%3A%200.2%2C%20%22fillRule%22%3A%20%22evenodd%22%2C%20%22lineCap%22%3A%20%22round%22%2C%20%22lineJoin%22%3A%20%22round%22%2C%20%22opacity%22%3A%201.0%2C%20%22radius%22%3A%202%2C%20%22stroke%22%3A%20true%2C%20%22weight%22%3A%203%7D%3B%0A%20%20%20%20%20%20%20%20%20%20%20%20%0A%20%20%20%20%20%20%20%20%20%20%20%20let%20style%20%3D%20geo_json_3afc8aefac51499b80b5b944a06a3146_styler%28feature%29%0A%20%20%20%20%20%20%20%20%20%20%20%20Object.assign%28opts%2C%20style%29%0A%20%20%20%20%20%20%20%20%20%20%20%20%0A%20%20%20%20%20%20%20%20%20%20%20%20return%20new%20L.CircleMarker%28latlng%2C%20opts%29%0A%20%20%20%20%20%20%20%20%7D%0A%0A%20%20%20%20%20%20%20%20function%20geo_json_3afc8aefac51499b80b5b944a06a3146_onEachFeature%28feature%2C%20layer%29%20%7B%0A%20%20%20%20%20%20%20%20%20%20%20%20layer.on%28%7B%0A%20%20%20%20%20%20%20%20%20%20%20%20%20%20%20%20mouseout%3A%20function%28e%29%20%7B%0A%20%20%20%20%20%20%20%20%20%20%20%20%20%20%20%20%20%20%20%20if%28typeof%20e.target.setStyle%20%3D%3D%3D%20%22function%22%29%7B%0A%20%20%20%20%20%20%20%20%20%20%20%20%20%20%20%20%20%20%20%20%20%20%20%20geo_json_3afc8aefac51499b80b5b944a06a3146.resetStyle%28e.target%29%3B%0A%20%20%20%20%20%20%20%20%20%20%20%20%20%20%20%20%20%20%20%20%7D%0A%20%20%20%20%20%20%20%20%20%20%20%20%20%20%20%20%7D%2C%0A%20%20%20%20%20%20%20%20%20%20%20%20%20%20%20%20mouseover%3A%20function%28e%29%20%7B%0A%20%20%20%20%20%20%20%20%20%20%20%20%20%20%20%20%20%20%20%20if%28typeof%20e.target.setStyle%20%3D%3D%3D%20%22function%22%29%7B%0A%20%20%20%20%20%20%20%20%20%20%20%20%20%20%20%20%20%20%20%20%20%20%20%20const%20highlightStyle%20%3D%20geo_json_3afc8aefac51499b80b5b944a06a3146_highlighter%28e.target.feature%29%0A%20%20%20%20%20%20%20%20%20%20%20%20%20%20%20%20%20%20%20%20%20%20%20%20e.target.setStyle%28highlightStyle%29%3B%0A%20%20%20%20%20%20%20%20%20%20%20%20%20%20%20%20%20%20%20%20%7D%0A%20%20%20%20%20%20%20%20%20%20%20%20%20%20%20%20%7D%2C%0A%20%20%20%20%20%20%20%20%20%20%20%20%7D%29%3B%0A%20%20%20%20%20%20%20%20%7D%3B%0A%20%20%20%20%20%20%20%20var%20geo_json_3afc8aefac51499b80b5b944a06a3146%20%3D%20L.geoJson%28null%2C%20%7B%0A%20%20%20%20%20%20%20%20%20%20%20%20%20%20%20%20onEachFeature%3A%20geo_json_3afc8aefac51499b80b5b944a06a3146_onEachFeature%2C%0A%20%20%20%20%20%20%20%20%20%20%20%20%0A%20%20%20%20%20%20%20%20%20%20%20%20%20%20%20%20style%3A%20geo_json_3afc8aefac51499b80b5b944a06a3146_styler%2C%0A%20%20%20%20%20%20%20%20%20%20%20%20%20%20%20%20pointToLayer%3A%20geo_json_3afc8aefac51499b80b5b944a06a3146_pointToLayer%0A%20%20%20%20%20%20%20%20%7D%29%3B%0A%0A%20%20%20%20%20%20%20%20function%20geo_json_3afc8aefac51499b80b5b944a06a3146_add%20%28data%29%20%7B%0A%20%20%20%20%20%20%20%20%20%20%20%20geo_json_3afc8aefac51499b80b5b944a06a3146%0A%20%20%20%20%20%20%20%20%20%20%20%20%20%20%20%20.addData%28data%29%0A%20%20%20%20%20%20%20%20%20%20%20%20%20%20%20%20.addTo%28map_09eb5ecba79843a0a7cb54be039626e7%29%3B%0A%20%20%20%20%20%20%20%20%7D%0A%20%20%20%20%20%20%20%20%20%20%20%20geo_json_3afc8aefac51499b80b5b944a06a3146_add%28%7B%22bbox%22%3A%20%5B-122.66685500000001%2C%2038.248122999999985%2C%20-122.62174000000002%2C%2038.27431999999997%5D%2C%20%22features%22%3A%20%5B%7B%22bbox%22%3A%20%5B-122.66251000000001%2C%2038.27138000000001%2C%20-122.66251000000001%2C%2038.27138000000001%5D%2C%20%22geometry%22%3A%20%7B%22coordinates%22%3A%20%5B-122.66251000000001%2C%2038.27138000000001%5D%2C%20%22type%22%3A%20%22Point%22%7D%2C%20%22id%22%3A%20%220%22%2C%20%22properties%22%3A%20%7B%22__folium_color%22%3A%20%22pink%22%2C%20%22__null_dask_index__%22%3A%2013787%2C%20%22stop_sequence%22%3A%20440%7D%2C%20%22type%22%3A%20%22Feature%22%7D%2C%20%7B%22bbox%22%3A%20%5B-122.64644%2C%2038.260876000000025%2C%20-122.64644%2C%2038.260876000000025%5D%2C%20%22geometry%22%3A%20%7B%22coordinates%22%3A%20%5B-122.64644%2C%2038.260876000000025%5D%2C%20%22type%22%3A%20%22Point%22%7D%2C%20%22id%22%3A%20%221%22%2C%20%22properties%22%3A%20%7B%22__folium_color%22%3A%20%22pink%22%2C%20%22__null_dask_index__%22%3A%2013317%2C%20%22stop_sequence%22%3A%20240%7D%2C%20%22type%22%3A%20%22Feature%22%7D%2C%20%7B%22bbox%22%3A%20%5B-122.6589%2C%2038.26799999999999%2C%20-122.6589%2C%2038.26799999999999%5D%2C%20%22geometry%22%3A%20%7B%22coordinates%22%3A%20%5B-122.6589%2C%2038.26799999999999%5D%2C%20%22type%22%3A%20%22Point%22%7D%2C%20%22id%22%3A%20%222%22%2C%20%22properties%22%3A%20%7B%22__folium_color%22%3A%20%22pink%22%2C%20%22__null_dask_index__%22%3A%2012531%2C%20%22stop_sequence%22%3A%20420%7D%2C%20%22type%22%3A%20%22Feature%22%7D%2C%20%7B%22bbox%22%3A%20%5B-122.63108%2C%2038.25222399999997%2C%20-122.63108%2C%2038.25222399999997%5D%2C%20%22geometry%22%3A%20%7B%22coordinates%22%3A%20%5B-122.63108%2C%2038.25222399999997%5D%2C%20%22type%22%3A%20%22Point%22%7D%2C%20%22id%22%3A%20%223%22%2C%20%22properties%22%3A%20%7B%22__folium_color%22%3A%20%22pink%22%2C%20%22__null_dask_index__%22%3A%2018821%2C%20%22stop_sequence%22%3A%20120%7D%2C%20%22type%22%3A%20%22Feature%22%7D%2C%20%7B%22bbox%22%3A%20%5B-122.65044000000002%2C%2038.263123000000036%2C%20-122.65044000000002%2C%2038.263123000000036%5D%2C%20%22geometry%22%3A%20%7B%22coordinates%22%3A%20%5B-122.65044000000002%2C%2038.263123000000036%5D%2C%20%22type%22%3A%20%22Point%22%7D%2C%20%22id%22%3A%20%224%22%2C%20%22properties%22%3A%20%7B%22__folium_color%22%3A%20%22pink%22%2C%20%22__null_dask_index__%22%3A%2011037%2C%20%22stop_sequence%22%3A%20330%7D%2C%20%22type%22%3A%20%22Feature%22%7D%2C%20%7B%22bbox%22%3A%20%5B-122.66435%2C%2038.27288000000006%2C%20-122.66435%2C%2038.27288000000006%5D%2C%20%22geometry%22%3A%20%7B%22coordinates%22%3A%20%5B-122.66435%2C%2038.27288000000006%5D%2C%20%22type%22%3A%20%22Point%22%7D%2C%20%22id%22%3A%20%225%22%2C%20%22properties%22%3A%20%7B%22__folium_color%22%3A%20%22pink%22%2C%20%22__null_dask_index__%22%3A%208634%2C%20%22stop_sequence%22%3A%20440%7D%2C%20%22type%22%3A%20%22Feature%22%7D%2C%20%7B%22bbox%22%3A%20%5B-122.63405000000002%2C%2038.25387599999997%2C%20-122.63405000000002%2C%2038.25387599999997%5D%2C%20%22geometry%22%3A%20%7B%22coordinates%22%3A%20%5B-122.63405000000002%2C%2038.25387599999997%5D%2C%20%22type%22%3A%20%22Point%22%7D%2C%20%22id%22%3A%20%226%22%2C%20%22properties%22%3A%20%7B%22__folium_color%22%3A%20%22pink%22%2C%20%22__null_dask_index__%22%3A%2013517%2C%20%22stop_sequence%22%3A%20180%7D%2C%20%22type%22%3A%20%22Feature%22%7D%2C%20%7B%22bbox%22%3A%20%5B-122.64881000000001%2C%2038.26220699999998%2C%20-122.64881000000001%2C%2038.26220699999998%5D%2C%20%22geometry%22%3A%20%7B%22coordinates%22%3A%20%5B-122.64881000000001%2C%2038.26220699999998%5D%2C%20%22type%22%3A%20%22Point%22%7D%2C%20%22id%22%3A%20%227%22%2C%20%22properties%22%3A%20%7B%22__folium_color%22%3A%20%22pink%22%2C%20%22__null_dask_index__%22%3A%2013518%2C%20%22stop_sequence%22%3A%20270%7D%2C%20%22type%22%3A%20%22Feature%22%7D%2C%20%7B%22bbox%22%3A%20%5B-122.64881000000001%2C%2038.26220699999998%2C%20-122.64881000000001%2C%2038.26220699999998%5D%2C%20%22geometry%22%3A%20%7B%22coordinates%22%3A%20%5B-122.64881000000001%2C%2038.26220699999998%5D%2C%20%22type%22%3A%20%22Point%22%7D%2C%20%22id%22%3A%20%228%22%2C%20%22properties%22%3A%20%7B%22__folium_color%22%3A%20%22pink%22%2C%20%22__null_dask_index__%22%3A%2013519%2C%20%22stop_sequence%22%3A%20270%7D%2C%20%22type%22%3A%20%22Feature%22%7D%2C%20%7B%22bbox%22%3A%20%5B-122.62176%2C%2038.248139999999964%2C%20-122.62176%2C%2038.248139999999964%5D%2C%20%22geometry%22%3A%20%7B%22coordinates%22%3A%20%5B-122.62176%2C%2038.248139999999964%5D%2C%20%22type%22%3A%20%22Point%22%7D%2C%20%22id%22%3A%20%229%22%2C%20%22properties%22%3A%20%7B%22__folium_color%22%3A%20%22pink%22%2C%20%22__null_dask_index__%22%3A%204222%2C%20%22stop_sequence%22%3A%20105%7D%2C%20%22type%22%3A%20%22Feature%22%7D%2C%20%7B%22bbox%22%3A%20%5B-122.62174000000002%2C%2038.248122999999985%2C%20-122.62174000000002%2C%2038.248122999999985%5D%2C%20%22geometry%22%3A%20%7B%22coordinates%22%3A%20%5B-122.62174000000002%2C%2038.248122999999985%5D%2C%20%22type%22%3A%20%22Point%22%7D%2C%20%22id%22%3A%20%2210%22%2C%20%22properties%22%3A%20%7B%22__folium_color%22%3A%20%22pink%22%2C%20%22__null_dask_index__%22%3A%202445%2C%20%22stop_sequence%22%3A%200%7D%2C%20%22type%22%3A%20%22Feature%22%7D%2C%20%7B%22bbox%22%3A%20%5B-122.66251000000001%2C%2038.27138000000001%2C%20-122.66251000000001%2C%2038.27138000000001%5D%2C%20%22geometry%22%3A%20%7B%22coordinates%22%3A%20%5B-122.66251000000001%2C%2038.27138000000001%5D%2C%20%22type%22%3A%20%22Point%22%7D%2C%20%22id%22%3A%20%2211%22%2C%20%22properties%22%3A%20%7B%22__folium_color%22%3A%20%22pink%22%2C%20%22__null_dask_index__%22%3A%2012330%2C%20%22stop_sequence%22%3A%20420%7D%2C%20%22type%22%3A%20%22Feature%22%7D%2C%20%7B%22bbox%22%3A%20%5B-122.64506000000002%2C%2038.260094000000024%2C%20-122.64506000000002%2C%2038.260094000000024%5D%2C%20%22geometry%22%3A%20%7B%22coordinates%22%3A%20%5B-122.64506000000002%2C%2038.260094000000024%5D%2C%20%22type%22%3A%20%22Point%22%7D%2C%20%22id%22%3A%20%2212%22%2C%20%22properties%22%3A%20%7B%22__folium_color%22%3A%20%22pink%22%2C%20%22__null_dask_index__%22%3A%2020087%2C%20%22stop_sequence%22%3A%20240%7D%2C%20%22type%22%3A%20%22Feature%22%7D%2C%20%7B%22bbox%22%3A%20%5B-122.64287%2C%2038.25883000000004%2C%20-122.64287%2C%2038.25883000000004%5D%2C%20%22geometry%22%3A%20%7B%22coordinates%22%3A%20%5B-122.64287%2C%2038.25883000000004%5D%2C%20%22type%22%3A%20%22Point%22%7D%2C%20%22id%22%3A%20%2213%22%2C%20%22properties%22%3A%20%7B%22__folium_color%22%3A%20%22pink%22%2C%20%22__null_dask_index__%22%3A%2057639%2C%20%22stop_sequence%22%3A%20220%7D%2C%20%22type%22%3A%20%22Feature%22%7D%2C%20%7B%22bbox%22%3A%20%5B-122.65350000000001%2C%2038.26486%2C%20-122.65350000000001%2C%2038.26486%5D%2C%20%22geometry%22%3A%20%7B%22coordinates%22%3A%20%5B-122.65350000000001%2C%2038.26486%5D%2C%20%22type%22%3A%20%22Point%22%7D%2C%20%22id%22%3A%20%2214%22%2C%20%22properties%22%3A%20%7B%22__folium_color%22%3A%20%22pink%22%2C%20%22__null_dask_index__%22%3A%2057640%2C%20%22stop_sequence%22%3A%20330%7D%2C%20%22type%22%3A%20%22Feature%22%7D%2C%20%7B%22bbox%22%3A%20%5B-122.63725%2C%2038.25567000000004%2C%20-122.63725%2C%2038.25567000000004%5D%2C%20%22geometry%22%3A%20%7B%22coordinates%22%3A%20%5B-122.63725%2C%2038.25567000000004%5D%2C%20%22type%22%3A%20%22Point%22%7D%2C%20%22id%22%3A%20%2215%22%2C%20%22properties%22%3A%20%7B%22__folium_color%22%3A%20%22pink%22%2C%20%22__null_dask_index__%22%3A%2060018%2C%20%22stop_sequence%22%3A%20180%7D%2C%20%22type%22%3A%20%22Feature%22%7D%2C%20%7B%22bbox%22%3A%20%5B-122.63927%2C%2038.25680000000002%2C%20-122.63927%2C%2038.25680000000002%5D%2C%20%22geometry%22%3A%20%7B%22coordinates%22%3A%20%5B-122.63927%2C%2038.25680000000002%5D%2C%20%22type%22%3A%20%22Point%22%7D%2C%20%22id%22%3A%20%2216%22%2C%20%22properties%22%3A%20%7B%22__folium_color%22%3A%20%22pink%22%2C%20%22__null_dask_index__%22%3A%204206%2C%20%22stop_sequence%22%3A%20200%7D%2C%20%22type%22%3A%20%22Feature%22%7D%2C%20%7B%22bbox%22%3A%20%5B-122.63927%2C%2038.25680000000002%2C%20-122.63927%2C%2038.25680000000002%5D%2C%20%22geometry%22%3A%20%7B%22coordinates%22%3A%20%5B-122.63927%2C%2038.25680000000002%5D%2C%20%22type%22%3A%20%22Point%22%7D%2C%20%22id%22%3A%20%2217%22%2C%20%22properties%22%3A%20%7B%22__folium_color%22%3A%20%22pink%22%2C%20%22__null_dask_index__%22%3A%204207%2C%20%22stop_sequence%22%3A%20200%7D%2C%20%22type%22%3A%20%22Feature%22%7D%2C%20%7B%22bbox%22%3A%20%5B-122.66685500000001%2C%2038.27431999999997%2C%20-122.66685500000001%2C%2038.27431999999997%5D%2C%20%22geometry%22%3A%20%7B%22coordinates%22%3A%20%5B-122.66685500000001%2C%2038.27431999999997%5D%2C%20%22type%22%3A%20%22Point%22%7D%2C%20%22id%22%3A%20%2218%22%2C%20%22properties%22%3A%20%7B%22__folium_color%22%3A%20%22pink%22%2C%20%22__null_dask_index__%22%3A%20576%2C%20%22stop_sequence%22%3A%20480%7D%2C%20%22type%22%3A%20%22Feature%22%7D%2C%20%7B%22bbox%22%3A%20%5B-122.63108%2C%2038.25222399999997%2C%20-122.63108%2C%2038.25222399999997%5D%2C%20%22geometry%22%3A%20%7B%22coordinates%22%3A%20%5B-122.63108%2C%2038.25222399999997%5D%2C%20%22type%22%3A%20%22Point%22%7D%2C%20%22id%22%3A%20%2219%22%2C%20%22properties%22%3A%20%7B%22__folium_color%22%3A%20%22pink%22%2C%20%22__null_dask_index__%22%3A%2047904%2C%20%22stop_sequence%22%3A%20105%7D%2C%20%22type%22%3A%20%22Feature%22%7D%2C%20%7B%22bbox%22%3A%20%5B-122.63251000000001%2C%2038.25300199999997%2C%20-122.63251000000001%2C%2038.25300199999997%5D%2C%20%22geometry%22%3A%20%7B%22coordinates%22%3A%20%5B-122.63251000000001%2C%2038.25300199999997%5D%2C%20%22type%22%3A%20%22Point%22%7D%2C%20%22id%22%3A%20%2220%22%2C%20%22properties%22%3A%20%7B%22__folium_color%22%3A%20%22pink%22%2C%20%22__null_dask_index__%22%3A%2055289%2C%20%22stop_sequence%22%3A%20120%7D%2C%20%22type%22%3A%20%22Feature%22%7D%2C%20%7B%22bbox%22%3A%20%5B-122.62176%2C%2038.248139999999964%2C%20-122.62176%2C%2038.248139999999964%5D%2C%20%22geometry%22%3A%20%7B%22coordinates%22%3A%20%5B-122.62176%2C%2038.248139999999964%5D%2C%20%22type%22%3A%20%22Point%22%7D%2C%20%22id%22%3A%20%2221%22%2C%20%22properties%22%3A%20%7B%22__folium_color%22%3A%20%22pink%22%2C%20%22__null_dask_index__%22%3A%2017696%2C%20%22stop_sequence%22%3A%200%7D%2C%20%22type%22%3A%20%22Feature%22%7D%2C%20%7B%22bbox%22%3A%20%5B-122.64287%2C%2038.25883000000004%2C%20-122.64287%2C%2038.25883000000004%5D%2C%20%22geometry%22%3A%20%7B%22coordinates%22%3A%20%5B-122.64287%2C%2038.25883000000004%5D%2C%20%22type%22%3A%20%22Point%22%7D%2C%20%22id%22%3A%20%2222%22%2C%20%22properties%22%3A%20%7B%22__folium_color%22%3A%20%22pink%22%2C%20%22__null_dask_index__%22%3A%205753%2C%20%22stop_sequence%22%3A%20220%7D%2C%20%22type%22%3A%20%22Feature%22%7D%2C%20%7B%22bbox%22%3A%20%5B-122.65680999999998%2C%2038.26668499999999%2C%20-122.65680999999998%2C%2038.26668499999999%5D%2C%20%22geometry%22%3A%20%7B%22coordinates%22%3A%20%5B-122.65680999999998%2C%2038.26668499999999%5D%2C%20%22type%22%3A%20%22Point%22%7D%2C%20%22id%22%3A%20%2223%22%2C%20%22properties%22%3A%20%7B%22__folium_color%22%3A%20%22pink%22%2C%20%22__null_dask_index__%22%3A%2015940%2C%20%22stop_sequence%22%3A%20360%7D%2C%20%22type%22%3A%20%22Feature%22%7D%2C%20%7B%22bbox%22%3A%20%5B-122.65680999999998%2C%2038.26668499999999%2C%20-122.65680999999998%2C%2038.26668499999999%5D%2C%20%22geometry%22%3A%20%7B%22coordinates%22%3A%20%5B-122.65680999999998%2C%2038.26668499999999%5D%2C%20%22type%22%3A%20%22Point%22%7D%2C%20%22id%22%3A%20%2224%22%2C%20%22properties%22%3A%20%7B%22__folium_color%22%3A%20%22pink%22%2C%20%22__null_dask_index__%22%3A%2015941%2C%20%22stop_sequence%22%3A%20360%7D%2C%20%22type%22%3A%20%22Feature%22%7D%2C%20%7B%22bbox%22%3A%20%5B-122.66435%2C%2038.27288000000006%2C%20-122.66435%2C%2038.27288000000006%5D%2C%20%22geometry%22%3A%20%7B%22coordinates%22%3A%20%5B-122.66435%2C%2038.27288000000006%5D%2C%20%22type%22%3A%20%22Point%22%7D%2C%20%22id%22%3A%20%2225%22%2C%20%22properties%22%3A%20%7B%22__folium_color%22%3A%20%22pink%22%2C%20%22__null_dask_index__%22%3A%2015942%2C%20%22stop_sequence%22%3A%20480%7D%2C%20%22type%22%3A%20%22Feature%22%7D%5D%2C%20%22type%22%3A%20%22FeatureCollection%22%7D%29%3B%0A%0A%20%20%20%20%20%20%20%20%0A%20%20%20%20%0A%20%20%20%20geo_json_3afc8aefac51499b80b5b944a06a3146.bindTooltip%28%0A%20%20%20%20function%28layer%29%7B%0A%20%20%20%20let%20div%20%3D%20L.DomUtil.create%28%27div%27%29%3B%0A%20%20%20%20%0A%20%20%20%20let%20handleObject%20%3D%20feature%3D%3Etypeof%28feature%29%3D%3D%27object%27%20%3F%20JSON.stringify%28feature%29%20%3A%20feature%3B%0A%20%20%20%20let%20fields%20%3D%20%5B%22__null_dask_index__%22%2C%20%22stop_sequence%22%5D%3B%0A%20%20%20%20let%20aliases%20%3D%20%5B%22__null_dask_index__%22%2C%20%22stop_sequence%22%5D%3B%0A%20%20%20%20let%20table%20%3D%20%27%3Ctable%3E%27%20%2B%0A%20%20%20%20%20%20%20%20String%28%0A%20%20%20%20%20%20%20%20fields.map%28%0A%20%20%20%20%20%20%20%20%28v%2Ci%29%3D%3E%0A%20%20%20%20%20%20%20%20%60%3Ctr%3E%0A%20%20%20%20%20%20%20%20%20%20%20%20%3Cth%3E%24%7Baliases%5Bi%5D%7D%3C/th%3E%0A%20%20%20%20%20%20%20%20%20%20%20%20%0A%20%20%20%20%20%20%20%20%20%20%20%20%3Ctd%3E%24%7BhandleObject%28layer.feature.properties%5Bv%5D%29%7D%3C/td%3E%0A%20%20%20%20%20%20%20%20%3C/tr%3E%60%29.join%28%27%27%29%29%0A%20%20%20%20%2B%27%3C/table%3E%27%3B%0A%20%20%20%20div.innerHTML%3Dtable%3B%0A%20%20%20%20%0A%20%20%20%20return%20div%0A%20%20%20%20%7D%0A%20%20%20%20%2C%7B%22className%22%3A%20%22foliumtooltip%22%2C%20%22sticky%22%3A%20true%7D%29%3B%0A%20%20%20%20%20%20%20%20%20%20%20%20%20%20%20%20%20%20%20%20%20%0A%3C/script%3E onload=\"this.contentDocument.open();this.contentDocument.write(    decodeURIComponent(this.getAttribute('data-html')));this.contentDocument.close();\" allowfullscreen webkitallowfullscreen mozallowfullscreen></iframe></div></div>"
      ],
      "text/plain": [
       "<folium.folium.Map at 0x7f7c5f64a040>"
      ]
     },
     "metadata": {},
     "output_type": "display_data"
    }
   ],
   "source": [
    "speed_utils.stage2_trouble_shooting(flagged_df= stage3_df,\n",
    "                        date = analysis_date,\n",
    "                        route = test_route1,\n",
    "                        trip = test_trip1,\n",
    "                        gtfs_key = test_gtfs_key1)"
   ]
  },
  {
   "cell_type": "markdown",
   "id": "38c6d374-155d-4fcc-985a-7c892eaecb46",
   "metadata": {},
   "source": [
    "#### Example Trip 2\n",
    "* Route is missing part of the segment?"
   ]
  },
  {
   "cell_type": "code",
   "execution_count": null,
   "id": "268c5f17-df4a-4d84-b3b0-d76a2727bcf7",
   "metadata": {},
   "outputs": [],
   "source": [
    "test_route2 = \"2fcc8c55ad61684b2e73860522d0626b\"\n",
    "test_gtfs_key2 = \"0faa34840bb65e96b7f83b7f379c2edd\"\n",
    "test_trip2 = \"1_Trip4_H_COVID\""
   ]
  },
  {
   "cell_type": "code",
   "execution_count": null,
   "id": "314e1a1e-4705-4f79-872f-77daaf8a3087",
   "metadata": {},
   "outputs": [],
   "source": [
    "merge4[merge4.trip_id == test_trip2][preview_cols2]"
   ]
  },
  {
   "cell_type": "code",
   "execution_count": null,
   "id": "5ae2cbab-5fa4-45bf-9965-962f33dc1946",
   "metadata": {},
   "outputs": [],
   "source": [
    "# Original number of rows for this trip\n",
    "#len(flagged[(flagged.trip_id == test_trip2) & (flagged.shape_array_key == test_route2)])"
   ]
  },
  {
   "cell_type": "code",
   "execution_count": null,
   "id": "8a927dfa-7b78-41f8-b387-6d03f4e328c6",
   "metadata": {},
   "outputs": [],
   "source": [
    "# Rows with zeroes...a lot of them.\n",
    "#len(divide_by_zero[(divide_by_zero.trip_id == test_trip2) & (divide_by_zero.shape_array_key == test_route2)])"
   ]
  },
  {
   "cell_type": "code",
   "execution_count": null,
   "id": "1b193ab2-1cfa-471b-aa1b-857949f4e2d1",
   "metadata": {},
   "outputs": [],
   "source": [
    "#stage3_df[(stage3_df.stage3_flag != 'check in stage 2') & (stage3_df.shape_array_key == test_route2) \n",
    "#   & (stage3_df.stop_sequence.isin([45,46]))].sort_values(by =sort_by)[preview_cols]"
   ]
  },
  {
   "cell_type": "code",
   "execution_count": null,
   "id": "4b3bc6c2-d9ff-44fd-b812-28c4dec1023f",
   "metadata": {},
   "outputs": [],
   "source": [
    "# % of trips with problematic rows for this route, lots of them\n",
    "#trips_count[trips_count.shape_array_key == test_route2]"
   ]
  },
  {
   "cell_type": "code",
   "execution_count": null,
   "id": "d121f820-9838-4d27-8eba-be74044554c6",
   "metadata": {
    "scrolled": true,
    "tags": []
   },
   "outputs": [],
   "source": [
    "#speed_utils.original_df_rows(m1, test_trip2, test_route2)"
   ]
  },
  {
   "cell_type": "code",
   "execution_count": null,
   "id": "776476fb-b4d7-463b-a962-dd4a25b2d8b7",
   "metadata": {},
   "outputs": [],
   "source": [
    "count_all_pts_sjoin(stage3_df, test_gtfs_key2, test_trip2, test_route2)"
   ]
  },
  {
   "cell_type": "code",
   "execution_count": null,
   "id": "4918232c-956f-413a-825f-e84c61d59c8b",
   "metadata": {},
   "outputs": [],
   "source": [
    "86/125"
   ]
  },
  {
   "cell_type": "code",
   "execution_count": null,
   "id": "deaa6fdf-37b8-49ee-97f2-46f74d41a449",
   "metadata": {},
   "outputs": [],
   "source": [
    "speed_utils.stage2_trouble_shooting(flagged_df= stage3_df,\n",
    "                     date = analysis_date,\n",
    "                       route = test_route2,\n",
    "                    trip = test_trip2,\n",
    "                      gtfs_key = test_gtfs_key2,)"
   ]
  },
  {
   "cell_type": "code",
   "execution_count": null,
   "id": "7f5485ec-4038-46d1-bca1-0116733f0128",
   "metadata": {},
   "outputs": [],
   "source": [
    "# See which trip has the most rows that are ok for this route\n",
    "#route_most_populated_df[route_most_populated_df.shape_array_key == test_route2]"
   ]
  },
  {
   "cell_type": "code",
   "execution_count": null,
   "id": "be67628e-7c55-43d8-838c-251bc4439a8b",
   "metadata": {},
   "outputs": [],
   "source": [
    "# Plot the trip from this route with the highest % of ok rows\n",
    "#speed_utils.stage2_trouble_shooting(flagged_df= stage3_df,\n",
    "#                        date = analysis_date,\n",
    "#                        route = test_route2,\n",
    " #                       trip = \"10294000051724-DEC22\",\n",
    " #                       gtfs_key = test_gtfs_key2,)"
   ]
  },
  {
   "cell_type": "markdown",
   "id": "27d10dab-c7b0-4ddd-b70b-b3c6b7b3e579",
   "metadata": {
    "tags": []
   },
   "source": [
    "#### Example Trip 3\n",
    "* One results says 100% of usable vps are sjoined, othe says only 60%\n",
    "* Which one is more accurate? Seems like result from my second test is more accurate (a1sjoin)"
   ]
  },
  {
   "cell_type": "code",
   "execution_count": null,
   "id": "f951ac97-43af-452f-9cb7-d40f71c114c9",
   "metadata": {},
   "outputs": [],
   "source": [
    "shape_key3 = \"7522dcf861b71950ebce7fc12d3b7e61\"\n",
    "gtfs_key3 = \"0af37e731f00a843fb9a0fe286f8d958\"\n",
    "test_trip3 = \"1093534\""
   ]
  },
  {
   "cell_type": "code",
   "execution_count": null,
   "id": "ae5c70af-8025-4a7a-8417-07e7a9875e5a",
   "metadata": {},
   "outputs": [],
   "source": [
    "merge4[merge4.trip_id == test_trip3][preview_cols2]"
   ]
  },
  {
   "cell_type": "code",
   "execution_count": null,
   "id": "299ec1b3-8230-4bd4-867b-81c033dcb259",
   "metadata": {},
   "outputs": [],
   "source": [
    "count_all_pts_sjoin(stage3_df, gtfs_key3, test_trip3, shape_key3)"
   ]
  },
  {
   "cell_type": "code",
   "execution_count": null,
   "id": "3924b873-6ba0-4fe4-bd2f-9e18c64753d4",
   "metadata": {},
   "outputs": [],
   "source": [
    "# stage3_df[(stage3_df.shape_array_key == shape_key3) & (stage3_df.trip_id == test_trip3)].sort_values(by =sort_by)[preview_cols]"
   ]
  },
  {
   "cell_type": "code",
   "execution_count": null,
   "id": "91798284-13ab-459b-80b8-8d3b63053615",
   "metadata": {
    "scrolled": true,
    "tags": []
   },
   "outputs": [],
   "source": [
    "# speed_utils.original_df_rows(flagged, test_trip3, gtfs_key3)"
   ]
  },
  {
   "cell_type": "code",
   "execution_count": null,
   "id": "91d07c20-9d78-4eea-8b9c-293df8ade5a3",
   "metadata": {},
   "outputs": [],
   "source": [
    "speed_utils.stage2_trouble_shooting(flagged_df= stage3_df,\n",
    "                       date = analysis_date,\n",
    "                       route = shape_key3,\n",
    "                       trip = test_trip3,\n",
    "                       gtfs_key = gtfs_key3,)"
   ]
  },
  {
   "cell_type": "code",
   "execution_count": null,
   "id": "0ef5a418-34fb-4470-a576-71fc5281476b",
   "metadata": {
    "tags": []
   },
   "outputs": [],
   "source": [
    "# Trip from this route with the most ok rows\n",
    "#route_most_populated_df[route_most_populated_df.shape_array_key == test_route3]"
   ]
  },
  {
   "cell_type": "code",
   "execution_count": null,
   "id": "bf92c615-47ab-4bd5-8513-0a9d202bd542",
   "metadata": {},
   "outputs": [],
   "source": [
    "# Test the trip with the most ok rows\n",
    "#speed_utils.stage2_trouble_shooting(flagged_df= stage3_df,\n",
    "#                        date = analysis_date,\n",
    "#                        route = test_route3,\n",
    "#                        trip = \"16938341\",\n",
    " #                       gtfs_key = test_gtfs_key3,)"
   ]
  },
  {
   "cell_type": "code",
   "execution_count": null,
   "id": "c9561cd4-1b24-4415-ac6b-71adba8d0dfa",
   "metadata": {
    "scrolled": true,
    "tags": []
   },
   "outputs": [],
   "source": [
    "#speed_utils.original_df_rows(flagged, \"16938341\", test_route3)"
   ]
  },
  {
   "cell_type": "markdown",
   "id": "6697f82a-bcc3-447f-80ef-121923ba80c7",
   "metadata": {},
   "source": [
    "#### Example Trip 4\n",
    "* See which result is more accurate.\n",
    "* SEems like second one is more accurate"
   ]
  },
  {
   "cell_type": "code",
   "execution_count": null,
   "id": "1699cec4-7178-437b-87ce-3377417432fd",
   "metadata": {},
   "outputs": [],
   "source": [
    "gtfs_key4 = \"00e412908245377894949d292fb79610\"\n",
    "trip_id4= \"t_1524229_b_30719_tn_0\"\n",
    "shape_key4 = \"0d53f0e2ed64d9ce4e0c8e63aa102a41\""
   ]
  },
  {
   "cell_type": "code",
   "execution_count": null,
   "id": "83293979-994f-4ed6-9c65-6775518bc1da",
   "metadata": {},
   "outputs": [],
   "source": [
    "merge4[merge4.trip_id == trip_id4][preview_cols2]"
   ]
  },
  {
   "cell_type": "code",
   "execution_count": null,
   "id": "5473cbb4-5edc-42bb-8b6a-b3cd1b12e7e6",
   "metadata": {},
   "outputs": [],
   "source": [
    "count_all_pts_sjoin(stage3_df, gtfs_key4, trip_id4, shape_key4)"
   ]
  },
  {
   "cell_type": "code",
   "execution_count": null,
   "id": "38428c4d-5e53-4463-bad0-89aac3ba6b09",
   "metadata": {},
   "outputs": [],
   "source": [
    "82/84"
   ]
  },
  {
   "cell_type": "code",
   "execution_count": null,
   "id": "5a1120b6-2540-49fd-914d-8068bd4adacf",
   "metadata": {},
   "outputs": [],
   "source": [
    "speed_utils.original_df_rows(flagged, trip_id4, shape_key4)"
   ]
  },
  {
   "cell_type": "code",
   "execution_count": null,
   "id": "fb9e9c8e-b695-420c-9843-b88cf2ed08f4",
   "metadata": {},
   "outputs": [],
   "source": [
    "# Test the trip with the most ok rows\n",
    "speed_utils.stage2_trouble_shooting(flagged_df= stage3_df,\n",
    "                        date = analysis_date,\n",
    "                        route = shape_key4,\n",
    "                        trip = trip_id4,\n",
    "                        gtfs_key = gtfs_key4,)"
   ]
  },
  {
   "cell_type": "markdown",
   "id": "56f748db-7e61-407e-b635-a624229183de",
   "metadata": {},
   "source": [
    "#### Example Trip 5\n",
    "* Checking out the difference\n",
    "* Segments are not all captured."
   ]
  },
  {
   "cell_type": "code",
   "execution_count": null,
   "id": "ac2c0b62-d950-407f-a621-64f237e47b81",
   "metadata": {},
   "outputs": [],
   "source": [
    "merge4[merge4.trip_id == \"1093295\"][preview_cols2]"
   ]
  },
  {
   "cell_type": "code",
   "execution_count": null,
   "id": "21993e4b-9459-41f4-8085-98f8667950bd",
   "metadata": {},
   "outputs": [],
   "source": [
    "route5 = \"df6aff9f6c51360bdf4819865e53681d\"\n",
    "operator5 = \"0af37e731f00a843fb9a0fe286f8d958\"\n",
    "trip5 = \"1093295\""
   ]
  },
  {
   "cell_type": "code",
   "execution_count": null,
   "id": "fd209cc5-e919-4307-9c2c-6215298341ce",
   "metadata": {},
   "outputs": [],
   "source": [
    "count_all_pts_sjoin(stage3_df, operator5, trip5, route5)"
   ]
  },
  {
   "cell_type": "code",
   "execution_count": null,
   "id": "b07bb8f1-bf4a-47c9-91c9-a82dd40624c9",
   "metadata": {},
   "outputs": [],
   "source": [
    "149/252"
   ]
  },
  {
   "cell_type": "code",
   "execution_count": null,
   "id": "bcc98e8b-0f7d-4c73-921d-e535a512b80f",
   "metadata": {},
   "outputs": [],
   "source": [
    "# Test the trip with the most ok rows\n",
    "speed_utils.stage2_trouble_shooting(flagged_df= stage3_df,\n",
    "                        date = analysis_date,\n",
    "                        route = route5,\n",
    "                        trip = trip5,\n",
    "                        gtfs_key = operator5,)"
   ]
  },
  {
   "cell_type": "markdown",
   "id": "a3e0a83a-4f90-4908-90c3-79ee1eb5502b",
   "metadata": {},
   "source": [
    "#### Example Trip 6\n",
    "*  231% of positions retained, 104 vehicle positions in sjoin but 45 in original. \n",
    "* Also part of the segments is missing"
   ]
  },
  {
   "cell_type": "code",
   "execution_count": null,
   "id": "7df60b14-ea08-43eb-bd91-3df86502551b",
   "metadata": {},
   "outputs": [],
   "source": [
    "route6= \"ca68b32661ba4f531c66249bfe6a78e9\"\n",
    "operator6 = \"3b0ddd2a33e5998da450917623a5c545\"\n",
    "trip6 = \"t_5653186_b_30571_tn_1\""
   ]
  },
  {
   "cell_type": "code",
   "execution_count": null,
   "id": "22767e5f-9ff6-4bb7-b027-dd2b3e4b9b1c",
   "metadata": {},
   "outputs": [],
   "source": [
    "merge1[(merge1.trip_id == trip6)]"
   ]
  },
  {
   "cell_type": "code",
   "execution_count": null,
   "id": "9bfa5931-f577-475e-b1c0-61976e0b21ab",
   "metadata": {},
   "outputs": [],
   "source": [
    "count_all_pts_sjoin(stage3_df, operator6, trip6, route6)"
   ]
  },
  {
   "cell_type": "code",
   "execution_count": null,
   "id": "a589de79-71cf-4e78-88e2-428e735afede",
   "metadata": {},
   "outputs": [],
   "source": [
    "81/110"
   ]
  },
  {
   "cell_type": "code",
   "execution_count": null,
   "id": "e2c8141d-217e-4b2c-b3d6-41ef80631d36",
   "metadata": {},
   "outputs": [],
   "source": [
    "speed_utils.stage2_trouble_shooting(flagged_df= stage3_df,\n",
    "                        date = analysis_date,\n",
    "                        route = route6,\n",
    "                        trip = trip6,\n",
    "                        gtfs_key = operator6,)"
   ]
  },
  {
   "cell_type": "markdown",
   "id": "60536d88-6a6b-4a4c-8998-2fb1d974fb21",
   "metadata": {},
   "source": [
    "#### Example Trip 7"
   ]
  },
  {
   "cell_type": "code",
   "execution_count": null,
   "id": "30f751c1-aeb7-4dd0-974f-0d59347da304",
   "metadata": {},
   "outputs": [],
   "source": [
    "\n",
    "route7= \"377aa54acee92ffd7de6c9f15cb98f3f\"\n",
    "operator7 = \"1aec012cf85cb59b80880a01b2d1b1ef\"\n",
    "trip7 = \"3098\""
   ]
  },
  {
   "cell_type": "code",
   "execution_count": null,
   "id": "479087c6-a5cc-4aa6-bc0d-aa6ad98647a4",
   "metadata": {},
   "outputs": [],
   "source": [
    "merge1[(merge1.gtfs_dataset_key == \"1aec012cf85cb59b80880a01b2d1b1ef\") & (merge1.trip_id == \"3098\")]"
   ]
  },
  {
   "cell_type": "code",
   "execution_count": null,
   "id": "b65c9796-fa50-412f-81d3-4e1d6a35fc69",
   "metadata": {},
   "outputs": [],
   "source": [
    "count_all_pts_sjoin(stage3_df, operator7, trip7, route7)"
   ]
  },
  {
   "cell_type": "code",
   "execution_count": null,
   "id": "2cfe9e9d-f10c-42fa-87b7-2b0782b1e8bd",
   "metadata": {},
   "outputs": [],
   "source": [
    "67/70"
   ]
  },
  {
   "cell_type": "code",
   "execution_count": 42,
   "id": "5746a951-d454-469f-bf06-1020214e54b2",
   "metadata": {},
   "outputs": [
    {
     "ename": "NameError",
     "evalue": "name 'stage3_df' is not defined",
     "output_type": "error",
     "traceback": [
      "\u001b[0;31m---------------------------------------------------------------------------\u001b[0m",
      "\u001b[0;31mNameError\u001b[0m                                 Traceback (most recent call last)",
      "Cell \u001b[0;32mIn[42], line 1\u001b[0m\n\u001b[0;32m----> 1\u001b[0m speed_utils\u001b[38;5;241m.\u001b[39mstage2_trouble_shooting(flagged_df\u001b[38;5;241m=\u001b[39m \u001b[43mstage3_df\u001b[49m,\n\u001b[1;32m      2\u001b[0m                         date \u001b[38;5;241m=\u001b[39m analysis_date,\n\u001b[1;32m      3\u001b[0m                         route \u001b[38;5;241m=\u001b[39m route7,\n\u001b[1;32m      4\u001b[0m                         trip \u001b[38;5;241m=\u001b[39m trip7,\n\u001b[1;32m      5\u001b[0m                         gtfs_key \u001b[38;5;241m=\u001b[39m operator7,)\n",
      "\u001b[0;31mNameError\u001b[0m: name 'stage3_df' is not defined"
     ]
    }
   ],
   "source": [
    "speed_utils.stage2_trouble_shooting(flagged_df= stage3_df,\n",
    "                        date = analysis_date,\n",
    "                        route = route7,\n",
    "                        trip = trip7,\n",
    "                        gtfs_key = operator7,)"
   ]
  },
  {
   "cell_type": "markdown",
   "id": "83de7b8d-60f9-4cf6-aa4b-00572c8ae860",
   "metadata": {
    "tags": []
   },
   "source": [
    "### Draft"
   ]
  },
  {
   "cell_type": "code",
   "execution_count": null,
   "id": "7a6cc43e-4598-4aef-9e0a-aa46b7e7a8fc",
   "metadata": {},
   "outputs": [],
   "source": [
    "stop running"
   ]
  },
  {
   "cell_type": "markdown",
   "id": "b8507169-2f04-49ce-86e2-364274ecdcfb",
   "metadata": {
    "tags": []
   },
   "source": [
    "#### Test 1\n",
    "* Breaking apart usable_vp to be similar in format as what I did with A2 Sjoin"
   ]
  },
  {
   "cell_type": "code",
   "execution_count": null,
   "id": "36d2e7b5-db1f-4e13-aa23-582c9913cccb",
   "metadata": {},
   "outputs": [],
   "source": [
    "test = parted_usable_vp.partitions[0]"
   ]
  },
  {
   "cell_type": "code",
   "execution_count": null,
   "id": "161775d4-849c-4ebc-a3ba-97f0e0162f49",
   "metadata": {},
   "outputs": [],
   "source": [
    "test1 = parted_usable_vp.partitions[1]"
   ]
  },
  {
   "cell_type": "code",
   "execution_count": null,
   "id": "04d7b5c8-651a-4ba2-bf78-544c623b3e56",
   "metadata": {},
   "outputs": [],
   "source": [
    "test = test.assign(\n",
    "    identifier = test.gtfs_dataset_key.astype(str) + '/' + test.trip_id.astype(str)\n",
    ")"
   ]
  },
  {
   "cell_type": "code",
   "execution_count": null,
   "id": "91fdc02e-7e23-48f6-9c0f-4917861de723",
   "metadata": {},
   "outputs": [],
   "source": [
    "# test = test.drop_duplicates(subset = ['vp_idx']) then do a count"
   ]
  },
  {
   "cell_type": "code",
   "execution_count": null,
   "id": "f2ec04cb-f478-4960-8421-34c3b766dad5",
   "metadata": {},
   "outputs": [],
   "source": [
    "# Using \n",
    "test = test.groupby(['identifier']).vp_idx.nunique()"
   ]
  },
  {
   "cell_type": "code",
   "execution_count": null,
   "id": "7c28d51c-6891-4468-be55-9e1c904029fb",
   "metadata": {},
   "outputs": [],
   "source": [
    "# Using \n",
    "test1 = test1.groupby(['gtfs_dataset_key','trip_id']).vp_idx.nunique()"
   ]
  },
  {
   "cell_type": "code",
   "execution_count": null,
   "id": "4325fb10-100e-4887-b146-019a21eda4c2",
   "metadata": {},
   "outputs": [],
   "source": [
    "test1 = test1.compute()"
   ]
  },
  {
   "cell_type": "code",
   "execution_count": null,
   "id": "18971d52-c295-44ea-9578-6c9ee23f1a45",
   "metadata": {},
   "outputs": [],
   "source": [
    "test1.head"
   ]
  },
  {
   "cell_type": "code",
   "execution_count": null,
   "id": "807d6fac-014d-4221-8950-a0574756e43b",
   "metadata": {},
   "outputs": [],
   "source": [
    "test1 = test1.reset_index()"
   ]
  },
  {
   "cell_type": "code",
   "execution_count": null,
   "id": "32a39786-eb68-4f7e-9a54-c9e6b15dcd27",
   "metadata": {},
   "outputs": [],
   "source": [
    "test1.vp_idx.describe()"
   ]
  },
  {
   "cell_type": "code",
   "execution_count": null,
   "id": "8bc120e1-7bec-423d-942f-1cc8f2ad8ff2",
   "metadata": {},
   "outputs": [],
   "source": [
    "test = test.compute()"
   ]
  },
  {
   "cell_type": "code",
   "execution_count": null,
   "id": "23b18361-9943-4544-abd1-542e3c6c0b85",
   "metadata": {},
   "outputs": [],
   "source": [
    "test.head()"
   ]
  },
  {
   "cell_type": "code",
   "execution_count": null,
   "id": "0c08e01e-aef1-4d55-96ce-7d2747476e47",
   "metadata": {},
   "outputs": [],
   "source": [
    "test = test.to_frame()"
   ]
  },
  {
   "cell_type": "code",
   "execution_count": null,
   "id": "5b3e6c9f-6cc4-47d8-86e3-a0a028172e58",
   "metadata": {},
   "outputs": [],
   "source": [
    "test = test.reset_index()"
   ]
  },
  {
   "cell_type": "code",
   "execution_count": null,
   "id": "4773cbf6-68e0-410a-8b38-8b7fd6c39803",
   "metadata": {
    "scrolled": true,
    "tags": []
   },
   "outputs": [],
   "source": [
    "test[\"gtfs_dataset_key\"] = test[\"identifier\"].str.split(\"/\").str[0]"
   ]
  },
  {
   "cell_type": "code",
   "execution_count": null,
   "id": "8868e5d0-ba5e-41a1-8b6d-d41077fa5ac0",
   "metadata": {},
   "outputs": [],
   "source": [
    "test[\"trip_id\"] = test[\"identifier\"].str.split(\"/\").str[1]"
   ]
  },
  {
   "cell_type": "code",
   "execution_count": null,
   "id": "5e2df493-887e-4d96-b936-a40be3ca8f6d",
   "metadata": {},
   "outputs": [],
   "source": [
    "test.head()"
   ]
  },
  {
   "cell_type": "code",
   "execution_count": null,
   "id": "79f785f5-2e06-4fb5-9c15-219a067ee797",
   "metadata": {},
   "outputs": [],
   "source": [
    "test.vp_idx.describe()"
   ]
  },
  {
   "cell_type": "markdown",
   "id": "df6004c3-2190-4f50-85b2-52a07fe04f30",
   "metadata": {
    "tags": []
   },
   "source": [
    "### A2 Sjoin\n",
    "* Valid trips that are `sjoin` to segments."
   ]
  },
  {
   "cell_type": "code",
   "execution_count": null,
   "id": "4cfafe44-5856-4311-82d3-052d569e4e97",
   "metadata": {},
   "outputs": [],
   "source": [
    "USABLE_VP = STOP_SEG_DICT[\"stage1\"]\n",
    "INPUT_FILE_PREFIX = STOP_SEG_DICT[\"stage2\"]\n",
    "GROUPING_COL = STOP_SEG_DICT[\"grouping_col\"]"
   ]
  },
  {
   "cell_type": "code",
   "execution_count": null,
   "id": "a737616c-9443-40d4-afce-2fb059b75629",
   "metadata": {},
   "outputs": [],
   "source": [
    "normal_shapes = A2_valid_vehicle_positions.identify_stop_segment_cases(\n",
    "        analysis_date, GROUPING_COL, 0)"
   ]
  },
  {
   "cell_type": "code",
   "execution_count": null,
   "id": "43f0953b-dfa2-4115-8dff-04ce883ad9a1",
   "metadata": {},
   "outputs": [],
   "source": [
    "abnormal_shapes = A2_valid_vehicle_positions.identify_stop_segment_cases(\n",
    "        analysis_date, GROUPING_COL, 1)"
   ]
  },
  {
   "cell_type": "code",
   "execution_count": null,
   "id": "01c079d2-4559-40d4-885d-3c1c582dceee",
   "metadata": {},
   "outputs": [],
   "source": [
    "# datetime.datetime.now() "
   ]
  },
  {
   "cell_type": "code",
   "execution_count": null,
   "id": "c3be391e-6e23-4988-a94c-a217aa8f469c",
   "metadata": {},
   "outputs": [],
   "source": [
    "# Using A2 since I need the VPs to sjoin\n",
    "# Only the pared down stops are saved out\n",
    "# This takes a super long time\n",
    "\"\"\"\n",
    "usable_abnormal_vp = A2_valid_vehicle_positions.merge_usable_vp_with_sjoin_vpidx(\n",
    "        abnormal_shapes,\n",
    "        f\"{USABLE_VP}_{analysis_date}\",\n",
    "        f\"{INPUT_FILE_PREFIX}_{analysis_date}\",\n",
    "        GROUPING_COL\n",
    "    )\n",
    "\n",
    " \"\"\"   "
   ]
  },
  {
   "cell_type": "code",
   "execution_count": null,
   "id": "46b645ab-8974-47f5-bb7e-a62f96720924",
   "metadata": {},
   "outputs": [],
   "source": [
    "#usable_abnormal_vp = usable_abnormal_vp.assign(\n",
    "#    identifier = usable_abnormal_vp.gtfs_dataset_key.astype(str) + '/' + usable_abnormal_vp.shape_array_key.astype(str) + '/' + usable_abnormal_vp.trip_id.astype(str)\n",
    "#)"
   ]
  },
  {
   "cell_type": "code",
   "execution_count": null,
   "id": "2245e4f1-6df5-4f43-80fd-3bafb8f6e990",
   "metadata": {},
   "outputs": [],
   "source": [
    "#datetime.datetime.now() "
   ]
  },
  {
   "cell_type": "code",
   "execution_count": null,
   "id": "417c3069-c104-4614-abfc-13a3fd941dd1",
   "metadata": {},
   "outputs": [],
   "source": [
    "#agg = usable_abnormal_vp.groupby(['identifier']).vp_idx.nunique()"
   ]
  },
  {
   "cell_type": "code",
   "execution_count": null,
   "id": "8e926640-d0de-47db-92a5-45be1d0579c9",
   "metadata": {},
   "outputs": [],
   "source": [
    "# agg = agg.compute()"
   ]
  },
  {
   "cell_type": "code",
   "execution_count": null,
   "id": "d0ab6038-bf0b-42e4-ad3d-7fa03ded9573",
   "metadata": {},
   "outputs": [],
   "source": [
    "#agg2 = agg.to_frame()"
   ]
  },
  {
   "cell_type": "code",
   "execution_count": null,
   "id": "0d4ac9bb-bdf5-4a56-ad9d-74726171a2fd",
   "metadata": {},
   "outputs": [],
   "source": [
    "#agg3 = agg2.reset_index()"
   ]
  },
  {
   "cell_type": "code",
   "execution_count": null,
   "id": "c347b0d4-f55b-4f8b-8a5b-f2cf1dcd2612",
   "metadata": {},
   "outputs": [],
   "source": [
    "#agg3.shape"
   ]
  },
  {
   "cell_type": "code",
   "execution_count": null,
   "id": "72411c89-3317-4bf5-9c6b-3782880073b4",
   "metadata": {},
   "outputs": [],
   "source": [
    "#agg3.sample()"
   ]
  },
  {
   "cell_type": "code",
   "execution_count": null,
   "id": "5be6cad0-97ae-4721-8e68-e8f3f28b23d0",
   "metadata": {},
   "outputs": [],
   "source": [
    "#agg3[\"gtfs_dataset_key\"] = agg3[\"index\"].str.split(\"/\").str[0]"
   ]
  },
  {
   "cell_type": "code",
   "execution_count": null,
   "id": "be2986ff-2ec9-42c9-b18b-d9d8971c91df",
   "metadata": {},
   "outputs": [],
   "source": [
    "#agg3[\"trip_id\"] = agg3[\"index\"].str.split(\"/\").str[2]"
   ]
  },
  {
   "cell_type": "code",
   "execution_count": null,
   "id": "1c557e52-a980-4e49-a325-75d5454deea9",
   "metadata": {},
   "outputs": [],
   "source": [
    "#agg3 = agg3.drop(columns = ['index'])"
   ]
  },
  {
   "cell_type": "code",
   "execution_count": null,
   "id": "2ce8f0e4-ada5-44c7-a585-3331e16de0b7",
   "metadata": {},
   "outputs": [],
   "source": [
    "#agg3 = agg3.rename(columns = {'vp_idx':'number_of_unique_vps_sjoin'})"
   ]
  },
  {
   "cell_type": "code",
   "execution_count": null,
   "id": "79052ef0-6270-4842-9839-50e24a9b4caa",
   "metadata": {},
   "outputs": [],
   "source": [
    "#agg3.to_parquet(\n",
    "#    f\"{SEGMENT_GCS}special_vps_testing.parquet\"\n",
    "#)"
   ]
  },
  {
   "cell_type": "code",
   "execution_count": null,
   "id": "3014229f-756f-4f5e-9b28-bea866d8a143",
   "metadata": {},
   "outputs": [],
   "source": [
    "#agg3 = pd.read_parquet(f\"{SEGMENT_GCS}normalvps_testing.parquet\")"
   ]
  },
  {
   "cell_type": "code",
   "execution_count": null,
   "id": "3c0a0652-8b56-4162-bb51-900c14072c5f",
   "metadata": {},
   "outputs": [],
   "source": [
    "normal = pd.read_parquet(f\"{SEGMENT_GCS}normal_vps_testing.parquet\")"
   ]
  },
  {
   "cell_type": "code",
   "execution_count": null,
   "id": "ff9723f1-32aa-4506-b924-d4c9cc22c89b",
   "metadata": {},
   "outputs": [],
   "source": [
    "normal = normal.drop(columns = ['identifier'])"
   ]
  },
  {
   "cell_type": "code",
   "execution_count": null,
   "id": "3e258fac-e825-42ba-b4a7-3210f0e3abde",
   "metadata": {},
   "outputs": [],
   "source": [
    "special = pd.read_parquet(f\"{SEGMENT_GCS}special_vps_testing.parquet\")"
   ]
  },
  {
   "cell_type": "code",
   "execution_count": null,
   "id": "aa02c1c1-c36c-4e88-9256-c52bdddb0691",
   "metadata": {},
   "outputs": [],
   "source": [
    "sjoin_results = pd.concat([special, normal])"
   ]
  },
  {
   "cell_type": "code",
   "execution_count": null,
   "id": "2fecf390-0960-4d51-a473-b51c4f35043c",
   "metadata": {},
   "outputs": [],
   "source": [
    "sjoin_results.sample()"
   ]
  },
  {
   "cell_type": "code",
   "execution_count": null,
   "id": "55a3a78f-4f39-4b54-8215-26847352cae2",
   "metadata": {},
   "outputs": [],
   "source": [
    "stop running"
   ]
  },
  {
   "cell_type": "code",
   "execution_count": null,
   "id": "94cc3765-65fd-4c0e-b541-3328eb7f6cc4",
   "metadata": {},
   "outputs": [],
   "source": [
    "# VP all without paring\n",
    "STG_0_FILE = STOP_SEG_DICT['stage0']\n",
    "    "
   ]
  },
  {
   "cell_type": "code",
   "execution_count": null,
   "id": "f126d889-20be-403a-bc5d-63af169afd96",
   "metadata": {},
   "outputs": [],
   "source": [
    "f\"{STG_0_FILE}_{analysis_date}/\""
   ]
  },
  {
   "cell_type": "code",
   "execution_count": null,
   "id": "e35c9f86-a7d7-474d-88a3-5757ce458925",
   "metadata": {},
   "outputs": [],
   "source": [
    "all_pts = helpers.import_vehicle_positions(\n",
    "            SEGMENT_GCS,\n",
    "            f\"{STG_0_FILE}_{analysis_date}/\",\n",
    "            \"df\",\n",
    "            columns = [\"gtfs_dataset_key\", \"trip_id\",\"geometry\"],\n",
    "            partitioned = False\n",
    "        )\n",
    "all_pts = all_pts.compute()"
   ]
  },
  {
   "cell_type": "code",
   "execution_count": null,
   "id": "ad87abe6-deab-411a-b27f-27f90f657d07",
   "metadata": {},
   "outputs": [],
   "source": [
    "all_pts.sample(5)"
   ]
  },
  {
   "cell_type": "code",
   "execution_count": null,
   "id": "a617736e-780e-47d6-8f0e-9436d3aaddb7",
   "metadata": {},
   "outputs": [],
   "source": [
    "all_pts2 = (all_pts\n",
    "        .groupby(['gtfs_dataset_key','trip_id'])\n",
    "        .agg({'geometry':'nunique'}).reset_index()\n",
    "        .rename(columns = {'geometry':'number_of_unique_vps_all_pts'})\n",
    "        .reset_index(drop = True)\n",
    "       )"
   ]
  },
  {
   "cell_type": "code",
   "execution_count": null,
   "id": "a86e4864-92d5-4cd4-bfdf-7f4da6511083",
   "metadata": {
    "tags": []
   },
   "outputs": [],
   "source": [
    "len(all_pts[(all_pts.gtfs_dataset_key == \"cdd2ad81863b6d4ad51676a1cb781ea8\") & (all_pts.trip_id == \"10686020\")])"
   ]
  },
  {
   "cell_type": "code",
   "execution_count": null,
   "id": "79157471-20dd-431b-a2b7-56f6f505b535",
   "metadata": {},
   "outputs": [],
   "source": [
    "all_pts2[(all_pts2.gtfs_dataset_key == \"cdd2ad81863b6d4ad51676a1cb781ea8\") & (all_pts2.trip_id == \"10686020\")]"
   ]
  },
  {
   "cell_type": "code",
   "execution_count": null,
   "id": "81b17588-37ee-4194-86f3-c208995ccb00",
   "metadata": {},
   "outputs": [],
   "source": [
    "all_pts2[(all_pts2.gtfs_dataset_key == \"593953c37ce48a9449bb90808ba0c1e1\") & (all_pts2.trip_id == \"t5FE-b3EA-sl13\")]"
   ]
  },
  {
   "cell_type": "code",
   "execution_count": null,
   "id": "d5459274-4c39-4b37-aecc-c5443a21974c",
   "metadata": {},
   "outputs": [],
   "source": [
    "all_pts2[(all_pts2.gtfs_dataset_key == \"65d9589130415c685b89f4f7c2d8bd7e\") & (all_pts2.trip_id == \"10035002751332-DEC22\")]"
   ]
  },
  {
   "cell_type": "code",
   "execution_count": null,
   "id": "9beedeac-8ebc-4ce7-ac18-01f0565dc2ef",
   "metadata": {},
   "outputs": [],
   "source": [
    "# How did this pop up in the grouped df if it doesn't even exist??\n",
    "all_pts[(all_pts.gtfs_dataset_key == \"00accf770009aafd5dc103ff2eeddb37\") & (all_pts.trip_id == \"-1160024104\")]"
   ]
  },
  {
   "cell_type": "code",
   "execution_count": null,
   "id": "0d91a933-c8b9-486f-9797-45e927fe2f02",
   "metadata": {},
   "outputs": [],
   "source": [
    "all_pts3 = all_pts.drop(columns = ['geometry']).drop_duplicates().reset_index(drop = True)"
   ]
  },
  {
   "cell_type": "code",
   "execution_count": null,
   "id": "d5219bc6-d659-47e9-af93-fb87fc1cb810",
   "metadata": {},
   "outputs": [],
   "source": [
    "len(all_pts3)"
   ]
  },
  {
   "cell_type": "code",
   "execution_count": null,
   "id": "8ef005ed-8e22-4812-b1c9-aba864dc6b42",
   "metadata": {},
   "outputs": [],
   "source": [
    "all_pts2.shape"
   ]
  },
  {
   "cell_type": "code",
   "execution_count": null,
   "id": "9b846c50-2c15-490a-a871-69b787970c9e",
   "metadata": {},
   "outputs": [],
   "source": [
    "len(all_pts)"
   ]
  },
  {
   "cell_type": "markdown",
   "id": "75ebbba3-ed5e-4aae-86a0-ae23efb4f0af",
   "metadata": {},
   "source": [
    "##### Merge Sjoin with All Vehicles"
   ]
  },
  {
   "cell_type": "code",
   "execution_count": null,
   "id": "4dc64cd8-4b0f-46e7-bbc2-e8241820de48",
   "metadata": {},
   "outputs": [],
   "source": [
    "# Merge to get rid of weird rows??\n",
    "# These are all points \n",
    "pd.merge(all_pts3, all_pts2, on = ['gtfs_dataset_key','trip_id'], how = 'outer', indicator = True)[['_merge']].value_counts()"
   ]
  },
  {
   "cell_type": "code",
   "execution_count": null,
   "id": "ff9ab50e-844b-4e08-a95c-0a1e29402603",
   "metadata": {},
   "outputs": [],
   "source": [
    "merge1 = pd.merge(all_pts3, all_pts2, on = ['gtfs_dataset_key','trip_id'], how = 'inner')"
   ]
  },
  {
   "cell_type": "code",
   "execution_count": null,
   "id": "a439c9f6-161e-43d6-aa43-17a6a8d2684b",
   "metadata": {},
   "outputs": [],
   "source": [
    "merge1.sample()"
   ]
  },
  {
   "cell_type": "code",
   "execution_count": null,
   "id": "e4d6ccc4-5ebe-4ff5-a2d4-39839eb42069",
   "metadata": {},
   "outputs": [],
   "source": [
    "merge1.shape"
   ]
  },
  {
   "cell_type": "code",
   "execution_count": null,
   "id": "e4e2f4bb-9b92-4841-a579-7105657f3d47",
   "metadata": {},
   "outputs": [],
   "source": [
    "# These are sjoin positions\n",
    "agg3.sample()"
   ]
  },
  {
   "cell_type": "code",
   "execution_count": null,
   "id": "8b8a0f3e-2e9a-4636-a68c-cad12296c3eb",
   "metadata": {},
   "outputs": [],
   "source": [
    "agg3.shape"
   ]
  },
  {
   "cell_type": "code",
   "execution_count": null,
   "id": "e263fa67-f7d7-4289-89a2-2d07c56733f7",
   "metadata": {},
   "outputs": [],
   "source": [
    "pd.merge(merge1, agg3, on = ['gtfs_dataset_key','trip_id'], how = 'outer', indicator = True)[['_merge']].value_counts()"
   ]
  },
  {
   "cell_type": "code",
   "execution_count": null,
   "id": "22bcd878-3b10-4591-bc77-94d06073af2e",
   "metadata": {},
   "outputs": [],
   "source": [
    "merge2 = pd.merge(merge1, agg3, on = ['gtfs_dataset_key','trip_id'], how = 'inner')"
   ]
  },
  {
   "cell_type": "code",
   "execution_count": null,
   "id": "60ba9b28-a9bc-4ab8-a830-f09a4b4b6ea1",
   "metadata": {},
   "outputs": [],
   "source": [
    "merge2.sample(5)"
   ]
  },
  {
   "cell_type": "markdown",
   "id": "a4881061-ff1e-4981-9174-3810137ca0b4",
   "metadata": {
    "tags": []
   },
   "source": [
    "#### Merge test1 with A2sjoin results"
   ]
  },
  {
   "cell_type": "code",
   "execution_count": null,
   "id": "1a1bc575-75d1-46f0-9ceb-ae6c7e698ac3",
   "metadata": {},
   "outputs": [],
   "source": [
    "len(sjoin_results)"
   ]
  },
  {
   "cell_type": "code",
   "execution_count": null,
   "id": "ec3151a3-7892-4c64-82e6-b6bee08e2d1b",
   "metadata": {},
   "outputs": [],
   "source": [
    "sjoin_results.gtfs_dataset_key.nunique(),sjoin_results.trip_id.nunique()"
   ]
  },
  {
   "cell_type": "code",
   "execution_count": null,
   "id": "fac519fc-4dda-426a-af86-d75cef66a333",
   "metadata": {},
   "outputs": [],
   "source": [
    "test.gtfs_dataset_key.nunique(),test.trip_id.nunique()"
   ]
  },
  {
   "cell_type": "code",
   "execution_count": null,
   "id": "abdb4e9e-e39e-4f53-9e04-bae02d9ba977",
   "metadata": {},
   "outputs": [],
   "source": [
    "test.sample()"
   ]
  },
  {
   "cell_type": "code",
   "execution_count": null,
   "id": "548419c1-4a2c-4aa0-aaab-a966141fe5fe",
   "metadata": {},
   "outputs": [],
   "source": [
    "sjoin_results.sample()"
   ]
  },
  {
   "cell_type": "code",
   "execution_count": null,
   "id": "6ad4f412-7859-4fb0-a946-dcd995f5b669",
   "metadata": {},
   "outputs": [],
   "source": [
    "# How is it possible there are some that are right_only?\n",
    "# Lots of left only results b/c this is the full df. \n",
    "# test is just a subset\n",
    "pd.merge(sjoin_results, test, on = ['gtfs_dataset_key','trip_id'], how = 'outer', indicator = True)[['_merge']].value_counts()"
   ]
  },
  {
   "cell_type": "code",
   "execution_count": null,
   "id": "4c25d405-62ab-46c6-8768-592aff6649bc",
   "metadata": {},
   "outputs": [],
   "source": [
    "# Should be inner\n",
    "merge1 =  pd.merge(test, sjoin_results,  on = ['gtfs_dataset_key','trip_id'], how = 'left')"
   ]
  },
  {
   "cell_type": "code",
   "execution_count": null,
   "id": "6df44195-53f4-474c-9151-e2efc34aa77d",
   "metadata": {},
   "outputs": [],
   "source": [
    "merge1.sample()"
   ]
  },
  {
   "cell_type": "code",
   "execution_count": null,
   "id": "187b701b-cd1b-4bcf-8129-9a752032f8ee",
   "metadata": {},
   "outputs": [],
   "source": [
    "len(merge1)"
   ]
  },
  {
   "cell_type": "code",
   "execution_count": null,
   "id": "4c6af39a-4f73-48c7-8192-1a87de39da54",
   "metadata": {},
   "outputs": [],
   "source": [
    "merge1['percent_of_positions_retained'] = merge1.number_of_unique_vps_sjoin/merge1.vp_idx * 100"
   ]
  },
  {
   "cell_type": "code",
   "execution_count": null,
   "id": "b7216c1a-c0ed-496a-bc50-8f5e75705a7a",
   "metadata": {},
   "outputs": [],
   "source": [
    "merge1.percent_of_positions_retained.describe()"
   ]
  },
  {
   "cell_type": "code",
   "execution_count": null,
   "id": "9d793c89-ca02-4957-b5cd-af3d755bc843",
   "metadata": {},
   "outputs": [],
   "source": [
    "merge1 = merge1.fillna(0)"
   ]
  },
  {
   "cell_type": "markdown",
   "id": "ee245732-2038-4048-b199-5f882b7bb625",
   "metadata": {},
   "source": [
    "##### Why are 94 of the rows over 100??\n",
    "* Same point can joined to the segment. \n",
    "* Use nunique"
   ]
  },
  {
   "cell_type": "code",
   "execution_count": null,
   "id": "3fe9ee1c-8f65-4490-b14f-bdf4a8cc3425",
   "metadata": {},
   "outputs": [],
   "source": [
    "merge1.sample(5)"
   ]
  },
  {
   "cell_type": "code",
   "execution_count": null,
   "id": "007f62e8-07fd-488f-aae4-88f721a3938b",
   "metadata": {},
   "outputs": [],
   "source": [
    "len(merge1[merge1.percent_of_positions_retained > 100])"
   ]
  },
  {
   "cell_type": "code",
   "execution_count": null,
   "id": "d7589c52-1e16-4adb-b921-c985649cb137",
   "metadata": {},
   "outputs": [],
   "source": [
    "len(merge1[merge1.percent_of_positions_retained == 100])"
   ]
  },
  {
   "cell_type": "code",
   "execution_count": null,
   "id": "ed221aab-1286-4666-a933-0f5659373d47",
   "metadata": {
    "scrolled": true,
    "tags": []
   },
   "outputs": [],
   "source": [
    "merge1[merge1.percent_of_positions_retained > 100].sample(5)"
   ]
  },
  {
   "cell_type": "markdown",
   "id": "0b211042-513c-4ef1-a1d7-2bc62aaf7c66",
   "metadata": {
    "tags": []
   },
   "source": [
    "#### Compare results"
   ]
  },
  {
   "cell_type": "code",
   "execution_count": null,
   "id": "f6bc8923-a16a-4deb-a582-e02b3d3e0bc5",
   "metadata": {},
   "outputs": [],
   "source": [
    "agg2.sample()"
   ]
  },
  {
   "cell_type": "code",
   "execution_count": null,
   "id": "03595460-96e6-4b28-a1ec-97a589d17198",
   "metadata": {},
   "outputs": [],
   "source": [
    "merge1.sample()"
   ]
  },
  {
   "cell_type": "code",
   "execution_count": null,
   "id": "b1ab2e84-358c-4313-a0c4-3a702241afb0",
   "metadata": {},
   "outputs": [],
   "source": [
    "pd.merge(agg2, merge1, on = ['gtfs_dataset_key','trip_id'], how = 'outer', indicator = True)[['_merge']].value_counts()"
   ]
  },
  {
   "cell_type": "code",
   "execution_count": null,
   "id": "31198a64-dd96-41ef-a3c9-e4dbc695e6de",
   "metadata": {},
   "outputs": [],
   "source": [
    "merge4 = pd.merge(agg2, merge1, on = ['gtfs_dataset_key','trip_id'], how = 'inner')"
   ]
  },
  {
   "cell_type": "code",
   "execution_count": null,
   "id": "bb0e7900-2dab-458d-bd30-2471d0d66985",
   "metadata": {},
   "outputs": [],
   "source": [
    "len(merge4)"
   ]
  },
  {
   "cell_type": "code",
   "execution_count": null,
   "id": "5a640856-27cd-4302-a3fd-3aa0ec1e9582",
   "metadata": {},
   "outputs": [],
   "source": [
    "merge4.sample()"
   ]
  },
  {
   "cell_type": "code",
   "execution_count": null,
   "id": "d5d1d00f-1230-4304-bddb-6c6d5b94a79e",
   "metadata": {},
   "outputs": [],
   "source": [
    "merge4['difference'] = (merge4.percent_of_pts - merge4.percent_of_positions_retained)"
   ]
  },
  {
   "cell_type": "code",
   "execution_count": null,
   "id": "c384b1a8-71a3-4932-baa7-6e92dd953497",
   "metadata": {},
   "outputs": [],
   "source": [
    "merge4.difference.describe()"
   ]
  },
  {
   "cell_type": "code",
   "execution_count": null,
   "id": "3b8d2221-e118-4539-b7d1-5e40abd48443",
   "metadata": {},
   "outputs": [],
   "source": [
    "merge4.percent_of_positions_retained.describe()"
   ]
  },
  {
   "cell_type": "code",
   "execution_count": null,
   "id": "043964a6-6f35-4a98-8c4e-7346f5f72c23",
   "metadata": {},
   "outputs": [],
   "source": [
    "preview_cols2 = ['shape_array_key','gtfs_dataset_key', 'trip_id', 'pts_not_in_sjoin', 'sjoin_pts', 'all_pts',\n",
    "        'percent_of_pts', 'vp_idx', 'number_of_unique_vps_sjoin', 'percent_of_positions_retained', 'difference']"
   ]
  },
  {
   "cell_type": "code",
   "execution_count": null,
   "id": "e689dd02-dae7-4362-9127-7e098e60f2a6",
   "metadata": {},
   "outputs": [],
   "source": [
    "crosswalk.sample()"
   ]
  },
  {
   "cell_type": "code",
   "execution_count": null,
   "id": "334c54ff-6bd6-4aff-9782-7a469286535a",
   "metadata": {},
   "outputs": [],
   "source": [
    "merge4.sample()"
   ]
  },
  {
   "cell_type": "code",
   "execution_count": null,
   "id": "70f7ded2-13f7-4b3f-9ad4-2b5b7b91b7c7",
   "metadata": {},
   "outputs": [],
   "source": [
    "pd.merge(merge4, crosswalk, on =['gtfs_dataset_key','trip_id'], how = 'outer', indicator = True)[['_merge']].value_counts()"
   ]
  },
  {
   "cell_type": "code",
   "execution_count": null,
   "id": "f21b70b7-52bf-49a7-a1a8-0b61eeddc1b3",
   "metadata": {},
   "outputs": [],
   "source": [
    "merge4 = pd.merge(merge4, crosswalk, on =['gtfs_dataset_key','trip_id'], how = 'left')"
   ]
  }
 ],
 "metadata": {
  "kernelspec": {
   "display_name": "Python 3 (ipykernel)",
   "language": "python",
   "name": "python3"
  },
  "language_info": {
   "codemirror_mode": {
    "name": "ipython",
    "version": 3
   },
   "file_extension": ".py",
   "mimetype": "text/x-python",
   "name": "python",
   "nbconvert_exporter": "python",
   "pygments_lexer": "ipython3",
   "version": "3.9.13"
  }
 },
 "nbformat": 4,
 "nbformat_minor": 5
}
