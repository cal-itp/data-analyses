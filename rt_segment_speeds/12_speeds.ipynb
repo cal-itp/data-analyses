{
 "cells": [
  {
   "cell_type": "code",
   "execution_count": 65,
   "id": "2c7feec3-aa18-42ab-94b9-cab4be608152",
   "metadata": {},
   "outputs": [],
   "source": [
    "import _threshold_utils as threshold_utils\n",
    "import altair as alt\n",
    "\n",
    "import pandas as pd\n",
    "import geopandas as gpd\n",
    "from segment_speed_utils.project_vars import analysis_date\n",
    "from shared_utils import calitp_color_palette as cp"
   ]
  },
  {
   "cell_type": "code",
   "execution_count": 66,
   "id": "0108ae4a-4518-4487-85f7-a5faa3e9cbf6",
   "metadata": {},
   "outputs": [],
   "source": [
    "pd.options.display.max_columns = 100\n",
    "pd.options.display.float_format = \"{:.2f}\".format\n",
    "pd.set_option(\"display.max_rows\", None)\n",
    "pd.set_option(\"display.max_colwidth\", None)"
   ]
  },
  {
   "cell_type": "code",
   "execution_count": 67,
   "id": "e3adcb1c-9a8a-4dee-9bdc-fddb63adbad9",
   "metadata": {},
   "outputs": [],
   "source": [
    "GCS_PATH = \"gs://calitp-analytics-data/data-analyses/rt_segment_speeds/\""
   ]
  },
  {
   "cell_type": "code",
   "execution_count": 68,
   "id": "73d5e27d-92d4-4dcd-b7b4-92272e6a71ff",
   "metadata": {},
   "outputs": [
    {
     "data": {
      "text/plain": [
       "'2023-03-15'"
      ]
     },
     "execution_count": 68,
     "metadata": {},
     "output_type": "execute_result"
    }
   ],
   "source": [
    "analysis_date"
   ]
  },
  {
   "cell_type": "code",
   "execution_count": 69,
   "id": "78c008c7-ebb5-4ea2-afa5-dab02c657614",
   "metadata": {},
   "outputs": [],
   "source": [
    "speed_stops_subset = ['gtfs_dataset_key', '_gtfs_dataset_name', 'shape_array_key',\n",
    "       'stop_sequence', 'trip_id','speed_mph']"
   ]
  },
  {
   "cell_type": "code",
   "execution_count": 70,
   "id": "28a36e54-f835-44a3-b083-6fcd07a9f3d7",
   "metadata": {
    "scrolled": true,
    "tags": []
   },
   "outputs": [],
   "source": [
    "speed_stops = pd.read_parquet(f\"{GCS_PATH}speeds_stop_segments_{analysis_date}\")"
   ]
  },
  {
   "cell_type": "code",
   "execution_count": 71,
   "id": "dbab80c9-48ea-4688-a643-b24637b1f603",
   "metadata": {},
   "outputs": [
    {
     "data": {
      "text/html": [
       "<div>\n",
       "<style scoped>\n",
       "    .dataframe tbody tr th:only-of-type {\n",
       "        vertical-align: middle;\n",
       "    }\n",
       "\n",
       "    .dataframe tbody tr th {\n",
       "        vertical-align: top;\n",
       "    }\n",
       "\n",
       "    .dataframe thead th {\n",
       "        text-align: right;\n",
       "    }\n",
       "</style>\n",
       "<table border=\"1\" class=\"dataframe\">\n",
       "  <thead>\n",
       "    <tr style=\"text-align: right;\">\n",
       "      <th></th>\n",
       "      <th>gtfs_dataset_key</th>\n",
       "      <th>_gtfs_dataset_name</th>\n",
       "      <th>shape_array_key</th>\n",
       "      <th>stop_sequence</th>\n",
       "      <th>trip_id</th>\n",
       "      <th>min_time</th>\n",
       "      <th>min_dist</th>\n",
       "      <th>max_time</th>\n",
       "      <th>max_dist</th>\n",
       "      <th>meters_elapsed</th>\n",
       "      <th>sec_elapsed</th>\n",
       "      <th>speed_mph</th>\n",
       "    </tr>\n",
       "    <tr>\n",
       "      <th>__null_dask_index__</th>\n",
       "      <th></th>\n",
       "      <th></th>\n",
       "      <th></th>\n",
       "      <th></th>\n",
       "      <th></th>\n",
       "      <th></th>\n",
       "      <th></th>\n",
       "      <th></th>\n",
       "      <th></th>\n",
       "      <th></th>\n",
       "      <th></th>\n",
       "      <th></th>\n",
       "    </tr>\n",
       "  </thead>\n",
       "  <tbody>\n",
       "    <tr>\n",
       "      <th>785877</th>\n",
       "      <td>65d9589130415c685b89f4f7c2d8bd7e</td>\n",
       "      <td>LA Metro Bus Vehicle Positions</td>\n",
       "      <td>a046abda31fc54621680d3b8581b6653</td>\n",
       "      <td>37</td>\n",
       "      <td>10106000631946-DEC22</td>\n",
       "      <td>2023-03-15 20:23:46</td>\n",
       "      <td>18.85</td>\n",
       "      <td>2023-03-15 20:24:46</td>\n",
       "      <td>708.11</td>\n",
       "      <td>689.26</td>\n",
       "      <td>60.00</td>\n",
       "      <td>25.70</td>\n",
       "    </tr>\n",
       "  </tbody>\n",
       "</table>\n",
       "</div>"
      ],
      "text/plain": [
       "                                     gtfs_dataset_key  \\\n",
       "__null_dask_index__                                     \n",
       "785877               65d9589130415c685b89f4f7c2d8bd7e   \n",
       "\n",
       "                                 _gtfs_dataset_name  \\\n",
       "__null_dask_index__                                   \n",
       "785877               LA Metro Bus Vehicle Positions   \n",
       "\n",
       "                                      shape_array_key  stop_sequence  \\\n",
       "__null_dask_index__                                                    \n",
       "785877               a046abda31fc54621680d3b8581b6653             37   \n",
       "\n",
       "                                  trip_id            min_time  min_dist  \\\n",
       "__null_dask_index__                                                       \n",
       "785877               10106000631946-DEC22 2023-03-15 20:23:46     18.85   \n",
       "\n",
       "                               max_time  max_dist  meters_elapsed  \\\n",
       "__null_dask_index__                                                 \n",
       "785877              2023-03-15 20:24:46    708.11          689.26   \n",
       "\n",
       "                     sec_elapsed  speed_mph  \n",
       "__null_dask_index__                          \n",
       "785877                     60.00      25.70  "
      ]
     },
     "execution_count": 71,
     "metadata": {},
     "output_type": "execute_result"
    }
   ],
   "source": [
    "speed_stops.sample()"
   ]
  },
  {
   "cell_type": "code",
   "execution_count": 72,
   "id": "e7f75ba6-88c2-4e9a-a79f-8e698dcbe44c",
   "metadata": {},
   "outputs": [],
   "source": [
    "speed_stops2 = speed_stops[speed_stops_subset]"
   ]
  },
  {
   "cell_type": "code",
   "execution_count": 73,
   "id": "f0ba2f58-8d42-4eaa-8c3f-2b606960467f",
   "metadata": {},
   "outputs": [
    {
     "data": {
      "text/html": [
       "<div>\n",
       "<style scoped>\n",
       "    .dataframe tbody tr th:only-of-type {\n",
       "        vertical-align: middle;\n",
       "    }\n",
       "\n",
       "    .dataframe tbody tr th {\n",
       "        vertical-align: top;\n",
       "    }\n",
       "\n",
       "    .dataframe thead th {\n",
       "        text-align: right;\n",
       "    }\n",
       "</style>\n",
       "<table border=\"1\" class=\"dataframe\">\n",
       "  <thead>\n",
       "    <tr style=\"text-align: right;\">\n",
       "      <th></th>\n",
       "      <th>gtfs_dataset_key</th>\n",
       "      <th>_gtfs_dataset_name</th>\n",
       "      <th>shape_array_key</th>\n",
       "      <th>stop_sequence</th>\n",
       "      <th>trip_id</th>\n",
       "      <th>speed_mph</th>\n",
       "    </tr>\n",
       "    <tr>\n",
       "      <th>__null_dask_index__</th>\n",
       "      <th></th>\n",
       "      <th></th>\n",
       "      <th></th>\n",
       "      <th></th>\n",
       "      <th></th>\n",
       "      <th></th>\n",
       "    </tr>\n",
       "  </thead>\n",
       "  <tbody>\n",
       "    <tr>\n",
       "      <th>508504</th>\n",
       "      <td>609173a0aa18c6e168c54b8731584ffa</td>\n",
       "      <td>Bay Area 511 Tri-Valley Wheels VehiclePositions</td>\n",
       "      <td>8542e0582e08cc4d26484bacd20a09dc</td>\n",
       "      <td>25</td>\n",
       "      <td>762762</td>\n",
       "      <td>14.16</td>\n",
       "    </tr>\n",
       "  </tbody>\n",
       "</table>\n",
       "</div>"
      ],
      "text/plain": [
       "                                     gtfs_dataset_key  \\\n",
       "__null_dask_index__                                     \n",
       "508504               609173a0aa18c6e168c54b8731584ffa   \n",
       "\n",
       "                                                  _gtfs_dataset_name  \\\n",
       "__null_dask_index__                                                    \n",
       "508504               Bay Area 511 Tri-Valley Wheels VehiclePositions   \n",
       "\n",
       "                                      shape_array_key  stop_sequence trip_id  \\\n",
       "__null_dask_index__                                                            \n",
       "508504               8542e0582e08cc4d26484bacd20a09dc             25  762762   \n",
       "\n",
       "                     speed_mph  \n",
       "__null_dask_index__             \n",
       "508504                   14.16  "
      ]
     },
     "execution_count": 73,
     "metadata": {},
     "output_type": "execute_result"
    }
   ],
   "source": [
    "speed_stops2.sample()"
   ]
  },
  {
   "cell_type": "code",
   "execution_count": 74,
   "id": "c12348af-0b89-4ac5-8b58-c76b99ae4158",
   "metadata": {
    "scrolled": true,
    "tags": []
   },
   "outputs": [],
   "source": [
    "# Do I need geometry? Doesn't seem like it..\n",
    "avg_speeds = gpd.read_parquet(f\"{GCS_PATH}avg_speeds_stop_segments_{analysis_date}.parquet\")"
   ]
  },
  {
   "cell_type": "code",
   "execution_count": 75,
   "id": "4d46f586-173b-4199-bda7-d39f8daa98e6",
   "metadata": {},
   "outputs": [],
   "source": [
    "avg_speeds_subset = ['geometry','geometry_arrowized','district','district_name']"
   ]
  },
  {
   "cell_type": "code",
   "execution_count": 76,
   "id": "8c970f9a-61b4-441a-9da8-f40b76a597c0",
   "metadata": {},
   "outputs": [],
   "source": [
    "avg_speeds2 = avg_speeds.drop(columns = avg_speeds_subset)"
   ]
  },
  {
   "cell_type": "code",
   "execution_count": 77,
   "id": "b102f42b-ab7a-402d-b524-03e4c2a72daf",
   "metadata": {
    "tags": []
   },
   "outputs": [
    {
     "data": {
      "text/html": [
       "<div>\n",
       "<style scoped>\n",
       "    .dataframe tbody tr th:only-of-type {\n",
       "        vertical-align: middle;\n",
       "    }\n",
       "\n",
       "    .dataframe tbody tr th {\n",
       "        vertical-align: top;\n",
       "    }\n",
       "\n",
       "    .dataframe thead th {\n",
       "        text-align: right;\n",
       "    }\n",
       "</style>\n",
       "<table border=\"1\" class=\"dataframe\">\n",
       "  <thead>\n",
       "    <tr style=\"text-align: right;\">\n",
       "      <th></th>\n",
       "      <th>shape_array_key</th>\n",
       "      <th>stop_sequence</th>\n",
       "      <th>gtfs_dataset_key</th>\n",
       "      <th>loop_or_inlining</th>\n",
       "      <th>avg_speed_mph</th>\n",
       "      <th>n_trips</th>\n",
       "      <th>p20_speed_mph</th>\n",
       "      <th>p80_speed_mph</th>\n",
       "    </tr>\n",
       "  </thead>\n",
       "  <tbody>\n",
       "    <tr>\n",
       "      <th>0</th>\n",
       "      <td>00093e1c28352239174c92c4f07a483b</td>\n",
       "      <td>1</td>\n",
       "      <td>03cadbffef6f3cd4ce839b218bc65e82</td>\n",
       "      <td>0</td>\n",
       "      <td>0.00</td>\n",
       "      <td>26</td>\n",
       "      <td>0.00</td>\n",
       "      <td>0.00</td>\n",
       "    </tr>\n",
       "    <tr>\n",
       "      <th>1</th>\n",
       "      <td>00093e1c28352239174c92c4f07a483b</td>\n",
       "      <td>2</td>\n",
       "      <td>03cadbffef6f3cd4ce839b218bc65e82</td>\n",
       "      <td>0</td>\n",
       "      <td>0.63</td>\n",
       "      <td>26</td>\n",
       "      <td>0.22</td>\n",
       "      <td>0.69</td>\n",
       "    </tr>\n",
       "  </tbody>\n",
       "</table>\n",
       "</div>"
      ],
      "text/plain": [
       "                    shape_array_key  stop_sequence  \\\n",
       "0  00093e1c28352239174c92c4f07a483b              1   \n",
       "1  00093e1c28352239174c92c4f07a483b              2   \n",
       "\n",
       "                   gtfs_dataset_key  loop_or_inlining  avg_speed_mph  n_trips  \\\n",
       "0  03cadbffef6f3cd4ce839b218bc65e82                 0           0.00       26   \n",
       "1  03cadbffef6f3cd4ce839b218bc65e82                 0           0.63       26   \n",
       "\n",
       "   p20_speed_mph  p80_speed_mph  \n",
       "0           0.00           0.00  \n",
       "1           0.22           0.69  "
      ]
     },
     "execution_count": 77,
     "metadata": {},
     "output_type": "execute_result"
    }
   ],
   "source": [
    "avg_speeds2.head(2)"
   ]
  },
  {
   "cell_type": "code",
   "execution_count": 78,
   "id": "3396cdc3-f776-49de-9ff4-dfd1d57f28de",
   "metadata": {},
   "outputs": [],
   "source": [
    "m1 = pd.merge(avg_speeds2, speed_stops2, on = ['gtfs_dataset_key','shape_array_key', 'stop_sequence'], how = 'inner')"
   ]
  },
  {
   "cell_type": "code",
   "execution_count": 79,
   "id": "d2fc9fe6-c9c2-4ba5-8ef2-30bbd7212a3a",
   "metadata": {},
   "outputs": [
    {
     "name": "stdout",
     "output_type": "stream",
     "text": [
      "<class 'pandas.core.frame.DataFrame'>\n",
      "Int64Index: 155454 entries, 0 to 144863\n",
      "Data columns (total 8 columns):\n",
      " #   Column            Non-Null Count   Dtype  \n",
      "---  ------            --------------   -----  \n",
      " 0   shape_array_key   155454 non-null  object \n",
      " 1   stop_sequence     155454 non-null  int16  \n",
      " 2   gtfs_dataset_key  155454 non-null  object \n",
      " 3   loop_or_inlining  155454 non-null  int64  \n",
      " 4   avg_speed_mph     155454 non-null  float64\n",
      " 5   n_trips           155454 non-null  int64  \n",
      " 6   p20_speed_mph     155454 non-null  float64\n",
      " 7   p80_speed_mph     155454 non-null  float64\n",
      "dtypes: float64(3), int16(1), int64(2), object(2)\n",
      "memory usage: 9.8+ MB\n"
     ]
    }
   ],
   "source": [
    "avg_speeds2.info()"
   ]
  },
  {
   "cell_type": "code",
   "execution_count": 80,
   "id": "662bca31-5f75-461c-b455-c1612ac17f4a",
   "metadata": {},
   "outputs": [
    {
     "data": {
      "text/html": [
       "<div>\n",
       "<style scoped>\n",
       "    .dataframe tbody tr th:only-of-type {\n",
       "        vertical-align: middle;\n",
       "    }\n",
       "\n",
       "    .dataframe tbody tr th {\n",
       "        vertical-align: top;\n",
       "    }\n",
       "\n",
       "    .dataframe thead th {\n",
       "        text-align: right;\n",
       "    }\n",
       "</style>\n",
       "<table border=\"1\" class=\"dataframe\">\n",
       "  <thead>\n",
       "    <tr style=\"text-align: right;\">\n",
       "      <th></th>\n",
       "      <th>shape_array_key</th>\n",
       "      <th>stop_sequence</th>\n",
       "      <th>gtfs_dataset_key</th>\n",
       "      <th>loop_or_inlining</th>\n",
       "      <th>avg_speed_mph</th>\n",
       "      <th>n_trips</th>\n",
       "      <th>p20_speed_mph</th>\n",
       "      <th>p80_speed_mph</th>\n",
       "      <th>_gtfs_dataset_name</th>\n",
       "      <th>trip_id</th>\n",
       "      <th>speed_mph</th>\n",
       "    </tr>\n",
       "  </thead>\n",
       "  <tbody>\n",
       "    <tr>\n",
       "      <th>0</th>\n",
       "      <td>00093e1c28352239174c92c4f07a483b</td>\n",
       "      <td>1</td>\n",
       "      <td>03cadbffef6f3cd4ce839b218bc65e82</td>\n",
       "      <td>0</td>\n",
       "      <td>0.00</td>\n",
       "      <td>26</td>\n",
       "      <td>0.00</td>\n",
       "      <td>0.00</td>\n",
       "      <td>Bay Area 511 Santa Clara Transit VehiclePositions</td>\n",
       "      <td>3288092</td>\n",
       "      <td>0.00</td>\n",
       "    </tr>\n",
       "    <tr>\n",
       "      <th>1</th>\n",
       "      <td>00093e1c28352239174c92c4f07a483b</td>\n",
       "      <td>1</td>\n",
       "      <td>03cadbffef6f3cd4ce839b218bc65e82</td>\n",
       "      <td>0</td>\n",
       "      <td>0.00</td>\n",
       "      <td>26</td>\n",
       "      <td>0.00</td>\n",
       "      <td>0.00</td>\n",
       "      <td>Bay Area 511 Santa Clara Transit VehiclePositions</td>\n",
       "      <td>3288102</td>\n",
       "      <td>0.00</td>\n",
       "    </tr>\n",
       "    <tr>\n",
       "      <th>2</th>\n",
       "      <td>00093e1c28352239174c92c4f07a483b</td>\n",
       "      <td>1</td>\n",
       "      <td>03cadbffef6f3cd4ce839b218bc65e82</td>\n",
       "      <td>0</td>\n",
       "      <td>0.00</td>\n",
       "      <td>26</td>\n",
       "      <td>0.00</td>\n",
       "      <td>0.00</td>\n",
       "      <td>Bay Area 511 Santa Clara Transit VehiclePositions</td>\n",
       "      <td>3288115</td>\n",
       "      <td>0.00</td>\n",
       "    </tr>\n",
       "    <tr>\n",
       "      <th>3</th>\n",
       "      <td>00093e1c28352239174c92c4f07a483b</td>\n",
       "      <td>1</td>\n",
       "      <td>03cadbffef6f3cd4ce839b218bc65e82</td>\n",
       "      <td>0</td>\n",
       "      <td>0.00</td>\n",
       "      <td>26</td>\n",
       "      <td>0.00</td>\n",
       "      <td>0.00</td>\n",
       "      <td>Bay Area 511 Santa Clara Transit VehiclePositions</td>\n",
       "      <td>3288117</td>\n",
       "      <td>0.00</td>\n",
       "    </tr>\n",
       "    <tr>\n",
       "      <th>4</th>\n",
       "      <td>00093e1c28352239174c92c4f07a483b</td>\n",
       "      <td>1</td>\n",
       "      <td>03cadbffef6f3cd4ce839b218bc65e82</td>\n",
       "      <td>0</td>\n",
       "      <td>0.00</td>\n",
       "      <td>26</td>\n",
       "      <td>0.00</td>\n",
       "      <td>0.00</td>\n",
       "      <td>Bay Area 511 Santa Clara Transit VehiclePositions</td>\n",
       "      <td>3288099</td>\n",
       "      <td>0.00</td>\n",
       "    </tr>\n",
       "  </tbody>\n",
       "</table>\n",
       "</div>"
      ],
      "text/plain": [
       "                    shape_array_key  stop_sequence  \\\n",
       "0  00093e1c28352239174c92c4f07a483b              1   \n",
       "1  00093e1c28352239174c92c4f07a483b              1   \n",
       "2  00093e1c28352239174c92c4f07a483b              1   \n",
       "3  00093e1c28352239174c92c4f07a483b              1   \n",
       "4  00093e1c28352239174c92c4f07a483b              1   \n",
       "\n",
       "                   gtfs_dataset_key  loop_or_inlining  avg_speed_mph  n_trips  \\\n",
       "0  03cadbffef6f3cd4ce839b218bc65e82                 0           0.00       26   \n",
       "1  03cadbffef6f3cd4ce839b218bc65e82                 0           0.00       26   \n",
       "2  03cadbffef6f3cd4ce839b218bc65e82                 0           0.00       26   \n",
       "3  03cadbffef6f3cd4ce839b218bc65e82                 0           0.00       26   \n",
       "4  03cadbffef6f3cd4ce839b218bc65e82                 0           0.00       26   \n",
       "\n",
       "   p20_speed_mph  p80_speed_mph  \\\n",
       "0           0.00           0.00   \n",
       "1           0.00           0.00   \n",
       "2           0.00           0.00   \n",
       "3           0.00           0.00   \n",
       "4           0.00           0.00   \n",
       "\n",
       "                                  _gtfs_dataset_name  trip_id  speed_mph  \n",
       "0  Bay Area 511 Santa Clara Transit VehiclePositions  3288092       0.00  \n",
       "1  Bay Area 511 Santa Clara Transit VehiclePositions  3288102       0.00  \n",
       "2  Bay Area 511 Santa Clara Transit VehiclePositions  3288115       0.00  \n",
       "3  Bay Area 511 Santa Clara Transit VehiclePositions  3288117       0.00  \n",
       "4  Bay Area 511 Santa Clara Transit VehiclePositions  3288099       0.00  "
      ]
     },
     "execution_count": 80,
     "metadata": {},
     "output_type": "execute_result"
    }
   ],
   "source": [
    "m1.head()"
   ]
  },
  {
   "cell_type": "code",
   "execution_count": 81,
   "id": "48e1b52a-d0fd-4c93-82a0-94c33c18a15c",
   "metadata": {},
   "outputs": [
    {
     "data": {
      "text/plain": [
       "Index(['shape_array_key', 'stop_sequence', 'gtfs_dataset_key',\n",
       "       'loop_or_inlining', 'avg_speed_mph', 'n_trips', 'p20_speed_mph',\n",
       "       'p80_speed_mph', '_gtfs_dataset_name', 'trip_id', 'speed_mph'],\n",
       "      dtype='object')"
      ]
     },
     "execution_count": 81,
     "metadata": {},
     "output_type": "execute_result"
    }
   ],
   "source": [
    "m1.columns"
   ]
  },
  {
   "cell_type": "code",
   "execution_count": 82,
   "id": "a0d801dd-0916-49d9-826d-f7591043f77c",
   "metadata": {},
   "outputs": [
    {
     "data": {
      "text/html": [
       "<div>\n",
       "<style scoped>\n",
       "    .dataframe tbody tr th:only-of-type {\n",
       "        vertical-align: middle;\n",
       "    }\n",
       "\n",
       "    .dataframe tbody tr th {\n",
       "        vertical-align: top;\n",
       "    }\n",
       "\n",
       "    .dataframe thead th {\n",
       "        text-align: right;\n",
       "    }\n",
       "</style>\n",
       "<table border=\"1\" class=\"dataframe\">\n",
       "  <thead>\n",
       "    <tr style=\"text-align: right;\">\n",
       "      <th></th>\n",
       "      <th></th>\n",
       "      <th>n_trips</th>\n",
       "    </tr>\n",
       "    <tr>\n",
       "      <th>_gtfs_dataset_name</th>\n",
       "      <th>shape_array_key</th>\n",
       "      <th></th>\n",
       "    </tr>\n",
       "  </thead>\n",
       "  <tbody>\n",
       "    <tr>\n",
       "      <th rowspan=\"5\" valign=\"top\">Anaheim Resort VehiclePositions</th>\n",
       "      <th>11d91cab41cde51a6d4f623b9cba867c</th>\n",
       "      <td>4</td>\n",
       "    </tr>\n",
       "    <tr>\n",
       "      <th>1e48661d195c13fc91d1a2f96f1f8c4f</th>\n",
       "      <td>26</td>\n",
       "    </tr>\n",
       "    <tr>\n",
       "      <th>29d2bbdbeaec1d6888800f85bebf6e33</th>\n",
       "      <td>8</td>\n",
       "    </tr>\n",
       "    <tr>\n",
       "      <th>2d6ca8831b70c1ff44dc5aa81d9114d0</th>\n",
       "      <td>5</td>\n",
       "    </tr>\n",
       "    <tr>\n",
       "      <th>39fc40d2ccadfa46548cbf953879ff90</th>\n",
       "      <td>4</td>\n",
       "    </tr>\n",
       "  </tbody>\n",
       "</table>\n",
       "</div>"
      ],
      "text/plain": [
       "                                                                  n_trips\n",
       "_gtfs_dataset_name              shape_array_key                          \n",
       "Anaheim Resort VehiclePositions 11d91cab41cde51a6d4f623b9cba867c        4\n",
       "                                1e48661d195c13fc91d1a2f96f1f8c4f       26\n",
       "                                29d2bbdbeaec1d6888800f85bebf6e33        8\n",
       "                                2d6ca8831b70c1ff44dc5aa81d9114d0        5\n",
       "                                39fc40d2ccadfa46548cbf953879ff90        4"
      ]
     },
     "execution_count": 82,
     "metadata": {},
     "output_type": "execute_result"
    }
   ],
   "source": [
    "m1.groupby(['_gtfs_dataset_name','shape_array_key']).agg({'n_trips':'max'}).head()"
   ]
  },
  {
   "cell_type": "code",
   "execution_count": 83,
   "id": "576c28b2-8c36-48a2-b312-9fc54010f7b5",
   "metadata": {},
   "outputs": [],
   "source": [
    "test1 = m1.melt(id_vars=[ '_gtfs_dataset_name','shape_array_key','trip_id', 'stop_sequence','gtfs_dataset_key','loop_or_inlining',\n",
    "                       'n_trips'], value_vars=[ 'avg_speed_mph','speed_mph','p20_speed_mph', 'p80_speed_mph'])"
   ]
  },
  {
   "cell_type": "code",
   "execution_count": 84,
   "id": "2b55cb75-8ee8-477c-95bc-439d2ee65962",
   "metadata": {},
   "outputs": [
    {
     "data": {
      "text/plain": [
       "(11174816, 9)"
      ]
     },
     "execution_count": 84,
     "metadata": {},
     "output_type": "execute_result"
    }
   ],
   "source": [
    "test1.shape"
   ]
  },
  {
   "cell_type": "code",
   "execution_count": 85,
   "id": "29dc19fd-0d8b-430d-a78a-a1c947263ef0",
   "metadata": {
    "scrolled": true,
    "tags": []
   },
   "outputs": [],
   "source": [
    "# test1[test1.shape_array_key == \"29d2bbdbeaec1d6888800f85bebf6e33\"]"
   ]
  },
  {
   "cell_type": "code",
   "execution_count": 86,
   "id": "e2c00548-7615-409c-a7cc-7db5f16c9a88",
   "metadata": {},
   "outputs": [],
   "source": [
    "# Only need average speed/p20 speed/p80 to show up once for each stop sequence-operator-shape array\n",
    "test2 = test1.drop_duplicates(subset = [ '_gtfs_dataset_name','shape_array_key','stop_sequence','gtfs_dataset_key','variable','value']).reset_index(drop = True)"
   ]
  },
  {
   "cell_type": "code",
   "execution_count": 87,
   "id": "be4bac6e-2d9f-4d64-a835-22bb4f3c32f5",
   "metadata": {},
   "outputs": [
    {
     "data": {
      "text/plain": [
       "(2842750, 9)"
      ]
     },
     "execution_count": 87,
     "metadata": {},
     "output_type": "execute_result"
    }
   ],
   "source": [
    "test2.shape"
   ]
  },
  {
   "cell_type": "code",
   "execution_count": 88,
   "id": "eda0f9f4-eee3-41b4-9503-acd7cdb36e12",
   "metadata": {},
   "outputs": [
    {
     "data": {
      "text/plain": [
       "array(['00093e1c28352239174c92c4f07a483b',\n",
       "       '001254fc8105d01a8064046249c0ceba',\n",
       "       '00b40413c13a48046de6e2338aee0410', ...,\n",
       "       '754c5b012195800c38dc58e72e4f482e',\n",
       "       'e3c5ed2c6fa6cd5c5cd57d46aeb3cd8e',\n",
       "       'efa0f969b4499620b80c9b82170e2e60'], dtype=object)"
      ]
     },
     "execution_count": 88,
     "metadata": {},
     "output_type": "execute_result"
    }
   ],
   "source": [
    "test2.shape_array_key.unique()"
   ]
  },
  {
   "cell_type": "markdown",
   "id": "5816ef70-bc10-4b87-b587-73f3789c5674",
   "metadata": {},
   "source": [
    "### Test with a few routes first\n",
    "* Create new col that rounds up speed for plotting purposes only."
   ]
  },
  {
   "cell_type": "code",
   "execution_count": 89,
   "id": "600d9ed7-524e-4af6-b90b-81fd89cf8c02",
   "metadata": {},
   "outputs": [],
   "source": [
    "subset = test2[test2.shape_array_key.isin([\"29d2bbdbeaec1d6888800f85bebf6e33\",'754c5b012195800c38dc58e72e4f482e',\n",
    "       'e3c5ed2c6fa6cd5c5cd57d46aeb3cd8e'])]"
   ]
  },
  {
   "cell_type": "code",
   "execution_count": 90,
   "id": "a92360af-5dfb-43e2-b89c-87c8b8268665",
   "metadata": {},
   "outputs": [],
   "source": [
    "subset = threshold_utils.pre_clean(subset)"
   ]
  },
  {
   "cell_type": "code",
   "execution_count": 91,
   "id": "4f0d0a5e-186e-4b7e-b307-6e6326c3e747",
   "metadata": {},
   "outputs": [],
   "source": [
    "subset['Route'] = subset['Gtfs Dataset Name'] + ' ' + subset['Shape Array Key']"
   ]
  },
  {
   "cell_type": "code",
   "execution_count": 92,
   "id": "a8d96219-49d0-4251-9b4b-a6968542424d",
   "metadata": {},
   "outputs": [],
   "source": [
    "subset = subset.rename(columns = {'Value':'Speed'})"
   ]
  },
  {
   "cell_type": "code",
   "execution_count": 93,
   "id": "7b9191e7-1c54-46ef-aa3b-d537f3e25a01",
   "metadata": {},
   "outputs": [
    {
     "data": {
      "text/plain": [
       "Index(['Gtfs Dataset Name', 'Shape Array Key', 'Trip Id', 'Stop Sequence',\n",
       "       'Gtfs Dataset Key', 'Loop Or Inlining', 'N Trips', 'Variable', 'Speed',\n",
       "       'Route'],\n",
       "      dtype='object')"
      ]
     },
     "execution_count": 93,
     "metadata": {},
     "output_type": "execute_result"
    }
   ],
   "source": [
    "subset.columns"
   ]
  },
  {
   "cell_type": "code",
   "execution_count": 94,
   "id": "b1155355-b4f6-41c2-beb1-f839d9d46027",
   "metadata": {},
   "outputs": [],
   "source": [
    "subset['Rounded Speed'] = subset.Speed.fillna(0).astype(int)"
   ]
  },
  {
   "cell_type": "code",
   "execution_count": 95,
   "id": "9a39e842-70f6-4ff6-84b7-44b4dea48a40",
   "metadata": {},
   "outputs": [],
   "source": [
    "subset.Variable = subset.Variable.str.title().str.replace(\"_\",\" \")"
   ]
  },
  {
   "cell_type": "code",
   "execution_count": 96,
   "id": "e400d085-d271-473f-ae5c-e1c4c522eb50",
   "metadata": {},
   "outputs": [
    {
     "data": {
      "text/plain": [
       "Index(['Gtfs Dataset Name', 'Shape Array Key', 'Trip Id', 'Stop Sequence',\n",
       "       'Gtfs Dataset Key', 'Loop Or Inlining', 'N Trips', 'Variable', 'Speed',\n",
       "       'Route', 'Rounded Speed'],\n",
       "      dtype='object')"
      ]
     },
     "execution_count": 96,
     "metadata": {},
     "output_type": "execute_result"
    }
   ],
   "source": [
    "subset.columns"
   ]
  },
  {
   "cell_type": "code",
   "execution_count": 97,
   "id": "a95e775c-4cff-44b6-a861-1a17efb5fbf2",
   "metadata": {},
   "outputs": [],
   "source": [
    "# One df for the actual speeds\n",
    "subset_speedmph = subset[subset.Variable == 'Speed Mph'].reset_index(drop = True)"
   ]
  },
  {
   "cell_type": "code",
   "execution_count": 98,
   "id": "447aec9f-1a4a-408c-bc16-22c67746c262",
   "metadata": {},
   "outputs": [],
   "source": [
    "# One df for the percentiles\n",
    "subset_other= subset[subset.Variable != 'Speed Mph'].reset_index(drop = True)"
   ]
  },
  {
   "cell_type": "code",
   "execution_count": 99,
   "id": "d969ef23-a65d-4eac-a985-de9f4dc8ecea",
   "metadata": {},
   "outputs": [],
   "source": [
    "dropdown_list = subset_speedmph['Route'].unique().tolist()"
   ]
  },
  {
   "cell_type": "code",
   "execution_count": 100,
   "id": "a6e3ef95-6c17-4e72-93bc-ba658d653465",
   "metadata": {},
   "outputs": [
    {
     "data": {
      "text/plain": [
       "['Anaheim Resort VehiclePositions 29d2bbdbeaec1d6888800f85bebf6e33',\n",
       " 'Eastern Sierra Vehicle Positions 754c5b012195800c38dc58e72e4f482e',\n",
       " 'Eastern Sierra Vehicle Positions e3c5ed2c6fa6cd5c5cd57d46aeb3cd8e']"
      ]
     },
     "execution_count": 100,
     "metadata": {},
     "output_type": "execute_result"
    }
   ],
   "source": [
    "dropdown_list"
   ]
  },
  {
   "cell_type": "code",
   "execution_count": 101,
   "id": "f86f17d7-f3ec-4431-b4f6-751dd711c3f8",
   "metadata": {},
   "outputs": [],
   "source": [
    "test = (alt.Chart(subset_other, width=0.5)\n",
    "        .mark_circle(size=100)\n",
    "        .encode(\n",
    "            x=alt.X(\n",
    "                \"jitter:Q\",\n",
    "                title=None,\n",
    "                axis=alt.Axis(values=[0], ticks=False, grid=False, labels=False),\n",
    "                scale=alt.Scale(),\n",
    "            ),\n",
    "            y=alt.Y(\"Rounded Speed:Q\", axis=alt.Axis(labelAngle=360)),\n",
    "            color=alt.Color(\n",
    "                \"Variable:N\",\n",
    "                scale=alt.Scale(range=cp.CALITP_CATEGORY_BRIGHT_COLORS),\n",
    "            ),\n",
    "            tooltip=subset_other.columns.tolist(),\n",
    "            column=alt.Column(\n",
    "                \"Stop Sequence:N\",\n",
    "                header=alt.Header(\n",
    "                    labelAngle=360,\n",
    "                    titleOrient=\"top\",\n",
    "                    labelOrient=\"bottom\",\n",
    "                    labelAlign=\"right\",\n",
    "                    labelPadding=2,\n",
    "                ),\n",
    "            ),\n",
    "        )\n",
    "        .transform_calculate(\n",
    "            # Generate Gaussian jitter with a Box-Muller transform\n",
    "            jitter=\"sqrt(-2*log(random()))*cos(2*PI*random())\"\n",
    "        )\n",
    "        .properties(title=\"mytitle\"))"
   ]
  },
  {
   "cell_type": "code",
   "execution_count": 104,
   "id": "6031e341-9df5-4d50-987e-6fd303c63314",
   "metadata": {},
   "outputs": [],
   "source": [
    "def create_dot_plot1(df, col_for_dots: str, \n",
    "                    x_axis_col:str, y_axis_col:str,\n",
    "                   tooltip_cols:list, chart_title:str):\n",
    "  \n",
    "    chart = (alt.Chart(df).mark_circle(opacity=1, size = 400).transform_window(\n",
    "    id='rank()',\n",
    "    groupby=[col_for_dots]).encode(\n",
    "    alt.X(f'{x_axis_col}:O', sort='descending', \n",
    "          axis=alt.Axis(ticks=False, grid=True)),\n",
    "    alt.Y(f'{y_axis_col}:N'), \n",
    "    color=alt.Color(f\"{col_for_dots}:N\", scale=alt.Scale(range=cp.CALITP_CATEGORY_BRIGHT_COLORS), legend=None),\n",
    "    tooltip = tooltip_cols)\n",
    "             .properties(title = chart_title))\n",
    "    \n",
    "    return chart"
   ]
  },
  {
   "cell_type": "code",
   "execution_count": 105,
   "id": "deefa707-5c86-4f68-9276-35ad60175c26",
   "metadata": {},
   "outputs": [],
   "source": [
    "test2 = create_dot_plot1(subset_speedmph, 'Variable', 'Stop Sequence', 'Rounded Speed', subset_speedmph.columns.tolist(),  'Percentile/Average')"
   ]
  },
  {
   "cell_type": "code",
   "execution_count": 107,
   "id": "302dc32d-c343-411f-b5b3-5b065f9c4242",
   "metadata": {},
   "outputs": [
    {
     "data": {
      "text/html": [
       "\n",
       "<style>\n",
       "  #altair-viz-7afc8b11ad044dcf867b3106f5ef7d26.vega-embed {\n",
       "    width: 100%;\n",
       "    display: flex;\n",
       "  }\n",
       "\n",
       "  #altair-viz-7afc8b11ad044dcf867b3106f5ef7d26.vega-embed details,\n",
       "  #altair-viz-7afc8b11ad044dcf867b3106f5ef7d26.vega-embed details summary {\n",
       "    position: relative;\n",
       "  }\n",
       "</style>\n",
       "<div id=\"altair-viz-7afc8b11ad044dcf867b3106f5ef7d26\"></div>\n",
       "<script type=\"text/javascript\">\n",
       "  var VEGA_DEBUG = (typeof VEGA_DEBUG == \"undefined\") ? {} : VEGA_DEBUG;\n",
       "  (function(spec, embedOpt){\n",
       "    let outputDiv = document.currentScript.previousElementSibling;\n",
       "    if (outputDiv.id !== \"altair-viz-7afc8b11ad044dcf867b3106f5ef7d26\") {\n",
       "      outputDiv = document.getElementById(\"altair-viz-7afc8b11ad044dcf867b3106f5ef7d26\");\n",
       "    }\n",
       "    const paths = {\n",
       "      \"vega\": \"https://cdn.jsdelivr.net/npm/vega@5?noext\",\n",
       "      \"vega-lib\": \"https://cdn.jsdelivr.net/npm/vega-lib?noext\",\n",
       "      \"vega-lite\": \"https://cdn.jsdelivr.net/npm/vega-lite@5.8.0?noext\",\n",
       "      \"vega-embed\": \"https://cdn.jsdelivr.net/npm/vega-embed@6?noext\",\n",
       "    };\n",
       "\n",
       "    function maybeLoadScript(lib, version) {\n",
       "      var key = `${lib.replace(\"-\", \"\")}_version`;\n",
       "      return (VEGA_DEBUG[key] == version) ?\n",
       "        Promise.resolve(paths[lib]) :\n",
       "        new Promise(function(resolve, reject) {\n",
       "          var s = document.createElement('script');\n",
       "          document.getElementsByTagName(\"head\")[0].appendChild(s);\n",
       "          s.async = true;\n",
       "          s.onload = () => {\n",
       "            VEGA_DEBUG[key] = version;\n",
       "            return resolve(paths[lib]);\n",
       "          };\n",
       "          s.onerror = () => reject(`Error loading script: ${paths[lib]}`);\n",
       "          s.src = paths[lib];\n",
       "        });\n",
       "    }\n",
       "\n",
       "    function showError(err) {\n",
       "      outputDiv.innerHTML = `<div class=\"error\" style=\"color:red;\">${err}</div>`;\n",
       "      throw err;\n",
       "    }\n",
       "\n",
       "    function displayChart(vegaEmbed) {\n",
       "      vegaEmbed(outputDiv, spec, embedOpt)\n",
       "        .catch(err => showError(`Javascript Error: ${err.message}<br>This usually means there's a typo in your chart specification. See the javascript console for the full traceback.`));\n",
       "    }\n",
       "\n",
       "    if(typeof define === \"function\" && define.amd) {\n",
       "      requirejs.config({paths});\n",
       "      require([\"vega-embed\"], displayChart, err => showError(`Error loading script: ${err.message}`));\n",
       "    } else {\n",
       "      maybeLoadScript(\"vega\", \"5\")\n",
       "        .then(() => maybeLoadScript(\"vega-lite\", \"5.8.0\"))\n",
       "        .then(() => maybeLoadScript(\"vega-embed\", \"6\"))\n",
       "        .catch(showError)\n",
       "        .then(() => displayChart(vegaEmbed));\n",
       "    }\n",
       "  })({\"config\": {\"view\": {\"continuousWidth\": 300, \"continuousHeight\": 300}}, \"data\": {\"name\": \"data-989a34a404eca811b3d670e660ee9008\"}, \"mark\": {\"type\": \"circle\", \"opacity\": 1, \"size\": 400}, \"encoding\": {\"color\": {\"field\": \"Variable\", \"legend\": null, \"scale\": {\"range\": [\"#2EA8CE\", \"#EB9F3C\", \"#F4D837\", \"#51BF9D\", \"#8CBCCB\", \"#9487C0\"]}, \"type\": \"nominal\"}, \"tooltip\": [{\"field\": \"Gtfs Dataset Name\", \"type\": \"nominal\"}, {\"field\": \"Shape Array Key\", \"type\": \"nominal\"}, {\"field\": \"Trip Id\", \"type\": \"nominal\"}, {\"field\": \"Stop Sequence\", \"type\": \"quantitative\"}, {\"field\": \"Gtfs Dataset Key\", \"type\": \"nominal\"}, {\"field\": \"Loop Or Inlining\", \"type\": \"quantitative\"}, {\"field\": \"N Trips\", \"type\": \"quantitative\"}, {\"field\": \"Variable\", \"type\": \"nominal\"}, {\"field\": \"Speed\", \"type\": \"quantitative\"}, {\"field\": \"Route\", \"type\": \"nominal\"}, {\"field\": \"Rounded Speed\", \"type\": \"quantitative\"}], \"x\": {\"axis\": {\"grid\": true, \"ticks\": false}, \"field\": \"Stop Sequence\", \"sort\": \"descending\", \"type\": \"ordinal\"}, \"y\": {\"field\": \"Rounded Speed\", \"type\": \"nominal\"}}, \"title\": \"Percentile/Average\", \"transform\": [{\"window\": [{\"op\": \"rank\", \"field\": \"\", \"as\": \"id\"}], \"groupby\": [\"Variable\"]}], \"$schema\": \"https://vega.github.io/schema/vega-lite/v5.8.0.json\", \"datasets\": {\"data-989a34a404eca811b3d670e660ee9008\": [{\"Gtfs Dataset Name\": \"Anaheim Resort VehiclePositions\", \"Shape Array Key\": \"29d2bbdbeaec1d6888800f85bebf6e33\", \"Trip Id\": \"aa6a03fe-f119-44a5-8976-2ad77ceeb89f:4\", \"Stop Sequence\": 1, \"Gtfs Dataset Key\": \"1051e067d18a76b0a79789f051d5c22b\", \"Loop Or Inlining\": 1, \"N Trips\": 8, \"Variable\": \"Speed Mph\", \"Speed\": 0.0, \"Route\": \"Anaheim Resort VehiclePositions 29d2bbdbeaec1d6888800f85bebf6e33\", \"Rounded Speed\": 0}, {\"Gtfs Dataset Name\": \"Anaheim Resort VehiclePositions\", \"Shape Array Key\": \"29d2bbdbeaec1d6888800f85bebf6e33\", \"Trip Id\": \"aa6a03fe-f119-44a5-8976-2ad77ceeb89f:1\", \"Stop Sequence\": 1, \"Gtfs Dataset Key\": \"1051e067d18a76b0a79789f051d5c22b\", \"Loop Or Inlining\": 1, \"N Trips\": 8, \"Variable\": \"Speed Mph\", \"Speed\": 0.0, \"Route\": \"Anaheim Resort VehiclePositions 29d2bbdbeaec1d6888800f85bebf6e33\", \"Rounded Speed\": 0}, {\"Gtfs Dataset Name\": \"Anaheim Resort VehiclePositions\", \"Shape Array Key\": \"29d2bbdbeaec1d6888800f85bebf6e33\", \"Trip Id\": \"aa6a03fe-f119-44a5-8976-2ad77ceeb89f:3\", \"Stop Sequence\": 1, \"Gtfs Dataset Key\": \"1051e067d18a76b0a79789f051d5c22b\", \"Loop Or Inlining\": 1, \"N Trips\": 8, \"Variable\": \"Speed Mph\", \"Speed\": 0.0, \"Route\": \"Anaheim Resort VehiclePositions 29d2bbdbeaec1d6888800f85bebf6e33\", \"Rounded Speed\": 0}, {\"Gtfs Dataset Name\": \"Anaheim Resort VehiclePositions\", \"Shape Array Key\": \"29d2bbdbeaec1d6888800f85bebf6e33\", \"Trip Id\": \"aa6a03fe-f119-44a5-8976-2ad77ceeb89f:7\", \"Stop Sequence\": 1, \"Gtfs Dataset Key\": \"1051e067d18a76b0a79789f051d5c22b\", \"Loop Or Inlining\": 1, \"N Trips\": 8, \"Variable\": \"Speed Mph\", \"Speed\": 0.0, \"Route\": \"Anaheim Resort VehiclePositions 29d2bbdbeaec1d6888800f85bebf6e33\", \"Rounded Speed\": 0}, {\"Gtfs Dataset Name\": \"Anaheim Resort VehiclePositions\", \"Shape Array Key\": \"29d2bbdbeaec1d6888800f85bebf6e33\", \"Trip Id\": \"aa6a03fe-f119-44a5-8976-2ad77ceeb89f:4\", \"Stop Sequence\": 2, \"Gtfs Dataset Key\": \"1051e067d18a76b0a79789f051d5c22b\", \"Loop Or Inlining\": 1, \"N Trips\": 8, \"Variable\": \"Speed Mph\", \"Speed\": 9.1, \"Route\": \"Anaheim Resort VehiclePositions 29d2bbdbeaec1d6888800f85bebf6e33\", \"Rounded Speed\": 9}, {\"Gtfs Dataset Name\": \"Anaheim Resort VehiclePositions\", \"Shape Array Key\": \"29d2bbdbeaec1d6888800f85bebf6e33\", \"Trip Id\": \"aa6a03fe-f119-44a5-8976-2ad77ceeb89f:8\", \"Stop Sequence\": 2, \"Gtfs Dataset Key\": \"1051e067d18a76b0a79789f051d5c22b\", \"Loop Or Inlining\": 1, \"N Trips\": 8, \"Variable\": \"Speed Mph\", \"Speed\": 9.6, \"Route\": \"Anaheim Resort VehiclePositions 29d2bbdbeaec1d6888800f85bebf6e33\", \"Rounded Speed\": 9}, {\"Gtfs Dataset Name\": \"Anaheim Resort VehiclePositions\", \"Shape Array Key\": \"29d2bbdbeaec1d6888800f85bebf6e33\", \"Trip Id\": \"aa6a03fe-f119-44a5-8976-2ad77ceeb89f:2\", \"Stop Sequence\": 2, \"Gtfs Dataset Key\": \"1051e067d18a76b0a79789f051d5c22b\", \"Loop Or Inlining\": 1, \"N Trips\": 8, \"Variable\": \"Speed Mph\", \"Speed\": 12.1, \"Route\": \"Anaheim Resort VehiclePositions 29d2bbdbeaec1d6888800f85bebf6e33\", \"Rounded Speed\": 12}, {\"Gtfs Dataset Name\": \"Anaheim Resort VehiclePositions\", \"Shape Array Key\": \"29d2bbdbeaec1d6888800f85bebf6e33\", \"Trip Id\": \"aa6a03fe-f119-44a5-8976-2ad77ceeb89f:7\", \"Stop Sequence\": 2, \"Gtfs Dataset Key\": \"1051e067d18a76b0a79789f051d5c22b\", \"Loop Or Inlining\": 1, \"N Trips\": 8, \"Variable\": \"Speed Mph\", \"Speed\": 7.3, \"Route\": \"Anaheim Resort VehiclePositions 29d2bbdbeaec1d6888800f85bebf6e33\", \"Rounded Speed\": 7}, {\"Gtfs Dataset Name\": \"Anaheim Resort VehiclePositions\", \"Shape Array Key\": \"29d2bbdbeaec1d6888800f85bebf6e33\", \"Trip Id\": \"aa6a03fe-f119-44a5-8976-2ad77ceeb89f:5\", \"Stop Sequence\": 2, \"Gtfs Dataset Key\": \"1051e067d18a76b0a79789f051d5c22b\", \"Loop Or Inlining\": 1, \"N Trips\": 8, \"Variable\": \"Speed Mph\", \"Speed\": 12.2, \"Route\": \"Anaheim Resort VehiclePositions 29d2bbdbeaec1d6888800f85bebf6e33\", \"Rounded Speed\": 12}, {\"Gtfs Dataset Name\": \"Anaheim Resort VehiclePositions\", \"Shape Array Key\": \"29d2bbdbeaec1d6888800f85bebf6e33\", \"Trip Id\": \"aa6a03fe-f119-44a5-8976-2ad77ceeb89f:1\", \"Stop Sequence\": 2, \"Gtfs Dataset Key\": \"1051e067d18a76b0a79789f051d5c22b\", \"Loop Or Inlining\": 1, \"N Trips\": 8, \"Variable\": \"Speed Mph\", \"Speed\": 1.5, \"Route\": \"Anaheim Resort VehiclePositions 29d2bbdbeaec1d6888800f85bebf6e33\", \"Rounded Speed\": 1}, {\"Gtfs Dataset Name\": \"Anaheim Resort VehiclePositions\", \"Shape Array Key\": \"29d2bbdbeaec1d6888800f85bebf6e33\", \"Trip Id\": \"aa6a03fe-f119-44a5-8976-2ad77ceeb89f:3\", \"Stop Sequence\": 2, \"Gtfs Dataset Key\": \"1051e067d18a76b0a79789f051d5c22b\", \"Loop Or Inlining\": 1, \"N Trips\": 8, \"Variable\": \"Speed Mph\", \"Speed\": 6.7, \"Route\": \"Anaheim Resort VehiclePositions 29d2bbdbeaec1d6888800f85bebf6e33\", \"Rounded Speed\": 6}, {\"Gtfs Dataset Name\": \"Anaheim Resort VehiclePositions\", \"Shape Array Key\": \"29d2bbdbeaec1d6888800f85bebf6e33\", \"Trip Id\": \"aa6a03fe-f119-44a5-8976-2ad77ceeb89f:6\", \"Stop Sequence\": 2, \"Gtfs Dataset Key\": \"1051e067d18a76b0a79789f051d5c22b\", \"Loop Or Inlining\": 1, \"N Trips\": 8, \"Variable\": \"Speed Mph\", \"Speed\": 5.5, \"Route\": \"Anaheim Resort VehiclePositions 29d2bbdbeaec1d6888800f85bebf6e33\", \"Rounded Speed\": 5}, {\"Gtfs Dataset Name\": \"Anaheim Resort VehiclePositions\", \"Shape Array Key\": \"29d2bbdbeaec1d6888800f85bebf6e33\", \"Trip Id\": \"aa6a03fe-f119-44a5-8976-2ad77ceeb89f:8\", \"Stop Sequence\": 3, \"Gtfs Dataset Key\": \"1051e067d18a76b0a79789f051d5c22b\", \"Loop Or Inlining\": 1, \"N Trips\": 8, \"Variable\": \"Speed Mph\", \"Speed\": 4.2, \"Route\": \"Anaheim Resort VehiclePositions 29d2bbdbeaec1d6888800f85bebf6e33\", \"Rounded Speed\": 4}, {\"Gtfs Dataset Name\": \"Anaheim Resort VehiclePositions\", \"Shape Array Key\": \"29d2bbdbeaec1d6888800f85bebf6e33\", \"Trip Id\": \"aa6a03fe-f119-44a5-8976-2ad77ceeb89f:6\", \"Stop Sequence\": 3, \"Gtfs Dataset Key\": \"1051e067d18a76b0a79789f051d5c22b\", \"Loop Or Inlining\": 1, \"N Trips\": 8, \"Variable\": \"Speed Mph\", \"Speed\": 5.5, \"Route\": \"Anaheim Resort VehiclePositions 29d2bbdbeaec1d6888800f85bebf6e33\", \"Rounded Speed\": 5}, {\"Gtfs Dataset Name\": \"Anaheim Resort VehiclePositions\", \"Shape Array Key\": \"29d2bbdbeaec1d6888800f85bebf6e33\", \"Trip Id\": \"aa6a03fe-f119-44a5-8976-2ad77ceeb89f:3\", \"Stop Sequence\": 3, \"Gtfs Dataset Key\": \"1051e067d18a76b0a79789f051d5c22b\", \"Loop Or Inlining\": 1, \"N Trips\": 8, \"Variable\": \"Speed Mph\", \"Speed\": 5.2, \"Route\": \"Anaheim Resort VehiclePositions 29d2bbdbeaec1d6888800f85bebf6e33\", \"Rounded Speed\": 5}, {\"Gtfs Dataset Name\": \"Anaheim Resort VehiclePositions\", \"Shape Array Key\": \"29d2bbdbeaec1d6888800f85bebf6e33\", \"Trip Id\": \"aa6a03fe-f119-44a5-8976-2ad77ceeb89f:7\", \"Stop Sequence\": 3, \"Gtfs Dataset Key\": \"1051e067d18a76b0a79789f051d5c22b\", \"Loop Or Inlining\": 1, \"N Trips\": 8, \"Variable\": \"Speed Mph\", \"Speed\": 3.7, \"Route\": \"Anaheim Resort VehiclePositions 29d2bbdbeaec1d6888800f85bebf6e33\", \"Rounded Speed\": 3}, {\"Gtfs Dataset Name\": \"Anaheim Resort VehiclePositions\", \"Shape Array Key\": \"29d2bbdbeaec1d6888800f85bebf6e33\", \"Trip Id\": \"aa6a03fe-f119-44a5-8976-2ad77ceeb89f:1\", \"Stop Sequence\": 3, \"Gtfs Dataset Key\": \"1051e067d18a76b0a79789f051d5c22b\", \"Loop Or Inlining\": 1, \"N Trips\": 8, \"Variable\": \"Speed Mph\", \"Speed\": 3.8, \"Route\": \"Anaheim Resort VehiclePositions 29d2bbdbeaec1d6888800f85bebf6e33\", \"Rounded Speed\": 3}, {\"Gtfs Dataset Name\": \"Anaheim Resort VehiclePositions\", \"Shape Array Key\": \"29d2bbdbeaec1d6888800f85bebf6e33\", \"Trip Id\": \"aa6a03fe-f119-44a5-8976-2ad77ceeb89f:5\", \"Stop Sequence\": 3, \"Gtfs Dataset Key\": \"1051e067d18a76b0a79789f051d5c22b\", \"Loop Or Inlining\": 1, \"N Trips\": 8, \"Variable\": \"Speed Mph\", \"Speed\": 3.7, \"Route\": \"Anaheim Resort VehiclePositions 29d2bbdbeaec1d6888800f85bebf6e33\", \"Rounded Speed\": 3}, {\"Gtfs Dataset Name\": \"Anaheim Resort VehiclePositions\", \"Shape Array Key\": \"29d2bbdbeaec1d6888800f85bebf6e33\", \"Trip Id\": \"aa6a03fe-f119-44a5-8976-2ad77ceeb89f:4\", \"Stop Sequence\": 3, \"Gtfs Dataset Key\": \"1051e067d18a76b0a79789f051d5c22b\", \"Loop Or Inlining\": 1, \"N Trips\": 8, \"Variable\": \"Speed Mph\", \"Speed\": 4.0, \"Route\": \"Anaheim Resort VehiclePositions 29d2bbdbeaec1d6888800f85bebf6e33\", \"Rounded Speed\": 4}, {\"Gtfs Dataset Name\": \"Anaheim Resort VehiclePositions\", \"Shape Array Key\": \"29d2bbdbeaec1d6888800f85bebf6e33\", \"Trip Id\": \"aa6a03fe-f119-44a5-8976-2ad77ceeb89f:2\", \"Stop Sequence\": 3, \"Gtfs Dataset Key\": \"1051e067d18a76b0a79789f051d5c22b\", \"Loop Or Inlining\": 1, \"N Trips\": 8, \"Variable\": \"Speed Mph\", \"Speed\": 3.5, \"Route\": \"Anaheim Resort VehiclePositions 29d2bbdbeaec1d6888800f85bebf6e33\", \"Rounded Speed\": 3}, {\"Gtfs Dataset Name\": \"Anaheim Resort VehiclePositions\", \"Shape Array Key\": \"29d2bbdbeaec1d6888800f85bebf6e33\", \"Trip Id\": \"aa6a03fe-f119-44a5-8976-2ad77ceeb89f:3\", \"Stop Sequence\": 4, \"Gtfs Dataset Key\": \"1051e067d18a76b0a79789f051d5c22b\", \"Loop Or Inlining\": 1, \"N Trips\": 8, \"Variable\": \"Speed Mph\", \"Speed\": 5.5, \"Route\": \"Anaheim Resort VehiclePositions 29d2bbdbeaec1d6888800f85bebf6e33\", \"Rounded Speed\": 5}, {\"Gtfs Dataset Name\": \"Anaheim Resort VehiclePositions\", \"Shape Array Key\": \"29d2bbdbeaec1d6888800f85bebf6e33\", \"Trip Id\": \"aa6a03fe-f119-44a5-8976-2ad77ceeb89f:2\", \"Stop Sequence\": 4, \"Gtfs Dataset Key\": \"1051e067d18a76b0a79789f051d5c22b\", \"Loop Or Inlining\": 1, \"N Trips\": 8, \"Variable\": \"Speed Mph\", \"Speed\": 4.7, \"Route\": \"Anaheim Resort VehiclePositions 29d2bbdbeaec1d6888800f85bebf6e33\", \"Rounded Speed\": 4}, {\"Gtfs Dataset Name\": \"Anaheim Resort VehiclePositions\", \"Shape Array Key\": \"29d2bbdbeaec1d6888800f85bebf6e33\", \"Trip Id\": \"aa6a03fe-f119-44a5-8976-2ad77ceeb89f:5\", \"Stop Sequence\": 4, \"Gtfs Dataset Key\": \"1051e067d18a76b0a79789f051d5c22b\", \"Loop Or Inlining\": 1, \"N Trips\": 8, \"Variable\": \"Speed Mph\", \"Speed\": 2.7, \"Route\": \"Anaheim Resort VehiclePositions 29d2bbdbeaec1d6888800f85bebf6e33\", \"Rounded Speed\": 2}, {\"Gtfs Dataset Name\": \"Anaheim Resort VehiclePositions\", \"Shape Array Key\": \"29d2bbdbeaec1d6888800f85bebf6e33\", \"Trip Id\": \"aa6a03fe-f119-44a5-8976-2ad77ceeb89f:4\", \"Stop Sequence\": 4, \"Gtfs Dataset Key\": \"1051e067d18a76b0a79789f051d5c22b\", \"Loop Or Inlining\": 1, \"N Trips\": 8, \"Variable\": \"Speed Mph\", \"Speed\": 1.9, \"Route\": \"Anaheim Resort VehiclePositions 29d2bbdbeaec1d6888800f85bebf6e33\", \"Rounded Speed\": 1}, {\"Gtfs Dataset Name\": \"Anaheim Resort VehiclePositions\", \"Shape Array Key\": \"29d2bbdbeaec1d6888800f85bebf6e33\", \"Trip Id\": \"aa6a03fe-f119-44a5-8976-2ad77ceeb89f:1\", \"Stop Sequence\": 4, \"Gtfs Dataset Key\": \"1051e067d18a76b0a79789f051d5c22b\", \"Loop Or Inlining\": 1, \"N Trips\": 8, \"Variable\": \"Speed Mph\", \"Speed\": 8.9, \"Route\": \"Anaheim Resort VehiclePositions 29d2bbdbeaec1d6888800f85bebf6e33\", \"Rounded Speed\": 8}, {\"Gtfs Dataset Name\": \"Anaheim Resort VehiclePositions\", \"Shape Array Key\": \"29d2bbdbeaec1d6888800f85bebf6e33\", \"Trip Id\": \"aa6a03fe-f119-44a5-8976-2ad77ceeb89f:6\", \"Stop Sequence\": 4, \"Gtfs Dataset Key\": \"1051e067d18a76b0a79789f051d5c22b\", \"Loop Or Inlining\": 1, \"N Trips\": 8, \"Variable\": \"Speed Mph\", \"Speed\": 4.0, \"Route\": \"Anaheim Resort VehiclePositions 29d2bbdbeaec1d6888800f85bebf6e33\", \"Rounded Speed\": 4}, {\"Gtfs Dataset Name\": \"Anaheim Resort VehiclePositions\", \"Shape Array Key\": \"29d2bbdbeaec1d6888800f85bebf6e33\", \"Trip Id\": \"aa6a03fe-f119-44a5-8976-2ad77ceeb89f:7\", \"Stop Sequence\": 4, \"Gtfs Dataset Key\": \"1051e067d18a76b0a79789f051d5c22b\", \"Loop Or Inlining\": 1, \"N Trips\": 8, \"Variable\": \"Speed Mph\", \"Speed\": 5.0, \"Route\": \"Anaheim Resort VehiclePositions 29d2bbdbeaec1d6888800f85bebf6e33\", \"Rounded Speed\": 5}, {\"Gtfs Dataset Name\": \"Anaheim Resort VehiclePositions\", \"Shape Array Key\": \"29d2bbdbeaec1d6888800f85bebf6e33\", \"Trip Id\": \"aa6a03fe-f119-44a5-8976-2ad77ceeb89f:8\", \"Stop Sequence\": 4, \"Gtfs Dataset Key\": \"1051e067d18a76b0a79789f051d5c22b\", \"Loop Or Inlining\": 1, \"N Trips\": 8, \"Variable\": \"Speed Mph\", \"Speed\": 5.8, \"Route\": \"Anaheim Resort VehiclePositions 29d2bbdbeaec1d6888800f85bebf6e33\", \"Rounded Speed\": 5}, {\"Gtfs Dataset Name\": \"Anaheim Resort VehiclePositions\", \"Shape Array Key\": \"29d2bbdbeaec1d6888800f85bebf6e33\", \"Trip Id\": \"aa6a03fe-f119-44a5-8976-2ad77ceeb89f:5\", \"Stop Sequence\": 5, \"Gtfs Dataset Key\": \"1051e067d18a76b0a79789f051d5c22b\", \"Loop Or Inlining\": 1, \"N Trips\": 8, \"Variable\": \"Speed Mph\", \"Speed\": 0.4, \"Route\": \"Anaheim Resort VehiclePositions 29d2bbdbeaec1d6888800f85bebf6e33\", \"Rounded Speed\": 0}, {\"Gtfs Dataset Name\": \"Anaheim Resort VehiclePositions\", \"Shape Array Key\": \"29d2bbdbeaec1d6888800f85bebf6e33\", \"Trip Id\": \"aa6a03fe-f119-44a5-8976-2ad77ceeb89f:1\", \"Stop Sequence\": 5, \"Gtfs Dataset Key\": \"1051e067d18a76b0a79789f051d5c22b\", \"Loop Or Inlining\": 1, \"N Trips\": 8, \"Variable\": \"Speed Mph\", \"Speed\": 0.4, \"Route\": \"Anaheim Resort VehiclePositions 29d2bbdbeaec1d6888800f85bebf6e33\", \"Rounded Speed\": 0}, {\"Gtfs Dataset Name\": \"Anaheim Resort VehiclePositions\", \"Shape Array Key\": \"29d2bbdbeaec1d6888800f85bebf6e33\", \"Trip Id\": \"aa6a03fe-f119-44a5-8976-2ad77ceeb89f:6\", \"Stop Sequence\": 5, \"Gtfs Dataset Key\": \"1051e067d18a76b0a79789f051d5c22b\", \"Loop Or Inlining\": 1, \"N Trips\": 8, \"Variable\": \"Speed Mph\", \"Speed\": 1.0, \"Route\": \"Anaheim Resort VehiclePositions 29d2bbdbeaec1d6888800f85bebf6e33\", \"Rounded Speed\": 1}, {\"Gtfs Dataset Name\": \"Anaheim Resort VehiclePositions\", \"Shape Array Key\": \"29d2bbdbeaec1d6888800f85bebf6e33\", \"Trip Id\": \"aa6a03fe-f119-44a5-8976-2ad77ceeb89f:2\", \"Stop Sequence\": 5, \"Gtfs Dataset Key\": \"1051e067d18a76b0a79789f051d5c22b\", \"Loop Or Inlining\": 1, \"N Trips\": 8, \"Variable\": \"Speed Mph\", \"Speed\": 0.9, \"Route\": \"Anaheim Resort VehiclePositions 29d2bbdbeaec1d6888800f85bebf6e33\", \"Rounded Speed\": 0}, {\"Gtfs Dataset Name\": \"Anaheim Resort VehiclePositions\", \"Shape Array Key\": \"29d2bbdbeaec1d6888800f85bebf6e33\", \"Trip Id\": \"aa6a03fe-f119-44a5-8976-2ad77ceeb89f:4\", \"Stop Sequence\": 5, \"Gtfs Dataset Key\": \"1051e067d18a76b0a79789f051d5c22b\", \"Loop Or Inlining\": 1, \"N Trips\": 8, \"Variable\": \"Speed Mph\", \"Speed\": 0.7, \"Route\": \"Anaheim Resort VehiclePositions 29d2bbdbeaec1d6888800f85bebf6e33\", \"Rounded Speed\": 0}, {\"Gtfs Dataset Name\": \"Anaheim Resort VehiclePositions\", \"Shape Array Key\": \"29d2bbdbeaec1d6888800f85bebf6e33\", \"Trip Id\": \"aa6a03fe-f119-44a5-8976-2ad77ceeb89f:7\", \"Stop Sequence\": 5, \"Gtfs Dataset Key\": \"1051e067d18a76b0a79789f051d5c22b\", \"Loop Or Inlining\": 1, \"N Trips\": 8, \"Variable\": \"Speed Mph\", \"Speed\": 0.9, \"Route\": \"Anaheim Resort VehiclePositions 29d2bbdbeaec1d6888800f85bebf6e33\", \"Rounded Speed\": 0}, {\"Gtfs Dataset Name\": \"Anaheim Resort VehiclePositions\", \"Shape Array Key\": \"29d2bbdbeaec1d6888800f85bebf6e33\", \"Trip Id\": \"aa6a03fe-f119-44a5-8976-2ad77ceeb89f:8\", \"Stop Sequence\": 5, \"Gtfs Dataset Key\": \"1051e067d18a76b0a79789f051d5c22b\", \"Loop Or Inlining\": 1, \"N Trips\": 8, \"Variable\": \"Speed Mph\", \"Speed\": 0.0, \"Route\": \"Anaheim Resort VehiclePositions 29d2bbdbeaec1d6888800f85bebf6e33\", \"Rounded Speed\": 0}, {\"Gtfs Dataset Name\": \"Anaheim Resort VehiclePositions\", \"Shape Array Key\": \"29d2bbdbeaec1d6888800f85bebf6e33\", \"Trip Id\": \"aa6a03fe-f119-44a5-8976-2ad77ceeb89f:3\", \"Stop Sequence\": 5, \"Gtfs Dataset Key\": \"1051e067d18a76b0a79789f051d5c22b\", \"Loop Or Inlining\": 1, \"N Trips\": 8, \"Variable\": \"Speed Mph\", \"Speed\": 0.6, \"Route\": \"Anaheim Resort VehiclePositions 29d2bbdbeaec1d6888800f85bebf6e33\", \"Rounded Speed\": 0}, {\"Gtfs Dataset Name\": \"Anaheim Resort VehiclePositions\", \"Shape Array Key\": \"29d2bbdbeaec1d6888800f85bebf6e33\", \"Trip Id\": \"aa6a03fe-f119-44a5-8976-2ad77ceeb89f:1\", \"Stop Sequence\": 6, \"Gtfs Dataset Key\": \"1051e067d18a76b0a79789f051d5c22b\", \"Loop Or Inlining\": 1, \"N Trips\": 8, \"Variable\": \"Speed Mph\", \"Speed\": 3.2, \"Route\": \"Anaheim Resort VehiclePositions 29d2bbdbeaec1d6888800f85bebf6e33\", \"Rounded Speed\": 3}, {\"Gtfs Dataset Name\": \"Anaheim Resort VehiclePositions\", \"Shape Array Key\": \"29d2bbdbeaec1d6888800f85bebf6e33\", \"Trip Id\": \"aa6a03fe-f119-44a5-8976-2ad77ceeb89f:7\", \"Stop Sequence\": 6, \"Gtfs Dataset Key\": \"1051e067d18a76b0a79789f051d5c22b\", \"Loop Or Inlining\": 1, \"N Trips\": 8, \"Variable\": \"Speed Mph\", \"Speed\": 3.1, \"Route\": \"Anaheim Resort VehiclePositions 29d2bbdbeaec1d6888800f85bebf6e33\", \"Rounded Speed\": 3}, {\"Gtfs Dataset Name\": \"Anaheim Resort VehiclePositions\", \"Shape Array Key\": \"29d2bbdbeaec1d6888800f85bebf6e33\", \"Trip Id\": \"aa6a03fe-f119-44a5-8976-2ad77ceeb89f:5\", \"Stop Sequence\": 6, \"Gtfs Dataset Key\": \"1051e067d18a76b0a79789f051d5c22b\", \"Loop Or Inlining\": 1, \"N Trips\": 8, \"Variable\": \"Speed Mph\", \"Speed\": 3.1, \"Route\": \"Anaheim Resort VehiclePositions 29d2bbdbeaec1d6888800f85bebf6e33\", \"Rounded Speed\": 3}, {\"Gtfs Dataset Name\": \"Anaheim Resort VehiclePositions\", \"Shape Array Key\": \"29d2bbdbeaec1d6888800f85bebf6e33\", \"Trip Id\": \"aa6a03fe-f119-44a5-8976-2ad77ceeb89f:8\", \"Stop Sequence\": 6, \"Gtfs Dataset Key\": \"1051e067d18a76b0a79789f051d5c22b\", \"Loop Or Inlining\": 1, \"N Trips\": 8, \"Variable\": \"Speed Mph\", \"Speed\": 1.6, \"Route\": \"Anaheim Resort VehiclePositions 29d2bbdbeaec1d6888800f85bebf6e33\", \"Rounded Speed\": 1}, {\"Gtfs Dataset Name\": \"Anaheim Resort VehiclePositions\", \"Shape Array Key\": \"29d2bbdbeaec1d6888800f85bebf6e33\", \"Trip Id\": \"aa6a03fe-f119-44a5-8976-2ad77ceeb89f:4\", \"Stop Sequence\": 6, \"Gtfs Dataset Key\": \"1051e067d18a76b0a79789f051d5c22b\", \"Loop Or Inlining\": 1, \"N Trips\": 8, \"Variable\": \"Speed Mph\", \"Speed\": 0.0, \"Route\": \"Anaheim Resort VehiclePositions 29d2bbdbeaec1d6888800f85bebf6e33\", \"Rounded Speed\": 0}, {\"Gtfs Dataset Name\": \"Anaheim Resort VehiclePositions\", \"Shape Array Key\": \"29d2bbdbeaec1d6888800f85bebf6e33\", \"Trip Id\": \"aa6a03fe-f119-44a5-8976-2ad77ceeb89f:6\", \"Stop Sequence\": 6, \"Gtfs Dataset Key\": \"1051e067d18a76b0a79789f051d5c22b\", \"Loop Or Inlining\": 1, \"N Trips\": 8, \"Variable\": \"Speed Mph\", \"Speed\": 3.5, \"Route\": \"Anaheim Resort VehiclePositions 29d2bbdbeaec1d6888800f85bebf6e33\", \"Rounded Speed\": 3}, {\"Gtfs Dataset Name\": \"Anaheim Resort VehiclePositions\", \"Shape Array Key\": \"29d2bbdbeaec1d6888800f85bebf6e33\", \"Trip Id\": \"aa6a03fe-f119-44a5-8976-2ad77ceeb89f:3\", \"Stop Sequence\": 6, \"Gtfs Dataset Key\": \"1051e067d18a76b0a79789f051d5c22b\", \"Loop Or Inlining\": 1, \"N Trips\": 8, \"Variable\": \"Speed Mph\", \"Speed\": 5.2, \"Route\": \"Anaheim Resort VehiclePositions 29d2bbdbeaec1d6888800f85bebf6e33\", \"Rounded Speed\": 5}, {\"Gtfs Dataset Name\": \"Anaheim Resort VehiclePositions\", \"Shape Array Key\": \"29d2bbdbeaec1d6888800f85bebf6e33\", \"Trip Id\": \"aa6a03fe-f119-44a5-8976-2ad77ceeb89f:2\", \"Stop Sequence\": 6, \"Gtfs Dataset Key\": \"1051e067d18a76b0a79789f051d5c22b\", \"Loop Or Inlining\": 1, \"N Trips\": 8, \"Variable\": \"Speed Mph\", \"Speed\": 0.1, \"Route\": \"Anaheim Resort VehiclePositions 29d2bbdbeaec1d6888800f85bebf6e33\", \"Rounded Speed\": 0}, {\"Gtfs Dataset Name\": \"Anaheim Resort VehiclePositions\", \"Shape Array Key\": \"29d2bbdbeaec1d6888800f85bebf6e33\", \"Trip Id\": \"aa6a03fe-f119-44a5-8976-2ad77ceeb89f:4\", \"Stop Sequence\": 7, \"Gtfs Dataset Key\": \"1051e067d18a76b0a79789f051d5c22b\", \"Loop Or Inlining\": 1, \"N Trips\": 8, \"Variable\": \"Speed Mph\", \"Speed\": 3.7, \"Route\": \"Anaheim Resort VehiclePositions 29d2bbdbeaec1d6888800f85bebf6e33\", \"Rounded Speed\": 3}, {\"Gtfs Dataset Name\": \"Anaheim Resort VehiclePositions\", \"Shape Array Key\": \"29d2bbdbeaec1d6888800f85bebf6e33\", \"Trip Id\": \"aa6a03fe-f119-44a5-8976-2ad77ceeb89f:2\", \"Stop Sequence\": 7, \"Gtfs Dataset Key\": \"1051e067d18a76b0a79789f051d5c22b\", \"Loop Or Inlining\": 1, \"N Trips\": 8, \"Variable\": \"Speed Mph\", \"Speed\": 4.2, \"Route\": \"Anaheim Resort VehiclePositions 29d2bbdbeaec1d6888800f85bebf6e33\", \"Rounded Speed\": 4}, {\"Gtfs Dataset Name\": \"Anaheim Resort VehiclePositions\", \"Shape Array Key\": \"29d2bbdbeaec1d6888800f85bebf6e33\", \"Trip Id\": \"aa6a03fe-f119-44a5-8976-2ad77ceeb89f:7\", \"Stop Sequence\": 7, \"Gtfs Dataset Key\": \"1051e067d18a76b0a79789f051d5c22b\", \"Loop Or Inlining\": 1, \"N Trips\": 8, \"Variable\": \"Speed Mph\", \"Speed\": 4.4, \"Route\": \"Anaheim Resort VehiclePositions 29d2bbdbeaec1d6888800f85bebf6e33\", \"Rounded Speed\": 4}, {\"Gtfs Dataset Name\": \"Anaheim Resort VehiclePositions\", \"Shape Array Key\": \"29d2bbdbeaec1d6888800f85bebf6e33\", \"Trip Id\": \"aa6a03fe-f119-44a5-8976-2ad77ceeb89f:5\", \"Stop Sequence\": 7, \"Gtfs Dataset Key\": \"1051e067d18a76b0a79789f051d5c22b\", \"Loop Or Inlining\": 1, \"N Trips\": 8, \"Variable\": \"Speed Mph\", \"Speed\": 1.6, \"Route\": \"Anaheim Resort VehiclePositions 29d2bbdbeaec1d6888800f85bebf6e33\", \"Rounded Speed\": 1}, {\"Gtfs Dataset Name\": \"Anaheim Resort VehiclePositions\", \"Shape Array Key\": \"29d2bbdbeaec1d6888800f85bebf6e33\", \"Trip Id\": \"aa6a03fe-f119-44a5-8976-2ad77ceeb89f:8\", \"Stop Sequence\": 7, \"Gtfs Dataset Key\": \"1051e067d18a76b0a79789f051d5c22b\", \"Loop Or Inlining\": 1, \"N Trips\": 8, \"Variable\": \"Speed Mph\", \"Speed\": 4.4, \"Route\": \"Anaheim Resort VehiclePositions 29d2bbdbeaec1d6888800f85bebf6e33\", \"Rounded Speed\": 4}, {\"Gtfs Dataset Name\": \"Anaheim Resort VehiclePositions\", \"Shape Array Key\": \"29d2bbdbeaec1d6888800f85bebf6e33\", \"Trip Id\": \"aa6a03fe-f119-44a5-8976-2ad77ceeb89f:1\", \"Stop Sequence\": 7, \"Gtfs Dataset Key\": \"1051e067d18a76b0a79789f051d5c22b\", \"Loop Or Inlining\": 1, \"N Trips\": 8, \"Variable\": \"Speed Mph\", \"Speed\": 5.7, \"Route\": \"Anaheim Resort VehiclePositions 29d2bbdbeaec1d6888800f85bebf6e33\", \"Rounded Speed\": 5}, {\"Gtfs Dataset Name\": \"Anaheim Resort VehiclePositions\", \"Shape Array Key\": \"29d2bbdbeaec1d6888800f85bebf6e33\", \"Trip Id\": \"aa6a03fe-f119-44a5-8976-2ad77ceeb89f:6\", \"Stop Sequence\": 7, \"Gtfs Dataset Key\": \"1051e067d18a76b0a79789f051d5c22b\", \"Loop Or Inlining\": 1, \"N Trips\": 8, \"Variable\": \"Speed Mph\", \"Speed\": 3.9, \"Route\": \"Anaheim Resort VehiclePositions 29d2bbdbeaec1d6888800f85bebf6e33\", \"Rounded Speed\": 3}, {\"Gtfs Dataset Name\": \"Anaheim Resort VehiclePositions\", \"Shape Array Key\": \"29d2bbdbeaec1d6888800f85bebf6e33\", \"Trip Id\": \"aa6a03fe-f119-44a5-8976-2ad77ceeb89f:3\", \"Stop Sequence\": 7, \"Gtfs Dataset Key\": \"1051e067d18a76b0a79789f051d5c22b\", \"Loop Or Inlining\": 1, \"N Trips\": 8, \"Variable\": \"Speed Mph\", \"Speed\": 2.7, \"Route\": \"Anaheim Resort VehiclePositions 29d2bbdbeaec1d6888800f85bebf6e33\", \"Rounded Speed\": 2}, {\"Gtfs Dataset Name\": \"Anaheim Resort VehiclePositions\", \"Shape Array Key\": \"29d2bbdbeaec1d6888800f85bebf6e33\", \"Trip Id\": \"aa6a03fe-f119-44a5-8976-2ad77ceeb89f:5\", \"Stop Sequence\": 8, \"Gtfs Dataset Key\": \"1051e067d18a76b0a79789f051d5c22b\", \"Loop Or Inlining\": 1, \"N Trips\": 8, \"Variable\": \"Speed Mph\", \"Speed\": 3.4, \"Route\": \"Anaheim Resort VehiclePositions 29d2bbdbeaec1d6888800f85bebf6e33\", \"Rounded Speed\": 3}, {\"Gtfs Dataset Name\": \"Anaheim Resort VehiclePositions\", \"Shape Array Key\": \"29d2bbdbeaec1d6888800f85bebf6e33\", \"Trip Id\": \"aa6a03fe-f119-44a5-8976-2ad77ceeb89f:7\", \"Stop Sequence\": 8, \"Gtfs Dataset Key\": \"1051e067d18a76b0a79789f051d5c22b\", \"Loop Or Inlining\": 1, \"N Trips\": 8, \"Variable\": \"Speed Mph\", \"Speed\": 4.7, \"Route\": \"Anaheim Resort VehiclePositions 29d2bbdbeaec1d6888800f85bebf6e33\", \"Rounded Speed\": 4}, {\"Gtfs Dataset Name\": \"Anaheim Resort VehiclePositions\", \"Shape Array Key\": \"29d2bbdbeaec1d6888800f85bebf6e33\", \"Trip Id\": \"aa6a03fe-f119-44a5-8976-2ad77ceeb89f:4\", \"Stop Sequence\": 8, \"Gtfs Dataset Key\": \"1051e067d18a76b0a79789f051d5c22b\", \"Loop Or Inlining\": 1, \"N Trips\": 8, \"Variable\": \"Speed Mph\", \"Speed\": 7.5, \"Route\": \"Anaheim Resort VehiclePositions 29d2bbdbeaec1d6888800f85bebf6e33\", \"Rounded Speed\": 7}, {\"Gtfs Dataset Name\": \"Anaheim Resort VehiclePositions\", \"Shape Array Key\": \"29d2bbdbeaec1d6888800f85bebf6e33\", \"Trip Id\": \"aa6a03fe-f119-44a5-8976-2ad77ceeb89f:1\", \"Stop Sequence\": 8, \"Gtfs Dataset Key\": \"1051e067d18a76b0a79789f051d5c22b\", \"Loop Or Inlining\": 1, \"N Trips\": 8, \"Variable\": \"Speed Mph\", \"Speed\": 7.2, \"Route\": \"Anaheim Resort VehiclePositions 29d2bbdbeaec1d6888800f85bebf6e33\", \"Rounded Speed\": 7}, {\"Gtfs Dataset Name\": \"Anaheim Resort VehiclePositions\", \"Shape Array Key\": \"29d2bbdbeaec1d6888800f85bebf6e33\", \"Trip Id\": \"aa6a03fe-f119-44a5-8976-2ad77ceeb89f:6\", \"Stop Sequence\": 8, \"Gtfs Dataset Key\": \"1051e067d18a76b0a79789f051d5c22b\", \"Loop Or Inlining\": 1, \"N Trips\": 8, \"Variable\": \"Speed Mph\", \"Speed\": 4.6, \"Route\": \"Anaheim Resort VehiclePositions 29d2bbdbeaec1d6888800f85bebf6e33\", \"Rounded Speed\": 4}, {\"Gtfs Dataset Name\": \"Anaheim Resort VehiclePositions\", \"Shape Array Key\": \"29d2bbdbeaec1d6888800f85bebf6e33\", \"Trip Id\": \"aa6a03fe-f119-44a5-8976-2ad77ceeb89f:2\", \"Stop Sequence\": 8, \"Gtfs Dataset Key\": \"1051e067d18a76b0a79789f051d5c22b\", \"Loop Or Inlining\": 1, \"N Trips\": 8, \"Variable\": \"Speed Mph\", \"Speed\": 4.0, \"Route\": \"Anaheim Resort VehiclePositions 29d2bbdbeaec1d6888800f85bebf6e33\", \"Rounded Speed\": 4}, {\"Gtfs Dataset Name\": \"Anaheim Resort VehiclePositions\", \"Shape Array Key\": \"29d2bbdbeaec1d6888800f85bebf6e33\", \"Trip Id\": \"aa6a03fe-f119-44a5-8976-2ad77ceeb89f:3\", \"Stop Sequence\": 8, \"Gtfs Dataset Key\": \"1051e067d18a76b0a79789f051d5c22b\", \"Loop Or Inlining\": 1, \"N Trips\": 8, \"Variable\": \"Speed Mph\", \"Speed\": 4.6, \"Route\": \"Anaheim Resort VehiclePositions 29d2bbdbeaec1d6888800f85bebf6e33\", \"Rounded Speed\": 4}, {\"Gtfs Dataset Name\": \"Anaheim Resort VehiclePositions\", \"Shape Array Key\": \"29d2bbdbeaec1d6888800f85bebf6e33\", \"Trip Id\": \"aa6a03fe-f119-44a5-8976-2ad77ceeb89f:5\", \"Stop Sequence\": 9, \"Gtfs Dataset Key\": \"1051e067d18a76b0a79789f051d5c22b\", \"Loop Or Inlining\": 1, \"N Trips\": 8, \"Variable\": \"Speed Mph\", \"Speed\": 2.5, \"Route\": \"Anaheim Resort VehiclePositions 29d2bbdbeaec1d6888800f85bebf6e33\", \"Rounded Speed\": 2}, {\"Gtfs Dataset Name\": \"Anaheim Resort VehiclePositions\", \"Shape Array Key\": \"29d2bbdbeaec1d6888800f85bebf6e33\", \"Trip Id\": \"aa6a03fe-f119-44a5-8976-2ad77ceeb89f:2\", \"Stop Sequence\": 9, \"Gtfs Dataset Key\": \"1051e067d18a76b0a79789f051d5c22b\", \"Loop Or Inlining\": 1, \"N Trips\": 8, \"Variable\": \"Speed Mph\", \"Speed\": 2.8, \"Route\": \"Anaheim Resort VehiclePositions 29d2bbdbeaec1d6888800f85bebf6e33\", \"Rounded Speed\": 2}, {\"Gtfs Dataset Name\": \"Anaheim Resort VehiclePositions\", \"Shape Array Key\": \"29d2bbdbeaec1d6888800f85bebf6e33\", \"Trip Id\": \"aa6a03fe-f119-44a5-8976-2ad77ceeb89f:3\", \"Stop Sequence\": 9, \"Gtfs Dataset Key\": \"1051e067d18a76b0a79789f051d5c22b\", \"Loop Or Inlining\": 1, \"N Trips\": 8, \"Variable\": \"Speed Mph\", \"Speed\": 5.1, \"Route\": \"Anaheim Resort VehiclePositions 29d2bbdbeaec1d6888800f85bebf6e33\", \"Rounded Speed\": 5}, {\"Gtfs Dataset Name\": \"Anaheim Resort VehiclePositions\", \"Shape Array Key\": \"29d2bbdbeaec1d6888800f85bebf6e33\", \"Trip Id\": \"aa6a03fe-f119-44a5-8976-2ad77ceeb89f:7\", \"Stop Sequence\": 9, \"Gtfs Dataset Key\": \"1051e067d18a76b0a79789f051d5c22b\", \"Loop Or Inlining\": 1, \"N Trips\": 8, \"Variable\": \"Speed Mph\", \"Speed\": 6.4, \"Route\": \"Anaheim Resort VehiclePositions 29d2bbdbeaec1d6888800f85bebf6e33\", \"Rounded Speed\": 6}, {\"Gtfs Dataset Name\": \"Anaheim Resort VehiclePositions\", \"Shape Array Key\": \"29d2bbdbeaec1d6888800f85bebf6e33\", \"Trip Id\": \"aa6a03fe-f119-44a5-8976-2ad77ceeb89f:8\", \"Stop Sequence\": 9, \"Gtfs Dataset Key\": \"1051e067d18a76b0a79789f051d5c22b\", \"Loop Or Inlining\": 1, \"N Trips\": 8, \"Variable\": \"Speed Mph\", \"Speed\": 7.2, \"Route\": \"Anaheim Resort VehiclePositions 29d2bbdbeaec1d6888800f85bebf6e33\", \"Rounded Speed\": 7}, {\"Gtfs Dataset Name\": \"Anaheim Resort VehiclePositions\", \"Shape Array Key\": \"29d2bbdbeaec1d6888800f85bebf6e33\", \"Trip Id\": \"aa6a03fe-f119-44a5-8976-2ad77ceeb89f:1\", \"Stop Sequence\": 9, \"Gtfs Dataset Key\": \"1051e067d18a76b0a79789f051d5c22b\", \"Loop Or Inlining\": 1, \"N Trips\": 8, \"Variable\": \"Speed Mph\", \"Speed\": 7.0, \"Route\": \"Anaheim Resort VehiclePositions 29d2bbdbeaec1d6888800f85bebf6e33\", \"Rounded Speed\": 7}, {\"Gtfs Dataset Name\": \"Anaheim Resort VehiclePositions\", \"Shape Array Key\": \"29d2bbdbeaec1d6888800f85bebf6e33\", \"Trip Id\": \"aa6a03fe-f119-44a5-8976-2ad77ceeb89f:6\", \"Stop Sequence\": 9, \"Gtfs Dataset Key\": \"1051e067d18a76b0a79789f051d5c22b\", \"Loop Or Inlining\": 1, \"N Trips\": 8, \"Variable\": \"Speed Mph\", \"Speed\": 5.4, \"Route\": \"Anaheim Resort VehiclePositions 29d2bbdbeaec1d6888800f85bebf6e33\", \"Rounded Speed\": 5}, {\"Gtfs Dataset Name\": \"Anaheim Resort VehiclePositions\", \"Shape Array Key\": \"29d2bbdbeaec1d6888800f85bebf6e33\", \"Trip Id\": \"aa6a03fe-f119-44a5-8976-2ad77ceeb89f:4\", \"Stop Sequence\": 9, \"Gtfs Dataset Key\": \"1051e067d18a76b0a79789f051d5c22b\", \"Loop Or Inlining\": 1, \"N Trips\": 8, \"Variable\": \"Speed Mph\", \"Speed\": 3.2, \"Route\": \"Anaheim Resort VehiclePositions 29d2bbdbeaec1d6888800f85bebf6e33\", \"Rounded Speed\": 3}, {\"Gtfs Dataset Name\": \"Eastern Sierra Vehicle Positions\", \"Shape Array Key\": \"754c5b012195800c38dc58e72e4f482e\", \"Trip Id\": \"t_97725_b_2397_tn_7\", \"Stop Sequence\": 1, \"Gtfs Dataset Key\": \"64b3bb0d6a6888b62be32aa789cc37ef\", \"Loop Or Inlining\": 0, \"N Trips\": 8, \"Variable\": \"Speed Mph\", \"Speed\": 0.0, \"Route\": \"Eastern Sierra Vehicle Positions 754c5b012195800c38dc58e72e4f482e\", \"Rounded Speed\": 0}, {\"Gtfs Dataset Name\": \"Eastern Sierra Vehicle Positions\", \"Shape Array Key\": \"754c5b012195800c38dc58e72e4f482e\", \"Trip Id\": \"t_97725_b_2397_tn_3\", \"Stop Sequence\": 2, \"Gtfs Dataset Key\": \"64b3bb0d6a6888b62be32aa789cc37ef\", \"Loop Or Inlining\": 0, \"N Trips\": 9, \"Variable\": \"Speed Mph\", \"Speed\": 0.5, \"Route\": \"Eastern Sierra Vehicle Positions 754c5b012195800c38dc58e72e4f482e\", \"Rounded Speed\": 0}, {\"Gtfs Dataset Name\": \"Eastern Sierra Vehicle Positions\", \"Shape Array Key\": \"754c5b012195800c38dc58e72e4f482e\", \"Trip Id\": \"t_97725_b_2397_tn_5\", \"Stop Sequence\": 2, \"Gtfs Dataset Key\": \"64b3bb0d6a6888b62be32aa789cc37ef\", \"Loop Or Inlining\": 0, \"N Trips\": 9, \"Variable\": \"Speed Mph\", \"Speed\": 5.2, \"Route\": \"Eastern Sierra Vehicle Positions 754c5b012195800c38dc58e72e4f482e\", \"Rounded Speed\": 5}, {\"Gtfs Dataset Name\": \"Eastern Sierra Vehicle Positions\", \"Shape Array Key\": \"754c5b012195800c38dc58e72e4f482e\", \"Trip Id\": \"t_97725_b_2397_tn_7\", \"Stop Sequence\": 2, \"Gtfs Dataset Key\": \"64b3bb0d6a6888b62be32aa789cc37ef\", \"Loop Or Inlining\": 0, \"N Trips\": 9, \"Variable\": \"Speed Mph\", \"Speed\": 2.2, \"Route\": \"Eastern Sierra Vehicle Positions 754c5b012195800c38dc58e72e4f482e\", \"Rounded Speed\": 2}, {\"Gtfs Dataset Name\": \"Eastern Sierra Vehicle Positions\", \"Shape Array Key\": \"754c5b012195800c38dc58e72e4f482e\", \"Trip Id\": \"t_97725_b_2397_tn_9\", \"Stop Sequence\": 2, \"Gtfs Dataset Key\": \"64b3bb0d6a6888b62be32aa789cc37ef\", \"Loop Or Inlining\": 0, \"N Trips\": 9, \"Variable\": \"Speed Mph\", \"Speed\": 8.3, \"Route\": \"Eastern Sierra Vehicle Positions 754c5b012195800c38dc58e72e4f482e\", \"Rounded Speed\": 8}, {\"Gtfs Dataset Name\": \"Eastern Sierra Vehicle Positions\", \"Shape Array Key\": \"754c5b012195800c38dc58e72e4f482e\", \"Trip Id\": \"t_97725_b_2397_tn_11\", \"Stop Sequence\": 2, \"Gtfs Dataset Key\": \"64b3bb0d6a6888b62be32aa789cc37ef\", \"Loop Or Inlining\": 0, \"N Trips\": 9, \"Variable\": \"Speed Mph\", \"Speed\": 2.2, \"Route\": \"Eastern Sierra Vehicle Positions 754c5b012195800c38dc58e72e4f482e\", \"Rounded Speed\": 2}, {\"Gtfs Dataset Name\": \"Eastern Sierra Vehicle Positions\", \"Shape Array Key\": \"754c5b012195800c38dc58e72e4f482e\", \"Trip Id\": \"t_97725_b_2397_tn_19\", \"Stop Sequence\": 2, \"Gtfs Dataset Key\": \"64b3bb0d6a6888b62be32aa789cc37ef\", \"Loop Or Inlining\": 0, \"N Trips\": 9, \"Variable\": \"Speed Mph\", \"Speed\": 3.6, \"Route\": \"Eastern Sierra Vehicle Positions 754c5b012195800c38dc58e72e4f482e\", \"Rounded Speed\": 3}, {\"Gtfs Dataset Name\": \"Eastern Sierra Vehicle Positions\", \"Shape Array Key\": \"754c5b012195800c38dc58e72e4f482e\", \"Trip Id\": \"t_97725_b_2397_tn_17\", \"Stop Sequence\": 2, \"Gtfs Dataset Key\": \"64b3bb0d6a6888b62be32aa789cc37ef\", \"Loop Or Inlining\": 0, \"N Trips\": 9, \"Variable\": \"Speed Mph\", \"Speed\": 2.3, \"Route\": \"Eastern Sierra Vehicle Positions 754c5b012195800c38dc58e72e4f482e\", \"Rounded Speed\": 2}, {\"Gtfs Dataset Name\": \"Eastern Sierra Vehicle Positions\", \"Shape Array Key\": \"754c5b012195800c38dc58e72e4f482e\", \"Trip Id\": \"t_97725_b_2397_tn_13\", \"Stop Sequence\": 2, \"Gtfs Dataset Key\": \"64b3bb0d6a6888b62be32aa789cc37ef\", \"Loop Or Inlining\": 0, \"N Trips\": 9, \"Variable\": \"Speed Mph\", \"Speed\": 2.9, \"Route\": \"Eastern Sierra Vehicle Positions 754c5b012195800c38dc58e72e4f482e\", \"Rounded Speed\": 2}, {\"Gtfs Dataset Name\": \"Eastern Sierra Vehicle Positions\", \"Shape Array Key\": \"754c5b012195800c38dc58e72e4f482e\", \"Trip Id\": \"t_97725_b_2397_tn_21\", \"Stop Sequence\": 2, \"Gtfs Dataset Key\": \"64b3bb0d6a6888b62be32aa789cc37ef\", \"Loop Or Inlining\": 0, \"N Trips\": 9, \"Variable\": \"Speed Mph\", \"Speed\": 5.0, \"Route\": \"Eastern Sierra Vehicle Positions 754c5b012195800c38dc58e72e4f482e\", \"Rounded Speed\": 5}, {\"Gtfs Dataset Name\": \"Eastern Sierra Vehicle Positions\", \"Shape Array Key\": \"754c5b012195800c38dc58e72e4f482e\", \"Trip Id\": \"t_97725_b_2397_tn_9\", \"Stop Sequence\": 3, \"Gtfs Dataset Key\": \"64b3bb0d6a6888b62be32aa789cc37ef\", \"Loop Or Inlining\": 0, \"N Trips\": 1, \"Variable\": \"Speed Mph\", \"Speed\": null, \"Route\": \"Eastern Sierra Vehicle Positions 754c5b012195800c38dc58e72e4f482e\", \"Rounded Speed\": 0}, {\"Gtfs Dataset Name\": \"Eastern Sierra Vehicle Positions\", \"Shape Array Key\": \"754c5b012195800c38dc58e72e4f482e\", \"Trip Id\": \"t_97725_b_2397_tn_3\", \"Stop Sequence\": 3, \"Gtfs Dataset Key\": \"64b3bb0d6a6888b62be32aa789cc37ef\", \"Loop Or Inlining\": 0, \"N Trips\": 1, \"Variable\": \"Speed Mph\", \"Speed\": 0.0, \"Route\": \"Eastern Sierra Vehicle Positions 754c5b012195800c38dc58e72e4f482e\", \"Rounded Speed\": 0}, {\"Gtfs Dataset Name\": \"Eastern Sierra Vehicle Positions\", \"Shape Array Key\": \"e3c5ed2c6fa6cd5c5cd57d46aeb3cd8e\", \"Trip Id\": \"t_195132_b_78389_tn_1\", \"Stop Sequence\": 4, \"Gtfs Dataset Key\": \"64b3bb0d6a6888b62be32aa789cc37ef\", \"Loop Or Inlining\": 0, \"N Trips\": 1, \"Variable\": \"Speed Mph\", \"Speed\": 34.6, \"Route\": \"Eastern Sierra Vehicle Positions e3c5ed2c6fa6cd5c5cd57d46aeb3cd8e\", \"Rounded Speed\": 34}, {\"Gtfs Dataset Name\": \"Eastern Sierra Vehicle Positions\", \"Shape Array Key\": \"e3c5ed2c6fa6cd5c5cd57d46aeb3cd8e\", \"Trip Id\": \"t_195132_b_78389_tn_1\", \"Stop Sequence\": 7, \"Gtfs Dataset Key\": \"64b3bb0d6a6888b62be32aa789cc37ef\", \"Loop Or Inlining\": 0, \"N Trips\": 1, \"Variable\": \"Speed Mph\", \"Speed\": 0.5, \"Route\": \"Eastern Sierra Vehicle Positions e3c5ed2c6fa6cd5c5cd57d46aeb3cd8e\", \"Rounded Speed\": 0}, {\"Gtfs Dataset Name\": \"Eastern Sierra Vehicle Positions\", \"Shape Array Key\": \"e3c5ed2c6fa6cd5c5cd57d46aeb3cd8e\", \"Trip Id\": \"t_195132_b_78389_tn_1\", \"Stop Sequence\": 8, \"Gtfs Dataset Key\": \"64b3bb0d6a6888b62be32aa789cc37ef\", \"Loop Or Inlining\": 0, \"N Trips\": 1, \"Variable\": \"Speed Mph\", \"Speed\": 0.5, \"Route\": \"Eastern Sierra Vehicle Positions e3c5ed2c6fa6cd5c5cd57d46aeb3cd8e\", \"Rounded Speed\": 0}, {\"Gtfs Dataset Name\": \"Eastern Sierra Vehicle Positions\", \"Shape Array Key\": \"e3c5ed2c6fa6cd5c5cd57d46aeb3cd8e\", \"Trip Id\": \"t_195132_b_78389_tn_1\", \"Stop Sequence\": 42, \"Gtfs Dataset Key\": \"64b3bb0d6a6888b62be32aa789cc37ef\", \"Loop Or Inlining\": 0, \"N Trips\": 1, \"Variable\": \"Speed Mph\", \"Speed\": 11.8, \"Route\": \"Eastern Sierra Vehicle Positions e3c5ed2c6fa6cd5c5cd57d46aeb3cd8e\", \"Rounded Speed\": 11}]}}, {\"mode\": \"vega-lite\"});\n",
       "</script>"
      ],
      "text/plain": [
       "alt.Chart(...)"
      ]
     },
     "execution_count": 107,
     "metadata": {},
     "output_type": "execute_result"
    }
   ],
   "source": [
    "test2"
   ]
  },
  {
   "cell_type": "code",
   "execution_count": 108,
   "id": "e8c0fb00-e9a0-47c1-abc5-cea7a806a6df",
   "metadata": {},
   "outputs": [],
   "source": [
    "def create_jitter_plot(df):\n",
    "    \n",
    "    title_op = df['Gtfs Dataset Name'].iloc[0].replace('VehiclePositions','').strip()\n",
    "    inline = df['Loop Or Inlining'].iloc[0]\n",
    "    \n",
    "    dropdown_list = df['Route'].unique().tolist()\n",
    "    # Init first op doesn't work after I downloaded altair 5...try again alter\n",
    "    input_dropdown = alt.binding_select(options=sorted(dropdown_list), name=\"Operator/Shape Array Key\")\n",
    "    selection = alt.selection_single(name=\"Operator/Shape Array Key\",\n",
    "    fields=['Route'],\n",
    "    bind=input_dropdown)\n",
    "\n",
    "    chart1 = (\n",
    "        alt.Chart(df, width=0.5)\n",
    "        .mark_circle(size=100)\n",
    "        .encode(\n",
    "            x=alt.X(\n",
    "                \"jitter:Q\",\n",
    "                title=None,\n",
    "                axis=alt.Axis(values=[0], ticks=False, grid=False, labels=False),\n",
    "                scale=alt.Scale(),\n",
    "            ),\n",
    "            y=alt.Y(\"Rounded Speed:Q\", axis=alt.Axis(labelAngle=360)),\n",
    "            color=alt.Color(\n",
    "                \"Variable:N\",\n",
    "                scale=alt.Scale(range=cp.CALITP_CATEGORY_BRIGHT_COLORS),\n",
    "            ),\n",
    "            tooltip=df.columns.tolist(),\n",
    "            column=alt.Column(\n",
    "                \"Stop Sequence:N\",\n",
    "                header=alt.Header(\n",
    "                    labelAngle=360,\n",
    "                    titleOrient=\"top\",\n",
    "                    labelOrient=\"bottom\",\n",
    "                    labelAlign=\"right\",\n",
    "                    labelPadding=2,\n",
    "                ),\n",
    "            ),\n",
    "        )\n",
    "        .transform_calculate(\n",
    "            # Generate Gaussian jitter with a Box-Muller transform\n",
    "            jitter=\"sqrt(-2*log(random()))*cos(2*PI*random())\"\n",
    "        )\n",
    "        .properties(title=f\"{title_op} - Route Type {inline}\")\n",
    "    )\n",
    "    \n",
    "    chart1 = threshold_utils.chart_size(chart1, 40, 250)\n",
    "    \n",
    "    return chart1"
   ]
  },
  {
   "cell_type": "code",
   "execution_count": 109,
   "id": "19b97ca6-17c9-4540-acfe-9a4caf740ef4",
   "metadata": {},
   "outputs": [
    {
     "name": "stderr",
     "output_type": "stream",
     "text": [
      "/opt/conda/lib/python3.9/site-packages/altair/utils/deprecation.py:65: AltairDeprecationWarning: 'selection_single' is deprecated.  Use 'selection_point'\n"
     ]
    }
   ],
   "source": [
    "chart1 = create_jitter_plot(subset_speedmph)"
   ]
  },
  {
   "cell_type": "code",
   "execution_count": 110,
   "id": "030e6396-4204-47eb-aae2-38e7b528f011",
   "metadata": {},
   "outputs": [],
   "source": [
    "chart2 = create_jitter_plot(subset_other)"
   ]
  },
  {
   "cell_type": "code",
   "execution_count": 111,
   "id": "ca2e286e-c1b9-451a-873c-fae34fd06272",
   "metadata": {},
   "outputs": [
    {
     "data": {
      "text/html": [
       "\n",
       "<style>\n",
       "  #altair-viz-3532ae60c37c46dab663aa53082ded9a.vega-embed {\n",
       "    width: 100%;\n",
       "    display: flex;\n",
       "  }\n",
       "\n",
       "  #altair-viz-3532ae60c37c46dab663aa53082ded9a.vega-embed details,\n",
       "  #altair-viz-3532ae60c37c46dab663aa53082ded9a.vega-embed details summary {\n",
       "    position: relative;\n",
       "  }\n",
       "</style>\n",
       "<div id=\"altair-viz-3532ae60c37c46dab663aa53082ded9a\"></div>\n",
       "<script type=\"text/javascript\">\n",
       "  var VEGA_DEBUG = (typeof VEGA_DEBUG == \"undefined\") ? {} : VEGA_DEBUG;\n",
       "  (function(spec, embedOpt){\n",
       "    let outputDiv = document.currentScript.previousElementSibling;\n",
       "    if (outputDiv.id !== \"altair-viz-3532ae60c37c46dab663aa53082ded9a\") {\n",
       "      outputDiv = document.getElementById(\"altair-viz-3532ae60c37c46dab663aa53082ded9a\");\n",
       "    }\n",
       "    const paths = {\n",
       "      \"vega\": \"https://cdn.jsdelivr.net/npm/vega@5?noext\",\n",
       "      \"vega-lib\": \"https://cdn.jsdelivr.net/npm/vega-lib?noext\",\n",
       "      \"vega-lite\": \"https://cdn.jsdelivr.net/npm/vega-lite@5.8.0?noext\",\n",
       "      \"vega-embed\": \"https://cdn.jsdelivr.net/npm/vega-embed@6?noext\",\n",
       "    };\n",
       "\n",
       "    function maybeLoadScript(lib, version) {\n",
       "      var key = `${lib.replace(\"-\", \"\")}_version`;\n",
       "      return (VEGA_DEBUG[key] == version) ?\n",
       "        Promise.resolve(paths[lib]) :\n",
       "        new Promise(function(resolve, reject) {\n",
       "          var s = document.createElement('script');\n",
       "          document.getElementsByTagName(\"head\")[0].appendChild(s);\n",
       "          s.async = true;\n",
       "          s.onload = () => {\n",
       "            VEGA_DEBUG[key] = version;\n",
       "            return resolve(paths[lib]);\n",
       "          };\n",
       "          s.onerror = () => reject(`Error loading script: ${paths[lib]}`);\n",
       "          s.src = paths[lib];\n",
       "        });\n",
       "    }\n",
       "\n",
       "    function showError(err) {\n",
       "      outputDiv.innerHTML = `<div class=\"error\" style=\"color:red;\">${err}</div>`;\n",
       "      throw err;\n",
       "    }\n",
       "\n",
       "    function displayChart(vegaEmbed) {\n",
       "      vegaEmbed(outputDiv, spec, embedOpt)\n",
       "        .catch(err => showError(`Javascript Error: ${err.message}<br>This usually means there's a typo in your chart specification. See the javascript console for the full traceback.`));\n",
       "    }\n",
       "\n",
       "    if(typeof define === \"function\" && define.amd) {\n",
       "      requirejs.config({paths});\n",
       "      require([\"vega-embed\"], displayChart, err => showError(`Error loading script: ${err.message}`));\n",
       "    } else {\n",
       "      maybeLoadScript(\"vega\", \"5\")\n",
       "        .then(() => maybeLoadScript(\"vega-lite\", \"5.8.0\"))\n",
       "        .then(() => maybeLoadScript(\"vega-embed\", \"6\"))\n",
       "        .catch(showError)\n",
       "        .then(() => displayChart(vegaEmbed));\n",
       "    }\n",
       "  })({\"config\": {\"view\": {\"continuousWidth\": 300, \"continuousHeight\": 300}}, \"hconcat\": [{\"data\": {\"name\": \"data-989a34a404eca811b3d670e660ee9008\"}, \"mark\": {\"type\": \"circle\", \"size\": 100}, \"encoding\": {\"color\": {\"field\": \"Variable\", \"scale\": {\"range\": [\"#2EA8CE\", \"#EB9F3C\", \"#F4D837\", \"#51BF9D\", \"#8CBCCB\", \"#9487C0\"]}, \"type\": \"nominal\"}, \"column\": {\"field\": \"Stop Sequence\", \"header\": {\"labelAlign\": \"right\", \"labelAngle\": 360, \"labelOrient\": \"bottom\", \"labelPadding\": 2, \"titleOrient\": \"top\"}, \"type\": \"nominal\"}, \"tooltip\": [{\"field\": \"Gtfs Dataset Name\", \"type\": \"nominal\"}, {\"field\": \"Shape Array Key\", \"type\": \"nominal\"}, {\"field\": \"Trip Id\", \"type\": \"nominal\"}, {\"field\": \"Stop Sequence\", \"type\": \"quantitative\"}, {\"field\": \"Gtfs Dataset Key\", \"type\": \"nominal\"}, {\"field\": \"Loop Or Inlining\", \"type\": \"quantitative\"}, {\"field\": \"N Trips\", \"type\": \"quantitative\"}, {\"field\": \"Variable\", \"type\": \"nominal\"}, {\"field\": \"Speed\", \"type\": \"quantitative\"}, {\"field\": \"Route\", \"type\": \"nominal\"}, {\"field\": \"Rounded Speed\", \"type\": \"quantitative\"}], \"x\": {\"axis\": {\"grid\": false, \"labels\": false, \"ticks\": false, \"values\": [0]}, \"field\": \"jitter\", \"scale\": {}, \"title\": null, \"type\": \"quantitative\"}, \"y\": {\"axis\": {\"labelAngle\": 360}, \"field\": \"Rounded Speed\", \"type\": \"quantitative\"}}, \"height\": 250, \"title\": \"Anaheim Resort - Route Type 1\", \"transform\": [{\"calculate\": \"sqrt(-2*log(random()))*cos(2*PI*random())\", \"as\": \"jitter\"}], \"width\": 40}, {\"data\": {\"name\": \"data-c9e6b35ac31edaceaafba7a9f93e443d\"}, \"mark\": {\"type\": \"circle\", \"size\": 100}, \"encoding\": {\"color\": {\"field\": \"Variable\", \"scale\": {\"range\": [\"#2EA8CE\", \"#EB9F3C\", \"#F4D837\", \"#51BF9D\", \"#8CBCCB\", \"#9487C0\"]}, \"type\": \"nominal\"}, \"column\": {\"field\": \"Stop Sequence\", \"header\": {\"labelAlign\": \"right\", \"labelAngle\": 360, \"labelOrient\": \"bottom\", \"labelPadding\": 2, \"titleOrient\": \"top\"}, \"type\": \"nominal\"}, \"tooltip\": [{\"field\": \"Gtfs Dataset Name\", \"type\": \"nominal\"}, {\"field\": \"Shape Array Key\", \"type\": \"nominal\"}, {\"field\": \"Trip Id\", \"type\": \"nominal\"}, {\"field\": \"Stop Sequence\", \"type\": \"quantitative\"}, {\"field\": \"Gtfs Dataset Key\", \"type\": \"nominal\"}, {\"field\": \"Loop Or Inlining\", \"type\": \"quantitative\"}, {\"field\": \"N Trips\", \"type\": \"quantitative\"}, {\"field\": \"Variable\", \"type\": \"nominal\"}, {\"field\": \"Speed\", \"type\": \"quantitative\"}, {\"field\": \"Route\", \"type\": \"nominal\"}, {\"field\": \"Rounded Speed\", \"type\": \"quantitative\"}], \"x\": {\"axis\": {\"grid\": false, \"labels\": false, \"ticks\": false, \"values\": [0]}, \"field\": \"jitter\", \"scale\": {}, \"title\": null, \"type\": \"quantitative\"}, \"y\": {\"axis\": {\"labelAngle\": 360}, \"field\": \"Rounded Speed\", \"type\": \"quantitative\"}}, \"height\": 250, \"title\": \"Anaheim Resort - Route Type 1\", \"transform\": [{\"calculate\": \"sqrt(-2*log(random()))*cos(2*PI*random())\", \"as\": \"jitter\"}], \"width\": 40}], \"$schema\": \"https://vega.github.io/schema/vega-lite/v5.8.0.json\", \"datasets\": {\"data-989a34a404eca811b3d670e660ee9008\": [{\"Gtfs Dataset Name\": \"Anaheim Resort VehiclePositions\", \"Shape Array Key\": \"29d2bbdbeaec1d6888800f85bebf6e33\", \"Trip Id\": \"aa6a03fe-f119-44a5-8976-2ad77ceeb89f:4\", \"Stop Sequence\": 1, \"Gtfs Dataset Key\": \"1051e067d18a76b0a79789f051d5c22b\", \"Loop Or Inlining\": 1, \"N Trips\": 8, \"Variable\": \"Speed Mph\", \"Speed\": 0.0, \"Route\": \"Anaheim Resort VehiclePositions 29d2bbdbeaec1d6888800f85bebf6e33\", \"Rounded Speed\": 0}, {\"Gtfs Dataset Name\": \"Anaheim Resort VehiclePositions\", \"Shape Array Key\": \"29d2bbdbeaec1d6888800f85bebf6e33\", \"Trip Id\": \"aa6a03fe-f119-44a5-8976-2ad77ceeb89f:1\", \"Stop Sequence\": 1, \"Gtfs Dataset Key\": \"1051e067d18a76b0a79789f051d5c22b\", \"Loop Or Inlining\": 1, \"N Trips\": 8, \"Variable\": \"Speed Mph\", \"Speed\": 0.0, \"Route\": \"Anaheim Resort VehiclePositions 29d2bbdbeaec1d6888800f85bebf6e33\", \"Rounded Speed\": 0}, {\"Gtfs Dataset Name\": \"Anaheim Resort VehiclePositions\", \"Shape Array Key\": \"29d2bbdbeaec1d6888800f85bebf6e33\", \"Trip Id\": \"aa6a03fe-f119-44a5-8976-2ad77ceeb89f:3\", \"Stop Sequence\": 1, \"Gtfs Dataset Key\": \"1051e067d18a76b0a79789f051d5c22b\", \"Loop Or Inlining\": 1, \"N Trips\": 8, \"Variable\": \"Speed Mph\", \"Speed\": 0.0, \"Route\": \"Anaheim Resort VehiclePositions 29d2bbdbeaec1d6888800f85bebf6e33\", \"Rounded Speed\": 0}, {\"Gtfs Dataset Name\": \"Anaheim Resort VehiclePositions\", \"Shape Array Key\": \"29d2bbdbeaec1d6888800f85bebf6e33\", \"Trip Id\": \"aa6a03fe-f119-44a5-8976-2ad77ceeb89f:7\", \"Stop Sequence\": 1, \"Gtfs Dataset Key\": \"1051e067d18a76b0a79789f051d5c22b\", \"Loop Or Inlining\": 1, \"N Trips\": 8, \"Variable\": \"Speed Mph\", \"Speed\": 0.0, \"Route\": \"Anaheim Resort VehiclePositions 29d2bbdbeaec1d6888800f85bebf6e33\", \"Rounded Speed\": 0}, {\"Gtfs Dataset Name\": \"Anaheim Resort VehiclePositions\", \"Shape Array Key\": \"29d2bbdbeaec1d6888800f85bebf6e33\", \"Trip Id\": \"aa6a03fe-f119-44a5-8976-2ad77ceeb89f:4\", \"Stop Sequence\": 2, \"Gtfs Dataset Key\": \"1051e067d18a76b0a79789f051d5c22b\", \"Loop Or Inlining\": 1, \"N Trips\": 8, \"Variable\": \"Speed Mph\", \"Speed\": 9.1, \"Route\": \"Anaheim Resort VehiclePositions 29d2bbdbeaec1d6888800f85bebf6e33\", \"Rounded Speed\": 9}, {\"Gtfs Dataset Name\": \"Anaheim Resort VehiclePositions\", \"Shape Array Key\": \"29d2bbdbeaec1d6888800f85bebf6e33\", \"Trip Id\": \"aa6a03fe-f119-44a5-8976-2ad77ceeb89f:8\", \"Stop Sequence\": 2, \"Gtfs Dataset Key\": \"1051e067d18a76b0a79789f051d5c22b\", \"Loop Or Inlining\": 1, \"N Trips\": 8, \"Variable\": \"Speed Mph\", \"Speed\": 9.6, \"Route\": \"Anaheim Resort VehiclePositions 29d2bbdbeaec1d6888800f85bebf6e33\", \"Rounded Speed\": 9}, {\"Gtfs Dataset Name\": \"Anaheim Resort VehiclePositions\", \"Shape Array Key\": \"29d2bbdbeaec1d6888800f85bebf6e33\", \"Trip Id\": \"aa6a03fe-f119-44a5-8976-2ad77ceeb89f:2\", \"Stop Sequence\": 2, \"Gtfs Dataset Key\": \"1051e067d18a76b0a79789f051d5c22b\", \"Loop Or Inlining\": 1, \"N Trips\": 8, \"Variable\": \"Speed Mph\", \"Speed\": 12.1, \"Route\": \"Anaheim Resort VehiclePositions 29d2bbdbeaec1d6888800f85bebf6e33\", \"Rounded Speed\": 12}, {\"Gtfs Dataset Name\": \"Anaheim Resort VehiclePositions\", \"Shape Array Key\": \"29d2bbdbeaec1d6888800f85bebf6e33\", \"Trip Id\": \"aa6a03fe-f119-44a5-8976-2ad77ceeb89f:7\", \"Stop Sequence\": 2, \"Gtfs Dataset Key\": \"1051e067d18a76b0a79789f051d5c22b\", \"Loop Or Inlining\": 1, \"N Trips\": 8, \"Variable\": \"Speed Mph\", \"Speed\": 7.3, \"Route\": \"Anaheim Resort VehiclePositions 29d2bbdbeaec1d6888800f85bebf6e33\", \"Rounded Speed\": 7}, {\"Gtfs Dataset Name\": \"Anaheim Resort VehiclePositions\", \"Shape Array Key\": \"29d2bbdbeaec1d6888800f85bebf6e33\", \"Trip Id\": \"aa6a03fe-f119-44a5-8976-2ad77ceeb89f:5\", \"Stop Sequence\": 2, \"Gtfs Dataset Key\": \"1051e067d18a76b0a79789f051d5c22b\", \"Loop Or Inlining\": 1, \"N Trips\": 8, \"Variable\": \"Speed Mph\", \"Speed\": 12.2, \"Route\": \"Anaheim Resort VehiclePositions 29d2bbdbeaec1d6888800f85bebf6e33\", \"Rounded Speed\": 12}, {\"Gtfs Dataset Name\": \"Anaheim Resort VehiclePositions\", \"Shape Array Key\": \"29d2bbdbeaec1d6888800f85bebf6e33\", \"Trip Id\": \"aa6a03fe-f119-44a5-8976-2ad77ceeb89f:1\", \"Stop Sequence\": 2, \"Gtfs Dataset Key\": \"1051e067d18a76b0a79789f051d5c22b\", \"Loop Or Inlining\": 1, \"N Trips\": 8, \"Variable\": \"Speed Mph\", \"Speed\": 1.5, \"Route\": \"Anaheim Resort VehiclePositions 29d2bbdbeaec1d6888800f85bebf6e33\", \"Rounded Speed\": 1}, {\"Gtfs Dataset Name\": \"Anaheim Resort VehiclePositions\", \"Shape Array Key\": \"29d2bbdbeaec1d6888800f85bebf6e33\", \"Trip Id\": \"aa6a03fe-f119-44a5-8976-2ad77ceeb89f:3\", \"Stop Sequence\": 2, \"Gtfs Dataset Key\": \"1051e067d18a76b0a79789f051d5c22b\", \"Loop Or Inlining\": 1, \"N Trips\": 8, \"Variable\": \"Speed Mph\", \"Speed\": 6.7, \"Route\": \"Anaheim Resort VehiclePositions 29d2bbdbeaec1d6888800f85bebf6e33\", \"Rounded Speed\": 6}, {\"Gtfs Dataset Name\": \"Anaheim Resort VehiclePositions\", \"Shape Array Key\": \"29d2bbdbeaec1d6888800f85bebf6e33\", \"Trip Id\": \"aa6a03fe-f119-44a5-8976-2ad77ceeb89f:6\", \"Stop Sequence\": 2, \"Gtfs Dataset Key\": \"1051e067d18a76b0a79789f051d5c22b\", \"Loop Or Inlining\": 1, \"N Trips\": 8, \"Variable\": \"Speed Mph\", \"Speed\": 5.5, \"Route\": \"Anaheim Resort VehiclePositions 29d2bbdbeaec1d6888800f85bebf6e33\", \"Rounded Speed\": 5}, {\"Gtfs Dataset Name\": \"Anaheim Resort VehiclePositions\", \"Shape Array Key\": \"29d2bbdbeaec1d6888800f85bebf6e33\", \"Trip Id\": \"aa6a03fe-f119-44a5-8976-2ad77ceeb89f:8\", \"Stop Sequence\": 3, \"Gtfs Dataset Key\": \"1051e067d18a76b0a79789f051d5c22b\", \"Loop Or Inlining\": 1, \"N Trips\": 8, \"Variable\": \"Speed Mph\", \"Speed\": 4.2, \"Route\": \"Anaheim Resort VehiclePositions 29d2bbdbeaec1d6888800f85bebf6e33\", \"Rounded Speed\": 4}, {\"Gtfs Dataset Name\": \"Anaheim Resort VehiclePositions\", \"Shape Array Key\": \"29d2bbdbeaec1d6888800f85bebf6e33\", \"Trip Id\": \"aa6a03fe-f119-44a5-8976-2ad77ceeb89f:6\", \"Stop Sequence\": 3, \"Gtfs Dataset Key\": \"1051e067d18a76b0a79789f051d5c22b\", \"Loop Or Inlining\": 1, \"N Trips\": 8, \"Variable\": \"Speed Mph\", \"Speed\": 5.5, \"Route\": \"Anaheim Resort VehiclePositions 29d2bbdbeaec1d6888800f85bebf6e33\", \"Rounded Speed\": 5}, {\"Gtfs Dataset Name\": \"Anaheim Resort VehiclePositions\", \"Shape Array Key\": \"29d2bbdbeaec1d6888800f85bebf6e33\", \"Trip Id\": \"aa6a03fe-f119-44a5-8976-2ad77ceeb89f:3\", \"Stop Sequence\": 3, \"Gtfs Dataset Key\": \"1051e067d18a76b0a79789f051d5c22b\", \"Loop Or Inlining\": 1, \"N Trips\": 8, \"Variable\": \"Speed Mph\", \"Speed\": 5.2, \"Route\": \"Anaheim Resort VehiclePositions 29d2bbdbeaec1d6888800f85bebf6e33\", \"Rounded Speed\": 5}, {\"Gtfs Dataset Name\": \"Anaheim Resort VehiclePositions\", \"Shape Array Key\": \"29d2bbdbeaec1d6888800f85bebf6e33\", \"Trip Id\": \"aa6a03fe-f119-44a5-8976-2ad77ceeb89f:7\", \"Stop Sequence\": 3, \"Gtfs Dataset Key\": \"1051e067d18a76b0a79789f051d5c22b\", \"Loop Or Inlining\": 1, \"N Trips\": 8, \"Variable\": \"Speed Mph\", \"Speed\": 3.7, \"Route\": \"Anaheim Resort VehiclePositions 29d2bbdbeaec1d6888800f85bebf6e33\", \"Rounded Speed\": 3}, {\"Gtfs Dataset Name\": \"Anaheim Resort VehiclePositions\", \"Shape Array Key\": \"29d2bbdbeaec1d6888800f85bebf6e33\", \"Trip Id\": \"aa6a03fe-f119-44a5-8976-2ad77ceeb89f:1\", \"Stop Sequence\": 3, \"Gtfs Dataset Key\": \"1051e067d18a76b0a79789f051d5c22b\", \"Loop Or Inlining\": 1, \"N Trips\": 8, \"Variable\": \"Speed Mph\", \"Speed\": 3.8, \"Route\": \"Anaheim Resort VehiclePositions 29d2bbdbeaec1d6888800f85bebf6e33\", \"Rounded Speed\": 3}, {\"Gtfs Dataset Name\": \"Anaheim Resort VehiclePositions\", \"Shape Array Key\": \"29d2bbdbeaec1d6888800f85bebf6e33\", \"Trip Id\": \"aa6a03fe-f119-44a5-8976-2ad77ceeb89f:5\", \"Stop Sequence\": 3, \"Gtfs Dataset Key\": \"1051e067d18a76b0a79789f051d5c22b\", \"Loop Or Inlining\": 1, \"N Trips\": 8, \"Variable\": \"Speed Mph\", \"Speed\": 3.7, \"Route\": \"Anaheim Resort VehiclePositions 29d2bbdbeaec1d6888800f85bebf6e33\", \"Rounded Speed\": 3}, {\"Gtfs Dataset Name\": \"Anaheim Resort VehiclePositions\", \"Shape Array Key\": \"29d2bbdbeaec1d6888800f85bebf6e33\", \"Trip Id\": \"aa6a03fe-f119-44a5-8976-2ad77ceeb89f:4\", \"Stop Sequence\": 3, \"Gtfs Dataset Key\": \"1051e067d18a76b0a79789f051d5c22b\", \"Loop Or Inlining\": 1, \"N Trips\": 8, \"Variable\": \"Speed Mph\", \"Speed\": 4.0, \"Route\": \"Anaheim Resort VehiclePositions 29d2bbdbeaec1d6888800f85bebf6e33\", \"Rounded Speed\": 4}, {\"Gtfs Dataset Name\": \"Anaheim Resort VehiclePositions\", \"Shape Array Key\": \"29d2bbdbeaec1d6888800f85bebf6e33\", \"Trip Id\": \"aa6a03fe-f119-44a5-8976-2ad77ceeb89f:2\", \"Stop Sequence\": 3, \"Gtfs Dataset Key\": \"1051e067d18a76b0a79789f051d5c22b\", \"Loop Or Inlining\": 1, \"N Trips\": 8, \"Variable\": \"Speed Mph\", \"Speed\": 3.5, \"Route\": \"Anaheim Resort VehiclePositions 29d2bbdbeaec1d6888800f85bebf6e33\", \"Rounded Speed\": 3}, {\"Gtfs Dataset Name\": \"Anaheim Resort VehiclePositions\", \"Shape Array Key\": \"29d2bbdbeaec1d6888800f85bebf6e33\", \"Trip Id\": \"aa6a03fe-f119-44a5-8976-2ad77ceeb89f:3\", \"Stop Sequence\": 4, \"Gtfs Dataset Key\": \"1051e067d18a76b0a79789f051d5c22b\", \"Loop Or Inlining\": 1, \"N Trips\": 8, \"Variable\": \"Speed Mph\", \"Speed\": 5.5, \"Route\": \"Anaheim Resort VehiclePositions 29d2bbdbeaec1d6888800f85bebf6e33\", \"Rounded Speed\": 5}, {\"Gtfs Dataset Name\": \"Anaheim Resort VehiclePositions\", \"Shape Array Key\": \"29d2bbdbeaec1d6888800f85bebf6e33\", \"Trip Id\": \"aa6a03fe-f119-44a5-8976-2ad77ceeb89f:2\", \"Stop Sequence\": 4, \"Gtfs Dataset Key\": \"1051e067d18a76b0a79789f051d5c22b\", \"Loop Or Inlining\": 1, \"N Trips\": 8, \"Variable\": \"Speed Mph\", \"Speed\": 4.7, \"Route\": \"Anaheim Resort VehiclePositions 29d2bbdbeaec1d6888800f85bebf6e33\", \"Rounded Speed\": 4}, {\"Gtfs Dataset Name\": \"Anaheim Resort VehiclePositions\", \"Shape Array Key\": \"29d2bbdbeaec1d6888800f85bebf6e33\", \"Trip Id\": \"aa6a03fe-f119-44a5-8976-2ad77ceeb89f:5\", \"Stop Sequence\": 4, \"Gtfs Dataset Key\": \"1051e067d18a76b0a79789f051d5c22b\", \"Loop Or Inlining\": 1, \"N Trips\": 8, \"Variable\": \"Speed Mph\", \"Speed\": 2.7, \"Route\": \"Anaheim Resort VehiclePositions 29d2bbdbeaec1d6888800f85bebf6e33\", \"Rounded Speed\": 2}, {\"Gtfs Dataset Name\": \"Anaheim Resort VehiclePositions\", \"Shape Array Key\": \"29d2bbdbeaec1d6888800f85bebf6e33\", \"Trip Id\": \"aa6a03fe-f119-44a5-8976-2ad77ceeb89f:4\", \"Stop Sequence\": 4, \"Gtfs Dataset Key\": \"1051e067d18a76b0a79789f051d5c22b\", \"Loop Or Inlining\": 1, \"N Trips\": 8, \"Variable\": \"Speed Mph\", \"Speed\": 1.9, \"Route\": \"Anaheim Resort VehiclePositions 29d2bbdbeaec1d6888800f85bebf6e33\", \"Rounded Speed\": 1}, {\"Gtfs Dataset Name\": \"Anaheim Resort VehiclePositions\", \"Shape Array Key\": \"29d2bbdbeaec1d6888800f85bebf6e33\", \"Trip Id\": \"aa6a03fe-f119-44a5-8976-2ad77ceeb89f:1\", \"Stop Sequence\": 4, \"Gtfs Dataset Key\": \"1051e067d18a76b0a79789f051d5c22b\", \"Loop Or Inlining\": 1, \"N Trips\": 8, \"Variable\": \"Speed Mph\", \"Speed\": 8.9, \"Route\": \"Anaheim Resort VehiclePositions 29d2bbdbeaec1d6888800f85bebf6e33\", \"Rounded Speed\": 8}, {\"Gtfs Dataset Name\": \"Anaheim Resort VehiclePositions\", \"Shape Array Key\": \"29d2bbdbeaec1d6888800f85bebf6e33\", \"Trip Id\": \"aa6a03fe-f119-44a5-8976-2ad77ceeb89f:6\", \"Stop Sequence\": 4, \"Gtfs Dataset Key\": \"1051e067d18a76b0a79789f051d5c22b\", \"Loop Or Inlining\": 1, \"N Trips\": 8, \"Variable\": \"Speed Mph\", \"Speed\": 4.0, \"Route\": \"Anaheim Resort VehiclePositions 29d2bbdbeaec1d6888800f85bebf6e33\", \"Rounded Speed\": 4}, {\"Gtfs Dataset Name\": \"Anaheim Resort VehiclePositions\", \"Shape Array Key\": \"29d2bbdbeaec1d6888800f85bebf6e33\", \"Trip Id\": \"aa6a03fe-f119-44a5-8976-2ad77ceeb89f:7\", \"Stop Sequence\": 4, \"Gtfs Dataset Key\": \"1051e067d18a76b0a79789f051d5c22b\", \"Loop Or Inlining\": 1, \"N Trips\": 8, \"Variable\": \"Speed Mph\", \"Speed\": 5.0, \"Route\": \"Anaheim Resort VehiclePositions 29d2bbdbeaec1d6888800f85bebf6e33\", \"Rounded Speed\": 5}, {\"Gtfs Dataset Name\": \"Anaheim Resort VehiclePositions\", \"Shape Array Key\": \"29d2bbdbeaec1d6888800f85bebf6e33\", \"Trip Id\": \"aa6a03fe-f119-44a5-8976-2ad77ceeb89f:8\", \"Stop Sequence\": 4, \"Gtfs Dataset Key\": \"1051e067d18a76b0a79789f051d5c22b\", \"Loop Or Inlining\": 1, \"N Trips\": 8, \"Variable\": \"Speed Mph\", \"Speed\": 5.8, \"Route\": \"Anaheim Resort VehiclePositions 29d2bbdbeaec1d6888800f85bebf6e33\", \"Rounded Speed\": 5}, {\"Gtfs Dataset Name\": \"Anaheim Resort VehiclePositions\", \"Shape Array Key\": \"29d2bbdbeaec1d6888800f85bebf6e33\", \"Trip Id\": \"aa6a03fe-f119-44a5-8976-2ad77ceeb89f:5\", \"Stop Sequence\": 5, \"Gtfs Dataset Key\": \"1051e067d18a76b0a79789f051d5c22b\", \"Loop Or Inlining\": 1, \"N Trips\": 8, \"Variable\": \"Speed Mph\", \"Speed\": 0.4, \"Route\": \"Anaheim Resort VehiclePositions 29d2bbdbeaec1d6888800f85bebf6e33\", \"Rounded Speed\": 0}, {\"Gtfs Dataset Name\": \"Anaheim Resort VehiclePositions\", \"Shape Array Key\": \"29d2bbdbeaec1d6888800f85bebf6e33\", \"Trip Id\": \"aa6a03fe-f119-44a5-8976-2ad77ceeb89f:1\", \"Stop Sequence\": 5, \"Gtfs Dataset Key\": \"1051e067d18a76b0a79789f051d5c22b\", \"Loop Or Inlining\": 1, \"N Trips\": 8, \"Variable\": \"Speed Mph\", \"Speed\": 0.4, \"Route\": \"Anaheim Resort VehiclePositions 29d2bbdbeaec1d6888800f85bebf6e33\", \"Rounded Speed\": 0}, {\"Gtfs Dataset Name\": \"Anaheim Resort VehiclePositions\", \"Shape Array Key\": \"29d2bbdbeaec1d6888800f85bebf6e33\", \"Trip Id\": \"aa6a03fe-f119-44a5-8976-2ad77ceeb89f:6\", \"Stop Sequence\": 5, \"Gtfs Dataset Key\": \"1051e067d18a76b0a79789f051d5c22b\", \"Loop Or Inlining\": 1, \"N Trips\": 8, \"Variable\": \"Speed Mph\", \"Speed\": 1.0, \"Route\": \"Anaheim Resort VehiclePositions 29d2bbdbeaec1d6888800f85bebf6e33\", \"Rounded Speed\": 1}, {\"Gtfs Dataset Name\": \"Anaheim Resort VehiclePositions\", \"Shape Array Key\": \"29d2bbdbeaec1d6888800f85bebf6e33\", \"Trip Id\": \"aa6a03fe-f119-44a5-8976-2ad77ceeb89f:2\", \"Stop Sequence\": 5, \"Gtfs Dataset Key\": \"1051e067d18a76b0a79789f051d5c22b\", \"Loop Or Inlining\": 1, \"N Trips\": 8, \"Variable\": \"Speed Mph\", \"Speed\": 0.9, \"Route\": \"Anaheim Resort VehiclePositions 29d2bbdbeaec1d6888800f85bebf6e33\", \"Rounded Speed\": 0}, {\"Gtfs Dataset Name\": \"Anaheim Resort VehiclePositions\", \"Shape Array Key\": \"29d2bbdbeaec1d6888800f85bebf6e33\", \"Trip Id\": \"aa6a03fe-f119-44a5-8976-2ad77ceeb89f:4\", \"Stop Sequence\": 5, \"Gtfs Dataset Key\": \"1051e067d18a76b0a79789f051d5c22b\", \"Loop Or Inlining\": 1, \"N Trips\": 8, \"Variable\": \"Speed Mph\", \"Speed\": 0.7, \"Route\": \"Anaheim Resort VehiclePositions 29d2bbdbeaec1d6888800f85bebf6e33\", \"Rounded Speed\": 0}, {\"Gtfs Dataset Name\": \"Anaheim Resort VehiclePositions\", \"Shape Array Key\": \"29d2bbdbeaec1d6888800f85bebf6e33\", \"Trip Id\": \"aa6a03fe-f119-44a5-8976-2ad77ceeb89f:7\", \"Stop Sequence\": 5, \"Gtfs Dataset Key\": \"1051e067d18a76b0a79789f051d5c22b\", \"Loop Or Inlining\": 1, \"N Trips\": 8, \"Variable\": \"Speed Mph\", \"Speed\": 0.9, \"Route\": \"Anaheim Resort VehiclePositions 29d2bbdbeaec1d6888800f85bebf6e33\", \"Rounded Speed\": 0}, {\"Gtfs Dataset Name\": \"Anaheim Resort VehiclePositions\", \"Shape Array Key\": \"29d2bbdbeaec1d6888800f85bebf6e33\", \"Trip Id\": \"aa6a03fe-f119-44a5-8976-2ad77ceeb89f:8\", \"Stop Sequence\": 5, \"Gtfs Dataset Key\": \"1051e067d18a76b0a79789f051d5c22b\", \"Loop Or Inlining\": 1, \"N Trips\": 8, \"Variable\": \"Speed Mph\", \"Speed\": 0.0, \"Route\": \"Anaheim Resort VehiclePositions 29d2bbdbeaec1d6888800f85bebf6e33\", \"Rounded Speed\": 0}, {\"Gtfs Dataset Name\": \"Anaheim Resort VehiclePositions\", \"Shape Array Key\": \"29d2bbdbeaec1d6888800f85bebf6e33\", \"Trip Id\": \"aa6a03fe-f119-44a5-8976-2ad77ceeb89f:3\", \"Stop Sequence\": 5, \"Gtfs Dataset Key\": \"1051e067d18a76b0a79789f051d5c22b\", \"Loop Or Inlining\": 1, \"N Trips\": 8, \"Variable\": \"Speed Mph\", \"Speed\": 0.6, \"Route\": \"Anaheim Resort VehiclePositions 29d2bbdbeaec1d6888800f85bebf6e33\", \"Rounded Speed\": 0}, {\"Gtfs Dataset Name\": \"Anaheim Resort VehiclePositions\", \"Shape Array Key\": \"29d2bbdbeaec1d6888800f85bebf6e33\", \"Trip Id\": \"aa6a03fe-f119-44a5-8976-2ad77ceeb89f:1\", \"Stop Sequence\": 6, \"Gtfs Dataset Key\": \"1051e067d18a76b0a79789f051d5c22b\", \"Loop Or Inlining\": 1, \"N Trips\": 8, \"Variable\": \"Speed Mph\", \"Speed\": 3.2, \"Route\": \"Anaheim Resort VehiclePositions 29d2bbdbeaec1d6888800f85bebf6e33\", \"Rounded Speed\": 3}, {\"Gtfs Dataset Name\": \"Anaheim Resort VehiclePositions\", \"Shape Array Key\": \"29d2bbdbeaec1d6888800f85bebf6e33\", \"Trip Id\": \"aa6a03fe-f119-44a5-8976-2ad77ceeb89f:7\", \"Stop Sequence\": 6, \"Gtfs Dataset Key\": \"1051e067d18a76b0a79789f051d5c22b\", \"Loop Or Inlining\": 1, \"N Trips\": 8, \"Variable\": \"Speed Mph\", \"Speed\": 3.1, \"Route\": \"Anaheim Resort VehiclePositions 29d2bbdbeaec1d6888800f85bebf6e33\", \"Rounded Speed\": 3}, {\"Gtfs Dataset Name\": \"Anaheim Resort VehiclePositions\", \"Shape Array Key\": \"29d2bbdbeaec1d6888800f85bebf6e33\", \"Trip Id\": \"aa6a03fe-f119-44a5-8976-2ad77ceeb89f:5\", \"Stop Sequence\": 6, \"Gtfs Dataset Key\": \"1051e067d18a76b0a79789f051d5c22b\", \"Loop Or Inlining\": 1, \"N Trips\": 8, \"Variable\": \"Speed Mph\", \"Speed\": 3.1, \"Route\": \"Anaheim Resort VehiclePositions 29d2bbdbeaec1d6888800f85bebf6e33\", \"Rounded Speed\": 3}, {\"Gtfs Dataset Name\": \"Anaheim Resort VehiclePositions\", \"Shape Array Key\": \"29d2bbdbeaec1d6888800f85bebf6e33\", \"Trip Id\": \"aa6a03fe-f119-44a5-8976-2ad77ceeb89f:8\", \"Stop Sequence\": 6, \"Gtfs Dataset Key\": \"1051e067d18a76b0a79789f051d5c22b\", \"Loop Or Inlining\": 1, \"N Trips\": 8, \"Variable\": \"Speed Mph\", \"Speed\": 1.6, \"Route\": \"Anaheim Resort VehiclePositions 29d2bbdbeaec1d6888800f85bebf6e33\", \"Rounded Speed\": 1}, {\"Gtfs Dataset Name\": \"Anaheim Resort VehiclePositions\", \"Shape Array Key\": \"29d2bbdbeaec1d6888800f85bebf6e33\", \"Trip Id\": \"aa6a03fe-f119-44a5-8976-2ad77ceeb89f:4\", \"Stop Sequence\": 6, \"Gtfs Dataset Key\": \"1051e067d18a76b0a79789f051d5c22b\", \"Loop Or Inlining\": 1, \"N Trips\": 8, \"Variable\": \"Speed Mph\", \"Speed\": 0.0, \"Route\": \"Anaheim Resort VehiclePositions 29d2bbdbeaec1d6888800f85bebf6e33\", \"Rounded Speed\": 0}, {\"Gtfs Dataset Name\": \"Anaheim Resort VehiclePositions\", \"Shape Array Key\": \"29d2bbdbeaec1d6888800f85bebf6e33\", \"Trip Id\": \"aa6a03fe-f119-44a5-8976-2ad77ceeb89f:6\", \"Stop Sequence\": 6, \"Gtfs Dataset Key\": \"1051e067d18a76b0a79789f051d5c22b\", \"Loop Or Inlining\": 1, \"N Trips\": 8, \"Variable\": \"Speed Mph\", \"Speed\": 3.5, \"Route\": \"Anaheim Resort VehiclePositions 29d2bbdbeaec1d6888800f85bebf6e33\", \"Rounded Speed\": 3}, {\"Gtfs Dataset Name\": \"Anaheim Resort VehiclePositions\", \"Shape Array Key\": \"29d2bbdbeaec1d6888800f85bebf6e33\", \"Trip Id\": \"aa6a03fe-f119-44a5-8976-2ad77ceeb89f:3\", \"Stop Sequence\": 6, \"Gtfs Dataset Key\": \"1051e067d18a76b0a79789f051d5c22b\", \"Loop Or Inlining\": 1, \"N Trips\": 8, \"Variable\": \"Speed Mph\", \"Speed\": 5.2, \"Route\": \"Anaheim Resort VehiclePositions 29d2bbdbeaec1d6888800f85bebf6e33\", \"Rounded Speed\": 5}, {\"Gtfs Dataset Name\": \"Anaheim Resort VehiclePositions\", \"Shape Array Key\": \"29d2bbdbeaec1d6888800f85bebf6e33\", \"Trip Id\": \"aa6a03fe-f119-44a5-8976-2ad77ceeb89f:2\", \"Stop Sequence\": 6, \"Gtfs Dataset Key\": \"1051e067d18a76b0a79789f051d5c22b\", \"Loop Or Inlining\": 1, \"N Trips\": 8, \"Variable\": \"Speed Mph\", \"Speed\": 0.1, \"Route\": \"Anaheim Resort VehiclePositions 29d2bbdbeaec1d6888800f85bebf6e33\", \"Rounded Speed\": 0}, {\"Gtfs Dataset Name\": \"Anaheim Resort VehiclePositions\", \"Shape Array Key\": \"29d2bbdbeaec1d6888800f85bebf6e33\", \"Trip Id\": \"aa6a03fe-f119-44a5-8976-2ad77ceeb89f:4\", \"Stop Sequence\": 7, \"Gtfs Dataset Key\": \"1051e067d18a76b0a79789f051d5c22b\", \"Loop Or Inlining\": 1, \"N Trips\": 8, \"Variable\": \"Speed Mph\", \"Speed\": 3.7, \"Route\": \"Anaheim Resort VehiclePositions 29d2bbdbeaec1d6888800f85bebf6e33\", \"Rounded Speed\": 3}, {\"Gtfs Dataset Name\": \"Anaheim Resort VehiclePositions\", \"Shape Array Key\": \"29d2bbdbeaec1d6888800f85bebf6e33\", \"Trip Id\": \"aa6a03fe-f119-44a5-8976-2ad77ceeb89f:2\", \"Stop Sequence\": 7, \"Gtfs Dataset Key\": \"1051e067d18a76b0a79789f051d5c22b\", \"Loop Or Inlining\": 1, \"N Trips\": 8, \"Variable\": \"Speed Mph\", \"Speed\": 4.2, \"Route\": \"Anaheim Resort VehiclePositions 29d2bbdbeaec1d6888800f85bebf6e33\", \"Rounded Speed\": 4}, {\"Gtfs Dataset Name\": \"Anaheim Resort VehiclePositions\", \"Shape Array Key\": \"29d2bbdbeaec1d6888800f85bebf6e33\", \"Trip Id\": \"aa6a03fe-f119-44a5-8976-2ad77ceeb89f:7\", \"Stop Sequence\": 7, \"Gtfs Dataset Key\": \"1051e067d18a76b0a79789f051d5c22b\", \"Loop Or Inlining\": 1, \"N Trips\": 8, \"Variable\": \"Speed Mph\", \"Speed\": 4.4, \"Route\": \"Anaheim Resort VehiclePositions 29d2bbdbeaec1d6888800f85bebf6e33\", \"Rounded Speed\": 4}, {\"Gtfs Dataset Name\": \"Anaheim Resort VehiclePositions\", \"Shape Array Key\": \"29d2bbdbeaec1d6888800f85bebf6e33\", \"Trip Id\": \"aa6a03fe-f119-44a5-8976-2ad77ceeb89f:5\", \"Stop Sequence\": 7, \"Gtfs Dataset Key\": \"1051e067d18a76b0a79789f051d5c22b\", \"Loop Or Inlining\": 1, \"N Trips\": 8, \"Variable\": \"Speed Mph\", \"Speed\": 1.6, \"Route\": \"Anaheim Resort VehiclePositions 29d2bbdbeaec1d6888800f85bebf6e33\", \"Rounded Speed\": 1}, {\"Gtfs Dataset Name\": \"Anaheim Resort VehiclePositions\", \"Shape Array Key\": \"29d2bbdbeaec1d6888800f85bebf6e33\", \"Trip Id\": \"aa6a03fe-f119-44a5-8976-2ad77ceeb89f:8\", \"Stop Sequence\": 7, \"Gtfs Dataset Key\": \"1051e067d18a76b0a79789f051d5c22b\", \"Loop Or Inlining\": 1, \"N Trips\": 8, \"Variable\": \"Speed Mph\", \"Speed\": 4.4, \"Route\": \"Anaheim Resort VehiclePositions 29d2bbdbeaec1d6888800f85bebf6e33\", \"Rounded Speed\": 4}, {\"Gtfs Dataset Name\": \"Anaheim Resort VehiclePositions\", \"Shape Array Key\": \"29d2bbdbeaec1d6888800f85bebf6e33\", \"Trip Id\": \"aa6a03fe-f119-44a5-8976-2ad77ceeb89f:1\", \"Stop Sequence\": 7, \"Gtfs Dataset Key\": \"1051e067d18a76b0a79789f051d5c22b\", \"Loop Or Inlining\": 1, \"N Trips\": 8, \"Variable\": \"Speed Mph\", \"Speed\": 5.7, \"Route\": \"Anaheim Resort VehiclePositions 29d2bbdbeaec1d6888800f85bebf6e33\", \"Rounded Speed\": 5}, {\"Gtfs Dataset Name\": \"Anaheim Resort VehiclePositions\", \"Shape Array Key\": \"29d2bbdbeaec1d6888800f85bebf6e33\", \"Trip Id\": \"aa6a03fe-f119-44a5-8976-2ad77ceeb89f:6\", \"Stop Sequence\": 7, \"Gtfs Dataset Key\": \"1051e067d18a76b0a79789f051d5c22b\", \"Loop Or Inlining\": 1, \"N Trips\": 8, \"Variable\": \"Speed Mph\", \"Speed\": 3.9, \"Route\": \"Anaheim Resort VehiclePositions 29d2bbdbeaec1d6888800f85bebf6e33\", \"Rounded Speed\": 3}, {\"Gtfs Dataset Name\": \"Anaheim Resort VehiclePositions\", \"Shape Array Key\": \"29d2bbdbeaec1d6888800f85bebf6e33\", \"Trip Id\": \"aa6a03fe-f119-44a5-8976-2ad77ceeb89f:3\", \"Stop Sequence\": 7, \"Gtfs Dataset Key\": \"1051e067d18a76b0a79789f051d5c22b\", \"Loop Or Inlining\": 1, \"N Trips\": 8, \"Variable\": \"Speed Mph\", \"Speed\": 2.7, \"Route\": \"Anaheim Resort VehiclePositions 29d2bbdbeaec1d6888800f85bebf6e33\", \"Rounded Speed\": 2}, {\"Gtfs Dataset Name\": \"Anaheim Resort VehiclePositions\", \"Shape Array Key\": \"29d2bbdbeaec1d6888800f85bebf6e33\", \"Trip Id\": \"aa6a03fe-f119-44a5-8976-2ad77ceeb89f:5\", \"Stop Sequence\": 8, \"Gtfs Dataset Key\": \"1051e067d18a76b0a79789f051d5c22b\", \"Loop Or Inlining\": 1, \"N Trips\": 8, \"Variable\": \"Speed Mph\", \"Speed\": 3.4, \"Route\": \"Anaheim Resort VehiclePositions 29d2bbdbeaec1d6888800f85bebf6e33\", \"Rounded Speed\": 3}, {\"Gtfs Dataset Name\": \"Anaheim Resort VehiclePositions\", \"Shape Array Key\": \"29d2bbdbeaec1d6888800f85bebf6e33\", \"Trip Id\": \"aa6a03fe-f119-44a5-8976-2ad77ceeb89f:7\", \"Stop Sequence\": 8, \"Gtfs Dataset Key\": \"1051e067d18a76b0a79789f051d5c22b\", \"Loop Or Inlining\": 1, \"N Trips\": 8, \"Variable\": \"Speed Mph\", \"Speed\": 4.7, \"Route\": \"Anaheim Resort VehiclePositions 29d2bbdbeaec1d6888800f85bebf6e33\", \"Rounded Speed\": 4}, {\"Gtfs Dataset Name\": \"Anaheim Resort VehiclePositions\", \"Shape Array Key\": \"29d2bbdbeaec1d6888800f85bebf6e33\", \"Trip Id\": \"aa6a03fe-f119-44a5-8976-2ad77ceeb89f:4\", \"Stop Sequence\": 8, \"Gtfs Dataset Key\": \"1051e067d18a76b0a79789f051d5c22b\", \"Loop Or Inlining\": 1, \"N Trips\": 8, \"Variable\": \"Speed Mph\", \"Speed\": 7.5, \"Route\": \"Anaheim Resort VehiclePositions 29d2bbdbeaec1d6888800f85bebf6e33\", \"Rounded Speed\": 7}, {\"Gtfs Dataset Name\": \"Anaheim Resort VehiclePositions\", \"Shape Array Key\": \"29d2bbdbeaec1d6888800f85bebf6e33\", \"Trip Id\": \"aa6a03fe-f119-44a5-8976-2ad77ceeb89f:1\", \"Stop Sequence\": 8, \"Gtfs Dataset Key\": \"1051e067d18a76b0a79789f051d5c22b\", \"Loop Or Inlining\": 1, \"N Trips\": 8, \"Variable\": \"Speed Mph\", \"Speed\": 7.2, \"Route\": \"Anaheim Resort VehiclePositions 29d2bbdbeaec1d6888800f85bebf6e33\", \"Rounded Speed\": 7}, {\"Gtfs Dataset Name\": \"Anaheim Resort VehiclePositions\", \"Shape Array Key\": \"29d2bbdbeaec1d6888800f85bebf6e33\", \"Trip Id\": \"aa6a03fe-f119-44a5-8976-2ad77ceeb89f:6\", \"Stop Sequence\": 8, \"Gtfs Dataset Key\": \"1051e067d18a76b0a79789f051d5c22b\", \"Loop Or Inlining\": 1, \"N Trips\": 8, \"Variable\": \"Speed Mph\", \"Speed\": 4.6, \"Route\": \"Anaheim Resort VehiclePositions 29d2bbdbeaec1d6888800f85bebf6e33\", \"Rounded Speed\": 4}, {\"Gtfs Dataset Name\": \"Anaheim Resort VehiclePositions\", \"Shape Array Key\": \"29d2bbdbeaec1d6888800f85bebf6e33\", \"Trip Id\": \"aa6a03fe-f119-44a5-8976-2ad77ceeb89f:2\", \"Stop Sequence\": 8, \"Gtfs Dataset Key\": \"1051e067d18a76b0a79789f051d5c22b\", \"Loop Or Inlining\": 1, \"N Trips\": 8, \"Variable\": \"Speed Mph\", \"Speed\": 4.0, \"Route\": \"Anaheim Resort VehiclePositions 29d2bbdbeaec1d6888800f85bebf6e33\", \"Rounded Speed\": 4}, {\"Gtfs Dataset Name\": \"Anaheim Resort VehiclePositions\", \"Shape Array Key\": \"29d2bbdbeaec1d6888800f85bebf6e33\", \"Trip Id\": \"aa6a03fe-f119-44a5-8976-2ad77ceeb89f:3\", \"Stop Sequence\": 8, \"Gtfs Dataset Key\": \"1051e067d18a76b0a79789f051d5c22b\", \"Loop Or Inlining\": 1, \"N Trips\": 8, \"Variable\": \"Speed Mph\", \"Speed\": 4.6, \"Route\": \"Anaheim Resort VehiclePositions 29d2bbdbeaec1d6888800f85bebf6e33\", \"Rounded Speed\": 4}, {\"Gtfs Dataset Name\": \"Anaheim Resort VehiclePositions\", \"Shape Array Key\": \"29d2bbdbeaec1d6888800f85bebf6e33\", \"Trip Id\": \"aa6a03fe-f119-44a5-8976-2ad77ceeb89f:5\", \"Stop Sequence\": 9, \"Gtfs Dataset Key\": \"1051e067d18a76b0a79789f051d5c22b\", \"Loop Or Inlining\": 1, \"N Trips\": 8, \"Variable\": \"Speed Mph\", \"Speed\": 2.5, \"Route\": \"Anaheim Resort VehiclePositions 29d2bbdbeaec1d6888800f85bebf6e33\", \"Rounded Speed\": 2}, {\"Gtfs Dataset Name\": \"Anaheim Resort VehiclePositions\", \"Shape Array Key\": \"29d2bbdbeaec1d6888800f85bebf6e33\", \"Trip Id\": \"aa6a03fe-f119-44a5-8976-2ad77ceeb89f:2\", \"Stop Sequence\": 9, \"Gtfs Dataset Key\": \"1051e067d18a76b0a79789f051d5c22b\", \"Loop Or Inlining\": 1, \"N Trips\": 8, \"Variable\": \"Speed Mph\", \"Speed\": 2.8, \"Route\": \"Anaheim Resort VehiclePositions 29d2bbdbeaec1d6888800f85bebf6e33\", \"Rounded Speed\": 2}, {\"Gtfs Dataset Name\": \"Anaheim Resort VehiclePositions\", \"Shape Array Key\": \"29d2bbdbeaec1d6888800f85bebf6e33\", \"Trip Id\": \"aa6a03fe-f119-44a5-8976-2ad77ceeb89f:3\", \"Stop Sequence\": 9, \"Gtfs Dataset Key\": \"1051e067d18a76b0a79789f051d5c22b\", \"Loop Or Inlining\": 1, \"N Trips\": 8, \"Variable\": \"Speed Mph\", \"Speed\": 5.1, \"Route\": \"Anaheim Resort VehiclePositions 29d2bbdbeaec1d6888800f85bebf6e33\", \"Rounded Speed\": 5}, {\"Gtfs Dataset Name\": \"Anaheim Resort VehiclePositions\", \"Shape Array Key\": \"29d2bbdbeaec1d6888800f85bebf6e33\", \"Trip Id\": \"aa6a03fe-f119-44a5-8976-2ad77ceeb89f:7\", \"Stop Sequence\": 9, \"Gtfs Dataset Key\": \"1051e067d18a76b0a79789f051d5c22b\", \"Loop Or Inlining\": 1, \"N Trips\": 8, \"Variable\": \"Speed Mph\", \"Speed\": 6.4, \"Route\": \"Anaheim Resort VehiclePositions 29d2bbdbeaec1d6888800f85bebf6e33\", \"Rounded Speed\": 6}, {\"Gtfs Dataset Name\": \"Anaheim Resort VehiclePositions\", \"Shape Array Key\": \"29d2bbdbeaec1d6888800f85bebf6e33\", \"Trip Id\": \"aa6a03fe-f119-44a5-8976-2ad77ceeb89f:8\", \"Stop Sequence\": 9, \"Gtfs Dataset Key\": \"1051e067d18a76b0a79789f051d5c22b\", \"Loop Or Inlining\": 1, \"N Trips\": 8, \"Variable\": \"Speed Mph\", \"Speed\": 7.2, \"Route\": \"Anaheim Resort VehiclePositions 29d2bbdbeaec1d6888800f85bebf6e33\", \"Rounded Speed\": 7}, {\"Gtfs Dataset Name\": \"Anaheim Resort VehiclePositions\", \"Shape Array Key\": \"29d2bbdbeaec1d6888800f85bebf6e33\", \"Trip Id\": \"aa6a03fe-f119-44a5-8976-2ad77ceeb89f:1\", \"Stop Sequence\": 9, \"Gtfs Dataset Key\": \"1051e067d18a76b0a79789f051d5c22b\", \"Loop Or Inlining\": 1, \"N Trips\": 8, \"Variable\": \"Speed Mph\", \"Speed\": 7.0, \"Route\": \"Anaheim Resort VehiclePositions 29d2bbdbeaec1d6888800f85bebf6e33\", \"Rounded Speed\": 7}, {\"Gtfs Dataset Name\": \"Anaheim Resort VehiclePositions\", \"Shape Array Key\": \"29d2bbdbeaec1d6888800f85bebf6e33\", \"Trip Id\": \"aa6a03fe-f119-44a5-8976-2ad77ceeb89f:6\", \"Stop Sequence\": 9, \"Gtfs Dataset Key\": \"1051e067d18a76b0a79789f051d5c22b\", \"Loop Or Inlining\": 1, \"N Trips\": 8, \"Variable\": \"Speed Mph\", \"Speed\": 5.4, \"Route\": \"Anaheim Resort VehiclePositions 29d2bbdbeaec1d6888800f85bebf6e33\", \"Rounded Speed\": 5}, {\"Gtfs Dataset Name\": \"Anaheim Resort VehiclePositions\", \"Shape Array Key\": \"29d2bbdbeaec1d6888800f85bebf6e33\", \"Trip Id\": \"aa6a03fe-f119-44a5-8976-2ad77ceeb89f:4\", \"Stop Sequence\": 9, \"Gtfs Dataset Key\": \"1051e067d18a76b0a79789f051d5c22b\", \"Loop Or Inlining\": 1, \"N Trips\": 8, \"Variable\": \"Speed Mph\", \"Speed\": 3.2, \"Route\": \"Anaheim Resort VehiclePositions 29d2bbdbeaec1d6888800f85bebf6e33\", \"Rounded Speed\": 3}, {\"Gtfs Dataset Name\": \"Eastern Sierra Vehicle Positions\", \"Shape Array Key\": \"754c5b012195800c38dc58e72e4f482e\", \"Trip Id\": \"t_97725_b_2397_tn_7\", \"Stop Sequence\": 1, \"Gtfs Dataset Key\": \"64b3bb0d6a6888b62be32aa789cc37ef\", \"Loop Or Inlining\": 0, \"N Trips\": 8, \"Variable\": \"Speed Mph\", \"Speed\": 0.0, \"Route\": \"Eastern Sierra Vehicle Positions 754c5b012195800c38dc58e72e4f482e\", \"Rounded Speed\": 0}, {\"Gtfs Dataset Name\": \"Eastern Sierra Vehicle Positions\", \"Shape Array Key\": \"754c5b012195800c38dc58e72e4f482e\", \"Trip Id\": \"t_97725_b_2397_tn_3\", \"Stop Sequence\": 2, \"Gtfs Dataset Key\": \"64b3bb0d6a6888b62be32aa789cc37ef\", \"Loop Or Inlining\": 0, \"N Trips\": 9, \"Variable\": \"Speed Mph\", \"Speed\": 0.5, \"Route\": \"Eastern Sierra Vehicle Positions 754c5b012195800c38dc58e72e4f482e\", \"Rounded Speed\": 0}, {\"Gtfs Dataset Name\": \"Eastern Sierra Vehicle Positions\", \"Shape Array Key\": \"754c5b012195800c38dc58e72e4f482e\", \"Trip Id\": \"t_97725_b_2397_tn_5\", \"Stop Sequence\": 2, \"Gtfs Dataset Key\": \"64b3bb0d6a6888b62be32aa789cc37ef\", \"Loop Or Inlining\": 0, \"N Trips\": 9, \"Variable\": \"Speed Mph\", \"Speed\": 5.2, \"Route\": \"Eastern Sierra Vehicle Positions 754c5b012195800c38dc58e72e4f482e\", \"Rounded Speed\": 5}, {\"Gtfs Dataset Name\": \"Eastern Sierra Vehicle Positions\", \"Shape Array Key\": \"754c5b012195800c38dc58e72e4f482e\", \"Trip Id\": \"t_97725_b_2397_tn_7\", \"Stop Sequence\": 2, \"Gtfs Dataset Key\": \"64b3bb0d6a6888b62be32aa789cc37ef\", \"Loop Or Inlining\": 0, \"N Trips\": 9, \"Variable\": \"Speed Mph\", \"Speed\": 2.2, \"Route\": \"Eastern Sierra Vehicle Positions 754c5b012195800c38dc58e72e4f482e\", \"Rounded Speed\": 2}, {\"Gtfs Dataset Name\": \"Eastern Sierra Vehicle Positions\", \"Shape Array Key\": \"754c5b012195800c38dc58e72e4f482e\", \"Trip Id\": \"t_97725_b_2397_tn_9\", \"Stop Sequence\": 2, \"Gtfs Dataset Key\": \"64b3bb0d6a6888b62be32aa789cc37ef\", \"Loop Or Inlining\": 0, \"N Trips\": 9, \"Variable\": \"Speed Mph\", \"Speed\": 8.3, \"Route\": \"Eastern Sierra Vehicle Positions 754c5b012195800c38dc58e72e4f482e\", \"Rounded Speed\": 8}, {\"Gtfs Dataset Name\": \"Eastern Sierra Vehicle Positions\", \"Shape Array Key\": \"754c5b012195800c38dc58e72e4f482e\", \"Trip Id\": \"t_97725_b_2397_tn_11\", \"Stop Sequence\": 2, \"Gtfs Dataset Key\": \"64b3bb0d6a6888b62be32aa789cc37ef\", \"Loop Or Inlining\": 0, \"N Trips\": 9, \"Variable\": \"Speed Mph\", \"Speed\": 2.2, \"Route\": \"Eastern Sierra Vehicle Positions 754c5b012195800c38dc58e72e4f482e\", \"Rounded Speed\": 2}, {\"Gtfs Dataset Name\": \"Eastern Sierra Vehicle Positions\", \"Shape Array Key\": \"754c5b012195800c38dc58e72e4f482e\", \"Trip Id\": \"t_97725_b_2397_tn_19\", \"Stop Sequence\": 2, \"Gtfs Dataset Key\": \"64b3bb0d6a6888b62be32aa789cc37ef\", \"Loop Or Inlining\": 0, \"N Trips\": 9, \"Variable\": \"Speed Mph\", \"Speed\": 3.6, \"Route\": \"Eastern Sierra Vehicle Positions 754c5b012195800c38dc58e72e4f482e\", \"Rounded Speed\": 3}, {\"Gtfs Dataset Name\": \"Eastern Sierra Vehicle Positions\", \"Shape Array Key\": \"754c5b012195800c38dc58e72e4f482e\", \"Trip Id\": \"t_97725_b_2397_tn_17\", \"Stop Sequence\": 2, \"Gtfs Dataset Key\": \"64b3bb0d6a6888b62be32aa789cc37ef\", \"Loop Or Inlining\": 0, \"N Trips\": 9, \"Variable\": \"Speed Mph\", \"Speed\": 2.3, \"Route\": \"Eastern Sierra Vehicle Positions 754c5b012195800c38dc58e72e4f482e\", \"Rounded Speed\": 2}, {\"Gtfs Dataset Name\": \"Eastern Sierra Vehicle Positions\", \"Shape Array Key\": \"754c5b012195800c38dc58e72e4f482e\", \"Trip Id\": \"t_97725_b_2397_tn_13\", \"Stop Sequence\": 2, \"Gtfs Dataset Key\": \"64b3bb0d6a6888b62be32aa789cc37ef\", \"Loop Or Inlining\": 0, \"N Trips\": 9, \"Variable\": \"Speed Mph\", \"Speed\": 2.9, \"Route\": \"Eastern Sierra Vehicle Positions 754c5b012195800c38dc58e72e4f482e\", \"Rounded Speed\": 2}, {\"Gtfs Dataset Name\": \"Eastern Sierra Vehicle Positions\", \"Shape Array Key\": \"754c5b012195800c38dc58e72e4f482e\", \"Trip Id\": \"t_97725_b_2397_tn_21\", \"Stop Sequence\": 2, \"Gtfs Dataset Key\": \"64b3bb0d6a6888b62be32aa789cc37ef\", \"Loop Or Inlining\": 0, \"N Trips\": 9, \"Variable\": \"Speed Mph\", \"Speed\": 5.0, \"Route\": \"Eastern Sierra Vehicle Positions 754c5b012195800c38dc58e72e4f482e\", \"Rounded Speed\": 5}, {\"Gtfs Dataset Name\": \"Eastern Sierra Vehicle Positions\", \"Shape Array Key\": \"754c5b012195800c38dc58e72e4f482e\", \"Trip Id\": \"t_97725_b_2397_tn_9\", \"Stop Sequence\": 3, \"Gtfs Dataset Key\": \"64b3bb0d6a6888b62be32aa789cc37ef\", \"Loop Or Inlining\": 0, \"N Trips\": 1, \"Variable\": \"Speed Mph\", \"Speed\": null, \"Route\": \"Eastern Sierra Vehicle Positions 754c5b012195800c38dc58e72e4f482e\", \"Rounded Speed\": 0}, {\"Gtfs Dataset Name\": \"Eastern Sierra Vehicle Positions\", \"Shape Array Key\": \"754c5b012195800c38dc58e72e4f482e\", \"Trip Id\": \"t_97725_b_2397_tn_3\", \"Stop Sequence\": 3, \"Gtfs Dataset Key\": \"64b3bb0d6a6888b62be32aa789cc37ef\", \"Loop Or Inlining\": 0, \"N Trips\": 1, \"Variable\": \"Speed Mph\", \"Speed\": 0.0, \"Route\": \"Eastern Sierra Vehicle Positions 754c5b012195800c38dc58e72e4f482e\", \"Rounded Speed\": 0}, {\"Gtfs Dataset Name\": \"Eastern Sierra Vehicle Positions\", \"Shape Array Key\": \"e3c5ed2c6fa6cd5c5cd57d46aeb3cd8e\", \"Trip Id\": \"t_195132_b_78389_tn_1\", \"Stop Sequence\": 4, \"Gtfs Dataset Key\": \"64b3bb0d6a6888b62be32aa789cc37ef\", \"Loop Or Inlining\": 0, \"N Trips\": 1, \"Variable\": \"Speed Mph\", \"Speed\": 34.6, \"Route\": \"Eastern Sierra Vehicle Positions e3c5ed2c6fa6cd5c5cd57d46aeb3cd8e\", \"Rounded Speed\": 34}, {\"Gtfs Dataset Name\": \"Eastern Sierra Vehicle Positions\", \"Shape Array Key\": \"e3c5ed2c6fa6cd5c5cd57d46aeb3cd8e\", \"Trip Id\": \"t_195132_b_78389_tn_1\", \"Stop Sequence\": 7, \"Gtfs Dataset Key\": \"64b3bb0d6a6888b62be32aa789cc37ef\", \"Loop Or Inlining\": 0, \"N Trips\": 1, \"Variable\": \"Speed Mph\", \"Speed\": 0.5, \"Route\": \"Eastern Sierra Vehicle Positions e3c5ed2c6fa6cd5c5cd57d46aeb3cd8e\", \"Rounded Speed\": 0}, {\"Gtfs Dataset Name\": \"Eastern Sierra Vehicle Positions\", \"Shape Array Key\": \"e3c5ed2c6fa6cd5c5cd57d46aeb3cd8e\", \"Trip Id\": \"t_195132_b_78389_tn_1\", \"Stop Sequence\": 8, \"Gtfs Dataset Key\": \"64b3bb0d6a6888b62be32aa789cc37ef\", \"Loop Or Inlining\": 0, \"N Trips\": 1, \"Variable\": \"Speed Mph\", \"Speed\": 0.5, \"Route\": \"Eastern Sierra Vehicle Positions e3c5ed2c6fa6cd5c5cd57d46aeb3cd8e\", \"Rounded Speed\": 0}, {\"Gtfs Dataset Name\": \"Eastern Sierra Vehicle Positions\", \"Shape Array Key\": \"e3c5ed2c6fa6cd5c5cd57d46aeb3cd8e\", \"Trip Id\": \"t_195132_b_78389_tn_1\", \"Stop Sequence\": 42, \"Gtfs Dataset Key\": \"64b3bb0d6a6888b62be32aa789cc37ef\", \"Loop Or Inlining\": 0, \"N Trips\": 1, \"Variable\": \"Speed Mph\", \"Speed\": 11.8, \"Route\": \"Eastern Sierra Vehicle Positions e3c5ed2c6fa6cd5c5cd57d46aeb3cd8e\", \"Rounded Speed\": 11}], \"data-c9e6b35ac31edaceaafba7a9f93e443d\": [{\"Gtfs Dataset Name\": \"Anaheim Resort VehiclePositions\", \"Shape Array Key\": \"29d2bbdbeaec1d6888800f85bebf6e33\", \"Trip Id\": \"aa6a03fe-f119-44a5-8976-2ad77ceeb89f:4\", \"Stop Sequence\": 1, \"Gtfs Dataset Key\": \"1051e067d18a76b0a79789f051d5c22b\", \"Loop Or Inlining\": 1, \"N Trips\": 8, \"Variable\": \"Avg Speed Mph\", \"Speed\": 0.0, \"Route\": \"Anaheim Resort VehiclePositions 29d2bbdbeaec1d6888800f85bebf6e33\", \"Rounded Speed\": 0}, {\"Gtfs Dataset Name\": \"Anaheim Resort VehiclePositions\", \"Shape Array Key\": \"29d2bbdbeaec1d6888800f85bebf6e33\", \"Trip Id\": \"aa6a03fe-f119-44a5-8976-2ad77ceeb89f:4\", \"Stop Sequence\": 2, \"Gtfs Dataset Key\": \"1051e067d18a76b0a79789f051d5c22b\", \"Loop Or Inlining\": 1, \"N Trips\": 8, \"Variable\": \"Avg Speed Mph\", \"Speed\": 8.0, \"Route\": \"Anaheim Resort VehiclePositions 29d2bbdbeaec1d6888800f85bebf6e33\", \"Rounded Speed\": 8}, {\"Gtfs Dataset Name\": \"Anaheim Resort VehiclePositions\", \"Shape Array Key\": \"29d2bbdbeaec1d6888800f85bebf6e33\", \"Trip Id\": \"aa6a03fe-f119-44a5-8976-2ad77ceeb89f:8\", \"Stop Sequence\": 3, \"Gtfs Dataset Key\": \"1051e067d18a76b0a79789f051d5c22b\", \"Loop Or Inlining\": 1, \"N Trips\": 8, \"Variable\": \"Avg Speed Mph\", \"Speed\": 4.2, \"Route\": \"Anaheim Resort VehiclePositions 29d2bbdbeaec1d6888800f85bebf6e33\", \"Rounded Speed\": 4}, {\"Gtfs Dataset Name\": \"Anaheim Resort VehiclePositions\", \"Shape Array Key\": \"29d2bbdbeaec1d6888800f85bebf6e33\", \"Trip Id\": \"aa6a03fe-f119-44a5-8976-2ad77ceeb89f:3\", \"Stop Sequence\": 4, \"Gtfs Dataset Key\": \"1051e067d18a76b0a79789f051d5c22b\", \"Loop Or Inlining\": 1, \"N Trips\": 8, \"Variable\": \"Avg Speed Mph\", \"Speed\": 4.8, \"Route\": \"Anaheim Resort VehiclePositions 29d2bbdbeaec1d6888800f85bebf6e33\", \"Rounded Speed\": 4}, {\"Gtfs Dataset Name\": \"Anaheim Resort VehiclePositions\", \"Shape Array Key\": \"29d2bbdbeaec1d6888800f85bebf6e33\", \"Trip Id\": \"aa6a03fe-f119-44a5-8976-2ad77ceeb89f:5\", \"Stop Sequence\": 5, \"Gtfs Dataset Key\": \"1051e067d18a76b0a79789f051d5c22b\", \"Loop Or Inlining\": 1, \"N Trips\": 8, \"Variable\": \"Avg Speed Mph\", \"Speed\": 0.6, \"Route\": \"Anaheim Resort VehiclePositions 29d2bbdbeaec1d6888800f85bebf6e33\", \"Rounded Speed\": 0}, {\"Gtfs Dataset Name\": \"Anaheim Resort VehiclePositions\", \"Shape Array Key\": \"29d2bbdbeaec1d6888800f85bebf6e33\", \"Trip Id\": \"aa6a03fe-f119-44a5-8976-2ad77ceeb89f:1\", \"Stop Sequence\": 6, \"Gtfs Dataset Key\": \"1051e067d18a76b0a79789f051d5c22b\", \"Loop Or Inlining\": 1, \"N Trips\": 8, \"Variable\": \"Avg Speed Mph\", \"Speed\": 2.5, \"Route\": \"Anaheim Resort VehiclePositions 29d2bbdbeaec1d6888800f85bebf6e33\", \"Rounded Speed\": 2}, {\"Gtfs Dataset Name\": \"Anaheim Resort VehiclePositions\", \"Shape Array Key\": \"29d2bbdbeaec1d6888800f85bebf6e33\", \"Trip Id\": \"aa6a03fe-f119-44a5-8976-2ad77ceeb89f:4\", \"Stop Sequence\": 7, \"Gtfs Dataset Key\": \"1051e067d18a76b0a79789f051d5c22b\", \"Loop Or Inlining\": 1, \"N Trips\": 8, \"Variable\": \"Avg Speed Mph\", \"Speed\": 3.8, \"Route\": \"Anaheim Resort VehiclePositions 29d2bbdbeaec1d6888800f85bebf6e33\", \"Rounded Speed\": 3}, {\"Gtfs Dataset Name\": \"Anaheim Resort VehiclePositions\", \"Shape Array Key\": \"29d2bbdbeaec1d6888800f85bebf6e33\", \"Trip Id\": \"aa6a03fe-f119-44a5-8976-2ad77ceeb89f:5\", \"Stop Sequence\": 8, \"Gtfs Dataset Key\": \"1051e067d18a76b0a79789f051d5c22b\", \"Loop Or Inlining\": 1, \"N Trips\": 8, \"Variable\": \"Avg Speed Mph\", \"Speed\": 4.9, \"Route\": \"Anaheim Resort VehiclePositions 29d2bbdbeaec1d6888800f85bebf6e33\", \"Rounded Speed\": 4}, {\"Gtfs Dataset Name\": \"Anaheim Resort VehiclePositions\", \"Shape Array Key\": \"29d2bbdbeaec1d6888800f85bebf6e33\", \"Trip Id\": \"aa6a03fe-f119-44a5-8976-2ad77ceeb89f:5\", \"Stop Sequence\": 9, \"Gtfs Dataset Key\": \"1051e067d18a76b0a79789f051d5c22b\", \"Loop Or Inlining\": 1, \"N Trips\": 8, \"Variable\": \"Avg Speed Mph\", \"Speed\": 5.0, \"Route\": \"Anaheim Resort VehiclePositions 29d2bbdbeaec1d6888800f85bebf6e33\", \"Rounded Speed\": 5}, {\"Gtfs Dataset Name\": \"Eastern Sierra Vehicle Positions\", \"Shape Array Key\": \"754c5b012195800c38dc58e72e4f482e\", \"Trip Id\": \"t_97725_b_2397_tn_7\", \"Stop Sequence\": 1, \"Gtfs Dataset Key\": \"64b3bb0d6a6888b62be32aa789cc37ef\", \"Loop Or Inlining\": 0, \"N Trips\": 8, \"Variable\": \"Avg Speed Mph\", \"Speed\": 0.0, \"Route\": \"Eastern Sierra Vehicle Positions 754c5b012195800c38dc58e72e4f482e\", \"Rounded Speed\": 0}, {\"Gtfs Dataset Name\": \"Eastern Sierra Vehicle Positions\", \"Shape Array Key\": \"754c5b012195800c38dc58e72e4f482e\", \"Trip Id\": \"t_97725_b_2397_tn_3\", \"Stop Sequence\": 2, \"Gtfs Dataset Key\": \"64b3bb0d6a6888b62be32aa789cc37ef\", \"Loop Or Inlining\": 0, \"N Trips\": 9, \"Variable\": \"Avg Speed Mph\", \"Speed\": 3.6, \"Route\": \"Eastern Sierra Vehicle Positions 754c5b012195800c38dc58e72e4f482e\", \"Rounded Speed\": 3}, {\"Gtfs Dataset Name\": \"Eastern Sierra Vehicle Positions\", \"Shape Array Key\": \"754c5b012195800c38dc58e72e4f482e\", \"Trip Id\": \"t_97725_b_2397_tn_9\", \"Stop Sequence\": 3, \"Gtfs Dataset Key\": \"64b3bb0d6a6888b62be32aa789cc37ef\", \"Loop Or Inlining\": 0, \"N Trips\": 1, \"Variable\": \"Avg Speed Mph\", \"Speed\": 0.0, \"Route\": \"Eastern Sierra Vehicle Positions 754c5b012195800c38dc58e72e4f482e\", \"Rounded Speed\": 0}, {\"Gtfs Dataset Name\": \"Eastern Sierra Vehicle Positions\", \"Shape Array Key\": \"e3c5ed2c6fa6cd5c5cd57d46aeb3cd8e\", \"Trip Id\": \"t_195132_b_78389_tn_1\", \"Stop Sequence\": 4, \"Gtfs Dataset Key\": \"64b3bb0d6a6888b62be32aa789cc37ef\", \"Loop Or Inlining\": 0, \"N Trips\": 1, \"Variable\": \"Avg Speed Mph\", \"Speed\": 34.6, \"Route\": \"Eastern Sierra Vehicle Positions e3c5ed2c6fa6cd5c5cd57d46aeb3cd8e\", \"Rounded Speed\": 34}, {\"Gtfs Dataset Name\": \"Eastern Sierra Vehicle Positions\", \"Shape Array Key\": \"e3c5ed2c6fa6cd5c5cd57d46aeb3cd8e\", \"Trip Id\": \"t_195132_b_78389_tn_1\", \"Stop Sequence\": 7, \"Gtfs Dataset Key\": \"64b3bb0d6a6888b62be32aa789cc37ef\", \"Loop Or Inlining\": 0, \"N Trips\": 1, \"Variable\": \"Avg Speed Mph\", \"Speed\": 0.5, \"Route\": \"Eastern Sierra Vehicle Positions e3c5ed2c6fa6cd5c5cd57d46aeb3cd8e\", \"Rounded Speed\": 0}, {\"Gtfs Dataset Name\": \"Eastern Sierra Vehicle Positions\", \"Shape Array Key\": \"e3c5ed2c6fa6cd5c5cd57d46aeb3cd8e\", \"Trip Id\": \"t_195132_b_78389_tn_1\", \"Stop Sequence\": 8, \"Gtfs Dataset Key\": \"64b3bb0d6a6888b62be32aa789cc37ef\", \"Loop Or Inlining\": 0, \"N Trips\": 1, \"Variable\": \"Avg Speed Mph\", \"Speed\": 0.5, \"Route\": \"Eastern Sierra Vehicle Positions e3c5ed2c6fa6cd5c5cd57d46aeb3cd8e\", \"Rounded Speed\": 0}, {\"Gtfs Dataset Name\": \"Eastern Sierra Vehicle Positions\", \"Shape Array Key\": \"e3c5ed2c6fa6cd5c5cd57d46aeb3cd8e\", \"Trip Id\": \"t_195132_b_78389_tn_1\", \"Stop Sequence\": 42, \"Gtfs Dataset Key\": \"64b3bb0d6a6888b62be32aa789cc37ef\", \"Loop Or Inlining\": 0, \"N Trips\": 1, \"Variable\": \"Avg Speed Mph\", \"Speed\": 11.8, \"Route\": \"Eastern Sierra Vehicle Positions e3c5ed2c6fa6cd5c5cd57d46aeb3cd8e\", \"Rounded Speed\": 11}, {\"Gtfs Dataset Name\": \"Anaheim Resort VehiclePositions\", \"Shape Array Key\": \"29d2bbdbeaec1d6888800f85bebf6e33\", \"Trip Id\": \"aa6a03fe-f119-44a5-8976-2ad77ceeb89f:4\", \"Stop Sequence\": 1, \"Gtfs Dataset Key\": \"1051e067d18a76b0a79789f051d5c22b\", \"Loop Or Inlining\": 1, \"N Trips\": 8, \"Variable\": \"P20 Speed Mph\", \"Speed\": 0.0, \"Route\": \"Anaheim Resort VehiclePositions 29d2bbdbeaec1d6888800f85bebf6e33\", \"Rounded Speed\": 0}, {\"Gtfs Dataset Name\": \"Anaheim Resort VehiclePositions\", \"Shape Array Key\": \"29d2bbdbeaec1d6888800f85bebf6e33\", \"Trip Id\": \"aa6a03fe-f119-44a5-8976-2ad77ceeb89f:4\", \"Stop Sequence\": 2, \"Gtfs Dataset Key\": \"1051e067d18a76b0a79789f051d5c22b\", \"Loop Or Inlining\": 1, \"N Trips\": 8, \"Variable\": \"P20 Speed Mph\", \"Speed\": 6.0, \"Route\": \"Anaheim Resort VehiclePositions 29d2bbdbeaec1d6888800f85bebf6e33\", \"Rounded Speed\": 6}, {\"Gtfs Dataset Name\": \"Anaheim Resort VehiclePositions\", \"Shape Array Key\": \"29d2bbdbeaec1d6888800f85bebf6e33\", \"Trip Id\": \"aa6a03fe-f119-44a5-8976-2ad77ceeb89f:8\", \"Stop Sequence\": 3, \"Gtfs Dataset Key\": \"1051e067d18a76b0a79789f051d5c22b\", \"Loop Or Inlining\": 1, \"N Trips\": 8, \"Variable\": \"P20 Speed Mph\", \"Speed\": 3.7, \"Route\": \"Anaheim Resort VehiclePositions 29d2bbdbeaec1d6888800f85bebf6e33\", \"Rounded Speed\": 3}, {\"Gtfs Dataset Name\": \"Anaheim Resort VehiclePositions\", \"Shape Array Key\": \"29d2bbdbeaec1d6888800f85bebf6e33\", \"Trip Id\": \"aa6a03fe-f119-44a5-8976-2ad77ceeb89f:3\", \"Stop Sequence\": 4, \"Gtfs Dataset Key\": \"1051e067d18a76b0a79789f051d5c22b\", \"Loop Or Inlining\": 1, \"N Trips\": 8, \"Variable\": \"P20 Speed Mph\", \"Speed\": 3.2, \"Route\": \"Anaheim Resort VehiclePositions 29d2bbdbeaec1d6888800f85bebf6e33\", \"Rounded Speed\": 3}, {\"Gtfs Dataset Name\": \"Anaheim Resort VehiclePositions\", \"Shape Array Key\": \"29d2bbdbeaec1d6888800f85bebf6e33\", \"Trip Id\": \"aa6a03fe-f119-44a5-8976-2ad77ceeb89f:5\", \"Stop Sequence\": 5, \"Gtfs Dataset Key\": \"1051e067d18a76b0a79789f051d5c22b\", \"Loop Or Inlining\": 1, \"N Trips\": 8, \"Variable\": \"P20 Speed Mph\", \"Speed\": 0.4, \"Route\": \"Anaheim Resort VehiclePositions 29d2bbdbeaec1d6888800f85bebf6e33\", \"Rounded Speed\": 0}, {\"Gtfs Dataset Name\": \"Anaheim Resort VehiclePositions\", \"Shape Array Key\": \"29d2bbdbeaec1d6888800f85bebf6e33\", \"Trip Id\": \"aa6a03fe-f119-44a5-8976-2ad77ceeb89f:1\", \"Stop Sequence\": 6, \"Gtfs Dataset Key\": \"1051e067d18a76b0a79789f051d5c22b\", \"Loop Or Inlining\": 1, \"N Trips\": 8, \"Variable\": \"P20 Speed Mph\", \"Speed\": 0.7, \"Route\": \"Anaheim Resort VehiclePositions 29d2bbdbeaec1d6888800f85bebf6e33\", \"Rounded Speed\": 0}, {\"Gtfs Dataset Name\": \"Anaheim Resort VehiclePositions\", \"Shape Array Key\": \"29d2bbdbeaec1d6888800f85bebf6e33\", \"Trip Id\": \"aa6a03fe-f119-44a5-8976-2ad77ceeb89f:4\", \"Stop Sequence\": 7, \"Gtfs Dataset Key\": \"1051e067d18a76b0a79789f051d5c22b\", \"Loop Or Inlining\": 1, \"N Trips\": 8, \"Variable\": \"P20 Speed Mph\", \"Speed\": 3.1, \"Route\": \"Anaheim Resort VehiclePositions 29d2bbdbeaec1d6888800f85bebf6e33\", \"Rounded Speed\": 3}, {\"Gtfs Dataset Name\": \"Anaheim Resort VehiclePositions\", \"Shape Array Key\": \"29d2bbdbeaec1d6888800f85bebf6e33\", \"Trip Id\": \"aa6a03fe-f119-44a5-8976-2ad77ceeb89f:5\", \"Stop Sequence\": 8, \"Gtfs Dataset Key\": \"1051e067d18a76b0a79789f051d5c22b\", \"Loop Or Inlining\": 1, \"N Trips\": 8, \"Variable\": \"P20 Speed Mph\", \"Speed\": 3.6, \"Route\": \"Anaheim Resort VehiclePositions 29d2bbdbeaec1d6888800f85bebf6e33\", \"Rounded Speed\": 3}, {\"Gtfs Dataset Name\": \"Anaheim Resort VehiclePositions\", \"Shape Array Key\": \"29d2bbdbeaec1d6888800f85bebf6e33\", \"Trip Id\": \"aa6a03fe-f119-44a5-8976-2ad77ceeb89f:5\", \"Stop Sequence\": 9, \"Gtfs Dataset Key\": \"1051e067d18a76b0a79789f051d5c22b\", \"Loop Or Inlining\": 1, \"N Trips\": 8, \"Variable\": \"P20 Speed Mph\", \"Speed\": 3.0, \"Route\": \"Anaheim Resort VehiclePositions 29d2bbdbeaec1d6888800f85bebf6e33\", \"Rounded Speed\": 3}, {\"Gtfs Dataset Name\": \"Eastern Sierra Vehicle Positions\", \"Shape Array Key\": \"754c5b012195800c38dc58e72e4f482e\", \"Trip Id\": \"t_97725_b_2397_tn_7\", \"Stop Sequence\": 1, \"Gtfs Dataset Key\": \"64b3bb0d6a6888b62be32aa789cc37ef\", \"Loop Or Inlining\": 0, \"N Trips\": 8, \"Variable\": \"P20 Speed Mph\", \"Speed\": 0.0, \"Route\": \"Eastern Sierra Vehicle Positions 754c5b012195800c38dc58e72e4f482e\", \"Rounded Speed\": 0}, {\"Gtfs Dataset Name\": \"Eastern Sierra Vehicle Positions\", \"Shape Array Key\": \"754c5b012195800c38dc58e72e4f482e\", \"Trip Id\": \"t_97725_b_2397_tn_3\", \"Stop Sequence\": 2, \"Gtfs Dataset Key\": \"64b3bb0d6a6888b62be32aa789cc37ef\", \"Loop Or Inlining\": 0, \"N Trips\": 9, \"Variable\": \"P20 Speed Mph\", \"Speed\": 2.2, \"Route\": \"Eastern Sierra Vehicle Positions 754c5b012195800c38dc58e72e4f482e\", \"Rounded Speed\": 2}, {\"Gtfs Dataset Name\": \"Eastern Sierra Vehicle Positions\", \"Shape Array Key\": \"754c5b012195800c38dc58e72e4f482e\", \"Trip Id\": \"t_97725_b_2397_tn_9\", \"Stop Sequence\": 3, \"Gtfs Dataset Key\": \"64b3bb0d6a6888b62be32aa789cc37ef\", \"Loop Or Inlining\": 0, \"N Trips\": 1, \"Variable\": \"P20 Speed Mph\", \"Speed\": 0.0, \"Route\": \"Eastern Sierra Vehicle Positions 754c5b012195800c38dc58e72e4f482e\", \"Rounded Speed\": 0}, {\"Gtfs Dataset Name\": \"Eastern Sierra Vehicle Positions\", \"Shape Array Key\": \"e3c5ed2c6fa6cd5c5cd57d46aeb3cd8e\", \"Trip Id\": \"t_195132_b_78389_tn_1\", \"Stop Sequence\": 4, \"Gtfs Dataset Key\": \"64b3bb0d6a6888b62be32aa789cc37ef\", \"Loop Or Inlining\": 0, \"N Trips\": 1, \"Variable\": \"P20 Speed Mph\", \"Speed\": 34.6, \"Route\": \"Eastern Sierra Vehicle Positions e3c5ed2c6fa6cd5c5cd57d46aeb3cd8e\", \"Rounded Speed\": 34}, {\"Gtfs Dataset Name\": \"Eastern Sierra Vehicle Positions\", \"Shape Array Key\": \"e3c5ed2c6fa6cd5c5cd57d46aeb3cd8e\", \"Trip Id\": \"t_195132_b_78389_tn_1\", \"Stop Sequence\": 7, \"Gtfs Dataset Key\": \"64b3bb0d6a6888b62be32aa789cc37ef\", \"Loop Or Inlining\": 0, \"N Trips\": 1, \"Variable\": \"P20 Speed Mph\", \"Speed\": 0.5, \"Route\": \"Eastern Sierra Vehicle Positions e3c5ed2c6fa6cd5c5cd57d46aeb3cd8e\", \"Rounded Speed\": 0}, {\"Gtfs Dataset Name\": \"Eastern Sierra Vehicle Positions\", \"Shape Array Key\": \"e3c5ed2c6fa6cd5c5cd57d46aeb3cd8e\", \"Trip Id\": \"t_195132_b_78389_tn_1\", \"Stop Sequence\": 8, \"Gtfs Dataset Key\": \"64b3bb0d6a6888b62be32aa789cc37ef\", \"Loop Or Inlining\": 0, \"N Trips\": 1, \"Variable\": \"P20 Speed Mph\", \"Speed\": 0.5, \"Route\": \"Eastern Sierra Vehicle Positions e3c5ed2c6fa6cd5c5cd57d46aeb3cd8e\", \"Rounded Speed\": 0}, {\"Gtfs Dataset Name\": \"Eastern Sierra Vehicle Positions\", \"Shape Array Key\": \"e3c5ed2c6fa6cd5c5cd57d46aeb3cd8e\", \"Trip Id\": \"t_195132_b_78389_tn_1\", \"Stop Sequence\": 42, \"Gtfs Dataset Key\": \"64b3bb0d6a6888b62be32aa789cc37ef\", \"Loop Or Inlining\": 0, \"N Trips\": 1, \"Variable\": \"P20 Speed Mph\", \"Speed\": 11.8, \"Route\": \"Eastern Sierra Vehicle Positions e3c5ed2c6fa6cd5c5cd57d46aeb3cd8e\", \"Rounded Speed\": 11}, {\"Gtfs Dataset Name\": \"Anaheim Resort VehiclePositions\", \"Shape Array Key\": \"29d2bbdbeaec1d6888800f85bebf6e33\", \"Trip Id\": \"aa6a03fe-f119-44a5-8976-2ad77ceeb89f:4\", \"Stop Sequence\": 1, \"Gtfs Dataset Key\": \"1051e067d18a76b0a79789f051d5c22b\", \"Loop Or Inlining\": 1, \"N Trips\": 8, \"Variable\": \"P80 Speed Mph\", \"Speed\": 0.0, \"Route\": \"Anaheim Resort VehiclePositions 29d2bbdbeaec1d6888800f85bebf6e33\", \"Rounded Speed\": 0}, {\"Gtfs Dataset Name\": \"Anaheim Resort VehiclePositions\", \"Shape Array Key\": \"29d2bbdbeaec1d6888800f85bebf6e33\", \"Trip Id\": \"aa6a03fe-f119-44a5-8976-2ad77ceeb89f:4\", \"Stop Sequence\": 2, \"Gtfs Dataset Key\": \"1051e067d18a76b0a79789f051d5c22b\", \"Loop Or Inlining\": 1, \"N Trips\": 8, \"Variable\": \"P80 Speed Mph\", \"Speed\": 11.1, \"Route\": \"Anaheim Resort VehiclePositions 29d2bbdbeaec1d6888800f85bebf6e33\", \"Rounded Speed\": 11}, {\"Gtfs Dataset Name\": \"Anaheim Resort VehiclePositions\", \"Shape Array Key\": \"29d2bbdbeaec1d6888800f85bebf6e33\", \"Trip Id\": \"aa6a03fe-f119-44a5-8976-2ad77ceeb89f:8\", \"Stop Sequence\": 3, \"Gtfs Dataset Key\": \"1051e067d18a76b0a79789f051d5c22b\", \"Loop Or Inlining\": 1, \"N Trips\": 8, \"Variable\": \"P80 Speed Mph\", \"Speed\": 4.8, \"Route\": \"Anaheim Resort VehiclePositions 29d2bbdbeaec1d6888800f85bebf6e33\", \"Rounded Speed\": 4}, {\"Gtfs Dataset Name\": \"Anaheim Resort VehiclePositions\", \"Shape Array Key\": \"29d2bbdbeaec1d6888800f85bebf6e33\", \"Trip Id\": \"aa6a03fe-f119-44a5-8976-2ad77ceeb89f:3\", \"Stop Sequence\": 4, \"Gtfs Dataset Key\": \"1051e067d18a76b0a79789f051d5c22b\", \"Loop Or Inlining\": 1, \"N Trips\": 8, \"Variable\": \"P80 Speed Mph\", \"Speed\": 5.7, \"Route\": \"Anaheim Resort VehiclePositions 29d2bbdbeaec1d6888800f85bebf6e33\", \"Rounded Speed\": 5}, {\"Gtfs Dataset Name\": \"Anaheim Resort VehiclePositions\", \"Shape Array Key\": \"29d2bbdbeaec1d6888800f85bebf6e33\", \"Trip Id\": \"aa6a03fe-f119-44a5-8976-2ad77ceeb89f:5\", \"Stop Sequence\": 5, \"Gtfs Dataset Key\": \"1051e067d18a76b0a79789f051d5c22b\", \"Loop Or Inlining\": 1, \"N Trips\": 8, \"Variable\": \"P80 Speed Mph\", \"Speed\": 0.9, \"Route\": \"Anaheim Resort VehiclePositions 29d2bbdbeaec1d6888800f85bebf6e33\", \"Rounded Speed\": 0}, {\"Gtfs Dataset Name\": \"Anaheim Resort VehiclePositions\", \"Shape Array Key\": \"29d2bbdbeaec1d6888800f85bebf6e33\", \"Trip Id\": \"aa6a03fe-f119-44a5-8976-2ad77ceeb89f:1\", \"Stop Sequence\": 6, \"Gtfs Dataset Key\": \"1051e067d18a76b0a79789f051d5c22b\", \"Loop Or Inlining\": 1, \"N Trips\": 8, \"Variable\": \"P80 Speed Mph\", \"Speed\": 3.4, \"Route\": \"Anaheim Resort VehiclePositions 29d2bbdbeaec1d6888800f85bebf6e33\", \"Rounded Speed\": 3}, {\"Gtfs Dataset Name\": \"Anaheim Resort VehiclePositions\", \"Shape Array Key\": \"29d2bbdbeaec1d6888800f85bebf6e33\", \"Trip Id\": \"aa6a03fe-f119-44a5-8976-2ad77ceeb89f:4\", \"Stop Sequence\": 7, \"Gtfs Dataset Key\": \"1051e067d18a76b0a79789f051d5c22b\", \"Loop Or Inlining\": 1, \"N Trips\": 8, \"Variable\": \"P80 Speed Mph\", \"Speed\": 4.4, \"Route\": \"Anaheim Resort VehiclePositions 29d2bbdbeaec1d6888800f85bebf6e33\", \"Rounded Speed\": 4}, {\"Gtfs Dataset Name\": \"Anaheim Resort VehiclePositions\", \"Shape Array Key\": \"29d2bbdbeaec1d6888800f85bebf6e33\", \"Trip Id\": \"aa6a03fe-f119-44a5-8976-2ad77ceeb89f:5\", \"Stop Sequence\": 8, \"Gtfs Dataset Key\": \"1051e067d18a76b0a79789f051d5c22b\", \"Loop Or Inlining\": 1, \"N Trips\": 8, \"Variable\": \"P80 Speed Mph\", \"Speed\": 6.2, \"Route\": \"Anaheim Resort VehiclePositions 29d2bbdbeaec1d6888800f85bebf6e33\", \"Rounded Speed\": 6}, {\"Gtfs Dataset Name\": \"Anaheim Resort VehiclePositions\", \"Shape Array Key\": \"29d2bbdbeaec1d6888800f85bebf6e33\", \"Trip Id\": \"aa6a03fe-f119-44a5-8976-2ad77ceeb89f:5\", \"Stop Sequence\": 9, \"Gtfs Dataset Key\": \"1051e067d18a76b0a79789f051d5c22b\", \"Loop Or Inlining\": 1, \"N Trips\": 8, \"Variable\": \"P80 Speed Mph\", \"Speed\": 6.8, \"Route\": \"Anaheim Resort VehiclePositions 29d2bbdbeaec1d6888800f85bebf6e33\", \"Rounded Speed\": 6}, {\"Gtfs Dataset Name\": \"Eastern Sierra Vehicle Positions\", \"Shape Array Key\": \"754c5b012195800c38dc58e72e4f482e\", \"Trip Id\": \"t_97725_b_2397_tn_7\", \"Stop Sequence\": 1, \"Gtfs Dataset Key\": \"64b3bb0d6a6888b62be32aa789cc37ef\", \"Loop Or Inlining\": 0, \"N Trips\": 8, \"Variable\": \"P80 Speed Mph\", \"Speed\": 0.0, \"Route\": \"Eastern Sierra Vehicle Positions 754c5b012195800c38dc58e72e4f482e\", \"Rounded Speed\": 0}, {\"Gtfs Dataset Name\": \"Eastern Sierra Vehicle Positions\", \"Shape Array Key\": \"754c5b012195800c38dc58e72e4f482e\", \"Trip Id\": \"t_97725_b_2397_tn_3\", \"Stop Sequence\": 2, \"Gtfs Dataset Key\": \"64b3bb0d6a6888b62be32aa789cc37ef\", \"Loop Or Inlining\": 0, \"N Trips\": 9, \"Variable\": \"P80 Speed Mph\", \"Speed\": 5.1, \"Route\": \"Eastern Sierra Vehicle Positions 754c5b012195800c38dc58e72e4f482e\", \"Rounded Speed\": 5}, {\"Gtfs Dataset Name\": \"Eastern Sierra Vehicle Positions\", \"Shape Array Key\": \"754c5b012195800c38dc58e72e4f482e\", \"Trip Id\": \"t_97725_b_2397_tn_9\", \"Stop Sequence\": 3, \"Gtfs Dataset Key\": \"64b3bb0d6a6888b62be32aa789cc37ef\", \"Loop Or Inlining\": 0, \"N Trips\": 1, \"Variable\": \"P80 Speed Mph\", \"Speed\": 0.0, \"Route\": \"Eastern Sierra Vehicle Positions 754c5b012195800c38dc58e72e4f482e\", \"Rounded Speed\": 0}, {\"Gtfs Dataset Name\": \"Eastern Sierra Vehicle Positions\", \"Shape Array Key\": \"e3c5ed2c6fa6cd5c5cd57d46aeb3cd8e\", \"Trip Id\": \"t_195132_b_78389_tn_1\", \"Stop Sequence\": 4, \"Gtfs Dataset Key\": \"64b3bb0d6a6888b62be32aa789cc37ef\", \"Loop Or Inlining\": 0, \"N Trips\": 1, \"Variable\": \"P80 Speed Mph\", \"Speed\": 34.6, \"Route\": \"Eastern Sierra Vehicle Positions e3c5ed2c6fa6cd5c5cd57d46aeb3cd8e\", \"Rounded Speed\": 34}, {\"Gtfs Dataset Name\": \"Eastern Sierra Vehicle Positions\", \"Shape Array Key\": \"e3c5ed2c6fa6cd5c5cd57d46aeb3cd8e\", \"Trip Id\": \"t_195132_b_78389_tn_1\", \"Stop Sequence\": 7, \"Gtfs Dataset Key\": \"64b3bb0d6a6888b62be32aa789cc37ef\", \"Loop Or Inlining\": 0, \"N Trips\": 1, \"Variable\": \"P80 Speed Mph\", \"Speed\": 0.5, \"Route\": \"Eastern Sierra Vehicle Positions e3c5ed2c6fa6cd5c5cd57d46aeb3cd8e\", \"Rounded Speed\": 0}, {\"Gtfs Dataset Name\": \"Eastern Sierra Vehicle Positions\", \"Shape Array Key\": \"e3c5ed2c6fa6cd5c5cd57d46aeb3cd8e\", \"Trip Id\": \"t_195132_b_78389_tn_1\", \"Stop Sequence\": 8, \"Gtfs Dataset Key\": \"64b3bb0d6a6888b62be32aa789cc37ef\", \"Loop Or Inlining\": 0, \"N Trips\": 1, \"Variable\": \"P80 Speed Mph\", \"Speed\": 0.5, \"Route\": \"Eastern Sierra Vehicle Positions e3c5ed2c6fa6cd5c5cd57d46aeb3cd8e\", \"Rounded Speed\": 0}, {\"Gtfs Dataset Name\": \"Eastern Sierra Vehicle Positions\", \"Shape Array Key\": \"e3c5ed2c6fa6cd5c5cd57d46aeb3cd8e\", \"Trip Id\": \"t_195132_b_78389_tn_1\", \"Stop Sequence\": 42, \"Gtfs Dataset Key\": \"64b3bb0d6a6888b62be32aa789cc37ef\", \"Loop Or Inlining\": 0, \"N Trips\": 1, \"Variable\": \"P80 Speed Mph\", \"Speed\": 11.8, \"Route\": \"Eastern Sierra Vehicle Positions e3c5ed2c6fa6cd5c5cd57d46aeb3cd8e\", \"Rounded Speed\": 11}]}}, {\"mode\": \"vega-lite\"});\n",
       "</script>"
      ],
      "text/plain": [
       "alt.HConcatChart(...)"
      ]
     },
     "execution_count": 111,
     "metadata": {},
     "output_type": "execute_result"
    }
   ],
   "source": [
    "chart1 | chart2"
   ]
  },
  {
   "cell_type": "code",
   "execution_count": 115,
   "id": "c13568df-5e19-4f0a-a9fe-c3edeb0a0073",
   "metadata": {},
   "outputs": [
    {
     "data": {
      "text/html": [
       "\n",
       "<style>\n",
       "  #altair-viz-272702a52b2c43d189b205c6c6deb5b9.vega-embed {\n",
       "    width: 100%;\n",
       "    display: flex;\n",
       "  }\n",
       "\n",
       "  #altair-viz-272702a52b2c43d189b205c6c6deb5b9.vega-embed details,\n",
       "  #altair-viz-272702a52b2c43d189b205c6c6deb5b9.vega-embed details summary {\n",
       "    position: relative;\n",
       "  }\n",
       "</style>\n",
       "<div id=\"altair-viz-272702a52b2c43d189b205c6c6deb5b9\"></div>\n",
       "<script type=\"text/javascript\">\n",
       "  var VEGA_DEBUG = (typeof VEGA_DEBUG == \"undefined\") ? {} : VEGA_DEBUG;\n",
       "  (function(spec, embedOpt){\n",
       "    let outputDiv = document.currentScript.previousElementSibling;\n",
       "    if (outputDiv.id !== \"altair-viz-272702a52b2c43d189b205c6c6deb5b9\") {\n",
       "      outputDiv = document.getElementById(\"altair-viz-272702a52b2c43d189b205c6c6deb5b9\");\n",
       "    }\n",
       "    const paths = {\n",
       "      \"vega\": \"https://cdn.jsdelivr.net/npm/vega@5?noext\",\n",
       "      \"vega-lib\": \"https://cdn.jsdelivr.net/npm/vega-lib?noext\",\n",
       "      \"vega-lite\": \"https://cdn.jsdelivr.net/npm/vega-lite@5.8.0?noext\",\n",
       "      \"vega-embed\": \"https://cdn.jsdelivr.net/npm/vega-embed@6?noext\",\n",
       "    };\n",
       "\n",
       "    function maybeLoadScript(lib, version) {\n",
       "      var key = `${lib.replace(\"-\", \"\")}_version`;\n",
       "      return (VEGA_DEBUG[key] == version) ?\n",
       "        Promise.resolve(paths[lib]) :\n",
       "        new Promise(function(resolve, reject) {\n",
       "          var s = document.createElement('script');\n",
       "          document.getElementsByTagName(\"head\")[0].appendChild(s);\n",
       "          s.async = true;\n",
       "          s.onload = () => {\n",
       "            VEGA_DEBUG[key] = version;\n",
       "            return resolve(paths[lib]);\n",
       "          };\n",
       "          s.onerror = () => reject(`Error loading script: ${paths[lib]}`);\n",
       "          s.src = paths[lib];\n",
       "        });\n",
       "    }\n",
       "\n",
       "    function showError(err) {\n",
       "      outputDiv.innerHTML = `<div class=\"error\" style=\"color:red;\">${err}</div>`;\n",
       "      throw err;\n",
       "    }\n",
       "\n",
       "    function displayChart(vegaEmbed) {\n",
       "      vegaEmbed(outputDiv, spec, embedOpt)\n",
       "        .catch(err => showError(`Javascript Error: ${err.message}<br>This usually means there's a typo in your chart specification. See the javascript console for the full traceback.`));\n",
       "    }\n",
       "\n",
       "    if(typeof define === \"function\" && define.amd) {\n",
       "      requirejs.config({paths});\n",
       "      require([\"vega-embed\"], displayChart, err => showError(`Error loading script: ${err.message}`));\n",
       "    } else {\n",
       "      maybeLoadScript(\"vega\", \"5\")\n",
       "        .then(() => maybeLoadScript(\"vega-lite\", \"5.8.0\"))\n",
       "        .then(() => maybeLoadScript(\"vega-embed\", \"6\"))\n",
       "        .catch(showError)\n",
       "        .then(() => displayChart(vegaEmbed));\n",
       "    }\n",
       "  })({\"config\": {\"view\": {\"continuousWidth\": 300, \"continuousHeight\": 300}}, \"data\": {\"name\": \"data-c9e6b35ac31edaceaafba7a9f93e443d\"}, \"mark\": {\"type\": \"circle\", \"size\": 100}, \"encoding\": {\"color\": {\"field\": \"Variable\", \"scale\": {\"range\": [\"#2EA8CE\", \"#EB9F3C\", \"#F4D837\", \"#51BF9D\", \"#8CBCCB\", \"#9487C0\"]}, \"type\": \"nominal\"}, \"column\": {\"field\": \"Stop Sequence\", \"header\": {\"labelAlign\": \"right\", \"labelAngle\": 360, \"labelOrient\": \"bottom\", \"labelPadding\": 2, \"titleOrient\": \"top\"}, \"type\": \"nominal\"}, \"tooltip\": [{\"field\": \"Gtfs Dataset Name\", \"type\": \"nominal\"}, {\"field\": \"Shape Array Key\", \"type\": \"nominal\"}, {\"field\": \"Trip Id\", \"type\": \"nominal\"}, {\"field\": \"Stop Sequence\", \"type\": \"quantitative\"}, {\"field\": \"Gtfs Dataset Key\", \"type\": \"nominal\"}, {\"field\": \"Loop Or Inlining\", \"type\": \"quantitative\"}, {\"field\": \"N Trips\", \"type\": \"quantitative\"}, {\"field\": \"Variable\", \"type\": \"nominal\"}, {\"field\": \"Speed\", \"type\": \"quantitative\"}, {\"field\": \"Route\", \"type\": \"nominal\"}, {\"field\": \"Rounded Speed\", \"type\": \"quantitative\"}], \"x\": {\"axis\": {\"grid\": false, \"labels\": false, \"ticks\": false, \"values\": [0]}, \"field\": \"jitter\", \"scale\": {}, \"title\": null, \"type\": \"quantitative\"}, \"y\": {\"axis\": {\"grid\": false, \"labelAngle\": 360, \"labels\": false, \"ticks\": false}, \"field\": \"Rounded Speed\", \"type\": \"quantitative\"}}, \"title\": \"my title\", \"transform\": [{\"calculate\": \"sqrt(-2*log(random()))*cos(2*PI*random())\", \"as\": \"jitter\"}], \"width\": 0.5, \"$schema\": \"https://vega.github.io/schema/vega-lite/v5.8.0.json\", \"datasets\": {\"data-c9e6b35ac31edaceaafba7a9f93e443d\": [{\"Gtfs Dataset Name\": \"Anaheim Resort VehiclePositions\", \"Shape Array Key\": \"29d2bbdbeaec1d6888800f85bebf6e33\", \"Trip Id\": \"aa6a03fe-f119-44a5-8976-2ad77ceeb89f:4\", \"Stop Sequence\": 1, \"Gtfs Dataset Key\": \"1051e067d18a76b0a79789f051d5c22b\", \"Loop Or Inlining\": 1, \"N Trips\": 8, \"Variable\": \"Avg Speed Mph\", \"Speed\": 0.0, \"Route\": \"Anaheim Resort VehiclePositions 29d2bbdbeaec1d6888800f85bebf6e33\", \"Rounded Speed\": 0}, {\"Gtfs Dataset Name\": \"Anaheim Resort VehiclePositions\", \"Shape Array Key\": \"29d2bbdbeaec1d6888800f85bebf6e33\", \"Trip Id\": \"aa6a03fe-f119-44a5-8976-2ad77ceeb89f:4\", \"Stop Sequence\": 2, \"Gtfs Dataset Key\": \"1051e067d18a76b0a79789f051d5c22b\", \"Loop Or Inlining\": 1, \"N Trips\": 8, \"Variable\": \"Avg Speed Mph\", \"Speed\": 8.0, \"Route\": \"Anaheim Resort VehiclePositions 29d2bbdbeaec1d6888800f85bebf6e33\", \"Rounded Speed\": 8}, {\"Gtfs Dataset Name\": \"Anaheim Resort VehiclePositions\", \"Shape Array Key\": \"29d2bbdbeaec1d6888800f85bebf6e33\", \"Trip Id\": \"aa6a03fe-f119-44a5-8976-2ad77ceeb89f:8\", \"Stop Sequence\": 3, \"Gtfs Dataset Key\": \"1051e067d18a76b0a79789f051d5c22b\", \"Loop Or Inlining\": 1, \"N Trips\": 8, \"Variable\": \"Avg Speed Mph\", \"Speed\": 4.2, \"Route\": \"Anaheim Resort VehiclePositions 29d2bbdbeaec1d6888800f85bebf6e33\", \"Rounded Speed\": 4}, {\"Gtfs Dataset Name\": \"Anaheim Resort VehiclePositions\", \"Shape Array Key\": \"29d2bbdbeaec1d6888800f85bebf6e33\", \"Trip Id\": \"aa6a03fe-f119-44a5-8976-2ad77ceeb89f:3\", \"Stop Sequence\": 4, \"Gtfs Dataset Key\": \"1051e067d18a76b0a79789f051d5c22b\", \"Loop Or Inlining\": 1, \"N Trips\": 8, \"Variable\": \"Avg Speed Mph\", \"Speed\": 4.8, \"Route\": \"Anaheim Resort VehiclePositions 29d2bbdbeaec1d6888800f85bebf6e33\", \"Rounded Speed\": 4}, {\"Gtfs Dataset Name\": \"Anaheim Resort VehiclePositions\", \"Shape Array Key\": \"29d2bbdbeaec1d6888800f85bebf6e33\", \"Trip Id\": \"aa6a03fe-f119-44a5-8976-2ad77ceeb89f:5\", \"Stop Sequence\": 5, \"Gtfs Dataset Key\": \"1051e067d18a76b0a79789f051d5c22b\", \"Loop Or Inlining\": 1, \"N Trips\": 8, \"Variable\": \"Avg Speed Mph\", \"Speed\": 0.6, \"Route\": \"Anaheim Resort VehiclePositions 29d2bbdbeaec1d6888800f85bebf6e33\", \"Rounded Speed\": 0}, {\"Gtfs Dataset Name\": \"Anaheim Resort VehiclePositions\", \"Shape Array Key\": \"29d2bbdbeaec1d6888800f85bebf6e33\", \"Trip Id\": \"aa6a03fe-f119-44a5-8976-2ad77ceeb89f:1\", \"Stop Sequence\": 6, \"Gtfs Dataset Key\": \"1051e067d18a76b0a79789f051d5c22b\", \"Loop Or Inlining\": 1, \"N Trips\": 8, \"Variable\": \"Avg Speed Mph\", \"Speed\": 2.5, \"Route\": \"Anaheim Resort VehiclePositions 29d2bbdbeaec1d6888800f85bebf6e33\", \"Rounded Speed\": 2}, {\"Gtfs Dataset Name\": \"Anaheim Resort VehiclePositions\", \"Shape Array Key\": \"29d2bbdbeaec1d6888800f85bebf6e33\", \"Trip Id\": \"aa6a03fe-f119-44a5-8976-2ad77ceeb89f:4\", \"Stop Sequence\": 7, \"Gtfs Dataset Key\": \"1051e067d18a76b0a79789f051d5c22b\", \"Loop Or Inlining\": 1, \"N Trips\": 8, \"Variable\": \"Avg Speed Mph\", \"Speed\": 3.8, \"Route\": \"Anaheim Resort VehiclePositions 29d2bbdbeaec1d6888800f85bebf6e33\", \"Rounded Speed\": 3}, {\"Gtfs Dataset Name\": \"Anaheim Resort VehiclePositions\", \"Shape Array Key\": \"29d2bbdbeaec1d6888800f85bebf6e33\", \"Trip Id\": \"aa6a03fe-f119-44a5-8976-2ad77ceeb89f:5\", \"Stop Sequence\": 8, \"Gtfs Dataset Key\": \"1051e067d18a76b0a79789f051d5c22b\", \"Loop Or Inlining\": 1, \"N Trips\": 8, \"Variable\": \"Avg Speed Mph\", \"Speed\": 4.9, \"Route\": \"Anaheim Resort VehiclePositions 29d2bbdbeaec1d6888800f85bebf6e33\", \"Rounded Speed\": 4}, {\"Gtfs Dataset Name\": \"Anaheim Resort VehiclePositions\", \"Shape Array Key\": \"29d2bbdbeaec1d6888800f85bebf6e33\", \"Trip Id\": \"aa6a03fe-f119-44a5-8976-2ad77ceeb89f:5\", \"Stop Sequence\": 9, \"Gtfs Dataset Key\": \"1051e067d18a76b0a79789f051d5c22b\", \"Loop Or Inlining\": 1, \"N Trips\": 8, \"Variable\": \"Avg Speed Mph\", \"Speed\": 5.0, \"Route\": \"Anaheim Resort VehiclePositions 29d2bbdbeaec1d6888800f85bebf6e33\", \"Rounded Speed\": 5}, {\"Gtfs Dataset Name\": \"Eastern Sierra Vehicle Positions\", \"Shape Array Key\": \"754c5b012195800c38dc58e72e4f482e\", \"Trip Id\": \"t_97725_b_2397_tn_7\", \"Stop Sequence\": 1, \"Gtfs Dataset Key\": \"64b3bb0d6a6888b62be32aa789cc37ef\", \"Loop Or Inlining\": 0, \"N Trips\": 8, \"Variable\": \"Avg Speed Mph\", \"Speed\": 0.0, \"Route\": \"Eastern Sierra Vehicle Positions 754c5b012195800c38dc58e72e4f482e\", \"Rounded Speed\": 0}, {\"Gtfs Dataset Name\": \"Eastern Sierra Vehicle Positions\", \"Shape Array Key\": \"754c5b012195800c38dc58e72e4f482e\", \"Trip Id\": \"t_97725_b_2397_tn_3\", \"Stop Sequence\": 2, \"Gtfs Dataset Key\": \"64b3bb0d6a6888b62be32aa789cc37ef\", \"Loop Or Inlining\": 0, \"N Trips\": 9, \"Variable\": \"Avg Speed Mph\", \"Speed\": 3.6, \"Route\": \"Eastern Sierra Vehicle Positions 754c5b012195800c38dc58e72e4f482e\", \"Rounded Speed\": 3}, {\"Gtfs Dataset Name\": \"Eastern Sierra Vehicle Positions\", \"Shape Array Key\": \"754c5b012195800c38dc58e72e4f482e\", \"Trip Id\": \"t_97725_b_2397_tn_9\", \"Stop Sequence\": 3, \"Gtfs Dataset Key\": \"64b3bb0d6a6888b62be32aa789cc37ef\", \"Loop Or Inlining\": 0, \"N Trips\": 1, \"Variable\": \"Avg Speed Mph\", \"Speed\": 0.0, \"Route\": \"Eastern Sierra Vehicle Positions 754c5b012195800c38dc58e72e4f482e\", \"Rounded Speed\": 0}, {\"Gtfs Dataset Name\": \"Eastern Sierra Vehicle Positions\", \"Shape Array Key\": \"e3c5ed2c6fa6cd5c5cd57d46aeb3cd8e\", \"Trip Id\": \"t_195132_b_78389_tn_1\", \"Stop Sequence\": 4, \"Gtfs Dataset Key\": \"64b3bb0d6a6888b62be32aa789cc37ef\", \"Loop Or Inlining\": 0, \"N Trips\": 1, \"Variable\": \"Avg Speed Mph\", \"Speed\": 34.6, \"Route\": \"Eastern Sierra Vehicle Positions e3c5ed2c6fa6cd5c5cd57d46aeb3cd8e\", \"Rounded Speed\": 34}, {\"Gtfs Dataset Name\": \"Eastern Sierra Vehicle Positions\", \"Shape Array Key\": \"e3c5ed2c6fa6cd5c5cd57d46aeb3cd8e\", \"Trip Id\": \"t_195132_b_78389_tn_1\", \"Stop Sequence\": 7, \"Gtfs Dataset Key\": \"64b3bb0d6a6888b62be32aa789cc37ef\", \"Loop Or Inlining\": 0, \"N Trips\": 1, \"Variable\": \"Avg Speed Mph\", \"Speed\": 0.5, \"Route\": \"Eastern Sierra Vehicle Positions e3c5ed2c6fa6cd5c5cd57d46aeb3cd8e\", \"Rounded Speed\": 0}, {\"Gtfs Dataset Name\": \"Eastern Sierra Vehicle Positions\", \"Shape Array Key\": \"e3c5ed2c6fa6cd5c5cd57d46aeb3cd8e\", \"Trip Id\": \"t_195132_b_78389_tn_1\", \"Stop Sequence\": 8, \"Gtfs Dataset Key\": \"64b3bb0d6a6888b62be32aa789cc37ef\", \"Loop Or Inlining\": 0, \"N Trips\": 1, \"Variable\": \"Avg Speed Mph\", \"Speed\": 0.5, \"Route\": \"Eastern Sierra Vehicle Positions e3c5ed2c6fa6cd5c5cd57d46aeb3cd8e\", \"Rounded Speed\": 0}, {\"Gtfs Dataset Name\": \"Eastern Sierra Vehicle Positions\", \"Shape Array Key\": \"e3c5ed2c6fa6cd5c5cd57d46aeb3cd8e\", \"Trip Id\": \"t_195132_b_78389_tn_1\", \"Stop Sequence\": 42, \"Gtfs Dataset Key\": \"64b3bb0d6a6888b62be32aa789cc37ef\", \"Loop Or Inlining\": 0, \"N Trips\": 1, \"Variable\": \"Avg Speed Mph\", \"Speed\": 11.8, \"Route\": \"Eastern Sierra Vehicle Positions e3c5ed2c6fa6cd5c5cd57d46aeb3cd8e\", \"Rounded Speed\": 11}, {\"Gtfs Dataset Name\": \"Anaheim Resort VehiclePositions\", \"Shape Array Key\": \"29d2bbdbeaec1d6888800f85bebf6e33\", \"Trip Id\": \"aa6a03fe-f119-44a5-8976-2ad77ceeb89f:4\", \"Stop Sequence\": 1, \"Gtfs Dataset Key\": \"1051e067d18a76b0a79789f051d5c22b\", \"Loop Or Inlining\": 1, \"N Trips\": 8, \"Variable\": \"P20 Speed Mph\", \"Speed\": 0.0, \"Route\": \"Anaheim Resort VehiclePositions 29d2bbdbeaec1d6888800f85bebf6e33\", \"Rounded Speed\": 0}, {\"Gtfs Dataset Name\": \"Anaheim Resort VehiclePositions\", \"Shape Array Key\": \"29d2bbdbeaec1d6888800f85bebf6e33\", \"Trip Id\": \"aa6a03fe-f119-44a5-8976-2ad77ceeb89f:4\", \"Stop Sequence\": 2, \"Gtfs Dataset Key\": \"1051e067d18a76b0a79789f051d5c22b\", \"Loop Or Inlining\": 1, \"N Trips\": 8, \"Variable\": \"P20 Speed Mph\", \"Speed\": 6.0, \"Route\": \"Anaheim Resort VehiclePositions 29d2bbdbeaec1d6888800f85bebf6e33\", \"Rounded Speed\": 6}, {\"Gtfs Dataset Name\": \"Anaheim Resort VehiclePositions\", \"Shape Array Key\": \"29d2bbdbeaec1d6888800f85bebf6e33\", \"Trip Id\": \"aa6a03fe-f119-44a5-8976-2ad77ceeb89f:8\", \"Stop Sequence\": 3, \"Gtfs Dataset Key\": \"1051e067d18a76b0a79789f051d5c22b\", \"Loop Or Inlining\": 1, \"N Trips\": 8, \"Variable\": \"P20 Speed Mph\", \"Speed\": 3.7, \"Route\": \"Anaheim Resort VehiclePositions 29d2bbdbeaec1d6888800f85bebf6e33\", \"Rounded Speed\": 3}, {\"Gtfs Dataset Name\": \"Anaheim Resort VehiclePositions\", \"Shape Array Key\": \"29d2bbdbeaec1d6888800f85bebf6e33\", \"Trip Id\": \"aa6a03fe-f119-44a5-8976-2ad77ceeb89f:3\", \"Stop Sequence\": 4, \"Gtfs Dataset Key\": \"1051e067d18a76b0a79789f051d5c22b\", \"Loop Or Inlining\": 1, \"N Trips\": 8, \"Variable\": \"P20 Speed Mph\", \"Speed\": 3.2, \"Route\": \"Anaheim Resort VehiclePositions 29d2bbdbeaec1d6888800f85bebf6e33\", \"Rounded Speed\": 3}, {\"Gtfs Dataset Name\": \"Anaheim Resort VehiclePositions\", \"Shape Array Key\": \"29d2bbdbeaec1d6888800f85bebf6e33\", \"Trip Id\": \"aa6a03fe-f119-44a5-8976-2ad77ceeb89f:5\", \"Stop Sequence\": 5, \"Gtfs Dataset Key\": \"1051e067d18a76b0a79789f051d5c22b\", \"Loop Or Inlining\": 1, \"N Trips\": 8, \"Variable\": \"P20 Speed Mph\", \"Speed\": 0.4, \"Route\": \"Anaheim Resort VehiclePositions 29d2bbdbeaec1d6888800f85bebf6e33\", \"Rounded Speed\": 0}, {\"Gtfs Dataset Name\": \"Anaheim Resort VehiclePositions\", \"Shape Array Key\": \"29d2bbdbeaec1d6888800f85bebf6e33\", \"Trip Id\": \"aa6a03fe-f119-44a5-8976-2ad77ceeb89f:1\", \"Stop Sequence\": 6, \"Gtfs Dataset Key\": \"1051e067d18a76b0a79789f051d5c22b\", \"Loop Or Inlining\": 1, \"N Trips\": 8, \"Variable\": \"P20 Speed Mph\", \"Speed\": 0.7, \"Route\": \"Anaheim Resort VehiclePositions 29d2bbdbeaec1d6888800f85bebf6e33\", \"Rounded Speed\": 0}, {\"Gtfs Dataset Name\": \"Anaheim Resort VehiclePositions\", \"Shape Array Key\": \"29d2bbdbeaec1d6888800f85bebf6e33\", \"Trip Id\": \"aa6a03fe-f119-44a5-8976-2ad77ceeb89f:4\", \"Stop Sequence\": 7, \"Gtfs Dataset Key\": \"1051e067d18a76b0a79789f051d5c22b\", \"Loop Or Inlining\": 1, \"N Trips\": 8, \"Variable\": \"P20 Speed Mph\", \"Speed\": 3.1, \"Route\": \"Anaheim Resort VehiclePositions 29d2bbdbeaec1d6888800f85bebf6e33\", \"Rounded Speed\": 3}, {\"Gtfs Dataset Name\": \"Anaheim Resort VehiclePositions\", \"Shape Array Key\": \"29d2bbdbeaec1d6888800f85bebf6e33\", \"Trip Id\": \"aa6a03fe-f119-44a5-8976-2ad77ceeb89f:5\", \"Stop Sequence\": 8, \"Gtfs Dataset Key\": \"1051e067d18a76b0a79789f051d5c22b\", \"Loop Or Inlining\": 1, \"N Trips\": 8, \"Variable\": \"P20 Speed Mph\", \"Speed\": 3.6, \"Route\": \"Anaheim Resort VehiclePositions 29d2bbdbeaec1d6888800f85bebf6e33\", \"Rounded Speed\": 3}, {\"Gtfs Dataset Name\": \"Anaheim Resort VehiclePositions\", \"Shape Array Key\": \"29d2bbdbeaec1d6888800f85bebf6e33\", \"Trip Id\": \"aa6a03fe-f119-44a5-8976-2ad77ceeb89f:5\", \"Stop Sequence\": 9, \"Gtfs Dataset Key\": \"1051e067d18a76b0a79789f051d5c22b\", \"Loop Or Inlining\": 1, \"N Trips\": 8, \"Variable\": \"P20 Speed Mph\", \"Speed\": 3.0, \"Route\": \"Anaheim Resort VehiclePositions 29d2bbdbeaec1d6888800f85bebf6e33\", \"Rounded Speed\": 3}, {\"Gtfs Dataset Name\": \"Eastern Sierra Vehicle Positions\", \"Shape Array Key\": \"754c5b012195800c38dc58e72e4f482e\", \"Trip Id\": \"t_97725_b_2397_tn_7\", \"Stop Sequence\": 1, \"Gtfs Dataset Key\": \"64b3bb0d6a6888b62be32aa789cc37ef\", \"Loop Or Inlining\": 0, \"N Trips\": 8, \"Variable\": \"P20 Speed Mph\", \"Speed\": 0.0, \"Route\": \"Eastern Sierra Vehicle Positions 754c5b012195800c38dc58e72e4f482e\", \"Rounded Speed\": 0}, {\"Gtfs Dataset Name\": \"Eastern Sierra Vehicle Positions\", \"Shape Array Key\": \"754c5b012195800c38dc58e72e4f482e\", \"Trip Id\": \"t_97725_b_2397_tn_3\", \"Stop Sequence\": 2, \"Gtfs Dataset Key\": \"64b3bb0d6a6888b62be32aa789cc37ef\", \"Loop Or Inlining\": 0, \"N Trips\": 9, \"Variable\": \"P20 Speed Mph\", \"Speed\": 2.2, \"Route\": \"Eastern Sierra Vehicle Positions 754c5b012195800c38dc58e72e4f482e\", \"Rounded Speed\": 2}, {\"Gtfs Dataset Name\": \"Eastern Sierra Vehicle Positions\", \"Shape Array Key\": \"754c5b012195800c38dc58e72e4f482e\", \"Trip Id\": \"t_97725_b_2397_tn_9\", \"Stop Sequence\": 3, \"Gtfs Dataset Key\": \"64b3bb0d6a6888b62be32aa789cc37ef\", \"Loop Or Inlining\": 0, \"N Trips\": 1, \"Variable\": \"P20 Speed Mph\", \"Speed\": 0.0, \"Route\": \"Eastern Sierra Vehicle Positions 754c5b012195800c38dc58e72e4f482e\", \"Rounded Speed\": 0}, {\"Gtfs Dataset Name\": \"Eastern Sierra Vehicle Positions\", \"Shape Array Key\": \"e3c5ed2c6fa6cd5c5cd57d46aeb3cd8e\", \"Trip Id\": \"t_195132_b_78389_tn_1\", \"Stop Sequence\": 4, \"Gtfs Dataset Key\": \"64b3bb0d6a6888b62be32aa789cc37ef\", \"Loop Or Inlining\": 0, \"N Trips\": 1, \"Variable\": \"P20 Speed Mph\", \"Speed\": 34.6, \"Route\": \"Eastern Sierra Vehicle Positions e3c5ed2c6fa6cd5c5cd57d46aeb3cd8e\", \"Rounded Speed\": 34}, {\"Gtfs Dataset Name\": \"Eastern Sierra Vehicle Positions\", \"Shape Array Key\": \"e3c5ed2c6fa6cd5c5cd57d46aeb3cd8e\", \"Trip Id\": \"t_195132_b_78389_tn_1\", \"Stop Sequence\": 7, \"Gtfs Dataset Key\": \"64b3bb0d6a6888b62be32aa789cc37ef\", \"Loop Or Inlining\": 0, \"N Trips\": 1, \"Variable\": \"P20 Speed Mph\", \"Speed\": 0.5, \"Route\": \"Eastern Sierra Vehicle Positions e3c5ed2c6fa6cd5c5cd57d46aeb3cd8e\", \"Rounded Speed\": 0}, {\"Gtfs Dataset Name\": \"Eastern Sierra Vehicle Positions\", \"Shape Array Key\": \"e3c5ed2c6fa6cd5c5cd57d46aeb3cd8e\", \"Trip Id\": \"t_195132_b_78389_tn_1\", \"Stop Sequence\": 8, \"Gtfs Dataset Key\": \"64b3bb0d6a6888b62be32aa789cc37ef\", \"Loop Or Inlining\": 0, \"N Trips\": 1, \"Variable\": \"P20 Speed Mph\", \"Speed\": 0.5, \"Route\": \"Eastern Sierra Vehicle Positions e3c5ed2c6fa6cd5c5cd57d46aeb3cd8e\", \"Rounded Speed\": 0}, {\"Gtfs Dataset Name\": \"Eastern Sierra Vehicle Positions\", \"Shape Array Key\": \"e3c5ed2c6fa6cd5c5cd57d46aeb3cd8e\", \"Trip Id\": \"t_195132_b_78389_tn_1\", \"Stop Sequence\": 42, \"Gtfs Dataset Key\": \"64b3bb0d6a6888b62be32aa789cc37ef\", \"Loop Or Inlining\": 0, \"N Trips\": 1, \"Variable\": \"P20 Speed Mph\", \"Speed\": 11.8, \"Route\": \"Eastern Sierra Vehicle Positions e3c5ed2c6fa6cd5c5cd57d46aeb3cd8e\", \"Rounded Speed\": 11}, {\"Gtfs Dataset Name\": \"Anaheim Resort VehiclePositions\", \"Shape Array Key\": \"29d2bbdbeaec1d6888800f85bebf6e33\", \"Trip Id\": \"aa6a03fe-f119-44a5-8976-2ad77ceeb89f:4\", \"Stop Sequence\": 1, \"Gtfs Dataset Key\": \"1051e067d18a76b0a79789f051d5c22b\", \"Loop Or Inlining\": 1, \"N Trips\": 8, \"Variable\": \"P80 Speed Mph\", \"Speed\": 0.0, \"Route\": \"Anaheim Resort VehiclePositions 29d2bbdbeaec1d6888800f85bebf6e33\", \"Rounded Speed\": 0}, {\"Gtfs Dataset Name\": \"Anaheim Resort VehiclePositions\", \"Shape Array Key\": \"29d2bbdbeaec1d6888800f85bebf6e33\", \"Trip Id\": \"aa6a03fe-f119-44a5-8976-2ad77ceeb89f:4\", \"Stop Sequence\": 2, \"Gtfs Dataset Key\": \"1051e067d18a76b0a79789f051d5c22b\", \"Loop Or Inlining\": 1, \"N Trips\": 8, \"Variable\": \"P80 Speed Mph\", \"Speed\": 11.1, \"Route\": \"Anaheim Resort VehiclePositions 29d2bbdbeaec1d6888800f85bebf6e33\", \"Rounded Speed\": 11}, {\"Gtfs Dataset Name\": \"Anaheim Resort VehiclePositions\", \"Shape Array Key\": \"29d2bbdbeaec1d6888800f85bebf6e33\", \"Trip Id\": \"aa6a03fe-f119-44a5-8976-2ad77ceeb89f:8\", \"Stop Sequence\": 3, \"Gtfs Dataset Key\": \"1051e067d18a76b0a79789f051d5c22b\", \"Loop Or Inlining\": 1, \"N Trips\": 8, \"Variable\": \"P80 Speed Mph\", \"Speed\": 4.8, \"Route\": \"Anaheim Resort VehiclePositions 29d2bbdbeaec1d6888800f85bebf6e33\", \"Rounded Speed\": 4}, {\"Gtfs Dataset Name\": \"Anaheim Resort VehiclePositions\", \"Shape Array Key\": \"29d2bbdbeaec1d6888800f85bebf6e33\", \"Trip Id\": \"aa6a03fe-f119-44a5-8976-2ad77ceeb89f:3\", \"Stop Sequence\": 4, \"Gtfs Dataset Key\": \"1051e067d18a76b0a79789f051d5c22b\", \"Loop Or Inlining\": 1, \"N Trips\": 8, \"Variable\": \"P80 Speed Mph\", \"Speed\": 5.7, \"Route\": \"Anaheim Resort VehiclePositions 29d2bbdbeaec1d6888800f85bebf6e33\", \"Rounded Speed\": 5}, {\"Gtfs Dataset Name\": \"Anaheim Resort VehiclePositions\", \"Shape Array Key\": \"29d2bbdbeaec1d6888800f85bebf6e33\", \"Trip Id\": \"aa6a03fe-f119-44a5-8976-2ad77ceeb89f:5\", \"Stop Sequence\": 5, \"Gtfs Dataset Key\": \"1051e067d18a76b0a79789f051d5c22b\", \"Loop Or Inlining\": 1, \"N Trips\": 8, \"Variable\": \"P80 Speed Mph\", \"Speed\": 0.9, \"Route\": \"Anaheim Resort VehiclePositions 29d2bbdbeaec1d6888800f85bebf6e33\", \"Rounded Speed\": 0}, {\"Gtfs Dataset Name\": \"Anaheim Resort VehiclePositions\", \"Shape Array Key\": \"29d2bbdbeaec1d6888800f85bebf6e33\", \"Trip Id\": \"aa6a03fe-f119-44a5-8976-2ad77ceeb89f:1\", \"Stop Sequence\": 6, \"Gtfs Dataset Key\": \"1051e067d18a76b0a79789f051d5c22b\", \"Loop Or Inlining\": 1, \"N Trips\": 8, \"Variable\": \"P80 Speed Mph\", \"Speed\": 3.4, \"Route\": \"Anaheim Resort VehiclePositions 29d2bbdbeaec1d6888800f85bebf6e33\", \"Rounded Speed\": 3}, {\"Gtfs Dataset Name\": \"Anaheim Resort VehiclePositions\", \"Shape Array Key\": \"29d2bbdbeaec1d6888800f85bebf6e33\", \"Trip Id\": \"aa6a03fe-f119-44a5-8976-2ad77ceeb89f:4\", \"Stop Sequence\": 7, \"Gtfs Dataset Key\": \"1051e067d18a76b0a79789f051d5c22b\", \"Loop Or Inlining\": 1, \"N Trips\": 8, \"Variable\": \"P80 Speed Mph\", \"Speed\": 4.4, \"Route\": \"Anaheim Resort VehiclePositions 29d2bbdbeaec1d6888800f85bebf6e33\", \"Rounded Speed\": 4}, {\"Gtfs Dataset Name\": \"Anaheim Resort VehiclePositions\", \"Shape Array Key\": \"29d2bbdbeaec1d6888800f85bebf6e33\", \"Trip Id\": \"aa6a03fe-f119-44a5-8976-2ad77ceeb89f:5\", \"Stop Sequence\": 8, \"Gtfs Dataset Key\": \"1051e067d18a76b0a79789f051d5c22b\", \"Loop Or Inlining\": 1, \"N Trips\": 8, \"Variable\": \"P80 Speed Mph\", \"Speed\": 6.2, \"Route\": \"Anaheim Resort VehiclePositions 29d2bbdbeaec1d6888800f85bebf6e33\", \"Rounded Speed\": 6}, {\"Gtfs Dataset Name\": \"Anaheim Resort VehiclePositions\", \"Shape Array Key\": \"29d2bbdbeaec1d6888800f85bebf6e33\", \"Trip Id\": \"aa6a03fe-f119-44a5-8976-2ad77ceeb89f:5\", \"Stop Sequence\": 9, \"Gtfs Dataset Key\": \"1051e067d18a76b0a79789f051d5c22b\", \"Loop Or Inlining\": 1, \"N Trips\": 8, \"Variable\": \"P80 Speed Mph\", \"Speed\": 6.8, \"Route\": \"Anaheim Resort VehiclePositions 29d2bbdbeaec1d6888800f85bebf6e33\", \"Rounded Speed\": 6}, {\"Gtfs Dataset Name\": \"Eastern Sierra Vehicle Positions\", \"Shape Array Key\": \"754c5b012195800c38dc58e72e4f482e\", \"Trip Id\": \"t_97725_b_2397_tn_7\", \"Stop Sequence\": 1, \"Gtfs Dataset Key\": \"64b3bb0d6a6888b62be32aa789cc37ef\", \"Loop Or Inlining\": 0, \"N Trips\": 8, \"Variable\": \"P80 Speed Mph\", \"Speed\": 0.0, \"Route\": \"Eastern Sierra Vehicle Positions 754c5b012195800c38dc58e72e4f482e\", \"Rounded Speed\": 0}, {\"Gtfs Dataset Name\": \"Eastern Sierra Vehicle Positions\", \"Shape Array Key\": \"754c5b012195800c38dc58e72e4f482e\", \"Trip Id\": \"t_97725_b_2397_tn_3\", \"Stop Sequence\": 2, \"Gtfs Dataset Key\": \"64b3bb0d6a6888b62be32aa789cc37ef\", \"Loop Or Inlining\": 0, \"N Trips\": 9, \"Variable\": \"P80 Speed Mph\", \"Speed\": 5.1, \"Route\": \"Eastern Sierra Vehicle Positions 754c5b012195800c38dc58e72e4f482e\", \"Rounded Speed\": 5}, {\"Gtfs Dataset Name\": \"Eastern Sierra Vehicle Positions\", \"Shape Array Key\": \"754c5b012195800c38dc58e72e4f482e\", \"Trip Id\": \"t_97725_b_2397_tn_9\", \"Stop Sequence\": 3, \"Gtfs Dataset Key\": \"64b3bb0d6a6888b62be32aa789cc37ef\", \"Loop Or Inlining\": 0, \"N Trips\": 1, \"Variable\": \"P80 Speed Mph\", \"Speed\": 0.0, \"Route\": \"Eastern Sierra Vehicle Positions 754c5b012195800c38dc58e72e4f482e\", \"Rounded Speed\": 0}, {\"Gtfs Dataset Name\": \"Eastern Sierra Vehicle Positions\", \"Shape Array Key\": \"e3c5ed2c6fa6cd5c5cd57d46aeb3cd8e\", \"Trip Id\": \"t_195132_b_78389_tn_1\", \"Stop Sequence\": 4, \"Gtfs Dataset Key\": \"64b3bb0d6a6888b62be32aa789cc37ef\", \"Loop Or Inlining\": 0, \"N Trips\": 1, \"Variable\": \"P80 Speed Mph\", \"Speed\": 34.6, \"Route\": \"Eastern Sierra Vehicle Positions e3c5ed2c6fa6cd5c5cd57d46aeb3cd8e\", \"Rounded Speed\": 34}, {\"Gtfs Dataset Name\": \"Eastern Sierra Vehicle Positions\", \"Shape Array Key\": \"e3c5ed2c6fa6cd5c5cd57d46aeb3cd8e\", \"Trip Id\": \"t_195132_b_78389_tn_1\", \"Stop Sequence\": 7, \"Gtfs Dataset Key\": \"64b3bb0d6a6888b62be32aa789cc37ef\", \"Loop Or Inlining\": 0, \"N Trips\": 1, \"Variable\": \"P80 Speed Mph\", \"Speed\": 0.5, \"Route\": \"Eastern Sierra Vehicle Positions e3c5ed2c6fa6cd5c5cd57d46aeb3cd8e\", \"Rounded Speed\": 0}, {\"Gtfs Dataset Name\": \"Eastern Sierra Vehicle Positions\", \"Shape Array Key\": \"e3c5ed2c6fa6cd5c5cd57d46aeb3cd8e\", \"Trip Id\": \"t_195132_b_78389_tn_1\", \"Stop Sequence\": 8, \"Gtfs Dataset Key\": \"64b3bb0d6a6888b62be32aa789cc37ef\", \"Loop Or Inlining\": 0, \"N Trips\": 1, \"Variable\": \"P80 Speed Mph\", \"Speed\": 0.5, \"Route\": \"Eastern Sierra Vehicle Positions e3c5ed2c6fa6cd5c5cd57d46aeb3cd8e\", \"Rounded Speed\": 0}, {\"Gtfs Dataset Name\": \"Eastern Sierra Vehicle Positions\", \"Shape Array Key\": \"e3c5ed2c6fa6cd5c5cd57d46aeb3cd8e\", \"Trip Id\": \"t_195132_b_78389_tn_1\", \"Stop Sequence\": 42, \"Gtfs Dataset Key\": \"64b3bb0d6a6888b62be32aa789cc37ef\", \"Loop Or Inlining\": 0, \"N Trips\": 1, \"Variable\": \"P80 Speed Mph\", \"Speed\": 11.8, \"Route\": \"Eastern Sierra Vehicle Positions e3c5ed2c6fa6cd5c5cd57d46aeb3cd8e\", \"Rounded Speed\": 11}]}}, {\"mode\": \"vega-lite\"});\n",
       "</script>"
      ],
      "text/plain": [
       "alt.Chart(...)"
      ]
     },
     "execution_count": 115,
     "metadata": {},
     "output_type": "execute_result"
    }
   ],
   "source": [
    "(\n",
    "        alt.Chart(subset_other, width=0.5)\n",
    "        .mark_circle(size=100)\n",
    "        .encode(\n",
    "            x=alt.X(\n",
    "                \"jitter:Q\",\n",
    "                title=None,\n",
    "                axis=alt.Axis(values=[0], ticks=False, grid=False, labels=False),\n",
    "                scale=alt.Scale(),\n",
    "            ),\n",
    "            y=alt.Y(\"Rounded Speed:Q\", axis=alt.Axis(labelAngle=360, ticks=False, grid=False, labels=False)),\n",
    "            color=alt.Color(\n",
    "                \"Variable:N\",\n",
    "                scale=alt.Scale(range=cp.CALITP_CATEGORY_BRIGHT_COLORS),\n",
    "            ),\n",
    "            tooltip=subset_other.columns.tolist(),\n",
    "            column=alt.Column(\n",
    "                \"Stop Sequence:N\",\n",
    "                header=alt.Header(\n",
    "                    labelAngle=360,\n",
    "                    titleOrient=\"top\",\n",
    "                    labelOrient=\"bottom\",\n",
    "                    labelAlign=\"right\",\n",
    "                    labelPadding=2,\n",
    "                ),\n",
    "            ),\n",
    "        )\n",
    "        .transform_calculate(\n",
    "            # Generate Gaussian jitter with a Box-Muller transform\n",
    "            jitter=\"sqrt(-2*log(random()))*cos(2*PI*random())\"\n",
    "        )\n",
    "        .properties(title=\"my title\")\n",
    "    )\n",
    "    "
   ]
  },
  {
   "cell_type": "markdown",
   "id": "9745f078-1999-4e5c-9ddc-5eba135f55ab",
   "metadata": {},
   "source": [
    "### Draft"
   ]
  },
  {
   "cell_type": "code",
   "execution_count": null,
   "id": "072f39d9-4bf9-4efc-a393-24f096cecf7e",
   "metadata": {},
   "outputs": [],
   "source": [
    "def alt_dropdown(df, col_for_dropdown:str, dropdown_menu_title:str):\n",
    "    # Create dropdown menu\n",
    "    # Exclude \"none\" operators which are only scheduled data\n",
    "    df = df.loc[df[col_for_dropdown] != \"None\"][[col_for_dropdown]]\n",
    "    dropdown_list = df[col_for_dropdown].unique().tolist()\n",
    "    \n",
    "    # Show only first operator by default\n",
    "    initialize_first_op = sorted(dropdown_list)[0]\n",
    "    input_dropdown = alt.binding_select(options=sorted(dropdown_list), name=dropdown_menu_title)\n",
    "    \n",
    "    selection = alt.selection_single(name= dropdown_menu_title,fields=[col_for_dropdown],\n",
    "    bind=input_dropdown, init={col_for_dropdown: initialize_first_op})\n",
    "                 \n",
    "    return selection"
   ]
  },
  {
   "cell_type": "code",
   "execution_count": null,
   "id": "af72c1c9-df07-4e7f-973f-f0c07223b7a4",
   "metadata": {},
   "outputs": [],
   "source": [
    "def create_jitter_plot(df):\n",
    "    \n",
    "    title_op = df['Gtfs Dataset Name'].iloc[0].replace('VehiclePositions','').strip()\n",
    "    inline = df['Loop Or Inlining'].iloc[0]\n",
    "    \n",
    "    chart1 = (\n",
    "        alt.Chart(df, width=0.5)\n",
    "        .mark_circle(size=100)\n",
    "        .encode(\n",
    "            x=alt.X(\n",
    "                \"jitter:Q\",\n",
    "                title=None,\n",
    "                axis=alt.Axis(values=[0], ticks=False, grid=False, labels=False),\n",
    "                scale=alt.Scale(),\n",
    "            ),\n",
    "            y=alt.Y(\"Rounded Speed:Q\", axis=alt.Axis(labelAngle=360)),\n",
    "            color=alt.Color(\n",
    "                \"Variable:N\",\n",
    "                scale=alt.Scale(range=cp.CALITP_CATEGORY_BRIGHT_COLORS),\n",
    "            ),\n",
    "            tooltip=df.columns.tolist(),\n",
    "            column=alt.Column(\n",
    "                \"Stop Sequence:N\",\n",
    "                header=alt.Header(\n",
    "                    labelAngle=360,\n",
    "                    titleOrient=\"top\",\n",
    "                    labelOrient=\"bottom\",\n",
    "                    labelAlign=\"right\",\n",
    "                    labelPadding=2,\n",
    "                ),\n",
    "            ),\n",
    "        )\n",
    "        .transform_calculate(\n",
    "            # Generate Gaussian jitter with a Box-Muller transform\n",
    "            jitter=\"sqrt(-2*log(random()))*cos(2*PI*random())\"\n",
    "        )\n",
    "        .properties(title=f\"{title_op} - Route Type {inline}\")\n",
    "    )\n",
    "    \n",
    "    chart1 = threshold_utils.chart_size(chart1, 40, 250)\n",
    "    \n",
    "    return chart1"
   ]
  },
  {
   "cell_type": "code",
   "execution_count": null,
   "id": "18ebd177-efc1-4bdc-9fac-bf947db810a4",
   "metadata": {},
   "outputs": [],
   "source": [
    "chart2 = (\n",
    "        alt.Chart(anaheim_test, width=0.5)\n",
    "        .mark_circle(size=100)\n",
    "        .encode(\n",
    "            x=alt.X(\n",
    "                \"jitter:Q\",\n",
    "                title=None,\n",
    "                axis=alt.Axis(values=[0], ticks=False, grid=False, labels=False),\n",
    "                scale=alt.Scale(),\n",
    "            ),\n",
    "            y=alt.Y(\"rounded_speed:Q\", axis=alt.Axis(labelAngle=-90)),\n",
    "            color=alt.Color(\n",
    "                \"variable:N\",\n",
    "                scale=alt.Scale(range=cp.CALITP_CATEGORY_BRIGHT_COLORS),\n",
    "            ),\n",
    "            tooltip=anaheim_test.columns.tolist(),\n",
    "            column=alt.Column(\n",
    "                \"stop_sequence:N\",\n",
    "                header=alt.Header(\n",
    "                    labelAngle=360,\n",
    "                    titleOrient=\"top\",\n",
    "                    labelOrient=\"bottom\",\n",
    "                    labelAlign=\"right\",\n",
    "                    labelPadding=2,\n",
    "                ),\n",
    "            ),\n",
    "        )\n",
    "        .transform_calculate(\n",
    "            # Generate Gaussian jitter with a Box-Muller transform\n",
    "            jitter=\"sqrt(-2*log(random()))*cos(2*PI*random())\"\n",
    "        )\n",
    "        .configure_facet(spacing=0)\n",
    "        .configure_view(stroke=None)\n",
    "        .properties(title=\"Trip Duration by RT Category\")\n",
    "    )"
   ]
  },
  {
   "cell_type": "code",
   "execution_count": null,
   "id": "a7287305-20d8-434f-9756-42b18cf172a4",
   "metadata": {},
   "outputs": [],
   "source": [
    "chart2 = threshold_utils.chart_size(chart2,80,300)"
   ]
  },
  {
   "cell_type": "code",
   "execution_count": null,
   "id": "3f9e9258-b954-45bf-bd7a-17822c9c607a",
   "metadata": {},
   "outputs": [],
   "source": [
    "chart2"
   ]
  },
  {
   "cell_type": "code",
   "execution_count": null,
   "id": "ea1d8514-ae9c-42e6-b59a-49a44fecbc98",
   "metadata": {},
   "outputs": [],
   "source": [
    "chart1 = (\n",
    "        alt.Chart(anaheim_test_speedmph, width=0.5)\n",
    "        .mark_circle(size=100)\n",
    "        .encode(\n",
    "            x=alt.X(\n",
    "                \"jitter:Q\",\n",
    "                title=None,\n",
    "                axis=alt.Axis(values=[0], ticks=False, grid=False, labels=False),\n",
    "                scale=alt.Scale(),\n",
    "            ),\n",
    "            y=alt.Y(\"rounded_speed:Q\", axis=alt.Axis(labelAngle=-90)),\n",
    "            color=alt.Color(\n",
    "                \"stop_sequence:N\",\n",
    "                scale=alt.Scale(range=cp.CALITP_CATEGORY_BRIGHT_COLORS),\n",
    "            ),\n",
    "            tooltip=anaheim_test.columns.tolist(),\n",
    "            column=alt.Column(\n",
    "                \"stop_sequence:N\",\n",
    "                header=alt.Header(\n",
    "                    labelAngle=360,\n",
    "                    titleOrient=\"top\",\n",
    "                    labelOrient=\"bottom\",\n",
    "                    labelAlign=\"right\",\n",
    "                    labelPadding=2,\n",
    "                ),\n",
    "            ),\n",
    "        )\n",
    "        .transform_calculate(\n",
    "            # Generate Gaussian jitter with a Box-Muller transform\n",
    "            jitter=\"sqrt(-2*log(random()))*cos(2*PI*random())\"\n",
    "        )\n",
    "        .configure_facet(spacing=0)\n",
    "        .configure_view(stroke=None)\n",
    "        .properties(title=f\"Loop/Inling:{anaheim_test_speedmph.loop_or_inlining.iloc[0]}\")\n",
    "    )"
   ]
  },
  {
   "cell_type": "code",
   "execution_count": null,
   "id": "4e1eea88-640b-4e96-b2d5-07cd2f19afdf",
   "metadata": {},
   "outputs": [],
   "source": [
    "chart1 = threshold_utils.chart_size(chart1,80,300)"
   ]
  },
  {
   "cell_type": "code",
   "execution_count": null,
   "id": "c54559c6-8fb0-4109-8e7d-84c1ecb6497e",
   "metadata": {},
   "outputs": [],
   "source": [
    "chart1"
   ]
  },
  {
   "cell_type": "code",
   "execution_count": null,
   "id": "79375476-00a1-4b85-a532-26889fc465e4",
   "metadata": {},
   "outputs": [],
   "source": []
  },
  {
   "cell_type": "code",
   "execution_count": null,
   "id": "0e5c052e-cccd-4f75-be65-9658cf7616b1",
   "metadata": {},
   "outputs": [],
   "source": [
    "def create_dot_plot2(df, col_for_dots: str, \n",
    "                    x_axis_col:str, y_axis_col:str,\n",
    "                   tooltip_cols:list, chart_title:str):\n",
    "  \n",
    "    chart = (alt.Chart(df).mark_circle(opacity=1, size = 100).transform_window(\n",
    "    id='rank()',\n",
    "    groupby=[col_for_dots]).encode(\n",
    "    alt.X(f'{x_axis_col}:O', sort='descending', \n",
    "          axis=alt.Axis(ticks=False, grid=True)),\n",
    "    alt.Y(f'{y_axis_col}:N'), \n",
    "    color=alt.Color(f\"{col_for_dots}:N\", scale=alt.Scale(range=cp.CALITP_CATEGORY_BRIGHT_COLORS), legend=None),\n",
    "    tooltip = tooltip_cols)\n",
    "             .properties(title = chart_title))\n",
    "    \n",
    "    return chart"
   ]
  },
  {
   "cell_type": "code",
   "execution_count": null,
   "id": "e38644ab-7fb8-47b1-b692-512b55f05625",
   "metadata": {},
   "outputs": [],
   "source": [
    "chart3 = create_dot_plot1(anaheim_test_other, 'variable', 'stop_sequence', 'rounded_speed', anaheim_test_other.columns.tolist(),  'Percentile/Average')"
   ]
  },
  {
   "cell_type": "code",
   "execution_count": null,
   "id": "2b6df39b-b074-494d-8f5e-65fe05356f4b",
   "metadata": {},
   "outputs": [],
   "source": [
    "chart3 = threshold_utils.chart_size(chart3,650,300)"
   ]
  },
  {
   "cell_type": "code",
   "execution_count": null,
   "id": "c2c565de-3c55-4827-a5bb-b48c6d49d4c1",
   "metadata": {},
   "outputs": [],
   "source": [
    "chart4 = create_dot_plot2(anaheim_test_speedmph, 'variable', 'stop_sequence', 'rounded_speed', anaheim_test_speedmph.columns.tolist(), 'Speed per Trip')"
   ]
  },
  {
   "cell_type": "code",
   "execution_count": null,
   "id": "29b3b7b1-8f44-4a8d-97c3-ff934250e874",
   "metadata": {},
   "outputs": [],
   "source": [
    "chart4 = threshold_utils.chart_size(chart4,650,300)"
   ]
  },
  {
   "cell_type": "code",
   "execution_count": null,
   "id": "54146c88-15df-49e2-9de6-18f2666d9f9f",
   "metadata": {},
   "outputs": [],
   "source": [
    "chart4"
   ]
  },
  {
   "cell_type": "code",
   "execution_count": null,
   "id": "3ccbc087-f799-4429-b6c7-a9c1f38f021d",
   "metadata": {},
   "outputs": [],
   "source": [
    "chart3 + chart4"
   ]
  },
  {
   "cell_type": "code",
   "execution_count": null,
   "id": "9829d749-580c-4440-9397-4562192417b7",
   "metadata": {},
   "outputs": [],
   "source": [
    "chart7 = (\n",
    "        alt.Chart(anaheim_test_other, width=0.5)\n",
    "        .mark_circle(size=100)\n",
    "        .encode(\n",
    "            x=alt.X(\n",
    "                \"jitter:Q\",\n",
    "                title=None,\n",
    "                axis=alt.Axis(values=[0], ticks=False, grid=False, labels=False),\n",
    "                scale=alt.Scale(),\n",
    "            ),\n",
    "            y=alt.Y(\"rounded_speed:Q\", axis=alt.Axis(labelAngle=-90)),\n",
    "            color=alt.Color(\n",
    "                \"variable:N\",\n",
    "                scale=alt.Scale(range=cp.CALITP_CATEGORY_BRIGHT_COLORS),\n",
    "            ),\n",
    "            tooltip=anaheim_test.columns.tolist(),\n",
    "            column=alt.Column(\n",
    "                \"stop_sequence:N\",\n",
    "                header=alt.Header(\n",
    "                    labelAngle=-90,\n",
    "                    titleOrient=\"top\",\n",
    "                    labelOrient=\"bottom\",\n",
    "                    labelAlign=\"right\",\n",
    "                    labelPadding=2,\n",
    "                ),\n",
    "            ),\n",
    "        )\n",
    "        .transform_calculate(\n",
    "            # Generate Gaussian jitter with a Box-Muller transform\n",
    "            jitter=\"sqrt(-2*log(random()))*cos(2*PI*random())\"\n",
    "        )\n",
    "        .configure_facet(spacing=0)\n",
    "        .configure_view(stroke=None)\n",
    "        .properties(title=\"Trip Duration by RT Category\")\n",
    "    )"
   ]
  },
  {
   "cell_type": "code",
   "execution_count": null,
   "id": "454980fc-e6ab-4d53-b844-120a075b8034",
   "metadata": {},
   "outputs": [],
   "source": [
    "chart7 = threshold_utils.chart_size(chart7,80,300)"
   ]
  },
  {
   "cell_type": "code",
   "execution_count": null,
   "id": "58e57fb2-1c3b-47e1-8bb6-d4941f0ee985",
   "metadata": {},
   "outputs": [],
   "source": [
    "chart8 = (\n",
    "        alt.Chart(anaheim_test_other, width=0.5)\n",
    "        .mark_circle(size=100)\n",
    "        .encode(\n",
    "            x=alt.X(\n",
    "                \"jitter:Q\",\n",
    "                title=None,\n",
    "                axis=alt.Axis(values=[0], ticks=False, grid=False, labels=False),\n",
    "                scale=alt.Scale(),\n",
    "            ),\n",
    "            y=alt.Y(\"rounded_speed:Q\", axis=alt.Axis(labelAngle=-90)),\n",
    "            color=alt.Color(\n",
    "                \"variable:N\",\n",
    "                scale=alt.Scale(range=cp.CALITP_CATEGORY_BRIGHT_COLORS),\n",
    "            ),\n",
    "            tooltip=anaheim_test.columns.tolist(),\n",
    "            column=alt.Column(\n",
    "                \"stop_sequence:N\",\n",
    "                header=alt.Header(\n",
    "                    labelAngle=-90,\n",
    "                    titleOrient=\"top\",\n",
    "                    labelOrient=\"bottom\",\n",
    "                    labelAlign=\"right\",\n",
    "                    labelPadding=2,\n",
    "                ),\n",
    "            ),\n",
    "        )\n",
    "        .transform_calculate(\n",
    "            # Generate Gaussian jitter with a Box-Muller transform\n",
    "            jitter=\"sqrt(-2*log(random()))*cos(2*PI*random())\"\n",
    "        )\n",
    "        .properties(title=\"Trip Duration by RT Category\")\n",
    "    )"
   ]
  },
  {
   "cell_type": "code",
   "execution_count": null,
   "id": "c2ce0879-f45f-4c66-9b1a-870a243a1260",
   "metadata": {},
   "outputs": [],
   "source": [
    "chart9 = (\n",
    "        alt.Chart(anaheim_test_speedmph, width=0.5)\n",
    "        .mark_circle(size=100)\n",
    "        .encode(\n",
    "            x=alt.X(\n",
    "                \"jitter:Q\",\n",
    "                title=None,\n",
    "                axis=alt.Axis(values=[0], ticks=False, grid=False, labels=False),\n",
    "                scale=alt.Scale(),\n",
    "            ),\n",
    "            y=alt.Y(\"rounded_speed:Q\", axis=alt.Axis(labelAngle=-90)),\n",
    "            color=alt.Color(\n",
    "                \"variable:N\",\n",
    "                scale=alt.Scale(range=cp.CALITP_CATEGORY_BRIGHT_COLORS),\n",
    "            ),\n",
    "            tooltip=anaheim_test.columns.tolist(),\n",
    "            column=alt.Column(\n",
    "                \"stop_sequence:N\",\n",
    "                header=alt.Header(\n",
    "                    labelAngle=360,\n",
    "                    titleOrient=\"top\",\n",
    "                    labelOrient=\"bottom\",\n",
    "                    labelAlign=\"right\",\n",
    "                    labelPadding=2,\n",
    "                ),\n",
    "            ),\n",
    "        )\n",
    "        .transform_calculate(\n",
    "            # Generate Gaussian jitter with a Box-Muller transform\n",
    "            jitter=\"sqrt(-2*log(random()))*cos(2*PI*random())\"\n",
    "        )\n",
    "        .properties(title=f\"Loop/Inling:{anaheim_test_speedmph.loop_or_inlining.iloc[0]}\")\n",
    "    )"
   ]
  },
  {
   "cell_type": "code",
   "execution_count": null,
   "id": "04e3ce9a-a5ab-4aeb-a7d0-4ead6738324b",
   "metadata": {},
   "outputs": [],
   "source": [
    "chart8"
   ]
  },
  {
   "cell_type": "code",
   "execution_count": null,
   "id": "04d2026e-c040-45ea-aab6-2c09c2211632",
   "metadata": {},
   "outputs": [],
   "source": [
    "chart9 | chart8"
   ]
  },
  {
   "cell_type": "code",
   "execution_count": null,
   "id": "edb11b29-7038-4a5d-9e44-4d3b88e6cc88",
   "metadata": {},
   "outputs": [],
   "source": [
    "# pip install altair==5.0.0rc3\n",
    "chart5 = alt.Chart(anaheim_test_speedmph, title='Normally distributed jitter').mark_circle(size=50).encode(\n",
    "    y=\"rounded_speed:Q\",\n",
    "    x=\"stop_sequence:N\",\n",
    "    yOffset=\"jitter:Q\",\n",
    "    color=alt.Color('stop_sequence:Q').legend(None)\n",
    ").transform_calculate(\n",
    "    # Generate Gaussian jitter with a Box-Muller transform\n",
    "    jitter=\"sqrt(-2*log(random()))*cos(2*PI*random())\"\n",
    ")\n"
   ]
  },
  {
   "cell_type": "code",
   "execution_count": null,
   "id": "9bbcc880-7866-495c-9a68-3b7ca6c00c4a",
   "metadata": {},
   "outputs": [],
   "source": [
    "chart5 = threshold_utils.chart_size(chart5,650,300)"
   ]
  },
  {
   "cell_type": "code",
   "execution_count": null,
   "id": "a765f55e-73e2-4bae-9326-98ed1bbfadaf",
   "metadata": {},
   "outputs": [],
   "source": [
    "chart5"
   ]
  }
 ],
 "metadata": {
  "kernelspec": {
   "display_name": "Python 3 (ipykernel)",
   "language": "python",
   "name": "python3"
  },
  "language_info": {
   "codemirror_mode": {
    "name": "ipython",
    "version": 3
   },
   "file_extension": ".py",
   "mimetype": "text/x-python",
   "name": "python",
   "nbconvert_exporter": "python",
   "pygments_lexer": "ipython3",
   "version": "3.9.13"
  }
 },
 "nbformat": 4,
 "nbformat_minor": 5
}
