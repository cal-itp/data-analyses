{
 "cells": [
  {
   "cell_type": "code",
   "execution_count": 1,
   "id": "2c7feec3-aa18-42ab-94b9-cab4be608152",
   "metadata": {},
   "outputs": [
    {
     "name": "stderr",
     "output_type": "stream",
     "text": [
      "/opt/conda/lib/python3.9/site-packages/geopandas/_compat.py:123: UserWarning: The Shapely GEOS version (3.11.1-CAPI-1.17.1) is incompatible with the GEOS version PyGEOS was compiled with (3.10.1-CAPI-1.16.0). Conversions between both will be slow.\n",
      "  warnings.warn(\n",
      "/home/jovyan/data-analyses/rt_segment_speeds/_threshold_utils.py:1: UserWarning: Shapely 2.0 is installed, but because PyGEOS is also installed, GeoPandas will still use PyGEOS by default for now. To force to use and test Shapely 2.0, you have to set the environment variable USE_PYGEOS=0. You can do this before starting the Python process, or in your code before importing geopandas:\n",
      "\n",
      "import os\n",
      "os.environ['USE_PYGEOS'] = '0'\n",
      "import geopandas\n",
      "\n",
      "In a future release, GeoPandas will switch to using Shapely by default. If you are using PyGEOS directly (calling PyGEOS functions on geometries from GeoPandas), this will then stop working and you are encouraged to migrate from PyGEOS to Shapely 2.0 (https://shapely.readthedocs.io/en/latest/migration_pygeos.html).\n",
      "  import geopandas as gpd\n"
     ]
    }
   ],
   "source": [
    "import _threshold_utils as threshold_utils\n",
    "import _speed_utils as speed_utils\n",
    "import altair as alt\n",
    "\n",
    "import pandas as pd\n",
    "import geopandas as gpd\n",
    "from segment_speed_utils.project_vars import analysis_date\n",
    "from shared_utils import calitp_color_palette as cp"
   ]
  },
  {
   "cell_type": "code",
   "execution_count": 2,
   "id": "0108ae4a-4518-4487-85f7-a5faa3e9cbf6",
   "metadata": {},
   "outputs": [],
   "source": [
    "pd.options.display.max_columns = 100\n",
    "pd.options.display.float_format = \"{:.2f}\".format\n",
    "pd.set_option(\"display.max_rows\", None)\n",
    "pd.set_option(\"display.max_colwidth\", None)"
   ]
  },
  {
   "cell_type": "code",
   "execution_count": 3,
   "id": "e3adcb1c-9a8a-4dee-9bdc-fddb63adbad9",
   "metadata": {},
   "outputs": [],
   "source": [
    "GCS_PATH = \"gs://calitp-analytics-data/data-analyses/rt_segment_speeds/\""
   ]
  },
  {
   "cell_type": "code",
   "execution_count": 4,
   "id": "036c951c-3932-439e-bbbf-ff29dcbc18cb",
   "metadata": {},
   "outputs": [
    {
     "data": {
      "text/plain": [
       "'2023-03-15'"
      ]
     },
     "execution_count": 4,
     "metadata": {},
     "output_type": "execute_result"
    }
   ],
   "source": [
    "analysis_date"
   ]
  },
  {
   "cell_type": "markdown",
   "id": "fe486936-de11-41a0-a425-b333373fa97c",
   "metadata": {},
   "source": [
    "### Functions"
   ]
  },
  {
   "cell_type": "code",
   "execution_count": 6,
   "id": "1e9f79a4-5921-4e8c-82c5-3b414f677cf8",
   "metadata": {
    "tags": []
   },
   "outputs": [
    {
     "name": "stdout",
     "output_type": "stream",
     "text": [
      "14517 duplicate rows will be dropped\n",
      "0    4512\n",
      "Name: stops_renumbered_correctly, dtype: int64\n"
     ]
    }
   ],
   "source": [
    "# Flag\n",
    "routes_many_stops_df, routes_many_stops_list = speed_utils.find_shapes_with_many_stops(analysis_date)"
   ]
  },
  {
   "cell_type": "code",
   "execution_count": 9,
   "id": "ba4aaa44-fcfc-4de4-b6ab-4a8cef423d0a",
   "metadata": {},
   "outputs": [
    {
     "data": {
      "text/plain": [
       "(3806, 6)"
      ]
     },
     "execution_count": 9,
     "metadata": {},
     "output_type": "execute_result"
    }
   ],
   "source": [
    "routes_many_stops_df.shape"
   ]
  },
  {
   "cell_type": "code",
   "execution_count": 10,
   "id": "40aff2c0-6978-452f-b230-cb36a70aeee1",
   "metadata": {},
   "outputs": [
    {
     "data": {
      "text/html": [
       "<div>\n",
       "<style scoped>\n",
       "    .dataframe tbody tr th:only-of-type {\n",
       "        vertical-align: middle;\n",
       "    }\n",
       "\n",
       "    .dataframe tbody tr th {\n",
       "        vertical-align: top;\n",
       "    }\n",
       "\n",
       "    .dataframe thead th {\n",
       "        text-align: right;\n",
       "    }\n",
       "</style>\n",
       "<table border=\"1\" class=\"dataframe\">\n",
       "  <thead>\n",
       "    <tr style=\"text-align: right;\">\n",
       "      <th></th>\n",
       "      <th>gtfs_dataset_key</th>\n",
       "      <th>_gtfs_dataset_name</th>\n",
       "      <th>shape_array_key</th>\n",
       "      <th>trip_id</th>\n",
       "      <th>total_stops</th>\n",
       "      <th>stop_percentiles</th>\n",
       "    </tr>\n",
       "  </thead>\n",
       "  <tbody>\n",
       "    <tr>\n",
       "      <th>0</th>\n",
       "      <td>7342e9ab4e268b54f9cce8cc25f11345</td>\n",
       "      <td>Foothill Vehicle Positions</td>\n",
       "      <td>053bf66eba3f5d9980daafd812b99161</td>\n",
       "      <td>t604-b2791-sl5</td>\n",
       "      <td>640</td>\n",
       "      <td>99th 203.0+ stops</td>\n",
       "    </tr>\n",
       "    <tr>\n",
       "      <th>1</th>\n",
       "      <td>7342e9ab4e268b54f9cce8cc25f11345</td>\n",
       "      <td>Foothill Vehicle Positions</td>\n",
       "      <td>053bf66eba3f5d9980daafd812b99161</td>\n",
       "      <td>t4D1-b27B5-sl5</td>\n",
       "      <td>616</td>\n",
       "      <td>99th 203.0+ stops</td>\n",
       "    </tr>\n",
       "    <tr>\n",
       "      <th>2</th>\n",
       "      <td>7342e9ab4e268b54f9cce8cc25f11345</td>\n",
       "      <td>Foothill Vehicle Positions</td>\n",
       "      <td>053bf66eba3f5d9980daafd812b99161</td>\n",
       "      <td>t59B-b2793-sl5</td>\n",
       "      <td>614</td>\n",
       "      <td>99th 203.0+ stops</td>\n",
       "    </tr>\n",
       "    <tr>\n",
       "      <th>3</th>\n",
       "      <td>7342e9ab4e268b54f9cce8cc25f11345</td>\n",
       "      <td>Foothill Vehicle Positions</td>\n",
       "      <td>053bf66eba3f5d9980daafd812b99161</td>\n",
       "      <td>t668-b278A-sl5</td>\n",
       "      <td>611</td>\n",
       "      <td>99th 203.0+ stops</td>\n",
       "    </tr>\n",
       "    <tr>\n",
       "      <th>4</th>\n",
       "      <td>7342e9ab4e268b54f9cce8cc25f11345</td>\n",
       "      <td>Foothill Vehicle Positions</td>\n",
       "      <td>053bf66eba3f5d9980daafd812b99161</td>\n",
       "      <td>t64A-b275D-sl5</td>\n",
       "      <td>611</td>\n",
       "      <td>99th 203.0+ stops</td>\n",
       "    </tr>\n",
       "  </tbody>\n",
       "</table>\n",
       "</div>"
      ],
      "text/plain": [
       "                   gtfs_dataset_key          _gtfs_dataset_name  \\\n",
       "0  7342e9ab4e268b54f9cce8cc25f11345  Foothill Vehicle Positions   \n",
       "1  7342e9ab4e268b54f9cce8cc25f11345  Foothill Vehicle Positions   \n",
       "2  7342e9ab4e268b54f9cce8cc25f11345  Foothill Vehicle Positions   \n",
       "3  7342e9ab4e268b54f9cce8cc25f11345  Foothill Vehicle Positions   \n",
       "4  7342e9ab4e268b54f9cce8cc25f11345  Foothill Vehicle Positions   \n",
       "\n",
       "                    shape_array_key         trip_id  total_stops  \\\n",
       "0  053bf66eba3f5d9980daafd812b99161  t604-b2791-sl5          640   \n",
       "1  053bf66eba3f5d9980daafd812b99161  t4D1-b27B5-sl5          616   \n",
       "2  053bf66eba3f5d9980daafd812b99161  t59B-b2793-sl5          614   \n",
       "3  053bf66eba3f5d9980daafd812b99161  t668-b278A-sl5          611   \n",
       "4  053bf66eba3f5d9980daafd812b99161  t64A-b275D-sl5          611   \n",
       "\n",
       "    stop_percentiles  \n",
       "0  99th 203.0+ stops  \n",
       "1  99th 203.0+ stops  \n",
       "2  99th 203.0+ stops  \n",
       "3  99th 203.0+ stops  \n",
       "4  99th 203.0+ stops  "
      ]
     },
     "execution_count": 10,
     "metadata": {},
     "output_type": "execute_result"
    }
   ],
   "source": [
    "routes_many_stops_df.head()"
   ]
  },
  {
   "cell_type": "code",
   "execution_count": 8,
   "id": "6483a59e-1d44-4fa9-b057-8ce5230126c2",
   "metadata": {},
   "outputs": [
    {
     "name": "stdout",
     "output_type": "stream",
     "text": [
      "14517 duplicate rows will be dropped\n",
      "0    4512\n",
      "Name: stops_renumbered_correctly, dtype: int64\n"
     ]
    }
   ],
   "source": [
    "m1 =  speed_utils.merge_all_speeds(analysis_date)"
   ]
  },
  {
   "cell_type": "code",
   "execution_count": null,
   "id": "4dfe5ee7-f500-4f14-a22f-150c10651617",
   "metadata": {},
   "outputs": [],
   "source": [
    "def open_speeds_stops(date: str)-> pd.DataFrame:\n",
    "    \"\"\"\n",
    "    Open up speeds_stops parquet.\n",
    "    \n",
    "    Args:\n",
    "        date: analysis date\n",
    "    \"\"\"\n",
    "    speed_stops_subset = ['gtfs_dataset_key', '_gtfs_dataset_name', 'shape_array_key',\n",
    "       'stop_sequence', 'trip_id','speed_mph']\n",
    "    \n",
    "    df = pd.read_parquet(f\"{GCS_PATH}speeds_stop_segments_{date}\")\n",
    "    \n",
    "    df = df[speed_stops_subset]\n",
    "    \n",
    "    return df"
   ]
  },
  {
   "cell_type": "code",
   "execution_count": null,
   "id": "69183dab-5776-487f-b241-13ffc1f2db4f",
   "metadata": {},
   "outputs": [],
   "source": [
    "def open_avg_speeds(date:str)-> pd.DataFrame:\n",
    "    \"\"\"\n",
    "    Open up avg_speeds_stop_segments parquet.\n",
    "    \n",
    "    Args:\n",
    "        date: analysis date\n",
    "    \"\"\"\n",
    "    df = gpd.read_parquet(f\"{GCS_PATH}avg_speeds_stop_segments_{date}.parquet\")\n",
    "    cols_to_drop = ['geometry','geometry_arrowized','district','district_name']\n",
    "    df = df.drop(columns = cols_to_drop)\n",
    "    \n",
    "    return df"
   ]
  },
  {
   "cell_type": "code",
   "execution_count": null,
   "id": "b1bd0e78-015f-47c2-9ef8-c63a923e419c",
   "metadata": {},
   "outputs": [],
   "source": [
    "def merge_all_speeds(date:str) -> pd.DataFrame:\n",
    "    \"\"\"\n",
    "    Merge avg_speeds_stop_segments and\n",
    "    speed_stops parquets, drop duplicates, and\n",
    "    renumber stop sequences that are out of order. \n",
    "    \n",
    "    Args:\n",
    "        date: analysis date\n",
    "    \"\"\"\n",
    "    avg_speeds = open_avg_speeds(date)\n",
    "    speed_stops = open_speeds_stops(date)\n",
    "    \n",
    "    merge_cols = ['gtfs_dataset_key','shape_array_key', 'stop_sequence']\n",
    "    m1 = pd.merge(avg_speeds, speed_stops, on = merge_cols, how = 'inner')\n",
    "    print(f\"{len(m1) - len(m1.drop_duplicates())} duplicate rows will be dropped\") \n",
    "    \n",
    "    m1 = m1.drop_duplicates().reset_index(drop = True)\n",
    "    \n",
    "    # Renumber stop sequences since some of them are out of order. \n",
    "    # Ex: instead of stop 1,2,3 it could be stop 151,169, 300\n",
    "    # Sort df first.\n",
    "    sort_cols = ['shape_array_key', 'gtfs_dataset_key', 'trip_id', 'stop_sequence']\n",
    "    m1 = m1.sort_values(sort_cols).reset_index(drop = True)\n",
    "    \n",
    "    # Count stops by operator (gtfs key), route (shape array), and trip\n",
    "    group_cols = ['gtfs_dataset_key','shape_array_key', 'trip_id']\n",
    "    m1['sorted_stop_seq'] = m1.groupby(group_cols).cumcount().astype(int)+1\n",
    "    \n",
    "    # Check that stops were renumbered correctly. Should only be 0.\n",
    "    # Total original stops should equal newly renumbered ones. \n",
    "    check1 = m1.groupby(['shape_array_key']).agg({'sorted_stop_seq':'count', 'stop_sequence':'count'}).reset_index(drop = True)\n",
    "    check1[\"stops_renumbered_correctly\"] = check1.sorted_stop_seq-check1.stop_sequence\n",
    "    print(check1.stops_renumbered_correctly.value_counts())\n",
    "    \n",
    "    return m1"
   ]
  },
  {
   "cell_type": "code",
   "execution_count": null,
   "id": "afd051b2-8e3d-4cbf-b719-f4ad2fa040d5",
   "metadata": {},
   "outputs": [],
   "source": [
    "m1 = merge_all_speeds(analysis_date)"
   ]
  },
  {
   "cell_type": "markdown",
   "id": "7b475dba-d91e-47dc-bf2f-562c5f957257",
   "metadata": {},
   "source": [
    "### See which routes have a lot of stops\n",
    "* every shape has maybe 20, 30, 50 stops"
   ]
  },
  {
   "cell_type": "code",
   "execution_count": null,
   "id": "a3564164-427d-43a6-8c31-7bf9ea729ea4",
   "metadata": {},
   "outputs": [],
   "source": [
    "m1.stop_sequence.describe()"
   ]
  },
  {
   "cell_type": "code",
   "execution_count": null,
   "id": "8d0809f8-bf04-492f-ba0f-4f4b697ae312",
   "metadata": {},
   "outputs": [],
   "source": [
    "m1.sorted_stop_seq.describe()"
   ]
  },
  {
   "cell_type": "code",
   "execution_count": null,
   "id": "33cd5bdb-399f-401d-ad56-f7ad783e6fdb",
   "metadata": {},
   "outputs": [],
   "source": [
    "# Check out routes with a ton of unique stops in the sequence.\n",
    "m1.groupby(['gtfs_dataset_key','shape_array_key','trip_id']).agg({'sorted_stop_seq':'nunique'}).sort_values(['sorted_stop_seq'], ascending = False).head(15)"
   ]
  },
  {
   "cell_type": "markdown",
   "id": "c911a105-147a-4b8a-a741-5b67a8cf710a",
   "metadata": {},
   "source": [
    "#### Look at one trip"
   ]
  },
  {
   "cell_type": "code",
   "execution_count": null,
   "id": "f02f2c0b-f5fc-4452-b39b-bb1a443bc727",
   "metadata": {},
   "outputs": [],
   "source": [
    "#foothill_og = speed_stops2[speed_stops2.trip_id == \"t604-b2791-sl5\"]"
   ]
  },
  {
   "cell_type": "code",
   "execution_count": null,
   "id": "173615fa-c942-4d85-9ca8-64852b706d1f",
   "metadata": {},
   "outputs": [],
   "source": [
    "#len(foothill_og)"
   ]
  },
  {
   "cell_type": "code",
   "execution_count": null,
   "id": "28521af6-c34e-4b20-9831-3177722b9b46",
   "metadata": {},
   "outputs": [],
   "source": [
    "#foothill_og.stop_sequence.nunique()"
   ]
  },
  {
   "cell_type": "code",
   "execution_count": null,
   "id": "1136e4c7-2e5b-492d-8ae6-299a04164ac3",
   "metadata": {},
   "outputs": [],
   "source": [
    "#foothill_og.stop_sequence.describe()"
   ]
  },
  {
   "cell_type": "code",
   "execution_count": null,
   "id": "9cee6f4c-8786-478a-97ff-702be25d0788",
   "metadata": {},
   "outputs": [],
   "source": [
    "#foothill_og.sort_values('stop_sequence').head()"
   ]
  },
  {
   "cell_type": "code",
   "execution_count": null,
   "id": "97ec3ff5-bcda-4edd-9ba6-50821923dd98",
   "metadata": {},
   "outputs": [],
   "source": [
    "#foothill_renumbered_stop_seq = m2[m2.trip_id == \"t604-b2791-sl5\"] "
   ]
  },
  {
   "cell_type": "code",
   "execution_count": null,
   "id": "f2733f91-b890-4818-a649-d79bd6f9a16a",
   "metadata": {},
   "outputs": [],
   "source": [
    "#foothill_renumbered_stop_seq['Test Stop Sequence'].describe()"
   ]
  },
  {
   "cell_type": "code",
   "execution_count": null,
   "id": "c9b04672-2b10-4d06-b84a-1fd92a6a78ac",
   "metadata": {},
   "outputs": [],
   "source": [
    "#foothill_renumbered_stop_seq.sort_values('stop_sequence').head()"
   ]
  },
  {
   "cell_type": "code",
   "execution_count": null,
   "id": "9581ead1-5d91-44a4-a9d3-299445d55056",
   "metadata": {},
   "outputs": [],
   "source": [
    "# len(troubleshoot)"
   ]
  },
  {
   "cell_type": "code",
   "execution_count": null,
   "id": "1f50eb55-9373-4004-b23b-8129db734c1b",
   "metadata": {},
   "outputs": [],
   "source": [
    "# Number of test stops should match stop sequence...\n",
    "# troubleshoot['sequences_are_equal'] = troubleshoot['Test Stop Sequence'] - troubleshoot['stop_sequence']"
   ]
  },
  {
   "cell_type": "code",
   "execution_count": null,
   "id": "46843106-2e31-46c9-9220-2f12a3e6a4fb",
   "metadata": {},
   "outputs": [],
   "source": [
    "# troubleshoot['sequences_are_equal'].value_counts()"
   ]
  },
  {
   "cell_type": "code",
   "execution_count": null,
   "id": "34d189fa-632c-40d7-a793-e576645e879e",
   "metadata": {},
   "outputs": [],
   "source": [
    "# Look at this trip id in the original df\n",
    "#og_trip = speed_stops2[speed_stops2.trip_id == \"t640-b15FF1-sl5\"]"
   ]
  },
  {
   "cell_type": "code",
   "execution_count": null,
   "id": "34b1e2f4-fe20-4029-9ec1-e5cbaaf73178",
   "metadata": {},
   "outputs": [],
   "source": [
    "# Look at this trip id in the manipulated df\n",
    "#new_trip = m2[m2.trip_id == \"t640-b15FF1-sl5\"]"
   ]
  },
  {
   "cell_type": "code",
   "execution_count": null,
   "id": "81190a32-907b-4a5d-818a-ab5c2740dbc3",
   "metadata": {
    "tags": []
   },
   "outputs": [],
   "source": [
    "#og_trip.shape, og_trip.stop_sequence.nunique()"
   ]
  },
  {
   "cell_type": "code",
   "execution_count": null,
   "id": "ae8d06ad-3016-4909-b766-c370ef074aae",
   "metadata": {},
   "outputs": [],
   "source": [
    "#new_trip.shape, new_trip.stop_sequence.nunique()"
   ]
  },
  {
   "cell_type": "markdown",
   "id": "dd173aef-5f1d-4e8e-a7cd-9ed0a21606a1",
   "metadata": {},
   "source": [
    "#### Function"
   ]
  },
  {
   "cell_type": "code",
   "execution_count": null,
   "id": "4f25a17e-cea1-4bff-888d-d8f37dc31775",
   "metadata": {},
   "outputs": [],
   "source": [
    "\"\"\"\n",
    "p25 = troubleshoot.total_stops.quantile(0.25).astype(float)\n",
    "p50 =  troubleshoot.total_stops.quantile(0.50).astype(float)\n",
    "p75 =  troubleshoot.total_stops.quantile(0.75).astype(float)\n",
    "p95 =  troubleshoot.total_stops.quantile(0.95).astype(float)\n",
    "p99 =  troubleshoot.total_stops.quantile(0.99).astype(float)\n",
    "\"\"\""
   ]
  },
  {
   "cell_type": "code",
   "execution_count": null,
   "id": "2a6f0a35-51f9-4281-96d5-6c41ab874dd1",
   "metadata": {},
   "outputs": [],
   "source": []
  },
  {
   "cell_type": "code",
   "execution_count": null,
   "id": "5e1b011f-d438-4723-b5a5-2d4f803a8d2f",
   "metadata": {},
   "outputs": [],
   "source": [
    "def find_shapes_with_many_stops(date:str) -> pd.DataFrame:\n",
    "    \"\"\"\n",
    "    Find the routes with total stops \n",
    "    in the 95th+ percentile.\n",
    "    \n",
    "    Args:\n",
    "        date: analysis_date\n",
    "        \n",
    "    Returns:\n",
    "        DF with the total stops by shape_array_key,\n",
    "        gtfs_dataset_key, trip_id and total stops to check\n",
    "        out routes.\n",
    "        \n",
    "        List of unique shape_array_keys.\n",
    "    \"\"\"\n",
    "    df = merge_all_speeds(date)\n",
    "    \n",
    "    # Find the total number of stops by operator, shape_array_key (route), and trip_id\n",
    "    agg = (df.groupby(['gtfs_dataset_key','_gtfs_dataset_name','shape_array_key','trip_id'])\n",
    "                .agg({'stop_sequence':'nunique'})\n",
    "                .sort_values(['stop_sequence'], ascending = False)\n",
    "                .reset_index()\n",
    "                .rename(columns = {'stop_sequence':'total_stops'})\n",
    "               )\n",
    "    \n",
    "    # Categorize \n",
    "    p95 =  agg.total_stops.quantile(0.95).astype(float)\n",
    "    p99 =  agg.total_stops.quantile(0.99).astype(float)\n",
    "    \n",
    "    def stop_categories(row):\n",
    "        if ((row.total_stops >= p95) and (row.total_stops <= p99)):\n",
    "               return f\"95th {p95}-{p99} stops\"\n",
    "        elif row.total_stops > p99:\n",
    "               return f\"99th {p99}+ stops\"\n",
    "        else:\n",
    "            return \"other\"\n",
    "        \n",
    "    agg[\"stop_percentiles\"] = agg.apply(lambda x: stop_categories(x), axis=1)\n",
    "    \n",
    "    # Keep only the routes in the 95th percentile of stops\n",
    "    agg2 = agg[agg.stop_percentiles.isin([f\"95th {p95}-{p99} stops\", f\"99th {p99}+ stops\"])].reset_index(drop = True)\n",
    "    \n",
    "    return agg2, agg2.shape_array_key.unique().tolist()"
   ]
  },
  {
   "cell_type": "code",
   "execution_count": null,
   "id": "c1184f31-d772-4393-8bac-50ca561cdb5f",
   "metadata": {},
   "outputs": [],
   "source": [
    "routes_with_many_stops.shape"
   ]
  },
  {
   "cell_type": "code",
   "execution_count": null,
   "id": "d6f60f66-4ac0-4e9c-88b6-f80d15995fea",
   "metadata": {},
   "outputs": [],
   "source": [
    "routes_with_many_stops.shape_array_key.nunique()"
   ]
  },
  {
   "cell_type": "code",
   "execution_count": null,
   "id": "7dcb63f8-253f-40ce-a8e9-1beab3d669e1",
   "metadata": {},
   "outputs": [],
   "source": [
    "    # Summarize this: find median stops by shape array ID\n",
    "    \"\"\"\n",
    "    agg3 = (agg2\n",
    "                  .groupby(['_gtfs_dataset_name','shape_array_key', 'stop_percentiles'])\n",
    "                  .agg({'trip_id':'nunique','total_stops':'median'})\n",
    "                  .reset_index()\n",
    "                  .rename(columns = {'total_stops':'total_stops_median'})\n",
    "                 )\n",
    "    display(agg3)\n",
    "    \"\"\""
   ]
  },
  {
   "cell_type": "markdown",
   "id": "5816ef70-bc10-4b87-b587-73f3789c5674",
   "metadata": {},
   "source": [
    "### Charts  \n",
    "Test with a few routes first\n",
    "* Create new col that rounds up speed for plotting purposes only."
   ]
  },
  {
   "cell_type": "markdown",
   "id": "c1b099f7-c8e3-4c37-a70d-e765763448d7",
   "metadata": {
    "tags": []
   },
   "source": [
    "#### Manipulate DF for charts"
   ]
  },
  {
   "cell_type": "code",
   "execution_count": null,
   "id": "576c28b2-8c36-48a2-b312-9fc54010f7b5",
   "metadata": {},
   "outputs": [],
   "source": [
    "test1 = m1.melt(id_vars=[ '_gtfs_dataset_name','shape_array_key','trip_id', 'sorted_stop_seq','gtfs_dataset_key','loop_or_inlining',\n",
    "                       'n_trips'], value_vars=[ 'avg_speed_mph','speed_mph','p20_speed_mph', 'p80_speed_mph'])"
   ]
  },
  {
   "cell_type": "code",
   "execution_count": null,
   "id": "2b55cb75-8ee8-477c-95bc-439d2ee65962",
   "metadata": {},
   "outputs": [],
   "source": [
    "test1.shape"
   ]
  },
  {
   "cell_type": "code",
   "execution_count": null,
   "id": "29dc19fd-0d8b-430d-a78a-a1c947263ef0",
   "metadata": {
    "scrolled": true,
    "tags": []
   },
   "outputs": [],
   "source": [
    "# test1[test1.shape_array_key == \"29d2bbdbeaec1d6888800f85bebf6e33\"]"
   ]
  },
  {
   "cell_type": "code",
   "execution_count": null,
   "id": "e2c00548-7615-409c-a7cc-7db5f16c9a88",
   "metadata": {},
   "outputs": [],
   "source": [
    "# Only need average speed/p20 speed/p80 to show up once for each stop sequence-operator-shape array\n",
    "test2 = test1.drop_duplicates(subset = [ '_gtfs_dataset_name','shape_array_key','sorted_stop_seq','gtfs_dataset_key','variable','value']).reset_index(drop = True)"
   ]
  },
  {
   "cell_type": "code",
   "execution_count": null,
   "id": "be4bac6e-2d9f-4d64-a835-22bb4f3c32f5",
   "metadata": {},
   "outputs": [],
   "source": [
    "test2.shape"
   ]
  },
  {
   "cell_type": "code",
   "execution_count": null,
   "id": "5723b75c-0cc2-42e7-95e0-17b444971ee2",
   "metadata": {},
   "outputs": [],
   "source": [
    "other = ['cf688717cf0cd8dac0e6d1f12f9c7333',\n",
    "       '6f39f818c9a0c5496cd1c8bd1aa11e67',\n",
    "       '3de4482ec32ba0f2edb451d3528b5a5e']"
   ]
  },
  {
   "cell_type": "code",
   "execution_count": null,
   "id": "600d9ed7-524e-4af6-b90b-81fd89cf8c02",
   "metadata": {},
   "outputs": [],
   "source": [
    "subset = test2[test2.shape_array_key.isin([\"29d2bbdbeaec1d6888800f85bebf6e33\",'754c5b012195800c38dc58e72e4f482e',\n",
    "       'e3c5ed2c6fa6cd5c5cd57d46aeb3cd8e', ])]"
   ]
  },
  {
   "cell_type": "code",
   "execution_count": null,
   "id": "a92360af-5dfb-43e2-b89c-87c8b8268665",
   "metadata": {},
   "outputs": [],
   "source": [
    "subset = threshold_utils.pre_clean(subset)"
   ]
  },
  {
   "cell_type": "code",
   "execution_count": null,
   "id": "3a4c7ac2-4d6f-4702-a20b-0de69e0c86d4",
   "metadata": {},
   "outputs": [],
   "source": [
    "subset.columns"
   ]
  },
  {
   "cell_type": "code",
   "execution_count": null,
   "id": "4f0d0a5e-186e-4b7e-b307-6e6326c3e747",
   "metadata": {},
   "outputs": [],
   "source": [
    "subset['Route'] = subset['Gtfs Dataset Name'] +' '  + subset['Shape Array Key']"
   ]
  },
  {
   "cell_type": "code",
   "execution_count": null,
   "id": "a8d96219-49d0-4251-9b4b-a6968542424d",
   "metadata": {},
   "outputs": [],
   "source": [
    "subset = subset.rename(columns = {'Value':'Speed'})"
   ]
  },
  {
   "cell_type": "code",
   "execution_count": null,
   "id": "b1155355-b4f6-41c2-beb1-f839d9d46027",
   "metadata": {},
   "outputs": [],
   "source": [
    "subset['Speed_Int'] = subset.Speed.fillna(0).astype(int)"
   ]
  },
  {
   "cell_type": "code",
   "execution_count": null,
   "id": "0834a228-c47d-4760-ae13-aca72784e747",
   "metadata": {},
   "outputs": [],
   "source": [
    "# subset['Rounded Speed'].unique()"
   ]
  },
  {
   "cell_type": "code",
   "execution_count": null,
   "id": "67cb1df7-6337-478d-bd9c-3fbc0a3f698f",
   "metadata": {},
   "outputs": [],
   "source": [
    "def speed(row):\n",
    "    # If partner is none, return Unknown.\n",
    "    if row.Speed_Int == 0:\n",
    "        return 0\n",
    "    elif 0 < row.Speed_Int < 6:\n",
    "        return 5\n",
    "    elif 5 < row.Speed_Int < 11:\n",
    "        return 10\n",
    "    elif 10 < row.Speed_Int < 16:\n",
    "        return 15\n",
    "    elif 15 < row.Speed_Int < 21:\n",
    "        return 20\n",
    "    elif 20 < row.Speed_Int < 26:\n",
    "        return 25\n",
    "    elif 25 < row.Speed_Int < 31:\n",
    "        return 30\n",
    "    else:\n",
    "        return 35"
   ]
  },
  {
   "cell_type": "code",
   "execution_count": null,
   "id": "de056258-240b-4aff-a3f9-aabe5330a9e0",
   "metadata": {},
   "outputs": [],
   "source": [
    "# Apply the function\n",
    "subset[\"Rounded Speed\"] = subset.apply(speed, axis=1)"
   ]
  },
  {
   "cell_type": "code",
   "execution_count": null,
   "id": "3bb2d856-0239-4b02-a805-5c561e545009",
   "metadata": {
    "scrolled": true,
    "tags": []
   },
   "outputs": [],
   "source": [
    "subset.groupby(['Shape Array Key', 'Trip Id']).agg({'Sorted Stop Seq':'count'})"
   ]
  },
  {
   "cell_type": "code",
   "execution_count": null,
   "id": "afc90938-3fbd-4235-b6ab-68cfa445f0b6",
   "metadata": {
    "scrolled": true,
    "tags": []
   },
   "outputs": [],
   "source": [
    "# subset[['Rounded Speed', 'Speed', 'Speed_Int']]"
   ]
  },
  {
   "cell_type": "code",
   "execution_count": null,
   "id": "9a39e842-70f6-4ff6-84b7-44b4dea48a40",
   "metadata": {},
   "outputs": [],
   "source": [
    "subset.Variable = subset.Variable.str.title().str.replace(\"_\",\" \")"
   ]
  },
  {
   "cell_type": "code",
   "execution_count": null,
   "id": "a95e775c-4cff-44b6-a861-1a17efb5fbf2",
   "metadata": {},
   "outputs": [],
   "source": [
    "# One df for the actual speeds\n",
    "subset_speedmph = subset[subset.Variable == 'Speed Mph'].reset_index(drop = True)"
   ]
  },
  {
   "cell_type": "code",
   "execution_count": null,
   "id": "447aec9f-1a4a-408c-bc16-22c67746c262",
   "metadata": {},
   "outputs": [],
   "source": [
    "# One df for the percentiles\n",
    "subset_other= subset[subset.Variable != 'Speed Mph'].reset_index(drop = True)"
   ]
  },
  {
   "cell_type": "code",
   "execution_count": null,
   "id": "072f39d9-4bf9-4efc-a393-24f096cecf7e",
   "metadata": {},
   "outputs": [],
   "source": [
    "def alt_dropdown(df, col_for_dropdown:str, dropdown_menu_title:str):\n",
    "    # Create dropdown menu\n",
    "    # Exclude \"none\" operators which are only scheduled data\n",
    "    df = df.loc[df[col_for_dropdown] != \"None\"][[col_for_dropdown]]\n",
    "    dropdown_list = df[col_for_dropdown].unique().tolist()\n",
    "    \n",
    "    # Show only first operator by default\n",
    "    initialize_first_op = sorted(dropdown_list)[0]\n",
    "    input_dropdown = alt.binding_select(options=sorted(dropdown_list), name=dropdown_menu_title)\n",
    "    \n",
    "    selection = alt.selection_single(name= dropdown_menu_title,fields=[col_for_dropdown],\n",
    "    bind=input_dropdown, init={col_for_dropdown: initialize_first_op})\n",
    "                 \n",
    "    return selection"
   ]
  },
  {
   "cell_type": "code",
   "execution_count": null,
   "id": "c2fd6ee4-c841-44fd-8659-0ee2bc8a926d",
   "metadata": {},
   "outputs": [],
   "source": [
    "selection_test = alt_dropdown(subset, \"Route\", \"Operator/Shape Array\")"
   ]
  },
  {
   "cell_type": "code",
   "execution_count": null,
   "id": "e8c0fb00-e9a0-47c1-abc5-cea7a806a6df",
   "metadata": {},
   "outputs": [],
   "source": [
    "def create_jitter_plot(df):\n",
    "    \n",
    "    #title_op = df['Gtfs Dataset Name'].iloc[0].replace('VehiclePositions','').strip()\n",
    "    #inline = df['Loop Or Inlining'].iloc[0]\n",
    "    chart1 = (\n",
    "        alt.Chart(df, width=0.5)\n",
    "        .mark_circle(size=100)\n",
    "        .encode(\n",
    "            x=alt.X(\n",
    "                \"jitter:Q\",\n",
    "                title=None,\n",
    "                axis=alt.Axis(values=[0], ticks=False, grid=False, labels=False),\n",
    "                scale=alt.Scale(),\n",
    "            ),\n",
    "            y=alt.Y(\"Rounded Speed:Q\",\n",
    "                    scale=alt.Scale(domain=[0,50]),\n",
    "                    title = \"Speed (MPH)\",\n",
    "                    axis=alt.Axis(labelAngle=360, grid=False,)),\n",
    "            color=alt.Color(\n",
    "                \"Variable:N\",\n",
    "                scale=alt.Scale(range=cp.CALITP_CATEGORY_BRIGHT_COLORS),\n",
    "            ),\n",
    "            tooltip=df.columns.tolist(),\n",
    "            column=alt.Column(\n",
    "                \"Sorted Stop Seq:N\",\n",
    "                header=alt.Header(\n",
    "                    labelAngle=360,\n",
    "                    titleOrient=\"top\",\n",
    "                    labelOrient=\"top\",\n",
    "                    labelAlign=\"right\",\n",
    "                    labelPadding=2,\n",
    "                ),\n",
    "            ),\n",
    "        )\n",
    "        .transform_calculate(\n",
    "            # Generate Gaussian jitter with a Box-Muller transform\n",
    "            jitter=\"sqrt(-2*log(random()))*cos(2*PI*random())\"\n",
    "        )\n",
    "        .properties(title=\"Speeds by Operator-Shape Array\")\n",
    "    )\n",
    "    \n",
    "    chart1 = threshold_utils.chart_size(chart1, 75, 200)\n",
    "    \n",
    "    return chart1"
   ]
  },
  {
   "cell_type": "code",
   "execution_count": null,
   "id": "19b97ca6-17c9-4540-acfe-9a4caf740ef4",
   "metadata": {},
   "outputs": [],
   "source": [
    "chart1 = create_jitter_plot(subset_speedmph).add_selection(selection_test).transform_filter(selection_test)"
   ]
  },
  {
   "cell_type": "code",
   "execution_count": null,
   "id": "c13568df-5e19-4f0a-a9fe-c3edeb0a0073",
   "metadata": {},
   "outputs": [],
   "source": [
    "chart2 = (\n",
    "        alt.Chart(subset_other, width=0.5)\n",
    "        .mark_circle(size=200)\n",
    "        .encode(\n",
    "            x=alt.X(\n",
    "                \"jitter:Q\",\n",
    "                title=None,\n",
    "                axis=alt.Axis(values=[0], ticks=False, grid=False, labels=False),\n",
    "                scale=alt.Scale(),\n",
    "            ),\n",
    "            y=alt.Y(\"Rounded Speed:Q\", \n",
    "                    title = \"Speed (MPH)\",\n",
    "                    scale=alt.Scale(domain=[0, 50]),\n",
    "                   axis = alt.Axis(grid = False)),\n",
    "            color=alt.Color(\n",
    "                \"Variable:N\",\n",
    "                scale=alt.Scale(range=cp.CALITP_CATEGORY_BRIGHT_COLORS),\n",
    "            ),\n",
    "            tooltip=subset_other.columns.tolist(),\n",
    "            column=alt.Column(\n",
    "                \"Sorted Stop Seq:N\",\n",
    "                header=alt.Header(\n",
    "                    labelAngle=360,\n",
    "                    title = None,\n",
    "                    titleOrient=\"top\",\n",
    "                    labelOrient=\"top\",\n",
    "                    labelAlign=\"right\",\n",
    "                    labelPadding=2,\n",
    "                ),\n",
    "            ),\n",
    "        )\n",
    "        .transform_calculate(\n",
    "            # Generate Gaussian jitter with a Box-Muller transform\n",
    "            jitter=\"sqrt(-2*log(random()))*cos(2*PI*random())\"\n",
    "        )\n",
    "    )\n",
    "    "
   ]
  },
  {
   "cell_type": "code",
   "execution_count": null,
   "id": "2a2bda8b-d48c-44f3-a928-08aca894c565",
   "metadata": {},
   "outputs": [],
   "source": [
    "chart2 = threshold_utils.chart_size(chart2, 75, 200)"
   ]
  },
  {
   "cell_type": "code",
   "execution_count": null,
   "id": "dd20293d-7c43-42c4-b053-de945860b6f0",
   "metadata": {},
   "outputs": [],
   "source": [
    "chart2 = chart2.add_selection(selection_test).transform_filter(selection_test)"
   ]
  },
  {
   "cell_type": "code",
   "execution_count": null,
   "id": "6f695b90-4157-42bd-b9cf-aaa4d71773ef",
   "metadata": {},
   "outputs": [],
   "source": [
    "subset['Route Type'] = \"Loop or Inlining: \" + subset[\"Loop Or Inlining\"].astype(str)"
   ]
  },
  {
   "cell_type": "code",
   "execution_count": null,
   "id": "aa0fad8b-b49e-48be-8070-adaf6e63d541",
   "metadata": {},
   "outputs": [],
   "source": [
    "# https://github.com/altair-viz/altair/issues/1168\n",
    "title = alt.Chart(subset).mark_text(dy=-40, size=15, fontWeight='normal').encode(\n",
    "    text='Route Type:N',\n",
    ")"
   ]
  },
  {
   "cell_type": "code",
   "execution_count": null,
   "id": "44dc6896-e95d-42df-bbd5-f2bb2c2a2cc6",
   "metadata": {},
   "outputs": [],
   "source": [
    "title = threshold_utils.chart_size(title, 20, 20)"
   ]
  },
  {
   "cell_type": "code",
   "execution_count": null,
   "id": "27a02401-dc45-493b-baad-e4cb84b6db46",
   "metadata": {},
   "outputs": [],
   "source": [
    "title = title.add_selection(selection_test).transform_filter(selection_test)"
   ]
  },
  {
   "cell_type": "code",
   "execution_count": null,
   "id": "8e753711-8506-4939-8d9d-22566a641988",
   "metadata": {},
   "outputs": [],
   "source": [
    "title & (chart1.interactive() & chart2.interactive())"
   ]
  },
  {
   "cell_type": "markdown",
   "id": "9745f078-1999-4e5c-9ddc-5eba135f55ab",
   "metadata": {},
   "source": [
    "### Draft"
   ]
  },
  {
   "cell_type": "code",
   "execution_count": null,
   "id": "0e676189-df19-4630-8dc6-3c4fc8c60e16",
   "metadata": {},
   "outputs": [],
   "source": [
    "def stop_categories1(row):\n",
    "        if ((row.total_stops > 0) and (row.total_stops <= p25)):\n",
    "            return \"25th  <= 17 stops\"\n",
    "        elif ((row.total_stops > p25) and (row.total_stops <= p75)):\n",
    "            return \"50th <= 30 stops\"\n",
    "        elif ((row.total_stops > p75) and (row.total_stops <= p95)):\n",
    "               return \"75th <= 50 stops\"\n",
    "        elif ((row.total_stops > p95) and (row.total_stops <= p99)):\n",
    "               return \"95th <= 85 stops\"\n",
    "        elif row.total_stops >= p95:\n",
    "               return \"99th >= 203 stops\"\n",
    "        else:\n",
    "            return \"other\""
   ]
  },
  {
   "cell_type": "code",
   "execution_count": null,
   "id": "af72c1c9-df07-4e7f-973f-f0c07223b7a4",
   "metadata": {},
   "outputs": [],
   "source": [
    "def create_jitter_plot(df):\n",
    "    \n",
    "    title_op = df['Gtfs Dataset Name'].iloc[0].replace('VehiclePositions','').strip()\n",
    "    inline = df['Loop Or Inlining'].iloc[0]\n",
    "    \n",
    "    chart1 = (\n",
    "        alt.Chart(df, width=0.5)\n",
    "        .mark_circle(size=100)\n",
    "        .encode(\n",
    "            x=alt.X(\n",
    "                \"jitter:Q\",\n",
    "                title=None,\n",
    "                axis=alt.Axis(values=[0], ticks=False, grid=False, labels=False),\n",
    "                scale=alt.Scale(),\n",
    "            ),\n",
    "            y=alt.Y(\"Rounded Speed:Q\", axis=alt.Axis(labelAngle=360)),\n",
    "            color=alt.Color(\n",
    "                \"Variable:N\",\n",
    "                scale=alt.Scale(range=cp.CALITP_CATEGORY_BRIGHT_COLORS),\n",
    "            ),\n",
    "            tooltip=df.columns.tolist(),\n",
    "            column=alt.Column(\n",
    "                \"Stop Sequence:N\",\n",
    "                header=alt.Header(\n",
    "                    labelAngle=360,\n",
    "                    titleOrient=\"top\",\n",
    "                    labelOrient=\"bottom\",\n",
    "                    labelAlign=\"right\",\n",
    "                    labelPadding=2,\n",
    "                ),\n",
    "            ),\n",
    "        )\n",
    "        .transform_calculate(\n",
    "            # Generate Gaussian jitter with a Box-Muller transform\n",
    "            jitter=\"sqrt(-2*log(random()))*cos(2*PI*random())\"\n",
    "        )\n",
    "        .properties(title=f\"{title_op} - Route Type {inline}\")\n",
    "    )\n",
    "    \n",
    "    chart1 = threshold_utils.chart_size(chart1, 40, 250)\n",
    "    \n",
    "    return chart1"
   ]
  },
  {
   "cell_type": "code",
   "execution_count": null,
   "id": "18ebd177-efc1-4bdc-9fac-bf947db810a4",
   "metadata": {},
   "outputs": [],
   "source": [
    "chart2 = (\n",
    "        alt.Chart(anaheim_test, width=0.5)\n",
    "        .mark_circle(size=100)\n",
    "        .encode(\n",
    "            x=alt.X(\n",
    "                \"jitter:Q\",\n",
    "                title=None,\n",
    "                axis=alt.Axis(values=[0], ticks=False, grid=False, labels=False),\n",
    "                scale=alt.Scale(),\n",
    "            ),\n",
    "            y=alt.Y(\"rounded_speed:Q\", axis=alt.Axis(labelAngle=-90)),\n",
    "            color=alt.Color(\n",
    "                \"variable:N\",\n",
    "                scale=alt.Scale(range=cp.CALITP_CATEGORY_BRIGHT_COLORS),\n",
    "            ),\n",
    "            tooltip=anaheim_test.columns.tolist(),\n",
    "            column=alt.Column(\n",
    "                \"stop_sequence:N\",\n",
    "                header=alt.Header(\n",
    "                    labelAngle=360,\n",
    "                    titleOrient=\"top\",\n",
    "                    labelOrient=\"bottom\",\n",
    "                    labelAlign=\"right\",\n",
    "                    labelPadding=2,\n",
    "                ),\n",
    "            ),\n",
    "        )\n",
    "        .transform_calculate(\n",
    "            # Generate Gaussian jitter with a Box-Muller transform\n",
    "            jitter=\"sqrt(-2*log(random()))*cos(2*PI*random())\"\n",
    "        )\n",
    "        .configure_facet(spacing=0)\n",
    "        .configure_view(stroke=None)\n",
    "        .properties(title=\"Trip Duration by RT Category\")\n",
    "    )"
   ]
  },
  {
   "cell_type": "code",
   "execution_count": null,
   "id": "a7287305-20d8-434f-9756-42b18cf172a4",
   "metadata": {},
   "outputs": [],
   "source": [
    "chart2 = threshold_utils.chart_size(chart2,80,300)"
   ]
  },
  {
   "cell_type": "code",
   "execution_count": null,
   "id": "3f9e9258-b954-45bf-bd7a-17822c9c607a",
   "metadata": {},
   "outputs": [],
   "source": [
    "chart2"
   ]
  },
  {
   "cell_type": "code",
   "execution_count": null,
   "id": "ea1d8514-ae9c-42e6-b59a-49a44fecbc98",
   "metadata": {},
   "outputs": [],
   "source": [
    "chart1 = (\n",
    "        alt.Chart(anaheim_test_speedmph, width=0.5)\n",
    "        .mark_circle(size=100)\n",
    "        .encode(\n",
    "            x=alt.X(\n",
    "                \"jitter:Q\",\n",
    "                title=None,\n",
    "                axis=alt.Axis(values=[0], ticks=False, grid=False, labels=False),\n",
    "                scale=alt.Scale(),\n",
    "            ),\n",
    "            y=alt.Y(\"rounded_speed:Q\", axis=alt.Axis(labelAngle=-90)),\n",
    "            color=alt.Color(\n",
    "                \"stop_sequence:N\",\n",
    "                scale=alt.Scale(range=cp.CALITP_CATEGORY_BRIGHT_COLORS),\n",
    "            ),\n",
    "            tooltip=anaheim_test.columns.tolist(),\n",
    "            column=alt.Column(\n",
    "                \"stop_sequence:N\",\n",
    "                header=alt.Header(\n",
    "                    labelAngle=360,\n",
    "                    titleOrient=\"top\",\n",
    "                    labelOrient=\"bottom\",\n",
    "                    labelAlign=\"right\",\n",
    "                    labelPadding=2,\n",
    "                ),\n",
    "            ),\n",
    "        )\n",
    "        .transform_calculate(\n",
    "            # Generate Gaussian jitter with a Box-Muller transform\n",
    "            jitter=\"sqrt(-2*log(random()))*cos(2*PI*random())\"\n",
    "        )\n",
    "        .configure_facet(spacing=0)\n",
    "        .configure_view(stroke=None)\n",
    "        .properties(title=f\"Loop/Inling:{anaheim_test_speedmph.loop_or_inlining.iloc[0]}\")\n",
    "    )"
   ]
  },
  {
   "cell_type": "code",
   "execution_count": null,
   "id": "4e1eea88-640b-4e96-b2d5-07cd2f19afdf",
   "metadata": {},
   "outputs": [],
   "source": [
    "chart1 = threshold_utils.chart_size(chart1,80,300)"
   ]
  },
  {
   "cell_type": "code",
   "execution_count": null,
   "id": "c54559c6-8fb0-4109-8e7d-84c1ecb6497e",
   "metadata": {},
   "outputs": [],
   "source": [
    "chart1"
   ]
  },
  {
   "cell_type": "code",
   "execution_count": null,
   "id": "79375476-00a1-4b85-a532-26889fc465e4",
   "metadata": {},
   "outputs": [],
   "source": []
  },
  {
   "cell_type": "code",
   "execution_count": null,
   "id": "0e5c052e-cccd-4f75-be65-9658cf7616b1",
   "metadata": {},
   "outputs": [],
   "source": [
    "def create_dot_plot2(df, col_for_dots: str, \n",
    "                    x_axis_col:str, y_axis_col:str,\n",
    "                   tooltip_cols:list, chart_title:str):\n",
    "  \n",
    "    chart = (alt.Chart(df).mark_circle(opacity=1, size = 100).transform_window(\n",
    "    id='rank()',\n",
    "    groupby=[col_for_dots]).encode(\n",
    "    alt.X(f'{x_axis_col}:O', sort='descending', \n",
    "          axis=alt.Axis(ticks=False, grid=True)),\n",
    "    alt.Y(f'{y_axis_col}:N'), \n",
    "    color=alt.Color(f\"{col_for_dots}:N\", scale=alt.Scale(range=cp.CALITP_CATEGORY_BRIGHT_COLORS), legend=None),\n",
    "    tooltip = tooltip_cols)\n",
    "             .properties(title = chart_title))\n",
    "    \n",
    "    return chart"
   ]
  },
  {
   "cell_type": "code",
   "execution_count": null,
   "id": "e38644ab-7fb8-47b1-b692-512b55f05625",
   "metadata": {},
   "outputs": [],
   "source": [
    "chart3 = create_dot_plot1(anaheim_test_other, 'variable', 'stop_sequence', 'rounded_speed', anaheim_test_other.columns.tolist(),  'Percentile/Average')"
   ]
  },
  {
   "cell_type": "code",
   "execution_count": null,
   "id": "2b6df39b-b074-494d-8f5e-65fe05356f4b",
   "metadata": {},
   "outputs": [],
   "source": [
    "chart3 = threshold_utils.chart_size(chart3,650,300)"
   ]
  },
  {
   "cell_type": "code",
   "execution_count": null,
   "id": "c2c565de-3c55-4827-a5bb-b48c6d49d4c1",
   "metadata": {},
   "outputs": [],
   "source": [
    "chart4 = create_dot_plot2(anaheim_test_speedmph, 'variable', 'stop_sequence', 'rounded_speed', anaheim_test_speedmph.columns.tolist(), 'Speed per Trip')"
   ]
  },
  {
   "cell_type": "code",
   "execution_count": null,
   "id": "29b3b7b1-8f44-4a8d-97c3-ff934250e874",
   "metadata": {},
   "outputs": [],
   "source": [
    "chart4 = threshold_utils.chart_size(chart4,650,300)"
   ]
  },
  {
   "cell_type": "code",
   "execution_count": null,
   "id": "54146c88-15df-49e2-9de6-18f2666d9f9f",
   "metadata": {},
   "outputs": [],
   "source": [
    "chart4"
   ]
  },
  {
   "cell_type": "code",
   "execution_count": null,
   "id": "3ccbc087-f799-4429-b6c7-a9c1f38f021d",
   "metadata": {},
   "outputs": [],
   "source": [
    "chart3 + chart4"
   ]
  },
  {
   "cell_type": "code",
   "execution_count": null,
   "id": "9829d749-580c-4440-9397-4562192417b7",
   "metadata": {},
   "outputs": [],
   "source": [
    "chart7 = (\n",
    "        alt.Chart(anaheim_test_other, width=0.5)\n",
    "        .mark_circle(size=100)\n",
    "        .encode(\n",
    "            x=alt.X(\n",
    "                \"jitter:Q\",\n",
    "                title=None,\n",
    "                axis=alt.Axis(values=[0], ticks=False, grid=False, labels=False),\n",
    "                scale=alt.Scale(),\n",
    "            ),\n",
    "            y=alt.Y(\"rounded_speed:Q\", axis=alt.Axis(labelAngle=-90)),\n",
    "            color=alt.Color(\n",
    "                \"variable:N\",\n",
    "                scale=alt.Scale(range=cp.CALITP_CATEGORY_BRIGHT_COLORS),\n",
    "            ),\n",
    "            tooltip=anaheim_test.columns.tolist(),\n",
    "            column=alt.Column(\n",
    "                \"stop_sequence:N\",\n",
    "                header=alt.Header(\n",
    "                    labelAngle=-90,\n",
    "                    titleOrient=\"top\",\n",
    "                    labelOrient=\"bottom\",\n",
    "                    labelAlign=\"right\",\n",
    "                    labelPadding=2,\n",
    "                ),\n",
    "            ),\n",
    "        )\n",
    "        .transform_calculate(\n",
    "            # Generate Gaussian jitter with a Box-Muller transform\n",
    "            jitter=\"sqrt(-2*log(random()))*cos(2*PI*random())\"\n",
    "        )\n",
    "        .configure_facet(spacing=0)\n",
    "        .configure_view(stroke=None)\n",
    "        .properties(title=\"Trip Duration by RT Category\")\n",
    "    )"
   ]
  },
  {
   "cell_type": "code",
   "execution_count": null,
   "id": "454980fc-e6ab-4d53-b844-120a075b8034",
   "metadata": {},
   "outputs": [],
   "source": [
    "chart7 = threshold_utils.chart_size(chart7,80,300)"
   ]
  },
  {
   "cell_type": "code",
   "execution_count": null,
   "id": "58e57fb2-1c3b-47e1-8bb6-d4941f0ee985",
   "metadata": {},
   "outputs": [],
   "source": [
    "chart8 = (\n",
    "        alt.Chart(anaheim_test_other, width=0.5)\n",
    "        .mark_circle(size=100)\n",
    "        .encode(\n",
    "            x=alt.X(\n",
    "                \"jitter:Q\",\n",
    "                title=None,\n",
    "                axis=alt.Axis(values=[0], ticks=False, grid=False, labels=False),\n",
    "                scale=alt.Scale(),\n",
    "            ),\n",
    "            y=alt.Y(\"rounded_speed:Q\", axis=alt.Axis(labelAngle=-90)),\n",
    "            color=alt.Color(\n",
    "                \"variable:N\",\n",
    "                scale=alt.Scale(range=cp.CALITP_CATEGORY_BRIGHT_COLORS),\n",
    "            ),\n",
    "            tooltip=anaheim_test.columns.tolist(),\n",
    "            column=alt.Column(\n",
    "                \"stop_sequence:N\",\n",
    "                header=alt.Header(\n",
    "                    labelAngle=-90,\n",
    "                    titleOrient=\"top\",\n",
    "                    labelOrient=\"bottom\",\n",
    "                    labelAlign=\"right\",\n",
    "                    labelPadding=2,\n",
    "                ),\n",
    "            ),\n",
    "        )\n",
    "        .transform_calculate(\n",
    "            # Generate Gaussian jitter with a Box-Muller transform\n",
    "            jitter=\"sqrt(-2*log(random()))*cos(2*PI*random())\"\n",
    "        )\n",
    "        .properties(title=\"Trip Duration by RT Category\")\n",
    "    )"
   ]
  },
  {
   "cell_type": "code",
   "execution_count": null,
   "id": "c2ce0879-f45f-4c66-9b1a-870a243a1260",
   "metadata": {},
   "outputs": [],
   "source": [
    "chart9 = (\n",
    "        alt.Chart(anaheim_test_speedmph, width=0.5)\n",
    "        .mark_circle(size=100)\n",
    "        .encode(\n",
    "            x=alt.X(\n",
    "                \"jitter:Q\",\n",
    "                title=None,\n",
    "                axis=alt.Axis(values=[0], ticks=False, grid=False, labels=False),\n",
    "                scale=alt.Scale(),\n",
    "            ),\n",
    "            y=alt.Y(\"rounded_speed:Q\", axis=alt.Axis(labelAngle=-90)),\n",
    "            color=alt.Color(\n",
    "                \"variable:N\",\n",
    "                scale=alt.Scale(range=cp.CALITP_CATEGORY_BRIGHT_COLORS),\n",
    "            ),\n",
    "            tooltip=anaheim_test.columns.tolist(),\n",
    "            column=alt.Column(\n",
    "                \"stop_sequence:N\",\n",
    "                header=alt.Header(\n",
    "                    labelAngle=360,\n",
    "                    titleOrient=\"top\",\n",
    "                    labelOrient=\"bottom\",\n",
    "                    labelAlign=\"right\",\n",
    "                    labelPadding=2,\n",
    "                ),\n",
    "            ),\n",
    "        )\n",
    "        .transform_calculate(\n",
    "            # Generate Gaussian jitter with a Box-Muller transform\n",
    "            jitter=\"sqrt(-2*log(random()))*cos(2*PI*random())\"\n",
    "        )\n",
    "        .properties(title=f\"Loop/Inling:{anaheim_test_speedmph.loop_or_inlining.iloc[0]}\")\n",
    "    )"
   ]
  },
  {
   "cell_type": "code",
   "execution_count": null,
   "id": "04e3ce9a-a5ab-4aeb-a7d0-4ead6738324b",
   "metadata": {},
   "outputs": [],
   "source": [
    "chart8"
   ]
  },
  {
   "cell_type": "code",
   "execution_count": null,
   "id": "04d2026e-c040-45ea-aab6-2c09c2211632",
   "metadata": {},
   "outputs": [],
   "source": [
    "chart9 | chart8"
   ]
  },
  {
   "cell_type": "code",
   "execution_count": null,
   "id": "edb11b29-7038-4a5d-9e44-4d3b88e6cc88",
   "metadata": {},
   "outputs": [],
   "source": [
    "# pip install altair==5.0.0rc3\n",
    "chart5 = alt.Chart(anaheim_test_speedmph, title='Normally distributed jitter').mark_circle(size=50).encode(\n",
    "    y=\"rounded_speed:Q\",\n",
    "    x=\"stop_sequence:N\",\n",
    "    yOffset=\"jitter:Q\",\n",
    "    color=alt.Color('stop_sequence:Q').legend(None)\n",
    ").transform_calculate(\n",
    "    # Generate Gaussian jitter with a Box-Muller transform\n",
    "    jitter=\"sqrt(-2*log(random()))*cos(2*PI*random())\"\n",
    ")\n"
   ]
  },
  {
   "cell_type": "code",
   "execution_count": null,
   "id": "9bbcc880-7866-495c-9a68-3b7ca6c00c4a",
   "metadata": {},
   "outputs": [],
   "source": [
    "chart5 = threshold_utils.chart_size(chart5,650,300)"
   ]
  },
  {
   "cell_type": "code",
   "execution_count": null,
   "id": "a765f55e-73e2-4bae-9326-98ed1bbfadaf",
   "metadata": {},
   "outputs": [],
   "source": [
    "chart5"
   ]
  }
 ],
 "metadata": {
  "kernelspec": {
   "display_name": "Python 3 (ipykernel)",
   "language": "python",
   "name": "python3"
  },
  "language_info": {
   "codemirror_mode": {
    "name": "ipython",
    "version": 3
   },
   "file_extension": ".py",
   "mimetype": "text/x-python",
   "name": "python",
   "nbconvert_exporter": "python",
   "pygments_lexer": "ipython3",
   "version": "3.9.13"
  }
 },
 "nbformat": 4,
 "nbformat_minor": 5
}
