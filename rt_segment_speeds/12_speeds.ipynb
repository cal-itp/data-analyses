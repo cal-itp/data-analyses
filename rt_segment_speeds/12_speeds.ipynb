{
 "cells": [
  {
   "cell_type": "code",
   "execution_count": 1,
   "id": "2c7feec3-aa18-42ab-94b9-cab4be608152",
   "metadata": {},
   "outputs": [
    {
     "name": "stderr",
     "output_type": "stream",
     "text": [
      "/opt/conda/lib/python3.9/site-packages/geopandas/_compat.py:123: UserWarning: The Shapely GEOS version (3.11.1-CAPI-1.17.1) is incompatible with the GEOS version PyGEOS was compiled with (3.10.1-CAPI-1.16.0). Conversions between both will be slow.\n",
      "  warnings.warn(\n",
      "/home/jovyan/data-analyses/rt_segment_speeds/_speed_utils.py:4: UserWarning: Shapely 2.0 is installed, but because PyGEOS is also installed, GeoPandas will still use PyGEOS by default for now. To force to use and test Shapely 2.0, you have to set the environment variable USE_PYGEOS=0. You can do this before starting the Python process, or in your code before importing geopandas:\n",
      "\n",
      "import os\n",
      "os.environ['USE_PYGEOS'] = '0'\n",
      "import geopandas\n",
      "\n",
      "In a future release, GeoPandas will switch to using Shapely by default. If you are using PyGEOS directly (calling PyGEOS functions on geometries from GeoPandas), this will then stop working and you are encouraged to migrate from PyGEOS to Shapely 2.0 (https://shapely.readthedocs.io/en/latest/migration_pygeos.html).\n",
      "  import geopandas as gpd\n"
     ]
    }
   ],
   "source": [
    "import datetime\n",
    "import _speed_utils as speed_utils\n",
    "import dask.dataframe as dd\n",
    "import numpy as np\n",
    "import geopandas as gpd\n",
    "import pandas as pd\n",
    "from segment_speed_utils import helpers, sched_rt_utils\n",
    "from segment_speed_utils.project_vars import (\n",
    "    SEGMENT_GCS,\n",
    "    analysis_date,\n",
    ")\n",
    "from datetime import timedelta\n",
    "\n",
    "from scripts import (A1_sjoin_vp_segments, A2_valid_vehicle_positions, cut_road_segments)\n",
    "from shared_utils import calitp_color_palette as cp"
   ]
  },
  {
   "cell_type": "code",
   "execution_count": 2,
   "id": "aaadc719-374b-4cfc-b9ab-c3ee6ca454fe",
   "metadata": {},
   "outputs": [],
   "source": [
    "import gcsfs\n",
    "fs = gcsfs.GCSFileSystem()"
   ]
  },
  {
   "cell_type": "code",
   "execution_count": 3,
   "id": "0108ae4a-4518-4487-85f7-a5faa3e9cbf6",
   "metadata": {},
   "outputs": [],
   "source": [
    "pd.options.display.max_columns = 100\n",
    "pd.options.display.float_format = \"{:.2f}\".format\n",
    "pd.set_option(\"display.max_rows\", None)\n",
    "pd.set_option(\"display.max_colwidth\", None)"
   ]
  },
  {
   "cell_type": "code",
   "execution_count": 4,
   "id": "c130ab8b-80ac-4edf-bb59-715a793c15a6",
   "metadata": {},
   "outputs": [],
   "source": [
    "CONFIG_PATH = './scripts/config.yml'"
   ]
  },
  {
   "cell_type": "code",
   "execution_count": 5,
   "id": "0c65c2fd-4eb6-46d0-8007-e91096133954",
   "metadata": {},
   "outputs": [],
   "source": [
    "STOP_SEG_DICT = helpers.get_parameters(CONFIG_PATH, \"stop_segments\")"
   ]
  },
  {
   "cell_type": "code",
   "execution_count": 6,
   "id": "185c3e26-0dcb-4f2b-999c-a21939f2a6bd",
   "metadata": {},
   "outputs": [],
   "source": [
    "analysis_date = '2023-07-12'"
   ]
  },
  {
   "cell_type": "markdown",
   "id": "778a2aa1-d73b-4ebf-89e2-8f9eb5ca5aa1",
   "metadata": {
    "jp-MarkdownHeadingCollapsed": true,
    "tags": []
   },
   "source": [
    "### Observations (7/12)\n",
    "* Step 1: Flagging\n",
    "    * There are 2,704,812 rows in the dataframe original. About 10% of those rows are flagged as having zeroes in meters elapsed and seconds elapsed. \n",
    "    * There are around 4566 routes. About 57% of these routes had at least one trip with one or more rows flagged as zero.\n",
    "* I took 2 passes at trying to understand why both these columns recorded zeroes.\n",
    "\n",
    "* Step 2: `vp_pared_stops`. \n",
    "    * I grouped `vp_pared_stops` by 'shape_array_key','trip_id', and 'location_timestamp_local' OR `x` and `y`. I counted the number of unique stop sequences after grouping. If this trio had more than one unique stop sequence, that meant the timestamp or location recorded between sequences was duplicated.\n",
    "    * Only around 9% of rows were flagged as having (obviously) repeated timestamps and locations. \n",
    "    * For all of these rows, both the timestamp and location were duplicated. \n",
    "    * All the routes that were flagged in step one needed a further look in step 3.\n",
    "    \n",
    "* Step 3: `vp_usable`\n",
    "    * For one route and trip, find: all the recorded vehicle positions, sjoin of vps to segments,\n",
    "    and the first and last points kept. \n",
    "    * Plot the three gdfs in a map to visually inspect what's happening.\n",
    "    * Compare the sample route and trips with the trip with the highest percentage of non division by 0 rows to see what's going on. \n",
    "    \n",
    "* Buckets of errors (all based on `stage0 vp`). \n",
    "    * There is only one recorded point in that segment in the raw data.\n",
    "        * Fix: use the timestamp that comes after it.\n",
    "        * <img src= \"./speeds_images/only_one_pt_collected.png\" width = 300>\n",
    "    * Points are shared between segments\n",
    "        * Use p20/p50/p80.\n",
    "        * <img src= \"./speeds_images/shared_vp.png\" width = 300>\n",
    "    * Points recorded are really far out and they don't touch the buffered segments.\n",
    "        * Fix: figure out % of vehicle positions that are too far out.\n",
    "        * <img src= \"./speeds_images/dots_not_on_seg.png\" width = 300>\n",
    "    * No data captured for that segment at all.\n",
    "        * Use p20/p50/p80. \n",
    "        * <img src= \"./speeds_images/no_dots_collected.png\" width = 300> "
   ]
  },
  {
   "cell_type": "markdown",
   "id": "35c1ba95-5929-4a7f-bfae-f6d126622104",
   "metadata": {},
   "source": [
    "### Flagging"
   ]
  },
  {
   "cell_type": "code",
   "execution_count": 7,
   "id": "be9888dd-232a-401d-8039-9c2d1954a167",
   "metadata": {},
   "outputs": [
    {
     "name": "stdout",
     "output_type": "stream",
     "text": [
      "2023-07-25 15:26:44.994977\n",
      "There are 2517857 rows in the original dataframe\n",
      "sec_cat      meters_cat    \n",
      "sec is avg   meters is avg     1873776\n",
      "             meters is high     101374\n",
      "             meters is low      127169\n",
      "sec is high  meters is avg       78053\n",
      "             meters is high      24519\n",
      "             meters is low       23738\n",
      "sec is low   meters is low      289228\n",
      "dtype: int64\n",
      "ok                 78.45\n",
      "division by 0      11.49\n",
      "meters too low      5.99\n",
      "seconds too high    4.07\n",
      "Name: flag, dtype: float64\n",
      "22727 unique trips flagged.\n",
      "2578 routes flagged out of 4087.\n",
      "63.0780523611451 routes have 1+ row that has zeroes for meters/sec elapsed\n",
      "14 operators are not flagged.\n",
      "36.92194763885491% of routes have 1+ division by 0 row\n",
      "Took 0:04:21.469724\n"
     ]
    }
   ],
   "source": [
    "# Flagged: all the rows in the df flagged\n",
    "# divide_by_zero: only the rows that have 0 for meters and sec elapsed\n",
    "# trips_count: % of trips with 1+ division by 0 row for a route\n",
    "# route_most_populated_df: the trip for a route with the smallest % of rows that are divided by 0\n",
    "flagged, divide_by_zero, trips_count, route_most_populated_df = speed_utils.flagging_stage(analysis_date)"
   ]
  },
  {
   "cell_type": "code",
   "execution_count": 8,
   "id": "46dc9836-939a-4624-8dec-a10242ac7870",
   "metadata": {},
   "outputs": [
    {
     "ename": "NameError",
     "evalue": "name 'stage3_df' is not defined",
     "output_type": "error",
     "traceback": [
      "\u001b[0;31m---------------------------------------------------------------------------\u001b[0m",
      "\u001b[0;31mNameError\u001b[0m                                 Traceback (most recent call last)",
      "Cell \u001b[0;32mIn[8], line 1\u001b[0m\n\u001b[0;32m----> 1\u001b[0m shape_trips \u001b[38;5;241m=\u001b[39m speed_utils\u001b[38;5;241m.\u001b[39mcount_trips_routes(\u001b[43mstage3_df\u001b[49m)\n",
      "\u001b[0;31mNameError\u001b[0m: name 'stage3_df' is not defined"
     ]
    }
   ],
   "source": [
    "# shape_trips = speed_utils.count_trips_routes(stage3_df)"
   ]
  },
  {
   "cell_type": "code",
   "execution_count": 9,
   "id": "d59714a8-1779-4c09-a61f-6f5ed68964a7",
   "metadata": {},
   "outputs": [
    {
     "name": "stdout",
     "output_type": "stream",
     "text": [
      "2023-07-25 15:32:28.433483\n",
      "check in stage 2                   265623\n",
      "repeated timestamps & locations     23593\n",
      "repeated locations                     12\n",
      "Name: stage3_flag, dtype: int64\n",
      "Have to check 91.83861866762554 % of rows in stage 2\n",
      "Took 0:00:56.208809\n"
     ]
    }
   ],
   "source": [
    "stage3_df = speed_utils.flag_stage3(divide_by_zero, analysis_date)"
   ]
  },
  {
   "cell_type": "markdown",
   "id": "cb2050b4-d265-47bb-9de5-93c7ef621448",
   "metadata": {},
   "source": [
    "### Fix 1  - % of vehicle positions that are too far away from the shapes to be joined\n",
    "* https://github.com/cal-itp/data-analyses/blob/main/rt_segment_speeds/scripts/A0_preprocessing.py"
   ]
  },
  {
   "cell_type": "code",
   "execution_count": 10,
   "id": "cafa413c-2a83-4845-807e-a09dd02e16f4",
   "metadata": {},
   "outputs": [],
   "source": [
    "INPUT_FILE_PREFIX = STOP_SEG_DICT[\"stage0\"]"
   ]
  },
  {
   "cell_type": "code",
   "execution_count": 11,
   "id": "a07ef2da-3a04-4d29-9d4f-df772704e623",
   "metadata": {},
   "outputs": [],
   "source": [
    "# 14_600_897 rows\n",
    "original = dd.read_parquet(\n",
    "        f\"{SEGMENT_GCS}{INPUT_FILE_PREFIX}_{analysis_date}.parquet\"\n",
    "    )"
   ]
  },
  {
   "cell_type": "code",
   "execution_count": 12,
   "id": "ae7aed61-fe39-4632-84a5-44e229ed3798",
   "metadata": {},
   "outputs": [],
   "source": [
    "# len(original)"
   ]
  },
  {
   "cell_type": "markdown",
   "id": "0af7def7-63fb-4c5f-be98-c4ced5ea135a",
   "metadata": {
    "tags": [],
    "toc-hr-collapsed": true
   },
   "source": [
    "#### Crosswalk"
   ]
  },
  {
   "cell_type": "code",
   "execution_count": 13,
   "id": "30ac6cca-9c9a-49a2-aa83-574e1b1798c6",
   "metadata": {},
   "outputs": [],
   "source": [
    "TRIP_GROUPING_COLS = STOP_SEG_DICT[\"trip_grouping_cols\"]"
   ]
  },
  {
   "cell_type": "code",
   "execution_count": 14,
   "id": "55d2c64f-1850-4b79-addd-8b8e1810d66f",
   "metadata": {},
   "outputs": [],
   "source": [
    "crosswalk = sched_rt_utils.crosswalk_scheduled_trip_grouping_with_rt_key(\n",
    "        analysis_date, \n",
    "        [\"feed_key\", \"trip_id\"] + TRIP_GROUPING_COLS\n",
    "    )"
   ]
  },
  {
   "cell_type": "code",
   "execution_count": 15,
   "id": "de4e1504-f4d8-4b68-b5ce-98ba38c39972",
   "metadata": {},
   "outputs": [],
   "source": [
    "crosswalk = crosswalk.compute()"
   ]
  },
  {
   "cell_type": "code",
   "execution_count": 16,
   "id": "10ff6a7a-b8e3-4ac3-a316-9770de2e427a",
   "metadata": {},
   "outputs": [
    {
     "data": {
      "text/html": [
       "<div>\n",
       "<style scoped>\n",
       "    .dataframe tbody tr th:only-of-type {\n",
       "        vertical-align: middle;\n",
       "    }\n",
       "\n",
       "    .dataframe tbody tr th {\n",
       "        vertical-align: top;\n",
       "    }\n",
       "\n",
       "    .dataframe thead th {\n",
       "        text-align: right;\n",
       "    }\n",
       "</style>\n",
       "<table border=\"1\" class=\"dataframe\">\n",
       "  <thead>\n",
       "    <tr style=\"text-align: right;\">\n",
       "      <th></th>\n",
       "      <th>feed_key</th>\n",
       "      <th>trip_id</th>\n",
       "      <th>shape_array_key</th>\n",
       "      <th>gtfs_dataset_key</th>\n",
       "    </tr>\n",
       "  </thead>\n",
       "  <tbody>\n",
       "    <tr>\n",
       "      <th>48167</th>\n",
       "      <td>a5d208ac54d606decccdaf14f70d81de</td>\n",
       "      <td>t_5283742_b_77396_tn_0</td>\n",
       "      <td>312e365f526f773ebafdaeb5da96aea3</td>\n",
       "      <td>d25781d68d011222a8bfb2de64cc6f7d</td>\n",
       "    </tr>\n",
       "  </tbody>\n",
       "</table>\n",
       "</div>"
      ],
      "text/plain": [
       "                               feed_key                 trip_id  \\\n",
       "48167  a5d208ac54d606decccdaf14f70d81de  t_5283742_b_77396_tn_0   \n",
       "\n",
       "                        shape_array_key                  gtfs_dataset_key  \n",
       "48167  312e365f526f773ebafdaeb5da96aea3  d25781d68d011222a8bfb2de64cc6f7d  "
      ]
     },
     "execution_count": 16,
     "metadata": {},
     "output_type": "execute_result"
    }
   ],
   "source": [
    "crosswalk.sample()"
   ]
  },
  {
   "cell_type": "markdown",
   "id": "1403a659-4f3a-4f0a-804f-dc3ff0be5a29",
   "metadata": {},
   "source": [
    "#### A1 sjoin\n",
    "* Contains the columns:\n",
    "    * vp_idx\n",
    "    * shape_array_key\n",
    "    * stop_sequence"
   ]
  },
  {
   "cell_type": "code",
   "execution_count": 17,
   "id": "c8a19def-8e1b-45fd-8bd1-11ca8093697b",
   "metadata": {},
   "outputs": [],
   "source": [
    "USABLE_VP = STOP_SEG_DICT[\"stage1\"]\n",
    "INPUT_FILE_PREFIX = STOP_SEG_DICT[\"stage2\"]\n",
    "GROUPING_COL = STOP_SEG_DICT[\"grouping_col\"]"
   ]
  },
  {
   "cell_type": "code",
   "execution_count": 18,
   "id": "0b60036b-a608-415e-863b-de13a0b8f78e",
   "metadata": {},
   "outputs": [],
   "source": [
    "def load_sjoin(analysis_date:str):\n",
    "    INPUT_FILE_PREFIX = STOP_SEG_DICT[\"stage2\"]\n",
    "    df = dd.read_parquet(\n",
    "      f\"{SEGMENT_GCS}vp_sjoin/{INPUT_FILE_PREFIX}_{analysis_date}\",\n",
    "    )\n",
    "    return df"
   ]
  },
  {
   "cell_type": "code",
   "execution_count": 19,
   "id": "d451f53e-c505-45b5-bf24-a9cf2e363b1a",
   "metadata": {},
   "outputs": [
    {
     "data": {
      "text/plain": [
       "'gs://calitp-analytics-data/data-analyses/rt_segment_speeds/vp_sjoin/vp_stop_segment_2023-07-12'"
      ]
     },
     "execution_count": 19,
     "metadata": {},
     "output_type": "execute_result"
    }
   ],
   "source": [
    "# This is the end result from A1_sjoin\n",
    "f\"{SEGMENT_GCS}vp_sjoin/{INPUT_FILE_PREFIX}_{analysis_date}\""
   ]
  },
  {
   "cell_type": "markdown",
   "id": "40445156-0512-4a28-8db5-3c98dfd27fc6",
   "metadata": {},
   "source": [
    "#### Sjoin\n",
    "['vp_idx', 'shape_array_key', 'stop_sequence']"
   ]
  },
  {
   "cell_type": "code",
   "execution_count": 20,
   "id": "d7aef099-6c98-4af2-9bd7-596d3e720ec9",
   "metadata": {},
   "outputs": [],
   "source": [
    "vp_to_seg = dd.read_parquet(\n",
    "      f\"{SEGMENT_GCS}vp_sjoin/{INPUT_FILE_PREFIX}_{analysis_date}\",\n",
    "    )"
   ]
  },
  {
   "cell_type": "code",
   "execution_count": 21,
   "id": "1f3df459-5f71-400f-97b1-fe3157705f36",
   "metadata": {},
   "outputs": [],
   "source": [
    "# vp_to_seg = vp_to_seg.compute()"
   ]
  },
  {
   "cell_type": "code",
   "execution_count": 22,
   "id": "46883bd4-8696-47bf-9441-c8fa9c6a4497",
   "metadata": {},
   "outputs": [],
   "source": [
    "# vp_to_seg.columns"
   ]
  },
  {
   "cell_type": "code",
   "execution_count": 23,
   "id": "2da56431-24d9-4e39-afa9-d57565701213",
   "metadata": {},
   "outputs": [],
   "source": [
    "# 24_973_725\n",
    "# len(vp_to_seg)"
   ]
  },
  {
   "cell_type": "code",
   "execution_count": 24,
   "id": "3bc9df8a-7b01-4541-baf6-bdae50467a54",
   "metadata": {},
   "outputs": [],
   "source": [
    "# 11_350_051\n",
    "# vp_to_seg.vp_idx.nunique().compute()"
   ]
  },
  {
   "cell_type": "markdown",
   "id": "a99a6c14-31b1-46d1-b292-5544041b1f75",
   "metadata": {
    "tags": []
   },
   "source": [
    "#### Usable VPS\n",
    "* _gtfs_dataset_name\t\n",
    "* schedule_gtfs_dataset_key\n",
    "* trip_id\t\n",
    "* trip_instance_key\t\n",
    "* location_timestamp\t\n",
    "* location_timestamp_local\t\n",
    "* hour\t\n",
    "* gtfs_dataset_key\t\n",
    "* x\ty\t\n",
    "* vp_idx"
   ]
  },
  {
   "cell_type": "code",
   "execution_count": 25,
   "id": "760bc660-4101-4e47-a8f1-554b7c071f66",
   "metadata": {},
   "outputs": [],
   "source": [
    "usable_vp = dd.read_parquet(\n",
    "        f\"{SEGMENT_GCS}{USABLE_VP}_{analysis_date}\"\n",
    "    )"
   ]
  },
  {
   "cell_type": "code",
   "execution_count": 26,
   "id": "0ea87ecd-b7da-4c8d-84de-b24fd61da3fc",
   "metadata": {},
   "outputs": [],
   "source": [
    "usable_vp = usable_vp.drop_duplicates(subset = ['vp_idx'])"
   ]
  },
  {
   "cell_type": "code",
   "execution_count": 27,
   "id": "e9ed076e-7247-4e1c-99f9-083aae0114d0",
   "metadata": {},
   "outputs": [],
   "source": [
    "# 14_579_242\n",
    "# usable_vp.vp_idx.nunique().compute()"
   ]
  },
  {
   "cell_type": "code",
   "execution_count": 28,
   "id": "9f0323e2-8d55-4911-9b09-a8fa571bd0c9",
   "metadata": {},
   "outputs": [],
   "source": [
    "# 14,579,242\n",
    "# len(usable_vp)"
   ]
  },
  {
   "cell_type": "code",
   "execution_count": 29,
   "id": "13ae10f5-58b7-4a35-a018-c117416ae8ae",
   "metadata": {},
   "outputs": [],
   "source": [
    "# https://stackoverflow.com/questions/49139371/slicing-out-a-few-rows-from-a-dask-dataframe\n",
    "npart = round(len(usable_vp)/1_000_000)\n",
    "parted_usable_vp = usable_vp.repartition(npartitions=npart)"
   ]
  },
  {
   "cell_type": "code",
   "execution_count": 30,
   "id": "4e16465b-55fd-483c-aa2c-370d13148db0",
   "metadata": {},
   "outputs": [],
   "source": [
    "#npart"
   ]
  },
  {
   "cell_type": "code",
   "execution_count": 31,
   "id": "45e689db-dc67-4feb-98f1-960e8360f616",
   "metadata": {},
   "outputs": [],
   "source": [
    "#my_list = [n for n in range(0,npart)]"
   ]
  },
  {
   "cell_type": "code",
   "execution_count": 32,
   "id": "6f5cd835-63c2-4eba-84ac-041a1b1b19d8",
   "metadata": {},
   "outputs": [],
   "source": [
    "def load_usable_vp(analysis_date:str):\n",
    "    USABLE_VP = STOP_SEG_DICT[\"stage1\"]\n",
    "    usable_vp = dd.read_parquet(\n",
    "        f\"{SEGMENT_GCS}{USABLE_VP}_{analysis_date}\"\n",
    "    )\n",
    "    \n",
    "    usable_vp = usable_vp.drop_duplicates(subset = ['vp_idx'])\n",
    "    \n",
    "    return usable_vp"
   ]
  },
  {
   "cell_type": "code",
   "execution_count": 33,
   "id": "510be7ee-5f9d-4dc4-9457-458648d91689",
   "metadata": {},
   "outputs": [],
   "source": [
    "# usable_vp1 = parted_usable_vp.partitions[0]"
   ]
  },
  {
   "cell_type": "code",
   "execution_count": 34,
   "id": "34d2a229-8987-49dd-ae05-a067d2a0297c",
   "metadata": {},
   "outputs": [],
   "source": [
    "# usable_vp15 = parted_usable_vp.partitions[14]"
   ]
  },
  {
   "cell_type": "markdown",
   "id": "60a012ba-5378-4e25-aeca-e3768cbd65f2",
   "metadata": {},
   "source": [
    "#### Merge test2 with A1sjoin"
   ]
  },
  {
   "cell_type": "code",
   "execution_count": 35,
   "id": "3d958e76-c2e7-4ccb-bf26-94b90b71320e",
   "metadata": {},
   "outputs": [],
   "source": [
    "# outer_merge = dd.merge(usable_vp1, vp_to_seg, on = ['vp_idx'], how = 'outer', indicator = True)"
   ]
  },
  {
   "cell_type": "code",
   "execution_count": 36,
   "id": "3149d860-736c-4008-9608-c4841e4decce",
   "metadata": {},
   "outputs": [],
   "source": [
    "def percent_sjoin_pts(usable_vp: dd.DataFrame, sjoin_vps: dd.DataFrame):\n",
    "    start = datetime.datetime.now()\n",
    "    \n",
    "    # Use a left join because these are the vps that were not properly joined\n",
    "    merge1 = dd.merge(usable_vp, sjoin_vps, on = ['vp_idx'], how = 'left', indicator = True)\n",
    "    \n",
    "    # Drop duplicated vp idx\n",
    "    # Since same pt can attach to multiple segs\n",
    "    merge1 = merge1.drop_duplicates(subset = ['vp_idx'])\n",
    "\n",
    "    # First groupby, have to use observed = True because\n",
    "    # merge and gtfs dataset key are the categorical data type\n",
    "    agg1 = (merge1.groupby(['gtfs_dataset_key','trip_id','_merge'],observed=True,)\n",
    "                .agg({'trip_instance_key':'count'})\n",
    "                .reset_index()\n",
    "               )\n",
    "    \n",
    "    agg1 = agg1.compute() \n",
    "    \n",
    "    # Create new columns so the dataframe will be the way I like it\n",
    "    agg1['left_only'] = None\n",
    "    agg1['both'] = None\n",
    "    agg1['pts_not_in_sjoin'] = np.where(agg1._merge == 'left_only', agg1.trip_instance_key, agg1.left_only)\n",
    "    agg1['sjoin_pts'] = np.where(agg1._merge == 'both', agg1.trip_instance_key, agg1.both)\n",
    "   \n",
    "    # One row for each route/trip id\n",
    "    agg2 = (agg1\n",
    "            .groupby(['gtfs_dataset_key','trip_id'], observed=True, group_keys=False)\n",
    "            .agg({'pts_not_in_sjoin':'sum','sjoin_pts':'sum'})\n",
    "            .reset_index()\n",
    "           )\n",
    "    \n",
    "    print(f\"{len(agg1)-len(agg2)} rows dropped, now {len(agg2)} rows\")\n",
    "    \n",
    "    # Add some additional columns\n",
    "    agg2 = agg2.fillna(0)\n",
    "    agg2['all_pts'] = agg2.pts_not_in_sjoin + agg2.sjoin_pts\n",
    "    agg2['percent_of_pts'] = agg2.sjoin_pts/agg2.all_pts * 100\n",
    "    \n",
    "    # Filter out vpidx already found \n",
    "    new_usable_vps = merge1[['vp_idx']].drop_duplicates().compute()\n",
    "    new_usable_vps = new_usable_vps.vp_idx.to_list()\n",
    "    \n",
    "    end = datetime.datetime.now()\n",
    "    print(f\"Time lapsed: {end-start}\")\n",
    "\n",
    "    return new_usable_vps, agg2"
   ]
  },
  {
   "cell_type": "code",
   "execution_count": 37,
   "id": "fc2ebee0-3bca-4187-8cdf-6f6db5ecd679",
   "metadata": {
    "tags": []
   },
   "outputs": [],
   "source": [
    "# new_usable_vps, merge1 = percent_sjoin_pts(usable_vp1,vp_to_seg)"
   ]
  },
  {
   "cell_type": "code",
   "execution_count": 38,
   "id": "4a571961-d4a7-40e6-af99-abeadcf296a2",
   "metadata": {},
   "outputs": [],
   "source": [
    "# new_usable_vps2, merge2 = percent_sjoin_pts(usable_vp15,vp_to_seg)"
   ]
  },
  {
   "cell_type": "markdown",
   "id": "6bc1a08d-3a41-47da-9192-c2891c618ab7",
   "metadata": {},
   "source": [
    "#### Full merge\n",
    "* Not working as intended. Stops right at the final file."
   ]
  },
  {
   "cell_type": "code",
   "execution_count": 39,
   "id": "dc0a1eef-dc19-4a26-bb29-410e89ae750d",
   "metadata": {},
   "outputs": [],
   "source": [
    "# https://www.geeksforgeeks.org/python-reversing-list/\n",
    "def reverse(lst):\n",
    "    new_list = lst[::-1]\n",
    "    return new_list"
   ]
  },
  {
   "cell_type": "code",
   "execution_count": 40,
   "id": "88a919eb-cd8c-4adc-8ede-26bdbc26956a",
   "metadata": {},
   "outputs": [],
   "source": [
    "def percent_sjoin_all_pts(analysis_date:str):\n",
    "    \n",
    "    start = datetime.datetime.now()\n",
    "    print(start)\n",
    "    \n",
    "    # Load usable vp\n",
    "    usable_vps_og = load_usable_vp(analysis_date)\n",
    "    \n",
    "    # Load sjoin\n",
    "    sjoin_og = load_sjoin(analysis_date)\n",
    "    \n",
    "    # Break it apart\n",
    "    # https://stackoverflow.com/questions/49139371/slicing-out-a-few-rows-from-a-dask-dataframe\n",
    "    npart = round(len(usable_vps_og)/500_000)\n",
    "    usable_vps_og = usable_vps_og.repartition(npartitions=npart)\n",
    "    my_list = [n for n in range(0,npart)]\n",
    "    \n",
    "    for i in reverse(my_list):\n",
    "        my_results = []\n",
    "        try:\n",
    "            sjoin_og = sjoin_og[~sjoin_og.vp_idx.isin(remaining_vp_idx_list)].reset_index(drop = True)\n",
    "        except:\n",
    "            sjoin_og\n",
    "            \n",
    "        # Apply function\n",
    "        remaining_vp_idx_list, results = percent_sjoin_pts(usable_vps_og.partitions[i], sjoin_og)\n",
    "        my_results.append(results)\n",
    "        \n",
    "        # Save\n",
    "        results.to_parquet(f\"{SEGMENT_GCS}ah_testing/part_{i}.parquet\")\n",
    "        print(f\"done with {i}\")\n",
    "        \n",
    "    \n",
    "    final = pd.concat(my_results, axis=0).reset_index(drop=True)\n",
    "    end = datetime.datetime.now()\n",
    "    print(f\"Time lapsed: {end-start}\")\n",
    "    return final\n",
    "        "
   ]
  },
  {
   "cell_type": "code",
   "execution_count": 41,
   "id": "3a372a8c-08d4-431d-bf43-e76ab6710ae4",
   "metadata": {
    "scrolled": true,
    "tags": []
   },
   "outputs": [],
   "source": [
    "# test = percent_sjoin_all_pts(analysis_date)"
   ]
  },
  {
   "cell_type": "code",
   "execution_count": 42,
   "id": "2e6c1744-fb92-479a-a99e-4933497d327f",
   "metadata": {},
   "outputs": [],
   "source": [
    "def find_files(phrase_to_find: str, file_path:str) -> list:\n",
    "    \"\"\"\n",
    "    Grab a list of files that contain the\n",
    "    phrase inputted. \n",
    "    \"\"\"\n",
    "    # Create a list of all the files in my folder\n",
    "    all_files_in_folder = fs.ls(file_path)\n",
    "\n",
    "    # Grab only files with the string \"Verizon_no_coverage_\"\n",
    "    my_files = [i for i in all_files_in_folder if phrase_to_find in i]\n",
    "\n",
    "    # String to add to read the files\n",
    "    my_string = \"gs://\"\n",
    "    my_files = [my_string + i for i in my_files]\n",
    "    \n",
    "    # Extract digit of parquet \n",
    "    return my_files\n"
   ]
  },
  {
   "cell_type": "code",
   "execution_count": 43,
   "id": "ca9e1edc-11ac-48df-8da5-2e64e6dc1a93",
   "metadata": {},
   "outputs": [],
   "source": [
    "file_names = find_files('part',f\"{SEGMENT_GCS}ah_testing/\")"
   ]
  },
  {
   "cell_type": "code",
   "execution_count": 44,
   "id": "070e8f42-52ae-4be1-a3fa-b1e2be2d62f7",
   "metadata": {},
   "outputs": [],
   "source": [
    "all_file_numbers = []"
   ]
  },
  {
   "cell_type": "code",
   "execution_count": 45,
   "id": "f551e0f3-b861-49c7-8514-4d0cc8f1a892",
   "metadata": {},
   "outputs": [],
   "source": [
    "for file in file_names:\n",
    "    # https://stackoverflow.com/questions/11339210/how-to-get-integer-values-from-a-string-in-python\n",
    "        file_number = \"\".join(i for i in file if i.isdigit())\n",
    "        all_file_numbers.append(file_number)\n",
    "      "
   ]
  },
  {
   "cell_type": "code",
   "execution_count": 46,
   "id": "87da9e1e-b5bd-41e2-8e5b-b1600c380f0b",
   "metadata": {},
   "outputs": [],
   "source": [
    "dataframes_list = []"
   ]
  },
  {
   "cell_type": "code",
   "execution_count": 47,
   "id": "7df37178-4f14-4214-9939-a68e03bdef57",
   "metadata": {},
   "outputs": [],
   "source": [
    "#for i in all_file_numbers:\n",
    "    #temp_df = dd.read_parquet(f\"{SEGMENT_GCS}ah_testing/part_{i}.parquet\")\n",
    "    #dataframes_list.append(temp_df)"
   ]
  },
  {
   "cell_type": "code",
   "execution_count": 48,
   "id": "65d9f1fd-1ae3-4a61-884e-c3b855b37462",
   "metadata": {},
   "outputs": [],
   "source": [
    "# final = dd.concat(dataframes_list, axis=0).reset_index(drop=True)"
   ]
  },
  {
   "cell_type": "code",
   "execution_count": 49,
   "id": "b62a8b71-2cb0-4d8a-baa6-5dd1a71b7c2e",
   "metadata": {},
   "outputs": [],
   "source": [
    "# final.head()"
   ]
  },
  {
   "cell_type": "code",
   "execution_count": 50,
   "id": "97557c50-4f4a-40f8-a87b-3aefcb0c4b12",
   "metadata": {},
   "outputs": [],
   "source": [
    "# final.shape"
   ]
  },
  {
   "cell_type": "code",
   "execution_count": 51,
   "id": "1b32392f-f076-4f79-9282-1f3eecca0ec4",
   "metadata": {},
   "outputs": [],
   "source": [
    "# final_less_than_100 = final[final.percent_of_pts != 100].reset_index(drop = True)"
   ]
  },
  {
   "cell_type": "code",
   "execution_count": 52,
   "id": "e99cbd07-4f3a-4ab7-9aec-efb6c3db2a4f",
   "metadata": {},
   "outputs": [],
   "source": [
    "# final_less_than_100.shape"
   ]
  },
  {
   "cell_type": "code",
   "execution_count": 53,
   "id": "e6cbb763-c6a0-4375-866e-8d292f2bd74d",
   "metadata": {},
   "outputs": [],
   "source": [
    "# final_less_than_100.percent_of_pts.describe()"
   ]
  },
  {
   "cell_type": "code",
   "execution_count": 54,
   "id": "b665601b-b61e-4780-a46f-a3f69a362319",
   "metadata": {},
   "outputs": [],
   "source": [
    "# final = pd.merge(final , crosswalk, on = ['trip_id','gtfs_dataset_key'], how = 'left')"
   ]
  },
  {
   "cell_type": "code",
   "execution_count": 55,
   "id": "d48aac96-f0af-4d32-8855-b424f4d9335e",
   "metadata": {},
   "outputs": [],
   "source": [
    "# final.percent_of_pts.describe()"
   ]
  },
  {
   "cell_type": "markdown",
   "id": "a9092c5a-4fc2-40a4-bbdc-35d85c6de477",
   "metadata": {
    "tags": []
   },
   "source": [
    "#### Check for missing operators/trips"
   ]
  },
  {
   "cell_type": "code",
   "execution_count": 56,
   "id": "be69957f-92fe-4526-a240-96899146a58c",
   "metadata": {},
   "outputs": [],
   "source": [
    "# final.gtfs_dataset_key.nunique(), final.trip_id.nunique()"
   ]
  },
  {
   "cell_type": "code",
   "execution_count": 57,
   "id": "b3750264-b35c-4a57-a015-e1dc330759ef",
   "metadata": {},
   "outputs": [],
   "source": [
    "usable_vp = usable_vp.compute()"
   ]
  },
  {
   "cell_type": "code",
   "execution_count": 58,
   "id": "2cf5b62f-a52e-49e1-a67a-86eb9b83003c",
   "metadata": {},
   "outputs": [
    {
     "data": {
      "text/plain": [
       "(89, 70978)"
      ]
     },
     "execution_count": 58,
     "metadata": {},
     "output_type": "execute_result"
    }
   ],
   "source": [
    "usable_vp.gtfs_dataset_key.nunique(), usable_vp.trip_id.nunique()"
   ]
  },
  {
   "cell_type": "code",
   "execution_count": 59,
   "id": "8024e468-dbf8-4396-b993-25e2e633aa1d",
   "metadata": {
    "scrolled": true,
    "tags": []
   },
   "outputs": [],
   "source": [
    "# og = set(usable_vp.trip_id.unique().tolist())\n",
    "# agg = set(final.trip_id.unique().tolist())\n"
   ]
  },
  {
   "cell_type": "code",
   "execution_count": 60,
   "id": "d88bd198-45c4-498d-8d44-7e2f0a425aa7",
   "metadata": {},
   "outputs": [],
   "source": [
    "# len(og-agg)"
   ]
  },
  {
   "cell_type": "markdown",
   "id": "4526c987-ce6f-4a90-9d27-46bcdc5116ab",
   "metadata": {
    "tags": []
   },
   "source": [
    "### Fix 2 - Keep timestamps nearby if there aren't enough points\n",
    "* Use the flagged_df to see which routes have a very low % of points.\n",
    "* For those routes without enough points, find the timestamps a few minutes around. \n",
    "* How do I know which point is wrong though??\n",
    "* Can use stage3 dataframe, since those have something wrong with them..."
   ]
  },
  {
   "cell_type": "code",
   "execution_count": 61,
   "id": "d3938de8-7386-4689-b84c-44ebf816d746",
   "metadata": {},
   "outputs": [],
   "source": [
    "def route_most_populated(flagged:pd.DataFrame)-> pd.DataFrame:\n",
    "    \"\"\"\n",
    "    For each route, the \"quality\" of vehicle positions varies by trip.\n",
    "    Find the trip with the highest percentage of \"ok\" rows. Ok is defined\n",
    "    as a row with non-zero values populated for meters_elapsed and \n",
    "    sec_elapsed\n",
    "    \n",
    "    Args:\n",
    "        flagged: df from categorize_meters_speeds_pandas()\n",
    "    \"\"\"\n",
    "    # First aggregation to count number of stops by flag\n",
    "    agg1 = (flagged\n",
    "        .groupby(['gtfs_dataset_key','shape_array_key','trip_id','flag'])\n",
    "        .agg({'stop_sequence':'nunique'})\n",
    "        .rename(columns = {'stop_sequence':'number_of_rows'})\n",
    "        .reset_index()\n",
    "       )\n",
    "    \n",
    "    # Create separate cols for the number of rows that are ok and rows that are division by 0\n",
    "    # https://stackoverflow.com/questions/49161120/set-value-of-one-pandas-column-based-on-value-in-another-column\n",
    "    agg1['division_by_zero'] = None\n",
    "    agg1['ok'] = None\n",
    "    agg1['division_by_zero'] = np.where(agg1.flag == 'division by 0', agg1.number_of_rows, agg1.division_by_zero)\n",
    "    agg1['ok'] = np.where(agg1.flag != 'division by 0', agg1.number_of_rows, agg1.ok)\n",
    "    agg1['division_by_zero'] = agg1['division_by_zero'].fillna(0)\n",
    "    agg1['ok'] = agg1['ok'].fillna(0)\n",
    "    \n",
    "    # Aggregate again to simplify the df \n",
    "    agg1 = agg1.drop(columns = ['flag','number_of_rows'])\n",
    "    agg2 = (agg1\n",
    "            .groupby(['gtfs_dataset_key','shape_array_key','trip_id'])\n",
    "            .agg({'division_by_zero':'sum','ok':'sum'})\n",
    "            .reset_index()\n",
    "           )\n",
    "    \n",
    "    # Find total rows for that trip\n",
    "    agg2['total_rows'] = agg2.division_by_zero + agg2.ok\n",
    "    \n",
    "    # Find total % of rows that are ok\n",
    "    agg2['percent_of_ok_rows'] = (agg2.ok/agg2.total_rows * 100)\n",
    "    \n",
    "    return agg2"
   ]
  },
  {
   "cell_type": "code",
   "execution_count": 62,
   "id": "85b84dbf-0c00-4b89-b9ac-80c736c10763",
   "metadata": {},
   "outputs": [],
   "source": [
    "trips_more_points = route_most_populated(flagged)"
   ]
  },
  {
   "cell_type": "code",
   "execution_count": 63,
   "id": "f959fe00-f738-403f-8c36-0e12af1eab99",
   "metadata": {},
   "outputs": [
    {
     "data": {
      "text/plain": [
       "(70244, 7)"
      ]
     },
     "execution_count": 63,
     "metadata": {},
     "output_type": "execute_result"
    }
   ],
   "source": [
    "trips_more_points.shape"
   ]
  },
  {
   "cell_type": "code",
   "execution_count": 64,
   "id": "0d1755b7-591e-4ccf-8710-505c7bc69532",
   "metadata": {},
   "outputs": [
    {
     "data": {
      "text/html": [
       "<div>\n",
       "<style scoped>\n",
       "    .dataframe tbody tr th:only-of-type {\n",
       "        vertical-align: middle;\n",
       "    }\n",
       "\n",
       "    .dataframe tbody tr th {\n",
       "        vertical-align: top;\n",
       "    }\n",
       "\n",
       "    .dataframe thead th {\n",
       "        text-align: right;\n",
       "    }\n",
       "</style>\n",
       "<table border=\"1\" class=\"dataframe\">\n",
       "  <thead>\n",
       "    <tr style=\"text-align: right;\">\n",
       "      <th></th>\n",
       "      <th>gtfs_dataset_key</th>\n",
       "      <th>shape_array_key</th>\n",
       "      <th>trip_id</th>\n",
       "      <th>division_by_zero</th>\n",
       "      <th>ok</th>\n",
       "      <th>total_rows</th>\n",
       "      <th>percent_of_ok_rows</th>\n",
       "    </tr>\n",
       "  </thead>\n",
       "  <tbody>\n",
       "    <tr>\n",
       "      <th>0</th>\n",
       "      <td>00accf770009aafd5dc103ff2eeddb37</td>\n",
       "      <td>01757ff15f8d471eecfe9cf0bec4d039</td>\n",
       "      <td>t_5634867_b_80735_tn_0</td>\n",
       "      <td>9</td>\n",
       "      <td>62</td>\n",
       "      <td>71</td>\n",
       "      <td>87.32</td>\n",
       "    </tr>\n",
       "    <tr>\n",
       "      <th>1</th>\n",
       "      <td>00accf770009aafd5dc103ff2eeddb37</td>\n",
       "      <td>01757ff15f8d471eecfe9cf0bec4d039</td>\n",
       "      <td>t_5634886_b_80735_tn_0</td>\n",
       "      <td>0</td>\n",
       "      <td>12</td>\n",
       "      <td>12</td>\n",
       "      <td>100.00</td>\n",
       "    </tr>\n",
       "    <tr>\n",
       "      <th>2</th>\n",
       "      <td>00accf770009aafd5dc103ff2eeddb37</td>\n",
       "      <td>01757ff15f8d471eecfe9cf0bec4d039</td>\n",
       "      <td>t_5635016_b_80735_tn_0</td>\n",
       "      <td>10</td>\n",
       "      <td>70</td>\n",
       "      <td>80</td>\n",
       "      <td>87.50</td>\n",
       "    </tr>\n",
       "    <tr>\n",
       "      <th>3</th>\n",
       "      <td>00accf770009aafd5dc103ff2eeddb37</td>\n",
       "      <td>01757ff15f8d471eecfe9cf0bec4d039</td>\n",
       "      <td>t_5635109_b_80735_tn_0</td>\n",
       "      <td>5</td>\n",
       "      <td>65</td>\n",
       "      <td>70</td>\n",
       "      <td>92.86</td>\n",
       "    </tr>\n",
       "    <tr>\n",
       "      <th>4</th>\n",
       "      <td>00accf770009aafd5dc103ff2eeddb37</td>\n",
       "      <td>01757ff15f8d471eecfe9cf0bec4d039</td>\n",
       "      <td>t_5635110_b_80735_tn_0</td>\n",
       "      <td>11</td>\n",
       "      <td>69</td>\n",
       "      <td>80</td>\n",
       "      <td>86.25</td>\n",
       "    </tr>\n",
       "  </tbody>\n",
       "</table>\n",
       "</div>"
      ],
      "text/plain": [
       "                   gtfs_dataset_key                   shape_array_key  \\\n",
       "0  00accf770009aafd5dc103ff2eeddb37  01757ff15f8d471eecfe9cf0bec4d039   \n",
       "1  00accf770009aafd5dc103ff2eeddb37  01757ff15f8d471eecfe9cf0bec4d039   \n",
       "2  00accf770009aafd5dc103ff2eeddb37  01757ff15f8d471eecfe9cf0bec4d039   \n",
       "3  00accf770009aafd5dc103ff2eeddb37  01757ff15f8d471eecfe9cf0bec4d039   \n",
       "4  00accf770009aafd5dc103ff2eeddb37  01757ff15f8d471eecfe9cf0bec4d039   \n",
       "\n",
       "                  trip_id  division_by_zero  ok  total_rows  \\\n",
       "0  t_5634867_b_80735_tn_0                 9  62          71   \n",
       "1  t_5634886_b_80735_tn_0                 0  12          12   \n",
       "2  t_5635016_b_80735_tn_0                10  70          80   \n",
       "3  t_5635109_b_80735_tn_0                 5  65          70   \n",
       "4  t_5635110_b_80735_tn_0                11  69          80   \n",
       "\n",
       "   percent_of_ok_rows  \n",
       "0               87.32  \n",
       "1              100.00  \n",
       "2               87.50  \n",
       "3               92.86  \n",
       "4               86.25  "
      ]
     },
     "execution_count": 64,
     "metadata": {},
     "output_type": "execute_result"
    }
   ],
   "source": [
    "trips_more_points.head()"
   ]
  },
  {
   "cell_type": "code",
   "execution_count": 65,
   "id": "30ed31e7-3081-4d2c-a73b-a634f3104827",
   "metadata": {},
   "outputs": [],
   "source": [
    "average_per_route = (trips_more_points\n",
    "                     .groupby(['gtfs_dataset_key','shape_array_key'])\n",
    "                     .agg({'percent_of_ok_rows':'mean'}).reset_index()\n",
    "                     .rename(columns = {'percent_of_ok_rows':'avg_percent_ok_rows'})\n",
    "                    )"
   ]
  },
  {
   "cell_type": "code",
   "execution_count": 66,
   "id": "3a1a996d-fd84-43f5-a028-e071838f7050",
   "metadata": {},
   "outputs": [
    {
     "data": {
      "text/plain": [
       "(4114, 3)"
      ]
     },
     "execution_count": 66,
     "metadata": {},
     "output_type": "execute_result"
    }
   ],
   "source": [
    "average_per_route.shape"
   ]
  },
  {
   "cell_type": "code",
   "execution_count": 67,
   "id": "c9e2e6ac-81c5-45fe-9fa5-5941c04c58e6",
   "metadata": {},
   "outputs": [],
   "source": [
    "# merge\n",
    "merge1 = pd.merge(trips_more_points,average_per_route, on =['gtfs_dataset_key','shape_array_key'], how = \"inner\") "
   ]
  },
  {
   "cell_type": "code",
   "execution_count": 68,
   "id": "ca2573a4-c2d4-4b51-9183-af95b30eeac4",
   "metadata": {},
   "outputs": [
    {
     "data": {
      "text/plain": [
       "46181"
      ]
     },
     "execution_count": 68,
     "metadata": {},
     "output_type": "execute_result"
    }
   ],
   "source": [
    "len(merge1[merge1.percent_of_ok_rows != 100])"
   ]
  },
  {
   "cell_type": "code",
   "execution_count": 69,
   "id": "e6de4441-ce1b-4a20-8e84-2f222aae1ab8",
   "metadata": {},
   "outputs": [],
   "source": [
    "# https://stackoverflow.com/questions/63445182/how-to-compare-two-columns-using-pandas\n",
    "# maybe I shouldn't filter this?? find all rows that aren't 100.\n",
    "comparison_column = np.where(merge1[\"percent_of_ok_rows\"] >= merge1[\"avg_percent_ok_rows\"],0,1)"
   ]
  },
  {
   "cell_type": "code",
   "execution_count": 70,
   "id": "2f7189e5-14da-4e2b-8460-604391ac62c7",
   "metadata": {},
   "outputs": [],
   "source": [
    "merge1['comparison'] = comparison_column"
   ]
  },
  {
   "cell_type": "code",
   "execution_count": 71,
   "id": "877af8f2-4283-4e80-b887-69d1e47c9a62",
   "metadata": {},
   "outputs": [],
   "source": [
    "rows_fix2 = merge1[merge1.comparison == 1].reset_index(drop = True)"
   ]
  },
  {
   "cell_type": "code",
   "execution_count": 72,
   "id": "22286888-b010-45f4-9f6c-703c5aaa7565",
   "metadata": {},
   "outputs": [
    {
     "data": {
      "text/plain": [
       "(22558, 9)"
      ]
     },
     "execution_count": 72,
     "metadata": {},
     "output_type": "execute_result"
    }
   ],
   "source": [
    "rows_fix2.shape"
   ]
  },
  {
   "cell_type": "code",
   "execution_count": 73,
   "id": "036c3262-4361-4207-866a-85f615663d34",
   "metadata": {},
   "outputs": [],
   "source": [
    "fix2_routes = list(rows_fix2.shape_array_key.unique())"
   ]
  },
  {
   "cell_type": "code",
   "execution_count": 74,
   "id": "6d2f713d-abe2-45ef-9380-2e4260e86619",
   "metadata": {},
   "outputs": [],
   "source": [
    "fix2_trips = list(rows_fix2.trip_id.unique())"
   ]
  },
  {
   "cell_type": "code",
   "execution_count": 75,
   "id": "328dbec1-e941-4540-9a82-def6e1ca076e",
   "metadata": {},
   "outputs": [],
   "source": [
    "fix2_keys = list(rows_fix2.gtfs_dataset_key.unique())"
   ]
  },
  {
   "cell_type": "code",
   "execution_count": 76,
   "id": "2b47b1cb-fb69-4ffd-a69f-23730b79bf59",
   "metadata": {},
   "outputs": [
    {
     "data": {
      "text/plain": [
       "(2565, 21739, 61)"
      ]
     },
     "execution_count": 76,
     "metadata": {},
     "output_type": "execute_result"
    }
   ],
   "source": [
    "len(fix2_routes), len(fix2_trips), len(fix2_keys)"
   ]
  },
  {
   "cell_type": "code",
   "execution_count": 77,
   "id": "4954dea3-b37b-46b8-b60f-a4a31dfaa5be",
   "metadata": {},
   "outputs": [
    {
     "data": {
      "text/html": [
       "<div>\n",
       "<style scoped>\n",
       "    .dataframe tbody tr th:only-of-type {\n",
       "        vertical-align: middle;\n",
       "    }\n",
       "\n",
       "    .dataframe tbody tr th {\n",
       "        vertical-align: top;\n",
       "    }\n",
       "\n",
       "    .dataframe thead th {\n",
       "        text-align: right;\n",
       "    }\n",
       "</style>\n",
       "<table border=\"1\" class=\"dataframe\">\n",
       "  <thead>\n",
       "    <tr style=\"text-align: right;\">\n",
       "      <th></th>\n",
       "      <th>gtfs_dataset_key</th>\n",
       "      <th>shape_array_key</th>\n",
       "      <th>trip_id</th>\n",
       "      <th>division_by_zero</th>\n",
       "      <th>ok</th>\n",
       "      <th>total_rows</th>\n",
       "      <th>percent_of_ok_rows</th>\n",
       "      <th>avg_percent_ok_rows</th>\n",
       "      <th>comparison</th>\n",
       "    </tr>\n",
       "  </thead>\n",
       "  <tbody>\n",
       "    <tr>\n",
       "      <th>1421</th>\n",
       "      <td>2f15f573b6bb4c856fd31175aa24a342</td>\n",
       "      <td>5523d85a07e35f44a543e32d346a5a45</td>\n",
       "      <td>40001</td>\n",
       "      <td>2</td>\n",
       "      <td>22</td>\n",
       "      <td>24</td>\n",
       "      <td>91.67</td>\n",
       "      <td>95.08</td>\n",
       "      <td>1</td>\n",
       "    </tr>\n",
       "    <tr>\n",
       "      <th>2712</th>\n",
       "      <td>4340d7ccf61d3a169068ffef1e310daf</td>\n",
       "      <td>b4840044dca249c22e9ea8b75768e9f5</td>\n",
       "      <td>t33E-b10-sl2</td>\n",
       "      <td>4</td>\n",
       "      <td>11</td>\n",
       "      <td>15</td>\n",
       "      <td>73.33</td>\n",
       "      <td>81.68</td>\n",
       "      <td>1</td>\n",
       "    </tr>\n",
       "    <tr>\n",
       "      <th>13256</th>\n",
       "      <td>a4f6fd5552107e05fe9743ac7cce2c55</td>\n",
       "      <td>92ae9763f0123204d152619f1d16252a</td>\n",
       "      <td>17100248</td>\n",
       "      <td>11</td>\n",
       "      <td>30</td>\n",
       "      <td>41</td>\n",
       "      <td>73.17</td>\n",
       "      <td>74.64</td>\n",
       "      <td>1</td>\n",
       "    </tr>\n",
       "    <tr>\n",
       "      <th>8086</th>\n",
       "      <td>65d9589130415c685b89f4f7c2d8bd7e</td>\n",
       "      <td>f38f13e9bfc2c3b4e07469ac92a6d841</td>\n",
       "      <td>10125001521233-JUNE23</td>\n",
       "      <td>24</td>\n",
       "      <td>26</td>\n",
       "      <td>50</td>\n",
       "      <td>52.00</td>\n",
       "      <td>81.55</td>\n",
       "      <td>1</td>\n",
       "    </tr>\n",
       "    <tr>\n",
       "      <th>12319</th>\n",
       "      <td>a4f6fd5552107e05fe9743ac7cce2c55</td>\n",
       "      <td>51cb4f5382fedaca0065818f12eb77ba</td>\n",
       "      <td>17073374</td>\n",
       "      <td>9</td>\n",
       "      <td>9</td>\n",
       "      <td>18</td>\n",
       "      <td>50.00</td>\n",
       "      <td>51.33</td>\n",
       "      <td>1</td>\n",
       "    </tr>\n",
       "  </tbody>\n",
       "</table>\n",
       "</div>"
      ],
      "text/plain": [
       "                       gtfs_dataset_key                   shape_array_key  \\\n",
       "1421   2f15f573b6bb4c856fd31175aa24a342  5523d85a07e35f44a543e32d346a5a45   \n",
       "2712   4340d7ccf61d3a169068ffef1e310daf  b4840044dca249c22e9ea8b75768e9f5   \n",
       "13256  a4f6fd5552107e05fe9743ac7cce2c55  92ae9763f0123204d152619f1d16252a   \n",
       "8086   65d9589130415c685b89f4f7c2d8bd7e  f38f13e9bfc2c3b4e07469ac92a6d841   \n",
       "12319  a4f6fd5552107e05fe9743ac7cce2c55  51cb4f5382fedaca0065818f12eb77ba   \n",
       "\n",
       "                     trip_id  division_by_zero  ok  total_rows  \\\n",
       "1421                   40001                 2  22          24   \n",
       "2712            t33E-b10-sl2                 4  11          15   \n",
       "13256               17100248                11  30          41   \n",
       "8086   10125001521233-JUNE23                24  26          50   \n",
       "12319               17073374                 9   9          18   \n",
       "\n",
       "       percent_of_ok_rows  avg_percent_ok_rows  comparison  \n",
       "1421                91.67                95.08           1  \n",
       "2712                73.33                81.68           1  \n",
       "13256               73.17                74.64           1  \n",
       "8086                52.00                81.55           1  \n",
       "12319               50.00                51.33           1  "
      ]
     },
     "execution_count": 77,
     "metadata": {},
     "output_type": "execute_result"
    }
   ],
   "source": [
    "rows_fix2.sample(5)"
   ]
  },
  {
   "cell_type": "code",
   "execution_count": 78,
   "id": "843faf4f-a945-48ac-8527-0a986bd6a7fb",
   "metadata": {},
   "outputs": [
    {
     "data": {
      "text/plain": [
       "(14579242, 11)"
      ]
     },
     "execution_count": 78,
     "metadata": {},
     "output_type": "execute_result"
    }
   ],
   "source": [
    "# Find first and last point or use vp usable??\n",
    "usable_vp.shape"
   ]
  },
  {
   "cell_type": "markdown",
   "id": "7d1f24d7-4323-4041-a1e0-d4fb353c172a",
   "metadata": {},
   "source": [
    "#### Filter the trips that need to be fixed."
   ]
  },
  {
   "cell_type": "code",
   "execution_count": 79,
   "id": "f0c62b68-ad9b-4944-9deb-fa1322119164",
   "metadata": {},
   "outputs": [],
   "source": [
    "usable_vp2 = usable_vp[(usable_vp.trip_id.isin(fix2_trips))].reset_index(drop = True)"
   ]
  },
  {
   "cell_type": "code",
   "execution_count": 80,
   "id": "5481bbf5-5e7a-435f-a176-c3bbddd39b0c",
   "metadata": {},
   "outputs": [],
   "source": [
    "divide_by_zero2 = divide_by_zero[divide_by_zero.trip_id.isin(fix2_trips)].reset_index(drop = True)"
   ]
  },
  {
   "cell_type": "code",
   "execution_count": 90,
   "id": "d350b0ed-63a1-4a0a-8be9-21af8f98d399",
   "metadata": {},
   "outputs": [
    {
     "data": {
      "text/plain": [
       "(21739, 21739)"
      ]
     },
     "execution_count": 90,
     "metadata": {},
     "output_type": "execute_result"
    }
   ],
   "source": [
    "usable_vp2.trip_id.nunique(), divide_by_zero2.trip_id.nunique()"
   ]
  },
  {
   "cell_type": "code",
   "execution_count": 91,
   "id": "8b6a3ff1-b417-471c-9d7e-1d758502e1e9",
   "metadata": {},
   "outputs": [
    {
     "data": {
      "text/plain": [
       "(185760, 4062461)"
      ]
     },
     "execution_count": 91,
     "metadata": {},
     "output_type": "execute_result"
    }
   ],
   "source": [
    "len(divide_by_zero2), len(usable_vp2)"
   ]
  },
  {
   "cell_type": "markdown",
   "id": "df413ea5-d5c2-4260-b77d-24b940e829bf",
   "metadata": {},
   "source": [
    "#### Test with one trip\n",
    "* Mapped in example 1\n",
    "* Duplicate the next that has a changed location within reason"
   ]
  },
  {
   "cell_type": "code",
   "execution_count": 82,
   "id": "eb070f8a-75ef-4620-b63f-855ffd16cebe",
   "metadata": {},
   "outputs": [],
   "source": [
    "test_trip = \"t120-sl9-p84-r1A\""
   ]
  },
  {
   "cell_type": "code",
   "execution_count": 89,
   "id": "7e4c3692-c7b3-4392-8b1d-d402358cd1e1",
   "metadata": {},
   "outputs": [],
   "source": [
    "test_shape = \"21aedea4c0d05c570e042903cc62c9cf\""
   ]
  },
  {
   "cell_type": "code",
   "execution_count": 84,
   "id": "9f831e3a-f362-48c4-ad73-4c379e6cec3c",
   "metadata": {},
   "outputs": [
    {
     "data": {
      "text/html": [
       "<div>\n",
       "<style scoped>\n",
       "    .dataframe tbody tr th:only-of-type {\n",
       "        vertical-align: middle;\n",
       "    }\n",
       "\n",
       "    .dataframe tbody tr th {\n",
       "        vertical-align: top;\n",
       "    }\n",
       "\n",
       "    .dataframe thead th {\n",
       "        text-align: right;\n",
       "    }\n",
       "</style>\n",
       "<table border=\"1\" class=\"dataframe\">\n",
       "  <thead>\n",
       "    <tr style=\"text-align: right;\">\n",
       "      <th></th>\n",
       "      <th>gtfs_dataset_key</th>\n",
       "      <th>shape_array_key</th>\n",
       "      <th>trip_id</th>\n",
       "      <th>division_by_zero</th>\n",
       "      <th>ok</th>\n",
       "      <th>total_rows</th>\n",
       "      <th>percent_of_ok_rows</th>\n",
       "      <th>avg_percent_ok_rows</th>\n",
       "      <th>comparison</th>\n",
       "    </tr>\n",
       "  </thead>\n",
       "  <tbody>\n",
       "    <tr>\n",
       "      <th>16335</th>\n",
       "      <td>bc21582ac1ad2b7de0647dfd5b76f67c</td>\n",
       "      <td>21aedea4c0d05c570e042903cc62c9cf</td>\n",
       "      <td>t120-sl9-p84-r1A</td>\n",
       "      <td>3</td>\n",
       "      <td>10</td>\n",
       "      <td>13</td>\n",
       "      <td>76.92</td>\n",
       "      <td>86.16</td>\n",
       "      <td>1</td>\n",
       "    </tr>\n",
       "  </tbody>\n",
       "</table>\n",
       "</div>"
      ],
      "text/plain": [
       "                       gtfs_dataset_key                   shape_array_key  \\\n",
       "16335  bc21582ac1ad2b7de0647dfd5b76f67c  21aedea4c0d05c570e042903cc62c9cf   \n",
       "\n",
       "                trip_id  division_by_zero  ok  total_rows  percent_of_ok_rows  \\\n",
       "16335  t120-sl9-p84-r1A                 3  10          13               76.92   \n",
       "\n",
       "       avg_percent_ok_rows  comparison  \n",
       "16335                86.16           1  "
      ]
     },
     "execution_count": 84,
     "metadata": {},
     "output_type": "execute_result"
    }
   ],
   "source": [
    "rows_fix2[rows_fix2.trip_id == test_trip]"
   ]
  },
  {
   "cell_type": "code",
   "execution_count": 85,
   "id": "1d5cf020-3702-4a16-b559-dbc9dc5e65d3",
   "metadata": {},
   "outputs": [],
   "source": [
    "test_divide_zero = divide_by_zero2[divide_by_zero2.trip_id == test_trip]"
   ]
  },
  {
   "cell_type": "code",
   "execution_count": 86,
   "id": "68dedba4-ecc8-4434-b0dd-4f572c731f22",
   "metadata": {},
   "outputs": [],
   "source": [
    "test_zero_stop_seq = list(test_divide_zero.stop_sequence.unique())"
   ]
  },
  {
   "cell_type": "code",
   "execution_count": 115,
   "id": "5825c395-8a4d-4e14-ac25-6a9c567cd4ac",
   "metadata": {},
   "outputs": [],
   "source": [
    "test_flagged = flagged[flagged.trip_id == test_trip]"
   ]
  },
  {
   "cell_type": "code",
   "execution_count": 137,
   "id": "579e615b-407d-4016-8c8d-7b679c813164",
   "metadata": {},
   "outputs": [
    {
     "data": {
      "text/plain": [
       "ok                  7\n",
       "division by 0       3\n",
       "meters too low      2\n",
       "seconds too high    1\n",
       "Name: flag, dtype: int64"
      ]
     },
     "execution_count": 137,
     "metadata": {},
     "output_type": "execute_result"
    }
   ],
   "source": [
    "test_flagged.flag.value_counts()"
   ]
  },
  {
   "cell_type": "code",
   "execution_count": 142,
   "id": "aa07de7a-53fa-4130-9354-5b90b4b8cf29",
   "metadata": {},
   "outputs": [],
   "source": [
    "seq_to_fix = test_flagged[test_flagged.flag == 'division by 0'][['stop_sequence']].drop_duplicates()"
   ]
  },
  {
   "cell_type": "code",
   "execution_count": 139,
   "id": "c2c426c7-abc4-46cd-8ce3-a241709bb18a",
   "metadata": {},
   "outputs": [
    {
     "data": {
      "text/html": [
       "<div>\n",
       "<style scoped>\n",
       "    .dataframe tbody tr th:only-of-type {\n",
       "        vertical-align: middle;\n",
       "    }\n",
       "\n",
       "    .dataframe tbody tr th {\n",
       "        vertical-align: top;\n",
       "    }\n",
       "\n",
       "    .dataframe thead th {\n",
       "        text-align: right;\n",
       "    }\n",
       "</style>\n",
       "<table border=\"1\" class=\"dataframe\">\n",
       "  <thead>\n",
       "    <tr style=\"text-align: right;\">\n",
       "      <th></th>\n",
       "      <th>stop_sequence</th>\n",
       "    </tr>\n",
       "  </thead>\n",
       "  <tbody>\n",
       "    <tr>\n",
       "      <th>311049</th>\n",
       "      <td>200</td>\n",
       "    </tr>\n",
       "    <tr>\n",
       "      <th>311073</th>\n",
       "      <td>270</td>\n",
       "    </tr>\n",
       "    <tr>\n",
       "      <th>311096</th>\n",
       "      <td>360</td>\n",
       "    </tr>\n",
       "  </tbody>\n",
       "</table>\n",
       "</div>"
      ],
      "text/plain": [
       "        stop_sequence\n",
       "311049            200\n",
       "311073            270\n",
       "311096            360"
      ]
     },
     "execution_count": 139,
     "metadata": {},
     "output_type": "execute_result"
    }
   ],
   "source": [
    "seq_to_fix"
   ]
  },
  {
   "cell_type": "markdown",
   "id": "883b20be-753a-4a9e-9564-fdd6ca7c6ce9",
   "metadata": {},
   "source": [
    "##### Usable"
   ]
  },
  {
   "cell_type": "code",
   "execution_count": 92,
   "id": "0760acf5-6d29-47f0-8248-2859aabb7e35",
   "metadata": {},
   "outputs": [],
   "source": [
    "test_usable_vp = usable_vp2[usable_vp2.trip_id == test_trip]"
   ]
  },
  {
   "cell_type": "code",
   "execution_count": 93,
   "id": "4606bebd-7a2a-446c-b8ba-64ea990724f9",
   "metadata": {},
   "outputs": [
    {
     "data": {
      "text/plain": [
       "(125, 11)"
      ]
     },
     "execution_count": 93,
     "metadata": {},
     "output_type": "execute_result"
    }
   ],
   "source": [
    "test_usable_vp.shape"
   ]
  },
  {
   "cell_type": "code",
   "execution_count": 114,
   "id": "c3002598-4cbb-4f2a-8a96-d7a0c439596d",
   "metadata": {},
   "outputs": [
    {
     "data": {
      "text/html": [
       "<div>\n",
       "<style scoped>\n",
       "    .dataframe tbody tr th:only-of-type {\n",
       "        vertical-align: middle;\n",
       "    }\n",
       "\n",
       "    .dataframe tbody tr th {\n",
       "        vertical-align: top;\n",
       "    }\n",
       "\n",
       "    .dataframe thead th {\n",
       "        text-align: right;\n",
       "    }\n",
       "</style>\n",
       "<table border=\"1\" class=\"dataframe\">\n",
       "  <thead>\n",
       "    <tr style=\"text-align: right;\">\n",
       "      <th></th>\n",
       "      <th>_gtfs_dataset_name</th>\n",
       "      <th>schedule_gtfs_dataset_key</th>\n",
       "      <th>trip_id</th>\n",
       "      <th>trip_instance_key</th>\n",
       "      <th>location_timestamp</th>\n",
       "      <th>location_timestamp_local</th>\n",
       "      <th>hour</th>\n",
       "      <th>gtfs_dataset_key</th>\n",
       "      <th>x</th>\n",
       "      <th>y</th>\n",
       "      <th>vp_idx</th>\n",
       "    </tr>\n",
       "  </thead>\n",
       "  <tbody>\n",
       "    <tr>\n",
       "      <th>57</th>\n",
       "      <td>Petaluma Vehicle Positions</td>\n",
       "      <td>ddad56d2731ac6296304cecfba77d88e</td>\n",
       "      <td>t120-sl9-p84-r1A</td>\n",
       "      <td>5c58cdd4b2302bee66f69218ad1baa0a</td>\n",
       "      <td>2023-07-12 23:09:12+00:00</td>\n",
       "      <td>2023-07-12 16:09:12</td>\n",
       "      <td>16</td>\n",
       "      <td>0a17ae4ebd7b4570cbb8e63a44b49536</td>\n",
       "      <td>-122.67</td>\n",
       "      <td>38.27</td>\n",
       "      <td>61135</td>\n",
       "    </tr>\n",
       "  </tbody>\n",
       "</table>\n",
       "</div>"
      ],
      "text/plain": [
       "            _gtfs_dataset_name         schedule_gtfs_dataset_key  \\\n",
       "57  Petaluma Vehicle Positions  ddad56d2731ac6296304cecfba77d88e   \n",
       "\n",
       "             trip_id                 trip_instance_key  \\\n",
       "57  t120-sl9-p84-r1A  5c58cdd4b2302bee66f69218ad1baa0a   \n",
       "\n",
       "          location_timestamp location_timestamp_local  hour  \\\n",
       "57 2023-07-12 23:09:12+00:00      2023-07-12 16:09:12    16   \n",
       "\n",
       "                    gtfs_dataset_key       x     y  vp_idx  \n",
       "57  0a17ae4ebd7b4570cbb8e63a44b49536 -122.67 38.27   61135  "
      ]
     },
     "execution_count": 114,
     "metadata": {},
     "output_type": "execute_result"
    }
   ],
   "source": [
    "test_usable_vp.sample()"
   ]
  },
  {
   "cell_type": "markdown",
   "id": "677a5a30-86b1-4842-8fe0-d739228bf7fd",
   "metadata": {},
   "source": [
    "##### Pared"
   ]
  },
  {
   "cell_type": "code",
   "execution_count": 94,
   "id": "b39f0d0a-2faa-4ddb-8f9b-634bc9dde451",
   "metadata": {},
   "outputs": [],
   "source": [
    "# test_vpidx = list(test_usable_vp.vp_idx.unique())"
   ]
  },
  {
   "cell_type": "code",
   "execution_count": 95,
   "id": "5faca44d-4402-4c15-bda2-30835aeb7aaa",
   "metadata": {},
   "outputs": [],
   "source": [
    "PARED = STOP_SEG_DICT[\"stage3\"]"
   ]
  },
  {
   "cell_type": "code",
   "execution_count": 96,
   "id": "b7d3ed9c-7b83-4531-b402-b6b6a55e0f26",
   "metadata": {},
   "outputs": [],
   "source": [
    "normal = pd.read_parquet(f\"{SEGMENT_GCS}{PARED}_normal_{analysis_date}\")"
   ]
  },
  {
   "cell_type": "code",
   "execution_count": 97,
   "id": "2ba6100d-53cf-42ca-bdaf-ad9f81c8efba",
   "metadata": {},
   "outputs": [],
   "source": [
    "special = pd.read_parquet(f\"{SEGMENT_GCS}{PARED}_special_{analysis_date}\")"
   ]
  },
  {
   "cell_type": "code",
   "execution_count": 98,
   "id": "bdb437cf-b570-4c11-bc28-38d0b1194bf1",
   "metadata": {},
   "outputs": [],
   "source": [
    "all_pared = pd.concat([normal, special], axis=0)"
   ]
  },
  {
   "cell_type": "code",
   "execution_count": 99,
   "id": "028fcf5a-3c32-4684-bc92-27ef8d5b1783",
   "metadata": {},
   "outputs": [],
   "source": [
    "all_pared = all_pared.sort_values(['gtfs_dataset_key','shape_array_key','trip_id','stop_sequence']).reset_index()"
   ]
  },
  {
   "cell_type": "code",
   "execution_count": 100,
   "id": "f71dfa84-6935-4cd0-bd2f-5f6165558388",
   "metadata": {},
   "outputs": [],
   "source": [
    "test_pared =  all_pared[(all_pared.trip_id == test_trip)]"
   ]
  },
  {
   "cell_type": "code",
   "execution_count": 101,
   "id": "13b72e28-6075-4301-bd8a-fe75b828aca1",
   "metadata": {},
   "outputs": [
    {
     "data": {
      "text/plain": [
       "(26, 14)"
      ]
     },
     "execution_count": 101,
     "metadata": {},
     "output_type": "execute_result"
    }
   ],
   "source": [
    "test_pared.shape"
   ]
  },
  {
   "cell_type": "code",
   "execution_count": 102,
   "id": "466e5ec5-abf9-404c-bbfc-0a5bd94cd4ae",
   "metadata": {},
   "outputs": [
    {
     "data": {
      "text/plain": [
       "Index(['__null_dask_index__', 'vp_idx', '_gtfs_dataset_name',\n",
       "       'schedule_gtfs_dataset_key', 'trip_id', 'trip_instance_key',\n",
       "       'location_timestamp', 'location_timestamp_local', 'hour',\n",
       "       'gtfs_dataset_key', 'x', 'y', 'shape_array_key', 'stop_sequence'],\n",
       "      dtype='object')"
      ]
     },
     "execution_count": 102,
     "metadata": {},
     "output_type": "execute_result"
    }
   ],
   "source": [
    "test_pared.columns"
   ]
  },
  {
   "cell_type": "code",
   "execution_count": 103,
   "id": "433ac69c-dfd9-48fb-8e52-b23968c6e198",
   "metadata": {},
   "outputs": [
    {
     "name": "stderr",
     "output_type": "stream",
     "text": [
      "/tmp/ipykernel_555/543739408.py:2: SettingWithCopyWarning: \n",
      "A value is trying to be set on a copy of a slice from a DataFrame.\n",
      "Try using .loc[row_indexer,col_indexer] = value instead\n",
      "\n",
      "See the caveats in the documentation: https://pandas.pydata.org/pandas-docs/stable/user_guide/indexing.html#returning-a-view-versus-a-copy\n"
     ]
    }
   ],
   "source": [
    "# https://stackoverflow.com/questions/53065104/how-can-i-subtract-3-hours-from-a-datetime-in-a-pandas-dataframe-column\n",
    "test_pared['add_min'] = test_pared.location_timestamp_local + timedelta(minutes=5)"
   ]
  },
  {
   "cell_type": "code",
   "execution_count": 122,
   "id": "fff10924-f3cd-492a-b7c7-fab491d99396",
   "metadata": {},
   "outputs": [
    {
     "name": "stderr",
     "output_type": "stream",
     "text": [
      "/tmp/ipykernel_555/3214766604.py:1: SettingWithCopyWarning: \n",
      "A value is trying to be set on a copy of a slice from a DataFrame.\n",
      "Try using .loc[row_indexer,col_indexer] = value instead\n",
      "\n",
      "See the caveats in the documentation: https://pandas.pydata.org/pandas-docs/stable/user_guide/indexing.html#returning-a-view-versus-a-copy\n"
     ]
    }
   ],
   "source": [
    "test_pared['location_sum'] = test_pared.x.astype(str) + test_pared.y.astype(str)"
   ]
  },
  {
   "cell_type": "code",
   "execution_count": 124,
   "id": "4bff3789-0459-412b-a8a6-8eb993b0507d",
   "metadata": {},
   "outputs": [],
   "source": [
    "test_one_seq = test_pared[test_pared.stop_sequence == 200]"
   ]
  },
  {
   "cell_type": "code",
   "execution_count": 125,
   "id": "d3f30db2-57f8-43d4-a49b-c289dff079c7",
   "metadata": {},
   "outputs": [
    {
     "data": {
      "text/html": [
       "<div>\n",
       "<style scoped>\n",
       "    .dataframe tbody tr th:only-of-type {\n",
       "        vertical-align: middle;\n",
       "    }\n",
       "\n",
       "    .dataframe tbody tr th {\n",
       "        vertical-align: top;\n",
       "    }\n",
       "\n",
       "    .dataframe thead th {\n",
       "        text-align: right;\n",
       "    }\n",
       "</style>\n",
       "<table border=\"1\" class=\"dataframe\">\n",
       "  <thead>\n",
       "    <tr style=\"text-align: right;\">\n",
       "      <th></th>\n",
       "      <th>__null_dask_index__</th>\n",
       "      <th>vp_idx</th>\n",
       "      <th>_gtfs_dataset_name</th>\n",
       "      <th>schedule_gtfs_dataset_key</th>\n",
       "      <th>trip_id</th>\n",
       "      <th>trip_instance_key</th>\n",
       "      <th>location_timestamp</th>\n",
       "      <th>location_timestamp_local</th>\n",
       "      <th>hour</th>\n",
       "      <th>gtfs_dataset_key</th>\n",
       "      <th>x</th>\n",
       "      <th>y</th>\n",
       "      <th>shape_array_key</th>\n",
       "      <th>stop_sequence</th>\n",
       "      <th>add_min</th>\n",
       "      <th>loc</th>\n",
       "      <th>location_sum</th>\n",
       "    </tr>\n",
       "  </thead>\n",
       "  <tbody>\n",
       "    <tr>\n",
       "      <th>3874851</th>\n",
       "      <td>4342</td>\n",
       "      <td>11573428</td>\n",
       "      <td>Bay Area 511 Petaluma VehiclePositions</td>\n",
       "      <td>5ecac12d61709ec34b5f30a34fdbab64</td>\n",
       "      <td>t120-sl9-p84-r1A</td>\n",
       "      <td>3016185266a75e3365d76454874cc68e</td>\n",
       "      <td>2023-07-12 23:00:38+00:00</td>\n",
       "      <td>2023-07-12 16:00:38</td>\n",
       "      <td>16</td>\n",
       "      <td>bc21582ac1ad2b7de0647dfd5b76f67c</td>\n",
       "      <td>-122.64</td>\n",
       "      <td>38.26</td>\n",
       "      <td>21aedea4c0d05c570e042903cc62c9cf</td>\n",
       "      <td>200</td>\n",
       "      <td>2023-07-12 16:05:38</td>\n",
       "      <td>-122.6392738.2568</td>\n",
       "      <td>-122.6392738.2568</td>\n",
       "    </tr>\n",
       "  </tbody>\n",
       "</table>\n",
       "</div>"
      ],
      "text/plain": [
       "         __null_dask_index__    vp_idx  \\\n",
       "3874851                 4342  11573428   \n",
       "\n",
       "                             _gtfs_dataset_name  \\\n",
       "3874851  Bay Area 511 Petaluma VehiclePositions   \n",
       "\n",
       "                schedule_gtfs_dataset_key           trip_id  \\\n",
       "3874851  5ecac12d61709ec34b5f30a34fdbab64  t120-sl9-p84-r1A   \n",
       "\n",
       "                        trip_instance_key        location_timestamp  \\\n",
       "3874851  3016185266a75e3365d76454874cc68e 2023-07-12 23:00:38+00:00   \n",
       "\n",
       "        location_timestamp_local  hour                  gtfs_dataset_key  \\\n",
       "3874851      2023-07-12 16:00:38    16  bc21582ac1ad2b7de0647dfd5b76f67c   \n",
       "\n",
       "              x     y                   shape_array_key  stop_sequence  \\\n",
       "3874851 -122.64 38.26  21aedea4c0d05c570e042903cc62c9cf            200   \n",
       "\n",
       "                    add_min                loc       location_sum  \n",
       "3874851 2023-07-12 16:05:38  -122.6392738.2568  -122.6392738.2568  "
      ]
     },
     "execution_count": 125,
     "metadata": {},
     "output_type": "execute_result"
    }
   ],
   "source": [
    "test_one_seq.sample()"
   ]
  },
  {
   "cell_type": "code",
   "execution_count": 105,
   "id": "0d5957d3-5055-4cb1-b282-d630e18022e8",
   "metadata": {},
   "outputs": [],
   "source": [
    "time_constraint = test_one_seq['location_timestamp_local'] - pd.to_timedelta(2, unit='min')"
   ]
  },
  {
   "cell_type": "code",
   "execution_count": 106,
   "id": "2150b0be-dfdc-4772-83b1-a8023608b289",
   "metadata": {},
   "outputs": [],
   "source": [
    "time_constraint = time_constraint.iloc[0]"
   ]
  },
  {
   "cell_type": "code",
   "execution_count": 107,
   "id": "54c31de2-07db-4e15-b975-ec88ec771478",
   "metadata": {},
   "outputs": [
    {
     "data": {
      "text/plain": [
       "Timestamp('2023-07-12 15:58:38')"
      ]
     },
     "execution_count": 107,
     "metadata": {},
     "output_type": "execute_result"
    }
   ],
   "source": [
    "time_constraint"
   ]
  },
  {
   "cell_type": "code",
   "execution_count": 126,
   "id": "9b6f24cf-029c-4bf3-8482-6835d75afdaa",
   "metadata": {},
   "outputs": [],
   "source": [
    "loc_constraint = test_one_seq.location_sum.iloc[0]"
   ]
  },
  {
   "cell_type": "code",
   "execution_count": 127,
   "id": "238b8bf0-73b8-47fe-91c6-457168b05ab3",
   "metadata": {},
   "outputs": [
    {
     "data": {
      "text/plain": [
       "'-122.6392738.2568'"
      ]
     },
     "execution_count": 127,
     "metadata": {},
     "output_type": "execute_result"
    }
   ],
   "source": [
    "loc_constraint"
   ]
  },
  {
   "cell_type": "code",
   "execution_count": 128,
   "id": "ac85c6b3-3431-4276-a367-b2a85700774b",
   "metadata": {},
   "outputs": [],
   "source": [
    "intersect_df2 = test_pared[(test_pared.location_timestamp_local <= time_constraint) & (test_pared.location_sum != loc_constraint)] "
   ]
  },
  {
   "cell_type": "code",
   "execution_count": 132,
   "id": "eeace865-4f49-4742-aeaf-9b44345c25e8",
   "metadata": {},
   "outputs": [],
   "source": [
    "intersect_df2 = intersect_df2.sort_values(['gtfs_dataset_key','shape_array_key','stop_sequence'])"
   ]
  },
  {
   "cell_type": "code",
   "execution_count": 134,
   "id": "3a5508fe-e22c-41b2-ad66-b8142500496e",
   "metadata": {
    "scrolled": true,
    "tags": []
   },
   "outputs": [],
   "source": [
    "# Keep only last \n",
    "intersect_df2 = intersect_df2.tail(1)"
   ]
  },
  {
   "cell_type": "code",
   "execution_count": null,
   "id": "7d0cd0f8-9cd8-49f9-9e12-431f4aca2cb8",
   "metadata": {},
   "outputs": [],
   "source": [
    "intersect_df2."
   ]
  },
  {
   "cell_type": "code",
   "execution_count": 135,
   "id": "d8e3e4b8-ced6-4500-b91a-654bb3343a21",
   "metadata": {
    "tags": []
   },
   "outputs": [
    {
     "data": {
      "text/html": [
       "<div>\n",
       "<style scoped>\n",
       "    .dataframe tbody tr th:only-of-type {\n",
       "        vertical-align: middle;\n",
       "    }\n",
       "\n",
       "    .dataframe tbody tr th {\n",
       "        vertical-align: top;\n",
       "    }\n",
       "\n",
       "    .dataframe thead th {\n",
       "        text-align: right;\n",
       "    }\n",
       "</style>\n",
       "<table border=\"1\" class=\"dataframe\">\n",
       "  <thead>\n",
       "    <tr style=\"text-align: right;\">\n",
       "      <th></th>\n",
       "      <th>__null_dask_index__</th>\n",
       "      <th>vp_idx</th>\n",
       "      <th>_gtfs_dataset_name</th>\n",
       "      <th>schedule_gtfs_dataset_key</th>\n",
       "      <th>trip_id</th>\n",
       "      <th>trip_instance_key</th>\n",
       "      <th>location_timestamp</th>\n",
       "      <th>location_timestamp_local</th>\n",
       "      <th>hour</th>\n",
       "      <th>gtfs_dataset_key</th>\n",
       "      <th>x</th>\n",
       "      <th>y</th>\n",
       "      <th>shape_array_key</th>\n",
       "      <th>stop_sequence</th>\n",
       "      <th>add_min</th>\n",
       "      <th>loc</th>\n",
       "      <th>location_sum</th>\n",
       "    </tr>\n",
       "  </thead>\n",
       "  <tbody>\n",
       "    <tr>\n",
       "      <th>3874847</th>\n",
       "      <td>19033</td>\n",
       "      <td>11573421</td>\n",
       "      <td>Bay Area 511 Petaluma VehiclePositions</td>\n",
       "      <td>5ecac12d61709ec34b5f30a34fdbab64</td>\n",
       "      <td>t120-sl9-p84-r1A</td>\n",
       "      <td>3016185266a75e3365d76454874cc68e</td>\n",
       "      <td>2023-07-12 22:58:08+00:00</td>\n",
       "      <td>2023-07-12 15:58:08</td>\n",
       "      <td>15</td>\n",
       "      <td>bc21582ac1ad2b7de0647dfd5b76f67c</td>\n",
       "      <td>-122.63</td>\n",
       "      <td>38.25</td>\n",
       "      <td>21aedea4c0d05c570e042903cc62c9cf</td>\n",
       "      <td>120</td>\n",
       "      <td>2023-07-12 16:03:08</td>\n",
       "      <td>-122.6310838.252224</td>\n",
       "      <td>-122.6310838.252224</td>\n",
       "    </tr>\n",
       "  </tbody>\n",
       "</table>\n",
       "</div>"
      ],
      "text/plain": [
       "         __null_dask_index__    vp_idx  \\\n",
       "3874847                19033  11573421   \n",
       "\n",
       "                             _gtfs_dataset_name  \\\n",
       "3874847  Bay Area 511 Petaluma VehiclePositions   \n",
       "\n",
       "                schedule_gtfs_dataset_key           trip_id  \\\n",
       "3874847  5ecac12d61709ec34b5f30a34fdbab64  t120-sl9-p84-r1A   \n",
       "\n",
       "                        trip_instance_key        location_timestamp  \\\n",
       "3874847  3016185266a75e3365d76454874cc68e 2023-07-12 22:58:08+00:00   \n",
       "\n",
       "        location_timestamp_local  hour                  gtfs_dataset_key  \\\n",
       "3874847      2023-07-12 15:58:08    15  bc21582ac1ad2b7de0647dfd5b76f67c   \n",
       "\n",
       "              x     y                   shape_array_key  stop_sequence  \\\n",
       "3874847 -122.63 38.25  21aedea4c0d05c570e042903cc62c9cf            120   \n",
       "\n",
       "                    add_min                  loc         location_sum  \n",
       "3874847 2023-07-12 16:03:08  -122.6310838.252224  -122.6310838.252224  "
      ]
     },
     "execution_count": 135,
     "metadata": {},
     "output_type": "execute_result"
    }
   ],
   "source": [
    "intersect_df2"
   ]
  },
  {
   "cell_type": "markdown",
   "id": "6ccd0ac3-2aa6-42ab-a121-6ba3ab7673b1",
   "metadata": {
    "tags": []
   },
   "source": [
    "### Investigate - Don't Delete"
   ]
  },
  {
   "cell_type": "code",
   "execution_count": null,
   "id": "5a9b018c-42ae-498c-b34e-c649591b7475",
   "metadata": {},
   "outputs": [],
   "source": [
    "stop"
   ]
  },
  {
   "cell_type": "code",
   "execution_count": null,
   "id": "cab32ef3-cc66-40ce-aa19-59631734f539",
   "metadata": {},
   "outputs": [],
   "source": [
    "# stage3_df = speed_utils.flag_stage3(divide_by_zero, analysis_date)"
   ]
  },
  {
   "cell_type": "code",
   "execution_count": null,
   "id": "3e4e731a-6e1d-47db-aa57-abf7c34b1bf9",
   "metadata": {},
   "outputs": [],
   "source": [
    "stage3_df.shape_array_key.nunique()"
   ]
  },
  {
   "cell_type": "code",
   "execution_count": null,
   "id": "fdafc453-0d9d-4e4a-9355-38e2ad76a1a4",
   "metadata": {},
   "outputs": [],
   "source": [
    "sort_by = ['_gtfs_dataset_name','shape_array_key','trip_id','stop_sequence']"
   ]
  },
  {
   "cell_type": "code",
   "execution_count": null,
   "id": "70996816-e94c-4906-838c-0d9e0fe3049e",
   "metadata": {},
   "outputs": [],
   "source": [
    "preview_cols = sort_by + ['stop_id','gtfs_dataset_key','location_timestamp_local','pair','stage3_flag']"
   ]
  },
  {
   "cell_type": "markdown",
   "id": "e52c8e35-2341-4aae-93f4-5555b54f1afb",
   "metadata": {},
   "source": [
    "#### Find routes with a lot of n_trips that need to be evaluated."
   ]
  },
  {
   "cell_type": "code",
   "execution_count": null,
   "id": "05b804be-9dba-425a-bbae-6ccd65c22885",
   "metadata": {},
   "outputs": [],
   "source": [
    "shape_trips.head(5)"
   ]
  },
  {
   "cell_type": "code",
   "execution_count": null,
   "id": "7387da40-015e-4da3-8136-9a8a6fe13614",
   "metadata": {},
   "outputs": [],
   "source": [
    "def count_all_pts_sjoin(flagged: pd.DataFrame, gtfs_key:str, trip:str, route:str):\n",
    "    unique_trips = speed_utils.import_unique_trips(\n",
    "    gtfs_key,trip,route)\n",
    "    \n",
    "    all_pts = speed_utils.import_vehicle_positions(\n",
    "    unique_trips, gtfs_key, trip)\n",
    "    \n",
    "    segs = speed_utils.import_segments(flagged,route, gtfs_key, trip)\n",
    "    \n",
    "    sjoin = speed_utils.sjoin_vp_segments(segs, all_pts)\n",
    "    print(f\"{all_pts.geometry.nunique()} points for all vehicle positions, {sjoin.geometry_left.nunique()} after sjoin.\")"
   ]
  },
  {
   "cell_type": "markdown",
   "id": "4a9bbe1e-02f6-44b3-bf8a-693d9f94da7a",
   "metadata": {},
   "source": [
    "#### Example Trip 1\n",
    "* Understanding the result from flag_stage3().\n",
    "* Looking at AC Transit: stop sequences 6 and 7 have different stop_ids. However, their time stamps and locations are the same.\n",
    "* It looks like they share the same point.\n",
    "* However, this isn't due to paring too many points: there just aren't enough points to choose from in the raw data.\n",
    "* Also sequence 2 is extremely long."
   ]
  },
  {
   "cell_type": "code",
   "execution_count": null,
   "id": "f50dc43f-697f-400c-b598-968a59ac7452",
   "metadata": {},
   "outputs": [],
   "source": [
    "test_route1 = \"21aedea4c0d05c570e042903cc62c9cf\"\n",
    "test_gtfs_key1 = \"bc21582ac1ad2b7de0647dfd5b76f67c\"\n",
    "test_trip1 = \"t120-sl9-p84-r1A\""
   ]
  },
  {
   "cell_type": "code",
   "execution_count": null,
   "id": "aef433dd-9019-439a-abb2-70e0a65bfb1f",
   "metadata": {},
   "outputs": [],
   "source": [
    "# % of trips with problematic rows for this route\n",
    "trips_count[trips_count.shape_array_key == test_route1]"
   ]
  },
  {
   "cell_type": "code",
   "execution_count": null,
   "id": "03312246-3ea0-42a7-a552-86196a61b0f9",
   "metadata": {
    "scrolled": true,
    "tags": []
   },
   "outputs": [],
   "source": [
    "speed_utils.original_df_rows(flagged, test_trip1, test_route1)"
   ]
  },
  {
   "cell_type": "code",
   "execution_count": null,
   "id": "7a4ae095-d010-46b5-80b2-0bbe948f249f",
   "metadata": {},
   "outputs": [],
   "source": [
    "speed_utils.stage2_trouble_shooting(flagged_df= stage3_df,\n",
    "                        date = analysis_date,\n",
    "                        route = test_route1,\n",
    "                        trip = test_trip1,\n",
    "                        gtfs_key = test_gtfs_key1)"
   ]
  },
  {
   "cell_type": "markdown",
   "id": "38c6d374-155d-4fcc-985a-7c892eaecb46",
   "metadata": {},
   "source": [
    "#### Example Trip 2\n",
    "* Route is missing part of the segment?"
   ]
  },
  {
   "cell_type": "code",
   "execution_count": null,
   "id": "268c5f17-df4a-4d84-b3b0-d76a2727bcf7",
   "metadata": {},
   "outputs": [],
   "source": [
    "test_route2 = \"2fcc8c55ad61684b2e73860522d0626b\"\n",
    "test_gtfs_key2 = \"0faa34840bb65e96b7f83b7f379c2edd\"\n",
    "test_trip2 = \"1_Trip4_H_COVID\""
   ]
  },
  {
   "cell_type": "code",
   "execution_count": null,
   "id": "314e1a1e-4705-4f79-872f-77daaf8a3087",
   "metadata": {},
   "outputs": [],
   "source": [
    "merge4[merge4.trip_id == test_trip2][preview_cols2]"
   ]
  },
  {
   "cell_type": "code",
   "execution_count": null,
   "id": "5ae2cbab-5fa4-45bf-9965-962f33dc1946",
   "metadata": {},
   "outputs": [],
   "source": [
    "# Original number of rows for this trip\n",
    "#len(flagged[(flagged.trip_id == test_trip2) & (flagged.shape_array_key == test_route2)])"
   ]
  },
  {
   "cell_type": "code",
   "execution_count": null,
   "id": "8a927dfa-7b78-41f8-b387-6d03f4e328c6",
   "metadata": {},
   "outputs": [],
   "source": [
    "# Rows with zeroes...a lot of them.\n",
    "#len(divide_by_zero[(divide_by_zero.trip_id == test_trip2) & (divide_by_zero.shape_array_key == test_route2)])"
   ]
  },
  {
   "cell_type": "code",
   "execution_count": null,
   "id": "1b193ab2-1cfa-471b-aa1b-857949f4e2d1",
   "metadata": {},
   "outputs": [],
   "source": [
    "#stage3_df[(stage3_df.stage3_flag != 'check in stage 2') & (stage3_df.shape_array_key == test_route2) \n",
    "#   & (stage3_df.stop_sequence.isin([45,46]))].sort_values(by =sort_by)[preview_cols]"
   ]
  },
  {
   "cell_type": "code",
   "execution_count": null,
   "id": "4b3bc6c2-d9ff-44fd-b812-28c4dec1023f",
   "metadata": {},
   "outputs": [],
   "source": [
    "# % of trips with problematic rows for this route, lots of them\n",
    "#trips_count[trips_count.shape_array_key == test_route2]"
   ]
  },
  {
   "cell_type": "code",
   "execution_count": null,
   "id": "d121f820-9838-4d27-8eba-be74044554c6",
   "metadata": {
    "scrolled": true,
    "tags": []
   },
   "outputs": [],
   "source": [
    "#speed_utils.original_df_rows(m1, test_trip2, test_route2)"
   ]
  },
  {
   "cell_type": "code",
   "execution_count": null,
   "id": "776476fb-b4d7-463b-a962-dd4a25b2d8b7",
   "metadata": {},
   "outputs": [],
   "source": [
    "count_all_pts_sjoin(stage3_df, test_gtfs_key2, test_trip2, test_route2)"
   ]
  },
  {
   "cell_type": "code",
   "execution_count": null,
   "id": "4918232c-956f-413a-825f-e84c61d59c8b",
   "metadata": {},
   "outputs": [],
   "source": [
    "86/125"
   ]
  },
  {
   "cell_type": "code",
   "execution_count": null,
   "id": "deaa6fdf-37b8-49ee-97f2-46f74d41a449",
   "metadata": {},
   "outputs": [],
   "source": [
    "speed_utils.stage2_trouble_shooting(flagged_df= stage3_df,\n",
    "                     date = analysis_date,\n",
    "                       route = test_route2,\n",
    "                    trip = test_trip2,\n",
    "                      gtfs_key = test_gtfs_key2,)"
   ]
  },
  {
   "cell_type": "code",
   "execution_count": null,
   "id": "7f5485ec-4038-46d1-bca1-0116733f0128",
   "metadata": {},
   "outputs": [],
   "source": [
    "# See which trip has the most rows that are ok for this route\n",
    "#route_most_populated_df[route_most_populated_df.shape_array_key == test_route2]"
   ]
  },
  {
   "cell_type": "code",
   "execution_count": null,
   "id": "be67628e-7c55-43d8-838c-251bc4439a8b",
   "metadata": {},
   "outputs": [],
   "source": [
    "# Plot the trip from this route with the highest % of ok rows\n",
    "#speed_utils.stage2_trouble_shooting(flagged_df= stage3_df,\n",
    "#                        date = analysis_date,\n",
    "#                        route = test_route2,\n",
    " #                       trip = \"10294000051724-DEC22\",\n",
    " #                       gtfs_key = test_gtfs_key2,)"
   ]
  },
  {
   "cell_type": "markdown",
   "id": "27d10dab-c7b0-4ddd-b70b-b3c6b7b3e579",
   "metadata": {
    "tags": []
   },
   "source": [
    "#### Example Trip 3\n",
    "* One results says 100% of usable vps are sjoined, othe says only 60%\n",
    "* Which one is more accurate? Seems like result from my second test is more accurate (a1sjoin)"
   ]
  },
  {
   "cell_type": "code",
   "execution_count": null,
   "id": "f951ac97-43af-452f-9cb7-d40f71c114c9",
   "metadata": {},
   "outputs": [],
   "source": [
    "shape_key3 = \"7522dcf861b71950ebce7fc12d3b7e61\"\n",
    "gtfs_key3 = \"0af37e731f00a843fb9a0fe286f8d958\"\n",
    "test_trip3 = \"1093534\""
   ]
  },
  {
   "cell_type": "code",
   "execution_count": null,
   "id": "ae5c70af-8025-4a7a-8417-07e7a9875e5a",
   "metadata": {},
   "outputs": [],
   "source": [
    "merge4[merge4.trip_id == test_trip3][preview_cols2]"
   ]
  },
  {
   "cell_type": "code",
   "execution_count": null,
   "id": "299ec1b3-8230-4bd4-867b-81c033dcb259",
   "metadata": {},
   "outputs": [],
   "source": [
    "count_all_pts_sjoin(stage3_df, gtfs_key3, test_trip3, shape_key3)"
   ]
  },
  {
   "cell_type": "code",
   "execution_count": null,
   "id": "3924b873-6ba0-4fe4-bd2f-9e18c64753d4",
   "metadata": {},
   "outputs": [],
   "source": [
    "# stage3_df[(stage3_df.shape_array_key == shape_key3) & (stage3_df.trip_id == test_trip3)].sort_values(by =sort_by)[preview_cols]"
   ]
  },
  {
   "cell_type": "code",
   "execution_count": null,
   "id": "91798284-13ab-459b-80b8-8d3b63053615",
   "metadata": {
    "scrolled": true,
    "tags": []
   },
   "outputs": [],
   "source": [
    "# speed_utils.original_df_rows(flagged, test_trip3, gtfs_key3)"
   ]
  },
  {
   "cell_type": "code",
   "execution_count": null,
   "id": "91d07c20-9d78-4eea-8b9c-293df8ade5a3",
   "metadata": {},
   "outputs": [],
   "source": [
    "speed_utils.stage2_trouble_shooting(flagged_df= stage3_df,\n",
    "                       date = analysis_date,\n",
    "                       route = shape_key3,\n",
    "                       trip = test_trip3,\n",
    "                       gtfs_key = gtfs_key3,)"
   ]
  },
  {
   "cell_type": "code",
   "execution_count": null,
   "id": "0ef5a418-34fb-4470-a576-71fc5281476b",
   "metadata": {
    "tags": []
   },
   "outputs": [],
   "source": [
    "# Trip from this route with the most ok rows\n",
    "#route_most_populated_df[route_most_populated_df.shape_array_key == test_route3]"
   ]
  },
  {
   "cell_type": "code",
   "execution_count": null,
   "id": "bf92c615-47ab-4bd5-8513-0a9d202bd542",
   "metadata": {},
   "outputs": [],
   "source": [
    "# Test the trip with the most ok rows\n",
    "#speed_utils.stage2_trouble_shooting(flagged_df= stage3_df,\n",
    "#                        date = analysis_date,\n",
    "#                        route = test_route3,\n",
    "#                        trip = \"16938341\",\n",
    " #                       gtfs_key = test_gtfs_key3,)"
   ]
  },
  {
   "cell_type": "code",
   "execution_count": null,
   "id": "c9561cd4-1b24-4415-ac6b-71adba8d0dfa",
   "metadata": {
    "scrolled": true,
    "tags": []
   },
   "outputs": [],
   "source": [
    "#speed_utils.original_df_rows(flagged, \"16938341\", test_route3)"
   ]
  },
  {
   "cell_type": "markdown",
   "id": "6697f82a-bcc3-447f-80ef-121923ba80c7",
   "metadata": {},
   "source": [
    "#### Example Trip 4\n",
    "* See which result is more accurate.\n",
    "* SEems like second one is more accurate"
   ]
  },
  {
   "cell_type": "code",
   "execution_count": null,
   "id": "1699cec4-7178-437b-87ce-3377417432fd",
   "metadata": {},
   "outputs": [],
   "source": [
    "gtfs_key4 = \"00e412908245377894949d292fb79610\"\n",
    "trip_id4= \"t_1524229_b_30719_tn_0\"\n",
    "shape_key4 = \"0d53f0e2ed64d9ce4e0c8e63aa102a41\""
   ]
  },
  {
   "cell_type": "code",
   "execution_count": null,
   "id": "83293979-994f-4ed6-9c65-6775518bc1da",
   "metadata": {},
   "outputs": [],
   "source": [
    "merge4[merge4.trip_id == trip_id4][preview_cols2]"
   ]
  },
  {
   "cell_type": "code",
   "execution_count": null,
   "id": "5473cbb4-5edc-42bb-8b6a-b3cd1b12e7e6",
   "metadata": {},
   "outputs": [],
   "source": [
    "count_all_pts_sjoin(stage3_df, gtfs_key4, trip_id4, shape_key4)"
   ]
  },
  {
   "cell_type": "code",
   "execution_count": null,
   "id": "38428c4d-5e53-4463-bad0-89aac3ba6b09",
   "metadata": {},
   "outputs": [],
   "source": [
    "82/84"
   ]
  },
  {
   "cell_type": "code",
   "execution_count": null,
   "id": "5a1120b6-2540-49fd-914d-8068bd4adacf",
   "metadata": {},
   "outputs": [],
   "source": [
    "speed_utils.original_df_rows(flagged, trip_id4, shape_key4)"
   ]
  },
  {
   "cell_type": "code",
   "execution_count": null,
   "id": "fb9e9c8e-b695-420c-9843-b88cf2ed08f4",
   "metadata": {},
   "outputs": [],
   "source": [
    "# Test the trip with the most ok rows\n",
    "speed_utils.stage2_trouble_shooting(flagged_df= stage3_df,\n",
    "                        date = analysis_date,\n",
    "                        route = shape_key4,\n",
    "                        trip = trip_id4,\n",
    "                        gtfs_key = gtfs_key4,)"
   ]
  },
  {
   "cell_type": "markdown",
   "id": "56f748db-7e61-407e-b635-a624229183de",
   "metadata": {},
   "source": [
    "#### Example Trip 5\n",
    "* Checking out the difference\n",
    "* Segments are not all captured."
   ]
  },
  {
   "cell_type": "code",
   "execution_count": null,
   "id": "ac2c0b62-d950-407f-a621-64f237e47b81",
   "metadata": {},
   "outputs": [],
   "source": [
    "merge4[merge4.trip_id == \"1093295\"][preview_cols2]"
   ]
  },
  {
   "cell_type": "code",
   "execution_count": null,
   "id": "21993e4b-9459-41f4-8085-98f8667950bd",
   "metadata": {},
   "outputs": [],
   "source": [
    "route5 = \"df6aff9f6c51360bdf4819865e53681d\"\n",
    "operator5 = \"0af37e731f00a843fb9a0fe286f8d958\"\n",
    "trip5 = \"1093295\""
   ]
  },
  {
   "cell_type": "code",
   "execution_count": null,
   "id": "fd209cc5-e919-4307-9c2c-6215298341ce",
   "metadata": {},
   "outputs": [],
   "source": [
    "count_all_pts_sjoin(stage3_df, operator5, trip5, route5)"
   ]
  },
  {
   "cell_type": "code",
   "execution_count": null,
   "id": "b07bb8f1-bf4a-47c9-91c9-a82dd40624c9",
   "metadata": {},
   "outputs": [],
   "source": [
    "149/252"
   ]
  },
  {
   "cell_type": "code",
   "execution_count": null,
   "id": "bcc98e8b-0f7d-4c73-921d-e535a512b80f",
   "metadata": {},
   "outputs": [],
   "source": [
    "# Test the trip with the most ok rows\n",
    "speed_utils.stage2_trouble_shooting(flagged_df= stage3_df,\n",
    "                        date = analysis_date,\n",
    "                        route = route5,\n",
    "                        trip = trip5,\n",
    "                        gtfs_key = operator5,)"
   ]
  },
  {
   "cell_type": "markdown",
   "id": "a3e0a83a-4f90-4908-90c3-79ee1eb5502b",
   "metadata": {},
   "source": [
    "#### Example Trip 6\n",
    "*  231% of positions retained, 104 vehicle positions in sjoin but 45 in original. \n",
    "* Also part of the segments is missing"
   ]
  },
  {
   "cell_type": "code",
   "execution_count": null,
   "id": "7df60b14-ea08-43eb-bd91-3df86502551b",
   "metadata": {},
   "outputs": [],
   "source": [
    "route6= \"ca68b32661ba4f531c66249bfe6a78e9\"\n",
    "operator6 = \"3b0ddd2a33e5998da450917623a5c545\"\n",
    "trip6 = \"t_5653186_b_30571_tn_1\""
   ]
  },
  {
   "cell_type": "code",
   "execution_count": null,
   "id": "22767e5f-9ff6-4bb7-b027-dd2b3e4b9b1c",
   "metadata": {},
   "outputs": [],
   "source": [
    "merge1[(merge1.trip_id == trip6)]"
   ]
  },
  {
   "cell_type": "code",
   "execution_count": null,
   "id": "9bfa5931-f577-475e-b1c0-61976e0b21ab",
   "metadata": {},
   "outputs": [],
   "source": [
    "count_all_pts_sjoin(stage3_df, operator6, trip6, route6)"
   ]
  },
  {
   "cell_type": "code",
   "execution_count": null,
   "id": "a589de79-71cf-4e78-88e2-428e735afede",
   "metadata": {},
   "outputs": [],
   "source": [
    "81/110"
   ]
  },
  {
   "cell_type": "code",
   "execution_count": null,
   "id": "e2c8141d-217e-4b2c-b3d6-41ef80631d36",
   "metadata": {},
   "outputs": [],
   "source": [
    "speed_utils.stage2_trouble_shooting(flagged_df= stage3_df,\n",
    "                        date = analysis_date,\n",
    "                        route = route6,\n",
    "                        trip = trip6,\n",
    "                        gtfs_key = operator6,)"
   ]
  },
  {
   "cell_type": "markdown",
   "id": "60536d88-6a6b-4a4c-8998-2fb1d974fb21",
   "metadata": {},
   "source": [
    "#### Example Trip 7"
   ]
  },
  {
   "cell_type": "code",
   "execution_count": null,
   "id": "30f751c1-aeb7-4dd0-974f-0d59347da304",
   "metadata": {},
   "outputs": [],
   "source": [
    "\n",
    "route7= \"377aa54acee92ffd7de6c9f15cb98f3f\"\n",
    "operator7 = \"1aec012cf85cb59b80880a01b2d1b1ef\"\n",
    "trip7 = \"3098\""
   ]
  },
  {
   "cell_type": "code",
   "execution_count": null,
   "id": "479087c6-a5cc-4aa6-bc0d-aa6ad98647a4",
   "metadata": {},
   "outputs": [],
   "source": [
    "merge1[(merge1.gtfs_dataset_key == \"1aec012cf85cb59b80880a01b2d1b1ef\") & (merge1.trip_id == \"3098\")]"
   ]
  },
  {
   "cell_type": "code",
   "execution_count": null,
   "id": "b65c9796-fa50-412f-81d3-4e1d6a35fc69",
   "metadata": {},
   "outputs": [],
   "source": [
    "count_all_pts_sjoin(stage3_df, operator7, trip7, route7)"
   ]
  },
  {
   "cell_type": "code",
   "execution_count": null,
   "id": "2cfe9e9d-f10c-42fa-87b7-2b0782b1e8bd",
   "metadata": {},
   "outputs": [],
   "source": [
    "67/70"
   ]
  },
  {
   "cell_type": "code",
   "execution_count": null,
   "id": "5746a951-d454-469f-bf06-1020214e54b2",
   "metadata": {},
   "outputs": [],
   "source": [
    "speed_utils.stage2_trouble_shooting(flagged_df= stage3_df,\n",
    "                        date = analysis_date,\n",
    "                        route = route7,\n",
    "                        trip = trip7,\n",
    "                        gtfs_key = operator7,)"
   ]
  },
  {
   "cell_type": "markdown",
   "id": "83de7b8d-60f9-4cf6-aa4b-00572c8ae860",
   "metadata": {
    "tags": []
   },
   "source": [
    "### Draft"
   ]
  },
  {
   "cell_type": "code",
   "execution_count": null,
   "id": "7a6cc43e-4598-4aef-9e0a-aa46b7e7a8fc",
   "metadata": {},
   "outputs": [],
   "source": [
    "stop running"
   ]
  },
  {
   "cell_type": "markdown",
   "id": "b8507169-2f04-49ce-86e2-364274ecdcfb",
   "metadata": {
    "tags": []
   },
   "source": [
    "#### Test 1\n",
    "* Breaking apart usable_vp to be similar in format as what I did with A2 Sjoin"
   ]
  },
  {
   "cell_type": "code",
   "execution_count": null,
   "id": "36d2e7b5-db1f-4e13-aa23-582c9913cccb",
   "metadata": {},
   "outputs": [],
   "source": [
    "test = parted_usable_vp.partitions[0]"
   ]
  },
  {
   "cell_type": "code",
   "execution_count": null,
   "id": "161775d4-849c-4ebc-a3ba-97f0e0162f49",
   "metadata": {},
   "outputs": [],
   "source": [
    "test1 = parted_usable_vp.partitions[1]"
   ]
  },
  {
   "cell_type": "code",
   "execution_count": null,
   "id": "04d7b5c8-651a-4ba2-bf78-544c623b3e56",
   "metadata": {},
   "outputs": [],
   "source": [
    "test = test.assign(\n",
    "    identifier = test.gtfs_dataset_key.astype(str) + '/' + test.trip_id.astype(str)\n",
    ")"
   ]
  },
  {
   "cell_type": "code",
   "execution_count": null,
   "id": "91fdc02e-7e23-48f6-9c0f-4917861de723",
   "metadata": {},
   "outputs": [],
   "source": [
    "# test = test.drop_duplicates(subset = ['vp_idx']) then do a count"
   ]
  },
  {
   "cell_type": "code",
   "execution_count": null,
   "id": "f2ec04cb-f478-4960-8421-34c3b766dad5",
   "metadata": {},
   "outputs": [],
   "source": [
    "# Using \n",
    "test = test.groupby(['identifier']).vp_idx.nunique()"
   ]
  },
  {
   "cell_type": "code",
   "execution_count": null,
   "id": "7c28d51c-6891-4468-be55-9e1c904029fb",
   "metadata": {},
   "outputs": [],
   "source": [
    "# Using \n",
    "test1 = test1.groupby(['gtfs_dataset_key','trip_id']).vp_idx.nunique()"
   ]
  },
  {
   "cell_type": "code",
   "execution_count": null,
   "id": "4325fb10-100e-4887-b146-019a21eda4c2",
   "metadata": {},
   "outputs": [],
   "source": [
    "test1 = test1.compute()"
   ]
  },
  {
   "cell_type": "code",
   "execution_count": null,
   "id": "18971d52-c295-44ea-9578-6c9ee23f1a45",
   "metadata": {},
   "outputs": [],
   "source": [
    "test1.head"
   ]
  },
  {
   "cell_type": "code",
   "execution_count": null,
   "id": "807d6fac-014d-4221-8950-a0574756e43b",
   "metadata": {},
   "outputs": [],
   "source": [
    "test1 = test1.reset_index()"
   ]
  },
  {
   "cell_type": "code",
   "execution_count": null,
   "id": "32a39786-eb68-4f7e-9a54-c9e6b15dcd27",
   "metadata": {},
   "outputs": [],
   "source": [
    "test1.vp_idx.describe()"
   ]
  },
  {
   "cell_type": "code",
   "execution_count": null,
   "id": "8bc120e1-7bec-423d-942f-1cc8f2ad8ff2",
   "metadata": {},
   "outputs": [],
   "source": [
    "test = test.compute()"
   ]
  },
  {
   "cell_type": "code",
   "execution_count": null,
   "id": "23b18361-9943-4544-abd1-542e3c6c0b85",
   "metadata": {},
   "outputs": [],
   "source": [
    "test.head()"
   ]
  },
  {
   "cell_type": "code",
   "execution_count": null,
   "id": "0c08e01e-aef1-4d55-96ce-7d2747476e47",
   "metadata": {},
   "outputs": [],
   "source": [
    "test = test.to_frame()"
   ]
  },
  {
   "cell_type": "code",
   "execution_count": null,
   "id": "5b3e6c9f-6cc4-47d8-86e3-a0a028172e58",
   "metadata": {},
   "outputs": [],
   "source": [
    "test = test.reset_index()"
   ]
  },
  {
   "cell_type": "code",
   "execution_count": null,
   "id": "4773cbf6-68e0-410a-8b38-8b7fd6c39803",
   "metadata": {
    "scrolled": true,
    "tags": []
   },
   "outputs": [],
   "source": [
    "test[\"gtfs_dataset_key\"] = test[\"identifier\"].str.split(\"/\").str[0]"
   ]
  },
  {
   "cell_type": "code",
   "execution_count": null,
   "id": "8868e5d0-ba5e-41a1-8b6d-d41077fa5ac0",
   "metadata": {},
   "outputs": [],
   "source": [
    "test[\"trip_id\"] = test[\"identifier\"].str.split(\"/\").str[1]"
   ]
  },
  {
   "cell_type": "code",
   "execution_count": null,
   "id": "5e2df493-887e-4d96-b936-a40be3ca8f6d",
   "metadata": {},
   "outputs": [],
   "source": [
    "test.head()"
   ]
  },
  {
   "cell_type": "code",
   "execution_count": null,
   "id": "79f785f5-2e06-4fb5-9c15-219a067ee797",
   "metadata": {},
   "outputs": [],
   "source": [
    "test.vp_idx.describe()"
   ]
  },
  {
   "cell_type": "markdown",
   "id": "df6004c3-2190-4f50-85b2-52a07fe04f30",
   "metadata": {
    "tags": []
   },
   "source": [
    "### A2 Sjoin\n",
    "* Valid trips that are `sjoin` to segments."
   ]
  },
  {
   "cell_type": "code",
   "execution_count": null,
   "id": "4cfafe44-5856-4311-82d3-052d569e4e97",
   "metadata": {},
   "outputs": [],
   "source": [
    "USABLE_VP = STOP_SEG_DICT[\"stage1\"]\n",
    "INPUT_FILE_PREFIX = STOP_SEG_DICT[\"stage2\"]\n",
    "GROUPING_COL = STOP_SEG_DICT[\"grouping_col\"]"
   ]
  },
  {
   "cell_type": "code",
   "execution_count": null,
   "id": "a737616c-9443-40d4-afce-2fb059b75629",
   "metadata": {},
   "outputs": [],
   "source": [
    "normal_shapes = A2_valid_vehicle_positions.identify_stop_segment_cases(\n",
    "        analysis_date, GROUPING_COL, 0)"
   ]
  },
  {
   "cell_type": "code",
   "execution_count": null,
   "id": "43f0953b-dfa2-4115-8dff-04ce883ad9a1",
   "metadata": {},
   "outputs": [],
   "source": [
    "abnormal_shapes = A2_valid_vehicle_positions.identify_stop_segment_cases(\n",
    "        analysis_date, GROUPING_COL, 1)"
   ]
  },
  {
   "cell_type": "code",
   "execution_count": null,
   "id": "01c079d2-4559-40d4-885d-3c1c582dceee",
   "metadata": {},
   "outputs": [],
   "source": [
    "# datetime.datetime.now() "
   ]
  },
  {
   "cell_type": "code",
   "execution_count": null,
   "id": "c3be391e-6e23-4988-a94c-a217aa8f469c",
   "metadata": {},
   "outputs": [],
   "source": [
    "# Using A2 since I need the VPs to sjoin\n",
    "# Only the pared down stops are saved out\n",
    "# This takes a super long time\n",
    "\"\"\"\n",
    "usable_abnormal_vp = A2_valid_vehicle_positions.merge_usable_vp_with_sjoin_vpidx(\n",
    "        abnormal_shapes,\n",
    "        f\"{USABLE_VP}_{analysis_date}\",\n",
    "        f\"{INPUT_FILE_PREFIX}_{analysis_date}\",\n",
    "        GROUPING_COL\n",
    "    )\n",
    "\n",
    " \"\"\"   "
   ]
  },
  {
   "cell_type": "code",
   "execution_count": null,
   "id": "46b645ab-8974-47f5-bb7e-a62f96720924",
   "metadata": {},
   "outputs": [],
   "source": [
    "#usable_abnormal_vp = usable_abnormal_vp.assign(\n",
    "#    identifier = usable_abnormal_vp.gtfs_dataset_key.astype(str) + '/' + usable_abnormal_vp.shape_array_key.astype(str) + '/' + usable_abnormal_vp.trip_id.astype(str)\n",
    "#)"
   ]
  },
  {
   "cell_type": "code",
   "execution_count": null,
   "id": "2245e4f1-6df5-4f43-80fd-3bafb8f6e990",
   "metadata": {},
   "outputs": [],
   "source": [
    "#datetime.datetime.now() "
   ]
  },
  {
   "cell_type": "code",
   "execution_count": null,
   "id": "417c3069-c104-4614-abfc-13a3fd941dd1",
   "metadata": {},
   "outputs": [],
   "source": [
    "#agg = usable_abnormal_vp.groupby(['identifier']).vp_idx.nunique()"
   ]
  },
  {
   "cell_type": "code",
   "execution_count": null,
   "id": "8e926640-d0de-47db-92a5-45be1d0579c9",
   "metadata": {},
   "outputs": [],
   "source": [
    "# agg = agg.compute()"
   ]
  },
  {
   "cell_type": "code",
   "execution_count": null,
   "id": "d0ab6038-bf0b-42e4-ad3d-7fa03ded9573",
   "metadata": {},
   "outputs": [],
   "source": [
    "#agg2 = agg.to_frame()"
   ]
  },
  {
   "cell_type": "code",
   "execution_count": null,
   "id": "0d4ac9bb-bdf5-4a56-ad9d-74726171a2fd",
   "metadata": {},
   "outputs": [],
   "source": [
    "#agg3 = agg2.reset_index()"
   ]
  },
  {
   "cell_type": "code",
   "execution_count": null,
   "id": "c347b0d4-f55b-4f8b-8a5b-f2cf1dcd2612",
   "metadata": {},
   "outputs": [],
   "source": [
    "#agg3.shape"
   ]
  },
  {
   "cell_type": "code",
   "execution_count": null,
   "id": "72411c89-3317-4bf5-9c6b-3782880073b4",
   "metadata": {},
   "outputs": [],
   "source": [
    "#agg3.sample()"
   ]
  },
  {
   "cell_type": "code",
   "execution_count": null,
   "id": "5be6cad0-97ae-4721-8e68-e8f3f28b23d0",
   "metadata": {},
   "outputs": [],
   "source": [
    "#agg3[\"gtfs_dataset_key\"] = agg3[\"index\"].str.split(\"/\").str[0]"
   ]
  },
  {
   "cell_type": "code",
   "execution_count": null,
   "id": "be2986ff-2ec9-42c9-b18b-d9d8971c91df",
   "metadata": {},
   "outputs": [],
   "source": [
    "#agg3[\"trip_id\"] = agg3[\"index\"].str.split(\"/\").str[2]"
   ]
  },
  {
   "cell_type": "code",
   "execution_count": null,
   "id": "1c557e52-a980-4e49-a325-75d5454deea9",
   "metadata": {},
   "outputs": [],
   "source": [
    "#agg3 = agg3.drop(columns = ['index'])"
   ]
  },
  {
   "cell_type": "code",
   "execution_count": null,
   "id": "2ce8f0e4-ada5-44c7-a585-3331e16de0b7",
   "metadata": {},
   "outputs": [],
   "source": [
    "#agg3 = agg3.rename(columns = {'vp_idx':'number_of_unique_vps_sjoin'})"
   ]
  },
  {
   "cell_type": "code",
   "execution_count": null,
   "id": "79052ef0-6270-4842-9839-50e24a9b4caa",
   "metadata": {},
   "outputs": [],
   "source": [
    "#agg3.to_parquet(\n",
    "#    f\"{SEGMENT_GCS}special_vps_testing.parquet\"\n",
    "#)"
   ]
  },
  {
   "cell_type": "code",
   "execution_count": null,
   "id": "3014229f-756f-4f5e-9b28-bea866d8a143",
   "metadata": {},
   "outputs": [],
   "source": [
    "#agg3 = pd.read_parquet(f\"{SEGMENT_GCS}normalvps_testing.parquet\")"
   ]
  },
  {
   "cell_type": "code",
   "execution_count": null,
   "id": "3c0a0652-8b56-4162-bb51-900c14072c5f",
   "metadata": {},
   "outputs": [],
   "source": [
    "normal = pd.read_parquet(f\"{SEGMENT_GCS}normal_vps_testing.parquet\")"
   ]
  },
  {
   "cell_type": "code",
   "execution_count": null,
   "id": "ff9723f1-32aa-4506-b924-d4c9cc22c89b",
   "metadata": {},
   "outputs": [],
   "source": [
    "normal = normal.drop(columns = ['identifier'])"
   ]
  },
  {
   "cell_type": "code",
   "execution_count": null,
   "id": "3e258fac-e825-42ba-b4a7-3210f0e3abde",
   "metadata": {},
   "outputs": [],
   "source": [
    "special = pd.read_parquet(f\"{SEGMENT_GCS}special_vps_testing.parquet\")"
   ]
  },
  {
   "cell_type": "code",
   "execution_count": null,
   "id": "aa02c1c1-c36c-4e88-9256-c52bdddb0691",
   "metadata": {},
   "outputs": [],
   "source": [
    "sjoin_results = pd.concat([special, normal])"
   ]
  },
  {
   "cell_type": "code",
   "execution_count": null,
   "id": "2fecf390-0960-4d51-a473-b51c4f35043c",
   "metadata": {},
   "outputs": [],
   "source": [
    "sjoin_results.sample()"
   ]
  },
  {
   "cell_type": "code",
   "execution_count": null,
   "id": "55a3a78f-4f39-4b54-8215-26847352cae2",
   "metadata": {},
   "outputs": [],
   "source": [
    "stop running"
   ]
  },
  {
   "cell_type": "code",
   "execution_count": null,
   "id": "94cc3765-65fd-4c0e-b541-3328eb7f6cc4",
   "metadata": {},
   "outputs": [],
   "source": [
    "# VP all without paring\n",
    "STG_0_FILE = STOP_SEG_DICT['stage0']\n",
    "    "
   ]
  },
  {
   "cell_type": "code",
   "execution_count": null,
   "id": "f126d889-20be-403a-bc5d-63af169afd96",
   "metadata": {},
   "outputs": [],
   "source": [
    "f\"{STG_0_FILE}_{analysis_date}/\""
   ]
  },
  {
   "cell_type": "code",
   "execution_count": null,
   "id": "e35c9f86-a7d7-474d-88a3-5757ce458925",
   "metadata": {},
   "outputs": [],
   "source": [
    "all_pts = helpers.import_vehicle_positions(\n",
    "            SEGMENT_GCS,\n",
    "            f\"{STG_0_FILE}_{analysis_date}/\",\n",
    "            \"df\",\n",
    "            columns = [\"gtfs_dataset_key\", \"trip_id\",\"geometry\"],\n",
    "            partitioned = False\n",
    "        )\n",
    "all_pts = all_pts.compute()"
   ]
  },
  {
   "cell_type": "code",
   "execution_count": null,
   "id": "ad87abe6-deab-411a-b27f-27f90f657d07",
   "metadata": {},
   "outputs": [],
   "source": [
    "all_pts.sample(5)"
   ]
  },
  {
   "cell_type": "code",
   "execution_count": null,
   "id": "a617736e-780e-47d6-8f0e-9436d3aaddb7",
   "metadata": {},
   "outputs": [],
   "source": [
    "all_pts2 = (all_pts\n",
    "        .groupby(['gtfs_dataset_key','trip_id'])\n",
    "        .agg({'geometry':'nunique'}).reset_index()\n",
    "        .rename(columns = {'geometry':'number_of_unique_vps_all_pts'})\n",
    "        .reset_index(drop = True)\n",
    "       )"
   ]
  },
  {
   "cell_type": "code",
   "execution_count": null,
   "id": "a86e4864-92d5-4cd4-bfdf-7f4da6511083",
   "metadata": {
    "tags": []
   },
   "outputs": [],
   "source": [
    "len(all_pts[(all_pts.gtfs_dataset_key == \"cdd2ad81863b6d4ad51676a1cb781ea8\") & (all_pts.trip_id == \"10686020\")])"
   ]
  },
  {
   "cell_type": "code",
   "execution_count": null,
   "id": "79157471-20dd-431b-a2b7-56f6f505b535",
   "metadata": {},
   "outputs": [],
   "source": [
    "all_pts2[(all_pts2.gtfs_dataset_key == \"cdd2ad81863b6d4ad51676a1cb781ea8\") & (all_pts2.trip_id == \"10686020\")]"
   ]
  },
  {
   "cell_type": "code",
   "execution_count": null,
   "id": "81b17588-37ee-4194-86f3-c208995ccb00",
   "metadata": {},
   "outputs": [],
   "source": [
    "all_pts2[(all_pts2.gtfs_dataset_key == \"593953c37ce48a9449bb90808ba0c1e1\") & (all_pts2.trip_id == \"t5FE-b3EA-sl13\")]"
   ]
  },
  {
   "cell_type": "code",
   "execution_count": null,
   "id": "d5459274-4c39-4b37-aecc-c5443a21974c",
   "metadata": {},
   "outputs": [],
   "source": [
    "all_pts2[(all_pts2.gtfs_dataset_key == \"65d9589130415c685b89f4f7c2d8bd7e\") & (all_pts2.trip_id == \"10035002751332-DEC22\")]"
   ]
  },
  {
   "cell_type": "code",
   "execution_count": null,
   "id": "9beedeac-8ebc-4ce7-ac18-01f0565dc2ef",
   "metadata": {},
   "outputs": [],
   "source": [
    "# How did this pop up in the grouped df if it doesn't even exist??\n",
    "all_pts[(all_pts.gtfs_dataset_key == \"00accf770009aafd5dc103ff2eeddb37\") & (all_pts.trip_id == \"-1160024104\")]"
   ]
  },
  {
   "cell_type": "code",
   "execution_count": null,
   "id": "0d91a933-c8b9-486f-9797-45e927fe2f02",
   "metadata": {},
   "outputs": [],
   "source": [
    "all_pts3 = all_pts.drop(columns = ['geometry']).drop_duplicates().reset_index(drop = True)"
   ]
  },
  {
   "cell_type": "code",
   "execution_count": null,
   "id": "d5219bc6-d659-47e9-af93-fb87fc1cb810",
   "metadata": {},
   "outputs": [],
   "source": [
    "len(all_pts3)"
   ]
  },
  {
   "cell_type": "code",
   "execution_count": null,
   "id": "8ef005ed-8e22-4812-b1c9-aba864dc6b42",
   "metadata": {},
   "outputs": [],
   "source": [
    "all_pts2.shape"
   ]
  },
  {
   "cell_type": "code",
   "execution_count": null,
   "id": "9b846c50-2c15-490a-a871-69b787970c9e",
   "metadata": {},
   "outputs": [],
   "source": [
    "len(all_pts)"
   ]
  },
  {
   "cell_type": "markdown",
   "id": "75ebbba3-ed5e-4aae-86a0-ae23efb4f0af",
   "metadata": {},
   "source": [
    "##### Merge Sjoin with All Vehicles"
   ]
  },
  {
   "cell_type": "code",
   "execution_count": null,
   "id": "4dc64cd8-4b0f-46e7-bbc2-e8241820de48",
   "metadata": {},
   "outputs": [],
   "source": [
    "# Merge to get rid of weird rows??\n",
    "# These are all points \n",
    "pd.merge(all_pts3, all_pts2, on = ['gtfs_dataset_key','trip_id'], how = 'outer', indicator = True)[['_merge']].value_counts()"
   ]
  },
  {
   "cell_type": "code",
   "execution_count": null,
   "id": "ff9ab50e-844b-4e08-a95c-0a1e29402603",
   "metadata": {},
   "outputs": [],
   "source": [
    "merge1 = pd.merge(all_pts3, all_pts2, on = ['gtfs_dataset_key','trip_id'], how = 'inner')"
   ]
  },
  {
   "cell_type": "code",
   "execution_count": null,
   "id": "a439c9f6-161e-43d6-aa43-17a6a8d2684b",
   "metadata": {},
   "outputs": [],
   "source": [
    "merge1.sample()"
   ]
  },
  {
   "cell_type": "code",
   "execution_count": null,
   "id": "e4d6ccc4-5ebe-4ff5-a2d4-39839eb42069",
   "metadata": {},
   "outputs": [],
   "source": [
    "merge1.shape"
   ]
  },
  {
   "cell_type": "code",
   "execution_count": null,
   "id": "e4e2f4bb-9b92-4841-a579-7105657f3d47",
   "metadata": {},
   "outputs": [],
   "source": [
    "# These are sjoin positions\n",
    "agg3.sample()"
   ]
  },
  {
   "cell_type": "code",
   "execution_count": null,
   "id": "8b8a0f3e-2e9a-4636-a68c-cad12296c3eb",
   "metadata": {},
   "outputs": [],
   "source": [
    "agg3.shape"
   ]
  },
  {
   "cell_type": "code",
   "execution_count": null,
   "id": "e263fa67-f7d7-4289-89a2-2d07c56733f7",
   "metadata": {},
   "outputs": [],
   "source": [
    "pd.merge(merge1, agg3, on = ['gtfs_dataset_key','trip_id'], how = 'outer', indicator = True)[['_merge']].value_counts()"
   ]
  },
  {
   "cell_type": "code",
   "execution_count": null,
   "id": "22bcd878-3b10-4591-bc77-94d06073af2e",
   "metadata": {},
   "outputs": [],
   "source": [
    "merge2 = pd.merge(merge1, agg3, on = ['gtfs_dataset_key','trip_id'], how = 'inner')"
   ]
  },
  {
   "cell_type": "code",
   "execution_count": null,
   "id": "60ba9b28-a9bc-4ab8-a830-f09a4b4b6ea1",
   "metadata": {},
   "outputs": [],
   "source": [
    "merge2.sample(5)"
   ]
  },
  {
   "cell_type": "markdown",
   "id": "a4881061-ff1e-4981-9174-3810137ca0b4",
   "metadata": {
    "tags": []
   },
   "source": [
    "#### Merge test1 with A2sjoin results"
   ]
  },
  {
   "cell_type": "code",
   "execution_count": null,
   "id": "1a1bc575-75d1-46f0-9ceb-ae6c7e698ac3",
   "metadata": {},
   "outputs": [],
   "source": [
    "len(sjoin_results)"
   ]
  },
  {
   "cell_type": "code",
   "execution_count": null,
   "id": "ec3151a3-7892-4c64-82e6-b6bee08e2d1b",
   "metadata": {},
   "outputs": [],
   "source": [
    "sjoin_results.gtfs_dataset_key.nunique(),sjoin_results.trip_id.nunique()"
   ]
  },
  {
   "cell_type": "code",
   "execution_count": null,
   "id": "fac519fc-4dda-426a-af86-d75cef66a333",
   "metadata": {},
   "outputs": [],
   "source": [
    "test.gtfs_dataset_key.nunique(),test.trip_id.nunique()"
   ]
  },
  {
   "cell_type": "code",
   "execution_count": null,
   "id": "abdb4e9e-e39e-4f53-9e04-bae02d9ba977",
   "metadata": {},
   "outputs": [],
   "source": [
    "test.sample()"
   ]
  },
  {
   "cell_type": "code",
   "execution_count": null,
   "id": "548419c1-4a2c-4aa0-aaab-a966141fe5fe",
   "metadata": {},
   "outputs": [],
   "source": [
    "sjoin_results.sample()"
   ]
  },
  {
   "cell_type": "code",
   "execution_count": null,
   "id": "6ad4f412-7859-4fb0-a946-dcd995f5b669",
   "metadata": {},
   "outputs": [],
   "source": [
    "# How is it possible there are some that are right_only?\n",
    "# Lots of left only results b/c this is the full df. \n",
    "# test is just a subset\n",
    "pd.merge(sjoin_results, test, on = ['gtfs_dataset_key','trip_id'], how = 'outer', indicator = True)[['_merge']].value_counts()"
   ]
  },
  {
   "cell_type": "code",
   "execution_count": null,
   "id": "4c25d405-62ab-46c6-8768-592aff6649bc",
   "metadata": {},
   "outputs": [],
   "source": [
    "# Should be inner\n",
    "merge1 =  pd.merge(test, sjoin_results,  on = ['gtfs_dataset_key','trip_id'], how = 'left')"
   ]
  },
  {
   "cell_type": "code",
   "execution_count": null,
   "id": "6df44195-53f4-474c-9151-e2efc34aa77d",
   "metadata": {},
   "outputs": [],
   "source": [
    "merge1.sample()"
   ]
  },
  {
   "cell_type": "code",
   "execution_count": null,
   "id": "187b701b-cd1b-4bcf-8129-9a752032f8ee",
   "metadata": {},
   "outputs": [],
   "source": [
    "len(merge1)"
   ]
  },
  {
   "cell_type": "code",
   "execution_count": null,
   "id": "4c6af39a-4f73-48c7-8192-1a87de39da54",
   "metadata": {},
   "outputs": [],
   "source": [
    "merge1['percent_of_positions_retained'] = merge1.number_of_unique_vps_sjoin/merge1.vp_idx * 100"
   ]
  },
  {
   "cell_type": "code",
   "execution_count": null,
   "id": "b7216c1a-c0ed-496a-bc50-8f5e75705a7a",
   "metadata": {},
   "outputs": [],
   "source": [
    "merge1.percent_of_positions_retained.describe()"
   ]
  },
  {
   "cell_type": "code",
   "execution_count": null,
   "id": "9d793c89-ca02-4957-b5cd-af3d755bc843",
   "metadata": {},
   "outputs": [],
   "source": [
    "merge1 = merge1.fillna(0)"
   ]
  },
  {
   "cell_type": "markdown",
   "id": "ee245732-2038-4048-b199-5f882b7bb625",
   "metadata": {},
   "source": [
    "##### Why are 94 of the rows over 100??\n",
    "* Same point can joined to the segment. \n",
    "* Use nunique"
   ]
  },
  {
   "cell_type": "code",
   "execution_count": null,
   "id": "3fe9ee1c-8f65-4490-b14f-bdf4a8cc3425",
   "metadata": {},
   "outputs": [],
   "source": [
    "merge1.sample(5)"
   ]
  },
  {
   "cell_type": "code",
   "execution_count": null,
   "id": "007f62e8-07fd-488f-aae4-88f721a3938b",
   "metadata": {},
   "outputs": [],
   "source": [
    "len(merge1[merge1.percent_of_positions_retained > 100])"
   ]
  },
  {
   "cell_type": "code",
   "execution_count": null,
   "id": "d7589c52-1e16-4adb-b921-c985649cb137",
   "metadata": {},
   "outputs": [],
   "source": [
    "len(merge1[merge1.percent_of_positions_retained == 100])"
   ]
  },
  {
   "cell_type": "code",
   "execution_count": null,
   "id": "ed221aab-1286-4666-a933-0f5659373d47",
   "metadata": {
    "scrolled": true,
    "tags": []
   },
   "outputs": [],
   "source": [
    "merge1[merge1.percent_of_positions_retained > 100].sample(5)"
   ]
  },
  {
   "cell_type": "markdown",
   "id": "0b211042-513c-4ef1-a1d7-2bc62aaf7c66",
   "metadata": {
    "tags": []
   },
   "source": [
    "#### Compare results"
   ]
  },
  {
   "cell_type": "code",
   "execution_count": null,
   "id": "f6bc8923-a16a-4deb-a582-e02b3d3e0bc5",
   "metadata": {},
   "outputs": [],
   "source": [
    "agg2.sample()"
   ]
  },
  {
   "cell_type": "code",
   "execution_count": null,
   "id": "03595460-96e6-4b28-a1ec-97a589d17198",
   "metadata": {},
   "outputs": [],
   "source": [
    "merge1.sample()"
   ]
  },
  {
   "cell_type": "code",
   "execution_count": null,
   "id": "b1ab2e84-358c-4313-a0c4-3a702241afb0",
   "metadata": {},
   "outputs": [],
   "source": [
    "pd.merge(agg2, merge1, on = ['gtfs_dataset_key','trip_id'], how = 'outer', indicator = True)[['_merge']].value_counts()"
   ]
  },
  {
   "cell_type": "code",
   "execution_count": null,
   "id": "31198a64-dd96-41ef-a3c9-e4dbc695e6de",
   "metadata": {},
   "outputs": [],
   "source": [
    "merge4 = pd.merge(agg2, merge1, on = ['gtfs_dataset_key','trip_id'], how = 'inner')"
   ]
  },
  {
   "cell_type": "code",
   "execution_count": null,
   "id": "bb0e7900-2dab-458d-bd30-2471d0d66985",
   "metadata": {},
   "outputs": [],
   "source": [
    "len(merge4)"
   ]
  },
  {
   "cell_type": "code",
   "execution_count": null,
   "id": "5a640856-27cd-4302-a3fd-3aa0ec1e9582",
   "metadata": {},
   "outputs": [],
   "source": [
    "merge4.sample()"
   ]
  },
  {
   "cell_type": "code",
   "execution_count": null,
   "id": "d5d1d00f-1230-4304-bddb-6c6d5b94a79e",
   "metadata": {},
   "outputs": [],
   "source": [
    "merge4['difference'] = (merge4.percent_of_pts - merge4.percent_of_positions_retained)"
   ]
  },
  {
   "cell_type": "code",
   "execution_count": null,
   "id": "c384b1a8-71a3-4932-baa7-6e92dd953497",
   "metadata": {},
   "outputs": [],
   "source": [
    "merge4.difference.describe()"
   ]
  },
  {
   "cell_type": "code",
   "execution_count": null,
   "id": "3b8d2221-e118-4539-b7d1-5e40abd48443",
   "metadata": {},
   "outputs": [],
   "source": [
    "merge4.percent_of_positions_retained.describe()"
   ]
  },
  {
   "cell_type": "code",
   "execution_count": null,
   "id": "043964a6-6f35-4a98-8c4e-7346f5f72c23",
   "metadata": {},
   "outputs": [],
   "source": [
    "preview_cols2 = ['shape_array_key','gtfs_dataset_key', 'trip_id', 'pts_not_in_sjoin', 'sjoin_pts', 'all_pts',\n",
    "        'percent_of_pts', 'vp_idx', 'number_of_unique_vps_sjoin', 'percent_of_positions_retained', 'difference']"
   ]
  },
  {
   "cell_type": "code",
   "execution_count": null,
   "id": "e689dd02-dae7-4362-9127-7e098e60f2a6",
   "metadata": {},
   "outputs": [],
   "source": [
    "crosswalk.sample()"
   ]
  },
  {
   "cell_type": "code",
   "execution_count": null,
   "id": "334c54ff-6bd6-4aff-9782-7a469286535a",
   "metadata": {},
   "outputs": [],
   "source": [
    "merge4.sample()"
   ]
  },
  {
   "cell_type": "code",
   "execution_count": null,
   "id": "70f7ded2-13f7-4b3f-9ad4-2b5b7b91b7c7",
   "metadata": {},
   "outputs": [],
   "source": [
    "pd.merge(merge4, crosswalk, on =['gtfs_dataset_key','trip_id'], how = 'outer', indicator = True)[['_merge']].value_counts()"
   ]
  },
  {
   "cell_type": "code",
   "execution_count": null,
   "id": "f21b70b7-52bf-49a7-a1a8-0b61eeddc1b3",
   "metadata": {},
   "outputs": [],
   "source": [
    "merge4 = pd.merge(merge4, crosswalk, on =['gtfs_dataset_key','trip_id'], how = 'left')"
   ]
  }
 ],
 "metadata": {
  "kernelspec": {
   "display_name": "Python 3 (ipykernel)",
   "language": "python",
   "name": "python3"
  },
  "language_info": {
   "codemirror_mode": {
    "name": "ipython",
    "version": 3
   },
   "file_extension": ".py",
   "mimetype": "text/x-python",
   "name": "python",
   "nbconvert_exporter": "python",
   "pygments_lexer": "ipython3",
   "version": "3.9.13"
  }
 },
 "nbformat": 4,
 "nbformat_minor": 5
}
