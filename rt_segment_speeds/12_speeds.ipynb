{
 "cells": [
  {
   "cell_type": "code",
   "execution_count": null,
   "id": "2c7feec3-aa18-42ab-94b9-cab4be608152",
   "metadata": {},
   "outputs": [],
   "source": [
    "import datetime\n",
    "\n",
    "import _speed_utils as speed_utils\n",
    "import _threshold_utils as threshold_utils\n",
    "import altair as alt\n",
    "import dask.dataframe as dd\n",
    "import geopandas as gpd\n",
    "import pandas as pd\n",
    "from segment_speed_utils import gtfs_schedule_wrangling, helpers, segment_calcs\n",
    "from segment_speed_utils.project_vars import (\n",
    "    COMPILED_CACHED_VIEWS,\n",
    "    PROJECT_CRS,\n",
    "    SEGMENT_GCS,\n",
    "    analysis_date,\n",
    ")\n",
    "from shared_utils import calitp_color_palette as cp"
   ]
  },
  {
   "cell_type": "code",
   "execution_count": null,
   "id": "0108ae4a-4518-4487-85f7-a5faa3e9cbf6",
   "metadata": {},
   "outputs": [],
   "source": [
    "pd.options.display.max_columns = 100\n",
    "pd.options.display.float_format = \"{:.2f}\".format\n",
    "pd.set_option(\"display.max_rows\", None)\n",
    "pd.set_option(\"display.max_colwidth\", None)"
   ]
  },
  {
   "cell_type": "code",
   "execution_count": null,
   "id": "80014c5e-695d-4280-89cd-4e7e2bb3d302",
   "metadata": {},
   "outputs": [],
   "source": [
    "alt.data_transformers.disable_max_rows()"
   ]
  },
  {
   "cell_type": "markdown",
   "id": "35c1ba95-5929-4a7f-bfae-f6d126622104",
   "metadata": {},
   "source": [
    "### Merging"
   ]
  },
  {
   "cell_type": "code",
   "execution_count": null,
   "id": "701ea573-bac3-453a-ae63-0e6f8ccf0033",
   "metadata": {},
   "outputs": [],
   "source": [
    "analysis_date"
   ]
  },
  {
   "cell_type": "code",
   "execution_count": null,
   "id": "c3ab6f3f-2982-4466-aa76-06c7a235c62e",
   "metadata": {},
   "outputs": [],
   "source": [
    "avg_speeds = pd.read_parquet(\n",
    "    f\"{speed_utils.GCS_PATH}avg_speeds_stop_segments_{analysis_date}.parquet\"\n",
    ").drop(columns=[\"geometry\", \"geometry_arrowized\", \"district\", \"district_name\"])"
   ]
  },
  {
   "cell_type": "code",
   "execution_count": null,
   "id": "8185a464-5ca2-43bb-89f6-062ee01b5e2d",
   "metadata": {},
   "outputs": [],
   "source": [
    "speeds = pd.read_parquet(f\"{speed_utils.GCS_PATH}speeds_stop_segments_{analysis_date}\")"
   ]
  },
  {
   "cell_type": "code",
   "execution_count": null,
   "id": "01e1b2ad-edb7-4021-825f-612f070db139",
   "metadata": {},
   "outputs": [],
   "source": [
    "avg_speeds.sample()"
   ]
  },
  {
   "cell_type": "code",
   "execution_count": null,
   "id": "4623eaa7-4594-4155-859d-af997094c3de",
   "metadata": {},
   "outputs": [],
   "source": [
    "speeds.sample()"
   ]
  },
  {
   "cell_type": "code",
   "execution_count": null,
   "id": "bbc7804a-550a-40fa-a25f-7694b057c9b7",
   "metadata": {},
   "outputs": [],
   "source": [
    "merge_cols = [\"gtfs_dataset_key\", \"shape_array_key\", \"stop_sequence\"]\n",
    "merge1 = pd.merge(avg_speeds, speeds, on=merge_cols, how=\"inner\")"
   ]
  },
  {
   "cell_type": "code",
   "execution_count": null,
   "id": "34c64e59-0379-4edf-a87f-ec621c0b668b",
   "metadata": {},
   "outputs": [],
   "source": [
    "merge1.sample()"
   ]
  },
  {
   "cell_type": "code",
   "execution_count": null,
   "id": "e510e28b-a179-41d7-b738-e50edb26d878",
   "metadata": {},
   "outputs": [],
   "source": [
    "merge1.shape"
   ]
  },
  {
   "cell_type": "markdown",
   "id": "801c89ce-0e7f-4758-a38a-201cc843ef28",
   "metadata": {},
   "source": [
    "#### A few routes"
   ]
  },
  {
   "cell_type": "code",
   "execution_count": null,
   "id": "8ca57e6f-fb38-4381-ac83-cb9dc9fabdf4",
   "metadata": {},
   "outputs": [],
   "source": [
    "test_shapes = [\n",
    "    \"000624bd8453dbe4f2eb2765b04bcb98\",\n",
    "    \"000cf9d06f53da9b54fdd44e6d5eff27\",\n",
    "    \"00255a44e09390ac3381f7184a18f0c1\",\n",
    "    \"ffeb8a6113e0fdcd18e95257bb5be9cb\",\n",
    "    \"fffa6a34b26647eae8aea4172c83eba1\",\n",
    "    \"fffe83eb37f2bc4982a4cc10ef8cb2d9\",\n",
    "]"
   ]
  },
  {
   "cell_type": "code",
   "execution_count": null,
   "id": "6858f9a8-2136-4aab-a099-25907b6ef7ef",
   "metadata": {},
   "outputs": [],
   "source": [
    "few_routes = merge1.loc[merge1.shape_array_key.isin(test_shapes)].reset_index(drop=True)"
   ]
  },
  {
   "cell_type": "code",
   "execution_count": null,
   "id": "7dae3fdc-d8c0-4e50-8e11-5af4804c9a76",
   "metadata": {},
   "outputs": [],
   "source": [
    "# few_routes = merge1.copy()"
   ]
  },
  {
   "cell_type": "code",
   "execution_count": null,
   "id": "a9cb974d-08fe-49a6-ba7f-f29fd53c771e",
   "metadata": {},
   "outputs": [],
   "source": [
    "few_routes.shape_array_key.nunique()"
   ]
  },
  {
   "cell_type": "code",
   "execution_count": null,
   "id": "602983ba-8f2e-41cb-9eb8-96e8ede9f58a",
   "metadata": {},
   "outputs": [],
   "source": [
    "few_routes.shape"
   ]
  },
  {
   "cell_type": "code",
   "execution_count": null,
   "id": "f294ff32-b025-4037-9ebc-cefe6dca00b9",
   "metadata": {},
   "outputs": [],
   "source": [
    "few_routes.trip_id.nunique()"
   ]
  },
  {
   "cell_type": "code",
   "execution_count": null,
   "id": "bafa496a-0fdc-4b03-a4dd-f0c0e39c04de",
   "metadata": {},
   "outputs": [],
   "source": [
    "\"\"\"few_routes_agg = (\n",
    "    few_routes.groupby([\"shape_array_key\", \"stop_sequence\"])[\"meters_elapsed\"]\n",
    "    .describe(percentiles=[0.05, 0.95])\n",
    "    .reset_index()\n",
    "    .add_prefix(\"meters_\")\n",
    ")\"\"\""
   ]
  },
  {
   "cell_type": "code",
   "execution_count": null,
   "id": "7a981533-fa29-4f4e-b873-49be562798cb",
   "metadata": {},
   "outputs": [],
   "source": [
    "#few_routes_aggdask = dd.from_pandas(few_routes_agg, npartitions=1)"
   ]
  },
  {
   "cell_type": "code",
   "execution_count": null,
   "id": "c6fda994-bed0-4140-a269-207c20e0cc47",
   "metadata": {},
   "outputs": [],
   "source": [
    "#few_routes_dask = dd.from_pandas(few_routes, npartitions=1)"
   ]
  },
  {
   "cell_type": "code",
   "execution_count": null,
   "id": "c2275352-1c4e-4a11-bd96-776f6801ec97",
   "metadata": {},
   "outputs": [],
   "source": [
    "#type(few_routes_dask), type(few_routes_aggdask)"
   ]
  },
  {
   "cell_type": "code",
   "execution_count": null,
   "id": "ffde85cd-ee59-433a-b92f-c757d79e80ec",
   "metadata": {},
   "outputs": [],
   "source": [
    "\"\"\"dask_merge1 = dd.merge(\n",
    "    few_routes_dask,\n",
    "    few_routes_aggdask,\n",
    "    how=\"inner\",\n",
    "    left_on=[\"shape_array_key\", \"stop_sequence\"],\n",
    "    right_on=[\n",
    "        \"meters_shape_array_key\",\n",
    "        \"meters_stop_sequence\",\n",
    "    ],\n",
    ")\"\"\""
   ]
  },
  {
   "cell_type": "code",
   "execution_count": null,
   "id": "9d61f004-233b-4f0c-a1cc-1923f02a99e9",
   "metadata": {},
   "outputs": [],
   "source": [
    "#dask_merge1.head(1)"
   ]
  },
  {
   "cell_type": "code",
   "execution_count": null,
   "id": "53106a8f-414f-4710-97d5-4c36d953024b",
   "metadata": {},
   "outputs": [],
   "source": [
    "def percentile(row):\n",
    "\n",
    "    if row[\"meters_elapsed\"] == row[\"meters_mean\"]:\n",
    "        return \"meters average\"\n",
    "    elif row[\"meters_elapsed\"] <= row[\"meters_5%\"]:\n",
    "        return \"meters low\"\n",
    "\n",
    "    else:\n",
    "        return \"other\""
   ]
  },
  {
   "cell_type": "code",
   "execution_count": null,
   "id": "e1887f21-26f5-4ea6-a384-7c6b5519000f",
   "metadata": {},
   "outputs": [],
   "source": [
    "#dask_merge1[\"test\"] = dask_merge1.apply(\n",
    "#    lambda x: percentile(x), axis=1, meta=(\"test\", \"string\")\n",
    "#)"
   ]
  },
  {
   "cell_type": "code",
   "execution_count": null,
   "id": "dac25f8e-5d36-4464-b475-bfc2504ff2c2",
   "metadata": {},
   "outputs": [],
   "source": [
    "#dask_merge1 = dask_merge1.compute()"
   ]
  },
  {
   "cell_type": "code",
   "execution_count": null,
   "id": "9e1e478f-0190-40ec-a32d-783c87482b79",
   "metadata": {},
   "outputs": [],
   "source": [
    "#dask_merge1[[\"test\"]].head()"
   ]
  },
  {
   "cell_type": "code",
   "execution_count": null,
   "id": "b4f56307-6624-488d-8688-7a9f1e47ff65",
   "metadata": {},
   "outputs": [],
   "source": [
    "def categorize_by_percentile(\n",
    "    df: pd.DataFrame, column_percentile: str, column_str: str\n",
    ") -> dd.DataFrame:\n",
    "\n",
    "    # Find percentiles\n",
    "    agg1 = (\n",
    "        df.groupby([\"shape_array_key\", \"stop_sequence\"])[column_percentile]\n",
    "        .describe(percentiles=[0.05, 0.95])\n",
    "        .reset_index()\n",
    "        .add_prefix(column_str)\n",
    "    )\n",
    "\n",
    "    # Convert to dask because it takes a very long time\n",
    "    agg1_dask = dd.from_pandas(agg1, npartitions=1)\n",
    "    df_dask = dd.from_pandas(df, npartitions=1)\n",
    "\n",
    "    # Merge using dask\n",
    "    merge1_dask = dd.merge(\n",
    "        df_dask,\n",
    "        agg1_dask,\n",
    "        how=\"inner\",\n",
    "        left_on=[\"shape_array_key\", \"stop_sequence\"],\n",
    "        right_on=[\n",
    "            f\"{column_str}shape_array_key\",\n",
    "            f\"{column_str}stop_sequence\",\n",
    "        ],\n",
    "    )\n",
    "\n",
    "    def percentile(row):\n",
    "\n",
    "        if row[column_percentile] == row[f\"{column_str}mean\"]:\n",
    "            return f\"{column_str} elapsed avg\"\n",
    "        elif row[column_percentile] <= row[f\"{column_str}5%\"]:\n",
    "            return f\"{column_str} elapsed low\"\n",
    "        elif row[column_percentile] == 0:\n",
    "            return f\"{column_str} elapsed is 0\"\n",
    "        elif row[f\"{column_str}5%\"] < row[column_percentile] <= row[f\"{column_str}95%\"]:\n",
    "            return f\"{column_str} elapsed avg\"\n",
    "\n",
    "        elif row[column_percentile] > row[f\"{column_str}95%\"]:\n",
    "            return f\"{column_str} elapsed high\"\n",
    "\n",
    "        else:\n",
    "            return \"other\"\n",
    "\n",
    "    merge1_dask[f\"{column_str}cat\"] = merge1_dask.apply(\n",
    "        lambda x: percentile(x), axis=1, meta=(f\"{column_str}cat\", \"string\")\n",
    "    )\n",
    "\n",
    "    # Clean\n",
    "    merge1_dask[f\"{column_str}cat\"] = merge1_dask[f\"{column_str}cat\"].str.replace(\"_\", \"\")\n",
    "\n",
    "    columns_to_keep = [\n",
    "        \"shape_array_key\",\n",
    "        \"gtfs_dataset_key\",\n",
    "        \"_gtfs_dataset_name\",\n",
    "        \"speed_mph\",\n",
    "        \"loop_or_inlining\",\n",
    "        \"stop_sequence\",\n",
    "        \"stop_id\",\n",
    "        \"trip_id\",\n",
    "        \"n_trips\",\n",
    "        \"p20_speed_mph\",\n",
    "        \"p80_speed_mph\",\n",
    "        \"time_of_day\",\n",
    "        \"median_speed_mph\",\n",
    "        \"meters_elapsed\",\n",
    "        \"sec_elapsed\",\n",
    "        f\"{column_str}5%\",\n",
    "        f\"{column_str}95%\",\n",
    "        f\"{column_str}cat\"\n",
    "    ]\n",
    "    merge1_dask = merge1_dask[columns_to_keep]\n",
    "    print(f\"Done with {column_str}\")\n",
    "    return merge1_dask"
   ]
  },
  {
   "cell_type": "code",
   "execution_count": null,
   "id": "55eb1e43-bea2-4e6c-b665-513115107c25",
   "metadata": {},
   "outputs": [],
   "source": [
    "#ddf_meters = ddf_meters.compute()"
   ]
  },
  {
   "cell_type": "code",
   "execution_count": null,
   "id": "12014229-3cf9-4e44-a603-8dbaca1506e5",
   "metadata": {},
   "outputs": [],
   "source": [
    "#ddf_sec = ddf_sec.compute()"
   ]
  },
  {
   "cell_type": "code",
   "execution_count": null,
   "id": "963353ae-52ab-4ca4-bef5-b3649b6b74c3",
   "metadata": {},
   "outputs": [],
   "source": [
    "def flag(row):\n",
    "\n",
    "    if (row[\"meters_elapsed\"] == 0) & (row[\"sec_elapsed\"] == 0):\n",
    "        return \"division by 0\"\n",
    "\n",
    "    elif row[\"meters_cat\"] == \"meters elapsed low\":\n",
    "        return \"meters too low\"\n",
    "\n",
    "    elif row[\"seconds_cat\"] == \"seconds elapsed high\":\n",
    "        return \"seconds too high\"\n",
    "\n",
    "    else:\n",
    "        return \"ok\""
   ]
  },
  {
   "cell_type": "code",
   "execution_count": null,
   "id": "d80535fb-8648-4216-918f-76e0484ba3ea",
   "metadata": {},
   "outputs": [],
   "source": [
    "def categorize_meters_speeds(df):\n",
    "    start = datetime.datetime.now()\n",
    "\n",
    "    print(f\"Begin: {start}\")\n",
    "\n",
    "    # Find percentiles\n",
    "    df.speed_mph = df.speed_mph.fillna(0)\n",
    "\n",
    "    # These are now dask dataframes\n",
    "    ddf_meters = categorize_by_percentile(df, \"meters_elapsed\", \"meters_\")\n",
    "    ddf_seconds = categorize_by_percentile(df, \"sec_elapsed\", \"seconds_\")\n",
    "\n",
    "    merge_cols = ['shape_array_key', 'gtfs_dataset_key', '_gtfs_dataset_name',\n",
    "       'speed_mph', 'loop_or_inlining', 'stop_sequence', 'stop_id', 'n_trips',\n",
    "       'p20_speed_mph', 'p80_speed_mph', 'time_of_day', 'median_speed_mph',\n",
    "       'meters_elapsed', 'sec_elapsed',\"trip_id\",]\n",
    "    \n",
    "    # Merge using dask\n",
    "    m1 = dd.merge(\n",
    "        ddf_meters,\n",
    "        ddf_seconds,\n",
    "        how=\"inner\",\n",
    "        on=merge_cols)\n",
    "\n",
    "    # Apply flags\n",
    "    m1[\"flag\"] = m1.apply(lambda x: flag(x), axis=1, meta=(\"flag\", \"string\"))\n",
    "\n",
    "    end = datetime.datetime.now()\n",
    "    print(f\"Finish: {end-start}\")\n",
    "    return m1"
   ]
  },
  {
   "cell_type": "code",
   "execution_count": null,
   "id": "4676866e-674a-4561-bc4f-55dc2dcc4769",
   "metadata": {
    "tags": []
   },
   "outputs": [],
   "source": [
    "few_routes_cat = categorize_meters_speeds(few_routes)"
   ]
  },
  {
   "cell_type": "code",
   "execution_count": null,
   "id": "fdde9f12-a650-41ef-9bf6-a83204647f30",
   "metadata": {},
   "outputs": [],
   "source": [
    "len(few_routes_cat)"
   ]
  },
  {
   "cell_type": "code",
   "execution_count": null,
   "id": "e016eb5a-0039-4063-ade4-c871e01c8a16",
   "metadata": {},
   "outputs": [],
   "source": [
    "few_routes_cat.groupby([\"flag\",\"meters_cat\", \"seconds_cat\",]).agg(\n",
    "    {\"trip_id\": \"count\"}\n",
    ").reset_index().sort_values([\"trip_id\"], ascending=False).compute()"
   ]
  },
  {
   "cell_type": "code",
   "execution_count": null,
   "id": "afdb5cf4-cc61-454f-bdb5-8261e91bedf3",
   "metadata": {},
   "outputs": [],
   "source": [
    "subset = [\n",
    "    \"unusual_flag\",\n",
    "    \"shape_array_key\",\n",
    "    \"stop_sequence\",\n",
    "    \"stop_id\",\n",
    "    \"median_speed_mph\",\n",
    "    \"p20_speed_mph\",\n",
    "    \"p80_speed_mph\",\n",
    "    \"_gtfs_dataset_name\",\n",
    "    \"trip_id\",\n",
    "    \"meters_elapsed\",\n",
    "    \"sec_elapsed\",\n",
    "    \"speed_mph\",\n",
    "    \"meters_5%\",\n",
    "    \"meters_50%\",\n",
    "    \"meters_95%\",\n",
    "    \"meters_cat\",\n",
    "    \"seconds_5%\",\n",
    "    \"seconds_50%\",\n",
    "    \"seconds_95%\",\n",
    "    \"seconds_cat\",\n",
    "]"
   ]
  },
  {
   "cell_type": "code",
   "execution_count": null,
   "id": "bdd2b274-87a7-4306-8494-f65416ac88fb",
   "metadata": {},
   "outputs": [],
   "source": [
    "high_low_zero =  few_routes_cat[few_routes_cat.flag != \"ok\"].reset_index()"
   ]
  },
  {
   "cell_type": "code",
   "execution_count": null,
   "id": "5b2a9d41-925b-442f-a851-a354f58eb127",
   "metadata": {},
   "outputs": [],
   "source": [
    "high_low_zero = high_low_zero.compute()"
   ]
  },
  {
   "cell_type": "code",
   "execution_count": null,
   "id": "798b9bfe-ca16-4453-8ca5-7a06f449e38e",
   "metadata": {},
   "outputs": [],
   "source": [
    "high_low_zero.trip_id.nunique()"
   ]
  },
  {
   "cell_type": "code",
   "execution_count": null,
   "id": "54a2b149-c5db-4917-8232-2ecf425fddc7",
   "metadata": {},
   "outputs": [],
   "source": [
    "few_routes_cat = few_routes_cat.compute()"
   ]
  },
  {
   "cell_type": "code",
   "execution_count": null,
   "id": "c1fbe857-c760-4b22-8265-638326a36890",
   "metadata": {},
   "outputs": [],
   "source": [
    "few_routes_cat.trip_id.nunique()"
   ]
  },
  {
   "cell_type": "markdown",
   "id": "8d16b36f-4ace-4ad5-beb6-fd0f5d98e56e",
   "metadata": {},
   "source": [
    "### Visualize \n",
    "#### One"
   ]
  },
  {
   "cell_type": "code",
   "execution_count": null,
   "id": "c0fbb61d-586d-4513-99c0-793e7105ac2a",
   "metadata": {},
   "outputs": [],
   "source": [
    "equal_sampling = high_low_zero.groupby('flag').apply(lambda x: x.sample(n=2)).reset_index(drop = True)"
   ]
  },
  {
   "cell_type": "code",
   "execution_count": null,
   "id": "34840f61-1857-4f5c-b3a6-abcac18af0db",
   "metadata": {},
   "outputs": [],
   "source": [
    "trips = list(equal_sampling.trip_id.unique())"
   ]
  },
  {
   "cell_type": "code",
   "execution_count": null,
   "id": "759ac80e-9c98-4c94-add3-859ab998e038",
   "metadata": {},
   "outputs": [],
   "source": [
    "stops = list(equal_sampling.stop_id.unique())"
   ]
  },
  {
   "cell_type": "code",
   "execution_count": null,
   "id": "94620388-876e-4e6d-80ab-ac68eb1061c9",
   "metadata": {},
   "outputs": [],
   "source": [
    "# Plot some of the trips\n",
    "sample_data = few_routes_cat[few_routes_cat.trip_id.isin(trips)].reset_index()"
   ]
  },
  {
   "cell_type": "code",
   "execution_count": null,
   "id": "417804f1-9e24-4ac6-9c96-95f4da8f9693",
   "metadata": {},
   "outputs": [],
   "source": [
    "sample_data.shape"
   ]
  },
  {
   "cell_type": "code",
   "execution_count": null,
   "id": "339a67c7-3634-43d4-b865-b10119507c44",
   "metadata": {},
   "outputs": [],
   "source": [
    "# sample_data2 = sample_data[['shape_array_key','gtfs_dataset_key','trip_id']]"
   ]
  },
  {
   "cell_type": "code",
   "execution_count": null,
   "id": "39231b51-f0ab-4bbe-80d0-8a2081849e50",
   "metadata": {},
   "outputs": [],
   "source": [
    "plotting = sample_data.melt(\n",
    "    id_vars=[\n",
    "        \"_gtfs_dataset_name\",\n",
    "        \"shape_array_key\",\n",
    "        \"trip_id\",\n",
    "        \"stop_sequence\",\n",
    "        \"gtfs_dataset_key\",\n",
    "        \"loop_or_inlining\",\n",
    "        \"n_trips\",\n",
    "        \"meters_elapsed\",\n",
    "        \"meters_cat\",\n",
    "        \"seconds_cat\",\n",
    "        \"sec_elapsed\",\n",
    "        \"flag\",\n",
    "        'p20_speed_mph', 'p80_speed_mph',\n",
    "        'median_speed_mph',\n",
    "    ],\n",
    "    value_vars=[\"speed_mph\"],\n",
    ")"
   ]
  },
  {
   "cell_type": "code",
   "execution_count": null,
   "id": "959bbe35-8c21-4795-b418-745a0caa94e8",
   "metadata": {},
   "outputs": [],
   "source": [
    "# Clean\n",
    "plotting = threshold_utils.pre_clean(plotting)"
   ]
  },
  {
   "cell_type": "code",
   "execution_count": null,
   "id": "dd343cdd-acf3-4433-a702-8c3eb53ba1f0",
   "metadata": {},
   "outputs": [],
   "source": [
    "plotting[\"Dropdown Menu\"] = (\n",
    "    plotting[\"Gtfs Dataset Name\"] + \" \" + plotting[\"Trip Id\"]\n",
    ")"
   ]
  },
  {
   "cell_type": "code",
   "execution_count": null,
   "id": "072f39d9-4bf9-4efc-a393-24f096cecf7e",
   "metadata": {},
   "outputs": [],
   "source": [
    "def alt_dropdown(df, col_for_dropdown: str, dropdown_menu_title: str):\n",
    "    # Create dropdown menu\n",
    "    # Exclude \"none\" operators which are only scheduled data\n",
    "    df = df.loc[df[col_for_dropdown] != \"None\"][[col_for_dropdown]]\n",
    "    dropdown_list = df[col_for_dropdown].unique().tolist()\n",
    "\n",
    "    # Show only first operator by default\n",
    "    initialize_first_op = sorted(dropdown_list)[0]\n",
    "    input_dropdown = alt.binding_select(\n",
    "        options=sorted(dropdown_list), name=dropdown_menu_title\n",
    "    )\n",
    "\n",
    "    selection = alt.selection_single(\n",
    "        name=dropdown_menu_title,\n",
    "        fields=[col_for_dropdown],\n",
    "        bind=input_dropdown,\n",
    "        init={col_for_dropdown: initialize_first_op},\n",
    "    )\n",
    "\n",
    "    return selection"
   ]
  },
  {
   "cell_type": "code",
   "execution_count": null,
   "id": "6b919e59-03e8-426f-b9b3-4468d5b1b06b",
   "metadata": {},
   "outputs": [],
   "source": [
    "selection_test = alt_dropdown(plotting, \"Dropdown Menu\", \"Route\")"
   ]
  },
  {
   "cell_type": "code",
   "execution_count": null,
   "id": "d7b9d14f-b708-4426-a1b8-4afb4e7c95ba",
   "metadata": {},
   "outputs": [],
   "source": [
    "(\n",
    "    threshold_utils.chart_size(\n",
    "        alt.Chart(plotting)\n",
    "        .mark_tick(\n",
    "            size=15,\n",
    "            thickness=5,\n",
    "        )\n",
    "        .encode(\n",
    "            x=\"Stop Sequence:N\",\n",
    "            y=\"Value:Q\",\n",
    "            color=alt.Color(\n",
    "                \"Flag:N\", scale=alt.Scale(range=cp.CALITP_CATEGORY_BOLD_COLORS)\n",
    "            ),\n",
    "            tooltip=plotting.columns.tolist(),\n",
    "        )\n",
    "        .interactive(),\n",
    "        1100,\n",
    "        400,\n",
    "    )\n",
    "    .add_selection(selection_test)\n",
    "    .transform_filter(selection_test)\n",
    ")"
   ]
  },
  {
   "cell_type": "code",
   "execution_count": null,
   "id": "7ec90906-3364-440c-a951-eb5f2b1e84c2",
   "metadata": {},
   "outputs": [],
   "source": [
    "stop"
   ]
  },
  {
   "cell_type": "code",
   "execution_count": null,
   "id": "a1aba28a-92f5-417c-a0d3-e31bf80e3a7d",
   "metadata": {},
   "outputs": [],
   "source": [
    "vehicle_positions = gpd.read_parquet(\n",
    "    \"gs://calitp-analytics-data/data-analyses/rt_segment_speeds/vp_2023-04-12.parquet\"\n",
    ")"
   ]
  },
  {
   "cell_type": "code",
   "execution_count": null,
   "id": "140112e0-8ee0-481d-848c-4db091460418",
   "metadata": {},
   "outputs": [],
   "source": [
    "type(vehicle_positions)"
   ]
  },
  {
   "cell_type": "code",
   "execution_count": null,
   "id": "d843325a-f33c-40de-a3cb-befed24d645e",
   "metadata": {},
   "outputs": [],
   "source": [
    "vehicle_positions2 = vehicle_positions[\n",
    "    vehicle_positions.trip_id.isin(trips)\n",
    "].reset_index()"
   ]
  },
  {
   "cell_type": "code",
   "execution_count": null,
   "id": "8840809b-dd6f-4c0e-a68b-0a37f508df14",
   "metadata": {},
   "outputs": [],
   "source": [
    "vehicle_positions2.shape"
   ]
  },
  {
   "cell_type": "code",
   "execution_count": null,
   "id": "896b5c73-0835-4ee7-a4f2-9d960778fe35",
   "metadata": {},
   "outputs": [],
   "source": [
    "gdf1 = pd.merge(\n",
    "    vehicle_positions2,\n",
    "    sample_data,\n",
    "    how=\"inner\",\n",
    "    on=[\"gtfs_dataset_key\", \"_gtfs_dataset_name\", \"trip_id\"],\n",
    ")"
   ]
  },
  {
   "cell_type": "code",
   "execution_count": null,
   "id": "3725d07d-7b9f-483b-aa56-8d428b9f3d11",
   "metadata": {},
   "outputs": [],
   "source": [
    "gdf1.shape"
   ]
  },
  {
   "cell_type": "code",
   "execution_count": null,
   "id": "c82d7834-567b-4de4-b465-aea8c1a62715",
   "metadata": {},
   "outputs": [],
   "source": [
    "gdf1 = gdf1[gdf1.stop_id.isin(stops)]"
   ]
  },
  {
   "cell_type": "code",
   "execution_count": null,
   "id": "a86cec8e-e7fd-48ce-9692-c766df2b68e8",
   "metadata": {},
   "outputs": [],
   "source": [
    "gdf1.shape"
   ]
  },
  {
   "cell_type": "code",
   "execution_count": null,
   "id": "3bf3c599-2aec-4ae7-b8c8-53a4eff8795a",
   "metadata": {
    "tags": []
   },
   "outputs": [],
   "source": [
    "gdf1[\n",
    "    [\n",
    "        \"geometry\",\n",
    "        \"stop_id\",\n",
    "        \"stop_sequence\",\n",
    "        \"_gtfs_dataset_name\",\n",
    "        \"shape_array_key\",\n",
    "        \"speed_mph\",\n",
    "        \"flag\",\n",
    "    ]\n",
    "].explore(\"flag\")"
   ]
  },
  {
   "cell_type": "markdown",
   "id": "e01d88e4-a3e2-43f1-9591-afe83e8a92cf",
   "metadata": {
    "tags": []
   },
   "source": [
    "#### Summarize"
   ]
  },
  {
   "cell_type": "code",
   "execution_count": null,
   "id": "229c6d49-58e1-45bd-839f-b03f7e8cdd4a",
   "metadata": {},
   "outputs": [],
   "source": [
    "def summarize(original: pd.DataFrame, filtered_unusual_stops: pd.DataFrame):\n",
    "\n",
    "    subset = [\"_gtfs_dataset_name\", \"gtfs_dataset_key\", \"shape_array_key\"]\n",
    "\n",
    "    def aggregate(df, total_trip_column_name: str):\n",
    "        agg = (\n",
    "            df.groupby(subset)\n",
    "            .agg({\"stop_sequence\": \"count\"})\n",
    "            .reset_index()\n",
    "            .rename(columns={\"stop_sequence\": total_trip_column_name})\n",
    "        )\n",
    "\n",
    "        return agg\n",
    "\n",
    "    total_unusual_stops = aggregate(filtered_unusual_stops, \"total_unusual_stops\")\n",
    "    total_stops = aggregate(original, \"total_stops\")\n",
    "\n",
    "    # Merge them\n",
    "    merge1 = pd.merge(total_unusual_stops, total_stops, on=subset, how=\"inner\")\n",
    "\n",
    "    #  Add some columns\n",
    "    merge1[\"percent_of_unusual_stops\"] = (\n",
    "        (merge1.total_unusual_stops / merge1.total_stops) * 100\n",
    "    ).astype(int)\n",
    "\n",
    "    merge1[\n",
    "        \"Percentage of Unusual Stops\"\n",
    "    ] = \"% of Unusual Stops: \" + merge1.percent_of_unusual_stops.astype(str)\n",
    "\n",
    "    # Add dropdown menu\n",
    "    # merge1[\"Dropdown Menu\"] = merge1._gtfs_dataset_name + \" \" + merge1.shape_array_key\n",
    "\n",
    "    # Clean\n",
    "    merge1 = merge1.sort_values([\"percent_of_unusual_stops\"], ascending=False)\n",
    "    merge1 = merge1.drop(columns=[\"percent_of_unusual_stops\"])\n",
    "\n",
    "    merge1 = threshold_utils.pre_clean(merge1)\n",
    "    return merge1"
   ]
  },
  {
   "cell_type": "code",
   "execution_count": null,
   "id": "dad7c9b8-9025-4d91-bf75-0e23c3ac2a52",
   "metadata": {},
   "outputs": [],
   "source": [
    "summarize(few_routes_cat, high_low_zero)"
   ]
  },
  {
   "cell_type": "markdown",
   "id": "cde431f9-10ad-484f-b954-dd3c13a6e683",
   "metadata": {
    "tags": []
   },
   "source": [
    "#### Draft\n",
    "* Show which stops are excluded from flags\n",
    "* Show how many stops are dropped\n",
    "* Show % of stops that were flagged compared to total stops."
   ]
  },
  {
   "cell_type": "code",
   "execution_count": null,
   "id": "f6d7831f-aed2-4e87-aae1-8ab6ddc08666",
   "metadata": {},
   "outputs": [],
   "source": [
    "stop"
   ]
  },
  {
   "cell_type": "code",
   "execution_count": null,
   "id": "aae6b6c0-ce47-4ca1-b104-68b39ebcf2ca",
   "metadata": {},
   "outputs": [],
   "source": [
    "high_low_zero2 = high_low_zero.melt(\n",
    "    id_vars=[\n",
    "        \"_gtfs_dataset_name\",\n",
    "        \"shape_array_key\",\n",
    "        \"trip_id\",\n",
    "        \"stop_sequence\",\n",
    "        \"gtfs_dataset_key\",\n",
    "        \"loop_or_inlining\",\n",
    "        \"n_trips\",\n",
    "        \"meters_cat\",\n",
    "        \"seconds_cat\",\n",
    "        \"unusual_flag\",\n",
    "        \"time_of_day\",\n",
    "    ],\n",
    "    value_vars=[\"median_speed_mph\", \"speed_mph\", \"p20_speed_mph\", \"p80_speed_mph\"],\n",
    ")"
   ]
  },
  {
   "cell_type": "code",
   "execution_count": null,
   "id": "767abd20-d030-42d3-b85f-6d3023d69b8a",
   "metadata": {},
   "outputs": [],
   "source": [
    "high_low_zero2 = high_low_zero2.drop_duplicates(\n",
    "    subset=[\n",
    "        \"loop_or_inlining\",\n",
    "        \"shape_array_key\",\n",
    "        \"stop_sequence\",\n",
    "        \"time_of_day\",\n",
    "        \"variable\",\n",
    "        \"value\",\n",
    "    ]\n",
    ").reset_index(drop=True)"
   ]
  },
  {
   "cell_type": "code",
   "execution_count": null,
   "id": "52e7ee5a-a40e-423e-ba4b-dea14de17982",
   "metadata": {},
   "outputs": [],
   "source": [
    "high_low_zero2.shape"
   ]
  },
  {
   "cell_type": "code",
   "execution_count": null,
   "id": "23e7f746-b1b5-402f-92fd-dbc74840e013",
   "metadata": {},
   "outputs": [],
   "source": [
    "merge1.shape_array_key.nunique(), high_low_zero.shape_array_key.nunique()"
   ]
  },
  {
   "cell_type": "code",
   "execution_count": null,
   "id": "8a25f067-956e-46a7-aa7a-5abf57e662f6",
   "metadata": {},
   "outputs": [],
   "source": [
    "# Clean\n",
    "high_low_zero2 = threshold_utils.pre_clean(high_low_zero2)"
   ]
  },
  {
   "cell_type": "code",
   "execution_count": null,
   "id": "b5eea02c-05ec-4707-a06d-9de1864e8fbe",
   "metadata": {},
   "outputs": [],
   "source": [
    "# Add dropdown menu\n",
    "high_low_zero2[\"Dropdown Menu\"] = (\n",
    "    high_low_zero2[\"Gtfs Dataset Name\"] + \" \" + high_low_zero2[\"Shape Array Key\"]\n",
    ")"
   ]
  },
  {
   "cell_type": "code",
   "execution_count": null,
   "id": "571b471f-4a66-474f-8900-c3eaffde441e",
   "metadata": {},
   "outputs": [],
   "source": [
    "high_low_zero2[\"Route Type\"] = \"Route Type: \" + high_low_zero2[\n",
    "    \"Loop Or Inlining\"\n",
    "].astype(str)"
   ]
  },
  {
   "cell_type": "code",
   "execution_count": null,
   "id": "b7b429be-057c-4692-927e-92107b015ae6",
   "metadata": {},
   "outputs": [],
   "source": [
    "selection_test = alt_dropdown(high_low_zero2, \"Dropdown Menu\", \"Route\")"
   ]
  },
  {
   "cell_type": "code",
   "execution_count": null,
   "id": "aa0fad8b-b49e-48be-8070-adaf6e63d541",
   "metadata": {},
   "outputs": [],
   "source": [
    "# https://github.com/altair-viz/altair/issues/1168\n",
    "title = (\n",
    "    alt.Chart(high_low_zero2)\n",
    "    .mark_text(dy=-40, size=15, fontWeight=\"normal\")\n",
    "    .encode(\n",
    "        text=\"Route Type:N\",\n",
    "    )\n",
    "    .add_selection(selection_test)\n",
    "    .transform_filter(selection_test)\n",
    ")"
   ]
  },
  {
   "cell_type": "code",
   "execution_count": null,
   "id": "1042a774-165c-4f7e-bfc9-c4d4980bd29b",
   "metadata": {},
   "outputs": [],
   "source": [
    "\"\"\"total_stops_altair = (\n",
    "    alt.Chart(stop_info)\n",
    "    .mark_text(dy=-40, size=15, fontWeight=\"normal\")\n",
    "    .encode(\n",
    "        text=\"Percentage Of Unusual Stops:N\",\n",
    "    )\n",
    "    .add_selection(selection_test)\n",
    "    .transform_filter(selection_test)\n",
    ")\"\"\""
   ]
  },
  {
   "cell_type": "code",
   "execution_count": null,
   "id": "6067e93b-3519-45fc-b027-11cbcc82d80f",
   "metadata": {},
   "outputs": [],
   "source": [
    "main_chart = (\n",
    "    threshold_utils.chart_size(\n",
    "        alt.Chart(high_low_zero2)\n",
    "        .mark_tick(\n",
    "            size=15,\n",
    "            thickness=5,\n",
    "        )\n",
    "        .encode(\n",
    "            x=\"Stop Sequence:N\",\n",
    "            y=\"Value:Q\",\n",
    "            color=alt.Color(\n",
    "                \"Variable:N\", scale=alt.Scale(range=cp.CALITP_CATEGORY_BRIGHT_COLORS)\n",
    "            ),\n",
    "            tooltip=high_low_zero2.columns.tolist(),\n",
    "        )\n",
    "        .interactive(),\n",
    "        1100,\n",
    "        400,\n",
    "    )\n",
    "    .add_selection(selection_test)\n",
    "    .transform_filter(selection_test)\n",
    ")"
   ]
  },
  {
   "cell_type": "code",
   "execution_count": null,
   "id": "da0d6aad-26c3-439b-93d2-ba5a3abac77d",
   "metadata": {},
   "outputs": [],
   "source": [
    "high_low_zero2.shape"
   ]
  },
  {
   "cell_type": "code",
   "execution_count": null,
   "id": "c77e2503-e211-48cc-a220-d96f82ab72df",
   "metadata": {},
   "outputs": [],
   "source": [
    "(title & total_stops_altair | main_chart)"
   ]
  },
  {
   "cell_type": "code",
   "execution_count": null,
   "id": "9f709e13-aa1e-44da-9027-dfafaead5dad",
   "metadata": {},
   "outputs": [],
   "source": [
    "high_low_zero.shape_array_key.unique()"
   ]
  },
  {
   "cell_type": "code",
   "execution_count": null,
   "id": "24c99824-35b7-476c-9dd2-8e07e075bb4d",
   "metadata": {},
   "outputs": [],
   "source": [
    "merge1.time_of_day.value_counts()"
   ]
  },
  {
   "cell_type": "code",
   "execution_count": null,
   "id": "670047c2-2b24-4df3-a6f9-5f399063f521",
   "metadata": {
    "scrolled": true,
    "tags": []
   },
   "outputs": [],
   "source": [
    "stc_test = merge1[\n",
    "    (merge1.stop_sequence == 30)\n",
    "    & (merge1.shape_array_key == \"ffeb8a6113e0fdcd18e95257bb5be9cb\")\n",
    "]"
   ]
  },
  {
   "cell_type": "code",
   "execution_count": null,
   "id": "c83a6fd6-6fcb-4831-add9-ea844e3959ff",
   "metadata": {},
   "outputs": [],
   "source": [
    "stc_test"
   ]
  },
  {
   "cell_type": "code",
   "execution_count": null,
   "id": "e5b3c303-f9e9-4914-976e-3a9a39aafe3b",
   "metadata": {},
   "outputs": [],
   "source": [
    "stc_test.groupby([\"time_of_day\"]).agg({\"stop_sequence\": \"count\"})"
   ]
  },
  {
   "cell_type": "code",
   "execution_count": null,
   "id": "a6401179-2b91-444c-8c80-b97659f4225e",
   "metadata": {},
   "outputs": [],
   "source": [
    "m1 ="
   ]
  },
  {
   "cell_type": "code",
   "execution_count": null,
   "id": "576c28b2-8c36-48a2-b312-9fc54010f7b5",
   "metadata": {},
   "outputs": [],
   "source": [
    "test1 = m1.melt(\n",
    "    id_vars=[\n",
    "        \"_gtfs_dataset_name\",\n",
    "        \"shape_array_key\",\n",
    "        \"trip_id\",\n",
    "        \"sorted_stop_seq\",\n",
    "        \"gtfs_dataset_key\",\n",
    "        \"loop_or_inlining\",\n",
    "        \"n_trips\",\n",
    "    ],\n",
    "    value_vars=[\"avg_speed_mph\", \"speed_mph\", \"p20_speed_mph\", \"p80_speed_mph\"],\n",
    ")"
   ]
  },
  {
   "cell_type": "code",
   "execution_count": null,
   "id": "2b55cb75-8ee8-477c-95bc-439d2ee65962",
   "metadata": {},
   "outputs": [],
   "source": [
    "test1.shape"
   ]
  },
  {
   "cell_type": "code",
   "execution_count": null,
   "id": "29dc19fd-0d8b-430d-a78a-a1c947263ef0",
   "metadata": {
    "scrolled": true,
    "tags": []
   },
   "outputs": [],
   "source": [
    "# test1[test1.shape_array_key == \"29d2bbdbeaec1d6888800f85bebf6e33\"]"
   ]
  },
  {
   "cell_type": "code",
   "execution_count": null,
   "id": "e2c00548-7615-409c-a7cc-7db5f16c9a88",
   "metadata": {},
   "outputs": [],
   "source": [
    "# Only need average speed/p20 speed/p80 to show up once for each stop sequence-operator-shape array\n",
    "test2 = test1.drop_duplicates(\n",
    "    subset=[\n",
    "        \"_gtfs_dataset_name\",\n",
    "        \"shape_array_key\",\n",
    "        \"sorted_stop_seq\",\n",
    "        \"gtfs_dataset_key\",\n",
    "        \"variable\",\n",
    "        \"value\",\n",
    "    ]\n",
    ").reset_index(drop=True)"
   ]
  },
  {
   "cell_type": "code",
   "execution_count": null,
   "id": "436aca32-61c9-4488-8fae-26fe66688851",
   "metadata": {},
   "outputs": [],
   "source": [
    "# test2.to_csv(\"./speeds.csv\")"
   ]
  },
  {
   "cell_type": "code",
   "execution_count": null,
   "id": "be4bac6e-2d9f-4d64-a835-22bb4f3c32f5",
   "metadata": {},
   "outputs": [],
   "source": [
    "test2.shape"
   ]
  },
  {
   "cell_type": "code",
   "execution_count": null,
   "id": "5723b75c-0cc2-42e7-95e0-17b444971ee2",
   "metadata": {},
   "outputs": [],
   "source": [
    "other = [\n",
    "    \"cf688717cf0cd8dac0e6d1f12f9c7333\",\n",
    "    \"6f39f818c9a0c5496cd1c8bd1aa11e67\",\n",
    "    \"3de4482ec32ba0f2edb451d3528b5a5e\",\n",
    "]"
   ]
  },
  {
   "cell_type": "code",
   "execution_count": null,
   "id": "7b08d810-9e33-4a4f-b600-b5c8de9bdef6",
   "metadata": {},
   "outputs": [],
   "source": [
    "# Take out routes that have over 85 stops\n",
    "# subset = test2[~test2.shape_array_key.isin(routes_many_stops_list)].reset_index(drop = True)"
   ]
  },
  {
   "cell_type": "code",
   "execution_count": null,
   "id": "600d9ed7-524e-4af6-b90b-81fd89cf8c02",
   "metadata": {},
   "outputs": [],
   "source": [
    "subset = test2[\n",
    "    test2.shape_array_key.isin(\n",
    "        [\n",
    "            \"29d2bbdbeaec1d6888800f85bebf6e33\",\n",
    "            \"754c5b012195800c38dc58e72e4f482e\",\n",
    "            \"e3c5ed2c6fa6cd5c5cd57d46aeb3cd8e\",\n",
    "        ]\n",
    "    )\n",
    "]"
   ]
  },
  {
   "cell_type": "code",
   "execution_count": null,
   "id": "a92360af-5dfb-43e2-b89c-87c8b8268665",
   "metadata": {},
   "outputs": [],
   "source": [
    "subset = threshold_utils.pre_clean(subset)"
   ]
  },
  {
   "cell_type": "code",
   "execution_count": null,
   "id": "3a4c7ac2-4d6f-4702-a20b-0de69e0c86d4",
   "metadata": {},
   "outputs": [],
   "source": [
    "subset.columns"
   ]
  },
  {
   "cell_type": "code",
   "execution_count": null,
   "id": "52df69f0-7083-4551-b5f5-5dd88f30a69a",
   "metadata": {},
   "outputs": [],
   "source": [
    "subset.sample()"
   ]
  },
  {
   "cell_type": "code",
   "execution_count": null,
   "id": "4f0d0a5e-186e-4b7e-b307-6e6326c3e747",
   "metadata": {},
   "outputs": [],
   "source": [
    "subset[\"Route\"] = subset[\"Gtfs Dataset Name\"] + \" \" + subset[\"Shape Array Key\"]"
   ]
  },
  {
   "cell_type": "code",
   "execution_count": null,
   "id": "a8d96219-49d0-4251-9b4b-a6968542424d",
   "metadata": {},
   "outputs": [],
   "source": [
    "subset = subset.rename(columns={\"Value\": \"Speed\"})"
   ]
  },
  {
   "cell_type": "code",
   "execution_count": null,
   "id": "b1155355-b4f6-41c2-beb1-f839d9d46027",
   "metadata": {},
   "outputs": [],
   "source": [
    "subset[\"Speed_Int\"] = subset.Speed.fillna(0).astype(int)"
   ]
  },
  {
   "cell_type": "code",
   "execution_count": null,
   "id": "6f695b90-4157-42bd-b9cf-aaa4d71773ef",
   "metadata": {},
   "outputs": [],
   "source": [
    "subset[\"Route Type\"] = \"Loop or Inlining: \" + subset[\"Loop Or Inlining\"].astype(str)"
   ]
  },
  {
   "cell_type": "code",
   "execution_count": null,
   "id": "0834a228-c47d-4760-ae13-aca72784e747",
   "metadata": {},
   "outputs": [],
   "source": [
    "# subset['Rounded Speed'].unique()"
   ]
  },
  {
   "cell_type": "code",
   "execution_count": null,
   "id": "67cb1df7-6337-478d-bd9c-3fbc0a3f698f",
   "metadata": {},
   "outputs": [],
   "source": [
    "def speed(row):\n",
    "    # If partner is none, return Unknown.\n",
    "    if row.Speed_Int == 0:\n",
    "        return 0\n",
    "    elif 0 < row.Speed_Int < 6:\n",
    "        return 5\n",
    "    elif 5 < row.Speed_Int < 11:\n",
    "        return 10\n",
    "    elif 10 < row.Speed_Int < 16:\n",
    "        return 15\n",
    "    elif 15 < row.Speed_Int < 21:\n",
    "        return 20\n",
    "    elif 20 < row.Speed_Int < 26:\n",
    "        return 25\n",
    "    elif 25 < row.Speed_Int < 31:\n",
    "        return 30\n",
    "    else:\n",
    "        return 35"
   ]
  },
  {
   "cell_type": "code",
   "execution_count": null,
   "id": "de056258-240b-4aff-a3f9-aabe5330a9e0",
   "metadata": {},
   "outputs": [],
   "source": [
    "# Apply the function\n",
    "subset[\"Rounded Speed\"] = subset.apply(speed, axis=1)"
   ]
  },
  {
   "cell_type": "code",
   "execution_count": null,
   "id": "afc90938-3fbd-4235-b6ab-68cfa445f0b6",
   "metadata": {
    "scrolled": true,
    "tags": []
   },
   "outputs": [],
   "source": [
    "# subset[['Rounded Speed', 'Speed', 'Speed_Int']]"
   ]
  },
  {
   "cell_type": "code",
   "execution_count": null,
   "id": "9a39e842-70f6-4ff6-84b7-44b4dea48a40",
   "metadata": {},
   "outputs": [],
   "source": [
    "subset.Variable = subset.Variable.str.title().str.replace(\"_\", \" \")"
   ]
  },
  {
   "cell_type": "code",
   "execution_count": null,
   "id": "a95e775c-4cff-44b6-a861-1a17efb5fbf2",
   "metadata": {},
   "outputs": [],
   "source": [
    "# One df for the actual speeds\n",
    "subset_speedmph = subset[subset.Variable == \"Speed Mph\"].reset_index(drop=True)"
   ]
  },
  {
   "cell_type": "code",
   "execution_count": null,
   "id": "447aec9f-1a4a-408c-bc16-22c67746c262",
   "metadata": {},
   "outputs": [],
   "source": [
    "# One df for the percentiles\n",
    "subset_other = subset[subset.Variable != \"Speed Mph\"].reset_index(drop=True)"
   ]
  },
  {
   "cell_type": "code",
   "execution_count": null,
   "id": "c2fd6ee4-c841-44fd-8659-0ee2bc8a926d",
   "metadata": {},
   "outputs": [],
   "source": [
    "selection_test = alt_dropdown(subset, \"Route\", \"Operator/Shape Array\")"
   ]
  },
  {
   "cell_type": "code",
   "execution_count": null,
   "id": "27a02401-dc45-493b-baad-e4cb84b6db46",
   "metadata": {},
   "outputs": [],
   "source": [
    "title = title.add_selection(selection_test).transform_filter(selection_test)"
   ]
  },
  {
   "cell_type": "code",
   "execution_count": null,
   "id": "e8c0fb00-e9a0-47c1-abc5-cea7a806a6df",
   "metadata": {},
   "outputs": [],
   "source": [
    "def create_jitter_plot(df):\n",
    "\n",
    "    # title_op = df['Gtfs Dataset Name'].iloc[0].replace('VehiclePositions','').strip()\n",
    "    # inline = df['Loop Or Inlining'].iloc[0]\n",
    "    chart1 = (\n",
    "        alt.Chart(df, width=0.5)\n",
    "        .mark_circle(size=100)\n",
    "        .encode(\n",
    "            x=alt.X(\n",
    "                \"jitter:Q\",\n",
    "                title=None,\n",
    "                axis=alt.Axis(values=[0], ticks=False, grid=False, labels=False),\n",
    "                scale=alt.Scale(),\n",
    "            ),\n",
    "            y=alt.Y(\n",
    "                \"Rounded Speed:Q\",\n",
    "                scale=alt.Scale(domain=[0, 50]),\n",
    "                title=\"Speed (MPH)\",\n",
    "                axis=alt.Axis(\n",
    "                    labelAngle=360,\n",
    "                    grid=False,\n",
    "                ),\n",
    "            ),\n",
    "            color=alt.Color(\n",
    "                \"Variable:N\",\n",
    "                scale=alt.Scale(range=cp.CALITP_CATEGORY_BRIGHT_COLORS),\n",
    "            ),\n",
    "            tooltip=df.columns.tolist(),\n",
    "            column=alt.Column(\n",
    "                \"Sorted Stop Seq:N\",\n",
    "                header=alt.Header(\n",
    "                    labelAngle=360,\n",
    "                    titleOrient=\"top\",\n",
    "                    labelOrient=\"top\",\n",
    "                    labelAlign=\"right\",\n",
    "                    labelPadding=2,\n",
    "                ),\n",
    "            ),\n",
    "        )\n",
    "        .transform_calculate(\n",
    "            # Generate Gaussian jitter with a Box-Muller transform\n",
    "            jitter=\"sqrt(-2*log(random()))*cos(2*PI*random())\"\n",
    "        )\n",
    "        .properties(title=\"Speeds by Operator-Shape Array\")\n",
    "    )\n",
    "\n",
    "    chart1 = threshold_utils.chart_size(chart1, 75, 200)\n",
    "\n",
    "    return chart1"
   ]
  },
  {
   "cell_type": "code",
   "execution_count": null,
   "id": "19b97ca6-17c9-4540-acfe-9a4caf740ef4",
   "metadata": {},
   "outputs": [],
   "source": [
    "chart1 = (\n",
    "    create_jitter_plot(subset_speedmph)\n",
    "    .add_selection(selection_test)\n",
    "    .transform_filter(selection_test)\n",
    ")"
   ]
  },
  {
   "cell_type": "code",
   "execution_count": null,
   "id": "c13568df-5e19-4f0a-a9fe-c3edeb0a0073",
   "metadata": {},
   "outputs": [],
   "source": [
    "chart2 = (\n",
    "    alt.Chart(subset_other, width=0.5)\n",
    "    .mark_circle(size=200)\n",
    "    .encode(\n",
    "        x=alt.X(\n",
    "            \"jitter:Q\",\n",
    "            title=None,\n",
    "            axis=alt.Axis(values=[0], ticks=False, grid=False, labels=False),\n",
    "            scale=alt.Scale(),\n",
    "        ),\n",
    "        y=alt.Y(\n",
    "            \"Rounded Speed:Q\",\n",
    "            title=\"Speed (MPH)\",\n",
    "            scale=alt.Scale(domain=[0, 50]),\n",
    "            axis=alt.Axis(grid=False),\n",
    "        ),\n",
    "        color=alt.Color(\n",
    "            \"Variable:N\",\n",
    "            scale=alt.Scale(range=cp.CALITP_CATEGORY_BRIGHT_COLORS),\n",
    "        ),\n",
    "        tooltip=subset_other.columns.tolist(),\n",
    "        column=alt.Column(\n",
    "            \"Sorted Stop Seq:N\",\n",
    "            header=alt.Header(\n",
    "                labelAngle=360,\n",
    "                title=None,\n",
    "                titleOrient=\"top\",\n",
    "                labelOrient=\"top\",\n",
    "                labelAlign=\"right\",\n",
    "                labelPadding=2,\n",
    "            ),\n",
    "        ),\n",
    "    )\n",
    "    .transform_calculate(\n",
    "        # Generate Gaussian jitter with a Box-Muller transform\n",
    "        jitter=\"sqrt(-2*log(random()))*cos(2*PI*random())\"\n",
    "    )\n",
    ")"
   ]
  },
  {
   "cell_type": "code",
   "execution_count": null,
   "id": "2a2bda8b-d48c-44f3-a928-08aca894c565",
   "metadata": {},
   "outputs": [],
   "source": [
    "chart2 = threshold_utils.chart_size(chart2, 75, 200)"
   ]
  },
  {
   "cell_type": "code",
   "execution_count": null,
   "id": "dd20293d-7c43-42c4-b053-de945860b6f0",
   "metadata": {},
   "outputs": [],
   "source": [
    "chart2 = chart2.add_selection(selection_test).transform_filter(selection_test)"
   ]
  },
  {
   "cell_type": "code",
   "execution_count": null,
   "id": "44dc6896-e95d-42df-bbd5-f2bb2c2a2cc6",
   "metadata": {},
   "outputs": [],
   "source": [
    "title = threshold_utils.chart_size(title, 20, 20)"
   ]
  },
  {
   "cell_type": "code",
   "execution_count": null,
   "id": "d651c8c6-179c-4157-a671-11006cb419df",
   "metadata": {},
   "outputs": [],
   "source": [
    "alt.data_transformers.enable(\"default\", max_rows=None)"
   ]
  },
  {
   "cell_type": "code",
   "execution_count": null,
   "id": "8e753711-8506-4939-8d9d-22566a641988",
   "metadata": {},
   "outputs": [],
   "source": [
    "title & (chart1.interactive() & chart2.interactive())"
   ]
  },
  {
   "cell_type": "code",
   "execution_count": null,
   "id": "64011717-6707-4a7a-8eec-9bdb0861bab6",
   "metadata": {},
   "outputs": [],
   "source": [
    "def meter_elapsed_categories(row):\n",
    "    lower_end = row[\"meters_mean\"] - row[\"meters_std\"]\n",
    "    higher_end = row[\"meters_mean\"] + row[\"meters_std\"]\n",
    "    if row[\"meters_elapsed\"] == row[\"meters_mean\"]:\n",
    "        return \"distance elapsed is average\"\n",
    "    elif row[\"meters_elapsed\"] <= lower_end:\n",
    "        return \"distance lapsed on lower end\"\n",
    "    elif row[\"meters_elapsed\"] >= higher_end:\n",
    "        return \"distance lapsed on higher end\"\n",
    "    elif lower_end < row[\"meters_elapsed\"] < higher_end:\n",
    "        return \"distance elapsed is average\"\n",
    "    else:\n",
    "        return \"other\"\n",
    "\n",
    "\n",
    "def seconds_elapsed_categories(row):\n",
    "    lower_end = row[\"secs_mean\"] - row[\"secs_std\"]\n",
    "    higher_end = row[\"secs_mean\"] + row[\"secs_std\"]\n",
    "    if row[\"sec_elapsed\"] == row[\"secs_mean\"]:\n",
    "        return \"secs elapsed is average\"\n",
    "    elif row[\"sec_elapsed\"] <= lower_end:\n",
    "        return \"secs lapsed on lower end\"\n",
    "    elif row[\"sec_elapsed\"] >= higher_end:\n",
    "        return \"secs lapsed on higher end\"\n",
    "    elif lower_end < row[\"sec_elapsed\"] < higher_end:\n",
    "        return \"secs elapsed is average\"\n",
    "    else:\n",
    "        return \"other\""
   ]
  },
  {
   "cell_type": "code",
   "execution_count": null,
   "id": "fa26aa94-6e1c-46ef-8701-3f4a849faa7d",
   "metadata": {},
   "outputs": [],
   "source": [
    "\"\"\"def mph_categories(row):\n",
    "        if (row[\"speed_mph\"] <= row[\"p20_speed_mph\"]):\n",
    "            return \"speed low\"\n",
    "        elif (row[\"p20_speed_mph\"] < row[\"speed_mph\"] < row[\"p80_speed_mph\"]):\n",
    "            return \"speed average\"\n",
    "        elif (row[\"speed_mph\"] >= row[\"p80_speed_mph\"]):\n",
    "            return \"speed high\"\n",
    "        elif (row[\"speed_mph\"] == 0):\n",
    "            return \"speed is 0\"\n",
    "        else:\n",
    "            return \"other\"\n",
    "            \"\"\""
   ]
  },
  {
   "cell_type": "code",
   "execution_count": null,
   "id": "e784cd39-b73e-478a-8b3b-458506c31a18",
   "metadata": {},
   "outputs": [],
   "source": [
    "def flag(row):\n",
    "\n",
    "    # Ok rows\n",
    "    # If distance and time are average, flag as average\n",
    "    if (row[\"meters_cat\"] == \"meters_ elapsed avg\") & (\n",
    "        row[\"seconds_cat\"] == \"seconds_ elapsed avg\"\n",
    "    ):\n",
    "        return \"ok\"\n",
    "    # If MPH is average, flag as average\n",
    "    elif row[\"speed_flags\"] == \"speed_ elapsed avg\":\n",
    "        return \"ok\"\n",
    "\n",
    "    # Zero rows\n",
    "    elif (\n",
    "        (row[\"speed_mph\"] == 0)\n",
    "        | (row[\"sec_elapsed\"] == 0)\n",
    "        | (row[\"meters_elapsed\"] == 0)\n",
    "    ):\n",
    "        return \"low\"\n",
    "\n",
    "    # If meters and seconds are high, flag as average\n",
    "    # elif  ((row[\"meters_cat\"] ==  \"meters_ elapsed high\") & (row[\"seconds_cat\"] ==  \"seconds_ elapsed high\")):\n",
    "    # return \"ok\"\n",
    "    # If meters and seconds are low, flag as average\n",
    "    # elif  ((row[\"meters_cat\"] ==  \"meters_ elapsed low\") & (row[\"seconds_cat\"] ==  \"seconds_ elapsed low\")):\n",
    "    # return \"ok\"\n",
    "\n",
    "    # Tag as high\n",
    "    # elif  ((row[\"meters_cat\"] != \"meters_ elapsed avg\") & (row[\"seconds_cat\"] !=  \"seconds_ elapsed avg\") & (row[\"speed_flags\"] ==  \"speed_ elapsed high\")):\n",
    "    #    return \"high\"\n",
    "    # elif  ((row[\"seconds_cat\"] ==  \"seconds_ elapsed low\") & (row[\"speed_flags\"] ==  \"speed_ elapsed high\")):\n",
    "    #    return \"high\"\n",
    "    # elif  ((row[\"meters_cat\"] ==  \"meters_ elapsed high\") & (row[\"speed_flags\"] ==  \"speed_ elapsed high\")):\n",
    "    #    return \"high\"\n",
    "\n",
    "    # Tag as low\n",
    "    elif (\n",
    "        (row[\"meters_cat\"] != \"meters_ elapsed avg\")\n",
    "        & (row[\"seconds_cat\"] != \"seconds_ elapsed avg\")\n",
    "        & (row[\"speed_flags\"] == \"speed_ elapsed low\")\n",
    "    ):\n",
    "        return \"low\"\n",
    "    elif (row[\"seconds_cat\"] == \"seconds_ elapsed high\") & (\n",
    "        row[\"speed_flags\"] == \"speed_ elapsed low\"\n",
    "    ):\n",
    "        return \"low\"\n",
    "    elif (row[\"meters_cat\"] == \"meters_ elapsed avg\") & (\n",
    "        row[\"speed_flags\"] == \"speed_ elapsed low\"\n",
    "    ):\n",
    "        return \"high\"\n",
    "\n",
    "    else:\n",
    "        return \"other\""
   ]
  },
  {
   "cell_type": "code",
   "execution_count": null,
   "id": "05d629ed-abfd-477e-b87b-7e321a6d0831",
   "metadata": {},
   "outputs": [],
   "source": [
    "def speed_categories(row):\n",
    "    \"\"\"\n",
    "    Stricter thresholds for speed categories.\n",
    "    Just because a speed is below the 25th or\n",
    "    above the 75th percentile doesn't mean it\n",
    "    should be flagged. Take into account how far away\n",
    "    it is from that.\n",
    "    \"\"\"\n",
    "    # lower_end = (row[\"speed_mean\"] - row[\"speed_std\"])\n",
    "    # higher_end = (row[\"speed_mean\"] + row[\"speed_std\"])\n",
    "    if row[\"speed_mph\"] == row[\"avg_speed_mph\"]:\n",
    "        return \"average\"\n",
    "    elif row[\"speed_mph\"] <= lower_end:\n",
    "        return \"speed low\"\n",
    "    elif row[\"speed_mph\"] >= higher_end:\n",
    "        return \"speed high\"\n",
    "    elif (row[\"speed_mph\"] == 0) | (row[\"speed_mph\"] == None):\n",
    "        return \"speed is 0\"\n",
    "    else:\n",
    "        return \"average\""
   ]
  },
  {
   "cell_type": "code",
   "execution_count": null,
   "id": "86a5c48c-6720-41a8-b626-94305506ab3a",
   "metadata": {},
   "outputs": [],
   "source": [
    "# Determine if an agency has a small, medium, or large fleet size.\n",
    "def categorize_by_percentile(df, column_percentile: str):\n",
    "\n",
    "    # Get percentiles in objects for total vehicle.\n",
    "    p75 = df[column_percentile].quantile(0.75).astype(float)\n",
    "    p25 = df[column_percentile].quantile(0.25).astype(float)\n",
    "    p50 = df[column_percentile].quantile(0.50).astype(float)\n",
    "\n",
    "    def percentile(row):\n",
    "        if row[column_percentile] <= p25:\n",
    "            return f\"{column_percentile}: low\"\n",
    "        elif (p25 < row[column_percentile]) and (row[column_percentile] <= p75):\n",
    "            return f\"{column_percentile}: average\"\n",
    "        elif row[column_percentile] > p75:\n",
    "            return f\"{column_percentile}: high\"\n",
    "        else:\n",
    "            return \"other\"\n",
    "\n",
    "    df[f\"{column_percentile}_cat\"] = df.apply(lambda x: percentile(x), axis=1)\n",
    "\n",
    "    return df\n",
    "\n",
    "\n",
    "def categorize_all(df):\n",
    "\n",
    "    # Hold results\n",
    "    final = pd.DataFrame()\n",
    "\n",
    "    for column in [\"meters_elapsed\", \"sec_elapsed\"]:\n",
    "        for shape_array_key in df.shape_array_key.tolist():\n",
    "            for stop in df.stop_sequence.tolist():\n",
    "                filtered = df[\n",
    "                    (df.shape_array_key == shape_array_key) & (df.stop_sequence == stop)\n",
    "                ].reset_index()\n",
    "                categorized = categorize_by_percentile(filtered, column)\n",
    "                final = pd.concat([final, categorized], axis=0)\n",
    "                print(f\"done for {column}/{stop}\")\n",
    "\n",
    "    return final"
   ]
  },
  {
   "cell_type": "code",
   "execution_count": null,
   "id": "1bb82075-6269-472e-8582-27a7640f0aa5",
   "metadata": {},
   "outputs": [],
   "source": []
  },
  {
   "cell_type": "code",
   "execution_count": null,
   "id": "4f25a17e-cea1-4bff-888d-d8f37dc31775",
   "metadata": {},
   "outputs": [],
   "source": [
    "\"\"\"\n",
    "p25 = troubleshoot.total_stops.quantile(0.25).astype(float)\n",
    "p50 =  troubleshoot.total_stops.quantile(0.50).astype(float)\n",
    "p75 =  troubleshoot.total_stops.quantile(0.75).astype(float)\n",
    "p95 =  troubleshoot.total_stops.quantile(0.95).astype(float)\n",
    "p99 =  troubleshoot.total_stops.quantile(0.99).astype(float)\n",
    "\"\"\""
   ]
  },
  {
   "cell_type": "code",
   "execution_count": null,
   "id": "0e676189-df19-4630-8dc6-3c4fc8c60e16",
   "metadata": {},
   "outputs": [],
   "source": [
    "def stop_categories1(row):\n",
    "    if (row.total_stops > 0) and (row.total_stops <= p25):\n",
    "        return \"25th  <= 17 stops\"\n",
    "    elif (row.total_stops > p25) and (row.total_stops <= p75):\n",
    "        return \"50th <= 30 stops\"\n",
    "    elif (row.total_stops > p75) and (row.total_stops <= p95):\n",
    "        return \"75th <= 50 stops\"\n",
    "    elif (row.total_stops > p95) and (row.total_stops <= p99):\n",
    "        return \"95th <= 85 stops\"\n",
    "    elif row.total_stops >= p95:\n",
    "        return \"99th >= 203 stops\"\n",
    "    else:\n",
    "        return \"other\""
   ]
  },
  {
   "cell_type": "code",
   "execution_count": null,
   "id": "af72c1c9-df07-4e7f-973f-f0c07223b7a4",
   "metadata": {},
   "outputs": [],
   "source": [
    "def create_jitter_plot(df):\n",
    "\n",
    "    title_op = df[\"Gtfs Dataset Name\"].iloc[0].replace(\"VehiclePositions\", \"\").strip()\n",
    "    inline = df[\"Loop Or Inlining\"].iloc[0]\n",
    "\n",
    "    chart1 = (\n",
    "        alt.Chart(df, width=0.5)\n",
    "        .mark_circle(size=100)\n",
    "        .encode(\n",
    "            x=alt.X(\n",
    "                \"jitter:Q\",\n",
    "                title=None,\n",
    "                axis=alt.Axis(values=[0], ticks=False, grid=False, labels=False),\n",
    "                scale=alt.Scale(),\n",
    "            ),\n",
    "            y=alt.Y(\"Rounded Speed:Q\", axis=alt.Axis(labelAngle=360)),\n",
    "            color=alt.Color(\n",
    "                \"Variable:N\",\n",
    "                scale=alt.Scale(range=cp.CALITP_CATEGORY_BRIGHT_COLORS),\n",
    "            ),\n",
    "            tooltip=df.columns.tolist(),\n",
    "            column=alt.Column(\n",
    "                \"Stop Sequence:N\",\n",
    "                header=alt.Header(\n",
    "                    labelAngle=360,\n",
    "                    titleOrient=\"top\",\n",
    "                    labelOrient=\"bottom\",\n",
    "                    labelAlign=\"right\",\n",
    "                    labelPadding=2,\n",
    "                ),\n",
    "            ),\n",
    "        )\n",
    "        .transform_calculate(\n",
    "            # Generate Gaussian jitter with a Box-Muller transform\n",
    "            jitter=\"sqrt(-2*log(random()))*cos(2*PI*random())\"\n",
    "        )\n",
    "        .properties(title=f\"{title_op} - Route Type {inline}\")\n",
    "    )\n",
    "\n",
    "    chart1 = threshold_utils.chart_size(chart1, 40, 250)\n",
    "\n",
    "    return chart1"
   ]
  },
  {
   "cell_type": "code",
   "execution_count": null,
   "id": "18ebd177-efc1-4bdc-9fac-bf947db810a4",
   "metadata": {},
   "outputs": [],
   "source": [
    "chart2 = (\n",
    "    alt.Chart(anaheim_test, width=0.5)\n",
    "    .mark_circle(size=100)\n",
    "    .encode(\n",
    "        x=alt.X(\n",
    "            \"jitter:Q\",\n",
    "            title=None,\n",
    "            axis=alt.Axis(values=[0], ticks=False, grid=False, labels=False),\n",
    "            scale=alt.Scale(),\n",
    "        ),\n",
    "        y=alt.Y(\"rounded_speed:Q\", axis=alt.Axis(labelAngle=-90)),\n",
    "        color=alt.Color(\n",
    "            \"variable:N\",\n",
    "            scale=alt.Scale(range=cp.CALITP_CATEGORY_BRIGHT_COLORS),\n",
    "        ),\n",
    "        tooltip=anaheim_test.columns.tolist(),\n",
    "        column=alt.Column(\n",
    "            \"stop_sequence:N\",\n",
    "            header=alt.Header(\n",
    "                labelAngle=360,\n",
    "                titleOrient=\"top\",\n",
    "                labelOrient=\"bottom\",\n",
    "                labelAlign=\"right\",\n",
    "                labelPadding=2,\n",
    "            ),\n",
    "        ),\n",
    "    )\n",
    "    .transform_calculate(\n",
    "        # Generate Gaussian jitter with a Box-Muller transform\n",
    "        jitter=\"sqrt(-2*log(random()))*cos(2*PI*random())\"\n",
    "    )\n",
    "    .configure_facet(spacing=0)\n",
    "    .configure_view(stroke=None)\n",
    "    .properties(title=\"Trip Duration by RT Category\")\n",
    ")"
   ]
  },
  {
   "cell_type": "code",
   "execution_count": null,
   "id": "a7287305-20d8-434f-9756-42b18cf172a4",
   "metadata": {},
   "outputs": [],
   "source": [
    "chart2 = threshold_utils.chart_size(chart2, 80, 300)"
   ]
  },
  {
   "cell_type": "code",
   "execution_count": null,
   "id": "3f9e9258-b954-45bf-bd7a-17822c9c607a",
   "metadata": {},
   "outputs": [],
   "source": [
    "chart2"
   ]
  },
  {
   "cell_type": "code",
   "execution_count": null,
   "id": "ea1d8514-ae9c-42e6-b59a-49a44fecbc98",
   "metadata": {},
   "outputs": [],
   "source": [
    "chart1 = (\n",
    "    alt.Chart(anaheim_test_speedmph, width=0.5)\n",
    "    .mark_circle(size=100)\n",
    "    .encode(\n",
    "        x=alt.X(\n",
    "            \"jitter:Q\",\n",
    "            title=None,\n",
    "            axis=alt.Axis(values=[0], ticks=False, grid=False, labels=False),\n",
    "            scale=alt.Scale(),\n",
    "        ),\n",
    "        y=alt.Y(\"rounded_speed:Q\", axis=alt.Axis(labelAngle=-90)),\n",
    "        color=alt.Color(\n",
    "            \"stop_sequence:N\",\n",
    "            scale=alt.Scale(range=cp.CALITP_CATEGORY_BRIGHT_COLORS),\n",
    "        ),\n",
    "        tooltip=anaheim_test.columns.tolist(),\n",
    "        column=alt.Column(\n",
    "            \"stop_sequence:N\",\n",
    "            header=alt.Header(\n",
    "                labelAngle=360,\n",
    "                titleOrient=\"top\",\n",
    "                labelOrient=\"bottom\",\n",
    "                labelAlign=\"right\",\n",
    "                labelPadding=2,\n",
    "            ),\n",
    "        ),\n",
    "    )\n",
    "    .transform_calculate(\n",
    "        # Generate Gaussian jitter with a Box-Muller transform\n",
    "        jitter=\"sqrt(-2*log(random()))*cos(2*PI*random())\"\n",
    "    )\n",
    "    .configure_facet(spacing=0)\n",
    "    .configure_view(stroke=None)\n",
    "    .properties(title=f\"Loop/Inling:{anaheim_test_speedmph.loop_or_inlining.iloc[0]}\")\n",
    ")"
   ]
  },
  {
   "cell_type": "code",
   "execution_count": null,
   "id": "4e1eea88-640b-4e96-b2d5-07cd2f19afdf",
   "metadata": {},
   "outputs": [],
   "source": [
    "chart1 = threshold_utils.chart_size(chart1, 80, 300)"
   ]
  },
  {
   "cell_type": "code",
   "execution_count": null,
   "id": "c54559c6-8fb0-4109-8e7d-84c1ecb6497e",
   "metadata": {},
   "outputs": [],
   "source": [
    "chart1"
   ]
  },
  {
   "cell_type": "code",
   "execution_count": null,
   "id": "79375476-00a1-4b85-a532-26889fc465e4",
   "metadata": {},
   "outputs": [],
   "source": []
  },
  {
   "cell_type": "code",
   "execution_count": null,
   "id": "0e5c052e-cccd-4f75-be65-9658cf7616b1",
   "metadata": {},
   "outputs": [],
   "source": [
    "def create_dot_plot2(\n",
    "    df,\n",
    "    col_for_dots: str,\n",
    "    x_axis_col: str,\n",
    "    y_axis_col: str,\n",
    "    tooltip_cols: list,\n",
    "    chart_title: str,\n",
    "):\n",
    "\n",
    "    chart = (\n",
    "        alt.Chart(df)\n",
    "        .mark_circle(opacity=1, size=100)\n",
    "        .transform_window(id=\"rank()\", groupby=[col_for_dots])\n",
    "        .encode(\n",
    "            alt.X(\n",
    "                f\"{x_axis_col}:O\",\n",
    "                sort=\"descending\",\n",
    "                axis=alt.Axis(ticks=False, grid=True),\n",
    "            ),\n",
    "            alt.Y(f\"{y_axis_col}:N\"),\n",
    "            color=alt.Color(\n",
    "                f\"{col_for_dots}:N\",\n",
    "                scale=alt.Scale(range=cp.CALITP_CATEGORY_BRIGHT_COLORS),\n",
    "                legend=None,\n",
    "            ),\n",
    "            tooltip=tooltip_cols,\n",
    "        )\n",
    "        .properties(title=chart_title)\n",
    "    )\n",
    "\n",
    "    return chart"
   ]
  },
  {
   "cell_type": "code",
   "execution_count": null,
   "id": "e38644ab-7fb8-47b1-b692-512b55f05625",
   "metadata": {},
   "outputs": [],
   "source": [
    "chart3 = create_dot_plot1(\n",
    "    anaheim_test_other,\n",
    "    \"variable\",\n",
    "    \"stop_sequence\",\n",
    "    \"rounded_speed\",\n",
    "    anaheim_test_other.columns.tolist(),\n",
    "    \"Percentile/Average\",\n",
    ")"
   ]
  },
  {
   "cell_type": "code",
   "execution_count": null,
   "id": "2b6df39b-b074-494d-8f5e-65fe05356f4b",
   "metadata": {},
   "outputs": [],
   "source": [
    "chart3 = threshold_utils.chart_size(chart3, 650, 300)"
   ]
  },
  {
   "cell_type": "code",
   "execution_count": null,
   "id": "c2c565de-3c55-4827-a5bb-b48c6d49d4c1",
   "metadata": {},
   "outputs": [],
   "source": [
    "chart4 = create_dot_plot2(\n",
    "    anaheim_test_speedmph,\n",
    "    \"variable\",\n",
    "    \"stop_sequence\",\n",
    "    \"rounded_speed\",\n",
    "    anaheim_test_speedmph.columns.tolist(),\n",
    "    \"Speed per Trip\",\n",
    ")"
   ]
  },
  {
   "cell_type": "code",
   "execution_count": null,
   "id": "29b3b7b1-8f44-4a8d-97c3-ff934250e874",
   "metadata": {},
   "outputs": [],
   "source": [
    "chart4 = threshold_utils.chart_size(chart4, 650, 300)"
   ]
  },
  {
   "cell_type": "code",
   "execution_count": null,
   "id": "54146c88-15df-49e2-9de6-18f2666d9f9f",
   "metadata": {},
   "outputs": [],
   "source": [
    "chart4"
   ]
  },
  {
   "cell_type": "code",
   "execution_count": null,
   "id": "3ccbc087-f799-4429-b6c7-a9c1f38f021d",
   "metadata": {},
   "outputs": [],
   "source": [
    "chart3 + chart4"
   ]
  },
  {
   "cell_type": "code",
   "execution_count": null,
   "id": "9829d749-580c-4440-9397-4562192417b7",
   "metadata": {},
   "outputs": [],
   "source": [
    "chart7 = (\n",
    "    alt.Chart(anaheim_test_other, width=0.5)\n",
    "    .mark_circle(size=100)\n",
    "    .encode(\n",
    "        x=alt.X(\n",
    "            \"jitter:Q\",\n",
    "            title=None,\n",
    "            axis=alt.Axis(values=[0], ticks=False, grid=False, labels=False),\n",
    "            scale=alt.Scale(),\n",
    "        ),\n",
    "        y=alt.Y(\"rounded_speed:Q\", axis=alt.Axis(labelAngle=-90)),\n",
    "        color=alt.Color(\n",
    "            \"variable:N\",\n",
    "            scale=alt.Scale(range=cp.CALITP_CATEGORY_BRIGHT_COLORS),\n",
    "        ),\n",
    "        tooltip=anaheim_test.columns.tolist(),\n",
    "        column=alt.Column(\n",
    "            \"stop_sequence:N\",\n",
    "            header=alt.Header(\n",
    "                labelAngle=-90,\n",
    "                titleOrient=\"top\",\n",
    "                labelOrient=\"bottom\",\n",
    "                labelAlign=\"right\",\n",
    "                labelPadding=2,\n",
    "            ),\n",
    "        ),\n",
    "    )\n",
    "    .transform_calculate(\n",
    "        # Generate Gaussian jitter with a Box-Muller transform\n",
    "        jitter=\"sqrt(-2*log(random()))*cos(2*PI*random())\"\n",
    "    )\n",
    "    .configure_facet(spacing=0)\n",
    "    .configure_view(stroke=None)\n",
    "    .properties(title=\"Trip Duration by RT Category\")\n",
    ")"
   ]
  },
  {
   "cell_type": "code",
   "execution_count": null,
   "id": "454980fc-e6ab-4d53-b844-120a075b8034",
   "metadata": {},
   "outputs": [],
   "source": [
    "chart7 = threshold_utils.chart_size(chart7, 80, 300)"
   ]
  },
  {
   "cell_type": "code",
   "execution_count": null,
   "id": "58e57fb2-1c3b-47e1-8bb6-d4941f0ee985",
   "metadata": {},
   "outputs": [],
   "source": [
    "chart8 = (\n",
    "    alt.Chart(anaheim_test_other, width=0.5)\n",
    "    .mark_circle(size=100)\n",
    "    .encode(\n",
    "        x=alt.X(\n",
    "            \"jitter:Q\",\n",
    "            title=None,\n",
    "            axis=alt.Axis(values=[0], ticks=False, grid=False, labels=False),\n",
    "            scale=alt.Scale(),\n",
    "        ),\n",
    "        y=alt.Y(\"rounded_speed:Q\", axis=alt.Axis(labelAngle=-90)),\n",
    "        color=alt.Color(\n",
    "            \"variable:N\",\n",
    "            scale=alt.Scale(range=cp.CALITP_CATEGORY_BRIGHT_COLORS),\n",
    "        ),\n",
    "        tooltip=anaheim_test.columns.tolist(),\n",
    "        column=alt.Column(\n",
    "            \"stop_sequence:N\",\n",
    "            header=alt.Header(\n",
    "                labelAngle=-90,\n",
    "                titleOrient=\"top\",\n",
    "                labelOrient=\"bottom\",\n",
    "                labelAlign=\"right\",\n",
    "                labelPadding=2,\n",
    "            ),\n",
    "        ),\n",
    "    )\n",
    "    .transform_calculate(\n",
    "        # Generate Gaussian jitter with a Box-Muller transform\n",
    "        jitter=\"sqrt(-2*log(random()))*cos(2*PI*random())\"\n",
    "    )\n",
    "    .properties(title=\"Trip Duration by RT Category\")\n",
    ")"
   ]
  },
  {
   "cell_type": "code",
   "execution_count": null,
   "id": "c2ce0879-f45f-4c66-9b1a-870a243a1260",
   "metadata": {},
   "outputs": [],
   "source": [
    "chart9 = (\n",
    "    alt.Chart(anaheim_test_speedmph, width=0.5)\n",
    "    .mark_circle(size=100)\n",
    "    .encode(\n",
    "        x=alt.X(\n",
    "            \"jitter:Q\",\n",
    "            title=None,\n",
    "            axis=alt.Axis(values=[0], ticks=False, grid=False, labels=False),\n",
    "            scale=alt.Scale(),\n",
    "        ),\n",
    "        y=alt.Y(\"rounded_speed:Q\", axis=alt.Axis(labelAngle=-90)),\n",
    "        color=alt.Color(\n",
    "            \"variable:N\",\n",
    "            scale=alt.Scale(range=cp.CALITP_CATEGORY_BRIGHT_COLORS),\n",
    "        ),\n",
    "        tooltip=anaheim_test.columns.tolist(),\n",
    "        column=alt.Column(\n",
    "            \"stop_sequence:N\",\n",
    "            header=alt.Header(\n",
    "                labelAngle=360,\n",
    "                titleOrient=\"top\",\n",
    "                labelOrient=\"bottom\",\n",
    "                labelAlign=\"right\",\n",
    "                labelPadding=2,\n",
    "            ),\n",
    "        ),\n",
    "    )\n",
    "    .transform_calculate(\n",
    "        # Generate Gaussian jitter with a Box-Muller transform\n",
    "        jitter=\"sqrt(-2*log(random()))*cos(2*PI*random())\"\n",
    "    )\n",
    "    .properties(title=f\"Loop/Inling:{anaheim_test_speedmph.loop_or_inlining.iloc[0]}\")\n",
    ")"
   ]
  },
  {
   "cell_type": "code",
   "execution_count": null,
   "id": "04e3ce9a-a5ab-4aeb-a7d0-4ead6738324b",
   "metadata": {},
   "outputs": [],
   "source": [
    "chart8"
   ]
  },
  {
   "cell_type": "code",
   "execution_count": null,
   "id": "04d2026e-c040-45ea-aab6-2c09c2211632",
   "metadata": {},
   "outputs": [],
   "source": [
    "chart9 | chart8"
   ]
  },
  {
   "cell_type": "code",
   "execution_count": null,
   "id": "edb11b29-7038-4a5d-9e44-4d3b88e6cc88",
   "metadata": {},
   "outputs": [],
   "source": [
    "# pip install altair==5.0.0rc3\n",
    "chart5 = (\n",
    "    alt.Chart(anaheim_test_speedmph, title=\"Normally distributed jitter\")\n",
    "    .mark_circle(size=50)\n",
    "    .encode(\n",
    "        y=\"rounded_speed:Q\",\n",
    "        x=\"stop_sequence:N\",\n",
    "        yOffset=\"jitter:Q\",\n",
    "        color=alt.Color(\"stop_sequence:Q\").legend(None),\n",
    "    )\n",
    "    .transform_calculate(\n",
    "        # Generate Gaussian jitter with a Box-Muller transform\n",
    "        jitter=\"sqrt(-2*log(random()))*cos(2*PI*random())\"\n",
    "    )\n",
    ")"
   ]
  },
  {
   "cell_type": "code",
   "execution_count": null,
   "id": "9bbcc880-7866-495c-9a68-3b7ca6c00c4a",
   "metadata": {},
   "outputs": [],
   "source": [
    "chart5 = threshold_utils.chart_size(chart5, 650, 300)"
   ]
  },
  {
   "cell_type": "code",
   "execution_count": null,
   "id": "a765f55e-73e2-4bae-9326-98ed1bbfadaf",
   "metadata": {},
   "outputs": [],
   "source": [
    "chart5"
   ]
  },
  {
   "cell_type": "code",
   "execution_count": null,
   "id": "f02f2c0b-f5fc-4452-b39b-bb1a443bc727",
   "metadata": {},
   "outputs": [],
   "source": [
    "# foothill_og = speed_stops2[speed_stops2.trip_id == \"t604-b2791-sl5\"]"
   ]
  },
  {
   "cell_type": "code",
   "execution_count": null,
   "id": "1136e4c7-2e5b-492d-8ae6-299a04164ac3",
   "metadata": {},
   "outputs": [],
   "source": [
    "# foothill_og.stop_sequence.describe()"
   ]
  },
  {
   "cell_type": "code",
   "execution_count": null,
   "id": "9cee6f4c-8786-478a-97ff-702be25d0788",
   "metadata": {},
   "outputs": [],
   "source": [
    "# foothill_og.sort_values('stop_sequence').head()"
   ]
  },
  {
   "cell_type": "code",
   "execution_count": null,
   "id": "97ec3ff5-bcda-4edd-9ba6-50821923dd98",
   "metadata": {},
   "outputs": [],
   "source": [
    "# foothill_renumbered_stop_seq = m2[m2.trip_id == \"t604-b2791-sl5\"]"
   ]
  },
  {
   "cell_type": "code",
   "execution_count": null,
   "id": "f2733f91-b890-4818-a649-d79bd6f9a16a",
   "metadata": {},
   "outputs": [],
   "source": [
    "# foothill_renumbered_stop_seq['Test Stop Sequence'].describe()"
   ]
  },
  {
   "cell_type": "code",
   "execution_count": null,
   "id": "c9b04672-2b10-4d06-b84a-1fd92a6a78ac",
   "metadata": {},
   "outputs": [],
   "source": [
    "# foothill_renumbered_stop_seq.sort_values('stop_sequence').head()"
   ]
  },
  {
   "cell_type": "code",
   "execution_count": null,
   "id": "9581ead1-5d91-44a4-a9d3-299445d55056",
   "metadata": {},
   "outputs": [],
   "source": [
    "# len(troubleshoot)"
   ]
  },
  {
   "cell_type": "code",
   "execution_count": null,
   "id": "1f50eb55-9373-4004-b23b-8129db734c1b",
   "metadata": {},
   "outputs": [],
   "source": [
    "# Number of test stops should match stop sequence...\n",
    "# troubleshoot['sequences_are_equal'] = troubleshoot['Test Stop Sequence'] - troubleshoot['stop_sequence']"
   ]
  },
  {
   "cell_type": "code",
   "execution_count": null,
   "id": "46843106-2e31-46c9-9220-2f12a3e6a4fb",
   "metadata": {},
   "outputs": [],
   "source": [
    "# troubleshoot['sequences_are_equal'].value_counts()"
   ]
  },
  {
   "cell_type": "code",
   "execution_count": null,
   "id": "34d189fa-632c-40d7-a793-e576645e879e",
   "metadata": {},
   "outputs": [],
   "source": [
    "# Look at this trip id in the original df\n",
    "# og_trip = speed_stops2[speed_stops2.trip_id == \"t640-b15FF1-sl5\"]"
   ]
  },
  {
   "cell_type": "code",
   "execution_count": null,
   "id": "34b1e2f4-fe20-4029-9ec1-e5cbaaf73178",
   "metadata": {},
   "outputs": [],
   "source": [
    "# Look at this trip id in the manipulated df\n",
    "# new_trip = m2[m2.trip_id == \"t640-b15FF1-sl5\"]"
   ]
  },
  {
   "cell_type": "code",
   "execution_count": null,
   "id": "81190a32-907b-4a5d-818a-ab5c2740dbc3",
   "metadata": {
    "tags": []
   },
   "outputs": [],
   "source": [
    "# og_trip.shape, og_trip.stop_sequence.nunique()"
   ]
  },
  {
   "cell_type": "code",
   "execution_count": null,
   "id": "ae8d06ad-3016-4909-b766-c370ef074aae",
   "metadata": {},
   "outputs": [],
   "source": [
    "# new_trip.shape, new_trip.stop_sequence.nunique()"
   ]
  }
 ],
 "metadata": {
  "kernelspec": {
   "display_name": "Python 3 (ipykernel)",
   "language": "python",
   "name": "python3"
  },
  "language_info": {
   "codemirror_mode": {
    "name": "ipython",
    "version": 3
   },
   "file_extension": ".py",
   "mimetype": "text/x-python",
   "name": "python",
   "nbconvert_exporter": "python",
   "pygments_lexer": "ipython3",
   "version": "3.9.13"
  }
 },
 "nbformat": 4,
 "nbformat_minor": 5
}
