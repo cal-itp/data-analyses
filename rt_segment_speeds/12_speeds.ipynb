{
 "cells": [
  {
   "cell_type": "code",
   "execution_count": 1,
   "id": "2c7feec3-aa18-42ab-94b9-cab4be608152",
   "metadata": {},
   "outputs": [
    {
     "name": "stderr",
     "output_type": "stream",
     "text": [
      "/opt/conda/lib/python3.9/site-packages/geopandas/_compat.py:123: UserWarning: The Shapely GEOS version (3.11.1-CAPI-1.17.1) is incompatible with the GEOS version PyGEOS was compiled with (3.10.1-CAPI-1.16.0). Conversions between both will be slow.\n",
      "  warnings.warn(\n",
      "/home/jovyan/data-analyses/rt_segment_speeds/_speed_utils.py:4: UserWarning: Shapely 2.0 is installed, but because PyGEOS is also installed, GeoPandas will still use PyGEOS by default for now. To force to use and test Shapely 2.0, you have to set the environment variable USE_PYGEOS=0. You can do this before starting the Python process, or in your code before importing geopandas:\n",
      "\n",
      "import os\n",
      "os.environ['USE_PYGEOS'] = '0'\n",
      "import geopandas\n",
      "\n",
      "In a future release, GeoPandas will switch to using Shapely by default. If you are using PyGEOS directly (calling PyGEOS functions on geometries from GeoPandas), this will then stop working and you are encouraged to migrate from PyGEOS to Shapely 2.0 (https://shapely.readthedocs.io/en/latest/migration_pygeos.html).\n",
      "  import geopandas as gpd\n"
     ]
    }
   ],
   "source": [
    "import datetime\n",
    "import _speed_utils as speed_utils\n",
    "import dask.dataframe as dd\n",
    "import numpy as np\n",
    "import geopandas as gpd\n",
    "import pandas as pd\n",
    "from segment_speed_utils import gtfs_schedule_wrangling, helpers, segment_calcs,sched_rt_utils\n",
    "from segment_speed_utils.project_vars import (\n",
    "    COMPILED_CACHED_VIEWS,\n",
    "    PROJECT_CRS,\n",
    "    SEGMENT_GCS,\n",
    "    #analysis_date,\n",
    ")\n",
    "from scripts import (A1_sjoin_vp_segments, A2_valid_vehicle_positions)\n",
    "from shared_utils import calitp_color_palette as cp"
   ]
  },
  {
   "cell_type": "code",
   "execution_count": 2,
   "id": "0108ae4a-4518-4487-85f7-a5faa3e9cbf6",
   "metadata": {},
   "outputs": [],
   "source": [
    "pd.options.display.max_columns = 100\n",
    "pd.options.display.float_format = \"{:.2f}\".format\n",
    "pd.set_option(\"display.max_rows\", None)\n",
    "pd.set_option(\"display.max_colwidth\", None)"
   ]
  },
  {
   "cell_type": "code",
   "execution_count": 3,
   "id": "c130ab8b-80ac-4edf-bb59-715a793c15a6",
   "metadata": {},
   "outputs": [],
   "source": [
    "CONFIG_PATH = './scripts/config.yml'"
   ]
  },
  {
   "cell_type": "code",
   "execution_count": 4,
   "id": "0c65c2fd-4eb6-46d0-8007-e91096133954",
   "metadata": {},
   "outputs": [],
   "source": [
    "STOP_SEG_DICT = helpers.get_parameters(CONFIG_PATH, \"stop_segments\")"
   ]
  },
  {
   "cell_type": "code",
   "execution_count": 5,
   "id": "80014c5e-695d-4280-89cd-4e7e2bb3d302",
   "metadata": {},
   "outputs": [],
   "source": [
    "# Adding analysis_date here since there aren't any files for June yet\n",
    "analysis_date = '2023-07-12'"
   ]
  },
  {
   "cell_type": "markdown",
   "id": "778a2aa1-d73b-4ebf-89e2-8f9eb5ca5aa1",
   "metadata": {
    "jp-MarkdownHeadingCollapsed": true,
    "tags": []
   },
   "source": [
    "### Observations (7/12)\n",
    "* Step 1: Flagging\n",
    "    * There are 2,704,812 rows in the dataframe original. About 10% of those rows are flagged as having zeroes in meters elapsed and seconds elapsed. \n",
    "    * There are around 4566 routes. About 57% of these routes had at least one trip with one or more rows flagged as zero.\n",
    "* I took 2 passes at trying to understand why both these columns recorded zeroes.\n",
    "\n",
    "* Step 2: `vp_pared_stops`. \n",
    "    * I grouped `vp_pared_stops` by 'shape_array_key','trip_id', and 'location_timestamp_local' OR `x` and `y`. I counted the number of unique stop sequences after grouping. If this trio had more than one unique stop sequence, that meant the timestamp or location recorded between sequences was duplicated.\n",
    "    * Only around 9% of rows were flagged as having (obviously) repeated timestamps and locations. \n",
    "    * For all of these rows, both the timestamp and location were duplicated. \n",
    "    * All the routes that were flagged in step one needed a further look in step 3.\n",
    "    \n",
    "* Step 3: `vp_usable`\n",
    "    * For one route and trip, find: all the recorded vehicle positions, sjoin of vps to segments,\n",
    "    and the first and last points kept. \n",
    "    * Plot the three gdfs in a map to visually inspect what's happening.\n",
    "    * Compare the sample route and trips with the trip with the highest percentage of non division by 0 rows to see what's going on. \n",
    "    \n",
    "* Buckets of errors (all based on `stage0 vp`). \n",
    "    * There is only one recorded point in that segment in the raw data.\n",
    "        * Fix: use the timestamp that comes after it.\n",
    "        * <img src= \"./speeds_images/only_one_pt_collected.png\" width = 300>\n",
    "    * Points are shared between segments\n",
    "        * Use p20/p50/p80.\n",
    "        * <img src= \"./speeds_images/shared_vp.png\" width = 300>\n",
    "    * Points recorded are really far out and they don't touch the buffered segments.\n",
    "        * Fix: figure out % of vehicle positions that are too far out.\n",
    "        * <img src= \"./speeds_images/dots_not_on_seg.png\" width = 300>\n",
    "    * No data captured for that segment at all.\n",
    "        * Use p20/p50/p80. \n",
    "        * <img src= \"./speeds_images/no_dots_collected.png\" width = 300> "
   ]
  },
  {
   "cell_type": "markdown",
   "id": "35c1ba95-5929-4a7f-bfae-f6d126622104",
   "metadata": {},
   "source": [
    "### Flagging"
   ]
  },
  {
   "cell_type": "code",
   "execution_count": 6,
   "id": "be9888dd-232a-401d-8039-9c2d1954a167",
   "metadata": {},
   "outputs": [],
   "source": [
    "# Flagged: all the rows in the df flagged\n",
    "# divide_by_zero: only the rows that have 0 for meters and sec elapsed\n",
    "# trips_count: % of trips with 1+ division by 0 row for a route\n",
    "# route_most_populated_df: the trip for a route with the smallest % of rows that are divided by 0\n",
    "# flagged, divide_by_zero, trips_count, route_most_populated_df = speed_utils.flagging_stage(analysis_date)"
   ]
  },
  {
   "cell_type": "code",
   "execution_count": 7,
   "id": "59f29657-665f-4f79-82fd-cfcba3fb5bcb",
   "metadata": {},
   "outputs": [],
   "source": [
    "# divide_by_zero.loop_or_inlining.value_counts()"
   ]
  },
  {
   "cell_type": "markdown",
   "id": "cb2050b4-d265-47bb-9de5-93c7ef621448",
   "metadata": {},
   "source": [
    "### Fixes  - % of vehicle positions that are too far away from the shapes to be joined"
   ]
  },
  {
   "cell_type": "markdown",
   "id": "df6004c3-2190-4f50-85b2-52a07fe04f30",
   "metadata": {},
   "source": [
    "#### SJOIN 1\n",
    "* Agg3 only contains normal at the moment."
   ]
  },
  {
   "cell_type": "code",
   "execution_count": 8,
   "id": "4cfafe44-5856-4311-82d3-052d569e4e97",
   "metadata": {},
   "outputs": [],
   "source": [
    "USABLE_VP = STOP_SEG_DICT[\"stage1\"]\n",
    "INPUT_FILE_PREFIX = STOP_SEG_DICT[\"stage2\"]\n",
    "GROUPING_COL = STOP_SEG_DICT[\"grouping_col\"]"
   ]
  },
  {
   "cell_type": "code",
   "execution_count": 9,
   "id": "a737616c-9443-40d4-afce-2fb059b75629",
   "metadata": {},
   "outputs": [],
   "source": [
    "normal_shapes = A2_valid_vehicle_positions.identify_stop_segment_cases(\n",
    "        analysis_date, GROUPING_COL, 0)"
   ]
  },
  {
   "cell_type": "code",
   "execution_count": 10,
   "id": "43f0953b-dfa2-4115-8dff-04ce883ad9a1",
   "metadata": {},
   "outputs": [],
   "source": [
    "abnormal_shapes = A2_valid_vehicle_positions.identify_stop_segment_cases(\n",
    "        analysis_date, GROUPING_COL, 1)"
   ]
  },
  {
   "cell_type": "code",
   "execution_count": 11,
   "id": "01c079d2-4559-40d4-885d-3c1c582dceee",
   "metadata": {},
   "outputs": [
    {
     "data": {
      "text/plain": [
       "datetime.datetime(2023, 7, 17, 15, 47, 17, 468154)"
      ]
     },
     "execution_count": 11,
     "metadata": {},
     "output_type": "execute_result"
    }
   ],
   "source": [
    "datetime.datetime.now() "
   ]
  },
  {
   "cell_type": "code",
   "execution_count": 12,
   "id": "c3be391e-6e23-4988-a94c-a217aa8f469c",
   "metadata": {},
   "outputs": [],
   "source": [
    "# Using A2 since I need the VPs to sjoin\n",
    "# Only the pared down stops are saved out\n",
    "\n",
    "usable_abnormal_vp = A2_valid_vehicle_positions.merge_usable_vp_with_sjoin_vpidx(\n",
    "        abnormal_shapes,\n",
    "        f\"{USABLE_VP}_{analysis_date}\",\n",
    "        f\"{INPUT_FILE_PREFIX}_{analysis_date}\",\n",
    "        GROUPING_COL\n",
    "    )\n",
    "\n",
    "    "
   ]
  },
  {
   "cell_type": "code",
   "execution_count": 13,
   "id": "46b645ab-8974-47f5-bb7e-a62f96720924",
   "metadata": {},
   "outputs": [],
   "source": [
    "usable_abnormal_vp = usable_abnormal_vp.assign(\n",
    "    identifier = usable_abnormal_vp.gtfs_dataset_key.astype(str) + '/' + usable_abnormal_vp.shape_array_key.astype(str) + '/' + usable_abnormal_vp.trip_id.astype(str)\n",
    ")"
   ]
  },
  {
   "cell_type": "code",
   "execution_count": 14,
   "id": "2245e4f1-6df5-4f43-80fd-3bafb8f6e990",
   "metadata": {},
   "outputs": [
    {
     "data": {
      "text/plain": [
       "datetime.datetime(2023, 7, 17, 15, 53, 36, 365688)"
      ]
     },
     "execution_count": 14,
     "metadata": {},
     "output_type": "execute_result"
    }
   ],
   "source": [
    "datetime.datetime.now() "
   ]
  },
  {
   "cell_type": "code",
   "execution_count": 16,
   "id": "417c3069-c104-4614-abfc-13a3fd941dd1",
   "metadata": {},
   "outputs": [],
   "source": [
    "agg = usable_abnormal_vp.groupby(['identifier']).vp_idx.nunique()"
   ]
  },
  {
   "cell_type": "code",
   "execution_count": 17,
   "id": "8e926640-d0de-47db-92a5-45be1d0579c9",
   "metadata": {},
   "outputs": [
    {
     "name": "stderr",
     "output_type": "stream",
     "text": [
      "/opt/conda/lib/python3.9/site-packages/dask/dataframe/groupby.py:557: FutureWarning: Not prepending group keys to the result index of transform-like apply. In the future, the group keys will be included in the index, regardless of whether the applied function returns a like-indexed object.\n",
      "To preserve the previous behavior, use\n",
      "\n",
      "\t>>> .groupby(..., group_keys=False)\n",
      "\n",
      "To adopt the future behavior and silence this warning, use \n",
      "\n",
      "\t>>> .groupby(..., group_keys=True)\n"
     ]
    }
   ],
   "source": [
    "# agg = agg.compute()"
   ]
  },
  {
   "cell_type": "code",
   "execution_count": 18,
   "id": "2538a4cc-11ab-4578-a4c8-61b3662041fc",
   "metadata": {},
   "outputs": [
    {
     "data": {
      "text/plain": [
       "00accf770009aafd5dc103ff2eeddb37/0fbe3ecc523f44905177477254aea2a5/t_5634903_b_80735_tn_0     63\n",
       "00accf770009aafd5dc103ff2eeddb37/1425c95c43a72622ab1c98372c0cb392/t_5634944_b_80735_tn_0    181\n",
       "00accf770009aafd5dc103ff2eeddb37/1425c95c43a72622ab1c98372c0cb392/t_5635032_b_80735_tn_0     77\n",
       "00accf770009aafd5dc103ff2eeddb37/14a663c742e8ad923c4e323e688563b6/t_5634935_b_80735_tn_0     54\n",
       "00accf770009aafd5dc103ff2eeddb37/14a663c742e8ad923c4e323e688563b6/t_5634936_b_80735_tn_0    132\n",
       "Name: vp_idx, dtype: int64"
      ]
     },
     "execution_count": 18,
     "metadata": {},
     "output_type": "execute_result"
    }
   ],
   "source": [
    "agg.head()"
   ]
  },
  {
   "cell_type": "code",
   "execution_count": 19,
   "id": "d0ab6038-bf0b-42e4-ad3d-7fa03ded9573",
   "metadata": {},
   "outputs": [],
   "source": [
    "agg2 = agg.to_frame()"
   ]
  },
  {
   "cell_type": "code",
   "execution_count": 20,
   "id": "0d4ac9bb-bdf5-4a56-ad9d-74726171a2fd",
   "metadata": {},
   "outputs": [],
   "source": [
    "agg3 = agg2.reset_index()"
   ]
  },
  {
   "cell_type": "code",
   "execution_count": 21,
   "id": "c347b0d4-f55b-4f8b-8a5b-f2cf1dcd2612",
   "metadata": {},
   "outputs": [
    {
     "data": {
      "text/plain": [
       "(10605, 2)"
      ]
     },
     "execution_count": 21,
     "metadata": {},
     "output_type": "execute_result"
    }
   ],
   "source": [
    "agg3.shape"
   ]
  },
  {
   "cell_type": "code",
   "execution_count": 23,
   "id": "72411c89-3317-4bf5-9c6b-3782880073b4",
   "metadata": {},
   "outputs": [
    {
     "data": {
      "text/html": [
       "<div>\n",
       "<style scoped>\n",
       "    .dataframe tbody tr th:only-of-type {\n",
       "        vertical-align: middle;\n",
       "    }\n",
       "\n",
       "    .dataframe tbody tr th {\n",
       "        vertical-align: top;\n",
       "    }\n",
       "\n",
       "    .dataframe thead th {\n",
       "        text-align: right;\n",
       "    }\n",
       "</style>\n",
       "<table border=\"1\" class=\"dataframe\">\n",
       "  <thead>\n",
       "    <tr style=\"text-align: right;\">\n",
       "      <th></th>\n",
       "      <th>index</th>\n",
       "      <th>vp_idx</th>\n",
       "    </tr>\n",
       "  </thead>\n",
       "  <tbody>\n",
       "    <tr>\n",
       "      <th>3114</th>\n",
       "      <td>5222fe2cf728fd3f16b2ff51e133fe8c/9fa8c5e81b6f6cb056385afd0eddafbb/45-JP3n8Hrcy1</td>\n",
       "      <td>108</td>\n",
       "    </tr>\n",
       "  </tbody>\n",
       "</table>\n",
       "</div>"
      ],
      "text/plain": [
       "                                                                                index  \\\n",
       "3114  5222fe2cf728fd3f16b2ff51e133fe8c/9fa8c5e81b6f6cb056385afd0eddafbb/45-JP3n8Hrcy1   \n",
       "\n",
       "      vp_idx  \n",
       "3114     108  "
      ]
     },
     "execution_count": 23,
     "metadata": {},
     "output_type": "execute_result"
    }
   ],
   "source": [
    "agg3.sample()"
   ]
  },
  {
   "cell_type": "code",
   "execution_count": 24,
   "id": "5be6cad0-97ae-4721-8e68-e8f3f28b23d0",
   "metadata": {},
   "outputs": [],
   "source": [
    "agg3[\"gtfs_dataset_key\"] = agg3[\"index\"].str.split(\"/\").str[0]"
   ]
  },
  {
   "cell_type": "code",
   "execution_count": 25,
   "id": "be2986ff-2ec9-42c9-b18b-d9d8971c91df",
   "metadata": {},
   "outputs": [],
   "source": [
    "agg3[\"trip_id\"] = agg3[\"index\"].str.split(\"/\").str[2]"
   ]
  },
  {
   "cell_type": "code",
   "execution_count": 26,
   "id": "1c557e52-a980-4e49-a325-75d5454deea9",
   "metadata": {},
   "outputs": [],
   "source": [
    "agg3 = agg3.drop(columns = ['index'])"
   ]
  },
  {
   "cell_type": "code",
   "execution_count": 27,
   "id": "2ce8f0e4-ada5-44c7-a585-3331e16de0b7",
   "metadata": {},
   "outputs": [],
   "source": [
    "agg3 = agg3.rename(columns = {'vp_idx':'number_of_unique_vps_sjoin'})"
   ]
  },
  {
   "cell_type": "code",
   "execution_count": 28,
   "id": "79052ef0-6270-4842-9839-50e24a9b4caa",
   "metadata": {},
   "outputs": [],
   "source": [
    "agg3.to_parquet(\n",
    "    f\"{SEGMENT_GCS}special_vps_testing.parquet\"\n",
    ")"
   ]
  },
  {
   "cell_type": "code",
   "execution_count": null,
   "id": "3014229f-756f-4f5e-9b28-bea866d8a143",
   "metadata": {},
   "outputs": [],
   "source": [
    "#agg3 = pd.read_parquet(f\"{SEGMENT_GCS}normalvps_testing.parquet\")"
   ]
  },
  {
   "cell_type": "markdown",
   "id": "1403a659-4f3a-4f0a-804f-dc3ff0be5a29",
   "metadata": {},
   "source": [
    "#### A1 sjoin"
   ]
  },
  {
   "cell_type": "code",
   "execution_count": null,
   "id": "d451f53e-c505-45b5-bf24-a9cf2e363b1a",
   "metadata": {},
   "outputs": [],
   "source": [
    "# This is the end result from A1_sjoin\n",
    "# Not using this since no trip_id information\n",
    "#f\"{SEGMENT_GCS}vp_sjoin/{INPUT_FILE_PREFIX}_{analysis_date}\""
   ]
  },
  {
   "cell_type": "code",
   "execution_count": null,
   "id": "d7aef099-6c98-4af2-9bd7-596d3e720ec9",
   "metadata": {},
   "outputs": [],
   "source": [
    "#vp_to_seg = dd.read_parquet(\n",
    "#        f\"{SEGMENT_GCS}vp_sjoin/{INPUT_FILE_PREFIX}_{analysis_date}\",\n",
    "#    )"
   ]
  },
  {
   "cell_type": "code",
   "execution_count": null,
   "id": "1f3df459-5f71-400f-97b1-fe3157705f36",
   "metadata": {},
   "outputs": [],
   "source": [
    "#vp_to_seg = vp_to_seg.compute()"
   ]
  },
  {
   "cell_type": "code",
   "execution_count": null,
   "id": "ba355077-b870-4e6d-af62-e880102b5035",
   "metadata": {},
   "outputs": [],
   "source": [
    "#vp_to_seg.sample()"
   ]
  },
  {
   "cell_type": "code",
   "execution_count": null,
   "id": "2da56431-24d9-4e39-afa9-d57565701213",
   "metadata": {},
   "outputs": [],
   "source": [
    "# len(vp_to_seg)"
   ]
  },
  {
   "cell_type": "code",
   "execution_count": null,
   "id": "5bf1a0a3-591e-4c95-a879-e625c3a146aa",
   "metadata": {},
   "outputs": [],
   "source": [
    "# len(vp_to_seg[vp_to_seg.shape_array_key == \"aafeeea21721ee9be95c6f794dabdac3\"])"
   ]
  },
  {
   "cell_type": "markdown",
   "id": "a99a6c14-31b1-46d1-b292-5544041b1f75",
   "metadata": {
    "tags": []
   },
   "source": [
    "#### Usable VPS"
   ]
  },
  {
   "cell_type": "code",
   "execution_count": 29,
   "id": "befaddbc-e870-4e1b-a151-35a35b6eaf0f",
   "metadata": {},
   "outputs": [
    {
     "data": {
      "text/plain": [
       "'vp_usable_2023-07-12'"
      ]
     },
     "execution_count": 29,
     "metadata": {},
     "output_type": "execute_result"
    }
   ],
   "source": [
    "f\"{USABLE_VP}_{analysis_date}\""
   ]
  },
  {
   "cell_type": "code",
   "execution_count": 30,
   "id": "760bc660-4101-4e47-a8f1-554b7c071f66",
   "metadata": {},
   "outputs": [],
   "source": [
    "usable_vp = dd.read_parquet(\n",
    "        f\"{SEGMENT_GCS}{USABLE_VP}_{analysis_date}\"\n",
    "    )"
   ]
  },
  {
   "cell_type": "code",
   "execution_count": 31,
   "id": "58ab2dda-de55-4bad-8169-142d97d82707",
   "metadata": {},
   "outputs": [
    {
     "data": {
      "text/plain": [
       "dask.dataframe.core.DataFrame"
      ]
     },
     "execution_count": 31,
     "metadata": {},
     "output_type": "execute_result"
    }
   ],
   "source": [
    "type(usable_vp)"
   ]
  },
  {
   "cell_type": "code",
   "execution_count": 34,
   "id": "e92ded41-d82b-4518-a888-45c34e99f221",
   "metadata": {},
   "outputs": [
    {
     "data": {
      "text/plain": [
       "datetime.datetime(2023, 7, 17, 16, 4, 34, 46605)"
      ]
     },
     "execution_count": 34,
     "metadata": {},
     "output_type": "execute_result"
    }
   ],
   "source": [
    "datetime.datetime.now() "
   ]
  },
  {
   "cell_type": "code",
   "execution_count": 38,
   "id": "04d7b5c8-651a-4ba2-bf78-544c623b3e56",
   "metadata": {},
   "outputs": [],
   "source": [
    "usable_vp = usable_vp.assign(\n",
    "    identifier = usable_vp.gtfs_dataset_key.astype(str) + '/' + usable_vp.trip_id.astype(str)\n",
    ")"
   ]
  },
  {
   "cell_type": "code",
   "execution_count": 39,
   "id": "f2ec04cb-f478-4960-8421-34c3b766dad5",
   "metadata": {},
   "outputs": [],
   "source": [
    "# Using \n",
    "usable_vp = usable_vp.groupby(['identifier']).vp_idx.nunique()"
   ]
  },
  {
   "cell_type": "code",
   "execution_count": null,
   "id": "8bc120e1-7bec-423d-942f-1cc8f2ad8ff2",
   "metadata": {},
   "outputs": [],
   "source": [
    "usable_vp = usable_vp.compute()"
   ]
  },
  {
   "cell_type": "markdown",
   "id": "a4881061-ff1e-4981-9174-3810137ca0b4",
   "metadata": {},
   "source": [
    "##### Merge"
   ]
  },
  {
   "cell_type": "code",
   "execution_count": null,
   "id": "aa02c1c1-c36c-4e88-9256-c52bdddb0691",
   "metadata": {},
   "outputs": [],
   "source": [
    "agg3.sample()"
   ]
  },
  {
   "cell_type": "code",
   "execution_count": null,
   "id": "6ad4f412-7859-4fb0-a946-dcd995f5b669",
   "metadata": {},
   "outputs": [],
   "source": [
    "pd.merge(usable_vp3, agg3, on = ['gtfs_dataset_key','trip_id'], how = 'outer', indicator = True)[['_merge']].value_counts()"
   ]
  },
  {
   "cell_type": "code",
   "execution_count": null,
   "id": "4c25d405-62ab-46c6-8768-592aff6649bc",
   "metadata": {},
   "outputs": [],
   "source": [
    "merge3 =  pd.merge(usable_vp3, agg3,  on = ['gtfs_dataset_key','trip_id'], how = 'inner')"
   ]
  },
  {
   "cell_type": "code",
   "execution_count": null,
   "id": "4c6af39a-4f73-48c7-8192-1a87de39da54",
   "metadata": {},
   "outputs": [],
   "source": [
    "merge3['percent_of_positions_retained'] = merge3.number_of_unique_vps_sjoin/merge3.number_of_unique_vps_all_pts * 100"
   ]
  },
  {
   "cell_type": "code",
   "execution_count": null,
   "id": "b7216c1a-c0ed-496a-bc50-8f5e75705a7a",
   "metadata": {},
   "outputs": [],
   "source": [
    "merge3.percent_of_positions_retained.describe()"
   ]
  },
  {
   "cell_type": "code",
   "execution_count": null,
   "id": "ef6ce856-5562-4b6a-898c-b1ad538c093e",
   "metadata": {},
   "outputs": [],
   "source": [
    "TRIP_GROUPING_COLS = STOP_SEG_DICT[\"trip_grouping_cols\"]"
   ]
  },
  {
   "cell_type": "code",
   "execution_count": null,
   "id": "55d2c64f-1850-4b79-addd-8b8e1810d66f",
   "metadata": {},
   "outputs": [],
   "source": [
    "crosswalk = sched_rt_utils.crosswalk_scheduled_trip_grouping_with_rt_key(\n",
    "        analysis_date, \n",
    "        [\"feed_key\", \"trip_id\"] + TRIP_GROUPING_COLS\n",
    "    )"
   ]
  },
  {
   "cell_type": "code",
   "execution_count": null,
   "id": "de4e1504-f4d8-4b68-b5ce-98ba38c39972",
   "metadata": {},
   "outputs": [],
   "source": [
    "crosswalk = crosswalk.compute()"
   ]
  },
  {
   "cell_type": "code",
   "execution_count": null,
   "id": "f4893888-b499-41de-8439-983bdda86821",
   "metadata": {},
   "outputs": [],
   "source": [
    "merge4 =  pd.merge(merge3, crosswalk,  on = ['gtfs_dataset_key','trip_id'], how = 'left')"
   ]
  },
  {
   "cell_type": "code",
   "execution_count": null,
   "id": "007f62e8-07fd-488f-aae4-88f721a3938b",
   "metadata": {},
   "outputs": [],
   "source": [
    "merge4.sort_values(['percent_of_positions_retained']).head()"
   ]
  },
  {
   "cell_type": "markdown",
   "id": "83de7b8d-60f9-4cf6-aa4b-00572c8ae860",
   "metadata": {},
   "source": [
    "#### All Vehicle Positions"
   ]
  },
  {
   "cell_type": "code",
   "execution_count": null,
   "id": "55a3a78f-4f39-4b54-8215-26847352cae2",
   "metadata": {},
   "outputs": [],
   "source": [
    "stop running"
   ]
  },
  {
   "cell_type": "code",
   "execution_count": null,
   "id": "94cc3765-65fd-4c0e-b541-3328eb7f6cc4",
   "metadata": {},
   "outputs": [],
   "source": [
    "# VP all without paring\n",
    "STG_0_FILE = STOP_SEG_DICT['stage0']\n",
    "    "
   ]
  },
  {
   "cell_type": "code",
   "execution_count": null,
   "id": "f126d889-20be-403a-bc5d-63af169afd96",
   "metadata": {},
   "outputs": [],
   "source": [
    "f\"{STG_0_FILE}_{analysis_date}/\""
   ]
  },
  {
   "cell_type": "code",
   "execution_count": null,
   "id": "e35c9f86-a7d7-474d-88a3-5757ce458925",
   "metadata": {},
   "outputs": [],
   "source": [
    "all_pts = helpers.import_vehicle_positions(\n",
    "            SEGMENT_GCS,\n",
    "            f\"{STG_0_FILE}_{analysis_date}/\",\n",
    "            \"df\",\n",
    "            columns = [\"gtfs_dataset_key\", \"trip_id\",\"geometry\"],\n",
    "            partitioned = False\n",
    "        )\n",
    "all_pts = all_pts.compute()"
   ]
  },
  {
   "cell_type": "code",
   "execution_count": null,
   "id": "ad87abe6-deab-411a-b27f-27f90f657d07",
   "metadata": {},
   "outputs": [],
   "source": [
    "all_pts.sample(5)"
   ]
  },
  {
   "cell_type": "code",
   "execution_count": null,
   "id": "a617736e-780e-47d6-8f0e-9436d3aaddb7",
   "metadata": {},
   "outputs": [],
   "source": [
    "all_pts2 = (all_pts\n",
    "        .groupby(['gtfs_dataset_key','trip_id'])\n",
    "        .agg({'geometry':'nunique'}).reset_index()\n",
    "        .rename(columns = {'geometry':'number_of_unique_vps_all_pts'})\n",
    "        .reset_index(drop = True)\n",
    "       )"
   ]
  },
  {
   "cell_type": "code",
   "execution_count": null,
   "id": "a86e4864-92d5-4cd4-bfdf-7f4da6511083",
   "metadata": {
    "tags": []
   },
   "outputs": [],
   "source": [
    "len(all_pts[(all_pts.gtfs_dataset_key == \"cdd2ad81863b6d4ad51676a1cb781ea8\") & (all_pts.trip_id == \"10686020\")])"
   ]
  },
  {
   "cell_type": "code",
   "execution_count": null,
   "id": "79157471-20dd-431b-a2b7-56f6f505b535",
   "metadata": {},
   "outputs": [],
   "source": [
    "all_pts2[(all_pts2.gtfs_dataset_key == \"cdd2ad81863b6d4ad51676a1cb781ea8\") & (all_pts2.trip_id == \"10686020\")]"
   ]
  },
  {
   "cell_type": "code",
   "execution_count": null,
   "id": "81b17588-37ee-4194-86f3-c208995ccb00",
   "metadata": {},
   "outputs": [],
   "source": [
    "all_pts2[(all_pts2.gtfs_dataset_key == \"593953c37ce48a9449bb90808ba0c1e1\") & (all_pts2.trip_id == \"t5FE-b3EA-sl13\")]"
   ]
  },
  {
   "cell_type": "code",
   "execution_count": null,
   "id": "d5459274-4c39-4b37-aecc-c5443a21974c",
   "metadata": {},
   "outputs": [],
   "source": [
    "all_pts2[(all_pts2.gtfs_dataset_key == \"65d9589130415c685b89f4f7c2d8bd7e\") & (all_pts2.trip_id == \"10035002751332-DEC22\")]"
   ]
  },
  {
   "cell_type": "code",
   "execution_count": null,
   "id": "9beedeac-8ebc-4ce7-ac18-01f0565dc2ef",
   "metadata": {},
   "outputs": [],
   "source": [
    "# How did this pop up in the grouped df if it doesn't even exist??\n",
    "all_pts[(all_pts.gtfs_dataset_key == \"00accf770009aafd5dc103ff2eeddb37\") & (all_pts.trip_id == \"-1160024104\")]"
   ]
  },
  {
   "cell_type": "code",
   "execution_count": null,
   "id": "0d91a933-c8b9-486f-9797-45e927fe2f02",
   "metadata": {},
   "outputs": [],
   "source": [
    "all_pts3 = all_pts.drop(columns = ['geometry']).drop_duplicates().reset_index(drop = True)"
   ]
  },
  {
   "cell_type": "code",
   "execution_count": null,
   "id": "d5219bc6-d659-47e9-af93-fb87fc1cb810",
   "metadata": {},
   "outputs": [],
   "source": [
    "len(all_pts3)"
   ]
  },
  {
   "cell_type": "code",
   "execution_count": null,
   "id": "8ef005ed-8e22-4812-b1c9-aba864dc6b42",
   "metadata": {},
   "outputs": [],
   "source": [
    "all_pts2.shape"
   ]
  },
  {
   "cell_type": "code",
   "execution_count": null,
   "id": "9b846c50-2c15-490a-a871-69b787970c9e",
   "metadata": {},
   "outputs": [],
   "source": [
    "len(all_pts)"
   ]
  },
  {
   "cell_type": "markdown",
   "id": "75ebbba3-ed5e-4aae-86a0-ae23efb4f0af",
   "metadata": {},
   "source": [
    "##### Merge Sjoin with All Vehicles"
   ]
  },
  {
   "cell_type": "code",
   "execution_count": null,
   "id": "4dc64cd8-4b0f-46e7-bbc2-e8241820de48",
   "metadata": {},
   "outputs": [],
   "source": [
    "# Merge to get rid of weird rows??\n",
    "# These are all points \n",
    "pd.merge(all_pts3, all_pts2, on = ['gtfs_dataset_key','trip_id'], how = 'outer', indicator = True)[['_merge']].value_counts()"
   ]
  },
  {
   "cell_type": "code",
   "execution_count": null,
   "id": "ff9ab50e-844b-4e08-a95c-0a1e29402603",
   "metadata": {},
   "outputs": [],
   "source": [
    "merge1 = pd.merge(all_pts3, all_pts2, on = ['gtfs_dataset_key','trip_id'], how = 'inner')"
   ]
  },
  {
   "cell_type": "code",
   "execution_count": null,
   "id": "a439c9f6-161e-43d6-aa43-17a6a8d2684b",
   "metadata": {},
   "outputs": [],
   "source": [
    "merge1.sample()"
   ]
  },
  {
   "cell_type": "code",
   "execution_count": null,
   "id": "e4d6ccc4-5ebe-4ff5-a2d4-39839eb42069",
   "metadata": {},
   "outputs": [],
   "source": [
    "merge1.shape"
   ]
  },
  {
   "cell_type": "code",
   "execution_count": null,
   "id": "e4e2f4bb-9b92-4841-a579-7105657f3d47",
   "metadata": {},
   "outputs": [],
   "source": [
    "# These are sjoin positions\n",
    "agg3.sample()"
   ]
  },
  {
   "cell_type": "code",
   "execution_count": null,
   "id": "8b8a0f3e-2e9a-4636-a68c-cad12296c3eb",
   "metadata": {},
   "outputs": [],
   "source": [
    "agg3.shape"
   ]
  },
  {
   "cell_type": "code",
   "execution_count": null,
   "id": "e263fa67-f7d7-4289-89a2-2d07c56733f7",
   "metadata": {},
   "outputs": [],
   "source": [
    "pd.merge(merge1, agg3, on = ['gtfs_dataset_key','trip_id'], how = 'outer', indicator = True)[['_merge']].value_counts()"
   ]
  },
  {
   "cell_type": "code",
   "execution_count": null,
   "id": "22bcd878-3b10-4591-bc77-94d06073af2e",
   "metadata": {},
   "outputs": [],
   "source": [
    "merge2 = pd.merge(merge1, agg3, on = ['gtfs_dataset_key','trip_id'], how = 'inner')"
   ]
  },
  {
   "cell_type": "code",
   "execution_count": null,
   "id": "60ba9b28-a9bc-4ab8-a830-f09a4b4b6ea1",
   "metadata": {},
   "outputs": [],
   "source": [
    "merge2.sample(5)"
   ]
  },
  {
   "cell_type": "markdown",
   "id": "6ccd0ac3-2aa6-42ab-a121-6ba3ab7673b1",
   "metadata": {},
   "source": [
    "### Investigate "
   ]
  },
  {
   "cell_type": "code",
   "execution_count": null,
   "id": "e1140175-e92e-43e4-a9b7-e1aa6237c275",
   "metadata": {},
   "outputs": [],
   "source": [
    "stop running"
   ]
  },
  {
   "cell_type": "code",
   "execution_count": null,
   "id": "cab32ef3-cc66-40ce-aa19-59631734f539",
   "metadata": {},
   "outputs": [],
   "source": [
    "stage3_df = speed_utils.flag_stage3(divide_by_zero, analysis_date)"
   ]
  },
  {
   "cell_type": "code",
   "execution_count": null,
   "id": "3e4e731a-6e1d-47db-aa57-abf7c34b1bf9",
   "metadata": {},
   "outputs": [],
   "source": [
    "stage3_df.shape_array_key.nunique()"
   ]
  },
  {
   "cell_type": "code",
   "execution_count": null,
   "id": "fdafc453-0d9d-4e4a-9355-38e2ad76a1a4",
   "metadata": {},
   "outputs": [],
   "source": [
    "sort_by = ['_gtfs_dataset_name','shape_array_key','trip_id','stop_sequence']"
   ]
  },
  {
   "cell_type": "code",
   "execution_count": null,
   "id": "70996816-e94c-4906-838c-0d9e0fe3049e",
   "metadata": {},
   "outputs": [],
   "source": [
    "preview_cols = sort_by + ['stop_id','gtfs_dataset_key','location_timestamp_local','pair','stage3_flag']"
   ]
  },
  {
   "cell_type": "markdown",
   "id": "e52c8e35-2341-4aae-93f4-5555b54f1afb",
   "metadata": {},
   "source": [
    "#### Find routes with a lot of n_trips that need to be evaluated."
   ]
  },
  {
   "cell_type": "code",
   "execution_count": null,
   "id": "5292af73-a2a0-4eda-aa2f-73732d80a3ef",
   "metadata": {},
   "outputs": [],
   "source": [
    "shape_trips = speed_utils.count_trips_routes(stage3_df)"
   ]
  },
  {
   "cell_type": "code",
   "execution_count": null,
   "id": "05b804be-9dba-425a-bbae-6ccd65c22885",
   "metadata": {},
   "outputs": [],
   "source": [
    "shape_trips.head(5)"
   ]
  },
  {
   "cell_type": "code",
   "execution_count": null,
   "id": "c35f6586-0483-413f-aa65-e793cbea42cc",
   "metadata": {},
   "outputs": [],
   "source": [
    "gtfs_key1= \"6c2d7daaf979779fa2089c6395baf98b\"\n",
    "trip_id1 = \"904463\"\n",
    "shape_key1 = \"5a788bd9c9aa5c5465875689a626baa9\""
   ]
  },
  {
   "cell_type": "markdown",
   "id": "4a9bbe1e-02f6-44b3-bf8a-693d9f94da7a",
   "metadata": {},
   "source": [
    "#### Example Trip 1\n",
    "* Understanding the result from flag_stage3().\n",
    "* Looking at AC Transit: stop sequences 6 and 7 have different stop_ids. However, their time stamps and locations are the same.\n",
    "* It looks like they share the same point.\n",
    "* However, this isn't due to paring too many points: there just aren't enough points to choose from in the raw data.\n",
    "* Also sequence 2 is extremely long."
   ]
  },
  {
   "cell_type": "code",
   "execution_count": null,
   "id": "db254647-2f6a-4ec9-a900-25578c745419",
   "metadata": {},
   "outputs": [],
   "source": [
    "stage3_df[(stage3_df.stage3_flag != 'check in stage 2')].sort_values(by =sort_by)[preview_cols].head(2)"
   ]
  },
  {
   "cell_type": "code",
   "execution_count": null,
   "id": "f50dc43f-697f-400c-b598-968a59ac7452",
   "metadata": {},
   "outputs": [],
   "source": [
    "test_route1 = \"03bc2779a66739316156b459ffc3eefa\"\n",
    "test_gtfs_key1 = \"cdd2ad81863b6d4ad51676a1cb781ea8\"\n",
    "test_trip1 = \"11776020\""
   ]
  },
  {
   "cell_type": "code",
   "execution_count": null,
   "id": "aef433dd-9019-439a-abb2-70e0a65bfb1f",
   "metadata": {},
   "outputs": [],
   "source": [
    "# % of trips with problematic rows for this route\n",
    "trips_count[trips_count.shape_array_key == test_route1]"
   ]
  },
  {
   "cell_type": "code",
   "execution_count": null,
   "id": "03312246-3ea0-42a7-a552-86196a61b0f9",
   "metadata": {
    "scrolled": true,
    "tags": []
   },
   "outputs": [],
   "source": [
    "speed_utils.original_df_rows(flagged, test_trip1, test_route1)"
   ]
  },
  {
   "cell_type": "code",
   "execution_count": null,
   "id": "7a4ae095-d010-46b5-80b2-0bbe948f249f",
   "metadata": {},
   "outputs": [],
   "source": [
    "speed_utils.stage2_trouble_shooting(flagged_df= stage3_df,\n",
    "                        date = analysis_date,\n",
    "                        route = test_route1,\n",
    "                        trip = test_trip1,\n",
    "                        gtfs_key = test_gtfs_key1)"
   ]
  },
  {
   "cell_type": "markdown",
   "id": "38c6d374-155d-4fcc-985a-7c892eaecb46",
   "metadata": {},
   "source": [
    "#### Example Trip 2\n",
    "* Underestanding the result from `flag_stage3()`. \n",
    "* Same thing as Ex Trip 1 except kooking at LA Metro: stop sequences 45 and 46 have different stop_ids. However, their time stamps and locations are the same. \n",
    "* Same issue: segments 45 and 46 are sharing points. There aren't enough points captured.\n",
    "* In general, it looks like this route doesn't have a lot of rows that are ok."
   ]
  },
  {
   "cell_type": "code",
   "execution_count": null,
   "id": "268c5f17-df4a-4d84-b3b0-d76a2727bcf7",
   "metadata": {},
   "outputs": [],
   "source": [
    "test_route2 = \"38c814829dff816aa87c606c3aab4f45\"\n",
    "test_gtfs_key2 = \"65d9589130415c685b89f4f7c2d8bd7e\"\n",
    "test_trip2 = \"10294000051654-DEC22\""
   ]
  },
  {
   "cell_type": "code",
   "execution_count": null,
   "id": "5ae2cbab-5fa4-45bf-9965-962f33dc1946",
   "metadata": {},
   "outputs": [],
   "source": [
    "# Original number of rows for this trip\n",
    "len(flagged[(flagged.trip_id == test_trip2) & (flagged.shape_array_key == test_route2)])"
   ]
  },
  {
   "cell_type": "code",
   "execution_count": null,
   "id": "8a927dfa-7b78-41f8-b387-6d03f4e328c6",
   "metadata": {},
   "outputs": [],
   "source": [
    "# Rows with zeroes...a lot of them.\n",
    "len(divide_by_zero[(divide_by_zero.trip_id == test_trip2) & (divide_by_zero.shape_array_key == test_route2)])"
   ]
  },
  {
   "cell_type": "code",
   "execution_count": null,
   "id": "1b193ab2-1cfa-471b-aa1b-857949f4e2d1",
   "metadata": {},
   "outputs": [],
   "source": [
    "stage3_df[(stage3_df.stage3_flag != 'check in stage 2') & (stage3_df.shape_array_key == test_route2) \n",
    "   & (stage3_df.stop_sequence.isin([45,46]))].sort_values(by =sort_by)[preview_cols]"
   ]
  },
  {
   "cell_type": "code",
   "execution_count": null,
   "id": "4b3bc6c2-d9ff-44fd-b812-28c4dec1023f",
   "metadata": {},
   "outputs": [],
   "source": [
    "# % of trips with problematic rows for this route, lots of them\n",
    "trips_count[trips_count.shape_array_key == test_route2]"
   ]
  },
  {
   "cell_type": "code",
   "execution_count": null,
   "id": "d121f820-9838-4d27-8eba-be74044554c6",
   "metadata": {
    "scrolled": true,
    "tags": []
   },
   "outputs": [],
   "source": [
    "speed_utils.original_df_rows(m1, test_trip2, test_route2)"
   ]
  },
  {
   "cell_type": "code",
   "execution_count": null,
   "id": "deaa6fdf-37b8-49ee-97f2-46f74d41a449",
   "metadata": {},
   "outputs": [],
   "source": [
    "speed_utils.stage2_trouble_shooting(flagged_df= stage3_df,\n",
    "                        date = analysis_date,\n",
    "                        route = test_route2,\n",
    "                        trip = test_trip2,\n",
    "                        gtfs_key = test_gtfs_key2,)"
   ]
  },
  {
   "cell_type": "code",
   "execution_count": null,
   "id": "7f5485ec-4038-46d1-bca1-0116733f0128",
   "metadata": {},
   "outputs": [],
   "source": [
    "# See which trip has the most rows that are ok for this route\n",
    "route_most_populated_df[route_most_populated_df.shape_array_key == test_route2]"
   ]
  },
  {
   "cell_type": "code",
   "execution_count": null,
   "id": "be67628e-7c55-43d8-838c-251bc4439a8b",
   "metadata": {},
   "outputs": [],
   "source": [
    "# Plot the trip from this route with the highest % of ok rows\n",
    "speed_utils.stage2_trouble_shooting(flagged_df= stage3_df,\n",
    "                        date = analysis_date,\n",
    "                        route = test_route2,\n",
    "                        trip = \"10294000051724-DEC22\",\n",
    "                        gtfs_key = test_gtfs_key2,)"
   ]
  },
  {
   "cell_type": "markdown",
   "id": "27d10dab-c7b0-4ddd-b70b-b3c6b7b3e579",
   "metadata": {},
   "source": [
    "#### Example Trip 3\n",
    "* Choosing a route/trip with high n_trips that isn't Muni or LA Metro to shake things up.\n",
    "* San Diego Vehicle Positions\n",
    "* Segments 44 and 45 don't have any rows in the original dataframe for trip 16938440."
   ]
  },
  {
   "cell_type": "code",
   "execution_count": null,
   "id": "f951ac97-43af-452f-9cb7-d40f71c114c9",
   "metadata": {},
   "outputs": [],
   "source": [
    "test_route3 = \"1fc55d9df0cd785dddc864bf1b72976f\"\n",
    "test_gtfs_key3 = \"a4f6fd5552107e05fe9743ac7cce2c55\"\n",
    "test_trip3 = \"16938440\""
   ]
  },
  {
   "cell_type": "code",
   "execution_count": null,
   "id": "91798284-13ab-459b-80b8-8d3b63053615",
   "metadata": {
    "scrolled": true,
    "tags": []
   },
   "outputs": [],
   "source": [
    "speed_utils.original_df_rows(flagged, test_trip3, test_route3)"
   ]
  },
  {
   "cell_type": "code",
   "execution_count": null,
   "id": "91d07c20-9d78-4eea-8b9c-293df8ade5a3",
   "metadata": {},
   "outputs": [],
   "source": [
    "speed_utils.stage2_trouble_shooting(flagged_df= stage3_df,\n",
    "                        date = analysis_date,\n",
    "                        route = test_route3,\n",
    "                        trip = test_trip3,\n",
    "                        gtfs_key = test_gtfs_key3,)"
   ]
  },
  {
   "cell_type": "code",
   "execution_count": null,
   "id": "0ef5a418-34fb-4470-a576-71fc5281476b",
   "metadata": {
    "tags": []
   },
   "outputs": [],
   "source": [
    "# Trip from this route with the most ok rows\n",
    "route_most_populated_df[route_most_populated_df.shape_array_key == test_route3]"
   ]
  },
  {
   "cell_type": "code",
   "execution_count": null,
   "id": "bf92c615-47ab-4bd5-8513-0a9d202bd542",
   "metadata": {},
   "outputs": [],
   "source": [
    "# Test the trip with the most ok rows\n",
    "speed_utils.stage2_trouble_shooting(flagged_df= stage3_df,\n",
    "                        date = analysis_date,\n",
    "                        route = test_route3,\n",
    "                        trip = \"16938341\",\n",
    "                        gtfs_key = test_gtfs_key3,)"
   ]
  },
  {
   "cell_type": "code",
   "execution_count": null,
   "id": "c9561cd4-1b24-4415-ac6b-71adba8d0dfa",
   "metadata": {
    "scrolled": true,
    "tags": []
   },
   "outputs": [],
   "source": [
    "speed_utils.original_df_rows(flagged, \"16938341\", test_route3)"
   ]
  }
 ],
 "metadata": {
  "kernelspec": {
   "display_name": "Python 3 (ipykernel)",
   "language": "python",
   "name": "python3"
  },
  "language_info": {
   "codemirror_mode": {
    "name": "ipython",
    "version": 3
   },
   "file_extension": ".py",
   "mimetype": "text/x-python",
   "name": "python",
   "nbconvert_exporter": "python",
   "pygments_lexer": "ipython3",
   "version": "3.9.13"
  }
 },
 "nbformat": 4,
 "nbformat_minor": 5
}
