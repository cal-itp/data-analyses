{
 "cells": [
  {
   "cell_type": "code",
   "execution_count": 1,
   "id": "2c7feec3-aa18-42ab-94b9-cab4be608152",
   "metadata": {},
   "outputs": [
    {
     "name": "stderr",
     "output_type": "stream",
     "text": [
      "/opt/conda/lib/python3.9/site-packages/geopandas/_compat.py:123: UserWarning: The Shapely GEOS version (3.11.1-CAPI-1.17.1) is incompatible with the GEOS version PyGEOS was compiled with (3.10.1-CAPI-1.16.0). Conversions between both will be slow.\n",
      "  warnings.warn(\n",
      "/home/jovyan/data-analyses/rt_segment_speeds/_threshold_utils.py:1: UserWarning: Shapely 2.0 is installed, but because PyGEOS is also installed, GeoPandas will still use PyGEOS by default for now. To force to use and test Shapely 2.0, you have to set the environment variable USE_PYGEOS=0. You can do this before starting the Python process, or in your code before importing geopandas:\n",
      "\n",
      "import os\n",
      "os.environ['USE_PYGEOS'] = '0'\n",
      "import geopandas\n",
      "\n",
      "In a future release, GeoPandas will switch to using Shapely by default. If you are using PyGEOS directly (calling PyGEOS functions on geometries from GeoPandas), this will then stop working and you are encouraged to migrate from PyGEOS to Shapely 2.0 (https://shapely.readthedocs.io/en/latest/migration_pygeos.html).\n",
      "  import geopandas as gpd\n"
     ]
    }
   ],
   "source": [
    "import _threshold_utils as threshold_utils\n",
    "import _speed_utils as speed_utils\n",
    "import altair as alt\n",
    "\n",
    "import pandas as pd\n",
    "import geopandas as gpd\n",
    "from segment_speed_utils.project_vars import analysis_date\n",
    "from shared_utils import calitp_color_palette as cp"
   ]
  },
  {
   "cell_type": "code",
   "execution_count": 2,
   "id": "0108ae4a-4518-4487-85f7-a5faa3e9cbf6",
   "metadata": {},
   "outputs": [],
   "source": [
    "pd.options.display.max_columns = 100\n",
    "pd.options.display.float_format = \"{:.2f}\".format\n",
    "pd.set_option(\"display.max_rows\", None)\n",
    "pd.set_option(\"display.max_colwidth\", None)"
   ]
  },
  {
   "cell_type": "code",
   "execution_count": 3,
   "id": "e3adcb1c-9a8a-4dee-9bdc-fddb63adbad9",
   "metadata": {},
   "outputs": [],
   "source": [
    "GCS_PATH = \"gs://calitp-analytics-data/data-analyses/rt_segment_speeds/\""
   ]
  },
  {
   "cell_type": "code",
   "execution_count": 4,
   "id": "036c951c-3932-439e-bbbf-ff29dcbc18cb",
   "metadata": {},
   "outputs": [
    {
     "data": {
      "text/plain": [
       "'2023-03-15'"
      ]
     },
     "execution_count": 4,
     "metadata": {},
     "output_type": "execute_result"
    }
   ],
   "source": [
    "analysis_date"
   ]
  },
  {
   "cell_type": "code",
   "execution_count": 5,
   "id": "1e9f79a4-5921-4e8c-82c5-3b414f677cf8",
   "metadata": {
    "tags": []
   },
   "outputs": [
    {
     "name": "stdout",
     "output_type": "stream",
     "text": [
      "14517 duplicate rows will be dropped\n",
      "0    4512\n",
      "Name: stops_renumbered_correctly, dtype: int64\n"
     ]
    }
   ],
   "source": [
    "# Flag\n",
    "routes_many_stops_df, routes_many_stops_list = speed_utils.find_shapes_with_many_stops(analysis_date)"
   ]
  },
  {
   "cell_type": "code",
   "execution_count": 6,
   "id": "6483a59e-1d44-4fa9-b057-8ce5230126c2",
   "metadata": {},
   "outputs": [
    {
     "name": "stdout",
     "output_type": "stream",
     "text": [
      "14517 duplicate rows will be dropped\n",
      "0    4512\n",
      "Name: stops_renumbered_correctly, dtype: int64\n"
     ]
    }
   ],
   "source": [
    "m1 =  speed_utils.merge_all_speeds(analysis_date)"
   ]
  },
  {
   "cell_type": "code",
   "execution_count": 7,
   "id": "416decee-dfd4-4a5f-8427-7138f6c7bac6",
   "metadata": {},
   "outputs": [
    {
     "data": {
      "text/plain": [
       "(2779187, 12)"
      ]
     },
     "execution_count": 7,
     "metadata": {},
     "output_type": "execute_result"
    }
   ],
   "source": [
    "m1.shape"
   ]
  },
  {
   "cell_type": "code",
   "execution_count": 143,
   "id": "367c747b-1e08-4069-aa9b-358f912ac1ab",
   "metadata": {},
   "outputs": [
    {
     "data": {
      "text/plain": [
       "4512"
      ]
     },
     "execution_count": 143,
     "metadata": {},
     "output_type": "execute_result"
    }
   ],
   "source": [
    "m1.shape_array_key.nunique()"
   ]
  },
  {
   "cell_type": "markdown",
   "id": "d531e5a9-a972-4177-8aa0-708a4ea61366",
   "metadata": {},
   "source": [
    "### Style a dataframe"
   ]
  },
  {
   "cell_type": "code",
   "execution_count": 77,
   "id": "20c1eeac-34e6-417c-9354-31cfc3ea9096",
   "metadata": {},
   "outputs": [
    {
     "data": {
      "text/html": [
       "<div>\n",
       "<style scoped>\n",
       "    .dataframe tbody tr th:only-of-type {\n",
       "        vertical-align: middle;\n",
       "    }\n",
       "\n",
       "    .dataframe tbody tr th {\n",
       "        vertical-align: top;\n",
       "    }\n",
       "\n",
       "    .dataframe thead th {\n",
       "        text-align: right;\n",
       "    }\n",
       "</style>\n",
       "<table border=\"1\" class=\"dataframe\">\n",
       "  <thead>\n",
       "    <tr style=\"text-align: right;\">\n",
       "      <th></th>\n",
       "      <th>trip_id</th>\n",
       "    </tr>\n",
       "    <tr>\n",
       "      <th>shape_array_key</th>\n",
       "      <th></th>\n",
       "    </tr>\n",
       "  </thead>\n",
       "  <tbody>\n",
       "    <tr>\n",
       "      <th>6388c0be232f0c745df85d66689a6db0</th>\n",
       "      <td>208</td>\n",
       "    </tr>\n",
       "    <tr>\n",
       "      <th>2c546e0dc8375fdb23c4b987ed47f968</th>\n",
       "      <td>166</td>\n",
       "    </tr>\n",
       "    <tr>\n",
       "      <th>9ed053064d883cca43d29dea9098def2</th>\n",
       "      <td>163</td>\n",
       "    </tr>\n",
       "    <tr>\n",
       "      <th>d7cc7b423029e8fb97c6695e45c0997d</th>\n",
       "      <td>163</td>\n",
       "    </tr>\n",
       "    <tr>\n",
       "      <th>d9a8b04ff20d6812ea6e22f655580680</th>\n",
       "      <td>159</td>\n",
       "    </tr>\n",
       "  </tbody>\n",
       "</table>\n",
       "</div>"
      ],
      "text/plain": [
       "                                  trip_id\n",
       "shape_array_key                          \n",
       "6388c0be232f0c745df85d66689a6db0      208\n",
       "2c546e0dc8375fdb23c4b987ed47f968      166\n",
       "9ed053064d883cca43d29dea9098def2      163\n",
       "d7cc7b423029e8fb97c6695e45c0997d      163\n",
       "d9a8b04ff20d6812ea6e22f655580680      159"
      ]
     },
     "execution_count": 77,
     "metadata": {},
     "output_type": "execute_result"
    }
   ],
   "source": [
    "m1.groupby(['shape_array_key']).agg({'trip_id':'nunique'}).sort_values(['trip_id'], ascending = False).head()"
   ]
  },
  {
   "cell_type": "code",
   "execution_count": 79,
   "id": "ed99ba07-ba64-4fea-a2dd-b637f2701a0a",
   "metadata": {},
   "outputs": [],
   "source": [
    "one_route = m1.loc[m1.shape_array_key == \"6388c0be232f0c745df85d66689a6db0\"].reset_index(drop = True)"
   ]
  },
  {
   "cell_type": "code",
   "execution_count": 148,
   "id": "b33f450a-48a0-4183-a218-55471b908162",
   "metadata": {
    "tags": []
   },
   "outputs": [
    {
     "data": {
      "text/html": [
       "<div>\n",
       "<style scoped>\n",
       "    .dataframe tbody tr th:only-of-type {\n",
       "        vertical-align: middle;\n",
       "    }\n",
       "\n",
       "    .dataframe tbody tr th {\n",
       "        vertical-align: top;\n",
       "    }\n",
       "\n",
       "    .dataframe thead th {\n",
       "        text-align: right;\n",
       "    }\n",
       "</style>\n",
       "<table border=\"1\" class=\"dataframe\">\n",
       "  <thead>\n",
       "    <tr style=\"text-align: right;\">\n",
       "      <th></th>\n",
       "      <th>shape_array_key</th>\n",
       "      <th>stop_sequence</th>\n",
       "      <th>gtfs_dataset_key</th>\n",
       "      <th>loop_or_inlining</th>\n",
       "      <th>avg_speed_mph</th>\n",
       "      <th>n_trips</th>\n",
       "      <th>p20_speed_mph</th>\n",
       "      <th>p80_speed_mph</th>\n",
       "      <th>_gtfs_dataset_name</th>\n",
       "      <th>trip_id</th>\n",
       "      <th>speed_mph</th>\n",
       "      <th>sorted_stop_seq</th>\n",
       "    </tr>\n",
       "  </thead>\n",
       "  <tbody>\n",
       "    <tr>\n",
       "      <th>5</th>\n",
       "      <td>6388c0be232f0c745df85d66689a6db0</td>\n",
       "      <td>7</td>\n",
       "      <td>eded866f867cc3292c125d782c1698bb</td>\n",
       "      <td>1</td>\n",
       "      <td>1.04</td>\n",
       "      <td>2</td>\n",
       "      <td>0.82</td>\n",
       "      <td>1.27</td>\n",
       "      <td>LA Metro Rail Vehicle Positions</td>\n",
       "      <td>57678511</td>\n",
       "      <td>0.66</td>\n",
       "      <td>6</td>\n",
       "    </tr>\n",
       "  </tbody>\n",
       "</table>\n",
       "</div>"
      ],
      "text/plain": [
       "                    shape_array_key  stop_sequence  \\\n",
       "5  6388c0be232f0c745df85d66689a6db0              7   \n",
       "\n",
       "                   gtfs_dataset_key  loop_or_inlining  avg_speed_mph  n_trips  \\\n",
       "5  eded866f867cc3292c125d782c1698bb                 1           1.04        2   \n",
       "\n",
       "   p20_speed_mph  p80_speed_mph               _gtfs_dataset_name   trip_id  \\\n",
       "5           0.82           1.27  LA Metro Rail Vehicle Positions  57678511   \n",
       "\n",
       "   speed_mph  sorted_stop_seq  \n",
       "5       0.66                6  "
      ]
     },
     "execution_count": 148,
     "metadata": {},
     "output_type": "execute_result"
    }
   ],
   "source": [
    "one_route[one_route.sorted_stop_seq == 6]"
   ]
  },
  {
   "cell_type": "code",
   "execution_count": 149,
   "id": "ac822584-3963-432d-bc82-d11da58ade71",
   "metadata": {},
   "outputs": [
    {
     "data": {
      "text/html": [
       "<div>\n",
       "<style scoped>\n",
       "    .dataframe tbody tr th:only-of-type {\n",
       "        vertical-align: middle;\n",
       "    }\n",
       "\n",
       "    .dataframe tbody tr th {\n",
       "        vertical-align: top;\n",
       "    }\n",
       "\n",
       "    .dataframe thead th {\n",
       "        text-align: right;\n",
       "    }\n",
       "</style>\n",
       "<table border=\"1\" class=\"dataframe\">\n",
       "  <thead>\n",
       "    <tr style=\"text-align: right;\">\n",
       "      <th></th>\n",
       "      <th>shape_array_key</th>\n",
       "      <th>stop_sequence</th>\n",
       "      <th>gtfs_dataset_key</th>\n",
       "      <th>loop_or_inlining</th>\n",
       "      <th>avg_speed_mph</th>\n",
       "      <th>n_trips</th>\n",
       "      <th>p20_speed_mph</th>\n",
       "      <th>p80_speed_mph</th>\n",
       "      <th>_gtfs_dataset_name</th>\n",
       "      <th>trip_id</th>\n",
       "      <th>speed_mph</th>\n",
       "      <th>sorted_stop_seq</th>\n",
       "    </tr>\n",
       "  </thead>\n",
       "  <tbody>\n",
       "    <tr>\n",
       "      <th>5</th>\n",
       "      <td>6388c0be232f0c745df85d66689a6db0</td>\n",
       "      <td>7</td>\n",
       "      <td>eded866f867cc3292c125d782c1698bb</td>\n",
       "      <td>1</td>\n",
       "      <td>1.04</td>\n",
       "      <td>2</td>\n",
       "      <td>0.82</td>\n",
       "      <td>1.27</td>\n",
       "      <td>LA Metro Rail Vehicle Positions</td>\n",
       "      <td>57678511</td>\n",
       "      <td>0.66</td>\n",
       "      <td>6</td>\n",
       "    </tr>\n",
       "    <tr>\n",
       "      <th>12</th>\n",
       "      <td>6388c0be232f0c745df85d66689a6db0</td>\n",
       "      <td>7</td>\n",
       "      <td>eded866f867cc3292c125d782c1698bb</td>\n",
       "      <td>1</td>\n",
       "      <td>1.04</td>\n",
       "      <td>2</td>\n",
       "      <td>0.82</td>\n",
       "      <td>1.27</td>\n",
       "      <td>LA Metro Rail Vehicle Positions</td>\n",
       "      <td>57678514</td>\n",
       "      <td>1.42</td>\n",
       "      <td>4</td>\n",
       "    </tr>\n",
       "  </tbody>\n",
       "</table>\n",
       "</div>"
      ],
      "text/plain": [
       "                     shape_array_key  stop_sequence  \\\n",
       "5   6388c0be232f0c745df85d66689a6db0              7   \n",
       "12  6388c0be232f0c745df85d66689a6db0              7   \n",
       "\n",
       "                    gtfs_dataset_key  loop_or_inlining  avg_speed_mph  \\\n",
       "5   eded866f867cc3292c125d782c1698bb                 1           1.04   \n",
       "12  eded866f867cc3292c125d782c1698bb                 1           1.04   \n",
       "\n",
       "    n_trips  p20_speed_mph  p80_speed_mph               _gtfs_dataset_name  \\\n",
       "5         2           0.82           1.27  LA Metro Rail Vehicle Positions   \n",
       "12        2           0.82           1.27  LA Metro Rail Vehicle Positions   \n",
       "\n",
       "     trip_id  speed_mph  sorted_stop_seq  \n",
       "5   57678511       0.66                6  \n",
       "12  57678514       1.42                4  "
      ]
     },
     "execution_count": 149,
     "metadata": {},
     "output_type": "execute_result"
    }
   ],
   "source": [
    "one_route[one_route.stop_sequence == 7]"
   ]
  },
  {
   "cell_type": "code",
   "execution_count": 141,
   "id": "9d03d4c9-6163-4f8b-9e49-841f239325e5",
   "metadata": {},
   "outputs": [
    {
     "data": {
      "text/html": [
       "<div>\n",
       "<style scoped>\n",
       "    .dataframe tbody tr th:only-of-type {\n",
       "        vertical-align: middle;\n",
       "    }\n",
       "\n",
       "    .dataframe tbody tr th {\n",
       "        vertical-align: top;\n",
       "    }\n",
       "\n",
       "    .dataframe thead th {\n",
       "        text-align: right;\n",
       "    }\n",
       "</style>\n",
       "<table border=\"1\" class=\"dataframe\">\n",
       "  <thead>\n",
       "    <tr style=\"text-align: right;\">\n",
       "      <th></th>\n",
       "      <th>shape_array_key</th>\n",
       "      <th>stop_sequence</th>\n",
       "      <th>gtfs_dataset_key</th>\n",
       "      <th>loop_or_inlining</th>\n",
       "      <th>avg_speed_mph</th>\n",
       "      <th>n_trips</th>\n",
       "      <th>p20_speed_mph</th>\n",
       "      <th>p80_speed_mph</th>\n",
       "      <th>_gtfs_dataset_name</th>\n",
       "      <th>trip_id</th>\n",
       "      <th>speed_mph</th>\n",
       "      <th>sorted_stop_seq</th>\n",
       "    </tr>\n",
       "  </thead>\n",
       "  <tbody>\n",
       "    <tr>\n",
       "      <th>9</th>\n",
       "      <td>6388c0be232f0c745df85d66689a6db0</td>\n",
       "      <td>3</td>\n",
       "      <td>eded866f867cc3292c125d782c1698bb</td>\n",
       "      <td>1</td>\n",
       "      <td>5.76</td>\n",
       "      <td>103</td>\n",
       "      <td>4.17</td>\n",
       "      <td>7.28</td>\n",
       "      <td>LA Metro Rail Vehicle Positions</td>\n",
       "      <td>57678514</td>\n",
       "      <td>0.31</td>\n",
       "      <td>1</td>\n",
       "    </tr>\n",
       "    <tr>\n",
       "      <th>10</th>\n",
       "      <td>6388c0be232f0c745df85d66689a6db0</td>\n",
       "      <td>4</td>\n",
       "      <td>eded866f867cc3292c125d782c1698bb</td>\n",
       "      <td>1</td>\n",
       "      <td>11.54</td>\n",
       "      <td>105</td>\n",
       "      <td>9.43</td>\n",
       "      <td>13.72</td>\n",
       "      <td>LA Metro Rail Vehicle Positions</td>\n",
       "      <td>57678514</td>\n",
       "      <td>16.82</td>\n",
       "      <td>2</td>\n",
       "    </tr>\n",
       "    <tr>\n",
       "      <th>11</th>\n",
       "      <td>6388c0be232f0c745df85d66689a6db0</td>\n",
       "      <td>6</td>\n",
       "      <td>eded866f867cc3292c125d782c1698bb</td>\n",
       "      <td>1</td>\n",
       "      <td>1.05</td>\n",
       "      <td>2</td>\n",
       "      <td>0.83</td>\n",
       "      <td>1.28</td>\n",
       "      <td>LA Metro Rail Vehicle Positions</td>\n",
       "      <td>57678514</td>\n",
       "      <td>1.42</td>\n",
       "      <td>3</td>\n",
       "    </tr>\n",
       "    <tr>\n",
       "      <th>12</th>\n",
       "      <td>6388c0be232f0c745df85d66689a6db0</td>\n",
       "      <td>7</td>\n",
       "      <td>eded866f867cc3292c125d782c1698bb</td>\n",
       "      <td>1</td>\n",
       "      <td>1.04</td>\n",
       "      <td>2</td>\n",
       "      <td>0.82</td>\n",
       "      <td>1.27</td>\n",
       "      <td>LA Metro Rail Vehicle Positions</td>\n",
       "      <td>57678514</td>\n",
       "      <td>1.42</td>\n",
       "      <td>4</td>\n",
       "    </tr>\n",
       "    <tr>\n",
       "      <th>13</th>\n",
       "      <td>6388c0be232f0c745df85d66689a6db0</td>\n",
       "      <td>8</td>\n",
       "      <td>eded866f867cc3292c125d782c1698bb</td>\n",
       "      <td>1</td>\n",
       "      <td>1.04</td>\n",
       "      <td>2</td>\n",
       "      <td>0.81</td>\n",
       "      <td>1.27</td>\n",
       "      <td>LA Metro Rail Vehicle Positions</td>\n",
       "      <td>57678514</td>\n",
       "      <td>1.42</td>\n",
       "      <td>5</td>\n",
       "    </tr>\n",
       "  </tbody>\n",
       "</table>\n",
       "</div>"
      ],
      "text/plain": [
       "                     shape_array_key  stop_sequence  \\\n",
       "9   6388c0be232f0c745df85d66689a6db0              3   \n",
       "10  6388c0be232f0c745df85d66689a6db0              4   \n",
       "11  6388c0be232f0c745df85d66689a6db0              6   \n",
       "12  6388c0be232f0c745df85d66689a6db0              7   \n",
       "13  6388c0be232f0c745df85d66689a6db0              8   \n",
       "\n",
       "                    gtfs_dataset_key  loop_or_inlining  avg_speed_mph  \\\n",
       "9   eded866f867cc3292c125d782c1698bb                 1           5.76   \n",
       "10  eded866f867cc3292c125d782c1698bb                 1          11.54   \n",
       "11  eded866f867cc3292c125d782c1698bb                 1           1.05   \n",
       "12  eded866f867cc3292c125d782c1698bb                 1           1.04   \n",
       "13  eded866f867cc3292c125d782c1698bb                 1           1.04   \n",
       "\n",
       "    n_trips  p20_speed_mph  p80_speed_mph               _gtfs_dataset_name  \\\n",
       "9       103           4.17           7.28  LA Metro Rail Vehicle Positions   \n",
       "10      105           9.43          13.72  LA Metro Rail Vehicle Positions   \n",
       "11        2           0.83           1.28  LA Metro Rail Vehicle Positions   \n",
       "12        2           0.82           1.27  LA Metro Rail Vehicle Positions   \n",
       "13        2           0.81           1.27  LA Metro Rail Vehicle Positions   \n",
       "\n",
       "     trip_id  speed_mph  sorted_stop_seq  \n",
       "9   57678514       0.31                1  \n",
       "10  57678514      16.82                2  \n",
       "11  57678514       1.42                3  \n",
       "12  57678514       1.42                4  \n",
       "13  57678514       1.42                5  "
      ]
     },
     "execution_count": 141,
     "metadata": {},
     "output_type": "execute_result"
    }
   ],
   "source": [
    "one_route[one_route.trip_id == \"57678514\"]"
   ]
  },
  {
   "cell_type": "code",
   "execution_count": 142,
   "id": "b8093e3b-aef3-4836-8c95-50d5937eaeef",
   "metadata": {},
   "outputs": [
    {
     "name": "stderr",
     "output_type": "stream",
     "text": [
      "/tmp/ipykernel_942/2789643931.py:1: FutureWarning: The default value of numeric_only in DataFrame.std is deprecated. In a future version, it will default to False. In addition, specifying 'numeric_only=None' is deprecated. Select only valid columns or specify the value of numeric_only to silence this warning.\n"
     ]
    },
    {
     "data": {
      "text/plain": [
       "stop_sequence       7.19\n",
       "loop_or_inlining    0.00\n",
       "avg_speed_mph       8.25\n",
       "n_trips            27.18\n",
       "p20_speed_mph       6.18\n",
       "p80_speed_mph       9.74\n",
       "speed_mph          10.15\n",
       "sorted_stop_seq     0.80\n",
       "dtype: float64"
      ]
     },
     "execution_count": 142,
     "metadata": {},
     "output_type": "execute_result"
    }
   ],
   "source": [
    "one_route.std()"
   ]
  },
  {
   "cell_type": "code",
   "execution_count": 151,
   "id": "ec3159ee-9fec-4628-955b-7c341a82c54c",
   "metadata": {},
   "outputs": [
    {
     "data": {
      "text/plain": [
       "gtfs_dataset_key                  shape_array_key                   stop_sequence\n",
       "eded866f867cc3292c125d782c1698bb  6388c0be232f0c745df85d66689a6db0  1               0.00\n",
       "                                                                    2               0.00\n",
       "                                                                    3               0.00\n",
       "                                                                    4               0.00\n",
       "                                                                    5               0.00\n",
       "                                                                    6               0.00\n",
       "                                                                    7               0.00\n",
       "                                                                    8               0.00\n",
       "                                                                    17              0.00\n",
       "                                                                    18              0.00\n",
       "                                                                    19              0.00\n",
       "Name: avg_speed_mph, dtype: float64"
      ]
     },
     "execution_count": 151,
     "metadata": {},
     "output_type": "execute_result"
    }
   ],
   "source": [
    "one_route.groupby(['gtfs_dataset_key','shape_array_key','stop_sequence'])['avg_speed_mph'].std()"
   ]
  },
  {
   "cell_type": "markdown",
   "id": "5816ef70-bc10-4b87-b587-73f3789c5674",
   "metadata": {},
   "source": [
    "### Charts  \n",
    "Test with a few routes first\n",
    "* Create new col that rounds up speed for plotting purposes only."
   ]
  },
  {
   "cell_type": "markdown",
   "id": "c1b099f7-c8e3-4c37-a70d-e765763448d7",
   "metadata": {
    "tags": []
   },
   "source": [
    "#### Manipulate DF for charts"
   ]
  },
  {
   "cell_type": "code",
   "execution_count": 92,
   "id": "576c28b2-8c36-48a2-b312-9fc54010f7b5",
   "metadata": {},
   "outputs": [],
   "source": [
    "test1 = m1.melt(id_vars=[ '_gtfs_dataset_name','shape_array_key','trip_id', 'sorted_stop_seq','gtfs_dataset_key','loop_or_inlining',\n",
    "                       'n_trips'], value_vars=[ 'avg_speed_mph','speed_mph','p20_speed_mph', 'p80_speed_mph'])"
   ]
  },
  {
   "cell_type": "code",
   "execution_count": 93,
   "id": "2b55cb75-8ee8-477c-95bc-439d2ee65962",
   "metadata": {},
   "outputs": [
    {
     "data": {
      "text/plain": [
       "(11116748, 9)"
      ]
     },
     "execution_count": 93,
     "metadata": {},
     "output_type": "execute_result"
    }
   ],
   "source": [
    "test1.shape"
   ]
  },
  {
   "cell_type": "code",
   "execution_count": 94,
   "id": "29dc19fd-0d8b-430d-a78a-a1c947263ef0",
   "metadata": {
    "scrolled": true,
    "tags": []
   },
   "outputs": [],
   "source": [
    "# test1[test1.shape_array_key == \"29d2bbdbeaec1d6888800f85bebf6e33\"]"
   ]
  },
  {
   "cell_type": "code",
   "execution_count": 95,
   "id": "e2c00548-7615-409c-a7cc-7db5f16c9a88",
   "metadata": {},
   "outputs": [],
   "source": [
    "# Only need average speed/p20 speed/p80 to show up once for each stop sequence-operator-shape array\n",
    "test2 = test1.drop_duplicates(subset = [ '_gtfs_dataset_name','shape_array_key','sorted_stop_seq','gtfs_dataset_key','variable','value']).reset_index(drop = True)"
   ]
  },
  {
   "cell_type": "code",
   "execution_count": 96,
   "id": "436aca32-61c9-4488-8fae-26fe66688851",
   "metadata": {},
   "outputs": [],
   "source": [
    "# test2.to_csv(\"./speeds.csv\")"
   ]
  },
  {
   "cell_type": "code",
   "execution_count": 97,
   "id": "be4bac6e-2d9f-4d64-a835-22bb4f3c32f5",
   "metadata": {},
   "outputs": [
    {
     "data": {
      "text/plain": [
       "(4189930, 9)"
      ]
     },
     "execution_count": 97,
     "metadata": {},
     "output_type": "execute_result"
    }
   ],
   "source": [
    "test2.shape"
   ]
  },
  {
   "cell_type": "code",
   "execution_count": 98,
   "id": "5723b75c-0cc2-42e7-95e0-17b444971ee2",
   "metadata": {},
   "outputs": [],
   "source": [
    "other = ['cf688717cf0cd8dac0e6d1f12f9c7333',\n",
    "       '6f39f818c9a0c5496cd1c8bd1aa11e67',\n",
    "       '3de4482ec32ba0f2edb451d3528b5a5e']"
   ]
  },
  {
   "cell_type": "code",
   "execution_count": 99,
   "id": "7b08d810-9e33-4a4f-b600-b5c8de9bdef6",
   "metadata": {},
   "outputs": [],
   "source": [
    "# Take out routes that have over 85 stops\n",
    "# subset = test2[~test2.shape_array_key.isin(routes_many_stops_list)].reset_index(drop = True)"
   ]
  },
  {
   "cell_type": "code",
   "execution_count": 100,
   "id": "600d9ed7-524e-4af6-b90b-81fd89cf8c02",
   "metadata": {},
   "outputs": [],
   "source": [
    "subset = test2[test2.shape_array_key.isin([\"29d2bbdbeaec1d6888800f85bebf6e33\",'754c5b012195800c38dc58e72e4f482e',\n",
    "      'e3c5ed2c6fa6cd5c5cd57d46aeb3cd8e', ])]"
   ]
  },
  {
   "cell_type": "code",
   "execution_count": 101,
   "id": "a92360af-5dfb-43e2-b89c-87c8b8268665",
   "metadata": {},
   "outputs": [],
   "source": [
    "subset = threshold_utils.pre_clean(subset)"
   ]
  },
  {
   "cell_type": "code",
   "execution_count": 102,
   "id": "3a4c7ac2-4d6f-4702-a20b-0de69e0c86d4",
   "metadata": {},
   "outputs": [
    {
     "data": {
      "text/plain": [
       "Index(['Gtfs Dataset Name', 'Shape Array Key', 'Trip Id', 'Sorted Stop Seq',\n",
       "       'Gtfs Dataset Key', 'Loop Or Inlining', 'N Trips', 'Variable', 'Value'],\n",
       "      dtype='object')"
      ]
     },
     "execution_count": 102,
     "metadata": {},
     "output_type": "execute_result"
    }
   ],
   "source": [
    "subset.columns"
   ]
  },
  {
   "cell_type": "code",
   "execution_count": 103,
   "id": "52df69f0-7083-4551-b5f5-5dd88f30a69a",
   "metadata": {},
   "outputs": [
    {
     "data": {
      "text/html": [
       "<div>\n",
       "<style scoped>\n",
       "    .dataframe tbody tr th:only-of-type {\n",
       "        vertical-align: middle;\n",
       "    }\n",
       "\n",
       "    .dataframe tbody tr th {\n",
       "        vertical-align: top;\n",
       "    }\n",
       "\n",
       "    .dataframe thead th {\n",
       "        text-align: right;\n",
       "    }\n",
       "</style>\n",
       "<table border=\"1\" class=\"dataframe\">\n",
       "  <thead>\n",
       "    <tr style=\"text-align: right;\">\n",
       "      <th></th>\n",
       "      <th>Gtfs Dataset Name</th>\n",
       "      <th>Shape Array Key</th>\n",
       "      <th>Trip Id</th>\n",
       "      <th>Sorted Stop Seq</th>\n",
       "      <th>Gtfs Dataset Key</th>\n",
       "      <th>Loop Or Inlining</th>\n",
       "      <th>N Trips</th>\n",
       "      <th>Variable</th>\n",
       "      <th>Value</th>\n",
       "    </tr>\n",
       "  </thead>\n",
       "  <tbody>\n",
       "    <tr>\n",
       "      <th>996100</th>\n",
       "      <td>Anaheim Resort VehiclePositions</td>\n",
       "      <td>29d2bbdbeaec1d6888800f85bebf6e33</td>\n",
       "      <td>aa6a03fe-f119-44a5-8976-2ad77ceeb89f:2</td>\n",
       "      <td>9</td>\n",
       "      <td>1051e067d18a76b0a79789f051d5c22b</td>\n",
       "      <td>1</td>\n",
       "      <td>8</td>\n",
       "      <td>speed_mph</td>\n",
       "      <td>2.80</td>\n",
       "    </tr>\n",
       "  </tbody>\n",
       "</table>\n",
       "</div>"
      ],
      "text/plain": [
       "                      Gtfs Dataset Name                   Shape Array Key  \\\n",
       "996100  Anaheim Resort VehiclePositions  29d2bbdbeaec1d6888800f85bebf6e33   \n",
       "\n",
       "                                       Trip Id  Sorted Stop Seq  \\\n",
       "996100  aa6a03fe-f119-44a5-8976-2ad77ceeb89f:2                9   \n",
       "\n",
       "                        Gtfs Dataset Key  Loop Or Inlining  N Trips  \\\n",
       "996100  1051e067d18a76b0a79789f051d5c22b                 1        8   \n",
       "\n",
       "         Variable  Value  \n",
       "996100  speed_mph   2.80  "
      ]
     },
     "execution_count": 103,
     "metadata": {},
     "output_type": "execute_result"
    }
   ],
   "source": [
    "subset.sample()"
   ]
  },
  {
   "cell_type": "code",
   "execution_count": 104,
   "id": "4f0d0a5e-186e-4b7e-b307-6e6326c3e747",
   "metadata": {},
   "outputs": [],
   "source": [
    "subset['Route'] = subset['Gtfs Dataset Name'] +' '  + subset['Shape Array Key']"
   ]
  },
  {
   "cell_type": "code",
   "execution_count": 105,
   "id": "a8d96219-49d0-4251-9b4b-a6968542424d",
   "metadata": {},
   "outputs": [],
   "source": [
    "subset = subset.rename(columns = {'Value':'Speed'})"
   ]
  },
  {
   "cell_type": "code",
   "execution_count": 106,
   "id": "b1155355-b4f6-41c2-beb1-f839d9d46027",
   "metadata": {},
   "outputs": [],
   "source": [
    "subset['Speed_Int'] = subset.Speed.fillna(0).astype(int)"
   ]
  },
  {
   "cell_type": "code",
   "execution_count": 107,
   "id": "6f695b90-4157-42bd-b9cf-aaa4d71773ef",
   "metadata": {},
   "outputs": [],
   "source": [
    "subset['Route Type'] = \"Loop or Inlining: \" + subset[\"Loop Or Inlining\"].astype(str)"
   ]
  },
  {
   "cell_type": "code",
   "execution_count": 108,
   "id": "0834a228-c47d-4760-ae13-aca72784e747",
   "metadata": {},
   "outputs": [],
   "source": [
    "# subset['Rounded Speed'].unique()"
   ]
  },
  {
   "cell_type": "code",
   "execution_count": 109,
   "id": "67cb1df7-6337-478d-bd9c-3fbc0a3f698f",
   "metadata": {},
   "outputs": [],
   "source": [
    "def speed(row):\n",
    "    # If partner is none, return Unknown.\n",
    "    if row.Speed_Int == 0:\n",
    "        return 0\n",
    "    elif 0 < row.Speed_Int < 6:\n",
    "        return 5\n",
    "    elif 5 < row.Speed_Int < 11:\n",
    "        return 10\n",
    "    elif 10 < row.Speed_Int < 16:\n",
    "        return 15\n",
    "    elif 15 < row.Speed_Int < 21:\n",
    "        return 20\n",
    "    elif 20 < row.Speed_Int < 26:\n",
    "        return 25\n",
    "    elif 25 < row.Speed_Int < 31:\n",
    "        return 30\n",
    "    else:\n",
    "        return 35"
   ]
  },
  {
   "cell_type": "code",
   "execution_count": 110,
   "id": "de056258-240b-4aff-a3f9-aabe5330a9e0",
   "metadata": {},
   "outputs": [],
   "source": [
    "# Apply the function\n",
    "subset[\"Rounded Speed\"] = subset.apply(speed, axis=1)"
   ]
  },
  {
   "cell_type": "code",
   "execution_count": 111,
   "id": "afc90938-3fbd-4235-b6ab-68cfa445f0b6",
   "metadata": {
    "scrolled": true,
    "tags": []
   },
   "outputs": [],
   "source": [
    "# subset[['Rounded Speed', 'Speed', 'Speed_Int']]"
   ]
  },
  {
   "cell_type": "code",
   "execution_count": 112,
   "id": "9a39e842-70f6-4ff6-84b7-44b4dea48a40",
   "metadata": {},
   "outputs": [],
   "source": [
    "subset.Variable = subset.Variable.str.title().str.replace(\"_\",\" \")"
   ]
  },
  {
   "cell_type": "code",
   "execution_count": 113,
   "id": "a95e775c-4cff-44b6-a861-1a17efb5fbf2",
   "metadata": {},
   "outputs": [],
   "source": [
    "# One df for the actual speeds\n",
    "subset_speedmph = subset[subset.Variable == 'Speed Mph'].reset_index(drop = True)"
   ]
  },
  {
   "cell_type": "code",
   "execution_count": 114,
   "id": "447aec9f-1a4a-408c-bc16-22c67746c262",
   "metadata": {},
   "outputs": [],
   "source": [
    "# One df for the percentiles\n",
    "subset_other= subset[subset.Variable != 'Speed Mph'].reset_index(drop = True)"
   ]
  },
  {
   "cell_type": "code",
   "execution_count": 115,
   "id": "072f39d9-4bf9-4efc-a393-24f096cecf7e",
   "metadata": {},
   "outputs": [],
   "source": [
    "def alt_dropdown(df, col_for_dropdown:str, dropdown_menu_title:str):\n",
    "    # Create dropdown menu\n",
    "    # Exclude \"none\" operators which are only scheduled data\n",
    "    df = df.loc[df[col_for_dropdown] != \"None\"][[col_for_dropdown]]\n",
    "    dropdown_list = df[col_for_dropdown].unique().tolist()\n",
    "    \n",
    "    # Show only first operator by default\n",
    "    initialize_first_op = sorted(dropdown_list)[0]\n",
    "    input_dropdown = alt.binding_select(options=sorted(dropdown_list), name=dropdown_menu_title)\n",
    "    \n",
    "    selection = alt.selection_single(name= dropdown_menu_title,fields=[col_for_dropdown],\n",
    "    bind=input_dropdown, init={col_for_dropdown: initialize_first_op})\n",
    "                 \n",
    "    return selection"
   ]
  },
  {
   "cell_type": "code",
   "execution_count": 116,
   "id": "c2fd6ee4-c841-44fd-8659-0ee2bc8a926d",
   "metadata": {},
   "outputs": [],
   "source": [
    "selection_test = alt_dropdown(subset, \"Route\", \"Operator/Shape Array\")"
   ]
  },
  {
   "cell_type": "code",
   "execution_count": 117,
   "id": "aa0fad8b-b49e-48be-8070-adaf6e63d541",
   "metadata": {},
   "outputs": [],
   "source": [
    "# https://github.com/altair-viz/altair/issues/1168\n",
    "title = alt.Chart(subset).mark_text(dy=-40, size=15, fontWeight='normal').encode(\n",
    "    text='Route Type:N',\n",
    ")"
   ]
  },
  {
   "cell_type": "code",
   "execution_count": 118,
   "id": "27a02401-dc45-493b-baad-e4cb84b6db46",
   "metadata": {},
   "outputs": [],
   "source": [
    "title = title.add_selection(selection_test).transform_filter(selection_test)"
   ]
  },
  {
   "cell_type": "markdown",
   "id": "c4904d76-f74e-4fd5-84e1-cd3c4476d010",
   "metadata": {},
   "source": [
    "#### Scatterplot"
   ]
  },
  {
   "cell_type": "markdown",
   "id": "9c8ae725-71da-4c21-a575-969d14a0aa17",
   "metadata": {},
   "source": [
    "#### Jitter"
   ]
  },
  {
   "cell_type": "code",
   "execution_count": 119,
   "id": "e8c0fb00-e9a0-47c1-abc5-cea7a806a6df",
   "metadata": {},
   "outputs": [],
   "source": [
    "def create_jitter_plot(df):\n",
    "    \n",
    "    #title_op = df['Gtfs Dataset Name'].iloc[0].replace('VehiclePositions','').strip()\n",
    "    #inline = df['Loop Or Inlining'].iloc[0]\n",
    "    chart1 = (\n",
    "        alt.Chart(df, width=0.5)\n",
    "        .mark_circle(size=100)\n",
    "        .encode(\n",
    "            x=alt.X(\n",
    "                \"jitter:Q\",\n",
    "                title=None,\n",
    "                axis=alt.Axis(values=[0], ticks=False, grid=False, labels=False),\n",
    "                scale=alt.Scale(),\n",
    "            ),\n",
    "            y=alt.Y(\"Rounded Speed:Q\",\n",
    "                    scale=alt.Scale(domain=[0,50]),\n",
    "                    title = \"Speed (MPH)\",\n",
    "                    axis=alt.Axis(labelAngle=360, grid=False,)),\n",
    "            color=alt.Color(\n",
    "                \"Variable:N\",\n",
    "                scale=alt.Scale(range=cp.CALITP_CATEGORY_BRIGHT_COLORS),\n",
    "            ),\n",
    "            tooltip=df.columns.tolist(),\n",
    "            column=alt.Column(\n",
    "                \"Sorted Stop Seq:N\",\n",
    "                header=alt.Header(\n",
    "                    labelAngle=360,\n",
    "                    titleOrient=\"top\",\n",
    "                    labelOrient=\"top\",\n",
    "                    labelAlign=\"right\",\n",
    "                    labelPadding=2,\n",
    "                ),\n",
    "            ),\n",
    "        )\n",
    "        .transform_calculate(\n",
    "            # Generate Gaussian jitter with a Box-Muller transform\n",
    "            jitter=\"sqrt(-2*log(random()))*cos(2*PI*random())\"\n",
    "        )\n",
    "        .properties(title=\"Speeds by Operator-Shape Array\")\n",
    "    )\n",
    "    \n",
    "    chart1 = threshold_utils.chart_size(chart1, 75, 200)\n",
    "    \n",
    "    return chart1"
   ]
  },
  {
   "cell_type": "code",
   "execution_count": 120,
   "id": "19b97ca6-17c9-4540-acfe-9a4caf740ef4",
   "metadata": {},
   "outputs": [],
   "source": [
    "chart1 = create_jitter_plot(subset_speedmph).add_selection(selection_test).transform_filter(selection_test)"
   ]
  },
  {
   "cell_type": "code",
   "execution_count": 121,
   "id": "c13568df-5e19-4f0a-a9fe-c3edeb0a0073",
   "metadata": {},
   "outputs": [],
   "source": [
    "chart2 = (\n",
    "        alt.Chart(subset_other, width=0.5)\n",
    "        .mark_circle(size=200)\n",
    "        .encode(\n",
    "            x=alt.X(\n",
    "                \"jitter:Q\",\n",
    "                title=None,\n",
    "                axis=alt.Axis(values=[0], ticks=False, grid=False, labels=False),\n",
    "                scale=alt.Scale(),\n",
    "            ),\n",
    "            y=alt.Y(\"Rounded Speed:Q\", \n",
    "                    title = \"Speed (MPH)\",\n",
    "                    scale=alt.Scale(domain=[0, 50]),\n",
    "                   axis = alt.Axis(grid = False)),\n",
    "            color=alt.Color(\n",
    "                \"Variable:N\",\n",
    "                scale=alt.Scale(range=cp.CALITP_CATEGORY_BRIGHT_COLORS),\n",
    "            ),\n",
    "            tooltip=subset_other.columns.tolist(),\n",
    "            column=alt.Column(\n",
    "                \"Sorted Stop Seq:N\",\n",
    "                header=alt.Header(\n",
    "                    labelAngle=360,\n",
    "                    title = None,\n",
    "                    titleOrient=\"top\",\n",
    "                    labelOrient=\"top\",\n",
    "                    labelAlign=\"right\",\n",
    "                    labelPadding=2,\n",
    "                ),\n",
    "            ),\n",
    "        )\n",
    "        .transform_calculate(\n",
    "            # Generate Gaussian jitter with a Box-Muller transform\n",
    "            jitter=\"sqrt(-2*log(random()))*cos(2*PI*random())\"\n",
    "        )\n",
    "    )\n",
    "    "
   ]
  },
  {
   "cell_type": "code",
   "execution_count": 122,
   "id": "2a2bda8b-d48c-44f3-a928-08aca894c565",
   "metadata": {},
   "outputs": [],
   "source": [
    "chart2 = threshold_utils.chart_size(chart2, 75, 200)"
   ]
  },
  {
   "cell_type": "code",
   "execution_count": 123,
   "id": "dd20293d-7c43-42c4-b053-de945860b6f0",
   "metadata": {},
   "outputs": [],
   "source": [
    "chart2 = chart2.add_selection(selection_test).transform_filter(selection_test)"
   ]
  },
  {
   "cell_type": "code",
   "execution_count": 124,
   "id": "44dc6896-e95d-42df-bbd5-f2bb2c2a2cc6",
   "metadata": {},
   "outputs": [],
   "source": [
    "title = threshold_utils.chart_size(title, 20, 20)"
   ]
  },
  {
   "cell_type": "code",
   "execution_count": 125,
   "id": "d651c8c6-179c-4157-a671-11006cb419df",
   "metadata": {},
   "outputs": [
    {
     "data": {
      "text/plain": [
       "DataTransformerRegistry.enable('default')"
      ]
     },
     "execution_count": 125,
     "metadata": {},
     "output_type": "execute_result"
    }
   ],
   "source": [
    "alt.data_transformers.enable('default', max_rows=None)"
   ]
  },
  {
   "cell_type": "code",
   "execution_count": 131,
   "id": "8e753711-8506-4939-8d9d-22566a641988",
   "metadata": {},
   "outputs": [
    {
     "data": {
      "text/html": [
       "\n",
       "<div id=\"altair-viz-532efa1ce3ed4e5f9b38ccdb516e9922\"></div>\n",
       "<script type=\"text/javascript\">\n",
       "  var VEGA_DEBUG = (typeof VEGA_DEBUG == \"undefined\") ? {} : VEGA_DEBUG;\n",
       "  (function(spec, embedOpt){\n",
       "    let outputDiv = document.currentScript.previousElementSibling;\n",
       "    if (outputDiv.id !== \"altair-viz-532efa1ce3ed4e5f9b38ccdb516e9922\") {\n",
       "      outputDiv = document.getElementById(\"altair-viz-532efa1ce3ed4e5f9b38ccdb516e9922\");\n",
       "    }\n",
       "    const paths = {\n",
       "      \"vega\": \"https://cdn.jsdelivr.net/npm//vega@5?noext\",\n",
       "      \"vega-lib\": \"https://cdn.jsdelivr.net/npm//vega-lib?noext\",\n",
       "      \"vega-lite\": \"https://cdn.jsdelivr.net/npm//vega-lite@4.17.0?noext\",\n",
       "      \"vega-embed\": \"https://cdn.jsdelivr.net/npm//vega-embed@6?noext\",\n",
       "    };\n",
       "\n",
       "    function maybeLoadScript(lib, version) {\n",
       "      var key = `${lib.replace(\"-\", \"\")}_version`;\n",
       "      return (VEGA_DEBUG[key] == version) ?\n",
       "        Promise.resolve(paths[lib]) :\n",
       "        new Promise(function(resolve, reject) {\n",
       "          var s = document.createElement('script');\n",
       "          document.getElementsByTagName(\"head\")[0].appendChild(s);\n",
       "          s.async = true;\n",
       "          s.onload = () => {\n",
       "            VEGA_DEBUG[key] = version;\n",
       "            return resolve(paths[lib]);\n",
       "          };\n",
       "          s.onerror = () => reject(`Error loading script: ${paths[lib]}`);\n",
       "          s.src = paths[lib];\n",
       "        });\n",
       "    }\n",
       "\n",
       "    function showError(err) {\n",
       "      outputDiv.innerHTML = `<div class=\"error\" style=\"color:red;\">${err}</div>`;\n",
       "      throw err;\n",
       "    }\n",
       "\n",
       "    function displayChart(vegaEmbed) {\n",
       "      vegaEmbed(outputDiv, spec, embedOpt)\n",
       "        .catch(err => showError(`Javascript Error: ${err.message}<br>This usually means there's a typo in your chart specification. See the javascript console for the full traceback.`));\n",
       "    }\n",
       "\n",
       "    if(typeof define === \"function\" && define.amd) {\n",
       "      requirejs.config({paths});\n",
       "      require([\"vega-embed\"], displayChart, err => showError(`Error loading script: ${err.message}`));\n",
       "    } else {\n",
       "      maybeLoadScript(\"vega\", \"5\")\n",
       "        .then(() => maybeLoadScript(\"vega-lite\", \"4.17.0\"))\n",
       "        .then(() => maybeLoadScript(\"vega-embed\", \"6\"))\n",
       "        .catch(showError)\n",
       "        .then(() => displayChart(vegaEmbed));\n",
       "    }\n",
       "  })({\"config\": {\"view\": {\"continuousWidth\": 400, \"continuousHeight\": 300}}, \"vconcat\": [{\"data\": {\"name\": \"data-9a13c41a058319936f1a4e93afcd2282\"}, \"mark\": {\"type\": \"text\", \"dy\": -40, \"fontWeight\": \"normal\", \"size\": 15}, \"encoding\": {\"text\": {\"field\": \"Route Type\", \"type\": \"nominal\"}}, \"height\": 20, \"selection\": {\"Operator/Shape Array\": {\"type\": \"single\", \"fields\": [\"Route\"], \"bind\": {\"input\": \"select\", \"options\": [\"Anaheim Resort VehiclePositions 29d2bbdbeaec1d6888800f85bebf6e33\", \"Eastern Sierra Vehicle Positions 754c5b012195800c38dc58e72e4f482e\", \"Eastern Sierra Vehicle Positions e3c5ed2c6fa6cd5c5cd57d46aeb3cd8e\"], \"name\": \"Operator/Shape Array\"}, \"init\": {\"Route\": \"Anaheim Resort VehiclePositions 29d2bbdbeaec1d6888800f85bebf6e33\"}}}, \"transform\": [{\"filter\": {\"selection\": \"Operator/Shape Array\"}}], \"width\": 20}, {\"vconcat\": [{\"data\": {\"name\": \"data-f2ba87bbdbe86737950ad697e733cb9d\"}, \"mark\": {\"type\": \"circle\", \"size\": 100}, \"encoding\": {\"color\": {\"field\": \"Variable\", \"scale\": {\"range\": [\"#2EA8CE\", \"#EB9F3C\", \"#F4D837\", \"#51BF9D\", \"#8CBCCB\", \"#9487C0\"]}, \"type\": \"nominal\"}, \"column\": {\"field\": \"Sorted Stop Seq\", \"header\": {\"labelAlign\": \"right\", \"labelAngle\": 360, \"labelOrient\": \"top\", \"labelPadding\": 2, \"titleOrient\": \"top\"}, \"type\": \"nominal\"}, \"tooltip\": [{\"field\": \"Gtfs Dataset Name\", \"type\": \"nominal\"}, {\"field\": \"Shape Array Key\", \"type\": \"nominal\"}, {\"field\": \"Trip Id\", \"type\": \"nominal\"}, {\"field\": \"Sorted Stop Seq\", \"type\": \"quantitative\"}, {\"field\": \"Gtfs Dataset Key\", \"type\": \"nominal\"}, {\"field\": \"Loop Or Inlining\", \"type\": \"quantitative\"}, {\"field\": \"N Trips\", \"type\": \"quantitative\"}, {\"field\": \"Variable\", \"type\": \"nominal\"}, {\"field\": \"Speed\", \"type\": \"quantitative\"}, {\"field\": \"Route\", \"type\": \"nominal\"}, {\"field\": \"Speed_Int\", \"type\": \"quantitative\"}, {\"field\": \"Route Type\", \"type\": \"nominal\"}, {\"field\": \"Rounded Speed\", \"type\": \"quantitative\"}], \"x\": {\"axis\": {\"grid\": false, \"labels\": false, \"ticks\": false, \"values\": [0]}, \"field\": \"jitter\", \"scale\": {}, \"title\": null, \"type\": \"quantitative\"}, \"y\": {\"axis\": {\"grid\": false, \"labelAngle\": 360}, \"field\": \"Rounded Speed\", \"scale\": {\"domain\": [0, 50]}, \"title\": \"Speed (MPH)\", \"type\": \"quantitative\"}}, \"height\": 200, \"selection\": {\"Operator/Shape Array\": {\"type\": \"single\", \"fields\": [\"Route\"], \"bind\": {\"input\": \"select\", \"options\": [\"Anaheim Resort VehiclePositions 29d2bbdbeaec1d6888800f85bebf6e33\", \"Eastern Sierra Vehicle Positions 754c5b012195800c38dc58e72e4f482e\", \"Eastern Sierra Vehicle Positions e3c5ed2c6fa6cd5c5cd57d46aeb3cd8e\"], \"name\": \"Operator/Shape Array\"}, \"init\": {\"Route\": \"Anaheim Resort VehiclePositions 29d2bbdbeaec1d6888800f85bebf6e33\"}}, \"selector001\": {\"type\": \"interval\", \"bind\": \"scales\", \"encodings\": [\"x\", \"y\"]}}, \"title\": \"Speeds by Operator-Shape Array\", \"transform\": [{\"calculate\": \"sqrt(-2*log(random()))*cos(2*PI*random())\", \"as\": \"jitter\"}, {\"filter\": {\"selection\": \"Operator/Shape Array\"}}], \"width\": 75}, {\"data\": {\"name\": \"data-d174452b4bd77a63a4a1fb7b459c66c0\"}, \"mark\": {\"type\": \"circle\", \"size\": 200}, \"encoding\": {\"color\": {\"field\": \"Variable\", \"scale\": {\"range\": [\"#2EA8CE\", \"#EB9F3C\", \"#F4D837\", \"#51BF9D\", \"#8CBCCB\", \"#9487C0\"]}, \"type\": \"nominal\"}, \"column\": {\"field\": \"Sorted Stop Seq\", \"header\": {\"labelAlign\": \"right\", \"labelAngle\": 360, \"labelOrient\": \"top\", \"labelPadding\": 2, \"title\": null, \"titleOrient\": \"top\"}, \"type\": \"nominal\"}, \"tooltip\": [{\"field\": \"Gtfs Dataset Name\", \"type\": \"nominal\"}, {\"field\": \"Shape Array Key\", \"type\": \"nominal\"}, {\"field\": \"Trip Id\", \"type\": \"nominal\"}, {\"field\": \"Sorted Stop Seq\", \"type\": \"quantitative\"}, {\"field\": \"Gtfs Dataset Key\", \"type\": \"nominal\"}, {\"field\": \"Loop Or Inlining\", \"type\": \"quantitative\"}, {\"field\": \"N Trips\", \"type\": \"quantitative\"}, {\"field\": \"Variable\", \"type\": \"nominal\"}, {\"field\": \"Speed\", \"type\": \"quantitative\"}, {\"field\": \"Route\", \"type\": \"nominal\"}, {\"field\": \"Speed_Int\", \"type\": \"quantitative\"}, {\"field\": \"Route Type\", \"type\": \"nominal\"}, {\"field\": \"Rounded Speed\", \"type\": \"quantitative\"}], \"x\": {\"axis\": {\"grid\": false, \"labels\": false, \"ticks\": false, \"values\": [0]}, \"field\": \"jitter\", \"scale\": {}, \"title\": null, \"type\": \"quantitative\"}, \"y\": {\"axis\": {\"grid\": false}, \"field\": \"Rounded Speed\", \"scale\": {\"domain\": [0, 50]}, \"title\": \"Speed (MPH)\", \"type\": \"quantitative\"}}, \"height\": 200, \"selection\": {\"Operator/Shape Array\": {\"type\": \"single\", \"fields\": [\"Route\"], \"bind\": {\"input\": \"select\", \"options\": [\"Anaheim Resort VehiclePositions 29d2bbdbeaec1d6888800f85bebf6e33\", \"Eastern Sierra Vehicle Positions 754c5b012195800c38dc58e72e4f482e\", \"Eastern Sierra Vehicle Positions e3c5ed2c6fa6cd5c5cd57d46aeb3cd8e\"], \"name\": \"Operator/Shape Array\"}, \"init\": {\"Route\": \"Anaheim Resort VehiclePositions 29d2bbdbeaec1d6888800f85bebf6e33\"}}, \"selector002\": {\"type\": \"interval\", \"bind\": \"scales\", \"encodings\": [\"x\", \"y\"]}}, \"transform\": [{\"calculate\": \"sqrt(-2*log(random()))*cos(2*PI*random())\", \"as\": \"jitter\"}, {\"filter\": {\"selection\": \"Operator/Shape Array\"}}], \"width\": 75}]}], \"$schema\": \"https://vega.github.io/schema/vega-lite/v4.17.0.json\", \"datasets\": {\"data-9a13c41a058319936f1a4e93afcd2282\": [{\"Gtfs Dataset Name\": \"Anaheim Resort VehiclePositions\", \"Shape Array Key\": \"29d2bbdbeaec1d6888800f85bebf6e33\", \"Trip Id\": \"aa6a03fe-f119-44a5-8976-2ad77ceeb89f:1\", \"Sorted Stop Seq\": 1, \"Gtfs Dataset Key\": \"1051e067d18a76b0a79789f051d5c22b\", \"Loop Or Inlining\": 1, \"N Trips\": 8, \"Variable\": \"Avg Speed Mph\", \"Speed\": 0.0, \"Route\": \"Anaheim Resort VehiclePositions 29d2bbdbeaec1d6888800f85bebf6e33\", \"Speed_Int\": 0, \"Route Type\": \"Loop or Inlining: 1\", \"Rounded Speed\": 0}, {\"Gtfs Dataset Name\": \"Anaheim Resort VehiclePositions\", \"Shape Array Key\": \"29d2bbdbeaec1d6888800f85bebf6e33\", \"Trip Id\": \"aa6a03fe-f119-44a5-8976-2ad77ceeb89f:1\", \"Sorted Stop Seq\": 2, \"Gtfs Dataset Key\": \"1051e067d18a76b0a79789f051d5c22b\", \"Loop Or Inlining\": 1, \"N Trips\": 8, \"Variable\": \"Avg Speed Mph\", \"Speed\": 8.0, \"Route\": \"Anaheim Resort VehiclePositions 29d2bbdbeaec1d6888800f85bebf6e33\", \"Speed_Int\": 8, \"Route Type\": \"Loop or Inlining: 1\", \"Rounded Speed\": 10}, {\"Gtfs Dataset Name\": \"Anaheim Resort VehiclePositions\", \"Shape Array Key\": \"29d2bbdbeaec1d6888800f85bebf6e33\", \"Trip Id\": \"aa6a03fe-f119-44a5-8976-2ad77ceeb89f:1\", \"Sorted Stop Seq\": 3, \"Gtfs Dataset Key\": \"1051e067d18a76b0a79789f051d5c22b\", \"Loop Or Inlining\": 1, \"N Trips\": 8, \"Variable\": \"Avg Speed Mph\", \"Speed\": 4.2, \"Route\": \"Anaheim Resort VehiclePositions 29d2bbdbeaec1d6888800f85bebf6e33\", \"Speed_Int\": 4, \"Route Type\": \"Loop or Inlining: 1\", \"Rounded Speed\": 5}, {\"Gtfs Dataset Name\": \"Anaheim Resort VehiclePositions\", \"Shape Array Key\": \"29d2bbdbeaec1d6888800f85bebf6e33\", \"Trip Id\": \"aa6a03fe-f119-44a5-8976-2ad77ceeb89f:1\", \"Sorted Stop Seq\": 4, \"Gtfs Dataset Key\": \"1051e067d18a76b0a79789f051d5c22b\", \"Loop Or Inlining\": 1, \"N Trips\": 8, \"Variable\": \"Avg Speed Mph\", \"Speed\": 4.8, \"Route\": \"Anaheim Resort VehiclePositions 29d2bbdbeaec1d6888800f85bebf6e33\", \"Speed_Int\": 4, \"Route Type\": \"Loop or Inlining: 1\", \"Rounded Speed\": 5}, {\"Gtfs Dataset Name\": \"Anaheim Resort VehiclePositions\", \"Shape Array Key\": \"29d2bbdbeaec1d6888800f85bebf6e33\", \"Trip Id\": \"aa6a03fe-f119-44a5-8976-2ad77ceeb89f:1\", \"Sorted Stop Seq\": 5, \"Gtfs Dataset Key\": \"1051e067d18a76b0a79789f051d5c22b\", \"Loop Or Inlining\": 1, \"N Trips\": 8, \"Variable\": \"Avg Speed Mph\", \"Speed\": 0.6, \"Route\": \"Anaheim Resort VehiclePositions 29d2bbdbeaec1d6888800f85bebf6e33\", \"Speed_Int\": 0, \"Route Type\": \"Loop or Inlining: 1\", \"Rounded Speed\": 0}, {\"Gtfs Dataset Name\": \"Anaheim Resort VehiclePositions\", \"Shape Array Key\": \"29d2bbdbeaec1d6888800f85bebf6e33\", \"Trip Id\": \"aa6a03fe-f119-44a5-8976-2ad77ceeb89f:1\", \"Sorted Stop Seq\": 6, \"Gtfs Dataset Key\": \"1051e067d18a76b0a79789f051d5c22b\", \"Loop Or Inlining\": 1, \"N Trips\": 8, \"Variable\": \"Avg Speed Mph\", \"Speed\": 2.5, \"Route\": \"Anaheim Resort VehiclePositions 29d2bbdbeaec1d6888800f85bebf6e33\", \"Speed_Int\": 2, \"Route Type\": \"Loop or Inlining: 1\", \"Rounded Speed\": 5}, {\"Gtfs Dataset Name\": \"Anaheim Resort VehiclePositions\", \"Shape Array Key\": \"29d2bbdbeaec1d6888800f85bebf6e33\", \"Trip Id\": \"aa6a03fe-f119-44a5-8976-2ad77ceeb89f:1\", \"Sorted Stop Seq\": 7, \"Gtfs Dataset Key\": \"1051e067d18a76b0a79789f051d5c22b\", \"Loop Or Inlining\": 1, \"N Trips\": 8, \"Variable\": \"Avg Speed Mph\", \"Speed\": 3.8, \"Route\": \"Anaheim Resort VehiclePositions 29d2bbdbeaec1d6888800f85bebf6e33\", \"Speed_Int\": 3, \"Route Type\": \"Loop or Inlining: 1\", \"Rounded Speed\": 5}, {\"Gtfs Dataset Name\": \"Anaheim Resort VehiclePositions\", \"Shape Array Key\": \"29d2bbdbeaec1d6888800f85bebf6e33\", \"Trip Id\": \"aa6a03fe-f119-44a5-8976-2ad77ceeb89f:1\", \"Sorted Stop Seq\": 8, \"Gtfs Dataset Key\": \"1051e067d18a76b0a79789f051d5c22b\", \"Loop Or Inlining\": 1, \"N Trips\": 8, \"Variable\": \"Avg Speed Mph\", \"Speed\": 4.9, \"Route\": \"Anaheim Resort VehiclePositions 29d2bbdbeaec1d6888800f85bebf6e33\", \"Speed_Int\": 4, \"Route Type\": \"Loop or Inlining: 1\", \"Rounded Speed\": 5}, {\"Gtfs Dataset Name\": \"Anaheim Resort VehiclePositions\", \"Shape Array Key\": \"29d2bbdbeaec1d6888800f85bebf6e33\", \"Trip Id\": \"aa6a03fe-f119-44a5-8976-2ad77ceeb89f:1\", \"Sorted Stop Seq\": 9, \"Gtfs Dataset Key\": \"1051e067d18a76b0a79789f051d5c22b\", \"Loop Or Inlining\": 1, \"N Trips\": 8, \"Variable\": \"Avg Speed Mph\", \"Speed\": 5.0, \"Route\": \"Anaheim Resort VehiclePositions 29d2bbdbeaec1d6888800f85bebf6e33\", \"Speed_Int\": 5, \"Route Type\": \"Loop or Inlining: 1\", \"Rounded Speed\": 5}, {\"Gtfs Dataset Name\": \"Eastern Sierra Vehicle Positions\", \"Shape Array Key\": \"754c5b012195800c38dc58e72e4f482e\", \"Trip Id\": \"t_97725_b_2397_tn_11\", \"Sorted Stop Seq\": 1, \"Gtfs Dataset Key\": \"64b3bb0d6a6888b62be32aa789cc37ef\", \"Loop Or Inlining\": 0, \"N Trips\": 8, \"Variable\": \"Avg Speed Mph\", \"Speed\": 0.0, \"Route\": \"Eastern Sierra Vehicle Positions 754c5b012195800c38dc58e72e4f482e\", \"Speed_Int\": 0, \"Route Type\": \"Loop or Inlining: 0\", \"Rounded Speed\": 0}, {\"Gtfs Dataset Name\": \"Eastern Sierra Vehicle Positions\", \"Shape Array Key\": \"754c5b012195800c38dc58e72e4f482e\", \"Trip Id\": \"t_97725_b_2397_tn_11\", \"Sorted Stop Seq\": 2, \"Gtfs Dataset Key\": \"64b3bb0d6a6888b62be32aa789cc37ef\", \"Loop Or Inlining\": 0, \"N Trips\": 9, \"Variable\": \"Avg Speed Mph\", \"Speed\": 3.6, \"Route\": \"Eastern Sierra Vehicle Positions 754c5b012195800c38dc58e72e4f482e\", \"Speed_Int\": 3, \"Route Type\": \"Loop or Inlining: 0\", \"Rounded Speed\": 5}, {\"Gtfs Dataset Name\": \"Eastern Sierra Vehicle Positions\", \"Shape Array Key\": \"754c5b012195800c38dc58e72e4f482e\", \"Trip Id\": \"t_97725_b_2397_tn_13\", \"Sorted Stop Seq\": 3, \"Gtfs Dataset Key\": \"64b3bb0d6a6888b62be32aa789cc37ef\", \"Loop Or Inlining\": 0, \"N Trips\": 1, \"Variable\": \"Avg Speed Mph\", \"Speed\": 0.0, \"Route\": \"Eastern Sierra Vehicle Positions 754c5b012195800c38dc58e72e4f482e\", \"Speed_Int\": 0, \"Route Type\": \"Loop or Inlining: 0\", \"Rounded Speed\": 0}, {\"Gtfs Dataset Name\": \"Eastern Sierra Vehicle Positions\", \"Shape Array Key\": \"754c5b012195800c38dc58e72e4f482e\", \"Trip Id\": \"t_97725_b_2397_tn_9\", \"Sorted Stop Seq\": 1, \"Gtfs Dataset Key\": \"64b3bb0d6a6888b62be32aa789cc37ef\", \"Loop Or Inlining\": 0, \"N Trips\": 9, \"Variable\": \"Avg Speed Mph\", \"Speed\": 3.6, \"Route\": \"Eastern Sierra Vehicle Positions 754c5b012195800c38dc58e72e4f482e\", \"Speed_Int\": 3, \"Route Type\": \"Loop or Inlining: 0\", \"Rounded Speed\": 5}, {\"Gtfs Dataset Name\": \"Eastern Sierra Vehicle Positions\", \"Shape Array Key\": \"754c5b012195800c38dc58e72e4f482e\", \"Trip Id\": \"t_97725_b_2397_tn_9\", \"Sorted Stop Seq\": 2, \"Gtfs Dataset Key\": \"64b3bb0d6a6888b62be32aa789cc37ef\", \"Loop Or Inlining\": 0, \"N Trips\": 1, \"Variable\": \"Avg Speed Mph\", \"Speed\": 0.0, \"Route\": \"Eastern Sierra Vehicle Positions 754c5b012195800c38dc58e72e4f482e\", \"Speed_Int\": 0, \"Route Type\": \"Loop or Inlining: 0\", \"Rounded Speed\": 0}, {\"Gtfs Dataset Name\": \"Eastern Sierra Vehicle Positions\", \"Shape Array Key\": \"e3c5ed2c6fa6cd5c5cd57d46aeb3cd8e\", \"Trip Id\": \"t_195132_b_78389_tn_1\", \"Sorted Stop Seq\": 1, \"Gtfs Dataset Key\": \"64b3bb0d6a6888b62be32aa789cc37ef\", \"Loop Or Inlining\": 0, \"N Trips\": 1, \"Variable\": \"Avg Speed Mph\", \"Speed\": 34.6, \"Route\": \"Eastern Sierra Vehicle Positions e3c5ed2c6fa6cd5c5cd57d46aeb3cd8e\", \"Speed_Int\": 34, \"Route Type\": \"Loop or Inlining: 0\", \"Rounded Speed\": 35}, {\"Gtfs Dataset Name\": \"Eastern Sierra Vehicle Positions\", \"Shape Array Key\": \"e3c5ed2c6fa6cd5c5cd57d46aeb3cd8e\", \"Trip Id\": \"t_195132_b_78389_tn_1\", \"Sorted Stop Seq\": 2, \"Gtfs Dataset Key\": \"64b3bb0d6a6888b62be32aa789cc37ef\", \"Loop Or Inlining\": 0, \"N Trips\": 1, \"Variable\": \"Avg Speed Mph\", \"Speed\": 0.5, \"Route\": \"Eastern Sierra Vehicle Positions e3c5ed2c6fa6cd5c5cd57d46aeb3cd8e\", \"Speed_Int\": 0, \"Route Type\": \"Loop or Inlining: 0\", \"Rounded Speed\": 0}, {\"Gtfs Dataset Name\": \"Eastern Sierra Vehicle Positions\", \"Shape Array Key\": \"e3c5ed2c6fa6cd5c5cd57d46aeb3cd8e\", \"Trip Id\": \"t_195132_b_78389_tn_1\", \"Sorted Stop Seq\": 3, \"Gtfs Dataset Key\": \"64b3bb0d6a6888b62be32aa789cc37ef\", \"Loop Or Inlining\": 0, \"N Trips\": 1, \"Variable\": \"Avg Speed Mph\", \"Speed\": 0.5, \"Route\": \"Eastern Sierra Vehicle Positions e3c5ed2c6fa6cd5c5cd57d46aeb3cd8e\", \"Speed_Int\": 0, \"Route Type\": \"Loop or Inlining: 0\", \"Rounded Speed\": 0}, {\"Gtfs Dataset Name\": \"Eastern Sierra Vehicle Positions\", \"Shape Array Key\": \"e3c5ed2c6fa6cd5c5cd57d46aeb3cd8e\", \"Trip Id\": \"t_195132_b_78389_tn_1\", \"Sorted Stop Seq\": 4, \"Gtfs Dataset Key\": \"64b3bb0d6a6888b62be32aa789cc37ef\", \"Loop Or Inlining\": 0, \"N Trips\": 1, \"Variable\": \"Avg Speed Mph\", \"Speed\": 11.8, \"Route\": \"Eastern Sierra Vehicle Positions e3c5ed2c6fa6cd5c5cd57d46aeb3cd8e\", \"Speed_Int\": 11, \"Route Type\": \"Loop or Inlining: 0\", \"Rounded Speed\": 15}, {\"Gtfs Dataset Name\": \"Anaheim Resort VehiclePositions\", \"Shape Array Key\": \"29d2bbdbeaec1d6888800f85bebf6e33\", \"Trip Id\": \"aa6a03fe-f119-44a5-8976-2ad77ceeb89f:1\", \"Sorted Stop Seq\": 1, \"Gtfs Dataset Key\": \"1051e067d18a76b0a79789f051d5c22b\", \"Loop Or Inlining\": 1, \"N Trips\": 8, \"Variable\": \"Speed Mph\", \"Speed\": 0.0, \"Route\": \"Anaheim Resort VehiclePositions 29d2bbdbeaec1d6888800f85bebf6e33\", \"Speed_Int\": 0, \"Route Type\": \"Loop or Inlining: 1\", \"Rounded Speed\": 0}, {\"Gtfs Dataset Name\": \"Anaheim Resort VehiclePositions\", \"Shape Array Key\": \"29d2bbdbeaec1d6888800f85bebf6e33\", \"Trip Id\": \"aa6a03fe-f119-44a5-8976-2ad77ceeb89f:1\", \"Sorted Stop Seq\": 2, \"Gtfs Dataset Key\": \"1051e067d18a76b0a79789f051d5c22b\", \"Loop Or Inlining\": 1, \"N Trips\": 8, \"Variable\": \"Speed Mph\", \"Speed\": 1.5, \"Route\": \"Anaheim Resort VehiclePositions 29d2bbdbeaec1d6888800f85bebf6e33\", \"Speed_Int\": 1, \"Route Type\": \"Loop or Inlining: 1\", \"Rounded Speed\": 5}, {\"Gtfs Dataset Name\": \"Anaheim Resort VehiclePositions\", \"Shape Array Key\": \"29d2bbdbeaec1d6888800f85bebf6e33\", \"Trip Id\": \"aa6a03fe-f119-44a5-8976-2ad77ceeb89f:1\", \"Sorted Stop Seq\": 3, \"Gtfs Dataset Key\": \"1051e067d18a76b0a79789f051d5c22b\", \"Loop Or Inlining\": 1, \"N Trips\": 8, \"Variable\": \"Speed Mph\", \"Speed\": 3.8, \"Route\": \"Anaheim Resort VehiclePositions 29d2bbdbeaec1d6888800f85bebf6e33\", \"Speed_Int\": 3, \"Route Type\": \"Loop or Inlining: 1\", \"Rounded Speed\": 5}, {\"Gtfs Dataset Name\": \"Anaheim Resort VehiclePositions\", \"Shape Array Key\": \"29d2bbdbeaec1d6888800f85bebf6e33\", \"Trip Id\": \"aa6a03fe-f119-44a5-8976-2ad77ceeb89f:1\", \"Sorted Stop Seq\": 4, \"Gtfs Dataset Key\": \"1051e067d18a76b0a79789f051d5c22b\", \"Loop Or Inlining\": 1, \"N Trips\": 8, \"Variable\": \"Speed Mph\", \"Speed\": 8.9, \"Route\": \"Anaheim Resort VehiclePositions 29d2bbdbeaec1d6888800f85bebf6e33\", \"Speed_Int\": 8, \"Route Type\": \"Loop or Inlining: 1\", \"Rounded Speed\": 10}, {\"Gtfs Dataset Name\": \"Anaheim Resort VehiclePositions\", \"Shape Array Key\": \"29d2bbdbeaec1d6888800f85bebf6e33\", \"Trip Id\": \"aa6a03fe-f119-44a5-8976-2ad77ceeb89f:1\", \"Sorted Stop Seq\": 5, \"Gtfs Dataset Key\": \"1051e067d18a76b0a79789f051d5c22b\", \"Loop Or Inlining\": 1, \"N Trips\": 8, \"Variable\": \"Speed Mph\", \"Speed\": 0.4, \"Route\": \"Anaheim Resort VehiclePositions 29d2bbdbeaec1d6888800f85bebf6e33\", \"Speed_Int\": 0, \"Route Type\": \"Loop or Inlining: 1\", \"Rounded Speed\": 0}, {\"Gtfs Dataset Name\": \"Anaheim Resort VehiclePositions\", \"Shape Array Key\": \"29d2bbdbeaec1d6888800f85bebf6e33\", \"Trip Id\": \"aa6a03fe-f119-44a5-8976-2ad77ceeb89f:1\", \"Sorted Stop Seq\": 6, \"Gtfs Dataset Key\": \"1051e067d18a76b0a79789f051d5c22b\", \"Loop Or Inlining\": 1, \"N Trips\": 8, \"Variable\": \"Speed Mph\", \"Speed\": 3.2, \"Route\": \"Anaheim Resort VehiclePositions 29d2bbdbeaec1d6888800f85bebf6e33\", \"Speed_Int\": 3, \"Route Type\": \"Loop or Inlining: 1\", \"Rounded Speed\": 5}, {\"Gtfs Dataset Name\": \"Anaheim Resort VehiclePositions\", \"Shape Array Key\": \"29d2bbdbeaec1d6888800f85bebf6e33\", \"Trip Id\": \"aa6a03fe-f119-44a5-8976-2ad77ceeb89f:1\", \"Sorted Stop Seq\": 7, \"Gtfs Dataset Key\": \"1051e067d18a76b0a79789f051d5c22b\", \"Loop Or Inlining\": 1, \"N Trips\": 8, \"Variable\": \"Speed Mph\", \"Speed\": 5.7, \"Route\": \"Anaheim Resort VehiclePositions 29d2bbdbeaec1d6888800f85bebf6e33\", \"Speed_Int\": 5, \"Route Type\": \"Loop or Inlining: 1\", \"Rounded Speed\": 5}, {\"Gtfs Dataset Name\": \"Anaheim Resort VehiclePositions\", \"Shape Array Key\": \"29d2bbdbeaec1d6888800f85bebf6e33\", \"Trip Id\": \"aa6a03fe-f119-44a5-8976-2ad77ceeb89f:1\", \"Sorted Stop Seq\": 8, \"Gtfs Dataset Key\": \"1051e067d18a76b0a79789f051d5c22b\", \"Loop Or Inlining\": 1, \"N Trips\": 8, \"Variable\": \"Speed Mph\", \"Speed\": 7.2, \"Route\": \"Anaheim Resort VehiclePositions 29d2bbdbeaec1d6888800f85bebf6e33\", \"Speed_Int\": 7, \"Route Type\": \"Loop or Inlining: 1\", \"Rounded Speed\": 10}, {\"Gtfs Dataset Name\": \"Anaheim Resort VehiclePositions\", \"Shape Array Key\": \"29d2bbdbeaec1d6888800f85bebf6e33\", \"Trip Id\": \"aa6a03fe-f119-44a5-8976-2ad77ceeb89f:1\", \"Sorted Stop Seq\": 9, \"Gtfs Dataset Key\": \"1051e067d18a76b0a79789f051d5c22b\", \"Loop Or Inlining\": 1, \"N Trips\": 8, \"Variable\": \"Speed Mph\", \"Speed\": 7.0, \"Route\": \"Anaheim Resort VehiclePositions 29d2bbdbeaec1d6888800f85bebf6e33\", \"Speed_Int\": 7, \"Route Type\": \"Loop or Inlining: 1\", \"Rounded Speed\": 10}, {\"Gtfs Dataset Name\": \"Anaheim Resort VehiclePositions\", \"Shape Array Key\": \"29d2bbdbeaec1d6888800f85bebf6e33\", \"Trip Id\": \"aa6a03fe-f119-44a5-8976-2ad77ceeb89f:2\", \"Sorted Stop Seq\": 1, \"Gtfs Dataset Key\": \"1051e067d18a76b0a79789f051d5c22b\", \"Loop Or Inlining\": 1, \"N Trips\": 8, \"Variable\": \"Speed Mph\", \"Speed\": 0.0, \"Route\": \"Anaheim Resort VehiclePositions 29d2bbdbeaec1d6888800f85bebf6e33\", \"Speed_Int\": 0, \"Route Type\": \"Loop or Inlining: 1\", \"Rounded Speed\": 0}, {\"Gtfs Dataset Name\": \"Anaheim Resort VehiclePositions\", \"Shape Array Key\": \"29d2bbdbeaec1d6888800f85bebf6e33\", \"Trip Id\": \"aa6a03fe-f119-44a5-8976-2ad77ceeb89f:2\", \"Sorted Stop Seq\": 2, \"Gtfs Dataset Key\": \"1051e067d18a76b0a79789f051d5c22b\", \"Loop Or Inlining\": 1, \"N Trips\": 8, \"Variable\": \"Speed Mph\", \"Speed\": 12.1, \"Route\": \"Anaheim Resort VehiclePositions 29d2bbdbeaec1d6888800f85bebf6e33\", \"Speed_Int\": 12, \"Route Type\": \"Loop or Inlining: 1\", \"Rounded Speed\": 15}, {\"Gtfs Dataset Name\": \"Anaheim Resort VehiclePositions\", \"Shape Array Key\": \"29d2bbdbeaec1d6888800f85bebf6e33\", \"Trip Id\": \"aa6a03fe-f119-44a5-8976-2ad77ceeb89f:2\", \"Sorted Stop Seq\": 3, \"Gtfs Dataset Key\": \"1051e067d18a76b0a79789f051d5c22b\", \"Loop Or Inlining\": 1, \"N Trips\": 8, \"Variable\": \"Speed Mph\", \"Speed\": 3.5, \"Route\": \"Anaheim Resort VehiclePositions 29d2bbdbeaec1d6888800f85bebf6e33\", \"Speed_Int\": 3, \"Route Type\": \"Loop or Inlining: 1\", \"Rounded Speed\": 5}, {\"Gtfs Dataset Name\": \"Anaheim Resort VehiclePositions\", \"Shape Array Key\": \"29d2bbdbeaec1d6888800f85bebf6e33\", \"Trip Id\": \"aa6a03fe-f119-44a5-8976-2ad77ceeb89f:2\", \"Sorted Stop Seq\": 4, \"Gtfs Dataset Key\": \"1051e067d18a76b0a79789f051d5c22b\", \"Loop Or Inlining\": 1, \"N Trips\": 8, \"Variable\": \"Speed Mph\", \"Speed\": 4.7, \"Route\": \"Anaheim Resort VehiclePositions 29d2bbdbeaec1d6888800f85bebf6e33\", \"Speed_Int\": 4, \"Route Type\": \"Loop or Inlining: 1\", \"Rounded Speed\": 5}, {\"Gtfs Dataset Name\": \"Anaheim Resort VehiclePositions\", \"Shape Array Key\": \"29d2bbdbeaec1d6888800f85bebf6e33\", \"Trip Id\": \"aa6a03fe-f119-44a5-8976-2ad77ceeb89f:2\", \"Sorted Stop Seq\": 5, \"Gtfs Dataset Key\": \"1051e067d18a76b0a79789f051d5c22b\", \"Loop Or Inlining\": 1, \"N Trips\": 8, \"Variable\": \"Speed Mph\", \"Speed\": 0.9, \"Route\": \"Anaheim Resort VehiclePositions 29d2bbdbeaec1d6888800f85bebf6e33\", \"Speed_Int\": 0, \"Route Type\": \"Loop or Inlining: 1\", \"Rounded Speed\": 0}, {\"Gtfs Dataset Name\": \"Anaheim Resort VehiclePositions\", \"Shape Array Key\": \"29d2bbdbeaec1d6888800f85bebf6e33\", \"Trip Id\": \"aa6a03fe-f119-44a5-8976-2ad77ceeb89f:2\", \"Sorted Stop Seq\": 6, \"Gtfs Dataset Key\": \"1051e067d18a76b0a79789f051d5c22b\", \"Loop Or Inlining\": 1, \"N Trips\": 8, \"Variable\": \"Speed Mph\", \"Speed\": 0.1, \"Route\": \"Anaheim Resort VehiclePositions 29d2bbdbeaec1d6888800f85bebf6e33\", \"Speed_Int\": 0, \"Route Type\": \"Loop or Inlining: 1\", \"Rounded Speed\": 0}, {\"Gtfs Dataset Name\": \"Anaheim Resort VehiclePositions\", \"Shape Array Key\": \"29d2bbdbeaec1d6888800f85bebf6e33\", \"Trip Id\": \"aa6a03fe-f119-44a5-8976-2ad77ceeb89f:2\", \"Sorted Stop Seq\": 7, \"Gtfs Dataset Key\": \"1051e067d18a76b0a79789f051d5c22b\", \"Loop Or Inlining\": 1, \"N Trips\": 8, \"Variable\": \"Speed Mph\", \"Speed\": 4.2, \"Route\": \"Anaheim Resort VehiclePositions 29d2bbdbeaec1d6888800f85bebf6e33\", \"Speed_Int\": 4, \"Route Type\": \"Loop or Inlining: 1\", \"Rounded Speed\": 5}, {\"Gtfs Dataset Name\": \"Anaheim Resort VehiclePositions\", \"Shape Array Key\": \"29d2bbdbeaec1d6888800f85bebf6e33\", \"Trip Id\": \"aa6a03fe-f119-44a5-8976-2ad77ceeb89f:2\", \"Sorted Stop Seq\": 8, \"Gtfs Dataset Key\": \"1051e067d18a76b0a79789f051d5c22b\", \"Loop Or Inlining\": 1, \"N Trips\": 8, \"Variable\": \"Speed Mph\", \"Speed\": 4.0, \"Route\": \"Anaheim Resort VehiclePositions 29d2bbdbeaec1d6888800f85bebf6e33\", \"Speed_Int\": 4, \"Route Type\": \"Loop or Inlining: 1\", \"Rounded Speed\": 5}, {\"Gtfs Dataset Name\": \"Anaheim Resort VehiclePositions\", \"Shape Array Key\": \"29d2bbdbeaec1d6888800f85bebf6e33\", \"Trip Id\": \"aa6a03fe-f119-44a5-8976-2ad77ceeb89f:2\", \"Sorted Stop Seq\": 9, \"Gtfs Dataset Key\": \"1051e067d18a76b0a79789f051d5c22b\", \"Loop Or Inlining\": 1, \"N Trips\": 8, \"Variable\": \"Speed Mph\", \"Speed\": 2.8, \"Route\": \"Anaheim Resort VehiclePositions 29d2bbdbeaec1d6888800f85bebf6e33\", \"Speed_Int\": 2, \"Route Type\": \"Loop or Inlining: 1\", \"Rounded Speed\": 5}, {\"Gtfs Dataset Name\": \"Anaheim Resort VehiclePositions\", \"Shape Array Key\": \"29d2bbdbeaec1d6888800f85bebf6e33\", \"Trip Id\": \"aa6a03fe-f119-44a5-8976-2ad77ceeb89f:3\", \"Sorted Stop Seq\": 1, \"Gtfs Dataset Key\": \"1051e067d18a76b0a79789f051d5c22b\", \"Loop Or Inlining\": 1, \"N Trips\": 8, \"Variable\": \"Speed Mph\", \"Speed\": 0.0, \"Route\": \"Anaheim Resort VehiclePositions 29d2bbdbeaec1d6888800f85bebf6e33\", \"Speed_Int\": 0, \"Route Type\": \"Loop or Inlining: 1\", \"Rounded Speed\": 0}, {\"Gtfs Dataset Name\": \"Anaheim Resort VehiclePositions\", \"Shape Array Key\": \"29d2bbdbeaec1d6888800f85bebf6e33\", \"Trip Id\": \"aa6a03fe-f119-44a5-8976-2ad77ceeb89f:3\", \"Sorted Stop Seq\": 2, \"Gtfs Dataset Key\": \"1051e067d18a76b0a79789f051d5c22b\", \"Loop Or Inlining\": 1, \"N Trips\": 8, \"Variable\": \"Speed Mph\", \"Speed\": 6.7, \"Route\": \"Anaheim Resort VehiclePositions 29d2bbdbeaec1d6888800f85bebf6e33\", \"Speed_Int\": 6, \"Route Type\": \"Loop or Inlining: 1\", \"Rounded Speed\": 10}, {\"Gtfs Dataset Name\": \"Anaheim Resort VehiclePositions\", \"Shape Array Key\": \"29d2bbdbeaec1d6888800f85bebf6e33\", \"Trip Id\": \"aa6a03fe-f119-44a5-8976-2ad77ceeb89f:3\", \"Sorted Stop Seq\": 3, \"Gtfs Dataset Key\": \"1051e067d18a76b0a79789f051d5c22b\", \"Loop Or Inlining\": 1, \"N Trips\": 8, \"Variable\": \"Speed Mph\", \"Speed\": 5.2, \"Route\": \"Anaheim Resort VehiclePositions 29d2bbdbeaec1d6888800f85bebf6e33\", \"Speed_Int\": 5, \"Route Type\": \"Loop or Inlining: 1\", \"Rounded Speed\": 5}, {\"Gtfs Dataset Name\": \"Anaheim Resort VehiclePositions\", \"Shape Array Key\": \"29d2bbdbeaec1d6888800f85bebf6e33\", \"Trip Id\": \"aa6a03fe-f119-44a5-8976-2ad77ceeb89f:3\", \"Sorted Stop Seq\": 4, \"Gtfs Dataset Key\": \"1051e067d18a76b0a79789f051d5c22b\", \"Loop Or Inlining\": 1, \"N Trips\": 8, \"Variable\": \"Speed Mph\", \"Speed\": 5.5, \"Route\": \"Anaheim Resort VehiclePositions 29d2bbdbeaec1d6888800f85bebf6e33\", \"Speed_Int\": 5, \"Route Type\": \"Loop or Inlining: 1\", \"Rounded Speed\": 5}, {\"Gtfs Dataset Name\": \"Anaheim Resort VehiclePositions\", \"Shape Array Key\": \"29d2bbdbeaec1d6888800f85bebf6e33\", \"Trip Id\": \"aa6a03fe-f119-44a5-8976-2ad77ceeb89f:3\", \"Sorted Stop Seq\": 5, \"Gtfs Dataset Key\": \"1051e067d18a76b0a79789f051d5c22b\", \"Loop Or Inlining\": 1, \"N Trips\": 8, \"Variable\": \"Speed Mph\", \"Speed\": 0.6, \"Route\": \"Anaheim Resort VehiclePositions 29d2bbdbeaec1d6888800f85bebf6e33\", \"Speed_Int\": 0, \"Route Type\": \"Loop or Inlining: 1\", \"Rounded Speed\": 0}, {\"Gtfs Dataset Name\": \"Anaheim Resort VehiclePositions\", \"Shape Array Key\": \"29d2bbdbeaec1d6888800f85bebf6e33\", \"Trip Id\": \"aa6a03fe-f119-44a5-8976-2ad77ceeb89f:3\", \"Sorted Stop Seq\": 6, \"Gtfs Dataset Key\": \"1051e067d18a76b0a79789f051d5c22b\", \"Loop Or Inlining\": 1, \"N Trips\": 8, \"Variable\": \"Speed Mph\", \"Speed\": 5.2, \"Route\": \"Anaheim Resort VehiclePositions 29d2bbdbeaec1d6888800f85bebf6e33\", \"Speed_Int\": 5, \"Route Type\": \"Loop or Inlining: 1\", \"Rounded Speed\": 5}, {\"Gtfs Dataset Name\": \"Anaheim Resort VehiclePositions\", \"Shape Array Key\": \"29d2bbdbeaec1d6888800f85bebf6e33\", \"Trip Id\": \"aa6a03fe-f119-44a5-8976-2ad77ceeb89f:3\", \"Sorted Stop Seq\": 7, \"Gtfs Dataset Key\": \"1051e067d18a76b0a79789f051d5c22b\", \"Loop Or Inlining\": 1, \"N Trips\": 8, \"Variable\": \"Speed Mph\", \"Speed\": 2.7, \"Route\": \"Anaheim Resort VehiclePositions 29d2bbdbeaec1d6888800f85bebf6e33\", \"Speed_Int\": 2, \"Route Type\": \"Loop or Inlining: 1\", \"Rounded Speed\": 5}, {\"Gtfs Dataset Name\": \"Anaheim Resort VehiclePositions\", \"Shape Array Key\": \"29d2bbdbeaec1d6888800f85bebf6e33\", \"Trip Id\": \"aa6a03fe-f119-44a5-8976-2ad77ceeb89f:3\", \"Sorted Stop Seq\": 8, \"Gtfs Dataset Key\": \"1051e067d18a76b0a79789f051d5c22b\", \"Loop Or Inlining\": 1, \"N Trips\": 8, \"Variable\": \"Speed Mph\", \"Speed\": 4.6, \"Route\": \"Anaheim Resort VehiclePositions 29d2bbdbeaec1d6888800f85bebf6e33\", \"Speed_Int\": 4, \"Route Type\": \"Loop or Inlining: 1\", \"Rounded Speed\": 5}, {\"Gtfs Dataset Name\": \"Anaheim Resort VehiclePositions\", \"Shape Array Key\": \"29d2bbdbeaec1d6888800f85bebf6e33\", \"Trip Id\": \"aa6a03fe-f119-44a5-8976-2ad77ceeb89f:3\", \"Sorted Stop Seq\": 9, \"Gtfs Dataset Key\": \"1051e067d18a76b0a79789f051d5c22b\", \"Loop Or Inlining\": 1, \"N Trips\": 8, \"Variable\": \"Speed Mph\", \"Speed\": 5.1, \"Route\": \"Anaheim Resort VehiclePositions 29d2bbdbeaec1d6888800f85bebf6e33\", \"Speed_Int\": 5, \"Route Type\": \"Loop or Inlining: 1\", \"Rounded Speed\": 5}, {\"Gtfs Dataset Name\": \"Anaheim Resort VehiclePositions\", \"Shape Array Key\": \"29d2bbdbeaec1d6888800f85bebf6e33\", \"Trip Id\": \"aa6a03fe-f119-44a5-8976-2ad77ceeb89f:4\", \"Sorted Stop Seq\": 2, \"Gtfs Dataset Key\": \"1051e067d18a76b0a79789f051d5c22b\", \"Loop Or Inlining\": 1, \"N Trips\": 8, \"Variable\": \"Speed Mph\", \"Speed\": 9.1, \"Route\": \"Anaheim Resort VehiclePositions 29d2bbdbeaec1d6888800f85bebf6e33\", \"Speed_Int\": 9, \"Route Type\": \"Loop or Inlining: 1\", \"Rounded Speed\": 10}, {\"Gtfs Dataset Name\": \"Anaheim Resort VehiclePositions\", \"Shape Array Key\": \"29d2bbdbeaec1d6888800f85bebf6e33\", \"Trip Id\": \"aa6a03fe-f119-44a5-8976-2ad77ceeb89f:4\", \"Sorted Stop Seq\": 3, \"Gtfs Dataset Key\": \"1051e067d18a76b0a79789f051d5c22b\", \"Loop Or Inlining\": 1, \"N Trips\": 8, \"Variable\": \"Speed Mph\", \"Speed\": 4.0, \"Route\": \"Anaheim Resort VehiclePositions 29d2bbdbeaec1d6888800f85bebf6e33\", \"Speed_Int\": 4, \"Route Type\": \"Loop or Inlining: 1\", \"Rounded Speed\": 5}, {\"Gtfs Dataset Name\": \"Anaheim Resort VehiclePositions\", \"Shape Array Key\": \"29d2bbdbeaec1d6888800f85bebf6e33\", \"Trip Id\": \"aa6a03fe-f119-44a5-8976-2ad77ceeb89f:4\", \"Sorted Stop Seq\": 4, \"Gtfs Dataset Key\": \"1051e067d18a76b0a79789f051d5c22b\", \"Loop Or Inlining\": 1, \"N Trips\": 8, \"Variable\": \"Speed Mph\", \"Speed\": 1.9, \"Route\": \"Anaheim Resort VehiclePositions 29d2bbdbeaec1d6888800f85bebf6e33\", \"Speed_Int\": 1, \"Route Type\": \"Loop or Inlining: 1\", \"Rounded Speed\": 5}, {\"Gtfs Dataset Name\": \"Anaheim Resort VehiclePositions\", \"Shape Array Key\": \"29d2bbdbeaec1d6888800f85bebf6e33\", \"Trip Id\": \"aa6a03fe-f119-44a5-8976-2ad77ceeb89f:4\", \"Sorted Stop Seq\": 5, \"Gtfs Dataset Key\": \"1051e067d18a76b0a79789f051d5c22b\", \"Loop Or Inlining\": 1, \"N Trips\": 8, \"Variable\": \"Speed Mph\", \"Speed\": 0.7, \"Route\": \"Anaheim Resort VehiclePositions 29d2bbdbeaec1d6888800f85bebf6e33\", \"Speed_Int\": 0, \"Route Type\": \"Loop or Inlining: 1\", \"Rounded Speed\": 0}, {\"Gtfs Dataset Name\": \"Anaheim Resort VehiclePositions\", \"Shape Array Key\": \"29d2bbdbeaec1d6888800f85bebf6e33\", \"Trip Id\": \"aa6a03fe-f119-44a5-8976-2ad77ceeb89f:4\", \"Sorted Stop Seq\": 6, \"Gtfs Dataset Key\": \"1051e067d18a76b0a79789f051d5c22b\", \"Loop Or Inlining\": 1, \"N Trips\": 8, \"Variable\": \"Speed Mph\", \"Speed\": 0.0, \"Route\": \"Anaheim Resort VehiclePositions 29d2bbdbeaec1d6888800f85bebf6e33\", \"Speed_Int\": 0, \"Route Type\": \"Loop or Inlining: 1\", \"Rounded Speed\": 0}, {\"Gtfs Dataset Name\": \"Anaheim Resort VehiclePositions\", \"Shape Array Key\": \"29d2bbdbeaec1d6888800f85bebf6e33\", \"Trip Id\": \"aa6a03fe-f119-44a5-8976-2ad77ceeb89f:4\", \"Sorted Stop Seq\": 7, \"Gtfs Dataset Key\": \"1051e067d18a76b0a79789f051d5c22b\", \"Loop Or Inlining\": 1, \"N Trips\": 8, \"Variable\": \"Speed Mph\", \"Speed\": 3.7, \"Route\": \"Anaheim Resort VehiclePositions 29d2bbdbeaec1d6888800f85bebf6e33\", \"Speed_Int\": 3, \"Route Type\": \"Loop or Inlining: 1\", \"Rounded Speed\": 5}, {\"Gtfs Dataset Name\": \"Anaheim Resort VehiclePositions\", \"Shape Array Key\": \"29d2bbdbeaec1d6888800f85bebf6e33\", \"Trip Id\": \"aa6a03fe-f119-44a5-8976-2ad77ceeb89f:4\", \"Sorted Stop Seq\": 8, \"Gtfs Dataset Key\": \"1051e067d18a76b0a79789f051d5c22b\", \"Loop Or Inlining\": 1, \"N Trips\": 8, \"Variable\": \"Speed Mph\", \"Speed\": 7.5, \"Route\": \"Anaheim Resort VehiclePositions 29d2bbdbeaec1d6888800f85bebf6e33\", \"Speed_Int\": 7, \"Route Type\": \"Loop or Inlining: 1\", \"Rounded Speed\": 10}, {\"Gtfs Dataset Name\": \"Anaheim Resort VehiclePositions\", \"Shape Array Key\": \"29d2bbdbeaec1d6888800f85bebf6e33\", \"Trip Id\": \"aa6a03fe-f119-44a5-8976-2ad77ceeb89f:4\", \"Sorted Stop Seq\": 9, \"Gtfs Dataset Key\": \"1051e067d18a76b0a79789f051d5c22b\", \"Loop Or Inlining\": 1, \"N Trips\": 8, \"Variable\": \"Speed Mph\", \"Speed\": 3.2, \"Route\": \"Anaheim Resort VehiclePositions 29d2bbdbeaec1d6888800f85bebf6e33\", \"Speed_Int\": 3, \"Route Type\": \"Loop or Inlining: 1\", \"Rounded Speed\": 5}, {\"Gtfs Dataset Name\": \"Anaheim Resort VehiclePositions\", \"Shape Array Key\": \"29d2bbdbeaec1d6888800f85bebf6e33\", \"Trip Id\": \"aa6a03fe-f119-44a5-8976-2ad77ceeb89f:5\", \"Sorted Stop Seq\": 2, \"Gtfs Dataset Key\": \"1051e067d18a76b0a79789f051d5c22b\", \"Loop Or Inlining\": 1, \"N Trips\": 8, \"Variable\": \"Speed Mph\", \"Speed\": 12.2, \"Route\": \"Anaheim Resort VehiclePositions 29d2bbdbeaec1d6888800f85bebf6e33\", \"Speed_Int\": 12, \"Route Type\": \"Loop or Inlining: 1\", \"Rounded Speed\": 15}, {\"Gtfs Dataset Name\": \"Anaheim Resort VehiclePositions\", \"Shape Array Key\": \"29d2bbdbeaec1d6888800f85bebf6e33\", \"Trip Id\": \"aa6a03fe-f119-44a5-8976-2ad77ceeb89f:5\", \"Sorted Stop Seq\": 3, \"Gtfs Dataset Key\": \"1051e067d18a76b0a79789f051d5c22b\", \"Loop Or Inlining\": 1, \"N Trips\": 8, \"Variable\": \"Speed Mph\", \"Speed\": 3.7, \"Route\": \"Anaheim Resort VehiclePositions 29d2bbdbeaec1d6888800f85bebf6e33\", \"Speed_Int\": 3, \"Route Type\": \"Loop or Inlining: 1\", \"Rounded Speed\": 5}, {\"Gtfs Dataset Name\": \"Anaheim Resort VehiclePositions\", \"Shape Array Key\": \"29d2bbdbeaec1d6888800f85bebf6e33\", \"Trip Id\": \"aa6a03fe-f119-44a5-8976-2ad77ceeb89f:5\", \"Sorted Stop Seq\": 4, \"Gtfs Dataset Key\": \"1051e067d18a76b0a79789f051d5c22b\", \"Loop Or Inlining\": 1, \"N Trips\": 8, \"Variable\": \"Speed Mph\", \"Speed\": 2.7, \"Route\": \"Anaheim Resort VehiclePositions 29d2bbdbeaec1d6888800f85bebf6e33\", \"Speed_Int\": 2, \"Route Type\": \"Loop or Inlining: 1\", \"Rounded Speed\": 5}, {\"Gtfs Dataset Name\": \"Anaheim Resort VehiclePositions\", \"Shape Array Key\": \"29d2bbdbeaec1d6888800f85bebf6e33\", \"Trip Id\": \"aa6a03fe-f119-44a5-8976-2ad77ceeb89f:5\", \"Sorted Stop Seq\": 5, \"Gtfs Dataset Key\": \"1051e067d18a76b0a79789f051d5c22b\", \"Loop Or Inlining\": 1, \"N Trips\": 8, \"Variable\": \"Speed Mph\", \"Speed\": 0.4, \"Route\": \"Anaheim Resort VehiclePositions 29d2bbdbeaec1d6888800f85bebf6e33\", \"Speed_Int\": 0, \"Route Type\": \"Loop or Inlining: 1\", \"Rounded Speed\": 0}, {\"Gtfs Dataset Name\": \"Anaheim Resort VehiclePositions\", \"Shape Array Key\": \"29d2bbdbeaec1d6888800f85bebf6e33\", \"Trip Id\": \"aa6a03fe-f119-44a5-8976-2ad77ceeb89f:5\", \"Sorted Stop Seq\": 6, \"Gtfs Dataset Key\": \"1051e067d18a76b0a79789f051d5c22b\", \"Loop Or Inlining\": 1, \"N Trips\": 8, \"Variable\": \"Speed Mph\", \"Speed\": 3.1, \"Route\": \"Anaheim Resort VehiclePositions 29d2bbdbeaec1d6888800f85bebf6e33\", \"Speed_Int\": 3, \"Route Type\": \"Loop or Inlining: 1\", \"Rounded Speed\": 5}, {\"Gtfs Dataset Name\": \"Anaheim Resort VehiclePositions\", \"Shape Array Key\": \"29d2bbdbeaec1d6888800f85bebf6e33\", \"Trip Id\": \"aa6a03fe-f119-44a5-8976-2ad77ceeb89f:5\", \"Sorted Stop Seq\": 7, \"Gtfs Dataset Key\": \"1051e067d18a76b0a79789f051d5c22b\", \"Loop Or Inlining\": 1, \"N Trips\": 8, \"Variable\": \"Speed Mph\", \"Speed\": 1.6, \"Route\": \"Anaheim Resort VehiclePositions 29d2bbdbeaec1d6888800f85bebf6e33\", \"Speed_Int\": 1, \"Route Type\": \"Loop or Inlining: 1\", \"Rounded Speed\": 5}, {\"Gtfs Dataset Name\": \"Anaheim Resort VehiclePositions\", \"Shape Array Key\": \"29d2bbdbeaec1d6888800f85bebf6e33\", \"Trip Id\": \"aa6a03fe-f119-44a5-8976-2ad77ceeb89f:5\", \"Sorted Stop Seq\": 8, \"Gtfs Dataset Key\": \"1051e067d18a76b0a79789f051d5c22b\", \"Loop Or Inlining\": 1, \"N Trips\": 8, \"Variable\": \"Speed Mph\", \"Speed\": 3.4, \"Route\": \"Anaheim Resort VehiclePositions 29d2bbdbeaec1d6888800f85bebf6e33\", \"Speed_Int\": 3, \"Route Type\": \"Loop or Inlining: 1\", \"Rounded Speed\": 5}, {\"Gtfs Dataset Name\": \"Anaheim Resort VehiclePositions\", \"Shape Array Key\": \"29d2bbdbeaec1d6888800f85bebf6e33\", \"Trip Id\": \"aa6a03fe-f119-44a5-8976-2ad77ceeb89f:5\", \"Sorted Stop Seq\": 9, \"Gtfs Dataset Key\": \"1051e067d18a76b0a79789f051d5c22b\", \"Loop Or Inlining\": 1, \"N Trips\": 8, \"Variable\": \"Speed Mph\", \"Speed\": 2.5, \"Route\": \"Anaheim Resort VehiclePositions 29d2bbdbeaec1d6888800f85bebf6e33\", \"Speed_Int\": 2, \"Route Type\": \"Loop or Inlining: 1\", \"Rounded Speed\": 5}, {\"Gtfs Dataset Name\": \"Anaheim Resort VehiclePositions\", \"Shape Array Key\": \"29d2bbdbeaec1d6888800f85bebf6e33\", \"Trip Id\": \"aa6a03fe-f119-44a5-8976-2ad77ceeb89f:6\", \"Sorted Stop Seq\": 2, \"Gtfs Dataset Key\": \"1051e067d18a76b0a79789f051d5c22b\", \"Loop Or Inlining\": 1, \"N Trips\": 8, \"Variable\": \"Speed Mph\", \"Speed\": 5.5, \"Route\": \"Anaheim Resort VehiclePositions 29d2bbdbeaec1d6888800f85bebf6e33\", \"Speed_Int\": 5, \"Route Type\": \"Loop or Inlining: 1\", \"Rounded Speed\": 5}, {\"Gtfs Dataset Name\": \"Anaheim Resort VehiclePositions\", \"Shape Array Key\": \"29d2bbdbeaec1d6888800f85bebf6e33\", \"Trip Id\": \"aa6a03fe-f119-44a5-8976-2ad77ceeb89f:6\", \"Sorted Stop Seq\": 3, \"Gtfs Dataset Key\": \"1051e067d18a76b0a79789f051d5c22b\", \"Loop Or Inlining\": 1, \"N Trips\": 8, \"Variable\": \"Speed Mph\", \"Speed\": 5.5, \"Route\": \"Anaheim Resort VehiclePositions 29d2bbdbeaec1d6888800f85bebf6e33\", \"Speed_Int\": 5, \"Route Type\": \"Loop or Inlining: 1\", \"Rounded Speed\": 5}, {\"Gtfs Dataset Name\": \"Anaheim Resort VehiclePositions\", \"Shape Array Key\": \"29d2bbdbeaec1d6888800f85bebf6e33\", \"Trip Id\": \"aa6a03fe-f119-44a5-8976-2ad77ceeb89f:6\", \"Sorted Stop Seq\": 4, \"Gtfs Dataset Key\": \"1051e067d18a76b0a79789f051d5c22b\", \"Loop Or Inlining\": 1, \"N Trips\": 8, \"Variable\": \"Speed Mph\", \"Speed\": 4.0, \"Route\": \"Anaheim Resort VehiclePositions 29d2bbdbeaec1d6888800f85bebf6e33\", \"Speed_Int\": 4, \"Route Type\": \"Loop or Inlining: 1\", \"Rounded Speed\": 5}, {\"Gtfs Dataset Name\": \"Anaheim Resort VehiclePositions\", \"Shape Array Key\": \"29d2bbdbeaec1d6888800f85bebf6e33\", \"Trip Id\": \"aa6a03fe-f119-44a5-8976-2ad77ceeb89f:6\", \"Sorted Stop Seq\": 5, \"Gtfs Dataset Key\": \"1051e067d18a76b0a79789f051d5c22b\", \"Loop Or Inlining\": 1, \"N Trips\": 8, \"Variable\": \"Speed Mph\", \"Speed\": 1.0, \"Route\": \"Anaheim Resort VehiclePositions 29d2bbdbeaec1d6888800f85bebf6e33\", \"Speed_Int\": 1, \"Route Type\": \"Loop or Inlining: 1\", \"Rounded Speed\": 5}, {\"Gtfs Dataset Name\": \"Anaheim Resort VehiclePositions\", \"Shape Array Key\": \"29d2bbdbeaec1d6888800f85bebf6e33\", \"Trip Id\": \"aa6a03fe-f119-44a5-8976-2ad77ceeb89f:6\", \"Sorted Stop Seq\": 6, \"Gtfs Dataset Key\": \"1051e067d18a76b0a79789f051d5c22b\", \"Loop Or Inlining\": 1, \"N Trips\": 8, \"Variable\": \"Speed Mph\", \"Speed\": 3.5, \"Route\": \"Anaheim Resort VehiclePositions 29d2bbdbeaec1d6888800f85bebf6e33\", \"Speed_Int\": 3, \"Route Type\": \"Loop or Inlining: 1\", \"Rounded Speed\": 5}, {\"Gtfs Dataset Name\": \"Anaheim Resort VehiclePositions\", \"Shape Array Key\": \"29d2bbdbeaec1d6888800f85bebf6e33\", \"Trip Id\": \"aa6a03fe-f119-44a5-8976-2ad77ceeb89f:6\", \"Sorted Stop Seq\": 7, \"Gtfs Dataset Key\": \"1051e067d18a76b0a79789f051d5c22b\", \"Loop Or Inlining\": 1, \"N Trips\": 8, \"Variable\": \"Speed Mph\", \"Speed\": 3.9, \"Route\": \"Anaheim Resort VehiclePositions 29d2bbdbeaec1d6888800f85bebf6e33\", \"Speed_Int\": 3, \"Route Type\": \"Loop or Inlining: 1\", \"Rounded Speed\": 5}, {\"Gtfs Dataset Name\": \"Anaheim Resort VehiclePositions\", \"Shape Array Key\": \"29d2bbdbeaec1d6888800f85bebf6e33\", \"Trip Id\": \"aa6a03fe-f119-44a5-8976-2ad77ceeb89f:6\", \"Sorted Stop Seq\": 8, \"Gtfs Dataset Key\": \"1051e067d18a76b0a79789f051d5c22b\", \"Loop Or Inlining\": 1, \"N Trips\": 8, \"Variable\": \"Speed Mph\", \"Speed\": 4.6, \"Route\": \"Anaheim Resort VehiclePositions 29d2bbdbeaec1d6888800f85bebf6e33\", \"Speed_Int\": 4, \"Route Type\": \"Loop or Inlining: 1\", \"Rounded Speed\": 5}, {\"Gtfs Dataset Name\": \"Anaheim Resort VehiclePositions\", \"Shape Array Key\": \"29d2bbdbeaec1d6888800f85bebf6e33\", \"Trip Id\": \"aa6a03fe-f119-44a5-8976-2ad77ceeb89f:6\", \"Sorted Stop Seq\": 9, \"Gtfs Dataset Key\": \"1051e067d18a76b0a79789f051d5c22b\", \"Loop Or Inlining\": 1, \"N Trips\": 8, \"Variable\": \"Speed Mph\", \"Speed\": 5.4, \"Route\": \"Anaheim Resort VehiclePositions 29d2bbdbeaec1d6888800f85bebf6e33\", \"Speed_Int\": 5, \"Route Type\": \"Loop or Inlining: 1\", \"Rounded Speed\": 5}, {\"Gtfs Dataset Name\": \"Anaheim Resort VehiclePositions\", \"Shape Array Key\": \"29d2bbdbeaec1d6888800f85bebf6e33\", \"Trip Id\": \"aa6a03fe-f119-44a5-8976-2ad77ceeb89f:7\", \"Sorted Stop Seq\": 1, \"Gtfs Dataset Key\": \"1051e067d18a76b0a79789f051d5c22b\", \"Loop Or Inlining\": 1, \"N Trips\": 8, \"Variable\": \"Speed Mph\", \"Speed\": 0.0, \"Route\": \"Anaheim Resort VehiclePositions 29d2bbdbeaec1d6888800f85bebf6e33\", \"Speed_Int\": 0, \"Route Type\": \"Loop or Inlining: 1\", \"Rounded Speed\": 0}, {\"Gtfs Dataset Name\": \"Anaheim Resort VehiclePositions\", \"Shape Array Key\": \"29d2bbdbeaec1d6888800f85bebf6e33\", \"Trip Id\": \"aa6a03fe-f119-44a5-8976-2ad77ceeb89f:7\", \"Sorted Stop Seq\": 2, \"Gtfs Dataset Key\": \"1051e067d18a76b0a79789f051d5c22b\", \"Loop Or Inlining\": 1, \"N Trips\": 8, \"Variable\": \"Speed Mph\", \"Speed\": 7.3, \"Route\": \"Anaheim Resort VehiclePositions 29d2bbdbeaec1d6888800f85bebf6e33\", \"Speed_Int\": 7, \"Route Type\": \"Loop or Inlining: 1\", \"Rounded Speed\": 10}, {\"Gtfs Dataset Name\": \"Anaheim Resort VehiclePositions\", \"Shape Array Key\": \"29d2bbdbeaec1d6888800f85bebf6e33\", \"Trip Id\": \"aa6a03fe-f119-44a5-8976-2ad77ceeb89f:7\", \"Sorted Stop Seq\": 3, \"Gtfs Dataset Key\": \"1051e067d18a76b0a79789f051d5c22b\", \"Loop Or Inlining\": 1, \"N Trips\": 8, \"Variable\": \"Speed Mph\", \"Speed\": 3.7, \"Route\": \"Anaheim Resort VehiclePositions 29d2bbdbeaec1d6888800f85bebf6e33\", \"Speed_Int\": 3, \"Route Type\": \"Loop or Inlining: 1\", \"Rounded Speed\": 5}, {\"Gtfs Dataset Name\": \"Anaheim Resort VehiclePositions\", \"Shape Array Key\": \"29d2bbdbeaec1d6888800f85bebf6e33\", \"Trip Id\": \"aa6a03fe-f119-44a5-8976-2ad77ceeb89f:7\", \"Sorted Stop Seq\": 4, \"Gtfs Dataset Key\": \"1051e067d18a76b0a79789f051d5c22b\", \"Loop Or Inlining\": 1, \"N Trips\": 8, \"Variable\": \"Speed Mph\", \"Speed\": 5.0, \"Route\": \"Anaheim Resort VehiclePositions 29d2bbdbeaec1d6888800f85bebf6e33\", \"Speed_Int\": 5, \"Route Type\": \"Loop or Inlining: 1\", \"Rounded Speed\": 5}, {\"Gtfs Dataset Name\": \"Anaheim Resort VehiclePositions\", \"Shape Array Key\": \"29d2bbdbeaec1d6888800f85bebf6e33\", \"Trip Id\": \"aa6a03fe-f119-44a5-8976-2ad77ceeb89f:7\", \"Sorted Stop Seq\": 5, \"Gtfs Dataset Key\": \"1051e067d18a76b0a79789f051d5c22b\", \"Loop Or Inlining\": 1, \"N Trips\": 8, \"Variable\": \"Speed Mph\", \"Speed\": 0.9, \"Route\": \"Anaheim Resort VehiclePositions 29d2bbdbeaec1d6888800f85bebf6e33\", \"Speed_Int\": 0, \"Route Type\": \"Loop or Inlining: 1\", \"Rounded Speed\": 0}, {\"Gtfs Dataset Name\": \"Anaheim Resort VehiclePositions\", \"Shape Array Key\": \"29d2bbdbeaec1d6888800f85bebf6e33\", \"Trip Id\": \"aa6a03fe-f119-44a5-8976-2ad77ceeb89f:7\", \"Sorted Stop Seq\": 6, \"Gtfs Dataset Key\": \"1051e067d18a76b0a79789f051d5c22b\", \"Loop Or Inlining\": 1, \"N Trips\": 8, \"Variable\": \"Speed Mph\", \"Speed\": 3.1, \"Route\": \"Anaheim Resort VehiclePositions 29d2bbdbeaec1d6888800f85bebf6e33\", \"Speed_Int\": 3, \"Route Type\": \"Loop or Inlining: 1\", \"Rounded Speed\": 5}, {\"Gtfs Dataset Name\": \"Anaheim Resort VehiclePositions\", \"Shape Array Key\": \"29d2bbdbeaec1d6888800f85bebf6e33\", \"Trip Id\": \"aa6a03fe-f119-44a5-8976-2ad77ceeb89f:7\", \"Sorted Stop Seq\": 7, \"Gtfs Dataset Key\": \"1051e067d18a76b0a79789f051d5c22b\", \"Loop Or Inlining\": 1, \"N Trips\": 8, \"Variable\": \"Speed Mph\", \"Speed\": 4.4, \"Route\": \"Anaheim Resort VehiclePositions 29d2bbdbeaec1d6888800f85bebf6e33\", \"Speed_Int\": 4, \"Route Type\": \"Loop or Inlining: 1\", \"Rounded Speed\": 5}, {\"Gtfs Dataset Name\": \"Anaheim Resort VehiclePositions\", \"Shape Array Key\": \"29d2bbdbeaec1d6888800f85bebf6e33\", \"Trip Id\": \"aa6a03fe-f119-44a5-8976-2ad77ceeb89f:7\", \"Sorted Stop Seq\": 8, \"Gtfs Dataset Key\": \"1051e067d18a76b0a79789f051d5c22b\", \"Loop Or Inlining\": 1, \"N Trips\": 8, \"Variable\": \"Speed Mph\", \"Speed\": 4.7, \"Route\": \"Anaheim Resort VehiclePositions 29d2bbdbeaec1d6888800f85bebf6e33\", \"Speed_Int\": 4, \"Route Type\": \"Loop or Inlining: 1\", \"Rounded Speed\": 5}, {\"Gtfs Dataset Name\": \"Anaheim Resort VehiclePositions\", \"Shape Array Key\": \"29d2bbdbeaec1d6888800f85bebf6e33\", \"Trip Id\": \"aa6a03fe-f119-44a5-8976-2ad77ceeb89f:7\", \"Sorted Stop Seq\": 9, \"Gtfs Dataset Key\": \"1051e067d18a76b0a79789f051d5c22b\", \"Loop Or Inlining\": 1, \"N Trips\": 8, \"Variable\": \"Speed Mph\", \"Speed\": 6.4, \"Route\": \"Anaheim Resort VehiclePositions 29d2bbdbeaec1d6888800f85bebf6e33\", \"Speed_Int\": 6, \"Route Type\": \"Loop or Inlining: 1\", \"Rounded Speed\": 10}, {\"Gtfs Dataset Name\": \"Anaheim Resort VehiclePositions\", \"Shape Array Key\": \"29d2bbdbeaec1d6888800f85bebf6e33\", \"Trip Id\": \"aa6a03fe-f119-44a5-8976-2ad77ceeb89f:8\", \"Sorted Stop Seq\": 2, \"Gtfs Dataset Key\": \"1051e067d18a76b0a79789f051d5c22b\", \"Loop Or Inlining\": 1, \"N Trips\": 8, \"Variable\": \"Speed Mph\", \"Speed\": 9.6, \"Route\": \"Anaheim Resort VehiclePositions 29d2bbdbeaec1d6888800f85bebf6e33\", \"Speed_Int\": 9, \"Route Type\": \"Loop or Inlining: 1\", \"Rounded Speed\": 10}, {\"Gtfs Dataset Name\": \"Anaheim Resort VehiclePositions\", \"Shape Array Key\": \"29d2bbdbeaec1d6888800f85bebf6e33\", \"Trip Id\": \"aa6a03fe-f119-44a5-8976-2ad77ceeb89f:8\", \"Sorted Stop Seq\": 3, \"Gtfs Dataset Key\": \"1051e067d18a76b0a79789f051d5c22b\", \"Loop Or Inlining\": 1, \"N Trips\": 8, \"Variable\": \"Speed Mph\", \"Speed\": 4.2, \"Route\": \"Anaheim Resort VehiclePositions 29d2bbdbeaec1d6888800f85bebf6e33\", \"Speed_Int\": 4, \"Route Type\": \"Loop or Inlining: 1\", \"Rounded Speed\": 5}, {\"Gtfs Dataset Name\": \"Anaheim Resort VehiclePositions\", \"Shape Array Key\": \"29d2bbdbeaec1d6888800f85bebf6e33\", \"Trip Id\": \"aa6a03fe-f119-44a5-8976-2ad77ceeb89f:8\", \"Sorted Stop Seq\": 4, \"Gtfs Dataset Key\": \"1051e067d18a76b0a79789f051d5c22b\", \"Loop Or Inlining\": 1, \"N Trips\": 8, \"Variable\": \"Speed Mph\", \"Speed\": 5.8, \"Route\": \"Anaheim Resort VehiclePositions 29d2bbdbeaec1d6888800f85bebf6e33\", \"Speed_Int\": 5, \"Route Type\": \"Loop or Inlining: 1\", \"Rounded Speed\": 5}, {\"Gtfs Dataset Name\": \"Anaheim Resort VehiclePositions\", \"Shape Array Key\": \"29d2bbdbeaec1d6888800f85bebf6e33\", \"Trip Id\": \"aa6a03fe-f119-44a5-8976-2ad77ceeb89f:8\", \"Sorted Stop Seq\": 5, \"Gtfs Dataset Key\": \"1051e067d18a76b0a79789f051d5c22b\", \"Loop Or Inlining\": 1, \"N Trips\": 8, \"Variable\": \"Speed Mph\", \"Speed\": 0.0, \"Route\": \"Anaheim Resort VehiclePositions 29d2bbdbeaec1d6888800f85bebf6e33\", \"Speed_Int\": 0, \"Route Type\": \"Loop or Inlining: 1\", \"Rounded Speed\": 0}, {\"Gtfs Dataset Name\": \"Anaheim Resort VehiclePositions\", \"Shape Array Key\": \"29d2bbdbeaec1d6888800f85bebf6e33\", \"Trip Id\": \"aa6a03fe-f119-44a5-8976-2ad77ceeb89f:8\", \"Sorted Stop Seq\": 6, \"Gtfs Dataset Key\": \"1051e067d18a76b0a79789f051d5c22b\", \"Loop Or Inlining\": 1, \"N Trips\": 8, \"Variable\": \"Speed Mph\", \"Speed\": 1.6, \"Route\": \"Anaheim Resort VehiclePositions 29d2bbdbeaec1d6888800f85bebf6e33\", \"Speed_Int\": 1, \"Route Type\": \"Loop or Inlining: 1\", \"Rounded Speed\": 5}, {\"Gtfs Dataset Name\": \"Anaheim Resort VehiclePositions\", \"Shape Array Key\": \"29d2bbdbeaec1d6888800f85bebf6e33\", \"Trip Id\": \"aa6a03fe-f119-44a5-8976-2ad77ceeb89f:8\", \"Sorted Stop Seq\": 7, \"Gtfs Dataset Key\": \"1051e067d18a76b0a79789f051d5c22b\", \"Loop Or Inlining\": 1, \"N Trips\": 8, \"Variable\": \"Speed Mph\", \"Speed\": 4.4, \"Route\": \"Anaheim Resort VehiclePositions 29d2bbdbeaec1d6888800f85bebf6e33\", \"Speed_Int\": 4, \"Route Type\": \"Loop or Inlining: 1\", \"Rounded Speed\": 5}, {\"Gtfs Dataset Name\": \"Anaheim Resort VehiclePositions\", \"Shape Array Key\": \"29d2bbdbeaec1d6888800f85bebf6e33\", \"Trip Id\": \"aa6a03fe-f119-44a5-8976-2ad77ceeb89f:8\", \"Sorted Stop Seq\": 9, \"Gtfs Dataset Key\": \"1051e067d18a76b0a79789f051d5c22b\", \"Loop Or Inlining\": 1, \"N Trips\": 8, \"Variable\": \"Speed Mph\", \"Speed\": 7.2, \"Route\": \"Anaheim Resort VehiclePositions 29d2bbdbeaec1d6888800f85bebf6e33\", \"Speed_Int\": 7, \"Route Type\": \"Loop or Inlining: 1\", \"Rounded Speed\": 10}, {\"Gtfs Dataset Name\": \"Eastern Sierra Vehicle Positions\", \"Shape Array Key\": \"754c5b012195800c38dc58e72e4f482e\", \"Trip Id\": \"t_97725_b_2397_tn_11\", \"Sorted Stop Seq\": 1, \"Gtfs Dataset Key\": \"64b3bb0d6a6888b62be32aa789cc37ef\", \"Loop Or Inlining\": 0, \"N Trips\": 8, \"Variable\": \"Speed Mph\", \"Speed\": 0.0, \"Route\": \"Eastern Sierra Vehicle Positions 754c5b012195800c38dc58e72e4f482e\", \"Speed_Int\": 0, \"Route Type\": \"Loop or Inlining: 0\", \"Rounded Speed\": 0}, {\"Gtfs Dataset Name\": \"Eastern Sierra Vehicle Positions\", \"Shape Array Key\": \"754c5b012195800c38dc58e72e4f482e\", \"Trip Id\": \"t_97725_b_2397_tn_11\", \"Sorted Stop Seq\": 2, \"Gtfs Dataset Key\": \"64b3bb0d6a6888b62be32aa789cc37ef\", \"Loop Or Inlining\": 0, \"N Trips\": 9, \"Variable\": \"Speed Mph\", \"Speed\": 2.2, \"Route\": \"Eastern Sierra Vehicle Positions 754c5b012195800c38dc58e72e4f482e\", \"Speed_Int\": 2, \"Route Type\": \"Loop or Inlining: 0\", \"Rounded Speed\": 5}, {\"Gtfs Dataset Name\": \"Eastern Sierra Vehicle Positions\", \"Shape Array Key\": \"754c5b012195800c38dc58e72e4f482e\", \"Trip Id\": \"t_97725_b_2397_tn_13\", \"Sorted Stop Seq\": 2, \"Gtfs Dataset Key\": \"64b3bb0d6a6888b62be32aa789cc37ef\", \"Loop Or Inlining\": 0, \"N Trips\": 9, \"Variable\": \"Speed Mph\", \"Speed\": 2.9, \"Route\": \"Eastern Sierra Vehicle Positions 754c5b012195800c38dc58e72e4f482e\", \"Speed_Int\": 2, \"Route Type\": \"Loop or Inlining: 0\", \"Rounded Speed\": 5}, {\"Gtfs Dataset Name\": \"Eastern Sierra Vehicle Positions\", \"Shape Array Key\": \"754c5b012195800c38dc58e72e4f482e\", \"Trip Id\": \"t_97725_b_2397_tn_13\", \"Sorted Stop Seq\": 3, \"Gtfs Dataset Key\": \"64b3bb0d6a6888b62be32aa789cc37ef\", \"Loop Or Inlining\": 0, \"N Trips\": 1, \"Variable\": \"Speed Mph\", \"Speed\": null, \"Route\": \"Eastern Sierra Vehicle Positions 754c5b012195800c38dc58e72e4f482e\", \"Speed_Int\": 0, \"Route Type\": \"Loop or Inlining: 0\", \"Rounded Speed\": 0}, {\"Gtfs Dataset Name\": \"Eastern Sierra Vehicle Positions\", \"Shape Array Key\": \"754c5b012195800c38dc58e72e4f482e\", \"Trip Id\": \"t_97725_b_2397_tn_15\", \"Sorted Stop Seq\": 1, \"Gtfs Dataset Key\": \"64b3bb0d6a6888b62be32aa789cc37ef\", \"Loop Or Inlining\": 0, \"N Trips\": 1, \"Variable\": \"Speed Mph\", \"Speed\": null, \"Route\": \"Eastern Sierra Vehicle Positions 754c5b012195800c38dc58e72e4f482e\", \"Speed_Int\": 0, \"Route Type\": \"Loop or Inlining: 0\", \"Rounded Speed\": 0}, {\"Gtfs Dataset Name\": \"Eastern Sierra Vehicle Positions\", \"Shape Array Key\": \"754c5b012195800c38dc58e72e4f482e\", \"Trip Id\": \"t_97725_b_2397_tn_17\", \"Sorted Stop Seq\": 2, \"Gtfs Dataset Key\": \"64b3bb0d6a6888b62be32aa789cc37ef\", \"Loop Or Inlining\": 0, \"N Trips\": 9, \"Variable\": \"Speed Mph\", \"Speed\": 2.3, \"Route\": \"Eastern Sierra Vehicle Positions 754c5b012195800c38dc58e72e4f482e\", \"Speed_Int\": 2, \"Route Type\": \"Loop or Inlining: 0\", \"Rounded Speed\": 5}, {\"Gtfs Dataset Name\": \"Eastern Sierra Vehicle Positions\", \"Shape Array Key\": \"754c5b012195800c38dc58e72e4f482e\", \"Trip Id\": \"t_97725_b_2397_tn_19\", \"Sorted Stop Seq\": 2, \"Gtfs Dataset Key\": \"64b3bb0d6a6888b62be32aa789cc37ef\", \"Loop Or Inlining\": 0, \"N Trips\": 9, \"Variable\": \"Speed Mph\", \"Speed\": 3.6, \"Route\": \"Eastern Sierra Vehicle Positions 754c5b012195800c38dc58e72e4f482e\", \"Speed_Int\": 3, \"Route Type\": \"Loop or Inlining: 0\", \"Rounded Speed\": 5}, {\"Gtfs Dataset Name\": \"Eastern Sierra Vehicle Positions\", \"Shape Array Key\": \"754c5b012195800c38dc58e72e4f482e\", \"Trip Id\": \"t_97725_b_2397_tn_21\", \"Sorted Stop Seq\": 2, \"Gtfs Dataset Key\": \"64b3bb0d6a6888b62be32aa789cc37ef\", \"Loop Or Inlining\": 0, \"N Trips\": 9, \"Variable\": \"Speed Mph\", \"Speed\": 5.0, \"Route\": \"Eastern Sierra Vehicle Positions 754c5b012195800c38dc58e72e4f482e\", \"Speed_Int\": 5, \"Route Type\": \"Loop or Inlining: 0\", \"Rounded Speed\": 5}, {\"Gtfs Dataset Name\": \"Eastern Sierra Vehicle Positions\", \"Shape Array Key\": \"754c5b012195800c38dc58e72e4f482e\", \"Trip Id\": \"t_97725_b_2397_tn_3\", \"Sorted Stop Seq\": 2, \"Gtfs Dataset Key\": \"64b3bb0d6a6888b62be32aa789cc37ef\", \"Loop Or Inlining\": 0, \"N Trips\": 9, \"Variable\": \"Speed Mph\", \"Speed\": 0.5, \"Route\": \"Eastern Sierra Vehicle Positions 754c5b012195800c38dc58e72e4f482e\", \"Speed_Int\": 0, \"Route Type\": \"Loop or Inlining: 0\", \"Rounded Speed\": 0}, {\"Gtfs Dataset Name\": \"Eastern Sierra Vehicle Positions\", \"Shape Array Key\": \"754c5b012195800c38dc58e72e4f482e\", \"Trip Id\": \"t_97725_b_2397_tn_3\", \"Sorted Stop Seq\": 3, \"Gtfs Dataset Key\": \"64b3bb0d6a6888b62be32aa789cc37ef\", \"Loop Or Inlining\": 0, \"N Trips\": 1, \"Variable\": \"Speed Mph\", \"Speed\": 0.0, \"Route\": \"Eastern Sierra Vehicle Positions 754c5b012195800c38dc58e72e4f482e\", \"Speed_Int\": 0, \"Route Type\": \"Loop or Inlining: 0\", \"Rounded Speed\": 0}, {\"Gtfs Dataset Name\": \"Eastern Sierra Vehicle Positions\", \"Shape Array Key\": \"754c5b012195800c38dc58e72e4f482e\", \"Trip Id\": \"t_97725_b_2397_tn_5\", \"Sorted Stop Seq\": 2, \"Gtfs Dataset Key\": \"64b3bb0d6a6888b62be32aa789cc37ef\", \"Loop Or Inlining\": 0, \"N Trips\": 9, \"Variable\": \"Speed Mph\", \"Speed\": 5.2, \"Route\": \"Eastern Sierra Vehicle Positions 754c5b012195800c38dc58e72e4f482e\", \"Speed_Int\": 5, \"Route Type\": \"Loop or Inlining: 0\", \"Rounded Speed\": 5}, {\"Gtfs Dataset Name\": \"Eastern Sierra Vehicle Positions\", \"Shape Array Key\": \"754c5b012195800c38dc58e72e4f482e\", \"Trip Id\": \"t_97725_b_2397_tn_7\", \"Sorted Stop Seq\": 2, \"Gtfs Dataset Key\": \"64b3bb0d6a6888b62be32aa789cc37ef\", \"Loop Or Inlining\": 0, \"N Trips\": 9, \"Variable\": \"Speed Mph\", \"Speed\": 2.2, \"Route\": \"Eastern Sierra Vehicle Positions 754c5b012195800c38dc58e72e4f482e\", \"Speed_Int\": 2, \"Route Type\": \"Loop or Inlining: 0\", \"Rounded Speed\": 5}, {\"Gtfs Dataset Name\": \"Eastern Sierra Vehicle Positions\", \"Shape Array Key\": \"754c5b012195800c38dc58e72e4f482e\", \"Trip Id\": \"t_97725_b_2397_tn_9\", \"Sorted Stop Seq\": 1, \"Gtfs Dataset Key\": \"64b3bb0d6a6888b62be32aa789cc37ef\", \"Loop Or Inlining\": 0, \"N Trips\": 9, \"Variable\": \"Speed Mph\", \"Speed\": 8.3, \"Route\": \"Eastern Sierra Vehicle Positions 754c5b012195800c38dc58e72e4f482e\", \"Speed_Int\": 8, \"Route Type\": \"Loop or Inlining: 0\", \"Rounded Speed\": 10}, {\"Gtfs Dataset Name\": \"Eastern Sierra Vehicle Positions\", \"Shape Array Key\": \"754c5b012195800c38dc58e72e4f482e\", \"Trip Id\": \"t_97725_b_2397_tn_9\", \"Sorted Stop Seq\": 2, \"Gtfs Dataset Key\": \"64b3bb0d6a6888b62be32aa789cc37ef\", \"Loop Or Inlining\": 0, \"N Trips\": 1, \"Variable\": \"Speed Mph\", \"Speed\": null, \"Route\": \"Eastern Sierra Vehicle Positions 754c5b012195800c38dc58e72e4f482e\", \"Speed_Int\": 0, \"Route Type\": \"Loop or Inlining: 0\", \"Rounded Speed\": 0}, {\"Gtfs Dataset Name\": \"Eastern Sierra Vehicle Positions\", \"Shape Array Key\": \"e3c5ed2c6fa6cd5c5cd57d46aeb3cd8e\", \"Trip Id\": \"t_195132_b_78389_tn_1\", \"Sorted Stop Seq\": 1, \"Gtfs Dataset Key\": \"64b3bb0d6a6888b62be32aa789cc37ef\", \"Loop Or Inlining\": 0, \"N Trips\": 1, \"Variable\": \"Speed Mph\", \"Speed\": 34.6, \"Route\": \"Eastern Sierra Vehicle Positions e3c5ed2c6fa6cd5c5cd57d46aeb3cd8e\", \"Speed_Int\": 34, \"Route Type\": \"Loop or Inlining: 0\", \"Rounded Speed\": 35}, {\"Gtfs Dataset Name\": \"Eastern Sierra Vehicle Positions\", \"Shape Array Key\": \"e3c5ed2c6fa6cd5c5cd57d46aeb3cd8e\", \"Trip Id\": \"t_195132_b_78389_tn_1\", \"Sorted Stop Seq\": 2, \"Gtfs Dataset Key\": \"64b3bb0d6a6888b62be32aa789cc37ef\", \"Loop Or Inlining\": 0, \"N Trips\": 1, \"Variable\": \"Speed Mph\", \"Speed\": 0.5, \"Route\": \"Eastern Sierra Vehicle Positions e3c5ed2c6fa6cd5c5cd57d46aeb3cd8e\", \"Speed_Int\": 0, \"Route Type\": \"Loop or Inlining: 0\", \"Rounded Speed\": 0}, {\"Gtfs Dataset Name\": \"Eastern Sierra Vehicle Positions\", \"Shape Array Key\": \"e3c5ed2c6fa6cd5c5cd57d46aeb3cd8e\", \"Trip Id\": \"t_195132_b_78389_tn_1\", \"Sorted Stop Seq\": 3, \"Gtfs Dataset Key\": \"64b3bb0d6a6888b62be32aa789cc37ef\", \"Loop Or Inlining\": 0, \"N Trips\": 1, \"Variable\": \"Speed Mph\", \"Speed\": 0.5, \"Route\": \"Eastern Sierra Vehicle Positions e3c5ed2c6fa6cd5c5cd57d46aeb3cd8e\", \"Speed_Int\": 0, \"Route Type\": \"Loop or Inlining: 0\", \"Rounded Speed\": 0}, {\"Gtfs Dataset Name\": \"Eastern Sierra Vehicle Positions\", \"Shape Array Key\": \"e3c5ed2c6fa6cd5c5cd57d46aeb3cd8e\", \"Trip Id\": \"t_195132_b_78389_tn_1\", \"Sorted Stop Seq\": 4, \"Gtfs Dataset Key\": \"64b3bb0d6a6888b62be32aa789cc37ef\", \"Loop Or Inlining\": 0, \"N Trips\": 1, \"Variable\": \"Speed Mph\", \"Speed\": 11.8, \"Route\": \"Eastern Sierra Vehicle Positions e3c5ed2c6fa6cd5c5cd57d46aeb3cd8e\", \"Speed_Int\": 11, \"Route Type\": \"Loop or Inlining: 0\", \"Rounded Speed\": 15}, {\"Gtfs Dataset Name\": \"Anaheim Resort VehiclePositions\", \"Shape Array Key\": \"29d2bbdbeaec1d6888800f85bebf6e33\", \"Trip Id\": \"aa6a03fe-f119-44a5-8976-2ad77ceeb89f:1\", \"Sorted Stop Seq\": 1, \"Gtfs Dataset Key\": \"1051e067d18a76b0a79789f051d5c22b\", \"Loop Or Inlining\": 1, \"N Trips\": 8, \"Variable\": \"P20 Speed Mph\", \"Speed\": 0.0, \"Route\": \"Anaheim Resort VehiclePositions 29d2bbdbeaec1d6888800f85bebf6e33\", \"Speed_Int\": 0, \"Route Type\": \"Loop or Inlining: 1\", \"Rounded Speed\": 0}, {\"Gtfs Dataset Name\": \"Anaheim Resort VehiclePositions\", \"Shape Array Key\": \"29d2bbdbeaec1d6888800f85bebf6e33\", \"Trip Id\": \"aa6a03fe-f119-44a5-8976-2ad77ceeb89f:1\", \"Sorted Stop Seq\": 2, \"Gtfs Dataset Key\": \"1051e067d18a76b0a79789f051d5c22b\", \"Loop Or Inlining\": 1, \"N Trips\": 8, \"Variable\": \"P20 Speed Mph\", \"Speed\": 6.0, \"Route\": \"Anaheim Resort VehiclePositions 29d2bbdbeaec1d6888800f85bebf6e33\", \"Speed_Int\": 6, \"Route Type\": \"Loop or Inlining: 1\", \"Rounded Speed\": 10}, {\"Gtfs Dataset Name\": \"Anaheim Resort VehiclePositions\", \"Shape Array Key\": \"29d2bbdbeaec1d6888800f85bebf6e33\", \"Trip Id\": \"aa6a03fe-f119-44a5-8976-2ad77ceeb89f:1\", \"Sorted Stop Seq\": 3, \"Gtfs Dataset Key\": \"1051e067d18a76b0a79789f051d5c22b\", \"Loop Or Inlining\": 1, \"N Trips\": 8, \"Variable\": \"P20 Speed Mph\", \"Speed\": 3.7, \"Route\": \"Anaheim Resort VehiclePositions 29d2bbdbeaec1d6888800f85bebf6e33\", \"Speed_Int\": 3, \"Route Type\": \"Loop or Inlining: 1\", \"Rounded Speed\": 5}, {\"Gtfs Dataset Name\": \"Anaheim Resort VehiclePositions\", \"Shape Array Key\": \"29d2bbdbeaec1d6888800f85bebf6e33\", \"Trip Id\": \"aa6a03fe-f119-44a5-8976-2ad77ceeb89f:1\", \"Sorted Stop Seq\": 4, \"Gtfs Dataset Key\": \"1051e067d18a76b0a79789f051d5c22b\", \"Loop Or Inlining\": 1, \"N Trips\": 8, \"Variable\": \"P20 Speed Mph\", \"Speed\": 3.2, \"Route\": \"Anaheim Resort VehiclePositions 29d2bbdbeaec1d6888800f85bebf6e33\", \"Speed_Int\": 3, \"Route Type\": \"Loop or Inlining: 1\", \"Rounded Speed\": 5}, {\"Gtfs Dataset Name\": \"Anaheim Resort VehiclePositions\", \"Shape Array Key\": \"29d2bbdbeaec1d6888800f85bebf6e33\", \"Trip Id\": \"aa6a03fe-f119-44a5-8976-2ad77ceeb89f:1\", \"Sorted Stop Seq\": 5, \"Gtfs Dataset Key\": \"1051e067d18a76b0a79789f051d5c22b\", \"Loop Or Inlining\": 1, \"N Trips\": 8, \"Variable\": \"P20 Speed Mph\", \"Speed\": 0.4, \"Route\": \"Anaheim Resort VehiclePositions 29d2bbdbeaec1d6888800f85bebf6e33\", \"Speed_Int\": 0, \"Route Type\": \"Loop or Inlining: 1\", \"Rounded Speed\": 0}, {\"Gtfs Dataset Name\": \"Anaheim Resort VehiclePositions\", \"Shape Array Key\": \"29d2bbdbeaec1d6888800f85bebf6e33\", \"Trip Id\": \"aa6a03fe-f119-44a5-8976-2ad77ceeb89f:1\", \"Sorted Stop Seq\": 6, \"Gtfs Dataset Key\": \"1051e067d18a76b0a79789f051d5c22b\", \"Loop Or Inlining\": 1, \"N Trips\": 8, \"Variable\": \"P20 Speed Mph\", \"Speed\": 0.7, \"Route\": \"Anaheim Resort VehiclePositions 29d2bbdbeaec1d6888800f85bebf6e33\", \"Speed_Int\": 0, \"Route Type\": \"Loop or Inlining: 1\", \"Rounded Speed\": 0}, {\"Gtfs Dataset Name\": \"Anaheim Resort VehiclePositions\", \"Shape Array Key\": \"29d2bbdbeaec1d6888800f85bebf6e33\", \"Trip Id\": \"aa6a03fe-f119-44a5-8976-2ad77ceeb89f:1\", \"Sorted Stop Seq\": 7, \"Gtfs Dataset Key\": \"1051e067d18a76b0a79789f051d5c22b\", \"Loop Or Inlining\": 1, \"N Trips\": 8, \"Variable\": \"P20 Speed Mph\", \"Speed\": 3.1, \"Route\": \"Anaheim Resort VehiclePositions 29d2bbdbeaec1d6888800f85bebf6e33\", \"Speed_Int\": 3, \"Route Type\": \"Loop or Inlining: 1\", \"Rounded Speed\": 5}, {\"Gtfs Dataset Name\": \"Anaheim Resort VehiclePositions\", \"Shape Array Key\": \"29d2bbdbeaec1d6888800f85bebf6e33\", \"Trip Id\": \"aa6a03fe-f119-44a5-8976-2ad77ceeb89f:1\", \"Sorted Stop Seq\": 8, \"Gtfs Dataset Key\": \"1051e067d18a76b0a79789f051d5c22b\", \"Loop Or Inlining\": 1, \"N Trips\": 8, \"Variable\": \"P20 Speed Mph\", \"Speed\": 3.6, \"Route\": \"Anaheim Resort VehiclePositions 29d2bbdbeaec1d6888800f85bebf6e33\", \"Speed_Int\": 3, \"Route Type\": \"Loop or Inlining: 1\", \"Rounded Speed\": 5}, {\"Gtfs Dataset Name\": \"Anaheim Resort VehiclePositions\", \"Shape Array Key\": \"29d2bbdbeaec1d6888800f85bebf6e33\", \"Trip Id\": \"aa6a03fe-f119-44a5-8976-2ad77ceeb89f:1\", \"Sorted Stop Seq\": 9, \"Gtfs Dataset Key\": \"1051e067d18a76b0a79789f051d5c22b\", \"Loop Or Inlining\": 1, \"N Trips\": 8, \"Variable\": \"P20 Speed Mph\", \"Speed\": 3.0, \"Route\": \"Anaheim Resort VehiclePositions 29d2bbdbeaec1d6888800f85bebf6e33\", \"Speed_Int\": 3, \"Route Type\": \"Loop or Inlining: 1\", \"Rounded Speed\": 5}, {\"Gtfs Dataset Name\": \"Eastern Sierra Vehicle Positions\", \"Shape Array Key\": \"754c5b012195800c38dc58e72e4f482e\", \"Trip Id\": \"t_97725_b_2397_tn_11\", \"Sorted Stop Seq\": 1, \"Gtfs Dataset Key\": \"64b3bb0d6a6888b62be32aa789cc37ef\", \"Loop Or Inlining\": 0, \"N Trips\": 8, \"Variable\": \"P20 Speed Mph\", \"Speed\": 0.0, \"Route\": \"Eastern Sierra Vehicle Positions 754c5b012195800c38dc58e72e4f482e\", \"Speed_Int\": 0, \"Route Type\": \"Loop or Inlining: 0\", \"Rounded Speed\": 0}, {\"Gtfs Dataset Name\": \"Eastern Sierra Vehicle Positions\", \"Shape Array Key\": \"754c5b012195800c38dc58e72e4f482e\", \"Trip Id\": \"t_97725_b_2397_tn_11\", \"Sorted Stop Seq\": 2, \"Gtfs Dataset Key\": \"64b3bb0d6a6888b62be32aa789cc37ef\", \"Loop Or Inlining\": 0, \"N Trips\": 9, \"Variable\": \"P20 Speed Mph\", \"Speed\": 2.2, \"Route\": \"Eastern Sierra Vehicle Positions 754c5b012195800c38dc58e72e4f482e\", \"Speed_Int\": 2, \"Route Type\": \"Loop or Inlining: 0\", \"Rounded Speed\": 5}, {\"Gtfs Dataset Name\": \"Eastern Sierra Vehicle Positions\", \"Shape Array Key\": \"754c5b012195800c38dc58e72e4f482e\", \"Trip Id\": \"t_97725_b_2397_tn_13\", \"Sorted Stop Seq\": 3, \"Gtfs Dataset Key\": \"64b3bb0d6a6888b62be32aa789cc37ef\", \"Loop Or Inlining\": 0, \"N Trips\": 1, \"Variable\": \"P20 Speed Mph\", \"Speed\": 0.0, \"Route\": \"Eastern Sierra Vehicle Positions 754c5b012195800c38dc58e72e4f482e\", \"Speed_Int\": 0, \"Route Type\": \"Loop or Inlining: 0\", \"Rounded Speed\": 0}, {\"Gtfs Dataset Name\": \"Eastern Sierra Vehicle Positions\", \"Shape Array Key\": \"754c5b012195800c38dc58e72e4f482e\", \"Trip Id\": \"t_97725_b_2397_tn_9\", \"Sorted Stop Seq\": 1, \"Gtfs Dataset Key\": \"64b3bb0d6a6888b62be32aa789cc37ef\", \"Loop Or Inlining\": 0, \"N Trips\": 9, \"Variable\": \"P20 Speed Mph\", \"Speed\": 2.2, \"Route\": \"Eastern Sierra Vehicle Positions 754c5b012195800c38dc58e72e4f482e\", \"Speed_Int\": 2, \"Route Type\": \"Loop or Inlining: 0\", \"Rounded Speed\": 5}, {\"Gtfs Dataset Name\": \"Eastern Sierra Vehicle Positions\", \"Shape Array Key\": \"754c5b012195800c38dc58e72e4f482e\", \"Trip Id\": \"t_97725_b_2397_tn_9\", \"Sorted Stop Seq\": 2, \"Gtfs Dataset Key\": \"64b3bb0d6a6888b62be32aa789cc37ef\", \"Loop Or Inlining\": 0, \"N Trips\": 1, \"Variable\": \"P20 Speed Mph\", \"Speed\": 0.0, \"Route\": \"Eastern Sierra Vehicle Positions 754c5b012195800c38dc58e72e4f482e\", \"Speed_Int\": 0, \"Route Type\": \"Loop or Inlining: 0\", \"Rounded Speed\": 0}, {\"Gtfs Dataset Name\": \"Eastern Sierra Vehicle Positions\", \"Shape Array Key\": \"e3c5ed2c6fa6cd5c5cd57d46aeb3cd8e\", \"Trip Id\": \"t_195132_b_78389_tn_1\", \"Sorted Stop Seq\": 1, \"Gtfs Dataset Key\": \"64b3bb0d6a6888b62be32aa789cc37ef\", \"Loop Or Inlining\": 0, \"N Trips\": 1, \"Variable\": \"P20 Speed Mph\", \"Speed\": 34.6, \"Route\": \"Eastern Sierra Vehicle Positions e3c5ed2c6fa6cd5c5cd57d46aeb3cd8e\", \"Speed_Int\": 34, \"Route Type\": \"Loop or Inlining: 0\", \"Rounded Speed\": 35}, {\"Gtfs Dataset Name\": \"Eastern Sierra Vehicle Positions\", \"Shape Array Key\": \"e3c5ed2c6fa6cd5c5cd57d46aeb3cd8e\", \"Trip Id\": \"t_195132_b_78389_tn_1\", \"Sorted Stop Seq\": 2, \"Gtfs Dataset Key\": \"64b3bb0d6a6888b62be32aa789cc37ef\", \"Loop Or Inlining\": 0, \"N Trips\": 1, \"Variable\": \"P20 Speed Mph\", \"Speed\": 0.5, \"Route\": \"Eastern Sierra Vehicle Positions e3c5ed2c6fa6cd5c5cd57d46aeb3cd8e\", \"Speed_Int\": 0, \"Route Type\": \"Loop or Inlining: 0\", \"Rounded Speed\": 0}, {\"Gtfs Dataset Name\": \"Eastern Sierra Vehicle Positions\", \"Shape Array Key\": \"e3c5ed2c6fa6cd5c5cd57d46aeb3cd8e\", \"Trip Id\": \"t_195132_b_78389_tn_1\", \"Sorted Stop Seq\": 3, \"Gtfs Dataset Key\": \"64b3bb0d6a6888b62be32aa789cc37ef\", \"Loop Or Inlining\": 0, \"N Trips\": 1, \"Variable\": \"P20 Speed Mph\", \"Speed\": 0.5, \"Route\": \"Eastern Sierra Vehicle Positions e3c5ed2c6fa6cd5c5cd57d46aeb3cd8e\", \"Speed_Int\": 0, \"Route Type\": \"Loop or Inlining: 0\", \"Rounded Speed\": 0}, {\"Gtfs Dataset Name\": \"Eastern Sierra Vehicle Positions\", \"Shape Array Key\": \"e3c5ed2c6fa6cd5c5cd57d46aeb3cd8e\", \"Trip Id\": \"t_195132_b_78389_tn_1\", \"Sorted Stop Seq\": 4, \"Gtfs Dataset Key\": \"64b3bb0d6a6888b62be32aa789cc37ef\", \"Loop Or Inlining\": 0, \"N Trips\": 1, \"Variable\": \"P20 Speed Mph\", \"Speed\": 11.8, \"Route\": \"Eastern Sierra Vehicle Positions e3c5ed2c6fa6cd5c5cd57d46aeb3cd8e\", \"Speed_Int\": 11, \"Route Type\": \"Loop or Inlining: 0\", \"Rounded Speed\": 15}, {\"Gtfs Dataset Name\": \"Anaheim Resort VehiclePositions\", \"Shape Array Key\": \"29d2bbdbeaec1d6888800f85bebf6e33\", \"Trip Id\": \"aa6a03fe-f119-44a5-8976-2ad77ceeb89f:1\", \"Sorted Stop Seq\": 1, \"Gtfs Dataset Key\": \"1051e067d18a76b0a79789f051d5c22b\", \"Loop Or Inlining\": 1, \"N Trips\": 8, \"Variable\": \"P80 Speed Mph\", \"Speed\": 0.0, \"Route\": \"Anaheim Resort VehiclePositions 29d2bbdbeaec1d6888800f85bebf6e33\", \"Speed_Int\": 0, \"Route Type\": \"Loop or Inlining: 1\", \"Rounded Speed\": 0}, {\"Gtfs Dataset Name\": \"Anaheim Resort VehiclePositions\", \"Shape Array Key\": \"29d2bbdbeaec1d6888800f85bebf6e33\", \"Trip Id\": \"aa6a03fe-f119-44a5-8976-2ad77ceeb89f:1\", \"Sorted Stop Seq\": 2, \"Gtfs Dataset Key\": \"1051e067d18a76b0a79789f051d5c22b\", \"Loop Or Inlining\": 1, \"N Trips\": 8, \"Variable\": \"P80 Speed Mph\", \"Speed\": 11.1, \"Route\": \"Anaheim Resort VehiclePositions 29d2bbdbeaec1d6888800f85bebf6e33\", \"Speed_Int\": 11, \"Route Type\": \"Loop or Inlining: 1\", \"Rounded Speed\": 15}, {\"Gtfs Dataset Name\": \"Anaheim Resort VehiclePositions\", \"Shape Array Key\": \"29d2bbdbeaec1d6888800f85bebf6e33\", \"Trip Id\": \"aa6a03fe-f119-44a5-8976-2ad77ceeb89f:1\", \"Sorted Stop Seq\": 3, \"Gtfs Dataset Key\": \"1051e067d18a76b0a79789f051d5c22b\", \"Loop Or Inlining\": 1, \"N Trips\": 8, \"Variable\": \"P80 Speed Mph\", \"Speed\": 4.8, \"Route\": \"Anaheim Resort VehiclePositions 29d2bbdbeaec1d6888800f85bebf6e33\", \"Speed_Int\": 4, \"Route Type\": \"Loop or Inlining: 1\", \"Rounded Speed\": 5}, {\"Gtfs Dataset Name\": \"Anaheim Resort VehiclePositions\", \"Shape Array Key\": \"29d2bbdbeaec1d6888800f85bebf6e33\", \"Trip Id\": \"aa6a03fe-f119-44a5-8976-2ad77ceeb89f:1\", \"Sorted Stop Seq\": 4, \"Gtfs Dataset Key\": \"1051e067d18a76b0a79789f051d5c22b\", \"Loop Or Inlining\": 1, \"N Trips\": 8, \"Variable\": \"P80 Speed Mph\", \"Speed\": 5.7, \"Route\": \"Anaheim Resort VehiclePositions 29d2bbdbeaec1d6888800f85bebf6e33\", \"Speed_Int\": 5, \"Route Type\": \"Loop or Inlining: 1\", \"Rounded Speed\": 5}, {\"Gtfs Dataset Name\": \"Anaheim Resort VehiclePositions\", \"Shape Array Key\": \"29d2bbdbeaec1d6888800f85bebf6e33\", \"Trip Id\": \"aa6a03fe-f119-44a5-8976-2ad77ceeb89f:1\", \"Sorted Stop Seq\": 5, \"Gtfs Dataset Key\": \"1051e067d18a76b0a79789f051d5c22b\", \"Loop Or Inlining\": 1, \"N Trips\": 8, \"Variable\": \"P80 Speed Mph\", \"Speed\": 0.9, \"Route\": \"Anaheim Resort VehiclePositions 29d2bbdbeaec1d6888800f85bebf6e33\", \"Speed_Int\": 0, \"Route Type\": \"Loop or Inlining: 1\", \"Rounded Speed\": 0}, {\"Gtfs Dataset Name\": \"Anaheim Resort VehiclePositions\", \"Shape Array Key\": \"29d2bbdbeaec1d6888800f85bebf6e33\", \"Trip Id\": \"aa6a03fe-f119-44a5-8976-2ad77ceeb89f:1\", \"Sorted Stop Seq\": 6, \"Gtfs Dataset Key\": \"1051e067d18a76b0a79789f051d5c22b\", \"Loop Or Inlining\": 1, \"N Trips\": 8, \"Variable\": \"P80 Speed Mph\", \"Speed\": 3.4, \"Route\": \"Anaheim Resort VehiclePositions 29d2bbdbeaec1d6888800f85bebf6e33\", \"Speed_Int\": 3, \"Route Type\": \"Loop or Inlining: 1\", \"Rounded Speed\": 5}, {\"Gtfs Dataset Name\": \"Anaheim Resort VehiclePositions\", \"Shape Array Key\": \"29d2bbdbeaec1d6888800f85bebf6e33\", \"Trip Id\": \"aa6a03fe-f119-44a5-8976-2ad77ceeb89f:1\", \"Sorted Stop Seq\": 7, \"Gtfs Dataset Key\": \"1051e067d18a76b0a79789f051d5c22b\", \"Loop Or Inlining\": 1, \"N Trips\": 8, \"Variable\": \"P80 Speed Mph\", \"Speed\": 4.4, \"Route\": \"Anaheim Resort VehiclePositions 29d2bbdbeaec1d6888800f85bebf6e33\", \"Speed_Int\": 4, \"Route Type\": \"Loop or Inlining: 1\", \"Rounded Speed\": 5}, {\"Gtfs Dataset Name\": \"Anaheim Resort VehiclePositions\", \"Shape Array Key\": \"29d2bbdbeaec1d6888800f85bebf6e33\", \"Trip Id\": \"aa6a03fe-f119-44a5-8976-2ad77ceeb89f:1\", \"Sorted Stop Seq\": 8, \"Gtfs Dataset Key\": \"1051e067d18a76b0a79789f051d5c22b\", \"Loop Or Inlining\": 1, \"N Trips\": 8, \"Variable\": \"P80 Speed Mph\", \"Speed\": 6.2, \"Route\": \"Anaheim Resort VehiclePositions 29d2bbdbeaec1d6888800f85bebf6e33\", \"Speed_Int\": 6, \"Route Type\": \"Loop or Inlining: 1\", \"Rounded Speed\": 10}, {\"Gtfs Dataset Name\": \"Anaheim Resort VehiclePositions\", \"Shape Array Key\": \"29d2bbdbeaec1d6888800f85bebf6e33\", \"Trip Id\": \"aa6a03fe-f119-44a5-8976-2ad77ceeb89f:1\", \"Sorted Stop Seq\": 9, \"Gtfs Dataset Key\": \"1051e067d18a76b0a79789f051d5c22b\", \"Loop Or Inlining\": 1, \"N Trips\": 8, \"Variable\": \"P80 Speed Mph\", \"Speed\": 6.8, \"Route\": \"Anaheim Resort VehiclePositions 29d2bbdbeaec1d6888800f85bebf6e33\", \"Speed_Int\": 6, \"Route Type\": \"Loop or Inlining: 1\", \"Rounded Speed\": 10}, {\"Gtfs Dataset Name\": \"Eastern Sierra Vehicle Positions\", \"Shape Array Key\": \"754c5b012195800c38dc58e72e4f482e\", \"Trip Id\": \"t_97725_b_2397_tn_11\", \"Sorted Stop Seq\": 1, \"Gtfs Dataset Key\": \"64b3bb0d6a6888b62be32aa789cc37ef\", \"Loop Or Inlining\": 0, \"N Trips\": 8, \"Variable\": \"P80 Speed Mph\", \"Speed\": 0.0, \"Route\": \"Eastern Sierra Vehicle Positions 754c5b012195800c38dc58e72e4f482e\", \"Speed_Int\": 0, \"Route Type\": \"Loop or Inlining: 0\", \"Rounded Speed\": 0}, {\"Gtfs Dataset Name\": \"Eastern Sierra Vehicle Positions\", \"Shape Array Key\": \"754c5b012195800c38dc58e72e4f482e\", \"Trip Id\": \"t_97725_b_2397_tn_11\", \"Sorted Stop Seq\": 2, \"Gtfs Dataset Key\": \"64b3bb0d6a6888b62be32aa789cc37ef\", \"Loop Or Inlining\": 0, \"N Trips\": 9, \"Variable\": \"P80 Speed Mph\", \"Speed\": 5.1, \"Route\": \"Eastern Sierra Vehicle Positions 754c5b012195800c38dc58e72e4f482e\", \"Speed_Int\": 5, \"Route Type\": \"Loop or Inlining: 0\", \"Rounded Speed\": 5}, {\"Gtfs Dataset Name\": \"Eastern Sierra Vehicle Positions\", \"Shape Array Key\": \"754c5b012195800c38dc58e72e4f482e\", \"Trip Id\": \"t_97725_b_2397_tn_13\", \"Sorted Stop Seq\": 3, \"Gtfs Dataset Key\": \"64b3bb0d6a6888b62be32aa789cc37ef\", \"Loop Or Inlining\": 0, \"N Trips\": 1, \"Variable\": \"P80 Speed Mph\", \"Speed\": 0.0, \"Route\": \"Eastern Sierra Vehicle Positions 754c5b012195800c38dc58e72e4f482e\", \"Speed_Int\": 0, \"Route Type\": \"Loop or Inlining: 0\", \"Rounded Speed\": 0}, {\"Gtfs Dataset Name\": \"Eastern Sierra Vehicle Positions\", \"Shape Array Key\": \"754c5b012195800c38dc58e72e4f482e\", \"Trip Id\": \"t_97725_b_2397_tn_9\", \"Sorted Stop Seq\": 1, \"Gtfs Dataset Key\": \"64b3bb0d6a6888b62be32aa789cc37ef\", \"Loop Or Inlining\": 0, \"N Trips\": 9, \"Variable\": \"P80 Speed Mph\", \"Speed\": 5.1, \"Route\": \"Eastern Sierra Vehicle Positions 754c5b012195800c38dc58e72e4f482e\", \"Speed_Int\": 5, \"Route Type\": \"Loop or Inlining: 0\", \"Rounded Speed\": 5}, {\"Gtfs Dataset Name\": \"Eastern Sierra Vehicle Positions\", \"Shape Array Key\": \"754c5b012195800c38dc58e72e4f482e\", \"Trip Id\": \"t_97725_b_2397_tn_9\", \"Sorted Stop Seq\": 2, \"Gtfs Dataset Key\": \"64b3bb0d6a6888b62be32aa789cc37ef\", \"Loop Or Inlining\": 0, \"N Trips\": 1, \"Variable\": \"P80 Speed Mph\", \"Speed\": 0.0, \"Route\": \"Eastern Sierra Vehicle Positions 754c5b012195800c38dc58e72e4f482e\", \"Speed_Int\": 0, \"Route Type\": \"Loop or Inlining: 0\", \"Rounded Speed\": 0}, {\"Gtfs Dataset Name\": \"Eastern Sierra Vehicle Positions\", \"Shape Array Key\": \"e3c5ed2c6fa6cd5c5cd57d46aeb3cd8e\", \"Trip Id\": \"t_195132_b_78389_tn_1\", \"Sorted Stop Seq\": 1, \"Gtfs Dataset Key\": \"64b3bb0d6a6888b62be32aa789cc37ef\", \"Loop Or Inlining\": 0, \"N Trips\": 1, \"Variable\": \"P80 Speed Mph\", \"Speed\": 34.6, \"Route\": \"Eastern Sierra Vehicle Positions e3c5ed2c6fa6cd5c5cd57d46aeb3cd8e\", \"Speed_Int\": 34, \"Route Type\": \"Loop or Inlining: 0\", \"Rounded Speed\": 35}, {\"Gtfs Dataset Name\": \"Eastern Sierra Vehicle Positions\", \"Shape Array Key\": \"e3c5ed2c6fa6cd5c5cd57d46aeb3cd8e\", \"Trip Id\": \"t_195132_b_78389_tn_1\", \"Sorted Stop Seq\": 2, \"Gtfs Dataset Key\": \"64b3bb0d6a6888b62be32aa789cc37ef\", \"Loop Or Inlining\": 0, \"N Trips\": 1, \"Variable\": \"P80 Speed Mph\", \"Speed\": 0.5, \"Route\": \"Eastern Sierra Vehicle Positions e3c5ed2c6fa6cd5c5cd57d46aeb3cd8e\", \"Speed_Int\": 0, \"Route Type\": \"Loop or Inlining: 0\", \"Rounded Speed\": 0}, {\"Gtfs Dataset Name\": \"Eastern Sierra Vehicle Positions\", \"Shape Array Key\": \"e3c5ed2c6fa6cd5c5cd57d46aeb3cd8e\", \"Trip Id\": \"t_195132_b_78389_tn_1\", \"Sorted Stop Seq\": 3, \"Gtfs Dataset Key\": \"64b3bb0d6a6888b62be32aa789cc37ef\", \"Loop Or Inlining\": 0, \"N Trips\": 1, \"Variable\": \"P80 Speed Mph\", \"Speed\": 0.5, \"Route\": \"Eastern Sierra Vehicle Positions e3c5ed2c6fa6cd5c5cd57d46aeb3cd8e\", \"Speed_Int\": 0, \"Route Type\": \"Loop or Inlining: 0\", \"Rounded Speed\": 0}, {\"Gtfs Dataset Name\": \"Eastern Sierra Vehicle Positions\", \"Shape Array Key\": \"e3c5ed2c6fa6cd5c5cd57d46aeb3cd8e\", \"Trip Id\": \"t_195132_b_78389_tn_1\", \"Sorted Stop Seq\": 4, \"Gtfs Dataset Key\": \"64b3bb0d6a6888b62be32aa789cc37ef\", \"Loop Or Inlining\": 0, \"N Trips\": 1, \"Variable\": \"P80 Speed Mph\", \"Speed\": 11.8, \"Route\": \"Eastern Sierra Vehicle Positions e3c5ed2c6fa6cd5c5cd57d46aeb3cd8e\", \"Speed_Int\": 11, \"Route Type\": \"Loop or Inlining: 0\", \"Rounded Speed\": 15}], \"data-f2ba87bbdbe86737950ad697e733cb9d\": [{\"Gtfs Dataset Name\": \"Anaheim Resort VehiclePositions\", \"Shape Array Key\": \"29d2bbdbeaec1d6888800f85bebf6e33\", \"Trip Id\": \"aa6a03fe-f119-44a5-8976-2ad77ceeb89f:1\", \"Sorted Stop Seq\": 1, \"Gtfs Dataset Key\": \"1051e067d18a76b0a79789f051d5c22b\", \"Loop Or Inlining\": 1, \"N Trips\": 8, \"Variable\": \"Speed Mph\", \"Speed\": 0.0, \"Route\": \"Anaheim Resort VehiclePositions 29d2bbdbeaec1d6888800f85bebf6e33\", \"Speed_Int\": 0, \"Route Type\": \"Loop or Inlining: 1\", \"Rounded Speed\": 0}, {\"Gtfs Dataset Name\": \"Anaheim Resort VehiclePositions\", \"Shape Array Key\": \"29d2bbdbeaec1d6888800f85bebf6e33\", \"Trip Id\": \"aa6a03fe-f119-44a5-8976-2ad77ceeb89f:1\", \"Sorted Stop Seq\": 2, \"Gtfs Dataset Key\": \"1051e067d18a76b0a79789f051d5c22b\", \"Loop Or Inlining\": 1, \"N Trips\": 8, \"Variable\": \"Speed Mph\", \"Speed\": 1.5, \"Route\": \"Anaheim Resort VehiclePositions 29d2bbdbeaec1d6888800f85bebf6e33\", \"Speed_Int\": 1, \"Route Type\": \"Loop or Inlining: 1\", \"Rounded Speed\": 5}, {\"Gtfs Dataset Name\": \"Anaheim Resort VehiclePositions\", \"Shape Array Key\": \"29d2bbdbeaec1d6888800f85bebf6e33\", \"Trip Id\": \"aa6a03fe-f119-44a5-8976-2ad77ceeb89f:1\", \"Sorted Stop Seq\": 3, \"Gtfs Dataset Key\": \"1051e067d18a76b0a79789f051d5c22b\", \"Loop Or Inlining\": 1, \"N Trips\": 8, \"Variable\": \"Speed Mph\", \"Speed\": 3.8, \"Route\": \"Anaheim Resort VehiclePositions 29d2bbdbeaec1d6888800f85bebf6e33\", \"Speed_Int\": 3, \"Route Type\": \"Loop or Inlining: 1\", \"Rounded Speed\": 5}, {\"Gtfs Dataset Name\": \"Anaheim Resort VehiclePositions\", \"Shape Array Key\": \"29d2bbdbeaec1d6888800f85bebf6e33\", \"Trip Id\": \"aa6a03fe-f119-44a5-8976-2ad77ceeb89f:1\", \"Sorted Stop Seq\": 4, \"Gtfs Dataset Key\": \"1051e067d18a76b0a79789f051d5c22b\", \"Loop Or Inlining\": 1, \"N Trips\": 8, \"Variable\": \"Speed Mph\", \"Speed\": 8.9, \"Route\": \"Anaheim Resort VehiclePositions 29d2bbdbeaec1d6888800f85bebf6e33\", \"Speed_Int\": 8, \"Route Type\": \"Loop or Inlining: 1\", \"Rounded Speed\": 10}, {\"Gtfs Dataset Name\": \"Anaheim Resort VehiclePositions\", \"Shape Array Key\": \"29d2bbdbeaec1d6888800f85bebf6e33\", \"Trip Id\": \"aa6a03fe-f119-44a5-8976-2ad77ceeb89f:1\", \"Sorted Stop Seq\": 5, \"Gtfs Dataset Key\": \"1051e067d18a76b0a79789f051d5c22b\", \"Loop Or Inlining\": 1, \"N Trips\": 8, \"Variable\": \"Speed Mph\", \"Speed\": 0.4, \"Route\": \"Anaheim Resort VehiclePositions 29d2bbdbeaec1d6888800f85bebf6e33\", \"Speed_Int\": 0, \"Route Type\": \"Loop or Inlining: 1\", \"Rounded Speed\": 0}, {\"Gtfs Dataset Name\": \"Anaheim Resort VehiclePositions\", \"Shape Array Key\": \"29d2bbdbeaec1d6888800f85bebf6e33\", \"Trip Id\": \"aa6a03fe-f119-44a5-8976-2ad77ceeb89f:1\", \"Sorted Stop Seq\": 6, \"Gtfs Dataset Key\": \"1051e067d18a76b0a79789f051d5c22b\", \"Loop Or Inlining\": 1, \"N Trips\": 8, \"Variable\": \"Speed Mph\", \"Speed\": 3.2, \"Route\": \"Anaheim Resort VehiclePositions 29d2bbdbeaec1d6888800f85bebf6e33\", \"Speed_Int\": 3, \"Route Type\": \"Loop or Inlining: 1\", \"Rounded Speed\": 5}, {\"Gtfs Dataset Name\": \"Anaheim Resort VehiclePositions\", \"Shape Array Key\": \"29d2bbdbeaec1d6888800f85bebf6e33\", \"Trip Id\": \"aa6a03fe-f119-44a5-8976-2ad77ceeb89f:1\", \"Sorted Stop Seq\": 7, \"Gtfs Dataset Key\": \"1051e067d18a76b0a79789f051d5c22b\", \"Loop Or Inlining\": 1, \"N Trips\": 8, \"Variable\": \"Speed Mph\", \"Speed\": 5.7, \"Route\": \"Anaheim Resort VehiclePositions 29d2bbdbeaec1d6888800f85bebf6e33\", \"Speed_Int\": 5, \"Route Type\": \"Loop or Inlining: 1\", \"Rounded Speed\": 5}, {\"Gtfs Dataset Name\": \"Anaheim Resort VehiclePositions\", \"Shape Array Key\": \"29d2bbdbeaec1d6888800f85bebf6e33\", \"Trip Id\": \"aa6a03fe-f119-44a5-8976-2ad77ceeb89f:1\", \"Sorted Stop Seq\": 8, \"Gtfs Dataset Key\": \"1051e067d18a76b0a79789f051d5c22b\", \"Loop Or Inlining\": 1, \"N Trips\": 8, \"Variable\": \"Speed Mph\", \"Speed\": 7.2, \"Route\": \"Anaheim Resort VehiclePositions 29d2bbdbeaec1d6888800f85bebf6e33\", \"Speed_Int\": 7, \"Route Type\": \"Loop or Inlining: 1\", \"Rounded Speed\": 10}, {\"Gtfs Dataset Name\": \"Anaheim Resort VehiclePositions\", \"Shape Array Key\": \"29d2bbdbeaec1d6888800f85bebf6e33\", \"Trip Id\": \"aa6a03fe-f119-44a5-8976-2ad77ceeb89f:1\", \"Sorted Stop Seq\": 9, \"Gtfs Dataset Key\": \"1051e067d18a76b0a79789f051d5c22b\", \"Loop Or Inlining\": 1, \"N Trips\": 8, \"Variable\": \"Speed Mph\", \"Speed\": 7.0, \"Route\": \"Anaheim Resort VehiclePositions 29d2bbdbeaec1d6888800f85bebf6e33\", \"Speed_Int\": 7, \"Route Type\": \"Loop or Inlining: 1\", \"Rounded Speed\": 10}, {\"Gtfs Dataset Name\": \"Anaheim Resort VehiclePositions\", \"Shape Array Key\": \"29d2bbdbeaec1d6888800f85bebf6e33\", \"Trip Id\": \"aa6a03fe-f119-44a5-8976-2ad77ceeb89f:2\", \"Sorted Stop Seq\": 1, \"Gtfs Dataset Key\": \"1051e067d18a76b0a79789f051d5c22b\", \"Loop Or Inlining\": 1, \"N Trips\": 8, \"Variable\": \"Speed Mph\", \"Speed\": 0.0, \"Route\": \"Anaheim Resort VehiclePositions 29d2bbdbeaec1d6888800f85bebf6e33\", \"Speed_Int\": 0, \"Route Type\": \"Loop or Inlining: 1\", \"Rounded Speed\": 0}, {\"Gtfs Dataset Name\": \"Anaheim Resort VehiclePositions\", \"Shape Array Key\": \"29d2bbdbeaec1d6888800f85bebf6e33\", \"Trip Id\": \"aa6a03fe-f119-44a5-8976-2ad77ceeb89f:2\", \"Sorted Stop Seq\": 2, \"Gtfs Dataset Key\": \"1051e067d18a76b0a79789f051d5c22b\", \"Loop Or Inlining\": 1, \"N Trips\": 8, \"Variable\": \"Speed Mph\", \"Speed\": 12.1, \"Route\": \"Anaheim Resort VehiclePositions 29d2bbdbeaec1d6888800f85bebf6e33\", \"Speed_Int\": 12, \"Route Type\": \"Loop or Inlining: 1\", \"Rounded Speed\": 15}, {\"Gtfs Dataset Name\": \"Anaheim Resort VehiclePositions\", \"Shape Array Key\": \"29d2bbdbeaec1d6888800f85bebf6e33\", \"Trip Id\": \"aa6a03fe-f119-44a5-8976-2ad77ceeb89f:2\", \"Sorted Stop Seq\": 3, \"Gtfs Dataset Key\": \"1051e067d18a76b0a79789f051d5c22b\", \"Loop Or Inlining\": 1, \"N Trips\": 8, \"Variable\": \"Speed Mph\", \"Speed\": 3.5, \"Route\": \"Anaheim Resort VehiclePositions 29d2bbdbeaec1d6888800f85bebf6e33\", \"Speed_Int\": 3, \"Route Type\": \"Loop or Inlining: 1\", \"Rounded Speed\": 5}, {\"Gtfs Dataset Name\": \"Anaheim Resort VehiclePositions\", \"Shape Array Key\": \"29d2bbdbeaec1d6888800f85bebf6e33\", \"Trip Id\": \"aa6a03fe-f119-44a5-8976-2ad77ceeb89f:2\", \"Sorted Stop Seq\": 4, \"Gtfs Dataset Key\": \"1051e067d18a76b0a79789f051d5c22b\", \"Loop Or Inlining\": 1, \"N Trips\": 8, \"Variable\": \"Speed Mph\", \"Speed\": 4.7, \"Route\": \"Anaheim Resort VehiclePositions 29d2bbdbeaec1d6888800f85bebf6e33\", \"Speed_Int\": 4, \"Route Type\": \"Loop or Inlining: 1\", \"Rounded Speed\": 5}, {\"Gtfs Dataset Name\": \"Anaheim Resort VehiclePositions\", \"Shape Array Key\": \"29d2bbdbeaec1d6888800f85bebf6e33\", \"Trip Id\": \"aa6a03fe-f119-44a5-8976-2ad77ceeb89f:2\", \"Sorted Stop Seq\": 5, \"Gtfs Dataset Key\": \"1051e067d18a76b0a79789f051d5c22b\", \"Loop Or Inlining\": 1, \"N Trips\": 8, \"Variable\": \"Speed Mph\", \"Speed\": 0.9, \"Route\": \"Anaheim Resort VehiclePositions 29d2bbdbeaec1d6888800f85bebf6e33\", \"Speed_Int\": 0, \"Route Type\": \"Loop or Inlining: 1\", \"Rounded Speed\": 0}, {\"Gtfs Dataset Name\": \"Anaheim Resort VehiclePositions\", \"Shape Array Key\": \"29d2bbdbeaec1d6888800f85bebf6e33\", \"Trip Id\": \"aa6a03fe-f119-44a5-8976-2ad77ceeb89f:2\", \"Sorted Stop Seq\": 6, \"Gtfs Dataset Key\": \"1051e067d18a76b0a79789f051d5c22b\", \"Loop Or Inlining\": 1, \"N Trips\": 8, \"Variable\": \"Speed Mph\", \"Speed\": 0.1, \"Route\": \"Anaheim Resort VehiclePositions 29d2bbdbeaec1d6888800f85bebf6e33\", \"Speed_Int\": 0, \"Route Type\": \"Loop or Inlining: 1\", \"Rounded Speed\": 0}, {\"Gtfs Dataset Name\": \"Anaheim Resort VehiclePositions\", \"Shape Array Key\": \"29d2bbdbeaec1d6888800f85bebf6e33\", \"Trip Id\": \"aa6a03fe-f119-44a5-8976-2ad77ceeb89f:2\", \"Sorted Stop Seq\": 7, \"Gtfs Dataset Key\": \"1051e067d18a76b0a79789f051d5c22b\", \"Loop Or Inlining\": 1, \"N Trips\": 8, \"Variable\": \"Speed Mph\", \"Speed\": 4.2, \"Route\": \"Anaheim Resort VehiclePositions 29d2bbdbeaec1d6888800f85bebf6e33\", \"Speed_Int\": 4, \"Route Type\": \"Loop or Inlining: 1\", \"Rounded Speed\": 5}, {\"Gtfs Dataset Name\": \"Anaheim Resort VehiclePositions\", \"Shape Array Key\": \"29d2bbdbeaec1d6888800f85bebf6e33\", \"Trip Id\": \"aa6a03fe-f119-44a5-8976-2ad77ceeb89f:2\", \"Sorted Stop Seq\": 8, \"Gtfs Dataset Key\": \"1051e067d18a76b0a79789f051d5c22b\", \"Loop Or Inlining\": 1, \"N Trips\": 8, \"Variable\": \"Speed Mph\", \"Speed\": 4.0, \"Route\": \"Anaheim Resort VehiclePositions 29d2bbdbeaec1d6888800f85bebf6e33\", \"Speed_Int\": 4, \"Route Type\": \"Loop or Inlining: 1\", \"Rounded Speed\": 5}, {\"Gtfs Dataset Name\": \"Anaheim Resort VehiclePositions\", \"Shape Array Key\": \"29d2bbdbeaec1d6888800f85bebf6e33\", \"Trip Id\": \"aa6a03fe-f119-44a5-8976-2ad77ceeb89f:2\", \"Sorted Stop Seq\": 9, \"Gtfs Dataset Key\": \"1051e067d18a76b0a79789f051d5c22b\", \"Loop Or Inlining\": 1, \"N Trips\": 8, \"Variable\": \"Speed Mph\", \"Speed\": 2.8, \"Route\": \"Anaheim Resort VehiclePositions 29d2bbdbeaec1d6888800f85bebf6e33\", \"Speed_Int\": 2, \"Route Type\": \"Loop or Inlining: 1\", \"Rounded Speed\": 5}, {\"Gtfs Dataset Name\": \"Anaheim Resort VehiclePositions\", \"Shape Array Key\": \"29d2bbdbeaec1d6888800f85bebf6e33\", \"Trip Id\": \"aa6a03fe-f119-44a5-8976-2ad77ceeb89f:3\", \"Sorted Stop Seq\": 1, \"Gtfs Dataset Key\": \"1051e067d18a76b0a79789f051d5c22b\", \"Loop Or Inlining\": 1, \"N Trips\": 8, \"Variable\": \"Speed Mph\", \"Speed\": 0.0, \"Route\": \"Anaheim Resort VehiclePositions 29d2bbdbeaec1d6888800f85bebf6e33\", \"Speed_Int\": 0, \"Route Type\": \"Loop or Inlining: 1\", \"Rounded Speed\": 0}, {\"Gtfs Dataset Name\": \"Anaheim Resort VehiclePositions\", \"Shape Array Key\": \"29d2bbdbeaec1d6888800f85bebf6e33\", \"Trip Id\": \"aa6a03fe-f119-44a5-8976-2ad77ceeb89f:3\", \"Sorted Stop Seq\": 2, \"Gtfs Dataset Key\": \"1051e067d18a76b0a79789f051d5c22b\", \"Loop Or Inlining\": 1, \"N Trips\": 8, \"Variable\": \"Speed Mph\", \"Speed\": 6.7, \"Route\": \"Anaheim Resort VehiclePositions 29d2bbdbeaec1d6888800f85bebf6e33\", \"Speed_Int\": 6, \"Route Type\": \"Loop or Inlining: 1\", \"Rounded Speed\": 10}, {\"Gtfs Dataset Name\": \"Anaheim Resort VehiclePositions\", \"Shape Array Key\": \"29d2bbdbeaec1d6888800f85bebf6e33\", \"Trip Id\": \"aa6a03fe-f119-44a5-8976-2ad77ceeb89f:3\", \"Sorted Stop Seq\": 3, \"Gtfs Dataset Key\": \"1051e067d18a76b0a79789f051d5c22b\", \"Loop Or Inlining\": 1, \"N Trips\": 8, \"Variable\": \"Speed Mph\", \"Speed\": 5.2, \"Route\": \"Anaheim Resort VehiclePositions 29d2bbdbeaec1d6888800f85bebf6e33\", \"Speed_Int\": 5, \"Route Type\": \"Loop or Inlining: 1\", \"Rounded Speed\": 5}, {\"Gtfs Dataset Name\": \"Anaheim Resort VehiclePositions\", \"Shape Array Key\": \"29d2bbdbeaec1d6888800f85bebf6e33\", \"Trip Id\": \"aa6a03fe-f119-44a5-8976-2ad77ceeb89f:3\", \"Sorted Stop Seq\": 4, \"Gtfs Dataset Key\": \"1051e067d18a76b0a79789f051d5c22b\", \"Loop Or Inlining\": 1, \"N Trips\": 8, \"Variable\": \"Speed Mph\", \"Speed\": 5.5, \"Route\": \"Anaheim Resort VehiclePositions 29d2bbdbeaec1d6888800f85bebf6e33\", \"Speed_Int\": 5, \"Route Type\": \"Loop or Inlining: 1\", \"Rounded Speed\": 5}, {\"Gtfs Dataset Name\": \"Anaheim Resort VehiclePositions\", \"Shape Array Key\": \"29d2bbdbeaec1d6888800f85bebf6e33\", \"Trip Id\": \"aa6a03fe-f119-44a5-8976-2ad77ceeb89f:3\", \"Sorted Stop Seq\": 5, \"Gtfs Dataset Key\": \"1051e067d18a76b0a79789f051d5c22b\", \"Loop Or Inlining\": 1, \"N Trips\": 8, \"Variable\": \"Speed Mph\", \"Speed\": 0.6, \"Route\": \"Anaheim Resort VehiclePositions 29d2bbdbeaec1d6888800f85bebf6e33\", \"Speed_Int\": 0, \"Route Type\": \"Loop or Inlining: 1\", \"Rounded Speed\": 0}, {\"Gtfs Dataset Name\": \"Anaheim Resort VehiclePositions\", \"Shape Array Key\": \"29d2bbdbeaec1d6888800f85bebf6e33\", \"Trip Id\": \"aa6a03fe-f119-44a5-8976-2ad77ceeb89f:3\", \"Sorted Stop Seq\": 6, \"Gtfs Dataset Key\": \"1051e067d18a76b0a79789f051d5c22b\", \"Loop Or Inlining\": 1, \"N Trips\": 8, \"Variable\": \"Speed Mph\", \"Speed\": 5.2, \"Route\": \"Anaheim Resort VehiclePositions 29d2bbdbeaec1d6888800f85bebf6e33\", \"Speed_Int\": 5, \"Route Type\": \"Loop or Inlining: 1\", \"Rounded Speed\": 5}, {\"Gtfs Dataset Name\": \"Anaheim Resort VehiclePositions\", \"Shape Array Key\": \"29d2bbdbeaec1d6888800f85bebf6e33\", \"Trip Id\": \"aa6a03fe-f119-44a5-8976-2ad77ceeb89f:3\", \"Sorted Stop Seq\": 7, \"Gtfs Dataset Key\": \"1051e067d18a76b0a79789f051d5c22b\", \"Loop Or Inlining\": 1, \"N Trips\": 8, \"Variable\": \"Speed Mph\", \"Speed\": 2.7, \"Route\": \"Anaheim Resort VehiclePositions 29d2bbdbeaec1d6888800f85bebf6e33\", \"Speed_Int\": 2, \"Route Type\": \"Loop or Inlining: 1\", \"Rounded Speed\": 5}, {\"Gtfs Dataset Name\": \"Anaheim Resort VehiclePositions\", \"Shape Array Key\": \"29d2bbdbeaec1d6888800f85bebf6e33\", \"Trip Id\": \"aa6a03fe-f119-44a5-8976-2ad77ceeb89f:3\", \"Sorted Stop Seq\": 8, \"Gtfs Dataset Key\": \"1051e067d18a76b0a79789f051d5c22b\", \"Loop Or Inlining\": 1, \"N Trips\": 8, \"Variable\": \"Speed Mph\", \"Speed\": 4.6, \"Route\": \"Anaheim Resort VehiclePositions 29d2bbdbeaec1d6888800f85bebf6e33\", \"Speed_Int\": 4, \"Route Type\": \"Loop or Inlining: 1\", \"Rounded Speed\": 5}, {\"Gtfs Dataset Name\": \"Anaheim Resort VehiclePositions\", \"Shape Array Key\": \"29d2bbdbeaec1d6888800f85bebf6e33\", \"Trip Id\": \"aa6a03fe-f119-44a5-8976-2ad77ceeb89f:3\", \"Sorted Stop Seq\": 9, \"Gtfs Dataset Key\": \"1051e067d18a76b0a79789f051d5c22b\", \"Loop Or Inlining\": 1, \"N Trips\": 8, \"Variable\": \"Speed Mph\", \"Speed\": 5.1, \"Route\": \"Anaheim Resort VehiclePositions 29d2bbdbeaec1d6888800f85bebf6e33\", \"Speed_Int\": 5, \"Route Type\": \"Loop or Inlining: 1\", \"Rounded Speed\": 5}, {\"Gtfs Dataset Name\": \"Anaheim Resort VehiclePositions\", \"Shape Array Key\": \"29d2bbdbeaec1d6888800f85bebf6e33\", \"Trip Id\": \"aa6a03fe-f119-44a5-8976-2ad77ceeb89f:4\", \"Sorted Stop Seq\": 2, \"Gtfs Dataset Key\": \"1051e067d18a76b0a79789f051d5c22b\", \"Loop Or Inlining\": 1, \"N Trips\": 8, \"Variable\": \"Speed Mph\", \"Speed\": 9.1, \"Route\": \"Anaheim Resort VehiclePositions 29d2bbdbeaec1d6888800f85bebf6e33\", \"Speed_Int\": 9, \"Route Type\": \"Loop or Inlining: 1\", \"Rounded Speed\": 10}, {\"Gtfs Dataset Name\": \"Anaheim Resort VehiclePositions\", \"Shape Array Key\": \"29d2bbdbeaec1d6888800f85bebf6e33\", \"Trip Id\": \"aa6a03fe-f119-44a5-8976-2ad77ceeb89f:4\", \"Sorted Stop Seq\": 3, \"Gtfs Dataset Key\": \"1051e067d18a76b0a79789f051d5c22b\", \"Loop Or Inlining\": 1, \"N Trips\": 8, \"Variable\": \"Speed Mph\", \"Speed\": 4.0, \"Route\": \"Anaheim Resort VehiclePositions 29d2bbdbeaec1d6888800f85bebf6e33\", \"Speed_Int\": 4, \"Route Type\": \"Loop or Inlining: 1\", \"Rounded Speed\": 5}, {\"Gtfs Dataset Name\": \"Anaheim Resort VehiclePositions\", \"Shape Array Key\": \"29d2bbdbeaec1d6888800f85bebf6e33\", \"Trip Id\": \"aa6a03fe-f119-44a5-8976-2ad77ceeb89f:4\", \"Sorted Stop Seq\": 4, \"Gtfs Dataset Key\": \"1051e067d18a76b0a79789f051d5c22b\", \"Loop Or Inlining\": 1, \"N Trips\": 8, \"Variable\": \"Speed Mph\", \"Speed\": 1.9, \"Route\": \"Anaheim Resort VehiclePositions 29d2bbdbeaec1d6888800f85bebf6e33\", \"Speed_Int\": 1, \"Route Type\": \"Loop or Inlining: 1\", \"Rounded Speed\": 5}, {\"Gtfs Dataset Name\": \"Anaheim Resort VehiclePositions\", \"Shape Array Key\": \"29d2bbdbeaec1d6888800f85bebf6e33\", \"Trip Id\": \"aa6a03fe-f119-44a5-8976-2ad77ceeb89f:4\", \"Sorted Stop Seq\": 5, \"Gtfs Dataset Key\": \"1051e067d18a76b0a79789f051d5c22b\", \"Loop Or Inlining\": 1, \"N Trips\": 8, \"Variable\": \"Speed Mph\", \"Speed\": 0.7, \"Route\": \"Anaheim Resort VehiclePositions 29d2bbdbeaec1d6888800f85bebf6e33\", \"Speed_Int\": 0, \"Route Type\": \"Loop or Inlining: 1\", \"Rounded Speed\": 0}, {\"Gtfs Dataset Name\": \"Anaheim Resort VehiclePositions\", \"Shape Array Key\": \"29d2bbdbeaec1d6888800f85bebf6e33\", \"Trip Id\": \"aa6a03fe-f119-44a5-8976-2ad77ceeb89f:4\", \"Sorted Stop Seq\": 6, \"Gtfs Dataset Key\": \"1051e067d18a76b0a79789f051d5c22b\", \"Loop Or Inlining\": 1, \"N Trips\": 8, \"Variable\": \"Speed Mph\", \"Speed\": 0.0, \"Route\": \"Anaheim Resort VehiclePositions 29d2bbdbeaec1d6888800f85bebf6e33\", \"Speed_Int\": 0, \"Route Type\": \"Loop or Inlining: 1\", \"Rounded Speed\": 0}, {\"Gtfs Dataset Name\": \"Anaheim Resort VehiclePositions\", \"Shape Array Key\": \"29d2bbdbeaec1d6888800f85bebf6e33\", \"Trip Id\": \"aa6a03fe-f119-44a5-8976-2ad77ceeb89f:4\", \"Sorted Stop Seq\": 7, \"Gtfs Dataset Key\": \"1051e067d18a76b0a79789f051d5c22b\", \"Loop Or Inlining\": 1, \"N Trips\": 8, \"Variable\": \"Speed Mph\", \"Speed\": 3.7, \"Route\": \"Anaheim Resort VehiclePositions 29d2bbdbeaec1d6888800f85bebf6e33\", \"Speed_Int\": 3, \"Route Type\": \"Loop or Inlining: 1\", \"Rounded Speed\": 5}, {\"Gtfs Dataset Name\": \"Anaheim Resort VehiclePositions\", \"Shape Array Key\": \"29d2bbdbeaec1d6888800f85bebf6e33\", \"Trip Id\": \"aa6a03fe-f119-44a5-8976-2ad77ceeb89f:4\", \"Sorted Stop Seq\": 8, \"Gtfs Dataset Key\": \"1051e067d18a76b0a79789f051d5c22b\", \"Loop Or Inlining\": 1, \"N Trips\": 8, \"Variable\": \"Speed Mph\", \"Speed\": 7.5, \"Route\": \"Anaheim Resort VehiclePositions 29d2bbdbeaec1d6888800f85bebf6e33\", \"Speed_Int\": 7, \"Route Type\": \"Loop or Inlining: 1\", \"Rounded Speed\": 10}, {\"Gtfs Dataset Name\": \"Anaheim Resort VehiclePositions\", \"Shape Array Key\": \"29d2bbdbeaec1d6888800f85bebf6e33\", \"Trip Id\": \"aa6a03fe-f119-44a5-8976-2ad77ceeb89f:4\", \"Sorted Stop Seq\": 9, \"Gtfs Dataset Key\": \"1051e067d18a76b0a79789f051d5c22b\", \"Loop Or Inlining\": 1, \"N Trips\": 8, \"Variable\": \"Speed Mph\", \"Speed\": 3.2, \"Route\": \"Anaheim Resort VehiclePositions 29d2bbdbeaec1d6888800f85bebf6e33\", \"Speed_Int\": 3, \"Route Type\": \"Loop or Inlining: 1\", \"Rounded Speed\": 5}, {\"Gtfs Dataset Name\": \"Anaheim Resort VehiclePositions\", \"Shape Array Key\": \"29d2bbdbeaec1d6888800f85bebf6e33\", \"Trip Id\": \"aa6a03fe-f119-44a5-8976-2ad77ceeb89f:5\", \"Sorted Stop Seq\": 2, \"Gtfs Dataset Key\": \"1051e067d18a76b0a79789f051d5c22b\", \"Loop Or Inlining\": 1, \"N Trips\": 8, \"Variable\": \"Speed Mph\", \"Speed\": 12.2, \"Route\": \"Anaheim Resort VehiclePositions 29d2bbdbeaec1d6888800f85bebf6e33\", \"Speed_Int\": 12, \"Route Type\": \"Loop or Inlining: 1\", \"Rounded Speed\": 15}, {\"Gtfs Dataset Name\": \"Anaheim Resort VehiclePositions\", \"Shape Array Key\": \"29d2bbdbeaec1d6888800f85bebf6e33\", \"Trip Id\": \"aa6a03fe-f119-44a5-8976-2ad77ceeb89f:5\", \"Sorted Stop Seq\": 3, \"Gtfs Dataset Key\": \"1051e067d18a76b0a79789f051d5c22b\", \"Loop Or Inlining\": 1, \"N Trips\": 8, \"Variable\": \"Speed Mph\", \"Speed\": 3.7, \"Route\": \"Anaheim Resort VehiclePositions 29d2bbdbeaec1d6888800f85bebf6e33\", \"Speed_Int\": 3, \"Route Type\": \"Loop or Inlining: 1\", \"Rounded Speed\": 5}, {\"Gtfs Dataset Name\": \"Anaheim Resort VehiclePositions\", \"Shape Array Key\": \"29d2bbdbeaec1d6888800f85bebf6e33\", \"Trip Id\": \"aa6a03fe-f119-44a5-8976-2ad77ceeb89f:5\", \"Sorted Stop Seq\": 4, \"Gtfs Dataset Key\": \"1051e067d18a76b0a79789f051d5c22b\", \"Loop Or Inlining\": 1, \"N Trips\": 8, \"Variable\": \"Speed Mph\", \"Speed\": 2.7, \"Route\": \"Anaheim Resort VehiclePositions 29d2bbdbeaec1d6888800f85bebf6e33\", \"Speed_Int\": 2, \"Route Type\": \"Loop or Inlining: 1\", \"Rounded Speed\": 5}, {\"Gtfs Dataset Name\": \"Anaheim Resort VehiclePositions\", \"Shape Array Key\": \"29d2bbdbeaec1d6888800f85bebf6e33\", \"Trip Id\": \"aa6a03fe-f119-44a5-8976-2ad77ceeb89f:5\", \"Sorted Stop Seq\": 5, \"Gtfs Dataset Key\": \"1051e067d18a76b0a79789f051d5c22b\", \"Loop Or Inlining\": 1, \"N Trips\": 8, \"Variable\": \"Speed Mph\", \"Speed\": 0.4, \"Route\": \"Anaheim Resort VehiclePositions 29d2bbdbeaec1d6888800f85bebf6e33\", \"Speed_Int\": 0, \"Route Type\": \"Loop or Inlining: 1\", \"Rounded Speed\": 0}, {\"Gtfs Dataset Name\": \"Anaheim Resort VehiclePositions\", \"Shape Array Key\": \"29d2bbdbeaec1d6888800f85bebf6e33\", \"Trip Id\": \"aa6a03fe-f119-44a5-8976-2ad77ceeb89f:5\", \"Sorted Stop Seq\": 6, \"Gtfs Dataset Key\": \"1051e067d18a76b0a79789f051d5c22b\", \"Loop Or Inlining\": 1, \"N Trips\": 8, \"Variable\": \"Speed Mph\", \"Speed\": 3.1, \"Route\": \"Anaheim Resort VehiclePositions 29d2bbdbeaec1d6888800f85bebf6e33\", \"Speed_Int\": 3, \"Route Type\": \"Loop or Inlining: 1\", \"Rounded Speed\": 5}, {\"Gtfs Dataset Name\": \"Anaheim Resort VehiclePositions\", \"Shape Array Key\": \"29d2bbdbeaec1d6888800f85bebf6e33\", \"Trip Id\": \"aa6a03fe-f119-44a5-8976-2ad77ceeb89f:5\", \"Sorted Stop Seq\": 7, \"Gtfs Dataset Key\": \"1051e067d18a76b0a79789f051d5c22b\", \"Loop Or Inlining\": 1, \"N Trips\": 8, \"Variable\": \"Speed Mph\", \"Speed\": 1.6, \"Route\": \"Anaheim Resort VehiclePositions 29d2bbdbeaec1d6888800f85bebf6e33\", \"Speed_Int\": 1, \"Route Type\": \"Loop or Inlining: 1\", \"Rounded Speed\": 5}, {\"Gtfs Dataset Name\": \"Anaheim Resort VehiclePositions\", \"Shape Array Key\": \"29d2bbdbeaec1d6888800f85bebf6e33\", \"Trip Id\": \"aa6a03fe-f119-44a5-8976-2ad77ceeb89f:5\", \"Sorted Stop Seq\": 8, \"Gtfs Dataset Key\": \"1051e067d18a76b0a79789f051d5c22b\", \"Loop Or Inlining\": 1, \"N Trips\": 8, \"Variable\": \"Speed Mph\", \"Speed\": 3.4, \"Route\": \"Anaheim Resort VehiclePositions 29d2bbdbeaec1d6888800f85bebf6e33\", \"Speed_Int\": 3, \"Route Type\": \"Loop or Inlining: 1\", \"Rounded Speed\": 5}, {\"Gtfs Dataset Name\": \"Anaheim Resort VehiclePositions\", \"Shape Array Key\": \"29d2bbdbeaec1d6888800f85bebf6e33\", \"Trip Id\": \"aa6a03fe-f119-44a5-8976-2ad77ceeb89f:5\", \"Sorted Stop Seq\": 9, \"Gtfs Dataset Key\": \"1051e067d18a76b0a79789f051d5c22b\", \"Loop Or Inlining\": 1, \"N Trips\": 8, \"Variable\": \"Speed Mph\", \"Speed\": 2.5, \"Route\": \"Anaheim Resort VehiclePositions 29d2bbdbeaec1d6888800f85bebf6e33\", \"Speed_Int\": 2, \"Route Type\": \"Loop or Inlining: 1\", \"Rounded Speed\": 5}, {\"Gtfs Dataset Name\": \"Anaheim Resort VehiclePositions\", \"Shape Array Key\": \"29d2bbdbeaec1d6888800f85bebf6e33\", \"Trip Id\": \"aa6a03fe-f119-44a5-8976-2ad77ceeb89f:6\", \"Sorted Stop Seq\": 2, \"Gtfs Dataset Key\": \"1051e067d18a76b0a79789f051d5c22b\", \"Loop Or Inlining\": 1, \"N Trips\": 8, \"Variable\": \"Speed Mph\", \"Speed\": 5.5, \"Route\": \"Anaheim Resort VehiclePositions 29d2bbdbeaec1d6888800f85bebf6e33\", \"Speed_Int\": 5, \"Route Type\": \"Loop or Inlining: 1\", \"Rounded Speed\": 5}, {\"Gtfs Dataset Name\": \"Anaheim Resort VehiclePositions\", \"Shape Array Key\": \"29d2bbdbeaec1d6888800f85bebf6e33\", \"Trip Id\": \"aa6a03fe-f119-44a5-8976-2ad77ceeb89f:6\", \"Sorted Stop Seq\": 3, \"Gtfs Dataset Key\": \"1051e067d18a76b0a79789f051d5c22b\", \"Loop Or Inlining\": 1, \"N Trips\": 8, \"Variable\": \"Speed Mph\", \"Speed\": 5.5, \"Route\": \"Anaheim Resort VehiclePositions 29d2bbdbeaec1d6888800f85bebf6e33\", \"Speed_Int\": 5, \"Route Type\": \"Loop or Inlining: 1\", \"Rounded Speed\": 5}, {\"Gtfs Dataset Name\": \"Anaheim Resort VehiclePositions\", \"Shape Array Key\": \"29d2bbdbeaec1d6888800f85bebf6e33\", \"Trip Id\": \"aa6a03fe-f119-44a5-8976-2ad77ceeb89f:6\", \"Sorted Stop Seq\": 4, \"Gtfs Dataset Key\": \"1051e067d18a76b0a79789f051d5c22b\", \"Loop Or Inlining\": 1, \"N Trips\": 8, \"Variable\": \"Speed Mph\", \"Speed\": 4.0, \"Route\": \"Anaheim Resort VehiclePositions 29d2bbdbeaec1d6888800f85bebf6e33\", \"Speed_Int\": 4, \"Route Type\": \"Loop or Inlining: 1\", \"Rounded Speed\": 5}, {\"Gtfs Dataset Name\": \"Anaheim Resort VehiclePositions\", \"Shape Array Key\": \"29d2bbdbeaec1d6888800f85bebf6e33\", \"Trip Id\": \"aa6a03fe-f119-44a5-8976-2ad77ceeb89f:6\", \"Sorted Stop Seq\": 5, \"Gtfs Dataset Key\": \"1051e067d18a76b0a79789f051d5c22b\", \"Loop Or Inlining\": 1, \"N Trips\": 8, \"Variable\": \"Speed Mph\", \"Speed\": 1.0, \"Route\": \"Anaheim Resort VehiclePositions 29d2bbdbeaec1d6888800f85bebf6e33\", \"Speed_Int\": 1, \"Route Type\": \"Loop or Inlining: 1\", \"Rounded Speed\": 5}, {\"Gtfs Dataset Name\": \"Anaheim Resort VehiclePositions\", \"Shape Array Key\": \"29d2bbdbeaec1d6888800f85bebf6e33\", \"Trip Id\": \"aa6a03fe-f119-44a5-8976-2ad77ceeb89f:6\", \"Sorted Stop Seq\": 6, \"Gtfs Dataset Key\": \"1051e067d18a76b0a79789f051d5c22b\", \"Loop Or Inlining\": 1, \"N Trips\": 8, \"Variable\": \"Speed Mph\", \"Speed\": 3.5, \"Route\": \"Anaheim Resort VehiclePositions 29d2bbdbeaec1d6888800f85bebf6e33\", \"Speed_Int\": 3, \"Route Type\": \"Loop or Inlining: 1\", \"Rounded Speed\": 5}, {\"Gtfs Dataset Name\": \"Anaheim Resort VehiclePositions\", \"Shape Array Key\": \"29d2bbdbeaec1d6888800f85bebf6e33\", \"Trip Id\": \"aa6a03fe-f119-44a5-8976-2ad77ceeb89f:6\", \"Sorted Stop Seq\": 7, \"Gtfs Dataset Key\": \"1051e067d18a76b0a79789f051d5c22b\", \"Loop Or Inlining\": 1, \"N Trips\": 8, \"Variable\": \"Speed Mph\", \"Speed\": 3.9, \"Route\": \"Anaheim Resort VehiclePositions 29d2bbdbeaec1d6888800f85bebf6e33\", \"Speed_Int\": 3, \"Route Type\": \"Loop or Inlining: 1\", \"Rounded Speed\": 5}, {\"Gtfs Dataset Name\": \"Anaheim Resort VehiclePositions\", \"Shape Array Key\": \"29d2bbdbeaec1d6888800f85bebf6e33\", \"Trip Id\": \"aa6a03fe-f119-44a5-8976-2ad77ceeb89f:6\", \"Sorted Stop Seq\": 8, \"Gtfs Dataset Key\": \"1051e067d18a76b0a79789f051d5c22b\", \"Loop Or Inlining\": 1, \"N Trips\": 8, \"Variable\": \"Speed Mph\", \"Speed\": 4.6, \"Route\": \"Anaheim Resort VehiclePositions 29d2bbdbeaec1d6888800f85bebf6e33\", \"Speed_Int\": 4, \"Route Type\": \"Loop or Inlining: 1\", \"Rounded Speed\": 5}, {\"Gtfs Dataset Name\": \"Anaheim Resort VehiclePositions\", \"Shape Array Key\": \"29d2bbdbeaec1d6888800f85bebf6e33\", \"Trip Id\": \"aa6a03fe-f119-44a5-8976-2ad77ceeb89f:6\", \"Sorted Stop Seq\": 9, \"Gtfs Dataset Key\": \"1051e067d18a76b0a79789f051d5c22b\", \"Loop Or Inlining\": 1, \"N Trips\": 8, \"Variable\": \"Speed Mph\", \"Speed\": 5.4, \"Route\": \"Anaheim Resort VehiclePositions 29d2bbdbeaec1d6888800f85bebf6e33\", \"Speed_Int\": 5, \"Route Type\": \"Loop or Inlining: 1\", \"Rounded Speed\": 5}, {\"Gtfs Dataset Name\": \"Anaheim Resort VehiclePositions\", \"Shape Array Key\": \"29d2bbdbeaec1d6888800f85bebf6e33\", \"Trip Id\": \"aa6a03fe-f119-44a5-8976-2ad77ceeb89f:7\", \"Sorted Stop Seq\": 1, \"Gtfs Dataset Key\": \"1051e067d18a76b0a79789f051d5c22b\", \"Loop Or Inlining\": 1, \"N Trips\": 8, \"Variable\": \"Speed Mph\", \"Speed\": 0.0, \"Route\": \"Anaheim Resort VehiclePositions 29d2bbdbeaec1d6888800f85bebf6e33\", \"Speed_Int\": 0, \"Route Type\": \"Loop or Inlining: 1\", \"Rounded Speed\": 0}, {\"Gtfs Dataset Name\": \"Anaheim Resort VehiclePositions\", \"Shape Array Key\": \"29d2bbdbeaec1d6888800f85bebf6e33\", \"Trip Id\": \"aa6a03fe-f119-44a5-8976-2ad77ceeb89f:7\", \"Sorted Stop Seq\": 2, \"Gtfs Dataset Key\": \"1051e067d18a76b0a79789f051d5c22b\", \"Loop Or Inlining\": 1, \"N Trips\": 8, \"Variable\": \"Speed Mph\", \"Speed\": 7.3, \"Route\": \"Anaheim Resort VehiclePositions 29d2bbdbeaec1d6888800f85bebf6e33\", \"Speed_Int\": 7, \"Route Type\": \"Loop or Inlining: 1\", \"Rounded Speed\": 10}, {\"Gtfs Dataset Name\": \"Anaheim Resort VehiclePositions\", \"Shape Array Key\": \"29d2bbdbeaec1d6888800f85bebf6e33\", \"Trip Id\": \"aa6a03fe-f119-44a5-8976-2ad77ceeb89f:7\", \"Sorted Stop Seq\": 3, \"Gtfs Dataset Key\": \"1051e067d18a76b0a79789f051d5c22b\", \"Loop Or Inlining\": 1, \"N Trips\": 8, \"Variable\": \"Speed Mph\", \"Speed\": 3.7, \"Route\": \"Anaheim Resort VehiclePositions 29d2bbdbeaec1d6888800f85bebf6e33\", \"Speed_Int\": 3, \"Route Type\": \"Loop or Inlining: 1\", \"Rounded Speed\": 5}, {\"Gtfs Dataset Name\": \"Anaheim Resort VehiclePositions\", \"Shape Array Key\": \"29d2bbdbeaec1d6888800f85bebf6e33\", \"Trip Id\": \"aa6a03fe-f119-44a5-8976-2ad77ceeb89f:7\", \"Sorted Stop Seq\": 4, \"Gtfs Dataset Key\": \"1051e067d18a76b0a79789f051d5c22b\", \"Loop Or Inlining\": 1, \"N Trips\": 8, \"Variable\": \"Speed Mph\", \"Speed\": 5.0, \"Route\": \"Anaheim Resort VehiclePositions 29d2bbdbeaec1d6888800f85bebf6e33\", \"Speed_Int\": 5, \"Route Type\": \"Loop or Inlining: 1\", \"Rounded Speed\": 5}, {\"Gtfs Dataset Name\": \"Anaheim Resort VehiclePositions\", \"Shape Array Key\": \"29d2bbdbeaec1d6888800f85bebf6e33\", \"Trip Id\": \"aa6a03fe-f119-44a5-8976-2ad77ceeb89f:7\", \"Sorted Stop Seq\": 5, \"Gtfs Dataset Key\": \"1051e067d18a76b0a79789f051d5c22b\", \"Loop Or Inlining\": 1, \"N Trips\": 8, \"Variable\": \"Speed Mph\", \"Speed\": 0.9, \"Route\": \"Anaheim Resort VehiclePositions 29d2bbdbeaec1d6888800f85bebf6e33\", \"Speed_Int\": 0, \"Route Type\": \"Loop or Inlining: 1\", \"Rounded Speed\": 0}, {\"Gtfs Dataset Name\": \"Anaheim Resort VehiclePositions\", \"Shape Array Key\": \"29d2bbdbeaec1d6888800f85bebf6e33\", \"Trip Id\": \"aa6a03fe-f119-44a5-8976-2ad77ceeb89f:7\", \"Sorted Stop Seq\": 6, \"Gtfs Dataset Key\": \"1051e067d18a76b0a79789f051d5c22b\", \"Loop Or Inlining\": 1, \"N Trips\": 8, \"Variable\": \"Speed Mph\", \"Speed\": 3.1, \"Route\": \"Anaheim Resort VehiclePositions 29d2bbdbeaec1d6888800f85bebf6e33\", \"Speed_Int\": 3, \"Route Type\": \"Loop or Inlining: 1\", \"Rounded Speed\": 5}, {\"Gtfs Dataset Name\": \"Anaheim Resort VehiclePositions\", \"Shape Array Key\": \"29d2bbdbeaec1d6888800f85bebf6e33\", \"Trip Id\": \"aa6a03fe-f119-44a5-8976-2ad77ceeb89f:7\", \"Sorted Stop Seq\": 7, \"Gtfs Dataset Key\": \"1051e067d18a76b0a79789f051d5c22b\", \"Loop Or Inlining\": 1, \"N Trips\": 8, \"Variable\": \"Speed Mph\", \"Speed\": 4.4, \"Route\": \"Anaheim Resort VehiclePositions 29d2bbdbeaec1d6888800f85bebf6e33\", \"Speed_Int\": 4, \"Route Type\": \"Loop or Inlining: 1\", \"Rounded Speed\": 5}, {\"Gtfs Dataset Name\": \"Anaheim Resort VehiclePositions\", \"Shape Array Key\": \"29d2bbdbeaec1d6888800f85bebf6e33\", \"Trip Id\": \"aa6a03fe-f119-44a5-8976-2ad77ceeb89f:7\", \"Sorted Stop Seq\": 8, \"Gtfs Dataset Key\": \"1051e067d18a76b0a79789f051d5c22b\", \"Loop Or Inlining\": 1, \"N Trips\": 8, \"Variable\": \"Speed Mph\", \"Speed\": 4.7, \"Route\": \"Anaheim Resort VehiclePositions 29d2bbdbeaec1d6888800f85bebf6e33\", \"Speed_Int\": 4, \"Route Type\": \"Loop or Inlining: 1\", \"Rounded Speed\": 5}, {\"Gtfs Dataset Name\": \"Anaheim Resort VehiclePositions\", \"Shape Array Key\": \"29d2bbdbeaec1d6888800f85bebf6e33\", \"Trip Id\": \"aa6a03fe-f119-44a5-8976-2ad77ceeb89f:7\", \"Sorted Stop Seq\": 9, \"Gtfs Dataset Key\": \"1051e067d18a76b0a79789f051d5c22b\", \"Loop Or Inlining\": 1, \"N Trips\": 8, \"Variable\": \"Speed Mph\", \"Speed\": 6.4, \"Route\": \"Anaheim Resort VehiclePositions 29d2bbdbeaec1d6888800f85bebf6e33\", \"Speed_Int\": 6, \"Route Type\": \"Loop or Inlining: 1\", \"Rounded Speed\": 10}, {\"Gtfs Dataset Name\": \"Anaheim Resort VehiclePositions\", \"Shape Array Key\": \"29d2bbdbeaec1d6888800f85bebf6e33\", \"Trip Id\": \"aa6a03fe-f119-44a5-8976-2ad77ceeb89f:8\", \"Sorted Stop Seq\": 2, \"Gtfs Dataset Key\": \"1051e067d18a76b0a79789f051d5c22b\", \"Loop Or Inlining\": 1, \"N Trips\": 8, \"Variable\": \"Speed Mph\", \"Speed\": 9.6, \"Route\": \"Anaheim Resort VehiclePositions 29d2bbdbeaec1d6888800f85bebf6e33\", \"Speed_Int\": 9, \"Route Type\": \"Loop or Inlining: 1\", \"Rounded Speed\": 10}, {\"Gtfs Dataset Name\": \"Anaheim Resort VehiclePositions\", \"Shape Array Key\": \"29d2bbdbeaec1d6888800f85bebf6e33\", \"Trip Id\": \"aa6a03fe-f119-44a5-8976-2ad77ceeb89f:8\", \"Sorted Stop Seq\": 3, \"Gtfs Dataset Key\": \"1051e067d18a76b0a79789f051d5c22b\", \"Loop Or Inlining\": 1, \"N Trips\": 8, \"Variable\": \"Speed Mph\", \"Speed\": 4.2, \"Route\": \"Anaheim Resort VehiclePositions 29d2bbdbeaec1d6888800f85bebf6e33\", \"Speed_Int\": 4, \"Route Type\": \"Loop or Inlining: 1\", \"Rounded Speed\": 5}, {\"Gtfs Dataset Name\": \"Anaheim Resort VehiclePositions\", \"Shape Array Key\": \"29d2bbdbeaec1d6888800f85bebf6e33\", \"Trip Id\": \"aa6a03fe-f119-44a5-8976-2ad77ceeb89f:8\", \"Sorted Stop Seq\": 4, \"Gtfs Dataset Key\": \"1051e067d18a76b0a79789f051d5c22b\", \"Loop Or Inlining\": 1, \"N Trips\": 8, \"Variable\": \"Speed Mph\", \"Speed\": 5.8, \"Route\": \"Anaheim Resort VehiclePositions 29d2bbdbeaec1d6888800f85bebf6e33\", \"Speed_Int\": 5, \"Route Type\": \"Loop or Inlining: 1\", \"Rounded Speed\": 5}, {\"Gtfs Dataset Name\": \"Anaheim Resort VehiclePositions\", \"Shape Array Key\": \"29d2bbdbeaec1d6888800f85bebf6e33\", \"Trip Id\": \"aa6a03fe-f119-44a5-8976-2ad77ceeb89f:8\", \"Sorted Stop Seq\": 5, \"Gtfs Dataset Key\": \"1051e067d18a76b0a79789f051d5c22b\", \"Loop Or Inlining\": 1, \"N Trips\": 8, \"Variable\": \"Speed Mph\", \"Speed\": 0.0, \"Route\": \"Anaheim Resort VehiclePositions 29d2bbdbeaec1d6888800f85bebf6e33\", \"Speed_Int\": 0, \"Route Type\": \"Loop or Inlining: 1\", \"Rounded Speed\": 0}, {\"Gtfs Dataset Name\": \"Anaheim Resort VehiclePositions\", \"Shape Array Key\": \"29d2bbdbeaec1d6888800f85bebf6e33\", \"Trip Id\": \"aa6a03fe-f119-44a5-8976-2ad77ceeb89f:8\", \"Sorted Stop Seq\": 6, \"Gtfs Dataset Key\": \"1051e067d18a76b0a79789f051d5c22b\", \"Loop Or Inlining\": 1, \"N Trips\": 8, \"Variable\": \"Speed Mph\", \"Speed\": 1.6, \"Route\": \"Anaheim Resort VehiclePositions 29d2bbdbeaec1d6888800f85bebf6e33\", \"Speed_Int\": 1, \"Route Type\": \"Loop or Inlining: 1\", \"Rounded Speed\": 5}, {\"Gtfs Dataset Name\": \"Anaheim Resort VehiclePositions\", \"Shape Array Key\": \"29d2bbdbeaec1d6888800f85bebf6e33\", \"Trip Id\": \"aa6a03fe-f119-44a5-8976-2ad77ceeb89f:8\", \"Sorted Stop Seq\": 7, \"Gtfs Dataset Key\": \"1051e067d18a76b0a79789f051d5c22b\", \"Loop Or Inlining\": 1, \"N Trips\": 8, \"Variable\": \"Speed Mph\", \"Speed\": 4.4, \"Route\": \"Anaheim Resort VehiclePositions 29d2bbdbeaec1d6888800f85bebf6e33\", \"Speed_Int\": 4, \"Route Type\": \"Loop or Inlining: 1\", \"Rounded Speed\": 5}, {\"Gtfs Dataset Name\": \"Anaheim Resort VehiclePositions\", \"Shape Array Key\": \"29d2bbdbeaec1d6888800f85bebf6e33\", \"Trip Id\": \"aa6a03fe-f119-44a5-8976-2ad77ceeb89f:8\", \"Sorted Stop Seq\": 9, \"Gtfs Dataset Key\": \"1051e067d18a76b0a79789f051d5c22b\", \"Loop Or Inlining\": 1, \"N Trips\": 8, \"Variable\": \"Speed Mph\", \"Speed\": 7.2, \"Route\": \"Anaheim Resort VehiclePositions 29d2bbdbeaec1d6888800f85bebf6e33\", \"Speed_Int\": 7, \"Route Type\": \"Loop or Inlining: 1\", \"Rounded Speed\": 10}, {\"Gtfs Dataset Name\": \"Eastern Sierra Vehicle Positions\", \"Shape Array Key\": \"754c5b012195800c38dc58e72e4f482e\", \"Trip Id\": \"t_97725_b_2397_tn_11\", \"Sorted Stop Seq\": 1, \"Gtfs Dataset Key\": \"64b3bb0d6a6888b62be32aa789cc37ef\", \"Loop Or Inlining\": 0, \"N Trips\": 8, \"Variable\": \"Speed Mph\", \"Speed\": 0.0, \"Route\": \"Eastern Sierra Vehicle Positions 754c5b012195800c38dc58e72e4f482e\", \"Speed_Int\": 0, \"Route Type\": \"Loop or Inlining: 0\", \"Rounded Speed\": 0}, {\"Gtfs Dataset Name\": \"Eastern Sierra Vehicle Positions\", \"Shape Array Key\": \"754c5b012195800c38dc58e72e4f482e\", \"Trip Id\": \"t_97725_b_2397_tn_11\", \"Sorted Stop Seq\": 2, \"Gtfs Dataset Key\": \"64b3bb0d6a6888b62be32aa789cc37ef\", \"Loop Or Inlining\": 0, \"N Trips\": 9, \"Variable\": \"Speed Mph\", \"Speed\": 2.2, \"Route\": \"Eastern Sierra Vehicle Positions 754c5b012195800c38dc58e72e4f482e\", \"Speed_Int\": 2, \"Route Type\": \"Loop or Inlining: 0\", \"Rounded Speed\": 5}, {\"Gtfs Dataset Name\": \"Eastern Sierra Vehicle Positions\", \"Shape Array Key\": \"754c5b012195800c38dc58e72e4f482e\", \"Trip Id\": \"t_97725_b_2397_tn_13\", \"Sorted Stop Seq\": 2, \"Gtfs Dataset Key\": \"64b3bb0d6a6888b62be32aa789cc37ef\", \"Loop Or Inlining\": 0, \"N Trips\": 9, \"Variable\": \"Speed Mph\", \"Speed\": 2.9, \"Route\": \"Eastern Sierra Vehicle Positions 754c5b012195800c38dc58e72e4f482e\", \"Speed_Int\": 2, \"Route Type\": \"Loop or Inlining: 0\", \"Rounded Speed\": 5}, {\"Gtfs Dataset Name\": \"Eastern Sierra Vehicle Positions\", \"Shape Array Key\": \"754c5b012195800c38dc58e72e4f482e\", \"Trip Id\": \"t_97725_b_2397_tn_13\", \"Sorted Stop Seq\": 3, \"Gtfs Dataset Key\": \"64b3bb0d6a6888b62be32aa789cc37ef\", \"Loop Or Inlining\": 0, \"N Trips\": 1, \"Variable\": \"Speed Mph\", \"Speed\": null, \"Route\": \"Eastern Sierra Vehicle Positions 754c5b012195800c38dc58e72e4f482e\", \"Speed_Int\": 0, \"Route Type\": \"Loop or Inlining: 0\", \"Rounded Speed\": 0}, {\"Gtfs Dataset Name\": \"Eastern Sierra Vehicle Positions\", \"Shape Array Key\": \"754c5b012195800c38dc58e72e4f482e\", \"Trip Id\": \"t_97725_b_2397_tn_15\", \"Sorted Stop Seq\": 1, \"Gtfs Dataset Key\": \"64b3bb0d6a6888b62be32aa789cc37ef\", \"Loop Or Inlining\": 0, \"N Trips\": 1, \"Variable\": \"Speed Mph\", \"Speed\": null, \"Route\": \"Eastern Sierra Vehicle Positions 754c5b012195800c38dc58e72e4f482e\", \"Speed_Int\": 0, \"Route Type\": \"Loop or Inlining: 0\", \"Rounded Speed\": 0}, {\"Gtfs Dataset Name\": \"Eastern Sierra Vehicle Positions\", \"Shape Array Key\": \"754c5b012195800c38dc58e72e4f482e\", \"Trip Id\": \"t_97725_b_2397_tn_17\", \"Sorted Stop Seq\": 2, \"Gtfs Dataset Key\": \"64b3bb0d6a6888b62be32aa789cc37ef\", \"Loop Or Inlining\": 0, \"N Trips\": 9, \"Variable\": \"Speed Mph\", \"Speed\": 2.3, \"Route\": \"Eastern Sierra Vehicle Positions 754c5b012195800c38dc58e72e4f482e\", \"Speed_Int\": 2, \"Route Type\": \"Loop or Inlining: 0\", \"Rounded Speed\": 5}, {\"Gtfs Dataset Name\": \"Eastern Sierra Vehicle Positions\", \"Shape Array Key\": \"754c5b012195800c38dc58e72e4f482e\", \"Trip Id\": \"t_97725_b_2397_tn_19\", \"Sorted Stop Seq\": 2, \"Gtfs Dataset Key\": \"64b3bb0d6a6888b62be32aa789cc37ef\", \"Loop Or Inlining\": 0, \"N Trips\": 9, \"Variable\": \"Speed Mph\", \"Speed\": 3.6, \"Route\": \"Eastern Sierra Vehicle Positions 754c5b012195800c38dc58e72e4f482e\", \"Speed_Int\": 3, \"Route Type\": \"Loop or Inlining: 0\", \"Rounded Speed\": 5}, {\"Gtfs Dataset Name\": \"Eastern Sierra Vehicle Positions\", \"Shape Array Key\": \"754c5b012195800c38dc58e72e4f482e\", \"Trip Id\": \"t_97725_b_2397_tn_21\", \"Sorted Stop Seq\": 2, \"Gtfs Dataset Key\": \"64b3bb0d6a6888b62be32aa789cc37ef\", \"Loop Or Inlining\": 0, \"N Trips\": 9, \"Variable\": \"Speed Mph\", \"Speed\": 5.0, \"Route\": \"Eastern Sierra Vehicle Positions 754c5b012195800c38dc58e72e4f482e\", \"Speed_Int\": 5, \"Route Type\": \"Loop or Inlining: 0\", \"Rounded Speed\": 5}, {\"Gtfs Dataset Name\": \"Eastern Sierra Vehicle Positions\", \"Shape Array Key\": \"754c5b012195800c38dc58e72e4f482e\", \"Trip Id\": \"t_97725_b_2397_tn_3\", \"Sorted Stop Seq\": 2, \"Gtfs Dataset Key\": \"64b3bb0d6a6888b62be32aa789cc37ef\", \"Loop Or Inlining\": 0, \"N Trips\": 9, \"Variable\": \"Speed Mph\", \"Speed\": 0.5, \"Route\": \"Eastern Sierra Vehicle Positions 754c5b012195800c38dc58e72e4f482e\", \"Speed_Int\": 0, \"Route Type\": \"Loop or Inlining: 0\", \"Rounded Speed\": 0}, {\"Gtfs Dataset Name\": \"Eastern Sierra Vehicle Positions\", \"Shape Array Key\": \"754c5b012195800c38dc58e72e4f482e\", \"Trip Id\": \"t_97725_b_2397_tn_3\", \"Sorted Stop Seq\": 3, \"Gtfs Dataset Key\": \"64b3bb0d6a6888b62be32aa789cc37ef\", \"Loop Or Inlining\": 0, \"N Trips\": 1, \"Variable\": \"Speed Mph\", \"Speed\": 0.0, \"Route\": \"Eastern Sierra Vehicle Positions 754c5b012195800c38dc58e72e4f482e\", \"Speed_Int\": 0, \"Route Type\": \"Loop or Inlining: 0\", \"Rounded Speed\": 0}, {\"Gtfs Dataset Name\": \"Eastern Sierra Vehicle Positions\", \"Shape Array Key\": \"754c5b012195800c38dc58e72e4f482e\", \"Trip Id\": \"t_97725_b_2397_tn_5\", \"Sorted Stop Seq\": 2, \"Gtfs Dataset Key\": \"64b3bb0d6a6888b62be32aa789cc37ef\", \"Loop Or Inlining\": 0, \"N Trips\": 9, \"Variable\": \"Speed Mph\", \"Speed\": 5.2, \"Route\": \"Eastern Sierra Vehicle Positions 754c5b012195800c38dc58e72e4f482e\", \"Speed_Int\": 5, \"Route Type\": \"Loop or Inlining: 0\", \"Rounded Speed\": 5}, {\"Gtfs Dataset Name\": \"Eastern Sierra Vehicle Positions\", \"Shape Array Key\": \"754c5b012195800c38dc58e72e4f482e\", \"Trip Id\": \"t_97725_b_2397_tn_7\", \"Sorted Stop Seq\": 2, \"Gtfs Dataset Key\": \"64b3bb0d6a6888b62be32aa789cc37ef\", \"Loop Or Inlining\": 0, \"N Trips\": 9, \"Variable\": \"Speed Mph\", \"Speed\": 2.2, \"Route\": \"Eastern Sierra Vehicle Positions 754c5b012195800c38dc58e72e4f482e\", \"Speed_Int\": 2, \"Route Type\": \"Loop or Inlining: 0\", \"Rounded Speed\": 5}, {\"Gtfs Dataset Name\": \"Eastern Sierra Vehicle Positions\", \"Shape Array Key\": \"754c5b012195800c38dc58e72e4f482e\", \"Trip Id\": \"t_97725_b_2397_tn_9\", \"Sorted Stop Seq\": 1, \"Gtfs Dataset Key\": \"64b3bb0d6a6888b62be32aa789cc37ef\", \"Loop Or Inlining\": 0, \"N Trips\": 9, \"Variable\": \"Speed Mph\", \"Speed\": 8.3, \"Route\": \"Eastern Sierra Vehicle Positions 754c5b012195800c38dc58e72e4f482e\", \"Speed_Int\": 8, \"Route Type\": \"Loop or Inlining: 0\", \"Rounded Speed\": 10}, {\"Gtfs Dataset Name\": \"Eastern Sierra Vehicle Positions\", \"Shape Array Key\": \"754c5b012195800c38dc58e72e4f482e\", \"Trip Id\": \"t_97725_b_2397_tn_9\", \"Sorted Stop Seq\": 2, \"Gtfs Dataset Key\": \"64b3bb0d6a6888b62be32aa789cc37ef\", \"Loop Or Inlining\": 0, \"N Trips\": 1, \"Variable\": \"Speed Mph\", \"Speed\": null, \"Route\": \"Eastern Sierra Vehicle Positions 754c5b012195800c38dc58e72e4f482e\", \"Speed_Int\": 0, \"Route Type\": \"Loop or Inlining: 0\", \"Rounded Speed\": 0}, {\"Gtfs Dataset Name\": \"Eastern Sierra Vehicle Positions\", \"Shape Array Key\": \"e3c5ed2c6fa6cd5c5cd57d46aeb3cd8e\", \"Trip Id\": \"t_195132_b_78389_tn_1\", \"Sorted Stop Seq\": 1, \"Gtfs Dataset Key\": \"64b3bb0d6a6888b62be32aa789cc37ef\", \"Loop Or Inlining\": 0, \"N Trips\": 1, \"Variable\": \"Speed Mph\", \"Speed\": 34.6, \"Route\": \"Eastern Sierra Vehicle Positions e3c5ed2c6fa6cd5c5cd57d46aeb3cd8e\", \"Speed_Int\": 34, \"Route Type\": \"Loop or Inlining: 0\", \"Rounded Speed\": 35}, {\"Gtfs Dataset Name\": \"Eastern Sierra Vehicle Positions\", \"Shape Array Key\": \"e3c5ed2c6fa6cd5c5cd57d46aeb3cd8e\", \"Trip Id\": \"t_195132_b_78389_tn_1\", \"Sorted Stop Seq\": 2, \"Gtfs Dataset Key\": \"64b3bb0d6a6888b62be32aa789cc37ef\", \"Loop Or Inlining\": 0, \"N Trips\": 1, \"Variable\": \"Speed Mph\", \"Speed\": 0.5, \"Route\": \"Eastern Sierra Vehicle Positions e3c5ed2c6fa6cd5c5cd57d46aeb3cd8e\", \"Speed_Int\": 0, \"Route Type\": \"Loop or Inlining: 0\", \"Rounded Speed\": 0}, {\"Gtfs Dataset Name\": \"Eastern Sierra Vehicle Positions\", \"Shape Array Key\": \"e3c5ed2c6fa6cd5c5cd57d46aeb3cd8e\", \"Trip Id\": \"t_195132_b_78389_tn_1\", \"Sorted Stop Seq\": 3, \"Gtfs Dataset Key\": \"64b3bb0d6a6888b62be32aa789cc37ef\", \"Loop Or Inlining\": 0, \"N Trips\": 1, \"Variable\": \"Speed Mph\", \"Speed\": 0.5, \"Route\": \"Eastern Sierra Vehicle Positions e3c5ed2c6fa6cd5c5cd57d46aeb3cd8e\", \"Speed_Int\": 0, \"Route Type\": \"Loop or Inlining: 0\", \"Rounded Speed\": 0}, {\"Gtfs Dataset Name\": \"Eastern Sierra Vehicle Positions\", \"Shape Array Key\": \"e3c5ed2c6fa6cd5c5cd57d46aeb3cd8e\", \"Trip Id\": \"t_195132_b_78389_tn_1\", \"Sorted Stop Seq\": 4, \"Gtfs Dataset Key\": \"64b3bb0d6a6888b62be32aa789cc37ef\", \"Loop Or Inlining\": 0, \"N Trips\": 1, \"Variable\": \"Speed Mph\", \"Speed\": 11.8, \"Route\": \"Eastern Sierra Vehicle Positions e3c5ed2c6fa6cd5c5cd57d46aeb3cd8e\", \"Speed_Int\": 11, \"Route Type\": \"Loop or Inlining: 0\", \"Rounded Speed\": 15}], \"data-d174452b4bd77a63a4a1fb7b459c66c0\": [{\"Gtfs Dataset Name\": \"Anaheim Resort VehiclePositions\", \"Shape Array Key\": \"29d2bbdbeaec1d6888800f85bebf6e33\", \"Trip Id\": \"aa6a03fe-f119-44a5-8976-2ad77ceeb89f:1\", \"Sorted Stop Seq\": 1, \"Gtfs Dataset Key\": \"1051e067d18a76b0a79789f051d5c22b\", \"Loop Or Inlining\": 1, \"N Trips\": 8, \"Variable\": \"Avg Speed Mph\", \"Speed\": 0.0, \"Route\": \"Anaheim Resort VehiclePositions 29d2bbdbeaec1d6888800f85bebf6e33\", \"Speed_Int\": 0, \"Route Type\": \"Loop or Inlining: 1\", \"Rounded Speed\": 0}, {\"Gtfs Dataset Name\": \"Anaheim Resort VehiclePositions\", \"Shape Array Key\": \"29d2bbdbeaec1d6888800f85bebf6e33\", \"Trip Id\": \"aa6a03fe-f119-44a5-8976-2ad77ceeb89f:1\", \"Sorted Stop Seq\": 2, \"Gtfs Dataset Key\": \"1051e067d18a76b0a79789f051d5c22b\", \"Loop Or Inlining\": 1, \"N Trips\": 8, \"Variable\": \"Avg Speed Mph\", \"Speed\": 8.0, \"Route\": \"Anaheim Resort VehiclePositions 29d2bbdbeaec1d6888800f85bebf6e33\", \"Speed_Int\": 8, \"Route Type\": \"Loop or Inlining: 1\", \"Rounded Speed\": 10}, {\"Gtfs Dataset Name\": \"Anaheim Resort VehiclePositions\", \"Shape Array Key\": \"29d2bbdbeaec1d6888800f85bebf6e33\", \"Trip Id\": \"aa6a03fe-f119-44a5-8976-2ad77ceeb89f:1\", \"Sorted Stop Seq\": 3, \"Gtfs Dataset Key\": \"1051e067d18a76b0a79789f051d5c22b\", \"Loop Or Inlining\": 1, \"N Trips\": 8, \"Variable\": \"Avg Speed Mph\", \"Speed\": 4.2, \"Route\": \"Anaheim Resort VehiclePositions 29d2bbdbeaec1d6888800f85bebf6e33\", \"Speed_Int\": 4, \"Route Type\": \"Loop or Inlining: 1\", \"Rounded Speed\": 5}, {\"Gtfs Dataset Name\": \"Anaheim Resort VehiclePositions\", \"Shape Array Key\": \"29d2bbdbeaec1d6888800f85bebf6e33\", \"Trip Id\": \"aa6a03fe-f119-44a5-8976-2ad77ceeb89f:1\", \"Sorted Stop Seq\": 4, \"Gtfs Dataset Key\": \"1051e067d18a76b0a79789f051d5c22b\", \"Loop Or Inlining\": 1, \"N Trips\": 8, \"Variable\": \"Avg Speed Mph\", \"Speed\": 4.8, \"Route\": \"Anaheim Resort VehiclePositions 29d2bbdbeaec1d6888800f85bebf6e33\", \"Speed_Int\": 4, \"Route Type\": \"Loop or Inlining: 1\", \"Rounded Speed\": 5}, {\"Gtfs Dataset Name\": \"Anaheim Resort VehiclePositions\", \"Shape Array Key\": \"29d2bbdbeaec1d6888800f85bebf6e33\", \"Trip Id\": \"aa6a03fe-f119-44a5-8976-2ad77ceeb89f:1\", \"Sorted Stop Seq\": 5, \"Gtfs Dataset Key\": \"1051e067d18a76b0a79789f051d5c22b\", \"Loop Or Inlining\": 1, \"N Trips\": 8, \"Variable\": \"Avg Speed Mph\", \"Speed\": 0.6, \"Route\": \"Anaheim Resort VehiclePositions 29d2bbdbeaec1d6888800f85bebf6e33\", \"Speed_Int\": 0, \"Route Type\": \"Loop or Inlining: 1\", \"Rounded Speed\": 0}, {\"Gtfs Dataset Name\": \"Anaheim Resort VehiclePositions\", \"Shape Array Key\": \"29d2bbdbeaec1d6888800f85bebf6e33\", \"Trip Id\": \"aa6a03fe-f119-44a5-8976-2ad77ceeb89f:1\", \"Sorted Stop Seq\": 6, \"Gtfs Dataset Key\": \"1051e067d18a76b0a79789f051d5c22b\", \"Loop Or Inlining\": 1, \"N Trips\": 8, \"Variable\": \"Avg Speed Mph\", \"Speed\": 2.5, \"Route\": \"Anaheim Resort VehiclePositions 29d2bbdbeaec1d6888800f85bebf6e33\", \"Speed_Int\": 2, \"Route Type\": \"Loop or Inlining: 1\", \"Rounded Speed\": 5}, {\"Gtfs Dataset Name\": \"Anaheim Resort VehiclePositions\", \"Shape Array Key\": \"29d2bbdbeaec1d6888800f85bebf6e33\", \"Trip Id\": \"aa6a03fe-f119-44a5-8976-2ad77ceeb89f:1\", \"Sorted Stop Seq\": 7, \"Gtfs Dataset Key\": \"1051e067d18a76b0a79789f051d5c22b\", \"Loop Or Inlining\": 1, \"N Trips\": 8, \"Variable\": \"Avg Speed Mph\", \"Speed\": 3.8, \"Route\": \"Anaheim Resort VehiclePositions 29d2bbdbeaec1d6888800f85bebf6e33\", \"Speed_Int\": 3, \"Route Type\": \"Loop or Inlining: 1\", \"Rounded Speed\": 5}, {\"Gtfs Dataset Name\": \"Anaheim Resort VehiclePositions\", \"Shape Array Key\": \"29d2bbdbeaec1d6888800f85bebf6e33\", \"Trip Id\": \"aa6a03fe-f119-44a5-8976-2ad77ceeb89f:1\", \"Sorted Stop Seq\": 8, \"Gtfs Dataset Key\": \"1051e067d18a76b0a79789f051d5c22b\", \"Loop Or Inlining\": 1, \"N Trips\": 8, \"Variable\": \"Avg Speed Mph\", \"Speed\": 4.9, \"Route\": \"Anaheim Resort VehiclePositions 29d2bbdbeaec1d6888800f85bebf6e33\", \"Speed_Int\": 4, \"Route Type\": \"Loop or Inlining: 1\", \"Rounded Speed\": 5}, {\"Gtfs Dataset Name\": \"Anaheim Resort VehiclePositions\", \"Shape Array Key\": \"29d2bbdbeaec1d6888800f85bebf6e33\", \"Trip Id\": \"aa6a03fe-f119-44a5-8976-2ad77ceeb89f:1\", \"Sorted Stop Seq\": 9, \"Gtfs Dataset Key\": \"1051e067d18a76b0a79789f051d5c22b\", \"Loop Or Inlining\": 1, \"N Trips\": 8, \"Variable\": \"Avg Speed Mph\", \"Speed\": 5.0, \"Route\": \"Anaheim Resort VehiclePositions 29d2bbdbeaec1d6888800f85bebf6e33\", \"Speed_Int\": 5, \"Route Type\": \"Loop or Inlining: 1\", \"Rounded Speed\": 5}, {\"Gtfs Dataset Name\": \"Eastern Sierra Vehicle Positions\", \"Shape Array Key\": \"754c5b012195800c38dc58e72e4f482e\", \"Trip Id\": \"t_97725_b_2397_tn_11\", \"Sorted Stop Seq\": 1, \"Gtfs Dataset Key\": \"64b3bb0d6a6888b62be32aa789cc37ef\", \"Loop Or Inlining\": 0, \"N Trips\": 8, \"Variable\": \"Avg Speed Mph\", \"Speed\": 0.0, \"Route\": \"Eastern Sierra Vehicle Positions 754c5b012195800c38dc58e72e4f482e\", \"Speed_Int\": 0, \"Route Type\": \"Loop or Inlining: 0\", \"Rounded Speed\": 0}, {\"Gtfs Dataset Name\": \"Eastern Sierra Vehicle Positions\", \"Shape Array Key\": \"754c5b012195800c38dc58e72e4f482e\", \"Trip Id\": \"t_97725_b_2397_tn_11\", \"Sorted Stop Seq\": 2, \"Gtfs Dataset Key\": \"64b3bb0d6a6888b62be32aa789cc37ef\", \"Loop Or Inlining\": 0, \"N Trips\": 9, \"Variable\": \"Avg Speed Mph\", \"Speed\": 3.6, \"Route\": \"Eastern Sierra Vehicle Positions 754c5b012195800c38dc58e72e4f482e\", \"Speed_Int\": 3, \"Route Type\": \"Loop or Inlining: 0\", \"Rounded Speed\": 5}, {\"Gtfs Dataset Name\": \"Eastern Sierra Vehicle Positions\", \"Shape Array Key\": \"754c5b012195800c38dc58e72e4f482e\", \"Trip Id\": \"t_97725_b_2397_tn_13\", \"Sorted Stop Seq\": 3, \"Gtfs Dataset Key\": \"64b3bb0d6a6888b62be32aa789cc37ef\", \"Loop Or Inlining\": 0, \"N Trips\": 1, \"Variable\": \"Avg Speed Mph\", \"Speed\": 0.0, \"Route\": \"Eastern Sierra Vehicle Positions 754c5b012195800c38dc58e72e4f482e\", \"Speed_Int\": 0, \"Route Type\": \"Loop or Inlining: 0\", \"Rounded Speed\": 0}, {\"Gtfs Dataset Name\": \"Eastern Sierra Vehicle Positions\", \"Shape Array Key\": \"754c5b012195800c38dc58e72e4f482e\", \"Trip Id\": \"t_97725_b_2397_tn_9\", \"Sorted Stop Seq\": 1, \"Gtfs Dataset Key\": \"64b3bb0d6a6888b62be32aa789cc37ef\", \"Loop Or Inlining\": 0, \"N Trips\": 9, \"Variable\": \"Avg Speed Mph\", \"Speed\": 3.6, \"Route\": \"Eastern Sierra Vehicle Positions 754c5b012195800c38dc58e72e4f482e\", \"Speed_Int\": 3, \"Route Type\": \"Loop or Inlining: 0\", \"Rounded Speed\": 5}, {\"Gtfs Dataset Name\": \"Eastern Sierra Vehicle Positions\", \"Shape Array Key\": \"754c5b012195800c38dc58e72e4f482e\", \"Trip Id\": \"t_97725_b_2397_tn_9\", \"Sorted Stop Seq\": 2, \"Gtfs Dataset Key\": \"64b3bb0d6a6888b62be32aa789cc37ef\", \"Loop Or Inlining\": 0, \"N Trips\": 1, \"Variable\": \"Avg Speed Mph\", \"Speed\": 0.0, \"Route\": \"Eastern Sierra Vehicle Positions 754c5b012195800c38dc58e72e4f482e\", \"Speed_Int\": 0, \"Route Type\": \"Loop or Inlining: 0\", \"Rounded Speed\": 0}, {\"Gtfs Dataset Name\": \"Eastern Sierra Vehicle Positions\", \"Shape Array Key\": \"e3c5ed2c6fa6cd5c5cd57d46aeb3cd8e\", \"Trip Id\": \"t_195132_b_78389_tn_1\", \"Sorted Stop Seq\": 1, \"Gtfs Dataset Key\": \"64b3bb0d6a6888b62be32aa789cc37ef\", \"Loop Or Inlining\": 0, \"N Trips\": 1, \"Variable\": \"Avg Speed Mph\", \"Speed\": 34.6, \"Route\": \"Eastern Sierra Vehicle Positions e3c5ed2c6fa6cd5c5cd57d46aeb3cd8e\", \"Speed_Int\": 34, \"Route Type\": \"Loop or Inlining: 0\", \"Rounded Speed\": 35}, {\"Gtfs Dataset Name\": \"Eastern Sierra Vehicle Positions\", \"Shape Array Key\": \"e3c5ed2c6fa6cd5c5cd57d46aeb3cd8e\", \"Trip Id\": \"t_195132_b_78389_tn_1\", \"Sorted Stop Seq\": 2, \"Gtfs Dataset Key\": \"64b3bb0d6a6888b62be32aa789cc37ef\", \"Loop Or Inlining\": 0, \"N Trips\": 1, \"Variable\": \"Avg Speed Mph\", \"Speed\": 0.5, \"Route\": \"Eastern Sierra Vehicle Positions e3c5ed2c6fa6cd5c5cd57d46aeb3cd8e\", \"Speed_Int\": 0, \"Route Type\": \"Loop or Inlining: 0\", \"Rounded Speed\": 0}, {\"Gtfs Dataset Name\": \"Eastern Sierra Vehicle Positions\", \"Shape Array Key\": \"e3c5ed2c6fa6cd5c5cd57d46aeb3cd8e\", \"Trip Id\": \"t_195132_b_78389_tn_1\", \"Sorted Stop Seq\": 3, \"Gtfs Dataset Key\": \"64b3bb0d6a6888b62be32aa789cc37ef\", \"Loop Or Inlining\": 0, \"N Trips\": 1, \"Variable\": \"Avg Speed Mph\", \"Speed\": 0.5, \"Route\": \"Eastern Sierra Vehicle Positions e3c5ed2c6fa6cd5c5cd57d46aeb3cd8e\", \"Speed_Int\": 0, \"Route Type\": \"Loop or Inlining: 0\", \"Rounded Speed\": 0}, {\"Gtfs Dataset Name\": \"Eastern Sierra Vehicle Positions\", \"Shape Array Key\": \"e3c5ed2c6fa6cd5c5cd57d46aeb3cd8e\", \"Trip Id\": \"t_195132_b_78389_tn_1\", \"Sorted Stop Seq\": 4, \"Gtfs Dataset Key\": \"64b3bb0d6a6888b62be32aa789cc37ef\", \"Loop Or Inlining\": 0, \"N Trips\": 1, \"Variable\": \"Avg Speed Mph\", \"Speed\": 11.8, \"Route\": \"Eastern Sierra Vehicle Positions e3c5ed2c6fa6cd5c5cd57d46aeb3cd8e\", \"Speed_Int\": 11, \"Route Type\": \"Loop or Inlining: 0\", \"Rounded Speed\": 15}, {\"Gtfs Dataset Name\": \"Anaheim Resort VehiclePositions\", \"Shape Array Key\": \"29d2bbdbeaec1d6888800f85bebf6e33\", \"Trip Id\": \"aa6a03fe-f119-44a5-8976-2ad77ceeb89f:1\", \"Sorted Stop Seq\": 1, \"Gtfs Dataset Key\": \"1051e067d18a76b0a79789f051d5c22b\", \"Loop Or Inlining\": 1, \"N Trips\": 8, \"Variable\": \"P20 Speed Mph\", \"Speed\": 0.0, \"Route\": \"Anaheim Resort VehiclePositions 29d2bbdbeaec1d6888800f85bebf6e33\", \"Speed_Int\": 0, \"Route Type\": \"Loop or Inlining: 1\", \"Rounded Speed\": 0}, {\"Gtfs Dataset Name\": \"Anaheim Resort VehiclePositions\", \"Shape Array Key\": \"29d2bbdbeaec1d6888800f85bebf6e33\", \"Trip Id\": \"aa6a03fe-f119-44a5-8976-2ad77ceeb89f:1\", \"Sorted Stop Seq\": 2, \"Gtfs Dataset Key\": \"1051e067d18a76b0a79789f051d5c22b\", \"Loop Or Inlining\": 1, \"N Trips\": 8, \"Variable\": \"P20 Speed Mph\", \"Speed\": 6.0, \"Route\": \"Anaheim Resort VehiclePositions 29d2bbdbeaec1d6888800f85bebf6e33\", \"Speed_Int\": 6, \"Route Type\": \"Loop or Inlining: 1\", \"Rounded Speed\": 10}, {\"Gtfs Dataset Name\": \"Anaheim Resort VehiclePositions\", \"Shape Array Key\": \"29d2bbdbeaec1d6888800f85bebf6e33\", \"Trip Id\": \"aa6a03fe-f119-44a5-8976-2ad77ceeb89f:1\", \"Sorted Stop Seq\": 3, \"Gtfs Dataset Key\": \"1051e067d18a76b0a79789f051d5c22b\", \"Loop Or Inlining\": 1, \"N Trips\": 8, \"Variable\": \"P20 Speed Mph\", \"Speed\": 3.7, \"Route\": \"Anaheim Resort VehiclePositions 29d2bbdbeaec1d6888800f85bebf6e33\", \"Speed_Int\": 3, \"Route Type\": \"Loop or Inlining: 1\", \"Rounded Speed\": 5}, {\"Gtfs Dataset Name\": \"Anaheim Resort VehiclePositions\", \"Shape Array Key\": \"29d2bbdbeaec1d6888800f85bebf6e33\", \"Trip Id\": \"aa6a03fe-f119-44a5-8976-2ad77ceeb89f:1\", \"Sorted Stop Seq\": 4, \"Gtfs Dataset Key\": \"1051e067d18a76b0a79789f051d5c22b\", \"Loop Or Inlining\": 1, \"N Trips\": 8, \"Variable\": \"P20 Speed Mph\", \"Speed\": 3.2, \"Route\": \"Anaheim Resort VehiclePositions 29d2bbdbeaec1d6888800f85bebf6e33\", \"Speed_Int\": 3, \"Route Type\": \"Loop or Inlining: 1\", \"Rounded Speed\": 5}, {\"Gtfs Dataset Name\": \"Anaheim Resort VehiclePositions\", \"Shape Array Key\": \"29d2bbdbeaec1d6888800f85bebf6e33\", \"Trip Id\": \"aa6a03fe-f119-44a5-8976-2ad77ceeb89f:1\", \"Sorted Stop Seq\": 5, \"Gtfs Dataset Key\": \"1051e067d18a76b0a79789f051d5c22b\", \"Loop Or Inlining\": 1, \"N Trips\": 8, \"Variable\": \"P20 Speed Mph\", \"Speed\": 0.4, \"Route\": \"Anaheim Resort VehiclePositions 29d2bbdbeaec1d6888800f85bebf6e33\", \"Speed_Int\": 0, \"Route Type\": \"Loop or Inlining: 1\", \"Rounded Speed\": 0}, {\"Gtfs Dataset Name\": \"Anaheim Resort VehiclePositions\", \"Shape Array Key\": \"29d2bbdbeaec1d6888800f85bebf6e33\", \"Trip Id\": \"aa6a03fe-f119-44a5-8976-2ad77ceeb89f:1\", \"Sorted Stop Seq\": 6, \"Gtfs Dataset Key\": \"1051e067d18a76b0a79789f051d5c22b\", \"Loop Or Inlining\": 1, \"N Trips\": 8, \"Variable\": \"P20 Speed Mph\", \"Speed\": 0.7, \"Route\": \"Anaheim Resort VehiclePositions 29d2bbdbeaec1d6888800f85bebf6e33\", \"Speed_Int\": 0, \"Route Type\": \"Loop or Inlining: 1\", \"Rounded Speed\": 0}, {\"Gtfs Dataset Name\": \"Anaheim Resort VehiclePositions\", \"Shape Array Key\": \"29d2bbdbeaec1d6888800f85bebf6e33\", \"Trip Id\": \"aa6a03fe-f119-44a5-8976-2ad77ceeb89f:1\", \"Sorted Stop Seq\": 7, \"Gtfs Dataset Key\": \"1051e067d18a76b0a79789f051d5c22b\", \"Loop Or Inlining\": 1, \"N Trips\": 8, \"Variable\": \"P20 Speed Mph\", \"Speed\": 3.1, \"Route\": \"Anaheim Resort VehiclePositions 29d2bbdbeaec1d6888800f85bebf6e33\", \"Speed_Int\": 3, \"Route Type\": \"Loop or Inlining: 1\", \"Rounded Speed\": 5}, {\"Gtfs Dataset Name\": \"Anaheim Resort VehiclePositions\", \"Shape Array Key\": \"29d2bbdbeaec1d6888800f85bebf6e33\", \"Trip Id\": \"aa6a03fe-f119-44a5-8976-2ad77ceeb89f:1\", \"Sorted Stop Seq\": 8, \"Gtfs Dataset Key\": \"1051e067d18a76b0a79789f051d5c22b\", \"Loop Or Inlining\": 1, \"N Trips\": 8, \"Variable\": \"P20 Speed Mph\", \"Speed\": 3.6, \"Route\": \"Anaheim Resort VehiclePositions 29d2bbdbeaec1d6888800f85bebf6e33\", \"Speed_Int\": 3, \"Route Type\": \"Loop or Inlining: 1\", \"Rounded Speed\": 5}, {\"Gtfs Dataset Name\": \"Anaheim Resort VehiclePositions\", \"Shape Array Key\": \"29d2bbdbeaec1d6888800f85bebf6e33\", \"Trip Id\": \"aa6a03fe-f119-44a5-8976-2ad77ceeb89f:1\", \"Sorted Stop Seq\": 9, \"Gtfs Dataset Key\": \"1051e067d18a76b0a79789f051d5c22b\", \"Loop Or Inlining\": 1, \"N Trips\": 8, \"Variable\": \"P20 Speed Mph\", \"Speed\": 3.0, \"Route\": \"Anaheim Resort VehiclePositions 29d2bbdbeaec1d6888800f85bebf6e33\", \"Speed_Int\": 3, \"Route Type\": \"Loop or Inlining: 1\", \"Rounded Speed\": 5}, {\"Gtfs Dataset Name\": \"Eastern Sierra Vehicle Positions\", \"Shape Array Key\": \"754c5b012195800c38dc58e72e4f482e\", \"Trip Id\": \"t_97725_b_2397_tn_11\", \"Sorted Stop Seq\": 1, \"Gtfs Dataset Key\": \"64b3bb0d6a6888b62be32aa789cc37ef\", \"Loop Or Inlining\": 0, \"N Trips\": 8, \"Variable\": \"P20 Speed Mph\", \"Speed\": 0.0, \"Route\": \"Eastern Sierra Vehicle Positions 754c5b012195800c38dc58e72e4f482e\", \"Speed_Int\": 0, \"Route Type\": \"Loop or Inlining: 0\", \"Rounded Speed\": 0}, {\"Gtfs Dataset Name\": \"Eastern Sierra Vehicle Positions\", \"Shape Array Key\": \"754c5b012195800c38dc58e72e4f482e\", \"Trip Id\": \"t_97725_b_2397_tn_11\", \"Sorted Stop Seq\": 2, \"Gtfs Dataset Key\": \"64b3bb0d6a6888b62be32aa789cc37ef\", \"Loop Or Inlining\": 0, \"N Trips\": 9, \"Variable\": \"P20 Speed Mph\", \"Speed\": 2.2, \"Route\": \"Eastern Sierra Vehicle Positions 754c5b012195800c38dc58e72e4f482e\", \"Speed_Int\": 2, \"Route Type\": \"Loop or Inlining: 0\", \"Rounded Speed\": 5}, {\"Gtfs Dataset Name\": \"Eastern Sierra Vehicle Positions\", \"Shape Array Key\": \"754c5b012195800c38dc58e72e4f482e\", \"Trip Id\": \"t_97725_b_2397_tn_13\", \"Sorted Stop Seq\": 3, \"Gtfs Dataset Key\": \"64b3bb0d6a6888b62be32aa789cc37ef\", \"Loop Or Inlining\": 0, \"N Trips\": 1, \"Variable\": \"P20 Speed Mph\", \"Speed\": 0.0, \"Route\": \"Eastern Sierra Vehicle Positions 754c5b012195800c38dc58e72e4f482e\", \"Speed_Int\": 0, \"Route Type\": \"Loop or Inlining: 0\", \"Rounded Speed\": 0}, {\"Gtfs Dataset Name\": \"Eastern Sierra Vehicle Positions\", \"Shape Array Key\": \"754c5b012195800c38dc58e72e4f482e\", \"Trip Id\": \"t_97725_b_2397_tn_9\", \"Sorted Stop Seq\": 1, \"Gtfs Dataset Key\": \"64b3bb0d6a6888b62be32aa789cc37ef\", \"Loop Or Inlining\": 0, \"N Trips\": 9, \"Variable\": \"P20 Speed Mph\", \"Speed\": 2.2, \"Route\": \"Eastern Sierra Vehicle Positions 754c5b012195800c38dc58e72e4f482e\", \"Speed_Int\": 2, \"Route Type\": \"Loop or Inlining: 0\", \"Rounded Speed\": 5}, {\"Gtfs Dataset Name\": \"Eastern Sierra Vehicle Positions\", \"Shape Array Key\": \"754c5b012195800c38dc58e72e4f482e\", \"Trip Id\": \"t_97725_b_2397_tn_9\", \"Sorted Stop Seq\": 2, \"Gtfs Dataset Key\": \"64b3bb0d6a6888b62be32aa789cc37ef\", \"Loop Or Inlining\": 0, \"N Trips\": 1, \"Variable\": \"P20 Speed Mph\", \"Speed\": 0.0, \"Route\": \"Eastern Sierra Vehicle Positions 754c5b012195800c38dc58e72e4f482e\", \"Speed_Int\": 0, \"Route Type\": \"Loop or Inlining: 0\", \"Rounded Speed\": 0}, {\"Gtfs Dataset Name\": \"Eastern Sierra Vehicle Positions\", \"Shape Array Key\": \"e3c5ed2c6fa6cd5c5cd57d46aeb3cd8e\", \"Trip Id\": \"t_195132_b_78389_tn_1\", \"Sorted Stop Seq\": 1, \"Gtfs Dataset Key\": \"64b3bb0d6a6888b62be32aa789cc37ef\", \"Loop Or Inlining\": 0, \"N Trips\": 1, \"Variable\": \"P20 Speed Mph\", \"Speed\": 34.6, \"Route\": \"Eastern Sierra Vehicle Positions e3c5ed2c6fa6cd5c5cd57d46aeb3cd8e\", \"Speed_Int\": 34, \"Route Type\": \"Loop or Inlining: 0\", \"Rounded Speed\": 35}, {\"Gtfs Dataset Name\": \"Eastern Sierra Vehicle Positions\", \"Shape Array Key\": \"e3c5ed2c6fa6cd5c5cd57d46aeb3cd8e\", \"Trip Id\": \"t_195132_b_78389_tn_1\", \"Sorted Stop Seq\": 2, \"Gtfs Dataset Key\": \"64b3bb0d6a6888b62be32aa789cc37ef\", \"Loop Or Inlining\": 0, \"N Trips\": 1, \"Variable\": \"P20 Speed Mph\", \"Speed\": 0.5, \"Route\": \"Eastern Sierra Vehicle Positions e3c5ed2c6fa6cd5c5cd57d46aeb3cd8e\", \"Speed_Int\": 0, \"Route Type\": \"Loop or Inlining: 0\", \"Rounded Speed\": 0}, {\"Gtfs Dataset Name\": \"Eastern Sierra Vehicle Positions\", \"Shape Array Key\": \"e3c5ed2c6fa6cd5c5cd57d46aeb3cd8e\", \"Trip Id\": \"t_195132_b_78389_tn_1\", \"Sorted Stop Seq\": 3, \"Gtfs Dataset Key\": \"64b3bb0d6a6888b62be32aa789cc37ef\", \"Loop Or Inlining\": 0, \"N Trips\": 1, \"Variable\": \"P20 Speed Mph\", \"Speed\": 0.5, \"Route\": \"Eastern Sierra Vehicle Positions e3c5ed2c6fa6cd5c5cd57d46aeb3cd8e\", \"Speed_Int\": 0, \"Route Type\": \"Loop or Inlining: 0\", \"Rounded Speed\": 0}, {\"Gtfs Dataset Name\": \"Eastern Sierra Vehicle Positions\", \"Shape Array Key\": \"e3c5ed2c6fa6cd5c5cd57d46aeb3cd8e\", \"Trip Id\": \"t_195132_b_78389_tn_1\", \"Sorted Stop Seq\": 4, \"Gtfs Dataset Key\": \"64b3bb0d6a6888b62be32aa789cc37ef\", \"Loop Or Inlining\": 0, \"N Trips\": 1, \"Variable\": \"P20 Speed Mph\", \"Speed\": 11.8, \"Route\": \"Eastern Sierra Vehicle Positions e3c5ed2c6fa6cd5c5cd57d46aeb3cd8e\", \"Speed_Int\": 11, \"Route Type\": \"Loop or Inlining: 0\", \"Rounded Speed\": 15}, {\"Gtfs Dataset Name\": \"Anaheim Resort VehiclePositions\", \"Shape Array Key\": \"29d2bbdbeaec1d6888800f85bebf6e33\", \"Trip Id\": \"aa6a03fe-f119-44a5-8976-2ad77ceeb89f:1\", \"Sorted Stop Seq\": 1, \"Gtfs Dataset Key\": \"1051e067d18a76b0a79789f051d5c22b\", \"Loop Or Inlining\": 1, \"N Trips\": 8, \"Variable\": \"P80 Speed Mph\", \"Speed\": 0.0, \"Route\": \"Anaheim Resort VehiclePositions 29d2bbdbeaec1d6888800f85bebf6e33\", \"Speed_Int\": 0, \"Route Type\": \"Loop or Inlining: 1\", \"Rounded Speed\": 0}, {\"Gtfs Dataset Name\": \"Anaheim Resort VehiclePositions\", \"Shape Array Key\": \"29d2bbdbeaec1d6888800f85bebf6e33\", \"Trip Id\": \"aa6a03fe-f119-44a5-8976-2ad77ceeb89f:1\", \"Sorted Stop Seq\": 2, \"Gtfs Dataset Key\": \"1051e067d18a76b0a79789f051d5c22b\", \"Loop Or Inlining\": 1, \"N Trips\": 8, \"Variable\": \"P80 Speed Mph\", \"Speed\": 11.1, \"Route\": \"Anaheim Resort VehiclePositions 29d2bbdbeaec1d6888800f85bebf6e33\", \"Speed_Int\": 11, \"Route Type\": \"Loop or Inlining: 1\", \"Rounded Speed\": 15}, {\"Gtfs Dataset Name\": \"Anaheim Resort VehiclePositions\", \"Shape Array Key\": \"29d2bbdbeaec1d6888800f85bebf6e33\", \"Trip Id\": \"aa6a03fe-f119-44a5-8976-2ad77ceeb89f:1\", \"Sorted Stop Seq\": 3, \"Gtfs Dataset Key\": \"1051e067d18a76b0a79789f051d5c22b\", \"Loop Or Inlining\": 1, \"N Trips\": 8, \"Variable\": \"P80 Speed Mph\", \"Speed\": 4.8, \"Route\": \"Anaheim Resort VehiclePositions 29d2bbdbeaec1d6888800f85bebf6e33\", \"Speed_Int\": 4, \"Route Type\": \"Loop or Inlining: 1\", \"Rounded Speed\": 5}, {\"Gtfs Dataset Name\": \"Anaheim Resort VehiclePositions\", \"Shape Array Key\": \"29d2bbdbeaec1d6888800f85bebf6e33\", \"Trip Id\": \"aa6a03fe-f119-44a5-8976-2ad77ceeb89f:1\", \"Sorted Stop Seq\": 4, \"Gtfs Dataset Key\": \"1051e067d18a76b0a79789f051d5c22b\", \"Loop Or Inlining\": 1, \"N Trips\": 8, \"Variable\": \"P80 Speed Mph\", \"Speed\": 5.7, \"Route\": \"Anaheim Resort VehiclePositions 29d2bbdbeaec1d6888800f85bebf6e33\", \"Speed_Int\": 5, \"Route Type\": \"Loop or Inlining: 1\", \"Rounded Speed\": 5}, {\"Gtfs Dataset Name\": \"Anaheim Resort VehiclePositions\", \"Shape Array Key\": \"29d2bbdbeaec1d6888800f85bebf6e33\", \"Trip Id\": \"aa6a03fe-f119-44a5-8976-2ad77ceeb89f:1\", \"Sorted Stop Seq\": 5, \"Gtfs Dataset Key\": \"1051e067d18a76b0a79789f051d5c22b\", \"Loop Or Inlining\": 1, \"N Trips\": 8, \"Variable\": \"P80 Speed Mph\", \"Speed\": 0.9, \"Route\": \"Anaheim Resort VehiclePositions 29d2bbdbeaec1d6888800f85bebf6e33\", \"Speed_Int\": 0, \"Route Type\": \"Loop or Inlining: 1\", \"Rounded Speed\": 0}, {\"Gtfs Dataset Name\": \"Anaheim Resort VehiclePositions\", \"Shape Array Key\": \"29d2bbdbeaec1d6888800f85bebf6e33\", \"Trip Id\": \"aa6a03fe-f119-44a5-8976-2ad77ceeb89f:1\", \"Sorted Stop Seq\": 6, \"Gtfs Dataset Key\": \"1051e067d18a76b0a79789f051d5c22b\", \"Loop Or Inlining\": 1, \"N Trips\": 8, \"Variable\": \"P80 Speed Mph\", \"Speed\": 3.4, \"Route\": \"Anaheim Resort VehiclePositions 29d2bbdbeaec1d6888800f85bebf6e33\", \"Speed_Int\": 3, \"Route Type\": \"Loop or Inlining: 1\", \"Rounded Speed\": 5}, {\"Gtfs Dataset Name\": \"Anaheim Resort VehiclePositions\", \"Shape Array Key\": \"29d2bbdbeaec1d6888800f85bebf6e33\", \"Trip Id\": \"aa6a03fe-f119-44a5-8976-2ad77ceeb89f:1\", \"Sorted Stop Seq\": 7, \"Gtfs Dataset Key\": \"1051e067d18a76b0a79789f051d5c22b\", \"Loop Or Inlining\": 1, \"N Trips\": 8, \"Variable\": \"P80 Speed Mph\", \"Speed\": 4.4, \"Route\": \"Anaheim Resort VehiclePositions 29d2bbdbeaec1d6888800f85bebf6e33\", \"Speed_Int\": 4, \"Route Type\": \"Loop or Inlining: 1\", \"Rounded Speed\": 5}, {\"Gtfs Dataset Name\": \"Anaheim Resort VehiclePositions\", \"Shape Array Key\": \"29d2bbdbeaec1d6888800f85bebf6e33\", \"Trip Id\": \"aa6a03fe-f119-44a5-8976-2ad77ceeb89f:1\", \"Sorted Stop Seq\": 8, \"Gtfs Dataset Key\": \"1051e067d18a76b0a79789f051d5c22b\", \"Loop Or Inlining\": 1, \"N Trips\": 8, \"Variable\": \"P80 Speed Mph\", \"Speed\": 6.2, \"Route\": \"Anaheim Resort VehiclePositions 29d2bbdbeaec1d6888800f85bebf6e33\", \"Speed_Int\": 6, \"Route Type\": \"Loop or Inlining: 1\", \"Rounded Speed\": 10}, {\"Gtfs Dataset Name\": \"Anaheim Resort VehiclePositions\", \"Shape Array Key\": \"29d2bbdbeaec1d6888800f85bebf6e33\", \"Trip Id\": \"aa6a03fe-f119-44a5-8976-2ad77ceeb89f:1\", \"Sorted Stop Seq\": 9, \"Gtfs Dataset Key\": \"1051e067d18a76b0a79789f051d5c22b\", \"Loop Or Inlining\": 1, \"N Trips\": 8, \"Variable\": \"P80 Speed Mph\", \"Speed\": 6.8, \"Route\": \"Anaheim Resort VehiclePositions 29d2bbdbeaec1d6888800f85bebf6e33\", \"Speed_Int\": 6, \"Route Type\": \"Loop or Inlining: 1\", \"Rounded Speed\": 10}, {\"Gtfs Dataset Name\": \"Eastern Sierra Vehicle Positions\", \"Shape Array Key\": \"754c5b012195800c38dc58e72e4f482e\", \"Trip Id\": \"t_97725_b_2397_tn_11\", \"Sorted Stop Seq\": 1, \"Gtfs Dataset Key\": \"64b3bb0d6a6888b62be32aa789cc37ef\", \"Loop Or Inlining\": 0, \"N Trips\": 8, \"Variable\": \"P80 Speed Mph\", \"Speed\": 0.0, \"Route\": \"Eastern Sierra Vehicle Positions 754c5b012195800c38dc58e72e4f482e\", \"Speed_Int\": 0, \"Route Type\": \"Loop or Inlining: 0\", \"Rounded Speed\": 0}, {\"Gtfs Dataset Name\": \"Eastern Sierra Vehicle Positions\", \"Shape Array Key\": \"754c5b012195800c38dc58e72e4f482e\", \"Trip Id\": \"t_97725_b_2397_tn_11\", \"Sorted Stop Seq\": 2, \"Gtfs Dataset Key\": \"64b3bb0d6a6888b62be32aa789cc37ef\", \"Loop Or Inlining\": 0, \"N Trips\": 9, \"Variable\": \"P80 Speed Mph\", \"Speed\": 5.1, \"Route\": \"Eastern Sierra Vehicle Positions 754c5b012195800c38dc58e72e4f482e\", \"Speed_Int\": 5, \"Route Type\": \"Loop or Inlining: 0\", \"Rounded Speed\": 5}, {\"Gtfs Dataset Name\": \"Eastern Sierra Vehicle Positions\", \"Shape Array Key\": \"754c5b012195800c38dc58e72e4f482e\", \"Trip Id\": \"t_97725_b_2397_tn_13\", \"Sorted Stop Seq\": 3, \"Gtfs Dataset Key\": \"64b3bb0d6a6888b62be32aa789cc37ef\", \"Loop Or Inlining\": 0, \"N Trips\": 1, \"Variable\": \"P80 Speed Mph\", \"Speed\": 0.0, \"Route\": \"Eastern Sierra Vehicle Positions 754c5b012195800c38dc58e72e4f482e\", \"Speed_Int\": 0, \"Route Type\": \"Loop or Inlining: 0\", \"Rounded Speed\": 0}, {\"Gtfs Dataset Name\": \"Eastern Sierra Vehicle Positions\", \"Shape Array Key\": \"754c5b012195800c38dc58e72e4f482e\", \"Trip Id\": \"t_97725_b_2397_tn_9\", \"Sorted Stop Seq\": 1, \"Gtfs Dataset Key\": \"64b3bb0d6a6888b62be32aa789cc37ef\", \"Loop Or Inlining\": 0, \"N Trips\": 9, \"Variable\": \"P80 Speed Mph\", \"Speed\": 5.1, \"Route\": \"Eastern Sierra Vehicle Positions 754c5b012195800c38dc58e72e4f482e\", \"Speed_Int\": 5, \"Route Type\": \"Loop or Inlining: 0\", \"Rounded Speed\": 5}, {\"Gtfs Dataset Name\": \"Eastern Sierra Vehicle Positions\", \"Shape Array Key\": \"754c5b012195800c38dc58e72e4f482e\", \"Trip Id\": \"t_97725_b_2397_tn_9\", \"Sorted Stop Seq\": 2, \"Gtfs Dataset Key\": \"64b3bb0d6a6888b62be32aa789cc37ef\", \"Loop Or Inlining\": 0, \"N Trips\": 1, \"Variable\": \"P80 Speed Mph\", \"Speed\": 0.0, \"Route\": \"Eastern Sierra Vehicle Positions 754c5b012195800c38dc58e72e4f482e\", \"Speed_Int\": 0, \"Route Type\": \"Loop or Inlining: 0\", \"Rounded Speed\": 0}, {\"Gtfs Dataset Name\": \"Eastern Sierra Vehicle Positions\", \"Shape Array Key\": \"e3c5ed2c6fa6cd5c5cd57d46aeb3cd8e\", \"Trip Id\": \"t_195132_b_78389_tn_1\", \"Sorted Stop Seq\": 1, \"Gtfs Dataset Key\": \"64b3bb0d6a6888b62be32aa789cc37ef\", \"Loop Or Inlining\": 0, \"N Trips\": 1, \"Variable\": \"P80 Speed Mph\", \"Speed\": 34.6, \"Route\": \"Eastern Sierra Vehicle Positions e3c5ed2c6fa6cd5c5cd57d46aeb3cd8e\", \"Speed_Int\": 34, \"Route Type\": \"Loop or Inlining: 0\", \"Rounded Speed\": 35}, {\"Gtfs Dataset Name\": \"Eastern Sierra Vehicle Positions\", \"Shape Array Key\": \"e3c5ed2c6fa6cd5c5cd57d46aeb3cd8e\", \"Trip Id\": \"t_195132_b_78389_tn_1\", \"Sorted Stop Seq\": 2, \"Gtfs Dataset Key\": \"64b3bb0d6a6888b62be32aa789cc37ef\", \"Loop Or Inlining\": 0, \"N Trips\": 1, \"Variable\": \"P80 Speed Mph\", \"Speed\": 0.5, \"Route\": \"Eastern Sierra Vehicle Positions e3c5ed2c6fa6cd5c5cd57d46aeb3cd8e\", \"Speed_Int\": 0, \"Route Type\": \"Loop or Inlining: 0\", \"Rounded Speed\": 0}, {\"Gtfs Dataset Name\": \"Eastern Sierra Vehicle Positions\", \"Shape Array Key\": \"e3c5ed2c6fa6cd5c5cd57d46aeb3cd8e\", \"Trip Id\": \"t_195132_b_78389_tn_1\", \"Sorted Stop Seq\": 3, \"Gtfs Dataset Key\": \"64b3bb0d6a6888b62be32aa789cc37ef\", \"Loop Or Inlining\": 0, \"N Trips\": 1, \"Variable\": \"P80 Speed Mph\", \"Speed\": 0.5, \"Route\": \"Eastern Sierra Vehicle Positions e3c5ed2c6fa6cd5c5cd57d46aeb3cd8e\", \"Speed_Int\": 0, \"Route Type\": \"Loop or Inlining: 0\", \"Rounded Speed\": 0}, {\"Gtfs Dataset Name\": \"Eastern Sierra Vehicle Positions\", \"Shape Array Key\": \"e3c5ed2c6fa6cd5c5cd57d46aeb3cd8e\", \"Trip Id\": \"t_195132_b_78389_tn_1\", \"Sorted Stop Seq\": 4, \"Gtfs Dataset Key\": \"64b3bb0d6a6888b62be32aa789cc37ef\", \"Loop Or Inlining\": 0, \"N Trips\": 1, \"Variable\": \"P80 Speed Mph\", \"Speed\": 11.8, \"Route\": \"Eastern Sierra Vehicle Positions e3c5ed2c6fa6cd5c5cd57d46aeb3cd8e\", \"Speed_Int\": 11, \"Route Type\": \"Loop or Inlining: 0\", \"Rounded Speed\": 15}]}}, {\"mode\": \"vega-lite\"});\n",
       "</script>"
      ],
      "text/plain": [
       "alt.VConcatChart(...)"
      ]
     },
     "execution_count": 131,
     "metadata": {},
     "output_type": "execute_result"
    }
   ],
   "source": [
    "title & (chart1.interactive() & chart2.interactive())"
   ]
  },
  {
   "cell_type": "markdown",
   "id": "9745f078-1999-4e5c-9ddc-5eba135f55ab",
   "metadata": {},
   "source": [
    "### Draft"
   ]
  },
  {
   "cell_type": "code",
   "execution_count": 127,
   "id": "4f25a17e-cea1-4bff-888d-d8f37dc31775",
   "metadata": {},
   "outputs": [
    {
     "data": {
      "text/plain": [
       "'\\np25 = troubleshoot.total_stops.quantile(0.25).astype(float)\\np50 =  troubleshoot.total_stops.quantile(0.50).astype(float)\\np75 =  troubleshoot.total_stops.quantile(0.75).astype(float)\\np95 =  troubleshoot.total_stops.quantile(0.95).astype(float)\\np99 =  troubleshoot.total_stops.quantile(0.99).astype(float)\\n'"
      ]
     },
     "execution_count": 127,
     "metadata": {},
     "output_type": "execute_result"
    }
   ],
   "source": [
    "\"\"\"\n",
    "p25 = troubleshoot.total_stops.quantile(0.25).astype(float)\n",
    "p50 =  troubleshoot.total_stops.quantile(0.50).astype(float)\n",
    "p75 =  troubleshoot.total_stops.quantile(0.75).astype(float)\n",
    "p95 =  troubleshoot.total_stops.quantile(0.95).astype(float)\n",
    "p99 =  troubleshoot.total_stops.quantile(0.99).astype(float)\n",
    "\"\"\""
   ]
  },
  {
   "cell_type": "code",
   "execution_count": 128,
   "id": "0e676189-df19-4630-8dc6-3c4fc8c60e16",
   "metadata": {},
   "outputs": [],
   "source": [
    "def stop_categories1(row):\n",
    "        if ((row.total_stops > 0) and (row.total_stops <= p25)):\n",
    "            return \"25th  <= 17 stops\"\n",
    "        elif ((row.total_stops > p25) and (row.total_stops <= p75)):\n",
    "            return \"50th <= 30 stops\"\n",
    "        elif ((row.total_stops > p75) and (row.total_stops <= p95)):\n",
    "               return \"75th <= 50 stops\"\n",
    "        elif ((row.total_stops > p95) and (row.total_stops <= p99)):\n",
    "               return \"95th <= 85 stops\"\n",
    "        elif row.total_stops >= p95:\n",
    "               return \"99th >= 203 stops\"\n",
    "        else:\n",
    "            return \"other\""
   ]
  },
  {
   "cell_type": "code",
   "execution_count": 129,
   "id": "af72c1c9-df07-4e7f-973f-f0c07223b7a4",
   "metadata": {},
   "outputs": [],
   "source": [
    "def create_jitter_plot(df):\n",
    "    \n",
    "    title_op = df['Gtfs Dataset Name'].iloc[0].replace('VehiclePositions','').strip()\n",
    "    inline = df['Loop Or Inlining'].iloc[0]\n",
    "    \n",
    "    chart1 = (\n",
    "        alt.Chart(df, width=0.5)\n",
    "        .mark_circle(size=100)\n",
    "        .encode(\n",
    "            x=alt.X(\n",
    "                \"jitter:Q\",\n",
    "                title=None,\n",
    "                axis=alt.Axis(values=[0], ticks=False, grid=False, labels=False),\n",
    "                scale=alt.Scale(),\n",
    "            ),\n",
    "            y=alt.Y(\"Rounded Speed:Q\", axis=alt.Axis(labelAngle=360)),\n",
    "            color=alt.Color(\n",
    "                \"Variable:N\",\n",
    "                scale=alt.Scale(range=cp.CALITP_CATEGORY_BRIGHT_COLORS),\n",
    "            ),\n",
    "            tooltip=df.columns.tolist(),\n",
    "            column=alt.Column(\n",
    "                \"Stop Sequence:N\",\n",
    "                header=alt.Header(\n",
    "                    labelAngle=360,\n",
    "                    titleOrient=\"top\",\n",
    "                    labelOrient=\"bottom\",\n",
    "                    labelAlign=\"right\",\n",
    "                    labelPadding=2,\n",
    "                ),\n",
    "            ),\n",
    "        )\n",
    "        .transform_calculate(\n",
    "            # Generate Gaussian jitter with a Box-Muller transform\n",
    "            jitter=\"sqrt(-2*log(random()))*cos(2*PI*random())\"\n",
    "        )\n",
    "        .properties(title=f\"{title_op} - Route Type {inline}\")\n",
    "    )\n",
    "    \n",
    "    chart1 = threshold_utils.chart_size(chart1, 40, 250)\n",
    "    \n",
    "    return chart1"
   ]
  },
  {
   "cell_type": "code",
   "execution_count": 130,
   "id": "18ebd177-efc1-4bdc-9fac-bf947db810a4",
   "metadata": {},
   "outputs": [
    {
     "ename": "NameError",
     "evalue": "name 'anaheim_test' is not defined",
     "output_type": "error",
     "traceback": [
      "\u001b[0;31m---------------------------------------------------------------------------\u001b[0m",
      "\u001b[0;31mNameError\u001b[0m                                 Traceback (most recent call last)",
      "Cell \u001b[0;32mIn[130], line 2\u001b[0m\n\u001b[1;32m      1\u001b[0m chart2 \u001b[38;5;241m=\u001b[39m (\n\u001b[0;32m----> 2\u001b[0m         alt\u001b[38;5;241m.\u001b[39mChart(\u001b[43manaheim_test\u001b[49m, width\u001b[38;5;241m=\u001b[39m\u001b[38;5;241m0.5\u001b[39m)\n\u001b[1;32m      3\u001b[0m         \u001b[38;5;241m.\u001b[39mmark_circle(size\u001b[38;5;241m=\u001b[39m\u001b[38;5;241m100\u001b[39m)\n\u001b[1;32m      4\u001b[0m         \u001b[38;5;241m.\u001b[39mencode(\n\u001b[1;32m      5\u001b[0m             x\u001b[38;5;241m=\u001b[39malt\u001b[38;5;241m.\u001b[39mX(\n\u001b[1;32m      6\u001b[0m                 \u001b[38;5;124m\"\u001b[39m\u001b[38;5;124mjitter:Q\u001b[39m\u001b[38;5;124m\"\u001b[39m,\n\u001b[1;32m      7\u001b[0m                 title\u001b[38;5;241m=\u001b[39m\u001b[38;5;28;01mNone\u001b[39;00m,\n\u001b[1;32m      8\u001b[0m                 axis\u001b[38;5;241m=\u001b[39malt\u001b[38;5;241m.\u001b[39mAxis(values\u001b[38;5;241m=\u001b[39m[\u001b[38;5;241m0\u001b[39m], ticks\u001b[38;5;241m=\u001b[39m\u001b[38;5;28;01mFalse\u001b[39;00m, grid\u001b[38;5;241m=\u001b[39m\u001b[38;5;28;01mFalse\u001b[39;00m, labels\u001b[38;5;241m=\u001b[39m\u001b[38;5;28;01mFalse\u001b[39;00m),\n\u001b[1;32m      9\u001b[0m                 scale\u001b[38;5;241m=\u001b[39malt\u001b[38;5;241m.\u001b[39mScale(),\n\u001b[1;32m     10\u001b[0m             ),\n\u001b[1;32m     11\u001b[0m             y\u001b[38;5;241m=\u001b[39malt\u001b[38;5;241m.\u001b[39mY(\u001b[38;5;124m\"\u001b[39m\u001b[38;5;124mrounded_speed:Q\u001b[39m\u001b[38;5;124m\"\u001b[39m, axis\u001b[38;5;241m=\u001b[39malt\u001b[38;5;241m.\u001b[39mAxis(labelAngle\u001b[38;5;241m=\u001b[39m\u001b[38;5;241m-\u001b[39m\u001b[38;5;241m90\u001b[39m)),\n\u001b[1;32m     12\u001b[0m             color\u001b[38;5;241m=\u001b[39malt\u001b[38;5;241m.\u001b[39mColor(\n\u001b[1;32m     13\u001b[0m                 \u001b[38;5;124m\"\u001b[39m\u001b[38;5;124mvariable:N\u001b[39m\u001b[38;5;124m\"\u001b[39m,\n\u001b[1;32m     14\u001b[0m                 scale\u001b[38;5;241m=\u001b[39malt\u001b[38;5;241m.\u001b[39mScale(\u001b[38;5;28mrange\u001b[39m\u001b[38;5;241m=\u001b[39mcp\u001b[38;5;241m.\u001b[39mCALITP_CATEGORY_BRIGHT_COLORS),\n\u001b[1;32m     15\u001b[0m             ),\n\u001b[1;32m     16\u001b[0m             tooltip\u001b[38;5;241m=\u001b[39manaheim_test\u001b[38;5;241m.\u001b[39mcolumns\u001b[38;5;241m.\u001b[39mtolist(),\n\u001b[1;32m     17\u001b[0m             column\u001b[38;5;241m=\u001b[39malt\u001b[38;5;241m.\u001b[39mColumn(\n\u001b[1;32m     18\u001b[0m                 \u001b[38;5;124m\"\u001b[39m\u001b[38;5;124mstop_sequence:N\u001b[39m\u001b[38;5;124m\"\u001b[39m,\n\u001b[1;32m     19\u001b[0m                 header\u001b[38;5;241m=\u001b[39malt\u001b[38;5;241m.\u001b[39mHeader(\n\u001b[1;32m     20\u001b[0m                     labelAngle\u001b[38;5;241m=\u001b[39m\u001b[38;5;241m360\u001b[39m,\n\u001b[1;32m     21\u001b[0m                     titleOrient\u001b[38;5;241m=\u001b[39m\u001b[38;5;124m\"\u001b[39m\u001b[38;5;124mtop\u001b[39m\u001b[38;5;124m\"\u001b[39m,\n\u001b[1;32m     22\u001b[0m                     labelOrient\u001b[38;5;241m=\u001b[39m\u001b[38;5;124m\"\u001b[39m\u001b[38;5;124mbottom\u001b[39m\u001b[38;5;124m\"\u001b[39m,\n\u001b[1;32m     23\u001b[0m                     labelAlign\u001b[38;5;241m=\u001b[39m\u001b[38;5;124m\"\u001b[39m\u001b[38;5;124mright\u001b[39m\u001b[38;5;124m\"\u001b[39m,\n\u001b[1;32m     24\u001b[0m                     labelPadding\u001b[38;5;241m=\u001b[39m\u001b[38;5;241m2\u001b[39m,\n\u001b[1;32m     25\u001b[0m                 ),\n\u001b[1;32m     26\u001b[0m             ),\n\u001b[1;32m     27\u001b[0m         )\n\u001b[1;32m     28\u001b[0m         \u001b[38;5;241m.\u001b[39mtransform_calculate(\n\u001b[1;32m     29\u001b[0m             \u001b[38;5;66;03m# Generate Gaussian jitter with a Box-Muller transform\u001b[39;00m\n\u001b[1;32m     30\u001b[0m             jitter\u001b[38;5;241m=\u001b[39m\u001b[38;5;124m\"\u001b[39m\u001b[38;5;124msqrt(-2*log(random()))*cos(2*PI*random())\u001b[39m\u001b[38;5;124m\"\u001b[39m\n\u001b[1;32m     31\u001b[0m         )\n\u001b[1;32m     32\u001b[0m         \u001b[38;5;241m.\u001b[39mconfigure_facet(spacing\u001b[38;5;241m=\u001b[39m\u001b[38;5;241m0\u001b[39m)\n\u001b[1;32m     33\u001b[0m         \u001b[38;5;241m.\u001b[39mconfigure_view(stroke\u001b[38;5;241m=\u001b[39m\u001b[38;5;28;01mNone\u001b[39;00m)\n\u001b[1;32m     34\u001b[0m         \u001b[38;5;241m.\u001b[39mproperties(title\u001b[38;5;241m=\u001b[39m\u001b[38;5;124m\"\u001b[39m\u001b[38;5;124mTrip Duration by RT Category\u001b[39m\u001b[38;5;124m\"\u001b[39m)\n\u001b[1;32m     35\u001b[0m     )\n",
      "\u001b[0;31mNameError\u001b[0m: name 'anaheim_test' is not defined"
     ]
    }
   ],
   "source": [
    "chart2 = (\n",
    "        alt.Chart(anaheim_test, width=0.5)\n",
    "        .mark_circle(size=100)\n",
    "        .encode(\n",
    "            x=alt.X(\n",
    "                \"jitter:Q\",\n",
    "                title=None,\n",
    "                axis=alt.Axis(values=[0], ticks=False, grid=False, labels=False),\n",
    "                scale=alt.Scale(),\n",
    "            ),\n",
    "            y=alt.Y(\"rounded_speed:Q\", axis=alt.Axis(labelAngle=-90)),\n",
    "            color=alt.Color(\n",
    "                \"variable:N\",\n",
    "                scale=alt.Scale(range=cp.CALITP_CATEGORY_BRIGHT_COLORS),\n",
    "            ),\n",
    "            tooltip=anaheim_test.columns.tolist(),\n",
    "            column=alt.Column(\n",
    "                \"stop_sequence:N\",\n",
    "                header=alt.Header(\n",
    "                    labelAngle=360,\n",
    "                    titleOrient=\"top\",\n",
    "                    labelOrient=\"bottom\",\n",
    "                    labelAlign=\"right\",\n",
    "                    labelPadding=2,\n",
    "                ),\n",
    "            ),\n",
    "        )\n",
    "        .transform_calculate(\n",
    "            # Generate Gaussian jitter with a Box-Muller transform\n",
    "            jitter=\"sqrt(-2*log(random()))*cos(2*PI*random())\"\n",
    "        )\n",
    "        .configure_facet(spacing=0)\n",
    "        .configure_view(stroke=None)\n",
    "        .properties(title=\"Trip Duration by RT Category\")\n",
    "    )"
   ]
  },
  {
   "cell_type": "code",
   "execution_count": null,
   "id": "a7287305-20d8-434f-9756-42b18cf172a4",
   "metadata": {},
   "outputs": [],
   "source": [
    "chart2 = threshold_utils.chart_size(chart2,80,300)"
   ]
  },
  {
   "cell_type": "code",
   "execution_count": null,
   "id": "3f9e9258-b954-45bf-bd7a-17822c9c607a",
   "metadata": {},
   "outputs": [],
   "source": [
    "chart2"
   ]
  },
  {
   "cell_type": "code",
   "execution_count": null,
   "id": "ea1d8514-ae9c-42e6-b59a-49a44fecbc98",
   "metadata": {},
   "outputs": [],
   "source": [
    "chart1 = (\n",
    "        alt.Chart(anaheim_test_speedmph, width=0.5)\n",
    "        .mark_circle(size=100)\n",
    "        .encode(\n",
    "            x=alt.X(\n",
    "                \"jitter:Q\",\n",
    "                title=None,\n",
    "                axis=alt.Axis(values=[0], ticks=False, grid=False, labels=False),\n",
    "                scale=alt.Scale(),\n",
    "            ),\n",
    "            y=alt.Y(\"rounded_speed:Q\", axis=alt.Axis(labelAngle=-90)),\n",
    "            color=alt.Color(\n",
    "                \"stop_sequence:N\",\n",
    "                scale=alt.Scale(range=cp.CALITP_CATEGORY_BRIGHT_COLORS),\n",
    "            ),\n",
    "            tooltip=anaheim_test.columns.tolist(),\n",
    "            column=alt.Column(\n",
    "                \"stop_sequence:N\",\n",
    "                header=alt.Header(\n",
    "                    labelAngle=360,\n",
    "                    titleOrient=\"top\",\n",
    "                    labelOrient=\"bottom\",\n",
    "                    labelAlign=\"right\",\n",
    "                    labelPadding=2,\n",
    "                ),\n",
    "            ),\n",
    "        )\n",
    "        .transform_calculate(\n",
    "            # Generate Gaussian jitter with a Box-Muller transform\n",
    "            jitter=\"sqrt(-2*log(random()))*cos(2*PI*random())\"\n",
    "        )\n",
    "        .configure_facet(spacing=0)\n",
    "        .configure_view(stroke=None)\n",
    "        .properties(title=f\"Loop/Inling:{anaheim_test_speedmph.loop_or_inlining.iloc[0]}\")\n",
    "    )"
   ]
  },
  {
   "cell_type": "code",
   "execution_count": null,
   "id": "4e1eea88-640b-4e96-b2d5-07cd2f19afdf",
   "metadata": {},
   "outputs": [],
   "source": [
    "chart1 = threshold_utils.chart_size(chart1,80,300)"
   ]
  },
  {
   "cell_type": "code",
   "execution_count": null,
   "id": "c54559c6-8fb0-4109-8e7d-84c1ecb6497e",
   "metadata": {},
   "outputs": [],
   "source": [
    "chart1"
   ]
  },
  {
   "cell_type": "code",
   "execution_count": null,
   "id": "79375476-00a1-4b85-a532-26889fc465e4",
   "metadata": {},
   "outputs": [],
   "source": []
  },
  {
   "cell_type": "code",
   "execution_count": null,
   "id": "0e5c052e-cccd-4f75-be65-9658cf7616b1",
   "metadata": {},
   "outputs": [],
   "source": [
    "def create_dot_plot2(df, col_for_dots: str, \n",
    "                    x_axis_col:str, y_axis_col:str,\n",
    "                   tooltip_cols:list, chart_title:str):\n",
    "  \n",
    "    chart = (alt.Chart(df).mark_circle(opacity=1, size = 100).transform_window(\n",
    "    id='rank()',\n",
    "    groupby=[col_for_dots]).encode(\n",
    "    alt.X(f'{x_axis_col}:O', sort='descending', \n",
    "          axis=alt.Axis(ticks=False, grid=True)),\n",
    "    alt.Y(f'{y_axis_col}:N'), \n",
    "    color=alt.Color(f\"{col_for_dots}:N\", scale=alt.Scale(range=cp.CALITP_CATEGORY_BRIGHT_COLORS), legend=None),\n",
    "    tooltip = tooltip_cols)\n",
    "             .properties(title = chart_title))\n",
    "    \n",
    "    return chart"
   ]
  },
  {
   "cell_type": "code",
   "execution_count": null,
   "id": "e38644ab-7fb8-47b1-b692-512b55f05625",
   "metadata": {},
   "outputs": [],
   "source": [
    "chart3 = create_dot_plot1(anaheim_test_other, 'variable', 'stop_sequence', 'rounded_speed', anaheim_test_other.columns.tolist(),  'Percentile/Average')"
   ]
  },
  {
   "cell_type": "code",
   "execution_count": null,
   "id": "2b6df39b-b074-494d-8f5e-65fe05356f4b",
   "metadata": {},
   "outputs": [],
   "source": [
    "chart3 = threshold_utils.chart_size(chart3,650,300)"
   ]
  },
  {
   "cell_type": "code",
   "execution_count": null,
   "id": "c2c565de-3c55-4827-a5bb-b48c6d49d4c1",
   "metadata": {},
   "outputs": [],
   "source": [
    "chart4 = create_dot_plot2(anaheim_test_speedmph, 'variable', 'stop_sequence', 'rounded_speed', anaheim_test_speedmph.columns.tolist(), 'Speed per Trip')"
   ]
  },
  {
   "cell_type": "code",
   "execution_count": null,
   "id": "29b3b7b1-8f44-4a8d-97c3-ff934250e874",
   "metadata": {},
   "outputs": [],
   "source": [
    "chart4 = threshold_utils.chart_size(chart4,650,300)"
   ]
  },
  {
   "cell_type": "code",
   "execution_count": null,
   "id": "54146c88-15df-49e2-9de6-18f2666d9f9f",
   "metadata": {},
   "outputs": [],
   "source": [
    "chart4"
   ]
  },
  {
   "cell_type": "code",
   "execution_count": null,
   "id": "3ccbc087-f799-4429-b6c7-a9c1f38f021d",
   "metadata": {},
   "outputs": [],
   "source": [
    "chart3 + chart4"
   ]
  },
  {
   "cell_type": "code",
   "execution_count": null,
   "id": "9829d749-580c-4440-9397-4562192417b7",
   "metadata": {},
   "outputs": [],
   "source": [
    "chart7 = (\n",
    "        alt.Chart(anaheim_test_other, width=0.5)\n",
    "        .mark_circle(size=100)\n",
    "        .encode(\n",
    "            x=alt.X(\n",
    "                \"jitter:Q\",\n",
    "                title=None,\n",
    "                axis=alt.Axis(values=[0], ticks=False, grid=False, labels=False),\n",
    "                scale=alt.Scale(),\n",
    "            ),\n",
    "            y=alt.Y(\"rounded_speed:Q\", axis=alt.Axis(labelAngle=-90)),\n",
    "            color=alt.Color(\n",
    "                \"variable:N\",\n",
    "                scale=alt.Scale(range=cp.CALITP_CATEGORY_BRIGHT_COLORS),\n",
    "            ),\n",
    "            tooltip=anaheim_test.columns.tolist(),\n",
    "            column=alt.Column(\n",
    "                \"stop_sequence:N\",\n",
    "                header=alt.Header(\n",
    "                    labelAngle=-90,\n",
    "                    titleOrient=\"top\",\n",
    "                    labelOrient=\"bottom\",\n",
    "                    labelAlign=\"right\",\n",
    "                    labelPadding=2,\n",
    "                ),\n",
    "            ),\n",
    "        )\n",
    "        .transform_calculate(\n",
    "            # Generate Gaussian jitter with a Box-Muller transform\n",
    "            jitter=\"sqrt(-2*log(random()))*cos(2*PI*random())\"\n",
    "        )\n",
    "        .configure_facet(spacing=0)\n",
    "        .configure_view(stroke=None)\n",
    "        .properties(title=\"Trip Duration by RT Category\")\n",
    "    )"
   ]
  },
  {
   "cell_type": "code",
   "execution_count": null,
   "id": "454980fc-e6ab-4d53-b844-120a075b8034",
   "metadata": {},
   "outputs": [],
   "source": [
    "chart7 = threshold_utils.chart_size(chart7,80,300)"
   ]
  },
  {
   "cell_type": "code",
   "execution_count": null,
   "id": "58e57fb2-1c3b-47e1-8bb6-d4941f0ee985",
   "metadata": {},
   "outputs": [],
   "source": [
    "chart8 = (\n",
    "        alt.Chart(anaheim_test_other, width=0.5)\n",
    "        .mark_circle(size=100)\n",
    "        .encode(\n",
    "            x=alt.X(\n",
    "                \"jitter:Q\",\n",
    "                title=None,\n",
    "                axis=alt.Axis(values=[0], ticks=False, grid=False, labels=False),\n",
    "                scale=alt.Scale(),\n",
    "            ),\n",
    "            y=alt.Y(\"rounded_speed:Q\", axis=alt.Axis(labelAngle=-90)),\n",
    "            color=alt.Color(\n",
    "                \"variable:N\",\n",
    "                scale=alt.Scale(range=cp.CALITP_CATEGORY_BRIGHT_COLORS),\n",
    "            ),\n",
    "            tooltip=anaheim_test.columns.tolist(),\n",
    "            column=alt.Column(\n",
    "                \"stop_sequence:N\",\n",
    "                header=alt.Header(\n",
    "                    labelAngle=-90,\n",
    "                    titleOrient=\"top\",\n",
    "                    labelOrient=\"bottom\",\n",
    "                    labelAlign=\"right\",\n",
    "                    labelPadding=2,\n",
    "                ),\n",
    "            ),\n",
    "        )\n",
    "        .transform_calculate(\n",
    "            # Generate Gaussian jitter with a Box-Muller transform\n",
    "            jitter=\"sqrt(-2*log(random()))*cos(2*PI*random())\"\n",
    "        )\n",
    "        .properties(title=\"Trip Duration by RT Category\")\n",
    "    )"
   ]
  },
  {
   "cell_type": "code",
   "execution_count": null,
   "id": "c2ce0879-f45f-4c66-9b1a-870a243a1260",
   "metadata": {},
   "outputs": [],
   "source": [
    "chart9 = (\n",
    "        alt.Chart(anaheim_test_speedmph, width=0.5)\n",
    "        .mark_circle(size=100)\n",
    "        .encode(\n",
    "            x=alt.X(\n",
    "                \"jitter:Q\",\n",
    "                title=None,\n",
    "                axis=alt.Axis(values=[0], ticks=False, grid=False, labels=False),\n",
    "                scale=alt.Scale(),\n",
    "            ),\n",
    "            y=alt.Y(\"rounded_speed:Q\", axis=alt.Axis(labelAngle=-90)),\n",
    "            color=alt.Color(\n",
    "                \"variable:N\",\n",
    "                scale=alt.Scale(range=cp.CALITP_CATEGORY_BRIGHT_COLORS),\n",
    "            ),\n",
    "            tooltip=anaheim_test.columns.tolist(),\n",
    "            column=alt.Column(\n",
    "                \"stop_sequence:N\",\n",
    "                header=alt.Header(\n",
    "                    labelAngle=360,\n",
    "                    titleOrient=\"top\",\n",
    "                    labelOrient=\"bottom\",\n",
    "                    labelAlign=\"right\",\n",
    "                    labelPadding=2,\n",
    "                ),\n",
    "            ),\n",
    "        )\n",
    "        .transform_calculate(\n",
    "            # Generate Gaussian jitter with a Box-Muller transform\n",
    "            jitter=\"sqrt(-2*log(random()))*cos(2*PI*random())\"\n",
    "        )\n",
    "        .properties(title=f\"Loop/Inling:{anaheim_test_speedmph.loop_or_inlining.iloc[0]}\")\n",
    "    )"
   ]
  },
  {
   "cell_type": "code",
   "execution_count": null,
   "id": "04e3ce9a-a5ab-4aeb-a7d0-4ead6738324b",
   "metadata": {},
   "outputs": [],
   "source": [
    "chart8"
   ]
  },
  {
   "cell_type": "code",
   "execution_count": null,
   "id": "04d2026e-c040-45ea-aab6-2c09c2211632",
   "metadata": {},
   "outputs": [],
   "source": [
    "chart9 | chart8"
   ]
  },
  {
   "cell_type": "code",
   "execution_count": null,
   "id": "edb11b29-7038-4a5d-9e44-4d3b88e6cc88",
   "metadata": {},
   "outputs": [],
   "source": [
    "# pip install altair==5.0.0rc3\n",
    "chart5 = alt.Chart(anaheim_test_speedmph, title='Normally distributed jitter').mark_circle(size=50).encode(\n",
    "    y=\"rounded_speed:Q\",\n",
    "    x=\"stop_sequence:N\",\n",
    "    yOffset=\"jitter:Q\",\n",
    "    color=alt.Color('stop_sequence:Q').legend(None)\n",
    ").transform_calculate(\n",
    "    # Generate Gaussian jitter with a Box-Muller transform\n",
    "    jitter=\"sqrt(-2*log(random()))*cos(2*PI*random())\"\n",
    ")\n"
   ]
  },
  {
   "cell_type": "code",
   "execution_count": null,
   "id": "9bbcc880-7866-495c-9a68-3b7ca6c00c4a",
   "metadata": {},
   "outputs": [],
   "source": [
    "chart5 = threshold_utils.chart_size(chart5,650,300)"
   ]
  },
  {
   "cell_type": "code",
   "execution_count": null,
   "id": "a765f55e-73e2-4bae-9326-98ed1bbfadaf",
   "metadata": {},
   "outputs": [],
   "source": [
    "chart5"
   ]
  },
  {
   "cell_type": "markdown",
   "id": "c911a105-147a-4b8a-a741-5b67a8cf710a",
   "metadata": {
    "tags": []
   },
   "source": [
    "#### Look at one trip"
   ]
  },
  {
   "cell_type": "code",
   "execution_count": null,
   "id": "f02f2c0b-f5fc-4452-b39b-bb1a443bc727",
   "metadata": {},
   "outputs": [],
   "source": [
    "#foothill_og = speed_stops2[speed_stops2.trip_id == \"t604-b2791-sl5\"]"
   ]
  },
  {
   "cell_type": "code",
   "execution_count": null,
   "id": "173615fa-c942-4d85-9ca8-64852b706d1f",
   "metadata": {},
   "outputs": [],
   "source": [
    "#len(foothill_og)"
   ]
  },
  {
   "cell_type": "code",
   "execution_count": null,
   "id": "28521af6-c34e-4b20-9831-3177722b9b46",
   "metadata": {},
   "outputs": [],
   "source": [
    "#foothill_og.stop_sequence.nunique()"
   ]
  },
  {
   "cell_type": "code",
   "execution_count": null,
   "id": "1136e4c7-2e5b-492d-8ae6-299a04164ac3",
   "metadata": {},
   "outputs": [],
   "source": [
    "#foothill_og.stop_sequence.describe()"
   ]
  },
  {
   "cell_type": "code",
   "execution_count": null,
   "id": "9cee6f4c-8786-478a-97ff-702be25d0788",
   "metadata": {},
   "outputs": [],
   "source": [
    "#foothill_og.sort_values('stop_sequence').head()"
   ]
  },
  {
   "cell_type": "code",
   "execution_count": null,
   "id": "97ec3ff5-bcda-4edd-9ba6-50821923dd98",
   "metadata": {},
   "outputs": [],
   "source": [
    "#foothill_renumbered_stop_seq = m2[m2.trip_id == \"t604-b2791-sl5\"] "
   ]
  },
  {
   "cell_type": "code",
   "execution_count": null,
   "id": "f2733f91-b890-4818-a649-d79bd6f9a16a",
   "metadata": {},
   "outputs": [],
   "source": [
    "#foothill_renumbered_stop_seq['Test Stop Sequence'].describe()"
   ]
  },
  {
   "cell_type": "code",
   "execution_count": null,
   "id": "c9b04672-2b10-4d06-b84a-1fd92a6a78ac",
   "metadata": {},
   "outputs": [],
   "source": [
    "#foothill_renumbered_stop_seq.sort_values('stop_sequence').head()"
   ]
  },
  {
   "cell_type": "code",
   "execution_count": null,
   "id": "9581ead1-5d91-44a4-a9d3-299445d55056",
   "metadata": {},
   "outputs": [],
   "source": [
    "# len(troubleshoot)"
   ]
  },
  {
   "cell_type": "code",
   "execution_count": null,
   "id": "1f50eb55-9373-4004-b23b-8129db734c1b",
   "metadata": {},
   "outputs": [],
   "source": [
    "# Number of test stops should match stop sequence...\n",
    "# troubleshoot['sequences_are_equal'] = troubleshoot['Test Stop Sequence'] - troubleshoot['stop_sequence']"
   ]
  },
  {
   "cell_type": "code",
   "execution_count": null,
   "id": "46843106-2e31-46c9-9220-2f12a3e6a4fb",
   "metadata": {},
   "outputs": [],
   "source": [
    "# troubleshoot['sequences_are_equal'].value_counts()"
   ]
  },
  {
   "cell_type": "code",
   "execution_count": null,
   "id": "34d189fa-632c-40d7-a793-e576645e879e",
   "metadata": {},
   "outputs": [],
   "source": [
    "# Look at this trip id in the original df\n",
    "#og_trip = speed_stops2[speed_stops2.trip_id == \"t640-b15FF1-sl5\"]"
   ]
  },
  {
   "cell_type": "code",
   "execution_count": null,
   "id": "34b1e2f4-fe20-4029-9ec1-e5cbaaf73178",
   "metadata": {},
   "outputs": [],
   "source": [
    "# Look at this trip id in the manipulated df\n",
    "#new_trip = m2[m2.trip_id == \"t640-b15FF1-sl5\"]"
   ]
  },
  {
   "cell_type": "code",
   "execution_count": null,
   "id": "81190a32-907b-4a5d-818a-ab5c2740dbc3",
   "metadata": {
    "tags": []
   },
   "outputs": [],
   "source": [
    "#og_trip.shape, og_trip.stop_sequence.nunique()"
   ]
  },
  {
   "cell_type": "code",
   "execution_count": null,
   "id": "ae8d06ad-3016-4909-b766-c370ef074aae",
   "metadata": {},
   "outputs": [],
   "source": [
    "#new_trip.shape, new_trip.stop_sequence.nunique()"
   ]
  }
 ],
 "metadata": {
  "kernelspec": {
   "display_name": "Python 3 (ipykernel)",
   "language": "python",
   "name": "python3"
  },
  "language_info": {
   "codemirror_mode": {
    "name": "ipython",
    "version": 3
   },
   "file_extension": ".py",
   "mimetype": "text/x-python",
   "name": "python",
   "nbconvert_exporter": "python",
   "pygments_lexer": "ipython3",
   "version": "3.9.13"
  }
 },
 "nbformat": 4,
 "nbformat_minor": 5
}
