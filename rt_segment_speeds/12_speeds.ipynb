{
 "cells": [
  {
   "cell_type": "code",
   "execution_count": 1,
   "id": "2c7feec3-aa18-42ab-94b9-cab4be608152",
   "metadata": {},
   "outputs": [
    {
     "name": "stderr",
     "output_type": "stream",
     "text": [
      "/opt/conda/lib/python3.9/site-packages/geopandas/_compat.py:123: UserWarning: The Shapely GEOS version (3.11.1-CAPI-1.17.1) is incompatible with the GEOS version PyGEOS was compiled with (3.10.1-CAPI-1.16.0). Conversions between both will be slow.\n",
      "  warnings.warn(\n",
      "/home/jovyan/data-analyses/rt_segment_speeds/_speed_utils.py:4: UserWarning: Shapely 2.0 is installed, but because PyGEOS is also installed, GeoPandas will still use PyGEOS by default for now. To force to use and test Shapely 2.0, you have to set the environment variable USE_PYGEOS=0. You can do this before starting the Python process, or in your code before importing geopandas:\n",
      "\n",
      "import os\n",
      "os.environ['USE_PYGEOS'] = '0'\n",
      "import geopandas\n",
      "\n",
      "In a future release, GeoPandas will switch to using Shapely by default. If you are using PyGEOS directly (calling PyGEOS functions on geometries from GeoPandas), this will then stop working and you are encouraged to migrate from PyGEOS to Shapely 2.0 (https://shapely.readthedocs.io/en/latest/migration_pygeos.html).\n",
      "  import geopandas as gpd\n"
     ]
    }
   ],
   "source": [
    "import datetime\n",
    "import _speed_utils as speed_utils\n",
    "import dask.dataframe as dd\n",
    "import numpy as np\n",
    "import geopandas as gpd\n",
    "import pandas as pd\n",
    "from segment_speed_utils import gtfs_schedule_wrangling, helpers, segment_calcs,sched_rt_utils\n",
    "from segment_speed_utils.project_vars import (\n",
    "    COMPILED_CACHED_VIEWS,\n",
    "    PROJECT_CRS,\n",
    "    SEGMENT_GCS,\n",
    "    analysis_date,\n",
    ")\n",
    "from scripts import (A1_sjoin_vp_segments, A2_valid_vehicle_positions)\n",
    "from shared_utils import calitp_color_palette as cp"
   ]
  },
  {
   "cell_type": "code",
   "execution_count": 2,
   "id": "0108ae4a-4518-4487-85f7-a5faa3e9cbf6",
   "metadata": {},
   "outputs": [],
   "source": [
    "pd.options.display.max_columns = 100\n",
    "pd.options.display.float_format = \"{:.2f}\".format\n",
    "pd.set_option(\"display.max_rows\", None)\n",
    "pd.set_option(\"display.max_colwidth\", None)"
   ]
  },
  {
   "cell_type": "code",
   "execution_count": 3,
   "id": "c130ab8b-80ac-4edf-bb59-715a793c15a6",
   "metadata": {},
   "outputs": [],
   "source": [
    "CONFIG_PATH = './scripts/config.yml'"
   ]
  },
  {
   "cell_type": "code",
   "execution_count": 4,
   "id": "0c65c2fd-4eb6-46d0-8007-e91096133954",
   "metadata": {},
   "outputs": [],
   "source": [
    "STOP_SEG_DICT = helpers.get_parameters(CONFIG_PATH, \"stop_segments\")"
   ]
  },
  {
   "cell_type": "code",
   "execution_count": 5,
   "id": "185c3e26-0dcb-4f2b-999c-a21939f2a6bd",
   "metadata": {},
   "outputs": [],
   "source": [
    "analysis_date = '2023-07-12'"
   ]
  },
  {
   "cell_type": "markdown",
   "id": "778a2aa1-d73b-4ebf-89e2-8f9eb5ca5aa1",
   "metadata": {
    "jp-MarkdownHeadingCollapsed": true,
    "tags": []
   },
   "source": [
    "### Observations (7/12)\n",
    "* Step 1: Flagging\n",
    "    * There are 2,704,812 rows in the dataframe original. About 10% of those rows are flagged as having zeroes in meters elapsed and seconds elapsed. \n",
    "    * There are around 4566 routes. About 57% of these routes had at least one trip with one or more rows flagged as zero.\n",
    "* I took 2 passes at trying to understand why both these columns recorded zeroes.\n",
    "\n",
    "* Step 2: `vp_pared_stops`. \n",
    "    * I grouped `vp_pared_stops` by 'shape_array_key','trip_id', and 'location_timestamp_local' OR `x` and `y`. I counted the number of unique stop sequences after grouping. If this trio had more than one unique stop sequence, that meant the timestamp or location recorded between sequences was duplicated.\n",
    "    * Only around 9% of rows were flagged as having (obviously) repeated timestamps and locations. \n",
    "    * For all of these rows, both the timestamp and location were duplicated. \n",
    "    * All the routes that were flagged in step one needed a further look in step 3.\n",
    "    \n",
    "* Step 3: `vp_usable`\n",
    "    * For one route and trip, find: all the recorded vehicle positions, sjoin of vps to segments,\n",
    "    and the first and last points kept. \n",
    "    * Plot the three gdfs in a map to visually inspect what's happening.\n",
    "    * Compare the sample route and trips with the trip with the highest percentage of non division by 0 rows to see what's going on. \n",
    "    \n",
    "* Buckets of errors (all based on `stage0 vp`). \n",
    "    * There is only one recorded point in that segment in the raw data.\n",
    "        * Fix: use the timestamp that comes after it.\n",
    "        * <img src= \"./speeds_images/only_one_pt_collected.png\" width = 300>\n",
    "    * Points are shared between segments\n",
    "        * Use p20/p50/p80.\n",
    "        * <img src= \"./speeds_images/shared_vp.png\" width = 300>\n",
    "    * Points recorded are really far out and they don't touch the buffered segments.\n",
    "        * Fix: figure out % of vehicle positions that are too far out.\n",
    "        * <img src= \"./speeds_images/dots_not_on_seg.png\" width = 300>\n",
    "    * No data captured for that segment at all.\n",
    "        * Use p20/p50/p80. \n",
    "        * <img src= \"./speeds_images/no_dots_collected.png\" width = 300> "
   ]
  },
  {
   "cell_type": "markdown",
   "id": "35c1ba95-5929-4a7f-bfae-f6d126622104",
   "metadata": {},
   "source": [
    "### Flagging"
   ]
  },
  {
   "cell_type": "code",
   "execution_count": 6,
   "id": "be9888dd-232a-401d-8039-9c2d1954a167",
   "metadata": {},
   "outputs": [],
   "source": [
    "# Flagged: all the rows in the df flagged\n",
    "# divide_by_zero: only the rows that have 0 for meters and sec elapsed\n",
    "# trips_count: % of trips with 1+ division by 0 row for a route\n",
    "# route_most_populated_df: the trip for a route with the smallest % of rows that are divided by 0\n",
    "# flagged, divide_by_zero, trips_count, route_most_populated_df = speed_utils.flagging_stage(analysis_date)"
   ]
  },
  {
   "cell_type": "code",
   "execution_count": 7,
   "id": "59f29657-665f-4f79-82fd-cfcba3fb5bcb",
   "metadata": {},
   "outputs": [],
   "source": [
    "#divide_by_zero.loop_or_inlining.value_counts()"
   ]
  },
  {
   "cell_type": "markdown",
   "id": "cb2050b4-d265-47bb-9de5-93c7ef621448",
   "metadata": {},
   "source": [
    "### Fix 1  - % of vehicle positions that are too far away from the shapes to be joined\n",
    "* https://github.com/cal-itp/data-analyses/blob/main/rt_segment_speeds/scripts/A0_preprocessing.py"
   ]
  },
  {
   "cell_type": "code",
   "execution_count": 8,
   "id": "cafa413c-2a83-4845-807e-a09dd02e16f4",
   "metadata": {},
   "outputs": [],
   "source": [
    "INPUT_FILE_PREFIX = STOP_SEG_DICT[\"stage0\"]"
   ]
  },
  {
   "cell_type": "code",
   "execution_count": 9,
   "id": "a07ef2da-3a04-4d29-9d4f-df772704e623",
   "metadata": {},
   "outputs": [],
   "source": [
    "# 14_600_897 rows\n",
    "original = dd.read_parquet(\n",
    "        f\"{SEGMENT_GCS}{INPUT_FILE_PREFIX}_{analysis_date}.parquet\"\n",
    "    )"
   ]
  },
  {
   "cell_type": "code",
   "execution_count": 10,
   "id": "ae7aed61-fe39-4632-84a5-44e229ed3798",
   "metadata": {},
   "outputs": [],
   "source": [
    "# len(original)"
   ]
  },
  {
   "cell_type": "markdown",
   "id": "0af7def7-63fb-4c5f-be98-c4ced5ea135a",
   "metadata": {
    "tags": [],
    "toc-hr-collapsed": true
   },
   "source": [
    "#### Crosswalk"
   ]
  },
  {
   "cell_type": "code",
   "execution_count": 11,
   "id": "30ac6cca-9c9a-49a2-aa83-574e1b1798c6",
   "metadata": {},
   "outputs": [],
   "source": [
    "TRIP_GROUPING_COLS = STOP_SEG_DICT[\"trip_grouping_cols\"]"
   ]
  },
  {
   "cell_type": "code",
   "execution_count": 12,
   "id": "55d2c64f-1850-4b79-addd-8b8e1810d66f",
   "metadata": {},
   "outputs": [],
   "source": [
    "crosswalk = sched_rt_utils.crosswalk_scheduled_trip_grouping_with_rt_key(\n",
    "        analysis_date, \n",
    "        [\"feed_key\", \"trip_id\"] + TRIP_GROUPING_COLS\n",
    "    )"
   ]
  },
  {
   "cell_type": "code",
   "execution_count": 13,
   "id": "de4e1504-f4d8-4b68-b5ce-98ba38c39972",
   "metadata": {},
   "outputs": [],
   "source": [
    "crosswalk = crosswalk.compute()"
   ]
  },
  {
   "cell_type": "code",
   "execution_count": 14,
   "id": "10ff6a7a-b8e3-4ac3-a316-9770de2e427a",
   "metadata": {},
   "outputs": [
    {
     "data": {
      "text/html": [
       "<div>\n",
       "<style scoped>\n",
       "    .dataframe tbody tr th:only-of-type {\n",
       "        vertical-align: middle;\n",
       "    }\n",
       "\n",
       "    .dataframe tbody tr th {\n",
       "        vertical-align: top;\n",
       "    }\n",
       "\n",
       "    .dataframe thead th {\n",
       "        text-align: right;\n",
       "    }\n",
       "</style>\n",
       "<table border=\"1\" class=\"dataframe\">\n",
       "  <thead>\n",
       "    <tr style=\"text-align: right;\">\n",
       "      <th></th>\n",
       "      <th>feed_key</th>\n",
       "      <th>trip_id</th>\n",
       "      <th>shape_array_key</th>\n",
       "      <th>gtfs_dataset_key</th>\n",
       "    </tr>\n",
       "  </thead>\n",
       "  <tbody>\n",
       "    <tr>\n",
       "      <th>12697</th>\n",
       "      <td>fd90fb59d425f917fa504ca6f0f6958c</td>\n",
       "      <td>10993010</td>\n",
       "      <td>fb66cbb0f831849c10a567f83fa4a273</td>\n",
       "      <td>a93588d23992dd2f6456dcdace8b9988</td>\n",
       "    </tr>\n",
       "  </tbody>\n",
       "</table>\n",
       "</div>"
      ],
      "text/plain": [
       "                               feed_key   trip_id  \\\n",
       "12697  fd90fb59d425f917fa504ca6f0f6958c  10993010   \n",
       "\n",
       "                        shape_array_key                  gtfs_dataset_key  \n",
       "12697  fb66cbb0f831849c10a567f83fa4a273  a93588d23992dd2f6456dcdace8b9988  "
      ]
     },
     "execution_count": 14,
     "metadata": {},
     "output_type": "execute_result"
    }
   ],
   "source": [
    "crosswalk.sample()"
   ]
  },
  {
   "cell_type": "markdown",
   "id": "1403a659-4f3a-4f0a-804f-dc3ff0be5a29",
   "metadata": {},
   "source": [
    "#### A1 sjoin\n",
    "* Contains the columns:\n",
    "    * vp_idx\n",
    "    * shape_array_key\n",
    "    * stop_sequence"
   ]
  },
  {
   "cell_type": "code",
   "execution_count": 15,
   "id": "c8a19def-8e1b-45fd-8bd1-11ca8093697b",
   "metadata": {},
   "outputs": [],
   "source": [
    "USABLE_VP = STOP_SEG_DICT[\"stage1\"]\n",
    "INPUT_FILE_PREFIX = STOP_SEG_DICT[\"stage2\"]\n",
    "GROUPING_COL = STOP_SEG_DICT[\"grouping_col\"]"
   ]
  },
  {
   "cell_type": "code",
   "execution_count": 16,
   "id": "0b60036b-a608-415e-863b-de13a0b8f78e",
   "metadata": {},
   "outputs": [],
   "source": [
    "def load_sjoin(analysis_date:str):\n",
    "    INPUT_FILE_PREFIX = STOP_SEG_DICT[\"stage2\"]\n",
    "    df = dd.read_parquet(\n",
    "      f\"{SEGMENT_GCS}vp_sjoin/{INPUT_FILE_PREFIX}_{analysis_date}\",\n",
    "    )\n",
    "    return df"
   ]
  },
  {
   "cell_type": "code",
   "execution_count": 17,
   "id": "d451f53e-c505-45b5-bf24-a9cf2e363b1a",
   "metadata": {},
   "outputs": [
    {
     "data": {
      "text/plain": [
       "'gs://calitp-analytics-data/data-analyses/rt_segment_speeds/vp_sjoin/vp_stop_segment_2023-07-12'"
      ]
     },
     "execution_count": 17,
     "metadata": {},
     "output_type": "execute_result"
    }
   ],
   "source": [
    "# This is the end result from A1_sjoin\n",
    "f\"{SEGMENT_GCS}vp_sjoin/{INPUT_FILE_PREFIX}_{analysis_date}\""
   ]
  },
  {
   "cell_type": "code",
   "execution_count": 18,
   "id": "d7aef099-6c98-4af2-9bd7-596d3e720ec9",
   "metadata": {},
   "outputs": [],
   "source": [
    "vp_to_seg = dd.read_parquet(\n",
    "      f\"{SEGMENT_GCS}vp_sjoin/{INPUT_FILE_PREFIX}_{analysis_date}\",\n",
    "    )"
   ]
  },
  {
   "cell_type": "code",
   "execution_count": 19,
   "id": "1f3df459-5f71-400f-97b1-fe3157705f36",
   "metadata": {},
   "outputs": [],
   "source": [
    "# vp_to_seg = vp_to_seg.compute()"
   ]
  },
  {
   "cell_type": "code",
   "execution_count": 20,
   "id": "2da56431-24d9-4e39-afa9-d57565701213",
   "metadata": {},
   "outputs": [],
   "source": [
    "# 24_973_725\n",
    "# len(vp_to_seg)"
   ]
  },
  {
   "cell_type": "code",
   "execution_count": 21,
   "id": "3bc9df8a-7b01-4541-baf6-bdae50467a54",
   "metadata": {},
   "outputs": [],
   "source": [
    "# 11_350_051\n",
    "# vp_to_seg.vp_idx.nunique().compute()"
   ]
  },
  {
   "cell_type": "markdown",
   "id": "a99a6c14-31b1-46d1-b292-5544041b1f75",
   "metadata": {
    "tags": []
   },
   "source": [
    "#### Usable VPS\n",
    "* _gtfs_dataset_name\t\n",
    "* schedule_gtfs_dataset_key\n",
    "* trip_id\t\n",
    "* trip_instance_key\t\n",
    "* location_timestamp\t\n",
    "* location_timestamp_local\t\n",
    "* hour\t\n",
    "* gtfs_dataset_key\t\n",
    "* x\ty\t\n",
    "* vp_idx"
   ]
  },
  {
   "cell_type": "code",
   "execution_count": 22,
   "id": "760bc660-4101-4e47-a8f1-554b7c071f66",
   "metadata": {},
   "outputs": [],
   "source": [
    "usable_vp = dd.read_parquet(\n",
    "        f\"{SEGMENT_GCS}{USABLE_VP}_{analysis_date}\"\n",
    "    )"
   ]
  },
  {
   "cell_type": "code",
   "execution_count": 23,
   "id": "0ea87ecd-b7da-4c8d-84de-b24fd61da3fc",
   "metadata": {},
   "outputs": [],
   "source": [
    "usable_vp = usable_vp.drop_duplicates(subset = ['vp_idx'])"
   ]
  },
  {
   "cell_type": "code",
   "execution_count": 24,
   "id": "e9ed076e-7247-4e1c-99f9-083aae0114d0",
   "metadata": {},
   "outputs": [],
   "source": [
    "# 14_579_242\n",
    "# usable_vp.vp_idx.nunique().compute()"
   ]
  },
  {
   "cell_type": "code",
   "execution_count": 25,
   "id": "9f0323e2-8d55-4911-9b09-a8fa571bd0c9",
   "metadata": {},
   "outputs": [],
   "source": [
    "# 14,579,242\n",
    "# len(usable_vp)"
   ]
  },
  {
   "cell_type": "code",
   "execution_count": 26,
   "id": "13ae10f5-58b7-4a35-a018-c117416ae8ae",
   "metadata": {},
   "outputs": [],
   "source": [
    "# https://stackoverflow.com/questions/49139371/slicing-out-a-few-rows-from-a-dask-dataframe\n",
    "npart = round(len(usable_vp)/1_000_000)\n",
    "parted_usable_vp = usable_vp.repartition(npartitions=npart)"
   ]
  },
  {
   "cell_type": "code",
   "execution_count": 27,
   "id": "4e16465b-55fd-483c-aa2c-370d13148db0",
   "metadata": {},
   "outputs": [],
   "source": [
    "#npart"
   ]
  },
  {
   "cell_type": "code",
   "execution_count": 28,
   "id": "45e689db-dc67-4feb-98f1-960e8360f616",
   "metadata": {},
   "outputs": [],
   "source": [
    "#my_list = [n for n in range(0,npart)]"
   ]
  },
  {
   "cell_type": "code",
   "execution_count": 29,
   "id": "6f5cd835-63c2-4eba-84ac-041a1b1b19d8",
   "metadata": {},
   "outputs": [],
   "source": [
    "def load_usable_vp(analysis_date:str):\n",
    "    USABLE_VP = STOP_SEG_DICT[\"stage1\"]\n",
    "    usable_vp = dd.read_parquet(\n",
    "        f\"{SEGMENT_GCS}{USABLE_VP}_{analysis_date}\"\n",
    "    )\n",
    "    \n",
    "    usable_vp = usable_vp.drop_duplicates(subset = ['vp_idx'])\n",
    "    \n",
    "    return usable_vp"
   ]
  },
  {
   "cell_type": "code",
   "execution_count": 30,
   "id": "510be7ee-5f9d-4dc4-9457-458648d91689",
   "metadata": {},
   "outputs": [],
   "source": [
    "usable_vp1 = parted_usable_vp.partitions[0]"
   ]
  },
  {
   "cell_type": "markdown",
   "id": "60a012ba-5378-4e25-aeca-e3768cbd65f2",
   "metadata": {},
   "source": [
    "#### Merge test2 with A1sjoin"
   ]
  },
  {
   "cell_type": "code",
   "execution_count": 31,
   "id": "3d958e76-c2e7-4ccb-bf26-94b90b71320e",
   "metadata": {},
   "outputs": [],
   "source": [
    "# outer_merge = dd.merge(usable_vp1, vp_to_seg, on = ['vp_idx'], how = 'outer', indicator = True)"
   ]
  },
  {
   "cell_type": "code",
   "execution_count": 57,
   "id": "3149d860-736c-4008-9608-c4841e4decce",
   "metadata": {},
   "outputs": [],
   "source": [
    "def percent_sjoin_pts(usable_vp: dd.DataFrame, sjoin_vps: dd.DataFrame):\n",
    "    start = datetime.datetime.now()\n",
    "    \n",
    "    # Use a left join because these are the vps that were not properly joined\n",
    "    merge1 = dd.merge(usable_vp, sjoin_vps, on = ['vp_idx'], how = 'left', indicator = True)\n",
    "    \n",
    "    # print(f\"{len(merge1)} rows\")\n",
    "    \n",
    "    # Drop duplicated vp idx\n",
    "    # Since same pt can attach to multiple segs\n",
    "    merge1 = merge1.drop_duplicates(subset = ['vp_idx'])\n",
    "\n",
    "    # First groupby, have to use observed = True because\n",
    "    # merge and gtfs dataset key are the categorical data type\n",
    "    agg1 = (merge1.groupby(['gtfs_dataset_key','trip_id','_merge'],observed=True,)\n",
    "                .agg({'trip_instance_key':'count'})\n",
    "                .reset_index()\n",
    "               )\n",
    "    \n",
    "    agg1 = agg1.compute() \n",
    "    \n",
    "    # Create new columns so the dataframe will be the way I like it\n",
    "    agg1['left_only'] = None\n",
    "    agg1['both'] = None\n",
    "    agg1['pts_not_in_sjoin'] = np.where(agg1._merge == 'left_only', agg1.trip_instance_key, agg1.left_only)\n",
    "    agg1['sjoin_pts'] = np.where(agg1._merge == 'both', agg1.trip_instance_key, agg1.both)\n",
    "   \n",
    "    # One row for each route/trip id\n",
    "    agg2 = (agg1\n",
    "            .groupby(['gtfs_dataset_key','trip_id'], observed=True, group_keys=False)\n",
    "            .agg({'pts_not_in_sjoin':'sum','sjoin_pts':'sum'})\n",
    "            .reset_index()\n",
    "           )\n",
    "    \n",
    "    print(f\"{len(agg1)-len(agg2)} rows dropped, now {len(agg2)} rows\")\n",
    "    \n",
    "    # Add some additional columns\n",
    "    agg2 = agg2.fillna(0)\n",
    "    agg2['all_pts'] = agg2.pts_not_in_sjoin + agg2.sjoin_pts\n",
    "    agg2['percent_of_pts'] = agg2.sjoin_pts/agg2.all_pts * 100\n",
    "    \n",
    "    # Filter out vpidx already found \n",
    "    new_usable_vps = merge1[['vp_idx']].drop_duplicates().compute()\n",
    "    new_usable_vps = new_usable_vps.vp_idx.to_list()\n",
    "    \n",
    "    end = datetime.datetime.now()\n",
    "    print(f\"Time lapsed: {end-start}\")\n",
    "\n",
    "    return new_usable_vps, agg2"
   ]
  },
  {
   "cell_type": "code",
   "execution_count": 70,
   "id": "fc2ebee0-3bca-4187-8cdf-6f6db5ecd679",
   "metadata": {
    "tags": []
   },
   "outputs": [
    {
     "ename": "ArrowInvalid",
     "evalue": "Parquet magic bytes not found in footer. Either the file is corrupted or this is not a parquet file.",
     "output_type": "error",
     "traceback": [
      "\u001b[0;31m---------------------------------------------------------------------------\u001b[0m",
      "\u001b[0;31mArrowInvalid\u001b[0m                              Traceback (most recent call last)",
      "Cell \u001b[0;32mIn[70], line 1\u001b[0m\n\u001b[0;32m----> 1\u001b[0m new_usable_vps, merge1 \u001b[38;5;241m=\u001b[39m \u001b[43mpercent_sjoin_pts\u001b[49m\u001b[43m(\u001b[49m\u001b[43musable_vp1\u001b[49m\u001b[43m,\u001b[49m\u001b[43mvp_to_seg\u001b[49m\u001b[43m)\u001b[49m\n",
      "Cell \u001b[0;32mIn[57], line 20\u001b[0m, in \u001b[0;36mpercent_sjoin_pts\u001b[0;34m(usable_vp, sjoin_vps)\u001b[0m\n\u001b[1;32m     13\u001b[0m \u001b[38;5;66;03m# First groupby, have to use observed = True because\u001b[39;00m\n\u001b[1;32m     14\u001b[0m \u001b[38;5;66;03m# merge and gtfs dataset key are the categorical data type\u001b[39;00m\n\u001b[1;32m     15\u001b[0m agg1 \u001b[38;5;241m=\u001b[39m (merge1\u001b[38;5;241m.\u001b[39mgroupby([\u001b[38;5;124m'\u001b[39m\u001b[38;5;124mgtfs_dataset_key\u001b[39m\u001b[38;5;124m'\u001b[39m,\u001b[38;5;124m'\u001b[39m\u001b[38;5;124mtrip_id\u001b[39m\u001b[38;5;124m'\u001b[39m,\u001b[38;5;124m'\u001b[39m\u001b[38;5;124m_merge\u001b[39m\u001b[38;5;124m'\u001b[39m],observed\u001b[38;5;241m=\u001b[39m\u001b[38;5;28;01mTrue\u001b[39;00m,)\n\u001b[1;32m     16\u001b[0m             \u001b[38;5;241m.\u001b[39magg({\u001b[38;5;124m'\u001b[39m\u001b[38;5;124mtrip_instance_key\u001b[39m\u001b[38;5;124m'\u001b[39m:\u001b[38;5;124m'\u001b[39m\u001b[38;5;124mcount\u001b[39m\u001b[38;5;124m'\u001b[39m})\n\u001b[1;32m     17\u001b[0m             \u001b[38;5;241m.\u001b[39mreset_index()\n\u001b[1;32m     18\u001b[0m            )\n\u001b[0;32m---> 20\u001b[0m agg1 \u001b[38;5;241m=\u001b[39m \u001b[43magg1\u001b[49m\u001b[38;5;241;43m.\u001b[39;49m\u001b[43mcompute\u001b[49m\u001b[43m(\u001b[49m\u001b[43m)\u001b[49m \n\u001b[1;32m     22\u001b[0m \u001b[38;5;66;03m# Create new columns so the dataframe will be the way I like it\u001b[39;00m\n\u001b[1;32m     23\u001b[0m agg1[\u001b[38;5;124m'\u001b[39m\u001b[38;5;124mleft_only\u001b[39m\u001b[38;5;124m'\u001b[39m] \u001b[38;5;241m=\u001b[39m \u001b[38;5;28;01mNone\u001b[39;00m\n",
      "File \u001b[0;32m/opt/conda/lib/python3.9/site-packages/dask/base.py:315\u001b[0m, in \u001b[0;36mDaskMethodsMixin.compute\u001b[0;34m(self, **kwargs)\u001b[0m\n\u001b[1;32m    291\u001b[0m \u001b[38;5;28;01mdef\u001b[39;00m \u001b[38;5;21mcompute\u001b[39m(\u001b[38;5;28mself\u001b[39m, \u001b[38;5;241m*\u001b[39m\u001b[38;5;241m*\u001b[39mkwargs):\n\u001b[1;32m    292\u001b[0m \u001b[38;5;250m    \u001b[39m\u001b[38;5;124;03m\"\"\"Compute this dask collection\u001b[39;00m\n\u001b[1;32m    293\u001b[0m \n\u001b[1;32m    294\u001b[0m \u001b[38;5;124;03m    This turns a lazy Dask collection into its in-memory equivalent.\u001b[39;00m\n\u001b[0;32m   (...)\u001b[0m\n\u001b[1;32m    313\u001b[0m \u001b[38;5;124;03m    dask.base.compute\u001b[39;00m\n\u001b[1;32m    314\u001b[0m \u001b[38;5;124;03m    \"\"\"\u001b[39;00m\n\u001b[0;32m--> 315\u001b[0m     (result,) \u001b[38;5;241m=\u001b[39m \u001b[43mcompute\u001b[49m\u001b[43m(\u001b[49m\u001b[38;5;28;43mself\u001b[39;49m\u001b[43m,\u001b[49m\u001b[43m \u001b[49m\u001b[43mtraverse\u001b[49m\u001b[38;5;241;43m=\u001b[39;49m\u001b[38;5;28;43;01mFalse\u001b[39;49;00m\u001b[43m,\u001b[49m\u001b[43m \u001b[49m\u001b[38;5;241;43m*\u001b[39;49m\u001b[38;5;241;43m*\u001b[39;49m\u001b[43mkwargs\u001b[49m\u001b[43m)\u001b[49m\n\u001b[1;32m    316\u001b[0m     \u001b[38;5;28;01mreturn\u001b[39;00m result\n",
      "File \u001b[0;32m/opt/conda/lib/python3.9/site-packages/dask/base.py:600\u001b[0m, in \u001b[0;36mcompute\u001b[0;34m(traverse, optimize_graph, scheduler, get, *args, **kwargs)\u001b[0m\n\u001b[1;32m    597\u001b[0m     keys\u001b[38;5;241m.\u001b[39mappend(x\u001b[38;5;241m.\u001b[39m__dask_keys__())\n\u001b[1;32m    598\u001b[0m     postcomputes\u001b[38;5;241m.\u001b[39mappend(x\u001b[38;5;241m.\u001b[39m__dask_postcompute__())\n\u001b[0;32m--> 600\u001b[0m results \u001b[38;5;241m=\u001b[39m \u001b[43mschedule\u001b[49m\u001b[43m(\u001b[49m\u001b[43mdsk\u001b[49m\u001b[43m,\u001b[49m\u001b[43m \u001b[49m\u001b[43mkeys\u001b[49m\u001b[43m,\u001b[49m\u001b[43m \u001b[49m\u001b[38;5;241;43m*\u001b[39;49m\u001b[38;5;241;43m*\u001b[39;49m\u001b[43mkwargs\u001b[49m\u001b[43m)\u001b[49m\n\u001b[1;32m    601\u001b[0m \u001b[38;5;28;01mreturn\u001b[39;00m repack([f(r, \u001b[38;5;241m*\u001b[39ma) \u001b[38;5;28;01mfor\u001b[39;00m r, (f, a) \u001b[38;5;129;01min\u001b[39;00m \u001b[38;5;28mzip\u001b[39m(results, postcomputes)])\n",
      "File \u001b[0;32m/opt/conda/lib/python3.9/site-packages/dask/threaded.py:89\u001b[0m, in \u001b[0;36mget\u001b[0;34m(dsk, keys, cache, num_workers, pool, **kwargs)\u001b[0m\n\u001b[1;32m     86\u001b[0m     \u001b[38;5;28;01melif\u001b[39;00m \u001b[38;5;28misinstance\u001b[39m(pool, multiprocessing\u001b[38;5;241m.\u001b[39mpool\u001b[38;5;241m.\u001b[39mPool):\n\u001b[1;32m     87\u001b[0m         pool \u001b[38;5;241m=\u001b[39m MultiprocessingPoolExecutor(pool)\n\u001b[0;32m---> 89\u001b[0m results \u001b[38;5;241m=\u001b[39m \u001b[43mget_async\u001b[49m\u001b[43m(\u001b[49m\n\u001b[1;32m     90\u001b[0m \u001b[43m    \u001b[49m\u001b[43mpool\u001b[49m\u001b[38;5;241;43m.\u001b[39;49m\u001b[43msubmit\u001b[49m\u001b[43m,\u001b[49m\n\u001b[1;32m     91\u001b[0m \u001b[43m    \u001b[49m\u001b[43mpool\u001b[49m\u001b[38;5;241;43m.\u001b[39;49m\u001b[43m_max_workers\u001b[49m\u001b[43m,\u001b[49m\n\u001b[1;32m     92\u001b[0m \u001b[43m    \u001b[49m\u001b[43mdsk\u001b[49m\u001b[43m,\u001b[49m\n\u001b[1;32m     93\u001b[0m \u001b[43m    \u001b[49m\u001b[43mkeys\u001b[49m\u001b[43m,\u001b[49m\n\u001b[1;32m     94\u001b[0m \u001b[43m    \u001b[49m\u001b[43mcache\u001b[49m\u001b[38;5;241;43m=\u001b[39;49m\u001b[43mcache\u001b[49m\u001b[43m,\u001b[49m\n\u001b[1;32m     95\u001b[0m \u001b[43m    \u001b[49m\u001b[43mget_id\u001b[49m\u001b[38;5;241;43m=\u001b[39;49m\u001b[43m_thread_get_id\u001b[49m\u001b[43m,\u001b[49m\n\u001b[1;32m     96\u001b[0m \u001b[43m    \u001b[49m\u001b[43mpack_exception\u001b[49m\u001b[38;5;241;43m=\u001b[39;49m\u001b[43mpack_exception\u001b[49m\u001b[43m,\u001b[49m\n\u001b[1;32m     97\u001b[0m \u001b[43m    \u001b[49m\u001b[38;5;241;43m*\u001b[39;49m\u001b[38;5;241;43m*\u001b[39;49m\u001b[43mkwargs\u001b[49m\u001b[43m,\u001b[49m\n\u001b[1;32m     98\u001b[0m \u001b[43m\u001b[49m\u001b[43m)\u001b[49m\n\u001b[1;32m    100\u001b[0m \u001b[38;5;66;03m# Cleanup pools associated to dead threads\u001b[39;00m\n\u001b[1;32m    101\u001b[0m \u001b[38;5;28;01mwith\u001b[39;00m pools_lock:\n",
      "File \u001b[0;32m/opt/conda/lib/python3.9/site-packages/dask/local.py:511\u001b[0m, in \u001b[0;36mget_async\u001b[0;34m(submit, num_workers, dsk, result, cache, get_id, rerun_exceptions_locally, pack_exception, raise_exception, callbacks, dumps, loads, chunksize, **kwargs)\u001b[0m\n\u001b[1;32m    509\u001b[0m         _execute_task(task, data)  \u001b[38;5;66;03m# Re-execute locally\u001b[39;00m\n\u001b[1;32m    510\u001b[0m     \u001b[38;5;28;01melse\u001b[39;00m:\n\u001b[0;32m--> 511\u001b[0m         \u001b[43mraise_exception\u001b[49m\u001b[43m(\u001b[49m\u001b[43mexc\u001b[49m\u001b[43m,\u001b[49m\u001b[43m \u001b[49m\u001b[43mtb\u001b[49m\u001b[43m)\u001b[49m\n\u001b[1;32m    512\u001b[0m res, worker_id \u001b[38;5;241m=\u001b[39m loads(res_info)\n\u001b[1;32m    513\u001b[0m state[\u001b[38;5;124m\"\u001b[39m\u001b[38;5;124mcache\u001b[39m\u001b[38;5;124m\"\u001b[39m][key] \u001b[38;5;241m=\u001b[39m res\n",
      "File \u001b[0;32m/opt/conda/lib/python3.9/site-packages/dask/local.py:319\u001b[0m, in \u001b[0;36mreraise\u001b[0;34m(exc, tb)\u001b[0m\n\u001b[1;32m    317\u001b[0m \u001b[38;5;28;01mif\u001b[39;00m exc\u001b[38;5;241m.\u001b[39m__traceback__ \u001b[38;5;129;01mis\u001b[39;00m \u001b[38;5;129;01mnot\u001b[39;00m tb:\n\u001b[1;32m    318\u001b[0m     \u001b[38;5;28;01mraise\u001b[39;00m exc\u001b[38;5;241m.\u001b[39mwith_traceback(tb)\n\u001b[0;32m--> 319\u001b[0m \u001b[38;5;28;01mraise\u001b[39;00m exc\n",
      "File \u001b[0;32m/opt/conda/lib/python3.9/site-packages/dask/local.py:224\u001b[0m, in \u001b[0;36mexecute_task\u001b[0;34m(key, task_info, dumps, loads, get_id, pack_exception)\u001b[0m\n\u001b[1;32m    222\u001b[0m \u001b[38;5;28;01mtry\u001b[39;00m:\n\u001b[1;32m    223\u001b[0m     task, data \u001b[38;5;241m=\u001b[39m loads(task_info)\n\u001b[0;32m--> 224\u001b[0m     result \u001b[38;5;241m=\u001b[39m \u001b[43m_execute_task\u001b[49m\u001b[43m(\u001b[49m\u001b[43mtask\u001b[49m\u001b[43m,\u001b[49m\u001b[43m \u001b[49m\u001b[43mdata\u001b[49m\u001b[43m)\u001b[49m\n\u001b[1;32m    225\u001b[0m     \u001b[38;5;28mid\u001b[39m \u001b[38;5;241m=\u001b[39m get_id()\n\u001b[1;32m    226\u001b[0m     result \u001b[38;5;241m=\u001b[39m dumps((result, \u001b[38;5;28mid\u001b[39m))\n",
      "File \u001b[0;32m/opt/conda/lib/python3.9/site-packages/dask/core.py:119\u001b[0m, in \u001b[0;36m_execute_task\u001b[0;34m(arg, cache, dsk)\u001b[0m\n\u001b[1;32m    115\u001b[0m     func, args \u001b[38;5;241m=\u001b[39m arg[\u001b[38;5;241m0\u001b[39m], arg[\u001b[38;5;241m1\u001b[39m:]\n\u001b[1;32m    116\u001b[0m     \u001b[38;5;66;03m# Note: Don't assign the subtask results to a variable. numpy detects\u001b[39;00m\n\u001b[1;32m    117\u001b[0m     \u001b[38;5;66;03m# temporaries by their reference count and can execute certain\u001b[39;00m\n\u001b[1;32m    118\u001b[0m     \u001b[38;5;66;03m# operations in-place.\u001b[39;00m\n\u001b[0;32m--> 119\u001b[0m     \u001b[38;5;28;01mreturn\u001b[39;00m \u001b[43mfunc\u001b[49m\u001b[43m(\u001b[49m\u001b[38;5;241;43m*\u001b[39;49m\u001b[43m(\u001b[49m\u001b[43m_execute_task\u001b[49m\u001b[43m(\u001b[49m\u001b[43ma\u001b[49m\u001b[43m,\u001b[49m\u001b[43m \u001b[49m\u001b[43mcache\u001b[49m\u001b[43m)\u001b[49m\u001b[43m \u001b[49m\u001b[38;5;28;43;01mfor\u001b[39;49;00m\u001b[43m \u001b[49m\u001b[43ma\u001b[49m\u001b[43m \u001b[49m\u001b[38;5;129;43;01min\u001b[39;49;00m\u001b[43m \u001b[49m\u001b[43margs\u001b[49m\u001b[43m)\u001b[49m\u001b[43m)\u001b[49m\n\u001b[1;32m    120\u001b[0m \u001b[38;5;28;01melif\u001b[39;00m \u001b[38;5;129;01mnot\u001b[39;00m ishashable(arg):\n\u001b[1;32m    121\u001b[0m     \u001b[38;5;28;01mreturn\u001b[39;00m arg\n",
      "File \u001b[0;32m/opt/conda/lib/python3.9/site-packages/dask/optimization.py:990\u001b[0m, in \u001b[0;36mSubgraphCallable.__call__\u001b[0;34m(self, *args)\u001b[0m\n\u001b[1;32m    988\u001b[0m \u001b[38;5;28;01mif\u001b[39;00m \u001b[38;5;129;01mnot\u001b[39;00m \u001b[38;5;28mlen\u001b[39m(args) \u001b[38;5;241m==\u001b[39m \u001b[38;5;28mlen\u001b[39m(\u001b[38;5;28mself\u001b[39m\u001b[38;5;241m.\u001b[39minkeys):\n\u001b[1;32m    989\u001b[0m     \u001b[38;5;28;01mraise\u001b[39;00m \u001b[38;5;167;01mValueError\u001b[39;00m(\u001b[38;5;124m\"\u001b[39m\u001b[38;5;124mExpected \u001b[39m\u001b[38;5;132;01m%d\u001b[39;00m\u001b[38;5;124m args, got \u001b[39m\u001b[38;5;132;01m%d\u001b[39;00m\u001b[38;5;124m\"\u001b[39m \u001b[38;5;241m%\u001b[39m (\u001b[38;5;28mlen\u001b[39m(\u001b[38;5;28mself\u001b[39m\u001b[38;5;241m.\u001b[39minkeys), \u001b[38;5;28mlen\u001b[39m(args)))\n\u001b[0;32m--> 990\u001b[0m \u001b[38;5;28;01mreturn\u001b[39;00m \u001b[43mcore\u001b[49m\u001b[38;5;241;43m.\u001b[39;49m\u001b[43mget\u001b[49m\u001b[43m(\u001b[49m\u001b[38;5;28;43mself\u001b[39;49m\u001b[38;5;241;43m.\u001b[39;49m\u001b[43mdsk\u001b[49m\u001b[43m,\u001b[49m\u001b[43m \u001b[49m\u001b[38;5;28;43mself\u001b[39;49m\u001b[38;5;241;43m.\u001b[39;49m\u001b[43moutkey\u001b[49m\u001b[43m,\u001b[49m\u001b[43m \u001b[49m\u001b[38;5;28;43mdict\u001b[39;49m\u001b[43m(\u001b[49m\u001b[38;5;28;43mzip\u001b[39;49m\u001b[43m(\u001b[49m\u001b[38;5;28;43mself\u001b[39;49m\u001b[38;5;241;43m.\u001b[39;49m\u001b[43minkeys\u001b[49m\u001b[43m,\u001b[49m\u001b[43m \u001b[49m\u001b[43margs\u001b[49m\u001b[43m)\u001b[49m\u001b[43m)\u001b[49m\u001b[43m)\u001b[49m\n",
      "File \u001b[0;32m/opt/conda/lib/python3.9/site-packages/dask/core.py:149\u001b[0m, in \u001b[0;36mget\u001b[0;34m(dsk, out, cache)\u001b[0m\n\u001b[1;32m    147\u001b[0m \u001b[38;5;28;01mfor\u001b[39;00m key \u001b[38;5;129;01min\u001b[39;00m toposort(dsk):\n\u001b[1;32m    148\u001b[0m     task \u001b[38;5;241m=\u001b[39m dsk[key]\n\u001b[0;32m--> 149\u001b[0m     result \u001b[38;5;241m=\u001b[39m \u001b[43m_execute_task\u001b[49m\u001b[43m(\u001b[49m\u001b[43mtask\u001b[49m\u001b[43m,\u001b[49m\u001b[43m \u001b[49m\u001b[43mcache\u001b[49m\u001b[43m)\u001b[49m\n\u001b[1;32m    150\u001b[0m     cache[key] \u001b[38;5;241m=\u001b[39m result\n\u001b[1;32m    151\u001b[0m result \u001b[38;5;241m=\u001b[39m _execute_task(out, cache)\n",
      "File \u001b[0;32m/opt/conda/lib/python3.9/site-packages/dask/core.py:119\u001b[0m, in \u001b[0;36m_execute_task\u001b[0;34m(arg, cache, dsk)\u001b[0m\n\u001b[1;32m    115\u001b[0m     func, args \u001b[38;5;241m=\u001b[39m arg[\u001b[38;5;241m0\u001b[39m], arg[\u001b[38;5;241m1\u001b[39m:]\n\u001b[1;32m    116\u001b[0m     \u001b[38;5;66;03m# Note: Don't assign the subtask results to a variable. numpy detects\u001b[39;00m\n\u001b[1;32m    117\u001b[0m     \u001b[38;5;66;03m# temporaries by their reference count and can execute certain\u001b[39;00m\n\u001b[1;32m    118\u001b[0m     \u001b[38;5;66;03m# operations in-place.\u001b[39;00m\n\u001b[0;32m--> 119\u001b[0m     \u001b[38;5;28;01mreturn\u001b[39;00m \u001b[43mfunc\u001b[49m\u001b[43m(\u001b[49m\u001b[38;5;241;43m*\u001b[39;49m\u001b[43m(\u001b[49m\u001b[43m_execute_task\u001b[49m\u001b[43m(\u001b[49m\u001b[43ma\u001b[49m\u001b[43m,\u001b[49m\u001b[43m \u001b[49m\u001b[43mcache\u001b[49m\u001b[43m)\u001b[49m\u001b[43m \u001b[49m\u001b[38;5;28;43;01mfor\u001b[39;49;00m\u001b[43m \u001b[49m\u001b[43ma\u001b[49m\u001b[43m \u001b[49m\u001b[38;5;129;43;01min\u001b[39;49;00m\u001b[43m \u001b[49m\u001b[43margs\u001b[49m\u001b[43m)\u001b[49m\u001b[43m)\u001b[49m\n\u001b[1;32m    120\u001b[0m \u001b[38;5;28;01melif\u001b[39;00m \u001b[38;5;129;01mnot\u001b[39;00m ishashable(arg):\n\u001b[1;32m    121\u001b[0m     \u001b[38;5;28;01mreturn\u001b[39;00m arg\n",
      "File \u001b[0;32m/opt/conda/lib/python3.9/site-packages/dask/dataframe/io/parquet/core.py:89\u001b[0m, in \u001b[0;36mParquetFunctionWrapper.__call__\u001b[0;34m(self, part)\u001b[0m\n\u001b[1;32m     86\u001b[0m \u001b[38;5;28;01mif\u001b[39;00m \u001b[38;5;129;01mnot\u001b[39;00m \u001b[38;5;28misinstance\u001b[39m(part, \u001b[38;5;28mlist\u001b[39m):\n\u001b[1;32m     87\u001b[0m     part \u001b[38;5;241m=\u001b[39m [part]\n\u001b[0;32m---> 89\u001b[0m \u001b[38;5;28;01mreturn\u001b[39;00m \u001b[43mread_parquet_part\u001b[49m\u001b[43m(\u001b[49m\n\u001b[1;32m     90\u001b[0m \u001b[43m    \u001b[49m\u001b[38;5;28;43mself\u001b[39;49m\u001b[38;5;241;43m.\u001b[39;49m\u001b[43mfs\u001b[49m\u001b[43m,\u001b[49m\n\u001b[1;32m     91\u001b[0m \u001b[43m    \u001b[49m\u001b[38;5;28;43mself\u001b[39;49m\u001b[38;5;241;43m.\u001b[39;49m\u001b[43mengine\u001b[49m\u001b[43m,\u001b[49m\n\u001b[1;32m     92\u001b[0m \u001b[43m    \u001b[49m\u001b[38;5;28;43mself\u001b[39;49m\u001b[38;5;241;43m.\u001b[39;49m\u001b[43mmeta\u001b[49m\u001b[43m,\u001b[49m\n\u001b[1;32m     93\u001b[0m \u001b[43m    \u001b[49m\u001b[43m[\u001b[49m\n\u001b[1;32m     94\u001b[0m \u001b[43m        \u001b[49m\u001b[38;5;66;43;03m# Temporary workaround for HLG serialization bug\u001b[39;49;00m\n\u001b[1;32m     95\u001b[0m \u001b[43m        \u001b[49m\u001b[38;5;66;43;03m# (see: https://github.com/dask/dask/issues/8581)\u001b[39;49;00m\n\u001b[1;32m     96\u001b[0m \u001b[43m        \u001b[49m\u001b[43m(\u001b[49m\u001b[43mp\u001b[49m\u001b[38;5;241;43m.\u001b[39;49m\u001b[43mdata\u001b[49m\u001b[43m[\u001b[49m\u001b[38;5;124;43m\"\u001b[39;49m\u001b[38;5;124;43mpiece\u001b[39;49m\u001b[38;5;124;43m\"\u001b[39;49m\u001b[43m]\u001b[49m\u001b[43m,\u001b[49m\u001b[43m \u001b[49m\u001b[43mp\u001b[49m\u001b[38;5;241;43m.\u001b[39;49m\u001b[43mdata\u001b[49m\u001b[38;5;241;43m.\u001b[39;49m\u001b[43mget\u001b[49m\u001b[43m(\u001b[49m\u001b[38;5;124;43m\"\u001b[39;49m\u001b[38;5;124;43mkwargs\u001b[39;49m\u001b[38;5;124;43m\"\u001b[39;49m\u001b[43m,\u001b[49m\u001b[43m \u001b[49m\u001b[43m{\u001b[49m\u001b[43m}\u001b[49m\u001b[43m)\u001b[49m\u001b[43m)\u001b[49m\n\u001b[1;32m     97\u001b[0m \u001b[43m        \u001b[49m\u001b[38;5;28;43;01mif\u001b[39;49;00m\u001b[43m \u001b[49m\u001b[38;5;28;43mhasattr\u001b[39;49m\u001b[43m(\u001b[49m\u001b[43mp\u001b[49m\u001b[43m,\u001b[49m\u001b[43m \u001b[49m\u001b[38;5;124;43m\"\u001b[39;49m\u001b[38;5;124;43mdata\u001b[39;49m\u001b[38;5;124;43m\"\u001b[39;49m\u001b[43m)\u001b[49m\n\u001b[1;32m     98\u001b[0m \u001b[43m        \u001b[49m\u001b[38;5;28;43;01melse\u001b[39;49;00m\u001b[43m \u001b[49m\u001b[43m(\u001b[49m\u001b[43mp\u001b[49m\u001b[43m[\u001b[49m\u001b[38;5;124;43m\"\u001b[39;49m\u001b[38;5;124;43mpiece\u001b[39;49m\u001b[38;5;124;43m\"\u001b[39;49m\u001b[43m]\u001b[49m\u001b[43m,\u001b[49m\u001b[43m \u001b[49m\u001b[43mp\u001b[49m\u001b[38;5;241;43m.\u001b[39;49m\u001b[43mget\u001b[49m\u001b[43m(\u001b[49m\u001b[38;5;124;43m\"\u001b[39;49m\u001b[38;5;124;43mkwargs\u001b[39;49m\u001b[38;5;124;43m\"\u001b[39;49m\u001b[43m,\u001b[49m\u001b[43m \u001b[49m\u001b[43m{\u001b[49m\u001b[43m}\u001b[49m\u001b[43m)\u001b[49m\u001b[43m)\u001b[49m\n\u001b[1;32m     99\u001b[0m \u001b[43m        \u001b[49m\u001b[38;5;28;43;01mfor\u001b[39;49;00m\u001b[43m \u001b[49m\u001b[43mp\u001b[49m\u001b[43m \u001b[49m\u001b[38;5;129;43;01min\u001b[39;49;00m\u001b[43m \u001b[49m\u001b[43mpart\u001b[49m\n\u001b[1;32m    100\u001b[0m \u001b[43m    \u001b[49m\u001b[43m]\u001b[49m\u001b[43m,\u001b[49m\n\u001b[1;32m    101\u001b[0m \u001b[43m    \u001b[49m\u001b[38;5;28;43mself\u001b[39;49m\u001b[38;5;241;43m.\u001b[39;49m\u001b[43mcolumns\u001b[49m\u001b[43m,\u001b[49m\n\u001b[1;32m    102\u001b[0m \u001b[43m    \u001b[49m\u001b[38;5;28;43mself\u001b[39;49m\u001b[38;5;241;43m.\u001b[39;49m\u001b[43mindex\u001b[49m\u001b[43m,\u001b[49m\n\u001b[1;32m    103\u001b[0m \u001b[43m    \u001b[49m\u001b[38;5;28;43mself\u001b[39;49m\u001b[38;5;241;43m.\u001b[39;49m\u001b[43mcommon_kwargs\u001b[49m\u001b[43m,\u001b[49m\n\u001b[1;32m    104\u001b[0m \u001b[43m\u001b[49m\u001b[43m)\u001b[49m\n",
      "File \u001b[0;32m/opt/conda/lib/python3.9/site-packages/dask/dataframe/io/parquet/core.py:587\u001b[0m, in \u001b[0;36mread_parquet_part\u001b[0;34m(fs, engine, meta, part, columns, index, kwargs)\u001b[0m\n\u001b[1;32m    584\u001b[0m \u001b[38;5;28;01mif\u001b[39;00m \u001b[38;5;28mlen\u001b[39m(part) \u001b[38;5;241m==\u001b[39m \u001b[38;5;241m1\u001b[39m \u001b[38;5;129;01mor\u001b[39;00m part[\u001b[38;5;241m0\u001b[39m][\u001b[38;5;241m1\u001b[39m] \u001b[38;5;129;01mor\u001b[39;00m \u001b[38;5;129;01mnot\u001b[39;00m check_multi_support(engine):\n\u001b[1;32m    585\u001b[0m     \u001b[38;5;66;03m# Part kwargs expected\u001b[39;00m\n\u001b[1;32m    586\u001b[0m     func \u001b[38;5;241m=\u001b[39m engine\u001b[38;5;241m.\u001b[39mread_partition\n\u001b[0;32m--> 587\u001b[0m     dfs \u001b[38;5;241m=\u001b[39m [\n\u001b[1;32m    588\u001b[0m         func(fs, rg, columns\u001b[38;5;241m.\u001b[39mcopy(), index, \u001b[38;5;241m*\u001b[39m\u001b[38;5;241m*\u001b[39mtoolz\u001b[38;5;241m.\u001b[39mmerge(kwargs, kw))\n\u001b[1;32m    589\u001b[0m         \u001b[38;5;28;01mfor\u001b[39;00m (rg, kw) \u001b[38;5;129;01min\u001b[39;00m part\n\u001b[1;32m    590\u001b[0m     ]\n\u001b[1;32m    591\u001b[0m     df \u001b[38;5;241m=\u001b[39m concat(dfs, axis\u001b[38;5;241m=\u001b[39m\u001b[38;5;241m0\u001b[39m) \u001b[38;5;28;01mif\u001b[39;00m \u001b[38;5;28mlen\u001b[39m(dfs) \u001b[38;5;241m>\u001b[39m \u001b[38;5;241m1\u001b[39m \u001b[38;5;28;01melse\u001b[39;00m dfs[\u001b[38;5;241m0\u001b[39m]\n\u001b[1;32m    592\u001b[0m \u001b[38;5;28;01melse\u001b[39;00m:\n\u001b[1;32m    593\u001b[0m     \u001b[38;5;66;03m# No part specific kwargs, let engine read\u001b[39;00m\n\u001b[1;32m    594\u001b[0m     \u001b[38;5;66;03m# list of parts at once\u001b[39;00m\n",
      "File \u001b[0;32m/opt/conda/lib/python3.9/site-packages/dask/dataframe/io/parquet/core.py:588\u001b[0m, in \u001b[0;36m<listcomp>\u001b[0;34m(.0)\u001b[0m\n\u001b[1;32m    584\u001b[0m \u001b[38;5;28;01mif\u001b[39;00m \u001b[38;5;28mlen\u001b[39m(part) \u001b[38;5;241m==\u001b[39m \u001b[38;5;241m1\u001b[39m \u001b[38;5;129;01mor\u001b[39;00m part[\u001b[38;5;241m0\u001b[39m][\u001b[38;5;241m1\u001b[39m] \u001b[38;5;129;01mor\u001b[39;00m \u001b[38;5;129;01mnot\u001b[39;00m check_multi_support(engine):\n\u001b[1;32m    585\u001b[0m     \u001b[38;5;66;03m# Part kwargs expected\u001b[39;00m\n\u001b[1;32m    586\u001b[0m     func \u001b[38;5;241m=\u001b[39m engine\u001b[38;5;241m.\u001b[39mread_partition\n\u001b[1;32m    587\u001b[0m     dfs \u001b[38;5;241m=\u001b[39m [\n\u001b[0;32m--> 588\u001b[0m         \u001b[43mfunc\u001b[49m\u001b[43m(\u001b[49m\u001b[43mfs\u001b[49m\u001b[43m,\u001b[49m\u001b[43m \u001b[49m\u001b[43mrg\u001b[49m\u001b[43m,\u001b[49m\u001b[43m \u001b[49m\u001b[43mcolumns\u001b[49m\u001b[38;5;241;43m.\u001b[39;49m\u001b[43mcopy\u001b[49m\u001b[43m(\u001b[49m\u001b[43m)\u001b[49m\u001b[43m,\u001b[49m\u001b[43m \u001b[49m\u001b[43mindex\u001b[49m\u001b[43m,\u001b[49m\u001b[43m \u001b[49m\u001b[38;5;241;43m*\u001b[39;49m\u001b[38;5;241;43m*\u001b[39;49m\u001b[43mtoolz\u001b[49m\u001b[38;5;241;43m.\u001b[39;49m\u001b[43mmerge\u001b[49m\u001b[43m(\u001b[49m\u001b[43mkwargs\u001b[49m\u001b[43m,\u001b[49m\u001b[43m \u001b[49m\u001b[43mkw\u001b[49m\u001b[43m)\u001b[49m\u001b[43m)\u001b[49m\n\u001b[1;32m    589\u001b[0m         \u001b[38;5;28;01mfor\u001b[39;00m (rg, kw) \u001b[38;5;129;01min\u001b[39;00m part\n\u001b[1;32m    590\u001b[0m     ]\n\u001b[1;32m    591\u001b[0m     df \u001b[38;5;241m=\u001b[39m concat(dfs, axis\u001b[38;5;241m=\u001b[39m\u001b[38;5;241m0\u001b[39m) \u001b[38;5;28;01mif\u001b[39;00m \u001b[38;5;28mlen\u001b[39m(dfs) \u001b[38;5;241m>\u001b[39m \u001b[38;5;241m1\u001b[39m \u001b[38;5;28;01melse\u001b[39;00m dfs[\u001b[38;5;241m0\u001b[39m]\n\u001b[1;32m    592\u001b[0m \u001b[38;5;28;01melse\u001b[39;00m:\n\u001b[1;32m    593\u001b[0m     \u001b[38;5;66;03m# No part specific kwargs, let engine read\u001b[39;00m\n\u001b[1;32m    594\u001b[0m     \u001b[38;5;66;03m# list of parts at once\u001b[39;00m\n",
      "File \u001b[0;32m/opt/conda/lib/python3.9/site-packages/dask/dataframe/io/parquet/arrow.py:435\u001b[0m, in \u001b[0;36mArrowDatasetEngine.read_partition\u001b[0;34m(cls, fs, pieces, columns, index, categories, partitions, filters, schema, **kwargs)\u001b[0m\n\u001b[1;32m    432\u001b[0m     row_group \u001b[38;5;241m=\u001b[39m [row_group]\n\u001b[1;32m    434\u001b[0m \u001b[38;5;66;03m# Read in arrow table and convert to pandas\u001b[39;00m\n\u001b[0;32m--> 435\u001b[0m arrow_table \u001b[38;5;241m=\u001b[39m \u001b[38;5;28;43mcls\u001b[39;49m\u001b[38;5;241;43m.\u001b[39;49m\u001b[43m_read_table\u001b[49m\u001b[43m(\u001b[49m\n\u001b[1;32m    436\u001b[0m \u001b[43m    \u001b[49m\u001b[43mpath_or_frag\u001b[49m\u001b[43m,\u001b[49m\n\u001b[1;32m    437\u001b[0m \u001b[43m    \u001b[49m\u001b[43mfs\u001b[49m\u001b[43m,\u001b[49m\n\u001b[1;32m    438\u001b[0m \u001b[43m    \u001b[49m\u001b[43mrow_group\u001b[49m\u001b[43m,\u001b[49m\n\u001b[1;32m    439\u001b[0m \u001b[43m    \u001b[49m\u001b[43mcolumns\u001b[49m\u001b[43m,\u001b[49m\n\u001b[1;32m    440\u001b[0m \u001b[43m    \u001b[49m\u001b[43mschema\u001b[49m\u001b[43m,\u001b[49m\n\u001b[1;32m    441\u001b[0m \u001b[43m    \u001b[49m\u001b[43mfilters\u001b[49m\u001b[43m,\u001b[49m\n\u001b[1;32m    442\u001b[0m \u001b[43m    \u001b[49m\u001b[43mpartitions\u001b[49m\u001b[43m,\u001b[49m\n\u001b[1;32m    443\u001b[0m \u001b[43m    \u001b[49m\u001b[43mpartition_keys\u001b[49m\u001b[43m,\u001b[49m\n\u001b[1;32m    444\u001b[0m \u001b[43m    \u001b[49m\u001b[38;5;241;43m*\u001b[39;49m\u001b[38;5;241;43m*\u001b[39;49m\u001b[43mkwargs\u001b[49m\u001b[43m,\u001b[49m\n\u001b[1;32m    445\u001b[0m \u001b[43m\u001b[49m\u001b[43m)\u001b[49m\n\u001b[1;32m    446\u001b[0m \u001b[38;5;28;01mif\u001b[39;00m multi_read:\n\u001b[1;32m    447\u001b[0m     tables\u001b[38;5;241m.\u001b[39mappend(arrow_table)\n",
      "File \u001b[0;32m/opt/conda/lib/python3.9/site-packages/dask/dataframe/io/parquet/arrow.py:1518\u001b[0m, in \u001b[0;36mArrowDatasetEngine._read_table\u001b[0;34m(cls, path_or_frag, fs, row_groups, columns, schema, filters, partitions, partition_keys, **kwargs)\u001b[0m\n\u001b[1;32m   1511\u001b[0m     arrow_table \u001b[38;5;241m=\u001b[39m frag\u001b[38;5;241m.\u001b[39mto_table(\n\u001b[1;32m   1512\u001b[0m         use_threads\u001b[38;5;241m=\u001b[39m\u001b[38;5;28;01mFalse\u001b[39;00m,\n\u001b[1;32m   1513\u001b[0m         schema\u001b[38;5;241m=\u001b[39mschema,\n\u001b[1;32m   1514\u001b[0m         columns\u001b[38;5;241m=\u001b[39mcols,\n\u001b[1;32m   1515\u001b[0m         \u001b[38;5;28mfilter\u001b[39m\u001b[38;5;241m=\u001b[39mpq\u001b[38;5;241m.\u001b[39m_filters_to_expression(filters) \u001b[38;5;28;01mif\u001b[39;00m filters \u001b[38;5;28;01melse\u001b[39;00m \u001b[38;5;28;01mNone\u001b[39;00m,\n\u001b[1;32m   1516\u001b[0m     )\n\u001b[1;32m   1517\u001b[0m \u001b[38;5;28;01melse\u001b[39;00m:\n\u001b[0;32m-> 1518\u001b[0m     arrow_table \u001b[38;5;241m=\u001b[39m \u001b[43m_read_table_from_path\u001b[49m\u001b[43m(\u001b[49m\n\u001b[1;32m   1519\u001b[0m \u001b[43m        \u001b[49m\u001b[43mpath_or_frag\u001b[49m\u001b[43m,\u001b[49m\n\u001b[1;32m   1520\u001b[0m \u001b[43m        \u001b[49m\u001b[43mfs\u001b[49m\u001b[43m,\u001b[49m\n\u001b[1;32m   1521\u001b[0m \u001b[43m        \u001b[49m\u001b[43mrow_groups\u001b[49m\u001b[43m,\u001b[49m\n\u001b[1;32m   1522\u001b[0m \u001b[43m        \u001b[49m\u001b[43mcolumns\u001b[49m\u001b[43m,\u001b[49m\n\u001b[1;32m   1523\u001b[0m \u001b[43m        \u001b[49m\u001b[43mschema\u001b[49m\u001b[43m,\u001b[49m\n\u001b[1;32m   1524\u001b[0m \u001b[43m        \u001b[49m\u001b[43mfilters\u001b[49m\u001b[43m,\u001b[49m\n\u001b[1;32m   1525\u001b[0m \u001b[43m        \u001b[49m\u001b[38;5;241;43m*\u001b[39;49m\u001b[38;5;241;43m*\u001b[39;49m\u001b[43mkwargs\u001b[49m\u001b[43m,\u001b[49m\n\u001b[1;32m   1526\u001b[0m \u001b[43m    \u001b[49m\u001b[43m)\u001b[49m\n\u001b[1;32m   1528\u001b[0m \u001b[38;5;66;03m# For pyarrow.dataset api, if we did not read directly from\u001b[39;00m\n\u001b[1;32m   1529\u001b[0m \u001b[38;5;66;03m# fragments, we need to add the partitioned columns here.\u001b[39;00m\n\u001b[1;32m   1530\u001b[0m \u001b[38;5;28;01mif\u001b[39;00m partitions \u001b[38;5;129;01mand\u001b[39;00m \u001b[38;5;28misinstance\u001b[39m(partitions, \u001b[38;5;28mlist\u001b[39m):\n",
      "File \u001b[0;32m/opt/conda/lib/python3.9/site-packages/dask/dataframe/io/parquet/arrow.py:239\u001b[0m, in \u001b[0;36m_read_table_from_path\u001b[0;34m(path, fs, row_groups, columns, schema, filters, **kwargs)\u001b[0m\n\u001b[1;32m    232\u001b[0m \u001b[38;5;28;01mwith\u001b[39;00m _open_input_files(\n\u001b[1;32m    233\u001b[0m     [path],\n\u001b[1;32m    234\u001b[0m     fs\u001b[38;5;241m=\u001b[39mfs,\n\u001b[1;32m    235\u001b[0m     precache_options\u001b[38;5;241m=\u001b[39mprecache_options,\n\u001b[1;32m    236\u001b[0m     \u001b[38;5;241m*\u001b[39m\u001b[38;5;241m*\u001b[39mopen_file_options,\n\u001b[1;32m    237\u001b[0m )[\u001b[38;5;241m0\u001b[39m] \u001b[38;5;28;01mas\u001b[39;00m fil:\n\u001b[1;32m    238\u001b[0m     \u001b[38;5;28;01mif\u001b[39;00m row_groups \u001b[38;5;241m==\u001b[39m [\u001b[38;5;28;01mNone\u001b[39;00m]:\n\u001b[0;32m--> 239\u001b[0m         \u001b[38;5;28;01mreturn\u001b[39;00m \u001b[43mpq\u001b[49m\u001b[38;5;241;43m.\u001b[39;49m\u001b[43mParquetFile\u001b[49m\u001b[43m(\u001b[49m\u001b[43mfil\u001b[49m\u001b[43m,\u001b[49m\u001b[43m \u001b[49m\u001b[38;5;241;43m*\u001b[39;49m\u001b[38;5;241;43m*\u001b[39;49m\u001b[43mpre_buffer\u001b[49m\u001b[43m)\u001b[49m\u001b[38;5;241m.\u001b[39mread(\n\u001b[1;32m    240\u001b[0m             columns\u001b[38;5;241m=\u001b[39mcolumns,\n\u001b[1;32m    241\u001b[0m             use_threads\u001b[38;5;241m=\u001b[39m\u001b[38;5;28;01mFalse\u001b[39;00m,\n\u001b[1;32m    242\u001b[0m             use_pandas_metadata\u001b[38;5;241m=\u001b[39m\u001b[38;5;28;01mTrue\u001b[39;00m,\n\u001b[1;32m    243\u001b[0m             \u001b[38;5;241m*\u001b[39m\u001b[38;5;241m*\u001b[39mread_kwargs,\n\u001b[1;32m    244\u001b[0m         )\n\u001b[1;32m    245\u001b[0m     \u001b[38;5;28;01melse\u001b[39;00m:\n\u001b[1;32m    246\u001b[0m         \u001b[38;5;28;01mreturn\u001b[39;00m pq\u001b[38;5;241m.\u001b[39mParquetFile(fil, \u001b[38;5;241m*\u001b[39m\u001b[38;5;241m*\u001b[39mpre_buffer)\u001b[38;5;241m.\u001b[39mread_row_groups(\n\u001b[1;32m    247\u001b[0m             row_groups,\n\u001b[1;32m    248\u001b[0m             columns\u001b[38;5;241m=\u001b[39mcolumns,\n\u001b[0;32m   (...)\u001b[0m\n\u001b[1;32m    251\u001b[0m             \u001b[38;5;241m*\u001b[39m\u001b[38;5;241m*\u001b[39mread_kwargs,\n\u001b[1;32m    252\u001b[0m         )\n",
      "File \u001b[0;32m/opt/conda/lib/python3.9/site-packages/pyarrow/parquet/core.py:323\u001b[0m, in \u001b[0;36mParquetFile.__init__\u001b[0;34m(self, source, metadata, common_metadata, read_dictionary, memory_map, buffer_size, pre_buffer, coerce_int96_timestamp_unit, decryption_properties, thrift_string_size_limit, thrift_container_size_limit, filesystem)\u001b[0m\n\u001b[1;32m    320\u001b[0m     \u001b[38;5;28mself\u001b[39m\u001b[38;5;241m.\u001b[39m_close_source \u001b[38;5;241m=\u001b[39m \u001b[38;5;28;01mTrue\u001b[39;00m  \u001b[38;5;66;03m# We opened it here, ensure we close it.\u001b[39;00m\n\u001b[1;32m    322\u001b[0m \u001b[38;5;28mself\u001b[39m\u001b[38;5;241m.\u001b[39mreader \u001b[38;5;241m=\u001b[39m ParquetReader()\n\u001b[0;32m--> 323\u001b[0m \u001b[38;5;28;43mself\u001b[39;49m\u001b[38;5;241;43m.\u001b[39;49m\u001b[43mreader\u001b[49m\u001b[38;5;241;43m.\u001b[39;49m\u001b[43mopen\u001b[49m\u001b[43m(\u001b[49m\n\u001b[1;32m    324\u001b[0m \u001b[43m    \u001b[49m\u001b[43msource\u001b[49m\u001b[43m,\u001b[49m\u001b[43m \u001b[49m\u001b[43muse_memory_map\u001b[49m\u001b[38;5;241;43m=\u001b[39;49m\u001b[43mmemory_map\u001b[49m\u001b[43m,\u001b[49m\n\u001b[1;32m    325\u001b[0m \u001b[43m    \u001b[49m\u001b[43mbuffer_size\u001b[49m\u001b[38;5;241;43m=\u001b[39;49m\u001b[43mbuffer_size\u001b[49m\u001b[43m,\u001b[49m\u001b[43m \u001b[49m\u001b[43mpre_buffer\u001b[49m\u001b[38;5;241;43m=\u001b[39;49m\u001b[43mpre_buffer\u001b[49m\u001b[43m,\u001b[49m\n\u001b[1;32m    326\u001b[0m \u001b[43m    \u001b[49m\u001b[43mread_dictionary\u001b[49m\u001b[38;5;241;43m=\u001b[39;49m\u001b[43mread_dictionary\u001b[49m\u001b[43m,\u001b[49m\u001b[43m \u001b[49m\u001b[43mmetadata\u001b[49m\u001b[38;5;241;43m=\u001b[39;49m\u001b[43mmetadata\u001b[49m\u001b[43m,\u001b[49m\n\u001b[1;32m    327\u001b[0m \u001b[43m    \u001b[49m\u001b[43mcoerce_int96_timestamp_unit\u001b[49m\u001b[38;5;241;43m=\u001b[39;49m\u001b[43mcoerce_int96_timestamp_unit\u001b[49m\u001b[43m,\u001b[49m\n\u001b[1;32m    328\u001b[0m \u001b[43m    \u001b[49m\u001b[43mdecryption_properties\u001b[49m\u001b[38;5;241;43m=\u001b[39;49m\u001b[43mdecryption_properties\u001b[49m\u001b[43m,\u001b[49m\n\u001b[1;32m    329\u001b[0m \u001b[43m    \u001b[49m\u001b[43mthrift_string_size_limit\u001b[49m\u001b[38;5;241;43m=\u001b[39;49m\u001b[43mthrift_string_size_limit\u001b[49m\u001b[43m,\u001b[49m\n\u001b[1;32m    330\u001b[0m \u001b[43m    \u001b[49m\u001b[43mthrift_container_size_limit\u001b[49m\u001b[38;5;241;43m=\u001b[39;49m\u001b[43mthrift_container_size_limit\u001b[49m\u001b[43m,\u001b[49m\n\u001b[1;32m    331\u001b[0m \u001b[43m\u001b[49m\u001b[43m)\u001b[49m\n\u001b[1;32m    332\u001b[0m \u001b[38;5;28mself\u001b[39m\u001b[38;5;241m.\u001b[39mcommon_metadata \u001b[38;5;241m=\u001b[39m common_metadata\n\u001b[1;32m    333\u001b[0m \u001b[38;5;28mself\u001b[39m\u001b[38;5;241m.\u001b[39m_nested_paths_by_prefix \u001b[38;5;241m=\u001b[39m \u001b[38;5;28mself\u001b[39m\u001b[38;5;241m.\u001b[39m_build_nested_paths()\n",
      "File \u001b[0;32m/opt/conda/lib/python3.9/site-packages/pyarrow/_parquet.pyx:1227\u001b[0m, in \u001b[0;36mpyarrow._parquet.ParquetReader.open\u001b[0;34m()\u001b[0m\n",
      "File \u001b[0;32m/opt/conda/lib/python3.9/site-packages/pyarrow/error.pxi:100\u001b[0m, in \u001b[0;36mpyarrow.lib.check_status\u001b[0;34m()\u001b[0m\n",
      "\u001b[0;31mArrowInvalid\u001b[0m: Parquet magic bytes not found in footer. Either the file is corrupted or this is not a parquet file."
     ]
    }
   ],
   "source": [
    "new_usable_vps, merge1 = percent_sjoin_pts(usable_vp1,vp_to_seg)"
   ]
  },
  {
   "cell_type": "code",
   "execution_count": 44,
   "id": "c13e26ed-71f4-46ab-b196-dcfe0b80f961",
   "metadata": {},
   "outputs": [
    {
     "data": {
      "text/plain": [
       "dask.dataframe.core.DataFrame"
      ]
     },
     "execution_count": 44,
     "metadata": {},
     "output_type": "execute_result"
    }
   ],
   "source": [
    "type(merge1)"
   ]
  },
  {
   "cell_type": "code",
   "execution_count": null,
   "id": "0a05d38b-1042-43e4-a3fd-f37c689e1e2b",
   "metadata": {},
   "outputs": [],
   "source": [
    "len(merge1)"
   ]
  },
  {
   "cell_type": "code",
   "execution_count": null,
   "id": "06b1692e-86c6-43c2-b314-50d70e2debb2",
   "metadata": {},
   "outputs": [],
   "source": [
    "# merge with crossalk\n",
    "crosswalk.sample()"
   ]
  },
  {
   "cell_type": "code",
   "execution_count": null,
   "id": "f4234185-b1ad-46d0-a7a1-1865d01553aa",
   "metadata": {},
   "outputs": [],
   "source": [
    "merge1 = pd.merge(merge1, crosswalk, on = ['trip_id','gtfs_dataset_key'], how = 'left')"
   ]
  },
  {
   "cell_type": "code",
   "execution_count": null,
   "id": "96c84c2f-8aa8-4c2f-a0a7-399a84fcfefb",
   "metadata": {},
   "outputs": [],
   "source": [
    "merge1.sample(10)"
   ]
  },
  {
   "cell_type": "code",
   "execution_count": null,
   "id": "d65bc377-36e8-4fa0-8f0a-ae9d238bfeb5",
   "metadata": {},
   "outputs": [],
   "source": [
    "merge1[(merge1.gtfs_dataset_key == \"1aec012cf85cb59b80880a01b2d1b1ef\") & (merge1.trip_id == \"3098\")]"
   ]
  },
  {
   "cell_type": "code",
   "execution_count": null,
   "id": "7fe5e59f-8249-4298-a022-ca9fa7ec82b7",
   "metadata": {},
   "outputs": [],
   "source": [
    "merge1[(merge1.trip_id == \"t_5653186_b_30571_tn_1\")]"
   ]
  },
  {
   "cell_type": "code",
   "execution_count": null,
   "id": "12a1b993-c8f4-4b9b-bda1-d971ed015b65",
   "metadata": {},
   "outputs": [],
   "source": [
    "merge1[(merge1.trip_id == \"t2DB-b1-sl2\")]"
   ]
  },
  {
   "cell_type": "code",
   "execution_count": null,
   "id": "c7f3958f-9188-441f-b73a-3aead5781785",
   "metadata": {},
   "outputs": [],
   "source": [
    "merge1[(merge1.trip_id == \"223\")]"
   ]
  },
  {
   "cell_type": "code",
   "execution_count": null,
   "id": "0d97977c-f0e3-4c45-8ca7-870599172756",
   "metadata": {},
   "outputs": [],
   "source": [
    "merge1[(merge1.trip_id == \"1705020\")]"
   ]
  },
  {
   "cell_type": "markdown",
   "id": "a9092c5a-4fc2-40a4-bbdc-35d85c6de477",
   "metadata": {},
   "source": [
    "#### Check for missing operators/trips"
   ]
  },
  {
   "cell_type": "code",
   "execution_count": null,
   "id": "be69957f-92fe-4526-a240-96899146a58c",
   "metadata": {},
   "outputs": [],
   "source": [
    "merge1.gtfs_dataset_key.nunique(), merge1.trip_id.nunique()"
   ]
  },
  {
   "cell_type": "code",
   "execution_count": null,
   "id": "b3750264-b35c-4a57-a015-e1dc330759ef",
   "metadata": {},
   "outputs": [],
   "source": [
    "usable_vp1 = usable_vp1.compute()"
   ]
  },
  {
   "cell_type": "code",
   "execution_count": null,
   "id": "2cf5b62f-a52e-49e1-a67a-86eb9b83003c",
   "metadata": {},
   "outputs": [],
   "source": [
    "usable_vp1.gtfs_dataset_key.nunique(), usable_vp1.trip_id.nunique()"
   ]
  },
  {
   "cell_type": "code",
   "execution_count": null,
   "id": "8024e468-dbf8-4396-b993-25e2e633aa1d",
   "metadata": {},
   "outputs": [],
   "source": [
    "og_gtfs = set(usable_vp1.trip_id.unique().tolist())\n",
    "agg_gtfs = set(merge1.trip_id.unique().tolist())\n",
    "og_gtfs - agg_gtfs"
   ]
  },
  {
   "cell_type": "code",
   "execution_count": null,
   "id": "c875a886-166a-4aba-b5ff-a67a60426cd6",
   "metadata": {},
   "outputs": [],
   "source": []
  },
  {
   "cell_type": "markdown",
   "id": "6bc1a08d-3a41-47da-9192-c2891c618ab7",
   "metadata": {},
   "source": [
    "#### Full merge"
   ]
  },
  {
   "cell_type": "code",
   "execution_count": 52,
   "id": "dc0a1eef-dc19-4a26-bb29-410e89ae750d",
   "metadata": {},
   "outputs": [],
   "source": [
    "# https://www.geeksforgeeks.org/python-reversing-list/\n",
    "def reverse(lst):\n",
    "    new_list = lst[::-1]\n",
    "    return new_list"
   ]
  },
  {
   "cell_type": "code",
   "execution_count": 59,
   "id": "88a919eb-cd8c-4adc-8ede-26bdbc26956a",
   "metadata": {},
   "outputs": [],
   "source": [
    "def percent_sjoin_all_pts(analysis_date:str):\n",
    "    \n",
    "    start = datetime.datetime.now()\n",
    "    print(start)\n",
    "    \n",
    "    # Load usable vp\n",
    "    usable_vps_og = load_usable_vp(analysis_date)\n",
    "    \n",
    "    # Load sjoin\n",
    "    sjoin_og = load_sjoin(analysis_date)\n",
    "    \n",
    "    # Break it apart\n",
    "    # https://stackoverflow.com/questions/49139371/slicing-out-a-few-rows-from-a-dask-dataframe\n",
    "    npart = round(len(usable_vps_og)/1_000_000)\n",
    "    usable_vps_og = usable_vps_og.repartition(npartitions=npart)\n",
    "    my_list = [n for n in range(0,npart)]\n",
    "    \n",
    "    for i in reverse(my_list):\n",
    "        my_results = []\n",
    "        try:\n",
    "            sjoin_og = sjoin_og[~sjoin_og.vp_idx.isin(remaining_vp_idx_list)].reset_index(drop = True)\n",
    "        except:\n",
    "            sjoin_og\n",
    "            \n",
    "        # Apply function\n",
    "        remaining_vp_idx_list, results = percent_sjoin_pts(usable_vps_og.partitions[i], sjoin_og)\n",
    "        my_results.append(results)\n",
    "        \n",
    "        # Save\n",
    "        results.to_parquet(f\"{SEGMENT_GCS}ah_testing/part_{i}.parquet\")\n",
    "        print(f\"done with {i}\")\n",
    "        \n",
    "    \n",
    "    final = pd.concat(my_results, axis=0).reset_index(drop=True)\n",
    "    end = datetime.datetime.now()\n",
    "    print(f\"Time lapsed: {end-start}\")\n",
    "    return final\n",
    "        "
   ]
  },
  {
   "cell_type": "code",
   "execution_count": 61,
   "id": "3a372a8c-08d4-431d-bf43-e76ab6710ae4",
   "metadata": {
    "scrolled": true,
    "tags": []
   },
   "outputs": [],
   "source": [
    "# test = percent_sjoin_all_pts(analysis_date)"
   ]
  },
  {
   "cell_type": "code",
   "execution_count": 66,
   "id": "a7cb4369-b718-46a4-92cc-ad95e30e1e7e",
   "metadata": {},
   "outputs": [],
   "source": [
    "pt14 = pd.read_parquet(f\"gs://calitp-analytics-data/data-analyses/rt_segment_speeds/ah_testing/part_14.parquet\")"
   ]
  },
  {
   "cell_type": "code",
   "execution_count": 69,
   "id": "ededad8b-86c9-4f38-948d-7b7d79ba712a",
   "metadata": {},
   "outputs": [
    {
     "data": {
      "text/plain": [
       "count   7040.00\n",
       "mean      85.81\n",
       "std       27.16\n",
       "min        0.00\n",
       "25%       85.11\n",
       "50%       99.31\n",
       "75%      100.00\n",
       "max      100.00\n",
       "Name: percent_of_pts, dtype: float64"
      ]
     },
     "execution_count": 69,
     "metadata": {},
     "output_type": "execute_result"
    }
   ],
   "source": [
    "pt14.percent_of_pts.describe()"
   ]
  },
  {
   "cell_type": "markdown",
   "id": "6ccd0ac3-2aa6-42ab-a121-6ba3ab7673b1",
   "metadata": {
    "tags": []
   },
   "source": [
    "### Investigate - Don't Delete"
   ]
  },
  {
   "cell_type": "code",
   "execution_count": null,
   "id": "5a9b018c-42ae-498c-b34e-c649591b7475",
   "metadata": {},
   "outputs": [],
   "source": [
    "stop"
   ]
  },
  {
   "cell_type": "code",
   "execution_count": null,
   "id": "cab32ef3-cc66-40ce-aa19-59631734f539",
   "metadata": {},
   "outputs": [],
   "source": [
    "stage3_df = speed_utils.flag_stage3(divide_by_zero, analysis_date)"
   ]
  },
  {
   "cell_type": "code",
   "execution_count": null,
   "id": "3e4e731a-6e1d-47db-aa57-abf7c34b1bf9",
   "metadata": {},
   "outputs": [],
   "source": [
    "stage3_df.shape_array_key.nunique()"
   ]
  },
  {
   "cell_type": "code",
   "execution_count": null,
   "id": "fdafc453-0d9d-4e4a-9355-38e2ad76a1a4",
   "metadata": {},
   "outputs": [],
   "source": [
    "sort_by = ['_gtfs_dataset_name','shape_array_key','trip_id','stop_sequence']"
   ]
  },
  {
   "cell_type": "code",
   "execution_count": null,
   "id": "70996816-e94c-4906-838c-0d9e0fe3049e",
   "metadata": {},
   "outputs": [],
   "source": [
    "preview_cols = sort_by + ['stop_id','gtfs_dataset_key','location_timestamp_local','pair','stage3_flag']"
   ]
  },
  {
   "cell_type": "markdown",
   "id": "e52c8e35-2341-4aae-93f4-5555b54f1afb",
   "metadata": {},
   "source": [
    "#### Find routes with a lot of n_trips that need to be evaluated."
   ]
  },
  {
   "cell_type": "code",
   "execution_count": null,
   "id": "5292af73-a2a0-4eda-aa2f-73732d80a3ef",
   "metadata": {},
   "outputs": [],
   "source": [
    "shape_trips = speed_utils.count_trips_routes(stage3_df)"
   ]
  },
  {
   "cell_type": "code",
   "execution_count": null,
   "id": "05b804be-9dba-425a-bbae-6ccd65c22885",
   "metadata": {},
   "outputs": [],
   "source": [
    "shape_trips.head(5)"
   ]
  },
  {
   "cell_type": "code",
   "execution_count": null,
   "id": "7387da40-015e-4da3-8136-9a8a6fe13614",
   "metadata": {},
   "outputs": [],
   "source": [
    "def count_all_pts_sjoin(flagged: pd.DataFrame, gtfs_key:str, trip:str, route:str):\n",
    "    unique_trips = speed_utils.import_unique_trips(\n",
    "    gtfs_key,trip,route)\n",
    "    \n",
    "    all_pts = speed_utils.import_vehicle_positions(\n",
    "    unique_trips, gtfs_key, trip)\n",
    "    \n",
    "    segs = speed_utils.import_segments(flagged,route, gtfs_key, trip)\n",
    "    \n",
    "    sjoin = speed_utils.sjoin_vp_segments(segs, all_pts)\n",
    "    print(f\"{all_pts.geometry.nunique()} points for all vehicle positions, {sjoin.geometry_left.nunique()} after sjoin.\")"
   ]
  },
  {
   "cell_type": "markdown",
   "id": "4a9bbe1e-02f6-44b3-bf8a-693d9f94da7a",
   "metadata": {},
   "source": [
    "#### Example Trip 1\n",
    "* Understanding the result from flag_stage3().\n",
    "* Looking at AC Transit: stop sequences 6 and 7 have different stop_ids. However, their time stamps and locations are the same.\n",
    "* It looks like they share the same point.\n",
    "* However, this isn't due to paring too many points: there just aren't enough points to choose from in the raw data.\n",
    "* Also sequence 2 is extremely long."
   ]
  },
  {
   "cell_type": "code",
   "execution_count": null,
   "id": "f50dc43f-697f-400c-b598-968a59ac7452",
   "metadata": {},
   "outputs": [],
   "source": [
    "test_route1 = \"e22aab342fa9be03e18fbbd8fed80659\"\n",
    "test_gtfs_key1 = \"c0e3039da063db95ebabd3fe4ee611a4\"\n",
    "test_trip1 = \"11359079_M11\""
   ]
  },
  {
   "cell_type": "code",
   "execution_count": null,
   "id": "aef433dd-9019-439a-abb2-70e0a65bfb1f",
   "metadata": {},
   "outputs": [],
   "source": [
    "# % of trips with problematic rows for this route\n",
    "trips_count[trips_count.shape_array_key == test_route1]"
   ]
  },
  {
   "cell_type": "code",
   "execution_count": null,
   "id": "af074b7b-f376-4841-ac6d-4a8feef008d8",
   "metadata": {},
   "outputs": [],
   "source": []
  },
  {
   "cell_type": "code",
   "execution_count": null,
   "id": "03312246-3ea0-42a7-a552-86196a61b0f9",
   "metadata": {
    "scrolled": true,
    "tags": []
   },
   "outputs": [],
   "source": [
    "speed_utils.original_df_rows(flagged, test_trip1, test_route1)"
   ]
  },
  {
   "cell_type": "code",
   "execution_count": null,
   "id": "7a4ae095-d010-46b5-80b2-0bbe948f249f",
   "metadata": {},
   "outputs": [],
   "source": [
    "speed_utils.stage2_trouble_shooting(flagged_df= stage3_df,\n",
    "                        date = analysis_date,\n",
    "                        route = test_route1,\n",
    "                        trip = test_trip1,\n",
    "                        gtfs_key = test_gtfs_key1)"
   ]
  },
  {
   "cell_type": "markdown",
   "id": "38c6d374-155d-4fcc-985a-7c892eaecb46",
   "metadata": {},
   "source": [
    "#### Example Trip 2\n",
    "* Route is missing part of the segment?"
   ]
  },
  {
   "cell_type": "code",
   "execution_count": null,
   "id": "268c5f17-df4a-4d84-b3b0-d76a2727bcf7",
   "metadata": {},
   "outputs": [],
   "source": [
    "test_route2 = \"2fcc8c55ad61684b2e73860522d0626b\"\n",
    "test_gtfs_key2 = \"0faa34840bb65e96b7f83b7f379c2edd\"\n",
    "test_trip2 = \"1_Trip4_H_COVID\""
   ]
  },
  {
   "cell_type": "code",
   "execution_count": null,
   "id": "314e1a1e-4705-4f79-872f-77daaf8a3087",
   "metadata": {},
   "outputs": [],
   "source": [
    "merge4[merge4.trip_id == test_trip2][preview_cols2]"
   ]
  },
  {
   "cell_type": "code",
   "execution_count": null,
   "id": "5ae2cbab-5fa4-45bf-9965-962f33dc1946",
   "metadata": {},
   "outputs": [],
   "source": [
    "# Original number of rows for this trip\n",
    "#len(flagged[(flagged.trip_id == test_trip2) & (flagged.shape_array_key == test_route2)])"
   ]
  },
  {
   "cell_type": "code",
   "execution_count": null,
   "id": "8a927dfa-7b78-41f8-b387-6d03f4e328c6",
   "metadata": {},
   "outputs": [],
   "source": [
    "# Rows with zeroes...a lot of them.\n",
    "#len(divide_by_zero[(divide_by_zero.trip_id == test_trip2) & (divide_by_zero.shape_array_key == test_route2)])"
   ]
  },
  {
   "cell_type": "code",
   "execution_count": null,
   "id": "1b193ab2-1cfa-471b-aa1b-857949f4e2d1",
   "metadata": {},
   "outputs": [],
   "source": [
    "#stage3_df[(stage3_df.stage3_flag != 'check in stage 2') & (stage3_df.shape_array_key == test_route2) \n",
    "#   & (stage3_df.stop_sequence.isin([45,46]))].sort_values(by =sort_by)[preview_cols]"
   ]
  },
  {
   "cell_type": "code",
   "execution_count": null,
   "id": "4b3bc6c2-d9ff-44fd-b812-28c4dec1023f",
   "metadata": {},
   "outputs": [],
   "source": [
    "# % of trips with problematic rows for this route, lots of them\n",
    "#trips_count[trips_count.shape_array_key == test_route2]"
   ]
  },
  {
   "cell_type": "code",
   "execution_count": null,
   "id": "d121f820-9838-4d27-8eba-be74044554c6",
   "metadata": {
    "scrolled": true,
    "tags": []
   },
   "outputs": [],
   "source": [
    "#speed_utils.original_df_rows(m1, test_trip2, test_route2)"
   ]
  },
  {
   "cell_type": "code",
   "execution_count": null,
   "id": "776476fb-b4d7-463b-a962-dd4a25b2d8b7",
   "metadata": {},
   "outputs": [],
   "source": [
    "count_all_pts_sjoin(stage3_df, test_gtfs_key2, test_trip2, test_route2)"
   ]
  },
  {
   "cell_type": "code",
   "execution_count": null,
   "id": "4918232c-956f-413a-825f-e84c61d59c8b",
   "metadata": {},
   "outputs": [],
   "source": [
    "86/125"
   ]
  },
  {
   "cell_type": "code",
   "execution_count": null,
   "id": "deaa6fdf-37b8-49ee-97f2-46f74d41a449",
   "metadata": {},
   "outputs": [],
   "source": [
    "speed_utils.stage2_trouble_shooting(flagged_df= stage3_df,\n",
    "                     date = analysis_date,\n",
    "                       route = test_route2,\n",
    "                    trip = test_trip2,\n",
    "                      gtfs_key = test_gtfs_key2,)"
   ]
  },
  {
   "cell_type": "code",
   "execution_count": null,
   "id": "7f5485ec-4038-46d1-bca1-0116733f0128",
   "metadata": {},
   "outputs": [],
   "source": [
    "# See which trip has the most rows that are ok for this route\n",
    "#route_most_populated_df[route_most_populated_df.shape_array_key == test_route2]"
   ]
  },
  {
   "cell_type": "code",
   "execution_count": null,
   "id": "be67628e-7c55-43d8-838c-251bc4439a8b",
   "metadata": {},
   "outputs": [],
   "source": [
    "# Plot the trip from this route with the highest % of ok rows\n",
    "#speed_utils.stage2_trouble_shooting(flagged_df= stage3_df,\n",
    "#                        date = analysis_date,\n",
    "#                        route = test_route2,\n",
    " #                       trip = \"10294000051724-DEC22\",\n",
    " #                       gtfs_key = test_gtfs_key2,)"
   ]
  },
  {
   "cell_type": "markdown",
   "id": "27d10dab-c7b0-4ddd-b70b-b3c6b7b3e579",
   "metadata": {
    "tags": []
   },
   "source": [
    "#### Example Trip 3\n",
    "* One results says 100% of usable vps are sjoined, othe says only 60%\n",
    "* Which one is more accurate? Seems like result from my second test is more accurate (a1sjoin)"
   ]
  },
  {
   "cell_type": "code",
   "execution_count": null,
   "id": "f951ac97-43af-452f-9cb7-d40f71c114c9",
   "metadata": {},
   "outputs": [],
   "source": [
    "shape_key3 = \"7522dcf861b71950ebce7fc12d3b7e61\"\n",
    "gtfs_key3 = \"0af37e731f00a843fb9a0fe286f8d958\"\n",
    "test_trip3 = \"1093534\""
   ]
  },
  {
   "cell_type": "code",
   "execution_count": null,
   "id": "ae5c70af-8025-4a7a-8417-07e7a9875e5a",
   "metadata": {},
   "outputs": [],
   "source": [
    "merge4[merge4.trip_id == test_trip3][preview_cols2]"
   ]
  },
  {
   "cell_type": "code",
   "execution_count": null,
   "id": "299ec1b3-8230-4bd4-867b-81c033dcb259",
   "metadata": {},
   "outputs": [],
   "source": [
    "count_all_pts_sjoin(stage3_df, gtfs_key3, test_trip3, shape_key3)"
   ]
  },
  {
   "cell_type": "code",
   "execution_count": null,
   "id": "3924b873-6ba0-4fe4-bd2f-9e18c64753d4",
   "metadata": {},
   "outputs": [],
   "source": [
    "# stage3_df[(stage3_df.shape_array_key == shape_key3) & (stage3_df.trip_id == test_trip3)].sort_values(by =sort_by)[preview_cols]"
   ]
  },
  {
   "cell_type": "code",
   "execution_count": null,
   "id": "91798284-13ab-459b-80b8-8d3b63053615",
   "metadata": {
    "scrolled": true,
    "tags": []
   },
   "outputs": [],
   "source": [
    "# speed_utils.original_df_rows(flagged, test_trip3, gtfs_key3)"
   ]
  },
  {
   "cell_type": "code",
   "execution_count": null,
   "id": "91d07c20-9d78-4eea-8b9c-293df8ade5a3",
   "metadata": {},
   "outputs": [],
   "source": [
    "speed_utils.stage2_trouble_shooting(flagged_df= stage3_df,\n",
    "                       date = analysis_date,\n",
    "                       route = shape_key3,\n",
    "                       trip = test_trip3,\n",
    "                       gtfs_key = gtfs_key3,)"
   ]
  },
  {
   "cell_type": "code",
   "execution_count": null,
   "id": "0ef5a418-34fb-4470-a576-71fc5281476b",
   "metadata": {
    "tags": []
   },
   "outputs": [],
   "source": [
    "# Trip from this route with the most ok rows\n",
    "#route_most_populated_df[route_most_populated_df.shape_array_key == test_route3]"
   ]
  },
  {
   "cell_type": "code",
   "execution_count": null,
   "id": "bf92c615-47ab-4bd5-8513-0a9d202bd542",
   "metadata": {},
   "outputs": [],
   "source": [
    "# Test the trip with the most ok rows\n",
    "#speed_utils.stage2_trouble_shooting(flagged_df= stage3_df,\n",
    "#                        date = analysis_date,\n",
    "#                        route = test_route3,\n",
    "#                        trip = \"16938341\",\n",
    " #                       gtfs_key = test_gtfs_key3,)"
   ]
  },
  {
   "cell_type": "code",
   "execution_count": null,
   "id": "c9561cd4-1b24-4415-ac6b-71adba8d0dfa",
   "metadata": {
    "scrolled": true,
    "tags": []
   },
   "outputs": [],
   "source": [
    "#speed_utils.original_df_rows(flagged, \"16938341\", test_route3)"
   ]
  },
  {
   "cell_type": "markdown",
   "id": "6697f82a-bcc3-447f-80ef-121923ba80c7",
   "metadata": {},
   "source": [
    "#### Example Trip 4\n",
    "* See which result is more accurate.\n",
    "* SEems like second one is more accurate"
   ]
  },
  {
   "cell_type": "code",
   "execution_count": null,
   "id": "1699cec4-7178-437b-87ce-3377417432fd",
   "metadata": {},
   "outputs": [],
   "source": [
    "gtfs_key4 = \"00e412908245377894949d292fb79610\"\n",
    "trip_id4= \"t_1524229_b_30719_tn_0\"\n",
    "shape_key4 = \"0d53f0e2ed64d9ce4e0c8e63aa102a41\""
   ]
  },
  {
   "cell_type": "code",
   "execution_count": null,
   "id": "83293979-994f-4ed6-9c65-6775518bc1da",
   "metadata": {},
   "outputs": [],
   "source": [
    "merge4[merge4.trip_id == trip_id4][preview_cols2]"
   ]
  },
  {
   "cell_type": "code",
   "execution_count": null,
   "id": "5473cbb4-5edc-42bb-8b6a-b3cd1b12e7e6",
   "metadata": {},
   "outputs": [],
   "source": [
    "count_all_pts_sjoin(stage3_df, gtfs_key4, trip_id4, shape_key4)"
   ]
  },
  {
   "cell_type": "code",
   "execution_count": null,
   "id": "38428c4d-5e53-4463-bad0-89aac3ba6b09",
   "metadata": {},
   "outputs": [],
   "source": [
    "82/84"
   ]
  },
  {
   "cell_type": "code",
   "execution_count": null,
   "id": "5a1120b6-2540-49fd-914d-8068bd4adacf",
   "metadata": {},
   "outputs": [],
   "source": [
    "speed_utils.original_df_rows(flagged, trip_id4, shape_key4)"
   ]
  },
  {
   "cell_type": "code",
   "execution_count": null,
   "id": "fb9e9c8e-b695-420c-9843-b88cf2ed08f4",
   "metadata": {},
   "outputs": [],
   "source": [
    "# Test the trip with the most ok rows\n",
    "speed_utils.stage2_trouble_shooting(flagged_df= stage3_df,\n",
    "                        date = analysis_date,\n",
    "                        route = shape_key4,\n",
    "                        trip = trip_id4,\n",
    "                        gtfs_key = gtfs_key4,)"
   ]
  },
  {
   "cell_type": "markdown",
   "id": "56f748db-7e61-407e-b635-a624229183de",
   "metadata": {},
   "source": [
    "#### Example Trip 5\n",
    "* Checking out the difference\n",
    "* Segments are not all captured."
   ]
  },
  {
   "cell_type": "code",
   "execution_count": null,
   "id": "ac2c0b62-d950-407f-a621-64f237e47b81",
   "metadata": {},
   "outputs": [],
   "source": [
    "merge4[merge4.trip_id == \"1093295\"][preview_cols2]"
   ]
  },
  {
   "cell_type": "code",
   "execution_count": null,
   "id": "21993e4b-9459-41f4-8085-98f8667950bd",
   "metadata": {},
   "outputs": [],
   "source": [
    "route5 = \"df6aff9f6c51360bdf4819865e53681d\"\n",
    "operator5 = \"0af37e731f00a843fb9a0fe286f8d958\"\n",
    "trip5 = \"1093295\""
   ]
  },
  {
   "cell_type": "code",
   "execution_count": null,
   "id": "fd209cc5-e919-4307-9c2c-6215298341ce",
   "metadata": {},
   "outputs": [],
   "source": [
    "count_all_pts_sjoin(stage3_df, operator5, trip5, route5)"
   ]
  },
  {
   "cell_type": "code",
   "execution_count": null,
   "id": "b07bb8f1-bf4a-47c9-91c9-a82dd40624c9",
   "metadata": {},
   "outputs": [],
   "source": [
    "149/252"
   ]
  },
  {
   "cell_type": "code",
   "execution_count": null,
   "id": "bcc98e8b-0f7d-4c73-921d-e535a512b80f",
   "metadata": {},
   "outputs": [],
   "source": [
    "# Test the trip with the most ok rows\n",
    "speed_utils.stage2_trouble_shooting(flagged_df= stage3_df,\n",
    "                        date = analysis_date,\n",
    "                        route = route5,\n",
    "                        trip = trip5,\n",
    "                        gtfs_key = operator5,)"
   ]
  },
  {
   "cell_type": "markdown",
   "id": "a3e0a83a-4f90-4908-90c3-79ee1eb5502b",
   "metadata": {},
   "source": [
    "#### Example Trip 6\n",
    "*  231% of positions retained, 104 vehicle positions in sjoin but 45 in original. \n",
    "* Also part of the segments is missing"
   ]
  },
  {
   "cell_type": "code",
   "execution_count": null,
   "id": "7df60b14-ea08-43eb-bd91-3df86502551b",
   "metadata": {},
   "outputs": [],
   "source": [
    "route6= \"ca68b32661ba4f531c66249bfe6a78e9\"\n",
    "operator6 = \"3b0ddd2a33e5998da450917623a5c545\"\n",
    "trip6 = \"t_5653186_b_30571_tn_1\""
   ]
  },
  {
   "cell_type": "code",
   "execution_count": null,
   "id": "22767e5f-9ff6-4bb7-b027-dd2b3e4b9b1c",
   "metadata": {},
   "outputs": [],
   "source": [
    "merge1[(merge1.trip_id == trip6)]"
   ]
  },
  {
   "cell_type": "code",
   "execution_count": null,
   "id": "9bfa5931-f577-475e-b1c0-61976e0b21ab",
   "metadata": {},
   "outputs": [],
   "source": [
    "count_all_pts_sjoin(stage3_df, operator6, trip6, route6)"
   ]
  },
  {
   "cell_type": "code",
   "execution_count": null,
   "id": "a589de79-71cf-4e78-88e2-428e735afede",
   "metadata": {},
   "outputs": [],
   "source": [
    "81/110"
   ]
  },
  {
   "cell_type": "code",
   "execution_count": null,
   "id": "e2c8141d-217e-4b2c-b3d6-41ef80631d36",
   "metadata": {},
   "outputs": [],
   "source": [
    "speed_utils.stage2_trouble_shooting(flagged_df= stage3_df,\n",
    "                        date = analysis_date,\n",
    "                        route = route6,\n",
    "                        trip = trip6,\n",
    "                        gtfs_key = operator6,)"
   ]
  },
  {
   "cell_type": "markdown",
   "id": "60536d88-6a6b-4a4c-8998-2fb1d974fb21",
   "metadata": {},
   "source": [
    "#### Example Trip 7"
   ]
  },
  {
   "cell_type": "code",
   "execution_count": null,
   "id": "30f751c1-aeb7-4dd0-974f-0d59347da304",
   "metadata": {},
   "outputs": [],
   "source": [
    "\n",
    "route7= \"377aa54acee92ffd7de6c9f15cb98f3f\"\n",
    "operator7 = \"1aec012cf85cb59b80880a01b2d1b1ef\"\n",
    "trip7 = \"3098\""
   ]
  },
  {
   "cell_type": "code",
   "execution_count": null,
   "id": "479087c6-a5cc-4aa6-bc0d-aa6ad98647a4",
   "metadata": {},
   "outputs": [],
   "source": [
    "merge1[(merge1.gtfs_dataset_key == \"1aec012cf85cb59b80880a01b2d1b1ef\") & (merge1.trip_id == \"3098\")]"
   ]
  },
  {
   "cell_type": "code",
   "execution_count": null,
   "id": "b65c9796-fa50-412f-81d3-4e1d6a35fc69",
   "metadata": {},
   "outputs": [],
   "source": [
    "count_all_pts_sjoin(stage3_df, operator7, trip7, route7)"
   ]
  },
  {
   "cell_type": "code",
   "execution_count": null,
   "id": "2cfe9e9d-f10c-42fa-87b7-2b0782b1e8bd",
   "metadata": {},
   "outputs": [],
   "source": [
    "67/70"
   ]
  },
  {
   "cell_type": "code",
   "execution_count": null,
   "id": "5746a951-d454-469f-bf06-1020214e54b2",
   "metadata": {},
   "outputs": [],
   "source": [
    "speed_utils.stage2_trouble_shooting(flagged_df= stage3_df,\n",
    "                        date = analysis_date,\n",
    "                        route = route7,\n",
    "                        trip = trip7,\n",
    "                        gtfs_key = operator7,)"
   ]
  },
  {
   "cell_type": "markdown",
   "id": "4526c987-ce6f-4a90-9d27-46bcdc5116ab",
   "metadata": {
    "tags": []
   },
   "source": [
    "### Fix 2 - Keep timestamps nearby if there aren't enough points"
   ]
  },
  {
   "cell_type": "code",
   "execution_count": null,
   "id": "d3938de8-7386-4689-b84c-44ebf816d746",
   "metadata": {},
   "outputs": [],
   "source": []
  },
  {
   "cell_type": "markdown",
   "id": "83de7b8d-60f9-4cf6-aa4b-00572c8ae860",
   "metadata": {
    "tags": []
   },
   "source": [
    "### Draft"
   ]
  },
  {
   "cell_type": "code",
   "execution_count": null,
   "id": "7a6cc43e-4598-4aef-9e0a-aa46b7e7a8fc",
   "metadata": {},
   "outputs": [],
   "source": [
    "stop running"
   ]
  },
  {
   "cell_type": "markdown",
   "id": "b8507169-2f04-49ce-86e2-364274ecdcfb",
   "metadata": {
    "tags": []
   },
   "source": [
    "#### Test 1\n",
    "* Breaking apart usable_vp to be similar in format as what I did with A2 Sjoin"
   ]
  },
  {
   "cell_type": "code",
   "execution_count": null,
   "id": "36d2e7b5-db1f-4e13-aa23-582c9913cccb",
   "metadata": {},
   "outputs": [],
   "source": [
    "test = parted_usable_vp.partitions[0]"
   ]
  },
  {
   "cell_type": "code",
   "execution_count": null,
   "id": "161775d4-849c-4ebc-a3ba-97f0e0162f49",
   "metadata": {},
   "outputs": [],
   "source": [
    "test1 = parted_usable_vp.partitions[1]"
   ]
  },
  {
   "cell_type": "code",
   "execution_count": null,
   "id": "04d7b5c8-651a-4ba2-bf78-544c623b3e56",
   "metadata": {},
   "outputs": [],
   "source": [
    "test = test.assign(\n",
    "    identifier = test.gtfs_dataset_key.astype(str) + '/' + test.trip_id.astype(str)\n",
    ")"
   ]
  },
  {
   "cell_type": "code",
   "execution_count": null,
   "id": "91fdc02e-7e23-48f6-9c0f-4917861de723",
   "metadata": {},
   "outputs": [],
   "source": [
    "# test = test.drop_duplicates(subset = ['vp_idx']) then do a count"
   ]
  },
  {
   "cell_type": "code",
   "execution_count": null,
   "id": "f2ec04cb-f478-4960-8421-34c3b766dad5",
   "metadata": {},
   "outputs": [],
   "source": [
    "# Using \n",
    "test = test.groupby(['identifier']).vp_idx.nunique()"
   ]
  },
  {
   "cell_type": "code",
   "execution_count": null,
   "id": "7c28d51c-6891-4468-be55-9e1c904029fb",
   "metadata": {},
   "outputs": [],
   "source": [
    "# Using \n",
    "test1 = test1.groupby(['gtfs_dataset_key','trip_id']).vp_idx.nunique()"
   ]
  },
  {
   "cell_type": "code",
   "execution_count": null,
   "id": "4325fb10-100e-4887-b146-019a21eda4c2",
   "metadata": {},
   "outputs": [],
   "source": [
    "test1 = test1.compute()"
   ]
  },
  {
   "cell_type": "code",
   "execution_count": null,
   "id": "18971d52-c295-44ea-9578-6c9ee23f1a45",
   "metadata": {},
   "outputs": [],
   "source": [
    "test1.head"
   ]
  },
  {
   "cell_type": "code",
   "execution_count": null,
   "id": "807d6fac-014d-4221-8950-a0574756e43b",
   "metadata": {},
   "outputs": [],
   "source": [
    "test1 = test1.reset_index()"
   ]
  },
  {
   "cell_type": "code",
   "execution_count": null,
   "id": "32a39786-eb68-4f7e-9a54-c9e6b15dcd27",
   "metadata": {},
   "outputs": [],
   "source": [
    "test1.vp_idx.describe()"
   ]
  },
  {
   "cell_type": "code",
   "execution_count": null,
   "id": "8bc120e1-7bec-423d-942f-1cc8f2ad8ff2",
   "metadata": {},
   "outputs": [],
   "source": [
    "test = test.compute()"
   ]
  },
  {
   "cell_type": "code",
   "execution_count": null,
   "id": "23b18361-9943-4544-abd1-542e3c6c0b85",
   "metadata": {},
   "outputs": [],
   "source": [
    "test.head()"
   ]
  },
  {
   "cell_type": "code",
   "execution_count": null,
   "id": "0c08e01e-aef1-4d55-96ce-7d2747476e47",
   "metadata": {},
   "outputs": [],
   "source": [
    "test = test.to_frame()"
   ]
  },
  {
   "cell_type": "code",
   "execution_count": null,
   "id": "5b3e6c9f-6cc4-47d8-86e3-a0a028172e58",
   "metadata": {},
   "outputs": [],
   "source": [
    "test = test.reset_index()"
   ]
  },
  {
   "cell_type": "code",
   "execution_count": null,
   "id": "4773cbf6-68e0-410a-8b38-8b7fd6c39803",
   "metadata": {
    "scrolled": true,
    "tags": []
   },
   "outputs": [],
   "source": [
    "test[\"gtfs_dataset_key\"] = test[\"identifier\"].str.split(\"/\").str[0]"
   ]
  },
  {
   "cell_type": "code",
   "execution_count": null,
   "id": "8868e5d0-ba5e-41a1-8b6d-d41077fa5ac0",
   "metadata": {},
   "outputs": [],
   "source": [
    "test[\"trip_id\"] = test[\"identifier\"].str.split(\"/\").str[1]"
   ]
  },
  {
   "cell_type": "code",
   "execution_count": null,
   "id": "5e2df493-887e-4d96-b936-a40be3ca8f6d",
   "metadata": {},
   "outputs": [],
   "source": [
    "test.head()"
   ]
  },
  {
   "cell_type": "code",
   "execution_count": null,
   "id": "79f785f5-2e06-4fb5-9c15-219a067ee797",
   "metadata": {},
   "outputs": [],
   "source": [
    "test.vp_idx.describe()"
   ]
  },
  {
   "cell_type": "markdown",
   "id": "df6004c3-2190-4f50-85b2-52a07fe04f30",
   "metadata": {
    "tags": []
   },
   "source": [
    "### A2 Sjoin\n",
    "* Valid trips that are `sjoin` to segments."
   ]
  },
  {
   "cell_type": "code",
   "execution_count": null,
   "id": "4cfafe44-5856-4311-82d3-052d569e4e97",
   "metadata": {},
   "outputs": [],
   "source": [
    "USABLE_VP = STOP_SEG_DICT[\"stage1\"]\n",
    "INPUT_FILE_PREFIX = STOP_SEG_DICT[\"stage2\"]\n",
    "GROUPING_COL = STOP_SEG_DICT[\"grouping_col\"]"
   ]
  },
  {
   "cell_type": "code",
   "execution_count": null,
   "id": "a737616c-9443-40d4-afce-2fb059b75629",
   "metadata": {},
   "outputs": [],
   "source": [
    "normal_shapes = A2_valid_vehicle_positions.identify_stop_segment_cases(\n",
    "        analysis_date, GROUPING_COL, 0)"
   ]
  },
  {
   "cell_type": "code",
   "execution_count": null,
   "id": "43f0953b-dfa2-4115-8dff-04ce883ad9a1",
   "metadata": {},
   "outputs": [],
   "source": [
    "abnormal_shapes = A2_valid_vehicle_positions.identify_stop_segment_cases(\n",
    "        analysis_date, GROUPING_COL, 1)"
   ]
  },
  {
   "cell_type": "code",
   "execution_count": null,
   "id": "01c079d2-4559-40d4-885d-3c1c582dceee",
   "metadata": {},
   "outputs": [],
   "source": [
    "# datetime.datetime.now() "
   ]
  },
  {
   "cell_type": "code",
   "execution_count": null,
   "id": "c3be391e-6e23-4988-a94c-a217aa8f469c",
   "metadata": {},
   "outputs": [],
   "source": [
    "# Using A2 since I need the VPs to sjoin\n",
    "# Only the pared down stops are saved out\n",
    "# This takes a super long time\n",
    "\"\"\"\n",
    "usable_abnormal_vp = A2_valid_vehicle_positions.merge_usable_vp_with_sjoin_vpidx(\n",
    "        abnormal_shapes,\n",
    "        f\"{USABLE_VP}_{analysis_date}\",\n",
    "        f\"{INPUT_FILE_PREFIX}_{analysis_date}\",\n",
    "        GROUPING_COL\n",
    "    )\n",
    "\n",
    " \"\"\"   "
   ]
  },
  {
   "cell_type": "code",
   "execution_count": null,
   "id": "46b645ab-8974-47f5-bb7e-a62f96720924",
   "metadata": {},
   "outputs": [],
   "source": [
    "#usable_abnormal_vp = usable_abnormal_vp.assign(\n",
    "#    identifier = usable_abnormal_vp.gtfs_dataset_key.astype(str) + '/' + usable_abnormal_vp.shape_array_key.astype(str) + '/' + usable_abnormal_vp.trip_id.astype(str)\n",
    "#)"
   ]
  },
  {
   "cell_type": "code",
   "execution_count": null,
   "id": "2245e4f1-6df5-4f43-80fd-3bafb8f6e990",
   "metadata": {},
   "outputs": [],
   "source": [
    "#datetime.datetime.now() "
   ]
  },
  {
   "cell_type": "code",
   "execution_count": null,
   "id": "417c3069-c104-4614-abfc-13a3fd941dd1",
   "metadata": {},
   "outputs": [],
   "source": [
    "#agg = usable_abnormal_vp.groupby(['identifier']).vp_idx.nunique()"
   ]
  },
  {
   "cell_type": "code",
   "execution_count": null,
   "id": "8e926640-d0de-47db-92a5-45be1d0579c9",
   "metadata": {},
   "outputs": [],
   "source": [
    "# agg = agg.compute()"
   ]
  },
  {
   "cell_type": "code",
   "execution_count": null,
   "id": "d0ab6038-bf0b-42e4-ad3d-7fa03ded9573",
   "metadata": {},
   "outputs": [],
   "source": [
    "#agg2 = agg.to_frame()"
   ]
  },
  {
   "cell_type": "code",
   "execution_count": null,
   "id": "0d4ac9bb-bdf5-4a56-ad9d-74726171a2fd",
   "metadata": {},
   "outputs": [],
   "source": [
    "#agg3 = agg2.reset_index()"
   ]
  },
  {
   "cell_type": "code",
   "execution_count": null,
   "id": "c347b0d4-f55b-4f8b-8a5b-f2cf1dcd2612",
   "metadata": {},
   "outputs": [],
   "source": [
    "#agg3.shape"
   ]
  },
  {
   "cell_type": "code",
   "execution_count": null,
   "id": "72411c89-3317-4bf5-9c6b-3782880073b4",
   "metadata": {},
   "outputs": [],
   "source": [
    "#agg3.sample()"
   ]
  },
  {
   "cell_type": "code",
   "execution_count": null,
   "id": "5be6cad0-97ae-4721-8e68-e8f3f28b23d0",
   "metadata": {},
   "outputs": [],
   "source": [
    "#agg3[\"gtfs_dataset_key\"] = agg3[\"index\"].str.split(\"/\").str[0]"
   ]
  },
  {
   "cell_type": "code",
   "execution_count": null,
   "id": "be2986ff-2ec9-42c9-b18b-d9d8971c91df",
   "metadata": {},
   "outputs": [],
   "source": [
    "#agg3[\"trip_id\"] = agg3[\"index\"].str.split(\"/\").str[2]"
   ]
  },
  {
   "cell_type": "code",
   "execution_count": null,
   "id": "1c557e52-a980-4e49-a325-75d5454deea9",
   "metadata": {},
   "outputs": [],
   "source": [
    "#agg3 = agg3.drop(columns = ['index'])"
   ]
  },
  {
   "cell_type": "code",
   "execution_count": null,
   "id": "2ce8f0e4-ada5-44c7-a585-3331e16de0b7",
   "metadata": {},
   "outputs": [],
   "source": [
    "#agg3 = agg3.rename(columns = {'vp_idx':'number_of_unique_vps_sjoin'})"
   ]
  },
  {
   "cell_type": "code",
   "execution_count": null,
   "id": "79052ef0-6270-4842-9839-50e24a9b4caa",
   "metadata": {},
   "outputs": [],
   "source": [
    "#agg3.to_parquet(\n",
    "#    f\"{SEGMENT_GCS}special_vps_testing.parquet\"\n",
    "#)"
   ]
  },
  {
   "cell_type": "code",
   "execution_count": null,
   "id": "3014229f-756f-4f5e-9b28-bea866d8a143",
   "metadata": {},
   "outputs": [],
   "source": [
    "#agg3 = pd.read_parquet(f\"{SEGMENT_GCS}normalvps_testing.parquet\")"
   ]
  },
  {
   "cell_type": "code",
   "execution_count": null,
   "id": "3c0a0652-8b56-4162-bb51-900c14072c5f",
   "metadata": {},
   "outputs": [],
   "source": [
    "normal = pd.read_parquet(f\"{SEGMENT_GCS}normal_vps_testing.parquet\")"
   ]
  },
  {
   "cell_type": "code",
   "execution_count": null,
   "id": "ff9723f1-32aa-4506-b924-d4c9cc22c89b",
   "metadata": {},
   "outputs": [],
   "source": [
    "normal = normal.drop(columns = ['identifier'])"
   ]
  },
  {
   "cell_type": "code",
   "execution_count": null,
   "id": "3e258fac-e825-42ba-b4a7-3210f0e3abde",
   "metadata": {},
   "outputs": [],
   "source": [
    "special = pd.read_parquet(f\"{SEGMENT_GCS}special_vps_testing.parquet\")"
   ]
  },
  {
   "cell_type": "code",
   "execution_count": null,
   "id": "aa02c1c1-c36c-4e88-9256-c52bdddb0691",
   "metadata": {},
   "outputs": [],
   "source": [
    "sjoin_results = pd.concat([special, normal])"
   ]
  },
  {
   "cell_type": "code",
   "execution_count": null,
   "id": "2fecf390-0960-4d51-a473-b51c4f35043c",
   "metadata": {},
   "outputs": [],
   "source": [
    "sjoin_results.sample()"
   ]
  },
  {
   "cell_type": "code",
   "execution_count": null,
   "id": "55a3a78f-4f39-4b54-8215-26847352cae2",
   "metadata": {},
   "outputs": [],
   "source": [
    "stop running"
   ]
  },
  {
   "cell_type": "code",
   "execution_count": null,
   "id": "94cc3765-65fd-4c0e-b541-3328eb7f6cc4",
   "metadata": {},
   "outputs": [],
   "source": [
    "# VP all without paring\n",
    "STG_0_FILE = STOP_SEG_DICT['stage0']\n",
    "    "
   ]
  },
  {
   "cell_type": "code",
   "execution_count": null,
   "id": "f126d889-20be-403a-bc5d-63af169afd96",
   "metadata": {},
   "outputs": [],
   "source": [
    "f\"{STG_0_FILE}_{analysis_date}/\""
   ]
  },
  {
   "cell_type": "code",
   "execution_count": null,
   "id": "e35c9f86-a7d7-474d-88a3-5757ce458925",
   "metadata": {},
   "outputs": [],
   "source": [
    "all_pts = helpers.import_vehicle_positions(\n",
    "            SEGMENT_GCS,\n",
    "            f\"{STG_0_FILE}_{analysis_date}/\",\n",
    "            \"df\",\n",
    "            columns = [\"gtfs_dataset_key\", \"trip_id\",\"geometry\"],\n",
    "            partitioned = False\n",
    "        )\n",
    "all_pts = all_pts.compute()"
   ]
  },
  {
   "cell_type": "code",
   "execution_count": null,
   "id": "ad87abe6-deab-411a-b27f-27f90f657d07",
   "metadata": {},
   "outputs": [],
   "source": [
    "all_pts.sample(5)"
   ]
  },
  {
   "cell_type": "code",
   "execution_count": null,
   "id": "a617736e-780e-47d6-8f0e-9436d3aaddb7",
   "metadata": {},
   "outputs": [],
   "source": [
    "all_pts2 = (all_pts\n",
    "        .groupby(['gtfs_dataset_key','trip_id'])\n",
    "        .agg({'geometry':'nunique'}).reset_index()\n",
    "        .rename(columns = {'geometry':'number_of_unique_vps_all_pts'})\n",
    "        .reset_index(drop = True)\n",
    "       )"
   ]
  },
  {
   "cell_type": "code",
   "execution_count": null,
   "id": "a86e4864-92d5-4cd4-bfdf-7f4da6511083",
   "metadata": {
    "tags": []
   },
   "outputs": [],
   "source": [
    "len(all_pts[(all_pts.gtfs_dataset_key == \"cdd2ad81863b6d4ad51676a1cb781ea8\") & (all_pts.trip_id == \"10686020\")])"
   ]
  },
  {
   "cell_type": "code",
   "execution_count": null,
   "id": "79157471-20dd-431b-a2b7-56f6f505b535",
   "metadata": {},
   "outputs": [],
   "source": [
    "all_pts2[(all_pts2.gtfs_dataset_key == \"cdd2ad81863b6d4ad51676a1cb781ea8\") & (all_pts2.trip_id == \"10686020\")]"
   ]
  },
  {
   "cell_type": "code",
   "execution_count": null,
   "id": "81b17588-37ee-4194-86f3-c208995ccb00",
   "metadata": {},
   "outputs": [],
   "source": [
    "all_pts2[(all_pts2.gtfs_dataset_key == \"593953c37ce48a9449bb90808ba0c1e1\") & (all_pts2.trip_id == \"t5FE-b3EA-sl13\")]"
   ]
  },
  {
   "cell_type": "code",
   "execution_count": null,
   "id": "d5459274-4c39-4b37-aecc-c5443a21974c",
   "metadata": {},
   "outputs": [],
   "source": [
    "all_pts2[(all_pts2.gtfs_dataset_key == \"65d9589130415c685b89f4f7c2d8bd7e\") & (all_pts2.trip_id == \"10035002751332-DEC22\")]"
   ]
  },
  {
   "cell_type": "code",
   "execution_count": null,
   "id": "9beedeac-8ebc-4ce7-ac18-01f0565dc2ef",
   "metadata": {},
   "outputs": [],
   "source": [
    "# How did this pop up in the grouped df if it doesn't even exist??\n",
    "all_pts[(all_pts.gtfs_dataset_key == \"00accf770009aafd5dc103ff2eeddb37\") & (all_pts.trip_id == \"-1160024104\")]"
   ]
  },
  {
   "cell_type": "code",
   "execution_count": null,
   "id": "0d91a933-c8b9-486f-9797-45e927fe2f02",
   "metadata": {},
   "outputs": [],
   "source": [
    "all_pts3 = all_pts.drop(columns = ['geometry']).drop_duplicates().reset_index(drop = True)"
   ]
  },
  {
   "cell_type": "code",
   "execution_count": null,
   "id": "d5219bc6-d659-47e9-af93-fb87fc1cb810",
   "metadata": {},
   "outputs": [],
   "source": [
    "len(all_pts3)"
   ]
  },
  {
   "cell_type": "code",
   "execution_count": null,
   "id": "8ef005ed-8e22-4812-b1c9-aba864dc6b42",
   "metadata": {},
   "outputs": [],
   "source": [
    "all_pts2.shape"
   ]
  },
  {
   "cell_type": "code",
   "execution_count": null,
   "id": "9b846c50-2c15-490a-a871-69b787970c9e",
   "metadata": {},
   "outputs": [],
   "source": [
    "len(all_pts)"
   ]
  },
  {
   "cell_type": "markdown",
   "id": "75ebbba3-ed5e-4aae-86a0-ae23efb4f0af",
   "metadata": {},
   "source": [
    "##### Merge Sjoin with All Vehicles"
   ]
  },
  {
   "cell_type": "code",
   "execution_count": null,
   "id": "4dc64cd8-4b0f-46e7-bbc2-e8241820de48",
   "metadata": {},
   "outputs": [],
   "source": [
    "# Merge to get rid of weird rows??\n",
    "# These are all points \n",
    "pd.merge(all_pts3, all_pts2, on = ['gtfs_dataset_key','trip_id'], how = 'outer', indicator = True)[['_merge']].value_counts()"
   ]
  },
  {
   "cell_type": "code",
   "execution_count": null,
   "id": "ff9ab50e-844b-4e08-a95c-0a1e29402603",
   "metadata": {},
   "outputs": [],
   "source": [
    "merge1 = pd.merge(all_pts3, all_pts2, on = ['gtfs_dataset_key','trip_id'], how = 'inner')"
   ]
  },
  {
   "cell_type": "code",
   "execution_count": null,
   "id": "a439c9f6-161e-43d6-aa43-17a6a8d2684b",
   "metadata": {},
   "outputs": [],
   "source": [
    "merge1.sample()"
   ]
  },
  {
   "cell_type": "code",
   "execution_count": null,
   "id": "e4d6ccc4-5ebe-4ff5-a2d4-39839eb42069",
   "metadata": {},
   "outputs": [],
   "source": [
    "merge1.shape"
   ]
  },
  {
   "cell_type": "code",
   "execution_count": null,
   "id": "e4e2f4bb-9b92-4841-a579-7105657f3d47",
   "metadata": {},
   "outputs": [],
   "source": [
    "# These are sjoin positions\n",
    "agg3.sample()"
   ]
  },
  {
   "cell_type": "code",
   "execution_count": null,
   "id": "8b8a0f3e-2e9a-4636-a68c-cad12296c3eb",
   "metadata": {},
   "outputs": [],
   "source": [
    "agg3.shape"
   ]
  },
  {
   "cell_type": "code",
   "execution_count": null,
   "id": "e263fa67-f7d7-4289-89a2-2d07c56733f7",
   "metadata": {},
   "outputs": [],
   "source": [
    "pd.merge(merge1, agg3, on = ['gtfs_dataset_key','trip_id'], how = 'outer', indicator = True)[['_merge']].value_counts()"
   ]
  },
  {
   "cell_type": "code",
   "execution_count": null,
   "id": "22bcd878-3b10-4591-bc77-94d06073af2e",
   "metadata": {},
   "outputs": [],
   "source": [
    "merge2 = pd.merge(merge1, agg3, on = ['gtfs_dataset_key','trip_id'], how = 'inner')"
   ]
  },
  {
   "cell_type": "code",
   "execution_count": null,
   "id": "60ba9b28-a9bc-4ab8-a830-f09a4b4b6ea1",
   "metadata": {},
   "outputs": [],
   "source": [
    "merge2.sample(5)"
   ]
  },
  {
   "cell_type": "markdown",
   "id": "a4881061-ff1e-4981-9174-3810137ca0b4",
   "metadata": {
    "tags": []
   },
   "source": [
    "#### Merge test1 with A2sjoin results"
   ]
  },
  {
   "cell_type": "code",
   "execution_count": null,
   "id": "1a1bc575-75d1-46f0-9ceb-ae6c7e698ac3",
   "metadata": {},
   "outputs": [],
   "source": [
    "len(sjoin_results)"
   ]
  },
  {
   "cell_type": "code",
   "execution_count": null,
   "id": "ec3151a3-7892-4c64-82e6-b6bee08e2d1b",
   "metadata": {},
   "outputs": [],
   "source": [
    "sjoin_results.gtfs_dataset_key.nunique(),sjoin_results.trip_id.nunique()"
   ]
  },
  {
   "cell_type": "code",
   "execution_count": null,
   "id": "fac519fc-4dda-426a-af86-d75cef66a333",
   "metadata": {},
   "outputs": [],
   "source": [
    "test.gtfs_dataset_key.nunique(),test.trip_id.nunique()"
   ]
  },
  {
   "cell_type": "code",
   "execution_count": null,
   "id": "abdb4e9e-e39e-4f53-9e04-bae02d9ba977",
   "metadata": {},
   "outputs": [],
   "source": [
    "test.sample()"
   ]
  },
  {
   "cell_type": "code",
   "execution_count": null,
   "id": "548419c1-4a2c-4aa0-aaab-a966141fe5fe",
   "metadata": {},
   "outputs": [],
   "source": [
    "sjoin_results.sample()"
   ]
  },
  {
   "cell_type": "code",
   "execution_count": null,
   "id": "6ad4f412-7859-4fb0-a946-dcd995f5b669",
   "metadata": {},
   "outputs": [],
   "source": [
    "# How is it possible there are some that are right_only?\n",
    "# Lots of left only results b/c this is the full df. \n",
    "# test is just a subset\n",
    "pd.merge(sjoin_results, test, on = ['gtfs_dataset_key','trip_id'], how = 'outer', indicator = True)[['_merge']].value_counts()"
   ]
  },
  {
   "cell_type": "code",
   "execution_count": null,
   "id": "4c25d405-62ab-46c6-8768-592aff6649bc",
   "metadata": {},
   "outputs": [],
   "source": [
    "# Should be inner\n",
    "merge1 =  pd.merge(test, sjoin_results,  on = ['gtfs_dataset_key','trip_id'], how = 'left')"
   ]
  },
  {
   "cell_type": "code",
   "execution_count": null,
   "id": "6df44195-53f4-474c-9151-e2efc34aa77d",
   "metadata": {},
   "outputs": [],
   "source": [
    "merge1.sample()"
   ]
  },
  {
   "cell_type": "code",
   "execution_count": null,
   "id": "187b701b-cd1b-4bcf-8129-9a752032f8ee",
   "metadata": {},
   "outputs": [],
   "source": [
    "len(merge1)"
   ]
  },
  {
   "cell_type": "code",
   "execution_count": null,
   "id": "4c6af39a-4f73-48c7-8192-1a87de39da54",
   "metadata": {},
   "outputs": [],
   "source": [
    "merge1['percent_of_positions_retained'] = merge1.number_of_unique_vps_sjoin/merge1.vp_idx * 100"
   ]
  },
  {
   "cell_type": "code",
   "execution_count": null,
   "id": "b7216c1a-c0ed-496a-bc50-8f5e75705a7a",
   "metadata": {},
   "outputs": [],
   "source": [
    "merge1.percent_of_positions_retained.describe()"
   ]
  },
  {
   "cell_type": "code",
   "execution_count": null,
   "id": "9d793c89-ca02-4957-b5cd-af3d755bc843",
   "metadata": {},
   "outputs": [],
   "source": [
    "merge1 = merge1.fillna(0)"
   ]
  },
  {
   "cell_type": "markdown",
   "id": "ee245732-2038-4048-b199-5f882b7bb625",
   "metadata": {},
   "source": [
    "##### Why are 94 of the rows over 100??\n",
    "* Same point can joined to the segment. \n",
    "* Use nunique"
   ]
  },
  {
   "cell_type": "code",
   "execution_count": null,
   "id": "3fe9ee1c-8f65-4490-b14f-bdf4a8cc3425",
   "metadata": {},
   "outputs": [],
   "source": [
    "merge1.sample(5)"
   ]
  },
  {
   "cell_type": "code",
   "execution_count": null,
   "id": "007f62e8-07fd-488f-aae4-88f721a3938b",
   "metadata": {},
   "outputs": [],
   "source": [
    "len(merge1[merge1.percent_of_positions_retained > 100])"
   ]
  },
  {
   "cell_type": "code",
   "execution_count": null,
   "id": "d7589c52-1e16-4adb-b921-c985649cb137",
   "metadata": {},
   "outputs": [],
   "source": [
    "len(merge1[merge1.percent_of_positions_retained == 100])"
   ]
  },
  {
   "cell_type": "code",
   "execution_count": null,
   "id": "ed221aab-1286-4666-a933-0f5659373d47",
   "metadata": {
    "scrolled": true,
    "tags": []
   },
   "outputs": [],
   "source": [
    "merge1[merge1.percent_of_positions_retained > 100].sample(5)"
   ]
  },
  {
   "cell_type": "markdown",
   "id": "0b211042-513c-4ef1-a1d7-2bc62aaf7c66",
   "metadata": {
    "tags": []
   },
   "source": [
    "#### Compare results"
   ]
  },
  {
   "cell_type": "code",
   "execution_count": null,
   "id": "f6bc8923-a16a-4deb-a582-e02b3d3e0bc5",
   "metadata": {},
   "outputs": [],
   "source": [
    "agg2.sample()"
   ]
  },
  {
   "cell_type": "code",
   "execution_count": null,
   "id": "03595460-96e6-4b28-a1ec-97a589d17198",
   "metadata": {},
   "outputs": [],
   "source": [
    "merge1.sample()"
   ]
  },
  {
   "cell_type": "code",
   "execution_count": null,
   "id": "b1ab2e84-358c-4313-a0c4-3a702241afb0",
   "metadata": {},
   "outputs": [],
   "source": [
    "pd.merge(agg2, merge1, on = ['gtfs_dataset_key','trip_id'], how = 'outer', indicator = True)[['_merge']].value_counts()"
   ]
  },
  {
   "cell_type": "code",
   "execution_count": null,
   "id": "31198a64-dd96-41ef-a3c9-e4dbc695e6de",
   "metadata": {},
   "outputs": [],
   "source": [
    "merge4 = pd.merge(agg2, merge1, on = ['gtfs_dataset_key','trip_id'], how = 'inner')"
   ]
  },
  {
   "cell_type": "code",
   "execution_count": null,
   "id": "bb0e7900-2dab-458d-bd30-2471d0d66985",
   "metadata": {},
   "outputs": [],
   "source": [
    "len(merge4)"
   ]
  },
  {
   "cell_type": "code",
   "execution_count": null,
   "id": "5a640856-27cd-4302-a3fd-3aa0ec1e9582",
   "metadata": {},
   "outputs": [],
   "source": [
    "merge4.sample()"
   ]
  },
  {
   "cell_type": "code",
   "execution_count": null,
   "id": "d5d1d00f-1230-4304-bddb-6c6d5b94a79e",
   "metadata": {},
   "outputs": [],
   "source": [
    "merge4['difference'] = (merge4.percent_of_pts - merge4.percent_of_positions_retained)"
   ]
  },
  {
   "cell_type": "code",
   "execution_count": null,
   "id": "c384b1a8-71a3-4932-baa7-6e92dd953497",
   "metadata": {},
   "outputs": [],
   "source": [
    "merge4.difference.describe()"
   ]
  },
  {
   "cell_type": "code",
   "execution_count": null,
   "id": "3b8d2221-e118-4539-b7d1-5e40abd48443",
   "metadata": {},
   "outputs": [],
   "source": [
    "merge4.percent_of_positions_retained.describe()"
   ]
  },
  {
   "cell_type": "code",
   "execution_count": null,
   "id": "043964a6-6f35-4a98-8c4e-7346f5f72c23",
   "metadata": {},
   "outputs": [],
   "source": [
    "preview_cols2 = ['shape_array_key','gtfs_dataset_key', 'trip_id', 'pts_not_in_sjoin', 'sjoin_pts', 'all_pts',\n",
    "        'percent_of_pts', 'vp_idx', 'number_of_unique_vps_sjoin', 'percent_of_positions_retained', 'difference']"
   ]
  },
  {
   "cell_type": "code",
   "execution_count": null,
   "id": "e689dd02-dae7-4362-9127-7e098e60f2a6",
   "metadata": {},
   "outputs": [],
   "source": [
    "crosswalk.sample()"
   ]
  },
  {
   "cell_type": "code",
   "execution_count": null,
   "id": "334c54ff-6bd6-4aff-9782-7a469286535a",
   "metadata": {},
   "outputs": [],
   "source": [
    "merge4.sample()"
   ]
  },
  {
   "cell_type": "code",
   "execution_count": null,
   "id": "70f7ded2-13f7-4b3f-9ad4-2b5b7b91b7c7",
   "metadata": {},
   "outputs": [],
   "source": [
    "pd.merge(merge4, crosswalk, on =['gtfs_dataset_key','trip_id'], how = 'outer', indicator = True)[['_merge']].value_counts()"
   ]
  },
  {
   "cell_type": "code",
   "execution_count": null,
   "id": "f21b70b7-52bf-49a7-a1a8-0b61eeddc1b3",
   "metadata": {},
   "outputs": [],
   "source": [
    "merge4 = pd.merge(merge4, crosswalk, on =['gtfs_dataset_key','trip_id'], how = 'left')"
   ]
  }
 ],
 "metadata": {
  "kernelspec": {
   "display_name": "Python 3 (ipykernel)",
   "language": "python",
   "name": "python3"
  },
  "language_info": {
   "codemirror_mode": {
    "name": "ipython",
    "version": 3
   },
   "file_extension": ".py",
   "mimetype": "text/x-python",
   "name": "python",
   "nbconvert_exporter": "python",
   "pygments_lexer": "ipython3",
   "version": "3.9.13"
  }
 },
 "nbformat": 4,
 "nbformat_minor": 5
}
