{
 "cells": [
  {
   "cell_type": "markdown",
   "id": "7080c090-6562-46b2-81d7-334ba6d30460",
   "metadata": {},
   "source": [
    "# Multiple stops in a route segment\n",
    "\n",
    "* How should we handle it?\n",
    "* Do we have any stop-level metrics where we'd want to aggregate it?\n",
    "* If we had road segments, we would be aggregating stop-level metrics across multiple operators. Let's test that now"
   ]
  },
  {
   "cell_type": "code",
   "execution_count": 1,
   "id": "ad3afcda-6b5f-49eb-8127-a73343f14f3a",
   "metadata": {},
   "outputs": [
    {
     "name": "stderr",
     "output_type": "stream",
     "text": [
      "/opt/conda/lib/python3.9/site-packages/geopandas/_compat.py:123: UserWarning: The Shapely GEOS version (3.10.3-CAPI-1.16.1) is incompatible with the GEOS version PyGEOS was compiled with (3.10.1-CAPI-1.16.0). Conversions between both will be slow.\n",
      "  warnings.warn(\n"
     ]
    }
   ],
   "source": [
    "import dask.dataframe as dd\n",
    "import dask_geopandas as dg\n",
    "import geopandas as gpd\n",
    "import intake\n",
    "import pandas as pd\n",
    "\n",
    "from segment_speed_utils import (gtfs_schedule_wrangling, helpers, \n",
    "                                 sched_rt_utils)\n",
    "from segment_speed_utils.project_vars import SEGMENT_GCS, analysis_date\n",
    "\n",
    "catalog = intake.open_catalog(\"*.yml\")"
   ]
  },
  {
   "cell_type": "code",
   "execution_count": 2,
   "id": "f765591b-bec4-45d3-9ef2-2a104097827c",
   "metadata": {},
   "outputs": [],
   "source": [
    "route_segments = catalog.route_segments(analysis_date = analysis_date).read()"
   ]
  },
  {
   "cell_type": "code",
   "execution_count": 3,
   "id": "ae7a8535-4e53-4885-bae7-6f371e62debf",
   "metadata": {},
   "outputs": [
    {
     "data": {
      "text/html": [
       "<div>\n",
       "<style scoped>\n",
       "    .dataframe tbody tr th:only-of-type {\n",
       "        vertical-align: middle;\n",
       "    }\n",
       "\n",
       "    .dataframe tbody tr th {\n",
       "        vertical-align: top;\n",
       "    }\n",
       "\n",
       "    .dataframe thead th {\n",
       "        text-align: right;\n",
       "    }\n",
       "</style>\n",
       "<table border=\"1\" class=\"dataframe\">\n",
       "  <thead>\n",
       "    <tr style=\"text-align: right;\">\n",
       "      <th></th>\n",
       "      <th>geometry</th>\n",
       "      <th>feed_key</th>\n",
       "      <th>name</th>\n",
       "      <th>route_id</th>\n",
       "      <th>direction_id</th>\n",
       "      <th>longest_shape_id</th>\n",
       "      <th>route_dir_identifier</th>\n",
       "      <th>segment_sequence</th>\n",
       "      <th>gtfs_dataset_key</th>\n",
       "      <th>geometry_arrowized</th>\n",
       "    </tr>\n",
       "  </thead>\n",
       "  <tbody>\n",
       "    <tr>\n",
       "      <th>0</th>\n",
       "      <td>LINESTRING (-110114.012 74427.063, -110114.176...</td>\n",
       "      <td>008d5112a7e531d0562d26e34d77869d</td>\n",
       "      <td>Sacramento Schedule</td>\n",
       "      <td>001</td>\n",
       "      <td>0.0</td>\n",
       "      <td>45169</td>\n",
       "      <td>901211056</td>\n",
       "      <td>0</td>\n",
       "      <td>927430a256c4d23e37cf417362df9e7f</td>\n",
       "      <td>POLYGON ((-110092.479 74347.387, -110092.539 7...</td>\n",
       "    </tr>\n",
       "    <tr>\n",
       "      <th>1</th>\n",
       "      <td>LINESTRING (-111032.269 74341.302, -111064.225...</td>\n",
       "      <td>008d5112a7e531d0562d26e34d77869d</td>\n",
       "      <td>Sacramento Schedule</td>\n",
       "      <td>001</td>\n",
       "      <td>0.0</td>\n",
       "      <td>45169</td>\n",
       "      <td>901211056</td>\n",
       "      <td>1</td>\n",
       "      <td>927430a256c4d23e37cf417362df9e7f</td>\n",
       "      <td>POLYGON ((-112031.987 74325.091, -112033.947 7...</td>\n",
       "    </tr>\n",
       "    <tr>\n",
       "      <th>2</th>\n",
       "      <td>LINESTRING (-112031.911 74345.090, -112032.352...</td>\n",
       "      <td>008d5112a7e531d0562d26e34d77869d</td>\n",
       "      <td>Sacramento Schedule</td>\n",
       "      <td>001</td>\n",
       "      <td>0.0</td>\n",
       "      <td>45169</td>\n",
       "      <td>901211056</td>\n",
       "      <td>2</td>\n",
       "      <td>927430a256c4d23e37cf417362df9e7f</td>\n",
       "      <td>POLYGON ((-112315.038 74335.610, -113031.548 7...</td>\n",
       "    </tr>\n",
       "    <tr>\n",
       "      <th>3</th>\n",
       "      <td>LINESTRING (-113031.553 74355.410, -113049.934...</td>\n",
       "      <td>008d5112a7e531d0562d26e34d77869d</td>\n",
       "      <td>Sacramento Schedule</td>\n",
       "      <td>001</td>\n",
       "      <td>0.0</td>\n",
       "      <td>45169</td>\n",
       "      <td>901211056</td>\n",
       "      <td>3</td>\n",
       "      <td>927430a256c4d23e37cf417362df9e7f</td>\n",
       "      <td>POLYGON ((-114031.549 74339.090, -114033.509 7...</td>\n",
       "    </tr>\n",
       "    <tr>\n",
       "      <th>4</th>\n",
       "      <td>LINESTRING (-114031.475 74359.090, -114100.641...</td>\n",
       "      <td>008d5112a7e531d0562d26e34d77869d</td>\n",
       "      <td>Sacramento Schedule</td>\n",
       "      <td>001</td>\n",
       "      <td>0.0</td>\n",
       "      <td>45169</td>\n",
       "      <td>901211056</td>\n",
       "      <td>4</td>\n",
       "      <td>927430a256c4d23e37cf417362df9e7f</td>\n",
       "      <td>POLYGON ((-114627.487 74347.454, -114629.315 7...</td>\n",
       "    </tr>\n",
       "  </tbody>\n",
       "</table>\n",
       "</div>"
      ],
      "text/plain": [
       "                                            geometry  \\\n",
       "0  LINESTRING (-110114.012 74427.063, -110114.176...   \n",
       "1  LINESTRING (-111032.269 74341.302, -111064.225...   \n",
       "2  LINESTRING (-112031.911 74345.090, -112032.352...   \n",
       "3  LINESTRING (-113031.553 74355.410, -113049.934...   \n",
       "4  LINESTRING (-114031.475 74359.090, -114100.641...   \n",
       "\n",
       "                           feed_key                 name route_id  \\\n",
       "0  008d5112a7e531d0562d26e34d77869d  Sacramento Schedule      001   \n",
       "1  008d5112a7e531d0562d26e34d77869d  Sacramento Schedule      001   \n",
       "2  008d5112a7e531d0562d26e34d77869d  Sacramento Schedule      001   \n",
       "3  008d5112a7e531d0562d26e34d77869d  Sacramento Schedule      001   \n",
       "4  008d5112a7e531d0562d26e34d77869d  Sacramento Schedule      001   \n",
       "\n",
       "   direction_id longest_shape_id  route_dir_identifier  segment_sequence  \\\n",
       "0           0.0            45169             901211056                 0   \n",
       "1           0.0            45169             901211056                 1   \n",
       "2           0.0            45169             901211056                 2   \n",
       "3           0.0            45169             901211056                 3   \n",
       "4           0.0            45169             901211056                 4   \n",
       "\n",
       "                   gtfs_dataset_key  \\\n",
       "0  927430a256c4d23e37cf417362df9e7f   \n",
       "1  927430a256c4d23e37cf417362df9e7f   \n",
       "2  927430a256c4d23e37cf417362df9e7f   \n",
       "3  927430a256c4d23e37cf417362df9e7f   \n",
       "4  927430a256c4d23e37cf417362df9e7f   \n",
       "\n",
       "                                  geometry_arrowized  \n",
       "0  POLYGON ((-110092.479 74347.387, -110092.539 7...  \n",
       "1  POLYGON ((-112031.987 74325.091, -112033.947 7...  \n",
       "2  POLYGON ((-112315.038 74335.610, -113031.548 7...  \n",
       "3  POLYGON ((-114031.549 74339.090, -114033.509 7...  \n",
       "4  POLYGON ((-114627.487 74347.454, -114629.315 7...  "
      ]
     },
     "execution_count": 3,
     "metadata": {},
     "output_type": "execute_result"
    }
   ],
   "source": [
    "route_segments.head()"
   ]
  },
  {
   "cell_type": "code",
   "execution_count": 4,
   "id": "4353dec9-8c1c-4ae5-aad1-b80b49c12aff",
   "metadata": {},
   "outputs": [],
   "source": [
    "stops = helpers.import_scheduled_stops(\n",
    "    analysis_date,\n",
    "    columns = [\"feed_key\", \"stop_id\", \"geometry\"]\n",
    ").compute()"
   ]
  },
  {
   "cell_type": "code",
   "execution_count": 5,
   "id": "fffbc51e-9118-46a4-b975-695695235f02",
   "metadata": {},
   "outputs": [
    {
     "data": {
      "text/plain": [
       "'\\nscheduled_trips = sched_rt_utils.crosswalk_scheduled_trip_grouping_with_rt_key(\\n    analysis_date = analysis_date, \\n    keep_trip_cols = [\"feed_key\", \"trip_id\", \"route_id\", \"direction_id\"]\\n)\\n'"
      ]
     },
     "execution_count": 5,
     "metadata": {},
     "output_type": "execute_result"
    }
   ],
   "source": [
    "'''\n",
    "scheduled_trips = sched_rt_utils.crosswalk_scheduled_trip_grouping_with_rt_key(\n",
    "    analysis_date = analysis_date, \n",
    "    keep_trip_cols = [\"feed_key\", \"trip_id\", \"route_id\", \"direction_id\"]\n",
    ")\n",
    "'''"
   ]
  },
  {
   "cell_type": "code",
   "execution_count": 6,
   "id": "c1851fe7-baaa-458f-ad36-a3d1c8132e4e",
   "metadata": {},
   "outputs": [],
   "source": [
    "stops_in_route_segments = gpd.sjoin(\n",
    "    stops,\n",
    "    route_segments,\n",
    "    how = \"inner\",\n",
    "    predicate = \"intersects\"\n",
    ").drop(columns = \"index_right\")"
   ]
  },
  {
   "cell_type": "code",
   "execution_count": 7,
   "id": "53a0e506-404f-46b2-b02b-1b43b0555b12",
   "metadata": {},
   "outputs": [
    {
     "data": {
      "text/plain": [
       "(29379, 12)"
      ]
     },
     "execution_count": 7,
     "metadata": {},
     "output_type": "execute_result"
    }
   ],
   "source": [
    "stops_in_route_segments.shape"
   ]
  },
  {
   "cell_type": "code",
   "execution_count": 8,
   "id": "ac2747f3-10fb-4901-bbee-ae58fe21f1f6",
   "metadata": {},
   "outputs": [
    {
     "data": {
      "text/plain": [
       "(212, 12)"
      ]
     },
     "execution_count": 8,
     "metadata": {},
     "output_type": "execute_result"
    }
   ],
   "source": [
    "# stops for an operator that falls in route_segment belonging\n",
    "# to another operator\n",
    "stops_in_route_segments[stops_in_route_segments.feed_key_left != \n",
    "                        stops_in_route_segments.feed_key_right\n",
    "                       ].shape"
   ]
  },
  {
   "cell_type": "code",
   "execution_count": null,
   "id": "760c4926-9793-4173-835d-a6c56ced66e2",
   "metadata": {},
   "outputs": [],
   "source": []
  }
 ],
 "metadata": {
  "kernelspec": {
   "display_name": "Python 3 (ipykernel)",
   "language": "python",
   "name": "python3"
  },
  "language_info": {
   "codemirror_mode": {
    "name": "ipython",
    "version": 3
   },
   "file_extension": ".py",
   "mimetype": "text/x-python",
   "name": "python",
   "nbconvert_exporter": "python",
   "pygments_lexer": "ipython3",
   "version": "3.9.13"
  }
 },
 "nbformat": 4,
 "nbformat_minor": 5
}
