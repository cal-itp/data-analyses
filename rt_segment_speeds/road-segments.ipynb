{
 "cells": [
  {
   "cell_type": "markdown",
   "id": "66517d16-aa8c-41ae-9cc6-0b122a0254e7",
   "metadata": {},
   "source": [
    "# Census TIGER Roads"
   ]
  },
  {
   "cell_type": "code",
   "execution_count": null,
   "id": "47abeada-5321-4680-876c-f43d429fdbb5",
   "metadata": {},
   "outputs": [],
   "source": [
    "import geopandas as gpd\n",
    "import pandas as pd\n",
    "\n",
    "from shared_utils import geography_utils\n",
    "\n",
    "GCS_FILE_PATH = \"gs://calitp-analytics-data/data-analyses/\"\n",
    "DASK_TEST = f\"{GCS_FILE_PATH}dask_test/\""
   ]
  },
  {
   "cell_type": "code",
   "execution_count": null,
   "id": "dff16d70-26d1-48ea-af6b-24195f25b966",
   "metadata": {},
   "outputs": [],
   "source": [
    "gdf = gpd.read_parquet(f\"{DASK_TEST}all_roads_2020_state06.parquet\")"
   ]
  },
  {
   "cell_type": "code",
   "execution_count": null,
   "id": "402e8871-3795-4aa4-b710-e418b101e608",
   "metadata": {},
   "outputs": [],
   "source": [
    "road_categories = [\n",
    "    \"S1100\", # primary road\n",
    "    \"S1200\", # secondadry road\n",
    "    \"S1400\" # local neighborhood road\n",
    "]\n",
    "\n",
    "gdf = gdf[gdf.MTFCC.isin(road_categories)].reset_index(drop=True)"
   ]
  },
  {
   "cell_type": "code",
   "execution_count": null,
   "id": "649b9322-b7fe-4e48-86a5-92ed1a983aee",
   "metadata": {},
   "outputs": [],
   "source": [
    "'''\n",
    "C = County\n",
    "I = Interstate\n",
    "M = Common Name\n",
    "O = Other\n",
    "S = State recognized\n",
    "U = U.S.\n",
    "\n",
    "http://www.scribekey.com/AttributeDomains/FEATNAMES.MTFCC.html\n",
    "24  S1100   Primary Road\n",
    "25  R1011   Railroad Feature (Main, Spur, or Yard)\n",
    "26  R1051   Carline, Streetcar Track, Monorail, Other Mass Transit Rail)\n",
    "27  R1052   Cog Rail Line, Incline Rail Line, Tram\n",
    "28  S1100   Primary Road\n",
    "29  S1200   Secondary Road    \n",
    "'''"
   ]
  },
  {
   "cell_type": "code",
   "execution_count": null,
   "id": "05551bff-00fe-41f3-9abc-04b62f8c195d",
   "metadata": {},
   "outputs": [],
   "source": [
    "wilshire_roads = gdf[(gdf.FULLNAME.str.contains(\"Wilshire\")) & \n",
    "                     (gdf.FULLNAME.notna())].to_crs(geography_utils.CA_NAD83Albers)\n",
    "\n",
    "segments = geography_utils.cut_segments(\n",
    "    wilshire_roads, \n",
    "    [\"FULLNAME\"],\n",
    "    1_000\n",
    ")"
   ]
  },
  {
   "cell_type": "code",
   "execution_count": null,
   "id": "e55b2a21-dcc5-4e0f-bad4-dfd0d3f84cce",
   "metadata": {},
   "outputs": [],
   "source": [
    "segments.explore(\n",
    "    \"segment_sequence\",\n",
    "    tiles = \"CartoDB Positron\"\n",
    ")"
   ]
  },
  {
   "cell_type": "code",
   "execution_count": null,
   "id": "501c2024-e5b1-4ae9-a587-6e5a19377c41",
   "metadata": {},
   "outputs": [],
   "source": []
  }
 ],
 "metadata": {
  "kernelspec": {
   "display_name": "Python 3 (ipykernel)",
   "language": "python",
   "name": "python3"
  },
  "language_info": {
   "codemirror_mode": {
    "name": "ipython",
    "version": 3
   },
   "file_extension": ".py",
   "mimetype": "text/x-python",
   "name": "python",
   "nbconvert_exporter": "python",
   "pygments_lexer": "ipython3",
   "version": "3.9.13"
  }
 },
 "nbformat": 4,
 "nbformat_minor": 5
}
