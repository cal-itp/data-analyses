{
 "cells": [
  {
   "cell_type": "markdown",
   "id": "cd8110e6-c29e-4e00-af33-367c1f9d9e63",
   "metadata": {},
   "source": [
    "## Plot `nearest_vp_to_stop` and `interpolate_stop_arrival` results"
   ]
  },
  {
   "cell_type": "code",
   "execution_count": null,
   "id": "05cdbdbe-5e9b-486f-8878-0c11819ed4eb",
   "metadata": {},
   "outputs": [],
   "source": [
    "import dask.dataframe as dd\n",
    "import folium\n",
    "import geopandas as gpd\n",
    "import numpy as np\n",
    "import pandas as pd\n",
    "\n",
    "from segment_speed_utils import helpers, segment_calcs\n",
    "from segment_speed_utils.project_vars import SEGMENT_GCS, PROJECT_CRS\n",
    "from shared_utils import rt_dates\n",
    "\n",
    "analysis_date = rt_dates.DATES[\"sep2023\"]"
   ]
  },
  {
   "cell_type": "code",
   "execution_count": null,
   "id": "5f95a14b-a169-4183-9626-f1c1add93263",
   "metadata": {},
   "outputs": [],
   "source": [
    "test_trips = [\n",
    "    'e23a83e19843f71f6599cb302e23ae6e',\n",
    "    '0adf85083a66f635dd3edcbdf0a5d8da',\n",
    "    '73c4533f88c0759a4817902ae45df1c0',\n",
    "    '70ec3122f3971fd94a50402f76b6336c',\n",
    "    '1a7599df4fcd547d9b9c423345c08a0f',\n",
    "    '2f567724fe306d15bd213c913f47027e',\n",
    "    'e029d4c256171e2e476a4cad574f6685',\n",
    "    '9a4c7a548deb282384e63bf98ac991d7',\n",
    "    'db3ce71b08df1598db06615d7ed0b77f',\n",
    "    '01365dc998719fc064b259ba4c1476de'\n",
    "]"
   ]
  },
  {
   "cell_type": "code",
   "execution_count": null,
   "id": "c3b8aab4-ac9b-4659-b605-fe6ab68f88c6",
   "metadata": {},
   "outputs": [],
   "source": [
    "stop_arrivals_interp = pd.read_parquet(\n",
    "    f\"{SEGMENT_GCS}stop_arrivals_{analysis_date}.parquet\")"
   ]
  },
  {
   "cell_type": "code",
   "execution_count": null,
   "id": "4f4251c9-d112-440a-be6b-a26f509e3462",
   "metadata": {},
   "outputs": [],
   "source": [
    "stop_arrivals_interp = segment_calcs.convert_timestamp_to_seconds(\n",
    "    stop_arrivals_interp, \n",
    "    [\"arrival_time\"]\n",
    ").drop(columns = [\n",
    "    \"nearest_location_timestamp_local\", \n",
    "    \"subseq_location_timestamp_local\", \n",
    "    \"arrival_time\"\n",
    "])"
   ]
  },
  {
   "cell_type": "markdown",
   "id": "2449e28e-215d-4559-88a9-a25e56d0c325",
   "metadata": {},
   "source": [
    "### Merge in interpolated stop arrivals with vp and stop geometry"
   ]
  },
  {
   "cell_type": "code",
   "execution_count": null,
   "id": "0b634687-1bf2-4a2b-8bd0-b82f02d6bdc3",
   "metadata": {},
   "outputs": [],
   "source": [
    "vp = pd.read_parquet(\n",
    "    f\"{SEGMENT_GCS}vp_usable_{analysis_date}/\",\n",
    "    filters = [[(\"trip_instance_key\", \"in\", test_trips)]],\n",
    "    columns = [\"vp_idx\", \"x\", \"y\", \"location_timestamp_local\"]\n",
    ").pipe(segment_calcs.convert_timestamp_to_seconds, \n",
    "       [\"location_timestamp_local\"]).drop(columns = \"location_timestamp_local\")\n",
    "\n",
    "vp_gdf = gpd.GeoDataFrame(\n",
    "    vp,\n",
    "    geometry = gpd.points_from_xy(vp.x, vp.y),\n",
    "    crs = \"EPSG:4326\"\n",
    ").to_crs(PROJECT_CRS).drop(columns = [\"x\", \"y\"])"
   ]
  },
  {
   "cell_type": "code",
   "execution_count": null,
   "id": "47c409bd-d53a-4d95-bf4c-2753a7d52724",
   "metadata": {},
   "outputs": [],
   "source": [
    "stops_projected = gpd.read_parquet(\n",
    "    f\"{SEGMENT_GCS}stops_projected_{analysis_date}.parquet\",\n",
    "    columns = [\"shape_array_key\", \"stop_sequence\", \"stop_id\", \n",
    "               \"stop_geometry\", \n",
    "               \"loop_or_inlining\"]\n",
    ")"
   ]
  },
  {
   "cell_type": "code",
   "execution_count": null,
   "id": "962795df-cf2c-4d09-81d2-6c624c254afb",
   "metadata": {},
   "outputs": [],
   "source": [
    "# Merge selected vp with stops_projected\n",
    "gdf = pd.merge(\n",
    "    stops_projected,\n",
    "    stop_arrivals_interp,\n",
    "    on = [\"shape_array_key\", \"stop_sequence\", \"stop_id\"],\n",
    "    how = \"inner\"\n",
    ")"
   ]
  },
  {
   "cell_type": "code",
   "execution_count": null,
   "id": "9fdd1746-d3b4-4085-a120-3a3875a7e105",
   "metadata": {},
   "outputs": [],
   "source": [
    "gdf2 = pd.merge(\n",
    "    gdf,\n",
    "    vp_gdf.rename(columns = {\n",
    "        \"vp_idx\": \"nearest_vp_idx\",\n",
    "        \"location_timestamp_local_sec\": \"nearest_sec\",\n",
    "        \"geometry\": \"nearest_vp_geometry\"\n",
    "    }),\n",
    "    on = \"nearest_vp_idx\",\n",
    "    how = \"inner\"\n",
    ")"
   ]
  },
  {
   "cell_type": "code",
   "execution_count": null,
   "id": "75220a58-63aa-47f4-ab2e-a7dcbb8159f6",
   "metadata": {},
   "outputs": [],
   "source": [
    "gdf3 = pd.merge(\n",
    "    gdf2,\n",
    "    vp_gdf.rename(columns = {\n",
    "        \"vp_idx\": \"subseq_vp_idx\",\n",
    "        \"location_timestamp_local_sec\": \"subseq_sec\",\n",
    "        \"geometry\": \"subseq_vp_geometry\"\n",
    "    }),\n",
    "    on = \"subseq_vp_idx\",\n",
    "    how = \"inner\"\n",
    ")"
   ]
  },
  {
   "cell_type": "code",
   "execution_count": null,
   "id": "5436f8b8-9402-48a5-9bc7-0271dc59be5f",
   "metadata": {},
   "outputs": [],
   "source": [
    "def plot_one_trip(gdf: gpd.GeoDataFrame, one_trip: str):\n",
    "    subset_gdf = gdf[gdf.trip_instance_key==one_trip]\n",
    "    \n",
    "    m = subset_gdf.set_geometry(\"stop_geometry\").explore(\n",
    "        categorical = True,\n",
    "        legend = False,\n",
    "        color = \"black\",\n",
    "        tiles = \"CartoDB Positron\",\n",
    "        name=\"Stops\"\n",
    "    )\n",
    "\n",
    "    m = subset_gdf.set_geometry(\"nearest_vp_geometry\").explore(\n",
    "        m=m, \n",
    "        color=\"orange\", \n",
    "        name=\"nearest vp\"\n",
    "    )\n",
    "\n",
    "    m = subset_gdf.set_geometry(\"subseq_vp_geometry\").explore(\n",
    "        m=m, \n",
    "        color=\"yellow\", \n",
    "        name=\"subseq vp\"\n",
    "    )\n",
    "    # this is completely optional\n",
    "    folium.LayerControl().add_to(m)\n",
    "\n",
    "    return m"
   ]
  },
  {
   "cell_type": "code",
   "execution_count": null,
   "id": "1a572625-24dd-4d12-9f4a-98e433cad075",
   "metadata": {},
   "outputs": [],
   "source": [
    "for t in test_trips:\n",
    "    print(f\"trip_instance_key: {t}\")\n",
    "    m = plot_one_trip(gdf3, t)\n",
    "    display(m)"
   ]
  },
  {
   "cell_type": "code",
   "execution_count": null,
   "id": "2499aa75-0bdf-41b4-82da-29e9afaea5b7",
   "metadata": {},
   "outputs": [],
   "source": [
    "# Select one stop to look at\n",
    "test_map = plot_one_trip(gdf3[gdf3.stop_sequence==68], test_trips[0])"
   ]
  },
  {
   "cell_type": "code",
   "execution_count": null,
   "id": "fa847ab8-564e-49a0-b553-8c7d29e0b91c",
   "metadata": {},
   "outputs": [],
   "source": [
    "test_map"
   ]
  },
  {
   "cell_type": "code",
   "execution_count": null,
   "id": "844654fa-a002-42ad-a6b1-fe26bd2ba3c9",
   "metadata": {},
   "outputs": [],
   "source": [
    "def look_at_arrival_time(df, one_trip):\n",
    "    subset_df = df[(df.trip_instance_key==one_trip)\n",
    "                  ].sort_values(\"stop_sequence\").reset_index()\n",
    "    \n",
    "    cols = [\"stop_sequence\", \n",
    "            \"nearest_vp\", \"arrival_time\", \"subseq_vp\"]\n",
    "    \n",
    "    subset_df = subset_df.assign(\n",
    "        nearest_vp = pd.to_datetime(subset_df.nearest_sec, unit=\"s\").dt.time,\n",
    "        arrival_time = pd.to_datetime(subset_df.arrival_time_sec, unit=\"s\").dt.time,\n",
    "        subseq_vp = pd.to_datetime(subset_df.subseq_sec, unit=\"s\").dt.time,\n",
    "    )\n",
    "    \n",
    "    display(subset_df[cols])\n",
    "    "
   ]
  },
  {
   "cell_type": "code",
   "execution_count": null,
   "id": "5d0f0d52-1cfd-457b-a139-b50774b5809b",
   "metadata": {},
   "outputs": [],
   "source": [
    "for t in test_trips:\n",
    "    look_at_arrival_time(gdf3, t)"
   ]
  },
  {
   "cell_type": "code",
   "execution_count": null,
   "id": "38a2d09f-be2b-4c65-a8d8-0697c6a9c257",
   "metadata": {},
   "outputs": [],
   "source": []
  }
 ],
 "metadata": {
  "kernelspec": {
   "display_name": "Python 3 (ipykernel)",
   "language": "python",
   "name": "python3"
  },
  "language_info": {
   "codemirror_mode": {
    "name": "ipython",
    "version": 3
   },
   "file_extension": ".py",
   "mimetype": "text/x-python",
   "name": "python",
   "nbconvert_exporter": "python",
   "pygments_lexer": "ipython3",
   "version": "3.9.13"
  }
 },
 "nbformat": 4,
 "nbformat_minor": 5
}
