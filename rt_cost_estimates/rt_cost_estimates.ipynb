{
 "cells": [
  {
   "cell_type": "code",
   "execution_count": 216,
   "id": "00ea93cc-a8ad-489d-845e-37fa24fddc0c",
   "metadata": {},
   "outputs": [],
   "source": [
    "import calitp\n",
    "from calitp.tables import tbl\n",
    "from siuba import *\n",
    "\n",
    "import shared_utils\n",
    "import pandas as pd"
   ]
  },
  {
   "cell_type": "markdown",
   "id": "5368a32d-ec5d-4d0c-8a9e-cabc4f3e7b45",
   "metadata": {},
   "source": [
    "## Estimating Costs for bringing GTFS-RT to small/rural operators using GRaaS\n",
    "\n",
    "* [research issue](https://github.com/cal-itp/data-infra/issues/843)\n",
    "* data read/cleaned, awaiting cost inputs"
   ]
  },
  {
   "cell_type": "markdown",
   "id": "4cd494c0-085d-4ed3-b4e2-d06ed35856c7",
   "metadata": {},
   "source": [
    "#### Bus service increase data"
   ]
  },
  {
   "cell_type": "code",
   "execution_count": 217,
   "id": "0f818234-8263-498a-adb4-222ae74c3e6c",
   "metadata": {},
   "outputs": [],
   "source": [
    "## run service_increase_estimator nb from data-analyses/bus_service_increase to update this if needed:\n",
    "hours_by_operator = pd.read_parquet('gs://calitp-analytics-data/data-analyses/bus_service_increase/increase_by_operator.parquet')"
   ]
  },
  {
   "cell_type": "code",
   "execution_count": 218,
   "id": "29bdcbb4-c493-41de-b682-326b6a605d1d",
   "metadata": {},
   "outputs": [],
   "source": [
    "hours_by_operator = hours_by_operator.groupby('calitp_itp_id').sum().reset_index()\n",
    "hours_by_operator['additional_buses'] = hours_by_operator['additional_buses'].round(0)"
   ]
  },
  {
   "cell_type": "code",
   "execution_count": 219,
   "id": "136c05d7-ae41-4fb6-bc7d-7e5cf894b30d",
   "metadata": {},
   "outputs": [],
   "source": [
    "hours_by_operator = (hours_by_operator\n",
    "                     >> filter(-_.calitp_itp_id.isin((231, 18, 108, 135,\n",
    "                                                     171, 172, 173, 176,\n",
    "                                                     174, 177, 178, 179,\n",
    "                                                     181)))\n",
    "                    ) ## exclude mixed feeds with incorrect increase estimates; will not affect basic estimate"
   ]
  },
  {
   "cell_type": "markdown",
   "id": "219410be-20fb-4b0f-b018-4d14b71b00e6",
   "metadata": {},
   "source": [
    "#### 2019 NTD Vehicle data"
   ]
  },
  {
   "cell_type": "code",
   "execution_count": 220,
   "id": "d1458e99-7406-444e-abe3-778c383b3bf8",
   "metadata": {},
   "outputs": [],
   "source": [
    "ntd_vehicles_2019 = pd.read_csv(f\"gs://calitp-analytics-data/data-analyses/bus_service_increase/ntd_vehicles_2019.csv\") >> filter(_.State == 'CA')"
   ]
  },
  {
   "cell_type": "code",
   "execution_count": 221,
   "id": "9fcb59a4-4940-4fe7-b984-792b4c6ea330",
   "metadata": {
    "tags": []
   },
   "outputs": [
    {
     "name": "stderr",
     "output_type": "stream",
     "text": [
      "/opt/conda/lib/python3.9/site-packages/pandas/core/frame.py:5039: SettingWithCopyWarning: \n",
      "A value is trying to be set on a copy of a slice from a DataFrame\n",
      "\n",
      "See the caveats in the documentation: https://pandas.pydata.org/pandas-docs/stable/user_guide/indexing.html#returning-a-view-versus-a-copy\n",
      "  return super().rename(\n",
      "/tmp/ipykernel_965/3820145302.py:6: SettingWithCopyWarning: \n",
      "A value is trying to be set on a copy of a slice from a DataFrame.\n",
      "Try using .loc[row_indexer,col_indexer] = value instead\n",
      "\n",
      "See the caveats in the documentation: https://pandas.pydata.org/pandas-docs/stable/user_guide/indexing.html#returning-a-view-versus-a-copy\n",
      "  ntd_vehicles['bus'] = ntd_vehicles['bus'].str.replace(',', '')\n"
     ]
    }
   ],
   "source": [
    "ntd_vehicles = ntd_vehicles_2019[['NTD ID', 'Bus', 'Articulated Bus', 'Over-The-Road Bus',\n",
    "                                 'Double Decker Bus', 'Trolleybus', 'Cutaway']]\n",
    "ntd_vehicles.rename(columns={'NTD ID': 'ntd_id', 'Bus': 'bus', 'Articulated Bus': 'artic_bus',\n",
    "                            'Over-The-Road Bus': 'otr_bus', 'Double Decker Bus':'dbl_deck_bus',\n",
    "                            'Trolleybus': 'trolleybus', 'Cutaway': 'cutaway'}, inplace=True)\n",
    "ntd_vehicles['bus'] = ntd_vehicles['bus'].str.replace(',', '')\n",
    "ntd_vehicles = ntd_vehicles.astype({'bus': 'int64', 'artic_bus': 'int64', 'otr_bus': 'int64',\n",
    "                                   'dbl_deck_bus': 'int64', 'trolleybus': 'int64'})"
   ]
  },
  {
   "cell_type": "code",
   "execution_count": 222,
   "id": "da48cbf2-b833-46ec-8bca-6cc482a21533",
   "metadata": {},
   "outputs": [],
   "source": [
    "ntd_vehicles['total_vehicles'] = (ntd_vehicles[\n",
    "                ['bus', 'artic_bus', 'otr_bus',\n",
    "                'dbl_deck_bus', 'trolleybus', 'cutaway']]\n",
    "                                  .sum(axis=1))"
   ]
  },
  {
   "cell_type": "code",
   "execution_count": 223,
   "id": "3a527772-0eea-4291-99cb-6076aef5e50d",
   "metadata": {},
   "outputs": [],
   "source": [
    "ntd_vehicles = (tbl.views.transitstacks()\n",
    " >> select(_.calitp_itp_id == _.itp_id, _.transit_provider,\n",
    "           _.ntd_id, _._5311_funds)\n",
    " >> collect()\n",
    " >> inner_join(_, ntd_vehicles, on='ntd_id')\n",
    ")\n",
    "# ntd_vehicles.head(3)"
   ]
  },
  {
   "cell_type": "code",
   "execution_count": 224,
   "id": "2d951564-1dcd-40d5-9bb0-88aa0f71bf98",
   "metadata": {},
   "outputs": [],
   "source": [
    "operators_vehicles = hours_by_operator >> right_join(_, ntd_vehicles, on='calitp_itp_id')"
   ]
  },
  {
   "cell_type": "code",
   "execution_count": 225,
   "id": "a9da6668-5ae6-4423-b259-537d1e619460",
   "metadata": {},
   "outputs": [],
   "source": [
    "# operators_vehicles.head(3)"
   ]
  },
  {
   "cell_type": "code",
   "execution_count": 226,
   "id": "74026494-d836-45bc-8073-fdcb9b242636",
   "metadata": {},
   "outputs": [],
   "source": [
    "small_non_5311 = (operators_vehicles\n",
    "                  >> filter((_._5311_funds.isna()) | (_._5311_funds == '$0'))\n",
    "                  >> filter((_.total_vehicles < 30) & (_.total_vehicles != 0)) # NTD \"small system\"\n",
    "                 )"
   ]
  },
  {
   "cell_type": "code",
   "execution_count": 227,
   "id": "3de45f75-2b1a-4e43-9097-bc9dc53e8538",
   "metadata": {},
   "outputs": [],
   "source": [
    "fta_5311_agencies = (operators_vehicles\n",
    "                     >> filter(-_._5311_funds.isna())\n",
    "                     >> filter(_._5311_funds != '$0')\n",
    "                     >> filter((_.total_vehicles < 45) & (_.total_vehicles != 0)) # 45 bus threshold for larger rural operators\n",
    "                    )"
   ]
  },
  {
   "cell_type": "code",
   "execution_count": 228,
   "id": "4e9dbc7a-27ef-4d16-ab29-5bc0651a1d65",
   "metadata": {},
   "outputs": [],
   "source": [
    "rural_small_agencies = small_non_5311.append(fta_5311_agencies)"
   ]
  },
  {
   "cell_type": "code",
   "execution_count": 229,
   "id": "94a89f19-df15-4a34-96ab-5103b1b37575",
   "metadata": {},
   "outputs": [],
   "source": [
    "rural_small_agencies = rural_small_agencies >> filter(_.calitp_itp_id != 246) ## exclude Caltrain"
   ]
  },
  {
   "cell_type": "code",
   "execution_count": 230,
   "id": "c7f3019e-02bb-4f88-b067-a8457665b576",
   "metadata": {},
   "outputs": [],
   "source": [
    "rural_small_agencies = (rural_small_agencies\n",
    "                        >> select(-_.addl_service_hrs_annual, -_.bus_capex, -_.bus_capex_annualized,\n",
    "                                 -_.artic_bus, -_.otr_bus, -_.dbl_deck_bus, -_.trolleybus))"
   ]
  },
  {
   "cell_type": "code",
   "execution_count": 231,
   "id": "84aa6476-0104-438e-a562-e3768b432a34",
   "metadata": {},
   "outputs": [],
   "source": [
    "rural_small_agencies['total_with_additional_vehicles'] = rural_small_agencies['total_vehicles'] + rural_small_agencies['additional_buses']"
   ]
  },
  {
   "cell_type": "markdown",
   "id": "1384354e-00b9-4e9b-aaee-2b66d2ef5a05",
   "metadata": {},
   "source": [
    "### Dataframe of rural/small agencies\n",
    "\n",
    "* Includes any agency with less than 30 vehicles (buses and/or cutaways, excluding vans)\n",
    "* Also includes agencies with FTA 5311 funding and less than 45 vehicles\n",
    "* 133 agencies"
   ]
  },
  {
   "cell_type": "code",
   "execution_count": 234,
   "id": "62e48a08-ac2d-421d-9fdf-7ecca79dcec9",
   "metadata": {},
   "outputs": [
    {
     "data": {
      "text/plain": [
       "(133, 9)"
      ]
     },
     "execution_count": 234,
     "metadata": {},
     "output_type": "execute_result"
    }
   ],
   "source": [
    "rural_small_agencies.shape"
   ]
  },
  {
   "cell_type": "code",
   "execution_count": 235,
   "id": "fa4a8834-c68f-4d43-833a-7de52f121d74",
   "metadata": {},
   "outputs": [
    {
     "data": {
      "text/html": [
       "<div>\n",
       "<style scoped>\n",
       "    .dataframe tbody tr th:only-of-type {\n",
       "        vertical-align: middle;\n",
       "    }\n",
       "\n",
       "    .dataframe tbody tr th {\n",
       "        vertical-align: top;\n",
       "    }\n",
       "\n",
       "    .dataframe thead th {\n",
       "        text-align: right;\n",
       "    }\n",
       "</style>\n",
       "<table border=\"1\" class=\"dataframe\">\n",
       "  <thead>\n",
       "    <tr style=\"text-align: right;\">\n",
       "      <th></th>\n",
       "      <th>calitp_itp_id</th>\n",
       "      <th>additional_buses</th>\n",
       "      <th>transit_provider</th>\n",
       "      <th>ntd_id</th>\n",
       "      <th>_5311_funds</th>\n",
       "      <th>bus</th>\n",
       "      <th>cutaway</th>\n",
       "      <th>total_vehicles</th>\n",
       "      <th>total_with_additional_vehicles</th>\n",
       "    </tr>\n",
       "  </thead>\n",
       "  <tbody>\n",
       "    <tr>\n",
       "      <th>27</th>\n",
       "      <td>75</td>\n",
       "      <td>47.0</td>\n",
       "      <td>Commerce Municipal Bus Lines</td>\n",
       "      <td>90043</td>\n",
       "      <td>$0</td>\n",
       "      <td>15</td>\n",
       "      <td>7</td>\n",
       "      <td>22</td>\n",
       "      <td>69.0</td>\n",
       "    </tr>\n",
       "    <tr>\n",
       "      <th>28</th>\n",
       "      <td>17</td>\n",
       "      <td>9.0</td>\n",
       "      <td>Arcadia Transit</td>\n",
       "      <td>90044</td>\n",
       "      <td>$0</td>\n",
       "      <td>0</td>\n",
       "      <td>18</td>\n",
       "      <td>18</td>\n",
       "      <td>27.0</td>\n",
       "    </tr>\n",
       "    <tr>\n",
       "      <th>29</th>\n",
       "      <td>308</td>\n",
       "      <td>7.0</td>\n",
       "      <td>Simi Valley Transit</td>\n",
       "      <td>90050</td>\n",
       "      <td>$0</td>\n",
       "      <td>11</td>\n",
       "      <td>12</td>\n",
       "      <td>23</td>\n",
       "      <td>30.0</td>\n",
       "    </tr>\n",
       "  </tbody>\n",
       "</table>\n",
       "</div>"
      ],
      "text/plain": [
       "    calitp_itp_id  additional_buses              transit_provider ntd_id  \\\n",
       "27             75              47.0  Commerce Municipal Bus Lines  90043   \n",
       "28             17               9.0               Arcadia Transit  90044   \n",
       "29            308               7.0           Simi Valley Transit  90050   \n",
       "\n",
       "   _5311_funds  bus  cutaway  total_vehicles  total_with_additional_vehicles  \n",
       "27          $0   15        7              22                            69.0  \n",
       "28          $0    0       18              18                            27.0  \n",
       "29          $0   11       12              23                            30.0  "
      ]
     },
     "execution_count": 235,
     "metadata": {},
     "output_type": "execute_result"
    }
   ],
   "source": [
    "rural_small_agencies.head(3)"
   ]
  },
  {
   "cell_type": "markdown",
   "id": "f67bd379-4cc3-49b7-afe5-b088662b6f54",
   "metadata": {},
   "source": [
    "### Total number of vehicles estimate for rural/small agencies\n",
    "\n",
    "* both existing conditions and post-increase estimate based on transit service increase work"
   ]
  },
  {
   "cell_type": "code",
   "execution_count": 238,
   "id": "57c79f04-464b-47dc-a0f9-53832022ba95",
   "metadata": {},
   "outputs": [
    {
     "data": {
      "text/plain": [
       "1425"
      ]
     },
     "execution_count": 238,
     "metadata": {},
     "output_type": "execute_result"
    }
   ],
   "source": [
    "rural_small_agencies.total_vehicles.sum()"
   ]
  },
  {
   "cell_type": "code",
   "execution_count": 239,
   "id": "9400534d-b346-456e-b2c3-74f6b4643409",
   "metadata": {},
   "outputs": [
    {
     "data": {
      "text/plain": [
       "2617.0"
      ]
     },
     "execution_count": 239,
     "metadata": {},
     "output_type": "execute_result"
    }
   ],
   "source": [
    "rural_small_agencies.total_with_additional_vehicles.sum()"
   ]
  },
  {
   "cell_type": "markdown",
   "id": "ef5e1c59-332a-4f26-acd8-4e63c5257a61",
   "metadata": {},
   "source": [
    "### Building an estimation methodology (in progress)"
   ]
  },
  {
   "cell_type": "code",
   "execution_count": 209,
   "id": "cbdc0f80-bb4c-420f-b8dd-858a0a562b92",
   "metadata": {},
   "outputs": [],
   "source": [
    "grass_vehicle_cost = 100 ## made up numbers, update and add additional inputs\n",
    "per_operator_costs = 2000"
   ]
  },
  {
   "cell_type": "code",
   "execution_count": 210,
   "id": "8421308d-5fb9-4da2-a07b-889b7ae02b21",
   "metadata": {},
   "outputs": [],
   "source": [
    "rural_small_agencies = rural_small_agencies.fillna(0)"
   ]
  },
  {
   "cell_type": "code",
   "execution_count": 211,
   "id": "67818e1d-50e9-4df7-a24f-8d770acde04b",
   "metadata": {},
   "outputs": [],
   "source": [
    "rural_small_agencies['vehicle_grass_costs'] = rural_small_agencies['total_vehicles'] * grass_vehicle_cost\n",
    "rural_small_agencies['addl_vehicle_grass_costs'] = rural_small_agencies['additional_buses'] * grass_vehicle_cost\n",
    "\n",
    "rural_small_agencies['total_grass_costs'] = rural_small_agencies['vehicle_grass_costs'] + per_operator_costs\n",
    "rural_small_agencies['total_grass_costs_service_increase'] = (rural_small_agencies['vehicle_grass_costs'] +\n",
    "                                                              rural_small_agencies['addl_vehicle_grass_costs'] +\n",
    "                                                              per_operator_costs)"
   ]
  },
  {
   "cell_type": "code",
   "execution_count": 212,
   "id": "5821fcee-ee85-4d5c-a10b-ae9a22151ddb",
   "metadata": {},
   "outputs": [
    {
     "data": {
      "text/html": [
       "<div>\n",
       "<style scoped>\n",
       "    .dataframe tbody tr th:only-of-type {\n",
       "        vertical-align: middle;\n",
       "    }\n",
       "\n",
       "    .dataframe tbody tr th {\n",
       "        vertical-align: top;\n",
       "    }\n",
       "\n",
       "    .dataframe thead th {\n",
       "        text-align: right;\n",
       "    }\n",
       "</style>\n",
       "<table border=\"1\" class=\"dataframe\">\n",
       "  <thead>\n",
       "    <tr style=\"text-align: right;\">\n",
       "      <th></th>\n",
       "      <th>calitp_itp_id</th>\n",
       "      <th>additional_buses</th>\n",
       "      <th>transit_provider</th>\n",
       "      <th>ntd_id</th>\n",
       "      <th>_5311_funds</th>\n",
       "      <th>bus</th>\n",
       "      <th>cutaway</th>\n",
       "      <th>total_vehicles</th>\n",
       "      <th>total_with_additional_vehicles</th>\n",
       "      <th>vehicle_grass_costs</th>\n",
       "      <th>addl_vehicle_grass_costs</th>\n",
       "      <th>total_grass_costs</th>\n",
       "      <th>total_grass_costs_service_increase</th>\n",
       "    </tr>\n",
       "  </thead>\n",
       "  <tbody>\n",
       "    <tr>\n",
       "      <th>27</th>\n",
       "      <td>75</td>\n",
       "      <td>47.0</td>\n",
       "      <td>Commerce Municipal Bus Lines</td>\n",
       "      <td>90043</td>\n",
       "      <td>$0</td>\n",
       "      <td>15</td>\n",
       "      <td>7</td>\n",
       "      <td>22</td>\n",
       "      <td>69.0</td>\n",
       "      <td>2200</td>\n",
       "      <td>4700.0</td>\n",
       "      <td>4200</td>\n",
       "      <td>8900.0</td>\n",
       "    </tr>\n",
       "    <tr>\n",
       "      <th>28</th>\n",
       "      <td>17</td>\n",
       "      <td>9.0</td>\n",
       "      <td>Arcadia Transit</td>\n",
       "      <td>90044</td>\n",
       "      <td>$0</td>\n",
       "      <td>0</td>\n",
       "      <td>18</td>\n",
       "      <td>18</td>\n",
       "      <td>27.0</td>\n",
       "      <td>1800</td>\n",
       "      <td>900.0</td>\n",
       "      <td>3800</td>\n",
       "      <td>4700.0</td>\n",
       "    </tr>\n",
       "    <tr>\n",
       "      <th>29</th>\n",
       "      <td>308</td>\n",
       "      <td>7.0</td>\n",
       "      <td>Simi Valley Transit</td>\n",
       "      <td>90050</td>\n",
       "      <td>$0</td>\n",
       "      <td>11</td>\n",
       "      <td>12</td>\n",
       "      <td>23</td>\n",
       "      <td>30.0</td>\n",
       "      <td>2300</td>\n",
       "      <td>700.0</td>\n",
       "      <td>4300</td>\n",
       "      <td>5000.0</td>\n",
       "    </tr>\n",
       "  </tbody>\n",
       "</table>\n",
       "</div>"
      ],
      "text/plain": [
       "    calitp_itp_id  additional_buses              transit_provider ntd_id  \\\n",
       "27             75              47.0  Commerce Municipal Bus Lines  90043   \n",
       "28             17               9.0               Arcadia Transit  90044   \n",
       "29            308               7.0           Simi Valley Transit  90050   \n",
       "\n",
       "   _5311_funds  bus  cutaway  total_vehicles  total_with_additional_vehicles  \\\n",
       "27          $0   15        7              22                            69.0   \n",
       "28          $0    0       18              18                            27.0   \n",
       "29          $0   11       12              23                            30.0   \n",
       "\n",
       "    vehicle_grass_costs  addl_vehicle_grass_costs  total_grass_costs  \\\n",
       "27                 2200                    4700.0               4200   \n",
       "28                 1800                     900.0               3800   \n",
       "29                 2300                     700.0               4300   \n",
       "\n",
       "    total_grass_costs_service_increase  \n",
       "27                              8900.0  \n",
       "28                              4700.0  \n",
       "29                              5000.0  "
      ]
     },
     "execution_count": 212,
     "metadata": {},
     "output_type": "execute_result"
    }
   ],
   "source": [
    "rural_small_agencies.head(3)"
   ]
  },
  {
   "cell_type": "code",
   "execution_count": 208,
   "id": "08edfa6f-d646-49b0-8c45-bda587c8d18b",
   "metadata": {},
   "outputs": [
    {
     "data": {
      "text/plain": [
       "total_grass_costs                     408500.0\n",
       "total_grass_costs_service_increase    587500.0\n",
       "dtype: float64"
      ]
     },
     "execution_count": 208,
     "metadata": {},
     "output_type": "execute_result"
    }
   ],
   "source": [
    "rural_small_agencies[['total_grass_costs', 'total_grass_costs_service_increase']].sum()"
   ]
  }
 ],
 "metadata": {
  "kernelspec": {
   "display_name": "Python 3 (ipykernel)",
   "language": "python",
   "name": "python3"
  },
  "language_info": {
   "codemirror_mode": {
    "name": "ipython",
    "version": 3
   },
   "file_extension": ".py",
   "mimetype": "text/x-python",
   "name": "python",
   "nbconvert_exporter": "python",
   "pygments_lexer": "ipython3",
   "version": "3.9.7"
  }
 },
 "nbformat": 4,
 "nbformat_minor": 5
}
