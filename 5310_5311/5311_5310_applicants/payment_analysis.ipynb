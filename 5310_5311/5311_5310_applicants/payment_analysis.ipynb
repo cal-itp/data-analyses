{
 "cells": [
  {
   "cell_type": "markdown",
   "id": "5da4aa11-c34a-4ba9-badb-df061c36b683",
   "metadata": {},
   "source": [
    "# 5311 and 5310 Applicant Payment First Look\n",
    "* An agency in this analysis is a recipient of 5311/5310/or both funds"
   ]
  },
  {
   "cell_type": "code",
   "execution_count": 1,
   "id": "e951f65a-527c-4093-a4ae-2cf07baa1368",
   "metadata": {},
   "outputs": [
    {
     "name": "stderr",
     "output_type": "stream",
     "text": [
      "/opt/conda/lib/python3.9/site-packages/geopandas/_compat.py:124: UserWarning: The Shapely GEOS version (3.11.1-CAPI-1.17.1) is incompatible with the GEOS version PyGEOS was compiled with (3.10.1-CAPI-1.16.0). Conversions between both will be slow.\n",
      "  warnings.warn(\n"
     ]
    }
   ],
   "source": [
    "import calitp_data_analysis.magics\n",
    "import pandas as pd\n",
    "import utils\n",
    "from calitp_data_analysis.sql import *\n",
    "from calitp_data_analysis.tables import tbls\n",
    "from siuba import *\n",
    "\n",
    "pd.options.display.max_columns = 100\n",
    "pd.set_option(\"display.max_rows\", None)\n",
    "pd.set_option(\"display.max_colwidth\", None)"
   ]
  },
  {
   "cell_type": "markdown",
   "id": "90e18dc2-1962-46b1-b57e-19eddf90bd44",
   "metadata": {},
   "source": [
    "## Black Cat"
   ]
  },
  {
   "cell_type": "code",
   "execution_count": null,
   "id": "661c9914-6d46-46aa-bd44-417d41fa178c",
   "metadata": {},
   "outputs": [],
   "source": [
    "# Read in Black Cat: 5311 and 5310 recipients with projects in past 2 years\n",
    "df_bc = pd.read_parquet(\n",
    "    \"gs://calitp-analytics-data/data-analyses/5311-5310/5311_5310_applicants.parquet\",\n",
    "    engine=\"auto\",\n",
    ")"
   ]
  },
  {
   "cell_type": "code",
   "execution_count": null,
   "id": "47f54ab0-8e27-4539-a596-6243d2cbc8bb",
   "metadata": {},
   "outputs": [],
   "source": [
    "# Clean up organization names\n",
    "df_bc = utils.organization_cleaning(df_bc, \"organization_name\")"
   ]
  },
  {
   "cell_type": "code",
   "execution_count": null,
   "id": "7852ec66-df69-4d5d-ac21-dc5f3cd3f762",
   "metadata": {
    "scrolled": true,
    "tags": []
   },
   "outputs": [],
   "source": [
    "# df_bc[\"organization_name\"].sort_values().unique().tolist()"
   ]
  },
  {
   "cell_type": "markdown",
   "id": "90e5b76b-d1a6-477e-b436-be61ffa3d5ce",
   "metadata": {},
   "source": [
    "## Airtable - Transit Stacks, Service Components"
   ]
  },
  {
   "cell_type": "code",
   "execution_count": null,
   "id": "09938120-836a-41e9-8164-a03c6d467ae3",
   "metadata": {
    "scrolled": true,
    "tags": []
   },
   "outputs": [],
   "source": [
    "%%sql -o df_service_components\n",
    "SELECT \n",
    "  service_name,\n",
    "  product_name,\n",
    "  component_name,\n",
    "  service_key\n",
    "FROM cal-itp-data-infra.mart_transit_database.dim_service_components\n"
   ]
  },
  {
   "cell_type": "code",
   "execution_count": null,
   "id": "af7539c1-18ac-4524-95b1-6051a176465a",
   "metadata": {},
   "outputs": [],
   "source": [
    "# df_service_components[\"service_components_service_name\"].sort_values().unique()"
   ]
  },
  {
   "cell_type": "code",
   "execution_count": null,
   "id": "e63b6112-bcc4-4007-8e0c-2d0dfbafa4d5",
   "metadata": {},
   "outputs": [],
   "source": [
    "# Add prefix\n",
    "df_service_components = df_service_components.add_prefix(\"service_components_\")"
   ]
  },
  {
   "cell_type": "code",
   "execution_count": null,
   "id": "2ecb1d51-cb2e-436d-bc0b-7fd6b39b2754",
   "metadata": {},
   "outputs": [],
   "source": [
    "# Clean organization name\n",
    "df_service_components = utils.organization_cleaning(\n",
    "    df_service_components, \"service_components_service_name\"\n",
    ")"
   ]
  },
  {
   "cell_type": "code",
   "execution_count": null,
   "id": "f24e75c4-73d6-4b28-97d2-6216dc05ec67",
   "metadata": {
    "scrolled": true,
    "tags": []
   },
   "outputs": [],
   "source": [
    "# df_service_components[\"service_components_service_name\"].sort_values().unique().tolist()"
   ]
  },
  {
   "cell_type": "code",
   "execution_count": null,
   "id": "4a0e40c6-aa04-4bfc-b9e0-b892840321b2",
   "metadata": {},
   "outputs": [],
   "source": [
    "# Clean up Transit Stacks names to match blackcat\n",
    "df_service_components[\"service_components_service_name\"] = df_service_components[\n",
    "    \"service_components_service_name\"\n",
    "].replace(\n",
    "    {\n",
    "        \"Solano Express\": \"Solano Tranportation Authority\",\n",
    "        \"Santa Cruz METRO\": \"Santa Cruz Metropolitan Transit District\",\n",
    "        \"MTS Bus\": \"San Diego Metropolitan Transit System\",\n",
    "        \"VTA Bus\": \"Santa Clara Valley Transportation Authority\",\n",
    "        \"Redwood Coast Transit\": \"Redwood Coast Transit Authority\",\n",
    "        \"Mountain Transit\": \"Mountain Area Regional Transit Authority\",\n",
    "        \"Marin Transit\": \"Marin County Transit District\",\n",
    "        \"Visalia Transit\": \"City of Visalia\",\n",
    "        \"Lassen Rural Bus\": \"Lassen Transit Service Agency\",\n",
    "        \"Ojai Trolley\": \"City of Ojai\",\n",
    "        \"Siskiyou Transit and General Express\": \"County of Siskiyou\",\n",
    "        \"Madera County Connection\": \"Madera County\",\n",
    "        \"Tulare County Area Transit\": \"Tulare County Regional Transportation Agency\",\n",
    "        \"Trinity County Department of Transportation\": \"Trinity County Department of Transportation\",\n",
    "        \"Santa Maria Area Transit\": \"City of Santa Maria\",\n",
    "        \"Tuolumne County Transit Agency\": \"Tuolumne County Transit Agency\",\n",
    "        \"OmniTrans\": \"Omnitrans\",\n",
    "        \"Eastern Sierra Transit Authority Community Routes\": \"Eastern Sierra Transit Authority\",\n",
    "        \"Fresno County Rural Transit\": \"Fresno County Rural Transit Agency\",\n",
    "        \"El Dorado Transit\": \"El Dorado County Transit Authority\",\n",
    "        \"Palos Verdes Peninsula Transit Authority\": \"Palo Verde Valley Transit Agency\",\n",
    "        \"Kern Transit\": \"Kern Regional Transit\",\n",
    "        \"Riverside Transit Agency\": \"Riverside Transit\",\n",
    "        \"Tuolumne County Transit\": \"Tuolumne County Transit Agency\",\n",
    "        \"Yuba-Sutter Transit\": \"Yuba-Sutter Transit Authority\",\n",
    "        \"County of Sonoma\": \"Sonoma County Transit\",\n",
    "        \"SunLine Transit\": \"Sunline Transit Agency\",\n",
    "        \"Trinity Transit\": \"Trinity County Department of Transportation\",\n",
    "        \"Yuba-Sutter Transit\": \"Yuba-Sutter Transit Authority\",\n",
    "    }\n",
    ")"
   ]
  },
  {
   "cell_type": "markdown",
   "id": "cbbff78b-3098-4e62-a9c8-5bb90300d5f4",
   "metadata": {},
   "source": [
    "#### To make things a little clearer: have 2 columns for fare related products/comps and 2 columns for CAD/AVL related products/comps"
   ]
  },
  {
   "cell_type": "code",
   "execution_count": null,
   "id": "3028fd1d-ca31-4f76-847c-bdb2e3a41579",
   "metadata": {},
   "outputs": [],
   "source": [
    "# List of fare\n",
    "fare_comps = [\n",
    "    \"Mobile ticketing\",\n",
    "    \"Cash Farebox\",\n",
    "    \"Fare card system\",\n",
    "    \"Ticket Vending Machines\",\n",
    "    \"Contactless Payment Validators\",\n",
    "    \"Payment processor\",\n",
    "]"
   ]
  },
  {
   "cell_type": "code",
   "execution_count": null,
   "id": "604bd929-f44e-46bd-8e29-99facd445b73",
   "metadata": {},
   "outputs": [],
   "source": [
    "# Subset dataframe for fare related components\n",
    "# This function grabs all the different components/products a company purchases and places it on one line.\n",
    "df_fare_comps = utils.service_comps_summarize(df_service_components, fare_comps)"
   ]
  },
  {
   "cell_type": "code",
   "execution_count": null,
   "id": "a0ab5990-13f7-4786-9ecd-7689ac546121",
   "metadata": {},
   "outputs": [],
   "source": [
    "df_fare_comps = df_fare_comps.rename(\n",
    "    columns={\n",
    "        \"service_components_component_name\": \"service_components_fare_component\",\n",
    "        \"service_components_product_name\": \"service_components_fare_product\",\n",
    "    }\n",
    ")"
   ]
  },
  {
   "cell_type": "code",
   "execution_count": null,
   "id": "3887da61-d1c7-44c9-9089-4b6b587a6e3b",
   "metadata": {},
   "outputs": [],
   "source": [
    "# Subset out for CAD/AVL\n",
    "cad_avl_comps = [\n",
    "    \"AVL Software\",\n",
    "    \"Location Sensors\",\n",
    "    \"AVL On-board Computer\",\n",
    "]"
   ]
  },
  {
   "cell_type": "code",
   "execution_count": null,
   "id": "c412ecb0-98c2-426d-96f2-8630933dfe9c",
   "metadata": {},
   "outputs": [],
   "source": [
    "# Subset dataframe for cad/avl\n",
    "df_cad_avl = utils.service_comps_summarize(df_service_components, cad_avl_comps)"
   ]
  },
  {
   "cell_type": "code",
   "execution_count": null,
   "id": "e355a2e6-602b-458e-8b90-4a3880231e82",
   "metadata": {},
   "outputs": [],
   "source": [
    "df_cad_avl = df_cad_avl.rename(\n",
    "    columns={\n",
    "        \"service_components_component_name\": \"service_components_AVL_CAD_component\",\n",
    "        \"service_components_product_name\": \"service_components_AVL_CAD_product\",\n",
    "    }\n",
    ")"
   ]
  },
  {
   "cell_type": "code",
   "execution_count": null,
   "id": "7930bc55-6a0f-4892-b33b-bed64b272bf3",
   "metadata": {},
   "outputs": [],
   "source": [
    "df_cad_avl[\"service_components_service_name\"].nunique(), df_fare_comps[\n",
    "    \"service_components_service_name\"\n",
    "].nunique()"
   ]
  },
  {
   "cell_type": "markdown",
   "id": "cc03eadc-1f51-4b86-a9f8-9b5c1dfc9ddf",
   "metadata": {},
   "source": [
    "### Merge Fare Components with Black Cat: M1"
   ]
  },
  {
   "cell_type": "code",
   "execution_count": null,
   "id": "218189bf-0ecf-4f8c-9134-097b1571a2b9",
   "metadata": {},
   "outputs": [],
   "source": [
    "# Merge transit stacks with BC\n",
    "m1 = pd.merge(\n",
    "    df_bc,\n",
    "    df_fare_comps,\n",
    "    how=\"left\",\n",
    "    left_on=[\"organization_name\"],\n",
    "    right_on=[\"service_components_service_name\"],\n",
    ")"
   ]
  },
  {
   "cell_type": "code",
   "execution_count": null,
   "id": "aeb0206a-ebc2-4983-9a99-91760d01031f",
   "metadata": {},
   "outputs": [],
   "source": [
    "m1.shape"
   ]
  },
  {
   "cell_type": "code",
   "execution_count": null,
   "id": "fa278dc4-2b5b-40bb-a599-fdd7fc86b8fe",
   "metadata": {},
   "outputs": [],
   "source": [
    "len(m1)"
   ]
  },
  {
   "cell_type": "code",
   "execution_count": null,
   "id": "98928a51-a27c-4c77-ab16-dcf7a3e7a3cb",
   "metadata": {},
   "outputs": [],
   "source": [
    "m1 = m1.drop(columns=[\"service_components_service_name\"])"
   ]
  },
  {
   "cell_type": "markdown",
   "id": "fa1fc175-79e6-461a-b1d9-1030efb2fc42",
   "metadata": {},
   "source": [
    "### Merge AVL/CAD Components "
   ]
  },
  {
   "cell_type": "code",
   "execution_count": null,
   "id": "c67db847-a864-45c8-b2f5-c0faa3fcbce6",
   "metadata": {},
   "outputs": [],
   "source": [
    "# Merge BC with fare info along with AVL/CAD info\n",
    "m1 = pd.merge(\n",
    "    m1,\n",
    "    df_cad_avl,\n",
    "    how=\"left\",\n",
    "    left_on=[\"organization_name\"],\n",
    "    right_on=[\"service_components_service_name\"],\n",
    ")"
   ]
  },
  {
   "cell_type": "code",
   "execution_count": null,
   "id": "a5f29304-6aba-4b8f-b271-1a715a01e507",
   "metadata": {},
   "outputs": [],
   "source": [
    "# Merge in service keys which got lost somewhere...\n",
    "m1 = pd.merge(\n",
    "    m1,\n",
    "    df_service_components,\n",
    "    how=\"left\",\n",
    "    on=\"service_components_service_name\",\n",
    ")"
   ]
  },
  {
   "cell_type": "code",
   "execution_count": null,
   "id": "49dcd8b5-04b3-473e-8d4a-2eb986db6902",
   "metadata": {},
   "outputs": [],
   "source": [
    "m1 = m1.drop(\n",
    "    columns=[\n",
    "        \"service_components_service_name\",\n",
    "        \"service_components_component_name\",\n",
    "        \"service_components_product_name\",\n",
    "    ]\n",
    ")"
   ]
  },
  {
   "cell_type": "code",
   "execution_count": null,
   "id": "ffeec8cc-d4c2-4bdf-bb41-188e5b8f317f",
   "metadata": {
    "scrolled": true,
    "tags": []
   },
   "outputs": [],
   "source": [
    "m1 = m1.drop_duplicates()"
   ]
  },
  {
   "cell_type": "code",
   "execution_count": null,
   "id": "febab4a7-d074-4cdb-a808-fa7ba2fe9939",
   "metadata": {},
   "outputs": [],
   "source": [
    "m1.shape"
   ]
  },
  {
   "cell_type": "markdown",
   "id": "117e2e76-6478-457a-bd3c-c3907303b3ae",
   "metadata": {},
   "source": [
    "## Airtable - Fare Systems \n",
    "* Using CSV for now since the table isn't in the warehouse yet."
   ]
  },
  {
   "cell_type": "code",
   "execution_count": null,
   "id": "1fab1876-4fd0-467d-a333-2a7a27b66b9a",
   "metadata": {},
   "outputs": [],
   "source": [
    "\"\"\"\n",
    "df_fare = to_snakecase(\n",
    "    pd.read_csv(\n",
    "        \"gs://calitp-analytics-data/data-analyses/5311-5310/fare systems-Grid view.csv\"\n",
    "    )\n",
    ")\n",
    "\"\"\""
   ]
  },
  {
   "cell_type": "code",
   "execution_count": null,
   "id": "78727855-9a02-4b17-8d2e-7b109eaa5c21",
   "metadata": {
    "scrolled": true,
    "tags": []
   },
   "outputs": [],
   "source": [
    "%%sql -o df_fare\n",
    "SELECT \n",
    "  fare_system,\n",
    "  electronic_fare_program,\n",
    "  ticket_media, \n",
    "  payment_accepted\n",
    "FROM cal-itp-data-infra.mart_transit_database.dim_fare_systems"
   ]
  },
  {
   "cell_type": "code",
   "execution_count": null,
   "id": "04d82e25-8a99-45b1-992d-20e4479c9fe4",
   "metadata": {},
   "outputs": [],
   "source": [
    "# Only grab columns I'm interested in\n",
    "cols_wanted = [\n",
    "    \"fare_system\",\n",
    "    \"electronic_fare_program\",\n",
    "    \"ticket_media\",\n",
    "    \"payment_accepted\",\n",
    "]"
   ]
  },
  {
   "cell_type": "code",
   "execution_count": null,
   "id": "645f1b38-d52b-4ebe-bd75-04c1c1dcdbed",
   "metadata": {},
   "outputs": [],
   "source": [
    "# Subset dataframe\n",
    "df_fare2 = df_fare[cols_wanted]"
   ]
  },
  {
   "cell_type": "code",
   "execution_count": null,
   "id": "b53a6893-a8dd-41f6-b84d-b19568ed693c",
   "metadata": {},
   "outputs": [],
   "source": [
    "# Keep only the rows with at least 2 non-NA values.\n",
    "df_fare3 = df_fare2.dropna(thresh=2)"
   ]
  },
  {
   "cell_type": "code",
   "execution_count": null,
   "id": "118fa613-98a8-4401-9573-43525b0cef78",
   "metadata": {},
   "outputs": [],
   "source": [
    "# Compare the two dataframes\n",
    "df_fare2.shape, df_fare3.shape"
   ]
  },
  {
   "cell_type": "code",
   "execution_count": null,
   "id": "2cbf196c-4d2a-41fa-9a63-f3cc63dbf3b1",
   "metadata": {},
   "outputs": [],
   "source": [
    "# Add prefix\n",
    "df_fare3 = df_fare3.add_prefix(\"fare_systems_\")"
   ]
  },
  {
   "cell_type": "code",
   "execution_count": null,
   "id": "60df6e99-279c-4af0-b981-d329f2a46b36",
   "metadata": {},
   "outputs": [],
   "source": [
    "# Clean organization name\n",
    "df_fare3 = utils.organization_cleaning(df_fare3, \"fare_systems_fare_system\")"
   ]
  },
  {
   "cell_type": "code",
   "execution_count": null,
   "id": "d1409d3a-be5b-49f1-acb8-74287fe5c4d4",
   "metadata": {
    "scrolled": true,
    "tags": []
   },
   "outputs": [],
   "source": [
    "# df_fare3[\"fare_systems_fare_system\"].sort_values().unique().tolist()"
   ]
  },
  {
   "cell_type": "code",
   "execution_count": null,
   "id": "16034a44-f302-4910-a609-afe5daf5e728",
   "metadata": {},
   "outputs": [],
   "source": [
    "# Clean up names to match Fare Systems\n",
    "df_fare3[\"fare_systems_fare_system\"] = df_fare3[\"fare_systems_fare_system\"].replace(\n",
    "    {\n",
    "        \"Arcata and Mad River Transit System\": \"City of Arcata\",\n",
    "        \"Arvin Transit\": \"City of Arvin\",\n",
    "        \"Auburn Transit\": \"City of Arvin\",\n",
    "        \"Guadalupe Flyer\": \"City of Guadalupe\",\n",
    "        \"Plumas Transit Systems\": \"Plumas County Transportation Commission\",\n",
    "        \"Ojai Trolley\": \"City of Ojai\",\n",
    "        \"Needles Area Transit\": \"City of Needles\",\n",
    "        \"Porterville Transit\": \"City of Porterville\",\n",
    "        \"Ridgecrest Transit\": \"City of Ridgecrest\",\n",
    "        \"Rio Vista Delta Breeze\": \"City of Rio Vista\",\n",
    "        \"Madera County Connection\": \"Madera County\",\n",
    "        \"SolTrans\": \"Solano Tranportation Authority\",\n",
    "        \"Siskiyou Transit and General Express\": \"County of Siskiyou\",\n",
    "        \"Mountain Transit\": \"Mountain Area Regional Transit Authority\",\n",
    "        \"Plumas Transit Systems\": \"Plumas County Transportation Commission\",\n",
    "        \"San Benito County Express\": \"San Benito County Local Transportation Authority\",\n",
    "        \"Sage Stage\": \"Modoc Transportation Agency\",\n",
    "        \"Vine Transit\": \"Napa Valley Transportation Authority\",\n",
    "        \"San Diego Metropolitan Transit System\": \"San Diego Metropolitan Transit System\",\n",
    "        \"Stanislaus Regional Transit\": \"Stanislaus Regional Transit Authority\",\n",
    "        \"Amador Regional Transit System\": \"Amador Transit\",\n",
    "        \"Calaveras Transit Agency\": \"Calaveras Transit\",\n",
    "        \"Eastern Sierra Transit Authority\": \"Eastern Sierra Transit Authority Community Routes\",\n",
    "        \"Fresno County Rural Transit Agency\": \"Fresno County Rural Transit\",\n",
    "        \"Marin Transit\": \"Marin County Transit District\",\n",
    "        \"Redding Area Bus Authority\": \"Redwood Coast Transit Authority\",\n",
    "        \"SunLine Transit Agency\": \"Sunline Transit Agency\",\n",
    "        \"Victor Valley Transit\": \"Victor Valley Transit Authority\",\n",
    "        \"Yolobus\": \"Yolo County Transportation District\",\n",
    "        \"Corona Cruiser\": \"City of Corcoran - Corcoran Area Transit\",\n",
    "        \"Dinuba Area Regional Transit\": \"City of Dinuba\",\n",
    "        \"Eastern Sierra Transit Authority Community Routes\": \"El Dorado County Transit Authority\",\n",
    "        \"El Dorado Transit\": \"El Dorado County Transit Authority\",\n",
    "        \"Fresno County Rural Transit\": \"Fresno County Rural Transit Agency\",\n",
    "        \"Glenn Transit Service\": \"Glenn County Transportation Commission\",\n",
    "        \"Kern Transit\": \"Kern Regional Transit\",\n",
    "        \"Lake Transit\": \"Lake Transit Authority\",\n",
    "        \"Merced The Bus\": \"Transit Joint Powers Authority for Merced County\",\n",
    "        \"OmniTrans\": \"Omnitrans\",\n",
    "        \"Yolo County Transportation District\": \"Yolo County Transportation District\",\n",
    "        \"Visalia Transit\": \"City of Visalia\",\n",
    "    }\n",
    ")"
   ]
  },
  {
   "cell_type": "code",
   "execution_count": null,
   "id": "d8fd6e82-9b92-4396-b7c7-4926eba4fcb9",
   "metadata": {
    "scrolled": true,
    "tags": []
   },
   "outputs": [],
   "source": [
    "# df_fare3.sort_values('fare_systems_fare_system')"
   ]
  },
  {
   "cell_type": "markdown",
   "id": "428a52f4-9c9e-455a-983a-c63681f6fa0c",
   "metadata": {},
   "source": [
    "#### Merge 2: Fare-Systems with BlackCat/Transit Stacks"
   ]
  },
  {
   "cell_type": "code",
   "execution_count": null,
   "id": "dc4f108f-683d-4376-b308-321b485129c2",
   "metadata": {},
   "outputs": [],
   "source": [
    "# Merge faresystems with m1\n",
    "m2 = pd.merge(\n",
    "    m1,\n",
    "    df_fare3,\n",
    "    how=\"left\",\n",
    "    left_on=[\"organization_name\"],\n",
    "    right_on=[\"fare_systems_fare_system\"],\n",
    "    indicator=True,\n",
    ")"
   ]
  },
  {
   "cell_type": "code",
   "execution_count": null,
   "id": "f6b92036-1603-4cbe-bd72-973a80e867fc",
   "metadata": {
    "tags": []
   },
   "outputs": [],
   "source": [
    "m2[\"_merge\"].value_counts()"
   ]
  },
  {
   "cell_type": "code",
   "execution_count": null,
   "id": "4470e879",
   "metadata": {
    "scrolled": true,
    "tags": []
   },
   "outputs": [],
   "source": [
    "# Drop unwanted cols\n",
    "m2 = m2.drop(columns=[\"fare_systems_fare_system\", \"_merge\"])"
   ]
  },
  {
   "cell_type": "code",
   "execution_count": null,
   "id": "f18cc735-b628-45c6-80be-14fac0a5b1a6",
   "metadata": {},
   "outputs": [],
   "source": [
    "len(m2)"
   ]
  },
  {
   "cell_type": "code",
   "execution_count": null,
   "id": "2d51f316-b14b-4af8-87a1-148dd5c20c87",
   "metadata": {
    "scrolled": true,
    "tags": []
   },
   "outputs": [],
   "source": [
    "# m2.sort_values(\"organization_name\")"
   ]
  },
  {
   "cell_type": "markdown",
   "id": "7adaa5bd-d76e-441b-8d5a-fd01ad2aab73",
   "metadata": {},
   "source": [
    "## Airtable - Service Types & GTFS Status\n",
    "* Bring in organizations table\n",
    "* Merge it with bridge table\n",
    "* Take the merge from above (Black Cat + transit stacks + fare systems) and merge it with services table\n",
    "* Now the merge has multiple rows for the same organization, as an organization can run multiple services\n",
    "* Take the merge and aggregate, so only one organization will have one row\n"
   ]
  },
  {
   "cell_type": "markdown",
   "id": "b84d85d9-3e6d-40bb-af1b-3197f4bf6adf",
   "metadata": {},
   "source": [
    "### Airtable - Organizations"
   ]
  },
  {
   "cell_type": "code",
   "execution_count": null,
   "id": "c5d3ba6a-71bf-439f-b3cb-98541fc43e59",
   "metadata": {
    "scrolled": true,
    "tags": []
   },
   "outputs": [],
   "source": [
    "%%sql -o df_orgs\n",
    "SELECT \n",
    "  CAST(itp_id AS INT) AS itp_id,\n",
    "  name,\n",
    "  gtfs_realtime_status,\n",
    "  key\n",
    "FROM cal-itp-data-infra.mart_transit_database.dim_organizations"
   ]
  },
  {
   "cell_type": "code",
   "execution_count": null,
   "id": "94f765da-934a-4cc3-b2ae-c27623df0716",
   "metadata": {},
   "outputs": [],
   "source": [
    "# Clean up org names\n",
    "df_orgs = utils.organization_cleaning(df_orgs, \"name\")"
   ]
  },
  {
   "cell_type": "code",
   "execution_count": null,
   "id": "5f9a4f75-e84e-49b8-b114-58db9897f673",
   "metadata": {},
   "outputs": [],
   "source": [
    "# Add prefix\n",
    "df_orgs = df_orgs.add_prefix(\"airtable_orgs_\")"
   ]
  },
  {
   "cell_type": "code",
   "execution_count": null,
   "id": "b4bf997b-8eae-4bc3-bbce-3e32742e6611",
   "metadata": {
    "scrolled": true,
    "tags": []
   },
   "outputs": [],
   "source": [
    "# df_orgs[\"airtable_orgs_name\"].sort_values().unique().tolist()"
   ]
  },
  {
   "cell_type": "code",
   "execution_count": null,
   "id": "6da5ef5f-3d84-455a-a393-a3d6859ba62d",
   "metadata": {},
   "outputs": [],
   "source": [
    "# Clean up names to match m2\n",
    "df_orgs[\"airtable_orgs_name\"] = df_orgs[\"airtable_orgs_name\"].replace(\n",
    "    {\n",
    "        \"City of Tulare\": \"Tulare County Regional Transportation Agency\",\n",
    "        \"Glenn County\": \"Glenn County Transportation Commission\",\n",
    "        \"Plumas County\": \"Plumas County Transportation Commission\",\n",
    "        \"Solano County Transit\": \"Solano Tranportation Authority\",\n",
    "        \"Sonoma County\": \"Sonoma County Transit\",\n",
    "        \"Trinity County\": \"Trinity County Department of Transportation\",\n",
    "        \"SunLine Transit Agency\": \"Sunline Transit Agency\",\n",
    "        \"OmniTrans\": \"Omnitrans\",\n",
    "        \"Lutheran Social Services\": \"Lutheran Social Services of Southern California\",\n",
    "        \"Marin County Transit District\": \"Marin Transit\",\n",
    "        \"Greyhound\": \"Greyhound Lines\",\n",
    "        \"Calaveras County\": \"Calaveras Transit Agency\",\n",
    "        \"Dignity Health\": \"Dignity Health Connected Living\",\n",
    "        \"Butte County Association of Governments\": \"Butte County Association of Governments Butte Regional Transit\",\n",
    "        \"City of Corcoran\": \"City of Corcoran - Corcoran Area Transit\",\n",
    "        \"City of Lafayette\": \"City of Lafayette: Lamorinda Sprit Van Program\",\n",
    "        \"Sonoma County\": \"County of Sonoma\",\n",
    "        \"Siskiyou County\": \"County of Siskiyou\",\n",
    "        \"Tulare County\": \"Tulare County Regional Transportation Agency\",\n",
    "        \"Nevada County\": \"County of Nevada Public Works\",\n",
    "        \"Shasta County\": \"County of Shasta Department of Public Works\",\n",
    "        \"El Dorado County Transit Authority\": \"El Dorado Transit\",\n",
    "        \"Klamath Trinity Non-Emergency Transportation\": \"Klamath Trinity Non-Emergency Transportation\\u200b\",\n",
    "        \"Livermore  Amador\\n  Valley Transit Authority\": \"Livermore Amador Valley Transit Authority\",\n",
    "        \"Marin Transit\": \"Marin County Transit District\",\n",
    "        \"Modoc Transportation Authority\": \"Modoc Transportation Agency\",\n",
    "        \"On Lok\": \"On Lok Senior Health Services\",\n",
    "        \"Placer County\": \"Placer County Public Works \",\n",
    "        \"Stanislaus County\": \"Stanislaus County Public Works - Transit Division\",\n",
    "        \"Tehama County\": \"Tehama County Transit Agency\",\n",
    "        \"Tuolumne County Transit Agency\": \"Tuolumne County Transit\",\n",
    "        \"Victor Valley Transit Authority\": \"Victor Valley Transit\",\n",
    "        \"Vivalon Inc.\": \"Vivalon\",\n",
    "        \"Yurok Tribe\": \"Yurok Tribe Transit\",\n",
    "        \"Amador County\": \"Amador Transit\",\n",
    "    }\n",
    ")"
   ]
  },
  {
   "cell_type": "code",
   "execution_count": null,
   "id": "c5ea1850-b4f0-4080-9df2-c845a9014762",
   "metadata": {},
   "outputs": [],
   "source": [
    "# df_orgs.sort_values('airtable_orgs_name')"
   ]
  },
  {
   "cell_type": "code",
   "execution_count": null,
   "id": "61e27121-a1fe-4eeb-a7fa-9b2547f1e2f6",
   "metadata": {},
   "outputs": [],
   "source": [
    "# Make sure each row is unique\n",
    "len(df_orgs), df_orgs[\"airtable_orgs_key\"].nunique()"
   ]
  },
  {
   "cell_type": "markdown",
   "id": "c807daea-aad5-4da2-80ca-1703394f1812",
   "metadata": {
    "tags": []
   },
   "source": [
    "### Airtable - Bridge"
   ]
  },
  {
   "cell_type": "code",
   "execution_count": null,
   "id": "6ba14e3e-cb64-46a4-8fb2-77755310268f",
   "metadata": {
    "scrolled": true,
    "tags": []
   },
   "outputs": [],
   "source": [
    "%%sql -o df_bridge\n",
    "SELECT \n",
    "  service_key,\n",
    "  service_name,\n",
    "  organization_name,\n",
    "  organization_key\n",
    "FROM cal-itp-data-infra.mart_transit_database.bridge_organizations_x_services_managed"
   ]
  },
  {
   "cell_type": "code",
   "execution_count": null,
   "id": "f00b74f8-d999-4675-8074-f14eefa9b1ba",
   "metadata": {},
   "outputs": [],
   "source": [
    "# Add prefix\n",
    "df_bridge = df_bridge.add_prefix(\"airtable_bridge_\")"
   ]
  },
  {
   "cell_type": "markdown",
   "id": "1e1f2a01-442d-4b74-91dd-ce0dc982e317",
   "metadata": {},
   "source": [
    "#### Merge df_orgs with df_bridge "
   ]
  },
  {
   "cell_type": "code",
   "execution_count": null,
   "id": "b2b14606-14ed-47ca-9a90-88b8c8aa6df9",
   "metadata": {},
   "outputs": [],
   "source": [
    "# 1:m since one org can have many services\n",
    "airtable1 = pd.merge(\n",
    "    df_orgs,\n",
    "    df_bridge,\n",
    "    how=\"left\",\n",
    "    left_on=[\"airtable_orgs_key\"],\n",
    "    right_on=[\"airtable_bridge_organization_key\"],\n",
    "    validate=\"1:m\",\n",
    ")"
   ]
  },
  {
   "cell_type": "code",
   "execution_count": null,
   "id": "2b441408-4e93-40ca-9498-15cce27aa427",
   "metadata": {},
   "outputs": [],
   "source": [
    "len(airtable1)"
   ]
  },
  {
   "cell_type": "code",
   "execution_count": null,
   "id": "36410ac1-94f7-4a3d-9667-d6990627ba60",
   "metadata": {},
   "outputs": [],
   "source": [
    "airtable1.head(2)"
   ]
  },
  {
   "cell_type": "markdown",
   "id": "607af776-8dff-42a0-9b94-94d71926aef9",
   "metadata": {},
   "source": [
    "### Airtable - California Services"
   ]
  },
  {
   "cell_type": "code",
   "execution_count": null,
   "id": "953cb282-ae68-4a08-9e97-37b578b4a0ae",
   "metadata": {
    "scrolled": true,
    "tags": []
   },
   "outputs": [],
   "source": [
    "%%sql -o df_services\n",
    "SELECT \n",
    "  name,\n",
    "  service_type,\n",
    "  key\n",
    "FROM cal-itp-data-infra.mart_transit_database.dim_services"
   ]
  },
  {
   "cell_type": "code",
   "execution_count": null,
   "id": "e8ca9a50-ac3e-4beb-b5ca-a77f6e4dfc82",
   "metadata": {},
   "outputs": [],
   "source": [
    "# Add prefix\n",
    "df_services = df_services.add_prefix(\"airtable_services_\")"
   ]
  },
  {
   "cell_type": "code",
   "execution_count": null,
   "id": "a8f2b9db-13f2-4295-8693-c8d2f8a586dc",
   "metadata": {},
   "outputs": [],
   "source": [
    "# https://stackoverflow.com/questions/64795187/pandas-dataframe-possible-to-remove-list-formatting-from-values-inside\n",
    "# Turn service_type column into just regular values, not a list\n",
    "df_services[\n",
    "    \"airtable_services_service_type\"\n",
    "] = df_services.airtable_services_service_type.str.join(\",\")"
   ]
  },
  {
   "cell_type": "code",
   "execution_count": null,
   "id": "bfcc8166-4d7f-4177-9240-d1f588ac1348",
   "metadata": {},
   "outputs": [],
   "source": [
    "df_services.head(2)"
   ]
  },
  {
   "cell_type": "markdown",
   "id": "a3da5dfd-6ac1-4e69-8b31-ef9e339dd147",
   "metadata": {},
   "source": [
    "#### Merge table with services type with bridge-organization dataframe"
   ]
  },
  {
   "cell_type": "code",
   "execution_count": null,
   "id": "4e71285b-4d1f-410b-abca-7845ae121895",
   "metadata": {},
   "outputs": [],
   "source": [
    "# Merge\n",
    "airtable2 = pd.merge(\n",
    "    airtable1,\n",
    "    df_services,\n",
    "    how=\"left\",\n",
    "    left_on=[\"airtable_bridge_service_key\"],\n",
    "    right_on=[\"airtable_services_key\"],\n",
    ")"
   ]
  },
  {
   "cell_type": "code",
   "execution_count": null,
   "id": "072b14ac-5b83-485c-9b45-dd5ceeaf3f69",
   "metadata": {},
   "outputs": [],
   "source": [
    "airtable2.shape"
   ]
  },
  {
   "cell_type": "code",
   "execution_count": null,
   "id": "f3e8aa9e-019f-41a1-8bd0-9a6359d3e021",
   "metadata": {
    "scrolled": true,
    "tags": []
   },
   "outputs": [],
   "source": [
    "# Group the merged dataframe to summarize it down\n",
    "airtable_group = (\n",
    "    airtable2.groupby(\n",
    "        [\n",
    "            \"airtable_orgs_name\",\n",
    "            \"airtable_orgs_gtfs_realtime_status\",\n",
    "            \"airtable_services_service_type\",\n",
    "        ]\n",
    "    )\n",
    "    .agg(\n",
    "        {\n",
    "            \"airtable_services_key\": \"max\",\n",
    "            \"airtable_orgs_itp_id\": \"max\",\n",
    "            \"airtable_orgs_key\": \"max\",\n",
    "        }\n",
    "    )\n",
    "    .reset_index()\n",
    ")"
   ]
  },
  {
   "cell_type": "code",
   "execution_count": null,
   "id": "20156e2a-465d-476c-8a02-0ffa7313a391",
   "metadata": {},
   "outputs": [],
   "source": [
    "airtable_group.shape"
   ]
  },
  {
   "cell_type": "code",
   "execution_count": null,
   "id": "1327cb44-f60e-4d38-a1d2-350190ab433b",
   "metadata": {
    "scrolled": true,
    "tags": []
   },
   "outputs": [],
   "source": [
    "# An organization can have many different services, thus have many dfiferent services types but these are all split among different rows\n",
    "# Put all elements onto one line, so each org will only have one row instead of multiple ones\n",
    "airtable_group2 = utils.summarize_rows(\n",
    "    airtable_group, \"airtable_orgs_name\", \"airtable_services_service_type\"\n",
    ")"
   ]
  },
  {
   "cell_type": "code",
   "execution_count": null,
   "id": "0765f03b-94ae-481a-aff1-f14bf82e5a46",
   "metadata": {},
   "outputs": [],
   "source": [
    "# Merge grouped df together to get service key again\n",
    "airtable_group3 = pd.merge(\n",
    "    airtable_group,\n",
    "    airtable_group2,\n",
    "    how=\"left\",\n",
    "    left_on=[\"airtable_orgs_name\"],\n",
    "    right_on=[\"airtable_orgs_name\"],\n",
    ")"
   ]
  },
  {
   "cell_type": "code",
   "execution_count": null,
   "id": "b4ae0de5-92f3-4eac-b6a9-c473440dfce4",
   "metadata": {
    "scrolled": true,
    "tags": []
   },
   "outputs": [],
   "source": [
    "# Drop the disaggregated service type\n",
    "airtable_group3 = airtable_group3.drop(columns=[\"airtable_services_service_type_x\"])"
   ]
  },
  {
   "cell_type": "code",
   "execution_count": null,
   "id": "c8ab7597-c483-4ee3-9238-0ab84a1fbc5d",
   "metadata": {
    "scrolled": true,
    "tags": []
   },
   "outputs": [],
   "source": [
    "airtable_group3 = airtable_group3.drop_duplicates(subset=[\"airtable_orgs_name\"])"
   ]
  },
  {
   "cell_type": "code",
   "execution_count": null,
   "id": "f68439ec-b019-4103-be77-0d9179d35149",
   "metadata": {},
   "outputs": [],
   "source": [
    "airtable_group3.shape, airtable_group3[\"airtable_orgs_name\"].nunique()"
   ]
  },
  {
   "cell_type": "code",
   "execution_count": null,
   "id": "46595b85-09da-4c2b-bf31-90e6289ffec7",
   "metadata": {
    "scrolled": true,
    "tags": []
   },
   "outputs": [],
   "source": [
    "airtable_group3[\n",
    "    [\n",
    "        \"airtable_orgs_name\",\n",
    "        \"airtable_orgs_gtfs_realtime_status\",\n",
    "        \"airtable_orgs_itp_id\",\n",
    "        \"airtable_services_service_type_y\",\n",
    "    ]\n",
    "].sort_values(\"airtable_orgs_name\")"
   ]
  },
  {
   "cell_type": "markdown",
   "id": "70c2136a-bca1-4e5a-8c7a-14dd18573804",
   "metadata": {},
   "source": [
    "## Merge Airtable DF from above with M2 (BlackCat & Fare-Systems)\n",
    "* Maybe try with service key later too?"
   ]
  },
  {
   "cell_type": "code",
   "execution_count": null,
   "id": "02af179c-395b-4b8e-96b6-36a8ce950d96",
   "metadata": {},
   "outputs": [],
   "source": [
    "m3 = pd.merge(\n",
    "    m2,\n",
    "    airtable_group3,\n",
    "    how=\"left\",\n",
    "    left_on=[\"organization_name\"],\n",
    "    right_on=[\"airtable_orgs_name\"],\n",
    "    indicator=True,\n",
    ")"
   ]
  },
  {
   "cell_type": "code",
   "execution_count": null,
   "id": "50f91aef-8c3f-4d79-9ed1-dcab7efa7bd7",
   "metadata": {},
   "outputs": [],
   "source": [
    "m3[\"_merge\"].value_counts()"
   ]
  },
  {
   "cell_type": "code",
   "execution_count": null,
   "id": "564ec6a7-5f9a-4282-a59f-a3f8becdc56c",
   "metadata": {
    "scrolled": true,
    "tags": []
   },
   "outputs": [],
   "source": [
    "# left_only = m3.loc[m3[\"_merge\"] == \"left_only\"]\n",
    "# left_only[\"organization_name\"].sort_values().unique().tolist()"
   ]
  },
  {
   "cell_type": "code",
   "execution_count": null,
   "id": "5d404afe-1ccd-49d7-b579-4e160da74072",
   "metadata": {
    "scrolled": true,
    "tags": []
   },
   "outputs": [],
   "source": [
    "\"\"\"\n",
    "m3[[\"organization_name\", \"airtable_orgs_name\", \"_merge\"]].sort_values(\n",
    "    \"organization_name\"\n",
    ")\n",
    "\"\"\""
   ]
  },
  {
   "cell_type": "markdown",
   "id": "3f052650-46fe-48c5-9c60-2de77dbcc514",
   "metadata": {},
   "source": [
    "## NTD "
   ]
  },
  {
   "cell_type": "code",
   "execution_count": null,
   "id": "80519e58-04bd-455c-b4dc-8b783dd9bef9",
   "metadata": {},
   "outputs": [],
   "source": [
    "df_vehicles = utils.clean_vehicles_data()"
   ]
  },
  {
   "cell_type": "code",
   "execution_count": null,
   "id": "d4bd8cf1-c307-408d-83ec-8c04df69683d",
   "metadata": {},
   "outputs": [],
   "source": [
    "# Add prefix\n",
    "df_vehicles = df_vehicles.add_prefix(\"ntd_\")"
   ]
  },
  {
   "cell_type": "code",
   "execution_count": null,
   "id": "e5aa7408-9912-40be-b30d-2a8d93f9198e",
   "metadata": {},
   "outputs": [],
   "source": [
    "# Keep certain cols\n",
    "df_vehicles2 = df_vehicles[[\"ntd_agency\", \"ntd_total_vehicles\"]]"
   ]
  },
  {
   "cell_type": "code",
   "execution_count": null,
   "id": "ee6a966e-e544-4128-8897-d749a3538459",
   "metadata": {},
   "outputs": [],
   "source": [
    "# Clean organization name\n",
    "df_vehicles2 = utils.organization_cleaning(df_vehicles2, \"ntd_agency\")"
   ]
  },
  {
   "cell_type": "code",
   "execution_count": null,
   "id": "4cf15807-2a9b-4e7f-b697-59b0e7a852e4",
   "metadata": {
    "tags": []
   },
   "outputs": [],
   "source": [
    "# Keep everything before dba\n",
    "df_vehicles2[\"ntd_agency\"] = df_vehicles2[\"ntd_agency\"].str.split(\"dba: \").str[-1]"
   ]
  },
  {
   "cell_type": "code",
   "execution_count": null,
   "id": "f0e773a0-f8ed-4dbe-861e-d9bf676ab043",
   "metadata": {},
   "outputs": [],
   "source": [
    "# Clean up names to match M3\n",
    "df_vehicles2[\"ntd_agency\"] = df_vehicles2[\"ntd_agency\"].replace(\n",
    "    {\n",
    "        \"Butte County Association of Governments\": \"Butte County Association of Governments Butte Regional Transit\",\n",
    "        \"Calaveras Transit Agency\": \"Calaveras Transit\",\n",
    "        \"Wasco\": \"City of Wasco\",\n",
    "        \"Tulare County Area Transit\": \"Tulare County Regional Transportation Agency\",\n",
    "        \"El Dorado County Transit Authority\": \"El Dorado Transit\",\n",
    "        \"Glenn Transit Service\": \"Glenn County Transportation Commission\",\n",
    "        \"Kern Transit\": \"Kern Regional Transit\",\n",
    "        \"Marin Transit\": \"Marin County Transit District\",\n",
    "        \"OmniTrans\": \"Omnitrans\",\n",
    "        \"Riverside Transit\": \"Riverside Transit Agency\",\n",
    "        \"Stanislaus County\": \"Stanislaus County Public Works - Transit Division\",\n",
    "        \"Tehama County\": \"Tehama County Transit Agency\",\n",
    "        \"Transit Joint Powers Authority for Merced County\": \"Transit Joint Powers Authority for Merced County\",\n",
    "        \"Trinity County\": \"Trinity County Department of Transportation\",\n",
    "        \"Tulare County Area Transit\": \"Tulare County Regional Transportation Agency\",\n",
    "        \"Victor Valley Transit\": \"Victor Valley Transit Authority\",\n",
    "        \"Yolobus\": \"Yolo County Transportation District\",\n",
    "        \"Yurok Tribe\": \"Yurok Tribe Transit\",\n",
    "        \"Tuolumne County Transit\": \"Tuolumne County Transit Agency \",\n",
    "        \"SunLine Transit Agency\": \"Sunline Transit Agency\",\n",
    "        \"Mariposa County Transit\": \"County of Mariposa\",\n",
    "        \"City of Visalia \": \"City of Visalia\",\n",
    "        \"City of Corcoran\": \"City of Corcoran - Corcoran Area Transit\",\n",
    "        \"Calaveras Transit\": \"Calaveras Transit Agency\",\n",
    "        \"Amador Regional Transit System\": \"Amador Transit\",\n",
    "    }\n",
    ")"
   ]
  },
  {
   "cell_type": "code",
   "execution_count": null,
   "id": "698b0784-4800-44e4-a2a9-3e4567fb26ce",
   "metadata": {},
   "outputs": [],
   "source": [
    "m4 = pd.merge(\n",
    "    m3,\n",
    "    df_vehicles2,\n",
    "    how=\"left\",\n",
    "    left_on=[\"organization_name\"],\n",
    "    right_on=[\"ntd_agency\"],\n",
    ")"
   ]
  },
  {
   "cell_type": "code",
   "execution_count": null,
   "id": "86ca2e9c-a978-40f2-bb46-7d6d0dcec6af",
   "metadata": {
    "scrolled": true,
    "tags": []
   },
   "outputs": [],
   "source": [
    "df_vehicles2.sort_values(\"ntd_agency\")"
   ]
  },
  {
   "cell_type": "markdown",
   "id": "4e9446ae-862d-4179-81a3-6d766bc6c2ec",
   "metadata": {},
   "source": [
    "## Export/Final Clean Up"
   ]
  },
  {
   "cell_type": "code",
   "execution_count": null,
   "id": "5acb383d-9fe8-4659-9231-05ed5e663040",
   "metadata": {
    "tags": []
   },
   "outputs": [],
   "source": [
    "# Percentage of null values in each column\n",
    "m4.isnull().sum() * 100 / len(m4)"
   ]
  },
  {
   "cell_type": "code",
   "execution_count": null,
   "id": "7fa31a74-efae-45f9-9e4e-0ad78e76c74c",
   "metadata": {},
   "outputs": [],
   "source": [
    "# Columns to fill in empty rows with N/A\n",
    "columns_for_na = [\n",
    "    \"service_components_fare_component\",\n",
    "    \"service_components_fare_product\",\n",
    "    \"service_components_AVL_CAD_component\",\n",
    "    \"service_components_AVL_CAD_product\",\n",
    "    \"service_components_service_key\",\n",
    "    \"fare_systems_electronic_fare_program\",\n",
    "    \"fare_systems_ticket_media\",\n",
    "    \"airtable_orgs_name\",\n",
    "    \"airtable_orgs_gtfs_realtime_status\",\n",
    "    \"airtable_orgs_itp_id\",\n",
    "    \"airtable_orgs_key\",\n",
    "    \"airtable_services_service_type_y\",\n",
    "    \"ntd_agency\",\n",
    "    \"ntd_total_vehicles\",\n",
    "    \"fare_systems_payment_accepted\",\n",
    "]"
   ]
  },
  {
   "cell_type": "code",
   "execution_count": null,
   "id": "aefff82a-f35a-406a-9e82-cae256d91451",
   "metadata": {},
   "outputs": [],
   "source": [
    "m4[columns_for_na] = m4[columns_for_na].fillna(\"N/A\")"
   ]
  },
  {
   "cell_type": "code",
   "execution_count": null,
   "id": "527d3a81-1579-4f75-88ec-681ff7715f41",
   "metadata": {},
   "outputs": [],
   "source": [
    "# Some of the service types can be duplicated a few times, delete the duplicates\n",
    "m4[\"airtable_services_service_type_y\"] = m4[\"airtable_services_service_type_y\"].apply(\n",
    "    lambda x: \", \".join(set([y.strip() for y in x.split(\",\")]))\n",
    ")"
   ]
  },
  {
   "cell_type": "code",
   "execution_count": null,
   "id": "7aa86519-4277-48a6-b84e-20309996c6d3",
   "metadata": {},
   "outputs": [],
   "source": [
    "# Clean up column names\n",
    "m4 = utils.clean_up_columns(m4)"
   ]
  },
  {
   "cell_type": "code",
   "execution_count": null,
   "id": "fa857c25-94a6-4bcf-a9b2-64d7737e11fd",
   "metadata": {},
   "outputs": [],
   "source": [
    "# Drop columns that aren't relevant\n",
    "m4 = m4.drop(\n",
    "    columns=[\n",
    "        \"Airtable Orgs Key\",\n",
    "        \"Merge\",\n",
    "        \"Airtable Orgs Name\",\n",
    "        \"Ntd Agency\",\n",
    "        \"Airtable Services Key\",\n",
    "        \"Service Components Service Key\",\n",
    "    ]\n",
    ")"
   ]
  },
  {
   "cell_type": "code",
   "execution_count": null,
   "id": "9104288f-d8eb-402c-89dc-198aae75aaf4",
   "metadata": {
    "scrolled": true,
    "tags": []
   },
   "outputs": [],
   "source": [
    "# m4[[\"Organization Name\", \"Ntd Total Vehicles\"]].sort_values(\"Organization Name\")"
   ]
  },
  {
   "cell_type": "code",
   "execution_count": null,
   "id": "979637de-aa70-4d58-ab03-60db94c92060",
   "metadata": {},
   "outputs": [],
   "source": [
    "\"\"\"\n",
    "with pd.ExcelWriter(\n",
    "    \"gs://calitp-analytics-data/data-analyses/5311-5310/5311_5310_payments.xlsx\"\n",
    ") as writer:\n",
    "    m4.to_excel(writer, sheet_name=\"main\", index=True)\n",
    "    \"\"\""
   ]
  }
 ],
 "metadata": {
  "kernelspec": {
   "display_name": "Python 3 (ipykernel)",
   "language": "python",
   "name": "python3"
  },
  "language_info": {
   "codemirror_mode": {
    "name": "ipython",
    "version": 3
   },
   "file_extension": ".py",
   "mimetype": "text/x-python",
   "name": "python",
   "nbconvert_exporter": "python",
   "pygments_lexer": "ipython3",
   "version": "3.9.13"
  },
  "widgets": {
   "application/vnd.jupyter.widget-state+json": {
    "state": {},
    "version_major": 2,
    "version_minor": 0
   }
  }
 },
 "nbformat": 4,
 "nbformat_minor": 5
}
