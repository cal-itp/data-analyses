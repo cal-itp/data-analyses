{
 "cells": [
  {
   "cell_type": "markdown",
   "id": "9025f34e-264c-4912-8287-1b12da9e73ec",
   "metadata": {},
   "source": [
    "# Clean up `data_prep.py`\n",
    "\n",
    "* Get rid of `pd.set_option('display.max_columns', None)`, etc in functions, because those are more for notebooks. Not relevant when used in a function within a script because the script isn't printing outputs to see\n"
   ]
  },
  {
   "cell_type": "code",
   "execution_count": 1,
   "id": "58197054-7cf8-4532-8c31-04b4101e8096",
   "metadata": {},
   "outputs": [
    {
     "name": "stderr",
     "output_type": "stream",
     "text": [
      "/opt/conda/lib/python3.10/site-packages/geopandas/_compat.py:111: UserWarning: The Shapely GEOS version (3.10.2-CAPI-1.16.0) is incompatible with the GEOS version PyGEOS was compiled with (3.10.1-CAPI-1.16.0). Conversions between both will be slow.\n",
      "/opt/conda/lib/python3.10/site-packages/cpi/__init__.py:46: StaleDataWarning: CPI data is out of date. To accurately inflate to today's dollars, you must run `cpi.update()`.\n"
     ]
    }
   ],
   "source": [
    "import numpy as np\n",
    "import pandas as pd\n",
    "from siuba import *\n",
    "from calitp_data_analysis.sql import to_snakecase\n",
    "from calitp_data_analysis import geography_utils\n",
    "\n",
    "GCS_FILE_PATH = \"gs://calitp-analytics-data/data-analyses/5311 /\""
   ]
  },
  {
   "cell_type": "markdown",
   "id": "48b7b367-9dff-4455-adb4-130c5669e686",
   "metadata": {},
   "source": [
    "## Original Function\n",
    "\n",
    "* Pretty long, but does have sub-functions\n",
    "* Break up into more distinct steps. Longer functions mean it's hard to debug, because it's you're probably writing, overwriting the same df, or creating copies `df`, `df1`, `df2`. Using functions to break that up allows you to return each df in each step, but you don't save extraneous copies."
   ]
  },
  {
   "cell_type": "code",
   "execution_count": 2,
   "id": "695a032a-2934-4abd-8894-5af1310843fb",
   "metadata": {},
   "outputs": [
    {
     "name": "stderr",
     "output_type": "stream",
     "text": [
      "/home/jovyan/data-analyses/5311/data_prep.py:72: SettingWithCopyWarning: \n",
      "A value is trying to be set on a copy of a slice from a DataFrame.\n",
      "Try using .loc[row_indexer,col_indexer] = value instead\n",
      "\n",
      "See the caveats in the documentation: https://pandas.pydata.org/pandas-docs/stable/user_guide/indexing.html#returning-a-view-versus-a-copy\n",
      "/home/jovyan/data-analyses/5311/data_prep.py:74: SettingWithCopyWarning: \n",
      "A value is trying to be set on a copy of a slice from a DataFrame.\n",
      "Try using .loc[row_indexer,col_indexer] = value instead\n",
      "\n",
      "See the caveats in the documentation: https://pandas.pydata.org/pandas-docs/stable/user_guide/indexing.html#returning-a-view-versus-a-copy\n",
      "/home/jovyan/data-analyses/5311/data_prep.py:126: SettingWithCopyWarning: \n",
      "A value is trying to be set on a copy of a slice from a DataFrame.\n",
      "Try using .loc[row_indexer,col_indexer] = value instead\n",
      "\n",
      "See the caveats in the documentation: https://pandas.pydata.org/pandas-docs/stable/user_guide/indexing.html#returning-a-view-versus-a-copy\n"
     ]
    },
    {
     "data": {
      "text/plain": [
       "(218, 26)"
      ]
     },
     "execution_count": 2,
     "metadata": {},
     "output_type": "execute_result"
    }
   ],
   "source": [
    "import data_prep\n",
    "\n",
    "vehicles_orig = data_prep.load_cleaned_vehiclesdata()\n",
    "vehicles_orig.shape"
   ]
  },
  {
   "cell_type": "code",
   "execution_count": 3,
   "id": "34b113a1-24e9-4e33-bcef-8d14a8289721",
   "metadata": {},
   "outputs": [
    {
     "data": {
      "text/plain": [
       "218"
      ]
     },
     "execution_count": 3,
     "metadata": {},
     "output_type": "execute_result"
    }
   ],
   "source": [
    "len(vehicles_orig)"
   ]
  },
  {
   "cell_type": "code",
   "execution_count": 4,
   "id": "8910f048-b220-40fc-8fa5-cce7c81756a8",
   "metadata": {},
   "outputs": [
    {
     "data": {
      "text/plain": [
       "Index(['agency', 'ntd_id', 'reporter_type', '_0_9', '_10_12', '_13_15',\n",
       "       '_16_20', '_21_25', '_26_30', '_31_60', '_60plus', 'total_vehicles',\n",
       "       'average_age_of_fleet__in_years_', 'average_lifetime_miles_per_vehicle',\n",
       "       'sum_15plus', 'Automobiles', 'Bus', 'Other', 'Service', 'Train', 'Van',\n",
       "       'automobiles_door', 'bus_doors', 'train_doors', 'van_doors',\n",
       "       'doors_sum'],\n",
       "      dtype='object')"
      ]
     },
     "execution_count": 4,
     "metadata": {},
     "output_type": "execute_result"
    }
   ],
   "source": [
    "vehicles_orig.columns"
   ]
  },
  {
   "cell_type": "markdown",
   "id": "df9a2be3-0c5e-456e-b85f-80bb55d95cd1",
   "metadata": {},
   "source": [
    "## Refactored"
   ]
  },
  {
   "cell_type": "code",
   "execution_count": 5,
   "id": "6b9369fe-7e9b-4f97-a139-3daf67d7b5b0",
   "metadata": {},
   "outputs": [],
   "source": [
    "def load_vehicle_data():\n",
    "    ## TO FIX\n",
    "    # If you don't put brackets around sheet_name = ['Age Distribution'], \n",
    "    # you already return the df\n",
    "    File_Vehicles =  \"cleaned_vehicles.xlsx\"\n",
    "    vehicles_info =  pd.read_excel(f'{GCS_FILE_PATH}{File_Vehicles}',\n",
    "                                   sheet_name = 'Age Distribution')\n",
    "    #cannot use to_snakecase because of integer column names\n",
    "    vehicles = (vehicles_info>>filter(_.State=='CA'))\n",
    "    \n",
    "    return vehicles"
   ]
  },
  {
   "cell_type": "code",
   "execution_count": 6,
   "id": "2c7866c1-19c4-4b09-bf5a-0b914cb97a4e",
   "metadata": {},
   "outputs": [],
   "source": [
    "def get_vehicle_groups(row):\n",
    "    Automobiles = ['Automobile','Sports Utility Vehicle']\n",
    "    Bus = ['Bus','Over-the-road Bus','Articulated Bus','Double Decker Bus','Trolleybus']\n",
    "    Vans = ['Van','','Minivan','Cutaway']\n",
    "    Trains = ['Vintage Trolley','Automated Guideway Vehicle','Heavy Rail Passenger Car','Light Rail Vehicle',\n",
    "             'Commuter Rail Self-Propelled Passenger Car','Commuter Rail Passenger Coach','Commuter Rail Locomotive',\n",
    "            'Cable Car']\n",
    "    Service = ['Automobiles (Service)',\n",
    "               'Trucks and other Rubber Tire Vehicles (Service)',\n",
    "               'Steel Wheel Vehicles (Service)']\n",
    "    other = ['Other','Ferryboat']\n",
    "    \n",
    "    if row.vehicle_type in Automobiles:\n",
    "        return \"Automobiles\"\n",
    "    elif row.vehicle_type in Bus:\n",
    "        return \"Bus\"\n",
    "    elif row.vehicle_type in Trains:\n",
    "        return \"Train\"\n",
    "    elif row.vehicle_type in Vans:\n",
    "        return \"Van\"\n",
    "    elif row.vehicle_type in Service:\n",
    "        return \"Service\"\n",
    "    else:\n",
    "        return \"Other\""
   ]
  },
  {
   "cell_type": "code",
   "execution_count": 7,
   "id": "9ff5c4b3-18dd-4008-a98e-9a6753db8c6f",
   "metadata": {},
   "outputs": [],
   "source": [
    "def initial_cleaning(df):    \n",
    "    #Add up columns 0-9 to get a new bin\n",
    "    zero_to_nine = [0,1,2,3,4,5,6,7,8,9]\n",
    "    ten_to_twelve = [10, 11, 12]\n",
    "    \n",
    "    df['0-9'] = df[zero_to_nine].sum(axis=1)\n",
    "    #Add up columns 10-12\n",
    "    df['10-12'] = df[ten_to_twelve].sum(axis=1)\n",
    "    \n",
    "    ## TO FIX\n",
    "    # Method chaining, basically stringing or chaining together a bunch of commands\n",
    "    # so it's a bit neater, and also it does it in one go\n",
    "    df2 = df.drop(columns = zero_to_nine + ten_to_twelve)\n",
    "    df2 = (to_snakecase(df2)\n",
    "           .astype({\"ntd_id\": str}) \n",
    "           .rename(columns = {\"_60+\": \"_60plus\"})\n",
    "          )\n",
    "    \n",
    "    df2[\"vehicle_groups\"] = df2.apply(lambda x: get_vehicle_groups(x), axis=1)\n",
    "    \n",
    "    return df2"
   ]
  },
  {
   "cell_type": "code",
   "execution_count": 8,
   "id": "4f876ab2-79a6-4f45-a0c1-ab29e3322606",
   "metadata": {},
   "outputs": [],
   "source": [
    "# Use lists when there's the same set of columns you want to work with repeatedly\n",
    "# Break it up into several lists if need be\n",
    "# Whether lists live outside functions or inside functions depends if you need to call them again\n",
    "age_under_15 = [\"_0_9\",\"_10_12\", \"_13_15\"]\n",
    "age_over_15 = [\"_16_20\", \"_21_25\",\"_26_30\", \"_31_60\",\"_60plus\"]\n",
    "\n",
    "def get_age(df):\n",
    "    # Moved this renaming into initial_cleaning function\n",
    "    #df = df.rename(columns={'_60+': '_60plus'})\n",
    "\n",
    "    age = geography_utils.aggregate_by_geography(\n",
    "        df, \n",
    "        group_cols = [\"agency\", \"ntd_id\", \"reporter_type\"],\n",
    "        sum_cols = [\"total_vehicles\"] + age_under_15 + age_over_15,\n",
    "        mean_cols = [\"average_age_of_fleet__in_years_\", \"average_lifetime_miles_per_vehicle\"]\n",
    "    ).sort_values([\"agency\",\"total_vehicles\"], ascending=[True, True])\n",
    "    \n",
    "    older = (age.query('_21_25 != 0 or _26_30 != 0 or _31_60 != 0 or _60plus!=0'))\n",
    "    older = older.assign(\n",
    "        sum_15plus = older[age_over_15].sum(axis=1)\n",
    "    )\n",
    "    \n",
    "    age = pd.merge(age, \n",
    "                   older>>select(_.agency, _.sum_15plus), \n",
    "                   on=['agency'], how='left')\n",
    "    \n",
    "        \n",
    "    return age\n",
    "\n",
    "def get_doors(df):\n",
    "    \n",
    "    types = df[[\"agency\", \"vehicle_groups\"] + age_under_15 + age_over_15]\n",
    "    types['sum_type'] = types[age_under_15 + age_over_15].sum(axis=1)\n",
    "    \n",
    "    ## At this point, the df is long (agency-vehicle_groups)\n",
    "    \n",
    "    #https://towardsdatascience.com/pandas-pivot-the-ultimate-guide-5c693e0771f3\n",
    "    types2 = (types.pivot_table(index=[\"agency\"],\n",
    "                               columns=\"vehicle_groups\", \n",
    "                               values=\"sum_type\", aggfunc=np.sum, fill_value=0)\n",
    "            ).reset_index()\n",
    "\n",
    "    two_doors = ['Automobiles', 'Bus', 'Train']\n",
    "    one_door = ['Van']\n",
    "    door_cols = []\n",
    "    \n",
    "    for c in one_door + two_doors:\n",
    "        # Create a new column, like automobile_door\n",
    "        new_col = f\"{c.lower()}_doors\"\n",
    "    \n",
    "        # While new column is created, add it to list (door_cols)\n",
    "        # Then, can easily sum across\n",
    "        door_cols.append(new_col)\n",
    "        \n",
    "        if c in two_doors:\n",
    "            multiplier = 2\n",
    "        elif c in one_door:\n",
    "            multiplier = 1\n",
    "        types2[new_col] = types2[c] * multiplier\n",
    "    \n",
    "    types2[\"doors_sum\"] = types2[door_cols].sum(axis=1)\n",
    "    \n",
    "    return types2"
   ]
  },
  {
   "cell_type": "code",
   "execution_count": 9,
   "id": "2d285fb7-ffd2-4320-994a-3586f2b2020f",
   "metadata": {},
   "outputs": [],
   "source": [
    "def clean_vehicles_data():\n",
    "    vehicles = load_vehicle_data()\n",
    "    vehicles2 = initial_cleaning(vehicles)\n",
    "\n",
    "    # Use lists when there's the same set of columns you want to work with repeatedly\n",
    "    # Break it up into several lists if need be\n",
    "    # Whether lists live outside functions or inside functions depends if you need to call them again\n",
    "    age_under_15 = [\"_0_9\",\"_10_12\", \"_13_15\"]\n",
    "    age_over_15 = [\"_16_20\", \"_21_25\",\"_26_30\", \"_31_60\",\"_60plus\"]\n",
    "    \n",
    "    # The lists above should live closer to the sub-functions they belong to\n",
    "    \n",
    "    # This df is aggregated at agency-level\n",
    "    age_df = get_age(vehicles2)\n",
    "    # This df is aggregated at agency-vehicle_group level \n",
    "    # but, pivoted to be agency-level\n",
    "    doors_df = get_doors(vehicles2)\n",
    "    \n",
    "    df = pd.merge(\n",
    "        age_df,\n",
    "        doors_df,\n",
    "        on = [\"agency\"],\n",
    "        how = \"left\",\n",
    "        validate = \"1:1\"\n",
    "    )\n",
    "    \n",
    "    # Rename for now, because this might affect downstream stuff\n",
    "    df = df.rename(columns = {\"automobiles_doors\": \"automobiles_door\"})    \n",
    "    return df"
   ]
  },
  {
   "cell_type": "code",
   "execution_count": 10,
   "id": "fb159184-02a6-4dfd-8e2c-dcdf18b205b9",
   "metadata": {},
   "outputs": [
    {
     "name": "stderr",
     "output_type": "stream",
     "text": [
      "/tmp/ipykernel_1235/1849699405.py:33: SettingWithCopyWarning: \n",
      "A value is trying to be set on a copy of a slice from a DataFrame.\n",
      "Try using .loc[row_indexer,col_indexer] = value instead\n",
      "\n",
      "See the caveats in the documentation: https://pandas.pydata.org/pandas-docs/stable/user_guide/indexing.html#returning-a-view-versus-a-copy\n"
     ]
    }
   ],
   "source": [
    "df = clean_vehicles_data()"
   ]
  },
  {
   "cell_type": "code",
   "execution_count": 11,
   "id": "455070ab-19b5-45f9-bbf8-d44b852aef96",
   "metadata": {},
   "outputs": [
    {
     "data": {
      "text/plain": [
       "set()"
      ]
     },
     "execution_count": 11,
     "metadata": {},
     "output_type": "execute_result"
    }
   ],
   "source": [
    "set(df.columns).difference(set(vehicles_orig.columns))"
   ]
  },
  {
   "cell_type": "code",
   "execution_count": 12,
   "id": "118cad09-9fb8-48fa-8795-a55f8597e5d2",
   "metadata": {},
   "outputs": [],
   "source": [
    "assert set(df.columns) == set(vehicles_orig.columns)"
   ]
  },
  {
   "cell_type": "code",
   "execution_count": 13,
   "id": "0a37721b-6da8-4127-9464-1d018f184e70",
   "metadata": {},
   "outputs": [],
   "source": [
    "assert df.shape == vehicles_orig.shape"
   ]
  },
  {
   "cell_type": "code",
   "execution_count": 14,
   "id": "301741c3-70ad-48a2-a63b-5c979061229c",
   "metadata": {},
   "outputs": [],
   "source": [
    "def pick_column_and_aggregate(df1, df2, col):\n",
    "    if df1[col].sum() == df2[col].sum():\n",
    "        print(\"PASS\")\n",
    "    else:\n",
    "        print(f\"{col}: FAIL\")"
   ]
  },
  {
   "cell_type": "code",
   "execution_count": 15,
   "id": "540698f1-d8cc-46aa-9367-0cb381d23537",
   "metadata": {},
   "outputs": [
    {
     "name": "stdout",
     "output_type": "stream",
     "text": [
      "PASS\n",
      "PASS\n",
      "PASS\n",
      "PASS\n",
      "PASS\n",
      "PASS\n",
      "PASS\n",
      "PASS\n",
      "PASS\n",
      "PASS\n",
      "PASS\n",
      "PASS\n",
      "PASS\n",
      "PASS\n",
      "PASS\n",
      "PASS\n",
      "PASS\n",
      "PASS\n",
      "PASS\n",
      "PASS\n",
      "PASS\n",
      "PASS\n",
      "PASS\n"
     ]
    }
   ],
   "source": [
    "cols = ['_0_9', '_10_12', '_13_15',\n",
    "       '_16_20', '_21_25', '_26_30', '_31_60', '_60plus', 'total_vehicles',\n",
    "       'average_age_of_fleet__in_years_', 'average_lifetime_miles_per_vehicle',\n",
    "       'sum_15plus', 'Automobiles', 'Bus', 'Other', 'Service', 'Train', 'Van',\n",
    "       'automobiles_door', 'bus_doors', 'train_doors', 'van_doors',\n",
    "       'doors_sum']\n",
    "\n",
    "for c in cols:\n",
    "    pick_column_and_aggregate(df, vehicles_orig, c)"
   ]
  },
  {
   "cell_type": "code",
   "execution_count": null,
   "id": "3f066460-08d6-4096-bddf-61cf6d5f2398",
   "metadata": {},
   "outputs": [],
   "source": []
  }
 ],
 "metadata": {
  "kernelspec": {
   "display_name": "Python 3 (ipykernel)",
   "language": "python",
   "name": "python3"
  },
  "language_info": {
   "codemirror_mode": {
    "name": "ipython",
    "version": 3
   },
   "file_extension": ".py",
   "mimetype": "text/x-python",
   "name": "python",
   "nbconvert_exporter": "python",
   "pygments_lexer": "ipython3",
   "version": "3.9.13"
  },
  "widgets": {
   "application/vnd.jupyter.widget-state+json": {
    "state": {},
    "version_major": 2,
    "version_minor": 0
   }
  }
 },
 "nbformat": 4,
 "nbformat_minor": 5
}
