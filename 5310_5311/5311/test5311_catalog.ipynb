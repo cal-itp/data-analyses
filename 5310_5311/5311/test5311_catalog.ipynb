{
 "cells": [
  {
   "cell_type": "markdown",
   "id": "ba1bb958-bc7f-411d-a256-1b925ff3e35f",
   "metadata": {},
   "source": [
    "# Script writing for 5311 data"
   ]
  },
  {
   "cell_type": "code",
   "execution_count": 1,
   "id": "23bafc31-45fa-42ce-8c48-e6e96fc5aa49",
   "metadata": {},
   "outputs": [
    {
     "name": "stderr",
     "output_type": "stream",
     "text": [
      "/opt/conda/lib/python3.10/site-packages/geopandas/_compat.py:112: UserWarning: The Shapely GEOS version (3.10.3-CAPI-1.16.1) is incompatible with the GEOS version PyGEOS was compiled with (3.10.1-CAPI-1.16.0). Conversions between both will be slow.\n"
     ]
    }
   ],
   "source": [
    "import numpy as np\n",
    "import pandas as pd\n",
    "from siuba import *\n",
    "import altair as alt\n",
    "import altair_saver\n",
    "from calitp import *\n",
    "from plotnine import *\n",
    "import intake"
   ]
  },
  {
   "cell_type": "code",
   "execution_count": 2,
   "id": "e09f08d6-ef6d-49ac-9d11-7fa3f994cce8",
   "metadata": {},
   "outputs": [],
   "source": [
    "import _data_prep"
   ]
  },
  {
   "cell_type": "code",
   "execution_count": 3,
   "id": "17c20061-ddb1-4839-9c1b-4aab9fbbf5d9",
   "metadata": {},
   "outputs": [],
   "source": [
    "#df = data_prep.load_grantprojects()\n",
    "#vehicles = data_prep.load_vehiclesdata()\n",
    "# agency_info = data_prep.load_agencyinfo()\n",
    "# gtfs_status = data_prep.load_catalog_gtfs()"
   ]
  },
  {
   "cell_type": "code",
   "execution_count": null,
   "id": "59df93ec-3678-4272-b800-e51dc1dfe8e4",
   "metadata": {},
   "outputs": [],
   "source": [
    "vehicles.sample()"
   ]
  },
  {
   "cell_type": "code",
   "execution_count": null,
   "id": "2d40e5b4-3652-4743-9b82-15a5bfcb875f",
   "metadata": {},
   "outputs": [],
   "source": [
    "agency_info"
   ]
  },
  {
   "cell_type": "markdown",
   "id": "59f03a3b-e31c-40ee-b662-a1e645f6a4d1",
   "metadata": {
    "tags": []
   },
   "source": [
    "## Read in Catalog"
   ]
  },
  {
   "cell_type": "code",
   "execution_count": null,
   "id": "df567eba-c938-468a-959a-ead1ea190d55",
   "metadata": {},
   "outputs": [],
   "source": [
    "catalog = intake.open_catalog(\"catalog.yml\")"
   ]
  },
  {
   "cell_type": "code",
   "execution_count": null,
   "id": "1e11be7d-a523-4c56-8963-e496fe88bea7",
   "metadata": {},
   "outputs": [],
   "source": [
    "catalog"
   ]
  },
  {
   "cell_type": "code",
   "execution_count": null,
   "id": "04f7239e-1eea-4ee9-b7cf-4beb2ff9b169",
   "metadata": {},
   "outputs": [],
   "source": [
    "gtfs_status = catalog.gtfs_status.read()"
   ]
  },
  {
   "cell_type": "code",
   "execution_count": null,
   "id": "9944677a-9f2f-44a8-9b58-86dc5211be69",
   "metadata": {},
   "outputs": [],
   "source": [
    "gtfs_status = to_snakecase(gtfs_status)"
   ]
  },
  {
   "cell_type": "code",
   "execution_count": null,
   "id": "abbd8edc-ebfc-4f1c-a763-732fd1632471",
   "metadata": {},
   "outputs": [],
   "source": [
    "gtfs_status.head()"
   ]
  },
  {
   "cell_type": "code",
   "execution_count": null,
   "id": "bff02c51-5bb9-4bd1-bb57-77341d0d20d0",
   "metadata": {},
   "outputs": [],
   "source": [
    "gtfs_status.name.nunique()"
   ]
  },
  {
   "cell_type": "markdown",
   "id": "6d73e43b-9620-4a29-8077-9219d7c56015",
   "metadata": {
    "tags": []
   },
   "source": [
    "## Read in Vehicle Data"
   ]
  },
  {
   "cell_type": "code",
   "execution_count": null,
   "id": "a84bbbe9-0c62-42a6-8eaf-06b1be26d692",
   "metadata": {},
   "outputs": [],
   "source": [
    "def load_vehiclesdata():\n",
    "    vehicles_info =  pd.read_excel('gs://calitp-analytics-data/data-analyses/5311 /2020-Vehicles_1.xlsm',\n",
    "                                   sheet_name = ['Age Distribution'])\n",
    "    pd.set_option('display.max_columns', None)\n",
    "    #cannot use to_snakecase because of integer column names\n",
    "    vehicles_info = vehicles_info['Age Distribution']\n",
    "    vehicles = (vehicles_info>>filter(_.State=='CA'))\n",
    "    \n",
    "    return vehicles"
   ]
  },
  {
   "cell_type": "code",
   "execution_count": null,
   "id": "d4e4c37e-3489-476e-89cd-fd29b97e8d4b",
   "metadata": {
    "tags": []
   },
   "outputs": [],
   "source": [
    "vehicles = load_vehiclesdata()"
   ]
  },
  {
   "cell_type": "code",
   "execution_count": null,
   "id": "2cc70064-a853-482d-afa4-52cd63bdeea4",
   "metadata": {},
   "outputs": [],
   "source": [
    "vehicles.sample(5)"
   ]
  },
  {
   "cell_type": "markdown",
   "id": "07787b33-ff3c-4222-848f-36ea7b340eed",
   "metadata": {},
   "source": [
    "* **note:** multiple entries for each agency"
   ]
  },
  {
   "cell_type": "code",
   "execution_count": null,
   "id": "6235824b-2f1a-477c-b59c-210fc972ebbb",
   "metadata": {},
   "outputs": [],
   "source": [
    "len(vehicles)"
   ]
  },
  {
   "cell_type": "code",
   "execution_count": null,
   "id": "64462318-8efe-4c1f-b9a2-cd19b684cd05",
   "metadata": {},
   "outputs": [],
   "source": [
    "print(vehicles.Agency.nunique())\n",
    "#print(vehicle_count.Agency.nunique())"
   ]
  },
  {
   "cell_type": "code",
   "execution_count": null,
   "id": "00c81fc3-e4ac-4d55-987b-9d985b0ad193",
   "metadata": {},
   "outputs": [],
   "source": []
  },
  {
   "cell_type": "code",
   "execution_count": null,
   "id": "cfb55e80-4a55-436f-93b4-9b3526e0e129",
   "metadata": {},
   "outputs": [],
   "source": []
  },
  {
   "cell_type": "markdown",
   "id": "7fe3a72c-38d0-4060-acb9-083aad486006",
   "metadata": {
    "tags": []
   },
   "source": [
    "## Read in Agency Information"
   ]
  },
  {
   "cell_type": "code",
   "execution_count": null,
   "id": "9823cb22-ddb6-4cb4-a781-a87a342b7d4b",
   "metadata": {},
   "outputs": [],
   "source": [
    "def load_agencyinfo(): \n",
    "    agencies = pd.concat(pd.read_excel('gs://calitp-analytics-data/data-analyses/5311 /2020_Agency_Information.xlsx',\n",
    "                                      sheet_name=None),ignore_index=True)\n",
    "    agencies = to_snakecase(agencies)\n",
    "    agency_info = agencies>>filter(_.state=='CA')\n",
    "    \n",
    "    return agency_info"
   ]
  },
  {
   "cell_type": "code",
   "execution_count": null,
   "id": "b950d704-51bd-484c-90bc-7a8c8fad4008",
   "metadata": {},
   "outputs": [],
   "source": [
    "agency_info = load_agencyinfo()"
   ]
  },
  {
   "cell_type": "code",
   "execution_count": null,
   "id": "1c7919b1-3888-4092-8635-8622dfad8fb8",
   "metadata": {},
   "outputs": [],
   "source": [
    "agency_info.sample()"
   ]
  },
  {
   "cell_type": "markdown",
   "id": "6e227fa8-3199-48ff-8ca6-df1a0114700e",
   "metadata": {
    "jp-MarkdownHeadingCollapsed": true,
    "tags": []
   },
   "source": [
    "## Read in Agency Revenue"
   ]
  },
  {
   "cell_type": "code",
   "execution_count": null,
   "id": "a93a5815-62c3-4419-8e4e-9f3d2ea6d503",
   "metadata": {},
   "outputs": [],
   "source": [
    "agency_revenue = pd.concat(pd.read_excel('gs://calitp-analytics-data/data-analyses/5311 /2020_revenue_sources.xlsx',\n",
    "                                      sheet_name=None), ignore_index=True)"
   ]
  },
  {
   "cell_type": "code",
   "execution_count": null,
   "id": "caa4c515-100a-4cf2-8972-903c8969aae0",
   "metadata": {},
   "outputs": [],
   "source": [
    "agency_revenue = to_snakecase(agency_revenue)"
   ]
  },
  {
   "cell_type": "code",
   "execution_count": null,
   "id": "e2c0bf71-6422-4042-b710-e68cd3cb4bd5",
   "metadata": {},
   "outputs": [],
   "source": [
    "agency_revenue.sample(5)"
   ]
  },
  {
   "cell_type": "code",
   "execution_count": null,
   "id": "6d504d4f-dafd-4804-8dcf-a8d6c8deb737",
   "metadata": {
    "tags": []
   },
   "outputs": [],
   "source": [
    "agency_revenue.info()"
   ]
  },
  {
   "cell_type": "code",
   "execution_count": null,
   "id": "c9a39191-6d52-4b2f-81f1-da22e1b2d7f6",
   "metadata": {},
   "outputs": [],
   "source": []
  },
  {
   "cell_type": "markdown",
   "id": "01658d86-a17e-45a2-a88e-de541747a908",
   "metadata": {},
   "source": [
    "* no state information. have to merge with other dataframes to get the information we need."
   ]
  },
  {
   "cell_type": "code",
   "execution_count": null,
   "id": "f93bf5f7-4bef-4304-a6cd-276dbb9c1fe0",
   "metadata": {},
   "outputs": [],
   "source": []
  },
  {
   "cell_type": "code",
   "execution_count": null,
   "id": "878644db-8c70-4a34-bf38-35dce94c3cb5",
   "metadata": {},
   "outputs": [],
   "source": []
  },
  {
   "cell_type": "markdown",
   "id": "37579137-f463-433f-82b3-35395f6ec94f",
   "metadata": {
    "tags": []
   },
   "source": [
    "## Read BlackCat Data"
   ]
  },
  {
   "cell_type": "code",
   "execution_count": null,
   "id": "f85a5ad1-e0cc-409c-be33-c6e1d730ba75",
   "metadata": {},
   "outputs": [],
   "source": [
    "def load_grantprojects(): \n",
    "    df = pd.concat(pd.read_excel('gs://calitp-analytics-data/data-analyses/5311 /Grant_Projects.xlsx', sheet_name=None), ignore_index=True)\n",
    "    \n",
    "    pd.set_option('display.max_columns', None)\n",
    "    \n",
    "    #a bit of cleaning\n",
    "    df = to_snakecase(df)\n",
    "    df = df.drop(columns=['project_closed_by', 'project_closed_date', 'project_closed_time'])\n",
    "    \n",
    "    #get just the 5311 agencies\n",
    "    df = (df>>filter(_.funding_program.str.contains('5311')))\n",
    "    \n",
    "    return df"
   ]
  },
  {
   "cell_type": "code",
   "execution_count": null,
   "id": "f7018da5-5187-434d-97ce-8f8b1f87e8fe",
   "metadata": {},
   "outputs": [],
   "source": [
    "df = load_grantprojects()"
   ]
  },
  {
   "cell_type": "code",
   "execution_count": null,
   "id": "fc29e058-94e8-40e4-8d2b-2642f0f63bb7",
   "metadata": {},
   "outputs": [],
   "source": [
    "df.sample()"
   ]
  },
  {
   "cell_type": "code",
   "execution_count": null,
   "id": "1985dcdd-e09b-4d52-be99-5aae6ba23272",
   "metadata": {},
   "outputs": [],
   "source": [
    "len(df)"
   ]
  },
  {
   "cell_type": "code",
   "execution_count": null,
   "id": "9cea4207-97bd-4b6e-a684-49fee355707e",
   "metadata": {},
   "outputs": [],
   "source": [
    "df>>count(_.funding_program)"
   ]
  },
  {
   "cell_type": "code",
   "execution_count": null,
   "id": "78ce7a17-9c1c-42f2-96d9-f2258e0570f6",
   "metadata": {},
   "outputs": [],
   "source": [
    "df_agency = df>> count(_.organization_name) >> arrange(-_.n)"
   ]
  },
  {
   "cell_type": "code",
   "execution_count": null,
   "id": "221c869c-e604-4712-bf16-05523002e352",
   "metadata": {},
   "outputs": [],
   "source": [
    "print(len(df_agency.organization_name.unique()))"
   ]
  },
  {
   "cell_type": "code",
   "execution_count": null,
   "id": "c8270cc7-1365-4cf0-9584-ac01e91ae6fe",
   "metadata": {},
   "outputs": [],
   "source": [
    "df_agency.head()"
   ]
  },
  {
   "cell_type": "code",
   "execution_count": null,
   "id": "1b2327ef-79c2-4a31-8306-7dac8133ef76",
   "metadata": {
    "tags": []
   },
   "outputs": [],
   "source": [
    "sorted(df_agency.organization_name.unique())"
   ]
  },
  {
   "cell_type": "markdown",
   "id": "3a84dc8f-8cc1-4257-86da-77071bb24fdd",
   "metadata": {},
   "source": [
    "* no obvious duplicates or multiple names for one agency"
   ]
  },
  {
   "cell_type": "code",
   "execution_count": null,
   "id": "9e0912a5-bd1e-42bd-b97d-3c20ed8e0f68",
   "metadata": {},
   "outputs": [],
   "source": [
    "df >> group_by(_.organization_name) >> summarize(n=_.ali.nunique()) >> arrange(-_.n)"
   ]
  },
  {
   "cell_type": "code",
   "execution_count": null,
   "id": "30cf5db0-47ea-4502-8465-8aae0b5b251d",
   "metadata": {},
   "outputs": [],
   "source": [
    "df >> group_by(_.organization_name) >> summarize(n=_.grant_number.nunique()) >> arrange(-_.n)"
   ]
  },
  {
   "cell_type": "markdown",
   "id": "b04b8694-6332-415c-a565-9d15b2c92d67",
   "metadata": {
    "tags": []
   },
   "source": [
    "## Looking at Agency Names and NTD IDs"
   ]
  },
  {
   "cell_type": "code",
   "execution_count": null,
   "id": "a7b6367c-cef4-498b-a075-9ecc05a94b00",
   "metadata": {},
   "outputs": [],
   "source": [
    "agency_crosswalk = agency_info[['agency_name','ntd_id']]"
   ]
  },
  {
   "cell_type": "code",
   "execution_count": null,
   "id": "3e519ac4-1481-4bc9-8897-2432f9f85a65",
   "metadata": {},
   "outputs": [],
   "source": [
    "agency_crosswalk>>count(_.agency_name)>>arrange(-_.n)>>filter(_.n>1)"
   ]
  },
  {
   "cell_type": "code",
   "execution_count": null,
   "id": "dc27a18a-e690-4e48-800a-bb1823b05850",
   "metadata": {},
   "outputs": [],
   "source": [
    "agency_crosswalk>>filter(_.agency_name=='Humboldt Transit Authority')"
   ]
  },
  {
   "cell_type": "code",
   "execution_count": null,
   "id": "e6c5a740-9e7f-4fe2-bf32-b71df7dc7473",
   "metadata": {},
   "outputs": [],
   "source": [
    "#checking to see if the NTD ID is the same in the Vehicles dataset\n",
    "(vehicles>>filter(_.Agency=='Humboldt Transit Authority'))"
   ]
  },
  {
   "cell_type": "code",
   "execution_count": null,
   "id": "711b0748-d83b-45f3-b90a-4f0f56aa4b8c",
   "metadata": {},
   "outputs": [],
   "source": []
  },
  {
   "cell_type": "code",
   "execution_count": null,
   "id": "fc4fae41-4c24-488f-8b72-774939e9f80b",
   "metadata": {},
   "outputs": [],
   "source": []
  },
  {
   "cell_type": "code",
   "execution_count": null,
   "id": "3652f04d-f901-4f7e-baf5-5455e950f636",
   "metadata": {},
   "outputs": [],
   "source": []
  },
  {
   "cell_type": "markdown",
   "id": "6705cd93-0eef-4b74-a7b6-d8bc8dfa948c",
   "metadata": {},
   "source": [
    "## Misc."
   ]
  },
  {
   "cell_type": "code",
   "execution_count": null,
   "id": "9b0165df-3bbc-4e3b-9677-d38457d8a0ed",
   "metadata": {},
   "outputs": [],
   "source": []
  },
  {
   "cell_type": "code",
   "execution_count": null,
   "id": "32d88728-b939-451f-b33b-c24a98d7ba2e",
   "metadata": {},
   "outputs": [],
   "source": []
  },
  {
   "cell_type": "code",
   "execution_count": null,
   "id": "fd6315eb-dad3-4941-96f7-1329589bdffd",
   "metadata": {},
   "outputs": [],
   "source": []
  },
  {
   "cell_type": "code",
   "execution_count": null,
   "id": "9c282690-10f3-4f13-8301-c49a81d1d4cf",
   "metadata": {},
   "outputs": [],
   "source": []
  },
  {
   "cell_type": "code",
   "execution_count": null,
   "id": "e17a5608-d344-4fa3-96a7-1288416784de",
   "metadata": {},
   "outputs": [],
   "source": []
  },
  {
   "cell_type": "code",
   "execution_count": null,
   "id": "0e3cfa46-f309-44f6-abf9-032f5b13934c",
   "metadata": {},
   "outputs": [],
   "source": []
  },
  {
   "cell_type": "code",
   "execution_count": null,
   "id": "cf837afa-2daf-48a2-ab61-faea6964b024",
   "metadata": {},
   "outputs": [],
   "source": []
  },
  {
   "cell_type": "code",
   "execution_count": null,
   "id": "d0347862-0eeb-401b-86bb-51facc24c773",
   "metadata": {},
   "outputs": [],
   "source": []
  },
  {
   "cell_type": "code",
   "execution_count": null,
   "id": "f27c76d1-f1ef-4510-9119-d15e7dd76937",
   "metadata": {},
   "outputs": [],
   "source": []
  },
  {
   "cell_type": "code",
   "execution_count": null,
   "id": "50a80d13-d5be-4000-a20d-11f29ea675d5",
   "metadata": {},
   "outputs": [],
   "source": []
  },
  {
   "cell_type": "code",
   "execution_count": null,
   "id": "535f97d1-f225-4502-9c4b-8f1df478ad5c",
   "metadata": {},
   "outputs": [],
   "source": []
  },
  {
   "cell_type": "code",
   "execution_count": null,
   "id": "93db23f6-e57a-4600-a9d6-53c7f72998bb",
   "metadata": {},
   "outputs": [],
   "source": []
  },
  {
   "cell_type": "code",
   "execution_count": null,
   "id": "616ae54f-42f9-4b44-963c-dab056bf8953",
   "metadata": {},
   "outputs": [],
   "source": []
  },
  {
   "cell_type": "code",
   "execution_count": null,
   "id": "01cce9cd-2004-4fca-b7cc-a0adc2c401f4",
   "metadata": {},
   "outputs": [],
   "source": []
  },
  {
   "cell_type": "code",
   "execution_count": null,
   "id": "d09dd74e-912e-474b-99c2-e4e2d4fef597",
   "metadata": {},
   "outputs": [],
   "source": []
  }
 ],
 "metadata": {
  "kernelspec": {
   "display_name": "Python 3 (ipykernel)",
   "language": "python",
   "name": "python3"
  },
  "language_info": {
   "codemirror_mode": {
    "name": "ipython",
    "version": 3
   },
   "file_extension": ".py",
   "mimetype": "text/x-python",
   "name": "python",
   "nbconvert_exporter": "python",
   "pygments_lexer": "ipython3",
   "version": "3.10.5"
  },
  "widgets": {
   "application/vnd.jupyter.widget-state+json": {
    "state": {},
    "version_major": 2,
    "version_minor": 0
   }
  }
 },
 "nbformat": 4,
 "nbformat_minor": 5
}
