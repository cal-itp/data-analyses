{
 "cells": [
  {
   "cell_type": "code",
   "execution_count": 1,
   "id": "a244917f-f784-477f-83e3-f9068b92f668",
   "metadata": {
    "execution": {
     "iopub.execute_input": "2022-04-28T17:35:12.581948Z",
     "iopub.status.busy": "2022-04-28T17:35:12.581436Z",
     "iopub.status.idle": "2022-04-28T17:35:23.261921Z",
     "shell.execute_reply": "2022-04-28T17:35:23.261109Z"
    },
    "jupyter": {
     "source_hidden": true
    },
    "papermill": {
     "duration": 10.6922,
     "end_time": "2022-04-28T17:35:23.264673",
     "exception": false,
     "start_time": "2022-04-28T17:35:12.572473",
     "status": "completed"
    },
    "tags": [
     "remove_input"
    ]
   },
   "outputs": [],
   "source": [
    "%%capture\n",
    "import warnings\n",
    "warnings.filterwarnings('ignore')\n",
    "\n",
    "import altair as alt\n",
    "import calitp.magics\n",
    "import geopandas as gpd\n",
    "import intake\n",
    "import pandas as pd\n",
    "\n",
    "from IPython.display import display, Markdown, HTML\n",
    "\n",
    "import parallel_corridors_utils\n",
    "from shared_utils import styleguide\n",
    "from shared_utils import calitp_color_palette as cp\n",
    "\n",
    "catalog = intake.open_catalog(\"./*.yml\")\n",
    "alt.renderers.enable(\"html\")\n",
    "alt.themes.register(\"calitp_theme\", styleguide.calitp_theme)"
   ]
  },
  {
   "cell_type": "code",
   "execution_count": 2,
   "id": "8bdfead1-a7b7-4399-9fc2-5592829c79b1",
   "metadata": {
    "execution": {
     "iopub.execute_input": "2022-04-28T17:35:23.281918Z",
     "iopub.status.busy": "2022-04-28T17:35:23.280717Z",
     "iopub.status.idle": "2022-04-28T17:35:23.286141Z",
     "shell.execute_reply": "2022-04-28T17:35:23.285339Z"
    },
    "jupyter": {
     "source_hidden": true
    },
    "papermill": {
     "duration": 0.015567,
     "end_time": "2022-04-28T17:35:23.288151",
     "exception": false,
     "start_time": "2022-04-28T17:35:23.272584",
     "status": "completed"
    },
    "tags": [
     "parameters",
     "remove_input"
    ]
   },
   "outputs": [],
   "source": [
    "# parameters cell\n",
    "itp_id = 182\n",
    "district = 7"
   ]
  },
  {
   "cell_type": "code",
   "execution_count": 3,
   "id": "79668e4c",
   "metadata": {
    "execution": {
     "iopub.execute_input": "2022-04-28T17:35:23.303881Z",
     "iopub.status.busy": "2022-04-28T17:35:23.302766Z",
     "iopub.status.idle": "2022-04-28T17:35:23.307685Z",
     "shell.execute_reply": "2022-04-28T17:35:23.307130Z"
    },
    "jupyter": {
     "source_hidden": true
    },
    "papermill": {
     "duration": 0.015143,
     "end_time": "2022-04-28T17:35:23.309484",
     "exception": false,
     "start_time": "2022-04-28T17:35:23.294341",
     "status": "completed"
    },
    "tags": [
     "injected-parameters",
     "remove_input"
    ]
   },
   "outputs": [],
   "source": [
    "# Parameters\n",
    "district = 4\n",
    "itp_id = 310\n"
   ]
  },
  {
   "cell_type": "code",
   "execution_count": 4,
   "id": "634a4571-3431-4786-913f-c44624fe7265",
   "metadata": {
    "execution": {
     "iopub.execute_input": "2022-04-28T17:35:23.326471Z",
     "iopub.status.busy": "2022-04-28T17:35:23.325303Z",
     "iopub.status.idle": "2022-04-28T17:35:23.332118Z",
     "shell.execute_reply": "2022-04-28T17:35:23.331390Z"
    },
    "jupyter": {
     "source_hidden": true
    },
    "papermill": {
     "duration": 0.028872,
     "end_time": "2022-04-28T17:35:23.344606",
     "exception": false,
     "start_time": "2022-04-28T17:35:23.315734",
     "status": "completed"
    },
    "tags": [
     "remove_input"
    ]
   },
   "outputs": [],
   "source": [
    "%%capture_parameters\n",
    "itp_id, district"
   ]
  },
  {
   "cell_type": "markdown",
   "id": "a421489f-b3ea-482b-bb8e-e7a9bdbca402",
   "metadata": {
    "papermill": {
     "duration": 0.007226,
     "end_time": "2022-04-28T17:35:23.360358",
     "exception": false,
     "start_time": "2022-04-28T17:35:23.353132",
     "status": "completed"
    },
    "tags": []
   },
   "source": [
    "# Parameterized: 310 in district 4"
   ]
  },
  {
   "cell_type": "code",
   "execution_count": 5,
   "id": "e6257b82-2e84-411d-a967-42d2b866878c",
   "metadata": {
    "execution": {
     "iopub.execute_input": "2022-04-28T17:35:23.377597Z",
     "iopub.status.busy": "2022-04-28T17:35:23.376634Z",
     "iopub.status.idle": "2022-04-28T17:35:24.767690Z",
     "shell.execute_reply": "2022-04-28T17:35:24.766705Z"
    },
    "jupyter": {
     "source_hidden": true
    },
    "papermill": {
     "duration": 1.402279,
     "end_time": "2022-04-28T17:35:24.770198",
     "exception": false,
     "start_time": "2022-04-28T17:35:23.367919",
     "status": "completed"
    },
    "tags": [
     "remove_input"
    ]
   },
   "outputs": [],
   "source": [
    "df = catalog.competitive_route_variability.read()\n",
    "\n",
    "df = (df[(df.calitp_itp_id == itp_id) & \n",
    "         (df.route_group.notna())]\n",
    "      .reset_index(drop=True)\n",
    "     )\n",
    "\n",
    "\n",
    "if itp_id == 182:\n",
    "    df = df.assign(\n",
    "        route_id = df.route_id.str.replace('-13153', '').astype(int)\n",
    "    )"
   ]
  },
  {
   "cell_type": "code",
   "execution_count": 6,
   "id": "7507a2c5-0e9b-4872-98ac-c35981221d06",
   "metadata": {
    "execution": {
     "iopub.execute_input": "2022-04-28T17:35:24.786740Z",
     "iopub.status.busy": "2022-04-28T17:35:24.786429Z",
     "iopub.status.idle": "2022-04-28T17:35:24.798543Z",
     "shell.execute_reply": "2022-04-28T17:35:24.797839Z"
    },
    "jupyter": {
     "source_hidden": true
    },
    "papermill": {
     "duration": 0.022775,
     "end_time": "2022-04-28T17:35:24.800449",
     "exception": false,
     "start_time": "2022-04-28T17:35:24.777674",
     "status": "completed"
    },
    "tags": [
     "remove_input"
    ]
   },
   "outputs": [],
   "source": [
    "agg_df = df.groupby([\"route_id\"]).agg({\"service_hours\": \"sum\"}).reset_index()"
   ]
  },
  {
   "cell_type": "code",
   "execution_count": 7,
   "id": "3160f5dd-3dd7-4dd9-a6cb-b80f385eb7ea",
   "metadata": {
    "execution": {
     "iopub.execute_input": "2022-04-28T17:35:24.817461Z",
     "iopub.status.busy": "2022-04-28T17:35:24.817003Z",
     "iopub.status.idle": "2022-04-28T17:35:24.855670Z",
     "shell.execute_reply": "2022-04-28T17:35:24.854796Z"
    },
    "jupyter": {
     "source_hidden": true
    },
    "papermill": {
     "duration": 0.049385,
     "end_time": "2022-04-28T17:35:24.857925",
     "exception": false,
     "start_time": "2022-04-28T17:35:24.808540",
     "status": "completed"
    },
    "tags": [
     "remove_input"
    ]
   },
   "outputs": [
    {
     "data": {
      "text/html": [
       "\n",
       "<div id=\"altair-viz-9ad439736fa849a2924fa99682905edf\"></div>\n",
       "<script type=\"text/javascript\">\n",
       "  var VEGA_DEBUG = (typeof VEGA_DEBUG == \"undefined\") ? {} : VEGA_DEBUG;\n",
       "  (function(spec, embedOpt){\n",
       "    let outputDiv = document.currentScript.previousElementSibling;\n",
       "    if (outputDiv.id !== \"altair-viz-9ad439736fa849a2924fa99682905edf\") {\n",
       "      outputDiv = document.getElementById(\"altair-viz-9ad439736fa849a2924fa99682905edf\");\n",
       "    }\n",
       "    const paths = {\n",
       "      \"vega\": \"https://cdn.jsdelivr.net/npm//vega@5?noext\",\n",
       "      \"vega-lib\": \"https://cdn.jsdelivr.net/npm//vega-lib?noext\",\n",
       "      \"vega-lite\": \"https://cdn.jsdelivr.net/npm//vega-lite@4.17.0?noext\",\n",
       "      \"vega-embed\": \"https://cdn.jsdelivr.net/npm//vega-embed@6?noext\",\n",
       "    };\n",
       "\n",
       "    function maybeLoadScript(lib, version) {\n",
       "      var key = `${lib.replace(\"-\", \"\")}_version`;\n",
       "      return (VEGA_DEBUG[key] == version) ?\n",
       "        Promise.resolve(paths[lib]) :\n",
       "        new Promise(function(resolve, reject) {\n",
       "          var s = document.createElement('script');\n",
       "          document.getElementsByTagName(\"head\")[0].appendChild(s);\n",
       "          s.async = true;\n",
       "          s.onload = () => {\n",
       "            VEGA_DEBUG[key] = version;\n",
       "            return resolve(paths[lib]);\n",
       "          };\n",
       "          s.onerror = () => reject(`Error loading script: ${paths[lib]}`);\n",
       "          s.src = paths[lib];\n",
       "        });\n",
       "    }\n",
       "\n",
       "    function showError(err) {\n",
       "      outputDiv.innerHTML = `<div class=\"error\" style=\"color:red;\">${err}</div>`;\n",
       "      throw err;\n",
       "    }\n",
       "\n",
       "    function displayChart(vegaEmbed) {\n",
       "      vegaEmbed(outputDiv, spec, embedOpt)\n",
       "        .catch(err => showError(`Javascript Error: ${err.message}<br>This usually means there's a typo in your chart specification. See the javascript console for the full traceback.`));\n",
       "    }\n",
       "\n",
       "    if(typeof define === \"function\" && define.amd) {\n",
       "      requirejs.config({paths});\n",
       "      require([\"vega-embed\"], displayChart, err => showError(`Error loading script: ${err.message}`));\n",
       "    } else {\n",
       "      maybeLoadScript(\"vega\", \"5\")\n",
       "        .then(() => maybeLoadScript(\"vega-lite\", \"4.17.0\"))\n",
       "        .then(() => maybeLoadScript(\"vega-embed\", \"6\"))\n",
       "        .catch(showError)\n",
       "        .then(() => displayChart(vegaEmbed));\n",
       "    }\n",
       "  })({\"config\": {\"view\": {\"continuousWidth\": 400, \"continuousHeight\": 300}}, \"data\": {\"name\": \"data-e3cac4014d4cc7aad4ea1d127f430d74\"}, \"mark\": \"bar\", \"encoding\": {\"color\": {\"field\": \"route_id\", \"scale\": {\"range\": [\"#2EA8CE\", \"#EB9F3C\", \"#F4D837\", \"#51BF9D\", \"#8CBCCB\", \"#9487C0\"]}, \"type\": \"nominal\"}, \"x\": {\"field\": \"route_id\", \"type\": \"nominal\"}, \"y\": {\"field\": \"service_hours\", \"type\": \"quantitative\"}}, \"title\": \"Chart Title\", \"width\": 800, \"$schema\": \"https://vega.github.io/schema/vega-lite/v4.17.0.json\", \"datasets\": {\"data-e3cac4014d4cc7aad4ea1d127f430d74\": [{\"route_id\": \"1\", \"service_hours\": 13.45}, {\"route_id\": \"15\", \"service_hours\": 3.7399999999999998}, {\"route_id\": \"17\", \"service_hours\": 3.7199999999999998}, {\"route_id\": \"2\", \"service_hours\": 12.99}, {\"route_id\": \"3\", \"service_hours\": 10.530000000000001}, {\"route_id\": \"38\", \"service_hours\": 1.0}, {\"route_id\": \"5\", \"service_hours\": 11.67}, {\"route_id\": \"7A\", \"service_hours\": 15.0}, {\"route_id\": \"7B\", \"service_hours\": 14.059999999999999}, {\"route_id\": \"8\", \"service_hours\": 9.24}]}}, {\"mode\": \"vega-lite\"});\n",
       "</script>"
      ],
      "text/plain": [
       "alt.Chart(...)"
      ]
     },
     "execution_count": 7,
     "metadata": {},
     "output_type": "execute_result"
    }
   ],
   "source": [
    "chart = (alt.Chart(agg_df)\n",
    "         .mark_bar()\n",
    "         .encode(\n",
    "             x=\"route_id:N\",\n",
    "             y=\"service_hours:Q\",\n",
    "             color=alt.Color(\"route_id:N\",\n",
    "                 scale=alt.Scale(range=cp.CALITP_CATEGORY_BRIGHT_COLORS))\n",
    "         ).properties(title=\"Chart Title\", width=800)\n",
    "        )\n",
    "\n",
    "chart"
   ]
  },
  {
   "cell_type": "code",
   "execution_count": null,
   "id": "5abd10fb-d850-4c80-aec9-2ad931423399",
   "metadata": {
    "jupyter": {
     "source_hidden": true
    },
    "papermill": {
     "duration": 0.007453,
     "end_time": "2022-04-28T17:35:24.872272",
     "exception": false,
     "start_time": "2022-04-28T17:35:24.864819",
     "status": "completed"
    },
    "tags": [
     "remove_input"
    ]
   },
   "outputs": [],
   "source": []
  }
 ],
 "metadata": {
  "kernelspec": {
   "display_name": "Python 3 (ipykernel)",
   "language": "python",
   "name": "python3"
  },
  "language_info": {
   "codemirror_mode": {
    "name": "ipython",
    "version": 3
   },
   "file_extension": ".py",
   "mimetype": "text/x-python",
   "name": "python",
   "nbconvert_exporter": "python",
   "pygments_lexer": "ipython3",
   "version": "3.9.10"
  },
  "papermill": {
   "default_parameters": {},
   "duration": 14.686785,
   "end_time": "2022-04-28T17:35:26.103612",
   "environment_variables": {},
   "exception": null,
   "input_path": "bus_service_increase/test-chart.ipynb",
   "output_path": "portfolio/parallel_corridors2/district_4/test-chart__itp_id_310.ipynb",
   "parameters": {
    "district": 4,
    "itp_id": 310
   },
   "start_time": "2022-04-28T17:35:11.416827",
   "version": "2.3.4"
  }
 },
 "nbformat": 4,
 "nbformat_minor": 5
}