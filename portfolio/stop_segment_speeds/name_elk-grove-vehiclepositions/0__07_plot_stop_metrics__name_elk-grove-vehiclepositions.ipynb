version https://git-lfs.github.com/spec/v1
oid sha256:369b46fd8c80361c5ea98f025ebf36e8a6ca61f5f5290f5be63415a94396fed9
size 6357543
