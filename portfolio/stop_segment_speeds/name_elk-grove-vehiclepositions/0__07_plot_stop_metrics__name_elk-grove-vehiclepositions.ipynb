version https://git-lfs.github.com/spec/v1
oid sha256:d8ff606a01cf3afbb3af72452480072029997dc83f444b544c090b1b11ec714e
size 2655921
