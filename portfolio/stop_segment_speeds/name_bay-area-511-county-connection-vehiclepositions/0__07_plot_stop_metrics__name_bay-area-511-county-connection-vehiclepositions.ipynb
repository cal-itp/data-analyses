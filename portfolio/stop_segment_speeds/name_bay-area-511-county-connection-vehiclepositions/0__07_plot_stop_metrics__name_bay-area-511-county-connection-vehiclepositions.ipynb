version https://git-lfs.github.com/spec/v1
oid sha256:204b2472d0774e0760ce20282e4c82bf6cc80c90a254e24f398d2e9d37177cd2
size 7190502
