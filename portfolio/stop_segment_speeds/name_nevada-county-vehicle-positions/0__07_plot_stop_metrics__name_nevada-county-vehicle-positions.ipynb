version https://git-lfs.github.com/spec/v1
oid sha256:f17f87a44b329d9c7d94b02c0525bbc1ccd817645a7a4318da2be1f5dc94c7fc
size 1123374
