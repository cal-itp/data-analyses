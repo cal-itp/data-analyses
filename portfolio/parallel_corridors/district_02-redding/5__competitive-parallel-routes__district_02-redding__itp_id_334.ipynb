{
 "cells": [
  {
   "cell_type": "code",
   "execution_count": 1,
   "id": "95d00857-6a20-4529-a519-2cc7182928a9",
   "metadata": {
    "execution": {
     "iopub.execute_input": "2022-05-12T19:03:29.919831Z",
     "iopub.status.busy": "2022-05-12T19:03:29.918891Z",
     "iopub.status.idle": "2022-05-12T19:03:38.229680Z",
     "shell.execute_reply": "2022-05-12T19:03:38.228792Z"
    },
    "jupyter": {
     "source_hidden": true
    },
    "papermill": {
     "duration": 8.327126,
     "end_time": "2022-05-12T19:03:38.232156",
     "exception": false,
     "start_time": "2022-05-12T19:03:29.905030",
     "status": "completed"
    },
    "tags": [
     "remove_input"
    ]
   },
   "outputs": [],
   "source": [
    "%%capture\n",
    "import warnings\n",
    "warnings.filterwarnings('ignore')\n",
    "\n",
    "import altair as alt\n",
    "import calitp.magics\n",
    "import geopandas as gpd\n",
    "import intake\n",
    "import pandas as pd\n",
    "\n",
    "from IPython.display import display, Markdown, HTML\n",
    "\n",
    "import parallel_corridors_utils\n",
    "import deploy_portfolio_yaml\n",
    "from shared_utils import styleguide, geography_utils\n",
    "from make_stripplot_data import diff_cutoffs\n",
    "\n",
    "catalog = intake.open_catalog(\"./*.yml\")\n",
    "alt.renderers.enable(\"html\")"
   ]
  },
  {
   "cell_type": "code",
   "execution_count": 2,
   "id": "8af2a0c1-f3da-408d-9bea-11d9fbf8695d",
   "metadata": {
    "execution": {
     "iopub.execute_input": "2022-05-12T19:03:38.259724Z",
     "iopub.status.busy": "2022-05-12T19:03:38.259184Z",
     "iopub.status.idle": "2022-05-12T19:03:38.263113Z",
     "shell.execute_reply": "2022-05-12T19:03:38.262578Z"
    },
    "jupyter": {
     "source_hidden": true
    },
    "papermill": {
     "duration": 0.019408,
     "end_time": "2022-05-12T19:03:38.264852",
     "exception": false,
     "start_time": "2022-05-12T19:03:38.245444",
     "status": "completed"
    },
    "tags": [
     "parameters",
     "remove_input"
    ]
   },
   "outputs": [],
   "source": [
    "# parameters cell\n",
    "itp_id = 182"
   ]
  },
  {
   "cell_type": "code",
   "execution_count": 3,
   "id": "2374efa1",
   "metadata": {
    "execution": {
     "iopub.execute_input": "2022-05-12T19:03:38.296623Z",
     "iopub.status.busy": "2022-05-12T19:03:38.296027Z",
     "iopub.status.idle": "2022-05-12T19:03:38.299939Z",
     "shell.execute_reply": "2022-05-12T19:03:38.299475Z"
    },
    "jupyter": {
     "source_hidden": true
    },
    "papermill": {
     "duration": 0.025164,
     "end_time": "2022-05-12T19:03:38.301735",
     "exception": false,
     "start_time": "2022-05-12T19:03:38.276571",
     "status": "completed"
    },
    "tags": [
     "injected-parameters",
     "remove_input"
    ]
   },
   "outputs": [],
   "source": [
    "# Parameters\n",
    "district = \"02 - Redding\"\n",
    "itp_id = 334\n"
   ]
  },
  {
   "cell_type": "code",
   "execution_count": 4,
   "id": "9582aaf4-79ff-412a-b248-8d8d693ebd4f",
   "metadata": {
    "execution": {
     "iopub.execute_input": "2022-05-12T19:03:38.328862Z",
     "iopub.status.busy": "2022-05-12T19:03:38.328627Z",
     "iopub.status.idle": "2022-05-12T19:03:39.545551Z",
     "shell.execute_reply": "2022-05-12T19:03:39.544728Z"
    },
    "jupyter": {
     "source_hidden": true
    },
    "papermill": {
     "duration": 1.234039,
     "end_time": "2022-05-12T19:03:39.547769",
     "exception": false,
     "start_time": "2022-05-12T19:03:38.313730",
     "status": "completed"
    },
    "tags": [
     "remove_input"
    ]
   },
   "outputs": [],
   "source": [
    "df = catalog.competitive_route_variability.read()\n",
    "\n",
    "df = (df[(df.calitp_itp_id == itp_id) & \n",
    "         (df.route_group.notna())]\n",
    "      .rename(columns = {\"route_name_used\": \"route_name\"})\n",
    "      .reset_index(drop=True)\n",
    "     )\n",
    "\n",
    "if itp_id == 182:\n",
    "    df = df.assign(\n",
    "        route_id = df.route_id.str.replace('-13153', '').astype(int)\n",
    "    )"
   ]
  },
  {
   "cell_type": "code",
   "execution_count": 5,
   "id": "33ac4b06-f647-4dce-a625-8f2c1b37cc60",
   "metadata": {
    "execution": {
     "iopub.execute_input": "2022-05-12T19:03:39.574967Z",
     "iopub.status.busy": "2022-05-12T19:03:39.574078Z",
     "iopub.status.idle": "2022-05-12T19:03:39.580986Z",
     "shell.execute_reply": "2022-05-12T19:03:39.580453Z"
    },
    "jupyter": {
     "source_hidden": true
    },
    "papermill": {
     "duration": 0.022544,
     "end_time": "2022-05-12T19:03:39.582732",
     "exception": false,
     "start_time": "2022-05-12T19:03:39.560188",
     "status": "completed"
    },
    "tags": [
     "remove_input"
    ]
   },
   "outputs": [],
   "source": [
    "%%capture_parameters\n",
    "operator_name = df.name.iloc[0]\n",
    "district_number = f\"{df.caltrans_district.iloc[0].split('-')[0].strip()}\"\n",
    "district_name = f\"{df.caltrans_district.iloc[0].split('-')[1].strip().lower().replace(' ', '-')}\"\n",
    "\n",
    "itp_id, operator_name, district_number, district_name"
   ]
  },
  {
   "cell_type": "markdown",
   "id": "65bc6f5c-8348-42ee-b2dd-52057c406852",
   "metadata": {
    "papermill": {
     "duration": 0.011978,
     "end_time": "2022-05-12T19:03:39.612761",
     "exception": false,
     "start_time": "2022-05-12T19:03:39.600783",
     "status": "completed"
    },
    "tags": []
   },
   "source": [
    "# Tehama County (ITP ID: 334)"
   ]
  },
  {
   "cell_type": "code",
   "execution_count": 6,
   "id": "a689c1ab-2c6c-4831-8d64-897f5986f571",
   "metadata": {
    "execution": {
     "iopub.execute_input": "2022-05-12T19:03:39.640009Z",
     "iopub.status.busy": "2022-05-12T19:03:39.639724Z",
     "iopub.status.idle": "2022-05-12T19:03:39.645734Z",
     "shell.execute_reply": "2022-05-12T19:03:39.644930Z"
    },
    "jupyter": {
     "source_hidden": true
    },
    "papermill": {
     "duration": 0.021933,
     "end_time": "2022-05-12T19:03:39.647550",
     "exception": false,
     "start_time": "2022-05-12T19:03:39.625617",
     "status": "completed"
    },
    "tags": [
     "remove_input"
    ]
   },
   "outputs": [
    {
     "data": {
      "text/html": [
       "<h1>Competitive & Parallel Routes</h1>"
      ],
      "text/plain": [
       "<IPython.core.display.HTML object>"
      ]
     },
     "metadata": {},
     "output_type": "display_data"
    }
   ],
   "source": [
    "display(HTML(\"<h1>Competitive & Parallel Routes</h1>\")) "
   ]
  },
  {
   "cell_type": "code",
   "execution_count": 7,
   "id": "2cb4d8d5-4760-40e4-85b1-cb833d8bb648",
   "metadata": {
    "execution": {
     "iopub.execute_input": "2022-05-12T19:03:39.677172Z",
     "iopub.status.busy": "2022-05-12T19:03:39.676577Z",
     "iopub.status.idle": "2022-05-12T19:03:49.690425Z",
     "shell.execute_reply": "2022-05-12T19:03:49.689807Z"
    },
    "jupyter": {
     "source_hidden": true
    },
    "papermill": {
     "duration": 10.031288,
     "end_time": "2022-05-12T19:03:49.692577",
     "exception": false,
     "start_time": "2022-05-12T19:03:39.661289",
     "status": "completed"
    },
    "tags": [
     "remove_input"
    ]
   },
   "outputs": [],
   "source": [
    "# Grab parameters for narrative text - clean up formatting here \n",
    "district = df.caltrans_district.iloc[0]\n",
    "formatted_date = pd.to_datetime(parallel_corridors_utils.SELECTED_DATE).strftime('%m-%d-%Y')\n",
    "\n",
    "PCT_COMPETITIVE_THRESHOLD = 0.75\n",
    "PCT_TRIPS_BELOW_CUTOFF = 1.0\n",
    "\n",
    "stats = parallel_corridors_utils.operator_parallel_competitive_stats(\n",
    "    itp_id, PCT_COMPETITIVE_THRESHOLD, PCT_TRIPS_BELOW_CUTOFF)\n",
    "\n",
    "pct_parallel = round(stats['parallel_routes'] / stats['num_routes'] * 100, 1 )\n",
    "pct_competitive =  round(stats['competitive_routes'] / stats['num_routes'] * 100, 1 )\n",
    "pct_viable =  round(stats['viable_competitive_routes'] / stats['num_routes'] * 100, 1 )"
   ]
  },
  {
   "cell_type": "code",
   "execution_count": 8,
   "id": "8bf30c8f-6aa5-47bb-82ae-a906732e81fd",
   "metadata": {
    "execution": {
     "iopub.execute_input": "2022-05-12T19:03:49.720973Z",
     "iopub.status.busy": "2022-05-12T19:03:49.720474Z",
     "iopub.status.idle": "2022-05-12T19:03:49.748067Z",
     "shell.execute_reply": "2022-05-12T19:03:49.747525Z"
    },
    "jupyter": {
     "source_hidden": true
    },
    "papermill": {
     "duration": 0.044137,
     "end_time": "2022-05-12T19:03:49.750047",
     "exception": false,
     "start_time": "2022-05-12T19:03:49.705910",
     "status": "completed"
    },
    "tags": [
     "remove_input"
    ]
   },
   "outputs": [],
   "source": [
    "# Display a table of route-level stats for each route_group\n",
    "# Displaying route_name makes chart too crowded\n",
    "\n",
    "# Get route stats (for entire df)\n",
    "route_stats = parallel_corridors_utils.competitive_route_level_stats(df)\n",
    "    \n",
    "def style_route_stats(df, top15_routes):\n",
    "    df = df[df.route_id.isin(top15_routes)]\n",
    "    \n",
    "    # Rename columns for display\n",
    "    rename_cols = {\n",
    "        \"route_id\": \"Route ID\",\n",
    "        \"route_name\": \"Route Name\",\n",
    "        \"route_group\": \"Route Group\",\n",
    "        \"num_trips\": \"# trips\",\n",
    "        \"daily_avg_freq\": \"Daily Avg Freq (trips per hr)\",\n",
    "        \"pm_peak_freq\": \"PM Peak Avg Freq (trips per hr)\",\n",
    "        \"percentiles\": \"25th, 50th, 75th ptile (hrs)\",\n",
    "    }\n",
    "    \n",
    "    # Style it\n",
    "    drop_cols = [\n",
    "        \"calitp_itp_id\", \"below_cutoff\", \"route_group\", \n",
    "        \"pct_trips_competitive\", \"pct_below_cutoff\",\n",
    "        \"p25\", \"p50\", \"p75\",\n",
    "    ]\n",
    "    \n",
    "    # Change alignment for some columns\n",
    "    # https://stackoverflow.com/questions/59453091/left-align-the-first-column-and-center-align-the-other-columns-in-a-pandas-table\n",
    "    df_style = (df.sort_values(\n",
    "        [\"pct_trips_competitive\", \"below_cutoff\", \n",
    "        \"pct_below_cutoff\", \"route_id\"], \n",
    "        ascending=[False, False, False, True])\n",
    "           .drop(columns = drop_cols)\n",
    "           .rename(columns = rename_cols)\n",
    "           .style.format(\n",
    "               subset=['Daily Avg Freq (trips per hr)', \n",
    "                       'PM Peak Avg Freq (trips per hr)'], \n",
    "               **{'formatter': '{:,.3}'})\n",
    "                .set_properties(subset=['Route ID', 'Route Name'], \n",
    "                                **{'text-align': 'left'})\n",
    "                .set_properties(subset=['# trips', 'Daily Avg Freq (trips per hr)', \n",
    "                                       'PM Peak Avg Freq (trips per hr)'], \n",
    "                               **{'text-align': 'center'})\n",
    "                .set_table_styles([dict(selector='th', \n",
    "                                        props=[('text-align', 'center')])\n",
    "                                        ])\n",
    "           .hide(axis=\"index\")\n",
    "           .to_html()\n",
    "          )\n",
    "    \n",
    "    display(HTML(\"<h4>Route Stats</h4>\"))\n",
    "    display(HTML(df_style))"
   ]
  },
  {
   "cell_type": "markdown",
   "id": "ab667928-5274-4490-82d9-4c39293209a4",
   "metadata": {
    "papermill": {
     "duration": 0.013498,
     "end_time": "2022-05-12T19:03:49.777077",
     "exception": false,
     "start_time": "2022-05-12T19:03:49.763579",
     "status": "completed"
    },
    "tags": []
   },
   "source": [
    "## Quick Stats"
   ]
  },
  {
   "cell_type": "code",
   "execution_count": 9,
   "id": "0416509d-dc62-4165-b62e-64f8b26e8b8e",
   "metadata": {
    "execution": {
     "iopub.execute_input": "2022-05-12T19:03:49.808054Z",
     "iopub.status.busy": "2022-05-12T19:03:49.807561Z",
     "iopub.status.idle": "2022-05-12T19:03:49.813618Z",
     "shell.execute_reply": "2022-05-12T19:03:49.813111Z"
    },
    "jupyter": {
     "source_hidden": true
    },
    "papermill": {
     "duration": 0.022388,
     "end_time": "2022-05-12T19:03:49.815327",
     "exception": false,
     "start_time": "2022-05-12T19:03:49.792939",
     "status": "completed"
    },
    "tags": [
     "remove_input"
    ]
   },
   "outputs": [
    {
     "data": {
      "text/markdown": [
       "**Bus routes in service: 5**<br>**Parallel routes** to State Highway Network (SHN): **5 routes (100.0%)**<br>**Competitive routes** against car travel (within 2x car travel time): **2 routes (40.0%)**<br>**Viable competitive routes** against car travel (within 2x car travel time and within 20, 30, or 40 min cut-off): **1 routes (20.0%)**"
      ],
      "text/plain": [
       "<IPython.core.display.Markdown object>"
      ]
     },
     "metadata": {},
     "output_type": "display_data"
    }
   ],
   "source": [
    "display(\n",
    "    Markdown(\n",
    "        f\"**Bus routes in service: {stats['num_routes']}**\"\n",
    "        \"<br>**Parallel routes** to State Highway Network (SHN): \"\n",
    "        f\"**{stats['parallel_routes']} routes ({pct_parallel}%)**\"\n",
    "        \"<br>**Competitive routes** against car travel (within 2x car travel time): \"\n",
    "        f\"**{stats['competitive_routes']} routes ({pct_competitive}%)**\"\n",
    "        \"<br>**Viable competitive routes** against car travel \"\n",
    "        \"(within 2x car travel time and within 20, 30, or 40 min cut-off): \"\n",
    "        f\"**{stats['viable_competitive_routes']} routes ({pct_viable}%)**\"\n",
    "    )\n",
    ")"
   ]
  },
  {
   "cell_type": "code",
   "execution_count": 10,
   "id": "f9d6ab58-f0ee-460c-b6de-657490e1f386",
   "metadata": {
    "execution": {
     "iopub.execute_input": "2022-05-12T19:03:49.843879Z",
     "iopub.status.busy": "2022-05-12T19:03:49.843324Z",
     "iopub.status.idle": "2022-05-12T19:03:49.849913Z",
     "shell.execute_reply": "2022-05-12T19:03:49.849374Z"
    },
    "jupyter": {
     "source_hidden": true
    },
    "papermill": {
     "duration": 0.023067,
     "end_time": "2022-05-12T19:03:49.851658",
     "exception": false,
     "start_time": "2022-05-12T19:03:49.828591",
     "status": "completed"
    },
    "tags": [
     "remove_input"
    ]
   },
   "outputs": [],
   "source": [
    "def set_yaxis_range(df, y_col):\n",
    "    Y_MIN = df[y_col].min()\n",
    "    Y_MAX = df[y_col].max()\n",
    "    \n",
    "    return Y_MIN, Y_MAX\n",
    "\n",
    "# Rather than set it according to the operator, which can vary,\n",
    "# just use set thresholds for each group\n",
    "def top15_routes(df, route_group):\n",
    "    # grab top 15 routes where majority of trips are below that cut-off \n",
    "    # but show 15 max, otherwise, show less, since these won't be as interesting to operators\n",
    "    df2 = (df[(df.route_group==route_group) &\n",
    "              (df.pct_below_cutoff >= PCT_TRIPS_BELOW_CUTOFF)]\n",
    "           .sort_values([\"calitp_itp_id\", \"below_cutoff\", \n",
    "                         \"pct_below_cutoff\", \"route_id\"],\n",
    "                        ascending = [True, False, False, True]\n",
    "                       )\n",
    "           .drop_duplicates(subset=[\"calitp_itp_id\", \"route_id\"])\n",
    "          ).head(15)\n",
    "    \n",
    "    return list(df2.route_id)"
   ]
  },
  {
   "cell_type": "code",
   "execution_count": 11,
   "id": "cf36d559-3349-4144-8086-8ac9ce937a5a",
   "metadata": {
    "execution": {
     "iopub.execute_input": "2022-05-12T19:03:49.888345Z",
     "iopub.status.busy": "2022-05-12T19:03:49.881277Z",
     "iopub.status.idle": "2022-05-12T19:03:49.893366Z",
     "shell.execute_reply": "2022-05-12T19:03:49.892721Z"
    },
    "jupyter": {
     "source_hidden": true
    },
    "papermill": {
     "duration": 0.029202,
     "end_time": "2022-05-12T19:03:49.895166",
     "exception": false,
     "start_time": "2022-05-12T19:03:49.865964",
     "status": "completed"
    },
    "tags": [
     "remove_input"
    ]
   },
   "outputs": [],
   "source": [
    "def caption_with_cutoff(cutoff):\n",
    "    sentence = (\n",
    "        f\"<br>These are routes that have **{int(PCT_TRIPS_BELOW_CUTOFF*100)}% \"\n",
    "        \"of their trips take no more than an \"\n",
    "        f\"additional {cutoff} min** compared to a car \"\n",
    "        \"(up to 15 routes) are shown.\"\n",
    "        \"<br>Within each route group, routes are sorted in descending order \"\n",
    "        \"by % competitive trips and # trips below the additional time cut-off.\"\n",
    "    )\n",
    "    return sentence\n",
    "\n",
    "CAPTIONS_DICT = {\n",
    "    \"short\": caption_with_cutoff(diff_cutoffs['short']),\n",
    "    \"medium\": caption_with_cutoff(diff_cutoffs['medium']),\n",
    "    \"long\": caption_with_cutoff(diff_cutoffs['long']),\n",
    "}"
   ]
  },
  {
   "cell_type": "code",
   "execution_count": 12,
   "id": "e4306d58-6944-47e9-afef-5d5b524c751f",
   "metadata": {
    "execution": {
     "iopub.execute_input": "2022-05-12T19:03:49.924545Z",
     "iopub.status.busy": "2022-05-12T19:03:49.923987Z",
     "iopub.status.idle": "2022-05-12T19:03:49.930955Z",
     "shell.execute_reply": "2022-05-12T19:03:49.930448Z"
    },
    "jupyter": {
     "source_hidden": true
    },
    "papermill": {
     "duration": 0.024041,
     "end_time": "2022-05-12T19:03:49.932933",
     "exception": false,
     "start_time": "2022-05-12T19:03:49.908892",
     "status": "completed"
    },
    "tags": [
     "remove_input"
    ]
   },
   "outputs": [],
   "source": [
    "def setup_charts(df, PCT_COMPETITIVE_THRESHOLD, route_group):\n",
    "    # Set up df for charting (cut-off at some threshold to show most competitive routes)\n",
    "    plot_me = (df[df.pct_trips_competitive > PCT_COMPETITIVE_THRESHOLD]\n",
    "           .drop(columns = \"geometry\")\n",
    "    )\n",
    "    \n",
    "    # Set y-ranges to be the same across route_groups, \n",
    "    # otherwise charts fluctuate too much, even within operator\n",
    "    y_col1 = \"bus_multiplier\"\n",
    "    Y_MIN1, Y_MAX1 = set_yaxis_range(plot_me, y_col1)\n",
    "\n",
    "    y_col2 = \"bus_difference\"\n",
    "    Y_MIN2, Y_MAX2 = set_yaxis_range(plot_me, y_col2)\n",
    "    \n",
    "    # Grab the routes to plot\n",
    "    subset_routes = top15_routes(plot_me, route_group)\n",
    "        \n",
    "    # Display charts\n",
    "    multiplier_chart = parallel_corridors_utils.make_stripplot(\n",
    "        plot_me[plot_me.route_id.isin(subset_routes)], \n",
    "        y_col1, Y_MIN = Y_MIN1, Y_MAX = Y_MAX1\n",
    "    )\n",
    "    \n",
    "    difference_chart = parallel_corridors_utils.make_stripplot(\n",
    "        plot_me[plot_me.route_id.isin(subset_routes)], \n",
    "        y_col2, Y_MIN = Y_MIN2, Y_MAX = Y_MAX2\n",
    "    )\n",
    "    \n",
    "    return subset_routes, multiplier_chart, difference_chart            "
   ]
  },
  {
   "cell_type": "code",
   "execution_count": 13,
   "id": "33a710e8-504c-4942-aa75-ff69f216956e",
   "metadata": {
    "execution": {
     "iopub.execute_input": "2022-05-12T19:03:49.962971Z",
     "iopub.status.busy": "2022-05-12T19:03:49.962032Z",
     "iopub.status.idle": "2022-05-12T19:03:49.968010Z",
     "shell.execute_reply": "2022-05-12T19:03:49.967089Z"
    },
    "jupyter": {
     "source_hidden": true
    },
    "papermill": {
     "duration": 0.022732,
     "end_time": "2022-05-12T19:03:49.969797",
     "exception": false,
     "start_time": "2022-05-12T19:03:49.947065",
     "status": "completed"
    },
    "tags": [
     "remove_input"
    ]
   },
   "outputs": [],
   "source": [
    "def display_charts_for_route_group(df, route_group):    \n",
    "    subset_routes, mult, diff  = setup_charts(df, PCT_COMPETITIVE_THRESHOLD, route_group)\n",
    "\n",
    "    if len(subset_routes) > 0:\n",
    "        display(Markdown(f\"{CAPTIONS_DICT[route_group]}\"))\n",
    "\n",
    "        display(mult)\n",
    "        display(diff)\n",
    "        \n",
    "        # Display route stats for just plotted routes\n",
    "        style_route_stats(route_stats, subset_routes)"
   ]
  },
  {
   "cell_type": "markdown",
   "id": "525f9b38-072b-46d1-96a8-1aa4b038357c",
   "metadata": {
    "papermill": {
     "duration": 0.013872,
     "end_time": "2022-05-12T19:03:50.005484",
     "exception": false,
     "start_time": "2022-05-12T19:03:49.991612",
     "status": "completed"
    },
    "tags": []
   },
   "source": [
    "## Viable Competitive Routes\n",
    "### Short Routes (< 1 hr)"
   ]
  },
  {
   "cell_type": "code",
   "execution_count": 14,
   "id": "57f7084c-2cf7-45c6-ba08-1609e0bd6ca5",
   "metadata": {
    "execution": {
     "iopub.execute_input": "2022-05-12T19:03:50.036274Z",
     "iopub.status.busy": "2022-05-12T19:03:50.035322Z",
     "iopub.status.idle": "2022-05-12T19:03:50.049808Z",
     "shell.execute_reply": "2022-05-12T19:03:50.048990Z"
    },
    "jupyter": {
     "source_hidden": true
    },
    "papermill": {
     "duration": 0.032178,
     "end_time": "2022-05-12T19:03:50.051880",
     "exception": false,
     "start_time": "2022-05-12T19:03:50.019702",
     "status": "completed"
    },
    "tags": [
     "remove_input"
    ]
   },
   "outputs": [
    {
     "name": "stdout",
     "output_type": "stream",
     "text": [
      "No routes meet this criteria.\n"
     ]
    }
   ],
   "source": [
    "# Allow for possibility that operator doesn't have routes that fall into certain route_groups\n",
    "# But, jupyterbook will not like markdown with f-string\n",
    "# separate out route_group and put in each cell, and use try/except + if to display...\n",
    "# but all 3 route groups must be displayed. just add sentence about why no routes were returned at the end\n",
    "route_group = \"short\"\n",
    "try:\n",
    "    display_charts_for_route_group(df, route_group)\n",
    "except:\n",
    "    print(\"No routes meet this criteria.\")"
   ]
  },
  {
   "cell_type": "markdown",
   "id": "c2931b6f-034d-4384-9e14-80b925e3b820",
   "metadata": {
    "papermill": {
     "duration": 0.023485,
     "end_time": "2022-05-12T19:03:50.089538",
     "exception": false,
     "start_time": "2022-05-12T19:03:50.066053",
     "status": "completed"
    },
    "tags": []
   },
   "source": [
    "### Medium Routes (1-1.5 hrs)"
   ]
  },
  {
   "cell_type": "code",
   "execution_count": 15,
   "id": "480edddc-4de0-48c2-ae4c-b0ceef8f28b5",
   "metadata": {
    "execution": {
     "iopub.execute_input": "2022-05-12T19:03:50.120150Z",
     "iopub.status.busy": "2022-05-12T19:03:50.119165Z",
     "iopub.status.idle": "2022-05-12T19:03:50.411806Z",
     "shell.execute_reply": "2022-05-12T19:03:50.411056Z"
    },
    "jupyter": {
     "source_hidden": true
    },
    "papermill": {
     "duration": 0.309563,
     "end_time": "2022-05-12T19:03:50.413657",
     "exception": false,
     "start_time": "2022-05-12T19:03:50.104094",
     "status": "completed"
    },
    "tags": [
     "remove_input"
    ]
   },
   "outputs": [
    {
     "data": {
      "text/markdown": [
       "<br>These are routes that have **100% of their trips take no more than an additional 30 min** compared to a car (up to 15 routes) are shown.<br>Within each route group, routes are sorted in descending order by % competitive trips and # trips below the additional time cut-off."
      ],
      "text/plain": [
       "<IPython.core.display.Markdown object>"
      ]
     },
     "metadata": {},
     "output_type": "display_data"
    },
    {
     "data": {
      "text/html": [
       "\n",
       "<div id=\"altair-viz-176f134840a5458ea2951f1a1a336cf5\"></div>\n",
       "<script type=\"text/javascript\">\n",
       "  var VEGA_DEBUG = (typeof VEGA_DEBUG == \"undefined\") ? {} : VEGA_DEBUG;\n",
       "  (function(spec, embedOpt){\n",
       "    let outputDiv = document.currentScript.previousElementSibling;\n",
       "    if (outputDiv.id !== \"altair-viz-176f134840a5458ea2951f1a1a336cf5\") {\n",
       "      outputDiv = document.getElementById(\"altair-viz-176f134840a5458ea2951f1a1a336cf5\");\n",
       "    }\n",
       "    const paths = {\n",
       "      \"vega\": \"https://cdn.jsdelivr.net/npm//vega@5?noext\",\n",
       "      \"vega-lib\": \"https://cdn.jsdelivr.net/npm//vega-lib?noext\",\n",
       "      \"vega-lite\": \"https://cdn.jsdelivr.net/npm//vega-lite@4.17.0?noext\",\n",
       "      \"vega-embed\": \"https://cdn.jsdelivr.net/npm//vega-embed@6?noext\",\n",
       "    };\n",
       "\n",
       "    function maybeLoadScript(lib, version) {\n",
       "      var key = `${lib.replace(\"-\", \"\")}_version`;\n",
       "      return (VEGA_DEBUG[key] == version) ?\n",
       "        Promise.resolve(paths[lib]) :\n",
       "        new Promise(function(resolve, reject) {\n",
       "          var s = document.createElement('script');\n",
       "          document.getElementsByTagName(\"head\")[0].appendChild(s);\n",
       "          s.async = true;\n",
       "          s.onload = () => {\n",
       "            VEGA_DEBUG[key] = version;\n",
       "            return resolve(paths[lib]);\n",
       "          };\n",
       "          s.onerror = () => reject(`Error loading script: ${paths[lib]}`);\n",
       "          s.src = paths[lib];\n",
       "        });\n",
       "    }\n",
       "\n",
       "    function showError(err) {\n",
       "      outputDiv.innerHTML = `<div class=\"error\" style=\"color:red;\">${err}</div>`;\n",
       "      throw err;\n",
       "    }\n",
       "\n",
       "    function displayChart(vegaEmbed) {\n",
       "      vegaEmbed(outputDiv, spec, embedOpt)\n",
       "        .catch(err => showError(`Javascript Error: ${err.message}<br>This usually means there's a typo in your chart specification. See the javascript console for the full traceback.`));\n",
       "    }\n",
       "\n",
       "    if(typeof define === \"function\" && define.amd) {\n",
       "      requirejs.config({paths});\n",
       "      require([\"vega-embed\"], displayChart, err => showError(`Error loading script: ${err.message}`));\n",
       "    } else {\n",
       "      maybeLoadScript(\"vega\", \"5\")\n",
       "        .then(() => maybeLoadScript(\"vega-lite\", \"4.17.0\"))\n",
       "        .then(() => maybeLoadScript(\"vega-embed\", \"6\"))\n",
       "        .catch(showError)\n",
       "        .then(() => displayChart(vegaEmbed));\n",
       "    }\n",
       "  })({\"config\": {\"view\": {\"continuousWidth\": 400, \"continuousHeight\": 300, \"stroke\": null}, \"facet\": {\"spacing\": 0}}, \"data\": {\"name\": \"data-a668dbd043d93a1da0a73a69ec49ae1c\"}, \"facet\": {\"column\": {\"field\": \"route_id\", \"sort\": [\"140\"], \"title\": \"Route ID\", \"type\": \"nominal\"}}, \"spec\": {\"layer\": [{\"mark\": \"rule\", \"encoding\": {\"color\": {\"value\": \"black\"}, \"y\": {\"field\": \"cutoff\", \"type\": \"quantitative\"}}, \"selection\": {\"selector001\": {\"type\": \"interval\", \"bind\": \"scales\", \"encodings\": [\"x\", \"y\"]}}}, {\"mark\": {\"type\": \"point\", \"opacity\": 0.65, \"size\": 12, \"strokeWidth\": 1.1}, \"encoding\": {\"color\": {\"field\": \"time_of_day\", \"scale\": {\"range\": [\"#136C97\", \"#E16B26\", \"#F6BF16\", \"#00896B\", \"#7790A3\", \"#5B559C\"]}, \"sort\": [\"AM Peak\", \"Midday\", \"PM Peak\", \"Owl Service\"], \"title\": \"Time of Day\", \"type\": \"nominal\"}, \"tooltip\": [{\"field\": \"route_id\", \"type\": \"nominal\"}, {\"field\": \"route_name\", \"type\": \"nominal\"}, {\"field\": \"trip_id\", \"type\": \"nominal\"}, {\"field\": \"service_hours\", \"type\": \"quantitative\"}, {\"field\": \"car_duration_hours\", \"type\": \"quantitative\"}, {\"field\": \"bus_multiplier\", \"type\": \"quantitative\"}, {\"field\": \"bus_difference\", \"type\": \"quantitative\"}, {\"field\": \"num_trips\", \"type\": \"quantitative\"}, {\"field\": \"num_competitive\", \"type\": \"quantitative\"}, {\"field\": \"pct_trips_competitive\", \"type\": \"quantitative\"}, {\"field\": \"pct_below_cutoff\", \"type\": \"quantitative\"}, {\"field\": \"p25\", \"type\": \"quantitative\"}, {\"field\": \"p50\", \"type\": \"quantitative\"}, {\"field\": \"p75\", \"type\": \"quantitative\"}], \"x\": {\"axis\": {\"grid\": false, \"labels\": false, \"ticks\": true, \"values\": [0]}, \"field\": \"jitter\", \"scale\": {}, \"title\": null, \"type\": \"quantitative\"}, \"y\": {\"field\": \"bus_multiplier\", \"scale\": {\"domain\": [0, 3.0]}, \"title\": \"Ratio of Bus to Car Travel Time\", \"type\": \"quantitative\"}}, \"transform\": [{\"calculate\": \"sqrt(-2*log(random()))*cos(2*PI*random())\", \"as\": \"jitter\"}], \"width\": 50}, {\"layer\": [{\"mark\": {\"type\": \"point\", \"opacity\": 0.6, \"size\": 20, \"strokeWidth\": 1.3}, \"encoding\": {\"color\": {\"value\": \"#323434\"}, \"y\": {\"field\": \"bus_multiplier\", \"type\": \"quantitative\"}}, \"transform\": [{\"filter\": \"(datum.p50_trip === 1)\"}]}, {\"mark\": {\"type\": \"text\", \"align\": \"center\", \"baseline\": \"middle\"}, \"encoding\": {\"color\": {\"value\": \"black\"}, \"text\": {\"field\": \"pct_trips_competitive\", \"format\": \".0%\", \"type\": \"quantitative\"}, \"tooltip\": [{\"field\": \"route_id\", \"type\": \"nominal\"}, {\"field\": \"route_name\", \"type\": \"nominal\"}, {\"field\": \"trip_id\", \"type\": \"nominal\"}, {\"field\": \"service_hours\", \"type\": \"quantitative\"}, {\"field\": \"car_duration_hours\", \"type\": \"quantitative\"}, {\"field\": \"bus_multiplier\", \"type\": \"quantitative\"}, {\"field\": \"bus_difference\", \"type\": \"quantitative\"}, {\"field\": \"num_trips\", \"type\": \"quantitative\"}, {\"field\": \"num_competitive\", \"type\": \"quantitative\"}, {\"field\": \"pct_trips_competitive\", \"type\": \"quantitative\"}, {\"field\": \"pct_below_cutoff\", \"type\": \"quantitative\"}, {\"field\": \"p25\", \"type\": \"quantitative\"}, {\"field\": \"p50\", \"type\": \"quantitative\"}, {\"field\": \"p75\", \"type\": \"quantitative\"}], \"x\": {\"value\": 30}, \"y\": {\"value\": 15}}, \"transform\": [{\"calculate\": \"sqrt(-2*log(random()))*cos(2*PI*random())\", \"as\": \"jitter\"}, {\"filter\": \"(datum.fastest_trip === 1)\"}]}]}]}, \"resolve\": {\"scale\": {\"y\": \"shared\"}}, \"title\": \"Ratio of Bus to Car Travel Time\", \"$schema\": \"https://vega.github.io/schema/vega-lite/v4.17.0.json\", \"datasets\": {\"data-a668dbd043d93a1da0a73a69ec49ae1c\": [{\"calitp_itp_id\": 334, \"trip_key\": 3789012145727333403, \"trip_id\": \"t_43182_b_486_tn_0\", \"shape_id\": \"p_2590\", \"route_id\": \"140\", \"service_hours\": 1.17, \"trip_first_departure_ts\": 27000, \"trip_last_arrival_ts\": 31200, \"departure_hour\": 7, \"time_of_day\": \"AM Peak\", \"p25\": 1.17, \"p50\": 1.17, \"p75\": 1.17, \"p50_trip\": 1, \"fastest_trip\": 0, \"car_duration_hours\": 0.74, \"competitive_route\": 1, \"bus_multiplier\": 1.58, \"bus_difference\": 25.8, \"num_trips\": 18, \"num_competitive\": 18, \"pct_trips_competitive\": 1.0, \"bus_difference_spread\": 0.0, \"route_group\": \"medium\", \"max_trip_hrs\": 1.17, \"max_trip_route_group\": 1.17, \"below_cutoff\": 18, \"pct_below_cutoff\": 1.0, \"name\": \"Tehama County\", \"caltrans_district\": \"02 - Redding\", \"drmt_organization_name\": null, \"route_name\": \"Regional - Red Bluff, Los Molinos, Gerber\", \"cutoff2\": 30, \"cutoff\": 2}, {\"calitp_itp_id\": 334, \"trip_key\": 2077162622524927707, \"trip_id\": \"t_701156_b_486_tn_0\", \"shape_id\": \"p_2590\", \"route_id\": \"140\", \"service_hours\": 1.17, \"trip_first_departure_ts\": 43800, \"trip_last_arrival_ts\": 48000, \"departure_hour\": 12, \"time_of_day\": \"Midday\", \"p25\": 1.17, \"p50\": 1.17, \"p75\": 1.17, \"p50_trip\": 1, \"fastest_trip\": 0, \"car_duration_hours\": 0.74, \"competitive_route\": 1, \"bus_multiplier\": 1.58, \"bus_difference\": 25.8, \"num_trips\": 18, \"num_competitive\": 18, \"pct_trips_competitive\": 1.0, \"bus_difference_spread\": 0.0, \"route_group\": \"medium\", \"max_trip_hrs\": 1.17, \"max_trip_route_group\": 1.17, \"below_cutoff\": 18, \"pct_below_cutoff\": 1.0, \"name\": \"Tehama County\", \"caltrans_district\": \"02 - Redding\", \"drmt_organization_name\": null, \"route_name\": \"Regional - Red Bluff, Los Molinos, Gerber\", \"cutoff2\": 30, \"cutoff\": 2}, {\"calitp_itp_id\": 334, \"trip_key\": -2595454426414092766, \"trip_id\": \"t_41753_b_486_tn_0\", \"shape_id\": \"p_2590\", \"route_id\": \"140\", \"service_hours\": 1.17, \"trip_first_departure_ts\": 31200, \"trip_last_arrival_ts\": 35400, \"departure_hour\": 8, \"time_of_day\": \"AM Peak\", \"p25\": 1.17, \"p50\": 1.17, \"p75\": 1.17, \"p50_trip\": 1, \"fastest_trip\": 0, \"car_duration_hours\": 0.74, \"competitive_route\": 1, \"bus_multiplier\": 1.58, \"bus_difference\": 25.8, \"num_trips\": 18, \"num_competitive\": 18, \"pct_trips_competitive\": 1.0, \"bus_difference_spread\": 0.0, \"route_group\": \"medium\", \"max_trip_hrs\": 1.17, \"max_trip_route_group\": 1.17, \"below_cutoff\": 18, \"pct_below_cutoff\": 1.0, \"name\": \"Tehama County\", \"caltrans_district\": \"02 - Redding\", \"drmt_organization_name\": null, \"route_name\": \"Regional - Red Bluff, Los Molinos, Gerber\", \"cutoff2\": 30, \"cutoff\": 2}, {\"calitp_itp_id\": 334, \"trip_key\": 8123966852659409048, \"trip_id\": \"t_701155_b_486_tn_0\", \"shape_id\": \"p_2592\", \"route_id\": \"140\", \"service_hours\": 1.17, \"trip_first_departure_ts\": 63000, \"trip_last_arrival_ts\": 67200, \"departure_hour\": 17, \"time_of_day\": \"PM Peak\", \"p25\": 1.17, \"p50\": 1.17, \"p75\": 1.17, \"p50_trip\": 1, \"fastest_trip\": 1, \"car_duration_hours\": 0.74, \"competitive_route\": 1, \"bus_multiplier\": 1.58, \"bus_difference\": 25.8, \"num_trips\": 18, \"num_competitive\": 18, \"pct_trips_competitive\": 1.0, \"bus_difference_spread\": 0.0, \"route_group\": \"medium\", \"max_trip_hrs\": 1.17, \"max_trip_route_group\": 1.17, \"below_cutoff\": 18, \"pct_below_cutoff\": 1.0, \"name\": \"Tehama County\", \"caltrans_district\": \"02 - Redding\", \"drmt_organization_name\": null, \"route_name\": \"Regional - Red Bluff, Los Molinos, Gerber\", \"cutoff2\": 30, \"cutoff\": 2}, {\"calitp_itp_id\": 334, \"trip_key\": 7453382412752000049, \"trip_id\": \"t_701157_b_486_tn_0\", \"shape_id\": \"p_2590\", \"route_id\": \"140\", \"service_hours\": 1.17, \"trip_first_departure_ts\": 48000, \"trip_last_arrival_ts\": 52200, \"departure_hour\": 13, \"time_of_day\": \"Midday\", \"p25\": 1.17, \"p50\": 1.17, \"p75\": 1.17, \"p50_trip\": 1, \"fastest_trip\": 0, \"car_duration_hours\": 0.74, \"competitive_route\": 1, \"bus_multiplier\": 1.58, \"bus_difference\": 25.8, \"num_trips\": 18, \"num_competitive\": 18, \"pct_trips_competitive\": 1.0, \"bus_difference_spread\": 0.0, \"route_group\": \"medium\", \"max_trip_hrs\": 1.17, \"max_trip_route_group\": 1.17, \"below_cutoff\": 18, \"pct_below_cutoff\": 1.0, \"name\": \"Tehama County\", \"caltrans_district\": \"02 - Redding\", \"drmt_organization_name\": null, \"route_name\": \"Regional - Red Bluff, Los Molinos, Gerber\", \"cutoff2\": 30, \"cutoff\": 2}, {\"calitp_itp_id\": 334, \"trip_key\": 4922224310197648828, \"trip_id\": \"t_701148_b_486_tn_0\", \"shape_id\": \"p_2592\", \"route_id\": \"140\", \"service_hours\": 1.17, \"trip_first_departure_ts\": 30000, \"trip_last_arrival_ts\": 34200, \"departure_hour\": 8, \"time_of_day\": \"AM Peak\", \"p25\": 1.17, \"p50\": 1.17, \"p75\": 1.17, \"p50_trip\": 1, \"fastest_trip\": 0, \"car_duration_hours\": 0.74, \"competitive_route\": 1, \"bus_multiplier\": 1.58, \"bus_difference\": 25.8, \"num_trips\": 18, \"num_competitive\": 18, \"pct_trips_competitive\": 1.0, \"bus_difference_spread\": 0.0, \"route_group\": \"medium\", \"max_trip_hrs\": 1.17, \"max_trip_route_group\": 1.17, \"below_cutoff\": 18, \"pct_below_cutoff\": 1.0, \"name\": \"Tehama County\", \"caltrans_district\": \"02 - Redding\", \"drmt_organization_name\": null, \"route_name\": \"Regional - Red Bluff, Los Molinos, Gerber\", \"cutoff2\": 30, \"cutoff\": 2}, {\"calitp_itp_id\": 334, \"trip_key\": 6133689658608768548, \"trip_id\": \"t_311_b_486_tn_0\", \"shape_id\": \"p_2590\", \"route_id\": \"140\", \"service_hours\": 1.17, \"trip_first_departure_ts\": 22800, \"trip_last_arrival_ts\": 27000, \"departure_hour\": 6, \"time_of_day\": \"Owl Service\", \"p25\": 1.17, \"p50\": 1.17, \"p75\": 1.17, \"p50_trip\": 1, \"fastest_trip\": 0, \"car_duration_hours\": 0.74, \"competitive_route\": 1, \"bus_multiplier\": 1.58, \"bus_difference\": 25.8, \"num_trips\": 18, \"num_competitive\": 18, \"pct_trips_competitive\": 1.0, \"bus_difference_spread\": 0.0, \"route_group\": \"medium\", \"max_trip_hrs\": 1.17, \"max_trip_route_group\": 1.17, \"below_cutoff\": 18, \"pct_below_cutoff\": 1.0, \"name\": \"Tehama County\", \"caltrans_district\": \"02 - Redding\", \"drmt_organization_name\": null, \"route_name\": \"Regional - Red Bluff, Los Molinos, Gerber\", \"cutoff2\": 30, \"cutoff\": 2}, {\"calitp_itp_id\": 334, \"trip_key\": -1245088091465612859, \"trip_id\": \"t_701154_b_486_tn_0\", \"shape_id\": \"p_2592\", \"route_id\": \"140\", \"service_hours\": 1.17, \"trip_first_departure_ts\": 58500, \"trip_last_arrival_ts\": 62700, \"departure_hour\": 16, \"time_of_day\": \"Midday\", \"p25\": 1.17, \"p50\": 1.17, \"p75\": 1.17, \"p50_trip\": 1, \"fastest_trip\": 0, \"car_duration_hours\": 0.74, \"competitive_route\": 1, \"bus_multiplier\": 1.58, \"bus_difference\": 25.8, \"num_trips\": 18, \"num_competitive\": 18, \"pct_trips_competitive\": 1.0, \"bus_difference_spread\": 0.0, \"route_group\": \"medium\", \"max_trip_hrs\": 1.17, \"max_trip_route_group\": 1.17, \"below_cutoff\": 18, \"pct_below_cutoff\": 1.0, \"name\": \"Tehama County\", \"caltrans_district\": \"02 - Redding\", \"drmt_organization_name\": null, \"route_name\": \"Regional - Red Bluff, Los Molinos, Gerber\", \"cutoff2\": 30, \"cutoff\": 2}, {\"calitp_itp_id\": 334, \"trip_key\": 8350780050980250086, \"trip_id\": \"t_701147_b_486_tn_0\", \"shape_id\": \"p_2592\", \"route_id\": \"140\", \"service_hours\": 1.17, \"trip_first_departure_ts\": 25800, \"trip_last_arrival_ts\": 30000, \"departure_hour\": 7, \"time_of_day\": \"AM Peak\", \"p25\": 1.17, \"p50\": 1.17, \"p75\": 1.17, \"p50_trip\": 1, \"fastest_trip\": 0, \"car_duration_hours\": 0.74, \"competitive_route\": 1, \"bus_multiplier\": 1.58, \"bus_difference\": 25.8, \"num_trips\": 18, \"num_competitive\": 18, \"pct_trips_competitive\": 1.0, \"bus_difference_spread\": 0.0, \"route_group\": \"medium\", \"max_trip_hrs\": 1.17, \"max_trip_route_group\": 1.17, \"below_cutoff\": 18, \"pct_below_cutoff\": 1.0, \"name\": \"Tehama County\", \"caltrans_district\": \"02 - Redding\", \"drmt_organization_name\": null, \"route_name\": \"Regional - Red Bluff, Los Molinos, Gerber\", \"cutoff2\": 30, \"cutoff\": 2}, {\"calitp_itp_id\": 334, \"trip_key\": 5836499897819238192, \"trip_id\": \"t_65615_b_486_tn_0\", \"shape_id\": \"p_2590\", \"route_id\": \"140\", \"service_hours\": 1.17, \"trip_first_departure_ts\": 35400, \"trip_last_arrival_ts\": 39600, \"departure_hour\": 9, \"time_of_day\": \"AM Peak\", \"p25\": 1.17, \"p50\": 1.17, \"p75\": 1.17, \"p50_trip\": 1, \"fastest_trip\": 0, \"car_duration_hours\": 0.74, \"competitive_route\": 1, \"bus_multiplier\": 1.58, \"bus_difference\": 25.8, \"num_trips\": 18, \"num_competitive\": 18, \"pct_trips_competitive\": 1.0, \"bus_difference_spread\": 0.0, \"route_group\": \"medium\", \"max_trip_hrs\": 1.17, \"max_trip_route_group\": 1.17, \"below_cutoff\": 18, \"pct_below_cutoff\": 1.0, \"name\": \"Tehama County\", \"caltrans_district\": \"02 - Redding\", \"drmt_organization_name\": null, \"route_name\": \"Regional - Red Bluff, Los Molinos, Gerber\", \"cutoff2\": 30, \"cutoff\": 2}, {\"calitp_itp_id\": 334, \"trip_key\": 1211498270008307736, \"trip_id\": \"t_701149_b_486_tn_0\", \"shape_id\": \"p_2592\", \"route_id\": \"140\", \"service_hours\": 1.17, \"trip_first_departure_ts\": 34200, \"trip_last_arrival_ts\": 38400, \"departure_hour\": 9, \"time_of_day\": \"AM Peak\", \"p25\": 1.17, \"p50\": 1.17, \"p75\": 1.17, \"p50_trip\": 1, \"fastest_trip\": 0, \"car_duration_hours\": 0.74, \"competitive_route\": 1, \"bus_multiplier\": 1.58, \"bus_difference\": 25.8, \"num_trips\": 18, \"num_competitive\": 18, \"pct_trips_competitive\": 1.0, \"bus_difference_spread\": 0.0, \"route_group\": \"medium\", \"max_trip_hrs\": 1.17, \"max_trip_route_group\": 1.17, \"below_cutoff\": 18, \"pct_below_cutoff\": 1.0, \"name\": \"Tehama County\", \"caltrans_district\": \"02 - Redding\", \"drmt_organization_name\": null, \"route_name\": \"Regional - Red Bluff, Los Molinos, Gerber\", \"cutoff2\": 30, \"cutoff\": 2}, {\"calitp_itp_id\": 334, \"trip_key\": 5364955651546800419, \"trip_id\": \"t_701151_b_486_tn_0\", \"shape_id\": \"p_2592\", \"route_id\": \"140\", \"service_hours\": 1.17, \"trip_first_departure_ts\": 42600, \"trip_last_arrival_ts\": 46800, \"departure_hour\": 11, \"time_of_day\": \"Midday\", \"p25\": 1.17, \"p50\": 1.17, \"p75\": 1.17, \"p50_trip\": 1, \"fastest_trip\": 0, \"car_duration_hours\": 0.74, \"competitive_route\": 1, \"bus_multiplier\": 1.58, \"bus_difference\": 25.8, \"num_trips\": 18, \"num_competitive\": 18, \"pct_trips_competitive\": 1.0, \"bus_difference_spread\": 0.0, \"route_group\": \"medium\", \"max_trip_hrs\": 1.17, \"max_trip_route_group\": 1.17, \"below_cutoff\": 18, \"pct_below_cutoff\": 1.0, \"name\": \"Tehama County\", \"caltrans_district\": \"02 - Redding\", \"drmt_organization_name\": null, \"route_name\": \"Regional - Red Bluff, Los Molinos, Gerber\", \"cutoff2\": 30, \"cutoff\": 2}, {\"calitp_itp_id\": 334, \"trip_key\": 7883315965957598769, \"trip_id\": \"t_701152_b_486_tn_0\", \"shape_id\": \"p_2592\", \"route_id\": \"140\", \"service_hours\": 1.17, \"trip_first_departure_ts\": 46800, \"trip_last_arrival_ts\": 51000, \"departure_hour\": 13, \"time_of_day\": \"Midday\", \"p25\": 1.17, \"p50\": 1.17, \"p75\": 1.17, \"p50_trip\": 1, \"fastest_trip\": 0, \"car_duration_hours\": 0.74, \"competitive_route\": 1, \"bus_multiplier\": 1.58, \"bus_difference\": 25.8, \"num_trips\": 18, \"num_competitive\": 18, \"pct_trips_competitive\": 1.0, \"bus_difference_spread\": 0.0, \"route_group\": \"medium\", \"max_trip_hrs\": 1.17, \"max_trip_route_group\": 1.17, \"below_cutoff\": 18, \"pct_below_cutoff\": 1.0, \"name\": \"Tehama County\", \"caltrans_district\": \"02 - Redding\", \"drmt_organization_name\": null, \"route_name\": \"Regional - Red Bluff, Los Molinos, Gerber\", \"cutoff2\": 30, \"cutoff\": 2}, {\"calitp_itp_id\": 334, \"trip_key\": 6411260912464548517, \"trip_id\": \"t_701150_b_486_tn_0\", \"shape_id\": \"p_2592\", \"route_id\": \"140\", \"service_hours\": 1.17, \"trip_first_departure_ts\": 38400, \"trip_last_arrival_ts\": 42600, \"departure_hour\": 10, \"time_of_day\": \"Midday\", \"p25\": 1.17, \"p50\": 1.17, \"p75\": 1.17, \"p50_trip\": 1, \"fastest_trip\": 0, \"car_duration_hours\": 0.74, \"competitive_route\": 1, \"bus_multiplier\": 1.58, \"bus_difference\": 25.8, \"num_trips\": 18, \"num_competitive\": 18, \"pct_trips_competitive\": 1.0, \"bus_difference_spread\": 0.0, \"route_group\": \"medium\", \"max_trip_hrs\": 1.17, \"max_trip_route_group\": 1.17, \"below_cutoff\": 18, \"pct_below_cutoff\": 1.0, \"name\": \"Tehama County\", \"caltrans_district\": \"02 - Redding\", \"drmt_organization_name\": null, \"route_name\": \"Regional - Red Bluff, Los Molinos, Gerber\", \"cutoff2\": 30, \"cutoff\": 2}, {\"calitp_itp_id\": 334, \"trip_key\": 2457409081377305521, \"trip_id\": \"t_701153_b_486_tn_0\", \"shape_id\": \"p_2592\", \"route_id\": \"140\", \"service_hours\": 1.17, \"trip_first_departure_ts\": 54000, \"trip_last_arrival_ts\": 58200, \"departure_hour\": 15, \"time_of_day\": \"Midday\", \"p25\": 1.17, \"p50\": 1.17, \"p75\": 1.17, \"p50_trip\": 1, \"fastest_trip\": 0, \"car_duration_hours\": 0.74, \"competitive_route\": 1, \"bus_multiplier\": 1.58, \"bus_difference\": 25.8, \"num_trips\": 18, \"num_competitive\": 18, \"pct_trips_competitive\": 1.0, \"bus_difference_spread\": 0.0, \"route_group\": \"medium\", \"max_trip_hrs\": 1.17, \"max_trip_route_group\": 1.17, \"below_cutoff\": 18, \"pct_below_cutoff\": 1.0, \"name\": \"Tehama County\", \"caltrans_district\": \"02 - Redding\", \"drmt_organization_name\": null, \"route_name\": \"Regional - Red Bluff, Los Molinos, Gerber\", \"cutoff2\": 30, \"cutoff\": 2}, {\"calitp_itp_id\": 334, \"trip_key\": 5072486189778375039, \"trip_id\": \"t_701158_b_486_tn_0\", \"shape_id\": \"p_2590\", \"route_id\": \"140\", \"service_hours\": 1.17, \"trip_first_departure_ts\": 54000, \"trip_last_arrival_ts\": 58200, \"departure_hour\": 15, \"time_of_day\": \"Midday\", \"p25\": 1.17, \"p50\": 1.17, \"p75\": 1.17, \"p50_trip\": 1, \"fastest_trip\": 0, \"car_duration_hours\": 0.74, \"competitive_route\": 1, \"bus_multiplier\": 1.58, \"bus_difference\": 25.8, \"num_trips\": 18, \"num_competitive\": 18, \"pct_trips_competitive\": 1.0, \"bus_difference_spread\": 0.0, \"route_group\": \"medium\", \"max_trip_hrs\": 1.17, \"max_trip_route_group\": 1.17, \"below_cutoff\": 18, \"pct_below_cutoff\": 1.0, \"name\": \"Tehama County\", \"caltrans_district\": \"02 - Redding\", \"drmt_organization_name\": null, \"route_name\": \"Regional - Red Bluff, Los Molinos, Gerber\", \"cutoff2\": 30, \"cutoff\": 2}, {\"calitp_itp_id\": 334, \"trip_key\": 6478536152330907065, \"trip_id\": \"t_52898_b_486_tn_0\", \"shape_id\": \"p_2590\", \"route_id\": \"140\", \"service_hours\": 1.17, \"trip_first_departure_ts\": 39600, \"trip_last_arrival_ts\": 43800, \"departure_hour\": 11, \"time_of_day\": \"Midday\", \"p25\": 1.17, \"p50\": 1.17, \"p75\": 1.17, \"p50_trip\": 1, \"fastest_trip\": 0, \"car_duration_hours\": 0.74, \"competitive_route\": 1, \"bus_multiplier\": 1.58, \"bus_difference\": 25.8, \"num_trips\": 18, \"num_competitive\": 18, \"pct_trips_competitive\": 1.0, \"bus_difference_spread\": 0.0, \"route_group\": \"medium\", \"max_trip_hrs\": 1.17, \"max_trip_route_group\": 1.17, \"below_cutoff\": 18, \"pct_below_cutoff\": 1.0, \"name\": \"Tehama County\", \"caltrans_district\": \"02 - Redding\", \"drmt_organization_name\": null, \"route_name\": \"Regional - Red Bluff, Los Molinos, Gerber\", \"cutoff2\": 30, \"cutoff\": 2}, {\"calitp_itp_id\": 334, \"trip_key\": 2671956547340556282, \"trip_id\": \"t_701159_b_486_tn_0\", \"shape_id\": \"p_2590\", \"route_id\": \"140\", \"service_hours\": 1.17, \"trip_first_departure_ts\": 58500, \"trip_last_arrival_ts\": 62700, \"departure_hour\": 16, \"time_of_day\": \"Midday\", \"p25\": 1.17, \"p50\": 1.17, \"p75\": 1.17, \"p50_trip\": 1, \"fastest_trip\": 0, \"car_duration_hours\": 0.74, \"competitive_route\": 1, \"bus_multiplier\": 1.58, \"bus_difference\": 25.8, \"num_trips\": 18, \"num_competitive\": 18, \"pct_trips_competitive\": 1.0, \"bus_difference_spread\": 0.0, \"route_group\": \"medium\", \"max_trip_hrs\": 1.17, \"max_trip_route_group\": 1.17, \"below_cutoff\": 18, \"pct_below_cutoff\": 1.0, \"name\": \"Tehama County\", \"caltrans_district\": \"02 - Redding\", \"drmt_organization_name\": null, \"route_name\": \"Regional - Red Bluff, Los Molinos, Gerber\", \"cutoff2\": 30, \"cutoff\": 2}]}}, {\"mode\": \"vega-lite\"});\n",
       "</script>"
      ],
      "text/plain": [
       "alt.FacetChart(...)"
      ]
     },
     "metadata": {},
     "output_type": "display_data"
    },
    {
     "data": {
      "text/html": [
       "\n",
       "<div id=\"altair-viz-78606f0afe1149e8b57314fa0de28b3e\"></div>\n",
       "<script type=\"text/javascript\">\n",
       "  var VEGA_DEBUG = (typeof VEGA_DEBUG == \"undefined\") ? {} : VEGA_DEBUG;\n",
       "  (function(spec, embedOpt){\n",
       "    let outputDiv = document.currentScript.previousElementSibling;\n",
       "    if (outputDiv.id !== \"altair-viz-78606f0afe1149e8b57314fa0de28b3e\") {\n",
       "      outputDiv = document.getElementById(\"altair-viz-78606f0afe1149e8b57314fa0de28b3e\");\n",
       "    }\n",
       "    const paths = {\n",
       "      \"vega\": \"https://cdn.jsdelivr.net/npm//vega@5?noext\",\n",
       "      \"vega-lib\": \"https://cdn.jsdelivr.net/npm//vega-lib?noext\",\n",
       "      \"vega-lite\": \"https://cdn.jsdelivr.net/npm//vega-lite@4.17.0?noext\",\n",
       "      \"vega-embed\": \"https://cdn.jsdelivr.net/npm//vega-embed@6?noext\",\n",
       "    };\n",
       "\n",
       "    function maybeLoadScript(lib, version) {\n",
       "      var key = `${lib.replace(\"-\", \"\")}_version`;\n",
       "      return (VEGA_DEBUG[key] == version) ?\n",
       "        Promise.resolve(paths[lib]) :\n",
       "        new Promise(function(resolve, reject) {\n",
       "          var s = document.createElement('script');\n",
       "          document.getElementsByTagName(\"head\")[0].appendChild(s);\n",
       "          s.async = true;\n",
       "          s.onload = () => {\n",
       "            VEGA_DEBUG[key] = version;\n",
       "            return resolve(paths[lib]);\n",
       "          };\n",
       "          s.onerror = () => reject(`Error loading script: ${paths[lib]}`);\n",
       "          s.src = paths[lib];\n",
       "        });\n",
       "    }\n",
       "\n",
       "    function showError(err) {\n",
       "      outputDiv.innerHTML = `<div class=\"error\" style=\"color:red;\">${err}</div>`;\n",
       "      throw err;\n",
       "    }\n",
       "\n",
       "    function displayChart(vegaEmbed) {\n",
       "      vegaEmbed(outputDiv, spec, embedOpt)\n",
       "        .catch(err => showError(`Javascript Error: ${err.message}<br>This usually means there's a typo in your chart specification. See the javascript console for the full traceback.`));\n",
       "    }\n",
       "\n",
       "    if(typeof define === \"function\" && define.amd) {\n",
       "      requirejs.config({paths});\n",
       "      require([\"vega-embed\"], displayChart, err => showError(`Error loading script: ${err.message}`));\n",
       "    } else {\n",
       "      maybeLoadScript(\"vega\", \"5\")\n",
       "        .then(() => maybeLoadScript(\"vega-lite\", \"4.17.0\"))\n",
       "        .then(() => maybeLoadScript(\"vega-embed\", \"6\"))\n",
       "        .catch(showError)\n",
       "        .then(() => displayChart(vegaEmbed));\n",
       "    }\n",
       "  })({\"config\": {\"view\": {\"continuousWidth\": 400, \"continuousHeight\": 300, \"stroke\": null}, \"facet\": {\"spacing\": 0}}, \"data\": {\"name\": \"data-0929fbd3488dc6598b19713217201ad1\"}, \"facet\": {\"column\": {\"field\": \"route_id\", \"sort\": [\"140\"], \"title\": \"Route ID\", \"type\": \"nominal\"}}, \"spec\": {\"layer\": [{\"mark\": \"rule\", \"encoding\": {\"color\": {\"value\": \"black\"}, \"y\": {\"field\": \"cutoff\", \"type\": \"quantitative\"}}, \"selection\": {\"selector002\": {\"type\": \"interval\", \"bind\": \"scales\", \"encodings\": [\"x\", \"y\"]}}}, {\"mark\": {\"type\": \"rule\", \"strokeDash\": [3, 3]}, \"encoding\": {\"color\": {\"value\": \"#323434\"}, \"y\": {\"field\": \"cutoff2\", \"type\": \"quantitative\"}}}, {\"mark\": {\"type\": \"point\", \"opacity\": 0.65, \"size\": 12, \"strokeWidth\": 1.1}, \"encoding\": {\"color\": {\"field\": \"time_of_day\", \"scale\": {\"range\": [\"#136C97\", \"#E16B26\", \"#F6BF16\", \"#00896B\", \"#7790A3\", \"#5B559C\"]}, \"sort\": [\"AM Peak\", \"Midday\", \"PM Peak\", \"Owl Service\"], \"title\": \"Time of Day\", \"type\": \"nominal\"}, \"tooltip\": [{\"field\": \"route_id\", \"type\": \"nominal\"}, {\"field\": \"route_name\", \"type\": \"nominal\"}, {\"field\": \"trip_id\", \"type\": \"nominal\"}, {\"field\": \"service_hours\", \"type\": \"quantitative\"}, {\"field\": \"car_duration_hours\", \"type\": \"quantitative\"}, {\"field\": \"bus_multiplier\", \"type\": \"quantitative\"}, {\"field\": \"bus_difference\", \"type\": \"quantitative\"}, {\"field\": \"num_trips\", \"type\": \"quantitative\"}, {\"field\": \"num_competitive\", \"type\": \"quantitative\"}, {\"field\": \"pct_trips_competitive\", \"type\": \"quantitative\"}, {\"field\": \"pct_below_cutoff\", \"type\": \"quantitative\"}, {\"field\": \"p25\", \"type\": \"quantitative\"}, {\"field\": \"p50\", \"type\": \"quantitative\"}, {\"field\": \"p75\", \"type\": \"quantitative\"}], \"x\": {\"axis\": {\"grid\": false, \"labels\": false, \"ticks\": true, \"values\": [0]}, \"field\": \"jitter\", \"scale\": {}, \"title\": null, \"type\": \"quantitative\"}, \"y\": {\"field\": \"bus_difference\", \"scale\": {\"domain\": [-5, 35.0]}, \"title\": \"Difference in Bus to Car Travel Time (min)\", \"type\": \"quantitative\"}}, \"transform\": [{\"calculate\": \"sqrt(-2*log(random()))*cos(2*PI*random())\", \"as\": \"jitter\"}], \"width\": 50}, {\"layer\": [{\"mark\": {\"type\": \"point\", \"opacity\": 0.6, \"size\": 20, \"strokeWidth\": 1.3}, \"encoding\": {\"color\": {\"value\": \"#323434\"}, \"y\": {\"field\": \"bus_difference\", \"type\": \"quantitative\"}}, \"transform\": [{\"filter\": \"(datum.p50_trip === 1)\"}]}, {\"mark\": {\"type\": \"text\", \"align\": \"center\", \"baseline\": \"middle\"}, \"encoding\": {\"color\": {\"value\": \"black\"}, \"text\": {\"field\": \"pct_trips_competitive\", \"format\": \".0%\", \"type\": \"quantitative\"}, \"tooltip\": [{\"field\": \"route_id\", \"type\": \"nominal\"}, {\"field\": \"route_name\", \"type\": \"nominal\"}, {\"field\": \"trip_id\", \"type\": \"nominal\"}, {\"field\": \"service_hours\", \"type\": \"quantitative\"}, {\"field\": \"car_duration_hours\", \"type\": \"quantitative\"}, {\"field\": \"bus_multiplier\", \"type\": \"quantitative\"}, {\"field\": \"bus_difference\", \"type\": \"quantitative\"}, {\"field\": \"num_trips\", \"type\": \"quantitative\"}, {\"field\": \"num_competitive\", \"type\": \"quantitative\"}, {\"field\": \"pct_trips_competitive\", \"type\": \"quantitative\"}, {\"field\": \"pct_below_cutoff\", \"type\": \"quantitative\"}, {\"field\": \"p25\", \"type\": \"quantitative\"}, {\"field\": \"p50\", \"type\": \"quantitative\"}, {\"field\": \"p75\", \"type\": \"quantitative\"}], \"x\": {\"value\": 30}, \"y\": {\"value\": 15}}, \"transform\": [{\"calculate\": \"sqrt(-2*log(random()))*cos(2*PI*random())\", \"as\": \"jitter\"}, {\"filter\": \"(datum.fastest_trip === 1)\"}]}]}]}, \"resolve\": {\"scale\": {\"y\": \"shared\"}}, \"title\": \"Difference in Bus to Car Travel Time (min)\", \"$schema\": \"https://vega.github.io/schema/vega-lite/v4.17.0.json\", \"datasets\": {\"data-0929fbd3488dc6598b19713217201ad1\": [{\"calitp_itp_id\": 334, \"trip_key\": 3789012145727333403, \"trip_id\": \"t_43182_b_486_tn_0\", \"shape_id\": \"p_2590\", \"route_id\": \"140\", \"service_hours\": 1.17, \"trip_first_departure_ts\": 27000, \"trip_last_arrival_ts\": 31200, \"departure_hour\": 7, \"time_of_day\": \"AM Peak\", \"p25\": 1.17, \"p50\": 1.17, \"p75\": 1.17, \"p50_trip\": 1, \"fastest_trip\": 0, \"car_duration_hours\": 0.74, \"competitive_route\": 1, \"bus_multiplier\": 1.58, \"bus_difference\": 25.8, \"num_trips\": 18, \"num_competitive\": 18, \"pct_trips_competitive\": 1.0, \"bus_difference_spread\": 0.0, \"route_group\": \"medium\", \"max_trip_hrs\": 1.17, \"max_trip_route_group\": 1.17, \"below_cutoff\": 18, \"pct_below_cutoff\": 1.0, \"name\": \"Tehama County\", \"caltrans_district\": \"02 - Redding\", \"drmt_organization_name\": null, \"route_name\": \"Regional - Red Bluff, Los Molinos, Gerber\", \"cutoff2\": 30, \"cutoff\": 0}, {\"calitp_itp_id\": 334, \"trip_key\": 2077162622524927707, \"trip_id\": \"t_701156_b_486_tn_0\", \"shape_id\": \"p_2590\", \"route_id\": \"140\", \"service_hours\": 1.17, \"trip_first_departure_ts\": 43800, \"trip_last_arrival_ts\": 48000, \"departure_hour\": 12, \"time_of_day\": \"Midday\", \"p25\": 1.17, \"p50\": 1.17, \"p75\": 1.17, \"p50_trip\": 1, \"fastest_trip\": 0, \"car_duration_hours\": 0.74, \"competitive_route\": 1, \"bus_multiplier\": 1.58, \"bus_difference\": 25.8, \"num_trips\": 18, \"num_competitive\": 18, \"pct_trips_competitive\": 1.0, \"bus_difference_spread\": 0.0, \"route_group\": \"medium\", \"max_trip_hrs\": 1.17, \"max_trip_route_group\": 1.17, \"below_cutoff\": 18, \"pct_below_cutoff\": 1.0, \"name\": \"Tehama County\", \"caltrans_district\": \"02 - Redding\", \"drmt_organization_name\": null, \"route_name\": \"Regional - Red Bluff, Los Molinos, Gerber\", \"cutoff2\": 30, \"cutoff\": 0}, {\"calitp_itp_id\": 334, \"trip_key\": -2595454426414092766, \"trip_id\": \"t_41753_b_486_tn_0\", \"shape_id\": \"p_2590\", \"route_id\": \"140\", \"service_hours\": 1.17, \"trip_first_departure_ts\": 31200, \"trip_last_arrival_ts\": 35400, \"departure_hour\": 8, \"time_of_day\": \"AM Peak\", \"p25\": 1.17, \"p50\": 1.17, \"p75\": 1.17, \"p50_trip\": 1, \"fastest_trip\": 0, \"car_duration_hours\": 0.74, \"competitive_route\": 1, \"bus_multiplier\": 1.58, \"bus_difference\": 25.8, \"num_trips\": 18, \"num_competitive\": 18, \"pct_trips_competitive\": 1.0, \"bus_difference_spread\": 0.0, \"route_group\": \"medium\", \"max_trip_hrs\": 1.17, \"max_trip_route_group\": 1.17, \"below_cutoff\": 18, \"pct_below_cutoff\": 1.0, \"name\": \"Tehama County\", \"caltrans_district\": \"02 - Redding\", \"drmt_organization_name\": null, \"route_name\": \"Regional - Red Bluff, Los Molinos, Gerber\", \"cutoff2\": 30, \"cutoff\": 0}, {\"calitp_itp_id\": 334, \"trip_key\": 8123966852659409048, \"trip_id\": \"t_701155_b_486_tn_0\", \"shape_id\": \"p_2592\", \"route_id\": \"140\", \"service_hours\": 1.17, \"trip_first_departure_ts\": 63000, \"trip_last_arrival_ts\": 67200, \"departure_hour\": 17, \"time_of_day\": \"PM Peak\", \"p25\": 1.17, \"p50\": 1.17, \"p75\": 1.17, \"p50_trip\": 1, \"fastest_trip\": 1, \"car_duration_hours\": 0.74, \"competitive_route\": 1, \"bus_multiplier\": 1.58, \"bus_difference\": 25.8, \"num_trips\": 18, \"num_competitive\": 18, \"pct_trips_competitive\": 1.0, \"bus_difference_spread\": 0.0, \"route_group\": \"medium\", \"max_trip_hrs\": 1.17, \"max_trip_route_group\": 1.17, \"below_cutoff\": 18, \"pct_below_cutoff\": 1.0, \"name\": \"Tehama County\", \"caltrans_district\": \"02 - Redding\", \"drmt_organization_name\": null, \"route_name\": \"Regional - Red Bluff, Los Molinos, Gerber\", \"cutoff2\": 30, \"cutoff\": 0}, {\"calitp_itp_id\": 334, \"trip_key\": 7453382412752000049, \"trip_id\": \"t_701157_b_486_tn_0\", \"shape_id\": \"p_2590\", \"route_id\": \"140\", \"service_hours\": 1.17, \"trip_first_departure_ts\": 48000, \"trip_last_arrival_ts\": 52200, \"departure_hour\": 13, \"time_of_day\": \"Midday\", \"p25\": 1.17, \"p50\": 1.17, \"p75\": 1.17, \"p50_trip\": 1, \"fastest_trip\": 0, \"car_duration_hours\": 0.74, \"competitive_route\": 1, \"bus_multiplier\": 1.58, \"bus_difference\": 25.8, \"num_trips\": 18, \"num_competitive\": 18, \"pct_trips_competitive\": 1.0, \"bus_difference_spread\": 0.0, \"route_group\": \"medium\", \"max_trip_hrs\": 1.17, \"max_trip_route_group\": 1.17, \"below_cutoff\": 18, \"pct_below_cutoff\": 1.0, \"name\": \"Tehama County\", \"caltrans_district\": \"02 - Redding\", \"drmt_organization_name\": null, \"route_name\": \"Regional - Red Bluff, Los Molinos, Gerber\", \"cutoff2\": 30, \"cutoff\": 0}, {\"calitp_itp_id\": 334, \"trip_key\": 4922224310197648828, \"trip_id\": \"t_701148_b_486_tn_0\", \"shape_id\": \"p_2592\", \"route_id\": \"140\", \"service_hours\": 1.17, \"trip_first_departure_ts\": 30000, \"trip_last_arrival_ts\": 34200, \"departure_hour\": 8, \"time_of_day\": \"AM Peak\", \"p25\": 1.17, \"p50\": 1.17, \"p75\": 1.17, \"p50_trip\": 1, \"fastest_trip\": 0, \"car_duration_hours\": 0.74, \"competitive_route\": 1, \"bus_multiplier\": 1.58, \"bus_difference\": 25.8, \"num_trips\": 18, \"num_competitive\": 18, \"pct_trips_competitive\": 1.0, \"bus_difference_spread\": 0.0, \"route_group\": \"medium\", \"max_trip_hrs\": 1.17, \"max_trip_route_group\": 1.17, \"below_cutoff\": 18, \"pct_below_cutoff\": 1.0, \"name\": \"Tehama County\", \"caltrans_district\": \"02 - Redding\", \"drmt_organization_name\": null, \"route_name\": \"Regional - Red Bluff, Los Molinos, Gerber\", \"cutoff2\": 30, \"cutoff\": 0}, {\"calitp_itp_id\": 334, \"trip_key\": 6133689658608768548, \"trip_id\": \"t_311_b_486_tn_0\", \"shape_id\": \"p_2590\", \"route_id\": \"140\", \"service_hours\": 1.17, \"trip_first_departure_ts\": 22800, \"trip_last_arrival_ts\": 27000, \"departure_hour\": 6, \"time_of_day\": \"Owl Service\", \"p25\": 1.17, \"p50\": 1.17, \"p75\": 1.17, \"p50_trip\": 1, \"fastest_trip\": 0, \"car_duration_hours\": 0.74, \"competitive_route\": 1, \"bus_multiplier\": 1.58, \"bus_difference\": 25.8, \"num_trips\": 18, \"num_competitive\": 18, \"pct_trips_competitive\": 1.0, \"bus_difference_spread\": 0.0, \"route_group\": \"medium\", \"max_trip_hrs\": 1.17, \"max_trip_route_group\": 1.17, \"below_cutoff\": 18, \"pct_below_cutoff\": 1.0, \"name\": \"Tehama County\", \"caltrans_district\": \"02 - Redding\", \"drmt_organization_name\": null, \"route_name\": \"Regional - Red Bluff, Los Molinos, Gerber\", \"cutoff2\": 30, \"cutoff\": 0}, {\"calitp_itp_id\": 334, \"trip_key\": -1245088091465612859, \"trip_id\": \"t_701154_b_486_tn_0\", \"shape_id\": \"p_2592\", \"route_id\": \"140\", \"service_hours\": 1.17, \"trip_first_departure_ts\": 58500, \"trip_last_arrival_ts\": 62700, \"departure_hour\": 16, \"time_of_day\": \"Midday\", \"p25\": 1.17, \"p50\": 1.17, \"p75\": 1.17, \"p50_trip\": 1, \"fastest_trip\": 0, \"car_duration_hours\": 0.74, \"competitive_route\": 1, \"bus_multiplier\": 1.58, \"bus_difference\": 25.8, \"num_trips\": 18, \"num_competitive\": 18, \"pct_trips_competitive\": 1.0, \"bus_difference_spread\": 0.0, \"route_group\": \"medium\", \"max_trip_hrs\": 1.17, \"max_trip_route_group\": 1.17, \"below_cutoff\": 18, \"pct_below_cutoff\": 1.0, \"name\": \"Tehama County\", \"caltrans_district\": \"02 - Redding\", \"drmt_organization_name\": null, \"route_name\": \"Regional - Red Bluff, Los Molinos, Gerber\", \"cutoff2\": 30, \"cutoff\": 0}, {\"calitp_itp_id\": 334, \"trip_key\": 8350780050980250086, \"trip_id\": \"t_701147_b_486_tn_0\", \"shape_id\": \"p_2592\", \"route_id\": \"140\", \"service_hours\": 1.17, \"trip_first_departure_ts\": 25800, \"trip_last_arrival_ts\": 30000, \"departure_hour\": 7, \"time_of_day\": \"AM Peak\", \"p25\": 1.17, \"p50\": 1.17, \"p75\": 1.17, \"p50_trip\": 1, \"fastest_trip\": 0, \"car_duration_hours\": 0.74, \"competitive_route\": 1, \"bus_multiplier\": 1.58, \"bus_difference\": 25.8, \"num_trips\": 18, \"num_competitive\": 18, \"pct_trips_competitive\": 1.0, \"bus_difference_spread\": 0.0, \"route_group\": \"medium\", \"max_trip_hrs\": 1.17, \"max_trip_route_group\": 1.17, \"below_cutoff\": 18, \"pct_below_cutoff\": 1.0, \"name\": \"Tehama County\", \"caltrans_district\": \"02 - Redding\", \"drmt_organization_name\": null, \"route_name\": \"Regional - Red Bluff, Los Molinos, Gerber\", \"cutoff2\": 30, \"cutoff\": 0}, {\"calitp_itp_id\": 334, \"trip_key\": 5836499897819238192, \"trip_id\": \"t_65615_b_486_tn_0\", \"shape_id\": \"p_2590\", \"route_id\": \"140\", \"service_hours\": 1.17, \"trip_first_departure_ts\": 35400, \"trip_last_arrival_ts\": 39600, \"departure_hour\": 9, \"time_of_day\": \"AM Peak\", \"p25\": 1.17, \"p50\": 1.17, \"p75\": 1.17, \"p50_trip\": 1, \"fastest_trip\": 0, \"car_duration_hours\": 0.74, \"competitive_route\": 1, \"bus_multiplier\": 1.58, \"bus_difference\": 25.8, \"num_trips\": 18, \"num_competitive\": 18, \"pct_trips_competitive\": 1.0, \"bus_difference_spread\": 0.0, \"route_group\": \"medium\", \"max_trip_hrs\": 1.17, \"max_trip_route_group\": 1.17, \"below_cutoff\": 18, \"pct_below_cutoff\": 1.0, \"name\": \"Tehama County\", \"caltrans_district\": \"02 - Redding\", \"drmt_organization_name\": null, \"route_name\": \"Regional - Red Bluff, Los Molinos, Gerber\", \"cutoff2\": 30, \"cutoff\": 0}, {\"calitp_itp_id\": 334, \"trip_key\": 1211498270008307736, \"trip_id\": \"t_701149_b_486_tn_0\", \"shape_id\": \"p_2592\", \"route_id\": \"140\", \"service_hours\": 1.17, \"trip_first_departure_ts\": 34200, \"trip_last_arrival_ts\": 38400, \"departure_hour\": 9, \"time_of_day\": \"AM Peak\", \"p25\": 1.17, \"p50\": 1.17, \"p75\": 1.17, \"p50_trip\": 1, \"fastest_trip\": 0, \"car_duration_hours\": 0.74, \"competitive_route\": 1, \"bus_multiplier\": 1.58, \"bus_difference\": 25.8, \"num_trips\": 18, \"num_competitive\": 18, \"pct_trips_competitive\": 1.0, \"bus_difference_spread\": 0.0, \"route_group\": \"medium\", \"max_trip_hrs\": 1.17, \"max_trip_route_group\": 1.17, \"below_cutoff\": 18, \"pct_below_cutoff\": 1.0, \"name\": \"Tehama County\", \"caltrans_district\": \"02 - Redding\", \"drmt_organization_name\": null, \"route_name\": \"Regional - Red Bluff, Los Molinos, Gerber\", \"cutoff2\": 30, \"cutoff\": 0}, {\"calitp_itp_id\": 334, \"trip_key\": 5364955651546800419, \"trip_id\": \"t_701151_b_486_tn_0\", \"shape_id\": \"p_2592\", \"route_id\": \"140\", \"service_hours\": 1.17, \"trip_first_departure_ts\": 42600, \"trip_last_arrival_ts\": 46800, \"departure_hour\": 11, \"time_of_day\": \"Midday\", \"p25\": 1.17, \"p50\": 1.17, \"p75\": 1.17, \"p50_trip\": 1, \"fastest_trip\": 0, \"car_duration_hours\": 0.74, \"competitive_route\": 1, \"bus_multiplier\": 1.58, \"bus_difference\": 25.8, \"num_trips\": 18, \"num_competitive\": 18, \"pct_trips_competitive\": 1.0, \"bus_difference_spread\": 0.0, \"route_group\": \"medium\", \"max_trip_hrs\": 1.17, \"max_trip_route_group\": 1.17, \"below_cutoff\": 18, \"pct_below_cutoff\": 1.0, \"name\": \"Tehama County\", \"caltrans_district\": \"02 - Redding\", \"drmt_organization_name\": null, \"route_name\": \"Regional - Red Bluff, Los Molinos, Gerber\", \"cutoff2\": 30, \"cutoff\": 0}, {\"calitp_itp_id\": 334, \"trip_key\": 7883315965957598769, \"trip_id\": \"t_701152_b_486_tn_0\", \"shape_id\": \"p_2592\", \"route_id\": \"140\", \"service_hours\": 1.17, \"trip_first_departure_ts\": 46800, \"trip_last_arrival_ts\": 51000, \"departure_hour\": 13, \"time_of_day\": \"Midday\", \"p25\": 1.17, \"p50\": 1.17, \"p75\": 1.17, \"p50_trip\": 1, \"fastest_trip\": 0, \"car_duration_hours\": 0.74, \"competitive_route\": 1, \"bus_multiplier\": 1.58, \"bus_difference\": 25.8, \"num_trips\": 18, \"num_competitive\": 18, \"pct_trips_competitive\": 1.0, \"bus_difference_spread\": 0.0, \"route_group\": \"medium\", \"max_trip_hrs\": 1.17, \"max_trip_route_group\": 1.17, \"below_cutoff\": 18, \"pct_below_cutoff\": 1.0, \"name\": \"Tehama County\", \"caltrans_district\": \"02 - Redding\", \"drmt_organization_name\": null, \"route_name\": \"Regional - Red Bluff, Los Molinos, Gerber\", \"cutoff2\": 30, \"cutoff\": 0}, {\"calitp_itp_id\": 334, \"trip_key\": 6411260912464548517, \"trip_id\": \"t_701150_b_486_tn_0\", \"shape_id\": \"p_2592\", \"route_id\": \"140\", \"service_hours\": 1.17, \"trip_first_departure_ts\": 38400, \"trip_last_arrival_ts\": 42600, \"departure_hour\": 10, \"time_of_day\": \"Midday\", \"p25\": 1.17, \"p50\": 1.17, \"p75\": 1.17, \"p50_trip\": 1, \"fastest_trip\": 0, \"car_duration_hours\": 0.74, \"competitive_route\": 1, \"bus_multiplier\": 1.58, \"bus_difference\": 25.8, \"num_trips\": 18, \"num_competitive\": 18, \"pct_trips_competitive\": 1.0, \"bus_difference_spread\": 0.0, \"route_group\": \"medium\", \"max_trip_hrs\": 1.17, \"max_trip_route_group\": 1.17, \"below_cutoff\": 18, \"pct_below_cutoff\": 1.0, \"name\": \"Tehama County\", \"caltrans_district\": \"02 - Redding\", \"drmt_organization_name\": null, \"route_name\": \"Regional - Red Bluff, Los Molinos, Gerber\", \"cutoff2\": 30, \"cutoff\": 0}, {\"calitp_itp_id\": 334, \"trip_key\": 2457409081377305521, \"trip_id\": \"t_701153_b_486_tn_0\", \"shape_id\": \"p_2592\", \"route_id\": \"140\", \"service_hours\": 1.17, \"trip_first_departure_ts\": 54000, \"trip_last_arrival_ts\": 58200, \"departure_hour\": 15, \"time_of_day\": \"Midday\", \"p25\": 1.17, \"p50\": 1.17, \"p75\": 1.17, \"p50_trip\": 1, \"fastest_trip\": 0, \"car_duration_hours\": 0.74, \"competitive_route\": 1, \"bus_multiplier\": 1.58, \"bus_difference\": 25.8, \"num_trips\": 18, \"num_competitive\": 18, \"pct_trips_competitive\": 1.0, \"bus_difference_spread\": 0.0, \"route_group\": \"medium\", \"max_trip_hrs\": 1.17, \"max_trip_route_group\": 1.17, \"below_cutoff\": 18, \"pct_below_cutoff\": 1.0, \"name\": \"Tehama County\", \"caltrans_district\": \"02 - Redding\", \"drmt_organization_name\": null, \"route_name\": \"Regional - Red Bluff, Los Molinos, Gerber\", \"cutoff2\": 30, \"cutoff\": 0}, {\"calitp_itp_id\": 334, \"trip_key\": 5072486189778375039, \"trip_id\": \"t_701158_b_486_tn_0\", \"shape_id\": \"p_2590\", \"route_id\": \"140\", \"service_hours\": 1.17, \"trip_first_departure_ts\": 54000, \"trip_last_arrival_ts\": 58200, \"departure_hour\": 15, \"time_of_day\": \"Midday\", \"p25\": 1.17, \"p50\": 1.17, \"p75\": 1.17, \"p50_trip\": 1, \"fastest_trip\": 0, \"car_duration_hours\": 0.74, \"competitive_route\": 1, \"bus_multiplier\": 1.58, \"bus_difference\": 25.8, \"num_trips\": 18, \"num_competitive\": 18, \"pct_trips_competitive\": 1.0, \"bus_difference_spread\": 0.0, \"route_group\": \"medium\", \"max_trip_hrs\": 1.17, \"max_trip_route_group\": 1.17, \"below_cutoff\": 18, \"pct_below_cutoff\": 1.0, \"name\": \"Tehama County\", \"caltrans_district\": \"02 - Redding\", \"drmt_organization_name\": null, \"route_name\": \"Regional - Red Bluff, Los Molinos, Gerber\", \"cutoff2\": 30, \"cutoff\": 0}, {\"calitp_itp_id\": 334, \"trip_key\": 6478536152330907065, \"trip_id\": \"t_52898_b_486_tn_0\", \"shape_id\": \"p_2590\", \"route_id\": \"140\", \"service_hours\": 1.17, \"trip_first_departure_ts\": 39600, \"trip_last_arrival_ts\": 43800, \"departure_hour\": 11, \"time_of_day\": \"Midday\", \"p25\": 1.17, \"p50\": 1.17, \"p75\": 1.17, \"p50_trip\": 1, \"fastest_trip\": 0, \"car_duration_hours\": 0.74, \"competitive_route\": 1, \"bus_multiplier\": 1.58, \"bus_difference\": 25.8, \"num_trips\": 18, \"num_competitive\": 18, \"pct_trips_competitive\": 1.0, \"bus_difference_spread\": 0.0, \"route_group\": \"medium\", \"max_trip_hrs\": 1.17, \"max_trip_route_group\": 1.17, \"below_cutoff\": 18, \"pct_below_cutoff\": 1.0, \"name\": \"Tehama County\", \"caltrans_district\": \"02 - Redding\", \"drmt_organization_name\": null, \"route_name\": \"Regional - Red Bluff, Los Molinos, Gerber\", \"cutoff2\": 30, \"cutoff\": 0}, {\"calitp_itp_id\": 334, \"trip_key\": 2671956547340556282, \"trip_id\": \"t_701159_b_486_tn_0\", \"shape_id\": \"p_2590\", \"route_id\": \"140\", \"service_hours\": 1.17, \"trip_first_departure_ts\": 58500, \"trip_last_arrival_ts\": 62700, \"departure_hour\": 16, \"time_of_day\": \"Midday\", \"p25\": 1.17, \"p50\": 1.17, \"p75\": 1.17, \"p50_trip\": 1, \"fastest_trip\": 0, \"car_duration_hours\": 0.74, \"competitive_route\": 1, \"bus_multiplier\": 1.58, \"bus_difference\": 25.8, \"num_trips\": 18, \"num_competitive\": 18, \"pct_trips_competitive\": 1.0, \"bus_difference_spread\": 0.0, \"route_group\": \"medium\", \"max_trip_hrs\": 1.17, \"max_trip_route_group\": 1.17, \"below_cutoff\": 18, \"pct_below_cutoff\": 1.0, \"name\": \"Tehama County\", \"caltrans_district\": \"02 - Redding\", \"drmt_organization_name\": null, \"route_name\": \"Regional - Red Bluff, Los Molinos, Gerber\", \"cutoff2\": 30, \"cutoff\": 0}]}}, {\"mode\": \"vega-lite\"});\n",
       "</script>"
      ],
      "text/plain": [
       "alt.FacetChart(...)"
      ]
     },
     "metadata": {},
     "output_type": "display_data"
    },
    {
     "data": {
      "text/html": [
       "<h4>Route Stats</h4>"
      ],
      "text/plain": [
       "<IPython.core.display.HTML object>"
      ]
     },
     "metadata": {},
     "output_type": "display_data"
    },
    {
     "data": {
      "text/html": [
       "<style type=\"text/css\">\n",
       "#T_ee6ab th {\n",
       "  text-align: center;\n",
       "}\n",
       "#T_ee6ab_row0_col0, #T_ee6ab_row0_col1 {\n",
       "  text-align: left;\n",
       "}\n",
       "#T_ee6ab_row0_col2, #T_ee6ab_row0_col3, #T_ee6ab_row0_col5 {\n",
       "  text-align: center;\n",
       "}\n",
       "</style>\n",
       "<table id=\"T_ee6ab\">\n",
       "  <thead>\n",
       "    <tr>\n",
       "      <th id=\"T_ee6ab_level0_col0\" class=\"col_heading level0 col0\" >Route ID</th>\n",
       "      <th id=\"T_ee6ab_level0_col1\" class=\"col_heading level0 col1\" >Route Name</th>\n",
       "      <th id=\"T_ee6ab_level0_col2\" class=\"col_heading level0 col2\" ># trips</th>\n",
       "      <th id=\"T_ee6ab_level0_col3\" class=\"col_heading level0 col3\" >Daily Avg Freq (trips per hr)</th>\n",
       "      <th id=\"T_ee6ab_level0_col4\" class=\"col_heading level0 col4\" >25th, 50th, 75th ptile (hrs)</th>\n",
       "      <th id=\"T_ee6ab_level0_col5\" class=\"col_heading level0 col5\" >PM Peak Avg Freq (trips per hr)</th>\n",
       "    </tr>\n",
       "  </thead>\n",
       "  <tbody>\n",
       "    <tr>\n",
       "      <td id=\"T_ee6ab_row0_col0\" class=\"data row0 col0\" >140</td>\n",
       "      <td id=\"T_ee6ab_row0_col1\" class=\"data row0 col1\" >Regional - Red Bluff, Los Molinos, Gerber</td>\n",
       "      <td id=\"T_ee6ab_row0_col2\" class=\"data row0 col2\" >18</td>\n",
       "      <td id=\"T_ee6ab_row0_col3\" class=\"data row0 col3\" >0.75</td>\n",
       "      <td id=\"T_ee6ab_row0_col4\" class=\"data row0 col4\" >1.17, 1.17, 1.17</td>\n",
       "      <td id=\"T_ee6ab_row0_col5\" class=\"data row0 col5\" >0.33</td>\n",
       "    </tr>\n",
       "  </tbody>\n",
       "</table>\n"
      ],
      "text/plain": [
       "<IPython.core.display.HTML object>"
      ]
     },
     "metadata": {},
     "output_type": "display_data"
    }
   ],
   "source": [
    "route_group = \"medium\"\n",
    "try:\n",
    "    display_charts_for_route_group(df, route_group)\n",
    "except:\n",
    "    print(\"No routes meet this criteria.\")"
   ]
  },
  {
   "cell_type": "markdown",
   "id": "124b76d0-886c-4d03-92ac-f1bda3cda182",
   "metadata": {
    "papermill": {
     "duration": 0.016998,
     "end_time": "2022-05-12T19:03:50.448169",
     "exception": false,
     "start_time": "2022-05-12T19:03:50.431171",
     "status": "completed"
    },
    "tags": []
   },
   "source": [
    "### Long Routes (> 1.5 hrs)"
   ]
  },
  {
   "cell_type": "code",
   "execution_count": 16,
   "id": "ddc81b19-4c45-4c81-8b7a-5e0f394aa7a3",
   "metadata": {
    "execution": {
     "iopub.execute_input": "2022-05-12T19:03:50.486074Z",
     "iopub.status.busy": "2022-05-12T19:03:50.485252Z",
     "iopub.status.idle": "2022-05-12T19:03:50.496677Z",
     "shell.execute_reply": "2022-05-12T19:03:50.496086Z"
    },
    "jupyter": {
     "source_hidden": true
    },
    "papermill": {
     "duration": 0.031625,
     "end_time": "2022-05-12T19:03:50.498385",
     "exception": false,
     "start_time": "2022-05-12T19:03:50.466760",
     "status": "completed"
    },
    "tags": [
     "remove_input"
    ]
   },
   "outputs": [
    {
     "name": "stdout",
     "output_type": "stream",
     "text": [
      "No routes meet this criteria.\n"
     ]
    }
   ],
   "source": [
    "route_group = \"long\"\n",
    "try:\n",
    "    display_charts_for_route_group(df, route_group)\n",
    "except:\n",
    "    print(\"No routes meet this criteria.\")"
   ]
  },
  {
   "cell_type": "markdown",
   "id": "ace75b5f-0442-4fbe-aebd-6c3a13ae13a7",
   "metadata": {
    "papermill": {
     "duration": 0.018431,
     "end_time": "2022-05-12T19:03:50.534275",
     "exception": false,
     "start_time": "2022-05-12T19:03:50.515844",
     "status": "completed"
    },
    "tags": []
   },
   "source": [
    "### GTFS Real-Time Speedmaps"
   ]
  },
  {
   "cell_type": "code",
   "execution_count": 17,
   "id": "a0a114a1-e975-4027-9daf-50029f5ef59f",
   "metadata": {
    "execution": {
     "iopub.execute_input": "2022-05-12T19:03:50.575981Z",
     "iopub.status.busy": "2022-05-12T19:03:50.575417Z",
     "iopub.status.idle": "2022-05-12T19:03:50.601801Z",
     "shell.execute_reply": "2022-05-12T19:03:50.601150Z"
    },
    "jupyter": {
     "source_hidden": true
    },
    "papermill": {
     "duration": 0.049434,
     "end_time": "2022-05-12T19:03:50.603701",
     "exception": false,
     "start_time": "2022-05-12T19:03:50.554267",
     "status": "completed"
    },
    "tags": [
     "remove_input"
    ]
   },
   "outputs": [
    {
     "data": {
      "text/html": [
       "No GTFS RT data available."
      ],
      "text/plain": [
       "<IPython.core.display.HTML object>"
      ]
     },
     "metadata": {},
     "output_type": "display_data"
    }
   ],
   "source": [
    "RT_SITE_YAML = \"../portfolio/sites/rt.yml\"\n",
    "\n",
    "# Grab list of ITP IDs with GTFS RT speedmaps\n",
    "rt_itp_id = deploy_portfolio_yaml.check_if_rt_data_available(RT_SITE_YAML)\n",
    "\n",
    "# Construct the URL \n",
    "RT_URL = (\"https://analysis.calitp.org/rt/\"\n",
    "          f\"district_{district_number}-{district_name}/\"\n",
    "          f\"speedmaps__itp_id_{itp_id}.html\"\n",
    "         ) \n",
    "\n",
    "# If this ITP ID is found in RT analysis, give URL to that operator in analysis.calitp.org\n",
    "if itp_id in rt_itp_id:\n",
    "    display(HTML(f'''<a href={RT_URL}>GTFS RT speedmaps here.</a>'''))\n",
    "\n",
    "else:\n",
    "    display(HTML(\"No GTFS RT data available.\"))"
   ]
  },
  {
   "cell_type": "code",
   "execution_count": null,
   "id": "5b680565-2230-4f2e-817c-718fad48d64c",
   "metadata": {
    "jupyter": {
     "source_hidden": true
    },
    "papermill": {
     "duration": 0.017983,
     "end_time": "2022-05-12T19:03:50.639736",
     "exception": false,
     "start_time": "2022-05-12T19:03:50.621753",
     "status": "completed"
    },
    "tags": [
     "remove_input"
    ]
   },
   "outputs": [],
   "source": []
  }
 ],
 "metadata": {
  "kernelspec": {
   "display_name": "Python 3 (ipykernel)",
   "language": "python",
   "name": "python3"
  },
  "language_info": {
   "codemirror_mode": {
    "name": "ipython",
    "version": 3
   },
   "file_extension": ".py",
   "mimetype": "text/x-python",
   "name": "python",
   "nbconvert_exporter": "python",
   "pygments_lexer": "ipython3",
   "version": "3.9.12"
  },
  "papermill": {
   "default_parameters": {},
   "duration": 23.046755,
   "end_time": "2022-05-12T19:03:51.882026",
   "environment_variables": {},
   "exception": null,
   "input_path": "bus_service_increase/competitive-parallel-routes.ipynb",
   "output_path": "portfolio/parallel_corridors/district_02-redding/5__competitive-parallel-routes__district_02-redding__itp_id_334.ipynb",
   "parameters": {
    "district": "02 - Redding",
    "itp_id": 334
   },
   "start_time": "2022-05-12T19:03:28.835271",
   "version": "2.3.4"
  }
 },
 "nbformat": 4,
 "nbformat_minor": 5
}