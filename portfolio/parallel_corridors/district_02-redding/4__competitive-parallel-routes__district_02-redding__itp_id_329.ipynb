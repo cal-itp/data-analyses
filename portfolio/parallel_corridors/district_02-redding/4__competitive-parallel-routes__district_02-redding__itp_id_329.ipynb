{
 "cells": [
  {
   "cell_type": "code",
   "execution_count": 1,
   "id": "95d00857-6a20-4529-a519-2cc7182928a9",
   "metadata": {
    "execution": {
     "iopub.execute_input": "2022-05-12T01:53:03.685923Z",
     "iopub.status.busy": "2022-05-12T01:53:03.685574Z",
     "iopub.status.idle": "2022-05-12T01:53:11.963110Z",
     "shell.execute_reply": "2022-05-12T01:53:11.962208Z"
    },
    "jupyter": {
     "source_hidden": true
    },
    "papermill": {
     "duration": 8.294028,
     "end_time": "2022-05-12T01:53:11.965692",
     "exception": false,
     "start_time": "2022-05-12T01:53:03.671664",
     "status": "completed"
    },
    "tags": [
     "remove_input"
    ]
   },
   "outputs": [],
   "source": [
    "%%capture\n",
    "import warnings\n",
    "warnings.filterwarnings('ignore')\n",
    "\n",
    "import altair as alt\n",
    "import calitp.magics\n",
    "import geopandas as gpd\n",
    "import intake\n",
    "import pandas as pd\n",
    "\n",
    "from IPython.display import display, Markdown, HTML\n",
    "\n",
    "import parallel_corridors_utils\n",
    "import deploy_portfolio_yaml\n",
    "from shared_utils import styleguide, geography_utils\n",
    "from make_stripplot_data import diff_cutoffs\n",
    "\n",
    "catalog = intake.open_catalog(\"./*.yml\")\n",
    "alt.renderers.enable(\"html\")"
   ]
  },
  {
   "cell_type": "code",
   "execution_count": 2,
   "id": "8af2a0c1-f3da-408d-9bea-11d9fbf8695d",
   "metadata": {
    "execution": {
     "iopub.execute_input": "2022-05-12T01:53:11.993091Z",
     "iopub.status.busy": "2022-05-12T01:53:11.992119Z",
     "iopub.status.idle": "2022-05-12T01:53:11.996631Z",
     "shell.execute_reply": "2022-05-12T01:53:11.996137Z"
    },
    "jupyter": {
     "source_hidden": true
    },
    "papermill": {
     "duration": 0.019316,
     "end_time": "2022-05-12T01:53:11.998253",
     "exception": false,
     "start_time": "2022-05-12T01:53:11.978937",
     "status": "completed"
    },
    "tags": [
     "parameters",
     "remove_input"
    ]
   },
   "outputs": [],
   "source": [
    "# parameters cell\n",
    "itp_id = 182"
   ]
  },
  {
   "cell_type": "code",
   "execution_count": 3,
   "id": "9d400ae2",
   "metadata": {
    "execution": {
     "iopub.execute_input": "2022-05-12T01:53:12.024712Z",
     "iopub.status.busy": "2022-05-12T01:53:12.023917Z",
     "iopub.status.idle": "2022-05-12T01:53:12.028094Z",
     "shell.execute_reply": "2022-05-12T01:53:12.027587Z"
    },
    "jupyter": {
     "source_hidden": true
    },
    "papermill": {
     "duration": 0.019498,
     "end_time": "2022-05-12T01:53:12.029692",
     "exception": false,
     "start_time": "2022-05-12T01:53:12.010194",
     "status": "completed"
    },
    "tags": [
     "injected-parameters",
     "remove_input"
    ]
   },
   "outputs": [],
   "source": [
    "# Parameters\n",
    "district = \"02 - Redding\"\n",
    "itp_id = 329\n"
   ]
  },
  {
   "cell_type": "code",
   "execution_count": 4,
   "id": "9582aaf4-79ff-412a-b248-8d8d693ebd4f",
   "metadata": {
    "execution": {
     "iopub.execute_input": "2022-05-12T01:53:12.058643Z",
     "iopub.status.busy": "2022-05-12T01:53:12.056418Z",
     "iopub.status.idle": "2022-05-12T01:53:13.315623Z",
     "shell.execute_reply": "2022-05-12T01:53:13.315046Z"
    },
    "jupyter": {
     "source_hidden": true
    },
    "papermill": {
     "duration": 1.276297,
     "end_time": "2022-05-12T01:53:13.317894",
     "exception": false,
     "start_time": "2022-05-12T01:53:12.041597",
     "status": "completed"
    },
    "tags": [
     "remove_input"
    ]
   },
   "outputs": [],
   "source": [
    "df = catalog.competitive_route_variability.read()\n",
    "\n",
    "df = (df[(df.calitp_itp_id == itp_id) & \n",
    "         (df.route_group.notna())]\n",
    "      .rename(columns = {\"route_name_used\": \"route_name\"})\n",
    "      .reset_index(drop=True)\n",
    "     )\n",
    "\n",
    "if itp_id == 182:\n",
    "    df = df.assign(\n",
    "        route_id = df.route_id.str.replace('-13153', '').astype(int)\n",
    "    )"
   ]
  },
  {
   "cell_type": "code",
   "execution_count": 5,
   "id": "33ac4b06-f647-4dce-a625-8f2c1b37cc60",
   "metadata": {
    "execution": {
     "iopub.execute_input": "2022-05-12T01:53:13.358713Z",
     "iopub.status.busy": "2022-05-12T01:53:13.358418Z",
     "iopub.status.idle": "2022-05-12T01:53:13.369089Z",
     "shell.execute_reply": "2022-05-12T01:53:13.368274Z"
    },
    "jupyter": {
     "source_hidden": true
    },
    "papermill": {
     "duration": 0.032879,
     "end_time": "2022-05-12T01:53:13.372117",
     "exception": false,
     "start_time": "2022-05-12T01:53:13.339238",
     "status": "completed"
    },
    "tags": [
     "remove_input"
    ]
   },
   "outputs": [],
   "source": [
    "%%capture_parameters\n",
    "operator_name = df.name.iloc[0]\n",
    "district_number = f\"{df.caltrans_district.iloc[0].split('-')[0].strip()}\"\n",
    "district_name = f\"{df.caltrans_district.iloc[0].split('-')[1].strip().lower().replace(' ', '-')}\"\n",
    "\n",
    "itp_id, operator_name, district_number, district_name"
   ]
  },
  {
   "cell_type": "markdown",
   "id": "65bc6f5c-8348-42ee-b2dd-52057c406852",
   "metadata": {
    "papermill": {
     "duration": 0.012376,
     "end_time": "2022-05-12T01:53:13.396998",
     "exception": false,
     "start_time": "2022-05-12T01:53:13.384622",
     "status": "completed"
    },
    "tags": []
   },
   "source": [
    "# Susanville Indian Rancheria (ITP ID: 329)"
   ]
  },
  {
   "cell_type": "code",
   "execution_count": 6,
   "id": "a689c1ab-2c6c-4831-8d64-897f5986f571",
   "metadata": {
    "execution": {
     "iopub.execute_input": "2022-05-12T01:53:13.424201Z",
     "iopub.status.busy": "2022-05-12T01:53:13.423244Z",
     "iopub.status.idle": "2022-05-12T01:53:13.429434Z",
     "shell.execute_reply": "2022-05-12T01:53:13.428916Z"
    },
    "jupyter": {
     "source_hidden": true
    },
    "papermill": {
     "duration": 0.021966,
     "end_time": "2022-05-12T01:53:13.431022",
     "exception": false,
     "start_time": "2022-05-12T01:53:13.409056",
     "status": "completed"
    },
    "tags": [
     "remove_input"
    ]
   },
   "outputs": [
    {
     "data": {
      "text/html": [
       "<h1>Competitive & Parallel Routes</h1>"
      ],
      "text/plain": [
       "<IPython.core.display.HTML object>"
      ]
     },
     "metadata": {},
     "output_type": "display_data"
    }
   ],
   "source": [
    "display(HTML(\"<h1>Competitive & Parallel Routes</h1>\")) "
   ]
  },
  {
   "cell_type": "code",
   "execution_count": 7,
   "id": "2cb4d8d5-4760-40e4-85b1-cb833d8bb648",
   "metadata": {
    "execution": {
     "iopub.execute_input": "2022-05-12T01:53:13.460021Z",
     "iopub.status.busy": "2022-05-12T01:53:13.459427Z",
     "iopub.status.idle": "2022-05-12T01:53:24.366357Z",
     "shell.execute_reply": "2022-05-12T01:53:24.365504Z"
    },
    "jupyter": {
     "source_hidden": true
    },
    "papermill": {
     "duration": 10.923737,
     "end_time": "2022-05-12T01:53:24.368653",
     "exception": false,
     "start_time": "2022-05-12T01:53:13.444916",
     "status": "completed"
    },
    "tags": [
     "remove_input"
    ]
   },
   "outputs": [],
   "source": [
    "# Grab parameters for narrative text - clean up formatting here \n",
    "district = df.caltrans_district.iloc[0]\n",
    "formatted_date = pd.to_datetime(parallel_corridors_utils.SELECTED_DATE).strftime('%m-%d-%Y')\n",
    "\n",
    "PCT_COMPETITIVE_THRESHOLD = 0.75\n",
    "PCT_TRIPS_BELOW_CUTOFF = 0.50\n",
    "\n",
    "stats = parallel_corridors_utils.operator_parallel_competitive_stats(\n",
    "    itp_id, PCT_COMPETITIVE_THRESHOLD, PCT_TRIPS_BELOW_CUTOFF)\n",
    "\n",
    "pct_parallel = round(stats['parallel_routes'] / stats['num_routes'] * 100, 1 )\n",
    "pct_competitive =  round(stats['competitive_routes'] / stats['num_routes'] * 100, 1 )\n",
    "pct_viable =  round(stats['viable_competitive_routes'] / stats['num_routes'] * 100, 1 )"
   ]
  },
  {
   "cell_type": "code",
   "execution_count": 8,
   "id": "8bf30c8f-6aa5-47bb-82ae-a906732e81fd",
   "metadata": {
    "execution": {
     "iopub.execute_input": "2022-05-12T01:53:24.396940Z",
     "iopub.status.busy": "2022-05-12T01:53:24.396681Z",
     "iopub.status.idle": "2022-05-12T01:53:24.427845Z",
     "shell.execute_reply": "2022-05-12T01:53:24.426931Z"
    },
    "jupyter": {
     "source_hidden": true
    },
    "papermill": {
     "duration": 0.047931,
     "end_time": "2022-05-12T01:53:24.429728",
     "exception": false,
     "start_time": "2022-05-12T01:53:24.381797",
     "status": "completed"
    },
    "tags": [
     "remove_input"
    ]
   },
   "outputs": [],
   "source": [
    "# Display a table of route-level stats for each route_group\n",
    "# Displaying route_name makes chart too crowded\n",
    "\n",
    "# Get route stats (for entire df)\n",
    "route_stats = parallel_corridors_utils.competitive_route_level_stats(df)\n",
    "    \n",
    "def style_route_stats(df, top15_routes):\n",
    "    df = df[df.route_id.isin(top15_routes)]\n",
    "    \n",
    "    # Rename columns for display\n",
    "    rename_cols = {\n",
    "        \"route_id\": \"Route ID\",\n",
    "        \"route_name\": \"Route Name\",\n",
    "        \"route_group\": \"Route Group\",\n",
    "        \"num_trips\": \"# trips\",\n",
    "        \"daily_avg_freq\": \"Daily Avg Freq (trips per hr)\",\n",
    "        \"pm_peak_freq\": \"PM Peak Avg Freq (trips per hr)\",\n",
    "        \"percentiles\": \"25th, 50th, 75th ptile (hrs)\",\n",
    "    }\n",
    "    \n",
    "    # Style it\n",
    "    drop_cols = [\n",
    "        \"calitp_itp_id\", \"below_cutoff\", \"route_group\", \n",
    "        \"pct_trips_competitive\", \"pct_below_cutoff\",\n",
    "        \"p25\", \"p50\", \"p75\",\n",
    "    ]\n",
    "    \n",
    "    # Change alignment for some columns\n",
    "    # https://stackoverflow.com/questions/59453091/left-align-the-first-column-and-center-align-the-other-columns-in-a-pandas-table\n",
    "    df_style = (df.sort_values(\n",
    "        [\"pct_trips_competitive\", \"below_cutoff\", \n",
    "        \"pct_below_cutoff\", \"route_id\"], \n",
    "        ascending=[False, False, False, True])\n",
    "           .drop(columns = drop_cols)\n",
    "           .rename(columns = rename_cols)\n",
    "           .style.format(\n",
    "               subset=['Daily Avg Freq (trips per hr)', \n",
    "                       'PM Peak Avg Freq (trips per hr)'], \n",
    "               **{'formatter': '{:,.3}'})\n",
    "                .set_properties(subset=['Route ID', 'Route Name'], \n",
    "                                **{'text-align': 'left'})\n",
    "                .set_properties(subset=['# trips', 'Daily Avg Freq (trips per hr)', \n",
    "                                       'PM Peak Avg Freq (trips per hr)'], \n",
    "                               **{'text-align': 'center'})\n",
    "                .set_table_styles([dict(selector='th', \n",
    "                                        props=[('text-align', 'center')])\n",
    "                                        ])\n",
    "           .hide(axis=\"index\")\n",
    "           .to_html()\n",
    "          )\n",
    "    \n",
    "    display(HTML(\"<h4>Route Stats</h4>\"))\n",
    "    display(HTML(df_style))"
   ]
  },
  {
   "cell_type": "markdown",
   "id": "ab667928-5274-4490-82d9-4c39293209a4",
   "metadata": {
    "papermill": {
     "duration": 0.012662,
     "end_time": "2022-05-12T01:53:24.456184",
     "exception": false,
     "start_time": "2022-05-12T01:53:24.443522",
     "status": "completed"
    },
    "tags": []
   },
   "source": [
    "## Quick Stats"
   ]
  },
  {
   "cell_type": "code",
   "execution_count": 9,
   "id": "0416509d-dc62-4165-b62e-64f8b26e8b8e",
   "metadata": {
    "execution": {
     "iopub.execute_input": "2022-05-12T01:53:24.489058Z",
     "iopub.status.busy": "2022-05-12T01:53:24.488792Z",
     "iopub.status.idle": "2022-05-12T01:53:24.496330Z",
     "shell.execute_reply": "2022-05-12T01:53:24.495645Z"
    },
    "jupyter": {
     "source_hidden": true
    },
    "papermill": {
     "duration": 0.027818,
     "end_time": "2022-05-12T01:53:24.498030",
     "exception": false,
     "start_time": "2022-05-12T01:53:24.470212",
     "status": "completed"
    },
    "tags": [
     "remove_input"
    ]
   },
   "outputs": [
    {
     "data": {
      "text/markdown": [
       "**Bus routes in service: 5**<br>**Parallel routes** to State Highway Network (SHN): **5 routes (100.0%)**<br>**Competitive routes** against car travel (within 2x car travel time): **2 routes (40.0%)**<br>**Viable competitive routes** against car travel (within 2x car travel time and within 20, 30, or 40 min cut-off): **1 routes (20.0%)**"
      ],
      "text/plain": [
       "<IPython.core.display.Markdown object>"
      ]
     },
     "metadata": {},
     "output_type": "display_data"
    }
   ],
   "source": [
    "display(\n",
    "    Markdown(\n",
    "        f\"**Bus routes in service: {stats['num_routes']}**\"\n",
    "        \"<br>**Parallel routes** to State Highway Network (SHN): \"\n",
    "        f\"**{stats['parallel_routes']} routes ({pct_parallel}%)**\"\n",
    "        \"<br>**Competitive routes** against car travel (within 2x car travel time): \"\n",
    "        f\"**{stats['competitive_routes']} routes ({pct_competitive}%)**\"\n",
    "        \"<br>**Viable competitive routes** against car travel \"\n",
    "        \"(within 2x car travel time and within 20, 30, or 40 min cut-off): \"\n",
    "        f\"**{stats['viable_competitive_routes']} routes ({pct_viable}%)**\"\n",
    "    )\n",
    ")"
   ]
  },
  {
   "cell_type": "code",
   "execution_count": 10,
   "id": "f9d6ab58-f0ee-460c-b6de-657490e1f386",
   "metadata": {
    "execution": {
     "iopub.execute_input": "2022-05-12T01:53:24.527998Z",
     "iopub.status.busy": "2022-05-12T01:53:24.527319Z",
     "iopub.status.idle": "2022-05-12T01:53:24.533459Z",
     "shell.execute_reply": "2022-05-12T01:53:24.532712Z"
    },
    "jupyter": {
     "source_hidden": true
    },
    "papermill": {
     "duration": 0.024096,
     "end_time": "2022-05-12T01:53:24.535170",
     "exception": false,
     "start_time": "2022-05-12T01:53:24.511074",
     "status": "completed"
    },
    "tags": [
     "remove_input"
    ]
   },
   "outputs": [],
   "source": [
    "def set_yaxis_range(df, y_col):\n",
    "    Y_MIN = df[y_col].min()\n",
    "    Y_MAX = df[y_col].max()\n",
    "    \n",
    "    return Y_MIN, Y_MAX\n",
    "\n",
    "# Rather than set it according to the operator, which can vary,\n",
    "# just use set thresholds for each group\n",
    "def top15_routes(df, route_group):\n",
    "    # grab top 15 routes where majority of trips are below that cut-off \n",
    "    # but show 15 max, otherwise, show less, since these won't be as interesting to operators\n",
    "    df2 = (df[(df.route_group==route_group) &\n",
    "              (df.pct_below_cutoff >= PCT_TRIPS_BELOW_CUTOFF)]\n",
    "           .sort_values([\"calitp_itp_id\", \"below_cutoff\", \n",
    "                         \"pct_below_cutoff\", \"route_id\"],\n",
    "                        ascending = [True, False, False, True]\n",
    "                       )\n",
    "           .drop_duplicates(subset=[\"calitp_itp_id\", \"route_id\"])\n",
    "          ).head(15)\n",
    "    \n",
    "    return list(df2.route_id)"
   ]
  },
  {
   "cell_type": "code",
   "execution_count": 11,
   "id": "cf36d559-3349-4144-8086-8ac9ce937a5a",
   "metadata": {
    "execution": {
     "iopub.execute_input": "2022-05-12T01:53:24.565150Z",
     "iopub.status.busy": "2022-05-12T01:53:24.564660Z",
     "iopub.status.idle": "2022-05-12T01:53:24.569768Z",
     "shell.execute_reply": "2022-05-12T01:53:24.569231Z"
    },
    "jupyter": {
     "source_hidden": true
    },
    "papermill": {
     "duration": 0.02192,
     "end_time": "2022-05-12T01:53:24.571392",
     "exception": false,
     "start_time": "2022-05-12T01:53:24.549472",
     "status": "completed"
    },
    "tags": [
     "remove_input"
    ]
   },
   "outputs": [],
   "source": [
    "def caption_with_cutoff(cutoff):\n",
    "    sentence = (\n",
    "        f\"<br>These are routes that have **at least {int(PCT_TRIPS_BELOW_CUTOFF*100)}% \"\n",
    "        \"of their trips take no more than an \"\n",
    "        f\"additional {cutoff} min** compared to a car \"\n",
    "        \"(up to 15 routes) are shown.\"\n",
    "        \"<br>Within each route group, routes are sorted in descending order \"\n",
    "        \"by % competitive trips and # trips below the additional time cut-off.\"\n",
    "    )\n",
    "    return sentence\n",
    "\n",
    "CAPTIONS_DICT = {\n",
    "    \"short\": caption_with_cutoff(diff_cutoffs['short']),\n",
    "    \"medium\": caption_with_cutoff(diff_cutoffs['medium']),\n",
    "    \"long\": caption_with_cutoff(diff_cutoffs['long']),\n",
    "}"
   ]
  },
  {
   "cell_type": "code",
   "execution_count": 12,
   "id": "e4306d58-6944-47e9-afef-5d5b524c751f",
   "metadata": {
    "execution": {
     "iopub.execute_input": "2022-05-12T01:53:24.610070Z",
     "iopub.status.busy": "2022-05-12T01:53:24.609458Z",
     "iopub.status.idle": "2022-05-12T01:53:24.618362Z",
     "shell.execute_reply": "2022-05-12T01:53:24.617747Z"
    },
    "jupyter": {
     "source_hidden": true
    },
    "papermill": {
     "duration": 0.025306,
     "end_time": "2022-05-12T01:53:24.620145",
     "exception": false,
     "start_time": "2022-05-12T01:53:24.594839",
     "status": "completed"
    },
    "tags": [
     "remove_input"
    ]
   },
   "outputs": [],
   "source": [
    "def setup_charts(df, PCT_COMPETITIVE_THRESHOLD, route_group):\n",
    "    # Set up df for charting (cut-off at some threshold to show most competitive routes)\n",
    "    plot_me = (df[df.pct_trips_competitive > PCT_COMPETITIVE_THRESHOLD]\n",
    "           .drop(columns = \"geometry\")\n",
    "    )\n",
    "    \n",
    "    # Set y-ranges to be the same across route_groups, \n",
    "    # otherwise charts fluctuate too much, even within operator\n",
    "    y_col1 = \"bus_multiplier\"\n",
    "    Y_MIN1, Y_MAX1 = set_yaxis_range(plot_me, y_col1)\n",
    "\n",
    "    y_col2 = \"bus_difference\"\n",
    "    Y_MIN2, Y_MAX2 = set_yaxis_range(plot_me, y_col2)\n",
    "    \n",
    "    # Grab the routes to plot\n",
    "    subset_routes = top15_routes(plot_me, route_group)\n",
    "        \n",
    "    # Display charts\n",
    "    multiplier_chart = parallel_corridors_utils.make_stripplot(\n",
    "        plot_me[plot_me.route_id.isin(subset_routes)], \n",
    "        y_col1, Y_MIN = Y_MIN1, Y_MAX = Y_MAX1\n",
    "    )\n",
    "    \n",
    "    difference_chart = parallel_corridors_utils.make_stripplot(\n",
    "        plot_me[plot_me.route_id.isin(subset_routes)], \n",
    "        y_col2, Y_MIN = Y_MIN2, Y_MAX = Y_MAX2\n",
    "    )\n",
    "    \n",
    "    return subset_routes, multiplier_chart, difference_chart            "
   ]
  },
  {
   "cell_type": "code",
   "execution_count": 13,
   "id": "33a710e8-504c-4942-aa75-ff69f216956e",
   "metadata": {
    "execution": {
     "iopub.execute_input": "2022-05-12T01:53:24.651265Z",
     "iopub.status.busy": "2022-05-12T01:53:24.650503Z",
     "iopub.status.idle": "2022-05-12T01:53:24.655865Z",
     "shell.execute_reply": "2022-05-12T01:53:24.655407Z"
    },
    "jupyter": {
     "source_hidden": true
    },
    "papermill": {
     "duration": 0.022182,
     "end_time": "2022-05-12T01:53:24.657450",
     "exception": false,
     "start_time": "2022-05-12T01:53:24.635268",
     "status": "completed"
    },
    "tags": [
     "remove_input"
    ]
   },
   "outputs": [],
   "source": [
    "def display_charts_for_route_group(df, route_group):    \n",
    "    subset_routes, mult, diff  = setup_charts(df, PCT_COMPETITIVE_THRESHOLD, route_group)\n",
    "\n",
    "    if len(subset_routes) > 0:\n",
    "        display(Markdown(f\"{CAPTIONS_DICT[route_group]}\"))\n",
    "\n",
    "        display(mult)\n",
    "        display(diff)\n",
    "        \n",
    "        # Display route stats for just plotted routes\n",
    "        style_route_stats(route_stats, subset_routes)"
   ]
  },
  {
   "cell_type": "markdown",
   "id": "525f9b38-072b-46d1-96a8-1aa4b038357c",
   "metadata": {
    "papermill": {
     "duration": 0.019496,
     "end_time": "2022-05-12T01:53:24.690364",
     "exception": false,
     "start_time": "2022-05-12T01:53:24.670868",
     "status": "completed"
    },
    "tags": []
   },
   "source": [
    "## Viable Competitive Routes\n",
    "### Short Routes (< 1 hr)"
   ]
  },
  {
   "cell_type": "code",
   "execution_count": 14,
   "id": "57f7084c-2cf7-45c6-ba08-1609e0bd6ca5",
   "metadata": {
    "execution": {
     "iopub.execute_input": "2022-05-12T01:53:24.721179Z",
     "iopub.status.busy": "2022-05-12T01:53:24.720831Z",
     "iopub.status.idle": "2022-05-12T01:53:24.735616Z",
     "shell.execute_reply": "2022-05-12T01:53:24.735109Z"
    },
    "jupyter": {
     "source_hidden": true
    },
    "papermill": {
     "duration": 0.032827,
     "end_time": "2022-05-12T01:53:24.737257",
     "exception": false,
     "start_time": "2022-05-12T01:53:24.704430",
     "status": "completed"
    },
    "tags": [
     "remove_input"
    ]
   },
   "outputs": [
    {
     "name": "stdout",
     "output_type": "stream",
     "text": [
      "No routes meet this criteria.\n"
     ]
    }
   ],
   "source": [
    "# Allow for possibility that operator doesn't have routes that fall into certain route_groups\n",
    "# But, jupyterbook will not like markdown with f-string\n",
    "# separate out route_group and put in each cell, and use try/except + if to display...\n",
    "# but all 3 route groups must be displayed. just add sentence about why no routes were returned at the end\n",
    "route_group = \"short\"\n",
    "try:\n",
    "    display_charts_for_route_group(df, route_group)\n",
    "except:\n",
    "    print(\"No routes meet this criteria.\")"
   ]
  },
  {
   "cell_type": "markdown",
   "id": "c2931b6f-034d-4384-9e14-80b925e3b820",
   "metadata": {
    "papermill": {
     "duration": 0.013768,
     "end_time": "2022-05-12T01:53:24.764728",
     "exception": false,
     "start_time": "2022-05-12T01:53:24.750960",
     "status": "completed"
    },
    "tags": []
   },
   "source": [
    "### Medium Routes (1-1.5 hrs)"
   ]
  },
  {
   "cell_type": "code",
   "execution_count": 15,
   "id": "480edddc-4de0-48c2-ae4c-b0ceef8f28b5",
   "metadata": {
    "execution": {
     "iopub.execute_input": "2022-05-12T01:53:24.807848Z",
     "iopub.status.busy": "2022-05-12T01:53:24.806892Z",
     "iopub.status.idle": "2022-05-12T01:53:25.112682Z",
     "shell.execute_reply": "2022-05-12T01:53:25.112168Z"
    },
    "jupyter": {
     "source_hidden": true
    },
    "papermill": {
     "duration": 0.323673,
     "end_time": "2022-05-12T01:53:25.114498",
     "exception": false,
     "start_time": "2022-05-12T01:53:24.790825",
     "status": "completed"
    },
    "tags": [
     "remove_input"
    ]
   },
   "outputs": [
    {
     "data": {
      "text/markdown": [
       "<br>These are routes that have **at least 50% of their trips take no more than an additional 30 min** compared to a car (up to 15 routes) are shown.<br>Within each route group, routes are sorted in descending order by % competitive trips and # trips below the additional time cut-off."
      ],
      "text/plain": [
       "<IPython.core.display.Markdown object>"
      ]
     },
     "metadata": {},
     "output_type": "display_data"
    },
    {
     "data": {
      "text/html": [
       "\n",
       "<div id=\"altair-viz-6fc5319500fd49adb753fac06965db7e\"></div>\n",
       "<script type=\"text/javascript\">\n",
       "  var VEGA_DEBUG = (typeof VEGA_DEBUG == \"undefined\") ? {} : VEGA_DEBUG;\n",
       "  (function(spec, embedOpt){\n",
       "    let outputDiv = document.currentScript.previousElementSibling;\n",
       "    if (outputDiv.id !== \"altair-viz-6fc5319500fd49adb753fac06965db7e\") {\n",
       "      outputDiv = document.getElementById(\"altair-viz-6fc5319500fd49adb753fac06965db7e\");\n",
       "    }\n",
       "    const paths = {\n",
       "      \"vega\": \"https://cdn.jsdelivr.net/npm//vega@5?noext\",\n",
       "      \"vega-lib\": \"https://cdn.jsdelivr.net/npm//vega-lib?noext\",\n",
       "      \"vega-lite\": \"https://cdn.jsdelivr.net/npm//vega-lite@4.17.0?noext\",\n",
       "      \"vega-embed\": \"https://cdn.jsdelivr.net/npm//vega-embed@6?noext\",\n",
       "    };\n",
       "\n",
       "    function maybeLoadScript(lib, version) {\n",
       "      var key = `${lib.replace(\"-\", \"\")}_version`;\n",
       "      return (VEGA_DEBUG[key] == version) ?\n",
       "        Promise.resolve(paths[lib]) :\n",
       "        new Promise(function(resolve, reject) {\n",
       "          var s = document.createElement('script');\n",
       "          document.getElementsByTagName(\"head\")[0].appendChild(s);\n",
       "          s.async = true;\n",
       "          s.onload = () => {\n",
       "            VEGA_DEBUG[key] = version;\n",
       "            return resolve(paths[lib]);\n",
       "          };\n",
       "          s.onerror = () => reject(`Error loading script: ${paths[lib]}`);\n",
       "          s.src = paths[lib];\n",
       "        });\n",
       "    }\n",
       "\n",
       "    function showError(err) {\n",
       "      outputDiv.innerHTML = `<div class=\"error\" style=\"color:red;\">${err}</div>`;\n",
       "      throw err;\n",
       "    }\n",
       "\n",
       "    function displayChart(vegaEmbed) {\n",
       "      vegaEmbed(outputDiv, spec, embedOpt)\n",
       "        .catch(err => showError(`Javascript Error: ${err.message}<br>This usually means there's a typo in your chart specification. See the javascript console for the full traceback.`));\n",
       "    }\n",
       "\n",
       "    if(typeof define === \"function\" && define.amd) {\n",
       "      requirejs.config({paths});\n",
       "      require([\"vega-embed\"], displayChart, err => showError(`Error loading script: ${err.message}`));\n",
       "    } else {\n",
       "      maybeLoadScript(\"vega\", \"5\")\n",
       "        .then(() => maybeLoadScript(\"vega-lite\", \"4.17.0\"))\n",
       "        .then(() => maybeLoadScript(\"vega-embed\", \"6\"))\n",
       "        .catch(showError)\n",
       "        .then(() => displayChart(vegaEmbed));\n",
       "    }\n",
       "  })({\"config\": {\"view\": {\"continuousWidth\": 400, \"continuousHeight\": 300, \"stroke\": null}, \"facet\": {\"spacing\": 0}}, \"data\": {\"name\": \"data-f356d61b827c87800cc49794cbaf6fe6\"}, \"facet\": {\"column\": {\"field\": \"route_id\", \"sort\": [\"140\"], \"title\": \"Route ID\", \"type\": \"nominal\"}}, \"spec\": {\"layer\": [{\"mark\": \"rule\", \"encoding\": {\"color\": {\"value\": \"black\"}, \"y\": {\"field\": \"cutoff\", \"type\": \"quantitative\"}}, \"selection\": {\"selector001\": {\"type\": \"interval\", \"bind\": \"scales\", \"encodings\": [\"x\", \"y\"]}}}, {\"mark\": {\"type\": \"point\", \"opacity\": 0.65, \"size\": 12, \"strokeWidth\": 1.1}, \"encoding\": {\"color\": {\"field\": \"time_of_day\", \"scale\": {\"range\": [\"#136C97\", \"#E16B26\", \"#F6BF16\", \"#00896B\", \"#7790A3\", \"#5B559C\"]}, \"sort\": [\"AM Peak\", \"Midday\", \"PM Peak\", \"Owl Service\"], \"title\": \"Time of Day\", \"type\": \"nominal\"}, \"tooltip\": [{\"field\": \"route_id\", \"type\": \"nominal\"}, {\"field\": \"route_name\", \"type\": \"nominal\"}, {\"field\": \"trip_id\", \"type\": \"nominal\"}, {\"field\": \"service_hours\", \"type\": \"quantitative\"}, {\"field\": \"car_duration_hours\", \"type\": \"quantitative\"}, {\"field\": \"bus_multiplier\", \"type\": \"quantitative\"}, {\"field\": \"bus_difference\", \"type\": \"quantitative\"}, {\"field\": \"num_trips\", \"type\": \"quantitative\"}, {\"field\": \"num_competitive\", \"type\": \"quantitative\"}, {\"field\": \"pct_trips_competitive\", \"type\": \"quantitative\"}, {\"field\": \"p25\", \"type\": \"quantitative\"}, {\"field\": \"p50\", \"type\": \"quantitative\"}, {\"field\": \"p75\", \"type\": \"quantitative\"}], \"x\": {\"axis\": {\"grid\": false, \"labels\": false, \"ticks\": true, \"values\": [0]}, \"field\": \"jitter\", \"scale\": {}, \"title\": null, \"type\": \"quantitative\"}, \"y\": {\"field\": \"bus_multiplier\", \"scale\": {\"domain\": [-0.25, 3.0]}, \"title\": \"Ratio of Bus to Car Travel Time\", \"type\": \"quantitative\"}}, \"transform\": [{\"calculate\": \"sqrt(-2*log(random()))*cos(2*PI*random())\", \"as\": \"jitter\"}], \"width\": 50}, {\"layer\": [{\"mark\": {\"type\": \"point\", \"opacity\": 0.6, \"size\": 20, \"strokeWidth\": 1.3}, \"encoding\": {\"color\": {\"value\": \"#323434\"}, \"y\": {\"field\": \"bus_multiplier\", \"type\": \"quantitative\"}}, \"transform\": [{\"filter\": \"(datum.p50_trip === 1)\"}]}, {\"mark\": {\"type\": \"text\", \"align\": \"center\", \"baseline\": \"middle\"}, \"encoding\": {\"color\": {\"value\": \"black\"}, \"text\": {\"field\": \"pct_trips_competitive\", \"format\": \".0%\", \"type\": \"quantitative\"}, \"tooltip\": [{\"field\": \"route_id\", \"type\": \"nominal\"}, {\"field\": \"route_name\", \"type\": \"nominal\"}, {\"field\": \"trip_id\", \"type\": \"nominal\"}, {\"field\": \"service_hours\", \"type\": \"quantitative\"}, {\"field\": \"car_duration_hours\", \"type\": \"quantitative\"}, {\"field\": \"bus_multiplier\", \"type\": \"quantitative\"}, {\"field\": \"bus_difference\", \"type\": \"quantitative\"}, {\"field\": \"num_trips\", \"type\": \"quantitative\"}, {\"field\": \"num_competitive\", \"type\": \"quantitative\"}, {\"field\": \"pct_trips_competitive\", \"type\": \"quantitative\"}, {\"field\": \"p25\", \"type\": \"quantitative\"}, {\"field\": \"p50\", \"type\": \"quantitative\"}, {\"field\": \"p75\", \"type\": \"quantitative\"}], \"x\": {\"value\": 30}, \"y\": {\"value\": 15}}, \"transform\": [{\"calculate\": \"sqrt(-2*log(random()))*cos(2*PI*random())\", \"as\": \"jitter\"}, {\"filter\": \"(datum.fastest_trip === 1)\"}]}]}]}, \"resolve\": {\"scale\": {\"y\": \"shared\"}}, \"title\": \"Ratio of Bus to Car Travel Time\", \"$schema\": \"https://vega.github.io/schema/vega-lite/v4.17.0.json\", \"datasets\": {\"data-f356d61b827c87800cc49794cbaf6fe6\": [{\"calitp_itp_id\": 329, \"trip_key\": -9023541331044704491, \"trip_id\": \"t_41753_b_486_tn_0\", \"shape_id\": \"p_2590\", \"route_id\": \"140\", \"service_hours\": 1.17, \"trip_first_departure_ts\": 31200, \"trip_last_arrival_ts\": 35400, \"departure_hour\": 8, \"time_of_day\": \"AM Peak\", \"p25\": 1.17, \"p50\": 1.17, \"p75\": 1.17, \"p50_trip\": 1, \"fastest_trip\": 0, \"car_duration_hours\": 0.74, \"competitive_route\": 1, \"bus_multiplier\": 1.58, \"bus_difference\": 25.8, \"num_trips\": 18, \"num_competitive\": 18, \"pct_trips_competitive\": 1.0, \"bus_difference_spread\": 0.0, \"route_group\": \"medium\", \"max_trip_hrs\": 1.17, \"max_trip_route_group\": 1.17, \"below_cutoff\": 18, \"pct_below_cutoff\": 1.0, \"name\": \"Susanville Indian Rancheria\", \"caltrans_district\": \"02 - Redding\", \"drmt_organization_name\": null, \"route_name\": \"Regional - Red Bluff, Los Molinos, Gerber\", \"cutoff2\": 30, \"cutoff\": 2}, {\"calitp_itp_id\": 329, \"trip_key\": -5475125746485700448, \"trip_id\": \"t_701147_b_486_tn_0\", \"shape_id\": \"p_2592\", \"route_id\": \"140\", \"service_hours\": 1.17, \"trip_first_departure_ts\": 25800, \"trip_last_arrival_ts\": 30000, \"departure_hour\": 7, \"time_of_day\": \"AM Peak\", \"p25\": 1.17, \"p50\": 1.17, \"p75\": 1.17, \"p50_trip\": 1, \"fastest_trip\": 0, \"car_duration_hours\": 0.74, \"competitive_route\": 1, \"bus_multiplier\": 1.58, \"bus_difference\": 25.8, \"num_trips\": 18, \"num_competitive\": 18, \"pct_trips_competitive\": 1.0, \"bus_difference_spread\": 0.0, \"route_group\": \"medium\", \"max_trip_hrs\": 1.17, \"max_trip_route_group\": 1.17, \"below_cutoff\": 18, \"pct_below_cutoff\": 1.0, \"name\": \"Susanville Indian Rancheria\", \"caltrans_district\": \"02 - Redding\", \"drmt_organization_name\": null, \"route_name\": \"Regional - Red Bluff, Los Molinos, Gerber\", \"cutoff2\": 30, \"cutoff\": 2}, {\"calitp_itp_id\": 329, \"trip_key\": -1244449242420870573, \"trip_id\": \"t_701149_b_486_tn_0\", \"shape_id\": \"p_2592\", \"route_id\": \"140\", \"service_hours\": 1.17, \"trip_first_departure_ts\": 34200, \"trip_last_arrival_ts\": 38400, \"departure_hour\": 9, \"time_of_day\": \"AM Peak\", \"p25\": 1.17, \"p50\": 1.17, \"p75\": 1.17, \"p50_trip\": 1, \"fastest_trip\": 0, \"car_duration_hours\": 0.74, \"competitive_route\": 1, \"bus_multiplier\": 1.58, \"bus_difference\": 25.8, \"num_trips\": 18, \"num_competitive\": 18, \"pct_trips_competitive\": 1.0, \"bus_difference_spread\": 0.0, \"route_group\": \"medium\", \"max_trip_hrs\": 1.17, \"max_trip_route_group\": 1.17, \"below_cutoff\": 18, \"pct_below_cutoff\": 1.0, \"name\": \"Susanville Indian Rancheria\", \"caltrans_district\": \"02 - Redding\", \"drmt_organization_name\": null, \"route_name\": \"Regional - Red Bluff, Los Molinos, Gerber\", \"cutoff2\": 30, \"cutoff\": 2}, {\"calitp_itp_id\": 329, \"trip_key\": 6748690927392392678, \"trip_id\": \"t_701157_b_486_tn_0\", \"shape_id\": \"p_2590\", \"route_id\": \"140\", \"service_hours\": 1.17, \"trip_first_departure_ts\": 48000, \"trip_last_arrival_ts\": 52200, \"departure_hour\": 13, \"time_of_day\": \"Midday\", \"p25\": 1.17, \"p50\": 1.17, \"p75\": 1.17, \"p50_trip\": 1, \"fastest_trip\": 0, \"car_duration_hours\": 0.74, \"competitive_route\": 1, \"bus_multiplier\": 1.58, \"bus_difference\": 25.8, \"num_trips\": 18, \"num_competitive\": 18, \"pct_trips_competitive\": 1.0, \"bus_difference_spread\": 0.0, \"route_group\": \"medium\", \"max_trip_hrs\": 1.17, \"max_trip_route_group\": 1.17, \"below_cutoff\": 18, \"pct_below_cutoff\": 1.0, \"name\": \"Susanville Indian Rancheria\", \"caltrans_district\": \"02 - Redding\", \"drmt_organization_name\": null, \"route_name\": \"Regional - Red Bluff, Los Molinos, Gerber\", \"cutoff2\": 30, \"cutoff\": 2}, {\"calitp_itp_id\": 329, \"trip_key\": -2779325176788422315, \"trip_id\": \"t_701159_b_486_tn_0\", \"shape_id\": \"p_2590\", \"route_id\": \"140\", \"service_hours\": 1.17, \"trip_first_departure_ts\": 58500, \"trip_last_arrival_ts\": 62700, \"departure_hour\": 16, \"time_of_day\": \"Midday\", \"p25\": 1.17, \"p50\": 1.17, \"p75\": 1.17, \"p50_trip\": 1, \"fastest_trip\": 0, \"car_duration_hours\": 0.74, \"competitive_route\": 1, \"bus_multiplier\": 1.58, \"bus_difference\": 25.8, \"num_trips\": 18, \"num_competitive\": 18, \"pct_trips_competitive\": 1.0, \"bus_difference_spread\": 0.0, \"route_group\": \"medium\", \"max_trip_hrs\": 1.17, \"max_trip_route_group\": 1.17, \"below_cutoff\": 18, \"pct_below_cutoff\": 1.0, \"name\": \"Susanville Indian Rancheria\", \"caltrans_district\": \"02 - Redding\", \"drmt_organization_name\": null, \"route_name\": \"Regional - Red Bluff, Los Molinos, Gerber\", \"cutoff2\": 30, \"cutoff\": 2}, {\"calitp_itp_id\": 329, \"trip_key\": -2798469289354357403, \"trip_id\": \"t_43182_b_486_tn_0\", \"shape_id\": \"p_2590\", \"route_id\": \"140\", \"service_hours\": 1.17, \"trip_first_departure_ts\": 27000, \"trip_last_arrival_ts\": 31200, \"departure_hour\": 7, \"time_of_day\": \"AM Peak\", \"p25\": 1.17, \"p50\": 1.17, \"p75\": 1.17, \"p50_trip\": 1, \"fastest_trip\": 0, \"car_duration_hours\": 0.74, \"competitive_route\": 1, \"bus_multiplier\": 1.58, \"bus_difference\": 25.8, \"num_trips\": 18, \"num_competitive\": 18, \"pct_trips_competitive\": 1.0, \"bus_difference_spread\": 0.0, \"route_group\": \"medium\", \"max_trip_hrs\": 1.17, \"max_trip_route_group\": 1.17, \"below_cutoff\": 18, \"pct_below_cutoff\": 1.0, \"name\": \"Susanville Indian Rancheria\", \"caltrans_district\": \"02 - Redding\", \"drmt_organization_name\": null, \"route_name\": \"Regional - Red Bluff, Los Molinos, Gerber\", \"cutoff2\": 30, \"cutoff\": 2}, {\"calitp_itp_id\": 329, \"trip_key\": -3012178463176888290, \"trip_id\": \"t_701152_b_486_tn_0\", \"shape_id\": \"p_2592\", \"route_id\": \"140\", \"service_hours\": 1.17, \"trip_first_departure_ts\": 46800, \"trip_last_arrival_ts\": 51000, \"departure_hour\": 13, \"time_of_day\": \"Midday\", \"p25\": 1.17, \"p50\": 1.17, \"p75\": 1.17, \"p50_trip\": 1, \"fastest_trip\": 0, \"car_duration_hours\": 0.74, \"competitive_route\": 1, \"bus_multiplier\": 1.58, \"bus_difference\": 25.8, \"num_trips\": 18, \"num_competitive\": 18, \"pct_trips_competitive\": 1.0, \"bus_difference_spread\": 0.0, \"route_group\": \"medium\", \"max_trip_hrs\": 1.17, \"max_trip_route_group\": 1.17, \"below_cutoff\": 18, \"pct_below_cutoff\": 1.0, \"name\": \"Susanville Indian Rancheria\", \"caltrans_district\": \"02 - Redding\", \"drmt_organization_name\": null, \"route_name\": \"Regional - Red Bluff, Los Molinos, Gerber\", \"cutoff2\": 30, \"cutoff\": 2}, {\"calitp_itp_id\": 329, \"trip_key\": 2426106789488399220, \"trip_id\": \"t_701154_b_486_tn_0\", \"shape_id\": \"p_2592\", \"route_id\": \"140\", \"service_hours\": 1.17, \"trip_first_departure_ts\": 58500, \"trip_last_arrival_ts\": 62700, \"departure_hour\": 16, \"time_of_day\": \"Midday\", \"p25\": 1.17, \"p50\": 1.17, \"p75\": 1.17, \"p50_trip\": 1, \"fastest_trip\": 0, \"car_duration_hours\": 0.74, \"competitive_route\": 1, \"bus_multiplier\": 1.58, \"bus_difference\": 25.8, \"num_trips\": 18, \"num_competitive\": 18, \"pct_trips_competitive\": 1.0, \"bus_difference_spread\": 0.0, \"route_group\": \"medium\", \"max_trip_hrs\": 1.17, \"max_trip_route_group\": 1.17, \"below_cutoff\": 18, \"pct_below_cutoff\": 1.0, \"name\": \"Susanville Indian Rancheria\", \"caltrans_district\": \"02 - Redding\", \"drmt_organization_name\": null, \"route_name\": \"Regional - Red Bluff, Los Molinos, Gerber\", \"cutoff2\": 30, \"cutoff\": 2}, {\"calitp_itp_id\": 329, \"trip_key\": -6757776111279200247, \"trip_id\": \"t_65615_b_486_tn_0\", \"shape_id\": \"p_2590\", \"route_id\": \"140\", \"service_hours\": 1.17, \"trip_first_departure_ts\": 35400, \"trip_last_arrival_ts\": 39600, \"departure_hour\": 9, \"time_of_day\": \"AM Peak\", \"p25\": 1.17, \"p50\": 1.17, \"p75\": 1.17, \"p50_trip\": 1, \"fastest_trip\": 0, \"car_duration_hours\": 0.74, \"competitive_route\": 1, \"bus_multiplier\": 1.58, \"bus_difference\": 25.8, \"num_trips\": 18, \"num_competitive\": 18, \"pct_trips_competitive\": 1.0, \"bus_difference_spread\": 0.0, \"route_group\": \"medium\", \"max_trip_hrs\": 1.17, \"max_trip_route_group\": 1.17, \"below_cutoff\": 18, \"pct_below_cutoff\": 1.0, \"name\": \"Susanville Indian Rancheria\", \"caltrans_district\": \"02 - Redding\", \"drmt_organization_name\": null, \"route_name\": \"Regional - Red Bluff, Los Molinos, Gerber\", \"cutoff2\": 30, \"cutoff\": 2}, {\"calitp_itp_id\": 329, \"trip_key\": -8156939348510227682, \"trip_id\": \"t_701156_b_486_tn_0\", \"shape_id\": \"p_2590\", \"route_id\": \"140\", \"service_hours\": 1.17, \"trip_first_departure_ts\": 43800, \"trip_last_arrival_ts\": 48000, \"departure_hour\": 12, \"time_of_day\": \"Midday\", \"p25\": 1.17, \"p50\": 1.17, \"p75\": 1.17, \"p50_trip\": 1, \"fastest_trip\": 0, \"car_duration_hours\": 0.74, \"competitive_route\": 1, \"bus_multiplier\": 1.58, \"bus_difference\": 25.8, \"num_trips\": 18, \"num_competitive\": 18, \"pct_trips_competitive\": 1.0, \"bus_difference_spread\": 0.0, \"route_group\": \"medium\", \"max_trip_hrs\": 1.17, \"max_trip_route_group\": 1.17, \"below_cutoff\": 18, \"pct_below_cutoff\": 1.0, \"name\": \"Susanville Indian Rancheria\", \"caltrans_district\": \"02 - Redding\", \"drmt_organization_name\": null, \"route_name\": \"Regional - Red Bluff, Los Molinos, Gerber\", \"cutoff2\": 30, \"cutoff\": 2}, {\"calitp_itp_id\": 329, \"trip_key\": -5684759302882934829, \"trip_id\": \"t_701153_b_486_tn_0\", \"shape_id\": \"p_2592\", \"route_id\": \"140\", \"service_hours\": 1.17, \"trip_first_departure_ts\": 54000, \"trip_last_arrival_ts\": 58200, \"departure_hour\": 15, \"time_of_day\": \"Midday\", \"p25\": 1.17, \"p50\": 1.17, \"p75\": 1.17, \"p50_trip\": 1, \"fastest_trip\": 0, \"car_duration_hours\": 0.74, \"competitive_route\": 1, \"bus_multiplier\": 1.58, \"bus_difference\": 25.8, \"num_trips\": 18, \"num_competitive\": 18, \"pct_trips_competitive\": 1.0, \"bus_difference_spread\": 0.0, \"route_group\": \"medium\", \"max_trip_hrs\": 1.17, \"max_trip_route_group\": 1.17, \"below_cutoff\": 18, \"pct_below_cutoff\": 1.0, \"name\": \"Susanville Indian Rancheria\", \"caltrans_district\": \"02 - Redding\", \"drmt_organization_name\": null, \"route_name\": \"Regional - Red Bluff, Los Molinos, Gerber\", \"cutoff2\": 30, \"cutoff\": 2}, {\"calitp_itp_id\": 329, \"trip_key\": 6514282057861841955, \"trip_id\": \"t_311_b_486_tn_0\", \"shape_id\": \"p_2590\", \"route_id\": \"140\", \"service_hours\": 1.17, \"trip_first_departure_ts\": 22800, \"trip_last_arrival_ts\": 27000, \"departure_hour\": 6, \"time_of_day\": \"Owl Service\", \"p25\": 1.17, \"p50\": 1.17, \"p75\": 1.17, \"p50_trip\": 1, \"fastest_trip\": 0, \"car_duration_hours\": 0.74, \"competitive_route\": 1, \"bus_multiplier\": 1.58, \"bus_difference\": 25.8, \"num_trips\": 18, \"num_competitive\": 18, \"pct_trips_competitive\": 1.0, \"bus_difference_spread\": 0.0, \"route_group\": \"medium\", \"max_trip_hrs\": 1.17, \"max_trip_route_group\": 1.17, \"below_cutoff\": 18, \"pct_below_cutoff\": 1.0, \"name\": \"Susanville Indian Rancheria\", \"caltrans_district\": \"02 - Redding\", \"drmt_organization_name\": null, \"route_name\": \"Regional - Red Bluff, Los Molinos, Gerber\", \"cutoff2\": 30, \"cutoff\": 2}, {\"calitp_itp_id\": 329, \"trip_key\": 6719398106673501739, \"trip_id\": \"t_701155_b_486_tn_0\", \"shape_id\": \"p_2592\", \"route_id\": \"140\", \"service_hours\": 1.17, \"trip_first_departure_ts\": 63000, \"trip_last_arrival_ts\": 67200, \"departure_hour\": 17, \"time_of_day\": \"PM Peak\", \"p25\": 1.17, \"p50\": 1.17, \"p75\": 1.17, \"p50_trip\": 1, \"fastest_trip\": 1, \"car_duration_hours\": 0.74, \"competitive_route\": 1, \"bus_multiplier\": 1.58, \"bus_difference\": 25.8, \"num_trips\": 18, \"num_competitive\": 18, \"pct_trips_competitive\": 1.0, \"bus_difference_spread\": 0.0, \"route_group\": \"medium\", \"max_trip_hrs\": 1.17, \"max_trip_route_group\": 1.17, \"below_cutoff\": 18, \"pct_below_cutoff\": 1.0, \"name\": \"Susanville Indian Rancheria\", \"caltrans_district\": \"02 - Redding\", \"drmt_organization_name\": null, \"route_name\": \"Regional - Red Bluff, Los Molinos, Gerber\", \"cutoff2\": 30, \"cutoff\": 2}, {\"calitp_itp_id\": 329, \"trip_key\": 5922811996062735093, \"trip_id\": \"t_701148_b_486_tn_0\", \"shape_id\": \"p_2592\", \"route_id\": \"140\", \"service_hours\": 1.17, \"trip_first_departure_ts\": 30000, \"trip_last_arrival_ts\": 34200, \"departure_hour\": 8, \"time_of_day\": \"AM Peak\", \"p25\": 1.17, \"p50\": 1.17, \"p75\": 1.17, \"p50_trip\": 1, \"fastest_trip\": 0, \"car_duration_hours\": 0.74, \"competitive_route\": 1, \"bus_multiplier\": 1.58, \"bus_difference\": 25.8, \"num_trips\": 18, \"num_competitive\": 18, \"pct_trips_competitive\": 1.0, \"bus_difference_spread\": 0.0, \"route_group\": \"medium\", \"max_trip_hrs\": 1.17, \"max_trip_route_group\": 1.17, \"below_cutoff\": 18, \"pct_below_cutoff\": 1.0, \"name\": \"Susanville Indian Rancheria\", \"caltrans_district\": \"02 - Redding\", \"drmt_organization_name\": null, \"route_name\": \"Regional - Red Bluff, Los Molinos, Gerber\", \"cutoff2\": 30, \"cutoff\": 2}, {\"calitp_itp_id\": 329, \"trip_key\": 556136217499988690, \"trip_id\": \"t_701151_b_486_tn_0\", \"shape_id\": \"p_2592\", \"route_id\": \"140\", \"service_hours\": 1.17, \"trip_first_departure_ts\": 42600, \"trip_last_arrival_ts\": 46800, \"departure_hour\": 11, \"time_of_day\": \"Midday\", \"p25\": 1.17, \"p50\": 1.17, \"p75\": 1.17, \"p50_trip\": 1, \"fastest_trip\": 0, \"car_duration_hours\": 0.74, \"competitive_route\": 1, \"bus_multiplier\": 1.58, \"bus_difference\": 25.8, \"num_trips\": 18, \"num_competitive\": 18, \"pct_trips_competitive\": 1.0, \"bus_difference_spread\": 0.0, \"route_group\": \"medium\", \"max_trip_hrs\": 1.17, \"max_trip_route_group\": 1.17, \"below_cutoff\": 18, \"pct_below_cutoff\": 1.0, \"name\": \"Susanville Indian Rancheria\", \"caltrans_district\": \"02 - Redding\", \"drmt_organization_name\": null, \"route_name\": \"Regional - Red Bluff, Los Molinos, Gerber\", \"cutoff2\": 30, \"cutoff\": 2}, {\"calitp_itp_id\": 329, \"trip_key\": 9021601000075020373, \"trip_id\": \"t_701158_b_486_tn_0\", \"shape_id\": \"p_2590\", \"route_id\": \"140\", \"service_hours\": 1.17, \"trip_first_departure_ts\": 54000, \"trip_last_arrival_ts\": 58200, \"departure_hour\": 15, \"time_of_day\": \"Midday\", \"p25\": 1.17, \"p50\": 1.17, \"p75\": 1.17, \"p50_trip\": 1, \"fastest_trip\": 0, \"car_duration_hours\": 0.74, \"competitive_route\": 1, \"bus_multiplier\": 1.58, \"bus_difference\": 25.8, \"num_trips\": 18, \"num_competitive\": 18, \"pct_trips_competitive\": 1.0, \"bus_difference_spread\": 0.0, \"route_group\": \"medium\", \"max_trip_hrs\": 1.17, \"max_trip_route_group\": 1.17, \"below_cutoff\": 18, \"pct_below_cutoff\": 1.0, \"name\": \"Susanville Indian Rancheria\", \"caltrans_district\": \"02 - Redding\", \"drmt_organization_name\": null, \"route_name\": \"Regional - Red Bluff, Los Molinos, Gerber\", \"cutoff2\": 30, \"cutoff\": 2}, {\"calitp_itp_id\": 329, \"trip_key\": 7250065426467176317, \"trip_id\": \"t_52898_b_486_tn_0\", \"shape_id\": \"p_2590\", \"route_id\": \"140\", \"service_hours\": 1.17, \"trip_first_departure_ts\": 39600, \"trip_last_arrival_ts\": 43800, \"departure_hour\": 11, \"time_of_day\": \"Midday\", \"p25\": 1.17, \"p50\": 1.17, \"p75\": 1.17, \"p50_trip\": 1, \"fastest_trip\": 0, \"car_duration_hours\": 0.74, \"competitive_route\": 1, \"bus_multiplier\": 1.58, \"bus_difference\": 25.8, \"num_trips\": 18, \"num_competitive\": 18, \"pct_trips_competitive\": 1.0, \"bus_difference_spread\": 0.0, \"route_group\": \"medium\", \"max_trip_hrs\": 1.17, \"max_trip_route_group\": 1.17, \"below_cutoff\": 18, \"pct_below_cutoff\": 1.0, \"name\": \"Susanville Indian Rancheria\", \"caltrans_district\": \"02 - Redding\", \"drmt_organization_name\": null, \"route_name\": \"Regional - Red Bluff, Los Molinos, Gerber\", \"cutoff2\": 30, \"cutoff\": 2}, {\"calitp_itp_id\": 329, \"trip_key\": 6389470649396978753, \"trip_id\": \"t_701150_b_486_tn_0\", \"shape_id\": \"p_2592\", \"route_id\": \"140\", \"service_hours\": 1.17, \"trip_first_departure_ts\": 38400, \"trip_last_arrival_ts\": 42600, \"departure_hour\": 10, \"time_of_day\": \"Midday\", \"p25\": 1.17, \"p50\": 1.17, \"p75\": 1.17, \"p50_trip\": 1, \"fastest_trip\": 0, \"car_duration_hours\": 0.74, \"competitive_route\": 1, \"bus_multiplier\": 1.58, \"bus_difference\": 25.8, \"num_trips\": 18, \"num_competitive\": 18, \"pct_trips_competitive\": 1.0, \"bus_difference_spread\": 0.0, \"route_group\": \"medium\", \"max_trip_hrs\": 1.17, \"max_trip_route_group\": 1.17, \"below_cutoff\": 18, \"pct_below_cutoff\": 1.0, \"name\": \"Susanville Indian Rancheria\", \"caltrans_district\": \"02 - Redding\", \"drmt_organization_name\": null, \"route_name\": \"Regional - Red Bluff, Los Molinos, Gerber\", \"cutoff2\": 30, \"cutoff\": 2}]}}, {\"mode\": \"vega-lite\"});\n",
       "</script>"
      ],
      "text/plain": [
       "alt.FacetChart(...)"
      ]
     },
     "metadata": {},
     "output_type": "display_data"
    },
    {
     "data": {
      "text/html": [
       "\n",
       "<div id=\"altair-viz-a728e9b79f3245b9bb9b863d601285a0\"></div>\n",
       "<script type=\"text/javascript\">\n",
       "  var VEGA_DEBUG = (typeof VEGA_DEBUG == \"undefined\") ? {} : VEGA_DEBUG;\n",
       "  (function(spec, embedOpt){\n",
       "    let outputDiv = document.currentScript.previousElementSibling;\n",
       "    if (outputDiv.id !== \"altair-viz-a728e9b79f3245b9bb9b863d601285a0\") {\n",
       "      outputDiv = document.getElementById(\"altair-viz-a728e9b79f3245b9bb9b863d601285a0\");\n",
       "    }\n",
       "    const paths = {\n",
       "      \"vega\": \"https://cdn.jsdelivr.net/npm//vega@5?noext\",\n",
       "      \"vega-lib\": \"https://cdn.jsdelivr.net/npm//vega-lib?noext\",\n",
       "      \"vega-lite\": \"https://cdn.jsdelivr.net/npm//vega-lite@4.17.0?noext\",\n",
       "      \"vega-embed\": \"https://cdn.jsdelivr.net/npm//vega-embed@6?noext\",\n",
       "    };\n",
       "\n",
       "    function maybeLoadScript(lib, version) {\n",
       "      var key = `${lib.replace(\"-\", \"\")}_version`;\n",
       "      return (VEGA_DEBUG[key] == version) ?\n",
       "        Promise.resolve(paths[lib]) :\n",
       "        new Promise(function(resolve, reject) {\n",
       "          var s = document.createElement('script');\n",
       "          document.getElementsByTagName(\"head\")[0].appendChild(s);\n",
       "          s.async = true;\n",
       "          s.onload = () => {\n",
       "            VEGA_DEBUG[key] = version;\n",
       "            return resolve(paths[lib]);\n",
       "          };\n",
       "          s.onerror = () => reject(`Error loading script: ${paths[lib]}`);\n",
       "          s.src = paths[lib];\n",
       "        });\n",
       "    }\n",
       "\n",
       "    function showError(err) {\n",
       "      outputDiv.innerHTML = `<div class=\"error\" style=\"color:red;\">${err}</div>`;\n",
       "      throw err;\n",
       "    }\n",
       "\n",
       "    function displayChart(vegaEmbed) {\n",
       "      vegaEmbed(outputDiv, spec, embedOpt)\n",
       "        .catch(err => showError(`Javascript Error: ${err.message}<br>This usually means there's a typo in your chart specification. See the javascript console for the full traceback.`));\n",
       "    }\n",
       "\n",
       "    if(typeof define === \"function\" && define.amd) {\n",
       "      requirejs.config({paths});\n",
       "      require([\"vega-embed\"], displayChart, err => showError(`Error loading script: ${err.message}`));\n",
       "    } else {\n",
       "      maybeLoadScript(\"vega\", \"5\")\n",
       "        .then(() => maybeLoadScript(\"vega-lite\", \"4.17.0\"))\n",
       "        .then(() => maybeLoadScript(\"vega-embed\", \"6\"))\n",
       "        .catch(showError)\n",
       "        .then(() => displayChart(vegaEmbed));\n",
       "    }\n",
       "  })({\"config\": {\"view\": {\"continuousWidth\": 400, \"continuousHeight\": 300, \"stroke\": null}, \"facet\": {\"spacing\": 0}}, \"data\": {\"name\": \"data-ddfadd873df0abe01649013e90b9feae\"}, \"facet\": {\"column\": {\"field\": \"route_id\", \"sort\": [\"140\"], \"title\": \"Route ID\", \"type\": \"nominal\"}}, \"spec\": {\"layer\": [{\"mark\": \"rule\", \"encoding\": {\"color\": {\"value\": \"black\"}, \"y\": {\"field\": \"cutoff\", \"type\": \"quantitative\"}}, \"selection\": {\"selector002\": {\"type\": \"interval\", \"bind\": \"scales\", \"encodings\": [\"x\", \"y\"]}}}, {\"mark\": {\"type\": \"rule\", \"strokeDash\": [3, 3]}, \"encoding\": {\"color\": {\"value\": \"#323434\"}, \"y\": {\"field\": \"cutoff2\", \"type\": \"quantitative\"}}}, {\"mark\": {\"type\": \"point\", \"opacity\": 0.65, \"size\": 12, \"strokeWidth\": 1.1}, \"encoding\": {\"color\": {\"field\": \"time_of_day\", \"scale\": {\"range\": [\"#136C97\", \"#E16B26\", \"#F6BF16\", \"#00896B\", \"#7790A3\", \"#5B559C\"]}, \"sort\": [\"AM Peak\", \"Midday\", \"PM Peak\", \"Owl Service\"], \"title\": \"Time of Day\", \"type\": \"nominal\"}, \"tooltip\": [{\"field\": \"route_id\", \"type\": \"nominal\"}, {\"field\": \"route_name\", \"type\": \"nominal\"}, {\"field\": \"trip_id\", \"type\": \"nominal\"}, {\"field\": \"service_hours\", \"type\": \"quantitative\"}, {\"field\": \"car_duration_hours\", \"type\": \"quantitative\"}, {\"field\": \"bus_multiplier\", \"type\": \"quantitative\"}, {\"field\": \"bus_difference\", \"type\": \"quantitative\"}, {\"field\": \"num_trips\", \"type\": \"quantitative\"}, {\"field\": \"num_competitive\", \"type\": \"quantitative\"}, {\"field\": \"pct_trips_competitive\", \"type\": \"quantitative\"}, {\"field\": \"p25\", \"type\": \"quantitative\"}, {\"field\": \"p50\", \"type\": \"quantitative\"}, {\"field\": \"p75\", \"type\": \"quantitative\"}], \"x\": {\"axis\": {\"grid\": false, \"labels\": false, \"ticks\": true, \"values\": [0]}, \"field\": \"jitter\", \"scale\": {}, \"title\": null, \"type\": \"quantitative\"}, \"y\": {\"field\": \"bus_difference\", \"scale\": {\"domain\": [-5, 35.0]}, \"title\": \"Difference in Bus to Car Travel Time (min)\", \"type\": \"quantitative\"}}, \"transform\": [{\"calculate\": \"sqrt(-2*log(random()))*cos(2*PI*random())\", \"as\": \"jitter\"}], \"width\": 50}, {\"layer\": [{\"mark\": {\"type\": \"point\", \"opacity\": 0.6, \"size\": 20, \"strokeWidth\": 1.3}, \"encoding\": {\"color\": {\"value\": \"#323434\"}, \"y\": {\"field\": \"bus_difference\", \"type\": \"quantitative\"}}, \"transform\": [{\"filter\": \"(datum.p50_trip === 1)\"}]}, {\"mark\": {\"type\": \"text\", \"align\": \"center\", \"baseline\": \"middle\"}, \"encoding\": {\"color\": {\"value\": \"black\"}, \"text\": {\"field\": \"pct_trips_competitive\", \"format\": \".0%\", \"type\": \"quantitative\"}, \"tooltip\": [{\"field\": \"route_id\", \"type\": \"nominal\"}, {\"field\": \"route_name\", \"type\": \"nominal\"}, {\"field\": \"trip_id\", \"type\": \"nominal\"}, {\"field\": \"service_hours\", \"type\": \"quantitative\"}, {\"field\": \"car_duration_hours\", \"type\": \"quantitative\"}, {\"field\": \"bus_multiplier\", \"type\": \"quantitative\"}, {\"field\": \"bus_difference\", \"type\": \"quantitative\"}, {\"field\": \"num_trips\", \"type\": \"quantitative\"}, {\"field\": \"num_competitive\", \"type\": \"quantitative\"}, {\"field\": \"pct_trips_competitive\", \"type\": \"quantitative\"}, {\"field\": \"p25\", \"type\": \"quantitative\"}, {\"field\": \"p50\", \"type\": \"quantitative\"}, {\"field\": \"p75\", \"type\": \"quantitative\"}], \"x\": {\"value\": 30}, \"y\": {\"value\": 15}}, \"transform\": [{\"calculate\": \"sqrt(-2*log(random()))*cos(2*PI*random())\", \"as\": \"jitter\"}, {\"filter\": \"(datum.fastest_trip === 1)\"}]}]}]}, \"resolve\": {\"scale\": {\"y\": \"shared\"}}, \"title\": \"Difference in Bus to Car Travel Time (min)\", \"$schema\": \"https://vega.github.io/schema/vega-lite/v4.17.0.json\", \"datasets\": {\"data-ddfadd873df0abe01649013e90b9feae\": [{\"calitp_itp_id\": 329, \"trip_key\": -9023541331044704491, \"trip_id\": \"t_41753_b_486_tn_0\", \"shape_id\": \"p_2590\", \"route_id\": \"140\", \"service_hours\": 1.17, \"trip_first_departure_ts\": 31200, \"trip_last_arrival_ts\": 35400, \"departure_hour\": 8, \"time_of_day\": \"AM Peak\", \"p25\": 1.17, \"p50\": 1.17, \"p75\": 1.17, \"p50_trip\": 1, \"fastest_trip\": 0, \"car_duration_hours\": 0.74, \"competitive_route\": 1, \"bus_multiplier\": 1.58, \"bus_difference\": 25.8, \"num_trips\": 18, \"num_competitive\": 18, \"pct_trips_competitive\": 1.0, \"bus_difference_spread\": 0.0, \"route_group\": \"medium\", \"max_trip_hrs\": 1.17, \"max_trip_route_group\": 1.17, \"below_cutoff\": 18, \"pct_below_cutoff\": 1.0, \"name\": \"Susanville Indian Rancheria\", \"caltrans_district\": \"02 - Redding\", \"drmt_organization_name\": null, \"route_name\": \"Regional - Red Bluff, Los Molinos, Gerber\", \"cutoff2\": 30, \"cutoff\": 0}, {\"calitp_itp_id\": 329, \"trip_key\": -5475125746485700448, \"trip_id\": \"t_701147_b_486_tn_0\", \"shape_id\": \"p_2592\", \"route_id\": \"140\", \"service_hours\": 1.17, \"trip_first_departure_ts\": 25800, \"trip_last_arrival_ts\": 30000, \"departure_hour\": 7, \"time_of_day\": \"AM Peak\", \"p25\": 1.17, \"p50\": 1.17, \"p75\": 1.17, \"p50_trip\": 1, \"fastest_trip\": 0, \"car_duration_hours\": 0.74, \"competitive_route\": 1, \"bus_multiplier\": 1.58, \"bus_difference\": 25.8, \"num_trips\": 18, \"num_competitive\": 18, \"pct_trips_competitive\": 1.0, \"bus_difference_spread\": 0.0, \"route_group\": \"medium\", \"max_trip_hrs\": 1.17, \"max_trip_route_group\": 1.17, \"below_cutoff\": 18, \"pct_below_cutoff\": 1.0, \"name\": \"Susanville Indian Rancheria\", \"caltrans_district\": \"02 - Redding\", \"drmt_organization_name\": null, \"route_name\": \"Regional - Red Bluff, Los Molinos, Gerber\", \"cutoff2\": 30, \"cutoff\": 0}, {\"calitp_itp_id\": 329, \"trip_key\": -1244449242420870573, \"trip_id\": \"t_701149_b_486_tn_0\", \"shape_id\": \"p_2592\", \"route_id\": \"140\", \"service_hours\": 1.17, \"trip_first_departure_ts\": 34200, \"trip_last_arrival_ts\": 38400, \"departure_hour\": 9, \"time_of_day\": \"AM Peak\", \"p25\": 1.17, \"p50\": 1.17, \"p75\": 1.17, \"p50_trip\": 1, \"fastest_trip\": 0, \"car_duration_hours\": 0.74, \"competitive_route\": 1, \"bus_multiplier\": 1.58, \"bus_difference\": 25.8, \"num_trips\": 18, \"num_competitive\": 18, \"pct_trips_competitive\": 1.0, \"bus_difference_spread\": 0.0, \"route_group\": \"medium\", \"max_trip_hrs\": 1.17, \"max_trip_route_group\": 1.17, \"below_cutoff\": 18, \"pct_below_cutoff\": 1.0, \"name\": \"Susanville Indian Rancheria\", \"caltrans_district\": \"02 - Redding\", \"drmt_organization_name\": null, \"route_name\": \"Regional - Red Bluff, Los Molinos, Gerber\", \"cutoff2\": 30, \"cutoff\": 0}, {\"calitp_itp_id\": 329, \"trip_key\": 6748690927392392678, \"trip_id\": \"t_701157_b_486_tn_0\", \"shape_id\": \"p_2590\", \"route_id\": \"140\", \"service_hours\": 1.17, \"trip_first_departure_ts\": 48000, \"trip_last_arrival_ts\": 52200, \"departure_hour\": 13, \"time_of_day\": \"Midday\", \"p25\": 1.17, \"p50\": 1.17, \"p75\": 1.17, \"p50_trip\": 1, \"fastest_trip\": 0, \"car_duration_hours\": 0.74, \"competitive_route\": 1, \"bus_multiplier\": 1.58, \"bus_difference\": 25.8, \"num_trips\": 18, \"num_competitive\": 18, \"pct_trips_competitive\": 1.0, \"bus_difference_spread\": 0.0, \"route_group\": \"medium\", \"max_trip_hrs\": 1.17, \"max_trip_route_group\": 1.17, \"below_cutoff\": 18, \"pct_below_cutoff\": 1.0, \"name\": \"Susanville Indian Rancheria\", \"caltrans_district\": \"02 - Redding\", \"drmt_organization_name\": null, \"route_name\": \"Regional - Red Bluff, Los Molinos, Gerber\", \"cutoff2\": 30, \"cutoff\": 0}, {\"calitp_itp_id\": 329, \"trip_key\": -2779325176788422315, \"trip_id\": \"t_701159_b_486_tn_0\", \"shape_id\": \"p_2590\", \"route_id\": \"140\", \"service_hours\": 1.17, \"trip_first_departure_ts\": 58500, \"trip_last_arrival_ts\": 62700, \"departure_hour\": 16, \"time_of_day\": \"Midday\", \"p25\": 1.17, \"p50\": 1.17, \"p75\": 1.17, \"p50_trip\": 1, \"fastest_trip\": 0, \"car_duration_hours\": 0.74, \"competitive_route\": 1, \"bus_multiplier\": 1.58, \"bus_difference\": 25.8, \"num_trips\": 18, \"num_competitive\": 18, \"pct_trips_competitive\": 1.0, \"bus_difference_spread\": 0.0, \"route_group\": \"medium\", \"max_trip_hrs\": 1.17, \"max_trip_route_group\": 1.17, \"below_cutoff\": 18, \"pct_below_cutoff\": 1.0, \"name\": \"Susanville Indian Rancheria\", \"caltrans_district\": \"02 - Redding\", \"drmt_organization_name\": null, \"route_name\": \"Regional - Red Bluff, Los Molinos, Gerber\", \"cutoff2\": 30, \"cutoff\": 0}, {\"calitp_itp_id\": 329, \"trip_key\": -2798469289354357403, \"trip_id\": \"t_43182_b_486_tn_0\", \"shape_id\": \"p_2590\", \"route_id\": \"140\", \"service_hours\": 1.17, \"trip_first_departure_ts\": 27000, \"trip_last_arrival_ts\": 31200, \"departure_hour\": 7, \"time_of_day\": \"AM Peak\", \"p25\": 1.17, \"p50\": 1.17, \"p75\": 1.17, \"p50_trip\": 1, \"fastest_trip\": 0, \"car_duration_hours\": 0.74, \"competitive_route\": 1, \"bus_multiplier\": 1.58, \"bus_difference\": 25.8, \"num_trips\": 18, \"num_competitive\": 18, \"pct_trips_competitive\": 1.0, \"bus_difference_spread\": 0.0, \"route_group\": \"medium\", \"max_trip_hrs\": 1.17, \"max_trip_route_group\": 1.17, \"below_cutoff\": 18, \"pct_below_cutoff\": 1.0, \"name\": \"Susanville Indian Rancheria\", \"caltrans_district\": \"02 - Redding\", \"drmt_organization_name\": null, \"route_name\": \"Regional - Red Bluff, Los Molinos, Gerber\", \"cutoff2\": 30, \"cutoff\": 0}, {\"calitp_itp_id\": 329, \"trip_key\": -3012178463176888290, \"trip_id\": \"t_701152_b_486_tn_0\", \"shape_id\": \"p_2592\", \"route_id\": \"140\", \"service_hours\": 1.17, \"trip_first_departure_ts\": 46800, \"trip_last_arrival_ts\": 51000, \"departure_hour\": 13, \"time_of_day\": \"Midday\", \"p25\": 1.17, \"p50\": 1.17, \"p75\": 1.17, \"p50_trip\": 1, \"fastest_trip\": 0, \"car_duration_hours\": 0.74, \"competitive_route\": 1, \"bus_multiplier\": 1.58, \"bus_difference\": 25.8, \"num_trips\": 18, \"num_competitive\": 18, \"pct_trips_competitive\": 1.0, \"bus_difference_spread\": 0.0, \"route_group\": \"medium\", \"max_trip_hrs\": 1.17, \"max_trip_route_group\": 1.17, \"below_cutoff\": 18, \"pct_below_cutoff\": 1.0, \"name\": \"Susanville Indian Rancheria\", \"caltrans_district\": \"02 - Redding\", \"drmt_organization_name\": null, \"route_name\": \"Regional - Red Bluff, Los Molinos, Gerber\", \"cutoff2\": 30, \"cutoff\": 0}, {\"calitp_itp_id\": 329, \"trip_key\": 2426106789488399220, \"trip_id\": \"t_701154_b_486_tn_0\", \"shape_id\": \"p_2592\", \"route_id\": \"140\", \"service_hours\": 1.17, \"trip_first_departure_ts\": 58500, \"trip_last_arrival_ts\": 62700, \"departure_hour\": 16, \"time_of_day\": \"Midday\", \"p25\": 1.17, \"p50\": 1.17, \"p75\": 1.17, \"p50_trip\": 1, \"fastest_trip\": 0, \"car_duration_hours\": 0.74, \"competitive_route\": 1, \"bus_multiplier\": 1.58, \"bus_difference\": 25.8, \"num_trips\": 18, \"num_competitive\": 18, \"pct_trips_competitive\": 1.0, \"bus_difference_spread\": 0.0, \"route_group\": \"medium\", \"max_trip_hrs\": 1.17, \"max_trip_route_group\": 1.17, \"below_cutoff\": 18, \"pct_below_cutoff\": 1.0, \"name\": \"Susanville Indian Rancheria\", \"caltrans_district\": \"02 - Redding\", \"drmt_organization_name\": null, \"route_name\": \"Regional - Red Bluff, Los Molinos, Gerber\", \"cutoff2\": 30, \"cutoff\": 0}, {\"calitp_itp_id\": 329, \"trip_key\": -6757776111279200247, \"trip_id\": \"t_65615_b_486_tn_0\", \"shape_id\": \"p_2590\", \"route_id\": \"140\", \"service_hours\": 1.17, \"trip_first_departure_ts\": 35400, \"trip_last_arrival_ts\": 39600, \"departure_hour\": 9, \"time_of_day\": \"AM Peak\", \"p25\": 1.17, \"p50\": 1.17, \"p75\": 1.17, \"p50_trip\": 1, \"fastest_trip\": 0, \"car_duration_hours\": 0.74, \"competitive_route\": 1, \"bus_multiplier\": 1.58, \"bus_difference\": 25.8, \"num_trips\": 18, \"num_competitive\": 18, \"pct_trips_competitive\": 1.0, \"bus_difference_spread\": 0.0, \"route_group\": \"medium\", \"max_trip_hrs\": 1.17, \"max_trip_route_group\": 1.17, \"below_cutoff\": 18, \"pct_below_cutoff\": 1.0, \"name\": \"Susanville Indian Rancheria\", \"caltrans_district\": \"02 - Redding\", \"drmt_organization_name\": null, \"route_name\": \"Regional - Red Bluff, Los Molinos, Gerber\", \"cutoff2\": 30, \"cutoff\": 0}, {\"calitp_itp_id\": 329, \"trip_key\": -8156939348510227682, \"trip_id\": \"t_701156_b_486_tn_0\", \"shape_id\": \"p_2590\", \"route_id\": \"140\", \"service_hours\": 1.17, \"trip_first_departure_ts\": 43800, \"trip_last_arrival_ts\": 48000, \"departure_hour\": 12, \"time_of_day\": \"Midday\", \"p25\": 1.17, \"p50\": 1.17, \"p75\": 1.17, \"p50_trip\": 1, \"fastest_trip\": 0, \"car_duration_hours\": 0.74, \"competitive_route\": 1, \"bus_multiplier\": 1.58, \"bus_difference\": 25.8, \"num_trips\": 18, \"num_competitive\": 18, \"pct_trips_competitive\": 1.0, \"bus_difference_spread\": 0.0, \"route_group\": \"medium\", \"max_trip_hrs\": 1.17, \"max_trip_route_group\": 1.17, \"below_cutoff\": 18, \"pct_below_cutoff\": 1.0, \"name\": \"Susanville Indian Rancheria\", \"caltrans_district\": \"02 - Redding\", \"drmt_organization_name\": null, \"route_name\": \"Regional - Red Bluff, Los Molinos, Gerber\", \"cutoff2\": 30, \"cutoff\": 0}, {\"calitp_itp_id\": 329, \"trip_key\": -5684759302882934829, \"trip_id\": \"t_701153_b_486_tn_0\", \"shape_id\": \"p_2592\", \"route_id\": \"140\", \"service_hours\": 1.17, \"trip_first_departure_ts\": 54000, \"trip_last_arrival_ts\": 58200, \"departure_hour\": 15, \"time_of_day\": \"Midday\", \"p25\": 1.17, \"p50\": 1.17, \"p75\": 1.17, \"p50_trip\": 1, \"fastest_trip\": 0, \"car_duration_hours\": 0.74, \"competitive_route\": 1, \"bus_multiplier\": 1.58, \"bus_difference\": 25.8, \"num_trips\": 18, \"num_competitive\": 18, \"pct_trips_competitive\": 1.0, \"bus_difference_spread\": 0.0, \"route_group\": \"medium\", \"max_trip_hrs\": 1.17, \"max_trip_route_group\": 1.17, \"below_cutoff\": 18, \"pct_below_cutoff\": 1.0, \"name\": \"Susanville Indian Rancheria\", \"caltrans_district\": \"02 - Redding\", \"drmt_organization_name\": null, \"route_name\": \"Regional - Red Bluff, Los Molinos, Gerber\", \"cutoff2\": 30, \"cutoff\": 0}, {\"calitp_itp_id\": 329, \"trip_key\": 6514282057861841955, \"trip_id\": \"t_311_b_486_tn_0\", \"shape_id\": \"p_2590\", \"route_id\": \"140\", \"service_hours\": 1.17, \"trip_first_departure_ts\": 22800, \"trip_last_arrival_ts\": 27000, \"departure_hour\": 6, \"time_of_day\": \"Owl Service\", \"p25\": 1.17, \"p50\": 1.17, \"p75\": 1.17, \"p50_trip\": 1, \"fastest_trip\": 0, \"car_duration_hours\": 0.74, \"competitive_route\": 1, \"bus_multiplier\": 1.58, \"bus_difference\": 25.8, \"num_trips\": 18, \"num_competitive\": 18, \"pct_trips_competitive\": 1.0, \"bus_difference_spread\": 0.0, \"route_group\": \"medium\", \"max_trip_hrs\": 1.17, \"max_trip_route_group\": 1.17, \"below_cutoff\": 18, \"pct_below_cutoff\": 1.0, \"name\": \"Susanville Indian Rancheria\", \"caltrans_district\": \"02 - Redding\", \"drmt_organization_name\": null, \"route_name\": \"Regional - Red Bluff, Los Molinos, Gerber\", \"cutoff2\": 30, \"cutoff\": 0}, {\"calitp_itp_id\": 329, \"trip_key\": 6719398106673501739, \"trip_id\": \"t_701155_b_486_tn_0\", \"shape_id\": \"p_2592\", \"route_id\": \"140\", \"service_hours\": 1.17, \"trip_first_departure_ts\": 63000, \"trip_last_arrival_ts\": 67200, \"departure_hour\": 17, \"time_of_day\": \"PM Peak\", \"p25\": 1.17, \"p50\": 1.17, \"p75\": 1.17, \"p50_trip\": 1, \"fastest_trip\": 1, \"car_duration_hours\": 0.74, \"competitive_route\": 1, \"bus_multiplier\": 1.58, \"bus_difference\": 25.8, \"num_trips\": 18, \"num_competitive\": 18, \"pct_trips_competitive\": 1.0, \"bus_difference_spread\": 0.0, \"route_group\": \"medium\", \"max_trip_hrs\": 1.17, \"max_trip_route_group\": 1.17, \"below_cutoff\": 18, \"pct_below_cutoff\": 1.0, \"name\": \"Susanville Indian Rancheria\", \"caltrans_district\": \"02 - Redding\", \"drmt_organization_name\": null, \"route_name\": \"Regional - Red Bluff, Los Molinos, Gerber\", \"cutoff2\": 30, \"cutoff\": 0}, {\"calitp_itp_id\": 329, \"trip_key\": 5922811996062735093, \"trip_id\": \"t_701148_b_486_tn_0\", \"shape_id\": \"p_2592\", \"route_id\": \"140\", \"service_hours\": 1.17, \"trip_first_departure_ts\": 30000, \"trip_last_arrival_ts\": 34200, \"departure_hour\": 8, \"time_of_day\": \"AM Peak\", \"p25\": 1.17, \"p50\": 1.17, \"p75\": 1.17, \"p50_trip\": 1, \"fastest_trip\": 0, \"car_duration_hours\": 0.74, \"competitive_route\": 1, \"bus_multiplier\": 1.58, \"bus_difference\": 25.8, \"num_trips\": 18, \"num_competitive\": 18, \"pct_trips_competitive\": 1.0, \"bus_difference_spread\": 0.0, \"route_group\": \"medium\", \"max_trip_hrs\": 1.17, \"max_trip_route_group\": 1.17, \"below_cutoff\": 18, \"pct_below_cutoff\": 1.0, \"name\": \"Susanville Indian Rancheria\", \"caltrans_district\": \"02 - Redding\", \"drmt_organization_name\": null, \"route_name\": \"Regional - Red Bluff, Los Molinos, Gerber\", \"cutoff2\": 30, \"cutoff\": 0}, {\"calitp_itp_id\": 329, \"trip_key\": 556136217499988690, \"trip_id\": \"t_701151_b_486_tn_0\", \"shape_id\": \"p_2592\", \"route_id\": \"140\", \"service_hours\": 1.17, \"trip_first_departure_ts\": 42600, \"trip_last_arrival_ts\": 46800, \"departure_hour\": 11, \"time_of_day\": \"Midday\", \"p25\": 1.17, \"p50\": 1.17, \"p75\": 1.17, \"p50_trip\": 1, \"fastest_trip\": 0, \"car_duration_hours\": 0.74, \"competitive_route\": 1, \"bus_multiplier\": 1.58, \"bus_difference\": 25.8, \"num_trips\": 18, \"num_competitive\": 18, \"pct_trips_competitive\": 1.0, \"bus_difference_spread\": 0.0, \"route_group\": \"medium\", \"max_trip_hrs\": 1.17, \"max_trip_route_group\": 1.17, \"below_cutoff\": 18, \"pct_below_cutoff\": 1.0, \"name\": \"Susanville Indian Rancheria\", \"caltrans_district\": \"02 - Redding\", \"drmt_organization_name\": null, \"route_name\": \"Regional - Red Bluff, Los Molinos, Gerber\", \"cutoff2\": 30, \"cutoff\": 0}, {\"calitp_itp_id\": 329, \"trip_key\": 9021601000075020373, \"trip_id\": \"t_701158_b_486_tn_0\", \"shape_id\": \"p_2590\", \"route_id\": \"140\", \"service_hours\": 1.17, \"trip_first_departure_ts\": 54000, \"trip_last_arrival_ts\": 58200, \"departure_hour\": 15, \"time_of_day\": \"Midday\", \"p25\": 1.17, \"p50\": 1.17, \"p75\": 1.17, \"p50_trip\": 1, \"fastest_trip\": 0, \"car_duration_hours\": 0.74, \"competitive_route\": 1, \"bus_multiplier\": 1.58, \"bus_difference\": 25.8, \"num_trips\": 18, \"num_competitive\": 18, \"pct_trips_competitive\": 1.0, \"bus_difference_spread\": 0.0, \"route_group\": \"medium\", \"max_trip_hrs\": 1.17, \"max_trip_route_group\": 1.17, \"below_cutoff\": 18, \"pct_below_cutoff\": 1.0, \"name\": \"Susanville Indian Rancheria\", \"caltrans_district\": \"02 - Redding\", \"drmt_organization_name\": null, \"route_name\": \"Regional - Red Bluff, Los Molinos, Gerber\", \"cutoff2\": 30, \"cutoff\": 0}, {\"calitp_itp_id\": 329, \"trip_key\": 7250065426467176317, \"trip_id\": \"t_52898_b_486_tn_0\", \"shape_id\": \"p_2590\", \"route_id\": \"140\", \"service_hours\": 1.17, \"trip_first_departure_ts\": 39600, \"trip_last_arrival_ts\": 43800, \"departure_hour\": 11, \"time_of_day\": \"Midday\", \"p25\": 1.17, \"p50\": 1.17, \"p75\": 1.17, \"p50_trip\": 1, \"fastest_trip\": 0, \"car_duration_hours\": 0.74, \"competitive_route\": 1, \"bus_multiplier\": 1.58, \"bus_difference\": 25.8, \"num_trips\": 18, \"num_competitive\": 18, \"pct_trips_competitive\": 1.0, \"bus_difference_spread\": 0.0, \"route_group\": \"medium\", \"max_trip_hrs\": 1.17, \"max_trip_route_group\": 1.17, \"below_cutoff\": 18, \"pct_below_cutoff\": 1.0, \"name\": \"Susanville Indian Rancheria\", \"caltrans_district\": \"02 - Redding\", \"drmt_organization_name\": null, \"route_name\": \"Regional - Red Bluff, Los Molinos, Gerber\", \"cutoff2\": 30, \"cutoff\": 0}, {\"calitp_itp_id\": 329, \"trip_key\": 6389470649396978753, \"trip_id\": \"t_701150_b_486_tn_0\", \"shape_id\": \"p_2592\", \"route_id\": \"140\", \"service_hours\": 1.17, \"trip_first_departure_ts\": 38400, \"trip_last_arrival_ts\": 42600, \"departure_hour\": 10, \"time_of_day\": \"Midday\", \"p25\": 1.17, \"p50\": 1.17, \"p75\": 1.17, \"p50_trip\": 1, \"fastest_trip\": 0, \"car_duration_hours\": 0.74, \"competitive_route\": 1, \"bus_multiplier\": 1.58, \"bus_difference\": 25.8, \"num_trips\": 18, \"num_competitive\": 18, \"pct_trips_competitive\": 1.0, \"bus_difference_spread\": 0.0, \"route_group\": \"medium\", \"max_trip_hrs\": 1.17, \"max_trip_route_group\": 1.17, \"below_cutoff\": 18, \"pct_below_cutoff\": 1.0, \"name\": \"Susanville Indian Rancheria\", \"caltrans_district\": \"02 - Redding\", \"drmt_organization_name\": null, \"route_name\": \"Regional - Red Bluff, Los Molinos, Gerber\", \"cutoff2\": 30, \"cutoff\": 0}]}}, {\"mode\": \"vega-lite\"});\n",
       "</script>"
      ],
      "text/plain": [
       "alt.FacetChart(...)"
      ]
     },
     "metadata": {},
     "output_type": "display_data"
    },
    {
     "data": {
      "text/html": [
       "<h4>Route Stats</h4>"
      ],
      "text/plain": [
       "<IPython.core.display.HTML object>"
      ]
     },
     "metadata": {},
     "output_type": "display_data"
    },
    {
     "data": {
      "text/html": [
       "<style type=\"text/css\">\n",
       "#T_5698f th {\n",
       "  text-align: center;\n",
       "}\n",
       "#T_5698f_row0_col0, #T_5698f_row0_col1 {\n",
       "  text-align: left;\n",
       "}\n",
       "#T_5698f_row0_col2, #T_5698f_row0_col3, #T_5698f_row0_col5 {\n",
       "  text-align: center;\n",
       "}\n",
       "</style>\n",
       "<table id=\"T_5698f\">\n",
       "  <thead>\n",
       "    <tr>\n",
       "      <th id=\"T_5698f_level0_col0\" class=\"col_heading level0 col0\" >Route ID</th>\n",
       "      <th id=\"T_5698f_level0_col1\" class=\"col_heading level0 col1\" >Route Name</th>\n",
       "      <th id=\"T_5698f_level0_col2\" class=\"col_heading level0 col2\" ># trips</th>\n",
       "      <th id=\"T_5698f_level0_col3\" class=\"col_heading level0 col3\" >Daily Avg Freq (trips per hr)</th>\n",
       "      <th id=\"T_5698f_level0_col4\" class=\"col_heading level0 col4\" >25th, 50th, 75th ptile (hrs)</th>\n",
       "      <th id=\"T_5698f_level0_col5\" class=\"col_heading level0 col5\" >PM Peak Avg Freq (trips per hr)</th>\n",
       "    </tr>\n",
       "  </thead>\n",
       "  <tbody>\n",
       "    <tr>\n",
       "      <td id=\"T_5698f_row0_col0\" class=\"data row0 col0\" >140</td>\n",
       "      <td id=\"T_5698f_row0_col1\" class=\"data row0 col1\" >Regional - Red Bluff, Los Molinos, Gerber</td>\n",
       "      <td id=\"T_5698f_row0_col2\" class=\"data row0 col2\" >18</td>\n",
       "      <td id=\"T_5698f_row0_col3\" class=\"data row0 col3\" >0.75</td>\n",
       "      <td id=\"T_5698f_row0_col4\" class=\"data row0 col4\" >1.17, 1.17, 1.17</td>\n",
       "      <td id=\"T_5698f_row0_col5\" class=\"data row0 col5\" >0.33</td>\n",
       "    </tr>\n",
       "  </tbody>\n",
       "</table>\n"
      ],
      "text/plain": [
       "<IPython.core.display.HTML object>"
      ]
     },
     "metadata": {},
     "output_type": "display_data"
    }
   ],
   "source": [
    "route_group = \"medium\"\n",
    "try:\n",
    "    display_charts_for_route_group(df, route_group)\n",
    "except:\n",
    "    print(\"No routes meet this criteria.\")"
   ]
  },
  {
   "cell_type": "markdown",
   "id": "124b76d0-886c-4d03-92ac-f1bda3cda182",
   "metadata": {
    "papermill": {
     "duration": 0.019161,
     "end_time": "2022-05-12T01:53:25.152378",
     "exception": false,
     "start_time": "2022-05-12T01:53:25.133217",
     "status": "completed"
    },
    "tags": []
   },
   "source": [
    "### Long Routes (> 1.5 hrs)"
   ]
  },
  {
   "cell_type": "code",
   "execution_count": 16,
   "id": "ddc81b19-4c45-4c81-8b7a-5e0f394aa7a3",
   "metadata": {
    "execution": {
     "iopub.execute_input": "2022-05-12T01:53:25.191473Z",
     "iopub.status.busy": "2022-05-12T01:53:25.191118Z",
     "iopub.status.idle": "2022-05-12T01:53:25.204366Z",
     "shell.execute_reply": "2022-05-12T01:53:25.203326Z"
    },
    "jupyter": {
     "source_hidden": true
    },
    "papermill": {
     "duration": 0.037033,
     "end_time": "2022-05-12T01:53:25.207384",
     "exception": false,
     "start_time": "2022-05-12T01:53:25.170351",
     "status": "completed"
    },
    "tags": [
     "remove_input"
    ]
   },
   "outputs": [
    {
     "name": "stdout",
     "output_type": "stream",
     "text": [
      "No routes meet this criteria.\n"
     ]
    }
   ],
   "source": [
    "route_group = \"long\"\n",
    "try:\n",
    "    display_charts_for_route_group(df, route_group)\n",
    "except:\n",
    "    print(\"No routes meet this criteria.\")"
   ]
  },
  {
   "cell_type": "markdown",
   "id": "ace75b5f-0442-4fbe-aebd-6c3a13ae13a7",
   "metadata": {
    "papermill": {
     "duration": 0.017479,
     "end_time": "2022-05-12T01:53:25.243308",
     "exception": false,
     "start_time": "2022-05-12T01:53:25.225829",
     "status": "completed"
    },
    "tags": []
   },
   "source": [
    "### GTFS Real-Time Speedmaps"
   ]
  },
  {
   "cell_type": "code",
   "execution_count": 17,
   "id": "a0a114a1-e975-4027-9daf-50029f5ef59f",
   "metadata": {
    "execution": {
     "iopub.execute_input": "2022-05-12T01:53:25.280042Z",
     "iopub.status.busy": "2022-05-12T01:53:25.279760Z",
     "iopub.status.idle": "2022-05-12T01:53:25.306240Z",
     "shell.execute_reply": "2022-05-12T01:53:25.305365Z"
    },
    "jupyter": {
     "source_hidden": true
    },
    "papermill": {
     "duration": 0.04648,
     "end_time": "2022-05-12T01:53:25.308113",
     "exception": false,
     "start_time": "2022-05-12T01:53:25.261633",
     "status": "completed"
    },
    "tags": [
     "remove_input"
    ]
   },
   "outputs": [
    {
     "data": {
      "text/html": [
       "No GTFS RT data available."
      ],
      "text/plain": [
       "<IPython.core.display.HTML object>"
      ]
     },
     "metadata": {},
     "output_type": "display_data"
    }
   ],
   "source": [
    "RT_SITE_YAML = \"../portfolio/sites/rt.yml\"\n",
    "\n",
    "# Grab list of ITP IDs with GTFS RT speedmaps\n",
    "rt_itp_id = deploy_portfolio_yaml.check_if_rt_data_available(RT_SITE_YAML)\n",
    "\n",
    "# Construct the URL \n",
    "RT_URL = (\"https://analysis.calitp.org/rt/\"\n",
    "          f\"district_{district_number}-{district_name}/\"\n",
    "          f\"speedmaps__itp_id_{itp_id}.html\"\n",
    "         ) \n",
    "\n",
    "# If this ITP ID is found in RT analysis, give URL to that operator in analysis.calitp.org\n",
    "if itp_id in rt_itp_id:\n",
    "    display(HTML(f'''<a href={RT_URL}>GTFS RT speedmaps here.</a>'''))\n",
    "\n",
    "else:\n",
    "    display(HTML(\"No GTFS RT data available.\"))"
   ]
  },
  {
   "cell_type": "code",
   "execution_count": null,
   "id": "5b680565-2230-4f2e-817c-718fad48d64c",
   "metadata": {
    "jupyter": {
     "source_hidden": true
    },
    "papermill": {
     "duration": 0.017711,
     "end_time": "2022-05-12T01:53:25.345040",
     "exception": false,
     "start_time": "2022-05-12T01:53:25.327329",
     "status": "completed"
    },
    "tags": [
     "remove_input"
    ]
   },
   "outputs": [],
   "source": []
  }
 ],
 "metadata": {
  "kernelspec": {
   "display_name": "Python 3 (ipykernel)",
   "language": "python",
   "name": "python3"
  },
  "language_info": {
   "codemirror_mode": {
    "name": "ipython",
    "version": 3
   },
   "file_extension": ".py",
   "mimetype": "text/x-python",
   "name": "python",
   "nbconvert_exporter": "python",
   "pygments_lexer": "ipython3",
   "version": "3.9.12"
  },
  "papermill": {
   "default_parameters": {},
   "duration": 24.107751,
   "end_time": "2022-05-12T01:53:26.699422",
   "environment_variables": {},
   "exception": null,
   "input_path": "bus_service_increase/competitive-parallel-routes.ipynb",
   "output_path": "portfolio/parallel_corridors/district_02-redding/4__competitive-parallel-routes__district_02-redding__itp_id_329.ipynb",
   "parameters": {
    "district": "02 - Redding",
    "itp_id": 329
   },
   "start_time": "2022-05-12T01:53:02.591671",
   "version": "2.3.4"
  }
 },
 "nbformat": 4,
 "nbformat_minor": 5
}