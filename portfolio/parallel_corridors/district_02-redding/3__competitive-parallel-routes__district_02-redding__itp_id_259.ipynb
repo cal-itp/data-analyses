{
 "cells": [
  {
   "cell_type": "code",
   "execution_count": 1,
   "id": "95d00857-6a20-4529-a519-2cc7182928a9",
   "metadata": {
    "execution": {
     "iopub.execute_input": "2022-05-11T21:48:15.518816Z",
     "iopub.status.busy": "2022-05-11T21:48:15.518239Z",
     "iopub.status.idle": "2022-05-11T21:48:24.621154Z",
     "shell.execute_reply": "2022-05-11T21:48:24.620450Z"
    },
    "jupyter": {
     "source_hidden": true
    },
    "papermill": {
     "duration": 9.11979,
     "end_time": "2022-05-11T21:48:24.623487",
     "exception": false,
     "start_time": "2022-05-11T21:48:15.503697",
     "status": "completed"
    },
    "tags": [
     "remove_input"
    ]
   },
   "outputs": [],
   "source": [
    "%%capture\n",
    "import warnings\n",
    "warnings.filterwarnings('ignore')\n",
    "\n",
    "import altair as alt\n",
    "import calitp.magics\n",
    "import geopandas as gpd\n",
    "import intake\n",
    "import pandas as pd\n",
    "\n",
    "from IPython.display import display, Markdown, HTML\n",
    "\n",
    "import parallel_corridors_utils\n",
    "import deploy_portfolio_yaml\n",
    "from shared_utils import styleguide, geography_utils\n",
    "from make_stripplot_data import diff_cutoffs\n",
    "\n",
    "catalog = intake.open_catalog(\"./*.yml\")\n",
    "alt.renderers.enable(\"html\")"
   ]
  },
  {
   "cell_type": "code",
   "execution_count": 2,
   "id": "8af2a0c1-f3da-408d-9bea-11d9fbf8695d",
   "metadata": {
    "execution": {
     "iopub.execute_input": "2022-05-11T21:48:24.649472Z",
     "iopub.status.busy": "2022-05-11T21:48:24.648995Z",
     "iopub.status.idle": "2022-05-11T21:48:24.652947Z",
     "shell.execute_reply": "2022-05-11T21:48:24.652180Z"
    },
    "jupyter": {
     "source_hidden": true
    },
    "papermill": {
     "duration": 0.019302,
     "end_time": "2022-05-11T21:48:24.654927",
     "exception": false,
     "start_time": "2022-05-11T21:48:24.635625",
     "status": "completed"
    },
    "tags": [
     "parameters",
     "remove_input"
    ]
   },
   "outputs": [],
   "source": [
    "# parameters cell\n",
    "itp_id = 182"
   ]
  },
  {
   "cell_type": "code",
   "execution_count": 3,
   "id": "351a99d2",
   "metadata": {
    "execution": {
     "iopub.execute_input": "2022-05-11T21:48:24.679976Z",
     "iopub.status.busy": "2022-05-11T21:48:24.679073Z",
     "iopub.status.idle": "2022-05-11T21:48:24.683164Z",
     "shell.execute_reply": "2022-05-11T21:48:24.682649Z"
    },
    "jupyter": {
     "source_hidden": true
    },
    "papermill": {
     "duration": 0.023393,
     "end_time": "2022-05-11T21:48:24.689666",
     "exception": false,
     "start_time": "2022-05-11T21:48:24.666273",
     "status": "completed"
    },
    "tags": [
     "injected-parameters",
     "remove_input"
    ]
   },
   "outputs": [],
   "source": [
    "# Parameters\n",
    "district = \"02 - Redding\"\n",
    "itp_id = 259\n"
   ]
  },
  {
   "cell_type": "code",
   "execution_count": 4,
   "id": "9582aaf4-79ff-412a-b248-8d8d693ebd4f",
   "metadata": {
    "execution": {
     "iopub.execute_input": "2022-05-11T21:48:24.715264Z",
     "iopub.status.busy": "2022-05-11T21:48:24.714345Z",
     "iopub.status.idle": "2022-05-11T21:48:26.043756Z",
     "shell.execute_reply": "2022-05-11T21:48:26.042597Z"
    },
    "jupyter": {
     "source_hidden": true
    },
    "papermill": {
     "duration": 1.345122,
     "end_time": "2022-05-11T21:48:26.046637",
     "exception": false,
     "start_time": "2022-05-11T21:48:24.701515",
     "status": "completed"
    },
    "tags": [
     "remove_input"
    ]
   },
   "outputs": [],
   "source": [
    "df = catalog.competitive_route_variability.read()\n",
    "\n",
    "df = (df[(df.calitp_itp_id == itp_id) & \n",
    "         (df.route_group.notna())]\n",
    "      .rename(columns = {\"route_name_used\": \"route_name\"})\n",
    "      .reset_index(drop=True)\n",
    "     )\n",
    "\n",
    "if itp_id == 182:\n",
    "    df = df.assign(\n",
    "        route_id = df.route_id.str.replace('-13153', '').astype(int)\n",
    "    )"
   ]
  },
  {
   "cell_type": "code",
   "execution_count": 5,
   "id": "33ac4b06-f647-4dce-a625-8f2c1b37cc60",
   "metadata": {
    "execution": {
     "iopub.execute_input": "2022-05-11T21:48:26.091888Z",
     "iopub.status.busy": "2022-05-11T21:48:26.091518Z",
     "iopub.status.idle": "2022-05-11T21:48:26.107507Z",
     "shell.execute_reply": "2022-05-11T21:48:26.102601Z"
    },
    "jupyter": {
     "source_hidden": true
    },
    "papermill": {
     "duration": 0.041065,
     "end_time": "2022-05-11T21:48:26.109889",
     "exception": false,
     "start_time": "2022-05-11T21:48:26.068824",
     "status": "completed"
    },
    "tags": [
     "remove_input"
    ]
   },
   "outputs": [],
   "source": [
    "%%capture_parameters\n",
    "operator_name = df.name.iloc[0]\n",
    "district_number = f\"{df.caltrans_district.iloc[0].split('-')[0].strip()}\"\n",
    "district_name = f\"{df.caltrans_district.iloc[0].split('-')[1].strip().lower().replace(' ', '-')}\"\n",
    "\n",
    "itp_id, operator_name, district_number, district_name"
   ]
  },
  {
   "cell_type": "markdown",
   "id": "65bc6f5c-8348-42ee-b2dd-52057c406852",
   "metadata": {
    "papermill": {
     "duration": 0.024134,
     "end_time": "2022-05-11T21:48:26.157535",
     "exception": false,
     "start_time": "2022-05-11T21:48:26.133401",
     "status": "completed"
    },
    "tags": []
   },
   "source": [
    "# Redding Area Bus Authority (ITP ID: 259)"
   ]
  },
  {
   "cell_type": "code",
   "execution_count": 6,
   "id": "a689c1ab-2c6c-4831-8d64-897f5986f571",
   "metadata": {
    "execution": {
     "iopub.execute_input": "2022-05-11T21:48:26.201361Z",
     "iopub.status.busy": "2022-05-11T21:48:26.200957Z",
     "iopub.status.idle": "2022-05-11T21:48:26.207725Z",
     "shell.execute_reply": "2022-05-11T21:48:26.206965Z"
    },
    "jupyter": {
     "source_hidden": true
    },
    "papermill": {
     "duration": 0.030708,
     "end_time": "2022-05-11T21:48:26.210231",
     "exception": false,
     "start_time": "2022-05-11T21:48:26.179523",
     "status": "completed"
    },
    "tags": [
     "remove_input"
    ]
   },
   "outputs": [
    {
     "data": {
      "text/html": [
       "<h1>Competitive & Parallel Routes</h1>"
      ],
      "text/plain": [
       "<IPython.core.display.HTML object>"
      ]
     },
     "metadata": {},
     "output_type": "display_data"
    }
   ],
   "source": [
    "display(HTML(\"<h1>Competitive & Parallel Routes</h1>\")) "
   ]
  },
  {
   "cell_type": "code",
   "execution_count": 7,
   "id": "2cb4d8d5-4760-40e4-85b1-cb833d8bb648",
   "metadata": {
    "execution": {
     "iopub.execute_input": "2022-05-11T21:48:26.263695Z",
     "iopub.status.busy": "2022-05-11T21:48:26.262875Z",
     "iopub.status.idle": "2022-05-11T21:48:36.723061Z",
     "shell.execute_reply": "2022-05-11T21:48:36.722443Z"
    },
    "jupyter": {
     "source_hidden": true
    },
    "papermill": {
     "duration": 10.493041,
     "end_time": "2022-05-11T21:48:36.725653",
     "exception": false,
     "start_time": "2022-05-11T21:48:26.232612",
     "status": "completed"
    },
    "tags": [
     "remove_input"
    ]
   },
   "outputs": [],
   "source": [
    "# Grab parameters for narrative text - clean up formatting here \n",
    "district = df.caltrans_district.iloc[0]\n",
    "formatted_date = pd.to_datetime(parallel_corridors_utils.SELECTED_DATE).strftime('%m-%d-%Y')\n",
    "\n",
    "PCT_COMPETITIVE_THRESHOLD = 0.75\n",
    "PCT_TRIPS_BELOW_CUTOFF = 0.50\n",
    "\n",
    "stats = parallel_corridors_utils.operator_parallel_competitive_stats(\n",
    "    itp_id, PCT_COMPETITIVE_THRESHOLD, PCT_TRIPS_BELOW_CUTOFF)\n",
    "\n",
    "pct_parallel = round(stats['parallel_routes'] / stats['num_routes'] * 100, 1 )\n",
    "pct_competitive =  round(stats['competitive_routes'] / stats['num_routes'] * 100, 1 )\n",
    "pct_viable =  round(stats['viable_competitive_routes'] / stats['num_routes'] * 100, 1 )"
   ]
  },
  {
   "cell_type": "code",
   "execution_count": 8,
   "id": "8bf30c8f-6aa5-47bb-82ae-a906732e81fd",
   "metadata": {
    "execution": {
     "iopub.execute_input": "2022-05-11T21:48:36.758935Z",
     "iopub.status.busy": "2022-05-11T21:48:36.758638Z",
     "iopub.status.idle": "2022-05-11T21:48:36.812611Z",
     "shell.execute_reply": "2022-05-11T21:48:36.811721Z"
    },
    "jupyter": {
     "source_hidden": true
    },
    "papermill": {
     "duration": 0.070666,
     "end_time": "2022-05-11T21:48:36.814853",
     "exception": false,
     "start_time": "2022-05-11T21:48:36.744187",
     "status": "completed"
    },
    "tags": [
     "remove_input"
    ]
   },
   "outputs": [],
   "source": [
    "# Display a table of route-level stats for each route_group\n",
    "# Displaying route_name makes chart too crowded\n",
    "\n",
    "# Get route stats (for entire df)\n",
    "route_stats = parallel_corridors_utils.competitive_route_level_stats(df)\n",
    "    \n",
    "def style_route_stats(df, top15_routes):\n",
    "    df = df[df.route_id.isin(top15_routes)]\n",
    "    \n",
    "    # Rename columns for display\n",
    "    rename_cols = {\n",
    "        \"route_id\": \"Route ID\",\n",
    "        \"route_name\": \"Route Name\",\n",
    "        \"route_group\": \"Route Group\",\n",
    "        \"num_trips\": \"# trips\",\n",
    "        \"daily_avg_freq\": \"Daily Avg Frequency (trips per hr)\",\n",
    "        \"pm_peak_freq\": \"PM Peak Avg Frequency (trips per hr)\",\n",
    "        \"percentiles\": \"25th, 50th, 75th ptile (hrs)\",\n",
    "    }\n",
    "    \n",
    "    # Style it\n",
    "    drop_cols = [\n",
    "        \"calitp_itp_id\", \"below_cutoff\", \"route_group\", \n",
    "        \"pct_trips_competitive\", \"pct_below_cutoff\",\n",
    "        \"p25\", \"p50\", \"p75\",\n",
    "    ]\n",
    "    \n",
    "    df_style = (df.sort_values(\n",
    "        [\"pct_trips_competitive\", \"below_cutoff\", \n",
    "        \"pct_below_cutoff\", \"route_id\"], \n",
    "        ascending=[False, False, False, True])\n",
    "           .drop(columns = drop_cols)\n",
    "           .rename(columns = rename_cols)\n",
    "           .style.format({\n",
    "               #'% trips within 2x car travel': '{:,.1%}', \n",
    "               'Daily Avg Frequency (trips per hr)': '{:,.3}',\n",
    "               'PM Peak Avg Frequency (trips per hr)': '{:,.3}',\n",
    "           })\n",
    "           .hide(axis=\"index\")\n",
    "           .to_html()\n",
    "          )\n",
    "    \n",
    "    display(HTML(\"<h4>Route Stats</h4>\"))\n",
    "    display(HTML(df_style))"
   ]
  },
  {
   "cell_type": "markdown",
   "id": "ab667928-5274-4490-82d9-4c39293209a4",
   "metadata": {
    "papermill": {
     "duration": 0.014211,
     "end_time": "2022-05-11T21:48:36.841913",
     "exception": false,
     "start_time": "2022-05-11T21:48:36.827702",
     "status": "completed"
    },
    "tags": []
   },
   "source": [
    "## Quick Stats"
   ]
  },
  {
   "cell_type": "code",
   "execution_count": 9,
   "id": "0416509d-dc62-4165-b62e-64f8b26e8b8e",
   "metadata": {
    "execution": {
     "iopub.execute_input": "2022-05-11T21:48:36.870388Z",
     "iopub.status.busy": "2022-05-11T21:48:36.870066Z",
     "iopub.status.idle": "2022-05-11T21:48:36.878497Z",
     "shell.execute_reply": "2022-05-11T21:48:36.877756Z"
    },
    "jupyter": {
     "source_hidden": true
    },
    "papermill": {
     "duration": 0.025288,
     "end_time": "2022-05-11T21:48:36.880275",
     "exception": false,
     "start_time": "2022-05-11T21:48:36.854987",
     "status": "completed"
    },
    "tags": [
     "remove_input"
    ]
   },
   "outputs": [
    {
     "data": {
      "text/markdown": [
       "**Bus routes in service: 15**<br>**Parallel routes** to State Highway Network (SHN): **13 routes (86.7%)**<br>**Competitive routes** against car travel (within 2x car travel time): **9 routes (60.0%)**<br>**Viable competitive routes** against car travel (within 2x car travel time and within 20, 30, or 40 min cut-off): **7 routes (46.7%)**"
      ],
      "text/plain": [
       "<IPython.core.display.Markdown object>"
      ]
     },
     "metadata": {},
     "output_type": "display_data"
    }
   ],
   "source": [
    "display(\n",
    "    Markdown(\n",
    "        f\"**Bus routes in service: {stats['num_routes']}**\"\n",
    "        \"<br>**Parallel routes** to State Highway Network (SHN): \"\n",
    "        f\"**{stats['parallel_routes']} routes ({pct_parallel}%)**\"\n",
    "        \"<br>**Competitive routes** against car travel (within 2x car travel time): \"\n",
    "        f\"**{stats['competitive_routes']} routes ({pct_competitive}%)**\"\n",
    "        \"<br>**Viable competitive routes** against car travel \"\n",
    "        \"(within 2x car travel time and within 20, 30, or 40 min cut-off): \"\n",
    "        f\"**{stats['viable_competitive_routes']} routes ({pct_viable}%)**\"\n",
    "    )\n",
    ")"
   ]
  },
  {
   "cell_type": "code",
   "execution_count": 10,
   "id": "f9d6ab58-f0ee-460c-b6de-657490e1f386",
   "metadata": {
    "execution": {
     "iopub.execute_input": "2022-05-11T21:48:36.916478Z",
     "iopub.status.busy": "2022-05-11T21:48:36.915602Z",
     "iopub.status.idle": "2022-05-11T21:48:36.922478Z",
     "shell.execute_reply": "2022-05-11T21:48:36.921933Z"
    },
    "jupyter": {
     "source_hidden": true
    },
    "papermill": {
     "duration": 0.026581,
     "end_time": "2022-05-11T21:48:36.924153",
     "exception": false,
     "start_time": "2022-05-11T21:48:36.897572",
     "status": "completed"
    },
    "tags": [
     "remove_input"
    ]
   },
   "outputs": [],
   "source": [
    "def set_yaxis_range(df, y_col):\n",
    "    Y_MIN = df[y_col].min()\n",
    "    Y_MAX = df[y_col].max()\n",
    "    \n",
    "    return Y_MIN, Y_MAX\n",
    "\n",
    "# Rather than set it according to the operator, which can vary,\n",
    "# just use set thresholds for each group\n",
    "def top15_routes(df, route_group):\n",
    "    # grab top 15 routes where majority of trips are below that cut-off \n",
    "    # but show 15 max, otherwise, show less, since these won't be as interesting to operators\n",
    "    df2 = (df[(df.route_group==route_group) &\n",
    "              (df.pct_below_cutoff >= PCT_TRIPS_BELOW_CUTOFF)]\n",
    "           .sort_values([\"calitp_itp_id\", \"below_cutoff\", \n",
    "                         \"pct_below_cutoff\", \"route_id\"],\n",
    "                        ascending = [True, False, False, True]\n",
    "                       )\n",
    "           .drop_duplicates(subset=[\"calitp_itp_id\", \"route_id\"])\n",
    "          ).head(15)\n",
    "    \n",
    "    return list(df2.route_id)"
   ]
  },
  {
   "cell_type": "code",
   "execution_count": 11,
   "id": "cf36d559-3349-4144-8086-8ac9ce937a5a",
   "metadata": {
    "execution": {
     "iopub.execute_input": "2022-05-11T21:48:36.952563Z",
     "iopub.status.busy": "2022-05-11T21:48:36.951714Z",
     "iopub.status.idle": "2022-05-11T21:48:36.957607Z",
     "shell.execute_reply": "2022-05-11T21:48:36.957076Z"
    },
    "jupyter": {
     "source_hidden": true
    },
    "papermill": {
     "duration": 0.022164,
     "end_time": "2022-05-11T21:48:36.959224",
     "exception": false,
     "start_time": "2022-05-11T21:48:36.937060",
     "status": "completed"
    },
    "tags": [
     "remove_input"
    ]
   },
   "outputs": [],
   "source": [
    "def caption_with_cutoff(cutoff):\n",
    "    sentence = (\n",
    "        f\"<br>These are routes that have **at least {int(PCT_TRIPS_BELOW_CUTOFF*100)}% \"\n",
    "        \"of their trips take no more than an \"\n",
    "        f\"additional {cutoff} min** compared to a car \"\n",
    "        \"(up to 15 routes) are shown.\"\n",
    "        \"<br>Within each route group, routes are sorted in descending order \"\n",
    "        \"by % competitive trips and # trips below the additional time cut-off.\"\n",
    "    )\n",
    "    return sentence\n",
    "\n",
    "CAPTIONS_DICT = {\n",
    "    \"short\": caption_with_cutoff(diff_cutoffs['short']),\n",
    "    \"medium\": caption_with_cutoff(diff_cutoffs['medium']),\n",
    "    \"long\": caption_with_cutoff(diff_cutoffs['long']),\n",
    "}"
   ]
  },
  {
   "cell_type": "code",
   "execution_count": 12,
   "id": "e4306d58-6944-47e9-afef-5d5b524c751f",
   "metadata": {
    "execution": {
     "iopub.execute_input": "2022-05-11T21:48:36.991163Z",
     "iopub.status.busy": "2022-05-11T21:48:36.990215Z",
     "iopub.status.idle": "2022-05-11T21:48:36.998003Z",
     "shell.execute_reply": "2022-05-11T21:48:36.997480Z"
    },
    "jupyter": {
     "source_hidden": true
    },
    "papermill": {
     "duration": 0.026327,
     "end_time": "2022-05-11T21:48:36.999784",
     "exception": false,
     "start_time": "2022-05-11T21:48:36.973457",
     "status": "completed"
    },
    "tags": [
     "remove_input"
    ]
   },
   "outputs": [],
   "source": [
    "def setup_charts(df, PCT_COMPETITIVE_THRESHOLD, route_group):\n",
    "    # Set up df for charting (cut-off at some threshold to show most competitive routes)\n",
    "    plot_me = (df[df.pct_trips_competitive > PCT_COMPETITIVE_THRESHOLD]\n",
    "           .drop(columns = \"geometry\")\n",
    "    )\n",
    "    \n",
    "    # Set y-ranges to be the same across route_groups, \n",
    "    # otherwise charts fluctuate too much, even within operator\n",
    "    y_col1 = \"bus_multiplier\"\n",
    "    Y_MIN1, Y_MAX1 = set_yaxis_range(plot_me, y_col1)\n",
    "\n",
    "    y_col2 = \"bus_difference\"\n",
    "    Y_MIN2, Y_MAX2 = set_yaxis_range(plot_me, y_col2)\n",
    "    \n",
    "    # Grab the routes to plot\n",
    "    subset_routes = top15_routes(plot_me, route_group)\n",
    "        \n",
    "    # Display charts\n",
    "    multiplier_chart = parallel_corridors_utils.make_stripplot(\n",
    "        plot_me[plot_me.route_id.isin(subset_routes)], \n",
    "        y_col1, Y_MIN = Y_MIN1, Y_MAX = Y_MAX1\n",
    "    )\n",
    "    \n",
    "    difference_chart = parallel_corridors_utils.make_stripplot(\n",
    "        plot_me[plot_me.route_id.isin(subset_routes)], \n",
    "        y_col2, Y_MIN = Y_MIN2, Y_MAX = Y_MAX2\n",
    "    )\n",
    "    \n",
    "    return subset_routes, multiplier_chart, difference_chart            "
   ]
  },
  {
   "cell_type": "code",
   "execution_count": 13,
   "id": "33a710e8-504c-4942-aa75-ff69f216956e",
   "metadata": {
    "execution": {
     "iopub.execute_input": "2022-05-11T21:48:37.028903Z",
     "iopub.status.busy": "2022-05-11T21:48:37.028243Z",
     "iopub.status.idle": "2022-05-11T21:48:37.033871Z",
     "shell.execute_reply": "2022-05-11T21:48:37.033354Z"
    },
    "jupyter": {
     "source_hidden": true
    },
    "papermill": {
     "duration": 0.022312,
     "end_time": "2022-05-11T21:48:37.035577",
     "exception": false,
     "start_time": "2022-05-11T21:48:37.013265",
     "status": "completed"
    },
    "tags": [
     "remove_input"
    ]
   },
   "outputs": [],
   "source": [
    "def display_charts_for_route_group(df, route_group):    \n",
    "    subset_routes, mult, diff  = setup_charts(df, PCT_COMPETITIVE_THRESHOLD, route_group)\n",
    "\n",
    "    if len(subset_routes) > 0:\n",
    "        display(Markdown(f\"{CAPTIONS_DICT[route_group]}\"))\n",
    "\n",
    "        display(mult)\n",
    "        display(diff)\n",
    "        \n",
    "        # Display route stats for just plotted routes\n",
    "        style_route_stats(route_stats, subset_routes)"
   ]
  },
  {
   "cell_type": "markdown",
   "id": "525f9b38-072b-46d1-96a8-1aa4b038357c",
   "metadata": {
    "papermill": {
     "duration": 0.015882,
     "end_time": "2022-05-11T21:48:37.065105",
     "exception": false,
     "start_time": "2022-05-11T21:48:37.049223",
     "status": "completed"
    },
    "tags": []
   },
   "source": [
    "## Viable Competitive Routes\n",
    "### Short Routes (< 1 hr)"
   ]
  },
  {
   "cell_type": "code",
   "execution_count": 14,
   "id": "57f7084c-2cf7-45c6-ba08-1609e0bd6ca5",
   "metadata": {
    "execution": {
     "iopub.execute_input": "2022-05-11T21:48:37.101516Z",
     "iopub.status.busy": "2022-05-11T21:48:37.100360Z",
     "iopub.status.idle": "2022-05-11T21:48:37.431504Z",
     "shell.execute_reply": "2022-05-11T21:48:37.430608Z"
    },
    "jupyter": {
     "source_hidden": true
    },
    "papermill": {
     "duration": 0.353868,
     "end_time": "2022-05-11T21:48:37.433693",
     "exception": false,
     "start_time": "2022-05-11T21:48:37.079825",
     "status": "completed"
    },
    "tags": [
     "remove_input"
    ]
   },
   "outputs": [
    {
     "data": {
      "text/markdown": [
       "<br>These are routes that have **at least 50% of their trips take no more than an additional 20 min** compared to a car (up to 15 routes) are shown.<br>Within each route group, routes are sorted in descending order by % competitive trips and # trips below the additional time cut-off."
      ],
      "text/plain": [
       "<IPython.core.display.Markdown object>"
      ]
     },
     "metadata": {},
     "output_type": "display_data"
    },
    {
     "data": {
      "text/html": [
       "\n",
       "<div id=\"altair-viz-e552fb031f0042ad9b65bada80d96294\"></div>\n",
       "<script type=\"text/javascript\">\n",
       "  var VEGA_DEBUG = (typeof VEGA_DEBUG == \"undefined\") ? {} : VEGA_DEBUG;\n",
       "  (function(spec, embedOpt){\n",
       "    let outputDiv = document.currentScript.previousElementSibling;\n",
       "    if (outputDiv.id !== \"altair-viz-e552fb031f0042ad9b65bada80d96294\") {\n",
       "      outputDiv = document.getElementById(\"altair-viz-e552fb031f0042ad9b65bada80d96294\");\n",
       "    }\n",
       "    const paths = {\n",
       "      \"vega\": \"https://cdn.jsdelivr.net/npm//vega@5?noext\",\n",
       "      \"vega-lib\": \"https://cdn.jsdelivr.net/npm//vega-lib?noext\",\n",
       "      \"vega-lite\": \"https://cdn.jsdelivr.net/npm//vega-lite@4.17.0?noext\",\n",
       "      \"vega-embed\": \"https://cdn.jsdelivr.net/npm//vega-embed@6?noext\",\n",
       "    };\n",
       "\n",
       "    function maybeLoadScript(lib, version) {\n",
       "      var key = `${lib.replace(\"-\", \"\")}_version`;\n",
       "      return (VEGA_DEBUG[key] == version) ?\n",
       "        Promise.resolve(paths[lib]) :\n",
       "        new Promise(function(resolve, reject) {\n",
       "          var s = document.createElement('script');\n",
       "          document.getElementsByTagName(\"head\")[0].appendChild(s);\n",
       "          s.async = true;\n",
       "          s.onload = () => {\n",
       "            VEGA_DEBUG[key] = version;\n",
       "            return resolve(paths[lib]);\n",
       "          };\n",
       "          s.onerror = () => reject(`Error loading script: ${paths[lib]}`);\n",
       "          s.src = paths[lib];\n",
       "        });\n",
       "    }\n",
       "\n",
       "    function showError(err) {\n",
       "      outputDiv.innerHTML = `<div class=\"error\" style=\"color:red;\">${err}</div>`;\n",
       "      throw err;\n",
       "    }\n",
       "\n",
       "    function displayChart(vegaEmbed) {\n",
       "      vegaEmbed(outputDiv, spec, embedOpt)\n",
       "        .catch(err => showError(`Javascript Error: ${err.message}<br>This usually means there's a typo in your chart specification. See the javascript console for the full traceback.`));\n",
       "    }\n",
       "\n",
       "    if(typeof define === \"function\" && define.amd) {\n",
       "      requirejs.config({paths});\n",
       "      require([\"vega-embed\"], displayChart, err => showError(`Error loading script: ${err.message}`));\n",
       "    } else {\n",
       "      maybeLoadScript(\"vega\", \"5\")\n",
       "        .then(() => maybeLoadScript(\"vega-lite\", \"4.17.0\"))\n",
       "        .then(() => maybeLoadScript(\"vega-embed\", \"6\"))\n",
       "        .catch(showError)\n",
       "        .then(() => displayChart(vegaEmbed));\n",
       "    }\n",
       "  })({\"config\": {\"view\": {\"continuousWidth\": 400, \"continuousHeight\": 300, \"stroke\": null}, \"facet\": {\"spacing\": 0}}, \"data\": {\"name\": \"data-f72c0d3fe399a57c5f0f6d2ccb966ef6\"}, \"facet\": {\"column\": {\"field\": \"route_id\", \"sort\": [\"153\", \"154\", \"6446\", \"151\", \"1886\", \"1887\"], \"title\": \"Route ID\", \"type\": \"nominal\"}}, \"spec\": {\"layer\": [{\"mark\": \"rule\", \"encoding\": {\"color\": {\"value\": \"black\"}, \"y\": {\"field\": \"cutoff\", \"type\": \"quantitative\"}}, \"selection\": {\"selector001\": {\"type\": \"interval\", \"bind\": \"scales\", \"encodings\": [\"x\", \"y\"]}}}, {\"mark\": {\"type\": \"point\", \"opacity\": 0.65, \"size\": 12, \"strokeWidth\": 1.1}, \"encoding\": {\"color\": {\"field\": \"time_of_day\", \"scale\": {\"range\": [\"#136C97\", \"#E16B26\", \"#F6BF16\", \"#00896B\", \"#7790A3\", \"#5B559C\"]}, \"sort\": [\"AM Peak\", \"Midday\", \"PM Peak\", \"Owl Service\"], \"title\": \"Time of Day\", \"type\": \"nominal\"}, \"tooltip\": [{\"field\": \"route_id\", \"type\": \"nominal\"}, {\"field\": \"route_name\", \"type\": \"nominal\"}, {\"field\": \"trip_id\", \"type\": \"nominal\"}, {\"field\": \"service_hours\", \"type\": \"quantitative\"}, {\"field\": \"car_duration_hours\", \"type\": \"quantitative\"}, {\"field\": \"bus_multiplier\", \"type\": \"quantitative\"}, {\"field\": \"bus_difference\", \"type\": \"quantitative\"}, {\"field\": \"num_trips\", \"type\": \"quantitative\"}, {\"field\": \"num_competitive\", \"type\": \"quantitative\"}, {\"field\": \"pct_trips_competitive\", \"type\": \"quantitative\"}, {\"field\": \"p25\", \"type\": \"quantitative\"}, {\"field\": \"p50\", \"type\": \"quantitative\"}, {\"field\": \"p75\", \"type\": \"quantitative\"}], \"x\": {\"axis\": {\"grid\": false, \"labels\": false, \"ticks\": true, \"values\": [0]}, \"field\": \"jitter\", \"scale\": {}, \"title\": null, \"type\": \"quantitative\"}, \"y\": {\"field\": \"bus_multiplier\", \"scale\": {\"domain\": [-0.25, 3.0]}, \"title\": \"Ratio of Bus to Car Travel Time\", \"type\": \"quantitative\"}}, \"transform\": [{\"calculate\": \"sqrt(-2*log(random()))*cos(2*PI*random())\", \"as\": \"jitter\"}], \"width\": 50}, {\"layer\": [{\"mark\": {\"type\": \"point\", \"opacity\": 0.6, \"size\": 20, \"strokeWidth\": 1.3}, \"encoding\": {\"color\": {\"value\": \"#323434\"}, \"y\": {\"field\": \"bus_multiplier\", \"type\": \"quantitative\"}}, \"transform\": [{\"filter\": \"(datum.p50_trip === 1)\"}]}, {\"mark\": {\"type\": \"text\", \"align\": \"center\", \"baseline\": \"middle\"}, \"encoding\": {\"color\": {\"value\": \"black\"}, \"text\": {\"field\": \"pct_trips_competitive\", \"format\": \".0%\", \"type\": \"quantitative\"}, \"tooltip\": [{\"field\": \"route_id\", \"type\": \"nominal\"}, {\"field\": \"route_name\", \"type\": \"nominal\"}, {\"field\": \"trip_id\", \"type\": \"nominal\"}, {\"field\": \"service_hours\", \"type\": \"quantitative\"}, {\"field\": \"car_duration_hours\", \"type\": \"quantitative\"}, {\"field\": \"bus_multiplier\", \"type\": \"quantitative\"}, {\"field\": \"bus_difference\", \"type\": \"quantitative\"}, {\"field\": \"num_trips\", \"type\": \"quantitative\"}, {\"field\": \"num_competitive\", \"type\": \"quantitative\"}, {\"field\": \"pct_trips_competitive\", \"type\": \"quantitative\"}, {\"field\": \"p25\", \"type\": \"quantitative\"}, {\"field\": \"p50\", \"type\": \"quantitative\"}, {\"field\": \"p75\", \"type\": \"quantitative\"}], \"x\": {\"value\": 30}, \"y\": {\"value\": 15}}, \"transform\": [{\"calculate\": \"sqrt(-2*log(random()))*cos(2*PI*random())\", \"as\": \"jitter\"}, {\"filter\": \"(datum.fastest_trip === 1)\"}]}]}]}, \"resolve\": {\"scale\": {\"y\": \"shared\"}}, \"title\": \"Ratio of Bus to Car Travel Time\", \"$schema\": \"https://vega.github.io/schema/vega-lite/v4.17.0.json\", \"datasets\": {\"data-f72c0d3fe399a57c5f0f6d2ccb966ef6\": [{\"calitp_itp_id\": 259, \"trip_key\": -348337041592176812, \"trip_id\": \"t_1194071_b_18260_tn_4\", \"shape_id\": \"p_899986\", \"route_id\": \"151\", \"service_hours\": 0.92, \"trip_first_departure_ts\": 30900, \"trip_last_arrival_ts\": 34200, \"departure_hour\": 8, \"time_of_day\": \"AM Peak\", \"p25\": 0.92, \"p50\": 0.92, \"p75\": 0.92, \"p50_trip\": 1, \"fastest_trip\": 0, \"car_duration_hours\": 0.8, \"competitive_route\": 1, \"bus_multiplier\": 1.15, \"bus_difference\": 7.2, \"num_trips\": 14, \"num_competitive\": 14, \"pct_trips_competitive\": 1.0, \"bus_difference_spread\": 0.0, \"route_group\": \"short\", \"max_trip_hrs\": 0.92, \"max_trip_route_group\": 0.92, \"below_cutoff\": 14, \"pct_below_cutoff\": 1.0, \"name\": \"Redding Area Bus Authority\", \"caltrans_district\": \"02 - Redding\", \"drmt_organization_name\": null, \"route_name\": null, \"cutoff2\": 20, \"cutoff\": 2}, {\"calitp_itp_id\": 259, \"trip_key\": -1493525340932898680, \"trip_id\": \"t_1194071_b_18260_tn_12\", \"shape_id\": \"p_899986\", \"route_id\": \"151\", \"service_hours\": 0.92, \"trip_first_departure_ts\": 59700, \"trip_last_arrival_ts\": 63000, \"departure_hour\": 16, \"time_of_day\": \"Midday\", \"p25\": 0.92, \"p50\": 0.92, \"p75\": 0.92, \"p50_trip\": 1, \"fastest_trip\": 0, \"car_duration_hours\": 0.8, \"competitive_route\": 1, \"bus_multiplier\": 1.15, \"bus_difference\": 7.2, \"num_trips\": 14, \"num_competitive\": 14, \"pct_trips_competitive\": 1.0, \"bus_difference_spread\": 0.0, \"route_group\": \"short\", \"max_trip_hrs\": 0.92, \"max_trip_route_group\": 0.92, \"below_cutoff\": 14, \"pct_below_cutoff\": 1.0, \"name\": \"Redding Area Bus Authority\", \"caltrans_district\": \"02 - Redding\", \"drmt_organization_name\": null, \"route_name\": null, \"cutoff2\": 20, \"cutoff\": 2}, {\"calitp_itp_id\": 259, \"trip_key\": -2509421700888172248, \"trip_id\": \"t_1194071_b_18260_tn_2\", \"shape_id\": \"p_899986\", \"route_id\": \"151\", \"service_hours\": 0.92, \"trip_first_departure_ts\": 23700, \"trip_last_arrival_ts\": 27000, \"departure_hour\": 6, \"time_of_day\": \"Owl Service\", \"p25\": 0.92, \"p50\": 0.92, \"p75\": 0.92, \"p50_trip\": 1, \"fastest_trip\": 0, \"car_duration_hours\": 0.8, \"competitive_route\": 1, \"bus_multiplier\": 1.15, \"bus_difference\": 7.2, \"num_trips\": 14, \"num_competitive\": 14, \"pct_trips_competitive\": 1.0, \"bus_difference_spread\": 0.0, \"route_group\": \"short\", \"max_trip_hrs\": 0.92, \"max_trip_route_group\": 0.92, \"below_cutoff\": 14, \"pct_below_cutoff\": 1.0, \"name\": \"Redding Area Bus Authority\", \"caltrans_district\": \"02 - Redding\", \"drmt_organization_name\": null, \"route_name\": null, \"cutoff2\": 20, \"cutoff\": 2}, {\"calitp_itp_id\": 259, \"trip_key\": 1167118404055441790, \"trip_id\": \"t_1194071_b_18260_tn_14\", \"shape_id\": \"p_899986\", \"route_id\": \"151\", \"service_hours\": 0.92, \"trip_first_departure_ts\": 66900, \"trip_last_arrival_ts\": 70200, \"departure_hour\": 18, \"time_of_day\": \"PM Peak\", \"p25\": 0.92, \"p50\": 0.92, \"p75\": 0.92, \"p50_trip\": 1, \"fastest_trip\": 1, \"car_duration_hours\": 0.8, \"competitive_route\": 1, \"bus_multiplier\": 1.15, \"bus_difference\": 7.2, \"num_trips\": 14, \"num_competitive\": 14, \"pct_trips_competitive\": 1.0, \"bus_difference_spread\": 0.0, \"route_group\": \"short\", \"max_trip_hrs\": 0.92, \"max_trip_route_group\": 0.92, \"below_cutoff\": 14, \"pct_below_cutoff\": 1.0, \"name\": \"Redding Area Bus Authority\", \"caltrans_district\": \"02 - Redding\", \"drmt_organization_name\": null, \"route_name\": null, \"cutoff2\": 20, \"cutoff\": 2}, {\"calitp_itp_id\": 259, \"trip_key\": 3584461360275097165, \"trip_id\": \"t_1194071_b_18260_tn_8\", \"shape_id\": \"p_899986\", \"route_id\": \"151\", \"service_hours\": 0.92, \"trip_first_departure_ts\": 45300, \"trip_last_arrival_ts\": 48600, \"departure_hour\": 12, \"time_of_day\": \"Midday\", \"p25\": 0.92, \"p50\": 0.92, \"p75\": 0.92, \"p50_trip\": 1, \"fastest_trip\": 0, \"car_duration_hours\": 0.8, \"competitive_route\": 1, \"bus_multiplier\": 1.15, \"bus_difference\": 7.2, \"num_trips\": 14, \"num_competitive\": 14, \"pct_trips_competitive\": 1.0, \"bus_difference_spread\": 0.0, \"route_group\": \"short\", \"max_trip_hrs\": 0.92, \"max_trip_route_group\": 0.92, \"below_cutoff\": 14, \"pct_below_cutoff\": 1.0, \"name\": \"Redding Area Bus Authority\", \"caltrans_district\": \"02 - Redding\", \"drmt_organization_name\": null, \"route_name\": null, \"cutoff2\": 20, \"cutoff\": 2}, {\"calitp_itp_id\": 259, \"trip_key\": 1040832347224355868, \"trip_id\": \"t_1194071_b_18260_tn_11\", \"shape_id\": \"p_899986\", \"route_id\": \"151\", \"service_hours\": 0.92, \"trip_first_departure_ts\": 56100, \"trip_last_arrival_ts\": 59400, \"departure_hour\": 15, \"time_of_day\": \"Midday\", \"p25\": 0.92, \"p50\": 0.92, \"p75\": 0.92, \"p50_trip\": 1, \"fastest_trip\": 0, \"car_duration_hours\": 0.8, \"competitive_route\": 1, \"bus_multiplier\": 1.15, \"bus_difference\": 7.2, \"num_trips\": 14, \"num_competitive\": 14, \"pct_trips_competitive\": 1.0, \"bus_difference_spread\": 0.0, \"route_group\": \"short\", \"max_trip_hrs\": 0.92, \"max_trip_route_group\": 0.92, \"below_cutoff\": 14, \"pct_below_cutoff\": 1.0, \"name\": \"Redding Area Bus Authority\", \"caltrans_district\": \"02 - Redding\", \"drmt_organization_name\": null, \"route_name\": null, \"cutoff2\": 20, \"cutoff\": 2}, {\"calitp_itp_id\": 259, \"trip_key\": 6487923043704637006, \"trip_id\": \"t_1194071_b_18260_tn_6\", \"shape_id\": \"p_899986\", \"route_id\": \"151\", \"service_hours\": 0.92, \"trip_first_departure_ts\": 38100, \"trip_last_arrival_ts\": 41400, \"departure_hour\": 10, \"time_of_day\": \"Midday\", \"p25\": 0.92, \"p50\": 0.92, \"p75\": 0.92, \"p50_trip\": 1, \"fastest_trip\": 0, \"car_duration_hours\": 0.8, \"competitive_route\": 1, \"bus_multiplier\": 1.15, \"bus_difference\": 7.2, \"num_trips\": 14, \"num_competitive\": 14, \"pct_trips_competitive\": 1.0, \"bus_difference_spread\": 0.0, \"route_group\": \"short\", \"max_trip_hrs\": 0.92, \"max_trip_route_group\": 0.92, \"below_cutoff\": 14, \"pct_below_cutoff\": 1.0, \"name\": \"Redding Area Bus Authority\", \"caltrans_district\": \"02 - Redding\", \"drmt_organization_name\": null, \"route_name\": null, \"cutoff2\": 20, \"cutoff\": 2}, {\"calitp_itp_id\": 259, \"trip_key\": 4610028488193831227, \"trip_id\": \"t_1194071_b_18260_tn_7\", \"shape_id\": \"p_899986\", \"route_id\": \"151\", \"service_hours\": 0.92, \"trip_first_departure_ts\": 41700, \"trip_last_arrival_ts\": 45000, \"departure_hour\": 11, \"time_of_day\": \"Midday\", \"p25\": 0.92, \"p50\": 0.92, \"p75\": 0.92, \"p50_trip\": 1, \"fastest_trip\": 0, \"car_duration_hours\": 0.8, \"competitive_route\": 1, \"bus_multiplier\": 1.15, \"bus_difference\": 7.2, \"num_trips\": 14, \"num_competitive\": 14, \"pct_trips_competitive\": 1.0, \"bus_difference_spread\": 0.0, \"route_group\": \"short\", \"max_trip_hrs\": 0.92, \"max_trip_route_group\": 0.92, \"below_cutoff\": 14, \"pct_below_cutoff\": 1.0, \"name\": \"Redding Area Bus Authority\", \"caltrans_district\": \"02 - Redding\", \"drmt_organization_name\": null, \"route_name\": null, \"cutoff2\": 20, \"cutoff\": 2}, {\"calitp_itp_id\": 259, \"trip_key\": -2850211937865214703, \"trip_id\": \"t_1194071_b_18260_tn_13\", \"shape_id\": \"p_899986\", \"route_id\": \"151\", \"service_hours\": 0.92, \"trip_first_departure_ts\": 63300, \"trip_last_arrival_ts\": 66600, \"departure_hour\": 17, \"time_of_day\": \"PM Peak\", \"p25\": 0.92, \"p50\": 0.92, \"p75\": 0.92, \"p50_trip\": 1, \"fastest_trip\": 0, \"car_duration_hours\": 0.8, \"competitive_route\": 1, \"bus_multiplier\": 1.15, \"bus_difference\": 7.2, \"num_trips\": 14, \"num_competitive\": 14, \"pct_trips_competitive\": 1.0, \"bus_difference_spread\": 0.0, \"route_group\": \"short\", \"max_trip_hrs\": 0.92, \"max_trip_route_group\": 0.92, \"below_cutoff\": 14, \"pct_below_cutoff\": 1.0, \"name\": \"Redding Area Bus Authority\", \"caltrans_district\": \"02 - Redding\", \"drmt_organization_name\": null, \"route_name\": null, \"cutoff2\": 20, \"cutoff\": 2}, {\"calitp_itp_id\": 259, \"trip_key\": 36399583829333355, \"trip_id\": \"t_1194071_b_18260_tn_9\", \"shape_id\": \"p_899986\", \"route_id\": \"151\", \"service_hours\": 0.92, \"trip_first_departure_ts\": 48900, \"trip_last_arrival_ts\": 52200, \"departure_hour\": 13, \"time_of_day\": \"Midday\", \"p25\": 0.92, \"p50\": 0.92, \"p75\": 0.92, \"p50_trip\": 1, \"fastest_trip\": 0, \"car_duration_hours\": 0.8, \"competitive_route\": 1, \"bus_multiplier\": 1.15, \"bus_difference\": 7.2, \"num_trips\": 14, \"num_competitive\": 14, \"pct_trips_competitive\": 1.0, \"bus_difference_spread\": 0.0, \"route_group\": \"short\", \"max_trip_hrs\": 0.92, \"max_trip_route_group\": 0.92, \"below_cutoff\": 14, \"pct_below_cutoff\": 1.0, \"name\": \"Redding Area Bus Authority\", \"caltrans_district\": \"02 - Redding\", \"drmt_organization_name\": null, \"route_name\": null, \"cutoff2\": 20, \"cutoff\": 2}, {\"calitp_itp_id\": 259, \"trip_key\": -992961000138266155, \"trip_id\": \"t_1194071_b_18260_tn_3\", \"shape_id\": \"p_899986\", \"route_id\": \"151\", \"service_hours\": 0.92, \"trip_first_departure_ts\": 27300, \"trip_last_arrival_ts\": 30600, \"departure_hour\": 7, \"time_of_day\": \"AM Peak\", \"p25\": 0.92, \"p50\": 0.92, \"p75\": 0.92, \"p50_trip\": 1, \"fastest_trip\": 0, \"car_duration_hours\": 0.8, \"competitive_route\": 1, \"bus_multiplier\": 1.15, \"bus_difference\": 7.2, \"num_trips\": 14, \"num_competitive\": 14, \"pct_trips_competitive\": 1.0, \"bus_difference_spread\": 0.0, \"route_group\": \"short\", \"max_trip_hrs\": 0.92, \"max_trip_route_group\": 0.92, \"below_cutoff\": 14, \"pct_below_cutoff\": 1.0, \"name\": \"Redding Area Bus Authority\", \"caltrans_district\": \"02 - Redding\", \"drmt_organization_name\": null, \"route_name\": null, \"cutoff2\": 20, \"cutoff\": 2}, {\"calitp_itp_id\": 259, \"trip_key\": 6566077687549907619, \"trip_id\": \"t_1194071_b_18260_tn_10\", \"shape_id\": \"p_899986\", \"route_id\": \"151\", \"service_hours\": 0.92, \"trip_first_departure_ts\": 52500, \"trip_last_arrival_ts\": 55800, \"departure_hour\": 14, \"time_of_day\": \"Midday\", \"p25\": 0.92, \"p50\": 0.92, \"p75\": 0.92, \"p50_trip\": 1, \"fastest_trip\": 0, \"car_duration_hours\": 0.8, \"competitive_route\": 1, \"bus_multiplier\": 1.15, \"bus_difference\": 7.2, \"num_trips\": 14, \"num_competitive\": 14, \"pct_trips_competitive\": 1.0, \"bus_difference_spread\": 0.0, \"route_group\": \"short\", \"max_trip_hrs\": 0.92, \"max_trip_route_group\": 0.92, \"below_cutoff\": 14, \"pct_below_cutoff\": 1.0, \"name\": \"Redding Area Bus Authority\", \"caltrans_district\": \"02 - Redding\", \"drmt_organization_name\": null, \"route_name\": null, \"cutoff2\": 20, \"cutoff\": 2}, {\"calitp_itp_id\": 259, \"trip_key\": -3360145974651522833, \"trip_id\": \"t_1194071_b_18260_tn_5\", \"shape_id\": \"p_899986\", \"route_id\": \"151\", \"service_hours\": 0.92, \"trip_first_departure_ts\": 34500, \"trip_last_arrival_ts\": 37800, \"departure_hour\": 9, \"time_of_day\": \"AM Peak\", \"p25\": 0.92, \"p50\": 0.92, \"p75\": 0.92, \"p50_trip\": 1, \"fastest_trip\": 0, \"car_duration_hours\": 0.8, \"competitive_route\": 1, \"bus_multiplier\": 1.15, \"bus_difference\": 7.2, \"num_trips\": 14, \"num_competitive\": 14, \"pct_trips_competitive\": 1.0, \"bus_difference_spread\": 0.0, \"route_group\": \"short\", \"max_trip_hrs\": 0.92, \"max_trip_route_group\": 0.92, \"below_cutoff\": 14, \"pct_below_cutoff\": 1.0, \"name\": \"Redding Area Bus Authority\", \"caltrans_district\": \"02 - Redding\", \"drmt_organization_name\": null, \"route_name\": null, \"cutoff2\": 20, \"cutoff\": 2}, {\"calitp_itp_id\": 259, \"trip_key\": 608239272652657631, \"trip_id\": \"t_1194071_b_18260_tn_1\", \"shape_id\": \"p_899986\", \"route_id\": \"151\", \"service_hours\": 0.92, \"trip_first_departure_ts\": 20100, \"trip_last_arrival_ts\": 23400, \"departure_hour\": 5, \"time_of_day\": \"Owl Service\", \"p25\": 0.92, \"p50\": 0.92, \"p75\": 0.92, \"p50_trip\": 1, \"fastest_trip\": 0, \"car_duration_hours\": 0.8, \"competitive_route\": 1, \"bus_multiplier\": 1.15, \"bus_difference\": 7.2, \"num_trips\": 14, \"num_competitive\": 14, \"pct_trips_competitive\": 1.0, \"bus_difference_spread\": 0.0, \"route_group\": \"short\", \"max_trip_hrs\": 0.92, \"max_trip_route_group\": 0.92, \"below_cutoff\": 14, \"pct_below_cutoff\": 1.0, \"name\": \"Redding Area Bus Authority\", \"caltrans_district\": \"02 - Redding\", \"drmt_organization_name\": null, \"route_name\": null, \"cutoff2\": 20, \"cutoff\": 2}, {\"calitp_itp_id\": 259, \"trip_key\": -6346748749507792306, \"trip_id\": \"t_884140_b_18260_tn_5\", \"shape_id\": \"p_787963\", \"route_id\": \"153\", \"service_hours\": 0.42, \"trip_first_departure_ts\": 53400, \"trip_last_arrival_ts\": 54900, \"departure_hour\": 14, \"time_of_day\": \"Midday\", \"p25\": 0.42, \"p50\": 0.435, \"p75\": 0.45, \"p50_trip\": 1, \"fastest_trip\": 0, \"car_duration_hours\": 0.28, \"competitive_route\": 1, \"bus_multiplier\": 1.5, \"bus_difference\": 8.4, \"num_trips\": 26, \"num_competitive\": 26, \"pct_trips_competitive\": 1.0, \"bus_difference_spread\": 1.799999999999999, \"route_group\": \"short\", \"max_trip_hrs\": 0.45, \"max_trip_route_group\": 0.45, \"below_cutoff\": 26, \"pct_below_cutoff\": 1.0, \"name\": \"Redding Area Bus Authority\", \"caltrans_district\": \"02 - Redding\", \"drmt_organization_name\": null, \"route_name\": null, \"cutoff2\": 20, \"cutoff\": 2}, {\"calitp_itp_id\": 259, \"trip_key\": 3669484251174490939, \"trip_id\": \"t_884146_b_18260_tn_4\", \"shape_id\": \"p_787963\", \"route_id\": \"153\", \"service_hours\": 0.42, \"trip_first_departure_ts\": 49800, \"trip_last_arrival_ts\": 51300, \"departure_hour\": 13, \"time_of_day\": \"Midday\", \"p25\": 0.42, \"p50\": 0.435, \"p75\": 0.45, \"p50_trip\": 1, \"fastest_trip\": 0, \"car_duration_hours\": 0.28, \"competitive_route\": 1, \"bus_multiplier\": 1.5, \"bus_difference\": 8.4, \"num_trips\": 26, \"num_competitive\": 26, \"pct_trips_competitive\": 1.0, \"bus_difference_spread\": 1.799999999999999, \"route_group\": \"short\", \"max_trip_hrs\": 0.45, \"max_trip_route_group\": 0.45, \"below_cutoff\": 26, \"pct_below_cutoff\": 1.0, \"name\": \"Redding Area Bus Authority\", \"caltrans_district\": \"02 - Redding\", \"drmt_organization_name\": null, \"route_name\": null, \"cutoff2\": 20, \"cutoff\": 2}, {\"calitp_itp_id\": 259, \"trip_key\": -7444096356299870262, \"trip_id\": \"t_884140_b_18260_tn_6\", \"shape_id\": \"p_787963\", \"route_id\": \"153\", \"service_hours\": 0.42, \"trip_first_departure_ts\": 60600, \"trip_last_arrival_ts\": 62100, \"departure_hour\": 16, \"time_of_day\": \"Midday\", \"p25\": 0.42, \"p50\": 0.435, \"p75\": 0.45, \"p50_trip\": 1, \"fastest_trip\": 0, \"car_duration_hours\": 0.28, \"competitive_route\": 1, \"bus_multiplier\": 1.5, \"bus_difference\": 8.4, \"num_trips\": 26, \"num_competitive\": 26, \"pct_trips_competitive\": 1.0, \"bus_difference_spread\": 1.799999999999999, \"route_group\": \"short\", \"max_trip_hrs\": 0.45, \"max_trip_route_group\": 0.45, \"below_cutoff\": 26, \"pct_below_cutoff\": 1.0, \"name\": \"Redding Area Bus Authority\", \"caltrans_district\": \"02 - Redding\", \"drmt_organization_name\": null, \"route_name\": null, \"cutoff2\": 20, \"cutoff\": 2}, {\"calitp_itp_id\": 259, \"trip_key\": -2332627576218007789, \"trip_id\": \"t_884146_b_18260_tn_6\", \"shape_id\": \"p_787963\", \"route_id\": \"153\", \"service_hours\": 0.42, \"trip_first_departure_ts\": 64200, \"trip_last_arrival_ts\": 65700, \"departure_hour\": 17, \"time_of_day\": \"PM Peak\", \"p25\": 0.42, \"p50\": 0.435, \"p75\": 0.45, \"p50_trip\": 1, \"fastest_trip\": 0, \"car_duration_hours\": 0.28, \"competitive_route\": 1, \"bus_multiplier\": 1.5, \"bus_difference\": 8.4, \"num_trips\": 26, \"num_competitive\": 26, \"pct_trips_competitive\": 1.0, \"bus_difference_spread\": 1.799999999999999, \"route_group\": \"short\", \"max_trip_hrs\": 0.45, \"max_trip_route_group\": 0.45, \"below_cutoff\": 26, \"pct_below_cutoff\": 1.0, \"name\": \"Redding Area Bus Authority\", \"caltrans_district\": \"02 - Redding\", \"drmt_organization_name\": null, \"route_name\": null, \"cutoff2\": 20, \"cutoff\": 2}, {\"calitp_itp_id\": 259, \"trip_key\": 3852501457013697649, \"trip_id\": \"t_884140_b_18260_tn_3\", \"shape_id\": \"p_787963\", \"route_id\": \"153\", \"service_hours\": 0.42, \"trip_first_departure_ts\": 39000, \"trip_last_arrival_ts\": 40500, \"departure_hour\": 10, \"time_of_day\": \"Midday\", \"p25\": 0.42, \"p50\": 0.435, \"p75\": 0.45, \"p50_trip\": 1, \"fastest_trip\": 0, \"car_duration_hours\": 0.28, \"competitive_route\": 1, \"bus_multiplier\": 1.5, \"bus_difference\": 8.4, \"num_trips\": 26, \"num_competitive\": 26, \"pct_trips_competitive\": 1.0, \"bus_difference_spread\": 1.799999999999999, \"route_group\": \"short\", \"max_trip_hrs\": 0.45, \"max_trip_route_group\": 0.45, \"below_cutoff\": 26, \"pct_below_cutoff\": 1.0, \"name\": \"Redding Area Bus Authority\", \"caltrans_district\": \"02 - Redding\", \"drmt_organization_name\": null, \"route_name\": null, \"cutoff2\": 20, \"cutoff\": 2}, {\"calitp_itp_id\": 259, \"trip_key\": -2593416854619370432, \"trip_id\": \"t_884140_b_18260_tn_7\", \"shape_id\": \"p_787963\", \"route_id\": \"153\", \"service_hours\": 0.42, \"trip_first_departure_ts\": 67800, \"trip_last_arrival_ts\": 69300, \"departure_hour\": 18, \"time_of_day\": \"PM Peak\", \"p25\": 0.42, \"p50\": 0.435, \"p75\": 0.45, \"p50_trip\": 1, \"fastest_trip\": 1, \"car_duration_hours\": 0.28, \"competitive_route\": 1, \"bus_multiplier\": 1.5, \"bus_difference\": 8.4, \"num_trips\": 26, \"num_competitive\": 26, \"pct_trips_competitive\": 1.0, \"bus_difference_spread\": 1.799999999999999, \"route_group\": \"short\", \"max_trip_hrs\": 0.45, \"max_trip_route_group\": 0.45, \"below_cutoff\": 26, \"pct_below_cutoff\": 1.0, \"name\": \"Redding Area Bus Authority\", \"caltrans_district\": \"02 - Redding\", \"drmt_organization_name\": null, \"route_name\": null, \"cutoff2\": 20, \"cutoff\": 2}, {\"calitp_itp_id\": 259, \"trip_key\": 584499572325248662, \"trip_id\": \"t_884146_b_18260_tn_2\", \"shape_id\": \"p_787963\", \"route_id\": \"153\", \"service_hours\": 0.42, \"trip_first_departure_ts\": 35400, \"trip_last_arrival_ts\": 36900, \"departure_hour\": 9, \"time_of_day\": \"AM Peak\", \"p25\": 0.42, \"p50\": 0.435, \"p75\": 0.45, \"p50_trip\": 1, \"fastest_trip\": 0, \"car_duration_hours\": 0.28, \"competitive_route\": 1, \"bus_multiplier\": 1.5, \"bus_difference\": 8.4, \"num_trips\": 26, \"num_competitive\": 26, \"pct_trips_competitive\": 1.0, \"bus_difference_spread\": 1.799999999999999, \"route_group\": \"short\", \"max_trip_hrs\": 0.45, \"max_trip_route_group\": 0.45, \"below_cutoff\": 26, \"pct_below_cutoff\": 1.0, \"name\": \"Redding Area Bus Authority\", \"caltrans_district\": \"02 - Redding\", \"drmt_organization_name\": null, \"route_name\": null, \"cutoff2\": 20, \"cutoff\": 2}, {\"calitp_itp_id\": 259, \"trip_key\": -4669504647299898957, \"trip_id\": \"t_884140_b_18260_tn_1\", \"shape_id\": \"p_787963\", \"route_id\": \"153\", \"service_hours\": 0.42, \"trip_first_departure_ts\": 24600, \"trip_last_arrival_ts\": 26100, \"departure_hour\": 6, \"time_of_day\": \"Owl Service\", \"p25\": 0.42, \"p50\": 0.435, \"p75\": 0.45, \"p50_trip\": 1, \"fastest_trip\": 0, \"car_duration_hours\": 0.28, \"competitive_route\": 1, \"bus_multiplier\": 1.5, \"bus_difference\": 8.4, \"num_trips\": 26, \"num_competitive\": 26, \"pct_trips_competitive\": 1.0, \"bus_difference_spread\": 1.799999999999999, \"route_group\": \"short\", \"max_trip_hrs\": 0.45, \"max_trip_route_group\": 0.45, \"below_cutoff\": 26, \"pct_below_cutoff\": 1.0, \"name\": \"Redding Area Bus Authority\", \"caltrans_district\": \"02 - Redding\", \"drmt_organization_name\": null, \"route_name\": null, \"cutoff2\": 20, \"cutoff\": 2}, {\"calitp_itp_id\": 259, \"trip_key\": -1809343843401411626, \"trip_id\": \"t_884140_b_18260_tn_4\", \"shape_id\": \"p_787963\", \"route_id\": \"153\", \"service_hours\": 0.42, \"trip_first_departure_ts\": 46200, \"trip_last_arrival_ts\": 47700, \"departure_hour\": 12, \"time_of_day\": \"Midday\", \"p25\": 0.42, \"p50\": 0.435, \"p75\": 0.45, \"p50_trip\": 1, \"fastest_trip\": 0, \"car_duration_hours\": 0.28, \"competitive_route\": 1, \"bus_multiplier\": 1.5, \"bus_difference\": 8.4, \"num_trips\": 26, \"num_competitive\": 26, \"pct_trips_competitive\": 1.0, \"bus_difference_spread\": 1.799999999999999, \"route_group\": \"short\", \"max_trip_hrs\": 0.45, \"max_trip_route_group\": 0.45, \"below_cutoff\": 26, \"pct_below_cutoff\": 1.0, \"name\": \"Redding Area Bus Authority\", \"caltrans_district\": \"02 - Redding\", \"drmt_organization_name\": null, \"route_name\": null, \"cutoff2\": 20, \"cutoff\": 2}, {\"calitp_itp_id\": 259, \"trip_key\": -2125883289830916383, \"trip_id\": \"t_884146_b_18260_tn_5\", \"shape_id\": \"p_787963\", \"route_id\": \"153\", \"service_hours\": 0.42, \"trip_first_departure_ts\": 57000, \"trip_last_arrival_ts\": 58500, \"departure_hour\": 15, \"time_of_day\": \"Midday\", \"p25\": 0.42, \"p50\": 0.435, \"p75\": 0.45, \"p50_trip\": 1, \"fastest_trip\": 0, \"car_duration_hours\": 0.28, \"competitive_route\": 1, \"bus_multiplier\": 1.5, \"bus_difference\": 8.4, \"num_trips\": 26, \"num_competitive\": 26, \"pct_trips_competitive\": 1.0, \"bus_difference_spread\": 1.799999999999999, \"route_group\": \"short\", \"max_trip_hrs\": 0.45, \"max_trip_route_group\": 0.45, \"below_cutoff\": 26, \"pct_below_cutoff\": 1.0, \"name\": \"Redding Area Bus Authority\", \"caltrans_district\": \"02 - Redding\", \"drmt_organization_name\": null, \"route_name\": null, \"cutoff2\": 20, \"cutoff\": 2}, {\"calitp_itp_id\": 259, \"trip_key\": -8311963935169233599, \"trip_id\": \"t_884146_b_18260_tn_1\", \"shape_id\": \"p_787963\", \"route_id\": \"153\", \"service_hours\": 0.42, \"trip_first_departure_ts\": 28200, \"trip_last_arrival_ts\": 29700, \"departure_hour\": 7, \"time_of_day\": \"AM Peak\", \"p25\": 0.42, \"p50\": 0.435, \"p75\": 0.45, \"p50_trip\": 1, \"fastest_trip\": 0, \"car_duration_hours\": 0.28, \"competitive_route\": 1, \"bus_multiplier\": 1.5, \"bus_difference\": 8.4, \"num_trips\": 26, \"num_competitive\": 26, \"pct_trips_competitive\": 1.0, \"bus_difference_spread\": 1.799999999999999, \"route_group\": \"short\", \"max_trip_hrs\": 0.45, \"max_trip_route_group\": 0.45, \"below_cutoff\": 26, \"pct_below_cutoff\": 1.0, \"name\": \"Redding Area Bus Authority\", \"caltrans_district\": \"02 - Redding\", \"drmt_organization_name\": null, \"route_name\": null, \"cutoff2\": 20, \"cutoff\": 2}, {\"calitp_itp_id\": 259, \"trip_key\": -4786609053765109875, \"trip_id\": \"t_884140_b_18260_tn_2\", \"shape_id\": \"p_787963\", \"route_id\": \"153\", \"service_hours\": 0.42, \"trip_first_departure_ts\": 31800, \"trip_last_arrival_ts\": 33300, \"departure_hour\": 8, \"time_of_day\": \"AM Peak\", \"p25\": 0.42, \"p50\": 0.435, \"p75\": 0.45, \"p50_trip\": 1, \"fastest_trip\": 0, \"car_duration_hours\": 0.28, \"competitive_route\": 1, \"bus_multiplier\": 1.5, \"bus_difference\": 8.4, \"num_trips\": 26, \"num_competitive\": 26, \"pct_trips_competitive\": 1.0, \"bus_difference_spread\": 1.799999999999999, \"route_group\": \"short\", \"max_trip_hrs\": 0.45, \"max_trip_route_group\": 0.45, \"below_cutoff\": 26, \"pct_below_cutoff\": 1.0, \"name\": \"Redding Area Bus Authority\", \"caltrans_district\": \"02 - Redding\", \"drmt_organization_name\": null, \"route_name\": null, \"cutoff2\": 20, \"cutoff\": 2}, {\"calitp_itp_id\": 259, \"trip_key\": -8077762450682131982, \"trip_id\": \"t_884146_b_18260_tn_3\", \"shape_id\": \"p_787963\", \"route_id\": \"153\", \"service_hours\": 0.42, \"trip_first_departure_ts\": 42600, \"trip_last_arrival_ts\": 44100, \"departure_hour\": 11, \"time_of_day\": \"Midday\", \"p25\": 0.42, \"p50\": 0.435, \"p75\": 0.45, \"p50_trip\": 1, \"fastest_trip\": 0, \"car_duration_hours\": 0.28, \"competitive_route\": 1, \"bus_multiplier\": 1.5, \"bus_difference\": 8.4, \"num_trips\": 26, \"num_competitive\": 26, \"pct_trips_competitive\": 1.0, \"bus_difference_spread\": 1.799999999999999, \"route_group\": \"short\", \"max_trip_hrs\": 0.45, \"max_trip_route_group\": 0.45, \"below_cutoff\": 26, \"pct_below_cutoff\": 1.0, \"name\": \"Redding Area Bus Authority\", \"caltrans_district\": \"02 - Redding\", \"drmt_organization_name\": null, \"route_name\": null, \"cutoff2\": 20, \"cutoff\": 2}, {\"calitp_itp_id\": 259, \"trip_key\": 3327898063860546432, \"trip_id\": \"t_884145_b_18260_tn_2\", \"shape_id\": \"p_787964\", \"route_id\": \"153\", \"service_hours\": 0.45, \"trip_first_departure_ts\": 33600, \"trip_last_arrival_ts\": 35220, \"departure_hour\": 9, \"time_of_day\": \"AM Peak\", \"p25\": 0.42, \"p50\": 0.435, \"p75\": 0.45, \"p50_trip\": 1, \"fastest_trip\": 0, \"car_duration_hours\": 0.28, \"competitive_route\": 1, \"bus_multiplier\": 1.61, \"bus_difference\": 10.2, \"num_trips\": 26, \"num_competitive\": 26, \"pct_trips_competitive\": 1.0, \"bus_difference_spread\": 1.799999999999999, \"route_group\": \"short\", \"max_trip_hrs\": 0.45, \"max_trip_route_group\": 0.45, \"below_cutoff\": 26, \"pct_below_cutoff\": 1.0, \"name\": \"Redding Area Bus Authority\", \"caltrans_district\": \"02 - Redding\", \"drmt_organization_name\": null, \"route_name\": null, \"cutoff2\": 20, \"cutoff\": 2}, {\"calitp_itp_id\": 259, \"trip_key\": 1095865665298360358, \"trip_id\": \"t_884145_b_18260_tn_1\", \"shape_id\": \"p_787964\", \"route_id\": \"153\", \"service_hours\": 0.45, \"trip_first_departure_ts\": 26400, \"trip_last_arrival_ts\": 28020, \"departure_hour\": 7, \"time_of_day\": \"AM Peak\", \"p25\": 0.42, \"p50\": 0.435, \"p75\": 0.45, \"p50_trip\": 1, \"fastest_trip\": 0, \"car_duration_hours\": 0.28, \"competitive_route\": 1, \"bus_multiplier\": 1.61, \"bus_difference\": 10.2, \"num_trips\": 26, \"num_competitive\": 26, \"pct_trips_competitive\": 1.0, \"bus_difference_spread\": 1.799999999999999, \"route_group\": \"short\", \"max_trip_hrs\": 0.45, \"max_trip_route_group\": 0.45, \"below_cutoff\": 26, \"pct_below_cutoff\": 1.0, \"name\": \"Redding Area Bus Authority\", \"caltrans_district\": \"02 - Redding\", \"drmt_organization_name\": null, \"route_name\": null, \"cutoff2\": 20, \"cutoff\": 2}, {\"calitp_itp_id\": 259, \"trip_key\": -4380389212217110982, \"trip_id\": \"t_884139_b_18260_tn_2\", \"shape_id\": \"p_787964\", \"route_id\": \"153\", \"service_hours\": 0.45, \"trip_first_departure_ts\": 30000, \"trip_last_arrival_ts\": 31620, \"departure_hour\": 8, \"time_of_day\": \"AM Peak\", \"p25\": 0.42, \"p50\": 0.435, \"p75\": 0.45, \"p50_trip\": 1, \"fastest_trip\": 0, \"car_duration_hours\": 0.28, \"competitive_route\": 1, \"bus_multiplier\": 1.61, \"bus_difference\": 10.2, \"num_trips\": 26, \"num_competitive\": 26, \"pct_trips_competitive\": 1.0, \"bus_difference_spread\": 1.799999999999999, \"route_group\": \"short\", \"max_trip_hrs\": 0.45, \"max_trip_route_group\": 0.45, \"below_cutoff\": 26, \"pct_below_cutoff\": 1.0, \"name\": \"Redding Area Bus Authority\", \"caltrans_district\": \"02 - Redding\", \"drmt_organization_name\": null, \"route_name\": null, \"cutoff2\": 20, \"cutoff\": 2}, {\"calitp_itp_id\": 259, \"trip_key\": -2100866262541152794, \"trip_id\": \"t_884139_b_18260_tn_6\", \"shape_id\": \"p_787964\", \"route_id\": \"153\", \"service_hours\": 0.45, \"trip_first_departure_ts\": 58800, \"trip_last_arrival_ts\": 60420, \"departure_hour\": 16, \"time_of_day\": \"Midday\", \"p25\": 0.42, \"p50\": 0.435, \"p75\": 0.45, \"p50_trip\": 1, \"fastest_trip\": 0, \"car_duration_hours\": 0.28, \"competitive_route\": 1, \"bus_multiplier\": 1.61, \"bus_difference\": 10.2, \"num_trips\": 26, \"num_competitive\": 26, \"pct_trips_competitive\": 1.0, \"bus_difference_spread\": 1.799999999999999, \"route_group\": \"short\", \"max_trip_hrs\": 0.45, \"max_trip_route_group\": 0.45, \"below_cutoff\": 26, \"pct_below_cutoff\": 1.0, \"name\": \"Redding Area Bus Authority\", \"caltrans_district\": \"02 - Redding\", \"drmt_organization_name\": null, \"route_name\": null, \"cutoff2\": 20, \"cutoff\": 2}, {\"calitp_itp_id\": 259, \"trip_key\": 578181880412433091, \"trip_id\": \"t_884145_b_18260_tn_6\", \"shape_id\": \"p_787964\", \"route_id\": \"153\", \"service_hours\": 0.45, \"trip_first_departure_ts\": 62400, \"trip_last_arrival_ts\": 64020, \"departure_hour\": 17, \"time_of_day\": \"PM Peak\", \"p25\": 0.42, \"p50\": 0.435, \"p75\": 0.45, \"p50_trip\": 1, \"fastest_trip\": 0, \"car_duration_hours\": 0.28, \"competitive_route\": 1, \"bus_multiplier\": 1.61, \"bus_difference\": 10.2, \"num_trips\": 26, \"num_competitive\": 26, \"pct_trips_competitive\": 1.0, \"bus_difference_spread\": 1.799999999999999, \"route_group\": \"short\", \"max_trip_hrs\": 0.45, \"max_trip_route_group\": 0.45, \"below_cutoff\": 26, \"pct_below_cutoff\": 1.0, \"name\": \"Redding Area Bus Authority\", \"caltrans_district\": \"02 - Redding\", \"drmt_organization_name\": null, \"route_name\": null, \"cutoff2\": 20, \"cutoff\": 2}, {\"calitp_itp_id\": 259, \"trip_key\": 1519393082322920793, \"trip_id\": \"t_884145_b_18260_tn_4\", \"shape_id\": \"p_787964\", \"route_id\": \"153\", \"service_hours\": 0.45, \"trip_first_departure_ts\": 48000, \"trip_last_arrival_ts\": 49620, \"departure_hour\": 13, \"time_of_day\": \"Midday\", \"p25\": 0.42, \"p50\": 0.435, \"p75\": 0.45, \"p50_trip\": 1, \"fastest_trip\": 0, \"car_duration_hours\": 0.28, \"competitive_route\": 1, \"bus_multiplier\": 1.61, \"bus_difference\": 10.2, \"num_trips\": 26, \"num_competitive\": 26, \"pct_trips_competitive\": 1.0, \"bus_difference_spread\": 1.799999999999999, \"route_group\": \"short\", \"max_trip_hrs\": 0.45, \"max_trip_route_group\": 0.45, \"below_cutoff\": 26, \"pct_below_cutoff\": 1.0, \"name\": \"Redding Area Bus Authority\", \"caltrans_district\": \"02 - Redding\", \"drmt_organization_name\": null, \"route_name\": null, \"cutoff2\": 20, \"cutoff\": 2}, {\"calitp_itp_id\": 259, \"trip_key\": -2227745995550422898, \"trip_id\": \"t_884145_b_18260_tn_3\", \"shape_id\": \"p_787964\", \"route_id\": \"153\", \"service_hours\": 0.45, \"trip_first_departure_ts\": 40800, \"trip_last_arrival_ts\": 42420, \"departure_hour\": 11, \"time_of_day\": \"Midday\", \"p25\": 0.42, \"p50\": 0.435, \"p75\": 0.45, \"p50_trip\": 1, \"fastest_trip\": 0, \"car_duration_hours\": 0.28, \"competitive_route\": 1, \"bus_multiplier\": 1.61, \"bus_difference\": 10.2, \"num_trips\": 26, \"num_competitive\": 26, \"pct_trips_competitive\": 1.0, \"bus_difference_spread\": 1.799999999999999, \"route_group\": \"short\", \"max_trip_hrs\": 0.45, \"max_trip_route_group\": 0.45, \"below_cutoff\": 26, \"pct_below_cutoff\": 1.0, \"name\": \"Redding Area Bus Authority\", \"caltrans_district\": \"02 - Redding\", \"drmt_organization_name\": null, \"route_name\": null, \"cutoff2\": 20, \"cutoff\": 2}, {\"calitp_itp_id\": 259, \"trip_key\": 5942974768619884774, \"trip_id\": \"t_884139_b_18260_tn_5\", \"shape_id\": \"p_787964\", \"route_id\": \"153\", \"service_hours\": 0.45, \"trip_first_departure_ts\": 51600, \"trip_last_arrival_ts\": 53220, \"departure_hour\": 14, \"time_of_day\": \"Midday\", \"p25\": 0.42, \"p50\": 0.435, \"p75\": 0.45, \"p50_trip\": 1, \"fastest_trip\": 0, \"car_duration_hours\": 0.28, \"competitive_route\": 1, \"bus_multiplier\": 1.61, \"bus_difference\": 10.2, \"num_trips\": 26, \"num_competitive\": 26, \"pct_trips_competitive\": 1.0, \"bus_difference_spread\": 1.799999999999999, \"route_group\": \"short\", \"max_trip_hrs\": 0.45, \"max_trip_route_group\": 0.45, \"below_cutoff\": 26, \"pct_below_cutoff\": 1.0, \"name\": \"Redding Area Bus Authority\", \"caltrans_district\": \"02 - Redding\", \"drmt_organization_name\": null, \"route_name\": null, \"cutoff2\": 20, \"cutoff\": 2}, {\"calitp_itp_id\": 259, \"trip_key\": 7752073234594946144, \"trip_id\": \"t_884145_b_18260_tn_5\", \"shape_id\": \"p_787964\", \"route_id\": \"153\", \"service_hours\": 0.45, \"trip_first_departure_ts\": 55200, \"trip_last_arrival_ts\": 56820, \"departure_hour\": 15, \"time_of_day\": \"Midday\", \"p25\": 0.42, \"p50\": 0.435, \"p75\": 0.45, \"p50_trip\": 1, \"fastest_trip\": 0, \"car_duration_hours\": 0.28, \"competitive_route\": 1, \"bus_multiplier\": 1.61, \"bus_difference\": 10.2, \"num_trips\": 26, \"num_competitive\": 26, \"pct_trips_competitive\": 1.0, \"bus_difference_spread\": 1.799999999999999, \"route_group\": \"short\", \"max_trip_hrs\": 0.45, \"max_trip_route_group\": 0.45, \"below_cutoff\": 26, \"pct_below_cutoff\": 1.0, \"name\": \"Redding Area Bus Authority\", \"caltrans_district\": \"02 - Redding\", \"drmt_organization_name\": null, \"route_name\": null, \"cutoff2\": 20, \"cutoff\": 2}, {\"calitp_itp_id\": 259, \"trip_key\": -4173021789959943280, \"trip_id\": \"t_884139_b_18260_tn_7\", \"shape_id\": \"p_787964\", \"route_id\": \"153\", \"service_hours\": 0.45, \"trip_first_departure_ts\": 66000, \"trip_last_arrival_ts\": 67620, \"departure_hour\": 18, \"time_of_day\": \"PM Peak\", \"p25\": 0.42, \"p50\": 0.435, \"p75\": 0.45, \"p50_trip\": 1, \"fastest_trip\": 0, \"car_duration_hours\": 0.28, \"competitive_route\": 1, \"bus_multiplier\": 1.61, \"bus_difference\": 10.2, \"num_trips\": 26, \"num_competitive\": 26, \"pct_trips_competitive\": 1.0, \"bus_difference_spread\": 1.799999999999999, \"route_group\": \"short\", \"max_trip_hrs\": 0.45, \"max_trip_route_group\": 0.45, \"below_cutoff\": 26, \"pct_below_cutoff\": 1.0, \"name\": \"Redding Area Bus Authority\", \"caltrans_district\": \"02 - Redding\", \"drmt_organization_name\": null, \"route_name\": null, \"cutoff2\": 20, \"cutoff\": 2}, {\"calitp_itp_id\": 259, \"trip_key\": 7986586913362674049, \"trip_id\": \"t_884139_b_18260_tn_4\", \"shape_id\": \"p_787964\", \"route_id\": \"153\", \"service_hours\": 0.45, \"trip_first_departure_ts\": 44400, \"trip_last_arrival_ts\": 46020, \"departure_hour\": 12, \"time_of_day\": \"Midday\", \"p25\": 0.42, \"p50\": 0.435, \"p75\": 0.45, \"p50_trip\": 1, \"fastest_trip\": 0, \"car_duration_hours\": 0.28, \"competitive_route\": 1, \"bus_multiplier\": 1.61, \"bus_difference\": 10.2, \"num_trips\": 26, \"num_competitive\": 26, \"pct_trips_competitive\": 1.0, \"bus_difference_spread\": 1.799999999999999, \"route_group\": \"short\", \"max_trip_hrs\": 0.45, \"max_trip_route_group\": 0.45, \"below_cutoff\": 26, \"pct_below_cutoff\": 1.0, \"name\": \"Redding Area Bus Authority\", \"caltrans_district\": \"02 - Redding\", \"drmt_organization_name\": null, \"route_name\": null, \"cutoff2\": 20, \"cutoff\": 2}, {\"calitp_itp_id\": 259, \"trip_key\": 958070116848100865, \"trip_id\": \"t_884139_b_18260_tn_1\", \"shape_id\": \"p_787964\", \"route_id\": \"153\", \"service_hours\": 0.45, \"trip_first_departure_ts\": 22800, \"trip_last_arrival_ts\": 24420, \"departure_hour\": 6, \"time_of_day\": \"Owl Service\", \"p25\": 0.42, \"p50\": 0.435, \"p75\": 0.45, \"p50_trip\": 1, \"fastest_trip\": 0, \"car_duration_hours\": 0.28, \"competitive_route\": 1, \"bus_multiplier\": 1.61, \"bus_difference\": 10.2, \"num_trips\": 26, \"num_competitive\": 26, \"pct_trips_competitive\": 1.0, \"bus_difference_spread\": 1.799999999999999, \"route_group\": \"short\", \"max_trip_hrs\": 0.45, \"max_trip_route_group\": 0.45, \"below_cutoff\": 26, \"pct_below_cutoff\": 1.0, \"name\": \"Redding Area Bus Authority\", \"caltrans_district\": \"02 - Redding\", \"drmt_organization_name\": null, \"route_name\": null, \"cutoff2\": 20, \"cutoff\": 2}, {\"calitp_itp_id\": 259, \"trip_key\": -3275973888353844105, \"trip_id\": \"t_884139_b_18260_tn_3\", \"shape_id\": \"p_787964\", \"route_id\": \"153\", \"service_hours\": 0.45, \"trip_first_departure_ts\": 37200, \"trip_last_arrival_ts\": 38820, \"departure_hour\": 10, \"time_of_day\": \"Midday\", \"p25\": 0.42, \"p50\": 0.435, \"p75\": 0.45, \"p50_trip\": 1, \"fastest_trip\": 0, \"car_duration_hours\": 0.28, \"competitive_route\": 1, \"bus_multiplier\": 1.61, \"bus_difference\": 10.2, \"num_trips\": 26, \"num_competitive\": 26, \"pct_trips_competitive\": 1.0, \"bus_difference_spread\": 1.799999999999999, \"route_group\": \"short\", \"max_trip_hrs\": 0.45, \"max_trip_route_group\": 0.45, \"below_cutoff\": 26, \"pct_below_cutoff\": 1.0, \"name\": \"Redding Area Bus Authority\", \"caltrans_district\": \"02 - Redding\", \"drmt_organization_name\": null, \"route_name\": null, \"cutoff2\": 20, \"cutoff\": 2}, {\"calitp_itp_id\": 259, \"trip_key\": -4831135472302284693, \"trip_id\": \"t_887257_b_18260_tn_2\", \"shape_id\": \"p_788072\", \"route_id\": \"154\", \"service_hours\": 0.37, \"trip_first_departure_ts\": 26400, \"trip_last_arrival_ts\": 27720, \"departure_hour\": 7, \"time_of_day\": \"AM Peak\", \"p25\": 0.37, \"p50\": 0.435, \"p75\": 0.5, \"p50_trip\": 1, \"fastest_trip\": 0, \"car_duration_hours\": 0.33, \"competitive_route\": 1, \"bus_multiplier\": 1.12, \"bus_difference\": 2.4, \"num_trips\": 26, \"num_competitive\": 26, \"pct_trips_competitive\": 1.0, \"bus_difference_spread\": 7.799999999999999, \"route_group\": \"short\", \"max_trip_hrs\": 0.5, \"max_trip_route_group\": 0.5, \"below_cutoff\": 26, \"pct_below_cutoff\": 1.0, \"name\": \"Redding Area Bus Authority\", \"caltrans_district\": \"02 - Redding\", \"drmt_organization_name\": null, \"route_name\": null, \"cutoff2\": 20, \"cutoff\": 2}, {\"calitp_itp_id\": 259, \"trip_key\": 3295678053870388864, \"trip_id\": \"t_887257_b_18260_tn_6\", \"shape_id\": \"p_788072\", \"route_id\": \"154\", \"service_hours\": 0.37, \"trip_first_departure_ts\": 40800, \"trip_last_arrival_ts\": 42120, \"departure_hour\": 11, \"time_of_day\": \"Midday\", \"p25\": 0.37, \"p50\": 0.435, \"p75\": 0.5, \"p50_trip\": 1, \"fastest_trip\": 0, \"car_duration_hours\": 0.33, \"competitive_route\": 1, \"bus_multiplier\": 1.12, \"bus_difference\": 2.4, \"num_trips\": 26, \"num_competitive\": 26, \"pct_trips_competitive\": 1.0, \"bus_difference_spread\": 7.799999999999999, \"route_group\": \"short\", \"max_trip_hrs\": 0.5, \"max_trip_route_group\": 0.5, \"below_cutoff\": 26, \"pct_below_cutoff\": 1.0, \"name\": \"Redding Area Bus Authority\", \"caltrans_district\": \"02 - Redding\", \"drmt_organization_name\": null, \"route_name\": null, \"cutoff2\": 20, \"cutoff\": 2}, {\"calitp_itp_id\": 259, \"trip_key\": 8882157732904329672, \"trip_id\": \"t_887257_b_18260_tn_11\", \"shape_id\": \"p_788072\", \"route_id\": \"154\", \"service_hours\": 0.37, \"trip_first_departure_ts\": 58800, \"trip_last_arrival_ts\": 60120, \"departure_hour\": 16, \"time_of_day\": \"Midday\", \"p25\": 0.37, \"p50\": 0.435, \"p75\": 0.5, \"p50_trip\": 1, \"fastest_trip\": 0, \"car_duration_hours\": 0.33, \"competitive_route\": 1, \"bus_multiplier\": 1.12, \"bus_difference\": 2.4, \"num_trips\": 26, \"num_competitive\": 26, \"pct_trips_competitive\": 1.0, \"bus_difference_spread\": 7.799999999999999, \"route_group\": \"short\", \"max_trip_hrs\": 0.5, \"max_trip_route_group\": 0.5, \"below_cutoff\": 26, \"pct_below_cutoff\": 1.0, \"name\": \"Redding Area Bus Authority\", \"caltrans_district\": \"02 - Redding\", \"drmt_organization_name\": null, \"route_name\": null, \"cutoff2\": 20, \"cutoff\": 2}, {\"calitp_itp_id\": 259, \"trip_key\": -170234794807315302, \"trip_id\": \"t_887257_b_18260_tn_9\", \"shape_id\": \"p_788072\", \"route_id\": \"154\", \"service_hours\": 0.37, \"trip_first_departure_ts\": 51600, \"trip_last_arrival_ts\": 52920, \"departure_hour\": 14, \"time_of_day\": \"Midday\", \"p25\": 0.37, \"p50\": 0.435, \"p75\": 0.5, \"p50_trip\": 1, \"fastest_trip\": 0, \"car_duration_hours\": 0.33, \"competitive_route\": 1, \"bus_multiplier\": 1.12, \"bus_difference\": 2.4, \"num_trips\": 26, \"num_competitive\": 26, \"pct_trips_competitive\": 1.0, \"bus_difference_spread\": 7.799999999999999, \"route_group\": \"short\", \"max_trip_hrs\": 0.5, \"max_trip_route_group\": 0.5, \"below_cutoff\": 26, \"pct_below_cutoff\": 1.0, \"name\": \"Redding Area Bus Authority\", \"caltrans_district\": \"02 - Redding\", \"drmt_organization_name\": null, \"route_name\": null, \"cutoff2\": 20, \"cutoff\": 2}, {\"calitp_itp_id\": 259, \"trip_key\": 4466574473427435506, \"trip_id\": \"t_887257_b_18260_tn_4\", \"shape_id\": \"p_788072\", \"route_id\": \"154\", \"service_hours\": 0.37, \"trip_first_departure_ts\": 33600, \"trip_last_arrival_ts\": 34920, \"departure_hour\": 9, \"time_of_day\": \"AM Peak\", \"p25\": 0.37, \"p50\": 0.435, \"p75\": 0.5, \"p50_trip\": 1, \"fastest_trip\": 0, \"car_duration_hours\": 0.33, \"competitive_route\": 1, \"bus_multiplier\": 1.12, \"bus_difference\": 2.4, \"num_trips\": 26, \"num_competitive\": 26, \"pct_trips_competitive\": 1.0, \"bus_difference_spread\": 7.799999999999999, \"route_group\": \"short\", \"max_trip_hrs\": 0.5, \"max_trip_route_group\": 0.5, \"below_cutoff\": 26, \"pct_below_cutoff\": 1.0, \"name\": \"Redding Area Bus Authority\", \"caltrans_district\": \"02 - Redding\", \"drmt_organization_name\": null, \"route_name\": null, \"cutoff2\": 20, \"cutoff\": 2}, {\"calitp_itp_id\": 259, \"trip_key\": 3034457610044804455, \"trip_id\": \"t_887257_b_18260_tn_13\", \"shape_id\": \"p_788072\", \"route_id\": \"154\", \"service_hours\": 0.37, \"trip_first_departure_ts\": 66000, \"trip_last_arrival_ts\": 67320, \"departure_hour\": 18, \"time_of_day\": \"PM Peak\", \"p25\": 0.37, \"p50\": 0.435, \"p75\": 0.5, \"p50_trip\": 1, \"fastest_trip\": 1, \"car_duration_hours\": 0.33, \"competitive_route\": 1, \"bus_multiplier\": 1.12, \"bus_difference\": 2.4, \"num_trips\": 26, \"num_competitive\": 26, \"pct_trips_competitive\": 1.0, \"bus_difference_spread\": 7.799999999999999, \"route_group\": \"short\", \"max_trip_hrs\": 0.5, \"max_trip_route_group\": 0.5, \"below_cutoff\": 26, \"pct_below_cutoff\": 1.0, \"name\": \"Redding Area Bus Authority\", \"caltrans_district\": \"02 - Redding\", \"drmt_organization_name\": null, \"route_name\": null, \"cutoff2\": 20, \"cutoff\": 2}, {\"calitp_itp_id\": 259, \"trip_key\": -1706594252924193433, \"trip_id\": \"t_887257_b_18260_tn_12\", \"shape_id\": \"p_788072\", \"route_id\": \"154\", \"service_hours\": 0.37, \"trip_first_departure_ts\": 62400, \"trip_last_arrival_ts\": 63720, \"departure_hour\": 17, \"time_of_day\": \"PM Peak\", \"p25\": 0.37, \"p50\": 0.435, \"p75\": 0.5, \"p50_trip\": 1, \"fastest_trip\": 0, \"car_duration_hours\": 0.33, \"competitive_route\": 1, \"bus_multiplier\": 1.12, \"bus_difference\": 2.4, \"num_trips\": 26, \"num_competitive\": 26, \"pct_trips_competitive\": 1.0, \"bus_difference_spread\": 7.799999999999999, \"route_group\": \"short\", \"max_trip_hrs\": 0.5, \"max_trip_route_group\": 0.5, \"below_cutoff\": 26, \"pct_below_cutoff\": 1.0, \"name\": \"Redding Area Bus Authority\", \"caltrans_district\": \"02 - Redding\", \"drmt_organization_name\": null, \"route_name\": null, \"cutoff2\": 20, \"cutoff\": 2}, {\"calitp_itp_id\": 259, \"trip_key\": -4420166913130921446, \"trip_id\": \"t_887257_b_18260_tn_10\", \"shape_id\": \"p_788072\", \"route_id\": \"154\", \"service_hours\": 0.37, \"trip_first_departure_ts\": 55200, \"trip_last_arrival_ts\": 56520, \"departure_hour\": 15, \"time_of_day\": \"Midday\", \"p25\": 0.37, \"p50\": 0.435, \"p75\": 0.5, \"p50_trip\": 1, \"fastest_trip\": 0, \"car_duration_hours\": 0.33, \"competitive_route\": 1, \"bus_multiplier\": 1.12, \"bus_difference\": 2.4, \"num_trips\": 26, \"num_competitive\": 26, \"pct_trips_competitive\": 1.0, \"bus_difference_spread\": 7.799999999999999, \"route_group\": \"short\", \"max_trip_hrs\": 0.5, \"max_trip_route_group\": 0.5, \"below_cutoff\": 26, \"pct_below_cutoff\": 1.0, \"name\": \"Redding Area Bus Authority\", \"caltrans_district\": \"02 - Redding\", \"drmt_organization_name\": null, \"route_name\": null, \"cutoff2\": 20, \"cutoff\": 2}, {\"calitp_itp_id\": 259, \"trip_key\": -485354472259099836, \"trip_id\": \"t_887257_b_18260_tn_3\", \"shape_id\": \"p_788072\", \"route_id\": \"154\", \"service_hours\": 0.37, \"trip_first_departure_ts\": 30000, \"trip_last_arrival_ts\": 31320, \"departure_hour\": 8, \"time_of_day\": \"AM Peak\", \"p25\": 0.37, \"p50\": 0.435, \"p75\": 0.5, \"p50_trip\": 1, \"fastest_trip\": 0, \"car_duration_hours\": 0.33, \"competitive_route\": 1, \"bus_multiplier\": 1.12, \"bus_difference\": 2.4, \"num_trips\": 26, \"num_competitive\": 26, \"pct_trips_competitive\": 1.0, \"bus_difference_spread\": 7.799999999999999, \"route_group\": \"short\", \"max_trip_hrs\": 0.5, \"max_trip_route_group\": 0.5, \"below_cutoff\": 26, \"pct_below_cutoff\": 1.0, \"name\": \"Redding Area Bus Authority\", \"caltrans_district\": \"02 - Redding\", \"drmt_organization_name\": null, \"route_name\": null, \"cutoff2\": 20, \"cutoff\": 2}, {\"calitp_itp_id\": 259, \"trip_key\": -626792776327296299, \"trip_id\": \"t_887257_b_18260_tn_5\", \"shape_id\": \"p_788072\", \"route_id\": \"154\", \"service_hours\": 0.37, \"trip_first_departure_ts\": 37200, \"trip_last_arrival_ts\": 38520, \"departure_hour\": 10, \"time_of_day\": \"Midday\", \"p25\": 0.37, \"p50\": 0.435, \"p75\": 0.5, \"p50_trip\": 1, \"fastest_trip\": 0, \"car_duration_hours\": 0.33, \"competitive_route\": 1, \"bus_multiplier\": 1.12, \"bus_difference\": 2.4, \"num_trips\": 26, \"num_competitive\": 26, \"pct_trips_competitive\": 1.0, \"bus_difference_spread\": 7.799999999999999, \"route_group\": \"short\", \"max_trip_hrs\": 0.5, \"max_trip_route_group\": 0.5, \"below_cutoff\": 26, \"pct_below_cutoff\": 1.0, \"name\": \"Redding Area Bus Authority\", \"caltrans_district\": \"02 - Redding\", \"drmt_organization_name\": null, \"route_name\": null, \"cutoff2\": 20, \"cutoff\": 2}, {\"calitp_itp_id\": 259, \"trip_key\": -4238453835901529235, \"trip_id\": \"t_887257_b_18260_tn_8\", \"shape_id\": \"p_788072\", \"route_id\": \"154\", \"service_hours\": 0.37, \"trip_first_departure_ts\": 48000, \"trip_last_arrival_ts\": 49320, \"departure_hour\": 13, \"time_of_day\": \"Midday\", \"p25\": 0.37, \"p50\": 0.435, \"p75\": 0.5, \"p50_trip\": 1, \"fastest_trip\": 0, \"car_duration_hours\": 0.33, \"competitive_route\": 1, \"bus_multiplier\": 1.12, \"bus_difference\": 2.4, \"num_trips\": 26, \"num_competitive\": 26, \"pct_trips_competitive\": 1.0, \"bus_difference_spread\": 7.799999999999999, \"route_group\": \"short\", \"max_trip_hrs\": 0.5, \"max_trip_route_group\": 0.5, \"below_cutoff\": 26, \"pct_below_cutoff\": 1.0, \"name\": \"Redding Area Bus Authority\", \"caltrans_district\": \"02 - Redding\", \"drmt_organization_name\": null, \"route_name\": null, \"cutoff2\": 20, \"cutoff\": 2}, {\"calitp_itp_id\": 259, \"trip_key\": -4277647387071060173, \"trip_id\": \"t_887257_b_18260_tn_7\", \"shape_id\": \"p_788072\", \"route_id\": \"154\", \"service_hours\": 0.37, \"trip_first_departure_ts\": 44400, \"trip_last_arrival_ts\": 45720, \"departure_hour\": 12, \"time_of_day\": \"Midday\", \"p25\": 0.37, \"p50\": 0.435, \"p75\": 0.5, \"p50_trip\": 1, \"fastest_trip\": 0, \"car_duration_hours\": 0.33, \"competitive_route\": 1, \"bus_multiplier\": 1.12, \"bus_difference\": 2.4, \"num_trips\": 26, \"num_competitive\": 26, \"pct_trips_competitive\": 1.0, \"bus_difference_spread\": 7.799999999999999, \"route_group\": \"short\", \"max_trip_hrs\": 0.5, \"max_trip_route_group\": 0.5, \"below_cutoff\": 26, \"pct_below_cutoff\": 1.0, \"name\": \"Redding Area Bus Authority\", \"caltrans_district\": \"02 - Redding\", \"drmt_organization_name\": null, \"route_name\": null, \"cutoff2\": 20, \"cutoff\": 2}, {\"calitp_itp_id\": 259, \"trip_key\": -2100156530461400594, \"trip_id\": \"t_887257_b_18260_tn_1\", \"shape_id\": \"p_788072\", \"route_id\": \"154\", \"service_hours\": 0.37, \"trip_first_departure_ts\": 22800, \"trip_last_arrival_ts\": 24120, \"departure_hour\": 6, \"time_of_day\": \"Owl Service\", \"p25\": 0.37, \"p50\": 0.435, \"p75\": 0.5, \"p50_trip\": 1, \"fastest_trip\": 0, \"car_duration_hours\": 0.33, \"competitive_route\": 1, \"bus_multiplier\": 1.12, \"bus_difference\": 2.4, \"num_trips\": 26, \"num_competitive\": 26, \"pct_trips_competitive\": 1.0, \"bus_difference_spread\": 7.799999999999999, \"route_group\": \"short\", \"max_trip_hrs\": 0.5, \"max_trip_route_group\": 0.5, \"below_cutoff\": 26, \"pct_below_cutoff\": 1.0, \"name\": \"Redding Area Bus Authority\", \"caltrans_district\": \"02 - Redding\", \"drmt_organization_name\": null, \"route_name\": null, \"cutoff2\": 20, \"cutoff\": 2}, {\"calitp_itp_id\": 259, \"trip_key\": 6008989736451949625, \"trip_id\": \"t_887258_b_18260_tn_1\", \"shape_id\": \"p_788073\", \"route_id\": \"154\", \"service_hours\": 0.5, \"trip_first_departure_ts\": 24300, \"trip_last_arrival_ts\": 26100, \"departure_hour\": 6, \"time_of_day\": \"Owl Service\", \"p25\": 0.37, \"p50\": 0.435, \"p75\": 0.5, \"p50_trip\": 1, \"fastest_trip\": 0, \"car_duration_hours\": 0.33, \"competitive_route\": 1, \"bus_multiplier\": 1.52, \"bus_difference\": 10.2, \"num_trips\": 26, \"num_competitive\": 26, \"pct_trips_competitive\": 1.0, \"bus_difference_spread\": 7.799999999999999, \"route_group\": \"short\", \"max_trip_hrs\": 0.5, \"max_trip_route_group\": 0.5, \"below_cutoff\": 26, \"pct_below_cutoff\": 1.0, \"name\": \"Redding Area Bus Authority\", \"caltrans_district\": \"02 - Redding\", \"drmt_organization_name\": null, \"route_name\": null, \"cutoff2\": 20, \"cutoff\": 2}, {\"calitp_itp_id\": 259, \"trip_key\": -656637532164773294, \"trip_id\": \"t_887258_b_18260_tn_10\", \"shape_id\": \"p_788073\", \"route_id\": \"154\", \"service_hours\": 0.5, \"trip_first_departure_ts\": 56700, \"trip_last_arrival_ts\": 58500, \"departure_hour\": 15, \"time_of_day\": \"Midday\", \"p25\": 0.37, \"p50\": 0.435, \"p75\": 0.5, \"p50_trip\": 1, \"fastest_trip\": 0, \"car_duration_hours\": 0.33, \"competitive_route\": 1, \"bus_multiplier\": 1.52, \"bus_difference\": 10.2, \"num_trips\": 26, \"num_competitive\": 26, \"pct_trips_competitive\": 1.0, \"bus_difference_spread\": 7.799999999999999, \"route_group\": \"short\", \"max_trip_hrs\": 0.5, \"max_trip_route_group\": 0.5, \"below_cutoff\": 26, \"pct_below_cutoff\": 1.0, \"name\": \"Redding Area Bus Authority\", \"caltrans_district\": \"02 - Redding\", \"drmt_organization_name\": null, \"route_name\": null, \"cutoff2\": 20, \"cutoff\": 2}, {\"calitp_itp_id\": 259, \"trip_key\": -1124285157628187948, \"trip_id\": \"t_887258_b_18260_tn_6\", \"shape_id\": \"p_788073\", \"route_id\": \"154\", \"service_hours\": 0.5, \"trip_first_departure_ts\": 42300, \"trip_last_arrival_ts\": 44100, \"departure_hour\": 11, \"time_of_day\": \"Midday\", \"p25\": 0.37, \"p50\": 0.435, \"p75\": 0.5, \"p50_trip\": 1, \"fastest_trip\": 0, \"car_duration_hours\": 0.33, \"competitive_route\": 1, \"bus_multiplier\": 1.52, \"bus_difference\": 10.2, \"num_trips\": 26, \"num_competitive\": 26, \"pct_trips_competitive\": 1.0, \"bus_difference_spread\": 7.799999999999999, \"route_group\": \"short\", \"max_trip_hrs\": 0.5, \"max_trip_route_group\": 0.5, \"below_cutoff\": 26, \"pct_below_cutoff\": 1.0, \"name\": \"Redding Area Bus Authority\", \"caltrans_district\": \"02 - Redding\", \"drmt_organization_name\": null, \"route_name\": null, \"cutoff2\": 20, \"cutoff\": 2}, {\"calitp_itp_id\": 259, \"trip_key\": -2947980731544259694, \"trip_id\": \"t_887258_b_18260_tn_7\", \"shape_id\": \"p_788073\", \"route_id\": \"154\", \"service_hours\": 0.5, \"trip_first_departure_ts\": 45900, \"trip_last_arrival_ts\": 47700, \"departure_hour\": 12, \"time_of_day\": \"Midday\", \"p25\": 0.37, \"p50\": 0.435, \"p75\": 0.5, \"p50_trip\": 1, \"fastest_trip\": 0, \"car_duration_hours\": 0.33, \"competitive_route\": 1, \"bus_multiplier\": 1.52, \"bus_difference\": 10.2, \"num_trips\": 26, \"num_competitive\": 26, \"pct_trips_competitive\": 1.0, \"bus_difference_spread\": 7.799999999999999, \"route_group\": \"short\", \"max_trip_hrs\": 0.5, \"max_trip_route_group\": 0.5, \"below_cutoff\": 26, \"pct_below_cutoff\": 1.0, \"name\": \"Redding Area Bus Authority\", \"caltrans_district\": \"02 - Redding\", \"drmt_organization_name\": null, \"route_name\": null, \"cutoff2\": 20, \"cutoff\": 2}, {\"calitp_itp_id\": 259, \"trip_key\": -3128851391519526907, \"trip_id\": \"t_887258_b_18260_tn_3\", \"shape_id\": \"p_788073\", \"route_id\": \"154\", \"service_hours\": 0.5, \"trip_first_departure_ts\": 31500, \"trip_last_arrival_ts\": 33300, \"departure_hour\": 8, \"time_of_day\": \"AM Peak\", \"p25\": 0.37, \"p50\": 0.435, \"p75\": 0.5, \"p50_trip\": 1, \"fastest_trip\": 0, \"car_duration_hours\": 0.33, \"competitive_route\": 1, \"bus_multiplier\": 1.52, \"bus_difference\": 10.2, \"num_trips\": 26, \"num_competitive\": 26, \"pct_trips_competitive\": 1.0, \"bus_difference_spread\": 7.799999999999999, \"route_group\": \"short\", \"max_trip_hrs\": 0.5, \"max_trip_route_group\": 0.5, \"below_cutoff\": 26, \"pct_below_cutoff\": 1.0, \"name\": \"Redding Area Bus Authority\", \"caltrans_district\": \"02 - Redding\", \"drmt_organization_name\": null, \"route_name\": null, \"cutoff2\": 20, \"cutoff\": 2}, {\"calitp_itp_id\": 259, \"trip_key\": 2452781051441065514, \"trip_id\": \"t_887258_b_18260_tn_13\", \"shape_id\": \"p_788073\", \"route_id\": \"154\", \"service_hours\": 0.5, \"trip_first_departure_ts\": 67500, \"trip_last_arrival_ts\": 69300, \"departure_hour\": 18, \"time_of_day\": \"PM Peak\", \"p25\": 0.37, \"p50\": 0.435, \"p75\": 0.5, \"p50_trip\": 1, \"fastest_trip\": 0, \"car_duration_hours\": 0.33, \"competitive_route\": 1, \"bus_multiplier\": 1.52, \"bus_difference\": 10.2, \"num_trips\": 26, \"num_competitive\": 26, \"pct_trips_competitive\": 1.0, \"bus_difference_spread\": 7.799999999999999, \"route_group\": \"short\", \"max_trip_hrs\": 0.5, \"max_trip_route_group\": 0.5, \"below_cutoff\": 26, \"pct_below_cutoff\": 1.0, \"name\": \"Redding Area Bus Authority\", \"caltrans_district\": \"02 - Redding\", \"drmt_organization_name\": null, \"route_name\": null, \"cutoff2\": 20, \"cutoff\": 2}, {\"calitp_itp_id\": 259, \"trip_key\": 3477062907006470734, \"trip_id\": \"t_887258_b_18260_tn_5\", \"shape_id\": \"p_788073\", \"route_id\": \"154\", \"service_hours\": 0.5, \"trip_first_departure_ts\": 38700, \"trip_last_arrival_ts\": 40500, \"departure_hour\": 10, \"time_of_day\": \"Midday\", \"p25\": 0.37, \"p50\": 0.435, \"p75\": 0.5, \"p50_trip\": 1, \"fastest_trip\": 0, \"car_duration_hours\": 0.33, \"competitive_route\": 1, \"bus_multiplier\": 1.52, \"bus_difference\": 10.2, \"num_trips\": 26, \"num_competitive\": 26, \"pct_trips_competitive\": 1.0, \"bus_difference_spread\": 7.799999999999999, \"route_group\": \"short\", \"max_trip_hrs\": 0.5, \"max_trip_route_group\": 0.5, \"below_cutoff\": 26, \"pct_below_cutoff\": 1.0, \"name\": \"Redding Area Bus Authority\", \"caltrans_district\": \"02 - Redding\", \"drmt_organization_name\": null, \"route_name\": null, \"cutoff2\": 20, \"cutoff\": 2}, {\"calitp_itp_id\": 259, \"trip_key\": -2755901596584880623, \"trip_id\": \"t_887258_b_18260_tn_2\", \"shape_id\": \"p_788073\", \"route_id\": \"154\", \"service_hours\": 0.5, \"trip_first_departure_ts\": 27900, \"trip_last_arrival_ts\": 29700, \"departure_hour\": 7, \"time_of_day\": \"AM Peak\", \"p25\": 0.37, \"p50\": 0.435, \"p75\": 0.5, \"p50_trip\": 1, \"fastest_trip\": 0, \"car_duration_hours\": 0.33, \"competitive_route\": 1, \"bus_multiplier\": 1.52, \"bus_difference\": 10.2, \"num_trips\": 26, \"num_competitive\": 26, \"pct_trips_competitive\": 1.0, \"bus_difference_spread\": 7.799999999999999, \"route_group\": \"short\", \"max_trip_hrs\": 0.5, \"max_trip_route_group\": 0.5, \"below_cutoff\": 26, \"pct_below_cutoff\": 1.0, \"name\": \"Redding Area Bus Authority\", \"caltrans_district\": \"02 - Redding\", \"drmt_organization_name\": null, \"route_name\": null, \"cutoff2\": 20, \"cutoff\": 2}, {\"calitp_itp_id\": 259, \"trip_key\": 1454486581523869496, \"trip_id\": \"t_887258_b_18260_tn_12\", \"shape_id\": \"p_788073\", \"route_id\": \"154\", \"service_hours\": 0.5, \"trip_first_departure_ts\": 63900, \"trip_last_arrival_ts\": 65700, \"departure_hour\": 17, \"time_of_day\": \"PM Peak\", \"p25\": 0.37, \"p50\": 0.435, \"p75\": 0.5, \"p50_trip\": 1, \"fastest_trip\": 0, \"car_duration_hours\": 0.33, \"competitive_route\": 1, \"bus_multiplier\": 1.52, \"bus_difference\": 10.2, \"num_trips\": 26, \"num_competitive\": 26, \"pct_trips_competitive\": 1.0, \"bus_difference_spread\": 7.799999999999999, \"route_group\": \"short\", \"max_trip_hrs\": 0.5, \"max_trip_route_group\": 0.5, \"below_cutoff\": 26, \"pct_below_cutoff\": 1.0, \"name\": \"Redding Area Bus Authority\", \"caltrans_district\": \"02 - Redding\", \"drmt_organization_name\": null, \"route_name\": null, \"cutoff2\": 20, \"cutoff\": 2}, {\"calitp_itp_id\": 259, \"trip_key\": 2960130700103111954, \"trip_id\": \"t_887258_b_18260_tn_4\", \"shape_id\": \"p_788073\", \"route_id\": \"154\", \"service_hours\": 0.5, \"trip_first_departure_ts\": 35100, \"trip_last_arrival_ts\": 36900, \"departure_hour\": 9, \"time_of_day\": \"AM Peak\", \"p25\": 0.37, \"p50\": 0.435, \"p75\": 0.5, \"p50_trip\": 1, \"fastest_trip\": 0, \"car_duration_hours\": 0.33, \"competitive_route\": 1, \"bus_multiplier\": 1.52, \"bus_difference\": 10.2, \"num_trips\": 26, \"num_competitive\": 26, \"pct_trips_competitive\": 1.0, \"bus_difference_spread\": 7.799999999999999, \"route_group\": \"short\", \"max_trip_hrs\": 0.5, \"max_trip_route_group\": 0.5, \"below_cutoff\": 26, \"pct_below_cutoff\": 1.0, \"name\": \"Redding Area Bus Authority\", \"caltrans_district\": \"02 - Redding\", \"drmt_organization_name\": null, \"route_name\": null, \"cutoff2\": 20, \"cutoff\": 2}, {\"calitp_itp_id\": 259, \"trip_key\": 7765201409208460173, \"trip_id\": \"t_887258_b_18260_tn_11\", \"shape_id\": \"p_788073\", \"route_id\": \"154\", \"service_hours\": 0.5, \"trip_first_departure_ts\": 60300, \"trip_last_arrival_ts\": 62100, \"departure_hour\": 16, \"time_of_day\": \"Midday\", \"p25\": 0.37, \"p50\": 0.435, \"p75\": 0.5, \"p50_trip\": 1, \"fastest_trip\": 0, \"car_duration_hours\": 0.33, \"competitive_route\": 1, \"bus_multiplier\": 1.52, \"bus_difference\": 10.2, \"num_trips\": 26, \"num_competitive\": 26, \"pct_trips_competitive\": 1.0, \"bus_difference_spread\": 7.799999999999999, \"route_group\": \"short\", \"max_trip_hrs\": 0.5, \"max_trip_route_group\": 0.5, \"below_cutoff\": 26, \"pct_below_cutoff\": 1.0, \"name\": \"Redding Area Bus Authority\", \"caltrans_district\": \"02 - Redding\", \"drmt_organization_name\": null, \"route_name\": null, \"cutoff2\": 20, \"cutoff\": 2}, {\"calitp_itp_id\": 259, \"trip_key\": 6267175358330921031, \"trip_id\": \"t_887258_b_18260_tn_8\", \"shape_id\": \"p_788073\", \"route_id\": \"154\", \"service_hours\": 0.5, \"trip_first_departure_ts\": 49500, \"trip_last_arrival_ts\": 51300, \"departure_hour\": 13, \"time_of_day\": \"Midday\", \"p25\": 0.37, \"p50\": 0.435, \"p75\": 0.5, \"p50_trip\": 1, \"fastest_trip\": 0, \"car_duration_hours\": 0.33, \"competitive_route\": 1, \"bus_multiplier\": 1.52, \"bus_difference\": 10.2, \"num_trips\": 26, \"num_competitive\": 26, \"pct_trips_competitive\": 1.0, \"bus_difference_spread\": 7.799999999999999, \"route_group\": \"short\", \"max_trip_hrs\": 0.5, \"max_trip_route_group\": 0.5, \"below_cutoff\": 26, \"pct_below_cutoff\": 1.0, \"name\": \"Redding Area Bus Authority\", \"caltrans_district\": \"02 - Redding\", \"drmt_organization_name\": null, \"route_name\": null, \"cutoff2\": 20, \"cutoff\": 2}, {\"calitp_itp_id\": 259, \"trip_key\": 7215724026817992478, \"trip_id\": \"t_887258_b_18260_tn_9\", \"shape_id\": \"p_788073\", \"route_id\": \"154\", \"service_hours\": 0.5, \"trip_first_departure_ts\": 53100, \"trip_last_arrival_ts\": 54900, \"departure_hour\": 14, \"time_of_day\": \"Midday\", \"p25\": 0.37, \"p50\": 0.435, \"p75\": 0.5, \"p50_trip\": 1, \"fastest_trip\": 0, \"car_duration_hours\": 0.33, \"competitive_route\": 1, \"bus_multiplier\": 1.52, \"bus_difference\": 10.2, \"num_trips\": 26, \"num_competitive\": 26, \"pct_trips_competitive\": 1.0, \"bus_difference_spread\": 7.799999999999999, \"route_group\": \"short\", \"max_trip_hrs\": 0.5, \"max_trip_route_group\": 0.5, \"below_cutoff\": 26, \"pct_below_cutoff\": 1.0, \"name\": \"Redding Area Bus Authority\", \"caltrans_district\": \"02 - Redding\", \"drmt_organization_name\": null, \"route_name\": null, \"cutoff2\": 20, \"cutoff\": 2}, {\"calitp_itp_id\": 259, \"trip_key\": 3152447444512777808, \"trip_id\": \"t_819143_b_18260_tn_6\", \"shape_id\": \"p_2638\", \"route_id\": \"1886\", \"service_hours\": 0.42, \"trip_first_departure_ts\": 64200, \"trip_last_arrival_ts\": 65700, \"departure_hour\": 17, \"time_of_day\": \"PM Peak\", \"p25\": 0.42, \"p50\": 0.45, \"p75\": 0.45, \"p50_trip\": 0, \"fastest_trip\": 1, \"car_duration_hours\": 0.37, \"competitive_route\": 1, \"bus_multiplier\": 1.14, \"bus_difference\": 3.0, \"num_trips\": 13, \"num_competitive\": 13, \"pct_trips_competitive\": 1.0, \"bus_difference_spread\": 1.7999999999999998, \"route_group\": \"short\", \"max_trip_hrs\": 0.45, \"max_trip_route_group\": 0.45, \"below_cutoff\": 13, \"pct_below_cutoff\": 1.0, \"name\": \"Redding Area Bus Authority\", \"caltrans_district\": \"02 - Redding\", \"drmt_organization_name\": null, \"route_name\": \"Route 2 West\", \"cutoff2\": 20, \"cutoff\": 2}, {\"calitp_itp_id\": 259, \"trip_key\": -2236813786240702353, \"trip_id\": \"t_819143_b_18260_tn_1\", \"shape_id\": \"p_2638\", \"route_id\": \"1886\", \"service_hours\": 0.42, \"trip_first_departure_ts\": 28200, \"trip_last_arrival_ts\": 29700, \"departure_hour\": 7, \"time_of_day\": \"AM Peak\", \"p25\": 0.42, \"p50\": 0.45, \"p75\": 0.45, \"p50_trip\": 0, \"fastest_trip\": 0, \"car_duration_hours\": 0.37, \"competitive_route\": 1, \"bus_multiplier\": 1.14, \"bus_difference\": 3.0, \"num_trips\": 13, \"num_competitive\": 13, \"pct_trips_competitive\": 1.0, \"bus_difference_spread\": 1.7999999999999998, \"route_group\": \"short\", \"max_trip_hrs\": 0.45, \"max_trip_route_group\": 0.45, \"below_cutoff\": 13, \"pct_below_cutoff\": 1.0, \"name\": \"Redding Area Bus Authority\", \"caltrans_district\": \"02 - Redding\", \"drmt_organization_name\": null, \"route_name\": \"Route 2 West\", \"cutoff2\": 20, \"cutoff\": 2}, {\"calitp_itp_id\": 259, \"trip_key\": 8678687280237402354, \"trip_id\": \"t_819143_b_18260_tn_4\", \"shape_id\": \"p_2638\", \"route_id\": \"1886\", \"service_hours\": 0.42, \"trip_first_departure_ts\": 49800, \"trip_last_arrival_ts\": 51300, \"departure_hour\": 13, \"time_of_day\": \"Midday\", \"p25\": 0.42, \"p50\": 0.45, \"p75\": 0.45, \"p50_trip\": 0, \"fastest_trip\": 0, \"car_duration_hours\": 0.37, \"competitive_route\": 1, \"bus_multiplier\": 1.14, \"bus_difference\": 3.0, \"num_trips\": 13, \"num_competitive\": 13, \"pct_trips_competitive\": 1.0, \"bus_difference_spread\": 1.7999999999999998, \"route_group\": \"short\", \"max_trip_hrs\": 0.45, \"max_trip_route_group\": 0.45, \"below_cutoff\": 13, \"pct_below_cutoff\": 1.0, \"name\": \"Redding Area Bus Authority\", \"caltrans_district\": \"02 - Redding\", \"drmt_organization_name\": null, \"route_name\": \"Route 2 West\", \"cutoff2\": 20, \"cutoff\": 2}, {\"calitp_itp_id\": 259, \"trip_key\": 5906475941937099558, \"trip_id\": \"t_819143_b_18260_tn_3\", \"shape_id\": \"p_2638\", \"route_id\": \"1886\", \"service_hours\": 0.42, \"trip_first_departure_ts\": 42600, \"trip_last_arrival_ts\": 44100, \"departure_hour\": 11, \"time_of_day\": \"Midday\", \"p25\": 0.42, \"p50\": 0.45, \"p75\": 0.45, \"p50_trip\": 0, \"fastest_trip\": 0, \"car_duration_hours\": 0.37, \"competitive_route\": 1, \"bus_multiplier\": 1.14, \"bus_difference\": 3.0, \"num_trips\": 13, \"num_competitive\": 13, \"pct_trips_competitive\": 1.0, \"bus_difference_spread\": 1.7999999999999998, \"route_group\": \"short\", \"max_trip_hrs\": 0.45, \"max_trip_route_group\": 0.45, \"below_cutoff\": 13, \"pct_below_cutoff\": 1.0, \"name\": \"Redding Area Bus Authority\", \"caltrans_district\": \"02 - Redding\", \"drmt_organization_name\": null, \"route_name\": \"Route 2 West\", \"cutoff2\": 20, \"cutoff\": 2}, {\"calitp_itp_id\": 259, \"trip_key\": -8658051709559997889, \"trip_id\": \"t_819143_b_18260_tn_5\", \"shape_id\": \"p_2638\", \"route_id\": \"1886\", \"service_hours\": 0.42, \"trip_first_departure_ts\": 57000, \"trip_last_arrival_ts\": 58500, \"departure_hour\": 15, \"time_of_day\": \"Midday\", \"p25\": 0.42, \"p50\": 0.45, \"p75\": 0.45, \"p50_trip\": 0, \"fastest_trip\": 0, \"car_duration_hours\": 0.37, \"competitive_route\": 1, \"bus_multiplier\": 1.14, \"bus_difference\": 3.0, \"num_trips\": 13, \"num_competitive\": 13, \"pct_trips_competitive\": 1.0, \"bus_difference_spread\": 1.7999999999999998, \"route_group\": \"short\", \"max_trip_hrs\": 0.45, \"max_trip_route_group\": 0.45, \"below_cutoff\": 13, \"pct_below_cutoff\": 1.0, \"name\": \"Redding Area Bus Authority\", \"caltrans_district\": \"02 - Redding\", \"drmt_organization_name\": null, \"route_name\": \"Route 2 West\", \"cutoff2\": 20, \"cutoff\": 2}, {\"calitp_itp_id\": 259, \"trip_key\": 337682625766689229, \"trip_id\": \"t_819143_b_18260_tn_2\", \"shape_id\": \"p_2638\", \"route_id\": \"1886\", \"service_hours\": 0.42, \"trip_first_departure_ts\": 35400, \"trip_last_arrival_ts\": 36900, \"departure_hour\": 9, \"time_of_day\": \"AM Peak\", \"p25\": 0.42, \"p50\": 0.45, \"p75\": 0.45, \"p50_trip\": 0, \"fastest_trip\": 0, \"car_duration_hours\": 0.37, \"competitive_route\": 1, \"bus_multiplier\": 1.14, \"bus_difference\": 3.0, \"num_trips\": 13, \"num_competitive\": 13, \"pct_trips_competitive\": 1.0, \"bus_difference_spread\": 1.7999999999999998, \"route_group\": \"short\", \"max_trip_hrs\": 0.45, \"max_trip_route_group\": 0.45, \"below_cutoff\": 13, \"pct_below_cutoff\": 1.0, \"name\": \"Redding Area Bus Authority\", \"caltrans_district\": \"02 - Redding\", \"drmt_organization_name\": null, \"route_name\": \"Route 2 West\", \"cutoff2\": 20, \"cutoff\": 2}, {\"calitp_itp_id\": 259, \"trip_key\": 5311922238896118739, \"trip_id\": \"t_819142_b_18260_tn_3\", \"shape_id\": \"p_2628\", \"route_id\": \"1886\", \"service_hours\": 0.45, \"trip_first_departure_ts\": 39000, \"trip_last_arrival_ts\": 40620, \"departure_hour\": 10, \"time_of_day\": \"Midday\", \"p25\": 0.42, \"p50\": 0.45, \"p75\": 0.45, \"p50_trip\": 1, \"fastest_trip\": 0, \"car_duration_hours\": 0.37, \"competitive_route\": 1, \"bus_multiplier\": 1.22, \"bus_difference\": 4.8, \"num_trips\": 13, \"num_competitive\": 13, \"pct_trips_competitive\": 1.0, \"bus_difference_spread\": 1.7999999999999998, \"route_group\": \"short\", \"max_trip_hrs\": 0.45, \"max_trip_route_group\": 0.45, \"below_cutoff\": 13, \"pct_below_cutoff\": 1.0, \"name\": \"Redding Area Bus Authority\", \"caltrans_district\": \"02 - Redding\", \"drmt_organization_name\": null, \"route_name\": \"Route 2 West\", \"cutoff2\": 20, \"cutoff\": 2}, {\"calitp_itp_id\": 259, \"trip_key\": -7550713547101458317, \"trip_id\": \"t_819142_b_18260_tn_4\", \"shape_id\": \"p_2628\", \"route_id\": \"1886\", \"service_hours\": 0.45, \"trip_first_departure_ts\": 46200, \"trip_last_arrival_ts\": 47820, \"departure_hour\": 12, \"time_of_day\": \"Midday\", \"p25\": 0.42, \"p50\": 0.45, \"p75\": 0.45, \"p50_trip\": 1, \"fastest_trip\": 0, \"car_duration_hours\": 0.37, \"competitive_route\": 1, \"bus_multiplier\": 1.22, \"bus_difference\": 4.8, \"num_trips\": 13, \"num_competitive\": 13, \"pct_trips_competitive\": 1.0, \"bus_difference_spread\": 1.7999999999999998, \"route_group\": \"short\", \"max_trip_hrs\": 0.45, \"max_trip_route_group\": 0.45, \"below_cutoff\": 13, \"pct_below_cutoff\": 1.0, \"name\": \"Redding Area Bus Authority\", \"caltrans_district\": \"02 - Redding\", \"drmt_organization_name\": null, \"route_name\": \"Route 2 West\", \"cutoff2\": 20, \"cutoff\": 2}, {\"calitp_itp_id\": 259, \"trip_key\": 4456872241718230343, \"trip_id\": \"t_819142_b_18260_tn_5\", \"shape_id\": \"p_2628\", \"route_id\": \"1886\", \"service_hours\": 0.45, \"trip_first_departure_ts\": 53400, \"trip_last_arrival_ts\": 55020, \"departure_hour\": 14, \"time_of_day\": \"Midday\", \"p25\": 0.42, \"p50\": 0.45, \"p75\": 0.45, \"p50_trip\": 1, \"fastest_trip\": 0, \"car_duration_hours\": 0.37, \"competitive_route\": 1, \"bus_multiplier\": 1.22, \"bus_difference\": 4.8, \"num_trips\": 13, \"num_competitive\": 13, \"pct_trips_competitive\": 1.0, \"bus_difference_spread\": 1.7999999999999998, \"route_group\": \"short\", \"max_trip_hrs\": 0.45, \"max_trip_route_group\": 0.45, \"below_cutoff\": 13, \"pct_below_cutoff\": 1.0, \"name\": \"Redding Area Bus Authority\", \"caltrans_district\": \"02 - Redding\", \"drmt_organization_name\": null, \"route_name\": \"Route 2 West\", \"cutoff2\": 20, \"cutoff\": 2}, {\"calitp_itp_id\": 259, \"trip_key\": 3193380454791831162, \"trip_id\": \"t_819142_b_18260_tn_2\", \"shape_id\": \"p_2628\", \"route_id\": \"1886\", \"service_hours\": 0.45, \"trip_first_departure_ts\": 31800, \"trip_last_arrival_ts\": 33420, \"departure_hour\": 8, \"time_of_day\": \"AM Peak\", \"p25\": 0.42, \"p50\": 0.45, \"p75\": 0.45, \"p50_trip\": 1, \"fastest_trip\": 0, \"car_duration_hours\": 0.37, \"competitive_route\": 1, \"bus_multiplier\": 1.22, \"bus_difference\": 4.8, \"num_trips\": 13, \"num_competitive\": 13, \"pct_trips_competitive\": 1.0, \"bus_difference_spread\": 1.7999999999999998, \"route_group\": \"short\", \"max_trip_hrs\": 0.45, \"max_trip_route_group\": 0.45, \"below_cutoff\": 13, \"pct_below_cutoff\": 1.0, \"name\": \"Redding Area Bus Authority\", \"caltrans_district\": \"02 - Redding\", \"drmt_organization_name\": null, \"route_name\": \"Route 2 West\", \"cutoff2\": 20, \"cutoff\": 2}, {\"calitp_itp_id\": 259, \"trip_key\": -3263311129297506891, \"trip_id\": \"t_819142_b_18260_tn_6\", \"shape_id\": \"p_2628\", \"route_id\": \"1886\", \"service_hours\": 0.45, \"trip_first_departure_ts\": 60600, \"trip_last_arrival_ts\": 62220, \"departure_hour\": 16, \"time_of_day\": \"Midday\", \"p25\": 0.42, \"p50\": 0.45, \"p75\": 0.45, \"p50_trip\": 1, \"fastest_trip\": 0, \"car_duration_hours\": 0.37, \"competitive_route\": 1, \"bus_multiplier\": 1.22, \"bus_difference\": 4.8, \"num_trips\": 13, \"num_competitive\": 13, \"pct_trips_competitive\": 1.0, \"bus_difference_spread\": 1.7999999999999998, \"route_group\": \"short\", \"max_trip_hrs\": 0.45, \"max_trip_route_group\": 0.45, \"below_cutoff\": 13, \"pct_below_cutoff\": 1.0, \"name\": \"Redding Area Bus Authority\", \"caltrans_district\": \"02 - Redding\", \"drmt_organization_name\": null, \"route_name\": \"Route 2 West\", \"cutoff2\": 20, \"cutoff\": 2}, {\"calitp_itp_id\": 259, \"trip_key\": 6948657367198129512, \"trip_id\": \"t_819142_b_18260_tn_7\", \"shape_id\": \"p_2628\", \"route_id\": \"1886\", \"service_hours\": 0.45, \"trip_first_departure_ts\": 67800, \"trip_last_arrival_ts\": 69420, \"departure_hour\": 18, \"time_of_day\": \"PM Peak\", \"p25\": 0.42, \"p50\": 0.45, \"p75\": 0.45, \"p50_trip\": 1, \"fastest_trip\": 0, \"car_duration_hours\": 0.37, \"competitive_route\": 1, \"bus_multiplier\": 1.22, \"bus_difference\": 4.8, \"num_trips\": 13, \"num_competitive\": 13, \"pct_trips_competitive\": 1.0, \"bus_difference_spread\": 1.7999999999999998, \"route_group\": \"short\", \"max_trip_hrs\": 0.45, \"max_trip_route_group\": 0.45, \"below_cutoff\": 13, \"pct_below_cutoff\": 1.0, \"name\": \"Redding Area Bus Authority\", \"caltrans_district\": \"02 - Redding\", \"drmt_organization_name\": null, \"route_name\": \"Route 2 West\", \"cutoff2\": 20, \"cutoff\": 2}, {\"calitp_itp_id\": 259, \"trip_key\": -5506794380338047939, \"trip_id\": \"t_819142_b_18260_tn_1\", \"shape_id\": \"p_2628\", \"route_id\": \"1886\", \"service_hours\": 0.45, \"trip_first_departure_ts\": 24600, \"trip_last_arrival_ts\": 26220, \"departure_hour\": 6, \"time_of_day\": \"Owl Service\", \"p25\": 0.42, \"p50\": 0.45, \"p75\": 0.45, \"p50_trip\": 1, \"fastest_trip\": 0, \"car_duration_hours\": 0.37, \"competitive_route\": 1, \"bus_multiplier\": 1.22, \"bus_difference\": 4.8, \"num_trips\": 13, \"num_competitive\": 13, \"pct_trips_competitive\": 1.0, \"bus_difference_spread\": 1.7999999999999998, \"route_group\": \"short\", \"max_trip_hrs\": 0.45, \"max_trip_route_group\": 0.45, \"below_cutoff\": 13, \"pct_below_cutoff\": 1.0, \"name\": \"Redding Area Bus Authority\", \"caltrans_district\": \"02 - Redding\", \"drmt_organization_name\": null, \"route_name\": \"Route 2 West\", \"cutoff2\": 20, \"cutoff\": 2}, {\"calitp_itp_id\": 259, \"trip_key\": -2582351492021719363, \"trip_id\": \"t_74144_b_18260_tn_6\", \"shape_id\": \"p_2631\", \"route_id\": \"1887\", \"service_hours\": 0.45, \"trip_first_departure_ts\": 40800, \"trip_last_arrival_ts\": 42420, \"departure_hour\": 11, \"time_of_day\": \"Midday\", \"p25\": 0.45, \"p50\": 0.45, \"p75\": 0.45, \"p50_trip\": 1, \"fastest_trip\": 0, \"car_duration_hours\": 0.26, \"competitive_route\": 1, \"bus_multiplier\": 1.73, \"bus_difference\": 11.4, \"num_trips\": 13, \"num_competitive\": 13, \"pct_trips_competitive\": 1.0, \"bus_difference_spread\": 0.0, \"route_group\": \"short\", \"max_trip_hrs\": 0.45, \"max_trip_route_group\": 0.45, \"below_cutoff\": 13, \"pct_below_cutoff\": 1.0, \"name\": \"Redding Area Bus Authority\", \"caltrans_district\": \"02 - Redding\", \"drmt_organization_name\": null, \"route_name\": \"Route 2 East\", \"cutoff2\": 20, \"cutoff\": 2}, {\"calitp_itp_id\": 259, \"trip_key\": -3706694464223885964, \"trip_id\": \"t_74144_b_18260_tn_3\", \"shape_id\": \"p_2631\", \"route_id\": \"1887\", \"service_hours\": 0.45, \"trip_first_departure_ts\": 30000, \"trip_last_arrival_ts\": 31620, \"departure_hour\": 8, \"time_of_day\": \"AM Peak\", \"p25\": 0.45, \"p50\": 0.45, \"p75\": 0.45, \"p50_trip\": 1, \"fastest_trip\": 0, \"car_duration_hours\": 0.26, \"competitive_route\": 1, \"bus_multiplier\": 1.73, \"bus_difference\": 11.4, \"num_trips\": 13, \"num_competitive\": 13, \"pct_trips_competitive\": 1.0, \"bus_difference_spread\": 0.0, \"route_group\": \"short\", \"max_trip_hrs\": 0.45, \"max_trip_route_group\": 0.45, \"below_cutoff\": 13, \"pct_below_cutoff\": 1.0, \"name\": \"Redding Area Bus Authority\", \"caltrans_district\": \"02 - Redding\", \"drmt_organization_name\": null, \"route_name\": \"Route 2 East\", \"cutoff2\": 20, \"cutoff\": 2}, {\"calitp_itp_id\": 259, \"trip_key\": 3393295344213950212, \"trip_id\": \"t_74144_b_18260_tn_4\", \"shape_id\": \"p_2631\", \"route_id\": \"1887\", \"service_hours\": 0.45, \"trip_first_departure_ts\": 33600, \"trip_last_arrival_ts\": 35220, \"departure_hour\": 9, \"time_of_day\": \"AM Peak\", \"p25\": 0.45, \"p50\": 0.45, \"p75\": 0.45, \"p50_trip\": 1, \"fastest_trip\": 0, \"car_duration_hours\": 0.26, \"competitive_route\": 1, \"bus_multiplier\": 1.73, \"bus_difference\": 11.4, \"num_trips\": 13, \"num_competitive\": 13, \"pct_trips_competitive\": 1.0, \"bus_difference_spread\": 0.0, \"route_group\": \"short\", \"max_trip_hrs\": 0.45, \"max_trip_route_group\": 0.45, \"below_cutoff\": 13, \"pct_below_cutoff\": 1.0, \"name\": \"Redding Area Bus Authority\", \"caltrans_district\": \"02 - Redding\", \"drmt_organization_name\": null, \"route_name\": \"Route 2 East\", \"cutoff2\": 20, \"cutoff\": 2}, {\"calitp_itp_id\": 259, \"trip_key\": -4499988207329136117, \"trip_id\": \"t_74144_b_18260_tn_7\", \"shape_id\": \"p_2631\", \"route_id\": \"1887\", \"service_hours\": 0.45, \"trip_first_departure_ts\": 44400, \"trip_last_arrival_ts\": 46020, \"departure_hour\": 12, \"time_of_day\": \"Midday\", \"p25\": 0.45, \"p50\": 0.45, \"p75\": 0.45, \"p50_trip\": 1, \"fastest_trip\": 0, \"car_duration_hours\": 0.26, \"competitive_route\": 1, \"bus_multiplier\": 1.73, \"bus_difference\": 11.4, \"num_trips\": 13, \"num_competitive\": 13, \"pct_trips_competitive\": 1.0, \"bus_difference_spread\": 0.0, \"route_group\": \"short\", \"max_trip_hrs\": 0.45, \"max_trip_route_group\": 0.45, \"below_cutoff\": 13, \"pct_below_cutoff\": 1.0, \"name\": \"Redding Area Bus Authority\", \"caltrans_district\": \"02 - Redding\", \"drmt_organization_name\": null, \"route_name\": \"Route 2 East\", \"cutoff2\": 20, \"cutoff\": 2}, {\"calitp_itp_id\": 259, \"trip_key\": 2496553697750787698, \"trip_id\": \"t_74144_b_18260_tn_13\", \"shape_id\": \"p_2631\", \"route_id\": \"1887\", \"service_hours\": 0.45, \"trip_first_departure_ts\": 66000, \"trip_last_arrival_ts\": 67620, \"departure_hour\": 18, \"time_of_day\": \"PM Peak\", \"p25\": 0.45, \"p50\": 0.45, \"p75\": 0.45, \"p50_trip\": 1, \"fastest_trip\": 1, \"car_duration_hours\": 0.26, \"competitive_route\": 1, \"bus_multiplier\": 1.73, \"bus_difference\": 11.4, \"num_trips\": 13, \"num_competitive\": 13, \"pct_trips_competitive\": 1.0, \"bus_difference_spread\": 0.0, \"route_group\": \"short\", \"max_trip_hrs\": 0.45, \"max_trip_route_group\": 0.45, \"below_cutoff\": 13, \"pct_below_cutoff\": 1.0, \"name\": \"Redding Area Bus Authority\", \"caltrans_district\": \"02 - Redding\", \"drmt_organization_name\": null, \"route_name\": \"Route 2 East\", \"cutoff2\": 20, \"cutoff\": 2}, {\"calitp_itp_id\": 259, \"trip_key\": 4951179925292169804, \"trip_id\": \"t_74144_b_18260_tn_2\", \"shape_id\": \"p_2631\", \"route_id\": \"1887\", \"service_hours\": 0.45, \"trip_first_departure_ts\": 26400, \"trip_last_arrival_ts\": 28020, \"departure_hour\": 7, \"time_of_day\": \"AM Peak\", \"p25\": 0.45, \"p50\": 0.45, \"p75\": 0.45, \"p50_trip\": 1, \"fastest_trip\": 0, \"car_duration_hours\": 0.26, \"competitive_route\": 1, \"bus_multiplier\": 1.73, \"bus_difference\": 11.4, \"num_trips\": 13, \"num_competitive\": 13, \"pct_trips_competitive\": 1.0, \"bus_difference_spread\": 0.0, \"route_group\": \"short\", \"max_trip_hrs\": 0.45, \"max_trip_route_group\": 0.45, \"below_cutoff\": 13, \"pct_below_cutoff\": 1.0, \"name\": \"Redding Area Bus Authority\", \"caltrans_district\": \"02 - Redding\", \"drmt_organization_name\": null, \"route_name\": \"Route 2 East\", \"cutoff2\": 20, \"cutoff\": 2}, {\"calitp_itp_id\": 259, \"trip_key\": -3227969548637457775, \"trip_id\": \"t_74144_b_18260_tn_11\", \"shape_id\": \"p_2631\", \"route_id\": \"1887\", \"service_hours\": 0.45, \"trip_first_departure_ts\": 58800, \"trip_last_arrival_ts\": 60420, \"departure_hour\": 16, \"time_of_day\": \"Midday\", \"p25\": 0.45, \"p50\": 0.45, \"p75\": 0.45, \"p50_trip\": 1, \"fastest_trip\": 0, \"car_duration_hours\": 0.26, \"competitive_route\": 1, \"bus_multiplier\": 1.73, \"bus_difference\": 11.4, \"num_trips\": 13, \"num_competitive\": 13, \"pct_trips_competitive\": 1.0, \"bus_difference_spread\": 0.0, \"route_group\": \"short\", \"max_trip_hrs\": 0.45, \"max_trip_route_group\": 0.45, \"below_cutoff\": 13, \"pct_below_cutoff\": 1.0, \"name\": \"Redding Area Bus Authority\", \"caltrans_district\": \"02 - Redding\", \"drmt_organization_name\": null, \"route_name\": \"Route 2 East\", \"cutoff2\": 20, \"cutoff\": 2}, {\"calitp_itp_id\": 259, \"trip_key\": -1249631772884799172, \"trip_id\": \"t_74144_b_18260_tn_9\", \"shape_id\": \"p_2631\", \"route_id\": \"1887\", \"service_hours\": 0.45, \"trip_first_departure_ts\": 51600, \"trip_last_arrival_ts\": 53220, \"departure_hour\": 14, \"time_of_day\": \"Midday\", \"p25\": 0.45, \"p50\": 0.45, \"p75\": 0.45, \"p50_trip\": 1, \"fastest_trip\": 0, \"car_duration_hours\": 0.26, \"competitive_route\": 1, \"bus_multiplier\": 1.73, \"bus_difference\": 11.4, \"num_trips\": 13, \"num_competitive\": 13, \"pct_trips_competitive\": 1.0, \"bus_difference_spread\": 0.0, \"route_group\": \"short\", \"max_trip_hrs\": 0.45, \"max_trip_route_group\": 0.45, \"below_cutoff\": 13, \"pct_below_cutoff\": 1.0, \"name\": \"Redding Area Bus Authority\", \"caltrans_district\": \"02 - Redding\", \"drmt_organization_name\": null, \"route_name\": \"Route 2 East\", \"cutoff2\": 20, \"cutoff\": 2}, {\"calitp_itp_id\": 259, \"trip_key\": -8871832278610187454, \"trip_id\": \"t_74144_b_18260_tn_12\", \"shape_id\": \"p_2631\", \"route_id\": \"1887\", \"service_hours\": 0.45, \"trip_first_departure_ts\": 62400, \"trip_last_arrival_ts\": 64020, \"departure_hour\": 17, \"time_of_day\": \"PM Peak\", \"p25\": 0.45, \"p50\": 0.45, \"p75\": 0.45, \"p50_trip\": 1, \"fastest_trip\": 0, \"car_duration_hours\": 0.26, \"competitive_route\": 1, \"bus_multiplier\": 1.73, \"bus_difference\": 11.4, \"num_trips\": 13, \"num_competitive\": 13, \"pct_trips_competitive\": 1.0, \"bus_difference_spread\": 0.0, \"route_group\": \"short\", \"max_trip_hrs\": 0.45, \"max_trip_route_group\": 0.45, \"below_cutoff\": 13, \"pct_below_cutoff\": 1.0, \"name\": \"Redding Area Bus Authority\", \"caltrans_district\": \"02 - Redding\", \"drmt_organization_name\": null, \"route_name\": \"Route 2 East\", \"cutoff2\": 20, \"cutoff\": 2}, {\"calitp_itp_id\": 259, \"trip_key\": -1985793655546598807, \"trip_id\": \"t_74144_b_18260_tn_10\", \"shape_id\": \"p_2631\", \"route_id\": \"1887\", \"service_hours\": 0.45, \"trip_first_departure_ts\": 55200, \"trip_last_arrival_ts\": 56820, \"departure_hour\": 15, \"time_of_day\": \"Midday\", \"p25\": 0.45, \"p50\": 0.45, \"p75\": 0.45, \"p50_trip\": 1, \"fastest_trip\": 0, \"car_duration_hours\": 0.26, \"competitive_route\": 1, \"bus_multiplier\": 1.73, \"bus_difference\": 11.4, \"num_trips\": 13, \"num_competitive\": 13, \"pct_trips_competitive\": 1.0, \"bus_difference_spread\": 0.0, \"route_group\": \"short\", \"max_trip_hrs\": 0.45, \"max_trip_route_group\": 0.45, \"below_cutoff\": 13, \"pct_below_cutoff\": 1.0, \"name\": \"Redding Area Bus Authority\", \"caltrans_district\": \"02 - Redding\", \"drmt_organization_name\": null, \"route_name\": \"Route 2 East\", \"cutoff2\": 20, \"cutoff\": 2}, {\"calitp_itp_id\": 259, \"trip_key\": 7442328314443052505, \"trip_id\": \"t_74144_b_18260_tn_1\", \"shape_id\": \"p_2631\", \"route_id\": \"1887\", \"service_hours\": 0.45, \"trip_first_departure_ts\": 22800, \"trip_last_arrival_ts\": 24420, \"departure_hour\": 6, \"time_of_day\": \"Owl Service\", \"p25\": 0.45, \"p50\": 0.45, \"p75\": 0.45, \"p50_trip\": 1, \"fastest_trip\": 0, \"car_duration_hours\": 0.26, \"competitive_route\": 1, \"bus_multiplier\": 1.73, \"bus_difference\": 11.4, \"num_trips\": 13, \"num_competitive\": 13, \"pct_trips_competitive\": 1.0, \"bus_difference_spread\": 0.0, \"route_group\": \"short\", \"max_trip_hrs\": 0.45, \"max_trip_route_group\": 0.45, \"below_cutoff\": 13, \"pct_below_cutoff\": 1.0, \"name\": \"Redding Area Bus Authority\", \"caltrans_district\": \"02 - Redding\", \"drmt_organization_name\": null, \"route_name\": \"Route 2 East\", \"cutoff2\": 20, \"cutoff\": 2}, {\"calitp_itp_id\": 259, \"trip_key\": 2882604947291681427, \"trip_id\": \"t_74144_b_18260_tn_8\", \"shape_id\": \"p_2631\", \"route_id\": \"1887\", \"service_hours\": 0.45, \"trip_first_departure_ts\": 48000, \"trip_last_arrival_ts\": 49620, \"departure_hour\": 13, \"time_of_day\": \"Midday\", \"p25\": 0.45, \"p50\": 0.45, \"p75\": 0.45, \"p50_trip\": 1, \"fastest_trip\": 0, \"car_duration_hours\": 0.26, \"competitive_route\": 1, \"bus_multiplier\": 1.73, \"bus_difference\": 11.4, \"num_trips\": 13, \"num_competitive\": 13, \"pct_trips_competitive\": 1.0, \"bus_difference_spread\": 0.0, \"route_group\": \"short\", \"max_trip_hrs\": 0.45, \"max_trip_route_group\": 0.45, \"below_cutoff\": 13, \"pct_below_cutoff\": 1.0, \"name\": \"Redding Area Bus Authority\", \"caltrans_district\": \"02 - Redding\", \"drmt_organization_name\": null, \"route_name\": \"Route 2 East\", \"cutoff2\": 20, \"cutoff\": 2}, {\"calitp_itp_id\": 259, \"trip_key\": -1906391945084483119, \"trip_id\": \"t_74144_b_18260_tn_5\", \"shape_id\": \"p_2631\", \"route_id\": \"1887\", \"service_hours\": 0.45, \"trip_first_departure_ts\": 37200, \"trip_last_arrival_ts\": 38820, \"departure_hour\": 10, \"time_of_day\": \"Midday\", \"p25\": 0.45, \"p50\": 0.45, \"p75\": 0.45, \"p50_trip\": 1, \"fastest_trip\": 0, \"car_duration_hours\": 0.26, \"competitive_route\": 1, \"bus_multiplier\": 1.73, \"bus_difference\": 11.4, \"num_trips\": 13, \"num_competitive\": 13, \"pct_trips_competitive\": 1.0, \"bus_difference_spread\": 0.0, \"route_group\": \"short\", \"max_trip_hrs\": 0.45, \"max_trip_route_group\": 0.45, \"below_cutoff\": 13, \"pct_below_cutoff\": 1.0, \"name\": \"Redding Area Bus Authority\", \"caltrans_district\": \"02 - Redding\", \"drmt_organization_name\": null, \"route_name\": \"Route 2 East\", \"cutoff2\": 20, \"cutoff\": 2}, {\"calitp_itp_id\": 259, \"trip_key\": -5325820395953057667, \"trip_id\": \"t_119394_b_18260_tn_2\", \"shape_id\": \"p_110998\", \"route_id\": \"6446\", \"service_hours\": 0.45, \"trip_first_departure_ts\": 44400, \"trip_last_arrival_ts\": 46020, \"departure_hour\": 12, \"time_of_day\": \"Midday\", \"p25\": 0.45, \"p50\": 0.45, \"p75\": 0.45, \"p50_trip\": 1, \"fastest_trip\": 0, \"car_duration_hours\": 0.32, \"competitive_route\": 1, \"bus_multiplier\": 1.41, \"bus_difference\": 7.8, \"num_trips\": 15, \"num_competitive\": 15, \"pct_trips_competitive\": 1.0, \"bus_difference_spread\": 0.0, \"route_group\": \"short\", \"max_trip_hrs\": 0.45, \"max_trip_route_group\": 0.45, \"below_cutoff\": 15, \"pct_below_cutoff\": 1.0, \"name\": \"Redding Area Bus Authority\", \"caltrans_district\": \"02 - Redding\", \"drmt_organization_name\": null, \"route_name\": null, \"cutoff2\": 20, \"cutoff\": 2}, {\"calitp_itp_id\": 259, \"trip_key\": -4353886752018440376, \"trip_id\": \"t_144778_b_18260_tn_0\", \"shape_id\": \"p_111010\", \"route_id\": \"6446\", \"service_hours\": 0.45, \"trip_first_departure_ts\": 53400, \"trip_last_arrival_ts\": 55020, \"departure_hour\": 14, \"time_of_day\": \"Midday\", \"p25\": 0.45, \"p50\": 0.45, \"p75\": 0.45, \"p50_trip\": 1, \"fastest_trip\": 0, \"car_duration_hours\": 0.32, \"competitive_route\": 1, \"bus_multiplier\": 1.41, \"bus_difference\": 7.8, \"num_trips\": 15, \"num_competitive\": 15, \"pct_trips_competitive\": 1.0, \"bus_difference_spread\": 0.0, \"route_group\": \"short\", \"max_trip_hrs\": 0.45, \"max_trip_route_group\": 0.45, \"below_cutoff\": 15, \"pct_below_cutoff\": 1.0, \"name\": \"Redding Area Bus Authority\", \"caltrans_district\": \"02 - Redding\", \"drmt_organization_name\": null, \"route_name\": null, \"cutoff2\": 20, \"cutoff\": 2}, {\"calitp_itp_id\": 259, \"trip_key\": 3093149604909520977, \"trip_id\": \"t_144779_b_18260_tn_0\", \"shape_id\": \"p_111010\", \"route_id\": \"6446\", \"service_hours\": 0.45, \"trip_first_departure_ts\": 67800, \"trip_last_arrival_ts\": 69420, \"departure_hour\": 18, \"time_of_day\": \"PM Peak\", \"p25\": 0.45, \"p50\": 0.45, \"p75\": 0.45, \"p50_trip\": 1, \"fastest_trip\": 1, \"car_duration_hours\": 0.32, \"competitive_route\": 1, \"bus_multiplier\": 1.41, \"bus_difference\": 7.8, \"num_trips\": 15, \"num_competitive\": 15, \"pct_trips_competitive\": 1.0, \"bus_difference_spread\": 0.0, \"route_group\": \"short\", \"max_trip_hrs\": 0.45, \"max_trip_route_group\": 0.45, \"below_cutoff\": 15, \"pct_below_cutoff\": 1.0, \"name\": \"Redding Area Bus Authority\", \"caltrans_district\": \"02 - Redding\", \"drmt_organization_name\": null, \"route_name\": null, \"cutoff2\": 20, \"cutoff\": 2}, {\"calitp_itp_id\": 259, \"trip_key\": -8484182680555926031, \"trip_id\": \"t_144777_b_18260_tn_2\", \"shape_id\": \"p_111010\", \"route_id\": \"6446\", \"service_hours\": 0.45, \"trip_first_departure_ts\": 42600, \"trip_last_arrival_ts\": 44220, \"departure_hour\": 11, \"time_of_day\": \"Midday\", \"p25\": 0.45, \"p50\": 0.45, \"p75\": 0.45, \"p50_trip\": 1, \"fastest_trip\": 0, \"car_duration_hours\": 0.32, \"competitive_route\": 1, \"bus_multiplier\": 1.41, \"bus_difference\": 7.8, \"num_trips\": 15, \"num_competitive\": 15, \"pct_trips_competitive\": 1.0, \"bus_difference_spread\": 0.0, \"route_group\": \"short\", \"max_trip_hrs\": 0.45, \"max_trip_route_group\": 0.45, \"below_cutoff\": 15, \"pct_below_cutoff\": 1.0, \"name\": \"Redding Area Bus Authority\", \"caltrans_district\": \"02 - Redding\", \"drmt_organization_name\": null, \"route_name\": null, \"cutoff2\": 20, \"cutoff\": 2}, {\"calitp_itp_id\": 259, \"trip_key\": -6661305375460089371, \"trip_id\": \"t_144777_b_18260_tn_3\", \"shape_id\": \"p_111010\", \"route_id\": \"6446\", \"service_hours\": 0.45, \"trip_first_departure_ts\": 49800, \"trip_last_arrival_ts\": 51420, \"departure_hour\": 13, \"time_of_day\": \"Midday\", \"p25\": 0.45, \"p50\": 0.45, \"p75\": 0.45, \"p50_trip\": 1, \"fastest_trip\": 0, \"car_duration_hours\": 0.32, \"competitive_route\": 1, \"bus_multiplier\": 1.41, \"bus_difference\": 7.8, \"num_trips\": 15, \"num_competitive\": 15, \"pct_trips_competitive\": 1.0, \"bus_difference_spread\": 0.0, \"route_group\": \"short\", \"max_trip_hrs\": 0.45, \"max_trip_route_group\": 0.45, \"below_cutoff\": 15, \"pct_below_cutoff\": 1.0, \"name\": \"Redding Area Bus Authority\", \"caltrans_district\": \"02 - Redding\", \"drmt_organization_name\": null, \"route_name\": null, \"cutoff2\": 20, \"cutoff\": 2}, {\"calitp_itp_id\": 259, \"trip_key\": -1949181329910803879, \"trip_id\": \"t_144777_b_18260_tn_4\", \"shape_id\": \"p_111010\", \"route_id\": \"6446\", \"service_hours\": 0.45, \"trip_first_departure_ts\": 57000, \"trip_last_arrival_ts\": 58620, \"departure_hour\": 15, \"time_of_day\": \"Midday\", \"p25\": 0.45, \"p50\": 0.45, \"p75\": 0.45, \"p50_trip\": 1, \"fastest_trip\": 0, \"car_duration_hours\": 0.32, \"competitive_route\": 1, \"bus_multiplier\": 1.41, \"bus_difference\": 7.8, \"num_trips\": 15, \"num_competitive\": 15, \"pct_trips_competitive\": 1.0, \"bus_difference_spread\": 0.0, \"route_group\": \"short\", \"max_trip_hrs\": 0.45, \"max_trip_route_group\": 0.45, \"below_cutoff\": 15, \"pct_below_cutoff\": 1.0, \"name\": \"Redding Area Bus Authority\", \"caltrans_district\": \"02 - Redding\", \"drmt_organization_name\": null, \"route_name\": null, \"cutoff2\": 20, \"cutoff\": 2}, {\"calitp_itp_id\": 259, \"trip_key\": 5275103249611645366, \"trip_id\": \"t_145313_b_18260_tn_0\", \"shape_id\": \"p_110998\", \"route_id\": \"6446\", \"service_hours\": 0.45, \"trip_first_departure_ts\": 66000, \"trip_last_arrival_ts\": 67620, \"departure_hour\": 18, \"time_of_day\": \"PM Peak\", \"p25\": 0.45, \"p50\": 0.45, \"p75\": 0.45, \"p50_trip\": 1, \"fastest_trip\": 0, \"car_duration_hours\": 0.32, \"competitive_route\": 1, \"bus_multiplier\": 1.41, \"bus_difference\": 7.8, \"num_trips\": 15, \"num_competitive\": 15, \"pct_trips_competitive\": 1.0, \"bus_difference_spread\": 0.0, \"route_group\": \"short\", \"max_trip_hrs\": 0.45, \"max_trip_route_group\": 0.45, \"below_cutoff\": 15, \"pct_below_cutoff\": 1.0, \"name\": \"Redding Area Bus Authority\", \"caltrans_district\": \"02 - Redding\", \"drmt_organization_name\": null, \"route_name\": null, \"cutoff2\": 20, \"cutoff\": 2}, {\"calitp_itp_id\": 259, \"trip_key\": 4896211993174383687, \"trip_id\": \"t_119395_b_18260_tn_0\", \"shape_id\": \"p_110998\", \"route_id\": \"6446\", \"service_hours\": 0.45, \"trip_first_departure_ts\": 55200, \"trip_last_arrival_ts\": 56820, \"departure_hour\": 15, \"time_of_day\": \"Midday\", \"p25\": 0.45, \"p50\": 0.45, \"p75\": 0.45, \"p50_trip\": 1, \"fastest_trip\": 0, \"car_duration_hours\": 0.32, \"competitive_route\": 1, \"bus_multiplier\": 1.41, \"bus_difference\": 7.8, \"num_trips\": 15, \"num_competitive\": 15, \"pct_trips_competitive\": 1.0, \"bus_difference_spread\": 0.0, \"route_group\": \"short\", \"max_trip_hrs\": 0.45, \"max_trip_route_group\": 0.45, \"below_cutoff\": 15, \"pct_below_cutoff\": 1.0, \"name\": \"Redding Area Bus Authority\", \"caltrans_district\": \"02 - Redding\", \"drmt_organization_name\": null, \"route_name\": null, \"cutoff2\": 20, \"cutoff\": 2}, {\"calitp_itp_id\": 259, \"trip_key\": -1395844342660985590, \"trip_id\": \"t_145312_b_18260_tn_0\", \"shape_id\": \"p_110998\", \"route_id\": \"6446\", \"service_hours\": 0.45, \"trip_first_departure_ts\": 58800, \"trip_last_arrival_ts\": 60420, \"departure_hour\": 16, \"time_of_day\": \"Midday\", \"p25\": 0.45, \"p50\": 0.45, \"p75\": 0.45, \"p50_trip\": 1, \"fastest_trip\": 0, \"car_duration_hours\": 0.32, \"competitive_route\": 1, \"bus_multiplier\": 1.41, \"bus_difference\": 7.8, \"num_trips\": 15, \"num_competitive\": 15, \"pct_trips_competitive\": 1.0, \"bus_difference_spread\": 0.0, \"route_group\": \"short\", \"max_trip_hrs\": 0.45, \"max_trip_route_group\": 0.45, \"below_cutoff\": 15, \"pct_below_cutoff\": 1.0, \"name\": \"Redding Area Bus Authority\", \"caltrans_district\": \"02 - Redding\", \"drmt_organization_name\": null, \"route_name\": null, \"cutoff2\": 20, \"cutoff\": 2}, {\"calitp_itp_id\": 259, \"trip_key\": -71081321247707660, \"trip_id\": \"t_119394_b_18260_tn_1\", \"shape_id\": \"p_110998\", \"route_id\": \"6446\", \"service_hours\": 0.45, \"trip_first_departure_ts\": 37200, \"trip_last_arrival_ts\": 38820, \"departure_hour\": 10, \"time_of_day\": \"Midday\", \"p25\": 0.45, \"p50\": 0.45, \"p75\": 0.45, \"p50_trip\": 1, \"fastest_trip\": 0, \"car_duration_hours\": 0.32, \"competitive_route\": 1, \"bus_multiplier\": 1.41, \"bus_difference\": 7.8, \"num_trips\": 15, \"num_competitive\": 15, \"pct_trips_competitive\": 1.0, \"bus_difference_spread\": 0.0, \"route_group\": \"short\", \"max_trip_hrs\": 0.45, \"max_trip_route_group\": 0.45, \"below_cutoff\": 15, \"pct_below_cutoff\": 1.0, \"name\": \"Redding Area Bus Authority\", \"caltrans_district\": \"02 - Redding\", \"drmt_organization_name\": null, \"route_name\": null, \"cutoff2\": 20, \"cutoff\": 2}, {\"calitp_itp_id\": 259, \"trip_key\": -1579561441970740906, \"trip_id\": \"t_119393_b_18260_tn_0\", \"shape_id\": \"p_110998\", \"route_id\": \"6446\", \"service_hours\": 0.45, \"trip_first_departure_ts\": 22800, \"trip_last_arrival_ts\": 24420, \"departure_hour\": 6, \"time_of_day\": \"Owl Service\", \"p25\": 0.45, \"p50\": 0.45, \"p75\": 0.45, \"p50_trip\": 1, \"fastest_trip\": 0, \"car_duration_hours\": 0.32, \"competitive_route\": 1, \"bus_multiplier\": 1.41, \"bus_difference\": 7.8, \"num_trips\": 15, \"num_competitive\": 15, \"pct_trips_competitive\": 1.0, \"bus_difference_spread\": 0.0, \"route_group\": \"short\", \"max_trip_hrs\": 0.45, \"max_trip_route_group\": 0.45, \"below_cutoff\": 15, \"pct_below_cutoff\": 1.0, \"name\": \"Redding Area Bus Authority\", \"caltrans_district\": \"02 - Redding\", \"drmt_organization_name\": null, \"route_name\": null, \"cutoff2\": 20, \"cutoff\": 2}, {\"calitp_itp_id\": 259, \"trip_key\": -7091022489935631117, \"trip_id\": \"t_144777_b_18260_tn_5\", \"shape_id\": \"p_111010\", \"route_id\": \"6446\", \"service_hours\": 0.45, \"trip_first_departure_ts\": 64200, \"trip_last_arrival_ts\": 65820, \"departure_hour\": 17, \"time_of_day\": \"PM Peak\", \"p25\": 0.45, \"p50\": 0.45, \"p75\": 0.45, \"p50_trip\": 1, \"fastest_trip\": 0, \"car_duration_hours\": 0.32, \"competitive_route\": 1, \"bus_multiplier\": 1.41, \"bus_difference\": 7.8, \"num_trips\": 15, \"num_competitive\": 15, \"pct_trips_competitive\": 1.0, \"bus_difference_spread\": 0.0, \"route_group\": \"short\", \"max_trip_hrs\": 0.45, \"max_trip_route_group\": 0.45, \"below_cutoff\": 15, \"pct_below_cutoff\": 1.0, \"name\": \"Redding Area Bus Authority\", \"caltrans_district\": \"02 - Redding\", \"drmt_organization_name\": null, \"route_name\": null, \"cutoff2\": 20, \"cutoff\": 2}, {\"calitp_itp_id\": 259, \"trip_key\": 6714306432209378943, \"trip_id\": \"t_119399_b_18260_tn_0\", \"shape_id\": \"p_110998\", \"route_id\": \"6446\", \"service_hours\": 0.45, \"trip_first_departure_ts\": 30000, \"trip_last_arrival_ts\": 31620, \"departure_hour\": 8, \"time_of_day\": \"AM Peak\", \"p25\": 0.45, \"p50\": 0.45, \"p75\": 0.45, \"p50_trip\": 1, \"fastest_trip\": 0, \"car_duration_hours\": 0.32, \"competitive_route\": 1, \"bus_multiplier\": 1.41, \"bus_difference\": 7.8, \"num_trips\": 15, \"num_competitive\": 15, \"pct_trips_competitive\": 1.0, \"bus_difference_spread\": 0.0, \"route_group\": \"short\", \"max_trip_hrs\": 0.45, \"max_trip_route_group\": 0.45, \"below_cutoff\": 15, \"pct_below_cutoff\": 1.0, \"name\": \"Redding Area Bus Authority\", \"caltrans_district\": \"02 - Redding\", \"drmt_organization_name\": null, \"route_name\": null, \"cutoff2\": 20, \"cutoff\": 2}, {\"calitp_itp_id\": 259, \"trip_key\": -5533988951746733650, \"trip_id\": \"t_145311_b_18260_tn_0\", \"shape_id\": \"p_110998\", \"route_id\": \"6446\", \"service_hours\": 0.45, \"trip_first_departure_ts\": 51600, \"trip_last_arrival_ts\": 53220, \"departure_hour\": 14, \"time_of_day\": \"Midday\", \"p25\": 0.45, \"p50\": 0.45, \"p75\": 0.45, \"p50_trip\": 1, \"fastest_trip\": 0, \"car_duration_hours\": 0.32, \"competitive_route\": 1, \"bus_multiplier\": 1.41, \"bus_difference\": 7.8, \"num_trips\": 15, \"num_competitive\": 15, \"pct_trips_competitive\": 1.0, \"bus_difference_spread\": 0.0, \"route_group\": \"short\", \"max_trip_hrs\": 0.45, \"max_trip_route_group\": 0.45, \"below_cutoff\": 15, \"pct_below_cutoff\": 1.0, \"name\": \"Redding Area Bus Authority\", \"caltrans_district\": \"02 - Redding\", \"drmt_organization_name\": null, \"route_name\": null, \"cutoff2\": 20, \"cutoff\": 2}, {\"calitp_itp_id\": 259, \"trip_key\": -1450819695609656086, \"trip_id\": \"t_144777_b_18260_tn_1\", \"shape_id\": \"p_111010\", \"route_id\": \"6446\", \"service_hours\": 0.45, \"trip_first_departure_ts\": 35400, \"trip_last_arrival_ts\": 37020, \"departure_hour\": 9, \"time_of_day\": \"AM Peak\", \"p25\": 0.45, \"p50\": 0.45, \"p75\": 0.45, \"p50_trip\": 1, \"fastest_trip\": 0, \"car_duration_hours\": 0.32, \"competitive_route\": 1, \"bus_multiplier\": 1.41, \"bus_difference\": 7.8, \"num_trips\": 15, \"num_competitive\": 15, \"pct_trips_competitive\": 1.0, \"bus_difference_spread\": 0.0, \"route_group\": \"short\", \"max_trip_hrs\": 0.45, \"max_trip_route_group\": 0.45, \"below_cutoff\": 15, \"pct_below_cutoff\": 1.0, \"name\": \"Redding Area Bus Authority\", \"caltrans_district\": \"02 - Redding\", \"drmt_organization_name\": null, \"route_name\": null, \"cutoff2\": 20, \"cutoff\": 2}]}}, {\"mode\": \"vega-lite\"});\n",
       "</script>"
      ],
      "text/plain": [
       "alt.FacetChart(...)"
      ]
     },
     "metadata": {},
     "output_type": "display_data"
    },
    {
     "data": {
      "text/html": [
       "\n",
       "<div id=\"altair-viz-01e8c674f84d47a4baf4261bd49a7e3e\"></div>\n",
       "<script type=\"text/javascript\">\n",
       "  var VEGA_DEBUG = (typeof VEGA_DEBUG == \"undefined\") ? {} : VEGA_DEBUG;\n",
       "  (function(spec, embedOpt){\n",
       "    let outputDiv = document.currentScript.previousElementSibling;\n",
       "    if (outputDiv.id !== \"altair-viz-01e8c674f84d47a4baf4261bd49a7e3e\") {\n",
       "      outputDiv = document.getElementById(\"altair-viz-01e8c674f84d47a4baf4261bd49a7e3e\");\n",
       "    }\n",
       "    const paths = {\n",
       "      \"vega\": \"https://cdn.jsdelivr.net/npm//vega@5?noext\",\n",
       "      \"vega-lib\": \"https://cdn.jsdelivr.net/npm//vega-lib?noext\",\n",
       "      \"vega-lite\": \"https://cdn.jsdelivr.net/npm//vega-lite@4.17.0?noext\",\n",
       "      \"vega-embed\": \"https://cdn.jsdelivr.net/npm//vega-embed@6?noext\",\n",
       "    };\n",
       "\n",
       "    function maybeLoadScript(lib, version) {\n",
       "      var key = `${lib.replace(\"-\", \"\")}_version`;\n",
       "      return (VEGA_DEBUG[key] == version) ?\n",
       "        Promise.resolve(paths[lib]) :\n",
       "        new Promise(function(resolve, reject) {\n",
       "          var s = document.createElement('script');\n",
       "          document.getElementsByTagName(\"head\")[0].appendChild(s);\n",
       "          s.async = true;\n",
       "          s.onload = () => {\n",
       "            VEGA_DEBUG[key] = version;\n",
       "            return resolve(paths[lib]);\n",
       "          };\n",
       "          s.onerror = () => reject(`Error loading script: ${paths[lib]}`);\n",
       "          s.src = paths[lib];\n",
       "        });\n",
       "    }\n",
       "\n",
       "    function showError(err) {\n",
       "      outputDiv.innerHTML = `<div class=\"error\" style=\"color:red;\">${err}</div>`;\n",
       "      throw err;\n",
       "    }\n",
       "\n",
       "    function displayChart(vegaEmbed) {\n",
       "      vegaEmbed(outputDiv, spec, embedOpt)\n",
       "        .catch(err => showError(`Javascript Error: ${err.message}<br>This usually means there's a typo in your chart specification. See the javascript console for the full traceback.`));\n",
       "    }\n",
       "\n",
       "    if(typeof define === \"function\" && define.amd) {\n",
       "      requirejs.config({paths});\n",
       "      require([\"vega-embed\"], displayChart, err => showError(`Error loading script: ${err.message}`));\n",
       "    } else {\n",
       "      maybeLoadScript(\"vega\", \"5\")\n",
       "        .then(() => maybeLoadScript(\"vega-lite\", \"4.17.0\"))\n",
       "        .then(() => maybeLoadScript(\"vega-embed\", \"6\"))\n",
       "        .catch(showError)\n",
       "        .then(() => displayChart(vegaEmbed));\n",
       "    }\n",
       "  })({\"config\": {\"view\": {\"continuousWidth\": 400, \"continuousHeight\": 300, \"stroke\": null}, \"facet\": {\"spacing\": 0}}, \"data\": {\"name\": \"data-bd9715f862d26a0b99e01658dc9631f3\"}, \"facet\": {\"column\": {\"field\": \"route_id\", \"sort\": [\"153\", \"154\", \"6446\", \"151\", \"1886\", \"1887\"], \"title\": \"Route ID\", \"type\": \"nominal\"}}, \"spec\": {\"layer\": [{\"mark\": \"rule\", \"encoding\": {\"color\": {\"value\": \"black\"}, \"y\": {\"field\": \"cutoff\", \"type\": \"quantitative\"}}, \"selection\": {\"selector002\": {\"type\": \"interval\", \"bind\": \"scales\", \"encodings\": [\"x\", \"y\"]}}}, {\"mark\": {\"type\": \"rule\", \"strokeDash\": [3, 3]}, \"encoding\": {\"color\": {\"value\": \"#323434\"}, \"y\": {\"field\": \"cutoff2\", \"type\": \"quantitative\"}}}, {\"mark\": {\"type\": \"point\", \"opacity\": 0.65, \"size\": 12, \"strokeWidth\": 1.1}, \"encoding\": {\"color\": {\"field\": \"time_of_day\", \"scale\": {\"range\": [\"#136C97\", \"#E16B26\", \"#F6BF16\", \"#00896B\", \"#7790A3\", \"#5B559C\"]}, \"sort\": [\"AM Peak\", \"Midday\", \"PM Peak\", \"Owl Service\"], \"title\": \"Time of Day\", \"type\": \"nominal\"}, \"tooltip\": [{\"field\": \"route_id\", \"type\": \"nominal\"}, {\"field\": \"route_name\", \"type\": \"nominal\"}, {\"field\": \"trip_id\", \"type\": \"nominal\"}, {\"field\": \"service_hours\", \"type\": \"quantitative\"}, {\"field\": \"car_duration_hours\", \"type\": \"quantitative\"}, {\"field\": \"bus_multiplier\", \"type\": \"quantitative\"}, {\"field\": \"bus_difference\", \"type\": \"quantitative\"}, {\"field\": \"num_trips\", \"type\": \"quantitative\"}, {\"field\": \"num_competitive\", \"type\": \"quantitative\"}, {\"field\": \"pct_trips_competitive\", \"type\": \"quantitative\"}, {\"field\": \"p25\", \"type\": \"quantitative\"}, {\"field\": \"p50\", \"type\": \"quantitative\"}, {\"field\": \"p75\", \"type\": \"quantitative\"}], \"x\": {\"axis\": {\"grid\": false, \"labels\": false, \"ticks\": true, \"values\": [0]}, \"field\": \"jitter\", \"scale\": {}, \"title\": null, \"type\": \"quantitative\"}, \"y\": {\"field\": \"bus_difference\", \"scale\": {\"domain\": [-5, 25.0]}, \"title\": \"Difference in Bus to Car Travel Time (min)\", \"type\": \"quantitative\"}}, \"transform\": [{\"calculate\": \"sqrt(-2*log(random()))*cos(2*PI*random())\", \"as\": \"jitter\"}], \"width\": 50}, {\"layer\": [{\"mark\": {\"type\": \"point\", \"opacity\": 0.6, \"size\": 20, \"strokeWidth\": 1.3}, \"encoding\": {\"color\": {\"value\": \"#323434\"}, \"y\": {\"field\": \"bus_difference\", \"type\": \"quantitative\"}}, \"transform\": [{\"filter\": \"(datum.p50_trip === 1)\"}]}, {\"mark\": {\"type\": \"text\", \"align\": \"center\", \"baseline\": \"middle\"}, \"encoding\": {\"color\": {\"value\": \"black\"}, \"text\": {\"field\": \"pct_trips_competitive\", \"format\": \".0%\", \"type\": \"quantitative\"}, \"tooltip\": [{\"field\": \"route_id\", \"type\": \"nominal\"}, {\"field\": \"route_name\", \"type\": \"nominal\"}, {\"field\": \"trip_id\", \"type\": \"nominal\"}, {\"field\": \"service_hours\", \"type\": \"quantitative\"}, {\"field\": \"car_duration_hours\", \"type\": \"quantitative\"}, {\"field\": \"bus_multiplier\", \"type\": \"quantitative\"}, {\"field\": \"bus_difference\", \"type\": \"quantitative\"}, {\"field\": \"num_trips\", \"type\": \"quantitative\"}, {\"field\": \"num_competitive\", \"type\": \"quantitative\"}, {\"field\": \"pct_trips_competitive\", \"type\": \"quantitative\"}, {\"field\": \"p25\", \"type\": \"quantitative\"}, {\"field\": \"p50\", \"type\": \"quantitative\"}, {\"field\": \"p75\", \"type\": \"quantitative\"}], \"x\": {\"value\": 30}, \"y\": {\"value\": 15}}, \"transform\": [{\"calculate\": \"sqrt(-2*log(random()))*cos(2*PI*random())\", \"as\": \"jitter\"}, {\"filter\": \"(datum.fastest_trip === 1)\"}]}]}]}, \"resolve\": {\"scale\": {\"y\": \"shared\"}}, \"title\": \"Difference in Bus to Car Travel Time (min)\", \"$schema\": \"https://vega.github.io/schema/vega-lite/v4.17.0.json\", \"datasets\": {\"data-bd9715f862d26a0b99e01658dc9631f3\": [{\"calitp_itp_id\": 259, \"trip_key\": -348337041592176812, \"trip_id\": \"t_1194071_b_18260_tn_4\", \"shape_id\": \"p_899986\", \"route_id\": \"151\", \"service_hours\": 0.92, \"trip_first_departure_ts\": 30900, \"trip_last_arrival_ts\": 34200, \"departure_hour\": 8, \"time_of_day\": \"AM Peak\", \"p25\": 0.92, \"p50\": 0.92, \"p75\": 0.92, \"p50_trip\": 1, \"fastest_trip\": 0, \"car_duration_hours\": 0.8, \"competitive_route\": 1, \"bus_multiplier\": 1.15, \"bus_difference\": 7.2, \"num_trips\": 14, \"num_competitive\": 14, \"pct_trips_competitive\": 1.0, \"bus_difference_spread\": 0.0, \"route_group\": \"short\", \"max_trip_hrs\": 0.92, \"max_trip_route_group\": 0.92, \"below_cutoff\": 14, \"pct_below_cutoff\": 1.0, \"name\": \"Redding Area Bus Authority\", \"caltrans_district\": \"02 - Redding\", \"drmt_organization_name\": null, \"route_name\": null, \"cutoff2\": 20, \"cutoff\": 0}, {\"calitp_itp_id\": 259, \"trip_key\": -1493525340932898680, \"trip_id\": \"t_1194071_b_18260_tn_12\", \"shape_id\": \"p_899986\", \"route_id\": \"151\", \"service_hours\": 0.92, \"trip_first_departure_ts\": 59700, \"trip_last_arrival_ts\": 63000, \"departure_hour\": 16, \"time_of_day\": \"Midday\", \"p25\": 0.92, \"p50\": 0.92, \"p75\": 0.92, \"p50_trip\": 1, \"fastest_trip\": 0, \"car_duration_hours\": 0.8, \"competitive_route\": 1, \"bus_multiplier\": 1.15, \"bus_difference\": 7.2, \"num_trips\": 14, \"num_competitive\": 14, \"pct_trips_competitive\": 1.0, \"bus_difference_spread\": 0.0, \"route_group\": \"short\", \"max_trip_hrs\": 0.92, \"max_trip_route_group\": 0.92, \"below_cutoff\": 14, \"pct_below_cutoff\": 1.0, \"name\": \"Redding Area Bus Authority\", \"caltrans_district\": \"02 - Redding\", \"drmt_organization_name\": null, \"route_name\": null, \"cutoff2\": 20, \"cutoff\": 0}, {\"calitp_itp_id\": 259, \"trip_key\": -2509421700888172248, \"trip_id\": \"t_1194071_b_18260_tn_2\", \"shape_id\": \"p_899986\", \"route_id\": \"151\", \"service_hours\": 0.92, \"trip_first_departure_ts\": 23700, \"trip_last_arrival_ts\": 27000, \"departure_hour\": 6, \"time_of_day\": \"Owl Service\", \"p25\": 0.92, \"p50\": 0.92, \"p75\": 0.92, \"p50_trip\": 1, \"fastest_trip\": 0, \"car_duration_hours\": 0.8, \"competitive_route\": 1, \"bus_multiplier\": 1.15, \"bus_difference\": 7.2, \"num_trips\": 14, \"num_competitive\": 14, \"pct_trips_competitive\": 1.0, \"bus_difference_spread\": 0.0, \"route_group\": \"short\", \"max_trip_hrs\": 0.92, \"max_trip_route_group\": 0.92, \"below_cutoff\": 14, \"pct_below_cutoff\": 1.0, \"name\": \"Redding Area Bus Authority\", \"caltrans_district\": \"02 - Redding\", \"drmt_organization_name\": null, \"route_name\": null, \"cutoff2\": 20, \"cutoff\": 0}, {\"calitp_itp_id\": 259, \"trip_key\": 1167118404055441790, \"trip_id\": \"t_1194071_b_18260_tn_14\", \"shape_id\": \"p_899986\", \"route_id\": \"151\", \"service_hours\": 0.92, \"trip_first_departure_ts\": 66900, \"trip_last_arrival_ts\": 70200, \"departure_hour\": 18, \"time_of_day\": \"PM Peak\", \"p25\": 0.92, \"p50\": 0.92, \"p75\": 0.92, \"p50_trip\": 1, \"fastest_trip\": 1, \"car_duration_hours\": 0.8, \"competitive_route\": 1, \"bus_multiplier\": 1.15, \"bus_difference\": 7.2, \"num_trips\": 14, \"num_competitive\": 14, \"pct_trips_competitive\": 1.0, \"bus_difference_spread\": 0.0, \"route_group\": \"short\", \"max_trip_hrs\": 0.92, \"max_trip_route_group\": 0.92, \"below_cutoff\": 14, \"pct_below_cutoff\": 1.0, \"name\": \"Redding Area Bus Authority\", \"caltrans_district\": \"02 - Redding\", \"drmt_organization_name\": null, \"route_name\": null, \"cutoff2\": 20, \"cutoff\": 0}, {\"calitp_itp_id\": 259, \"trip_key\": 3584461360275097165, \"trip_id\": \"t_1194071_b_18260_tn_8\", \"shape_id\": \"p_899986\", \"route_id\": \"151\", \"service_hours\": 0.92, \"trip_first_departure_ts\": 45300, \"trip_last_arrival_ts\": 48600, \"departure_hour\": 12, \"time_of_day\": \"Midday\", \"p25\": 0.92, \"p50\": 0.92, \"p75\": 0.92, \"p50_trip\": 1, \"fastest_trip\": 0, \"car_duration_hours\": 0.8, \"competitive_route\": 1, \"bus_multiplier\": 1.15, \"bus_difference\": 7.2, \"num_trips\": 14, \"num_competitive\": 14, \"pct_trips_competitive\": 1.0, \"bus_difference_spread\": 0.0, \"route_group\": \"short\", \"max_trip_hrs\": 0.92, \"max_trip_route_group\": 0.92, \"below_cutoff\": 14, \"pct_below_cutoff\": 1.0, \"name\": \"Redding Area Bus Authority\", \"caltrans_district\": \"02 - Redding\", \"drmt_organization_name\": null, \"route_name\": null, \"cutoff2\": 20, \"cutoff\": 0}, {\"calitp_itp_id\": 259, \"trip_key\": 1040832347224355868, \"trip_id\": \"t_1194071_b_18260_tn_11\", \"shape_id\": \"p_899986\", \"route_id\": \"151\", \"service_hours\": 0.92, \"trip_first_departure_ts\": 56100, \"trip_last_arrival_ts\": 59400, \"departure_hour\": 15, \"time_of_day\": \"Midday\", \"p25\": 0.92, \"p50\": 0.92, \"p75\": 0.92, \"p50_trip\": 1, \"fastest_trip\": 0, \"car_duration_hours\": 0.8, \"competitive_route\": 1, \"bus_multiplier\": 1.15, \"bus_difference\": 7.2, \"num_trips\": 14, \"num_competitive\": 14, \"pct_trips_competitive\": 1.0, \"bus_difference_spread\": 0.0, \"route_group\": \"short\", \"max_trip_hrs\": 0.92, \"max_trip_route_group\": 0.92, \"below_cutoff\": 14, \"pct_below_cutoff\": 1.0, \"name\": \"Redding Area Bus Authority\", \"caltrans_district\": \"02 - Redding\", \"drmt_organization_name\": null, \"route_name\": null, \"cutoff2\": 20, \"cutoff\": 0}, {\"calitp_itp_id\": 259, \"trip_key\": 6487923043704637006, \"trip_id\": \"t_1194071_b_18260_tn_6\", \"shape_id\": \"p_899986\", \"route_id\": \"151\", \"service_hours\": 0.92, \"trip_first_departure_ts\": 38100, \"trip_last_arrival_ts\": 41400, \"departure_hour\": 10, \"time_of_day\": \"Midday\", \"p25\": 0.92, \"p50\": 0.92, \"p75\": 0.92, \"p50_trip\": 1, \"fastest_trip\": 0, \"car_duration_hours\": 0.8, \"competitive_route\": 1, \"bus_multiplier\": 1.15, \"bus_difference\": 7.2, \"num_trips\": 14, \"num_competitive\": 14, \"pct_trips_competitive\": 1.0, \"bus_difference_spread\": 0.0, \"route_group\": \"short\", \"max_trip_hrs\": 0.92, \"max_trip_route_group\": 0.92, \"below_cutoff\": 14, \"pct_below_cutoff\": 1.0, \"name\": \"Redding Area Bus Authority\", \"caltrans_district\": \"02 - Redding\", \"drmt_organization_name\": null, \"route_name\": null, \"cutoff2\": 20, \"cutoff\": 0}, {\"calitp_itp_id\": 259, \"trip_key\": 4610028488193831227, \"trip_id\": \"t_1194071_b_18260_tn_7\", \"shape_id\": \"p_899986\", \"route_id\": \"151\", \"service_hours\": 0.92, \"trip_first_departure_ts\": 41700, \"trip_last_arrival_ts\": 45000, \"departure_hour\": 11, \"time_of_day\": \"Midday\", \"p25\": 0.92, \"p50\": 0.92, \"p75\": 0.92, \"p50_trip\": 1, \"fastest_trip\": 0, \"car_duration_hours\": 0.8, \"competitive_route\": 1, \"bus_multiplier\": 1.15, \"bus_difference\": 7.2, \"num_trips\": 14, \"num_competitive\": 14, \"pct_trips_competitive\": 1.0, \"bus_difference_spread\": 0.0, \"route_group\": \"short\", \"max_trip_hrs\": 0.92, \"max_trip_route_group\": 0.92, \"below_cutoff\": 14, \"pct_below_cutoff\": 1.0, \"name\": \"Redding Area Bus Authority\", \"caltrans_district\": \"02 - Redding\", \"drmt_organization_name\": null, \"route_name\": null, \"cutoff2\": 20, \"cutoff\": 0}, {\"calitp_itp_id\": 259, \"trip_key\": -2850211937865214703, \"trip_id\": \"t_1194071_b_18260_tn_13\", \"shape_id\": \"p_899986\", \"route_id\": \"151\", \"service_hours\": 0.92, \"trip_first_departure_ts\": 63300, \"trip_last_arrival_ts\": 66600, \"departure_hour\": 17, \"time_of_day\": \"PM Peak\", \"p25\": 0.92, \"p50\": 0.92, \"p75\": 0.92, \"p50_trip\": 1, \"fastest_trip\": 0, \"car_duration_hours\": 0.8, \"competitive_route\": 1, \"bus_multiplier\": 1.15, \"bus_difference\": 7.2, \"num_trips\": 14, \"num_competitive\": 14, \"pct_trips_competitive\": 1.0, \"bus_difference_spread\": 0.0, \"route_group\": \"short\", \"max_trip_hrs\": 0.92, \"max_trip_route_group\": 0.92, \"below_cutoff\": 14, \"pct_below_cutoff\": 1.0, \"name\": \"Redding Area Bus Authority\", \"caltrans_district\": \"02 - Redding\", \"drmt_organization_name\": null, \"route_name\": null, \"cutoff2\": 20, \"cutoff\": 0}, {\"calitp_itp_id\": 259, \"trip_key\": 36399583829333355, \"trip_id\": \"t_1194071_b_18260_tn_9\", \"shape_id\": \"p_899986\", \"route_id\": \"151\", \"service_hours\": 0.92, \"trip_first_departure_ts\": 48900, \"trip_last_arrival_ts\": 52200, \"departure_hour\": 13, \"time_of_day\": \"Midday\", \"p25\": 0.92, \"p50\": 0.92, \"p75\": 0.92, \"p50_trip\": 1, \"fastest_trip\": 0, \"car_duration_hours\": 0.8, \"competitive_route\": 1, \"bus_multiplier\": 1.15, \"bus_difference\": 7.2, \"num_trips\": 14, \"num_competitive\": 14, \"pct_trips_competitive\": 1.0, \"bus_difference_spread\": 0.0, \"route_group\": \"short\", \"max_trip_hrs\": 0.92, \"max_trip_route_group\": 0.92, \"below_cutoff\": 14, \"pct_below_cutoff\": 1.0, \"name\": \"Redding Area Bus Authority\", \"caltrans_district\": \"02 - Redding\", \"drmt_organization_name\": null, \"route_name\": null, \"cutoff2\": 20, \"cutoff\": 0}, {\"calitp_itp_id\": 259, \"trip_key\": -992961000138266155, \"trip_id\": \"t_1194071_b_18260_tn_3\", \"shape_id\": \"p_899986\", \"route_id\": \"151\", \"service_hours\": 0.92, \"trip_first_departure_ts\": 27300, \"trip_last_arrival_ts\": 30600, \"departure_hour\": 7, \"time_of_day\": \"AM Peak\", \"p25\": 0.92, \"p50\": 0.92, \"p75\": 0.92, \"p50_trip\": 1, \"fastest_trip\": 0, \"car_duration_hours\": 0.8, \"competitive_route\": 1, \"bus_multiplier\": 1.15, \"bus_difference\": 7.2, \"num_trips\": 14, \"num_competitive\": 14, \"pct_trips_competitive\": 1.0, \"bus_difference_spread\": 0.0, \"route_group\": \"short\", \"max_trip_hrs\": 0.92, \"max_trip_route_group\": 0.92, \"below_cutoff\": 14, \"pct_below_cutoff\": 1.0, \"name\": \"Redding Area Bus Authority\", \"caltrans_district\": \"02 - Redding\", \"drmt_organization_name\": null, \"route_name\": null, \"cutoff2\": 20, \"cutoff\": 0}, {\"calitp_itp_id\": 259, \"trip_key\": 6566077687549907619, \"trip_id\": \"t_1194071_b_18260_tn_10\", \"shape_id\": \"p_899986\", \"route_id\": \"151\", \"service_hours\": 0.92, \"trip_first_departure_ts\": 52500, \"trip_last_arrival_ts\": 55800, \"departure_hour\": 14, \"time_of_day\": \"Midday\", \"p25\": 0.92, \"p50\": 0.92, \"p75\": 0.92, \"p50_trip\": 1, \"fastest_trip\": 0, \"car_duration_hours\": 0.8, \"competitive_route\": 1, \"bus_multiplier\": 1.15, \"bus_difference\": 7.2, \"num_trips\": 14, \"num_competitive\": 14, \"pct_trips_competitive\": 1.0, \"bus_difference_spread\": 0.0, \"route_group\": \"short\", \"max_trip_hrs\": 0.92, \"max_trip_route_group\": 0.92, \"below_cutoff\": 14, \"pct_below_cutoff\": 1.0, \"name\": \"Redding Area Bus Authority\", \"caltrans_district\": \"02 - Redding\", \"drmt_organization_name\": null, \"route_name\": null, \"cutoff2\": 20, \"cutoff\": 0}, {\"calitp_itp_id\": 259, \"trip_key\": -3360145974651522833, \"trip_id\": \"t_1194071_b_18260_tn_5\", \"shape_id\": \"p_899986\", \"route_id\": \"151\", \"service_hours\": 0.92, \"trip_first_departure_ts\": 34500, \"trip_last_arrival_ts\": 37800, \"departure_hour\": 9, \"time_of_day\": \"AM Peak\", \"p25\": 0.92, \"p50\": 0.92, \"p75\": 0.92, \"p50_trip\": 1, \"fastest_trip\": 0, \"car_duration_hours\": 0.8, \"competitive_route\": 1, \"bus_multiplier\": 1.15, \"bus_difference\": 7.2, \"num_trips\": 14, \"num_competitive\": 14, \"pct_trips_competitive\": 1.0, \"bus_difference_spread\": 0.0, \"route_group\": \"short\", \"max_trip_hrs\": 0.92, \"max_trip_route_group\": 0.92, \"below_cutoff\": 14, \"pct_below_cutoff\": 1.0, \"name\": \"Redding Area Bus Authority\", \"caltrans_district\": \"02 - Redding\", \"drmt_organization_name\": null, \"route_name\": null, \"cutoff2\": 20, \"cutoff\": 0}, {\"calitp_itp_id\": 259, \"trip_key\": 608239272652657631, \"trip_id\": \"t_1194071_b_18260_tn_1\", \"shape_id\": \"p_899986\", \"route_id\": \"151\", \"service_hours\": 0.92, \"trip_first_departure_ts\": 20100, \"trip_last_arrival_ts\": 23400, \"departure_hour\": 5, \"time_of_day\": \"Owl Service\", \"p25\": 0.92, \"p50\": 0.92, \"p75\": 0.92, \"p50_trip\": 1, \"fastest_trip\": 0, \"car_duration_hours\": 0.8, \"competitive_route\": 1, \"bus_multiplier\": 1.15, \"bus_difference\": 7.2, \"num_trips\": 14, \"num_competitive\": 14, \"pct_trips_competitive\": 1.0, \"bus_difference_spread\": 0.0, \"route_group\": \"short\", \"max_trip_hrs\": 0.92, \"max_trip_route_group\": 0.92, \"below_cutoff\": 14, \"pct_below_cutoff\": 1.0, \"name\": \"Redding Area Bus Authority\", \"caltrans_district\": \"02 - Redding\", \"drmt_organization_name\": null, \"route_name\": null, \"cutoff2\": 20, \"cutoff\": 0}, {\"calitp_itp_id\": 259, \"trip_key\": -6346748749507792306, \"trip_id\": \"t_884140_b_18260_tn_5\", \"shape_id\": \"p_787963\", \"route_id\": \"153\", \"service_hours\": 0.42, \"trip_first_departure_ts\": 53400, \"trip_last_arrival_ts\": 54900, \"departure_hour\": 14, \"time_of_day\": \"Midday\", \"p25\": 0.42, \"p50\": 0.435, \"p75\": 0.45, \"p50_trip\": 1, \"fastest_trip\": 0, \"car_duration_hours\": 0.28, \"competitive_route\": 1, \"bus_multiplier\": 1.5, \"bus_difference\": 8.4, \"num_trips\": 26, \"num_competitive\": 26, \"pct_trips_competitive\": 1.0, \"bus_difference_spread\": 1.799999999999999, \"route_group\": \"short\", \"max_trip_hrs\": 0.45, \"max_trip_route_group\": 0.45, \"below_cutoff\": 26, \"pct_below_cutoff\": 1.0, \"name\": \"Redding Area Bus Authority\", \"caltrans_district\": \"02 - Redding\", \"drmt_organization_name\": null, \"route_name\": null, \"cutoff2\": 20, \"cutoff\": 0}, {\"calitp_itp_id\": 259, \"trip_key\": 3669484251174490939, \"trip_id\": \"t_884146_b_18260_tn_4\", \"shape_id\": \"p_787963\", \"route_id\": \"153\", \"service_hours\": 0.42, \"trip_first_departure_ts\": 49800, \"trip_last_arrival_ts\": 51300, \"departure_hour\": 13, \"time_of_day\": \"Midday\", \"p25\": 0.42, \"p50\": 0.435, \"p75\": 0.45, \"p50_trip\": 1, \"fastest_trip\": 0, \"car_duration_hours\": 0.28, \"competitive_route\": 1, \"bus_multiplier\": 1.5, \"bus_difference\": 8.4, \"num_trips\": 26, \"num_competitive\": 26, \"pct_trips_competitive\": 1.0, \"bus_difference_spread\": 1.799999999999999, \"route_group\": \"short\", \"max_trip_hrs\": 0.45, \"max_trip_route_group\": 0.45, \"below_cutoff\": 26, \"pct_below_cutoff\": 1.0, \"name\": \"Redding Area Bus Authority\", \"caltrans_district\": \"02 - Redding\", \"drmt_organization_name\": null, \"route_name\": null, \"cutoff2\": 20, \"cutoff\": 0}, {\"calitp_itp_id\": 259, \"trip_key\": -7444096356299870262, \"trip_id\": \"t_884140_b_18260_tn_6\", \"shape_id\": \"p_787963\", \"route_id\": \"153\", \"service_hours\": 0.42, \"trip_first_departure_ts\": 60600, \"trip_last_arrival_ts\": 62100, \"departure_hour\": 16, \"time_of_day\": \"Midday\", \"p25\": 0.42, \"p50\": 0.435, \"p75\": 0.45, \"p50_trip\": 1, \"fastest_trip\": 0, \"car_duration_hours\": 0.28, \"competitive_route\": 1, \"bus_multiplier\": 1.5, \"bus_difference\": 8.4, \"num_trips\": 26, \"num_competitive\": 26, \"pct_trips_competitive\": 1.0, \"bus_difference_spread\": 1.799999999999999, \"route_group\": \"short\", \"max_trip_hrs\": 0.45, \"max_trip_route_group\": 0.45, \"below_cutoff\": 26, \"pct_below_cutoff\": 1.0, \"name\": \"Redding Area Bus Authority\", \"caltrans_district\": \"02 - Redding\", \"drmt_organization_name\": null, \"route_name\": null, \"cutoff2\": 20, \"cutoff\": 0}, {\"calitp_itp_id\": 259, \"trip_key\": -2332627576218007789, \"trip_id\": \"t_884146_b_18260_tn_6\", \"shape_id\": \"p_787963\", \"route_id\": \"153\", \"service_hours\": 0.42, \"trip_first_departure_ts\": 64200, \"trip_last_arrival_ts\": 65700, \"departure_hour\": 17, \"time_of_day\": \"PM Peak\", \"p25\": 0.42, \"p50\": 0.435, \"p75\": 0.45, \"p50_trip\": 1, \"fastest_trip\": 0, \"car_duration_hours\": 0.28, \"competitive_route\": 1, \"bus_multiplier\": 1.5, \"bus_difference\": 8.4, \"num_trips\": 26, \"num_competitive\": 26, \"pct_trips_competitive\": 1.0, \"bus_difference_spread\": 1.799999999999999, \"route_group\": \"short\", \"max_trip_hrs\": 0.45, \"max_trip_route_group\": 0.45, \"below_cutoff\": 26, \"pct_below_cutoff\": 1.0, \"name\": \"Redding Area Bus Authority\", \"caltrans_district\": \"02 - Redding\", \"drmt_organization_name\": null, \"route_name\": null, \"cutoff2\": 20, \"cutoff\": 0}, {\"calitp_itp_id\": 259, \"trip_key\": 3852501457013697649, \"trip_id\": \"t_884140_b_18260_tn_3\", \"shape_id\": \"p_787963\", \"route_id\": \"153\", \"service_hours\": 0.42, \"trip_first_departure_ts\": 39000, \"trip_last_arrival_ts\": 40500, \"departure_hour\": 10, \"time_of_day\": \"Midday\", \"p25\": 0.42, \"p50\": 0.435, \"p75\": 0.45, \"p50_trip\": 1, \"fastest_trip\": 0, \"car_duration_hours\": 0.28, \"competitive_route\": 1, \"bus_multiplier\": 1.5, \"bus_difference\": 8.4, \"num_trips\": 26, \"num_competitive\": 26, \"pct_trips_competitive\": 1.0, \"bus_difference_spread\": 1.799999999999999, \"route_group\": \"short\", \"max_trip_hrs\": 0.45, \"max_trip_route_group\": 0.45, \"below_cutoff\": 26, \"pct_below_cutoff\": 1.0, \"name\": \"Redding Area Bus Authority\", \"caltrans_district\": \"02 - Redding\", \"drmt_organization_name\": null, \"route_name\": null, \"cutoff2\": 20, \"cutoff\": 0}, {\"calitp_itp_id\": 259, \"trip_key\": -2593416854619370432, \"trip_id\": \"t_884140_b_18260_tn_7\", \"shape_id\": \"p_787963\", \"route_id\": \"153\", \"service_hours\": 0.42, \"trip_first_departure_ts\": 67800, \"trip_last_arrival_ts\": 69300, \"departure_hour\": 18, \"time_of_day\": \"PM Peak\", \"p25\": 0.42, \"p50\": 0.435, \"p75\": 0.45, \"p50_trip\": 1, \"fastest_trip\": 1, \"car_duration_hours\": 0.28, \"competitive_route\": 1, \"bus_multiplier\": 1.5, \"bus_difference\": 8.4, \"num_trips\": 26, \"num_competitive\": 26, \"pct_trips_competitive\": 1.0, \"bus_difference_spread\": 1.799999999999999, \"route_group\": \"short\", \"max_trip_hrs\": 0.45, \"max_trip_route_group\": 0.45, \"below_cutoff\": 26, \"pct_below_cutoff\": 1.0, \"name\": \"Redding Area Bus Authority\", \"caltrans_district\": \"02 - Redding\", \"drmt_organization_name\": null, \"route_name\": null, \"cutoff2\": 20, \"cutoff\": 0}, {\"calitp_itp_id\": 259, \"trip_key\": 584499572325248662, \"trip_id\": \"t_884146_b_18260_tn_2\", \"shape_id\": \"p_787963\", \"route_id\": \"153\", \"service_hours\": 0.42, \"trip_first_departure_ts\": 35400, \"trip_last_arrival_ts\": 36900, \"departure_hour\": 9, \"time_of_day\": \"AM Peak\", \"p25\": 0.42, \"p50\": 0.435, \"p75\": 0.45, \"p50_trip\": 1, \"fastest_trip\": 0, \"car_duration_hours\": 0.28, \"competitive_route\": 1, \"bus_multiplier\": 1.5, \"bus_difference\": 8.4, \"num_trips\": 26, \"num_competitive\": 26, \"pct_trips_competitive\": 1.0, \"bus_difference_spread\": 1.799999999999999, \"route_group\": \"short\", \"max_trip_hrs\": 0.45, \"max_trip_route_group\": 0.45, \"below_cutoff\": 26, \"pct_below_cutoff\": 1.0, \"name\": \"Redding Area Bus Authority\", \"caltrans_district\": \"02 - Redding\", \"drmt_organization_name\": null, \"route_name\": null, \"cutoff2\": 20, \"cutoff\": 0}, {\"calitp_itp_id\": 259, \"trip_key\": -4669504647299898957, \"trip_id\": \"t_884140_b_18260_tn_1\", \"shape_id\": \"p_787963\", \"route_id\": \"153\", \"service_hours\": 0.42, \"trip_first_departure_ts\": 24600, \"trip_last_arrival_ts\": 26100, \"departure_hour\": 6, \"time_of_day\": \"Owl Service\", \"p25\": 0.42, \"p50\": 0.435, \"p75\": 0.45, \"p50_trip\": 1, \"fastest_trip\": 0, \"car_duration_hours\": 0.28, \"competitive_route\": 1, \"bus_multiplier\": 1.5, \"bus_difference\": 8.4, \"num_trips\": 26, \"num_competitive\": 26, \"pct_trips_competitive\": 1.0, \"bus_difference_spread\": 1.799999999999999, \"route_group\": \"short\", \"max_trip_hrs\": 0.45, \"max_trip_route_group\": 0.45, \"below_cutoff\": 26, \"pct_below_cutoff\": 1.0, \"name\": \"Redding Area Bus Authority\", \"caltrans_district\": \"02 - Redding\", \"drmt_organization_name\": null, \"route_name\": null, \"cutoff2\": 20, \"cutoff\": 0}, {\"calitp_itp_id\": 259, \"trip_key\": -1809343843401411626, \"trip_id\": \"t_884140_b_18260_tn_4\", \"shape_id\": \"p_787963\", \"route_id\": \"153\", \"service_hours\": 0.42, \"trip_first_departure_ts\": 46200, \"trip_last_arrival_ts\": 47700, \"departure_hour\": 12, \"time_of_day\": \"Midday\", \"p25\": 0.42, \"p50\": 0.435, \"p75\": 0.45, \"p50_trip\": 1, \"fastest_trip\": 0, \"car_duration_hours\": 0.28, \"competitive_route\": 1, \"bus_multiplier\": 1.5, \"bus_difference\": 8.4, \"num_trips\": 26, \"num_competitive\": 26, \"pct_trips_competitive\": 1.0, \"bus_difference_spread\": 1.799999999999999, \"route_group\": \"short\", \"max_trip_hrs\": 0.45, \"max_trip_route_group\": 0.45, \"below_cutoff\": 26, \"pct_below_cutoff\": 1.0, \"name\": \"Redding Area Bus Authority\", \"caltrans_district\": \"02 - Redding\", \"drmt_organization_name\": null, \"route_name\": null, \"cutoff2\": 20, \"cutoff\": 0}, {\"calitp_itp_id\": 259, \"trip_key\": -2125883289830916383, \"trip_id\": \"t_884146_b_18260_tn_5\", \"shape_id\": \"p_787963\", \"route_id\": \"153\", \"service_hours\": 0.42, \"trip_first_departure_ts\": 57000, \"trip_last_arrival_ts\": 58500, \"departure_hour\": 15, \"time_of_day\": \"Midday\", \"p25\": 0.42, \"p50\": 0.435, \"p75\": 0.45, \"p50_trip\": 1, \"fastest_trip\": 0, \"car_duration_hours\": 0.28, \"competitive_route\": 1, \"bus_multiplier\": 1.5, \"bus_difference\": 8.4, \"num_trips\": 26, \"num_competitive\": 26, \"pct_trips_competitive\": 1.0, \"bus_difference_spread\": 1.799999999999999, \"route_group\": \"short\", \"max_trip_hrs\": 0.45, \"max_trip_route_group\": 0.45, \"below_cutoff\": 26, \"pct_below_cutoff\": 1.0, \"name\": \"Redding Area Bus Authority\", \"caltrans_district\": \"02 - Redding\", \"drmt_organization_name\": null, \"route_name\": null, \"cutoff2\": 20, \"cutoff\": 0}, {\"calitp_itp_id\": 259, \"trip_key\": -8311963935169233599, \"trip_id\": \"t_884146_b_18260_tn_1\", \"shape_id\": \"p_787963\", \"route_id\": \"153\", \"service_hours\": 0.42, \"trip_first_departure_ts\": 28200, \"trip_last_arrival_ts\": 29700, \"departure_hour\": 7, \"time_of_day\": \"AM Peak\", \"p25\": 0.42, \"p50\": 0.435, \"p75\": 0.45, \"p50_trip\": 1, \"fastest_trip\": 0, \"car_duration_hours\": 0.28, \"competitive_route\": 1, \"bus_multiplier\": 1.5, \"bus_difference\": 8.4, \"num_trips\": 26, \"num_competitive\": 26, \"pct_trips_competitive\": 1.0, \"bus_difference_spread\": 1.799999999999999, \"route_group\": \"short\", \"max_trip_hrs\": 0.45, \"max_trip_route_group\": 0.45, \"below_cutoff\": 26, \"pct_below_cutoff\": 1.0, \"name\": \"Redding Area Bus Authority\", \"caltrans_district\": \"02 - Redding\", \"drmt_organization_name\": null, \"route_name\": null, \"cutoff2\": 20, \"cutoff\": 0}, {\"calitp_itp_id\": 259, \"trip_key\": -4786609053765109875, \"trip_id\": \"t_884140_b_18260_tn_2\", \"shape_id\": \"p_787963\", \"route_id\": \"153\", \"service_hours\": 0.42, \"trip_first_departure_ts\": 31800, \"trip_last_arrival_ts\": 33300, \"departure_hour\": 8, \"time_of_day\": \"AM Peak\", \"p25\": 0.42, \"p50\": 0.435, \"p75\": 0.45, \"p50_trip\": 1, \"fastest_trip\": 0, \"car_duration_hours\": 0.28, \"competitive_route\": 1, \"bus_multiplier\": 1.5, \"bus_difference\": 8.4, \"num_trips\": 26, \"num_competitive\": 26, \"pct_trips_competitive\": 1.0, \"bus_difference_spread\": 1.799999999999999, \"route_group\": \"short\", \"max_trip_hrs\": 0.45, \"max_trip_route_group\": 0.45, \"below_cutoff\": 26, \"pct_below_cutoff\": 1.0, \"name\": \"Redding Area Bus Authority\", \"caltrans_district\": \"02 - Redding\", \"drmt_organization_name\": null, \"route_name\": null, \"cutoff2\": 20, \"cutoff\": 0}, {\"calitp_itp_id\": 259, \"trip_key\": -8077762450682131982, \"trip_id\": \"t_884146_b_18260_tn_3\", \"shape_id\": \"p_787963\", \"route_id\": \"153\", \"service_hours\": 0.42, \"trip_first_departure_ts\": 42600, \"trip_last_arrival_ts\": 44100, \"departure_hour\": 11, \"time_of_day\": \"Midday\", \"p25\": 0.42, \"p50\": 0.435, \"p75\": 0.45, \"p50_trip\": 1, \"fastest_trip\": 0, \"car_duration_hours\": 0.28, \"competitive_route\": 1, \"bus_multiplier\": 1.5, \"bus_difference\": 8.4, \"num_trips\": 26, \"num_competitive\": 26, \"pct_trips_competitive\": 1.0, \"bus_difference_spread\": 1.799999999999999, \"route_group\": \"short\", \"max_trip_hrs\": 0.45, \"max_trip_route_group\": 0.45, \"below_cutoff\": 26, \"pct_below_cutoff\": 1.0, \"name\": \"Redding Area Bus Authority\", \"caltrans_district\": \"02 - Redding\", \"drmt_organization_name\": null, \"route_name\": null, \"cutoff2\": 20, \"cutoff\": 0}, {\"calitp_itp_id\": 259, \"trip_key\": 3327898063860546432, \"trip_id\": \"t_884145_b_18260_tn_2\", \"shape_id\": \"p_787964\", \"route_id\": \"153\", \"service_hours\": 0.45, \"trip_first_departure_ts\": 33600, \"trip_last_arrival_ts\": 35220, \"departure_hour\": 9, \"time_of_day\": \"AM Peak\", \"p25\": 0.42, \"p50\": 0.435, \"p75\": 0.45, \"p50_trip\": 1, \"fastest_trip\": 0, \"car_duration_hours\": 0.28, \"competitive_route\": 1, \"bus_multiplier\": 1.61, \"bus_difference\": 10.2, \"num_trips\": 26, \"num_competitive\": 26, \"pct_trips_competitive\": 1.0, \"bus_difference_spread\": 1.799999999999999, \"route_group\": \"short\", \"max_trip_hrs\": 0.45, \"max_trip_route_group\": 0.45, \"below_cutoff\": 26, \"pct_below_cutoff\": 1.0, \"name\": \"Redding Area Bus Authority\", \"caltrans_district\": \"02 - Redding\", \"drmt_organization_name\": null, \"route_name\": null, \"cutoff2\": 20, \"cutoff\": 0}, {\"calitp_itp_id\": 259, \"trip_key\": 1095865665298360358, \"trip_id\": \"t_884145_b_18260_tn_1\", \"shape_id\": \"p_787964\", \"route_id\": \"153\", \"service_hours\": 0.45, \"trip_first_departure_ts\": 26400, \"trip_last_arrival_ts\": 28020, \"departure_hour\": 7, \"time_of_day\": \"AM Peak\", \"p25\": 0.42, \"p50\": 0.435, \"p75\": 0.45, \"p50_trip\": 1, \"fastest_trip\": 0, \"car_duration_hours\": 0.28, \"competitive_route\": 1, \"bus_multiplier\": 1.61, \"bus_difference\": 10.2, \"num_trips\": 26, \"num_competitive\": 26, \"pct_trips_competitive\": 1.0, \"bus_difference_spread\": 1.799999999999999, \"route_group\": \"short\", \"max_trip_hrs\": 0.45, \"max_trip_route_group\": 0.45, \"below_cutoff\": 26, \"pct_below_cutoff\": 1.0, \"name\": \"Redding Area Bus Authority\", \"caltrans_district\": \"02 - Redding\", \"drmt_organization_name\": null, \"route_name\": null, \"cutoff2\": 20, \"cutoff\": 0}, {\"calitp_itp_id\": 259, \"trip_key\": -4380389212217110982, \"trip_id\": \"t_884139_b_18260_tn_2\", \"shape_id\": \"p_787964\", \"route_id\": \"153\", \"service_hours\": 0.45, \"trip_first_departure_ts\": 30000, \"trip_last_arrival_ts\": 31620, \"departure_hour\": 8, \"time_of_day\": \"AM Peak\", \"p25\": 0.42, \"p50\": 0.435, \"p75\": 0.45, \"p50_trip\": 1, \"fastest_trip\": 0, \"car_duration_hours\": 0.28, \"competitive_route\": 1, \"bus_multiplier\": 1.61, \"bus_difference\": 10.2, \"num_trips\": 26, \"num_competitive\": 26, \"pct_trips_competitive\": 1.0, \"bus_difference_spread\": 1.799999999999999, \"route_group\": \"short\", \"max_trip_hrs\": 0.45, \"max_trip_route_group\": 0.45, \"below_cutoff\": 26, \"pct_below_cutoff\": 1.0, \"name\": \"Redding Area Bus Authority\", \"caltrans_district\": \"02 - Redding\", \"drmt_organization_name\": null, \"route_name\": null, \"cutoff2\": 20, \"cutoff\": 0}, {\"calitp_itp_id\": 259, \"trip_key\": -2100866262541152794, \"trip_id\": \"t_884139_b_18260_tn_6\", \"shape_id\": \"p_787964\", \"route_id\": \"153\", \"service_hours\": 0.45, \"trip_first_departure_ts\": 58800, \"trip_last_arrival_ts\": 60420, \"departure_hour\": 16, \"time_of_day\": \"Midday\", \"p25\": 0.42, \"p50\": 0.435, \"p75\": 0.45, \"p50_trip\": 1, \"fastest_trip\": 0, \"car_duration_hours\": 0.28, \"competitive_route\": 1, \"bus_multiplier\": 1.61, \"bus_difference\": 10.2, \"num_trips\": 26, \"num_competitive\": 26, \"pct_trips_competitive\": 1.0, \"bus_difference_spread\": 1.799999999999999, \"route_group\": \"short\", \"max_trip_hrs\": 0.45, \"max_trip_route_group\": 0.45, \"below_cutoff\": 26, \"pct_below_cutoff\": 1.0, \"name\": \"Redding Area Bus Authority\", \"caltrans_district\": \"02 - Redding\", \"drmt_organization_name\": null, \"route_name\": null, \"cutoff2\": 20, \"cutoff\": 0}, {\"calitp_itp_id\": 259, \"trip_key\": 578181880412433091, \"trip_id\": \"t_884145_b_18260_tn_6\", \"shape_id\": \"p_787964\", \"route_id\": \"153\", \"service_hours\": 0.45, \"trip_first_departure_ts\": 62400, \"trip_last_arrival_ts\": 64020, \"departure_hour\": 17, \"time_of_day\": \"PM Peak\", \"p25\": 0.42, \"p50\": 0.435, \"p75\": 0.45, \"p50_trip\": 1, \"fastest_trip\": 0, \"car_duration_hours\": 0.28, \"competitive_route\": 1, \"bus_multiplier\": 1.61, \"bus_difference\": 10.2, \"num_trips\": 26, \"num_competitive\": 26, \"pct_trips_competitive\": 1.0, \"bus_difference_spread\": 1.799999999999999, \"route_group\": \"short\", \"max_trip_hrs\": 0.45, \"max_trip_route_group\": 0.45, \"below_cutoff\": 26, \"pct_below_cutoff\": 1.0, \"name\": \"Redding Area Bus Authority\", \"caltrans_district\": \"02 - Redding\", \"drmt_organization_name\": null, \"route_name\": null, \"cutoff2\": 20, \"cutoff\": 0}, {\"calitp_itp_id\": 259, \"trip_key\": 1519393082322920793, \"trip_id\": \"t_884145_b_18260_tn_4\", \"shape_id\": \"p_787964\", \"route_id\": \"153\", \"service_hours\": 0.45, \"trip_first_departure_ts\": 48000, \"trip_last_arrival_ts\": 49620, \"departure_hour\": 13, \"time_of_day\": \"Midday\", \"p25\": 0.42, \"p50\": 0.435, \"p75\": 0.45, \"p50_trip\": 1, \"fastest_trip\": 0, \"car_duration_hours\": 0.28, \"competitive_route\": 1, \"bus_multiplier\": 1.61, \"bus_difference\": 10.2, \"num_trips\": 26, \"num_competitive\": 26, \"pct_trips_competitive\": 1.0, \"bus_difference_spread\": 1.799999999999999, \"route_group\": \"short\", \"max_trip_hrs\": 0.45, \"max_trip_route_group\": 0.45, \"below_cutoff\": 26, \"pct_below_cutoff\": 1.0, \"name\": \"Redding Area Bus Authority\", \"caltrans_district\": \"02 - Redding\", \"drmt_organization_name\": null, \"route_name\": null, \"cutoff2\": 20, \"cutoff\": 0}, {\"calitp_itp_id\": 259, \"trip_key\": -2227745995550422898, \"trip_id\": \"t_884145_b_18260_tn_3\", \"shape_id\": \"p_787964\", \"route_id\": \"153\", \"service_hours\": 0.45, \"trip_first_departure_ts\": 40800, \"trip_last_arrival_ts\": 42420, \"departure_hour\": 11, \"time_of_day\": \"Midday\", \"p25\": 0.42, \"p50\": 0.435, \"p75\": 0.45, \"p50_trip\": 1, \"fastest_trip\": 0, \"car_duration_hours\": 0.28, \"competitive_route\": 1, \"bus_multiplier\": 1.61, \"bus_difference\": 10.2, \"num_trips\": 26, \"num_competitive\": 26, \"pct_trips_competitive\": 1.0, \"bus_difference_spread\": 1.799999999999999, \"route_group\": \"short\", \"max_trip_hrs\": 0.45, \"max_trip_route_group\": 0.45, \"below_cutoff\": 26, \"pct_below_cutoff\": 1.0, \"name\": \"Redding Area Bus Authority\", \"caltrans_district\": \"02 - Redding\", \"drmt_organization_name\": null, \"route_name\": null, \"cutoff2\": 20, \"cutoff\": 0}, {\"calitp_itp_id\": 259, \"trip_key\": 5942974768619884774, \"trip_id\": \"t_884139_b_18260_tn_5\", \"shape_id\": \"p_787964\", \"route_id\": \"153\", \"service_hours\": 0.45, \"trip_first_departure_ts\": 51600, \"trip_last_arrival_ts\": 53220, \"departure_hour\": 14, \"time_of_day\": \"Midday\", \"p25\": 0.42, \"p50\": 0.435, \"p75\": 0.45, \"p50_trip\": 1, \"fastest_trip\": 0, \"car_duration_hours\": 0.28, \"competitive_route\": 1, \"bus_multiplier\": 1.61, \"bus_difference\": 10.2, \"num_trips\": 26, \"num_competitive\": 26, \"pct_trips_competitive\": 1.0, \"bus_difference_spread\": 1.799999999999999, \"route_group\": \"short\", \"max_trip_hrs\": 0.45, \"max_trip_route_group\": 0.45, \"below_cutoff\": 26, \"pct_below_cutoff\": 1.0, \"name\": \"Redding Area Bus Authority\", \"caltrans_district\": \"02 - Redding\", \"drmt_organization_name\": null, \"route_name\": null, \"cutoff2\": 20, \"cutoff\": 0}, {\"calitp_itp_id\": 259, \"trip_key\": 7752073234594946144, \"trip_id\": \"t_884145_b_18260_tn_5\", \"shape_id\": \"p_787964\", \"route_id\": \"153\", \"service_hours\": 0.45, \"trip_first_departure_ts\": 55200, \"trip_last_arrival_ts\": 56820, \"departure_hour\": 15, \"time_of_day\": \"Midday\", \"p25\": 0.42, \"p50\": 0.435, \"p75\": 0.45, \"p50_trip\": 1, \"fastest_trip\": 0, \"car_duration_hours\": 0.28, \"competitive_route\": 1, \"bus_multiplier\": 1.61, \"bus_difference\": 10.2, \"num_trips\": 26, \"num_competitive\": 26, \"pct_trips_competitive\": 1.0, \"bus_difference_spread\": 1.799999999999999, \"route_group\": \"short\", \"max_trip_hrs\": 0.45, \"max_trip_route_group\": 0.45, \"below_cutoff\": 26, \"pct_below_cutoff\": 1.0, \"name\": \"Redding Area Bus Authority\", \"caltrans_district\": \"02 - Redding\", \"drmt_organization_name\": null, \"route_name\": null, \"cutoff2\": 20, \"cutoff\": 0}, {\"calitp_itp_id\": 259, \"trip_key\": -4173021789959943280, \"trip_id\": \"t_884139_b_18260_tn_7\", \"shape_id\": \"p_787964\", \"route_id\": \"153\", \"service_hours\": 0.45, \"trip_first_departure_ts\": 66000, \"trip_last_arrival_ts\": 67620, \"departure_hour\": 18, \"time_of_day\": \"PM Peak\", \"p25\": 0.42, \"p50\": 0.435, \"p75\": 0.45, \"p50_trip\": 1, \"fastest_trip\": 0, \"car_duration_hours\": 0.28, \"competitive_route\": 1, \"bus_multiplier\": 1.61, \"bus_difference\": 10.2, \"num_trips\": 26, \"num_competitive\": 26, \"pct_trips_competitive\": 1.0, \"bus_difference_spread\": 1.799999999999999, \"route_group\": \"short\", \"max_trip_hrs\": 0.45, \"max_trip_route_group\": 0.45, \"below_cutoff\": 26, \"pct_below_cutoff\": 1.0, \"name\": \"Redding Area Bus Authority\", \"caltrans_district\": \"02 - Redding\", \"drmt_organization_name\": null, \"route_name\": null, \"cutoff2\": 20, \"cutoff\": 0}, {\"calitp_itp_id\": 259, \"trip_key\": 7986586913362674049, \"trip_id\": \"t_884139_b_18260_tn_4\", \"shape_id\": \"p_787964\", \"route_id\": \"153\", \"service_hours\": 0.45, \"trip_first_departure_ts\": 44400, \"trip_last_arrival_ts\": 46020, \"departure_hour\": 12, \"time_of_day\": \"Midday\", \"p25\": 0.42, \"p50\": 0.435, \"p75\": 0.45, \"p50_trip\": 1, \"fastest_trip\": 0, \"car_duration_hours\": 0.28, \"competitive_route\": 1, \"bus_multiplier\": 1.61, \"bus_difference\": 10.2, \"num_trips\": 26, \"num_competitive\": 26, \"pct_trips_competitive\": 1.0, \"bus_difference_spread\": 1.799999999999999, \"route_group\": \"short\", \"max_trip_hrs\": 0.45, \"max_trip_route_group\": 0.45, \"below_cutoff\": 26, \"pct_below_cutoff\": 1.0, \"name\": \"Redding Area Bus Authority\", \"caltrans_district\": \"02 - Redding\", \"drmt_organization_name\": null, \"route_name\": null, \"cutoff2\": 20, \"cutoff\": 0}, {\"calitp_itp_id\": 259, \"trip_key\": 958070116848100865, \"trip_id\": \"t_884139_b_18260_tn_1\", \"shape_id\": \"p_787964\", \"route_id\": \"153\", \"service_hours\": 0.45, \"trip_first_departure_ts\": 22800, \"trip_last_arrival_ts\": 24420, \"departure_hour\": 6, \"time_of_day\": \"Owl Service\", \"p25\": 0.42, \"p50\": 0.435, \"p75\": 0.45, \"p50_trip\": 1, \"fastest_trip\": 0, \"car_duration_hours\": 0.28, \"competitive_route\": 1, \"bus_multiplier\": 1.61, \"bus_difference\": 10.2, \"num_trips\": 26, \"num_competitive\": 26, \"pct_trips_competitive\": 1.0, \"bus_difference_spread\": 1.799999999999999, \"route_group\": \"short\", \"max_trip_hrs\": 0.45, \"max_trip_route_group\": 0.45, \"below_cutoff\": 26, \"pct_below_cutoff\": 1.0, \"name\": \"Redding Area Bus Authority\", \"caltrans_district\": \"02 - Redding\", \"drmt_organization_name\": null, \"route_name\": null, \"cutoff2\": 20, \"cutoff\": 0}, {\"calitp_itp_id\": 259, \"trip_key\": -3275973888353844105, \"trip_id\": \"t_884139_b_18260_tn_3\", \"shape_id\": \"p_787964\", \"route_id\": \"153\", \"service_hours\": 0.45, \"trip_first_departure_ts\": 37200, \"trip_last_arrival_ts\": 38820, \"departure_hour\": 10, \"time_of_day\": \"Midday\", \"p25\": 0.42, \"p50\": 0.435, \"p75\": 0.45, \"p50_trip\": 1, \"fastest_trip\": 0, \"car_duration_hours\": 0.28, \"competitive_route\": 1, \"bus_multiplier\": 1.61, \"bus_difference\": 10.2, \"num_trips\": 26, \"num_competitive\": 26, \"pct_trips_competitive\": 1.0, \"bus_difference_spread\": 1.799999999999999, \"route_group\": \"short\", \"max_trip_hrs\": 0.45, \"max_trip_route_group\": 0.45, \"below_cutoff\": 26, \"pct_below_cutoff\": 1.0, \"name\": \"Redding Area Bus Authority\", \"caltrans_district\": \"02 - Redding\", \"drmt_organization_name\": null, \"route_name\": null, \"cutoff2\": 20, \"cutoff\": 0}, {\"calitp_itp_id\": 259, \"trip_key\": -4831135472302284693, \"trip_id\": \"t_887257_b_18260_tn_2\", \"shape_id\": \"p_788072\", \"route_id\": \"154\", \"service_hours\": 0.37, \"trip_first_departure_ts\": 26400, \"trip_last_arrival_ts\": 27720, \"departure_hour\": 7, \"time_of_day\": \"AM Peak\", \"p25\": 0.37, \"p50\": 0.435, \"p75\": 0.5, \"p50_trip\": 1, \"fastest_trip\": 0, \"car_duration_hours\": 0.33, \"competitive_route\": 1, \"bus_multiplier\": 1.12, \"bus_difference\": 2.4, \"num_trips\": 26, \"num_competitive\": 26, \"pct_trips_competitive\": 1.0, \"bus_difference_spread\": 7.799999999999999, \"route_group\": \"short\", \"max_trip_hrs\": 0.5, \"max_trip_route_group\": 0.5, \"below_cutoff\": 26, \"pct_below_cutoff\": 1.0, \"name\": \"Redding Area Bus Authority\", \"caltrans_district\": \"02 - Redding\", \"drmt_organization_name\": null, \"route_name\": null, \"cutoff2\": 20, \"cutoff\": 0}, {\"calitp_itp_id\": 259, \"trip_key\": 3295678053870388864, \"trip_id\": \"t_887257_b_18260_tn_6\", \"shape_id\": \"p_788072\", \"route_id\": \"154\", \"service_hours\": 0.37, \"trip_first_departure_ts\": 40800, \"trip_last_arrival_ts\": 42120, \"departure_hour\": 11, \"time_of_day\": \"Midday\", \"p25\": 0.37, \"p50\": 0.435, \"p75\": 0.5, \"p50_trip\": 1, \"fastest_trip\": 0, \"car_duration_hours\": 0.33, \"competitive_route\": 1, \"bus_multiplier\": 1.12, \"bus_difference\": 2.4, \"num_trips\": 26, \"num_competitive\": 26, \"pct_trips_competitive\": 1.0, \"bus_difference_spread\": 7.799999999999999, \"route_group\": \"short\", \"max_trip_hrs\": 0.5, \"max_trip_route_group\": 0.5, \"below_cutoff\": 26, \"pct_below_cutoff\": 1.0, \"name\": \"Redding Area Bus Authority\", \"caltrans_district\": \"02 - Redding\", \"drmt_organization_name\": null, \"route_name\": null, \"cutoff2\": 20, \"cutoff\": 0}, {\"calitp_itp_id\": 259, \"trip_key\": 8882157732904329672, \"trip_id\": \"t_887257_b_18260_tn_11\", \"shape_id\": \"p_788072\", \"route_id\": \"154\", \"service_hours\": 0.37, \"trip_first_departure_ts\": 58800, \"trip_last_arrival_ts\": 60120, \"departure_hour\": 16, \"time_of_day\": \"Midday\", \"p25\": 0.37, \"p50\": 0.435, \"p75\": 0.5, \"p50_trip\": 1, \"fastest_trip\": 0, \"car_duration_hours\": 0.33, \"competitive_route\": 1, \"bus_multiplier\": 1.12, \"bus_difference\": 2.4, \"num_trips\": 26, \"num_competitive\": 26, \"pct_trips_competitive\": 1.0, \"bus_difference_spread\": 7.799999999999999, \"route_group\": \"short\", \"max_trip_hrs\": 0.5, \"max_trip_route_group\": 0.5, \"below_cutoff\": 26, \"pct_below_cutoff\": 1.0, \"name\": \"Redding Area Bus Authority\", \"caltrans_district\": \"02 - Redding\", \"drmt_organization_name\": null, \"route_name\": null, \"cutoff2\": 20, \"cutoff\": 0}, {\"calitp_itp_id\": 259, \"trip_key\": -170234794807315302, \"trip_id\": \"t_887257_b_18260_tn_9\", \"shape_id\": \"p_788072\", \"route_id\": \"154\", \"service_hours\": 0.37, \"trip_first_departure_ts\": 51600, \"trip_last_arrival_ts\": 52920, \"departure_hour\": 14, \"time_of_day\": \"Midday\", \"p25\": 0.37, \"p50\": 0.435, \"p75\": 0.5, \"p50_trip\": 1, \"fastest_trip\": 0, \"car_duration_hours\": 0.33, \"competitive_route\": 1, \"bus_multiplier\": 1.12, \"bus_difference\": 2.4, \"num_trips\": 26, \"num_competitive\": 26, \"pct_trips_competitive\": 1.0, \"bus_difference_spread\": 7.799999999999999, \"route_group\": \"short\", \"max_trip_hrs\": 0.5, \"max_trip_route_group\": 0.5, \"below_cutoff\": 26, \"pct_below_cutoff\": 1.0, \"name\": \"Redding Area Bus Authority\", \"caltrans_district\": \"02 - Redding\", \"drmt_organization_name\": null, \"route_name\": null, \"cutoff2\": 20, \"cutoff\": 0}, {\"calitp_itp_id\": 259, \"trip_key\": 4466574473427435506, \"trip_id\": \"t_887257_b_18260_tn_4\", \"shape_id\": \"p_788072\", \"route_id\": \"154\", \"service_hours\": 0.37, \"trip_first_departure_ts\": 33600, \"trip_last_arrival_ts\": 34920, \"departure_hour\": 9, \"time_of_day\": \"AM Peak\", \"p25\": 0.37, \"p50\": 0.435, \"p75\": 0.5, \"p50_trip\": 1, \"fastest_trip\": 0, \"car_duration_hours\": 0.33, \"competitive_route\": 1, \"bus_multiplier\": 1.12, \"bus_difference\": 2.4, \"num_trips\": 26, \"num_competitive\": 26, \"pct_trips_competitive\": 1.0, \"bus_difference_spread\": 7.799999999999999, \"route_group\": \"short\", \"max_trip_hrs\": 0.5, \"max_trip_route_group\": 0.5, \"below_cutoff\": 26, \"pct_below_cutoff\": 1.0, \"name\": \"Redding Area Bus Authority\", \"caltrans_district\": \"02 - Redding\", \"drmt_organization_name\": null, \"route_name\": null, \"cutoff2\": 20, \"cutoff\": 0}, {\"calitp_itp_id\": 259, \"trip_key\": 3034457610044804455, \"trip_id\": \"t_887257_b_18260_tn_13\", \"shape_id\": \"p_788072\", \"route_id\": \"154\", \"service_hours\": 0.37, \"trip_first_departure_ts\": 66000, \"trip_last_arrival_ts\": 67320, \"departure_hour\": 18, \"time_of_day\": \"PM Peak\", \"p25\": 0.37, \"p50\": 0.435, \"p75\": 0.5, \"p50_trip\": 1, \"fastest_trip\": 1, \"car_duration_hours\": 0.33, \"competitive_route\": 1, \"bus_multiplier\": 1.12, \"bus_difference\": 2.4, \"num_trips\": 26, \"num_competitive\": 26, \"pct_trips_competitive\": 1.0, \"bus_difference_spread\": 7.799999999999999, \"route_group\": \"short\", \"max_trip_hrs\": 0.5, \"max_trip_route_group\": 0.5, \"below_cutoff\": 26, \"pct_below_cutoff\": 1.0, \"name\": \"Redding Area Bus Authority\", \"caltrans_district\": \"02 - Redding\", \"drmt_organization_name\": null, \"route_name\": null, \"cutoff2\": 20, \"cutoff\": 0}, {\"calitp_itp_id\": 259, \"trip_key\": -1706594252924193433, \"trip_id\": \"t_887257_b_18260_tn_12\", \"shape_id\": \"p_788072\", \"route_id\": \"154\", \"service_hours\": 0.37, \"trip_first_departure_ts\": 62400, \"trip_last_arrival_ts\": 63720, \"departure_hour\": 17, \"time_of_day\": \"PM Peak\", \"p25\": 0.37, \"p50\": 0.435, \"p75\": 0.5, \"p50_trip\": 1, \"fastest_trip\": 0, \"car_duration_hours\": 0.33, \"competitive_route\": 1, \"bus_multiplier\": 1.12, \"bus_difference\": 2.4, \"num_trips\": 26, \"num_competitive\": 26, \"pct_trips_competitive\": 1.0, \"bus_difference_spread\": 7.799999999999999, \"route_group\": \"short\", \"max_trip_hrs\": 0.5, \"max_trip_route_group\": 0.5, \"below_cutoff\": 26, \"pct_below_cutoff\": 1.0, \"name\": \"Redding Area Bus Authority\", \"caltrans_district\": \"02 - Redding\", \"drmt_organization_name\": null, \"route_name\": null, \"cutoff2\": 20, \"cutoff\": 0}, {\"calitp_itp_id\": 259, \"trip_key\": -4420166913130921446, \"trip_id\": \"t_887257_b_18260_tn_10\", \"shape_id\": \"p_788072\", \"route_id\": \"154\", \"service_hours\": 0.37, \"trip_first_departure_ts\": 55200, \"trip_last_arrival_ts\": 56520, \"departure_hour\": 15, \"time_of_day\": \"Midday\", \"p25\": 0.37, \"p50\": 0.435, \"p75\": 0.5, \"p50_trip\": 1, \"fastest_trip\": 0, \"car_duration_hours\": 0.33, \"competitive_route\": 1, \"bus_multiplier\": 1.12, \"bus_difference\": 2.4, \"num_trips\": 26, \"num_competitive\": 26, \"pct_trips_competitive\": 1.0, \"bus_difference_spread\": 7.799999999999999, \"route_group\": \"short\", \"max_trip_hrs\": 0.5, \"max_trip_route_group\": 0.5, \"below_cutoff\": 26, \"pct_below_cutoff\": 1.0, \"name\": \"Redding Area Bus Authority\", \"caltrans_district\": \"02 - Redding\", \"drmt_organization_name\": null, \"route_name\": null, \"cutoff2\": 20, \"cutoff\": 0}, {\"calitp_itp_id\": 259, \"trip_key\": -485354472259099836, \"trip_id\": \"t_887257_b_18260_tn_3\", \"shape_id\": \"p_788072\", \"route_id\": \"154\", \"service_hours\": 0.37, \"trip_first_departure_ts\": 30000, \"trip_last_arrival_ts\": 31320, \"departure_hour\": 8, \"time_of_day\": \"AM Peak\", \"p25\": 0.37, \"p50\": 0.435, \"p75\": 0.5, \"p50_trip\": 1, \"fastest_trip\": 0, \"car_duration_hours\": 0.33, \"competitive_route\": 1, \"bus_multiplier\": 1.12, \"bus_difference\": 2.4, \"num_trips\": 26, \"num_competitive\": 26, \"pct_trips_competitive\": 1.0, \"bus_difference_spread\": 7.799999999999999, \"route_group\": \"short\", \"max_trip_hrs\": 0.5, \"max_trip_route_group\": 0.5, \"below_cutoff\": 26, \"pct_below_cutoff\": 1.0, \"name\": \"Redding Area Bus Authority\", \"caltrans_district\": \"02 - Redding\", \"drmt_organization_name\": null, \"route_name\": null, \"cutoff2\": 20, \"cutoff\": 0}, {\"calitp_itp_id\": 259, \"trip_key\": -626792776327296299, \"trip_id\": \"t_887257_b_18260_tn_5\", \"shape_id\": \"p_788072\", \"route_id\": \"154\", \"service_hours\": 0.37, \"trip_first_departure_ts\": 37200, \"trip_last_arrival_ts\": 38520, \"departure_hour\": 10, \"time_of_day\": \"Midday\", \"p25\": 0.37, \"p50\": 0.435, \"p75\": 0.5, \"p50_trip\": 1, \"fastest_trip\": 0, \"car_duration_hours\": 0.33, \"competitive_route\": 1, \"bus_multiplier\": 1.12, \"bus_difference\": 2.4, \"num_trips\": 26, \"num_competitive\": 26, \"pct_trips_competitive\": 1.0, \"bus_difference_spread\": 7.799999999999999, \"route_group\": \"short\", \"max_trip_hrs\": 0.5, \"max_trip_route_group\": 0.5, \"below_cutoff\": 26, \"pct_below_cutoff\": 1.0, \"name\": \"Redding Area Bus Authority\", \"caltrans_district\": \"02 - Redding\", \"drmt_organization_name\": null, \"route_name\": null, \"cutoff2\": 20, \"cutoff\": 0}, {\"calitp_itp_id\": 259, \"trip_key\": -4238453835901529235, \"trip_id\": \"t_887257_b_18260_tn_8\", \"shape_id\": \"p_788072\", \"route_id\": \"154\", \"service_hours\": 0.37, \"trip_first_departure_ts\": 48000, \"trip_last_arrival_ts\": 49320, \"departure_hour\": 13, \"time_of_day\": \"Midday\", \"p25\": 0.37, \"p50\": 0.435, \"p75\": 0.5, \"p50_trip\": 1, \"fastest_trip\": 0, \"car_duration_hours\": 0.33, \"competitive_route\": 1, \"bus_multiplier\": 1.12, \"bus_difference\": 2.4, \"num_trips\": 26, \"num_competitive\": 26, \"pct_trips_competitive\": 1.0, \"bus_difference_spread\": 7.799999999999999, \"route_group\": \"short\", \"max_trip_hrs\": 0.5, \"max_trip_route_group\": 0.5, \"below_cutoff\": 26, \"pct_below_cutoff\": 1.0, \"name\": \"Redding Area Bus Authority\", \"caltrans_district\": \"02 - Redding\", \"drmt_organization_name\": null, \"route_name\": null, \"cutoff2\": 20, \"cutoff\": 0}, {\"calitp_itp_id\": 259, \"trip_key\": -4277647387071060173, \"trip_id\": \"t_887257_b_18260_tn_7\", \"shape_id\": \"p_788072\", \"route_id\": \"154\", \"service_hours\": 0.37, \"trip_first_departure_ts\": 44400, \"trip_last_arrival_ts\": 45720, \"departure_hour\": 12, \"time_of_day\": \"Midday\", \"p25\": 0.37, \"p50\": 0.435, \"p75\": 0.5, \"p50_trip\": 1, \"fastest_trip\": 0, \"car_duration_hours\": 0.33, \"competitive_route\": 1, \"bus_multiplier\": 1.12, \"bus_difference\": 2.4, \"num_trips\": 26, \"num_competitive\": 26, \"pct_trips_competitive\": 1.0, \"bus_difference_spread\": 7.799999999999999, \"route_group\": \"short\", \"max_trip_hrs\": 0.5, \"max_trip_route_group\": 0.5, \"below_cutoff\": 26, \"pct_below_cutoff\": 1.0, \"name\": \"Redding Area Bus Authority\", \"caltrans_district\": \"02 - Redding\", \"drmt_organization_name\": null, \"route_name\": null, \"cutoff2\": 20, \"cutoff\": 0}, {\"calitp_itp_id\": 259, \"trip_key\": -2100156530461400594, \"trip_id\": \"t_887257_b_18260_tn_1\", \"shape_id\": \"p_788072\", \"route_id\": \"154\", \"service_hours\": 0.37, \"trip_first_departure_ts\": 22800, \"trip_last_arrival_ts\": 24120, \"departure_hour\": 6, \"time_of_day\": \"Owl Service\", \"p25\": 0.37, \"p50\": 0.435, \"p75\": 0.5, \"p50_trip\": 1, \"fastest_trip\": 0, \"car_duration_hours\": 0.33, \"competitive_route\": 1, \"bus_multiplier\": 1.12, \"bus_difference\": 2.4, \"num_trips\": 26, \"num_competitive\": 26, \"pct_trips_competitive\": 1.0, \"bus_difference_spread\": 7.799999999999999, \"route_group\": \"short\", \"max_trip_hrs\": 0.5, \"max_trip_route_group\": 0.5, \"below_cutoff\": 26, \"pct_below_cutoff\": 1.0, \"name\": \"Redding Area Bus Authority\", \"caltrans_district\": \"02 - Redding\", \"drmt_organization_name\": null, \"route_name\": null, \"cutoff2\": 20, \"cutoff\": 0}, {\"calitp_itp_id\": 259, \"trip_key\": 6008989736451949625, \"trip_id\": \"t_887258_b_18260_tn_1\", \"shape_id\": \"p_788073\", \"route_id\": \"154\", \"service_hours\": 0.5, \"trip_first_departure_ts\": 24300, \"trip_last_arrival_ts\": 26100, \"departure_hour\": 6, \"time_of_day\": \"Owl Service\", \"p25\": 0.37, \"p50\": 0.435, \"p75\": 0.5, \"p50_trip\": 1, \"fastest_trip\": 0, \"car_duration_hours\": 0.33, \"competitive_route\": 1, \"bus_multiplier\": 1.52, \"bus_difference\": 10.2, \"num_trips\": 26, \"num_competitive\": 26, \"pct_trips_competitive\": 1.0, \"bus_difference_spread\": 7.799999999999999, \"route_group\": \"short\", \"max_trip_hrs\": 0.5, \"max_trip_route_group\": 0.5, \"below_cutoff\": 26, \"pct_below_cutoff\": 1.0, \"name\": \"Redding Area Bus Authority\", \"caltrans_district\": \"02 - Redding\", \"drmt_organization_name\": null, \"route_name\": null, \"cutoff2\": 20, \"cutoff\": 0}, {\"calitp_itp_id\": 259, \"trip_key\": -656637532164773294, \"trip_id\": \"t_887258_b_18260_tn_10\", \"shape_id\": \"p_788073\", \"route_id\": \"154\", \"service_hours\": 0.5, \"trip_first_departure_ts\": 56700, \"trip_last_arrival_ts\": 58500, \"departure_hour\": 15, \"time_of_day\": \"Midday\", \"p25\": 0.37, \"p50\": 0.435, \"p75\": 0.5, \"p50_trip\": 1, \"fastest_trip\": 0, \"car_duration_hours\": 0.33, \"competitive_route\": 1, \"bus_multiplier\": 1.52, \"bus_difference\": 10.2, \"num_trips\": 26, \"num_competitive\": 26, \"pct_trips_competitive\": 1.0, \"bus_difference_spread\": 7.799999999999999, \"route_group\": \"short\", \"max_trip_hrs\": 0.5, \"max_trip_route_group\": 0.5, \"below_cutoff\": 26, \"pct_below_cutoff\": 1.0, \"name\": \"Redding Area Bus Authority\", \"caltrans_district\": \"02 - Redding\", \"drmt_organization_name\": null, \"route_name\": null, \"cutoff2\": 20, \"cutoff\": 0}, {\"calitp_itp_id\": 259, \"trip_key\": -1124285157628187948, \"trip_id\": \"t_887258_b_18260_tn_6\", \"shape_id\": \"p_788073\", \"route_id\": \"154\", \"service_hours\": 0.5, \"trip_first_departure_ts\": 42300, \"trip_last_arrival_ts\": 44100, \"departure_hour\": 11, \"time_of_day\": \"Midday\", \"p25\": 0.37, \"p50\": 0.435, \"p75\": 0.5, \"p50_trip\": 1, \"fastest_trip\": 0, \"car_duration_hours\": 0.33, \"competitive_route\": 1, \"bus_multiplier\": 1.52, \"bus_difference\": 10.2, \"num_trips\": 26, \"num_competitive\": 26, \"pct_trips_competitive\": 1.0, \"bus_difference_spread\": 7.799999999999999, \"route_group\": \"short\", \"max_trip_hrs\": 0.5, \"max_trip_route_group\": 0.5, \"below_cutoff\": 26, \"pct_below_cutoff\": 1.0, \"name\": \"Redding Area Bus Authority\", \"caltrans_district\": \"02 - Redding\", \"drmt_organization_name\": null, \"route_name\": null, \"cutoff2\": 20, \"cutoff\": 0}, {\"calitp_itp_id\": 259, \"trip_key\": -2947980731544259694, \"trip_id\": \"t_887258_b_18260_tn_7\", \"shape_id\": \"p_788073\", \"route_id\": \"154\", \"service_hours\": 0.5, \"trip_first_departure_ts\": 45900, \"trip_last_arrival_ts\": 47700, \"departure_hour\": 12, \"time_of_day\": \"Midday\", \"p25\": 0.37, \"p50\": 0.435, \"p75\": 0.5, \"p50_trip\": 1, \"fastest_trip\": 0, \"car_duration_hours\": 0.33, \"competitive_route\": 1, \"bus_multiplier\": 1.52, \"bus_difference\": 10.2, \"num_trips\": 26, \"num_competitive\": 26, \"pct_trips_competitive\": 1.0, \"bus_difference_spread\": 7.799999999999999, \"route_group\": \"short\", \"max_trip_hrs\": 0.5, \"max_trip_route_group\": 0.5, \"below_cutoff\": 26, \"pct_below_cutoff\": 1.0, \"name\": \"Redding Area Bus Authority\", \"caltrans_district\": \"02 - Redding\", \"drmt_organization_name\": null, \"route_name\": null, \"cutoff2\": 20, \"cutoff\": 0}, {\"calitp_itp_id\": 259, \"trip_key\": -3128851391519526907, \"trip_id\": \"t_887258_b_18260_tn_3\", \"shape_id\": \"p_788073\", \"route_id\": \"154\", \"service_hours\": 0.5, \"trip_first_departure_ts\": 31500, \"trip_last_arrival_ts\": 33300, \"departure_hour\": 8, \"time_of_day\": \"AM Peak\", \"p25\": 0.37, \"p50\": 0.435, \"p75\": 0.5, \"p50_trip\": 1, \"fastest_trip\": 0, \"car_duration_hours\": 0.33, \"competitive_route\": 1, \"bus_multiplier\": 1.52, \"bus_difference\": 10.2, \"num_trips\": 26, \"num_competitive\": 26, \"pct_trips_competitive\": 1.0, \"bus_difference_spread\": 7.799999999999999, \"route_group\": \"short\", \"max_trip_hrs\": 0.5, \"max_trip_route_group\": 0.5, \"below_cutoff\": 26, \"pct_below_cutoff\": 1.0, \"name\": \"Redding Area Bus Authority\", \"caltrans_district\": \"02 - Redding\", \"drmt_organization_name\": null, \"route_name\": null, \"cutoff2\": 20, \"cutoff\": 0}, {\"calitp_itp_id\": 259, \"trip_key\": 2452781051441065514, \"trip_id\": \"t_887258_b_18260_tn_13\", \"shape_id\": \"p_788073\", \"route_id\": \"154\", \"service_hours\": 0.5, \"trip_first_departure_ts\": 67500, \"trip_last_arrival_ts\": 69300, \"departure_hour\": 18, \"time_of_day\": \"PM Peak\", \"p25\": 0.37, \"p50\": 0.435, \"p75\": 0.5, \"p50_trip\": 1, \"fastest_trip\": 0, \"car_duration_hours\": 0.33, \"competitive_route\": 1, \"bus_multiplier\": 1.52, \"bus_difference\": 10.2, \"num_trips\": 26, \"num_competitive\": 26, \"pct_trips_competitive\": 1.0, \"bus_difference_spread\": 7.799999999999999, \"route_group\": \"short\", \"max_trip_hrs\": 0.5, \"max_trip_route_group\": 0.5, \"below_cutoff\": 26, \"pct_below_cutoff\": 1.0, \"name\": \"Redding Area Bus Authority\", \"caltrans_district\": \"02 - Redding\", \"drmt_organization_name\": null, \"route_name\": null, \"cutoff2\": 20, \"cutoff\": 0}, {\"calitp_itp_id\": 259, \"trip_key\": 3477062907006470734, \"trip_id\": \"t_887258_b_18260_tn_5\", \"shape_id\": \"p_788073\", \"route_id\": \"154\", \"service_hours\": 0.5, \"trip_first_departure_ts\": 38700, \"trip_last_arrival_ts\": 40500, \"departure_hour\": 10, \"time_of_day\": \"Midday\", \"p25\": 0.37, \"p50\": 0.435, \"p75\": 0.5, \"p50_trip\": 1, \"fastest_trip\": 0, \"car_duration_hours\": 0.33, \"competitive_route\": 1, \"bus_multiplier\": 1.52, \"bus_difference\": 10.2, \"num_trips\": 26, \"num_competitive\": 26, \"pct_trips_competitive\": 1.0, \"bus_difference_spread\": 7.799999999999999, \"route_group\": \"short\", \"max_trip_hrs\": 0.5, \"max_trip_route_group\": 0.5, \"below_cutoff\": 26, \"pct_below_cutoff\": 1.0, \"name\": \"Redding Area Bus Authority\", \"caltrans_district\": \"02 - Redding\", \"drmt_organization_name\": null, \"route_name\": null, \"cutoff2\": 20, \"cutoff\": 0}, {\"calitp_itp_id\": 259, \"trip_key\": -2755901596584880623, \"trip_id\": \"t_887258_b_18260_tn_2\", \"shape_id\": \"p_788073\", \"route_id\": \"154\", \"service_hours\": 0.5, \"trip_first_departure_ts\": 27900, \"trip_last_arrival_ts\": 29700, \"departure_hour\": 7, \"time_of_day\": \"AM Peak\", \"p25\": 0.37, \"p50\": 0.435, \"p75\": 0.5, \"p50_trip\": 1, \"fastest_trip\": 0, \"car_duration_hours\": 0.33, \"competitive_route\": 1, \"bus_multiplier\": 1.52, \"bus_difference\": 10.2, \"num_trips\": 26, \"num_competitive\": 26, \"pct_trips_competitive\": 1.0, \"bus_difference_spread\": 7.799999999999999, \"route_group\": \"short\", \"max_trip_hrs\": 0.5, \"max_trip_route_group\": 0.5, \"below_cutoff\": 26, \"pct_below_cutoff\": 1.0, \"name\": \"Redding Area Bus Authority\", \"caltrans_district\": \"02 - Redding\", \"drmt_organization_name\": null, \"route_name\": null, \"cutoff2\": 20, \"cutoff\": 0}, {\"calitp_itp_id\": 259, \"trip_key\": 1454486581523869496, \"trip_id\": \"t_887258_b_18260_tn_12\", \"shape_id\": \"p_788073\", \"route_id\": \"154\", \"service_hours\": 0.5, \"trip_first_departure_ts\": 63900, \"trip_last_arrival_ts\": 65700, \"departure_hour\": 17, \"time_of_day\": \"PM Peak\", \"p25\": 0.37, \"p50\": 0.435, \"p75\": 0.5, \"p50_trip\": 1, \"fastest_trip\": 0, \"car_duration_hours\": 0.33, \"competitive_route\": 1, \"bus_multiplier\": 1.52, \"bus_difference\": 10.2, \"num_trips\": 26, \"num_competitive\": 26, \"pct_trips_competitive\": 1.0, \"bus_difference_spread\": 7.799999999999999, \"route_group\": \"short\", \"max_trip_hrs\": 0.5, \"max_trip_route_group\": 0.5, \"below_cutoff\": 26, \"pct_below_cutoff\": 1.0, \"name\": \"Redding Area Bus Authority\", \"caltrans_district\": \"02 - Redding\", \"drmt_organization_name\": null, \"route_name\": null, \"cutoff2\": 20, \"cutoff\": 0}, {\"calitp_itp_id\": 259, \"trip_key\": 2960130700103111954, \"trip_id\": \"t_887258_b_18260_tn_4\", \"shape_id\": \"p_788073\", \"route_id\": \"154\", \"service_hours\": 0.5, \"trip_first_departure_ts\": 35100, \"trip_last_arrival_ts\": 36900, \"departure_hour\": 9, \"time_of_day\": \"AM Peak\", \"p25\": 0.37, \"p50\": 0.435, \"p75\": 0.5, \"p50_trip\": 1, \"fastest_trip\": 0, \"car_duration_hours\": 0.33, \"competitive_route\": 1, \"bus_multiplier\": 1.52, \"bus_difference\": 10.2, \"num_trips\": 26, \"num_competitive\": 26, \"pct_trips_competitive\": 1.0, \"bus_difference_spread\": 7.799999999999999, \"route_group\": \"short\", \"max_trip_hrs\": 0.5, \"max_trip_route_group\": 0.5, \"below_cutoff\": 26, \"pct_below_cutoff\": 1.0, \"name\": \"Redding Area Bus Authority\", \"caltrans_district\": \"02 - Redding\", \"drmt_organization_name\": null, \"route_name\": null, \"cutoff2\": 20, \"cutoff\": 0}, {\"calitp_itp_id\": 259, \"trip_key\": 7765201409208460173, \"trip_id\": \"t_887258_b_18260_tn_11\", \"shape_id\": \"p_788073\", \"route_id\": \"154\", \"service_hours\": 0.5, \"trip_first_departure_ts\": 60300, \"trip_last_arrival_ts\": 62100, \"departure_hour\": 16, \"time_of_day\": \"Midday\", \"p25\": 0.37, \"p50\": 0.435, \"p75\": 0.5, \"p50_trip\": 1, \"fastest_trip\": 0, \"car_duration_hours\": 0.33, \"competitive_route\": 1, \"bus_multiplier\": 1.52, \"bus_difference\": 10.2, \"num_trips\": 26, \"num_competitive\": 26, \"pct_trips_competitive\": 1.0, \"bus_difference_spread\": 7.799999999999999, \"route_group\": \"short\", \"max_trip_hrs\": 0.5, \"max_trip_route_group\": 0.5, \"below_cutoff\": 26, \"pct_below_cutoff\": 1.0, \"name\": \"Redding Area Bus Authority\", \"caltrans_district\": \"02 - Redding\", \"drmt_organization_name\": null, \"route_name\": null, \"cutoff2\": 20, \"cutoff\": 0}, {\"calitp_itp_id\": 259, \"trip_key\": 6267175358330921031, \"trip_id\": \"t_887258_b_18260_tn_8\", \"shape_id\": \"p_788073\", \"route_id\": \"154\", \"service_hours\": 0.5, \"trip_first_departure_ts\": 49500, \"trip_last_arrival_ts\": 51300, \"departure_hour\": 13, \"time_of_day\": \"Midday\", \"p25\": 0.37, \"p50\": 0.435, \"p75\": 0.5, \"p50_trip\": 1, \"fastest_trip\": 0, \"car_duration_hours\": 0.33, \"competitive_route\": 1, \"bus_multiplier\": 1.52, \"bus_difference\": 10.2, \"num_trips\": 26, \"num_competitive\": 26, \"pct_trips_competitive\": 1.0, \"bus_difference_spread\": 7.799999999999999, \"route_group\": \"short\", \"max_trip_hrs\": 0.5, \"max_trip_route_group\": 0.5, \"below_cutoff\": 26, \"pct_below_cutoff\": 1.0, \"name\": \"Redding Area Bus Authority\", \"caltrans_district\": \"02 - Redding\", \"drmt_organization_name\": null, \"route_name\": null, \"cutoff2\": 20, \"cutoff\": 0}, {\"calitp_itp_id\": 259, \"trip_key\": 7215724026817992478, \"trip_id\": \"t_887258_b_18260_tn_9\", \"shape_id\": \"p_788073\", \"route_id\": \"154\", \"service_hours\": 0.5, \"trip_first_departure_ts\": 53100, \"trip_last_arrival_ts\": 54900, \"departure_hour\": 14, \"time_of_day\": \"Midday\", \"p25\": 0.37, \"p50\": 0.435, \"p75\": 0.5, \"p50_trip\": 1, \"fastest_trip\": 0, \"car_duration_hours\": 0.33, \"competitive_route\": 1, \"bus_multiplier\": 1.52, \"bus_difference\": 10.2, \"num_trips\": 26, \"num_competitive\": 26, \"pct_trips_competitive\": 1.0, \"bus_difference_spread\": 7.799999999999999, \"route_group\": \"short\", \"max_trip_hrs\": 0.5, \"max_trip_route_group\": 0.5, \"below_cutoff\": 26, \"pct_below_cutoff\": 1.0, \"name\": \"Redding Area Bus Authority\", \"caltrans_district\": \"02 - Redding\", \"drmt_organization_name\": null, \"route_name\": null, \"cutoff2\": 20, \"cutoff\": 0}, {\"calitp_itp_id\": 259, \"trip_key\": 3152447444512777808, \"trip_id\": \"t_819143_b_18260_tn_6\", \"shape_id\": \"p_2638\", \"route_id\": \"1886\", \"service_hours\": 0.42, \"trip_first_departure_ts\": 64200, \"trip_last_arrival_ts\": 65700, \"departure_hour\": 17, \"time_of_day\": \"PM Peak\", \"p25\": 0.42, \"p50\": 0.45, \"p75\": 0.45, \"p50_trip\": 0, \"fastest_trip\": 1, \"car_duration_hours\": 0.37, \"competitive_route\": 1, \"bus_multiplier\": 1.14, \"bus_difference\": 3.0, \"num_trips\": 13, \"num_competitive\": 13, \"pct_trips_competitive\": 1.0, \"bus_difference_spread\": 1.7999999999999998, \"route_group\": \"short\", \"max_trip_hrs\": 0.45, \"max_trip_route_group\": 0.45, \"below_cutoff\": 13, \"pct_below_cutoff\": 1.0, \"name\": \"Redding Area Bus Authority\", \"caltrans_district\": \"02 - Redding\", \"drmt_organization_name\": null, \"route_name\": \"Route 2 West\", \"cutoff2\": 20, \"cutoff\": 0}, {\"calitp_itp_id\": 259, \"trip_key\": -2236813786240702353, \"trip_id\": \"t_819143_b_18260_tn_1\", \"shape_id\": \"p_2638\", \"route_id\": \"1886\", \"service_hours\": 0.42, \"trip_first_departure_ts\": 28200, \"trip_last_arrival_ts\": 29700, \"departure_hour\": 7, \"time_of_day\": \"AM Peak\", \"p25\": 0.42, \"p50\": 0.45, \"p75\": 0.45, \"p50_trip\": 0, \"fastest_trip\": 0, \"car_duration_hours\": 0.37, \"competitive_route\": 1, \"bus_multiplier\": 1.14, \"bus_difference\": 3.0, \"num_trips\": 13, \"num_competitive\": 13, \"pct_trips_competitive\": 1.0, \"bus_difference_spread\": 1.7999999999999998, \"route_group\": \"short\", \"max_trip_hrs\": 0.45, \"max_trip_route_group\": 0.45, \"below_cutoff\": 13, \"pct_below_cutoff\": 1.0, \"name\": \"Redding Area Bus Authority\", \"caltrans_district\": \"02 - Redding\", \"drmt_organization_name\": null, \"route_name\": \"Route 2 West\", \"cutoff2\": 20, \"cutoff\": 0}, {\"calitp_itp_id\": 259, \"trip_key\": 8678687280237402354, \"trip_id\": \"t_819143_b_18260_tn_4\", \"shape_id\": \"p_2638\", \"route_id\": \"1886\", \"service_hours\": 0.42, \"trip_first_departure_ts\": 49800, \"trip_last_arrival_ts\": 51300, \"departure_hour\": 13, \"time_of_day\": \"Midday\", \"p25\": 0.42, \"p50\": 0.45, \"p75\": 0.45, \"p50_trip\": 0, \"fastest_trip\": 0, \"car_duration_hours\": 0.37, \"competitive_route\": 1, \"bus_multiplier\": 1.14, \"bus_difference\": 3.0, \"num_trips\": 13, \"num_competitive\": 13, \"pct_trips_competitive\": 1.0, \"bus_difference_spread\": 1.7999999999999998, \"route_group\": \"short\", \"max_trip_hrs\": 0.45, \"max_trip_route_group\": 0.45, \"below_cutoff\": 13, \"pct_below_cutoff\": 1.0, \"name\": \"Redding Area Bus Authority\", \"caltrans_district\": \"02 - Redding\", \"drmt_organization_name\": null, \"route_name\": \"Route 2 West\", \"cutoff2\": 20, \"cutoff\": 0}, {\"calitp_itp_id\": 259, \"trip_key\": 5906475941937099558, \"trip_id\": \"t_819143_b_18260_tn_3\", \"shape_id\": \"p_2638\", \"route_id\": \"1886\", \"service_hours\": 0.42, \"trip_first_departure_ts\": 42600, \"trip_last_arrival_ts\": 44100, \"departure_hour\": 11, \"time_of_day\": \"Midday\", \"p25\": 0.42, \"p50\": 0.45, \"p75\": 0.45, \"p50_trip\": 0, \"fastest_trip\": 0, \"car_duration_hours\": 0.37, \"competitive_route\": 1, \"bus_multiplier\": 1.14, \"bus_difference\": 3.0, \"num_trips\": 13, \"num_competitive\": 13, \"pct_trips_competitive\": 1.0, \"bus_difference_spread\": 1.7999999999999998, \"route_group\": \"short\", \"max_trip_hrs\": 0.45, \"max_trip_route_group\": 0.45, \"below_cutoff\": 13, \"pct_below_cutoff\": 1.0, \"name\": \"Redding Area Bus Authority\", \"caltrans_district\": \"02 - Redding\", \"drmt_organization_name\": null, \"route_name\": \"Route 2 West\", \"cutoff2\": 20, \"cutoff\": 0}, {\"calitp_itp_id\": 259, \"trip_key\": -8658051709559997889, \"trip_id\": \"t_819143_b_18260_tn_5\", \"shape_id\": \"p_2638\", \"route_id\": \"1886\", \"service_hours\": 0.42, \"trip_first_departure_ts\": 57000, \"trip_last_arrival_ts\": 58500, \"departure_hour\": 15, \"time_of_day\": \"Midday\", \"p25\": 0.42, \"p50\": 0.45, \"p75\": 0.45, \"p50_trip\": 0, \"fastest_trip\": 0, \"car_duration_hours\": 0.37, \"competitive_route\": 1, \"bus_multiplier\": 1.14, \"bus_difference\": 3.0, \"num_trips\": 13, \"num_competitive\": 13, \"pct_trips_competitive\": 1.0, \"bus_difference_spread\": 1.7999999999999998, \"route_group\": \"short\", \"max_trip_hrs\": 0.45, \"max_trip_route_group\": 0.45, \"below_cutoff\": 13, \"pct_below_cutoff\": 1.0, \"name\": \"Redding Area Bus Authority\", \"caltrans_district\": \"02 - Redding\", \"drmt_organization_name\": null, \"route_name\": \"Route 2 West\", \"cutoff2\": 20, \"cutoff\": 0}, {\"calitp_itp_id\": 259, \"trip_key\": 337682625766689229, \"trip_id\": \"t_819143_b_18260_tn_2\", \"shape_id\": \"p_2638\", \"route_id\": \"1886\", \"service_hours\": 0.42, \"trip_first_departure_ts\": 35400, \"trip_last_arrival_ts\": 36900, \"departure_hour\": 9, \"time_of_day\": \"AM Peak\", \"p25\": 0.42, \"p50\": 0.45, \"p75\": 0.45, \"p50_trip\": 0, \"fastest_trip\": 0, \"car_duration_hours\": 0.37, \"competitive_route\": 1, \"bus_multiplier\": 1.14, \"bus_difference\": 3.0, \"num_trips\": 13, \"num_competitive\": 13, \"pct_trips_competitive\": 1.0, \"bus_difference_spread\": 1.7999999999999998, \"route_group\": \"short\", \"max_trip_hrs\": 0.45, \"max_trip_route_group\": 0.45, \"below_cutoff\": 13, \"pct_below_cutoff\": 1.0, \"name\": \"Redding Area Bus Authority\", \"caltrans_district\": \"02 - Redding\", \"drmt_organization_name\": null, \"route_name\": \"Route 2 West\", \"cutoff2\": 20, \"cutoff\": 0}, {\"calitp_itp_id\": 259, \"trip_key\": 5311922238896118739, \"trip_id\": \"t_819142_b_18260_tn_3\", \"shape_id\": \"p_2628\", \"route_id\": \"1886\", \"service_hours\": 0.45, \"trip_first_departure_ts\": 39000, \"trip_last_arrival_ts\": 40620, \"departure_hour\": 10, \"time_of_day\": \"Midday\", \"p25\": 0.42, \"p50\": 0.45, \"p75\": 0.45, \"p50_trip\": 1, \"fastest_trip\": 0, \"car_duration_hours\": 0.37, \"competitive_route\": 1, \"bus_multiplier\": 1.22, \"bus_difference\": 4.8, \"num_trips\": 13, \"num_competitive\": 13, \"pct_trips_competitive\": 1.0, \"bus_difference_spread\": 1.7999999999999998, \"route_group\": \"short\", \"max_trip_hrs\": 0.45, \"max_trip_route_group\": 0.45, \"below_cutoff\": 13, \"pct_below_cutoff\": 1.0, \"name\": \"Redding Area Bus Authority\", \"caltrans_district\": \"02 - Redding\", \"drmt_organization_name\": null, \"route_name\": \"Route 2 West\", \"cutoff2\": 20, \"cutoff\": 0}, {\"calitp_itp_id\": 259, \"trip_key\": -7550713547101458317, \"trip_id\": \"t_819142_b_18260_tn_4\", \"shape_id\": \"p_2628\", \"route_id\": \"1886\", \"service_hours\": 0.45, \"trip_first_departure_ts\": 46200, \"trip_last_arrival_ts\": 47820, \"departure_hour\": 12, \"time_of_day\": \"Midday\", \"p25\": 0.42, \"p50\": 0.45, \"p75\": 0.45, \"p50_trip\": 1, \"fastest_trip\": 0, \"car_duration_hours\": 0.37, \"competitive_route\": 1, \"bus_multiplier\": 1.22, \"bus_difference\": 4.8, \"num_trips\": 13, \"num_competitive\": 13, \"pct_trips_competitive\": 1.0, \"bus_difference_spread\": 1.7999999999999998, \"route_group\": \"short\", \"max_trip_hrs\": 0.45, \"max_trip_route_group\": 0.45, \"below_cutoff\": 13, \"pct_below_cutoff\": 1.0, \"name\": \"Redding Area Bus Authority\", \"caltrans_district\": \"02 - Redding\", \"drmt_organization_name\": null, \"route_name\": \"Route 2 West\", \"cutoff2\": 20, \"cutoff\": 0}, {\"calitp_itp_id\": 259, \"trip_key\": 4456872241718230343, \"trip_id\": \"t_819142_b_18260_tn_5\", \"shape_id\": \"p_2628\", \"route_id\": \"1886\", \"service_hours\": 0.45, \"trip_first_departure_ts\": 53400, \"trip_last_arrival_ts\": 55020, \"departure_hour\": 14, \"time_of_day\": \"Midday\", \"p25\": 0.42, \"p50\": 0.45, \"p75\": 0.45, \"p50_trip\": 1, \"fastest_trip\": 0, \"car_duration_hours\": 0.37, \"competitive_route\": 1, \"bus_multiplier\": 1.22, \"bus_difference\": 4.8, \"num_trips\": 13, \"num_competitive\": 13, \"pct_trips_competitive\": 1.0, \"bus_difference_spread\": 1.7999999999999998, \"route_group\": \"short\", \"max_trip_hrs\": 0.45, \"max_trip_route_group\": 0.45, \"below_cutoff\": 13, \"pct_below_cutoff\": 1.0, \"name\": \"Redding Area Bus Authority\", \"caltrans_district\": \"02 - Redding\", \"drmt_organization_name\": null, \"route_name\": \"Route 2 West\", \"cutoff2\": 20, \"cutoff\": 0}, {\"calitp_itp_id\": 259, \"trip_key\": 3193380454791831162, \"trip_id\": \"t_819142_b_18260_tn_2\", \"shape_id\": \"p_2628\", \"route_id\": \"1886\", \"service_hours\": 0.45, \"trip_first_departure_ts\": 31800, \"trip_last_arrival_ts\": 33420, \"departure_hour\": 8, \"time_of_day\": \"AM Peak\", \"p25\": 0.42, \"p50\": 0.45, \"p75\": 0.45, \"p50_trip\": 1, \"fastest_trip\": 0, \"car_duration_hours\": 0.37, \"competitive_route\": 1, \"bus_multiplier\": 1.22, \"bus_difference\": 4.8, \"num_trips\": 13, \"num_competitive\": 13, \"pct_trips_competitive\": 1.0, \"bus_difference_spread\": 1.7999999999999998, \"route_group\": \"short\", \"max_trip_hrs\": 0.45, \"max_trip_route_group\": 0.45, \"below_cutoff\": 13, \"pct_below_cutoff\": 1.0, \"name\": \"Redding Area Bus Authority\", \"caltrans_district\": \"02 - Redding\", \"drmt_organization_name\": null, \"route_name\": \"Route 2 West\", \"cutoff2\": 20, \"cutoff\": 0}, {\"calitp_itp_id\": 259, \"trip_key\": -3263311129297506891, \"trip_id\": \"t_819142_b_18260_tn_6\", \"shape_id\": \"p_2628\", \"route_id\": \"1886\", \"service_hours\": 0.45, \"trip_first_departure_ts\": 60600, \"trip_last_arrival_ts\": 62220, \"departure_hour\": 16, \"time_of_day\": \"Midday\", \"p25\": 0.42, \"p50\": 0.45, \"p75\": 0.45, \"p50_trip\": 1, \"fastest_trip\": 0, \"car_duration_hours\": 0.37, \"competitive_route\": 1, \"bus_multiplier\": 1.22, \"bus_difference\": 4.8, \"num_trips\": 13, \"num_competitive\": 13, \"pct_trips_competitive\": 1.0, \"bus_difference_spread\": 1.7999999999999998, \"route_group\": \"short\", \"max_trip_hrs\": 0.45, \"max_trip_route_group\": 0.45, \"below_cutoff\": 13, \"pct_below_cutoff\": 1.0, \"name\": \"Redding Area Bus Authority\", \"caltrans_district\": \"02 - Redding\", \"drmt_organization_name\": null, \"route_name\": \"Route 2 West\", \"cutoff2\": 20, \"cutoff\": 0}, {\"calitp_itp_id\": 259, \"trip_key\": 6948657367198129512, \"trip_id\": \"t_819142_b_18260_tn_7\", \"shape_id\": \"p_2628\", \"route_id\": \"1886\", \"service_hours\": 0.45, \"trip_first_departure_ts\": 67800, \"trip_last_arrival_ts\": 69420, \"departure_hour\": 18, \"time_of_day\": \"PM Peak\", \"p25\": 0.42, \"p50\": 0.45, \"p75\": 0.45, \"p50_trip\": 1, \"fastest_trip\": 0, \"car_duration_hours\": 0.37, \"competitive_route\": 1, \"bus_multiplier\": 1.22, \"bus_difference\": 4.8, \"num_trips\": 13, \"num_competitive\": 13, \"pct_trips_competitive\": 1.0, \"bus_difference_spread\": 1.7999999999999998, \"route_group\": \"short\", \"max_trip_hrs\": 0.45, \"max_trip_route_group\": 0.45, \"below_cutoff\": 13, \"pct_below_cutoff\": 1.0, \"name\": \"Redding Area Bus Authority\", \"caltrans_district\": \"02 - Redding\", \"drmt_organization_name\": null, \"route_name\": \"Route 2 West\", \"cutoff2\": 20, \"cutoff\": 0}, {\"calitp_itp_id\": 259, \"trip_key\": -5506794380338047939, \"trip_id\": \"t_819142_b_18260_tn_1\", \"shape_id\": \"p_2628\", \"route_id\": \"1886\", \"service_hours\": 0.45, \"trip_first_departure_ts\": 24600, \"trip_last_arrival_ts\": 26220, \"departure_hour\": 6, \"time_of_day\": \"Owl Service\", \"p25\": 0.42, \"p50\": 0.45, \"p75\": 0.45, \"p50_trip\": 1, \"fastest_trip\": 0, \"car_duration_hours\": 0.37, \"competitive_route\": 1, \"bus_multiplier\": 1.22, \"bus_difference\": 4.8, \"num_trips\": 13, \"num_competitive\": 13, \"pct_trips_competitive\": 1.0, \"bus_difference_spread\": 1.7999999999999998, \"route_group\": \"short\", \"max_trip_hrs\": 0.45, \"max_trip_route_group\": 0.45, \"below_cutoff\": 13, \"pct_below_cutoff\": 1.0, \"name\": \"Redding Area Bus Authority\", \"caltrans_district\": \"02 - Redding\", \"drmt_organization_name\": null, \"route_name\": \"Route 2 West\", \"cutoff2\": 20, \"cutoff\": 0}, {\"calitp_itp_id\": 259, \"trip_key\": -2582351492021719363, \"trip_id\": \"t_74144_b_18260_tn_6\", \"shape_id\": \"p_2631\", \"route_id\": \"1887\", \"service_hours\": 0.45, \"trip_first_departure_ts\": 40800, \"trip_last_arrival_ts\": 42420, \"departure_hour\": 11, \"time_of_day\": \"Midday\", \"p25\": 0.45, \"p50\": 0.45, \"p75\": 0.45, \"p50_trip\": 1, \"fastest_trip\": 0, \"car_duration_hours\": 0.26, \"competitive_route\": 1, \"bus_multiplier\": 1.73, \"bus_difference\": 11.4, \"num_trips\": 13, \"num_competitive\": 13, \"pct_trips_competitive\": 1.0, \"bus_difference_spread\": 0.0, \"route_group\": \"short\", \"max_trip_hrs\": 0.45, \"max_trip_route_group\": 0.45, \"below_cutoff\": 13, \"pct_below_cutoff\": 1.0, \"name\": \"Redding Area Bus Authority\", \"caltrans_district\": \"02 - Redding\", \"drmt_organization_name\": null, \"route_name\": \"Route 2 East\", \"cutoff2\": 20, \"cutoff\": 0}, {\"calitp_itp_id\": 259, \"trip_key\": -3706694464223885964, \"trip_id\": \"t_74144_b_18260_tn_3\", \"shape_id\": \"p_2631\", \"route_id\": \"1887\", \"service_hours\": 0.45, \"trip_first_departure_ts\": 30000, \"trip_last_arrival_ts\": 31620, \"departure_hour\": 8, \"time_of_day\": \"AM Peak\", \"p25\": 0.45, \"p50\": 0.45, \"p75\": 0.45, \"p50_trip\": 1, \"fastest_trip\": 0, \"car_duration_hours\": 0.26, \"competitive_route\": 1, \"bus_multiplier\": 1.73, \"bus_difference\": 11.4, \"num_trips\": 13, \"num_competitive\": 13, \"pct_trips_competitive\": 1.0, \"bus_difference_spread\": 0.0, \"route_group\": \"short\", \"max_trip_hrs\": 0.45, \"max_trip_route_group\": 0.45, \"below_cutoff\": 13, \"pct_below_cutoff\": 1.0, \"name\": \"Redding Area Bus Authority\", \"caltrans_district\": \"02 - Redding\", \"drmt_organization_name\": null, \"route_name\": \"Route 2 East\", \"cutoff2\": 20, \"cutoff\": 0}, {\"calitp_itp_id\": 259, \"trip_key\": 3393295344213950212, \"trip_id\": \"t_74144_b_18260_tn_4\", \"shape_id\": \"p_2631\", \"route_id\": \"1887\", \"service_hours\": 0.45, \"trip_first_departure_ts\": 33600, \"trip_last_arrival_ts\": 35220, \"departure_hour\": 9, \"time_of_day\": \"AM Peak\", \"p25\": 0.45, \"p50\": 0.45, \"p75\": 0.45, \"p50_trip\": 1, \"fastest_trip\": 0, \"car_duration_hours\": 0.26, \"competitive_route\": 1, \"bus_multiplier\": 1.73, \"bus_difference\": 11.4, \"num_trips\": 13, \"num_competitive\": 13, \"pct_trips_competitive\": 1.0, \"bus_difference_spread\": 0.0, \"route_group\": \"short\", \"max_trip_hrs\": 0.45, \"max_trip_route_group\": 0.45, \"below_cutoff\": 13, \"pct_below_cutoff\": 1.0, \"name\": \"Redding Area Bus Authority\", \"caltrans_district\": \"02 - Redding\", \"drmt_organization_name\": null, \"route_name\": \"Route 2 East\", \"cutoff2\": 20, \"cutoff\": 0}, {\"calitp_itp_id\": 259, \"trip_key\": -4499988207329136117, \"trip_id\": \"t_74144_b_18260_tn_7\", \"shape_id\": \"p_2631\", \"route_id\": \"1887\", \"service_hours\": 0.45, \"trip_first_departure_ts\": 44400, \"trip_last_arrival_ts\": 46020, \"departure_hour\": 12, \"time_of_day\": \"Midday\", \"p25\": 0.45, \"p50\": 0.45, \"p75\": 0.45, \"p50_trip\": 1, \"fastest_trip\": 0, \"car_duration_hours\": 0.26, \"competitive_route\": 1, \"bus_multiplier\": 1.73, \"bus_difference\": 11.4, \"num_trips\": 13, \"num_competitive\": 13, \"pct_trips_competitive\": 1.0, \"bus_difference_spread\": 0.0, \"route_group\": \"short\", \"max_trip_hrs\": 0.45, \"max_trip_route_group\": 0.45, \"below_cutoff\": 13, \"pct_below_cutoff\": 1.0, \"name\": \"Redding Area Bus Authority\", \"caltrans_district\": \"02 - Redding\", \"drmt_organization_name\": null, \"route_name\": \"Route 2 East\", \"cutoff2\": 20, \"cutoff\": 0}, {\"calitp_itp_id\": 259, \"trip_key\": 2496553697750787698, \"trip_id\": \"t_74144_b_18260_tn_13\", \"shape_id\": \"p_2631\", \"route_id\": \"1887\", \"service_hours\": 0.45, \"trip_first_departure_ts\": 66000, \"trip_last_arrival_ts\": 67620, \"departure_hour\": 18, \"time_of_day\": \"PM Peak\", \"p25\": 0.45, \"p50\": 0.45, \"p75\": 0.45, \"p50_trip\": 1, \"fastest_trip\": 1, \"car_duration_hours\": 0.26, \"competitive_route\": 1, \"bus_multiplier\": 1.73, \"bus_difference\": 11.4, \"num_trips\": 13, \"num_competitive\": 13, \"pct_trips_competitive\": 1.0, \"bus_difference_spread\": 0.0, \"route_group\": \"short\", \"max_trip_hrs\": 0.45, \"max_trip_route_group\": 0.45, \"below_cutoff\": 13, \"pct_below_cutoff\": 1.0, \"name\": \"Redding Area Bus Authority\", \"caltrans_district\": \"02 - Redding\", \"drmt_organization_name\": null, \"route_name\": \"Route 2 East\", \"cutoff2\": 20, \"cutoff\": 0}, {\"calitp_itp_id\": 259, \"trip_key\": 4951179925292169804, \"trip_id\": \"t_74144_b_18260_tn_2\", \"shape_id\": \"p_2631\", \"route_id\": \"1887\", \"service_hours\": 0.45, \"trip_first_departure_ts\": 26400, \"trip_last_arrival_ts\": 28020, \"departure_hour\": 7, \"time_of_day\": \"AM Peak\", \"p25\": 0.45, \"p50\": 0.45, \"p75\": 0.45, \"p50_trip\": 1, \"fastest_trip\": 0, \"car_duration_hours\": 0.26, \"competitive_route\": 1, \"bus_multiplier\": 1.73, \"bus_difference\": 11.4, \"num_trips\": 13, \"num_competitive\": 13, \"pct_trips_competitive\": 1.0, \"bus_difference_spread\": 0.0, \"route_group\": \"short\", \"max_trip_hrs\": 0.45, \"max_trip_route_group\": 0.45, \"below_cutoff\": 13, \"pct_below_cutoff\": 1.0, \"name\": \"Redding Area Bus Authority\", \"caltrans_district\": \"02 - Redding\", \"drmt_organization_name\": null, \"route_name\": \"Route 2 East\", \"cutoff2\": 20, \"cutoff\": 0}, {\"calitp_itp_id\": 259, \"trip_key\": -3227969548637457775, \"trip_id\": \"t_74144_b_18260_tn_11\", \"shape_id\": \"p_2631\", \"route_id\": \"1887\", \"service_hours\": 0.45, \"trip_first_departure_ts\": 58800, \"trip_last_arrival_ts\": 60420, \"departure_hour\": 16, \"time_of_day\": \"Midday\", \"p25\": 0.45, \"p50\": 0.45, \"p75\": 0.45, \"p50_trip\": 1, \"fastest_trip\": 0, \"car_duration_hours\": 0.26, \"competitive_route\": 1, \"bus_multiplier\": 1.73, \"bus_difference\": 11.4, \"num_trips\": 13, \"num_competitive\": 13, \"pct_trips_competitive\": 1.0, \"bus_difference_spread\": 0.0, \"route_group\": \"short\", \"max_trip_hrs\": 0.45, \"max_trip_route_group\": 0.45, \"below_cutoff\": 13, \"pct_below_cutoff\": 1.0, \"name\": \"Redding Area Bus Authority\", \"caltrans_district\": \"02 - Redding\", \"drmt_organization_name\": null, \"route_name\": \"Route 2 East\", \"cutoff2\": 20, \"cutoff\": 0}, {\"calitp_itp_id\": 259, \"trip_key\": -1249631772884799172, \"trip_id\": \"t_74144_b_18260_tn_9\", \"shape_id\": \"p_2631\", \"route_id\": \"1887\", \"service_hours\": 0.45, \"trip_first_departure_ts\": 51600, \"trip_last_arrival_ts\": 53220, \"departure_hour\": 14, \"time_of_day\": \"Midday\", \"p25\": 0.45, \"p50\": 0.45, \"p75\": 0.45, \"p50_trip\": 1, \"fastest_trip\": 0, \"car_duration_hours\": 0.26, \"competitive_route\": 1, \"bus_multiplier\": 1.73, \"bus_difference\": 11.4, \"num_trips\": 13, \"num_competitive\": 13, \"pct_trips_competitive\": 1.0, \"bus_difference_spread\": 0.0, \"route_group\": \"short\", \"max_trip_hrs\": 0.45, \"max_trip_route_group\": 0.45, \"below_cutoff\": 13, \"pct_below_cutoff\": 1.0, \"name\": \"Redding Area Bus Authority\", \"caltrans_district\": \"02 - Redding\", \"drmt_organization_name\": null, \"route_name\": \"Route 2 East\", \"cutoff2\": 20, \"cutoff\": 0}, {\"calitp_itp_id\": 259, \"trip_key\": -8871832278610187454, \"trip_id\": \"t_74144_b_18260_tn_12\", \"shape_id\": \"p_2631\", \"route_id\": \"1887\", \"service_hours\": 0.45, \"trip_first_departure_ts\": 62400, \"trip_last_arrival_ts\": 64020, \"departure_hour\": 17, \"time_of_day\": \"PM Peak\", \"p25\": 0.45, \"p50\": 0.45, \"p75\": 0.45, \"p50_trip\": 1, \"fastest_trip\": 0, \"car_duration_hours\": 0.26, \"competitive_route\": 1, \"bus_multiplier\": 1.73, \"bus_difference\": 11.4, \"num_trips\": 13, \"num_competitive\": 13, \"pct_trips_competitive\": 1.0, \"bus_difference_spread\": 0.0, \"route_group\": \"short\", \"max_trip_hrs\": 0.45, \"max_trip_route_group\": 0.45, \"below_cutoff\": 13, \"pct_below_cutoff\": 1.0, \"name\": \"Redding Area Bus Authority\", \"caltrans_district\": \"02 - Redding\", \"drmt_organization_name\": null, \"route_name\": \"Route 2 East\", \"cutoff2\": 20, \"cutoff\": 0}, {\"calitp_itp_id\": 259, \"trip_key\": -1985793655546598807, \"trip_id\": \"t_74144_b_18260_tn_10\", \"shape_id\": \"p_2631\", \"route_id\": \"1887\", \"service_hours\": 0.45, \"trip_first_departure_ts\": 55200, \"trip_last_arrival_ts\": 56820, \"departure_hour\": 15, \"time_of_day\": \"Midday\", \"p25\": 0.45, \"p50\": 0.45, \"p75\": 0.45, \"p50_trip\": 1, \"fastest_trip\": 0, \"car_duration_hours\": 0.26, \"competitive_route\": 1, \"bus_multiplier\": 1.73, \"bus_difference\": 11.4, \"num_trips\": 13, \"num_competitive\": 13, \"pct_trips_competitive\": 1.0, \"bus_difference_spread\": 0.0, \"route_group\": \"short\", \"max_trip_hrs\": 0.45, \"max_trip_route_group\": 0.45, \"below_cutoff\": 13, \"pct_below_cutoff\": 1.0, \"name\": \"Redding Area Bus Authority\", \"caltrans_district\": \"02 - Redding\", \"drmt_organization_name\": null, \"route_name\": \"Route 2 East\", \"cutoff2\": 20, \"cutoff\": 0}, {\"calitp_itp_id\": 259, \"trip_key\": 7442328314443052505, \"trip_id\": \"t_74144_b_18260_tn_1\", \"shape_id\": \"p_2631\", \"route_id\": \"1887\", \"service_hours\": 0.45, \"trip_first_departure_ts\": 22800, \"trip_last_arrival_ts\": 24420, \"departure_hour\": 6, \"time_of_day\": \"Owl Service\", \"p25\": 0.45, \"p50\": 0.45, \"p75\": 0.45, \"p50_trip\": 1, \"fastest_trip\": 0, \"car_duration_hours\": 0.26, \"competitive_route\": 1, \"bus_multiplier\": 1.73, \"bus_difference\": 11.4, \"num_trips\": 13, \"num_competitive\": 13, \"pct_trips_competitive\": 1.0, \"bus_difference_spread\": 0.0, \"route_group\": \"short\", \"max_trip_hrs\": 0.45, \"max_trip_route_group\": 0.45, \"below_cutoff\": 13, \"pct_below_cutoff\": 1.0, \"name\": \"Redding Area Bus Authority\", \"caltrans_district\": \"02 - Redding\", \"drmt_organization_name\": null, \"route_name\": \"Route 2 East\", \"cutoff2\": 20, \"cutoff\": 0}, {\"calitp_itp_id\": 259, \"trip_key\": 2882604947291681427, \"trip_id\": \"t_74144_b_18260_tn_8\", \"shape_id\": \"p_2631\", \"route_id\": \"1887\", \"service_hours\": 0.45, \"trip_first_departure_ts\": 48000, \"trip_last_arrival_ts\": 49620, \"departure_hour\": 13, \"time_of_day\": \"Midday\", \"p25\": 0.45, \"p50\": 0.45, \"p75\": 0.45, \"p50_trip\": 1, \"fastest_trip\": 0, \"car_duration_hours\": 0.26, \"competitive_route\": 1, \"bus_multiplier\": 1.73, \"bus_difference\": 11.4, \"num_trips\": 13, \"num_competitive\": 13, \"pct_trips_competitive\": 1.0, \"bus_difference_spread\": 0.0, \"route_group\": \"short\", \"max_trip_hrs\": 0.45, \"max_trip_route_group\": 0.45, \"below_cutoff\": 13, \"pct_below_cutoff\": 1.0, \"name\": \"Redding Area Bus Authority\", \"caltrans_district\": \"02 - Redding\", \"drmt_organization_name\": null, \"route_name\": \"Route 2 East\", \"cutoff2\": 20, \"cutoff\": 0}, {\"calitp_itp_id\": 259, \"trip_key\": -1906391945084483119, \"trip_id\": \"t_74144_b_18260_tn_5\", \"shape_id\": \"p_2631\", \"route_id\": \"1887\", \"service_hours\": 0.45, \"trip_first_departure_ts\": 37200, \"trip_last_arrival_ts\": 38820, \"departure_hour\": 10, \"time_of_day\": \"Midday\", \"p25\": 0.45, \"p50\": 0.45, \"p75\": 0.45, \"p50_trip\": 1, \"fastest_trip\": 0, \"car_duration_hours\": 0.26, \"competitive_route\": 1, \"bus_multiplier\": 1.73, \"bus_difference\": 11.4, \"num_trips\": 13, \"num_competitive\": 13, \"pct_trips_competitive\": 1.0, \"bus_difference_spread\": 0.0, \"route_group\": \"short\", \"max_trip_hrs\": 0.45, \"max_trip_route_group\": 0.45, \"below_cutoff\": 13, \"pct_below_cutoff\": 1.0, \"name\": \"Redding Area Bus Authority\", \"caltrans_district\": \"02 - Redding\", \"drmt_organization_name\": null, \"route_name\": \"Route 2 East\", \"cutoff2\": 20, \"cutoff\": 0}, {\"calitp_itp_id\": 259, \"trip_key\": -5325820395953057667, \"trip_id\": \"t_119394_b_18260_tn_2\", \"shape_id\": \"p_110998\", \"route_id\": \"6446\", \"service_hours\": 0.45, \"trip_first_departure_ts\": 44400, \"trip_last_arrival_ts\": 46020, \"departure_hour\": 12, \"time_of_day\": \"Midday\", \"p25\": 0.45, \"p50\": 0.45, \"p75\": 0.45, \"p50_trip\": 1, \"fastest_trip\": 0, \"car_duration_hours\": 0.32, \"competitive_route\": 1, \"bus_multiplier\": 1.41, \"bus_difference\": 7.8, \"num_trips\": 15, \"num_competitive\": 15, \"pct_trips_competitive\": 1.0, \"bus_difference_spread\": 0.0, \"route_group\": \"short\", \"max_trip_hrs\": 0.45, \"max_trip_route_group\": 0.45, \"below_cutoff\": 15, \"pct_below_cutoff\": 1.0, \"name\": \"Redding Area Bus Authority\", \"caltrans_district\": \"02 - Redding\", \"drmt_organization_name\": null, \"route_name\": null, \"cutoff2\": 20, \"cutoff\": 0}, {\"calitp_itp_id\": 259, \"trip_key\": -4353886752018440376, \"trip_id\": \"t_144778_b_18260_tn_0\", \"shape_id\": \"p_111010\", \"route_id\": \"6446\", \"service_hours\": 0.45, \"trip_first_departure_ts\": 53400, \"trip_last_arrival_ts\": 55020, \"departure_hour\": 14, \"time_of_day\": \"Midday\", \"p25\": 0.45, \"p50\": 0.45, \"p75\": 0.45, \"p50_trip\": 1, \"fastest_trip\": 0, \"car_duration_hours\": 0.32, \"competitive_route\": 1, \"bus_multiplier\": 1.41, \"bus_difference\": 7.8, \"num_trips\": 15, \"num_competitive\": 15, \"pct_trips_competitive\": 1.0, \"bus_difference_spread\": 0.0, \"route_group\": \"short\", \"max_trip_hrs\": 0.45, \"max_trip_route_group\": 0.45, \"below_cutoff\": 15, \"pct_below_cutoff\": 1.0, \"name\": \"Redding Area Bus Authority\", \"caltrans_district\": \"02 - Redding\", \"drmt_organization_name\": null, \"route_name\": null, \"cutoff2\": 20, \"cutoff\": 0}, {\"calitp_itp_id\": 259, \"trip_key\": 3093149604909520977, \"trip_id\": \"t_144779_b_18260_tn_0\", \"shape_id\": \"p_111010\", \"route_id\": \"6446\", \"service_hours\": 0.45, \"trip_first_departure_ts\": 67800, \"trip_last_arrival_ts\": 69420, \"departure_hour\": 18, \"time_of_day\": \"PM Peak\", \"p25\": 0.45, \"p50\": 0.45, \"p75\": 0.45, \"p50_trip\": 1, \"fastest_trip\": 1, \"car_duration_hours\": 0.32, \"competitive_route\": 1, \"bus_multiplier\": 1.41, \"bus_difference\": 7.8, \"num_trips\": 15, \"num_competitive\": 15, \"pct_trips_competitive\": 1.0, \"bus_difference_spread\": 0.0, \"route_group\": \"short\", \"max_trip_hrs\": 0.45, \"max_trip_route_group\": 0.45, \"below_cutoff\": 15, \"pct_below_cutoff\": 1.0, \"name\": \"Redding Area Bus Authority\", \"caltrans_district\": \"02 - Redding\", \"drmt_organization_name\": null, \"route_name\": null, \"cutoff2\": 20, \"cutoff\": 0}, {\"calitp_itp_id\": 259, \"trip_key\": -8484182680555926031, \"trip_id\": \"t_144777_b_18260_tn_2\", \"shape_id\": \"p_111010\", \"route_id\": \"6446\", \"service_hours\": 0.45, \"trip_first_departure_ts\": 42600, \"trip_last_arrival_ts\": 44220, \"departure_hour\": 11, \"time_of_day\": \"Midday\", \"p25\": 0.45, \"p50\": 0.45, \"p75\": 0.45, \"p50_trip\": 1, \"fastest_trip\": 0, \"car_duration_hours\": 0.32, \"competitive_route\": 1, \"bus_multiplier\": 1.41, \"bus_difference\": 7.8, \"num_trips\": 15, \"num_competitive\": 15, \"pct_trips_competitive\": 1.0, \"bus_difference_spread\": 0.0, \"route_group\": \"short\", \"max_trip_hrs\": 0.45, \"max_trip_route_group\": 0.45, \"below_cutoff\": 15, \"pct_below_cutoff\": 1.0, \"name\": \"Redding Area Bus Authority\", \"caltrans_district\": \"02 - Redding\", \"drmt_organization_name\": null, \"route_name\": null, \"cutoff2\": 20, \"cutoff\": 0}, {\"calitp_itp_id\": 259, \"trip_key\": -6661305375460089371, \"trip_id\": \"t_144777_b_18260_tn_3\", \"shape_id\": \"p_111010\", \"route_id\": \"6446\", \"service_hours\": 0.45, \"trip_first_departure_ts\": 49800, \"trip_last_arrival_ts\": 51420, \"departure_hour\": 13, \"time_of_day\": \"Midday\", \"p25\": 0.45, \"p50\": 0.45, \"p75\": 0.45, \"p50_trip\": 1, \"fastest_trip\": 0, \"car_duration_hours\": 0.32, \"competitive_route\": 1, \"bus_multiplier\": 1.41, \"bus_difference\": 7.8, \"num_trips\": 15, \"num_competitive\": 15, \"pct_trips_competitive\": 1.0, \"bus_difference_spread\": 0.0, \"route_group\": \"short\", \"max_trip_hrs\": 0.45, \"max_trip_route_group\": 0.45, \"below_cutoff\": 15, \"pct_below_cutoff\": 1.0, \"name\": \"Redding Area Bus Authority\", \"caltrans_district\": \"02 - Redding\", \"drmt_organization_name\": null, \"route_name\": null, \"cutoff2\": 20, \"cutoff\": 0}, {\"calitp_itp_id\": 259, \"trip_key\": -1949181329910803879, \"trip_id\": \"t_144777_b_18260_tn_4\", \"shape_id\": \"p_111010\", \"route_id\": \"6446\", \"service_hours\": 0.45, \"trip_first_departure_ts\": 57000, \"trip_last_arrival_ts\": 58620, \"departure_hour\": 15, \"time_of_day\": \"Midday\", \"p25\": 0.45, \"p50\": 0.45, \"p75\": 0.45, \"p50_trip\": 1, \"fastest_trip\": 0, \"car_duration_hours\": 0.32, \"competitive_route\": 1, \"bus_multiplier\": 1.41, \"bus_difference\": 7.8, \"num_trips\": 15, \"num_competitive\": 15, \"pct_trips_competitive\": 1.0, \"bus_difference_spread\": 0.0, \"route_group\": \"short\", \"max_trip_hrs\": 0.45, \"max_trip_route_group\": 0.45, \"below_cutoff\": 15, \"pct_below_cutoff\": 1.0, \"name\": \"Redding Area Bus Authority\", \"caltrans_district\": \"02 - Redding\", \"drmt_organization_name\": null, \"route_name\": null, \"cutoff2\": 20, \"cutoff\": 0}, {\"calitp_itp_id\": 259, \"trip_key\": 5275103249611645366, \"trip_id\": \"t_145313_b_18260_tn_0\", \"shape_id\": \"p_110998\", \"route_id\": \"6446\", \"service_hours\": 0.45, \"trip_first_departure_ts\": 66000, \"trip_last_arrival_ts\": 67620, \"departure_hour\": 18, \"time_of_day\": \"PM Peak\", \"p25\": 0.45, \"p50\": 0.45, \"p75\": 0.45, \"p50_trip\": 1, \"fastest_trip\": 0, \"car_duration_hours\": 0.32, \"competitive_route\": 1, \"bus_multiplier\": 1.41, \"bus_difference\": 7.8, \"num_trips\": 15, \"num_competitive\": 15, \"pct_trips_competitive\": 1.0, \"bus_difference_spread\": 0.0, \"route_group\": \"short\", \"max_trip_hrs\": 0.45, \"max_trip_route_group\": 0.45, \"below_cutoff\": 15, \"pct_below_cutoff\": 1.0, \"name\": \"Redding Area Bus Authority\", \"caltrans_district\": \"02 - Redding\", \"drmt_organization_name\": null, \"route_name\": null, \"cutoff2\": 20, \"cutoff\": 0}, {\"calitp_itp_id\": 259, \"trip_key\": 4896211993174383687, \"trip_id\": \"t_119395_b_18260_tn_0\", \"shape_id\": \"p_110998\", \"route_id\": \"6446\", \"service_hours\": 0.45, \"trip_first_departure_ts\": 55200, \"trip_last_arrival_ts\": 56820, \"departure_hour\": 15, \"time_of_day\": \"Midday\", \"p25\": 0.45, \"p50\": 0.45, \"p75\": 0.45, \"p50_trip\": 1, \"fastest_trip\": 0, \"car_duration_hours\": 0.32, \"competitive_route\": 1, \"bus_multiplier\": 1.41, \"bus_difference\": 7.8, \"num_trips\": 15, \"num_competitive\": 15, \"pct_trips_competitive\": 1.0, \"bus_difference_spread\": 0.0, \"route_group\": \"short\", \"max_trip_hrs\": 0.45, \"max_trip_route_group\": 0.45, \"below_cutoff\": 15, \"pct_below_cutoff\": 1.0, \"name\": \"Redding Area Bus Authority\", \"caltrans_district\": \"02 - Redding\", \"drmt_organization_name\": null, \"route_name\": null, \"cutoff2\": 20, \"cutoff\": 0}, {\"calitp_itp_id\": 259, \"trip_key\": -1395844342660985590, \"trip_id\": \"t_145312_b_18260_tn_0\", \"shape_id\": \"p_110998\", \"route_id\": \"6446\", \"service_hours\": 0.45, \"trip_first_departure_ts\": 58800, \"trip_last_arrival_ts\": 60420, \"departure_hour\": 16, \"time_of_day\": \"Midday\", \"p25\": 0.45, \"p50\": 0.45, \"p75\": 0.45, \"p50_trip\": 1, \"fastest_trip\": 0, \"car_duration_hours\": 0.32, \"competitive_route\": 1, \"bus_multiplier\": 1.41, \"bus_difference\": 7.8, \"num_trips\": 15, \"num_competitive\": 15, \"pct_trips_competitive\": 1.0, \"bus_difference_spread\": 0.0, \"route_group\": \"short\", \"max_trip_hrs\": 0.45, \"max_trip_route_group\": 0.45, \"below_cutoff\": 15, \"pct_below_cutoff\": 1.0, \"name\": \"Redding Area Bus Authority\", \"caltrans_district\": \"02 - Redding\", \"drmt_organization_name\": null, \"route_name\": null, \"cutoff2\": 20, \"cutoff\": 0}, {\"calitp_itp_id\": 259, \"trip_key\": -71081321247707660, \"trip_id\": \"t_119394_b_18260_tn_1\", \"shape_id\": \"p_110998\", \"route_id\": \"6446\", \"service_hours\": 0.45, \"trip_first_departure_ts\": 37200, \"trip_last_arrival_ts\": 38820, \"departure_hour\": 10, \"time_of_day\": \"Midday\", \"p25\": 0.45, \"p50\": 0.45, \"p75\": 0.45, \"p50_trip\": 1, \"fastest_trip\": 0, \"car_duration_hours\": 0.32, \"competitive_route\": 1, \"bus_multiplier\": 1.41, \"bus_difference\": 7.8, \"num_trips\": 15, \"num_competitive\": 15, \"pct_trips_competitive\": 1.0, \"bus_difference_spread\": 0.0, \"route_group\": \"short\", \"max_trip_hrs\": 0.45, \"max_trip_route_group\": 0.45, \"below_cutoff\": 15, \"pct_below_cutoff\": 1.0, \"name\": \"Redding Area Bus Authority\", \"caltrans_district\": \"02 - Redding\", \"drmt_organization_name\": null, \"route_name\": null, \"cutoff2\": 20, \"cutoff\": 0}, {\"calitp_itp_id\": 259, \"trip_key\": -1579561441970740906, \"trip_id\": \"t_119393_b_18260_tn_0\", \"shape_id\": \"p_110998\", \"route_id\": \"6446\", \"service_hours\": 0.45, \"trip_first_departure_ts\": 22800, \"trip_last_arrival_ts\": 24420, \"departure_hour\": 6, \"time_of_day\": \"Owl Service\", \"p25\": 0.45, \"p50\": 0.45, \"p75\": 0.45, \"p50_trip\": 1, \"fastest_trip\": 0, \"car_duration_hours\": 0.32, \"competitive_route\": 1, \"bus_multiplier\": 1.41, \"bus_difference\": 7.8, \"num_trips\": 15, \"num_competitive\": 15, \"pct_trips_competitive\": 1.0, \"bus_difference_spread\": 0.0, \"route_group\": \"short\", \"max_trip_hrs\": 0.45, \"max_trip_route_group\": 0.45, \"below_cutoff\": 15, \"pct_below_cutoff\": 1.0, \"name\": \"Redding Area Bus Authority\", \"caltrans_district\": \"02 - Redding\", \"drmt_organization_name\": null, \"route_name\": null, \"cutoff2\": 20, \"cutoff\": 0}, {\"calitp_itp_id\": 259, \"trip_key\": -7091022489935631117, \"trip_id\": \"t_144777_b_18260_tn_5\", \"shape_id\": \"p_111010\", \"route_id\": \"6446\", \"service_hours\": 0.45, \"trip_first_departure_ts\": 64200, \"trip_last_arrival_ts\": 65820, \"departure_hour\": 17, \"time_of_day\": \"PM Peak\", \"p25\": 0.45, \"p50\": 0.45, \"p75\": 0.45, \"p50_trip\": 1, \"fastest_trip\": 0, \"car_duration_hours\": 0.32, \"competitive_route\": 1, \"bus_multiplier\": 1.41, \"bus_difference\": 7.8, \"num_trips\": 15, \"num_competitive\": 15, \"pct_trips_competitive\": 1.0, \"bus_difference_spread\": 0.0, \"route_group\": \"short\", \"max_trip_hrs\": 0.45, \"max_trip_route_group\": 0.45, \"below_cutoff\": 15, \"pct_below_cutoff\": 1.0, \"name\": \"Redding Area Bus Authority\", \"caltrans_district\": \"02 - Redding\", \"drmt_organization_name\": null, \"route_name\": null, \"cutoff2\": 20, \"cutoff\": 0}, {\"calitp_itp_id\": 259, \"trip_key\": 6714306432209378943, \"trip_id\": \"t_119399_b_18260_tn_0\", \"shape_id\": \"p_110998\", \"route_id\": \"6446\", \"service_hours\": 0.45, \"trip_first_departure_ts\": 30000, \"trip_last_arrival_ts\": 31620, \"departure_hour\": 8, \"time_of_day\": \"AM Peak\", \"p25\": 0.45, \"p50\": 0.45, \"p75\": 0.45, \"p50_trip\": 1, \"fastest_trip\": 0, \"car_duration_hours\": 0.32, \"competitive_route\": 1, \"bus_multiplier\": 1.41, \"bus_difference\": 7.8, \"num_trips\": 15, \"num_competitive\": 15, \"pct_trips_competitive\": 1.0, \"bus_difference_spread\": 0.0, \"route_group\": \"short\", \"max_trip_hrs\": 0.45, \"max_trip_route_group\": 0.45, \"below_cutoff\": 15, \"pct_below_cutoff\": 1.0, \"name\": \"Redding Area Bus Authority\", \"caltrans_district\": \"02 - Redding\", \"drmt_organization_name\": null, \"route_name\": null, \"cutoff2\": 20, \"cutoff\": 0}, {\"calitp_itp_id\": 259, \"trip_key\": -5533988951746733650, \"trip_id\": \"t_145311_b_18260_tn_0\", \"shape_id\": \"p_110998\", \"route_id\": \"6446\", \"service_hours\": 0.45, \"trip_first_departure_ts\": 51600, \"trip_last_arrival_ts\": 53220, \"departure_hour\": 14, \"time_of_day\": \"Midday\", \"p25\": 0.45, \"p50\": 0.45, \"p75\": 0.45, \"p50_trip\": 1, \"fastest_trip\": 0, \"car_duration_hours\": 0.32, \"competitive_route\": 1, \"bus_multiplier\": 1.41, \"bus_difference\": 7.8, \"num_trips\": 15, \"num_competitive\": 15, \"pct_trips_competitive\": 1.0, \"bus_difference_spread\": 0.0, \"route_group\": \"short\", \"max_trip_hrs\": 0.45, \"max_trip_route_group\": 0.45, \"below_cutoff\": 15, \"pct_below_cutoff\": 1.0, \"name\": \"Redding Area Bus Authority\", \"caltrans_district\": \"02 - Redding\", \"drmt_organization_name\": null, \"route_name\": null, \"cutoff2\": 20, \"cutoff\": 0}, {\"calitp_itp_id\": 259, \"trip_key\": -1450819695609656086, \"trip_id\": \"t_144777_b_18260_tn_1\", \"shape_id\": \"p_111010\", \"route_id\": \"6446\", \"service_hours\": 0.45, \"trip_first_departure_ts\": 35400, \"trip_last_arrival_ts\": 37020, \"departure_hour\": 9, \"time_of_day\": \"AM Peak\", \"p25\": 0.45, \"p50\": 0.45, \"p75\": 0.45, \"p50_trip\": 1, \"fastest_trip\": 0, \"car_duration_hours\": 0.32, \"competitive_route\": 1, \"bus_multiplier\": 1.41, \"bus_difference\": 7.8, \"num_trips\": 15, \"num_competitive\": 15, \"pct_trips_competitive\": 1.0, \"bus_difference_spread\": 0.0, \"route_group\": \"short\", \"max_trip_hrs\": 0.45, \"max_trip_route_group\": 0.45, \"below_cutoff\": 15, \"pct_below_cutoff\": 1.0, \"name\": \"Redding Area Bus Authority\", \"caltrans_district\": \"02 - Redding\", \"drmt_organization_name\": null, \"route_name\": null, \"cutoff2\": 20, \"cutoff\": 0}]}}, {\"mode\": \"vega-lite\"});\n",
       "</script>"
      ],
      "text/plain": [
       "alt.FacetChart(...)"
      ]
     },
     "metadata": {},
     "output_type": "display_data"
    },
    {
     "data": {
      "text/html": [
       "<h4>Route Stats</h4>"
      ],
      "text/plain": [
       "<IPython.core.display.HTML object>"
      ]
     },
     "metadata": {},
     "output_type": "display_data"
    },
    {
     "data": {
      "text/html": [
       "<style type=\"text/css\">\n",
       "</style>\n",
       "<table id=\"T_2d386\">\n",
       "  <thead>\n",
       "    <tr>\n",
       "      <th id=\"T_2d386_level0_col0\" class=\"col_heading level0 col0\" >Route ID</th>\n",
       "      <th id=\"T_2d386_level0_col1\" class=\"col_heading level0 col1\" >Route Name</th>\n",
       "      <th id=\"T_2d386_level0_col2\" class=\"col_heading level0 col2\" ># trips</th>\n",
       "      <th id=\"T_2d386_level0_col3\" class=\"col_heading level0 col3\" >Daily Avg Frequency (trips per hr)</th>\n",
       "      <th id=\"T_2d386_level0_col4\" class=\"col_heading level0 col4\" >25th, 50th, 75th ptile (hrs)</th>\n",
       "      <th id=\"T_2d386_level0_col5\" class=\"col_heading level0 col5\" >PM Peak Avg Frequency (trips per hr)</th>\n",
       "    </tr>\n",
       "  </thead>\n",
       "  <tbody>\n",
       "    <tr>\n",
       "      <td id=\"T_2d386_row0_col0\" class=\"data row0 col0\" >153</td>\n",
       "      <td id=\"T_2d386_row0_col1\" class=\"data row0 col1\" >None</td>\n",
       "      <td id=\"T_2d386_row0_col2\" class=\"data row0 col2\" >26</td>\n",
       "      <td id=\"T_2d386_row0_col3\" class=\"data row0 col3\" >1.08</td>\n",
       "      <td id=\"T_2d386_row0_col4\" class=\"data row0 col4\" >0.42, 0.44, 0.45</td>\n",
       "      <td id=\"T_2d386_row0_col5\" class=\"data row0 col5\" >nan</td>\n",
       "    </tr>\n",
       "    <tr>\n",
       "      <td id=\"T_2d386_row1_col0\" class=\"data row1 col0\" >154</td>\n",
       "      <td id=\"T_2d386_row1_col1\" class=\"data row1 col1\" >None</td>\n",
       "      <td id=\"T_2d386_row1_col2\" class=\"data row1 col2\" >26</td>\n",
       "      <td id=\"T_2d386_row1_col3\" class=\"data row1 col3\" >1.08</td>\n",
       "      <td id=\"T_2d386_row1_col4\" class=\"data row1 col4\" >0.37, 0.44, 0.5</td>\n",
       "      <td id=\"T_2d386_row1_col5\" class=\"data row1 col5\" >nan</td>\n",
       "    </tr>\n",
       "    <tr>\n",
       "      <td id=\"T_2d386_row2_col0\" class=\"data row2 col0\" >6446</td>\n",
       "      <td id=\"T_2d386_row2_col1\" class=\"data row2 col1\" >None</td>\n",
       "      <td id=\"T_2d386_row2_col2\" class=\"data row2 col2\" >15</td>\n",
       "      <td id=\"T_2d386_row2_col3\" class=\"data row2 col3\" >0.62</td>\n",
       "      <td id=\"T_2d386_row2_col4\" class=\"data row2 col4\" >0.45, 0.45, 0.45</td>\n",
       "      <td id=\"T_2d386_row2_col5\" class=\"data row2 col5\" >nan</td>\n",
       "    </tr>\n",
       "    <tr>\n",
       "      <td id=\"T_2d386_row3_col0\" class=\"data row3 col0\" >151</td>\n",
       "      <td id=\"T_2d386_row3_col1\" class=\"data row3 col1\" >None</td>\n",
       "      <td id=\"T_2d386_row3_col2\" class=\"data row3 col2\" >14</td>\n",
       "      <td id=\"T_2d386_row3_col3\" class=\"data row3 col3\" >0.58</td>\n",
       "      <td id=\"T_2d386_row3_col4\" class=\"data row3 col4\" >0.92, 0.92, 0.92</td>\n",
       "      <td id=\"T_2d386_row3_col5\" class=\"data row3 col5\" >nan</td>\n",
       "    </tr>\n",
       "    <tr>\n",
       "      <td id=\"T_2d386_row4_col0\" class=\"data row4 col0\" >1886</td>\n",
       "      <td id=\"T_2d386_row4_col1\" class=\"data row4 col1\" >Route 2 West</td>\n",
       "      <td id=\"T_2d386_row4_col2\" class=\"data row4 col2\" >13</td>\n",
       "      <td id=\"T_2d386_row4_col3\" class=\"data row4 col3\" >0.54</td>\n",
       "      <td id=\"T_2d386_row4_col4\" class=\"data row4 col4\" >0.42, 0.45, 0.45</td>\n",
       "      <td id=\"T_2d386_row4_col5\" class=\"data row4 col5\" >0.67</td>\n",
       "    </tr>\n",
       "    <tr>\n",
       "      <td id=\"T_2d386_row5_col0\" class=\"data row5 col0\" >1887</td>\n",
       "      <td id=\"T_2d386_row5_col1\" class=\"data row5 col1\" >Route 2 East</td>\n",
       "      <td id=\"T_2d386_row5_col2\" class=\"data row5 col2\" >13</td>\n",
       "      <td id=\"T_2d386_row5_col3\" class=\"data row5 col3\" >0.54</td>\n",
       "      <td id=\"T_2d386_row5_col4\" class=\"data row5 col4\" >0.45, 0.45, 0.45</td>\n",
       "      <td id=\"T_2d386_row5_col5\" class=\"data row5 col5\" >0.67</td>\n",
       "    </tr>\n",
       "  </tbody>\n",
       "</table>\n"
      ],
      "text/plain": [
       "<IPython.core.display.HTML object>"
      ]
     },
     "metadata": {},
     "output_type": "display_data"
    }
   ],
   "source": [
    "# Allow for possibility that operator doesn't have routes that fall into certain route_groups\n",
    "# But, jupyterbook will not like markdown with f-string\n",
    "# separate out route_group and put in each cell, and use try/except + if to display...\n",
    "# but all 3 route groups must be displayed. just add sentence about why no routes were returned at the end\n",
    "route_group = \"short\"\n",
    "try:\n",
    "    display_charts_for_route_group(df, route_group)\n",
    "except:\n",
    "    print(\"No routes meet this criteria.\")"
   ]
  },
  {
   "cell_type": "markdown",
   "id": "c2931b6f-034d-4384-9e14-80b925e3b820",
   "metadata": {
    "papermill": {
     "duration": 0.021137,
     "end_time": "2022-05-11T21:48:37.476054",
     "exception": false,
     "start_time": "2022-05-11T21:48:37.454917",
     "status": "completed"
    },
    "tags": []
   },
   "source": [
    "### Medium Routes (1-1.5 hrs)"
   ]
  },
  {
   "cell_type": "code",
   "execution_count": 15,
   "id": "480edddc-4de0-48c2-ae4c-b0ceef8f28b5",
   "metadata": {
    "execution": {
     "iopub.execute_input": "2022-05-11T21:48:37.521526Z",
     "iopub.status.busy": "2022-05-11T21:48:37.520829Z",
     "iopub.status.idle": "2022-05-11T21:48:37.754882Z",
     "shell.execute_reply": "2022-05-11T21:48:37.754155Z"
    },
    "jupyter": {
     "source_hidden": true
    },
    "papermill": {
     "duration": 0.260044,
     "end_time": "2022-05-11T21:48:37.757118",
     "exception": false,
     "start_time": "2022-05-11T21:48:37.497074",
     "status": "completed"
    },
    "tags": [
     "remove_input"
    ]
   },
   "outputs": [
    {
     "data": {
      "text/markdown": [
       "<br>These are routes that have **at least 50% of their trips take no more than an additional 30 min** compared to a car (up to 15 routes) are shown.<br>Within each route group, routes are sorted in descending order by % competitive trips and # trips below the additional time cut-off."
      ],
      "text/plain": [
       "<IPython.core.display.Markdown object>"
      ]
     },
     "metadata": {},
     "output_type": "display_data"
    },
    {
     "data": {
      "text/html": [
       "\n",
       "<div id=\"altair-viz-ae4ab1e2c5e34b819f27e948f6f4aead\"></div>\n",
       "<script type=\"text/javascript\">\n",
       "  var VEGA_DEBUG = (typeof VEGA_DEBUG == \"undefined\") ? {} : VEGA_DEBUG;\n",
       "  (function(spec, embedOpt){\n",
       "    let outputDiv = document.currentScript.previousElementSibling;\n",
       "    if (outputDiv.id !== \"altair-viz-ae4ab1e2c5e34b819f27e948f6f4aead\") {\n",
       "      outputDiv = document.getElementById(\"altair-viz-ae4ab1e2c5e34b819f27e948f6f4aead\");\n",
       "    }\n",
       "    const paths = {\n",
       "      \"vega\": \"https://cdn.jsdelivr.net/npm//vega@5?noext\",\n",
       "      \"vega-lib\": \"https://cdn.jsdelivr.net/npm//vega-lib?noext\",\n",
       "      \"vega-lite\": \"https://cdn.jsdelivr.net/npm//vega-lite@4.17.0?noext\",\n",
       "      \"vega-embed\": \"https://cdn.jsdelivr.net/npm//vega-embed@6?noext\",\n",
       "    };\n",
       "\n",
       "    function maybeLoadScript(lib, version) {\n",
       "      var key = `${lib.replace(\"-\", \"\")}_version`;\n",
       "      return (VEGA_DEBUG[key] == version) ?\n",
       "        Promise.resolve(paths[lib]) :\n",
       "        new Promise(function(resolve, reject) {\n",
       "          var s = document.createElement('script');\n",
       "          document.getElementsByTagName(\"head\")[0].appendChild(s);\n",
       "          s.async = true;\n",
       "          s.onload = () => {\n",
       "            VEGA_DEBUG[key] = version;\n",
       "            return resolve(paths[lib]);\n",
       "          };\n",
       "          s.onerror = () => reject(`Error loading script: ${paths[lib]}`);\n",
       "          s.src = paths[lib];\n",
       "        });\n",
       "    }\n",
       "\n",
       "    function showError(err) {\n",
       "      outputDiv.innerHTML = `<div class=\"error\" style=\"color:red;\">${err}</div>`;\n",
       "      throw err;\n",
       "    }\n",
       "\n",
       "    function displayChart(vegaEmbed) {\n",
       "      vegaEmbed(outputDiv, spec, embedOpt)\n",
       "        .catch(err => showError(`Javascript Error: ${err.message}<br>This usually means there's a typo in your chart specification. See the javascript console for the full traceback.`));\n",
       "    }\n",
       "\n",
       "    if(typeof define === \"function\" && define.amd) {\n",
       "      requirejs.config({paths});\n",
       "      require([\"vega-embed\"], displayChart, err => showError(`Error loading script: ${err.message}`));\n",
       "    } else {\n",
       "      maybeLoadScript(\"vega\", \"5\")\n",
       "        .then(() => maybeLoadScript(\"vega-lite\", \"4.17.0\"))\n",
       "        .then(() => maybeLoadScript(\"vega-embed\", \"6\"))\n",
       "        .catch(showError)\n",
       "        .then(() => displayChart(vegaEmbed));\n",
       "    }\n",
       "  })({\"config\": {\"view\": {\"continuousWidth\": 400, \"continuousHeight\": 300, \"stroke\": null}, \"facet\": {\"spacing\": 0}}, \"data\": {\"name\": \"data-47e762d7bd492c0944e687e82cffec01\"}, \"facet\": {\"column\": {\"field\": \"route_id\", \"sort\": [\"161\"], \"title\": \"Route ID\", \"type\": \"nominal\"}}, \"spec\": {\"layer\": [{\"mark\": \"rule\", \"encoding\": {\"color\": {\"value\": \"black\"}, \"y\": {\"field\": \"cutoff\", \"type\": \"quantitative\"}}, \"selection\": {\"selector003\": {\"type\": \"interval\", \"bind\": \"scales\", \"encodings\": [\"x\", \"y\"]}}}, {\"mark\": {\"type\": \"point\", \"opacity\": 0.65, \"size\": 12, \"strokeWidth\": 1.1}, \"encoding\": {\"color\": {\"field\": \"time_of_day\", \"scale\": {\"range\": [\"#136C97\", \"#E16B26\", \"#F6BF16\", \"#00896B\", \"#7790A3\", \"#5B559C\"]}, \"sort\": [\"AM Peak\", \"Midday\", \"PM Peak\", \"Owl Service\"], \"title\": \"Time of Day\", \"type\": \"nominal\"}, \"tooltip\": [{\"field\": \"route_id\", \"type\": \"nominal\"}, {\"field\": \"route_name\", \"type\": \"nominal\"}, {\"field\": \"trip_id\", \"type\": \"nominal\"}, {\"field\": \"service_hours\", \"type\": \"quantitative\"}, {\"field\": \"car_duration_hours\", \"type\": \"quantitative\"}, {\"field\": \"bus_multiplier\", \"type\": \"quantitative\"}, {\"field\": \"bus_difference\", \"type\": \"quantitative\"}, {\"field\": \"num_trips\", \"type\": \"quantitative\"}, {\"field\": \"num_competitive\", \"type\": \"quantitative\"}, {\"field\": \"pct_trips_competitive\", \"type\": \"quantitative\"}, {\"field\": \"p25\", \"type\": \"quantitative\"}, {\"field\": \"p50\", \"type\": \"quantitative\"}, {\"field\": \"p75\", \"type\": \"quantitative\"}], \"x\": {\"axis\": {\"grid\": false, \"labels\": false, \"ticks\": true, \"values\": [0]}, \"field\": \"jitter\", \"scale\": {}, \"title\": null, \"type\": \"quantitative\"}, \"y\": {\"field\": \"bus_multiplier\", \"scale\": {\"domain\": [-0.25, 3.0]}, \"title\": \"Ratio of Bus to Car Travel Time\", \"type\": \"quantitative\"}}, \"transform\": [{\"calculate\": \"sqrt(-2*log(random()))*cos(2*PI*random())\", \"as\": \"jitter\"}], \"width\": 50}, {\"layer\": [{\"mark\": {\"type\": \"point\", \"opacity\": 0.6, \"size\": 20, \"strokeWidth\": 1.3}, \"encoding\": {\"color\": {\"value\": \"#323434\"}, \"y\": {\"field\": \"bus_multiplier\", \"type\": \"quantitative\"}}, \"transform\": [{\"filter\": \"(datum.p50_trip === 1)\"}]}, {\"mark\": {\"type\": \"text\", \"align\": \"center\", \"baseline\": \"middle\"}, \"encoding\": {\"color\": {\"value\": \"black\"}, \"text\": {\"field\": \"pct_trips_competitive\", \"format\": \".0%\", \"type\": \"quantitative\"}, \"tooltip\": [{\"field\": \"route_id\", \"type\": \"nominal\"}, {\"field\": \"route_name\", \"type\": \"nominal\"}, {\"field\": \"trip_id\", \"type\": \"nominal\"}, {\"field\": \"service_hours\", \"type\": \"quantitative\"}, {\"field\": \"car_duration_hours\", \"type\": \"quantitative\"}, {\"field\": \"bus_multiplier\", \"type\": \"quantitative\"}, {\"field\": \"bus_difference\", \"type\": \"quantitative\"}, {\"field\": \"num_trips\", \"type\": \"quantitative\"}, {\"field\": \"num_competitive\", \"type\": \"quantitative\"}, {\"field\": \"pct_trips_competitive\", \"type\": \"quantitative\"}, {\"field\": \"p25\", \"type\": \"quantitative\"}, {\"field\": \"p50\", \"type\": \"quantitative\"}, {\"field\": \"p75\", \"type\": \"quantitative\"}], \"x\": {\"value\": 30}, \"y\": {\"value\": 15}}, \"transform\": [{\"calculate\": \"sqrt(-2*log(random()))*cos(2*PI*random())\", \"as\": \"jitter\"}, {\"filter\": \"(datum.fastest_trip === 1)\"}]}]}]}, \"resolve\": {\"scale\": {\"y\": \"shared\"}}, \"title\": \"Ratio of Bus to Car Travel Time\", \"$schema\": \"https://vega.github.io/schema/vega-lite/v4.17.0.json\", \"datasets\": {\"data-47e762d7bd492c0944e687e82cffec01\": [{\"calitp_itp_id\": 259, \"trip_key\": -2229308727064354117, \"trip_id\": \"t_403_b_18260_tn_0\", \"shape_id\": \"p_2671\", \"route_id\": \"161\", \"service_hours\": 1.42, \"trip_first_departure_ts\": 42600, \"trip_last_arrival_ts\": 47700, \"departure_hour\": 11, \"time_of_day\": \"Midday\", \"p25\": 1.42, \"p50\": 1.42, \"p75\": 1.42, \"p50_trip\": 1, \"fastest_trip\": 0, \"car_duration_hours\": 1.07, \"competitive_route\": 1, \"bus_multiplier\": 1.33, \"bus_difference\": 21.0, \"num_trips\": 6, \"num_competitive\": 6, \"pct_trips_competitive\": 1.0, \"bus_difference_spread\": 0.0, \"route_group\": \"medium\", \"max_trip_hrs\": 1.42, \"max_trip_route_group\": 1.42, \"below_cutoff\": 6, \"pct_below_cutoff\": 1.0, \"name\": \"Redding Area Bus Authority\", \"caltrans_district\": \"02 - Redding\", \"drmt_organization_name\": null, \"route_name\": \"Burney Express\", \"cutoff2\": 30, \"cutoff\": 2}, {\"calitp_itp_id\": 259, \"trip_key\": -8041318249298752963, \"trip_id\": \"t_61140_b_18260_tn_0\", \"shape_id\": \"p_2671\", \"route_id\": \"161\", \"service_hours\": 1.42, \"trip_first_departure_ts\": 57000, \"trip_last_arrival_ts\": 62100, \"departure_hour\": 15, \"time_of_day\": \"Midday\", \"p25\": 1.42, \"p50\": 1.42, \"p75\": 1.42, \"p50_trip\": 1, \"fastest_trip\": 0, \"car_duration_hours\": 1.07, \"competitive_route\": 1, \"bus_multiplier\": 1.33, \"bus_difference\": 21.0, \"num_trips\": 6, \"num_competitive\": 6, \"pct_trips_competitive\": 1.0, \"bus_difference_spread\": 0.0, \"route_group\": \"medium\", \"max_trip_hrs\": 1.42, \"max_trip_route_group\": 1.42, \"below_cutoff\": 6, \"pct_below_cutoff\": 1.0, \"name\": \"Redding Area Bus Authority\", \"caltrans_district\": \"02 - Redding\", \"drmt_organization_name\": null, \"route_name\": \"Burney Express\", \"cutoff2\": 30, \"cutoff\": 2}, {\"calitp_itp_id\": 259, \"trip_key\": 8339706932336928141, \"trip_id\": \"t_402_b_18260_tn_0\", \"shape_id\": \"p_2671\", \"route_id\": \"161\", \"service_hours\": 1.42, \"trip_first_departure_ts\": 21000, \"trip_last_arrival_ts\": 26100, \"departure_hour\": 5, \"time_of_day\": \"Owl Service\", \"p25\": 1.42, \"p50\": 1.42, \"p75\": 1.42, \"p50_trip\": 1, \"fastest_trip\": 0, \"car_duration_hours\": 1.07, \"competitive_route\": 1, \"bus_multiplier\": 1.33, \"bus_difference\": 21.0, \"num_trips\": 6, \"num_competitive\": 6, \"pct_trips_competitive\": 1.0, \"bus_difference_spread\": 0.0, \"route_group\": \"medium\", \"max_trip_hrs\": 1.42, \"max_trip_route_group\": 1.42, \"below_cutoff\": 6, \"pct_below_cutoff\": 1.0, \"name\": \"Redding Area Bus Authority\", \"caltrans_district\": \"02 - Redding\", \"drmt_organization_name\": null, \"route_name\": \"Burney Express\", \"cutoff2\": 30, \"cutoff\": 2}, {\"calitp_itp_id\": 259, \"trip_key\": -7269759713841782936, \"trip_id\": \"t_404_b_18260_tn_0\", \"shape_id\": \"p_2639\", \"route_id\": \"161\", \"service_hours\": 1.42, \"trip_first_departure_ts\": 37500, \"trip_last_arrival_ts\": 42600, \"departure_hour\": 10, \"time_of_day\": \"Midday\", \"p25\": 1.42, \"p50\": 1.42, \"p75\": 1.42, \"p50_trip\": 1, \"fastest_trip\": 0, \"car_duration_hours\": 1.07, \"competitive_route\": 1, \"bus_multiplier\": 1.33, \"bus_difference\": 21.0, \"num_trips\": 6, \"num_competitive\": 6, \"pct_trips_competitive\": 1.0, \"bus_difference_spread\": 0.0, \"route_group\": \"medium\", \"max_trip_hrs\": 1.42, \"max_trip_route_group\": 1.42, \"below_cutoff\": 6, \"pct_below_cutoff\": 1.0, \"name\": \"Redding Area Bus Authority\", \"caltrans_district\": \"02 - Redding\", \"drmt_organization_name\": null, \"route_name\": \"Burney Express\", \"cutoff2\": 30, \"cutoff\": 2}, {\"calitp_itp_id\": 259, \"trip_key\": -3064301069288639418, \"trip_id\": \"t_405_b_18260_tn_0\", \"shape_id\": \"p_2639\", \"route_id\": \"161\", \"service_hours\": 1.42, \"trip_first_departure_ts\": 63300, \"trip_last_arrival_ts\": 68400, \"departure_hour\": 17, \"time_of_day\": \"PM Peak\", \"p25\": 1.42, \"p50\": 1.42, \"p75\": 1.42, \"p50_trip\": 1, \"fastest_trip\": 1, \"car_duration_hours\": 1.07, \"competitive_route\": 1, \"bus_multiplier\": 1.33, \"bus_difference\": 21.0, \"num_trips\": 6, \"num_competitive\": 6, \"pct_trips_competitive\": 1.0, \"bus_difference_spread\": 0.0, \"route_group\": \"medium\", \"max_trip_hrs\": 1.42, \"max_trip_route_group\": 1.42, \"below_cutoff\": 6, \"pct_below_cutoff\": 1.0, \"name\": \"Redding Area Bus Authority\", \"caltrans_district\": \"02 - Redding\", \"drmt_organization_name\": null, \"route_name\": \"Burney Express\", \"cutoff2\": 30, \"cutoff\": 2}, {\"calitp_itp_id\": 259, \"trip_key\": 3354056122375624724, \"trip_id\": \"t_53248_b_18260_tn_0\", \"shape_id\": \"p_2639\", \"route_id\": \"161\", \"service_hours\": 1.42, \"trip_first_departure_ts\": 51900, \"trip_last_arrival_ts\": 57000, \"departure_hour\": 14, \"time_of_day\": \"Midday\", \"p25\": 1.42, \"p50\": 1.42, \"p75\": 1.42, \"p50_trip\": 1, \"fastest_trip\": 0, \"car_duration_hours\": 1.07, \"competitive_route\": 1, \"bus_multiplier\": 1.33, \"bus_difference\": 21.0, \"num_trips\": 6, \"num_competitive\": 6, \"pct_trips_competitive\": 1.0, \"bus_difference_spread\": 0.0, \"route_group\": \"medium\", \"max_trip_hrs\": 1.42, \"max_trip_route_group\": 1.42, \"below_cutoff\": 6, \"pct_below_cutoff\": 1.0, \"name\": \"Redding Area Bus Authority\", \"caltrans_district\": \"02 - Redding\", \"drmt_organization_name\": null, \"route_name\": \"Burney Express\", \"cutoff2\": 30, \"cutoff\": 2}]}}, {\"mode\": \"vega-lite\"});\n",
       "</script>"
      ],
      "text/plain": [
       "alt.FacetChart(...)"
      ]
     },
     "metadata": {},
     "output_type": "display_data"
    },
    {
     "data": {
      "text/html": [
       "\n",
       "<div id=\"altair-viz-3737a0671c774051b94e4e4d9acc521d\"></div>\n",
       "<script type=\"text/javascript\">\n",
       "  var VEGA_DEBUG = (typeof VEGA_DEBUG == \"undefined\") ? {} : VEGA_DEBUG;\n",
       "  (function(spec, embedOpt){\n",
       "    let outputDiv = document.currentScript.previousElementSibling;\n",
       "    if (outputDiv.id !== \"altair-viz-3737a0671c774051b94e4e4d9acc521d\") {\n",
       "      outputDiv = document.getElementById(\"altair-viz-3737a0671c774051b94e4e4d9acc521d\");\n",
       "    }\n",
       "    const paths = {\n",
       "      \"vega\": \"https://cdn.jsdelivr.net/npm//vega@5?noext\",\n",
       "      \"vega-lib\": \"https://cdn.jsdelivr.net/npm//vega-lib?noext\",\n",
       "      \"vega-lite\": \"https://cdn.jsdelivr.net/npm//vega-lite@4.17.0?noext\",\n",
       "      \"vega-embed\": \"https://cdn.jsdelivr.net/npm//vega-embed@6?noext\",\n",
       "    };\n",
       "\n",
       "    function maybeLoadScript(lib, version) {\n",
       "      var key = `${lib.replace(\"-\", \"\")}_version`;\n",
       "      return (VEGA_DEBUG[key] == version) ?\n",
       "        Promise.resolve(paths[lib]) :\n",
       "        new Promise(function(resolve, reject) {\n",
       "          var s = document.createElement('script');\n",
       "          document.getElementsByTagName(\"head\")[0].appendChild(s);\n",
       "          s.async = true;\n",
       "          s.onload = () => {\n",
       "            VEGA_DEBUG[key] = version;\n",
       "            return resolve(paths[lib]);\n",
       "          };\n",
       "          s.onerror = () => reject(`Error loading script: ${paths[lib]}`);\n",
       "          s.src = paths[lib];\n",
       "        });\n",
       "    }\n",
       "\n",
       "    function showError(err) {\n",
       "      outputDiv.innerHTML = `<div class=\"error\" style=\"color:red;\">${err}</div>`;\n",
       "      throw err;\n",
       "    }\n",
       "\n",
       "    function displayChart(vegaEmbed) {\n",
       "      vegaEmbed(outputDiv, spec, embedOpt)\n",
       "        .catch(err => showError(`Javascript Error: ${err.message}<br>This usually means there's a typo in your chart specification. See the javascript console for the full traceback.`));\n",
       "    }\n",
       "\n",
       "    if(typeof define === \"function\" && define.amd) {\n",
       "      requirejs.config({paths});\n",
       "      require([\"vega-embed\"], displayChart, err => showError(`Error loading script: ${err.message}`));\n",
       "    } else {\n",
       "      maybeLoadScript(\"vega\", \"5\")\n",
       "        .then(() => maybeLoadScript(\"vega-lite\", \"4.17.0\"))\n",
       "        .then(() => maybeLoadScript(\"vega-embed\", \"6\"))\n",
       "        .catch(showError)\n",
       "        .then(() => displayChart(vegaEmbed));\n",
       "    }\n",
       "  })({\"config\": {\"view\": {\"continuousWidth\": 400, \"continuousHeight\": 300, \"stroke\": null}, \"facet\": {\"spacing\": 0}}, \"data\": {\"name\": \"data-9907ae45c557e701be1cd91f92777d1a\"}, \"facet\": {\"column\": {\"field\": \"route_id\", \"sort\": [\"161\"], \"title\": \"Route ID\", \"type\": \"nominal\"}}, \"spec\": {\"layer\": [{\"mark\": \"rule\", \"encoding\": {\"color\": {\"value\": \"black\"}, \"y\": {\"field\": \"cutoff\", \"type\": \"quantitative\"}}, \"selection\": {\"selector004\": {\"type\": \"interval\", \"bind\": \"scales\", \"encodings\": [\"x\", \"y\"]}}}, {\"mark\": {\"type\": \"rule\", \"strokeDash\": [3, 3]}, \"encoding\": {\"color\": {\"value\": \"#323434\"}, \"y\": {\"field\": \"cutoff2\", \"type\": \"quantitative\"}}}, {\"mark\": {\"type\": \"point\", \"opacity\": 0.65, \"size\": 12, \"strokeWidth\": 1.1}, \"encoding\": {\"color\": {\"field\": \"time_of_day\", \"scale\": {\"range\": [\"#136C97\", \"#E16B26\", \"#F6BF16\", \"#00896B\", \"#7790A3\", \"#5B559C\"]}, \"sort\": [\"AM Peak\", \"Midday\", \"PM Peak\", \"Owl Service\"], \"title\": \"Time of Day\", \"type\": \"nominal\"}, \"tooltip\": [{\"field\": \"route_id\", \"type\": \"nominal\"}, {\"field\": \"route_name\", \"type\": \"nominal\"}, {\"field\": \"trip_id\", \"type\": \"nominal\"}, {\"field\": \"service_hours\", \"type\": \"quantitative\"}, {\"field\": \"car_duration_hours\", \"type\": \"quantitative\"}, {\"field\": \"bus_multiplier\", \"type\": \"quantitative\"}, {\"field\": \"bus_difference\", \"type\": \"quantitative\"}, {\"field\": \"num_trips\", \"type\": \"quantitative\"}, {\"field\": \"num_competitive\", \"type\": \"quantitative\"}, {\"field\": \"pct_trips_competitive\", \"type\": \"quantitative\"}, {\"field\": \"p25\", \"type\": \"quantitative\"}, {\"field\": \"p50\", \"type\": \"quantitative\"}, {\"field\": \"p75\", \"type\": \"quantitative\"}], \"x\": {\"axis\": {\"grid\": false, \"labels\": false, \"ticks\": true, \"values\": [0]}, \"field\": \"jitter\", \"scale\": {}, \"title\": null, \"type\": \"quantitative\"}, \"y\": {\"field\": \"bus_difference\", \"scale\": {\"domain\": [-5, 35.0]}, \"title\": \"Difference in Bus to Car Travel Time (min)\", \"type\": \"quantitative\"}}, \"transform\": [{\"calculate\": \"sqrt(-2*log(random()))*cos(2*PI*random())\", \"as\": \"jitter\"}], \"width\": 50}, {\"layer\": [{\"mark\": {\"type\": \"point\", \"opacity\": 0.6, \"size\": 20, \"strokeWidth\": 1.3}, \"encoding\": {\"color\": {\"value\": \"#323434\"}, \"y\": {\"field\": \"bus_difference\", \"type\": \"quantitative\"}}, \"transform\": [{\"filter\": \"(datum.p50_trip === 1)\"}]}, {\"mark\": {\"type\": \"text\", \"align\": \"center\", \"baseline\": \"middle\"}, \"encoding\": {\"color\": {\"value\": \"black\"}, \"text\": {\"field\": \"pct_trips_competitive\", \"format\": \".0%\", \"type\": \"quantitative\"}, \"tooltip\": [{\"field\": \"route_id\", \"type\": \"nominal\"}, {\"field\": \"route_name\", \"type\": \"nominal\"}, {\"field\": \"trip_id\", \"type\": \"nominal\"}, {\"field\": \"service_hours\", \"type\": \"quantitative\"}, {\"field\": \"car_duration_hours\", \"type\": \"quantitative\"}, {\"field\": \"bus_multiplier\", \"type\": \"quantitative\"}, {\"field\": \"bus_difference\", \"type\": \"quantitative\"}, {\"field\": \"num_trips\", \"type\": \"quantitative\"}, {\"field\": \"num_competitive\", \"type\": \"quantitative\"}, {\"field\": \"pct_trips_competitive\", \"type\": \"quantitative\"}, {\"field\": \"p25\", \"type\": \"quantitative\"}, {\"field\": \"p50\", \"type\": \"quantitative\"}, {\"field\": \"p75\", \"type\": \"quantitative\"}], \"x\": {\"value\": 30}, \"y\": {\"value\": 15}}, \"transform\": [{\"calculate\": \"sqrt(-2*log(random()))*cos(2*PI*random())\", \"as\": \"jitter\"}, {\"filter\": \"(datum.fastest_trip === 1)\"}]}]}]}, \"resolve\": {\"scale\": {\"y\": \"shared\"}}, \"title\": \"Difference in Bus to Car Travel Time (min)\", \"$schema\": \"https://vega.github.io/schema/vega-lite/v4.17.0.json\", \"datasets\": {\"data-9907ae45c557e701be1cd91f92777d1a\": [{\"calitp_itp_id\": 259, \"trip_key\": -2229308727064354117, \"trip_id\": \"t_403_b_18260_tn_0\", \"shape_id\": \"p_2671\", \"route_id\": \"161\", \"service_hours\": 1.42, \"trip_first_departure_ts\": 42600, \"trip_last_arrival_ts\": 47700, \"departure_hour\": 11, \"time_of_day\": \"Midday\", \"p25\": 1.42, \"p50\": 1.42, \"p75\": 1.42, \"p50_trip\": 1, \"fastest_trip\": 0, \"car_duration_hours\": 1.07, \"competitive_route\": 1, \"bus_multiplier\": 1.33, \"bus_difference\": 21.0, \"num_trips\": 6, \"num_competitive\": 6, \"pct_trips_competitive\": 1.0, \"bus_difference_spread\": 0.0, \"route_group\": \"medium\", \"max_trip_hrs\": 1.42, \"max_trip_route_group\": 1.42, \"below_cutoff\": 6, \"pct_below_cutoff\": 1.0, \"name\": \"Redding Area Bus Authority\", \"caltrans_district\": \"02 - Redding\", \"drmt_organization_name\": null, \"route_name\": \"Burney Express\", \"cutoff2\": 30, \"cutoff\": 0}, {\"calitp_itp_id\": 259, \"trip_key\": -8041318249298752963, \"trip_id\": \"t_61140_b_18260_tn_0\", \"shape_id\": \"p_2671\", \"route_id\": \"161\", \"service_hours\": 1.42, \"trip_first_departure_ts\": 57000, \"trip_last_arrival_ts\": 62100, \"departure_hour\": 15, \"time_of_day\": \"Midday\", \"p25\": 1.42, \"p50\": 1.42, \"p75\": 1.42, \"p50_trip\": 1, \"fastest_trip\": 0, \"car_duration_hours\": 1.07, \"competitive_route\": 1, \"bus_multiplier\": 1.33, \"bus_difference\": 21.0, \"num_trips\": 6, \"num_competitive\": 6, \"pct_trips_competitive\": 1.0, \"bus_difference_spread\": 0.0, \"route_group\": \"medium\", \"max_trip_hrs\": 1.42, \"max_trip_route_group\": 1.42, \"below_cutoff\": 6, \"pct_below_cutoff\": 1.0, \"name\": \"Redding Area Bus Authority\", \"caltrans_district\": \"02 - Redding\", \"drmt_organization_name\": null, \"route_name\": \"Burney Express\", \"cutoff2\": 30, \"cutoff\": 0}, {\"calitp_itp_id\": 259, \"trip_key\": 8339706932336928141, \"trip_id\": \"t_402_b_18260_tn_0\", \"shape_id\": \"p_2671\", \"route_id\": \"161\", \"service_hours\": 1.42, \"trip_first_departure_ts\": 21000, \"trip_last_arrival_ts\": 26100, \"departure_hour\": 5, \"time_of_day\": \"Owl Service\", \"p25\": 1.42, \"p50\": 1.42, \"p75\": 1.42, \"p50_trip\": 1, \"fastest_trip\": 0, \"car_duration_hours\": 1.07, \"competitive_route\": 1, \"bus_multiplier\": 1.33, \"bus_difference\": 21.0, \"num_trips\": 6, \"num_competitive\": 6, \"pct_trips_competitive\": 1.0, \"bus_difference_spread\": 0.0, \"route_group\": \"medium\", \"max_trip_hrs\": 1.42, \"max_trip_route_group\": 1.42, \"below_cutoff\": 6, \"pct_below_cutoff\": 1.0, \"name\": \"Redding Area Bus Authority\", \"caltrans_district\": \"02 - Redding\", \"drmt_organization_name\": null, \"route_name\": \"Burney Express\", \"cutoff2\": 30, \"cutoff\": 0}, {\"calitp_itp_id\": 259, \"trip_key\": -7269759713841782936, \"trip_id\": \"t_404_b_18260_tn_0\", \"shape_id\": \"p_2639\", \"route_id\": \"161\", \"service_hours\": 1.42, \"trip_first_departure_ts\": 37500, \"trip_last_arrival_ts\": 42600, \"departure_hour\": 10, \"time_of_day\": \"Midday\", \"p25\": 1.42, \"p50\": 1.42, \"p75\": 1.42, \"p50_trip\": 1, \"fastest_trip\": 0, \"car_duration_hours\": 1.07, \"competitive_route\": 1, \"bus_multiplier\": 1.33, \"bus_difference\": 21.0, \"num_trips\": 6, \"num_competitive\": 6, \"pct_trips_competitive\": 1.0, \"bus_difference_spread\": 0.0, \"route_group\": \"medium\", \"max_trip_hrs\": 1.42, \"max_trip_route_group\": 1.42, \"below_cutoff\": 6, \"pct_below_cutoff\": 1.0, \"name\": \"Redding Area Bus Authority\", \"caltrans_district\": \"02 - Redding\", \"drmt_organization_name\": null, \"route_name\": \"Burney Express\", \"cutoff2\": 30, \"cutoff\": 0}, {\"calitp_itp_id\": 259, \"trip_key\": -3064301069288639418, \"trip_id\": \"t_405_b_18260_tn_0\", \"shape_id\": \"p_2639\", \"route_id\": \"161\", \"service_hours\": 1.42, \"trip_first_departure_ts\": 63300, \"trip_last_arrival_ts\": 68400, \"departure_hour\": 17, \"time_of_day\": \"PM Peak\", \"p25\": 1.42, \"p50\": 1.42, \"p75\": 1.42, \"p50_trip\": 1, \"fastest_trip\": 1, \"car_duration_hours\": 1.07, \"competitive_route\": 1, \"bus_multiplier\": 1.33, \"bus_difference\": 21.0, \"num_trips\": 6, \"num_competitive\": 6, \"pct_trips_competitive\": 1.0, \"bus_difference_spread\": 0.0, \"route_group\": \"medium\", \"max_trip_hrs\": 1.42, \"max_trip_route_group\": 1.42, \"below_cutoff\": 6, \"pct_below_cutoff\": 1.0, \"name\": \"Redding Area Bus Authority\", \"caltrans_district\": \"02 - Redding\", \"drmt_organization_name\": null, \"route_name\": \"Burney Express\", \"cutoff2\": 30, \"cutoff\": 0}, {\"calitp_itp_id\": 259, \"trip_key\": 3354056122375624724, \"trip_id\": \"t_53248_b_18260_tn_0\", \"shape_id\": \"p_2639\", \"route_id\": \"161\", \"service_hours\": 1.42, \"trip_first_departure_ts\": 51900, \"trip_last_arrival_ts\": 57000, \"departure_hour\": 14, \"time_of_day\": \"Midday\", \"p25\": 1.42, \"p50\": 1.42, \"p75\": 1.42, \"p50_trip\": 1, \"fastest_trip\": 0, \"car_duration_hours\": 1.07, \"competitive_route\": 1, \"bus_multiplier\": 1.33, \"bus_difference\": 21.0, \"num_trips\": 6, \"num_competitive\": 6, \"pct_trips_competitive\": 1.0, \"bus_difference_spread\": 0.0, \"route_group\": \"medium\", \"max_trip_hrs\": 1.42, \"max_trip_route_group\": 1.42, \"below_cutoff\": 6, \"pct_below_cutoff\": 1.0, \"name\": \"Redding Area Bus Authority\", \"caltrans_district\": \"02 - Redding\", \"drmt_organization_name\": null, \"route_name\": \"Burney Express\", \"cutoff2\": 30, \"cutoff\": 0}]}}, {\"mode\": \"vega-lite\"});\n",
       "</script>"
      ],
      "text/plain": [
       "alt.FacetChart(...)"
      ]
     },
     "metadata": {},
     "output_type": "display_data"
    },
    {
     "data": {
      "text/html": [
       "<h4>Route Stats</h4>"
      ],
      "text/plain": [
       "<IPython.core.display.HTML object>"
      ]
     },
     "metadata": {},
     "output_type": "display_data"
    },
    {
     "data": {
      "text/html": [
       "<style type=\"text/css\">\n",
       "</style>\n",
       "<table id=\"T_ac11f\">\n",
       "  <thead>\n",
       "    <tr>\n",
       "      <th id=\"T_ac11f_level0_col0\" class=\"col_heading level0 col0\" >Route ID</th>\n",
       "      <th id=\"T_ac11f_level0_col1\" class=\"col_heading level0 col1\" >Route Name</th>\n",
       "      <th id=\"T_ac11f_level0_col2\" class=\"col_heading level0 col2\" ># trips</th>\n",
       "      <th id=\"T_ac11f_level0_col3\" class=\"col_heading level0 col3\" >Daily Avg Frequency (trips per hr)</th>\n",
       "      <th id=\"T_ac11f_level0_col4\" class=\"col_heading level0 col4\" >25th, 50th, 75th ptile (hrs)</th>\n",
       "      <th id=\"T_ac11f_level0_col5\" class=\"col_heading level0 col5\" >PM Peak Avg Frequency (trips per hr)</th>\n",
       "    </tr>\n",
       "  </thead>\n",
       "  <tbody>\n",
       "    <tr>\n",
       "      <td id=\"T_ac11f_row0_col0\" class=\"data row0 col0\" >161</td>\n",
       "      <td id=\"T_ac11f_row0_col1\" class=\"data row0 col1\" >Burney Express</td>\n",
       "      <td id=\"T_ac11f_row0_col2\" class=\"data row0 col2\" >6</td>\n",
       "      <td id=\"T_ac11f_row0_col3\" class=\"data row0 col3\" >0.25</td>\n",
       "      <td id=\"T_ac11f_row0_col4\" class=\"data row0 col4\" >1.42, 1.42, 1.42</td>\n",
       "      <td id=\"T_ac11f_row0_col5\" class=\"data row0 col5\" >0.33</td>\n",
       "    </tr>\n",
       "  </tbody>\n",
       "</table>\n"
      ],
      "text/plain": [
       "<IPython.core.display.HTML object>"
      ]
     },
     "metadata": {},
     "output_type": "display_data"
    }
   ],
   "source": [
    "route_group = \"medium\"\n",
    "try:\n",
    "    display_charts_for_route_group(df, route_group)\n",
    "except:\n",
    "    print(\"No routes meet this criteria.\")"
   ]
  },
  {
   "cell_type": "markdown",
   "id": "124b76d0-886c-4d03-92ac-f1bda3cda182",
   "metadata": {
    "papermill": {
     "duration": 0.028842,
     "end_time": "2022-05-11T21:48:37.808025",
     "exception": false,
     "start_time": "2022-05-11T21:48:37.779183",
     "status": "completed"
    },
    "tags": []
   },
   "source": [
    "### Long Routes (> 1.5 hrs)"
   ]
  },
  {
   "cell_type": "code",
   "execution_count": 16,
   "id": "ddc81b19-4c45-4c81-8b7a-5e0f394aa7a3",
   "metadata": {
    "execution": {
     "iopub.execute_input": "2022-05-11T21:48:37.854054Z",
     "iopub.status.busy": "2022-05-11T21:48:37.853807Z",
     "iopub.status.idle": "2022-05-11T21:48:37.867315Z",
     "shell.execute_reply": "2022-05-11T21:48:37.866059Z"
    },
    "jupyter": {
     "source_hidden": true
    },
    "papermill": {
     "duration": 0.039058,
     "end_time": "2022-05-11T21:48:37.869058",
     "exception": false,
     "start_time": "2022-05-11T21:48:37.830000",
     "status": "completed"
    },
    "tags": [
     "remove_input"
    ]
   },
   "outputs": [
    {
     "name": "stdout",
     "output_type": "stream",
     "text": [
      "No routes meet this criteria.\n"
     ]
    }
   ],
   "source": [
    "route_group = \"long\"\n",
    "try:\n",
    "    display_charts_for_route_group(df, route_group)\n",
    "except:\n",
    "    print(\"No routes meet this criteria.\")"
   ]
  },
  {
   "cell_type": "markdown",
   "id": "ace75b5f-0442-4fbe-aebd-6c3a13ae13a7",
   "metadata": {
    "papermill": {
     "duration": 0.023129,
     "end_time": "2022-05-11T21:48:37.917794",
     "exception": false,
     "start_time": "2022-05-11T21:48:37.894665",
     "status": "completed"
    },
    "tags": []
   },
   "source": [
    "### GTFS Real-Time Speedmaps"
   ]
  },
  {
   "cell_type": "code",
   "execution_count": 17,
   "id": "a0a114a1-e975-4027-9daf-50029f5ef59f",
   "metadata": {
    "execution": {
     "iopub.execute_input": "2022-05-11T21:48:37.964652Z",
     "iopub.status.busy": "2022-05-11T21:48:37.964316Z",
     "iopub.status.idle": "2022-05-11T21:48:37.990786Z",
     "shell.execute_reply": "2022-05-11T21:48:37.990119Z"
    },
    "jupyter": {
     "source_hidden": true
    },
    "papermill": {
     "duration": 0.052753,
     "end_time": "2022-05-11T21:48:37.992636",
     "exception": false,
     "start_time": "2022-05-11T21:48:37.939883",
     "status": "completed"
    },
    "tags": [
     "remove_input"
    ]
   },
   "outputs": [
    {
     "data": {
      "text/html": [
       "<a href=https://analysis.calitp.org/rt/district_02-redding/speedmaps__itp_id_259.html>GTFS RT speedmaps here.</a>"
      ],
      "text/plain": [
       "<IPython.core.display.HTML object>"
      ]
     },
     "metadata": {},
     "output_type": "display_data"
    }
   ],
   "source": [
    "RT_SITE_YAML = \"../portfolio/sites/rt.yml\"\n",
    "\n",
    "# Grab list of ITP IDs with GTFS RT speedmaps\n",
    "rt_itp_id = deploy_portfolio_yaml.check_if_rt_data_available(RT_SITE_YAML)\n",
    "\n",
    "# Construct the URL \n",
    "RT_URL = (\"https://analysis.calitp.org/rt/\"\n",
    "          f\"district_{district_number}-{district_name}/\"\n",
    "          f\"speedmaps__itp_id_{itp_id}.html\"\n",
    "         ) \n",
    "\n",
    "# If this ITP ID is found in RT analysis, give URL to that operator in analysis.calitp.org\n",
    "if itp_id in rt_itp_id:\n",
    "    display(HTML(f'''<a href={RT_URL}>GTFS RT speedmaps here.</a>'''))\n",
    "\n",
    "else:\n",
    "    display(HTML(\"No GTFS RT data available.\"))"
   ]
  },
  {
   "cell_type": "code",
   "execution_count": null,
   "id": "5b680565-2230-4f2e-817c-718fad48d64c",
   "metadata": {
    "jupyter": {
     "source_hidden": true
    },
    "papermill": {
     "duration": 0.02324,
     "end_time": "2022-05-11T21:48:38.040569",
     "exception": false,
     "start_time": "2022-05-11T21:48:38.017329",
     "status": "completed"
    },
    "tags": [
     "remove_input"
    ]
   },
   "outputs": [],
   "source": []
  }
 ],
 "metadata": {
  "kernelspec": {
   "display_name": "Python 3 (ipykernel)",
   "language": "python",
   "name": "python3"
  },
  "language_info": {
   "codemirror_mode": {
    "name": "ipython",
    "version": 3
   },
   "file_extension": ".py",
   "mimetype": "text/x-python",
   "name": "python",
   "nbconvert_exporter": "python",
   "pygments_lexer": "ipython3",
   "version": "3.9.12"
  },
  "papermill": {
   "default_parameters": {},
   "duration": 24.8259,
   "end_time": "2022-05-11T21:48:39.287735",
   "environment_variables": {},
   "exception": null,
   "input_path": "bus_service_increase/competitive-parallel-routes.ipynb",
   "output_path": "portfolio/parallel_corridors/district_02-redding/3__competitive-parallel-routes__district_02-redding__itp_id_259.ipynb",
   "parameters": {
    "district": "02 - Redding",
    "itp_id": 259
   },
   "start_time": "2022-05-11T21:48:14.461835",
   "version": "2.3.4"
  }
 },
 "nbformat": 4,
 "nbformat_minor": 5
}