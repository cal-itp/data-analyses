{
 "cells": [
  {
   "cell_type": "code",
   "execution_count": 1,
   "id": "95d00857-6a20-4529-a519-2cc7182928a9",
   "metadata": {
    "execution": {
     "iopub.execute_input": "2022-05-09T16:31:49.100420Z",
     "iopub.status.busy": "2022-05-09T16:31:49.100010Z",
     "iopub.status.idle": "2022-05-09T16:31:58.336265Z",
     "shell.execute_reply": "2022-05-09T16:31:58.334663Z"
    },
    "jupyter": {
     "source_hidden": true
    },
    "papermill": {
     "duration": 9.25643,
     "end_time": "2022-05-09T16:31:58.338897",
     "exception": false,
     "start_time": "2022-05-09T16:31:49.082467",
     "status": "completed"
    },
    "tags": [
     "remove_input"
    ]
   },
   "outputs": [],
   "source": [
    "%%capture\n",
    "import warnings\n",
    "warnings.filterwarnings('ignore')\n",
    "\n",
    "import altair as alt\n",
    "import calitp.magics\n",
    "import geopandas as gpd\n",
    "import intake\n",
    "import pandas as pd\n",
    "\n",
    "from IPython.display import display, Markdown, HTML\n",
    "\n",
    "import parallel_corridors_utils\n",
    "from shared_utils import styleguide\n",
    "import deploy_portfolio_yaml\n",
    "\n",
    "catalog = intake.open_catalog(\"./*.yml\")\n",
    "alt.renderers.enable(\"html\")"
   ]
  },
  {
   "cell_type": "code",
   "execution_count": 2,
   "id": "8af2a0c1-f3da-408d-9bea-11d9fbf8695d",
   "metadata": {
    "execution": {
     "iopub.execute_input": "2022-05-09T16:31:58.366678Z",
     "iopub.status.busy": "2022-05-09T16:31:58.366012Z",
     "iopub.status.idle": "2022-05-09T16:31:58.370529Z",
     "shell.execute_reply": "2022-05-09T16:31:58.369801Z"
    },
    "jupyter": {
     "source_hidden": true
    },
    "papermill": {
     "duration": 0.020205,
     "end_time": "2022-05-09T16:31:58.372293",
     "exception": false,
     "start_time": "2022-05-09T16:31:58.352088",
     "status": "completed"
    },
    "tags": [
     "parameters",
     "remove_input"
    ]
   },
   "outputs": [],
   "source": [
    "# parameters cell\n",
    "itp_id = 182"
   ]
  },
  {
   "cell_type": "code",
   "execution_count": 3,
   "id": "23e28ce2",
   "metadata": {
    "execution": {
     "iopub.execute_input": "2022-05-09T16:31:58.398188Z",
     "iopub.status.busy": "2022-05-09T16:31:58.397427Z",
     "iopub.status.idle": "2022-05-09T16:31:58.401731Z",
     "shell.execute_reply": "2022-05-09T16:31:58.401091Z"
    },
    "jupyter": {
     "source_hidden": true
    },
    "papermill": {
     "duration": 0.023162,
     "end_time": "2022-05-09T16:31:58.407630",
     "exception": false,
     "start_time": "2022-05-09T16:31:58.384468",
     "status": "completed"
    },
    "tags": [
     "injected-parameters",
     "remove_input"
    ]
   },
   "outputs": [],
   "source": [
    "# Parameters\n",
    "district = \"02 - Redding\"\n",
    "itp_id = 334\n"
   ]
  },
  {
   "cell_type": "code",
   "execution_count": 4,
   "id": "9582aaf4-79ff-412a-b248-8d8d693ebd4f",
   "metadata": {
    "execution": {
     "iopub.execute_input": "2022-05-09T16:31:58.433639Z",
     "iopub.status.busy": "2022-05-09T16:31:58.433353Z",
     "iopub.status.idle": "2022-05-09T16:31:59.665232Z",
     "shell.execute_reply": "2022-05-09T16:31:59.664051Z"
    },
    "jupyter": {
     "source_hidden": true
    },
    "papermill": {
     "duration": 1.24819,
     "end_time": "2022-05-09T16:31:59.667581",
     "exception": false,
     "start_time": "2022-05-09T16:31:58.419391",
     "status": "completed"
    },
    "tags": [
     "remove_input"
    ]
   },
   "outputs": [],
   "source": [
    "df = catalog.competitive_route_variability.read()\n",
    "\n",
    "df = (df[(df.calitp_itp_id == itp_id) & \n",
    "         (df.route_group.notna())]\n",
    "      .reset_index(drop=True)\n",
    "     )\n",
    "\n",
    "\n",
    "if itp_id == 182:\n",
    "    df = df.assign(\n",
    "        route_id = df.route_id.str.replace('-13153', '').astype(int)\n",
    "    )"
   ]
  },
  {
   "cell_type": "code",
   "execution_count": 5,
   "id": "33ac4b06-f647-4dce-a625-8f2c1b37cc60",
   "metadata": {
    "execution": {
     "iopub.execute_input": "2022-05-09T16:31:59.693564Z",
     "iopub.status.busy": "2022-05-09T16:31:59.693288Z",
     "iopub.status.idle": "2022-05-09T16:31:59.708482Z",
     "shell.execute_reply": "2022-05-09T16:31:59.707314Z"
    },
    "jupyter": {
     "source_hidden": true
    },
    "papermill": {
     "duration": 0.031089,
     "end_time": "2022-05-09T16:31:59.711307",
     "exception": false,
     "start_time": "2022-05-09T16:31:59.680218",
     "status": "completed"
    },
    "tags": [
     "remove_input"
    ]
   },
   "outputs": [],
   "source": [
    "%%capture_parameters\n",
    "operator_name = df.name.iloc[0]\n",
    "district_number = f\"{df.caltrans_district.iloc[0].split('-')[0].strip()}\"\n",
    "district_name = f\"{df.caltrans_district.iloc[0].split('-')[1].strip().lower().replace(' ', '-')}\"\n",
    "\n",
    "itp_id, operator_name, district_number, district_name"
   ]
  },
  {
   "cell_type": "markdown",
   "id": "65bc6f5c-8348-42ee-b2dd-52057c406852",
   "metadata": {
    "papermill": {
     "duration": 0.012521,
     "end_time": "2022-05-09T16:31:59.737215",
     "exception": false,
     "start_time": "2022-05-09T16:31:59.724694",
     "status": "completed"
    },
    "tags": []
   },
   "source": [
    "# Tehama County (ITP ID: 334)"
   ]
  },
  {
   "cell_type": "code",
   "execution_count": 6,
   "id": "a689c1ab-2c6c-4831-8d64-897f5986f571",
   "metadata": {
    "execution": {
     "iopub.execute_input": "2022-05-09T16:31:59.764138Z",
     "iopub.status.busy": "2022-05-09T16:31:59.763271Z",
     "iopub.status.idle": "2022-05-09T16:31:59.769335Z",
     "shell.execute_reply": "2022-05-09T16:31:59.768742Z"
    },
    "jupyter": {
     "source_hidden": true
    },
    "papermill": {
     "duration": 0.021238,
     "end_time": "2022-05-09T16:31:59.771067",
     "exception": false,
     "start_time": "2022-05-09T16:31:59.749829",
     "status": "completed"
    },
    "tags": [
     "remove_input"
    ]
   },
   "outputs": [
    {
     "data": {
      "text/html": [
       "<h1>Competitive & Parallel Routes</h1>"
      ],
      "text/plain": [
       "<IPython.core.display.HTML object>"
      ]
     },
     "metadata": {},
     "output_type": "display_data"
    }
   ],
   "source": [
    "display(HTML(\"<h1>Competitive & Parallel Routes</h1>\")) "
   ]
  },
  {
   "cell_type": "code",
   "execution_count": 7,
   "id": "2cb4d8d5-4760-40e4-85b1-cb833d8bb648",
   "metadata": {
    "execution": {
     "iopub.execute_input": "2022-05-09T16:31:59.808106Z",
     "iopub.status.busy": "2022-05-09T16:31:59.807203Z",
     "iopub.status.idle": "2022-05-09T16:32:12.375624Z",
     "shell.execute_reply": "2022-05-09T16:32:12.374348Z"
    },
    "jupyter": {
     "source_hidden": true
    },
    "papermill": {
     "duration": 12.593559,
     "end_time": "2022-05-09T16:32:12.378560",
     "exception": false,
     "start_time": "2022-05-09T16:31:59.785001",
     "status": "completed"
    },
    "tags": [
     "remove_input"
    ]
   },
   "outputs": [],
   "source": [
    "# Grab parameters for narrative text - clean up formatting here \n",
    "district = df.caltrans_district.iloc[0]\n",
    "formatted_date = pd.to_datetime(parallel_corridors_utils.SELECTED_DATE).strftime('%m-%d-%Y')\n",
    "\n",
    "PCT_COMPETITIVE_THRESHOLD = 0.75\n",
    "\n",
    "stats = parallel_corridors_utils.operator_parallel_competitive_stats(\n",
    "    itp_id, PCT_COMPETITIVE_THRESHOLD)\n",
    "\n",
    "pct_parallel = round(stats['parallel_routes'] / stats['num_routes'] * 100,1 )\n",
    "pct_competitive =  round(stats['competitive_routes'] / stats['num_routes'] * 100,1 )"
   ]
  },
  {
   "cell_type": "markdown",
   "id": "ab667928-5274-4490-82d9-4c39293209a4",
   "metadata": {
    "papermill": {
     "duration": 0.019654,
     "end_time": "2022-05-09T16:32:12.412092",
     "exception": false,
     "start_time": "2022-05-09T16:32:12.392438",
     "status": "completed"
    },
    "tags": []
   },
   "source": [
    "## Quick Stats"
   ]
  },
  {
   "cell_type": "code",
   "execution_count": 8,
   "id": "0416509d-dc62-4165-b62e-64f8b26e8b8e",
   "metadata": {
    "execution": {
     "iopub.execute_input": "2022-05-09T16:32:12.443341Z",
     "iopub.status.busy": "2022-05-09T16:32:12.442613Z",
     "iopub.status.idle": "2022-05-09T16:32:12.449995Z",
     "shell.execute_reply": "2022-05-09T16:32:12.449320Z"
    },
    "jupyter": {
     "source_hidden": true
    },
    "papermill": {
     "duration": 0.025862,
     "end_time": "2022-05-09T16:32:12.452443",
     "exception": false,
     "start_time": "2022-05-09T16:32:12.426581",
     "status": "completed"
    },
    "tags": [
     "remove_input"
    ]
   },
   "outputs": [
    {
     "data": {
      "text/markdown": [
       "**Bus routes in service**: 5 <br>**Parallel routes** to State Highway Network (SHN): 5 routes (100.0%)<br>**Competitive routes** against car travel: 2 routes (40.0%)"
      ],
      "text/plain": [
       "<IPython.core.display.Markdown object>"
      ]
     },
     "metadata": {},
     "output_type": "display_data"
    }
   ],
   "source": [
    "display(\n",
    "    Markdown(\n",
    "        f\"**Bus routes in service**: {stats['num_routes']} \"\n",
    "        \"<br>**Parallel routes** to State Highway Network (SHN): \"\n",
    "        f\"{stats['parallel_routes']} routes ({pct_parallel}%)\"\n",
    "        f\"<br>**Competitive routes** against car travel: {stats['competitive_routes']} routes ({pct_competitive}%)\"\n",
    "    )\n",
    ")"
   ]
  },
  {
   "cell_type": "code",
   "execution_count": 9,
   "id": "f9d6ab58-f0ee-460c-b6de-657490e1f386",
   "metadata": {
    "execution": {
     "iopub.execute_input": "2022-05-09T16:32:12.486565Z",
     "iopub.status.busy": "2022-05-09T16:32:12.485798Z",
     "iopub.status.idle": "2022-05-09T16:32:12.507632Z",
     "shell.execute_reply": "2022-05-09T16:32:12.506634Z"
    },
    "jupyter": {
     "source_hidden": true
    },
    "papermill": {
     "duration": 0.043119,
     "end_time": "2022-05-09T16:32:12.510175",
     "exception": false,
     "start_time": "2022-05-09T16:32:12.467056",
     "status": "completed"
    },
    "tags": [
     "remove_input"
    ]
   },
   "outputs": [],
   "source": [
    "def set_yaxis_range(df, y_col):\n",
    "    Y_MIN = df[y_col].min()\n",
    "    Y_MAX = df[y_col].max()\n",
    "    \n",
    "    return Y_MIN, Y_MAX\n",
    "\n",
    "# Rather than set it according to the operator, which can vary,\n",
    "# just use set thresholds for each group\n",
    "diff_cutoffs = parallel_corridors_utils.diff_cutoffs\n",
    "\n",
    "PCT_TRIPS_BELOW_CUTOFF = 0.25\n",
    "\n",
    "def top15_routes(df, route_group):\n",
    "    df2 = (df[df.route_group==route_group])\n",
    "    # Set a cut-off to enable sorting, where most of the trips are \n",
    "    # below a certain time difference cut-off, \n",
    "    # grab top 15 routes where majority of trips are below that cut-off \n",
    "\n",
    "    route_cols = [\"calitp_itp_id\", \"route_id\"]\n",
    "\n",
    "    df2 = df2.assign(\n",
    "        below_cutoff = df2.apply(lambda x: 1 if x.bus_difference <= diff_cutoffs[route_group] \n",
    "                                 else 0, axis=1),\n",
    "        num_trips = df2.groupby(route_cols)[\"trip_id\"].transform(\"count\")\n",
    "    )\n",
    "\n",
    "    df2[\"below_cutoff\"] = df2.groupby(route_cols)[\"below_cutoff\"].transform(\"sum\")\n",
    "    df2[\"pct_below_cutoff\"] = df2.below_cutoff.divide(df2.num_trips)\n",
    "\n",
    "    # At least half the trips are below that cut-off\n",
    "    # but show 15 max, otherwise, show less, since these won't be as interesting to operators\n",
    "    df3 = (df2[df2.pct_below_cutoff >= PCT_TRIPS_BELOW_CUTOFF]\n",
    "           .sort_values([\"calitp_itp_id\", \"below_cutoff\", \n",
    "                         \"pct_below_cutoff\", \"route_id\"],\n",
    "                        ascending = [True, False, False, True]\n",
    "                       )\n",
    "           .drop_duplicates(subset=[\"calitp_itp_id\", \"route_id\"])\n",
    "          ).head(15)\n",
    "    \n",
    "    return list(df3.route_id)"
   ]
  },
  {
   "cell_type": "code",
   "execution_count": 10,
   "id": "cf36d559-3349-4144-8086-8ac9ce937a5a",
   "metadata": {
    "execution": {
     "iopub.execute_input": "2022-05-09T16:32:12.541092Z",
     "iopub.status.busy": "2022-05-09T16:32:12.540358Z",
     "iopub.status.idle": "2022-05-09T16:32:12.546855Z",
     "shell.execute_reply": "2022-05-09T16:32:12.546084Z"
    },
    "jupyter": {
     "source_hidden": true
    },
    "papermill": {
     "duration": 0.025049,
     "end_time": "2022-05-09T16:32:12.549535",
     "exception": false,
     "start_time": "2022-05-09T16:32:12.524486",
     "status": "completed"
    },
    "tags": [
     "remove_input"
    ]
   },
   "outputs": [],
   "source": [
    "def caption_with_cutoff(cutoff):\n",
    "    sentence = (\n",
    "        f\"<br>These are routes that have **at least {int(PCT_TRIPS_BELOW_CUTOFF*100)}% \"\n",
    "        \"of their trips take no more than an \"\n",
    "        f\"additional {cutoff} min** compared to a car \"\n",
    "        \"(up to 15 routes) are shown.\"\n",
    "        \"<br>Within each route group, routes are sorted in descending order \"\n",
    "        \"by % competitive trips and # trips below the additional time cut-off.\"\n",
    "    )\n",
    "    return sentence\n",
    "\n",
    "CAPTIONS_DICT = {\n",
    "    \"short\": caption_with_cutoff(diff_cutoffs['short']),\n",
    "    \"medium\": caption_with_cutoff(diff_cutoffs['medium']),\n",
    "    \"long\": caption_with_cutoff(diff_cutoffs['long']),\n",
    "}"
   ]
  },
  {
   "cell_type": "code",
   "execution_count": 11,
   "id": "e4306d58-6944-47e9-afef-5d5b524c751f",
   "metadata": {
    "execution": {
     "iopub.execute_input": "2022-05-09T16:32:12.584191Z",
     "iopub.status.busy": "2022-05-09T16:32:12.583506Z",
     "iopub.status.idle": "2022-05-09T16:32:12.592320Z",
     "shell.execute_reply": "2022-05-09T16:32:12.591448Z"
    },
    "jupyter": {
     "source_hidden": true
    },
    "papermill": {
     "duration": 0.0279,
     "end_time": "2022-05-09T16:32:12.594720",
     "exception": false,
     "start_time": "2022-05-09T16:32:12.566820",
     "status": "completed"
    },
    "tags": [
     "remove_input"
    ]
   },
   "outputs": [],
   "source": [
    "def setup_charts(df, PCT_COMPETITIVE_THRESHOLD, route_group):\n",
    "    # Set up df for charting (cut-off at some threshold to show most competitive routes)\n",
    "    plot_me = (df[df.pct_trips_competitive > PCT_COMPETITIVE_THRESHOLD]\n",
    "           .drop(columns = \"geometry\")\n",
    "    )\n",
    "    \n",
    "    y_col1 = \"bus_multiplier\"\n",
    "    Y_MIN1, Y_MAX1 = set_yaxis_range(plot_me, y_col1)\n",
    "\n",
    "    y_col2 = \"bus_difference\"\n",
    "    Y_MIN2, Y_MAX2 = set_yaxis_range(plot_me, y_col2)\n",
    "     \n",
    "    subset_routes = top15_routes(plot_me, route_group)\n",
    "    \n",
    "    multiplier_chart = parallel_corridors_utils.make_stripplot(\n",
    "        plot_me[plot_me.route_id.isin(subset_routes)], \n",
    "        y_col1, Y_MIN = Y_MIN1, Y_MAX = Y_MAX1\n",
    "    )\n",
    "    \n",
    "    difference_chart = parallel_corridors_utils.make_stripplot(\n",
    "        plot_me[plot_me.route_id.isin(subset_routes)], \n",
    "        y_col2, Y_MIN = Y_MIN2, Y_MAX = Y_MAX2\n",
    "    )\n",
    "    \n",
    "    return subset_routes, multiplier_chart, difference_chart            "
   ]
  },
  {
   "cell_type": "code",
   "execution_count": 12,
   "id": "33a710e8-504c-4942-aa75-ff69f216956e",
   "metadata": {
    "execution": {
     "iopub.execute_input": "2022-05-09T16:32:12.634813Z",
     "iopub.status.busy": "2022-05-09T16:32:12.634057Z",
     "iopub.status.idle": "2022-05-09T16:32:12.642312Z",
     "shell.execute_reply": "2022-05-09T16:32:12.641435Z"
    },
    "jupyter": {
     "source_hidden": true
    },
    "papermill": {
     "duration": 0.029841,
     "end_time": "2022-05-09T16:32:12.644591",
     "exception": false,
     "start_time": "2022-05-09T16:32:12.614750",
     "status": "completed"
    },
    "tags": [
     "remove_input"
    ]
   },
   "outputs": [],
   "source": [
    "def display_charts_for_route_group(df, route_group):    \n",
    "    subset_routes, mult, diff  = setup_charts(df, PCT_COMPETITIVE_THRESHOLD, route_group)\n",
    "\n",
    "    if len(subset_routes) > 0:\n",
    "        display(Markdown(f\"{CAPTIONS_DICT[route_group]}\"))\n",
    "\n",
    "        display(mult)\n",
    "        display(diff)"
   ]
  },
  {
   "cell_type": "markdown",
   "id": "525f9b38-072b-46d1-96a8-1aa4b038357c",
   "metadata": {
    "papermill": {
     "duration": 0.016047,
     "end_time": "2022-05-09T16:32:12.675623",
     "exception": false,
     "start_time": "2022-05-09T16:32:12.659576",
     "status": "completed"
    },
    "tags": []
   },
   "source": [
    "## Viable Competitive Routes\n",
    "### Short Routes (< 1 hr)"
   ]
  },
  {
   "cell_type": "code",
   "execution_count": 13,
   "id": "57f7084c-2cf7-45c6-ba08-1609e0bd6ca5",
   "metadata": {
    "execution": {
     "iopub.execute_input": "2022-05-09T16:32:12.715932Z",
     "iopub.status.busy": "2022-05-09T16:32:12.715551Z",
     "iopub.status.idle": "2022-05-09T16:32:12.739016Z",
     "shell.execute_reply": "2022-05-09T16:32:12.737947Z"
    },
    "jupyter": {
     "source_hidden": true
    },
    "papermill": {
     "duration": 0.04832,
     "end_time": "2022-05-09T16:32:12.741407",
     "exception": false,
     "start_time": "2022-05-09T16:32:12.693087",
     "status": "completed"
    },
    "tags": [
     "remove_input"
    ]
   },
   "outputs": [
    {
     "name": "stdout",
     "output_type": "stream",
     "text": [
      "No routes meet this criteria.\n"
     ]
    }
   ],
   "source": [
    "# Allow for possibility that operator doesn't have routes that fall into certain route_groups\n",
    "# But, jupyterbook will not like markdown with f-string\n",
    "# separate out route_group and put in each cell, and use try/except + if to display...\n",
    "# but all 3 route groups must be displayed. just add sentence about why no routes were returned at the end\n",
    "route_group = \"short\"\n",
    "try:\n",
    "    display_charts_for_route_group(df, route_group)\n",
    "except:\n",
    "    print(\"No routes meet this criteria.\")"
   ]
  },
  {
   "cell_type": "markdown",
   "id": "c2931b6f-034d-4384-9e14-80b925e3b820",
   "metadata": {
    "papermill": {
     "duration": 0.017552,
     "end_time": "2022-05-09T16:32:12.774853",
     "exception": false,
     "start_time": "2022-05-09T16:32:12.757301",
     "status": "completed"
    },
    "tags": []
   },
   "source": [
    "### Medium Routes (1-1.5 hrs)"
   ]
  },
  {
   "cell_type": "code",
   "execution_count": 14,
   "id": "480edddc-4de0-48c2-ae4c-b0ceef8f28b5",
   "metadata": {
    "execution": {
     "iopub.execute_input": "2022-05-09T16:32:12.816442Z",
     "iopub.status.busy": "2022-05-09T16:32:12.815198Z",
     "iopub.status.idle": "2022-05-09T16:32:13.147361Z",
     "shell.execute_reply": "2022-05-09T16:32:13.146303Z"
    },
    "jupyter": {
     "source_hidden": true
    },
    "papermill": {
     "duration": 0.359961,
     "end_time": "2022-05-09T16:32:13.149527",
     "exception": false,
     "start_time": "2022-05-09T16:32:12.789566",
     "status": "completed"
    },
    "tags": [
     "remove_input"
    ]
   },
   "outputs": [
    {
     "data": {
      "text/markdown": [
       "<br>These are routes that have **at least 25% of their trips take no more than an additional 30 min** compared to a car (up to 15 routes) are shown.<br>Within each route group, routes are sorted in descending order by % competitive trips and # trips below the additional time cut-off."
      ],
      "text/plain": [
       "<IPython.core.display.Markdown object>"
      ]
     },
     "metadata": {},
     "output_type": "display_data"
    },
    {
     "data": {
      "text/html": [
       "\n",
       "<div id=\"altair-viz-5ba8bac2152b4dfb98b3f267311ca13e\"></div>\n",
       "<script type=\"text/javascript\">\n",
       "  var VEGA_DEBUG = (typeof VEGA_DEBUG == \"undefined\") ? {} : VEGA_DEBUG;\n",
       "  (function(spec, embedOpt){\n",
       "    let outputDiv = document.currentScript.previousElementSibling;\n",
       "    if (outputDiv.id !== \"altair-viz-5ba8bac2152b4dfb98b3f267311ca13e\") {\n",
       "      outputDiv = document.getElementById(\"altair-viz-5ba8bac2152b4dfb98b3f267311ca13e\");\n",
       "    }\n",
       "    const paths = {\n",
       "      \"vega\": \"https://cdn.jsdelivr.net/npm//vega@5?noext\",\n",
       "      \"vega-lib\": \"https://cdn.jsdelivr.net/npm//vega-lib?noext\",\n",
       "      \"vega-lite\": \"https://cdn.jsdelivr.net/npm//vega-lite@4.17.0?noext\",\n",
       "      \"vega-embed\": \"https://cdn.jsdelivr.net/npm//vega-embed@6?noext\",\n",
       "    };\n",
       "\n",
       "    function maybeLoadScript(lib, version) {\n",
       "      var key = `${lib.replace(\"-\", \"\")}_version`;\n",
       "      return (VEGA_DEBUG[key] == version) ?\n",
       "        Promise.resolve(paths[lib]) :\n",
       "        new Promise(function(resolve, reject) {\n",
       "          var s = document.createElement('script');\n",
       "          document.getElementsByTagName(\"head\")[0].appendChild(s);\n",
       "          s.async = true;\n",
       "          s.onload = () => {\n",
       "            VEGA_DEBUG[key] = version;\n",
       "            return resolve(paths[lib]);\n",
       "          };\n",
       "          s.onerror = () => reject(`Error loading script: ${paths[lib]}`);\n",
       "          s.src = paths[lib];\n",
       "        });\n",
       "    }\n",
       "\n",
       "    function showError(err) {\n",
       "      outputDiv.innerHTML = `<div class=\"error\" style=\"color:red;\">${err}</div>`;\n",
       "      throw err;\n",
       "    }\n",
       "\n",
       "    function displayChart(vegaEmbed) {\n",
       "      vegaEmbed(outputDiv, spec, embedOpt)\n",
       "        .catch(err => showError(`Javascript Error: ${err.message}<br>This usually means there's a typo in your chart specification. See the javascript console for the full traceback.`));\n",
       "    }\n",
       "\n",
       "    if(typeof define === \"function\" && define.amd) {\n",
       "      requirejs.config({paths});\n",
       "      require([\"vega-embed\"], displayChart, err => showError(`Error loading script: ${err.message}`));\n",
       "    } else {\n",
       "      maybeLoadScript(\"vega\", \"5\")\n",
       "        .then(() => maybeLoadScript(\"vega-lite\", \"4.17.0\"))\n",
       "        .then(() => maybeLoadScript(\"vega-embed\", \"6\"))\n",
       "        .catch(showError)\n",
       "        .then(() => displayChart(vegaEmbed));\n",
       "    }\n",
       "  })({\"config\": {\"view\": {\"continuousWidth\": 400, \"continuousHeight\": 300, \"stroke\": null}, \"facet\": {\"spacing\": 0}}, \"data\": {\"name\": \"data-5f12006d7db138fb68fa639353525bcd\"}, \"facet\": {\"column\": {\"field\": \"route_id\", \"sort\": [\"140\"], \"title\": \"Route ID\", \"type\": \"nominal\"}}, \"spec\": {\"layer\": [{\"mark\": \"rule\", \"encoding\": {\"color\": {\"value\": \"black\"}, \"y\": {\"field\": \"cutoff\", \"type\": \"quantitative\"}}, \"selection\": {\"selector001\": {\"type\": \"interval\", \"bind\": \"scales\", \"encodings\": [\"x\", \"y\"]}}}, {\"mark\": {\"type\": \"point\", \"opacity\": 0.65, \"size\": 12, \"strokeWidth\": 1.1}, \"encoding\": {\"color\": {\"field\": \"time_of_day\", \"scale\": {\"range\": [\"#136C97\", \"#E16B26\", \"#F6BF16\", \"#00896B\", \"#7790A3\", \"#5B559C\"]}, \"sort\": [\"AM Peak\", \"Midday\", \"PM Peak\", \"Owl Service\"], \"title\": \"Time of Day\", \"type\": \"nominal\"}, \"tooltip\": [{\"field\": \"route_id\", \"type\": \"nominal\"}, {\"field\": \"trip_id\", \"type\": \"nominal\"}, {\"field\": \"service_hours\", \"type\": \"quantitative\"}, {\"field\": \"car_duration_hours\", \"type\": \"quantitative\"}, {\"field\": \"bus_multiplier\", \"type\": \"quantitative\"}, {\"field\": \"bus_difference\", \"type\": \"quantitative\"}, {\"field\": \"num_trips\", \"type\": \"quantitative\"}, {\"field\": \"num_competitive\", \"type\": \"quantitative\"}, {\"field\": \"pct_trips_competitive\", \"type\": \"quantitative\"}, {\"field\": \"p25\", \"type\": \"quantitative\"}, {\"field\": \"p50\", \"type\": \"quantitative\"}, {\"field\": \"p75\", \"type\": \"quantitative\"}], \"x\": {\"axis\": {\"grid\": false, \"labels\": false, \"ticks\": true, \"values\": [0]}, \"field\": \"jitter\", \"scale\": {}, \"title\": null, \"type\": \"quantitative\"}, \"y\": {\"field\": \"bus_multiplier\", \"scale\": {\"domain\": [-0.25, 2.5]}, \"title\": \"Ratio of Bus to Car Travel Time\", \"type\": \"quantitative\"}}, \"transform\": [{\"calculate\": \"sqrt(-2*log(random()))*cos(2*PI*random())\", \"as\": \"jitter\"}], \"width\": 50}, {\"layer\": [{\"mark\": {\"type\": \"point\", \"opacity\": 0.6, \"size\": 20, \"strokeWidth\": 1.3}, \"encoding\": {\"color\": {\"value\": \"#323434\"}, \"y\": {\"field\": \"bus_multiplier\", \"type\": \"quantitative\"}}, \"transform\": [{\"filter\": \"(datum.p50_trip === 1)\"}]}, {\"mark\": {\"type\": \"text\", \"align\": \"center\", \"baseline\": \"middle\"}, \"encoding\": {\"color\": {\"value\": \"black\"}, \"text\": {\"field\": \"pct_trips_competitive\", \"format\": \".0%\", \"type\": \"quantitative\"}, \"tooltip\": [{\"field\": \"route_id\", \"type\": \"nominal\"}, {\"field\": \"trip_id\", \"type\": \"nominal\"}, {\"field\": \"service_hours\", \"type\": \"quantitative\"}, {\"field\": \"car_duration_hours\", \"type\": \"quantitative\"}, {\"field\": \"bus_multiplier\", \"type\": \"quantitative\"}, {\"field\": \"bus_difference\", \"type\": \"quantitative\"}, {\"field\": \"num_trips\", \"type\": \"quantitative\"}, {\"field\": \"num_competitive\", \"type\": \"quantitative\"}, {\"field\": \"pct_trips_competitive\", \"type\": \"quantitative\"}, {\"field\": \"p25\", \"type\": \"quantitative\"}, {\"field\": \"p50\", \"type\": \"quantitative\"}, {\"field\": \"p75\", \"type\": \"quantitative\"}], \"x\": {\"value\": 30}, \"y\": {\"value\": 15}}, \"transform\": [{\"calculate\": \"sqrt(-2*log(random()))*cos(2*PI*random())\", \"as\": \"jitter\"}, {\"filter\": \"(datum.fastest_trip === 1)\"}]}]}]}, \"resolve\": {\"scale\": {\"y\": \"shared\"}}, \"title\": \"Ratio of Bus to Car Travel Time\", \"$schema\": \"https://vega.github.io/schema/vega-lite/v4.17.0.json\", \"datasets\": {\"data-5f12006d7db138fb68fa639353525bcd\": [{\"calitp_itp_id\": 334, \"trip_key\": 3789012145727333403, \"trip_id\": \"t_43182_b_486_tn_0\", \"shape_id\": \"p_2590\", \"route_id\": \"140\", \"service_hours\": 1.17, \"trip_first_departure_ts\": 27000, \"trip_last_arrival_ts\": 31200, \"departure_hour\": 7, \"time_of_day\": \"AM Peak\", \"p25\": 1.17, \"p50\": 1.17, \"p75\": 1.17, \"p50_trip\": 1, \"fastest_trip\": 0, \"car_duration_hours\": 0.74, \"competitive_route\": 1, \"bus_multiplier\": 1.58, \"bus_difference\": 25.8, \"num_trips\": 18, \"num_competitive\": 18, \"pct_trips_competitive\": 1.0, \"bus_difference_spread\": 0.0, \"route_group\": \"medium\", \"max_trip_hrs\": 1.17, \"max_trip_route_group\": 1.25, \"name\": \"Tehama County\", \"caltrans_district\": \"02 - Redding\", \"drmt_organization_name\": null, \"cutoff2\": 30, \"cutoff\": 2}, {\"calitp_itp_id\": 334, \"trip_key\": 2077162622524927707, \"trip_id\": \"t_701156_b_486_tn_0\", \"shape_id\": \"p_2590\", \"route_id\": \"140\", \"service_hours\": 1.17, \"trip_first_departure_ts\": 43800, \"trip_last_arrival_ts\": 48000, \"departure_hour\": 12, \"time_of_day\": \"Midday\", \"p25\": 1.17, \"p50\": 1.17, \"p75\": 1.17, \"p50_trip\": 1, \"fastest_trip\": 0, \"car_duration_hours\": 0.74, \"competitive_route\": 1, \"bus_multiplier\": 1.58, \"bus_difference\": 25.8, \"num_trips\": 18, \"num_competitive\": 18, \"pct_trips_competitive\": 1.0, \"bus_difference_spread\": 0.0, \"route_group\": \"medium\", \"max_trip_hrs\": 1.17, \"max_trip_route_group\": 1.25, \"name\": \"Tehama County\", \"caltrans_district\": \"02 - Redding\", \"drmt_organization_name\": null, \"cutoff2\": 30, \"cutoff\": 2}, {\"calitp_itp_id\": 334, \"trip_key\": -2595454426414092766, \"trip_id\": \"t_41753_b_486_tn_0\", \"shape_id\": \"p_2590\", \"route_id\": \"140\", \"service_hours\": 1.17, \"trip_first_departure_ts\": 31200, \"trip_last_arrival_ts\": 35400, \"departure_hour\": 8, \"time_of_day\": \"AM Peak\", \"p25\": 1.17, \"p50\": 1.17, \"p75\": 1.17, \"p50_trip\": 1, \"fastest_trip\": 0, \"car_duration_hours\": 0.74, \"competitive_route\": 1, \"bus_multiplier\": 1.58, \"bus_difference\": 25.8, \"num_trips\": 18, \"num_competitive\": 18, \"pct_trips_competitive\": 1.0, \"bus_difference_spread\": 0.0, \"route_group\": \"medium\", \"max_trip_hrs\": 1.17, \"max_trip_route_group\": 1.25, \"name\": \"Tehama County\", \"caltrans_district\": \"02 - Redding\", \"drmt_organization_name\": null, \"cutoff2\": 30, \"cutoff\": 2}, {\"calitp_itp_id\": 334, \"trip_key\": 8123966852659409048, \"trip_id\": \"t_701155_b_486_tn_0\", \"shape_id\": \"p_2592\", \"route_id\": \"140\", \"service_hours\": 1.17, \"trip_first_departure_ts\": 63000, \"trip_last_arrival_ts\": 67200, \"departure_hour\": 17, \"time_of_day\": \"PM Peak\", \"p25\": 1.17, \"p50\": 1.17, \"p75\": 1.17, \"p50_trip\": 1, \"fastest_trip\": 1, \"car_duration_hours\": 0.74, \"competitive_route\": 1, \"bus_multiplier\": 1.58, \"bus_difference\": 25.8, \"num_trips\": 18, \"num_competitive\": 18, \"pct_trips_competitive\": 1.0, \"bus_difference_spread\": 0.0, \"route_group\": \"medium\", \"max_trip_hrs\": 1.17, \"max_trip_route_group\": 1.25, \"name\": \"Tehama County\", \"caltrans_district\": \"02 - Redding\", \"drmt_organization_name\": null, \"cutoff2\": 30, \"cutoff\": 2}, {\"calitp_itp_id\": 334, \"trip_key\": 7453382412752000049, \"trip_id\": \"t_701157_b_486_tn_0\", \"shape_id\": \"p_2590\", \"route_id\": \"140\", \"service_hours\": 1.17, \"trip_first_departure_ts\": 48000, \"trip_last_arrival_ts\": 52200, \"departure_hour\": 13, \"time_of_day\": \"Midday\", \"p25\": 1.17, \"p50\": 1.17, \"p75\": 1.17, \"p50_trip\": 1, \"fastest_trip\": 0, \"car_duration_hours\": 0.74, \"competitive_route\": 1, \"bus_multiplier\": 1.58, \"bus_difference\": 25.8, \"num_trips\": 18, \"num_competitive\": 18, \"pct_trips_competitive\": 1.0, \"bus_difference_spread\": 0.0, \"route_group\": \"medium\", \"max_trip_hrs\": 1.17, \"max_trip_route_group\": 1.25, \"name\": \"Tehama County\", \"caltrans_district\": \"02 - Redding\", \"drmt_organization_name\": null, \"cutoff2\": 30, \"cutoff\": 2}, {\"calitp_itp_id\": 334, \"trip_key\": 4922224310197648828, \"trip_id\": \"t_701148_b_486_tn_0\", \"shape_id\": \"p_2592\", \"route_id\": \"140\", \"service_hours\": 1.17, \"trip_first_departure_ts\": 30000, \"trip_last_arrival_ts\": 34200, \"departure_hour\": 8, \"time_of_day\": \"AM Peak\", \"p25\": 1.17, \"p50\": 1.17, \"p75\": 1.17, \"p50_trip\": 1, \"fastest_trip\": 0, \"car_duration_hours\": 0.74, \"competitive_route\": 1, \"bus_multiplier\": 1.58, \"bus_difference\": 25.8, \"num_trips\": 18, \"num_competitive\": 18, \"pct_trips_competitive\": 1.0, \"bus_difference_spread\": 0.0, \"route_group\": \"medium\", \"max_trip_hrs\": 1.17, \"max_trip_route_group\": 1.25, \"name\": \"Tehama County\", \"caltrans_district\": \"02 - Redding\", \"drmt_organization_name\": null, \"cutoff2\": 30, \"cutoff\": 2}, {\"calitp_itp_id\": 334, \"trip_key\": 6133689658608768548, \"trip_id\": \"t_311_b_486_tn_0\", \"shape_id\": \"p_2590\", \"route_id\": \"140\", \"service_hours\": 1.17, \"trip_first_departure_ts\": 22800, \"trip_last_arrival_ts\": 27000, \"departure_hour\": 6, \"time_of_day\": \"Owl Service\", \"p25\": 1.17, \"p50\": 1.17, \"p75\": 1.17, \"p50_trip\": 1, \"fastest_trip\": 0, \"car_duration_hours\": 0.74, \"competitive_route\": 1, \"bus_multiplier\": 1.58, \"bus_difference\": 25.8, \"num_trips\": 18, \"num_competitive\": 18, \"pct_trips_competitive\": 1.0, \"bus_difference_spread\": 0.0, \"route_group\": \"medium\", \"max_trip_hrs\": 1.17, \"max_trip_route_group\": 1.25, \"name\": \"Tehama County\", \"caltrans_district\": \"02 - Redding\", \"drmt_organization_name\": null, \"cutoff2\": 30, \"cutoff\": 2}, {\"calitp_itp_id\": 334, \"trip_key\": -1245088091465612859, \"trip_id\": \"t_701154_b_486_tn_0\", \"shape_id\": \"p_2592\", \"route_id\": \"140\", \"service_hours\": 1.17, \"trip_first_departure_ts\": 58500, \"trip_last_arrival_ts\": 62700, \"departure_hour\": 16, \"time_of_day\": \"Midday\", \"p25\": 1.17, \"p50\": 1.17, \"p75\": 1.17, \"p50_trip\": 1, \"fastest_trip\": 0, \"car_duration_hours\": 0.74, \"competitive_route\": 1, \"bus_multiplier\": 1.58, \"bus_difference\": 25.8, \"num_trips\": 18, \"num_competitive\": 18, \"pct_trips_competitive\": 1.0, \"bus_difference_spread\": 0.0, \"route_group\": \"medium\", \"max_trip_hrs\": 1.17, \"max_trip_route_group\": 1.25, \"name\": \"Tehama County\", \"caltrans_district\": \"02 - Redding\", \"drmt_organization_name\": null, \"cutoff2\": 30, \"cutoff\": 2}, {\"calitp_itp_id\": 334, \"trip_key\": 8350780050980250086, \"trip_id\": \"t_701147_b_486_tn_0\", \"shape_id\": \"p_2592\", \"route_id\": \"140\", \"service_hours\": 1.17, \"trip_first_departure_ts\": 25800, \"trip_last_arrival_ts\": 30000, \"departure_hour\": 7, \"time_of_day\": \"AM Peak\", \"p25\": 1.17, \"p50\": 1.17, \"p75\": 1.17, \"p50_trip\": 1, \"fastest_trip\": 0, \"car_duration_hours\": 0.74, \"competitive_route\": 1, \"bus_multiplier\": 1.58, \"bus_difference\": 25.8, \"num_trips\": 18, \"num_competitive\": 18, \"pct_trips_competitive\": 1.0, \"bus_difference_spread\": 0.0, \"route_group\": \"medium\", \"max_trip_hrs\": 1.17, \"max_trip_route_group\": 1.25, \"name\": \"Tehama County\", \"caltrans_district\": \"02 - Redding\", \"drmt_organization_name\": null, \"cutoff2\": 30, \"cutoff\": 2}, {\"calitp_itp_id\": 334, \"trip_key\": 5836499897819238192, \"trip_id\": \"t_65615_b_486_tn_0\", \"shape_id\": \"p_2590\", \"route_id\": \"140\", \"service_hours\": 1.17, \"trip_first_departure_ts\": 35400, \"trip_last_arrival_ts\": 39600, \"departure_hour\": 9, \"time_of_day\": \"AM Peak\", \"p25\": 1.17, \"p50\": 1.17, \"p75\": 1.17, \"p50_trip\": 1, \"fastest_trip\": 0, \"car_duration_hours\": 0.74, \"competitive_route\": 1, \"bus_multiplier\": 1.58, \"bus_difference\": 25.8, \"num_trips\": 18, \"num_competitive\": 18, \"pct_trips_competitive\": 1.0, \"bus_difference_spread\": 0.0, \"route_group\": \"medium\", \"max_trip_hrs\": 1.17, \"max_trip_route_group\": 1.25, \"name\": \"Tehama County\", \"caltrans_district\": \"02 - Redding\", \"drmt_organization_name\": null, \"cutoff2\": 30, \"cutoff\": 2}, {\"calitp_itp_id\": 334, \"trip_key\": 1211498270008307736, \"trip_id\": \"t_701149_b_486_tn_0\", \"shape_id\": \"p_2592\", \"route_id\": \"140\", \"service_hours\": 1.17, \"trip_first_departure_ts\": 34200, \"trip_last_arrival_ts\": 38400, \"departure_hour\": 9, \"time_of_day\": \"AM Peak\", \"p25\": 1.17, \"p50\": 1.17, \"p75\": 1.17, \"p50_trip\": 1, \"fastest_trip\": 0, \"car_duration_hours\": 0.74, \"competitive_route\": 1, \"bus_multiplier\": 1.58, \"bus_difference\": 25.8, \"num_trips\": 18, \"num_competitive\": 18, \"pct_trips_competitive\": 1.0, \"bus_difference_spread\": 0.0, \"route_group\": \"medium\", \"max_trip_hrs\": 1.17, \"max_trip_route_group\": 1.25, \"name\": \"Tehama County\", \"caltrans_district\": \"02 - Redding\", \"drmt_organization_name\": null, \"cutoff2\": 30, \"cutoff\": 2}, {\"calitp_itp_id\": 334, \"trip_key\": 5364955651546800419, \"trip_id\": \"t_701151_b_486_tn_0\", \"shape_id\": \"p_2592\", \"route_id\": \"140\", \"service_hours\": 1.17, \"trip_first_departure_ts\": 42600, \"trip_last_arrival_ts\": 46800, \"departure_hour\": 11, \"time_of_day\": \"Midday\", \"p25\": 1.17, \"p50\": 1.17, \"p75\": 1.17, \"p50_trip\": 1, \"fastest_trip\": 0, \"car_duration_hours\": 0.74, \"competitive_route\": 1, \"bus_multiplier\": 1.58, \"bus_difference\": 25.8, \"num_trips\": 18, \"num_competitive\": 18, \"pct_trips_competitive\": 1.0, \"bus_difference_spread\": 0.0, \"route_group\": \"medium\", \"max_trip_hrs\": 1.17, \"max_trip_route_group\": 1.25, \"name\": \"Tehama County\", \"caltrans_district\": \"02 - Redding\", \"drmt_organization_name\": null, \"cutoff2\": 30, \"cutoff\": 2}, {\"calitp_itp_id\": 334, \"trip_key\": 7883315965957598769, \"trip_id\": \"t_701152_b_486_tn_0\", \"shape_id\": \"p_2592\", \"route_id\": \"140\", \"service_hours\": 1.17, \"trip_first_departure_ts\": 46800, \"trip_last_arrival_ts\": 51000, \"departure_hour\": 13, \"time_of_day\": \"Midday\", \"p25\": 1.17, \"p50\": 1.17, \"p75\": 1.17, \"p50_trip\": 1, \"fastest_trip\": 0, \"car_duration_hours\": 0.74, \"competitive_route\": 1, \"bus_multiplier\": 1.58, \"bus_difference\": 25.8, \"num_trips\": 18, \"num_competitive\": 18, \"pct_trips_competitive\": 1.0, \"bus_difference_spread\": 0.0, \"route_group\": \"medium\", \"max_trip_hrs\": 1.17, \"max_trip_route_group\": 1.25, \"name\": \"Tehama County\", \"caltrans_district\": \"02 - Redding\", \"drmt_organization_name\": null, \"cutoff2\": 30, \"cutoff\": 2}, {\"calitp_itp_id\": 334, \"trip_key\": 6411260912464548517, \"trip_id\": \"t_701150_b_486_tn_0\", \"shape_id\": \"p_2592\", \"route_id\": \"140\", \"service_hours\": 1.17, \"trip_first_departure_ts\": 38400, \"trip_last_arrival_ts\": 42600, \"departure_hour\": 10, \"time_of_day\": \"Midday\", \"p25\": 1.17, \"p50\": 1.17, \"p75\": 1.17, \"p50_trip\": 1, \"fastest_trip\": 0, \"car_duration_hours\": 0.74, \"competitive_route\": 1, \"bus_multiplier\": 1.58, \"bus_difference\": 25.8, \"num_trips\": 18, \"num_competitive\": 18, \"pct_trips_competitive\": 1.0, \"bus_difference_spread\": 0.0, \"route_group\": \"medium\", \"max_trip_hrs\": 1.17, \"max_trip_route_group\": 1.25, \"name\": \"Tehama County\", \"caltrans_district\": \"02 - Redding\", \"drmt_organization_name\": null, \"cutoff2\": 30, \"cutoff\": 2}, {\"calitp_itp_id\": 334, \"trip_key\": 2457409081377305521, \"trip_id\": \"t_701153_b_486_tn_0\", \"shape_id\": \"p_2592\", \"route_id\": \"140\", \"service_hours\": 1.17, \"trip_first_departure_ts\": 54000, \"trip_last_arrival_ts\": 58200, \"departure_hour\": 15, \"time_of_day\": \"Midday\", \"p25\": 1.17, \"p50\": 1.17, \"p75\": 1.17, \"p50_trip\": 1, \"fastest_trip\": 0, \"car_duration_hours\": 0.74, \"competitive_route\": 1, \"bus_multiplier\": 1.58, \"bus_difference\": 25.8, \"num_trips\": 18, \"num_competitive\": 18, \"pct_trips_competitive\": 1.0, \"bus_difference_spread\": 0.0, \"route_group\": \"medium\", \"max_trip_hrs\": 1.17, \"max_trip_route_group\": 1.25, \"name\": \"Tehama County\", \"caltrans_district\": \"02 - Redding\", \"drmt_organization_name\": null, \"cutoff2\": 30, \"cutoff\": 2}, {\"calitp_itp_id\": 334, \"trip_key\": 5072486189778375039, \"trip_id\": \"t_701158_b_486_tn_0\", \"shape_id\": \"p_2590\", \"route_id\": \"140\", \"service_hours\": 1.17, \"trip_first_departure_ts\": 54000, \"trip_last_arrival_ts\": 58200, \"departure_hour\": 15, \"time_of_day\": \"Midday\", \"p25\": 1.17, \"p50\": 1.17, \"p75\": 1.17, \"p50_trip\": 1, \"fastest_trip\": 0, \"car_duration_hours\": 0.74, \"competitive_route\": 1, \"bus_multiplier\": 1.58, \"bus_difference\": 25.8, \"num_trips\": 18, \"num_competitive\": 18, \"pct_trips_competitive\": 1.0, \"bus_difference_spread\": 0.0, \"route_group\": \"medium\", \"max_trip_hrs\": 1.17, \"max_trip_route_group\": 1.25, \"name\": \"Tehama County\", \"caltrans_district\": \"02 - Redding\", \"drmt_organization_name\": null, \"cutoff2\": 30, \"cutoff\": 2}, {\"calitp_itp_id\": 334, \"trip_key\": 6478536152330907065, \"trip_id\": \"t_52898_b_486_tn_0\", \"shape_id\": \"p_2590\", \"route_id\": \"140\", \"service_hours\": 1.17, \"trip_first_departure_ts\": 39600, \"trip_last_arrival_ts\": 43800, \"departure_hour\": 11, \"time_of_day\": \"Midday\", \"p25\": 1.17, \"p50\": 1.17, \"p75\": 1.17, \"p50_trip\": 1, \"fastest_trip\": 0, \"car_duration_hours\": 0.74, \"competitive_route\": 1, \"bus_multiplier\": 1.58, \"bus_difference\": 25.8, \"num_trips\": 18, \"num_competitive\": 18, \"pct_trips_competitive\": 1.0, \"bus_difference_spread\": 0.0, \"route_group\": \"medium\", \"max_trip_hrs\": 1.17, \"max_trip_route_group\": 1.25, \"name\": \"Tehama County\", \"caltrans_district\": \"02 - Redding\", \"drmt_organization_name\": null, \"cutoff2\": 30, \"cutoff\": 2}, {\"calitp_itp_id\": 334, \"trip_key\": 2671956547340556282, \"trip_id\": \"t_701159_b_486_tn_0\", \"shape_id\": \"p_2590\", \"route_id\": \"140\", \"service_hours\": 1.17, \"trip_first_departure_ts\": 58500, \"trip_last_arrival_ts\": 62700, \"departure_hour\": 16, \"time_of_day\": \"Midday\", \"p25\": 1.17, \"p50\": 1.17, \"p75\": 1.17, \"p50_trip\": 1, \"fastest_trip\": 0, \"car_duration_hours\": 0.74, \"competitive_route\": 1, \"bus_multiplier\": 1.58, \"bus_difference\": 25.8, \"num_trips\": 18, \"num_competitive\": 18, \"pct_trips_competitive\": 1.0, \"bus_difference_spread\": 0.0, \"route_group\": \"medium\", \"max_trip_hrs\": 1.17, \"max_trip_route_group\": 1.25, \"name\": \"Tehama County\", \"caltrans_district\": \"02 - Redding\", \"drmt_organization_name\": null, \"cutoff2\": 30, \"cutoff\": 2}]}}, {\"mode\": \"vega-lite\"});\n",
       "</script>"
      ],
      "text/plain": [
       "alt.FacetChart(...)"
      ]
     },
     "metadata": {},
     "output_type": "display_data"
    },
    {
     "data": {
      "text/html": [
       "\n",
       "<div id=\"altair-viz-6c62ee5ca02e43e9945ea5602e002c1a\"></div>\n",
       "<script type=\"text/javascript\">\n",
       "  var VEGA_DEBUG = (typeof VEGA_DEBUG == \"undefined\") ? {} : VEGA_DEBUG;\n",
       "  (function(spec, embedOpt){\n",
       "    let outputDiv = document.currentScript.previousElementSibling;\n",
       "    if (outputDiv.id !== \"altair-viz-6c62ee5ca02e43e9945ea5602e002c1a\") {\n",
       "      outputDiv = document.getElementById(\"altair-viz-6c62ee5ca02e43e9945ea5602e002c1a\");\n",
       "    }\n",
       "    const paths = {\n",
       "      \"vega\": \"https://cdn.jsdelivr.net/npm//vega@5?noext\",\n",
       "      \"vega-lib\": \"https://cdn.jsdelivr.net/npm//vega-lib?noext\",\n",
       "      \"vega-lite\": \"https://cdn.jsdelivr.net/npm//vega-lite@4.17.0?noext\",\n",
       "      \"vega-embed\": \"https://cdn.jsdelivr.net/npm//vega-embed@6?noext\",\n",
       "    };\n",
       "\n",
       "    function maybeLoadScript(lib, version) {\n",
       "      var key = `${lib.replace(\"-\", \"\")}_version`;\n",
       "      return (VEGA_DEBUG[key] == version) ?\n",
       "        Promise.resolve(paths[lib]) :\n",
       "        new Promise(function(resolve, reject) {\n",
       "          var s = document.createElement('script');\n",
       "          document.getElementsByTagName(\"head\")[0].appendChild(s);\n",
       "          s.async = true;\n",
       "          s.onload = () => {\n",
       "            VEGA_DEBUG[key] = version;\n",
       "            return resolve(paths[lib]);\n",
       "          };\n",
       "          s.onerror = () => reject(`Error loading script: ${paths[lib]}`);\n",
       "          s.src = paths[lib];\n",
       "        });\n",
       "    }\n",
       "\n",
       "    function showError(err) {\n",
       "      outputDiv.innerHTML = `<div class=\"error\" style=\"color:red;\">${err}</div>`;\n",
       "      throw err;\n",
       "    }\n",
       "\n",
       "    function displayChart(vegaEmbed) {\n",
       "      vegaEmbed(outputDiv, spec, embedOpt)\n",
       "        .catch(err => showError(`Javascript Error: ${err.message}<br>This usually means there's a typo in your chart specification. See the javascript console for the full traceback.`));\n",
       "    }\n",
       "\n",
       "    if(typeof define === \"function\" && define.amd) {\n",
       "      requirejs.config({paths});\n",
       "      require([\"vega-embed\"], displayChart, err => showError(`Error loading script: ${err.message}`));\n",
       "    } else {\n",
       "      maybeLoadScript(\"vega\", \"5\")\n",
       "        .then(() => maybeLoadScript(\"vega-lite\", \"4.17.0\"))\n",
       "        .then(() => maybeLoadScript(\"vega-embed\", \"6\"))\n",
       "        .catch(showError)\n",
       "        .then(() => displayChart(vegaEmbed));\n",
       "    }\n",
       "  })({\"config\": {\"view\": {\"continuousWidth\": 400, \"continuousHeight\": 300, \"stroke\": null}, \"facet\": {\"spacing\": 0}}, \"data\": {\"name\": \"data-2d9062ce6f18fdde7e1ad2ddfd370f95\"}, \"facet\": {\"column\": {\"field\": \"route_id\", \"sort\": [\"140\"], \"title\": \"Route ID\", \"type\": \"nominal\"}}, \"spec\": {\"layer\": [{\"mark\": \"rule\", \"encoding\": {\"color\": {\"value\": \"black\"}, \"y\": {\"field\": \"cutoff\", \"type\": \"quantitative\"}}, \"selection\": {\"selector002\": {\"type\": \"interval\", \"bind\": \"scales\", \"encodings\": [\"x\", \"y\"]}}}, {\"mark\": {\"type\": \"rule\", \"strokeDash\": [3, 3]}, \"encoding\": {\"color\": {\"value\": \"#323434\"}, \"y\": {\"field\": \"cutoff2\", \"type\": \"quantitative\"}}}, {\"mark\": {\"type\": \"point\", \"opacity\": 0.65, \"size\": 12, \"strokeWidth\": 1.1}, \"encoding\": {\"color\": {\"field\": \"time_of_day\", \"scale\": {\"range\": [\"#136C97\", \"#E16B26\", \"#F6BF16\", \"#00896B\", \"#7790A3\", \"#5B559C\"]}, \"sort\": [\"AM Peak\", \"Midday\", \"PM Peak\", \"Owl Service\"], \"title\": \"Time of Day\", \"type\": \"nominal\"}, \"tooltip\": [{\"field\": \"route_id\", \"type\": \"nominal\"}, {\"field\": \"trip_id\", \"type\": \"nominal\"}, {\"field\": \"service_hours\", \"type\": \"quantitative\"}, {\"field\": \"car_duration_hours\", \"type\": \"quantitative\"}, {\"field\": \"bus_multiplier\", \"type\": \"quantitative\"}, {\"field\": \"bus_difference\", \"type\": \"quantitative\"}, {\"field\": \"num_trips\", \"type\": \"quantitative\"}, {\"field\": \"num_competitive\", \"type\": \"quantitative\"}, {\"field\": \"pct_trips_competitive\", \"type\": \"quantitative\"}, {\"field\": \"p25\", \"type\": \"quantitative\"}, {\"field\": \"p50\", \"type\": \"quantitative\"}, {\"field\": \"p75\", \"type\": \"quantitative\"}], \"x\": {\"axis\": {\"grid\": false, \"labels\": false, \"ticks\": true, \"values\": [0]}, \"field\": \"jitter\", \"scale\": {}, \"title\": null, \"type\": \"quantitative\"}, \"y\": {\"field\": \"bus_difference\", \"scale\": {\"domain\": [-5, 35.0]}, \"title\": \"Difference in Bus to Car Travel Time (min)\", \"type\": \"quantitative\"}}, \"transform\": [{\"calculate\": \"sqrt(-2*log(random()))*cos(2*PI*random())\", \"as\": \"jitter\"}], \"width\": 50}, {\"layer\": [{\"mark\": {\"type\": \"point\", \"opacity\": 0.6, \"size\": 20, \"strokeWidth\": 1.3}, \"encoding\": {\"color\": {\"value\": \"#323434\"}, \"y\": {\"field\": \"bus_difference\", \"type\": \"quantitative\"}}, \"transform\": [{\"filter\": \"(datum.p50_trip === 1)\"}]}, {\"mark\": {\"type\": \"text\", \"align\": \"center\", \"baseline\": \"middle\"}, \"encoding\": {\"color\": {\"value\": \"black\"}, \"text\": {\"field\": \"pct_trips_competitive\", \"format\": \".0%\", \"type\": \"quantitative\"}, \"tooltip\": [{\"field\": \"route_id\", \"type\": \"nominal\"}, {\"field\": \"trip_id\", \"type\": \"nominal\"}, {\"field\": \"service_hours\", \"type\": \"quantitative\"}, {\"field\": \"car_duration_hours\", \"type\": \"quantitative\"}, {\"field\": \"bus_multiplier\", \"type\": \"quantitative\"}, {\"field\": \"bus_difference\", \"type\": \"quantitative\"}, {\"field\": \"num_trips\", \"type\": \"quantitative\"}, {\"field\": \"num_competitive\", \"type\": \"quantitative\"}, {\"field\": \"pct_trips_competitive\", \"type\": \"quantitative\"}, {\"field\": \"p25\", \"type\": \"quantitative\"}, {\"field\": \"p50\", \"type\": \"quantitative\"}, {\"field\": \"p75\", \"type\": \"quantitative\"}], \"x\": {\"value\": 30}, \"y\": {\"value\": 15}}, \"transform\": [{\"calculate\": \"sqrt(-2*log(random()))*cos(2*PI*random())\", \"as\": \"jitter\"}, {\"filter\": \"(datum.fastest_trip === 1)\"}]}]}]}, \"resolve\": {\"scale\": {\"y\": \"shared\"}}, \"title\": \"Difference in Bus to Car Travel Time (min)\", \"$schema\": \"https://vega.github.io/schema/vega-lite/v4.17.0.json\", \"datasets\": {\"data-2d9062ce6f18fdde7e1ad2ddfd370f95\": [{\"calitp_itp_id\": 334, \"trip_key\": 3789012145727333403, \"trip_id\": \"t_43182_b_486_tn_0\", \"shape_id\": \"p_2590\", \"route_id\": \"140\", \"service_hours\": 1.17, \"trip_first_departure_ts\": 27000, \"trip_last_arrival_ts\": 31200, \"departure_hour\": 7, \"time_of_day\": \"AM Peak\", \"p25\": 1.17, \"p50\": 1.17, \"p75\": 1.17, \"p50_trip\": 1, \"fastest_trip\": 0, \"car_duration_hours\": 0.74, \"competitive_route\": 1, \"bus_multiplier\": 1.58, \"bus_difference\": 25.8, \"num_trips\": 18, \"num_competitive\": 18, \"pct_trips_competitive\": 1.0, \"bus_difference_spread\": 0.0, \"route_group\": \"medium\", \"max_trip_hrs\": 1.17, \"max_trip_route_group\": 1.25, \"name\": \"Tehama County\", \"caltrans_district\": \"02 - Redding\", \"drmt_organization_name\": null, \"cutoff2\": 30, \"cutoff\": 0}, {\"calitp_itp_id\": 334, \"trip_key\": 2077162622524927707, \"trip_id\": \"t_701156_b_486_tn_0\", \"shape_id\": \"p_2590\", \"route_id\": \"140\", \"service_hours\": 1.17, \"trip_first_departure_ts\": 43800, \"trip_last_arrival_ts\": 48000, \"departure_hour\": 12, \"time_of_day\": \"Midday\", \"p25\": 1.17, \"p50\": 1.17, \"p75\": 1.17, \"p50_trip\": 1, \"fastest_trip\": 0, \"car_duration_hours\": 0.74, \"competitive_route\": 1, \"bus_multiplier\": 1.58, \"bus_difference\": 25.8, \"num_trips\": 18, \"num_competitive\": 18, \"pct_trips_competitive\": 1.0, \"bus_difference_spread\": 0.0, \"route_group\": \"medium\", \"max_trip_hrs\": 1.17, \"max_trip_route_group\": 1.25, \"name\": \"Tehama County\", \"caltrans_district\": \"02 - Redding\", \"drmt_organization_name\": null, \"cutoff2\": 30, \"cutoff\": 0}, {\"calitp_itp_id\": 334, \"trip_key\": -2595454426414092766, \"trip_id\": \"t_41753_b_486_tn_0\", \"shape_id\": \"p_2590\", \"route_id\": \"140\", \"service_hours\": 1.17, \"trip_first_departure_ts\": 31200, \"trip_last_arrival_ts\": 35400, \"departure_hour\": 8, \"time_of_day\": \"AM Peak\", \"p25\": 1.17, \"p50\": 1.17, \"p75\": 1.17, \"p50_trip\": 1, \"fastest_trip\": 0, \"car_duration_hours\": 0.74, \"competitive_route\": 1, \"bus_multiplier\": 1.58, \"bus_difference\": 25.8, \"num_trips\": 18, \"num_competitive\": 18, \"pct_trips_competitive\": 1.0, \"bus_difference_spread\": 0.0, \"route_group\": \"medium\", \"max_trip_hrs\": 1.17, \"max_trip_route_group\": 1.25, \"name\": \"Tehama County\", \"caltrans_district\": \"02 - Redding\", \"drmt_organization_name\": null, \"cutoff2\": 30, \"cutoff\": 0}, {\"calitp_itp_id\": 334, \"trip_key\": 8123966852659409048, \"trip_id\": \"t_701155_b_486_tn_0\", \"shape_id\": \"p_2592\", \"route_id\": \"140\", \"service_hours\": 1.17, \"trip_first_departure_ts\": 63000, \"trip_last_arrival_ts\": 67200, \"departure_hour\": 17, \"time_of_day\": \"PM Peak\", \"p25\": 1.17, \"p50\": 1.17, \"p75\": 1.17, \"p50_trip\": 1, \"fastest_trip\": 1, \"car_duration_hours\": 0.74, \"competitive_route\": 1, \"bus_multiplier\": 1.58, \"bus_difference\": 25.8, \"num_trips\": 18, \"num_competitive\": 18, \"pct_trips_competitive\": 1.0, \"bus_difference_spread\": 0.0, \"route_group\": \"medium\", \"max_trip_hrs\": 1.17, \"max_trip_route_group\": 1.25, \"name\": \"Tehama County\", \"caltrans_district\": \"02 - Redding\", \"drmt_organization_name\": null, \"cutoff2\": 30, \"cutoff\": 0}, {\"calitp_itp_id\": 334, \"trip_key\": 7453382412752000049, \"trip_id\": \"t_701157_b_486_tn_0\", \"shape_id\": \"p_2590\", \"route_id\": \"140\", \"service_hours\": 1.17, \"trip_first_departure_ts\": 48000, \"trip_last_arrival_ts\": 52200, \"departure_hour\": 13, \"time_of_day\": \"Midday\", \"p25\": 1.17, \"p50\": 1.17, \"p75\": 1.17, \"p50_trip\": 1, \"fastest_trip\": 0, \"car_duration_hours\": 0.74, \"competitive_route\": 1, \"bus_multiplier\": 1.58, \"bus_difference\": 25.8, \"num_trips\": 18, \"num_competitive\": 18, \"pct_trips_competitive\": 1.0, \"bus_difference_spread\": 0.0, \"route_group\": \"medium\", \"max_trip_hrs\": 1.17, \"max_trip_route_group\": 1.25, \"name\": \"Tehama County\", \"caltrans_district\": \"02 - Redding\", \"drmt_organization_name\": null, \"cutoff2\": 30, \"cutoff\": 0}, {\"calitp_itp_id\": 334, \"trip_key\": 4922224310197648828, \"trip_id\": \"t_701148_b_486_tn_0\", \"shape_id\": \"p_2592\", \"route_id\": \"140\", \"service_hours\": 1.17, \"trip_first_departure_ts\": 30000, \"trip_last_arrival_ts\": 34200, \"departure_hour\": 8, \"time_of_day\": \"AM Peak\", \"p25\": 1.17, \"p50\": 1.17, \"p75\": 1.17, \"p50_trip\": 1, \"fastest_trip\": 0, \"car_duration_hours\": 0.74, \"competitive_route\": 1, \"bus_multiplier\": 1.58, \"bus_difference\": 25.8, \"num_trips\": 18, \"num_competitive\": 18, \"pct_trips_competitive\": 1.0, \"bus_difference_spread\": 0.0, \"route_group\": \"medium\", \"max_trip_hrs\": 1.17, \"max_trip_route_group\": 1.25, \"name\": \"Tehama County\", \"caltrans_district\": \"02 - Redding\", \"drmt_organization_name\": null, \"cutoff2\": 30, \"cutoff\": 0}, {\"calitp_itp_id\": 334, \"trip_key\": 6133689658608768548, \"trip_id\": \"t_311_b_486_tn_0\", \"shape_id\": \"p_2590\", \"route_id\": \"140\", \"service_hours\": 1.17, \"trip_first_departure_ts\": 22800, \"trip_last_arrival_ts\": 27000, \"departure_hour\": 6, \"time_of_day\": \"Owl Service\", \"p25\": 1.17, \"p50\": 1.17, \"p75\": 1.17, \"p50_trip\": 1, \"fastest_trip\": 0, \"car_duration_hours\": 0.74, \"competitive_route\": 1, \"bus_multiplier\": 1.58, \"bus_difference\": 25.8, \"num_trips\": 18, \"num_competitive\": 18, \"pct_trips_competitive\": 1.0, \"bus_difference_spread\": 0.0, \"route_group\": \"medium\", \"max_trip_hrs\": 1.17, \"max_trip_route_group\": 1.25, \"name\": \"Tehama County\", \"caltrans_district\": \"02 - Redding\", \"drmt_organization_name\": null, \"cutoff2\": 30, \"cutoff\": 0}, {\"calitp_itp_id\": 334, \"trip_key\": -1245088091465612859, \"trip_id\": \"t_701154_b_486_tn_0\", \"shape_id\": \"p_2592\", \"route_id\": \"140\", \"service_hours\": 1.17, \"trip_first_departure_ts\": 58500, \"trip_last_arrival_ts\": 62700, \"departure_hour\": 16, \"time_of_day\": \"Midday\", \"p25\": 1.17, \"p50\": 1.17, \"p75\": 1.17, \"p50_trip\": 1, \"fastest_trip\": 0, \"car_duration_hours\": 0.74, \"competitive_route\": 1, \"bus_multiplier\": 1.58, \"bus_difference\": 25.8, \"num_trips\": 18, \"num_competitive\": 18, \"pct_trips_competitive\": 1.0, \"bus_difference_spread\": 0.0, \"route_group\": \"medium\", \"max_trip_hrs\": 1.17, \"max_trip_route_group\": 1.25, \"name\": \"Tehama County\", \"caltrans_district\": \"02 - Redding\", \"drmt_organization_name\": null, \"cutoff2\": 30, \"cutoff\": 0}, {\"calitp_itp_id\": 334, \"trip_key\": 8350780050980250086, \"trip_id\": \"t_701147_b_486_tn_0\", \"shape_id\": \"p_2592\", \"route_id\": \"140\", \"service_hours\": 1.17, \"trip_first_departure_ts\": 25800, \"trip_last_arrival_ts\": 30000, \"departure_hour\": 7, \"time_of_day\": \"AM Peak\", \"p25\": 1.17, \"p50\": 1.17, \"p75\": 1.17, \"p50_trip\": 1, \"fastest_trip\": 0, \"car_duration_hours\": 0.74, \"competitive_route\": 1, \"bus_multiplier\": 1.58, \"bus_difference\": 25.8, \"num_trips\": 18, \"num_competitive\": 18, \"pct_trips_competitive\": 1.0, \"bus_difference_spread\": 0.0, \"route_group\": \"medium\", \"max_trip_hrs\": 1.17, \"max_trip_route_group\": 1.25, \"name\": \"Tehama County\", \"caltrans_district\": \"02 - Redding\", \"drmt_organization_name\": null, \"cutoff2\": 30, \"cutoff\": 0}, {\"calitp_itp_id\": 334, \"trip_key\": 5836499897819238192, \"trip_id\": \"t_65615_b_486_tn_0\", \"shape_id\": \"p_2590\", \"route_id\": \"140\", \"service_hours\": 1.17, \"trip_first_departure_ts\": 35400, \"trip_last_arrival_ts\": 39600, \"departure_hour\": 9, \"time_of_day\": \"AM Peak\", \"p25\": 1.17, \"p50\": 1.17, \"p75\": 1.17, \"p50_trip\": 1, \"fastest_trip\": 0, \"car_duration_hours\": 0.74, \"competitive_route\": 1, \"bus_multiplier\": 1.58, \"bus_difference\": 25.8, \"num_trips\": 18, \"num_competitive\": 18, \"pct_trips_competitive\": 1.0, \"bus_difference_spread\": 0.0, \"route_group\": \"medium\", \"max_trip_hrs\": 1.17, \"max_trip_route_group\": 1.25, \"name\": \"Tehama County\", \"caltrans_district\": \"02 - Redding\", \"drmt_organization_name\": null, \"cutoff2\": 30, \"cutoff\": 0}, {\"calitp_itp_id\": 334, \"trip_key\": 1211498270008307736, \"trip_id\": \"t_701149_b_486_tn_0\", \"shape_id\": \"p_2592\", \"route_id\": \"140\", \"service_hours\": 1.17, \"trip_first_departure_ts\": 34200, \"trip_last_arrival_ts\": 38400, \"departure_hour\": 9, \"time_of_day\": \"AM Peak\", \"p25\": 1.17, \"p50\": 1.17, \"p75\": 1.17, \"p50_trip\": 1, \"fastest_trip\": 0, \"car_duration_hours\": 0.74, \"competitive_route\": 1, \"bus_multiplier\": 1.58, \"bus_difference\": 25.8, \"num_trips\": 18, \"num_competitive\": 18, \"pct_trips_competitive\": 1.0, \"bus_difference_spread\": 0.0, \"route_group\": \"medium\", \"max_trip_hrs\": 1.17, \"max_trip_route_group\": 1.25, \"name\": \"Tehama County\", \"caltrans_district\": \"02 - Redding\", \"drmt_organization_name\": null, \"cutoff2\": 30, \"cutoff\": 0}, {\"calitp_itp_id\": 334, \"trip_key\": 5364955651546800419, \"trip_id\": \"t_701151_b_486_tn_0\", \"shape_id\": \"p_2592\", \"route_id\": \"140\", \"service_hours\": 1.17, \"trip_first_departure_ts\": 42600, \"trip_last_arrival_ts\": 46800, \"departure_hour\": 11, \"time_of_day\": \"Midday\", \"p25\": 1.17, \"p50\": 1.17, \"p75\": 1.17, \"p50_trip\": 1, \"fastest_trip\": 0, \"car_duration_hours\": 0.74, \"competitive_route\": 1, \"bus_multiplier\": 1.58, \"bus_difference\": 25.8, \"num_trips\": 18, \"num_competitive\": 18, \"pct_trips_competitive\": 1.0, \"bus_difference_spread\": 0.0, \"route_group\": \"medium\", \"max_trip_hrs\": 1.17, \"max_trip_route_group\": 1.25, \"name\": \"Tehama County\", \"caltrans_district\": \"02 - Redding\", \"drmt_organization_name\": null, \"cutoff2\": 30, \"cutoff\": 0}, {\"calitp_itp_id\": 334, \"trip_key\": 7883315965957598769, \"trip_id\": \"t_701152_b_486_tn_0\", \"shape_id\": \"p_2592\", \"route_id\": \"140\", \"service_hours\": 1.17, \"trip_first_departure_ts\": 46800, \"trip_last_arrival_ts\": 51000, \"departure_hour\": 13, \"time_of_day\": \"Midday\", \"p25\": 1.17, \"p50\": 1.17, \"p75\": 1.17, \"p50_trip\": 1, \"fastest_trip\": 0, \"car_duration_hours\": 0.74, \"competitive_route\": 1, \"bus_multiplier\": 1.58, \"bus_difference\": 25.8, \"num_trips\": 18, \"num_competitive\": 18, \"pct_trips_competitive\": 1.0, \"bus_difference_spread\": 0.0, \"route_group\": \"medium\", \"max_trip_hrs\": 1.17, \"max_trip_route_group\": 1.25, \"name\": \"Tehama County\", \"caltrans_district\": \"02 - Redding\", \"drmt_organization_name\": null, \"cutoff2\": 30, \"cutoff\": 0}, {\"calitp_itp_id\": 334, \"trip_key\": 6411260912464548517, \"trip_id\": \"t_701150_b_486_tn_0\", \"shape_id\": \"p_2592\", \"route_id\": \"140\", \"service_hours\": 1.17, \"trip_first_departure_ts\": 38400, \"trip_last_arrival_ts\": 42600, \"departure_hour\": 10, \"time_of_day\": \"Midday\", \"p25\": 1.17, \"p50\": 1.17, \"p75\": 1.17, \"p50_trip\": 1, \"fastest_trip\": 0, \"car_duration_hours\": 0.74, \"competitive_route\": 1, \"bus_multiplier\": 1.58, \"bus_difference\": 25.8, \"num_trips\": 18, \"num_competitive\": 18, \"pct_trips_competitive\": 1.0, \"bus_difference_spread\": 0.0, \"route_group\": \"medium\", \"max_trip_hrs\": 1.17, \"max_trip_route_group\": 1.25, \"name\": \"Tehama County\", \"caltrans_district\": \"02 - Redding\", \"drmt_organization_name\": null, \"cutoff2\": 30, \"cutoff\": 0}, {\"calitp_itp_id\": 334, \"trip_key\": 2457409081377305521, \"trip_id\": \"t_701153_b_486_tn_0\", \"shape_id\": \"p_2592\", \"route_id\": \"140\", \"service_hours\": 1.17, \"trip_first_departure_ts\": 54000, \"trip_last_arrival_ts\": 58200, \"departure_hour\": 15, \"time_of_day\": \"Midday\", \"p25\": 1.17, \"p50\": 1.17, \"p75\": 1.17, \"p50_trip\": 1, \"fastest_trip\": 0, \"car_duration_hours\": 0.74, \"competitive_route\": 1, \"bus_multiplier\": 1.58, \"bus_difference\": 25.8, \"num_trips\": 18, \"num_competitive\": 18, \"pct_trips_competitive\": 1.0, \"bus_difference_spread\": 0.0, \"route_group\": \"medium\", \"max_trip_hrs\": 1.17, \"max_trip_route_group\": 1.25, \"name\": \"Tehama County\", \"caltrans_district\": \"02 - Redding\", \"drmt_organization_name\": null, \"cutoff2\": 30, \"cutoff\": 0}, {\"calitp_itp_id\": 334, \"trip_key\": 5072486189778375039, \"trip_id\": \"t_701158_b_486_tn_0\", \"shape_id\": \"p_2590\", \"route_id\": \"140\", \"service_hours\": 1.17, \"trip_first_departure_ts\": 54000, \"trip_last_arrival_ts\": 58200, \"departure_hour\": 15, \"time_of_day\": \"Midday\", \"p25\": 1.17, \"p50\": 1.17, \"p75\": 1.17, \"p50_trip\": 1, \"fastest_trip\": 0, \"car_duration_hours\": 0.74, \"competitive_route\": 1, \"bus_multiplier\": 1.58, \"bus_difference\": 25.8, \"num_trips\": 18, \"num_competitive\": 18, \"pct_trips_competitive\": 1.0, \"bus_difference_spread\": 0.0, \"route_group\": \"medium\", \"max_trip_hrs\": 1.17, \"max_trip_route_group\": 1.25, \"name\": \"Tehama County\", \"caltrans_district\": \"02 - Redding\", \"drmt_organization_name\": null, \"cutoff2\": 30, \"cutoff\": 0}, {\"calitp_itp_id\": 334, \"trip_key\": 6478536152330907065, \"trip_id\": \"t_52898_b_486_tn_0\", \"shape_id\": \"p_2590\", \"route_id\": \"140\", \"service_hours\": 1.17, \"trip_first_departure_ts\": 39600, \"trip_last_arrival_ts\": 43800, \"departure_hour\": 11, \"time_of_day\": \"Midday\", \"p25\": 1.17, \"p50\": 1.17, \"p75\": 1.17, \"p50_trip\": 1, \"fastest_trip\": 0, \"car_duration_hours\": 0.74, \"competitive_route\": 1, \"bus_multiplier\": 1.58, \"bus_difference\": 25.8, \"num_trips\": 18, \"num_competitive\": 18, \"pct_trips_competitive\": 1.0, \"bus_difference_spread\": 0.0, \"route_group\": \"medium\", \"max_trip_hrs\": 1.17, \"max_trip_route_group\": 1.25, \"name\": \"Tehama County\", \"caltrans_district\": \"02 - Redding\", \"drmt_organization_name\": null, \"cutoff2\": 30, \"cutoff\": 0}, {\"calitp_itp_id\": 334, \"trip_key\": 2671956547340556282, \"trip_id\": \"t_701159_b_486_tn_0\", \"shape_id\": \"p_2590\", \"route_id\": \"140\", \"service_hours\": 1.17, \"trip_first_departure_ts\": 58500, \"trip_last_arrival_ts\": 62700, \"departure_hour\": 16, \"time_of_day\": \"Midday\", \"p25\": 1.17, \"p50\": 1.17, \"p75\": 1.17, \"p50_trip\": 1, \"fastest_trip\": 0, \"car_duration_hours\": 0.74, \"competitive_route\": 1, \"bus_multiplier\": 1.58, \"bus_difference\": 25.8, \"num_trips\": 18, \"num_competitive\": 18, \"pct_trips_competitive\": 1.0, \"bus_difference_spread\": 0.0, \"route_group\": \"medium\", \"max_trip_hrs\": 1.17, \"max_trip_route_group\": 1.25, \"name\": \"Tehama County\", \"caltrans_district\": \"02 - Redding\", \"drmt_organization_name\": null, \"cutoff2\": 30, \"cutoff\": 0}]}}, {\"mode\": \"vega-lite\"});\n",
       "</script>"
      ],
      "text/plain": [
       "alt.FacetChart(...)"
      ]
     },
     "metadata": {},
     "output_type": "display_data"
    }
   ],
   "source": [
    "route_group = \"medium\"\n",
    "try:\n",
    "    display_charts_for_route_group(df, route_group)\n",
    "except:\n",
    "    print(\"No routes meet this criteria.\")"
   ]
  },
  {
   "cell_type": "markdown",
   "id": "124b76d0-886c-4d03-92ac-f1bda3cda182",
   "metadata": {
    "papermill": {
     "duration": 0.019479,
     "end_time": "2022-05-09T16:32:13.187713",
     "exception": false,
     "start_time": "2022-05-09T16:32:13.168234",
     "status": "completed"
    },
    "tags": []
   },
   "source": [
    "### Long Routes (> 1.5 hrs)"
   ]
  },
  {
   "cell_type": "code",
   "execution_count": 15,
   "id": "ddc81b19-4c45-4c81-8b7a-5e0f394aa7a3",
   "metadata": {
    "execution": {
     "iopub.execute_input": "2022-05-09T16:32:13.247914Z",
     "iopub.status.busy": "2022-05-09T16:32:13.246521Z",
     "iopub.status.idle": "2022-05-09T16:32:13.261850Z",
     "shell.execute_reply": "2022-05-09T16:32:13.260360Z"
    },
    "jupyter": {
     "source_hidden": true
    },
    "papermill": {
     "duration": 0.047804,
     "end_time": "2022-05-09T16:32:13.265324",
     "exception": false,
     "start_time": "2022-05-09T16:32:13.217520",
     "status": "completed"
    },
    "tags": [
     "remove_input"
    ]
   },
   "outputs": [
    {
     "name": "stdout",
     "output_type": "stream",
     "text": [
      "No routes meet this criteria.\n"
     ]
    }
   ],
   "source": [
    "route_group = \"long\"\n",
    "try:\n",
    "    display_charts_for_route_group(df, route_group)\n",
    "except:\n",
    "    print(\"No routes meet this criteria.\")"
   ]
  },
  {
   "cell_type": "markdown",
   "id": "ace75b5f-0442-4fbe-aebd-6c3a13ae13a7",
   "metadata": {
    "papermill": {
     "duration": 0.031239,
     "end_time": "2022-05-09T16:32:13.322945",
     "exception": false,
     "start_time": "2022-05-09T16:32:13.291706",
     "status": "completed"
    },
    "tags": []
   },
   "source": [
    "### GTFS Real-Time Speedmaps"
   ]
  },
  {
   "cell_type": "code",
   "execution_count": 16,
   "id": "3f06fdc4-d5a8-41f5-9b72-ed7e8a2dd2fc",
   "metadata": {
    "execution": {
     "iopub.execute_input": "2022-05-09T16:32:13.361837Z",
     "iopub.status.busy": "2022-05-09T16:32:13.361462Z",
     "iopub.status.idle": "2022-05-09T16:32:13.422599Z",
     "shell.execute_reply": "2022-05-09T16:32:13.421345Z"
    },
    "jupyter": {
     "source_hidden": true
    },
    "papermill": {
     "duration": 0.084315,
     "end_time": "2022-05-09T16:32:13.425304",
     "exception": false,
     "start_time": "2022-05-09T16:32:13.340989",
     "status": "completed"
    },
    "tags": [
     "remove_input"
    ]
   },
   "outputs": [
    {
     "data": {
      "text/html": [
       "No GTFS RT data available."
      ],
      "text/plain": [
       "<IPython.core.display.HTML object>"
      ]
     },
     "metadata": {},
     "output_type": "display_data"
    }
   ],
   "source": [
    "PORTFOLIO_SITE_YAML = \"../portfolio/analyses.yml\"\n",
    "\n",
    "# Grab list of ITP IDs with GTFS RT speedmaps\n",
    "rt_itp_id = deploy_portfolio_yaml.check_if_rt_data_available(PORTFOLIO_SITE_YAML)\n",
    "\n",
    "# Construct the URL \n",
    "RT_URL = (\"https://analysis.calitp.org/rt/\"\n",
    "          f\"district_{district_number}-{district_name}/\"\n",
    "          f\"speedmaps__itp_id_{itp_id}.html\"\n",
    "         ) \n",
    "\n",
    "if itp_id in rt_itp_id:\n",
    "    display(HTML('<a href=RT_URL>GTFS RT speedmaps here.</a>'))\n",
    "else:\n",
    "    display(HTML(\"No GTFS RT data available.\"))"
   ]
  },
  {
   "cell_type": "code",
   "execution_count": null,
   "id": "4664fe87-4e5e-4414-9602-a5c9c2a14072",
   "metadata": {
    "jupyter": {
     "source_hidden": true
    },
    "papermill": {
     "duration": 0.020136,
     "end_time": "2022-05-09T16:32:13.464375",
     "exception": false,
     "start_time": "2022-05-09T16:32:13.444239",
     "status": "completed"
    },
    "tags": [
     "remove_input"
    ]
   },
   "outputs": [],
   "source": []
  }
 ],
 "metadata": {
  "kernelspec": {
   "display_name": "Python 3 (ipykernel)",
   "language": "python",
   "name": "python3"
  },
  "language_info": {
   "codemirror_mode": {
    "name": "ipython",
    "version": 3
   },
   "file_extension": ".py",
   "mimetype": "text/x-python",
   "name": "python",
   "nbconvert_exporter": "python",
   "pygments_lexer": "ipython3",
   "version": "3.9.12"
  },
  "papermill": {
   "default_parameters": {},
   "duration": 28.077114,
   "end_time": "2022-05-09T16:32:15.915018",
   "environment_variables": {},
   "exception": null,
   "input_path": "bus_service_increase/competitive-parallel-routes.ipynb",
   "output_path": "portfolio/parallel_corridors/district_02-redding/competitive-parallel-routes__itp_id_334.ipynb",
   "parameters": {
    "district": "02 - Redding",
    "itp_id": 334
   },
   "start_time": "2022-05-09T16:31:47.837904",
   "version": "2.3.4"
  }
 },
 "nbformat": 4,
 "nbformat_minor": 5
}