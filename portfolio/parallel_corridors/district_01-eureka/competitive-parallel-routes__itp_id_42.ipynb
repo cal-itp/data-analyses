{
 "cells": [
  {
   "cell_type": "code",
   "execution_count": 1,
   "id": "95d00857-6a20-4529-a519-2cc7182928a9",
   "metadata": {
    "execution": {
     "iopub.execute_input": "2022-05-09T19:26:47.227585Z",
     "iopub.status.busy": "2022-05-09T19:26:47.226819Z",
     "iopub.status.idle": "2022-05-09T19:26:56.928444Z",
     "shell.execute_reply": "2022-05-09T19:26:56.927222Z"
    },
    "jupyter": {
     "source_hidden": true
    },
    "papermill": {
     "duration": 9.723005,
     "end_time": "2022-05-09T19:26:56.931850",
     "exception": false,
     "start_time": "2022-05-09T19:26:47.208845",
     "status": "completed"
    },
    "tags": [
     "remove_input"
    ]
   },
   "outputs": [],
   "source": [
    "%%capture\n",
    "import warnings\n",
    "warnings.filterwarnings('ignore')\n",
    "\n",
    "import altair as alt\n",
    "import calitp.magics\n",
    "import geopandas as gpd\n",
    "import intake\n",
    "import pandas as pd\n",
    "\n",
    "from IPython.display import display, Markdown, HTML\n",
    "\n",
    "import parallel_corridors_utils\n",
    "from shared_utils import styleguide\n",
    "import deploy_portfolio_yaml\n",
    "\n",
    "catalog = intake.open_catalog(\"./*.yml\")\n",
    "alt.renderers.enable(\"html\")"
   ]
  },
  {
   "cell_type": "code",
   "execution_count": 2,
   "id": "8af2a0c1-f3da-408d-9bea-11d9fbf8695d",
   "metadata": {
    "execution": {
     "iopub.execute_input": "2022-05-09T19:26:56.959292Z",
     "iopub.status.busy": "2022-05-09T19:26:56.958920Z",
     "iopub.status.idle": "2022-05-09T19:26:56.963723Z",
     "shell.execute_reply": "2022-05-09T19:26:56.962675Z"
    },
    "jupyter": {
     "source_hidden": true
    },
    "papermill": {
     "duration": 0.021594,
     "end_time": "2022-05-09T19:26:56.966337",
     "exception": false,
     "start_time": "2022-05-09T19:26:56.944743",
     "status": "completed"
    },
    "tags": [
     "parameters",
     "remove_input"
    ]
   },
   "outputs": [],
   "source": [
    "# parameters cell\n",
    "itp_id = 182"
   ]
  },
  {
   "cell_type": "code",
   "execution_count": 3,
   "id": "c0976157",
   "metadata": {
    "execution": {
     "iopub.execute_input": "2022-05-09T19:26:57.001835Z",
     "iopub.status.busy": "2022-05-09T19:26:56.992291Z",
     "iopub.status.idle": "2022-05-09T19:26:57.009447Z",
     "shell.execute_reply": "2022-05-09T19:26:57.008312Z"
    },
    "jupyter": {
     "source_hidden": true
    },
    "papermill": {
     "duration": 0.034262,
     "end_time": "2022-05-09T19:26:57.012648",
     "exception": false,
     "start_time": "2022-05-09T19:26:56.978386",
     "status": "completed"
    },
    "tags": [
     "injected-parameters",
     "remove_input"
    ]
   },
   "outputs": [],
   "source": [
    "# Parameters\n",
    "district = \"01 - Eureka\"\n",
    "itp_id = 42\n"
   ]
  },
  {
   "cell_type": "code",
   "execution_count": 4,
   "id": "9582aaf4-79ff-412a-b248-8d8d693ebd4f",
   "metadata": {
    "execution": {
     "iopub.execute_input": "2022-05-09T19:26:57.065946Z",
     "iopub.status.busy": "2022-05-09T19:26:57.065509Z",
     "iopub.status.idle": "2022-05-09T19:26:58.518192Z",
     "shell.execute_reply": "2022-05-09T19:26:58.516777Z"
    },
    "jupyter": {
     "source_hidden": true
    },
    "papermill": {
     "duration": 1.484131,
     "end_time": "2022-05-09T19:26:58.521352",
     "exception": false,
     "start_time": "2022-05-09T19:26:57.037221",
     "status": "completed"
    },
    "tags": [
     "remove_input"
    ]
   },
   "outputs": [],
   "source": [
    "df = catalog.competitive_route_variability.read()\n",
    "\n",
    "df = (df[(df.calitp_itp_id == itp_id) & \n",
    "         (df.route_group.notna())]\n",
    "      .reset_index(drop=True)\n",
    "     )\n",
    "\n",
    "\n",
    "if itp_id == 182:\n",
    "    df = df.assign(\n",
    "        route_id = df.route_id.str.replace('-13153', '').astype(int)\n",
    "    )"
   ]
  },
  {
   "cell_type": "code",
   "execution_count": 5,
   "id": "33ac4b06-f647-4dce-a625-8f2c1b37cc60",
   "metadata": {
    "execution": {
     "iopub.execute_input": "2022-05-09T19:26:58.549671Z",
     "iopub.status.busy": "2022-05-09T19:26:58.549123Z",
     "iopub.status.idle": "2022-05-09T19:26:58.562117Z",
     "shell.execute_reply": "2022-05-09T19:26:58.561281Z"
    },
    "jupyter": {
     "source_hidden": true
    },
    "papermill": {
     "duration": 0.030428,
     "end_time": "2022-05-09T19:26:58.564254",
     "exception": false,
     "start_time": "2022-05-09T19:26:58.533826",
     "status": "completed"
    },
    "tags": [
     "remove_input"
    ]
   },
   "outputs": [],
   "source": [
    "%%capture_parameters\n",
    "operator_name = df.name.iloc[0]\n",
    "district_number = f\"{df.caltrans_district.iloc[0].split('-')[0].strip()}\"\n",
    "district_name = f\"{df.caltrans_district.iloc[0].split('-')[1].strip().lower().replace(' ', '-')}\"\n",
    "\n",
    "itp_id, operator_name, district_number, district_name"
   ]
  },
  {
   "cell_type": "markdown",
   "id": "65bc6f5c-8348-42ee-b2dd-52057c406852",
   "metadata": {
    "papermill": {
     "duration": 0.013782,
     "end_time": "2022-05-09T19:26:58.592488",
     "exception": false,
     "start_time": "2022-05-09T19:26:58.578706",
     "status": "completed"
    },
    "tags": []
   },
   "source": [
    "# Blue Lake Rancheria (ITP ID: 42)"
   ]
  },
  {
   "cell_type": "code",
   "execution_count": 6,
   "id": "a689c1ab-2c6c-4831-8d64-897f5986f571",
   "metadata": {
    "execution": {
     "iopub.execute_input": "2022-05-09T19:26:58.626726Z",
     "iopub.status.busy": "2022-05-09T19:26:58.625886Z",
     "iopub.status.idle": "2022-05-09T19:26:58.634163Z",
     "shell.execute_reply": "2022-05-09T19:26:58.633290Z"
    },
    "jupyter": {
     "source_hidden": true
    },
    "papermill": {
     "duration": 0.025831,
     "end_time": "2022-05-09T19:26:58.636331",
     "exception": false,
     "start_time": "2022-05-09T19:26:58.610500",
     "status": "completed"
    },
    "tags": [
     "remove_input"
    ]
   },
   "outputs": [
    {
     "data": {
      "text/html": [
       "<h1>Competitive & Parallel Routes</h1>"
      ],
      "text/plain": [
       "<IPython.core.display.HTML object>"
      ]
     },
     "metadata": {},
     "output_type": "display_data"
    }
   ],
   "source": [
    "display(HTML(\"<h1>Competitive & Parallel Routes</h1>\")) "
   ]
  },
  {
   "cell_type": "code",
   "execution_count": 7,
   "id": "2cb4d8d5-4760-40e4-85b1-cb833d8bb648",
   "metadata": {
    "execution": {
     "iopub.execute_input": "2022-05-09T19:26:58.670248Z",
     "iopub.status.busy": "2022-05-09T19:26:58.669203Z",
     "iopub.status.idle": "2022-05-09T19:27:10.445027Z",
     "shell.execute_reply": "2022-05-09T19:27:10.444133Z"
    },
    "jupyter": {
     "source_hidden": true
    },
    "papermill": {
     "duration": 11.795616,
     "end_time": "2022-05-09T19:27:10.447869",
     "exception": false,
     "start_time": "2022-05-09T19:26:58.652253",
     "status": "completed"
    },
    "tags": [
     "remove_input"
    ]
   },
   "outputs": [],
   "source": [
    "# Grab parameters for narrative text - clean up formatting here \n",
    "district = df.caltrans_district.iloc[0]\n",
    "formatted_date = pd.to_datetime(parallel_corridors_utils.SELECTED_DATE).strftime('%m-%d-%Y')\n",
    "\n",
    "PCT_COMPETITIVE_THRESHOLD = 0.75\n",
    "\n",
    "stats = parallel_corridors_utils.operator_parallel_competitive_stats(\n",
    "    itp_id, PCT_COMPETITIVE_THRESHOLD)\n",
    "\n",
    "pct_parallel = round(stats['parallel_routes'] / stats['num_routes'] * 100,1 )\n",
    "pct_competitive =  round(stats['competitive_routes'] / stats['num_routes'] * 100,1 )"
   ]
  },
  {
   "cell_type": "markdown",
   "id": "ab667928-5274-4490-82d9-4c39293209a4",
   "metadata": {
    "papermill": {
     "duration": 0.014842,
     "end_time": "2022-05-09T19:27:10.478373",
     "exception": false,
     "start_time": "2022-05-09T19:27:10.463531",
     "status": "completed"
    },
    "tags": []
   },
   "source": [
    "## Quick Stats"
   ]
  },
  {
   "cell_type": "code",
   "execution_count": 8,
   "id": "0416509d-dc62-4165-b62e-64f8b26e8b8e",
   "metadata": {
    "execution": {
     "iopub.execute_input": "2022-05-09T19:27:10.509334Z",
     "iopub.status.busy": "2022-05-09T19:27:10.508324Z",
     "iopub.status.idle": "2022-05-09T19:27:10.517429Z",
     "shell.execute_reply": "2022-05-09T19:27:10.516494Z"
    },
    "jupyter": {
     "source_hidden": true
    },
    "papermill": {
     "duration": 0.027045,
     "end_time": "2022-05-09T19:27:10.519674",
     "exception": false,
     "start_time": "2022-05-09T19:27:10.492629",
     "status": "completed"
    },
    "tags": [
     "remove_input"
    ]
   },
   "outputs": [
    {
     "data": {
      "text/markdown": [
       "**Bus routes in service**: 10 <br>**Parallel routes** to State Highway Network (SHN): 7 routes (70.0%)<br>**Competitive routes** against car travel: 3 routes (30.0%)"
      ],
      "text/plain": [
       "<IPython.core.display.Markdown object>"
      ]
     },
     "metadata": {},
     "output_type": "display_data"
    }
   ],
   "source": [
    "display(\n",
    "    Markdown(\n",
    "        f\"**Bus routes in service**: {stats['num_routes']} \"\n",
    "        \"<br>**Parallel routes** to State Highway Network (SHN): \"\n",
    "        f\"{stats['parallel_routes']} routes ({pct_parallel}%)\"\n",
    "        f\"<br>**Competitive routes** against car travel: {stats['competitive_routes']} routes ({pct_competitive}%)\"\n",
    "    )\n",
    ")"
   ]
  },
  {
   "cell_type": "code",
   "execution_count": 9,
   "id": "f9d6ab58-f0ee-460c-b6de-657490e1f386",
   "metadata": {
    "execution": {
     "iopub.execute_input": "2022-05-09T19:27:10.558093Z",
     "iopub.status.busy": "2022-05-09T19:27:10.557645Z",
     "iopub.status.idle": "2022-05-09T19:27:10.569486Z",
     "shell.execute_reply": "2022-05-09T19:27:10.568278Z"
    },
    "jupyter": {
     "source_hidden": true
    },
    "papermill": {
     "duration": 0.036668,
     "end_time": "2022-05-09T19:27:10.571794",
     "exception": false,
     "start_time": "2022-05-09T19:27:10.535126",
     "status": "completed"
    },
    "tags": [
     "remove_input"
    ]
   },
   "outputs": [],
   "source": [
    "def set_yaxis_range(df, y_col):\n",
    "    Y_MIN = df[y_col].min()\n",
    "    Y_MAX = df[y_col].max()\n",
    "    \n",
    "    return Y_MIN, Y_MAX\n",
    "\n",
    "# Rather than set it according to the operator, which can vary,\n",
    "# just use set thresholds for each group\n",
    "diff_cutoffs = parallel_corridors_utils.diff_cutoffs\n",
    "\n",
    "PCT_TRIPS_BELOW_CUTOFF = 0.25\n",
    "\n",
    "def top15_routes(df, route_group):\n",
    "    df2 = (df[df.route_group==route_group])\n",
    "    # Set a cut-off to enable sorting, where most of the trips are \n",
    "    # below a certain time difference cut-off, \n",
    "    # grab top 15 routes where majority of trips are below that cut-off \n",
    "\n",
    "    route_cols = [\"calitp_itp_id\", \"route_id\"]\n",
    "\n",
    "    df2 = df2.assign(\n",
    "        below_cutoff = df2.apply(lambda x: 1 if x.bus_difference <= diff_cutoffs[route_group] \n",
    "                                 else 0, axis=1),\n",
    "        num_trips = df2.groupby(route_cols)[\"trip_id\"].transform(\"count\")\n",
    "    )\n",
    "\n",
    "    df2[\"below_cutoff\"] = df2.groupby(route_cols)[\"below_cutoff\"].transform(\"sum\")\n",
    "    df2[\"pct_below_cutoff\"] = df2.below_cutoff.divide(df2.num_trips)\n",
    "\n",
    "    # At least half the trips are below that cut-off\n",
    "    # but show 15 max, otherwise, show less, since these won't be as interesting to operators\n",
    "    df3 = (df2[df2.pct_below_cutoff >= PCT_TRIPS_BELOW_CUTOFF]\n",
    "           .sort_values([\"calitp_itp_id\", \"below_cutoff\", \n",
    "                         \"pct_below_cutoff\", \"route_id\"],\n",
    "                        ascending = [True, False, False, True]\n",
    "                       )\n",
    "           .drop_duplicates(subset=[\"calitp_itp_id\", \"route_id\"])\n",
    "          ).head(15)\n",
    "    \n",
    "    return list(df3.route_id)"
   ]
  },
  {
   "cell_type": "code",
   "execution_count": 10,
   "id": "cf36d559-3349-4144-8086-8ac9ce937a5a",
   "metadata": {
    "execution": {
     "iopub.execute_input": "2022-05-09T19:27:10.628534Z",
     "iopub.status.busy": "2022-05-09T19:27:10.628190Z",
     "iopub.status.idle": "2022-05-09T19:27:10.634894Z",
     "shell.execute_reply": "2022-05-09T19:27:10.634230Z"
    },
    "jupyter": {
     "source_hidden": true
    },
    "papermill": {
     "duration": 0.026951,
     "end_time": "2022-05-09T19:27:10.636754",
     "exception": false,
     "start_time": "2022-05-09T19:27:10.609803",
     "status": "completed"
    },
    "tags": [
     "remove_input"
    ]
   },
   "outputs": [],
   "source": [
    "def caption_with_cutoff(cutoff):\n",
    "    sentence = (\n",
    "        f\"<br>These are routes that have **at least {int(PCT_TRIPS_BELOW_CUTOFF*100)}% \"\n",
    "        \"of their trips take no more than an \"\n",
    "        f\"additional {cutoff} min** compared to a car \"\n",
    "        \"(up to 15 routes) are shown.\"\n",
    "        \"<br>Within each route group, routes are sorted in descending order \"\n",
    "        \"by % competitive trips and # trips below the additional time cut-off.\"\n",
    "    )\n",
    "    return sentence\n",
    "\n",
    "CAPTIONS_DICT = {\n",
    "    \"short\": caption_with_cutoff(diff_cutoffs['short']),\n",
    "    \"medium\": caption_with_cutoff(diff_cutoffs['medium']),\n",
    "    \"long\": caption_with_cutoff(diff_cutoffs['long']),\n",
    "}"
   ]
  },
  {
   "cell_type": "code",
   "execution_count": 11,
   "id": "e4306d58-6944-47e9-afef-5d5b524c751f",
   "metadata": {
    "execution": {
     "iopub.execute_input": "2022-05-09T19:27:10.667464Z",
     "iopub.status.busy": "2022-05-09T19:27:10.666896Z",
     "iopub.status.idle": "2022-05-09T19:27:10.675731Z",
     "shell.execute_reply": "2022-05-09T19:27:10.674777Z"
    },
    "jupyter": {
     "source_hidden": true
    },
    "papermill": {
     "duration": 0.027573,
     "end_time": "2022-05-09T19:27:10.678196",
     "exception": false,
     "start_time": "2022-05-09T19:27:10.650623",
     "status": "completed"
    },
    "tags": [
     "remove_input"
    ]
   },
   "outputs": [],
   "source": [
    "def setup_charts(df, PCT_COMPETITIVE_THRESHOLD, route_group):\n",
    "    # Set up df for charting (cut-off at some threshold to show most competitive routes)\n",
    "    plot_me = (df[df.pct_trips_competitive > PCT_COMPETITIVE_THRESHOLD]\n",
    "           .drop(columns = \"geometry\")\n",
    "    )\n",
    "    \n",
    "    y_col1 = \"bus_multiplier\"\n",
    "    Y_MIN1, Y_MAX1 = set_yaxis_range(plot_me, y_col1)\n",
    "\n",
    "    y_col2 = \"bus_difference\"\n",
    "    Y_MIN2, Y_MAX2 = set_yaxis_range(plot_me, y_col2)\n",
    "     \n",
    "    subset_routes = top15_routes(plot_me, route_group)\n",
    "    \n",
    "    multiplier_chart = parallel_corridors_utils.make_stripplot(\n",
    "        plot_me[plot_me.route_id.isin(subset_routes)], \n",
    "        y_col1, Y_MIN = Y_MIN1, Y_MAX = Y_MAX1\n",
    "    )\n",
    "    \n",
    "    difference_chart = parallel_corridors_utils.make_stripplot(\n",
    "        plot_me[plot_me.route_id.isin(subset_routes)], \n",
    "        y_col2, Y_MIN = Y_MIN2, Y_MAX = Y_MAX2\n",
    "    )\n",
    "    \n",
    "    return subset_routes, multiplier_chart, difference_chart            "
   ]
  },
  {
   "cell_type": "code",
   "execution_count": 12,
   "id": "33a710e8-504c-4942-aa75-ff69f216956e",
   "metadata": {
    "execution": {
     "iopub.execute_input": "2022-05-09T19:27:10.715211Z",
     "iopub.status.busy": "2022-05-09T19:27:10.714553Z",
     "iopub.status.idle": "2022-05-09T19:27:10.720812Z",
     "shell.execute_reply": "2022-05-09T19:27:10.720010Z"
    },
    "jupyter": {
     "source_hidden": true
    },
    "papermill": {
     "duration": 0.031599,
     "end_time": "2022-05-09T19:27:10.723224",
     "exception": false,
     "start_time": "2022-05-09T19:27:10.691625",
     "status": "completed"
    },
    "tags": [
     "remove_input"
    ]
   },
   "outputs": [],
   "source": [
    "def display_charts_for_route_group(df, route_group):    \n",
    "    subset_routes, mult, diff  = setup_charts(df, PCT_COMPETITIVE_THRESHOLD, route_group)\n",
    "\n",
    "    if len(subset_routes) > 0:\n",
    "        display(Markdown(f\"{CAPTIONS_DICT[route_group]}\"))\n",
    "\n",
    "        display(mult)\n",
    "        display(diff)"
   ]
  },
  {
   "cell_type": "markdown",
   "id": "525f9b38-072b-46d1-96a8-1aa4b038357c",
   "metadata": {
    "papermill": {
     "duration": 0.015777,
     "end_time": "2022-05-09T19:27:10.754470",
     "exception": false,
     "start_time": "2022-05-09T19:27:10.738693",
     "status": "completed"
    },
    "tags": []
   },
   "source": [
    "## Viable Competitive Routes\n",
    "### Short Routes (< 1 hr)"
   ]
  },
  {
   "cell_type": "code",
   "execution_count": 13,
   "id": "57f7084c-2cf7-45c6-ba08-1609e0bd6ca5",
   "metadata": {
    "execution": {
     "iopub.execute_input": "2022-05-09T19:27:10.787073Z",
     "iopub.status.busy": "2022-05-09T19:27:10.786423Z",
     "iopub.status.idle": "2022-05-09T19:27:11.108816Z",
     "shell.execute_reply": "2022-05-09T19:27:11.107661Z"
    },
    "jupyter": {
     "source_hidden": true
    },
    "papermill": {
     "duration": 0.342504,
     "end_time": "2022-05-09T19:27:11.112123",
     "exception": false,
     "start_time": "2022-05-09T19:27:10.769619",
     "status": "completed"
    },
    "tags": [
     "remove_input"
    ]
   },
   "outputs": [
    {
     "data": {
      "text/markdown": [
       "<br>These are routes that have **at least 25% of their trips take no more than an additional 20 min** compared to a car (up to 15 routes) are shown.<br>Within each route group, routes are sorted in descending order by % competitive trips and # trips below the additional time cut-off."
      ],
      "text/plain": [
       "<IPython.core.display.Markdown object>"
      ]
     },
     "metadata": {},
     "output_type": "display_data"
    },
    {
     "data": {
      "text/html": [
       "\n",
       "<div id=\"altair-viz-162bab3c740a4458a6b838f4390ef134\"></div>\n",
       "<script type=\"text/javascript\">\n",
       "  var VEGA_DEBUG = (typeof VEGA_DEBUG == \"undefined\") ? {} : VEGA_DEBUG;\n",
       "  (function(spec, embedOpt){\n",
       "    let outputDiv = document.currentScript.previousElementSibling;\n",
       "    if (outputDiv.id !== \"altair-viz-162bab3c740a4458a6b838f4390ef134\") {\n",
       "      outputDiv = document.getElementById(\"altair-viz-162bab3c740a4458a6b838f4390ef134\");\n",
       "    }\n",
       "    const paths = {\n",
       "      \"vega\": \"https://cdn.jsdelivr.net/npm//vega@5?noext\",\n",
       "      \"vega-lib\": \"https://cdn.jsdelivr.net/npm//vega-lib?noext\",\n",
       "      \"vega-lite\": \"https://cdn.jsdelivr.net/npm//vega-lite@4.17.0?noext\",\n",
       "      \"vega-embed\": \"https://cdn.jsdelivr.net/npm//vega-embed@6?noext\",\n",
       "    };\n",
       "\n",
       "    function maybeLoadScript(lib, version) {\n",
       "      var key = `${lib.replace(\"-\", \"\")}_version`;\n",
       "      return (VEGA_DEBUG[key] == version) ?\n",
       "        Promise.resolve(paths[lib]) :\n",
       "        new Promise(function(resolve, reject) {\n",
       "          var s = document.createElement('script');\n",
       "          document.getElementsByTagName(\"head\")[0].appendChild(s);\n",
       "          s.async = true;\n",
       "          s.onload = () => {\n",
       "            VEGA_DEBUG[key] = version;\n",
       "            return resolve(paths[lib]);\n",
       "          };\n",
       "          s.onerror = () => reject(`Error loading script: ${paths[lib]}`);\n",
       "          s.src = paths[lib];\n",
       "        });\n",
       "    }\n",
       "\n",
       "    function showError(err) {\n",
       "      outputDiv.innerHTML = `<div class=\"error\" style=\"color:red;\">${err}</div>`;\n",
       "      throw err;\n",
       "    }\n",
       "\n",
       "    function displayChart(vegaEmbed) {\n",
       "      vegaEmbed(outputDiv, spec, embedOpt)\n",
       "        .catch(err => showError(`Javascript Error: ${err.message}<br>This usually means there's a typo in your chart specification. See the javascript console for the full traceback.`));\n",
       "    }\n",
       "\n",
       "    if(typeof define === \"function\" && define.amd) {\n",
       "      requirejs.config({paths});\n",
       "      require([\"vega-embed\"], displayChart, err => showError(`Error loading script: ${err.message}`));\n",
       "    } else {\n",
       "      maybeLoadScript(\"vega\", \"5\")\n",
       "        .then(() => maybeLoadScript(\"vega-lite\", \"4.17.0\"))\n",
       "        .then(() => maybeLoadScript(\"vega-embed\", \"6\"))\n",
       "        .catch(showError)\n",
       "        .then(() => displayChart(vegaEmbed));\n",
       "    }\n",
       "  })({\"config\": {\"view\": {\"continuousWidth\": 400, \"continuousHeight\": 300, \"stroke\": null}, \"facet\": {\"spacing\": 0}}, \"data\": {\"name\": \"data-6020388dd5c22a2d21ab1959d100a451\"}, \"facet\": {\"column\": {\"field\": \"route_id\", \"sort\": [\"15\"], \"title\": \"Route ID\", \"type\": \"nominal\"}}, \"spec\": {\"layer\": [{\"mark\": \"rule\", \"encoding\": {\"color\": {\"value\": \"black\"}, \"y\": {\"field\": \"cutoff\", \"type\": \"quantitative\"}}, \"selection\": {\"selector001\": {\"type\": \"interval\", \"bind\": \"scales\", \"encodings\": [\"x\", \"y\"]}}}, {\"mark\": {\"type\": \"point\", \"opacity\": 0.65, \"size\": 12, \"strokeWidth\": 1.1}, \"encoding\": {\"color\": {\"field\": \"time_of_day\", \"scale\": {\"range\": [\"#136C97\", \"#E16B26\", \"#F6BF16\", \"#00896B\", \"#7790A3\", \"#5B559C\"]}, \"sort\": [\"AM Peak\", \"Midday\", \"PM Peak\", \"Owl Service\"], \"title\": \"Time of Day\", \"type\": \"nominal\"}, \"tooltip\": [{\"field\": \"route_id\", \"type\": \"nominal\"}, {\"field\": \"trip_id\", \"type\": \"nominal\"}, {\"field\": \"service_hours\", \"type\": \"quantitative\"}, {\"field\": \"car_duration_hours\", \"type\": \"quantitative\"}, {\"field\": \"bus_multiplier\", \"type\": \"quantitative\"}, {\"field\": \"bus_difference\", \"type\": \"quantitative\"}, {\"field\": \"num_trips\", \"type\": \"quantitative\"}, {\"field\": \"num_competitive\", \"type\": \"quantitative\"}, {\"field\": \"pct_trips_competitive\", \"type\": \"quantitative\"}, {\"field\": \"p25\", \"type\": \"quantitative\"}, {\"field\": \"p50\", \"type\": \"quantitative\"}, {\"field\": \"p75\", \"type\": \"quantitative\"}], \"x\": {\"axis\": {\"grid\": false, \"labels\": false, \"ticks\": true, \"values\": [0]}, \"field\": \"jitter\", \"scale\": {}, \"title\": null, \"type\": \"quantitative\"}, \"y\": {\"field\": \"bus_multiplier\", \"scale\": {\"domain\": [-0.25, 2.5]}, \"title\": \"Ratio of Bus to Car Travel Time\", \"type\": \"quantitative\"}}, \"transform\": [{\"calculate\": \"sqrt(-2*log(random()))*cos(2*PI*random())\", \"as\": \"jitter\"}], \"width\": 50}, {\"layer\": [{\"mark\": {\"type\": \"point\", \"opacity\": 0.6, \"size\": 20, \"strokeWidth\": 1.3}, \"encoding\": {\"color\": {\"value\": \"#323434\"}, \"y\": {\"field\": \"bus_multiplier\", \"type\": \"quantitative\"}}, \"transform\": [{\"filter\": \"(datum.p50_trip === 1)\"}]}, {\"mark\": {\"type\": \"text\", \"align\": \"center\", \"baseline\": \"middle\"}, \"encoding\": {\"color\": {\"value\": \"black\"}, \"text\": {\"field\": \"pct_trips_competitive\", \"format\": \".0%\", \"type\": \"quantitative\"}, \"tooltip\": [{\"field\": \"route_id\", \"type\": \"nominal\"}, {\"field\": \"trip_id\", \"type\": \"nominal\"}, {\"field\": \"service_hours\", \"type\": \"quantitative\"}, {\"field\": \"car_duration_hours\", \"type\": \"quantitative\"}, {\"field\": \"bus_multiplier\", \"type\": \"quantitative\"}, {\"field\": \"bus_difference\", \"type\": \"quantitative\"}, {\"field\": \"num_trips\", \"type\": \"quantitative\"}, {\"field\": \"num_competitive\", \"type\": \"quantitative\"}, {\"field\": \"pct_trips_competitive\", \"type\": \"quantitative\"}, {\"field\": \"p25\", \"type\": \"quantitative\"}, {\"field\": \"p50\", \"type\": \"quantitative\"}, {\"field\": \"p75\", \"type\": \"quantitative\"}], \"x\": {\"value\": 30}, \"y\": {\"value\": 15}}, \"transform\": [{\"calculate\": \"sqrt(-2*log(random()))*cos(2*PI*random())\", \"as\": \"jitter\"}, {\"filter\": \"(datum.fastest_trip === 1)\"}]}]}]}, \"resolve\": {\"scale\": {\"y\": \"shared\"}}, \"title\": \"Ratio of Bus to Car Travel Time\", \"$schema\": \"https://vega.github.io/schema/vega-lite/v4.17.0.json\", \"datasets\": {\"data-6020388dd5c22a2d21ab1959d100a451\": [{\"calitp_itp_id\": 42, \"trip_key\": 3212989715963820775, \"trip_id\": \"t_2006242_b_33489_tn_5\", \"shape_id\": \"p_547\", \"route_id\": \"15\", \"service_hours\": 0.85, \"trip_first_departure_ts\": 39900, \"trip_last_arrival_ts\": 42960, \"departure_hour\": 11, \"time_of_day\": \"Midday\", \"p25\": 0.85, \"p50\": 0.85, \"p75\": 0.85, \"p50_trip\": 1, \"fastest_trip\": 0, \"car_duration_hours\": 0.76, \"competitive_route\": 1, \"bus_multiplier\": 1.12, \"bus_difference\": 5.4, \"num_trips\": 12, \"num_competitive\": 12, \"pct_trips_competitive\": 1.0, \"bus_difference_spread\": 0.0, \"route_group\": \"short\", \"max_trip_hrs\": 0.85, \"max_trip_route_group\": 1.0, \"name\": \"Blue Lake Rancheria\", \"caltrans_district\": \"01 - Eureka\", \"drmt_organization_name\": null, \"cutoff2\": 20, \"cutoff\": 2}, {\"calitp_itp_id\": 42, \"trip_key\": -4503928084773304761, \"trip_id\": \"t_2006242_b_33489_tn_6\", \"shape_id\": \"p_547\", \"route_id\": \"15\", \"service_hours\": 0.85, \"trip_first_departure_ts\": 43500, \"trip_last_arrival_ts\": 46560, \"departure_hour\": 12, \"time_of_day\": \"Midday\", \"p25\": 0.85, \"p50\": 0.85, \"p75\": 0.85, \"p50_trip\": 1, \"fastest_trip\": 0, \"car_duration_hours\": 0.76, \"competitive_route\": 1, \"bus_multiplier\": 1.12, \"bus_difference\": 5.4, \"num_trips\": 12, \"num_competitive\": 12, \"pct_trips_competitive\": 1.0, \"bus_difference_spread\": 0.0, \"route_group\": \"short\", \"max_trip_hrs\": 0.85, \"max_trip_route_group\": 1.0, \"name\": \"Blue Lake Rancheria\", \"caltrans_district\": \"01 - Eureka\", \"drmt_organization_name\": null, \"cutoff2\": 20, \"cutoff\": 2}, {\"calitp_itp_id\": 42, \"trip_key\": -4246535928303558891, \"trip_id\": \"t_2006242_b_33489_tn_10\", \"shape_id\": \"p_547\", \"route_id\": \"15\", \"service_hours\": 0.85, \"trip_first_departure_ts\": 57900, \"trip_last_arrival_ts\": 60960, \"departure_hour\": 16, \"time_of_day\": \"Midday\", \"p25\": 0.85, \"p50\": 0.85, \"p75\": 0.85, \"p50_trip\": 1, \"fastest_trip\": 0, \"car_duration_hours\": 0.76, \"competitive_route\": 1, \"bus_multiplier\": 1.12, \"bus_difference\": 5.4, \"num_trips\": 12, \"num_competitive\": 12, \"pct_trips_competitive\": 1.0, \"bus_difference_spread\": 0.0, \"route_group\": \"short\", \"max_trip_hrs\": 0.85, \"max_trip_route_group\": 1.0, \"name\": \"Blue Lake Rancheria\", \"caltrans_district\": \"01 - Eureka\", \"drmt_organization_name\": null, \"cutoff2\": 20, \"cutoff\": 2}, {\"calitp_itp_id\": 42, \"trip_key\": -5346033386940711380, \"trip_id\": \"t_2006242_b_33489_tn_8\", \"shape_id\": \"p_547\", \"route_id\": \"15\", \"service_hours\": 0.85, \"trip_first_departure_ts\": 50700, \"trip_last_arrival_ts\": 53760, \"departure_hour\": 14, \"time_of_day\": \"Midday\", \"p25\": 0.85, \"p50\": 0.85, \"p75\": 0.85, \"p50_trip\": 1, \"fastest_trip\": 0, \"car_duration_hours\": 0.76, \"competitive_route\": 1, \"bus_multiplier\": 1.12, \"bus_difference\": 5.4, \"num_trips\": 12, \"num_competitive\": 12, \"pct_trips_competitive\": 1.0, \"bus_difference_spread\": 0.0, \"route_group\": \"short\", \"max_trip_hrs\": 0.85, \"max_trip_route_group\": 1.0, \"name\": \"Blue Lake Rancheria\", \"caltrans_district\": \"01 - Eureka\", \"drmt_organization_name\": null, \"cutoff2\": 20, \"cutoff\": 2}, {\"calitp_itp_id\": 42, \"trip_key\": 288197767091223608, \"trip_id\": \"t_2006242_b_33489_tn_4\", \"shape_id\": \"p_547\", \"route_id\": \"15\", \"service_hours\": 0.85, \"trip_first_departure_ts\": 36300, \"trip_last_arrival_ts\": 39360, \"departure_hour\": 10, \"time_of_day\": \"Midday\", \"p25\": 0.85, \"p50\": 0.85, \"p75\": 0.85, \"p50_trip\": 1, \"fastest_trip\": 0, \"car_duration_hours\": 0.76, \"competitive_route\": 1, \"bus_multiplier\": 1.12, \"bus_difference\": 5.4, \"num_trips\": 12, \"num_competitive\": 12, \"pct_trips_competitive\": 1.0, \"bus_difference_spread\": 0.0, \"route_group\": \"short\", \"max_trip_hrs\": 0.85, \"max_trip_route_group\": 1.0, \"name\": \"Blue Lake Rancheria\", \"caltrans_district\": \"01 - Eureka\", \"drmt_organization_name\": null, \"cutoff2\": 20, \"cutoff\": 2}, {\"calitp_itp_id\": 42, \"trip_key\": 7152056154056799848, \"trip_id\": \"t_2006242_b_33489_tn_3\", \"shape_id\": \"p_547\", \"route_id\": \"15\", \"service_hours\": 0.85, \"trip_first_departure_ts\": 32700, \"trip_last_arrival_ts\": 35760, \"departure_hour\": 9, \"time_of_day\": \"AM Peak\", \"p25\": 0.85, \"p50\": 0.85, \"p75\": 0.85, \"p50_trip\": 1, \"fastest_trip\": 0, \"car_duration_hours\": 0.76, \"competitive_route\": 1, \"bus_multiplier\": 1.12, \"bus_difference\": 5.4, \"num_trips\": 12, \"num_competitive\": 12, \"pct_trips_competitive\": 1.0, \"bus_difference_spread\": 0.0, \"route_group\": \"short\", \"max_trip_hrs\": 0.85, \"max_trip_route_group\": 1.0, \"name\": \"Blue Lake Rancheria\", \"caltrans_district\": \"01 - Eureka\", \"drmt_organization_name\": null, \"cutoff2\": 20, \"cutoff\": 2}, {\"calitp_itp_id\": 42, \"trip_key\": -2674696040307332955, \"trip_id\": \"t_2006242_b_33489_tn_1\", \"shape_id\": \"p_547\", \"route_id\": \"15\", \"service_hours\": 0.85, \"trip_first_departure_ts\": 25500, \"trip_last_arrival_ts\": 28560, \"departure_hour\": 7, \"time_of_day\": \"AM Peak\", \"p25\": 0.85, \"p50\": 0.85, \"p75\": 0.85, \"p50_trip\": 1, \"fastest_trip\": 0, \"car_duration_hours\": 0.76, \"competitive_route\": 1, \"bus_multiplier\": 1.12, \"bus_difference\": 5.4, \"num_trips\": 12, \"num_competitive\": 12, \"pct_trips_competitive\": 1.0, \"bus_difference_spread\": 0.0, \"route_group\": \"short\", \"max_trip_hrs\": 0.85, \"max_trip_route_group\": 1.0, \"name\": \"Blue Lake Rancheria\", \"caltrans_district\": \"01 - Eureka\", \"drmt_organization_name\": null, \"cutoff2\": 20, \"cutoff\": 2}, {\"calitp_itp_id\": 42, \"trip_key\": 3627932410057339867, \"trip_id\": \"t_2006242_b_33489_tn_12\", \"shape_id\": \"p_547\", \"route_id\": \"15\", \"service_hours\": 0.85, \"trip_first_departure_ts\": 65100, \"trip_last_arrival_ts\": 68160, \"departure_hour\": 18, \"time_of_day\": \"PM Peak\", \"p25\": 0.85, \"p50\": 0.85, \"p75\": 0.85, \"p50_trip\": 1, \"fastest_trip\": 1, \"car_duration_hours\": 0.76, \"competitive_route\": 1, \"bus_multiplier\": 1.12, \"bus_difference\": 5.4, \"num_trips\": 12, \"num_competitive\": 12, \"pct_trips_competitive\": 1.0, \"bus_difference_spread\": 0.0, \"route_group\": \"short\", \"max_trip_hrs\": 0.85, \"max_trip_route_group\": 1.0, \"name\": \"Blue Lake Rancheria\", \"caltrans_district\": \"01 - Eureka\", \"drmt_organization_name\": null, \"cutoff2\": 20, \"cutoff\": 2}, {\"calitp_itp_id\": 42, \"trip_key\": 5713358753953854643, \"trip_id\": \"t_2006242_b_33489_tn_7\", \"shape_id\": \"p_547\", \"route_id\": \"15\", \"service_hours\": 0.85, \"trip_first_departure_ts\": 47100, \"trip_last_arrival_ts\": 50160, \"departure_hour\": 13, \"time_of_day\": \"Midday\", \"p25\": 0.85, \"p50\": 0.85, \"p75\": 0.85, \"p50_trip\": 1, \"fastest_trip\": 0, \"car_duration_hours\": 0.76, \"competitive_route\": 1, \"bus_multiplier\": 1.12, \"bus_difference\": 5.4, \"num_trips\": 12, \"num_competitive\": 12, \"pct_trips_competitive\": 1.0, \"bus_difference_spread\": 0.0, \"route_group\": \"short\", \"max_trip_hrs\": 0.85, \"max_trip_route_group\": 1.0, \"name\": \"Blue Lake Rancheria\", \"caltrans_district\": \"01 - Eureka\", \"drmt_organization_name\": null, \"cutoff2\": 20, \"cutoff\": 2}, {\"calitp_itp_id\": 42, \"trip_key\": -6901584182200929758, \"trip_id\": \"t_2006242_b_33489_tn_2\", \"shape_id\": \"p_547\", \"route_id\": \"15\", \"service_hours\": 0.85, \"trip_first_departure_ts\": 29100, \"trip_last_arrival_ts\": 32160, \"departure_hour\": 8, \"time_of_day\": \"AM Peak\", \"p25\": 0.85, \"p50\": 0.85, \"p75\": 0.85, \"p50_trip\": 1, \"fastest_trip\": 0, \"car_duration_hours\": 0.76, \"competitive_route\": 1, \"bus_multiplier\": 1.12, \"bus_difference\": 5.4, \"num_trips\": 12, \"num_competitive\": 12, \"pct_trips_competitive\": 1.0, \"bus_difference_spread\": 0.0, \"route_group\": \"short\", \"max_trip_hrs\": 0.85, \"max_trip_route_group\": 1.0, \"name\": \"Blue Lake Rancheria\", \"caltrans_district\": \"01 - Eureka\", \"drmt_organization_name\": null, \"cutoff2\": 20, \"cutoff\": 2}, {\"calitp_itp_id\": 42, \"trip_key\": -1400242218070640529, \"trip_id\": \"t_2006242_b_33489_tn_9\", \"shape_id\": \"p_547\", \"route_id\": \"15\", \"service_hours\": 0.85, \"trip_first_departure_ts\": 54300, \"trip_last_arrival_ts\": 57360, \"departure_hour\": 15, \"time_of_day\": \"Midday\", \"p25\": 0.85, \"p50\": 0.85, \"p75\": 0.85, \"p50_trip\": 1, \"fastest_trip\": 0, \"car_duration_hours\": 0.76, \"competitive_route\": 1, \"bus_multiplier\": 1.12, \"bus_difference\": 5.4, \"num_trips\": 12, \"num_competitive\": 12, \"pct_trips_competitive\": 1.0, \"bus_difference_spread\": 0.0, \"route_group\": \"short\", \"max_trip_hrs\": 0.85, \"max_trip_route_group\": 1.0, \"name\": \"Blue Lake Rancheria\", \"caltrans_district\": \"01 - Eureka\", \"drmt_organization_name\": null, \"cutoff2\": 20, \"cutoff\": 2}, {\"calitp_itp_id\": 42, \"trip_key\": 8949262043114527418, \"trip_id\": \"t_2006242_b_33489_tn_11\", \"shape_id\": \"p_547\", \"route_id\": \"15\", \"service_hours\": 0.85, \"trip_first_departure_ts\": 61500, \"trip_last_arrival_ts\": 64560, \"departure_hour\": 17, \"time_of_day\": \"PM Peak\", \"p25\": 0.85, \"p50\": 0.85, \"p75\": 0.85, \"p50_trip\": 1, \"fastest_trip\": 0, \"car_duration_hours\": 0.76, \"competitive_route\": 1, \"bus_multiplier\": 1.12, \"bus_difference\": 5.4, \"num_trips\": 12, \"num_competitive\": 12, \"pct_trips_competitive\": 1.0, \"bus_difference_spread\": 0.0, \"route_group\": \"short\", \"max_trip_hrs\": 0.85, \"max_trip_route_group\": 1.0, \"name\": \"Blue Lake Rancheria\", \"caltrans_district\": \"01 - Eureka\", \"drmt_organization_name\": null, \"cutoff2\": 20, \"cutoff\": 2}]}}, {\"mode\": \"vega-lite\"});\n",
       "</script>"
      ],
      "text/plain": [
       "alt.FacetChart(...)"
      ]
     },
     "metadata": {},
     "output_type": "display_data"
    },
    {
     "data": {
      "text/html": [
       "\n",
       "<div id=\"altair-viz-64d4f466375e4caf864a041bf79ce721\"></div>\n",
       "<script type=\"text/javascript\">\n",
       "  var VEGA_DEBUG = (typeof VEGA_DEBUG == \"undefined\") ? {} : VEGA_DEBUG;\n",
       "  (function(spec, embedOpt){\n",
       "    let outputDiv = document.currentScript.previousElementSibling;\n",
       "    if (outputDiv.id !== \"altair-viz-64d4f466375e4caf864a041bf79ce721\") {\n",
       "      outputDiv = document.getElementById(\"altair-viz-64d4f466375e4caf864a041bf79ce721\");\n",
       "    }\n",
       "    const paths = {\n",
       "      \"vega\": \"https://cdn.jsdelivr.net/npm//vega@5?noext\",\n",
       "      \"vega-lib\": \"https://cdn.jsdelivr.net/npm//vega-lib?noext\",\n",
       "      \"vega-lite\": \"https://cdn.jsdelivr.net/npm//vega-lite@4.17.0?noext\",\n",
       "      \"vega-embed\": \"https://cdn.jsdelivr.net/npm//vega-embed@6?noext\",\n",
       "    };\n",
       "\n",
       "    function maybeLoadScript(lib, version) {\n",
       "      var key = `${lib.replace(\"-\", \"\")}_version`;\n",
       "      return (VEGA_DEBUG[key] == version) ?\n",
       "        Promise.resolve(paths[lib]) :\n",
       "        new Promise(function(resolve, reject) {\n",
       "          var s = document.createElement('script');\n",
       "          document.getElementsByTagName(\"head\")[0].appendChild(s);\n",
       "          s.async = true;\n",
       "          s.onload = () => {\n",
       "            VEGA_DEBUG[key] = version;\n",
       "            return resolve(paths[lib]);\n",
       "          };\n",
       "          s.onerror = () => reject(`Error loading script: ${paths[lib]}`);\n",
       "          s.src = paths[lib];\n",
       "        });\n",
       "    }\n",
       "\n",
       "    function showError(err) {\n",
       "      outputDiv.innerHTML = `<div class=\"error\" style=\"color:red;\">${err}</div>`;\n",
       "      throw err;\n",
       "    }\n",
       "\n",
       "    function displayChart(vegaEmbed) {\n",
       "      vegaEmbed(outputDiv, spec, embedOpt)\n",
       "        .catch(err => showError(`Javascript Error: ${err.message}<br>This usually means there's a typo in your chart specification. See the javascript console for the full traceback.`));\n",
       "    }\n",
       "\n",
       "    if(typeof define === \"function\" && define.amd) {\n",
       "      requirejs.config({paths});\n",
       "      require([\"vega-embed\"], displayChart, err => showError(`Error loading script: ${err.message}`));\n",
       "    } else {\n",
       "      maybeLoadScript(\"vega\", \"5\")\n",
       "        .then(() => maybeLoadScript(\"vega-lite\", \"4.17.0\"))\n",
       "        .then(() => maybeLoadScript(\"vega-embed\", \"6\"))\n",
       "        .catch(showError)\n",
       "        .then(() => displayChart(vegaEmbed));\n",
       "    }\n",
       "  })({\"config\": {\"view\": {\"continuousWidth\": 400, \"continuousHeight\": 300, \"stroke\": null}, \"facet\": {\"spacing\": 0}}, \"data\": {\"name\": \"data-e18e4a29b9d0c95592ffae10eb395d8f\"}, \"facet\": {\"column\": {\"field\": \"route_id\", \"sort\": [\"15\"], \"title\": \"Route ID\", \"type\": \"nominal\"}}, \"spec\": {\"layer\": [{\"mark\": \"rule\", \"encoding\": {\"color\": {\"value\": \"black\"}, \"y\": {\"field\": \"cutoff\", \"type\": \"quantitative\"}}, \"selection\": {\"selector002\": {\"type\": \"interval\", \"bind\": \"scales\", \"encodings\": [\"x\", \"y\"]}}}, {\"mark\": {\"type\": \"rule\", \"strokeDash\": [3, 3]}, \"encoding\": {\"color\": {\"value\": \"#323434\"}, \"y\": {\"field\": \"cutoff2\", \"type\": \"quantitative\"}}}, {\"mark\": {\"type\": \"point\", \"opacity\": 0.65, \"size\": 12, \"strokeWidth\": 1.1}, \"encoding\": {\"color\": {\"field\": \"time_of_day\", \"scale\": {\"range\": [\"#136C97\", \"#E16B26\", \"#F6BF16\", \"#00896B\", \"#7790A3\", \"#5B559C\"]}, \"sort\": [\"AM Peak\", \"Midday\", \"PM Peak\", \"Owl Service\"], \"title\": \"Time of Day\", \"type\": \"nominal\"}, \"tooltip\": [{\"field\": \"route_id\", \"type\": \"nominal\"}, {\"field\": \"trip_id\", \"type\": \"nominal\"}, {\"field\": \"service_hours\", \"type\": \"quantitative\"}, {\"field\": \"car_duration_hours\", \"type\": \"quantitative\"}, {\"field\": \"bus_multiplier\", \"type\": \"quantitative\"}, {\"field\": \"bus_difference\", \"type\": \"quantitative\"}, {\"field\": \"num_trips\", \"type\": \"quantitative\"}, {\"field\": \"num_competitive\", \"type\": \"quantitative\"}, {\"field\": \"pct_trips_competitive\", \"type\": \"quantitative\"}, {\"field\": \"p25\", \"type\": \"quantitative\"}, {\"field\": \"p50\", \"type\": \"quantitative\"}, {\"field\": \"p75\", \"type\": \"quantitative\"}], \"x\": {\"axis\": {\"grid\": false, \"labels\": false, \"ticks\": true, \"values\": [0]}, \"field\": \"jitter\", \"scale\": {}, \"title\": null, \"type\": \"quantitative\"}, \"y\": {\"field\": \"bus_difference\", \"scale\": {\"domain\": [-5, 38.4]}, \"title\": \"Difference in Bus to Car Travel Time (min)\", \"type\": \"quantitative\"}}, \"transform\": [{\"calculate\": \"sqrt(-2*log(random()))*cos(2*PI*random())\", \"as\": \"jitter\"}], \"width\": 50}, {\"layer\": [{\"mark\": {\"type\": \"point\", \"opacity\": 0.6, \"size\": 20, \"strokeWidth\": 1.3}, \"encoding\": {\"color\": {\"value\": \"#323434\"}, \"y\": {\"field\": \"bus_difference\", \"type\": \"quantitative\"}}, \"transform\": [{\"filter\": \"(datum.p50_trip === 1)\"}]}, {\"mark\": {\"type\": \"text\", \"align\": \"center\", \"baseline\": \"middle\"}, \"encoding\": {\"color\": {\"value\": \"black\"}, \"text\": {\"field\": \"pct_trips_competitive\", \"format\": \".0%\", \"type\": \"quantitative\"}, \"tooltip\": [{\"field\": \"route_id\", \"type\": \"nominal\"}, {\"field\": \"trip_id\", \"type\": \"nominal\"}, {\"field\": \"service_hours\", \"type\": \"quantitative\"}, {\"field\": \"car_duration_hours\", \"type\": \"quantitative\"}, {\"field\": \"bus_multiplier\", \"type\": \"quantitative\"}, {\"field\": \"bus_difference\", \"type\": \"quantitative\"}, {\"field\": \"num_trips\", \"type\": \"quantitative\"}, {\"field\": \"num_competitive\", \"type\": \"quantitative\"}, {\"field\": \"pct_trips_competitive\", \"type\": \"quantitative\"}, {\"field\": \"p25\", \"type\": \"quantitative\"}, {\"field\": \"p50\", \"type\": \"quantitative\"}, {\"field\": \"p75\", \"type\": \"quantitative\"}], \"x\": {\"value\": 30}, \"y\": {\"value\": 15}}, \"transform\": [{\"calculate\": \"sqrt(-2*log(random()))*cos(2*PI*random())\", \"as\": \"jitter\"}, {\"filter\": \"(datum.fastest_trip === 1)\"}]}]}]}, \"resolve\": {\"scale\": {\"y\": \"shared\"}}, \"title\": \"Difference in Bus to Car Travel Time (min)\", \"$schema\": \"https://vega.github.io/schema/vega-lite/v4.17.0.json\", \"datasets\": {\"data-e18e4a29b9d0c95592ffae10eb395d8f\": [{\"calitp_itp_id\": 42, \"trip_key\": 3212989715963820775, \"trip_id\": \"t_2006242_b_33489_tn_5\", \"shape_id\": \"p_547\", \"route_id\": \"15\", \"service_hours\": 0.85, \"trip_first_departure_ts\": 39900, \"trip_last_arrival_ts\": 42960, \"departure_hour\": 11, \"time_of_day\": \"Midday\", \"p25\": 0.85, \"p50\": 0.85, \"p75\": 0.85, \"p50_trip\": 1, \"fastest_trip\": 0, \"car_duration_hours\": 0.76, \"competitive_route\": 1, \"bus_multiplier\": 1.12, \"bus_difference\": 5.4, \"num_trips\": 12, \"num_competitive\": 12, \"pct_trips_competitive\": 1.0, \"bus_difference_spread\": 0.0, \"route_group\": \"short\", \"max_trip_hrs\": 0.85, \"max_trip_route_group\": 1.0, \"name\": \"Blue Lake Rancheria\", \"caltrans_district\": \"01 - Eureka\", \"drmt_organization_name\": null, \"cutoff2\": 20, \"cutoff\": 0}, {\"calitp_itp_id\": 42, \"trip_key\": -4503928084773304761, \"trip_id\": \"t_2006242_b_33489_tn_6\", \"shape_id\": \"p_547\", \"route_id\": \"15\", \"service_hours\": 0.85, \"trip_first_departure_ts\": 43500, \"trip_last_arrival_ts\": 46560, \"departure_hour\": 12, \"time_of_day\": \"Midday\", \"p25\": 0.85, \"p50\": 0.85, \"p75\": 0.85, \"p50_trip\": 1, \"fastest_trip\": 0, \"car_duration_hours\": 0.76, \"competitive_route\": 1, \"bus_multiplier\": 1.12, \"bus_difference\": 5.4, \"num_trips\": 12, \"num_competitive\": 12, \"pct_trips_competitive\": 1.0, \"bus_difference_spread\": 0.0, \"route_group\": \"short\", \"max_trip_hrs\": 0.85, \"max_trip_route_group\": 1.0, \"name\": \"Blue Lake Rancheria\", \"caltrans_district\": \"01 - Eureka\", \"drmt_organization_name\": null, \"cutoff2\": 20, \"cutoff\": 0}, {\"calitp_itp_id\": 42, \"trip_key\": -4246535928303558891, \"trip_id\": \"t_2006242_b_33489_tn_10\", \"shape_id\": \"p_547\", \"route_id\": \"15\", \"service_hours\": 0.85, \"trip_first_departure_ts\": 57900, \"trip_last_arrival_ts\": 60960, \"departure_hour\": 16, \"time_of_day\": \"Midday\", \"p25\": 0.85, \"p50\": 0.85, \"p75\": 0.85, \"p50_trip\": 1, \"fastest_trip\": 0, \"car_duration_hours\": 0.76, \"competitive_route\": 1, \"bus_multiplier\": 1.12, \"bus_difference\": 5.4, \"num_trips\": 12, \"num_competitive\": 12, \"pct_trips_competitive\": 1.0, \"bus_difference_spread\": 0.0, \"route_group\": \"short\", \"max_trip_hrs\": 0.85, \"max_trip_route_group\": 1.0, \"name\": \"Blue Lake Rancheria\", \"caltrans_district\": \"01 - Eureka\", \"drmt_organization_name\": null, \"cutoff2\": 20, \"cutoff\": 0}, {\"calitp_itp_id\": 42, \"trip_key\": -5346033386940711380, \"trip_id\": \"t_2006242_b_33489_tn_8\", \"shape_id\": \"p_547\", \"route_id\": \"15\", \"service_hours\": 0.85, \"trip_first_departure_ts\": 50700, \"trip_last_arrival_ts\": 53760, \"departure_hour\": 14, \"time_of_day\": \"Midday\", \"p25\": 0.85, \"p50\": 0.85, \"p75\": 0.85, \"p50_trip\": 1, \"fastest_trip\": 0, \"car_duration_hours\": 0.76, \"competitive_route\": 1, \"bus_multiplier\": 1.12, \"bus_difference\": 5.4, \"num_trips\": 12, \"num_competitive\": 12, \"pct_trips_competitive\": 1.0, \"bus_difference_spread\": 0.0, \"route_group\": \"short\", \"max_trip_hrs\": 0.85, \"max_trip_route_group\": 1.0, \"name\": \"Blue Lake Rancheria\", \"caltrans_district\": \"01 - Eureka\", \"drmt_organization_name\": null, \"cutoff2\": 20, \"cutoff\": 0}, {\"calitp_itp_id\": 42, \"trip_key\": 288197767091223608, \"trip_id\": \"t_2006242_b_33489_tn_4\", \"shape_id\": \"p_547\", \"route_id\": \"15\", \"service_hours\": 0.85, \"trip_first_departure_ts\": 36300, \"trip_last_arrival_ts\": 39360, \"departure_hour\": 10, \"time_of_day\": \"Midday\", \"p25\": 0.85, \"p50\": 0.85, \"p75\": 0.85, \"p50_trip\": 1, \"fastest_trip\": 0, \"car_duration_hours\": 0.76, \"competitive_route\": 1, \"bus_multiplier\": 1.12, \"bus_difference\": 5.4, \"num_trips\": 12, \"num_competitive\": 12, \"pct_trips_competitive\": 1.0, \"bus_difference_spread\": 0.0, \"route_group\": \"short\", \"max_trip_hrs\": 0.85, \"max_trip_route_group\": 1.0, \"name\": \"Blue Lake Rancheria\", \"caltrans_district\": \"01 - Eureka\", \"drmt_organization_name\": null, \"cutoff2\": 20, \"cutoff\": 0}, {\"calitp_itp_id\": 42, \"trip_key\": 7152056154056799848, \"trip_id\": \"t_2006242_b_33489_tn_3\", \"shape_id\": \"p_547\", \"route_id\": \"15\", \"service_hours\": 0.85, \"trip_first_departure_ts\": 32700, \"trip_last_arrival_ts\": 35760, \"departure_hour\": 9, \"time_of_day\": \"AM Peak\", \"p25\": 0.85, \"p50\": 0.85, \"p75\": 0.85, \"p50_trip\": 1, \"fastest_trip\": 0, \"car_duration_hours\": 0.76, \"competitive_route\": 1, \"bus_multiplier\": 1.12, \"bus_difference\": 5.4, \"num_trips\": 12, \"num_competitive\": 12, \"pct_trips_competitive\": 1.0, \"bus_difference_spread\": 0.0, \"route_group\": \"short\", \"max_trip_hrs\": 0.85, \"max_trip_route_group\": 1.0, \"name\": \"Blue Lake Rancheria\", \"caltrans_district\": \"01 - Eureka\", \"drmt_organization_name\": null, \"cutoff2\": 20, \"cutoff\": 0}, {\"calitp_itp_id\": 42, \"trip_key\": -2674696040307332955, \"trip_id\": \"t_2006242_b_33489_tn_1\", \"shape_id\": \"p_547\", \"route_id\": \"15\", \"service_hours\": 0.85, \"trip_first_departure_ts\": 25500, \"trip_last_arrival_ts\": 28560, \"departure_hour\": 7, \"time_of_day\": \"AM Peak\", \"p25\": 0.85, \"p50\": 0.85, \"p75\": 0.85, \"p50_trip\": 1, \"fastest_trip\": 0, \"car_duration_hours\": 0.76, \"competitive_route\": 1, \"bus_multiplier\": 1.12, \"bus_difference\": 5.4, \"num_trips\": 12, \"num_competitive\": 12, \"pct_trips_competitive\": 1.0, \"bus_difference_spread\": 0.0, \"route_group\": \"short\", \"max_trip_hrs\": 0.85, \"max_trip_route_group\": 1.0, \"name\": \"Blue Lake Rancheria\", \"caltrans_district\": \"01 - Eureka\", \"drmt_organization_name\": null, \"cutoff2\": 20, \"cutoff\": 0}, {\"calitp_itp_id\": 42, \"trip_key\": 3627932410057339867, \"trip_id\": \"t_2006242_b_33489_tn_12\", \"shape_id\": \"p_547\", \"route_id\": \"15\", \"service_hours\": 0.85, \"trip_first_departure_ts\": 65100, \"trip_last_arrival_ts\": 68160, \"departure_hour\": 18, \"time_of_day\": \"PM Peak\", \"p25\": 0.85, \"p50\": 0.85, \"p75\": 0.85, \"p50_trip\": 1, \"fastest_trip\": 1, \"car_duration_hours\": 0.76, \"competitive_route\": 1, \"bus_multiplier\": 1.12, \"bus_difference\": 5.4, \"num_trips\": 12, \"num_competitive\": 12, \"pct_trips_competitive\": 1.0, \"bus_difference_spread\": 0.0, \"route_group\": \"short\", \"max_trip_hrs\": 0.85, \"max_trip_route_group\": 1.0, \"name\": \"Blue Lake Rancheria\", \"caltrans_district\": \"01 - Eureka\", \"drmt_organization_name\": null, \"cutoff2\": 20, \"cutoff\": 0}, {\"calitp_itp_id\": 42, \"trip_key\": 5713358753953854643, \"trip_id\": \"t_2006242_b_33489_tn_7\", \"shape_id\": \"p_547\", \"route_id\": \"15\", \"service_hours\": 0.85, \"trip_first_departure_ts\": 47100, \"trip_last_arrival_ts\": 50160, \"departure_hour\": 13, \"time_of_day\": \"Midday\", \"p25\": 0.85, \"p50\": 0.85, \"p75\": 0.85, \"p50_trip\": 1, \"fastest_trip\": 0, \"car_duration_hours\": 0.76, \"competitive_route\": 1, \"bus_multiplier\": 1.12, \"bus_difference\": 5.4, \"num_trips\": 12, \"num_competitive\": 12, \"pct_trips_competitive\": 1.0, \"bus_difference_spread\": 0.0, \"route_group\": \"short\", \"max_trip_hrs\": 0.85, \"max_trip_route_group\": 1.0, \"name\": \"Blue Lake Rancheria\", \"caltrans_district\": \"01 - Eureka\", \"drmt_organization_name\": null, \"cutoff2\": 20, \"cutoff\": 0}, {\"calitp_itp_id\": 42, \"trip_key\": -6901584182200929758, \"trip_id\": \"t_2006242_b_33489_tn_2\", \"shape_id\": \"p_547\", \"route_id\": \"15\", \"service_hours\": 0.85, \"trip_first_departure_ts\": 29100, \"trip_last_arrival_ts\": 32160, \"departure_hour\": 8, \"time_of_day\": \"AM Peak\", \"p25\": 0.85, \"p50\": 0.85, \"p75\": 0.85, \"p50_trip\": 1, \"fastest_trip\": 0, \"car_duration_hours\": 0.76, \"competitive_route\": 1, \"bus_multiplier\": 1.12, \"bus_difference\": 5.4, \"num_trips\": 12, \"num_competitive\": 12, \"pct_trips_competitive\": 1.0, \"bus_difference_spread\": 0.0, \"route_group\": \"short\", \"max_trip_hrs\": 0.85, \"max_trip_route_group\": 1.0, \"name\": \"Blue Lake Rancheria\", \"caltrans_district\": \"01 - Eureka\", \"drmt_organization_name\": null, \"cutoff2\": 20, \"cutoff\": 0}, {\"calitp_itp_id\": 42, \"trip_key\": -1400242218070640529, \"trip_id\": \"t_2006242_b_33489_tn_9\", \"shape_id\": \"p_547\", \"route_id\": \"15\", \"service_hours\": 0.85, \"trip_first_departure_ts\": 54300, \"trip_last_arrival_ts\": 57360, \"departure_hour\": 15, \"time_of_day\": \"Midday\", \"p25\": 0.85, \"p50\": 0.85, \"p75\": 0.85, \"p50_trip\": 1, \"fastest_trip\": 0, \"car_duration_hours\": 0.76, \"competitive_route\": 1, \"bus_multiplier\": 1.12, \"bus_difference\": 5.4, \"num_trips\": 12, \"num_competitive\": 12, \"pct_trips_competitive\": 1.0, \"bus_difference_spread\": 0.0, \"route_group\": \"short\", \"max_trip_hrs\": 0.85, \"max_trip_route_group\": 1.0, \"name\": \"Blue Lake Rancheria\", \"caltrans_district\": \"01 - Eureka\", \"drmt_organization_name\": null, \"cutoff2\": 20, \"cutoff\": 0}, {\"calitp_itp_id\": 42, \"trip_key\": 8949262043114527418, \"trip_id\": \"t_2006242_b_33489_tn_11\", \"shape_id\": \"p_547\", \"route_id\": \"15\", \"service_hours\": 0.85, \"trip_first_departure_ts\": 61500, \"trip_last_arrival_ts\": 64560, \"departure_hour\": 17, \"time_of_day\": \"PM Peak\", \"p25\": 0.85, \"p50\": 0.85, \"p75\": 0.85, \"p50_trip\": 1, \"fastest_trip\": 0, \"car_duration_hours\": 0.76, \"competitive_route\": 1, \"bus_multiplier\": 1.12, \"bus_difference\": 5.4, \"num_trips\": 12, \"num_competitive\": 12, \"pct_trips_competitive\": 1.0, \"bus_difference_spread\": 0.0, \"route_group\": \"short\", \"max_trip_hrs\": 0.85, \"max_trip_route_group\": 1.0, \"name\": \"Blue Lake Rancheria\", \"caltrans_district\": \"01 - Eureka\", \"drmt_organization_name\": null, \"cutoff2\": 20, \"cutoff\": 0}]}}, {\"mode\": \"vega-lite\"});\n",
       "</script>"
      ],
      "text/plain": [
       "alt.FacetChart(...)"
      ]
     },
     "metadata": {},
     "output_type": "display_data"
    }
   ],
   "source": [
    "# Allow for possibility that operator doesn't have routes that fall into certain route_groups\n",
    "# But, jupyterbook will not like markdown with f-string\n",
    "# separate out route_group and put in each cell, and use try/except + if to display...\n",
    "# but all 3 route groups must be displayed. just add sentence about why no routes were returned at the end\n",
    "route_group = \"short\"\n",
    "try:\n",
    "    display_charts_for_route_group(df, route_group)\n",
    "except:\n",
    "    print(\"No routes meet this criteria.\")"
   ]
  },
  {
   "cell_type": "markdown",
   "id": "c2931b6f-034d-4384-9e14-80b925e3b820",
   "metadata": {
    "papermill": {
     "duration": 0.020928,
     "end_time": "2022-05-09T19:27:11.154256",
     "exception": false,
     "start_time": "2022-05-09T19:27:11.133328",
     "status": "completed"
    },
    "tags": []
   },
   "source": [
    "### Medium Routes (1-1.5 hrs)"
   ]
  },
  {
   "cell_type": "code",
   "execution_count": 14,
   "id": "480edddc-4de0-48c2-ae4c-b0ceef8f28b5",
   "metadata": {
    "execution": {
     "iopub.execute_input": "2022-05-09T19:27:11.191408Z",
     "iopub.status.busy": "2022-05-09T19:27:11.190336Z",
     "iopub.status.idle": "2022-05-09T19:27:11.209312Z",
     "shell.execute_reply": "2022-05-09T19:27:11.208284Z"
    },
    "jupyter": {
     "source_hidden": true
    },
    "papermill": {
     "duration": 0.039749,
     "end_time": "2022-05-09T19:27:11.211446",
     "exception": false,
     "start_time": "2022-05-09T19:27:11.171697",
     "status": "completed"
    },
    "tags": [
     "remove_input"
    ]
   },
   "outputs": [
    {
     "name": "stdout",
     "output_type": "stream",
     "text": [
      "No routes meet this criteria.\n"
     ]
    }
   ],
   "source": [
    "route_group = \"medium\"\n",
    "try:\n",
    "    display_charts_for_route_group(df, route_group)\n",
    "except:\n",
    "    print(\"No routes meet this criteria.\")"
   ]
  },
  {
   "cell_type": "markdown",
   "id": "124b76d0-886c-4d03-92ac-f1bda3cda182",
   "metadata": {
    "papermill": {
     "duration": 0.019641,
     "end_time": "2022-05-09T19:27:11.247770",
     "exception": false,
     "start_time": "2022-05-09T19:27:11.228129",
     "status": "completed"
    },
    "tags": []
   },
   "source": [
    "### Long Routes (> 1.5 hrs)"
   ]
  },
  {
   "cell_type": "code",
   "execution_count": 15,
   "id": "ddc81b19-4c45-4c81-8b7a-5e0f394aa7a3",
   "metadata": {
    "execution": {
     "iopub.execute_input": "2022-05-09T19:27:11.287796Z",
     "iopub.status.busy": "2022-05-09T19:27:11.287451Z",
     "iopub.status.idle": "2022-05-09T19:27:11.559388Z",
     "shell.execute_reply": "2022-05-09T19:27:11.558505Z"
    },
    "jupyter": {
     "source_hidden": true
    },
    "papermill": {
     "duration": 0.29683,
     "end_time": "2022-05-09T19:27:11.562167",
     "exception": false,
     "start_time": "2022-05-09T19:27:11.265337",
     "status": "completed"
    },
    "tags": [
     "remove_input"
    ]
   },
   "outputs": [
    {
     "data": {
      "text/markdown": [
       "<br>These are routes that have **at least 25% of their trips take no more than an additional 40 min** compared to a car (up to 15 routes) are shown.<br>Within each route group, routes are sorted in descending order by % competitive trips and # trips below the additional time cut-off."
      ],
      "text/plain": [
       "<IPython.core.display.Markdown object>"
      ]
     },
     "metadata": {},
     "output_type": "display_data"
    },
    {
     "data": {
      "text/html": [
       "\n",
       "<div id=\"altair-viz-931caf0815a249a29d3430f3f5e7f50c\"></div>\n",
       "<script type=\"text/javascript\">\n",
       "  var VEGA_DEBUG = (typeof VEGA_DEBUG == \"undefined\") ? {} : VEGA_DEBUG;\n",
       "  (function(spec, embedOpt){\n",
       "    let outputDiv = document.currentScript.previousElementSibling;\n",
       "    if (outputDiv.id !== \"altair-viz-931caf0815a249a29d3430f3f5e7f50c\") {\n",
       "      outputDiv = document.getElementById(\"altair-viz-931caf0815a249a29d3430f3f5e7f50c\");\n",
       "    }\n",
       "    const paths = {\n",
       "      \"vega\": \"https://cdn.jsdelivr.net/npm//vega@5?noext\",\n",
       "      \"vega-lib\": \"https://cdn.jsdelivr.net/npm//vega-lib?noext\",\n",
       "      \"vega-lite\": \"https://cdn.jsdelivr.net/npm//vega-lite@4.17.0?noext\",\n",
       "      \"vega-embed\": \"https://cdn.jsdelivr.net/npm//vega-embed@6?noext\",\n",
       "    };\n",
       "\n",
       "    function maybeLoadScript(lib, version) {\n",
       "      var key = `${lib.replace(\"-\", \"\")}_version`;\n",
       "      return (VEGA_DEBUG[key] == version) ?\n",
       "        Promise.resolve(paths[lib]) :\n",
       "        new Promise(function(resolve, reject) {\n",
       "          var s = document.createElement('script');\n",
       "          document.getElementsByTagName(\"head\")[0].appendChild(s);\n",
       "          s.async = true;\n",
       "          s.onload = () => {\n",
       "            VEGA_DEBUG[key] = version;\n",
       "            return resolve(paths[lib]);\n",
       "          };\n",
       "          s.onerror = () => reject(`Error loading script: ${paths[lib]}`);\n",
       "          s.src = paths[lib];\n",
       "        });\n",
       "    }\n",
       "\n",
       "    function showError(err) {\n",
       "      outputDiv.innerHTML = `<div class=\"error\" style=\"color:red;\">${err}</div>`;\n",
       "      throw err;\n",
       "    }\n",
       "\n",
       "    function displayChart(vegaEmbed) {\n",
       "      vegaEmbed(outputDiv, spec, embedOpt)\n",
       "        .catch(err => showError(`Javascript Error: ${err.message}<br>This usually means there's a typo in your chart specification. See the javascript console for the full traceback.`));\n",
       "    }\n",
       "\n",
       "    if(typeof define === \"function\" && define.amd) {\n",
       "      requirejs.config({paths});\n",
       "      require([\"vega-embed\"], displayChart, err => showError(`Error loading script: ${err.message}`));\n",
       "    } else {\n",
       "      maybeLoadScript(\"vega\", \"5\")\n",
       "        .then(() => maybeLoadScript(\"vega-lite\", \"4.17.0\"))\n",
       "        .then(() => maybeLoadScript(\"vega-embed\", \"6\"))\n",
       "        .catch(showError)\n",
       "        .then(() => displayChart(vegaEmbed));\n",
       "    }\n",
       "  })({\"config\": {\"view\": {\"continuousWidth\": 400, \"continuousHeight\": 300, \"stroke\": null}, \"facet\": {\"spacing\": 0}}, \"data\": {\"name\": \"data-ec6f1a0828b186081c77b759986deba5\"}, \"facet\": {\"column\": {\"field\": \"route_id\", \"sort\": [\"822\"], \"title\": \"Route ID\", \"type\": \"nominal\"}}, \"spec\": {\"layer\": [{\"mark\": \"rule\", \"encoding\": {\"color\": {\"value\": \"black\"}, \"y\": {\"field\": \"cutoff\", \"type\": \"quantitative\"}}, \"selection\": {\"selector003\": {\"type\": \"interval\", \"bind\": \"scales\", \"encodings\": [\"x\", \"y\"]}}}, {\"mark\": {\"type\": \"point\", \"opacity\": 0.65, \"size\": 12, \"strokeWidth\": 1.1}, \"encoding\": {\"color\": {\"field\": \"time_of_day\", \"scale\": {\"range\": [\"#136C97\", \"#E16B26\", \"#F6BF16\", \"#00896B\", \"#7790A3\", \"#5B559C\"]}, \"sort\": [\"AM Peak\", \"Midday\", \"PM Peak\", \"Owl Service\"], \"title\": \"Time of Day\", \"type\": \"nominal\"}, \"tooltip\": [{\"field\": \"route_id\", \"type\": \"nominal\"}, {\"field\": \"trip_id\", \"type\": \"nominal\"}, {\"field\": \"service_hours\", \"type\": \"quantitative\"}, {\"field\": \"car_duration_hours\", \"type\": \"quantitative\"}, {\"field\": \"bus_multiplier\", \"type\": \"quantitative\"}, {\"field\": \"bus_difference\", \"type\": \"quantitative\"}, {\"field\": \"num_trips\", \"type\": \"quantitative\"}, {\"field\": \"num_competitive\", \"type\": \"quantitative\"}, {\"field\": \"pct_trips_competitive\", \"type\": \"quantitative\"}, {\"field\": \"p25\", \"type\": \"quantitative\"}, {\"field\": \"p50\", \"type\": \"quantitative\"}, {\"field\": \"p75\", \"type\": \"quantitative\"}], \"x\": {\"axis\": {\"grid\": false, \"labels\": false, \"ticks\": true, \"values\": [0]}, \"field\": \"jitter\", \"scale\": {}, \"title\": null, \"type\": \"quantitative\"}, \"y\": {\"field\": \"bus_multiplier\", \"scale\": {\"domain\": [-0.25, 2.5]}, \"title\": \"Ratio of Bus to Car Travel Time\", \"type\": \"quantitative\"}}, \"transform\": [{\"calculate\": \"sqrt(-2*log(random()))*cos(2*PI*random())\", \"as\": \"jitter\"}], \"width\": 50}, {\"layer\": [{\"mark\": {\"type\": \"point\", \"opacity\": 0.6, \"size\": 20, \"strokeWidth\": 1.3}, \"encoding\": {\"color\": {\"value\": \"#323434\"}, \"y\": {\"field\": \"bus_multiplier\", \"type\": \"quantitative\"}}, \"transform\": [{\"filter\": \"(datum.p50_trip === 1)\"}]}, {\"mark\": {\"type\": \"text\", \"align\": \"center\", \"baseline\": \"middle\"}, \"encoding\": {\"color\": {\"value\": \"black\"}, \"text\": {\"field\": \"pct_trips_competitive\", \"format\": \".0%\", \"type\": \"quantitative\"}, \"tooltip\": [{\"field\": \"route_id\", \"type\": \"nominal\"}, {\"field\": \"trip_id\", \"type\": \"nominal\"}, {\"field\": \"service_hours\", \"type\": \"quantitative\"}, {\"field\": \"car_duration_hours\", \"type\": \"quantitative\"}, {\"field\": \"bus_multiplier\", \"type\": \"quantitative\"}, {\"field\": \"bus_difference\", \"type\": \"quantitative\"}, {\"field\": \"num_trips\", \"type\": \"quantitative\"}, {\"field\": \"num_competitive\", \"type\": \"quantitative\"}, {\"field\": \"pct_trips_competitive\", \"type\": \"quantitative\"}, {\"field\": \"p25\", \"type\": \"quantitative\"}, {\"field\": \"p50\", \"type\": \"quantitative\"}, {\"field\": \"p75\", \"type\": \"quantitative\"}], \"x\": {\"value\": 30}, \"y\": {\"value\": 15}}, \"transform\": [{\"calculate\": \"sqrt(-2*log(random()))*cos(2*PI*random())\", \"as\": \"jitter\"}, {\"filter\": \"(datum.fastest_trip === 1)\"}]}]}]}, \"resolve\": {\"scale\": {\"y\": \"shared\"}}, \"title\": \"Ratio of Bus to Car Travel Time\", \"$schema\": \"https://vega.github.io/schema/vega-lite/v4.17.0.json\", \"datasets\": {\"data-ec6f1a0828b186081c77b759986deba5\": [{\"calitp_itp_id\": 42, \"trip_key\": -3175372383375127757, \"trip_id\": \"t_1194487_b_23002_tn_0\", \"shape_id\": \"p_179049\", \"route_id\": \"822\", \"service_hours\": 1.83, \"trip_first_departure_ts\": 33300, \"trip_last_arrival_ts\": 39900, \"departure_hour\": 9, \"time_of_day\": \"AM Peak\", \"p25\": 1.92, \"p50\": 1.92, \"p75\": 1.92, \"p50_trip\": 0, \"fastest_trip\": 1, \"car_duration_hours\": 1.36, \"competitive_route\": 1, \"bus_multiplier\": 1.35, \"bus_difference\": 28.2, \"num_trips\": 5, \"num_competitive\": 5, \"pct_trips_competitive\": 1.0, \"bus_difference_spread\": 10.2, \"route_group\": \"long\", \"max_trip_hrs\": 2.0, \"max_trip_route_group\": 2.55, \"name\": \"Blue Lake Rancheria\", \"caltrans_district\": \"01 - Eureka\", \"drmt_organization_name\": null, \"cutoff2\": 40, \"cutoff\": 2}, {\"calitp_itp_id\": 42, \"trip_key\": -802452632623895397, \"trip_id\": \"t_1194480_b_23002_tn_0\", \"shape_id\": \"p_179043\", \"route_id\": \"822\", \"service_hours\": 1.92, \"trip_first_departure_ts\": 62400, \"trip_last_arrival_ts\": 69300, \"departure_hour\": 17, \"time_of_day\": \"PM Peak\", \"p25\": 1.92, \"p50\": 1.92, \"p75\": 1.92, \"p50_trip\": 1, \"fastest_trip\": 0, \"car_duration_hours\": 1.36, \"competitive_route\": 1, \"bus_multiplier\": 1.41, \"bus_difference\": 33.6, \"num_trips\": 5, \"num_competitive\": 5, \"pct_trips_competitive\": 1.0, \"bus_difference_spread\": 10.2, \"route_group\": \"long\", \"max_trip_hrs\": 2.0, \"max_trip_route_group\": 2.55, \"name\": \"Blue Lake Rancheria\", \"caltrans_district\": \"01 - Eureka\", \"drmt_organization_name\": null, \"cutoff2\": 40, \"cutoff\": 2}, {\"calitp_itp_id\": 42, \"trip_key\": 7242940967973078295, \"trip_id\": \"t_1194478_b_23002_tn_0\", \"shape_id\": \"p_179043\", \"route_id\": \"822\", \"service_hours\": 1.92, \"trip_first_departure_ts\": 24360, \"trip_last_arrival_ts\": 31260, \"departure_hour\": 6, \"time_of_day\": \"Owl Service\", \"p25\": 1.92, \"p50\": 1.92, \"p75\": 1.92, \"p50_trip\": 1, \"fastest_trip\": 0, \"car_duration_hours\": 1.36, \"competitive_route\": 1, \"bus_multiplier\": 1.41, \"bus_difference\": 33.6, \"num_trips\": 5, \"num_competitive\": 5, \"pct_trips_competitive\": 1.0, \"bus_difference_spread\": 10.2, \"route_group\": \"long\", \"max_trip_hrs\": 2.0, \"max_trip_route_group\": 2.55, \"name\": \"Blue Lake Rancheria\", \"caltrans_district\": \"01 - Eureka\", \"drmt_organization_name\": null, \"cutoff2\": 40, \"cutoff\": 2}, {\"calitp_itp_id\": 42, \"trip_key\": -5381631097348447121, \"trip_id\": \"t_1194477_b_23002_tn_0\", \"shape_id\": \"p_179043\", \"route_id\": \"822\", \"service_hours\": 1.92, \"trip_first_departure_ts\": 40800, \"trip_last_arrival_ts\": 47700, \"departure_hour\": 11, \"time_of_day\": \"Midday\", \"p25\": 1.92, \"p50\": 1.92, \"p75\": 1.92, \"p50_trip\": 1, \"fastest_trip\": 0, \"car_duration_hours\": 1.36, \"competitive_route\": 1, \"bus_multiplier\": 1.41, \"bus_difference\": 33.6, \"num_trips\": 5, \"num_competitive\": 5, \"pct_trips_competitive\": 1.0, \"bus_difference_spread\": 10.2, \"route_group\": \"long\", \"max_trip_hrs\": 2.0, \"max_trip_route_group\": 2.55, \"name\": \"Blue Lake Rancheria\", \"caltrans_district\": \"01 - Eureka\", \"drmt_organization_name\": null, \"cutoff2\": 40, \"cutoff\": 2}, {\"calitp_itp_id\": 42, \"trip_key\": 1678998890025832350, \"trip_id\": \"t_1194483_b_23002_tn_0\", \"shape_id\": \"p_179044\", \"route_id\": \"822\", \"service_hours\": 2.0, \"trip_first_departure_ts\": 54300, \"trip_last_arrival_ts\": 61500, \"departure_hour\": 15, \"time_of_day\": \"Midday\", \"p25\": 1.92, \"p50\": 1.92, \"p75\": 1.92, \"p50_trip\": 0, \"fastest_trip\": 0, \"car_duration_hours\": 1.36, \"competitive_route\": 1, \"bus_multiplier\": 1.47, \"bus_difference\": 38.4, \"num_trips\": 5, \"num_competitive\": 5, \"pct_trips_competitive\": 1.0, \"bus_difference_spread\": 10.2, \"route_group\": \"long\", \"max_trip_hrs\": 2.0, \"max_trip_route_group\": 2.55, \"name\": \"Blue Lake Rancheria\", \"caltrans_district\": \"01 - Eureka\", \"drmt_organization_name\": null, \"cutoff2\": 40, \"cutoff\": 2}]}}, {\"mode\": \"vega-lite\"});\n",
       "</script>"
      ],
      "text/plain": [
       "alt.FacetChart(...)"
      ]
     },
     "metadata": {},
     "output_type": "display_data"
    },
    {
     "data": {
      "text/html": [
       "\n",
       "<div id=\"altair-viz-1bf61b55ce4c471fb7544f66c7e55007\"></div>\n",
       "<script type=\"text/javascript\">\n",
       "  var VEGA_DEBUG = (typeof VEGA_DEBUG == \"undefined\") ? {} : VEGA_DEBUG;\n",
       "  (function(spec, embedOpt){\n",
       "    let outputDiv = document.currentScript.previousElementSibling;\n",
       "    if (outputDiv.id !== \"altair-viz-1bf61b55ce4c471fb7544f66c7e55007\") {\n",
       "      outputDiv = document.getElementById(\"altair-viz-1bf61b55ce4c471fb7544f66c7e55007\");\n",
       "    }\n",
       "    const paths = {\n",
       "      \"vega\": \"https://cdn.jsdelivr.net/npm//vega@5?noext\",\n",
       "      \"vega-lib\": \"https://cdn.jsdelivr.net/npm//vega-lib?noext\",\n",
       "      \"vega-lite\": \"https://cdn.jsdelivr.net/npm//vega-lite@4.17.0?noext\",\n",
       "      \"vega-embed\": \"https://cdn.jsdelivr.net/npm//vega-embed@6?noext\",\n",
       "    };\n",
       "\n",
       "    function maybeLoadScript(lib, version) {\n",
       "      var key = `${lib.replace(\"-\", \"\")}_version`;\n",
       "      return (VEGA_DEBUG[key] == version) ?\n",
       "        Promise.resolve(paths[lib]) :\n",
       "        new Promise(function(resolve, reject) {\n",
       "          var s = document.createElement('script');\n",
       "          document.getElementsByTagName(\"head\")[0].appendChild(s);\n",
       "          s.async = true;\n",
       "          s.onload = () => {\n",
       "            VEGA_DEBUG[key] = version;\n",
       "            return resolve(paths[lib]);\n",
       "          };\n",
       "          s.onerror = () => reject(`Error loading script: ${paths[lib]}`);\n",
       "          s.src = paths[lib];\n",
       "        });\n",
       "    }\n",
       "\n",
       "    function showError(err) {\n",
       "      outputDiv.innerHTML = `<div class=\"error\" style=\"color:red;\">${err}</div>`;\n",
       "      throw err;\n",
       "    }\n",
       "\n",
       "    function displayChart(vegaEmbed) {\n",
       "      vegaEmbed(outputDiv, spec, embedOpt)\n",
       "        .catch(err => showError(`Javascript Error: ${err.message}<br>This usually means there's a typo in your chart specification. See the javascript console for the full traceback.`));\n",
       "    }\n",
       "\n",
       "    if(typeof define === \"function\" && define.amd) {\n",
       "      requirejs.config({paths});\n",
       "      require([\"vega-embed\"], displayChart, err => showError(`Error loading script: ${err.message}`));\n",
       "    } else {\n",
       "      maybeLoadScript(\"vega\", \"5\")\n",
       "        .then(() => maybeLoadScript(\"vega-lite\", \"4.17.0\"))\n",
       "        .then(() => maybeLoadScript(\"vega-embed\", \"6\"))\n",
       "        .catch(showError)\n",
       "        .then(() => displayChart(vegaEmbed));\n",
       "    }\n",
       "  })({\"config\": {\"view\": {\"continuousWidth\": 400, \"continuousHeight\": 300, \"stroke\": null}, \"facet\": {\"spacing\": 0}}, \"data\": {\"name\": \"data-31bf56bddf68adf3f438a4392dad8132\"}, \"facet\": {\"column\": {\"field\": \"route_id\", \"sort\": [\"822\"], \"title\": \"Route ID\", \"type\": \"nominal\"}}, \"spec\": {\"layer\": [{\"mark\": \"rule\", \"encoding\": {\"color\": {\"value\": \"black\"}, \"y\": {\"field\": \"cutoff\", \"type\": \"quantitative\"}}, \"selection\": {\"selector004\": {\"type\": \"interval\", \"bind\": \"scales\", \"encodings\": [\"x\", \"y\"]}}}, {\"mark\": {\"type\": \"rule\", \"strokeDash\": [3, 3]}, \"encoding\": {\"color\": {\"value\": \"#323434\"}, \"y\": {\"field\": \"cutoff2\", \"type\": \"quantitative\"}}}, {\"mark\": {\"type\": \"point\", \"opacity\": 0.65, \"size\": 12, \"strokeWidth\": 1.1}, \"encoding\": {\"color\": {\"field\": \"time_of_day\", \"scale\": {\"range\": [\"#136C97\", \"#E16B26\", \"#F6BF16\", \"#00896B\", \"#7790A3\", \"#5B559C\"]}, \"sort\": [\"AM Peak\", \"Midday\", \"PM Peak\", \"Owl Service\"], \"title\": \"Time of Day\", \"type\": \"nominal\"}, \"tooltip\": [{\"field\": \"route_id\", \"type\": \"nominal\"}, {\"field\": \"trip_id\", \"type\": \"nominal\"}, {\"field\": \"service_hours\", \"type\": \"quantitative\"}, {\"field\": \"car_duration_hours\", \"type\": \"quantitative\"}, {\"field\": \"bus_multiplier\", \"type\": \"quantitative\"}, {\"field\": \"bus_difference\", \"type\": \"quantitative\"}, {\"field\": \"num_trips\", \"type\": \"quantitative\"}, {\"field\": \"num_competitive\", \"type\": \"quantitative\"}, {\"field\": \"pct_trips_competitive\", \"type\": \"quantitative\"}, {\"field\": \"p25\", \"type\": \"quantitative\"}, {\"field\": \"p50\", \"type\": \"quantitative\"}, {\"field\": \"p75\", \"type\": \"quantitative\"}], \"x\": {\"axis\": {\"grid\": false, \"labels\": false, \"ticks\": true, \"values\": [0]}, \"field\": \"jitter\", \"scale\": {}, \"title\": null, \"type\": \"quantitative\"}, \"y\": {\"field\": \"bus_difference\", \"scale\": {\"domain\": [-5, 45.0]}, \"title\": \"Difference in Bus to Car Travel Time (min)\", \"type\": \"quantitative\"}}, \"transform\": [{\"calculate\": \"sqrt(-2*log(random()))*cos(2*PI*random())\", \"as\": \"jitter\"}], \"width\": 50}, {\"layer\": [{\"mark\": {\"type\": \"point\", \"opacity\": 0.6, \"size\": 20, \"strokeWidth\": 1.3}, \"encoding\": {\"color\": {\"value\": \"#323434\"}, \"y\": {\"field\": \"bus_difference\", \"type\": \"quantitative\"}}, \"transform\": [{\"filter\": \"(datum.p50_trip === 1)\"}]}, {\"mark\": {\"type\": \"text\", \"align\": \"center\", \"baseline\": \"middle\"}, \"encoding\": {\"color\": {\"value\": \"black\"}, \"text\": {\"field\": \"pct_trips_competitive\", \"format\": \".0%\", \"type\": \"quantitative\"}, \"tooltip\": [{\"field\": \"route_id\", \"type\": \"nominal\"}, {\"field\": \"trip_id\", \"type\": \"nominal\"}, {\"field\": \"service_hours\", \"type\": \"quantitative\"}, {\"field\": \"car_duration_hours\", \"type\": \"quantitative\"}, {\"field\": \"bus_multiplier\", \"type\": \"quantitative\"}, {\"field\": \"bus_difference\", \"type\": \"quantitative\"}, {\"field\": \"num_trips\", \"type\": \"quantitative\"}, {\"field\": \"num_competitive\", \"type\": \"quantitative\"}, {\"field\": \"pct_trips_competitive\", \"type\": \"quantitative\"}, {\"field\": \"p25\", \"type\": \"quantitative\"}, {\"field\": \"p50\", \"type\": \"quantitative\"}, {\"field\": \"p75\", \"type\": \"quantitative\"}], \"x\": {\"value\": 30}, \"y\": {\"value\": 15}}, \"transform\": [{\"calculate\": \"sqrt(-2*log(random()))*cos(2*PI*random())\", \"as\": \"jitter\"}, {\"filter\": \"(datum.fastest_trip === 1)\"}]}]}]}, \"resolve\": {\"scale\": {\"y\": \"shared\"}}, \"title\": \"Difference in Bus to Car Travel Time (min)\", \"$schema\": \"https://vega.github.io/schema/vega-lite/v4.17.0.json\", \"datasets\": {\"data-31bf56bddf68adf3f438a4392dad8132\": [{\"calitp_itp_id\": 42, \"trip_key\": -3175372383375127757, \"trip_id\": \"t_1194487_b_23002_tn_0\", \"shape_id\": \"p_179049\", \"route_id\": \"822\", \"service_hours\": 1.83, \"trip_first_departure_ts\": 33300, \"trip_last_arrival_ts\": 39900, \"departure_hour\": 9, \"time_of_day\": \"AM Peak\", \"p25\": 1.92, \"p50\": 1.92, \"p75\": 1.92, \"p50_trip\": 0, \"fastest_trip\": 1, \"car_duration_hours\": 1.36, \"competitive_route\": 1, \"bus_multiplier\": 1.35, \"bus_difference\": 28.2, \"num_trips\": 5, \"num_competitive\": 5, \"pct_trips_competitive\": 1.0, \"bus_difference_spread\": 10.2, \"route_group\": \"long\", \"max_trip_hrs\": 2.0, \"max_trip_route_group\": 2.55, \"name\": \"Blue Lake Rancheria\", \"caltrans_district\": \"01 - Eureka\", \"drmt_organization_name\": null, \"cutoff2\": 40, \"cutoff\": 0}, {\"calitp_itp_id\": 42, \"trip_key\": -802452632623895397, \"trip_id\": \"t_1194480_b_23002_tn_0\", \"shape_id\": \"p_179043\", \"route_id\": \"822\", \"service_hours\": 1.92, \"trip_first_departure_ts\": 62400, \"trip_last_arrival_ts\": 69300, \"departure_hour\": 17, \"time_of_day\": \"PM Peak\", \"p25\": 1.92, \"p50\": 1.92, \"p75\": 1.92, \"p50_trip\": 1, \"fastest_trip\": 0, \"car_duration_hours\": 1.36, \"competitive_route\": 1, \"bus_multiplier\": 1.41, \"bus_difference\": 33.6, \"num_trips\": 5, \"num_competitive\": 5, \"pct_trips_competitive\": 1.0, \"bus_difference_spread\": 10.2, \"route_group\": \"long\", \"max_trip_hrs\": 2.0, \"max_trip_route_group\": 2.55, \"name\": \"Blue Lake Rancheria\", \"caltrans_district\": \"01 - Eureka\", \"drmt_organization_name\": null, \"cutoff2\": 40, \"cutoff\": 0}, {\"calitp_itp_id\": 42, \"trip_key\": 7242940967973078295, \"trip_id\": \"t_1194478_b_23002_tn_0\", \"shape_id\": \"p_179043\", \"route_id\": \"822\", \"service_hours\": 1.92, \"trip_first_departure_ts\": 24360, \"trip_last_arrival_ts\": 31260, \"departure_hour\": 6, \"time_of_day\": \"Owl Service\", \"p25\": 1.92, \"p50\": 1.92, \"p75\": 1.92, \"p50_trip\": 1, \"fastest_trip\": 0, \"car_duration_hours\": 1.36, \"competitive_route\": 1, \"bus_multiplier\": 1.41, \"bus_difference\": 33.6, \"num_trips\": 5, \"num_competitive\": 5, \"pct_trips_competitive\": 1.0, \"bus_difference_spread\": 10.2, \"route_group\": \"long\", \"max_trip_hrs\": 2.0, \"max_trip_route_group\": 2.55, \"name\": \"Blue Lake Rancheria\", \"caltrans_district\": \"01 - Eureka\", \"drmt_organization_name\": null, \"cutoff2\": 40, \"cutoff\": 0}, {\"calitp_itp_id\": 42, \"trip_key\": -5381631097348447121, \"trip_id\": \"t_1194477_b_23002_tn_0\", \"shape_id\": \"p_179043\", \"route_id\": \"822\", \"service_hours\": 1.92, \"trip_first_departure_ts\": 40800, \"trip_last_arrival_ts\": 47700, \"departure_hour\": 11, \"time_of_day\": \"Midday\", \"p25\": 1.92, \"p50\": 1.92, \"p75\": 1.92, \"p50_trip\": 1, \"fastest_trip\": 0, \"car_duration_hours\": 1.36, \"competitive_route\": 1, \"bus_multiplier\": 1.41, \"bus_difference\": 33.6, \"num_trips\": 5, \"num_competitive\": 5, \"pct_trips_competitive\": 1.0, \"bus_difference_spread\": 10.2, \"route_group\": \"long\", \"max_trip_hrs\": 2.0, \"max_trip_route_group\": 2.55, \"name\": \"Blue Lake Rancheria\", \"caltrans_district\": \"01 - Eureka\", \"drmt_organization_name\": null, \"cutoff2\": 40, \"cutoff\": 0}, {\"calitp_itp_id\": 42, \"trip_key\": 1678998890025832350, \"trip_id\": \"t_1194483_b_23002_tn_0\", \"shape_id\": \"p_179044\", \"route_id\": \"822\", \"service_hours\": 2.0, \"trip_first_departure_ts\": 54300, \"trip_last_arrival_ts\": 61500, \"departure_hour\": 15, \"time_of_day\": \"Midday\", \"p25\": 1.92, \"p50\": 1.92, \"p75\": 1.92, \"p50_trip\": 0, \"fastest_trip\": 0, \"car_duration_hours\": 1.36, \"competitive_route\": 1, \"bus_multiplier\": 1.47, \"bus_difference\": 38.4, \"num_trips\": 5, \"num_competitive\": 5, \"pct_trips_competitive\": 1.0, \"bus_difference_spread\": 10.2, \"route_group\": \"long\", \"max_trip_hrs\": 2.0, \"max_trip_route_group\": 2.55, \"name\": \"Blue Lake Rancheria\", \"caltrans_district\": \"01 - Eureka\", \"drmt_organization_name\": null, \"cutoff2\": 40, \"cutoff\": 0}]}}, {\"mode\": \"vega-lite\"});\n",
       "</script>"
      ],
      "text/plain": [
       "alt.FacetChart(...)"
      ]
     },
     "metadata": {},
     "output_type": "display_data"
    }
   ],
   "source": [
    "route_group = \"long\"\n",
    "try:\n",
    "    display_charts_for_route_group(df, route_group)\n",
    "except:\n",
    "    print(\"No routes meet this criteria.\")"
   ]
  },
  {
   "cell_type": "markdown",
   "id": "ace75b5f-0442-4fbe-aebd-6c3a13ae13a7",
   "metadata": {
    "papermill": {
     "duration": 0.019998,
     "end_time": "2022-05-09T19:27:11.600807",
     "exception": false,
     "start_time": "2022-05-09T19:27:11.580809",
     "status": "completed"
    },
    "tags": []
   },
   "source": [
    "### GTFS Real-Time Speedmaps"
   ]
  },
  {
   "cell_type": "code",
   "execution_count": 16,
   "id": "a0a114a1-e975-4027-9daf-50029f5ef59f",
   "metadata": {
    "execution": {
     "iopub.execute_input": "2022-05-09T19:27:11.646924Z",
     "iopub.status.busy": "2022-05-09T19:27:11.646570Z",
     "iopub.status.idle": "2022-05-09T19:27:11.709739Z",
     "shell.execute_reply": "2022-05-09T19:27:11.708440Z"
    },
    "jupyter": {
     "source_hidden": true
    },
    "papermill": {
     "duration": 0.087498,
     "end_time": "2022-05-09T19:27:11.713019",
     "exception": false,
     "start_time": "2022-05-09T19:27:11.625521",
     "status": "completed"
    },
    "tags": [
     "remove_input"
    ]
   },
   "outputs": [
    {
     "data": {
      "text/html": [
       "No GTFS RT data available."
      ],
      "text/plain": [
       "<IPython.core.display.HTML object>"
      ]
     },
     "metadata": {},
     "output_type": "display_data"
    }
   ],
   "source": [
    "PORTFOLIO_SITE_YAML = \"../portfolio/analyses.yml\"\n",
    "\n",
    "# Grab list of ITP IDs with GTFS RT speedmaps\n",
    "rt_itp_id = deploy_portfolio_yaml.check_if_rt_data_available(PORTFOLIO_SITE_YAML)\n",
    "\n",
    "# Construct the URL \n",
    "RT_URL = (\"https://analysis.calitp.org/rt/\"\n",
    "          f\"district_{district_number}-{district_name}/\"\n",
    "          f\"speedmaps__itp_id_{itp_id}.html\"\n",
    "         ) \n",
    "\n",
    "if itp_id in rt_itp_id:\n",
    "    display(HTML(f'''<a href={RT_URL}>GTFS RT speedmaps here.</a>'''))\n",
    "\n",
    "else:\n",
    "    display(HTML(\"No GTFS RT data available.\"))"
   ]
  },
  {
   "cell_type": "code",
   "execution_count": null,
   "id": "5b680565-2230-4f2e-817c-718fad48d64c",
   "metadata": {
    "jupyter": {
     "source_hidden": true
    },
    "papermill": {
     "duration": 0.019087,
     "end_time": "2022-05-09T19:27:11.751936",
     "exception": false,
     "start_time": "2022-05-09T19:27:11.732849",
     "status": "completed"
    },
    "tags": [
     "remove_input"
    ]
   },
   "outputs": [],
   "source": []
  }
 ],
 "metadata": {
  "kernelspec": {
   "display_name": "Python 3 (ipykernel)",
   "language": "python",
   "name": "python3"
  },
  "language_info": {
   "codemirror_mode": {
    "name": "ipython",
    "version": 3
   },
   "file_extension": ".py",
   "mimetype": "text/x-python",
   "name": "python",
   "nbconvert_exporter": "python",
   "pygments_lexer": "ipython3",
   "version": "3.9.12"
  },
  "papermill": {
   "default_parameters": {},
   "duration": 27.821505,
   "end_time": "2022-05-09T19:27:13.609405",
   "environment_variables": {},
   "exception": null,
   "input_path": "bus_service_increase/competitive-parallel-routes.ipynb",
   "output_path": "portfolio/parallel_corridors/district_01-eureka/competitive-parallel-routes__itp_id_42.ipynb",
   "parameters": {
    "district": "01 - Eureka",
    "itp_id": 42
   },
   "start_time": "2022-05-09T19:26:45.787900",
   "version": "2.3.4"
  }
 },
 "nbformat": 4,
 "nbformat_minor": 5
}