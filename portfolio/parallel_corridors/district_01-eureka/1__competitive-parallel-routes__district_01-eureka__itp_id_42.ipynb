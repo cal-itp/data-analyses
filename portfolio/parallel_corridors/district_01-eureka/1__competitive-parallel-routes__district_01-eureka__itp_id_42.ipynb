{
 "cells": [
  {
   "cell_type": "code",
   "execution_count": 1,
   "id": "95d00857-6a20-4529-a519-2cc7182928a9",
   "metadata": {
    "execution": {
     "iopub.execute_input": "2022-05-11T21:44:30.392113Z",
     "iopub.status.busy": "2022-05-11T21:44:30.391760Z",
     "iopub.status.idle": "2022-05-11T21:44:38.566403Z",
     "shell.execute_reply": "2022-05-11T21:44:38.565499Z"
    },
    "jupyter": {
     "source_hidden": true
    },
    "papermill": {
     "duration": 8.191105,
     "end_time": "2022-05-11T21:44:38.569091",
     "exception": false,
     "start_time": "2022-05-11T21:44:30.377986",
     "status": "completed"
    },
    "tags": [
     "remove_input"
    ]
   },
   "outputs": [],
   "source": [
    "%%capture\n",
    "import warnings\n",
    "warnings.filterwarnings('ignore')\n",
    "\n",
    "import altair as alt\n",
    "import calitp.magics\n",
    "import geopandas as gpd\n",
    "import intake\n",
    "import pandas as pd\n",
    "\n",
    "from IPython.display import display, Markdown, HTML\n",
    "\n",
    "import parallel_corridors_utils\n",
    "import deploy_portfolio_yaml\n",
    "from shared_utils import styleguide, geography_utils\n",
    "from make_stripplot_data import diff_cutoffs\n",
    "\n",
    "catalog = intake.open_catalog(\"./*.yml\")\n",
    "alt.renderers.enable(\"html\")"
   ]
  },
  {
   "cell_type": "code",
   "execution_count": 2,
   "id": "8af2a0c1-f3da-408d-9bea-11d9fbf8695d",
   "metadata": {
    "execution": {
     "iopub.execute_input": "2022-05-11T21:44:38.597712Z",
     "iopub.status.busy": "2022-05-11T21:44:38.597445Z",
     "iopub.status.idle": "2022-05-11T21:44:38.601233Z",
     "shell.execute_reply": "2022-05-11T21:44:38.600327Z"
    },
    "jupyter": {
     "source_hidden": true
    },
    "papermill": {
     "duration": 0.022434,
     "end_time": "2022-05-11T21:44:38.603532",
     "exception": false,
     "start_time": "2022-05-11T21:44:38.581098",
     "status": "completed"
    },
    "tags": [
     "parameters",
     "remove_input"
    ]
   },
   "outputs": [],
   "source": [
    "# parameters cell\n",
    "itp_id = 182"
   ]
  },
  {
   "cell_type": "code",
   "execution_count": 3,
   "id": "6a7a8d43",
   "metadata": {
    "execution": {
     "iopub.execute_input": "2022-05-11T21:44:38.628487Z",
     "iopub.status.busy": "2022-05-11T21:44:38.628196Z",
     "iopub.status.idle": "2022-05-11T21:44:38.631874Z",
     "shell.execute_reply": "2022-05-11T21:44:38.631108Z"
    },
    "jupyter": {
     "source_hidden": true
    },
    "papermill": {
     "duration": 0.01847,
     "end_time": "2022-05-11T21:44:38.633689",
     "exception": false,
     "start_time": "2022-05-11T21:44:38.615219",
     "status": "completed"
    },
    "tags": [
     "injected-parameters",
     "remove_input"
    ]
   },
   "outputs": [],
   "source": [
    "# Parameters\n",
    "district = \"01 - Eureka\"\n",
    "itp_id = 42\n"
   ]
  },
  {
   "cell_type": "code",
   "execution_count": 4,
   "id": "9582aaf4-79ff-412a-b248-8d8d693ebd4f",
   "metadata": {
    "execution": {
     "iopub.execute_input": "2022-05-11T21:44:38.661335Z",
     "iopub.status.busy": "2022-05-11T21:44:38.660759Z",
     "iopub.status.idle": "2022-05-11T21:44:39.874174Z",
     "shell.execute_reply": "2022-05-11T21:44:39.873268Z"
    },
    "jupyter": {
     "source_hidden": true
    },
    "papermill": {
     "duration": 1.228771,
     "end_time": "2022-05-11T21:44:39.876321",
     "exception": false,
     "start_time": "2022-05-11T21:44:38.647550",
     "status": "completed"
    },
    "tags": [
     "remove_input"
    ]
   },
   "outputs": [],
   "source": [
    "df = catalog.competitive_route_variability.read()\n",
    "\n",
    "df = (df[(df.calitp_itp_id == itp_id) & \n",
    "         (df.route_group.notna())]\n",
    "      .rename(columns = {\"route_name_used\": \"route_name\"})\n",
    "      .reset_index(drop=True)\n",
    "     )\n",
    "\n",
    "if itp_id == 182:\n",
    "    df = df.assign(\n",
    "        route_id = df.route_id.str.replace('-13153', '').astype(int)\n",
    "    )"
   ]
  },
  {
   "cell_type": "code",
   "execution_count": 5,
   "id": "33ac4b06-f647-4dce-a625-8f2c1b37cc60",
   "metadata": {
    "execution": {
     "iopub.execute_input": "2022-05-11T21:44:39.903829Z",
     "iopub.status.busy": "2022-05-11T21:44:39.903013Z",
     "iopub.status.idle": "2022-05-11T21:44:39.910765Z",
     "shell.execute_reply": "2022-05-11T21:44:39.910158Z"
    },
    "jupyter": {
     "source_hidden": true
    },
    "papermill": {
     "duration": 0.023732,
     "end_time": "2022-05-11T21:44:39.912514",
     "exception": false,
     "start_time": "2022-05-11T21:44:39.888782",
     "status": "completed"
    },
    "tags": [
     "remove_input"
    ]
   },
   "outputs": [],
   "source": [
    "%%capture_parameters\n",
    "operator_name = df.name.iloc[0]\n",
    "district_number = f\"{df.caltrans_district.iloc[0].split('-')[0].strip()}\"\n",
    "district_name = f\"{df.caltrans_district.iloc[0].split('-')[1].strip().lower().replace(' ', '-')}\"\n",
    "\n",
    "itp_id, operator_name, district_number, district_name"
   ]
  },
  {
   "cell_type": "markdown",
   "id": "65bc6f5c-8348-42ee-b2dd-52057c406852",
   "metadata": {
    "papermill": {
     "duration": 0.011954,
     "end_time": "2022-05-11T21:44:39.938437",
     "exception": false,
     "start_time": "2022-05-11T21:44:39.926483",
     "status": "completed"
    },
    "tags": []
   },
   "source": [
    "# Blue Lake Rancheria (ITP ID: 42)"
   ]
  },
  {
   "cell_type": "code",
   "execution_count": 6,
   "id": "a689c1ab-2c6c-4831-8d64-897f5986f571",
   "metadata": {
    "execution": {
     "iopub.execute_input": "2022-05-11T21:44:39.964987Z",
     "iopub.status.busy": "2022-05-11T21:44:39.964087Z",
     "iopub.status.idle": "2022-05-11T21:44:39.969989Z",
     "shell.execute_reply": "2022-05-11T21:44:39.969494Z"
    },
    "jupyter": {
     "source_hidden": true
    },
    "papermill": {
     "duration": 0.021428,
     "end_time": "2022-05-11T21:44:39.971631",
     "exception": false,
     "start_time": "2022-05-11T21:44:39.950203",
     "status": "completed"
    },
    "tags": [
     "remove_input"
    ]
   },
   "outputs": [
    {
     "data": {
      "text/html": [
       "<h1>Competitive & Parallel Routes</h1>"
      ],
      "text/plain": [
       "<IPython.core.display.HTML object>"
      ]
     },
     "metadata": {},
     "output_type": "display_data"
    }
   ],
   "source": [
    "display(HTML(\"<h1>Competitive & Parallel Routes</h1>\")) "
   ]
  },
  {
   "cell_type": "code",
   "execution_count": 7,
   "id": "2cb4d8d5-4760-40e4-85b1-cb833d8bb648",
   "metadata": {
    "execution": {
     "iopub.execute_input": "2022-05-11T21:44:40.001749Z",
     "iopub.status.busy": "2022-05-11T21:44:40.000913Z",
     "iopub.status.idle": "2022-05-11T21:44:50.168093Z",
     "shell.execute_reply": "2022-05-11T21:44:50.167114Z"
    },
    "jupyter": {
     "source_hidden": true
    },
    "papermill": {
     "duration": 10.186431,
     "end_time": "2022-05-11T21:44:50.170579",
     "exception": false,
     "start_time": "2022-05-11T21:44:39.984148",
     "status": "completed"
    },
    "tags": [
     "remove_input"
    ]
   },
   "outputs": [],
   "source": [
    "# Grab parameters for narrative text - clean up formatting here \n",
    "district = df.caltrans_district.iloc[0]\n",
    "formatted_date = pd.to_datetime(parallel_corridors_utils.SELECTED_DATE).strftime('%m-%d-%Y')\n",
    "\n",
    "PCT_COMPETITIVE_THRESHOLD = 0.75\n",
    "PCT_TRIPS_BELOW_CUTOFF = 0.50\n",
    "\n",
    "stats = parallel_corridors_utils.operator_parallel_competitive_stats(\n",
    "    itp_id, PCT_COMPETITIVE_THRESHOLD, PCT_TRIPS_BELOW_CUTOFF)\n",
    "\n",
    "pct_parallel = round(stats['parallel_routes'] / stats['num_routes'] * 100, 1 )\n",
    "pct_competitive =  round(stats['competitive_routes'] / stats['num_routes'] * 100, 1 )\n",
    "pct_viable =  round(stats['viable_competitive_routes'] / stats['num_routes'] * 100, 1 )"
   ]
  },
  {
   "cell_type": "code",
   "execution_count": 8,
   "id": "8bf30c8f-6aa5-47bb-82ae-a906732e81fd",
   "metadata": {
    "execution": {
     "iopub.execute_input": "2022-05-11T21:44:50.201347Z",
     "iopub.status.busy": "2022-05-11T21:44:50.201040Z",
     "iopub.status.idle": "2022-05-11T21:44:50.232411Z",
     "shell.execute_reply": "2022-05-11T21:44:50.231498Z"
    },
    "jupyter": {
     "source_hidden": true
    },
    "papermill": {
     "duration": 0.048263,
     "end_time": "2022-05-11T21:44:50.234512",
     "exception": false,
     "start_time": "2022-05-11T21:44:50.186249",
     "status": "completed"
    },
    "tags": [
     "remove_input"
    ]
   },
   "outputs": [],
   "source": [
    "# Display a table of route-level stats for each route_group\n",
    "# Displaying route_name makes chart too crowded\n",
    "\n",
    "# Get route stats (for entire df)\n",
    "route_stats = parallel_corridors_utils.competitive_route_level_stats(df)\n",
    "    \n",
    "def style_route_stats(df, top15_routes):\n",
    "    df = df[df.route_id.isin(top15_routes)]\n",
    "    \n",
    "    # Rename columns for display\n",
    "    rename_cols = {\n",
    "        \"route_id\": \"Route ID\",\n",
    "        \"route_name\": \"Route Name\",\n",
    "        \"route_group\": \"Route Group\",\n",
    "        \"num_trips\": \"# trips\",\n",
    "        \"daily_avg_freq\": \"Daily Avg Frequency (trips per hr)\",\n",
    "        \"pm_peak_freq\": \"PM Peak Avg Frequency (trips per hr)\",\n",
    "        \"percentiles\": \"25th, 50th, 75th ptile (hrs)\",\n",
    "    }\n",
    "    \n",
    "    # Style it\n",
    "    drop_cols = [\n",
    "        \"calitp_itp_id\", \"below_cutoff\", \"route_group\", \n",
    "        \"pct_trips_competitive\", \"pct_below_cutoff\",\n",
    "        \"p25\", \"p50\", \"p75\",\n",
    "    ]\n",
    "    \n",
    "    df_style = (df.sort_values(\n",
    "        [\"pct_trips_competitive\", \"below_cutoff\", \n",
    "        \"pct_below_cutoff\", \"route_id\"], \n",
    "        ascending=[False, False, False, True])\n",
    "           .drop(columns = drop_cols)\n",
    "           .rename(columns = rename_cols)\n",
    "           .style.format({\n",
    "               #'% trips within 2x car travel': '{:,.1%}', \n",
    "               'Daily Avg Frequency (trips per hr)': '{:,.3}',\n",
    "               'PM Peak Avg Frequency (trips per hr)': '{:,.3}',\n",
    "           })\n",
    "           .hide(axis=\"index\")\n",
    "           .to_html()\n",
    "          )\n",
    "    \n",
    "    display(HTML(\"<h4>Route Stats</h4>\"))\n",
    "    display(HTML(df_style))"
   ]
  },
  {
   "cell_type": "markdown",
   "id": "ab667928-5274-4490-82d9-4c39293209a4",
   "metadata": {
    "papermill": {
     "duration": 0.014374,
     "end_time": "2022-05-11T21:44:50.261407",
     "exception": false,
     "start_time": "2022-05-11T21:44:50.247033",
     "status": "completed"
    },
    "tags": []
   },
   "source": [
    "## Quick Stats"
   ]
  },
  {
   "cell_type": "code",
   "execution_count": 9,
   "id": "0416509d-dc62-4165-b62e-64f8b26e8b8e",
   "metadata": {
    "execution": {
     "iopub.execute_input": "2022-05-11T21:44:50.292486Z",
     "iopub.status.busy": "2022-05-11T21:44:50.292166Z",
     "iopub.status.idle": "2022-05-11T21:44:50.298592Z",
     "shell.execute_reply": "2022-05-11T21:44:50.297814Z"
    },
    "jupyter": {
     "source_hidden": true
    },
    "papermill": {
     "duration": 0.026765,
     "end_time": "2022-05-11T21:44:50.301021",
     "exception": false,
     "start_time": "2022-05-11T21:44:50.274256",
     "status": "completed"
    },
    "tags": [
     "remove_input"
    ]
   },
   "outputs": [
    {
     "data": {
      "text/markdown": [
       "**Bus routes in service: 10**<br>**Parallel routes** to State Highway Network (SHN): **7 routes (70.0%)**<br>**Competitive routes** against car travel (within 2x car travel time): **3 routes (30.0%)**<br>**Viable competitive routes** against car travel (within 2x car travel time and within 20, 30, or 40 min cut-off): **2 routes (20.0%)**"
      ],
      "text/plain": [
       "<IPython.core.display.Markdown object>"
      ]
     },
     "metadata": {},
     "output_type": "display_data"
    }
   ],
   "source": [
    "display(\n",
    "    Markdown(\n",
    "        f\"**Bus routes in service: {stats['num_routes']}**\"\n",
    "        \"<br>**Parallel routes** to State Highway Network (SHN): \"\n",
    "        f\"**{stats['parallel_routes']} routes ({pct_parallel}%)**\"\n",
    "        \"<br>**Competitive routes** against car travel (within 2x car travel time): \"\n",
    "        f\"**{stats['competitive_routes']} routes ({pct_competitive}%)**\"\n",
    "        \"<br>**Viable competitive routes** against car travel \"\n",
    "        \"(within 2x car travel time and within 20, 30, or 40 min cut-off): \"\n",
    "        f\"**{stats['viable_competitive_routes']} routes ({pct_viable}%)**\"\n",
    "    )\n",
    ")"
   ]
  },
  {
   "cell_type": "code",
   "execution_count": 10,
   "id": "f9d6ab58-f0ee-460c-b6de-657490e1f386",
   "metadata": {
    "execution": {
     "iopub.execute_input": "2022-05-11T21:44:50.330941Z",
     "iopub.status.busy": "2022-05-11T21:44:50.330403Z",
     "iopub.status.idle": "2022-05-11T21:44:50.340390Z",
     "shell.execute_reply": "2022-05-11T21:44:50.339431Z"
    },
    "jupyter": {
     "source_hidden": true
    },
    "papermill": {
     "duration": 0.027975,
     "end_time": "2022-05-11T21:44:50.342400",
     "exception": false,
     "start_time": "2022-05-11T21:44:50.314425",
     "status": "completed"
    },
    "tags": [
     "remove_input"
    ]
   },
   "outputs": [],
   "source": [
    "def set_yaxis_range(df, y_col):\n",
    "    Y_MIN = df[y_col].min()\n",
    "    Y_MAX = df[y_col].max()\n",
    "    \n",
    "    return Y_MIN, Y_MAX\n",
    "\n",
    "# Rather than set it according to the operator, which can vary,\n",
    "# just use set thresholds for each group\n",
    "def top15_routes(df, route_group):\n",
    "    # grab top 15 routes where majority of trips are below that cut-off \n",
    "    # but show 15 max, otherwise, show less, since these won't be as interesting to operators\n",
    "    df2 = (df[(df.route_group==route_group) &\n",
    "              (df.pct_below_cutoff >= PCT_TRIPS_BELOW_CUTOFF)]\n",
    "           .sort_values([\"calitp_itp_id\", \"below_cutoff\", \n",
    "                         \"pct_below_cutoff\", \"route_id\"],\n",
    "                        ascending = [True, False, False, True]\n",
    "                       )\n",
    "           .drop_duplicates(subset=[\"calitp_itp_id\", \"route_id\"])\n",
    "          ).head(15)\n",
    "    \n",
    "    return list(df2.route_id)"
   ]
  },
  {
   "cell_type": "code",
   "execution_count": 11,
   "id": "cf36d559-3349-4144-8086-8ac9ce937a5a",
   "metadata": {
    "execution": {
     "iopub.execute_input": "2022-05-11T21:44:50.370450Z",
     "iopub.status.busy": "2022-05-11T21:44:50.370168Z",
     "iopub.status.idle": "2022-05-11T21:44:50.391932Z",
     "shell.execute_reply": "2022-05-11T21:44:50.391076Z"
    },
    "jupyter": {
     "source_hidden": true
    },
    "papermill": {
     "duration": 0.03845,
     "end_time": "2022-05-11T21:44:50.393822",
     "exception": false,
     "start_time": "2022-05-11T21:44:50.355372",
     "status": "completed"
    },
    "tags": [
     "remove_input"
    ]
   },
   "outputs": [],
   "source": [
    "def caption_with_cutoff(cutoff):\n",
    "    sentence = (\n",
    "        f\"<br>These are routes that have **at least {int(PCT_TRIPS_BELOW_CUTOFF*100)}% \"\n",
    "        \"of their trips take no more than an \"\n",
    "        f\"additional {cutoff} min** compared to a car \"\n",
    "        \"(up to 15 routes) are shown.\"\n",
    "        \"<br>Within each route group, routes are sorted in descending order \"\n",
    "        \"by % competitive trips and # trips below the additional time cut-off.\"\n",
    "    )\n",
    "    return sentence\n",
    "\n",
    "CAPTIONS_DICT = {\n",
    "    \"short\": caption_with_cutoff(diff_cutoffs['short']),\n",
    "    \"medium\": caption_with_cutoff(diff_cutoffs['medium']),\n",
    "    \"long\": caption_with_cutoff(diff_cutoffs['long']),\n",
    "}"
   ]
  },
  {
   "cell_type": "code",
   "execution_count": 12,
   "id": "e4306d58-6944-47e9-afef-5d5b524c751f",
   "metadata": {
    "execution": {
     "iopub.execute_input": "2022-05-11T21:44:50.426376Z",
     "iopub.status.busy": "2022-05-11T21:44:50.425587Z",
     "iopub.status.idle": "2022-05-11T21:44:50.432309Z",
     "shell.execute_reply": "2022-05-11T21:44:50.431469Z"
    },
    "jupyter": {
     "source_hidden": true
    },
    "papermill": {
     "duration": 0.023673,
     "end_time": "2022-05-11T21:44:50.434055",
     "exception": false,
     "start_time": "2022-05-11T21:44:50.410382",
     "status": "completed"
    },
    "tags": [
     "remove_input"
    ]
   },
   "outputs": [],
   "source": [
    "def setup_charts(df, PCT_COMPETITIVE_THRESHOLD, route_group):\n",
    "    # Set up df for charting (cut-off at some threshold to show most competitive routes)\n",
    "    plot_me = (df[df.pct_trips_competitive > PCT_COMPETITIVE_THRESHOLD]\n",
    "           .drop(columns = \"geometry\")\n",
    "    )\n",
    "    \n",
    "    # Set y-ranges to be the same across route_groups, \n",
    "    # otherwise charts fluctuate too much, even within operator\n",
    "    y_col1 = \"bus_multiplier\"\n",
    "    Y_MIN1, Y_MAX1 = set_yaxis_range(plot_me, y_col1)\n",
    "\n",
    "    y_col2 = \"bus_difference\"\n",
    "    Y_MIN2, Y_MAX2 = set_yaxis_range(plot_me, y_col2)\n",
    "    \n",
    "    # Grab the routes to plot\n",
    "    subset_routes = top15_routes(plot_me, route_group)\n",
    "        \n",
    "    # Display charts\n",
    "    multiplier_chart = parallel_corridors_utils.make_stripplot(\n",
    "        plot_me[plot_me.route_id.isin(subset_routes)], \n",
    "        y_col1, Y_MIN = Y_MIN1, Y_MAX = Y_MAX1\n",
    "    )\n",
    "    \n",
    "    difference_chart = parallel_corridors_utils.make_stripplot(\n",
    "        plot_me[plot_me.route_id.isin(subset_routes)], \n",
    "        y_col2, Y_MIN = Y_MIN2, Y_MAX = Y_MAX2\n",
    "    )\n",
    "    \n",
    "    return subset_routes, multiplier_chart, difference_chart            "
   ]
  },
  {
   "cell_type": "code",
   "execution_count": 13,
   "id": "33a710e8-504c-4942-aa75-ff69f216956e",
   "metadata": {
    "execution": {
     "iopub.execute_input": "2022-05-11T21:44:50.464586Z",
     "iopub.status.busy": "2022-05-11T21:44:50.463656Z",
     "iopub.status.idle": "2022-05-11T21:44:50.469416Z",
     "shell.execute_reply": "2022-05-11T21:44:50.468807Z"
    },
    "jupyter": {
     "source_hidden": true
    },
    "papermill": {
     "duration": 0.023772,
     "end_time": "2022-05-11T21:44:50.471118",
     "exception": false,
     "start_time": "2022-05-11T21:44:50.447346",
     "status": "completed"
    },
    "tags": [
     "remove_input"
    ]
   },
   "outputs": [],
   "source": [
    "def display_charts_for_route_group(df, route_group):    \n",
    "    subset_routes, mult, diff  = setup_charts(df, PCT_COMPETITIVE_THRESHOLD, route_group)\n",
    "\n",
    "    if len(subset_routes) > 0:\n",
    "        display(Markdown(f\"{CAPTIONS_DICT[route_group]}\"))\n",
    "\n",
    "        display(mult)\n",
    "        display(diff)\n",
    "        \n",
    "        # Display route stats for just plotted routes\n",
    "        style_route_stats(route_stats, subset_routes)"
   ]
  },
  {
   "cell_type": "markdown",
   "id": "525f9b38-072b-46d1-96a8-1aa4b038357c",
   "metadata": {
    "papermill": {
     "duration": 0.013851,
     "end_time": "2022-05-11T21:44:50.506604",
     "exception": false,
     "start_time": "2022-05-11T21:44:50.492753",
     "status": "completed"
    },
    "tags": []
   },
   "source": [
    "## Viable Competitive Routes\n",
    "### Short Routes (< 1 hr)"
   ]
  },
  {
   "cell_type": "code",
   "execution_count": 14,
   "id": "57f7084c-2cf7-45c6-ba08-1609e0bd6ca5",
   "metadata": {
    "execution": {
     "iopub.execute_input": "2022-05-11T21:44:50.536940Z",
     "iopub.status.busy": "2022-05-11T21:44:50.536313Z",
     "iopub.status.idle": "2022-05-11T21:44:50.795755Z",
     "shell.execute_reply": "2022-05-11T21:44:50.795212Z"
    },
    "jupyter": {
     "source_hidden": true
    },
    "papermill": {
     "duration": 0.277548,
     "end_time": "2022-05-11T21:44:50.797667",
     "exception": false,
     "start_time": "2022-05-11T21:44:50.520119",
     "status": "completed"
    },
    "tags": [
     "remove_input"
    ]
   },
   "outputs": [
    {
     "data": {
      "text/markdown": [
       "<br>These are routes that have **at least 50% of their trips take no more than an additional 20 min** compared to a car (up to 15 routes) are shown.<br>Within each route group, routes are sorted in descending order by % competitive trips and # trips below the additional time cut-off."
      ],
      "text/plain": [
       "<IPython.core.display.Markdown object>"
      ]
     },
     "metadata": {},
     "output_type": "display_data"
    },
    {
     "data": {
      "text/html": [
       "\n",
       "<div id=\"altair-viz-8a77e9cd2c8a42a680cdd5c6f3313b90\"></div>\n",
       "<script type=\"text/javascript\">\n",
       "  var VEGA_DEBUG = (typeof VEGA_DEBUG == \"undefined\") ? {} : VEGA_DEBUG;\n",
       "  (function(spec, embedOpt){\n",
       "    let outputDiv = document.currentScript.previousElementSibling;\n",
       "    if (outputDiv.id !== \"altair-viz-8a77e9cd2c8a42a680cdd5c6f3313b90\") {\n",
       "      outputDiv = document.getElementById(\"altair-viz-8a77e9cd2c8a42a680cdd5c6f3313b90\");\n",
       "    }\n",
       "    const paths = {\n",
       "      \"vega\": \"https://cdn.jsdelivr.net/npm//vega@5?noext\",\n",
       "      \"vega-lib\": \"https://cdn.jsdelivr.net/npm//vega-lib?noext\",\n",
       "      \"vega-lite\": \"https://cdn.jsdelivr.net/npm//vega-lite@4.17.0?noext\",\n",
       "      \"vega-embed\": \"https://cdn.jsdelivr.net/npm//vega-embed@6?noext\",\n",
       "    };\n",
       "\n",
       "    function maybeLoadScript(lib, version) {\n",
       "      var key = `${lib.replace(\"-\", \"\")}_version`;\n",
       "      return (VEGA_DEBUG[key] == version) ?\n",
       "        Promise.resolve(paths[lib]) :\n",
       "        new Promise(function(resolve, reject) {\n",
       "          var s = document.createElement('script');\n",
       "          document.getElementsByTagName(\"head\")[0].appendChild(s);\n",
       "          s.async = true;\n",
       "          s.onload = () => {\n",
       "            VEGA_DEBUG[key] = version;\n",
       "            return resolve(paths[lib]);\n",
       "          };\n",
       "          s.onerror = () => reject(`Error loading script: ${paths[lib]}`);\n",
       "          s.src = paths[lib];\n",
       "        });\n",
       "    }\n",
       "\n",
       "    function showError(err) {\n",
       "      outputDiv.innerHTML = `<div class=\"error\" style=\"color:red;\">${err}</div>`;\n",
       "      throw err;\n",
       "    }\n",
       "\n",
       "    function displayChart(vegaEmbed) {\n",
       "      vegaEmbed(outputDiv, spec, embedOpt)\n",
       "        .catch(err => showError(`Javascript Error: ${err.message}<br>This usually means there's a typo in your chart specification. See the javascript console for the full traceback.`));\n",
       "    }\n",
       "\n",
       "    if(typeof define === \"function\" && define.amd) {\n",
       "      requirejs.config({paths});\n",
       "      require([\"vega-embed\"], displayChart, err => showError(`Error loading script: ${err.message}`));\n",
       "    } else {\n",
       "      maybeLoadScript(\"vega\", \"5\")\n",
       "        .then(() => maybeLoadScript(\"vega-lite\", \"4.17.0\"))\n",
       "        .then(() => maybeLoadScript(\"vega-embed\", \"6\"))\n",
       "        .catch(showError)\n",
       "        .then(() => displayChart(vegaEmbed));\n",
       "    }\n",
       "  })({\"config\": {\"view\": {\"continuousWidth\": 400, \"continuousHeight\": 300, \"stroke\": null}, \"facet\": {\"spacing\": 0}}, \"data\": {\"name\": \"data-58576cecc4bf56a157b9f98246f297e5\"}, \"facet\": {\"column\": {\"field\": \"route_id\", \"sort\": [\"15\"], \"title\": \"Route ID\", \"type\": \"nominal\"}}, \"spec\": {\"layer\": [{\"mark\": \"rule\", \"encoding\": {\"color\": {\"value\": \"black\"}, \"y\": {\"field\": \"cutoff\", \"type\": \"quantitative\"}}, \"selection\": {\"selector001\": {\"type\": \"interval\", \"bind\": \"scales\", \"encodings\": [\"x\", \"y\"]}}}, {\"mark\": {\"type\": \"point\", \"opacity\": 0.65, \"size\": 12, \"strokeWidth\": 1.1}, \"encoding\": {\"color\": {\"field\": \"time_of_day\", \"scale\": {\"range\": [\"#136C97\", \"#E16B26\", \"#F6BF16\", \"#00896B\", \"#7790A3\", \"#5B559C\"]}, \"sort\": [\"AM Peak\", \"Midday\", \"PM Peak\", \"Owl Service\"], \"title\": \"Time of Day\", \"type\": \"nominal\"}, \"tooltip\": [{\"field\": \"route_id\", \"type\": \"nominal\"}, {\"field\": \"route_name\", \"type\": \"nominal\"}, {\"field\": \"trip_id\", \"type\": \"nominal\"}, {\"field\": \"service_hours\", \"type\": \"quantitative\"}, {\"field\": \"car_duration_hours\", \"type\": \"quantitative\"}, {\"field\": \"bus_multiplier\", \"type\": \"quantitative\"}, {\"field\": \"bus_difference\", \"type\": \"quantitative\"}, {\"field\": \"num_trips\", \"type\": \"quantitative\"}, {\"field\": \"num_competitive\", \"type\": \"quantitative\"}, {\"field\": \"pct_trips_competitive\", \"type\": \"quantitative\"}, {\"field\": \"p25\", \"type\": \"quantitative\"}, {\"field\": \"p50\", \"type\": \"quantitative\"}, {\"field\": \"p75\", \"type\": \"quantitative\"}], \"x\": {\"axis\": {\"grid\": false, \"labels\": false, \"ticks\": true, \"values\": [0]}, \"field\": \"jitter\", \"scale\": {}, \"title\": null, \"type\": \"quantitative\"}, \"y\": {\"field\": \"bus_multiplier\", \"scale\": {\"domain\": [-0.25, 3.0]}, \"title\": \"Ratio of Bus to Car Travel Time\", \"type\": \"quantitative\"}}, \"transform\": [{\"calculate\": \"sqrt(-2*log(random()))*cos(2*PI*random())\", \"as\": \"jitter\"}], \"width\": 50}, {\"layer\": [{\"mark\": {\"type\": \"point\", \"opacity\": 0.6, \"size\": 20, \"strokeWidth\": 1.3}, \"encoding\": {\"color\": {\"value\": \"#323434\"}, \"y\": {\"field\": \"bus_multiplier\", \"type\": \"quantitative\"}}, \"transform\": [{\"filter\": \"(datum.p50_trip === 1)\"}]}, {\"mark\": {\"type\": \"text\", \"align\": \"center\", \"baseline\": \"middle\"}, \"encoding\": {\"color\": {\"value\": \"black\"}, \"text\": {\"field\": \"pct_trips_competitive\", \"format\": \".0%\", \"type\": \"quantitative\"}, \"tooltip\": [{\"field\": \"route_id\", \"type\": \"nominal\"}, {\"field\": \"route_name\", \"type\": \"nominal\"}, {\"field\": \"trip_id\", \"type\": \"nominal\"}, {\"field\": \"service_hours\", \"type\": \"quantitative\"}, {\"field\": \"car_duration_hours\", \"type\": \"quantitative\"}, {\"field\": \"bus_multiplier\", \"type\": \"quantitative\"}, {\"field\": \"bus_difference\", \"type\": \"quantitative\"}, {\"field\": \"num_trips\", \"type\": \"quantitative\"}, {\"field\": \"num_competitive\", \"type\": \"quantitative\"}, {\"field\": \"pct_trips_competitive\", \"type\": \"quantitative\"}, {\"field\": \"p25\", \"type\": \"quantitative\"}, {\"field\": \"p50\", \"type\": \"quantitative\"}, {\"field\": \"p75\", \"type\": \"quantitative\"}], \"x\": {\"value\": 30}, \"y\": {\"value\": 15}}, \"transform\": [{\"calculate\": \"sqrt(-2*log(random()))*cos(2*PI*random())\", \"as\": \"jitter\"}, {\"filter\": \"(datum.fastest_trip === 1)\"}]}]}]}, \"resolve\": {\"scale\": {\"y\": \"shared\"}}, \"title\": \"Ratio of Bus to Car Travel Time\", \"$schema\": \"https://vega.github.io/schema/vega-lite/v4.17.0.json\", \"datasets\": {\"data-58576cecc4bf56a157b9f98246f297e5\": [{\"calitp_itp_id\": 42, \"trip_key\": 3212989715963820775, \"trip_id\": \"t_2006242_b_33489_tn_5\", \"shape_id\": \"p_547\", \"route_id\": \"15\", \"service_hours\": 0.85, \"trip_first_departure_ts\": 39900, \"trip_last_arrival_ts\": 42960, \"departure_hour\": 11, \"time_of_day\": \"Midday\", \"p25\": 0.85, \"p50\": 0.85, \"p75\": 0.85, \"p50_trip\": 1, \"fastest_trip\": 0, \"car_duration_hours\": 0.76, \"competitive_route\": 1, \"bus_multiplier\": 1.12, \"bus_difference\": 5.4, \"num_trips\": 12, \"num_competitive\": 12, \"pct_trips_competitive\": 1.0, \"bus_difference_spread\": 0.0, \"route_group\": \"short\", \"max_trip_hrs\": 0.85, \"max_trip_route_group\": 0.85, \"below_cutoff\": 12, \"pct_below_cutoff\": 1.0, \"name\": \"Blue Lake Rancheria\", \"caltrans_district\": \"01 - Eureka\", \"drmt_organization_name\": null, \"route_name\": \"The Orange Route Is Operated By Arcata And Mad River Transit System. It Serves Downtown Arcata, Sunny Brae, Greenview Market, Humboldt State University, Valley West Shopping Center, And Alliance Rd.\", \"cutoff2\": 20, \"cutoff\": 2}, {\"calitp_itp_id\": 42, \"trip_key\": -4503928084773304761, \"trip_id\": \"t_2006242_b_33489_tn_6\", \"shape_id\": \"p_547\", \"route_id\": \"15\", \"service_hours\": 0.85, \"trip_first_departure_ts\": 43500, \"trip_last_arrival_ts\": 46560, \"departure_hour\": 12, \"time_of_day\": \"Midday\", \"p25\": 0.85, \"p50\": 0.85, \"p75\": 0.85, \"p50_trip\": 1, \"fastest_trip\": 0, \"car_duration_hours\": 0.76, \"competitive_route\": 1, \"bus_multiplier\": 1.12, \"bus_difference\": 5.4, \"num_trips\": 12, \"num_competitive\": 12, \"pct_trips_competitive\": 1.0, \"bus_difference_spread\": 0.0, \"route_group\": \"short\", \"max_trip_hrs\": 0.85, \"max_trip_route_group\": 0.85, \"below_cutoff\": 12, \"pct_below_cutoff\": 1.0, \"name\": \"Blue Lake Rancheria\", \"caltrans_district\": \"01 - Eureka\", \"drmt_organization_name\": null, \"route_name\": \"The Orange Route Is Operated By Arcata And Mad River Transit System. It Serves Downtown Arcata, Sunny Brae, Greenview Market, Humboldt State University, Valley West Shopping Center, And Alliance Rd.\", \"cutoff2\": 20, \"cutoff\": 2}, {\"calitp_itp_id\": 42, \"trip_key\": -4246535928303558891, \"trip_id\": \"t_2006242_b_33489_tn_10\", \"shape_id\": \"p_547\", \"route_id\": \"15\", \"service_hours\": 0.85, \"trip_first_departure_ts\": 57900, \"trip_last_arrival_ts\": 60960, \"departure_hour\": 16, \"time_of_day\": \"Midday\", \"p25\": 0.85, \"p50\": 0.85, \"p75\": 0.85, \"p50_trip\": 1, \"fastest_trip\": 0, \"car_duration_hours\": 0.76, \"competitive_route\": 1, \"bus_multiplier\": 1.12, \"bus_difference\": 5.4, \"num_trips\": 12, \"num_competitive\": 12, \"pct_trips_competitive\": 1.0, \"bus_difference_spread\": 0.0, \"route_group\": \"short\", \"max_trip_hrs\": 0.85, \"max_trip_route_group\": 0.85, \"below_cutoff\": 12, \"pct_below_cutoff\": 1.0, \"name\": \"Blue Lake Rancheria\", \"caltrans_district\": \"01 - Eureka\", \"drmt_organization_name\": null, \"route_name\": \"The Orange Route Is Operated By Arcata And Mad River Transit System. It Serves Downtown Arcata, Sunny Brae, Greenview Market, Humboldt State University, Valley West Shopping Center, And Alliance Rd.\", \"cutoff2\": 20, \"cutoff\": 2}, {\"calitp_itp_id\": 42, \"trip_key\": -5346033386940711380, \"trip_id\": \"t_2006242_b_33489_tn_8\", \"shape_id\": \"p_547\", \"route_id\": \"15\", \"service_hours\": 0.85, \"trip_first_departure_ts\": 50700, \"trip_last_arrival_ts\": 53760, \"departure_hour\": 14, \"time_of_day\": \"Midday\", \"p25\": 0.85, \"p50\": 0.85, \"p75\": 0.85, \"p50_trip\": 1, \"fastest_trip\": 0, \"car_duration_hours\": 0.76, \"competitive_route\": 1, \"bus_multiplier\": 1.12, \"bus_difference\": 5.4, \"num_trips\": 12, \"num_competitive\": 12, \"pct_trips_competitive\": 1.0, \"bus_difference_spread\": 0.0, \"route_group\": \"short\", \"max_trip_hrs\": 0.85, \"max_trip_route_group\": 0.85, \"below_cutoff\": 12, \"pct_below_cutoff\": 1.0, \"name\": \"Blue Lake Rancheria\", \"caltrans_district\": \"01 - Eureka\", \"drmt_organization_name\": null, \"route_name\": \"The Orange Route Is Operated By Arcata And Mad River Transit System. It Serves Downtown Arcata, Sunny Brae, Greenview Market, Humboldt State University, Valley West Shopping Center, And Alliance Rd.\", \"cutoff2\": 20, \"cutoff\": 2}, {\"calitp_itp_id\": 42, \"trip_key\": 288197767091223608, \"trip_id\": \"t_2006242_b_33489_tn_4\", \"shape_id\": \"p_547\", \"route_id\": \"15\", \"service_hours\": 0.85, \"trip_first_departure_ts\": 36300, \"trip_last_arrival_ts\": 39360, \"departure_hour\": 10, \"time_of_day\": \"Midday\", \"p25\": 0.85, \"p50\": 0.85, \"p75\": 0.85, \"p50_trip\": 1, \"fastest_trip\": 0, \"car_duration_hours\": 0.76, \"competitive_route\": 1, \"bus_multiplier\": 1.12, \"bus_difference\": 5.4, \"num_trips\": 12, \"num_competitive\": 12, \"pct_trips_competitive\": 1.0, \"bus_difference_spread\": 0.0, \"route_group\": \"short\", \"max_trip_hrs\": 0.85, \"max_trip_route_group\": 0.85, \"below_cutoff\": 12, \"pct_below_cutoff\": 1.0, \"name\": \"Blue Lake Rancheria\", \"caltrans_district\": \"01 - Eureka\", \"drmt_organization_name\": null, \"route_name\": \"The Orange Route Is Operated By Arcata And Mad River Transit System. It Serves Downtown Arcata, Sunny Brae, Greenview Market, Humboldt State University, Valley West Shopping Center, And Alliance Rd.\", \"cutoff2\": 20, \"cutoff\": 2}, {\"calitp_itp_id\": 42, \"trip_key\": 7152056154056799848, \"trip_id\": \"t_2006242_b_33489_tn_3\", \"shape_id\": \"p_547\", \"route_id\": \"15\", \"service_hours\": 0.85, \"trip_first_departure_ts\": 32700, \"trip_last_arrival_ts\": 35760, \"departure_hour\": 9, \"time_of_day\": \"AM Peak\", \"p25\": 0.85, \"p50\": 0.85, \"p75\": 0.85, \"p50_trip\": 1, \"fastest_trip\": 0, \"car_duration_hours\": 0.76, \"competitive_route\": 1, \"bus_multiplier\": 1.12, \"bus_difference\": 5.4, \"num_trips\": 12, \"num_competitive\": 12, \"pct_trips_competitive\": 1.0, \"bus_difference_spread\": 0.0, \"route_group\": \"short\", \"max_trip_hrs\": 0.85, \"max_trip_route_group\": 0.85, \"below_cutoff\": 12, \"pct_below_cutoff\": 1.0, \"name\": \"Blue Lake Rancheria\", \"caltrans_district\": \"01 - Eureka\", \"drmt_organization_name\": null, \"route_name\": \"The Orange Route Is Operated By Arcata And Mad River Transit System. It Serves Downtown Arcata, Sunny Brae, Greenview Market, Humboldt State University, Valley West Shopping Center, And Alliance Rd.\", \"cutoff2\": 20, \"cutoff\": 2}, {\"calitp_itp_id\": 42, \"trip_key\": -2674696040307332955, \"trip_id\": \"t_2006242_b_33489_tn_1\", \"shape_id\": \"p_547\", \"route_id\": \"15\", \"service_hours\": 0.85, \"trip_first_departure_ts\": 25500, \"trip_last_arrival_ts\": 28560, \"departure_hour\": 7, \"time_of_day\": \"AM Peak\", \"p25\": 0.85, \"p50\": 0.85, \"p75\": 0.85, \"p50_trip\": 1, \"fastest_trip\": 0, \"car_duration_hours\": 0.76, \"competitive_route\": 1, \"bus_multiplier\": 1.12, \"bus_difference\": 5.4, \"num_trips\": 12, \"num_competitive\": 12, \"pct_trips_competitive\": 1.0, \"bus_difference_spread\": 0.0, \"route_group\": \"short\", \"max_trip_hrs\": 0.85, \"max_trip_route_group\": 0.85, \"below_cutoff\": 12, \"pct_below_cutoff\": 1.0, \"name\": \"Blue Lake Rancheria\", \"caltrans_district\": \"01 - Eureka\", \"drmt_organization_name\": null, \"route_name\": \"The Orange Route Is Operated By Arcata And Mad River Transit System. It Serves Downtown Arcata, Sunny Brae, Greenview Market, Humboldt State University, Valley West Shopping Center, And Alliance Rd.\", \"cutoff2\": 20, \"cutoff\": 2}, {\"calitp_itp_id\": 42, \"trip_key\": 3627932410057339867, \"trip_id\": \"t_2006242_b_33489_tn_12\", \"shape_id\": \"p_547\", \"route_id\": \"15\", \"service_hours\": 0.85, \"trip_first_departure_ts\": 65100, \"trip_last_arrival_ts\": 68160, \"departure_hour\": 18, \"time_of_day\": \"PM Peak\", \"p25\": 0.85, \"p50\": 0.85, \"p75\": 0.85, \"p50_trip\": 1, \"fastest_trip\": 1, \"car_duration_hours\": 0.76, \"competitive_route\": 1, \"bus_multiplier\": 1.12, \"bus_difference\": 5.4, \"num_trips\": 12, \"num_competitive\": 12, \"pct_trips_competitive\": 1.0, \"bus_difference_spread\": 0.0, \"route_group\": \"short\", \"max_trip_hrs\": 0.85, \"max_trip_route_group\": 0.85, \"below_cutoff\": 12, \"pct_below_cutoff\": 1.0, \"name\": \"Blue Lake Rancheria\", \"caltrans_district\": \"01 - Eureka\", \"drmt_organization_name\": null, \"route_name\": \"The Orange Route Is Operated By Arcata And Mad River Transit System. It Serves Downtown Arcata, Sunny Brae, Greenview Market, Humboldt State University, Valley West Shopping Center, And Alliance Rd.\", \"cutoff2\": 20, \"cutoff\": 2}, {\"calitp_itp_id\": 42, \"trip_key\": 5713358753953854643, \"trip_id\": \"t_2006242_b_33489_tn_7\", \"shape_id\": \"p_547\", \"route_id\": \"15\", \"service_hours\": 0.85, \"trip_first_departure_ts\": 47100, \"trip_last_arrival_ts\": 50160, \"departure_hour\": 13, \"time_of_day\": \"Midday\", \"p25\": 0.85, \"p50\": 0.85, \"p75\": 0.85, \"p50_trip\": 1, \"fastest_trip\": 0, \"car_duration_hours\": 0.76, \"competitive_route\": 1, \"bus_multiplier\": 1.12, \"bus_difference\": 5.4, \"num_trips\": 12, \"num_competitive\": 12, \"pct_trips_competitive\": 1.0, \"bus_difference_spread\": 0.0, \"route_group\": \"short\", \"max_trip_hrs\": 0.85, \"max_trip_route_group\": 0.85, \"below_cutoff\": 12, \"pct_below_cutoff\": 1.0, \"name\": \"Blue Lake Rancheria\", \"caltrans_district\": \"01 - Eureka\", \"drmt_organization_name\": null, \"route_name\": \"The Orange Route Is Operated By Arcata And Mad River Transit System. It Serves Downtown Arcata, Sunny Brae, Greenview Market, Humboldt State University, Valley West Shopping Center, And Alliance Rd.\", \"cutoff2\": 20, \"cutoff\": 2}, {\"calitp_itp_id\": 42, \"trip_key\": -6901584182200929758, \"trip_id\": \"t_2006242_b_33489_tn_2\", \"shape_id\": \"p_547\", \"route_id\": \"15\", \"service_hours\": 0.85, \"trip_first_departure_ts\": 29100, \"trip_last_arrival_ts\": 32160, \"departure_hour\": 8, \"time_of_day\": \"AM Peak\", \"p25\": 0.85, \"p50\": 0.85, \"p75\": 0.85, \"p50_trip\": 1, \"fastest_trip\": 0, \"car_duration_hours\": 0.76, \"competitive_route\": 1, \"bus_multiplier\": 1.12, \"bus_difference\": 5.4, \"num_trips\": 12, \"num_competitive\": 12, \"pct_trips_competitive\": 1.0, \"bus_difference_spread\": 0.0, \"route_group\": \"short\", \"max_trip_hrs\": 0.85, \"max_trip_route_group\": 0.85, \"below_cutoff\": 12, \"pct_below_cutoff\": 1.0, \"name\": \"Blue Lake Rancheria\", \"caltrans_district\": \"01 - Eureka\", \"drmt_organization_name\": null, \"route_name\": \"The Orange Route Is Operated By Arcata And Mad River Transit System. It Serves Downtown Arcata, Sunny Brae, Greenview Market, Humboldt State University, Valley West Shopping Center, And Alliance Rd.\", \"cutoff2\": 20, \"cutoff\": 2}, {\"calitp_itp_id\": 42, \"trip_key\": -1400242218070640529, \"trip_id\": \"t_2006242_b_33489_tn_9\", \"shape_id\": \"p_547\", \"route_id\": \"15\", \"service_hours\": 0.85, \"trip_first_departure_ts\": 54300, \"trip_last_arrival_ts\": 57360, \"departure_hour\": 15, \"time_of_day\": \"Midday\", \"p25\": 0.85, \"p50\": 0.85, \"p75\": 0.85, \"p50_trip\": 1, \"fastest_trip\": 0, \"car_duration_hours\": 0.76, \"competitive_route\": 1, \"bus_multiplier\": 1.12, \"bus_difference\": 5.4, \"num_trips\": 12, \"num_competitive\": 12, \"pct_trips_competitive\": 1.0, \"bus_difference_spread\": 0.0, \"route_group\": \"short\", \"max_trip_hrs\": 0.85, \"max_trip_route_group\": 0.85, \"below_cutoff\": 12, \"pct_below_cutoff\": 1.0, \"name\": \"Blue Lake Rancheria\", \"caltrans_district\": \"01 - Eureka\", \"drmt_organization_name\": null, \"route_name\": \"The Orange Route Is Operated By Arcata And Mad River Transit System. It Serves Downtown Arcata, Sunny Brae, Greenview Market, Humboldt State University, Valley West Shopping Center, And Alliance Rd.\", \"cutoff2\": 20, \"cutoff\": 2}, {\"calitp_itp_id\": 42, \"trip_key\": 8949262043114527418, \"trip_id\": \"t_2006242_b_33489_tn_11\", \"shape_id\": \"p_547\", \"route_id\": \"15\", \"service_hours\": 0.85, \"trip_first_departure_ts\": 61500, \"trip_last_arrival_ts\": 64560, \"departure_hour\": 17, \"time_of_day\": \"PM Peak\", \"p25\": 0.85, \"p50\": 0.85, \"p75\": 0.85, \"p50_trip\": 1, \"fastest_trip\": 0, \"car_duration_hours\": 0.76, \"competitive_route\": 1, \"bus_multiplier\": 1.12, \"bus_difference\": 5.4, \"num_trips\": 12, \"num_competitive\": 12, \"pct_trips_competitive\": 1.0, \"bus_difference_spread\": 0.0, \"route_group\": \"short\", \"max_trip_hrs\": 0.85, \"max_trip_route_group\": 0.85, \"below_cutoff\": 12, \"pct_below_cutoff\": 1.0, \"name\": \"Blue Lake Rancheria\", \"caltrans_district\": \"01 - Eureka\", \"drmt_organization_name\": null, \"route_name\": \"The Orange Route Is Operated By Arcata And Mad River Transit System. It Serves Downtown Arcata, Sunny Brae, Greenview Market, Humboldt State University, Valley West Shopping Center, And Alliance Rd.\", \"cutoff2\": 20, \"cutoff\": 2}]}}, {\"mode\": \"vega-lite\"});\n",
       "</script>"
      ],
      "text/plain": [
       "alt.FacetChart(...)"
      ]
     },
     "metadata": {},
     "output_type": "display_data"
    },
    {
     "data": {
      "text/html": [
       "\n",
       "<div id=\"altair-viz-92b9d62bdabb42c3b13cd49809741211\"></div>\n",
       "<script type=\"text/javascript\">\n",
       "  var VEGA_DEBUG = (typeof VEGA_DEBUG == \"undefined\") ? {} : VEGA_DEBUG;\n",
       "  (function(spec, embedOpt){\n",
       "    let outputDiv = document.currentScript.previousElementSibling;\n",
       "    if (outputDiv.id !== \"altair-viz-92b9d62bdabb42c3b13cd49809741211\") {\n",
       "      outputDiv = document.getElementById(\"altair-viz-92b9d62bdabb42c3b13cd49809741211\");\n",
       "    }\n",
       "    const paths = {\n",
       "      \"vega\": \"https://cdn.jsdelivr.net/npm//vega@5?noext\",\n",
       "      \"vega-lib\": \"https://cdn.jsdelivr.net/npm//vega-lib?noext\",\n",
       "      \"vega-lite\": \"https://cdn.jsdelivr.net/npm//vega-lite@4.17.0?noext\",\n",
       "      \"vega-embed\": \"https://cdn.jsdelivr.net/npm//vega-embed@6?noext\",\n",
       "    };\n",
       "\n",
       "    function maybeLoadScript(lib, version) {\n",
       "      var key = `${lib.replace(\"-\", \"\")}_version`;\n",
       "      return (VEGA_DEBUG[key] == version) ?\n",
       "        Promise.resolve(paths[lib]) :\n",
       "        new Promise(function(resolve, reject) {\n",
       "          var s = document.createElement('script');\n",
       "          document.getElementsByTagName(\"head\")[0].appendChild(s);\n",
       "          s.async = true;\n",
       "          s.onload = () => {\n",
       "            VEGA_DEBUG[key] = version;\n",
       "            return resolve(paths[lib]);\n",
       "          };\n",
       "          s.onerror = () => reject(`Error loading script: ${paths[lib]}`);\n",
       "          s.src = paths[lib];\n",
       "        });\n",
       "    }\n",
       "\n",
       "    function showError(err) {\n",
       "      outputDiv.innerHTML = `<div class=\"error\" style=\"color:red;\">${err}</div>`;\n",
       "      throw err;\n",
       "    }\n",
       "\n",
       "    function displayChart(vegaEmbed) {\n",
       "      vegaEmbed(outputDiv, spec, embedOpt)\n",
       "        .catch(err => showError(`Javascript Error: ${err.message}<br>This usually means there's a typo in your chart specification. See the javascript console for the full traceback.`));\n",
       "    }\n",
       "\n",
       "    if(typeof define === \"function\" && define.amd) {\n",
       "      requirejs.config({paths});\n",
       "      require([\"vega-embed\"], displayChart, err => showError(`Error loading script: ${err.message}`));\n",
       "    } else {\n",
       "      maybeLoadScript(\"vega\", \"5\")\n",
       "        .then(() => maybeLoadScript(\"vega-lite\", \"4.17.0\"))\n",
       "        .then(() => maybeLoadScript(\"vega-embed\", \"6\"))\n",
       "        .catch(showError)\n",
       "        .then(() => displayChart(vegaEmbed));\n",
       "    }\n",
       "  })({\"config\": {\"view\": {\"continuousWidth\": 400, \"continuousHeight\": 300, \"stroke\": null}, \"facet\": {\"spacing\": 0}}, \"data\": {\"name\": \"data-257b1490195528d9f76c97fcfd888be3\"}, \"facet\": {\"column\": {\"field\": \"route_id\", \"sort\": [\"15\"], \"title\": \"Route ID\", \"type\": \"nominal\"}}, \"spec\": {\"layer\": [{\"mark\": \"rule\", \"encoding\": {\"color\": {\"value\": \"black\"}, \"y\": {\"field\": \"cutoff\", \"type\": \"quantitative\"}}, \"selection\": {\"selector002\": {\"type\": \"interval\", \"bind\": \"scales\", \"encodings\": [\"x\", \"y\"]}}}, {\"mark\": {\"type\": \"rule\", \"strokeDash\": [3, 3]}, \"encoding\": {\"color\": {\"value\": \"#323434\"}, \"y\": {\"field\": \"cutoff2\", \"type\": \"quantitative\"}}}, {\"mark\": {\"type\": \"point\", \"opacity\": 0.65, \"size\": 12, \"strokeWidth\": 1.1}, \"encoding\": {\"color\": {\"field\": \"time_of_day\", \"scale\": {\"range\": [\"#136C97\", \"#E16B26\", \"#F6BF16\", \"#00896B\", \"#7790A3\", \"#5B559C\"]}, \"sort\": [\"AM Peak\", \"Midday\", \"PM Peak\", \"Owl Service\"], \"title\": \"Time of Day\", \"type\": \"nominal\"}, \"tooltip\": [{\"field\": \"route_id\", \"type\": \"nominal\"}, {\"field\": \"route_name\", \"type\": \"nominal\"}, {\"field\": \"trip_id\", \"type\": \"nominal\"}, {\"field\": \"service_hours\", \"type\": \"quantitative\"}, {\"field\": \"car_duration_hours\", \"type\": \"quantitative\"}, {\"field\": \"bus_multiplier\", \"type\": \"quantitative\"}, {\"field\": \"bus_difference\", \"type\": \"quantitative\"}, {\"field\": \"num_trips\", \"type\": \"quantitative\"}, {\"field\": \"num_competitive\", \"type\": \"quantitative\"}, {\"field\": \"pct_trips_competitive\", \"type\": \"quantitative\"}, {\"field\": \"p25\", \"type\": \"quantitative\"}, {\"field\": \"p50\", \"type\": \"quantitative\"}, {\"field\": \"p75\", \"type\": \"quantitative\"}], \"x\": {\"axis\": {\"grid\": false, \"labels\": false, \"ticks\": true, \"values\": [0]}, \"field\": \"jitter\", \"scale\": {}, \"title\": null, \"type\": \"quantitative\"}, \"y\": {\"field\": \"bus_difference\", \"scale\": {\"domain\": [-5, 38.4]}, \"title\": \"Difference in Bus to Car Travel Time (min)\", \"type\": \"quantitative\"}}, \"transform\": [{\"calculate\": \"sqrt(-2*log(random()))*cos(2*PI*random())\", \"as\": \"jitter\"}], \"width\": 50}, {\"layer\": [{\"mark\": {\"type\": \"point\", \"opacity\": 0.6, \"size\": 20, \"strokeWidth\": 1.3}, \"encoding\": {\"color\": {\"value\": \"#323434\"}, \"y\": {\"field\": \"bus_difference\", \"type\": \"quantitative\"}}, \"transform\": [{\"filter\": \"(datum.p50_trip === 1)\"}]}, {\"mark\": {\"type\": \"text\", \"align\": \"center\", \"baseline\": \"middle\"}, \"encoding\": {\"color\": {\"value\": \"black\"}, \"text\": {\"field\": \"pct_trips_competitive\", \"format\": \".0%\", \"type\": \"quantitative\"}, \"tooltip\": [{\"field\": \"route_id\", \"type\": \"nominal\"}, {\"field\": \"route_name\", \"type\": \"nominal\"}, {\"field\": \"trip_id\", \"type\": \"nominal\"}, {\"field\": \"service_hours\", \"type\": \"quantitative\"}, {\"field\": \"car_duration_hours\", \"type\": \"quantitative\"}, {\"field\": \"bus_multiplier\", \"type\": \"quantitative\"}, {\"field\": \"bus_difference\", \"type\": \"quantitative\"}, {\"field\": \"num_trips\", \"type\": \"quantitative\"}, {\"field\": \"num_competitive\", \"type\": \"quantitative\"}, {\"field\": \"pct_trips_competitive\", \"type\": \"quantitative\"}, {\"field\": \"p25\", \"type\": \"quantitative\"}, {\"field\": \"p50\", \"type\": \"quantitative\"}, {\"field\": \"p75\", \"type\": \"quantitative\"}], \"x\": {\"value\": 30}, \"y\": {\"value\": 15}}, \"transform\": [{\"calculate\": \"sqrt(-2*log(random()))*cos(2*PI*random())\", \"as\": \"jitter\"}, {\"filter\": \"(datum.fastest_trip === 1)\"}]}]}]}, \"resolve\": {\"scale\": {\"y\": \"shared\"}}, \"title\": \"Difference in Bus to Car Travel Time (min)\", \"$schema\": \"https://vega.github.io/schema/vega-lite/v4.17.0.json\", \"datasets\": {\"data-257b1490195528d9f76c97fcfd888be3\": [{\"calitp_itp_id\": 42, \"trip_key\": 3212989715963820775, \"trip_id\": \"t_2006242_b_33489_tn_5\", \"shape_id\": \"p_547\", \"route_id\": \"15\", \"service_hours\": 0.85, \"trip_first_departure_ts\": 39900, \"trip_last_arrival_ts\": 42960, \"departure_hour\": 11, \"time_of_day\": \"Midday\", \"p25\": 0.85, \"p50\": 0.85, \"p75\": 0.85, \"p50_trip\": 1, \"fastest_trip\": 0, \"car_duration_hours\": 0.76, \"competitive_route\": 1, \"bus_multiplier\": 1.12, \"bus_difference\": 5.4, \"num_trips\": 12, \"num_competitive\": 12, \"pct_trips_competitive\": 1.0, \"bus_difference_spread\": 0.0, \"route_group\": \"short\", \"max_trip_hrs\": 0.85, \"max_trip_route_group\": 0.85, \"below_cutoff\": 12, \"pct_below_cutoff\": 1.0, \"name\": \"Blue Lake Rancheria\", \"caltrans_district\": \"01 - Eureka\", \"drmt_organization_name\": null, \"route_name\": \"The Orange Route Is Operated By Arcata And Mad River Transit System. It Serves Downtown Arcata, Sunny Brae, Greenview Market, Humboldt State University, Valley West Shopping Center, And Alliance Rd.\", \"cutoff2\": 20, \"cutoff\": 0}, {\"calitp_itp_id\": 42, \"trip_key\": -4503928084773304761, \"trip_id\": \"t_2006242_b_33489_tn_6\", \"shape_id\": \"p_547\", \"route_id\": \"15\", \"service_hours\": 0.85, \"trip_first_departure_ts\": 43500, \"trip_last_arrival_ts\": 46560, \"departure_hour\": 12, \"time_of_day\": \"Midday\", \"p25\": 0.85, \"p50\": 0.85, \"p75\": 0.85, \"p50_trip\": 1, \"fastest_trip\": 0, \"car_duration_hours\": 0.76, \"competitive_route\": 1, \"bus_multiplier\": 1.12, \"bus_difference\": 5.4, \"num_trips\": 12, \"num_competitive\": 12, \"pct_trips_competitive\": 1.0, \"bus_difference_spread\": 0.0, \"route_group\": \"short\", \"max_trip_hrs\": 0.85, \"max_trip_route_group\": 0.85, \"below_cutoff\": 12, \"pct_below_cutoff\": 1.0, \"name\": \"Blue Lake Rancheria\", \"caltrans_district\": \"01 - Eureka\", \"drmt_organization_name\": null, \"route_name\": \"The Orange Route Is Operated By Arcata And Mad River Transit System. It Serves Downtown Arcata, Sunny Brae, Greenview Market, Humboldt State University, Valley West Shopping Center, And Alliance Rd.\", \"cutoff2\": 20, \"cutoff\": 0}, {\"calitp_itp_id\": 42, \"trip_key\": -4246535928303558891, \"trip_id\": \"t_2006242_b_33489_tn_10\", \"shape_id\": \"p_547\", \"route_id\": \"15\", \"service_hours\": 0.85, \"trip_first_departure_ts\": 57900, \"trip_last_arrival_ts\": 60960, \"departure_hour\": 16, \"time_of_day\": \"Midday\", \"p25\": 0.85, \"p50\": 0.85, \"p75\": 0.85, \"p50_trip\": 1, \"fastest_trip\": 0, \"car_duration_hours\": 0.76, \"competitive_route\": 1, \"bus_multiplier\": 1.12, \"bus_difference\": 5.4, \"num_trips\": 12, \"num_competitive\": 12, \"pct_trips_competitive\": 1.0, \"bus_difference_spread\": 0.0, \"route_group\": \"short\", \"max_trip_hrs\": 0.85, \"max_trip_route_group\": 0.85, \"below_cutoff\": 12, \"pct_below_cutoff\": 1.0, \"name\": \"Blue Lake Rancheria\", \"caltrans_district\": \"01 - Eureka\", \"drmt_organization_name\": null, \"route_name\": \"The Orange Route Is Operated By Arcata And Mad River Transit System. It Serves Downtown Arcata, Sunny Brae, Greenview Market, Humboldt State University, Valley West Shopping Center, And Alliance Rd.\", \"cutoff2\": 20, \"cutoff\": 0}, {\"calitp_itp_id\": 42, \"trip_key\": -5346033386940711380, \"trip_id\": \"t_2006242_b_33489_tn_8\", \"shape_id\": \"p_547\", \"route_id\": \"15\", \"service_hours\": 0.85, \"trip_first_departure_ts\": 50700, \"trip_last_arrival_ts\": 53760, \"departure_hour\": 14, \"time_of_day\": \"Midday\", \"p25\": 0.85, \"p50\": 0.85, \"p75\": 0.85, \"p50_trip\": 1, \"fastest_trip\": 0, \"car_duration_hours\": 0.76, \"competitive_route\": 1, \"bus_multiplier\": 1.12, \"bus_difference\": 5.4, \"num_trips\": 12, \"num_competitive\": 12, \"pct_trips_competitive\": 1.0, \"bus_difference_spread\": 0.0, \"route_group\": \"short\", \"max_trip_hrs\": 0.85, \"max_trip_route_group\": 0.85, \"below_cutoff\": 12, \"pct_below_cutoff\": 1.0, \"name\": \"Blue Lake Rancheria\", \"caltrans_district\": \"01 - Eureka\", \"drmt_organization_name\": null, \"route_name\": \"The Orange Route Is Operated By Arcata And Mad River Transit System. It Serves Downtown Arcata, Sunny Brae, Greenview Market, Humboldt State University, Valley West Shopping Center, And Alliance Rd.\", \"cutoff2\": 20, \"cutoff\": 0}, {\"calitp_itp_id\": 42, \"trip_key\": 288197767091223608, \"trip_id\": \"t_2006242_b_33489_tn_4\", \"shape_id\": \"p_547\", \"route_id\": \"15\", \"service_hours\": 0.85, \"trip_first_departure_ts\": 36300, \"trip_last_arrival_ts\": 39360, \"departure_hour\": 10, \"time_of_day\": \"Midday\", \"p25\": 0.85, \"p50\": 0.85, \"p75\": 0.85, \"p50_trip\": 1, \"fastest_trip\": 0, \"car_duration_hours\": 0.76, \"competitive_route\": 1, \"bus_multiplier\": 1.12, \"bus_difference\": 5.4, \"num_trips\": 12, \"num_competitive\": 12, \"pct_trips_competitive\": 1.0, \"bus_difference_spread\": 0.0, \"route_group\": \"short\", \"max_trip_hrs\": 0.85, \"max_trip_route_group\": 0.85, \"below_cutoff\": 12, \"pct_below_cutoff\": 1.0, \"name\": \"Blue Lake Rancheria\", \"caltrans_district\": \"01 - Eureka\", \"drmt_organization_name\": null, \"route_name\": \"The Orange Route Is Operated By Arcata And Mad River Transit System. It Serves Downtown Arcata, Sunny Brae, Greenview Market, Humboldt State University, Valley West Shopping Center, And Alliance Rd.\", \"cutoff2\": 20, \"cutoff\": 0}, {\"calitp_itp_id\": 42, \"trip_key\": 7152056154056799848, \"trip_id\": \"t_2006242_b_33489_tn_3\", \"shape_id\": \"p_547\", \"route_id\": \"15\", \"service_hours\": 0.85, \"trip_first_departure_ts\": 32700, \"trip_last_arrival_ts\": 35760, \"departure_hour\": 9, \"time_of_day\": \"AM Peak\", \"p25\": 0.85, \"p50\": 0.85, \"p75\": 0.85, \"p50_trip\": 1, \"fastest_trip\": 0, \"car_duration_hours\": 0.76, \"competitive_route\": 1, \"bus_multiplier\": 1.12, \"bus_difference\": 5.4, \"num_trips\": 12, \"num_competitive\": 12, \"pct_trips_competitive\": 1.0, \"bus_difference_spread\": 0.0, \"route_group\": \"short\", \"max_trip_hrs\": 0.85, \"max_trip_route_group\": 0.85, \"below_cutoff\": 12, \"pct_below_cutoff\": 1.0, \"name\": \"Blue Lake Rancheria\", \"caltrans_district\": \"01 - Eureka\", \"drmt_organization_name\": null, \"route_name\": \"The Orange Route Is Operated By Arcata And Mad River Transit System. It Serves Downtown Arcata, Sunny Brae, Greenview Market, Humboldt State University, Valley West Shopping Center, And Alliance Rd.\", \"cutoff2\": 20, \"cutoff\": 0}, {\"calitp_itp_id\": 42, \"trip_key\": -2674696040307332955, \"trip_id\": \"t_2006242_b_33489_tn_1\", \"shape_id\": \"p_547\", \"route_id\": \"15\", \"service_hours\": 0.85, \"trip_first_departure_ts\": 25500, \"trip_last_arrival_ts\": 28560, \"departure_hour\": 7, \"time_of_day\": \"AM Peak\", \"p25\": 0.85, \"p50\": 0.85, \"p75\": 0.85, \"p50_trip\": 1, \"fastest_trip\": 0, \"car_duration_hours\": 0.76, \"competitive_route\": 1, \"bus_multiplier\": 1.12, \"bus_difference\": 5.4, \"num_trips\": 12, \"num_competitive\": 12, \"pct_trips_competitive\": 1.0, \"bus_difference_spread\": 0.0, \"route_group\": \"short\", \"max_trip_hrs\": 0.85, \"max_trip_route_group\": 0.85, \"below_cutoff\": 12, \"pct_below_cutoff\": 1.0, \"name\": \"Blue Lake Rancheria\", \"caltrans_district\": \"01 - Eureka\", \"drmt_organization_name\": null, \"route_name\": \"The Orange Route Is Operated By Arcata And Mad River Transit System. It Serves Downtown Arcata, Sunny Brae, Greenview Market, Humboldt State University, Valley West Shopping Center, And Alliance Rd.\", \"cutoff2\": 20, \"cutoff\": 0}, {\"calitp_itp_id\": 42, \"trip_key\": 3627932410057339867, \"trip_id\": \"t_2006242_b_33489_tn_12\", \"shape_id\": \"p_547\", \"route_id\": \"15\", \"service_hours\": 0.85, \"trip_first_departure_ts\": 65100, \"trip_last_arrival_ts\": 68160, \"departure_hour\": 18, \"time_of_day\": \"PM Peak\", \"p25\": 0.85, \"p50\": 0.85, \"p75\": 0.85, \"p50_trip\": 1, \"fastest_trip\": 1, \"car_duration_hours\": 0.76, \"competitive_route\": 1, \"bus_multiplier\": 1.12, \"bus_difference\": 5.4, \"num_trips\": 12, \"num_competitive\": 12, \"pct_trips_competitive\": 1.0, \"bus_difference_spread\": 0.0, \"route_group\": \"short\", \"max_trip_hrs\": 0.85, \"max_trip_route_group\": 0.85, \"below_cutoff\": 12, \"pct_below_cutoff\": 1.0, \"name\": \"Blue Lake Rancheria\", \"caltrans_district\": \"01 - Eureka\", \"drmt_organization_name\": null, \"route_name\": \"The Orange Route Is Operated By Arcata And Mad River Transit System. It Serves Downtown Arcata, Sunny Brae, Greenview Market, Humboldt State University, Valley West Shopping Center, And Alliance Rd.\", \"cutoff2\": 20, \"cutoff\": 0}, {\"calitp_itp_id\": 42, \"trip_key\": 5713358753953854643, \"trip_id\": \"t_2006242_b_33489_tn_7\", \"shape_id\": \"p_547\", \"route_id\": \"15\", \"service_hours\": 0.85, \"trip_first_departure_ts\": 47100, \"trip_last_arrival_ts\": 50160, \"departure_hour\": 13, \"time_of_day\": \"Midday\", \"p25\": 0.85, \"p50\": 0.85, \"p75\": 0.85, \"p50_trip\": 1, \"fastest_trip\": 0, \"car_duration_hours\": 0.76, \"competitive_route\": 1, \"bus_multiplier\": 1.12, \"bus_difference\": 5.4, \"num_trips\": 12, \"num_competitive\": 12, \"pct_trips_competitive\": 1.0, \"bus_difference_spread\": 0.0, \"route_group\": \"short\", \"max_trip_hrs\": 0.85, \"max_trip_route_group\": 0.85, \"below_cutoff\": 12, \"pct_below_cutoff\": 1.0, \"name\": \"Blue Lake Rancheria\", \"caltrans_district\": \"01 - Eureka\", \"drmt_organization_name\": null, \"route_name\": \"The Orange Route Is Operated By Arcata And Mad River Transit System. It Serves Downtown Arcata, Sunny Brae, Greenview Market, Humboldt State University, Valley West Shopping Center, And Alliance Rd.\", \"cutoff2\": 20, \"cutoff\": 0}, {\"calitp_itp_id\": 42, \"trip_key\": -6901584182200929758, \"trip_id\": \"t_2006242_b_33489_tn_2\", \"shape_id\": \"p_547\", \"route_id\": \"15\", \"service_hours\": 0.85, \"trip_first_departure_ts\": 29100, \"trip_last_arrival_ts\": 32160, \"departure_hour\": 8, \"time_of_day\": \"AM Peak\", \"p25\": 0.85, \"p50\": 0.85, \"p75\": 0.85, \"p50_trip\": 1, \"fastest_trip\": 0, \"car_duration_hours\": 0.76, \"competitive_route\": 1, \"bus_multiplier\": 1.12, \"bus_difference\": 5.4, \"num_trips\": 12, \"num_competitive\": 12, \"pct_trips_competitive\": 1.0, \"bus_difference_spread\": 0.0, \"route_group\": \"short\", \"max_trip_hrs\": 0.85, \"max_trip_route_group\": 0.85, \"below_cutoff\": 12, \"pct_below_cutoff\": 1.0, \"name\": \"Blue Lake Rancheria\", \"caltrans_district\": \"01 - Eureka\", \"drmt_organization_name\": null, \"route_name\": \"The Orange Route Is Operated By Arcata And Mad River Transit System. It Serves Downtown Arcata, Sunny Brae, Greenview Market, Humboldt State University, Valley West Shopping Center, And Alliance Rd.\", \"cutoff2\": 20, \"cutoff\": 0}, {\"calitp_itp_id\": 42, \"trip_key\": -1400242218070640529, \"trip_id\": \"t_2006242_b_33489_tn_9\", \"shape_id\": \"p_547\", \"route_id\": \"15\", \"service_hours\": 0.85, \"trip_first_departure_ts\": 54300, \"trip_last_arrival_ts\": 57360, \"departure_hour\": 15, \"time_of_day\": \"Midday\", \"p25\": 0.85, \"p50\": 0.85, \"p75\": 0.85, \"p50_trip\": 1, \"fastest_trip\": 0, \"car_duration_hours\": 0.76, \"competitive_route\": 1, \"bus_multiplier\": 1.12, \"bus_difference\": 5.4, \"num_trips\": 12, \"num_competitive\": 12, \"pct_trips_competitive\": 1.0, \"bus_difference_spread\": 0.0, \"route_group\": \"short\", \"max_trip_hrs\": 0.85, \"max_trip_route_group\": 0.85, \"below_cutoff\": 12, \"pct_below_cutoff\": 1.0, \"name\": \"Blue Lake Rancheria\", \"caltrans_district\": \"01 - Eureka\", \"drmt_organization_name\": null, \"route_name\": \"The Orange Route Is Operated By Arcata And Mad River Transit System. It Serves Downtown Arcata, Sunny Brae, Greenview Market, Humboldt State University, Valley West Shopping Center, And Alliance Rd.\", \"cutoff2\": 20, \"cutoff\": 0}, {\"calitp_itp_id\": 42, \"trip_key\": 8949262043114527418, \"trip_id\": \"t_2006242_b_33489_tn_11\", \"shape_id\": \"p_547\", \"route_id\": \"15\", \"service_hours\": 0.85, \"trip_first_departure_ts\": 61500, \"trip_last_arrival_ts\": 64560, \"departure_hour\": 17, \"time_of_day\": \"PM Peak\", \"p25\": 0.85, \"p50\": 0.85, \"p75\": 0.85, \"p50_trip\": 1, \"fastest_trip\": 0, \"car_duration_hours\": 0.76, \"competitive_route\": 1, \"bus_multiplier\": 1.12, \"bus_difference\": 5.4, \"num_trips\": 12, \"num_competitive\": 12, \"pct_trips_competitive\": 1.0, \"bus_difference_spread\": 0.0, \"route_group\": \"short\", \"max_trip_hrs\": 0.85, \"max_trip_route_group\": 0.85, \"below_cutoff\": 12, \"pct_below_cutoff\": 1.0, \"name\": \"Blue Lake Rancheria\", \"caltrans_district\": \"01 - Eureka\", \"drmt_organization_name\": null, \"route_name\": \"The Orange Route Is Operated By Arcata And Mad River Transit System. It Serves Downtown Arcata, Sunny Brae, Greenview Market, Humboldt State University, Valley West Shopping Center, And Alliance Rd.\", \"cutoff2\": 20, \"cutoff\": 0}]}}, {\"mode\": \"vega-lite\"});\n",
       "</script>"
      ],
      "text/plain": [
       "alt.FacetChart(...)"
      ]
     },
     "metadata": {},
     "output_type": "display_data"
    },
    {
     "data": {
      "text/html": [
       "<h4>Route Stats</h4>"
      ],
      "text/plain": [
       "<IPython.core.display.HTML object>"
      ]
     },
     "metadata": {},
     "output_type": "display_data"
    },
    {
     "data": {
      "text/html": [
       "<style type=\"text/css\">\n",
       "</style>\n",
       "<table id=\"T_41a68\">\n",
       "  <thead>\n",
       "    <tr>\n",
       "      <th id=\"T_41a68_level0_col0\" class=\"col_heading level0 col0\" >Route ID</th>\n",
       "      <th id=\"T_41a68_level0_col1\" class=\"col_heading level0 col1\" >Route Name</th>\n",
       "      <th id=\"T_41a68_level0_col2\" class=\"col_heading level0 col2\" ># trips</th>\n",
       "      <th id=\"T_41a68_level0_col3\" class=\"col_heading level0 col3\" >Daily Avg Frequency (trips per hr)</th>\n",
       "      <th id=\"T_41a68_level0_col4\" class=\"col_heading level0 col4\" >25th, 50th, 75th ptile (hrs)</th>\n",
       "      <th id=\"T_41a68_level0_col5\" class=\"col_heading level0 col5\" >PM Peak Avg Frequency (trips per hr)</th>\n",
       "    </tr>\n",
       "  </thead>\n",
       "  <tbody>\n",
       "    <tr>\n",
       "      <td id=\"T_41a68_row0_col0\" class=\"data row0 col0\" >15</td>\n",
       "      <td id=\"T_41a68_row0_col1\" class=\"data row0 col1\" >The Orange Route Is Operated By Arcata And Mad River Transit System. It Serves Downtown Arcata, Sunny Brae, Greenview Market, Humboldt State University, Valley West Shopping Center, And Alliance Rd.</td>\n",
       "      <td id=\"T_41a68_row0_col2\" class=\"data row0 col2\" >12</td>\n",
       "      <td id=\"T_41a68_row0_col3\" class=\"data row0 col3\" >0.5</td>\n",
       "      <td id=\"T_41a68_row0_col4\" class=\"data row0 col4\" >0.85, 0.85, 0.85</td>\n",
       "      <td id=\"T_41a68_row0_col5\" class=\"data row0 col5\" >0.67</td>\n",
       "    </tr>\n",
       "  </tbody>\n",
       "</table>\n"
      ],
      "text/plain": [
       "<IPython.core.display.HTML object>"
      ]
     },
     "metadata": {},
     "output_type": "display_data"
    }
   ],
   "source": [
    "# Allow for possibility that operator doesn't have routes that fall into certain route_groups\n",
    "# But, jupyterbook will not like markdown with f-string\n",
    "# separate out route_group and put in each cell, and use try/except + if to display...\n",
    "# but all 3 route groups must be displayed. just add sentence about why no routes were returned at the end\n",
    "route_group = \"short\"\n",
    "try:\n",
    "    display_charts_for_route_group(df, route_group)\n",
    "except:\n",
    "    print(\"No routes meet this criteria.\")"
   ]
  },
  {
   "cell_type": "markdown",
   "id": "c2931b6f-034d-4384-9e14-80b925e3b820",
   "metadata": {
    "papermill": {
     "duration": 0.016304,
     "end_time": "2022-05-11T21:44:50.831055",
     "exception": false,
     "start_time": "2022-05-11T21:44:50.814751",
     "status": "completed"
    },
    "tags": []
   },
   "source": [
    "### Medium Routes (1-1.5 hrs)"
   ]
  },
  {
   "cell_type": "code",
   "execution_count": 15,
   "id": "480edddc-4de0-48c2-ae4c-b0ceef8f28b5",
   "metadata": {
    "execution": {
     "iopub.execute_input": "2022-05-11T21:44:50.866160Z",
     "iopub.status.busy": "2022-05-11T21:44:50.865256Z",
     "iopub.status.idle": "2022-05-11T21:44:50.876945Z",
     "shell.execute_reply": "2022-05-11T21:44:50.876287Z"
    },
    "jupyter": {
     "source_hidden": true
    },
    "papermill": {
     "duration": 0.031196,
     "end_time": "2022-05-11T21:44:50.878742",
     "exception": false,
     "start_time": "2022-05-11T21:44:50.847546",
     "status": "completed"
    },
    "tags": [
     "remove_input"
    ]
   },
   "outputs": [
    {
     "name": "stdout",
     "output_type": "stream",
     "text": [
      "No routes meet this criteria.\n"
     ]
    }
   ],
   "source": [
    "route_group = \"medium\"\n",
    "try:\n",
    "    display_charts_for_route_group(df, route_group)\n",
    "except:\n",
    "    print(\"No routes meet this criteria.\")"
   ]
  },
  {
   "cell_type": "markdown",
   "id": "124b76d0-886c-4d03-92ac-f1bda3cda182",
   "metadata": {
    "papermill": {
     "duration": 0.016591,
     "end_time": "2022-05-11T21:44:50.921413",
     "exception": false,
     "start_time": "2022-05-11T21:44:50.904822",
     "status": "completed"
    },
    "tags": []
   },
   "source": [
    "### Long Routes (> 1.5 hrs)"
   ]
  },
  {
   "cell_type": "code",
   "execution_count": 16,
   "id": "ddc81b19-4c45-4c81-8b7a-5e0f394aa7a3",
   "metadata": {
    "execution": {
     "iopub.execute_input": "2022-05-11T21:44:50.956766Z",
     "iopub.status.busy": "2022-05-11T21:44:50.955913Z",
     "iopub.status.idle": "2022-05-11T21:44:51.196483Z",
     "shell.execute_reply": "2022-05-11T21:44:51.195746Z"
    },
    "jupyter": {
     "source_hidden": true
    },
    "papermill": {
     "duration": 0.260325,
     "end_time": "2022-05-11T21:44:51.198244",
     "exception": false,
     "start_time": "2022-05-11T21:44:50.937919",
     "status": "completed"
    },
    "tags": [
     "remove_input"
    ]
   },
   "outputs": [
    {
     "data": {
      "text/markdown": [
       "<br>These are routes that have **at least 50% of their trips take no more than an additional 40 min** compared to a car (up to 15 routes) are shown.<br>Within each route group, routes are sorted in descending order by % competitive trips and # trips below the additional time cut-off."
      ],
      "text/plain": [
       "<IPython.core.display.Markdown object>"
      ]
     },
     "metadata": {},
     "output_type": "display_data"
    },
    {
     "data": {
      "text/html": [
       "\n",
       "<div id=\"altair-viz-e7aef56959ef4033bf92faf200d3eabe\"></div>\n",
       "<script type=\"text/javascript\">\n",
       "  var VEGA_DEBUG = (typeof VEGA_DEBUG == \"undefined\") ? {} : VEGA_DEBUG;\n",
       "  (function(spec, embedOpt){\n",
       "    let outputDiv = document.currentScript.previousElementSibling;\n",
       "    if (outputDiv.id !== \"altair-viz-e7aef56959ef4033bf92faf200d3eabe\") {\n",
       "      outputDiv = document.getElementById(\"altair-viz-e7aef56959ef4033bf92faf200d3eabe\");\n",
       "    }\n",
       "    const paths = {\n",
       "      \"vega\": \"https://cdn.jsdelivr.net/npm//vega@5?noext\",\n",
       "      \"vega-lib\": \"https://cdn.jsdelivr.net/npm//vega-lib?noext\",\n",
       "      \"vega-lite\": \"https://cdn.jsdelivr.net/npm//vega-lite@4.17.0?noext\",\n",
       "      \"vega-embed\": \"https://cdn.jsdelivr.net/npm//vega-embed@6?noext\",\n",
       "    };\n",
       "\n",
       "    function maybeLoadScript(lib, version) {\n",
       "      var key = `${lib.replace(\"-\", \"\")}_version`;\n",
       "      return (VEGA_DEBUG[key] == version) ?\n",
       "        Promise.resolve(paths[lib]) :\n",
       "        new Promise(function(resolve, reject) {\n",
       "          var s = document.createElement('script');\n",
       "          document.getElementsByTagName(\"head\")[0].appendChild(s);\n",
       "          s.async = true;\n",
       "          s.onload = () => {\n",
       "            VEGA_DEBUG[key] = version;\n",
       "            return resolve(paths[lib]);\n",
       "          };\n",
       "          s.onerror = () => reject(`Error loading script: ${paths[lib]}`);\n",
       "          s.src = paths[lib];\n",
       "        });\n",
       "    }\n",
       "\n",
       "    function showError(err) {\n",
       "      outputDiv.innerHTML = `<div class=\"error\" style=\"color:red;\">${err}</div>`;\n",
       "      throw err;\n",
       "    }\n",
       "\n",
       "    function displayChart(vegaEmbed) {\n",
       "      vegaEmbed(outputDiv, spec, embedOpt)\n",
       "        .catch(err => showError(`Javascript Error: ${err.message}<br>This usually means there's a typo in your chart specification. See the javascript console for the full traceback.`));\n",
       "    }\n",
       "\n",
       "    if(typeof define === \"function\" && define.amd) {\n",
       "      requirejs.config({paths});\n",
       "      require([\"vega-embed\"], displayChart, err => showError(`Error loading script: ${err.message}`));\n",
       "    } else {\n",
       "      maybeLoadScript(\"vega\", \"5\")\n",
       "        .then(() => maybeLoadScript(\"vega-lite\", \"4.17.0\"))\n",
       "        .then(() => maybeLoadScript(\"vega-embed\", \"6\"))\n",
       "        .catch(showError)\n",
       "        .then(() => displayChart(vegaEmbed));\n",
       "    }\n",
       "  })({\"config\": {\"view\": {\"continuousWidth\": 400, \"continuousHeight\": 300, \"stroke\": null}, \"facet\": {\"spacing\": 0}}, \"data\": {\"name\": \"data-300260e50b3cef944ea649694d215dae\"}, \"facet\": {\"column\": {\"field\": \"route_id\", \"sort\": [\"822\"], \"title\": \"Route ID\", \"type\": \"nominal\"}}, \"spec\": {\"layer\": [{\"mark\": \"rule\", \"encoding\": {\"color\": {\"value\": \"black\"}, \"y\": {\"field\": \"cutoff\", \"type\": \"quantitative\"}}, \"selection\": {\"selector003\": {\"type\": \"interval\", \"bind\": \"scales\", \"encodings\": [\"x\", \"y\"]}}}, {\"mark\": {\"type\": \"point\", \"opacity\": 0.65, \"size\": 12, \"strokeWidth\": 1.1}, \"encoding\": {\"color\": {\"field\": \"time_of_day\", \"scale\": {\"range\": [\"#136C97\", \"#E16B26\", \"#F6BF16\", \"#00896B\", \"#7790A3\", \"#5B559C\"]}, \"sort\": [\"AM Peak\", \"Midday\", \"PM Peak\", \"Owl Service\"], \"title\": \"Time of Day\", \"type\": \"nominal\"}, \"tooltip\": [{\"field\": \"route_id\", \"type\": \"nominal\"}, {\"field\": \"route_name\", \"type\": \"nominal\"}, {\"field\": \"trip_id\", \"type\": \"nominal\"}, {\"field\": \"service_hours\", \"type\": \"quantitative\"}, {\"field\": \"car_duration_hours\", \"type\": \"quantitative\"}, {\"field\": \"bus_multiplier\", \"type\": \"quantitative\"}, {\"field\": \"bus_difference\", \"type\": \"quantitative\"}, {\"field\": \"num_trips\", \"type\": \"quantitative\"}, {\"field\": \"num_competitive\", \"type\": \"quantitative\"}, {\"field\": \"pct_trips_competitive\", \"type\": \"quantitative\"}, {\"field\": \"p25\", \"type\": \"quantitative\"}, {\"field\": \"p50\", \"type\": \"quantitative\"}, {\"field\": \"p75\", \"type\": \"quantitative\"}], \"x\": {\"axis\": {\"grid\": false, \"labels\": false, \"ticks\": true, \"values\": [0]}, \"field\": \"jitter\", \"scale\": {}, \"title\": null, \"type\": \"quantitative\"}, \"y\": {\"field\": \"bus_multiplier\", \"scale\": {\"domain\": [-0.25, 3.0]}, \"title\": \"Ratio of Bus to Car Travel Time\", \"type\": \"quantitative\"}}, \"transform\": [{\"calculate\": \"sqrt(-2*log(random()))*cos(2*PI*random())\", \"as\": \"jitter\"}], \"width\": 50}, {\"layer\": [{\"mark\": {\"type\": \"point\", \"opacity\": 0.6, \"size\": 20, \"strokeWidth\": 1.3}, \"encoding\": {\"color\": {\"value\": \"#323434\"}, \"y\": {\"field\": \"bus_multiplier\", \"type\": \"quantitative\"}}, \"transform\": [{\"filter\": \"(datum.p50_trip === 1)\"}]}, {\"mark\": {\"type\": \"text\", \"align\": \"center\", \"baseline\": \"middle\"}, \"encoding\": {\"color\": {\"value\": \"black\"}, \"text\": {\"field\": \"pct_trips_competitive\", \"format\": \".0%\", \"type\": \"quantitative\"}, \"tooltip\": [{\"field\": \"route_id\", \"type\": \"nominal\"}, {\"field\": \"route_name\", \"type\": \"nominal\"}, {\"field\": \"trip_id\", \"type\": \"nominal\"}, {\"field\": \"service_hours\", \"type\": \"quantitative\"}, {\"field\": \"car_duration_hours\", \"type\": \"quantitative\"}, {\"field\": \"bus_multiplier\", \"type\": \"quantitative\"}, {\"field\": \"bus_difference\", \"type\": \"quantitative\"}, {\"field\": \"num_trips\", \"type\": \"quantitative\"}, {\"field\": \"num_competitive\", \"type\": \"quantitative\"}, {\"field\": \"pct_trips_competitive\", \"type\": \"quantitative\"}, {\"field\": \"p25\", \"type\": \"quantitative\"}, {\"field\": \"p50\", \"type\": \"quantitative\"}, {\"field\": \"p75\", \"type\": \"quantitative\"}], \"x\": {\"value\": 30}, \"y\": {\"value\": 15}}, \"transform\": [{\"calculate\": \"sqrt(-2*log(random()))*cos(2*PI*random())\", \"as\": \"jitter\"}, {\"filter\": \"(datum.fastest_trip === 1)\"}]}]}]}, \"resolve\": {\"scale\": {\"y\": \"shared\"}}, \"title\": \"Ratio of Bus to Car Travel Time\", \"$schema\": \"https://vega.github.io/schema/vega-lite/v4.17.0.json\", \"datasets\": {\"data-300260e50b3cef944ea649694d215dae\": [{\"calitp_itp_id\": 42, \"trip_key\": -3175372383375127757, \"trip_id\": \"t_1194487_b_23002_tn_0\", \"shape_id\": \"p_179049\", \"route_id\": \"822\", \"service_hours\": 1.83, \"trip_first_departure_ts\": 33300, \"trip_last_arrival_ts\": 39900, \"departure_hour\": 9, \"time_of_day\": \"AM Peak\", \"p25\": 1.92, \"p50\": 1.92, \"p75\": 1.92, \"p50_trip\": 0, \"fastest_trip\": 1, \"car_duration_hours\": 1.36, \"competitive_route\": 1, \"bus_multiplier\": 1.35, \"bus_difference\": 28.2, \"num_trips\": 5, \"num_competitive\": 5, \"pct_trips_competitive\": 1.0, \"bus_difference_spread\": 10.2, \"route_group\": \"long\", \"max_trip_hrs\": 2.0, \"max_trip_route_group\": 2.0, \"below_cutoff\": 5, \"pct_below_cutoff\": 1.0, \"name\": \"Blue Lake Rancheria\", \"caltrans_district\": \"01 - Eureka\", \"drmt_organization_name\": null, \"route_name\": \"The Southern Humboldt Route Is A Deviated/Fixed Route Operated By Redwood Transit And Runs Monday Through Friday Between Eureka And Benbow Serving The Communities Of Garberville, Redway, Redwood, Phillipsville, South Fork, Myers Flat, Weott, Rio Dell, Fortuna, Eureka. La Ruta Southern Humboldt Es Una Ruta Desviada / Fija Operada Por Redwood Transit Y Se Extiende De Lunes A Viernes Entre Eureka Y Benbow Y Sirve A Las Comunidades De Garberville, Redway, Redwood, Phillipsville, South Fork, Myers Flat, Weott, Rio Dell, Fortuna, Eureka.\", \"cutoff2\": 40, \"cutoff\": 2}, {\"calitp_itp_id\": 42, \"trip_key\": -802452632623895397, \"trip_id\": \"t_1194480_b_23002_tn_0\", \"shape_id\": \"p_179043\", \"route_id\": \"822\", \"service_hours\": 1.92, \"trip_first_departure_ts\": 62400, \"trip_last_arrival_ts\": 69300, \"departure_hour\": 17, \"time_of_day\": \"PM Peak\", \"p25\": 1.92, \"p50\": 1.92, \"p75\": 1.92, \"p50_trip\": 1, \"fastest_trip\": 0, \"car_duration_hours\": 1.36, \"competitive_route\": 1, \"bus_multiplier\": 1.41, \"bus_difference\": 33.6, \"num_trips\": 5, \"num_competitive\": 5, \"pct_trips_competitive\": 1.0, \"bus_difference_spread\": 10.2, \"route_group\": \"long\", \"max_trip_hrs\": 2.0, \"max_trip_route_group\": 2.0, \"below_cutoff\": 5, \"pct_below_cutoff\": 1.0, \"name\": \"Blue Lake Rancheria\", \"caltrans_district\": \"01 - Eureka\", \"drmt_organization_name\": null, \"route_name\": \"The Southern Humboldt Route Is A Deviated/Fixed Route Operated By Redwood Transit And Runs Monday Through Friday Between Eureka And Benbow Serving The Communities Of Garberville, Redway, Redwood, Phillipsville, South Fork, Myers Flat, Weott, Rio Dell, Fortuna, Eureka. La Ruta Southern Humboldt Es Una Ruta Desviada / Fija Operada Por Redwood Transit Y Se Extiende De Lunes A Viernes Entre Eureka Y Benbow Y Sirve A Las Comunidades De Garberville, Redway, Redwood, Phillipsville, South Fork, Myers Flat, Weott, Rio Dell, Fortuna, Eureka.\", \"cutoff2\": 40, \"cutoff\": 2}, {\"calitp_itp_id\": 42, \"trip_key\": 7242940967973078295, \"trip_id\": \"t_1194478_b_23002_tn_0\", \"shape_id\": \"p_179043\", \"route_id\": \"822\", \"service_hours\": 1.92, \"trip_first_departure_ts\": 24360, \"trip_last_arrival_ts\": 31260, \"departure_hour\": 6, \"time_of_day\": \"Owl Service\", \"p25\": 1.92, \"p50\": 1.92, \"p75\": 1.92, \"p50_trip\": 1, \"fastest_trip\": 0, \"car_duration_hours\": 1.36, \"competitive_route\": 1, \"bus_multiplier\": 1.41, \"bus_difference\": 33.6, \"num_trips\": 5, \"num_competitive\": 5, \"pct_trips_competitive\": 1.0, \"bus_difference_spread\": 10.2, \"route_group\": \"long\", \"max_trip_hrs\": 2.0, \"max_trip_route_group\": 2.0, \"below_cutoff\": 5, \"pct_below_cutoff\": 1.0, \"name\": \"Blue Lake Rancheria\", \"caltrans_district\": \"01 - Eureka\", \"drmt_organization_name\": null, \"route_name\": \"The Southern Humboldt Route Is A Deviated/Fixed Route Operated By Redwood Transit And Runs Monday Through Friday Between Eureka And Benbow Serving The Communities Of Garberville, Redway, Redwood, Phillipsville, South Fork, Myers Flat, Weott, Rio Dell, Fortuna, Eureka. La Ruta Southern Humboldt Es Una Ruta Desviada / Fija Operada Por Redwood Transit Y Se Extiende De Lunes A Viernes Entre Eureka Y Benbow Y Sirve A Las Comunidades De Garberville, Redway, Redwood, Phillipsville, South Fork, Myers Flat, Weott, Rio Dell, Fortuna, Eureka.\", \"cutoff2\": 40, \"cutoff\": 2}, {\"calitp_itp_id\": 42, \"trip_key\": -5381631097348447121, \"trip_id\": \"t_1194477_b_23002_tn_0\", \"shape_id\": \"p_179043\", \"route_id\": \"822\", \"service_hours\": 1.92, \"trip_first_departure_ts\": 40800, \"trip_last_arrival_ts\": 47700, \"departure_hour\": 11, \"time_of_day\": \"Midday\", \"p25\": 1.92, \"p50\": 1.92, \"p75\": 1.92, \"p50_trip\": 1, \"fastest_trip\": 0, \"car_duration_hours\": 1.36, \"competitive_route\": 1, \"bus_multiplier\": 1.41, \"bus_difference\": 33.6, \"num_trips\": 5, \"num_competitive\": 5, \"pct_trips_competitive\": 1.0, \"bus_difference_spread\": 10.2, \"route_group\": \"long\", \"max_trip_hrs\": 2.0, \"max_trip_route_group\": 2.0, \"below_cutoff\": 5, \"pct_below_cutoff\": 1.0, \"name\": \"Blue Lake Rancheria\", \"caltrans_district\": \"01 - Eureka\", \"drmt_organization_name\": null, \"route_name\": \"The Southern Humboldt Route Is A Deviated/Fixed Route Operated By Redwood Transit And Runs Monday Through Friday Between Eureka And Benbow Serving The Communities Of Garberville, Redway, Redwood, Phillipsville, South Fork, Myers Flat, Weott, Rio Dell, Fortuna, Eureka. La Ruta Southern Humboldt Es Una Ruta Desviada / Fija Operada Por Redwood Transit Y Se Extiende De Lunes A Viernes Entre Eureka Y Benbow Y Sirve A Las Comunidades De Garberville, Redway, Redwood, Phillipsville, South Fork, Myers Flat, Weott, Rio Dell, Fortuna, Eureka.\", \"cutoff2\": 40, \"cutoff\": 2}, {\"calitp_itp_id\": 42, \"trip_key\": 1678998890025832350, \"trip_id\": \"t_1194483_b_23002_tn_0\", \"shape_id\": \"p_179044\", \"route_id\": \"822\", \"service_hours\": 2.0, \"trip_first_departure_ts\": 54300, \"trip_last_arrival_ts\": 61500, \"departure_hour\": 15, \"time_of_day\": \"Midday\", \"p25\": 1.92, \"p50\": 1.92, \"p75\": 1.92, \"p50_trip\": 0, \"fastest_trip\": 0, \"car_duration_hours\": 1.36, \"competitive_route\": 1, \"bus_multiplier\": 1.47, \"bus_difference\": 38.4, \"num_trips\": 5, \"num_competitive\": 5, \"pct_trips_competitive\": 1.0, \"bus_difference_spread\": 10.2, \"route_group\": \"long\", \"max_trip_hrs\": 2.0, \"max_trip_route_group\": 2.0, \"below_cutoff\": 5, \"pct_below_cutoff\": 1.0, \"name\": \"Blue Lake Rancheria\", \"caltrans_district\": \"01 - Eureka\", \"drmt_organization_name\": null, \"route_name\": \"The Southern Humboldt Route Is A Deviated/Fixed Route Operated By Redwood Transit And Runs Monday Through Friday Between Eureka And Benbow Serving The Communities Of Garberville, Redway, Redwood, Phillipsville, South Fork, Myers Flat, Weott, Rio Dell, Fortuna, Eureka. La Ruta Southern Humboldt Es Una Ruta Desviada / Fija Operada Por Redwood Transit Y Se Extiende De Lunes A Viernes Entre Eureka Y Benbow Y Sirve A Las Comunidades De Garberville, Redway, Redwood, Phillipsville, South Fork, Myers Flat, Weott, Rio Dell, Fortuna, Eureka.\", \"cutoff2\": 40, \"cutoff\": 2}]}}, {\"mode\": \"vega-lite\"});\n",
       "</script>"
      ],
      "text/plain": [
       "alt.FacetChart(...)"
      ]
     },
     "metadata": {},
     "output_type": "display_data"
    },
    {
     "data": {
      "text/html": [
       "\n",
       "<div id=\"altair-viz-b7f376756dce4b9196db119a14f27782\"></div>\n",
       "<script type=\"text/javascript\">\n",
       "  var VEGA_DEBUG = (typeof VEGA_DEBUG == \"undefined\") ? {} : VEGA_DEBUG;\n",
       "  (function(spec, embedOpt){\n",
       "    let outputDiv = document.currentScript.previousElementSibling;\n",
       "    if (outputDiv.id !== \"altair-viz-b7f376756dce4b9196db119a14f27782\") {\n",
       "      outputDiv = document.getElementById(\"altair-viz-b7f376756dce4b9196db119a14f27782\");\n",
       "    }\n",
       "    const paths = {\n",
       "      \"vega\": \"https://cdn.jsdelivr.net/npm//vega@5?noext\",\n",
       "      \"vega-lib\": \"https://cdn.jsdelivr.net/npm//vega-lib?noext\",\n",
       "      \"vega-lite\": \"https://cdn.jsdelivr.net/npm//vega-lite@4.17.0?noext\",\n",
       "      \"vega-embed\": \"https://cdn.jsdelivr.net/npm//vega-embed@6?noext\",\n",
       "    };\n",
       "\n",
       "    function maybeLoadScript(lib, version) {\n",
       "      var key = `${lib.replace(\"-\", \"\")}_version`;\n",
       "      return (VEGA_DEBUG[key] == version) ?\n",
       "        Promise.resolve(paths[lib]) :\n",
       "        new Promise(function(resolve, reject) {\n",
       "          var s = document.createElement('script');\n",
       "          document.getElementsByTagName(\"head\")[0].appendChild(s);\n",
       "          s.async = true;\n",
       "          s.onload = () => {\n",
       "            VEGA_DEBUG[key] = version;\n",
       "            return resolve(paths[lib]);\n",
       "          };\n",
       "          s.onerror = () => reject(`Error loading script: ${paths[lib]}`);\n",
       "          s.src = paths[lib];\n",
       "        });\n",
       "    }\n",
       "\n",
       "    function showError(err) {\n",
       "      outputDiv.innerHTML = `<div class=\"error\" style=\"color:red;\">${err}</div>`;\n",
       "      throw err;\n",
       "    }\n",
       "\n",
       "    function displayChart(vegaEmbed) {\n",
       "      vegaEmbed(outputDiv, spec, embedOpt)\n",
       "        .catch(err => showError(`Javascript Error: ${err.message}<br>This usually means there's a typo in your chart specification. See the javascript console for the full traceback.`));\n",
       "    }\n",
       "\n",
       "    if(typeof define === \"function\" && define.amd) {\n",
       "      requirejs.config({paths});\n",
       "      require([\"vega-embed\"], displayChart, err => showError(`Error loading script: ${err.message}`));\n",
       "    } else {\n",
       "      maybeLoadScript(\"vega\", \"5\")\n",
       "        .then(() => maybeLoadScript(\"vega-lite\", \"4.17.0\"))\n",
       "        .then(() => maybeLoadScript(\"vega-embed\", \"6\"))\n",
       "        .catch(showError)\n",
       "        .then(() => displayChart(vegaEmbed));\n",
       "    }\n",
       "  })({\"config\": {\"view\": {\"continuousWidth\": 400, \"continuousHeight\": 300, \"stroke\": null}, \"facet\": {\"spacing\": 0}}, \"data\": {\"name\": \"data-bfa88ac8f9a31156e03a629ca2c0d7f3\"}, \"facet\": {\"column\": {\"field\": \"route_id\", \"sort\": [\"822\"], \"title\": \"Route ID\", \"type\": \"nominal\"}}, \"spec\": {\"layer\": [{\"mark\": \"rule\", \"encoding\": {\"color\": {\"value\": \"black\"}, \"y\": {\"field\": \"cutoff\", \"type\": \"quantitative\"}}, \"selection\": {\"selector004\": {\"type\": \"interval\", \"bind\": \"scales\", \"encodings\": [\"x\", \"y\"]}}}, {\"mark\": {\"type\": \"rule\", \"strokeDash\": [3, 3]}, \"encoding\": {\"color\": {\"value\": \"#323434\"}, \"y\": {\"field\": \"cutoff2\", \"type\": \"quantitative\"}}}, {\"mark\": {\"type\": \"point\", \"opacity\": 0.65, \"size\": 12, \"strokeWidth\": 1.1}, \"encoding\": {\"color\": {\"field\": \"time_of_day\", \"scale\": {\"range\": [\"#136C97\", \"#E16B26\", \"#F6BF16\", \"#00896B\", \"#7790A3\", \"#5B559C\"]}, \"sort\": [\"AM Peak\", \"Midday\", \"PM Peak\", \"Owl Service\"], \"title\": \"Time of Day\", \"type\": \"nominal\"}, \"tooltip\": [{\"field\": \"route_id\", \"type\": \"nominal\"}, {\"field\": \"route_name\", \"type\": \"nominal\"}, {\"field\": \"trip_id\", \"type\": \"nominal\"}, {\"field\": \"service_hours\", \"type\": \"quantitative\"}, {\"field\": \"car_duration_hours\", \"type\": \"quantitative\"}, {\"field\": \"bus_multiplier\", \"type\": \"quantitative\"}, {\"field\": \"bus_difference\", \"type\": \"quantitative\"}, {\"field\": \"num_trips\", \"type\": \"quantitative\"}, {\"field\": \"num_competitive\", \"type\": \"quantitative\"}, {\"field\": \"pct_trips_competitive\", \"type\": \"quantitative\"}, {\"field\": \"p25\", \"type\": \"quantitative\"}, {\"field\": \"p50\", \"type\": \"quantitative\"}, {\"field\": \"p75\", \"type\": \"quantitative\"}], \"x\": {\"axis\": {\"grid\": false, \"labels\": false, \"ticks\": true, \"values\": [0]}, \"field\": \"jitter\", \"scale\": {}, \"title\": null, \"type\": \"quantitative\"}, \"y\": {\"field\": \"bus_difference\", \"scale\": {\"domain\": [-5, 45.0]}, \"title\": \"Difference in Bus to Car Travel Time (min)\", \"type\": \"quantitative\"}}, \"transform\": [{\"calculate\": \"sqrt(-2*log(random()))*cos(2*PI*random())\", \"as\": \"jitter\"}], \"width\": 50}, {\"layer\": [{\"mark\": {\"type\": \"point\", \"opacity\": 0.6, \"size\": 20, \"strokeWidth\": 1.3}, \"encoding\": {\"color\": {\"value\": \"#323434\"}, \"y\": {\"field\": \"bus_difference\", \"type\": \"quantitative\"}}, \"transform\": [{\"filter\": \"(datum.p50_trip === 1)\"}]}, {\"mark\": {\"type\": \"text\", \"align\": \"center\", \"baseline\": \"middle\"}, \"encoding\": {\"color\": {\"value\": \"black\"}, \"text\": {\"field\": \"pct_trips_competitive\", \"format\": \".0%\", \"type\": \"quantitative\"}, \"tooltip\": [{\"field\": \"route_id\", \"type\": \"nominal\"}, {\"field\": \"route_name\", \"type\": \"nominal\"}, {\"field\": \"trip_id\", \"type\": \"nominal\"}, {\"field\": \"service_hours\", \"type\": \"quantitative\"}, {\"field\": \"car_duration_hours\", \"type\": \"quantitative\"}, {\"field\": \"bus_multiplier\", \"type\": \"quantitative\"}, {\"field\": \"bus_difference\", \"type\": \"quantitative\"}, {\"field\": \"num_trips\", \"type\": \"quantitative\"}, {\"field\": \"num_competitive\", \"type\": \"quantitative\"}, {\"field\": \"pct_trips_competitive\", \"type\": \"quantitative\"}, {\"field\": \"p25\", \"type\": \"quantitative\"}, {\"field\": \"p50\", \"type\": \"quantitative\"}, {\"field\": \"p75\", \"type\": \"quantitative\"}], \"x\": {\"value\": 30}, \"y\": {\"value\": 15}}, \"transform\": [{\"calculate\": \"sqrt(-2*log(random()))*cos(2*PI*random())\", \"as\": \"jitter\"}, {\"filter\": \"(datum.fastest_trip === 1)\"}]}]}]}, \"resolve\": {\"scale\": {\"y\": \"shared\"}}, \"title\": \"Difference in Bus to Car Travel Time (min)\", \"$schema\": \"https://vega.github.io/schema/vega-lite/v4.17.0.json\", \"datasets\": {\"data-bfa88ac8f9a31156e03a629ca2c0d7f3\": [{\"calitp_itp_id\": 42, \"trip_key\": -3175372383375127757, \"trip_id\": \"t_1194487_b_23002_tn_0\", \"shape_id\": \"p_179049\", \"route_id\": \"822\", \"service_hours\": 1.83, \"trip_first_departure_ts\": 33300, \"trip_last_arrival_ts\": 39900, \"departure_hour\": 9, \"time_of_day\": \"AM Peak\", \"p25\": 1.92, \"p50\": 1.92, \"p75\": 1.92, \"p50_trip\": 0, \"fastest_trip\": 1, \"car_duration_hours\": 1.36, \"competitive_route\": 1, \"bus_multiplier\": 1.35, \"bus_difference\": 28.2, \"num_trips\": 5, \"num_competitive\": 5, \"pct_trips_competitive\": 1.0, \"bus_difference_spread\": 10.2, \"route_group\": \"long\", \"max_trip_hrs\": 2.0, \"max_trip_route_group\": 2.0, \"below_cutoff\": 5, \"pct_below_cutoff\": 1.0, \"name\": \"Blue Lake Rancheria\", \"caltrans_district\": \"01 - Eureka\", \"drmt_organization_name\": null, \"route_name\": \"The Southern Humboldt Route Is A Deviated/Fixed Route Operated By Redwood Transit And Runs Monday Through Friday Between Eureka And Benbow Serving The Communities Of Garberville, Redway, Redwood, Phillipsville, South Fork, Myers Flat, Weott, Rio Dell, Fortuna, Eureka. La Ruta Southern Humboldt Es Una Ruta Desviada / Fija Operada Por Redwood Transit Y Se Extiende De Lunes A Viernes Entre Eureka Y Benbow Y Sirve A Las Comunidades De Garberville, Redway, Redwood, Phillipsville, South Fork, Myers Flat, Weott, Rio Dell, Fortuna, Eureka.\", \"cutoff2\": 40, \"cutoff\": 0}, {\"calitp_itp_id\": 42, \"trip_key\": -802452632623895397, \"trip_id\": \"t_1194480_b_23002_tn_0\", \"shape_id\": \"p_179043\", \"route_id\": \"822\", \"service_hours\": 1.92, \"trip_first_departure_ts\": 62400, \"trip_last_arrival_ts\": 69300, \"departure_hour\": 17, \"time_of_day\": \"PM Peak\", \"p25\": 1.92, \"p50\": 1.92, \"p75\": 1.92, \"p50_trip\": 1, \"fastest_trip\": 0, \"car_duration_hours\": 1.36, \"competitive_route\": 1, \"bus_multiplier\": 1.41, \"bus_difference\": 33.6, \"num_trips\": 5, \"num_competitive\": 5, \"pct_trips_competitive\": 1.0, \"bus_difference_spread\": 10.2, \"route_group\": \"long\", \"max_trip_hrs\": 2.0, \"max_trip_route_group\": 2.0, \"below_cutoff\": 5, \"pct_below_cutoff\": 1.0, \"name\": \"Blue Lake Rancheria\", \"caltrans_district\": \"01 - Eureka\", \"drmt_organization_name\": null, \"route_name\": \"The Southern Humboldt Route Is A Deviated/Fixed Route Operated By Redwood Transit And Runs Monday Through Friday Between Eureka And Benbow Serving The Communities Of Garberville, Redway, Redwood, Phillipsville, South Fork, Myers Flat, Weott, Rio Dell, Fortuna, Eureka. La Ruta Southern Humboldt Es Una Ruta Desviada / Fija Operada Por Redwood Transit Y Se Extiende De Lunes A Viernes Entre Eureka Y Benbow Y Sirve A Las Comunidades De Garberville, Redway, Redwood, Phillipsville, South Fork, Myers Flat, Weott, Rio Dell, Fortuna, Eureka.\", \"cutoff2\": 40, \"cutoff\": 0}, {\"calitp_itp_id\": 42, \"trip_key\": 7242940967973078295, \"trip_id\": \"t_1194478_b_23002_tn_0\", \"shape_id\": \"p_179043\", \"route_id\": \"822\", \"service_hours\": 1.92, \"trip_first_departure_ts\": 24360, \"trip_last_arrival_ts\": 31260, \"departure_hour\": 6, \"time_of_day\": \"Owl Service\", \"p25\": 1.92, \"p50\": 1.92, \"p75\": 1.92, \"p50_trip\": 1, \"fastest_trip\": 0, \"car_duration_hours\": 1.36, \"competitive_route\": 1, \"bus_multiplier\": 1.41, \"bus_difference\": 33.6, \"num_trips\": 5, \"num_competitive\": 5, \"pct_trips_competitive\": 1.0, \"bus_difference_spread\": 10.2, \"route_group\": \"long\", \"max_trip_hrs\": 2.0, \"max_trip_route_group\": 2.0, \"below_cutoff\": 5, \"pct_below_cutoff\": 1.0, \"name\": \"Blue Lake Rancheria\", \"caltrans_district\": \"01 - Eureka\", \"drmt_organization_name\": null, \"route_name\": \"The Southern Humboldt Route Is A Deviated/Fixed Route Operated By Redwood Transit And Runs Monday Through Friday Between Eureka And Benbow Serving The Communities Of Garberville, Redway, Redwood, Phillipsville, South Fork, Myers Flat, Weott, Rio Dell, Fortuna, Eureka. La Ruta Southern Humboldt Es Una Ruta Desviada / Fija Operada Por Redwood Transit Y Se Extiende De Lunes A Viernes Entre Eureka Y Benbow Y Sirve A Las Comunidades De Garberville, Redway, Redwood, Phillipsville, South Fork, Myers Flat, Weott, Rio Dell, Fortuna, Eureka.\", \"cutoff2\": 40, \"cutoff\": 0}, {\"calitp_itp_id\": 42, \"trip_key\": -5381631097348447121, \"trip_id\": \"t_1194477_b_23002_tn_0\", \"shape_id\": \"p_179043\", \"route_id\": \"822\", \"service_hours\": 1.92, \"trip_first_departure_ts\": 40800, \"trip_last_arrival_ts\": 47700, \"departure_hour\": 11, \"time_of_day\": \"Midday\", \"p25\": 1.92, \"p50\": 1.92, \"p75\": 1.92, \"p50_trip\": 1, \"fastest_trip\": 0, \"car_duration_hours\": 1.36, \"competitive_route\": 1, \"bus_multiplier\": 1.41, \"bus_difference\": 33.6, \"num_trips\": 5, \"num_competitive\": 5, \"pct_trips_competitive\": 1.0, \"bus_difference_spread\": 10.2, \"route_group\": \"long\", \"max_trip_hrs\": 2.0, \"max_trip_route_group\": 2.0, \"below_cutoff\": 5, \"pct_below_cutoff\": 1.0, \"name\": \"Blue Lake Rancheria\", \"caltrans_district\": \"01 - Eureka\", \"drmt_organization_name\": null, \"route_name\": \"The Southern Humboldt Route Is A Deviated/Fixed Route Operated By Redwood Transit And Runs Monday Through Friday Between Eureka And Benbow Serving The Communities Of Garberville, Redway, Redwood, Phillipsville, South Fork, Myers Flat, Weott, Rio Dell, Fortuna, Eureka. La Ruta Southern Humboldt Es Una Ruta Desviada / Fija Operada Por Redwood Transit Y Se Extiende De Lunes A Viernes Entre Eureka Y Benbow Y Sirve A Las Comunidades De Garberville, Redway, Redwood, Phillipsville, South Fork, Myers Flat, Weott, Rio Dell, Fortuna, Eureka.\", \"cutoff2\": 40, \"cutoff\": 0}, {\"calitp_itp_id\": 42, \"trip_key\": 1678998890025832350, \"trip_id\": \"t_1194483_b_23002_tn_0\", \"shape_id\": \"p_179044\", \"route_id\": \"822\", \"service_hours\": 2.0, \"trip_first_departure_ts\": 54300, \"trip_last_arrival_ts\": 61500, \"departure_hour\": 15, \"time_of_day\": \"Midday\", \"p25\": 1.92, \"p50\": 1.92, \"p75\": 1.92, \"p50_trip\": 0, \"fastest_trip\": 0, \"car_duration_hours\": 1.36, \"competitive_route\": 1, \"bus_multiplier\": 1.47, \"bus_difference\": 38.4, \"num_trips\": 5, \"num_competitive\": 5, \"pct_trips_competitive\": 1.0, \"bus_difference_spread\": 10.2, \"route_group\": \"long\", \"max_trip_hrs\": 2.0, \"max_trip_route_group\": 2.0, \"below_cutoff\": 5, \"pct_below_cutoff\": 1.0, \"name\": \"Blue Lake Rancheria\", \"caltrans_district\": \"01 - Eureka\", \"drmt_organization_name\": null, \"route_name\": \"The Southern Humboldt Route Is A Deviated/Fixed Route Operated By Redwood Transit And Runs Monday Through Friday Between Eureka And Benbow Serving The Communities Of Garberville, Redway, Redwood, Phillipsville, South Fork, Myers Flat, Weott, Rio Dell, Fortuna, Eureka. La Ruta Southern Humboldt Es Una Ruta Desviada / Fija Operada Por Redwood Transit Y Se Extiende De Lunes A Viernes Entre Eureka Y Benbow Y Sirve A Las Comunidades De Garberville, Redway, Redwood, Phillipsville, South Fork, Myers Flat, Weott, Rio Dell, Fortuna, Eureka.\", \"cutoff2\": 40, \"cutoff\": 0}]}}, {\"mode\": \"vega-lite\"});\n",
       "</script>"
      ],
      "text/plain": [
       "alt.FacetChart(...)"
      ]
     },
     "metadata": {},
     "output_type": "display_data"
    },
    {
     "data": {
      "text/html": [
       "<h4>Route Stats</h4>"
      ],
      "text/plain": [
       "<IPython.core.display.HTML object>"
      ]
     },
     "metadata": {},
     "output_type": "display_data"
    },
    {
     "data": {
      "text/html": [
       "<style type=\"text/css\">\n",
       "</style>\n",
       "<table id=\"T_cb632\">\n",
       "  <thead>\n",
       "    <tr>\n",
       "      <th id=\"T_cb632_level0_col0\" class=\"col_heading level0 col0\" >Route ID</th>\n",
       "      <th id=\"T_cb632_level0_col1\" class=\"col_heading level0 col1\" >Route Name</th>\n",
       "      <th id=\"T_cb632_level0_col2\" class=\"col_heading level0 col2\" ># trips</th>\n",
       "      <th id=\"T_cb632_level0_col3\" class=\"col_heading level0 col3\" >Daily Avg Frequency (trips per hr)</th>\n",
       "      <th id=\"T_cb632_level0_col4\" class=\"col_heading level0 col4\" >25th, 50th, 75th ptile (hrs)</th>\n",
       "      <th id=\"T_cb632_level0_col5\" class=\"col_heading level0 col5\" >PM Peak Avg Frequency (trips per hr)</th>\n",
       "    </tr>\n",
       "  </thead>\n",
       "  <tbody>\n",
       "    <tr>\n",
       "      <td id=\"T_cb632_row0_col0\" class=\"data row0 col0\" >822</td>\n",
       "      <td id=\"T_cb632_row0_col1\" class=\"data row0 col1\" >The Southern Humboldt Route Is A Deviated/Fixed Route Operated By Redwood Transit And Runs Monday Through Friday Between Eureka And Benbow Serving The Communities Of Garberville, Redway, Redwood, Phillipsville, South Fork, Myers Flat, Weott, Rio Dell, Fortuna, Eureka. La Ruta Southern Humboldt Es Una Ruta Desviada / Fija Operada Por Redwood Transit Y Se Extiende De Lunes A Viernes Entre Eureka Y Benbow Y Sirve A Las Comunidades De Garberville, Redway, Redwood, Phillipsville, South Fork, Myers Flat, Weott, Rio Dell, Fortuna, Eureka.</td>\n",
       "      <td id=\"T_cb632_row0_col2\" class=\"data row0 col2\" >5</td>\n",
       "      <td id=\"T_cb632_row0_col3\" class=\"data row0 col3\" >0.21</td>\n",
       "      <td id=\"T_cb632_row0_col4\" class=\"data row0 col4\" >1.92, 1.92, 1.92</td>\n",
       "      <td id=\"T_cb632_row0_col5\" class=\"data row0 col5\" >0.33</td>\n",
       "    </tr>\n",
       "  </tbody>\n",
       "</table>\n"
      ],
      "text/plain": [
       "<IPython.core.display.HTML object>"
      ]
     },
     "metadata": {},
     "output_type": "display_data"
    }
   ],
   "source": [
    "route_group = \"long\"\n",
    "try:\n",
    "    display_charts_for_route_group(df, route_group)\n",
    "except:\n",
    "    print(\"No routes meet this criteria.\")"
   ]
  },
  {
   "cell_type": "markdown",
   "id": "ace75b5f-0442-4fbe-aebd-6c3a13ae13a7",
   "metadata": {
    "papermill": {
     "duration": 0.018743,
     "end_time": "2022-05-11T21:44:51.236299",
     "exception": false,
     "start_time": "2022-05-11T21:44:51.217556",
     "status": "completed"
    },
    "tags": []
   },
   "source": [
    "### GTFS Real-Time Speedmaps"
   ]
  },
  {
   "cell_type": "code",
   "execution_count": 17,
   "id": "a0a114a1-e975-4027-9daf-50029f5ef59f",
   "metadata": {
    "execution": {
     "iopub.execute_input": "2022-05-11T21:44:51.276007Z",
     "iopub.status.busy": "2022-05-11T21:44:51.275735Z",
     "iopub.status.idle": "2022-05-11T21:44:51.305072Z",
     "shell.execute_reply": "2022-05-11T21:44:51.304206Z"
    },
    "jupyter": {
     "source_hidden": true
    },
    "papermill": {
     "duration": 0.051597,
     "end_time": "2022-05-11T21:44:51.307119",
     "exception": false,
     "start_time": "2022-05-11T21:44:51.255522",
     "status": "completed"
    },
    "tags": [
     "remove_input"
    ]
   },
   "outputs": [
    {
     "data": {
      "text/html": [
       "No GTFS RT data available."
      ],
      "text/plain": [
       "<IPython.core.display.HTML object>"
      ]
     },
     "metadata": {},
     "output_type": "display_data"
    }
   ],
   "source": [
    "RT_SITE_YAML = \"../portfolio/sites/rt.yml\"\n",
    "\n",
    "# Grab list of ITP IDs with GTFS RT speedmaps\n",
    "rt_itp_id = deploy_portfolio_yaml.check_if_rt_data_available(RT_SITE_YAML)\n",
    "\n",
    "# Construct the URL \n",
    "RT_URL = (\"https://analysis.calitp.org/rt/\"\n",
    "          f\"district_{district_number}-{district_name}/\"\n",
    "          f\"speedmaps__itp_id_{itp_id}.html\"\n",
    "         ) \n",
    "\n",
    "# If this ITP ID is found in RT analysis, give URL to that operator in analysis.calitp.org\n",
    "if itp_id in rt_itp_id:\n",
    "    display(HTML(f'''<a href={RT_URL}>GTFS RT speedmaps here.</a>'''))\n",
    "\n",
    "else:\n",
    "    display(HTML(\"No GTFS RT data available.\"))"
   ]
  },
  {
   "cell_type": "code",
   "execution_count": null,
   "id": "5b680565-2230-4f2e-817c-718fad48d64c",
   "metadata": {
    "jupyter": {
     "source_hidden": true
    },
    "papermill": {
     "duration": 0.019247,
     "end_time": "2022-05-11T21:44:51.348647",
     "exception": false,
     "start_time": "2022-05-11T21:44:51.329400",
     "status": "completed"
    },
    "tags": [
     "remove_input"
    ]
   },
   "outputs": [],
   "source": []
  }
 ],
 "metadata": {
  "kernelspec": {
   "display_name": "Python 3 (ipykernel)",
   "language": "python",
   "name": "python3"
  },
  "language_info": {
   "codemirror_mode": {
    "name": "ipython",
    "version": 3
   },
   "file_extension": ".py",
   "mimetype": "text/x-python",
   "name": "python",
   "nbconvert_exporter": "python",
   "pygments_lexer": "ipython3",
   "version": "3.9.12"
  },
  "papermill": {
   "default_parameters": {},
   "duration": 23.146892,
   "end_time": "2022-05-11T21:44:52.494765",
   "environment_variables": {},
   "exception": null,
   "input_path": "bus_service_increase/competitive-parallel-routes.ipynb",
   "output_path": "portfolio/parallel_corridors/district_01-eureka/1__competitive-parallel-routes__district_01-eureka__itp_id_42.ipynb",
   "parameters": {
    "district": "01 - Eureka",
    "itp_id": 42
   },
   "start_time": "2022-05-11T21:44:29.347873",
   "version": "2.3.4"
  }
 },
 "nbformat": 4,
 "nbformat_minor": 5
}