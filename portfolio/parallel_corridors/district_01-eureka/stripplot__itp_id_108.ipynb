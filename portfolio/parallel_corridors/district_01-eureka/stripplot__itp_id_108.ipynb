{
 "cells": [
  {
   "cell_type": "code",
   "execution_count": 1,
   "id": "95d00857-6a20-4529-a519-2cc7182928a9",
   "metadata": {
    "execution": {
     "iopub.execute_input": "2022-05-07T16:50:45.731975Z",
     "iopub.status.busy": "2022-05-07T16:50:45.731658Z",
     "iopub.status.idle": "2022-05-07T16:50:53.825593Z",
     "shell.execute_reply": "2022-05-07T16:50:53.824671Z"
    },
    "jupyter": {
     "source_hidden": true
    },
    "papermill": {
     "duration": 8.10877,
     "end_time": "2022-05-07T16:50:53.828090",
     "exception": false,
     "start_time": "2022-05-07T16:50:45.719320",
     "status": "completed"
    },
    "tags": [
     "remove_input"
    ]
   },
   "outputs": [],
   "source": [
    "%%capture\n",
    "import warnings\n",
    "warnings.filterwarnings('ignore')\n",
    "\n",
    "import altair as alt\n",
    "import calitp.magics\n",
    "import geopandas as gpd\n",
    "import intake\n",
    "import pandas as pd\n",
    "\n",
    "from IPython.display import display, Markdown, HTML\n",
    "\n",
    "import parallel_corridors_utils\n",
    "from shared_utils import styleguide\n",
    "\n",
    "catalog = intake.open_catalog(\"./*.yml\")\n",
    "alt.renderers.enable(\"html\")"
   ]
  },
  {
   "cell_type": "code",
   "execution_count": 2,
   "id": "8af2a0c1-f3da-408d-9bea-11d9fbf8695d",
   "metadata": {
    "execution": {
     "iopub.execute_input": "2022-05-07T16:50:53.850315Z",
     "iopub.status.busy": "2022-05-07T16:50:53.850041Z",
     "iopub.status.idle": "2022-05-07T16:50:53.855495Z",
     "shell.execute_reply": "2022-05-07T16:50:53.854433Z"
    },
    "jupyter": {
     "source_hidden": true
    },
    "papermill": {
     "duration": 0.018785,
     "end_time": "2022-05-07T16:50:53.857373",
     "exception": false,
     "start_time": "2022-05-07T16:50:53.838588",
     "status": "completed"
    },
    "tags": [
     "parameters",
     "remove_input"
    ]
   },
   "outputs": [],
   "source": [
    "# parameters cell\n",
    "itp_id = 182"
   ]
  },
  {
   "cell_type": "code",
   "execution_count": 3,
   "id": "d36f1f9f",
   "metadata": {
    "execution": {
     "iopub.execute_input": "2022-05-07T16:50:53.882060Z",
     "iopub.status.busy": "2022-05-07T16:50:53.881794Z",
     "iopub.status.idle": "2022-05-07T16:50:53.886101Z",
     "shell.execute_reply": "2022-05-07T16:50:53.885565Z"
    },
    "jupyter": {
     "source_hidden": true
    },
    "papermill": {
     "duration": 0.016641,
     "end_time": "2022-05-07T16:50:53.887652",
     "exception": false,
     "start_time": "2022-05-07T16:50:53.871011",
     "status": "completed"
    },
    "tags": [
     "injected-parameters",
     "remove_input"
    ]
   },
   "outputs": [],
   "source": [
    "# Parameters\n",
    "district = \"01 - Eureka\"\n",
    "itp_id = 108\n"
   ]
  },
  {
   "cell_type": "code",
   "execution_count": 4,
   "id": "9582aaf4-79ff-412a-b248-8d8d693ebd4f",
   "metadata": {
    "execution": {
     "iopub.execute_input": "2022-05-07T16:50:53.908330Z",
     "iopub.status.busy": "2022-05-07T16:50:53.907969Z",
     "iopub.status.idle": "2022-05-07T16:50:55.100407Z",
     "shell.execute_reply": "2022-05-07T16:50:55.099859Z"
    },
    "jupyter": {
     "source_hidden": true
    },
    "papermill": {
     "duration": 1.205429,
     "end_time": "2022-05-07T16:50:55.102574",
     "exception": false,
     "start_time": "2022-05-07T16:50:53.897145",
     "status": "completed"
    },
    "tags": [
     "remove_input"
    ]
   },
   "outputs": [],
   "source": [
    "df = catalog.competitive_route_variability.read()\n",
    "\n",
    "df = (df[(df.calitp_itp_id == itp_id) & \n",
    "         (df.route_group.notna())]\n",
    "      .reset_index(drop=True)\n",
    "     )\n",
    "\n",
    "\n",
    "if itp_id == 182:\n",
    "    df = df.assign(\n",
    "        route_id = df.route_id.str.replace('-13153', '').astype(int)\n",
    "    )"
   ]
  },
  {
   "cell_type": "code",
   "execution_count": 5,
   "id": "33ac4b06-f647-4dce-a625-8f2c1b37cc60",
   "metadata": {
    "execution": {
     "iopub.execute_input": "2022-05-07T16:50:55.125652Z",
     "iopub.status.busy": "2022-05-07T16:50:55.125231Z",
     "iopub.status.idle": "2022-05-07T16:50:55.130889Z",
     "shell.execute_reply": "2022-05-07T16:50:55.130348Z"
    },
    "jupyter": {
     "source_hidden": true
    },
    "papermill": {
     "duration": 0.018378,
     "end_time": "2022-05-07T16:50:55.132428",
     "exception": false,
     "start_time": "2022-05-07T16:50:55.114050",
     "status": "completed"
    },
    "tags": [
     "remove_input"
    ]
   },
   "outputs": [],
   "source": [
    "%%capture_parameters\n",
    "operator_name = df.name.iloc[0]\n",
    "\n",
    "itp_id, operator_name"
   ]
  },
  {
   "cell_type": "markdown",
   "id": "65bc6f5c-8348-42ee-b2dd-52057c406852",
   "metadata": {
    "papermill": {
     "duration": 0.00981,
     "end_time": "2022-05-07T16:50:55.152173",
     "exception": false,
     "start_time": "2022-05-07T16:50:55.142363",
     "status": "completed"
    },
    "tags": []
   },
   "source": [
    "# City of Eureka (ITP ID: 108)"
   ]
  },
  {
   "cell_type": "code",
   "execution_count": 6,
   "id": "a689c1ab-2c6c-4831-8d64-897f5986f571",
   "metadata": {
    "execution": {
     "iopub.execute_input": "2022-05-07T16:50:55.173579Z",
     "iopub.status.busy": "2022-05-07T16:50:55.172898Z",
     "iopub.status.idle": "2022-05-07T16:50:55.178941Z",
     "shell.execute_reply": "2022-05-07T16:50:55.178421Z"
    },
    "jupyter": {
     "source_hidden": true
    },
    "papermill": {
     "duration": 0.018731,
     "end_time": "2022-05-07T16:50:55.180527",
     "exception": false,
     "start_time": "2022-05-07T16:50:55.161796",
     "status": "completed"
    },
    "tags": [
     "remove_input"
    ]
   },
   "outputs": [
    {
     "data": {
      "text/html": [
       "<h1>Competitive & Parallel Routes</h1>"
      ],
      "text/plain": [
       "<IPython.core.display.HTML object>"
      ]
     },
     "metadata": {},
     "output_type": "display_data"
    }
   ],
   "source": [
    "display(HTML(\"<h1>Competitive & Parallel Routes</h1>\")) "
   ]
  },
  {
   "cell_type": "code",
   "execution_count": 7,
   "id": "2cb4d8d5-4760-40e4-85b1-cb833d8bb648",
   "metadata": {
    "execution": {
     "iopub.execute_input": "2022-05-07T16:50:55.203161Z",
     "iopub.status.busy": "2022-05-07T16:50:55.202401Z",
     "iopub.status.idle": "2022-05-07T16:51:05.395611Z",
     "shell.execute_reply": "2022-05-07T16:51:05.394774Z"
    },
    "jupyter": {
     "source_hidden": true
    },
    "papermill": {
     "duration": 10.206688,
     "end_time": "2022-05-07T16:51:05.397827",
     "exception": false,
     "start_time": "2022-05-07T16:50:55.191139",
     "status": "completed"
    },
    "tags": [
     "remove_input"
    ]
   },
   "outputs": [],
   "source": [
    "# Grab parameters for narrative text - clean up formatting here \n",
    "district = df.caltrans_district.iloc[0]\n",
    "formatted_date = pd.to_datetime(parallel_corridors_utils.SELECTED_DATE).strftime('%m-%d-%Y')\n",
    "\n",
    "PCT_COMPETITIVE_THRESHOLD = 0.75\n",
    "\n",
    "stats = parallel_corridors_utils.operator_parallel_competitive_stats(\n",
    "    itp_id, PCT_COMPETITIVE_THRESHOLD)\n",
    "\n",
    "pct_parallel = round(stats['parallel_routes'] / stats['num_routes'] * 100,1 )\n",
    "pct_competitive =  round(stats['competitive_routes'] / stats['num_routes'] * 100,1 )"
   ]
  },
  {
   "cell_type": "markdown",
   "id": "ab667928-5274-4490-82d9-4c39293209a4",
   "metadata": {
    "papermill": {
     "duration": 0.010276,
     "end_time": "2022-05-07T16:51:05.419774",
     "exception": false,
     "start_time": "2022-05-07T16:51:05.409498",
     "status": "completed"
    },
    "tags": []
   },
   "source": [
    "## Quick Stats"
   ]
  },
  {
   "cell_type": "code",
   "execution_count": 8,
   "id": "0416509d-dc62-4165-b62e-64f8b26e8b8e",
   "metadata": {
    "execution": {
     "iopub.execute_input": "2022-05-07T16:51:05.442023Z",
     "iopub.status.busy": "2022-05-07T16:51:05.441736Z",
     "iopub.status.idle": "2022-05-07T16:51:05.447828Z",
     "shell.execute_reply": "2022-05-07T16:51:05.446967Z"
    },
    "jupyter": {
     "source_hidden": true
    },
    "papermill": {
     "duration": 0.020289,
     "end_time": "2022-05-07T16:51:05.450280",
     "exception": false,
     "start_time": "2022-05-07T16:51:05.429991",
     "status": "completed"
    },
    "tags": [
     "remove_input"
    ]
   },
   "outputs": [
    {
     "data": {
      "text/markdown": [
       "**Bus routes in service**: 10 <br>**Parallel routes** to State Highway Network (SHN): 7 routes (70.0%)<br>**Competitive routes** against car travel: 3 routes (30.0%)"
      ],
      "text/plain": [
       "<IPython.core.display.Markdown object>"
      ]
     },
     "metadata": {},
     "output_type": "display_data"
    }
   ],
   "source": [
    "display(\n",
    "    Markdown(\n",
    "        f\"**Bus routes in service**: {stats['num_routes']} \"\n",
    "        \"<br>**Parallel routes** to State Highway Network (SHN): \"\n",
    "        f\"{stats['parallel_routes']} routes ({pct_parallel}%)\"\n",
    "        f\"<br>**Competitive routes** against car travel: {stats['competitive_routes']} routes ({pct_competitive}%)\"\n",
    "    )\n",
    ")"
   ]
  },
  {
   "cell_type": "code",
   "execution_count": 9,
   "id": "f9d6ab58-f0ee-460c-b6de-657490e1f386",
   "metadata": {
    "execution": {
     "iopub.execute_input": "2022-05-07T16:51:05.472967Z",
     "iopub.status.busy": "2022-05-07T16:51:05.472732Z",
     "iopub.status.idle": "2022-05-07T16:51:05.481296Z",
     "shell.execute_reply": "2022-05-07T16:51:05.480446Z"
    },
    "jupyter": {
     "source_hidden": true
    },
    "papermill": {
     "duration": 0.022423,
     "end_time": "2022-05-07T16:51:05.483326",
     "exception": false,
     "start_time": "2022-05-07T16:51:05.460903",
     "status": "completed"
    },
    "tags": [
     "remove_input"
    ]
   },
   "outputs": [],
   "source": [
    "def set_yaxis_range(df, y_col):\n",
    "    Y_MIN = df[y_col].min()\n",
    "    Y_MAX = df[y_col].max()\n",
    "    \n",
    "    return Y_MIN, Y_MAX\n",
    "\n",
    "# Rather than set it according to the operator, which can vary,\n",
    "# just use set thresholds for each group\n",
    "diff_cutoffs = {\n",
    "    \"short\": 20,\n",
    "    \"medium\": 30,\n",
    "    \"long\": 40,\n",
    "}\n",
    "\n",
    "PCT_TRIPS_BELOW_CUTOFF = 0.25\n",
    "\n",
    "def top15_routes(df, route_group):\n",
    "    df2 = (df[df.route_group==route_group])\n",
    "    # Set a cut-off to enable sorting, where most of the trips are \n",
    "    # below a certain time difference cut-off, \n",
    "    # grab top 15 routes where majority of trips are below that cut-off \n",
    "\n",
    "    route_cols = [\"calitp_itp_id\", \"route_id\"]\n",
    "\n",
    "    df2 = df2.assign(\n",
    "        below_cutoff = df2.apply(lambda x: 1 if x.bus_difference <= diff_cutoffs[route_group] \n",
    "                                 else 0, axis=1),\n",
    "        num_trips = df2.groupby(route_cols)[\"trip_id\"].transform(\"count\")\n",
    "    )\n",
    "\n",
    "    df2[\"below_cutoff\"] = df2.groupby(route_cols)[\"below_cutoff\"].transform(\"sum\")\n",
    "    df2[\"pct_below_cutoff\"] = df2.below_cutoff.divide(df2.num_trips)\n",
    "\n",
    "    # At least half the trips are below that cut-off\n",
    "    # but show 15 max, otherwise, show less, since these won't be as interesting to operators\n",
    "    df3 = (df2[df2.pct_below_cutoff >= PCT_TRIPS_BELOW_CUTOFF]\n",
    "           .sort_values([\"calitp_itp_id\", \"below_cutoff\", \n",
    "                         \"pct_below_cutoff\", \"route_id\"],\n",
    "                        ascending = [True, False, False, True]\n",
    "                       )\n",
    "           .drop_duplicates(subset=[\"calitp_itp_id\", \"route_id\"])\n",
    "          ).head(15)\n",
    "    \n",
    "    return list(df3.route_id)"
   ]
  },
  {
   "cell_type": "code",
   "execution_count": 10,
   "id": "cf36d559-3349-4144-8086-8ac9ce937a5a",
   "metadata": {
    "execution": {
     "iopub.execute_input": "2022-05-07T16:51:05.513040Z",
     "iopub.status.busy": "2022-05-07T16:51:05.512773Z",
     "iopub.status.idle": "2022-05-07T16:51:05.517981Z",
     "shell.execute_reply": "2022-05-07T16:51:05.517450Z"
    },
    "jupyter": {
     "source_hidden": true
    },
    "papermill": {
     "duration": 0.024795,
     "end_time": "2022-05-07T16:51:05.519557",
     "exception": false,
     "start_time": "2022-05-07T16:51:05.494762",
     "status": "completed"
    },
    "tags": [
     "remove_input"
    ]
   },
   "outputs": [],
   "source": [
    "short_caption = (\n",
    "    f\"<br>These are routes that have at least {int(PCT_TRIPS_BELOW_CUTOFF*100)}% of their trips \"\n",
    "    f\"take no more than an additional {diff_cutoffs['short']} min compared to a car \"\n",
    "    \"(up to 15 routes) are shown.\"\n",
    ")\n",
    "\n",
    "med_caption = (\n",
    "    f\"<br>These are routes that have at least {int(PCT_TRIPS_BELOW_CUTOFF*100)}% of their trips \"\n",
    "    f\"take no more than an additional {diff_cutoffs['medium']} min compared to a car \"\n",
    "    \"(up to 15 routes) are shown.\"\n",
    ")\n",
    "\n",
    "long_caption = (\n",
    "    f\"<br>These are routes that have at least {int(PCT_TRIPS_BELOW_CUTOFF*100)}% of their trips \"\n",
    "    f\"take no more than an additional {diff_cutoffs['long']} min compared to a car \"\n",
    "    \"(up to 15 routes) are shown.\")\n",
    "\n",
    "\n",
    "CAPTIONS_DICT = {\n",
    "    \"short\": short_caption,\n",
    "    \"medium\": med_caption,\n",
    "    \"long\": long_caption,\n",
    "}"
   ]
  },
  {
   "cell_type": "code",
   "execution_count": 11,
   "id": "e4306d58-6944-47e9-afef-5d5b524c751f",
   "metadata": {
    "execution": {
     "iopub.execute_input": "2022-05-07T16:51:05.545192Z",
     "iopub.status.busy": "2022-05-07T16:51:05.544360Z",
     "iopub.status.idle": "2022-05-07T16:51:05.552015Z",
     "shell.execute_reply": "2022-05-07T16:51:05.551023Z"
    },
    "jupyter": {
     "source_hidden": true
    },
    "papermill": {
     "duration": 0.023154,
     "end_time": "2022-05-07T16:51:05.553833",
     "exception": false,
     "start_time": "2022-05-07T16:51:05.530679",
     "status": "completed"
    },
    "tags": [
     "remove_input"
    ]
   },
   "outputs": [],
   "source": [
    "def setup_charts(df, PCT_COMPETITIVE_THRESHOLD, route_group):\n",
    "    # Set up df for charting (cut-off at some threshold to show most competitive routes)\n",
    "    plot_me = (df[df.pct_trips_competitive > PCT_COMPETITIVE_THRESHOLD]\n",
    "           .drop(columns = \"geometry\")\n",
    "    )\n",
    "    \n",
    "    y_col1 = \"bus_multiplier\"\n",
    "    Y_MIN1, Y_MAX1 = set_yaxis_range(plot_me, y_col1)\n",
    "\n",
    "    y_col2 = \"bus_difference\"\n",
    "    Y_MIN2, Y_MAX2 = set_yaxis_range(plot_me, y_col2)\n",
    "     \n",
    "    subset_routes = top15_routes(plot_me, route_group)\n",
    "    \n",
    "    multiplier_chart = parallel_corridors_utils.make_stripplot(\n",
    "        plot_me[plot_me.route_id.isin(subset_routes)], \n",
    "        y_col1, Y_MIN = Y_MIN1, Y_MAX = Y_MAX1\n",
    "    )\n",
    "    \n",
    "    difference_chart = parallel_corridors_utils.make_stripplot(\n",
    "        plot_me[plot_me.route_id.isin(subset_routes)], \n",
    "        y_col2, Y_MIN = Y_MIN2, Y_MAX = Y_MAX2\n",
    "    )\n",
    "    \n",
    "    return subset_routes, multiplier_chart, difference_chart            "
   ]
  },
  {
   "cell_type": "markdown",
   "id": "525f9b38-072b-46d1-96a8-1aa4b038357c",
   "metadata": {
    "papermill": {
     "duration": 0.011206,
     "end_time": "2022-05-07T16:51:05.576172",
     "exception": false,
     "start_time": "2022-05-07T16:51:05.564966",
     "status": "completed"
    },
    "tags": []
   },
   "source": [
    "## Viable Competitive Routes\n",
    "### Short Routes (< 1 hr)"
   ]
  },
  {
   "cell_type": "code",
   "execution_count": 12,
   "id": "57f7084c-2cf7-45c6-ba08-1609e0bd6ca5",
   "metadata": {
    "execution": {
     "iopub.execute_input": "2022-05-07T16:51:05.600857Z",
     "iopub.status.busy": "2022-05-07T16:51:05.600576Z",
     "iopub.status.idle": "2022-05-07T16:51:05.847390Z",
     "shell.execute_reply": "2022-05-07T16:51:05.846609Z"
    },
    "jupyter": {
     "source_hidden": true
    },
    "papermill": {
     "duration": 0.26093,
     "end_time": "2022-05-07T16:51:05.849262",
     "exception": false,
     "start_time": "2022-05-07T16:51:05.588332",
     "status": "completed"
    },
    "tags": [
     "remove_input"
    ]
   },
   "outputs": [
    {
     "data": {
      "text/markdown": [
       "<br>These are routes that have at least 25% of their trips take no more than an additional 20 min compared to a car (up to 15 routes) are shown.Within each route group, routes are sorted in descending order by % competitive trips and # trips below the additional time cut-off."
      ],
      "text/plain": [
       "<IPython.core.display.Markdown object>"
      ]
     },
     "metadata": {},
     "output_type": "display_data"
    },
    {
     "data": {
      "text/html": [
       "\n",
       "<div id=\"altair-viz-229ce04ead80486fb8c36a96c75df561\"></div>\n",
       "<script type=\"text/javascript\">\n",
       "  var VEGA_DEBUG = (typeof VEGA_DEBUG == \"undefined\") ? {} : VEGA_DEBUG;\n",
       "  (function(spec, embedOpt){\n",
       "    let outputDiv = document.currentScript.previousElementSibling;\n",
       "    if (outputDiv.id !== \"altair-viz-229ce04ead80486fb8c36a96c75df561\") {\n",
       "      outputDiv = document.getElementById(\"altair-viz-229ce04ead80486fb8c36a96c75df561\");\n",
       "    }\n",
       "    const paths = {\n",
       "      \"vega\": \"https://cdn.jsdelivr.net/npm//vega@5?noext\",\n",
       "      \"vega-lib\": \"https://cdn.jsdelivr.net/npm//vega-lib?noext\",\n",
       "      \"vega-lite\": \"https://cdn.jsdelivr.net/npm//vega-lite@4.17.0?noext\",\n",
       "      \"vega-embed\": \"https://cdn.jsdelivr.net/npm//vega-embed@6?noext\",\n",
       "    };\n",
       "\n",
       "    function maybeLoadScript(lib, version) {\n",
       "      var key = `${lib.replace(\"-\", \"\")}_version`;\n",
       "      return (VEGA_DEBUG[key] == version) ?\n",
       "        Promise.resolve(paths[lib]) :\n",
       "        new Promise(function(resolve, reject) {\n",
       "          var s = document.createElement('script');\n",
       "          document.getElementsByTagName(\"head\")[0].appendChild(s);\n",
       "          s.async = true;\n",
       "          s.onload = () => {\n",
       "            VEGA_DEBUG[key] = version;\n",
       "            return resolve(paths[lib]);\n",
       "          };\n",
       "          s.onerror = () => reject(`Error loading script: ${paths[lib]}`);\n",
       "          s.src = paths[lib];\n",
       "        });\n",
       "    }\n",
       "\n",
       "    function showError(err) {\n",
       "      outputDiv.innerHTML = `<div class=\"error\" style=\"color:red;\">${err}</div>`;\n",
       "      throw err;\n",
       "    }\n",
       "\n",
       "    function displayChart(vegaEmbed) {\n",
       "      vegaEmbed(outputDiv, spec, embedOpt)\n",
       "        .catch(err => showError(`Javascript Error: ${err.message}<br>This usually means there's a typo in your chart specification. See the javascript console for the full traceback.`));\n",
       "    }\n",
       "\n",
       "    if(typeof define === \"function\" && define.amd) {\n",
       "      requirejs.config({paths});\n",
       "      require([\"vega-embed\"], displayChart, err => showError(`Error loading script: ${err.message}`));\n",
       "    } else {\n",
       "      maybeLoadScript(\"vega\", \"5\")\n",
       "        .then(() => maybeLoadScript(\"vega-lite\", \"4.17.0\"))\n",
       "        .then(() => maybeLoadScript(\"vega-embed\", \"6\"))\n",
       "        .catch(showError)\n",
       "        .then(() => displayChart(vegaEmbed));\n",
       "    }\n",
       "  })({\"config\": {\"view\": {\"continuousWidth\": 400, \"continuousHeight\": 300, \"stroke\": null}, \"facet\": {\"spacing\": 0}}, \"data\": {\"name\": \"data-90991e8645df4b9f9749d899f3a3f9a4\"}, \"facet\": {\"column\": {\"field\": \"route_id\", \"sort\": [\"15\"], \"title\": \"Route ID\", \"type\": \"nominal\"}}, \"spec\": {\"layer\": [{\"mark\": {\"type\": \"point\", \"opacity\": 0.65, \"size\": 12, \"strokeWidth\": 1.1}, \"encoding\": {\"color\": {\"field\": \"time_of_day\", \"scale\": {\"range\": [\"#136C97\", \"#E16B26\", \"#F6BF16\", \"#00896B\", \"#7790A3\", \"#5B559C\"]}, \"sort\": [\"AM Peak\", \"Midday\", \"PM Peak\", \"Owl Service\"], \"title\": \"Time of Day\", \"type\": \"nominal\"}, \"tooltip\": [{\"field\": \"route_id\", \"type\": \"nominal\"}, {\"field\": \"trip_id\", \"type\": \"nominal\"}, {\"field\": \"service_hours\", \"type\": \"quantitative\"}, {\"field\": \"car_duration_hours\", \"type\": \"quantitative\"}, {\"field\": \"bus_multiplier\", \"type\": \"quantitative\"}, {\"field\": \"bus_difference\", \"type\": \"quantitative\"}, {\"field\": \"num_trips\", \"type\": \"quantitative\"}, {\"field\": \"num_competitive\", \"type\": \"quantitative\"}, {\"field\": \"pct_trips_competitive\", \"type\": \"quantitative\"}, {\"field\": \"p25\", \"type\": \"quantitative\"}, {\"field\": \"p50\", \"type\": \"quantitative\"}, {\"field\": \"p75\", \"type\": \"quantitative\"}], \"x\": {\"axis\": {\"grid\": false, \"labels\": false, \"ticks\": true, \"values\": [0]}, \"field\": \"jitter\", \"scale\": {}, \"title\": null, \"type\": \"quantitative\"}, \"y\": {\"field\": \"bus_multiplier\", \"scale\": {\"domain\": [-0.25, 2.5]}, \"title\": \"Ratio of Bus to Car Travel Time\", \"type\": \"quantitative\"}}, \"selection\": {\"selector001\": {\"type\": \"interval\", \"bind\": \"scales\", \"encodings\": [\"x\", \"y\"]}}, \"transform\": [{\"calculate\": \"sqrt(-2*log(random()))*cos(2*PI*random())\", \"as\": \"jitter\"}], \"width\": 60}, {\"layer\": [{\"mark\": {\"type\": \"point\", \"opacity\": 0.6, \"size\": 20, \"strokeWidth\": 1.3}, \"encoding\": {\"color\": {\"value\": \"#323434\"}, \"y\": {\"field\": \"bus_multiplier\", \"type\": \"quantitative\"}}, \"transform\": [{\"filter\": \"(datum.p50_trip === 1)\"}]}, {\"mark\": {\"type\": \"rule\", \"strokeDash\": [2, 3]}, \"encoding\": {\"color\": {\"value\": \"#323434\"}, \"y\": {\"field\": \"cutoff\", \"type\": \"quantitative\"}}}, {\"mark\": {\"type\": \"text\", \"align\": \"center\", \"baseline\": \"middle\"}, \"encoding\": {\"color\": {\"value\": \"black\"}, \"text\": {\"field\": \"pct_trips_competitive\", \"format\": \".0%\", \"type\": \"quantitative\"}, \"tooltip\": [{\"field\": \"route_id\", \"type\": \"nominal\"}, {\"field\": \"trip_id\", \"type\": \"nominal\"}, {\"field\": \"service_hours\", \"type\": \"quantitative\"}, {\"field\": \"car_duration_hours\", \"type\": \"quantitative\"}, {\"field\": \"bus_multiplier\", \"type\": \"quantitative\"}, {\"field\": \"bus_difference\", \"type\": \"quantitative\"}, {\"field\": \"num_trips\", \"type\": \"quantitative\"}, {\"field\": \"num_competitive\", \"type\": \"quantitative\"}, {\"field\": \"pct_trips_competitive\", \"type\": \"quantitative\"}, {\"field\": \"p25\", \"type\": \"quantitative\"}, {\"field\": \"p50\", \"type\": \"quantitative\"}, {\"field\": \"p75\", \"type\": \"quantitative\"}], \"x\": {\"value\": 30}, \"y\": {\"value\": 15}}, \"transform\": [{\"calculate\": \"sqrt(-2*log(random()))*cos(2*PI*random())\", \"as\": \"jitter\"}, {\"filter\": \"(datum.fastest_trip === 1)\"}]}]}]}, \"resolve\": {\"scale\": {\"y\": \"shared\"}}, \"title\": \"Ratio of Bus to Car Travel Time\", \"$schema\": \"https://vega.github.io/schema/vega-lite/v4.17.0.json\", \"datasets\": {\"data-90991e8645df4b9f9749d899f3a3f9a4\": [{\"calitp_itp_id\": 108, \"trip_key\": -7518924419219556852, \"trip_id\": \"t_2006242_b_33489_tn_12\", \"shape_id\": \"p_547\", \"route_id\": \"15\", \"service_hours\": 0.85, \"trip_first_departure_ts\": 65100, \"trip_last_arrival_ts\": 68160, \"departure_hour\": 18, \"time_of_day\": \"PM Peak\", \"p25\": 0.85, \"p50\": 0.85, \"p75\": 0.85, \"p50_trip\": 1, \"fastest_trip\": 1, \"car_duration_hours\": 0.76, \"competitive_route\": 1, \"bus_multiplier\": 1.12, \"bus_difference\": 5.4, \"num_trips\": 12, \"num_competitive\": 12, \"pct_trips_competitive\": 1.0, \"bus_difference_spread\": 0.0, \"route_group\": \"short\", \"max_trip_hrs\": 0.85, \"max_trip_route_group\": 1.0, \"name\": \"City of Eureka\", \"caltrans_district\": \"01 - Eureka\", \"drmt_organization_name\": null, \"cutoff2\": 15.0, \"cutoff\": 2}, {\"calitp_itp_id\": 108, \"trip_key\": -9000724200441257218, \"trip_id\": \"t_2006242_b_33489_tn_3\", \"shape_id\": \"p_547\", \"route_id\": \"15\", \"service_hours\": 0.85, \"trip_first_departure_ts\": 32700, \"trip_last_arrival_ts\": 35760, \"departure_hour\": 9, \"time_of_day\": \"AM Peak\", \"p25\": 0.85, \"p50\": 0.85, \"p75\": 0.85, \"p50_trip\": 1, \"fastest_trip\": 0, \"car_duration_hours\": 0.76, \"competitive_route\": 1, \"bus_multiplier\": 1.12, \"bus_difference\": 5.4, \"num_trips\": 12, \"num_competitive\": 12, \"pct_trips_competitive\": 1.0, \"bus_difference_spread\": 0.0, \"route_group\": \"short\", \"max_trip_hrs\": 0.85, \"max_trip_route_group\": 1.0, \"name\": \"City of Eureka\", \"caltrans_district\": \"01 - Eureka\", \"drmt_organization_name\": null, \"cutoff2\": 15.0, \"cutoff\": 2}, {\"calitp_itp_id\": 108, \"trip_key\": -3654856771348414816, \"trip_id\": \"t_2006242_b_33489_tn_11\", \"shape_id\": \"p_547\", \"route_id\": \"15\", \"service_hours\": 0.85, \"trip_first_departure_ts\": 61500, \"trip_last_arrival_ts\": 64560, \"departure_hour\": 17, \"time_of_day\": \"PM Peak\", \"p25\": 0.85, \"p50\": 0.85, \"p75\": 0.85, \"p50_trip\": 1, \"fastest_trip\": 0, \"car_duration_hours\": 0.76, \"competitive_route\": 1, \"bus_multiplier\": 1.12, \"bus_difference\": 5.4, \"num_trips\": 12, \"num_competitive\": 12, \"pct_trips_competitive\": 1.0, \"bus_difference_spread\": 0.0, \"route_group\": \"short\", \"max_trip_hrs\": 0.85, \"max_trip_route_group\": 1.0, \"name\": \"City of Eureka\", \"caltrans_district\": \"01 - Eureka\", \"drmt_organization_name\": null, \"cutoff2\": 15.0, \"cutoff\": 2}, {\"calitp_itp_id\": 108, \"trip_key\": 6462197087159188397, \"trip_id\": \"t_2006242_b_33489_tn_4\", \"shape_id\": \"p_547\", \"route_id\": \"15\", \"service_hours\": 0.85, \"trip_first_departure_ts\": 36300, \"trip_last_arrival_ts\": 39360, \"departure_hour\": 10, \"time_of_day\": \"Midday\", \"p25\": 0.85, \"p50\": 0.85, \"p75\": 0.85, \"p50_trip\": 1, \"fastest_trip\": 0, \"car_duration_hours\": 0.76, \"competitive_route\": 1, \"bus_multiplier\": 1.12, \"bus_difference\": 5.4, \"num_trips\": 12, \"num_competitive\": 12, \"pct_trips_competitive\": 1.0, \"bus_difference_spread\": 0.0, \"route_group\": \"short\", \"max_trip_hrs\": 0.85, \"max_trip_route_group\": 1.0, \"name\": \"City of Eureka\", \"caltrans_district\": \"01 - Eureka\", \"drmt_organization_name\": null, \"cutoff2\": 15.0, \"cutoff\": 2}, {\"calitp_itp_id\": 108, \"trip_key\": -1117908295655261734, \"trip_id\": \"t_2006242_b_33489_tn_9\", \"shape_id\": \"p_547\", \"route_id\": \"15\", \"service_hours\": 0.85, \"trip_first_departure_ts\": 54300, \"trip_last_arrival_ts\": 57360, \"departure_hour\": 15, \"time_of_day\": \"Midday\", \"p25\": 0.85, \"p50\": 0.85, \"p75\": 0.85, \"p50_trip\": 1, \"fastest_trip\": 0, \"car_duration_hours\": 0.76, \"competitive_route\": 1, \"bus_multiplier\": 1.12, \"bus_difference\": 5.4, \"num_trips\": 12, \"num_competitive\": 12, \"pct_trips_competitive\": 1.0, \"bus_difference_spread\": 0.0, \"route_group\": \"short\", \"max_trip_hrs\": 0.85, \"max_trip_route_group\": 1.0, \"name\": \"City of Eureka\", \"caltrans_district\": \"01 - Eureka\", \"drmt_organization_name\": null, \"cutoff2\": 15.0, \"cutoff\": 2}, {\"calitp_itp_id\": 108, \"trip_key\": 2609920422435598099, \"trip_id\": \"t_2006242_b_33489_tn_10\", \"shape_id\": \"p_547\", \"route_id\": \"15\", \"service_hours\": 0.85, \"trip_first_departure_ts\": 57900, \"trip_last_arrival_ts\": 60960, \"departure_hour\": 16, \"time_of_day\": \"Midday\", \"p25\": 0.85, \"p50\": 0.85, \"p75\": 0.85, \"p50_trip\": 1, \"fastest_trip\": 0, \"car_duration_hours\": 0.76, \"competitive_route\": 1, \"bus_multiplier\": 1.12, \"bus_difference\": 5.4, \"num_trips\": 12, \"num_competitive\": 12, \"pct_trips_competitive\": 1.0, \"bus_difference_spread\": 0.0, \"route_group\": \"short\", \"max_trip_hrs\": 0.85, \"max_trip_route_group\": 1.0, \"name\": \"City of Eureka\", \"caltrans_district\": \"01 - Eureka\", \"drmt_organization_name\": null, \"cutoff2\": 15.0, \"cutoff\": 2}, {\"calitp_itp_id\": 108, \"trip_key\": -9044514633596643986, \"trip_id\": \"t_2006242_b_33489_tn_5\", \"shape_id\": \"p_547\", \"route_id\": \"15\", \"service_hours\": 0.85, \"trip_first_departure_ts\": 39900, \"trip_last_arrival_ts\": 42960, \"departure_hour\": 11, \"time_of_day\": \"Midday\", \"p25\": 0.85, \"p50\": 0.85, \"p75\": 0.85, \"p50_trip\": 1, \"fastest_trip\": 0, \"car_duration_hours\": 0.76, \"competitive_route\": 1, \"bus_multiplier\": 1.12, \"bus_difference\": 5.4, \"num_trips\": 12, \"num_competitive\": 12, \"pct_trips_competitive\": 1.0, \"bus_difference_spread\": 0.0, \"route_group\": \"short\", \"max_trip_hrs\": 0.85, \"max_trip_route_group\": 1.0, \"name\": \"City of Eureka\", \"caltrans_district\": \"01 - Eureka\", \"drmt_organization_name\": null, \"cutoff2\": 15.0, \"cutoff\": 2}, {\"calitp_itp_id\": 108, \"trip_key\": 6779707872442560571, \"trip_id\": \"t_2006242_b_33489_tn_2\", \"shape_id\": \"p_547\", \"route_id\": \"15\", \"service_hours\": 0.85, \"trip_first_departure_ts\": 29100, \"trip_last_arrival_ts\": 32160, \"departure_hour\": 8, \"time_of_day\": \"AM Peak\", \"p25\": 0.85, \"p50\": 0.85, \"p75\": 0.85, \"p50_trip\": 1, \"fastest_trip\": 0, \"car_duration_hours\": 0.76, \"competitive_route\": 1, \"bus_multiplier\": 1.12, \"bus_difference\": 5.4, \"num_trips\": 12, \"num_competitive\": 12, \"pct_trips_competitive\": 1.0, \"bus_difference_spread\": 0.0, \"route_group\": \"short\", \"max_trip_hrs\": 0.85, \"max_trip_route_group\": 1.0, \"name\": \"City of Eureka\", \"caltrans_district\": \"01 - Eureka\", \"drmt_organization_name\": null, \"cutoff2\": 15.0, \"cutoff\": 2}, {\"calitp_itp_id\": 108, \"trip_key\": -4647400750918822944, \"trip_id\": \"t_2006242_b_33489_tn_7\", \"shape_id\": \"p_547\", \"route_id\": \"15\", \"service_hours\": 0.85, \"trip_first_departure_ts\": 47100, \"trip_last_arrival_ts\": 50160, \"departure_hour\": 13, \"time_of_day\": \"Midday\", \"p25\": 0.85, \"p50\": 0.85, \"p75\": 0.85, \"p50_trip\": 1, \"fastest_trip\": 0, \"car_duration_hours\": 0.76, \"competitive_route\": 1, \"bus_multiplier\": 1.12, \"bus_difference\": 5.4, \"num_trips\": 12, \"num_competitive\": 12, \"pct_trips_competitive\": 1.0, \"bus_difference_spread\": 0.0, \"route_group\": \"short\", \"max_trip_hrs\": 0.85, \"max_trip_route_group\": 1.0, \"name\": \"City of Eureka\", \"caltrans_district\": \"01 - Eureka\", \"drmt_organization_name\": null, \"cutoff2\": 15.0, \"cutoff\": 2}, {\"calitp_itp_id\": 108, \"trip_key\": 6881909043677401907, \"trip_id\": \"t_2006242_b_33489_tn_8\", \"shape_id\": \"p_547\", \"route_id\": \"15\", \"service_hours\": 0.85, \"trip_first_departure_ts\": 50700, \"trip_last_arrival_ts\": 53760, \"departure_hour\": 14, \"time_of_day\": \"Midday\", \"p25\": 0.85, \"p50\": 0.85, \"p75\": 0.85, \"p50_trip\": 1, \"fastest_trip\": 0, \"car_duration_hours\": 0.76, \"competitive_route\": 1, \"bus_multiplier\": 1.12, \"bus_difference\": 5.4, \"num_trips\": 12, \"num_competitive\": 12, \"pct_trips_competitive\": 1.0, \"bus_difference_spread\": 0.0, \"route_group\": \"short\", \"max_trip_hrs\": 0.85, \"max_trip_route_group\": 1.0, \"name\": \"City of Eureka\", \"caltrans_district\": \"01 - Eureka\", \"drmt_organization_name\": null, \"cutoff2\": 15.0, \"cutoff\": 2}, {\"calitp_itp_id\": 108, \"trip_key\": -4221252316641284407, \"trip_id\": \"t_2006242_b_33489_tn_1\", \"shape_id\": \"p_547\", \"route_id\": \"15\", \"service_hours\": 0.85, \"trip_first_departure_ts\": 25500, \"trip_last_arrival_ts\": 28560, \"departure_hour\": 7, \"time_of_day\": \"AM Peak\", \"p25\": 0.85, \"p50\": 0.85, \"p75\": 0.85, \"p50_trip\": 1, \"fastest_trip\": 0, \"car_duration_hours\": 0.76, \"competitive_route\": 1, \"bus_multiplier\": 1.12, \"bus_difference\": 5.4, \"num_trips\": 12, \"num_competitive\": 12, \"pct_trips_competitive\": 1.0, \"bus_difference_spread\": 0.0, \"route_group\": \"short\", \"max_trip_hrs\": 0.85, \"max_trip_route_group\": 1.0, \"name\": \"City of Eureka\", \"caltrans_district\": \"01 - Eureka\", \"drmt_organization_name\": null, \"cutoff2\": 15.0, \"cutoff\": 2}, {\"calitp_itp_id\": 108, \"trip_key\": -7844095644534817354, \"trip_id\": \"t_2006242_b_33489_tn_6\", \"shape_id\": \"p_547\", \"route_id\": \"15\", \"service_hours\": 0.85, \"trip_first_departure_ts\": 43500, \"trip_last_arrival_ts\": 46560, \"departure_hour\": 12, \"time_of_day\": \"Midday\", \"p25\": 0.85, \"p50\": 0.85, \"p75\": 0.85, \"p50_trip\": 1, \"fastest_trip\": 0, \"car_duration_hours\": 0.76, \"competitive_route\": 1, \"bus_multiplier\": 1.12, \"bus_difference\": 5.4, \"num_trips\": 12, \"num_competitive\": 12, \"pct_trips_competitive\": 1.0, \"bus_difference_spread\": 0.0, \"route_group\": \"short\", \"max_trip_hrs\": 0.85, \"max_trip_route_group\": 1.0, \"name\": \"City of Eureka\", \"caltrans_district\": \"01 - Eureka\", \"drmt_organization_name\": null, \"cutoff2\": 15.0, \"cutoff\": 2}]}}, {\"mode\": \"vega-lite\"});\n",
       "</script>"
      ],
      "text/plain": [
       "alt.FacetChart(...)"
      ]
     },
     "metadata": {},
     "output_type": "display_data"
    },
    {
     "data": {
      "text/html": [
       "\n",
       "<div id=\"altair-viz-21b95da09310433ebe813022a58e805a\"></div>\n",
       "<script type=\"text/javascript\">\n",
       "  var VEGA_DEBUG = (typeof VEGA_DEBUG == \"undefined\") ? {} : VEGA_DEBUG;\n",
       "  (function(spec, embedOpt){\n",
       "    let outputDiv = document.currentScript.previousElementSibling;\n",
       "    if (outputDiv.id !== \"altair-viz-21b95da09310433ebe813022a58e805a\") {\n",
       "      outputDiv = document.getElementById(\"altair-viz-21b95da09310433ebe813022a58e805a\");\n",
       "    }\n",
       "    const paths = {\n",
       "      \"vega\": \"https://cdn.jsdelivr.net/npm//vega@5?noext\",\n",
       "      \"vega-lib\": \"https://cdn.jsdelivr.net/npm//vega-lib?noext\",\n",
       "      \"vega-lite\": \"https://cdn.jsdelivr.net/npm//vega-lite@4.17.0?noext\",\n",
       "      \"vega-embed\": \"https://cdn.jsdelivr.net/npm//vega-embed@6?noext\",\n",
       "    };\n",
       "\n",
       "    function maybeLoadScript(lib, version) {\n",
       "      var key = `${lib.replace(\"-\", \"\")}_version`;\n",
       "      return (VEGA_DEBUG[key] == version) ?\n",
       "        Promise.resolve(paths[lib]) :\n",
       "        new Promise(function(resolve, reject) {\n",
       "          var s = document.createElement('script');\n",
       "          document.getElementsByTagName(\"head\")[0].appendChild(s);\n",
       "          s.async = true;\n",
       "          s.onload = () => {\n",
       "            VEGA_DEBUG[key] = version;\n",
       "            return resolve(paths[lib]);\n",
       "          };\n",
       "          s.onerror = () => reject(`Error loading script: ${paths[lib]}`);\n",
       "          s.src = paths[lib];\n",
       "        });\n",
       "    }\n",
       "\n",
       "    function showError(err) {\n",
       "      outputDiv.innerHTML = `<div class=\"error\" style=\"color:red;\">${err}</div>`;\n",
       "      throw err;\n",
       "    }\n",
       "\n",
       "    function displayChart(vegaEmbed) {\n",
       "      vegaEmbed(outputDiv, spec, embedOpt)\n",
       "        .catch(err => showError(`Javascript Error: ${err.message}<br>This usually means there's a typo in your chart specification. See the javascript console for the full traceback.`));\n",
       "    }\n",
       "\n",
       "    if(typeof define === \"function\" && define.amd) {\n",
       "      requirejs.config({paths});\n",
       "      require([\"vega-embed\"], displayChart, err => showError(`Error loading script: ${err.message}`));\n",
       "    } else {\n",
       "      maybeLoadScript(\"vega\", \"5\")\n",
       "        .then(() => maybeLoadScript(\"vega-lite\", \"4.17.0\"))\n",
       "        .then(() => maybeLoadScript(\"vega-embed\", \"6\"))\n",
       "        .catch(showError)\n",
       "        .then(() => displayChart(vegaEmbed));\n",
       "    }\n",
       "  })({\"config\": {\"view\": {\"continuousWidth\": 400, \"continuousHeight\": 300, \"stroke\": null}, \"facet\": {\"spacing\": 0}}, \"data\": {\"name\": \"data-534414a9d8aeadb71a5f711a5554a721\"}, \"facet\": {\"column\": {\"field\": \"route_id\", \"sort\": [\"15\"], \"title\": \"Route ID\", \"type\": \"nominal\"}}, \"spec\": {\"layer\": [{\"mark\": {\"type\": \"point\", \"opacity\": 0.65, \"size\": 12, \"strokeWidth\": 1.1}, \"encoding\": {\"color\": {\"field\": \"time_of_day\", \"scale\": {\"range\": [\"#136C97\", \"#E16B26\", \"#F6BF16\", \"#00896B\", \"#7790A3\", \"#5B559C\"]}, \"sort\": [\"AM Peak\", \"Midday\", \"PM Peak\", \"Owl Service\"], \"title\": \"Time of Day\", \"type\": \"nominal\"}, \"tooltip\": [{\"field\": \"route_id\", \"type\": \"nominal\"}, {\"field\": \"trip_id\", \"type\": \"nominal\"}, {\"field\": \"service_hours\", \"type\": \"quantitative\"}, {\"field\": \"car_duration_hours\", \"type\": \"quantitative\"}, {\"field\": \"bus_multiplier\", \"type\": \"quantitative\"}, {\"field\": \"bus_difference\", \"type\": \"quantitative\"}, {\"field\": \"num_trips\", \"type\": \"quantitative\"}, {\"field\": \"num_competitive\", \"type\": \"quantitative\"}, {\"field\": \"pct_trips_competitive\", \"type\": \"quantitative\"}, {\"field\": \"p25\", \"type\": \"quantitative\"}, {\"field\": \"p50\", \"type\": \"quantitative\"}, {\"field\": \"p75\", \"type\": \"quantitative\"}], \"x\": {\"axis\": {\"grid\": false, \"labels\": false, \"ticks\": true, \"values\": [0]}, \"field\": \"jitter\", \"scale\": {}, \"title\": null, \"type\": \"quantitative\"}, \"y\": {\"field\": \"bus_difference\", \"scale\": {\"domain\": [-5, 38.4]}, \"title\": \"Difference in Bus to Car Travel Time (min)\", \"type\": \"quantitative\"}}, \"selection\": {\"selector002\": {\"type\": \"interval\", \"bind\": \"scales\", \"encodings\": [\"x\", \"y\"]}}, \"transform\": [{\"calculate\": \"sqrt(-2*log(random()))*cos(2*PI*random())\", \"as\": \"jitter\"}], \"width\": 60}, {\"layer\": [{\"mark\": {\"type\": \"point\", \"opacity\": 0.6, \"size\": 20, \"strokeWidth\": 1.3}, \"encoding\": {\"color\": {\"value\": \"#323434\"}, \"y\": {\"field\": \"bus_difference\", \"type\": \"quantitative\"}}, \"transform\": [{\"filter\": \"(datum.p50_trip === 1)\"}]}, {\"mark\": {\"type\": \"rule\", \"strokeDash\": [2, 3]}, \"encoding\": {\"color\": {\"value\": \"#323434\"}, \"y\": {\"field\": \"cutoff\", \"type\": \"quantitative\"}}}, {\"mark\": {\"type\": \"rule\", \"strokeDash\": [2, 3]}, \"encoding\": {\"color\": {\"value\": \"#136C97\"}, \"y\": {\"field\": \"cutoff2\", \"type\": \"quantitative\"}}}, {\"mark\": {\"type\": \"text\", \"align\": \"center\", \"baseline\": \"middle\"}, \"encoding\": {\"color\": {\"value\": \"black\"}, \"text\": {\"field\": \"pct_trips_competitive\", \"format\": \".0%\", \"type\": \"quantitative\"}, \"tooltip\": [{\"field\": \"route_id\", \"type\": \"nominal\"}, {\"field\": \"trip_id\", \"type\": \"nominal\"}, {\"field\": \"service_hours\", \"type\": \"quantitative\"}, {\"field\": \"car_duration_hours\", \"type\": \"quantitative\"}, {\"field\": \"bus_multiplier\", \"type\": \"quantitative\"}, {\"field\": \"bus_difference\", \"type\": \"quantitative\"}, {\"field\": \"num_trips\", \"type\": \"quantitative\"}, {\"field\": \"num_competitive\", \"type\": \"quantitative\"}, {\"field\": \"pct_trips_competitive\", \"type\": \"quantitative\"}, {\"field\": \"p25\", \"type\": \"quantitative\"}, {\"field\": \"p50\", \"type\": \"quantitative\"}, {\"field\": \"p75\", \"type\": \"quantitative\"}], \"x\": {\"value\": 30}, \"y\": {\"value\": 15}}, \"transform\": [{\"calculate\": \"sqrt(-2*log(random()))*cos(2*PI*random())\", \"as\": \"jitter\"}, {\"filter\": \"(datum.fastest_trip === 1)\"}]}]}]}, \"resolve\": {\"scale\": {\"y\": \"shared\"}}, \"title\": \"Difference in Bus to Car Travel Time (min)\", \"$schema\": \"https://vega.github.io/schema/vega-lite/v4.17.0.json\", \"datasets\": {\"data-534414a9d8aeadb71a5f711a5554a721\": [{\"calitp_itp_id\": 108, \"trip_key\": -7518924419219556852, \"trip_id\": \"t_2006242_b_33489_tn_12\", \"shape_id\": \"p_547\", \"route_id\": \"15\", \"service_hours\": 0.85, \"trip_first_departure_ts\": 65100, \"trip_last_arrival_ts\": 68160, \"departure_hour\": 18, \"time_of_day\": \"PM Peak\", \"p25\": 0.85, \"p50\": 0.85, \"p75\": 0.85, \"p50_trip\": 1, \"fastest_trip\": 1, \"car_duration_hours\": 0.76, \"competitive_route\": 1, \"bus_multiplier\": 1.12, \"bus_difference\": 5.4, \"num_trips\": 12, \"num_competitive\": 12, \"pct_trips_competitive\": 1.0, \"bus_difference_spread\": 0.0, \"route_group\": \"short\", \"max_trip_hrs\": 0.85, \"max_trip_route_group\": 1.0, \"name\": \"City of Eureka\", \"caltrans_district\": \"01 - Eureka\", \"drmt_organization_name\": null, \"cutoff2\": 15.0, \"cutoff\": 0}, {\"calitp_itp_id\": 108, \"trip_key\": -9000724200441257218, \"trip_id\": \"t_2006242_b_33489_tn_3\", \"shape_id\": \"p_547\", \"route_id\": \"15\", \"service_hours\": 0.85, \"trip_first_departure_ts\": 32700, \"trip_last_arrival_ts\": 35760, \"departure_hour\": 9, \"time_of_day\": \"AM Peak\", \"p25\": 0.85, \"p50\": 0.85, \"p75\": 0.85, \"p50_trip\": 1, \"fastest_trip\": 0, \"car_duration_hours\": 0.76, \"competitive_route\": 1, \"bus_multiplier\": 1.12, \"bus_difference\": 5.4, \"num_trips\": 12, \"num_competitive\": 12, \"pct_trips_competitive\": 1.0, \"bus_difference_spread\": 0.0, \"route_group\": \"short\", \"max_trip_hrs\": 0.85, \"max_trip_route_group\": 1.0, \"name\": \"City of Eureka\", \"caltrans_district\": \"01 - Eureka\", \"drmt_organization_name\": null, \"cutoff2\": 15.0, \"cutoff\": 0}, {\"calitp_itp_id\": 108, \"trip_key\": -3654856771348414816, \"trip_id\": \"t_2006242_b_33489_tn_11\", \"shape_id\": \"p_547\", \"route_id\": \"15\", \"service_hours\": 0.85, \"trip_first_departure_ts\": 61500, \"trip_last_arrival_ts\": 64560, \"departure_hour\": 17, \"time_of_day\": \"PM Peak\", \"p25\": 0.85, \"p50\": 0.85, \"p75\": 0.85, \"p50_trip\": 1, \"fastest_trip\": 0, \"car_duration_hours\": 0.76, \"competitive_route\": 1, \"bus_multiplier\": 1.12, \"bus_difference\": 5.4, \"num_trips\": 12, \"num_competitive\": 12, \"pct_trips_competitive\": 1.0, \"bus_difference_spread\": 0.0, \"route_group\": \"short\", \"max_trip_hrs\": 0.85, \"max_trip_route_group\": 1.0, \"name\": \"City of Eureka\", \"caltrans_district\": \"01 - Eureka\", \"drmt_organization_name\": null, \"cutoff2\": 15.0, \"cutoff\": 0}, {\"calitp_itp_id\": 108, \"trip_key\": 6462197087159188397, \"trip_id\": \"t_2006242_b_33489_tn_4\", \"shape_id\": \"p_547\", \"route_id\": \"15\", \"service_hours\": 0.85, \"trip_first_departure_ts\": 36300, \"trip_last_arrival_ts\": 39360, \"departure_hour\": 10, \"time_of_day\": \"Midday\", \"p25\": 0.85, \"p50\": 0.85, \"p75\": 0.85, \"p50_trip\": 1, \"fastest_trip\": 0, \"car_duration_hours\": 0.76, \"competitive_route\": 1, \"bus_multiplier\": 1.12, \"bus_difference\": 5.4, \"num_trips\": 12, \"num_competitive\": 12, \"pct_trips_competitive\": 1.0, \"bus_difference_spread\": 0.0, \"route_group\": \"short\", \"max_trip_hrs\": 0.85, \"max_trip_route_group\": 1.0, \"name\": \"City of Eureka\", \"caltrans_district\": \"01 - Eureka\", \"drmt_organization_name\": null, \"cutoff2\": 15.0, \"cutoff\": 0}, {\"calitp_itp_id\": 108, \"trip_key\": -1117908295655261734, \"trip_id\": \"t_2006242_b_33489_tn_9\", \"shape_id\": \"p_547\", \"route_id\": \"15\", \"service_hours\": 0.85, \"trip_first_departure_ts\": 54300, \"trip_last_arrival_ts\": 57360, \"departure_hour\": 15, \"time_of_day\": \"Midday\", \"p25\": 0.85, \"p50\": 0.85, \"p75\": 0.85, \"p50_trip\": 1, \"fastest_trip\": 0, \"car_duration_hours\": 0.76, \"competitive_route\": 1, \"bus_multiplier\": 1.12, \"bus_difference\": 5.4, \"num_trips\": 12, \"num_competitive\": 12, \"pct_trips_competitive\": 1.0, \"bus_difference_spread\": 0.0, \"route_group\": \"short\", \"max_trip_hrs\": 0.85, \"max_trip_route_group\": 1.0, \"name\": \"City of Eureka\", \"caltrans_district\": \"01 - Eureka\", \"drmt_organization_name\": null, \"cutoff2\": 15.0, \"cutoff\": 0}, {\"calitp_itp_id\": 108, \"trip_key\": 2609920422435598099, \"trip_id\": \"t_2006242_b_33489_tn_10\", \"shape_id\": \"p_547\", \"route_id\": \"15\", \"service_hours\": 0.85, \"trip_first_departure_ts\": 57900, \"trip_last_arrival_ts\": 60960, \"departure_hour\": 16, \"time_of_day\": \"Midday\", \"p25\": 0.85, \"p50\": 0.85, \"p75\": 0.85, \"p50_trip\": 1, \"fastest_trip\": 0, \"car_duration_hours\": 0.76, \"competitive_route\": 1, \"bus_multiplier\": 1.12, \"bus_difference\": 5.4, \"num_trips\": 12, \"num_competitive\": 12, \"pct_trips_competitive\": 1.0, \"bus_difference_spread\": 0.0, \"route_group\": \"short\", \"max_trip_hrs\": 0.85, \"max_trip_route_group\": 1.0, \"name\": \"City of Eureka\", \"caltrans_district\": \"01 - Eureka\", \"drmt_organization_name\": null, \"cutoff2\": 15.0, \"cutoff\": 0}, {\"calitp_itp_id\": 108, \"trip_key\": -9044514633596643986, \"trip_id\": \"t_2006242_b_33489_tn_5\", \"shape_id\": \"p_547\", \"route_id\": \"15\", \"service_hours\": 0.85, \"trip_first_departure_ts\": 39900, \"trip_last_arrival_ts\": 42960, \"departure_hour\": 11, \"time_of_day\": \"Midday\", \"p25\": 0.85, \"p50\": 0.85, \"p75\": 0.85, \"p50_trip\": 1, \"fastest_trip\": 0, \"car_duration_hours\": 0.76, \"competitive_route\": 1, \"bus_multiplier\": 1.12, \"bus_difference\": 5.4, \"num_trips\": 12, \"num_competitive\": 12, \"pct_trips_competitive\": 1.0, \"bus_difference_spread\": 0.0, \"route_group\": \"short\", \"max_trip_hrs\": 0.85, \"max_trip_route_group\": 1.0, \"name\": \"City of Eureka\", \"caltrans_district\": \"01 - Eureka\", \"drmt_organization_name\": null, \"cutoff2\": 15.0, \"cutoff\": 0}, {\"calitp_itp_id\": 108, \"trip_key\": 6779707872442560571, \"trip_id\": \"t_2006242_b_33489_tn_2\", \"shape_id\": \"p_547\", \"route_id\": \"15\", \"service_hours\": 0.85, \"trip_first_departure_ts\": 29100, \"trip_last_arrival_ts\": 32160, \"departure_hour\": 8, \"time_of_day\": \"AM Peak\", \"p25\": 0.85, \"p50\": 0.85, \"p75\": 0.85, \"p50_trip\": 1, \"fastest_trip\": 0, \"car_duration_hours\": 0.76, \"competitive_route\": 1, \"bus_multiplier\": 1.12, \"bus_difference\": 5.4, \"num_trips\": 12, \"num_competitive\": 12, \"pct_trips_competitive\": 1.0, \"bus_difference_spread\": 0.0, \"route_group\": \"short\", \"max_trip_hrs\": 0.85, \"max_trip_route_group\": 1.0, \"name\": \"City of Eureka\", \"caltrans_district\": \"01 - Eureka\", \"drmt_organization_name\": null, \"cutoff2\": 15.0, \"cutoff\": 0}, {\"calitp_itp_id\": 108, \"trip_key\": -4647400750918822944, \"trip_id\": \"t_2006242_b_33489_tn_7\", \"shape_id\": \"p_547\", \"route_id\": \"15\", \"service_hours\": 0.85, \"trip_first_departure_ts\": 47100, \"trip_last_arrival_ts\": 50160, \"departure_hour\": 13, \"time_of_day\": \"Midday\", \"p25\": 0.85, \"p50\": 0.85, \"p75\": 0.85, \"p50_trip\": 1, \"fastest_trip\": 0, \"car_duration_hours\": 0.76, \"competitive_route\": 1, \"bus_multiplier\": 1.12, \"bus_difference\": 5.4, \"num_trips\": 12, \"num_competitive\": 12, \"pct_trips_competitive\": 1.0, \"bus_difference_spread\": 0.0, \"route_group\": \"short\", \"max_trip_hrs\": 0.85, \"max_trip_route_group\": 1.0, \"name\": \"City of Eureka\", \"caltrans_district\": \"01 - Eureka\", \"drmt_organization_name\": null, \"cutoff2\": 15.0, \"cutoff\": 0}, {\"calitp_itp_id\": 108, \"trip_key\": 6881909043677401907, \"trip_id\": \"t_2006242_b_33489_tn_8\", \"shape_id\": \"p_547\", \"route_id\": \"15\", \"service_hours\": 0.85, \"trip_first_departure_ts\": 50700, \"trip_last_arrival_ts\": 53760, \"departure_hour\": 14, \"time_of_day\": \"Midday\", \"p25\": 0.85, \"p50\": 0.85, \"p75\": 0.85, \"p50_trip\": 1, \"fastest_trip\": 0, \"car_duration_hours\": 0.76, \"competitive_route\": 1, \"bus_multiplier\": 1.12, \"bus_difference\": 5.4, \"num_trips\": 12, \"num_competitive\": 12, \"pct_trips_competitive\": 1.0, \"bus_difference_spread\": 0.0, \"route_group\": \"short\", \"max_trip_hrs\": 0.85, \"max_trip_route_group\": 1.0, \"name\": \"City of Eureka\", \"caltrans_district\": \"01 - Eureka\", \"drmt_organization_name\": null, \"cutoff2\": 15.0, \"cutoff\": 0}, {\"calitp_itp_id\": 108, \"trip_key\": -4221252316641284407, \"trip_id\": \"t_2006242_b_33489_tn_1\", \"shape_id\": \"p_547\", \"route_id\": \"15\", \"service_hours\": 0.85, \"trip_first_departure_ts\": 25500, \"trip_last_arrival_ts\": 28560, \"departure_hour\": 7, \"time_of_day\": \"AM Peak\", \"p25\": 0.85, \"p50\": 0.85, \"p75\": 0.85, \"p50_trip\": 1, \"fastest_trip\": 0, \"car_duration_hours\": 0.76, \"competitive_route\": 1, \"bus_multiplier\": 1.12, \"bus_difference\": 5.4, \"num_trips\": 12, \"num_competitive\": 12, \"pct_trips_competitive\": 1.0, \"bus_difference_spread\": 0.0, \"route_group\": \"short\", \"max_trip_hrs\": 0.85, \"max_trip_route_group\": 1.0, \"name\": \"City of Eureka\", \"caltrans_district\": \"01 - Eureka\", \"drmt_organization_name\": null, \"cutoff2\": 15.0, \"cutoff\": 0}, {\"calitp_itp_id\": 108, \"trip_key\": -7844095644534817354, \"trip_id\": \"t_2006242_b_33489_tn_6\", \"shape_id\": \"p_547\", \"route_id\": \"15\", \"service_hours\": 0.85, \"trip_first_departure_ts\": 43500, \"trip_last_arrival_ts\": 46560, \"departure_hour\": 12, \"time_of_day\": \"Midday\", \"p25\": 0.85, \"p50\": 0.85, \"p75\": 0.85, \"p50_trip\": 1, \"fastest_trip\": 0, \"car_duration_hours\": 0.76, \"competitive_route\": 1, \"bus_multiplier\": 1.12, \"bus_difference\": 5.4, \"num_trips\": 12, \"num_competitive\": 12, \"pct_trips_competitive\": 1.0, \"bus_difference_spread\": 0.0, \"route_group\": \"short\", \"max_trip_hrs\": 0.85, \"max_trip_route_group\": 1.0, \"name\": \"City of Eureka\", \"caltrans_district\": \"01 - Eureka\", \"drmt_organization_name\": null, \"cutoff2\": 15.0, \"cutoff\": 0}]}}, {\"mode\": \"vega-lite\"});\n",
       "</script>"
      ],
      "text/plain": [
       "alt.FacetChart(...)"
      ]
     },
     "metadata": {},
     "output_type": "display_data"
    }
   ],
   "source": [
    "# Allow for possibility that operator doesn't have routes that fall into certain route_groups\n",
    "# But, jupyterbook will not like markdown with f-string\n",
    "# separate out route_group and put in each cell, and use try/except + if to display...\n",
    "# but all 3 route groups must be displayed. just add sentence about why no routes were returned at the end\n",
    "route_group = \"short\"\n",
    "try:\n",
    "    subset_routes, mult, diff  = setup_charts(df, PCT_COMPETITIVE_THRESHOLD, route_group)\n",
    "    \n",
    "    if len(subset_routes) > 0:\n",
    "        display(\n",
    "            Markdown(\n",
    "                f\"{CAPTIONS_DICT[route_group]}\"\n",
    "                \"Within each route group, routes are sorted in descending order \"\n",
    "                \"by % competitive trips and # trips below the additional time cut-off.\"\n",
    "            )\n",
    "        )\n",
    "\n",
    "        display(mult)\n",
    "        display(diff)\n",
    "except:\n",
    "    print(\"No routes meet this criteria.\")"
   ]
  },
  {
   "cell_type": "markdown",
   "id": "c2931b6f-034d-4384-9e14-80b925e3b820",
   "metadata": {
    "papermill": {
     "duration": 0.012876,
     "end_time": "2022-05-07T16:51:05.876462",
     "exception": false,
     "start_time": "2022-05-07T16:51:05.863586",
     "status": "completed"
    },
    "tags": []
   },
   "source": [
    "### Medium Routes (1-1.5 hrs)"
   ]
  },
  {
   "cell_type": "code",
   "execution_count": 13,
   "id": "480edddc-4de0-48c2-ae4c-b0ceef8f28b5",
   "metadata": {
    "execution": {
     "iopub.execute_input": "2022-05-07T16:51:05.910139Z",
     "iopub.status.busy": "2022-05-07T16:51:05.909888Z",
     "iopub.status.idle": "2022-05-07T16:51:05.923763Z",
     "shell.execute_reply": "2022-05-07T16:51:05.922428Z"
    },
    "jupyter": {
     "source_hidden": true
    },
    "papermill": {
     "duration": 0.036087,
     "end_time": "2022-05-07T16:51:05.925530",
     "exception": false,
     "start_time": "2022-05-07T16:51:05.889443",
     "status": "completed"
    },
    "tags": [
     "remove_input"
    ]
   },
   "outputs": [
    {
     "name": "stdout",
     "output_type": "stream",
     "text": [
      "No routes meet this criteria.\n"
     ]
    }
   ],
   "source": [
    "route_group = \"medium\"\n",
    "try:\n",
    "    subset_routes, mult, diff  = setup_charts(df, PCT_COMPETITIVE_THRESHOLD, route_group)\n",
    "    if len(subset_routes) > 0:\n",
    "        display(\n",
    "            Markdown(\n",
    "                f\"{CAPTIONS_DICT[route_group]}\"\n",
    "                \"Within each route group, routes are sorted in descending order \"\n",
    "                \"by % competitive trips and # trips below the additional time cut-off.\"\n",
    "            )\n",
    "        )\n",
    "\n",
    "        display(mult)\n",
    "        display(diff)\n",
    "except:\n",
    "    print(\"No routes meet this criteria.\")"
   ]
  },
  {
   "cell_type": "markdown",
   "id": "124b76d0-886c-4d03-92ac-f1bda3cda182",
   "metadata": {
    "papermill": {
     "duration": 0.013061,
     "end_time": "2022-05-07T16:51:05.951975",
     "exception": false,
     "start_time": "2022-05-07T16:51:05.938914",
     "status": "completed"
    },
    "tags": []
   },
   "source": [
    "### Long Routes (> 1.5 hrs)"
   ]
  },
  {
   "cell_type": "code",
   "execution_count": 14,
   "id": "ddc81b19-4c45-4c81-8b7a-5e0f394aa7a3",
   "metadata": {
    "execution": {
     "iopub.execute_input": "2022-05-07T16:51:05.982793Z",
     "iopub.status.busy": "2022-05-07T16:51:05.982496Z",
     "iopub.status.idle": "2022-05-07T16:51:06.219963Z",
     "shell.execute_reply": "2022-05-07T16:51:06.219434Z"
    },
    "jupyter": {
     "source_hidden": true
    },
    "papermill": {
     "duration": 0.254893,
     "end_time": "2022-05-07T16:51:06.221885",
     "exception": false,
     "start_time": "2022-05-07T16:51:05.966992",
     "status": "completed"
    },
    "tags": [
     "remove_input"
    ]
   },
   "outputs": [
    {
     "data": {
      "text/markdown": [
       "<br>These are routes that have at least 25% of their trips take no more than an additional 40 min compared to a car (up to 15 routes) are shown.Within each route group, routes are sorted in descending order by % competitive trips and # trips below the additional time cut-off."
      ],
      "text/plain": [
       "<IPython.core.display.Markdown object>"
      ]
     },
     "metadata": {},
     "output_type": "display_data"
    },
    {
     "data": {
      "text/html": [
       "\n",
       "<div id=\"altair-viz-ac07e3643ce2469d8f41fe1f9de6df21\"></div>\n",
       "<script type=\"text/javascript\">\n",
       "  var VEGA_DEBUG = (typeof VEGA_DEBUG == \"undefined\") ? {} : VEGA_DEBUG;\n",
       "  (function(spec, embedOpt){\n",
       "    let outputDiv = document.currentScript.previousElementSibling;\n",
       "    if (outputDiv.id !== \"altair-viz-ac07e3643ce2469d8f41fe1f9de6df21\") {\n",
       "      outputDiv = document.getElementById(\"altair-viz-ac07e3643ce2469d8f41fe1f9de6df21\");\n",
       "    }\n",
       "    const paths = {\n",
       "      \"vega\": \"https://cdn.jsdelivr.net/npm//vega@5?noext\",\n",
       "      \"vega-lib\": \"https://cdn.jsdelivr.net/npm//vega-lib?noext\",\n",
       "      \"vega-lite\": \"https://cdn.jsdelivr.net/npm//vega-lite@4.17.0?noext\",\n",
       "      \"vega-embed\": \"https://cdn.jsdelivr.net/npm//vega-embed@6?noext\",\n",
       "    };\n",
       "\n",
       "    function maybeLoadScript(lib, version) {\n",
       "      var key = `${lib.replace(\"-\", \"\")}_version`;\n",
       "      return (VEGA_DEBUG[key] == version) ?\n",
       "        Promise.resolve(paths[lib]) :\n",
       "        new Promise(function(resolve, reject) {\n",
       "          var s = document.createElement('script');\n",
       "          document.getElementsByTagName(\"head\")[0].appendChild(s);\n",
       "          s.async = true;\n",
       "          s.onload = () => {\n",
       "            VEGA_DEBUG[key] = version;\n",
       "            return resolve(paths[lib]);\n",
       "          };\n",
       "          s.onerror = () => reject(`Error loading script: ${paths[lib]}`);\n",
       "          s.src = paths[lib];\n",
       "        });\n",
       "    }\n",
       "\n",
       "    function showError(err) {\n",
       "      outputDiv.innerHTML = `<div class=\"error\" style=\"color:red;\">${err}</div>`;\n",
       "      throw err;\n",
       "    }\n",
       "\n",
       "    function displayChart(vegaEmbed) {\n",
       "      vegaEmbed(outputDiv, spec, embedOpt)\n",
       "        .catch(err => showError(`Javascript Error: ${err.message}<br>This usually means there's a typo in your chart specification. See the javascript console for the full traceback.`));\n",
       "    }\n",
       "\n",
       "    if(typeof define === \"function\" && define.amd) {\n",
       "      requirejs.config({paths});\n",
       "      require([\"vega-embed\"], displayChart, err => showError(`Error loading script: ${err.message}`));\n",
       "    } else {\n",
       "      maybeLoadScript(\"vega\", \"5\")\n",
       "        .then(() => maybeLoadScript(\"vega-lite\", \"4.17.0\"))\n",
       "        .then(() => maybeLoadScript(\"vega-embed\", \"6\"))\n",
       "        .catch(showError)\n",
       "        .then(() => displayChart(vegaEmbed));\n",
       "    }\n",
       "  })({\"config\": {\"view\": {\"continuousWidth\": 400, \"continuousHeight\": 300, \"stroke\": null}, \"facet\": {\"spacing\": 0}}, \"data\": {\"name\": \"data-a79a3cd148d0f31d01ccf09835a2a357\"}, \"facet\": {\"column\": {\"field\": \"route_id\", \"sort\": [\"822\"], \"title\": \"Route ID\", \"type\": \"nominal\"}}, \"spec\": {\"layer\": [{\"mark\": {\"type\": \"point\", \"opacity\": 0.65, \"size\": 12, \"strokeWidth\": 1.1}, \"encoding\": {\"color\": {\"field\": \"time_of_day\", \"scale\": {\"range\": [\"#136C97\", \"#E16B26\", \"#F6BF16\", \"#00896B\", \"#7790A3\", \"#5B559C\"]}, \"sort\": [\"AM Peak\", \"Midday\", \"PM Peak\", \"Owl Service\"], \"title\": \"Time of Day\", \"type\": \"nominal\"}, \"tooltip\": [{\"field\": \"route_id\", \"type\": \"nominal\"}, {\"field\": \"trip_id\", \"type\": \"nominal\"}, {\"field\": \"service_hours\", \"type\": \"quantitative\"}, {\"field\": \"car_duration_hours\", \"type\": \"quantitative\"}, {\"field\": \"bus_multiplier\", \"type\": \"quantitative\"}, {\"field\": \"bus_difference\", \"type\": \"quantitative\"}, {\"field\": \"num_trips\", \"type\": \"quantitative\"}, {\"field\": \"num_competitive\", \"type\": \"quantitative\"}, {\"field\": \"pct_trips_competitive\", \"type\": \"quantitative\"}, {\"field\": \"p25\", \"type\": \"quantitative\"}, {\"field\": \"p50\", \"type\": \"quantitative\"}, {\"field\": \"p75\", \"type\": \"quantitative\"}], \"x\": {\"axis\": {\"grid\": false, \"labels\": false, \"ticks\": true, \"values\": [0]}, \"field\": \"jitter\", \"scale\": {}, \"title\": null, \"type\": \"quantitative\"}, \"y\": {\"field\": \"bus_multiplier\", \"scale\": {\"domain\": [-0.25, 2.5]}, \"title\": \"Ratio of Bus to Car Travel Time\", \"type\": \"quantitative\"}}, \"selection\": {\"selector003\": {\"type\": \"interval\", \"bind\": \"scales\", \"encodings\": [\"x\", \"y\"]}}, \"transform\": [{\"calculate\": \"sqrt(-2*log(random()))*cos(2*PI*random())\", \"as\": \"jitter\"}], \"width\": 60}, {\"layer\": [{\"mark\": {\"type\": \"point\", \"opacity\": 0.6, \"size\": 20, \"strokeWidth\": 1.3}, \"encoding\": {\"color\": {\"value\": \"#323434\"}, \"y\": {\"field\": \"bus_multiplier\", \"type\": \"quantitative\"}}, \"transform\": [{\"filter\": \"(datum.p50_trip === 1)\"}]}, {\"mark\": {\"type\": \"rule\", \"strokeDash\": [2, 3]}, \"encoding\": {\"color\": {\"value\": \"#323434\"}, \"y\": {\"field\": \"cutoff\", \"type\": \"quantitative\"}}}, {\"mark\": {\"type\": \"text\", \"align\": \"center\", \"baseline\": \"middle\"}, \"encoding\": {\"color\": {\"value\": \"black\"}, \"text\": {\"field\": \"pct_trips_competitive\", \"format\": \".0%\", \"type\": \"quantitative\"}, \"tooltip\": [{\"field\": \"route_id\", \"type\": \"nominal\"}, {\"field\": \"trip_id\", \"type\": \"nominal\"}, {\"field\": \"service_hours\", \"type\": \"quantitative\"}, {\"field\": \"car_duration_hours\", \"type\": \"quantitative\"}, {\"field\": \"bus_multiplier\", \"type\": \"quantitative\"}, {\"field\": \"bus_difference\", \"type\": \"quantitative\"}, {\"field\": \"num_trips\", \"type\": \"quantitative\"}, {\"field\": \"num_competitive\", \"type\": \"quantitative\"}, {\"field\": \"pct_trips_competitive\", \"type\": \"quantitative\"}, {\"field\": \"p25\", \"type\": \"quantitative\"}, {\"field\": \"p50\", \"type\": \"quantitative\"}, {\"field\": \"p75\", \"type\": \"quantitative\"}], \"x\": {\"value\": 30}, \"y\": {\"value\": 15}}, \"transform\": [{\"calculate\": \"sqrt(-2*log(random()))*cos(2*PI*random())\", \"as\": \"jitter\"}, {\"filter\": \"(datum.fastest_trip === 1)\"}]}]}]}, \"resolve\": {\"scale\": {\"y\": \"shared\"}}, \"title\": \"Ratio of Bus to Car Travel Time\", \"$schema\": \"https://vega.github.io/schema/vega-lite/v4.17.0.json\", \"datasets\": {\"data-a79a3cd148d0f31d01ccf09835a2a357\": [{\"calitp_itp_id\": 108, \"trip_key\": 3220744194699047804, \"trip_id\": \"t_1194487_b_23002_tn_0\", \"shape_id\": \"p_179049\", \"route_id\": \"822\", \"service_hours\": 1.83, \"trip_first_departure_ts\": 33300, \"trip_last_arrival_ts\": 39900, \"departure_hour\": 9, \"time_of_day\": \"AM Peak\", \"p25\": 1.92, \"p50\": 1.92, \"p75\": 1.92, \"p50_trip\": 0, \"fastest_trip\": 1, \"car_duration_hours\": 1.36, \"competitive_route\": 1, \"bus_multiplier\": 1.35, \"bus_difference\": 28.2, \"num_trips\": 5, \"num_competitive\": 5, \"pct_trips_competitive\": 1.0, \"bus_difference_spread\": 10.2, \"route_group\": \"long\", \"max_trip_hrs\": 2.0, \"max_trip_route_group\": 2.55, \"name\": \"City of Eureka\", \"caltrans_district\": \"01 - Eureka\", \"drmt_organization_name\": null, \"cutoff2\": 38.25, \"cutoff\": 2}, {\"calitp_itp_id\": 108, \"trip_key\": 4974272566598491787, \"trip_id\": \"t_1194477_b_23002_tn_0\", \"shape_id\": \"p_179043\", \"route_id\": \"822\", \"service_hours\": 1.92, \"trip_first_departure_ts\": 40800, \"trip_last_arrival_ts\": 47700, \"departure_hour\": 11, \"time_of_day\": \"Midday\", \"p25\": 1.92, \"p50\": 1.92, \"p75\": 1.92, \"p50_trip\": 1, \"fastest_trip\": 0, \"car_duration_hours\": 1.36, \"competitive_route\": 1, \"bus_multiplier\": 1.41, \"bus_difference\": 33.6, \"num_trips\": 5, \"num_competitive\": 5, \"pct_trips_competitive\": 1.0, \"bus_difference_spread\": 10.2, \"route_group\": \"long\", \"max_trip_hrs\": 2.0, \"max_trip_route_group\": 2.55, \"name\": \"City of Eureka\", \"caltrans_district\": \"01 - Eureka\", \"drmt_organization_name\": null, \"cutoff2\": 38.25, \"cutoff\": 2}, {\"calitp_itp_id\": 108, \"trip_key\": -2035350872544149434, \"trip_id\": \"t_1194480_b_23002_tn_0\", \"shape_id\": \"p_179043\", \"route_id\": \"822\", \"service_hours\": 1.92, \"trip_first_departure_ts\": 62400, \"trip_last_arrival_ts\": 69300, \"departure_hour\": 17, \"time_of_day\": \"PM Peak\", \"p25\": 1.92, \"p50\": 1.92, \"p75\": 1.92, \"p50_trip\": 1, \"fastest_trip\": 0, \"car_duration_hours\": 1.36, \"competitive_route\": 1, \"bus_multiplier\": 1.41, \"bus_difference\": 33.6, \"num_trips\": 5, \"num_competitive\": 5, \"pct_trips_competitive\": 1.0, \"bus_difference_spread\": 10.2, \"route_group\": \"long\", \"max_trip_hrs\": 2.0, \"max_trip_route_group\": 2.55, \"name\": \"City of Eureka\", \"caltrans_district\": \"01 - Eureka\", \"drmt_organization_name\": null, \"cutoff2\": 38.25, \"cutoff\": 2}, {\"calitp_itp_id\": 108, \"trip_key\": 7643564517500427975, \"trip_id\": \"t_1194478_b_23002_tn_0\", \"shape_id\": \"p_179043\", \"route_id\": \"822\", \"service_hours\": 1.92, \"trip_first_departure_ts\": 24360, \"trip_last_arrival_ts\": 31260, \"departure_hour\": 6, \"time_of_day\": \"Owl Service\", \"p25\": 1.92, \"p50\": 1.92, \"p75\": 1.92, \"p50_trip\": 1, \"fastest_trip\": 0, \"car_duration_hours\": 1.36, \"competitive_route\": 1, \"bus_multiplier\": 1.41, \"bus_difference\": 33.6, \"num_trips\": 5, \"num_competitive\": 5, \"pct_trips_competitive\": 1.0, \"bus_difference_spread\": 10.2, \"route_group\": \"long\", \"max_trip_hrs\": 2.0, \"max_trip_route_group\": 2.55, \"name\": \"City of Eureka\", \"caltrans_district\": \"01 - Eureka\", \"drmt_organization_name\": null, \"cutoff2\": 38.25, \"cutoff\": 2}, {\"calitp_itp_id\": 108, \"trip_key\": -7703734674675344155, \"trip_id\": \"t_1194483_b_23002_tn_0\", \"shape_id\": \"p_179044\", \"route_id\": \"822\", \"service_hours\": 2.0, \"trip_first_departure_ts\": 54300, \"trip_last_arrival_ts\": 61500, \"departure_hour\": 15, \"time_of_day\": \"Midday\", \"p25\": 1.92, \"p50\": 1.92, \"p75\": 1.92, \"p50_trip\": 0, \"fastest_trip\": 0, \"car_duration_hours\": 1.36, \"competitive_route\": 1, \"bus_multiplier\": 1.47, \"bus_difference\": 38.4, \"num_trips\": 5, \"num_competitive\": 5, \"pct_trips_competitive\": 1.0, \"bus_difference_spread\": 10.2, \"route_group\": \"long\", \"max_trip_hrs\": 2.0, \"max_trip_route_group\": 2.55, \"name\": \"City of Eureka\", \"caltrans_district\": \"01 - Eureka\", \"drmt_organization_name\": null, \"cutoff2\": 38.25, \"cutoff\": 2}]}}, {\"mode\": \"vega-lite\"});\n",
       "</script>"
      ],
      "text/plain": [
       "alt.FacetChart(...)"
      ]
     },
     "metadata": {},
     "output_type": "display_data"
    },
    {
     "data": {
      "text/html": [
       "\n",
       "<div id=\"altair-viz-7a9d85c32c7349ebb18dfb389b8ce1f0\"></div>\n",
       "<script type=\"text/javascript\">\n",
       "  var VEGA_DEBUG = (typeof VEGA_DEBUG == \"undefined\") ? {} : VEGA_DEBUG;\n",
       "  (function(spec, embedOpt){\n",
       "    let outputDiv = document.currentScript.previousElementSibling;\n",
       "    if (outputDiv.id !== \"altair-viz-7a9d85c32c7349ebb18dfb389b8ce1f0\") {\n",
       "      outputDiv = document.getElementById(\"altair-viz-7a9d85c32c7349ebb18dfb389b8ce1f0\");\n",
       "    }\n",
       "    const paths = {\n",
       "      \"vega\": \"https://cdn.jsdelivr.net/npm//vega@5?noext\",\n",
       "      \"vega-lib\": \"https://cdn.jsdelivr.net/npm//vega-lib?noext\",\n",
       "      \"vega-lite\": \"https://cdn.jsdelivr.net/npm//vega-lite@4.17.0?noext\",\n",
       "      \"vega-embed\": \"https://cdn.jsdelivr.net/npm//vega-embed@6?noext\",\n",
       "    };\n",
       "\n",
       "    function maybeLoadScript(lib, version) {\n",
       "      var key = `${lib.replace(\"-\", \"\")}_version`;\n",
       "      return (VEGA_DEBUG[key] == version) ?\n",
       "        Promise.resolve(paths[lib]) :\n",
       "        new Promise(function(resolve, reject) {\n",
       "          var s = document.createElement('script');\n",
       "          document.getElementsByTagName(\"head\")[0].appendChild(s);\n",
       "          s.async = true;\n",
       "          s.onload = () => {\n",
       "            VEGA_DEBUG[key] = version;\n",
       "            return resolve(paths[lib]);\n",
       "          };\n",
       "          s.onerror = () => reject(`Error loading script: ${paths[lib]}`);\n",
       "          s.src = paths[lib];\n",
       "        });\n",
       "    }\n",
       "\n",
       "    function showError(err) {\n",
       "      outputDiv.innerHTML = `<div class=\"error\" style=\"color:red;\">${err}</div>`;\n",
       "      throw err;\n",
       "    }\n",
       "\n",
       "    function displayChart(vegaEmbed) {\n",
       "      vegaEmbed(outputDiv, spec, embedOpt)\n",
       "        .catch(err => showError(`Javascript Error: ${err.message}<br>This usually means there's a typo in your chart specification. See the javascript console for the full traceback.`));\n",
       "    }\n",
       "\n",
       "    if(typeof define === \"function\" && define.amd) {\n",
       "      requirejs.config({paths});\n",
       "      require([\"vega-embed\"], displayChart, err => showError(`Error loading script: ${err.message}`));\n",
       "    } else {\n",
       "      maybeLoadScript(\"vega\", \"5\")\n",
       "        .then(() => maybeLoadScript(\"vega-lite\", \"4.17.0\"))\n",
       "        .then(() => maybeLoadScript(\"vega-embed\", \"6\"))\n",
       "        .catch(showError)\n",
       "        .then(() => displayChart(vegaEmbed));\n",
       "    }\n",
       "  })({\"config\": {\"view\": {\"continuousWidth\": 400, \"continuousHeight\": 300, \"stroke\": null}, \"facet\": {\"spacing\": 0}}, \"data\": {\"name\": \"data-69d6f05c59f8db85d7ba2961cc564611\"}, \"facet\": {\"column\": {\"field\": \"route_id\", \"sort\": [\"822\"], \"title\": \"Route ID\", \"type\": \"nominal\"}}, \"spec\": {\"layer\": [{\"mark\": {\"type\": \"point\", \"opacity\": 0.65, \"size\": 12, \"strokeWidth\": 1.1}, \"encoding\": {\"color\": {\"field\": \"time_of_day\", \"scale\": {\"range\": [\"#136C97\", \"#E16B26\", \"#F6BF16\", \"#00896B\", \"#7790A3\", \"#5B559C\"]}, \"sort\": [\"AM Peak\", \"Midday\", \"PM Peak\", \"Owl Service\"], \"title\": \"Time of Day\", \"type\": \"nominal\"}, \"tooltip\": [{\"field\": \"route_id\", \"type\": \"nominal\"}, {\"field\": \"trip_id\", \"type\": \"nominal\"}, {\"field\": \"service_hours\", \"type\": \"quantitative\"}, {\"field\": \"car_duration_hours\", \"type\": \"quantitative\"}, {\"field\": \"bus_multiplier\", \"type\": \"quantitative\"}, {\"field\": \"bus_difference\", \"type\": \"quantitative\"}, {\"field\": \"num_trips\", \"type\": \"quantitative\"}, {\"field\": \"num_competitive\", \"type\": \"quantitative\"}, {\"field\": \"pct_trips_competitive\", \"type\": \"quantitative\"}, {\"field\": \"p25\", \"type\": \"quantitative\"}, {\"field\": \"p50\", \"type\": \"quantitative\"}, {\"field\": \"p75\", \"type\": \"quantitative\"}], \"x\": {\"axis\": {\"grid\": false, \"labels\": false, \"ticks\": true, \"values\": [0]}, \"field\": \"jitter\", \"scale\": {}, \"title\": null, \"type\": \"quantitative\"}, \"y\": {\"field\": \"bus_difference\", \"scale\": {\"domain\": [-5, 43.25]}, \"title\": \"Difference in Bus to Car Travel Time (min)\", \"type\": \"quantitative\"}}, \"selection\": {\"selector004\": {\"type\": \"interval\", \"bind\": \"scales\", \"encodings\": [\"x\", \"y\"]}}, \"transform\": [{\"calculate\": \"sqrt(-2*log(random()))*cos(2*PI*random())\", \"as\": \"jitter\"}], \"width\": 60}, {\"layer\": [{\"mark\": {\"type\": \"point\", \"opacity\": 0.6, \"size\": 20, \"strokeWidth\": 1.3}, \"encoding\": {\"color\": {\"value\": \"#323434\"}, \"y\": {\"field\": \"bus_difference\", \"type\": \"quantitative\"}}, \"transform\": [{\"filter\": \"(datum.p50_trip === 1)\"}]}, {\"mark\": {\"type\": \"rule\", \"strokeDash\": [2, 3]}, \"encoding\": {\"color\": {\"value\": \"#323434\"}, \"y\": {\"field\": \"cutoff\", \"type\": \"quantitative\"}}}, {\"mark\": {\"type\": \"rule\", \"strokeDash\": [2, 3]}, \"encoding\": {\"color\": {\"value\": \"#136C97\"}, \"y\": {\"field\": \"cutoff2\", \"type\": \"quantitative\"}}}, {\"mark\": {\"type\": \"text\", \"align\": \"center\", \"baseline\": \"middle\"}, \"encoding\": {\"color\": {\"value\": \"black\"}, \"text\": {\"field\": \"pct_trips_competitive\", \"format\": \".0%\", \"type\": \"quantitative\"}, \"tooltip\": [{\"field\": \"route_id\", \"type\": \"nominal\"}, {\"field\": \"trip_id\", \"type\": \"nominal\"}, {\"field\": \"service_hours\", \"type\": \"quantitative\"}, {\"field\": \"car_duration_hours\", \"type\": \"quantitative\"}, {\"field\": \"bus_multiplier\", \"type\": \"quantitative\"}, {\"field\": \"bus_difference\", \"type\": \"quantitative\"}, {\"field\": \"num_trips\", \"type\": \"quantitative\"}, {\"field\": \"num_competitive\", \"type\": \"quantitative\"}, {\"field\": \"pct_trips_competitive\", \"type\": \"quantitative\"}, {\"field\": \"p25\", \"type\": \"quantitative\"}, {\"field\": \"p50\", \"type\": \"quantitative\"}, {\"field\": \"p75\", \"type\": \"quantitative\"}], \"x\": {\"value\": 30}, \"y\": {\"value\": 15}}, \"transform\": [{\"calculate\": \"sqrt(-2*log(random()))*cos(2*PI*random())\", \"as\": \"jitter\"}, {\"filter\": \"(datum.fastest_trip === 1)\"}]}]}]}, \"resolve\": {\"scale\": {\"y\": \"shared\"}}, \"title\": \"Difference in Bus to Car Travel Time (min)\", \"$schema\": \"https://vega.github.io/schema/vega-lite/v4.17.0.json\", \"datasets\": {\"data-69d6f05c59f8db85d7ba2961cc564611\": [{\"calitp_itp_id\": 108, \"trip_key\": 3220744194699047804, \"trip_id\": \"t_1194487_b_23002_tn_0\", \"shape_id\": \"p_179049\", \"route_id\": \"822\", \"service_hours\": 1.83, \"trip_first_departure_ts\": 33300, \"trip_last_arrival_ts\": 39900, \"departure_hour\": 9, \"time_of_day\": \"AM Peak\", \"p25\": 1.92, \"p50\": 1.92, \"p75\": 1.92, \"p50_trip\": 0, \"fastest_trip\": 1, \"car_duration_hours\": 1.36, \"competitive_route\": 1, \"bus_multiplier\": 1.35, \"bus_difference\": 28.2, \"num_trips\": 5, \"num_competitive\": 5, \"pct_trips_competitive\": 1.0, \"bus_difference_spread\": 10.2, \"route_group\": \"long\", \"max_trip_hrs\": 2.0, \"max_trip_route_group\": 2.55, \"name\": \"City of Eureka\", \"caltrans_district\": \"01 - Eureka\", \"drmt_organization_name\": null, \"cutoff2\": 38.25, \"cutoff\": 0}, {\"calitp_itp_id\": 108, \"trip_key\": 4974272566598491787, \"trip_id\": \"t_1194477_b_23002_tn_0\", \"shape_id\": \"p_179043\", \"route_id\": \"822\", \"service_hours\": 1.92, \"trip_first_departure_ts\": 40800, \"trip_last_arrival_ts\": 47700, \"departure_hour\": 11, \"time_of_day\": \"Midday\", \"p25\": 1.92, \"p50\": 1.92, \"p75\": 1.92, \"p50_trip\": 1, \"fastest_trip\": 0, \"car_duration_hours\": 1.36, \"competitive_route\": 1, \"bus_multiplier\": 1.41, \"bus_difference\": 33.6, \"num_trips\": 5, \"num_competitive\": 5, \"pct_trips_competitive\": 1.0, \"bus_difference_spread\": 10.2, \"route_group\": \"long\", \"max_trip_hrs\": 2.0, \"max_trip_route_group\": 2.55, \"name\": \"City of Eureka\", \"caltrans_district\": \"01 - Eureka\", \"drmt_organization_name\": null, \"cutoff2\": 38.25, \"cutoff\": 0}, {\"calitp_itp_id\": 108, \"trip_key\": -2035350872544149434, \"trip_id\": \"t_1194480_b_23002_tn_0\", \"shape_id\": \"p_179043\", \"route_id\": \"822\", \"service_hours\": 1.92, \"trip_first_departure_ts\": 62400, \"trip_last_arrival_ts\": 69300, \"departure_hour\": 17, \"time_of_day\": \"PM Peak\", \"p25\": 1.92, \"p50\": 1.92, \"p75\": 1.92, \"p50_trip\": 1, \"fastest_trip\": 0, \"car_duration_hours\": 1.36, \"competitive_route\": 1, \"bus_multiplier\": 1.41, \"bus_difference\": 33.6, \"num_trips\": 5, \"num_competitive\": 5, \"pct_trips_competitive\": 1.0, \"bus_difference_spread\": 10.2, \"route_group\": \"long\", \"max_trip_hrs\": 2.0, \"max_trip_route_group\": 2.55, \"name\": \"City of Eureka\", \"caltrans_district\": \"01 - Eureka\", \"drmt_organization_name\": null, \"cutoff2\": 38.25, \"cutoff\": 0}, {\"calitp_itp_id\": 108, \"trip_key\": 7643564517500427975, \"trip_id\": \"t_1194478_b_23002_tn_0\", \"shape_id\": \"p_179043\", \"route_id\": \"822\", \"service_hours\": 1.92, \"trip_first_departure_ts\": 24360, \"trip_last_arrival_ts\": 31260, \"departure_hour\": 6, \"time_of_day\": \"Owl Service\", \"p25\": 1.92, \"p50\": 1.92, \"p75\": 1.92, \"p50_trip\": 1, \"fastest_trip\": 0, \"car_duration_hours\": 1.36, \"competitive_route\": 1, \"bus_multiplier\": 1.41, \"bus_difference\": 33.6, \"num_trips\": 5, \"num_competitive\": 5, \"pct_trips_competitive\": 1.0, \"bus_difference_spread\": 10.2, \"route_group\": \"long\", \"max_trip_hrs\": 2.0, \"max_trip_route_group\": 2.55, \"name\": \"City of Eureka\", \"caltrans_district\": \"01 - Eureka\", \"drmt_organization_name\": null, \"cutoff2\": 38.25, \"cutoff\": 0}, {\"calitp_itp_id\": 108, \"trip_key\": -7703734674675344155, \"trip_id\": \"t_1194483_b_23002_tn_0\", \"shape_id\": \"p_179044\", \"route_id\": \"822\", \"service_hours\": 2.0, \"trip_first_departure_ts\": 54300, \"trip_last_arrival_ts\": 61500, \"departure_hour\": 15, \"time_of_day\": \"Midday\", \"p25\": 1.92, \"p50\": 1.92, \"p75\": 1.92, \"p50_trip\": 0, \"fastest_trip\": 0, \"car_duration_hours\": 1.36, \"competitive_route\": 1, \"bus_multiplier\": 1.47, \"bus_difference\": 38.4, \"num_trips\": 5, \"num_competitive\": 5, \"pct_trips_competitive\": 1.0, \"bus_difference_spread\": 10.2, \"route_group\": \"long\", \"max_trip_hrs\": 2.0, \"max_trip_route_group\": 2.55, \"name\": \"City of Eureka\", \"caltrans_district\": \"01 - Eureka\", \"drmt_organization_name\": null, \"cutoff2\": 38.25, \"cutoff\": 0}]}}, {\"mode\": \"vega-lite\"});\n",
       "</script>"
      ],
      "text/plain": [
       "alt.FacetChart(...)"
      ]
     },
     "metadata": {},
     "output_type": "display_data"
    }
   ],
   "source": [
    "route_group = \"long\"\n",
    "try:\n",
    "    subset_routes, mult, diff  = setup_charts(df, PCT_COMPETITIVE_THRESHOLD, route_group)\n",
    "    if len(subset_routes) > 0:\n",
    "        display(\n",
    "            Markdown(\n",
    "                f\"{CAPTIONS_DICT[route_group]}\"\n",
    "                \"Within each route group, routes are sorted in descending order \"\n",
    "                \"by % competitive trips and # trips below the additional time cut-off.\"\n",
    "            )\n",
    "        )\n",
    "\n",
    "        display(mult)\n",
    "        display(diff)\n",
    "except:\n",
    "    print(\"No routes meet this criteria.\")"
   ]
  }
 ],
 "metadata": {
  "kernelspec": {
   "display_name": "Python 3 (ipykernel)",
   "language": "python",
   "name": "python3"
  },
  "language_info": {
   "codemirror_mode": {
    "name": "ipython",
    "version": 3
   },
   "file_extension": ".py",
   "mimetype": "text/x-python",
   "name": "python",
   "nbconvert_exporter": "python",
   "pygments_lexer": "ipython3",
   "version": "3.9.12"
  },
  "papermill": {
   "default_parameters": {},
   "duration": 22.721995,
   "end_time": "2022-05-07T16:51:07.365059",
   "environment_variables": {},
   "exception": null,
   "input_path": "bus_service_increase/stripplot.ipynb",
   "output_path": "portfolio/parallel_corridors/district_01-eureka/stripplot__itp_id_108.ipynb",
   "parameters": {
    "district": "01 - Eureka",
    "itp_id": 108
   },
   "start_time": "2022-05-07T16:50:44.643064",
   "version": "2.3.4"
  }
 },
 "nbformat": 4,
 "nbformat_minor": 5
}