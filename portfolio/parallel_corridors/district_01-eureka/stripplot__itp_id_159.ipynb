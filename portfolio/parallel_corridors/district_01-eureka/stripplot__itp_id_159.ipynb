{
 "cells": [
  {
   "cell_type": "code",
   "execution_count": 1,
   "id": "95d00857-6a20-4529-a519-2cc7182928a9",
   "metadata": {
    "execution": {
     "iopub.execute_input": "2022-05-07T16:51:31.188190Z",
     "iopub.status.busy": "2022-05-07T16:51:31.187593Z",
     "iopub.status.idle": "2022-05-07T16:51:39.348306Z",
     "shell.execute_reply": "2022-05-07T16:51:39.347660Z"
    },
    "jupyter": {
     "source_hidden": true
    },
    "papermill": {
     "duration": 8.174947,
     "end_time": "2022-05-07T16:51:39.350561",
     "exception": false,
     "start_time": "2022-05-07T16:51:31.175614",
     "status": "completed"
    },
    "tags": [
     "remove_input"
    ]
   },
   "outputs": [],
   "source": [
    "%%capture\n",
    "import warnings\n",
    "warnings.filterwarnings('ignore')\n",
    "\n",
    "import altair as alt\n",
    "import calitp.magics\n",
    "import geopandas as gpd\n",
    "import intake\n",
    "import pandas as pd\n",
    "\n",
    "from IPython.display import display, Markdown, HTML\n",
    "\n",
    "import parallel_corridors_utils\n",
    "from shared_utils import styleguide\n",
    "\n",
    "catalog = intake.open_catalog(\"./*.yml\")\n",
    "alt.renderers.enable(\"html\")"
   ]
  },
  {
   "cell_type": "code",
   "execution_count": 2,
   "id": "8af2a0c1-f3da-408d-9bea-11d9fbf8695d",
   "metadata": {
    "execution": {
     "iopub.execute_input": "2022-05-07T16:51:39.372899Z",
     "iopub.status.busy": "2022-05-07T16:51:39.372388Z",
     "iopub.status.idle": "2022-05-07T16:51:39.376126Z",
     "shell.execute_reply": "2022-05-07T16:51:39.375679Z"
    },
    "jupyter": {
     "source_hidden": true
    },
    "papermill": {
     "duration": 0.016852,
     "end_time": "2022-05-07T16:51:39.377750",
     "exception": false,
     "start_time": "2022-05-07T16:51:39.360898",
     "status": "completed"
    },
    "tags": [
     "parameters",
     "remove_input"
    ]
   },
   "outputs": [],
   "source": [
    "# parameters cell\n",
    "itp_id = 182"
   ]
  },
  {
   "cell_type": "code",
   "execution_count": 3,
   "id": "f5e6b0db",
   "metadata": {
    "execution": {
     "iopub.execute_input": "2022-05-07T16:51:39.398557Z",
     "iopub.status.busy": "2022-05-07T16:51:39.398088Z",
     "iopub.status.idle": "2022-05-07T16:51:39.402186Z",
     "shell.execute_reply": "2022-05-07T16:51:39.401342Z"
    },
    "jupyter": {
     "source_hidden": true
    },
    "papermill": {
     "duration": 0.021676,
     "end_time": "2022-05-07T16:51:39.408854",
     "exception": false,
     "start_time": "2022-05-07T16:51:39.387178",
     "status": "completed"
    },
    "tags": [
     "injected-parameters",
     "remove_input"
    ]
   },
   "outputs": [],
   "source": [
    "# Parameters\n",
    "district = \"01 - Eureka\"\n",
    "itp_id = 159\n"
   ]
  },
  {
   "cell_type": "code",
   "execution_count": 4,
   "id": "9582aaf4-79ff-412a-b248-8d8d693ebd4f",
   "metadata": {
    "execution": {
     "iopub.execute_input": "2022-05-07T16:51:39.431120Z",
     "iopub.status.busy": "2022-05-07T16:51:39.430879Z",
     "iopub.status.idle": "2022-05-07T16:51:40.622189Z",
     "shell.execute_reply": "2022-05-07T16:51:40.621615Z"
    },
    "jupyter": {
     "source_hidden": true
    },
    "papermill": {
     "duration": 1.204715,
     "end_time": "2022-05-07T16:51:40.624500",
     "exception": false,
     "start_time": "2022-05-07T16:51:39.419785",
     "status": "completed"
    },
    "tags": [
     "remove_input"
    ]
   },
   "outputs": [],
   "source": [
    "df = catalog.competitive_route_variability.read()\n",
    "\n",
    "df = (df[(df.calitp_itp_id == itp_id) & \n",
    "         (df.route_group.notna())]\n",
    "      .reset_index(drop=True)\n",
    "     )\n",
    "\n",
    "\n",
    "if itp_id == 182:\n",
    "    df = df.assign(\n",
    "        route_id = df.route_id.str.replace('-13153', '').astype(int)\n",
    "    )"
   ]
  },
  {
   "cell_type": "code",
   "execution_count": 5,
   "id": "33ac4b06-f647-4dce-a625-8f2c1b37cc60",
   "metadata": {
    "execution": {
     "iopub.execute_input": "2022-05-07T16:51:40.647796Z",
     "iopub.status.busy": "2022-05-07T16:51:40.647498Z",
     "iopub.status.idle": "2022-05-07T16:51:40.653376Z",
     "shell.execute_reply": "2022-05-07T16:51:40.652583Z"
    },
    "jupyter": {
     "source_hidden": true
    },
    "papermill": {
     "duration": 0.020452,
     "end_time": "2022-05-07T16:51:40.656546",
     "exception": false,
     "start_time": "2022-05-07T16:51:40.636094",
     "status": "completed"
    },
    "tags": [
     "remove_input"
    ]
   },
   "outputs": [],
   "source": [
    "%%capture_parameters\n",
    "operator_name = df.name.iloc[0]\n",
    "\n",
    "itp_id, operator_name"
   ]
  },
  {
   "cell_type": "markdown",
   "id": "65bc6f5c-8348-42ee-b2dd-52057c406852",
   "metadata": {
    "papermill": {
     "duration": 0.009909,
     "end_time": "2022-05-07T16:51:40.677159",
     "exception": false,
     "start_time": "2022-05-07T16:51:40.667250",
     "status": "completed"
    },
    "tags": []
   },
   "source": [
    "# Lake Transit Authority (ITP ID: 159)"
   ]
  },
  {
   "cell_type": "code",
   "execution_count": 6,
   "id": "a689c1ab-2c6c-4831-8d64-897f5986f571",
   "metadata": {
    "execution": {
     "iopub.execute_input": "2022-05-07T16:51:40.699154Z",
     "iopub.status.busy": "2022-05-07T16:51:40.698445Z",
     "iopub.status.idle": "2022-05-07T16:51:40.709802Z",
     "shell.execute_reply": "2022-05-07T16:51:40.708961Z"
    },
    "jupyter": {
     "source_hidden": true
    },
    "papermill": {
     "duration": 0.025261,
     "end_time": "2022-05-07T16:51:40.712411",
     "exception": false,
     "start_time": "2022-05-07T16:51:40.687150",
     "status": "completed"
    },
    "tags": [
     "remove_input"
    ]
   },
   "outputs": [
    {
     "data": {
      "text/html": [
       "<h1>Competitive & Parallel Routes</h1>"
      ],
      "text/plain": [
       "<IPython.core.display.HTML object>"
      ]
     },
     "metadata": {},
     "output_type": "display_data"
    }
   ],
   "source": [
    "display(HTML(\"<h1>Competitive & Parallel Routes</h1>\")) "
   ]
  },
  {
   "cell_type": "code",
   "execution_count": 7,
   "id": "2cb4d8d5-4760-40e4-85b1-cb833d8bb648",
   "metadata": {
    "execution": {
     "iopub.execute_input": "2022-05-07T16:51:40.735298Z",
     "iopub.status.busy": "2022-05-07T16:51:40.735014Z",
     "iopub.status.idle": "2022-05-07T16:51:50.643517Z",
     "shell.execute_reply": "2022-05-07T16:51:50.642885Z"
    },
    "jupyter": {
     "source_hidden": true
    },
    "papermill": {
     "duration": 9.922622,
     "end_time": "2022-05-07T16:51:50.645767",
     "exception": false,
     "start_time": "2022-05-07T16:51:40.723145",
     "status": "completed"
    },
    "tags": [
     "remove_input"
    ]
   },
   "outputs": [],
   "source": [
    "# Grab parameters for narrative text - clean up formatting here \n",
    "district = df.caltrans_district.iloc[0]\n",
    "formatted_date = pd.to_datetime(parallel_corridors_utils.SELECTED_DATE).strftime('%m-%d-%Y')\n",
    "\n",
    "PCT_COMPETITIVE_THRESHOLD = 0.75\n",
    "\n",
    "stats = parallel_corridors_utils.operator_parallel_competitive_stats(\n",
    "    itp_id, PCT_COMPETITIVE_THRESHOLD)\n",
    "\n",
    "pct_parallel = round(stats['parallel_routes'] / stats['num_routes'] * 100,1 )\n",
    "pct_competitive =  round(stats['competitive_routes'] / stats['num_routes'] * 100,1 )"
   ]
  },
  {
   "cell_type": "markdown",
   "id": "ab667928-5274-4490-82d9-4c39293209a4",
   "metadata": {
    "papermill": {
     "duration": 0.010682,
     "end_time": "2022-05-07T16:51:50.667285",
     "exception": false,
     "start_time": "2022-05-07T16:51:50.656603",
     "status": "completed"
    },
    "tags": []
   },
   "source": [
    "## Quick Stats"
   ]
  },
  {
   "cell_type": "code",
   "execution_count": 8,
   "id": "0416509d-dc62-4165-b62e-64f8b26e8b8e",
   "metadata": {
    "execution": {
     "iopub.execute_input": "2022-05-07T16:51:50.691149Z",
     "iopub.status.busy": "2022-05-07T16:51:50.690869Z",
     "iopub.status.idle": "2022-05-07T16:51:50.697259Z",
     "shell.execute_reply": "2022-05-07T16:51:50.696399Z"
    },
    "jupyter": {
     "source_hidden": true
    },
    "papermill": {
     "duration": 0.021194,
     "end_time": "2022-05-07T16:51:50.699788",
     "exception": false,
     "start_time": "2022-05-07T16:51:50.678594",
     "status": "completed"
    },
    "tags": [
     "remove_input"
    ]
   },
   "outputs": [
    {
     "data": {
      "text/markdown": [
       "**Bus routes in service**: 9 <br>**Parallel routes** to State Highway Network (SHN): 9 routes (100.0%)<br>**Competitive routes** against car travel: 8 routes (88.9%)"
      ],
      "text/plain": [
       "<IPython.core.display.Markdown object>"
      ]
     },
     "metadata": {},
     "output_type": "display_data"
    }
   ],
   "source": [
    "display(\n",
    "    Markdown(\n",
    "        f\"**Bus routes in service**: {stats['num_routes']} \"\n",
    "        \"<br>**Parallel routes** to State Highway Network (SHN): \"\n",
    "        f\"{stats['parallel_routes']} routes ({pct_parallel}%)\"\n",
    "        f\"<br>**Competitive routes** against car travel: {stats['competitive_routes']} routes ({pct_competitive}%)\"\n",
    "    )\n",
    ")"
   ]
  },
  {
   "cell_type": "code",
   "execution_count": 9,
   "id": "f9d6ab58-f0ee-460c-b6de-657490e1f386",
   "metadata": {
    "execution": {
     "iopub.execute_input": "2022-05-07T16:51:50.732328Z",
     "iopub.status.busy": "2022-05-07T16:51:50.732047Z",
     "iopub.status.idle": "2022-05-07T16:51:50.741159Z",
     "shell.execute_reply": "2022-05-07T16:51:50.740222Z"
    },
    "jupyter": {
     "source_hidden": true
    },
    "papermill": {
     "duration": 0.024235,
     "end_time": "2022-05-07T16:51:50.743452",
     "exception": false,
     "start_time": "2022-05-07T16:51:50.719217",
     "status": "completed"
    },
    "tags": [
     "remove_input"
    ]
   },
   "outputs": [],
   "source": [
    "def set_yaxis_range(df, y_col):\n",
    "    Y_MIN = df[y_col].min()\n",
    "    Y_MAX = df[y_col].max()\n",
    "    \n",
    "    return Y_MIN, Y_MAX\n",
    "\n",
    "# Rather than set it according to the operator, which can vary,\n",
    "# just use set thresholds for each group\n",
    "diff_cutoffs = {\n",
    "    \"short\": 20,\n",
    "    \"medium\": 30,\n",
    "    \"long\": 40,\n",
    "}\n",
    "\n",
    "PCT_TRIPS_BELOW_CUTOFF = 0.25\n",
    "\n",
    "def top15_routes(df, route_group):\n",
    "    df2 = (df[df.route_group==route_group])\n",
    "    # Set a cut-off to enable sorting, where most of the trips are \n",
    "    # below a certain time difference cut-off, \n",
    "    # grab top 15 routes where majority of trips are below that cut-off \n",
    "\n",
    "    route_cols = [\"calitp_itp_id\", \"route_id\"]\n",
    "\n",
    "    df2 = df2.assign(\n",
    "        below_cutoff = df2.apply(lambda x: 1 if x.bus_difference <= diff_cutoffs[route_group] \n",
    "                                 else 0, axis=1),\n",
    "        num_trips = df2.groupby(route_cols)[\"trip_id\"].transform(\"count\")\n",
    "    )\n",
    "\n",
    "    df2[\"below_cutoff\"] = df2.groupby(route_cols)[\"below_cutoff\"].transform(\"sum\")\n",
    "    df2[\"pct_below_cutoff\"] = df2.below_cutoff.divide(df2.num_trips)\n",
    "\n",
    "    # At least half the trips are below that cut-off\n",
    "    # but show 15 max, otherwise, show less, since these won't be as interesting to operators\n",
    "    df3 = (df2[df2.pct_below_cutoff >= PCT_TRIPS_BELOW_CUTOFF]\n",
    "           .sort_values([\"calitp_itp_id\", \"below_cutoff\", \n",
    "                         \"pct_below_cutoff\", \"route_id\"],\n",
    "                        ascending = [True, False, False, True]\n",
    "                       )\n",
    "           .drop_duplicates(subset=[\"calitp_itp_id\", \"route_id\"])\n",
    "          ).head(15)\n",
    "    \n",
    "    return list(df3.route_id)"
   ]
  },
  {
   "cell_type": "code",
   "execution_count": 10,
   "id": "cf36d559-3349-4144-8086-8ac9ce937a5a",
   "metadata": {
    "execution": {
     "iopub.execute_input": "2022-05-07T16:51:50.776079Z",
     "iopub.status.busy": "2022-05-07T16:51:50.775709Z",
     "iopub.status.idle": "2022-05-07T16:51:50.786797Z",
     "shell.execute_reply": "2022-05-07T16:51:50.785935Z"
    },
    "jupyter": {
     "source_hidden": true
    },
    "papermill": {
     "duration": 0.034669,
     "end_time": "2022-05-07T16:51:50.789806",
     "exception": false,
     "start_time": "2022-05-07T16:51:50.755137",
     "status": "completed"
    },
    "tags": [
     "remove_input"
    ]
   },
   "outputs": [],
   "source": [
    "short_caption = (\n",
    "    f\"<br>These are routes that have at least {int(PCT_TRIPS_BELOW_CUTOFF*100)}% of their trips \"\n",
    "    f\"take no more than an additional {diff_cutoffs['short']} min compared to a car \"\n",
    "    \"(up to 15 routes) are shown.\"\n",
    ")\n",
    "\n",
    "med_caption = (\n",
    "    f\"<br>These are routes that have at least {int(PCT_TRIPS_BELOW_CUTOFF*100)}% of their trips \"\n",
    "    f\"take no more than an additional {diff_cutoffs['medium']} min compared to a car \"\n",
    "    \"(up to 15 routes) are shown.\"\n",
    ")\n",
    "\n",
    "long_caption = (\n",
    "    f\"<br>These are routes that have at least {int(PCT_TRIPS_BELOW_CUTOFF*100)}% of their trips \"\n",
    "    f\"take no more than an additional {diff_cutoffs['long']} min compared to a car \"\n",
    "    \"(up to 15 routes) are shown.\")\n",
    "\n",
    "\n",
    "CAPTIONS_DICT = {\n",
    "    \"short\": short_caption,\n",
    "    \"medium\": med_caption,\n",
    "    \"long\": long_caption,\n",
    "}"
   ]
  },
  {
   "cell_type": "code",
   "execution_count": 11,
   "id": "e4306d58-6944-47e9-afef-5d5b524c751f",
   "metadata": {
    "execution": {
     "iopub.execute_input": "2022-05-07T16:51:50.834541Z",
     "iopub.status.busy": "2022-05-07T16:51:50.833967Z",
     "iopub.status.idle": "2022-05-07T16:51:50.845906Z",
     "shell.execute_reply": "2022-05-07T16:51:50.845177Z"
    },
    "jupyter": {
     "source_hidden": true
    },
    "papermill": {
     "duration": 0.03485,
     "end_time": "2022-05-07T16:51:50.848145",
     "exception": false,
     "start_time": "2022-05-07T16:51:50.813295",
     "status": "completed"
    },
    "tags": [
     "remove_input"
    ]
   },
   "outputs": [],
   "source": [
    "def setup_charts(df, PCT_COMPETITIVE_THRESHOLD, route_group):\n",
    "    # Set up df for charting (cut-off at some threshold to show most competitive routes)\n",
    "    plot_me = (df[df.pct_trips_competitive > PCT_COMPETITIVE_THRESHOLD]\n",
    "           .drop(columns = \"geometry\")\n",
    "    )\n",
    "    \n",
    "    y_col1 = \"bus_multiplier\"\n",
    "    Y_MIN1, Y_MAX1 = set_yaxis_range(plot_me, y_col1)\n",
    "\n",
    "    y_col2 = \"bus_difference\"\n",
    "    Y_MIN2, Y_MAX2 = set_yaxis_range(plot_me, y_col2)\n",
    "     \n",
    "    subset_routes = top15_routes(plot_me, route_group)\n",
    "    \n",
    "    multiplier_chart = parallel_corridors_utils.make_stripplot(\n",
    "        plot_me[plot_me.route_id.isin(subset_routes)], \n",
    "        y_col1, Y_MIN = Y_MIN1, Y_MAX = Y_MAX1\n",
    "    )\n",
    "    \n",
    "    difference_chart = parallel_corridors_utils.make_stripplot(\n",
    "        plot_me[plot_me.route_id.isin(subset_routes)], \n",
    "        y_col2, Y_MIN = Y_MIN2, Y_MAX = Y_MAX2\n",
    "    )\n",
    "    \n",
    "    return subset_routes, multiplier_chart, difference_chart            "
   ]
  },
  {
   "cell_type": "markdown",
   "id": "525f9b38-072b-46d1-96a8-1aa4b038357c",
   "metadata": {
    "papermill": {
     "duration": 0.012831,
     "end_time": "2022-05-07T16:51:50.876863",
     "exception": false,
     "start_time": "2022-05-07T16:51:50.864032",
     "status": "completed"
    },
    "tags": []
   },
   "source": [
    "## Viable Competitive Routes\n",
    "### Short Routes (< 1 hr)"
   ]
  },
  {
   "cell_type": "code",
   "execution_count": 12,
   "id": "57f7084c-2cf7-45c6-ba08-1609e0bd6ca5",
   "metadata": {
    "execution": {
     "iopub.execute_input": "2022-05-07T16:51:50.901319Z",
     "iopub.status.busy": "2022-05-07T16:51:50.900790Z",
     "iopub.status.idle": "2022-05-07T16:51:51.137086Z",
     "shell.execute_reply": "2022-05-07T16:51:51.136462Z"
    },
    "jupyter": {
     "source_hidden": true
    },
    "papermill": {
     "duration": 0.25083,
     "end_time": "2022-05-07T16:51:51.138878",
     "exception": false,
     "start_time": "2022-05-07T16:51:50.888048",
     "status": "completed"
    },
    "tags": [
     "remove_input"
    ]
   },
   "outputs": [
    {
     "data": {
      "text/markdown": [
       "<br>These are routes that have at least 25% of their trips take no more than an additional 20 min compared to a car (up to 15 routes) are shown.Within each route group, routes are sorted in descending order by % competitive trips and # trips below the additional time cut-off."
      ],
      "text/plain": [
       "<IPython.core.display.Markdown object>"
      ]
     },
     "metadata": {},
     "output_type": "display_data"
    },
    {
     "data": {
      "text/html": [
       "\n",
       "<div id=\"altair-viz-8178a49ebe34494c96aa76378f8beddc\"></div>\n",
       "<script type=\"text/javascript\">\n",
       "  var VEGA_DEBUG = (typeof VEGA_DEBUG == \"undefined\") ? {} : VEGA_DEBUG;\n",
       "  (function(spec, embedOpt){\n",
       "    let outputDiv = document.currentScript.previousElementSibling;\n",
       "    if (outputDiv.id !== \"altair-viz-8178a49ebe34494c96aa76378f8beddc\") {\n",
       "      outputDiv = document.getElementById(\"altair-viz-8178a49ebe34494c96aa76378f8beddc\");\n",
       "    }\n",
       "    const paths = {\n",
       "      \"vega\": \"https://cdn.jsdelivr.net/npm//vega@5?noext\",\n",
       "      \"vega-lib\": \"https://cdn.jsdelivr.net/npm//vega-lib?noext\",\n",
       "      \"vega-lite\": \"https://cdn.jsdelivr.net/npm//vega-lite@4.17.0?noext\",\n",
       "      \"vega-embed\": \"https://cdn.jsdelivr.net/npm//vega-embed@6?noext\",\n",
       "    };\n",
       "\n",
       "    function maybeLoadScript(lib, version) {\n",
       "      var key = `${lib.replace(\"-\", \"\")}_version`;\n",
       "      return (VEGA_DEBUG[key] == version) ?\n",
       "        Promise.resolve(paths[lib]) :\n",
       "        new Promise(function(resolve, reject) {\n",
       "          var s = document.createElement('script');\n",
       "          document.getElementsByTagName(\"head\")[0].appendChild(s);\n",
       "          s.async = true;\n",
       "          s.onload = () => {\n",
       "            VEGA_DEBUG[key] = version;\n",
       "            return resolve(paths[lib]);\n",
       "          };\n",
       "          s.onerror = () => reject(`Error loading script: ${paths[lib]}`);\n",
       "          s.src = paths[lib];\n",
       "        });\n",
       "    }\n",
       "\n",
       "    function showError(err) {\n",
       "      outputDiv.innerHTML = `<div class=\"error\" style=\"color:red;\">${err}</div>`;\n",
       "      throw err;\n",
       "    }\n",
       "\n",
       "    function displayChart(vegaEmbed) {\n",
       "      vegaEmbed(outputDiv, spec, embedOpt)\n",
       "        .catch(err => showError(`Javascript Error: ${err.message}<br>This usually means there's a typo in your chart specification. See the javascript console for the full traceback.`));\n",
       "    }\n",
       "\n",
       "    if(typeof define === \"function\" && define.amd) {\n",
       "      requirejs.config({paths});\n",
       "      require([\"vega-embed\"], displayChart, err => showError(`Error loading script: ${err.message}`));\n",
       "    } else {\n",
       "      maybeLoadScript(\"vega\", \"5\")\n",
       "        .then(() => maybeLoadScript(\"vega-lite\", \"4.17.0\"))\n",
       "        .then(() => maybeLoadScript(\"vega-embed\", \"6\"))\n",
       "        .catch(showError)\n",
       "        .then(() => displayChart(vegaEmbed));\n",
       "    }\n",
       "  })({\"config\": {\"view\": {\"continuousWidth\": 400, \"continuousHeight\": 300, \"stroke\": null}, \"facet\": {\"spacing\": 0}}, \"data\": {\"name\": \"data-91b117118679dae3268d3cad8e5c0484\"}, \"facet\": {\"column\": {\"field\": \"route_id\", \"sort\": [\"2042\"], \"title\": \"Route ID\", \"type\": \"nominal\"}}, \"spec\": {\"layer\": [{\"mark\": {\"type\": \"point\", \"opacity\": 0.65, \"size\": 12, \"strokeWidth\": 1.1}, \"encoding\": {\"color\": {\"field\": \"time_of_day\", \"scale\": {\"range\": [\"#136C97\", \"#E16B26\", \"#F6BF16\", \"#00896B\", \"#7790A3\", \"#5B559C\"]}, \"sort\": [\"AM Peak\", \"Midday\", \"PM Peak\", \"Owl Service\"], \"title\": \"Time of Day\", \"type\": \"nominal\"}, \"tooltip\": [{\"field\": \"route_id\", \"type\": \"nominal\"}, {\"field\": \"trip_id\", \"type\": \"nominal\"}, {\"field\": \"service_hours\", \"type\": \"quantitative\"}, {\"field\": \"car_duration_hours\", \"type\": \"quantitative\"}, {\"field\": \"bus_multiplier\", \"type\": \"quantitative\"}, {\"field\": \"bus_difference\", \"type\": \"quantitative\"}, {\"field\": \"num_trips\", \"type\": \"quantitative\"}, {\"field\": \"num_competitive\", \"type\": \"quantitative\"}, {\"field\": \"pct_trips_competitive\", \"type\": \"quantitative\"}, {\"field\": \"p25\", \"type\": \"quantitative\"}, {\"field\": \"p50\", \"type\": \"quantitative\"}, {\"field\": \"p75\", \"type\": \"quantitative\"}], \"x\": {\"axis\": {\"grid\": false, \"labels\": false, \"ticks\": true, \"values\": [0]}, \"field\": \"jitter\", \"scale\": {}, \"title\": null, \"type\": \"quantitative\"}, \"y\": {\"field\": \"bus_multiplier\", \"scale\": {\"domain\": [-0.25, 2.8]}, \"title\": \"Ratio of Bus to Car Travel Time\", \"type\": \"quantitative\"}}, \"selection\": {\"selector001\": {\"type\": \"interval\", \"bind\": \"scales\", \"encodings\": [\"x\", \"y\"]}}, \"transform\": [{\"calculate\": \"sqrt(-2*log(random()))*cos(2*PI*random())\", \"as\": \"jitter\"}], \"width\": 60}, {\"layer\": [{\"mark\": {\"type\": \"point\", \"opacity\": 0.6, \"size\": 20, \"strokeWidth\": 1.3}, \"encoding\": {\"color\": {\"value\": \"#323434\"}, \"y\": {\"field\": \"bus_multiplier\", \"type\": \"quantitative\"}}, \"transform\": [{\"filter\": \"(datum.p50_trip === 1)\"}]}, {\"mark\": {\"type\": \"rule\", \"strokeDash\": [2, 3]}, \"encoding\": {\"color\": {\"value\": \"#323434\"}, \"y\": {\"field\": \"cutoff\", \"type\": \"quantitative\"}}}, {\"mark\": {\"type\": \"text\", \"align\": \"center\", \"baseline\": \"middle\"}, \"encoding\": {\"color\": {\"value\": \"black\"}, \"text\": {\"field\": \"pct_trips_competitive\", \"format\": \".0%\", \"type\": \"quantitative\"}, \"tooltip\": [{\"field\": \"route_id\", \"type\": \"nominal\"}, {\"field\": \"trip_id\", \"type\": \"nominal\"}, {\"field\": \"service_hours\", \"type\": \"quantitative\"}, {\"field\": \"car_duration_hours\", \"type\": \"quantitative\"}, {\"field\": \"bus_multiplier\", \"type\": \"quantitative\"}, {\"field\": \"bus_difference\", \"type\": \"quantitative\"}, {\"field\": \"num_trips\", \"type\": \"quantitative\"}, {\"field\": \"num_competitive\", \"type\": \"quantitative\"}, {\"field\": \"pct_trips_competitive\", \"type\": \"quantitative\"}, {\"field\": \"p25\", \"type\": \"quantitative\"}, {\"field\": \"p50\", \"type\": \"quantitative\"}, {\"field\": \"p75\", \"type\": \"quantitative\"}], \"x\": {\"value\": 30}, \"y\": {\"value\": 15}}, \"transform\": [{\"calculate\": \"sqrt(-2*log(random()))*cos(2*PI*random())\", \"as\": \"jitter\"}, {\"filter\": \"(datum.fastest_trip === 1)\"}]}]}]}, \"resolve\": {\"scale\": {\"y\": \"shared\"}}, \"title\": \"Ratio of Bus to Car Travel Time\", \"$schema\": \"https://vega.github.io/schema/vega-lite/v4.17.0.json\", \"datasets\": {\"data-91b117118679dae3268d3cad8e5c0484\": [{\"calitp_itp_id\": 159, \"trip_key\": 6494662133026071208, \"trip_id\": \"t_1547207_b_25985_tn_0\", \"shape_id\": \"p_4695\", \"route_id\": \"2042\", \"service_hours\": 0.72, \"trip_first_departure_ts\": 21600, \"trip_last_arrival_ts\": 24180, \"departure_hour\": 6, \"time_of_day\": \"Owl Service\", \"p25\": 0.82, \"p50\": 0.82, \"p75\": 0.92, \"p50_trip\": 0, \"fastest_trip\": 1, \"car_duration_hours\": 0.55, \"competitive_route\": 1, \"bus_multiplier\": 1.31, \"bus_difference\": 10.2, \"num_trips\": 14, \"num_competitive\": 14, \"pct_trips_competitive\": 1.0, \"bus_difference_spread\": 16.8, \"route_group\": \"short\", \"max_trip_hrs\": 1.0, \"max_trip_route_group\": 1.0, \"name\": \"Lake Transit Authority\", \"caltrans_district\": \"01 - Eureka\", \"drmt_organization_name\": \"['reck7ddrpXSeA0mH0']\", \"cutoff2\": 15.0, \"cutoff\": 2}, {\"calitp_itp_id\": 159, \"trip_key\": -2495627823400254138, \"trip_id\": \"t_1057379_b_25985_tn_0\", \"shape_id\": \"p_4696\", \"route_id\": \"2042\", \"service_hours\": 0.82, \"trip_first_departure_ts\": 32400, \"trip_last_arrival_ts\": 35340, \"departure_hour\": 9, \"time_of_day\": \"AM Peak\", \"p25\": 0.82, \"p50\": 0.82, \"p75\": 0.92, \"p50_trip\": 1, \"fastest_trip\": 0, \"car_duration_hours\": 0.55, \"competitive_route\": 1, \"bus_multiplier\": 1.49, \"bus_difference\": 16.2, \"num_trips\": 14, \"num_competitive\": 14, \"pct_trips_competitive\": 1.0, \"bus_difference_spread\": 16.8, \"route_group\": \"short\", \"max_trip_hrs\": 1.0, \"max_trip_route_group\": 1.0, \"name\": \"Lake Transit Authority\", \"caltrans_district\": \"01 - Eureka\", \"drmt_organization_name\": \"['reck7ddrpXSeA0mH0']\", \"cutoff2\": 15.0, \"cutoff\": 2}, {\"calitp_itp_id\": 159, \"trip_key\": 6672467146987189394, \"trip_id\": \"t_1547210_b_25985_tn_0\", \"shape_id\": \"p_4685\", \"route_id\": \"2042\", \"service_hours\": 0.82, \"trip_first_departure_ts\": 66600, \"trip_last_arrival_ts\": 69540, \"departure_hour\": 18, \"time_of_day\": \"PM Peak\", \"p25\": 0.82, \"p50\": 0.82, \"p75\": 0.92, \"p50_trip\": 1, \"fastest_trip\": 0, \"car_duration_hours\": 0.55, \"competitive_route\": 1, \"bus_multiplier\": 1.49, \"bus_difference\": 16.2, \"num_trips\": 14, \"num_competitive\": 14, \"pct_trips_competitive\": 1.0, \"bus_difference_spread\": 16.8, \"route_group\": \"short\", \"max_trip_hrs\": 1.0, \"max_trip_route_group\": 1.0, \"name\": \"Lake Transit Authority\", \"caltrans_district\": \"01 - Eureka\", \"drmt_organization_name\": \"['reck7ddrpXSeA0mH0']\", \"cutoff2\": 15.0, \"cutoff\": 2}, {\"calitp_itp_id\": 159, \"trip_key\": 4262090264244909449, \"trip_id\": \"t_1057322_b_25985_tn_0\", \"shape_id\": \"p_4696\", \"route_id\": \"2042\", \"service_hours\": 0.82, \"trip_first_departure_ts\": 39600, \"trip_last_arrival_ts\": 42540, \"departure_hour\": 11, \"time_of_day\": \"Midday\", \"p25\": 0.82, \"p50\": 0.82, \"p75\": 0.92, \"p50_trip\": 1, \"fastest_trip\": 0, \"car_duration_hours\": 0.55, \"competitive_route\": 1, \"bus_multiplier\": 1.49, \"bus_difference\": 16.2, \"num_trips\": 14, \"num_competitive\": 14, \"pct_trips_competitive\": 1.0, \"bus_difference_spread\": 16.8, \"route_group\": \"short\", \"max_trip_hrs\": 1.0, \"max_trip_route_group\": 1.0, \"name\": \"Lake Transit Authority\", \"caltrans_district\": \"01 - Eureka\", \"drmt_organization_name\": \"['reck7ddrpXSeA0mH0']\", \"cutoff2\": 15.0, \"cutoff\": 2}, {\"calitp_itp_id\": 159, \"trip_key\": 5811904466090434083, \"trip_id\": \"t_1057309_b_25985_tn_0\", \"shape_id\": \"p_4696\", \"route_id\": \"2042\", \"service_hours\": 0.82, \"trip_first_departure_ts\": 25200, \"trip_last_arrival_ts\": 28140, \"departure_hour\": 7, \"time_of_day\": \"AM Peak\", \"p25\": 0.82, \"p50\": 0.82, \"p75\": 0.92, \"p50_trip\": 1, \"fastest_trip\": 0, \"car_duration_hours\": 0.55, \"competitive_route\": 1, \"bus_multiplier\": 1.49, \"bus_difference\": 16.2, \"num_trips\": 14, \"num_competitive\": 14, \"pct_trips_competitive\": 1.0, \"bus_difference_spread\": 16.8, \"route_group\": \"short\", \"max_trip_hrs\": 1.0, \"max_trip_route_group\": 1.0, \"name\": \"Lake Transit Authority\", \"caltrans_district\": \"01 - Eureka\", \"drmt_organization_name\": \"['reck7ddrpXSeA0mH0']\", \"cutoff2\": 15.0, \"cutoff\": 2}, {\"calitp_itp_id\": 159, \"trip_key\": 7583329211563474538, \"trip_id\": \"t_1547208_b_25985_tn_0\", \"shape_id\": \"p_4696\", \"route_id\": \"2042\", \"service_hours\": 0.82, \"trip_first_departure_ts\": 50400, \"trip_last_arrival_ts\": 53340, \"departure_hour\": 14, \"time_of_day\": \"Midday\", \"p25\": 0.82, \"p50\": 0.82, \"p75\": 0.92, \"p50_trip\": 1, \"fastest_trip\": 0, \"car_duration_hours\": 0.55, \"competitive_route\": 1, \"bus_multiplier\": 1.49, \"bus_difference\": 16.2, \"num_trips\": 14, \"num_competitive\": 14, \"pct_trips_competitive\": 1.0, \"bus_difference_spread\": 16.8, \"route_group\": \"short\", \"max_trip_hrs\": 1.0, \"max_trip_route_group\": 1.0, \"name\": \"Lake Transit Authority\", \"caltrans_district\": \"01 - Eureka\", \"drmt_organization_name\": \"['reck7ddrpXSeA0mH0']\", \"cutoff2\": 15.0, \"cutoff\": 2}, {\"calitp_itp_id\": 159, \"trip_key\": 7029503141809018244, \"trip_id\": \"t_1439235_b_25985_tn_0\", \"shape_id\": \"p_4696\", \"route_id\": \"2042\", \"service_hours\": 0.82, \"trip_first_departure_ts\": 61200, \"trip_last_arrival_ts\": 64140, \"departure_hour\": 17, \"time_of_day\": \"PM Peak\", \"p25\": 0.82, \"p50\": 0.82, \"p75\": 0.92, \"p50_trip\": 1, \"fastest_trip\": 0, \"car_duration_hours\": 0.55, \"competitive_route\": 1, \"bus_multiplier\": 1.49, \"bus_difference\": 16.2, \"num_trips\": 14, \"num_competitive\": 14, \"pct_trips_competitive\": 1.0, \"bus_difference_spread\": 16.8, \"route_group\": \"short\", \"max_trip_hrs\": 1.0, \"max_trip_route_group\": 1.0, \"name\": \"Lake Transit Authority\", \"caltrans_district\": \"01 - Eureka\", \"drmt_organization_name\": \"['reck7ddrpXSeA0mH0']\", \"cutoff2\": 15.0, \"cutoff\": 2}, {\"calitp_itp_id\": 159, \"trip_key\": -549099797111008701, \"trip_id\": \"t_1057323_b_25985_tn_0\", \"shape_id\": \"p_4696\", \"route_id\": \"2042\", \"service_hours\": 0.82, \"trip_first_departure_ts\": 46800, \"trip_last_arrival_ts\": 49740, \"departure_hour\": 13, \"time_of_day\": \"Midday\", \"p25\": 0.82, \"p50\": 0.82, \"p75\": 0.92, \"p50_trip\": 1, \"fastest_trip\": 0, \"car_duration_hours\": 0.55, \"competitive_route\": 1, \"bus_multiplier\": 1.49, \"bus_difference\": 16.2, \"num_trips\": 14, \"num_competitive\": 14, \"pct_trips_competitive\": 1.0, \"bus_difference_spread\": 16.8, \"route_group\": \"short\", \"max_trip_hrs\": 1.0, \"max_trip_route_group\": 1.0, \"name\": \"Lake Transit Authority\", \"caltrans_district\": \"01 - Eureka\", \"drmt_organization_name\": \"['reck7ddrpXSeA0mH0']\", \"cutoff2\": 15.0, \"cutoff\": 2}, {\"calitp_itp_id\": 159, \"trip_key\": 4215259262523491246, \"trip_id\": \"t_1547209_b_25985_tn_0\", \"shape_id\": \"p_4684\", \"route_id\": \"2042\", \"service_hours\": 0.83, \"trip_first_departure_ts\": 24300, \"trip_last_arrival_ts\": 27300, \"departure_hour\": 6, \"time_of_day\": \"Owl Service\", \"p25\": 0.82, \"p50\": 0.82, \"p75\": 0.92, \"p50_trip\": 0, \"fastest_trip\": 0, \"car_duration_hours\": 0.55, \"competitive_route\": 1, \"bus_multiplier\": 1.51, \"bus_difference\": 16.8, \"num_trips\": 14, \"num_competitive\": 14, \"pct_trips_competitive\": 1.0, \"bus_difference_spread\": 16.8, \"route_group\": \"short\", \"max_trip_hrs\": 1.0, \"max_trip_route_group\": 1.0, \"name\": \"Lake Transit Authority\", \"caltrans_district\": \"01 - Eureka\", \"drmt_organization_name\": \"['reck7ddrpXSeA0mH0']\", \"cutoff2\": 15.0, \"cutoff\": 2}, {\"calitp_itp_id\": 159, \"trip_key\": 1503952459718726654, \"trip_id\": \"t_1057308_b_25985_tn_0\", \"shape_id\": \"p_4684\", \"route_id\": \"2042\", \"service_hours\": 0.92, \"trip_first_departure_ts\": 39600, \"trip_last_arrival_ts\": 42900, \"departure_hour\": 11, \"time_of_day\": \"Midday\", \"p25\": 0.82, \"p50\": 0.82, \"p75\": 0.92, \"p50_trip\": 0, \"fastest_trip\": 0, \"car_duration_hours\": 0.55, \"competitive_route\": 1, \"bus_multiplier\": 1.67, \"bus_difference\": 22.2, \"num_trips\": 14, \"num_competitive\": 14, \"pct_trips_competitive\": 1.0, \"bus_difference_spread\": 16.8, \"route_group\": \"short\", \"max_trip_hrs\": 1.0, \"max_trip_route_group\": 1.0, \"name\": \"Lake Transit Authority\", \"caltrans_district\": \"01 - Eureka\", \"drmt_organization_name\": \"['reck7ddrpXSeA0mH0']\", \"cutoff2\": 15.0, \"cutoff\": 2}, {\"calitp_itp_id\": 159, \"trip_key\": 2670754769451722377, \"trip_id\": \"t_1057277_b_25985_tn_0\", \"shape_id\": \"p_4684\", \"route_id\": \"2042\", \"service_hours\": 0.92, \"trip_first_departure_ts\": 36000, \"trip_last_arrival_ts\": 39300, \"departure_hour\": 10, \"time_of_day\": \"Midday\", \"p25\": 0.82, \"p50\": 0.82, \"p75\": 0.92, \"p50_trip\": 0, \"fastest_trip\": 0, \"car_duration_hours\": 0.55, \"competitive_route\": 1, \"bus_multiplier\": 1.67, \"bus_difference\": 22.2, \"num_trips\": 14, \"num_competitive\": 14, \"pct_trips_competitive\": 1.0, \"bus_difference_spread\": 16.8, \"route_group\": \"short\", \"max_trip_hrs\": 1.0, \"max_trip_route_group\": 1.0, \"name\": \"Lake Transit Authority\", \"caltrans_district\": \"01 - Eureka\", \"drmt_organization_name\": \"['reck7ddrpXSeA0mH0']\", \"cutoff2\": 15.0, \"cutoff\": 2}, {\"calitp_itp_id\": 159, \"trip_key\": 4073523601861258746, \"trip_id\": \"t_1063564_b_25985_tn_0\", \"shape_id\": \"p_4684\", \"route_id\": \"2042\", \"service_hours\": 0.98, \"trip_first_departure_ts\": 64800, \"trip_last_arrival_ts\": 68340, \"departure_hour\": 18, \"time_of_day\": \"PM Peak\", \"p25\": 0.82, \"p50\": 0.82, \"p75\": 0.92, \"p50_trip\": 0, \"fastest_trip\": 0, \"car_duration_hours\": 0.55, \"competitive_route\": 1, \"bus_multiplier\": 1.78, \"bus_difference\": 25.8, \"num_trips\": 14, \"num_competitive\": 14, \"pct_trips_competitive\": 1.0, \"bus_difference_spread\": 16.8, \"route_group\": \"short\", \"max_trip_hrs\": 1.0, \"max_trip_route_group\": 1.0, \"name\": \"Lake Transit Authority\", \"caltrans_district\": \"01 - Eureka\", \"drmt_organization_name\": \"['reck7ddrpXSeA0mH0']\", \"cutoff2\": 15.0, \"cutoff\": 2}, {\"calitp_itp_id\": 159, \"trip_key\": 6345662052778926459, \"trip_id\": \"t_1439236_b_25985_tn_0\", \"shape_id\": \"p_4684\", \"route_id\": \"2042\", \"service_hours\": 1.0, \"trip_first_departure_ts\": 51000, \"trip_last_arrival_ts\": 54600, \"departure_hour\": 14, \"time_of_day\": \"Midday\", \"p25\": 0.82, \"p50\": 0.82, \"p75\": 0.92, \"p50_trip\": 0, \"fastest_trip\": 0, \"car_duration_hours\": 0.55, \"competitive_route\": 1, \"bus_multiplier\": 1.82, \"bus_difference\": 27.0, \"num_trips\": 14, \"num_competitive\": 14, \"pct_trips_competitive\": 1.0, \"bus_difference_spread\": 16.8, \"route_group\": \"short\", \"max_trip_hrs\": 1.0, \"max_trip_route_group\": 1.0, \"name\": \"Lake Transit Authority\", \"caltrans_district\": \"01 - Eureka\", \"drmt_organization_name\": \"['reck7ddrpXSeA0mH0']\", \"cutoff2\": 15.0, \"cutoff\": 2}, {\"calitp_itp_id\": 159, \"trip_key\": -8876945536004734190, \"trip_id\": \"t_1057276_b_25985_tn_0\", \"shape_id\": \"p_4684\", \"route_id\": \"2042\", \"service_hours\": 1.0, \"trip_first_departure_ts\": 55800, \"trip_last_arrival_ts\": 59400, \"departure_hour\": 15, \"time_of_day\": \"Midday\", \"p25\": 0.82, \"p50\": 0.82, \"p75\": 0.92, \"p50_trip\": 0, \"fastest_trip\": 0, \"car_duration_hours\": 0.55, \"competitive_route\": 1, \"bus_multiplier\": 1.82, \"bus_difference\": 27.0, \"num_trips\": 14, \"num_competitive\": 14, \"pct_trips_competitive\": 1.0, \"bus_difference_spread\": 16.8, \"route_group\": \"short\", \"max_trip_hrs\": 1.0, \"max_trip_route_group\": 1.0, \"name\": \"Lake Transit Authority\", \"caltrans_district\": \"01 - Eureka\", \"drmt_organization_name\": \"['reck7ddrpXSeA0mH0']\", \"cutoff2\": 15.0, \"cutoff\": 2}]}}, {\"mode\": \"vega-lite\"});\n",
       "</script>"
      ],
      "text/plain": [
       "alt.FacetChart(...)"
      ]
     },
     "metadata": {},
     "output_type": "display_data"
    },
    {
     "data": {
      "text/html": [
       "\n",
       "<div id=\"altair-viz-0f500c8fce724b2b92983322d1fcf6b7\"></div>\n",
       "<script type=\"text/javascript\">\n",
       "  var VEGA_DEBUG = (typeof VEGA_DEBUG == \"undefined\") ? {} : VEGA_DEBUG;\n",
       "  (function(spec, embedOpt){\n",
       "    let outputDiv = document.currentScript.previousElementSibling;\n",
       "    if (outputDiv.id !== \"altair-viz-0f500c8fce724b2b92983322d1fcf6b7\") {\n",
       "      outputDiv = document.getElementById(\"altair-viz-0f500c8fce724b2b92983322d1fcf6b7\");\n",
       "    }\n",
       "    const paths = {\n",
       "      \"vega\": \"https://cdn.jsdelivr.net/npm//vega@5?noext\",\n",
       "      \"vega-lib\": \"https://cdn.jsdelivr.net/npm//vega-lib?noext\",\n",
       "      \"vega-lite\": \"https://cdn.jsdelivr.net/npm//vega-lite@4.17.0?noext\",\n",
       "      \"vega-embed\": \"https://cdn.jsdelivr.net/npm//vega-embed@6?noext\",\n",
       "    };\n",
       "\n",
       "    function maybeLoadScript(lib, version) {\n",
       "      var key = `${lib.replace(\"-\", \"\")}_version`;\n",
       "      return (VEGA_DEBUG[key] == version) ?\n",
       "        Promise.resolve(paths[lib]) :\n",
       "        new Promise(function(resolve, reject) {\n",
       "          var s = document.createElement('script');\n",
       "          document.getElementsByTagName(\"head\")[0].appendChild(s);\n",
       "          s.async = true;\n",
       "          s.onload = () => {\n",
       "            VEGA_DEBUG[key] = version;\n",
       "            return resolve(paths[lib]);\n",
       "          };\n",
       "          s.onerror = () => reject(`Error loading script: ${paths[lib]}`);\n",
       "          s.src = paths[lib];\n",
       "        });\n",
       "    }\n",
       "\n",
       "    function showError(err) {\n",
       "      outputDiv.innerHTML = `<div class=\"error\" style=\"color:red;\">${err}</div>`;\n",
       "      throw err;\n",
       "    }\n",
       "\n",
       "    function displayChart(vegaEmbed) {\n",
       "      vegaEmbed(outputDiv, spec, embedOpt)\n",
       "        .catch(err => showError(`Javascript Error: ${err.message}<br>This usually means there's a typo in your chart specification. See the javascript console for the full traceback.`));\n",
       "    }\n",
       "\n",
       "    if(typeof define === \"function\" && define.amd) {\n",
       "      requirejs.config({paths});\n",
       "      require([\"vega-embed\"], displayChart, err => showError(`Error loading script: ${err.message}`));\n",
       "    } else {\n",
       "      maybeLoadScript(\"vega\", \"5\")\n",
       "        .then(() => maybeLoadScript(\"vega-lite\", \"4.17.0\"))\n",
       "        .then(() => maybeLoadScript(\"vega-embed\", \"6\"))\n",
       "        .catch(showError)\n",
       "        .then(() => displayChart(vegaEmbed));\n",
       "    }\n",
       "  })({\"config\": {\"view\": {\"continuousWidth\": 400, \"continuousHeight\": 300, \"stroke\": null}, \"facet\": {\"spacing\": 0}}, \"data\": {\"name\": \"data-a018dbaef9d76991c4b0250ad0812aa1\"}, \"facet\": {\"column\": {\"field\": \"route_id\", \"sort\": [\"2042\"], \"title\": \"Route ID\", \"type\": \"nominal\"}}, \"spec\": {\"layer\": [{\"mark\": {\"type\": \"point\", \"opacity\": 0.65, \"size\": 12, \"strokeWidth\": 1.1}, \"encoding\": {\"color\": {\"field\": \"time_of_day\", \"scale\": {\"range\": [\"#136C97\", \"#E16B26\", \"#F6BF16\", \"#00896B\", \"#7790A3\", \"#5B559C\"]}, \"sort\": [\"AM Peak\", \"Midday\", \"PM Peak\", \"Owl Service\"], \"title\": \"Time of Day\", \"type\": \"nominal\"}, \"tooltip\": [{\"field\": \"route_id\", \"type\": \"nominal\"}, {\"field\": \"trip_id\", \"type\": \"nominal\"}, {\"field\": \"service_hours\", \"type\": \"quantitative\"}, {\"field\": \"car_duration_hours\", \"type\": \"quantitative\"}, {\"field\": \"bus_multiplier\", \"type\": \"quantitative\"}, {\"field\": \"bus_difference\", \"type\": \"quantitative\"}, {\"field\": \"num_trips\", \"type\": \"quantitative\"}, {\"field\": \"num_competitive\", \"type\": \"quantitative\"}, {\"field\": \"pct_trips_competitive\", \"type\": \"quantitative\"}, {\"field\": \"p25\", \"type\": \"quantitative\"}, {\"field\": \"p50\", \"type\": \"quantitative\"}, {\"field\": \"p75\", \"type\": \"quantitative\"}], \"x\": {\"axis\": {\"grid\": false, \"labels\": false, \"ticks\": true, \"values\": [0]}, \"field\": \"jitter\", \"scale\": {}, \"title\": null, \"type\": \"quantitative\"}, \"y\": {\"field\": \"bus_difference\", \"scale\": {\"domain\": [-5, 55.2]}, \"title\": \"Difference in Bus to Car Travel Time (min)\", \"type\": \"quantitative\"}}, \"selection\": {\"selector002\": {\"type\": \"interval\", \"bind\": \"scales\", \"encodings\": [\"x\", \"y\"]}}, \"transform\": [{\"calculate\": \"sqrt(-2*log(random()))*cos(2*PI*random())\", \"as\": \"jitter\"}], \"width\": 60}, {\"layer\": [{\"mark\": {\"type\": \"point\", \"opacity\": 0.6, \"size\": 20, \"strokeWidth\": 1.3}, \"encoding\": {\"color\": {\"value\": \"#323434\"}, \"y\": {\"field\": \"bus_difference\", \"type\": \"quantitative\"}}, \"transform\": [{\"filter\": \"(datum.p50_trip === 1)\"}]}, {\"mark\": {\"type\": \"rule\", \"strokeDash\": [2, 3]}, \"encoding\": {\"color\": {\"value\": \"#323434\"}, \"y\": {\"field\": \"cutoff\", \"type\": \"quantitative\"}}}, {\"mark\": {\"type\": \"rule\", \"strokeDash\": [2, 3]}, \"encoding\": {\"color\": {\"value\": \"#136C97\"}, \"y\": {\"field\": \"cutoff2\", \"type\": \"quantitative\"}}}, {\"mark\": {\"type\": \"text\", \"align\": \"center\", \"baseline\": \"middle\"}, \"encoding\": {\"color\": {\"value\": \"black\"}, \"text\": {\"field\": \"pct_trips_competitive\", \"format\": \".0%\", \"type\": \"quantitative\"}, \"tooltip\": [{\"field\": \"route_id\", \"type\": \"nominal\"}, {\"field\": \"trip_id\", \"type\": \"nominal\"}, {\"field\": \"service_hours\", \"type\": \"quantitative\"}, {\"field\": \"car_duration_hours\", \"type\": \"quantitative\"}, {\"field\": \"bus_multiplier\", \"type\": \"quantitative\"}, {\"field\": \"bus_difference\", \"type\": \"quantitative\"}, {\"field\": \"num_trips\", \"type\": \"quantitative\"}, {\"field\": \"num_competitive\", \"type\": \"quantitative\"}, {\"field\": \"pct_trips_competitive\", \"type\": \"quantitative\"}, {\"field\": \"p25\", \"type\": \"quantitative\"}, {\"field\": \"p50\", \"type\": \"quantitative\"}, {\"field\": \"p75\", \"type\": \"quantitative\"}], \"x\": {\"value\": 30}, \"y\": {\"value\": 15}}, \"transform\": [{\"calculate\": \"sqrt(-2*log(random()))*cos(2*PI*random())\", \"as\": \"jitter\"}, {\"filter\": \"(datum.fastest_trip === 1)\"}]}]}]}, \"resolve\": {\"scale\": {\"y\": \"shared\"}}, \"title\": \"Difference in Bus to Car Travel Time (min)\", \"$schema\": \"https://vega.github.io/schema/vega-lite/v4.17.0.json\", \"datasets\": {\"data-a018dbaef9d76991c4b0250ad0812aa1\": [{\"calitp_itp_id\": 159, \"trip_key\": 6494662133026071208, \"trip_id\": \"t_1547207_b_25985_tn_0\", \"shape_id\": \"p_4695\", \"route_id\": \"2042\", \"service_hours\": 0.72, \"trip_first_departure_ts\": 21600, \"trip_last_arrival_ts\": 24180, \"departure_hour\": 6, \"time_of_day\": \"Owl Service\", \"p25\": 0.82, \"p50\": 0.82, \"p75\": 0.92, \"p50_trip\": 0, \"fastest_trip\": 1, \"car_duration_hours\": 0.55, \"competitive_route\": 1, \"bus_multiplier\": 1.31, \"bus_difference\": 10.2, \"num_trips\": 14, \"num_competitive\": 14, \"pct_trips_competitive\": 1.0, \"bus_difference_spread\": 16.8, \"route_group\": \"short\", \"max_trip_hrs\": 1.0, \"max_trip_route_group\": 1.0, \"name\": \"Lake Transit Authority\", \"caltrans_district\": \"01 - Eureka\", \"drmt_organization_name\": \"['reck7ddrpXSeA0mH0']\", \"cutoff2\": 15.0, \"cutoff\": 0}, {\"calitp_itp_id\": 159, \"trip_key\": -2495627823400254138, \"trip_id\": \"t_1057379_b_25985_tn_0\", \"shape_id\": \"p_4696\", \"route_id\": \"2042\", \"service_hours\": 0.82, \"trip_first_departure_ts\": 32400, \"trip_last_arrival_ts\": 35340, \"departure_hour\": 9, \"time_of_day\": \"AM Peak\", \"p25\": 0.82, \"p50\": 0.82, \"p75\": 0.92, \"p50_trip\": 1, \"fastest_trip\": 0, \"car_duration_hours\": 0.55, \"competitive_route\": 1, \"bus_multiplier\": 1.49, \"bus_difference\": 16.2, \"num_trips\": 14, \"num_competitive\": 14, \"pct_trips_competitive\": 1.0, \"bus_difference_spread\": 16.8, \"route_group\": \"short\", \"max_trip_hrs\": 1.0, \"max_trip_route_group\": 1.0, \"name\": \"Lake Transit Authority\", \"caltrans_district\": \"01 - Eureka\", \"drmt_organization_name\": \"['reck7ddrpXSeA0mH0']\", \"cutoff2\": 15.0, \"cutoff\": 0}, {\"calitp_itp_id\": 159, \"trip_key\": 6672467146987189394, \"trip_id\": \"t_1547210_b_25985_tn_0\", \"shape_id\": \"p_4685\", \"route_id\": \"2042\", \"service_hours\": 0.82, \"trip_first_departure_ts\": 66600, \"trip_last_arrival_ts\": 69540, \"departure_hour\": 18, \"time_of_day\": \"PM Peak\", \"p25\": 0.82, \"p50\": 0.82, \"p75\": 0.92, \"p50_trip\": 1, \"fastest_trip\": 0, \"car_duration_hours\": 0.55, \"competitive_route\": 1, \"bus_multiplier\": 1.49, \"bus_difference\": 16.2, \"num_trips\": 14, \"num_competitive\": 14, \"pct_trips_competitive\": 1.0, \"bus_difference_spread\": 16.8, \"route_group\": \"short\", \"max_trip_hrs\": 1.0, \"max_trip_route_group\": 1.0, \"name\": \"Lake Transit Authority\", \"caltrans_district\": \"01 - Eureka\", \"drmt_organization_name\": \"['reck7ddrpXSeA0mH0']\", \"cutoff2\": 15.0, \"cutoff\": 0}, {\"calitp_itp_id\": 159, \"trip_key\": 4262090264244909449, \"trip_id\": \"t_1057322_b_25985_tn_0\", \"shape_id\": \"p_4696\", \"route_id\": \"2042\", \"service_hours\": 0.82, \"trip_first_departure_ts\": 39600, \"trip_last_arrival_ts\": 42540, \"departure_hour\": 11, \"time_of_day\": \"Midday\", \"p25\": 0.82, \"p50\": 0.82, \"p75\": 0.92, \"p50_trip\": 1, \"fastest_trip\": 0, \"car_duration_hours\": 0.55, \"competitive_route\": 1, \"bus_multiplier\": 1.49, \"bus_difference\": 16.2, \"num_trips\": 14, \"num_competitive\": 14, \"pct_trips_competitive\": 1.0, \"bus_difference_spread\": 16.8, \"route_group\": \"short\", \"max_trip_hrs\": 1.0, \"max_trip_route_group\": 1.0, \"name\": \"Lake Transit Authority\", \"caltrans_district\": \"01 - Eureka\", \"drmt_organization_name\": \"['reck7ddrpXSeA0mH0']\", \"cutoff2\": 15.0, \"cutoff\": 0}, {\"calitp_itp_id\": 159, \"trip_key\": 5811904466090434083, \"trip_id\": \"t_1057309_b_25985_tn_0\", \"shape_id\": \"p_4696\", \"route_id\": \"2042\", \"service_hours\": 0.82, \"trip_first_departure_ts\": 25200, \"trip_last_arrival_ts\": 28140, \"departure_hour\": 7, \"time_of_day\": \"AM Peak\", \"p25\": 0.82, \"p50\": 0.82, \"p75\": 0.92, \"p50_trip\": 1, \"fastest_trip\": 0, \"car_duration_hours\": 0.55, \"competitive_route\": 1, \"bus_multiplier\": 1.49, \"bus_difference\": 16.2, \"num_trips\": 14, \"num_competitive\": 14, \"pct_trips_competitive\": 1.0, \"bus_difference_spread\": 16.8, \"route_group\": \"short\", \"max_trip_hrs\": 1.0, \"max_trip_route_group\": 1.0, \"name\": \"Lake Transit Authority\", \"caltrans_district\": \"01 - Eureka\", \"drmt_organization_name\": \"['reck7ddrpXSeA0mH0']\", \"cutoff2\": 15.0, \"cutoff\": 0}, {\"calitp_itp_id\": 159, \"trip_key\": 7583329211563474538, \"trip_id\": \"t_1547208_b_25985_tn_0\", \"shape_id\": \"p_4696\", \"route_id\": \"2042\", \"service_hours\": 0.82, \"trip_first_departure_ts\": 50400, \"trip_last_arrival_ts\": 53340, \"departure_hour\": 14, \"time_of_day\": \"Midday\", \"p25\": 0.82, \"p50\": 0.82, \"p75\": 0.92, \"p50_trip\": 1, \"fastest_trip\": 0, \"car_duration_hours\": 0.55, \"competitive_route\": 1, \"bus_multiplier\": 1.49, \"bus_difference\": 16.2, \"num_trips\": 14, \"num_competitive\": 14, \"pct_trips_competitive\": 1.0, \"bus_difference_spread\": 16.8, \"route_group\": \"short\", \"max_trip_hrs\": 1.0, \"max_trip_route_group\": 1.0, \"name\": \"Lake Transit Authority\", \"caltrans_district\": \"01 - Eureka\", \"drmt_organization_name\": \"['reck7ddrpXSeA0mH0']\", \"cutoff2\": 15.0, \"cutoff\": 0}, {\"calitp_itp_id\": 159, \"trip_key\": 7029503141809018244, \"trip_id\": \"t_1439235_b_25985_tn_0\", \"shape_id\": \"p_4696\", \"route_id\": \"2042\", \"service_hours\": 0.82, \"trip_first_departure_ts\": 61200, \"trip_last_arrival_ts\": 64140, \"departure_hour\": 17, \"time_of_day\": \"PM Peak\", \"p25\": 0.82, \"p50\": 0.82, \"p75\": 0.92, \"p50_trip\": 1, \"fastest_trip\": 0, \"car_duration_hours\": 0.55, \"competitive_route\": 1, \"bus_multiplier\": 1.49, \"bus_difference\": 16.2, \"num_trips\": 14, \"num_competitive\": 14, \"pct_trips_competitive\": 1.0, \"bus_difference_spread\": 16.8, \"route_group\": \"short\", \"max_trip_hrs\": 1.0, \"max_trip_route_group\": 1.0, \"name\": \"Lake Transit Authority\", \"caltrans_district\": \"01 - Eureka\", \"drmt_organization_name\": \"['reck7ddrpXSeA0mH0']\", \"cutoff2\": 15.0, \"cutoff\": 0}, {\"calitp_itp_id\": 159, \"trip_key\": -549099797111008701, \"trip_id\": \"t_1057323_b_25985_tn_0\", \"shape_id\": \"p_4696\", \"route_id\": \"2042\", \"service_hours\": 0.82, \"trip_first_departure_ts\": 46800, \"trip_last_arrival_ts\": 49740, \"departure_hour\": 13, \"time_of_day\": \"Midday\", \"p25\": 0.82, \"p50\": 0.82, \"p75\": 0.92, \"p50_trip\": 1, \"fastest_trip\": 0, \"car_duration_hours\": 0.55, \"competitive_route\": 1, \"bus_multiplier\": 1.49, \"bus_difference\": 16.2, \"num_trips\": 14, \"num_competitive\": 14, \"pct_trips_competitive\": 1.0, \"bus_difference_spread\": 16.8, \"route_group\": \"short\", \"max_trip_hrs\": 1.0, \"max_trip_route_group\": 1.0, \"name\": \"Lake Transit Authority\", \"caltrans_district\": \"01 - Eureka\", \"drmt_organization_name\": \"['reck7ddrpXSeA0mH0']\", \"cutoff2\": 15.0, \"cutoff\": 0}, {\"calitp_itp_id\": 159, \"trip_key\": 4215259262523491246, \"trip_id\": \"t_1547209_b_25985_tn_0\", \"shape_id\": \"p_4684\", \"route_id\": \"2042\", \"service_hours\": 0.83, \"trip_first_departure_ts\": 24300, \"trip_last_arrival_ts\": 27300, \"departure_hour\": 6, \"time_of_day\": \"Owl Service\", \"p25\": 0.82, \"p50\": 0.82, \"p75\": 0.92, \"p50_trip\": 0, \"fastest_trip\": 0, \"car_duration_hours\": 0.55, \"competitive_route\": 1, \"bus_multiplier\": 1.51, \"bus_difference\": 16.8, \"num_trips\": 14, \"num_competitive\": 14, \"pct_trips_competitive\": 1.0, \"bus_difference_spread\": 16.8, \"route_group\": \"short\", \"max_trip_hrs\": 1.0, \"max_trip_route_group\": 1.0, \"name\": \"Lake Transit Authority\", \"caltrans_district\": \"01 - Eureka\", \"drmt_organization_name\": \"['reck7ddrpXSeA0mH0']\", \"cutoff2\": 15.0, \"cutoff\": 0}, {\"calitp_itp_id\": 159, \"trip_key\": 1503952459718726654, \"trip_id\": \"t_1057308_b_25985_tn_0\", \"shape_id\": \"p_4684\", \"route_id\": \"2042\", \"service_hours\": 0.92, \"trip_first_departure_ts\": 39600, \"trip_last_arrival_ts\": 42900, \"departure_hour\": 11, \"time_of_day\": \"Midday\", \"p25\": 0.82, \"p50\": 0.82, \"p75\": 0.92, \"p50_trip\": 0, \"fastest_trip\": 0, \"car_duration_hours\": 0.55, \"competitive_route\": 1, \"bus_multiplier\": 1.67, \"bus_difference\": 22.2, \"num_trips\": 14, \"num_competitive\": 14, \"pct_trips_competitive\": 1.0, \"bus_difference_spread\": 16.8, \"route_group\": \"short\", \"max_trip_hrs\": 1.0, \"max_trip_route_group\": 1.0, \"name\": \"Lake Transit Authority\", \"caltrans_district\": \"01 - Eureka\", \"drmt_organization_name\": \"['reck7ddrpXSeA0mH0']\", \"cutoff2\": 15.0, \"cutoff\": 0}, {\"calitp_itp_id\": 159, \"trip_key\": 2670754769451722377, \"trip_id\": \"t_1057277_b_25985_tn_0\", \"shape_id\": \"p_4684\", \"route_id\": \"2042\", \"service_hours\": 0.92, \"trip_first_departure_ts\": 36000, \"trip_last_arrival_ts\": 39300, \"departure_hour\": 10, \"time_of_day\": \"Midday\", \"p25\": 0.82, \"p50\": 0.82, \"p75\": 0.92, \"p50_trip\": 0, \"fastest_trip\": 0, \"car_duration_hours\": 0.55, \"competitive_route\": 1, \"bus_multiplier\": 1.67, \"bus_difference\": 22.2, \"num_trips\": 14, \"num_competitive\": 14, \"pct_trips_competitive\": 1.0, \"bus_difference_spread\": 16.8, \"route_group\": \"short\", \"max_trip_hrs\": 1.0, \"max_trip_route_group\": 1.0, \"name\": \"Lake Transit Authority\", \"caltrans_district\": \"01 - Eureka\", \"drmt_organization_name\": \"['reck7ddrpXSeA0mH0']\", \"cutoff2\": 15.0, \"cutoff\": 0}, {\"calitp_itp_id\": 159, \"trip_key\": 4073523601861258746, \"trip_id\": \"t_1063564_b_25985_tn_0\", \"shape_id\": \"p_4684\", \"route_id\": \"2042\", \"service_hours\": 0.98, \"trip_first_departure_ts\": 64800, \"trip_last_arrival_ts\": 68340, \"departure_hour\": 18, \"time_of_day\": \"PM Peak\", \"p25\": 0.82, \"p50\": 0.82, \"p75\": 0.92, \"p50_trip\": 0, \"fastest_trip\": 0, \"car_duration_hours\": 0.55, \"competitive_route\": 1, \"bus_multiplier\": 1.78, \"bus_difference\": 25.8, \"num_trips\": 14, \"num_competitive\": 14, \"pct_trips_competitive\": 1.0, \"bus_difference_spread\": 16.8, \"route_group\": \"short\", \"max_trip_hrs\": 1.0, \"max_trip_route_group\": 1.0, \"name\": \"Lake Transit Authority\", \"caltrans_district\": \"01 - Eureka\", \"drmt_organization_name\": \"['reck7ddrpXSeA0mH0']\", \"cutoff2\": 15.0, \"cutoff\": 0}, {\"calitp_itp_id\": 159, \"trip_key\": 6345662052778926459, \"trip_id\": \"t_1439236_b_25985_tn_0\", \"shape_id\": \"p_4684\", \"route_id\": \"2042\", \"service_hours\": 1.0, \"trip_first_departure_ts\": 51000, \"trip_last_arrival_ts\": 54600, \"departure_hour\": 14, \"time_of_day\": \"Midday\", \"p25\": 0.82, \"p50\": 0.82, \"p75\": 0.92, \"p50_trip\": 0, \"fastest_trip\": 0, \"car_duration_hours\": 0.55, \"competitive_route\": 1, \"bus_multiplier\": 1.82, \"bus_difference\": 27.0, \"num_trips\": 14, \"num_competitive\": 14, \"pct_trips_competitive\": 1.0, \"bus_difference_spread\": 16.8, \"route_group\": \"short\", \"max_trip_hrs\": 1.0, \"max_trip_route_group\": 1.0, \"name\": \"Lake Transit Authority\", \"caltrans_district\": \"01 - Eureka\", \"drmt_organization_name\": \"['reck7ddrpXSeA0mH0']\", \"cutoff2\": 15.0, \"cutoff\": 0}, {\"calitp_itp_id\": 159, \"trip_key\": -8876945536004734190, \"trip_id\": \"t_1057276_b_25985_tn_0\", \"shape_id\": \"p_4684\", \"route_id\": \"2042\", \"service_hours\": 1.0, \"trip_first_departure_ts\": 55800, \"trip_last_arrival_ts\": 59400, \"departure_hour\": 15, \"time_of_day\": \"Midday\", \"p25\": 0.82, \"p50\": 0.82, \"p75\": 0.92, \"p50_trip\": 0, \"fastest_trip\": 0, \"car_duration_hours\": 0.55, \"competitive_route\": 1, \"bus_multiplier\": 1.82, \"bus_difference\": 27.0, \"num_trips\": 14, \"num_competitive\": 14, \"pct_trips_competitive\": 1.0, \"bus_difference_spread\": 16.8, \"route_group\": \"short\", \"max_trip_hrs\": 1.0, \"max_trip_route_group\": 1.0, \"name\": \"Lake Transit Authority\", \"caltrans_district\": \"01 - Eureka\", \"drmt_organization_name\": \"['reck7ddrpXSeA0mH0']\", \"cutoff2\": 15.0, \"cutoff\": 0}]}}, {\"mode\": \"vega-lite\"});\n",
       "</script>"
      ],
      "text/plain": [
       "alt.FacetChart(...)"
      ]
     },
     "metadata": {},
     "output_type": "display_data"
    }
   ],
   "source": [
    "# Allow for possibility that operator doesn't have routes that fall into certain route_groups\n",
    "# But, jupyterbook will not like markdown with f-string\n",
    "# separate out route_group and put in each cell, and use try/except + if to display...\n",
    "# but all 3 route groups must be displayed. just add sentence about why no routes were returned at the end\n",
    "route_group = \"short\"\n",
    "try:\n",
    "    subset_routes, mult, diff  = setup_charts(df, PCT_COMPETITIVE_THRESHOLD, route_group)\n",
    "    \n",
    "    if len(subset_routes) > 0:\n",
    "        display(\n",
    "            Markdown(\n",
    "                f\"{CAPTIONS_DICT[route_group]}\"\n",
    "                \"Within each route group, routes are sorted in descending order \"\n",
    "                \"by % competitive trips and # trips below the additional time cut-off.\"\n",
    "            )\n",
    "        )\n",
    "\n",
    "        display(mult)\n",
    "        display(diff)\n",
    "except:\n",
    "    print(\"No routes meet this criteria.\")"
   ]
  },
  {
   "cell_type": "markdown",
   "id": "c2931b6f-034d-4384-9e14-80b925e3b820",
   "metadata": {
    "papermill": {
     "duration": 0.014088,
     "end_time": "2022-05-07T16:51:51.167785",
     "exception": false,
     "start_time": "2022-05-07T16:51:51.153697",
     "status": "completed"
    },
    "tags": []
   },
   "source": [
    "### Medium Routes (1-1.5 hrs)"
   ]
  },
  {
   "cell_type": "code",
   "execution_count": 13,
   "id": "480edddc-4de0-48c2-ae4c-b0ceef8f28b5",
   "metadata": {
    "execution": {
     "iopub.execute_input": "2022-05-07T16:51:51.196715Z",
     "iopub.status.busy": "2022-05-07T16:51:51.196377Z",
     "iopub.status.idle": "2022-05-07T16:51:51.419652Z",
     "shell.execute_reply": "2022-05-07T16:51:51.418848Z"
    },
    "jupyter": {
     "source_hidden": true
    },
    "papermill": {
     "duration": 0.240311,
     "end_time": "2022-05-07T16:51:51.421777",
     "exception": false,
     "start_time": "2022-05-07T16:51:51.181466",
     "status": "completed"
    },
    "tags": [
     "remove_input"
    ]
   },
   "outputs": [
    {
     "data": {
      "text/markdown": [
       "<br>These are routes that have at least 25% of their trips take no more than an additional 30 min compared to a car (up to 15 routes) are shown.Within each route group, routes are sorted in descending order by % competitive trips and # trips below the additional time cut-off."
      ],
      "text/plain": [
       "<IPython.core.display.Markdown object>"
      ]
     },
     "metadata": {},
     "output_type": "display_data"
    },
    {
     "data": {
      "text/html": [
       "\n",
       "<div id=\"altair-viz-cc842efc732840e29e39736ac62aae80\"></div>\n",
       "<script type=\"text/javascript\">\n",
       "  var VEGA_DEBUG = (typeof VEGA_DEBUG == \"undefined\") ? {} : VEGA_DEBUG;\n",
       "  (function(spec, embedOpt){\n",
       "    let outputDiv = document.currentScript.previousElementSibling;\n",
       "    if (outputDiv.id !== \"altair-viz-cc842efc732840e29e39736ac62aae80\") {\n",
       "      outputDiv = document.getElementById(\"altair-viz-cc842efc732840e29e39736ac62aae80\");\n",
       "    }\n",
       "    const paths = {\n",
       "      \"vega\": \"https://cdn.jsdelivr.net/npm//vega@5?noext\",\n",
       "      \"vega-lib\": \"https://cdn.jsdelivr.net/npm//vega-lib?noext\",\n",
       "      \"vega-lite\": \"https://cdn.jsdelivr.net/npm//vega-lite@4.17.0?noext\",\n",
       "      \"vega-embed\": \"https://cdn.jsdelivr.net/npm//vega-embed@6?noext\",\n",
       "    };\n",
       "\n",
       "    function maybeLoadScript(lib, version) {\n",
       "      var key = `${lib.replace(\"-\", \"\")}_version`;\n",
       "      return (VEGA_DEBUG[key] == version) ?\n",
       "        Promise.resolve(paths[lib]) :\n",
       "        new Promise(function(resolve, reject) {\n",
       "          var s = document.createElement('script');\n",
       "          document.getElementsByTagName(\"head\")[0].appendChild(s);\n",
       "          s.async = true;\n",
       "          s.onload = () => {\n",
       "            VEGA_DEBUG[key] = version;\n",
       "            return resolve(paths[lib]);\n",
       "          };\n",
       "          s.onerror = () => reject(`Error loading script: ${paths[lib]}`);\n",
       "          s.src = paths[lib];\n",
       "        });\n",
       "    }\n",
       "\n",
       "    function showError(err) {\n",
       "      outputDiv.innerHTML = `<div class=\"error\" style=\"color:red;\">${err}</div>`;\n",
       "      throw err;\n",
       "    }\n",
       "\n",
       "    function displayChart(vegaEmbed) {\n",
       "      vegaEmbed(outputDiv, spec, embedOpt)\n",
       "        .catch(err => showError(`Javascript Error: ${err.message}<br>This usually means there's a typo in your chart specification. See the javascript console for the full traceback.`));\n",
       "    }\n",
       "\n",
       "    if(typeof define === \"function\" && define.amd) {\n",
       "      requirejs.config({paths});\n",
       "      require([\"vega-embed\"], displayChart, err => showError(`Error loading script: ${err.message}`));\n",
       "    } else {\n",
       "      maybeLoadScript(\"vega\", \"5\")\n",
       "        .then(() => maybeLoadScript(\"vega-lite\", \"4.17.0\"))\n",
       "        .then(() => maybeLoadScript(\"vega-embed\", \"6\"))\n",
       "        .catch(showError)\n",
       "        .then(() => displayChart(vegaEmbed));\n",
       "    }\n",
       "  })({\"config\": {\"view\": {\"continuousWidth\": 400, \"continuousHeight\": 300, \"stroke\": null}, \"facet\": {\"spacing\": 0}}, \"data\": {\"name\": \"data-fcc73a7171dae17170e061b69e931917\"}, \"facet\": {\"column\": {\"field\": \"route_id\", \"sort\": [\"2017\", \"2033\", \"2018\", \"2041\", \"2031\"], \"title\": \"Route ID\", \"type\": \"nominal\"}}, \"spec\": {\"layer\": [{\"mark\": {\"type\": \"point\", \"opacity\": 0.65, \"size\": 12, \"strokeWidth\": 1.1}, \"encoding\": {\"color\": {\"field\": \"time_of_day\", \"scale\": {\"range\": [\"#136C97\", \"#E16B26\", \"#F6BF16\", \"#00896B\", \"#7790A3\", \"#5B559C\"]}, \"sort\": [\"AM Peak\", \"Midday\", \"PM Peak\", \"Owl Service\"], \"title\": \"Time of Day\", \"type\": \"nominal\"}, \"tooltip\": [{\"field\": \"route_id\", \"type\": \"nominal\"}, {\"field\": \"trip_id\", \"type\": \"nominal\"}, {\"field\": \"service_hours\", \"type\": \"quantitative\"}, {\"field\": \"car_duration_hours\", \"type\": \"quantitative\"}, {\"field\": \"bus_multiplier\", \"type\": \"quantitative\"}, {\"field\": \"bus_difference\", \"type\": \"quantitative\"}, {\"field\": \"num_trips\", \"type\": \"quantitative\"}, {\"field\": \"num_competitive\", \"type\": \"quantitative\"}, {\"field\": \"pct_trips_competitive\", \"type\": \"quantitative\"}, {\"field\": \"p25\", \"type\": \"quantitative\"}, {\"field\": \"p50\", \"type\": \"quantitative\"}, {\"field\": \"p75\", \"type\": \"quantitative\"}], \"x\": {\"axis\": {\"grid\": false, \"labels\": false, \"ticks\": true, \"values\": [0]}, \"field\": \"jitter\", \"scale\": {}, \"title\": null, \"type\": \"quantitative\"}, \"y\": {\"field\": \"bus_multiplier\", \"scale\": {\"domain\": [-0.25, 2.8]}, \"title\": \"Ratio of Bus to Car Travel Time\", \"type\": \"quantitative\"}}, \"selection\": {\"selector003\": {\"type\": \"interval\", \"bind\": \"scales\", \"encodings\": [\"x\", \"y\"]}}, \"transform\": [{\"calculate\": \"sqrt(-2*log(random()))*cos(2*PI*random())\", \"as\": \"jitter\"}], \"width\": 60}, {\"layer\": [{\"mark\": {\"type\": \"point\", \"opacity\": 0.6, \"size\": 20, \"strokeWidth\": 1.3}, \"encoding\": {\"color\": {\"value\": \"#323434\"}, \"y\": {\"field\": \"bus_multiplier\", \"type\": \"quantitative\"}}, \"transform\": [{\"filter\": \"(datum.p50_trip === 1)\"}]}, {\"mark\": {\"type\": \"rule\", \"strokeDash\": [2, 3]}, \"encoding\": {\"color\": {\"value\": \"#323434\"}, \"y\": {\"field\": \"cutoff\", \"type\": \"quantitative\"}}}, {\"mark\": {\"type\": \"text\", \"align\": \"center\", \"baseline\": \"middle\"}, \"encoding\": {\"color\": {\"value\": \"black\"}, \"text\": {\"field\": \"pct_trips_competitive\", \"format\": \".0%\", \"type\": \"quantitative\"}, \"tooltip\": [{\"field\": \"route_id\", \"type\": \"nominal\"}, {\"field\": \"trip_id\", \"type\": \"nominal\"}, {\"field\": \"service_hours\", \"type\": \"quantitative\"}, {\"field\": \"car_duration_hours\", \"type\": \"quantitative\"}, {\"field\": \"bus_multiplier\", \"type\": \"quantitative\"}, {\"field\": \"bus_difference\", \"type\": \"quantitative\"}, {\"field\": \"num_trips\", \"type\": \"quantitative\"}, {\"field\": \"num_competitive\", \"type\": \"quantitative\"}, {\"field\": \"pct_trips_competitive\", \"type\": \"quantitative\"}, {\"field\": \"p25\", \"type\": \"quantitative\"}, {\"field\": \"p50\", \"type\": \"quantitative\"}, {\"field\": \"p75\", \"type\": \"quantitative\"}], \"x\": {\"value\": 30}, \"y\": {\"value\": 15}}, \"transform\": [{\"calculate\": \"sqrt(-2*log(random()))*cos(2*PI*random())\", \"as\": \"jitter\"}, {\"filter\": \"(datum.fastest_trip === 1)\"}]}]}]}, \"resolve\": {\"scale\": {\"y\": \"shared\"}}, \"title\": \"Ratio of Bus to Car Travel Time\", \"$schema\": \"https://vega.github.io/schema/vega-lite/v4.17.0.json\", \"datasets\": {\"data-fcc73a7171dae17170e061b69e931917\": [{\"calitp_itp_id\": 159, \"trip_key\": -3944783745354818306, \"trip_id\": \"t_1547202_b_25985_tn_0\", \"shape_id\": \"p_4701\", \"route_id\": \"2017\", \"service_hours\": 1.17, \"trip_first_departure_ts\": 64800, \"trip_last_arrival_ts\": 69000, \"departure_hour\": 18, \"time_of_day\": \"PM Peak\", \"p25\": 1.27, \"p50\": 1.33, \"p75\": 1.33, \"p50_trip\": 0, \"fastest_trip\": 1, \"car_duration_hours\": 0.86, \"competitive_route\": 1, \"bus_multiplier\": 1.36, \"bus_difference\": 18.6, \"num_trips\": 21, \"num_competitive\": 21, \"pct_trips_competitive\": 1.0, \"bus_difference_spread\": 9.6, \"route_group\": \"medium\", \"max_trip_hrs\": 1.33, \"max_trip_route_group\": 1.5, \"name\": \"Lake Transit Authority\", \"caltrans_district\": \"01 - Eureka\", \"drmt_organization_name\": \"['reck7ddrpXSeA0mH0']\", \"cutoff2\": 22.5, \"cutoff\": 2}, {\"calitp_itp_id\": 159, \"trip_key\": 7975854537962945896, \"trip_id\": \"t_1057318_b_25985_tn_0\", \"shape_id\": \"p_4704\", \"route_id\": \"2017\", \"service_hours\": 1.27, \"trip_first_departure_ts\": 25200, \"trip_last_arrival_ts\": 29760, \"departure_hour\": 7, \"time_of_day\": \"AM Peak\", \"p25\": 1.27, \"p50\": 1.33, \"p75\": 1.33, \"p50_trip\": 0, \"fastest_trip\": 0, \"car_duration_hours\": 0.86, \"competitive_route\": 1, \"bus_multiplier\": 1.48, \"bus_difference\": 24.6, \"num_trips\": 21, \"num_competitive\": 21, \"pct_trips_competitive\": 1.0, \"bus_difference_spread\": 9.6, \"route_group\": \"medium\", \"max_trip_hrs\": 1.33, \"max_trip_route_group\": 1.5, \"name\": \"Lake Transit Authority\", \"caltrans_district\": \"01 - Eureka\", \"drmt_organization_name\": \"['reck7ddrpXSeA0mH0']\", \"cutoff2\": 22.5, \"cutoff\": 2}, {\"calitp_itp_id\": 159, \"trip_key\": -5739668381372938217, \"trip_id\": \"t_1438245_b_25985_tn_0\", \"shape_id\": \"p_4704\", \"route_id\": \"2017\", \"service_hours\": 1.27, \"trip_first_departure_ts\": 43200, \"trip_last_arrival_ts\": 47760, \"departure_hour\": 12, \"time_of_day\": \"Midday\", \"p25\": 1.27, \"p50\": 1.33, \"p75\": 1.33, \"p50_trip\": 0, \"fastest_trip\": 0, \"car_duration_hours\": 0.86, \"competitive_route\": 1, \"bus_multiplier\": 1.48, \"bus_difference\": 24.6, \"num_trips\": 21, \"num_competitive\": 21, \"pct_trips_competitive\": 1.0, \"bus_difference_spread\": 9.6, \"route_group\": \"medium\", \"max_trip_hrs\": 1.33, \"max_trip_route_group\": 1.5, \"name\": \"Lake Transit Authority\", \"caltrans_district\": \"01 - Eureka\", \"drmt_organization_name\": \"['reck7ddrpXSeA0mH0']\", \"cutoff2\": 22.5, \"cutoff\": 2}, {\"calitp_itp_id\": 159, \"trip_key\": -7086591399088011798, \"trip_id\": \"t_1057371_b_25985_tn_0\", \"shape_id\": \"p_4704\", \"route_id\": \"2017\", \"service_hours\": 1.27, \"trip_first_departure_ts\": 57600, \"trip_last_arrival_ts\": 62160, \"departure_hour\": 16, \"time_of_day\": \"Midday\", \"p25\": 1.27, \"p50\": 1.33, \"p75\": 1.33, \"p50_trip\": 0, \"fastest_trip\": 0, \"car_duration_hours\": 0.86, \"competitive_route\": 1, \"bus_multiplier\": 1.48, \"bus_difference\": 24.6, \"num_trips\": 21, \"num_competitive\": 21, \"pct_trips_competitive\": 1.0, \"bus_difference_spread\": 9.6, \"route_group\": \"medium\", \"max_trip_hrs\": 1.33, \"max_trip_route_group\": 1.5, \"name\": \"Lake Transit Authority\", \"caltrans_district\": \"01 - Eureka\", \"drmt_organization_name\": \"['reck7ddrpXSeA0mH0']\", \"cutoff2\": 22.5, \"cutoff\": 2}, {\"calitp_itp_id\": 159, \"trip_key\": 3189134138711352599, \"trip_id\": \"t_1057313_b_25985_tn_0\", \"shape_id\": \"p_4704\", \"route_id\": \"2017\", \"service_hours\": 1.27, \"trip_first_departure_ts\": 54000, \"trip_last_arrival_ts\": 58560, \"departure_hour\": 15, \"time_of_day\": \"Midday\", \"p25\": 1.27, \"p50\": 1.33, \"p75\": 1.33, \"p50_trip\": 0, \"fastest_trip\": 0, \"car_duration_hours\": 0.86, \"competitive_route\": 1, \"bus_multiplier\": 1.48, \"bus_difference\": 24.6, \"num_trips\": 21, \"num_competitive\": 21, \"pct_trips_competitive\": 1.0, \"bus_difference_spread\": 9.6, \"route_group\": \"medium\", \"max_trip_hrs\": 1.33, \"max_trip_route_group\": 1.5, \"name\": \"Lake Transit Authority\", \"caltrans_district\": \"01 - Eureka\", \"drmt_organization_name\": \"['reck7ddrpXSeA0mH0']\", \"cutoff2\": 22.5, \"cutoff\": 2}, {\"calitp_itp_id\": 159, \"trip_key\": -882607312092292271, \"trip_id\": \"t_1437746_b_25985_tn_0\", \"shape_id\": \"p_4704\", \"route_id\": \"2017\", \"service_hours\": 1.27, \"trip_first_departure_ts\": 32400, \"trip_last_arrival_ts\": 36960, \"departure_hour\": 9, \"time_of_day\": \"AM Peak\", \"p25\": 1.27, \"p50\": 1.33, \"p75\": 1.33, \"p50_trip\": 0, \"fastest_trip\": 0, \"car_duration_hours\": 0.86, \"competitive_route\": 1, \"bus_multiplier\": 1.48, \"bus_difference\": 24.6, \"num_trips\": 21, \"num_competitive\": 21, \"pct_trips_competitive\": 1.0, \"bus_difference_spread\": 9.6, \"route_group\": \"medium\", \"max_trip_hrs\": 1.33, \"max_trip_route_group\": 1.5, \"name\": \"Lake Transit Authority\", \"caltrans_district\": \"01 - Eureka\", \"drmt_organization_name\": \"['reck7ddrpXSeA0mH0']\", \"cutoff2\": 22.5, \"cutoff\": 2}, {\"calitp_itp_id\": 159, \"trip_key\": 883262375499103108, \"trip_id\": \"t_1057337_b_25985_tn_0\", \"shape_id\": \"p_4704\", \"route_id\": \"2017\", \"service_hours\": 1.27, \"trip_first_departure_ts\": 28800, \"trip_last_arrival_ts\": 33360, \"departure_hour\": 8, \"time_of_day\": \"AM Peak\", \"p25\": 1.27, \"p50\": 1.33, \"p75\": 1.33, \"p50_trip\": 0, \"fastest_trip\": 0, \"car_duration_hours\": 0.86, \"competitive_route\": 1, \"bus_multiplier\": 1.48, \"bus_difference\": 24.6, \"num_trips\": 21, \"num_competitive\": 21, \"pct_trips_competitive\": 1.0, \"bus_difference_spread\": 9.6, \"route_group\": \"medium\", \"max_trip_hrs\": 1.33, \"max_trip_route_group\": 1.5, \"name\": \"Lake Transit Authority\", \"caltrans_district\": \"01 - Eureka\", \"drmt_organization_name\": \"['reck7ddrpXSeA0mH0']\", \"cutoff2\": 22.5, \"cutoff\": 2}, {\"calitp_itp_id\": 159, \"trip_key\": -7060615908356080224, \"trip_id\": \"t_1437743_b_25985_tn_0\", \"shape_id\": \"p_4704\", \"route_id\": \"2017\", \"service_hours\": 1.27, \"trip_first_departure_ts\": 36000, \"trip_last_arrival_ts\": 40560, \"departure_hour\": 10, \"time_of_day\": \"Midday\", \"p25\": 1.27, \"p50\": 1.33, \"p75\": 1.33, \"p50_trip\": 0, \"fastest_trip\": 0, \"car_duration_hours\": 0.86, \"competitive_route\": 1, \"bus_multiplier\": 1.48, \"bus_difference\": 24.6, \"num_trips\": 21, \"num_competitive\": 21, \"pct_trips_competitive\": 1.0, \"bus_difference_spread\": 9.6, \"route_group\": \"medium\", \"max_trip_hrs\": 1.33, \"max_trip_route_group\": 1.5, \"name\": \"Lake Transit Authority\", \"caltrans_district\": \"01 - Eureka\", \"drmt_organization_name\": \"['reck7ddrpXSeA0mH0']\", \"cutoff2\": 22.5, \"cutoff\": 2}, {\"calitp_itp_id\": 159, \"trip_key\": -6022555100018684516, \"trip_id\": \"t_1057370_b_25985_tn_0\", \"shape_id\": \"p_4704\", \"route_id\": \"2017\", \"service_hours\": 1.27, \"trip_first_departure_ts\": 50400, \"trip_last_arrival_ts\": 54960, \"departure_hour\": 14, \"time_of_day\": \"Midday\", \"p25\": 1.27, \"p50\": 1.33, \"p75\": 1.33, \"p50_trip\": 0, \"fastest_trip\": 0, \"car_duration_hours\": 0.86, \"competitive_route\": 1, \"bus_multiplier\": 1.48, \"bus_difference\": 24.6, \"num_trips\": 21, \"num_competitive\": 21, \"pct_trips_competitive\": 1.0, \"bus_difference_spread\": 9.6, \"route_group\": \"medium\", \"max_trip_hrs\": 1.33, \"max_trip_route_group\": 1.5, \"name\": \"Lake Transit Authority\", \"caltrans_district\": \"01 - Eureka\", \"drmt_organization_name\": \"['reck7ddrpXSeA0mH0']\", \"cutoff2\": 22.5, \"cutoff\": 2}, {\"calitp_itp_id\": 159, \"trip_key\": -8691886450909504027, \"trip_id\": \"t_1057316_b_25985_tn_0\", \"shape_id\": \"p_4704\", \"route_id\": \"2017\", \"service_hours\": 1.27, \"trip_first_departure_ts\": 39600, \"trip_last_arrival_ts\": 44160, \"departure_hour\": 11, \"time_of_day\": \"Midday\", \"p25\": 1.27, \"p50\": 1.33, \"p75\": 1.33, \"p50_trip\": 0, \"fastest_trip\": 0, \"car_duration_hours\": 0.86, \"competitive_route\": 1, \"bus_multiplier\": 1.48, \"bus_difference\": 24.6, \"num_trips\": 21, \"num_competitive\": 21, \"pct_trips_competitive\": 1.0, \"bus_difference_spread\": 9.6, \"route_group\": \"medium\", \"max_trip_hrs\": 1.33, \"max_trip_route_group\": 1.5, \"name\": \"Lake Transit Authority\", \"caltrans_district\": \"01 - Eureka\", \"drmt_organization_name\": \"['reck7ddrpXSeA0mH0']\", \"cutoff2\": 22.5, \"cutoff\": 2}, {\"calitp_itp_id\": 159, \"trip_key\": 3206070528033019796, \"trip_id\": \"t_1438244_b_25985_tn_0\", \"shape_id\": \"p_4709\", \"route_id\": \"2017\", \"service_hours\": 1.33, \"trip_first_departure_ts\": 23700, \"trip_last_arrival_ts\": 28500, \"departure_hour\": 6, \"time_of_day\": \"Owl Service\", \"p25\": 1.27, \"p50\": 1.33, \"p75\": 1.33, \"p50_trip\": 1, \"fastest_trip\": 0, \"car_duration_hours\": 0.86, \"competitive_route\": 1, \"bus_multiplier\": 1.55, \"bus_difference\": 28.2, \"num_trips\": 21, \"num_competitive\": 21, \"pct_trips_competitive\": 1.0, \"bus_difference_spread\": 9.6, \"route_group\": \"medium\", \"max_trip_hrs\": 1.33, \"max_trip_route_group\": 1.5, \"name\": \"Lake Transit Authority\", \"caltrans_district\": \"01 - Eureka\", \"drmt_organization_name\": \"['reck7ddrpXSeA0mH0']\", \"cutoff2\": 22.5, \"cutoff\": 2}, {\"calitp_itp_id\": 159, \"trip_key\": 1838708479705994873, \"trip_id\": \"t_1057342_b_25985_tn_0\", \"shape_id\": \"p_4709\", \"route_id\": \"2017\", \"service_hours\": 1.33, \"trip_first_departure_ts\": 37800, \"trip_last_arrival_ts\": 42600, \"departure_hour\": 10, \"time_of_day\": \"Midday\", \"p25\": 1.27, \"p50\": 1.33, \"p75\": 1.33, \"p50_trip\": 1, \"fastest_trip\": 0, \"car_duration_hours\": 0.86, \"competitive_route\": 1, \"bus_multiplier\": 1.55, \"bus_difference\": 28.2, \"num_trips\": 21, \"num_competitive\": 21, \"pct_trips_competitive\": 1.0, \"bus_difference_spread\": 9.6, \"route_group\": \"medium\", \"max_trip_hrs\": 1.33, \"max_trip_route_group\": 1.5, \"name\": \"Lake Transit Authority\", \"caltrans_district\": \"01 - Eureka\", \"drmt_organization_name\": \"['reck7ddrpXSeA0mH0']\", \"cutoff2\": 22.5, \"cutoff\": 2}, {\"calitp_itp_id\": 159, \"trip_key\": -3466424936241101914, \"trip_id\": \"t_1057290_b_25985_tn_0\", \"shape_id\": \"p_4709\", \"route_id\": \"2017\", \"service_hours\": 1.33, \"trip_first_departure_ts\": 48600, \"trip_last_arrival_ts\": 53400, \"departure_hour\": 13, \"time_of_day\": \"Midday\", \"p25\": 1.27, \"p50\": 1.33, \"p75\": 1.33, \"p50_trip\": 1, \"fastest_trip\": 0, \"car_duration_hours\": 0.86, \"competitive_route\": 1, \"bus_multiplier\": 1.55, \"bus_difference\": 28.2, \"num_trips\": 21, \"num_competitive\": 21, \"pct_trips_competitive\": 1.0, \"bus_difference_spread\": 9.6, \"route_group\": \"medium\", \"max_trip_hrs\": 1.33, \"max_trip_route_group\": 1.5, \"name\": \"Lake Transit Authority\", \"caltrans_district\": \"01 - Eureka\", \"drmt_organization_name\": \"['reck7ddrpXSeA0mH0']\", \"cutoff2\": 22.5, \"cutoff\": 2}, {\"calitp_itp_id\": 159, \"trip_key\": -3552072959869154419, \"trip_id\": \"t_1057339_b_25985_tn_0\", \"shape_id\": \"p_4709\", \"route_id\": \"2017\", \"service_hours\": 1.33, \"trip_first_departure_ts\": 41400, \"trip_last_arrival_ts\": 46200, \"departure_hour\": 11, \"time_of_day\": \"Midday\", \"p25\": 1.27, \"p50\": 1.33, \"p75\": 1.33, \"p50_trip\": 1, \"fastest_trip\": 0, \"car_duration_hours\": 0.86, \"competitive_route\": 1, \"bus_multiplier\": 1.55, \"bus_difference\": 28.2, \"num_trips\": 21, \"num_competitive\": 21, \"pct_trips_competitive\": 1.0, \"bus_difference_spread\": 9.6, \"route_group\": \"medium\", \"max_trip_hrs\": 1.33, \"max_trip_route_group\": 1.5, \"name\": \"Lake Transit Authority\", \"caltrans_district\": \"01 - Eureka\", \"drmt_organization_name\": \"['reck7ddrpXSeA0mH0']\", \"cutoff2\": 22.5, \"cutoff\": 2}, {\"calitp_itp_id\": 159, \"trip_key\": 3869810622505798844, \"trip_id\": \"t_1438242_b_25985_tn_0\", \"shape_id\": \"p_4709\", \"route_id\": \"2017\", \"service_hours\": 1.33, \"trip_first_departure_ts\": 59400, \"trip_last_arrival_ts\": 64200, \"departure_hour\": 16, \"time_of_day\": \"Midday\", \"p25\": 1.27, \"p50\": 1.33, \"p75\": 1.33, \"p50_trip\": 1, \"fastest_trip\": 0, \"car_duration_hours\": 0.86, \"competitive_route\": 1, \"bus_multiplier\": 1.55, \"bus_difference\": 28.2, \"num_trips\": 21, \"num_competitive\": 21, \"pct_trips_competitive\": 1.0, \"bus_difference_spread\": 9.6, \"route_group\": \"medium\", \"max_trip_hrs\": 1.33, \"max_trip_route_group\": 1.5, \"name\": \"Lake Transit Authority\", \"caltrans_district\": \"01 - Eureka\", \"drmt_organization_name\": \"['reck7ddrpXSeA0mH0']\", \"cutoff2\": 22.5, \"cutoff\": 2}, {\"calitp_itp_id\": 159, \"trip_key\": -8845152199326317613, \"trip_id\": \"t_1438240_b_25985_tn_0\", \"shape_id\": \"p_4709\", \"route_id\": \"2017\", \"service_hours\": 1.33, \"trip_first_departure_ts\": 30600, \"trip_last_arrival_ts\": 35400, \"departure_hour\": 8, \"time_of_day\": \"AM Peak\", \"p25\": 1.27, \"p50\": 1.33, \"p75\": 1.33, \"p50_trip\": 1, \"fastest_trip\": 0, \"car_duration_hours\": 0.86, \"competitive_route\": 1, \"bus_multiplier\": 1.55, \"bus_difference\": 28.2, \"num_trips\": 21, \"num_competitive\": 21, \"pct_trips_competitive\": 1.0, \"bus_difference_spread\": 9.6, \"route_group\": \"medium\", \"max_trip_hrs\": 1.33, \"max_trip_route_group\": 1.5, \"name\": \"Lake Transit Authority\", \"caltrans_district\": \"01 - Eureka\", \"drmt_organization_name\": \"['reck7ddrpXSeA0mH0']\", \"cutoff2\": 22.5, \"cutoff\": 2}, {\"calitp_itp_id\": 159, \"trip_key\": -9102131557013495811, \"trip_id\": \"t_1057343_b_25985_tn_0\", \"shape_id\": \"p_4709\", \"route_id\": \"2017\", \"service_hours\": 1.33, \"trip_first_departure_ts\": 55800, \"trip_last_arrival_ts\": 60600, \"departure_hour\": 15, \"time_of_day\": \"Midday\", \"p25\": 1.27, \"p50\": 1.33, \"p75\": 1.33, \"p50_trip\": 1, \"fastest_trip\": 0, \"car_duration_hours\": 0.86, \"competitive_route\": 1, \"bus_multiplier\": 1.55, \"bus_difference\": 28.2, \"num_trips\": 21, \"num_competitive\": 21, \"pct_trips_competitive\": 1.0, \"bus_difference_spread\": 9.6, \"route_group\": \"medium\", \"max_trip_hrs\": 1.33, \"max_trip_route_group\": 1.5, \"name\": \"Lake Transit Authority\", \"caltrans_district\": \"01 - Eureka\", \"drmt_organization_name\": \"['reck7ddrpXSeA0mH0']\", \"cutoff2\": 22.5, \"cutoff\": 2}, {\"calitp_itp_id\": 159, \"trip_key\": -3064571990929012009, \"trip_id\": \"t_1057344_b_25985_tn_0\", \"shape_id\": \"p_4709\", \"route_id\": \"2017\", \"service_hours\": 1.33, \"trip_first_departure_ts\": 34200, \"trip_last_arrival_ts\": 39000, \"departure_hour\": 9, \"time_of_day\": \"AM Peak\", \"p25\": 1.27, \"p50\": 1.33, \"p75\": 1.33, \"p50_trip\": 1, \"fastest_trip\": 0, \"car_duration_hours\": 0.86, \"competitive_route\": 1, \"bus_multiplier\": 1.55, \"bus_difference\": 28.2, \"num_trips\": 21, \"num_competitive\": 21, \"pct_trips_competitive\": 1.0, \"bus_difference_spread\": 9.6, \"route_group\": \"medium\", \"max_trip_hrs\": 1.33, \"max_trip_route_group\": 1.5, \"name\": \"Lake Transit Authority\", \"caltrans_district\": \"01 - Eureka\", \"drmt_organization_name\": \"['reck7ddrpXSeA0mH0']\", \"cutoff2\": 22.5, \"cutoff\": 2}, {\"calitp_itp_id\": 159, \"trip_key\": -768467694510800727, \"trip_id\": \"t_1438241_b_25985_tn_0\", \"shape_id\": \"p_4709\", \"route_id\": \"2017\", \"service_hours\": 1.33, \"trip_first_departure_ts\": 45000, \"trip_last_arrival_ts\": 49800, \"departure_hour\": 12, \"time_of_day\": \"Midday\", \"p25\": 1.27, \"p50\": 1.33, \"p75\": 1.33, \"p50_trip\": 1, \"fastest_trip\": 0, \"car_duration_hours\": 0.86, \"competitive_route\": 1, \"bus_multiplier\": 1.55, \"bus_difference\": 28.2, \"num_trips\": 21, \"num_competitive\": 21, \"pct_trips_competitive\": 1.0, \"bus_difference_spread\": 9.6, \"route_group\": \"medium\", \"max_trip_hrs\": 1.33, \"max_trip_route_group\": 1.5, \"name\": \"Lake Transit Authority\", \"caltrans_district\": \"01 - Eureka\", \"drmt_organization_name\": \"['reck7ddrpXSeA0mH0']\", \"cutoff2\": 22.5, \"cutoff\": 2}, {\"calitp_itp_id\": 159, \"trip_key\": 7036669099551354467, \"trip_id\": \"t_1438243_b_25985_tn_0\", \"shape_id\": \"p_4709\", \"route_id\": \"2017\", \"service_hours\": 1.33, \"trip_first_departure_ts\": 63000, \"trip_last_arrival_ts\": 67800, \"departure_hour\": 17, \"time_of_day\": \"PM Peak\", \"p25\": 1.27, \"p50\": 1.33, \"p75\": 1.33, \"p50_trip\": 1, \"fastest_trip\": 0, \"car_duration_hours\": 0.86, \"competitive_route\": 1, \"bus_multiplier\": 1.55, \"bus_difference\": 28.2, \"num_trips\": 21, \"num_competitive\": 21, \"pct_trips_competitive\": 1.0, \"bus_difference_spread\": 9.6, \"route_group\": \"medium\", \"max_trip_hrs\": 1.33, \"max_trip_route_group\": 1.5, \"name\": \"Lake Transit Authority\", \"caltrans_district\": \"01 - Eureka\", \"drmt_organization_name\": \"['reck7ddrpXSeA0mH0']\", \"cutoff2\": 22.5, \"cutoff\": 2}, {\"calitp_itp_id\": 159, \"trip_key\": 1931351836578071789, \"trip_id\": \"t_1547201_b_25985_tn_0\", \"shape_id\": \"p_4709\", \"route_id\": \"2017\", \"service_hours\": 1.33, \"trip_first_departure_ts\": 70200, \"trip_last_arrival_ts\": 75000, \"departure_hour\": 19, \"time_of_day\": \"PM Peak\", \"p25\": 1.27, \"p50\": 1.33, \"p75\": 1.33, \"p50_trip\": 1, \"fastest_trip\": 0, \"car_duration_hours\": 0.86, \"competitive_route\": 1, \"bus_multiplier\": 1.55, \"bus_difference\": 28.2, \"num_trips\": 21, \"num_competitive\": 21, \"pct_trips_competitive\": 1.0, \"bus_difference_spread\": 9.6, \"route_group\": \"medium\", \"max_trip_hrs\": 1.33, \"max_trip_route_group\": 1.5, \"name\": \"Lake Transit Authority\", \"caltrans_district\": \"01 - Eureka\", \"drmt_organization_name\": \"['reck7ddrpXSeA0mH0']\", \"cutoff2\": 22.5, \"cutoff\": 2}, {\"calitp_itp_id\": 159, \"trip_key\": -4122129822606538263, \"trip_id\": \"t_1057282_b_25985_tn_0\", \"shape_id\": \"p_4688\", \"route_id\": \"2018\", \"service_hours\": 0.63, \"trip_first_departure_ts\": 62700, \"trip_last_arrival_ts\": 64980, \"departure_hour\": 17, \"time_of_day\": \"PM Peak\", \"p25\": 0.855, \"p50\": 0.95, \"p75\": 0.97, \"p50_trip\": 0, \"fastest_trip\": 1, \"car_duration_hours\": 0.59, \"competitive_route\": 1, \"bus_multiplier\": 1.07, \"bus_difference\": 2.4, \"num_trips\": 6, \"num_competitive\": 6, \"pct_trips_competitive\": 1.0, \"bus_difference_spread\": 28.2, \"route_group\": \"medium\", \"max_trip_hrs\": 1.1, \"max_trip_route_group\": 1.5, \"name\": \"Lake Transit Authority\", \"caltrans_district\": \"01 - Eureka\", \"drmt_organization_name\": \"['reck7ddrpXSeA0mH0']\", \"cutoff2\": 22.5, \"cutoff\": 2}, {\"calitp_itp_id\": 159, \"trip_key\": -4469023793303323329, \"trip_id\": \"t_1057279_b_25985_tn_0\", \"shape_id\": \"p_4679\", \"route_id\": \"2018\", \"service_hours\": 0.83, \"trip_first_departure_ts\": 59580, \"trip_last_arrival_ts\": 62580, \"departure_hour\": 16, \"time_of_day\": \"Midday\", \"p25\": 0.855, \"p50\": 0.95, \"p75\": 0.97, \"p50_trip\": 0, \"fastest_trip\": 0, \"car_duration_hours\": 0.59, \"competitive_route\": 1, \"bus_multiplier\": 1.41, \"bus_difference\": 14.4, \"num_trips\": 6, \"num_competitive\": 6, \"pct_trips_competitive\": 1.0, \"bus_difference_spread\": 28.2, \"route_group\": \"medium\", \"max_trip_hrs\": 1.1, \"max_trip_route_group\": 1.5, \"name\": \"Lake Transit Authority\", \"caltrans_district\": \"01 - Eureka\", \"drmt_organization_name\": \"['reck7ddrpXSeA0mH0']\", \"cutoff2\": 22.5, \"cutoff\": 2}, {\"calitp_itp_id\": 159, \"trip_key\": -118056997240798635, \"trip_id\": \"t_1057258_b_25985_tn_0\", \"shape_id\": \"p_4680\", \"route_id\": \"2018\", \"service_hours\": 0.93, \"trip_first_departure_ts\": 33360, \"trip_last_arrival_ts\": 36720, \"departure_hour\": 9, \"time_of_day\": \"AM Peak\", \"p25\": 0.855, \"p50\": 0.95, \"p75\": 0.97, \"p50_trip\": 1, \"fastest_trip\": 0, \"car_duration_hours\": 0.59, \"competitive_route\": 1, \"bus_multiplier\": 1.58, \"bus_difference\": 20.4, \"num_trips\": 6, \"num_competitive\": 6, \"pct_trips_competitive\": 1.0, \"bus_difference_spread\": 28.2, \"route_group\": \"medium\", \"max_trip_hrs\": 1.1, \"max_trip_route_group\": 1.5, \"name\": \"Lake Transit Authority\", \"caltrans_district\": \"01 - Eureka\", \"drmt_organization_name\": \"['reck7ddrpXSeA0mH0']\", \"cutoff2\": 22.5, \"cutoff\": 2}, {\"calitp_itp_id\": 159, \"trip_key\": 8057216988449593398, \"trip_id\": \"t_1057283_b_25985_tn_0\", \"shape_id\": \"p_4689\", \"route_id\": \"2018\", \"service_hours\": 0.97, \"trip_first_departure_ts\": 36900, \"trip_last_arrival_ts\": 40380, \"departure_hour\": 10, \"time_of_day\": \"Midday\", \"p25\": 0.855, \"p50\": 0.95, \"p75\": 0.97, \"p50_trip\": 0, \"fastest_trip\": 0, \"car_duration_hours\": 0.59, \"competitive_route\": 1, \"bus_multiplier\": 1.64, \"bus_difference\": 22.8, \"num_trips\": 6, \"num_competitive\": 6, \"pct_trips_competitive\": 1.0, \"bus_difference_spread\": 28.2, \"route_group\": \"medium\", \"max_trip_hrs\": 1.1, \"max_trip_route_group\": 1.5, \"name\": \"Lake Transit Authority\", \"caltrans_district\": \"01 - Eureka\", \"drmt_organization_name\": \"['reck7ddrpXSeA0mH0']\", \"cutoff2\": 22.5, \"cutoff\": 2}, {\"calitp_itp_id\": 159, \"trip_key\": -3575917492895589770, \"trip_id\": \"t_1057280_b_25985_tn_0\", \"shape_id\": \"p_4690\", \"route_id\": \"2018\", \"service_hours\": 0.97, \"trip_first_departure_ts\": 48900, \"trip_last_arrival_ts\": 52380, \"departure_hour\": 13, \"time_of_day\": \"Midday\", \"p25\": 0.855, \"p50\": 0.95, \"p75\": 0.97, \"p50_trip\": 0, \"fastest_trip\": 0, \"car_duration_hours\": 0.59, \"competitive_route\": 1, \"bus_multiplier\": 1.64, \"bus_difference\": 22.8, \"num_trips\": 6, \"num_competitive\": 6, \"pct_trips_competitive\": 1.0, \"bus_difference_spread\": 28.2, \"route_group\": \"medium\", \"max_trip_hrs\": 1.1, \"max_trip_route_group\": 1.5, \"name\": \"Lake Transit Authority\", \"caltrans_district\": \"01 - Eureka\", \"drmt_organization_name\": \"['reck7ddrpXSeA0mH0']\", \"cutoff2\": 22.5, \"cutoff\": 2}, {\"calitp_itp_id\": 159, \"trip_key\": -3789144514727079393, \"trip_id\": \"t_1057278_b_25985_tn_0\", \"shape_id\": \"p_4681\", \"route_id\": \"2018\", \"service_hours\": 1.1, \"trip_first_departure_ts\": 40800, \"trip_last_arrival_ts\": 44760, \"departure_hour\": 11, \"time_of_day\": \"Midday\", \"p25\": 0.855, \"p50\": 0.95, \"p75\": 0.97, \"p50_trip\": 0, \"fastest_trip\": 0, \"car_duration_hours\": 0.59, \"competitive_route\": 1, \"bus_multiplier\": 1.86, \"bus_difference\": 30.6, \"num_trips\": 6, \"num_competitive\": 6, \"pct_trips_competitive\": 1.0, \"bus_difference_spread\": 28.2, \"route_group\": \"medium\", \"max_trip_hrs\": 1.1, \"max_trip_route_group\": 1.5, \"name\": \"Lake Transit Authority\", \"caltrans_district\": \"01 - Eureka\", \"drmt_organization_name\": \"['reck7ddrpXSeA0mH0']\", \"cutoff2\": 22.5, \"cutoff\": 2}, {\"calitp_itp_id\": 159, \"trip_key\": -7705498866186960614, \"trip_id\": \"t_1057305_b_25985_tn_0\", \"shape_id\": \"p_4683\", \"route_id\": \"2031\", \"service_hours\": 0.63, \"trip_first_departure_ts\": 30360, \"trip_last_arrival_ts\": 32640, \"departure_hour\": 8, \"time_of_day\": \"AM Peak\", \"p25\": 0.63, \"p50\": 0.63, \"p75\": 0.77, \"p50_trip\": 1, \"fastest_trip\": 0, \"car_duration_hours\": 0.51, \"competitive_route\": 1, \"bus_multiplier\": 1.24, \"bus_difference\": 7.2, \"num_trips\": 7, \"num_competitive\": 6, \"pct_trips_competitive\": 0.857, \"bus_difference_spread\": 48.0, \"route_group\": \"medium\", \"max_trip_hrs\": 1.43, \"max_trip_route_group\": 1.5, \"name\": \"Lake Transit Authority\", \"caltrans_district\": \"01 - Eureka\", \"drmt_organization_name\": \"['reck7ddrpXSeA0mH0']\", \"cutoff2\": 22.5, \"cutoff\": 2}, {\"calitp_itp_id\": 159, \"trip_key\": 6042927615687746930, \"trip_id\": \"t_1057259_b_25985_tn_0\", \"shape_id\": \"p_4683\", \"route_id\": \"2031\", \"service_hours\": 0.63, \"trip_first_departure_ts\": 56700, \"trip_last_arrival_ts\": 58980, \"departure_hour\": 15, \"time_of_day\": \"Midday\", \"p25\": 0.63, \"p50\": 0.63, \"p75\": 0.77, \"p50_trip\": 1, \"fastest_trip\": 1, \"car_duration_hours\": 0.51, \"competitive_route\": 1, \"bus_multiplier\": 1.24, \"bus_difference\": 7.2, \"num_trips\": 7, \"num_competitive\": 6, \"pct_trips_competitive\": 0.857, \"bus_difference_spread\": 48.0, \"route_group\": \"medium\", \"max_trip_hrs\": 1.43, \"max_trip_route_group\": 1.5, \"name\": \"Lake Transit Authority\", \"caltrans_district\": \"01 - Eureka\", \"drmt_organization_name\": \"['reck7ddrpXSeA0mH0']\", \"cutoff2\": 22.5, \"cutoff\": 2}, {\"calitp_itp_id\": 159, \"trip_key\": -3638809548219381255, \"trip_id\": \"t_1057306_b_25985_tn_0\", \"shape_id\": \"p_4683\", \"route_id\": \"2031\", \"service_hours\": 0.63, \"trip_first_departure_ts\": 38100, \"trip_last_arrival_ts\": 40380, \"departure_hour\": 10, \"time_of_day\": \"Midday\", \"p25\": 0.63, \"p50\": 0.63, \"p75\": 0.77, \"p50_trip\": 1, \"fastest_trip\": 0, \"car_duration_hours\": 0.51, \"competitive_route\": 1, \"bus_multiplier\": 1.24, \"bus_difference\": 7.2, \"num_trips\": 7, \"num_competitive\": 6, \"pct_trips_competitive\": 0.857, \"bus_difference_spread\": 48.0, \"route_group\": \"medium\", \"max_trip_hrs\": 1.43, \"max_trip_route_group\": 1.5, \"name\": \"Lake Transit Authority\", \"caltrans_district\": \"01 - Eureka\", \"drmt_organization_name\": \"['reck7ddrpXSeA0mH0']\", \"cutoff2\": 22.5, \"cutoff\": 2}, {\"calitp_itp_id\": 159, \"trip_key\": -4985928358984807020, \"trip_id\": \"t_1057266_b_25985_tn_0\", \"shape_id\": \"p_4683\", \"route_id\": \"2031\", \"service_hours\": 0.63, \"trip_first_departure_ts\": 23700, \"trip_last_arrival_ts\": 25980, \"departure_hour\": 6, \"time_of_day\": \"Owl Service\", \"p25\": 0.63, \"p50\": 0.63, \"p75\": 0.77, \"p50_trip\": 1, \"fastest_trip\": 0, \"car_duration_hours\": 0.51, \"competitive_route\": 1, \"bus_multiplier\": 1.24, \"bus_difference\": 7.2, \"num_trips\": 7, \"num_competitive\": 6, \"pct_trips_competitive\": 0.857, \"bus_difference_spread\": 48.0, \"route_group\": \"medium\", \"max_trip_hrs\": 1.43, \"max_trip_route_group\": 1.5, \"name\": \"Lake Transit Authority\", \"caltrans_district\": \"01 - Eureka\", \"drmt_organization_name\": \"['reck7ddrpXSeA0mH0']\", \"cutoff2\": 22.5, \"cutoff\": 2}, {\"calitp_itp_id\": 159, \"trip_key\": -4087692664662078886, \"trip_id\": \"t_1057319_b_25985_tn_0\", \"shape_id\": \"p_1275833\", \"route_id\": \"2031\", \"service_hours\": 0.77, \"trip_first_departure_ts\": 42000, \"trip_last_arrival_ts\": 44760, \"departure_hour\": 11, \"time_of_day\": \"Midday\", \"p25\": 0.63, \"p50\": 0.63, \"p75\": 0.77, \"p50_trip\": 0, \"fastest_trip\": 0, \"car_duration_hours\": 0.51, \"competitive_route\": 1, \"bus_multiplier\": 1.51, \"bus_difference\": 15.6, \"num_trips\": 7, \"num_competitive\": 6, \"pct_trips_competitive\": 0.857, \"bus_difference_spread\": 48.0, \"route_group\": \"medium\", \"max_trip_hrs\": 1.43, \"max_trip_route_group\": 1.5, \"name\": \"Lake Transit Authority\", \"caltrans_district\": \"01 - Eureka\", \"drmt_organization_name\": \"['reck7ddrpXSeA0mH0']\", \"cutoff2\": 22.5, \"cutoff\": 2}, {\"calitp_itp_id\": 159, \"trip_key\": -1622512023661102272, \"trip_id\": \"t_1057307_b_25985_tn_0\", \"shape_id\": \"p_1275833\", \"route_id\": \"2031\", \"service_hours\": 0.77, \"trip_first_departure_ts\": 53700, \"trip_last_arrival_ts\": 56460, \"departure_hour\": 14, \"time_of_day\": \"Midday\", \"p25\": 0.63, \"p50\": 0.63, \"p75\": 0.77, \"p50_trip\": 0, \"fastest_trip\": 0, \"car_duration_hours\": 0.51, \"competitive_route\": 1, \"bus_multiplier\": 1.51, \"bus_difference\": 15.6, \"num_trips\": 7, \"num_competitive\": 6, \"pct_trips_competitive\": 0.857, \"bus_difference_spread\": 48.0, \"route_group\": \"medium\", \"max_trip_hrs\": 1.43, \"max_trip_route_group\": 1.5, \"name\": \"Lake Transit Authority\", \"caltrans_district\": \"01 - Eureka\", \"drmt_organization_name\": \"['reck7ddrpXSeA0mH0']\", \"cutoff2\": 22.5, \"cutoff\": 2}, {\"calitp_itp_id\": 159, \"trip_key\": -1264368878434079061, \"trip_id\": \"t_1057264_b_25985_tn_0\", \"shape_id\": \"p_4682\", \"route_id\": \"2031\", \"service_hours\": 1.43, \"trip_first_departure_ts\": 25200, \"trip_last_arrival_ts\": 30360, \"departure_hour\": 7, \"time_of_day\": \"AM Peak\", \"p25\": 0.63, \"p50\": 0.63, \"p75\": 0.77, \"p50_trip\": 0, \"fastest_trip\": 0, \"car_duration_hours\": 0.51, \"competitive_route\": 1, \"bus_multiplier\": 2.8, \"bus_difference\": 55.2, \"num_trips\": 7, \"num_competitive\": 6, \"pct_trips_competitive\": 0.857, \"bus_difference_spread\": 48.0, \"route_group\": \"medium\", \"max_trip_hrs\": 1.43, \"max_trip_route_group\": 1.5, \"name\": \"Lake Transit Authority\", \"caltrans_district\": \"01 - Eureka\", \"drmt_organization_name\": \"['reck7ddrpXSeA0mH0']\", \"cutoff2\": 22.5, \"cutoff\": 2}, {\"calitp_itp_id\": 159, \"trip_key\": 6931767261855409294, \"trip_id\": \"t_1547203_b_25985_tn_0\", \"shape_id\": \"p_4676\", \"route_id\": \"2033\", \"service_hours\": 1.07, \"trip_first_departure_ts\": 64500, \"trip_last_arrival_ts\": 68340, \"departure_hour\": 17, \"time_of_day\": \"PM Peak\", \"p25\": 1.1475, \"p50\": 1.295, \"p75\": 1.44, \"p50_trip\": 0, \"fastest_trip\": 1, \"car_duration_hours\": 0.82, \"competitive_route\": 1, \"bus_multiplier\": 1.3, \"bus_difference\": 15.0, \"num_trips\": 8, \"num_competitive\": 8, \"pct_trips_competitive\": 1.0, \"bus_difference_spread\": 25.8, \"route_group\": \"medium\", \"max_trip_hrs\": 1.5, \"max_trip_route_group\": 1.5, \"name\": \"Lake Transit Authority\", \"caltrans_district\": \"01 - Eureka\", \"drmt_organization_name\": \"['reck7ddrpXSeA0mH0']\", \"cutoff2\": 22.5, \"cutoff\": 2}, {\"calitp_itp_id\": 159, \"trip_key\": 3508423774333324939, \"trip_id\": \"t_1547206_b_25985_tn_0\", \"shape_id\": \"p_4693\", \"route_id\": \"2033\", \"service_hours\": 1.08, \"trip_first_departure_ts\": 60600, \"trip_last_arrival_ts\": 64500, \"departure_hour\": 16, \"time_of_day\": \"Midday\", \"p25\": 1.1475, \"p50\": 1.295, \"p75\": 1.44, \"p50_trip\": 0, \"fastest_trip\": 0, \"car_duration_hours\": 0.82, \"competitive_route\": 1, \"bus_multiplier\": 1.32, \"bus_difference\": 15.6, \"num_trips\": 8, \"num_competitive\": 8, \"pct_trips_competitive\": 1.0, \"bus_difference_spread\": 25.8, \"route_group\": \"medium\", \"max_trip_hrs\": 1.5, \"max_trip_route_group\": 1.5, \"name\": \"Lake Transit Authority\", \"caltrans_district\": \"01 - Eureka\", \"drmt_organization_name\": \"['reck7ddrpXSeA0mH0']\", \"cutoff2\": 22.5, \"cutoff\": 2}, {\"calitp_itp_id\": 159, \"trip_key\": -8647078714059380397, \"trip_id\": \"t_1547205_b_25985_tn_0\", \"shape_id\": \"p_4693\", \"route_id\": \"2033\", \"service_hours\": 1.17, \"trip_first_departure_ts\": 22200, \"trip_last_arrival_ts\": 26400, \"departure_hour\": 6, \"time_of_day\": \"Owl Service\", \"p25\": 1.1475, \"p50\": 1.295, \"p75\": 1.44, \"p50_trip\": 1, \"fastest_trip\": 0, \"car_duration_hours\": 0.82, \"competitive_route\": 1, \"bus_multiplier\": 1.43, \"bus_difference\": 21.0, \"num_trips\": 8, \"num_competitive\": 8, \"pct_trips_competitive\": 1.0, \"bus_difference_spread\": 25.8, \"route_group\": \"medium\", \"max_trip_hrs\": 1.5, \"max_trip_route_group\": 1.5, \"name\": \"Lake Transit Authority\", \"caltrans_district\": \"01 - Eureka\", \"drmt_organization_name\": \"['reck7ddrpXSeA0mH0']\", \"cutoff2\": 22.5, \"cutoff\": 2}, {\"calitp_itp_id\": 159, \"trip_key\": -884952157407834000, \"trip_id\": \"t_1547204_b_25985_tn_0\", \"shape_id\": \"p_4676\", \"route_id\": \"2033\", \"service_hours\": 1.17, \"trip_first_departure_ts\": 27120, \"trip_last_arrival_ts\": 31320, \"departure_hour\": 7, \"time_of_day\": \"AM Peak\", \"p25\": 1.1475, \"p50\": 1.295, \"p75\": 1.44, \"p50_trip\": 1, \"fastest_trip\": 0, \"car_duration_hours\": 0.82, \"competitive_route\": 1, \"bus_multiplier\": 1.43, \"bus_difference\": 21.0, \"num_trips\": 8, \"num_competitive\": 8, \"pct_trips_competitive\": 1.0, \"bus_difference_spread\": 25.8, \"route_group\": \"medium\", \"max_trip_hrs\": 1.5, \"max_trip_route_group\": 1.5, \"name\": \"Lake Transit Authority\", \"caltrans_district\": \"01 - Eureka\", \"drmt_organization_name\": \"['reck7ddrpXSeA0mH0']\", \"cutoff2\": 22.5, \"cutoff\": 2}, {\"calitp_itp_id\": 159, \"trip_key\": 3167018145551398628, \"trip_id\": \"t_1057289_b_25985_tn_0\", \"shape_id\": \"p_4694\", \"route_id\": \"2033\", \"service_hours\": 1.42, \"trip_first_departure_ts\": 45900, \"trip_last_arrival_ts\": 51000, \"departure_hour\": 12, \"time_of_day\": \"Midday\", \"p25\": 1.1475, \"p50\": 1.295, \"p75\": 1.44, \"p50_trip\": 1, \"fastest_trip\": 0, \"car_duration_hours\": 0.82, \"competitive_route\": 1, \"bus_multiplier\": 1.73, \"bus_difference\": 36.0, \"num_trips\": 8, \"num_competitive\": 8, \"pct_trips_competitive\": 1.0, \"bus_difference_spread\": 25.8, \"route_group\": \"medium\", \"max_trip_hrs\": 1.5, \"max_trip_route_group\": 1.5, \"name\": \"Lake Transit Authority\", \"caltrans_district\": \"01 - Eureka\", \"drmt_organization_name\": \"['reck7ddrpXSeA0mH0']\", \"cutoff2\": 22.5, \"cutoff\": 2}, {\"calitp_itp_id\": 159, \"trip_key\": -3413408852418918973, \"trip_id\": \"t_1057260_b_25985_tn_0\", \"shape_id\": \"p_4694\", \"route_id\": \"2033\", \"service_hours\": 1.42, \"trip_first_departure_ts\": 28500, \"trip_last_arrival_ts\": 33600, \"departure_hour\": 7, \"time_of_day\": \"AM Peak\", \"p25\": 1.1475, \"p50\": 1.295, \"p75\": 1.44, \"p50_trip\": 1, \"fastest_trip\": 0, \"car_duration_hours\": 0.82, \"competitive_route\": 1, \"bus_multiplier\": 1.73, \"bus_difference\": 36.0, \"num_trips\": 8, \"num_competitive\": 8, \"pct_trips_competitive\": 1.0, \"bus_difference_spread\": 25.8, \"route_group\": \"medium\", \"max_trip_hrs\": 1.5, \"max_trip_route_group\": 1.5, \"name\": \"Lake Transit Authority\", \"caltrans_district\": \"01 - Eureka\", \"drmt_organization_name\": \"['reck7ddrpXSeA0mH0']\", \"cutoff2\": 22.5, \"cutoff\": 2}, {\"calitp_itp_id\": 159, \"trip_key\": -6376664031830301764, \"trip_id\": \"t_1057272_b_25985_tn_0\", \"shape_id\": \"p_4677\", \"route_id\": \"2033\", \"service_hours\": 1.5, \"trip_first_departure_ts\": 51600, \"trip_last_arrival_ts\": 57000, \"departure_hour\": 14, \"time_of_day\": \"Midday\", \"p25\": 1.1475, \"p50\": 1.295, \"p75\": 1.44, \"p50_trip\": 0, \"fastest_trip\": 0, \"car_duration_hours\": 0.82, \"competitive_route\": 1, \"bus_multiplier\": 1.83, \"bus_difference\": 40.8, \"num_trips\": 8, \"num_competitive\": 8, \"pct_trips_competitive\": 1.0, \"bus_difference_spread\": 25.8, \"route_group\": \"medium\", \"max_trip_hrs\": 1.5, \"max_trip_route_group\": 1.5, \"name\": \"Lake Transit Authority\", \"caltrans_district\": \"01 - Eureka\", \"drmt_organization_name\": \"['reck7ddrpXSeA0mH0']\", \"cutoff2\": 22.5, \"cutoff\": 2}, {\"calitp_itp_id\": 159, \"trip_key\": -8648135841710984758, \"trip_id\": \"t_1057273_b_25985_tn_0\", \"shape_id\": \"p_4677\", \"route_id\": \"2033\", \"service_hours\": 1.5, \"trip_first_departure_ts\": 34200, \"trip_last_arrival_ts\": 39600, \"departure_hour\": 9, \"time_of_day\": \"AM Peak\", \"p25\": 1.1475, \"p50\": 1.295, \"p75\": 1.44, \"p50_trip\": 0, \"fastest_trip\": 0, \"car_duration_hours\": 0.82, \"competitive_route\": 1, \"bus_multiplier\": 1.83, \"bus_difference\": 40.8, \"num_trips\": 8, \"num_competitive\": 8, \"pct_trips_competitive\": 1.0, \"bus_difference_spread\": 25.8, \"route_group\": \"medium\", \"max_trip_hrs\": 1.5, \"max_trip_route_group\": 1.5, \"name\": \"Lake Transit Authority\", \"caltrans_district\": \"01 - Eureka\", \"drmt_organization_name\": \"['reck7ddrpXSeA0mH0']\", \"cutoff2\": 22.5, \"cutoff\": 2}, {\"calitp_itp_id\": 159, \"trip_key\": 5217919566269119412, \"trip_id\": \"t_1057269_b_25985_tn_0\", \"shape_id\": \"p_4686\", \"route_id\": \"2041\", \"service_hours\": 1.43, \"trip_first_departure_ts\": 28800, \"trip_last_arrival_ts\": 33960, \"departure_hour\": 8, \"time_of_day\": \"AM Peak\", \"p25\": 1.43, \"p50\": 1.43, \"p75\": 1.43, \"p50_trip\": 1, \"fastest_trip\": 0, \"car_duration_hours\": 1.03, \"competitive_route\": 1, \"bus_multiplier\": 1.39, \"bus_difference\": 24.0, \"num_trips\": 6, \"num_competitive\": 6, \"pct_trips_competitive\": 1.0, \"bus_difference_spread\": 0.0, \"route_group\": \"medium\", \"max_trip_hrs\": 1.43, \"max_trip_route_group\": 1.5, \"name\": \"Lake Transit Authority\", \"caltrans_district\": \"01 - Eureka\", \"drmt_organization_name\": \"['reck7ddrpXSeA0mH0']\", \"cutoff2\": 22.5, \"cutoff\": 2}, {\"calitp_itp_id\": 159, \"trip_key\": 4923145984037513042, \"trip_id\": \"t_1057325_b_25985_tn_0\", \"shape_id\": \"p_4706\", \"route_id\": \"2041\", \"service_hours\": 1.43, \"trip_first_departure_ts\": 50400, \"trip_last_arrival_ts\": 55560, \"departure_hour\": 14, \"time_of_day\": \"Midday\", \"p25\": 1.43, \"p50\": 1.43, \"p75\": 1.43, \"p50_trip\": 1, \"fastest_trip\": 0, \"car_duration_hours\": 1.03, \"competitive_route\": 1, \"bus_multiplier\": 1.39, \"bus_difference\": 24.0, \"num_trips\": 6, \"num_competitive\": 6, \"pct_trips_competitive\": 1.0, \"bus_difference_spread\": 0.0, \"route_group\": \"medium\", \"max_trip_hrs\": 1.43, \"max_trip_route_group\": 1.5, \"name\": \"Lake Transit Authority\", \"caltrans_district\": \"01 - Eureka\", \"drmt_organization_name\": \"['reck7ddrpXSeA0mH0']\", \"cutoff2\": 22.5, \"cutoff\": 2}, {\"calitp_itp_id\": 159, \"trip_key\": -6127041166121062216, \"trip_id\": \"t_1547365_b_25985_tn_0\", \"shape_id\": \"p_4686\", \"route_id\": \"2041\", \"service_hours\": 1.43, \"trip_first_departure_ts\": 54000, \"trip_last_arrival_ts\": 59160, \"departure_hour\": 15, \"time_of_day\": \"Midday\", \"p25\": 1.43, \"p50\": 1.43, \"p75\": 1.43, \"p50_trip\": 1, \"fastest_trip\": 0, \"car_duration_hours\": 1.03, \"competitive_route\": 1, \"bus_multiplier\": 1.39, \"bus_difference\": 24.0, \"num_trips\": 6, \"num_competitive\": 6, \"pct_trips_competitive\": 1.0, \"bus_difference_spread\": 0.0, \"route_group\": \"medium\", \"max_trip_hrs\": 1.43, \"max_trip_route_group\": 1.5, \"name\": \"Lake Transit Authority\", \"caltrans_district\": \"01 - Eureka\", \"drmt_organization_name\": \"['reck7ddrpXSeA0mH0']\", \"cutoff2\": 22.5, \"cutoff\": 2}, {\"calitp_itp_id\": 159, \"trip_key\": 7619307755642423541, \"trip_id\": \"t_1057296_b_25985_tn_0\", \"shape_id\": \"p_4706\", \"route_id\": \"2041\", \"service_hours\": 1.43, \"trip_first_departure_ts\": 34440, \"trip_last_arrival_ts\": 39600, \"departure_hour\": 9, \"time_of_day\": \"AM Peak\", \"p25\": 1.43, \"p50\": 1.43, \"p75\": 1.43, \"p50_trip\": 1, \"fastest_trip\": 0, \"car_duration_hours\": 1.03, \"competitive_route\": 1, \"bus_multiplier\": 1.39, \"bus_difference\": 24.0, \"num_trips\": 6, \"num_competitive\": 6, \"pct_trips_competitive\": 1.0, \"bus_difference_spread\": 0.0, \"route_group\": \"medium\", \"max_trip_hrs\": 1.43, \"max_trip_route_group\": 1.5, \"name\": \"Lake Transit Authority\", \"caltrans_district\": \"01 - Eureka\", \"drmt_organization_name\": \"['reck7ddrpXSeA0mH0']\", \"cutoff2\": 22.5, \"cutoff\": 2}, {\"calitp_itp_id\": 159, \"trip_key\": -3157651568664789131, \"trip_id\": \"t_1547367_b_25985_tn_0\", \"shape_id\": \"p_4706\", \"route_id\": \"2041\", \"service_hours\": 1.43, \"trip_first_departure_ts\": 61200, \"trip_last_arrival_ts\": 66360, \"departure_hour\": 17, \"time_of_day\": \"PM Peak\", \"p25\": 1.43, \"p50\": 1.43, \"p75\": 1.43, \"p50_trip\": 1, \"fastest_trip\": 1, \"car_duration_hours\": 1.03, \"competitive_route\": 1, \"bus_multiplier\": 1.39, \"bus_difference\": 24.0, \"num_trips\": 6, \"num_competitive\": 6, \"pct_trips_competitive\": 1.0, \"bus_difference_spread\": 0.0, \"route_group\": \"medium\", \"max_trip_hrs\": 1.43, \"max_trip_route_group\": 1.5, \"name\": \"Lake Transit Authority\", \"caltrans_district\": \"01 - Eureka\", \"drmt_organization_name\": \"['reck7ddrpXSeA0mH0']\", \"cutoff2\": 22.5, \"cutoff\": 2}, {\"calitp_itp_id\": 159, \"trip_key\": 5931873114293047792, \"trip_id\": \"t_1057288_b_25985_tn_0\", \"shape_id\": \"p_4686\", \"route_id\": \"2041\", \"service_hours\": 1.43, \"trip_first_departure_ts\": 43200, \"trip_last_arrival_ts\": 48360, \"departure_hour\": 12, \"time_of_day\": \"Midday\", \"p25\": 1.43, \"p50\": 1.43, \"p75\": 1.43, \"p50_trip\": 1, \"fastest_trip\": 0, \"car_duration_hours\": 1.03, \"competitive_route\": 1, \"bus_multiplier\": 1.39, \"bus_difference\": 24.0, \"num_trips\": 6, \"num_competitive\": 6, \"pct_trips_competitive\": 1.0, \"bus_difference_spread\": 0.0, \"route_group\": \"medium\", \"max_trip_hrs\": 1.43, \"max_trip_route_group\": 1.5, \"name\": \"Lake Transit Authority\", \"caltrans_district\": \"01 - Eureka\", \"drmt_organization_name\": \"['reck7ddrpXSeA0mH0']\", \"cutoff2\": 22.5, \"cutoff\": 2}]}}, {\"mode\": \"vega-lite\"});\n",
       "</script>"
      ],
      "text/plain": [
       "alt.FacetChart(...)"
      ]
     },
     "metadata": {},
     "output_type": "display_data"
    },
    {
     "data": {
      "text/html": [
       "\n",
       "<div id=\"altair-viz-f2aa076a337a4452952a0328da59d918\"></div>\n",
       "<script type=\"text/javascript\">\n",
       "  var VEGA_DEBUG = (typeof VEGA_DEBUG == \"undefined\") ? {} : VEGA_DEBUG;\n",
       "  (function(spec, embedOpt){\n",
       "    let outputDiv = document.currentScript.previousElementSibling;\n",
       "    if (outputDiv.id !== \"altair-viz-f2aa076a337a4452952a0328da59d918\") {\n",
       "      outputDiv = document.getElementById(\"altair-viz-f2aa076a337a4452952a0328da59d918\");\n",
       "    }\n",
       "    const paths = {\n",
       "      \"vega\": \"https://cdn.jsdelivr.net/npm//vega@5?noext\",\n",
       "      \"vega-lib\": \"https://cdn.jsdelivr.net/npm//vega-lib?noext\",\n",
       "      \"vega-lite\": \"https://cdn.jsdelivr.net/npm//vega-lite@4.17.0?noext\",\n",
       "      \"vega-embed\": \"https://cdn.jsdelivr.net/npm//vega-embed@6?noext\",\n",
       "    };\n",
       "\n",
       "    function maybeLoadScript(lib, version) {\n",
       "      var key = `${lib.replace(\"-\", \"\")}_version`;\n",
       "      return (VEGA_DEBUG[key] == version) ?\n",
       "        Promise.resolve(paths[lib]) :\n",
       "        new Promise(function(resolve, reject) {\n",
       "          var s = document.createElement('script');\n",
       "          document.getElementsByTagName(\"head\")[0].appendChild(s);\n",
       "          s.async = true;\n",
       "          s.onload = () => {\n",
       "            VEGA_DEBUG[key] = version;\n",
       "            return resolve(paths[lib]);\n",
       "          };\n",
       "          s.onerror = () => reject(`Error loading script: ${paths[lib]}`);\n",
       "          s.src = paths[lib];\n",
       "        });\n",
       "    }\n",
       "\n",
       "    function showError(err) {\n",
       "      outputDiv.innerHTML = `<div class=\"error\" style=\"color:red;\">${err}</div>`;\n",
       "      throw err;\n",
       "    }\n",
       "\n",
       "    function displayChart(vegaEmbed) {\n",
       "      vegaEmbed(outputDiv, spec, embedOpt)\n",
       "        .catch(err => showError(`Javascript Error: ${err.message}<br>This usually means there's a typo in your chart specification. See the javascript console for the full traceback.`));\n",
       "    }\n",
       "\n",
       "    if(typeof define === \"function\" && define.amd) {\n",
       "      requirejs.config({paths});\n",
       "      require([\"vega-embed\"], displayChart, err => showError(`Error loading script: ${err.message}`));\n",
       "    } else {\n",
       "      maybeLoadScript(\"vega\", \"5\")\n",
       "        .then(() => maybeLoadScript(\"vega-lite\", \"4.17.0\"))\n",
       "        .then(() => maybeLoadScript(\"vega-embed\", \"6\"))\n",
       "        .catch(showError)\n",
       "        .then(() => displayChart(vegaEmbed));\n",
       "    }\n",
       "  })({\"config\": {\"view\": {\"continuousWidth\": 400, \"continuousHeight\": 300, \"stroke\": null}, \"facet\": {\"spacing\": 0}}, \"data\": {\"name\": \"data-ec84b619054b9eb587561dbac45ade31\"}, \"facet\": {\"column\": {\"field\": \"route_id\", \"sort\": [\"2017\", \"2033\", \"2018\", \"2041\", \"2031\"], \"title\": \"Route ID\", \"type\": \"nominal\"}}, \"spec\": {\"layer\": [{\"mark\": {\"type\": \"point\", \"opacity\": 0.65, \"size\": 12, \"strokeWidth\": 1.1}, \"encoding\": {\"color\": {\"field\": \"time_of_day\", \"scale\": {\"range\": [\"#136C97\", \"#E16B26\", \"#F6BF16\", \"#00896B\", \"#7790A3\", \"#5B559C\"]}, \"sort\": [\"AM Peak\", \"Midday\", \"PM Peak\", \"Owl Service\"], \"title\": \"Time of Day\", \"type\": \"nominal\"}, \"tooltip\": [{\"field\": \"route_id\", \"type\": \"nominal\"}, {\"field\": \"trip_id\", \"type\": \"nominal\"}, {\"field\": \"service_hours\", \"type\": \"quantitative\"}, {\"field\": \"car_duration_hours\", \"type\": \"quantitative\"}, {\"field\": \"bus_multiplier\", \"type\": \"quantitative\"}, {\"field\": \"bus_difference\", \"type\": \"quantitative\"}, {\"field\": \"num_trips\", \"type\": \"quantitative\"}, {\"field\": \"num_competitive\", \"type\": \"quantitative\"}, {\"field\": \"pct_trips_competitive\", \"type\": \"quantitative\"}, {\"field\": \"p25\", \"type\": \"quantitative\"}, {\"field\": \"p50\", \"type\": \"quantitative\"}, {\"field\": \"p75\", \"type\": \"quantitative\"}], \"x\": {\"axis\": {\"grid\": false, \"labels\": false, \"ticks\": true, \"values\": [0]}, \"field\": \"jitter\", \"scale\": {}, \"title\": null, \"type\": \"quantitative\"}, \"y\": {\"field\": \"bus_difference\", \"scale\": {\"domain\": [-5, 55.2]}, \"title\": \"Difference in Bus to Car Travel Time (min)\", \"type\": \"quantitative\"}}, \"selection\": {\"selector004\": {\"type\": \"interval\", \"bind\": \"scales\", \"encodings\": [\"x\", \"y\"]}}, \"transform\": [{\"calculate\": \"sqrt(-2*log(random()))*cos(2*PI*random())\", \"as\": \"jitter\"}], \"width\": 60}, {\"layer\": [{\"mark\": {\"type\": \"point\", \"opacity\": 0.6, \"size\": 20, \"strokeWidth\": 1.3}, \"encoding\": {\"color\": {\"value\": \"#323434\"}, \"y\": {\"field\": \"bus_difference\", \"type\": \"quantitative\"}}, \"transform\": [{\"filter\": \"(datum.p50_trip === 1)\"}]}, {\"mark\": {\"type\": \"rule\", \"strokeDash\": [2, 3]}, \"encoding\": {\"color\": {\"value\": \"#323434\"}, \"y\": {\"field\": \"cutoff\", \"type\": \"quantitative\"}}}, {\"mark\": {\"type\": \"rule\", \"strokeDash\": [2, 3]}, \"encoding\": {\"color\": {\"value\": \"#136C97\"}, \"y\": {\"field\": \"cutoff2\", \"type\": \"quantitative\"}}}, {\"mark\": {\"type\": \"text\", \"align\": \"center\", \"baseline\": \"middle\"}, \"encoding\": {\"color\": {\"value\": \"black\"}, \"text\": {\"field\": \"pct_trips_competitive\", \"format\": \".0%\", \"type\": \"quantitative\"}, \"tooltip\": [{\"field\": \"route_id\", \"type\": \"nominal\"}, {\"field\": \"trip_id\", \"type\": \"nominal\"}, {\"field\": \"service_hours\", \"type\": \"quantitative\"}, {\"field\": \"car_duration_hours\", \"type\": \"quantitative\"}, {\"field\": \"bus_multiplier\", \"type\": \"quantitative\"}, {\"field\": \"bus_difference\", \"type\": \"quantitative\"}, {\"field\": \"num_trips\", \"type\": \"quantitative\"}, {\"field\": \"num_competitive\", \"type\": \"quantitative\"}, {\"field\": \"pct_trips_competitive\", \"type\": \"quantitative\"}, {\"field\": \"p25\", \"type\": \"quantitative\"}, {\"field\": \"p50\", \"type\": \"quantitative\"}, {\"field\": \"p75\", \"type\": \"quantitative\"}], \"x\": {\"value\": 30}, \"y\": {\"value\": 15}}, \"transform\": [{\"calculate\": \"sqrt(-2*log(random()))*cos(2*PI*random())\", \"as\": \"jitter\"}, {\"filter\": \"(datum.fastest_trip === 1)\"}]}]}]}, \"resolve\": {\"scale\": {\"y\": \"shared\"}}, \"title\": \"Difference in Bus to Car Travel Time (min)\", \"$schema\": \"https://vega.github.io/schema/vega-lite/v4.17.0.json\", \"datasets\": {\"data-ec84b619054b9eb587561dbac45ade31\": [{\"calitp_itp_id\": 159, \"trip_key\": -3944783745354818306, \"trip_id\": \"t_1547202_b_25985_tn_0\", \"shape_id\": \"p_4701\", \"route_id\": \"2017\", \"service_hours\": 1.17, \"trip_first_departure_ts\": 64800, \"trip_last_arrival_ts\": 69000, \"departure_hour\": 18, \"time_of_day\": \"PM Peak\", \"p25\": 1.27, \"p50\": 1.33, \"p75\": 1.33, \"p50_trip\": 0, \"fastest_trip\": 1, \"car_duration_hours\": 0.86, \"competitive_route\": 1, \"bus_multiplier\": 1.36, \"bus_difference\": 18.6, \"num_trips\": 21, \"num_competitive\": 21, \"pct_trips_competitive\": 1.0, \"bus_difference_spread\": 9.6, \"route_group\": \"medium\", \"max_trip_hrs\": 1.33, \"max_trip_route_group\": 1.5, \"name\": \"Lake Transit Authority\", \"caltrans_district\": \"01 - Eureka\", \"drmt_organization_name\": \"['reck7ddrpXSeA0mH0']\", \"cutoff2\": 22.5, \"cutoff\": 0}, {\"calitp_itp_id\": 159, \"trip_key\": 7975854537962945896, \"trip_id\": \"t_1057318_b_25985_tn_0\", \"shape_id\": \"p_4704\", \"route_id\": \"2017\", \"service_hours\": 1.27, \"trip_first_departure_ts\": 25200, \"trip_last_arrival_ts\": 29760, \"departure_hour\": 7, \"time_of_day\": \"AM Peak\", \"p25\": 1.27, \"p50\": 1.33, \"p75\": 1.33, \"p50_trip\": 0, \"fastest_trip\": 0, \"car_duration_hours\": 0.86, \"competitive_route\": 1, \"bus_multiplier\": 1.48, \"bus_difference\": 24.6, \"num_trips\": 21, \"num_competitive\": 21, \"pct_trips_competitive\": 1.0, \"bus_difference_spread\": 9.6, \"route_group\": \"medium\", \"max_trip_hrs\": 1.33, \"max_trip_route_group\": 1.5, \"name\": \"Lake Transit Authority\", \"caltrans_district\": \"01 - Eureka\", \"drmt_organization_name\": \"['reck7ddrpXSeA0mH0']\", \"cutoff2\": 22.5, \"cutoff\": 0}, {\"calitp_itp_id\": 159, \"trip_key\": -5739668381372938217, \"trip_id\": \"t_1438245_b_25985_tn_0\", \"shape_id\": \"p_4704\", \"route_id\": \"2017\", \"service_hours\": 1.27, \"trip_first_departure_ts\": 43200, \"trip_last_arrival_ts\": 47760, \"departure_hour\": 12, \"time_of_day\": \"Midday\", \"p25\": 1.27, \"p50\": 1.33, \"p75\": 1.33, \"p50_trip\": 0, \"fastest_trip\": 0, \"car_duration_hours\": 0.86, \"competitive_route\": 1, \"bus_multiplier\": 1.48, \"bus_difference\": 24.6, \"num_trips\": 21, \"num_competitive\": 21, \"pct_trips_competitive\": 1.0, \"bus_difference_spread\": 9.6, \"route_group\": \"medium\", \"max_trip_hrs\": 1.33, \"max_trip_route_group\": 1.5, \"name\": \"Lake Transit Authority\", \"caltrans_district\": \"01 - Eureka\", \"drmt_organization_name\": \"['reck7ddrpXSeA0mH0']\", \"cutoff2\": 22.5, \"cutoff\": 0}, {\"calitp_itp_id\": 159, \"trip_key\": -7086591399088011798, \"trip_id\": \"t_1057371_b_25985_tn_0\", \"shape_id\": \"p_4704\", \"route_id\": \"2017\", \"service_hours\": 1.27, \"trip_first_departure_ts\": 57600, \"trip_last_arrival_ts\": 62160, \"departure_hour\": 16, \"time_of_day\": \"Midday\", \"p25\": 1.27, \"p50\": 1.33, \"p75\": 1.33, \"p50_trip\": 0, \"fastest_trip\": 0, \"car_duration_hours\": 0.86, \"competitive_route\": 1, \"bus_multiplier\": 1.48, \"bus_difference\": 24.6, \"num_trips\": 21, \"num_competitive\": 21, \"pct_trips_competitive\": 1.0, \"bus_difference_spread\": 9.6, \"route_group\": \"medium\", \"max_trip_hrs\": 1.33, \"max_trip_route_group\": 1.5, \"name\": \"Lake Transit Authority\", \"caltrans_district\": \"01 - Eureka\", \"drmt_organization_name\": \"['reck7ddrpXSeA0mH0']\", \"cutoff2\": 22.5, \"cutoff\": 0}, {\"calitp_itp_id\": 159, \"trip_key\": 3189134138711352599, \"trip_id\": \"t_1057313_b_25985_tn_0\", \"shape_id\": \"p_4704\", \"route_id\": \"2017\", \"service_hours\": 1.27, \"trip_first_departure_ts\": 54000, \"trip_last_arrival_ts\": 58560, \"departure_hour\": 15, \"time_of_day\": \"Midday\", \"p25\": 1.27, \"p50\": 1.33, \"p75\": 1.33, \"p50_trip\": 0, \"fastest_trip\": 0, \"car_duration_hours\": 0.86, \"competitive_route\": 1, \"bus_multiplier\": 1.48, \"bus_difference\": 24.6, \"num_trips\": 21, \"num_competitive\": 21, \"pct_trips_competitive\": 1.0, \"bus_difference_spread\": 9.6, \"route_group\": \"medium\", \"max_trip_hrs\": 1.33, \"max_trip_route_group\": 1.5, \"name\": \"Lake Transit Authority\", \"caltrans_district\": \"01 - Eureka\", \"drmt_organization_name\": \"['reck7ddrpXSeA0mH0']\", \"cutoff2\": 22.5, \"cutoff\": 0}, {\"calitp_itp_id\": 159, \"trip_key\": -882607312092292271, \"trip_id\": \"t_1437746_b_25985_tn_0\", \"shape_id\": \"p_4704\", \"route_id\": \"2017\", \"service_hours\": 1.27, \"trip_first_departure_ts\": 32400, \"trip_last_arrival_ts\": 36960, \"departure_hour\": 9, \"time_of_day\": \"AM Peak\", \"p25\": 1.27, \"p50\": 1.33, \"p75\": 1.33, \"p50_trip\": 0, \"fastest_trip\": 0, \"car_duration_hours\": 0.86, \"competitive_route\": 1, \"bus_multiplier\": 1.48, \"bus_difference\": 24.6, \"num_trips\": 21, \"num_competitive\": 21, \"pct_trips_competitive\": 1.0, \"bus_difference_spread\": 9.6, \"route_group\": \"medium\", \"max_trip_hrs\": 1.33, \"max_trip_route_group\": 1.5, \"name\": \"Lake Transit Authority\", \"caltrans_district\": \"01 - Eureka\", \"drmt_organization_name\": \"['reck7ddrpXSeA0mH0']\", \"cutoff2\": 22.5, \"cutoff\": 0}, {\"calitp_itp_id\": 159, \"trip_key\": 883262375499103108, \"trip_id\": \"t_1057337_b_25985_tn_0\", \"shape_id\": \"p_4704\", \"route_id\": \"2017\", \"service_hours\": 1.27, \"trip_first_departure_ts\": 28800, \"trip_last_arrival_ts\": 33360, \"departure_hour\": 8, \"time_of_day\": \"AM Peak\", \"p25\": 1.27, \"p50\": 1.33, \"p75\": 1.33, \"p50_trip\": 0, \"fastest_trip\": 0, \"car_duration_hours\": 0.86, \"competitive_route\": 1, \"bus_multiplier\": 1.48, \"bus_difference\": 24.6, \"num_trips\": 21, \"num_competitive\": 21, \"pct_trips_competitive\": 1.0, \"bus_difference_spread\": 9.6, \"route_group\": \"medium\", \"max_trip_hrs\": 1.33, \"max_trip_route_group\": 1.5, \"name\": \"Lake Transit Authority\", \"caltrans_district\": \"01 - Eureka\", \"drmt_organization_name\": \"['reck7ddrpXSeA0mH0']\", \"cutoff2\": 22.5, \"cutoff\": 0}, {\"calitp_itp_id\": 159, \"trip_key\": -7060615908356080224, \"trip_id\": \"t_1437743_b_25985_tn_0\", \"shape_id\": \"p_4704\", \"route_id\": \"2017\", \"service_hours\": 1.27, \"trip_first_departure_ts\": 36000, \"trip_last_arrival_ts\": 40560, \"departure_hour\": 10, \"time_of_day\": \"Midday\", \"p25\": 1.27, \"p50\": 1.33, \"p75\": 1.33, \"p50_trip\": 0, \"fastest_trip\": 0, \"car_duration_hours\": 0.86, \"competitive_route\": 1, \"bus_multiplier\": 1.48, \"bus_difference\": 24.6, \"num_trips\": 21, \"num_competitive\": 21, \"pct_trips_competitive\": 1.0, \"bus_difference_spread\": 9.6, \"route_group\": \"medium\", \"max_trip_hrs\": 1.33, \"max_trip_route_group\": 1.5, \"name\": \"Lake Transit Authority\", \"caltrans_district\": \"01 - Eureka\", \"drmt_organization_name\": \"['reck7ddrpXSeA0mH0']\", \"cutoff2\": 22.5, \"cutoff\": 0}, {\"calitp_itp_id\": 159, \"trip_key\": -6022555100018684516, \"trip_id\": \"t_1057370_b_25985_tn_0\", \"shape_id\": \"p_4704\", \"route_id\": \"2017\", \"service_hours\": 1.27, \"trip_first_departure_ts\": 50400, \"trip_last_arrival_ts\": 54960, \"departure_hour\": 14, \"time_of_day\": \"Midday\", \"p25\": 1.27, \"p50\": 1.33, \"p75\": 1.33, \"p50_trip\": 0, \"fastest_trip\": 0, \"car_duration_hours\": 0.86, \"competitive_route\": 1, \"bus_multiplier\": 1.48, \"bus_difference\": 24.6, \"num_trips\": 21, \"num_competitive\": 21, \"pct_trips_competitive\": 1.0, \"bus_difference_spread\": 9.6, \"route_group\": \"medium\", \"max_trip_hrs\": 1.33, \"max_trip_route_group\": 1.5, \"name\": \"Lake Transit Authority\", \"caltrans_district\": \"01 - Eureka\", \"drmt_organization_name\": \"['reck7ddrpXSeA0mH0']\", \"cutoff2\": 22.5, \"cutoff\": 0}, {\"calitp_itp_id\": 159, \"trip_key\": -8691886450909504027, \"trip_id\": \"t_1057316_b_25985_tn_0\", \"shape_id\": \"p_4704\", \"route_id\": \"2017\", \"service_hours\": 1.27, \"trip_first_departure_ts\": 39600, \"trip_last_arrival_ts\": 44160, \"departure_hour\": 11, \"time_of_day\": \"Midday\", \"p25\": 1.27, \"p50\": 1.33, \"p75\": 1.33, \"p50_trip\": 0, \"fastest_trip\": 0, \"car_duration_hours\": 0.86, \"competitive_route\": 1, \"bus_multiplier\": 1.48, \"bus_difference\": 24.6, \"num_trips\": 21, \"num_competitive\": 21, \"pct_trips_competitive\": 1.0, \"bus_difference_spread\": 9.6, \"route_group\": \"medium\", \"max_trip_hrs\": 1.33, \"max_trip_route_group\": 1.5, \"name\": \"Lake Transit Authority\", \"caltrans_district\": \"01 - Eureka\", \"drmt_organization_name\": \"['reck7ddrpXSeA0mH0']\", \"cutoff2\": 22.5, \"cutoff\": 0}, {\"calitp_itp_id\": 159, \"trip_key\": 3206070528033019796, \"trip_id\": \"t_1438244_b_25985_tn_0\", \"shape_id\": \"p_4709\", \"route_id\": \"2017\", \"service_hours\": 1.33, \"trip_first_departure_ts\": 23700, \"trip_last_arrival_ts\": 28500, \"departure_hour\": 6, \"time_of_day\": \"Owl Service\", \"p25\": 1.27, \"p50\": 1.33, \"p75\": 1.33, \"p50_trip\": 1, \"fastest_trip\": 0, \"car_duration_hours\": 0.86, \"competitive_route\": 1, \"bus_multiplier\": 1.55, \"bus_difference\": 28.2, \"num_trips\": 21, \"num_competitive\": 21, \"pct_trips_competitive\": 1.0, \"bus_difference_spread\": 9.6, \"route_group\": \"medium\", \"max_trip_hrs\": 1.33, \"max_trip_route_group\": 1.5, \"name\": \"Lake Transit Authority\", \"caltrans_district\": \"01 - Eureka\", \"drmt_organization_name\": \"['reck7ddrpXSeA0mH0']\", \"cutoff2\": 22.5, \"cutoff\": 0}, {\"calitp_itp_id\": 159, \"trip_key\": 1838708479705994873, \"trip_id\": \"t_1057342_b_25985_tn_0\", \"shape_id\": \"p_4709\", \"route_id\": \"2017\", \"service_hours\": 1.33, \"trip_first_departure_ts\": 37800, \"trip_last_arrival_ts\": 42600, \"departure_hour\": 10, \"time_of_day\": \"Midday\", \"p25\": 1.27, \"p50\": 1.33, \"p75\": 1.33, \"p50_trip\": 1, \"fastest_trip\": 0, \"car_duration_hours\": 0.86, \"competitive_route\": 1, \"bus_multiplier\": 1.55, \"bus_difference\": 28.2, \"num_trips\": 21, \"num_competitive\": 21, \"pct_trips_competitive\": 1.0, \"bus_difference_spread\": 9.6, \"route_group\": \"medium\", \"max_trip_hrs\": 1.33, \"max_trip_route_group\": 1.5, \"name\": \"Lake Transit Authority\", \"caltrans_district\": \"01 - Eureka\", \"drmt_organization_name\": \"['reck7ddrpXSeA0mH0']\", \"cutoff2\": 22.5, \"cutoff\": 0}, {\"calitp_itp_id\": 159, \"trip_key\": -3466424936241101914, \"trip_id\": \"t_1057290_b_25985_tn_0\", \"shape_id\": \"p_4709\", \"route_id\": \"2017\", \"service_hours\": 1.33, \"trip_first_departure_ts\": 48600, \"trip_last_arrival_ts\": 53400, \"departure_hour\": 13, \"time_of_day\": \"Midday\", \"p25\": 1.27, \"p50\": 1.33, \"p75\": 1.33, \"p50_trip\": 1, \"fastest_trip\": 0, \"car_duration_hours\": 0.86, \"competitive_route\": 1, \"bus_multiplier\": 1.55, \"bus_difference\": 28.2, \"num_trips\": 21, \"num_competitive\": 21, \"pct_trips_competitive\": 1.0, \"bus_difference_spread\": 9.6, \"route_group\": \"medium\", \"max_trip_hrs\": 1.33, \"max_trip_route_group\": 1.5, \"name\": \"Lake Transit Authority\", \"caltrans_district\": \"01 - Eureka\", \"drmt_organization_name\": \"['reck7ddrpXSeA0mH0']\", \"cutoff2\": 22.5, \"cutoff\": 0}, {\"calitp_itp_id\": 159, \"trip_key\": -3552072959869154419, \"trip_id\": \"t_1057339_b_25985_tn_0\", \"shape_id\": \"p_4709\", \"route_id\": \"2017\", \"service_hours\": 1.33, \"trip_first_departure_ts\": 41400, \"trip_last_arrival_ts\": 46200, \"departure_hour\": 11, \"time_of_day\": \"Midday\", \"p25\": 1.27, \"p50\": 1.33, \"p75\": 1.33, \"p50_trip\": 1, \"fastest_trip\": 0, \"car_duration_hours\": 0.86, \"competitive_route\": 1, \"bus_multiplier\": 1.55, \"bus_difference\": 28.2, \"num_trips\": 21, \"num_competitive\": 21, \"pct_trips_competitive\": 1.0, \"bus_difference_spread\": 9.6, \"route_group\": \"medium\", \"max_trip_hrs\": 1.33, \"max_trip_route_group\": 1.5, \"name\": \"Lake Transit Authority\", \"caltrans_district\": \"01 - Eureka\", \"drmt_organization_name\": \"['reck7ddrpXSeA0mH0']\", \"cutoff2\": 22.5, \"cutoff\": 0}, {\"calitp_itp_id\": 159, \"trip_key\": 3869810622505798844, \"trip_id\": \"t_1438242_b_25985_tn_0\", \"shape_id\": \"p_4709\", \"route_id\": \"2017\", \"service_hours\": 1.33, \"trip_first_departure_ts\": 59400, \"trip_last_arrival_ts\": 64200, \"departure_hour\": 16, \"time_of_day\": \"Midday\", \"p25\": 1.27, \"p50\": 1.33, \"p75\": 1.33, \"p50_trip\": 1, \"fastest_trip\": 0, \"car_duration_hours\": 0.86, \"competitive_route\": 1, \"bus_multiplier\": 1.55, \"bus_difference\": 28.2, \"num_trips\": 21, \"num_competitive\": 21, \"pct_trips_competitive\": 1.0, \"bus_difference_spread\": 9.6, \"route_group\": \"medium\", \"max_trip_hrs\": 1.33, \"max_trip_route_group\": 1.5, \"name\": \"Lake Transit Authority\", \"caltrans_district\": \"01 - Eureka\", \"drmt_organization_name\": \"['reck7ddrpXSeA0mH0']\", \"cutoff2\": 22.5, \"cutoff\": 0}, {\"calitp_itp_id\": 159, \"trip_key\": -8845152199326317613, \"trip_id\": \"t_1438240_b_25985_tn_0\", \"shape_id\": \"p_4709\", \"route_id\": \"2017\", \"service_hours\": 1.33, \"trip_first_departure_ts\": 30600, \"trip_last_arrival_ts\": 35400, \"departure_hour\": 8, \"time_of_day\": \"AM Peak\", \"p25\": 1.27, \"p50\": 1.33, \"p75\": 1.33, \"p50_trip\": 1, \"fastest_trip\": 0, \"car_duration_hours\": 0.86, \"competitive_route\": 1, \"bus_multiplier\": 1.55, \"bus_difference\": 28.2, \"num_trips\": 21, \"num_competitive\": 21, \"pct_trips_competitive\": 1.0, \"bus_difference_spread\": 9.6, \"route_group\": \"medium\", \"max_trip_hrs\": 1.33, \"max_trip_route_group\": 1.5, \"name\": \"Lake Transit Authority\", \"caltrans_district\": \"01 - Eureka\", \"drmt_organization_name\": \"['reck7ddrpXSeA0mH0']\", \"cutoff2\": 22.5, \"cutoff\": 0}, {\"calitp_itp_id\": 159, \"trip_key\": -9102131557013495811, \"trip_id\": \"t_1057343_b_25985_tn_0\", \"shape_id\": \"p_4709\", \"route_id\": \"2017\", \"service_hours\": 1.33, \"trip_first_departure_ts\": 55800, \"trip_last_arrival_ts\": 60600, \"departure_hour\": 15, \"time_of_day\": \"Midday\", \"p25\": 1.27, \"p50\": 1.33, \"p75\": 1.33, \"p50_trip\": 1, \"fastest_trip\": 0, \"car_duration_hours\": 0.86, \"competitive_route\": 1, \"bus_multiplier\": 1.55, \"bus_difference\": 28.2, \"num_trips\": 21, \"num_competitive\": 21, \"pct_trips_competitive\": 1.0, \"bus_difference_spread\": 9.6, \"route_group\": \"medium\", \"max_trip_hrs\": 1.33, \"max_trip_route_group\": 1.5, \"name\": \"Lake Transit Authority\", \"caltrans_district\": \"01 - Eureka\", \"drmt_organization_name\": \"['reck7ddrpXSeA0mH0']\", \"cutoff2\": 22.5, \"cutoff\": 0}, {\"calitp_itp_id\": 159, \"trip_key\": -3064571990929012009, \"trip_id\": \"t_1057344_b_25985_tn_0\", \"shape_id\": \"p_4709\", \"route_id\": \"2017\", \"service_hours\": 1.33, \"trip_first_departure_ts\": 34200, \"trip_last_arrival_ts\": 39000, \"departure_hour\": 9, \"time_of_day\": \"AM Peak\", \"p25\": 1.27, \"p50\": 1.33, \"p75\": 1.33, \"p50_trip\": 1, \"fastest_trip\": 0, \"car_duration_hours\": 0.86, \"competitive_route\": 1, \"bus_multiplier\": 1.55, \"bus_difference\": 28.2, \"num_trips\": 21, \"num_competitive\": 21, \"pct_trips_competitive\": 1.0, \"bus_difference_spread\": 9.6, \"route_group\": \"medium\", \"max_trip_hrs\": 1.33, \"max_trip_route_group\": 1.5, \"name\": \"Lake Transit Authority\", \"caltrans_district\": \"01 - Eureka\", \"drmt_organization_name\": \"['reck7ddrpXSeA0mH0']\", \"cutoff2\": 22.5, \"cutoff\": 0}, {\"calitp_itp_id\": 159, \"trip_key\": -768467694510800727, \"trip_id\": \"t_1438241_b_25985_tn_0\", \"shape_id\": \"p_4709\", \"route_id\": \"2017\", \"service_hours\": 1.33, \"trip_first_departure_ts\": 45000, \"trip_last_arrival_ts\": 49800, \"departure_hour\": 12, \"time_of_day\": \"Midday\", \"p25\": 1.27, \"p50\": 1.33, \"p75\": 1.33, \"p50_trip\": 1, \"fastest_trip\": 0, \"car_duration_hours\": 0.86, \"competitive_route\": 1, \"bus_multiplier\": 1.55, \"bus_difference\": 28.2, \"num_trips\": 21, \"num_competitive\": 21, \"pct_trips_competitive\": 1.0, \"bus_difference_spread\": 9.6, \"route_group\": \"medium\", \"max_trip_hrs\": 1.33, \"max_trip_route_group\": 1.5, \"name\": \"Lake Transit Authority\", \"caltrans_district\": \"01 - Eureka\", \"drmt_organization_name\": \"['reck7ddrpXSeA0mH0']\", \"cutoff2\": 22.5, \"cutoff\": 0}, {\"calitp_itp_id\": 159, \"trip_key\": 7036669099551354467, \"trip_id\": \"t_1438243_b_25985_tn_0\", \"shape_id\": \"p_4709\", \"route_id\": \"2017\", \"service_hours\": 1.33, \"trip_first_departure_ts\": 63000, \"trip_last_arrival_ts\": 67800, \"departure_hour\": 17, \"time_of_day\": \"PM Peak\", \"p25\": 1.27, \"p50\": 1.33, \"p75\": 1.33, \"p50_trip\": 1, \"fastest_trip\": 0, \"car_duration_hours\": 0.86, \"competitive_route\": 1, \"bus_multiplier\": 1.55, \"bus_difference\": 28.2, \"num_trips\": 21, \"num_competitive\": 21, \"pct_trips_competitive\": 1.0, \"bus_difference_spread\": 9.6, \"route_group\": \"medium\", \"max_trip_hrs\": 1.33, \"max_trip_route_group\": 1.5, \"name\": \"Lake Transit Authority\", \"caltrans_district\": \"01 - Eureka\", \"drmt_organization_name\": \"['reck7ddrpXSeA0mH0']\", \"cutoff2\": 22.5, \"cutoff\": 0}, {\"calitp_itp_id\": 159, \"trip_key\": 1931351836578071789, \"trip_id\": \"t_1547201_b_25985_tn_0\", \"shape_id\": \"p_4709\", \"route_id\": \"2017\", \"service_hours\": 1.33, \"trip_first_departure_ts\": 70200, \"trip_last_arrival_ts\": 75000, \"departure_hour\": 19, \"time_of_day\": \"PM Peak\", \"p25\": 1.27, \"p50\": 1.33, \"p75\": 1.33, \"p50_trip\": 1, \"fastest_trip\": 0, \"car_duration_hours\": 0.86, \"competitive_route\": 1, \"bus_multiplier\": 1.55, \"bus_difference\": 28.2, \"num_trips\": 21, \"num_competitive\": 21, \"pct_trips_competitive\": 1.0, \"bus_difference_spread\": 9.6, \"route_group\": \"medium\", \"max_trip_hrs\": 1.33, \"max_trip_route_group\": 1.5, \"name\": \"Lake Transit Authority\", \"caltrans_district\": \"01 - Eureka\", \"drmt_organization_name\": \"['reck7ddrpXSeA0mH0']\", \"cutoff2\": 22.5, \"cutoff\": 0}, {\"calitp_itp_id\": 159, \"trip_key\": -4122129822606538263, \"trip_id\": \"t_1057282_b_25985_tn_0\", \"shape_id\": \"p_4688\", \"route_id\": \"2018\", \"service_hours\": 0.63, \"trip_first_departure_ts\": 62700, \"trip_last_arrival_ts\": 64980, \"departure_hour\": 17, \"time_of_day\": \"PM Peak\", \"p25\": 0.855, \"p50\": 0.95, \"p75\": 0.97, \"p50_trip\": 0, \"fastest_trip\": 1, \"car_duration_hours\": 0.59, \"competitive_route\": 1, \"bus_multiplier\": 1.07, \"bus_difference\": 2.4, \"num_trips\": 6, \"num_competitive\": 6, \"pct_trips_competitive\": 1.0, \"bus_difference_spread\": 28.2, \"route_group\": \"medium\", \"max_trip_hrs\": 1.1, \"max_trip_route_group\": 1.5, \"name\": \"Lake Transit Authority\", \"caltrans_district\": \"01 - Eureka\", \"drmt_organization_name\": \"['reck7ddrpXSeA0mH0']\", \"cutoff2\": 22.5, \"cutoff\": 0}, {\"calitp_itp_id\": 159, \"trip_key\": -4469023793303323329, \"trip_id\": \"t_1057279_b_25985_tn_0\", \"shape_id\": \"p_4679\", \"route_id\": \"2018\", \"service_hours\": 0.83, \"trip_first_departure_ts\": 59580, \"trip_last_arrival_ts\": 62580, \"departure_hour\": 16, \"time_of_day\": \"Midday\", \"p25\": 0.855, \"p50\": 0.95, \"p75\": 0.97, \"p50_trip\": 0, \"fastest_trip\": 0, \"car_duration_hours\": 0.59, \"competitive_route\": 1, \"bus_multiplier\": 1.41, \"bus_difference\": 14.4, \"num_trips\": 6, \"num_competitive\": 6, \"pct_trips_competitive\": 1.0, \"bus_difference_spread\": 28.2, \"route_group\": \"medium\", \"max_trip_hrs\": 1.1, \"max_trip_route_group\": 1.5, \"name\": \"Lake Transit Authority\", \"caltrans_district\": \"01 - Eureka\", \"drmt_organization_name\": \"['reck7ddrpXSeA0mH0']\", \"cutoff2\": 22.5, \"cutoff\": 0}, {\"calitp_itp_id\": 159, \"trip_key\": -118056997240798635, \"trip_id\": \"t_1057258_b_25985_tn_0\", \"shape_id\": \"p_4680\", \"route_id\": \"2018\", \"service_hours\": 0.93, \"trip_first_departure_ts\": 33360, \"trip_last_arrival_ts\": 36720, \"departure_hour\": 9, \"time_of_day\": \"AM Peak\", \"p25\": 0.855, \"p50\": 0.95, \"p75\": 0.97, \"p50_trip\": 1, \"fastest_trip\": 0, \"car_duration_hours\": 0.59, \"competitive_route\": 1, \"bus_multiplier\": 1.58, \"bus_difference\": 20.4, \"num_trips\": 6, \"num_competitive\": 6, \"pct_trips_competitive\": 1.0, \"bus_difference_spread\": 28.2, \"route_group\": \"medium\", \"max_trip_hrs\": 1.1, \"max_trip_route_group\": 1.5, \"name\": \"Lake Transit Authority\", \"caltrans_district\": \"01 - Eureka\", \"drmt_organization_name\": \"['reck7ddrpXSeA0mH0']\", \"cutoff2\": 22.5, \"cutoff\": 0}, {\"calitp_itp_id\": 159, \"trip_key\": 8057216988449593398, \"trip_id\": \"t_1057283_b_25985_tn_0\", \"shape_id\": \"p_4689\", \"route_id\": \"2018\", \"service_hours\": 0.97, \"trip_first_departure_ts\": 36900, \"trip_last_arrival_ts\": 40380, \"departure_hour\": 10, \"time_of_day\": \"Midday\", \"p25\": 0.855, \"p50\": 0.95, \"p75\": 0.97, \"p50_trip\": 0, \"fastest_trip\": 0, \"car_duration_hours\": 0.59, \"competitive_route\": 1, \"bus_multiplier\": 1.64, \"bus_difference\": 22.8, \"num_trips\": 6, \"num_competitive\": 6, \"pct_trips_competitive\": 1.0, \"bus_difference_spread\": 28.2, \"route_group\": \"medium\", \"max_trip_hrs\": 1.1, \"max_trip_route_group\": 1.5, \"name\": \"Lake Transit Authority\", \"caltrans_district\": \"01 - Eureka\", \"drmt_organization_name\": \"['reck7ddrpXSeA0mH0']\", \"cutoff2\": 22.5, \"cutoff\": 0}, {\"calitp_itp_id\": 159, \"trip_key\": -3575917492895589770, \"trip_id\": \"t_1057280_b_25985_tn_0\", \"shape_id\": \"p_4690\", \"route_id\": \"2018\", \"service_hours\": 0.97, \"trip_first_departure_ts\": 48900, \"trip_last_arrival_ts\": 52380, \"departure_hour\": 13, \"time_of_day\": \"Midday\", \"p25\": 0.855, \"p50\": 0.95, \"p75\": 0.97, \"p50_trip\": 0, \"fastest_trip\": 0, \"car_duration_hours\": 0.59, \"competitive_route\": 1, \"bus_multiplier\": 1.64, \"bus_difference\": 22.8, \"num_trips\": 6, \"num_competitive\": 6, \"pct_trips_competitive\": 1.0, \"bus_difference_spread\": 28.2, \"route_group\": \"medium\", \"max_trip_hrs\": 1.1, \"max_trip_route_group\": 1.5, \"name\": \"Lake Transit Authority\", \"caltrans_district\": \"01 - Eureka\", \"drmt_organization_name\": \"['reck7ddrpXSeA0mH0']\", \"cutoff2\": 22.5, \"cutoff\": 0}, {\"calitp_itp_id\": 159, \"trip_key\": -3789144514727079393, \"trip_id\": \"t_1057278_b_25985_tn_0\", \"shape_id\": \"p_4681\", \"route_id\": \"2018\", \"service_hours\": 1.1, \"trip_first_departure_ts\": 40800, \"trip_last_arrival_ts\": 44760, \"departure_hour\": 11, \"time_of_day\": \"Midday\", \"p25\": 0.855, \"p50\": 0.95, \"p75\": 0.97, \"p50_trip\": 0, \"fastest_trip\": 0, \"car_duration_hours\": 0.59, \"competitive_route\": 1, \"bus_multiplier\": 1.86, \"bus_difference\": 30.6, \"num_trips\": 6, \"num_competitive\": 6, \"pct_trips_competitive\": 1.0, \"bus_difference_spread\": 28.2, \"route_group\": \"medium\", \"max_trip_hrs\": 1.1, \"max_trip_route_group\": 1.5, \"name\": \"Lake Transit Authority\", \"caltrans_district\": \"01 - Eureka\", \"drmt_organization_name\": \"['reck7ddrpXSeA0mH0']\", \"cutoff2\": 22.5, \"cutoff\": 0}, {\"calitp_itp_id\": 159, \"trip_key\": -7705498866186960614, \"trip_id\": \"t_1057305_b_25985_tn_0\", \"shape_id\": \"p_4683\", \"route_id\": \"2031\", \"service_hours\": 0.63, \"trip_first_departure_ts\": 30360, \"trip_last_arrival_ts\": 32640, \"departure_hour\": 8, \"time_of_day\": \"AM Peak\", \"p25\": 0.63, \"p50\": 0.63, \"p75\": 0.77, \"p50_trip\": 1, \"fastest_trip\": 0, \"car_duration_hours\": 0.51, \"competitive_route\": 1, \"bus_multiplier\": 1.24, \"bus_difference\": 7.2, \"num_trips\": 7, \"num_competitive\": 6, \"pct_trips_competitive\": 0.857, \"bus_difference_spread\": 48.0, \"route_group\": \"medium\", \"max_trip_hrs\": 1.43, \"max_trip_route_group\": 1.5, \"name\": \"Lake Transit Authority\", \"caltrans_district\": \"01 - Eureka\", \"drmt_organization_name\": \"['reck7ddrpXSeA0mH0']\", \"cutoff2\": 22.5, \"cutoff\": 0}, {\"calitp_itp_id\": 159, \"trip_key\": 6042927615687746930, \"trip_id\": \"t_1057259_b_25985_tn_0\", \"shape_id\": \"p_4683\", \"route_id\": \"2031\", \"service_hours\": 0.63, \"trip_first_departure_ts\": 56700, \"trip_last_arrival_ts\": 58980, \"departure_hour\": 15, \"time_of_day\": \"Midday\", \"p25\": 0.63, \"p50\": 0.63, \"p75\": 0.77, \"p50_trip\": 1, \"fastest_trip\": 1, \"car_duration_hours\": 0.51, \"competitive_route\": 1, \"bus_multiplier\": 1.24, \"bus_difference\": 7.2, \"num_trips\": 7, \"num_competitive\": 6, \"pct_trips_competitive\": 0.857, \"bus_difference_spread\": 48.0, \"route_group\": \"medium\", \"max_trip_hrs\": 1.43, \"max_trip_route_group\": 1.5, \"name\": \"Lake Transit Authority\", \"caltrans_district\": \"01 - Eureka\", \"drmt_organization_name\": \"['reck7ddrpXSeA0mH0']\", \"cutoff2\": 22.5, \"cutoff\": 0}, {\"calitp_itp_id\": 159, \"trip_key\": -3638809548219381255, \"trip_id\": \"t_1057306_b_25985_tn_0\", \"shape_id\": \"p_4683\", \"route_id\": \"2031\", \"service_hours\": 0.63, \"trip_first_departure_ts\": 38100, \"trip_last_arrival_ts\": 40380, \"departure_hour\": 10, \"time_of_day\": \"Midday\", \"p25\": 0.63, \"p50\": 0.63, \"p75\": 0.77, \"p50_trip\": 1, \"fastest_trip\": 0, \"car_duration_hours\": 0.51, \"competitive_route\": 1, \"bus_multiplier\": 1.24, \"bus_difference\": 7.2, \"num_trips\": 7, \"num_competitive\": 6, \"pct_trips_competitive\": 0.857, \"bus_difference_spread\": 48.0, \"route_group\": \"medium\", \"max_trip_hrs\": 1.43, \"max_trip_route_group\": 1.5, \"name\": \"Lake Transit Authority\", \"caltrans_district\": \"01 - Eureka\", \"drmt_organization_name\": \"['reck7ddrpXSeA0mH0']\", \"cutoff2\": 22.5, \"cutoff\": 0}, {\"calitp_itp_id\": 159, \"trip_key\": -4985928358984807020, \"trip_id\": \"t_1057266_b_25985_tn_0\", \"shape_id\": \"p_4683\", \"route_id\": \"2031\", \"service_hours\": 0.63, \"trip_first_departure_ts\": 23700, \"trip_last_arrival_ts\": 25980, \"departure_hour\": 6, \"time_of_day\": \"Owl Service\", \"p25\": 0.63, \"p50\": 0.63, \"p75\": 0.77, \"p50_trip\": 1, \"fastest_trip\": 0, \"car_duration_hours\": 0.51, \"competitive_route\": 1, \"bus_multiplier\": 1.24, \"bus_difference\": 7.2, \"num_trips\": 7, \"num_competitive\": 6, \"pct_trips_competitive\": 0.857, \"bus_difference_spread\": 48.0, \"route_group\": \"medium\", \"max_trip_hrs\": 1.43, \"max_trip_route_group\": 1.5, \"name\": \"Lake Transit Authority\", \"caltrans_district\": \"01 - Eureka\", \"drmt_organization_name\": \"['reck7ddrpXSeA0mH0']\", \"cutoff2\": 22.5, \"cutoff\": 0}, {\"calitp_itp_id\": 159, \"trip_key\": -4087692664662078886, \"trip_id\": \"t_1057319_b_25985_tn_0\", \"shape_id\": \"p_1275833\", \"route_id\": \"2031\", \"service_hours\": 0.77, \"trip_first_departure_ts\": 42000, \"trip_last_arrival_ts\": 44760, \"departure_hour\": 11, \"time_of_day\": \"Midday\", \"p25\": 0.63, \"p50\": 0.63, \"p75\": 0.77, \"p50_trip\": 0, \"fastest_trip\": 0, \"car_duration_hours\": 0.51, \"competitive_route\": 1, \"bus_multiplier\": 1.51, \"bus_difference\": 15.6, \"num_trips\": 7, \"num_competitive\": 6, \"pct_trips_competitive\": 0.857, \"bus_difference_spread\": 48.0, \"route_group\": \"medium\", \"max_trip_hrs\": 1.43, \"max_trip_route_group\": 1.5, \"name\": \"Lake Transit Authority\", \"caltrans_district\": \"01 - Eureka\", \"drmt_organization_name\": \"['reck7ddrpXSeA0mH0']\", \"cutoff2\": 22.5, \"cutoff\": 0}, {\"calitp_itp_id\": 159, \"trip_key\": -1622512023661102272, \"trip_id\": \"t_1057307_b_25985_tn_0\", \"shape_id\": \"p_1275833\", \"route_id\": \"2031\", \"service_hours\": 0.77, \"trip_first_departure_ts\": 53700, \"trip_last_arrival_ts\": 56460, \"departure_hour\": 14, \"time_of_day\": \"Midday\", \"p25\": 0.63, \"p50\": 0.63, \"p75\": 0.77, \"p50_trip\": 0, \"fastest_trip\": 0, \"car_duration_hours\": 0.51, \"competitive_route\": 1, \"bus_multiplier\": 1.51, \"bus_difference\": 15.6, \"num_trips\": 7, \"num_competitive\": 6, \"pct_trips_competitive\": 0.857, \"bus_difference_spread\": 48.0, \"route_group\": \"medium\", \"max_trip_hrs\": 1.43, \"max_trip_route_group\": 1.5, \"name\": \"Lake Transit Authority\", \"caltrans_district\": \"01 - Eureka\", \"drmt_organization_name\": \"['reck7ddrpXSeA0mH0']\", \"cutoff2\": 22.5, \"cutoff\": 0}, {\"calitp_itp_id\": 159, \"trip_key\": -1264368878434079061, \"trip_id\": \"t_1057264_b_25985_tn_0\", \"shape_id\": \"p_4682\", \"route_id\": \"2031\", \"service_hours\": 1.43, \"trip_first_departure_ts\": 25200, \"trip_last_arrival_ts\": 30360, \"departure_hour\": 7, \"time_of_day\": \"AM Peak\", \"p25\": 0.63, \"p50\": 0.63, \"p75\": 0.77, \"p50_trip\": 0, \"fastest_trip\": 0, \"car_duration_hours\": 0.51, \"competitive_route\": 1, \"bus_multiplier\": 2.8, \"bus_difference\": 55.2, \"num_trips\": 7, \"num_competitive\": 6, \"pct_trips_competitive\": 0.857, \"bus_difference_spread\": 48.0, \"route_group\": \"medium\", \"max_trip_hrs\": 1.43, \"max_trip_route_group\": 1.5, \"name\": \"Lake Transit Authority\", \"caltrans_district\": \"01 - Eureka\", \"drmt_organization_name\": \"['reck7ddrpXSeA0mH0']\", \"cutoff2\": 22.5, \"cutoff\": 0}, {\"calitp_itp_id\": 159, \"trip_key\": 6931767261855409294, \"trip_id\": \"t_1547203_b_25985_tn_0\", \"shape_id\": \"p_4676\", \"route_id\": \"2033\", \"service_hours\": 1.07, \"trip_first_departure_ts\": 64500, \"trip_last_arrival_ts\": 68340, \"departure_hour\": 17, \"time_of_day\": \"PM Peak\", \"p25\": 1.1475, \"p50\": 1.295, \"p75\": 1.44, \"p50_trip\": 0, \"fastest_trip\": 1, \"car_duration_hours\": 0.82, \"competitive_route\": 1, \"bus_multiplier\": 1.3, \"bus_difference\": 15.0, \"num_trips\": 8, \"num_competitive\": 8, \"pct_trips_competitive\": 1.0, \"bus_difference_spread\": 25.8, \"route_group\": \"medium\", \"max_trip_hrs\": 1.5, \"max_trip_route_group\": 1.5, \"name\": \"Lake Transit Authority\", \"caltrans_district\": \"01 - Eureka\", \"drmt_organization_name\": \"['reck7ddrpXSeA0mH0']\", \"cutoff2\": 22.5, \"cutoff\": 0}, {\"calitp_itp_id\": 159, \"trip_key\": 3508423774333324939, \"trip_id\": \"t_1547206_b_25985_tn_0\", \"shape_id\": \"p_4693\", \"route_id\": \"2033\", \"service_hours\": 1.08, \"trip_first_departure_ts\": 60600, \"trip_last_arrival_ts\": 64500, \"departure_hour\": 16, \"time_of_day\": \"Midday\", \"p25\": 1.1475, \"p50\": 1.295, \"p75\": 1.44, \"p50_trip\": 0, \"fastest_trip\": 0, \"car_duration_hours\": 0.82, \"competitive_route\": 1, \"bus_multiplier\": 1.32, \"bus_difference\": 15.6, \"num_trips\": 8, \"num_competitive\": 8, \"pct_trips_competitive\": 1.0, \"bus_difference_spread\": 25.8, \"route_group\": \"medium\", \"max_trip_hrs\": 1.5, \"max_trip_route_group\": 1.5, \"name\": \"Lake Transit Authority\", \"caltrans_district\": \"01 - Eureka\", \"drmt_organization_name\": \"['reck7ddrpXSeA0mH0']\", \"cutoff2\": 22.5, \"cutoff\": 0}, {\"calitp_itp_id\": 159, \"trip_key\": -8647078714059380397, \"trip_id\": \"t_1547205_b_25985_tn_0\", \"shape_id\": \"p_4693\", \"route_id\": \"2033\", \"service_hours\": 1.17, \"trip_first_departure_ts\": 22200, \"trip_last_arrival_ts\": 26400, \"departure_hour\": 6, \"time_of_day\": \"Owl Service\", \"p25\": 1.1475, \"p50\": 1.295, \"p75\": 1.44, \"p50_trip\": 1, \"fastest_trip\": 0, \"car_duration_hours\": 0.82, \"competitive_route\": 1, \"bus_multiplier\": 1.43, \"bus_difference\": 21.0, \"num_trips\": 8, \"num_competitive\": 8, \"pct_trips_competitive\": 1.0, \"bus_difference_spread\": 25.8, \"route_group\": \"medium\", \"max_trip_hrs\": 1.5, \"max_trip_route_group\": 1.5, \"name\": \"Lake Transit Authority\", \"caltrans_district\": \"01 - Eureka\", \"drmt_organization_name\": \"['reck7ddrpXSeA0mH0']\", \"cutoff2\": 22.5, \"cutoff\": 0}, {\"calitp_itp_id\": 159, \"trip_key\": -884952157407834000, \"trip_id\": \"t_1547204_b_25985_tn_0\", \"shape_id\": \"p_4676\", \"route_id\": \"2033\", \"service_hours\": 1.17, \"trip_first_departure_ts\": 27120, \"trip_last_arrival_ts\": 31320, \"departure_hour\": 7, \"time_of_day\": \"AM Peak\", \"p25\": 1.1475, \"p50\": 1.295, \"p75\": 1.44, \"p50_trip\": 1, \"fastest_trip\": 0, \"car_duration_hours\": 0.82, \"competitive_route\": 1, \"bus_multiplier\": 1.43, \"bus_difference\": 21.0, \"num_trips\": 8, \"num_competitive\": 8, \"pct_trips_competitive\": 1.0, \"bus_difference_spread\": 25.8, \"route_group\": \"medium\", \"max_trip_hrs\": 1.5, \"max_trip_route_group\": 1.5, \"name\": \"Lake Transit Authority\", \"caltrans_district\": \"01 - Eureka\", \"drmt_organization_name\": \"['reck7ddrpXSeA0mH0']\", \"cutoff2\": 22.5, \"cutoff\": 0}, {\"calitp_itp_id\": 159, \"trip_key\": 3167018145551398628, \"trip_id\": \"t_1057289_b_25985_tn_0\", \"shape_id\": \"p_4694\", \"route_id\": \"2033\", \"service_hours\": 1.42, \"trip_first_departure_ts\": 45900, \"trip_last_arrival_ts\": 51000, \"departure_hour\": 12, \"time_of_day\": \"Midday\", \"p25\": 1.1475, \"p50\": 1.295, \"p75\": 1.44, \"p50_trip\": 1, \"fastest_trip\": 0, \"car_duration_hours\": 0.82, \"competitive_route\": 1, \"bus_multiplier\": 1.73, \"bus_difference\": 36.0, \"num_trips\": 8, \"num_competitive\": 8, \"pct_trips_competitive\": 1.0, \"bus_difference_spread\": 25.8, \"route_group\": \"medium\", \"max_trip_hrs\": 1.5, \"max_trip_route_group\": 1.5, \"name\": \"Lake Transit Authority\", \"caltrans_district\": \"01 - Eureka\", \"drmt_organization_name\": \"['reck7ddrpXSeA0mH0']\", \"cutoff2\": 22.5, \"cutoff\": 0}, {\"calitp_itp_id\": 159, \"trip_key\": -3413408852418918973, \"trip_id\": \"t_1057260_b_25985_tn_0\", \"shape_id\": \"p_4694\", \"route_id\": \"2033\", \"service_hours\": 1.42, \"trip_first_departure_ts\": 28500, \"trip_last_arrival_ts\": 33600, \"departure_hour\": 7, \"time_of_day\": \"AM Peak\", \"p25\": 1.1475, \"p50\": 1.295, \"p75\": 1.44, \"p50_trip\": 1, \"fastest_trip\": 0, \"car_duration_hours\": 0.82, \"competitive_route\": 1, \"bus_multiplier\": 1.73, \"bus_difference\": 36.0, \"num_trips\": 8, \"num_competitive\": 8, \"pct_trips_competitive\": 1.0, \"bus_difference_spread\": 25.8, \"route_group\": \"medium\", \"max_trip_hrs\": 1.5, \"max_trip_route_group\": 1.5, \"name\": \"Lake Transit Authority\", \"caltrans_district\": \"01 - Eureka\", \"drmt_organization_name\": \"['reck7ddrpXSeA0mH0']\", \"cutoff2\": 22.5, \"cutoff\": 0}, {\"calitp_itp_id\": 159, \"trip_key\": -6376664031830301764, \"trip_id\": \"t_1057272_b_25985_tn_0\", \"shape_id\": \"p_4677\", \"route_id\": \"2033\", \"service_hours\": 1.5, \"trip_first_departure_ts\": 51600, \"trip_last_arrival_ts\": 57000, \"departure_hour\": 14, \"time_of_day\": \"Midday\", \"p25\": 1.1475, \"p50\": 1.295, \"p75\": 1.44, \"p50_trip\": 0, \"fastest_trip\": 0, \"car_duration_hours\": 0.82, \"competitive_route\": 1, \"bus_multiplier\": 1.83, \"bus_difference\": 40.8, \"num_trips\": 8, \"num_competitive\": 8, \"pct_trips_competitive\": 1.0, \"bus_difference_spread\": 25.8, \"route_group\": \"medium\", \"max_trip_hrs\": 1.5, \"max_trip_route_group\": 1.5, \"name\": \"Lake Transit Authority\", \"caltrans_district\": \"01 - Eureka\", \"drmt_organization_name\": \"['reck7ddrpXSeA0mH0']\", \"cutoff2\": 22.5, \"cutoff\": 0}, {\"calitp_itp_id\": 159, \"trip_key\": -8648135841710984758, \"trip_id\": \"t_1057273_b_25985_tn_0\", \"shape_id\": \"p_4677\", \"route_id\": \"2033\", \"service_hours\": 1.5, \"trip_first_departure_ts\": 34200, \"trip_last_arrival_ts\": 39600, \"departure_hour\": 9, \"time_of_day\": \"AM Peak\", \"p25\": 1.1475, \"p50\": 1.295, \"p75\": 1.44, \"p50_trip\": 0, \"fastest_trip\": 0, \"car_duration_hours\": 0.82, \"competitive_route\": 1, \"bus_multiplier\": 1.83, \"bus_difference\": 40.8, \"num_trips\": 8, \"num_competitive\": 8, \"pct_trips_competitive\": 1.0, \"bus_difference_spread\": 25.8, \"route_group\": \"medium\", \"max_trip_hrs\": 1.5, \"max_trip_route_group\": 1.5, \"name\": \"Lake Transit Authority\", \"caltrans_district\": \"01 - Eureka\", \"drmt_organization_name\": \"['reck7ddrpXSeA0mH0']\", \"cutoff2\": 22.5, \"cutoff\": 0}, {\"calitp_itp_id\": 159, \"trip_key\": 5217919566269119412, \"trip_id\": \"t_1057269_b_25985_tn_0\", \"shape_id\": \"p_4686\", \"route_id\": \"2041\", \"service_hours\": 1.43, \"trip_first_departure_ts\": 28800, \"trip_last_arrival_ts\": 33960, \"departure_hour\": 8, \"time_of_day\": \"AM Peak\", \"p25\": 1.43, \"p50\": 1.43, \"p75\": 1.43, \"p50_trip\": 1, \"fastest_trip\": 0, \"car_duration_hours\": 1.03, \"competitive_route\": 1, \"bus_multiplier\": 1.39, \"bus_difference\": 24.0, \"num_trips\": 6, \"num_competitive\": 6, \"pct_trips_competitive\": 1.0, \"bus_difference_spread\": 0.0, \"route_group\": \"medium\", \"max_trip_hrs\": 1.43, \"max_trip_route_group\": 1.5, \"name\": \"Lake Transit Authority\", \"caltrans_district\": \"01 - Eureka\", \"drmt_organization_name\": \"['reck7ddrpXSeA0mH0']\", \"cutoff2\": 22.5, \"cutoff\": 0}, {\"calitp_itp_id\": 159, \"trip_key\": 4923145984037513042, \"trip_id\": \"t_1057325_b_25985_tn_0\", \"shape_id\": \"p_4706\", \"route_id\": \"2041\", \"service_hours\": 1.43, \"trip_first_departure_ts\": 50400, \"trip_last_arrival_ts\": 55560, \"departure_hour\": 14, \"time_of_day\": \"Midday\", \"p25\": 1.43, \"p50\": 1.43, \"p75\": 1.43, \"p50_trip\": 1, \"fastest_trip\": 0, \"car_duration_hours\": 1.03, \"competitive_route\": 1, \"bus_multiplier\": 1.39, \"bus_difference\": 24.0, \"num_trips\": 6, \"num_competitive\": 6, \"pct_trips_competitive\": 1.0, \"bus_difference_spread\": 0.0, \"route_group\": \"medium\", \"max_trip_hrs\": 1.43, \"max_trip_route_group\": 1.5, \"name\": \"Lake Transit Authority\", \"caltrans_district\": \"01 - Eureka\", \"drmt_organization_name\": \"['reck7ddrpXSeA0mH0']\", \"cutoff2\": 22.5, \"cutoff\": 0}, {\"calitp_itp_id\": 159, \"trip_key\": -6127041166121062216, \"trip_id\": \"t_1547365_b_25985_tn_0\", \"shape_id\": \"p_4686\", \"route_id\": \"2041\", \"service_hours\": 1.43, \"trip_first_departure_ts\": 54000, \"trip_last_arrival_ts\": 59160, \"departure_hour\": 15, \"time_of_day\": \"Midday\", \"p25\": 1.43, \"p50\": 1.43, \"p75\": 1.43, \"p50_trip\": 1, \"fastest_trip\": 0, \"car_duration_hours\": 1.03, \"competitive_route\": 1, \"bus_multiplier\": 1.39, \"bus_difference\": 24.0, \"num_trips\": 6, \"num_competitive\": 6, \"pct_trips_competitive\": 1.0, \"bus_difference_spread\": 0.0, \"route_group\": \"medium\", \"max_trip_hrs\": 1.43, \"max_trip_route_group\": 1.5, \"name\": \"Lake Transit Authority\", \"caltrans_district\": \"01 - Eureka\", \"drmt_organization_name\": \"['reck7ddrpXSeA0mH0']\", \"cutoff2\": 22.5, \"cutoff\": 0}, {\"calitp_itp_id\": 159, \"trip_key\": 7619307755642423541, \"trip_id\": \"t_1057296_b_25985_tn_0\", \"shape_id\": \"p_4706\", \"route_id\": \"2041\", \"service_hours\": 1.43, \"trip_first_departure_ts\": 34440, \"trip_last_arrival_ts\": 39600, \"departure_hour\": 9, \"time_of_day\": \"AM Peak\", \"p25\": 1.43, \"p50\": 1.43, \"p75\": 1.43, \"p50_trip\": 1, \"fastest_trip\": 0, \"car_duration_hours\": 1.03, \"competitive_route\": 1, \"bus_multiplier\": 1.39, \"bus_difference\": 24.0, \"num_trips\": 6, \"num_competitive\": 6, \"pct_trips_competitive\": 1.0, \"bus_difference_spread\": 0.0, \"route_group\": \"medium\", \"max_trip_hrs\": 1.43, \"max_trip_route_group\": 1.5, \"name\": \"Lake Transit Authority\", \"caltrans_district\": \"01 - Eureka\", \"drmt_organization_name\": \"['reck7ddrpXSeA0mH0']\", \"cutoff2\": 22.5, \"cutoff\": 0}, {\"calitp_itp_id\": 159, \"trip_key\": -3157651568664789131, \"trip_id\": \"t_1547367_b_25985_tn_0\", \"shape_id\": \"p_4706\", \"route_id\": \"2041\", \"service_hours\": 1.43, \"trip_first_departure_ts\": 61200, \"trip_last_arrival_ts\": 66360, \"departure_hour\": 17, \"time_of_day\": \"PM Peak\", \"p25\": 1.43, \"p50\": 1.43, \"p75\": 1.43, \"p50_trip\": 1, \"fastest_trip\": 1, \"car_duration_hours\": 1.03, \"competitive_route\": 1, \"bus_multiplier\": 1.39, \"bus_difference\": 24.0, \"num_trips\": 6, \"num_competitive\": 6, \"pct_trips_competitive\": 1.0, \"bus_difference_spread\": 0.0, \"route_group\": \"medium\", \"max_trip_hrs\": 1.43, \"max_trip_route_group\": 1.5, \"name\": \"Lake Transit Authority\", \"caltrans_district\": \"01 - Eureka\", \"drmt_organization_name\": \"['reck7ddrpXSeA0mH0']\", \"cutoff2\": 22.5, \"cutoff\": 0}, {\"calitp_itp_id\": 159, \"trip_key\": 5931873114293047792, \"trip_id\": \"t_1057288_b_25985_tn_0\", \"shape_id\": \"p_4686\", \"route_id\": \"2041\", \"service_hours\": 1.43, \"trip_first_departure_ts\": 43200, \"trip_last_arrival_ts\": 48360, \"departure_hour\": 12, \"time_of_day\": \"Midday\", \"p25\": 1.43, \"p50\": 1.43, \"p75\": 1.43, \"p50_trip\": 1, \"fastest_trip\": 0, \"car_duration_hours\": 1.03, \"competitive_route\": 1, \"bus_multiplier\": 1.39, \"bus_difference\": 24.0, \"num_trips\": 6, \"num_competitive\": 6, \"pct_trips_competitive\": 1.0, \"bus_difference_spread\": 0.0, \"route_group\": \"medium\", \"max_trip_hrs\": 1.43, \"max_trip_route_group\": 1.5, \"name\": \"Lake Transit Authority\", \"caltrans_district\": \"01 - Eureka\", \"drmt_organization_name\": \"['reck7ddrpXSeA0mH0']\", \"cutoff2\": 22.5, \"cutoff\": 0}]}}, {\"mode\": \"vega-lite\"});\n",
       "</script>"
      ],
      "text/plain": [
       "alt.FacetChart(...)"
      ]
     },
     "metadata": {},
     "output_type": "display_data"
    }
   ],
   "source": [
    "route_group = \"medium\"\n",
    "try:\n",
    "    subset_routes, mult, diff  = setup_charts(df, PCT_COMPETITIVE_THRESHOLD, route_group)\n",
    "    if len(subset_routes) > 0:\n",
    "        display(\n",
    "            Markdown(\n",
    "                f\"{CAPTIONS_DICT[route_group]}\"\n",
    "                \"Within each route group, routes are sorted in descending order \"\n",
    "                \"by % competitive trips and # trips below the additional time cut-off.\"\n",
    "            )\n",
    "        )\n",
    "\n",
    "        display(mult)\n",
    "        display(diff)\n",
    "except:\n",
    "    print(\"No routes meet this criteria.\")"
   ]
  },
  {
   "cell_type": "markdown",
   "id": "124b76d0-886c-4d03-92ac-f1bda3cda182",
   "metadata": {
    "papermill": {
     "duration": 0.016355,
     "end_time": "2022-05-07T16:51:51.456033",
     "exception": false,
     "start_time": "2022-05-07T16:51:51.439678",
     "status": "completed"
    },
    "tags": []
   },
   "source": [
    "### Long Routes (> 1.5 hrs)"
   ]
  },
  {
   "cell_type": "code",
   "execution_count": 14,
   "id": "ddc81b19-4c45-4c81-8b7a-5e0f394aa7a3",
   "metadata": {
    "execution": {
     "iopub.execute_input": "2022-05-07T16:51:51.497217Z",
     "iopub.status.busy": "2022-05-07T16:51:51.496825Z",
     "iopub.status.idle": "2022-05-07T16:51:51.518920Z",
     "shell.execute_reply": "2022-05-07T16:51:51.518116Z"
    },
    "jupyter": {
     "source_hidden": true
    },
    "papermill": {
     "duration": 0.047997,
     "end_time": "2022-05-07T16:51:51.520695",
     "exception": false,
     "start_time": "2022-05-07T16:51:51.472698",
     "status": "completed"
    },
    "tags": [
     "remove_input"
    ]
   },
   "outputs": [
    {
     "name": "stdout",
     "output_type": "stream",
     "text": [
      "No routes meet this criteria.\n"
     ]
    }
   ],
   "source": [
    "route_group = \"long\"\n",
    "try:\n",
    "    subset_routes, mult, diff  = setup_charts(df, PCT_COMPETITIVE_THRESHOLD, route_group)\n",
    "    if len(subset_routes) > 0:\n",
    "        display(\n",
    "            Markdown(\n",
    "                f\"{CAPTIONS_DICT[route_group]}\"\n",
    "                \"Within each route group, routes are sorted in descending order \"\n",
    "                \"by % competitive trips and # trips below the additional time cut-off.\"\n",
    "            )\n",
    "        )\n",
    "\n",
    "        display(mult)\n",
    "        display(diff)\n",
    "except:\n",
    "    print(\"No routes meet this criteria.\")"
   ]
  }
 ],
 "metadata": {
  "kernelspec": {
   "display_name": "Python 3 (ipykernel)",
   "language": "python",
   "name": "python3"
  },
  "language_info": {
   "codemirror_mode": {
    "name": "ipython",
    "version": 3
   },
   "file_extension": ".py",
   "mimetype": "text/x-python",
   "name": "python",
   "nbconvert_exporter": "python",
   "pygments_lexer": "ipython3",
   "version": "3.9.12"
  },
  "papermill": {
   "default_parameters": {},
   "duration": 22.674109,
   "end_time": "2022-05-07T16:51:52.772159",
   "environment_variables": {},
   "exception": null,
   "input_path": "bus_service_increase/stripplot.ipynb",
   "output_path": "portfolio/parallel_corridors/district_01-eureka/stripplot__itp_id_159.ipynb",
   "parameters": {
    "district": "01 - Eureka",
    "itp_id": 159
   },
   "start_time": "2022-05-07T16:51:30.098050",
   "version": "2.3.4"
  }
 },
 "nbformat": 4,
 "nbformat_minor": 5
}