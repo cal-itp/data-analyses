{
 "cells": [
  {
   "cell_type": "code",
   "execution_count": 1,
   "id": "95d00857-6a20-4529-a519-2cc7182928a9",
   "metadata": {
    "execution": {
     "iopub.execute_input": "2022-05-08T15:39:56.835162Z",
     "iopub.status.busy": "2022-05-08T15:39:56.834603Z",
     "iopub.status.idle": "2022-05-08T15:40:04.760987Z",
     "shell.execute_reply": "2022-05-08T15:40:04.760133Z"
    },
    "jupyter": {
     "source_hidden": true
    },
    "papermill": {
     "duration": 7.940984,
     "end_time": "2022-05-08T15:40:04.763429",
     "exception": false,
     "start_time": "2022-05-08T15:39:56.822445",
     "status": "completed"
    },
    "tags": [
     "remove_input"
    ]
   },
   "outputs": [],
   "source": [
    "%%capture\n",
    "import warnings\n",
    "warnings.filterwarnings('ignore')\n",
    "\n",
    "import altair as alt\n",
    "import calitp.magics\n",
    "import geopandas as gpd\n",
    "import intake\n",
    "import pandas as pd\n",
    "\n",
    "from IPython.display import display, Markdown, HTML\n",
    "\n",
    "import parallel_corridors_utils\n",
    "from shared_utils import styleguide\n",
    "\n",
    "catalog = intake.open_catalog(\"./*.yml\")\n",
    "alt.renderers.enable(\"html\")"
   ]
  },
  {
   "cell_type": "code",
   "execution_count": 2,
   "id": "8af2a0c1-f3da-408d-9bea-11d9fbf8695d",
   "metadata": {
    "execution": {
     "iopub.execute_input": "2022-05-08T15:40:04.785282Z",
     "iopub.status.busy": "2022-05-08T15:40:04.784980Z",
     "iopub.status.idle": "2022-05-08T15:40:04.789160Z",
     "shell.execute_reply": "2022-05-08T15:40:04.788394Z"
    },
    "jupyter": {
     "source_hidden": true
    },
    "papermill": {
     "duration": 0.017485,
     "end_time": "2022-05-08T15:40:04.791092",
     "exception": false,
     "start_time": "2022-05-08T15:40:04.773607",
     "status": "completed"
    },
    "tags": [
     "parameters",
     "remove_input"
    ]
   },
   "outputs": [],
   "source": [
    "# parameters cell\n",
    "itp_id = 182"
   ]
  },
  {
   "cell_type": "code",
   "execution_count": 3,
   "id": "78a4dc3d",
   "metadata": {
    "execution": {
     "iopub.execute_input": "2022-05-08T15:40:04.812827Z",
     "iopub.status.busy": "2022-05-08T15:40:04.812052Z",
     "iopub.status.idle": "2022-05-08T15:40:04.816029Z",
     "shell.execute_reply": "2022-05-08T15:40:04.815590Z"
    },
    "jupyter": {
     "source_hidden": true
    },
    "papermill": {
     "duration": 0.017015,
     "end_time": "2022-05-08T15:40:04.817620",
     "exception": false,
     "start_time": "2022-05-08T15:40:04.800605",
     "status": "completed"
    },
    "tags": [
     "injected-parameters",
     "remove_input"
    ]
   },
   "outputs": [],
   "source": [
    "# Parameters\n",
    "district = \"01 - Eureka\"\n",
    "itp_id = 198\n"
   ]
  },
  {
   "cell_type": "code",
   "execution_count": 4,
   "id": "9582aaf4-79ff-412a-b248-8d8d693ebd4f",
   "metadata": {
    "execution": {
     "iopub.execute_input": "2022-05-08T15:40:04.839213Z",
     "iopub.status.busy": "2022-05-08T15:40:04.838789Z",
     "iopub.status.idle": "2022-05-08T15:40:06.004864Z",
     "shell.execute_reply": "2022-05-08T15:40:06.003973Z"
    },
    "jupyter": {
     "source_hidden": true
    },
    "papermill": {
     "duration": 1.180105,
     "end_time": "2022-05-08T15:40:06.007362",
     "exception": false,
     "start_time": "2022-05-08T15:40:04.827257",
     "status": "completed"
    },
    "tags": [
     "remove_input"
    ]
   },
   "outputs": [],
   "source": [
    "df = catalog.competitive_route_variability.read()\n",
    "\n",
    "df = (df[(df.calitp_itp_id == itp_id) & \n",
    "         (df.route_group.notna())]\n",
    "      .reset_index(drop=True)\n",
    "     )\n",
    "\n",
    "\n",
    "if itp_id == 182:\n",
    "    df = df.assign(\n",
    "        route_id = df.route_id.str.replace('-13153', '').astype(int)\n",
    "    )"
   ]
  },
  {
   "cell_type": "code",
   "execution_count": 5,
   "id": "33ac4b06-f647-4dce-a625-8f2c1b37cc60",
   "metadata": {
    "execution": {
     "iopub.execute_input": "2022-05-08T15:40:06.030070Z",
     "iopub.status.busy": "2022-05-08T15:40:06.029813Z",
     "iopub.status.idle": "2022-05-08T15:40:06.035392Z",
     "shell.execute_reply": "2022-05-08T15:40:06.034644Z"
    },
    "jupyter": {
     "source_hidden": true
    },
    "papermill": {
     "duration": 0.019617,
     "end_time": "2022-05-08T15:40:06.037930",
     "exception": false,
     "start_time": "2022-05-08T15:40:06.018313",
     "status": "completed"
    },
    "tags": [
     "remove_input"
    ]
   },
   "outputs": [],
   "source": [
    "%%capture_parameters\n",
    "operator_name = df.name.iloc[0]\n",
    "\n",
    "itp_id, operator_name"
   ]
  },
  {
   "cell_type": "markdown",
   "id": "65bc6f5c-8348-42ee-b2dd-52057c406852",
   "metadata": {
    "papermill": {
     "duration": 0.010612,
     "end_time": "2022-05-08T15:40:06.058964",
     "exception": false,
     "start_time": "2022-05-08T15:40:06.048352",
     "status": "completed"
    },
    "tags": []
   },
   "source": [
    "# Mendocino Transit Authority (ITP ID: 198)"
   ]
  },
  {
   "cell_type": "code",
   "execution_count": 6,
   "id": "a689c1ab-2c6c-4831-8d64-897f5986f571",
   "metadata": {
    "execution": {
     "iopub.execute_input": "2022-05-08T15:40:06.080548Z",
     "iopub.status.busy": "2022-05-08T15:40:06.079824Z",
     "iopub.status.idle": "2022-05-08T15:40:06.085448Z",
     "shell.execute_reply": "2022-05-08T15:40:06.084938Z"
    },
    "jupyter": {
     "source_hidden": true
    },
    "papermill": {
     "duration": 0.01805,
     "end_time": "2022-05-08T15:40:06.087061",
     "exception": false,
     "start_time": "2022-05-08T15:40:06.069011",
     "status": "completed"
    },
    "tags": [
     "remove_input"
    ]
   },
   "outputs": [
    {
     "data": {
      "text/html": [
       "<h1>Competitive & Parallel Routes</h1>"
      ],
      "text/plain": [
       "<IPython.core.display.HTML object>"
      ]
     },
     "metadata": {},
     "output_type": "display_data"
    }
   ],
   "source": [
    "display(HTML(\"<h1>Competitive & Parallel Routes</h1>\")) "
   ]
  },
  {
   "cell_type": "code",
   "execution_count": 7,
   "id": "2cb4d8d5-4760-40e4-85b1-cb833d8bb648",
   "metadata": {
    "execution": {
     "iopub.execute_input": "2022-05-08T15:40:06.116300Z",
     "iopub.status.busy": "2022-05-08T15:40:06.115557Z",
     "iopub.status.idle": "2022-05-08T15:40:15.953403Z",
     "shell.execute_reply": "2022-05-08T15:40:15.952722Z"
    },
    "jupyter": {
     "source_hidden": true
    },
    "papermill": {
     "duration": 9.858461,
     "end_time": "2022-05-08T15:40:15.955793",
     "exception": false,
     "start_time": "2022-05-08T15:40:06.097332",
     "status": "completed"
    },
    "tags": [
     "remove_input"
    ]
   },
   "outputs": [],
   "source": [
    "# Grab parameters for narrative text - clean up formatting here \n",
    "district = df.caltrans_district.iloc[0]\n",
    "formatted_date = pd.to_datetime(parallel_corridors_utils.SELECTED_DATE).strftime('%m-%d-%Y')\n",
    "\n",
    "PCT_COMPETITIVE_THRESHOLD = 0.75\n",
    "\n",
    "stats = parallel_corridors_utils.operator_parallel_competitive_stats(\n",
    "    itp_id, PCT_COMPETITIVE_THRESHOLD)\n",
    "\n",
    "pct_parallel = round(stats['parallel_routes'] / stats['num_routes'] * 100,1 )\n",
    "pct_competitive =  round(stats['competitive_routes'] / stats['num_routes'] * 100,1 )"
   ]
  },
  {
   "cell_type": "markdown",
   "id": "ab667928-5274-4490-82d9-4c39293209a4",
   "metadata": {
    "papermill": {
     "duration": 0.010974,
     "end_time": "2022-05-08T15:40:15.978062",
     "exception": false,
     "start_time": "2022-05-08T15:40:15.967088",
     "status": "completed"
    },
    "tags": []
   },
   "source": [
    "## Quick Stats"
   ]
  },
  {
   "cell_type": "code",
   "execution_count": 8,
   "id": "0416509d-dc62-4165-b62e-64f8b26e8b8e",
   "metadata": {
    "execution": {
     "iopub.execute_input": "2022-05-08T15:40:16.001639Z",
     "iopub.status.busy": "2022-05-08T15:40:16.000825Z",
     "iopub.status.idle": "2022-05-08T15:40:16.010574Z",
     "shell.execute_reply": "2022-05-08T15:40:16.010015Z"
    },
    "jupyter": {
     "source_hidden": true
    },
    "papermill": {
     "duration": 0.023411,
     "end_time": "2022-05-08T15:40:16.012188",
     "exception": false,
     "start_time": "2022-05-08T15:40:15.988777",
     "status": "completed"
    },
    "tags": [
     "remove_input"
    ]
   },
   "outputs": [
    {
     "data": {
      "text/markdown": [
       "**Bus routes in service**: 8 <br>**Parallel routes** to State Highway Network (SHN): 7 routes (87.5%)<br>**Competitive routes** against car travel: 4 routes (50.0%)"
      ],
      "text/plain": [
       "<IPython.core.display.Markdown object>"
      ]
     },
     "metadata": {},
     "output_type": "display_data"
    }
   ],
   "source": [
    "display(\n",
    "    Markdown(\n",
    "        f\"**Bus routes in service**: {stats['num_routes']} \"\n",
    "        \"<br>**Parallel routes** to State Highway Network (SHN): \"\n",
    "        f\"{stats['parallel_routes']} routes ({pct_parallel}%)\"\n",
    "        f\"<br>**Competitive routes** against car travel: {stats['competitive_routes']} routes ({pct_competitive}%)\"\n",
    "    )\n",
    ")"
   ]
  },
  {
   "cell_type": "code",
   "execution_count": 9,
   "id": "f9d6ab58-f0ee-460c-b6de-657490e1f386",
   "metadata": {
    "execution": {
     "iopub.execute_input": "2022-05-08T15:40:16.036052Z",
     "iopub.status.busy": "2022-05-08T15:40:16.035440Z",
     "iopub.status.idle": "2022-05-08T15:40:16.045428Z",
     "shell.execute_reply": "2022-05-08T15:40:16.044549Z"
    },
    "jupyter": {
     "source_hidden": true
    },
    "papermill": {
     "duration": 0.0242,
     "end_time": "2022-05-08T15:40:16.047454",
     "exception": false,
     "start_time": "2022-05-08T15:40:16.023254",
     "status": "completed"
    },
    "tags": [
     "remove_input"
    ]
   },
   "outputs": [],
   "source": [
    "def set_yaxis_range(df, y_col):\n",
    "    Y_MIN = df[y_col].min()\n",
    "    Y_MAX = df[y_col].max()\n",
    "    \n",
    "    return Y_MIN, Y_MAX\n",
    "\n",
    "# Rather than set it according to the operator, which can vary,\n",
    "# just use set thresholds for each group\n",
    "diff_cutoffs = parallel_corridors_utils.diff_cutoffs\n",
    "\n",
    "PCT_TRIPS_BELOW_CUTOFF = 0.25\n",
    "\n",
    "def top15_routes(df, route_group):\n",
    "    df2 = (df[df.route_group==route_group])\n",
    "    # Set a cut-off to enable sorting, where most of the trips are \n",
    "    # below a certain time difference cut-off, \n",
    "    # grab top 15 routes where majority of trips are below that cut-off \n",
    "\n",
    "    route_cols = [\"calitp_itp_id\", \"route_id\"]\n",
    "\n",
    "    df2 = df2.assign(\n",
    "        below_cutoff = df2.apply(lambda x: 1 if x.bus_difference <= diff_cutoffs[route_group] \n",
    "                                 else 0, axis=1),\n",
    "        num_trips = df2.groupby(route_cols)[\"trip_id\"].transform(\"count\")\n",
    "    )\n",
    "\n",
    "    df2[\"below_cutoff\"] = df2.groupby(route_cols)[\"below_cutoff\"].transform(\"sum\")\n",
    "    df2[\"pct_below_cutoff\"] = df2.below_cutoff.divide(df2.num_trips)\n",
    "\n",
    "    # At least half the trips are below that cut-off\n",
    "    # but show 15 max, otherwise, show less, since these won't be as interesting to operators\n",
    "    df3 = (df2[df2.pct_below_cutoff >= PCT_TRIPS_BELOW_CUTOFF]\n",
    "           .sort_values([\"calitp_itp_id\", \"below_cutoff\", \n",
    "                         \"pct_below_cutoff\", \"route_id\"],\n",
    "                        ascending = [True, False, False, True]\n",
    "                       )\n",
    "           .drop_duplicates(subset=[\"calitp_itp_id\", \"route_id\"])\n",
    "          ).head(15)\n",
    "    \n",
    "    return list(df3.route_id)"
   ]
  },
  {
   "cell_type": "code",
   "execution_count": 10,
   "id": "cf36d559-3349-4144-8086-8ac9ce937a5a",
   "metadata": {
    "execution": {
     "iopub.execute_input": "2022-05-08T15:40:16.073271Z",
     "iopub.status.busy": "2022-05-08T15:40:16.073020Z",
     "iopub.status.idle": "2022-05-08T15:40:16.079973Z",
     "shell.execute_reply": "2022-05-08T15:40:16.079134Z"
    },
    "jupyter": {
     "source_hidden": true
    },
    "papermill": {
     "duration": 0.02096,
     "end_time": "2022-05-08T15:40:16.081834",
     "exception": false,
     "start_time": "2022-05-08T15:40:16.060874",
     "status": "completed"
    },
    "tags": [
     "remove_input"
    ]
   },
   "outputs": [],
   "source": [
    "short_caption = (\n",
    "    f\"<br>These are routes that have at least {int(PCT_TRIPS_BELOW_CUTOFF*100)}% of their trips \"\n",
    "    f\"take no more than an additional {diff_cutoffs['short']} min compared to a car \"\n",
    "    \"(up to 15 routes) are shown.\"\n",
    ")\n",
    "\n",
    "med_caption = (\n",
    "    f\"<br>These are routes that have at least {int(PCT_TRIPS_BELOW_CUTOFF*100)}% of their trips \"\n",
    "    f\"take no more than an additional {diff_cutoffs['medium']} min compared to a car \"\n",
    "    \"(up to 15 routes) are shown.\"\n",
    ")\n",
    "\n",
    "long_caption = (\n",
    "    f\"<br>These are routes that have at least {int(PCT_TRIPS_BELOW_CUTOFF*100)}% of their trips \"\n",
    "    f\"take no more than an additional {diff_cutoffs['long']} min compared to a car \"\n",
    "    \"(up to 15 routes) are shown.\")\n",
    "\n",
    "\n",
    "CAPTIONS_DICT = {\n",
    "    \"short\": short_caption,\n",
    "    \"medium\": med_caption,\n",
    "    \"long\": long_caption,\n",
    "}"
   ]
  },
  {
   "cell_type": "code",
   "execution_count": 11,
   "id": "e4306d58-6944-47e9-afef-5d5b524c751f",
   "metadata": {
    "execution": {
     "iopub.execute_input": "2022-05-08T15:40:16.111885Z",
     "iopub.status.busy": "2022-05-08T15:40:16.110684Z",
     "iopub.status.idle": "2022-05-08T15:40:16.117900Z",
     "shell.execute_reply": "2022-05-08T15:40:16.117435Z"
    },
    "jupyter": {
     "source_hidden": true
    },
    "papermill": {
     "duration": 0.026693,
     "end_time": "2022-05-08T15:40:16.119604",
     "exception": false,
     "start_time": "2022-05-08T15:40:16.092911",
     "status": "completed"
    },
    "tags": [
     "remove_input"
    ]
   },
   "outputs": [],
   "source": [
    "def setup_charts(df, PCT_COMPETITIVE_THRESHOLD, route_group):\n",
    "    # Set up df for charting (cut-off at some threshold to show most competitive routes)\n",
    "    plot_me = (df[df.pct_trips_competitive > PCT_COMPETITIVE_THRESHOLD]\n",
    "           .drop(columns = \"geometry\")\n",
    "    )\n",
    "    \n",
    "    y_col1 = \"bus_multiplier\"\n",
    "    Y_MIN1, Y_MAX1 = set_yaxis_range(plot_me, y_col1)\n",
    "\n",
    "    y_col2 = \"bus_difference\"\n",
    "    Y_MIN2, Y_MAX2 = set_yaxis_range(plot_me, y_col2)\n",
    "     \n",
    "    subset_routes = top15_routes(plot_me, route_group)\n",
    "    \n",
    "    multiplier_chart = parallel_corridors_utils.make_stripplot(\n",
    "        plot_me[plot_me.route_id.isin(subset_routes)], \n",
    "        y_col1, Y_MIN = Y_MIN1, Y_MAX = Y_MAX1\n",
    "    )\n",
    "    \n",
    "    difference_chart = parallel_corridors_utils.make_stripplot(\n",
    "        plot_me[plot_me.route_id.isin(subset_routes)], \n",
    "        y_col2, Y_MIN = Y_MIN2, Y_MAX = Y_MAX2\n",
    "    )\n",
    "    \n",
    "    return subset_routes, multiplier_chart, difference_chart            "
   ]
  },
  {
   "cell_type": "markdown",
   "id": "525f9b38-072b-46d1-96a8-1aa4b038357c",
   "metadata": {
    "papermill": {
     "duration": 0.010813,
     "end_time": "2022-05-08T15:40:16.142303",
     "exception": false,
     "start_time": "2022-05-08T15:40:16.131490",
     "status": "completed"
    },
    "tags": []
   },
   "source": [
    "## Viable Competitive Routes\n",
    "### Short Routes (< 1 hr)"
   ]
  },
  {
   "cell_type": "code",
   "execution_count": 12,
   "id": "57f7084c-2cf7-45c6-ba08-1609e0bd6ca5",
   "metadata": {
    "execution": {
     "iopub.execute_input": "2022-05-08T15:40:16.166114Z",
     "iopub.status.busy": "2022-05-08T15:40:16.165841Z",
     "iopub.status.idle": "2022-05-08T15:40:16.381666Z",
     "shell.execute_reply": "2022-05-08T15:40:16.380791Z"
    },
    "jupyter": {
     "source_hidden": true
    },
    "papermill": {
     "duration": 0.230692,
     "end_time": "2022-05-08T15:40:16.384057",
     "exception": false,
     "start_time": "2022-05-08T15:40:16.153365",
     "status": "completed"
    },
    "tags": [
     "remove_input"
    ]
   },
   "outputs": [
    {
     "data": {
      "text/markdown": [
       "<br>These are routes that have at least 25% of their trips take no more than an additional 20 min compared to a car (up to 15 routes) are shown.Within each route group, routes are sorted in descending order by % competitive trips and # trips below the additional time cut-off."
      ],
      "text/plain": [
       "<IPython.core.display.Markdown object>"
      ]
     },
     "metadata": {},
     "output_type": "display_data"
    },
    {
     "data": {
      "text/html": [
       "\n",
       "<div id=\"altair-viz-6adce8c721764d6a839edee9a215d26d\"></div>\n",
       "<script type=\"text/javascript\">\n",
       "  var VEGA_DEBUG = (typeof VEGA_DEBUG == \"undefined\") ? {} : VEGA_DEBUG;\n",
       "  (function(spec, embedOpt){\n",
       "    let outputDiv = document.currentScript.previousElementSibling;\n",
       "    if (outputDiv.id !== \"altair-viz-6adce8c721764d6a839edee9a215d26d\") {\n",
       "      outputDiv = document.getElementById(\"altair-viz-6adce8c721764d6a839edee9a215d26d\");\n",
       "    }\n",
       "    const paths = {\n",
       "      \"vega\": \"https://cdn.jsdelivr.net/npm//vega@5?noext\",\n",
       "      \"vega-lib\": \"https://cdn.jsdelivr.net/npm//vega-lib?noext\",\n",
       "      \"vega-lite\": \"https://cdn.jsdelivr.net/npm//vega-lite@4.17.0?noext\",\n",
       "      \"vega-embed\": \"https://cdn.jsdelivr.net/npm//vega-embed@6?noext\",\n",
       "    };\n",
       "\n",
       "    function maybeLoadScript(lib, version) {\n",
       "      var key = `${lib.replace(\"-\", \"\")}_version`;\n",
       "      return (VEGA_DEBUG[key] == version) ?\n",
       "        Promise.resolve(paths[lib]) :\n",
       "        new Promise(function(resolve, reject) {\n",
       "          var s = document.createElement('script');\n",
       "          document.getElementsByTagName(\"head\")[0].appendChild(s);\n",
       "          s.async = true;\n",
       "          s.onload = () => {\n",
       "            VEGA_DEBUG[key] = version;\n",
       "            return resolve(paths[lib]);\n",
       "          };\n",
       "          s.onerror = () => reject(`Error loading script: ${paths[lib]}`);\n",
       "          s.src = paths[lib];\n",
       "        });\n",
       "    }\n",
       "\n",
       "    function showError(err) {\n",
       "      outputDiv.innerHTML = `<div class=\"error\" style=\"color:red;\">${err}</div>`;\n",
       "      throw err;\n",
       "    }\n",
       "\n",
       "    function displayChart(vegaEmbed) {\n",
       "      vegaEmbed(outputDiv, spec, embedOpt)\n",
       "        .catch(err => showError(`Javascript Error: ${err.message}<br>This usually means there's a typo in your chart specification. See the javascript console for the full traceback.`));\n",
       "    }\n",
       "\n",
       "    if(typeof define === \"function\" && define.amd) {\n",
       "      requirejs.config({paths});\n",
       "      require([\"vega-embed\"], displayChart, err => showError(`Error loading script: ${err.message}`));\n",
       "    } else {\n",
       "      maybeLoadScript(\"vega\", \"5\")\n",
       "        .then(() => maybeLoadScript(\"vega-lite\", \"4.17.0\"))\n",
       "        .then(() => maybeLoadScript(\"vega-embed\", \"6\"))\n",
       "        .catch(showError)\n",
       "        .then(() => displayChart(vegaEmbed));\n",
       "    }\n",
       "  })({\"config\": {\"view\": {\"continuousWidth\": 400, \"continuousHeight\": 300, \"stroke\": null}, \"facet\": {\"spacing\": 0}}, \"data\": {\"name\": \"data-6eacc366c1a29a2c848d1cd47e6548e7\"}, \"facet\": {\"column\": {\"field\": \"route_id\", \"sort\": [\"228\", \"232\"], \"title\": \"Route ID\", \"type\": \"nominal\"}}, \"spec\": {\"layer\": [{\"mark\": {\"type\": \"point\", \"opacity\": 0.65, \"size\": 12, \"strokeWidth\": 1.1}, \"encoding\": {\"color\": {\"field\": \"time_of_day\", \"scale\": {\"range\": [\"#136C97\", \"#E16B26\", \"#F6BF16\", \"#00896B\", \"#7790A3\", \"#5B559C\"]}, \"sort\": [\"AM Peak\", \"Midday\", \"PM Peak\", \"Owl Service\"], \"title\": \"Time of Day\", \"type\": \"nominal\"}, \"tooltip\": [{\"field\": \"route_id\", \"type\": \"nominal\"}, {\"field\": \"trip_id\", \"type\": \"nominal\"}, {\"field\": \"service_hours\", \"type\": \"quantitative\"}, {\"field\": \"car_duration_hours\", \"type\": \"quantitative\"}, {\"field\": \"bus_multiplier\", \"type\": \"quantitative\"}, {\"field\": \"bus_difference\", \"type\": \"quantitative\"}, {\"field\": \"num_trips\", \"type\": \"quantitative\"}, {\"field\": \"num_competitive\", \"type\": \"quantitative\"}, {\"field\": \"pct_trips_competitive\", \"type\": \"quantitative\"}, {\"field\": \"p25\", \"type\": \"quantitative\"}, {\"field\": \"p50\", \"type\": \"quantitative\"}, {\"field\": \"p75\", \"type\": \"quantitative\"}], \"x\": {\"axis\": {\"grid\": false, \"labels\": false, \"ticks\": true, \"values\": [0]}, \"field\": \"jitter\", \"scale\": {}, \"title\": null, \"type\": \"quantitative\"}, \"y\": {\"field\": \"bus_multiplier\", \"scale\": {\"domain\": [-0.25, 2.5]}, \"title\": \"Ratio of Bus to Car Travel Time\", \"type\": \"quantitative\"}}, \"selection\": {\"selector001\": {\"type\": \"interval\", \"bind\": \"scales\", \"encodings\": [\"x\", \"y\"]}}, \"transform\": [{\"calculate\": \"sqrt(-2*log(random()))*cos(2*PI*random())\", \"as\": \"jitter\"}], \"width\": 60}, {\"layer\": [{\"mark\": {\"type\": \"point\", \"opacity\": 0.6, \"size\": 20, \"strokeWidth\": 1.3}, \"encoding\": {\"color\": {\"value\": \"#323434\"}, \"y\": {\"field\": \"bus_multiplier\", \"type\": \"quantitative\"}}, \"transform\": [{\"filter\": \"(datum.p50_trip === 1)\"}]}, {\"mark\": {\"type\": \"rule\", \"strokeDash\": [2, 3]}, \"encoding\": {\"color\": {\"value\": \"#323434\"}, \"y\": {\"field\": \"cutoff\", \"type\": \"quantitative\"}}}, {\"mark\": {\"type\": \"text\", \"align\": \"center\", \"baseline\": \"middle\"}, \"encoding\": {\"color\": {\"value\": \"black\"}, \"text\": {\"field\": \"pct_trips_competitive\", \"format\": \".0%\", \"type\": \"quantitative\"}, \"tooltip\": [{\"field\": \"route_id\", \"type\": \"nominal\"}, {\"field\": \"trip_id\", \"type\": \"nominal\"}, {\"field\": \"service_hours\", \"type\": \"quantitative\"}, {\"field\": \"car_duration_hours\", \"type\": \"quantitative\"}, {\"field\": \"bus_multiplier\", \"type\": \"quantitative\"}, {\"field\": \"bus_difference\", \"type\": \"quantitative\"}, {\"field\": \"num_trips\", \"type\": \"quantitative\"}, {\"field\": \"num_competitive\", \"type\": \"quantitative\"}, {\"field\": \"pct_trips_competitive\", \"type\": \"quantitative\"}, {\"field\": \"p25\", \"type\": \"quantitative\"}, {\"field\": \"p50\", \"type\": \"quantitative\"}, {\"field\": \"p75\", \"type\": \"quantitative\"}], \"x\": {\"value\": 30}, \"y\": {\"value\": 15}}, \"transform\": [{\"calculate\": \"sqrt(-2*log(random()))*cos(2*PI*random())\", \"as\": \"jitter\"}, {\"filter\": \"(datum.fastest_trip === 1)\"}]}]}]}, \"resolve\": {\"scale\": {\"y\": \"shared\"}}, \"title\": \"Ratio of Bus to Car Travel Time\", \"$schema\": \"https://vega.github.io/schema/vega-lite/v4.17.0.json\", \"datasets\": {\"data-6eacc366c1a29a2c848d1cd47e6548e7\": [{\"calitp_itp_id\": 198, \"trip_key\": -3821498970512423514, \"trip_id\": \"t_1945535_b_33004_tn_0\", \"shape_id\": \"p_902318\", \"route_id\": \"228\", \"service_hours\": 0.42, \"trip_first_departure_ts\": 46380, \"trip_last_arrival_ts\": 47881, \"departure_hour\": 12, \"time_of_day\": \"Midday\", \"p25\": 0.42, \"p50\": 0.425, \"p75\": 0.43, \"p50_trip\": 1, \"fastest_trip\": 0, \"car_duration_hours\": 0.24, \"competitive_route\": 1, \"bus_multiplier\": 1.75, \"bus_difference\": 10.8, \"num_trips\": 22, \"num_competitive\": 22, \"pct_trips_competitive\": 1.0, \"bus_difference_spread\": 0.6, \"route_group\": \"short\", \"max_trip_hrs\": 0.43, \"max_trip_route_group\": 0.92, \"name\": \"Mendocino Transit Authority\", \"caltrans_district\": \"01 - Eureka\", \"drmt_organization_name\": null, \"cutoff2\": 20, \"cutoff\": 2}, {\"calitp_itp_id\": 198, \"trip_key\": 7165344805685707348, \"trip_id\": \"t_1945537_b_33004_tn_0\", \"shape_id\": \"p_902318\", \"route_id\": \"228\", \"service_hours\": 0.42, \"trip_first_departure_ts\": 57180, \"trip_last_arrival_ts\": 58681, \"departure_hour\": 15, \"time_of_day\": \"Midday\", \"p25\": 0.42, \"p50\": 0.425, \"p75\": 0.43, \"p50_trip\": 1, \"fastest_trip\": 0, \"car_duration_hours\": 0.24, \"competitive_route\": 1, \"bus_multiplier\": 1.75, \"bus_difference\": 10.8, \"num_trips\": 22, \"num_competitive\": 22, \"pct_trips_competitive\": 1.0, \"bus_difference_spread\": 0.6, \"route_group\": \"short\", \"max_trip_hrs\": 0.43, \"max_trip_route_group\": 0.92, \"name\": \"Mendocino Transit Authority\", \"caltrans_district\": \"01 - Eureka\", \"drmt_organization_name\": null, \"cutoff2\": 20, \"cutoff\": 2}, {\"calitp_itp_id\": 198, \"trip_key\": -7302998507075712861, \"trip_id\": \"t_1945538_b_33004_tn_0\", \"shape_id\": \"p_902318\", \"route_id\": \"228\", \"service_hours\": 0.42, \"trip_first_departure_ts\": 60780, \"trip_last_arrival_ts\": 62281, \"departure_hour\": 16, \"time_of_day\": \"Midday\", \"p25\": 0.42, \"p50\": 0.425, \"p75\": 0.43, \"p50_trip\": 1, \"fastest_trip\": 0, \"car_duration_hours\": 0.24, \"competitive_route\": 1, \"bus_multiplier\": 1.75, \"bus_difference\": 10.8, \"num_trips\": 22, \"num_competitive\": 22, \"pct_trips_competitive\": 1.0, \"bus_difference_spread\": 0.6, \"route_group\": \"short\", \"max_trip_hrs\": 0.43, \"max_trip_route_group\": 0.92, \"name\": \"Mendocino Transit Authority\", \"caltrans_district\": \"01 - Eureka\", \"drmt_organization_name\": null, \"cutoff2\": 20, \"cutoff\": 2}, {\"calitp_itp_id\": 198, \"trip_key\": 2690806896856807706, \"trip_id\": \"t_1945536_b_33004_tn_0\", \"shape_id\": \"p_902318\", \"route_id\": \"228\", \"service_hours\": 0.42, \"trip_first_departure_ts\": 53580, \"trip_last_arrival_ts\": 55081, \"departure_hour\": 14, \"time_of_day\": \"Midday\", \"p25\": 0.42, \"p50\": 0.425, \"p75\": 0.43, \"p50_trip\": 1, \"fastest_trip\": 0, \"car_duration_hours\": 0.24, \"competitive_route\": 1, \"bus_multiplier\": 1.75, \"bus_difference\": 10.8, \"num_trips\": 22, \"num_competitive\": 22, \"pct_trips_competitive\": 1.0, \"bus_difference_spread\": 0.6, \"route_group\": \"short\", \"max_trip_hrs\": 0.43, \"max_trip_route_group\": 0.92, \"name\": \"Mendocino Transit Authority\", \"caltrans_district\": \"01 - Eureka\", \"drmt_organization_name\": null, \"cutoff2\": 20, \"cutoff\": 2}, {\"calitp_itp_id\": 198, \"trip_key\": 4106086861605117829, \"trip_id\": \"t_1945553_b_33004_tn_1\", \"shape_id\": \"p_902318\", \"route_id\": \"228\", \"service_hours\": 0.42, \"trip_first_departure_ts\": 31080, \"trip_last_arrival_ts\": 32581, \"departure_hour\": 8, \"time_of_day\": \"AM Peak\", \"p25\": 0.42, \"p50\": 0.425, \"p75\": 0.43, \"p50_trip\": 1, \"fastest_trip\": 0, \"car_duration_hours\": 0.24, \"competitive_route\": 1, \"bus_multiplier\": 1.75, \"bus_difference\": 10.8, \"num_trips\": 22, \"num_competitive\": 22, \"pct_trips_competitive\": 1.0, \"bus_difference_spread\": 0.6, \"route_group\": \"short\", \"max_trip_hrs\": 0.43, \"max_trip_route_group\": 0.92, \"name\": \"Mendocino Transit Authority\", \"caltrans_district\": \"01 - Eureka\", \"drmt_organization_name\": null, \"cutoff2\": 20, \"cutoff\": 2}, {\"calitp_itp_id\": 198, \"trip_key\": -5726019492811257531, \"trip_id\": \"t_1945546_b_33004_tn_0\", \"shape_id\": \"p_902318\", \"route_id\": \"228\", \"service_hours\": 0.42, \"trip_first_departure_ts\": 27480, \"trip_last_arrival_ts\": 28981, \"departure_hour\": 7, \"time_of_day\": \"AM Peak\", \"p25\": 0.42, \"p50\": 0.425, \"p75\": 0.43, \"p50_trip\": 1, \"fastest_trip\": 0, \"car_duration_hours\": 0.24, \"competitive_route\": 1, \"bus_multiplier\": 1.75, \"bus_difference\": 10.8, \"num_trips\": 22, \"num_competitive\": 22, \"pct_trips_competitive\": 1.0, \"bus_difference_spread\": 0.6, \"route_group\": \"short\", \"max_trip_hrs\": 0.43, \"max_trip_route_group\": 0.92, \"name\": \"Mendocino Transit Authority\", \"caltrans_district\": \"01 - Eureka\", \"drmt_organization_name\": null, \"cutoff2\": 20, \"cutoff\": 2}, {\"calitp_itp_id\": 198, \"trip_key\": -4131255246077367673, \"trip_id\": \"t_1945533_b_33004_tn_0\", \"shape_id\": \"p_902318\", \"route_id\": \"228\", \"service_hours\": 0.42, \"trip_first_departure_ts\": 39180, \"trip_last_arrival_ts\": 40681, \"departure_hour\": 10, \"time_of_day\": \"Midday\", \"p25\": 0.42, \"p50\": 0.425, \"p75\": 0.43, \"p50_trip\": 1, \"fastest_trip\": 0, \"car_duration_hours\": 0.24, \"competitive_route\": 1, \"bus_multiplier\": 1.75, \"bus_difference\": 10.8, \"num_trips\": 22, \"num_competitive\": 22, \"pct_trips_competitive\": 1.0, \"bus_difference_spread\": 0.6, \"route_group\": \"short\", \"max_trip_hrs\": 0.43, \"max_trip_route_group\": 0.92, \"name\": \"Mendocino Transit Authority\", \"caltrans_district\": \"01 - Eureka\", \"drmt_organization_name\": null, \"cutoff2\": 20, \"cutoff\": 2}, {\"calitp_itp_id\": 198, \"trip_key\": 4378266072232651454, \"trip_id\": \"t_1945534_b_33004_tn_0\", \"shape_id\": \"p_902318\", \"route_id\": \"228\", \"service_hours\": 0.42, \"trip_first_departure_ts\": 42780, \"trip_last_arrival_ts\": 44281, \"departure_hour\": 11, \"time_of_day\": \"Midday\", \"p25\": 0.42, \"p50\": 0.425, \"p75\": 0.43, \"p50_trip\": 1, \"fastest_trip\": 0, \"car_duration_hours\": 0.24, \"competitive_route\": 1, \"bus_multiplier\": 1.75, \"bus_difference\": 10.8, \"num_trips\": 22, \"num_competitive\": 22, \"pct_trips_competitive\": 1.0, \"bus_difference_spread\": 0.6, \"route_group\": \"short\", \"max_trip_hrs\": 0.43, \"max_trip_route_group\": 0.92, \"name\": \"Mendocino Transit Authority\", \"caltrans_district\": \"01 - Eureka\", \"drmt_organization_name\": null, \"cutoff2\": 20, \"cutoff\": 2}, {\"calitp_itp_id\": 198, \"trip_key\": 2543226735406892914, \"trip_id\": \"t_1945552_b_33004_tn_0\", \"shape_id\": \"p_902318\", \"route_id\": \"228\", \"service_hours\": 0.42, \"trip_first_departure_ts\": 49980, \"trip_last_arrival_ts\": 51481, \"departure_hour\": 13, \"time_of_day\": \"Midday\", \"p25\": 0.42, \"p50\": 0.425, \"p75\": 0.43, \"p50_trip\": 1, \"fastest_trip\": 0, \"car_duration_hours\": 0.24, \"competitive_route\": 1, \"bus_multiplier\": 1.75, \"bus_difference\": 10.8, \"num_trips\": 22, \"num_competitive\": 22, \"pct_trips_competitive\": 1.0, \"bus_difference_spread\": 0.6, \"route_group\": \"short\", \"max_trip_hrs\": 0.43, \"max_trip_route_group\": 0.92, \"name\": \"Mendocino Transit Authority\", \"caltrans_district\": \"01 - Eureka\", \"drmt_organization_name\": null, \"cutoff2\": 20, \"cutoff\": 2}, {\"calitp_itp_id\": 198, \"trip_key\": -2304997739224854707, \"trip_id\": \"t_1945539_b_33004_tn_0\", \"shape_id\": \"p_902318\", \"route_id\": \"228\", \"service_hours\": 0.42, \"trip_first_departure_ts\": 65280, \"trip_last_arrival_ts\": 66781, \"departure_hour\": 18, \"time_of_day\": \"PM Peak\", \"p25\": 0.42, \"p50\": 0.425, \"p75\": 0.43, \"p50_trip\": 1, \"fastest_trip\": 1, \"car_duration_hours\": 0.24, \"competitive_route\": 1, \"bus_multiplier\": 1.75, \"bus_difference\": 10.8, \"num_trips\": 22, \"num_competitive\": 22, \"pct_trips_competitive\": 1.0, \"bus_difference_spread\": 0.6, \"route_group\": \"short\", \"max_trip_hrs\": 0.43, \"max_trip_route_group\": 0.92, \"name\": \"Mendocino Transit Authority\", \"caltrans_district\": \"01 - Eureka\", \"drmt_organization_name\": null, \"cutoff2\": 20, \"cutoff\": 2}, {\"calitp_itp_id\": 198, \"trip_key\": -1717090652485994299, \"trip_id\": \"t_1945551_b_33004_tn_0\", \"shape_id\": \"p_902318\", \"route_id\": \"228\", \"service_hours\": 0.42, \"trip_first_departure_ts\": 35580, \"trip_last_arrival_ts\": 37081, \"departure_hour\": 9, \"time_of_day\": \"AM Peak\", \"p25\": 0.42, \"p50\": 0.425, \"p75\": 0.43, \"p50_trip\": 1, \"fastest_trip\": 0, \"car_duration_hours\": 0.24, \"competitive_route\": 1, \"bus_multiplier\": 1.75, \"bus_difference\": 10.8, \"num_trips\": 22, \"num_competitive\": 22, \"pct_trips_competitive\": 1.0, \"bus_difference_spread\": 0.6, \"route_group\": \"short\", \"max_trip_hrs\": 0.43, \"max_trip_route_group\": 0.92, \"name\": \"Mendocino Transit Authority\", \"caltrans_district\": \"01 - Eureka\", \"drmt_organization_name\": null, \"cutoff2\": 20, \"cutoff\": 2}, {\"calitp_itp_id\": 198, \"trip_key\": 4710620586573080810, \"trip_id\": \"t_1945509_b_33004_tn_0\", \"shape_id\": \"p_3117\", \"route_id\": \"228\", \"service_hours\": 0.43, \"trip_first_departure_ts\": 37620, \"trip_last_arrival_ts\": 39180, \"departure_hour\": 10, \"time_of_day\": \"Midday\", \"p25\": 0.42, \"p50\": 0.425, \"p75\": 0.43, \"p50_trip\": 1, \"fastest_trip\": 0, \"car_duration_hours\": 0.24, \"competitive_route\": 1, \"bus_multiplier\": 1.79, \"bus_difference\": 11.4, \"num_trips\": 22, \"num_competitive\": 22, \"pct_trips_competitive\": 1.0, \"bus_difference_spread\": 0.6, \"route_group\": \"short\", \"max_trip_hrs\": 0.43, \"max_trip_route_group\": 0.92, \"name\": \"Mendocino Transit Authority\", \"caltrans_district\": \"01 - Eureka\", \"drmt_organization_name\": null, \"cutoff2\": 20, \"cutoff\": 2}, {\"calitp_itp_id\": 198, \"trip_key\": -3545396434068254968, \"trip_id\": \"t_1945512_b_33004_tn_0\", \"shape_id\": \"p_3117\", \"route_id\": \"228\", \"service_hours\": 0.43, \"trip_first_departure_ts\": 52020, \"trip_last_arrival_ts\": 53580, \"departure_hour\": 14, \"time_of_day\": \"Midday\", \"p25\": 0.42, \"p50\": 0.425, \"p75\": 0.43, \"p50_trip\": 1, \"fastest_trip\": 0, \"car_duration_hours\": 0.24, \"competitive_route\": 1, \"bus_multiplier\": 1.79, \"bus_difference\": 11.4, \"num_trips\": 22, \"num_competitive\": 22, \"pct_trips_competitive\": 1.0, \"bus_difference_spread\": 0.6, \"route_group\": \"short\", \"max_trip_hrs\": 0.43, \"max_trip_route_group\": 0.92, \"name\": \"Mendocino Transit Authority\", \"caltrans_district\": \"01 - Eureka\", \"drmt_organization_name\": null, \"cutoff2\": 20, \"cutoff\": 2}, {\"calitp_itp_id\": 198, \"trip_key\": 4155892938799833111, \"trip_id\": \"t_1945549_b_33004_tn_0\", \"shape_id\": \"p_3117\", \"route_id\": \"228\", \"service_hours\": 0.43, \"trip_first_departure_ts\": 48420, \"trip_last_arrival_ts\": 49980, \"departure_hour\": 13, \"time_of_day\": \"Midday\", \"p25\": 0.42, \"p50\": 0.425, \"p75\": 0.43, \"p50_trip\": 1, \"fastest_trip\": 0, \"car_duration_hours\": 0.24, \"competitive_route\": 1, \"bus_multiplier\": 1.79, \"bus_difference\": 11.4, \"num_trips\": 22, \"num_competitive\": 22, \"pct_trips_competitive\": 1.0, \"bus_difference_spread\": 0.6, \"route_group\": \"short\", \"max_trip_hrs\": 0.43, \"max_trip_route_group\": 0.92, \"name\": \"Mendocino Transit Authority\", \"caltrans_district\": \"01 - Eureka\", \"drmt_organization_name\": null, \"cutoff2\": 20, \"cutoff\": 2}, {\"calitp_itp_id\": 198, \"trip_key\": -5255804148381983774, \"trip_id\": \"t_1945515_b_33004_tn_0\", \"shape_id\": \"p_3117\", \"route_id\": \"228\", \"service_hours\": 0.43, \"trip_first_departure_ts\": 63720, \"trip_last_arrival_ts\": 65280, \"departure_hour\": 17, \"time_of_day\": \"PM Peak\", \"p25\": 0.42, \"p50\": 0.425, \"p75\": 0.43, \"p50_trip\": 1, \"fastest_trip\": 0, \"car_duration_hours\": 0.24, \"competitive_route\": 1, \"bus_multiplier\": 1.79, \"bus_difference\": 11.4, \"num_trips\": 22, \"num_competitive\": 22, \"pct_trips_competitive\": 1.0, \"bus_difference_spread\": 0.6, \"route_group\": \"short\", \"max_trip_hrs\": 0.43, \"max_trip_route_group\": 0.92, \"name\": \"Mendocino Transit Authority\", \"caltrans_district\": \"01 - Eureka\", \"drmt_organization_name\": null, \"cutoff2\": 20, \"cutoff\": 2}, {\"calitp_itp_id\": 198, \"trip_key\": -2613195794047038066, \"trip_id\": \"t_1945511_b_33004_tn_0\", \"shape_id\": \"p_3117\", \"route_id\": \"228\", \"service_hours\": 0.43, \"trip_first_departure_ts\": 44820, \"trip_last_arrival_ts\": 46380, \"departure_hour\": 12, \"time_of_day\": \"Midday\", \"p25\": 0.42, \"p50\": 0.425, \"p75\": 0.43, \"p50_trip\": 1, \"fastest_trip\": 0, \"car_duration_hours\": 0.24, \"competitive_route\": 1, \"bus_multiplier\": 1.79, \"bus_difference\": 11.4, \"num_trips\": 22, \"num_competitive\": 22, \"pct_trips_competitive\": 1.0, \"bus_difference_spread\": 0.6, \"route_group\": \"short\", \"max_trip_hrs\": 0.43, \"max_trip_route_group\": 0.92, \"name\": \"Mendocino Transit Authority\", \"caltrans_district\": \"01 - Eureka\", \"drmt_organization_name\": null, \"cutoff2\": 20, \"cutoff\": 2}, {\"calitp_itp_id\": 198, \"trip_key\": 2647717210138946807, \"trip_id\": \"t_1945513_b_33004_tn_0\", \"shape_id\": \"p_3117\", \"route_id\": \"228\", \"service_hours\": 0.43, \"trip_first_departure_ts\": 55620, \"trip_last_arrival_ts\": 57180, \"departure_hour\": 15, \"time_of_day\": \"Midday\", \"p25\": 0.42, \"p50\": 0.425, \"p75\": 0.43, \"p50_trip\": 1, \"fastest_trip\": 0, \"car_duration_hours\": 0.24, \"competitive_route\": 1, \"bus_multiplier\": 1.79, \"bus_difference\": 11.4, \"num_trips\": 22, \"num_competitive\": 22, \"pct_trips_competitive\": 1.0, \"bus_difference_spread\": 0.6, \"route_group\": \"short\", \"max_trip_hrs\": 0.43, \"max_trip_route_group\": 0.92, \"name\": \"Mendocino Transit Authority\", \"caltrans_district\": \"01 - Eureka\", \"drmt_organization_name\": null, \"cutoff2\": 20, \"cutoff\": 2}, {\"calitp_itp_id\": 198, \"trip_key\": 958336978338138413, \"trip_id\": \"t_1945550_b_33004_tn_0\", \"shape_id\": \"p_3117\", \"route_id\": \"228\", \"service_hours\": 0.43, \"trip_first_departure_ts\": 34020, \"trip_last_arrival_ts\": 35580, \"departure_hour\": 9, \"time_of_day\": \"AM Peak\", \"p25\": 0.42, \"p50\": 0.425, \"p75\": 0.43, \"p50_trip\": 1, \"fastest_trip\": 0, \"car_duration_hours\": 0.24, \"competitive_route\": 1, \"bus_multiplier\": 1.79, \"bus_difference\": 11.4, \"num_trips\": 22, \"num_competitive\": 22, \"pct_trips_competitive\": 1.0, \"bus_difference_spread\": 0.6, \"route_group\": \"short\", \"max_trip_hrs\": 0.43, \"max_trip_route_group\": 0.92, \"name\": \"Mendocino Transit Authority\", \"caltrans_district\": \"01 - Eureka\", \"drmt_organization_name\": null, \"cutoff2\": 20, \"cutoff\": 2}, {\"calitp_itp_id\": 198, \"trip_key\": -2727218293918899080, \"trip_id\": \"t_1945545_b_33004_tn_0\", \"shape_id\": \"p_3117\", \"route_id\": \"228\", \"service_hours\": 0.43, \"trip_first_departure_ts\": 25920, \"trip_last_arrival_ts\": 27480, \"departure_hour\": 7, \"time_of_day\": \"AM Peak\", \"p25\": 0.42, \"p50\": 0.425, \"p75\": 0.43, \"p50_trip\": 1, \"fastest_trip\": 0, \"car_duration_hours\": 0.24, \"competitive_route\": 1, \"bus_multiplier\": 1.79, \"bus_difference\": 11.4, \"num_trips\": 22, \"num_competitive\": 22, \"pct_trips_competitive\": 1.0, \"bus_difference_spread\": 0.6, \"route_group\": \"short\", \"max_trip_hrs\": 0.43, \"max_trip_route_group\": 0.92, \"name\": \"Mendocino Transit Authority\", \"caltrans_district\": \"01 - Eureka\", \"drmt_organization_name\": null, \"cutoff2\": 20, \"cutoff\": 2}, {\"calitp_itp_id\": 198, \"trip_key\": -7860257494144024374, \"trip_id\": \"t_1945510_b_33004_tn_0\", \"shape_id\": \"p_3117\", \"route_id\": \"228\", \"service_hours\": 0.43, \"trip_first_departure_ts\": 41220, \"trip_last_arrival_ts\": 42780, \"departure_hour\": 11, \"time_of_day\": \"Midday\", \"p25\": 0.42, \"p50\": 0.425, \"p75\": 0.43, \"p50_trip\": 1, \"fastest_trip\": 0, \"car_duration_hours\": 0.24, \"competitive_route\": 1, \"bus_multiplier\": 1.79, \"bus_difference\": 11.4, \"num_trips\": 22, \"num_competitive\": 22, \"pct_trips_competitive\": 1.0, \"bus_difference_spread\": 0.6, \"route_group\": \"short\", \"max_trip_hrs\": 0.43, \"max_trip_route_group\": 0.92, \"name\": \"Mendocino Transit Authority\", \"caltrans_district\": \"01 - Eureka\", \"drmt_organization_name\": null, \"cutoff2\": 20, \"cutoff\": 2}, {\"calitp_itp_id\": 198, \"trip_key\": -6576238807823169045, \"trip_id\": \"t_1945514_b_33004_tn_0\", \"shape_id\": \"p_3117\", \"route_id\": \"228\", \"service_hours\": 0.43, \"trip_first_departure_ts\": 59220, \"trip_last_arrival_ts\": 60780, \"departure_hour\": 16, \"time_of_day\": \"Midday\", \"p25\": 0.42, \"p50\": 0.425, \"p75\": 0.43, \"p50_trip\": 1, \"fastest_trip\": 0, \"car_duration_hours\": 0.24, \"competitive_route\": 1, \"bus_multiplier\": 1.79, \"bus_difference\": 11.4, \"num_trips\": 22, \"num_competitive\": 22, \"pct_trips_competitive\": 1.0, \"bus_difference_spread\": 0.6, \"route_group\": \"short\", \"max_trip_hrs\": 0.43, \"max_trip_route_group\": 0.92, \"name\": \"Mendocino Transit Authority\", \"caltrans_district\": \"01 - Eureka\", \"drmt_organization_name\": null, \"cutoff2\": 20, \"cutoff\": 2}, {\"calitp_itp_id\": 198, \"trip_key\": 5064161551853401997, \"trip_id\": \"t_1945548_b_33004_tn_1\", \"shape_id\": \"p_3117\", \"route_id\": \"228\", \"service_hours\": 0.43, \"trip_first_departure_ts\": 29520, \"trip_last_arrival_ts\": 31080, \"departure_hour\": 8, \"time_of_day\": \"AM Peak\", \"p25\": 0.42, \"p50\": 0.425, \"p75\": 0.43, \"p50_trip\": 1, \"fastest_trip\": 0, \"car_duration_hours\": 0.24, \"competitive_route\": 1, \"bus_multiplier\": 1.79, \"bus_difference\": 11.4, \"num_trips\": 22, \"num_competitive\": 22, \"pct_trips_competitive\": 1.0, \"bus_difference_spread\": 0.6, \"route_group\": \"short\", \"max_trip_hrs\": 0.43, \"max_trip_route_group\": 0.92, \"name\": \"Mendocino Transit Authority\", \"caltrans_district\": \"01 - Eureka\", \"drmt_organization_name\": null, \"cutoff2\": 20, \"cutoff\": 2}, {\"calitp_itp_id\": 198, \"trip_key\": 6407799142247012981, \"trip_id\": \"t_1945566_b_33004_tn_0\", \"shape_id\": \"p_1276513\", \"route_id\": \"232\", \"service_hours\": 0.65, \"trip_first_departure_ts\": 25440, \"trip_last_arrival_ts\": 27780, \"departure_hour\": 7, \"time_of_day\": \"AM Peak\", \"p25\": 0.71, \"p50\": 0.79, \"p75\": 0.8274999999999999, \"p50_trip\": 0, \"fastest_trip\": 1, \"car_duration_hours\": 0.47, \"competitive_route\": 1, \"bus_multiplier\": 1.38, \"bus_difference\": 10.8, \"num_trips\": 12, \"num_competitive\": 12, \"pct_trips_competitive\": 1.0, \"bus_difference_spread\": 12.0, \"route_group\": \"short\", \"max_trip_hrs\": 0.85, \"max_trip_route_group\": 0.92, \"name\": \"Mendocino Transit Authority\", \"caltrans_district\": \"01 - Eureka\", \"drmt_organization_name\": null, \"cutoff2\": 20, \"cutoff\": 2}, {\"calitp_itp_id\": 198, \"trip_key\": 7874311545554239664, \"trip_id\": \"t_1945504_b_33004_tn_0\", \"shape_id\": \"p_899413\", \"route_id\": \"232\", \"service_hours\": 0.67, \"trip_first_departure_ts\": 28080, \"trip_last_arrival_ts\": 30480, \"departure_hour\": 7, \"time_of_day\": \"AM Peak\", \"p25\": 0.71, \"p50\": 0.79, \"p75\": 0.8274999999999999, \"p50_trip\": 0, \"fastest_trip\": 0, \"car_duration_hours\": 0.47, \"competitive_route\": 1, \"bus_multiplier\": 1.43, \"bus_difference\": 12.0, \"num_trips\": 12, \"num_competitive\": 12, \"pct_trips_competitive\": 1.0, \"bus_difference_spread\": 12.0, \"route_group\": \"short\", \"max_trip_hrs\": 0.85, \"max_trip_route_group\": 0.92, \"name\": \"Mendocino Transit Authority\", \"caltrans_district\": \"01 - Eureka\", \"drmt_organization_name\": null, \"cutoff2\": 20, \"cutoff\": 2}, {\"calitp_itp_id\": 198, \"trip_key\": -415892452663826652, \"trip_id\": \"t_1945564_b_33004_tn_0\", \"shape_id\": \"p_1276515\", \"route_id\": \"232\", \"service_hours\": 0.68, \"trip_first_departure_ts\": 29880, \"trip_last_arrival_ts\": 32340, \"departure_hour\": 8, \"time_of_day\": \"AM Peak\", \"p25\": 0.71, \"p50\": 0.79, \"p75\": 0.8274999999999999, \"p50_trip\": 0, \"fastest_trip\": 0, \"car_duration_hours\": 0.47, \"competitive_route\": 1, \"bus_multiplier\": 1.45, \"bus_difference\": 12.6, \"num_trips\": 12, \"num_competitive\": 12, \"pct_trips_competitive\": 1.0, \"bus_difference_spread\": 12.0, \"route_group\": \"short\", \"max_trip_hrs\": 0.85, \"max_trip_route_group\": 0.92, \"name\": \"Mendocino Transit Authority\", \"caltrans_district\": \"01 - Eureka\", \"drmt_organization_name\": null, \"cutoff2\": 20, \"cutoff\": 2}, {\"calitp_itp_id\": 198, \"trip_key\": 2406590054658703546, \"trip_id\": \"t_1945505_b_33004_tn_0\", \"shape_id\": \"p_899415\", \"route_id\": \"232\", \"service_hours\": 0.72, \"trip_first_departure_ts\": 60000, \"trip_last_arrival_ts\": 62580, \"departure_hour\": 16, \"time_of_day\": \"Midday\", \"p25\": 0.71, \"p50\": 0.79, \"p75\": 0.8274999999999999, \"p50_trip\": 0, \"fastest_trip\": 0, \"car_duration_hours\": 0.47, \"competitive_route\": 1, \"bus_multiplier\": 1.53, \"bus_difference\": 15.0, \"num_trips\": 12, \"num_competitive\": 12, \"pct_trips_competitive\": 1.0, \"bus_difference_spread\": 12.0, \"route_group\": \"short\", \"max_trip_hrs\": 0.85, \"max_trip_route_group\": 0.92, \"name\": \"Mendocino Transit Authority\", \"caltrans_district\": \"01 - Eureka\", \"drmt_organization_name\": null, \"cutoff2\": 20, \"cutoff\": 2}, {\"calitp_itp_id\": 198, \"trip_key\": -2952627637866517054, \"trip_id\": \"t_1945567_b_33004_tn_0\", \"shape_id\": \"p_1276520\", \"route_id\": \"232\", \"service_hours\": 0.75, \"trip_first_departure_ts\": 64200, \"trip_last_arrival_ts\": 66900, \"departure_hour\": 17, \"time_of_day\": \"PM Peak\", \"p25\": 0.71, \"p50\": 0.79, \"p75\": 0.8274999999999999, \"p50_trip\": 0, \"fastest_trip\": 0, \"car_duration_hours\": 0.47, \"competitive_route\": 1, \"bus_multiplier\": 1.6, \"bus_difference\": 16.8, \"num_trips\": 12, \"num_competitive\": 12, \"pct_trips_competitive\": 1.0, \"bus_difference_spread\": 12.0, \"route_group\": \"short\", \"max_trip_hrs\": 0.85, \"max_trip_route_group\": 0.92, \"name\": \"Mendocino Transit Authority\", \"caltrans_district\": \"01 - Eureka\", \"drmt_organization_name\": null, \"cutoff2\": 20, \"cutoff\": 2}, {\"calitp_itp_id\": 198, \"trip_key\": 300015568609234889, \"trip_id\": \"t_1945506_b_33004_tn_0\", \"shape_id\": \"p_899411\", \"route_id\": \"232\", \"service_hours\": 0.78, \"trip_first_departure_ts\": 56700, \"trip_last_arrival_ts\": 59520, \"departure_hour\": 15, \"time_of_day\": \"Midday\", \"p25\": 0.71, \"p50\": 0.79, \"p75\": 0.8274999999999999, \"p50_trip\": 1, \"fastest_trip\": 0, \"car_duration_hours\": 0.47, \"competitive_route\": 1, \"bus_multiplier\": 1.66, \"bus_difference\": 18.6, \"num_trips\": 12, \"num_competitive\": 12, \"pct_trips_competitive\": 1.0, \"bus_difference_spread\": 12.0, \"route_group\": \"short\", \"max_trip_hrs\": 0.85, \"max_trip_route_group\": 0.92, \"name\": \"Mendocino Transit Authority\", \"caltrans_district\": \"01 - Eureka\", \"drmt_organization_name\": null, \"cutoff2\": 20, \"cutoff\": 2}, {\"calitp_itp_id\": 198, \"trip_key\": -1911337367374937544, \"trip_id\": \"t_1945565_b_33004_tn_0\", \"shape_id\": \"p_111346\", \"route_id\": \"232\", \"service_hours\": 0.8, \"trip_first_departure_ts\": 41100, \"trip_last_arrival_ts\": 43980, \"departure_hour\": 11, \"time_of_day\": \"Midday\", \"p25\": 0.71, \"p50\": 0.79, \"p75\": 0.8274999999999999, \"p50_trip\": 1, \"fastest_trip\": 0, \"car_duration_hours\": 0.47, \"competitive_route\": 1, \"bus_multiplier\": 1.7, \"bus_difference\": 19.8, \"num_trips\": 12, \"num_competitive\": 12, \"pct_trips_competitive\": 1.0, \"bus_difference_spread\": 12.0, \"route_group\": \"short\", \"max_trip_hrs\": 0.85, \"max_trip_route_group\": 0.92, \"name\": \"Mendocino Transit Authority\", \"caltrans_district\": \"01 - Eureka\", \"drmt_organization_name\": null, \"cutoff2\": 20, \"cutoff\": 2}, {\"calitp_itp_id\": 198, \"trip_key\": -2471638137922488736, \"trip_id\": \"t_1945543_b_33004_tn_0\", \"shape_id\": \"p_8785\", \"route_id\": \"232\", \"service_hours\": 0.8, \"trip_first_departure_ts\": 48300, \"trip_last_arrival_ts\": 51180, \"departure_hour\": 13, \"time_of_day\": \"Midday\", \"p25\": 0.71, \"p50\": 0.79, \"p75\": 0.8274999999999999, \"p50_trip\": 1, \"fastest_trip\": 0, \"car_duration_hours\": 0.47, \"competitive_route\": 1, \"bus_multiplier\": 1.7, \"bus_difference\": 19.8, \"num_trips\": 12, \"num_competitive\": 12, \"pct_trips_competitive\": 1.0, \"bus_difference_spread\": 12.0, \"route_group\": \"short\", \"max_trip_hrs\": 0.85, \"max_trip_route_group\": 0.92, \"name\": \"Mendocino Transit Authority\", \"caltrans_district\": \"01 - Eureka\", \"drmt_organization_name\": null, \"cutoff2\": 20, \"cutoff\": 2}, {\"calitp_itp_id\": 198, \"trip_key\": 8389865155287738912, \"trip_id\": \"t_1945568_b_33004_tn_0\", \"shape_id\": \"p_1276522\", \"route_id\": \"232\", \"service_hours\": 0.82, \"trip_first_departure_ts\": 24660, \"trip_last_arrival_ts\": 27600, \"departure_hour\": 6, \"time_of_day\": \"Owl Service\", \"p25\": 0.71, \"p50\": 0.79, \"p75\": 0.8274999999999999, \"p50_trip\": 0, \"fastest_trip\": 0, \"car_duration_hours\": 0.47, \"competitive_route\": 1, \"bus_multiplier\": 1.74, \"bus_difference\": 21.0, \"num_trips\": 12, \"num_competitive\": 12, \"pct_trips_competitive\": 1.0, \"bus_difference_spread\": 12.0, \"route_group\": \"short\", \"max_trip_hrs\": 0.85, \"max_trip_route_group\": 0.92, \"name\": \"Mendocino Transit Authority\", \"caltrans_district\": \"01 - Eureka\", \"drmt_organization_name\": null, \"cutoff2\": 20, \"cutoff\": 2}, {\"calitp_itp_id\": 198, \"trip_key\": 8939757218210664718, \"trip_id\": \"t_1945507_b_33004_tn_0\", \"shape_id\": \"p_1276522\", \"route_id\": \"232\", \"service_hours\": 0.85, \"trip_first_departure_ts\": 44340, \"trip_last_arrival_ts\": 47400, \"departure_hour\": 12, \"time_of_day\": \"Midday\", \"p25\": 0.71, \"p50\": 0.79, \"p75\": 0.8274999999999999, \"p50_trip\": 0, \"fastest_trip\": 0, \"car_duration_hours\": 0.47, \"competitive_route\": 1, \"bus_multiplier\": 1.81, \"bus_difference\": 22.8, \"num_trips\": 12, \"num_competitive\": 12, \"pct_trips_competitive\": 1.0, \"bus_difference_spread\": 12.0, \"route_group\": \"short\", \"max_trip_hrs\": 0.85, \"max_trip_route_group\": 0.92, \"name\": \"Mendocino Transit Authority\", \"caltrans_district\": \"01 - Eureka\", \"drmt_organization_name\": null, \"cutoff2\": 20, \"cutoff\": 2}, {\"calitp_itp_id\": 198, \"trip_key\": -2734594082350485790, \"trip_id\": \"t_1945544_b_33004_tn_0\", \"shape_id\": \"p_1276522\", \"route_id\": \"232\", \"service_hours\": 0.85, \"trip_first_departure_ts\": 33840, \"trip_last_arrival_ts\": 36900, \"departure_hour\": 9, \"time_of_day\": \"AM Peak\", \"p25\": 0.71, \"p50\": 0.79, \"p75\": 0.8274999999999999, \"p50_trip\": 0, \"fastest_trip\": 0, \"car_duration_hours\": 0.47, \"competitive_route\": 1, \"bus_multiplier\": 1.81, \"bus_difference\": 22.8, \"num_trips\": 12, \"num_competitive\": 12, \"pct_trips_competitive\": 1.0, \"bus_difference_spread\": 12.0, \"route_group\": \"short\", \"max_trip_hrs\": 0.85, \"max_trip_route_group\": 0.92, \"name\": \"Mendocino Transit Authority\", \"caltrans_district\": \"01 - Eureka\", \"drmt_organization_name\": null, \"cutoff2\": 20, \"cutoff\": 2}, {\"calitp_itp_id\": 198, \"trip_key\": -3562096048323000906, \"trip_id\": \"t_1945508_b_33004_tn_0\", \"shape_id\": \"p_1276523\", \"route_id\": \"232\", \"service_hours\": 0.85, \"trip_first_departure_ts\": 53940, \"trip_last_arrival_ts\": 57000, \"departure_hour\": 14, \"time_of_day\": \"Midday\", \"p25\": 0.71, \"p50\": 0.79, \"p75\": 0.8274999999999999, \"p50_trip\": 0, \"fastest_trip\": 0, \"car_duration_hours\": 0.47, \"competitive_route\": 1, \"bus_multiplier\": 1.81, \"bus_difference\": 22.8, \"num_trips\": 12, \"num_competitive\": 12, \"pct_trips_competitive\": 1.0, \"bus_difference_spread\": 12.0, \"route_group\": \"short\", \"max_trip_hrs\": 0.85, \"max_trip_route_group\": 0.92, \"name\": \"Mendocino Transit Authority\", \"caltrans_district\": \"01 - Eureka\", \"drmt_organization_name\": null, \"cutoff2\": 20, \"cutoff\": 2}]}}, {\"mode\": \"vega-lite\"});\n",
       "</script>"
      ],
      "text/plain": [
       "alt.FacetChart(...)"
      ]
     },
     "metadata": {},
     "output_type": "display_data"
    },
    {
     "data": {
      "text/html": [
       "\n",
       "<div id=\"altair-viz-a87859915b6a4acfa549592a8e9be0d4\"></div>\n",
       "<script type=\"text/javascript\">\n",
       "  var VEGA_DEBUG = (typeof VEGA_DEBUG == \"undefined\") ? {} : VEGA_DEBUG;\n",
       "  (function(spec, embedOpt){\n",
       "    let outputDiv = document.currentScript.previousElementSibling;\n",
       "    if (outputDiv.id !== \"altair-viz-a87859915b6a4acfa549592a8e9be0d4\") {\n",
       "      outputDiv = document.getElementById(\"altair-viz-a87859915b6a4acfa549592a8e9be0d4\");\n",
       "    }\n",
       "    const paths = {\n",
       "      \"vega\": \"https://cdn.jsdelivr.net/npm//vega@5?noext\",\n",
       "      \"vega-lib\": \"https://cdn.jsdelivr.net/npm//vega-lib?noext\",\n",
       "      \"vega-lite\": \"https://cdn.jsdelivr.net/npm//vega-lite@4.17.0?noext\",\n",
       "      \"vega-embed\": \"https://cdn.jsdelivr.net/npm//vega-embed@6?noext\",\n",
       "    };\n",
       "\n",
       "    function maybeLoadScript(lib, version) {\n",
       "      var key = `${lib.replace(\"-\", \"\")}_version`;\n",
       "      return (VEGA_DEBUG[key] == version) ?\n",
       "        Promise.resolve(paths[lib]) :\n",
       "        new Promise(function(resolve, reject) {\n",
       "          var s = document.createElement('script');\n",
       "          document.getElementsByTagName(\"head\")[0].appendChild(s);\n",
       "          s.async = true;\n",
       "          s.onload = () => {\n",
       "            VEGA_DEBUG[key] = version;\n",
       "            return resolve(paths[lib]);\n",
       "          };\n",
       "          s.onerror = () => reject(`Error loading script: ${paths[lib]}`);\n",
       "          s.src = paths[lib];\n",
       "        });\n",
       "    }\n",
       "\n",
       "    function showError(err) {\n",
       "      outputDiv.innerHTML = `<div class=\"error\" style=\"color:red;\">${err}</div>`;\n",
       "      throw err;\n",
       "    }\n",
       "\n",
       "    function displayChart(vegaEmbed) {\n",
       "      vegaEmbed(outputDiv, spec, embedOpt)\n",
       "        .catch(err => showError(`Javascript Error: ${err.message}<br>This usually means there's a typo in your chart specification. See the javascript console for the full traceback.`));\n",
       "    }\n",
       "\n",
       "    if(typeof define === \"function\" && define.amd) {\n",
       "      requirejs.config({paths});\n",
       "      require([\"vega-embed\"], displayChart, err => showError(`Error loading script: ${err.message}`));\n",
       "    } else {\n",
       "      maybeLoadScript(\"vega\", \"5\")\n",
       "        .then(() => maybeLoadScript(\"vega-lite\", \"4.17.0\"))\n",
       "        .then(() => maybeLoadScript(\"vega-embed\", \"6\"))\n",
       "        .catch(showError)\n",
       "        .then(() => displayChart(vegaEmbed));\n",
       "    }\n",
       "  })({\"config\": {\"view\": {\"continuousWidth\": 400, \"continuousHeight\": 300, \"stroke\": null}, \"facet\": {\"spacing\": 0}}, \"data\": {\"name\": \"data-7ad29a6083f26b6000a1407d025623ff\"}, \"facet\": {\"column\": {\"field\": \"route_id\", \"sort\": [\"228\", \"232\"], \"title\": \"Route ID\", \"type\": \"nominal\"}}, \"spec\": {\"layer\": [{\"mark\": {\"type\": \"point\", \"opacity\": 0.65, \"size\": 12, \"strokeWidth\": 1.1}, \"encoding\": {\"color\": {\"field\": \"time_of_day\", \"scale\": {\"range\": [\"#136C97\", \"#E16B26\", \"#F6BF16\", \"#00896B\", \"#7790A3\", \"#5B559C\"]}, \"sort\": [\"AM Peak\", \"Midday\", \"PM Peak\", \"Owl Service\"], \"title\": \"Time of Day\", \"type\": \"nominal\"}, \"tooltip\": [{\"field\": \"route_id\", \"type\": \"nominal\"}, {\"field\": \"trip_id\", \"type\": \"nominal\"}, {\"field\": \"service_hours\", \"type\": \"quantitative\"}, {\"field\": \"car_duration_hours\", \"type\": \"quantitative\"}, {\"field\": \"bus_multiplier\", \"type\": \"quantitative\"}, {\"field\": \"bus_difference\", \"type\": \"quantitative\"}, {\"field\": \"num_trips\", \"type\": \"quantitative\"}, {\"field\": \"num_competitive\", \"type\": \"quantitative\"}, {\"field\": \"pct_trips_competitive\", \"type\": \"quantitative\"}, {\"field\": \"p25\", \"type\": \"quantitative\"}, {\"field\": \"p50\", \"type\": \"quantitative\"}, {\"field\": \"p75\", \"type\": \"quantitative\"}], \"x\": {\"axis\": {\"grid\": false, \"labels\": false, \"ticks\": true, \"values\": [0]}, \"field\": \"jitter\", \"scale\": {}, \"title\": null, \"type\": \"quantitative\"}, \"y\": {\"field\": \"bus_difference\", \"scale\": {\"domain\": [-5, 89.4]}, \"title\": \"Difference in Bus to Car Travel Time (min)\", \"type\": \"quantitative\"}}, \"selection\": {\"selector002\": {\"type\": \"interval\", \"bind\": \"scales\", \"encodings\": [\"x\", \"y\"]}}, \"transform\": [{\"calculate\": \"sqrt(-2*log(random()))*cos(2*PI*random())\", \"as\": \"jitter\"}], \"width\": 60}, {\"layer\": [{\"mark\": {\"type\": \"point\", \"opacity\": 0.6, \"size\": 20, \"strokeWidth\": 1.3}, \"encoding\": {\"color\": {\"value\": \"#323434\"}, \"y\": {\"field\": \"bus_difference\", \"type\": \"quantitative\"}}, \"transform\": [{\"filter\": \"(datum.p50_trip === 1)\"}]}, {\"mark\": {\"type\": \"rule\", \"strokeDash\": [2, 3]}, \"encoding\": {\"color\": {\"value\": \"#323434\"}, \"y\": {\"field\": \"cutoff\", \"type\": \"quantitative\"}}}, {\"mark\": {\"type\": \"rule\", \"strokeDash\": [2, 3]}, \"encoding\": {\"color\": {\"value\": \"#136C97\"}, \"y\": {\"field\": \"cutoff2\", \"type\": \"quantitative\"}}}, {\"mark\": {\"type\": \"text\", \"align\": \"center\", \"baseline\": \"middle\"}, \"encoding\": {\"color\": {\"value\": \"black\"}, \"text\": {\"field\": \"pct_trips_competitive\", \"format\": \".0%\", \"type\": \"quantitative\"}, \"tooltip\": [{\"field\": \"route_id\", \"type\": \"nominal\"}, {\"field\": \"trip_id\", \"type\": \"nominal\"}, {\"field\": \"service_hours\", \"type\": \"quantitative\"}, {\"field\": \"car_duration_hours\", \"type\": \"quantitative\"}, {\"field\": \"bus_multiplier\", \"type\": \"quantitative\"}, {\"field\": \"bus_difference\", \"type\": \"quantitative\"}, {\"field\": \"num_trips\", \"type\": \"quantitative\"}, {\"field\": \"num_competitive\", \"type\": \"quantitative\"}, {\"field\": \"pct_trips_competitive\", \"type\": \"quantitative\"}, {\"field\": \"p25\", \"type\": \"quantitative\"}, {\"field\": \"p50\", \"type\": \"quantitative\"}, {\"field\": \"p75\", \"type\": \"quantitative\"}], \"x\": {\"value\": 30}, \"y\": {\"value\": 15}}, \"transform\": [{\"calculate\": \"sqrt(-2*log(random()))*cos(2*PI*random())\", \"as\": \"jitter\"}, {\"filter\": \"(datum.fastest_trip === 1)\"}]}]}]}, \"resolve\": {\"scale\": {\"y\": \"shared\"}}, \"title\": \"Difference in Bus to Car Travel Time (min)\", \"$schema\": \"https://vega.github.io/schema/vega-lite/v4.17.0.json\", \"datasets\": {\"data-7ad29a6083f26b6000a1407d025623ff\": [{\"calitp_itp_id\": 198, \"trip_key\": -3821498970512423514, \"trip_id\": \"t_1945535_b_33004_tn_0\", \"shape_id\": \"p_902318\", \"route_id\": \"228\", \"service_hours\": 0.42, \"trip_first_departure_ts\": 46380, \"trip_last_arrival_ts\": 47881, \"departure_hour\": 12, \"time_of_day\": \"Midday\", \"p25\": 0.42, \"p50\": 0.425, \"p75\": 0.43, \"p50_trip\": 1, \"fastest_trip\": 0, \"car_duration_hours\": 0.24, \"competitive_route\": 1, \"bus_multiplier\": 1.75, \"bus_difference\": 10.8, \"num_trips\": 22, \"num_competitive\": 22, \"pct_trips_competitive\": 1.0, \"bus_difference_spread\": 0.6, \"route_group\": \"short\", \"max_trip_hrs\": 0.43, \"max_trip_route_group\": 0.92, \"name\": \"Mendocino Transit Authority\", \"caltrans_district\": \"01 - Eureka\", \"drmt_organization_name\": null, \"cutoff2\": 20, \"cutoff\": 0}, {\"calitp_itp_id\": 198, \"trip_key\": 7165344805685707348, \"trip_id\": \"t_1945537_b_33004_tn_0\", \"shape_id\": \"p_902318\", \"route_id\": \"228\", \"service_hours\": 0.42, \"trip_first_departure_ts\": 57180, \"trip_last_arrival_ts\": 58681, \"departure_hour\": 15, \"time_of_day\": \"Midday\", \"p25\": 0.42, \"p50\": 0.425, \"p75\": 0.43, \"p50_trip\": 1, \"fastest_trip\": 0, \"car_duration_hours\": 0.24, \"competitive_route\": 1, \"bus_multiplier\": 1.75, \"bus_difference\": 10.8, \"num_trips\": 22, \"num_competitive\": 22, \"pct_trips_competitive\": 1.0, \"bus_difference_spread\": 0.6, \"route_group\": \"short\", \"max_trip_hrs\": 0.43, \"max_trip_route_group\": 0.92, \"name\": \"Mendocino Transit Authority\", \"caltrans_district\": \"01 - Eureka\", \"drmt_organization_name\": null, \"cutoff2\": 20, \"cutoff\": 0}, {\"calitp_itp_id\": 198, \"trip_key\": -7302998507075712861, \"trip_id\": \"t_1945538_b_33004_tn_0\", \"shape_id\": \"p_902318\", \"route_id\": \"228\", \"service_hours\": 0.42, \"trip_first_departure_ts\": 60780, \"trip_last_arrival_ts\": 62281, \"departure_hour\": 16, \"time_of_day\": \"Midday\", \"p25\": 0.42, \"p50\": 0.425, \"p75\": 0.43, \"p50_trip\": 1, \"fastest_trip\": 0, \"car_duration_hours\": 0.24, \"competitive_route\": 1, \"bus_multiplier\": 1.75, \"bus_difference\": 10.8, \"num_trips\": 22, \"num_competitive\": 22, \"pct_trips_competitive\": 1.0, \"bus_difference_spread\": 0.6, \"route_group\": \"short\", \"max_trip_hrs\": 0.43, \"max_trip_route_group\": 0.92, \"name\": \"Mendocino Transit Authority\", \"caltrans_district\": \"01 - Eureka\", \"drmt_organization_name\": null, \"cutoff2\": 20, \"cutoff\": 0}, {\"calitp_itp_id\": 198, \"trip_key\": 2690806896856807706, \"trip_id\": \"t_1945536_b_33004_tn_0\", \"shape_id\": \"p_902318\", \"route_id\": \"228\", \"service_hours\": 0.42, \"trip_first_departure_ts\": 53580, \"trip_last_arrival_ts\": 55081, \"departure_hour\": 14, \"time_of_day\": \"Midday\", \"p25\": 0.42, \"p50\": 0.425, \"p75\": 0.43, \"p50_trip\": 1, \"fastest_trip\": 0, \"car_duration_hours\": 0.24, \"competitive_route\": 1, \"bus_multiplier\": 1.75, \"bus_difference\": 10.8, \"num_trips\": 22, \"num_competitive\": 22, \"pct_trips_competitive\": 1.0, \"bus_difference_spread\": 0.6, \"route_group\": \"short\", \"max_trip_hrs\": 0.43, \"max_trip_route_group\": 0.92, \"name\": \"Mendocino Transit Authority\", \"caltrans_district\": \"01 - Eureka\", \"drmt_organization_name\": null, \"cutoff2\": 20, \"cutoff\": 0}, {\"calitp_itp_id\": 198, \"trip_key\": 4106086861605117829, \"trip_id\": \"t_1945553_b_33004_tn_1\", \"shape_id\": \"p_902318\", \"route_id\": \"228\", \"service_hours\": 0.42, \"trip_first_departure_ts\": 31080, \"trip_last_arrival_ts\": 32581, \"departure_hour\": 8, \"time_of_day\": \"AM Peak\", \"p25\": 0.42, \"p50\": 0.425, \"p75\": 0.43, \"p50_trip\": 1, \"fastest_trip\": 0, \"car_duration_hours\": 0.24, \"competitive_route\": 1, \"bus_multiplier\": 1.75, \"bus_difference\": 10.8, \"num_trips\": 22, \"num_competitive\": 22, \"pct_trips_competitive\": 1.0, \"bus_difference_spread\": 0.6, \"route_group\": \"short\", \"max_trip_hrs\": 0.43, \"max_trip_route_group\": 0.92, \"name\": \"Mendocino Transit Authority\", \"caltrans_district\": \"01 - Eureka\", \"drmt_organization_name\": null, \"cutoff2\": 20, \"cutoff\": 0}, {\"calitp_itp_id\": 198, \"trip_key\": -5726019492811257531, \"trip_id\": \"t_1945546_b_33004_tn_0\", \"shape_id\": \"p_902318\", \"route_id\": \"228\", \"service_hours\": 0.42, \"trip_first_departure_ts\": 27480, \"trip_last_arrival_ts\": 28981, \"departure_hour\": 7, \"time_of_day\": \"AM Peak\", \"p25\": 0.42, \"p50\": 0.425, \"p75\": 0.43, \"p50_trip\": 1, \"fastest_trip\": 0, \"car_duration_hours\": 0.24, \"competitive_route\": 1, \"bus_multiplier\": 1.75, \"bus_difference\": 10.8, \"num_trips\": 22, \"num_competitive\": 22, \"pct_trips_competitive\": 1.0, \"bus_difference_spread\": 0.6, \"route_group\": \"short\", \"max_trip_hrs\": 0.43, \"max_trip_route_group\": 0.92, \"name\": \"Mendocino Transit Authority\", \"caltrans_district\": \"01 - Eureka\", \"drmt_organization_name\": null, \"cutoff2\": 20, \"cutoff\": 0}, {\"calitp_itp_id\": 198, \"trip_key\": -4131255246077367673, \"trip_id\": \"t_1945533_b_33004_tn_0\", \"shape_id\": \"p_902318\", \"route_id\": \"228\", \"service_hours\": 0.42, \"trip_first_departure_ts\": 39180, \"trip_last_arrival_ts\": 40681, \"departure_hour\": 10, \"time_of_day\": \"Midday\", \"p25\": 0.42, \"p50\": 0.425, \"p75\": 0.43, \"p50_trip\": 1, \"fastest_trip\": 0, \"car_duration_hours\": 0.24, \"competitive_route\": 1, \"bus_multiplier\": 1.75, \"bus_difference\": 10.8, \"num_trips\": 22, \"num_competitive\": 22, \"pct_trips_competitive\": 1.0, \"bus_difference_spread\": 0.6, \"route_group\": \"short\", \"max_trip_hrs\": 0.43, \"max_trip_route_group\": 0.92, \"name\": \"Mendocino Transit Authority\", \"caltrans_district\": \"01 - Eureka\", \"drmt_organization_name\": null, \"cutoff2\": 20, \"cutoff\": 0}, {\"calitp_itp_id\": 198, \"trip_key\": 4378266072232651454, \"trip_id\": \"t_1945534_b_33004_tn_0\", \"shape_id\": \"p_902318\", \"route_id\": \"228\", \"service_hours\": 0.42, \"trip_first_departure_ts\": 42780, \"trip_last_arrival_ts\": 44281, \"departure_hour\": 11, \"time_of_day\": \"Midday\", \"p25\": 0.42, \"p50\": 0.425, \"p75\": 0.43, \"p50_trip\": 1, \"fastest_trip\": 0, \"car_duration_hours\": 0.24, \"competitive_route\": 1, \"bus_multiplier\": 1.75, \"bus_difference\": 10.8, \"num_trips\": 22, \"num_competitive\": 22, \"pct_trips_competitive\": 1.0, \"bus_difference_spread\": 0.6, \"route_group\": \"short\", \"max_trip_hrs\": 0.43, \"max_trip_route_group\": 0.92, \"name\": \"Mendocino Transit Authority\", \"caltrans_district\": \"01 - Eureka\", \"drmt_organization_name\": null, \"cutoff2\": 20, \"cutoff\": 0}, {\"calitp_itp_id\": 198, \"trip_key\": 2543226735406892914, \"trip_id\": \"t_1945552_b_33004_tn_0\", \"shape_id\": \"p_902318\", \"route_id\": \"228\", \"service_hours\": 0.42, \"trip_first_departure_ts\": 49980, \"trip_last_arrival_ts\": 51481, \"departure_hour\": 13, \"time_of_day\": \"Midday\", \"p25\": 0.42, \"p50\": 0.425, \"p75\": 0.43, \"p50_trip\": 1, \"fastest_trip\": 0, \"car_duration_hours\": 0.24, \"competitive_route\": 1, \"bus_multiplier\": 1.75, \"bus_difference\": 10.8, \"num_trips\": 22, \"num_competitive\": 22, \"pct_trips_competitive\": 1.0, \"bus_difference_spread\": 0.6, \"route_group\": \"short\", \"max_trip_hrs\": 0.43, \"max_trip_route_group\": 0.92, \"name\": \"Mendocino Transit Authority\", \"caltrans_district\": \"01 - Eureka\", \"drmt_organization_name\": null, \"cutoff2\": 20, \"cutoff\": 0}, {\"calitp_itp_id\": 198, \"trip_key\": -2304997739224854707, \"trip_id\": \"t_1945539_b_33004_tn_0\", \"shape_id\": \"p_902318\", \"route_id\": \"228\", \"service_hours\": 0.42, \"trip_first_departure_ts\": 65280, \"trip_last_arrival_ts\": 66781, \"departure_hour\": 18, \"time_of_day\": \"PM Peak\", \"p25\": 0.42, \"p50\": 0.425, \"p75\": 0.43, \"p50_trip\": 1, \"fastest_trip\": 1, \"car_duration_hours\": 0.24, \"competitive_route\": 1, \"bus_multiplier\": 1.75, \"bus_difference\": 10.8, \"num_trips\": 22, \"num_competitive\": 22, \"pct_trips_competitive\": 1.0, \"bus_difference_spread\": 0.6, \"route_group\": \"short\", \"max_trip_hrs\": 0.43, \"max_trip_route_group\": 0.92, \"name\": \"Mendocino Transit Authority\", \"caltrans_district\": \"01 - Eureka\", \"drmt_organization_name\": null, \"cutoff2\": 20, \"cutoff\": 0}, {\"calitp_itp_id\": 198, \"trip_key\": -1717090652485994299, \"trip_id\": \"t_1945551_b_33004_tn_0\", \"shape_id\": \"p_902318\", \"route_id\": \"228\", \"service_hours\": 0.42, \"trip_first_departure_ts\": 35580, \"trip_last_arrival_ts\": 37081, \"departure_hour\": 9, \"time_of_day\": \"AM Peak\", \"p25\": 0.42, \"p50\": 0.425, \"p75\": 0.43, \"p50_trip\": 1, \"fastest_trip\": 0, \"car_duration_hours\": 0.24, \"competitive_route\": 1, \"bus_multiplier\": 1.75, \"bus_difference\": 10.8, \"num_trips\": 22, \"num_competitive\": 22, \"pct_trips_competitive\": 1.0, \"bus_difference_spread\": 0.6, \"route_group\": \"short\", \"max_trip_hrs\": 0.43, \"max_trip_route_group\": 0.92, \"name\": \"Mendocino Transit Authority\", \"caltrans_district\": \"01 - Eureka\", \"drmt_organization_name\": null, \"cutoff2\": 20, \"cutoff\": 0}, {\"calitp_itp_id\": 198, \"trip_key\": 4710620586573080810, \"trip_id\": \"t_1945509_b_33004_tn_0\", \"shape_id\": \"p_3117\", \"route_id\": \"228\", \"service_hours\": 0.43, \"trip_first_departure_ts\": 37620, \"trip_last_arrival_ts\": 39180, \"departure_hour\": 10, \"time_of_day\": \"Midday\", \"p25\": 0.42, \"p50\": 0.425, \"p75\": 0.43, \"p50_trip\": 1, \"fastest_trip\": 0, \"car_duration_hours\": 0.24, \"competitive_route\": 1, \"bus_multiplier\": 1.79, \"bus_difference\": 11.4, \"num_trips\": 22, \"num_competitive\": 22, \"pct_trips_competitive\": 1.0, \"bus_difference_spread\": 0.6, \"route_group\": \"short\", \"max_trip_hrs\": 0.43, \"max_trip_route_group\": 0.92, \"name\": \"Mendocino Transit Authority\", \"caltrans_district\": \"01 - Eureka\", \"drmt_organization_name\": null, \"cutoff2\": 20, \"cutoff\": 0}, {\"calitp_itp_id\": 198, \"trip_key\": -3545396434068254968, \"trip_id\": \"t_1945512_b_33004_tn_0\", \"shape_id\": \"p_3117\", \"route_id\": \"228\", \"service_hours\": 0.43, \"trip_first_departure_ts\": 52020, \"trip_last_arrival_ts\": 53580, \"departure_hour\": 14, \"time_of_day\": \"Midday\", \"p25\": 0.42, \"p50\": 0.425, \"p75\": 0.43, \"p50_trip\": 1, \"fastest_trip\": 0, \"car_duration_hours\": 0.24, \"competitive_route\": 1, \"bus_multiplier\": 1.79, \"bus_difference\": 11.4, \"num_trips\": 22, \"num_competitive\": 22, \"pct_trips_competitive\": 1.0, \"bus_difference_spread\": 0.6, \"route_group\": \"short\", \"max_trip_hrs\": 0.43, \"max_trip_route_group\": 0.92, \"name\": \"Mendocino Transit Authority\", \"caltrans_district\": \"01 - Eureka\", \"drmt_organization_name\": null, \"cutoff2\": 20, \"cutoff\": 0}, {\"calitp_itp_id\": 198, \"trip_key\": 4155892938799833111, \"trip_id\": \"t_1945549_b_33004_tn_0\", \"shape_id\": \"p_3117\", \"route_id\": \"228\", \"service_hours\": 0.43, \"trip_first_departure_ts\": 48420, \"trip_last_arrival_ts\": 49980, \"departure_hour\": 13, \"time_of_day\": \"Midday\", \"p25\": 0.42, \"p50\": 0.425, \"p75\": 0.43, \"p50_trip\": 1, \"fastest_trip\": 0, \"car_duration_hours\": 0.24, \"competitive_route\": 1, \"bus_multiplier\": 1.79, \"bus_difference\": 11.4, \"num_trips\": 22, \"num_competitive\": 22, \"pct_trips_competitive\": 1.0, \"bus_difference_spread\": 0.6, \"route_group\": \"short\", \"max_trip_hrs\": 0.43, \"max_trip_route_group\": 0.92, \"name\": \"Mendocino Transit Authority\", \"caltrans_district\": \"01 - Eureka\", \"drmt_organization_name\": null, \"cutoff2\": 20, \"cutoff\": 0}, {\"calitp_itp_id\": 198, \"trip_key\": -5255804148381983774, \"trip_id\": \"t_1945515_b_33004_tn_0\", \"shape_id\": \"p_3117\", \"route_id\": \"228\", \"service_hours\": 0.43, \"trip_first_departure_ts\": 63720, \"trip_last_arrival_ts\": 65280, \"departure_hour\": 17, \"time_of_day\": \"PM Peak\", \"p25\": 0.42, \"p50\": 0.425, \"p75\": 0.43, \"p50_trip\": 1, \"fastest_trip\": 0, \"car_duration_hours\": 0.24, \"competitive_route\": 1, \"bus_multiplier\": 1.79, \"bus_difference\": 11.4, \"num_trips\": 22, \"num_competitive\": 22, \"pct_trips_competitive\": 1.0, \"bus_difference_spread\": 0.6, \"route_group\": \"short\", \"max_trip_hrs\": 0.43, \"max_trip_route_group\": 0.92, \"name\": \"Mendocino Transit Authority\", \"caltrans_district\": \"01 - Eureka\", \"drmt_organization_name\": null, \"cutoff2\": 20, \"cutoff\": 0}, {\"calitp_itp_id\": 198, \"trip_key\": -2613195794047038066, \"trip_id\": \"t_1945511_b_33004_tn_0\", \"shape_id\": \"p_3117\", \"route_id\": \"228\", \"service_hours\": 0.43, \"trip_first_departure_ts\": 44820, \"trip_last_arrival_ts\": 46380, \"departure_hour\": 12, \"time_of_day\": \"Midday\", \"p25\": 0.42, \"p50\": 0.425, \"p75\": 0.43, \"p50_trip\": 1, \"fastest_trip\": 0, \"car_duration_hours\": 0.24, \"competitive_route\": 1, \"bus_multiplier\": 1.79, \"bus_difference\": 11.4, \"num_trips\": 22, \"num_competitive\": 22, \"pct_trips_competitive\": 1.0, \"bus_difference_spread\": 0.6, \"route_group\": \"short\", \"max_trip_hrs\": 0.43, \"max_trip_route_group\": 0.92, \"name\": \"Mendocino Transit Authority\", \"caltrans_district\": \"01 - Eureka\", \"drmt_organization_name\": null, \"cutoff2\": 20, \"cutoff\": 0}, {\"calitp_itp_id\": 198, \"trip_key\": 2647717210138946807, \"trip_id\": \"t_1945513_b_33004_tn_0\", \"shape_id\": \"p_3117\", \"route_id\": \"228\", \"service_hours\": 0.43, \"trip_first_departure_ts\": 55620, \"trip_last_arrival_ts\": 57180, \"departure_hour\": 15, \"time_of_day\": \"Midday\", \"p25\": 0.42, \"p50\": 0.425, \"p75\": 0.43, \"p50_trip\": 1, \"fastest_trip\": 0, \"car_duration_hours\": 0.24, \"competitive_route\": 1, \"bus_multiplier\": 1.79, \"bus_difference\": 11.4, \"num_trips\": 22, \"num_competitive\": 22, \"pct_trips_competitive\": 1.0, \"bus_difference_spread\": 0.6, \"route_group\": \"short\", \"max_trip_hrs\": 0.43, \"max_trip_route_group\": 0.92, \"name\": \"Mendocino Transit Authority\", \"caltrans_district\": \"01 - Eureka\", \"drmt_organization_name\": null, \"cutoff2\": 20, \"cutoff\": 0}, {\"calitp_itp_id\": 198, \"trip_key\": 958336978338138413, \"trip_id\": \"t_1945550_b_33004_tn_0\", \"shape_id\": \"p_3117\", \"route_id\": \"228\", \"service_hours\": 0.43, \"trip_first_departure_ts\": 34020, \"trip_last_arrival_ts\": 35580, \"departure_hour\": 9, \"time_of_day\": \"AM Peak\", \"p25\": 0.42, \"p50\": 0.425, \"p75\": 0.43, \"p50_trip\": 1, \"fastest_trip\": 0, \"car_duration_hours\": 0.24, \"competitive_route\": 1, \"bus_multiplier\": 1.79, \"bus_difference\": 11.4, \"num_trips\": 22, \"num_competitive\": 22, \"pct_trips_competitive\": 1.0, \"bus_difference_spread\": 0.6, \"route_group\": \"short\", \"max_trip_hrs\": 0.43, \"max_trip_route_group\": 0.92, \"name\": \"Mendocino Transit Authority\", \"caltrans_district\": \"01 - Eureka\", \"drmt_organization_name\": null, \"cutoff2\": 20, \"cutoff\": 0}, {\"calitp_itp_id\": 198, \"trip_key\": -2727218293918899080, \"trip_id\": \"t_1945545_b_33004_tn_0\", \"shape_id\": \"p_3117\", \"route_id\": \"228\", \"service_hours\": 0.43, \"trip_first_departure_ts\": 25920, \"trip_last_arrival_ts\": 27480, \"departure_hour\": 7, \"time_of_day\": \"AM Peak\", \"p25\": 0.42, \"p50\": 0.425, \"p75\": 0.43, \"p50_trip\": 1, \"fastest_trip\": 0, \"car_duration_hours\": 0.24, \"competitive_route\": 1, \"bus_multiplier\": 1.79, \"bus_difference\": 11.4, \"num_trips\": 22, \"num_competitive\": 22, \"pct_trips_competitive\": 1.0, \"bus_difference_spread\": 0.6, \"route_group\": \"short\", \"max_trip_hrs\": 0.43, \"max_trip_route_group\": 0.92, \"name\": \"Mendocino Transit Authority\", \"caltrans_district\": \"01 - Eureka\", \"drmt_organization_name\": null, \"cutoff2\": 20, \"cutoff\": 0}, {\"calitp_itp_id\": 198, \"trip_key\": -7860257494144024374, \"trip_id\": \"t_1945510_b_33004_tn_0\", \"shape_id\": \"p_3117\", \"route_id\": \"228\", \"service_hours\": 0.43, \"trip_first_departure_ts\": 41220, \"trip_last_arrival_ts\": 42780, \"departure_hour\": 11, \"time_of_day\": \"Midday\", \"p25\": 0.42, \"p50\": 0.425, \"p75\": 0.43, \"p50_trip\": 1, \"fastest_trip\": 0, \"car_duration_hours\": 0.24, \"competitive_route\": 1, \"bus_multiplier\": 1.79, \"bus_difference\": 11.4, \"num_trips\": 22, \"num_competitive\": 22, \"pct_trips_competitive\": 1.0, \"bus_difference_spread\": 0.6, \"route_group\": \"short\", \"max_trip_hrs\": 0.43, \"max_trip_route_group\": 0.92, \"name\": \"Mendocino Transit Authority\", \"caltrans_district\": \"01 - Eureka\", \"drmt_organization_name\": null, \"cutoff2\": 20, \"cutoff\": 0}, {\"calitp_itp_id\": 198, \"trip_key\": -6576238807823169045, \"trip_id\": \"t_1945514_b_33004_tn_0\", \"shape_id\": \"p_3117\", \"route_id\": \"228\", \"service_hours\": 0.43, \"trip_first_departure_ts\": 59220, \"trip_last_arrival_ts\": 60780, \"departure_hour\": 16, \"time_of_day\": \"Midday\", \"p25\": 0.42, \"p50\": 0.425, \"p75\": 0.43, \"p50_trip\": 1, \"fastest_trip\": 0, \"car_duration_hours\": 0.24, \"competitive_route\": 1, \"bus_multiplier\": 1.79, \"bus_difference\": 11.4, \"num_trips\": 22, \"num_competitive\": 22, \"pct_trips_competitive\": 1.0, \"bus_difference_spread\": 0.6, \"route_group\": \"short\", \"max_trip_hrs\": 0.43, \"max_trip_route_group\": 0.92, \"name\": \"Mendocino Transit Authority\", \"caltrans_district\": \"01 - Eureka\", \"drmt_organization_name\": null, \"cutoff2\": 20, \"cutoff\": 0}, {\"calitp_itp_id\": 198, \"trip_key\": 5064161551853401997, \"trip_id\": \"t_1945548_b_33004_tn_1\", \"shape_id\": \"p_3117\", \"route_id\": \"228\", \"service_hours\": 0.43, \"trip_first_departure_ts\": 29520, \"trip_last_arrival_ts\": 31080, \"departure_hour\": 8, \"time_of_day\": \"AM Peak\", \"p25\": 0.42, \"p50\": 0.425, \"p75\": 0.43, \"p50_trip\": 1, \"fastest_trip\": 0, \"car_duration_hours\": 0.24, \"competitive_route\": 1, \"bus_multiplier\": 1.79, \"bus_difference\": 11.4, \"num_trips\": 22, \"num_competitive\": 22, \"pct_trips_competitive\": 1.0, \"bus_difference_spread\": 0.6, \"route_group\": \"short\", \"max_trip_hrs\": 0.43, \"max_trip_route_group\": 0.92, \"name\": \"Mendocino Transit Authority\", \"caltrans_district\": \"01 - Eureka\", \"drmt_organization_name\": null, \"cutoff2\": 20, \"cutoff\": 0}, {\"calitp_itp_id\": 198, \"trip_key\": 6407799142247012981, \"trip_id\": \"t_1945566_b_33004_tn_0\", \"shape_id\": \"p_1276513\", \"route_id\": \"232\", \"service_hours\": 0.65, \"trip_first_departure_ts\": 25440, \"trip_last_arrival_ts\": 27780, \"departure_hour\": 7, \"time_of_day\": \"AM Peak\", \"p25\": 0.71, \"p50\": 0.79, \"p75\": 0.8274999999999999, \"p50_trip\": 0, \"fastest_trip\": 1, \"car_duration_hours\": 0.47, \"competitive_route\": 1, \"bus_multiplier\": 1.38, \"bus_difference\": 10.8, \"num_trips\": 12, \"num_competitive\": 12, \"pct_trips_competitive\": 1.0, \"bus_difference_spread\": 12.0, \"route_group\": \"short\", \"max_trip_hrs\": 0.85, \"max_trip_route_group\": 0.92, \"name\": \"Mendocino Transit Authority\", \"caltrans_district\": \"01 - Eureka\", \"drmt_organization_name\": null, \"cutoff2\": 20, \"cutoff\": 0}, {\"calitp_itp_id\": 198, \"trip_key\": 7874311545554239664, \"trip_id\": \"t_1945504_b_33004_tn_0\", \"shape_id\": \"p_899413\", \"route_id\": \"232\", \"service_hours\": 0.67, \"trip_first_departure_ts\": 28080, \"trip_last_arrival_ts\": 30480, \"departure_hour\": 7, \"time_of_day\": \"AM Peak\", \"p25\": 0.71, \"p50\": 0.79, \"p75\": 0.8274999999999999, \"p50_trip\": 0, \"fastest_trip\": 0, \"car_duration_hours\": 0.47, \"competitive_route\": 1, \"bus_multiplier\": 1.43, \"bus_difference\": 12.0, \"num_trips\": 12, \"num_competitive\": 12, \"pct_trips_competitive\": 1.0, \"bus_difference_spread\": 12.0, \"route_group\": \"short\", \"max_trip_hrs\": 0.85, \"max_trip_route_group\": 0.92, \"name\": \"Mendocino Transit Authority\", \"caltrans_district\": \"01 - Eureka\", \"drmt_organization_name\": null, \"cutoff2\": 20, \"cutoff\": 0}, {\"calitp_itp_id\": 198, \"trip_key\": -415892452663826652, \"trip_id\": \"t_1945564_b_33004_tn_0\", \"shape_id\": \"p_1276515\", \"route_id\": \"232\", \"service_hours\": 0.68, \"trip_first_departure_ts\": 29880, \"trip_last_arrival_ts\": 32340, \"departure_hour\": 8, \"time_of_day\": \"AM Peak\", \"p25\": 0.71, \"p50\": 0.79, \"p75\": 0.8274999999999999, \"p50_trip\": 0, \"fastest_trip\": 0, \"car_duration_hours\": 0.47, \"competitive_route\": 1, \"bus_multiplier\": 1.45, \"bus_difference\": 12.6, \"num_trips\": 12, \"num_competitive\": 12, \"pct_trips_competitive\": 1.0, \"bus_difference_spread\": 12.0, \"route_group\": \"short\", \"max_trip_hrs\": 0.85, \"max_trip_route_group\": 0.92, \"name\": \"Mendocino Transit Authority\", \"caltrans_district\": \"01 - Eureka\", \"drmt_organization_name\": null, \"cutoff2\": 20, \"cutoff\": 0}, {\"calitp_itp_id\": 198, \"trip_key\": 2406590054658703546, \"trip_id\": \"t_1945505_b_33004_tn_0\", \"shape_id\": \"p_899415\", \"route_id\": \"232\", \"service_hours\": 0.72, \"trip_first_departure_ts\": 60000, \"trip_last_arrival_ts\": 62580, \"departure_hour\": 16, \"time_of_day\": \"Midday\", \"p25\": 0.71, \"p50\": 0.79, \"p75\": 0.8274999999999999, \"p50_trip\": 0, \"fastest_trip\": 0, \"car_duration_hours\": 0.47, \"competitive_route\": 1, \"bus_multiplier\": 1.53, \"bus_difference\": 15.0, \"num_trips\": 12, \"num_competitive\": 12, \"pct_trips_competitive\": 1.0, \"bus_difference_spread\": 12.0, \"route_group\": \"short\", \"max_trip_hrs\": 0.85, \"max_trip_route_group\": 0.92, \"name\": \"Mendocino Transit Authority\", \"caltrans_district\": \"01 - Eureka\", \"drmt_organization_name\": null, \"cutoff2\": 20, \"cutoff\": 0}, {\"calitp_itp_id\": 198, \"trip_key\": -2952627637866517054, \"trip_id\": \"t_1945567_b_33004_tn_0\", \"shape_id\": \"p_1276520\", \"route_id\": \"232\", \"service_hours\": 0.75, \"trip_first_departure_ts\": 64200, \"trip_last_arrival_ts\": 66900, \"departure_hour\": 17, \"time_of_day\": \"PM Peak\", \"p25\": 0.71, \"p50\": 0.79, \"p75\": 0.8274999999999999, \"p50_trip\": 0, \"fastest_trip\": 0, \"car_duration_hours\": 0.47, \"competitive_route\": 1, \"bus_multiplier\": 1.6, \"bus_difference\": 16.8, \"num_trips\": 12, \"num_competitive\": 12, \"pct_trips_competitive\": 1.0, \"bus_difference_spread\": 12.0, \"route_group\": \"short\", \"max_trip_hrs\": 0.85, \"max_trip_route_group\": 0.92, \"name\": \"Mendocino Transit Authority\", \"caltrans_district\": \"01 - Eureka\", \"drmt_organization_name\": null, \"cutoff2\": 20, \"cutoff\": 0}, {\"calitp_itp_id\": 198, \"trip_key\": 300015568609234889, \"trip_id\": \"t_1945506_b_33004_tn_0\", \"shape_id\": \"p_899411\", \"route_id\": \"232\", \"service_hours\": 0.78, \"trip_first_departure_ts\": 56700, \"trip_last_arrival_ts\": 59520, \"departure_hour\": 15, \"time_of_day\": \"Midday\", \"p25\": 0.71, \"p50\": 0.79, \"p75\": 0.8274999999999999, \"p50_trip\": 1, \"fastest_trip\": 0, \"car_duration_hours\": 0.47, \"competitive_route\": 1, \"bus_multiplier\": 1.66, \"bus_difference\": 18.6, \"num_trips\": 12, \"num_competitive\": 12, \"pct_trips_competitive\": 1.0, \"bus_difference_spread\": 12.0, \"route_group\": \"short\", \"max_trip_hrs\": 0.85, \"max_trip_route_group\": 0.92, \"name\": \"Mendocino Transit Authority\", \"caltrans_district\": \"01 - Eureka\", \"drmt_organization_name\": null, \"cutoff2\": 20, \"cutoff\": 0}, {\"calitp_itp_id\": 198, \"trip_key\": -1911337367374937544, \"trip_id\": \"t_1945565_b_33004_tn_0\", \"shape_id\": \"p_111346\", \"route_id\": \"232\", \"service_hours\": 0.8, \"trip_first_departure_ts\": 41100, \"trip_last_arrival_ts\": 43980, \"departure_hour\": 11, \"time_of_day\": \"Midday\", \"p25\": 0.71, \"p50\": 0.79, \"p75\": 0.8274999999999999, \"p50_trip\": 1, \"fastest_trip\": 0, \"car_duration_hours\": 0.47, \"competitive_route\": 1, \"bus_multiplier\": 1.7, \"bus_difference\": 19.8, \"num_trips\": 12, \"num_competitive\": 12, \"pct_trips_competitive\": 1.0, \"bus_difference_spread\": 12.0, \"route_group\": \"short\", \"max_trip_hrs\": 0.85, \"max_trip_route_group\": 0.92, \"name\": \"Mendocino Transit Authority\", \"caltrans_district\": \"01 - Eureka\", \"drmt_organization_name\": null, \"cutoff2\": 20, \"cutoff\": 0}, {\"calitp_itp_id\": 198, \"trip_key\": -2471638137922488736, \"trip_id\": \"t_1945543_b_33004_tn_0\", \"shape_id\": \"p_8785\", \"route_id\": \"232\", \"service_hours\": 0.8, \"trip_first_departure_ts\": 48300, \"trip_last_arrival_ts\": 51180, \"departure_hour\": 13, \"time_of_day\": \"Midday\", \"p25\": 0.71, \"p50\": 0.79, \"p75\": 0.8274999999999999, \"p50_trip\": 1, \"fastest_trip\": 0, \"car_duration_hours\": 0.47, \"competitive_route\": 1, \"bus_multiplier\": 1.7, \"bus_difference\": 19.8, \"num_trips\": 12, \"num_competitive\": 12, \"pct_trips_competitive\": 1.0, \"bus_difference_spread\": 12.0, \"route_group\": \"short\", \"max_trip_hrs\": 0.85, \"max_trip_route_group\": 0.92, \"name\": \"Mendocino Transit Authority\", \"caltrans_district\": \"01 - Eureka\", \"drmt_organization_name\": null, \"cutoff2\": 20, \"cutoff\": 0}, {\"calitp_itp_id\": 198, \"trip_key\": 8389865155287738912, \"trip_id\": \"t_1945568_b_33004_tn_0\", \"shape_id\": \"p_1276522\", \"route_id\": \"232\", \"service_hours\": 0.82, \"trip_first_departure_ts\": 24660, \"trip_last_arrival_ts\": 27600, \"departure_hour\": 6, \"time_of_day\": \"Owl Service\", \"p25\": 0.71, \"p50\": 0.79, \"p75\": 0.8274999999999999, \"p50_trip\": 0, \"fastest_trip\": 0, \"car_duration_hours\": 0.47, \"competitive_route\": 1, \"bus_multiplier\": 1.74, \"bus_difference\": 21.0, \"num_trips\": 12, \"num_competitive\": 12, \"pct_trips_competitive\": 1.0, \"bus_difference_spread\": 12.0, \"route_group\": \"short\", \"max_trip_hrs\": 0.85, \"max_trip_route_group\": 0.92, \"name\": \"Mendocino Transit Authority\", \"caltrans_district\": \"01 - Eureka\", \"drmt_organization_name\": null, \"cutoff2\": 20, \"cutoff\": 0}, {\"calitp_itp_id\": 198, \"trip_key\": 8939757218210664718, \"trip_id\": \"t_1945507_b_33004_tn_0\", \"shape_id\": \"p_1276522\", \"route_id\": \"232\", \"service_hours\": 0.85, \"trip_first_departure_ts\": 44340, \"trip_last_arrival_ts\": 47400, \"departure_hour\": 12, \"time_of_day\": \"Midday\", \"p25\": 0.71, \"p50\": 0.79, \"p75\": 0.8274999999999999, \"p50_trip\": 0, \"fastest_trip\": 0, \"car_duration_hours\": 0.47, \"competitive_route\": 1, \"bus_multiplier\": 1.81, \"bus_difference\": 22.8, \"num_trips\": 12, \"num_competitive\": 12, \"pct_trips_competitive\": 1.0, \"bus_difference_spread\": 12.0, \"route_group\": \"short\", \"max_trip_hrs\": 0.85, \"max_trip_route_group\": 0.92, \"name\": \"Mendocino Transit Authority\", \"caltrans_district\": \"01 - Eureka\", \"drmt_organization_name\": null, \"cutoff2\": 20, \"cutoff\": 0}, {\"calitp_itp_id\": 198, \"trip_key\": -2734594082350485790, \"trip_id\": \"t_1945544_b_33004_tn_0\", \"shape_id\": \"p_1276522\", \"route_id\": \"232\", \"service_hours\": 0.85, \"trip_first_departure_ts\": 33840, \"trip_last_arrival_ts\": 36900, \"departure_hour\": 9, \"time_of_day\": \"AM Peak\", \"p25\": 0.71, \"p50\": 0.79, \"p75\": 0.8274999999999999, \"p50_trip\": 0, \"fastest_trip\": 0, \"car_duration_hours\": 0.47, \"competitive_route\": 1, \"bus_multiplier\": 1.81, \"bus_difference\": 22.8, \"num_trips\": 12, \"num_competitive\": 12, \"pct_trips_competitive\": 1.0, \"bus_difference_spread\": 12.0, \"route_group\": \"short\", \"max_trip_hrs\": 0.85, \"max_trip_route_group\": 0.92, \"name\": \"Mendocino Transit Authority\", \"caltrans_district\": \"01 - Eureka\", \"drmt_organization_name\": null, \"cutoff2\": 20, \"cutoff\": 0}, {\"calitp_itp_id\": 198, \"trip_key\": -3562096048323000906, \"trip_id\": \"t_1945508_b_33004_tn_0\", \"shape_id\": \"p_1276523\", \"route_id\": \"232\", \"service_hours\": 0.85, \"trip_first_departure_ts\": 53940, \"trip_last_arrival_ts\": 57000, \"departure_hour\": 14, \"time_of_day\": \"Midday\", \"p25\": 0.71, \"p50\": 0.79, \"p75\": 0.8274999999999999, \"p50_trip\": 0, \"fastest_trip\": 0, \"car_duration_hours\": 0.47, \"competitive_route\": 1, \"bus_multiplier\": 1.81, \"bus_difference\": 22.8, \"num_trips\": 12, \"num_competitive\": 12, \"pct_trips_competitive\": 1.0, \"bus_difference_spread\": 12.0, \"route_group\": \"short\", \"max_trip_hrs\": 0.85, \"max_trip_route_group\": 0.92, \"name\": \"Mendocino Transit Authority\", \"caltrans_district\": \"01 - Eureka\", \"drmt_organization_name\": null, \"cutoff2\": 20, \"cutoff\": 0}]}}, {\"mode\": \"vega-lite\"});\n",
       "</script>"
      ],
      "text/plain": [
       "alt.FacetChart(...)"
      ]
     },
     "metadata": {},
     "output_type": "display_data"
    }
   ],
   "source": [
    "# Allow for possibility that operator doesn't have routes that fall into certain route_groups\n",
    "# But, jupyterbook will not like markdown with f-string\n",
    "# separate out route_group and put in each cell, and use try/except + if to display...\n",
    "# but all 3 route groups must be displayed. just add sentence about why no routes were returned at the end\n",
    "route_group = \"short\"\n",
    "try:\n",
    "    subset_routes, mult, diff  = setup_charts(df, PCT_COMPETITIVE_THRESHOLD, route_group)\n",
    "    \n",
    "    if len(subset_routes) > 0:\n",
    "        display(\n",
    "            Markdown(\n",
    "                f\"{CAPTIONS_DICT[route_group]}\"\n",
    "                \"Within each route group, routes are sorted in descending order \"\n",
    "                \"by % competitive trips and # trips below the additional time cut-off.\"\n",
    "            )\n",
    "        )\n",
    "\n",
    "        display(mult)\n",
    "        display(diff)\n",
    "except:\n",
    "    print(\"No routes meet this criteria.\")"
   ]
  },
  {
   "cell_type": "markdown",
   "id": "c2931b6f-034d-4384-9e14-80b925e3b820",
   "metadata": {
    "papermill": {
     "duration": 0.019524,
     "end_time": "2022-05-08T15:40:16.417657",
     "exception": false,
     "start_time": "2022-05-08T15:40:16.398133",
     "status": "completed"
    },
    "tags": []
   },
   "source": [
    "### Medium Routes (1-1.5 hrs)"
   ]
  },
  {
   "cell_type": "code",
   "execution_count": 13,
   "id": "480edddc-4de0-48c2-ae4c-b0ceef8f28b5",
   "metadata": {
    "execution": {
     "iopub.execute_input": "2022-05-08T15:40:16.449282Z",
     "iopub.status.busy": "2022-05-08T15:40:16.448467Z",
     "iopub.status.idle": "2022-05-08T15:40:16.460363Z",
     "shell.execute_reply": "2022-05-08T15:40:16.459518Z"
    },
    "jupyter": {
     "source_hidden": true
    },
    "papermill": {
     "duration": 0.030342,
     "end_time": "2022-05-08T15:40:16.462460",
     "exception": false,
     "start_time": "2022-05-08T15:40:16.432118",
     "status": "completed"
    },
    "tags": [
     "remove_input"
    ]
   },
   "outputs": [
    {
     "name": "stdout",
     "output_type": "stream",
     "text": [
      "No routes meet this criteria.\n"
     ]
    }
   ],
   "source": [
    "route_group = \"medium\"\n",
    "try:\n",
    "    subset_routes, mult, diff  = setup_charts(df, PCT_COMPETITIVE_THRESHOLD, route_group)\n",
    "    if len(subset_routes) > 0:\n",
    "        display(\n",
    "            Markdown(\n",
    "                f\"{CAPTIONS_DICT[route_group]}\"\n",
    "                \"Within each route group, routes are sorted in descending order \"\n",
    "                \"by % competitive trips and # trips below the additional time cut-off.\"\n",
    "            )\n",
    "        )\n",
    "\n",
    "        display(mult)\n",
    "        display(diff)\n",
    "except:\n",
    "    print(\"No routes meet this criteria.\")"
   ]
  },
  {
   "cell_type": "markdown",
   "id": "124b76d0-886c-4d03-92ac-f1bda3cda182",
   "metadata": {
    "papermill": {
     "duration": 0.015151,
     "end_time": "2022-05-08T15:40:16.491739",
     "exception": false,
     "start_time": "2022-05-08T15:40:16.476588",
     "status": "completed"
    },
    "tags": []
   },
   "source": [
    "### Long Routes (> 1.5 hrs)"
   ]
  },
  {
   "cell_type": "code",
   "execution_count": 14,
   "id": "ddc81b19-4c45-4c81-8b7a-5e0f394aa7a3",
   "metadata": {
    "execution": {
     "iopub.execute_input": "2022-05-08T15:40:16.527173Z",
     "iopub.status.busy": "2022-05-08T15:40:16.526908Z",
     "iopub.status.idle": "2022-05-08T15:40:16.546453Z",
     "shell.execute_reply": "2022-05-08T15:40:16.545643Z"
    },
    "jupyter": {
     "source_hidden": true
    },
    "papermill": {
     "duration": 0.038521,
     "end_time": "2022-05-08T15:40:16.548549",
     "exception": false,
     "start_time": "2022-05-08T15:40:16.510028",
     "status": "completed"
    },
    "tags": [
     "remove_input"
    ]
   },
   "outputs": [
    {
     "name": "stdout",
     "output_type": "stream",
     "text": [
      "No routes meet this criteria.\n"
     ]
    }
   ],
   "source": [
    "route_group = \"long\"\n",
    "try:\n",
    "    subset_routes, mult, diff  = setup_charts(df, PCT_COMPETITIVE_THRESHOLD, route_group)\n",
    "    if len(subset_routes) > 0:\n",
    "        display(\n",
    "            Markdown(\n",
    "                f\"{CAPTIONS_DICT[route_group]}\"\n",
    "                \"Within each route group, routes are sorted in descending order \"\n",
    "                \"by % competitive trips and # trips below the additional time cut-off.\"\n",
    "            )\n",
    "        )\n",
    "\n",
    "        display(mult)\n",
    "        display(diff)\n",
    "except:\n",
    "    print(\"No routes meet this criteria.\")"
   ]
  }
 ],
 "metadata": {
  "kernelspec": {
   "display_name": "Python 3 (ipykernel)",
   "language": "python",
   "name": "python3"
  },
  "language_info": {
   "codemirror_mode": {
    "name": "ipython",
    "version": 3
   },
   "file_extension": ".py",
   "mimetype": "text/x-python",
   "name": "python",
   "nbconvert_exporter": "python",
   "pygments_lexer": "ipython3",
   "version": "3.9.12"
  },
  "papermill": {
   "default_parameters": {},
   "duration": 21.763316,
   "end_time": "2022-05-08T15:40:17.583267",
   "environment_variables": {},
   "exception": null,
   "input_path": "bus_service_increase/competitive-parallel-routes.ipynb",
   "output_path": "portfolio/parallel_corridors/district_01-eureka/competitive-parallel-routes__itp_id_198.ipynb",
   "parameters": {
    "district": "01 - Eureka",
    "itp_id": 198
   },
   "start_time": "2022-05-08T15:39:55.819951",
   "version": "2.3.4"
  }
 },
 "nbformat": 4,
 "nbformat_minor": 5
}