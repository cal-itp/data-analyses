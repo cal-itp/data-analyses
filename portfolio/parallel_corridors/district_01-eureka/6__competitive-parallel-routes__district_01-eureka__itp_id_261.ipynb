{
 "cells": [
  {
   "cell_type": "code",
   "execution_count": 1,
   "id": "95d00857-6a20-4529-a519-2cc7182928a9",
   "metadata": {
    "execution": {
     "iopub.execute_input": "2022-05-12T01:50:55.701585Z",
     "iopub.status.busy": "2022-05-12T01:50:55.700655Z",
     "iopub.status.idle": "2022-05-12T01:51:04.155894Z",
     "shell.execute_reply": "2022-05-12T01:51:04.155242Z"
    },
    "jupyter": {
     "source_hidden": true
    },
    "papermill": {
     "duration": 8.471947,
     "end_time": "2022-05-12T01:51:04.158275",
     "exception": false,
     "start_time": "2022-05-12T01:50:55.686328",
     "status": "completed"
    },
    "tags": [
     "remove_input"
    ]
   },
   "outputs": [],
   "source": [
    "%%capture\n",
    "import warnings\n",
    "warnings.filterwarnings('ignore')\n",
    "\n",
    "import altair as alt\n",
    "import calitp.magics\n",
    "import geopandas as gpd\n",
    "import intake\n",
    "import pandas as pd\n",
    "\n",
    "from IPython.display import display, Markdown, HTML\n",
    "\n",
    "import parallel_corridors_utils\n",
    "import deploy_portfolio_yaml\n",
    "from shared_utils import styleguide, geography_utils\n",
    "from make_stripplot_data import diff_cutoffs\n",
    "\n",
    "catalog = intake.open_catalog(\"./*.yml\")\n",
    "alt.renderers.enable(\"html\")"
   ]
  },
  {
   "cell_type": "code",
   "execution_count": 2,
   "id": "8af2a0c1-f3da-408d-9bea-11d9fbf8695d",
   "metadata": {
    "execution": {
     "iopub.execute_input": "2022-05-12T01:51:04.186290Z",
     "iopub.status.busy": "2022-05-12T01:51:04.185568Z",
     "iopub.status.idle": "2022-05-12T01:51:04.190102Z",
     "shell.execute_reply": "2022-05-12T01:51:04.189240Z"
    },
    "jupyter": {
     "source_hidden": true
    },
    "papermill": {
     "duration": 0.020664,
     "end_time": "2022-05-12T01:51:04.192080",
     "exception": false,
     "start_time": "2022-05-12T01:51:04.171416",
     "status": "completed"
    },
    "tags": [
     "parameters",
     "remove_input"
    ]
   },
   "outputs": [],
   "source": [
    "# parameters cell\n",
    "itp_id = 182"
   ]
  },
  {
   "cell_type": "code",
   "execution_count": 3,
   "id": "f2a80632",
   "metadata": {
    "execution": {
     "iopub.execute_input": "2022-05-12T01:51:04.219232Z",
     "iopub.status.busy": "2022-05-12T01:51:04.218470Z",
     "iopub.status.idle": "2022-05-12T01:51:04.222790Z",
     "shell.execute_reply": "2022-05-12T01:51:04.222282Z"
    },
    "jupyter": {
     "source_hidden": true
    },
    "papermill": {
     "duration": 0.020108,
     "end_time": "2022-05-12T01:51:04.224504",
     "exception": false,
     "start_time": "2022-05-12T01:51:04.204396",
     "status": "completed"
    },
    "tags": [
     "injected-parameters",
     "remove_input"
    ]
   },
   "outputs": [],
   "source": [
    "# Parameters\n",
    "district = \"01 - Eureka\"\n",
    "itp_id = 261\n"
   ]
  },
  {
   "cell_type": "code",
   "execution_count": 4,
   "id": "9582aaf4-79ff-412a-b248-8d8d693ebd4f",
   "metadata": {
    "execution": {
     "iopub.execute_input": "2022-05-12T01:51:04.249985Z",
     "iopub.status.busy": "2022-05-12T01:51:04.249526Z",
     "iopub.status.idle": "2022-05-12T01:51:05.495627Z",
     "shell.execute_reply": "2022-05-12T01:51:05.494757Z"
    },
    "jupyter": {
     "source_hidden": true
    },
    "papermill": {
     "duration": 1.261571,
     "end_time": "2022-05-12T01:51:05.497874",
     "exception": false,
     "start_time": "2022-05-12T01:51:04.236303",
     "status": "completed"
    },
    "tags": [
     "remove_input"
    ]
   },
   "outputs": [],
   "source": [
    "df = catalog.competitive_route_variability.read()\n",
    "\n",
    "df = (df[(df.calitp_itp_id == itp_id) & \n",
    "         (df.route_group.notna())]\n",
    "      .rename(columns = {\"route_name_used\": \"route_name\"})\n",
    "      .reset_index(drop=True)\n",
    "     )\n",
    "\n",
    "if itp_id == 182:\n",
    "    df = df.assign(\n",
    "        route_id = df.route_id.str.replace('-13153', '').astype(int)\n",
    "    )"
   ]
  },
  {
   "cell_type": "code",
   "execution_count": 5,
   "id": "33ac4b06-f647-4dce-a625-8f2c1b37cc60",
   "metadata": {
    "execution": {
     "iopub.execute_input": "2022-05-12T01:51:05.525045Z",
     "iopub.status.busy": "2022-05-12T01:51:05.524502Z",
     "iopub.status.idle": "2022-05-12T01:51:05.531347Z",
     "shell.execute_reply": "2022-05-12T01:51:05.530750Z"
    },
    "jupyter": {
     "source_hidden": true
    },
    "papermill": {
     "duration": 0.022497,
     "end_time": "2022-05-12T01:51:05.533034",
     "exception": false,
     "start_time": "2022-05-12T01:51:05.510537",
     "status": "completed"
    },
    "tags": [
     "remove_input"
    ]
   },
   "outputs": [],
   "source": [
    "%%capture_parameters\n",
    "operator_name = df.name.iloc[0]\n",
    "district_number = f\"{df.caltrans_district.iloc[0].split('-')[0].strip()}\"\n",
    "district_name = f\"{df.caltrans_district.iloc[0].split('-')[1].strip().lower().replace(' ', '-')}\"\n",
    "\n",
    "itp_id, operator_name, district_number, district_name"
   ]
  },
  {
   "cell_type": "markdown",
   "id": "65bc6f5c-8348-42ee-b2dd-52057c406852",
   "metadata": {
    "papermill": {
     "duration": 0.012357,
     "end_time": "2022-05-12T01:51:05.558280",
     "exception": false,
     "start_time": "2022-05-12T01:51:05.545923",
     "status": "completed"
    },
    "tags": []
   },
   "source": [
    "# Redwood Coast Transit Authority (ITP ID: 261)"
   ]
  },
  {
   "cell_type": "code",
   "execution_count": 6,
   "id": "a689c1ab-2c6c-4831-8d64-897f5986f571",
   "metadata": {
    "execution": {
     "iopub.execute_input": "2022-05-12T01:51:05.589823Z",
     "iopub.status.busy": "2022-05-12T01:51:05.589536Z",
     "iopub.status.idle": "2022-05-12T01:51:05.595110Z",
     "shell.execute_reply": "2022-05-12T01:51:05.594359Z"
    },
    "jupyter": {
     "source_hidden": true
    },
    "papermill": {
     "duration": 0.026519,
     "end_time": "2022-05-12T01:51:05.596881",
     "exception": false,
     "start_time": "2022-05-12T01:51:05.570362",
     "status": "completed"
    },
    "tags": [
     "remove_input"
    ]
   },
   "outputs": [
    {
     "data": {
      "text/html": [
       "<h1>Competitive & Parallel Routes</h1>"
      ],
      "text/plain": [
       "<IPython.core.display.HTML object>"
      ]
     },
     "metadata": {},
     "output_type": "display_data"
    }
   ],
   "source": [
    "display(HTML(\"<h1>Competitive & Parallel Routes</h1>\")) "
   ]
  },
  {
   "cell_type": "code",
   "execution_count": 7,
   "id": "2cb4d8d5-4760-40e4-85b1-cb833d8bb648",
   "metadata": {
    "execution": {
     "iopub.execute_input": "2022-05-12T01:51:05.624351Z",
     "iopub.status.busy": "2022-05-12T01:51:05.623850Z",
     "iopub.status.idle": "2022-05-12T01:51:26.184102Z",
     "shell.execute_reply": "2022-05-12T01:51:26.183223Z"
    },
    "jupyter": {
     "source_hidden": true
    },
    "papermill": {
     "duration": 20.578252,
     "end_time": "2022-05-12T01:51:26.187505",
     "exception": false,
     "start_time": "2022-05-12T01:51:05.609253",
     "status": "completed"
    },
    "tags": [
     "remove_input"
    ]
   },
   "outputs": [],
   "source": [
    "# Grab parameters for narrative text - clean up formatting here \n",
    "district = df.caltrans_district.iloc[0]\n",
    "formatted_date = pd.to_datetime(parallel_corridors_utils.SELECTED_DATE).strftime('%m-%d-%Y')\n",
    "\n",
    "PCT_COMPETITIVE_THRESHOLD = 0.75\n",
    "PCT_TRIPS_BELOW_CUTOFF = 0.50\n",
    "\n",
    "stats = parallel_corridors_utils.operator_parallel_competitive_stats(\n",
    "    itp_id, PCT_COMPETITIVE_THRESHOLD, PCT_TRIPS_BELOW_CUTOFF)\n",
    "\n",
    "pct_parallel = round(stats['parallel_routes'] / stats['num_routes'] * 100, 1 )\n",
    "pct_competitive =  round(stats['competitive_routes'] / stats['num_routes'] * 100, 1 )\n",
    "pct_viable =  round(stats['viable_competitive_routes'] / stats['num_routes'] * 100, 1 )"
   ]
  },
  {
   "cell_type": "code",
   "execution_count": 8,
   "id": "8bf30c8f-6aa5-47bb-82ae-a906732e81fd",
   "metadata": {
    "execution": {
     "iopub.execute_input": "2022-05-12T01:51:26.230545Z",
     "iopub.status.busy": "2022-05-12T01:51:26.230158Z",
     "iopub.status.idle": "2022-05-12T01:51:26.260198Z",
     "shell.execute_reply": "2022-05-12T01:51:26.259536Z"
    },
    "jupyter": {
     "source_hidden": true
    },
    "papermill": {
     "duration": 0.047595,
     "end_time": "2022-05-12T01:51:26.262284",
     "exception": false,
     "start_time": "2022-05-12T01:51:26.214689",
     "status": "completed"
    },
    "tags": [
     "remove_input"
    ]
   },
   "outputs": [],
   "source": [
    "# Display a table of route-level stats for each route_group\n",
    "# Displaying route_name makes chart too crowded\n",
    "\n",
    "# Get route stats (for entire df)\n",
    "route_stats = parallel_corridors_utils.competitive_route_level_stats(df)\n",
    "    \n",
    "def style_route_stats(df, top15_routes):\n",
    "    df = df[df.route_id.isin(top15_routes)]\n",
    "    \n",
    "    # Rename columns for display\n",
    "    rename_cols = {\n",
    "        \"route_id\": \"Route ID\",\n",
    "        \"route_name\": \"Route Name\",\n",
    "        \"route_group\": \"Route Group\",\n",
    "        \"num_trips\": \"# trips\",\n",
    "        \"daily_avg_freq\": \"Daily Avg Freq (trips per hr)\",\n",
    "        \"pm_peak_freq\": \"PM Peak Avg Freq (trips per hr)\",\n",
    "        \"percentiles\": \"25th, 50th, 75th ptile (hrs)\",\n",
    "    }\n",
    "    \n",
    "    # Style it\n",
    "    drop_cols = [\n",
    "        \"calitp_itp_id\", \"below_cutoff\", \"route_group\", \n",
    "        \"pct_trips_competitive\", \"pct_below_cutoff\",\n",
    "        \"p25\", \"p50\", \"p75\",\n",
    "    ]\n",
    "    \n",
    "    # Change alignment for some columns\n",
    "    # https://stackoverflow.com/questions/59453091/left-align-the-first-column-and-center-align-the-other-columns-in-a-pandas-table\n",
    "    df_style = (df.sort_values(\n",
    "        [\"pct_trips_competitive\", \"below_cutoff\", \n",
    "        \"pct_below_cutoff\", \"route_id\"], \n",
    "        ascending=[False, False, False, True])\n",
    "           .drop(columns = drop_cols)\n",
    "           .rename(columns = rename_cols)\n",
    "           .style.format(\n",
    "               subset=['Daily Avg Freq (trips per hr)', \n",
    "                       'PM Peak Avg Freq (trips per hr)'], \n",
    "               **{'formatter': '{:,.3}'})\n",
    "                .set_properties(subset=['Route ID', 'Route Name'], \n",
    "                                **{'text-align': 'left'})\n",
    "                .set_properties(subset=['# trips', 'Daily Avg Freq (trips per hr)', \n",
    "                                       'PM Peak Avg Freq (trips per hr)'], \n",
    "                               **{'text-align': 'center'})\n",
    "                .set_table_styles([dict(selector='th', \n",
    "                                        props=[('text-align', 'center')])\n",
    "                                        ])\n",
    "           .hide(axis=\"index\")\n",
    "           .to_html()\n",
    "          )\n",
    "    \n",
    "    display(HTML(\"<h4>Route Stats</h4>\"))\n",
    "    display(HTML(df_style))"
   ]
  },
  {
   "cell_type": "markdown",
   "id": "ab667928-5274-4490-82d9-4c39293209a4",
   "metadata": {
    "papermill": {
     "duration": 0.013097,
     "end_time": "2022-05-12T01:51:26.288871",
     "exception": false,
     "start_time": "2022-05-12T01:51:26.275774",
     "status": "completed"
    },
    "tags": []
   },
   "source": [
    "## Quick Stats"
   ]
  },
  {
   "cell_type": "code",
   "execution_count": 9,
   "id": "0416509d-dc62-4165-b62e-64f8b26e8b8e",
   "metadata": {
    "execution": {
     "iopub.execute_input": "2022-05-12T01:51:26.317368Z",
     "iopub.status.busy": "2022-05-12T01:51:26.316847Z",
     "iopub.status.idle": "2022-05-12T01:51:26.322989Z",
     "shell.execute_reply": "2022-05-12T01:51:26.322467Z"
    },
    "jupyter": {
     "source_hidden": true
    },
    "papermill": {
     "duration": 0.022169,
     "end_time": "2022-05-12T01:51:26.324728",
     "exception": false,
     "start_time": "2022-05-12T01:51:26.302559",
     "status": "completed"
    },
    "tags": [
     "remove_input"
    ]
   },
   "outputs": [
    {
     "data": {
      "text/markdown": [
       "**Bus routes in service: 8**<br>**Parallel routes** to State Highway Network (SHN): **8 routes (100.0%)**<br>**Competitive routes** against car travel (within 2x car travel time): **6 routes (75.0%)**<br>**Viable competitive routes** against car travel (within 2x car travel time and within 20, 30, or 40 min cut-off): **6 routes (75.0%)**"
      ],
      "text/plain": [
       "<IPython.core.display.Markdown object>"
      ]
     },
     "metadata": {},
     "output_type": "display_data"
    }
   ],
   "source": [
    "display(\n",
    "    Markdown(\n",
    "        f\"**Bus routes in service: {stats['num_routes']}**\"\n",
    "        \"<br>**Parallel routes** to State Highway Network (SHN): \"\n",
    "        f\"**{stats['parallel_routes']} routes ({pct_parallel}%)**\"\n",
    "        \"<br>**Competitive routes** against car travel (within 2x car travel time): \"\n",
    "        f\"**{stats['competitive_routes']} routes ({pct_competitive}%)**\"\n",
    "        \"<br>**Viable competitive routes** against car travel \"\n",
    "        \"(within 2x car travel time and within 20, 30, or 40 min cut-off): \"\n",
    "        f\"**{stats['viable_competitive_routes']} routes ({pct_viable}%)**\"\n",
    "    )\n",
    ")"
   ]
  },
  {
   "cell_type": "code",
   "execution_count": 10,
   "id": "f9d6ab58-f0ee-460c-b6de-657490e1f386",
   "metadata": {
    "execution": {
     "iopub.execute_input": "2022-05-12T01:51:26.375049Z",
     "iopub.status.busy": "2022-05-12T01:51:26.374725Z",
     "iopub.status.idle": "2022-05-12T01:51:26.388550Z",
     "shell.execute_reply": "2022-05-12T01:51:26.387626Z"
    },
    "jupyter": {
     "source_hidden": true
    },
    "papermill": {
     "duration": 0.043373,
     "end_time": "2022-05-12T01:51:26.391655",
     "exception": false,
     "start_time": "2022-05-12T01:51:26.348282",
     "status": "completed"
    },
    "tags": [
     "remove_input"
    ]
   },
   "outputs": [],
   "source": [
    "def set_yaxis_range(df, y_col):\n",
    "    Y_MIN = df[y_col].min()\n",
    "    Y_MAX = df[y_col].max()\n",
    "    \n",
    "    return Y_MIN, Y_MAX\n",
    "\n",
    "# Rather than set it according to the operator, which can vary,\n",
    "# just use set thresholds for each group\n",
    "def top15_routes(df, route_group):\n",
    "    # grab top 15 routes where majority of trips are below that cut-off \n",
    "    # but show 15 max, otherwise, show less, since these won't be as interesting to operators\n",
    "    df2 = (df[(df.route_group==route_group) &\n",
    "              (df.pct_below_cutoff >= PCT_TRIPS_BELOW_CUTOFF)]\n",
    "           .sort_values([\"calitp_itp_id\", \"below_cutoff\", \n",
    "                         \"pct_below_cutoff\", \"route_id\"],\n",
    "                        ascending = [True, False, False, True]\n",
    "                       )\n",
    "           .drop_duplicates(subset=[\"calitp_itp_id\", \"route_id\"])\n",
    "          ).head(15)\n",
    "    \n",
    "    return list(df2.route_id)"
   ]
  },
  {
   "cell_type": "code",
   "execution_count": 11,
   "id": "cf36d559-3349-4144-8086-8ac9ce937a5a",
   "metadata": {
    "execution": {
     "iopub.execute_input": "2022-05-12T01:51:26.436607Z",
     "iopub.status.busy": "2022-05-12T01:51:26.436253Z",
     "iopub.status.idle": "2022-05-12T01:51:26.444720Z",
     "shell.execute_reply": "2022-05-12T01:51:26.443837Z"
    },
    "jupyter": {
     "source_hidden": true
    },
    "papermill": {
     "duration": 0.032279,
     "end_time": "2022-05-12T01:51:26.446819",
     "exception": false,
     "start_time": "2022-05-12T01:51:26.414540",
     "status": "completed"
    },
    "tags": [
     "remove_input"
    ]
   },
   "outputs": [],
   "source": [
    "def caption_with_cutoff(cutoff):\n",
    "    sentence = (\n",
    "        f\"<br>These are routes that have **at least {int(PCT_TRIPS_BELOW_CUTOFF*100)}% \"\n",
    "        \"of their trips take no more than an \"\n",
    "        f\"additional {cutoff} min** compared to a car \"\n",
    "        \"(up to 15 routes) are shown.\"\n",
    "        \"<br>Within each route group, routes are sorted in descending order \"\n",
    "        \"by % competitive trips and # trips below the additional time cut-off.\"\n",
    "    )\n",
    "    return sentence\n",
    "\n",
    "CAPTIONS_DICT = {\n",
    "    \"short\": caption_with_cutoff(diff_cutoffs['short']),\n",
    "    \"medium\": caption_with_cutoff(diff_cutoffs['medium']),\n",
    "    \"long\": caption_with_cutoff(diff_cutoffs['long']),\n",
    "}"
   ]
  },
  {
   "cell_type": "code",
   "execution_count": 12,
   "id": "e4306d58-6944-47e9-afef-5d5b524c751f",
   "metadata": {
    "execution": {
     "iopub.execute_input": "2022-05-12T01:51:26.480967Z",
     "iopub.status.busy": "2022-05-12T01:51:26.480701Z",
     "iopub.status.idle": "2022-05-12T01:51:26.489308Z",
     "shell.execute_reply": "2022-05-12T01:51:26.486769Z"
    },
    "jupyter": {
     "source_hidden": true
    },
    "papermill": {
     "duration": 0.028363,
     "end_time": "2022-05-12T01:51:26.491294",
     "exception": false,
     "start_time": "2022-05-12T01:51:26.462931",
     "status": "completed"
    },
    "tags": [
     "remove_input"
    ]
   },
   "outputs": [],
   "source": [
    "def setup_charts(df, PCT_COMPETITIVE_THRESHOLD, route_group):\n",
    "    # Set up df for charting (cut-off at some threshold to show most competitive routes)\n",
    "    plot_me = (df[df.pct_trips_competitive > PCT_COMPETITIVE_THRESHOLD]\n",
    "           .drop(columns = \"geometry\")\n",
    "    )\n",
    "    \n",
    "    # Set y-ranges to be the same across route_groups, \n",
    "    # otherwise charts fluctuate too much, even within operator\n",
    "    y_col1 = \"bus_multiplier\"\n",
    "    Y_MIN1, Y_MAX1 = set_yaxis_range(plot_me, y_col1)\n",
    "\n",
    "    y_col2 = \"bus_difference\"\n",
    "    Y_MIN2, Y_MAX2 = set_yaxis_range(plot_me, y_col2)\n",
    "    \n",
    "    # Grab the routes to plot\n",
    "    subset_routes = top15_routes(plot_me, route_group)\n",
    "        \n",
    "    # Display charts\n",
    "    multiplier_chart = parallel_corridors_utils.make_stripplot(\n",
    "        plot_me[plot_me.route_id.isin(subset_routes)], \n",
    "        y_col1, Y_MIN = Y_MIN1, Y_MAX = Y_MAX1\n",
    "    )\n",
    "    \n",
    "    difference_chart = parallel_corridors_utils.make_stripplot(\n",
    "        plot_me[plot_me.route_id.isin(subset_routes)], \n",
    "        y_col2, Y_MIN = Y_MIN2, Y_MAX = Y_MAX2\n",
    "    )\n",
    "    \n",
    "    return subset_routes, multiplier_chart, difference_chart            "
   ]
  },
  {
   "cell_type": "code",
   "execution_count": 13,
   "id": "33a710e8-504c-4942-aa75-ff69f216956e",
   "metadata": {
    "execution": {
     "iopub.execute_input": "2022-05-12T01:51:26.525455Z",
     "iopub.status.busy": "2022-05-12T01:51:26.523147Z",
     "iopub.status.idle": "2022-05-12T01:51:26.530488Z",
     "shell.execute_reply": "2022-05-12T01:51:26.529894Z"
    },
    "jupyter": {
     "source_hidden": true
    },
    "papermill": {
     "duration": 0.025441,
     "end_time": "2022-05-12T01:51:26.532407",
     "exception": false,
     "start_time": "2022-05-12T01:51:26.506966",
     "status": "completed"
    },
    "tags": [
     "remove_input"
    ]
   },
   "outputs": [],
   "source": [
    "def display_charts_for_route_group(df, route_group):    \n",
    "    subset_routes, mult, diff  = setup_charts(df, PCT_COMPETITIVE_THRESHOLD, route_group)\n",
    "\n",
    "    if len(subset_routes) > 0:\n",
    "        display(Markdown(f\"{CAPTIONS_DICT[route_group]}\"))\n",
    "\n",
    "        display(mult)\n",
    "        display(diff)\n",
    "        \n",
    "        # Display route stats for just plotted routes\n",
    "        style_route_stats(route_stats, subset_routes)"
   ]
  },
  {
   "cell_type": "markdown",
   "id": "525f9b38-072b-46d1-96a8-1aa4b038357c",
   "metadata": {
    "papermill": {
     "duration": 0.015578,
     "end_time": "2022-05-12T01:51:26.566158",
     "exception": false,
     "start_time": "2022-05-12T01:51:26.550580",
     "status": "completed"
    },
    "tags": []
   },
   "source": [
    "## Viable Competitive Routes\n",
    "### Short Routes (< 1 hr)"
   ]
  },
  {
   "cell_type": "code",
   "execution_count": 14,
   "id": "57f7084c-2cf7-45c6-ba08-1609e0bd6ca5",
   "metadata": {
    "execution": {
     "iopub.execute_input": "2022-05-12T01:51:26.606869Z",
     "iopub.status.busy": "2022-05-12T01:51:26.606582Z",
     "iopub.status.idle": "2022-05-12T01:51:26.910872Z",
     "shell.execute_reply": "2022-05-12T01:51:26.909990Z"
    },
    "jupyter": {
     "source_hidden": true
    },
    "papermill": {
     "duration": 0.323989,
     "end_time": "2022-05-12T01:51:26.913377",
     "exception": false,
     "start_time": "2022-05-12T01:51:26.589388",
     "status": "completed"
    },
    "tags": [
     "remove_input"
    ]
   },
   "outputs": [
    {
     "data": {
      "text/markdown": [
       "<br>These are routes that have **at least 50% of their trips take no more than an additional 20 min** compared to a car (up to 15 routes) are shown.<br>Within each route group, routes are sorted in descending order by % competitive trips and # trips below the additional time cut-off."
      ],
      "text/plain": [
       "<IPython.core.display.Markdown object>"
      ]
     },
     "metadata": {},
     "output_type": "display_data"
    },
    {
     "data": {
      "text/html": [
       "\n",
       "<div id=\"altair-viz-edac0a63e5ae4cfe99e90b57d2e7fecb\"></div>\n",
       "<script type=\"text/javascript\">\n",
       "  var VEGA_DEBUG = (typeof VEGA_DEBUG == \"undefined\") ? {} : VEGA_DEBUG;\n",
       "  (function(spec, embedOpt){\n",
       "    let outputDiv = document.currentScript.previousElementSibling;\n",
       "    if (outputDiv.id !== \"altair-viz-edac0a63e5ae4cfe99e90b57d2e7fecb\") {\n",
       "      outputDiv = document.getElementById(\"altair-viz-edac0a63e5ae4cfe99e90b57d2e7fecb\");\n",
       "    }\n",
       "    const paths = {\n",
       "      \"vega\": \"https://cdn.jsdelivr.net/npm//vega@5?noext\",\n",
       "      \"vega-lib\": \"https://cdn.jsdelivr.net/npm//vega-lib?noext\",\n",
       "      \"vega-lite\": \"https://cdn.jsdelivr.net/npm//vega-lite@4.17.0?noext\",\n",
       "      \"vega-embed\": \"https://cdn.jsdelivr.net/npm//vega-embed@6?noext\",\n",
       "    };\n",
       "\n",
       "    function maybeLoadScript(lib, version) {\n",
       "      var key = `${lib.replace(\"-\", \"\")}_version`;\n",
       "      return (VEGA_DEBUG[key] == version) ?\n",
       "        Promise.resolve(paths[lib]) :\n",
       "        new Promise(function(resolve, reject) {\n",
       "          var s = document.createElement('script');\n",
       "          document.getElementsByTagName(\"head\")[0].appendChild(s);\n",
       "          s.async = true;\n",
       "          s.onload = () => {\n",
       "            VEGA_DEBUG[key] = version;\n",
       "            return resolve(paths[lib]);\n",
       "          };\n",
       "          s.onerror = () => reject(`Error loading script: ${paths[lib]}`);\n",
       "          s.src = paths[lib];\n",
       "        });\n",
       "    }\n",
       "\n",
       "    function showError(err) {\n",
       "      outputDiv.innerHTML = `<div class=\"error\" style=\"color:red;\">${err}</div>`;\n",
       "      throw err;\n",
       "    }\n",
       "\n",
       "    function displayChart(vegaEmbed) {\n",
       "      vegaEmbed(outputDiv, spec, embedOpt)\n",
       "        .catch(err => showError(`Javascript Error: ${err.message}<br>This usually means there's a typo in your chart specification. See the javascript console for the full traceback.`));\n",
       "    }\n",
       "\n",
       "    if(typeof define === \"function\" && define.amd) {\n",
       "      requirejs.config({paths});\n",
       "      require([\"vega-embed\"], displayChart, err => showError(`Error loading script: ${err.message}`));\n",
       "    } else {\n",
       "      maybeLoadScript(\"vega\", \"5\")\n",
       "        .then(() => maybeLoadScript(\"vega-lite\", \"4.17.0\"))\n",
       "        .then(() => maybeLoadScript(\"vega-embed\", \"6\"))\n",
       "        .catch(showError)\n",
       "        .then(() => displayChart(vegaEmbed));\n",
       "    }\n",
       "  })({\"config\": {\"view\": {\"continuousWidth\": 400, \"continuousHeight\": 300, \"stroke\": null}, \"facet\": {\"spacing\": 0}}, \"data\": {\"name\": \"data-31533dd05dd6c66740123ae9927d39e6\"}, \"facet\": {\"column\": {\"field\": \"route_id\", \"sort\": [\"115\", \"116\", \"118\", \"257\", \"14242\", \"32532\"], \"title\": \"Route ID\", \"type\": \"nominal\"}}, \"spec\": {\"layer\": [{\"mark\": \"rule\", \"encoding\": {\"color\": {\"value\": \"black\"}, \"y\": {\"field\": \"cutoff\", \"type\": \"quantitative\"}}, \"selection\": {\"selector001\": {\"type\": \"interval\", \"bind\": \"scales\", \"encodings\": [\"x\", \"y\"]}}}, {\"mark\": {\"type\": \"point\", \"opacity\": 0.65, \"size\": 12, \"strokeWidth\": 1.1}, \"encoding\": {\"color\": {\"field\": \"time_of_day\", \"scale\": {\"range\": [\"#136C97\", \"#E16B26\", \"#F6BF16\", \"#00896B\", \"#7790A3\", \"#5B559C\"]}, \"sort\": [\"AM Peak\", \"Midday\", \"PM Peak\", \"Owl Service\"], \"title\": \"Time of Day\", \"type\": \"nominal\"}, \"tooltip\": [{\"field\": \"route_id\", \"type\": \"nominal\"}, {\"field\": \"route_name\", \"type\": \"nominal\"}, {\"field\": \"trip_id\", \"type\": \"nominal\"}, {\"field\": \"service_hours\", \"type\": \"quantitative\"}, {\"field\": \"car_duration_hours\", \"type\": \"quantitative\"}, {\"field\": \"bus_multiplier\", \"type\": \"quantitative\"}, {\"field\": \"bus_difference\", \"type\": \"quantitative\"}, {\"field\": \"num_trips\", \"type\": \"quantitative\"}, {\"field\": \"num_competitive\", \"type\": \"quantitative\"}, {\"field\": \"pct_trips_competitive\", \"type\": \"quantitative\"}, {\"field\": \"p25\", \"type\": \"quantitative\"}, {\"field\": \"p50\", \"type\": \"quantitative\"}, {\"field\": \"p75\", \"type\": \"quantitative\"}], \"x\": {\"axis\": {\"grid\": false, \"labels\": false, \"ticks\": true, \"values\": [0]}, \"field\": \"jitter\", \"scale\": {}, \"title\": null, \"type\": \"quantitative\"}, \"y\": {\"field\": \"bus_multiplier\", \"scale\": {\"domain\": [-0.25, 3.0]}, \"title\": \"Ratio of Bus to Car Travel Time\", \"type\": \"quantitative\"}}, \"transform\": [{\"calculate\": \"sqrt(-2*log(random()))*cos(2*PI*random())\", \"as\": \"jitter\"}], \"width\": 50}, {\"layer\": [{\"mark\": {\"type\": \"point\", \"opacity\": 0.6, \"size\": 20, \"strokeWidth\": 1.3}, \"encoding\": {\"color\": {\"value\": \"#323434\"}, \"y\": {\"field\": \"bus_multiplier\", \"type\": \"quantitative\"}}, \"transform\": [{\"filter\": \"(datum.p50_trip === 1)\"}]}, {\"mark\": {\"type\": \"text\", \"align\": \"center\", \"baseline\": \"middle\"}, \"encoding\": {\"color\": {\"value\": \"black\"}, \"text\": {\"field\": \"pct_trips_competitive\", \"format\": \".0%\", \"type\": \"quantitative\"}, \"tooltip\": [{\"field\": \"route_id\", \"type\": \"nominal\"}, {\"field\": \"route_name\", \"type\": \"nominal\"}, {\"field\": \"trip_id\", \"type\": \"nominal\"}, {\"field\": \"service_hours\", \"type\": \"quantitative\"}, {\"field\": \"car_duration_hours\", \"type\": \"quantitative\"}, {\"field\": \"bus_multiplier\", \"type\": \"quantitative\"}, {\"field\": \"bus_difference\", \"type\": \"quantitative\"}, {\"field\": \"num_trips\", \"type\": \"quantitative\"}, {\"field\": \"num_competitive\", \"type\": \"quantitative\"}, {\"field\": \"pct_trips_competitive\", \"type\": \"quantitative\"}, {\"field\": \"p25\", \"type\": \"quantitative\"}, {\"field\": \"p50\", \"type\": \"quantitative\"}, {\"field\": \"p75\", \"type\": \"quantitative\"}], \"x\": {\"value\": 30}, \"y\": {\"value\": 15}}, \"transform\": [{\"calculate\": \"sqrt(-2*log(random()))*cos(2*PI*random())\", \"as\": \"jitter\"}, {\"filter\": \"(datum.fastest_trip === 1)\"}]}]}]}, \"resolve\": {\"scale\": {\"y\": \"shared\"}}, \"title\": \"Ratio of Bus to Car Travel Time\", \"$schema\": \"https://vega.github.io/schema/vega-lite/v4.17.0.json\", \"datasets\": {\"data-31533dd05dd6c66740123ae9927d39e6\": [{\"calitp_itp_id\": 261, \"trip_key\": -1513885202343270587, \"trip_id\": \"t_2006044_b_33487_tn_1\", \"shape_id\": \"p_2320\", \"route_id\": \"115\", \"service_hours\": 0.42, \"trip_first_departure_ts\": 30600, \"trip_last_arrival_ts\": 32100, \"departure_hour\": 8, \"time_of_day\": \"AM Peak\", \"p25\": 0.42, \"p50\": 0.42, \"p75\": 0.42, \"p50_trip\": 1, \"fastest_trip\": 0, \"car_duration_hours\": 0.28, \"competitive_route\": 1, \"bus_multiplier\": 1.5, \"bus_difference\": 8.4, \"num_trips\": 9, \"num_competitive\": 9, \"pct_trips_competitive\": 1.0, \"bus_difference_spread\": 0.0, \"route_group\": \"short\", \"max_trip_hrs\": 0.42, \"max_trip_route_group\": 0.42, \"below_cutoff\": 9, \"pct_below_cutoff\": 1.0, \"name\": \"Redwood Coast Transit Authority\", \"caltrans_district\": \"01 - Eureka\", \"drmt_organization_name\": null, \"route_name\": \"Wal-Mart / El Dorado\", \"cutoff2\": 20, \"cutoff\": 2}, {\"calitp_itp_id\": 261, \"trip_key\": -6399513270577486302, \"trip_id\": \"t_2006044_b_33487_tn_5\", \"shape_id\": \"p_2320\", \"route_id\": \"115\", \"service_hours\": 0.42, \"trip_first_departure_ts\": 45000, \"trip_last_arrival_ts\": 46500, \"departure_hour\": 12, \"time_of_day\": \"Midday\", \"p25\": 0.42, \"p50\": 0.42, \"p75\": 0.42, \"p50_trip\": 1, \"fastest_trip\": 0, \"car_duration_hours\": 0.28, \"competitive_route\": 1, \"bus_multiplier\": 1.5, \"bus_difference\": 8.4, \"num_trips\": 9, \"num_competitive\": 9, \"pct_trips_competitive\": 1.0, \"bus_difference_spread\": 0.0, \"route_group\": \"short\", \"max_trip_hrs\": 0.42, \"max_trip_route_group\": 0.42, \"below_cutoff\": 9, \"pct_below_cutoff\": 1.0, \"name\": \"Redwood Coast Transit Authority\", \"caltrans_district\": \"01 - Eureka\", \"drmt_organization_name\": null, \"route_name\": \"Wal-Mart / El Dorado\", \"cutoff2\": 20, \"cutoff\": 2}, {\"calitp_itp_id\": 261, \"trip_key\": 7708485609107697998, \"trip_id\": \"t_2006044_b_33487_tn_8\", \"shape_id\": \"p_2320\", \"route_id\": \"115\", \"service_hours\": 0.42, \"trip_first_departure_ts\": 55800, \"trip_last_arrival_ts\": 57300, \"departure_hour\": 15, \"time_of_day\": \"Midday\", \"p25\": 0.42, \"p50\": 0.42, \"p75\": 0.42, \"p50_trip\": 1, \"fastest_trip\": 0, \"car_duration_hours\": 0.28, \"competitive_route\": 1, \"bus_multiplier\": 1.5, \"bus_difference\": 8.4, \"num_trips\": 9, \"num_competitive\": 9, \"pct_trips_competitive\": 1.0, \"bus_difference_spread\": 0.0, \"route_group\": \"short\", \"max_trip_hrs\": 0.42, \"max_trip_route_group\": 0.42, \"below_cutoff\": 9, \"pct_below_cutoff\": 1.0, \"name\": \"Redwood Coast Transit Authority\", \"caltrans_district\": \"01 - Eureka\", \"drmt_organization_name\": null, \"route_name\": \"Wal-Mart / El Dorado\", \"cutoff2\": 20, \"cutoff\": 2}, {\"calitp_itp_id\": 261, \"trip_key\": -4365943257262203767, \"trip_id\": \"t_2006044_b_33487_tn_4\", \"shape_id\": \"p_2320\", \"route_id\": \"115\", \"service_hours\": 0.42, \"trip_first_departure_ts\": 41400, \"trip_last_arrival_ts\": 42900, \"departure_hour\": 11, \"time_of_day\": \"Midday\", \"p25\": 0.42, \"p50\": 0.42, \"p75\": 0.42, \"p50_trip\": 1, \"fastest_trip\": 0, \"car_duration_hours\": 0.28, \"competitive_route\": 1, \"bus_multiplier\": 1.5, \"bus_difference\": 8.4, \"num_trips\": 9, \"num_competitive\": 9, \"pct_trips_competitive\": 1.0, \"bus_difference_spread\": 0.0, \"route_group\": \"short\", \"max_trip_hrs\": 0.42, \"max_trip_route_group\": 0.42, \"below_cutoff\": 9, \"pct_below_cutoff\": 1.0, \"name\": \"Redwood Coast Transit Authority\", \"caltrans_district\": \"01 - Eureka\", \"drmt_organization_name\": null, \"route_name\": \"Wal-Mart / El Dorado\", \"cutoff2\": 20, \"cutoff\": 2}, {\"calitp_itp_id\": 261, \"trip_key\": -5640992416670111741, \"trip_id\": \"t_2006044_b_33487_tn_6\", \"shape_id\": \"p_2320\", \"route_id\": \"115\", \"service_hours\": 0.42, \"trip_first_departure_ts\": 48600, \"trip_last_arrival_ts\": 50100, \"departure_hour\": 13, \"time_of_day\": \"Midday\", \"p25\": 0.42, \"p50\": 0.42, \"p75\": 0.42, \"p50_trip\": 1, \"fastest_trip\": 0, \"car_duration_hours\": 0.28, \"competitive_route\": 1, \"bus_multiplier\": 1.5, \"bus_difference\": 8.4, \"num_trips\": 9, \"num_competitive\": 9, \"pct_trips_competitive\": 1.0, \"bus_difference_spread\": 0.0, \"route_group\": \"short\", \"max_trip_hrs\": 0.42, \"max_trip_route_group\": 0.42, \"below_cutoff\": 9, \"pct_below_cutoff\": 1.0, \"name\": \"Redwood Coast Transit Authority\", \"caltrans_district\": \"01 - Eureka\", \"drmt_organization_name\": null, \"route_name\": \"Wal-Mart / El Dorado\", \"cutoff2\": 20, \"cutoff\": 2}, {\"calitp_itp_id\": 261, \"trip_key\": 3864538598402440862, \"trip_id\": \"t_2006044_b_33487_tn_9\", \"shape_id\": \"p_2320\", \"route_id\": \"115\", \"service_hours\": 0.42, \"trip_first_departure_ts\": 59400, \"trip_last_arrival_ts\": 60900, \"departure_hour\": 16, \"time_of_day\": \"Midday\", \"p25\": 0.42, \"p50\": 0.42, \"p75\": 0.42, \"p50_trip\": 1, \"fastest_trip\": 1, \"car_duration_hours\": 0.28, \"competitive_route\": 1, \"bus_multiplier\": 1.5, \"bus_difference\": 8.4, \"num_trips\": 9, \"num_competitive\": 9, \"pct_trips_competitive\": 1.0, \"bus_difference_spread\": 0.0, \"route_group\": \"short\", \"max_trip_hrs\": 0.42, \"max_trip_route_group\": 0.42, \"below_cutoff\": 9, \"pct_below_cutoff\": 1.0, \"name\": \"Redwood Coast Transit Authority\", \"caltrans_district\": \"01 - Eureka\", \"drmt_organization_name\": null, \"route_name\": \"Wal-Mart / El Dorado\", \"cutoff2\": 20, \"cutoff\": 2}, {\"calitp_itp_id\": 261, \"trip_key\": -6676047693299356637, \"trip_id\": \"t_2006044_b_33487_tn_3\", \"shape_id\": \"p_2320\", \"route_id\": \"115\", \"service_hours\": 0.42, \"trip_first_departure_ts\": 37800, \"trip_last_arrival_ts\": 39300, \"departure_hour\": 10, \"time_of_day\": \"Midday\", \"p25\": 0.42, \"p50\": 0.42, \"p75\": 0.42, \"p50_trip\": 1, \"fastest_trip\": 0, \"car_duration_hours\": 0.28, \"competitive_route\": 1, \"bus_multiplier\": 1.5, \"bus_difference\": 8.4, \"num_trips\": 9, \"num_competitive\": 9, \"pct_trips_competitive\": 1.0, \"bus_difference_spread\": 0.0, \"route_group\": \"short\", \"max_trip_hrs\": 0.42, \"max_trip_route_group\": 0.42, \"below_cutoff\": 9, \"pct_below_cutoff\": 1.0, \"name\": \"Redwood Coast Transit Authority\", \"caltrans_district\": \"01 - Eureka\", \"drmt_organization_name\": null, \"route_name\": \"Wal-Mart / El Dorado\", \"cutoff2\": 20, \"cutoff\": 2}, {\"calitp_itp_id\": 261, \"trip_key\": 3602763330778050808, \"trip_id\": \"t_2006044_b_33487_tn_2\", \"shape_id\": \"p_2320\", \"route_id\": \"115\", \"service_hours\": 0.42, \"trip_first_departure_ts\": 34200, \"trip_last_arrival_ts\": 35700, \"departure_hour\": 9, \"time_of_day\": \"AM Peak\", \"p25\": 0.42, \"p50\": 0.42, \"p75\": 0.42, \"p50_trip\": 1, \"fastest_trip\": 0, \"car_duration_hours\": 0.28, \"competitive_route\": 1, \"bus_multiplier\": 1.5, \"bus_difference\": 8.4, \"num_trips\": 9, \"num_competitive\": 9, \"pct_trips_competitive\": 1.0, \"bus_difference_spread\": 0.0, \"route_group\": \"short\", \"max_trip_hrs\": 0.42, \"max_trip_route_group\": 0.42, \"below_cutoff\": 9, \"pct_below_cutoff\": 1.0, \"name\": \"Redwood Coast Transit Authority\", \"caltrans_district\": \"01 - Eureka\", \"drmt_organization_name\": null, \"route_name\": \"Wal-Mart / El Dorado\", \"cutoff2\": 20, \"cutoff\": 2}, {\"calitp_itp_id\": 261, \"trip_key\": 6255870441710139008, \"trip_id\": \"t_2006044_b_33487_tn_7\", \"shape_id\": \"p_2320\", \"route_id\": \"115\", \"service_hours\": 0.42, \"trip_first_departure_ts\": 52200, \"trip_last_arrival_ts\": 53700, \"departure_hour\": 14, \"time_of_day\": \"Midday\", \"p25\": 0.42, \"p50\": 0.42, \"p75\": 0.42, \"p50_trip\": 1, \"fastest_trip\": 0, \"car_duration_hours\": 0.28, \"competitive_route\": 1, \"bus_multiplier\": 1.5, \"bus_difference\": 8.4, \"num_trips\": 9, \"num_competitive\": 9, \"pct_trips_competitive\": 1.0, \"bus_difference_spread\": 0.0, \"route_group\": \"short\", \"max_trip_hrs\": 0.42, \"max_trip_route_group\": 0.42, \"below_cutoff\": 9, \"pct_below_cutoff\": 1.0, \"name\": \"Redwood Coast Transit Authority\", \"caltrans_district\": \"01 - Eureka\", \"drmt_organization_name\": null, \"route_name\": \"Wal-Mart / El Dorado\", \"cutoff2\": 20, \"cutoff\": 2}, {\"calitp_itp_id\": 261, \"trip_key\": -5947924560965417330, \"trip_id\": \"t_2006057_b_33487_tn_9\", \"shape_id\": \"p_2318\", \"route_id\": \"116\", \"service_hours\": 0.42, \"trip_first_departure_ts\": 57600, \"trip_last_arrival_ts\": 59100, \"departure_hour\": 16, \"time_of_day\": \"Midday\", \"p25\": 0.42, \"p50\": 0.42, \"p75\": 0.42, \"p50_trip\": 1, \"fastest_trip\": 1, \"car_duration_hours\": 0.27, \"competitive_route\": 1, \"bus_multiplier\": 1.56, \"bus_difference\": 9.0, \"num_trips\": 9, \"num_competitive\": 9, \"pct_trips_competitive\": 1.0, \"bus_difference_spread\": 0.0, \"route_group\": \"short\", \"max_trip_hrs\": 0.42, \"max_trip_route_group\": 0.42, \"below_cutoff\": 9, \"pct_below_cutoff\": 1.0, \"name\": \"Redwood Coast Transit Authority\", \"caltrans_district\": \"01 - Eureka\", \"drmt_organization_name\": null, \"route_name\": \"A / Inyo / Washington Loop\", \"cutoff2\": 20, \"cutoff\": 2}, {\"calitp_itp_id\": 261, \"trip_key\": -2308273354089281965, \"trip_id\": \"t_2006057_b_33487_tn_8\", \"shape_id\": \"p_2318\", \"route_id\": \"116\", \"service_hours\": 0.42, \"trip_first_departure_ts\": 54000, \"trip_last_arrival_ts\": 55500, \"departure_hour\": 15, \"time_of_day\": \"Midday\", \"p25\": 0.42, \"p50\": 0.42, \"p75\": 0.42, \"p50_trip\": 1, \"fastest_trip\": 0, \"car_duration_hours\": 0.27, \"competitive_route\": 1, \"bus_multiplier\": 1.56, \"bus_difference\": 9.0, \"num_trips\": 9, \"num_competitive\": 9, \"pct_trips_competitive\": 1.0, \"bus_difference_spread\": 0.0, \"route_group\": \"short\", \"max_trip_hrs\": 0.42, \"max_trip_route_group\": 0.42, \"below_cutoff\": 9, \"pct_below_cutoff\": 1.0, \"name\": \"Redwood Coast Transit Authority\", \"caltrans_district\": \"01 - Eureka\", \"drmt_organization_name\": null, \"route_name\": \"A / Inyo / Washington Loop\", \"cutoff2\": 20, \"cutoff\": 2}, {\"calitp_itp_id\": 261, \"trip_key\": -5964972685210824559, \"trip_id\": \"t_2006057_b_33487_tn_1\", \"shape_id\": \"p_2318\", \"route_id\": \"116\", \"service_hours\": 0.42, \"trip_first_departure_ts\": 28800, \"trip_last_arrival_ts\": 30300, \"departure_hour\": 8, \"time_of_day\": \"AM Peak\", \"p25\": 0.42, \"p50\": 0.42, \"p75\": 0.42, \"p50_trip\": 1, \"fastest_trip\": 0, \"car_duration_hours\": 0.27, \"competitive_route\": 1, \"bus_multiplier\": 1.56, \"bus_difference\": 9.0, \"num_trips\": 9, \"num_competitive\": 9, \"pct_trips_competitive\": 1.0, \"bus_difference_spread\": 0.0, \"route_group\": \"short\", \"max_trip_hrs\": 0.42, \"max_trip_route_group\": 0.42, \"below_cutoff\": 9, \"pct_below_cutoff\": 1.0, \"name\": \"Redwood Coast Transit Authority\", \"caltrans_district\": \"01 - Eureka\", \"drmt_organization_name\": null, \"route_name\": \"A / Inyo / Washington Loop\", \"cutoff2\": 20, \"cutoff\": 2}, {\"calitp_itp_id\": 261, \"trip_key\": -3334701120906354669, \"trip_id\": \"t_2006057_b_33487_tn_2\", \"shape_id\": \"p_2318\", \"route_id\": \"116\", \"service_hours\": 0.42, \"trip_first_departure_ts\": 32400, \"trip_last_arrival_ts\": 33900, \"departure_hour\": 9, \"time_of_day\": \"AM Peak\", \"p25\": 0.42, \"p50\": 0.42, \"p75\": 0.42, \"p50_trip\": 1, \"fastest_trip\": 0, \"car_duration_hours\": 0.27, \"competitive_route\": 1, \"bus_multiplier\": 1.56, \"bus_difference\": 9.0, \"num_trips\": 9, \"num_competitive\": 9, \"pct_trips_competitive\": 1.0, \"bus_difference_spread\": 0.0, \"route_group\": \"short\", \"max_trip_hrs\": 0.42, \"max_trip_route_group\": 0.42, \"below_cutoff\": 9, \"pct_below_cutoff\": 1.0, \"name\": \"Redwood Coast Transit Authority\", \"caltrans_district\": \"01 - Eureka\", \"drmt_organization_name\": null, \"route_name\": \"A / Inyo / Washington Loop\", \"cutoff2\": 20, \"cutoff\": 2}, {\"calitp_itp_id\": 261, \"trip_key\": -2247795378383637330, \"trip_id\": \"t_2006057_b_33487_tn_7\", \"shape_id\": \"p_2318\", \"route_id\": \"116\", \"service_hours\": 0.42, \"trip_first_departure_ts\": 50400, \"trip_last_arrival_ts\": 51900, \"departure_hour\": 14, \"time_of_day\": \"Midday\", \"p25\": 0.42, \"p50\": 0.42, \"p75\": 0.42, \"p50_trip\": 1, \"fastest_trip\": 0, \"car_duration_hours\": 0.27, \"competitive_route\": 1, \"bus_multiplier\": 1.56, \"bus_difference\": 9.0, \"num_trips\": 9, \"num_competitive\": 9, \"pct_trips_competitive\": 1.0, \"bus_difference_spread\": 0.0, \"route_group\": \"short\", \"max_trip_hrs\": 0.42, \"max_trip_route_group\": 0.42, \"below_cutoff\": 9, \"pct_below_cutoff\": 1.0, \"name\": \"Redwood Coast Transit Authority\", \"caltrans_district\": \"01 - Eureka\", \"drmt_organization_name\": null, \"route_name\": \"A / Inyo / Washington Loop\", \"cutoff2\": 20, \"cutoff\": 2}, {\"calitp_itp_id\": 261, \"trip_key\": 6669045542293455970, \"trip_id\": \"t_2006057_b_33487_tn_5\", \"shape_id\": \"p_2318\", \"route_id\": \"116\", \"service_hours\": 0.42, \"trip_first_departure_ts\": 43200, \"trip_last_arrival_ts\": 44700, \"departure_hour\": 12, \"time_of_day\": \"Midday\", \"p25\": 0.42, \"p50\": 0.42, \"p75\": 0.42, \"p50_trip\": 1, \"fastest_trip\": 0, \"car_duration_hours\": 0.27, \"competitive_route\": 1, \"bus_multiplier\": 1.56, \"bus_difference\": 9.0, \"num_trips\": 9, \"num_competitive\": 9, \"pct_trips_competitive\": 1.0, \"bus_difference_spread\": 0.0, \"route_group\": \"short\", \"max_trip_hrs\": 0.42, \"max_trip_route_group\": 0.42, \"below_cutoff\": 9, \"pct_below_cutoff\": 1.0, \"name\": \"Redwood Coast Transit Authority\", \"caltrans_district\": \"01 - Eureka\", \"drmt_organization_name\": null, \"route_name\": \"A / Inyo / Washington Loop\", \"cutoff2\": 20, \"cutoff\": 2}, {\"calitp_itp_id\": 261, \"trip_key\": -7948494232931211647, \"trip_id\": \"t_2006057_b_33487_tn_3\", \"shape_id\": \"p_2318\", \"route_id\": \"116\", \"service_hours\": 0.42, \"trip_first_departure_ts\": 36000, \"trip_last_arrival_ts\": 37500, \"departure_hour\": 10, \"time_of_day\": \"Midday\", \"p25\": 0.42, \"p50\": 0.42, \"p75\": 0.42, \"p50_trip\": 1, \"fastest_trip\": 0, \"car_duration_hours\": 0.27, \"competitive_route\": 1, \"bus_multiplier\": 1.56, \"bus_difference\": 9.0, \"num_trips\": 9, \"num_competitive\": 9, \"pct_trips_competitive\": 1.0, \"bus_difference_spread\": 0.0, \"route_group\": \"short\", \"max_trip_hrs\": 0.42, \"max_trip_route_group\": 0.42, \"below_cutoff\": 9, \"pct_below_cutoff\": 1.0, \"name\": \"Redwood Coast Transit Authority\", \"caltrans_district\": \"01 - Eureka\", \"drmt_organization_name\": null, \"route_name\": \"A / Inyo / Washington Loop\", \"cutoff2\": 20, \"cutoff\": 2}, {\"calitp_itp_id\": 261, \"trip_key\": 3460612343347221550, \"trip_id\": \"t_2006057_b_33487_tn_4\", \"shape_id\": \"p_2318\", \"route_id\": \"116\", \"service_hours\": 0.42, \"trip_first_departure_ts\": 39600, \"trip_last_arrival_ts\": 41100, \"departure_hour\": 11, \"time_of_day\": \"Midday\", \"p25\": 0.42, \"p50\": 0.42, \"p75\": 0.42, \"p50_trip\": 1, \"fastest_trip\": 0, \"car_duration_hours\": 0.27, \"competitive_route\": 1, \"bus_multiplier\": 1.56, \"bus_difference\": 9.0, \"num_trips\": 9, \"num_competitive\": 9, \"pct_trips_competitive\": 1.0, \"bus_difference_spread\": 0.0, \"route_group\": \"short\", \"max_trip_hrs\": 0.42, \"max_trip_route_group\": 0.42, \"below_cutoff\": 9, \"pct_below_cutoff\": 1.0, \"name\": \"Redwood Coast Transit Authority\", \"caltrans_district\": \"01 - Eureka\", \"drmt_organization_name\": null, \"route_name\": \"A / Inyo / Washington Loop\", \"cutoff2\": 20, \"cutoff\": 2}, {\"calitp_itp_id\": 261, \"trip_key\": -3853293836846965793, \"trip_id\": \"t_2006057_b_33487_tn_6\", \"shape_id\": \"p_2318\", \"route_id\": \"116\", \"service_hours\": 0.42, \"trip_first_departure_ts\": 46800, \"trip_last_arrival_ts\": 48300, \"departure_hour\": 13, \"time_of_day\": \"Midday\", \"p25\": 0.42, \"p50\": 0.42, \"p75\": 0.42, \"p50_trip\": 1, \"fastest_trip\": 0, \"car_duration_hours\": 0.27, \"competitive_route\": 1, \"bus_multiplier\": 1.56, \"bus_difference\": 9.0, \"num_trips\": 9, \"num_competitive\": 9, \"pct_trips_competitive\": 1.0, \"bus_difference_spread\": 0.0, \"route_group\": \"short\", \"max_trip_hrs\": 0.42, \"max_trip_route_group\": 0.42, \"below_cutoff\": 9, \"pct_below_cutoff\": 1.0, \"name\": \"Redwood Coast Transit Authority\", \"caltrans_district\": \"01 - Eureka\", \"drmt_organization_name\": null, \"route_name\": \"A / Inyo / Washington Loop\", \"cutoff2\": 20, \"cutoff\": 2}, {\"calitp_itp_id\": 261, \"trip_key\": -4369438168012715489, \"trip_id\": \"t_2006046_b_33487_tn_5\", \"shape_id\": \"p_2313\", \"route_id\": \"118\", \"service_hours\": 0.42, \"trip_first_departure_ts\": 45000, \"trip_last_arrival_ts\": 46500, \"departure_hour\": 12, \"time_of_day\": \"Midday\", \"p25\": 0.42, \"p50\": 0.42, \"p75\": 0.42, \"p50_trip\": 1, \"fastest_trip\": 0, \"car_duration_hours\": 0.22, \"competitive_route\": 1, \"bus_multiplier\": 1.91, \"bus_difference\": 12.0, \"num_trips\": 9, \"num_competitive\": 9, \"pct_trips_competitive\": 1.0, \"bus_difference_spread\": 0.0, \"route_group\": \"short\", \"max_trip_hrs\": 0.42, \"max_trip_route_group\": 0.42, \"below_cutoff\": 9, \"pct_below_cutoff\": 1.0, \"name\": \"Redwood Coast Transit Authority\", \"caltrans_district\": \"01 - Eureka\", \"drmt_organization_name\": null, \"route_name\": \"Bertsch / Howland Hill Rd\", \"cutoff2\": 20, \"cutoff\": 2}, {\"calitp_itp_id\": 261, \"trip_key\": 178609186068521304, \"trip_id\": \"t_2006046_b_33487_tn_9\", \"shape_id\": \"p_2313\", \"route_id\": \"118\", \"service_hours\": 0.42, \"trip_first_departure_ts\": 59400, \"trip_last_arrival_ts\": 60900, \"departure_hour\": 16, \"time_of_day\": \"Midday\", \"p25\": 0.42, \"p50\": 0.42, \"p75\": 0.42, \"p50_trip\": 1, \"fastest_trip\": 1, \"car_duration_hours\": 0.22, \"competitive_route\": 1, \"bus_multiplier\": 1.91, \"bus_difference\": 12.0, \"num_trips\": 9, \"num_competitive\": 9, \"pct_trips_competitive\": 1.0, \"bus_difference_spread\": 0.0, \"route_group\": \"short\", \"max_trip_hrs\": 0.42, \"max_trip_route_group\": 0.42, \"below_cutoff\": 9, \"pct_below_cutoff\": 1.0, \"name\": \"Redwood Coast Transit Authority\", \"caltrans_district\": \"01 - Eureka\", \"drmt_organization_name\": null, \"route_name\": \"Bertsch / Howland Hill Rd\", \"cutoff2\": 20, \"cutoff\": 2}, {\"calitp_itp_id\": 261, \"trip_key\": -1834225741399698875, \"trip_id\": \"t_2006046_b_33487_tn_3\", \"shape_id\": \"p_2313\", \"route_id\": \"118\", \"service_hours\": 0.42, \"trip_first_departure_ts\": 37800, \"trip_last_arrival_ts\": 39300, \"departure_hour\": 10, \"time_of_day\": \"Midday\", \"p25\": 0.42, \"p50\": 0.42, \"p75\": 0.42, \"p50_trip\": 1, \"fastest_trip\": 0, \"car_duration_hours\": 0.22, \"competitive_route\": 1, \"bus_multiplier\": 1.91, \"bus_difference\": 12.0, \"num_trips\": 9, \"num_competitive\": 9, \"pct_trips_competitive\": 1.0, \"bus_difference_spread\": 0.0, \"route_group\": \"short\", \"max_trip_hrs\": 0.42, \"max_trip_route_group\": 0.42, \"below_cutoff\": 9, \"pct_below_cutoff\": 1.0, \"name\": \"Redwood Coast Transit Authority\", \"caltrans_district\": \"01 - Eureka\", \"drmt_organization_name\": null, \"route_name\": \"Bertsch / Howland Hill Rd\", \"cutoff2\": 20, \"cutoff\": 2}, {\"calitp_itp_id\": 261, \"trip_key\": 3698582749328456375, \"trip_id\": \"t_2006046_b_33487_tn_8\", \"shape_id\": \"p_2313\", \"route_id\": \"118\", \"service_hours\": 0.42, \"trip_first_departure_ts\": 55800, \"trip_last_arrival_ts\": 57300, \"departure_hour\": 15, \"time_of_day\": \"Midday\", \"p25\": 0.42, \"p50\": 0.42, \"p75\": 0.42, \"p50_trip\": 1, \"fastest_trip\": 0, \"car_duration_hours\": 0.22, \"competitive_route\": 1, \"bus_multiplier\": 1.91, \"bus_difference\": 12.0, \"num_trips\": 9, \"num_competitive\": 9, \"pct_trips_competitive\": 1.0, \"bus_difference_spread\": 0.0, \"route_group\": \"short\", \"max_trip_hrs\": 0.42, \"max_trip_route_group\": 0.42, \"below_cutoff\": 9, \"pct_below_cutoff\": 1.0, \"name\": \"Redwood Coast Transit Authority\", \"caltrans_district\": \"01 - Eureka\", \"drmt_organization_name\": null, \"route_name\": \"Bertsch / Howland Hill Rd\", \"cutoff2\": 20, \"cutoff\": 2}, {\"calitp_itp_id\": 261, \"trip_key\": 5519451556365262595, \"trip_id\": \"t_2006046_b_33487_tn_6\", \"shape_id\": \"p_2313\", \"route_id\": \"118\", \"service_hours\": 0.42, \"trip_first_departure_ts\": 48600, \"trip_last_arrival_ts\": 50100, \"departure_hour\": 13, \"time_of_day\": \"Midday\", \"p25\": 0.42, \"p50\": 0.42, \"p75\": 0.42, \"p50_trip\": 1, \"fastest_trip\": 0, \"car_duration_hours\": 0.22, \"competitive_route\": 1, \"bus_multiplier\": 1.91, \"bus_difference\": 12.0, \"num_trips\": 9, \"num_competitive\": 9, \"pct_trips_competitive\": 1.0, \"bus_difference_spread\": 0.0, \"route_group\": \"short\", \"max_trip_hrs\": 0.42, \"max_trip_route_group\": 0.42, \"below_cutoff\": 9, \"pct_below_cutoff\": 1.0, \"name\": \"Redwood Coast Transit Authority\", \"caltrans_district\": \"01 - Eureka\", \"drmt_organization_name\": null, \"route_name\": \"Bertsch / Howland Hill Rd\", \"cutoff2\": 20, \"cutoff\": 2}, {\"calitp_itp_id\": 261, \"trip_key\": -7527644169991759654, \"trip_id\": \"t_2006046_b_33487_tn_2\", \"shape_id\": \"p_2313\", \"route_id\": \"118\", \"service_hours\": 0.42, \"trip_first_departure_ts\": 34200, \"trip_last_arrival_ts\": 35700, \"departure_hour\": 9, \"time_of_day\": \"AM Peak\", \"p25\": 0.42, \"p50\": 0.42, \"p75\": 0.42, \"p50_trip\": 1, \"fastest_trip\": 0, \"car_duration_hours\": 0.22, \"competitive_route\": 1, \"bus_multiplier\": 1.91, \"bus_difference\": 12.0, \"num_trips\": 9, \"num_competitive\": 9, \"pct_trips_competitive\": 1.0, \"bus_difference_spread\": 0.0, \"route_group\": \"short\", \"max_trip_hrs\": 0.42, \"max_trip_route_group\": 0.42, \"below_cutoff\": 9, \"pct_below_cutoff\": 1.0, \"name\": \"Redwood Coast Transit Authority\", \"caltrans_district\": \"01 - Eureka\", \"drmt_organization_name\": null, \"route_name\": \"Bertsch / Howland Hill Rd\", \"cutoff2\": 20, \"cutoff\": 2}, {\"calitp_itp_id\": 261, \"trip_key\": 735623954779433435, \"trip_id\": \"t_2006046_b_33487_tn_1\", \"shape_id\": \"p_2313\", \"route_id\": \"118\", \"service_hours\": 0.42, \"trip_first_departure_ts\": 30600, \"trip_last_arrival_ts\": 32100, \"departure_hour\": 8, \"time_of_day\": \"AM Peak\", \"p25\": 0.42, \"p50\": 0.42, \"p75\": 0.42, \"p50_trip\": 1, \"fastest_trip\": 0, \"car_duration_hours\": 0.22, \"competitive_route\": 1, \"bus_multiplier\": 1.91, \"bus_difference\": 12.0, \"num_trips\": 9, \"num_competitive\": 9, \"pct_trips_competitive\": 1.0, \"bus_difference_spread\": 0.0, \"route_group\": \"short\", \"max_trip_hrs\": 0.42, \"max_trip_route_group\": 0.42, \"below_cutoff\": 9, \"pct_below_cutoff\": 1.0, \"name\": \"Redwood Coast Transit Authority\", \"caltrans_district\": \"01 - Eureka\", \"drmt_organization_name\": null, \"route_name\": \"Bertsch / Howland Hill Rd\", \"cutoff2\": 20, \"cutoff\": 2}, {\"calitp_itp_id\": 261, \"trip_key\": -2834597081029379849, \"trip_id\": \"t_2006046_b_33487_tn_7\", \"shape_id\": \"p_2313\", \"route_id\": \"118\", \"service_hours\": 0.42, \"trip_first_departure_ts\": 52200, \"trip_last_arrival_ts\": 53700, \"departure_hour\": 14, \"time_of_day\": \"Midday\", \"p25\": 0.42, \"p50\": 0.42, \"p75\": 0.42, \"p50_trip\": 1, \"fastest_trip\": 0, \"car_duration_hours\": 0.22, \"competitive_route\": 1, \"bus_multiplier\": 1.91, \"bus_difference\": 12.0, \"num_trips\": 9, \"num_competitive\": 9, \"pct_trips_competitive\": 1.0, \"bus_difference_spread\": 0.0, \"route_group\": \"short\", \"max_trip_hrs\": 0.42, \"max_trip_route_group\": 0.42, \"below_cutoff\": 9, \"pct_below_cutoff\": 1.0, \"name\": \"Redwood Coast Transit Authority\", \"caltrans_district\": \"01 - Eureka\", \"drmt_organization_name\": null, \"route_name\": \"Bertsch / Howland Hill Rd\", \"cutoff2\": 20, \"cutoff\": 2}, {\"calitp_itp_id\": 261, \"trip_key\": 2388398762724780736, \"trip_id\": \"t_2006046_b_33487_tn_4\", \"shape_id\": \"p_2313\", \"route_id\": \"118\", \"service_hours\": 0.42, \"trip_first_departure_ts\": 41400, \"trip_last_arrival_ts\": 42900, \"departure_hour\": 11, \"time_of_day\": \"Midday\", \"p25\": 0.42, \"p50\": 0.42, \"p75\": 0.42, \"p50_trip\": 1, \"fastest_trip\": 0, \"car_duration_hours\": 0.22, \"competitive_route\": 1, \"bus_multiplier\": 1.91, \"bus_difference\": 12.0, \"num_trips\": 9, \"num_competitive\": 9, \"pct_trips_competitive\": 1.0, \"bus_difference_spread\": 0.0, \"route_group\": \"short\", \"max_trip_hrs\": 0.42, \"max_trip_route_group\": 0.42, \"below_cutoff\": 9, \"pct_below_cutoff\": 1.0, \"name\": \"Redwood Coast Transit Authority\", \"caltrans_district\": \"01 - Eureka\", \"drmt_organization_name\": null, \"route_name\": \"Bertsch / Howland Hill Rd\", \"cutoff2\": 20, \"cutoff\": 2}, {\"calitp_itp_id\": 261, \"trip_key\": -8915479417837480146, \"trip_id\": \"t_2006040_b_33487_tn_0\", \"shape_id\": \"p_787736\", \"route_id\": \"14242\", \"service_hours\": 0.58, \"trip_first_departure_ts\": 55500, \"trip_last_arrival_ts\": 57600, \"departure_hour\": 15, \"time_of_day\": \"Midday\", \"p25\": 0.58, \"p50\": 0.58, \"p75\": 0.58, \"p50_trip\": 1, \"fastest_trip\": 1, \"car_duration_hours\": 0.41, \"competitive_route\": 1, \"bus_multiplier\": 1.41, \"bus_difference\": 10.2, \"num_trips\": 1, \"num_competitive\": 1, \"pct_trips_competitive\": 1.0, \"bus_difference_spread\": 0.0, \"route_group\": \"short\", \"max_trip_hrs\": 0.58, \"max_trip_route_group\": 0.58, \"below_cutoff\": 1, \"pct_below_cutoff\": 1.0, \"name\": \"Redwood Coast Transit Authority\", \"caltrans_district\": \"01 - Eureka\", \"drmt_organization_name\": null, \"route_name\": \"300 Dnhs Pm Tripper\", \"cutoff2\": 20, \"cutoff\": 2}, {\"calitp_itp_id\": 261, \"trip_key\": 7433108286017185515, \"trip_id\": \"t_2006047_b_33487_tn_0\", \"shape_id\": \"p_2317\", \"route_id\": \"257\", \"service_hours\": 0.67, \"trip_first_departure_ts\": 24780, \"trip_last_arrival_ts\": 27180, \"departure_hour\": 6, \"time_of_day\": \"Owl Service\", \"p25\": 0.67, \"p50\": 0.7, \"p75\": 0.73, \"p50_trip\": 1, \"fastest_trip\": 0, \"car_duration_hours\": 0.53, \"competitive_route\": 1, \"bus_multiplier\": 1.26, \"bus_difference\": 8.4, \"num_trips\": 4, \"num_competitive\": 4, \"pct_trips_competitive\": 1.0, \"bus_difference_spread\": 3.5999999999999996, \"route_group\": \"short\", \"max_trip_hrs\": 0.73, \"max_trip_route_group\": 0.73, \"below_cutoff\": 4, \"pct_below_cutoff\": 1.0, \"name\": \"Redwood Coast Transit Authority\", \"caltrans_district\": \"01 - Eureka\", \"drmt_organization_name\": null, \"route_name\": \"Crescent City / Hiouchi / Gasquet\", \"cutoff2\": 20, \"cutoff\": 2}, {\"calitp_itp_id\": 261, \"trip_key\": 2047693789087880139, \"trip_id\": \"t_2006055_b_33487_tn_0\", \"shape_id\": \"p_2317\", \"route_id\": \"257\", \"service_hours\": 0.67, \"trip_first_departure_ts\": 45000, \"trip_last_arrival_ts\": 47400, \"departure_hour\": 12, \"time_of_day\": \"Midday\", \"p25\": 0.67, \"p50\": 0.7, \"p75\": 0.73, \"p50_trip\": 1, \"fastest_trip\": 1, \"car_duration_hours\": 0.53, \"competitive_route\": 1, \"bus_multiplier\": 1.26, \"bus_difference\": 8.4, \"num_trips\": 4, \"num_competitive\": 4, \"pct_trips_competitive\": 1.0, \"bus_difference_spread\": 3.5999999999999996, \"route_group\": \"short\", \"max_trip_hrs\": 0.73, \"max_trip_route_group\": 0.73, \"below_cutoff\": 4, \"pct_below_cutoff\": 1.0, \"name\": \"Redwood Coast Transit Authority\", \"caltrans_district\": \"01 - Eureka\", \"drmt_organization_name\": null, \"route_name\": \"Crescent City / Hiouchi / Gasquet\", \"cutoff2\": 20, \"cutoff\": 2}, {\"calitp_itp_id\": 261, \"trip_key\": 3683082310265377589, \"trip_id\": \"t_2006039_b_33487_tn_0\", \"shape_id\": \"p_8908\", \"route_id\": \"257\", \"service_hours\": 0.73, \"trip_first_departure_ts\": 47460, \"trip_last_arrival_ts\": 50100, \"departure_hour\": 13, \"time_of_day\": \"Midday\", \"p25\": 0.67, \"p50\": 0.7, \"p75\": 0.73, \"p50_trip\": 0, \"fastest_trip\": 0, \"car_duration_hours\": 0.53, \"competitive_route\": 1, \"bus_multiplier\": 1.38, \"bus_difference\": 12.0, \"num_trips\": 4, \"num_competitive\": 4, \"pct_trips_competitive\": 1.0, \"bus_difference_spread\": 3.5999999999999996, \"route_group\": \"short\", \"max_trip_hrs\": 0.73, \"max_trip_route_group\": 0.73, \"below_cutoff\": 4, \"pct_below_cutoff\": 1.0, \"name\": \"Redwood Coast Transit Authority\", \"caltrans_district\": \"01 - Eureka\", \"drmt_organization_name\": null, \"route_name\": \"Crescent City / Hiouchi / Gasquet\", \"cutoff2\": 20, \"cutoff\": 2}, {\"calitp_itp_id\": 261, \"trip_key\": -6748808122216700622, \"trip_id\": \"t_2006058_b_33487_tn_0\", \"shape_id\": \"p_8908\", \"route_id\": \"257\", \"service_hours\": 0.73, \"trip_first_departure_ts\": 27240, \"trip_last_arrival_ts\": 29880, \"departure_hour\": 7, \"time_of_day\": \"AM Peak\", \"p25\": 0.67, \"p50\": 0.7, \"p75\": 0.73, \"p50_trip\": 0, \"fastest_trip\": 0, \"car_duration_hours\": 0.53, \"competitive_route\": 1, \"bus_multiplier\": 1.38, \"bus_difference\": 12.0, \"num_trips\": 4, \"num_competitive\": 4, \"pct_trips_competitive\": 1.0, \"bus_difference_spread\": 3.5999999999999996, \"route_group\": \"short\", \"max_trip_hrs\": 0.73, \"max_trip_route_group\": 0.73, \"below_cutoff\": 4, \"pct_below_cutoff\": 1.0, \"name\": \"Redwood Coast Transit Authority\", \"caltrans_district\": \"01 - Eureka\", \"drmt_organization_name\": null, \"route_name\": \"Crescent City / Hiouchi / Gasquet\", \"cutoff2\": 20, \"cutoff\": 2}, {\"calitp_itp_id\": 261, \"trip_key\": 8766553947517341241, \"trip_id\": \"t_2006065_b_33487_tn_0\", \"shape_id\": \"p_1304282\", \"route_id\": \"32532\", \"service_hours\": 0.75, \"trip_first_departure_ts\": 25500, \"trip_last_arrival_ts\": 28200, \"departure_hour\": 7, \"time_of_day\": \"AM Peak\", \"p25\": 0.75, \"p50\": 0.75, \"p75\": 0.75, \"p50_trip\": 1, \"fastest_trip\": 1, \"car_duration_hours\": 0.53, \"competitive_route\": 1, \"bus_multiplier\": 1.42, \"bus_difference\": 13.2, \"num_trips\": 1, \"num_competitive\": 1, \"pct_trips_competitive\": 1.0, \"bus_difference_spread\": 0.0, \"route_group\": \"short\", \"max_trip_hrs\": 0.75, \"max_trip_route_group\": 0.75, \"below_cutoff\": 1, \"pct_below_cutoff\": 1.0, \"name\": \"Redwood Coast Transit Authority\", \"caltrans_district\": \"01 - Eureka\", \"drmt_organization_name\": null, \"route_name\": \"300 - 300 Dnhs Am Tripper\", \"cutoff2\": 20, \"cutoff\": 2}]}}, {\"mode\": \"vega-lite\"});\n",
       "</script>"
      ],
      "text/plain": [
       "alt.FacetChart(...)"
      ]
     },
     "metadata": {},
     "output_type": "display_data"
    },
    {
     "data": {
      "text/html": [
       "\n",
       "<div id=\"altair-viz-3ca591d1b70146a8a7785daaa29630fa\"></div>\n",
       "<script type=\"text/javascript\">\n",
       "  var VEGA_DEBUG = (typeof VEGA_DEBUG == \"undefined\") ? {} : VEGA_DEBUG;\n",
       "  (function(spec, embedOpt){\n",
       "    let outputDiv = document.currentScript.previousElementSibling;\n",
       "    if (outputDiv.id !== \"altair-viz-3ca591d1b70146a8a7785daaa29630fa\") {\n",
       "      outputDiv = document.getElementById(\"altair-viz-3ca591d1b70146a8a7785daaa29630fa\");\n",
       "    }\n",
       "    const paths = {\n",
       "      \"vega\": \"https://cdn.jsdelivr.net/npm//vega@5?noext\",\n",
       "      \"vega-lib\": \"https://cdn.jsdelivr.net/npm//vega-lib?noext\",\n",
       "      \"vega-lite\": \"https://cdn.jsdelivr.net/npm//vega-lite@4.17.0?noext\",\n",
       "      \"vega-embed\": \"https://cdn.jsdelivr.net/npm//vega-embed@6?noext\",\n",
       "    };\n",
       "\n",
       "    function maybeLoadScript(lib, version) {\n",
       "      var key = `${lib.replace(\"-\", \"\")}_version`;\n",
       "      return (VEGA_DEBUG[key] == version) ?\n",
       "        Promise.resolve(paths[lib]) :\n",
       "        new Promise(function(resolve, reject) {\n",
       "          var s = document.createElement('script');\n",
       "          document.getElementsByTagName(\"head\")[0].appendChild(s);\n",
       "          s.async = true;\n",
       "          s.onload = () => {\n",
       "            VEGA_DEBUG[key] = version;\n",
       "            return resolve(paths[lib]);\n",
       "          };\n",
       "          s.onerror = () => reject(`Error loading script: ${paths[lib]}`);\n",
       "          s.src = paths[lib];\n",
       "        });\n",
       "    }\n",
       "\n",
       "    function showError(err) {\n",
       "      outputDiv.innerHTML = `<div class=\"error\" style=\"color:red;\">${err}</div>`;\n",
       "      throw err;\n",
       "    }\n",
       "\n",
       "    function displayChart(vegaEmbed) {\n",
       "      vegaEmbed(outputDiv, spec, embedOpt)\n",
       "        .catch(err => showError(`Javascript Error: ${err.message}<br>This usually means there's a typo in your chart specification. See the javascript console for the full traceback.`));\n",
       "    }\n",
       "\n",
       "    if(typeof define === \"function\" && define.amd) {\n",
       "      requirejs.config({paths});\n",
       "      require([\"vega-embed\"], displayChart, err => showError(`Error loading script: ${err.message}`));\n",
       "    } else {\n",
       "      maybeLoadScript(\"vega\", \"5\")\n",
       "        .then(() => maybeLoadScript(\"vega-lite\", \"4.17.0\"))\n",
       "        .then(() => maybeLoadScript(\"vega-embed\", \"6\"))\n",
       "        .catch(showError)\n",
       "        .then(() => displayChart(vegaEmbed));\n",
       "    }\n",
       "  })({\"config\": {\"view\": {\"continuousWidth\": 400, \"continuousHeight\": 300, \"stroke\": null}, \"facet\": {\"spacing\": 0}}, \"data\": {\"name\": \"data-d417125b7f9512decbacbdb05a573ffd\"}, \"facet\": {\"column\": {\"field\": \"route_id\", \"sort\": [\"115\", \"116\", \"118\", \"257\", \"14242\", \"32532\"], \"title\": \"Route ID\", \"type\": \"nominal\"}}, \"spec\": {\"layer\": [{\"mark\": \"rule\", \"encoding\": {\"color\": {\"value\": \"black\"}, \"y\": {\"field\": \"cutoff\", \"type\": \"quantitative\"}}, \"selection\": {\"selector002\": {\"type\": \"interval\", \"bind\": \"scales\", \"encodings\": [\"x\", \"y\"]}}}, {\"mark\": {\"type\": \"rule\", \"strokeDash\": [3, 3]}, \"encoding\": {\"color\": {\"value\": \"#323434\"}, \"y\": {\"field\": \"cutoff2\", \"type\": \"quantitative\"}}}, {\"mark\": {\"type\": \"point\", \"opacity\": 0.65, \"size\": 12, \"strokeWidth\": 1.1}, \"encoding\": {\"color\": {\"field\": \"time_of_day\", \"scale\": {\"range\": [\"#136C97\", \"#E16B26\", \"#F6BF16\", \"#00896B\", \"#7790A3\", \"#5B559C\"]}, \"sort\": [\"AM Peak\", \"Midday\", \"PM Peak\", \"Owl Service\"], \"title\": \"Time of Day\", \"type\": \"nominal\"}, \"tooltip\": [{\"field\": \"route_id\", \"type\": \"nominal\"}, {\"field\": \"route_name\", \"type\": \"nominal\"}, {\"field\": \"trip_id\", \"type\": \"nominal\"}, {\"field\": \"service_hours\", \"type\": \"quantitative\"}, {\"field\": \"car_duration_hours\", \"type\": \"quantitative\"}, {\"field\": \"bus_multiplier\", \"type\": \"quantitative\"}, {\"field\": \"bus_difference\", \"type\": \"quantitative\"}, {\"field\": \"num_trips\", \"type\": \"quantitative\"}, {\"field\": \"num_competitive\", \"type\": \"quantitative\"}, {\"field\": \"pct_trips_competitive\", \"type\": \"quantitative\"}, {\"field\": \"p25\", \"type\": \"quantitative\"}, {\"field\": \"p50\", \"type\": \"quantitative\"}, {\"field\": \"p75\", \"type\": \"quantitative\"}], \"x\": {\"axis\": {\"grid\": false, \"labels\": false, \"ticks\": true, \"values\": [0]}, \"field\": \"jitter\", \"scale\": {}, \"title\": null, \"type\": \"quantitative\"}, \"y\": {\"field\": \"bus_difference\", \"scale\": {\"domain\": [-5, 25.0]}, \"title\": \"Difference in Bus to Car Travel Time (min)\", \"type\": \"quantitative\"}}, \"transform\": [{\"calculate\": \"sqrt(-2*log(random()))*cos(2*PI*random())\", \"as\": \"jitter\"}], \"width\": 50}, {\"layer\": [{\"mark\": {\"type\": \"point\", \"opacity\": 0.6, \"size\": 20, \"strokeWidth\": 1.3}, \"encoding\": {\"color\": {\"value\": \"#323434\"}, \"y\": {\"field\": \"bus_difference\", \"type\": \"quantitative\"}}, \"transform\": [{\"filter\": \"(datum.p50_trip === 1)\"}]}, {\"mark\": {\"type\": \"text\", \"align\": \"center\", \"baseline\": \"middle\"}, \"encoding\": {\"color\": {\"value\": \"black\"}, \"text\": {\"field\": \"pct_trips_competitive\", \"format\": \".0%\", \"type\": \"quantitative\"}, \"tooltip\": [{\"field\": \"route_id\", \"type\": \"nominal\"}, {\"field\": \"route_name\", \"type\": \"nominal\"}, {\"field\": \"trip_id\", \"type\": \"nominal\"}, {\"field\": \"service_hours\", \"type\": \"quantitative\"}, {\"field\": \"car_duration_hours\", \"type\": \"quantitative\"}, {\"field\": \"bus_multiplier\", \"type\": \"quantitative\"}, {\"field\": \"bus_difference\", \"type\": \"quantitative\"}, {\"field\": \"num_trips\", \"type\": \"quantitative\"}, {\"field\": \"num_competitive\", \"type\": \"quantitative\"}, {\"field\": \"pct_trips_competitive\", \"type\": \"quantitative\"}, {\"field\": \"p25\", \"type\": \"quantitative\"}, {\"field\": \"p50\", \"type\": \"quantitative\"}, {\"field\": \"p75\", \"type\": \"quantitative\"}], \"x\": {\"value\": 30}, \"y\": {\"value\": 15}}, \"transform\": [{\"calculate\": \"sqrt(-2*log(random()))*cos(2*PI*random())\", \"as\": \"jitter\"}, {\"filter\": \"(datum.fastest_trip === 1)\"}]}]}]}, \"resolve\": {\"scale\": {\"y\": \"shared\"}}, \"title\": \"Difference in Bus to Car Travel Time (min)\", \"$schema\": \"https://vega.github.io/schema/vega-lite/v4.17.0.json\", \"datasets\": {\"data-d417125b7f9512decbacbdb05a573ffd\": [{\"calitp_itp_id\": 261, \"trip_key\": -1513885202343270587, \"trip_id\": \"t_2006044_b_33487_tn_1\", \"shape_id\": \"p_2320\", \"route_id\": \"115\", \"service_hours\": 0.42, \"trip_first_departure_ts\": 30600, \"trip_last_arrival_ts\": 32100, \"departure_hour\": 8, \"time_of_day\": \"AM Peak\", \"p25\": 0.42, \"p50\": 0.42, \"p75\": 0.42, \"p50_trip\": 1, \"fastest_trip\": 0, \"car_duration_hours\": 0.28, \"competitive_route\": 1, \"bus_multiplier\": 1.5, \"bus_difference\": 8.4, \"num_trips\": 9, \"num_competitive\": 9, \"pct_trips_competitive\": 1.0, \"bus_difference_spread\": 0.0, \"route_group\": \"short\", \"max_trip_hrs\": 0.42, \"max_trip_route_group\": 0.42, \"below_cutoff\": 9, \"pct_below_cutoff\": 1.0, \"name\": \"Redwood Coast Transit Authority\", \"caltrans_district\": \"01 - Eureka\", \"drmt_organization_name\": null, \"route_name\": \"Wal-Mart / El Dorado\", \"cutoff2\": 20, \"cutoff\": 0}, {\"calitp_itp_id\": 261, \"trip_key\": -6399513270577486302, \"trip_id\": \"t_2006044_b_33487_tn_5\", \"shape_id\": \"p_2320\", \"route_id\": \"115\", \"service_hours\": 0.42, \"trip_first_departure_ts\": 45000, \"trip_last_arrival_ts\": 46500, \"departure_hour\": 12, \"time_of_day\": \"Midday\", \"p25\": 0.42, \"p50\": 0.42, \"p75\": 0.42, \"p50_trip\": 1, \"fastest_trip\": 0, \"car_duration_hours\": 0.28, \"competitive_route\": 1, \"bus_multiplier\": 1.5, \"bus_difference\": 8.4, \"num_trips\": 9, \"num_competitive\": 9, \"pct_trips_competitive\": 1.0, \"bus_difference_spread\": 0.0, \"route_group\": \"short\", \"max_trip_hrs\": 0.42, \"max_trip_route_group\": 0.42, \"below_cutoff\": 9, \"pct_below_cutoff\": 1.0, \"name\": \"Redwood Coast Transit Authority\", \"caltrans_district\": \"01 - Eureka\", \"drmt_organization_name\": null, \"route_name\": \"Wal-Mart / El Dorado\", \"cutoff2\": 20, \"cutoff\": 0}, {\"calitp_itp_id\": 261, \"trip_key\": 7708485609107697998, \"trip_id\": \"t_2006044_b_33487_tn_8\", \"shape_id\": \"p_2320\", \"route_id\": \"115\", \"service_hours\": 0.42, \"trip_first_departure_ts\": 55800, \"trip_last_arrival_ts\": 57300, \"departure_hour\": 15, \"time_of_day\": \"Midday\", \"p25\": 0.42, \"p50\": 0.42, \"p75\": 0.42, \"p50_trip\": 1, \"fastest_trip\": 0, \"car_duration_hours\": 0.28, \"competitive_route\": 1, \"bus_multiplier\": 1.5, \"bus_difference\": 8.4, \"num_trips\": 9, \"num_competitive\": 9, \"pct_trips_competitive\": 1.0, \"bus_difference_spread\": 0.0, \"route_group\": \"short\", \"max_trip_hrs\": 0.42, \"max_trip_route_group\": 0.42, \"below_cutoff\": 9, \"pct_below_cutoff\": 1.0, \"name\": \"Redwood Coast Transit Authority\", \"caltrans_district\": \"01 - Eureka\", \"drmt_organization_name\": null, \"route_name\": \"Wal-Mart / El Dorado\", \"cutoff2\": 20, \"cutoff\": 0}, {\"calitp_itp_id\": 261, \"trip_key\": -4365943257262203767, \"trip_id\": \"t_2006044_b_33487_tn_4\", \"shape_id\": \"p_2320\", \"route_id\": \"115\", \"service_hours\": 0.42, \"trip_first_departure_ts\": 41400, \"trip_last_arrival_ts\": 42900, \"departure_hour\": 11, \"time_of_day\": \"Midday\", \"p25\": 0.42, \"p50\": 0.42, \"p75\": 0.42, \"p50_trip\": 1, \"fastest_trip\": 0, \"car_duration_hours\": 0.28, \"competitive_route\": 1, \"bus_multiplier\": 1.5, \"bus_difference\": 8.4, \"num_trips\": 9, \"num_competitive\": 9, \"pct_trips_competitive\": 1.0, \"bus_difference_spread\": 0.0, \"route_group\": \"short\", \"max_trip_hrs\": 0.42, \"max_trip_route_group\": 0.42, \"below_cutoff\": 9, \"pct_below_cutoff\": 1.0, \"name\": \"Redwood Coast Transit Authority\", \"caltrans_district\": \"01 - Eureka\", \"drmt_organization_name\": null, \"route_name\": \"Wal-Mart / El Dorado\", \"cutoff2\": 20, \"cutoff\": 0}, {\"calitp_itp_id\": 261, \"trip_key\": -5640992416670111741, \"trip_id\": \"t_2006044_b_33487_tn_6\", \"shape_id\": \"p_2320\", \"route_id\": \"115\", \"service_hours\": 0.42, \"trip_first_departure_ts\": 48600, \"trip_last_arrival_ts\": 50100, \"departure_hour\": 13, \"time_of_day\": \"Midday\", \"p25\": 0.42, \"p50\": 0.42, \"p75\": 0.42, \"p50_trip\": 1, \"fastest_trip\": 0, \"car_duration_hours\": 0.28, \"competitive_route\": 1, \"bus_multiplier\": 1.5, \"bus_difference\": 8.4, \"num_trips\": 9, \"num_competitive\": 9, \"pct_trips_competitive\": 1.0, \"bus_difference_spread\": 0.0, \"route_group\": \"short\", \"max_trip_hrs\": 0.42, \"max_trip_route_group\": 0.42, \"below_cutoff\": 9, \"pct_below_cutoff\": 1.0, \"name\": \"Redwood Coast Transit Authority\", \"caltrans_district\": \"01 - Eureka\", \"drmt_organization_name\": null, \"route_name\": \"Wal-Mart / El Dorado\", \"cutoff2\": 20, \"cutoff\": 0}, {\"calitp_itp_id\": 261, \"trip_key\": 3864538598402440862, \"trip_id\": \"t_2006044_b_33487_tn_9\", \"shape_id\": \"p_2320\", \"route_id\": \"115\", \"service_hours\": 0.42, \"trip_first_departure_ts\": 59400, \"trip_last_arrival_ts\": 60900, \"departure_hour\": 16, \"time_of_day\": \"Midday\", \"p25\": 0.42, \"p50\": 0.42, \"p75\": 0.42, \"p50_trip\": 1, \"fastest_trip\": 1, \"car_duration_hours\": 0.28, \"competitive_route\": 1, \"bus_multiplier\": 1.5, \"bus_difference\": 8.4, \"num_trips\": 9, \"num_competitive\": 9, \"pct_trips_competitive\": 1.0, \"bus_difference_spread\": 0.0, \"route_group\": \"short\", \"max_trip_hrs\": 0.42, \"max_trip_route_group\": 0.42, \"below_cutoff\": 9, \"pct_below_cutoff\": 1.0, \"name\": \"Redwood Coast Transit Authority\", \"caltrans_district\": \"01 - Eureka\", \"drmt_organization_name\": null, \"route_name\": \"Wal-Mart / El Dorado\", \"cutoff2\": 20, \"cutoff\": 0}, {\"calitp_itp_id\": 261, \"trip_key\": -6676047693299356637, \"trip_id\": \"t_2006044_b_33487_tn_3\", \"shape_id\": \"p_2320\", \"route_id\": \"115\", \"service_hours\": 0.42, \"trip_first_departure_ts\": 37800, \"trip_last_arrival_ts\": 39300, \"departure_hour\": 10, \"time_of_day\": \"Midday\", \"p25\": 0.42, \"p50\": 0.42, \"p75\": 0.42, \"p50_trip\": 1, \"fastest_trip\": 0, \"car_duration_hours\": 0.28, \"competitive_route\": 1, \"bus_multiplier\": 1.5, \"bus_difference\": 8.4, \"num_trips\": 9, \"num_competitive\": 9, \"pct_trips_competitive\": 1.0, \"bus_difference_spread\": 0.0, \"route_group\": \"short\", \"max_trip_hrs\": 0.42, \"max_trip_route_group\": 0.42, \"below_cutoff\": 9, \"pct_below_cutoff\": 1.0, \"name\": \"Redwood Coast Transit Authority\", \"caltrans_district\": \"01 - Eureka\", \"drmt_organization_name\": null, \"route_name\": \"Wal-Mart / El Dorado\", \"cutoff2\": 20, \"cutoff\": 0}, {\"calitp_itp_id\": 261, \"trip_key\": 3602763330778050808, \"trip_id\": \"t_2006044_b_33487_tn_2\", \"shape_id\": \"p_2320\", \"route_id\": \"115\", \"service_hours\": 0.42, \"trip_first_departure_ts\": 34200, \"trip_last_arrival_ts\": 35700, \"departure_hour\": 9, \"time_of_day\": \"AM Peak\", \"p25\": 0.42, \"p50\": 0.42, \"p75\": 0.42, \"p50_trip\": 1, \"fastest_trip\": 0, \"car_duration_hours\": 0.28, \"competitive_route\": 1, \"bus_multiplier\": 1.5, \"bus_difference\": 8.4, \"num_trips\": 9, \"num_competitive\": 9, \"pct_trips_competitive\": 1.0, \"bus_difference_spread\": 0.0, \"route_group\": \"short\", \"max_trip_hrs\": 0.42, \"max_trip_route_group\": 0.42, \"below_cutoff\": 9, \"pct_below_cutoff\": 1.0, \"name\": \"Redwood Coast Transit Authority\", \"caltrans_district\": \"01 - Eureka\", \"drmt_organization_name\": null, \"route_name\": \"Wal-Mart / El Dorado\", \"cutoff2\": 20, \"cutoff\": 0}, {\"calitp_itp_id\": 261, \"trip_key\": 6255870441710139008, \"trip_id\": \"t_2006044_b_33487_tn_7\", \"shape_id\": \"p_2320\", \"route_id\": \"115\", \"service_hours\": 0.42, \"trip_first_departure_ts\": 52200, \"trip_last_arrival_ts\": 53700, \"departure_hour\": 14, \"time_of_day\": \"Midday\", \"p25\": 0.42, \"p50\": 0.42, \"p75\": 0.42, \"p50_trip\": 1, \"fastest_trip\": 0, \"car_duration_hours\": 0.28, \"competitive_route\": 1, \"bus_multiplier\": 1.5, \"bus_difference\": 8.4, \"num_trips\": 9, \"num_competitive\": 9, \"pct_trips_competitive\": 1.0, \"bus_difference_spread\": 0.0, \"route_group\": \"short\", \"max_trip_hrs\": 0.42, \"max_trip_route_group\": 0.42, \"below_cutoff\": 9, \"pct_below_cutoff\": 1.0, \"name\": \"Redwood Coast Transit Authority\", \"caltrans_district\": \"01 - Eureka\", \"drmt_organization_name\": null, \"route_name\": \"Wal-Mart / El Dorado\", \"cutoff2\": 20, \"cutoff\": 0}, {\"calitp_itp_id\": 261, \"trip_key\": -5947924560965417330, \"trip_id\": \"t_2006057_b_33487_tn_9\", \"shape_id\": \"p_2318\", \"route_id\": \"116\", \"service_hours\": 0.42, \"trip_first_departure_ts\": 57600, \"trip_last_arrival_ts\": 59100, \"departure_hour\": 16, \"time_of_day\": \"Midday\", \"p25\": 0.42, \"p50\": 0.42, \"p75\": 0.42, \"p50_trip\": 1, \"fastest_trip\": 1, \"car_duration_hours\": 0.27, \"competitive_route\": 1, \"bus_multiplier\": 1.56, \"bus_difference\": 9.0, \"num_trips\": 9, \"num_competitive\": 9, \"pct_trips_competitive\": 1.0, \"bus_difference_spread\": 0.0, \"route_group\": \"short\", \"max_trip_hrs\": 0.42, \"max_trip_route_group\": 0.42, \"below_cutoff\": 9, \"pct_below_cutoff\": 1.0, \"name\": \"Redwood Coast Transit Authority\", \"caltrans_district\": \"01 - Eureka\", \"drmt_organization_name\": null, \"route_name\": \"A / Inyo / Washington Loop\", \"cutoff2\": 20, \"cutoff\": 0}, {\"calitp_itp_id\": 261, \"trip_key\": -2308273354089281965, \"trip_id\": \"t_2006057_b_33487_tn_8\", \"shape_id\": \"p_2318\", \"route_id\": \"116\", \"service_hours\": 0.42, \"trip_first_departure_ts\": 54000, \"trip_last_arrival_ts\": 55500, \"departure_hour\": 15, \"time_of_day\": \"Midday\", \"p25\": 0.42, \"p50\": 0.42, \"p75\": 0.42, \"p50_trip\": 1, \"fastest_trip\": 0, \"car_duration_hours\": 0.27, \"competitive_route\": 1, \"bus_multiplier\": 1.56, \"bus_difference\": 9.0, \"num_trips\": 9, \"num_competitive\": 9, \"pct_trips_competitive\": 1.0, \"bus_difference_spread\": 0.0, \"route_group\": \"short\", \"max_trip_hrs\": 0.42, \"max_trip_route_group\": 0.42, \"below_cutoff\": 9, \"pct_below_cutoff\": 1.0, \"name\": \"Redwood Coast Transit Authority\", \"caltrans_district\": \"01 - Eureka\", \"drmt_organization_name\": null, \"route_name\": \"A / Inyo / Washington Loop\", \"cutoff2\": 20, \"cutoff\": 0}, {\"calitp_itp_id\": 261, \"trip_key\": -5964972685210824559, \"trip_id\": \"t_2006057_b_33487_tn_1\", \"shape_id\": \"p_2318\", \"route_id\": \"116\", \"service_hours\": 0.42, \"trip_first_departure_ts\": 28800, \"trip_last_arrival_ts\": 30300, \"departure_hour\": 8, \"time_of_day\": \"AM Peak\", \"p25\": 0.42, \"p50\": 0.42, \"p75\": 0.42, \"p50_trip\": 1, \"fastest_trip\": 0, \"car_duration_hours\": 0.27, \"competitive_route\": 1, \"bus_multiplier\": 1.56, \"bus_difference\": 9.0, \"num_trips\": 9, \"num_competitive\": 9, \"pct_trips_competitive\": 1.0, \"bus_difference_spread\": 0.0, \"route_group\": \"short\", \"max_trip_hrs\": 0.42, \"max_trip_route_group\": 0.42, \"below_cutoff\": 9, \"pct_below_cutoff\": 1.0, \"name\": \"Redwood Coast Transit Authority\", \"caltrans_district\": \"01 - Eureka\", \"drmt_organization_name\": null, \"route_name\": \"A / Inyo / Washington Loop\", \"cutoff2\": 20, \"cutoff\": 0}, {\"calitp_itp_id\": 261, \"trip_key\": -3334701120906354669, \"trip_id\": \"t_2006057_b_33487_tn_2\", \"shape_id\": \"p_2318\", \"route_id\": \"116\", \"service_hours\": 0.42, \"trip_first_departure_ts\": 32400, \"trip_last_arrival_ts\": 33900, \"departure_hour\": 9, \"time_of_day\": \"AM Peak\", \"p25\": 0.42, \"p50\": 0.42, \"p75\": 0.42, \"p50_trip\": 1, \"fastest_trip\": 0, \"car_duration_hours\": 0.27, \"competitive_route\": 1, \"bus_multiplier\": 1.56, \"bus_difference\": 9.0, \"num_trips\": 9, \"num_competitive\": 9, \"pct_trips_competitive\": 1.0, \"bus_difference_spread\": 0.0, \"route_group\": \"short\", \"max_trip_hrs\": 0.42, \"max_trip_route_group\": 0.42, \"below_cutoff\": 9, \"pct_below_cutoff\": 1.0, \"name\": \"Redwood Coast Transit Authority\", \"caltrans_district\": \"01 - Eureka\", \"drmt_organization_name\": null, \"route_name\": \"A / Inyo / Washington Loop\", \"cutoff2\": 20, \"cutoff\": 0}, {\"calitp_itp_id\": 261, \"trip_key\": -2247795378383637330, \"trip_id\": \"t_2006057_b_33487_tn_7\", \"shape_id\": \"p_2318\", \"route_id\": \"116\", \"service_hours\": 0.42, \"trip_first_departure_ts\": 50400, \"trip_last_arrival_ts\": 51900, \"departure_hour\": 14, \"time_of_day\": \"Midday\", \"p25\": 0.42, \"p50\": 0.42, \"p75\": 0.42, \"p50_trip\": 1, \"fastest_trip\": 0, \"car_duration_hours\": 0.27, \"competitive_route\": 1, \"bus_multiplier\": 1.56, \"bus_difference\": 9.0, \"num_trips\": 9, \"num_competitive\": 9, \"pct_trips_competitive\": 1.0, \"bus_difference_spread\": 0.0, \"route_group\": \"short\", \"max_trip_hrs\": 0.42, \"max_trip_route_group\": 0.42, \"below_cutoff\": 9, \"pct_below_cutoff\": 1.0, \"name\": \"Redwood Coast Transit Authority\", \"caltrans_district\": \"01 - Eureka\", \"drmt_organization_name\": null, \"route_name\": \"A / Inyo / Washington Loop\", \"cutoff2\": 20, \"cutoff\": 0}, {\"calitp_itp_id\": 261, \"trip_key\": 6669045542293455970, \"trip_id\": \"t_2006057_b_33487_tn_5\", \"shape_id\": \"p_2318\", \"route_id\": \"116\", \"service_hours\": 0.42, \"trip_first_departure_ts\": 43200, \"trip_last_arrival_ts\": 44700, \"departure_hour\": 12, \"time_of_day\": \"Midday\", \"p25\": 0.42, \"p50\": 0.42, \"p75\": 0.42, \"p50_trip\": 1, \"fastest_trip\": 0, \"car_duration_hours\": 0.27, \"competitive_route\": 1, \"bus_multiplier\": 1.56, \"bus_difference\": 9.0, \"num_trips\": 9, \"num_competitive\": 9, \"pct_trips_competitive\": 1.0, \"bus_difference_spread\": 0.0, \"route_group\": \"short\", \"max_trip_hrs\": 0.42, \"max_trip_route_group\": 0.42, \"below_cutoff\": 9, \"pct_below_cutoff\": 1.0, \"name\": \"Redwood Coast Transit Authority\", \"caltrans_district\": \"01 - Eureka\", \"drmt_organization_name\": null, \"route_name\": \"A / Inyo / Washington Loop\", \"cutoff2\": 20, \"cutoff\": 0}, {\"calitp_itp_id\": 261, \"trip_key\": -7948494232931211647, \"trip_id\": \"t_2006057_b_33487_tn_3\", \"shape_id\": \"p_2318\", \"route_id\": \"116\", \"service_hours\": 0.42, \"trip_first_departure_ts\": 36000, \"trip_last_arrival_ts\": 37500, \"departure_hour\": 10, \"time_of_day\": \"Midday\", \"p25\": 0.42, \"p50\": 0.42, \"p75\": 0.42, \"p50_trip\": 1, \"fastest_trip\": 0, \"car_duration_hours\": 0.27, \"competitive_route\": 1, \"bus_multiplier\": 1.56, \"bus_difference\": 9.0, \"num_trips\": 9, \"num_competitive\": 9, \"pct_trips_competitive\": 1.0, \"bus_difference_spread\": 0.0, \"route_group\": \"short\", \"max_trip_hrs\": 0.42, \"max_trip_route_group\": 0.42, \"below_cutoff\": 9, \"pct_below_cutoff\": 1.0, \"name\": \"Redwood Coast Transit Authority\", \"caltrans_district\": \"01 - Eureka\", \"drmt_organization_name\": null, \"route_name\": \"A / Inyo / Washington Loop\", \"cutoff2\": 20, \"cutoff\": 0}, {\"calitp_itp_id\": 261, \"trip_key\": 3460612343347221550, \"trip_id\": \"t_2006057_b_33487_tn_4\", \"shape_id\": \"p_2318\", \"route_id\": \"116\", \"service_hours\": 0.42, \"trip_first_departure_ts\": 39600, \"trip_last_arrival_ts\": 41100, \"departure_hour\": 11, \"time_of_day\": \"Midday\", \"p25\": 0.42, \"p50\": 0.42, \"p75\": 0.42, \"p50_trip\": 1, \"fastest_trip\": 0, \"car_duration_hours\": 0.27, \"competitive_route\": 1, \"bus_multiplier\": 1.56, \"bus_difference\": 9.0, \"num_trips\": 9, \"num_competitive\": 9, \"pct_trips_competitive\": 1.0, \"bus_difference_spread\": 0.0, \"route_group\": \"short\", \"max_trip_hrs\": 0.42, \"max_trip_route_group\": 0.42, \"below_cutoff\": 9, \"pct_below_cutoff\": 1.0, \"name\": \"Redwood Coast Transit Authority\", \"caltrans_district\": \"01 - Eureka\", \"drmt_organization_name\": null, \"route_name\": \"A / Inyo / Washington Loop\", \"cutoff2\": 20, \"cutoff\": 0}, {\"calitp_itp_id\": 261, \"trip_key\": -3853293836846965793, \"trip_id\": \"t_2006057_b_33487_tn_6\", \"shape_id\": \"p_2318\", \"route_id\": \"116\", \"service_hours\": 0.42, \"trip_first_departure_ts\": 46800, \"trip_last_arrival_ts\": 48300, \"departure_hour\": 13, \"time_of_day\": \"Midday\", \"p25\": 0.42, \"p50\": 0.42, \"p75\": 0.42, \"p50_trip\": 1, \"fastest_trip\": 0, \"car_duration_hours\": 0.27, \"competitive_route\": 1, \"bus_multiplier\": 1.56, \"bus_difference\": 9.0, \"num_trips\": 9, \"num_competitive\": 9, \"pct_trips_competitive\": 1.0, \"bus_difference_spread\": 0.0, \"route_group\": \"short\", \"max_trip_hrs\": 0.42, \"max_trip_route_group\": 0.42, \"below_cutoff\": 9, \"pct_below_cutoff\": 1.0, \"name\": \"Redwood Coast Transit Authority\", \"caltrans_district\": \"01 - Eureka\", \"drmt_organization_name\": null, \"route_name\": \"A / Inyo / Washington Loop\", \"cutoff2\": 20, \"cutoff\": 0}, {\"calitp_itp_id\": 261, \"trip_key\": -4369438168012715489, \"trip_id\": \"t_2006046_b_33487_tn_5\", \"shape_id\": \"p_2313\", \"route_id\": \"118\", \"service_hours\": 0.42, \"trip_first_departure_ts\": 45000, \"trip_last_arrival_ts\": 46500, \"departure_hour\": 12, \"time_of_day\": \"Midday\", \"p25\": 0.42, \"p50\": 0.42, \"p75\": 0.42, \"p50_trip\": 1, \"fastest_trip\": 0, \"car_duration_hours\": 0.22, \"competitive_route\": 1, \"bus_multiplier\": 1.91, \"bus_difference\": 12.0, \"num_trips\": 9, \"num_competitive\": 9, \"pct_trips_competitive\": 1.0, \"bus_difference_spread\": 0.0, \"route_group\": \"short\", \"max_trip_hrs\": 0.42, \"max_trip_route_group\": 0.42, \"below_cutoff\": 9, \"pct_below_cutoff\": 1.0, \"name\": \"Redwood Coast Transit Authority\", \"caltrans_district\": \"01 - Eureka\", \"drmt_organization_name\": null, \"route_name\": \"Bertsch / Howland Hill Rd\", \"cutoff2\": 20, \"cutoff\": 0}, {\"calitp_itp_id\": 261, \"trip_key\": 178609186068521304, \"trip_id\": \"t_2006046_b_33487_tn_9\", \"shape_id\": \"p_2313\", \"route_id\": \"118\", \"service_hours\": 0.42, \"trip_first_departure_ts\": 59400, \"trip_last_arrival_ts\": 60900, \"departure_hour\": 16, \"time_of_day\": \"Midday\", \"p25\": 0.42, \"p50\": 0.42, \"p75\": 0.42, \"p50_trip\": 1, \"fastest_trip\": 1, \"car_duration_hours\": 0.22, \"competitive_route\": 1, \"bus_multiplier\": 1.91, \"bus_difference\": 12.0, \"num_trips\": 9, \"num_competitive\": 9, \"pct_trips_competitive\": 1.0, \"bus_difference_spread\": 0.0, \"route_group\": \"short\", \"max_trip_hrs\": 0.42, \"max_trip_route_group\": 0.42, \"below_cutoff\": 9, \"pct_below_cutoff\": 1.0, \"name\": \"Redwood Coast Transit Authority\", \"caltrans_district\": \"01 - Eureka\", \"drmt_organization_name\": null, \"route_name\": \"Bertsch / Howland Hill Rd\", \"cutoff2\": 20, \"cutoff\": 0}, {\"calitp_itp_id\": 261, \"trip_key\": -1834225741399698875, \"trip_id\": \"t_2006046_b_33487_tn_3\", \"shape_id\": \"p_2313\", \"route_id\": \"118\", \"service_hours\": 0.42, \"trip_first_departure_ts\": 37800, \"trip_last_arrival_ts\": 39300, \"departure_hour\": 10, \"time_of_day\": \"Midday\", \"p25\": 0.42, \"p50\": 0.42, \"p75\": 0.42, \"p50_trip\": 1, \"fastest_trip\": 0, \"car_duration_hours\": 0.22, \"competitive_route\": 1, \"bus_multiplier\": 1.91, \"bus_difference\": 12.0, \"num_trips\": 9, \"num_competitive\": 9, \"pct_trips_competitive\": 1.0, \"bus_difference_spread\": 0.0, \"route_group\": \"short\", \"max_trip_hrs\": 0.42, \"max_trip_route_group\": 0.42, \"below_cutoff\": 9, \"pct_below_cutoff\": 1.0, \"name\": \"Redwood Coast Transit Authority\", \"caltrans_district\": \"01 - Eureka\", \"drmt_organization_name\": null, \"route_name\": \"Bertsch / Howland Hill Rd\", \"cutoff2\": 20, \"cutoff\": 0}, {\"calitp_itp_id\": 261, \"trip_key\": 3698582749328456375, \"trip_id\": \"t_2006046_b_33487_tn_8\", \"shape_id\": \"p_2313\", \"route_id\": \"118\", \"service_hours\": 0.42, \"trip_first_departure_ts\": 55800, \"trip_last_arrival_ts\": 57300, \"departure_hour\": 15, \"time_of_day\": \"Midday\", \"p25\": 0.42, \"p50\": 0.42, \"p75\": 0.42, \"p50_trip\": 1, \"fastest_trip\": 0, \"car_duration_hours\": 0.22, \"competitive_route\": 1, \"bus_multiplier\": 1.91, \"bus_difference\": 12.0, \"num_trips\": 9, \"num_competitive\": 9, \"pct_trips_competitive\": 1.0, \"bus_difference_spread\": 0.0, \"route_group\": \"short\", \"max_trip_hrs\": 0.42, \"max_trip_route_group\": 0.42, \"below_cutoff\": 9, \"pct_below_cutoff\": 1.0, \"name\": \"Redwood Coast Transit Authority\", \"caltrans_district\": \"01 - Eureka\", \"drmt_organization_name\": null, \"route_name\": \"Bertsch / Howland Hill Rd\", \"cutoff2\": 20, \"cutoff\": 0}, {\"calitp_itp_id\": 261, \"trip_key\": 5519451556365262595, \"trip_id\": \"t_2006046_b_33487_tn_6\", \"shape_id\": \"p_2313\", \"route_id\": \"118\", \"service_hours\": 0.42, \"trip_first_departure_ts\": 48600, \"trip_last_arrival_ts\": 50100, \"departure_hour\": 13, \"time_of_day\": \"Midday\", \"p25\": 0.42, \"p50\": 0.42, \"p75\": 0.42, \"p50_trip\": 1, \"fastest_trip\": 0, \"car_duration_hours\": 0.22, \"competitive_route\": 1, \"bus_multiplier\": 1.91, \"bus_difference\": 12.0, \"num_trips\": 9, \"num_competitive\": 9, \"pct_trips_competitive\": 1.0, \"bus_difference_spread\": 0.0, \"route_group\": \"short\", \"max_trip_hrs\": 0.42, \"max_trip_route_group\": 0.42, \"below_cutoff\": 9, \"pct_below_cutoff\": 1.0, \"name\": \"Redwood Coast Transit Authority\", \"caltrans_district\": \"01 - Eureka\", \"drmt_organization_name\": null, \"route_name\": \"Bertsch / Howland Hill Rd\", \"cutoff2\": 20, \"cutoff\": 0}, {\"calitp_itp_id\": 261, \"trip_key\": -7527644169991759654, \"trip_id\": \"t_2006046_b_33487_tn_2\", \"shape_id\": \"p_2313\", \"route_id\": \"118\", \"service_hours\": 0.42, \"trip_first_departure_ts\": 34200, \"trip_last_arrival_ts\": 35700, \"departure_hour\": 9, \"time_of_day\": \"AM Peak\", \"p25\": 0.42, \"p50\": 0.42, \"p75\": 0.42, \"p50_trip\": 1, \"fastest_trip\": 0, \"car_duration_hours\": 0.22, \"competitive_route\": 1, \"bus_multiplier\": 1.91, \"bus_difference\": 12.0, \"num_trips\": 9, \"num_competitive\": 9, \"pct_trips_competitive\": 1.0, \"bus_difference_spread\": 0.0, \"route_group\": \"short\", \"max_trip_hrs\": 0.42, \"max_trip_route_group\": 0.42, \"below_cutoff\": 9, \"pct_below_cutoff\": 1.0, \"name\": \"Redwood Coast Transit Authority\", \"caltrans_district\": \"01 - Eureka\", \"drmt_organization_name\": null, \"route_name\": \"Bertsch / Howland Hill Rd\", \"cutoff2\": 20, \"cutoff\": 0}, {\"calitp_itp_id\": 261, \"trip_key\": 735623954779433435, \"trip_id\": \"t_2006046_b_33487_tn_1\", \"shape_id\": \"p_2313\", \"route_id\": \"118\", \"service_hours\": 0.42, \"trip_first_departure_ts\": 30600, \"trip_last_arrival_ts\": 32100, \"departure_hour\": 8, \"time_of_day\": \"AM Peak\", \"p25\": 0.42, \"p50\": 0.42, \"p75\": 0.42, \"p50_trip\": 1, \"fastest_trip\": 0, \"car_duration_hours\": 0.22, \"competitive_route\": 1, \"bus_multiplier\": 1.91, \"bus_difference\": 12.0, \"num_trips\": 9, \"num_competitive\": 9, \"pct_trips_competitive\": 1.0, \"bus_difference_spread\": 0.0, \"route_group\": \"short\", \"max_trip_hrs\": 0.42, \"max_trip_route_group\": 0.42, \"below_cutoff\": 9, \"pct_below_cutoff\": 1.0, \"name\": \"Redwood Coast Transit Authority\", \"caltrans_district\": \"01 - Eureka\", \"drmt_organization_name\": null, \"route_name\": \"Bertsch / Howland Hill Rd\", \"cutoff2\": 20, \"cutoff\": 0}, {\"calitp_itp_id\": 261, \"trip_key\": -2834597081029379849, \"trip_id\": \"t_2006046_b_33487_tn_7\", \"shape_id\": \"p_2313\", \"route_id\": \"118\", \"service_hours\": 0.42, \"trip_first_departure_ts\": 52200, \"trip_last_arrival_ts\": 53700, \"departure_hour\": 14, \"time_of_day\": \"Midday\", \"p25\": 0.42, \"p50\": 0.42, \"p75\": 0.42, \"p50_trip\": 1, \"fastest_trip\": 0, \"car_duration_hours\": 0.22, \"competitive_route\": 1, \"bus_multiplier\": 1.91, \"bus_difference\": 12.0, \"num_trips\": 9, \"num_competitive\": 9, \"pct_trips_competitive\": 1.0, \"bus_difference_spread\": 0.0, \"route_group\": \"short\", \"max_trip_hrs\": 0.42, \"max_trip_route_group\": 0.42, \"below_cutoff\": 9, \"pct_below_cutoff\": 1.0, \"name\": \"Redwood Coast Transit Authority\", \"caltrans_district\": \"01 - Eureka\", \"drmt_organization_name\": null, \"route_name\": \"Bertsch / Howland Hill Rd\", \"cutoff2\": 20, \"cutoff\": 0}, {\"calitp_itp_id\": 261, \"trip_key\": 2388398762724780736, \"trip_id\": \"t_2006046_b_33487_tn_4\", \"shape_id\": \"p_2313\", \"route_id\": \"118\", \"service_hours\": 0.42, \"trip_first_departure_ts\": 41400, \"trip_last_arrival_ts\": 42900, \"departure_hour\": 11, \"time_of_day\": \"Midday\", \"p25\": 0.42, \"p50\": 0.42, \"p75\": 0.42, \"p50_trip\": 1, \"fastest_trip\": 0, \"car_duration_hours\": 0.22, \"competitive_route\": 1, \"bus_multiplier\": 1.91, \"bus_difference\": 12.0, \"num_trips\": 9, \"num_competitive\": 9, \"pct_trips_competitive\": 1.0, \"bus_difference_spread\": 0.0, \"route_group\": \"short\", \"max_trip_hrs\": 0.42, \"max_trip_route_group\": 0.42, \"below_cutoff\": 9, \"pct_below_cutoff\": 1.0, \"name\": \"Redwood Coast Transit Authority\", \"caltrans_district\": \"01 - Eureka\", \"drmt_organization_name\": null, \"route_name\": \"Bertsch / Howland Hill Rd\", \"cutoff2\": 20, \"cutoff\": 0}, {\"calitp_itp_id\": 261, \"trip_key\": -8915479417837480146, \"trip_id\": \"t_2006040_b_33487_tn_0\", \"shape_id\": \"p_787736\", \"route_id\": \"14242\", \"service_hours\": 0.58, \"trip_first_departure_ts\": 55500, \"trip_last_arrival_ts\": 57600, \"departure_hour\": 15, \"time_of_day\": \"Midday\", \"p25\": 0.58, \"p50\": 0.58, \"p75\": 0.58, \"p50_trip\": 1, \"fastest_trip\": 1, \"car_duration_hours\": 0.41, \"competitive_route\": 1, \"bus_multiplier\": 1.41, \"bus_difference\": 10.2, \"num_trips\": 1, \"num_competitive\": 1, \"pct_trips_competitive\": 1.0, \"bus_difference_spread\": 0.0, \"route_group\": \"short\", \"max_trip_hrs\": 0.58, \"max_trip_route_group\": 0.58, \"below_cutoff\": 1, \"pct_below_cutoff\": 1.0, \"name\": \"Redwood Coast Transit Authority\", \"caltrans_district\": \"01 - Eureka\", \"drmt_organization_name\": null, \"route_name\": \"300 Dnhs Pm Tripper\", \"cutoff2\": 20, \"cutoff\": 0}, {\"calitp_itp_id\": 261, \"trip_key\": 7433108286017185515, \"trip_id\": \"t_2006047_b_33487_tn_0\", \"shape_id\": \"p_2317\", \"route_id\": \"257\", \"service_hours\": 0.67, \"trip_first_departure_ts\": 24780, \"trip_last_arrival_ts\": 27180, \"departure_hour\": 6, \"time_of_day\": \"Owl Service\", \"p25\": 0.67, \"p50\": 0.7, \"p75\": 0.73, \"p50_trip\": 1, \"fastest_trip\": 0, \"car_duration_hours\": 0.53, \"competitive_route\": 1, \"bus_multiplier\": 1.26, \"bus_difference\": 8.4, \"num_trips\": 4, \"num_competitive\": 4, \"pct_trips_competitive\": 1.0, \"bus_difference_spread\": 3.5999999999999996, \"route_group\": \"short\", \"max_trip_hrs\": 0.73, \"max_trip_route_group\": 0.73, \"below_cutoff\": 4, \"pct_below_cutoff\": 1.0, \"name\": \"Redwood Coast Transit Authority\", \"caltrans_district\": \"01 - Eureka\", \"drmt_organization_name\": null, \"route_name\": \"Crescent City / Hiouchi / Gasquet\", \"cutoff2\": 20, \"cutoff\": 0}, {\"calitp_itp_id\": 261, \"trip_key\": 2047693789087880139, \"trip_id\": \"t_2006055_b_33487_tn_0\", \"shape_id\": \"p_2317\", \"route_id\": \"257\", \"service_hours\": 0.67, \"trip_first_departure_ts\": 45000, \"trip_last_arrival_ts\": 47400, \"departure_hour\": 12, \"time_of_day\": \"Midday\", \"p25\": 0.67, \"p50\": 0.7, \"p75\": 0.73, \"p50_trip\": 1, \"fastest_trip\": 1, \"car_duration_hours\": 0.53, \"competitive_route\": 1, \"bus_multiplier\": 1.26, \"bus_difference\": 8.4, \"num_trips\": 4, \"num_competitive\": 4, \"pct_trips_competitive\": 1.0, \"bus_difference_spread\": 3.5999999999999996, \"route_group\": \"short\", \"max_trip_hrs\": 0.73, \"max_trip_route_group\": 0.73, \"below_cutoff\": 4, \"pct_below_cutoff\": 1.0, \"name\": \"Redwood Coast Transit Authority\", \"caltrans_district\": \"01 - Eureka\", \"drmt_organization_name\": null, \"route_name\": \"Crescent City / Hiouchi / Gasquet\", \"cutoff2\": 20, \"cutoff\": 0}, {\"calitp_itp_id\": 261, \"trip_key\": 3683082310265377589, \"trip_id\": \"t_2006039_b_33487_tn_0\", \"shape_id\": \"p_8908\", \"route_id\": \"257\", \"service_hours\": 0.73, \"trip_first_departure_ts\": 47460, \"trip_last_arrival_ts\": 50100, \"departure_hour\": 13, \"time_of_day\": \"Midday\", \"p25\": 0.67, \"p50\": 0.7, \"p75\": 0.73, \"p50_trip\": 0, \"fastest_trip\": 0, \"car_duration_hours\": 0.53, \"competitive_route\": 1, \"bus_multiplier\": 1.38, \"bus_difference\": 12.0, \"num_trips\": 4, \"num_competitive\": 4, \"pct_trips_competitive\": 1.0, \"bus_difference_spread\": 3.5999999999999996, \"route_group\": \"short\", \"max_trip_hrs\": 0.73, \"max_trip_route_group\": 0.73, \"below_cutoff\": 4, \"pct_below_cutoff\": 1.0, \"name\": \"Redwood Coast Transit Authority\", \"caltrans_district\": \"01 - Eureka\", \"drmt_organization_name\": null, \"route_name\": \"Crescent City / Hiouchi / Gasquet\", \"cutoff2\": 20, \"cutoff\": 0}, {\"calitp_itp_id\": 261, \"trip_key\": -6748808122216700622, \"trip_id\": \"t_2006058_b_33487_tn_0\", \"shape_id\": \"p_8908\", \"route_id\": \"257\", \"service_hours\": 0.73, \"trip_first_departure_ts\": 27240, \"trip_last_arrival_ts\": 29880, \"departure_hour\": 7, \"time_of_day\": \"AM Peak\", \"p25\": 0.67, \"p50\": 0.7, \"p75\": 0.73, \"p50_trip\": 0, \"fastest_trip\": 0, \"car_duration_hours\": 0.53, \"competitive_route\": 1, \"bus_multiplier\": 1.38, \"bus_difference\": 12.0, \"num_trips\": 4, \"num_competitive\": 4, \"pct_trips_competitive\": 1.0, \"bus_difference_spread\": 3.5999999999999996, \"route_group\": \"short\", \"max_trip_hrs\": 0.73, \"max_trip_route_group\": 0.73, \"below_cutoff\": 4, \"pct_below_cutoff\": 1.0, \"name\": \"Redwood Coast Transit Authority\", \"caltrans_district\": \"01 - Eureka\", \"drmt_organization_name\": null, \"route_name\": \"Crescent City / Hiouchi / Gasquet\", \"cutoff2\": 20, \"cutoff\": 0}, {\"calitp_itp_id\": 261, \"trip_key\": 8766553947517341241, \"trip_id\": \"t_2006065_b_33487_tn_0\", \"shape_id\": \"p_1304282\", \"route_id\": \"32532\", \"service_hours\": 0.75, \"trip_first_departure_ts\": 25500, \"trip_last_arrival_ts\": 28200, \"departure_hour\": 7, \"time_of_day\": \"AM Peak\", \"p25\": 0.75, \"p50\": 0.75, \"p75\": 0.75, \"p50_trip\": 1, \"fastest_trip\": 1, \"car_duration_hours\": 0.53, \"competitive_route\": 1, \"bus_multiplier\": 1.42, \"bus_difference\": 13.2, \"num_trips\": 1, \"num_competitive\": 1, \"pct_trips_competitive\": 1.0, \"bus_difference_spread\": 0.0, \"route_group\": \"short\", \"max_trip_hrs\": 0.75, \"max_trip_route_group\": 0.75, \"below_cutoff\": 1, \"pct_below_cutoff\": 1.0, \"name\": \"Redwood Coast Transit Authority\", \"caltrans_district\": \"01 - Eureka\", \"drmt_organization_name\": null, \"route_name\": \"300 - 300 Dnhs Am Tripper\", \"cutoff2\": 20, \"cutoff\": 0}]}}, {\"mode\": \"vega-lite\"});\n",
       "</script>"
      ],
      "text/plain": [
       "alt.FacetChart(...)"
      ]
     },
     "metadata": {},
     "output_type": "display_data"
    },
    {
     "data": {
      "text/html": [
       "<h4>Route Stats</h4>"
      ],
      "text/plain": [
       "<IPython.core.display.HTML object>"
      ]
     },
     "metadata": {},
     "output_type": "display_data"
    },
    {
     "data": {
      "text/html": [
       "<style type=\"text/css\">\n",
       "#T_f22c0 th {\n",
       "  text-align: center;\n",
       "}\n",
       "#T_f22c0_row0_col0, #T_f22c0_row0_col1, #T_f22c0_row1_col0, #T_f22c0_row1_col1, #T_f22c0_row2_col0, #T_f22c0_row2_col1, #T_f22c0_row3_col0, #T_f22c0_row3_col1, #T_f22c0_row4_col0, #T_f22c0_row4_col1, #T_f22c0_row5_col0, #T_f22c0_row5_col1 {\n",
       "  text-align: left;\n",
       "}\n",
       "#T_f22c0_row0_col2, #T_f22c0_row0_col3, #T_f22c0_row0_col5, #T_f22c0_row1_col2, #T_f22c0_row1_col3, #T_f22c0_row1_col5, #T_f22c0_row2_col2, #T_f22c0_row2_col3, #T_f22c0_row2_col5, #T_f22c0_row3_col2, #T_f22c0_row3_col3, #T_f22c0_row3_col5, #T_f22c0_row4_col2, #T_f22c0_row4_col3, #T_f22c0_row4_col5, #T_f22c0_row5_col2, #T_f22c0_row5_col3, #T_f22c0_row5_col5 {\n",
       "  text-align: center;\n",
       "}\n",
       "</style>\n",
       "<table id=\"T_f22c0\">\n",
       "  <thead>\n",
       "    <tr>\n",
       "      <th id=\"T_f22c0_level0_col0\" class=\"col_heading level0 col0\" >Route ID</th>\n",
       "      <th id=\"T_f22c0_level0_col1\" class=\"col_heading level0 col1\" >Route Name</th>\n",
       "      <th id=\"T_f22c0_level0_col2\" class=\"col_heading level0 col2\" ># trips</th>\n",
       "      <th id=\"T_f22c0_level0_col3\" class=\"col_heading level0 col3\" >Daily Avg Freq (trips per hr)</th>\n",
       "      <th id=\"T_f22c0_level0_col4\" class=\"col_heading level0 col4\" >25th, 50th, 75th ptile (hrs)</th>\n",
       "      <th id=\"T_f22c0_level0_col5\" class=\"col_heading level0 col5\" >PM Peak Avg Freq (trips per hr)</th>\n",
       "    </tr>\n",
       "  </thead>\n",
       "  <tbody>\n",
       "    <tr>\n",
       "      <td id=\"T_f22c0_row0_col0\" class=\"data row0 col0\" >115</td>\n",
       "      <td id=\"T_f22c0_row0_col1\" class=\"data row0 col1\" >Wal-Mart / El Dorado</td>\n",
       "      <td id=\"T_f22c0_row0_col2\" class=\"data row0 col2\" >9</td>\n",
       "      <td id=\"T_f22c0_row0_col3\" class=\"data row0 col3\" >0.38</td>\n",
       "      <td id=\"T_f22c0_row0_col4\" class=\"data row0 col4\" >0.42, 0.42, 0.42</td>\n",
       "      <td id=\"T_f22c0_row0_col5\" class=\"data row0 col5\" >nan</td>\n",
       "    </tr>\n",
       "    <tr>\n",
       "      <td id=\"T_f22c0_row1_col0\" class=\"data row1 col0\" >116</td>\n",
       "      <td id=\"T_f22c0_row1_col1\" class=\"data row1 col1\" >A / Inyo / Washington Loop</td>\n",
       "      <td id=\"T_f22c0_row1_col2\" class=\"data row1 col2\" >9</td>\n",
       "      <td id=\"T_f22c0_row1_col3\" class=\"data row1 col3\" >0.38</td>\n",
       "      <td id=\"T_f22c0_row1_col4\" class=\"data row1 col4\" >0.42, 0.42, 0.42</td>\n",
       "      <td id=\"T_f22c0_row1_col5\" class=\"data row1 col5\" >nan</td>\n",
       "    </tr>\n",
       "    <tr>\n",
       "      <td id=\"T_f22c0_row2_col0\" class=\"data row2 col0\" >118</td>\n",
       "      <td id=\"T_f22c0_row2_col1\" class=\"data row2 col1\" >Bertsch / Howland Hill Rd</td>\n",
       "      <td id=\"T_f22c0_row2_col2\" class=\"data row2 col2\" >9</td>\n",
       "      <td id=\"T_f22c0_row2_col3\" class=\"data row2 col3\" >0.38</td>\n",
       "      <td id=\"T_f22c0_row2_col4\" class=\"data row2 col4\" >0.42, 0.42, 0.42</td>\n",
       "      <td id=\"T_f22c0_row2_col5\" class=\"data row2 col5\" >nan</td>\n",
       "    </tr>\n",
       "    <tr>\n",
       "      <td id=\"T_f22c0_row3_col0\" class=\"data row3 col0\" >257</td>\n",
       "      <td id=\"T_f22c0_row3_col1\" class=\"data row3 col1\" >Crescent City / Hiouchi / Gasquet</td>\n",
       "      <td id=\"T_f22c0_row3_col2\" class=\"data row3 col2\" >4</td>\n",
       "      <td id=\"T_f22c0_row3_col3\" class=\"data row3 col3\" >0.17</td>\n",
       "      <td id=\"T_f22c0_row3_col4\" class=\"data row3 col4\" >0.67, 0.7, 0.73</td>\n",
       "      <td id=\"T_f22c0_row3_col5\" class=\"data row3 col5\" >nan</td>\n",
       "    </tr>\n",
       "    <tr>\n",
       "      <td id=\"T_f22c0_row4_col0\" class=\"data row4 col0\" >14242</td>\n",
       "      <td id=\"T_f22c0_row4_col1\" class=\"data row4 col1\" >300 Dnhs Pm Tripper</td>\n",
       "      <td id=\"T_f22c0_row4_col2\" class=\"data row4 col2\" >1</td>\n",
       "      <td id=\"T_f22c0_row4_col3\" class=\"data row4 col3\" >0.04</td>\n",
       "      <td id=\"T_f22c0_row4_col4\" class=\"data row4 col4\" >0.58, 0.58, 0.58</td>\n",
       "      <td id=\"T_f22c0_row4_col5\" class=\"data row4 col5\" >nan</td>\n",
       "    </tr>\n",
       "    <tr>\n",
       "      <td id=\"T_f22c0_row5_col0\" class=\"data row5 col0\" >32532</td>\n",
       "      <td id=\"T_f22c0_row5_col1\" class=\"data row5 col1\" >300 - 300 Dnhs Am Tripper</td>\n",
       "      <td id=\"T_f22c0_row5_col2\" class=\"data row5 col2\" >1</td>\n",
       "      <td id=\"T_f22c0_row5_col3\" class=\"data row5 col3\" >0.04</td>\n",
       "      <td id=\"T_f22c0_row5_col4\" class=\"data row5 col4\" >0.75, 0.75, 0.75</td>\n",
       "      <td id=\"T_f22c0_row5_col5\" class=\"data row5 col5\" >nan</td>\n",
       "    </tr>\n",
       "  </tbody>\n",
       "</table>\n"
      ],
      "text/plain": [
       "<IPython.core.display.HTML object>"
      ]
     },
     "metadata": {},
     "output_type": "display_data"
    }
   ],
   "source": [
    "# Allow for possibility that operator doesn't have routes that fall into certain route_groups\n",
    "# But, jupyterbook will not like markdown with f-string\n",
    "# separate out route_group and put in each cell, and use try/except + if to display...\n",
    "# but all 3 route groups must be displayed. just add sentence about why no routes were returned at the end\n",
    "route_group = \"short\"\n",
    "try:\n",
    "    display_charts_for_route_group(df, route_group)\n",
    "except:\n",
    "    print(\"No routes meet this criteria.\")"
   ]
  },
  {
   "cell_type": "markdown",
   "id": "c2931b6f-034d-4384-9e14-80b925e3b820",
   "metadata": {
    "papermill": {
     "duration": 0.01758,
     "end_time": "2022-05-12T01:51:26.949114",
     "exception": false,
     "start_time": "2022-05-12T01:51:26.931534",
     "status": "completed"
    },
    "tags": []
   },
   "source": [
    "### Medium Routes (1-1.5 hrs)"
   ]
  },
  {
   "cell_type": "code",
   "execution_count": 15,
   "id": "480edddc-4de0-48c2-ae4c-b0ceef8f28b5",
   "metadata": {
    "execution": {
     "iopub.execute_input": "2022-05-12T01:51:26.990188Z",
     "iopub.status.busy": "2022-05-12T01:51:26.989874Z",
     "iopub.status.idle": "2022-05-12T01:51:27.002515Z",
     "shell.execute_reply": "2022-05-12T01:51:27.001613Z"
    },
    "jupyter": {
     "source_hidden": true
    },
    "papermill": {
     "duration": 0.036847,
     "end_time": "2022-05-12T01:51:27.004498",
     "exception": false,
     "start_time": "2022-05-12T01:51:26.967651",
     "status": "completed"
    },
    "tags": [
     "remove_input"
    ]
   },
   "outputs": [
    {
     "name": "stdout",
     "output_type": "stream",
     "text": [
      "No routes meet this criteria.\n"
     ]
    }
   ],
   "source": [
    "route_group = \"medium\"\n",
    "try:\n",
    "    display_charts_for_route_group(df, route_group)\n",
    "except:\n",
    "    print(\"No routes meet this criteria.\")"
   ]
  },
  {
   "cell_type": "markdown",
   "id": "124b76d0-886c-4d03-92ac-f1bda3cda182",
   "metadata": {
    "papermill": {
     "duration": 0.020694,
     "end_time": "2022-05-12T01:51:27.042363",
     "exception": false,
     "start_time": "2022-05-12T01:51:27.021669",
     "status": "completed"
    },
    "tags": []
   },
   "source": [
    "### Long Routes (> 1.5 hrs)"
   ]
  },
  {
   "cell_type": "code",
   "execution_count": 16,
   "id": "ddc81b19-4c45-4c81-8b7a-5e0f394aa7a3",
   "metadata": {
    "execution": {
     "iopub.execute_input": "2022-05-12T01:51:27.081413Z",
     "iopub.status.busy": "2022-05-12T01:51:27.081091Z",
     "iopub.status.idle": "2022-05-12T01:51:27.099649Z",
     "shell.execute_reply": "2022-05-12T01:51:27.098779Z"
    },
    "jupyter": {
     "source_hidden": true
    },
    "papermill": {
     "duration": 0.04111,
     "end_time": "2022-05-12T01:51:27.101679",
     "exception": false,
     "start_time": "2022-05-12T01:51:27.060569",
     "status": "completed"
    },
    "tags": [
     "remove_input"
    ]
   },
   "outputs": [
    {
     "name": "stdout",
     "output_type": "stream",
     "text": [
      "No routes meet this criteria.\n"
     ]
    }
   ],
   "source": [
    "route_group = \"long\"\n",
    "try:\n",
    "    display_charts_for_route_group(df, route_group)\n",
    "except:\n",
    "    print(\"No routes meet this criteria.\")"
   ]
  },
  {
   "cell_type": "markdown",
   "id": "ace75b5f-0442-4fbe-aebd-6c3a13ae13a7",
   "metadata": {
    "papermill": {
     "duration": 0.017911,
     "end_time": "2022-05-12T01:51:27.138271",
     "exception": false,
     "start_time": "2022-05-12T01:51:27.120360",
     "status": "completed"
    },
    "tags": []
   },
   "source": [
    "### GTFS Real-Time Speedmaps"
   ]
  },
  {
   "cell_type": "code",
   "execution_count": 17,
   "id": "a0a114a1-e975-4027-9daf-50029f5ef59f",
   "metadata": {
    "execution": {
     "iopub.execute_input": "2022-05-12T01:51:27.176583Z",
     "iopub.status.busy": "2022-05-12T01:51:27.175828Z",
     "iopub.status.idle": "2022-05-12T01:51:27.208614Z",
     "shell.execute_reply": "2022-05-12T01:51:27.207709Z"
    },
    "jupyter": {
     "source_hidden": true
    },
    "papermill": {
     "duration": 0.053792,
     "end_time": "2022-05-12T01:51:27.210527",
     "exception": false,
     "start_time": "2022-05-12T01:51:27.156735",
     "status": "completed"
    },
    "tags": [
     "remove_input"
    ]
   },
   "outputs": [
    {
     "data": {
      "text/html": [
       "No GTFS RT data available."
      ],
      "text/plain": [
       "<IPython.core.display.HTML object>"
      ]
     },
     "metadata": {},
     "output_type": "display_data"
    }
   ],
   "source": [
    "RT_SITE_YAML = \"../portfolio/sites/rt.yml\"\n",
    "\n",
    "# Grab list of ITP IDs with GTFS RT speedmaps\n",
    "rt_itp_id = deploy_portfolio_yaml.check_if_rt_data_available(RT_SITE_YAML)\n",
    "\n",
    "# Construct the URL \n",
    "RT_URL = (\"https://analysis.calitp.org/rt/\"\n",
    "          f\"district_{district_number}-{district_name}/\"\n",
    "          f\"speedmaps__itp_id_{itp_id}.html\"\n",
    "         ) \n",
    "\n",
    "# If this ITP ID is found in RT analysis, give URL to that operator in analysis.calitp.org\n",
    "if itp_id in rt_itp_id:\n",
    "    display(HTML(f'''<a href={RT_URL}>GTFS RT speedmaps here.</a>'''))\n",
    "\n",
    "else:\n",
    "    display(HTML(\"No GTFS RT data available.\"))"
   ]
  },
  {
   "cell_type": "code",
   "execution_count": null,
   "id": "5b680565-2230-4f2e-817c-718fad48d64c",
   "metadata": {
    "jupyter": {
     "source_hidden": true
    },
    "papermill": {
     "duration": 0.018699,
     "end_time": "2022-05-12T01:51:27.248547",
     "exception": false,
     "start_time": "2022-05-12T01:51:27.229848",
     "status": "completed"
    },
    "tags": [
     "remove_input"
    ]
   },
   "outputs": [],
   "source": []
  }
 ],
 "metadata": {
  "kernelspec": {
   "display_name": "Python 3 (ipykernel)",
   "language": "python",
   "name": "python3"
  },
  "language_info": {
   "codemirror_mode": {
    "name": "ipython",
    "version": 3
   },
   "file_extension": ".py",
   "mimetype": "text/x-python",
   "name": "python",
   "nbconvert_exporter": "python",
   "pygments_lexer": "ipython3",
   "version": "3.9.12"
  },
  "papermill": {
   "default_parameters": {},
   "duration": 34.061013,
   "end_time": "2022-05-12T01:51:28.491494",
   "environment_variables": {},
   "exception": null,
   "input_path": "bus_service_increase/competitive-parallel-routes.ipynb",
   "output_path": "portfolio/parallel_corridors/district_01-eureka/6__competitive-parallel-routes__district_01-eureka__itp_id_261.ipynb",
   "parameters": {
    "district": "01 - Eureka",
    "itp_id": 261
   },
   "start_time": "2022-05-12T01:50:54.430481",
   "version": "2.3.4"
  }
 },
 "nbformat": 4,
 "nbformat_minor": 5
}