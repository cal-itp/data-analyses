{
 "cells": [
  {
   "cell_type": "code",
   "execution_count": 1,
   "id": "95d00857-6a20-4529-a519-2cc7182928a9",
   "metadata": {
    "execution": {
     "iopub.execute_input": "2022-05-09T19:26:15.075947Z",
     "iopub.status.busy": "2022-05-09T19:26:15.075050Z",
     "iopub.status.idle": "2022-05-09T19:26:24.855226Z",
     "shell.execute_reply": "2022-05-09T19:26:24.854344Z"
    },
    "jupyter": {
     "source_hidden": true
    },
    "papermill": {
     "duration": 9.80107,
     "end_time": "2022-05-09T19:26:24.858454",
     "exception": false,
     "start_time": "2022-05-09T19:26:15.057384",
     "status": "completed"
    },
    "tags": [
     "remove_input"
    ]
   },
   "outputs": [],
   "source": [
    "%%capture\n",
    "import warnings\n",
    "warnings.filterwarnings('ignore')\n",
    "\n",
    "import altair as alt\n",
    "import calitp.magics\n",
    "import geopandas as gpd\n",
    "import intake\n",
    "import pandas as pd\n",
    "\n",
    "from IPython.display import display, Markdown, HTML\n",
    "\n",
    "import parallel_corridors_utils\n",
    "from shared_utils import styleguide\n",
    "import deploy_portfolio_yaml\n",
    "\n",
    "catalog = intake.open_catalog(\"./*.yml\")\n",
    "alt.renderers.enable(\"html\")"
   ]
  },
  {
   "cell_type": "code",
   "execution_count": 2,
   "id": "8af2a0c1-f3da-408d-9bea-11d9fbf8695d",
   "metadata": {
    "execution": {
     "iopub.execute_input": "2022-05-09T19:26:24.886189Z",
     "iopub.status.busy": "2022-05-09T19:26:24.885602Z",
     "iopub.status.idle": "2022-05-09T19:26:24.889845Z",
     "shell.execute_reply": "2022-05-09T19:26:24.889118Z"
    },
    "jupyter": {
     "source_hidden": true
    },
    "papermill": {
     "duration": 0.019743,
     "end_time": "2022-05-09T19:26:24.891907",
     "exception": false,
     "start_time": "2022-05-09T19:26:24.872164",
     "status": "completed"
    },
    "tags": [
     "parameters",
     "remove_input"
    ]
   },
   "outputs": [],
   "source": [
    "# parameters cell\n",
    "itp_id = 182"
   ]
  },
  {
   "cell_type": "code",
   "execution_count": 3,
   "id": "a5b8cbe4",
   "metadata": {
    "execution": {
     "iopub.execute_input": "2022-05-09T19:26:24.920414Z",
     "iopub.status.busy": "2022-05-09T19:26:24.919898Z",
     "iopub.status.idle": "2022-05-09T19:26:24.924455Z",
     "shell.execute_reply": "2022-05-09T19:26:24.923852Z"
    },
    "jupyter": {
     "source_hidden": true
    },
    "papermill": {
     "duration": 0.020649,
     "end_time": "2022-05-09T19:26:24.926246",
     "exception": false,
     "start_time": "2022-05-09T19:26:24.905597",
     "status": "completed"
    },
    "tags": [
     "injected-parameters",
     "remove_input"
    ]
   },
   "outputs": [],
   "source": [
    "# Parameters\n",
    "district = \"01 - Eureka\"\n",
    "itp_id = 18\n"
   ]
  },
  {
   "cell_type": "code",
   "execution_count": 4,
   "id": "9582aaf4-79ff-412a-b248-8d8d693ebd4f",
   "metadata": {
    "execution": {
     "iopub.execute_input": "2022-05-09T19:26:24.952343Z",
     "iopub.status.busy": "2022-05-09T19:26:24.951864Z",
     "iopub.status.idle": "2022-05-09T19:26:26.751860Z",
     "shell.execute_reply": "2022-05-09T19:26:26.750473Z"
    },
    "jupyter": {
     "source_hidden": true
    },
    "papermill": {
     "duration": 1.816848,
     "end_time": "2022-05-09T19:26:26.755298",
     "exception": false,
     "start_time": "2022-05-09T19:26:24.938450",
     "status": "completed"
    },
    "tags": [
     "remove_input"
    ]
   },
   "outputs": [],
   "source": [
    "df = catalog.competitive_route_variability.read()\n",
    "\n",
    "df = (df[(df.calitp_itp_id == itp_id) & \n",
    "         (df.route_group.notna())]\n",
    "      .reset_index(drop=True)\n",
    "     )\n",
    "\n",
    "\n",
    "if itp_id == 182:\n",
    "    df = df.assign(\n",
    "        route_id = df.route_id.str.replace('-13153', '').astype(int)\n",
    "    )"
   ]
  },
  {
   "cell_type": "code",
   "execution_count": 5,
   "id": "33ac4b06-f647-4dce-a625-8f2c1b37cc60",
   "metadata": {
    "execution": {
     "iopub.execute_input": "2022-05-09T19:26:26.784429Z",
     "iopub.status.busy": "2022-05-09T19:26:26.783833Z",
     "iopub.status.idle": "2022-05-09T19:26:26.792641Z",
     "shell.execute_reply": "2022-05-09T19:26:26.791693Z"
    },
    "jupyter": {
     "source_hidden": true
    },
    "papermill": {
     "duration": 0.025345,
     "end_time": "2022-05-09T19:26:26.794730",
     "exception": false,
     "start_time": "2022-05-09T19:26:26.769385",
     "status": "completed"
    },
    "tags": [
     "remove_input"
    ]
   },
   "outputs": [],
   "source": [
    "%%capture_parameters\n",
    "operator_name = df.name.iloc[0]\n",
    "district_number = f\"{df.caltrans_district.iloc[0].split('-')[0].strip()}\"\n",
    "district_name = f\"{df.caltrans_district.iloc[0].split('-')[1].strip().lower().replace(' ', '-')}\"\n",
    "\n",
    "itp_id, operator_name, district_number, district_name"
   ]
  },
  {
   "cell_type": "markdown",
   "id": "65bc6f5c-8348-42ee-b2dd-52057c406852",
   "metadata": {
    "papermill": {
     "duration": 0.022604,
     "end_time": "2022-05-09T19:26:26.839317",
     "exception": false,
     "start_time": "2022-05-09T19:26:26.816713",
     "status": "completed"
    },
    "tags": []
   },
   "source": [
    "# City of Arcata (ITP ID: 18)"
   ]
  },
  {
   "cell_type": "code",
   "execution_count": 6,
   "id": "a689c1ab-2c6c-4831-8d64-897f5986f571",
   "metadata": {
    "execution": {
     "iopub.execute_input": "2022-05-09T19:26:26.870345Z",
     "iopub.status.busy": "2022-05-09T19:26:26.869842Z",
     "iopub.status.idle": "2022-05-09T19:26:26.877967Z",
     "shell.execute_reply": "2022-05-09T19:26:26.876999Z"
    },
    "jupyter": {
     "source_hidden": true
    },
    "papermill": {
     "duration": 0.02808,
     "end_time": "2022-05-09T19:26:26.880568",
     "exception": false,
     "start_time": "2022-05-09T19:26:26.852488",
     "status": "completed"
    },
    "tags": [
     "remove_input"
    ]
   },
   "outputs": [
    {
     "data": {
      "text/html": [
       "<h1>Competitive & Parallel Routes</h1>"
      ],
      "text/plain": [
       "<IPython.core.display.HTML object>"
      ]
     },
     "metadata": {},
     "output_type": "display_data"
    }
   ],
   "source": [
    "display(HTML(\"<h1>Competitive & Parallel Routes</h1>\")) "
   ]
  },
  {
   "cell_type": "code",
   "execution_count": 7,
   "id": "2cb4d8d5-4760-40e4-85b1-cb833d8bb648",
   "metadata": {
    "execution": {
     "iopub.execute_input": "2022-05-09T19:26:26.918909Z",
     "iopub.status.busy": "2022-05-09T19:26:26.917580Z",
     "iopub.status.idle": "2022-05-09T19:26:41.798373Z",
     "shell.execute_reply": "2022-05-09T19:26:41.797081Z"
    },
    "jupyter": {
     "source_hidden": true
    },
    "papermill": {
     "duration": 14.906662,
     "end_time": "2022-05-09T19:26:41.802479",
     "exception": false,
     "start_time": "2022-05-09T19:26:26.895817",
     "status": "completed"
    },
    "tags": [
     "remove_input"
    ]
   },
   "outputs": [],
   "source": [
    "# Grab parameters for narrative text - clean up formatting here \n",
    "district = df.caltrans_district.iloc[0]\n",
    "formatted_date = pd.to_datetime(parallel_corridors_utils.SELECTED_DATE).strftime('%m-%d-%Y')\n",
    "\n",
    "PCT_COMPETITIVE_THRESHOLD = 0.75\n",
    "\n",
    "stats = parallel_corridors_utils.operator_parallel_competitive_stats(\n",
    "    itp_id, PCT_COMPETITIVE_THRESHOLD)\n",
    "\n",
    "pct_parallel = round(stats['parallel_routes'] / stats['num_routes'] * 100,1 )\n",
    "pct_competitive =  round(stats['competitive_routes'] / stats['num_routes'] * 100,1 )"
   ]
  },
  {
   "cell_type": "markdown",
   "id": "ab667928-5274-4490-82d9-4c39293209a4",
   "metadata": {
    "papermill": {
     "duration": 0.013064,
     "end_time": "2022-05-09T19:26:41.828613",
     "exception": false,
     "start_time": "2022-05-09T19:26:41.815549",
     "status": "completed"
    },
    "tags": []
   },
   "source": [
    "## Quick Stats"
   ]
  },
  {
   "cell_type": "code",
   "execution_count": 8,
   "id": "0416509d-dc62-4165-b62e-64f8b26e8b8e",
   "metadata": {
    "execution": {
     "iopub.execute_input": "2022-05-09T19:26:41.858223Z",
     "iopub.status.busy": "2022-05-09T19:26:41.857840Z",
     "iopub.status.idle": "2022-05-09T19:26:41.865023Z",
     "shell.execute_reply": "2022-05-09T19:26:41.864106Z"
    },
    "jupyter": {
     "source_hidden": true
    },
    "papermill": {
     "duration": 0.026903,
     "end_time": "2022-05-09T19:26:41.868885",
     "exception": false,
     "start_time": "2022-05-09T19:26:41.841982",
     "status": "completed"
    },
    "tags": [
     "remove_input"
    ]
   },
   "outputs": [
    {
     "data": {
      "text/markdown": [
       "**Bus routes in service**: 10 <br>**Parallel routes** to State Highway Network (SHN): 7 routes (70.0%)<br>**Competitive routes** against car travel: 3 routes (30.0%)"
      ],
      "text/plain": [
       "<IPython.core.display.Markdown object>"
      ]
     },
     "metadata": {},
     "output_type": "display_data"
    }
   ],
   "source": [
    "display(\n",
    "    Markdown(\n",
    "        f\"**Bus routes in service**: {stats['num_routes']} \"\n",
    "        \"<br>**Parallel routes** to State Highway Network (SHN): \"\n",
    "        f\"{stats['parallel_routes']} routes ({pct_parallel}%)\"\n",
    "        f\"<br>**Competitive routes** against car travel: {stats['competitive_routes']} routes ({pct_competitive}%)\"\n",
    "    )\n",
    ")"
   ]
  },
  {
   "cell_type": "code",
   "execution_count": 9,
   "id": "f9d6ab58-f0ee-460c-b6de-657490e1f386",
   "metadata": {
    "execution": {
     "iopub.execute_input": "2022-05-09T19:26:41.902730Z",
     "iopub.status.busy": "2022-05-09T19:26:41.902308Z",
     "iopub.status.idle": "2022-05-09T19:26:41.916365Z",
     "shell.execute_reply": "2022-05-09T19:26:41.915221Z"
    },
    "jupyter": {
     "source_hidden": true
    },
    "papermill": {
     "duration": 0.033554,
     "end_time": "2022-05-09T19:26:41.919368",
     "exception": false,
     "start_time": "2022-05-09T19:26:41.885814",
     "status": "completed"
    },
    "tags": [
     "remove_input"
    ]
   },
   "outputs": [],
   "source": [
    "def set_yaxis_range(df, y_col):\n",
    "    Y_MIN = df[y_col].min()\n",
    "    Y_MAX = df[y_col].max()\n",
    "    \n",
    "    return Y_MIN, Y_MAX\n",
    "\n",
    "# Rather than set it according to the operator, which can vary,\n",
    "# just use set thresholds for each group\n",
    "diff_cutoffs = parallel_corridors_utils.diff_cutoffs\n",
    "\n",
    "PCT_TRIPS_BELOW_CUTOFF = 0.25\n",
    "\n",
    "def top15_routes(df, route_group):\n",
    "    df2 = (df[df.route_group==route_group])\n",
    "    # Set a cut-off to enable sorting, where most of the trips are \n",
    "    # below a certain time difference cut-off, \n",
    "    # grab top 15 routes where majority of trips are below that cut-off \n",
    "\n",
    "    route_cols = [\"calitp_itp_id\", \"route_id\"]\n",
    "\n",
    "    df2 = df2.assign(\n",
    "        below_cutoff = df2.apply(lambda x: 1 if x.bus_difference <= diff_cutoffs[route_group] \n",
    "                                 else 0, axis=1),\n",
    "        num_trips = df2.groupby(route_cols)[\"trip_id\"].transform(\"count\")\n",
    "    )\n",
    "\n",
    "    df2[\"below_cutoff\"] = df2.groupby(route_cols)[\"below_cutoff\"].transform(\"sum\")\n",
    "    df2[\"pct_below_cutoff\"] = df2.below_cutoff.divide(df2.num_trips)\n",
    "\n",
    "    # At least half the trips are below that cut-off\n",
    "    # but show 15 max, otherwise, show less, since these won't be as interesting to operators\n",
    "    df3 = (df2[df2.pct_below_cutoff >= PCT_TRIPS_BELOW_CUTOFF]\n",
    "           .sort_values([\"calitp_itp_id\", \"below_cutoff\", \n",
    "                         \"pct_below_cutoff\", \"route_id\"],\n",
    "                        ascending = [True, False, False, True]\n",
    "                       )\n",
    "           .drop_duplicates(subset=[\"calitp_itp_id\", \"route_id\"])\n",
    "          ).head(15)\n",
    "    \n",
    "    return list(df3.route_id)"
   ]
  },
  {
   "cell_type": "code",
   "execution_count": 10,
   "id": "cf36d559-3349-4144-8086-8ac9ce937a5a",
   "metadata": {
    "execution": {
     "iopub.execute_input": "2022-05-09T19:26:41.956518Z",
     "iopub.status.busy": "2022-05-09T19:26:41.955453Z",
     "iopub.status.idle": "2022-05-09T19:26:41.962387Z",
     "shell.execute_reply": "2022-05-09T19:26:41.961554Z"
    },
    "jupyter": {
     "source_hidden": true
    },
    "papermill": {
     "duration": 0.028244,
     "end_time": "2022-05-09T19:26:41.964641",
     "exception": false,
     "start_time": "2022-05-09T19:26:41.936397",
     "status": "completed"
    },
    "tags": [
     "remove_input"
    ]
   },
   "outputs": [],
   "source": [
    "def caption_with_cutoff(cutoff):\n",
    "    sentence = (\n",
    "        f\"<br>These are routes that have **at least {int(PCT_TRIPS_BELOW_CUTOFF*100)}% \"\n",
    "        \"of their trips take no more than an \"\n",
    "        f\"additional {cutoff} min** compared to a car \"\n",
    "        \"(up to 15 routes) are shown.\"\n",
    "        \"<br>Within each route group, routes are sorted in descending order \"\n",
    "        \"by % competitive trips and # trips below the additional time cut-off.\"\n",
    "    )\n",
    "    return sentence\n",
    "\n",
    "CAPTIONS_DICT = {\n",
    "    \"short\": caption_with_cutoff(diff_cutoffs['short']),\n",
    "    \"medium\": caption_with_cutoff(diff_cutoffs['medium']),\n",
    "    \"long\": caption_with_cutoff(diff_cutoffs['long']),\n",
    "}"
   ]
  },
  {
   "cell_type": "code",
   "execution_count": 11,
   "id": "e4306d58-6944-47e9-afef-5d5b524c751f",
   "metadata": {
    "execution": {
     "iopub.execute_input": "2022-05-09T19:26:41.996925Z",
     "iopub.status.busy": "2022-05-09T19:26:41.996010Z",
     "iopub.status.idle": "2022-05-09T19:26:42.011663Z",
     "shell.execute_reply": "2022-05-09T19:26:42.010702Z"
    },
    "jupyter": {
     "source_hidden": true
    },
    "papermill": {
     "duration": 0.034065,
     "end_time": "2022-05-09T19:26:42.014318",
     "exception": false,
     "start_time": "2022-05-09T19:26:41.980253",
     "status": "completed"
    },
    "tags": [
     "remove_input"
    ]
   },
   "outputs": [],
   "source": [
    "def setup_charts(df, PCT_COMPETITIVE_THRESHOLD, route_group):\n",
    "    # Set up df for charting (cut-off at some threshold to show most competitive routes)\n",
    "    plot_me = (df[df.pct_trips_competitive > PCT_COMPETITIVE_THRESHOLD]\n",
    "           .drop(columns = \"geometry\")\n",
    "    )\n",
    "    \n",
    "    y_col1 = \"bus_multiplier\"\n",
    "    Y_MIN1, Y_MAX1 = set_yaxis_range(plot_me, y_col1)\n",
    "\n",
    "    y_col2 = \"bus_difference\"\n",
    "    Y_MIN2, Y_MAX2 = set_yaxis_range(plot_me, y_col2)\n",
    "     \n",
    "    subset_routes = top15_routes(plot_me, route_group)\n",
    "    \n",
    "    multiplier_chart = parallel_corridors_utils.make_stripplot(\n",
    "        plot_me[plot_me.route_id.isin(subset_routes)], \n",
    "        y_col1, Y_MIN = Y_MIN1, Y_MAX = Y_MAX1\n",
    "    )\n",
    "    \n",
    "    difference_chart = parallel_corridors_utils.make_stripplot(\n",
    "        plot_me[plot_me.route_id.isin(subset_routes)], \n",
    "        y_col2, Y_MIN = Y_MIN2, Y_MAX = Y_MAX2\n",
    "    )\n",
    "    \n",
    "    return subset_routes, multiplier_chart, difference_chart            "
   ]
  },
  {
   "cell_type": "code",
   "execution_count": 12,
   "id": "33a710e8-504c-4942-aa75-ff69f216956e",
   "metadata": {
    "execution": {
     "iopub.execute_input": "2022-05-09T19:26:42.044998Z",
     "iopub.status.busy": "2022-05-09T19:26:42.044017Z",
     "iopub.status.idle": "2022-05-09T19:26:42.050585Z",
     "shell.execute_reply": "2022-05-09T19:26:42.049865Z"
    },
    "jupyter": {
     "source_hidden": true
    },
    "papermill": {
     "duration": 0.024282,
     "end_time": "2022-05-09T19:26:42.052559",
     "exception": false,
     "start_time": "2022-05-09T19:26:42.028277",
     "status": "completed"
    },
    "tags": [
     "remove_input"
    ]
   },
   "outputs": [],
   "source": [
    "def display_charts_for_route_group(df, route_group):    \n",
    "    subset_routes, mult, diff  = setup_charts(df, PCT_COMPETITIVE_THRESHOLD, route_group)\n",
    "\n",
    "    if len(subset_routes) > 0:\n",
    "        display(Markdown(f\"{CAPTIONS_DICT[route_group]}\"))\n",
    "\n",
    "        display(mult)\n",
    "        display(diff)"
   ]
  },
  {
   "cell_type": "markdown",
   "id": "525f9b38-072b-46d1-96a8-1aa4b038357c",
   "metadata": {
    "papermill": {
     "duration": 0.016459,
     "end_time": "2022-05-09T19:26:42.081694",
     "exception": false,
     "start_time": "2022-05-09T19:26:42.065235",
     "status": "completed"
    },
    "tags": []
   },
   "source": [
    "## Viable Competitive Routes\n",
    "### Short Routes (< 1 hr)"
   ]
  },
  {
   "cell_type": "code",
   "execution_count": 13,
   "id": "57f7084c-2cf7-45c6-ba08-1609e0bd6ca5",
   "metadata": {
    "execution": {
     "iopub.execute_input": "2022-05-09T19:26:42.117128Z",
     "iopub.status.busy": "2022-05-09T19:26:42.116846Z",
     "iopub.status.idle": "2022-05-09T19:26:42.379587Z",
     "shell.execute_reply": "2022-05-09T19:26:42.378609Z"
    },
    "jupyter": {
     "source_hidden": true
    },
    "papermill": {
     "duration": 0.284806,
     "end_time": "2022-05-09T19:26:42.382298",
     "exception": false,
     "start_time": "2022-05-09T19:26:42.097492",
     "status": "completed"
    },
    "tags": [
     "remove_input"
    ]
   },
   "outputs": [
    {
     "data": {
      "text/markdown": [
       "<br>These are routes that have **at least 25% of their trips take no more than an additional 20 min** compared to a car (up to 15 routes) are shown.<br>Within each route group, routes are sorted in descending order by % competitive trips and # trips below the additional time cut-off."
      ],
      "text/plain": [
       "<IPython.core.display.Markdown object>"
      ]
     },
     "metadata": {},
     "output_type": "display_data"
    },
    {
     "data": {
      "text/html": [
       "\n",
       "<div id=\"altair-viz-8b49fd650010408fac0a4f9ec67acba0\"></div>\n",
       "<script type=\"text/javascript\">\n",
       "  var VEGA_DEBUG = (typeof VEGA_DEBUG == \"undefined\") ? {} : VEGA_DEBUG;\n",
       "  (function(spec, embedOpt){\n",
       "    let outputDiv = document.currentScript.previousElementSibling;\n",
       "    if (outputDiv.id !== \"altair-viz-8b49fd650010408fac0a4f9ec67acba0\") {\n",
       "      outputDiv = document.getElementById(\"altair-viz-8b49fd650010408fac0a4f9ec67acba0\");\n",
       "    }\n",
       "    const paths = {\n",
       "      \"vega\": \"https://cdn.jsdelivr.net/npm//vega@5?noext\",\n",
       "      \"vega-lib\": \"https://cdn.jsdelivr.net/npm//vega-lib?noext\",\n",
       "      \"vega-lite\": \"https://cdn.jsdelivr.net/npm//vega-lite@4.17.0?noext\",\n",
       "      \"vega-embed\": \"https://cdn.jsdelivr.net/npm//vega-embed@6?noext\",\n",
       "    };\n",
       "\n",
       "    function maybeLoadScript(lib, version) {\n",
       "      var key = `${lib.replace(\"-\", \"\")}_version`;\n",
       "      return (VEGA_DEBUG[key] == version) ?\n",
       "        Promise.resolve(paths[lib]) :\n",
       "        new Promise(function(resolve, reject) {\n",
       "          var s = document.createElement('script');\n",
       "          document.getElementsByTagName(\"head\")[0].appendChild(s);\n",
       "          s.async = true;\n",
       "          s.onload = () => {\n",
       "            VEGA_DEBUG[key] = version;\n",
       "            return resolve(paths[lib]);\n",
       "          };\n",
       "          s.onerror = () => reject(`Error loading script: ${paths[lib]}`);\n",
       "          s.src = paths[lib];\n",
       "        });\n",
       "    }\n",
       "\n",
       "    function showError(err) {\n",
       "      outputDiv.innerHTML = `<div class=\"error\" style=\"color:red;\">${err}</div>`;\n",
       "      throw err;\n",
       "    }\n",
       "\n",
       "    function displayChart(vegaEmbed) {\n",
       "      vegaEmbed(outputDiv, spec, embedOpt)\n",
       "        .catch(err => showError(`Javascript Error: ${err.message}<br>This usually means there's a typo in your chart specification. See the javascript console for the full traceback.`));\n",
       "    }\n",
       "\n",
       "    if(typeof define === \"function\" && define.amd) {\n",
       "      requirejs.config({paths});\n",
       "      require([\"vega-embed\"], displayChart, err => showError(`Error loading script: ${err.message}`));\n",
       "    } else {\n",
       "      maybeLoadScript(\"vega\", \"5\")\n",
       "        .then(() => maybeLoadScript(\"vega-lite\", \"4.17.0\"))\n",
       "        .then(() => maybeLoadScript(\"vega-embed\", \"6\"))\n",
       "        .catch(showError)\n",
       "        .then(() => displayChart(vegaEmbed));\n",
       "    }\n",
       "  })({\"config\": {\"view\": {\"continuousWidth\": 400, \"continuousHeight\": 300, \"stroke\": null}, \"facet\": {\"spacing\": 0}}, \"data\": {\"name\": \"data-55fed4d0567e156bb4c2fb40765a9f75\"}, \"facet\": {\"column\": {\"field\": \"route_id\", \"sort\": [\"15\"], \"title\": \"Route ID\", \"type\": \"nominal\"}}, \"spec\": {\"layer\": [{\"mark\": \"rule\", \"encoding\": {\"color\": {\"value\": \"black\"}, \"y\": {\"field\": \"cutoff\", \"type\": \"quantitative\"}}, \"selection\": {\"selector001\": {\"type\": \"interval\", \"bind\": \"scales\", \"encodings\": [\"x\", \"y\"]}}}, {\"mark\": {\"type\": \"point\", \"opacity\": 0.65, \"size\": 12, \"strokeWidth\": 1.1}, \"encoding\": {\"color\": {\"field\": \"time_of_day\", \"scale\": {\"range\": [\"#136C97\", \"#E16B26\", \"#F6BF16\", \"#00896B\", \"#7790A3\", \"#5B559C\"]}, \"sort\": [\"AM Peak\", \"Midday\", \"PM Peak\", \"Owl Service\"], \"title\": \"Time of Day\", \"type\": \"nominal\"}, \"tooltip\": [{\"field\": \"route_id\", \"type\": \"nominal\"}, {\"field\": \"trip_id\", \"type\": \"nominal\"}, {\"field\": \"service_hours\", \"type\": \"quantitative\"}, {\"field\": \"car_duration_hours\", \"type\": \"quantitative\"}, {\"field\": \"bus_multiplier\", \"type\": \"quantitative\"}, {\"field\": \"bus_difference\", \"type\": \"quantitative\"}, {\"field\": \"num_trips\", \"type\": \"quantitative\"}, {\"field\": \"num_competitive\", \"type\": \"quantitative\"}, {\"field\": \"pct_trips_competitive\", \"type\": \"quantitative\"}, {\"field\": \"p25\", \"type\": \"quantitative\"}, {\"field\": \"p50\", \"type\": \"quantitative\"}, {\"field\": \"p75\", \"type\": \"quantitative\"}], \"x\": {\"axis\": {\"grid\": false, \"labels\": false, \"ticks\": true, \"values\": [0]}, \"field\": \"jitter\", \"scale\": {}, \"title\": null, \"type\": \"quantitative\"}, \"y\": {\"field\": \"bus_multiplier\", \"scale\": {\"domain\": [-0.25, 2.5]}, \"title\": \"Ratio of Bus to Car Travel Time\", \"type\": \"quantitative\"}}, \"transform\": [{\"calculate\": \"sqrt(-2*log(random()))*cos(2*PI*random())\", \"as\": \"jitter\"}], \"width\": 50}, {\"layer\": [{\"mark\": {\"type\": \"point\", \"opacity\": 0.6, \"size\": 20, \"strokeWidth\": 1.3}, \"encoding\": {\"color\": {\"value\": \"#323434\"}, \"y\": {\"field\": \"bus_multiplier\", \"type\": \"quantitative\"}}, \"transform\": [{\"filter\": \"(datum.p50_trip === 1)\"}]}, {\"mark\": {\"type\": \"text\", \"align\": \"center\", \"baseline\": \"middle\"}, \"encoding\": {\"color\": {\"value\": \"black\"}, \"text\": {\"field\": \"pct_trips_competitive\", \"format\": \".0%\", \"type\": \"quantitative\"}, \"tooltip\": [{\"field\": \"route_id\", \"type\": \"nominal\"}, {\"field\": \"trip_id\", \"type\": \"nominal\"}, {\"field\": \"service_hours\", \"type\": \"quantitative\"}, {\"field\": \"car_duration_hours\", \"type\": \"quantitative\"}, {\"field\": \"bus_multiplier\", \"type\": \"quantitative\"}, {\"field\": \"bus_difference\", \"type\": \"quantitative\"}, {\"field\": \"num_trips\", \"type\": \"quantitative\"}, {\"field\": \"num_competitive\", \"type\": \"quantitative\"}, {\"field\": \"pct_trips_competitive\", \"type\": \"quantitative\"}, {\"field\": \"p25\", \"type\": \"quantitative\"}, {\"field\": \"p50\", \"type\": \"quantitative\"}, {\"field\": \"p75\", \"type\": \"quantitative\"}], \"x\": {\"value\": 30}, \"y\": {\"value\": 15}}, \"transform\": [{\"calculate\": \"sqrt(-2*log(random()))*cos(2*PI*random())\", \"as\": \"jitter\"}, {\"filter\": \"(datum.fastest_trip === 1)\"}]}]}]}, \"resolve\": {\"scale\": {\"y\": \"shared\"}}, \"title\": \"Ratio of Bus to Car Travel Time\", \"$schema\": \"https://vega.github.io/schema/vega-lite/v4.17.0.json\", \"datasets\": {\"data-55fed4d0567e156bb4c2fb40765a9f75\": [{\"calitp_itp_id\": 18, \"trip_key\": -5436938365814923698, \"trip_id\": \"t_2006242_b_33489_tn_6\", \"shape_id\": \"p_547\", \"route_id\": \"15\", \"service_hours\": 0.85, \"trip_first_departure_ts\": 43500, \"trip_last_arrival_ts\": 46560, \"departure_hour\": 12, \"time_of_day\": \"Midday\", \"p25\": 0.85, \"p50\": 0.85, \"p75\": 0.85, \"p50_trip\": 1, \"fastest_trip\": 0, \"car_duration_hours\": 0.76, \"competitive_route\": 1, \"bus_multiplier\": 1.12, \"bus_difference\": 5.4, \"num_trips\": 12, \"num_competitive\": 12, \"pct_trips_competitive\": 1.0, \"bus_difference_spread\": 0.0, \"route_group\": \"short\", \"max_trip_hrs\": 0.85, \"max_trip_route_group\": 1.0, \"name\": \"City of Arcata\", \"caltrans_district\": \"01 - Eureka\", \"drmt_organization_name\": null, \"cutoff2\": 20, \"cutoff\": 2}, {\"calitp_itp_id\": 18, \"trip_key\": 404006655917161649, \"trip_id\": \"t_2006242_b_33489_tn_1\", \"shape_id\": \"p_547\", \"route_id\": \"15\", \"service_hours\": 0.85, \"trip_first_departure_ts\": 25500, \"trip_last_arrival_ts\": 28560, \"departure_hour\": 7, \"time_of_day\": \"AM Peak\", \"p25\": 0.85, \"p50\": 0.85, \"p75\": 0.85, \"p50_trip\": 1, \"fastest_trip\": 0, \"car_duration_hours\": 0.76, \"competitive_route\": 1, \"bus_multiplier\": 1.12, \"bus_difference\": 5.4, \"num_trips\": 12, \"num_competitive\": 12, \"pct_trips_competitive\": 1.0, \"bus_difference_spread\": 0.0, \"route_group\": \"short\", \"max_trip_hrs\": 0.85, \"max_trip_route_group\": 1.0, \"name\": \"City of Arcata\", \"caltrans_district\": \"01 - Eureka\", \"drmt_organization_name\": null, \"cutoff2\": 20, \"cutoff\": 2}, {\"calitp_itp_id\": 18, \"trip_key\": 3838713829896743776, \"trip_id\": \"t_2006242_b_33489_tn_7\", \"shape_id\": \"p_547\", \"route_id\": \"15\", \"service_hours\": 0.85, \"trip_first_departure_ts\": 47100, \"trip_last_arrival_ts\": 50160, \"departure_hour\": 13, \"time_of_day\": \"Midday\", \"p25\": 0.85, \"p50\": 0.85, \"p75\": 0.85, \"p50_trip\": 1, \"fastest_trip\": 0, \"car_duration_hours\": 0.76, \"competitive_route\": 1, \"bus_multiplier\": 1.12, \"bus_difference\": 5.4, \"num_trips\": 12, \"num_competitive\": 12, \"pct_trips_competitive\": 1.0, \"bus_difference_spread\": 0.0, \"route_group\": \"short\", \"max_trip_hrs\": 0.85, \"max_trip_route_group\": 1.0, \"name\": \"City of Arcata\", \"caltrans_district\": \"01 - Eureka\", \"drmt_organization_name\": null, \"cutoff2\": 20, \"cutoff\": 2}, {\"calitp_itp_id\": 18, \"trip_key\": 5852189434723185967, \"trip_id\": \"t_2006242_b_33489_tn_11\", \"shape_id\": \"p_547\", \"route_id\": \"15\", \"service_hours\": 0.85, \"trip_first_departure_ts\": 61500, \"trip_last_arrival_ts\": 64560, \"departure_hour\": 17, \"time_of_day\": \"PM Peak\", \"p25\": 0.85, \"p50\": 0.85, \"p75\": 0.85, \"p50_trip\": 1, \"fastest_trip\": 0, \"car_duration_hours\": 0.76, \"competitive_route\": 1, \"bus_multiplier\": 1.12, \"bus_difference\": 5.4, \"num_trips\": 12, \"num_competitive\": 12, \"pct_trips_competitive\": 1.0, \"bus_difference_spread\": 0.0, \"route_group\": \"short\", \"max_trip_hrs\": 0.85, \"max_trip_route_group\": 1.0, \"name\": \"City of Arcata\", \"caltrans_district\": \"01 - Eureka\", \"drmt_organization_name\": null, \"cutoff2\": 20, \"cutoff\": 2}, {\"calitp_itp_id\": 18, \"trip_key\": 190677304125161480, \"trip_id\": \"t_2006242_b_33489_tn_9\", \"shape_id\": \"p_547\", \"route_id\": \"15\", \"service_hours\": 0.85, \"trip_first_departure_ts\": 54300, \"trip_last_arrival_ts\": 57360, \"departure_hour\": 15, \"time_of_day\": \"Midday\", \"p25\": 0.85, \"p50\": 0.85, \"p75\": 0.85, \"p50_trip\": 1, \"fastest_trip\": 0, \"car_duration_hours\": 0.76, \"competitive_route\": 1, \"bus_multiplier\": 1.12, \"bus_difference\": 5.4, \"num_trips\": 12, \"num_competitive\": 12, \"pct_trips_competitive\": 1.0, \"bus_difference_spread\": 0.0, \"route_group\": \"short\", \"max_trip_hrs\": 0.85, \"max_trip_route_group\": 1.0, \"name\": \"City of Arcata\", \"caltrans_district\": \"01 - Eureka\", \"drmt_organization_name\": null, \"cutoff2\": 20, \"cutoff\": 2}, {\"calitp_itp_id\": 18, \"trip_key\": -7400415191668544971, \"trip_id\": \"t_2006242_b_33489_tn_3\", \"shape_id\": \"p_547\", \"route_id\": \"15\", \"service_hours\": 0.85, \"trip_first_departure_ts\": 32700, \"trip_last_arrival_ts\": 35760, \"departure_hour\": 9, \"time_of_day\": \"AM Peak\", \"p25\": 0.85, \"p50\": 0.85, \"p75\": 0.85, \"p50_trip\": 1, \"fastest_trip\": 0, \"car_duration_hours\": 0.76, \"competitive_route\": 1, \"bus_multiplier\": 1.12, \"bus_difference\": 5.4, \"num_trips\": 12, \"num_competitive\": 12, \"pct_trips_competitive\": 1.0, \"bus_difference_spread\": 0.0, \"route_group\": \"short\", \"max_trip_hrs\": 0.85, \"max_trip_route_group\": 1.0, \"name\": \"City of Arcata\", \"caltrans_district\": \"01 - Eureka\", \"drmt_organization_name\": null, \"cutoff2\": 20, \"cutoff\": 2}, {\"calitp_itp_id\": 18, \"trip_key\": 4570064470829873616, \"trip_id\": \"t_2006242_b_33489_tn_4\", \"shape_id\": \"p_547\", \"route_id\": \"15\", \"service_hours\": 0.85, \"trip_first_departure_ts\": 36300, \"trip_last_arrival_ts\": 39360, \"departure_hour\": 10, \"time_of_day\": \"Midday\", \"p25\": 0.85, \"p50\": 0.85, \"p75\": 0.85, \"p50_trip\": 1, \"fastest_trip\": 0, \"car_duration_hours\": 0.76, \"competitive_route\": 1, \"bus_multiplier\": 1.12, \"bus_difference\": 5.4, \"num_trips\": 12, \"num_competitive\": 12, \"pct_trips_competitive\": 1.0, \"bus_difference_spread\": 0.0, \"route_group\": \"short\", \"max_trip_hrs\": 0.85, \"max_trip_route_group\": 1.0, \"name\": \"City of Arcata\", \"caltrans_district\": \"01 - Eureka\", \"drmt_organization_name\": null, \"cutoff2\": 20, \"cutoff\": 2}, {\"calitp_itp_id\": 18, \"trip_key\": 7464560494582855532, \"trip_id\": \"t_2006242_b_33489_tn_8\", \"shape_id\": \"p_547\", \"route_id\": \"15\", \"service_hours\": 0.85, \"trip_first_departure_ts\": 50700, \"trip_last_arrival_ts\": 53760, \"departure_hour\": 14, \"time_of_day\": \"Midday\", \"p25\": 0.85, \"p50\": 0.85, \"p75\": 0.85, \"p50_trip\": 1, \"fastest_trip\": 0, \"car_duration_hours\": 0.76, \"competitive_route\": 1, \"bus_multiplier\": 1.12, \"bus_difference\": 5.4, \"num_trips\": 12, \"num_competitive\": 12, \"pct_trips_competitive\": 1.0, \"bus_difference_spread\": 0.0, \"route_group\": \"short\", \"max_trip_hrs\": 0.85, \"max_trip_route_group\": 1.0, \"name\": \"City of Arcata\", \"caltrans_district\": \"01 - Eureka\", \"drmt_organization_name\": null, \"cutoff2\": 20, \"cutoff\": 2}, {\"calitp_itp_id\": 18, \"trip_key\": 3526751979573908953, \"trip_id\": \"t_2006242_b_33489_tn_12\", \"shape_id\": \"p_547\", \"route_id\": \"15\", \"service_hours\": 0.85, \"trip_first_departure_ts\": 65100, \"trip_last_arrival_ts\": 68160, \"departure_hour\": 18, \"time_of_day\": \"PM Peak\", \"p25\": 0.85, \"p50\": 0.85, \"p75\": 0.85, \"p50_trip\": 1, \"fastest_trip\": 1, \"car_duration_hours\": 0.76, \"competitive_route\": 1, \"bus_multiplier\": 1.12, \"bus_difference\": 5.4, \"num_trips\": 12, \"num_competitive\": 12, \"pct_trips_competitive\": 1.0, \"bus_difference_spread\": 0.0, \"route_group\": \"short\", \"max_trip_hrs\": 0.85, \"max_trip_route_group\": 1.0, \"name\": \"City of Arcata\", \"caltrans_district\": \"01 - Eureka\", \"drmt_organization_name\": null, \"cutoff2\": 20, \"cutoff\": 2}, {\"calitp_itp_id\": 18, \"trip_key\": 6685741522618238220, \"trip_id\": \"t_2006242_b_33489_tn_10\", \"shape_id\": \"p_547\", \"route_id\": \"15\", \"service_hours\": 0.85, \"trip_first_departure_ts\": 57900, \"trip_last_arrival_ts\": 60960, \"departure_hour\": 16, \"time_of_day\": \"Midday\", \"p25\": 0.85, \"p50\": 0.85, \"p75\": 0.85, \"p50_trip\": 1, \"fastest_trip\": 0, \"car_duration_hours\": 0.76, \"competitive_route\": 1, \"bus_multiplier\": 1.12, \"bus_difference\": 5.4, \"num_trips\": 12, \"num_competitive\": 12, \"pct_trips_competitive\": 1.0, \"bus_difference_spread\": 0.0, \"route_group\": \"short\", \"max_trip_hrs\": 0.85, \"max_trip_route_group\": 1.0, \"name\": \"City of Arcata\", \"caltrans_district\": \"01 - Eureka\", \"drmt_organization_name\": null, \"cutoff2\": 20, \"cutoff\": 2}, {\"calitp_itp_id\": 18, \"trip_key\": -7258012511275984410, \"trip_id\": \"t_2006242_b_33489_tn_5\", \"shape_id\": \"p_547\", \"route_id\": \"15\", \"service_hours\": 0.85, \"trip_first_departure_ts\": 39900, \"trip_last_arrival_ts\": 42960, \"departure_hour\": 11, \"time_of_day\": \"Midday\", \"p25\": 0.85, \"p50\": 0.85, \"p75\": 0.85, \"p50_trip\": 1, \"fastest_trip\": 0, \"car_duration_hours\": 0.76, \"competitive_route\": 1, \"bus_multiplier\": 1.12, \"bus_difference\": 5.4, \"num_trips\": 12, \"num_competitive\": 12, \"pct_trips_competitive\": 1.0, \"bus_difference_spread\": 0.0, \"route_group\": \"short\", \"max_trip_hrs\": 0.85, \"max_trip_route_group\": 1.0, \"name\": \"City of Arcata\", \"caltrans_district\": \"01 - Eureka\", \"drmt_organization_name\": null, \"cutoff2\": 20, \"cutoff\": 2}, {\"calitp_itp_id\": 18, \"trip_key\": -1825409973487117613, \"trip_id\": \"t_2006242_b_33489_tn_2\", \"shape_id\": \"p_547\", \"route_id\": \"15\", \"service_hours\": 0.85, \"trip_first_departure_ts\": 29100, \"trip_last_arrival_ts\": 32160, \"departure_hour\": 8, \"time_of_day\": \"AM Peak\", \"p25\": 0.85, \"p50\": 0.85, \"p75\": 0.85, \"p50_trip\": 1, \"fastest_trip\": 0, \"car_duration_hours\": 0.76, \"competitive_route\": 1, \"bus_multiplier\": 1.12, \"bus_difference\": 5.4, \"num_trips\": 12, \"num_competitive\": 12, \"pct_trips_competitive\": 1.0, \"bus_difference_spread\": 0.0, \"route_group\": \"short\", \"max_trip_hrs\": 0.85, \"max_trip_route_group\": 1.0, \"name\": \"City of Arcata\", \"caltrans_district\": \"01 - Eureka\", \"drmt_organization_name\": null, \"cutoff2\": 20, \"cutoff\": 2}]}}, {\"mode\": \"vega-lite\"});\n",
       "</script>"
      ],
      "text/plain": [
       "alt.FacetChart(...)"
      ]
     },
     "metadata": {},
     "output_type": "display_data"
    },
    {
     "data": {
      "text/html": [
       "\n",
       "<div id=\"altair-viz-9e7c0b81bfcf4d5babf01685962b8ddb\"></div>\n",
       "<script type=\"text/javascript\">\n",
       "  var VEGA_DEBUG = (typeof VEGA_DEBUG == \"undefined\") ? {} : VEGA_DEBUG;\n",
       "  (function(spec, embedOpt){\n",
       "    let outputDiv = document.currentScript.previousElementSibling;\n",
       "    if (outputDiv.id !== \"altair-viz-9e7c0b81bfcf4d5babf01685962b8ddb\") {\n",
       "      outputDiv = document.getElementById(\"altair-viz-9e7c0b81bfcf4d5babf01685962b8ddb\");\n",
       "    }\n",
       "    const paths = {\n",
       "      \"vega\": \"https://cdn.jsdelivr.net/npm//vega@5?noext\",\n",
       "      \"vega-lib\": \"https://cdn.jsdelivr.net/npm//vega-lib?noext\",\n",
       "      \"vega-lite\": \"https://cdn.jsdelivr.net/npm//vega-lite@4.17.0?noext\",\n",
       "      \"vega-embed\": \"https://cdn.jsdelivr.net/npm//vega-embed@6?noext\",\n",
       "    };\n",
       "\n",
       "    function maybeLoadScript(lib, version) {\n",
       "      var key = `${lib.replace(\"-\", \"\")}_version`;\n",
       "      return (VEGA_DEBUG[key] == version) ?\n",
       "        Promise.resolve(paths[lib]) :\n",
       "        new Promise(function(resolve, reject) {\n",
       "          var s = document.createElement('script');\n",
       "          document.getElementsByTagName(\"head\")[0].appendChild(s);\n",
       "          s.async = true;\n",
       "          s.onload = () => {\n",
       "            VEGA_DEBUG[key] = version;\n",
       "            return resolve(paths[lib]);\n",
       "          };\n",
       "          s.onerror = () => reject(`Error loading script: ${paths[lib]}`);\n",
       "          s.src = paths[lib];\n",
       "        });\n",
       "    }\n",
       "\n",
       "    function showError(err) {\n",
       "      outputDiv.innerHTML = `<div class=\"error\" style=\"color:red;\">${err}</div>`;\n",
       "      throw err;\n",
       "    }\n",
       "\n",
       "    function displayChart(vegaEmbed) {\n",
       "      vegaEmbed(outputDiv, spec, embedOpt)\n",
       "        .catch(err => showError(`Javascript Error: ${err.message}<br>This usually means there's a typo in your chart specification. See the javascript console for the full traceback.`));\n",
       "    }\n",
       "\n",
       "    if(typeof define === \"function\" && define.amd) {\n",
       "      requirejs.config({paths});\n",
       "      require([\"vega-embed\"], displayChart, err => showError(`Error loading script: ${err.message}`));\n",
       "    } else {\n",
       "      maybeLoadScript(\"vega\", \"5\")\n",
       "        .then(() => maybeLoadScript(\"vega-lite\", \"4.17.0\"))\n",
       "        .then(() => maybeLoadScript(\"vega-embed\", \"6\"))\n",
       "        .catch(showError)\n",
       "        .then(() => displayChart(vegaEmbed));\n",
       "    }\n",
       "  })({\"config\": {\"view\": {\"continuousWidth\": 400, \"continuousHeight\": 300, \"stroke\": null}, \"facet\": {\"spacing\": 0}}, \"data\": {\"name\": \"data-69d2d23ae2cdf82ce27ab1973a627892\"}, \"facet\": {\"column\": {\"field\": \"route_id\", \"sort\": [\"15\"], \"title\": \"Route ID\", \"type\": \"nominal\"}}, \"spec\": {\"layer\": [{\"mark\": \"rule\", \"encoding\": {\"color\": {\"value\": \"black\"}, \"y\": {\"field\": \"cutoff\", \"type\": \"quantitative\"}}, \"selection\": {\"selector002\": {\"type\": \"interval\", \"bind\": \"scales\", \"encodings\": [\"x\", \"y\"]}}}, {\"mark\": {\"type\": \"rule\", \"strokeDash\": [3, 3]}, \"encoding\": {\"color\": {\"value\": \"#323434\"}, \"y\": {\"field\": \"cutoff2\", \"type\": \"quantitative\"}}}, {\"mark\": {\"type\": \"point\", \"opacity\": 0.65, \"size\": 12, \"strokeWidth\": 1.1}, \"encoding\": {\"color\": {\"field\": \"time_of_day\", \"scale\": {\"range\": [\"#136C97\", \"#E16B26\", \"#F6BF16\", \"#00896B\", \"#7790A3\", \"#5B559C\"]}, \"sort\": [\"AM Peak\", \"Midday\", \"PM Peak\", \"Owl Service\"], \"title\": \"Time of Day\", \"type\": \"nominal\"}, \"tooltip\": [{\"field\": \"route_id\", \"type\": \"nominal\"}, {\"field\": \"trip_id\", \"type\": \"nominal\"}, {\"field\": \"service_hours\", \"type\": \"quantitative\"}, {\"field\": \"car_duration_hours\", \"type\": \"quantitative\"}, {\"field\": \"bus_multiplier\", \"type\": \"quantitative\"}, {\"field\": \"bus_difference\", \"type\": \"quantitative\"}, {\"field\": \"num_trips\", \"type\": \"quantitative\"}, {\"field\": \"num_competitive\", \"type\": \"quantitative\"}, {\"field\": \"pct_trips_competitive\", \"type\": \"quantitative\"}, {\"field\": \"p25\", \"type\": \"quantitative\"}, {\"field\": \"p50\", \"type\": \"quantitative\"}, {\"field\": \"p75\", \"type\": \"quantitative\"}], \"x\": {\"axis\": {\"grid\": false, \"labels\": false, \"ticks\": true, \"values\": [0]}, \"field\": \"jitter\", \"scale\": {}, \"title\": null, \"type\": \"quantitative\"}, \"y\": {\"field\": \"bus_difference\", \"scale\": {\"domain\": [-5, 38.4]}, \"title\": \"Difference in Bus to Car Travel Time (min)\", \"type\": \"quantitative\"}}, \"transform\": [{\"calculate\": \"sqrt(-2*log(random()))*cos(2*PI*random())\", \"as\": \"jitter\"}], \"width\": 50}, {\"layer\": [{\"mark\": {\"type\": \"point\", \"opacity\": 0.6, \"size\": 20, \"strokeWidth\": 1.3}, \"encoding\": {\"color\": {\"value\": \"#323434\"}, \"y\": {\"field\": \"bus_difference\", \"type\": \"quantitative\"}}, \"transform\": [{\"filter\": \"(datum.p50_trip === 1)\"}]}, {\"mark\": {\"type\": \"text\", \"align\": \"center\", \"baseline\": \"middle\"}, \"encoding\": {\"color\": {\"value\": \"black\"}, \"text\": {\"field\": \"pct_trips_competitive\", \"format\": \".0%\", \"type\": \"quantitative\"}, \"tooltip\": [{\"field\": \"route_id\", \"type\": \"nominal\"}, {\"field\": \"trip_id\", \"type\": \"nominal\"}, {\"field\": \"service_hours\", \"type\": \"quantitative\"}, {\"field\": \"car_duration_hours\", \"type\": \"quantitative\"}, {\"field\": \"bus_multiplier\", \"type\": \"quantitative\"}, {\"field\": \"bus_difference\", \"type\": \"quantitative\"}, {\"field\": \"num_trips\", \"type\": \"quantitative\"}, {\"field\": \"num_competitive\", \"type\": \"quantitative\"}, {\"field\": \"pct_trips_competitive\", \"type\": \"quantitative\"}, {\"field\": \"p25\", \"type\": \"quantitative\"}, {\"field\": \"p50\", \"type\": \"quantitative\"}, {\"field\": \"p75\", \"type\": \"quantitative\"}], \"x\": {\"value\": 30}, \"y\": {\"value\": 15}}, \"transform\": [{\"calculate\": \"sqrt(-2*log(random()))*cos(2*PI*random())\", \"as\": \"jitter\"}, {\"filter\": \"(datum.fastest_trip === 1)\"}]}]}]}, \"resolve\": {\"scale\": {\"y\": \"shared\"}}, \"title\": \"Difference in Bus to Car Travel Time (min)\", \"$schema\": \"https://vega.github.io/schema/vega-lite/v4.17.0.json\", \"datasets\": {\"data-69d2d23ae2cdf82ce27ab1973a627892\": [{\"calitp_itp_id\": 18, \"trip_key\": -5436938365814923698, \"trip_id\": \"t_2006242_b_33489_tn_6\", \"shape_id\": \"p_547\", \"route_id\": \"15\", \"service_hours\": 0.85, \"trip_first_departure_ts\": 43500, \"trip_last_arrival_ts\": 46560, \"departure_hour\": 12, \"time_of_day\": \"Midday\", \"p25\": 0.85, \"p50\": 0.85, \"p75\": 0.85, \"p50_trip\": 1, \"fastest_trip\": 0, \"car_duration_hours\": 0.76, \"competitive_route\": 1, \"bus_multiplier\": 1.12, \"bus_difference\": 5.4, \"num_trips\": 12, \"num_competitive\": 12, \"pct_trips_competitive\": 1.0, \"bus_difference_spread\": 0.0, \"route_group\": \"short\", \"max_trip_hrs\": 0.85, \"max_trip_route_group\": 1.0, \"name\": \"City of Arcata\", \"caltrans_district\": \"01 - Eureka\", \"drmt_organization_name\": null, \"cutoff2\": 20, \"cutoff\": 0}, {\"calitp_itp_id\": 18, \"trip_key\": 404006655917161649, \"trip_id\": \"t_2006242_b_33489_tn_1\", \"shape_id\": \"p_547\", \"route_id\": \"15\", \"service_hours\": 0.85, \"trip_first_departure_ts\": 25500, \"trip_last_arrival_ts\": 28560, \"departure_hour\": 7, \"time_of_day\": \"AM Peak\", \"p25\": 0.85, \"p50\": 0.85, \"p75\": 0.85, \"p50_trip\": 1, \"fastest_trip\": 0, \"car_duration_hours\": 0.76, \"competitive_route\": 1, \"bus_multiplier\": 1.12, \"bus_difference\": 5.4, \"num_trips\": 12, \"num_competitive\": 12, \"pct_trips_competitive\": 1.0, \"bus_difference_spread\": 0.0, \"route_group\": \"short\", \"max_trip_hrs\": 0.85, \"max_trip_route_group\": 1.0, \"name\": \"City of Arcata\", \"caltrans_district\": \"01 - Eureka\", \"drmt_organization_name\": null, \"cutoff2\": 20, \"cutoff\": 0}, {\"calitp_itp_id\": 18, \"trip_key\": 3838713829896743776, \"trip_id\": \"t_2006242_b_33489_tn_7\", \"shape_id\": \"p_547\", \"route_id\": \"15\", \"service_hours\": 0.85, \"trip_first_departure_ts\": 47100, \"trip_last_arrival_ts\": 50160, \"departure_hour\": 13, \"time_of_day\": \"Midday\", \"p25\": 0.85, \"p50\": 0.85, \"p75\": 0.85, \"p50_trip\": 1, \"fastest_trip\": 0, \"car_duration_hours\": 0.76, \"competitive_route\": 1, \"bus_multiplier\": 1.12, \"bus_difference\": 5.4, \"num_trips\": 12, \"num_competitive\": 12, \"pct_trips_competitive\": 1.0, \"bus_difference_spread\": 0.0, \"route_group\": \"short\", \"max_trip_hrs\": 0.85, \"max_trip_route_group\": 1.0, \"name\": \"City of Arcata\", \"caltrans_district\": \"01 - Eureka\", \"drmt_organization_name\": null, \"cutoff2\": 20, \"cutoff\": 0}, {\"calitp_itp_id\": 18, \"trip_key\": 5852189434723185967, \"trip_id\": \"t_2006242_b_33489_tn_11\", \"shape_id\": \"p_547\", \"route_id\": \"15\", \"service_hours\": 0.85, \"trip_first_departure_ts\": 61500, \"trip_last_arrival_ts\": 64560, \"departure_hour\": 17, \"time_of_day\": \"PM Peak\", \"p25\": 0.85, \"p50\": 0.85, \"p75\": 0.85, \"p50_trip\": 1, \"fastest_trip\": 0, \"car_duration_hours\": 0.76, \"competitive_route\": 1, \"bus_multiplier\": 1.12, \"bus_difference\": 5.4, \"num_trips\": 12, \"num_competitive\": 12, \"pct_trips_competitive\": 1.0, \"bus_difference_spread\": 0.0, \"route_group\": \"short\", \"max_trip_hrs\": 0.85, \"max_trip_route_group\": 1.0, \"name\": \"City of Arcata\", \"caltrans_district\": \"01 - Eureka\", \"drmt_organization_name\": null, \"cutoff2\": 20, \"cutoff\": 0}, {\"calitp_itp_id\": 18, \"trip_key\": 190677304125161480, \"trip_id\": \"t_2006242_b_33489_tn_9\", \"shape_id\": \"p_547\", \"route_id\": \"15\", \"service_hours\": 0.85, \"trip_first_departure_ts\": 54300, \"trip_last_arrival_ts\": 57360, \"departure_hour\": 15, \"time_of_day\": \"Midday\", \"p25\": 0.85, \"p50\": 0.85, \"p75\": 0.85, \"p50_trip\": 1, \"fastest_trip\": 0, \"car_duration_hours\": 0.76, \"competitive_route\": 1, \"bus_multiplier\": 1.12, \"bus_difference\": 5.4, \"num_trips\": 12, \"num_competitive\": 12, \"pct_trips_competitive\": 1.0, \"bus_difference_spread\": 0.0, \"route_group\": \"short\", \"max_trip_hrs\": 0.85, \"max_trip_route_group\": 1.0, \"name\": \"City of Arcata\", \"caltrans_district\": \"01 - Eureka\", \"drmt_organization_name\": null, \"cutoff2\": 20, \"cutoff\": 0}, {\"calitp_itp_id\": 18, \"trip_key\": -7400415191668544971, \"trip_id\": \"t_2006242_b_33489_tn_3\", \"shape_id\": \"p_547\", \"route_id\": \"15\", \"service_hours\": 0.85, \"trip_first_departure_ts\": 32700, \"trip_last_arrival_ts\": 35760, \"departure_hour\": 9, \"time_of_day\": \"AM Peak\", \"p25\": 0.85, \"p50\": 0.85, \"p75\": 0.85, \"p50_trip\": 1, \"fastest_trip\": 0, \"car_duration_hours\": 0.76, \"competitive_route\": 1, \"bus_multiplier\": 1.12, \"bus_difference\": 5.4, \"num_trips\": 12, \"num_competitive\": 12, \"pct_trips_competitive\": 1.0, \"bus_difference_spread\": 0.0, \"route_group\": \"short\", \"max_trip_hrs\": 0.85, \"max_trip_route_group\": 1.0, \"name\": \"City of Arcata\", \"caltrans_district\": \"01 - Eureka\", \"drmt_organization_name\": null, \"cutoff2\": 20, \"cutoff\": 0}, {\"calitp_itp_id\": 18, \"trip_key\": 4570064470829873616, \"trip_id\": \"t_2006242_b_33489_tn_4\", \"shape_id\": \"p_547\", \"route_id\": \"15\", \"service_hours\": 0.85, \"trip_first_departure_ts\": 36300, \"trip_last_arrival_ts\": 39360, \"departure_hour\": 10, \"time_of_day\": \"Midday\", \"p25\": 0.85, \"p50\": 0.85, \"p75\": 0.85, \"p50_trip\": 1, \"fastest_trip\": 0, \"car_duration_hours\": 0.76, \"competitive_route\": 1, \"bus_multiplier\": 1.12, \"bus_difference\": 5.4, \"num_trips\": 12, \"num_competitive\": 12, \"pct_trips_competitive\": 1.0, \"bus_difference_spread\": 0.0, \"route_group\": \"short\", \"max_trip_hrs\": 0.85, \"max_trip_route_group\": 1.0, \"name\": \"City of Arcata\", \"caltrans_district\": \"01 - Eureka\", \"drmt_organization_name\": null, \"cutoff2\": 20, \"cutoff\": 0}, {\"calitp_itp_id\": 18, \"trip_key\": 7464560494582855532, \"trip_id\": \"t_2006242_b_33489_tn_8\", \"shape_id\": \"p_547\", \"route_id\": \"15\", \"service_hours\": 0.85, \"trip_first_departure_ts\": 50700, \"trip_last_arrival_ts\": 53760, \"departure_hour\": 14, \"time_of_day\": \"Midday\", \"p25\": 0.85, \"p50\": 0.85, \"p75\": 0.85, \"p50_trip\": 1, \"fastest_trip\": 0, \"car_duration_hours\": 0.76, \"competitive_route\": 1, \"bus_multiplier\": 1.12, \"bus_difference\": 5.4, \"num_trips\": 12, \"num_competitive\": 12, \"pct_trips_competitive\": 1.0, \"bus_difference_spread\": 0.0, \"route_group\": \"short\", \"max_trip_hrs\": 0.85, \"max_trip_route_group\": 1.0, \"name\": \"City of Arcata\", \"caltrans_district\": \"01 - Eureka\", \"drmt_organization_name\": null, \"cutoff2\": 20, \"cutoff\": 0}, {\"calitp_itp_id\": 18, \"trip_key\": 3526751979573908953, \"trip_id\": \"t_2006242_b_33489_tn_12\", \"shape_id\": \"p_547\", \"route_id\": \"15\", \"service_hours\": 0.85, \"trip_first_departure_ts\": 65100, \"trip_last_arrival_ts\": 68160, \"departure_hour\": 18, \"time_of_day\": \"PM Peak\", \"p25\": 0.85, \"p50\": 0.85, \"p75\": 0.85, \"p50_trip\": 1, \"fastest_trip\": 1, \"car_duration_hours\": 0.76, \"competitive_route\": 1, \"bus_multiplier\": 1.12, \"bus_difference\": 5.4, \"num_trips\": 12, \"num_competitive\": 12, \"pct_trips_competitive\": 1.0, \"bus_difference_spread\": 0.0, \"route_group\": \"short\", \"max_trip_hrs\": 0.85, \"max_trip_route_group\": 1.0, \"name\": \"City of Arcata\", \"caltrans_district\": \"01 - Eureka\", \"drmt_organization_name\": null, \"cutoff2\": 20, \"cutoff\": 0}, {\"calitp_itp_id\": 18, \"trip_key\": 6685741522618238220, \"trip_id\": \"t_2006242_b_33489_tn_10\", \"shape_id\": \"p_547\", \"route_id\": \"15\", \"service_hours\": 0.85, \"trip_first_departure_ts\": 57900, \"trip_last_arrival_ts\": 60960, \"departure_hour\": 16, \"time_of_day\": \"Midday\", \"p25\": 0.85, \"p50\": 0.85, \"p75\": 0.85, \"p50_trip\": 1, \"fastest_trip\": 0, \"car_duration_hours\": 0.76, \"competitive_route\": 1, \"bus_multiplier\": 1.12, \"bus_difference\": 5.4, \"num_trips\": 12, \"num_competitive\": 12, \"pct_trips_competitive\": 1.0, \"bus_difference_spread\": 0.0, \"route_group\": \"short\", \"max_trip_hrs\": 0.85, \"max_trip_route_group\": 1.0, \"name\": \"City of Arcata\", \"caltrans_district\": \"01 - Eureka\", \"drmt_organization_name\": null, \"cutoff2\": 20, \"cutoff\": 0}, {\"calitp_itp_id\": 18, \"trip_key\": -7258012511275984410, \"trip_id\": \"t_2006242_b_33489_tn_5\", \"shape_id\": \"p_547\", \"route_id\": \"15\", \"service_hours\": 0.85, \"trip_first_departure_ts\": 39900, \"trip_last_arrival_ts\": 42960, \"departure_hour\": 11, \"time_of_day\": \"Midday\", \"p25\": 0.85, \"p50\": 0.85, \"p75\": 0.85, \"p50_trip\": 1, \"fastest_trip\": 0, \"car_duration_hours\": 0.76, \"competitive_route\": 1, \"bus_multiplier\": 1.12, \"bus_difference\": 5.4, \"num_trips\": 12, \"num_competitive\": 12, \"pct_trips_competitive\": 1.0, \"bus_difference_spread\": 0.0, \"route_group\": \"short\", \"max_trip_hrs\": 0.85, \"max_trip_route_group\": 1.0, \"name\": \"City of Arcata\", \"caltrans_district\": \"01 - Eureka\", \"drmt_organization_name\": null, \"cutoff2\": 20, \"cutoff\": 0}, {\"calitp_itp_id\": 18, \"trip_key\": -1825409973487117613, \"trip_id\": \"t_2006242_b_33489_tn_2\", \"shape_id\": \"p_547\", \"route_id\": \"15\", \"service_hours\": 0.85, \"trip_first_departure_ts\": 29100, \"trip_last_arrival_ts\": 32160, \"departure_hour\": 8, \"time_of_day\": \"AM Peak\", \"p25\": 0.85, \"p50\": 0.85, \"p75\": 0.85, \"p50_trip\": 1, \"fastest_trip\": 0, \"car_duration_hours\": 0.76, \"competitive_route\": 1, \"bus_multiplier\": 1.12, \"bus_difference\": 5.4, \"num_trips\": 12, \"num_competitive\": 12, \"pct_trips_competitive\": 1.0, \"bus_difference_spread\": 0.0, \"route_group\": \"short\", \"max_trip_hrs\": 0.85, \"max_trip_route_group\": 1.0, \"name\": \"City of Arcata\", \"caltrans_district\": \"01 - Eureka\", \"drmt_organization_name\": null, \"cutoff2\": 20, \"cutoff\": 0}]}}, {\"mode\": \"vega-lite\"});\n",
       "</script>"
      ],
      "text/plain": [
       "alt.FacetChart(...)"
      ]
     },
     "metadata": {},
     "output_type": "display_data"
    }
   ],
   "source": [
    "# Allow for possibility that operator doesn't have routes that fall into certain route_groups\n",
    "# But, jupyterbook will not like markdown with f-string\n",
    "# separate out route_group and put in each cell, and use try/except + if to display...\n",
    "# but all 3 route groups must be displayed. just add sentence about why no routes were returned at the end\n",
    "route_group = \"short\"\n",
    "try:\n",
    "    display_charts_for_route_group(df, route_group)\n",
    "except:\n",
    "    print(\"No routes meet this criteria.\")"
   ]
  },
  {
   "cell_type": "markdown",
   "id": "c2931b6f-034d-4384-9e14-80b925e3b820",
   "metadata": {
    "papermill": {
     "duration": 0.02326,
     "end_time": "2022-05-09T19:26:42.420201",
     "exception": false,
     "start_time": "2022-05-09T19:26:42.396941",
     "status": "completed"
    },
    "tags": []
   },
   "source": [
    "### Medium Routes (1-1.5 hrs)"
   ]
  },
  {
   "cell_type": "code",
   "execution_count": 14,
   "id": "480edddc-4de0-48c2-ae4c-b0ceef8f28b5",
   "metadata": {
    "execution": {
     "iopub.execute_input": "2022-05-09T19:26:42.452671Z",
     "iopub.status.busy": "2022-05-09T19:26:42.451922Z",
     "iopub.status.idle": "2022-05-09T19:26:42.463455Z",
     "shell.execute_reply": "2022-05-09T19:26:42.462506Z"
    },
    "jupyter": {
     "source_hidden": true
    },
    "papermill": {
     "duration": 0.030097,
     "end_time": "2022-05-09T19:26:42.465432",
     "exception": false,
     "start_time": "2022-05-09T19:26:42.435335",
     "status": "completed"
    },
    "tags": [
     "remove_input"
    ]
   },
   "outputs": [
    {
     "name": "stdout",
     "output_type": "stream",
     "text": [
      "No routes meet this criteria.\n"
     ]
    }
   ],
   "source": [
    "route_group = \"medium\"\n",
    "try:\n",
    "    display_charts_for_route_group(df, route_group)\n",
    "except:\n",
    "    print(\"No routes meet this criteria.\")"
   ]
  },
  {
   "cell_type": "markdown",
   "id": "124b76d0-886c-4d03-92ac-f1bda3cda182",
   "metadata": {
    "papermill": {
     "duration": 0.027074,
     "end_time": "2022-05-09T19:26:42.511768",
     "exception": false,
     "start_time": "2022-05-09T19:26:42.484694",
     "status": "completed"
    },
    "tags": []
   },
   "source": [
    "### Long Routes (> 1.5 hrs)"
   ]
  },
  {
   "cell_type": "code",
   "execution_count": 15,
   "id": "ddc81b19-4c45-4c81-8b7a-5e0f394aa7a3",
   "metadata": {
    "execution": {
     "iopub.execute_input": "2022-05-09T19:26:42.545170Z",
     "iopub.status.busy": "2022-05-09T19:26:42.544867Z",
     "iopub.status.idle": "2022-05-09T19:26:42.766936Z",
     "shell.execute_reply": "2022-05-09T19:26:42.766306Z"
    },
    "jupyter": {
     "source_hidden": true
    },
    "papermill": {
     "duration": 0.241243,
     "end_time": "2022-05-09T19:26:42.769050",
     "exception": false,
     "start_time": "2022-05-09T19:26:42.527807",
     "status": "completed"
    },
    "tags": [
     "remove_input"
    ]
   },
   "outputs": [
    {
     "data": {
      "text/markdown": [
       "<br>These are routes that have **at least 25% of their trips take no more than an additional 40 min** compared to a car (up to 15 routes) are shown.<br>Within each route group, routes are sorted in descending order by % competitive trips and # trips below the additional time cut-off."
      ],
      "text/plain": [
       "<IPython.core.display.Markdown object>"
      ]
     },
     "metadata": {},
     "output_type": "display_data"
    },
    {
     "data": {
      "text/html": [
       "\n",
       "<div id=\"altair-viz-c7123a842d2340d9ac5fa971dcc3d1e4\"></div>\n",
       "<script type=\"text/javascript\">\n",
       "  var VEGA_DEBUG = (typeof VEGA_DEBUG == \"undefined\") ? {} : VEGA_DEBUG;\n",
       "  (function(spec, embedOpt){\n",
       "    let outputDiv = document.currentScript.previousElementSibling;\n",
       "    if (outputDiv.id !== \"altair-viz-c7123a842d2340d9ac5fa971dcc3d1e4\") {\n",
       "      outputDiv = document.getElementById(\"altair-viz-c7123a842d2340d9ac5fa971dcc3d1e4\");\n",
       "    }\n",
       "    const paths = {\n",
       "      \"vega\": \"https://cdn.jsdelivr.net/npm//vega@5?noext\",\n",
       "      \"vega-lib\": \"https://cdn.jsdelivr.net/npm//vega-lib?noext\",\n",
       "      \"vega-lite\": \"https://cdn.jsdelivr.net/npm//vega-lite@4.17.0?noext\",\n",
       "      \"vega-embed\": \"https://cdn.jsdelivr.net/npm//vega-embed@6?noext\",\n",
       "    };\n",
       "\n",
       "    function maybeLoadScript(lib, version) {\n",
       "      var key = `${lib.replace(\"-\", \"\")}_version`;\n",
       "      return (VEGA_DEBUG[key] == version) ?\n",
       "        Promise.resolve(paths[lib]) :\n",
       "        new Promise(function(resolve, reject) {\n",
       "          var s = document.createElement('script');\n",
       "          document.getElementsByTagName(\"head\")[0].appendChild(s);\n",
       "          s.async = true;\n",
       "          s.onload = () => {\n",
       "            VEGA_DEBUG[key] = version;\n",
       "            return resolve(paths[lib]);\n",
       "          };\n",
       "          s.onerror = () => reject(`Error loading script: ${paths[lib]}`);\n",
       "          s.src = paths[lib];\n",
       "        });\n",
       "    }\n",
       "\n",
       "    function showError(err) {\n",
       "      outputDiv.innerHTML = `<div class=\"error\" style=\"color:red;\">${err}</div>`;\n",
       "      throw err;\n",
       "    }\n",
       "\n",
       "    function displayChart(vegaEmbed) {\n",
       "      vegaEmbed(outputDiv, spec, embedOpt)\n",
       "        .catch(err => showError(`Javascript Error: ${err.message}<br>This usually means there's a typo in your chart specification. See the javascript console for the full traceback.`));\n",
       "    }\n",
       "\n",
       "    if(typeof define === \"function\" && define.amd) {\n",
       "      requirejs.config({paths});\n",
       "      require([\"vega-embed\"], displayChart, err => showError(`Error loading script: ${err.message}`));\n",
       "    } else {\n",
       "      maybeLoadScript(\"vega\", \"5\")\n",
       "        .then(() => maybeLoadScript(\"vega-lite\", \"4.17.0\"))\n",
       "        .then(() => maybeLoadScript(\"vega-embed\", \"6\"))\n",
       "        .catch(showError)\n",
       "        .then(() => displayChart(vegaEmbed));\n",
       "    }\n",
       "  })({\"config\": {\"view\": {\"continuousWidth\": 400, \"continuousHeight\": 300, \"stroke\": null}, \"facet\": {\"spacing\": 0}}, \"data\": {\"name\": \"data-b4dfb6c183d3375da6cda14b74c69ed5\"}, \"facet\": {\"column\": {\"field\": \"route_id\", \"sort\": [\"822\"], \"title\": \"Route ID\", \"type\": \"nominal\"}}, \"spec\": {\"layer\": [{\"mark\": \"rule\", \"encoding\": {\"color\": {\"value\": \"black\"}, \"y\": {\"field\": \"cutoff\", \"type\": \"quantitative\"}}, \"selection\": {\"selector003\": {\"type\": \"interval\", \"bind\": \"scales\", \"encodings\": [\"x\", \"y\"]}}}, {\"mark\": {\"type\": \"point\", \"opacity\": 0.65, \"size\": 12, \"strokeWidth\": 1.1}, \"encoding\": {\"color\": {\"field\": \"time_of_day\", \"scale\": {\"range\": [\"#136C97\", \"#E16B26\", \"#F6BF16\", \"#00896B\", \"#7790A3\", \"#5B559C\"]}, \"sort\": [\"AM Peak\", \"Midday\", \"PM Peak\", \"Owl Service\"], \"title\": \"Time of Day\", \"type\": \"nominal\"}, \"tooltip\": [{\"field\": \"route_id\", \"type\": \"nominal\"}, {\"field\": \"trip_id\", \"type\": \"nominal\"}, {\"field\": \"service_hours\", \"type\": \"quantitative\"}, {\"field\": \"car_duration_hours\", \"type\": \"quantitative\"}, {\"field\": \"bus_multiplier\", \"type\": \"quantitative\"}, {\"field\": \"bus_difference\", \"type\": \"quantitative\"}, {\"field\": \"num_trips\", \"type\": \"quantitative\"}, {\"field\": \"num_competitive\", \"type\": \"quantitative\"}, {\"field\": \"pct_trips_competitive\", \"type\": \"quantitative\"}, {\"field\": \"p25\", \"type\": \"quantitative\"}, {\"field\": \"p50\", \"type\": \"quantitative\"}, {\"field\": \"p75\", \"type\": \"quantitative\"}], \"x\": {\"axis\": {\"grid\": false, \"labels\": false, \"ticks\": true, \"values\": [0]}, \"field\": \"jitter\", \"scale\": {}, \"title\": null, \"type\": \"quantitative\"}, \"y\": {\"field\": \"bus_multiplier\", \"scale\": {\"domain\": [-0.25, 2.5]}, \"title\": \"Ratio of Bus to Car Travel Time\", \"type\": \"quantitative\"}}, \"transform\": [{\"calculate\": \"sqrt(-2*log(random()))*cos(2*PI*random())\", \"as\": \"jitter\"}], \"width\": 50}, {\"layer\": [{\"mark\": {\"type\": \"point\", \"opacity\": 0.6, \"size\": 20, \"strokeWidth\": 1.3}, \"encoding\": {\"color\": {\"value\": \"#323434\"}, \"y\": {\"field\": \"bus_multiplier\", \"type\": \"quantitative\"}}, \"transform\": [{\"filter\": \"(datum.p50_trip === 1)\"}]}, {\"mark\": {\"type\": \"text\", \"align\": \"center\", \"baseline\": \"middle\"}, \"encoding\": {\"color\": {\"value\": \"black\"}, \"text\": {\"field\": \"pct_trips_competitive\", \"format\": \".0%\", \"type\": \"quantitative\"}, \"tooltip\": [{\"field\": \"route_id\", \"type\": \"nominal\"}, {\"field\": \"trip_id\", \"type\": \"nominal\"}, {\"field\": \"service_hours\", \"type\": \"quantitative\"}, {\"field\": \"car_duration_hours\", \"type\": \"quantitative\"}, {\"field\": \"bus_multiplier\", \"type\": \"quantitative\"}, {\"field\": \"bus_difference\", \"type\": \"quantitative\"}, {\"field\": \"num_trips\", \"type\": \"quantitative\"}, {\"field\": \"num_competitive\", \"type\": \"quantitative\"}, {\"field\": \"pct_trips_competitive\", \"type\": \"quantitative\"}, {\"field\": \"p25\", \"type\": \"quantitative\"}, {\"field\": \"p50\", \"type\": \"quantitative\"}, {\"field\": \"p75\", \"type\": \"quantitative\"}], \"x\": {\"value\": 30}, \"y\": {\"value\": 15}}, \"transform\": [{\"calculate\": \"sqrt(-2*log(random()))*cos(2*PI*random())\", \"as\": \"jitter\"}, {\"filter\": \"(datum.fastest_trip === 1)\"}]}]}]}, \"resolve\": {\"scale\": {\"y\": \"shared\"}}, \"title\": \"Ratio of Bus to Car Travel Time\", \"$schema\": \"https://vega.github.io/schema/vega-lite/v4.17.0.json\", \"datasets\": {\"data-b4dfb6c183d3375da6cda14b74c69ed5\": [{\"calitp_itp_id\": 18, \"trip_key\": 7563492117265159933, \"trip_id\": \"t_1194487_b_23002_tn_0\", \"shape_id\": \"p_179049\", \"route_id\": \"822\", \"service_hours\": 1.83, \"trip_first_departure_ts\": 33300, \"trip_last_arrival_ts\": 39900, \"departure_hour\": 9, \"time_of_day\": \"AM Peak\", \"p25\": 1.92, \"p50\": 1.92, \"p75\": 1.92, \"p50_trip\": 0, \"fastest_trip\": 1, \"car_duration_hours\": 1.36, \"competitive_route\": 1, \"bus_multiplier\": 1.35, \"bus_difference\": 28.2, \"num_trips\": 5, \"num_competitive\": 5, \"pct_trips_competitive\": 1.0, \"bus_difference_spread\": 10.2, \"route_group\": \"long\", \"max_trip_hrs\": 2.0, \"max_trip_route_group\": 2.55, \"name\": \"City of Arcata\", \"caltrans_district\": \"01 - Eureka\", \"drmt_organization_name\": null, \"cutoff2\": 40, \"cutoff\": 2}, {\"calitp_itp_id\": 18, \"trip_key\": 427479303538681056, \"trip_id\": \"t_1194477_b_23002_tn_0\", \"shape_id\": \"p_179043\", \"route_id\": \"822\", \"service_hours\": 1.92, \"trip_first_departure_ts\": 40800, \"trip_last_arrival_ts\": 47700, \"departure_hour\": 11, \"time_of_day\": \"Midday\", \"p25\": 1.92, \"p50\": 1.92, \"p75\": 1.92, \"p50_trip\": 1, \"fastest_trip\": 0, \"car_duration_hours\": 1.36, \"competitive_route\": 1, \"bus_multiplier\": 1.41, \"bus_difference\": 33.6, \"num_trips\": 5, \"num_competitive\": 5, \"pct_trips_competitive\": 1.0, \"bus_difference_spread\": 10.2, \"route_group\": \"long\", \"max_trip_hrs\": 2.0, \"max_trip_route_group\": 2.55, \"name\": \"City of Arcata\", \"caltrans_district\": \"01 - Eureka\", \"drmt_organization_name\": null, \"cutoff2\": 40, \"cutoff\": 2}, {\"calitp_itp_id\": 18, \"trip_key\": -3811852407803093104, \"trip_id\": \"t_1194478_b_23002_tn_0\", \"shape_id\": \"p_179043\", \"route_id\": \"822\", \"service_hours\": 1.92, \"trip_first_departure_ts\": 24360, \"trip_last_arrival_ts\": 31260, \"departure_hour\": 6, \"time_of_day\": \"Owl Service\", \"p25\": 1.92, \"p50\": 1.92, \"p75\": 1.92, \"p50_trip\": 1, \"fastest_trip\": 0, \"car_duration_hours\": 1.36, \"competitive_route\": 1, \"bus_multiplier\": 1.41, \"bus_difference\": 33.6, \"num_trips\": 5, \"num_competitive\": 5, \"pct_trips_competitive\": 1.0, \"bus_difference_spread\": 10.2, \"route_group\": \"long\", \"max_trip_hrs\": 2.0, \"max_trip_route_group\": 2.55, \"name\": \"City of Arcata\", \"caltrans_district\": \"01 - Eureka\", \"drmt_organization_name\": null, \"cutoff2\": 40, \"cutoff\": 2}, {\"calitp_itp_id\": 18, \"trip_key\": 3763792810526765622, \"trip_id\": \"t_1194480_b_23002_tn_0\", \"shape_id\": \"p_179043\", \"route_id\": \"822\", \"service_hours\": 1.92, \"trip_first_departure_ts\": 62400, \"trip_last_arrival_ts\": 69300, \"departure_hour\": 17, \"time_of_day\": \"PM Peak\", \"p25\": 1.92, \"p50\": 1.92, \"p75\": 1.92, \"p50_trip\": 1, \"fastest_trip\": 0, \"car_duration_hours\": 1.36, \"competitive_route\": 1, \"bus_multiplier\": 1.41, \"bus_difference\": 33.6, \"num_trips\": 5, \"num_competitive\": 5, \"pct_trips_competitive\": 1.0, \"bus_difference_spread\": 10.2, \"route_group\": \"long\", \"max_trip_hrs\": 2.0, \"max_trip_route_group\": 2.55, \"name\": \"City of Arcata\", \"caltrans_district\": \"01 - Eureka\", \"drmt_organization_name\": null, \"cutoff2\": 40, \"cutoff\": 2}, {\"calitp_itp_id\": 18, \"trip_key\": -8516162287379217996, \"trip_id\": \"t_1194483_b_23002_tn_0\", \"shape_id\": \"p_179044\", \"route_id\": \"822\", \"service_hours\": 2.0, \"trip_first_departure_ts\": 54300, \"trip_last_arrival_ts\": 61500, \"departure_hour\": 15, \"time_of_day\": \"Midday\", \"p25\": 1.92, \"p50\": 1.92, \"p75\": 1.92, \"p50_trip\": 0, \"fastest_trip\": 0, \"car_duration_hours\": 1.36, \"competitive_route\": 1, \"bus_multiplier\": 1.47, \"bus_difference\": 38.4, \"num_trips\": 5, \"num_competitive\": 5, \"pct_trips_competitive\": 1.0, \"bus_difference_spread\": 10.2, \"route_group\": \"long\", \"max_trip_hrs\": 2.0, \"max_trip_route_group\": 2.55, \"name\": \"City of Arcata\", \"caltrans_district\": \"01 - Eureka\", \"drmt_organization_name\": null, \"cutoff2\": 40, \"cutoff\": 2}]}}, {\"mode\": \"vega-lite\"});\n",
       "</script>"
      ],
      "text/plain": [
       "alt.FacetChart(...)"
      ]
     },
     "metadata": {},
     "output_type": "display_data"
    },
    {
     "data": {
      "text/html": [
       "\n",
       "<div id=\"altair-viz-0515e6fbf0f749ac9af633e6d698e2ef\"></div>\n",
       "<script type=\"text/javascript\">\n",
       "  var VEGA_DEBUG = (typeof VEGA_DEBUG == \"undefined\") ? {} : VEGA_DEBUG;\n",
       "  (function(spec, embedOpt){\n",
       "    let outputDiv = document.currentScript.previousElementSibling;\n",
       "    if (outputDiv.id !== \"altair-viz-0515e6fbf0f749ac9af633e6d698e2ef\") {\n",
       "      outputDiv = document.getElementById(\"altair-viz-0515e6fbf0f749ac9af633e6d698e2ef\");\n",
       "    }\n",
       "    const paths = {\n",
       "      \"vega\": \"https://cdn.jsdelivr.net/npm//vega@5?noext\",\n",
       "      \"vega-lib\": \"https://cdn.jsdelivr.net/npm//vega-lib?noext\",\n",
       "      \"vega-lite\": \"https://cdn.jsdelivr.net/npm//vega-lite@4.17.0?noext\",\n",
       "      \"vega-embed\": \"https://cdn.jsdelivr.net/npm//vega-embed@6?noext\",\n",
       "    };\n",
       "\n",
       "    function maybeLoadScript(lib, version) {\n",
       "      var key = `${lib.replace(\"-\", \"\")}_version`;\n",
       "      return (VEGA_DEBUG[key] == version) ?\n",
       "        Promise.resolve(paths[lib]) :\n",
       "        new Promise(function(resolve, reject) {\n",
       "          var s = document.createElement('script');\n",
       "          document.getElementsByTagName(\"head\")[0].appendChild(s);\n",
       "          s.async = true;\n",
       "          s.onload = () => {\n",
       "            VEGA_DEBUG[key] = version;\n",
       "            return resolve(paths[lib]);\n",
       "          };\n",
       "          s.onerror = () => reject(`Error loading script: ${paths[lib]}`);\n",
       "          s.src = paths[lib];\n",
       "        });\n",
       "    }\n",
       "\n",
       "    function showError(err) {\n",
       "      outputDiv.innerHTML = `<div class=\"error\" style=\"color:red;\">${err}</div>`;\n",
       "      throw err;\n",
       "    }\n",
       "\n",
       "    function displayChart(vegaEmbed) {\n",
       "      vegaEmbed(outputDiv, spec, embedOpt)\n",
       "        .catch(err => showError(`Javascript Error: ${err.message}<br>This usually means there's a typo in your chart specification. See the javascript console for the full traceback.`));\n",
       "    }\n",
       "\n",
       "    if(typeof define === \"function\" && define.amd) {\n",
       "      requirejs.config({paths});\n",
       "      require([\"vega-embed\"], displayChart, err => showError(`Error loading script: ${err.message}`));\n",
       "    } else {\n",
       "      maybeLoadScript(\"vega\", \"5\")\n",
       "        .then(() => maybeLoadScript(\"vega-lite\", \"4.17.0\"))\n",
       "        .then(() => maybeLoadScript(\"vega-embed\", \"6\"))\n",
       "        .catch(showError)\n",
       "        .then(() => displayChart(vegaEmbed));\n",
       "    }\n",
       "  })({\"config\": {\"view\": {\"continuousWidth\": 400, \"continuousHeight\": 300, \"stroke\": null}, \"facet\": {\"spacing\": 0}}, \"data\": {\"name\": \"data-27b49051ad2f5addf1c3b53244d2e24a\"}, \"facet\": {\"column\": {\"field\": \"route_id\", \"sort\": [\"822\"], \"title\": \"Route ID\", \"type\": \"nominal\"}}, \"spec\": {\"layer\": [{\"mark\": \"rule\", \"encoding\": {\"color\": {\"value\": \"black\"}, \"y\": {\"field\": \"cutoff\", \"type\": \"quantitative\"}}, \"selection\": {\"selector004\": {\"type\": \"interval\", \"bind\": \"scales\", \"encodings\": [\"x\", \"y\"]}}}, {\"mark\": {\"type\": \"rule\", \"strokeDash\": [3, 3]}, \"encoding\": {\"color\": {\"value\": \"#323434\"}, \"y\": {\"field\": \"cutoff2\", \"type\": \"quantitative\"}}}, {\"mark\": {\"type\": \"point\", \"opacity\": 0.65, \"size\": 12, \"strokeWidth\": 1.1}, \"encoding\": {\"color\": {\"field\": \"time_of_day\", \"scale\": {\"range\": [\"#136C97\", \"#E16B26\", \"#F6BF16\", \"#00896B\", \"#7790A3\", \"#5B559C\"]}, \"sort\": [\"AM Peak\", \"Midday\", \"PM Peak\", \"Owl Service\"], \"title\": \"Time of Day\", \"type\": \"nominal\"}, \"tooltip\": [{\"field\": \"route_id\", \"type\": \"nominal\"}, {\"field\": \"trip_id\", \"type\": \"nominal\"}, {\"field\": \"service_hours\", \"type\": \"quantitative\"}, {\"field\": \"car_duration_hours\", \"type\": \"quantitative\"}, {\"field\": \"bus_multiplier\", \"type\": \"quantitative\"}, {\"field\": \"bus_difference\", \"type\": \"quantitative\"}, {\"field\": \"num_trips\", \"type\": \"quantitative\"}, {\"field\": \"num_competitive\", \"type\": \"quantitative\"}, {\"field\": \"pct_trips_competitive\", \"type\": \"quantitative\"}, {\"field\": \"p25\", \"type\": \"quantitative\"}, {\"field\": \"p50\", \"type\": \"quantitative\"}, {\"field\": \"p75\", \"type\": \"quantitative\"}], \"x\": {\"axis\": {\"grid\": false, \"labels\": false, \"ticks\": true, \"values\": [0]}, \"field\": \"jitter\", \"scale\": {}, \"title\": null, \"type\": \"quantitative\"}, \"y\": {\"field\": \"bus_difference\", \"scale\": {\"domain\": [-5, 45.0]}, \"title\": \"Difference in Bus to Car Travel Time (min)\", \"type\": \"quantitative\"}}, \"transform\": [{\"calculate\": \"sqrt(-2*log(random()))*cos(2*PI*random())\", \"as\": \"jitter\"}], \"width\": 50}, {\"layer\": [{\"mark\": {\"type\": \"point\", \"opacity\": 0.6, \"size\": 20, \"strokeWidth\": 1.3}, \"encoding\": {\"color\": {\"value\": \"#323434\"}, \"y\": {\"field\": \"bus_difference\", \"type\": \"quantitative\"}}, \"transform\": [{\"filter\": \"(datum.p50_trip === 1)\"}]}, {\"mark\": {\"type\": \"text\", \"align\": \"center\", \"baseline\": \"middle\"}, \"encoding\": {\"color\": {\"value\": \"black\"}, \"text\": {\"field\": \"pct_trips_competitive\", \"format\": \".0%\", \"type\": \"quantitative\"}, \"tooltip\": [{\"field\": \"route_id\", \"type\": \"nominal\"}, {\"field\": \"trip_id\", \"type\": \"nominal\"}, {\"field\": \"service_hours\", \"type\": \"quantitative\"}, {\"field\": \"car_duration_hours\", \"type\": \"quantitative\"}, {\"field\": \"bus_multiplier\", \"type\": \"quantitative\"}, {\"field\": \"bus_difference\", \"type\": \"quantitative\"}, {\"field\": \"num_trips\", \"type\": \"quantitative\"}, {\"field\": \"num_competitive\", \"type\": \"quantitative\"}, {\"field\": \"pct_trips_competitive\", \"type\": \"quantitative\"}, {\"field\": \"p25\", \"type\": \"quantitative\"}, {\"field\": \"p50\", \"type\": \"quantitative\"}, {\"field\": \"p75\", \"type\": \"quantitative\"}], \"x\": {\"value\": 30}, \"y\": {\"value\": 15}}, \"transform\": [{\"calculate\": \"sqrt(-2*log(random()))*cos(2*PI*random())\", \"as\": \"jitter\"}, {\"filter\": \"(datum.fastest_trip === 1)\"}]}]}]}, \"resolve\": {\"scale\": {\"y\": \"shared\"}}, \"title\": \"Difference in Bus to Car Travel Time (min)\", \"$schema\": \"https://vega.github.io/schema/vega-lite/v4.17.0.json\", \"datasets\": {\"data-27b49051ad2f5addf1c3b53244d2e24a\": [{\"calitp_itp_id\": 18, \"trip_key\": 7563492117265159933, \"trip_id\": \"t_1194487_b_23002_tn_0\", \"shape_id\": \"p_179049\", \"route_id\": \"822\", \"service_hours\": 1.83, \"trip_first_departure_ts\": 33300, \"trip_last_arrival_ts\": 39900, \"departure_hour\": 9, \"time_of_day\": \"AM Peak\", \"p25\": 1.92, \"p50\": 1.92, \"p75\": 1.92, \"p50_trip\": 0, \"fastest_trip\": 1, \"car_duration_hours\": 1.36, \"competitive_route\": 1, \"bus_multiplier\": 1.35, \"bus_difference\": 28.2, \"num_trips\": 5, \"num_competitive\": 5, \"pct_trips_competitive\": 1.0, \"bus_difference_spread\": 10.2, \"route_group\": \"long\", \"max_trip_hrs\": 2.0, \"max_trip_route_group\": 2.55, \"name\": \"City of Arcata\", \"caltrans_district\": \"01 - Eureka\", \"drmt_organization_name\": null, \"cutoff2\": 40, \"cutoff\": 0}, {\"calitp_itp_id\": 18, \"trip_key\": 427479303538681056, \"trip_id\": \"t_1194477_b_23002_tn_0\", \"shape_id\": \"p_179043\", \"route_id\": \"822\", \"service_hours\": 1.92, \"trip_first_departure_ts\": 40800, \"trip_last_arrival_ts\": 47700, \"departure_hour\": 11, \"time_of_day\": \"Midday\", \"p25\": 1.92, \"p50\": 1.92, \"p75\": 1.92, \"p50_trip\": 1, \"fastest_trip\": 0, \"car_duration_hours\": 1.36, \"competitive_route\": 1, \"bus_multiplier\": 1.41, \"bus_difference\": 33.6, \"num_trips\": 5, \"num_competitive\": 5, \"pct_trips_competitive\": 1.0, \"bus_difference_spread\": 10.2, \"route_group\": \"long\", \"max_trip_hrs\": 2.0, \"max_trip_route_group\": 2.55, \"name\": \"City of Arcata\", \"caltrans_district\": \"01 - Eureka\", \"drmt_organization_name\": null, \"cutoff2\": 40, \"cutoff\": 0}, {\"calitp_itp_id\": 18, \"trip_key\": -3811852407803093104, \"trip_id\": \"t_1194478_b_23002_tn_0\", \"shape_id\": \"p_179043\", \"route_id\": \"822\", \"service_hours\": 1.92, \"trip_first_departure_ts\": 24360, \"trip_last_arrival_ts\": 31260, \"departure_hour\": 6, \"time_of_day\": \"Owl Service\", \"p25\": 1.92, \"p50\": 1.92, \"p75\": 1.92, \"p50_trip\": 1, \"fastest_trip\": 0, \"car_duration_hours\": 1.36, \"competitive_route\": 1, \"bus_multiplier\": 1.41, \"bus_difference\": 33.6, \"num_trips\": 5, \"num_competitive\": 5, \"pct_trips_competitive\": 1.0, \"bus_difference_spread\": 10.2, \"route_group\": \"long\", \"max_trip_hrs\": 2.0, \"max_trip_route_group\": 2.55, \"name\": \"City of Arcata\", \"caltrans_district\": \"01 - Eureka\", \"drmt_organization_name\": null, \"cutoff2\": 40, \"cutoff\": 0}, {\"calitp_itp_id\": 18, \"trip_key\": 3763792810526765622, \"trip_id\": \"t_1194480_b_23002_tn_0\", \"shape_id\": \"p_179043\", \"route_id\": \"822\", \"service_hours\": 1.92, \"trip_first_departure_ts\": 62400, \"trip_last_arrival_ts\": 69300, \"departure_hour\": 17, \"time_of_day\": \"PM Peak\", \"p25\": 1.92, \"p50\": 1.92, \"p75\": 1.92, \"p50_trip\": 1, \"fastest_trip\": 0, \"car_duration_hours\": 1.36, \"competitive_route\": 1, \"bus_multiplier\": 1.41, \"bus_difference\": 33.6, \"num_trips\": 5, \"num_competitive\": 5, \"pct_trips_competitive\": 1.0, \"bus_difference_spread\": 10.2, \"route_group\": \"long\", \"max_trip_hrs\": 2.0, \"max_trip_route_group\": 2.55, \"name\": \"City of Arcata\", \"caltrans_district\": \"01 - Eureka\", \"drmt_organization_name\": null, \"cutoff2\": 40, \"cutoff\": 0}, {\"calitp_itp_id\": 18, \"trip_key\": -8516162287379217996, \"trip_id\": \"t_1194483_b_23002_tn_0\", \"shape_id\": \"p_179044\", \"route_id\": \"822\", \"service_hours\": 2.0, \"trip_first_departure_ts\": 54300, \"trip_last_arrival_ts\": 61500, \"departure_hour\": 15, \"time_of_day\": \"Midday\", \"p25\": 1.92, \"p50\": 1.92, \"p75\": 1.92, \"p50_trip\": 0, \"fastest_trip\": 0, \"car_duration_hours\": 1.36, \"competitive_route\": 1, \"bus_multiplier\": 1.47, \"bus_difference\": 38.4, \"num_trips\": 5, \"num_competitive\": 5, \"pct_trips_competitive\": 1.0, \"bus_difference_spread\": 10.2, \"route_group\": \"long\", \"max_trip_hrs\": 2.0, \"max_trip_route_group\": 2.55, \"name\": \"City of Arcata\", \"caltrans_district\": \"01 - Eureka\", \"drmt_organization_name\": null, \"cutoff2\": 40, \"cutoff\": 0}]}}, {\"mode\": \"vega-lite\"});\n",
       "</script>"
      ],
      "text/plain": [
       "alt.FacetChart(...)"
      ]
     },
     "metadata": {},
     "output_type": "display_data"
    }
   ],
   "source": [
    "route_group = \"long\"\n",
    "try:\n",
    "    display_charts_for_route_group(df, route_group)\n",
    "except:\n",
    "    print(\"No routes meet this criteria.\")"
   ]
  },
  {
   "cell_type": "markdown",
   "id": "ace75b5f-0442-4fbe-aebd-6c3a13ae13a7",
   "metadata": {
    "papermill": {
     "duration": 0.018018,
     "end_time": "2022-05-09T19:26:42.823435",
     "exception": false,
     "start_time": "2022-05-09T19:26:42.805417",
     "status": "completed"
    },
    "tags": []
   },
   "source": [
    "### GTFS Real-Time Speedmaps"
   ]
  },
  {
   "cell_type": "code",
   "execution_count": 16,
   "id": "a0a114a1-e975-4027-9daf-50029f5ef59f",
   "metadata": {
    "execution": {
     "iopub.execute_input": "2022-05-09T19:26:42.862685Z",
     "iopub.status.busy": "2022-05-09T19:26:42.862433Z",
     "iopub.status.idle": "2022-05-09T19:26:42.916712Z",
     "shell.execute_reply": "2022-05-09T19:26:42.915727Z"
    },
    "jupyter": {
     "source_hidden": true
    },
    "papermill": {
     "duration": 0.078139,
     "end_time": "2022-05-09T19:26:42.919269",
     "exception": false,
     "start_time": "2022-05-09T19:26:42.841130",
     "status": "completed"
    },
    "tags": [
     "remove_input"
    ]
   },
   "outputs": [
    {
     "data": {
      "text/html": [
       "No GTFS RT data available."
      ],
      "text/plain": [
       "<IPython.core.display.HTML object>"
      ]
     },
     "metadata": {},
     "output_type": "display_data"
    }
   ],
   "source": [
    "PORTFOLIO_SITE_YAML = \"../portfolio/analyses.yml\"\n",
    "\n",
    "# Grab list of ITP IDs with GTFS RT speedmaps\n",
    "rt_itp_id = deploy_portfolio_yaml.check_if_rt_data_available(PORTFOLIO_SITE_YAML)\n",
    "\n",
    "# Construct the URL \n",
    "RT_URL = (\"https://analysis.calitp.org/rt/\"\n",
    "          f\"district_{district_number}-{district_name}/\"\n",
    "          f\"speedmaps__itp_id_{itp_id}.html\"\n",
    "         ) \n",
    "\n",
    "if itp_id in rt_itp_id:\n",
    "    display(HTML(f'''<a href={RT_URL}>GTFS RT speedmaps here.</a>'''))\n",
    "\n",
    "else:\n",
    "    display(HTML(\"No GTFS RT data available.\"))"
   ]
  },
  {
   "cell_type": "code",
   "execution_count": null,
   "id": "5b680565-2230-4f2e-817c-718fad48d64c",
   "metadata": {
    "jupyter": {
     "source_hidden": true
    },
    "papermill": {
     "duration": 0.018428,
     "end_time": "2022-05-09T19:26:42.957374",
     "exception": false,
     "start_time": "2022-05-09T19:26:42.938946",
     "status": "completed"
    },
    "tags": [
     "remove_input"
    ]
   },
   "outputs": [],
   "source": []
  }
 ],
 "metadata": {
  "kernelspec": {
   "display_name": "Python 3 (ipykernel)",
   "language": "python",
   "name": "python3"
  },
  "language_info": {
   "codemirror_mode": {
    "name": "ipython",
    "version": 3
   },
   "file_extension": ".py",
   "mimetype": "text/x-python",
   "name": "python",
   "nbconvert_exporter": "python",
   "pygments_lexer": "ipython3",
   "version": "3.9.12"
  },
  "papermill": {
   "default_parameters": {},
   "duration": 32.841638,
   "end_time": "2022-05-09T19:26:45.556370",
   "environment_variables": {},
   "exception": null,
   "input_path": "bus_service_increase/competitive-parallel-routes.ipynb",
   "output_path": "portfolio/parallel_corridors/district_01-eureka/competitive-parallel-routes__itp_id_18.ipynb",
   "parameters": {
    "district": "01 - Eureka",
    "itp_id": 18
   },
   "start_time": "2022-05-09T19:26:12.714732",
   "version": "2.3.4"
  }
 },
 "nbformat": 4,
 "nbformat_minor": 5
}