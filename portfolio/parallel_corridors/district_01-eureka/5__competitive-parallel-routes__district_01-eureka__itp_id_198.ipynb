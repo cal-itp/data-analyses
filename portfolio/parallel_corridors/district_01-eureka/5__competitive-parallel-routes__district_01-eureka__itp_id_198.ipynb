{
 "cells": [
  {
   "cell_type": "code",
   "execution_count": 1,
   "id": "95d00857-6a20-4529-a519-2cc7182928a9",
   "metadata": {
    "execution": {
     "iopub.execute_input": "2022-05-12T01:50:32.015003Z",
     "iopub.status.busy": "2022-05-12T01:50:32.014675Z",
     "iopub.status.idle": "2022-05-12T01:50:40.366219Z",
     "shell.execute_reply": "2022-05-12T01:50:40.365460Z"
    },
    "jupyter": {
     "source_hidden": true
    },
    "papermill": {
     "duration": 8.368032,
     "end_time": "2022-05-12T01:50:40.368429",
     "exception": false,
     "start_time": "2022-05-12T01:50:32.000397",
     "status": "completed"
    },
    "tags": [
     "remove_input"
    ]
   },
   "outputs": [],
   "source": [
    "%%capture\n",
    "import warnings\n",
    "warnings.filterwarnings('ignore')\n",
    "\n",
    "import altair as alt\n",
    "import calitp.magics\n",
    "import geopandas as gpd\n",
    "import intake\n",
    "import pandas as pd\n",
    "\n",
    "from IPython.display import display, Markdown, HTML\n",
    "\n",
    "import parallel_corridors_utils\n",
    "import deploy_portfolio_yaml\n",
    "from shared_utils import styleguide, geography_utils\n",
    "from make_stripplot_data import diff_cutoffs\n",
    "\n",
    "catalog = intake.open_catalog(\"./*.yml\")\n",
    "alt.renderers.enable(\"html\")"
   ]
  },
  {
   "cell_type": "code",
   "execution_count": 2,
   "id": "8af2a0c1-f3da-408d-9bea-11d9fbf8695d",
   "metadata": {
    "execution": {
     "iopub.execute_input": "2022-05-12T01:50:40.474842Z",
     "iopub.status.busy": "2022-05-12T01:50:40.474497Z",
     "iopub.status.idle": "2022-05-12T01:50:40.478515Z",
     "shell.execute_reply": "2022-05-12T01:50:40.477704Z"
    },
    "jupyter": {
     "source_hidden": true
    },
    "papermill": {
     "duration": 0.020178,
     "end_time": "2022-05-12T01:50:40.480330",
     "exception": false,
     "start_time": "2022-05-12T01:50:40.460152",
     "status": "completed"
    },
    "tags": [
     "parameters",
     "remove_input"
    ]
   },
   "outputs": [],
   "source": [
    "# parameters cell\n",
    "itp_id = 182"
   ]
  },
  {
   "cell_type": "code",
   "execution_count": 3,
   "id": "bfcb0b66",
   "metadata": {
    "execution": {
     "iopub.execute_input": "2022-05-12T01:50:40.507677Z",
     "iopub.status.busy": "2022-05-12T01:50:40.507181Z",
     "iopub.status.idle": "2022-05-12T01:50:40.511257Z",
     "shell.execute_reply": "2022-05-12T01:50:40.510705Z"
    },
    "jupyter": {
     "source_hidden": true
    },
    "papermill": {
     "duration": 0.019541,
     "end_time": "2022-05-12T01:50:40.512996",
     "exception": false,
     "start_time": "2022-05-12T01:50:40.493455",
     "status": "completed"
    },
    "tags": [
     "injected-parameters",
     "remove_input"
    ]
   },
   "outputs": [],
   "source": [
    "# Parameters\n",
    "district = \"01 - Eureka\"\n",
    "itp_id = 198\n"
   ]
  },
  {
   "cell_type": "code",
   "execution_count": 4,
   "id": "9582aaf4-79ff-412a-b248-8d8d693ebd4f",
   "metadata": {
    "execution": {
     "iopub.execute_input": "2022-05-12T01:50:40.539623Z",
     "iopub.status.busy": "2022-05-12T01:50:40.538716Z",
     "iopub.status.idle": "2022-05-12T01:50:41.776958Z",
     "shell.execute_reply": "2022-05-12T01:50:41.776339Z"
    },
    "jupyter": {
     "source_hidden": true
    },
    "papermill": {
     "duration": 1.254042,
     "end_time": "2022-05-12T01:50:41.779040",
     "exception": false,
     "start_time": "2022-05-12T01:50:40.524998",
     "status": "completed"
    },
    "tags": [
     "remove_input"
    ]
   },
   "outputs": [],
   "source": [
    "df = catalog.competitive_route_variability.read()\n",
    "\n",
    "df = (df[(df.calitp_itp_id == itp_id) & \n",
    "         (df.route_group.notna())]\n",
    "      .rename(columns = {\"route_name_used\": \"route_name\"})\n",
    "      .reset_index(drop=True)\n",
    "     )\n",
    "\n",
    "if itp_id == 182:\n",
    "    df = df.assign(\n",
    "        route_id = df.route_id.str.replace('-13153', '').astype(int)\n",
    "    )"
   ]
  },
  {
   "cell_type": "code",
   "execution_count": 5,
   "id": "33ac4b06-f647-4dce-a625-8f2c1b37cc60",
   "metadata": {
    "execution": {
     "iopub.execute_input": "2022-05-12T01:50:41.807228Z",
     "iopub.status.busy": "2022-05-12T01:50:41.806257Z",
     "iopub.status.idle": "2022-05-12T01:50:41.813455Z",
     "shell.execute_reply": "2022-05-12T01:50:41.812835Z"
    },
    "jupyter": {
     "source_hidden": true
    },
    "papermill": {
     "duration": 0.022932,
     "end_time": "2022-05-12T01:50:41.815208",
     "exception": false,
     "start_time": "2022-05-12T01:50:41.792276",
     "status": "completed"
    },
    "tags": [
     "remove_input"
    ]
   },
   "outputs": [],
   "source": [
    "%%capture_parameters\n",
    "operator_name = df.name.iloc[0]\n",
    "district_number = f\"{df.caltrans_district.iloc[0].split('-')[0].strip()}\"\n",
    "district_name = f\"{df.caltrans_district.iloc[0].split('-')[1].strip().lower().replace(' ', '-')}\"\n",
    "\n",
    "itp_id, operator_name, district_number, district_name"
   ]
  },
  {
   "cell_type": "markdown",
   "id": "65bc6f5c-8348-42ee-b2dd-52057c406852",
   "metadata": {
    "papermill": {
     "duration": 0.012983,
     "end_time": "2022-05-12T01:50:41.841536",
     "exception": false,
     "start_time": "2022-05-12T01:50:41.828553",
     "status": "completed"
    },
    "tags": []
   },
   "source": [
    "# Mendocino Transit Authority (ITP ID: 198)"
   ]
  },
  {
   "cell_type": "code",
   "execution_count": 6,
   "id": "a689c1ab-2c6c-4831-8d64-897f5986f571",
   "metadata": {
    "execution": {
     "iopub.execute_input": "2022-05-12T01:50:41.869912Z",
     "iopub.status.busy": "2022-05-12T01:50:41.869346Z",
     "iopub.status.idle": "2022-05-12T01:50:41.877687Z",
     "shell.execute_reply": "2022-05-12T01:50:41.876966Z"
    },
    "jupyter": {
     "source_hidden": true
    },
    "papermill": {
     "duration": 0.026501,
     "end_time": "2022-05-12T01:50:41.880841",
     "exception": false,
     "start_time": "2022-05-12T01:50:41.854340",
     "status": "completed"
    },
    "tags": [
     "remove_input"
    ]
   },
   "outputs": [
    {
     "data": {
      "text/html": [
       "<h1>Competitive & Parallel Routes</h1>"
      ],
      "text/plain": [
       "<IPython.core.display.HTML object>"
      ]
     },
     "metadata": {},
     "output_type": "display_data"
    }
   ],
   "source": [
    "display(HTML(\"<h1>Competitive & Parallel Routes</h1>\")) "
   ]
  },
  {
   "cell_type": "code",
   "execution_count": 7,
   "id": "2cb4d8d5-4760-40e4-85b1-cb833d8bb648",
   "metadata": {
    "execution": {
     "iopub.execute_input": "2022-05-12T01:50:41.915581Z",
     "iopub.status.busy": "2022-05-12T01:50:41.914648Z",
     "iopub.status.idle": "2022-05-12T01:50:52.029693Z",
     "shell.execute_reply": "2022-05-12T01:50:52.029022Z"
    },
    "jupyter": {
     "source_hidden": true
    },
    "papermill": {
     "duration": 10.131815,
     "end_time": "2022-05-12T01:50:52.031839",
     "exception": false,
     "start_time": "2022-05-12T01:50:41.900024",
     "status": "completed"
    },
    "tags": [
     "remove_input"
    ]
   },
   "outputs": [],
   "source": [
    "# Grab parameters for narrative text - clean up formatting here \n",
    "district = df.caltrans_district.iloc[0]\n",
    "formatted_date = pd.to_datetime(parallel_corridors_utils.SELECTED_DATE).strftime('%m-%d-%Y')\n",
    "\n",
    "PCT_COMPETITIVE_THRESHOLD = 0.75\n",
    "PCT_TRIPS_BELOW_CUTOFF = 0.50\n",
    "\n",
    "stats = parallel_corridors_utils.operator_parallel_competitive_stats(\n",
    "    itp_id, PCT_COMPETITIVE_THRESHOLD, PCT_TRIPS_BELOW_CUTOFF)\n",
    "\n",
    "pct_parallel = round(stats['parallel_routes'] / stats['num_routes'] * 100, 1 )\n",
    "pct_competitive =  round(stats['competitive_routes'] / stats['num_routes'] * 100, 1 )\n",
    "pct_viable =  round(stats['viable_competitive_routes'] / stats['num_routes'] * 100, 1 )"
   ]
  },
  {
   "cell_type": "code",
   "execution_count": 8,
   "id": "8bf30c8f-6aa5-47bb-82ae-a906732e81fd",
   "metadata": {
    "execution": {
     "iopub.execute_input": "2022-05-12T01:50:52.061303Z",
     "iopub.status.busy": "2022-05-12T01:50:52.060638Z",
     "iopub.status.idle": "2022-05-12T01:50:52.090864Z",
     "shell.execute_reply": "2022-05-12T01:50:52.090310Z"
    },
    "jupyter": {
     "source_hidden": true
    },
    "papermill": {
     "duration": 0.047161,
     "end_time": "2022-05-12T01:50:52.092927",
     "exception": false,
     "start_time": "2022-05-12T01:50:52.045766",
     "status": "completed"
    },
    "tags": [
     "remove_input"
    ]
   },
   "outputs": [],
   "source": [
    "# Display a table of route-level stats for each route_group\n",
    "# Displaying route_name makes chart too crowded\n",
    "\n",
    "# Get route stats (for entire df)\n",
    "route_stats = parallel_corridors_utils.competitive_route_level_stats(df)\n",
    "    \n",
    "def style_route_stats(df, top15_routes):\n",
    "    df = df[df.route_id.isin(top15_routes)]\n",
    "    \n",
    "    # Rename columns for display\n",
    "    rename_cols = {\n",
    "        \"route_id\": \"Route ID\",\n",
    "        \"route_name\": \"Route Name\",\n",
    "        \"route_group\": \"Route Group\",\n",
    "        \"num_trips\": \"# trips\",\n",
    "        \"daily_avg_freq\": \"Daily Avg Freq (trips per hr)\",\n",
    "        \"pm_peak_freq\": \"PM Peak Avg Freq (trips per hr)\",\n",
    "        \"percentiles\": \"25th, 50th, 75th ptile (hrs)\",\n",
    "    }\n",
    "    \n",
    "    # Style it\n",
    "    drop_cols = [\n",
    "        \"calitp_itp_id\", \"below_cutoff\", \"route_group\", \n",
    "        \"pct_trips_competitive\", \"pct_below_cutoff\",\n",
    "        \"p25\", \"p50\", \"p75\",\n",
    "    ]\n",
    "    \n",
    "    # Change alignment for some columns\n",
    "    # https://stackoverflow.com/questions/59453091/left-align-the-first-column-and-center-align-the-other-columns-in-a-pandas-table\n",
    "    df_style = (df.sort_values(\n",
    "        [\"pct_trips_competitive\", \"below_cutoff\", \n",
    "        \"pct_below_cutoff\", \"route_id\"], \n",
    "        ascending=[False, False, False, True])\n",
    "           .drop(columns = drop_cols)\n",
    "           .rename(columns = rename_cols)\n",
    "           .style.format(\n",
    "               subset=['Daily Avg Freq (trips per hr)', \n",
    "                       'PM Peak Avg Freq (trips per hr)'], \n",
    "               **{'formatter': '{:,.3}'})\n",
    "                .set_properties(subset=['Route ID', 'Route Name'], \n",
    "                                **{'text-align': 'left'})\n",
    "                .set_properties(subset=['# trips', 'Daily Avg Freq (trips per hr)', \n",
    "                                       'PM Peak Avg Freq (trips per hr)'], \n",
    "                               **{'text-align': 'center'})\n",
    "                .set_table_styles([dict(selector='th', \n",
    "                                        props=[('text-align', 'center')])\n",
    "                                        ])\n",
    "           .hide(axis=\"index\")\n",
    "           .to_html()\n",
    "          )\n",
    "    \n",
    "    display(HTML(\"<h4>Route Stats</h4>\"))\n",
    "    display(HTML(df_style))"
   ]
  },
  {
   "cell_type": "markdown",
   "id": "ab667928-5274-4490-82d9-4c39293209a4",
   "metadata": {
    "papermill": {
     "duration": 0.013885,
     "end_time": "2022-05-12T01:50:52.122367",
     "exception": false,
     "start_time": "2022-05-12T01:50:52.108482",
     "status": "completed"
    },
    "tags": []
   },
   "source": [
    "## Quick Stats"
   ]
  },
  {
   "cell_type": "code",
   "execution_count": 9,
   "id": "0416509d-dc62-4165-b62e-64f8b26e8b8e",
   "metadata": {
    "execution": {
     "iopub.execute_input": "2022-05-12T01:50:52.160011Z",
     "iopub.status.busy": "2022-05-12T01:50:52.159722Z",
     "iopub.status.idle": "2022-05-12T01:50:52.191352Z",
     "shell.execute_reply": "2022-05-12T01:50:52.190500Z"
    },
    "jupyter": {
     "source_hidden": true
    },
    "papermill": {
     "duration": 0.053954,
     "end_time": "2022-05-12T01:50:52.194614",
     "exception": false,
     "start_time": "2022-05-12T01:50:52.140660",
     "status": "completed"
    },
    "tags": [
     "remove_input"
    ]
   },
   "outputs": [
    {
     "data": {
      "text/markdown": [
       "**Bus routes in service: 8**<br>**Parallel routes** to State Highway Network (SHN): **7 routes (87.5%)**<br>**Competitive routes** against car travel (within 2x car travel time): **4 routes (50.0%)**<br>**Viable competitive routes** against car travel (within 2x car travel time and within 20, 30, or 40 min cut-off): **2 routes (25.0%)**"
      ],
      "text/plain": [
       "<IPython.core.display.Markdown object>"
      ]
     },
     "metadata": {},
     "output_type": "display_data"
    }
   ],
   "source": [
    "display(\n",
    "    Markdown(\n",
    "        f\"**Bus routes in service: {stats['num_routes']}**\"\n",
    "        \"<br>**Parallel routes** to State Highway Network (SHN): \"\n",
    "        f\"**{stats['parallel_routes']} routes ({pct_parallel}%)**\"\n",
    "        \"<br>**Competitive routes** against car travel (within 2x car travel time): \"\n",
    "        f\"**{stats['competitive_routes']} routes ({pct_competitive}%)**\"\n",
    "        \"<br>**Viable competitive routes** against car travel \"\n",
    "        \"(within 2x car travel time and within 20, 30, or 40 min cut-off): \"\n",
    "        f\"**{stats['viable_competitive_routes']} routes ({pct_viable}%)**\"\n",
    "    )\n",
    ")"
   ]
  },
  {
   "cell_type": "code",
   "execution_count": 10,
   "id": "f9d6ab58-f0ee-460c-b6de-657490e1f386",
   "metadata": {
    "execution": {
     "iopub.execute_input": "2022-05-12T01:50:52.223387Z",
     "iopub.status.busy": "2022-05-12T01:50:52.222718Z",
     "iopub.status.idle": "2022-05-12T01:50:52.228887Z",
     "shell.execute_reply": "2022-05-12T01:50:52.228111Z"
    },
    "jupyter": {
     "source_hidden": true
    },
    "papermill": {
     "duration": 0.022727,
     "end_time": "2022-05-12T01:50:52.230536",
     "exception": false,
     "start_time": "2022-05-12T01:50:52.207809",
     "status": "completed"
    },
    "tags": [
     "remove_input"
    ]
   },
   "outputs": [],
   "source": [
    "def set_yaxis_range(df, y_col):\n",
    "    Y_MIN = df[y_col].min()\n",
    "    Y_MAX = df[y_col].max()\n",
    "    \n",
    "    return Y_MIN, Y_MAX\n",
    "\n",
    "# Rather than set it according to the operator, which can vary,\n",
    "# just use set thresholds for each group\n",
    "def top15_routes(df, route_group):\n",
    "    # grab top 15 routes where majority of trips are below that cut-off \n",
    "    # but show 15 max, otherwise, show less, since these won't be as interesting to operators\n",
    "    df2 = (df[(df.route_group==route_group) &\n",
    "              (df.pct_below_cutoff >= PCT_TRIPS_BELOW_CUTOFF)]\n",
    "           .sort_values([\"calitp_itp_id\", \"below_cutoff\", \n",
    "                         \"pct_below_cutoff\", \"route_id\"],\n",
    "                        ascending = [True, False, False, True]\n",
    "                       )\n",
    "           .drop_duplicates(subset=[\"calitp_itp_id\", \"route_id\"])\n",
    "          ).head(15)\n",
    "    \n",
    "    return list(df2.route_id)"
   ]
  },
  {
   "cell_type": "code",
   "execution_count": 11,
   "id": "cf36d559-3349-4144-8086-8ac9ce937a5a",
   "metadata": {
    "execution": {
     "iopub.execute_input": "2022-05-12T01:50:52.259710Z",
     "iopub.status.busy": "2022-05-12T01:50:52.258920Z",
     "iopub.status.idle": "2022-05-12T01:50:52.264519Z",
     "shell.execute_reply": "2022-05-12T01:50:52.263640Z"
    },
    "jupyter": {
     "source_hidden": true
    },
    "papermill": {
     "duration": 0.022436,
     "end_time": "2022-05-12T01:50:52.266586",
     "exception": false,
     "start_time": "2022-05-12T01:50:52.244150",
     "status": "completed"
    },
    "tags": [
     "remove_input"
    ]
   },
   "outputs": [],
   "source": [
    "def caption_with_cutoff(cutoff):\n",
    "    sentence = (\n",
    "        f\"<br>These are routes that have **at least {int(PCT_TRIPS_BELOW_CUTOFF*100)}% \"\n",
    "        \"of their trips take no more than an \"\n",
    "        f\"additional {cutoff} min** compared to a car \"\n",
    "        \"(up to 15 routes) are shown.\"\n",
    "        \"<br>Within each route group, routes are sorted in descending order \"\n",
    "        \"by % competitive trips and # trips below the additional time cut-off.\"\n",
    "    )\n",
    "    return sentence\n",
    "\n",
    "CAPTIONS_DICT = {\n",
    "    \"short\": caption_with_cutoff(diff_cutoffs['short']),\n",
    "    \"medium\": caption_with_cutoff(diff_cutoffs['medium']),\n",
    "    \"long\": caption_with_cutoff(diff_cutoffs['long']),\n",
    "}"
   ]
  },
  {
   "cell_type": "code",
   "execution_count": 12,
   "id": "e4306d58-6944-47e9-afef-5d5b524c751f",
   "metadata": {
    "execution": {
     "iopub.execute_input": "2022-05-12T01:50:52.309747Z",
     "iopub.status.busy": "2022-05-12T01:50:52.309038Z",
     "iopub.status.idle": "2022-05-12T01:50:52.317184Z",
     "shell.execute_reply": "2022-05-12T01:50:52.316201Z"
    },
    "jupyter": {
     "source_hidden": true
    },
    "papermill": {
     "duration": 0.031278,
     "end_time": "2022-05-12T01:50:52.319676",
     "exception": false,
     "start_time": "2022-05-12T01:50:52.288398",
     "status": "completed"
    },
    "tags": [
     "remove_input"
    ]
   },
   "outputs": [],
   "source": [
    "def setup_charts(df, PCT_COMPETITIVE_THRESHOLD, route_group):\n",
    "    # Set up df for charting (cut-off at some threshold to show most competitive routes)\n",
    "    plot_me = (df[df.pct_trips_competitive > PCT_COMPETITIVE_THRESHOLD]\n",
    "           .drop(columns = \"geometry\")\n",
    "    )\n",
    "    \n",
    "    # Set y-ranges to be the same across route_groups, \n",
    "    # otherwise charts fluctuate too much, even within operator\n",
    "    y_col1 = \"bus_multiplier\"\n",
    "    Y_MIN1, Y_MAX1 = set_yaxis_range(plot_me, y_col1)\n",
    "\n",
    "    y_col2 = \"bus_difference\"\n",
    "    Y_MIN2, Y_MAX2 = set_yaxis_range(plot_me, y_col2)\n",
    "    \n",
    "    # Grab the routes to plot\n",
    "    subset_routes = top15_routes(plot_me, route_group)\n",
    "        \n",
    "    # Display charts\n",
    "    multiplier_chart = parallel_corridors_utils.make_stripplot(\n",
    "        plot_me[plot_me.route_id.isin(subset_routes)], \n",
    "        y_col1, Y_MIN = Y_MIN1, Y_MAX = Y_MAX1\n",
    "    )\n",
    "    \n",
    "    difference_chart = parallel_corridors_utils.make_stripplot(\n",
    "        plot_me[plot_me.route_id.isin(subset_routes)], \n",
    "        y_col2, Y_MIN = Y_MIN2, Y_MAX = Y_MAX2\n",
    "    )\n",
    "    \n",
    "    return subset_routes, multiplier_chart, difference_chart            "
   ]
  },
  {
   "cell_type": "code",
   "execution_count": 13,
   "id": "33a710e8-504c-4942-aa75-ff69f216956e",
   "metadata": {
    "execution": {
     "iopub.execute_input": "2022-05-12T01:50:52.350034Z",
     "iopub.status.busy": "2022-05-12T01:50:52.349766Z",
     "iopub.status.idle": "2022-05-12T01:50:52.356471Z",
     "shell.execute_reply": "2022-05-12T01:50:52.355674Z"
    },
    "jupyter": {
     "source_hidden": true
    },
    "papermill": {
     "duration": 0.023751,
     "end_time": "2022-05-12T01:50:52.358270",
     "exception": false,
     "start_time": "2022-05-12T01:50:52.334519",
     "status": "completed"
    },
    "tags": [
     "remove_input"
    ]
   },
   "outputs": [],
   "source": [
    "def display_charts_for_route_group(df, route_group):    \n",
    "    subset_routes, mult, diff  = setup_charts(df, PCT_COMPETITIVE_THRESHOLD, route_group)\n",
    "\n",
    "    if len(subset_routes) > 0:\n",
    "        display(Markdown(f\"{CAPTIONS_DICT[route_group]}\"))\n",
    "\n",
    "        display(mult)\n",
    "        display(diff)\n",
    "        \n",
    "        # Display route stats for just plotted routes\n",
    "        style_route_stats(route_stats, subset_routes)"
   ]
  },
  {
   "cell_type": "markdown",
   "id": "525f9b38-072b-46d1-96a8-1aa4b038357c",
   "metadata": {
    "papermill": {
     "duration": 0.017405,
     "end_time": "2022-05-12T01:50:52.390752",
     "exception": false,
     "start_time": "2022-05-12T01:50:52.373347",
     "status": "completed"
    },
    "tags": []
   },
   "source": [
    "## Viable Competitive Routes\n",
    "### Short Routes (< 1 hr)"
   ]
  },
  {
   "cell_type": "code",
   "execution_count": 14,
   "id": "57f7084c-2cf7-45c6-ba08-1609e0bd6ca5",
   "metadata": {
    "execution": {
     "iopub.execute_input": "2022-05-12T01:50:52.420899Z",
     "iopub.status.busy": "2022-05-12T01:50:52.420665Z",
     "iopub.status.idle": "2022-05-12T01:50:52.751481Z",
     "shell.execute_reply": "2022-05-12T01:50:52.750755Z"
    },
    "jupyter": {
     "source_hidden": true
    },
    "papermill": {
     "duration": 0.347902,
     "end_time": "2022-05-12T01:50:52.753553",
     "exception": false,
     "start_time": "2022-05-12T01:50:52.405651",
     "status": "completed"
    },
    "tags": [
     "remove_input"
    ]
   },
   "outputs": [
    {
     "data": {
      "text/markdown": [
       "<br>These are routes that have **at least 50% of their trips take no more than an additional 20 min** compared to a car (up to 15 routes) are shown.<br>Within each route group, routes are sorted in descending order by % competitive trips and # trips below the additional time cut-off."
      ],
      "text/plain": [
       "<IPython.core.display.Markdown object>"
      ]
     },
     "metadata": {},
     "output_type": "display_data"
    },
    {
     "data": {
      "text/html": [
       "\n",
       "<div id=\"altair-viz-977bf4f3c8414562b1b79866a5b07544\"></div>\n",
       "<script type=\"text/javascript\">\n",
       "  var VEGA_DEBUG = (typeof VEGA_DEBUG == \"undefined\") ? {} : VEGA_DEBUG;\n",
       "  (function(spec, embedOpt){\n",
       "    let outputDiv = document.currentScript.previousElementSibling;\n",
       "    if (outputDiv.id !== \"altair-viz-977bf4f3c8414562b1b79866a5b07544\") {\n",
       "      outputDiv = document.getElementById(\"altair-viz-977bf4f3c8414562b1b79866a5b07544\");\n",
       "    }\n",
       "    const paths = {\n",
       "      \"vega\": \"https://cdn.jsdelivr.net/npm//vega@5?noext\",\n",
       "      \"vega-lib\": \"https://cdn.jsdelivr.net/npm//vega-lib?noext\",\n",
       "      \"vega-lite\": \"https://cdn.jsdelivr.net/npm//vega-lite@4.17.0?noext\",\n",
       "      \"vega-embed\": \"https://cdn.jsdelivr.net/npm//vega-embed@6?noext\",\n",
       "    };\n",
       "\n",
       "    function maybeLoadScript(lib, version) {\n",
       "      var key = `${lib.replace(\"-\", \"\")}_version`;\n",
       "      return (VEGA_DEBUG[key] == version) ?\n",
       "        Promise.resolve(paths[lib]) :\n",
       "        new Promise(function(resolve, reject) {\n",
       "          var s = document.createElement('script');\n",
       "          document.getElementsByTagName(\"head\")[0].appendChild(s);\n",
       "          s.async = true;\n",
       "          s.onload = () => {\n",
       "            VEGA_DEBUG[key] = version;\n",
       "            return resolve(paths[lib]);\n",
       "          };\n",
       "          s.onerror = () => reject(`Error loading script: ${paths[lib]}`);\n",
       "          s.src = paths[lib];\n",
       "        });\n",
       "    }\n",
       "\n",
       "    function showError(err) {\n",
       "      outputDiv.innerHTML = `<div class=\"error\" style=\"color:red;\">${err}</div>`;\n",
       "      throw err;\n",
       "    }\n",
       "\n",
       "    function displayChart(vegaEmbed) {\n",
       "      vegaEmbed(outputDiv, spec, embedOpt)\n",
       "        .catch(err => showError(`Javascript Error: ${err.message}<br>This usually means there's a typo in your chart specification. See the javascript console for the full traceback.`));\n",
       "    }\n",
       "\n",
       "    if(typeof define === \"function\" && define.amd) {\n",
       "      requirejs.config({paths});\n",
       "      require([\"vega-embed\"], displayChart, err => showError(`Error loading script: ${err.message}`));\n",
       "    } else {\n",
       "      maybeLoadScript(\"vega\", \"5\")\n",
       "        .then(() => maybeLoadScript(\"vega-lite\", \"4.17.0\"))\n",
       "        .then(() => maybeLoadScript(\"vega-embed\", \"6\"))\n",
       "        .catch(showError)\n",
       "        .then(() => displayChart(vegaEmbed));\n",
       "    }\n",
       "  })({\"config\": {\"view\": {\"continuousWidth\": 400, \"continuousHeight\": 300, \"stroke\": null}, \"facet\": {\"spacing\": 0}}, \"data\": {\"name\": \"data-cf7cdd3a0dbeaaee3856dcfe36c7d45e\"}, \"facet\": {\"column\": {\"field\": \"route_id\", \"sort\": [\"228\", \"232\"], \"title\": \"Route ID\", \"type\": \"nominal\"}}, \"spec\": {\"layer\": [{\"mark\": \"rule\", \"encoding\": {\"color\": {\"value\": \"black\"}, \"y\": {\"field\": \"cutoff\", \"type\": \"quantitative\"}}, \"selection\": {\"selector001\": {\"type\": \"interval\", \"bind\": \"scales\", \"encodings\": [\"x\", \"y\"]}}}, {\"mark\": {\"type\": \"point\", \"opacity\": 0.65, \"size\": 12, \"strokeWidth\": 1.1}, \"encoding\": {\"color\": {\"field\": \"time_of_day\", \"scale\": {\"range\": [\"#136C97\", \"#E16B26\", \"#F6BF16\", \"#00896B\", \"#7790A3\", \"#5B559C\"]}, \"sort\": [\"AM Peak\", \"Midday\", \"PM Peak\", \"Owl Service\"], \"title\": \"Time of Day\", \"type\": \"nominal\"}, \"tooltip\": [{\"field\": \"route_id\", \"type\": \"nominal\"}, {\"field\": \"route_name\", \"type\": \"nominal\"}, {\"field\": \"trip_id\", \"type\": \"nominal\"}, {\"field\": \"service_hours\", \"type\": \"quantitative\"}, {\"field\": \"car_duration_hours\", \"type\": \"quantitative\"}, {\"field\": \"bus_multiplier\", \"type\": \"quantitative\"}, {\"field\": \"bus_difference\", \"type\": \"quantitative\"}, {\"field\": \"num_trips\", \"type\": \"quantitative\"}, {\"field\": \"num_competitive\", \"type\": \"quantitative\"}, {\"field\": \"pct_trips_competitive\", \"type\": \"quantitative\"}, {\"field\": \"p25\", \"type\": \"quantitative\"}, {\"field\": \"p50\", \"type\": \"quantitative\"}, {\"field\": \"p75\", \"type\": \"quantitative\"}], \"x\": {\"axis\": {\"grid\": false, \"labels\": false, \"ticks\": true, \"values\": [0]}, \"field\": \"jitter\", \"scale\": {}, \"title\": null, \"type\": \"quantitative\"}, \"y\": {\"field\": \"bus_multiplier\", \"scale\": {\"domain\": [-0.25, 3.0]}, \"title\": \"Ratio of Bus to Car Travel Time\", \"type\": \"quantitative\"}}, \"transform\": [{\"calculate\": \"sqrt(-2*log(random()))*cos(2*PI*random())\", \"as\": \"jitter\"}], \"width\": 50}, {\"layer\": [{\"mark\": {\"type\": \"point\", \"opacity\": 0.6, \"size\": 20, \"strokeWidth\": 1.3}, \"encoding\": {\"color\": {\"value\": \"#323434\"}, \"y\": {\"field\": \"bus_multiplier\", \"type\": \"quantitative\"}}, \"transform\": [{\"filter\": \"(datum.p50_trip === 1)\"}]}, {\"mark\": {\"type\": \"text\", \"align\": \"center\", \"baseline\": \"middle\"}, \"encoding\": {\"color\": {\"value\": \"black\"}, \"text\": {\"field\": \"pct_trips_competitive\", \"format\": \".0%\", \"type\": \"quantitative\"}, \"tooltip\": [{\"field\": \"route_id\", \"type\": \"nominal\"}, {\"field\": \"route_name\", \"type\": \"nominal\"}, {\"field\": \"trip_id\", \"type\": \"nominal\"}, {\"field\": \"service_hours\", \"type\": \"quantitative\"}, {\"field\": \"car_duration_hours\", \"type\": \"quantitative\"}, {\"field\": \"bus_multiplier\", \"type\": \"quantitative\"}, {\"field\": \"bus_difference\", \"type\": \"quantitative\"}, {\"field\": \"num_trips\", \"type\": \"quantitative\"}, {\"field\": \"num_competitive\", \"type\": \"quantitative\"}, {\"field\": \"pct_trips_competitive\", \"type\": \"quantitative\"}, {\"field\": \"p25\", \"type\": \"quantitative\"}, {\"field\": \"p50\", \"type\": \"quantitative\"}, {\"field\": \"p75\", \"type\": \"quantitative\"}], \"x\": {\"value\": 30}, \"y\": {\"value\": 15}}, \"transform\": [{\"calculate\": \"sqrt(-2*log(random()))*cos(2*PI*random())\", \"as\": \"jitter\"}, {\"filter\": \"(datum.fastest_trip === 1)\"}]}]}]}, \"resolve\": {\"scale\": {\"y\": \"shared\"}}, \"title\": \"Ratio of Bus to Car Travel Time\", \"$schema\": \"https://vega.github.io/schema/vega-lite/v4.17.0.json\", \"datasets\": {\"data-cf7cdd3a0dbeaaee3856dcfe36c7d45e\": [{\"calitp_itp_id\": 198, \"trip_key\": -3821498970512423514, \"trip_id\": \"t_1945535_b_33004_tn_0\", \"shape_id\": \"p_902318\", \"route_id\": \"228\", \"service_hours\": 0.42, \"trip_first_departure_ts\": 46380, \"trip_last_arrival_ts\": 47881, \"departure_hour\": 12, \"time_of_day\": \"Midday\", \"p25\": 0.42, \"p50\": 0.425, \"p75\": 0.43, \"p50_trip\": 1, \"fastest_trip\": 0, \"car_duration_hours\": 0.24, \"competitive_route\": 1, \"bus_multiplier\": 1.75, \"bus_difference\": 10.8, \"num_trips\": 22, \"num_competitive\": 22, \"pct_trips_competitive\": 1.0, \"bus_difference_spread\": 0.5999999999999996, \"route_group\": \"short\", \"max_trip_hrs\": 0.43, \"max_trip_route_group\": 0.43, \"below_cutoff\": 22, \"pct_below_cutoff\": 1.0, \"name\": \"Mendocino Transit Authority\", \"caltrans_district\": \"01 - Eureka\", \"drmt_organization_name\": null, \"route_name\": \"Willits Local\", \"cutoff2\": 20, \"cutoff\": 2}, {\"calitp_itp_id\": 198, \"trip_key\": 7165344805685707348, \"trip_id\": \"t_1945537_b_33004_tn_0\", \"shape_id\": \"p_902318\", \"route_id\": \"228\", \"service_hours\": 0.42, \"trip_first_departure_ts\": 57180, \"trip_last_arrival_ts\": 58681, \"departure_hour\": 15, \"time_of_day\": \"Midday\", \"p25\": 0.42, \"p50\": 0.425, \"p75\": 0.43, \"p50_trip\": 1, \"fastest_trip\": 0, \"car_duration_hours\": 0.24, \"competitive_route\": 1, \"bus_multiplier\": 1.75, \"bus_difference\": 10.8, \"num_trips\": 22, \"num_competitive\": 22, \"pct_trips_competitive\": 1.0, \"bus_difference_spread\": 0.5999999999999996, \"route_group\": \"short\", \"max_trip_hrs\": 0.43, \"max_trip_route_group\": 0.43, \"below_cutoff\": 22, \"pct_below_cutoff\": 1.0, \"name\": \"Mendocino Transit Authority\", \"caltrans_district\": \"01 - Eureka\", \"drmt_organization_name\": null, \"route_name\": \"Willits Local\", \"cutoff2\": 20, \"cutoff\": 2}, {\"calitp_itp_id\": 198, \"trip_key\": -7302998507075712861, \"trip_id\": \"t_1945538_b_33004_tn_0\", \"shape_id\": \"p_902318\", \"route_id\": \"228\", \"service_hours\": 0.42, \"trip_first_departure_ts\": 60780, \"trip_last_arrival_ts\": 62281, \"departure_hour\": 16, \"time_of_day\": \"Midday\", \"p25\": 0.42, \"p50\": 0.425, \"p75\": 0.43, \"p50_trip\": 1, \"fastest_trip\": 0, \"car_duration_hours\": 0.24, \"competitive_route\": 1, \"bus_multiplier\": 1.75, \"bus_difference\": 10.8, \"num_trips\": 22, \"num_competitive\": 22, \"pct_trips_competitive\": 1.0, \"bus_difference_spread\": 0.5999999999999996, \"route_group\": \"short\", \"max_trip_hrs\": 0.43, \"max_trip_route_group\": 0.43, \"below_cutoff\": 22, \"pct_below_cutoff\": 1.0, \"name\": \"Mendocino Transit Authority\", \"caltrans_district\": \"01 - Eureka\", \"drmt_organization_name\": null, \"route_name\": \"Willits Local\", \"cutoff2\": 20, \"cutoff\": 2}, {\"calitp_itp_id\": 198, \"trip_key\": 2690806896856807706, \"trip_id\": \"t_1945536_b_33004_tn_0\", \"shape_id\": \"p_902318\", \"route_id\": \"228\", \"service_hours\": 0.42, \"trip_first_departure_ts\": 53580, \"trip_last_arrival_ts\": 55081, \"departure_hour\": 14, \"time_of_day\": \"Midday\", \"p25\": 0.42, \"p50\": 0.425, \"p75\": 0.43, \"p50_trip\": 1, \"fastest_trip\": 0, \"car_duration_hours\": 0.24, \"competitive_route\": 1, \"bus_multiplier\": 1.75, \"bus_difference\": 10.8, \"num_trips\": 22, \"num_competitive\": 22, \"pct_trips_competitive\": 1.0, \"bus_difference_spread\": 0.5999999999999996, \"route_group\": \"short\", \"max_trip_hrs\": 0.43, \"max_trip_route_group\": 0.43, \"below_cutoff\": 22, \"pct_below_cutoff\": 1.0, \"name\": \"Mendocino Transit Authority\", \"caltrans_district\": \"01 - Eureka\", \"drmt_organization_name\": null, \"route_name\": \"Willits Local\", \"cutoff2\": 20, \"cutoff\": 2}, {\"calitp_itp_id\": 198, \"trip_key\": 4106086861605117829, \"trip_id\": \"t_1945553_b_33004_tn_1\", \"shape_id\": \"p_902318\", \"route_id\": \"228\", \"service_hours\": 0.42, \"trip_first_departure_ts\": 31080, \"trip_last_arrival_ts\": 32581, \"departure_hour\": 8, \"time_of_day\": \"AM Peak\", \"p25\": 0.42, \"p50\": 0.425, \"p75\": 0.43, \"p50_trip\": 1, \"fastest_trip\": 0, \"car_duration_hours\": 0.24, \"competitive_route\": 1, \"bus_multiplier\": 1.75, \"bus_difference\": 10.8, \"num_trips\": 22, \"num_competitive\": 22, \"pct_trips_competitive\": 1.0, \"bus_difference_spread\": 0.5999999999999996, \"route_group\": \"short\", \"max_trip_hrs\": 0.43, \"max_trip_route_group\": 0.43, \"below_cutoff\": 22, \"pct_below_cutoff\": 1.0, \"name\": \"Mendocino Transit Authority\", \"caltrans_district\": \"01 - Eureka\", \"drmt_organization_name\": null, \"route_name\": \"Willits Local\", \"cutoff2\": 20, \"cutoff\": 2}, {\"calitp_itp_id\": 198, \"trip_key\": -5726019492811257531, \"trip_id\": \"t_1945546_b_33004_tn_0\", \"shape_id\": \"p_902318\", \"route_id\": \"228\", \"service_hours\": 0.42, \"trip_first_departure_ts\": 27480, \"trip_last_arrival_ts\": 28981, \"departure_hour\": 7, \"time_of_day\": \"AM Peak\", \"p25\": 0.42, \"p50\": 0.425, \"p75\": 0.43, \"p50_trip\": 1, \"fastest_trip\": 0, \"car_duration_hours\": 0.24, \"competitive_route\": 1, \"bus_multiplier\": 1.75, \"bus_difference\": 10.8, \"num_trips\": 22, \"num_competitive\": 22, \"pct_trips_competitive\": 1.0, \"bus_difference_spread\": 0.5999999999999996, \"route_group\": \"short\", \"max_trip_hrs\": 0.43, \"max_trip_route_group\": 0.43, \"below_cutoff\": 22, \"pct_below_cutoff\": 1.0, \"name\": \"Mendocino Transit Authority\", \"caltrans_district\": \"01 - Eureka\", \"drmt_organization_name\": null, \"route_name\": \"Willits Local\", \"cutoff2\": 20, \"cutoff\": 2}, {\"calitp_itp_id\": 198, \"trip_key\": -4131255246077367673, \"trip_id\": \"t_1945533_b_33004_tn_0\", \"shape_id\": \"p_902318\", \"route_id\": \"228\", \"service_hours\": 0.42, \"trip_first_departure_ts\": 39180, \"trip_last_arrival_ts\": 40681, \"departure_hour\": 10, \"time_of_day\": \"Midday\", \"p25\": 0.42, \"p50\": 0.425, \"p75\": 0.43, \"p50_trip\": 1, \"fastest_trip\": 0, \"car_duration_hours\": 0.24, \"competitive_route\": 1, \"bus_multiplier\": 1.75, \"bus_difference\": 10.8, \"num_trips\": 22, \"num_competitive\": 22, \"pct_trips_competitive\": 1.0, \"bus_difference_spread\": 0.5999999999999996, \"route_group\": \"short\", \"max_trip_hrs\": 0.43, \"max_trip_route_group\": 0.43, \"below_cutoff\": 22, \"pct_below_cutoff\": 1.0, \"name\": \"Mendocino Transit Authority\", \"caltrans_district\": \"01 - Eureka\", \"drmt_organization_name\": null, \"route_name\": \"Willits Local\", \"cutoff2\": 20, \"cutoff\": 2}, {\"calitp_itp_id\": 198, \"trip_key\": 4378266072232651454, \"trip_id\": \"t_1945534_b_33004_tn_0\", \"shape_id\": \"p_902318\", \"route_id\": \"228\", \"service_hours\": 0.42, \"trip_first_departure_ts\": 42780, \"trip_last_arrival_ts\": 44281, \"departure_hour\": 11, \"time_of_day\": \"Midday\", \"p25\": 0.42, \"p50\": 0.425, \"p75\": 0.43, \"p50_trip\": 1, \"fastest_trip\": 0, \"car_duration_hours\": 0.24, \"competitive_route\": 1, \"bus_multiplier\": 1.75, \"bus_difference\": 10.8, \"num_trips\": 22, \"num_competitive\": 22, \"pct_trips_competitive\": 1.0, \"bus_difference_spread\": 0.5999999999999996, \"route_group\": \"short\", \"max_trip_hrs\": 0.43, \"max_trip_route_group\": 0.43, \"below_cutoff\": 22, \"pct_below_cutoff\": 1.0, \"name\": \"Mendocino Transit Authority\", \"caltrans_district\": \"01 - Eureka\", \"drmt_organization_name\": null, \"route_name\": \"Willits Local\", \"cutoff2\": 20, \"cutoff\": 2}, {\"calitp_itp_id\": 198, \"trip_key\": 2543226735406892914, \"trip_id\": \"t_1945552_b_33004_tn_0\", \"shape_id\": \"p_902318\", \"route_id\": \"228\", \"service_hours\": 0.42, \"trip_first_departure_ts\": 49980, \"trip_last_arrival_ts\": 51481, \"departure_hour\": 13, \"time_of_day\": \"Midday\", \"p25\": 0.42, \"p50\": 0.425, \"p75\": 0.43, \"p50_trip\": 1, \"fastest_trip\": 0, \"car_duration_hours\": 0.24, \"competitive_route\": 1, \"bus_multiplier\": 1.75, \"bus_difference\": 10.8, \"num_trips\": 22, \"num_competitive\": 22, \"pct_trips_competitive\": 1.0, \"bus_difference_spread\": 0.5999999999999996, \"route_group\": \"short\", \"max_trip_hrs\": 0.43, \"max_trip_route_group\": 0.43, \"below_cutoff\": 22, \"pct_below_cutoff\": 1.0, \"name\": \"Mendocino Transit Authority\", \"caltrans_district\": \"01 - Eureka\", \"drmt_organization_name\": null, \"route_name\": \"Willits Local\", \"cutoff2\": 20, \"cutoff\": 2}, {\"calitp_itp_id\": 198, \"trip_key\": -2304997739224854707, \"trip_id\": \"t_1945539_b_33004_tn_0\", \"shape_id\": \"p_902318\", \"route_id\": \"228\", \"service_hours\": 0.42, \"trip_first_departure_ts\": 65280, \"trip_last_arrival_ts\": 66781, \"departure_hour\": 18, \"time_of_day\": \"PM Peak\", \"p25\": 0.42, \"p50\": 0.425, \"p75\": 0.43, \"p50_trip\": 1, \"fastest_trip\": 1, \"car_duration_hours\": 0.24, \"competitive_route\": 1, \"bus_multiplier\": 1.75, \"bus_difference\": 10.8, \"num_trips\": 22, \"num_competitive\": 22, \"pct_trips_competitive\": 1.0, \"bus_difference_spread\": 0.5999999999999996, \"route_group\": \"short\", \"max_trip_hrs\": 0.43, \"max_trip_route_group\": 0.43, \"below_cutoff\": 22, \"pct_below_cutoff\": 1.0, \"name\": \"Mendocino Transit Authority\", \"caltrans_district\": \"01 - Eureka\", \"drmt_organization_name\": null, \"route_name\": \"Willits Local\", \"cutoff2\": 20, \"cutoff\": 2}, {\"calitp_itp_id\": 198, \"trip_key\": -1717090652485994299, \"trip_id\": \"t_1945551_b_33004_tn_0\", \"shape_id\": \"p_902318\", \"route_id\": \"228\", \"service_hours\": 0.42, \"trip_first_departure_ts\": 35580, \"trip_last_arrival_ts\": 37081, \"departure_hour\": 9, \"time_of_day\": \"AM Peak\", \"p25\": 0.42, \"p50\": 0.425, \"p75\": 0.43, \"p50_trip\": 1, \"fastest_trip\": 0, \"car_duration_hours\": 0.24, \"competitive_route\": 1, \"bus_multiplier\": 1.75, \"bus_difference\": 10.8, \"num_trips\": 22, \"num_competitive\": 22, \"pct_trips_competitive\": 1.0, \"bus_difference_spread\": 0.5999999999999996, \"route_group\": \"short\", \"max_trip_hrs\": 0.43, \"max_trip_route_group\": 0.43, \"below_cutoff\": 22, \"pct_below_cutoff\": 1.0, \"name\": \"Mendocino Transit Authority\", \"caltrans_district\": \"01 - Eureka\", \"drmt_organization_name\": null, \"route_name\": \"Willits Local\", \"cutoff2\": 20, \"cutoff\": 2}, {\"calitp_itp_id\": 198, \"trip_key\": 4710620586573080810, \"trip_id\": \"t_1945509_b_33004_tn_0\", \"shape_id\": \"p_3117\", \"route_id\": \"228\", \"service_hours\": 0.43, \"trip_first_departure_ts\": 37620, \"trip_last_arrival_ts\": 39180, \"departure_hour\": 10, \"time_of_day\": \"Midday\", \"p25\": 0.42, \"p50\": 0.425, \"p75\": 0.43, \"p50_trip\": 1, \"fastest_trip\": 0, \"car_duration_hours\": 0.24, \"competitive_route\": 1, \"bus_multiplier\": 1.79, \"bus_difference\": 11.4, \"num_trips\": 22, \"num_competitive\": 22, \"pct_trips_competitive\": 1.0, \"bus_difference_spread\": 0.5999999999999996, \"route_group\": \"short\", \"max_trip_hrs\": 0.43, \"max_trip_route_group\": 0.43, \"below_cutoff\": 22, \"pct_below_cutoff\": 1.0, \"name\": \"Mendocino Transit Authority\", \"caltrans_district\": \"01 - Eureka\", \"drmt_organization_name\": null, \"route_name\": \"Willits Local\", \"cutoff2\": 20, \"cutoff\": 2}, {\"calitp_itp_id\": 198, \"trip_key\": -3545396434068254968, \"trip_id\": \"t_1945512_b_33004_tn_0\", \"shape_id\": \"p_3117\", \"route_id\": \"228\", \"service_hours\": 0.43, \"trip_first_departure_ts\": 52020, \"trip_last_arrival_ts\": 53580, \"departure_hour\": 14, \"time_of_day\": \"Midday\", \"p25\": 0.42, \"p50\": 0.425, \"p75\": 0.43, \"p50_trip\": 1, \"fastest_trip\": 0, \"car_duration_hours\": 0.24, \"competitive_route\": 1, \"bus_multiplier\": 1.79, \"bus_difference\": 11.4, \"num_trips\": 22, \"num_competitive\": 22, \"pct_trips_competitive\": 1.0, \"bus_difference_spread\": 0.5999999999999996, \"route_group\": \"short\", \"max_trip_hrs\": 0.43, \"max_trip_route_group\": 0.43, \"below_cutoff\": 22, \"pct_below_cutoff\": 1.0, \"name\": \"Mendocino Transit Authority\", \"caltrans_district\": \"01 - Eureka\", \"drmt_organization_name\": null, \"route_name\": \"Willits Local\", \"cutoff2\": 20, \"cutoff\": 2}, {\"calitp_itp_id\": 198, \"trip_key\": 4155892938799833111, \"trip_id\": \"t_1945549_b_33004_tn_0\", \"shape_id\": \"p_3117\", \"route_id\": \"228\", \"service_hours\": 0.43, \"trip_first_departure_ts\": 48420, \"trip_last_arrival_ts\": 49980, \"departure_hour\": 13, \"time_of_day\": \"Midday\", \"p25\": 0.42, \"p50\": 0.425, \"p75\": 0.43, \"p50_trip\": 1, \"fastest_trip\": 0, \"car_duration_hours\": 0.24, \"competitive_route\": 1, \"bus_multiplier\": 1.79, \"bus_difference\": 11.4, \"num_trips\": 22, \"num_competitive\": 22, \"pct_trips_competitive\": 1.0, \"bus_difference_spread\": 0.5999999999999996, \"route_group\": \"short\", \"max_trip_hrs\": 0.43, \"max_trip_route_group\": 0.43, \"below_cutoff\": 22, \"pct_below_cutoff\": 1.0, \"name\": \"Mendocino Transit Authority\", \"caltrans_district\": \"01 - Eureka\", \"drmt_organization_name\": null, \"route_name\": \"Willits Local\", \"cutoff2\": 20, \"cutoff\": 2}, {\"calitp_itp_id\": 198, \"trip_key\": -5255804148381983774, \"trip_id\": \"t_1945515_b_33004_tn_0\", \"shape_id\": \"p_3117\", \"route_id\": \"228\", \"service_hours\": 0.43, \"trip_first_departure_ts\": 63720, \"trip_last_arrival_ts\": 65280, \"departure_hour\": 17, \"time_of_day\": \"PM Peak\", \"p25\": 0.42, \"p50\": 0.425, \"p75\": 0.43, \"p50_trip\": 1, \"fastest_trip\": 0, \"car_duration_hours\": 0.24, \"competitive_route\": 1, \"bus_multiplier\": 1.79, \"bus_difference\": 11.4, \"num_trips\": 22, \"num_competitive\": 22, \"pct_trips_competitive\": 1.0, \"bus_difference_spread\": 0.5999999999999996, \"route_group\": \"short\", \"max_trip_hrs\": 0.43, \"max_trip_route_group\": 0.43, \"below_cutoff\": 22, \"pct_below_cutoff\": 1.0, \"name\": \"Mendocino Transit Authority\", \"caltrans_district\": \"01 - Eureka\", \"drmt_organization_name\": null, \"route_name\": \"Willits Local\", \"cutoff2\": 20, \"cutoff\": 2}, {\"calitp_itp_id\": 198, \"trip_key\": -2613195794047038066, \"trip_id\": \"t_1945511_b_33004_tn_0\", \"shape_id\": \"p_3117\", \"route_id\": \"228\", \"service_hours\": 0.43, \"trip_first_departure_ts\": 44820, \"trip_last_arrival_ts\": 46380, \"departure_hour\": 12, \"time_of_day\": \"Midday\", \"p25\": 0.42, \"p50\": 0.425, \"p75\": 0.43, \"p50_trip\": 1, \"fastest_trip\": 0, \"car_duration_hours\": 0.24, \"competitive_route\": 1, \"bus_multiplier\": 1.79, \"bus_difference\": 11.4, \"num_trips\": 22, \"num_competitive\": 22, \"pct_trips_competitive\": 1.0, \"bus_difference_spread\": 0.5999999999999996, \"route_group\": \"short\", \"max_trip_hrs\": 0.43, \"max_trip_route_group\": 0.43, \"below_cutoff\": 22, \"pct_below_cutoff\": 1.0, \"name\": \"Mendocino Transit Authority\", \"caltrans_district\": \"01 - Eureka\", \"drmt_organization_name\": null, \"route_name\": \"Willits Local\", \"cutoff2\": 20, \"cutoff\": 2}, {\"calitp_itp_id\": 198, \"trip_key\": 2647717210138946807, \"trip_id\": \"t_1945513_b_33004_tn_0\", \"shape_id\": \"p_3117\", \"route_id\": \"228\", \"service_hours\": 0.43, \"trip_first_departure_ts\": 55620, \"trip_last_arrival_ts\": 57180, \"departure_hour\": 15, \"time_of_day\": \"Midday\", \"p25\": 0.42, \"p50\": 0.425, \"p75\": 0.43, \"p50_trip\": 1, \"fastest_trip\": 0, \"car_duration_hours\": 0.24, \"competitive_route\": 1, \"bus_multiplier\": 1.79, \"bus_difference\": 11.4, \"num_trips\": 22, \"num_competitive\": 22, \"pct_trips_competitive\": 1.0, \"bus_difference_spread\": 0.5999999999999996, \"route_group\": \"short\", \"max_trip_hrs\": 0.43, \"max_trip_route_group\": 0.43, \"below_cutoff\": 22, \"pct_below_cutoff\": 1.0, \"name\": \"Mendocino Transit Authority\", \"caltrans_district\": \"01 - Eureka\", \"drmt_organization_name\": null, \"route_name\": \"Willits Local\", \"cutoff2\": 20, \"cutoff\": 2}, {\"calitp_itp_id\": 198, \"trip_key\": 958336978338138413, \"trip_id\": \"t_1945550_b_33004_tn_0\", \"shape_id\": \"p_3117\", \"route_id\": \"228\", \"service_hours\": 0.43, \"trip_first_departure_ts\": 34020, \"trip_last_arrival_ts\": 35580, \"departure_hour\": 9, \"time_of_day\": \"AM Peak\", \"p25\": 0.42, \"p50\": 0.425, \"p75\": 0.43, \"p50_trip\": 1, \"fastest_trip\": 0, \"car_duration_hours\": 0.24, \"competitive_route\": 1, \"bus_multiplier\": 1.79, \"bus_difference\": 11.4, \"num_trips\": 22, \"num_competitive\": 22, \"pct_trips_competitive\": 1.0, \"bus_difference_spread\": 0.5999999999999996, \"route_group\": \"short\", \"max_trip_hrs\": 0.43, \"max_trip_route_group\": 0.43, \"below_cutoff\": 22, \"pct_below_cutoff\": 1.0, \"name\": \"Mendocino Transit Authority\", \"caltrans_district\": \"01 - Eureka\", \"drmt_organization_name\": null, \"route_name\": \"Willits Local\", \"cutoff2\": 20, \"cutoff\": 2}, {\"calitp_itp_id\": 198, \"trip_key\": -2727218293918899080, \"trip_id\": \"t_1945545_b_33004_tn_0\", \"shape_id\": \"p_3117\", \"route_id\": \"228\", \"service_hours\": 0.43, \"trip_first_departure_ts\": 25920, \"trip_last_arrival_ts\": 27480, \"departure_hour\": 7, \"time_of_day\": \"AM Peak\", \"p25\": 0.42, \"p50\": 0.425, \"p75\": 0.43, \"p50_trip\": 1, \"fastest_trip\": 0, \"car_duration_hours\": 0.24, \"competitive_route\": 1, \"bus_multiplier\": 1.79, \"bus_difference\": 11.4, \"num_trips\": 22, \"num_competitive\": 22, \"pct_trips_competitive\": 1.0, \"bus_difference_spread\": 0.5999999999999996, \"route_group\": \"short\", \"max_trip_hrs\": 0.43, \"max_trip_route_group\": 0.43, \"below_cutoff\": 22, \"pct_below_cutoff\": 1.0, \"name\": \"Mendocino Transit Authority\", \"caltrans_district\": \"01 - Eureka\", \"drmt_organization_name\": null, \"route_name\": \"Willits Local\", \"cutoff2\": 20, \"cutoff\": 2}, {\"calitp_itp_id\": 198, \"trip_key\": -7860257494144024374, \"trip_id\": \"t_1945510_b_33004_tn_0\", \"shape_id\": \"p_3117\", \"route_id\": \"228\", \"service_hours\": 0.43, \"trip_first_departure_ts\": 41220, \"trip_last_arrival_ts\": 42780, \"departure_hour\": 11, \"time_of_day\": \"Midday\", \"p25\": 0.42, \"p50\": 0.425, \"p75\": 0.43, \"p50_trip\": 1, \"fastest_trip\": 0, \"car_duration_hours\": 0.24, \"competitive_route\": 1, \"bus_multiplier\": 1.79, \"bus_difference\": 11.4, \"num_trips\": 22, \"num_competitive\": 22, \"pct_trips_competitive\": 1.0, \"bus_difference_spread\": 0.5999999999999996, \"route_group\": \"short\", \"max_trip_hrs\": 0.43, \"max_trip_route_group\": 0.43, \"below_cutoff\": 22, \"pct_below_cutoff\": 1.0, \"name\": \"Mendocino Transit Authority\", \"caltrans_district\": \"01 - Eureka\", \"drmt_organization_name\": null, \"route_name\": \"Willits Local\", \"cutoff2\": 20, \"cutoff\": 2}, {\"calitp_itp_id\": 198, \"trip_key\": -6576238807823169045, \"trip_id\": \"t_1945514_b_33004_tn_0\", \"shape_id\": \"p_3117\", \"route_id\": \"228\", \"service_hours\": 0.43, \"trip_first_departure_ts\": 59220, \"trip_last_arrival_ts\": 60780, \"departure_hour\": 16, \"time_of_day\": \"Midday\", \"p25\": 0.42, \"p50\": 0.425, \"p75\": 0.43, \"p50_trip\": 1, \"fastest_trip\": 0, \"car_duration_hours\": 0.24, \"competitive_route\": 1, \"bus_multiplier\": 1.79, \"bus_difference\": 11.4, \"num_trips\": 22, \"num_competitive\": 22, \"pct_trips_competitive\": 1.0, \"bus_difference_spread\": 0.5999999999999996, \"route_group\": \"short\", \"max_trip_hrs\": 0.43, \"max_trip_route_group\": 0.43, \"below_cutoff\": 22, \"pct_below_cutoff\": 1.0, \"name\": \"Mendocino Transit Authority\", \"caltrans_district\": \"01 - Eureka\", \"drmt_organization_name\": null, \"route_name\": \"Willits Local\", \"cutoff2\": 20, \"cutoff\": 2}, {\"calitp_itp_id\": 198, \"trip_key\": 5064161551853401997, \"trip_id\": \"t_1945548_b_33004_tn_1\", \"shape_id\": \"p_3117\", \"route_id\": \"228\", \"service_hours\": 0.43, \"trip_first_departure_ts\": 29520, \"trip_last_arrival_ts\": 31080, \"departure_hour\": 8, \"time_of_day\": \"AM Peak\", \"p25\": 0.42, \"p50\": 0.425, \"p75\": 0.43, \"p50_trip\": 1, \"fastest_trip\": 0, \"car_duration_hours\": 0.24, \"competitive_route\": 1, \"bus_multiplier\": 1.79, \"bus_difference\": 11.4, \"num_trips\": 22, \"num_competitive\": 22, \"pct_trips_competitive\": 1.0, \"bus_difference_spread\": 0.5999999999999996, \"route_group\": \"short\", \"max_trip_hrs\": 0.43, \"max_trip_route_group\": 0.43, \"below_cutoff\": 22, \"pct_below_cutoff\": 1.0, \"name\": \"Mendocino Transit Authority\", \"caltrans_district\": \"01 - Eureka\", \"drmt_organization_name\": null, \"route_name\": \"Willits Local\", \"cutoff2\": 20, \"cutoff\": 2}, {\"calitp_itp_id\": 198, \"trip_key\": 6407799142247012981, \"trip_id\": \"t_1945566_b_33004_tn_0\", \"shape_id\": \"p_1276513\", \"route_id\": \"232\", \"service_hours\": 0.65, \"trip_first_departure_ts\": 25440, \"trip_last_arrival_ts\": 27780, \"departure_hour\": 7, \"time_of_day\": \"AM Peak\", \"p25\": 0.71, \"p50\": 0.79, \"p75\": 0.8274999999999999, \"p50_trip\": 0, \"fastest_trip\": 1, \"car_duration_hours\": 0.47, \"competitive_route\": 1, \"bus_multiplier\": 1.38, \"bus_difference\": 10.8, \"num_trips\": 12, \"num_competitive\": 12, \"pct_trips_competitive\": 1.0, \"bus_difference_spread\": 12.0, \"route_group\": \"short\", \"max_trip_hrs\": 0.85, \"max_trip_route_group\": 0.85, \"below_cutoff\": 8, \"pct_below_cutoff\": 0.6666666666666666, \"name\": \"Mendocino Transit Authority\", \"caltrans_district\": \"01 - Eureka\", \"drmt_organization_name\": null, \"route_name\": \"Willits / Ukiah\", \"cutoff2\": 20, \"cutoff\": 2}, {\"calitp_itp_id\": 198, \"trip_key\": 7874311545554239664, \"trip_id\": \"t_1945504_b_33004_tn_0\", \"shape_id\": \"p_899413\", \"route_id\": \"232\", \"service_hours\": 0.67, \"trip_first_departure_ts\": 28080, \"trip_last_arrival_ts\": 30480, \"departure_hour\": 7, \"time_of_day\": \"AM Peak\", \"p25\": 0.71, \"p50\": 0.79, \"p75\": 0.8274999999999999, \"p50_trip\": 0, \"fastest_trip\": 0, \"car_duration_hours\": 0.47, \"competitive_route\": 1, \"bus_multiplier\": 1.43, \"bus_difference\": 12.0, \"num_trips\": 12, \"num_competitive\": 12, \"pct_trips_competitive\": 1.0, \"bus_difference_spread\": 12.0, \"route_group\": \"short\", \"max_trip_hrs\": 0.85, \"max_trip_route_group\": 0.85, \"below_cutoff\": 8, \"pct_below_cutoff\": 0.6666666666666666, \"name\": \"Mendocino Transit Authority\", \"caltrans_district\": \"01 - Eureka\", \"drmt_organization_name\": null, \"route_name\": \"Willits / Ukiah\", \"cutoff2\": 20, \"cutoff\": 2}, {\"calitp_itp_id\": 198, \"trip_key\": -415892452663826652, \"trip_id\": \"t_1945564_b_33004_tn_0\", \"shape_id\": \"p_1276515\", \"route_id\": \"232\", \"service_hours\": 0.68, \"trip_first_departure_ts\": 29880, \"trip_last_arrival_ts\": 32340, \"departure_hour\": 8, \"time_of_day\": \"AM Peak\", \"p25\": 0.71, \"p50\": 0.79, \"p75\": 0.8274999999999999, \"p50_trip\": 0, \"fastest_trip\": 0, \"car_duration_hours\": 0.47, \"competitive_route\": 1, \"bus_multiplier\": 1.45, \"bus_difference\": 12.6, \"num_trips\": 12, \"num_competitive\": 12, \"pct_trips_competitive\": 1.0, \"bus_difference_spread\": 12.0, \"route_group\": \"short\", \"max_trip_hrs\": 0.85, \"max_trip_route_group\": 0.85, \"below_cutoff\": 8, \"pct_below_cutoff\": 0.6666666666666666, \"name\": \"Mendocino Transit Authority\", \"caltrans_district\": \"01 - Eureka\", \"drmt_organization_name\": null, \"route_name\": \"Willits / Ukiah\", \"cutoff2\": 20, \"cutoff\": 2}, {\"calitp_itp_id\": 198, \"trip_key\": 2406590054658703546, \"trip_id\": \"t_1945505_b_33004_tn_0\", \"shape_id\": \"p_899415\", \"route_id\": \"232\", \"service_hours\": 0.72, \"trip_first_departure_ts\": 60000, \"trip_last_arrival_ts\": 62580, \"departure_hour\": 16, \"time_of_day\": \"Midday\", \"p25\": 0.71, \"p50\": 0.79, \"p75\": 0.8274999999999999, \"p50_trip\": 0, \"fastest_trip\": 0, \"car_duration_hours\": 0.47, \"competitive_route\": 1, \"bus_multiplier\": 1.53, \"bus_difference\": 15.0, \"num_trips\": 12, \"num_competitive\": 12, \"pct_trips_competitive\": 1.0, \"bus_difference_spread\": 12.0, \"route_group\": \"short\", \"max_trip_hrs\": 0.85, \"max_trip_route_group\": 0.85, \"below_cutoff\": 8, \"pct_below_cutoff\": 0.6666666666666666, \"name\": \"Mendocino Transit Authority\", \"caltrans_district\": \"01 - Eureka\", \"drmt_organization_name\": null, \"route_name\": \"Willits / Ukiah\", \"cutoff2\": 20, \"cutoff\": 2}, {\"calitp_itp_id\": 198, \"trip_key\": -2952627637866517054, \"trip_id\": \"t_1945567_b_33004_tn_0\", \"shape_id\": \"p_1276520\", \"route_id\": \"232\", \"service_hours\": 0.75, \"trip_first_departure_ts\": 64200, \"trip_last_arrival_ts\": 66900, \"departure_hour\": 17, \"time_of_day\": \"PM Peak\", \"p25\": 0.71, \"p50\": 0.79, \"p75\": 0.8274999999999999, \"p50_trip\": 0, \"fastest_trip\": 0, \"car_duration_hours\": 0.47, \"competitive_route\": 1, \"bus_multiplier\": 1.6, \"bus_difference\": 16.8, \"num_trips\": 12, \"num_competitive\": 12, \"pct_trips_competitive\": 1.0, \"bus_difference_spread\": 12.0, \"route_group\": \"short\", \"max_trip_hrs\": 0.85, \"max_trip_route_group\": 0.85, \"below_cutoff\": 8, \"pct_below_cutoff\": 0.6666666666666666, \"name\": \"Mendocino Transit Authority\", \"caltrans_district\": \"01 - Eureka\", \"drmt_organization_name\": null, \"route_name\": \"Willits / Ukiah\", \"cutoff2\": 20, \"cutoff\": 2}, {\"calitp_itp_id\": 198, \"trip_key\": 300015568609234889, \"trip_id\": \"t_1945506_b_33004_tn_0\", \"shape_id\": \"p_899411\", \"route_id\": \"232\", \"service_hours\": 0.78, \"trip_first_departure_ts\": 56700, \"trip_last_arrival_ts\": 59520, \"departure_hour\": 15, \"time_of_day\": \"Midday\", \"p25\": 0.71, \"p50\": 0.79, \"p75\": 0.8274999999999999, \"p50_trip\": 1, \"fastest_trip\": 0, \"car_duration_hours\": 0.47, \"competitive_route\": 1, \"bus_multiplier\": 1.66, \"bus_difference\": 18.6, \"num_trips\": 12, \"num_competitive\": 12, \"pct_trips_competitive\": 1.0, \"bus_difference_spread\": 12.0, \"route_group\": \"short\", \"max_trip_hrs\": 0.85, \"max_trip_route_group\": 0.85, \"below_cutoff\": 8, \"pct_below_cutoff\": 0.6666666666666666, \"name\": \"Mendocino Transit Authority\", \"caltrans_district\": \"01 - Eureka\", \"drmt_organization_name\": null, \"route_name\": \"Willits / Ukiah\", \"cutoff2\": 20, \"cutoff\": 2}, {\"calitp_itp_id\": 198, \"trip_key\": -1911337367374937544, \"trip_id\": \"t_1945565_b_33004_tn_0\", \"shape_id\": \"p_111346\", \"route_id\": \"232\", \"service_hours\": 0.8, \"trip_first_departure_ts\": 41100, \"trip_last_arrival_ts\": 43980, \"departure_hour\": 11, \"time_of_day\": \"Midday\", \"p25\": 0.71, \"p50\": 0.79, \"p75\": 0.8274999999999999, \"p50_trip\": 1, \"fastest_trip\": 0, \"car_duration_hours\": 0.47, \"competitive_route\": 1, \"bus_multiplier\": 1.7, \"bus_difference\": 19.8, \"num_trips\": 12, \"num_competitive\": 12, \"pct_trips_competitive\": 1.0, \"bus_difference_spread\": 12.0, \"route_group\": \"short\", \"max_trip_hrs\": 0.85, \"max_trip_route_group\": 0.85, \"below_cutoff\": 8, \"pct_below_cutoff\": 0.6666666666666666, \"name\": \"Mendocino Transit Authority\", \"caltrans_district\": \"01 - Eureka\", \"drmt_organization_name\": null, \"route_name\": \"Willits / Ukiah\", \"cutoff2\": 20, \"cutoff\": 2}, {\"calitp_itp_id\": 198, \"trip_key\": -2471638137922488736, \"trip_id\": \"t_1945543_b_33004_tn_0\", \"shape_id\": \"p_8785\", \"route_id\": \"232\", \"service_hours\": 0.8, \"trip_first_departure_ts\": 48300, \"trip_last_arrival_ts\": 51180, \"departure_hour\": 13, \"time_of_day\": \"Midday\", \"p25\": 0.71, \"p50\": 0.79, \"p75\": 0.8274999999999999, \"p50_trip\": 1, \"fastest_trip\": 0, \"car_duration_hours\": 0.47, \"competitive_route\": 1, \"bus_multiplier\": 1.7, \"bus_difference\": 19.8, \"num_trips\": 12, \"num_competitive\": 12, \"pct_trips_competitive\": 1.0, \"bus_difference_spread\": 12.0, \"route_group\": \"short\", \"max_trip_hrs\": 0.85, \"max_trip_route_group\": 0.85, \"below_cutoff\": 8, \"pct_below_cutoff\": 0.6666666666666666, \"name\": \"Mendocino Transit Authority\", \"caltrans_district\": \"01 - Eureka\", \"drmt_organization_name\": null, \"route_name\": \"Willits / Ukiah\", \"cutoff2\": 20, \"cutoff\": 2}, {\"calitp_itp_id\": 198, \"trip_key\": 8389865155287738912, \"trip_id\": \"t_1945568_b_33004_tn_0\", \"shape_id\": \"p_1276522\", \"route_id\": \"232\", \"service_hours\": 0.82, \"trip_first_departure_ts\": 24660, \"trip_last_arrival_ts\": 27600, \"departure_hour\": 6, \"time_of_day\": \"Owl Service\", \"p25\": 0.71, \"p50\": 0.79, \"p75\": 0.8274999999999999, \"p50_trip\": 0, \"fastest_trip\": 0, \"car_duration_hours\": 0.47, \"competitive_route\": 1, \"bus_multiplier\": 1.74, \"bus_difference\": 21.0, \"num_trips\": 12, \"num_competitive\": 12, \"pct_trips_competitive\": 1.0, \"bus_difference_spread\": 12.0, \"route_group\": \"short\", \"max_trip_hrs\": 0.85, \"max_trip_route_group\": 0.85, \"below_cutoff\": 8, \"pct_below_cutoff\": 0.6666666666666666, \"name\": \"Mendocino Transit Authority\", \"caltrans_district\": \"01 - Eureka\", \"drmt_organization_name\": null, \"route_name\": \"Willits / Ukiah\", \"cutoff2\": 20, \"cutoff\": 2}, {\"calitp_itp_id\": 198, \"trip_key\": 8939757218210664718, \"trip_id\": \"t_1945507_b_33004_tn_0\", \"shape_id\": \"p_1276522\", \"route_id\": \"232\", \"service_hours\": 0.85, \"trip_first_departure_ts\": 44340, \"trip_last_arrival_ts\": 47400, \"departure_hour\": 12, \"time_of_day\": \"Midday\", \"p25\": 0.71, \"p50\": 0.79, \"p75\": 0.8274999999999999, \"p50_trip\": 0, \"fastest_trip\": 0, \"car_duration_hours\": 0.47, \"competitive_route\": 1, \"bus_multiplier\": 1.81, \"bus_difference\": 22.8, \"num_trips\": 12, \"num_competitive\": 12, \"pct_trips_competitive\": 1.0, \"bus_difference_spread\": 12.0, \"route_group\": \"short\", \"max_trip_hrs\": 0.85, \"max_trip_route_group\": 0.85, \"below_cutoff\": 8, \"pct_below_cutoff\": 0.6666666666666666, \"name\": \"Mendocino Transit Authority\", \"caltrans_district\": \"01 - Eureka\", \"drmt_organization_name\": null, \"route_name\": \"Willits / Ukiah\", \"cutoff2\": 20, \"cutoff\": 2}, {\"calitp_itp_id\": 198, \"trip_key\": -2734594082350485790, \"trip_id\": \"t_1945544_b_33004_tn_0\", \"shape_id\": \"p_1276522\", \"route_id\": \"232\", \"service_hours\": 0.85, \"trip_first_departure_ts\": 33840, \"trip_last_arrival_ts\": 36900, \"departure_hour\": 9, \"time_of_day\": \"AM Peak\", \"p25\": 0.71, \"p50\": 0.79, \"p75\": 0.8274999999999999, \"p50_trip\": 0, \"fastest_trip\": 0, \"car_duration_hours\": 0.47, \"competitive_route\": 1, \"bus_multiplier\": 1.81, \"bus_difference\": 22.8, \"num_trips\": 12, \"num_competitive\": 12, \"pct_trips_competitive\": 1.0, \"bus_difference_spread\": 12.0, \"route_group\": \"short\", \"max_trip_hrs\": 0.85, \"max_trip_route_group\": 0.85, \"below_cutoff\": 8, \"pct_below_cutoff\": 0.6666666666666666, \"name\": \"Mendocino Transit Authority\", \"caltrans_district\": \"01 - Eureka\", \"drmt_organization_name\": null, \"route_name\": \"Willits / Ukiah\", \"cutoff2\": 20, \"cutoff\": 2}, {\"calitp_itp_id\": 198, \"trip_key\": -3562096048323000906, \"trip_id\": \"t_1945508_b_33004_tn_0\", \"shape_id\": \"p_1276523\", \"route_id\": \"232\", \"service_hours\": 0.85, \"trip_first_departure_ts\": 53940, \"trip_last_arrival_ts\": 57000, \"departure_hour\": 14, \"time_of_day\": \"Midday\", \"p25\": 0.71, \"p50\": 0.79, \"p75\": 0.8274999999999999, \"p50_trip\": 0, \"fastest_trip\": 0, \"car_duration_hours\": 0.47, \"competitive_route\": 1, \"bus_multiplier\": 1.81, \"bus_difference\": 22.8, \"num_trips\": 12, \"num_competitive\": 12, \"pct_trips_competitive\": 1.0, \"bus_difference_spread\": 12.0, \"route_group\": \"short\", \"max_trip_hrs\": 0.85, \"max_trip_route_group\": 0.85, \"below_cutoff\": 8, \"pct_below_cutoff\": 0.6666666666666666, \"name\": \"Mendocino Transit Authority\", \"caltrans_district\": \"01 - Eureka\", \"drmt_organization_name\": null, \"route_name\": \"Willits / Ukiah\", \"cutoff2\": 20, \"cutoff\": 2}]}}, {\"mode\": \"vega-lite\"});\n",
       "</script>"
      ],
      "text/plain": [
       "alt.FacetChart(...)"
      ]
     },
     "metadata": {},
     "output_type": "display_data"
    },
    {
     "data": {
      "text/html": [
       "\n",
       "<div id=\"altair-viz-2b89c1b727154ffdabfcf28919fe4b7e\"></div>\n",
       "<script type=\"text/javascript\">\n",
       "  var VEGA_DEBUG = (typeof VEGA_DEBUG == \"undefined\") ? {} : VEGA_DEBUG;\n",
       "  (function(spec, embedOpt){\n",
       "    let outputDiv = document.currentScript.previousElementSibling;\n",
       "    if (outputDiv.id !== \"altair-viz-2b89c1b727154ffdabfcf28919fe4b7e\") {\n",
       "      outputDiv = document.getElementById(\"altair-viz-2b89c1b727154ffdabfcf28919fe4b7e\");\n",
       "    }\n",
       "    const paths = {\n",
       "      \"vega\": \"https://cdn.jsdelivr.net/npm//vega@5?noext\",\n",
       "      \"vega-lib\": \"https://cdn.jsdelivr.net/npm//vega-lib?noext\",\n",
       "      \"vega-lite\": \"https://cdn.jsdelivr.net/npm//vega-lite@4.17.0?noext\",\n",
       "      \"vega-embed\": \"https://cdn.jsdelivr.net/npm//vega-embed@6?noext\",\n",
       "    };\n",
       "\n",
       "    function maybeLoadScript(lib, version) {\n",
       "      var key = `${lib.replace(\"-\", \"\")}_version`;\n",
       "      return (VEGA_DEBUG[key] == version) ?\n",
       "        Promise.resolve(paths[lib]) :\n",
       "        new Promise(function(resolve, reject) {\n",
       "          var s = document.createElement('script');\n",
       "          document.getElementsByTagName(\"head\")[0].appendChild(s);\n",
       "          s.async = true;\n",
       "          s.onload = () => {\n",
       "            VEGA_DEBUG[key] = version;\n",
       "            return resolve(paths[lib]);\n",
       "          };\n",
       "          s.onerror = () => reject(`Error loading script: ${paths[lib]}`);\n",
       "          s.src = paths[lib];\n",
       "        });\n",
       "    }\n",
       "\n",
       "    function showError(err) {\n",
       "      outputDiv.innerHTML = `<div class=\"error\" style=\"color:red;\">${err}</div>`;\n",
       "      throw err;\n",
       "    }\n",
       "\n",
       "    function displayChart(vegaEmbed) {\n",
       "      vegaEmbed(outputDiv, spec, embedOpt)\n",
       "        .catch(err => showError(`Javascript Error: ${err.message}<br>This usually means there's a typo in your chart specification. See the javascript console for the full traceback.`));\n",
       "    }\n",
       "\n",
       "    if(typeof define === \"function\" && define.amd) {\n",
       "      requirejs.config({paths});\n",
       "      require([\"vega-embed\"], displayChart, err => showError(`Error loading script: ${err.message}`));\n",
       "    } else {\n",
       "      maybeLoadScript(\"vega\", \"5\")\n",
       "        .then(() => maybeLoadScript(\"vega-lite\", \"4.17.0\"))\n",
       "        .then(() => maybeLoadScript(\"vega-embed\", \"6\"))\n",
       "        .catch(showError)\n",
       "        .then(() => displayChart(vegaEmbed));\n",
       "    }\n",
       "  })({\"config\": {\"view\": {\"continuousWidth\": 400, \"continuousHeight\": 300, \"stroke\": null}, \"facet\": {\"spacing\": 0}}, \"data\": {\"name\": \"data-e416ddb1c8fefd349109f6a6532dd1cc\"}, \"facet\": {\"column\": {\"field\": \"route_id\", \"sort\": [\"228\", \"232\"], \"title\": \"Route ID\", \"type\": \"nominal\"}}, \"spec\": {\"layer\": [{\"mark\": \"rule\", \"encoding\": {\"color\": {\"value\": \"black\"}, \"y\": {\"field\": \"cutoff\", \"type\": \"quantitative\"}}, \"selection\": {\"selector002\": {\"type\": \"interval\", \"bind\": \"scales\", \"encodings\": [\"x\", \"y\"]}}}, {\"mark\": {\"type\": \"rule\", \"strokeDash\": [3, 3]}, \"encoding\": {\"color\": {\"value\": \"#323434\"}, \"y\": {\"field\": \"cutoff2\", \"type\": \"quantitative\"}}}, {\"mark\": {\"type\": \"point\", \"opacity\": 0.65, \"size\": 12, \"strokeWidth\": 1.1}, \"encoding\": {\"color\": {\"field\": \"time_of_day\", \"scale\": {\"range\": [\"#136C97\", \"#E16B26\", \"#F6BF16\", \"#00896B\", \"#7790A3\", \"#5B559C\"]}, \"sort\": [\"AM Peak\", \"Midday\", \"PM Peak\", \"Owl Service\"], \"title\": \"Time of Day\", \"type\": \"nominal\"}, \"tooltip\": [{\"field\": \"route_id\", \"type\": \"nominal\"}, {\"field\": \"route_name\", \"type\": \"nominal\"}, {\"field\": \"trip_id\", \"type\": \"nominal\"}, {\"field\": \"service_hours\", \"type\": \"quantitative\"}, {\"field\": \"car_duration_hours\", \"type\": \"quantitative\"}, {\"field\": \"bus_multiplier\", \"type\": \"quantitative\"}, {\"field\": \"bus_difference\", \"type\": \"quantitative\"}, {\"field\": \"num_trips\", \"type\": \"quantitative\"}, {\"field\": \"num_competitive\", \"type\": \"quantitative\"}, {\"field\": \"pct_trips_competitive\", \"type\": \"quantitative\"}, {\"field\": \"p25\", \"type\": \"quantitative\"}, {\"field\": \"p50\", \"type\": \"quantitative\"}, {\"field\": \"p75\", \"type\": \"quantitative\"}], \"x\": {\"axis\": {\"grid\": false, \"labels\": false, \"ticks\": true, \"values\": [0]}, \"field\": \"jitter\", \"scale\": {}, \"title\": null, \"type\": \"quantitative\"}, \"y\": {\"field\": \"bus_difference\", \"scale\": {\"domain\": [-5, 89.4]}, \"title\": \"Difference in Bus to Car Travel Time (min)\", \"type\": \"quantitative\"}}, \"transform\": [{\"calculate\": \"sqrt(-2*log(random()))*cos(2*PI*random())\", \"as\": \"jitter\"}], \"width\": 50}, {\"layer\": [{\"mark\": {\"type\": \"point\", \"opacity\": 0.6, \"size\": 20, \"strokeWidth\": 1.3}, \"encoding\": {\"color\": {\"value\": \"#323434\"}, \"y\": {\"field\": \"bus_difference\", \"type\": \"quantitative\"}}, \"transform\": [{\"filter\": \"(datum.p50_trip === 1)\"}]}, {\"mark\": {\"type\": \"text\", \"align\": \"center\", \"baseline\": \"middle\"}, \"encoding\": {\"color\": {\"value\": \"black\"}, \"text\": {\"field\": \"pct_trips_competitive\", \"format\": \".0%\", \"type\": \"quantitative\"}, \"tooltip\": [{\"field\": \"route_id\", \"type\": \"nominal\"}, {\"field\": \"route_name\", \"type\": \"nominal\"}, {\"field\": \"trip_id\", \"type\": \"nominal\"}, {\"field\": \"service_hours\", \"type\": \"quantitative\"}, {\"field\": \"car_duration_hours\", \"type\": \"quantitative\"}, {\"field\": \"bus_multiplier\", \"type\": \"quantitative\"}, {\"field\": \"bus_difference\", \"type\": \"quantitative\"}, {\"field\": \"num_trips\", \"type\": \"quantitative\"}, {\"field\": \"num_competitive\", \"type\": \"quantitative\"}, {\"field\": \"pct_trips_competitive\", \"type\": \"quantitative\"}, {\"field\": \"p25\", \"type\": \"quantitative\"}, {\"field\": \"p50\", \"type\": \"quantitative\"}, {\"field\": \"p75\", \"type\": \"quantitative\"}], \"x\": {\"value\": 30}, \"y\": {\"value\": 15}}, \"transform\": [{\"calculate\": \"sqrt(-2*log(random()))*cos(2*PI*random())\", \"as\": \"jitter\"}, {\"filter\": \"(datum.fastest_trip === 1)\"}]}]}]}, \"resolve\": {\"scale\": {\"y\": \"shared\"}}, \"title\": \"Difference in Bus to Car Travel Time (min)\", \"$schema\": \"https://vega.github.io/schema/vega-lite/v4.17.0.json\", \"datasets\": {\"data-e416ddb1c8fefd349109f6a6532dd1cc\": [{\"calitp_itp_id\": 198, \"trip_key\": -3821498970512423514, \"trip_id\": \"t_1945535_b_33004_tn_0\", \"shape_id\": \"p_902318\", \"route_id\": \"228\", \"service_hours\": 0.42, \"trip_first_departure_ts\": 46380, \"trip_last_arrival_ts\": 47881, \"departure_hour\": 12, \"time_of_day\": \"Midday\", \"p25\": 0.42, \"p50\": 0.425, \"p75\": 0.43, \"p50_trip\": 1, \"fastest_trip\": 0, \"car_duration_hours\": 0.24, \"competitive_route\": 1, \"bus_multiplier\": 1.75, \"bus_difference\": 10.8, \"num_trips\": 22, \"num_competitive\": 22, \"pct_trips_competitive\": 1.0, \"bus_difference_spread\": 0.5999999999999996, \"route_group\": \"short\", \"max_trip_hrs\": 0.43, \"max_trip_route_group\": 0.43, \"below_cutoff\": 22, \"pct_below_cutoff\": 1.0, \"name\": \"Mendocino Transit Authority\", \"caltrans_district\": \"01 - Eureka\", \"drmt_organization_name\": null, \"route_name\": \"Willits Local\", \"cutoff2\": 20, \"cutoff\": 0}, {\"calitp_itp_id\": 198, \"trip_key\": 7165344805685707348, \"trip_id\": \"t_1945537_b_33004_tn_0\", \"shape_id\": \"p_902318\", \"route_id\": \"228\", \"service_hours\": 0.42, \"trip_first_departure_ts\": 57180, \"trip_last_arrival_ts\": 58681, \"departure_hour\": 15, \"time_of_day\": \"Midday\", \"p25\": 0.42, \"p50\": 0.425, \"p75\": 0.43, \"p50_trip\": 1, \"fastest_trip\": 0, \"car_duration_hours\": 0.24, \"competitive_route\": 1, \"bus_multiplier\": 1.75, \"bus_difference\": 10.8, \"num_trips\": 22, \"num_competitive\": 22, \"pct_trips_competitive\": 1.0, \"bus_difference_spread\": 0.5999999999999996, \"route_group\": \"short\", \"max_trip_hrs\": 0.43, \"max_trip_route_group\": 0.43, \"below_cutoff\": 22, \"pct_below_cutoff\": 1.0, \"name\": \"Mendocino Transit Authority\", \"caltrans_district\": \"01 - Eureka\", \"drmt_organization_name\": null, \"route_name\": \"Willits Local\", \"cutoff2\": 20, \"cutoff\": 0}, {\"calitp_itp_id\": 198, \"trip_key\": -7302998507075712861, \"trip_id\": \"t_1945538_b_33004_tn_0\", \"shape_id\": \"p_902318\", \"route_id\": \"228\", \"service_hours\": 0.42, \"trip_first_departure_ts\": 60780, \"trip_last_arrival_ts\": 62281, \"departure_hour\": 16, \"time_of_day\": \"Midday\", \"p25\": 0.42, \"p50\": 0.425, \"p75\": 0.43, \"p50_trip\": 1, \"fastest_trip\": 0, \"car_duration_hours\": 0.24, \"competitive_route\": 1, \"bus_multiplier\": 1.75, \"bus_difference\": 10.8, \"num_trips\": 22, \"num_competitive\": 22, \"pct_trips_competitive\": 1.0, \"bus_difference_spread\": 0.5999999999999996, \"route_group\": \"short\", \"max_trip_hrs\": 0.43, \"max_trip_route_group\": 0.43, \"below_cutoff\": 22, \"pct_below_cutoff\": 1.0, \"name\": \"Mendocino Transit Authority\", \"caltrans_district\": \"01 - Eureka\", \"drmt_organization_name\": null, \"route_name\": \"Willits Local\", \"cutoff2\": 20, \"cutoff\": 0}, {\"calitp_itp_id\": 198, \"trip_key\": 2690806896856807706, \"trip_id\": \"t_1945536_b_33004_tn_0\", \"shape_id\": \"p_902318\", \"route_id\": \"228\", \"service_hours\": 0.42, \"trip_first_departure_ts\": 53580, \"trip_last_arrival_ts\": 55081, \"departure_hour\": 14, \"time_of_day\": \"Midday\", \"p25\": 0.42, \"p50\": 0.425, \"p75\": 0.43, \"p50_trip\": 1, \"fastest_trip\": 0, \"car_duration_hours\": 0.24, \"competitive_route\": 1, \"bus_multiplier\": 1.75, \"bus_difference\": 10.8, \"num_trips\": 22, \"num_competitive\": 22, \"pct_trips_competitive\": 1.0, \"bus_difference_spread\": 0.5999999999999996, \"route_group\": \"short\", \"max_trip_hrs\": 0.43, \"max_trip_route_group\": 0.43, \"below_cutoff\": 22, \"pct_below_cutoff\": 1.0, \"name\": \"Mendocino Transit Authority\", \"caltrans_district\": \"01 - Eureka\", \"drmt_organization_name\": null, \"route_name\": \"Willits Local\", \"cutoff2\": 20, \"cutoff\": 0}, {\"calitp_itp_id\": 198, \"trip_key\": 4106086861605117829, \"trip_id\": \"t_1945553_b_33004_tn_1\", \"shape_id\": \"p_902318\", \"route_id\": \"228\", \"service_hours\": 0.42, \"trip_first_departure_ts\": 31080, \"trip_last_arrival_ts\": 32581, \"departure_hour\": 8, \"time_of_day\": \"AM Peak\", \"p25\": 0.42, \"p50\": 0.425, \"p75\": 0.43, \"p50_trip\": 1, \"fastest_trip\": 0, \"car_duration_hours\": 0.24, \"competitive_route\": 1, \"bus_multiplier\": 1.75, \"bus_difference\": 10.8, \"num_trips\": 22, \"num_competitive\": 22, \"pct_trips_competitive\": 1.0, \"bus_difference_spread\": 0.5999999999999996, \"route_group\": \"short\", \"max_trip_hrs\": 0.43, \"max_trip_route_group\": 0.43, \"below_cutoff\": 22, \"pct_below_cutoff\": 1.0, \"name\": \"Mendocino Transit Authority\", \"caltrans_district\": \"01 - Eureka\", \"drmt_organization_name\": null, \"route_name\": \"Willits Local\", \"cutoff2\": 20, \"cutoff\": 0}, {\"calitp_itp_id\": 198, \"trip_key\": -5726019492811257531, \"trip_id\": \"t_1945546_b_33004_tn_0\", \"shape_id\": \"p_902318\", \"route_id\": \"228\", \"service_hours\": 0.42, \"trip_first_departure_ts\": 27480, \"trip_last_arrival_ts\": 28981, \"departure_hour\": 7, \"time_of_day\": \"AM Peak\", \"p25\": 0.42, \"p50\": 0.425, \"p75\": 0.43, \"p50_trip\": 1, \"fastest_trip\": 0, \"car_duration_hours\": 0.24, \"competitive_route\": 1, \"bus_multiplier\": 1.75, \"bus_difference\": 10.8, \"num_trips\": 22, \"num_competitive\": 22, \"pct_trips_competitive\": 1.0, \"bus_difference_spread\": 0.5999999999999996, \"route_group\": \"short\", \"max_trip_hrs\": 0.43, \"max_trip_route_group\": 0.43, \"below_cutoff\": 22, \"pct_below_cutoff\": 1.0, \"name\": \"Mendocino Transit Authority\", \"caltrans_district\": \"01 - Eureka\", \"drmt_organization_name\": null, \"route_name\": \"Willits Local\", \"cutoff2\": 20, \"cutoff\": 0}, {\"calitp_itp_id\": 198, \"trip_key\": -4131255246077367673, \"trip_id\": \"t_1945533_b_33004_tn_0\", \"shape_id\": \"p_902318\", \"route_id\": \"228\", \"service_hours\": 0.42, \"trip_first_departure_ts\": 39180, \"trip_last_arrival_ts\": 40681, \"departure_hour\": 10, \"time_of_day\": \"Midday\", \"p25\": 0.42, \"p50\": 0.425, \"p75\": 0.43, \"p50_trip\": 1, \"fastest_trip\": 0, \"car_duration_hours\": 0.24, \"competitive_route\": 1, \"bus_multiplier\": 1.75, \"bus_difference\": 10.8, \"num_trips\": 22, \"num_competitive\": 22, \"pct_trips_competitive\": 1.0, \"bus_difference_spread\": 0.5999999999999996, \"route_group\": \"short\", \"max_trip_hrs\": 0.43, \"max_trip_route_group\": 0.43, \"below_cutoff\": 22, \"pct_below_cutoff\": 1.0, \"name\": \"Mendocino Transit Authority\", \"caltrans_district\": \"01 - Eureka\", \"drmt_organization_name\": null, \"route_name\": \"Willits Local\", \"cutoff2\": 20, \"cutoff\": 0}, {\"calitp_itp_id\": 198, \"trip_key\": 4378266072232651454, \"trip_id\": \"t_1945534_b_33004_tn_0\", \"shape_id\": \"p_902318\", \"route_id\": \"228\", \"service_hours\": 0.42, \"trip_first_departure_ts\": 42780, \"trip_last_arrival_ts\": 44281, \"departure_hour\": 11, \"time_of_day\": \"Midday\", \"p25\": 0.42, \"p50\": 0.425, \"p75\": 0.43, \"p50_trip\": 1, \"fastest_trip\": 0, \"car_duration_hours\": 0.24, \"competitive_route\": 1, \"bus_multiplier\": 1.75, \"bus_difference\": 10.8, \"num_trips\": 22, \"num_competitive\": 22, \"pct_trips_competitive\": 1.0, \"bus_difference_spread\": 0.5999999999999996, \"route_group\": \"short\", \"max_trip_hrs\": 0.43, \"max_trip_route_group\": 0.43, \"below_cutoff\": 22, \"pct_below_cutoff\": 1.0, \"name\": \"Mendocino Transit Authority\", \"caltrans_district\": \"01 - Eureka\", \"drmt_organization_name\": null, \"route_name\": \"Willits Local\", \"cutoff2\": 20, \"cutoff\": 0}, {\"calitp_itp_id\": 198, \"trip_key\": 2543226735406892914, \"trip_id\": \"t_1945552_b_33004_tn_0\", \"shape_id\": \"p_902318\", \"route_id\": \"228\", \"service_hours\": 0.42, \"trip_first_departure_ts\": 49980, \"trip_last_arrival_ts\": 51481, \"departure_hour\": 13, \"time_of_day\": \"Midday\", \"p25\": 0.42, \"p50\": 0.425, \"p75\": 0.43, \"p50_trip\": 1, \"fastest_trip\": 0, \"car_duration_hours\": 0.24, \"competitive_route\": 1, \"bus_multiplier\": 1.75, \"bus_difference\": 10.8, \"num_trips\": 22, \"num_competitive\": 22, \"pct_trips_competitive\": 1.0, \"bus_difference_spread\": 0.5999999999999996, \"route_group\": \"short\", \"max_trip_hrs\": 0.43, \"max_trip_route_group\": 0.43, \"below_cutoff\": 22, \"pct_below_cutoff\": 1.0, \"name\": \"Mendocino Transit Authority\", \"caltrans_district\": \"01 - Eureka\", \"drmt_organization_name\": null, \"route_name\": \"Willits Local\", \"cutoff2\": 20, \"cutoff\": 0}, {\"calitp_itp_id\": 198, \"trip_key\": -2304997739224854707, \"trip_id\": \"t_1945539_b_33004_tn_0\", \"shape_id\": \"p_902318\", \"route_id\": \"228\", \"service_hours\": 0.42, \"trip_first_departure_ts\": 65280, \"trip_last_arrival_ts\": 66781, \"departure_hour\": 18, \"time_of_day\": \"PM Peak\", \"p25\": 0.42, \"p50\": 0.425, \"p75\": 0.43, \"p50_trip\": 1, \"fastest_trip\": 1, \"car_duration_hours\": 0.24, \"competitive_route\": 1, \"bus_multiplier\": 1.75, \"bus_difference\": 10.8, \"num_trips\": 22, \"num_competitive\": 22, \"pct_trips_competitive\": 1.0, \"bus_difference_spread\": 0.5999999999999996, \"route_group\": \"short\", \"max_trip_hrs\": 0.43, \"max_trip_route_group\": 0.43, \"below_cutoff\": 22, \"pct_below_cutoff\": 1.0, \"name\": \"Mendocino Transit Authority\", \"caltrans_district\": \"01 - Eureka\", \"drmt_organization_name\": null, \"route_name\": \"Willits Local\", \"cutoff2\": 20, \"cutoff\": 0}, {\"calitp_itp_id\": 198, \"trip_key\": -1717090652485994299, \"trip_id\": \"t_1945551_b_33004_tn_0\", \"shape_id\": \"p_902318\", \"route_id\": \"228\", \"service_hours\": 0.42, \"trip_first_departure_ts\": 35580, \"trip_last_arrival_ts\": 37081, \"departure_hour\": 9, \"time_of_day\": \"AM Peak\", \"p25\": 0.42, \"p50\": 0.425, \"p75\": 0.43, \"p50_trip\": 1, \"fastest_trip\": 0, \"car_duration_hours\": 0.24, \"competitive_route\": 1, \"bus_multiplier\": 1.75, \"bus_difference\": 10.8, \"num_trips\": 22, \"num_competitive\": 22, \"pct_trips_competitive\": 1.0, \"bus_difference_spread\": 0.5999999999999996, \"route_group\": \"short\", \"max_trip_hrs\": 0.43, \"max_trip_route_group\": 0.43, \"below_cutoff\": 22, \"pct_below_cutoff\": 1.0, \"name\": \"Mendocino Transit Authority\", \"caltrans_district\": \"01 - Eureka\", \"drmt_organization_name\": null, \"route_name\": \"Willits Local\", \"cutoff2\": 20, \"cutoff\": 0}, {\"calitp_itp_id\": 198, \"trip_key\": 4710620586573080810, \"trip_id\": \"t_1945509_b_33004_tn_0\", \"shape_id\": \"p_3117\", \"route_id\": \"228\", \"service_hours\": 0.43, \"trip_first_departure_ts\": 37620, \"trip_last_arrival_ts\": 39180, \"departure_hour\": 10, \"time_of_day\": \"Midday\", \"p25\": 0.42, \"p50\": 0.425, \"p75\": 0.43, \"p50_trip\": 1, \"fastest_trip\": 0, \"car_duration_hours\": 0.24, \"competitive_route\": 1, \"bus_multiplier\": 1.79, \"bus_difference\": 11.4, \"num_trips\": 22, \"num_competitive\": 22, \"pct_trips_competitive\": 1.0, \"bus_difference_spread\": 0.5999999999999996, \"route_group\": \"short\", \"max_trip_hrs\": 0.43, \"max_trip_route_group\": 0.43, \"below_cutoff\": 22, \"pct_below_cutoff\": 1.0, \"name\": \"Mendocino Transit Authority\", \"caltrans_district\": \"01 - Eureka\", \"drmt_organization_name\": null, \"route_name\": \"Willits Local\", \"cutoff2\": 20, \"cutoff\": 0}, {\"calitp_itp_id\": 198, \"trip_key\": -3545396434068254968, \"trip_id\": \"t_1945512_b_33004_tn_0\", \"shape_id\": \"p_3117\", \"route_id\": \"228\", \"service_hours\": 0.43, \"trip_first_departure_ts\": 52020, \"trip_last_arrival_ts\": 53580, \"departure_hour\": 14, \"time_of_day\": \"Midday\", \"p25\": 0.42, \"p50\": 0.425, \"p75\": 0.43, \"p50_trip\": 1, \"fastest_trip\": 0, \"car_duration_hours\": 0.24, \"competitive_route\": 1, \"bus_multiplier\": 1.79, \"bus_difference\": 11.4, \"num_trips\": 22, \"num_competitive\": 22, \"pct_trips_competitive\": 1.0, \"bus_difference_spread\": 0.5999999999999996, \"route_group\": \"short\", \"max_trip_hrs\": 0.43, \"max_trip_route_group\": 0.43, \"below_cutoff\": 22, \"pct_below_cutoff\": 1.0, \"name\": \"Mendocino Transit Authority\", \"caltrans_district\": \"01 - Eureka\", \"drmt_organization_name\": null, \"route_name\": \"Willits Local\", \"cutoff2\": 20, \"cutoff\": 0}, {\"calitp_itp_id\": 198, \"trip_key\": 4155892938799833111, \"trip_id\": \"t_1945549_b_33004_tn_0\", \"shape_id\": \"p_3117\", \"route_id\": \"228\", \"service_hours\": 0.43, \"trip_first_departure_ts\": 48420, \"trip_last_arrival_ts\": 49980, \"departure_hour\": 13, \"time_of_day\": \"Midday\", \"p25\": 0.42, \"p50\": 0.425, \"p75\": 0.43, \"p50_trip\": 1, \"fastest_trip\": 0, \"car_duration_hours\": 0.24, \"competitive_route\": 1, \"bus_multiplier\": 1.79, \"bus_difference\": 11.4, \"num_trips\": 22, \"num_competitive\": 22, \"pct_trips_competitive\": 1.0, \"bus_difference_spread\": 0.5999999999999996, \"route_group\": \"short\", \"max_trip_hrs\": 0.43, \"max_trip_route_group\": 0.43, \"below_cutoff\": 22, \"pct_below_cutoff\": 1.0, \"name\": \"Mendocino Transit Authority\", \"caltrans_district\": \"01 - Eureka\", \"drmt_organization_name\": null, \"route_name\": \"Willits Local\", \"cutoff2\": 20, \"cutoff\": 0}, {\"calitp_itp_id\": 198, \"trip_key\": -5255804148381983774, \"trip_id\": \"t_1945515_b_33004_tn_0\", \"shape_id\": \"p_3117\", \"route_id\": \"228\", \"service_hours\": 0.43, \"trip_first_departure_ts\": 63720, \"trip_last_arrival_ts\": 65280, \"departure_hour\": 17, \"time_of_day\": \"PM Peak\", \"p25\": 0.42, \"p50\": 0.425, \"p75\": 0.43, \"p50_trip\": 1, \"fastest_trip\": 0, \"car_duration_hours\": 0.24, \"competitive_route\": 1, \"bus_multiplier\": 1.79, \"bus_difference\": 11.4, \"num_trips\": 22, \"num_competitive\": 22, \"pct_trips_competitive\": 1.0, \"bus_difference_spread\": 0.5999999999999996, \"route_group\": \"short\", \"max_trip_hrs\": 0.43, \"max_trip_route_group\": 0.43, \"below_cutoff\": 22, \"pct_below_cutoff\": 1.0, \"name\": \"Mendocino Transit Authority\", \"caltrans_district\": \"01 - Eureka\", \"drmt_organization_name\": null, \"route_name\": \"Willits Local\", \"cutoff2\": 20, \"cutoff\": 0}, {\"calitp_itp_id\": 198, \"trip_key\": -2613195794047038066, \"trip_id\": \"t_1945511_b_33004_tn_0\", \"shape_id\": \"p_3117\", \"route_id\": \"228\", \"service_hours\": 0.43, \"trip_first_departure_ts\": 44820, \"trip_last_arrival_ts\": 46380, \"departure_hour\": 12, \"time_of_day\": \"Midday\", \"p25\": 0.42, \"p50\": 0.425, \"p75\": 0.43, \"p50_trip\": 1, \"fastest_trip\": 0, \"car_duration_hours\": 0.24, \"competitive_route\": 1, \"bus_multiplier\": 1.79, \"bus_difference\": 11.4, \"num_trips\": 22, \"num_competitive\": 22, \"pct_trips_competitive\": 1.0, \"bus_difference_spread\": 0.5999999999999996, \"route_group\": \"short\", \"max_trip_hrs\": 0.43, \"max_trip_route_group\": 0.43, \"below_cutoff\": 22, \"pct_below_cutoff\": 1.0, \"name\": \"Mendocino Transit Authority\", \"caltrans_district\": \"01 - Eureka\", \"drmt_organization_name\": null, \"route_name\": \"Willits Local\", \"cutoff2\": 20, \"cutoff\": 0}, {\"calitp_itp_id\": 198, \"trip_key\": 2647717210138946807, \"trip_id\": \"t_1945513_b_33004_tn_0\", \"shape_id\": \"p_3117\", \"route_id\": \"228\", \"service_hours\": 0.43, \"trip_first_departure_ts\": 55620, \"trip_last_arrival_ts\": 57180, \"departure_hour\": 15, \"time_of_day\": \"Midday\", \"p25\": 0.42, \"p50\": 0.425, \"p75\": 0.43, \"p50_trip\": 1, \"fastest_trip\": 0, \"car_duration_hours\": 0.24, \"competitive_route\": 1, \"bus_multiplier\": 1.79, \"bus_difference\": 11.4, \"num_trips\": 22, \"num_competitive\": 22, \"pct_trips_competitive\": 1.0, \"bus_difference_spread\": 0.5999999999999996, \"route_group\": \"short\", \"max_trip_hrs\": 0.43, \"max_trip_route_group\": 0.43, \"below_cutoff\": 22, \"pct_below_cutoff\": 1.0, \"name\": \"Mendocino Transit Authority\", \"caltrans_district\": \"01 - Eureka\", \"drmt_organization_name\": null, \"route_name\": \"Willits Local\", \"cutoff2\": 20, \"cutoff\": 0}, {\"calitp_itp_id\": 198, \"trip_key\": 958336978338138413, \"trip_id\": \"t_1945550_b_33004_tn_0\", \"shape_id\": \"p_3117\", \"route_id\": \"228\", \"service_hours\": 0.43, \"trip_first_departure_ts\": 34020, \"trip_last_arrival_ts\": 35580, \"departure_hour\": 9, \"time_of_day\": \"AM Peak\", \"p25\": 0.42, \"p50\": 0.425, \"p75\": 0.43, \"p50_trip\": 1, \"fastest_trip\": 0, \"car_duration_hours\": 0.24, \"competitive_route\": 1, \"bus_multiplier\": 1.79, \"bus_difference\": 11.4, \"num_trips\": 22, \"num_competitive\": 22, \"pct_trips_competitive\": 1.0, \"bus_difference_spread\": 0.5999999999999996, \"route_group\": \"short\", \"max_trip_hrs\": 0.43, \"max_trip_route_group\": 0.43, \"below_cutoff\": 22, \"pct_below_cutoff\": 1.0, \"name\": \"Mendocino Transit Authority\", \"caltrans_district\": \"01 - Eureka\", \"drmt_organization_name\": null, \"route_name\": \"Willits Local\", \"cutoff2\": 20, \"cutoff\": 0}, {\"calitp_itp_id\": 198, \"trip_key\": -2727218293918899080, \"trip_id\": \"t_1945545_b_33004_tn_0\", \"shape_id\": \"p_3117\", \"route_id\": \"228\", \"service_hours\": 0.43, \"trip_first_departure_ts\": 25920, \"trip_last_arrival_ts\": 27480, \"departure_hour\": 7, \"time_of_day\": \"AM Peak\", \"p25\": 0.42, \"p50\": 0.425, \"p75\": 0.43, \"p50_trip\": 1, \"fastest_trip\": 0, \"car_duration_hours\": 0.24, \"competitive_route\": 1, \"bus_multiplier\": 1.79, \"bus_difference\": 11.4, \"num_trips\": 22, \"num_competitive\": 22, \"pct_trips_competitive\": 1.0, \"bus_difference_spread\": 0.5999999999999996, \"route_group\": \"short\", \"max_trip_hrs\": 0.43, \"max_trip_route_group\": 0.43, \"below_cutoff\": 22, \"pct_below_cutoff\": 1.0, \"name\": \"Mendocino Transit Authority\", \"caltrans_district\": \"01 - Eureka\", \"drmt_organization_name\": null, \"route_name\": \"Willits Local\", \"cutoff2\": 20, \"cutoff\": 0}, {\"calitp_itp_id\": 198, \"trip_key\": -7860257494144024374, \"trip_id\": \"t_1945510_b_33004_tn_0\", \"shape_id\": \"p_3117\", \"route_id\": \"228\", \"service_hours\": 0.43, \"trip_first_departure_ts\": 41220, \"trip_last_arrival_ts\": 42780, \"departure_hour\": 11, \"time_of_day\": \"Midday\", \"p25\": 0.42, \"p50\": 0.425, \"p75\": 0.43, \"p50_trip\": 1, \"fastest_trip\": 0, \"car_duration_hours\": 0.24, \"competitive_route\": 1, \"bus_multiplier\": 1.79, \"bus_difference\": 11.4, \"num_trips\": 22, \"num_competitive\": 22, \"pct_trips_competitive\": 1.0, \"bus_difference_spread\": 0.5999999999999996, \"route_group\": \"short\", \"max_trip_hrs\": 0.43, \"max_trip_route_group\": 0.43, \"below_cutoff\": 22, \"pct_below_cutoff\": 1.0, \"name\": \"Mendocino Transit Authority\", \"caltrans_district\": \"01 - Eureka\", \"drmt_organization_name\": null, \"route_name\": \"Willits Local\", \"cutoff2\": 20, \"cutoff\": 0}, {\"calitp_itp_id\": 198, \"trip_key\": -6576238807823169045, \"trip_id\": \"t_1945514_b_33004_tn_0\", \"shape_id\": \"p_3117\", \"route_id\": \"228\", \"service_hours\": 0.43, \"trip_first_departure_ts\": 59220, \"trip_last_arrival_ts\": 60780, \"departure_hour\": 16, \"time_of_day\": \"Midday\", \"p25\": 0.42, \"p50\": 0.425, \"p75\": 0.43, \"p50_trip\": 1, \"fastest_trip\": 0, \"car_duration_hours\": 0.24, \"competitive_route\": 1, \"bus_multiplier\": 1.79, \"bus_difference\": 11.4, \"num_trips\": 22, \"num_competitive\": 22, \"pct_trips_competitive\": 1.0, \"bus_difference_spread\": 0.5999999999999996, \"route_group\": \"short\", \"max_trip_hrs\": 0.43, \"max_trip_route_group\": 0.43, \"below_cutoff\": 22, \"pct_below_cutoff\": 1.0, \"name\": \"Mendocino Transit Authority\", \"caltrans_district\": \"01 - Eureka\", \"drmt_organization_name\": null, \"route_name\": \"Willits Local\", \"cutoff2\": 20, \"cutoff\": 0}, {\"calitp_itp_id\": 198, \"trip_key\": 5064161551853401997, \"trip_id\": \"t_1945548_b_33004_tn_1\", \"shape_id\": \"p_3117\", \"route_id\": \"228\", \"service_hours\": 0.43, \"trip_first_departure_ts\": 29520, \"trip_last_arrival_ts\": 31080, \"departure_hour\": 8, \"time_of_day\": \"AM Peak\", \"p25\": 0.42, \"p50\": 0.425, \"p75\": 0.43, \"p50_trip\": 1, \"fastest_trip\": 0, \"car_duration_hours\": 0.24, \"competitive_route\": 1, \"bus_multiplier\": 1.79, \"bus_difference\": 11.4, \"num_trips\": 22, \"num_competitive\": 22, \"pct_trips_competitive\": 1.0, \"bus_difference_spread\": 0.5999999999999996, \"route_group\": \"short\", \"max_trip_hrs\": 0.43, \"max_trip_route_group\": 0.43, \"below_cutoff\": 22, \"pct_below_cutoff\": 1.0, \"name\": \"Mendocino Transit Authority\", \"caltrans_district\": \"01 - Eureka\", \"drmt_organization_name\": null, \"route_name\": \"Willits Local\", \"cutoff2\": 20, \"cutoff\": 0}, {\"calitp_itp_id\": 198, \"trip_key\": 6407799142247012981, \"trip_id\": \"t_1945566_b_33004_tn_0\", \"shape_id\": \"p_1276513\", \"route_id\": \"232\", \"service_hours\": 0.65, \"trip_first_departure_ts\": 25440, \"trip_last_arrival_ts\": 27780, \"departure_hour\": 7, \"time_of_day\": \"AM Peak\", \"p25\": 0.71, \"p50\": 0.79, \"p75\": 0.8274999999999999, \"p50_trip\": 0, \"fastest_trip\": 1, \"car_duration_hours\": 0.47, \"competitive_route\": 1, \"bus_multiplier\": 1.38, \"bus_difference\": 10.8, \"num_trips\": 12, \"num_competitive\": 12, \"pct_trips_competitive\": 1.0, \"bus_difference_spread\": 12.0, \"route_group\": \"short\", \"max_trip_hrs\": 0.85, \"max_trip_route_group\": 0.85, \"below_cutoff\": 8, \"pct_below_cutoff\": 0.6666666666666666, \"name\": \"Mendocino Transit Authority\", \"caltrans_district\": \"01 - Eureka\", \"drmt_organization_name\": null, \"route_name\": \"Willits / Ukiah\", \"cutoff2\": 20, \"cutoff\": 0}, {\"calitp_itp_id\": 198, \"trip_key\": 7874311545554239664, \"trip_id\": \"t_1945504_b_33004_tn_0\", \"shape_id\": \"p_899413\", \"route_id\": \"232\", \"service_hours\": 0.67, \"trip_first_departure_ts\": 28080, \"trip_last_arrival_ts\": 30480, \"departure_hour\": 7, \"time_of_day\": \"AM Peak\", \"p25\": 0.71, \"p50\": 0.79, \"p75\": 0.8274999999999999, \"p50_trip\": 0, \"fastest_trip\": 0, \"car_duration_hours\": 0.47, \"competitive_route\": 1, \"bus_multiplier\": 1.43, \"bus_difference\": 12.0, \"num_trips\": 12, \"num_competitive\": 12, \"pct_trips_competitive\": 1.0, \"bus_difference_spread\": 12.0, \"route_group\": \"short\", \"max_trip_hrs\": 0.85, \"max_trip_route_group\": 0.85, \"below_cutoff\": 8, \"pct_below_cutoff\": 0.6666666666666666, \"name\": \"Mendocino Transit Authority\", \"caltrans_district\": \"01 - Eureka\", \"drmt_organization_name\": null, \"route_name\": \"Willits / Ukiah\", \"cutoff2\": 20, \"cutoff\": 0}, {\"calitp_itp_id\": 198, \"trip_key\": -415892452663826652, \"trip_id\": \"t_1945564_b_33004_tn_0\", \"shape_id\": \"p_1276515\", \"route_id\": \"232\", \"service_hours\": 0.68, \"trip_first_departure_ts\": 29880, \"trip_last_arrival_ts\": 32340, \"departure_hour\": 8, \"time_of_day\": \"AM Peak\", \"p25\": 0.71, \"p50\": 0.79, \"p75\": 0.8274999999999999, \"p50_trip\": 0, \"fastest_trip\": 0, \"car_duration_hours\": 0.47, \"competitive_route\": 1, \"bus_multiplier\": 1.45, \"bus_difference\": 12.6, \"num_trips\": 12, \"num_competitive\": 12, \"pct_trips_competitive\": 1.0, \"bus_difference_spread\": 12.0, \"route_group\": \"short\", \"max_trip_hrs\": 0.85, \"max_trip_route_group\": 0.85, \"below_cutoff\": 8, \"pct_below_cutoff\": 0.6666666666666666, \"name\": \"Mendocino Transit Authority\", \"caltrans_district\": \"01 - Eureka\", \"drmt_organization_name\": null, \"route_name\": \"Willits / Ukiah\", \"cutoff2\": 20, \"cutoff\": 0}, {\"calitp_itp_id\": 198, \"trip_key\": 2406590054658703546, \"trip_id\": \"t_1945505_b_33004_tn_0\", \"shape_id\": \"p_899415\", \"route_id\": \"232\", \"service_hours\": 0.72, \"trip_first_departure_ts\": 60000, \"trip_last_arrival_ts\": 62580, \"departure_hour\": 16, \"time_of_day\": \"Midday\", \"p25\": 0.71, \"p50\": 0.79, \"p75\": 0.8274999999999999, \"p50_trip\": 0, \"fastest_trip\": 0, \"car_duration_hours\": 0.47, \"competitive_route\": 1, \"bus_multiplier\": 1.53, \"bus_difference\": 15.0, \"num_trips\": 12, \"num_competitive\": 12, \"pct_trips_competitive\": 1.0, \"bus_difference_spread\": 12.0, \"route_group\": \"short\", \"max_trip_hrs\": 0.85, \"max_trip_route_group\": 0.85, \"below_cutoff\": 8, \"pct_below_cutoff\": 0.6666666666666666, \"name\": \"Mendocino Transit Authority\", \"caltrans_district\": \"01 - Eureka\", \"drmt_organization_name\": null, \"route_name\": \"Willits / Ukiah\", \"cutoff2\": 20, \"cutoff\": 0}, {\"calitp_itp_id\": 198, \"trip_key\": -2952627637866517054, \"trip_id\": \"t_1945567_b_33004_tn_0\", \"shape_id\": \"p_1276520\", \"route_id\": \"232\", \"service_hours\": 0.75, \"trip_first_departure_ts\": 64200, \"trip_last_arrival_ts\": 66900, \"departure_hour\": 17, \"time_of_day\": \"PM Peak\", \"p25\": 0.71, \"p50\": 0.79, \"p75\": 0.8274999999999999, \"p50_trip\": 0, \"fastest_trip\": 0, \"car_duration_hours\": 0.47, \"competitive_route\": 1, \"bus_multiplier\": 1.6, \"bus_difference\": 16.8, \"num_trips\": 12, \"num_competitive\": 12, \"pct_trips_competitive\": 1.0, \"bus_difference_spread\": 12.0, \"route_group\": \"short\", \"max_trip_hrs\": 0.85, \"max_trip_route_group\": 0.85, \"below_cutoff\": 8, \"pct_below_cutoff\": 0.6666666666666666, \"name\": \"Mendocino Transit Authority\", \"caltrans_district\": \"01 - Eureka\", \"drmt_organization_name\": null, \"route_name\": \"Willits / Ukiah\", \"cutoff2\": 20, \"cutoff\": 0}, {\"calitp_itp_id\": 198, \"trip_key\": 300015568609234889, \"trip_id\": \"t_1945506_b_33004_tn_0\", \"shape_id\": \"p_899411\", \"route_id\": \"232\", \"service_hours\": 0.78, \"trip_first_departure_ts\": 56700, \"trip_last_arrival_ts\": 59520, \"departure_hour\": 15, \"time_of_day\": \"Midday\", \"p25\": 0.71, \"p50\": 0.79, \"p75\": 0.8274999999999999, \"p50_trip\": 1, \"fastest_trip\": 0, \"car_duration_hours\": 0.47, \"competitive_route\": 1, \"bus_multiplier\": 1.66, \"bus_difference\": 18.6, \"num_trips\": 12, \"num_competitive\": 12, \"pct_trips_competitive\": 1.0, \"bus_difference_spread\": 12.0, \"route_group\": \"short\", \"max_trip_hrs\": 0.85, \"max_trip_route_group\": 0.85, \"below_cutoff\": 8, \"pct_below_cutoff\": 0.6666666666666666, \"name\": \"Mendocino Transit Authority\", \"caltrans_district\": \"01 - Eureka\", \"drmt_organization_name\": null, \"route_name\": \"Willits / Ukiah\", \"cutoff2\": 20, \"cutoff\": 0}, {\"calitp_itp_id\": 198, \"trip_key\": -1911337367374937544, \"trip_id\": \"t_1945565_b_33004_tn_0\", \"shape_id\": \"p_111346\", \"route_id\": \"232\", \"service_hours\": 0.8, \"trip_first_departure_ts\": 41100, \"trip_last_arrival_ts\": 43980, \"departure_hour\": 11, \"time_of_day\": \"Midday\", \"p25\": 0.71, \"p50\": 0.79, \"p75\": 0.8274999999999999, \"p50_trip\": 1, \"fastest_trip\": 0, \"car_duration_hours\": 0.47, \"competitive_route\": 1, \"bus_multiplier\": 1.7, \"bus_difference\": 19.8, \"num_trips\": 12, \"num_competitive\": 12, \"pct_trips_competitive\": 1.0, \"bus_difference_spread\": 12.0, \"route_group\": \"short\", \"max_trip_hrs\": 0.85, \"max_trip_route_group\": 0.85, \"below_cutoff\": 8, \"pct_below_cutoff\": 0.6666666666666666, \"name\": \"Mendocino Transit Authority\", \"caltrans_district\": \"01 - Eureka\", \"drmt_organization_name\": null, \"route_name\": \"Willits / Ukiah\", \"cutoff2\": 20, \"cutoff\": 0}, {\"calitp_itp_id\": 198, \"trip_key\": -2471638137922488736, \"trip_id\": \"t_1945543_b_33004_tn_0\", \"shape_id\": \"p_8785\", \"route_id\": \"232\", \"service_hours\": 0.8, \"trip_first_departure_ts\": 48300, \"trip_last_arrival_ts\": 51180, \"departure_hour\": 13, \"time_of_day\": \"Midday\", \"p25\": 0.71, \"p50\": 0.79, \"p75\": 0.8274999999999999, \"p50_trip\": 1, \"fastest_trip\": 0, \"car_duration_hours\": 0.47, \"competitive_route\": 1, \"bus_multiplier\": 1.7, \"bus_difference\": 19.8, \"num_trips\": 12, \"num_competitive\": 12, \"pct_trips_competitive\": 1.0, \"bus_difference_spread\": 12.0, \"route_group\": \"short\", \"max_trip_hrs\": 0.85, \"max_trip_route_group\": 0.85, \"below_cutoff\": 8, \"pct_below_cutoff\": 0.6666666666666666, \"name\": \"Mendocino Transit Authority\", \"caltrans_district\": \"01 - Eureka\", \"drmt_organization_name\": null, \"route_name\": \"Willits / Ukiah\", \"cutoff2\": 20, \"cutoff\": 0}, {\"calitp_itp_id\": 198, \"trip_key\": 8389865155287738912, \"trip_id\": \"t_1945568_b_33004_tn_0\", \"shape_id\": \"p_1276522\", \"route_id\": \"232\", \"service_hours\": 0.82, \"trip_first_departure_ts\": 24660, \"trip_last_arrival_ts\": 27600, \"departure_hour\": 6, \"time_of_day\": \"Owl Service\", \"p25\": 0.71, \"p50\": 0.79, \"p75\": 0.8274999999999999, \"p50_trip\": 0, \"fastest_trip\": 0, \"car_duration_hours\": 0.47, \"competitive_route\": 1, \"bus_multiplier\": 1.74, \"bus_difference\": 21.0, \"num_trips\": 12, \"num_competitive\": 12, \"pct_trips_competitive\": 1.0, \"bus_difference_spread\": 12.0, \"route_group\": \"short\", \"max_trip_hrs\": 0.85, \"max_trip_route_group\": 0.85, \"below_cutoff\": 8, \"pct_below_cutoff\": 0.6666666666666666, \"name\": \"Mendocino Transit Authority\", \"caltrans_district\": \"01 - Eureka\", \"drmt_organization_name\": null, \"route_name\": \"Willits / Ukiah\", \"cutoff2\": 20, \"cutoff\": 0}, {\"calitp_itp_id\": 198, \"trip_key\": 8939757218210664718, \"trip_id\": \"t_1945507_b_33004_tn_0\", \"shape_id\": \"p_1276522\", \"route_id\": \"232\", \"service_hours\": 0.85, \"trip_first_departure_ts\": 44340, \"trip_last_arrival_ts\": 47400, \"departure_hour\": 12, \"time_of_day\": \"Midday\", \"p25\": 0.71, \"p50\": 0.79, \"p75\": 0.8274999999999999, \"p50_trip\": 0, \"fastest_trip\": 0, \"car_duration_hours\": 0.47, \"competitive_route\": 1, \"bus_multiplier\": 1.81, \"bus_difference\": 22.8, \"num_trips\": 12, \"num_competitive\": 12, \"pct_trips_competitive\": 1.0, \"bus_difference_spread\": 12.0, \"route_group\": \"short\", \"max_trip_hrs\": 0.85, \"max_trip_route_group\": 0.85, \"below_cutoff\": 8, \"pct_below_cutoff\": 0.6666666666666666, \"name\": \"Mendocino Transit Authority\", \"caltrans_district\": \"01 - Eureka\", \"drmt_organization_name\": null, \"route_name\": \"Willits / Ukiah\", \"cutoff2\": 20, \"cutoff\": 0}, {\"calitp_itp_id\": 198, \"trip_key\": -2734594082350485790, \"trip_id\": \"t_1945544_b_33004_tn_0\", \"shape_id\": \"p_1276522\", \"route_id\": \"232\", \"service_hours\": 0.85, \"trip_first_departure_ts\": 33840, \"trip_last_arrival_ts\": 36900, \"departure_hour\": 9, \"time_of_day\": \"AM Peak\", \"p25\": 0.71, \"p50\": 0.79, \"p75\": 0.8274999999999999, \"p50_trip\": 0, \"fastest_trip\": 0, \"car_duration_hours\": 0.47, \"competitive_route\": 1, \"bus_multiplier\": 1.81, \"bus_difference\": 22.8, \"num_trips\": 12, \"num_competitive\": 12, \"pct_trips_competitive\": 1.0, \"bus_difference_spread\": 12.0, \"route_group\": \"short\", \"max_trip_hrs\": 0.85, \"max_trip_route_group\": 0.85, \"below_cutoff\": 8, \"pct_below_cutoff\": 0.6666666666666666, \"name\": \"Mendocino Transit Authority\", \"caltrans_district\": \"01 - Eureka\", \"drmt_organization_name\": null, \"route_name\": \"Willits / Ukiah\", \"cutoff2\": 20, \"cutoff\": 0}, {\"calitp_itp_id\": 198, \"trip_key\": -3562096048323000906, \"trip_id\": \"t_1945508_b_33004_tn_0\", \"shape_id\": \"p_1276523\", \"route_id\": \"232\", \"service_hours\": 0.85, \"trip_first_departure_ts\": 53940, \"trip_last_arrival_ts\": 57000, \"departure_hour\": 14, \"time_of_day\": \"Midday\", \"p25\": 0.71, \"p50\": 0.79, \"p75\": 0.8274999999999999, \"p50_trip\": 0, \"fastest_trip\": 0, \"car_duration_hours\": 0.47, \"competitive_route\": 1, \"bus_multiplier\": 1.81, \"bus_difference\": 22.8, \"num_trips\": 12, \"num_competitive\": 12, \"pct_trips_competitive\": 1.0, \"bus_difference_spread\": 12.0, \"route_group\": \"short\", \"max_trip_hrs\": 0.85, \"max_trip_route_group\": 0.85, \"below_cutoff\": 8, \"pct_below_cutoff\": 0.6666666666666666, \"name\": \"Mendocino Transit Authority\", \"caltrans_district\": \"01 - Eureka\", \"drmt_organization_name\": null, \"route_name\": \"Willits / Ukiah\", \"cutoff2\": 20, \"cutoff\": 0}]}}, {\"mode\": \"vega-lite\"});\n",
       "</script>"
      ],
      "text/plain": [
       "alt.FacetChart(...)"
      ]
     },
     "metadata": {},
     "output_type": "display_data"
    },
    {
     "data": {
      "text/html": [
       "<h4>Route Stats</h4>"
      ],
      "text/plain": [
       "<IPython.core.display.HTML object>"
      ]
     },
     "metadata": {},
     "output_type": "display_data"
    },
    {
     "data": {
      "text/html": [
       "<style type=\"text/css\">\n",
       "#T_7c2b2 th {\n",
       "  text-align: center;\n",
       "}\n",
       "#T_7c2b2_row0_col0, #T_7c2b2_row0_col1, #T_7c2b2_row1_col0, #T_7c2b2_row1_col1 {\n",
       "  text-align: left;\n",
       "}\n",
       "#T_7c2b2_row0_col2, #T_7c2b2_row0_col3, #T_7c2b2_row0_col5, #T_7c2b2_row1_col2, #T_7c2b2_row1_col3, #T_7c2b2_row1_col5 {\n",
       "  text-align: center;\n",
       "}\n",
       "</style>\n",
       "<table id=\"T_7c2b2\">\n",
       "  <thead>\n",
       "    <tr>\n",
       "      <th id=\"T_7c2b2_level0_col0\" class=\"col_heading level0 col0\" >Route ID</th>\n",
       "      <th id=\"T_7c2b2_level0_col1\" class=\"col_heading level0 col1\" >Route Name</th>\n",
       "      <th id=\"T_7c2b2_level0_col2\" class=\"col_heading level0 col2\" ># trips</th>\n",
       "      <th id=\"T_7c2b2_level0_col3\" class=\"col_heading level0 col3\" >Daily Avg Freq (trips per hr)</th>\n",
       "      <th id=\"T_7c2b2_level0_col4\" class=\"col_heading level0 col4\" >25th, 50th, 75th ptile (hrs)</th>\n",
       "      <th id=\"T_7c2b2_level0_col5\" class=\"col_heading level0 col5\" >PM Peak Avg Freq (trips per hr)</th>\n",
       "    </tr>\n",
       "  </thead>\n",
       "  <tbody>\n",
       "    <tr>\n",
       "      <td id=\"T_7c2b2_row0_col0\" class=\"data row0 col0\" >228</td>\n",
       "      <td id=\"T_7c2b2_row0_col1\" class=\"data row0 col1\" >Willits Local</td>\n",
       "      <td id=\"T_7c2b2_row0_col2\" class=\"data row0 col2\" >22</td>\n",
       "      <td id=\"T_7c2b2_row0_col3\" class=\"data row0 col3\" >0.92</td>\n",
       "      <td id=\"T_7c2b2_row0_col4\" class=\"data row0 col4\" >0.42, 0.42, 0.43</td>\n",
       "      <td id=\"T_7c2b2_row0_col5\" class=\"data row0 col5\" >0.67</td>\n",
       "    </tr>\n",
       "    <tr>\n",
       "      <td id=\"T_7c2b2_row1_col0\" class=\"data row1 col0\" >232</td>\n",
       "      <td id=\"T_7c2b2_row1_col1\" class=\"data row1 col1\" >Willits / Ukiah</td>\n",
       "      <td id=\"T_7c2b2_row1_col2\" class=\"data row1 col2\" >12</td>\n",
       "      <td id=\"T_7c2b2_row1_col3\" class=\"data row1 col3\" >0.5</td>\n",
       "      <td id=\"T_7c2b2_row1_col4\" class=\"data row1 col4\" >0.71, 0.79, 0.83</td>\n",
       "      <td id=\"T_7c2b2_row1_col5\" class=\"data row1 col5\" >0.33</td>\n",
       "    </tr>\n",
       "  </tbody>\n",
       "</table>\n"
      ],
      "text/plain": [
       "<IPython.core.display.HTML object>"
      ]
     },
     "metadata": {},
     "output_type": "display_data"
    }
   ],
   "source": [
    "# Allow for possibility that operator doesn't have routes that fall into certain route_groups\n",
    "# But, jupyterbook will not like markdown with f-string\n",
    "# separate out route_group and put in each cell, and use try/except + if to display...\n",
    "# but all 3 route groups must be displayed. just add sentence about why no routes were returned at the end\n",
    "route_group = \"short\"\n",
    "try:\n",
    "    display_charts_for_route_group(df, route_group)\n",
    "except:\n",
    "    print(\"No routes meet this criteria.\")"
   ]
  },
  {
   "cell_type": "markdown",
   "id": "c2931b6f-034d-4384-9e14-80b925e3b820",
   "metadata": {
    "papermill": {
     "duration": 0.030481,
     "end_time": "2022-05-12T01:50:52.803491",
     "exception": false,
     "start_time": "2022-05-12T01:50:52.773010",
     "status": "completed"
    },
    "tags": []
   },
   "source": [
    "### Medium Routes (1-1.5 hrs)"
   ]
  },
  {
   "cell_type": "code",
   "execution_count": 15,
   "id": "480edddc-4de0-48c2-ae4c-b0ceef8f28b5",
   "metadata": {
    "execution": {
     "iopub.execute_input": "2022-05-12T01:50:52.840672Z",
     "iopub.status.busy": "2022-05-12T01:50:52.839780Z",
     "iopub.status.idle": "2022-05-12T01:50:52.851619Z",
     "shell.execute_reply": "2022-05-12T01:50:52.850723Z"
    },
    "jupyter": {
     "source_hidden": true
    },
    "papermill": {
     "duration": 0.032208,
     "end_time": "2022-05-12T01:50:52.853573",
     "exception": false,
     "start_time": "2022-05-12T01:50:52.821365",
     "status": "completed"
    },
    "tags": [
     "remove_input"
    ]
   },
   "outputs": [
    {
     "name": "stdout",
     "output_type": "stream",
     "text": [
      "No routes meet this criteria.\n"
     ]
    }
   ],
   "source": [
    "route_group = \"medium\"\n",
    "try:\n",
    "    display_charts_for_route_group(df, route_group)\n",
    "except:\n",
    "    print(\"No routes meet this criteria.\")"
   ]
  },
  {
   "cell_type": "markdown",
   "id": "124b76d0-886c-4d03-92ac-f1bda3cda182",
   "metadata": {
    "papermill": {
     "duration": 0.02525,
     "end_time": "2022-05-12T01:50:52.897365",
     "exception": false,
     "start_time": "2022-05-12T01:50:52.872115",
     "status": "completed"
    },
    "tags": []
   },
   "source": [
    "### Long Routes (> 1.5 hrs)"
   ]
  },
  {
   "cell_type": "code",
   "execution_count": 16,
   "id": "ddc81b19-4c45-4c81-8b7a-5e0f394aa7a3",
   "metadata": {
    "execution": {
     "iopub.execute_input": "2022-05-12T01:50:52.959718Z",
     "iopub.status.busy": "2022-05-12T01:50:52.959327Z",
     "iopub.status.idle": "2022-05-12T01:50:52.981074Z",
     "shell.execute_reply": "2022-05-12T01:50:52.979707Z"
    },
    "jupyter": {
     "source_hidden": true
    },
    "papermill": {
     "duration": 0.051522,
     "end_time": "2022-05-12T01:50:52.983625",
     "exception": false,
     "start_time": "2022-05-12T01:50:52.932103",
     "status": "completed"
    },
    "tags": [
     "remove_input"
    ]
   },
   "outputs": [
    {
     "name": "stdout",
     "output_type": "stream",
     "text": [
      "No routes meet this criteria.\n"
     ]
    }
   ],
   "source": [
    "route_group = \"long\"\n",
    "try:\n",
    "    display_charts_for_route_group(df, route_group)\n",
    "except:\n",
    "    print(\"No routes meet this criteria.\")"
   ]
  },
  {
   "cell_type": "markdown",
   "id": "ace75b5f-0442-4fbe-aebd-6c3a13ae13a7",
   "metadata": {
    "papermill": {
     "duration": 0.017809,
     "end_time": "2022-05-12T01:50:53.021296",
     "exception": false,
     "start_time": "2022-05-12T01:50:53.003487",
     "status": "completed"
    },
    "tags": []
   },
   "source": [
    "### GTFS Real-Time Speedmaps"
   ]
  },
  {
   "cell_type": "code",
   "execution_count": 17,
   "id": "a0a114a1-e975-4027-9daf-50029f5ef59f",
   "metadata": {
    "execution": {
     "iopub.execute_input": "2022-05-12T01:50:53.061257Z",
     "iopub.status.busy": "2022-05-12T01:50:53.060952Z",
     "iopub.status.idle": "2022-05-12T01:50:53.090397Z",
     "shell.execute_reply": "2022-05-12T01:50:53.089347Z"
    },
    "jupyter": {
     "source_hidden": true
    },
    "papermill": {
     "duration": 0.053204,
     "end_time": "2022-05-12T01:50:53.092661",
     "exception": false,
     "start_time": "2022-05-12T01:50:53.039457",
     "status": "completed"
    },
    "tags": [
     "remove_input"
    ]
   },
   "outputs": [
    {
     "data": {
      "text/html": [
       "No GTFS RT data available."
      ],
      "text/plain": [
       "<IPython.core.display.HTML object>"
      ]
     },
     "metadata": {},
     "output_type": "display_data"
    }
   ],
   "source": [
    "RT_SITE_YAML = \"../portfolio/sites/rt.yml\"\n",
    "\n",
    "# Grab list of ITP IDs with GTFS RT speedmaps\n",
    "rt_itp_id = deploy_portfolio_yaml.check_if_rt_data_available(RT_SITE_YAML)\n",
    "\n",
    "# Construct the URL \n",
    "RT_URL = (\"https://analysis.calitp.org/rt/\"\n",
    "          f\"district_{district_number}-{district_name}/\"\n",
    "          f\"speedmaps__itp_id_{itp_id}.html\"\n",
    "         ) \n",
    "\n",
    "# If this ITP ID is found in RT analysis, give URL to that operator in analysis.calitp.org\n",
    "if itp_id in rt_itp_id:\n",
    "    display(HTML(f'''<a href={RT_URL}>GTFS RT speedmaps here.</a>'''))\n",
    "\n",
    "else:\n",
    "    display(HTML(\"No GTFS RT data available.\"))"
   ]
  },
  {
   "cell_type": "code",
   "execution_count": null,
   "id": "5b680565-2230-4f2e-817c-718fad48d64c",
   "metadata": {
    "jupyter": {
     "source_hidden": true
    },
    "papermill": {
     "duration": 0.018863,
     "end_time": "2022-05-12T01:50:53.131058",
     "exception": false,
     "start_time": "2022-05-12T01:50:53.112195",
     "status": "completed"
    },
    "tags": [
     "remove_input"
    ]
   },
   "outputs": [],
   "source": []
  }
 ],
 "metadata": {
  "kernelspec": {
   "display_name": "Python 3 (ipykernel)",
   "language": "python",
   "name": "python3"
  },
  "language_info": {
   "codemirror_mode": {
    "name": "ipython",
    "version": 3
   },
   "file_extension": ".py",
   "mimetype": "text/x-python",
   "name": "python",
   "nbconvert_exporter": "python",
   "pygments_lexer": "ipython3",
   "version": "3.9.12"
  },
  "papermill": {
   "default_parameters": {},
   "duration": 23.397322,
   "end_time": "2022-05-12T01:50:54.375752",
   "environment_variables": {},
   "exception": null,
   "input_path": "bus_service_increase/competitive-parallel-routes.ipynb",
   "output_path": "portfolio/parallel_corridors/district_01-eureka/5__competitive-parallel-routes__district_01-eureka__itp_id_198.ipynb",
   "parameters": {
    "district": "01 - Eureka",
    "itp_id": 198
   },
   "start_time": "2022-05-12T01:50:30.978430",
   "version": "2.3.4"
  }
 },
 "nbformat": 4,
 "nbformat_minor": 5
}