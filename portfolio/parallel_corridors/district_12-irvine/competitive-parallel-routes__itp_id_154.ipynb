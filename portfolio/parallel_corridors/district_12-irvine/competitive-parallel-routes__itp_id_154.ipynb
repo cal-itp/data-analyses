{
 "cells": [
  {
   "cell_type": "code",
   "execution_count": 1,
   "id": "95d00857-6a20-4529-a519-2cc7182928a9",
   "metadata": {
    "execution": {
     "iopub.execute_input": "2022-05-09T17:20:56.057488Z",
     "iopub.status.busy": "2022-05-09T17:20:56.056607Z",
     "iopub.status.idle": "2022-05-09T17:21:17.966549Z",
     "shell.execute_reply": "2022-05-09T17:21:17.965198Z"
    },
    "jupyter": {
     "source_hidden": true
    },
    "papermill": {
     "duration": 21.928146,
     "end_time": "2022-05-09T17:21:17.969525",
     "exception": false,
     "start_time": "2022-05-09T17:20:56.041379",
     "status": "completed"
    },
    "tags": [
     "remove_input"
    ]
   },
   "outputs": [],
   "source": [
    "%%capture\n",
    "import warnings\n",
    "warnings.filterwarnings('ignore')\n",
    "\n",
    "import altair as alt\n",
    "import calitp.magics\n",
    "import geopandas as gpd\n",
    "import intake\n",
    "import pandas as pd\n",
    "\n",
    "from IPython.display import display, Markdown, HTML\n",
    "\n",
    "import parallel_corridors_utils\n",
    "from shared_utils import styleguide\n",
    "import deploy_portfolio_yaml\n",
    "\n",
    "catalog = intake.open_catalog(\"./*.yml\")\n",
    "alt.renderers.enable(\"html\")"
   ]
  },
  {
   "cell_type": "code",
   "execution_count": 2,
   "id": "8af2a0c1-f3da-408d-9bea-11d9fbf8695d",
   "metadata": {
    "execution": {
     "iopub.execute_input": "2022-05-09T17:21:18.000784Z",
     "iopub.status.busy": "2022-05-09T17:21:17.999543Z",
     "iopub.status.idle": "2022-05-09T17:21:18.004851Z",
     "shell.execute_reply": "2022-05-09T17:21:18.004028Z"
    },
    "jupyter": {
     "source_hidden": true
    },
    "papermill": {
     "duration": 0.025358,
     "end_time": "2022-05-09T17:21:18.008187",
     "exception": false,
     "start_time": "2022-05-09T17:21:17.982829",
     "status": "completed"
    },
    "tags": [
     "parameters",
     "remove_input"
    ]
   },
   "outputs": [],
   "source": [
    "# parameters cell\n",
    "itp_id = 182"
   ]
  },
  {
   "cell_type": "code",
   "execution_count": 3,
   "id": "9f1e9f77",
   "metadata": {
    "execution": {
     "iopub.execute_input": "2022-05-09T17:21:18.036981Z",
     "iopub.status.busy": "2022-05-09T17:21:18.036204Z",
     "iopub.status.idle": "2022-05-09T17:21:18.041646Z",
     "shell.execute_reply": "2022-05-09T17:21:18.040838Z"
    },
    "jupyter": {
     "source_hidden": true
    },
    "papermill": {
     "duration": 0.023138,
     "end_time": "2022-05-09T17:21:18.043920",
     "exception": false,
     "start_time": "2022-05-09T17:21:18.020782",
     "status": "completed"
    },
    "tags": [
     "injected-parameters",
     "remove_input"
    ]
   },
   "outputs": [],
   "source": [
    "# Parameters\n",
    "district = \"12 - Irvine\"\n",
    "itp_id = 154\n"
   ]
  },
  {
   "cell_type": "code",
   "execution_count": 4,
   "id": "9582aaf4-79ff-412a-b248-8d8d693ebd4f",
   "metadata": {
    "execution": {
     "iopub.execute_input": "2022-05-09T17:21:18.073753Z",
     "iopub.status.busy": "2022-05-09T17:21:18.072801Z",
     "iopub.status.idle": "2022-05-09T17:21:19.351498Z",
     "shell.execute_reply": "2022-05-09T17:21:19.350535Z"
    },
    "jupyter": {
     "source_hidden": true
    },
    "papermill": {
     "duration": 1.296424,
     "end_time": "2022-05-09T17:21:19.353941",
     "exception": false,
     "start_time": "2022-05-09T17:21:18.057517",
     "status": "completed"
    },
    "tags": [
     "remove_input"
    ]
   },
   "outputs": [],
   "source": [
    "df = catalog.competitive_route_variability.read()\n",
    "\n",
    "df = (df[(df.calitp_itp_id == itp_id) & \n",
    "         (df.route_group.notna())]\n",
    "      .reset_index(drop=True)\n",
    "     )\n",
    "\n",
    "\n",
    "if itp_id == 182:\n",
    "    df = df.assign(\n",
    "        route_id = df.route_id.str.replace('-13153', '').astype(int)\n",
    "    )"
   ]
  },
  {
   "cell_type": "code",
   "execution_count": 5,
   "id": "33ac4b06-f647-4dce-a625-8f2c1b37cc60",
   "metadata": {
    "execution": {
     "iopub.execute_input": "2022-05-09T17:21:19.382704Z",
     "iopub.status.busy": "2022-05-09T17:21:19.381866Z",
     "iopub.status.idle": "2022-05-09T17:21:19.392888Z",
     "shell.execute_reply": "2022-05-09T17:21:19.392104Z"
    },
    "jupyter": {
     "source_hidden": true
    },
    "papermill": {
     "duration": 0.026732,
     "end_time": "2022-05-09T17:21:19.394665",
     "exception": false,
     "start_time": "2022-05-09T17:21:19.367933",
     "status": "completed"
    },
    "tags": [
     "remove_input"
    ]
   },
   "outputs": [],
   "source": [
    "%%capture_parameters\n",
    "operator_name = df.name.iloc[0]\n",
    "district_number = f\"{df.caltrans_district.iloc[0].split('-')[0].strip()}\"\n",
    "district_name = f\"{df.caltrans_district.iloc[0].split('-')[1].strip().lower().replace(' ', '-')}\"\n",
    "\n",
    "itp_id, operator_name, district_number, district_name"
   ]
  },
  {
   "cell_type": "markdown",
   "id": "65bc6f5c-8348-42ee-b2dd-52057c406852",
   "metadata": {
    "papermill": {
     "duration": 0.011592,
     "end_time": "2022-05-09T17:21:19.418335",
     "exception": false,
     "start_time": "2022-05-09T17:21:19.406743",
     "status": "completed"
    },
    "tags": []
   },
   "source": [
    "# City of Laguna Beach (ITP ID: 154)"
   ]
  },
  {
   "cell_type": "code",
   "execution_count": 6,
   "id": "a689c1ab-2c6c-4831-8d64-897f5986f571",
   "metadata": {
    "execution": {
     "iopub.execute_input": "2022-05-09T17:21:19.444625Z",
     "iopub.status.busy": "2022-05-09T17:21:19.443759Z",
     "iopub.status.idle": "2022-05-09T17:21:19.452108Z",
     "shell.execute_reply": "2022-05-09T17:21:19.450924Z"
    },
    "jupyter": {
     "source_hidden": true
    },
    "papermill": {
     "duration": 0.024049,
     "end_time": "2022-05-09T17:21:19.454633",
     "exception": false,
     "start_time": "2022-05-09T17:21:19.430584",
     "status": "completed"
    },
    "tags": [
     "remove_input"
    ]
   },
   "outputs": [
    {
     "data": {
      "text/html": [
       "<h1>Competitive & Parallel Routes</h1>"
      ],
      "text/plain": [
       "<IPython.core.display.HTML object>"
      ]
     },
     "metadata": {},
     "output_type": "display_data"
    }
   ],
   "source": [
    "display(HTML(\"<h1>Competitive & Parallel Routes</h1>\")) "
   ]
  },
  {
   "cell_type": "code",
   "execution_count": 7,
   "id": "2cb4d8d5-4760-40e4-85b1-cb833d8bb648",
   "metadata": {
    "execution": {
     "iopub.execute_input": "2022-05-09T17:21:19.483591Z",
     "iopub.status.busy": "2022-05-09T17:21:19.482308Z",
     "iopub.status.idle": "2022-05-09T17:21:30.854988Z",
     "shell.execute_reply": "2022-05-09T17:21:30.854056Z"
    },
    "jupyter": {
     "source_hidden": true
    },
    "papermill": {
     "duration": 11.389299,
     "end_time": "2022-05-09T17:21:30.857274",
     "exception": false,
     "start_time": "2022-05-09T17:21:19.467975",
     "status": "completed"
    },
    "tags": [
     "remove_input"
    ]
   },
   "outputs": [],
   "source": [
    "# Grab parameters for narrative text - clean up formatting here \n",
    "district = df.caltrans_district.iloc[0]\n",
    "formatted_date = pd.to_datetime(parallel_corridors_utils.SELECTED_DATE).strftime('%m-%d-%Y')\n",
    "\n",
    "PCT_COMPETITIVE_THRESHOLD = 0.75\n",
    "\n",
    "stats = parallel_corridors_utils.operator_parallel_competitive_stats(\n",
    "    itp_id, PCT_COMPETITIVE_THRESHOLD)\n",
    "\n",
    "pct_parallel = round(stats['parallel_routes'] / stats['num_routes'] * 100,1 )\n",
    "pct_competitive =  round(stats['competitive_routes'] / stats['num_routes'] * 100,1 )"
   ]
  },
  {
   "cell_type": "markdown",
   "id": "ab667928-5274-4490-82d9-4c39293209a4",
   "metadata": {
    "papermill": {
     "duration": 0.018889,
     "end_time": "2022-05-09T17:21:30.888792",
     "exception": false,
     "start_time": "2022-05-09T17:21:30.869903",
     "status": "completed"
    },
    "tags": []
   },
   "source": [
    "## Quick Stats"
   ]
  },
  {
   "cell_type": "code",
   "execution_count": 8,
   "id": "0416509d-dc62-4165-b62e-64f8b26e8b8e",
   "metadata": {
    "execution": {
     "iopub.execute_input": "2022-05-09T17:21:30.935098Z",
     "iopub.status.busy": "2022-05-09T17:21:30.934809Z",
     "iopub.status.idle": "2022-05-09T17:21:30.942119Z",
     "shell.execute_reply": "2022-05-09T17:21:30.941183Z"
    },
    "jupyter": {
     "source_hidden": true
    },
    "papermill": {
     "duration": 0.024931,
     "end_time": "2022-05-09T17:21:30.945040",
     "exception": false,
     "start_time": "2022-05-09T17:21:30.920109",
     "status": "completed"
    },
    "tags": [
     "remove_input"
    ]
   },
   "outputs": [
    {
     "data": {
      "text/markdown": [
       "**Bus routes in service**: 1 <br>**Parallel routes** to State Highway Network (SHN): 1 routes (100.0%)<br>**Competitive routes** against car travel: 1 routes (100.0%)"
      ],
      "text/plain": [
       "<IPython.core.display.Markdown object>"
      ]
     },
     "metadata": {},
     "output_type": "display_data"
    }
   ],
   "source": [
    "display(\n",
    "    Markdown(\n",
    "        f\"**Bus routes in service**: {stats['num_routes']} \"\n",
    "        \"<br>**Parallel routes** to State Highway Network (SHN): \"\n",
    "        f\"{stats['parallel_routes']} routes ({pct_parallel}%)\"\n",
    "        f\"<br>**Competitive routes** against car travel: {stats['competitive_routes']} routes ({pct_competitive}%)\"\n",
    "    )\n",
    ")"
   ]
  },
  {
   "cell_type": "code",
   "execution_count": 9,
   "id": "f9d6ab58-f0ee-460c-b6de-657490e1f386",
   "metadata": {
    "execution": {
     "iopub.execute_input": "2022-05-09T17:21:30.973727Z",
     "iopub.status.busy": "2022-05-09T17:21:30.973434Z",
     "iopub.status.idle": "2022-05-09T17:21:30.984444Z",
     "shell.execute_reply": "2022-05-09T17:21:30.983224Z"
    },
    "jupyter": {
     "source_hidden": true
    },
    "papermill": {
     "duration": 0.028066,
     "end_time": "2022-05-09T17:21:30.986843",
     "exception": false,
     "start_time": "2022-05-09T17:21:30.958777",
     "status": "completed"
    },
    "tags": [
     "remove_input"
    ]
   },
   "outputs": [],
   "source": [
    "def set_yaxis_range(df, y_col):\n",
    "    Y_MIN = df[y_col].min()\n",
    "    Y_MAX = df[y_col].max()\n",
    "    \n",
    "    return Y_MIN, Y_MAX\n",
    "\n",
    "# Rather than set it according to the operator, which can vary,\n",
    "# just use set thresholds for each group\n",
    "diff_cutoffs = parallel_corridors_utils.diff_cutoffs\n",
    "\n",
    "PCT_TRIPS_BELOW_CUTOFF = 0.25\n",
    "\n",
    "def top15_routes(df, route_group):\n",
    "    df2 = (df[df.route_group==route_group])\n",
    "    # Set a cut-off to enable sorting, where most of the trips are \n",
    "    # below a certain time difference cut-off, \n",
    "    # grab top 15 routes where majority of trips are below that cut-off \n",
    "\n",
    "    route_cols = [\"calitp_itp_id\", \"route_id\"]\n",
    "\n",
    "    df2 = df2.assign(\n",
    "        below_cutoff = df2.apply(lambda x: 1 if x.bus_difference <= diff_cutoffs[route_group] \n",
    "                                 else 0, axis=1),\n",
    "        num_trips = df2.groupby(route_cols)[\"trip_id\"].transform(\"count\")\n",
    "    )\n",
    "\n",
    "    df2[\"below_cutoff\"] = df2.groupby(route_cols)[\"below_cutoff\"].transform(\"sum\")\n",
    "    df2[\"pct_below_cutoff\"] = df2.below_cutoff.divide(df2.num_trips)\n",
    "\n",
    "    # At least half the trips are below that cut-off\n",
    "    # but show 15 max, otherwise, show less, since these won't be as interesting to operators\n",
    "    df3 = (df2[df2.pct_below_cutoff >= PCT_TRIPS_BELOW_CUTOFF]\n",
    "           .sort_values([\"calitp_itp_id\", \"below_cutoff\", \n",
    "                         \"pct_below_cutoff\", \"route_id\"],\n",
    "                        ascending = [True, False, False, True]\n",
    "                       )\n",
    "           .drop_duplicates(subset=[\"calitp_itp_id\", \"route_id\"])\n",
    "          ).head(15)\n",
    "    \n",
    "    return list(df3.route_id)"
   ]
  },
  {
   "cell_type": "code",
   "execution_count": 10,
   "id": "cf36d559-3349-4144-8086-8ac9ce937a5a",
   "metadata": {
    "execution": {
     "iopub.execute_input": "2022-05-09T17:21:31.031683Z",
     "iopub.status.busy": "2022-05-09T17:21:31.031269Z",
     "iopub.status.idle": "2022-05-09T17:21:31.038752Z",
     "shell.execute_reply": "2022-05-09T17:21:31.037905Z"
    },
    "jupyter": {
     "source_hidden": true
    },
    "papermill": {
     "duration": 0.026341,
     "end_time": "2022-05-09T17:21:31.041095",
     "exception": false,
     "start_time": "2022-05-09T17:21:31.014754",
     "status": "completed"
    },
    "tags": [
     "remove_input"
    ]
   },
   "outputs": [],
   "source": [
    "def caption_with_cutoff(cutoff):\n",
    "    sentence = (\n",
    "        f\"<br>These are routes that have **at least {int(PCT_TRIPS_BELOW_CUTOFF*100)}% \"\n",
    "        \"of their trips take no more than an \"\n",
    "        f\"additional {cutoff} min** compared to a car \"\n",
    "        \"(up to 15 routes) are shown.\"\n",
    "        \"<br>Within each route group, routes are sorted in descending order \"\n",
    "        \"by % competitive trips and # trips below the additional time cut-off.\"\n",
    "    )\n",
    "    return sentence\n",
    "\n",
    "CAPTIONS_DICT = {\n",
    "    \"short\": caption_with_cutoff(diff_cutoffs['short']),\n",
    "    \"medium\": caption_with_cutoff(diff_cutoffs['medium']),\n",
    "    \"long\": caption_with_cutoff(diff_cutoffs['long']),\n",
    "}"
   ]
  },
  {
   "cell_type": "code",
   "execution_count": 11,
   "id": "e4306d58-6944-47e9-afef-5d5b524c751f",
   "metadata": {
    "execution": {
     "iopub.execute_input": "2022-05-09T17:21:31.072947Z",
     "iopub.status.busy": "2022-05-09T17:21:31.072118Z",
     "iopub.status.idle": "2022-05-09T17:21:31.080096Z",
     "shell.execute_reply": "2022-05-09T17:21:31.079388Z"
    },
    "jupyter": {
     "source_hidden": true
    },
    "papermill": {
     "duration": 0.02577,
     "end_time": "2022-05-09T17:21:31.082338",
     "exception": false,
     "start_time": "2022-05-09T17:21:31.056568",
     "status": "completed"
    },
    "tags": [
     "remove_input"
    ]
   },
   "outputs": [],
   "source": [
    "def setup_charts(df, PCT_COMPETITIVE_THRESHOLD, route_group):\n",
    "    # Set up df for charting (cut-off at some threshold to show most competitive routes)\n",
    "    plot_me = (df[df.pct_trips_competitive > PCT_COMPETITIVE_THRESHOLD]\n",
    "           .drop(columns = \"geometry\")\n",
    "    )\n",
    "    \n",
    "    y_col1 = \"bus_multiplier\"\n",
    "    Y_MIN1, Y_MAX1 = set_yaxis_range(plot_me, y_col1)\n",
    "\n",
    "    y_col2 = \"bus_difference\"\n",
    "    Y_MIN2, Y_MAX2 = set_yaxis_range(plot_me, y_col2)\n",
    "     \n",
    "    subset_routes = top15_routes(plot_me, route_group)\n",
    "    \n",
    "    multiplier_chart = parallel_corridors_utils.make_stripplot(\n",
    "        plot_me[plot_me.route_id.isin(subset_routes)], \n",
    "        y_col1, Y_MIN = Y_MIN1, Y_MAX = Y_MAX1\n",
    "    )\n",
    "    \n",
    "    difference_chart = parallel_corridors_utils.make_stripplot(\n",
    "        plot_me[plot_me.route_id.isin(subset_routes)], \n",
    "        y_col2, Y_MIN = Y_MIN2, Y_MAX = Y_MAX2\n",
    "    )\n",
    "    \n",
    "    return subset_routes, multiplier_chart, difference_chart            "
   ]
  },
  {
   "cell_type": "code",
   "execution_count": 12,
   "id": "33a710e8-504c-4942-aa75-ff69f216956e",
   "metadata": {
    "execution": {
     "iopub.execute_input": "2022-05-09T17:21:31.119951Z",
     "iopub.status.busy": "2022-05-09T17:21:31.119102Z",
     "iopub.status.idle": "2022-05-09T17:21:31.125516Z",
     "shell.execute_reply": "2022-05-09T17:21:31.124326Z"
    },
    "jupyter": {
     "source_hidden": true
    },
    "papermill": {
     "duration": 0.030665,
     "end_time": "2022-05-09T17:21:31.128452",
     "exception": false,
     "start_time": "2022-05-09T17:21:31.097787",
     "status": "completed"
    },
    "tags": [
     "remove_input"
    ]
   },
   "outputs": [],
   "source": [
    "def display_charts_for_route_group(df, route_group):    \n",
    "    subset_routes, mult, diff  = setup_charts(df, PCT_COMPETITIVE_THRESHOLD, route_group)\n",
    "\n",
    "    if len(subset_routes) > 0:\n",
    "        display(Markdown(f\"{CAPTIONS_DICT[route_group]}\"))\n",
    "\n",
    "        display(mult)\n",
    "        display(diff)"
   ]
  },
  {
   "cell_type": "markdown",
   "id": "525f9b38-072b-46d1-96a8-1aa4b038357c",
   "metadata": {
    "papermill": {
     "duration": 0.017743,
     "end_time": "2022-05-09T17:21:31.162036",
     "exception": false,
     "start_time": "2022-05-09T17:21:31.144293",
     "status": "completed"
    },
    "tags": []
   },
   "source": [
    "## Viable Competitive Routes\n",
    "### Short Routes (< 1 hr)"
   ]
  },
  {
   "cell_type": "code",
   "execution_count": 13,
   "id": "57f7084c-2cf7-45c6-ba08-1609e0bd6ca5",
   "metadata": {
    "execution": {
     "iopub.execute_input": "2022-05-09T17:21:31.229462Z",
     "iopub.status.busy": "2022-05-09T17:21:31.228262Z",
     "iopub.status.idle": "2022-05-09T17:21:31.553822Z",
     "shell.execute_reply": "2022-05-09T17:21:31.552759Z"
    },
    "jupyter": {
     "source_hidden": true
    },
    "papermill": {
     "duration": 0.361818,
     "end_time": "2022-05-09T17:21:31.557591",
     "exception": false,
     "start_time": "2022-05-09T17:21:31.195773",
     "status": "completed"
    },
    "tags": [
     "remove_input"
    ]
   },
   "outputs": [
    {
     "data": {
      "text/markdown": [
       "<br>These are routes that have **at least 25% of their trips take no more than an additional 20 min** compared to a car (up to 15 routes) are shown.<br>Within each route group, routes are sorted in descending order by % competitive trips and # trips below the additional time cut-off."
      ],
      "text/plain": [
       "<IPython.core.display.Markdown object>"
      ]
     },
     "metadata": {},
     "output_type": "display_data"
    },
    {
     "data": {
      "text/html": [
       "\n",
       "<div id=\"altair-viz-df1cf85cdc38432391e1e5961b13f0b5\"></div>\n",
       "<script type=\"text/javascript\">\n",
       "  var VEGA_DEBUG = (typeof VEGA_DEBUG == \"undefined\") ? {} : VEGA_DEBUG;\n",
       "  (function(spec, embedOpt){\n",
       "    let outputDiv = document.currentScript.previousElementSibling;\n",
       "    if (outputDiv.id !== \"altair-viz-df1cf85cdc38432391e1e5961b13f0b5\") {\n",
       "      outputDiv = document.getElementById(\"altair-viz-df1cf85cdc38432391e1e5961b13f0b5\");\n",
       "    }\n",
       "    const paths = {\n",
       "      \"vega\": \"https://cdn.jsdelivr.net/npm//vega@5?noext\",\n",
       "      \"vega-lib\": \"https://cdn.jsdelivr.net/npm//vega-lib?noext\",\n",
       "      \"vega-lite\": \"https://cdn.jsdelivr.net/npm//vega-lite@4.17.0?noext\",\n",
       "      \"vega-embed\": \"https://cdn.jsdelivr.net/npm//vega-embed@6?noext\",\n",
       "    };\n",
       "\n",
       "    function maybeLoadScript(lib, version) {\n",
       "      var key = `${lib.replace(\"-\", \"\")}_version`;\n",
       "      return (VEGA_DEBUG[key] == version) ?\n",
       "        Promise.resolve(paths[lib]) :\n",
       "        new Promise(function(resolve, reject) {\n",
       "          var s = document.createElement('script');\n",
       "          document.getElementsByTagName(\"head\")[0].appendChild(s);\n",
       "          s.async = true;\n",
       "          s.onload = () => {\n",
       "            VEGA_DEBUG[key] = version;\n",
       "            return resolve(paths[lib]);\n",
       "          };\n",
       "          s.onerror = () => reject(`Error loading script: ${paths[lib]}`);\n",
       "          s.src = paths[lib];\n",
       "        });\n",
       "    }\n",
       "\n",
       "    function showError(err) {\n",
       "      outputDiv.innerHTML = `<div class=\"error\" style=\"color:red;\">${err}</div>`;\n",
       "      throw err;\n",
       "    }\n",
       "\n",
       "    function displayChart(vegaEmbed) {\n",
       "      vegaEmbed(outputDiv, spec, embedOpt)\n",
       "        .catch(err => showError(`Javascript Error: ${err.message}<br>This usually means there's a typo in your chart specification. See the javascript console for the full traceback.`));\n",
       "    }\n",
       "\n",
       "    if(typeof define === \"function\" && define.amd) {\n",
       "      requirejs.config({paths});\n",
       "      require([\"vega-embed\"], displayChart, err => showError(`Error loading script: ${err.message}`));\n",
       "    } else {\n",
       "      maybeLoadScript(\"vega\", \"5\")\n",
       "        .then(() => maybeLoadScript(\"vega-lite\", \"4.17.0\"))\n",
       "        .then(() => maybeLoadScript(\"vega-embed\", \"6\"))\n",
       "        .catch(showError)\n",
       "        .then(() => displayChart(vegaEmbed));\n",
       "    }\n",
       "  })({\"config\": {\"view\": {\"continuousWidth\": 400, \"continuousHeight\": 300, \"stroke\": null}, \"facet\": {\"spacing\": 0}}, \"data\": {\"name\": \"data-de1278d97d5cd9596c747508e1b38adc\"}, \"facet\": {\"column\": {\"field\": \"route_id\", \"sort\": [\"19752\"], \"title\": \"Route ID\", \"type\": \"nominal\"}}, \"spec\": {\"layer\": [{\"mark\": \"rule\", \"encoding\": {\"color\": {\"value\": \"black\"}, \"y\": {\"field\": \"cutoff\", \"type\": \"quantitative\"}}, \"selection\": {\"selector001\": {\"type\": \"interval\", \"bind\": \"scales\", \"encodings\": [\"x\", \"y\"]}}}, {\"mark\": {\"type\": \"point\", \"opacity\": 0.65, \"size\": 12, \"strokeWidth\": 1.1}, \"encoding\": {\"color\": {\"field\": \"time_of_day\", \"scale\": {\"range\": [\"#136C97\", \"#E16B26\", \"#F6BF16\", \"#00896B\", \"#7790A3\", \"#5B559C\"]}, \"sort\": [\"AM Peak\", \"Midday\", \"PM Peak\", \"Owl Service\"], \"title\": \"Time of Day\", \"type\": \"nominal\"}, \"tooltip\": [{\"field\": \"route_id\", \"type\": \"nominal\"}, {\"field\": \"trip_id\", \"type\": \"nominal\"}, {\"field\": \"service_hours\", \"type\": \"quantitative\"}, {\"field\": \"car_duration_hours\", \"type\": \"quantitative\"}, {\"field\": \"bus_multiplier\", \"type\": \"quantitative\"}, {\"field\": \"bus_difference\", \"type\": \"quantitative\"}, {\"field\": \"num_trips\", \"type\": \"quantitative\"}, {\"field\": \"num_competitive\", \"type\": \"quantitative\"}, {\"field\": \"pct_trips_competitive\", \"type\": \"quantitative\"}, {\"field\": \"p25\", \"type\": \"quantitative\"}, {\"field\": \"p50\", \"type\": \"quantitative\"}, {\"field\": \"p75\", \"type\": \"quantitative\"}], \"x\": {\"axis\": {\"grid\": false, \"labels\": false, \"ticks\": true, \"values\": [0]}, \"field\": \"jitter\", \"scale\": {}, \"title\": null, \"type\": \"quantitative\"}, \"y\": {\"field\": \"bus_multiplier\", \"scale\": {\"domain\": [-0.25, 2.77]}, \"title\": \"Ratio of Bus to Car Travel Time\", \"type\": \"quantitative\"}}, \"transform\": [{\"calculate\": \"sqrt(-2*log(random()))*cos(2*PI*random())\", \"as\": \"jitter\"}], \"width\": 50}, {\"layer\": [{\"mark\": {\"type\": \"point\", \"opacity\": 0.6, \"size\": 20, \"strokeWidth\": 1.3}, \"encoding\": {\"color\": {\"value\": \"#323434\"}, \"y\": {\"field\": \"bus_multiplier\", \"type\": \"quantitative\"}}, \"transform\": [{\"filter\": \"(datum.p50_trip === 1)\"}]}, {\"mark\": {\"type\": \"text\", \"align\": \"center\", \"baseline\": \"middle\"}, \"encoding\": {\"color\": {\"value\": \"black\"}, \"text\": {\"field\": \"pct_trips_competitive\", \"format\": \".0%\", \"type\": \"quantitative\"}, \"tooltip\": [{\"field\": \"route_id\", \"type\": \"nominal\"}, {\"field\": \"trip_id\", \"type\": \"nominal\"}, {\"field\": \"service_hours\", \"type\": \"quantitative\"}, {\"field\": \"car_duration_hours\", \"type\": \"quantitative\"}, {\"field\": \"bus_multiplier\", \"type\": \"quantitative\"}, {\"field\": \"bus_difference\", \"type\": \"quantitative\"}, {\"field\": \"num_trips\", \"type\": \"quantitative\"}, {\"field\": \"num_competitive\", \"type\": \"quantitative\"}, {\"field\": \"pct_trips_competitive\", \"type\": \"quantitative\"}, {\"field\": \"p25\", \"type\": \"quantitative\"}, {\"field\": \"p50\", \"type\": \"quantitative\"}, {\"field\": \"p75\", \"type\": \"quantitative\"}], \"x\": {\"value\": 30}, \"y\": {\"value\": 15}}, \"transform\": [{\"calculate\": \"sqrt(-2*log(random()))*cos(2*PI*random())\", \"as\": \"jitter\"}, {\"filter\": \"(datum.fastest_trip === 1)\"}]}]}]}, \"resolve\": {\"scale\": {\"y\": \"shared\"}}, \"title\": \"Ratio of Bus to Car Travel Time\", \"$schema\": \"https://vega.github.io/schema/vega-lite/v4.17.0.json\", \"datasets\": {\"data-de1278d97d5cd9596c747508e1b38adc\": [{\"calitp_itp_id\": 154, \"trip_key\": 7806917445833874815, \"trip_id\": \"t_1552661_b_31068_tn_0\", \"shape_id\": \"p_1277986\", \"route_id\": \"19752\", \"service_hours\": 0.4, \"trip_first_departure_ts\": 64800, \"trip_last_arrival_ts\": 66240, \"departure_hour\": 18, \"time_of_day\": \"PM Peak\", \"p25\": 0.45, \"p50\": 0.5, \"p75\": 0.5, \"p50_trip\": 0, \"fastest_trip\": 1, \"car_duration_hours\": 0.3, \"competitive_route\": 1, \"bus_multiplier\": 1.33, \"bus_difference\": 6.0, \"num_trips\": 44, \"num_competitive\": 40, \"pct_trips_competitive\": 0.909, \"bus_difference_spread\": 25.8, \"route_group\": \"short\", \"max_trip_hrs\": 0.83, \"max_trip_route_group\": 0.83, \"name\": \"City of Laguna Beach\", \"caltrans_district\": \"12 - Irvine\", \"drmt_organization_name\": null, \"cutoff2\": 20, \"cutoff\": 2}, {\"calitp_itp_id\": 154, \"trip_key\": 5712075708841317841, \"trip_id\": \"t_1552640_b_31068_tn_0\", \"shape_id\": \"p_1277984\", \"route_id\": \"19752\", \"service_hours\": 0.43, \"trip_first_departure_ts\": 63240, \"trip_last_arrival_ts\": 64800, \"departure_hour\": 17, \"time_of_day\": \"PM Peak\", \"p25\": 0.45, \"p50\": 0.5, \"p75\": 0.5, \"p50_trip\": 0, \"fastest_trip\": 0, \"car_duration_hours\": 0.3, \"competitive_route\": 1, \"bus_multiplier\": 1.43, \"bus_difference\": 7.8, \"num_trips\": 44, \"num_competitive\": 40, \"pct_trips_competitive\": 0.909, \"bus_difference_spread\": 25.8, \"route_group\": \"short\", \"max_trip_hrs\": 0.83, \"max_trip_route_group\": 0.83, \"name\": \"City of Laguna Beach\", \"caltrans_district\": \"12 - Irvine\", \"drmt_organization_name\": null, \"cutoff2\": 20, \"cutoff\": 2}, {\"calitp_itp_id\": 154, \"trip_key\": 7686097368330038607, \"trip_id\": \"t_1552655_b_31068_tn_0\", \"shape_id\": \"p_1277982\", \"route_id\": \"19752\", \"service_hours\": 0.45, \"trip_first_departure_ts\": 28800, \"trip_last_arrival_ts\": 30420, \"departure_hour\": 8, \"time_of_day\": \"AM Peak\", \"p25\": 0.45, \"p50\": 0.5, \"p75\": 0.5, \"p50_trip\": 0, \"fastest_trip\": 0, \"car_duration_hours\": 0.3, \"competitive_route\": 1, \"bus_multiplier\": 1.5, \"bus_difference\": 9.0, \"num_trips\": 44, \"num_competitive\": 40, \"pct_trips_competitive\": 0.909, \"bus_difference_spread\": 25.8, \"route_group\": \"short\", \"max_trip_hrs\": 0.83, \"max_trip_route_group\": 0.83, \"name\": \"City of Laguna Beach\", \"caltrans_district\": \"12 - Irvine\", \"drmt_organization_name\": null, \"cutoff2\": 20, \"cutoff\": 2}, {\"calitp_itp_id\": 154, \"trip_key\": 356393108027905529, \"trip_id\": \"t_1552638_b_31068_tn_0\", \"shape_id\": \"p_1277984\", \"route_id\": \"19752\", \"service_hours\": 0.45, \"trip_first_departure_ts\": 59160, \"trip_last_arrival_ts\": 60780, \"departure_hour\": 16, \"time_of_day\": \"Midday\", \"p25\": 0.45, \"p50\": 0.5, \"p75\": 0.5, \"p50_trip\": 0, \"fastest_trip\": 0, \"car_duration_hours\": 0.3, \"competitive_route\": 1, \"bus_multiplier\": 1.5, \"bus_difference\": 9.0, \"num_trips\": 44, \"num_competitive\": 40, \"pct_trips_competitive\": 0.909, \"bus_difference_spread\": 25.8, \"route_group\": \"short\", \"max_trip_hrs\": 0.83, \"max_trip_route_group\": 0.83, \"name\": \"City of Laguna Beach\", \"caltrans_district\": \"12 - Irvine\", \"drmt_organization_name\": null, \"cutoff2\": 20, \"cutoff\": 2}, {\"calitp_itp_id\": 154, \"trip_key\": 6782257670480665715, \"trip_id\": \"t_1552643_b_31068_tn_0\", \"shape_id\": \"p_1277984\", \"route_id\": \"19752\", \"service_hours\": 0.45, \"trip_first_departure_ts\": 32400, \"trip_last_arrival_ts\": 34020, \"departure_hour\": 9, \"time_of_day\": \"AM Peak\", \"p25\": 0.45, \"p50\": 0.5, \"p75\": 0.5, \"p50_trip\": 0, \"fastest_trip\": 0, \"car_duration_hours\": 0.3, \"competitive_route\": 1, \"bus_multiplier\": 1.5, \"bus_difference\": 9.0, \"num_trips\": 44, \"num_competitive\": 40, \"pct_trips_competitive\": 0.909, \"bus_difference_spread\": 25.8, \"route_group\": \"short\", \"max_trip_hrs\": 0.83, \"max_trip_route_group\": 0.83, \"name\": \"City of Laguna Beach\", \"caltrans_district\": \"12 - Irvine\", \"drmt_organization_name\": null, \"cutoff2\": 20, \"cutoff\": 2}, {\"calitp_itp_id\": 154, \"trip_key\": 54815795372127949, \"trip_id\": \"t_1552654_b_31068_tn_0\", \"shape_id\": \"p_1277982\", \"route_id\": \"19752\", \"service_hours\": 0.45, \"trip_first_departure_ts\": 27000, \"trip_last_arrival_ts\": 28620, \"departure_hour\": 7, \"time_of_day\": \"AM Peak\", \"p25\": 0.45, \"p50\": 0.5, \"p75\": 0.5, \"p50_trip\": 0, \"fastest_trip\": 0, \"car_duration_hours\": 0.3, \"competitive_route\": 1, \"bus_multiplier\": 1.5, \"bus_difference\": 9.0, \"num_trips\": 44, \"num_competitive\": 40, \"pct_trips_competitive\": 0.909, \"bus_difference_spread\": 25.8, \"route_group\": \"short\", \"max_trip_hrs\": 0.83, \"max_trip_route_group\": 0.83, \"name\": \"City of Laguna Beach\", \"caltrans_district\": \"12 - Irvine\", \"drmt_organization_name\": null, \"cutoff2\": 20, \"cutoff\": 2}, {\"calitp_itp_id\": 154, \"trip_key\": -592244683577441027, \"trip_id\": \"t_1552656_b_31068_tn_0\", \"shape_id\": \"p_1277982\", \"route_id\": \"19752\", \"service_hours\": 0.45, \"trip_first_departure_ts\": 23400, \"trip_last_arrival_ts\": 25020, \"departure_hour\": 6, \"time_of_day\": \"Owl Service\", \"p25\": 0.45, \"p50\": 0.5, \"p75\": 0.5, \"p50_trip\": 0, \"fastest_trip\": 0, \"car_duration_hours\": 0.3, \"competitive_route\": 1, \"bus_multiplier\": 1.5, \"bus_difference\": 9.0, \"num_trips\": 44, \"num_competitive\": 40, \"pct_trips_competitive\": 0.909, \"bus_difference_spread\": 25.8, \"route_group\": \"short\", \"max_trip_hrs\": 0.83, \"max_trip_route_group\": 0.83, \"name\": \"City of Laguna Beach\", \"caltrans_district\": \"12 - Irvine\", \"drmt_organization_name\": null, \"cutoff2\": 20, \"cutoff\": 2}, {\"calitp_itp_id\": 154, \"trip_key\": -8203847068274567800, \"trip_id\": \"t_1552636_b_31068_tn_0\", \"shape_id\": \"p_1277982\", \"route_id\": \"19752\", \"service_hours\": 0.45, \"trip_first_departure_ts\": 56640, \"trip_last_arrival_ts\": 58260, \"departure_hour\": 15, \"time_of_day\": \"Midday\", \"p25\": 0.45, \"p50\": 0.5, \"p75\": 0.5, \"p50_trip\": 0, \"fastest_trip\": 0, \"car_duration_hours\": 0.3, \"competitive_route\": 1, \"bus_multiplier\": 1.5, \"bus_difference\": 9.0, \"num_trips\": 44, \"num_competitive\": 40, \"pct_trips_competitive\": 0.909, \"bus_difference_spread\": 25.8, \"route_group\": \"short\", \"max_trip_hrs\": 0.83, \"max_trip_route_group\": 0.83, \"name\": \"City of Laguna Beach\", \"caltrans_district\": \"12 - Irvine\", \"drmt_organization_name\": null, \"cutoff2\": 20, \"cutoff\": 2}, {\"calitp_itp_id\": 154, \"trip_key\": 5704097460175481058, \"trip_id\": \"t_1552649_b_31068_tn_0\", \"shape_id\": \"p_1277984\", \"route_id\": \"19752\", \"service_hours\": 0.45, \"trip_first_departure_ts\": 43200, \"trip_last_arrival_ts\": 44820, \"departure_hour\": 12, \"time_of_day\": \"Midday\", \"p25\": 0.45, \"p50\": 0.5, \"p75\": 0.5, \"p50_trip\": 0, \"fastest_trip\": 0, \"car_duration_hours\": 0.3, \"competitive_route\": 1, \"bus_multiplier\": 1.5, \"bus_difference\": 9.0, \"num_trips\": 44, \"num_competitive\": 40, \"pct_trips_competitive\": 0.909, \"bus_difference_spread\": 25.8, \"route_group\": \"short\", \"max_trip_hrs\": 0.83, \"max_trip_route_group\": 0.83, \"name\": \"City of Laguna Beach\", \"caltrans_district\": \"12 - Irvine\", \"drmt_organization_name\": null, \"cutoff2\": 20, \"cutoff\": 2}, {\"calitp_itp_id\": 154, \"trip_key\": -3930039889659231609, \"trip_id\": \"t_1552646_b_31068_tn_0\", \"shape_id\": \"p_1277984\", \"route_id\": \"19752\", \"service_hours\": 0.45, \"trip_first_departure_ts\": 37800, \"trip_last_arrival_ts\": 39420, \"departure_hour\": 10, \"time_of_day\": \"Midday\", \"p25\": 0.45, \"p50\": 0.5, \"p75\": 0.5, \"p50_trip\": 0, \"fastest_trip\": 0, \"car_duration_hours\": 0.3, \"competitive_route\": 1, \"bus_multiplier\": 1.5, \"bus_difference\": 9.0, \"num_trips\": 44, \"num_competitive\": 40, \"pct_trips_competitive\": 0.909, \"bus_difference_spread\": 25.8, \"route_group\": \"short\", \"max_trip_hrs\": 0.83, \"max_trip_route_group\": 0.83, \"name\": \"City of Laguna Beach\", \"caltrans_district\": \"12 - Irvine\", \"drmt_organization_name\": null, \"cutoff2\": 20, \"cutoff\": 2}, {\"calitp_itp_id\": 154, \"trip_key\": 1891569025779206796, \"trip_id\": \"t_1552650_b_31068_tn_0\", \"shape_id\": \"p_1277984\", \"route_id\": \"19752\", \"service_hours\": 0.45, \"trip_first_departure_ts\": 45000, \"trip_last_arrival_ts\": 46620, \"departure_hour\": 12, \"time_of_day\": \"Midday\", \"p25\": 0.45, \"p50\": 0.5, \"p75\": 0.5, \"p50_trip\": 0, \"fastest_trip\": 0, \"car_duration_hours\": 0.3, \"competitive_route\": 1, \"bus_multiplier\": 1.5, \"bus_difference\": 9.0, \"num_trips\": 44, \"num_competitive\": 40, \"pct_trips_competitive\": 0.909, \"bus_difference_spread\": 25.8, \"route_group\": \"short\", \"max_trip_hrs\": 0.83, \"max_trip_route_group\": 0.83, \"name\": \"City of Laguna Beach\", \"caltrans_district\": \"12 - Irvine\", \"drmt_organization_name\": null, \"cutoff2\": 20, \"cutoff\": 2}, {\"calitp_itp_id\": 154, \"trip_key\": 702541903140554760, \"trip_id\": \"t_1552653_b_31068_tn_0\", \"shape_id\": \"p_1277982\", \"route_id\": \"19752\", \"service_hours\": 0.45, \"trip_first_departure_ts\": 25200, \"trip_last_arrival_ts\": 26820, \"departure_hour\": 7, \"time_of_day\": \"AM Peak\", \"p25\": 0.45, \"p50\": 0.5, \"p75\": 0.5, \"p50_trip\": 0, \"fastest_trip\": 0, \"car_duration_hours\": 0.3, \"competitive_route\": 1, \"bus_multiplier\": 1.5, \"bus_difference\": 9.0, \"num_trips\": 44, \"num_competitive\": 40, \"pct_trips_competitive\": 0.909, \"bus_difference_spread\": 25.8, \"route_group\": \"short\", \"max_trip_hrs\": 0.83, \"max_trip_route_group\": 0.83, \"name\": \"City of Laguna Beach\", \"caltrans_district\": \"12 - Irvine\", \"drmt_organization_name\": null, \"cutoff2\": 20, \"cutoff\": 2}, {\"calitp_itp_id\": 154, \"trip_key\": -68836863474557720, \"trip_id\": \"t_1552651_b_31068_tn_0\", \"shape_id\": \"p_1277984\", \"route_id\": \"19752\", \"service_hours\": 0.45, \"trip_first_departure_ts\": 46800, \"trip_last_arrival_ts\": 48420, \"departure_hour\": 13, \"time_of_day\": \"Midday\", \"p25\": 0.45, \"p50\": 0.5, \"p75\": 0.5, \"p50_trip\": 0, \"fastest_trip\": 0, \"car_duration_hours\": 0.3, \"competitive_route\": 1, \"bus_multiplier\": 1.5, \"bus_difference\": 9.0, \"num_trips\": 44, \"num_competitive\": 40, \"pct_trips_competitive\": 0.909, \"bus_difference_spread\": 25.8, \"route_group\": \"short\", \"max_trip_hrs\": 0.83, \"max_trip_route_group\": 0.83, \"name\": \"City of Laguna Beach\", \"caltrans_district\": \"12 - Irvine\", \"drmt_organization_name\": null, \"cutoff2\": 20, \"cutoff\": 2}, {\"calitp_itp_id\": 154, \"trip_key\": -4585732728316578712, \"trip_id\": \"t_1552644_b_31068_tn_0\", \"shape_id\": \"p_1277984\", \"route_id\": \"19752\", \"service_hours\": 0.45, \"trip_first_departure_ts\": 34200, \"trip_last_arrival_ts\": 35820, \"departure_hour\": 9, \"time_of_day\": \"AM Peak\", \"p25\": 0.45, \"p50\": 0.5, \"p75\": 0.5, \"p50_trip\": 0, \"fastest_trip\": 0, \"car_duration_hours\": 0.3, \"competitive_route\": 1, \"bus_multiplier\": 1.5, \"bus_difference\": 9.0, \"num_trips\": 44, \"num_competitive\": 40, \"pct_trips_competitive\": 0.909, \"bus_difference_spread\": 25.8, \"route_group\": \"short\", \"max_trip_hrs\": 0.83, \"max_trip_route_group\": 0.83, \"name\": \"City of Laguna Beach\", \"caltrans_district\": \"12 - Irvine\", \"drmt_organization_name\": null, \"cutoff2\": 20, \"cutoff\": 2}, {\"calitp_itp_id\": 154, \"trip_key\": -8910633763075763058, \"trip_id\": \"t_1552641_b_31068_tn_0\", \"shape_id\": \"p_1277984\", \"route_id\": \"19752\", \"service_hours\": 0.45, \"trip_first_departure_ts\": 64800, \"trip_last_arrival_ts\": 66420, \"departure_hour\": 18, \"time_of_day\": \"PM Peak\", \"p25\": 0.45, \"p50\": 0.5, \"p75\": 0.5, \"p50_trip\": 0, \"fastest_trip\": 0, \"car_duration_hours\": 0.3, \"competitive_route\": 1, \"bus_multiplier\": 1.5, \"bus_difference\": 9.0, \"num_trips\": 44, \"num_competitive\": 40, \"pct_trips_competitive\": 0.909, \"bus_difference_spread\": 25.8, \"route_group\": \"short\", \"max_trip_hrs\": 0.83, \"max_trip_route_group\": 0.83, \"name\": \"City of Laguna Beach\", \"caltrans_district\": \"12 - Irvine\", \"drmt_organization_name\": null, \"cutoff2\": 20, \"cutoff\": 2}, {\"calitp_itp_id\": 154, \"trip_key\": -382299546131518929, \"trip_id\": \"t_1552648_b_31068_tn_0\", \"shape_id\": \"p_1277984\", \"route_id\": \"19752\", \"service_hours\": 0.45, \"trip_first_departure_ts\": 41400, \"trip_last_arrival_ts\": 43020, \"departure_hour\": 11, \"time_of_day\": \"Midday\", \"p25\": 0.45, \"p50\": 0.5, \"p75\": 0.5, \"p50_trip\": 0, \"fastest_trip\": 0, \"car_duration_hours\": 0.3, \"competitive_route\": 1, \"bus_multiplier\": 1.5, \"bus_difference\": 9.0, \"num_trips\": 44, \"num_competitive\": 40, \"pct_trips_competitive\": 0.909, \"bus_difference_spread\": 25.8, \"route_group\": \"short\", \"max_trip_hrs\": 0.83, \"max_trip_route_group\": 0.83, \"name\": \"City of Laguna Beach\", \"caltrans_district\": \"12 - Irvine\", \"drmt_organization_name\": null, \"cutoff2\": 20, \"cutoff\": 2}, {\"calitp_itp_id\": 154, \"trip_key\": -3723945693936646698, \"trip_id\": \"t_1552639_b_31068_tn_0\", \"shape_id\": \"p_1277984\", \"route_id\": \"19752\", \"service_hours\": 0.45, \"trip_first_departure_ts\": 60900, \"trip_last_arrival_ts\": 62520, \"departure_hour\": 16, \"time_of_day\": \"Midday\", \"p25\": 0.45, \"p50\": 0.5, \"p75\": 0.5, \"p50_trip\": 0, \"fastest_trip\": 0, \"car_duration_hours\": 0.3, \"competitive_route\": 1, \"bus_multiplier\": 1.5, \"bus_difference\": 9.0, \"num_trips\": 44, \"num_competitive\": 40, \"pct_trips_competitive\": 0.909, \"bus_difference_spread\": 25.8, \"route_group\": \"short\", \"max_trip_hrs\": 0.83, \"max_trip_route_group\": 0.83, \"name\": \"City of Laguna Beach\", \"caltrans_district\": \"12 - Irvine\", \"drmt_organization_name\": null, \"cutoff2\": 20, \"cutoff\": 2}, {\"calitp_itp_id\": 154, \"trip_key\": 8566596254515144504, \"trip_id\": \"t_1552645_b_31068_tn_0\", \"shape_id\": \"p_1277984\", \"route_id\": \"19752\", \"service_hours\": 0.45, \"trip_first_departure_ts\": 36000, \"trip_last_arrival_ts\": 37620, \"departure_hour\": 10, \"time_of_day\": \"Midday\", \"p25\": 0.45, \"p50\": 0.5, \"p75\": 0.5, \"p50_trip\": 0, \"fastest_trip\": 0, \"car_duration_hours\": 0.3, \"competitive_route\": 1, \"bus_multiplier\": 1.5, \"bus_difference\": 9.0, \"num_trips\": 44, \"num_competitive\": 40, \"pct_trips_competitive\": 0.909, \"bus_difference_spread\": 25.8, \"route_group\": \"short\", \"max_trip_hrs\": 0.83, \"max_trip_route_group\": 0.83, \"name\": \"City of Laguna Beach\", \"caltrans_district\": \"12 - Irvine\", \"drmt_organization_name\": null, \"cutoff2\": 20, \"cutoff\": 2}, {\"calitp_itp_id\": 154, \"trip_key\": 2508702419336091291, \"trip_id\": \"t_1552660_b_31068_tn_0\", \"shape_id\": \"p_1277985\", \"route_id\": \"19752\", \"service_hours\": 0.45, \"trip_first_departure_ts\": 63120, \"trip_last_arrival_ts\": 64740, \"departure_hour\": 17, \"time_of_day\": \"PM Peak\", \"p25\": 0.45, \"p50\": 0.5, \"p75\": 0.5, \"p50_trip\": 0, \"fastest_trip\": 0, \"car_duration_hours\": 0.3, \"competitive_route\": 1, \"bus_multiplier\": 1.5, \"bus_difference\": 9.0, \"num_trips\": 44, \"num_competitive\": 40, \"pct_trips_competitive\": 0.909, \"bus_difference_spread\": 25.8, \"route_group\": \"short\", \"max_trip_hrs\": 0.83, \"max_trip_route_group\": 0.83, \"name\": \"City of Laguna Beach\", \"caltrans_district\": \"12 - Irvine\", \"drmt_organization_name\": null, \"cutoff2\": 20, \"cutoff\": 2}, {\"calitp_itp_id\": 154, \"trip_key\": -5761262999504390889, \"trip_id\": \"t_1552647_b_31068_tn_0\", \"shape_id\": \"p_1277984\", \"route_id\": \"19752\", \"service_hours\": 0.45, \"trip_first_departure_ts\": 39600, \"trip_last_arrival_ts\": 41220, \"departure_hour\": 11, \"time_of_day\": \"Midday\", \"p25\": 0.45, \"p50\": 0.5, \"p75\": 0.5, \"p50_trip\": 0, \"fastest_trip\": 0, \"car_duration_hours\": 0.3, \"competitive_route\": 1, \"bus_multiplier\": 1.5, \"bus_difference\": 9.0, \"num_trips\": 44, \"num_competitive\": 40, \"pct_trips_competitive\": 0.909, \"bus_difference_spread\": 25.8, \"route_group\": \"short\", \"max_trip_hrs\": 0.83, \"max_trip_route_group\": 0.83, \"name\": \"City of Laguna Beach\", \"caltrans_district\": \"12 - Irvine\", \"drmt_organization_name\": null, \"cutoff2\": 20, \"cutoff\": 2}, {\"calitp_itp_id\": 154, \"trip_key\": -7737943859703794620, \"trip_id\": \"t_1552642_b_31068_tn_0\", \"shape_id\": \"p_1277984\", \"route_id\": \"19752\", \"service_hours\": 0.45, \"trip_first_departure_ts\": 30600, \"trip_last_arrival_ts\": 32220, \"departure_hour\": 8, \"time_of_day\": \"AM Peak\", \"p25\": 0.45, \"p50\": 0.5, \"p75\": 0.5, \"p50_trip\": 0, \"fastest_trip\": 0, \"car_duration_hours\": 0.3, \"competitive_route\": 1, \"bus_multiplier\": 1.5, \"bus_difference\": 9.0, \"num_trips\": 44, \"num_competitive\": 40, \"pct_trips_competitive\": 0.909, \"bus_difference_spread\": 25.8, \"route_group\": \"short\", \"max_trip_hrs\": 0.83, \"max_trip_route_group\": 0.83, \"name\": \"City of Laguna Beach\", \"caltrans_district\": \"12 - Irvine\", \"drmt_organization_name\": null, \"cutoff2\": 20, \"cutoff\": 2}, {\"calitp_itp_id\": 154, \"trip_key\": 2477270831404681291, \"trip_id\": \"t_1552668_b_31068_tn_0\", \"shape_id\": \"p_1277985\", \"route_id\": \"19752\", \"service_hours\": 0.5, \"trip_first_departure_ts\": 34200, \"trip_last_arrival_ts\": 36000, \"departure_hour\": 9, \"time_of_day\": \"AM Peak\", \"p25\": 0.45, \"p50\": 0.5, \"p75\": 0.5, \"p50_trip\": 1, \"fastest_trip\": 0, \"car_duration_hours\": 0.3, \"competitive_route\": 1, \"bus_multiplier\": 1.67, \"bus_difference\": 12.0, \"num_trips\": 44, \"num_competitive\": 40, \"pct_trips_competitive\": 0.909, \"bus_difference_spread\": 25.8, \"route_group\": \"short\", \"max_trip_hrs\": 0.83, \"max_trip_route_group\": 0.83, \"name\": \"City of Laguna Beach\", \"caltrans_district\": \"12 - Irvine\", \"drmt_organization_name\": null, \"cutoff2\": 20, \"cutoff\": 2}, {\"calitp_itp_id\": 154, \"trip_key\": 2445294422278915480, \"trip_id\": \"t_1552678_b_31068_tn_0\", \"shape_id\": \"p_1277983\", \"route_id\": \"19752\", \"service_hours\": 0.5, \"trip_first_departure_ts\": 27000, \"trip_last_arrival_ts\": 28800, \"departure_hour\": 7, \"time_of_day\": \"AM Peak\", \"p25\": 0.45, \"p50\": 0.5, \"p75\": 0.5, \"p50_trip\": 1, \"fastest_trip\": 0, \"car_duration_hours\": 0.3, \"competitive_route\": 1, \"bus_multiplier\": 1.67, \"bus_difference\": 12.0, \"num_trips\": 44, \"num_competitive\": 40, \"pct_trips_competitive\": 0.909, \"bus_difference_spread\": 25.8, \"route_group\": \"short\", \"max_trip_hrs\": 0.83, \"max_trip_route_group\": 0.83, \"name\": \"City of Laguna Beach\", \"caltrans_district\": \"12 - Irvine\", \"drmt_organization_name\": null, \"cutoff2\": 20, \"cutoff\": 2}, {\"calitp_itp_id\": 154, \"trip_key\": 5014393651217782729, \"trip_id\": \"t_1552674_b_31068_tn_0\", \"shape_id\": \"p_1277985\", \"route_id\": \"19752\", \"service_hours\": 0.5, \"trip_first_departure_ts\": 45000, \"trip_last_arrival_ts\": 46800, \"departure_hour\": 12, \"time_of_day\": \"Midday\", \"p25\": 0.45, \"p50\": 0.5, \"p75\": 0.5, \"p50_trip\": 1, \"fastest_trip\": 0, \"car_duration_hours\": 0.3, \"competitive_route\": 1, \"bus_multiplier\": 1.67, \"bus_difference\": 12.0, \"num_trips\": 44, \"num_competitive\": 40, \"pct_trips_competitive\": 0.909, \"bus_difference_spread\": 25.8, \"route_group\": \"short\", \"max_trip_hrs\": 0.83, \"max_trip_route_group\": 0.83, \"name\": \"City of Laguna Beach\", \"caltrans_district\": \"12 - Irvine\", \"drmt_organization_name\": null, \"cutoff2\": 20, \"cutoff\": 2}, {\"calitp_itp_id\": 154, \"trip_key\": 317096867958488262, \"trip_id\": \"t_1552672_b_31068_tn_0\", \"shape_id\": \"p_1277985\", \"route_id\": \"19752\", \"service_hours\": 0.5, \"trip_first_departure_ts\": 41400, \"trip_last_arrival_ts\": 43200, \"departure_hour\": 11, \"time_of_day\": \"Midday\", \"p25\": 0.45, \"p50\": 0.5, \"p75\": 0.5, \"p50_trip\": 1, \"fastest_trip\": 0, \"car_duration_hours\": 0.3, \"competitive_route\": 1, \"bus_multiplier\": 1.67, \"bus_difference\": 12.0, \"num_trips\": 44, \"num_competitive\": 40, \"pct_trips_competitive\": 0.909, \"bus_difference_spread\": 25.8, \"route_group\": \"short\", \"max_trip_hrs\": 0.83, \"max_trip_route_group\": 0.83, \"name\": \"City of Laguna Beach\", \"caltrans_district\": \"12 - Irvine\", \"drmt_organization_name\": null, \"cutoff2\": 20, \"cutoff\": 2}, {\"calitp_itp_id\": 154, \"trip_key\": 3341475223252556294, \"trip_id\": \"t_1552666_b_31068_tn_0\", \"shape_id\": \"p_1277985\", \"route_id\": \"19752\", \"service_hours\": 0.5, \"trip_first_departure_ts\": 30600, \"trip_last_arrival_ts\": 32400, \"departure_hour\": 8, \"time_of_day\": \"AM Peak\", \"p25\": 0.45, \"p50\": 0.5, \"p75\": 0.5, \"p50_trip\": 1, \"fastest_trip\": 0, \"car_duration_hours\": 0.3, \"competitive_route\": 1, \"bus_multiplier\": 1.67, \"bus_difference\": 12.0, \"num_trips\": 44, \"num_competitive\": 40, \"pct_trips_competitive\": 0.909, \"bus_difference_spread\": 25.8, \"route_group\": \"short\", \"max_trip_hrs\": 0.83, \"max_trip_route_group\": 0.83, \"name\": \"City of Laguna Beach\", \"caltrans_district\": \"12 - Irvine\", \"drmt_organization_name\": null, \"cutoff2\": 20, \"cutoff\": 2}, {\"calitp_itp_id\": 154, \"trip_key\": 1052966296350476782, \"trip_id\": \"t_1552667_b_31068_tn_0\", \"shape_id\": \"p_1277985\", \"route_id\": \"19752\", \"service_hours\": 0.5, \"trip_first_departure_ts\": 32400, \"trip_last_arrival_ts\": 34200, \"departure_hour\": 9, \"time_of_day\": \"AM Peak\", \"p25\": 0.45, \"p50\": 0.5, \"p75\": 0.5, \"p50_trip\": 1, \"fastest_trip\": 0, \"car_duration_hours\": 0.3, \"competitive_route\": 1, \"bus_multiplier\": 1.67, \"bus_difference\": 12.0, \"num_trips\": 44, \"num_competitive\": 40, \"pct_trips_competitive\": 0.909, \"bus_difference_spread\": 25.8, \"route_group\": \"short\", \"max_trip_hrs\": 0.83, \"max_trip_route_group\": 0.83, \"name\": \"City of Laguna Beach\", \"caltrans_district\": \"12 - Irvine\", \"drmt_organization_name\": null, \"cutoff2\": 20, \"cutoff\": 2}, {\"calitp_itp_id\": 154, \"trip_key\": -8770540301684811477, \"trip_id\": \"t_1552670_b_31068_tn_0\", \"shape_id\": \"p_1277985\", \"route_id\": \"19752\", \"service_hours\": 0.5, \"trip_first_departure_ts\": 37800, \"trip_last_arrival_ts\": 39600, \"departure_hour\": 10, \"time_of_day\": \"Midday\", \"p25\": 0.45, \"p50\": 0.5, \"p75\": 0.5, \"p50_trip\": 1, \"fastest_trip\": 0, \"car_duration_hours\": 0.3, \"competitive_route\": 1, \"bus_multiplier\": 1.67, \"bus_difference\": 12.0, \"num_trips\": 44, \"num_competitive\": 40, \"pct_trips_competitive\": 0.909, \"bus_difference_spread\": 25.8, \"route_group\": \"short\", \"max_trip_hrs\": 0.83, \"max_trip_route_group\": 0.83, \"name\": \"City of Laguna Beach\", \"caltrans_district\": \"12 - Irvine\", \"drmt_organization_name\": null, \"cutoff2\": 20, \"cutoff\": 2}, {\"calitp_itp_id\": 154, \"trip_key\": -1044523680580980912, \"trip_id\": \"t_1552676_b_31068_tn_0\", \"shape_id\": \"p_1277983\", \"route_id\": \"19752\", \"service_hours\": 0.5, \"trip_first_departure_ts\": 23400, \"trip_last_arrival_ts\": 25200, \"departure_hour\": 6, \"time_of_day\": \"Owl Service\", \"p25\": 0.45, \"p50\": 0.5, \"p75\": 0.5, \"p50_trip\": 1, \"fastest_trip\": 0, \"car_duration_hours\": 0.3, \"competitive_route\": 1, \"bus_multiplier\": 1.67, \"bus_difference\": 12.0, \"num_trips\": 44, \"num_competitive\": 40, \"pct_trips_competitive\": 0.909, \"bus_difference_spread\": 25.8, \"route_group\": \"short\", \"max_trip_hrs\": 0.83, \"max_trip_route_group\": 0.83, \"name\": \"City of Laguna Beach\", \"caltrans_district\": \"12 - Irvine\", \"drmt_organization_name\": null, \"cutoff2\": 20, \"cutoff\": 2}, {\"calitp_itp_id\": 154, \"trip_key\": 7802444516255894346, \"trip_id\": \"t_1552673_b_31068_tn_0\", \"shape_id\": \"p_1277985\", \"route_id\": \"19752\", \"service_hours\": 0.5, \"trip_first_departure_ts\": 43200, \"trip_last_arrival_ts\": 45000, \"departure_hour\": 12, \"time_of_day\": \"Midday\", \"p25\": 0.45, \"p50\": 0.5, \"p75\": 0.5, \"p50_trip\": 1, \"fastest_trip\": 0, \"car_duration_hours\": 0.3, \"competitive_route\": 1, \"bus_multiplier\": 1.67, \"bus_difference\": 12.0, \"num_trips\": 44, \"num_competitive\": 40, \"pct_trips_competitive\": 0.909, \"bus_difference_spread\": 25.8, \"route_group\": \"short\", \"max_trip_hrs\": 0.83, \"max_trip_route_group\": 0.83, \"name\": \"City of Laguna Beach\", \"caltrans_district\": \"12 - Irvine\", \"drmt_organization_name\": null, \"cutoff2\": 20, \"cutoff\": 2}, {\"calitp_itp_id\": 154, \"trip_key\": -1317475292178949811, \"trip_id\": \"t_1552679_b_31068_tn_0\", \"shape_id\": \"p_1277983\", \"route_id\": \"19752\", \"service_hours\": 0.5, \"trip_first_departure_ts\": 28800, \"trip_last_arrival_ts\": 30600, \"departure_hour\": 8, \"time_of_day\": \"AM Peak\", \"p25\": 0.45, \"p50\": 0.5, \"p75\": 0.5, \"p50_trip\": 1, \"fastest_trip\": 0, \"car_duration_hours\": 0.3, \"competitive_route\": 1, \"bus_multiplier\": 1.67, \"bus_difference\": 12.0, \"num_trips\": 44, \"num_competitive\": 40, \"pct_trips_competitive\": 0.909, \"bus_difference_spread\": 25.8, \"route_group\": \"short\", \"max_trip_hrs\": 0.83, \"max_trip_route_group\": 0.83, \"name\": \"City of Laguna Beach\", \"caltrans_district\": \"12 - Irvine\", \"drmt_organization_name\": null, \"cutoff2\": 20, \"cutoff\": 2}, {\"calitp_itp_id\": 154, \"trip_key\": 838935979221253846, \"trip_id\": \"t_1552677_b_31068_tn_0\", \"shape_id\": \"p_1277983\", \"route_id\": \"19752\", \"service_hours\": 0.5, \"trip_first_departure_ts\": 25200, \"trip_last_arrival_ts\": 27000, \"departure_hour\": 7, \"time_of_day\": \"AM Peak\", \"p25\": 0.45, \"p50\": 0.5, \"p75\": 0.5, \"p50_trip\": 1, \"fastest_trip\": 0, \"car_duration_hours\": 0.3, \"competitive_route\": 1, \"bus_multiplier\": 1.67, \"bus_difference\": 12.0, \"num_trips\": 44, \"num_competitive\": 40, \"pct_trips_competitive\": 0.909, \"bus_difference_spread\": 25.8, \"route_group\": \"short\", \"max_trip_hrs\": 0.83, \"max_trip_route_group\": 0.83, \"name\": \"City of Laguna Beach\", \"caltrans_district\": \"12 - Irvine\", \"drmt_organization_name\": null, \"cutoff2\": 20, \"cutoff\": 2}, {\"calitp_itp_id\": 154, \"trip_key\": -3889357870153534961, \"trip_id\": \"t_1552671_b_31068_tn_0\", \"shape_id\": \"p_1277985\", \"route_id\": \"19752\", \"service_hours\": 0.5, \"trip_first_departure_ts\": 39600, \"trip_last_arrival_ts\": 41400, \"departure_hour\": 11, \"time_of_day\": \"Midday\", \"p25\": 0.45, \"p50\": 0.5, \"p75\": 0.5, \"p50_trip\": 1, \"fastest_trip\": 0, \"car_duration_hours\": 0.3, \"competitive_route\": 1, \"bus_multiplier\": 1.67, \"bus_difference\": 12.0, \"num_trips\": 44, \"num_competitive\": 40, \"pct_trips_competitive\": 0.909, \"bus_difference_spread\": 25.8, \"route_group\": \"short\", \"max_trip_hrs\": 0.83, \"max_trip_route_group\": 0.83, \"name\": \"City of Laguna Beach\", \"caltrans_district\": \"12 - Irvine\", \"drmt_organization_name\": null, \"cutoff2\": 20, \"cutoff\": 2}, {\"calitp_itp_id\": 154, \"trip_key\": -891820795995715827, \"trip_id\": \"t_1552669_b_31068_tn_0\", \"shape_id\": \"p_1277985\", \"route_id\": \"19752\", \"service_hours\": 0.5, \"trip_first_departure_ts\": 36000, \"trip_last_arrival_ts\": 37800, \"departure_hour\": 10, \"time_of_day\": \"Midday\", \"p25\": 0.45, \"p50\": 0.5, \"p75\": 0.5, \"p50_trip\": 1, \"fastest_trip\": 0, \"car_duration_hours\": 0.3, \"competitive_route\": 1, \"bus_multiplier\": 1.67, \"bus_difference\": 12.0, \"num_trips\": 44, \"num_competitive\": 40, \"pct_trips_competitive\": 0.909, \"bus_difference_spread\": 25.8, \"route_group\": \"short\", \"max_trip_hrs\": 0.83, \"max_trip_route_group\": 0.83, \"name\": \"City of Laguna Beach\", \"caltrans_district\": \"12 - Irvine\", \"drmt_organization_name\": null, \"cutoff2\": 20, \"cutoff\": 2}, {\"calitp_itp_id\": 154, \"trip_key\": -5287202720190875236, \"trip_id\": \"t_1552635_b_31068_tn_0\", \"shape_id\": \"p_1277982\", \"route_id\": \"19752\", \"service_hours\": 0.53, \"trip_first_departure_ts\": 54600, \"trip_last_arrival_ts\": 56520, \"departure_hour\": 15, \"time_of_day\": \"Midday\", \"p25\": 0.45, \"p50\": 0.5, \"p75\": 0.5, \"p50_trip\": 0, \"fastest_trip\": 0, \"car_duration_hours\": 0.3, \"competitive_route\": 1, \"bus_multiplier\": 1.77, \"bus_difference\": 13.8, \"num_trips\": 44, \"num_competitive\": 40, \"pct_trips_competitive\": 0.909, \"bus_difference_spread\": 25.8, \"route_group\": \"short\", \"max_trip_hrs\": 0.83, \"max_trip_route_group\": 0.83, \"name\": \"City of Laguna Beach\", \"caltrans_district\": \"12 - Irvine\", \"drmt_organization_name\": null, \"cutoff2\": 20, \"cutoff\": 2}, {\"calitp_itp_id\": 154, \"trip_key\": 3920587676646212300, \"trip_id\": \"t_1552634_b_31068_tn_0\", \"shape_id\": \"p_1277982\", \"route_id\": \"19752\", \"service_hours\": 0.53, \"trip_first_departure_ts\": 52200, \"trip_last_arrival_ts\": 54120, \"departure_hour\": 14, \"time_of_day\": \"Midday\", \"p25\": 0.45, \"p50\": 0.5, \"p75\": 0.5, \"p50_trip\": 0, \"fastest_trip\": 0, \"car_duration_hours\": 0.3, \"competitive_route\": 1, \"bus_multiplier\": 1.77, \"bus_difference\": 13.8, \"num_trips\": 44, \"num_competitive\": 40, \"pct_trips_competitive\": 0.909, \"bus_difference_spread\": 25.8, \"route_group\": \"short\", \"max_trip_hrs\": 0.83, \"max_trip_route_group\": 0.83, \"name\": \"City of Laguna Beach\", \"caltrans_district\": \"12 - Irvine\", \"drmt_organization_name\": null, \"cutoff2\": 20, \"cutoff\": 2}, {\"calitp_itp_id\": 154, \"trip_key\": -1863009604666829365, \"trip_id\": \"t_1552659_b_31068_tn_0\", \"shape_id\": \"p_1277985\", \"route_id\": \"19752\", \"service_hours\": 0.57, \"trip_first_departure_ts\": 61200, \"trip_last_arrival_ts\": 63240, \"departure_hour\": 17, \"time_of_day\": \"PM Peak\", \"p25\": 0.45, \"p50\": 0.5, \"p75\": 0.5, \"p50_trip\": 0, \"fastest_trip\": 0, \"car_duration_hours\": 0.3, \"competitive_route\": 1, \"bus_multiplier\": 1.9, \"bus_difference\": 16.2, \"num_trips\": 44, \"num_competitive\": 40, \"pct_trips_competitive\": 0.909, \"bus_difference_spread\": 25.8, \"route_group\": \"short\", \"max_trip_hrs\": 0.83, \"max_trip_route_group\": 0.83, \"name\": \"City of Laguna Beach\", \"caltrans_district\": \"12 - Irvine\", \"drmt_organization_name\": null, \"cutoff2\": 20, \"cutoff\": 2}, {\"calitp_itp_id\": 154, \"trip_key\": -1572468369177639094, \"trip_id\": \"t_1552658_b_31068_tn_0\", \"shape_id\": \"p_1277985\", \"route_id\": \"19752\", \"service_hours\": 0.57, \"trip_first_departure_ts\": 58860, \"trip_last_arrival_ts\": 60900, \"departure_hour\": 16, \"time_of_day\": \"Midday\", \"p25\": 0.45, \"p50\": 0.5, \"p75\": 0.5, \"p50_trip\": 0, \"fastest_trip\": 0, \"car_duration_hours\": 0.3, \"competitive_route\": 1, \"bus_multiplier\": 1.9, \"bus_difference\": 16.2, \"num_trips\": 44, \"num_competitive\": 40, \"pct_trips_competitive\": 0.909, \"bus_difference_spread\": 25.8, \"route_group\": \"short\", \"max_trip_hrs\": 0.83, \"max_trip_route_group\": 0.83, \"name\": \"City of Laguna Beach\", \"caltrans_district\": \"12 - Irvine\", \"drmt_organization_name\": null, \"cutoff2\": 20, \"cutoff\": 2}, {\"calitp_itp_id\": 154, \"trip_key\": -3781850863829068794, \"trip_id\": \"t_1552664_b_31068_tn_0\", \"shape_id\": \"p_1277983\", \"route_id\": \"19752\", \"service_hours\": 0.57, \"trip_first_departure_ts\": 54600, \"trip_last_arrival_ts\": 56640, \"departure_hour\": 15, \"time_of_day\": \"Midday\", \"p25\": 0.45, \"p50\": 0.5, \"p75\": 0.5, \"p50_trip\": 0, \"fastest_trip\": 0, \"car_duration_hours\": 0.3, \"competitive_route\": 1, \"bus_multiplier\": 1.9, \"bus_difference\": 16.2, \"num_trips\": 44, \"num_competitive\": 40, \"pct_trips_competitive\": 0.909, \"bus_difference_spread\": 25.8, \"route_group\": \"short\", \"max_trip_hrs\": 0.83, \"max_trip_route_group\": 0.83, \"name\": \"City of Laguna Beach\", \"caltrans_district\": \"12 - Irvine\", \"drmt_organization_name\": null, \"cutoff2\": 20, \"cutoff\": 2}, {\"calitp_itp_id\": 154, \"trip_key\": -5022706857486323726, \"trip_id\": \"t_1552665_b_31068_tn_0\", \"shape_id\": \"p_1277983\", \"route_id\": \"19752\", \"service_hours\": 0.57, \"trip_first_departure_ts\": 57120, \"trip_last_arrival_ts\": 59160, \"departure_hour\": 15, \"time_of_day\": \"Midday\", \"p25\": 0.45, \"p50\": 0.5, \"p75\": 0.5, \"p50_trip\": 0, \"fastest_trip\": 0, \"car_duration_hours\": 0.3, \"competitive_route\": 1, \"bus_multiplier\": 1.9, \"bus_difference\": 16.2, \"num_trips\": 44, \"num_competitive\": 40, \"pct_trips_competitive\": 0.909, \"bus_difference_spread\": 25.8, \"route_group\": \"short\", \"max_trip_hrs\": 0.83, \"max_trip_route_group\": 0.83, \"name\": \"City of Laguna Beach\", \"caltrans_district\": \"12 - Irvine\", \"drmt_organization_name\": null, \"cutoff2\": 20, \"cutoff\": 2}, {\"calitp_itp_id\": 154, \"trip_key\": -8787997531771117379, \"trip_id\": \"t_1552632_b_31068_tn_0\", \"shape_id\": \"p_1277984\", \"route_id\": \"19752\", \"service_hours\": 0.62, \"trip_first_departure_ts\": 49380, \"trip_last_arrival_ts\": 51600, \"departure_hour\": 13, \"time_of_day\": \"Midday\", \"p25\": 0.45, \"p50\": 0.5, \"p75\": 0.5, \"p50_trip\": 0, \"fastest_trip\": 0, \"car_duration_hours\": 0.3, \"competitive_route\": 1, \"bus_multiplier\": 2.07, \"bus_difference\": 19.2, \"num_trips\": 44, \"num_competitive\": 40, \"pct_trips_competitive\": 0.909, \"bus_difference_spread\": 25.8, \"route_group\": \"short\", \"max_trip_hrs\": 0.83, \"max_trip_route_group\": 0.83, \"name\": \"City of Laguna Beach\", \"caltrans_district\": \"12 - Irvine\", \"drmt_organization_name\": null, \"cutoff2\": 20, \"cutoff\": 2}, {\"calitp_itp_id\": 154, \"trip_key\": -5536394200960152004, \"trip_id\": \"t_1552663_b_31068_tn_0\", \"shape_id\": \"p_1277983\", \"route_id\": \"19752\", \"service_hours\": 0.67, \"trip_first_departure_ts\": 52200, \"trip_last_arrival_ts\": 54600, \"departure_hour\": 14, \"time_of_day\": \"Midday\", \"p25\": 0.45, \"p50\": 0.5, \"p75\": 0.5, \"p50_trip\": 0, \"fastest_trip\": 0, \"car_duration_hours\": 0.3, \"competitive_route\": 1, \"bus_multiplier\": 2.23, \"bus_difference\": 22.2, \"num_trips\": 44, \"num_competitive\": 40, \"pct_trips_competitive\": 0.909, \"bus_difference_spread\": 25.8, \"route_group\": \"short\", \"max_trip_hrs\": 0.83, \"max_trip_route_group\": 0.83, \"name\": \"City of Laguna Beach\", \"caltrans_district\": \"12 - Irvine\", \"drmt_organization_name\": null, \"cutoff2\": 20, \"cutoff\": 2}, {\"calitp_itp_id\": 154, \"trip_key\": 3617091447362278109, \"trip_id\": \"t_1552675_b_31068_tn_0\", \"shape_id\": \"p_1277985\", \"route_id\": \"19752\", \"service_hours\": 0.72, \"trip_first_departure_ts\": 46800, \"trip_last_arrival_ts\": 49380, \"departure_hour\": 13, \"time_of_day\": \"Midday\", \"p25\": 0.45, \"p50\": 0.5, \"p75\": 0.5, \"p50_trip\": 0, \"fastest_trip\": 0, \"car_duration_hours\": 0.3, \"competitive_route\": 1, \"bus_multiplier\": 2.4, \"bus_difference\": 25.2, \"num_trips\": 44, \"num_competitive\": 40, \"pct_trips_competitive\": 0.909, \"bus_difference_spread\": 25.8, \"route_group\": \"short\", \"max_trip_hrs\": 0.83, \"max_trip_route_group\": 0.83, \"name\": \"City of Laguna Beach\", \"caltrans_district\": \"12 - Irvine\", \"drmt_organization_name\": null, \"cutoff2\": 20, \"cutoff\": 2}, {\"calitp_itp_id\": 154, \"trip_key\": -8557456779340071826, \"trip_id\": \"t_1552652_b_31068_tn_0\", \"shape_id\": \"p_1277985\", \"route_id\": \"19752\", \"service_hours\": 0.83, \"trip_first_departure_ts\": 49200, \"trip_last_arrival_ts\": 52200, \"departure_hour\": 13, \"time_of_day\": \"Midday\", \"p25\": 0.45, \"p50\": 0.5, \"p75\": 0.5, \"p50_trip\": 0, \"fastest_trip\": 0, \"car_duration_hours\": 0.3, \"competitive_route\": 1, \"bus_multiplier\": 2.77, \"bus_difference\": 31.8, \"num_trips\": 44, \"num_competitive\": 40, \"pct_trips_competitive\": 0.909, \"bus_difference_spread\": 25.8, \"route_group\": \"short\", \"max_trip_hrs\": 0.83, \"max_trip_route_group\": 0.83, \"name\": \"City of Laguna Beach\", \"caltrans_district\": \"12 - Irvine\", \"drmt_organization_name\": null, \"cutoff2\": 20, \"cutoff\": 2}]}}, {\"mode\": \"vega-lite\"});\n",
       "</script>"
      ],
      "text/plain": [
       "alt.FacetChart(...)"
      ]
     },
     "metadata": {},
     "output_type": "display_data"
    },
    {
     "data": {
      "text/html": [
       "\n",
       "<div id=\"altair-viz-9982c9c1343745a5b393bb2a07392cb9\"></div>\n",
       "<script type=\"text/javascript\">\n",
       "  var VEGA_DEBUG = (typeof VEGA_DEBUG == \"undefined\") ? {} : VEGA_DEBUG;\n",
       "  (function(spec, embedOpt){\n",
       "    let outputDiv = document.currentScript.previousElementSibling;\n",
       "    if (outputDiv.id !== \"altair-viz-9982c9c1343745a5b393bb2a07392cb9\") {\n",
       "      outputDiv = document.getElementById(\"altair-viz-9982c9c1343745a5b393bb2a07392cb9\");\n",
       "    }\n",
       "    const paths = {\n",
       "      \"vega\": \"https://cdn.jsdelivr.net/npm//vega@5?noext\",\n",
       "      \"vega-lib\": \"https://cdn.jsdelivr.net/npm//vega-lib?noext\",\n",
       "      \"vega-lite\": \"https://cdn.jsdelivr.net/npm//vega-lite@4.17.0?noext\",\n",
       "      \"vega-embed\": \"https://cdn.jsdelivr.net/npm//vega-embed@6?noext\",\n",
       "    };\n",
       "\n",
       "    function maybeLoadScript(lib, version) {\n",
       "      var key = `${lib.replace(\"-\", \"\")}_version`;\n",
       "      return (VEGA_DEBUG[key] == version) ?\n",
       "        Promise.resolve(paths[lib]) :\n",
       "        new Promise(function(resolve, reject) {\n",
       "          var s = document.createElement('script');\n",
       "          document.getElementsByTagName(\"head\")[0].appendChild(s);\n",
       "          s.async = true;\n",
       "          s.onload = () => {\n",
       "            VEGA_DEBUG[key] = version;\n",
       "            return resolve(paths[lib]);\n",
       "          };\n",
       "          s.onerror = () => reject(`Error loading script: ${paths[lib]}`);\n",
       "          s.src = paths[lib];\n",
       "        });\n",
       "    }\n",
       "\n",
       "    function showError(err) {\n",
       "      outputDiv.innerHTML = `<div class=\"error\" style=\"color:red;\">${err}</div>`;\n",
       "      throw err;\n",
       "    }\n",
       "\n",
       "    function displayChart(vegaEmbed) {\n",
       "      vegaEmbed(outputDiv, spec, embedOpt)\n",
       "        .catch(err => showError(`Javascript Error: ${err.message}<br>This usually means there's a typo in your chart specification. See the javascript console for the full traceback.`));\n",
       "    }\n",
       "\n",
       "    if(typeof define === \"function\" && define.amd) {\n",
       "      requirejs.config({paths});\n",
       "      require([\"vega-embed\"], displayChart, err => showError(`Error loading script: ${err.message}`));\n",
       "    } else {\n",
       "      maybeLoadScript(\"vega\", \"5\")\n",
       "        .then(() => maybeLoadScript(\"vega-lite\", \"4.17.0\"))\n",
       "        .then(() => maybeLoadScript(\"vega-embed\", \"6\"))\n",
       "        .catch(showError)\n",
       "        .then(() => displayChart(vegaEmbed));\n",
       "    }\n",
       "  })({\"config\": {\"view\": {\"continuousWidth\": 400, \"continuousHeight\": 300, \"stroke\": null}, \"facet\": {\"spacing\": 0}}, \"data\": {\"name\": \"data-191976af7e4000324f9880bb2a26fc51\"}, \"facet\": {\"column\": {\"field\": \"route_id\", \"sort\": [\"19752\"], \"title\": \"Route ID\", \"type\": \"nominal\"}}, \"spec\": {\"layer\": [{\"mark\": \"rule\", \"encoding\": {\"color\": {\"value\": \"black\"}, \"y\": {\"field\": \"cutoff\", \"type\": \"quantitative\"}}, \"selection\": {\"selector002\": {\"type\": \"interval\", \"bind\": \"scales\", \"encodings\": [\"x\", \"y\"]}}}, {\"mark\": {\"type\": \"rule\", \"strokeDash\": [3, 3]}, \"encoding\": {\"color\": {\"value\": \"#323434\"}, \"y\": {\"field\": \"cutoff2\", \"type\": \"quantitative\"}}}, {\"mark\": {\"type\": \"point\", \"opacity\": 0.65, \"size\": 12, \"strokeWidth\": 1.1}, \"encoding\": {\"color\": {\"field\": \"time_of_day\", \"scale\": {\"range\": [\"#136C97\", \"#E16B26\", \"#F6BF16\", \"#00896B\", \"#7790A3\", \"#5B559C\"]}, \"sort\": [\"AM Peak\", \"Midday\", \"PM Peak\", \"Owl Service\"], \"title\": \"Time of Day\", \"type\": \"nominal\"}, \"tooltip\": [{\"field\": \"route_id\", \"type\": \"nominal\"}, {\"field\": \"trip_id\", \"type\": \"nominal\"}, {\"field\": \"service_hours\", \"type\": \"quantitative\"}, {\"field\": \"car_duration_hours\", \"type\": \"quantitative\"}, {\"field\": \"bus_multiplier\", \"type\": \"quantitative\"}, {\"field\": \"bus_difference\", \"type\": \"quantitative\"}, {\"field\": \"num_trips\", \"type\": \"quantitative\"}, {\"field\": \"num_competitive\", \"type\": \"quantitative\"}, {\"field\": \"pct_trips_competitive\", \"type\": \"quantitative\"}, {\"field\": \"p25\", \"type\": \"quantitative\"}, {\"field\": \"p50\", \"type\": \"quantitative\"}, {\"field\": \"p75\", \"type\": \"quantitative\"}], \"x\": {\"axis\": {\"grid\": false, \"labels\": false, \"ticks\": true, \"values\": [0]}, \"field\": \"jitter\", \"scale\": {}, \"title\": null, \"type\": \"quantitative\"}, \"y\": {\"field\": \"bus_difference\", \"scale\": {\"domain\": [-5, 31.8]}, \"title\": \"Difference in Bus to Car Travel Time (min)\", \"type\": \"quantitative\"}}, \"transform\": [{\"calculate\": \"sqrt(-2*log(random()))*cos(2*PI*random())\", \"as\": \"jitter\"}], \"width\": 50}, {\"layer\": [{\"mark\": {\"type\": \"point\", \"opacity\": 0.6, \"size\": 20, \"strokeWidth\": 1.3}, \"encoding\": {\"color\": {\"value\": \"#323434\"}, \"y\": {\"field\": \"bus_difference\", \"type\": \"quantitative\"}}, \"transform\": [{\"filter\": \"(datum.p50_trip === 1)\"}]}, {\"mark\": {\"type\": \"text\", \"align\": \"center\", \"baseline\": \"middle\"}, \"encoding\": {\"color\": {\"value\": \"black\"}, \"text\": {\"field\": \"pct_trips_competitive\", \"format\": \".0%\", \"type\": \"quantitative\"}, \"tooltip\": [{\"field\": \"route_id\", \"type\": \"nominal\"}, {\"field\": \"trip_id\", \"type\": \"nominal\"}, {\"field\": \"service_hours\", \"type\": \"quantitative\"}, {\"field\": \"car_duration_hours\", \"type\": \"quantitative\"}, {\"field\": \"bus_multiplier\", \"type\": \"quantitative\"}, {\"field\": \"bus_difference\", \"type\": \"quantitative\"}, {\"field\": \"num_trips\", \"type\": \"quantitative\"}, {\"field\": \"num_competitive\", \"type\": \"quantitative\"}, {\"field\": \"pct_trips_competitive\", \"type\": \"quantitative\"}, {\"field\": \"p25\", \"type\": \"quantitative\"}, {\"field\": \"p50\", \"type\": \"quantitative\"}, {\"field\": \"p75\", \"type\": \"quantitative\"}], \"x\": {\"value\": 30}, \"y\": {\"value\": 15}}, \"transform\": [{\"calculate\": \"sqrt(-2*log(random()))*cos(2*PI*random())\", \"as\": \"jitter\"}, {\"filter\": \"(datum.fastest_trip === 1)\"}]}]}]}, \"resolve\": {\"scale\": {\"y\": \"shared\"}}, \"title\": \"Difference in Bus to Car Travel Time (min)\", \"$schema\": \"https://vega.github.io/schema/vega-lite/v4.17.0.json\", \"datasets\": {\"data-191976af7e4000324f9880bb2a26fc51\": [{\"calitp_itp_id\": 154, \"trip_key\": 7806917445833874815, \"trip_id\": \"t_1552661_b_31068_tn_0\", \"shape_id\": \"p_1277986\", \"route_id\": \"19752\", \"service_hours\": 0.4, \"trip_first_departure_ts\": 64800, \"trip_last_arrival_ts\": 66240, \"departure_hour\": 18, \"time_of_day\": \"PM Peak\", \"p25\": 0.45, \"p50\": 0.5, \"p75\": 0.5, \"p50_trip\": 0, \"fastest_trip\": 1, \"car_duration_hours\": 0.3, \"competitive_route\": 1, \"bus_multiplier\": 1.33, \"bus_difference\": 6.0, \"num_trips\": 44, \"num_competitive\": 40, \"pct_trips_competitive\": 0.909, \"bus_difference_spread\": 25.8, \"route_group\": \"short\", \"max_trip_hrs\": 0.83, \"max_trip_route_group\": 0.83, \"name\": \"City of Laguna Beach\", \"caltrans_district\": \"12 - Irvine\", \"drmt_organization_name\": null, \"cutoff2\": 20, \"cutoff\": 0}, {\"calitp_itp_id\": 154, \"trip_key\": 5712075708841317841, \"trip_id\": \"t_1552640_b_31068_tn_0\", \"shape_id\": \"p_1277984\", \"route_id\": \"19752\", \"service_hours\": 0.43, \"trip_first_departure_ts\": 63240, \"trip_last_arrival_ts\": 64800, \"departure_hour\": 17, \"time_of_day\": \"PM Peak\", \"p25\": 0.45, \"p50\": 0.5, \"p75\": 0.5, \"p50_trip\": 0, \"fastest_trip\": 0, \"car_duration_hours\": 0.3, \"competitive_route\": 1, \"bus_multiplier\": 1.43, \"bus_difference\": 7.8, \"num_trips\": 44, \"num_competitive\": 40, \"pct_trips_competitive\": 0.909, \"bus_difference_spread\": 25.8, \"route_group\": \"short\", \"max_trip_hrs\": 0.83, \"max_trip_route_group\": 0.83, \"name\": \"City of Laguna Beach\", \"caltrans_district\": \"12 - Irvine\", \"drmt_organization_name\": null, \"cutoff2\": 20, \"cutoff\": 0}, {\"calitp_itp_id\": 154, \"trip_key\": 7686097368330038607, \"trip_id\": \"t_1552655_b_31068_tn_0\", \"shape_id\": \"p_1277982\", \"route_id\": \"19752\", \"service_hours\": 0.45, \"trip_first_departure_ts\": 28800, \"trip_last_arrival_ts\": 30420, \"departure_hour\": 8, \"time_of_day\": \"AM Peak\", \"p25\": 0.45, \"p50\": 0.5, \"p75\": 0.5, \"p50_trip\": 0, \"fastest_trip\": 0, \"car_duration_hours\": 0.3, \"competitive_route\": 1, \"bus_multiplier\": 1.5, \"bus_difference\": 9.0, \"num_trips\": 44, \"num_competitive\": 40, \"pct_trips_competitive\": 0.909, \"bus_difference_spread\": 25.8, \"route_group\": \"short\", \"max_trip_hrs\": 0.83, \"max_trip_route_group\": 0.83, \"name\": \"City of Laguna Beach\", \"caltrans_district\": \"12 - Irvine\", \"drmt_organization_name\": null, \"cutoff2\": 20, \"cutoff\": 0}, {\"calitp_itp_id\": 154, \"trip_key\": 356393108027905529, \"trip_id\": \"t_1552638_b_31068_tn_0\", \"shape_id\": \"p_1277984\", \"route_id\": \"19752\", \"service_hours\": 0.45, \"trip_first_departure_ts\": 59160, \"trip_last_arrival_ts\": 60780, \"departure_hour\": 16, \"time_of_day\": \"Midday\", \"p25\": 0.45, \"p50\": 0.5, \"p75\": 0.5, \"p50_trip\": 0, \"fastest_trip\": 0, \"car_duration_hours\": 0.3, \"competitive_route\": 1, \"bus_multiplier\": 1.5, \"bus_difference\": 9.0, \"num_trips\": 44, \"num_competitive\": 40, \"pct_trips_competitive\": 0.909, \"bus_difference_spread\": 25.8, \"route_group\": \"short\", \"max_trip_hrs\": 0.83, \"max_trip_route_group\": 0.83, \"name\": \"City of Laguna Beach\", \"caltrans_district\": \"12 - Irvine\", \"drmt_organization_name\": null, \"cutoff2\": 20, \"cutoff\": 0}, {\"calitp_itp_id\": 154, \"trip_key\": 6782257670480665715, \"trip_id\": \"t_1552643_b_31068_tn_0\", \"shape_id\": \"p_1277984\", \"route_id\": \"19752\", \"service_hours\": 0.45, \"trip_first_departure_ts\": 32400, \"trip_last_arrival_ts\": 34020, \"departure_hour\": 9, \"time_of_day\": \"AM Peak\", \"p25\": 0.45, \"p50\": 0.5, \"p75\": 0.5, \"p50_trip\": 0, \"fastest_trip\": 0, \"car_duration_hours\": 0.3, \"competitive_route\": 1, \"bus_multiplier\": 1.5, \"bus_difference\": 9.0, \"num_trips\": 44, \"num_competitive\": 40, \"pct_trips_competitive\": 0.909, \"bus_difference_spread\": 25.8, \"route_group\": \"short\", \"max_trip_hrs\": 0.83, \"max_trip_route_group\": 0.83, \"name\": \"City of Laguna Beach\", \"caltrans_district\": \"12 - Irvine\", \"drmt_organization_name\": null, \"cutoff2\": 20, \"cutoff\": 0}, {\"calitp_itp_id\": 154, \"trip_key\": 54815795372127949, \"trip_id\": \"t_1552654_b_31068_tn_0\", \"shape_id\": \"p_1277982\", \"route_id\": \"19752\", \"service_hours\": 0.45, \"trip_first_departure_ts\": 27000, \"trip_last_arrival_ts\": 28620, \"departure_hour\": 7, \"time_of_day\": \"AM Peak\", \"p25\": 0.45, \"p50\": 0.5, \"p75\": 0.5, \"p50_trip\": 0, \"fastest_trip\": 0, \"car_duration_hours\": 0.3, \"competitive_route\": 1, \"bus_multiplier\": 1.5, \"bus_difference\": 9.0, \"num_trips\": 44, \"num_competitive\": 40, \"pct_trips_competitive\": 0.909, \"bus_difference_spread\": 25.8, \"route_group\": \"short\", \"max_trip_hrs\": 0.83, \"max_trip_route_group\": 0.83, \"name\": \"City of Laguna Beach\", \"caltrans_district\": \"12 - Irvine\", \"drmt_organization_name\": null, \"cutoff2\": 20, \"cutoff\": 0}, {\"calitp_itp_id\": 154, \"trip_key\": -592244683577441027, \"trip_id\": \"t_1552656_b_31068_tn_0\", \"shape_id\": \"p_1277982\", \"route_id\": \"19752\", \"service_hours\": 0.45, \"trip_first_departure_ts\": 23400, \"trip_last_arrival_ts\": 25020, \"departure_hour\": 6, \"time_of_day\": \"Owl Service\", \"p25\": 0.45, \"p50\": 0.5, \"p75\": 0.5, \"p50_trip\": 0, \"fastest_trip\": 0, \"car_duration_hours\": 0.3, \"competitive_route\": 1, \"bus_multiplier\": 1.5, \"bus_difference\": 9.0, \"num_trips\": 44, \"num_competitive\": 40, \"pct_trips_competitive\": 0.909, \"bus_difference_spread\": 25.8, \"route_group\": \"short\", \"max_trip_hrs\": 0.83, \"max_trip_route_group\": 0.83, \"name\": \"City of Laguna Beach\", \"caltrans_district\": \"12 - Irvine\", \"drmt_organization_name\": null, \"cutoff2\": 20, \"cutoff\": 0}, {\"calitp_itp_id\": 154, \"trip_key\": -8203847068274567800, \"trip_id\": \"t_1552636_b_31068_tn_0\", \"shape_id\": \"p_1277982\", \"route_id\": \"19752\", \"service_hours\": 0.45, \"trip_first_departure_ts\": 56640, \"trip_last_arrival_ts\": 58260, \"departure_hour\": 15, \"time_of_day\": \"Midday\", \"p25\": 0.45, \"p50\": 0.5, \"p75\": 0.5, \"p50_trip\": 0, \"fastest_trip\": 0, \"car_duration_hours\": 0.3, \"competitive_route\": 1, \"bus_multiplier\": 1.5, \"bus_difference\": 9.0, \"num_trips\": 44, \"num_competitive\": 40, \"pct_trips_competitive\": 0.909, \"bus_difference_spread\": 25.8, \"route_group\": \"short\", \"max_trip_hrs\": 0.83, \"max_trip_route_group\": 0.83, \"name\": \"City of Laguna Beach\", \"caltrans_district\": \"12 - Irvine\", \"drmt_organization_name\": null, \"cutoff2\": 20, \"cutoff\": 0}, {\"calitp_itp_id\": 154, \"trip_key\": 5704097460175481058, \"trip_id\": \"t_1552649_b_31068_tn_0\", \"shape_id\": \"p_1277984\", \"route_id\": \"19752\", \"service_hours\": 0.45, \"trip_first_departure_ts\": 43200, \"trip_last_arrival_ts\": 44820, \"departure_hour\": 12, \"time_of_day\": \"Midday\", \"p25\": 0.45, \"p50\": 0.5, \"p75\": 0.5, \"p50_trip\": 0, \"fastest_trip\": 0, \"car_duration_hours\": 0.3, \"competitive_route\": 1, \"bus_multiplier\": 1.5, \"bus_difference\": 9.0, \"num_trips\": 44, \"num_competitive\": 40, \"pct_trips_competitive\": 0.909, \"bus_difference_spread\": 25.8, \"route_group\": \"short\", \"max_trip_hrs\": 0.83, \"max_trip_route_group\": 0.83, \"name\": \"City of Laguna Beach\", \"caltrans_district\": \"12 - Irvine\", \"drmt_organization_name\": null, \"cutoff2\": 20, \"cutoff\": 0}, {\"calitp_itp_id\": 154, \"trip_key\": -3930039889659231609, \"trip_id\": \"t_1552646_b_31068_tn_0\", \"shape_id\": \"p_1277984\", \"route_id\": \"19752\", \"service_hours\": 0.45, \"trip_first_departure_ts\": 37800, \"trip_last_arrival_ts\": 39420, \"departure_hour\": 10, \"time_of_day\": \"Midday\", \"p25\": 0.45, \"p50\": 0.5, \"p75\": 0.5, \"p50_trip\": 0, \"fastest_trip\": 0, \"car_duration_hours\": 0.3, \"competitive_route\": 1, \"bus_multiplier\": 1.5, \"bus_difference\": 9.0, \"num_trips\": 44, \"num_competitive\": 40, \"pct_trips_competitive\": 0.909, \"bus_difference_spread\": 25.8, \"route_group\": \"short\", \"max_trip_hrs\": 0.83, \"max_trip_route_group\": 0.83, \"name\": \"City of Laguna Beach\", \"caltrans_district\": \"12 - Irvine\", \"drmt_organization_name\": null, \"cutoff2\": 20, \"cutoff\": 0}, {\"calitp_itp_id\": 154, \"trip_key\": 1891569025779206796, \"trip_id\": \"t_1552650_b_31068_tn_0\", \"shape_id\": \"p_1277984\", \"route_id\": \"19752\", \"service_hours\": 0.45, \"trip_first_departure_ts\": 45000, \"trip_last_arrival_ts\": 46620, \"departure_hour\": 12, \"time_of_day\": \"Midday\", \"p25\": 0.45, \"p50\": 0.5, \"p75\": 0.5, \"p50_trip\": 0, \"fastest_trip\": 0, \"car_duration_hours\": 0.3, \"competitive_route\": 1, \"bus_multiplier\": 1.5, \"bus_difference\": 9.0, \"num_trips\": 44, \"num_competitive\": 40, \"pct_trips_competitive\": 0.909, \"bus_difference_spread\": 25.8, \"route_group\": \"short\", \"max_trip_hrs\": 0.83, \"max_trip_route_group\": 0.83, \"name\": \"City of Laguna Beach\", \"caltrans_district\": \"12 - Irvine\", \"drmt_organization_name\": null, \"cutoff2\": 20, \"cutoff\": 0}, {\"calitp_itp_id\": 154, \"trip_key\": 702541903140554760, \"trip_id\": \"t_1552653_b_31068_tn_0\", \"shape_id\": \"p_1277982\", \"route_id\": \"19752\", \"service_hours\": 0.45, \"trip_first_departure_ts\": 25200, \"trip_last_arrival_ts\": 26820, \"departure_hour\": 7, \"time_of_day\": \"AM Peak\", \"p25\": 0.45, \"p50\": 0.5, \"p75\": 0.5, \"p50_trip\": 0, \"fastest_trip\": 0, \"car_duration_hours\": 0.3, \"competitive_route\": 1, \"bus_multiplier\": 1.5, \"bus_difference\": 9.0, \"num_trips\": 44, \"num_competitive\": 40, \"pct_trips_competitive\": 0.909, \"bus_difference_spread\": 25.8, \"route_group\": \"short\", \"max_trip_hrs\": 0.83, \"max_trip_route_group\": 0.83, \"name\": \"City of Laguna Beach\", \"caltrans_district\": \"12 - Irvine\", \"drmt_organization_name\": null, \"cutoff2\": 20, \"cutoff\": 0}, {\"calitp_itp_id\": 154, \"trip_key\": -68836863474557720, \"trip_id\": \"t_1552651_b_31068_tn_0\", \"shape_id\": \"p_1277984\", \"route_id\": \"19752\", \"service_hours\": 0.45, \"trip_first_departure_ts\": 46800, \"trip_last_arrival_ts\": 48420, \"departure_hour\": 13, \"time_of_day\": \"Midday\", \"p25\": 0.45, \"p50\": 0.5, \"p75\": 0.5, \"p50_trip\": 0, \"fastest_trip\": 0, \"car_duration_hours\": 0.3, \"competitive_route\": 1, \"bus_multiplier\": 1.5, \"bus_difference\": 9.0, \"num_trips\": 44, \"num_competitive\": 40, \"pct_trips_competitive\": 0.909, \"bus_difference_spread\": 25.8, \"route_group\": \"short\", \"max_trip_hrs\": 0.83, \"max_trip_route_group\": 0.83, \"name\": \"City of Laguna Beach\", \"caltrans_district\": \"12 - Irvine\", \"drmt_organization_name\": null, \"cutoff2\": 20, \"cutoff\": 0}, {\"calitp_itp_id\": 154, \"trip_key\": -4585732728316578712, \"trip_id\": \"t_1552644_b_31068_tn_0\", \"shape_id\": \"p_1277984\", \"route_id\": \"19752\", \"service_hours\": 0.45, \"trip_first_departure_ts\": 34200, \"trip_last_arrival_ts\": 35820, \"departure_hour\": 9, \"time_of_day\": \"AM Peak\", \"p25\": 0.45, \"p50\": 0.5, \"p75\": 0.5, \"p50_trip\": 0, \"fastest_trip\": 0, \"car_duration_hours\": 0.3, \"competitive_route\": 1, \"bus_multiplier\": 1.5, \"bus_difference\": 9.0, \"num_trips\": 44, \"num_competitive\": 40, \"pct_trips_competitive\": 0.909, \"bus_difference_spread\": 25.8, \"route_group\": \"short\", \"max_trip_hrs\": 0.83, \"max_trip_route_group\": 0.83, \"name\": \"City of Laguna Beach\", \"caltrans_district\": \"12 - Irvine\", \"drmt_organization_name\": null, \"cutoff2\": 20, \"cutoff\": 0}, {\"calitp_itp_id\": 154, \"trip_key\": -8910633763075763058, \"trip_id\": \"t_1552641_b_31068_tn_0\", \"shape_id\": \"p_1277984\", \"route_id\": \"19752\", \"service_hours\": 0.45, \"trip_first_departure_ts\": 64800, \"trip_last_arrival_ts\": 66420, \"departure_hour\": 18, \"time_of_day\": \"PM Peak\", \"p25\": 0.45, \"p50\": 0.5, \"p75\": 0.5, \"p50_trip\": 0, \"fastest_trip\": 0, \"car_duration_hours\": 0.3, \"competitive_route\": 1, \"bus_multiplier\": 1.5, \"bus_difference\": 9.0, \"num_trips\": 44, \"num_competitive\": 40, \"pct_trips_competitive\": 0.909, \"bus_difference_spread\": 25.8, \"route_group\": \"short\", \"max_trip_hrs\": 0.83, \"max_trip_route_group\": 0.83, \"name\": \"City of Laguna Beach\", \"caltrans_district\": \"12 - Irvine\", \"drmt_organization_name\": null, \"cutoff2\": 20, \"cutoff\": 0}, {\"calitp_itp_id\": 154, \"trip_key\": -382299546131518929, \"trip_id\": \"t_1552648_b_31068_tn_0\", \"shape_id\": \"p_1277984\", \"route_id\": \"19752\", \"service_hours\": 0.45, \"trip_first_departure_ts\": 41400, \"trip_last_arrival_ts\": 43020, \"departure_hour\": 11, \"time_of_day\": \"Midday\", \"p25\": 0.45, \"p50\": 0.5, \"p75\": 0.5, \"p50_trip\": 0, \"fastest_trip\": 0, \"car_duration_hours\": 0.3, \"competitive_route\": 1, \"bus_multiplier\": 1.5, \"bus_difference\": 9.0, \"num_trips\": 44, \"num_competitive\": 40, \"pct_trips_competitive\": 0.909, \"bus_difference_spread\": 25.8, \"route_group\": \"short\", \"max_trip_hrs\": 0.83, \"max_trip_route_group\": 0.83, \"name\": \"City of Laguna Beach\", \"caltrans_district\": \"12 - Irvine\", \"drmt_organization_name\": null, \"cutoff2\": 20, \"cutoff\": 0}, {\"calitp_itp_id\": 154, \"trip_key\": -3723945693936646698, \"trip_id\": \"t_1552639_b_31068_tn_0\", \"shape_id\": \"p_1277984\", \"route_id\": \"19752\", \"service_hours\": 0.45, \"trip_first_departure_ts\": 60900, \"trip_last_arrival_ts\": 62520, \"departure_hour\": 16, \"time_of_day\": \"Midday\", \"p25\": 0.45, \"p50\": 0.5, \"p75\": 0.5, \"p50_trip\": 0, \"fastest_trip\": 0, \"car_duration_hours\": 0.3, \"competitive_route\": 1, \"bus_multiplier\": 1.5, \"bus_difference\": 9.0, \"num_trips\": 44, \"num_competitive\": 40, \"pct_trips_competitive\": 0.909, \"bus_difference_spread\": 25.8, \"route_group\": \"short\", \"max_trip_hrs\": 0.83, \"max_trip_route_group\": 0.83, \"name\": \"City of Laguna Beach\", \"caltrans_district\": \"12 - Irvine\", \"drmt_organization_name\": null, \"cutoff2\": 20, \"cutoff\": 0}, {\"calitp_itp_id\": 154, \"trip_key\": 8566596254515144504, \"trip_id\": \"t_1552645_b_31068_tn_0\", \"shape_id\": \"p_1277984\", \"route_id\": \"19752\", \"service_hours\": 0.45, \"trip_first_departure_ts\": 36000, \"trip_last_arrival_ts\": 37620, \"departure_hour\": 10, \"time_of_day\": \"Midday\", \"p25\": 0.45, \"p50\": 0.5, \"p75\": 0.5, \"p50_trip\": 0, \"fastest_trip\": 0, \"car_duration_hours\": 0.3, \"competitive_route\": 1, \"bus_multiplier\": 1.5, \"bus_difference\": 9.0, \"num_trips\": 44, \"num_competitive\": 40, \"pct_trips_competitive\": 0.909, \"bus_difference_spread\": 25.8, \"route_group\": \"short\", \"max_trip_hrs\": 0.83, \"max_trip_route_group\": 0.83, \"name\": \"City of Laguna Beach\", \"caltrans_district\": \"12 - Irvine\", \"drmt_organization_name\": null, \"cutoff2\": 20, \"cutoff\": 0}, {\"calitp_itp_id\": 154, \"trip_key\": 2508702419336091291, \"trip_id\": \"t_1552660_b_31068_tn_0\", \"shape_id\": \"p_1277985\", \"route_id\": \"19752\", \"service_hours\": 0.45, \"trip_first_departure_ts\": 63120, \"trip_last_arrival_ts\": 64740, \"departure_hour\": 17, \"time_of_day\": \"PM Peak\", \"p25\": 0.45, \"p50\": 0.5, \"p75\": 0.5, \"p50_trip\": 0, \"fastest_trip\": 0, \"car_duration_hours\": 0.3, \"competitive_route\": 1, \"bus_multiplier\": 1.5, \"bus_difference\": 9.0, \"num_trips\": 44, \"num_competitive\": 40, \"pct_trips_competitive\": 0.909, \"bus_difference_spread\": 25.8, \"route_group\": \"short\", \"max_trip_hrs\": 0.83, \"max_trip_route_group\": 0.83, \"name\": \"City of Laguna Beach\", \"caltrans_district\": \"12 - Irvine\", \"drmt_organization_name\": null, \"cutoff2\": 20, \"cutoff\": 0}, {\"calitp_itp_id\": 154, \"trip_key\": -5761262999504390889, \"trip_id\": \"t_1552647_b_31068_tn_0\", \"shape_id\": \"p_1277984\", \"route_id\": \"19752\", \"service_hours\": 0.45, \"trip_first_departure_ts\": 39600, \"trip_last_arrival_ts\": 41220, \"departure_hour\": 11, \"time_of_day\": \"Midday\", \"p25\": 0.45, \"p50\": 0.5, \"p75\": 0.5, \"p50_trip\": 0, \"fastest_trip\": 0, \"car_duration_hours\": 0.3, \"competitive_route\": 1, \"bus_multiplier\": 1.5, \"bus_difference\": 9.0, \"num_trips\": 44, \"num_competitive\": 40, \"pct_trips_competitive\": 0.909, \"bus_difference_spread\": 25.8, \"route_group\": \"short\", \"max_trip_hrs\": 0.83, \"max_trip_route_group\": 0.83, \"name\": \"City of Laguna Beach\", \"caltrans_district\": \"12 - Irvine\", \"drmt_organization_name\": null, \"cutoff2\": 20, \"cutoff\": 0}, {\"calitp_itp_id\": 154, \"trip_key\": -7737943859703794620, \"trip_id\": \"t_1552642_b_31068_tn_0\", \"shape_id\": \"p_1277984\", \"route_id\": \"19752\", \"service_hours\": 0.45, \"trip_first_departure_ts\": 30600, \"trip_last_arrival_ts\": 32220, \"departure_hour\": 8, \"time_of_day\": \"AM Peak\", \"p25\": 0.45, \"p50\": 0.5, \"p75\": 0.5, \"p50_trip\": 0, \"fastest_trip\": 0, \"car_duration_hours\": 0.3, \"competitive_route\": 1, \"bus_multiplier\": 1.5, \"bus_difference\": 9.0, \"num_trips\": 44, \"num_competitive\": 40, \"pct_trips_competitive\": 0.909, \"bus_difference_spread\": 25.8, \"route_group\": \"short\", \"max_trip_hrs\": 0.83, \"max_trip_route_group\": 0.83, \"name\": \"City of Laguna Beach\", \"caltrans_district\": \"12 - Irvine\", \"drmt_organization_name\": null, \"cutoff2\": 20, \"cutoff\": 0}, {\"calitp_itp_id\": 154, \"trip_key\": 2477270831404681291, \"trip_id\": \"t_1552668_b_31068_tn_0\", \"shape_id\": \"p_1277985\", \"route_id\": \"19752\", \"service_hours\": 0.5, \"trip_first_departure_ts\": 34200, \"trip_last_arrival_ts\": 36000, \"departure_hour\": 9, \"time_of_day\": \"AM Peak\", \"p25\": 0.45, \"p50\": 0.5, \"p75\": 0.5, \"p50_trip\": 1, \"fastest_trip\": 0, \"car_duration_hours\": 0.3, \"competitive_route\": 1, \"bus_multiplier\": 1.67, \"bus_difference\": 12.0, \"num_trips\": 44, \"num_competitive\": 40, \"pct_trips_competitive\": 0.909, \"bus_difference_spread\": 25.8, \"route_group\": \"short\", \"max_trip_hrs\": 0.83, \"max_trip_route_group\": 0.83, \"name\": \"City of Laguna Beach\", \"caltrans_district\": \"12 - Irvine\", \"drmt_organization_name\": null, \"cutoff2\": 20, \"cutoff\": 0}, {\"calitp_itp_id\": 154, \"trip_key\": 2445294422278915480, \"trip_id\": \"t_1552678_b_31068_tn_0\", \"shape_id\": \"p_1277983\", \"route_id\": \"19752\", \"service_hours\": 0.5, \"trip_first_departure_ts\": 27000, \"trip_last_arrival_ts\": 28800, \"departure_hour\": 7, \"time_of_day\": \"AM Peak\", \"p25\": 0.45, \"p50\": 0.5, \"p75\": 0.5, \"p50_trip\": 1, \"fastest_trip\": 0, \"car_duration_hours\": 0.3, \"competitive_route\": 1, \"bus_multiplier\": 1.67, \"bus_difference\": 12.0, \"num_trips\": 44, \"num_competitive\": 40, \"pct_trips_competitive\": 0.909, \"bus_difference_spread\": 25.8, \"route_group\": \"short\", \"max_trip_hrs\": 0.83, \"max_trip_route_group\": 0.83, \"name\": \"City of Laguna Beach\", \"caltrans_district\": \"12 - Irvine\", \"drmt_organization_name\": null, \"cutoff2\": 20, \"cutoff\": 0}, {\"calitp_itp_id\": 154, \"trip_key\": 5014393651217782729, \"trip_id\": \"t_1552674_b_31068_tn_0\", \"shape_id\": \"p_1277985\", \"route_id\": \"19752\", \"service_hours\": 0.5, \"trip_first_departure_ts\": 45000, \"trip_last_arrival_ts\": 46800, \"departure_hour\": 12, \"time_of_day\": \"Midday\", \"p25\": 0.45, \"p50\": 0.5, \"p75\": 0.5, \"p50_trip\": 1, \"fastest_trip\": 0, \"car_duration_hours\": 0.3, \"competitive_route\": 1, \"bus_multiplier\": 1.67, \"bus_difference\": 12.0, \"num_trips\": 44, \"num_competitive\": 40, \"pct_trips_competitive\": 0.909, \"bus_difference_spread\": 25.8, \"route_group\": \"short\", \"max_trip_hrs\": 0.83, \"max_trip_route_group\": 0.83, \"name\": \"City of Laguna Beach\", \"caltrans_district\": \"12 - Irvine\", \"drmt_organization_name\": null, \"cutoff2\": 20, \"cutoff\": 0}, {\"calitp_itp_id\": 154, \"trip_key\": 317096867958488262, \"trip_id\": \"t_1552672_b_31068_tn_0\", \"shape_id\": \"p_1277985\", \"route_id\": \"19752\", \"service_hours\": 0.5, \"trip_first_departure_ts\": 41400, \"trip_last_arrival_ts\": 43200, \"departure_hour\": 11, \"time_of_day\": \"Midday\", \"p25\": 0.45, \"p50\": 0.5, \"p75\": 0.5, \"p50_trip\": 1, \"fastest_trip\": 0, \"car_duration_hours\": 0.3, \"competitive_route\": 1, \"bus_multiplier\": 1.67, \"bus_difference\": 12.0, \"num_trips\": 44, \"num_competitive\": 40, \"pct_trips_competitive\": 0.909, \"bus_difference_spread\": 25.8, \"route_group\": \"short\", \"max_trip_hrs\": 0.83, \"max_trip_route_group\": 0.83, \"name\": \"City of Laguna Beach\", \"caltrans_district\": \"12 - Irvine\", \"drmt_organization_name\": null, \"cutoff2\": 20, \"cutoff\": 0}, {\"calitp_itp_id\": 154, \"trip_key\": 3341475223252556294, \"trip_id\": \"t_1552666_b_31068_tn_0\", \"shape_id\": \"p_1277985\", \"route_id\": \"19752\", \"service_hours\": 0.5, \"trip_first_departure_ts\": 30600, \"trip_last_arrival_ts\": 32400, \"departure_hour\": 8, \"time_of_day\": \"AM Peak\", \"p25\": 0.45, \"p50\": 0.5, \"p75\": 0.5, \"p50_trip\": 1, \"fastest_trip\": 0, \"car_duration_hours\": 0.3, \"competitive_route\": 1, \"bus_multiplier\": 1.67, \"bus_difference\": 12.0, \"num_trips\": 44, \"num_competitive\": 40, \"pct_trips_competitive\": 0.909, \"bus_difference_spread\": 25.8, \"route_group\": \"short\", \"max_trip_hrs\": 0.83, \"max_trip_route_group\": 0.83, \"name\": \"City of Laguna Beach\", \"caltrans_district\": \"12 - Irvine\", \"drmt_organization_name\": null, \"cutoff2\": 20, \"cutoff\": 0}, {\"calitp_itp_id\": 154, \"trip_key\": 1052966296350476782, \"trip_id\": \"t_1552667_b_31068_tn_0\", \"shape_id\": \"p_1277985\", \"route_id\": \"19752\", \"service_hours\": 0.5, \"trip_first_departure_ts\": 32400, \"trip_last_arrival_ts\": 34200, \"departure_hour\": 9, \"time_of_day\": \"AM Peak\", \"p25\": 0.45, \"p50\": 0.5, \"p75\": 0.5, \"p50_trip\": 1, \"fastest_trip\": 0, \"car_duration_hours\": 0.3, \"competitive_route\": 1, \"bus_multiplier\": 1.67, \"bus_difference\": 12.0, \"num_trips\": 44, \"num_competitive\": 40, \"pct_trips_competitive\": 0.909, \"bus_difference_spread\": 25.8, \"route_group\": \"short\", \"max_trip_hrs\": 0.83, \"max_trip_route_group\": 0.83, \"name\": \"City of Laguna Beach\", \"caltrans_district\": \"12 - Irvine\", \"drmt_organization_name\": null, \"cutoff2\": 20, \"cutoff\": 0}, {\"calitp_itp_id\": 154, \"trip_key\": -8770540301684811477, \"trip_id\": \"t_1552670_b_31068_tn_0\", \"shape_id\": \"p_1277985\", \"route_id\": \"19752\", \"service_hours\": 0.5, \"trip_first_departure_ts\": 37800, \"trip_last_arrival_ts\": 39600, \"departure_hour\": 10, \"time_of_day\": \"Midday\", \"p25\": 0.45, \"p50\": 0.5, \"p75\": 0.5, \"p50_trip\": 1, \"fastest_trip\": 0, \"car_duration_hours\": 0.3, \"competitive_route\": 1, \"bus_multiplier\": 1.67, \"bus_difference\": 12.0, \"num_trips\": 44, \"num_competitive\": 40, \"pct_trips_competitive\": 0.909, \"bus_difference_spread\": 25.8, \"route_group\": \"short\", \"max_trip_hrs\": 0.83, \"max_trip_route_group\": 0.83, \"name\": \"City of Laguna Beach\", \"caltrans_district\": \"12 - Irvine\", \"drmt_organization_name\": null, \"cutoff2\": 20, \"cutoff\": 0}, {\"calitp_itp_id\": 154, \"trip_key\": -1044523680580980912, \"trip_id\": \"t_1552676_b_31068_tn_0\", \"shape_id\": \"p_1277983\", \"route_id\": \"19752\", \"service_hours\": 0.5, \"trip_first_departure_ts\": 23400, \"trip_last_arrival_ts\": 25200, \"departure_hour\": 6, \"time_of_day\": \"Owl Service\", \"p25\": 0.45, \"p50\": 0.5, \"p75\": 0.5, \"p50_trip\": 1, \"fastest_trip\": 0, \"car_duration_hours\": 0.3, \"competitive_route\": 1, \"bus_multiplier\": 1.67, \"bus_difference\": 12.0, \"num_trips\": 44, \"num_competitive\": 40, \"pct_trips_competitive\": 0.909, \"bus_difference_spread\": 25.8, \"route_group\": \"short\", \"max_trip_hrs\": 0.83, \"max_trip_route_group\": 0.83, \"name\": \"City of Laguna Beach\", \"caltrans_district\": \"12 - Irvine\", \"drmt_organization_name\": null, \"cutoff2\": 20, \"cutoff\": 0}, {\"calitp_itp_id\": 154, \"trip_key\": 7802444516255894346, \"trip_id\": \"t_1552673_b_31068_tn_0\", \"shape_id\": \"p_1277985\", \"route_id\": \"19752\", \"service_hours\": 0.5, \"trip_first_departure_ts\": 43200, \"trip_last_arrival_ts\": 45000, \"departure_hour\": 12, \"time_of_day\": \"Midday\", \"p25\": 0.45, \"p50\": 0.5, \"p75\": 0.5, \"p50_trip\": 1, \"fastest_trip\": 0, \"car_duration_hours\": 0.3, \"competitive_route\": 1, \"bus_multiplier\": 1.67, \"bus_difference\": 12.0, \"num_trips\": 44, \"num_competitive\": 40, \"pct_trips_competitive\": 0.909, \"bus_difference_spread\": 25.8, \"route_group\": \"short\", \"max_trip_hrs\": 0.83, \"max_trip_route_group\": 0.83, \"name\": \"City of Laguna Beach\", \"caltrans_district\": \"12 - Irvine\", \"drmt_organization_name\": null, \"cutoff2\": 20, \"cutoff\": 0}, {\"calitp_itp_id\": 154, \"trip_key\": -1317475292178949811, \"trip_id\": \"t_1552679_b_31068_tn_0\", \"shape_id\": \"p_1277983\", \"route_id\": \"19752\", \"service_hours\": 0.5, \"trip_first_departure_ts\": 28800, \"trip_last_arrival_ts\": 30600, \"departure_hour\": 8, \"time_of_day\": \"AM Peak\", \"p25\": 0.45, \"p50\": 0.5, \"p75\": 0.5, \"p50_trip\": 1, \"fastest_trip\": 0, \"car_duration_hours\": 0.3, \"competitive_route\": 1, \"bus_multiplier\": 1.67, \"bus_difference\": 12.0, \"num_trips\": 44, \"num_competitive\": 40, \"pct_trips_competitive\": 0.909, \"bus_difference_spread\": 25.8, \"route_group\": \"short\", \"max_trip_hrs\": 0.83, \"max_trip_route_group\": 0.83, \"name\": \"City of Laguna Beach\", \"caltrans_district\": \"12 - Irvine\", \"drmt_organization_name\": null, \"cutoff2\": 20, \"cutoff\": 0}, {\"calitp_itp_id\": 154, \"trip_key\": 838935979221253846, \"trip_id\": \"t_1552677_b_31068_tn_0\", \"shape_id\": \"p_1277983\", \"route_id\": \"19752\", \"service_hours\": 0.5, \"trip_first_departure_ts\": 25200, \"trip_last_arrival_ts\": 27000, \"departure_hour\": 7, \"time_of_day\": \"AM Peak\", \"p25\": 0.45, \"p50\": 0.5, \"p75\": 0.5, \"p50_trip\": 1, \"fastest_trip\": 0, \"car_duration_hours\": 0.3, \"competitive_route\": 1, \"bus_multiplier\": 1.67, \"bus_difference\": 12.0, \"num_trips\": 44, \"num_competitive\": 40, \"pct_trips_competitive\": 0.909, \"bus_difference_spread\": 25.8, \"route_group\": \"short\", \"max_trip_hrs\": 0.83, \"max_trip_route_group\": 0.83, \"name\": \"City of Laguna Beach\", \"caltrans_district\": \"12 - Irvine\", \"drmt_organization_name\": null, \"cutoff2\": 20, \"cutoff\": 0}, {\"calitp_itp_id\": 154, \"trip_key\": -3889357870153534961, \"trip_id\": \"t_1552671_b_31068_tn_0\", \"shape_id\": \"p_1277985\", \"route_id\": \"19752\", \"service_hours\": 0.5, \"trip_first_departure_ts\": 39600, \"trip_last_arrival_ts\": 41400, \"departure_hour\": 11, \"time_of_day\": \"Midday\", \"p25\": 0.45, \"p50\": 0.5, \"p75\": 0.5, \"p50_trip\": 1, \"fastest_trip\": 0, \"car_duration_hours\": 0.3, \"competitive_route\": 1, \"bus_multiplier\": 1.67, \"bus_difference\": 12.0, \"num_trips\": 44, \"num_competitive\": 40, \"pct_trips_competitive\": 0.909, \"bus_difference_spread\": 25.8, \"route_group\": \"short\", \"max_trip_hrs\": 0.83, \"max_trip_route_group\": 0.83, \"name\": \"City of Laguna Beach\", \"caltrans_district\": \"12 - Irvine\", \"drmt_organization_name\": null, \"cutoff2\": 20, \"cutoff\": 0}, {\"calitp_itp_id\": 154, \"trip_key\": -891820795995715827, \"trip_id\": \"t_1552669_b_31068_tn_0\", \"shape_id\": \"p_1277985\", \"route_id\": \"19752\", \"service_hours\": 0.5, \"trip_first_departure_ts\": 36000, \"trip_last_arrival_ts\": 37800, \"departure_hour\": 10, \"time_of_day\": \"Midday\", \"p25\": 0.45, \"p50\": 0.5, \"p75\": 0.5, \"p50_trip\": 1, \"fastest_trip\": 0, \"car_duration_hours\": 0.3, \"competitive_route\": 1, \"bus_multiplier\": 1.67, \"bus_difference\": 12.0, \"num_trips\": 44, \"num_competitive\": 40, \"pct_trips_competitive\": 0.909, \"bus_difference_spread\": 25.8, \"route_group\": \"short\", \"max_trip_hrs\": 0.83, \"max_trip_route_group\": 0.83, \"name\": \"City of Laguna Beach\", \"caltrans_district\": \"12 - Irvine\", \"drmt_organization_name\": null, \"cutoff2\": 20, \"cutoff\": 0}, {\"calitp_itp_id\": 154, \"trip_key\": -5287202720190875236, \"trip_id\": \"t_1552635_b_31068_tn_0\", \"shape_id\": \"p_1277982\", \"route_id\": \"19752\", \"service_hours\": 0.53, \"trip_first_departure_ts\": 54600, \"trip_last_arrival_ts\": 56520, \"departure_hour\": 15, \"time_of_day\": \"Midday\", \"p25\": 0.45, \"p50\": 0.5, \"p75\": 0.5, \"p50_trip\": 0, \"fastest_trip\": 0, \"car_duration_hours\": 0.3, \"competitive_route\": 1, \"bus_multiplier\": 1.77, \"bus_difference\": 13.8, \"num_trips\": 44, \"num_competitive\": 40, \"pct_trips_competitive\": 0.909, \"bus_difference_spread\": 25.8, \"route_group\": \"short\", \"max_trip_hrs\": 0.83, \"max_trip_route_group\": 0.83, \"name\": \"City of Laguna Beach\", \"caltrans_district\": \"12 - Irvine\", \"drmt_organization_name\": null, \"cutoff2\": 20, \"cutoff\": 0}, {\"calitp_itp_id\": 154, \"trip_key\": 3920587676646212300, \"trip_id\": \"t_1552634_b_31068_tn_0\", \"shape_id\": \"p_1277982\", \"route_id\": \"19752\", \"service_hours\": 0.53, \"trip_first_departure_ts\": 52200, \"trip_last_arrival_ts\": 54120, \"departure_hour\": 14, \"time_of_day\": \"Midday\", \"p25\": 0.45, \"p50\": 0.5, \"p75\": 0.5, \"p50_trip\": 0, \"fastest_trip\": 0, \"car_duration_hours\": 0.3, \"competitive_route\": 1, \"bus_multiplier\": 1.77, \"bus_difference\": 13.8, \"num_trips\": 44, \"num_competitive\": 40, \"pct_trips_competitive\": 0.909, \"bus_difference_spread\": 25.8, \"route_group\": \"short\", \"max_trip_hrs\": 0.83, \"max_trip_route_group\": 0.83, \"name\": \"City of Laguna Beach\", \"caltrans_district\": \"12 - Irvine\", \"drmt_organization_name\": null, \"cutoff2\": 20, \"cutoff\": 0}, {\"calitp_itp_id\": 154, \"trip_key\": -1863009604666829365, \"trip_id\": \"t_1552659_b_31068_tn_0\", \"shape_id\": \"p_1277985\", \"route_id\": \"19752\", \"service_hours\": 0.57, \"trip_first_departure_ts\": 61200, \"trip_last_arrival_ts\": 63240, \"departure_hour\": 17, \"time_of_day\": \"PM Peak\", \"p25\": 0.45, \"p50\": 0.5, \"p75\": 0.5, \"p50_trip\": 0, \"fastest_trip\": 0, \"car_duration_hours\": 0.3, \"competitive_route\": 1, \"bus_multiplier\": 1.9, \"bus_difference\": 16.2, \"num_trips\": 44, \"num_competitive\": 40, \"pct_trips_competitive\": 0.909, \"bus_difference_spread\": 25.8, \"route_group\": \"short\", \"max_trip_hrs\": 0.83, \"max_trip_route_group\": 0.83, \"name\": \"City of Laguna Beach\", \"caltrans_district\": \"12 - Irvine\", \"drmt_organization_name\": null, \"cutoff2\": 20, \"cutoff\": 0}, {\"calitp_itp_id\": 154, \"trip_key\": -1572468369177639094, \"trip_id\": \"t_1552658_b_31068_tn_0\", \"shape_id\": \"p_1277985\", \"route_id\": \"19752\", \"service_hours\": 0.57, \"trip_first_departure_ts\": 58860, \"trip_last_arrival_ts\": 60900, \"departure_hour\": 16, \"time_of_day\": \"Midday\", \"p25\": 0.45, \"p50\": 0.5, \"p75\": 0.5, \"p50_trip\": 0, \"fastest_trip\": 0, \"car_duration_hours\": 0.3, \"competitive_route\": 1, \"bus_multiplier\": 1.9, \"bus_difference\": 16.2, \"num_trips\": 44, \"num_competitive\": 40, \"pct_trips_competitive\": 0.909, \"bus_difference_spread\": 25.8, \"route_group\": \"short\", \"max_trip_hrs\": 0.83, \"max_trip_route_group\": 0.83, \"name\": \"City of Laguna Beach\", \"caltrans_district\": \"12 - Irvine\", \"drmt_organization_name\": null, \"cutoff2\": 20, \"cutoff\": 0}, {\"calitp_itp_id\": 154, \"trip_key\": -3781850863829068794, \"trip_id\": \"t_1552664_b_31068_tn_0\", \"shape_id\": \"p_1277983\", \"route_id\": \"19752\", \"service_hours\": 0.57, \"trip_first_departure_ts\": 54600, \"trip_last_arrival_ts\": 56640, \"departure_hour\": 15, \"time_of_day\": \"Midday\", \"p25\": 0.45, \"p50\": 0.5, \"p75\": 0.5, \"p50_trip\": 0, \"fastest_trip\": 0, \"car_duration_hours\": 0.3, \"competitive_route\": 1, \"bus_multiplier\": 1.9, \"bus_difference\": 16.2, \"num_trips\": 44, \"num_competitive\": 40, \"pct_trips_competitive\": 0.909, \"bus_difference_spread\": 25.8, \"route_group\": \"short\", \"max_trip_hrs\": 0.83, \"max_trip_route_group\": 0.83, \"name\": \"City of Laguna Beach\", \"caltrans_district\": \"12 - Irvine\", \"drmt_organization_name\": null, \"cutoff2\": 20, \"cutoff\": 0}, {\"calitp_itp_id\": 154, \"trip_key\": -5022706857486323726, \"trip_id\": \"t_1552665_b_31068_tn_0\", \"shape_id\": \"p_1277983\", \"route_id\": \"19752\", \"service_hours\": 0.57, \"trip_first_departure_ts\": 57120, \"trip_last_arrival_ts\": 59160, \"departure_hour\": 15, \"time_of_day\": \"Midday\", \"p25\": 0.45, \"p50\": 0.5, \"p75\": 0.5, \"p50_trip\": 0, \"fastest_trip\": 0, \"car_duration_hours\": 0.3, \"competitive_route\": 1, \"bus_multiplier\": 1.9, \"bus_difference\": 16.2, \"num_trips\": 44, \"num_competitive\": 40, \"pct_trips_competitive\": 0.909, \"bus_difference_spread\": 25.8, \"route_group\": \"short\", \"max_trip_hrs\": 0.83, \"max_trip_route_group\": 0.83, \"name\": \"City of Laguna Beach\", \"caltrans_district\": \"12 - Irvine\", \"drmt_organization_name\": null, \"cutoff2\": 20, \"cutoff\": 0}, {\"calitp_itp_id\": 154, \"trip_key\": -8787997531771117379, \"trip_id\": \"t_1552632_b_31068_tn_0\", \"shape_id\": \"p_1277984\", \"route_id\": \"19752\", \"service_hours\": 0.62, \"trip_first_departure_ts\": 49380, \"trip_last_arrival_ts\": 51600, \"departure_hour\": 13, \"time_of_day\": \"Midday\", \"p25\": 0.45, \"p50\": 0.5, \"p75\": 0.5, \"p50_trip\": 0, \"fastest_trip\": 0, \"car_duration_hours\": 0.3, \"competitive_route\": 1, \"bus_multiplier\": 2.07, \"bus_difference\": 19.2, \"num_trips\": 44, \"num_competitive\": 40, \"pct_trips_competitive\": 0.909, \"bus_difference_spread\": 25.8, \"route_group\": \"short\", \"max_trip_hrs\": 0.83, \"max_trip_route_group\": 0.83, \"name\": \"City of Laguna Beach\", \"caltrans_district\": \"12 - Irvine\", \"drmt_organization_name\": null, \"cutoff2\": 20, \"cutoff\": 0}, {\"calitp_itp_id\": 154, \"trip_key\": -5536394200960152004, \"trip_id\": \"t_1552663_b_31068_tn_0\", \"shape_id\": \"p_1277983\", \"route_id\": \"19752\", \"service_hours\": 0.67, \"trip_first_departure_ts\": 52200, \"trip_last_arrival_ts\": 54600, \"departure_hour\": 14, \"time_of_day\": \"Midday\", \"p25\": 0.45, \"p50\": 0.5, \"p75\": 0.5, \"p50_trip\": 0, \"fastest_trip\": 0, \"car_duration_hours\": 0.3, \"competitive_route\": 1, \"bus_multiplier\": 2.23, \"bus_difference\": 22.2, \"num_trips\": 44, \"num_competitive\": 40, \"pct_trips_competitive\": 0.909, \"bus_difference_spread\": 25.8, \"route_group\": \"short\", \"max_trip_hrs\": 0.83, \"max_trip_route_group\": 0.83, \"name\": \"City of Laguna Beach\", \"caltrans_district\": \"12 - Irvine\", \"drmt_organization_name\": null, \"cutoff2\": 20, \"cutoff\": 0}, {\"calitp_itp_id\": 154, \"trip_key\": 3617091447362278109, \"trip_id\": \"t_1552675_b_31068_tn_0\", \"shape_id\": \"p_1277985\", \"route_id\": \"19752\", \"service_hours\": 0.72, \"trip_first_departure_ts\": 46800, \"trip_last_arrival_ts\": 49380, \"departure_hour\": 13, \"time_of_day\": \"Midday\", \"p25\": 0.45, \"p50\": 0.5, \"p75\": 0.5, \"p50_trip\": 0, \"fastest_trip\": 0, \"car_duration_hours\": 0.3, \"competitive_route\": 1, \"bus_multiplier\": 2.4, \"bus_difference\": 25.2, \"num_trips\": 44, \"num_competitive\": 40, \"pct_trips_competitive\": 0.909, \"bus_difference_spread\": 25.8, \"route_group\": \"short\", \"max_trip_hrs\": 0.83, \"max_trip_route_group\": 0.83, \"name\": \"City of Laguna Beach\", \"caltrans_district\": \"12 - Irvine\", \"drmt_organization_name\": null, \"cutoff2\": 20, \"cutoff\": 0}, {\"calitp_itp_id\": 154, \"trip_key\": -8557456779340071826, \"trip_id\": \"t_1552652_b_31068_tn_0\", \"shape_id\": \"p_1277985\", \"route_id\": \"19752\", \"service_hours\": 0.83, \"trip_first_departure_ts\": 49200, \"trip_last_arrival_ts\": 52200, \"departure_hour\": 13, \"time_of_day\": \"Midday\", \"p25\": 0.45, \"p50\": 0.5, \"p75\": 0.5, \"p50_trip\": 0, \"fastest_trip\": 0, \"car_duration_hours\": 0.3, \"competitive_route\": 1, \"bus_multiplier\": 2.77, \"bus_difference\": 31.8, \"num_trips\": 44, \"num_competitive\": 40, \"pct_trips_competitive\": 0.909, \"bus_difference_spread\": 25.8, \"route_group\": \"short\", \"max_trip_hrs\": 0.83, \"max_trip_route_group\": 0.83, \"name\": \"City of Laguna Beach\", \"caltrans_district\": \"12 - Irvine\", \"drmt_organization_name\": null, \"cutoff2\": 20, \"cutoff\": 0}]}}, {\"mode\": \"vega-lite\"});\n",
       "</script>"
      ],
      "text/plain": [
       "alt.FacetChart(...)"
      ]
     },
     "metadata": {},
     "output_type": "display_data"
    }
   ],
   "source": [
    "# Allow for possibility that operator doesn't have routes that fall into certain route_groups\n",
    "# But, jupyterbook will not like markdown with f-string\n",
    "# separate out route_group and put in each cell, and use try/except + if to display...\n",
    "# but all 3 route groups must be displayed. just add sentence about why no routes were returned at the end\n",
    "route_group = \"short\"\n",
    "try:\n",
    "    display_charts_for_route_group(df, route_group)\n",
    "except:\n",
    "    print(\"No routes meet this criteria.\")"
   ]
  },
  {
   "cell_type": "markdown",
   "id": "c2931b6f-034d-4384-9e14-80b925e3b820",
   "metadata": {
    "papermill": {
     "duration": 0.017535,
     "end_time": "2022-05-09T17:21:31.592944",
     "exception": false,
     "start_time": "2022-05-09T17:21:31.575409",
     "status": "completed"
    },
    "tags": []
   },
   "source": [
    "### Medium Routes (1-1.5 hrs)"
   ]
  },
  {
   "cell_type": "code",
   "execution_count": 14,
   "id": "480edddc-4de0-48c2-ae4c-b0ceef8f28b5",
   "metadata": {
    "execution": {
     "iopub.execute_input": "2022-05-09T17:21:31.633409Z",
     "iopub.status.busy": "2022-05-09T17:21:31.632789Z",
     "iopub.status.idle": "2022-05-09T17:21:31.646793Z",
     "shell.execute_reply": "2022-05-09T17:21:31.645871Z"
    },
    "jupyter": {
     "source_hidden": true
    },
    "papermill": {
     "duration": 0.035547,
     "end_time": "2022-05-09T17:21:31.648968",
     "exception": false,
     "start_time": "2022-05-09T17:21:31.613421",
     "status": "completed"
    },
    "tags": [
     "remove_input"
    ]
   },
   "outputs": [
    {
     "name": "stdout",
     "output_type": "stream",
     "text": [
      "No routes meet this criteria.\n"
     ]
    }
   ],
   "source": [
    "route_group = \"medium\"\n",
    "try:\n",
    "    display_charts_for_route_group(df, route_group)\n",
    "except:\n",
    "    print(\"No routes meet this criteria.\")"
   ]
  },
  {
   "cell_type": "markdown",
   "id": "124b76d0-886c-4d03-92ac-f1bda3cda182",
   "metadata": {
    "papermill": {
     "duration": 0.017587,
     "end_time": "2022-05-09T17:21:31.687195",
     "exception": false,
     "start_time": "2022-05-09T17:21:31.669608",
     "status": "completed"
    },
    "tags": []
   },
   "source": [
    "### Long Routes (> 1.5 hrs)"
   ]
  },
  {
   "cell_type": "code",
   "execution_count": 15,
   "id": "ddc81b19-4c45-4c81-8b7a-5e0f394aa7a3",
   "metadata": {
    "execution": {
     "iopub.execute_input": "2022-05-09T17:21:31.733663Z",
     "iopub.status.busy": "2022-05-09T17:21:31.732623Z",
     "iopub.status.idle": "2022-05-09T17:21:31.746688Z",
     "shell.execute_reply": "2022-05-09T17:21:31.745994Z"
    },
    "jupyter": {
     "source_hidden": true
    },
    "papermill": {
     "duration": 0.036619,
     "end_time": "2022-05-09T17:21:31.748585",
     "exception": false,
     "start_time": "2022-05-09T17:21:31.711966",
     "status": "completed"
    },
    "tags": [
     "remove_input"
    ]
   },
   "outputs": [
    {
     "name": "stdout",
     "output_type": "stream",
     "text": [
      "No routes meet this criteria.\n"
     ]
    }
   ],
   "source": [
    "route_group = \"long\"\n",
    "try:\n",
    "    display_charts_for_route_group(df, route_group)\n",
    "except:\n",
    "    print(\"No routes meet this criteria.\")"
   ]
  },
  {
   "cell_type": "markdown",
   "id": "ace75b5f-0442-4fbe-aebd-6c3a13ae13a7",
   "metadata": {
    "papermill": {
     "duration": 0.018433,
     "end_time": "2022-05-09T17:21:31.784425",
     "exception": false,
     "start_time": "2022-05-09T17:21:31.765992",
     "status": "completed"
    },
    "tags": []
   },
   "source": [
    "### GTFS Real-Time Speedmaps"
   ]
  },
  {
   "cell_type": "code",
   "execution_count": 16,
   "id": "3f06fdc4-d5a8-41f5-9b72-ed7e8a2dd2fc",
   "metadata": {
    "execution": {
     "iopub.execute_input": "2022-05-09T17:21:31.835947Z",
     "iopub.status.busy": "2022-05-09T17:21:31.834619Z",
     "iopub.status.idle": "2022-05-09T17:21:31.886356Z",
     "shell.execute_reply": "2022-05-09T17:21:31.885367Z"
    },
    "jupyter": {
     "source_hidden": true
    },
    "papermill": {
     "duration": 0.074562,
     "end_time": "2022-05-09T17:21:31.888543",
     "exception": false,
     "start_time": "2022-05-09T17:21:31.813981",
     "status": "completed"
    },
    "tags": [
     "remove_input"
    ]
   },
   "outputs": [
    {
     "data": {
      "text/html": [
       "No GTFS RT data available."
      ],
      "text/plain": [
       "<IPython.core.display.HTML object>"
      ]
     },
     "metadata": {},
     "output_type": "display_data"
    }
   ],
   "source": [
    "PORTFOLIO_SITE_YAML = \"../portfolio/analyses.yml\"\n",
    "\n",
    "# Grab list of ITP IDs with GTFS RT speedmaps\n",
    "rt_itp_id = deploy_portfolio_yaml.check_if_rt_data_available(PORTFOLIO_SITE_YAML)\n",
    "\n",
    "# Construct the URL \n",
    "RT_URL = (\"https://analysis.calitp.org/rt/\"\n",
    "          f\"district_{district_number}-{district_name}/\"\n",
    "          f\"speedmaps__itp_id_{itp_id}.html\"\n",
    "         ) \n",
    "\n",
    "if itp_id in rt_itp_id:\n",
    "    display(HTML('<a href=RT_URL>GTFS RT speedmaps here.</a>'))\n",
    "else:\n",
    "    display(HTML(\"No GTFS RT data available.\"))"
   ]
  },
  {
   "cell_type": "code",
   "execution_count": null,
   "id": "4664fe87-4e5e-4414-9602-a5c9c2a14072",
   "metadata": {
    "jupyter": {
     "source_hidden": true
    },
    "papermill": {
     "duration": 0.018039,
     "end_time": "2022-05-09T17:21:31.934251",
     "exception": false,
     "start_time": "2022-05-09T17:21:31.916212",
     "status": "completed"
    },
    "tags": [
     "remove_input"
    ]
   },
   "outputs": [],
   "source": []
  }
 ],
 "metadata": {
  "kernelspec": {
   "display_name": "Python 3 (ipykernel)",
   "language": "python",
   "name": "python3"
  },
  "language_info": {
   "codemirror_mode": {
    "name": "ipython",
    "version": 3
   },
   "file_extension": ".py",
   "mimetype": "text/x-python",
   "name": "python",
   "nbconvert_exporter": "python",
   "pygments_lexer": "ipython3",
   "version": "3.9.12"
  },
  "papermill": {
   "default_parameters": {},
   "duration": 40.122962,
   "end_time": "2022-05-09T17:21:34.731842",
   "environment_variables": {},
   "exception": null,
   "input_path": "bus_service_increase/competitive-parallel-routes.ipynb",
   "output_path": "portfolio/parallel_corridors/district_12-irvine/competitive-parallel-routes__itp_id_154.ipynb",
   "parameters": {
    "district": "12 - Irvine",
    "itp_id": 154
   },
   "start_time": "2022-05-09T17:20:54.608880",
   "version": "2.3.4"
  }
 },
 "nbformat": 4,
 "nbformat_minor": 5
}