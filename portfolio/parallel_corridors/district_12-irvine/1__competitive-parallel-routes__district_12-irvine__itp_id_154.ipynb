{
 "cells": [
  {
   "cell_type": "code",
   "execution_count": 1,
   "id": "95d00857-6a20-4529-a519-2cc7182928a9",
   "metadata": {
    "execution": {
     "iopub.execute_input": "2022-05-11T22:42:37.550069Z",
     "iopub.status.busy": "2022-05-11T22:42:37.549572Z",
     "iopub.status.idle": "2022-05-11T22:42:45.779705Z",
     "shell.execute_reply": "2022-05-11T22:42:45.779020Z"
    },
    "jupyter": {
     "source_hidden": true
    },
    "papermill": {
     "duration": 8.247024,
     "end_time": "2022-05-11T22:42:45.781961",
     "exception": false,
     "start_time": "2022-05-11T22:42:37.534937",
     "status": "completed"
    },
    "tags": [
     "remove_input"
    ]
   },
   "outputs": [],
   "source": [
    "%%capture\n",
    "import warnings\n",
    "warnings.filterwarnings('ignore')\n",
    "\n",
    "import altair as alt\n",
    "import calitp.magics\n",
    "import geopandas as gpd\n",
    "import intake\n",
    "import pandas as pd\n",
    "\n",
    "from IPython.display import display, Markdown, HTML\n",
    "\n",
    "import parallel_corridors_utils\n",
    "import deploy_portfolio_yaml\n",
    "from shared_utils import styleguide, geography_utils\n",
    "from make_stripplot_data import diff_cutoffs\n",
    "\n",
    "catalog = intake.open_catalog(\"./*.yml\")\n",
    "alt.renderers.enable(\"html\")"
   ]
  },
  {
   "cell_type": "code",
   "execution_count": 2,
   "id": "8af2a0c1-f3da-408d-9bea-11d9fbf8695d",
   "metadata": {
    "execution": {
     "iopub.execute_input": "2022-05-11T22:42:45.810597Z",
     "iopub.status.busy": "2022-05-11T22:42:45.810051Z",
     "iopub.status.idle": "2022-05-11T22:42:45.813953Z",
     "shell.execute_reply": "2022-05-11T22:42:45.813472Z"
    },
    "jupyter": {
     "source_hidden": true
    },
    "papermill": {
     "duration": 0.019307,
     "end_time": "2022-05-11T22:42:45.815606",
     "exception": false,
     "start_time": "2022-05-11T22:42:45.796299",
     "status": "completed"
    },
    "tags": [
     "parameters",
     "remove_input"
    ]
   },
   "outputs": [],
   "source": [
    "# parameters cell\n",
    "itp_id = 182"
   ]
  },
  {
   "cell_type": "code",
   "execution_count": 3,
   "id": "30acc22b",
   "metadata": {
    "execution": {
     "iopub.execute_input": "2022-05-11T22:42:45.840561Z",
     "iopub.status.busy": "2022-05-11T22:42:45.840050Z",
     "iopub.status.idle": "2022-05-11T22:42:45.843854Z",
     "shell.execute_reply": "2022-05-11T22:42:45.843412Z"
    },
    "jupyter": {
     "source_hidden": true
    },
    "papermill": {
     "duration": 0.018508,
     "end_time": "2022-05-11T22:42:45.845595",
     "exception": false,
     "start_time": "2022-05-11T22:42:45.827087",
     "status": "completed"
    },
    "tags": [
     "injected-parameters",
     "remove_input"
    ]
   },
   "outputs": [],
   "source": [
    "# Parameters\n",
    "district = \"12 - Irvine\"\n",
    "itp_id = 154\n"
   ]
  },
  {
   "cell_type": "code",
   "execution_count": 4,
   "id": "9582aaf4-79ff-412a-b248-8d8d693ebd4f",
   "metadata": {
    "execution": {
     "iopub.execute_input": "2022-05-11T22:42:45.891017Z",
     "iopub.status.busy": "2022-05-11T22:42:45.890418Z",
     "iopub.status.idle": "2022-05-11T22:42:47.141787Z",
     "shell.execute_reply": "2022-05-11T22:42:47.140834Z"
    },
    "jupyter": {
     "source_hidden": true
    },
    "papermill": {
     "duration": 1.278692,
     "end_time": "2022-05-11T22:42:47.144423",
     "exception": false,
     "start_time": "2022-05-11T22:42:45.865731",
     "status": "completed"
    },
    "tags": [
     "remove_input"
    ]
   },
   "outputs": [],
   "source": [
    "df = catalog.competitive_route_variability.read()\n",
    "\n",
    "df = (df[(df.calitp_itp_id == itp_id) & \n",
    "         (df.route_group.notna())]\n",
    "      .rename(columns = {\"route_name_used\": \"route_name\"})\n",
    "      .reset_index(drop=True)\n",
    "     )\n",
    "\n",
    "if itp_id == 182:\n",
    "    df = df.assign(\n",
    "        route_id = df.route_id.str.replace('-13153', '').astype(int)\n",
    "    )"
   ]
  },
  {
   "cell_type": "code",
   "execution_count": 5,
   "id": "33ac4b06-f647-4dce-a625-8f2c1b37cc60",
   "metadata": {
    "execution": {
     "iopub.execute_input": "2022-05-11T22:42:47.170684Z",
     "iopub.status.busy": "2022-05-11T22:42:47.170260Z",
     "iopub.status.idle": "2022-05-11T22:42:47.177647Z",
     "shell.execute_reply": "2022-05-11T22:42:47.177117Z"
    },
    "jupyter": {
     "source_hidden": true
    },
    "papermill": {
     "duration": 0.022423,
     "end_time": "2022-05-11T22:42:47.179230",
     "exception": false,
     "start_time": "2022-05-11T22:42:47.156807",
     "status": "completed"
    },
    "tags": [
     "remove_input"
    ]
   },
   "outputs": [],
   "source": [
    "%%capture_parameters\n",
    "operator_name = df.name.iloc[0]\n",
    "district_number = f\"{df.caltrans_district.iloc[0].split('-')[0].strip()}\"\n",
    "district_name = f\"{df.caltrans_district.iloc[0].split('-')[1].strip().lower().replace(' ', '-')}\"\n",
    "\n",
    "itp_id, operator_name, district_number, district_name"
   ]
  },
  {
   "cell_type": "markdown",
   "id": "65bc6f5c-8348-42ee-b2dd-52057c406852",
   "metadata": {
    "papermill": {
     "duration": 0.0119,
     "end_time": "2022-05-11T22:42:47.205350",
     "exception": false,
     "start_time": "2022-05-11T22:42:47.193450",
     "status": "completed"
    },
    "tags": []
   },
   "source": [
    "# City of Laguna Beach (ITP ID: 154)"
   ]
  },
  {
   "cell_type": "code",
   "execution_count": 6,
   "id": "a689c1ab-2c6c-4831-8d64-897f5986f571",
   "metadata": {
    "execution": {
     "iopub.execute_input": "2022-05-11T22:42:47.231606Z",
     "iopub.status.busy": "2022-05-11T22:42:47.231055Z",
     "iopub.status.idle": "2022-05-11T22:42:47.236714Z",
     "shell.execute_reply": "2022-05-11T22:42:47.236214Z"
    },
    "jupyter": {
     "source_hidden": true
    },
    "papermill": {
     "duration": 0.020629,
     "end_time": "2022-05-11T22:42:47.238295",
     "exception": false,
     "start_time": "2022-05-11T22:42:47.217666",
     "status": "completed"
    },
    "tags": [
     "remove_input"
    ]
   },
   "outputs": [
    {
     "data": {
      "text/html": [
       "<h1>Competitive & Parallel Routes</h1>"
      ],
      "text/plain": [
       "<IPython.core.display.HTML object>"
      ]
     },
     "metadata": {},
     "output_type": "display_data"
    }
   ],
   "source": [
    "display(HTML(\"<h1>Competitive & Parallel Routes</h1>\")) "
   ]
  },
  {
   "cell_type": "code",
   "execution_count": 7,
   "id": "2cb4d8d5-4760-40e4-85b1-cb833d8bb648",
   "metadata": {
    "execution": {
     "iopub.execute_input": "2022-05-11T22:42:47.265492Z",
     "iopub.status.busy": "2022-05-11T22:42:47.264948Z",
     "iopub.status.idle": "2022-05-11T22:42:58.036371Z",
     "shell.execute_reply": "2022-05-11T22:42:58.035508Z"
    },
    "jupyter": {
     "source_hidden": true
    },
    "papermill": {
     "duration": 10.78823,
     "end_time": "2022-05-11T22:42:58.038971",
     "exception": false,
     "start_time": "2022-05-11T22:42:47.250741",
     "status": "completed"
    },
    "tags": [
     "remove_input"
    ]
   },
   "outputs": [],
   "source": [
    "# Grab parameters for narrative text - clean up formatting here \n",
    "district = df.caltrans_district.iloc[0]\n",
    "formatted_date = pd.to_datetime(parallel_corridors_utils.SELECTED_DATE).strftime('%m-%d-%Y')\n",
    "\n",
    "PCT_COMPETITIVE_THRESHOLD = 0.75\n",
    "PCT_TRIPS_BELOW_CUTOFF = 0.50\n",
    "\n",
    "stats = parallel_corridors_utils.operator_parallel_competitive_stats(\n",
    "    itp_id, PCT_COMPETITIVE_THRESHOLD, PCT_TRIPS_BELOW_CUTOFF)\n",
    "\n",
    "pct_parallel = round(stats['parallel_routes'] / stats['num_routes'] * 100, 1 )\n",
    "pct_competitive =  round(stats['competitive_routes'] / stats['num_routes'] * 100, 1 )\n",
    "pct_viable =  round(stats['viable_competitive_routes'] / stats['num_routes'] * 100, 1 )"
   ]
  },
  {
   "cell_type": "code",
   "execution_count": 8,
   "id": "8bf30c8f-6aa5-47bb-82ae-a906732e81fd",
   "metadata": {
    "execution": {
     "iopub.execute_input": "2022-05-11T22:42:58.068975Z",
     "iopub.status.busy": "2022-05-11T22:42:58.068674Z",
     "iopub.status.idle": "2022-05-11T22:42:58.100306Z",
     "shell.execute_reply": "2022-05-11T22:42:58.099453Z"
    },
    "jupyter": {
     "source_hidden": true
    },
    "papermill": {
     "duration": 0.049272,
     "end_time": "2022-05-11T22:42:58.102647",
     "exception": false,
     "start_time": "2022-05-11T22:42:58.053375",
     "status": "completed"
    },
    "tags": [
     "remove_input"
    ]
   },
   "outputs": [],
   "source": [
    "# Display a table of route-level stats for each route_group\n",
    "# Displaying route_name makes chart too crowded\n",
    "\n",
    "# Get route stats (for entire df)\n",
    "route_stats = parallel_corridors_utils.competitive_route_level_stats(df)\n",
    "    \n",
    "def style_route_stats(df, top15_routes):\n",
    "    df = df[df.route_id.isin(top15_routes)]\n",
    "    \n",
    "    # Rename columns for display\n",
    "    rename_cols = {\n",
    "        \"route_id\": \"Route ID\",\n",
    "        \"route_name\": \"Route Name\",\n",
    "        \"route_group\": \"Route Group\",\n",
    "        \"num_trips\": \"# trips\",\n",
    "        \"daily_avg_freq\": \"Daily Avg Frequency (trips per hr)\",\n",
    "        \"pm_peak_freq\": \"PM Peak Avg Frequency (trips per hr)\",\n",
    "        \"percentiles\": \"25th, 50th, 75th ptile (hrs)\",\n",
    "    }\n",
    "    \n",
    "    # Style it\n",
    "    drop_cols = [\n",
    "        \"calitp_itp_id\", \"below_cutoff\", \"route_group\", \n",
    "        \"pct_trips_competitive\", \"pct_below_cutoff\",\n",
    "        \"p25\", \"p50\", \"p75\",\n",
    "    ]\n",
    "    \n",
    "    df_style = (df.sort_values(\n",
    "        [\"pct_trips_competitive\", \"below_cutoff\", \n",
    "        \"pct_below_cutoff\", \"route_id\"], \n",
    "        ascending=[False, False, False, True])\n",
    "           .drop(columns = drop_cols)\n",
    "           .rename(columns = rename_cols)\n",
    "           .style.format({\n",
    "               #'% trips within 2x car travel': '{:,.1%}', \n",
    "               'Daily Avg Frequency (trips per hr)': '{:,.3}',\n",
    "               'PM Peak Avg Frequency (trips per hr)': '{:,.3}',\n",
    "           })\n",
    "           .hide(axis=\"index\")\n",
    "           .to_html()\n",
    "          )\n",
    "    \n",
    "    display(HTML(\"<h4>Route Stats</h4>\"))\n",
    "    display(HTML(df_style))"
   ]
  },
  {
   "cell_type": "markdown",
   "id": "ab667928-5274-4490-82d9-4c39293209a4",
   "metadata": {
    "papermill": {
     "duration": 0.012849,
     "end_time": "2022-05-11T22:42:58.128203",
     "exception": false,
     "start_time": "2022-05-11T22:42:58.115354",
     "status": "completed"
    },
    "tags": []
   },
   "source": [
    "## Quick Stats"
   ]
  },
  {
   "cell_type": "code",
   "execution_count": 9,
   "id": "0416509d-dc62-4165-b62e-64f8b26e8b8e",
   "metadata": {
    "execution": {
     "iopub.execute_input": "2022-05-11T22:42:58.155628Z",
     "iopub.status.busy": "2022-05-11T22:42:58.155051Z",
     "iopub.status.idle": "2022-05-11T22:42:58.162273Z",
     "shell.execute_reply": "2022-05-11T22:42:58.161366Z"
    },
    "jupyter": {
     "source_hidden": true
    },
    "papermill": {
     "duration": 0.023537,
     "end_time": "2022-05-11T22:42:58.164590",
     "exception": false,
     "start_time": "2022-05-11T22:42:58.141053",
     "status": "completed"
    },
    "tags": [
     "remove_input"
    ]
   },
   "outputs": [
    {
     "data": {
      "text/markdown": [
       "**Bus routes in service: 1**<br>**Parallel routes** to State Highway Network (SHN): **1 routes (100.0%)**<br>**Competitive routes** against car travel (within 2x car travel time): **1 routes (100.0%)**<br>**Viable competitive routes** against car travel (within 2x car travel time and within 20, 30, or 40 min cut-off): **1 routes (100.0%)**"
      ],
      "text/plain": [
       "<IPython.core.display.Markdown object>"
      ]
     },
     "metadata": {},
     "output_type": "display_data"
    }
   ],
   "source": [
    "display(\n",
    "    Markdown(\n",
    "        f\"**Bus routes in service: {stats['num_routes']}**\"\n",
    "        \"<br>**Parallel routes** to State Highway Network (SHN): \"\n",
    "        f\"**{stats['parallel_routes']} routes ({pct_parallel}%)**\"\n",
    "        \"<br>**Competitive routes** against car travel (within 2x car travel time): \"\n",
    "        f\"**{stats['competitive_routes']} routes ({pct_competitive}%)**\"\n",
    "        \"<br>**Viable competitive routes** against car travel \"\n",
    "        \"(within 2x car travel time and within 20, 30, or 40 min cut-off): \"\n",
    "        f\"**{stats['viable_competitive_routes']} routes ({pct_viable}%)**\"\n",
    "    )\n",
    ")"
   ]
  },
  {
   "cell_type": "code",
   "execution_count": 10,
   "id": "f9d6ab58-f0ee-460c-b6de-657490e1f386",
   "metadata": {
    "execution": {
     "iopub.execute_input": "2022-05-11T22:42:58.199951Z",
     "iopub.status.busy": "2022-05-11T22:42:58.199688Z",
     "iopub.status.idle": "2022-05-11T22:42:58.206443Z",
     "shell.execute_reply": "2022-05-11T22:42:58.205877Z"
    },
    "jupyter": {
     "source_hidden": true
    },
    "papermill": {
     "duration": 0.030225,
     "end_time": "2022-05-11T22:42:58.208108",
     "exception": false,
     "start_time": "2022-05-11T22:42:58.177883",
     "status": "completed"
    },
    "tags": [
     "remove_input"
    ]
   },
   "outputs": [],
   "source": [
    "def set_yaxis_range(df, y_col):\n",
    "    Y_MIN = df[y_col].min()\n",
    "    Y_MAX = df[y_col].max()\n",
    "    \n",
    "    return Y_MIN, Y_MAX\n",
    "\n",
    "# Rather than set it according to the operator, which can vary,\n",
    "# just use set thresholds for each group\n",
    "def top15_routes(df, route_group):\n",
    "    # grab top 15 routes where majority of trips are below that cut-off \n",
    "    # but show 15 max, otherwise, show less, since these won't be as interesting to operators\n",
    "    df2 = (df[(df.route_group==route_group) &\n",
    "              (df.pct_below_cutoff >= PCT_TRIPS_BELOW_CUTOFF)]\n",
    "           .sort_values([\"calitp_itp_id\", \"below_cutoff\", \n",
    "                         \"pct_below_cutoff\", \"route_id\"],\n",
    "                        ascending = [True, False, False, True]\n",
    "                       )\n",
    "           .drop_duplicates(subset=[\"calitp_itp_id\", \"route_id\"])\n",
    "          ).head(15)\n",
    "    \n",
    "    return list(df2.route_id)"
   ]
  },
  {
   "cell_type": "code",
   "execution_count": 11,
   "id": "cf36d559-3349-4144-8086-8ac9ce937a5a",
   "metadata": {
    "execution": {
     "iopub.execute_input": "2022-05-11T22:42:58.237269Z",
     "iopub.status.busy": "2022-05-11T22:42:58.236621Z",
     "iopub.status.idle": "2022-05-11T22:42:58.242221Z",
     "shell.execute_reply": "2022-05-11T22:42:58.241348Z"
    },
    "jupyter": {
     "source_hidden": true
    },
    "papermill": {
     "duration": 0.023052,
     "end_time": "2022-05-11T22:42:58.244430",
     "exception": false,
     "start_time": "2022-05-11T22:42:58.221378",
     "status": "completed"
    },
    "tags": [
     "remove_input"
    ]
   },
   "outputs": [],
   "source": [
    "def caption_with_cutoff(cutoff):\n",
    "    sentence = (\n",
    "        f\"<br>These are routes that have **at least {int(PCT_TRIPS_BELOW_CUTOFF*100)}% \"\n",
    "        \"of their trips take no more than an \"\n",
    "        f\"additional {cutoff} min** compared to a car \"\n",
    "        \"(up to 15 routes) are shown.\"\n",
    "        \"<br>Within each route group, routes are sorted in descending order \"\n",
    "        \"by % competitive trips and # trips below the additional time cut-off.\"\n",
    "    )\n",
    "    return sentence\n",
    "\n",
    "CAPTIONS_DICT = {\n",
    "    \"short\": caption_with_cutoff(diff_cutoffs['short']),\n",
    "    \"medium\": caption_with_cutoff(diff_cutoffs['medium']),\n",
    "    \"long\": caption_with_cutoff(diff_cutoffs['long']),\n",
    "}"
   ]
  },
  {
   "cell_type": "code",
   "execution_count": 12,
   "id": "e4306d58-6944-47e9-afef-5d5b524c751f",
   "metadata": {
    "execution": {
     "iopub.execute_input": "2022-05-11T22:42:58.272714Z",
     "iopub.status.busy": "2022-05-11T22:42:58.272344Z",
     "iopub.status.idle": "2022-05-11T22:42:58.279649Z",
     "shell.execute_reply": "2022-05-11T22:42:58.279107Z"
    },
    "jupyter": {
     "source_hidden": true
    },
    "papermill": {
     "duration": 0.023893,
     "end_time": "2022-05-11T22:42:58.281311",
     "exception": false,
     "start_time": "2022-05-11T22:42:58.257418",
     "status": "completed"
    },
    "tags": [
     "remove_input"
    ]
   },
   "outputs": [],
   "source": [
    "def setup_charts(df, PCT_COMPETITIVE_THRESHOLD, route_group):\n",
    "    # Set up df for charting (cut-off at some threshold to show most competitive routes)\n",
    "    plot_me = (df[df.pct_trips_competitive > PCT_COMPETITIVE_THRESHOLD]\n",
    "           .drop(columns = \"geometry\")\n",
    "    )\n",
    "    \n",
    "    # Set y-ranges to be the same across route_groups, \n",
    "    # otherwise charts fluctuate too much, even within operator\n",
    "    y_col1 = \"bus_multiplier\"\n",
    "    Y_MIN1, Y_MAX1 = set_yaxis_range(plot_me, y_col1)\n",
    "\n",
    "    y_col2 = \"bus_difference\"\n",
    "    Y_MIN2, Y_MAX2 = set_yaxis_range(plot_me, y_col2)\n",
    "    \n",
    "    # Grab the routes to plot\n",
    "    subset_routes = top15_routes(plot_me, route_group)\n",
    "        \n",
    "    # Display charts\n",
    "    multiplier_chart = parallel_corridors_utils.make_stripplot(\n",
    "        plot_me[plot_me.route_id.isin(subset_routes)], \n",
    "        y_col1, Y_MIN = Y_MIN1, Y_MAX = Y_MAX1\n",
    "    )\n",
    "    \n",
    "    difference_chart = parallel_corridors_utils.make_stripplot(\n",
    "        plot_me[plot_me.route_id.isin(subset_routes)], \n",
    "        y_col2, Y_MIN = Y_MIN2, Y_MAX = Y_MAX2\n",
    "    )\n",
    "    \n",
    "    return subset_routes, multiplier_chart, difference_chart            "
   ]
  },
  {
   "cell_type": "code",
   "execution_count": 13,
   "id": "33a710e8-504c-4942-aa75-ff69f216956e",
   "metadata": {
    "execution": {
     "iopub.execute_input": "2022-05-11T22:42:58.316515Z",
     "iopub.status.busy": "2022-05-11T22:42:58.315681Z",
     "iopub.status.idle": "2022-05-11T22:42:58.321649Z",
     "shell.execute_reply": "2022-05-11T22:42:58.321140Z"
    },
    "jupyter": {
     "source_hidden": true
    },
    "papermill": {
     "duration": 0.022847,
     "end_time": "2022-05-11T22:42:58.323344",
     "exception": false,
     "start_time": "2022-05-11T22:42:58.300497",
     "status": "completed"
    },
    "tags": [
     "remove_input"
    ]
   },
   "outputs": [],
   "source": [
    "def display_charts_for_route_group(df, route_group):    \n",
    "    subset_routes, mult, diff  = setup_charts(df, PCT_COMPETITIVE_THRESHOLD, route_group)\n",
    "\n",
    "    if len(subset_routes) > 0:\n",
    "        display(Markdown(f\"{CAPTIONS_DICT[route_group]}\"))\n",
    "\n",
    "        display(mult)\n",
    "        display(diff)\n",
    "        \n",
    "        # Display route stats for just plotted routes\n",
    "        style_route_stats(route_stats, subset_routes)"
   ]
  },
  {
   "cell_type": "markdown",
   "id": "525f9b38-072b-46d1-96a8-1aa4b038357c",
   "metadata": {
    "papermill": {
     "duration": 0.013545,
     "end_time": "2022-05-11T22:42:58.349916",
     "exception": false,
     "start_time": "2022-05-11T22:42:58.336371",
     "status": "completed"
    },
    "tags": []
   },
   "source": [
    "## Viable Competitive Routes\n",
    "### Short Routes (< 1 hr)"
   ]
  },
  {
   "cell_type": "code",
   "execution_count": 14,
   "id": "57f7084c-2cf7-45c6-ba08-1609e0bd6ca5",
   "metadata": {
    "execution": {
     "iopub.execute_input": "2022-05-11T22:42:58.380563Z",
     "iopub.status.busy": "2022-05-11T22:42:58.380288Z",
     "iopub.status.idle": "2022-05-11T22:42:58.671982Z",
     "shell.execute_reply": "2022-05-11T22:42:58.671091Z"
    },
    "jupyter": {
     "source_hidden": true
    },
    "papermill": {
     "duration": 0.308886,
     "end_time": "2022-05-11T22:42:58.674309",
     "exception": false,
     "start_time": "2022-05-11T22:42:58.365423",
     "status": "completed"
    },
    "tags": [
     "remove_input"
    ]
   },
   "outputs": [
    {
     "data": {
      "text/markdown": [
       "<br>These are routes that have **at least 50% of their trips take no more than an additional 20 min** compared to a car (up to 15 routes) are shown.<br>Within each route group, routes are sorted in descending order by % competitive trips and # trips below the additional time cut-off."
      ],
      "text/plain": [
       "<IPython.core.display.Markdown object>"
      ]
     },
     "metadata": {},
     "output_type": "display_data"
    },
    {
     "data": {
      "text/html": [
       "\n",
       "<div id=\"altair-viz-d62483dab56c4231ac2bb352c4b7be89\"></div>\n",
       "<script type=\"text/javascript\">\n",
       "  var VEGA_DEBUG = (typeof VEGA_DEBUG == \"undefined\") ? {} : VEGA_DEBUG;\n",
       "  (function(spec, embedOpt){\n",
       "    let outputDiv = document.currentScript.previousElementSibling;\n",
       "    if (outputDiv.id !== \"altair-viz-d62483dab56c4231ac2bb352c4b7be89\") {\n",
       "      outputDiv = document.getElementById(\"altair-viz-d62483dab56c4231ac2bb352c4b7be89\");\n",
       "    }\n",
       "    const paths = {\n",
       "      \"vega\": \"https://cdn.jsdelivr.net/npm//vega@5?noext\",\n",
       "      \"vega-lib\": \"https://cdn.jsdelivr.net/npm//vega-lib?noext\",\n",
       "      \"vega-lite\": \"https://cdn.jsdelivr.net/npm//vega-lite@4.17.0?noext\",\n",
       "      \"vega-embed\": \"https://cdn.jsdelivr.net/npm//vega-embed@6?noext\",\n",
       "    };\n",
       "\n",
       "    function maybeLoadScript(lib, version) {\n",
       "      var key = `${lib.replace(\"-\", \"\")}_version`;\n",
       "      return (VEGA_DEBUG[key] == version) ?\n",
       "        Promise.resolve(paths[lib]) :\n",
       "        new Promise(function(resolve, reject) {\n",
       "          var s = document.createElement('script');\n",
       "          document.getElementsByTagName(\"head\")[0].appendChild(s);\n",
       "          s.async = true;\n",
       "          s.onload = () => {\n",
       "            VEGA_DEBUG[key] = version;\n",
       "            return resolve(paths[lib]);\n",
       "          };\n",
       "          s.onerror = () => reject(`Error loading script: ${paths[lib]}`);\n",
       "          s.src = paths[lib];\n",
       "        });\n",
       "    }\n",
       "\n",
       "    function showError(err) {\n",
       "      outputDiv.innerHTML = `<div class=\"error\" style=\"color:red;\">${err}</div>`;\n",
       "      throw err;\n",
       "    }\n",
       "\n",
       "    function displayChart(vegaEmbed) {\n",
       "      vegaEmbed(outputDiv, spec, embedOpt)\n",
       "        .catch(err => showError(`Javascript Error: ${err.message}<br>This usually means there's a typo in your chart specification. See the javascript console for the full traceback.`));\n",
       "    }\n",
       "\n",
       "    if(typeof define === \"function\" && define.amd) {\n",
       "      requirejs.config({paths});\n",
       "      require([\"vega-embed\"], displayChart, err => showError(`Error loading script: ${err.message}`));\n",
       "    } else {\n",
       "      maybeLoadScript(\"vega\", \"5\")\n",
       "        .then(() => maybeLoadScript(\"vega-lite\", \"4.17.0\"))\n",
       "        .then(() => maybeLoadScript(\"vega-embed\", \"6\"))\n",
       "        .catch(showError)\n",
       "        .then(() => displayChart(vegaEmbed));\n",
       "    }\n",
       "  })({\"config\": {\"view\": {\"continuousWidth\": 400, \"continuousHeight\": 300, \"stroke\": null}, \"facet\": {\"spacing\": 0}}, \"data\": {\"name\": \"data-e97c00a9276ac2ef6b4f4635c0ea62c4\"}, \"facet\": {\"column\": {\"field\": \"route_id\", \"sort\": [\"19752\"], \"title\": \"Route ID\", \"type\": \"nominal\"}}, \"spec\": {\"layer\": [{\"mark\": \"rule\", \"encoding\": {\"color\": {\"value\": \"black\"}, \"y\": {\"field\": \"cutoff\", \"type\": \"quantitative\"}}, \"selection\": {\"selector001\": {\"type\": \"interval\", \"bind\": \"scales\", \"encodings\": [\"x\", \"y\"]}}}, {\"mark\": {\"type\": \"point\", \"opacity\": 0.65, \"size\": 12, \"strokeWidth\": 1.1}, \"encoding\": {\"color\": {\"field\": \"time_of_day\", \"scale\": {\"range\": [\"#136C97\", \"#E16B26\", \"#F6BF16\", \"#00896B\", \"#7790A3\", \"#5B559C\"]}, \"sort\": [\"AM Peak\", \"Midday\", \"PM Peak\", \"Owl Service\"], \"title\": \"Time of Day\", \"type\": \"nominal\"}, \"tooltip\": [{\"field\": \"route_id\", \"type\": \"nominal\"}, {\"field\": \"route_name\", \"type\": \"nominal\"}, {\"field\": \"trip_id\", \"type\": \"nominal\"}, {\"field\": \"service_hours\", \"type\": \"quantitative\"}, {\"field\": \"car_duration_hours\", \"type\": \"quantitative\"}, {\"field\": \"bus_multiplier\", \"type\": \"quantitative\"}, {\"field\": \"bus_difference\", \"type\": \"quantitative\"}, {\"field\": \"num_trips\", \"type\": \"quantitative\"}, {\"field\": \"num_competitive\", \"type\": \"quantitative\"}, {\"field\": \"pct_trips_competitive\", \"type\": \"quantitative\"}, {\"field\": \"p25\", \"type\": \"quantitative\"}, {\"field\": \"p50\", \"type\": \"quantitative\"}, {\"field\": \"p75\", \"type\": \"quantitative\"}], \"x\": {\"axis\": {\"grid\": false, \"labels\": false, \"ticks\": true, \"values\": [0]}, \"field\": \"jitter\", \"scale\": {}, \"title\": null, \"type\": \"quantitative\"}, \"y\": {\"field\": \"bus_multiplier\", \"scale\": {\"domain\": [-0.25, 3.0]}, \"title\": \"Ratio of Bus to Car Travel Time\", \"type\": \"quantitative\"}}, \"transform\": [{\"calculate\": \"sqrt(-2*log(random()))*cos(2*PI*random())\", \"as\": \"jitter\"}], \"width\": 50}, {\"layer\": [{\"mark\": {\"type\": \"point\", \"opacity\": 0.6, \"size\": 20, \"strokeWidth\": 1.3}, \"encoding\": {\"color\": {\"value\": \"#323434\"}, \"y\": {\"field\": \"bus_multiplier\", \"type\": \"quantitative\"}}, \"transform\": [{\"filter\": \"(datum.p50_trip === 1)\"}]}, {\"mark\": {\"type\": \"text\", \"align\": \"center\", \"baseline\": \"middle\"}, \"encoding\": {\"color\": {\"value\": \"black\"}, \"text\": {\"field\": \"pct_trips_competitive\", \"format\": \".0%\", \"type\": \"quantitative\"}, \"tooltip\": [{\"field\": \"route_id\", \"type\": \"nominal\"}, {\"field\": \"route_name\", \"type\": \"nominal\"}, {\"field\": \"trip_id\", \"type\": \"nominal\"}, {\"field\": \"service_hours\", \"type\": \"quantitative\"}, {\"field\": \"car_duration_hours\", \"type\": \"quantitative\"}, {\"field\": \"bus_multiplier\", \"type\": \"quantitative\"}, {\"field\": \"bus_difference\", \"type\": \"quantitative\"}, {\"field\": \"num_trips\", \"type\": \"quantitative\"}, {\"field\": \"num_competitive\", \"type\": \"quantitative\"}, {\"field\": \"pct_trips_competitive\", \"type\": \"quantitative\"}, {\"field\": \"p25\", \"type\": \"quantitative\"}, {\"field\": \"p50\", \"type\": \"quantitative\"}, {\"field\": \"p75\", \"type\": \"quantitative\"}], \"x\": {\"value\": 30}, \"y\": {\"value\": 15}}, \"transform\": [{\"calculate\": \"sqrt(-2*log(random()))*cos(2*PI*random())\", \"as\": \"jitter\"}, {\"filter\": \"(datum.fastest_trip === 1)\"}]}]}]}, \"resolve\": {\"scale\": {\"y\": \"shared\"}}, \"title\": \"Ratio of Bus to Car Travel Time\", \"$schema\": \"https://vega.github.io/schema/vega-lite/v4.17.0.json\", \"datasets\": {\"data-e97c00a9276ac2ef6b4f4635c0ea62c4\": [{\"calitp_itp_id\": 154, \"trip_key\": 7806917445833874815, \"trip_id\": \"t_1552661_b_31068_tn_0\", \"shape_id\": \"p_1277986\", \"route_id\": \"19752\", \"service_hours\": 0.4, \"trip_first_departure_ts\": 64800, \"trip_last_arrival_ts\": 66240, \"departure_hour\": 18, \"time_of_day\": \"PM Peak\", \"p25\": 0.45, \"p50\": 0.5, \"p75\": 0.5, \"p50_trip\": 0, \"fastest_trip\": 1, \"car_duration_hours\": 0.3, \"competitive_route\": 1, \"bus_multiplier\": 1.33, \"bus_difference\": 6.0, \"num_trips\": 44, \"num_competitive\": 40, \"pct_trips_competitive\": 0.909, \"bus_difference_spread\": 25.8, \"route_group\": \"short\", \"max_trip_hrs\": 0.83, \"max_trip_route_group\": 0.83, \"below_cutoff\": 41, \"pct_below_cutoff\": 0.9318181818181818, \"name\": \"City of Laguna Beach\", \"caltrans_district\": \"12 - Irvine\", \"drmt_organization_name\": null, \"route_name\": \"Coastal Trolley\", \"cutoff2\": 20, \"cutoff\": 2}, {\"calitp_itp_id\": 154, \"trip_key\": 5712075708841317841, \"trip_id\": \"t_1552640_b_31068_tn_0\", \"shape_id\": \"p_1277984\", \"route_id\": \"19752\", \"service_hours\": 0.43, \"trip_first_departure_ts\": 63240, \"trip_last_arrival_ts\": 64800, \"departure_hour\": 17, \"time_of_day\": \"PM Peak\", \"p25\": 0.45, \"p50\": 0.5, \"p75\": 0.5, \"p50_trip\": 0, \"fastest_trip\": 0, \"car_duration_hours\": 0.3, \"competitive_route\": 1, \"bus_multiplier\": 1.43, \"bus_difference\": 7.8, \"num_trips\": 44, \"num_competitive\": 40, \"pct_trips_competitive\": 0.909, \"bus_difference_spread\": 25.8, \"route_group\": \"short\", \"max_trip_hrs\": 0.83, \"max_trip_route_group\": 0.83, \"below_cutoff\": 41, \"pct_below_cutoff\": 0.9318181818181818, \"name\": \"City of Laguna Beach\", \"caltrans_district\": \"12 - Irvine\", \"drmt_organization_name\": null, \"route_name\": \"Coastal Trolley\", \"cutoff2\": 20, \"cutoff\": 2}, {\"calitp_itp_id\": 154, \"trip_key\": 7686097368330038607, \"trip_id\": \"t_1552655_b_31068_tn_0\", \"shape_id\": \"p_1277982\", \"route_id\": \"19752\", \"service_hours\": 0.45, \"trip_first_departure_ts\": 28800, \"trip_last_arrival_ts\": 30420, \"departure_hour\": 8, \"time_of_day\": \"AM Peak\", \"p25\": 0.45, \"p50\": 0.5, \"p75\": 0.5, \"p50_trip\": 0, \"fastest_trip\": 0, \"car_duration_hours\": 0.3, \"competitive_route\": 1, \"bus_multiplier\": 1.5, \"bus_difference\": 9.0, \"num_trips\": 44, \"num_competitive\": 40, \"pct_trips_competitive\": 0.909, \"bus_difference_spread\": 25.8, \"route_group\": \"short\", \"max_trip_hrs\": 0.83, \"max_trip_route_group\": 0.83, \"below_cutoff\": 41, \"pct_below_cutoff\": 0.9318181818181818, \"name\": \"City of Laguna Beach\", \"caltrans_district\": \"12 - Irvine\", \"drmt_organization_name\": null, \"route_name\": \"Coastal Trolley\", \"cutoff2\": 20, \"cutoff\": 2}, {\"calitp_itp_id\": 154, \"trip_key\": 356393108027905529, \"trip_id\": \"t_1552638_b_31068_tn_0\", \"shape_id\": \"p_1277984\", \"route_id\": \"19752\", \"service_hours\": 0.45, \"trip_first_departure_ts\": 59160, \"trip_last_arrival_ts\": 60780, \"departure_hour\": 16, \"time_of_day\": \"Midday\", \"p25\": 0.45, \"p50\": 0.5, \"p75\": 0.5, \"p50_trip\": 0, \"fastest_trip\": 0, \"car_duration_hours\": 0.3, \"competitive_route\": 1, \"bus_multiplier\": 1.5, \"bus_difference\": 9.0, \"num_trips\": 44, \"num_competitive\": 40, \"pct_trips_competitive\": 0.909, \"bus_difference_spread\": 25.8, \"route_group\": \"short\", \"max_trip_hrs\": 0.83, \"max_trip_route_group\": 0.83, \"below_cutoff\": 41, \"pct_below_cutoff\": 0.9318181818181818, \"name\": \"City of Laguna Beach\", \"caltrans_district\": \"12 - Irvine\", \"drmt_organization_name\": null, \"route_name\": \"Coastal Trolley\", \"cutoff2\": 20, \"cutoff\": 2}, {\"calitp_itp_id\": 154, \"trip_key\": 6782257670480665715, \"trip_id\": \"t_1552643_b_31068_tn_0\", \"shape_id\": \"p_1277984\", \"route_id\": \"19752\", \"service_hours\": 0.45, \"trip_first_departure_ts\": 32400, \"trip_last_arrival_ts\": 34020, \"departure_hour\": 9, \"time_of_day\": \"AM Peak\", \"p25\": 0.45, \"p50\": 0.5, \"p75\": 0.5, \"p50_trip\": 0, \"fastest_trip\": 0, \"car_duration_hours\": 0.3, \"competitive_route\": 1, \"bus_multiplier\": 1.5, \"bus_difference\": 9.0, \"num_trips\": 44, \"num_competitive\": 40, \"pct_trips_competitive\": 0.909, \"bus_difference_spread\": 25.8, \"route_group\": \"short\", \"max_trip_hrs\": 0.83, \"max_trip_route_group\": 0.83, \"below_cutoff\": 41, \"pct_below_cutoff\": 0.9318181818181818, \"name\": \"City of Laguna Beach\", \"caltrans_district\": \"12 - Irvine\", \"drmt_organization_name\": null, \"route_name\": \"Coastal Trolley\", \"cutoff2\": 20, \"cutoff\": 2}, {\"calitp_itp_id\": 154, \"trip_key\": 54815795372127949, \"trip_id\": \"t_1552654_b_31068_tn_0\", \"shape_id\": \"p_1277982\", \"route_id\": \"19752\", \"service_hours\": 0.45, \"trip_first_departure_ts\": 27000, \"trip_last_arrival_ts\": 28620, \"departure_hour\": 7, \"time_of_day\": \"AM Peak\", \"p25\": 0.45, \"p50\": 0.5, \"p75\": 0.5, \"p50_trip\": 0, \"fastest_trip\": 0, \"car_duration_hours\": 0.3, \"competitive_route\": 1, \"bus_multiplier\": 1.5, \"bus_difference\": 9.0, \"num_trips\": 44, \"num_competitive\": 40, \"pct_trips_competitive\": 0.909, \"bus_difference_spread\": 25.8, \"route_group\": \"short\", \"max_trip_hrs\": 0.83, \"max_trip_route_group\": 0.83, \"below_cutoff\": 41, \"pct_below_cutoff\": 0.9318181818181818, \"name\": \"City of Laguna Beach\", \"caltrans_district\": \"12 - Irvine\", \"drmt_organization_name\": null, \"route_name\": \"Coastal Trolley\", \"cutoff2\": 20, \"cutoff\": 2}, {\"calitp_itp_id\": 154, \"trip_key\": -592244683577441027, \"trip_id\": \"t_1552656_b_31068_tn_0\", \"shape_id\": \"p_1277982\", \"route_id\": \"19752\", \"service_hours\": 0.45, \"trip_first_departure_ts\": 23400, \"trip_last_arrival_ts\": 25020, \"departure_hour\": 6, \"time_of_day\": \"Owl Service\", \"p25\": 0.45, \"p50\": 0.5, \"p75\": 0.5, \"p50_trip\": 0, \"fastest_trip\": 0, \"car_duration_hours\": 0.3, \"competitive_route\": 1, \"bus_multiplier\": 1.5, \"bus_difference\": 9.0, \"num_trips\": 44, \"num_competitive\": 40, \"pct_trips_competitive\": 0.909, \"bus_difference_spread\": 25.8, \"route_group\": \"short\", \"max_trip_hrs\": 0.83, \"max_trip_route_group\": 0.83, \"below_cutoff\": 41, \"pct_below_cutoff\": 0.9318181818181818, \"name\": \"City of Laguna Beach\", \"caltrans_district\": \"12 - Irvine\", \"drmt_organization_name\": null, \"route_name\": \"Coastal Trolley\", \"cutoff2\": 20, \"cutoff\": 2}, {\"calitp_itp_id\": 154, \"trip_key\": -8203847068274567800, \"trip_id\": \"t_1552636_b_31068_tn_0\", \"shape_id\": \"p_1277982\", \"route_id\": \"19752\", \"service_hours\": 0.45, \"trip_first_departure_ts\": 56640, \"trip_last_arrival_ts\": 58260, \"departure_hour\": 15, \"time_of_day\": \"Midday\", \"p25\": 0.45, \"p50\": 0.5, \"p75\": 0.5, \"p50_trip\": 0, \"fastest_trip\": 0, \"car_duration_hours\": 0.3, \"competitive_route\": 1, \"bus_multiplier\": 1.5, \"bus_difference\": 9.0, \"num_trips\": 44, \"num_competitive\": 40, \"pct_trips_competitive\": 0.909, \"bus_difference_spread\": 25.8, \"route_group\": \"short\", \"max_trip_hrs\": 0.83, \"max_trip_route_group\": 0.83, \"below_cutoff\": 41, \"pct_below_cutoff\": 0.9318181818181818, \"name\": \"City of Laguna Beach\", \"caltrans_district\": \"12 - Irvine\", \"drmt_organization_name\": null, \"route_name\": \"Coastal Trolley\", \"cutoff2\": 20, \"cutoff\": 2}, {\"calitp_itp_id\": 154, \"trip_key\": 5704097460175481058, \"trip_id\": \"t_1552649_b_31068_tn_0\", \"shape_id\": \"p_1277984\", \"route_id\": \"19752\", \"service_hours\": 0.45, \"trip_first_departure_ts\": 43200, \"trip_last_arrival_ts\": 44820, \"departure_hour\": 12, \"time_of_day\": \"Midday\", \"p25\": 0.45, \"p50\": 0.5, \"p75\": 0.5, \"p50_trip\": 0, \"fastest_trip\": 0, \"car_duration_hours\": 0.3, \"competitive_route\": 1, \"bus_multiplier\": 1.5, \"bus_difference\": 9.0, \"num_trips\": 44, \"num_competitive\": 40, \"pct_trips_competitive\": 0.909, \"bus_difference_spread\": 25.8, \"route_group\": \"short\", \"max_trip_hrs\": 0.83, \"max_trip_route_group\": 0.83, \"below_cutoff\": 41, \"pct_below_cutoff\": 0.9318181818181818, \"name\": \"City of Laguna Beach\", \"caltrans_district\": \"12 - Irvine\", \"drmt_organization_name\": null, \"route_name\": \"Coastal Trolley\", \"cutoff2\": 20, \"cutoff\": 2}, {\"calitp_itp_id\": 154, \"trip_key\": -3930039889659231609, \"trip_id\": \"t_1552646_b_31068_tn_0\", \"shape_id\": \"p_1277984\", \"route_id\": \"19752\", \"service_hours\": 0.45, \"trip_first_departure_ts\": 37800, \"trip_last_arrival_ts\": 39420, \"departure_hour\": 10, \"time_of_day\": \"Midday\", \"p25\": 0.45, \"p50\": 0.5, \"p75\": 0.5, \"p50_trip\": 0, \"fastest_trip\": 0, \"car_duration_hours\": 0.3, \"competitive_route\": 1, \"bus_multiplier\": 1.5, \"bus_difference\": 9.0, \"num_trips\": 44, \"num_competitive\": 40, \"pct_trips_competitive\": 0.909, \"bus_difference_spread\": 25.8, \"route_group\": \"short\", \"max_trip_hrs\": 0.83, \"max_trip_route_group\": 0.83, \"below_cutoff\": 41, \"pct_below_cutoff\": 0.9318181818181818, \"name\": \"City of Laguna Beach\", \"caltrans_district\": \"12 - Irvine\", \"drmt_organization_name\": null, \"route_name\": \"Coastal Trolley\", \"cutoff2\": 20, \"cutoff\": 2}, {\"calitp_itp_id\": 154, \"trip_key\": 1891569025779206796, \"trip_id\": \"t_1552650_b_31068_tn_0\", \"shape_id\": \"p_1277984\", \"route_id\": \"19752\", \"service_hours\": 0.45, \"trip_first_departure_ts\": 45000, \"trip_last_arrival_ts\": 46620, \"departure_hour\": 12, \"time_of_day\": \"Midday\", \"p25\": 0.45, \"p50\": 0.5, \"p75\": 0.5, \"p50_trip\": 0, \"fastest_trip\": 0, \"car_duration_hours\": 0.3, \"competitive_route\": 1, \"bus_multiplier\": 1.5, \"bus_difference\": 9.0, \"num_trips\": 44, \"num_competitive\": 40, \"pct_trips_competitive\": 0.909, \"bus_difference_spread\": 25.8, \"route_group\": \"short\", \"max_trip_hrs\": 0.83, \"max_trip_route_group\": 0.83, \"below_cutoff\": 41, \"pct_below_cutoff\": 0.9318181818181818, \"name\": \"City of Laguna Beach\", \"caltrans_district\": \"12 - Irvine\", \"drmt_organization_name\": null, \"route_name\": \"Coastal Trolley\", \"cutoff2\": 20, \"cutoff\": 2}, {\"calitp_itp_id\": 154, \"trip_key\": 702541903140554760, \"trip_id\": \"t_1552653_b_31068_tn_0\", \"shape_id\": \"p_1277982\", \"route_id\": \"19752\", \"service_hours\": 0.45, \"trip_first_departure_ts\": 25200, \"trip_last_arrival_ts\": 26820, \"departure_hour\": 7, \"time_of_day\": \"AM Peak\", \"p25\": 0.45, \"p50\": 0.5, \"p75\": 0.5, \"p50_trip\": 0, \"fastest_trip\": 0, \"car_duration_hours\": 0.3, \"competitive_route\": 1, \"bus_multiplier\": 1.5, \"bus_difference\": 9.0, \"num_trips\": 44, \"num_competitive\": 40, \"pct_trips_competitive\": 0.909, \"bus_difference_spread\": 25.8, \"route_group\": \"short\", \"max_trip_hrs\": 0.83, \"max_trip_route_group\": 0.83, \"below_cutoff\": 41, \"pct_below_cutoff\": 0.9318181818181818, \"name\": \"City of Laguna Beach\", \"caltrans_district\": \"12 - Irvine\", \"drmt_organization_name\": null, \"route_name\": \"Coastal Trolley\", \"cutoff2\": 20, \"cutoff\": 2}, {\"calitp_itp_id\": 154, \"trip_key\": -68836863474557720, \"trip_id\": \"t_1552651_b_31068_tn_0\", \"shape_id\": \"p_1277984\", \"route_id\": \"19752\", \"service_hours\": 0.45, \"trip_first_departure_ts\": 46800, \"trip_last_arrival_ts\": 48420, \"departure_hour\": 13, \"time_of_day\": \"Midday\", \"p25\": 0.45, \"p50\": 0.5, \"p75\": 0.5, \"p50_trip\": 0, \"fastest_trip\": 0, \"car_duration_hours\": 0.3, \"competitive_route\": 1, \"bus_multiplier\": 1.5, \"bus_difference\": 9.0, \"num_trips\": 44, \"num_competitive\": 40, \"pct_trips_competitive\": 0.909, \"bus_difference_spread\": 25.8, \"route_group\": \"short\", \"max_trip_hrs\": 0.83, \"max_trip_route_group\": 0.83, \"below_cutoff\": 41, \"pct_below_cutoff\": 0.9318181818181818, \"name\": \"City of Laguna Beach\", \"caltrans_district\": \"12 - Irvine\", \"drmt_organization_name\": null, \"route_name\": \"Coastal Trolley\", \"cutoff2\": 20, \"cutoff\": 2}, {\"calitp_itp_id\": 154, \"trip_key\": -4585732728316578712, \"trip_id\": \"t_1552644_b_31068_tn_0\", \"shape_id\": \"p_1277984\", \"route_id\": \"19752\", \"service_hours\": 0.45, \"trip_first_departure_ts\": 34200, \"trip_last_arrival_ts\": 35820, \"departure_hour\": 9, \"time_of_day\": \"AM Peak\", \"p25\": 0.45, \"p50\": 0.5, \"p75\": 0.5, \"p50_trip\": 0, \"fastest_trip\": 0, \"car_duration_hours\": 0.3, \"competitive_route\": 1, \"bus_multiplier\": 1.5, \"bus_difference\": 9.0, \"num_trips\": 44, \"num_competitive\": 40, \"pct_trips_competitive\": 0.909, \"bus_difference_spread\": 25.8, \"route_group\": \"short\", \"max_trip_hrs\": 0.83, \"max_trip_route_group\": 0.83, \"below_cutoff\": 41, \"pct_below_cutoff\": 0.9318181818181818, \"name\": \"City of Laguna Beach\", \"caltrans_district\": \"12 - Irvine\", \"drmt_organization_name\": null, \"route_name\": \"Coastal Trolley\", \"cutoff2\": 20, \"cutoff\": 2}, {\"calitp_itp_id\": 154, \"trip_key\": -8910633763075763058, \"trip_id\": \"t_1552641_b_31068_tn_0\", \"shape_id\": \"p_1277984\", \"route_id\": \"19752\", \"service_hours\": 0.45, \"trip_first_departure_ts\": 64800, \"trip_last_arrival_ts\": 66420, \"departure_hour\": 18, \"time_of_day\": \"PM Peak\", \"p25\": 0.45, \"p50\": 0.5, \"p75\": 0.5, \"p50_trip\": 0, \"fastest_trip\": 0, \"car_duration_hours\": 0.3, \"competitive_route\": 1, \"bus_multiplier\": 1.5, \"bus_difference\": 9.0, \"num_trips\": 44, \"num_competitive\": 40, \"pct_trips_competitive\": 0.909, \"bus_difference_spread\": 25.8, \"route_group\": \"short\", \"max_trip_hrs\": 0.83, \"max_trip_route_group\": 0.83, \"below_cutoff\": 41, \"pct_below_cutoff\": 0.9318181818181818, \"name\": \"City of Laguna Beach\", \"caltrans_district\": \"12 - Irvine\", \"drmt_organization_name\": null, \"route_name\": \"Coastal Trolley\", \"cutoff2\": 20, \"cutoff\": 2}, {\"calitp_itp_id\": 154, \"trip_key\": -382299546131518929, \"trip_id\": \"t_1552648_b_31068_tn_0\", \"shape_id\": \"p_1277984\", \"route_id\": \"19752\", \"service_hours\": 0.45, \"trip_first_departure_ts\": 41400, \"trip_last_arrival_ts\": 43020, \"departure_hour\": 11, \"time_of_day\": \"Midday\", \"p25\": 0.45, \"p50\": 0.5, \"p75\": 0.5, \"p50_trip\": 0, \"fastest_trip\": 0, \"car_duration_hours\": 0.3, \"competitive_route\": 1, \"bus_multiplier\": 1.5, \"bus_difference\": 9.0, \"num_trips\": 44, \"num_competitive\": 40, \"pct_trips_competitive\": 0.909, \"bus_difference_spread\": 25.8, \"route_group\": \"short\", \"max_trip_hrs\": 0.83, \"max_trip_route_group\": 0.83, \"below_cutoff\": 41, \"pct_below_cutoff\": 0.9318181818181818, \"name\": \"City of Laguna Beach\", \"caltrans_district\": \"12 - Irvine\", \"drmt_organization_name\": null, \"route_name\": \"Coastal Trolley\", \"cutoff2\": 20, \"cutoff\": 2}, {\"calitp_itp_id\": 154, \"trip_key\": -3723945693936646698, \"trip_id\": \"t_1552639_b_31068_tn_0\", \"shape_id\": \"p_1277984\", \"route_id\": \"19752\", \"service_hours\": 0.45, \"trip_first_departure_ts\": 60900, \"trip_last_arrival_ts\": 62520, \"departure_hour\": 16, \"time_of_day\": \"Midday\", \"p25\": 0.45, \"p50\": 0.5, \"p75\": 0.5, \"p50_trip\": 0, \"fastest_trip\": 0, \"car_duration_hours\": 0.3, \"competitive_route\": 1, \"bus_multiplier\": 1.5, \"bus_difference\": 9.0, \"num_trips\": 44, \"num_competitive\": 40, \"pct_trips_competitive\": 0.909, \"bus_difference_spread\": 25.8, \"route_group\": \"short\", \"max_trip_hrs\": 0.83, \"max_trip_route_group\": 0.83, \"below_cutoff\": 41, \"pct_below_cutoff\": 0.9318181818181818, \"name\": \"City of Laguna Beach\", \"caltrans_district\": \"12 - Irvine\", \"drmt_organization_name\": null, \"route_name\": \"Coastal Trolley\", \"cutoff2\": 20, \"cutoff\": 2}, {\"calitp_itp_id\": 154, \"trip_key\": 8566596254515144504, \"trip_id\": \"t_1552645_b_31068_tn_0\", \"shape_id\": \"p_1277984\", \"route_id\": \"19752\", \"service_hours\": 0.45, \"trip_first_departure_ts\": 36000, \"trip_last_arrival_ts\": 37620, \"departure_hour\": 10, \"time_of_day\": \"Midday\", \"p25\": 0.45, \"p50\": 0.5, \"p75\": 0.5, \"p50_trip\": 0, \"fastest_trip\": 0, \"car_duration_hours\": 0.3, \"competitive_route\": 1, \"bus_multiplier\": 1.5, \"bus_difference\": 9.0, \"num_trips\": 44, \"num_competitive\": 40, \"pct_trips_competitive\": 0.909, \"bus_difference_spread\": 25.8, \"route_group\": \"short\", \"max_trip_hrs\": 0.83, \"max_trip_route_group\": 0.83, \"below_cutoff\": 41, \"pct_below_cutoff\": 0.9318181818181818, \"name\": \"City of Laguna Beach\", \"caltrans_district\": \"12 - Irvine\", \"drmt_organization_name\": null, \"route_name\": \"Coastal Trolley\", \"cutoff2\": 20, \"cutoff\": 2}, {\"calitp_itp_id\": 154, \"trip_key\": 2508702419336091291, \"trip_id\": \"t_1552660_b_31068_tn_0\", \"shape_id\": \"p_1277985\", \"route_id\": \"19752\", \"service_hours\": 0.45, \"trip_first_departure_ts\": 63120, \"trip_last_arrival_ts\": 64740, \"departure_hour\": 17, \"time_of_day\": \"PM Peak\", \"p25\": 0.45, \"p50\": 0.5, \"p75\": 0.5, \"p50_trip\": 0, \"fastest_trip\": 0, \"car_duration_hours\": 0.3, \"competitive_route\": 1, \"bus_multiplier\": 1.5, \"bus_difference\": 9.0, \"num_trips\": 44, \"num_competitive\": 40, \"pct_trips_competitive\": 0.909, \"bus_difference_spread\": 25.8, \"route_group\": \"short\", \"max_trip_hrs\": 0.83, \"max_trip_route_group\": 0.83, \"below_cutoff\": 41, \"pct_below_cutoff\": 0.9318181818181818, \"name\": \"City of Laguna Beach\", \"caltrans_district\": \"12 - Irvine\", \"drmt_organization_name\": null, \"route_name\": \"Coastal Trolley\", \"cutoff2\": 20, \"cutoff\": 2}, {\"calitp_itp_id\": 154, \"trip_key\": -5761262999504390889, \"trip_id\": \"t_1552647_b_31068_tn_0\", \"shape_id\": \"p_1277984\", \"route_id\": \"19752\", \"service_hours\": 0.45, \"trip_first_departure_ts\": 39600, \"trip_last_arrival_ts\": 41220, \"departure_hour\": 11, \"time_of_day\": \"Midday\", \"p25\": 0.45, \"p50\": 0.5, \"p75\": 0.5, \"p50_trip\": 0, \"fastest_trip\": 0, \"car_duration_hours\": 0.3, \"competitive_route\": 1, \"bus_multiplier\": 1.5, \"bus_difference\": 9.0, \"num_trips\": 44, \"num_competitive\": 40, \"pct_trips_competitive\": 0.909, \"bus_difference_spread\": 25.8, \"route_group\": \"short\", \"max_trip_hrs\": 0.83, \"max_trip_route_group\": 0.83, \"below_cutoff\": 41, \"pct_below_cutoff\": 0.9318181818181818, \"name\": \"City of Laguna Beach\", \"caltrans_district\": \"12 - Irvine\", \"drmt_organization_name\": null, \"route_name\": \"Coastal Trolley\", \"cutoff2\": 20, \"cutoff\": 2}, {\"calitp_itp_id\": 154, \"trip_key\": -7737943859703794620, \"trip_id\": \"t_1552642_b_31068_tn_0\", \"shape_id\": \"p_1277984\", \"route_id\": \"19752\", \"service_hours\": 0.45, \"trip_first_departure_ts\": 30600, \"trip_last_arrival_ts\": 32220, \"departure_hour\": 8, \"time_of_day\": \"AM Peak\", \"p25\": 0.45, \"p50\": 0.5, \"p75\": 0.5, \"p50_trip\": 0, \"fastest_trip\": 0, \"car_duration_hours\": 0.3, \"competitive_route\": 1, \"bus_multiplier\": 1.5, \"bus_difference\": 9.0, \"num_trips\": 44, \"num_competitive\": 40, \"pct_trips_competitive\": 0.909, \"bus_difference_spread\": 25.8, \"route_group\": \"short\", \"max_trip_hrs\": 0.83, \"max_trip_route_group\": 0.83, \"below_cutoff\": 41, \"pct_below_cutoff\": 0.9318181818181818, \"name\": \"City of Laguna Beach\", \"caltrans_district\": \"12 - Irvine\", \"drmt_organization_name\": null, \"route_name\": \"Coastal Trolley\", \"cutoff2\": 20, \"cutoff\": 2}, {\"calitp_itp_id\": 154, \"trip_key\": 2477270831404681291, \"trip_id\": \"t_1552668_b_31068_tn_0\", \"shape_id\": \"p_1277985\", \"route_id\": \"19752\", \"service_hours\": 0.5, \"trip_first_departure_ts\": 34200, \"trip_last_arrival_ts\": 36000, \"departure_hour\": 9, \"time_of_day\": \"AM Peak\", \"p25\": 0.45, \"p50\": 0.5, \"p75\": 0.5, \"p50_trip\": 1, \"fastest_trip\": 0, \"car_duration_hours\": 0.3, \"competitive_route\": 1, \"bus_multiplier\": 1.67, \"bus_difference\": 12.0, \"num_trips\": 44, \"num_competitive\": 40, \"pct_trips_competitive\": 0.909, \"bus_difference_spread\": 25.8, \"route_group\": \"short\", \"max_trip_hrs\": 0.83, \"max_trip_route_group\": 0.83, \"below_cutoff\": 41, \"pct_below_cutoff\": 0.9318181818181818, \"name\": \"City of Laguna Beach\", \"caltrans_district\": \"12 - Irvine\", \"drmt_organization_name\": null, \"route_name\": \"Coastal Trolley\", \"cutoff2\": 20, \"cutoff\": 2}, {\"calitp_itp_id\": 154, \"trip_key\": 2445294422278915480, \"trip_id\": \"t_1552678_b_31068_tn_0\", \"shape_id\": \"p_1277983\", \"route_id\": \"19752\", \"service_hours\": 0.5, \"trip_first_departure_ts\": 27000, \"trip_last_arrival_ts\": 28800, \"departure_hour\": 7, \"time_of_day\": \"AM Peak\", \"p25\": 0.45, \"p50\": 0.5, \"p75\": 0.5, \"p50_trip\": 1, \"fastest_trip\": 0, \"car_duration_hours\": 0.3, \"competitive_route\": 1, \"bus_multiplier\": 1.67, \"bus_difference\": 12.0, \"num_trips\": 44, \"num_competitive\": 40, \"pct_trips_competitive\": 0.909, \"bus_difference_spread\": 25.8, \"route_group\": \"short\", \"max_trip_hrs\": 0.83, \"max_trip_route_group\": 0.83, \"below_cutoff\": 41, \"pct_below_cutoff\": 0.9318181818181818, \"name\": \"City of Laguna Beach\", \"caltrans_district\": \"12 - Irvine\", \"drmt_organization_name\": null, \"route_name\": \"Coastal Trolley\", \"cutoff2\": 20, \"cutoff\": 2}, {\"calitp_itp_id\": 154, \"trip_key\": 5014393651217782729, \"trip_id\": \"t_1552674_b_31068_tn_0\", \"shape_id\": \"p_1277985\", \"route_id\": \"19752\", \"service_hours\": 0.5, \"trip_first_departure_ts\": 45000, \"trip_last_arrival_ts\": 46800, \"departure_hour\": 12, \"time_of_day\": \"Midday\", \"p25\": 0.45, \"p50\": 0.5, \"p75\": 0.5, \"p50_trip\": 1, \"fastest_trip\": 0, \"car_duration_hours\": 0.3, \"competitive_route\": 1, \"bus_multiplier\": 1.67, \"bus_difference\": 12.0, \"num_trips\": 44, \"num_competitive\": 40, \"pct_trips_competitive\": 0.909, \"bus_difference_spread\": 25.8, \"route_group\": \"short\", \"max_trip_hrs\": 0.83, \"max_trip_route_group\": 0.83, \"below_cutoff\": 41, \"pct_below_cutoff\": 0.9318181818181818, \"name\": \"City of Laguna Beach\", \"caltrans_district\": \"12 - Irvine\", \"drmt_organization_name\": null, \"route_name\": \"Coastal Trolley\", \"cutoff2\": 20, \"cutoff\": 2}, {\"calitp_itp_id\": 154, \"trip_key\": 317096867958488262, \"trip_id\": \"t_1552672_b_31068_tn_0\", \"shape_id\": \"p_1277985\", \"route_id\": \"19752\", \"service_hours\": 0.5, \"trip_first_departure_ts\": 41400, \"trip_last_arrival_ts\": 43200, \"departure_hour\": 11, \"time_of_day\": \"Midday\", \"p25\": 0.45, \"p50\": 0.5, \"p75\": 0.5, \"p50_trip\": 1, \"fastest_trip\": 0, \"car_duration_hours\": 0.3, \"competitive_route\": 1, \"bus_multiplier\": 1.67, \"bus_difference\": 12.0, \"num_trips\": 44, \"num_competitive\": 40, \"pct_trips_competitive\": 0.909, \"bus_difference_spread\": 25.8, \"route_group\": \"short\", \"max_trip_hrs\": 0.83, \"max_trip_route_group\": 0.83, \"below_cutoff\": 41, \"pct_below_cutoff\": 0.9318181818181818, \"name\": \"City of Laguna Beach\", \"caltrans_district\": \"12 - Irvine\", \"drmt_organization_name\": null, \"route_name\": \"Coastal Trolley\", \"cutoff2\": 20, \"cutoff\": 2}, {\"calitp_itp_id\": 154, \"trip_key\": 3341475223252556294, \"trip_id\": \"t_1552666_b_31068_tn_0\", \"shape_id\": \"p_1277985\", \"route_id\": \"19752\", \"service_hours\": 0.5, \"trip_first_departure_ts\": 30600, \"trip_last_arrival_ts\": 32400, \"departure_hour\": 8, \"time_of_day\": \"AM Peak\", \"p25\": 0.45, \"p50\": 0.5, \"p75\": 0.5, \"p50_trip\": 1, \"fastest_trip\": 0, \"car_duration_hours\": 0.3, \"competitive_route\": 1, \"bus_multiplier\": 1.67, \"bus_difference\": 12.0, \"num_trips\": 44, \"num_competitive\": 40, \"pct_trips_competitive\": 0.909, \"bus_difference_spread\": 25.8, \"route_group\": \"short\", \"max_trip_hrs\": 0.83, \"max_trip_route_group\": 0.83, \"below_cutoff\": 41, \"pct_below_cutoff\": 0.9318181818181818, \"name\": \"City of Laguna Beach\", \"caltrans_district\": \"12 - Irvine\", \"drmt_organization_name\": null, \"route_name\": \"Coastal Trolley\", \"cutoff2\": 20, \"cutoff\": 2}, {\"calitp_itp_id\": 154, \"trip_key\": 1052966296350476782, \"trip_id\": \"t_1552667_b_31068_tn_0\", \"shape_id\": \"p_1277985\", \"route_id\": \"19752\", \"service_hours\": 0.5, \"trip_first_departure_ts\": 32400, \"trip_last_arrival_ts\": 34200, \"departure_hour\": 9, \"time_of_day\": \"AM Peak\", \"p25\": 0.45, \"p50\": 0.5, \"p75\": 0.5, \"p50_trip\": 1, \"fastest_trip\": 0, \"car_duration_hours\": 0.3, \"competitive_route\": 1, \"bus_multiplier\": 1.67, \"bus_difference\": 12.0, \"num_trips\": 44, \"num_competitive\": 40, \"pct_trips_competitive\": 0.909, \"bus_difference_spread\": 25.8, \"route_group\": \"short\", \"max_trip_hrs\": 0.83, \"max_trip_route_group\": 0.83, \"below_cutoff\": 41, \"pct_below_cutoff\": 0.9318181818181818, \"name\": \"City of Laguna Beach\", \"caltrans_district\": \"12 - Irvine\", \"drmt_organization_name\": null, \"route_name\": \"Coastal Trolley\", \"cutoff2\": 20, \"cutoff\": 2}, {\"calitp_itp_id\": 154, \"trip_key\": -8770540301684811477, \"trip_id\": \"t_1552670_b_31068_tn_0\", \"shape_id\": \"p_1277985\", \"route_id\": \"19752\", \"service_hours\": 0.5, \"trip_first_departure_ts\": 37800, \"trip_last_arrival_ts\": 39600, \"departure_hour\": 10, \"time_of_day\": \"Midday\", \"p25\": 0.45, \"p50\": 0.5, \"p75\": 0.5, \"p50_trip\": 1, \"fastest_trip\": 0, \"car_duration_hours\": 0.3, \"competitive_route\": 1, \"bus_multiplier\": 1.67, \"bus_difference\": 12.0, \"num_trips\": 44, \"num_competitive\": 40, \"pct_trips_competitive\": 0.909, \"bus_difference_spread\": 25.8, \"route_group\": \"short\", \"max_trip_hrs\": 0.83, \"max_trip_route_group\": 0.83, \"below_cutoff\": 41, \"pct_below_cutoff\": 0.9318181818181818, \"name\": \"City of Laguna Beach\", \"caltrans_district\": \"12 - Irvine\", \"drmt_organization_name\": null, \"route_name\": \"Coastal Trolley\", \"cutoff2\": 20, \"cutoff\": 2}, {\"calitp_itp_id\": 154, \"trip_key\": -1044523680580980912, \"trip_id\": \"t_1552676_b_31068_tn_0\", \"shape_id\": \"p_1277983\", \"route_id\": \"19752\", \"service_hours\": 0.5, \"trip_first_departure_ts\": 23400, \"trip_last_arrival_ts\": 25200, \"departure_hour\": 6, \"time_of_day\": \"Owl Service\", \"p25\": 0.45, \"p50\": 0.5, \"p75\": 0.5, \"p50_trip\": 1, \"fastest_trip\": 0, \"car_duration_hours\": 0.3, \"competitive_route\": 1, \"bus_multiplier\": 1.67, \"bus_difference\": 12.0, \"num_trips\": 44, \"num_competitive\": 40, \"pct_trips_competitive\": 0.909, \"bus_difference_spread\": 25.8, \"route_group\": \"short\", \"max_trip_hrs\": 0.83, \"max_trip_route_group\": 0.83, \"below_cutoff\": 41, \"pct_below_cutoff\": 0.9318181818181818, \"name\": \"City of Laguna Beach\", \"caltrans_district\": \"12 - Irvine\", \"drmt_organization_name\": null, \"route_name\": \"Coastal Trolley\", \"cutoff2\": 20, \"cutoff\": 2}, {\"calitp_itp_id\": 154, \"trip_key\": 7802444516255894346, \"trip_id\": \"t_1552673_b_31068_tn_0\", \"shape_id\": \"p_1277985\", \"route_id\": \"19752\", \"service_hours\": 0.5, \"trip_first_departure_ts\": 43200, \"trip_last_arrival_ts\": 45000, \"departure_hour\": 12, \"time_of_day\": \"Midday\", \"p25\": 0.45, \"p50\": 0.5, \"p75\": 0.5, \"p50_trip\": 1, \"fastest_trip\": 0, \"car_duration_hours\": 0.3, \"competitive_route\": 1, \"bus_multiplier\": 1.67, \"bus_difference\": 12.0, \"num_trips\": 44, \"num_competitive\": 40, \"pct_trips_competitive\": 0.909, \"bus_difference_spread\": 25.8, \"route_group\": \"short\", \"max_trip_hrs\": 0.83, \"max_trip_route_group\": 0.83, \"below_cutoff\": 41, \"pct_below_cutoff\": 0.9318181818181818, \"name\": \"City of Laguna Beach\", \"caltrans_district\": \"12 - Irvine\", \"drmt_organization_name\": null, \"route_name\": \"Coastal Trolley\", \"cutoff2\": 20, \"cutoff\": 2}, {\"calitp_itp_id\": 154, \"trip_key\": -1317475292178949811, \"trip_id\": \"t_1552679_b_31068_tn_0\", \"shape_id\": \"p_1277983\", \"route_id\": \"19752\", \"service_hours\": 0.5, \"trip_first_departure_ts\": 28800, \"trip_last_arrival_ts\": 30600, \"departure_hour\": 8, \"time_of_day\": \"AM Peak\", \"p25\": 0.45, \"p50\": 0.5, \"p75\": 0.5, \"p50_trip\": 1, \"fastest_trip\": 0, \"car_duration_hours\": 0.3, \"competitive_route\": 1, \"bus_multiplier\": 1.67, \"bus_difference\": 12.0, \"num_trips\": 44, \"num_competitive\": 40, \"pct_trips_competitive\": 0.909, \"bus_difference_spread\": 25.8, \"route_group\": \"short\", \"max_trip_hrs\": 0.83, \"max_trip_route_group\": 0.83, \"below_cutoff\": 41, \"pct_below_cutoff\": 0.9318181818181818, \"name\": \"City of Laguna Beach\", \"caltrans_district\": \"12 - Irvine\", \"drmt_organization_name\": null, \"route_name\": \"Coastal Trolley\", \"cutoff2\": 20, \"cutoff\": 2}, {\"calitp_itp_id\": 154, \"trip_key\": 838935979221253846, \"trip_id\": \"t_1552677_b_31068_tn_0\", \"shape_id\": \"p_1277983\", \"route_id\": \"19752\", \"service_hours\": 0.5, \"trip_first_departure_ts\": 25200, \"trip_last_arrival_ts\": 27000, \"departure_hour\": 7, \"time_of_day\": \"AM Peak\", \"p25\": 0.45, \"p50\": 0.5, \"p75\": 0.5, \"p50_trip\": 1, \"fastest_trip\": 0, \"car_duration_hours\": 0.3, \"competitive_route\": 1, \"bus_multiplier\": 1.67, \"bus_difference\": 12.0, \"num_trips\": 44, \"num_competitive\": 40, \"pct_trips_competitive\": 0.909, \"bus_difference_spread\": 25.8, \"route_group\": \"short\", \"max_trip_hrs\": 0.83, \"max_trip_route_group\": 0.83, \"below_cutoff\": 41, \"pct_below_cutoff\": 0.9318181818181818, \"name\": \"City of Laguna Beach\", \"caltrans_district\": \"12 - Irvine\", \"drmt_organization_name\": null, \"route_name\": \"Coastal Trolley\", \"cutoff2\": 20, \"cutoff\": 2}, {\"calitp_itp_id\": 154, \"trip_key\": -3889357870153534961, \"trip_id\": \"t_1552671_b_31068_tn_0\", \"shape_id\": \"p_1277985\", \"route_id\": \"19752\", \"service_hours\": 0.5, \"trip_first_departure_ts\": 39600, \"trip_last_arrival_ts\": 41400, \"departure_hour\": 11, \"time_of_day\": \"Midday\", \"p25\": 0.45, \"p50\": 0.5, \"p75\": 0.5, \"p50_trip\": 1, \"fastest_trip\": 0, \"car_duration_hours\": 0.3, \"competitive_route\": 1, \"bus_multiplier\": 1.67, \"bus_difference\": 12.0, \"num_trips\": 44, \"num_competitive\": 40, \"pct_trips_competitive\": 0.909, \"bus_difference_spread\": 25.8, \"route_group\": \"short\", \"max_trip_hrs\": 0.83, \"max_trip_route_group\": 0.83, \"below_cutoff\": 41, \"pct_below_cutoff\": 0.9318181818181818, \"name\": \"City of Laguna Beach\", \"caltrans_district\": \"12 - Irvine\", \"drmt_organization_name\": null, \"route_name\": \"Coastal Trolley\", \"cutoff2\": 20, \"cutoff\": 2}, {\"calitp_itp_id\": 154, \"trip_key\": -891820795995715827, \"trip_id\": \"t_1552669_b_31068_tn_0\", \"shape_id\": \"p_1277985\", \"route_id\": \"19752\", \"service_hours\": 0.5, \"trip_first_departure_ts\": 36000, \"trip_last_arrival_ts\": 37800, \"departure_hour\": 10, \"time_of_day\": \"Midday\", \"p25\": 0.45, \"p50\": 0.5, \"p75\": 0.5, \"p50_trip\": 1, \"fastest_trip\": 0, \"car_duration_hours\": 0.3, \"competitive_route\": 1, \"bus_multiplier\": 1.67, \"bus_difference\": 12.0, \"num_trips\": 44, \"num_competitive\": 40, \"pct_trips_competitive\": 0.909, \"bus_difference_spread\": 25.8, \"route_group\": \"short\", \"max_trip_hrs\": 0.83, \"max_trip_route_group\": 0.83, \"below_cutoff\": 41, \"pct_below_cutoff\": 0.9318181818181818, \"name\": \"City of Laguna Beach\", \"caltrans_district\": \"12 - Irvine\", \"drmt_organization_name\": null, \"route_name\": \"Coastal Trolley\", \"cutoff2\": 20, \"cutoff\": 2}, {\"calitp_itp_id\": 154, \"trip_key\": -5287202720190875236, \"trip_id\": \"t_1552635_b_31068_tn_0\", \"shape_id\": \"p_1277982\", \"route_id\": \"19752\", \"service_hours\": 0.53, \"trip_first_departure_ts\": 54600, \"trip_last_arrival_ts\": 56520, \"departure_hour\": 15, \"time_of_day\": \"Midday\", \"p25\": 0.45, \"p50\": 0.5, \"p75\": 0.5, \"p50_trip\": 0, \"fastest_trip\": 0, \"car_duration_hours\": 0.3, \"competitive_route\": 1, \"bus_multiplier\": 1.77, \"bus_difference\": 13.8, \"num_trips\": 44, \"num_competitive\": 40, \"pct_trips_competitive\": 0.909, \"bus_difference_spread\": 25.8, \"route_group\": \"short\", \"max_trip_hrs\": 0.83, \"max_trip_route_group\": 0.83, \"below_cutoff\": 41, \"pct_below_cutoff\": 0.9318181818181818, \"name\": \"City of Laguna Beach\", \"caltrans_district\": \"12 - Irvine\", \"drmt_organization_name\": null, \"route_name\": \"Coastal Trolley\", \"cutoff2\": 20, \"cutoff\": 2}, {\"calitp_itp_id\": 154, \"trip_key\": 3920587676646212300, \"trip_id\": \"t_1552634_b_31068_tn_0\", \"shape_id\": \"p_1277982\", \"route_id\": \"19752\", \"service_hours\": 0.53, \"trip_first_departure_ts\": 52200, \"trip_last_arrival_ts\": 54120, \"departure_hour\": 14, \"time_of_day\": \"Midday\", \"p25\": 0.45, \"p50\": 0.5, \"p75\": 0.5, \"p50_trip\": 0, \"fastest_trip\": 0, \"car_duration_hours\": 0.3, \"competitive_route\": 1, \"bus_multiplier\": 1.77, \"bus_difference\": 13.8, \"num_trips\": 44, \"num_competitive\": 40, \"pct_trips_competitive\": 0.909, \"bus_difference_spread\": 25.8, \"route_group\": \"short\", \"max_trip_hrs\": 0.83, \"max_trip_route_group\": 0.83, \"below_cutoff\": 41, \"pct_below_cutoff\": 0.9318181818181818, \"name\": \"City of Laguna Beach\", \"caltrans_district\": \"12 - Irvine\", \"drmt_organization_name\": null, \"route_name\": \"Coastal Trolley\", \"cutoff2\": 20, \"cutoff\": 2}, {\"calitp_itp_id\": 154, \"trip_key\": -1863009604666829365, \"trip_id\": \"t_1552659_b_31068_tn_0\", \"shape_id\": \"p_1277985\", \"route_id\": \"19752\", \"service_hours\": 0.57, \"trip_first_departure_ts\": 61200, \"trip_last_arrival_ts\": 63240, \"departure_hour\": 17, \"time_of_day\": \"PM Peak\", \"p25\": 0.45, \"p50\": 0.5, \"p75\": 0.5, \"p50_trip\": 0, \"fastest_trip\": 0, \"car_duration_hours\": 0.3, \"competitive_route\": 1, \"bus_multiplier\": 1.9, \"bus_difference\": 16.2, \"num_trips\": 44, \"num_competitive\": 40, \"pct_trips_competitive\": 0.909, \"bus_difference_spread\": 25.8, \"route_group\": \"short\", \"max_trip_hrs\": 0.83, \"max_trip_route_group\": 0.83, \"below_cutoff\": 41, \"pct_below_cutoff\": 0.9318181818181818, \"name\": \"City of Laguna Beach\", \"caltrans_district\": \"12 - Irvine\", \"drmt_organization_name\": null, \"route_name\": \"Coastal Trolley\", \"cutoff2\": 20, \"cutoff\": 2}, {\"calitp_itp_id\": 154, \"trip_key\": -1572468369177639094, \"trip_id\": \"t_1552658_b_31068_tn_0\", \"shape_id\": \"p_1277985\", \"route_id\": \"19752\", \"service_hours\": 0.57, \"trip_first_departure_ts\": 58860, \"trip_last_arrival_ts\": 60900, \"departure_hour\": 16, \"time_of_day\": \"Midday\", \"p25\": 0.45, \"p50\": 0.5, \"p75\": 0.5, \"p50_trip\": 0, \"fastest_trip\": 0, \"car_duration_hours\": 0.3, \"competitive_route\": 1, \"bus_multiplier\": 1.9, \"bus_difference\": 16.2, \"num_trips\": 44, \"num_competitive\": 40, \"pct_trips_competitive\": 0.909, \"bus_difference_spread\": 25.8, \"route_group\": \"short\", \"max_trip_hrs\": 0.83, \"max_trip_route_group\": 0.83, \"below_cutoff\": 41, \"pct_below_cutoff\": 0.9318181818181818, \"name\": \"City of Laguna Beach\", \"caltrans_district\": \"12 - Irvine\", \"drmt_organization_name\": null, \"route_name\": \"Coastal Trolley\", \"cutoff2\": 20, \"cutoff\": 2}, {\"calitp_itp_id\": 154, \"trip_key\": -3781850863829068794, \"trip_id\": \"t_1552664_b_31068_tn_0\", \"shape_id\": \"p_1277983\", \"route_id\": \"19752\", \"service_hours\": 0.57, \"trip_first_departure_ts\": 54600, \"trip_last_arrival_ts\": 56640, \"departure_hour\": 15, \"time_of_day\": \"Midday\", \"p25\": 0.45, \"p50\": 0.5, \"p75\": 0.5, \"p50_trip\": 0, \"fastest_trip\": 0, \"car_duration_hours\": 0.3, \"competitive_route\": 1, \"bus_multiplier\": 1.9, \"bus_difference\": 16.2, \"num_trips\": 44, \"num_competitive\": 40, \"pct_trips_competitive\": 0.909, \"bus_difference_spread\": 25.8, \"route_group\": \"short\", \"max_trip_hrs\": 0.83, \"max_trip_route_group\": 0.83, \"below_cutoff\": 41, \"pct_below_cutoff\": 0.9318181818181818, \"name\": \"City of Laguna Beach\", \"caltrans_district\": \"12 - Irvine\", \"drmt_organization_name\": null, \"route_name\": \"Coastal Trolley\", \"cutoff2\": 20, \"cutoff\": 2}, {\"calitp_itp_id\": 154, \"trip_key\": -5022706857486323726, \"trip_id\": \"t_1552665_b_31068_tn_0\", \"shape_id\": \"p_1277983\", \"route_id\": \"19752\", \"service_hours\": 0.57, \"trip_first_departure_ts\": 57120, \"trip_last_arrival_ts\": 59160, \"departure_hour\": 15, \"time_of_day\": \"Midday\", \"p25\": 0.45, \"p50\": 0.5, \"p75\": 0.5, \"p50_trip\": 0, \"fastest_trip\": 0, \"car_duration_hours\": 0.3, \"competitive_route\": 1, \"bus_multiplier\": 1.9, \"bus_difference\": 16.2, \"num_trips\": 44, \"num_competitive\": 40, \"pct_trips_competitive\": 0.909, \"bus_difference_spread\": 25.8, \"route_group\": \"short\", \"max_trip_hrs\": 0.83, \"max_trip_route_group\": 0.83, \"below_cutoff\": 41, \"pct_below_cutoff\": 0.9318181818181818, \"name\": \"City of Laguna Beach\", \"caltrans_district\": \"12 - Irvine\", \"drmt_organization_name\": null, \"route_name\": \"Coastal Trolley\", \"cutoff2\": 20, \"cutoff\": 2}, {\"calitp_itp_id\": 154, \"trip_key\": -8787997531771117379, \"trip_id\": \"t_1552632_b_31068_tn_0\", \"shape_id\": \"p_1277984\", \"route_id\": \"19752\", \"service_hours\": 0.62, \"trip_first_departure_ts\": 49380, \"trip_last_arrival_ts\": 51600, \"departure_hour\": 13, \"time_of_day\": \"Midday\", \"p25\": 0.45, \"p50\": 0.5, \"p75\": 0.5, \"p50_trip\": 0, \"fastest_trip\": 0, \"car_duration_hours\": 0.3, \"competitive_route\": 1, \"bus_multiplier\": 2.07, \"bus_difference\": 19.2, \"num_trips\": 44, \"num_competitive\": 40, \"pct_trips_competitive\": 0.909, \"bus_difference_spread\": 25.8, \"route_group\": \"short\", \"max_trip_hrs\": 0.83, \"max_trip_route_group\": 0.83, \"below_cutoff\": 41, \"pct_below_cutoff\": 0.9318181818181818, \"name\": \"City of Laguna Beach\", \"caltrans_district\": \"12 - Irvine\", \"drmt_organization_name\": null, \"route_name\": \"Coastal Trolley\", \"cutoff2\": 20, \"cutoff\": 2}, {\"calitp_itp_id\": 154, \"trip_key\": -5536394200960152004, \"trip_id\": \"t_1552663_b_31068_tn_0\", \"shape_id\": \"p_1277983\", \"route_id\": \"19752\", \"service_hours\": 0.67, \"trip_first_departure_ts\": 52200, \"trip_last_arrival_ts\": 54600, \"departure_hour\": 14, \"time_of_day\": \"Midday\", \"p25\": 0.45, \"p50\": 0.5, \"p75\": 0.5, \"p50_trip\": 0, \"fastest_trip\": 0, \"car_duration_hours\": 0.3, \"competitive_route\": 1, \"bus_multiplier\": 2.23, \"bus_difference\": 22.2, \"num_trips\": 44, \"num_competitive\": 40, \"pct_trips_competitive\": 0.909, \"bus_difference_spread\": 25.8, \"route_group\": \"short\", \"max_trip_hrs\": 0.83, \"max_trip_route_group\": 0.83, \"below_cutoff\": 41, \"pct_below_cutoff\": 0.9318181818181818, \"name\": \"City of Laguna Beach\", \"caltrans_district\": \"12 - Irvine\", \"drmt_organization_name\": null, \"route_name\": \"Coastal Trolley\", \"cutoff2\": 20, \"cutoff\": 2}, {\"calitp_itp_id\": 154, \"trip_key\": 3617091447362278109, \"trip_id\": \"t_1552675_b_31068_tn_0\", \"shape_id\": \"p_1277985\", \"route_id\": \"19752\", \"service_hours\": 0.72, \"trip_first_departure_ts\": 46800, \"trip_last_arrival_ts\": 49380, \"departure_hour\": 13, \"time_of_day\": \"Midday\", \"p25\": 0.45, \"p50\": 0.5, \"p75\": 0.5, \"p50_trip\": 0, \"fastest_trip\": 0, \"car_duration_hours\": 0.3, \"competitive_route\": 1, \"bus_multiplier\": 2.4, \"bus_difference\": 25.2, \"num_trips\": 44, \"num_competitive\": 40, \"pct_trips_competitive\": 0.909, \"bus_difference_spread\": 25.8, \"route_group\": \"short\", \"max_trip_hrs\": 0.83, \"max_trip_route_group\": 0.83, \"below_cutoff\": 41, \"pct_below_cutoff\": 0.9318181818181818, \"name\": \"City of Laguna Beach\", \"caltrans_district\": \"12 - Irvine\", \"drmt_organization_name\": null, \"route_name\": \"Coastal Trolley\", \"cutoff2\": 20, \"cutoff\": 2}, {\"calitp_itp_id\": 154, \"trip_key\": -8557456779340071826, \"trip_id\": \"t_1552652_b_31068_tn_0\", \"shape_id\": \"p_1277985\", \"route_id\": \"19752\", \"service_hours\": 0.83, \"trip_first_departure_ts\": 49200, \"trip_last_arrival_ts\": 52200, \"departure_hour\": 13, \"time_of_day\": \"Midday\", \"p25\": 0.45, \"p50\": 0.5, \"p75\": 0.5, \"p50_trip\": 0, \"fastest_trip\": 0, \"car_duration_hours\": 0.3, \"competitive_route\": 1, \"bus_multiplier\": 2.77, \"bus_difference\": 31.8, \"num_trips\": 44, \"num_competitive\": 40, \"pct_trips_competitive\": 0.909, \"bus_difference_spread\": 25.8, \"route_group\": \"short\", \"max_trip_hrs\": 0.83, \"max_trip_route_group\": 0.83, \"below_cutoff\": 41, \"pct_below_cutoff\": 0.9318181818181818, \"name\": \"City of Laguna Beach\", \"caltrans_district\": \"12 - Irvine\", \"drmt_organization_name\": null, \"route_name\": \"Coastal Trolley\", \"cutoff2\": 20, \"cutoff\": 2}]}}, {\"mode\": \"vega-lite\"});\n",
       "</script>"
      ],
      "text/plain": [
       "alt.FacetChart(...)"
      ]
     },
     "metadata": {},
     "output_type": "display_data"
    },
    {
     "data": {
      "text/html": [
       "\n",
       "<div id=\"altair-viz-0f8d7312119644d6bfb7d277c86dc49c\"></div>\n",
       "<script type=\"text/javascript\">\n",
       "  var VEGA_DEBUG = (typeof VEGA_DEBUG == \"undefined\") ? {} : VEGA_DEBUG;\n",
       "  (function(spec, embedOpt){\n",
       "    let outputDiv = document.currentScript.previousElementSibling;\n",
       "    if (outputDiv.id !== \"altair-viz-0f8d7312119644d6bfb7d277c86dc49c\") {\n",
       "      outputDiv = document.getElementById(\"altair-viz-0f8d7312119644d6bfb7d277c86dc49c\");\n",
       "    }\n",
       "    const paths = {\n",
       "      \"vega\": \"https://cdn.jsdelivr.net/npm//vega@5?noext\",\n",
       "      \"vega-lib\": \"https://cdn.jsdelivr.net/npm//vega-lib?noext\",\n",
       "      \"vega-lite\": \"https://cdn.jsdelivr.net/npm//vega-lite@4.17.0?noext\",\n",
       "      \"vega-embed\": \"https://cdn.jsdelivr.net/npm//vega-embed@6?noext\",\n",
       "    };\n",
       "\n",
       "    function maybeLoadScript(lib, version) {\n",
       "      var key = `${lib.replace(\"-\", \"\")}_version`;\n",
       "      return (VEGA_DEBUG[key] == version) ?\n",
       "        Promise.resolve(paths[lib]) :\n",
       "        new Promise(function(resolve, reject) {\n",
       "          var s = document.createElement('script');\n",
       "          document.getElementsByTagName(\"head\")[0].appendChild(s);\n",
       "          s.async = true;\n",
       "          s.onload = () => {\n",
       "            VEGA_DEBUG[key] = version;\n",
       "            return resolve(paths[lib]);\n",
       "          };\n",
       "          s.onerror = () => reject(`Error loading script: ${paths[lib]}`);\n",
       "          s.src = paths[lib];\n",
       "        });\n",
       "    }\n",
       "\n",
       "    function showError(err) {\n",
       "      outputDiv.innerHTML = `<div class=\"error\" style=\"color:red;\">${err}</div>`;\n",
       "      throw err;\n",
       "    }\n",
       "\n",
       "    function displayChart(vegaEmbed) {\n",
       "      vegaEmbed(outputDiv, spec, embedOpt)\n",
       "        .catch(err => showError(`Javascript Error: ${err.message}<br>This usually means there's a typo in your chart specification. See the javascript console for the full traceback.`));\n",
       "    }\n",
       "\n",
       "    if(typeof define === \"function\" && define.amd) {\n",
       "      requirejs.config({paths});\n",
       "      require([\"vega-embed\"], displayChart, err => showError(`Error loading script: ${err.message}`));\n",
       "    } else {\n",
       "      maybeLoadScript(\"vega\", \"5\")\n",
       "        .then(() => maybeLoadScript(\"vega-lite\", \"4.17.0\"))\n",
       "        .then(() => maybeLoadScript(\"vega-embed\", \"6\"))\n",
       "        .catch(showError)\n",
       "        .then(() => displayChart(vegaEmbed));\n",
       "    }\n",
       "  })({\"config\": {\"view\": {\"continuousWidth\": 400, \"continuousHeight\": 300, \"stroke\": null}, \"facet\": {\"spacing\": 0}}, \"data\": {\"name\": \"data-e5bdf48782c39d56d4713b50883991e9\"}, \"facet\": {\"column\": {\"field\": \"route_id\", \"sort\": [\"19752\"], \"title\": \"Route ID\", \"type\": \"nominal\"}}, \"spec\": {\"layer\": [{\"mark\": \"rule\", \"encoding\": {\"color\": {\"value\": \"black\"}, \"y\": {\"field\": \"cutoff\", \"type\": \"quantitative\"}}, \"selection\": {\"selector002\": {\"type\": \"interval\", \"bind\": \"scales\", \"encodings\": [\"x\", \"y\"]}}}, {\"mark\": {\"type\": \"rule\", \"strokeDash\": [3, 3]}, \"encoding\": {\"color\": {\"value\": \"#323434\"}, \"y\": {\"field\": \"cutoff2\", \"type\": \"quantitative\"}}}, {\"mark\": {\"type\": \"point\", \"opacity\": 0.65, \"size\": 12, \"strokeWidth\": 1.1}, \"encoding\": {\"color\": {\"field\": \"time_of_day\", \"scale\": {\"range\": [\"#136C97\", \"#E16B26\", \"#F6BF16\", \"#00896B\", \"#7790A3\", \"#5B559C\"]}, \"sort\": [\"AM Peak\", \"Midday\", \"PM Peak\", \"Owl Service\"], \"title\": \"Time of Day\", \"type\": \"nominal\"}, \"tooltip\": [{\"field\": \"route_id\", \"type\": \"nominal\"}, {\"field\": \"route_name\", \"type\": \"nominal\"}, {\"field\": \"trip_id\", \"type\": \"nominal\"}, {\"field\": \"service_hours\", \"type\": \"quantitative\"}, {\"field\": \"car_duration_hours\", \"type\": \"quantitative\"}, {\"field\": \"bus_multiplier\", \"type\": \"quantitative\"}, {\"field\": \"bus_difference\", \"type\": \"quantitative\"}, {\"field\": \"num_trips\", \"type\": \"quantitative\"}, {\"field\": \"num_competitive\", \"type\": \"quantitative\"}, {\"field\": \"pct_trips_competitive\", \"type\": \"quantitative\"}, {\"field\": \"p25\", \"type\": \"quantitative\"}, {\"field\": \"p50\", \"type\": \"quantitative\"}, {\"field\": \"p75\", \"type\": \"quantitative\"}], \"x\": {\"axis\": {\"grid\": false, \"labels\": false, \"ticks\": true, \"values\": [0]}, \"field\": \"jitter\", \"scale\": {}, \"title\": null, \"type\": \"quantitative\"}, \"y\": {\"field\": \"bus_difference\", \"scale\": {\"domain\": [-5, 31.8]}, \"title\": \"Difference in Bus to Car Travel Time (min)\", \"type\": \"quantitative\"}}, \"transform\": [{\"calculate\": \"sqrt(-2*log(random()))*cos(2*PI*random())\", \"as\": \"jitter\"}], \"width\": 50}, {\"layer\": [{\"mark\": {\"type\": \"point\", \"opacity\": 0.6, \"size\": 20, \"strokeWidth\": 1.3}, \"encoding\": {\"color\": {\"value\": \"#323434\"}, \"y\": {\"field\": \"bus_difference\", \"type\": \"quantitative\"}}, \"transform\": [{\"filter\": \"(datum.p50_trip === 1)\"}]}, {\"mark\": {\"type\": \"text\", \"align\": \"center\", \"baseline\": \"middle\"}, \"encoding\": {\"color\": {\"value\": \"black\"}, \"text\": {\"field\": \"pct_trips_competitive\", \"format\": \".0%\", \"type\": \"quantitative\"}, \"tooltip\": [{\"field\": \"route_id\", \"type\": \"nominal\"}, {\"field\": \"route_name\", \"type\": \"nominal\"}, {\"field\": \"trip_id\", \"type\": \"nominal\"}, {\"field\": \"service_hours\", \"type\": \"quantitative\"}, {\"field\": \"car_duration_hours\", \"type\": \"quantitative\"}, {\"field\": \"bus_multiplier\", \"type\": \"quantitative\"}, {\"field\": \"bus_difference\", \"type\": \"quantitative\"}, {\"field\": \"num_trips\", \"type\": \"quantitative\"}, {\"field\": \"num_competitive\", \"type\": \"quantitative\"}, {\"field\": \"pct_trips_competitive\", \"type\": \"quantitative\"}, {\"field\": \"p25\", \"type\": \"quantitative\"}, {\"field\": \"p50\", \"type\": \"quantitative\"}, {\"field\": \"p75\", \"type\": \"quantitative\"}], \"x\": {\"value\": 30}, \"y\": {\"value\": 15}}, \"transform\": [{\"calculate\": \"sqrt(-2*log(random()))*cos(2*PI*random())\", \"as\": \"jitter\"}, {\"filter\": \"(datum.fastest_trip === 1)\"}]}]}]}, \"resolve\": {\"scale\": {\"y\": \"shared\"}}, \"title\": \"Difference in Bus to Car Travel Time (min)\", \"$schema\": \"https://vega.github.io/schema/vega-lite/v4.17.0.json\", \"datasets\": {\"data-e5bdf48782c39d56d4713b50883991e9\": [{\"calitp_itp_id\": 154, \"trip_key\": 7806917445833874815, \"trip_id\": \"t_1552661_b_31068_tn_0\", \"shape_id\": \"p_1277986\", \"route_id\": \"19752\", \"service_hours\": 0.4, \"trip_first_departure_ts\": 64800, \"trip_last_arrival_ts\": 66240, \"departure_hour\": 18, \"time_of_day\": \"PM Peak\", \"p25\": 0.45, \"p50\": 0.5, \"p75\": 0.5, \"p50_trip\": 0, \"fastest_trip\": 1, \"car_duration_hours\": 0.3, \"competitive_route\": 1, \"bus_multiplier\": 1.33, \"bus_difference\": 6.0, \"num_trips\": 44, \"num_competitive\": 40, \"pct_trips_competitive\": 0.909, \"bus_difference_spread\": 25.8, \"route_group\": \"short\", \"max_trip_hrs\": 0.83, \"max_trip_route_group\": 0.83, \"below_cutoff\": 41, \"pct_below_cutoff\": 0.9318181818181818, \"name\": \"City of Laguna Beach\", \"caltrans_district\": \"12 - Irvine\", \"drmt_organization_name\": null, \"route_name\": \"Coastal Trolley\", \"cutoff2\": 20, \"cutoff\": 0}, {\"calitp_itp_id\": 154, \"trip_key\": 5712075708841317841, \"trip_id\": \"t_1552640_b_31068_tn_0\", \"shape_id\": \"p_1277984\", \"route_id\": \"19752\", \"service_hours\": 0.43, \"trip_first_departure_ts\": 63240, \"trip_last_arrival_ts\": 64800, \"departure_hour\": 17, \"time_of_day\": \"PM Peak\", \"p25\": 0.45, \"p50\": 0.5, \"p75\": 0.5, \"p50_trip\": 0, \"fastest_trip\": 0, \"car_duration_hours\": 0.3, \"competitive_route\": 1, \"bus_multiplier\": 1.43, \"bus_difference\": 7.8, \"num_trips\": 44, \"num_competitive\": 40, \"pct_trips_competitive\": 0.909, \"bus_difference_spread\": 25.8, \"route_group\": \"short\", \"max_trip_hrs\": 0.83, \"max_trip_route_group\": 0.83, \"below_cutoff\": 41, \"pct_below_cutoff\": 0.9318181818181818, \"name\": \"City of Laguna Beach\", \"caltrans_district\": \"12 - Irvine\", \"drmt_organization_name\": null, \"route_name\": \"Coastal Trolley\", \"cutoff2\": 20, \"cutoff\": 0}, {\"calitp_itp_id\": 154, \"trip_key\": 7686097368330038607, \"trip_id\": \"t_1552655_b_31068_tn_0\", \"shape_id\": \"p_1277982\", \"route_id\": \"19752\", \"service_hours\": 0.45, \"trip_first_departure_ts\": 28800, \"trip_last_arrival_ts\": 30420, \"departure_hour\": 8, \"time_of_day\": \"AM Peak\", \"p25\": 0.45, \"p50\": 0.5, \"p75\": 0.5, \"p50_trip\": 0, \"fastest_trip\": 0, \"car_duration_hours\": 0.3, \"competitive_route\": 1, \"bus_multiplier\": 1.5, \"bus_difference\": 9.0, \"num_trips\": 44, \"num_competitive\": 40, \"pct_trips_competitive\": 0.909, \"bus_difference_spread\": 25.8, \"route_group\": \"short\", \"max_trip_hrs\": 0.83, \"max_trip_route_group\": 0.83, \"below_cutoff\": 41, \"pct_below_cutoff\": 0.9318181818181818, \"name\": \"City of Laguna Beach\", \"caltrans_district\": \"12 - Irvine\", \"drmt_organization_name\": null, \"route_name\": \"Coastal Trolley\", \"cutoff2\": 20, \"cutoff\": 0}, {\"calitp_itp_id\": 154, \"trip_key\": 356393108027905529, \"trip_id\": \"t_1552638_b_31068_tn_0\", \"shape_id\": \"p_1277984\", \"route_id\": \"19752\", \"service_hours\": 0.45, \"trip_first_departure_ts\": 59160, \"trip_last_arrival_ts\": 60780, \"departure_hour\": 16, \"time_of_day\": \"Midday\", \"p25\": 0.45, \"p50\": 0.5, \"p75\": 0.5, \"p50_trip\": 0, \"fastest_trip\": 0, \"car_duration_hours\": 0.3, \"competitive_route\": 1, \"bus_multiplier\": 1.5, \"bus_difference\": 9.0, \"num_trips\": 44, \"num_competitive\": 40, \"pct_trips_competitive\": 0.909, \"bus_difference_spread\": 25.8, \"route_group\": \"short\", \"max_trip_hrs\": 0.83, \"max_trip_route_group\": 0.83, \"below_cutoff\": 41, \"pct_below_cutoff\": 0.9318181818181818, \"name\": \"City of Laguna Beach\", \"caltrans_district\": \"12 - Irvine\", \"drmt_organization_name\": null, \"route_name\": \"Coastal Trolley\", \"cutoff2\": 20, \"cutoff\": 0}, {\"calitp_itp_id\": 154, \"trip_key\": 6782257670480665715, \"trip_id\": \"t_1552643_b_31068_tn_0\", \"shape_id\": \"p_1277984\", \"route_id\": \"19752\", \"service_hours\": 0.45, \"trip_first_departure_ts\": 32400, \"trip_last_arrival_ts\": 34020, \"departure_hour\": 9, \"time_of_day\": \"AM Peak\", \"p25\": 0.45, \"p50\": 0.5, \"p75\": 0.5, \"p50_trip\": 0, \"fastest_trip\": 0, \"car_duration_hours\": 0.3, \"competitive_route\": 1, \"bus_multiplier\": 1.5, \"bus_difference\": 9.0, \"num_trips\": 44, \"num_competitive\": 40, \"pct_trips_competitive\": 0.909, \"bus_difference_spread\": 25.8, \"route_group\": \"short\", \"max_trip_hrs\": 0.83, \"max_trip_route_group\": 0.83, \"below_cutoff\": 41, \"pct_below_cutoff\": 0.9318181818181818, \"name\": \"City of Laguna Beach\", \"caltrans_district\": \"12 - Irvine\", \"drmt_organization_name\": null, \"route_name\": \"Coastal Trolley\", \"cutoff2\": 20, \"cutoff\": 0}, {\"calitp_itp_id\": 154, \"trip_key\": 54815795372127949, \"trip_id\": \"t_1552654_b_31068_tn_0\", \"shape_id\": \"p_1277982\", \"route_id\": \"19752\", \"service_hours\": 0.45, \"trip_first_departure_ts\": 27000, \"trip_last_arrival_ts\": 28620, \"departure_hour\": 7, \"time_of_day\": \"AM Peak\", \"p25\": 0.45, \"p50\": 0.5, \"p75\": 0.5, \"p50_trip\": 0, \"fastest_trip\": 0, \"car_duration_hours\": 0.3, \"competitive_route\": 1, \"bus_multiplier\": 1.5, \"bus_difference\": 9.0, \"num_trips\": 44, \"num_competitive\": 40, \"pct_trips_competitive\": 0.909, \"bus_difference_spread\": 25.8, \"route_group\": \"short\", \"max_trip_hrs\": 0.83, \"max_trip_route_group\": 0.83, \"below_cutoff\": 41, \"pct_below_cutoff\": 0.9318181818181818, \"name\": \"City of Laguna Beach\", \"caltrans_district\": \"12 - Irvine\", \"drmt_organization_name\": null, \"route_name\": \"Coastal Trolley\", \"cutoff2\": 20, \"cutoff\": 0}, {\"calitp_itp_id\": 154, \"trip_key\": -592244683577441027, \"trip_id\": \"t_1552656_b_31068_tn_0\", \"shape_id\": \"p_1277982\", \"route_id\": \"19752\", \"service_hours\": 0.45, \"trip_first_departure_ts\": 23400, \"trip_last_arrival_ts\": 25020, \"departure_hour\": 6, \"time_of_day\": \"Owl Service\", \"p25\": 0.45, \"p50\": 0.5, \"p75\": 0.5, \"p50_trip\": 0, \"fastest_trip\": 0, \"car_duration_hours\": 0.3, \"competitive_route\": 1, \"bus_multiplier\": 1.5, \"bus_difference\": 9.0, \"num_trips\": 44, \"num_competitive\": 40, \"pct_trips_competitive\": 0.909, \"bus_difference_spread\": 25.8, \"route_group\": \"short\", \"max_trip_hrs\": 0.83, \"max_trip_route_group\": 0.83, \"below_cutoff\": 41, \"pct_below_cutoff\": 0.9318181818181818, \"name\": \"City of Laguna Beach\", \"caltrans_district\": \"12 - Irvine\", \"drmt_organization_name\": null, \"route_name\": \"Coastal Trolley\", \"cutoff2\": 20, \"cutoff\": 0}, {\"calitp_itp_id\": 154, \"trip_key\": -8203847068274567800, \"trip_id\": \"t_1552636_b_31068_tn_0\", \"shape_id\": \"p_1277982\", \"route_id\": \"19752\", \"service_hours\": 0.45, \"trip_first_departure_ts\": 56640, \"trip_last_arrival_ts\": 58260, \"departure_hour\": 15, \"time_of_day\": \"Midday\", \"p25\": 0.45, \"p50\": 0.5, \"p75\": 0.5, \"p50_trip\": 0, \"fastest_trip\": 0, \"car_duration_hours\": 0.3, \"competitive_route\": 1, \"bus_multiplier\": 1.5, \"bus_difference\": 9.0, \"num_trips\": 44, \"num_competitive\": 40, \"pct_trips_competitive\": 0.909, \"bus_difference_spread\": 25.8, \"route_group\": \"short\", \"max_trip_hrs\": 0.83, \"max_trip_route_group\": 0.83, \"below_cutoff\": 41, \"pct_below_cutoff\": 0.9318181818181818, \"name\": \"City of Laguna Beach\", \"caltrans_district\": \"12 - Irvine\", \"drmt_organization_name\": null, \"route_name\": \"Coastal Trolley\", \"cutoff2\": 20, \"cutoff\": 0}, {\"calitp_itp_id\": 154, \"trip_key\": 5704097460175481058, \"trip_id\": \"t_1552649_b_31068_tn_0\", \"shape_id\": \"p_1277984\", \"route_id\": \"19752\", \"service_hours\": 0.45, \"trip_first_departure_ts\": 43200, \"trip_last_arrival_ts\": 44820, \"departure_hour\": 12, \"time_of_day\": \"Midday\", \"p25\": 0.45, \"p50\": 0.5, \"p75\": 0.5, \"p50_trip\": 0, \"fastest_trip\": 0, \"car_duration_hours\": 0.3, \"competitive_route\": 1, \"bus_multiplier\": 1.5, \"bus_difference\": 9.0, \"num_trips\": 44, \"num_competitive\": 40, \"pct_trips_competitive\": 0.909, \"bus_difference_spread\": 25.8, \"route_group\": \"short\", \"max_trip_hrs\": 0.83, \"max_trip_route_group\": 0.83, \"below_cutoff\": 41, \"pct_below_cutoff\": 0.9318181818181818, \"name\": \"City of Laguna Beach\", \"caltrans_district\": \"12 - Irvine\", \"drmt_organization_name\": null, \"route_name\": \"Coastal Trolley\", \"cutoff2\": 20, \"cutoff\": 0}, {\"calitp_itp_id\": 154, \"trip_key\": -3930039889659231609, \"trip_id\": \"t_1552646_b_31068_tn_0\", \"shape_id\": \"p_1277984\", \"route_id\": \"19752\", \"service_hours\": 0.45, \"trip_first_departure_ts\": 37800, \"trip_last_arrival_ts\": 39420, \"departure_hour\": 10, \"time_of_day\": \"Midday\", \"p25\": 0.45, \"p50\": 0.5, \"p75\": 0.5, \"p50_trip\": 0, \"fastest_trip\": 0, \"car_duration_hours\": 0.3, \"competitive_route\": 1, \"bus_multiplier\": 1.5, \"bus_difference\": 9.0, \"num_trips\": 44, \"num_competitive\": 40, \"pct_trips_competitive\": 0.909, \"bus_difference_spread\": 25.8, \"route_group\": \"short\", \"max_trip_hrs\": 0.83, \"max_trip_route_group\": 0.83, \"below_cutoff\": 41, \"pct_below_cutoff\": 0.9318181818181818, \"name\": \"City of Laguna Beach\", \"caltrans_district\": \"12 - Irvine\", \"drmt_organization_name\": null, \"route_name\": \"Coastal Trolley\", \"cutoff2\": 20, \"cutoff\": 0}, {\"calitp_itp_id\": 154, \"trip_key\": 1891569025779206796, \"trip_id\": \"t_1552650_b_31068_tn_0\", \"shape_id\": \"p_1277984\", \"route_id\": \"19752\", \"service_hours\": 0.45, \"trip_first_departure_ts\": 45000, \"trip_last_arrival_ts\": 46620, \"departure_hour\": 12, \"time_of_day\": \"Midday\", \"p25\": 0.45, \"p50\": 0.5, \"p75\": 0.5, \"p50_trip\": 0, \"fastest_trip\": 0, \"car_duration_hours\": 0.3, \"competitive_route\": 1, \"bus_multiplier\": 1.5, \"bus_difference\": 9.0, \"num_trips\": 44, \"num_competitive\": 40, \"pct_trips_competitive\": 0.909, \"bus_difference_spread\": 25.8, \"route_group\": \"short\", \"max_trip_hrs\": 0.83, \"max_trip_route_group\": 0.83, \"below_cutoff\": 41, \"pct_below_cutoff\": 0.9318181818181818, \"name\": \"City of Laguna Beach\", \"caltrans_district\": \"12 - Irvine\", \"drmt_organization_name\": null, \"route_name\": \"Coastal Trolley\", \"cutoff2\": 20, \"cutoff\": 0}, {\"calitp_itp_id\": 154, \"trip_key\": 702541903140554760, \"trip_id\": \"t_1552653_b_31068_tn_0\", \"shape_id\": \"p_1277982\", \"route_id\": \"19752\", \"service_hours\": 0.45, \"trip_first_departure_ts\": 25200, \"trip_last_arrival_ts\": 26820, \"departure_hour\": 7, \"time_of_day\": \"AM Peak\", \"p25\": 0.45, \"p50\": 0.5, \"p75\": 0.5, \"p50_trip\": 0, \"fastest_trip\": 0, \"car_duration_hours\": 0.3, \"competitive_route\": 1, \"bus_multiplier\": 1.5, \"bus_difference\": 9.0, \"num_trips\": 44, \"num_competitive\": 40, \"pct_trips_competitive\": 0.909, \"bus_difference_spread\": 25.8, \"route_group\": \"short\", \"max_trip_hrs\": 0.83, \"max_trip_route_group\": 0.83, \"below_cutoff\": 41, \"pct_below_cutoff\": 0.9318181818181818, \"name\": \"City of Laguna Beach\", \"caltrans_district\": \"12 - Irvine\", \"drmt_organization_name\": null, \"route_name\": \"Coastal Trolley\", \"cutoff2\": 20, \"cutoff\": 0}, {\"calitp_itp_id\": 154, \"trip_key\": -68836863474557720, \"trip_id\": \"t_1552651_b_31068_tn_0\", \"shape_id\": \"p_1277984\", \"route_id\": \"19752\", \"service_hours\": 0.45, \"trip_first_departure_ts\": 46800, \"trip_last_arrival_ts\": 48420, \"departure_hour\": 13, \"time_of_day\": \"Midday\", \"p25\": 0.45, \"p50\": 0.5, \"p75\": 0.5, \"p50_trip\": 0, \"fastest_trip\": 0, \"car_duration_hours\": 0.3, \"competitive_route\": 1, \"bus_multiplier\": 1.5, \"bus_difference\": 9.0, \"num_trips\": 44, \"num_competitive\": 40, \"pct_trips_competitive\": 0.909, \"bus_difference_spread\": 25.8, \"route_group\": \"short\", \"max_trip_hrs\": 0.83, \"max_trip_route_group\": 0.83, \"below_cutoff\": 41, \"pct_below_cutoff\": 0.9318181818181818, \"name\": \"City of Laguna Beach\", \"caltrans_district\": \"12 - Irvine\", \"drmt_organization_name\": null, \"route_name\": \"Coastal Trolley\", \"cutoff2\": 20, \"cutoff\": 0}, {\"calitp_itp_id\": 154, \"trip_key\": -4585732728316578712, \"trip_id\": \"t_1552644_b_31068_tn_0\", \"shape_id\": \"p_1277984\", \"route_id\": \"19752\", \"service_hours\": 0.45, \"trip_first_departure_ts\": 34200, \"trip_last_arrival_ts\": 35820, \"departure_hour\": 9, \"time_of_day\": \"AM Peak\", \"p25\": 0.45, \"p50\": 0.5, \"p75\": 0.5, \"p50_trip\": 0, \"fastest_trip\": 0, \"car_duration_hours\": 0.3, \"competitive_route\": 1, \"bus_multiplier\": 1.5, \"bus_difference\": 9.0, \"num_trips\": 44, \"num_competitive\": 40, \"pct_trips_competitive\": 0.909, \"bus_difference_spread\": 25.8, \"route_group\": \"short\", \"max_trip_hrs\": 0.83, \"max_trip_route_group\": 0.83, \"below_cutoff\": 41, \"pct_below_cutoff\": 0.9318181818181818, \"name\": \"City of Laguna Beach\", \"caltrans_district\": \"12 - Irvine\", \"drmt_organization_name\": null, \"route_name\": \"Coastal Trolley\", \"cutoff2\": 20, \"cutoff\": 0}, {\"calitp_itp_id\": 154, \"trip_key\": -8910633763075763058, \"trip_id\": \"t_1552641_b_31068_tn_0\", \"shape_id\": \"p_1277984\", \"route_id\": \"19752\", \"service_hours\": 0.45, \"trip_first_departure_ts\": 64800, \"trip_last_arrival_ts\": 66420, \"departure_hour\": 18, \"time_of_day\": \"PM Peak\", \"p25\": 0.45, \"p50\": 0.5, \"p75\": 0.5, \"p50_trip\": 0, \"fastest_trip\": 0, \"car_duration_hours\": 0.3, \"competitive_route\": 1, \"bus_multiplier\": 1.5, \"bus_difference\": 9.0, \"num_trips\": 44, \"num_competitive\": 40, \"pct_trips_competitive\": 0.909, \"bus_difference_spread\": 25.8, \"route_group\": \"short\", \"max_trip_hrs\": 0.83, \"max_trip_route_group\": 0.83, \"below_cutoff\": 41, \"pct_below_cutoff\": 0.9318181818181818, \"name\": \"City of Laguna Beach\", \"caltrans_district\": \"12 - Irvine\", \"drmt_organization_name\": null, \"route_name\": \"Coastal Trolley\", \"cutoff2\": 20, \"cutoff\": 0}, {\"calitp_itp_id\": 154, \"trip_key\": -382299546131518929, \"trip_id\": \"t_1552648_b_31068_tn_0\", \"shape_id\": \"p_1277984\", \"route_id\": \"19752\", \"service_hours\": 0.45, \"trip_first_departure_ts\": 41400, \"trip_last_arrival_ts\": 43020, \"departure_hour\": 11, \"time_of_day\": \"Midday\", \"p25\": 0.45, \"p50\": 0.5, \"p75\": 0.5, \"p50_trip\": 0, \"fastest_trip\": 0, \"car_duration_hours\": 0.3, \"competitive_route\": 1, \"bus_multiplier\": 1.5, \"bus_difference\": 9.0, \"num_trips\": 44, \"num_competitive\": 40, \"pct_trips_competitive\": 0.909, \"bus_difference_spread\": 25.8, \"route_group\": \"short\", \"max_trip_hrs\": 0.83, \"max_trip_route_group\": 0.83, \"below_cutoff\": 41, \"pct_below_cutoff\": 0.9318181818181818, \"name\": \"City of Laguna Beach\", \"caltrans_district\": \"12 - Irvine\", \"drmt_organization_name\": null, \"route_name\": \"Coastal Trolley\", \"cutoff2\": 20, \"cutoff\": 0}, {\"calitp_itp_id\": 154, \"trip_key\": -3723945693936646698, \"trip_id\": \"t_1552639_b_31068_tn_0\", \"shape_id\": \"p_1277984\", \"route_id\": \"19752\", \"service_hours\": 0.45, \"trip_first_departure_ts\": 60900, \"trip_last_arrival_ts\": 62520, \"departure_hour\": 16, \"time_of_day\": \"Midday\", \"p25\": 0.45, \"p50\": 0.5, \"p75\": 0.5, \"p50_trip\": 0, \"fastest_trip\": 0, \"car_duration_hours\": 0.3, \"competitive_route\": 1, \"bus_multiplier\": 1.5, \"bus_difference\": 9.0, \"num_trips\": 44, \"num_competitive\": 40, \"pct_trips_competitive\": 0.909, \"bus_difference_spread\": 25.8, \"route_group\": \"short\", \"max_trip_hrs\": 0.83, \"max_trip_route_group\": 0.83, \"below_cutoff\": 41, \"pct_below_cutoff\": 0.9318181818181818, \"name\": \"City of Laguna Beach\", \"caltrans_district\": \"12 - Irvine\", \"drmt_organization_name\": null, \"route_name\": \"Coastal Trolley\", \"cutoff2\": 20, \"cutoff\": 0}, {\"calitp_itp_id\": 154, \"trip_key\": 8566596254515144504, \"trip_id\": \"t_1552645_b_31068_tn_0\", \"shape_id\": \"p_1277984\", \"route_id\": \"19752\", \"service_hours\": 0.45, \"trip_first_departure_ts\": 36000, \"trip_last_arrival_ts\": 37620, \"departure_hour\": 10, \"time_of_day\": \"Midday\", \"p25\": 0.45, \"p50\": 0.5, \"p75\": 0.5, \"p50_trip\": 0, \"fastest_trip\": 0, \"car_duration_hours\": 0.3, \"competitive_route\": 1, \"bus_multiplier\": 1.5, \"bus_difference\": 9.0, \"num_trips\": 44, \"num_competitive\": 40, \"pct_trips_competitive\": 0.909, \"bus_difference_spread\": 25.8, \"route_group\": \"short\", \"max_trip_hrs\": 0.83, \"max_trip_route_group\": 0.83, \"below_cutoff\": 41, \"pct_below_cutoff\": 0.9318181818181818, \"name\": \"City of Laguna Beach\", \"caltrans_district\": \"12 - Irvine\", \"drmt_organization_name\": null, \"route_name\": \"Coastal Trolley\", \"cutoff2\": 20, \"cutoff\": 0}, {\"calitp_itp_id\": 154, \"trip_key\": 2508702419336091291, \"trip_id\": \"t_1552660_b_31068_tn_0\", \"shape_id\": \"p_1277985\", \"route_id\": \"19752\", \"service_hours\": 0.45, \"trip_first_departure_ts\": 63120, \"trip_last_arrival_ts\": 64740, \"departure_hour\": 17, \"time_of_day\": \"PM Peak\", \"p25\": 0.45, \"p50\": 0.5, \"p75\": 0.5, \"p50_trip\": 0, \"fastest_trip\": 0, \"car_duration_hours\": 0.3, \"competitive_route\": 1, \"bus_multiplier\": 1.5, \"bus_difference\": 9.0, \"num_trips\": 44, \"num_competitive\": 40, \"pct_trips_competitive\": 0.909, \"bus_difference_spread\": 25.8, \"route_group\": \"short\", \"max_trip_hrs\": 0.83, \"max_trip_route_group\": 0.83, \"below_cutoff\": 41, \"pct_below_cutoff\": 0.9318181818181818, \"name\": \"City of Laguna Beach\", \"caltrans_district\": \"12 - Irvine\", \"drmt_organization_name\": null, \"route_name\": \"Coastal Trolley\", \"cutoff2\": 20, \"cutoff\": 0}, {\"calitp_itp_id\": 154, \"trip_key\": -5761262999504390889, \"trip_id\": \"t_1552647_b_31068_tn_0\", \"shape_id\": \"p_1277984\", \"route_id\": \"19752\", \"service_hours\": 0.45, \"trip_first_departure_ts\": 39600, \"trip_last_arrival_ts\": 41220, \"departure_hour\": 11, \"time_of_day\": \"Midday\", \"p25\": 0.45, \"p50\": 0.5, \"p75\": 0.5, \"p50_trip\": 0, \"fastest_trip\": 0, \"car_duration_hours\": 0.3, \"competitive_route\": 1, \"bus_multiplier\": 1.5, \"bus_difference\": 9.0, \"num_trips\": 44, \"num_competitive\": 40, \"pct_trips_competitive\": 0.909, \"bus_difference_spread\": 25.8, \"route_group\": \"short\", \"max_trip_hrs\": 0.83, \"max_trip_route_group\": 0.83, \"below_cutoff\": 41, \"pct_below_cutoff\": 0.9318181818181818, \"name\": \"City of Laguna Beach\", \"caltrans_district\": \"12 - Irvine\", \"drmt_organization_name\": null, \"route_name\": \"Coastal Trolley\", \"cutoff2\": 20, \"cutoff\": 0}, {\"calitp_itp_id\": 154, \"trip_key\": -7737943859703794620, \"trip_id\": \"t_1552642_b_31068_tn_0\", \"shape_id\": \"p_1277984\", \"route_id\": \"19752\", \"service_hours\": 0.45, \"trip_first_departure_ts\": 30600, \"trip_last_arrival_ts\": 32220, \"departure_hour\": 8, \"time_of_day\": \"AM Peak\", \"p25\": 0.45, \"p50\": 0.5, \"p75\": 0.5, \"p50_trip\": 0, \"fastest_trip\": 0, \"car_duration_hours\": 0.3, \"competitive_route\": 1, \"bus_multiplier\": 1.5, \"bus_difference\": 9.0, \"num_trips\": 44, \"num_competitive\": 40, \"pct_trips_competitive\": 0.909, \"bus_difference_spread\": 25.8, \"route_group\": \"short\", \"max_trip_hrs\": 0.83, \"max_trip_route_group\": 0.83, \"below_cutoff\": 41, \"pct_below_cutoff\": 0.9318181818181818, \"name\": \"City of Laguna Beach\", \"caltrans_district\": \"12 - Irvine\", \"drmt_organization_name\": null, \"route_name\": \"Coastal Trolley\", \"cutoff2\": 20, \"cutoff\": 0}, {\"calitp_itp_id\": 154, \"trip_key\": 2477270831404681291, \"trip_id\": \"t_1552668_b_31068_tn_0\", \"shape_id\": \"p_1277985\", \"route_id\": \"19752\", \"service_hours\": 0.5, \"trip_first_departure_ts\": 34200, \"trip_last_arrival_ts\": 36000, \"departure_hour\": 9, \"time_of_day\": \"AM Peak\", \"p25\": 0.45, \"p50\": 0.5, \"p75\": 0.5, \"p50_trip\": 1, \"fastest_trip\": 0, \"car_duration_hours\": 0.3, \"competitive_route\": 1, \"bus_multiplier\": 1.67, \"bus_difference\": 12.0, \"num_trips\": 44, \"num_competitive\": 40, \"pct_trips_competitive\": 0.909, \"bus_difference_spread\": 25.8, \"route_group\": \"short\", \"max_trip_hrs\": 0.83, \"max_trip_route_group\": 0.83, \"below_cutoff\": 41, \"pct_below_cutoff\": 0.9318181818181818, \"name\": \"City of Laguna Beach\", \"caltrans_district\": \"12 - Irvine\", \"drmt_organization_name\": null, \"route_name\": \"Coastal Trolley\", \"cutoff2\": 20, \"cutoff\": 0}, {\"calitp_itp_id\": 154, \"trip_key\": 2445294422278915480, \"trip_id\": \"t_1552678_b_31068_tn_0\", \"shape_id\": \"p_1277983\", \"route_id\": \"19752\", \"service_hours\": 0.5, \"trip_first_departure_ts\": 27000, \"trip_last_arrival_ts\": 28800, \"departure_hour\": 7, \"time_of_day\": \"AM Peak\", \"p25\": 0.45, \"p50\": 0.5, \"p75\": 0.5, \"p50_trip\": 1, \"fastest_trip\": 0, \"car_duration_hours\": 0.3, \"competitive_route\": 1, \"bus_multiplier\": 1.67, \"bus_difference\": 12.0, \"num_trips\": 44, \"num_competitive\": 40, \"pct_trips_competitive\": 0.909, \"bus_difference_spread\": 25.8, \"route_group\": \"short\", \"max_trip_hrs\": 0.83, \"max_trip_route_group\": 0.83, \"below_cutoff\": 41, \"pct_below_cutoff\": 0.9318181818181818, \"name\": \"City of Laguna Beach\", \"caltrans_district\": \"12 - Irvine\", \"drmt_organization_name\": null, \"route_name\": \"Coastal Trolley\", \"cutoff2\": 20, \"cutoff\": 0}, {\"calitp_itp_id\": 154, \"trip_key\": 5014393651217782729, \"trip_id\": \"t_1552674_b_31068_tn_0\", \"shape_id\": \"p_1277985\", \"route_id\": \"19752\", \"service_hours\": 0.5, \"trip_first_departure_ts\": 45000, \"trip_last_arrival_ts\": 46800, \"departure_hour\": 12, \"time_of_day\": \"Midday\", \"p25\": 0.45, \"p50\": 0.5, \"p75\": 0.5, \"p50_trip\": 1, \"fastest_trip\": 0, \"car_duration_hours\": 0.3, \"competitive_route\": 1, \"bus_multiplier\": 1.67, \"bus_difference\": 12.0, \"num_trips\": 44, \"num_competitive\": 40, \"pct_trips_competitive\": 0.909, \"bus_difference_spread\": 25.8, \"route_group\": \"short\", \"max_trip_hrs\": 0.83, \"max_trip_route_group\": 0.83, \"below_cutoff\": 41, \"pct_below_cutoff\": 0.9318181818181818, \"name\": \"City of Laguna Beach\", \"caltrans_district\": \"12 - Irvine\", \"drmt_organization_name\": null, \"route_name\": \"Coastal Trolley\", \"cutoff2\": 20, \"cutoff\": 0}, {\"calitp_itp_id\": 154, \"trip_key\": 317096867958488262, \"trip_id\": \"t_1552672_b_31068_tn_0\", \"shape_id\": \"p_1277985\", \"route_id\": \"19752\", \"service_hours\": 0.5, \"trip_first_departure_ts\": 41400, \"trip_last_arrival_ts\": 43200, \"departure_hour\": 11, \"time_of_day\": \"Midday\", \"p25\": 0.45, \"p50\": 0.5, \"p75\": 0.5, \"p50_trip\": 1, \"fastest_trip\": 0, \"car_duration_hours\": 0.3, \"competitive_route\": 1, \"bus_multiplier\": 1.67, \"bus_difference\": 12.0, \"num_trips\": 44, \"num_competitive\": 40, \"pct_trips_competitive\": 0.909, \"bus_difference_spread\": 25.8, \"route_group\": \"short\", \"max_trip_hrs\": 0.83, \"max_trip_route_group\": 0.83, \"below_cutoff\": 41, \"pct_below_cutoff\": 0.9318181818181818, \"name\": \"City of Laguna Beach\", \"caltrans_district\": \"12 - Irvine\", \"drmt_organization_name\": null, \"route_name\": \"Coastal Trolley\", \"cutoff2\": 20, \"cutoff\": 0}, {\"calitp_itp_id\": 154, \"trip_key\": 3341475223252556294, \"trip_id\": \"t_1552666_b_31068_tn_0\", \"shape_id\": \"p_1277985\", \"route_id\": \"19752\", \"service_hours\": 0.5, \"trip_first_departure_ts\": 30600, \"trip_last_arrival_ts\": 32400, \"departure_hour\": 8, \"time_of_day\": \"AM Peak\", \"p25\": 0.45, \"p50\": 0.5, \"p75\": 0.5, \"p50_trip\": 1, \"fastest_trip\": 0, \"car_duration_hours\": 0.3, \"competitive_route\": 1, \"bus_multiplier\": 1.67, \"bus_difference\": 12.0, \"num_trips\": 44, \"num_competitive\": 40, \"pct_trips_competitive\": 0.909, \"bus_difference_spread\": 25.8, \"route_group\": \"short\", \"max_trip_hrs\": 0.83, \"max_trip_route_group\": 0.83, \"below_cutoff\": 41, \"pct_below_cutoff\": 0.9318181818181818, \"name\": \"City of Laguna Beach\", \"caltrans_district\": \"12 - Irvine\", \"drmt_organization_name\": null, \"route_name\": \"Coastal Trolley\", \"cutoff2\": 20, \"cutoff\": 0}, {\"calitp_itp_id\": 154, \"trip_key\": 1052966296350476782, \"trip_id\": \"t_1552667_b_31068_tn_0\", \"shape_id\": \"p_1277985\", \"route_id\": \"19752\", \"service_hours\": 0.5, \"trip_first_departure_ts\": 32400, \"trip_last_arrival_ts\": 34200, \"departure_hour\": 9, \"time_of_day\": \"AM Peak\", \"p25\": 0.45, \"p50\": 0.5, \"p75\": 0.5, \"p50_trip\": 1, \"fastest_trip\": 0, \"car_duration_hours\": 0.3, \"competitive_route\": 1, \"bus_multiplier\": 1.67, \"bus_difference\": 12.0, \"num_trips\": 44, \"num_competitive\": 40, \"pct_trips_competitive\": 0.909, \"bus_difference_spread\": 25.8, \"route_group\": \"short\", \"max_trip_hrs\": 0.83, \"max_trip_route_group\": 0.83, \"below_cutoff\": 41, \"pct_below_cutoff\": 0.9318181818181818, \"name\": \"City of Laguna Beach\", \"caltrans_district\": \"12 - Irvine\", \"drmt_organization_name\": null, \"route_name\": \"Coastal Trolley\", \"cutoff2\": 20, \"cutoff\": 0}, {\"calitp_itp_id\": 154, \"trip_key\": -8770540301684811477, \"trip_id\": \"t_1552670_b_31068_tn_0\", \"shape_id\": \"p_1277985\", \"route_id\": \"19752\", \"service_hours\": 0.5, \"trip_first_departure_ts\": 37800, \"trip_last_arrival_ts\": 39600, \"departure_hour\": 10, \"time_of_day\": \"Midday\", \"p25\": 0.45, \"p50\": 0.5, \"p75\": 0.5, \"p50_trip\": 1, \"fastest_trip\": 0, \"car_duration_hours\": 0.3, \"competitive_route\": 1, \"bus_multiplier\": 1.67, \"bus_difference\": 12.0, \"num_trips\": 44, \"num_competitive\": 40, \"pct_trips_competitive\": 0.909, \"bus_difference_spread\": 25.8, \"route_group\": \"short\", \"max_trip_hrs\": 0.83, \"max_trip_route_group\": 0.83, \"below_cutoff\": 41, \"pct_below_cutoff\": 0.9318181818181818, \"name\": \"City of Laguna Beach\", \"caltrans_district\": \"12 - Irvine\", \"drmt_organization_name\": null, \"route_name\": \"Coastal Trolley\", \"cutoff2\": 20, \"cutoff\": 0}, {\"calitp_itp_id\": 154, \"trip_key\": -1044523680580980912, \"trip_id\": \"t_1552676_b_31068_tn_0\", \"shape_id\": \"p_1277983\", \"route_id\": \"19752\", \"service_hours\": 0.5, \"trip_first_departure_ts\": 23400, \"trip_last_arrival_ts\": 25200, \"departure_hour\": 6, \"time_of_day\": \"Owl Service\", \"p25\": 0.45, \"p50\": 0.5, \"p75\": 0.5, \"p50_trip\": 1, \"fastest_trip\": 0, \"car_duration_hours\": 0.3, \"competitive_route\": 1, \"bus_multiplier\": 1.67, \"bus_difference\": 12.0, \"num_trips\": 44, \"num_competitive\": 40, \"pct_trips_competitive\": 0.909, \"bus_difference_spread\": 25.8, \"route_group\": \"short\", \"max_trip_hrs\": 0.83, \"max_trip_route_group\": 0.83, \"below_cutoff\": 41, \"pct_below_cutoff\": 0.9318181818181818, \"name\": \"City of Laguna Beach\", \"caltrans_district\": \"12 - Irvine\", \"drmt_organization_name\": null, \"route_name\": \"Coastal Trolley\", \"cutoff2\": 20, \"cutoff\": 0}, {\"calitp_itp_id\": 154, \"trip_key\": 7802444516255894346, \"trip_id\": \"t_1552673_b_31068_tn_0\", \"shape_id\": \"p_1277985\", \"route_id\": \"19752\", \"service_hours\": 0.5, \"trip_first_departure_ts\": 43200, \"trip_last_arrival_ts\": 45000, \"departure_hour\": 12, \"time_of_day\": \"Midday\", \"p25\": 0.45, \"p50\": 0.5, \"p75\": 0.5, \"p50_trip\": 1, \"fastest_trip\": 0, \"car_duration_hours\": 0.3, \"competitive_route\": 1, \"bus_multiplier\": 1.67, \"bus_difference\": 12.0, \"num_trips\": 44, \"num_competitive\": 40, \"pct_trips_competitive\": 0.909, \"bus_difference_spread\": 25.8, \"route_group\": \"short\", \"max_trip_hrs\": 0.83, \"max_trip_route_group\": 0.83, \"below_cutoff\": 41, \"pct_below_cutoff\": 0.9318181818181818, \"name\": \"City of Laguna Beach\", \"caltrans_district\": \"12 - Irvine\", \"drmt_organization_name\": null, \"route_name\": \"Coastal Trolley\", \"cutoff2\": 20, \"cutoff\": 0}, {\"calitp_itp_id\": 154, \"trip_key\": -1317475292178949811, \"trip_id\": \"t_1552679_b_31068_tn_0\", \"shape_id\": \"p_1277983\", \"route_id\": \"19752\", \"service_hours\": 0.5, \"trip_first_departure_ts\": 28800, \"trip_last_arrival_ts\": 30600, \"departure_hour\": 8, \"time_of_day\": \"AM Peak\", \"p25\": 0.45, \"p50\": 0.5, \"p75\": 0.5, \"p50_trip\": 1, \"fastest_trip\": 0, \"car_duration_hours\": 0.3, \"competitive_route\": 1, \"bus_multiplier\": 1.67, \"bus_difference\": 12.0, \"num_trips\": 44, \"num_competitive\": 40, \"pct_trips_competitive\": 0.909, \"bus_difference_spread\": 25.8, \"route_group\": \"short\", \"max_trip_hrs\": 0.83, \"max_trip_route_group\": 0.83, \"below_cutoff\": 41, \"pct_below_cutoff\": 0.9318181818181818, \"name\": \"City of Laguna Beach\", \"caltrans_district\": \"12 - Irvine\", \"drmt_organization_name\": null, \"route_name\": \"Coastal Trolley\", \"cutoff2\": 20, \"cutoff\": 0}, {\"calitp_itp_id\": 154, \"trip_key\": 838935979221253846, \"trip_id\": \"t_1552677_b_31068_tn_0\", \"shape_id\": \"p_1277983\", \"route_id\": \"19752\", \"service_hours\": 0.5, \"trip_first_departure_ts\": 25200, \"trip_last_arrival_ts\": 27000, \"departure_hour\": 7, \"time_of_day\": \"AM Peak\", \"p25\": 0.45, \"p50\": 0.5, \"p75\": 0.5, \"p50_trip\": 1, \"fastest_trip\": 0, \"car_duration_hours\": 0.3, \"competitive_route\": 1, \"bus_multiplier\": 1.67, \"bus_difference\": 12.0, \"num_trips\": 44, \"num_competitive\": 40, \"pct_trips_competitive\": 0.909, \"bus_difference_spread\": 25.8, \"route_group\": \"short\", \"max_trip_hrs\": 0.83, \"max_trip_route_group\": 0.83, \"below_cutoff\": 41, \"pct_below_cutoff\": 0.9318181818181818, \"name\": \"City of Laguna Beach\", \"caltrans_district\": \"12 - Irvine\", \"drmt_organization_name\": null, \"route_name\": \"Coastal Trolley\", \"cutoff2\": 20, \"cutoff\": 0}, {\"calitp_itp_id\": 154, \"trip_key\": -3889357870153534961, \"trip_id\": \"t_1552671_b_31068_tn_0\", \"shape_id\": \"p_1277985\", \"route_id\": \"19752\", \"service_hours\": 0.5, \"trip_first_departure_ts\": 39600, \"trip_last_arrival_ts\": 41400, \"departure_hour\": 11, \"time_of_day\": \"Midday\", \"p25\": 0.45, \"p50\": 0.5, \"p75\": 0.5, \"p50_trip\": 1, \"fastest_trip\": 0, \"car_duration_hours\": 0.3, \"competitive_route\": 1, \"bus_multiplier\": 1.67, \"bus_difference\": 12.0, \"num_trips\": 44, \"num_competitive\": 40, \"pct_trips_competitive\": 0.909, \"bus_difference_spread\": 25.8, \"route_group\": \"short\", \"max_trip_hrs\": 0.83, \"max_trip_route_group\": 0.83, \"below_cutoff\": 41, \"pct_below_cutoff\": 0.9318181818181818, \"name\": \"City of Laguna Beach\", \"caltrans_district\": \"12 - Irvine\", \"drmt_organization_name\": null, \"route_name\": \"Coastal Trolley\", \"cutoff2\": 20, \"cutoff\": 0}, {\"calitp_itp_id\": 154, \"trip_key\": -891820795995715827, \"trip_id\": \"t_1552669_b_31068_tn_0\", \"shape_id\": \"p_1277985\", \"route_id\": \"19752\", \"service_hours\": 0.5, \"trip_first_departure_ts\": 36000, \"trip_last_arrival_ts\": 37800, \"departure_hour\": 10, \"time_of_day\": \"Midday\", \"p25\": 0.45, \"p50\": 0.5, \"p75\": 0.5, \"p50_trip\": 1, \"fastest_trip\": 0, \"car_duration_hours\": 0.3, \"competitive_route\": 1, \"bus_multiplier\": 1.67, \"bus_difference\": 12.0, \"num_trips\": 44, \"num_competitive\": 40, \"pct_trips_competitive\": 0.909, \"bus_difference_spread\": 25.8, \"route_group\": \"short\", \"max_trip_hrs\": 0.83, \"max_trip_route_group\": 0.83, \"below_cutoff\": 41, \"pct_below_cutoff\": 0.9318181818181818, \"name\": \"City of Laguna Beach\", \"caltrans_district\": \"12 - Irvine\", \"drmt_organization_name\": null, \"route_name\": \"Coastal Trolley\", \"cutoff2\": 20, \"cutoff\": 0}, {\"calitp_itp_id\": 154, \"trip_key\": -5287202720190875236, \"trip_id\": \"t_1552635_b_31068_tn_0\", \"shape_id\": \"p_1277982\", \"route_id\": \"19752\", \"service_hours\": 0.53, \"trip_first_departure_ts\": 54600, \"trip_last_arrival_ts\": 56520, \"departure_hour\": 15, \"time_of_day\": \"Midday\", \"p25\": 0.45, \"p50\": 0.5, \"p75\": 0.5, \"p50_trip\": 0, \"fastest_trip\": 0, \"car_duration_hours\": 0.3, \"competitive_route\": 1, \"bus_multiplier\": 1.77, \"bus_difference\": 13.8, \"num_trips\": 44, \"num_competitive\": 40, \"pct_trips_competitive\": 0.909, \"bus_difference_spread\": 25.8, \"route_group\": \"short\", \"max_trip_hrs\": 0.83, \"max_trip_route_group\": 0.83, \"below_cutoff\": 41, \"pct_below_cutoff\": 0.9318181818181818, \"name\": \"City of Laguna Beach\", \"caltrans_district\": \"12 - Irvine\", \"drmt_organization_name\": null, \"route_name\": \"Coastal Trolley\", \"cutoff2\": 20, \"cutoff\": 0}, {\"calitp_itp_id\": 154, \"trip_key\": 3920587676646212300, \"trip_id\": \"t_1552634_b_31068_tn_0\", \"shape_id\": \"p_1277982\", \"route_id\": \"19752\", \"service_hours\": 0.53, \"trip_first_departure_ts\": 52200, \"trip_last_arrival_ts\": 54120, \"departure_hour\": 14, \"time_of_day\": \"Midday\", \"p25\": 0.45, \"p50\": 0.5, \"p75\": 0.5, \"p50_trip\": 0, \"fastest_trip\": 0, \"car_duration_hours\": 0.3, \"competitive_route\": 1, \"bus_multiplier\": 1.77, \"bus_difference\": 13.8, \"num_trips\": 44, \"num_competitive\": 40, \"pct_trips_competitive\": 0.909, \"bus_difference_spread\": 25.8, \"route_group\": \"short\", \"max_trip_hrs\": 0.83, \"max_trip_route_group\": 0.83, \"below_cutoff\": 41, \"pct_below_cutoff\": 0.9318181818181818, \"name\": \"City of Laguna Beach\", \"caltrans_district\": \"12 - Irvine\", \"drmt_organization_name\": null, \"route_name\": \"Coastal Trolley\", \"cutoff2\": 20, \"cutoff\": 0}, {\"calitp_itp_id\": 154, \"trip_key\": -1863009604666829365, \"trip_id\": \"t_1552659_b_31068_tn_0\", \"shape_id\": \"p_1277985\", \"route_id\": \"19752\", \"service_hours\": 0.57, \"trip_first_departure_ts\": 61200, \"trip_last_arrival_ts\": 63240, \"departure_hour\": 17, \"time_of_day\": \"PM Peak\", \"p25\": 0.45, \"p50\": 0.5, \"p75\": 0.5, \"p50_trip\": 0, \"fastest_trip\": 0, \"car_duration_hours\": 0.3, \"competitive_route\": 1, \"bus_multiplier\": 1.9, \"bus_difference\": 16.2, \"num_trips\": 44, \"num_competitive\": 40, \"pct_trips_competitive\": 0.909, \"bus_difference_spread\": 25.8, \"route_group\": \"short\", \"max_trip_hrs\": 0.83, \"max_trip_route_group\": 0.83, \"below_cutoff\": 41, \"pct_below_cutoff\": 0.9318181818181818, \"name\": \"City of Laguna Beach\", \"caltrans_district\": \"12 - Irvine\", \"drmt_organization_name\": null, \"route_name\": \"Coastal Trolley\", \"cutoff2\": 20, \"cutoff\": 0}, {\"calitp_itp_id\": 154, \"trip_key\": -1572468369177639094, \"trip_id\": \"t_1552658_b_31068_tn_0\", \"shape_id\": \"p_1277985\", \"route_id\": \"19752\", \"service_hours\": 0.57, \"trip_first_departure_ts\": 58860, \"trip_last_arrival_ts\": 60900, \"departure_hour\": 16, \"time_of_day\": \"Midday\", \"p25\": 0.45, \"p50\": 0.5, \"p75\": 0.5, \"p50_trip\": 0, \"fastest_trip\": 0, \"car_duration_hours\": 0.3, \"competitive_route\": 1, \"bus_multiplier\": 1.9, \"bus_difference\": 16.2, \"num_trips\": 44, \"num_competitive\": 40, \"pct_trips_competitive\": 0.909, \"bus_difference_spread\": 25.8, \"route_group\": \"short\", \"max_trip_hrs\": 0.83, \"max_trip_route_group\": 0.83, \"below_cutoff\": 41, \"pct_below_cutoff\": 0.9318181818181818, \"name\": \"City of Laguna Beach\", \"caltrans_district\": \"12 - Irvine\", \"drmt_organization_name\": null, \"route_name\": \"Coastal Trolley\", \"cutoff2\": 20, \"cutoff\": 0}, {\"calitp_itp_id\": 154, \"trip_key\": -3781850863829068794, \"trip_id\": \"t_1552664_b_31068_tn_0\", \"shape_id\": \"p_1277983\", \"route_id\": \"19752\", \"service_hours\": 0.57, \"trip_first_departure_ts\": 54600, \"trip_last_arrival_ts\": 56640, \"departure_hour\": 15, \"time_of_day\": \"Midday\", \"p25\": 0.45, \"p50\": 0.5, \"p75\": 0.5, \"p50_trip\": 0, \"fastest_trip\": 0, \"car_duration_hours\": 0.3, \"competitive_route\": 1, \"bus_multiplier\": 1.9, \"bus_difference\": 16.2, \"num_trips\": 44, \"num_competitive\": 40, \"pct_trips_competitive\": 0.909, \"bus_difference_spread\": 25.8, \"route_group\": \"short\", \"max_trip_hrs\": 0.83, \"max_trip_route_group\": 0.83, \"below_cutoff\": 41, \"pct_below_cutoff\": 0.9318181818181818, \"name\": \"City of Laguna Beach\", \"caltrans_district\": \"12 - Irvine\", \"drmt_organization_name\": null, \"route_name\": \"Coastal Trolley\", \"cutoff2\": 20, \"cutoff\": 0}, {\"calitp_itp_id\": 154, \"trip_key\": -5022706857486323726, \"trip_id\": \"t_1552665_b_31068_tn_0\", \"shape_id\": \"p_1277983\", \"route_id\": \"19752\", \"service_hours\": 0.57, \"trip_first_departure_ts\": 57120, \"trip_last_arrival_ts\": 59160, \"departure_hour\": 15, \"time_of_day\": \"Midday\", \"p25\": 0.45, \"p50\": 0.5, \"p75\": 0.5, \"p50_trip\": 0, \"fastest_trip\": 0, \"car_duration_hours\": 0.3, \"competitive_route\": 1, \"bus_multiplier\": 1.9, \"bus_difference\": 16.2, \"num_trips\": 44, \"num_competitive\": 40, \"pct_trips_competitive\": 0.909, \"bus_difference_spread\": 25.8, \"route_group\": \"short\", \"max_trip_hrs\": 0.83, \"max_trip_route_group\": 0.83, \"below_cutoff\": 41, \"pct_below_cutoff\": 0.9318181818181818, \"name\": \"City of Laguna Beach\", \"caltrans_district\": \"12 - Irvine\", \"drmt_organization_name\": null, \"route_name\": \"Coastal Trolley\", \"cutoff2\": 20, \"cutoff\": 0}, {\"calitp_itp_id\": 154, \"trip_key\": -8787997531771117379, \"trip_id\": \"t_1552632_b_31068_tn_0\", \"shape_id\": \"p_1277984\", \"route_id\": \"19752\", \"service_hours\": 0.62, \"trip_first_departure_ts\": 49380, \"trip_last_arrival_ts\": 51600, \"departure_hour\": 13, \"time_of_day\": \"Midday\", \"p25\": 0.45, \"p50\": 0.5, \"p75\": 0.5, \"p50_trip\": 0, \"fastest_trip\": 0, \"car_duration_hours\": 0.3, \"competitive_route\": 1, \"bus_multiplier\": 2.07, \"bus_difference\": 19.2, \"num_trips\": 44, \"num_competitive\": 40, \"pct_trips_competitive\": 0.909, \"bus_difference_spread\": 25.8, \"route_group\": \"short\", \"max_trip_hrs\": 0.83, \"max_trip_route_group\": 0.83, \"below_cutoff\": 41, \"pct_below_cutoff\": 0.9318181818181818, \"name\": \"City of Laguna Beach\", \"caltrans_district\": \"12 - Irvine\", \"drmt_organization_name\": null, \"route_name\": \"Coastal Trolley\", \"cutoff2\": 20, \"cutoff\": 0}, {\"calitp_itp_id\": 154, \"trip_key\": -5536394200960152004, \"trip_id\": \"t_1552663_b_31068_tn_0\", \"shape_id\": \"p_1277983\", \"route_id\": \"19752\", \"service_hours\": 0.67, \"trip_first_departure_ts\": 52200, \"trip_last_arrival_ts\": 54600, \"departure_hour\": 14, \"time_of_day\": \"Midday\", \"p25\": 0.45, \"p50\": 0.5, \"p75\": 0.5, \"p50_trip\": 0, \"fastest_trip\": 0, \"car_duration_hours\": 0.3, \"competitive_route\": 1, \"bus_multiplier\": 2.23, \"bus_difference\": 22.2, \"num_trips\": 44, \"num_competitive\": 40, \"pct_trips_competitive\": 0.909, \"bus_difference_spread\": 25.8, \"route_group\": \"short\", \"max_trip_hrs\": 0.83, \"max_trip_route_group\": 0.83, \"below_cutoff\": 41, \"pct_below_cutoff\": 0.9318181818181818, \"name\": \"City of Laguna Beach\", \"caltrans_district\": \"12 - Irvine\", \"drmt_organization_name\": null, \"route_name\": \"Coastal Trolley\", \"cutoff2\": 20, \"cutoff\": 0}, {\"calitp_itp_id\": 154, \"trip_key\": 3617091447362278109, \"trip_id\": \"t_1552675_b_31068_tn_0\", \"shape_id\": \"p_1277985\", \"route_id\": \"19752\", \"service_hours\": 0.72, \"trip_first_departure_ts\": 46800, \"trip_last_arrival_ts\": 49380, \"departure_hour\": 13, \"time_of_day\": \"Midday\", \"p25\": 0.45, \"p50\": 0.5, \"p75\": 0.5, \"p50_trip\": 0, \"fastest_trip\": 0, \"car_duration_hours\": 0.3, \"competitive_route\": 1, \"bus_multiplier\": 2.4, \"bus_difference\": 25.2, \"num_trips\": 44, \"num_competitive\": 40, \"pct_trips_competitive\": 0.909, \"bus_difference_spread\": 25.8, \"route_group\": \"short\", \"max_trip_hrs\": 0.83, \"max_trip_route_group\": 0.83, \"below_cutoff\": 41, \"pct_below_cutoff\": 0.9318181818181818, \"name\": \"City of Laguna Beach\", \"caltrans_district\": \"12 - Irvine\", \"drmt_organization_name\": null, \"route_name\": \"Coastal Trolley\", \"cutoff2\": 20, \"cutoff\": 0}, {\"calitp_itp_id\": 154, \"trip_key\": -8557456779340071826, \"trip_id\": \"t_1552652_b_31068_tn_0\", \"shape_id\": \"p_1277985\", \"route_id\": \"19752\", \"service_hours\": 0.83, \"trip_first_departure_ts\": 49200, \"trip_last_arrival_ts\": 52200, \"departure_hour\": 13, \"time_of_day\": \"Midday\", \"p25\": 0.45, \"p50\": 0.5, \"p75\": 0.5, \"p50_trip\": 0, \"fastest_trip\": 0, \"car_duration_hours\": 0.3, \"competitive_route\": 1, \"bus_multiplier\": 2.77, \"bus_difference\": 31.8, \"num_trips\": 44, \"num_competitive\": 40, \"pct_trips_competitive\": 0.909, \"bus_difference_spread\": 25.8, \"route_group\": \"short\", \"max_trip_hrs\": 0.83, \"max_trip_route_group\": 0.83, \"below_cutoff\": 41, \"pct_below_cutoff\": 0.9318181818181818, \"name\": \"City of Laguna Beach\", \"caltrans_district\": \"12 - Irvine\", \"drmt_organization_name\": null, \"route_name\": \"Coastal Trolley\", \"cutoff2\": 20, \"cutoff\": 0}]}}, {\"mode\": \"vega-lite\"});\n",
       "</script>"
      ],
      "text/plain": [
       "alt.FacetChart(...)"
      ]
     },
     "metadata": {},
     "output_type": "display_data"
    },
    {
     "data": {
      "text/html": [
       "<h4>Route Stats</h4>"
      ],
      "text/plain": [
       "<IPython.core.display.HTML object>"
      ]
     },
     "metadata": {},
     "output_type": "display_data"
    },
    {
     "data": {
      "text/html": [
       "<style type=\"text/css\">\n",
       "</style>\n",
       "<table id=\"T_253d4\">\n",
       "  <thead>\n",
       "    <tr>\n",
       "      <th id=\"T_253d4_level0_col0\" class=\"col_heading level0 col0\" >Route ID</th>\n",
       "      <th id=\"T_253d4_level0_col1\" class=\"col_heading level0 col1\" >Route Name</th>\n",
       "      <th id=\"T_253d4_level0_col2\" class=\"col_heading level0 col2\" ># trips</th>\n",
       "      <th id=\"T_253d4_level0_col3\" class=\"col_heading level0 col3\" >Daily Avg Frequency (trips per hr)</th>\n",
       "      <th id=\"T_253d4_level0_col4\" class=\"col_heading level0 col4\" >25th, 50th, 75th ptile (hrs)</th>\n",
       "      <th id=\"T_253d4_level0_col5\" class=\"col_heading level0 col5\" >PM Peak Avg Frequency (trips per hr)</th>\n",
       "    </tr>\n",
       "  </thead>\n",
       "  <tbody>\n",
       "    <tr>\n",
       "      <td id=\"T_253d4_row0_col0\" class=\"data row0 col0\" >19752</td>\n",
       "      <td id=\"T_253d4_row0_col1\" class=\"data row0 col1\" >Coastal Trolley</td>\n",
       "      <td id=\"T_253d4_row0_col2\" class=\"data row0 col2\" >44</td>\n",
       "      <td id=\"T_253d4_row0_col3\" class=\"data row0 col3\" >1.83</td>\n",
       "      <td id=\"T_253d4_row0_col4\" class=\"data row0 col4\" >0.45, 0.5, 0.5</td>\n",
       "      <td id=\"T_253d4_row0_col5\" class=\"data row0 col5\" >1.67</td>\n",
       "    </tr>\n",
       "  </tbody>\n",
       "</table>\n"
      ],
      "text/plain": [
       "<IPython.core.display.HTML object>"
      ]
     },
     "metadata": {},
     "output_type": "display_data"
    }
   ],
   "source": [
    "# Allow for possibility that operator doesn't have routes that fall into certain route_groups\n",
    "# But, jupyterbook will not like markdown with f-string\n",
    "# separate out route_group and put in each cell, and use try/except + if to display...\n",
    "# but all 3 route groups must be displayed. just add sentence about why no routes were returned at the end\n",
    "route_group = \"short\"\n",
    "try:\n",
    "    display_charts_for_route_group(df, route_group)\n",
    "except:\n",
    "    print(\"No routes meet this criteria.\")"
   ]
  },
  {
   "cell_type": "markdown",
   "id": "c2931b6f-034d-4384-9e14-80b925e3b820",
   "metadata": {
    "papermill": {
     "duration": 0.017469,
     "end_time": "2022-05-11T22:42:58.721654",
     "exception": false,
     "start_time": "2022-05-11T22:42:58.704185",
     "status": "completed"
    },
    "tags": []
   },
   "source": [
    "### Medium Routes (1-1.5 hrs)"
   ]
  },
  {
   "cell_type": "code",
   "execution_count": 15,
   "id": "480edddc-4de0-48c2-ae4c-b0ceef8f28b5",
   "metadata": {
    "execution": {
     "iopub.execute_input": "2022-05-11T22:42:58.760103Z",
     "iopub.status.busy": "2022-05-11T22:42:58.758579Z",
     "iopub.status.idle": "2022-05-11T22:42:58.772199Z",
     "shell.execute_reply": "2022-05-11T22:42:58.771374Z"
    },
    "jupyter": {
     "source_hidden": true
    },
    "papermill": {
     "duration": 0.034469,
     "end_time": "2022-05-11T22:42:58.774006",
     "exception": false,
     "start_time": "2022-05-11T22:42:58.739537",
     "status": "completed"
    },
    "tags": [
     "remove_input"
    ]
   },
   "outputs": [
    {
     "name": "stdout",
     "output_type": "stream",
     "text": [
      "No routes meet this criteria.\n"
     ]
    }
   ],
   "source": [
    "route_group = \"medium\"\n",
    "try:\n",
    "    display_charts_for_route_group(df, route_group)\n",
    "except:\n",
    "    print(\"No routes meet this criteria.\")"
   ]
  },
  {
   "cell_type": "markdown",
   "id": "124b76d0-886c-4d03-92ac-f1bda3cda182",
   "metadata": {
    "papermill": {
     "duration": 0.018681,
     "end_time": "2022-05-11T22:42:58.821254",
     "exception": false,
     "start_time": "2022-05-11T22:42:58.802573",
     "status": "completed"
    },
    "tags": []
   },
   "source": [
    "### Long Routes (> 1.5 hrs)"
   ]
  },
  {
   "cell_type": "code",
   "execution_count": 16,
   "id": "ddc81b19-4c45-4c81-8b7a-5e0f394aa7a3",
   "metadata": {
    "execution": {
     "iopub.execute_input": "2022-05-11T22:42:58.859001Z",
     "iopub.status.busy": "2022-05-11T22:42:58.858751Z",
     "iopub.status.idle": "2022-05-11T22:42:58.870674Z",
     "shell.execute_reply": "2022-05-11T22:42:58.870068Z"
    },
    "jupyter": {
     "source_hidden": true
    },
    "papermill": {
     "duration": 0.032589,
     "end_time": "2022-05-11T22:42:58.872370",
     "exception": false,
     "start_time": "2022-05-11T22:42:58.839781",
     "status": "completed"
    },
    "tags": [
     "remove_input"
    ]
   },
   "outputs": [
    {
     "name": "stdout",
     "output_type": "stream",
     "text": [
      "No routes meet this criteria.\n"
     ]
    }
   ],
   "source": [
    "route_group = \"long\"\n",
    "try:\n",
    "    display_charts_for_route_group(df, route_group)\n",
    "except:\n",
    "    print(\"No routes meet this criteria.\")"
   ]
  },
  {
   "cell_type": "markdown",
   "id": "ace75b5f-0442-4fbe-aebd-6c3a13ae13a7",
   "metadata": {
    "papermill": {
     "duration": 0.017654,
     "end_time": "2022-05-11T22:42:58.921695",
     "exception": false,
     "start_time": "2022-05-11T22:42:58.904041",
     "status": "completed"
    },
    "tags": []
   },
   "source": [
    "### GTFS Real-Time Speedmaps"
   ]
  },
  {
   "cell_type": "code",
   "execution_count": 17,
   "id": "a0a114a1-e975-4027-9daf-50029f5ef59f",
   "metadata": {
    "execution": {
     "iopub.execute_input": "2022-05-11T22:42:58.961298Z",
     "iopub.status.busy": "2022-05-11T22:42:58.960602Z",
     "iopub.status.idle": "2022-05-11T22:42:58.983499Z",
     "shell.execute_reply": "2022-05-11T22:42:58.982922Z"
    },
    "jupyter": {
     "source_hidden": true
    },
    "papermill": {
     "duration": 0.049309,
     "end_time": "2022-05-11T22:42:58.990395",
     "exception": false,
     "start_time": "2022-05-11T22:42:58.941086",
     "status": "completed"
    },
    "tags": [
     "remove_input"
    ]
   },
   "outputs": [
    {
     "data": {
      "text/html": [
       "No GTFS RT data available."
      ],
      "text/plain": [
       "<IPython.core.display.HTML object>"
      ]
     },
     "metadata": {},
     "output_type": "display_data"
    }
   ],
   "source": [
    "RT_SITE_YAML = \"../portfolio/sites/rt.yml\"\n",
    "\n",
    "# Grab list of ITP IDs with GTFS RT speedmaps\n",
    "rt_itp_id = deploy_portfolio_yaml.check_if_rt_data_available(RT_SITE_YAML)\n",
    "\n",
    "# Construct the URL \n",
    "RT_URL = (\"https://analysis.calitp.org/rt/\"\n",
    "          f\"district_{district_number}-{district_name}/\"\n",
    "          f\"speedmaps__itp_id_{itp_id}.html\"\n",
    "         ) \n",
    "\n",
    "# If this ITP ID is found in RT analysis, give URL to that operator in analysis.calitp.org\n",
    "if itp_id in rt_itp_id:\n",
    "    display(HTML(f'''<a href={RT_URL}>GTFS RT speedmaps here.</a>'''))\n",
    "\n",
    "else:\n",
    "    display(HTML(\"No GTFS RT data available.\"))"
   ]
  },
  {
   "cell_type": "code",
   "execution_count": null,
   "id": "5b680565-2230-4f2e-817c-718fad48d64c",
   "metadata": {
    "jupyter": {
     "source_hidden": true
    },
    "papermill": {
     "duration": 0.018789,
     "end_time": "2022-05-11T22:42:59.028647",
     "exception": false,
     "start_time": "2022-05-11T22:42:59.009858",
     "status": "completed"
    },
    "tags": [
     "remove_input"
    ]
   },
   "outputs": [],
   "source": []
  }
 ],
 "metadata": {
  "kernelspec": {
   "display_name": "Python 3 (ipykernel)",
   "language": "python",
   "name": "python3"
  },
  "language_info": {
   "codemirror_mode": {
    "name": "ipython",
    "version": 3
   },
   "file_extension": ".py",
   "mimetype": "text/x-python",
   "name": "python",
   "nbconvert_exporter": "python",
   "pygments_lexer": "ipython3",
   "version": "3.9.12"
  },
  "papermill": {
   "default_parameters": {},
   "duration": 24.127341,
   "end_time": "2022-05-11T22:43:00.271968",
   "environment_variables": {},
   "exception": null,
   "input_path": "bus_service_increase/competitive-parallel-routes.ipynb",
   "output_path": "portfolio/parallel_corridors/district_12-irvine/1__competitive-parallel-routes__district_12-irvine__itp_id_154.ipynb",
   "parameters": {
    "district": "12 - Irvine",
    "itp_id": 154
   },
   "start_time": "2022-05-11T22:42:36.144627",
   "version": "2.3.4"
  }
 },
 "nbformat": 4,
 "nbformat_minor": 5
}