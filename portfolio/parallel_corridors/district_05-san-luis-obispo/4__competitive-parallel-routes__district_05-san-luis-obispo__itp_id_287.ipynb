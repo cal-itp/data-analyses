{
 "cells": [
  {
   "cell_type": "code",
   "execution_count": 1,
   "id": "95d00857-6a20-4529-a519-2cc7182928a9",
   "metadata": {
    "execution": {
     "iopub.execute_input": "2022-05-11T22:08:09.275262Z",
     "iopub.status.busy": "2022-05-11T22:08:09.274597Z",
     "iopub.status.idle": "2022-05-11T22:08:17.265058Z",
     "shell.execute_reply": "2022-05-11T22:08:17.264051Z"
    },
    "jupyter": {
     "source_hidden": true
    },
    "papermill": {
     "duration": 8.007569,
     "end_time": "2022-05-11T22:08:17.267601",
     "exception": false,
     "start_time": "2022-05-11T22:08:09.260032",
     "status": "completed"
    },
    "tags": [
     "remove_input"
    ]
   },
   "outputs": [],
   "source": [
    "%%capture\n",
    "import warnings\n",
    "warnings.filterwarnings('ignore')\n",
    "\n",
    "import altair as alt\n",
    "import calitp.magics\n",
    "import geopandas as gpd\n",
    "import intake\n",
    "import pandas as pd\n",
    "\n",
    "from IPython.display import display, Markdown, HTML\n",
    "\n",
    "import parallel_corridors_utils\n",
    "import deploy_portfolio_yaml\n",
    "from shared_utils import styleguide, geography_utils\n",
    "from make_stripplot_data import diff_cutoffs\n",
    "\n",
    "catalog = intake.open_catalog(\"./*.yml\")\n",
    "alt.renderers.enable(\"html\")"
   ]
  },
  {
   "cell_type": "code",
   "execution_count": 2,
   "id": "8af2a0c1-f3da-408d-9bea-11d9fbf8695d",
   "metadata": {
    "execution": {
     "iopub.execute_input": "2022-05-11T22:08:17.302070Z",
     "iopub.status.busy": "2022-05-11T22:08:17.301791Z",
     "iopub.status.idle": "2022-05-11T22:08:17.305841Z",
     "shell.execute_reply": "2022-05-11T22:08:17.305086Z"
    },
    "jupyter": {
     "source_hidden": true
    },
    "papermill": {
     "duration": 0.026456,
     "end_time": "2022-05-11T22:08:17.307639",
     "exception": false,
     "start_time": "2022-05-11T22:08:17.281183",
     "status": "completed"
    },
    "tags": [
     "parameters",
     "remove_input"
    ]
   },
   "outputs": [],
   "source": [
    "# parameters cell\n",
    "itp_id = 182"
   ]
  },
  {
   "cell_type": "code",
   "execution_count": 3,
   "id": "3a3df59c",
   "metadata": {
    "execution": {
     "iopub.execute_input": "2022-05-11T22:08:17.335272Z",
     "iopub.status.busy": "2022-05-11T22:08:17.334652Z",
     "iopub.status.idle": "2022-05-11T22:08:17.338781Z",
     "shell.execute_reply": "2022-05-11T22:08:17.338293Z"
    },
    "jupyter": {
     "source_hidden": true
    },
    "papermill": {
     "duration": 0.019306,
     "end_time": "2022-05-11T22:08:17.340340",
     "exception": false,
     "start_time": "2022-05-11T22:08:17.321034",
     "status": "completed"
    },
    "tags": [
     "injected-parameters",
     "remove_input"
    ]
   },
   "outputs": [],
   "source": [
    "# Parameters\n",
    "district = \"05 - San Luis Obispo\"\n",
    "itp_id = 287\n"
   ]
  },
  {
   "cell_type": "code",
   "execution_count": 4,
   "id": "9582aaf4-79ff-412a-b248-8d8d693ebd4f",
   "metadata": {
    "execution": {
     "iopub.execute_input": "2022-05-11T22:08:17.377254Z",
     "iopub.status.busy": "2022-05-11T22:08:17.376550Z",
     "iopub.status.idle": "2022-05-11T22:08:18.600334Z",
     "shell.execute_reply": "2022-05-11T22:08:18.599693Z"
    },
    "jupyter": {
     "source_hidden": true
    },
    "papermill": {
     "duration": 1.24781,
     "end_time": "2022-05-11T22:08:18.602633",
     "exception": false,
     "start_time": "2022-05-11T22:08:17.354823",
     "status": "completed"
    },
    "tags": [
     "remove_input"
    ]
   },
   "outputs": [],
   "source": [
    "df = catalog.competitive_route_variability.read()\n",
    "\n",
    "df = (df[(df.calitp_itp_id == itp_id) & \n",
    "         (df.route_group.notna())]\n",
    "      .rename(columns = {\"route_name_used\": \"route_name\"})\n",
    "      .reset_index(drop=True)\n",
    "     )\n",
    "\n",
    "if itp_id == 182:\n",
    "    df = df.assign(\n",
    "        route_id = df.route_id.str.replace('-13153', '').astype(int)\n",
    "    )"
   ]
  },
  {
   "cell_type": "code",
   "execution_count": 5,
   "id": "33ac4b06-f647-4dce-a625-8f2c1b37cc60",
   "metadata": {
    "execution": {
     "iopub.execute_input": "2022-05-11T22:08:18.630116Z",
     "iopub.status.busy": "2022-05-11T22:08:18.629561Z",
     "iopub.status.idle": "2022-05-11T22:08:18.637542Z",
     "shell.execute_reply": "2022-05-11T22:08:18.637025Z"
    },
    "jupyter": {
     "source_hidden": true
    },
    "papermill": {
     "duration": 0.02399,
     "end_time": "2022-05-11T22:08:18.639169",
     "exception": false,
     "start_time": "2022-05-11T22:08:18.615179",
     "status": "completed"
    },
    "tags": [
     "remove_input"
    ]
   },
   "outputs": [],
   "source": [
    "%%capture_parameters\n",
    "operator_name = df.name.iloc[0]\n",
    "district_number = f\"{df.caltrans_district.iloc[0].split('-')[0].strip()}\"\n",
    "district_name = f\"{df.caltrans_district.iloc[0].split('-')[1].strip().lower().replace(' ', '-')}\"\n",
    "\n",
    "itp_id, operator_name, district_number, district_name"
   ]
  },
  {
   "cell_type": "markdown",
   "id": "65bc6f5c-8348-42ee-b2dd-52057c406852",
   "metadata": {
    "papermill": {
     "duration": 0.015094,
     "end_time": "2022-05-11T22:08:18.666103",
     "exception": false,
     "start_time": "2022-05-11T22:08:18.651009",
     "status": "completed"
    },
    "tags": []
   },
   "source": [
    "# City of San Luis Obispo (ITP ID: 287)"
   ]
  },
  {
   "cell_type": "code",
   "execution_count": 6,
   "id": "a689c1ab-2c6c-4831-8d64-897f5986f571",
   "metadata": {
    "execution": {
     "iopub.execute_input": "2022-05-11T22:08:18.693009Z",
     "iopub.status.busy": "2022-05-11T22:08:18.692512Z",
     "iopub.status.idle": "2022-05-11T22:08:18.698145Z",
     "shell.execute_reply": "2022-05-11T22:08:18.697609Z"
    },
    "jupyter": {
     "source_hidden": true
    },
    "papermill": {
     "duration": 0.021194,
     "end_time": "2022-05-11T22:08:18.699727",
     "exception": false,
     "start_time": "2022-05-11T22:08:18.678533",
     "status": "completed"
    },
    "tags": [
     "remove_input"
    ]
   },
   "outputs": [
    {
     "data": {
      "text/html": [
       "<h1>Competitive & Parallel Routes</h1>"
      ],
      "text/plain": [
       "<IPython.core.display.HTML object>"
      ]
     },
     "metadata": {},
     "output_type": "display_data"
    }
   ],
   "source": [
    "display(HTML(\"<h1>Competitive & Parallel Routes</h1>\")) "
   ]
  },
  {
   "cell_type": "code",
   "execution_count": 7,
   "id": "2cb4d8d5-4760-40e4-85b1-cb833d8bb648",
   "metadata": {
    "execution": {
     "iopub.execute_input": "2022-05-11T22:08:18.727571Z",
     "iopub.status.busy": "2022-05-11T22:08:18.727038Z",
     "iopub.status.idle": "2022-05-11T22:08:29.021029Z",
     "shell.execute_reply": "2022-05-11T22:08:29.020182Z"
    },
    "jupyter": {
     "source_hidden": true
    },
    "papermill": {
     "duration": 10.311701,
     "end_time": "2022-05-11T22:08:29.023728",
     "exception": false,
     "start_time": "2022-05-11T22:08:18.712027",
     "status": "completed"
    },
    "tags": [
     "remove_input"
    ]
   },
   "outputs": [],
   "source": [
    "# Grab parameters for narrative text - clean up formatting here \n",
    "district = df.caltrans_district.iloc[0]\n",
    "formatted_date = pd.to_datetime(parallel_corridors_utils.SELECTED_DATE).strftime('%m-%d-%Y')\n",
    "\n",
    "PCT_COMPETITIVE_THRESHOLD = 0.75\n",
    "PCT_TRIPS_BELOW_CUTOFF = 0.50\n",
    "\n",
    "stats = parallel_corridors_utils.operator_parallel_competitive_stats(\n",
    "    itp_id, PCT_COMPETITIVE_THRESHOLD, PCT_TRIPS_BELOW_CUTOFF)\n",
    "\n",
    "pct_parallel = round(stats['parallel_routes'] / stats['num_routes'] * 100, 1 )\n",
    "pct_competitive =  round(stats['competitive_routes'] / stats['num_routes'] * 100, 1 )\n",
    "pct_viable =  round(stats['viable_competitive_routes'] / stats['num_routes'] * 100, 1 )"
   ]
  },
  {
   "cell_type": "code",
   "execution_count": 8,
   "id": "8bf30c8f-6aa5-47bb-82ae-a906732e81fd",
   "metadata": {
    "execution": {
     "iopub.execute_input": "2022-05-11T22:08:29.051757Z",
     "iopub.status.busy": "2022-05-11T22:08:29.051424Z",
     "iopub.status.idle": "2022-05-11T22:08:29.083349Z",
     "shell.execute_reply": "2022-05-11T22:08:29.082188Z"
    },
    "jupyter": {
     "source_hidden": true
    },
    "papermill": {
     "duration": 0.053052,
     "end_time": "2022-05-11T22:08:29.089835",
     "exception": false,
     "start_time": "2022-05-11T22:08:29.036783",
     "status": "completed"
    },
    "tags": [
     "remove_input"
    ]
   },
   "outputs": [],
   "source": [
    "# Display a table of route-level stats for each route_group\n",
    "# Displaying route_name makes chart too crowded\n",
    "\n",
    "# Get route stats (for entire df)\n",
    "route_stats = parallel_corridors_utils.competitive_route_level_stats(df)\n",
    "    \n",
    "def style_route_stats(df, top15_routes):\n",
    "    df = df[df.route_id.isin(top15_routes)]\n",
    "    \n",
    "    # Rename columns for display\n",
    "    rename_cols = {\n",
    "        \"route_id\": \"Route ID\",\n",
    "        \"route_name\": \"Route Name\",\n",
    "        \"route_group\": \"Route Group\",\n",
    "        \"num_trips\": \"# trips\",\n",
    "        \"daily_avg_freq\": \"Daily Avg Frequency (trips per hr)\",\n",
    "        \"pm_peak_freq\": \"PM Peak Avg Frequency (trips per hr)\",\n",
    "        \"percentiles\": \"25th, 50th, 75th ptile (hrs)\",\n",
    "    }\n",
    "    \n",
    "    # Style it\n",
    "    drop_cols = [\n",
    "        \"calitp_itp_id\", \"below_cutoff\", \"route_group\", \n",
    "        \"pct_trips_competitive\", \"pct_below_cutoff\",\n",
    "        \"p25\", \"p50\", \"p75\",\n",
    "    ]\n",
    "    \n",
    "    df_style = (df.sort_values(\n",
    "        [\"pct_trips_competitive\", \"below_cutoff\", \n",
    "        \"pct_below_cutoff\", \"route_id\"], \n",
    "        ascending=[False, False, False, True])\n",
    "           .drop(columns = drop_cols)\n",
    "           .rename(columns = rename_cols)\n",
    "           .style.format({\n",
    "               #'% trips within 2x car travel': '{:,.1%}', \n",
    "               'Daily Avg Frequency (trips per hr)': '{:,.3}',\n",
    "               'PM Peak Avg Frequency (trips per hr)': '{:,.3}',\n",
    "           })\n",
    "           .hide(axis=\"index\")\n",
    "           .to_html()\n",
    "          )\n",
    "    \n",
    "    display(HTML(\"<h4>Route Stats</h4>\"))\n",
    "    display(HTML(df_style))"
   ]
  },
  {
   "cell_type": "markdown",
   "id": "ab667928-5274-4490-82d9-4c39293209a4",
   "metadata": {
    "papermill": {
     "duration": 0.01313,
     "end_time": "2022-05-11T22:08:29.116496",
     "exception": false,
     "start_time": "2022-05-11T22:08:29.103366",
     "status": "completed"
    },
    "tags": []
   },
   "source": [
    "## Quick Stats"
   ]
  },
  {
   "cell_type": "code",
   "execution_count": 9,
   "id": "0416509d-dc62-4165-b62e-64f8b26e8b8e",
   "metadata": {
    "execution": {
     "iopub.execute_input": "2022-05-11T22:08:29.148469Z",
     "iopub.status.busy": "2022-05-11T22:08:29.148107Z",
     "iopub.status.idle": "2022-05-11T22:08:29.157022Z",
     "shell.execute_reply": "2022-05-11T22:08:29.156305Z"
    },
    "jupyter": {
     "source_hidden": true
    },
    "papermill": {
     "duration": 0.033139,
     "end_time": "2022-05-11T22:08:29.162171",
     "exception": false,
     "start_time": "2022-05-11T22:08:29.129032",
     "status": "completed"
    },
    "tags": [
     "remove_input"
    ]
   },
   "outputs": [
    {
     "data": {
      "text/markdown": [
       "**Bus routes in service: 6**<br>**Parallel routes** to State Highway Network (SHN): **3 routes (50.0%)**<br>**Competitive routes** against car travel (within 2x car travel time): **3 routes (50.0%)**<br>**Viable competitive routes** against car travel (within 2x car travel time and within 20, 30, or 40 min cut-off): **1 routes (16.7%)**"
      ],
      "text/plain": [
       "<IPython.core.display.Markdown object>"
      ]
     },
     "metadata": {},
     "output_type": "display_data"
    }
   ],
   "source": [
    "display(\n",
    "    Markdown(\n",
    "        f\"**Bus routes in service: {stats['num_routes']}**\"\n",
    "        \"<br>**Parallel routes** to State Highway Network (SHN): \"\n",
    "        f\"**{stats['parallel_routes']} routes ({pct_parallel}%)**\"\n",
    "        \"<br>**Competitive routes** against car travel (within 2x car travel time): \"\n",
    "        f\"**{stats['competitive_routes']} routes ({pct_competitive}%)**\"\n",
    "        \"<br>**Viable competitive routes** against car travel \"\n",
    "        \"(within 2x car travel time and within 20, 30, or 40 min cut-off): \"\n",
    "        f\"**{stats['viable_competitive_routes']} routes ({pct_viable}%)**\"\n",
    "    )\n",
    ")"
   ]
  },
  {
   "cell_type": "code",
   "execution_count": 10,
   "id": "f9d6ab58-f0ee-460c-b6de-657490e1f386",
   "metadata": {
    "execution": {
     "iopub.execute_input": "2022-05-11T22:08:29.214967Z",
     "iopub.status.busy": "2022-05-11T22:08:29.214414Z",
     "iopub.status.idle": "2022-05-11T22:08:29.220680Z",
     "shell.execute_reply": "2022-05-11T22:08:29.219914Z"
    },
    "jupyter": {
     "source_hidden": true
    },
    "papermill": {
     "duration": 0.023073,
     "end_time": "2022-05-11T22:08:29.222520",
     "exception": false,
     "start_time": "2022-05-11T22:08:29.199447",
     "status": "completed"
    },
    "tags": [
     "remove_input"
    ]
   },
   "outputs": [],
   "source": [
    "def set_yaxis_range(df, y_col):\n",
    "    Y_MIN = df[y_col].min()\n",
    "    Y_MAX = df[y_col].max()\n",
    "    \n",
    "    return Y_MIN, Y_MAX\n",
    "\n",
    "# Rather than set it according to the operator, which can vary,\n",
    "# just use set thresholds for each group\n",
    "def top15_routes(df, route_group):\n",
    "    # grab top 15 routes where majority of trips are below that cut-off \n",
    "    # but show 15 max, otherwise, show less, since these won't be as interesting to operators\n",
    "    df2 = (df[(df.route_group==route_group) &\n",
    "              (df.pct_below_cutoff >= PCT_TRIPS_BELOW_CUTOFF)]\n",
    "           .sort_values([\"calitp_itp_id\", \"below_cutoff\", \n",
    "                         \"pct_below_cutoff\", \"route_id\"],\n",
    "                        ascending = [True, False, False, True]\n",
    "                       )\n",
    "           .drop_duplicates(subset=[\"calitp_itp_id\", \"route_id\"])\n",
    "          ).head(15)\n",
    "    \n",
    "    return list(df2.route_id)"
   ]
  },
  {
   "cell_type": "code",
   "execution_count": 11,
   "id": "cf36d559-3349-4144-8086-8ac9ce937a5a",
   "metadata": {
    "execution": {
     "iopub.execute_input": "2022-05-11T22:08:29.251087Z",
     "iopub.status.busy": "2022-05-11T22:08:29.249759Z",
     "iopub.status.idle": "2022-05-11T22:08:29.255927Z",
     "shell.execute_reply": "2022-05-11T22:08:29.255427Z"
    },
    "jupyter": {
     "source_hidden": true
    },
    "papermill": {
     "duration": 0.022433,
     "end_time": "2022-05-11T22:08:29.257765",
     "exception": false,
     "start_time": "2022-05-11T22:08:29.235332",
     "status": "completed"
    },
    "tags": [
     "remove_input"
    ]
   },
   "outputs": [],
   "source": [
    "def caption_with_cutoff(cutoff):\n",
    "    sentence = (\n",
    "        f\"<br>These are routes that have **at least {int(PCT_TRIPS_BELOW_CUTOFF*100)}% \"\n",
    "        \"of their trips take no more than an \"\n",
    "        f\"additional {cutoff} min** compared to a car \"\n",
    "        \"(up to 15 routes) are shown.\"\n",
    "        \"<br>Within each route group, routes are sorted in descending order \"\n",
    "        \"by % competitive trips and # trips below the additional time cut-off.\"\n",
    "    )\n",
    "    return sentence\n",
    "\n",
    "CAPTIONS_DICT = {\n",
    "    \"short\": caption_with_cutoff(diff_cutoffs['short']),\n",
    "    \"medium\": caption_with_cutoff(diff_cutoffs['medium']),\n",
    "    \"long\": caption_with_cutoff(diff_cutoffs['long']),\n",
    "}"
   ]
  },
  {
   "cell_type": "code",
   "execution_count": 12,
   "id": "e4306d58-6944-47e9-afef-5d5b524c751f",
   "metadata": {
    "execution": {
     "iopub.execute_input": "2022-05-11T22:08:29.293155Z",
     "iopub.status.busy": "2022-05-11T22:08:29.292620Z",
     "iopub.status.idle": "2022-05-11T22:08:29.299814Z",
     "shell.execute_reply": "2022-05-11T22:08:29.299295Z"
    },
    "jupyter": {
     "source_hidden": true
    },
    "papermill": {
     "duration": 0.031166,
     "end_time": "2022-05-11T22:08:29.301878",
     "exception": false,
     "start_time": "2022-05-11T22:08:29.270712",
     "status": "completed"
    },
    "tags": [
     "remove_input"
    ]
   },
   "outputs": [],
   "source": [
    "def setup_charts(df, PCT_COMPETITIVE_THRESHOLD, route_group):\n",
    "    # Set up df for charting (cut-off at some threshold to show most competitive routes)\n",
    "    plot_me = (df[df.pct_trips_competitive > PCT_COMPETITIVE_THRESHOLD]\n",
    "           .drop(columns = \"geometry\")\n",
    "    )\n",
    "    \n",
    "    # Set y-ranges to be the same across route_groups, \n",
    "    # otherwise charts fluctuate too much, even within operator\n",
    "    y_col1 = \"bus_multiplier\"\n",
    "    Y_MIN1, Y_MAX1 = set_yaxis_range(plot_me, y_col1)\n",
    "\n",
    "    y_col2 = \"bus_difference\"\n",
    "    Y_MIN2, Y_MAX2 = set_yaxis_range(plot_me, y_col2)\n",
    "    \n",
    "    # Grab the routes to plot\n",
    "    subset_routes = top15_routes(plot_me, route_group)\n",
    "        \n",
    "    # Display charts\n",
    "    multiplier_chart = parallel_corridors_utils.make_stripplot(\n",
    "        plot_me[plot_me.route_id.isin(subset_routes)], \n",
    "        y_col1, Y_MIN = Y_MIN1, Y_MAX = Y_MAX1\n",
    "    )\n",
    "    \n",
    "    difference_chart = parallel_corridors_utils.make_stripplot(\n",
    "        plot_me[plot_me.route_id.isin(subset_routes)], \n",
    "        y_col2, Y_MIN = Y_MIN2, Y_MAX = Y_MAX2\n",
    "    )\n",
    "    \n",
    "    return subset_routes, multiplier_chart, difference_chart            "
   ]
  },
  {
   "cell_type": "code",
   "execution_count": 13,
   "id": "33a710e8-504c-4942-aa75-ff69f216956e",
   "metadata": {
    "execution": {
     "iopub.execute_input": "2022-05-11T22:08:29.334640Z",
     "iopub.status.busy": "2022-05-11T22:08:29.333805Z",
     "iopub.status.idle": "2022-05-11T22:08:29.339317Z",
     "shell.execute_reply": "2022-05-11T22:08:29.338759Z"
    },
    "jupyter": {
     "source_hidden": true
    },
    "papermill": {
     "duration": 0.02487,
     "end_time": "2022-05-11T22:08:29.341461",
     "exception": false,
     "start_time": "2022-05-11T22:08:29.316591",
     "status": "completed"
    },
    "tags": [
     "remove_input"
    ]
   },
   "outputs": [],
   "source": [
    "def display_charts_for_route_group(df, route_group):    \n",
    "    subset_routes, mult, diff  = setup_charts(df, PCT_COMPETITIVE_THRESHOLD, route_group)\n",
    "\n",
    "    if len(subset_routes) > 0:\n",
    "        display(Markdown(f\"{CAPTIONS_DICT[route_group]}\"))\n",
    "\n",
    "        display(mult)\n",
    "        display(diff)\n",
    "        \n",
    "        # Display route stats for just plotted routes\n",
    "        style_route_stats(route_stats, subset_routes)"
   ]
  },
  {
   "cell_type": "markdown",
   "id": "525f9b38-072b-46d1-96a8-1aa4b038357c",
   "metadata": {
    "papermill": {
     "duration": 0.030342,
     "end_time": "2022-05-11T22:08:29.393844",
     "exception": false,
     "start_time": "2022-05-11T22:08:29.363502",
     "status": "completed"
    },
    "tags": []
   },
   "source": [
    "## Viable Competitive Routes\n",
    "### Short Routes (< 1 hr)"
   ]
  },
  {
   "cell_type": "code",
   "execution_count": 14,
   "id": "57f7084c-2cf7-45c6-ba08-1609e0bd6ca5",
   "metadata": {
    "execution": {
     "iopub.execute_input": "2022-05-11T22:08:29.427283Z",
     "iopub.status.busy": "2022-05-11T22:08:29.426693Z",
     "iopub.status.idle": "2022-05-11T22:08:29.693863Z",
     "shell.execute_reply": "2022-05-11T22:08:29.693342Z"
    },
    "jupyter": {
     "source_hidden": true
    },
    "papermill": {
     "duration": 0.283927,
     "end_time": "2022-05-11T22:08:29.695632",
     "exception": false,
     "start_time": "2022-05-11T22:08:29.411705",
     "status": "completed"
    },
    "tags": [
     "remove_input"
    ]
   },
   "outputs": [
    {
     "data": {
      "text/markdown": [
       "<br>These are routes that have **at least 50% of their trips take no more than an additional 20 min** compared to a car (up to 15 routes) are shown.<br>Within each route group, routes are sorted in descending order by % competitive trips and # trips below the additional time cut-off."
      ],
      "text/plain": [
       "<IPython.core.display.Markdown object>"
      ]
     },
     "metadata": {},
     "output_type": "display_data"
    },
    {
     "data": {
      "text/html": [
       "\n",
       "<div id=\"altair-viz-2cb7a73943b2455aa886154a73c8cf81\"></div>\n",
       "<script type=\"text/javascript\">\n",
       "  var VEGA_DEBUG = (typeof VEGA_DEBUG == \"undefined\") ? {} : VEGA_DEBUG;\n",
       "  (function(spec, embedOpt){\n",
       "    let outputDiv = document.currentScript.previousElementSibling;\n",
       "    if (outputDiv.id !== \"altair-viz-2cb7a73943b2455aa886154a73c8cf81\") {\n",
       "      outputDiv = document.getElementById(\"altair-viz-2cb7a73943b2455aa886154a73c8cf81\");\n",
       "    }\n",
       "    const paths = {\n",
       "      \"vega\": \"https://cdn.jsdelivr.net/npm//vega@5?noext\",\n",
       "      \"vega-lib\": \"https://cdn.jsdelivr.net/npm//vega-lib?noext\",\n",
       "      \"vega-lite\": \"https://cdn.jsdelivr.net/npm//vega-lite@4.17.0?noext\",\n",
       "      \"vega-embed\": \"https://cdn.jsdelivr.net/npm//vega-embed@6?noext\",\n",
       "    };\n",
       "\n",
       "    function maybeLoadScript(lib, version) {\n",
       "      var key = `${lib.replace(\"-\", \"\")}_version`;\n",
       "      return (VEGA_DEBUG[key] == version) ?\n",
       "        Promise.resolve(paths[lib]) :\n",
       "        new Promise(function(resolve, reject) {\n",
       "          var s = document.createElement('script');\n",
       "          document.getElementsByTagName(\"head\")[0].appendChild(s);\n",
       "          s.async = true;\n",
       "          s.onload = () => {\n",
       "            VEGA_DEBUG[key] = version;\n",
       "            return resolve(paths[lib]);\n",
       "          };\n",
       "          s.onerror = () => reject(`Error loading script: ${paths[lib]}`);\n",
       "          s.src = paths[lib];\n",
       "        });\n",
       "    }\n",
       "\n",
       "    function showError(err) {\n",
       "      outputDiv.innerHTML = `<div class=\"error\" style=\"color:red;\">${err}</div>`;\n",
       "      throw err;\n",
       "    }\n",
       "\n",
       "    function displayChart(vegaEmbed) {\n",
       "      vegaEmbed(outputDiv, spec, embedOpt)\n",
       "        .catch(err => showError(`Javascript Error: ${err.message}<br>This usually means there's a typo in your chart specification. See the javascript console for the full traceback.`));\n",
       "    }\n",
       "\n",
       "    if(typeof define === \"function\" && define.amd) {\n",
       "      requirejs.config({paths});\n",
       "      require([\"vega-embed\"], displayChart, err => showError(`Error loading script: ${err.message}`));\n",
       "    } else {\n",
       "      maybeLoadScript(\"vega\", \"5\")\n",
       "        .then(() => maybeLoadScript(\"vega-lite\", \"4.17.0\"))\n",
       "        .then(() => maybeLoadScript(\"vega-embed\", \"6\"))\n",
       "        .catch(showError)\n",
       "        .then(() => displayChart(vegaEmbed));\n",
       "    }\n",
       "  })({\"config\": {\"view\": {\"continuousWidth\": 400, \"continuousHeight\": 300, \"stroke\": null}, \"facet\": {\"spacing\": 0}}, \"data\": {\"name\": \"data-06c0a908bde29227600b4a5a19ec3d5e\"}, \"facet\": {\"column\": {\"field\": \"route_id\", \"sort\": [\"10866895\"], \"title\": \"Route ID\", \"type\": \"nominal\"}}, \"spec\": {\"layer\": [{\"mark\": \"rule\", \"encoding\": {\"color\": {\"value\": \"black\"}, \"y\": {\"field\": \"cutoff\", \"type\": \"quantitative\"}}, \"selection\": {\"selector001\": {\"type\": \"interval\", \"bind\": \"scales\", \"encodings\": [\"x\", \"y\"]}}}, {\"mark\": {\"type\": \"point\", \"opacity\": 0.65, \"size\": 12, \"strokeWidth\": 1.1}, \"encoding\": {\"color\": {\"field\": \"time_of_day\", \"scale\": {\"range\": [\"#136C97\", \"#E16B26\", \"#F6BF16\", \"#00896B\", \"#7790A3\", \"#5B559C\"]}, \"sort\": [\"AM Peak\", \"Midday\", \"PM Peak\", \"Owl Service\"], \"title\": \"Time of Day\", \"type\": \"nominal\"}, \"tooltip\": [{\"field\": \"route_id\", \"type\": \"nominal\"}, {\"field\": \"route_name\", \"type\": \"nominal\"}, {\"field\": \"trip_id\", \"type\": \"nominal\"}, {\"field\": \"service_hours\", \"type\": \"quantitative\"}, {\"field\": \"car_duration_hours\", \"type\": \"quantitative\"}, {\"field\": \"bus_multiplier\", \"type\": \"quantitative\"}, {\"field\": \"bus_difference\", \"type\": \"quantitative\"}, {\"field\": \"num_trips\", \"type\": \"quantitative\"}, {\"field\": \"num_competitive\", \"type\": \"quantitative\"}, {\"field\": \"pct_trips_competitive\", \"type\": \"quantitative\"}, {\"field\": \"p25\", \"type\": \"quantitative\"}, {\"field\": \"p50\", \"type\": \"quantitative\"}, {\"field\": \"p75\", \"type\": \"quantitative\"}], \"x\": {\"axis\": {\"grid\": false, \"labels\": false, \"ticks\": true, \"values\": [0]}, \"field\": \"jitter\", \"scale\": {}, \"title\": null, \"type\": \"quantitative\"}, \"y\": {\"field\": \"bus_multiplier\", \"scale\": {\"domain\": [-0.25, 3.0]}, \"title\": \"Ratio of Bus to Car Travel Time\", \"type\": \"quantitative\"}}, \"transform\": [{\"calculate\": \"sqrt(-2*log(random()))*cos(2*PI*random())\", \"as\": \"jitter\"}], \"width\": 50}, {\"layer\": [{\"mark\": {\"type\": \"point\", \"opacity\": 0.6, \"size\": 20, \"strokeWidth\": 1.3}, \"encoding\": {\"color\": {\"value\": \"#323434\"}, \"y\": {\"field\": \"bus_multiplier\", \"type\": \"quantitative\"}}, \"transform\": [{\"filter\": \"(datum.p50_trip === 1)\"}]}, {\"mark\": {\"type\": \"text\", \"align\": \"center\", \"baseline\": \"middle\"}, \"encoding\": {\"color\": {\"value\": \"black\"}, \"text\": {\"field\": \"pct_trips_competitive\", \"format\": \".0%\", \"type\": \"quantitative\"}, \"tooltip\": [{\"field\": \"route_id\", \"type\": \"nominal\"}, {\"field\": \"route_name\", \"type\": \"nominal\"}, {\"field\": \"trip_id\", \"type\": \"nominal\"}, {\"field\": \"service_hours\", \"type\": \"quantitative\"}, {\"field\": \"car_duration_hours\", \"type\": \"quantitative\"}, {\"field\": \"bus_multiplier\", \"type\": \"quantitative\"}, {\"field\": \"bus_difference\", \"type\": \"quantitative\"}, {\"field\": \"num_trips\", \"type\": \"quantitative\"}, {\"field\": \"num_competitive\", \"type\": \"quantitative\"}, {\"field\": \"pct_trips_competitive\", \"type\": \"quantitative\"}, {\"field\": \"p25\", \"type\": \"quantitative\"}, {\"field\": \"p50\", \"type\": \"quantitative\"}, {\"field\": \"p75\", \"type\": \"quantitative\"}], \"x\": {\"value\": 30}, \"y\": {\"value\": 15}}, \"transform\": [{\"calculate\": \"sqrt(-2*log(random()))*cos(2*PI*random())\", \"as\": \"jitter\"}, {\"filter\": \"(datum.fastest_trip === 1)\"}]}]}]}, \"resolve\": {\"scale\": {\"y\": \"shared\"}}, \"title\": \"Ratio of Bus to Car Travel Time\", \"$schema\": \"https://vega.github.io/schema/vega-lite/v4.17.0.json\", \"datasets\": {\"data-06c0a908bde29227600b4a5a19ec3d5e\": [{\"calitp_itp_id\": 287, \"trip_key\": 2075759021022404747, \"trip_id\": \"10866895|10866878:T16|21:15:00\", \"shape_id\": \"10866895:1\", \"route_id\": \"10866895\", \"service_hours\": 0.75, \"trip_first_departure_ts\": 76500, \"trip_last_arrival_ts\": 79200, \"departure_hour\": 21, \"time_of_day\": \"Owl Service\", \"p25\": 0.83, \"p50\": 0.83, \"p75\": 0.83, \"p50_trip\": 0, \"fastest_trip\": 1, \"car_duration_hours\": 0.66, \"competitive_route\": 1, \"bus_multiplier\": 1.14, \"bus_difference\": 5.4, \"num_trips\": 16, \"num_competitive\": 16, \"pct_trips_competitive\": 1.0, \"bus_difference_spread\": 4.799999999999999, \"route_group\": \"short\", \"max_trip_hrs\": 0.83, \"max_trip_route_group\": 0.83, \"below_cutoff\": 16, \"pct_below_cutoff\": 1.0, \"name\": \"City of San Luis Obispo\", \"caltrans_district\": \"05 - San Luis Obispo\", \"drmt_organization_name\": null, \"route_name\": \"Higuera/Lovr/Madonna\", \"cutoff2\": 20, \"cutoff\": 2}, {\"calitp_itp_id\": 287, \"trip_key\": -8911019656804120762, \"trip_id\": \"10866895|10866878:T9|14:15:00\", \"shape_id\": \"10866895:1\", \"route_id\": \"10866895\", \"service_hours\": 0.83, \"trip_first_departure_ts\": 51300, \"trip_last_arrival_ts\": 54300, \"departure_hour\": 14, \"time_of_day\": \"Midday\", \"p25\": 0.83, \"p50\": 0.83, \"p75\": 0.83, \"p50_trip\": 1, \"fastest_trip\": 0, \"car_duration_hours\": 0.66, \"competitive_route\": 1, \"bus_multiplier\": 1.26, \"bus_difference\": 10.2, \"num_trips\": 16, \"num_competitive\": 16, \"pct_trips_competitive\": 1.0, \"bus_difference_spread\": 4.799999999999999, \"route_group\": \"short\", \"max_trip_hrs\": 0.83, \"max_trip_route_group\": 0.83, \"below_cutoff\": 16, \"pct_below_cutoff\": 1.0, \"name\": \"City of San Luis Obispo\", \"caltrans_district\": \"05 - San Luis Obispo\", \"drmt_organization_name\": null, \"route_name\": \"Higuera/Lovr/Madonna\", \"cutoff2\": 20, \"cutoff\": 2}, {\"calitp_itp_id\": 287, \"trip_key\": -6859023468594061135, \"trip_id\": \"10866895|10866878:T13|18:15:00\", \"shape_id\": \"10866895:1\", \"route_id\": \"10866895\", \"service_hours\": 0.83, \"trip_first_departure_ts\": 65700, \"trip_last_arrival_ts\": 68700, \"departure_hour\": 18, \"time_of_day\": \"PM Peak\", \"p25\": 0.83, \"p50\": 0.83, \"p75\": 0.83, \"p50_trip\": 1, \"fastest_trip\": 0, \"car_duration_hours\": 0.66, \"competitive_route\": 1, \"bus_multiplier\": 1.26, \"bus_difference\": 10.2, \"num_trips\": 16, \"num_competitive\": 16, \"pct_trips_competitive\": 1.0, \"bus_difference_spread\": 4.799999999999999, \"route_group\": \"short\", \"max_trip_hrs\": 0.83, \"max_trip_route_group\": 0.83, \"below_cutoff\": 16, \"pct_below_cutoff\": 1.0, \"name\": \"City of San Luis Obispo\", \"caltrans_district\": \"05 - San Luis Obispo\", \"drmt_organization_name\": null, \"route_name\": \"Higuera/Lovr/Madonna\", \"cutoff2\": 20, \"cutoff\": 2}, {\"calitp_itp_id\": 287, \"trip_key\": 8814693209229709741, \"trip_id\": \"10866895|10866878:T4|9:15:00\", \"shape_id\": \"10866895:1\", \"route_id\": \"10866895\", \"service_hours\": 0.83, \"trip_first_departure_ts\": 33300, \"trip_last_arrival_ts\": 36300, \"departure_hour\": 9, \"time_of_day\": \"AM Peak\", \"p25\": 0.83, \"p50\": 0.83, \"p75\": 0.83, \"p50_trip\": 1, \"fastest_trip\": 0, \"car_duration_hours\": 0.66, \"competitive_route\": 1, \"bus_multiplier\": 1.26, \"bus_difference\": 10.2, \"num_trips\": 16, \"num_competitive\": 16, \"pct_trips_competitive\": 1.0, \"bus_difference_spread\": 4.799999999999999, \"route_group\": \"short\", \"max_trip_hrs\": 0.83, \"max_trip_route_group\": 0.83, \"below_cutoff\": 16, \"pct_below_cutoff\": 1.0, \"name\": \"City of San Luis Obispo\", \"caltrans_district\": \"05 - San Luis Obispo\", \"drmt_organization_name\": null, \"route_name\": \"Higuera/Lovr/Madonna\", \"cutoff2\": 20, \"cutoff\": 2}, {\"calitp_itp_id\": 287, \"trip_key\": -7202346461268337744, \"trip_id\": \"10866895|10866878:T3|8:15:00\", \"shape_id\": \"10866895:1\", \"route_id\": \"10866895\", \"service_hours\": 0.83, \"trip_first_departure_ts\": 29700, \"trip_last_arrival_ts\": 32700, \"departure_hour\": 8, \"time_of_day\": \"AM Peak\", \"p25\": 0.83, \"p50\": 0.83, \"p75\": 0.83, \"p50_trip\": 1, \"fastest_trip\": 0, \"car_duration_hours\": 0.66, \"competitive_route\": 1, \"bus_multiplier\": 1.26, \"bus_difference\": 10.2, \"num_trips\": 16, \"num_competitive\": 16, \"pct_trips_competitive\": 1.0, \"bus_difference_spread\": 4.799999999999999, \"route_group\": \"short\", \"max_trip_hrs\": 0.83, \"max_trip_route_group\": 0.83, \"below_cutoff\": 16, \"pct_below_cutoff\": 1.0, \"name\": \"City of San Luis Obispo\", \"caltrans_district\": \"05 - San Luis Obispo\", \"drmt_organization_name\": null, \"route_name\": \"Higuera/Lovr/Madonna\", \"cutoff2\": 20, \"cutoff\": 2}, {\"calitp_itp_id\": 287, \"trip_key\": -7476821872269480158, \"trip_id\": \"10866895|10866878:T1|6:15:00\", \"shape_id\": \"10866895:1\", \"route_id\": \"10866895\", \"service_hours\": 0.83, \"trip_first_departure_ts\": 22500, \"trip_last_arrival_ts\": 25500, \"departure_hour\": 6, \"time_of_day\": \"Owl Service\", \"p25\": 0.83, \"p50\": 0.83, \"p75\": 0.83, \"p50_trip\": 1, \"fastest_trip\": 0, \"car_duration_hours\": 0.66, \"competitive_route\": 1, \"bus_multiplier\": 1.26, \"bus_difference\": 10.2, \"num_trips\": 16, \"num_competitive\": 16, \"pct_trips_competitive\": 1.0, \"bus_difference_spread\": 4.799999999999999, \"route_group\": \"short\", \"max_trip_hrs\": 0.83, \"max_trip_route_group\": 0.83, \"below_cutoff\": 16, \"pct_below_cutoff\": 1.0, \"name\": \"City of San Luis Obispo\", \"caltrans_district\": \"05 - San Luis Obispo\", \"drmt_organization_name\": null, \"route_name\": \"Higuera/Lovr/Madonna\", \"cutoff2\": 20, \"cutoff\": 2}, {\"calitp_itp_id\": 287, \"trip_key\": -7380387715759825857, \"trip_id\": \"10866895|10866878:T12|17:15:00\", \"shape_id\": \"10866895:1\", \"route_id\": \"10866895\", \"service_hours\": 0.83, \"trip_first_departure_ts\": 62100, \"trip_last_arrival_ts\": 65100, \"departure_hour\": 17, \"time_of_day\": \"PM Peak\", \"p25\": 0.83, \"p50\": 0.83, \"p75\": 0.83, \"p50_trip\": 1, \"fastest_trip\": 0, \"car_duration_hours\": 0.66, \"competitive_route\": 1, \"bus_multiplier\": 1.26, \"bus_difference\": 10.2, \"num_trips\": 16, \"num_competitive\": 16, \"pct_trips_competitive\": 1.0, \"bus_difference_spread\": 4.799999999999999, \"route_group\": \"short\", \"max_trip_hrs\": 0.83, \"max_trip_route_group\": 0.83, \"below_cutoff\": 16, \"pct_below_cutoff\": 1.0, \"name\": \"City of San Luis Obispo\", \"caltrans_district\": \"05 - San Luis Obispo\", \"drmt_organization_name\": null, \"route_name\": \"Higuera/Lovr/Madonna\", \"cutoff2\": 20, \"cutoff\": 2}, {\"calitp_itp_id\": 287, \"trip_key\": -2262073648913017249, \"trip_id\": \"10866895|10866878:T6|11:15:00\", \"shape_id\": \"10866895:1\", \"route_id\": \"10866895\", \"service_hours\": 0.83, \"trip_first_departure_ts\": 40500, \"trip_last_arrival_ts\": 43500, \"departure_hour\": 11, \"time_of_day\": \"Midday\", \"p25\": 0.83, \"p50\": 0.83, \"p75\": 0.83, \"p50_trip\": 1, \"fastest_trip\": 0, \"car_duration_hours\": 0.66, \"competitive_route\": 1, \"bus_multiplier\": 1.26, \"bus_difference\": 10.2, \"num_trips\": 16, \"num_competitive\": 16, \"pct_trips_competitive\": 1.0, \"bus_difference_spread\": 4.799999999999999, \"route_group\": \"short\", \"max_trip_hrs\": 0.83, \"max_trip_route_group\": 0.83, \"below_cutoff\": 16, \"pct_below_cutoff\": 1.0, \"name\": \"City of San Luis Obispo\", \"caltrans_district\": \"05 - San Luis Obispo\", \"drmt_organization_name\": null, \"route_name\": \"Higuera/Lovr/Madonna\", \"cutoff2\": 20, \"cutoff\": 2}, {\"calitp_itp_id\": 287, \"trip_key\": 4048141449126518879, \"trip_id\": \"10866895|10866878:T11|16:15:00\", \"shape_id\": \"10866895:1\", \"route_id\": \"10866895\", \"service_hours\": 0.83, \"trip_first_departure_ts\": 58500, \"trip_last_arrival_ts\": 61500, \"departure_hour\": 16, \"time_of_day\": \"Midday\", \"p25\": 0.83, \"p50\": 0.83, \"p75\": 0.83, \"p50_trip\": 1, \"fastest_trip\": 0, \"car_duration_hours\": 0.66, \"competitive_route\": 1, \"bus_multiplier\": 1.26, \"bus_difference\": 10.2, \"num_trips\": 16, \"num_competitive\": 16, \"pct_trips_competitive\": 1.0, \"bus_difference_spread\": 4.799999999999999, \"route_group\": \"short\", \"max_trip_hrs\": 0.83, \"max_trip_route_group\": 0.83, \"below_cutoff\": 16, \"pct_below_cutoff\": 1.0, \"name\": \"City of San Luis Obispo\", \"caltrans_district\": \"05 - San Luis Obispo\", \"drmt_organization_name\": null, \"route_name\": \"Higuera/Lovr/Madonna\", \"cutoff2\": 20, \"cutoff\": 2}, {\"calitp_itp_id\": 287, \"trip_key\": 8756076818352833383, \"trip_id\": \"10866895|10866878:T10|15:15:00\", \"shape_id\": \"10866895:1\", \"route_id\": \"10866895\", \"service_hours\": 0.83, \"trip_first_departure_ts\": 54900, \"trip_last_arrival_ts\": 57900, \"departure_hour\": 15, \"time_of_day\": \"Midday\", \"p25\": 0.83, \"p50\": 0.83, \"p75\": 0.83, \"p50_trip\": 1, \"fastest_trip\": 0, \"car_duration_hours\": 0.66, \"competitive_route\": 1, \"bus_multiplier\": 1.26, \"bus_difference\": 10.2, \"num_trips\": 16, \"num_competitive\": 16, \"pct_trips_competitive\": 1.0, \"bus_difference_spread\": 4.799999999999999, \"route_group\": \"short\", \"max_trip_hrs\": 0.83, \"max_trip_route_group\": 0.83, \"below_cutoff\": 16, \"pct_below_cutoff\": 1.0, \"name\": \"City of San Luis Obispo\", \"caltrans_district\": \"05 - San Luis Obispo\", \"drmt_organization_name\": null, \"route_name\": \"Higuera/Lovr/Madonna\", \"cutoff2\": 20, \"cutoff\": 2}, {\"calitp_itp_id\": 287, \"trip_key\": -337138823151757011, \"trip_id\": \"10866895|10866878:T2|7:15:00\", \"shape_id\": \"10866895:1\", \"route_id\": \"10866895\", \"service_hours\": 0.83, \"trip_first_departure_ts\": 26100, \"trip_last_arrival_ts\": 29100, \"departure_hour\": 7, \"time_of_day\": \"AM Peak\", \"p25\": 0.83, \"p50\": 0.83, \"p75\": 0.83, \"p50_trip\": 1, \"fastest_trip\": 0, \"car_duration_hours\": 0.66, \"competitive_route\": 1, \"bus_multiplier\": 1.26, \"bus_difference\": 10.2, \"num_trips\": 16, \"num_competitive\": 16, \"pct_trips_competitive\": 1.0, \"bus_difference_spread\": 4.799999999999999, \"route_group\": \"short\", \"max_trip_hrs\": 0.83, \"max_trip_route_group\": 0.83, \"below_cutoff\": 16, \"pct_below_cutoff\": 1.0, \"name\": \"City of San Luis Obispo\", \"caltrans_district\": \"05 - San Luis Obispo\", \"drmt_organization_name\": null, \"route_name\": \"Higuera/Lovr/Madonna\", \"cutoff2\": 20, \"cutoff\": 2}, {\"calitp_itp_id\": 287, \"trip_key\": 8690689891617402664, \"trip_id\": \"10866895|10866878:T5|10:15:00\", \"shape_id\": \"10866895:1\", \"route_id\": \"10866895\", \"service_hours\": 0.83, \"trip_first_departure_ts\": 36900, \"trip_last_arrival_ts\": 39900, \"departure_hour\": 10, \"time_of_day\": \"Midday\", \"p25\": 0.83, \"p50\": 0.83, \"p75\": 0.83, \"p50_trip\": 1, \"fastest_trip\": 0, \"car_duration_hours\": 0.66, \"competitive_route\": 1, \"bus_multiplier\": 1.26, \"bus_difference\": 10.2, \"num_trips\": 16, \"num_competitive\": 16, \"pct_trips_competitive\": 1.0, \"bus_difference_spread\": 4.799999999999999, \"route_group\": \"short\", \"max_trip_hrs\": 0.83, \"max_trip_route_group\": 0.83, \"below_cutoff\": 16, \"pct_below_cutoff\": 1.0, \"name\": \"City of San Luis Obispo\", \"caltrans_district\": \"05 - San Luis Obispo\", \"drmt_organization_name\": null, \"route_name\": \"Higuera/Lovr/Madonna\", \"cutoff2\": 20, \"cutoff\": 2}, {\"calitp_itp_id\": 287, \"trip_key\": 8403400176178132488, \"trip_id\": \"10866895|10866878:T8|13:15:00\", \"shape_id\": \"10866895:1\", \"route_id\": \"10866895\", \"service_hours\": 0.83, \"trip_first_departure_ts\": 47700, \"trip_last_arrival_ts\": 50700, \"departure_hour\": 13, \"time_of_day\": \"Midday\", \"p25\": 0.83, \"p50\": 0.83, \"p75\": 0.83, \"p50_trip\": 1, \"fastest_trip\": 0, \"car_duration_hours\": 0.66, \"competitive_route\": 1, \"bus_multiplier\": 1.26, \"bus_difference\": 10.2, \"num_trips\": 16, \"num_competitive\": 16, \"pct_trips_competitive\": 1.0, \"bus_difference_spread\": 4.799999999999999, \"route_group\": \"short\", \"max_trip_hrs\": 0.83, \"max_trip_route_group\": 0.83, \"below_cutoff\": 16, \"pct_below_cutoff\": 1.0, \"name\": \"City of San Luis Obispo\", \"caltrans_district\": \"05 - San Luis Obispo\", \"drmt_organization_name\": null, \"route_name\": \"Higuera/Lovr/Madonna\", \"cutoff2\": 20, \"cutoff\": 2}, {\"calitp_itp_id\": 287, \"trip_key\": 5691201698693500380, \"trip_id\": \"10866895|10866878:T14|19:15:00\", \"shape_id\": \"10866895:1\", \"route_id\": \"10866895\", \"service_hours\": 0.83, \"trip_first_departure_ts\": 69300, \"trip_last_arrival_ts\": 72300, \"departure_hour\": 19, \"time_of_day\": \"PM Peak\", \"p25\": 0.83, \"p50\": 0.83, \"p75\": 0.83, \"p50_trip\": 1, \"fastest_trip\": 0, \"car_duration_hours\": 0.66, \"competitive_route\": 1, \"bus_multiplier\": 1.26, \"bus_difference\": 10.2, \"num_trips\": 16, \"num_competitive\": 16, \"pct_trips_competitive\": 1.0, \"bus_difference_spread\": 4.799999999999999, \"route_group\": \"short\", \"max_trip_hrs\": 0.83, \"max_trip_route_group\": 0.83, \"below_cutoff\": 16, \"pct_below_cutoff\": 1.0, \"name\": \"City of San Luis Obispo\", \"caltrans_district\": \"05 - San Luis Obispo\", \"drmt_organization_name\": null, \"route_name\": \"Higuera/Lovr/Madonna\", \"cutoff2\": 20, \"cutoff\": 2}, {\"calitp_itp_id\": 287, \"trip_key\": -3997273526614680756, \"trip_id\": \"10866895|10866878:T15|20:15:00\", \"shape_id\": \"10866895:1\", \"route_id\": \"10866895\", \"service_hours\": 0.83, \"trip_first_departure_ts\": 72900, \"trip_last_arrival_ts\": 75900, \"departure_hour\": 20, \"time_of_day\": \"Owl Service\", \"p25\": 0.83, \"p50\": 0.83, \"p75\": 0.83, \"p50_trip\": 1, \"fastest_trip\": 0, \"car_duration_hours\": 0.66, \"competitive_route\": 1, \"bus_multiplier\": 1.26, \"bus_difference\": 10.2, \"num_trips\": 16, \"num_competitive\": 16, \"pct_trips_competitive\": 1.0, \"bus_difference_spread\": 4.799999999999999, \"route_group\": \"short\", \"max_trip_hrs\": 0.83, \"max_trip_route_group\": 0.83, \"below_cutoff\": 16, \"pct_below_cutoff\": 1.0, \"name\": \"City of San Luis Obispo\", \"caltrans_district\": \"05 - San Luis Obispo\", \"drmt_organization_name\": null, \"route_name\": \"Higuera/Lovr/Madonna\", \"cutoff2\": 20, \"cutoff\": 2}, {\"calitp_itp_id\": 287, \"trip_key\": 7084391541408794417, \"trip_id\": \"10866895|10866878:T7|12:15:00\", \"shape_id\": \"10866895:1\", \"route_id\": \"10866895\", \"service_hours\": 0.83, \"trip_first_departure_ts\": 44100, \"trip_last_arrival_ts\": 47100, \"departure_hour\": 12, \"time_of_day\": \"Midday\", \"p25\": 0.83, \"p50\": 0.83, \"p75\": 0.83, \"p50_trip\": 1, \"fastest_trip\": 0, \"car_duration_hours\": 0.66, \"competitive_route\": 1, \"bus_multiplier\": 1.26, \"bus_difference\": 10.2, \"num_trips\": 16, \"num_competitive\": 16, \"pct_trips_competitive\": 1.0, \"bus_difference_spread\": 4.799999999999999, \"route_group\": \"short\", \"max_trip_hrs\": 0.83, \"max_trip_route_group\": 0.83, \"below_cutoff\": 16, \"pct_below_cutoff\": 1.0, \"name\": \"City of San Luis Obispo\", \"caltrans_district\": \"05 - San Luis Obispo\", \"drmt_organization_name\": null, \"route_name\": \"Higuera/Lovr/Madonna\", \"cutoff2\": 20, \"cutoff\": 2}]}}, {\"mode\": \"vega-lite\"});\n",
       "</script>"
      ],
      "text/plain": [
       "alt.FacetChart(...)"
      ]
     },
     "metadata": {},
     "output_type": "display_data"
    },
    {
     "data": {
      "text/html": [
       "\n",
       "<div id=\"altair-viz-8d7e60b0c97f42588ea9edc989f65298\"></div>\n",
       "<script type=\"text/javascript\">\n",
       "  var VEGA_DEBUG = (typeof VEGA_DEBUG == \"undefined\") ? {} : VEGA_DEBUG;\n",
       "  (function(spec, embedOpt){\n",
       "    let outputDiv = document.currentScript.previousElementSibling;\n",
       "    if (outputDiv.id !== \"altair-viz-8d7e60b0c97f42588ea9edc989f65298\") {\n",
       "      outputDiv = document.getElementById(\"altair-viz-8d7e60b0c97f42588ea9edc989f65298\");\n",
       "    }\n",
       "    const paths = {\n",
       "      \"vega\": \"https://cdn.jsdelivr.net/npm//vega@5?noext\",\n",
       "      \"vega-lib\": \"https://cdn.jsdelivr.net/npm//vega-lib?noext\",\n",
       "      \"vega-lite\": \"https://cdn.jsdelivr.net/npm//vega-lite@4.17.0?noext\",\n",
       "      \"vega-embed\": \"https://cdn.jsdelivr.net/npm//vega-embed@6?noext\",\n",
       "    };\n",
       "\n",
       "    function maybeLoadScript(lib, version) {\n",
       "      var key = `${lib.replace(\"-\", \"\")}_version`;\n",
       "      return (VEGA_DEBUG[key] == version) ?\n",
       "        Promise.resolve(paths[lib]) :\n",
       "        new Promise(function(resolve, reject) {\n",
       "          var s = document.createElement('script');\n",
       "          document.getElementsByTagName(\"head\")[0].appendChild(s);\n",
       "          s.async = true;\n",
       "          s.onload = () => {\n",
       "            VEGA_DEBUG[key] = version;\n",
       "            return resolve(paths[lib]);\n",
       "          };\n",
       "          s.onerror = () => reject(`Error loading script: ${paths[lib]}`);\n",
       "          s.src = paths[lib];\n",
       "        });\n",
       "    }\n",
       "\n",
       "    function showError(err) {\n",
       "      outputDiv.innerHTML = `<div class=\"error\" style=\"color:red;\">${err}</div>`;\n",
       "      throw err;\n",
       "    }\n",
       "\n",
       "    function displayChart(vegaEmbed) {\n",
       "      vegaEmbed(outputDiv, spec, embedOpt)\n",
       "        .catch(err => showError(`Javascript Error: ${err.message}<br>This usually means there's a typo in your chart specification. See the javascript console for the full traceback.`));\n",
       "    }\n",
       "\n",
       "    if(typeof define === \"function\" && define.amd) {\n",
       "      requirejs.config({paths});\n",
       "      require([\"vega-embed\"], displayChart, err => showError(`Error loading script: ${err.message}`));\n",
       "    } else {\n",
       "      maybeLoadScript(\"vega\", \"5\")\n",
       "        .then(() => maybeLoadScript(\"vega-lite\", \"4.17.0\"))\n",
       "        .then(() => maybeLoadScript(\"vega-embed\", \"6\"))\n",
       "        .catch(showError)\n",
       "        .then(() => displayChart(vegaEmbed));\n",
       "    }\n",
       "  })({\"config\": {\"view\": {\"continuousWidth\": 400, \"continuousHeight\": 300, \"stroke\": null}, \"facet\": {\"spacing\": 0}}, \"data\": {\"name\": \"data-81367e27b26c5b320ee302432babf36a\"}, \"facet\": {\"column\": {\"field\": \"route_id\", \"sort\": [\"10866895\"], \"title\": \"Route ID\", \"type\": \"nominal\"}}, \"spec\": {\"layer\": [{\"mark\": \"rule\", \"encoding\": {\"color\": {\"value\": \"black\"}, \"y\": {\"field\": \"cutoff\", \"type\": \"quantitative\"}}, \"selection\": {\"selector002\": {\"type\": \"interval\", \"bind\": \"scales\", \"encodings\": [\"x\", \"y\"]}}}, {\"mark\": {\"type\": \"rule\", \"strokeDash\": [3, 3]}, \"encoding\": {\"color\": {\"value\": \"#323434\"}, \"y\": {\"field\": \"cutoff2\", \"type\": \"quantitative\"}}}, {\"mark\": {\"type\": \"point\", \"opacity\": 0.65, \"size\": 12, \"strokeWidth\": 1.1}, \"encoding\": {\"color\": {\"field\": \"time_of_day\", \"scale\": {\"range\": [\"#136C97\", \"#E16B26\", \"#F6BF16\", \"#00896B\", \"#7790A3\", \"#5B559C\"]}, \"sort\": [\"AM Peak\", \"Midday\", \"PM Peak\", \"Owl Service\"], \"title\": \"Time of Day\", \"type\": \"nominal\"}, \"tooltip\": [{\"field\": \"route_id\", \"type\": \"nominal\"}, {\"field\": \"route_name\", \"type\": \"nominal\"}, {\"field\": \"trip_id\", \"type\": \"nominal\"}, {\"field\": \"service_hours\", \"type\": \"quantitative\"}, {\"field\": \"car_duration_hours\", \"type\": \"quantitative\"}, {\"field\": \"bus_multiplier\", \"type\": \"quantitative\"}, {\"field\": \"bus_difference\", \"type\": \"quantitative\"}, {\"field\": \"num_trips\", \"type\": \"quantitative\"}, {\"field\": \"num_competitive\", \"type\": \"quantitative\"}, {\"field\": \"pct_trips_competitive\", \"type\": \"quantitative\"}, {\"field\": \"p25\", \"type\": \"quantitative\"}, {\"field\": \"p50\", \"type\": \"quantitative\"}, {\"field\": \"p75\", \"type\": \"quantitative\"}], \"x\": {\"axis\": {\"grid\": false, \"labels\": false, \"ticks\": true, \"values\": [0]}, \"field\": \"jitter\", \"scale\": {}, \"title\": null, \"type\": \"quantitative\"}, \"y\": {\"field\": \"bus_difference\", \"scale\": {\"domain\": [-5, 30.0]}, \"title\": \"Difference in Bus to Car Travel Time (min)\", \"type\": \"quantitative\"}}, \"transform\": [{\"calculate\": \"sqrt(-2*log(random()))*cos(2*PI*random())\", \"as\": \"jitter\"}], \"width\": 50}, {\"layer\": [{\"mark\": {\"type\": \"point\", \"opacity\": 0.6, \"size\": 20, \"strokeWidth\": 1.3}, \"encoding\": {\"color\": {\"value\": \"#323434\"}, \"y\": {\"field\": \"bus_difference\", \"type\": \"quantitative\"}}, \"transform\": [{\"filter\": \"(datum.p50_trip === 1)\"}]}, {\"mark\": {\"type\": \"text\", \"align\": \"center\", \"baseline\": \"middle\"}, \"encoding\": {\"color\": {\"value\": \"black\"}, \"text\": {\"field\": \"pct_trips_competitive\", \"format\": \".0%\", \"type\": \"quantitative\"}, \"tooltip\": [{\"field\": \"route_id\", \"type\": \"nominal\"}, {\"field\": \"route_name\", \"type\": \"nominal\"}, {\"field\": \"trip_id\", \"type\": \"nominal\"}, {\"field\": \"service_hours\", \"type\": \"quantitative\"}, {\"field\": \"car_duration_hours\", \"type\": \"quantitative\"}, {\"field\": \"bus_multiplier\", \"type\": \"quantitative\"}, {\"field\": \"bus_difference\", \"type\": \"quantitative\"}, {\"field\": \"num_trips\", \"type\": \"quantitative\"}, {\"field\": \"num_competitive\", \"type\": \"quantitative\"}, {\"field\": \"pct_trips_competitive\", \"type\": \"quantitative\"}, {\"field\": \"p25\", \"type\": \"quantitative\"}, {\"field\": \"p50\", \"type\": \"quantitative\"}, {\"field\": \"p75\", \"type\": \"quantitative\"}], \"x\": {\"value\": 30}, \"y\": {\"value\": 15}}, \"transform\": [{\"calculate\": \"sqrt(-2*log(random()))*cos(2*PI*random())\", \"as\": \"jitter\"}, {\"filter\": \"(datum.fastest_trip === 1)\"}]}]}]}, \"resolve\": {\"scale\": {\"y\": \"shared\"}}, \"title\": \"Difference in Bus to Car Travel Time (min)\", \"$schema\": \"https://vega.github.io/schema/vega-lite/v4.17.0.json\", \"datasets\": {\"data-81367e27b26c5b320ee302432babf36a\": [{\"calitp_itp_id\": 287, \"trip_key\": 2075759021022404747, \"trip_id\": \"10866895|10866878:T16|21:15:00\", \"shape_id\": \"10866895:1\", \"route_id\": \"10866895\", \"service_hours\": 0.75, \"trip_first_departure_ts\": 76500, \"trip_last_arrival_ts\": 79200, \"departure_hour\": 21, \"time_of_day\": \"Owl Service\", \"p25\": 0.83, \"p50\": 0.83, \"p75\": 0.83, \"p50_trip\": 0, \"fastest_trip\": 1, \"car_duration_hours\": 0.66, \"competitive_route\": 1, \"bus_multiplier\": 1.14, \"bus_difference\": 5.4, \"num_trips\": 16, \"num_competitive\": 16, \"pct_trips_competitive\": 1.0, \"bus_difference_spread\": 4.799999999999999, \"route_group\": \"short\", \"max_trip_hrs\": 0.83, \"max_trip_route_group\": 0.83, \"below_cutoff\": 16, \"pct_below_cutoff\": 1.0, \"name\": \"City of San Luis Obispo\", \"caltrans_district\": \"05 - San Luis Obispo\", \"drmt_organization_name\": null, \"route_name\": \"Higuera/Lovr/Madonna\", \"cutoff2\": 20, \"cutoff\": 0}, {\"calitp_itp_id\": 287, \"trip_key\": -8911019656804120762, \"trip_id\": \"10866895|10866878:T9|14:15:00\", \"shape_id\": \"10866895:1\", \"route_id\": \"10866895\", \"service_hours\": 0.83, \"trip_first_departure_ts\": 51300, \"trip_last_arrival_ts\": 54300, \"departure_hour\": 14, \"time_of_day\": \"Midday\", \"p25\": 0.83, \"p50\": 0.83, \"p75\": 0.83, \"p50_trip\": 1, \"fastest_trip\": 0, \"car_duration_hours\": 0.66, \"competitive_route\": 1, \"bus_multiplier\": 1.26, \"bus_difference\": 10.2, \"num_trips\": 16, \"num_competitive\": 16, \"pct_trips_competitive\": 1.0, \"bus_difference_spread\": 4.799999999999999, \"route_group\": \"short\", \"max_trip_hrs\": 0.83, \"max_trip_route_group\": 0.83, \"below_cutoff\": 16, \"pct_below_cutoff\": 1.0, \"name\": \"City of San Luis Obispo\", \"caltrans_district\": \"05 - San Luis Obispo\", \"drmt_organization_name\": null, \"route_name\": \"Higuera/Lovr/Madonna\", \"cutoff2\": 20, \"cutoff\": 0}, {\"calitp_itp_id\": 287, \"trip_key\": -6859023468594061135, \"trip_id\": \"10866895|10866878:T13|18:15:00\", \"shape_id\": \"10866895:1\", \"route_id\": \"10866895\", \"service_hours\": 0.83, \"trip_first_departure_ts\": 65700, \"trip_last_arrival_ts\": 68700, \"departure_hour\": 18, \"time_of_day\": \"PM Peak\", \"p25\": 0.83, \"p50\": 0.83, \"p75\": 0.83, \"p50_trip\": 1, \"fastest_trip\": 0, \"car_duration_hours\": 0.66, \"competitive_route\": 1, \"bus_multiplier\": 1.26, \"bus_difference\": 10.2, \"num_trips\": 16, \"num_competitive\": 16, \"pct_trips_competitive\": 1.0, \"bus_difference_spread\": 4.799999999999999, \"route_group\": \"short\", \"max_trip_hrs\": 0.83, \"max_trip_route_group\": 0.83, \"below_cutoff\": 16, \"pct_below_cutoff\": 1.0, \"name\": \"City of San Luis Obispo\", \"caltrans_district\": \"05 - San Luis Obispo\", \"drmt_organization_name\": null, \"route_name\": \"Higuera/Lovr/Madonna\", \"cutoff2\": 20, \"cutoff\": 0}, {\"calitp_itp_id\": 287, \"trip_key\": 8814693209229709741, \"trip_id\": \"10866895|10866878:T4|9:15:00\", \"shape_id\": \"10866895:1\", \"route_id\": \"10866895\", \"service_hours\": 0.83, \"trip_first_departure_ts\": 33300, \"trip_last_arrival_ts\": 36300, \"departure_hour\": 9, \"time_of_day\": \"AM Peak\", \"p25\": 0.83, \"p50\": 0.83, \"p75\": 0.83, \"p50_trip\": 1, \"fastest_trip\": 0, \"car_duration_hours\": 0.66, \"competitive_route\": 1, \"bus_multiplier\": 1.26, \"bus_difference\": 10.2, \"num_trips\": 16, \"num_competitive\": 16, \"pct_trips_competitive\": 1.0, \"bus_difference_spread\": 4.799999999999999, \"route_group\": \"short\", \"max_trip_hrs\": 0.83, \"max_trip_route_group\": 0.83, \"below_cutoff\": 16, \"pct_below_cutoff\": 1.0, \"name\": \"City of San Luis Obispo\", \"caltrans_district\": \"05 - San Luis Obispo\", \"drmt_organization_name\": null, \"route_name\": \"Higuera/Lovr/Madonna\", \"cutoff2\": 20, \"cutoff\": 0}, {\"calitp_itp_id\": 287, \"trip_key\": -7202346461268337744, \"trip_id\": \"10866895|10866878:T3|8:15:00\", \"shape_id\": \"10866895:1\", \"route_id\": \"10866895\", \"service_hours\": 0.83, \"trip_first_departure_ts\": 29700, \"trip_last_arrival_ts\": 32700, \"departure_hour\": 8, \"time_of_day\": \"AM Peak\", \"p25\": 0.83, \"p50\": 0.83, \"p75\": 0.83, \"p50_trip\": 1, \"fastest_trip\": 0, \"car_duration_hours\": 0.66, \"competitive_route\": 1, \"bus_multiplier\": 1.26, \"bus_difference\": 10.2, \"num_trips\": 16, \"num_competitive\": 16, \"pct_trips_competitive\": 1.0, \"bus_difference_spread\": 4.799999999999999, \"route_group\": \"short\", \"max_trip_hrs\": 0.83, \"max_trip_route_group\": 0.83, \"below_cutoff\": 16, \"pct_below_cutoff\": 1.0, \"name\": \"City of San Luis Obispo\", \"caltrans_district\": \"05 - San Luis Obispo\", \"drmt_organization_name\": null, \"route_name\": \"Higuera/Lovr/Madonna\", \"cutoff2\": 20, \"cutoff\": 0}, {\"calitp_itp_id\": 287, \"trip_key\": -7476821872269480158, \"trip_id\": \"10866895|10866878:T1|6:15:00\", \"shape_id\": \"10866895:1\", \"route_id\": \"10866895\", \"service_hours\": 0.83, \"trip_first_departure_ts\": 22500, \"trip_last_arrival_ts\": 25500, \"departure_hour\": 6, \"time_of_day\": \"Owl Service\", \"p25\": 0.83, \"p50\": 0.83, \"p75\": 0.83, \"p50_trip\": 1, \"fastest_trip\": 0, \"car_duration_hours\": 0.66, \"competitive_route\": 1, \"bus_multiplier\": 1.26, \"bus_difference\": 10.2, \"num_trips\": 16, \"num_competitive\": 16, \"pct_trips_competitive\": 1.0, \"bus_difference_spread\": 4.799999999999999, \"route_group\": \"short\", \"max_trip_hrs\": 0.83, \"max_trip_route_group\": 0.83, \"below_cutoff\": 16, \"pct_below_cutoff\": 1.0, \"name\": \"City of San Luis Obispo\", \"caltrans_district\": \"05 - San Luis Obispo\", \"drmt_organization_name\": null, \"route_name\": \"Higuera/Lovr/Madonna\", \"cutoff2\": 20, \"cutoff\": 0}, {\"calitp_itp_id\": 287, \"trip_key\": -7380387715759825857, \"trip_id\": \"10866895|10866878:T12|17:15:00\", \"shape_id\": \"10866895:1\", \"route_id\": \"10866895\", \"service_hours\": 0.83, \"trip_first_departure_ts\": 62100, \"trip_last_arrival_ts\": 65100, \"departure_hour\": 17, \"time_of_day\": \"PM Peak\", \"p25\": 0.83, \"p50\": 0.83, \"p75\": 0.83, \"p50_trip\": 1, \"fastest_trip\": 0, \"car_duration_hours\": 0.66, \"competitive_route\": 1, \"bus_multiplier\": 1.26, \"bus_difference\": 10.2, \"num_trips\": 16, \"num_competitive\": 16, \"pct_trips_competitive\": 1.0, \"bus_difference_spread\": 4.799999999999999, \"route_group\": \"short\", \"max_trip_hrs\": 0.83, \"max_trip_route_group\": 0.83, \"below_cutoff\": 16, \"pct_below_cutoff\": 1.0, \"name\": \"City of San Luis Obispo\", \"caltrans_district\": \"05 - San Luis Obispo\", \"drmt_organization_name\": null, \"route_name\": \"Higuera/Lovr/Madonna\", \"cutoff2\": 20, \"cutoff\": 0}, {\"calitp_itp_id\": 287, \"trip_key\": -2262073648913017249, \"trip_id\": \"10866895|10866878:T6|11:15:00\", \"shape_id\": \"10866895:1\", \"route_id\": \"10866895\", \"service_hours\": 0.83, \"trip_first_departure_ts\": 40500, \"trip_last_arrival_ts\": 43500, \"departure_hour\": 11, \"time_of_day\": \"Midday\", \"p25\": 0.83, \"p50\": 0.83, \"p75\": 0.83, \"p50_trip\": 1, \"fastest_trip\": 0, \"car_duration_hours\": 0.66, \"competitive_route\": 1, \"bus_multiplier\": 1.26, \"bus_difference\": 10.2, \"num_trips\": 16, \"num_competitive\": 16, \"pct_trips_competitive\": 1.0, \"bus_difference_spread\": 4.799999999999999, \"route_group\": \"short\", \"max_trip_hrs\": 0.83, \"max_trip_route_group\": 0.83, \"below_cutoff\": 16, \"pct_below_cutoff\": 1.0, \"name\": \"City of San Luis Obispo\", \"caltrans_district\": \"05 - San Luis Obispo\", \"drmt_organization_name\": null, \"route_name\": \"Higuera/Lovr/Madonna\", \"cutoff2\": 20, \"cutoff\": 0}, {\"calitp_itp_id\": 287, \"trip_key\": 4048141449126518879, \"trip_id\": \"10866895|10866878:T11|16:15:00\", \"shape_id\": \"10866895:1\", \"route_id\": \"10866895\", \"service_hours\": 0.83, \"trip_first_departure_ts\": 58500, \"trip_last_arrival_ts\": 61500, \"departure_hour\": 16, \"time_of_day\": \"Midday\", \"p25\": 0.83, \"p50\": 0.83, \"p75\": 0.83, \"p50_trip\": 1, \"fastest_trip\": 0, \"car_duration_hours\": 0.66, \"competitive_route\": 1, \"bus_multiplier\": 1.26, \"bus_difference\": 10.2, \"num_trips\": 16, \"num_competitive\": 16, \"pct_trips_competitive\": 1.0, \"bus_difference_spread\": 4.799999999999999, \"route_group\": \"short\", \"max_trip_hrs\": 0.83, \"max_trip_route_group\": 0.83, \"below_cutoff\": 16, \"pct_below_cutoff\": 1.0, \"name\": \"City of San Luis Obispo\", \"caltrans_district\": \"05 - San Luis Obispo\", \"drmt_organization_name\": null, \"route_name\": \"Higuera/Lovr/Madonna\", \"cutoff2\": 20, \"cutoff\": 0}, {\"calitp_itp_id\": 287, \"trip_key\": 8756076818352833383, \"trip_id\": \"10866895|10866878:T10|15:15:00\", \"shape_id\": \"10866895:1\", \"route_id\": \"10866895\", \"service_hours\": 0.83, \"trip_first_departure_ts\": 54900, \"trip_last_arrival_ts\": 57900, \"departure_hour\": 15, \"time_of_day\": \"Midday\", \"p25\": 0.83, \"p50\": 0.83, \"p75\": 0.83, \"p50_trip\": 1, \"fastest_trip\": 0, \"car_duration_hours\": 0.66, \"competitive_route\": 1, \"bus_multiplier\": 1.26, \"bus_difference\": 10.2, \"num_trips\": 16, \"num_competitive\": 16, \"pct_trips_competitive\": 1.0, \"bus_difference_spread\": 4.799999999999999, \"route_group\": \"short\", \"max_trip_hrs\": 0.83, \"max_trip_route_group\": 0.83, \"below_cutoff\": 16, \"pct_below_cutoff\": 1.0, \"name\": \"City of San Luis Obispo\", \"caltrans_district\": \"05 - San Luis Obispo\", \"drmt_organization_name\": null, \"route_name\": \"Higuera/Lovr/Madonna\", \"cutoff2\": 20, \"cutoff\": 0}, {\"calitp_itp_id\": 287, \"trip_key\": -337138823151757011, \"trip_id\": \"10866895|10866878:T2|7:15:00\", \"shape_id\": \"10866895:1\", \"route_id\": \"10866895\", \"service_hours\": 0.83, \"trip_first_departure_ts\": 26100, \"trip_last_arrival_ts\": 29100, \"departure_hour\": 7, \"time_of_day\": \"AM Peak\", \"p25\": 0.83, \"p50\": 0.83, \"p75\": 0.83, \"p50_trip\": 1, \"fastest_trip\": 0, \"car_duration_hours\": 0.66, \"competitive_route\": 1, \"bus_multiplier\": 1.26, \"bus_difference\": 10.2, \"num_trips\": 16, \"num_competitive\": 16, \"pct_trips_competitive\": 1.0, \"bus_difference_spread\": 4.799999999999999, \"route_group\": \"short\", \"max_trip_hrs\": 0.83, \"max_trip_route_group\": 0.83, \"below_cutoff\": 16, \"pct_below_cutoff\": 1.0, \"name\": \"City of San Luis Obispo\", \"caltrans_district\": \"05 - San Luis Obispo\", \"drmt_organization_name\": null, \"route_name\": \"Higuera/Lovr/Madonna\", \"cutoff2\": 20, \"cutoff\": 0}, {\"calitp_itp_id\": 287, \"trip_key\": 8690689891617402664, \"trip_id\": \"10866895|10866878:T5|10:15:00\", \"shape_id\": \"10866895:1\", \"route_id\": \"10866895\", \"service_hours\": 0.83, \"trip_first_departure_ts\": 36900, \"trip_last_arrival_ts\": 39900, \"departure_hour\": 10, \"time_of_day\": \"Midday\", \"p25\": 0.83, \"p50\": 0.83, \"p75\": 0.83, \"p50_trip\": 1, \"fastest_trip\": 0, \"car_duration_hours\": 0.66, \"competitive_route\": 1, \"bus_multiplier\": 1.26, \"bus_difference\": 10.2, \"num_trips\": 16, \"num_competitive\": 16, \"pct_trips_competitive\": 1.0, \"bus_difference_spread\": 4.799999999999999, \"route_group\": \"short\", \"max_trip_hrs\": 0.83, \"max_trip_route_group\": 0.83, \"below_cutoff\": 16, \"pct_below_cutoff\": 1.0, \"name\": \"City of San Luis Obispo\", \"caltrans_district\": \"05 - San Luis Obispo\", \"drmt_organization_name\": null, \"route_name\": \"Higuera/Lovr/Madonna\", \"cutoff2\": 20, \"cutoff\": 0}, {\"calitp_itp_id\": 287, \"trip_key\": 8403400176178132488, \"trip_id\": \"10866895|10866878:T8|13:15:00\", \"shape_id\": \"10866895:1\", \"route_id\": \"10866895\", \"service_hours\": 0.83, \"trip_first_departure_ts\": 47700, \"trip_last_arrival_ts\": 50700, \"departure_hour\": 13, \"time_of_day\": \"Midday\", \"p25\": 0.83, \"p50\": 0.83, \"p75\": 0.83, \"p50_trip\": 1, \"fastest_trip\": 0, \"car_duration_hours\": 0.66, \"competitive_route\": 1, \"bus_multiplier\": 1.26, \"bus_difference\": 10.2, \"num_trips\": 16, \"num_competitive\": 16, \"pct_trips_competitive\": 1.0, \"bus_difference_spread\": 4.799999999999999, \"route_group\": \"short\", \"max_trip_hrs\": 0.83, \"max_trip_route_group\": 0.83, \"below_cutoff\": 16, \"pct_below_cutoff\": 1.0, \"name\": \"City of San Luis Obispo\", \"caltrans_district\": \"05 - San Luis Obispo\", \"drmt_organization_name\": null, \"route_name\": \"Higuera/Lovr/Madonna\", \"cutoff2\": 20, \"cutoff\": 0}, {\"calitp_itp_id\": 287, \"trip_key\": 5691201698693500380, \"trip_id\": \"10866895|10866878:T14|19:15:00\", \"shape_id\": \"10866895:1\", \"route_id\": \"10866895\", \"service_hours\": 0.83, \"trip_first_departure_ts\": 69300, \"trip_last_arrival_ts\": 72300, \"departure_hour\": 19, \"time_of_day\": \"PM Peak\", \"p25\": 0.83, \"p50\": 0.83, \"p75\": 0.83, \"p50_trip\": 1, \"fastest_trip\": 0, \"car_duration_hours\": 0.66, \"competitive_route\": 1, \"bus_multiplier\": 1.26, \"bus_difference\": 10.2, \"num_trips\": 16, \"num_competitive\": 16, \"pct_trips_competitive\": 1.0, \"bus_difference_spread\": 4.799999999999999, \"route_group\": \"short\", \"max_trip_hrs\": 0.83, \"max_trip_route_group\": 0.83, \"below_cutoff\": 16, \"pct_below_cutoff\": 1.0, \"name\": \"City of San Luis Obispo\", \"caltrans_district\": \"05 - San Luis Obispo\", \"drmt_organization_name\": null, \"route_name\": \"Higuera/Lovr/Madonna\", \"cutoff2\": 20, \"cutoff\": 0}, {\"calitp_itp_id\": 287, \"trip_key\": -3997273526614680756, \"trip_id\": \"10866895|10866878:T15|20:15:00\", \"shape_id\": \"10866895:1\", \"route_id\": \"10866895\", \"service_hours\": 0.83, \"trip_first_departure_ts\": 72900, \"trip_last_arrival_ts\": 75900, \"departure_hour\": 20, \"time_of_day\": \"Owl Service\", \"p25\": 0.83, \"p50\": 0.83, \"p75\": 0.83, \"p50_trip\": 1, \"fastest_trip\": 0, \"car_duration_hours\": 0.66, \"competitive_route\": 1, \"bus_multiplier\": 1.26, \"bus_difference\": 10.2, \"num_trips\": 16, \"num_competitive\": 16, \"pct_trips_competitive\": 1.0, \"bus_difference_spread\": 4.799999999999999, \"route_group\": \"short\", \"max_trip_hrs\": 0.83, \"max_trip_route_group\": 0.83, \"below_cutoff\": 16, \"pct_below_cutoff\": 1.0, \"name\": \"City of San Luis Obispo\", \"caltrans_district\": \"05 - San Luis Obispo\", \"drmt_organization_name\": null, \"route_name\": \"Higuera/Lovr/Madonna\", \"cutoff2\": 20, \"cutoff\": 0}, {\"calitp_itp_id\": 287, \"trip_key\": 7084391541408794417, \"trip_id\": \"10866895|10866878:T7|12:15:00\", \"shape_id\": \"10866895:1\", \"route_id\": \"10866895\", \"service_hours\": 0.83, \"trip_first_departure_ts\": 44100, \"trip_last_arrival_ts\": 47100, \"departure_hour\": 12, \"time_of_day\": \"Midday\", \"p25\": 0.83, \"p50\": 0.83, \"p75\": 0.83, \"p50_trip\": 1, \"fastest_trip\": 0, \"car_duration_hours\": 0.66, \"competitive_route\": 1, \"bus_multiplier\": 1.26, \"bus_difference\": 10.2, \"num_trips\": 16, \"num_competitive\": 16, \"pct_trips_competitive\": 1.0, \"bus_difference_spread\": 4.799999999999999, \"route_group\": \"short\", \"max_trip_hrs\": 0.83, \"max_trip_route_group\": 0.83, \"below_cutoff\": 16, \"pct_below_cutoff\": 1.0, \"name\": \"City of San Luis Obispo\", \"caltrans_district\": \"05 - San Luis Obispo\", \"drmt_organization_name\": null, \"route_name\": \"Higuera/Lovr/Madonna\", \"cutoff2\": 20, \"cutoff\": 0}]}}, {\"mode\": \"vega-lite\"});\n",
       "</script>"
      ],
      "text/plain": [
       "alt.FacetChart(...)"
      ]
     },
     "metadata": {},
     "output_type": "display_data"
    },
    {
     "data": {
      "text/html": [
       "<h4>Route Stats</h4>"
      ],
      "text/plain": [
       "<IPython.core.display.HTML object>"
      ]
     },
     "metadata": {},
     "output_type": "display_data"
    },
    {
     "data": {
      "text/html": [
       "<style type=\"text/css\">\n",
       "</style>\n",
       "<table id=\"T_7dfdc\">\n",
       "  <thead>\n",
       "    <tr>\n",
       "      <th id=\"T_7dfdc_level0_col0\" class=\"col_heading level0 col0\" >Route ID</th>\n",
       "      <th id=\"T_7dfdc_level0_col1\" class=\"col_heading level0 col1\" >Route Name</th>\n",
       "      <th id=\"T_7dfdc_level0_col2\" class=\"col_heading level0 col2\" ># trips</th>\n",
       "      <th id=\"T_7dfdc_level0_col3\" class=\"col_heading level0 col3\" >Daily Avg Frequency (trips per hr)</th>\n",
       "      <th id=\"T_7dfdc_level0_col4\" class=\"col_heading level0 col4\" >25th, 50th, 75th ptile (hrs)</th>\n",
       "      <th id=\"T_7dfdc_level0_col5\" class=\"col_heading level0 col5\" >PM Peak Avg Frequency (trips per hr)</th>\n",
       "    </tr>\n",
       "  </thead>\n",
       "  <tbody>\n",
       "    <tr>\n",
       "      <td id=\"T_7dfdc_row0_col0\" class=\"data row0 col0\" >10866895</td>\n",
       "      <td id=\"T_7dfdc_row0_col1\" class=\"data row0 col1\" >Higuera/Lovr/Madonna</td>\n",
       "      <td id=\"T_7dfdc_row0_col2\" class=\"data row0 col2\" >16</td>\n",
       "      <td id=\"T_7dfdc_row0_col3\" class=\"data row0 col3\" >0.67</td>\n",
       "      <td id=\"T_7dfdc_row0_col4\" class=\"data row0 col4\" >0.83, 0.83, 0.83</td>\n",
       "      <td id=\"T_7dfdc_row0_col5\" class=\"data row0 col5\" >1.0</td>\n",
       "    </tr>\n",
       "  </tbody>\n",
       "</table>\n"
      ],
      "text/plain": [
       "<IPython.core.display.HTML object>"
      ]
     },
     "metadata": {},
     "output_type": "display_data"
    }
   ],
   "source": [
    "# Allow for possibility that operator doesn't have routes that fall into certain route_groups\n",
    "# But, jupyterbook will not like markdown with f-string\n",
    "# separate out route_group and put in each cell, and use try/except + if to display...\n",
    "# but all 3 route groups must be displayed. just add sentence about why no routes were returned at the end\n",
    "route_group = \"short\"\n",
    "try:\n",
    "    display_charts_for_route_group(df, route_group)\n",
    "except:\n",
    "    print(\"No routes meet this criteria.\")"
   ]
  },
  {
   "cell_type": "markdown",
   "id": "c2931b6f-034d-4384-9e14-80b925e3b820",
   "metadata": {
    "papermill": {
     "duration": 0.016977,
     "end_time": "2022-05-11T22:08:29.730555",
     "exception": false,
     "start_time": "2022-05-11T22:08:29.713578",
     "status": "completed"
    },
    "tags": []
   },
   "source": [
    "### Medium Routes (1-1.5 hrs)"
   ]
  },
  {
   "cell_type": "code",
   "execution_count": 15,
   "id": "480edddc-4de0-48c2-ae4c-b0ceef8f28b5",
   "metadata": {
    "execution": {
     "iopub.execute_input": "2022-05-11T22:08:29.764950Z",
     "iopub.status.busy": "2022-05-11T22:08:29.764436Z",
     "iopub.status.idle": "2022-05-11T22:08:29.775355Z",
     "shell.execute_reply": "2022-05-11T22:08:29.774719Z"
    },
    "jupyter": {
     "source_hidden": true
    },
    "papermill": {
     "duration": 0.030567,
     "end_time": "2022-05-11T22:08:29.776991",
     "exception": false,
     "start_time": "2022-05-11T22:08:29.746424",
     "status": "completed"
    },
    "tags": [
     "remove_input"
    ]
   },
   "outputs": [
    {
     "name": "stdout",
     "output_type": "stream",
     "text": [
      "No routes meet this criteria.\n"
     ]
    }
   ],
   "source": [
    "route_group = \"medium\"\n",
    "try:\n",
    "    display_charts_for_route_group(df, route_group)\n",
    "except:\n",
    "    print(\"No routes meet this criteria.\")"
   ]
  },
  {
   "cell_type": "markdown",
   "id": "124b76d0-886c-4d03-92ac-f1bda3cda182",
   "metadata": {
    "papermill": {
     "duration": 0.017699,
     "end_time": "2022-05-11T22:08:29.820223",
     "exception": false,
     "start_time": "2022-05-11T22:08:29.802524",
     "status": "completed"
    },
    "tags": []
   },
   "source": [
    "### Long Routes (> 1.5 hrs)"
   ]
  },
  {
   "cell_type": "code",
   "execution_count": 16,
   "id": "ddc81b19-4c45-4c81-8b7a-5e0f394aa7a3",
   "metadata": {
    "execution": {
     "iopub.execute_input": "2022-05-11T22:08:29.855914Z",
     "iopub.status.busy": "2022-05-11T22:08:29.855392Z",
     "iopub.status.idle": "2022-05-11T22:08:29.866522Z",
     "shell.execute_reply": "2022-05-11T22:08:29.865940Z"
    },
    "jupyter": {
     "source_hidden": true
    },
    "papermill": {
     "duration": 0.030856,
     "end_time": "2022-05-11T22:08:29.868187",
     "exception": false,
     "start_time": "2022-05-11T22:08:29.837331",
     "status": "completed"
    },
    "tags": [
     "remove_input"
    ]
   },
   "outputs": [
    {
     "name": "stdout",
     "output_type": "stream",
     "text": [
      "No routes meet this criteria.\n"
     ]
    }
   ],
   "source": [
    "route_group = \"long\"\n",
    "try:\n",
    "    display_charts_for_route_group(df, route_group)\n",
    "except:\n",
    "    print(\"No routes meet this criteria.\")"
   ]
  },
  {
   "cell_type": "markdown",
   "id": "ace75b5f-0442-4fbe-aebd-6c3a13ae13a7",
   "metadata": {
    "papermill": {
     "duration": 0.017675,
     "end_time": "2022-05-11T22:08:29.906349",
     "exception": false,
     "start_time": "2022-05-11T22:08:29.888674",
     "status": "completed"
    },
    "tags": []
   },
   "source": [
    "### GTFS Real-Time Speedmaps"
   ]
  },
  {
   "cell_type": "code",
   "execution_count": 17,
   "id": "a0a114a1-e975-4027-9daf-50029f5ef59f",
   "metadata": {
    "execution": {
     "iopub.execute_input": "2022-05-11T22:08:29.942355Z",
     "iopub.status.busy": "2022-05-11T22:08:29.941710Z",
     "iopub.status.idle": "2022-05-11T22:08:29.962903Z",
     "shell.execute_reply": "2022-05-11T22:08:29.962083Z"
    },
    "jupyter": {
     "source_hidden": true
    },
    "papermill": {
     "duration": 0.041292,
     "end_time": "2022-05-11T22:08:29.964842",
     "exception": false,
     "start_time": "2022-05-11T22:08:29.923550",
     "status": "completed"
    },
    "tags": [
     "remove_input"
    ]
   },
   "outputs": [
    {
     "data": {
      "text/html": [
       "No GTFS RT data available."
      ],
      "text/plain": [
       "<IPython.core.display.HTML object>"
      ]
     },
     "metadata": {},
     "output_type": "display_data"
    }
   ],
   "source": [
    "RT_SITE_YAML = \"../portfolio/sites/rt.yml\"\n",
    "\n",
    "# Grab list of ITP IDs with GTFS RT speedmaps\n",
    "rt_itp_id = deploy_portfolio_yaml.check_if_rt_data_available(RT_SITE_YAML)\n",
    "\n",
    "# Construct the URL \n",
    "RT_URL = (\"https://analysis.calitp.org/rt/\"\n",
    "          f\"district_{district_number}-{district_name}/\"\n",
    "          f\"speedmaps__itp_id_{itp_id}.html\"\n",
    "         ) \n",
    "\n",
    "# If this ITP ID is found in RT analysis, give URL to that operator in analysis.calitp.org\n",
    "if itp_id in rt_itp_id:\n",
    "    display(HTML(f'''<a href={RT_URL}>GTFS RT speedmaps here.</a>'''))\n",
    "\n",
    "else:\n",
    "    display(HTML(\"No GTFS RT data available.\"))"
   ]
  },
  {
   "cell_type": "code",
   "execution_count": null,
   "id": "5b680565-2230-4f2e-817c-718fad48d64c",
   "metadata": {
    "jupyter": {
     "source_hidden": true
    },
    "papermill": {
     "duration": 0.022015,
     "end_time": "2022-05-11T22:08:30.005376",
     "exception": false,
     "start_time": "2022-05-11T22:08:29.983361",
     "status": "completed"
    },
    "tags": [
     "remove_input"
    ]
   },
   "outputs": [],
   "source": []
  }
 ],
 "metadata": {
  "kernelspec": {
   "display_name": "Python 3 (ipykernel)",
   "language": "python",
   "name": "python3"
  },
  "language_info": {
   "codemirror_mode": {
    "name": "ipython",
    "version": 3
   },
   "file_extension": ".py",
   "mimetype": "text/x-python",
   "name": "python",
   "nbconvert_exporter": "python",
   "pygments_lexer": "ipython3",
   "version": "3.9.12"
  },
  "papermill": {
   "default_parameters": {},
   "duration": 23.108607,
   "end_time": "2022-05-11T22:08:31.151065",
   "environment_variables": {},
   "exception": null,
   "input_path": "bus_service_increase/competitive-parallel-routes.ipynb",
   "output_path": "portfolio/parallel_corridors/district_05-san-luis-obispo/4__competitive-parallel-routes__district_05-san-luis-obispo__itp_id_287.ipynb",
   "parameters": {
    "district": "05 - San Luis Obispo",
    "itp_id": 287
   },
   "start_time": "2022-05-11T22:08:08.042458",
   "version": "2.3.4"
  }
 },
 "nbformat": 4,
 "nbformat_minor": 5
}