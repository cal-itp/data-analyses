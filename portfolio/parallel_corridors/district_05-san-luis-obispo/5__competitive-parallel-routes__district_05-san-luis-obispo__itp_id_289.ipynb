{
 "cells": [
  {
   "cell_type": "code",
   "execution_count": 1,
   "id": "95d00857-6a20-4529-a519-2cc7182928a9",
   "metadata": {
    "execution": {
     "iopub.execute_input": "2022-05-11T22:08:32.315777Z",
     "iopub.status.busy": "2022-05-11T22:08:32.315438Z",
     "iopub.status.idle": "2022-05-11T22:08:40.658523Z",
     "shell.execute_reply": "2022-05-11T22:08:40.657633Z"
    },
    "jupyter": {
     "source_hidden": true
    },
    "papermill": {
     "duration": 8.360508,
     "end_time": "2022-05-11T22:08:40.660908",
     "exception": false,
     "start_time": "2022-05-11T22:08:32.300400",
     "status": "completed"
    },
    "tags": [
     "remove_input"
    ]
   },
   "outputs": [],
   "source": [
    "%%capture\n",
    "import warnings\n",
    "warnings.filterwarnings('ignore')\n",
    "\n",
    "import altair as alt\n",
    "import calitp.magics\n",
    "import geopandas as gpd\n",
    "import intake\n",
    "import pandas as pd\n",
    "\n",
    "from IPython.display import display, Markdown, HTML\n",
    "\n",
    "import parallel_corridors_utils\n",
    "import deploy_portfolio_yaml\n",
    "from shared_utils import styleguide, geography_utils\n",
    "from make_stripplot_data import diff_cutoffs\n",
    "\n",
    "catalog = intake.open_catalog(\"./*.yml\")\n",
    "alt.renderers.enable(\"html\")"
   ]
  },
  {
   "cell_type": "code",
   "execution_count": 2,
   "id": "8af2a0c1-f3da-408d-9bea-11d9fbf8695d",
   "metadata": {
    "execution": {
     "iopub.execute_input": "2022-05-11T22:08:40.692496Z",
     "iopub.status.busy": "2022-05-11T22:08:40.692173Z",
     "iopub.status.idle": "2022-05-11T22:08:40.697064Z",
     "shell.execute_reply": "2022-05-11T22:08:40.696217Z"
    },
    "jupyter": {
     "source_hidden": true
    },
    "papermill": {
     "duration": 0.02255,
     "end_time": "2022-05-11T22:08:40.698927",
     "exception": false,
     "start_time": "2022-05-11T22:08:40.676377",
     "status": "completed"
    },
    "tags": [
     "parameters",
     "remove_input"
    ]
   },
   "outputs": [],
   "source": [
    "# parameters cell\n",
    "itp_id = 182"
   ]
  },
  {
   "cell_type": "code",
   "execution_count": 3,
   "id": "63b221f6",
   "metadata": {
    "execution": {
     "iopub.execute_input": "2022-05-11T22:08:40.728083Z",
     "iopub.status.busy": "2022-05-11T22:08:40.727812Z",
     "iopub.status.idle": "2022-05-11T22:08:40.731643Z",
     "shell.execute_reply": "2022-05-11T22:08:40.730676Z"
    },
    "jupyter": {
     "source_hidden": true
    },
    "papermill": {
     "duration": 0.021347,
     "end_time": "2022-05-11T22:08:40.733992",
     "exception": false,
     "start_time": "2022-05-11T22:08:40.712645",
     "status": "completed"
    },
    "tags": [
     "injected-parameters",
     "remove_input"
    ]
   },
   "outputs": [],
   "source": [
    "# Parameters\n",
    "district = \"05 - San Luis Obispo\"\n",
    "itp_id = 289\n"
   ]
  },
  {
   "cell_type": "code",
   "execution_count": 4,
   "id": "9582aaf4-79ff-412a-b248-8d8d693ebd4f",
   "metadata": {
    "execution": {
     "iopub.execute_input": "2022-05-11T22:08:40.760195Z",
     "iopub.status.busy": "2022-05-11T22:08:40.759905Z",
     "iopub.status.idle": "2022-05-11T22:08:41.958273Z",
     "shell.execute_reply": "2022-05-11T22:08:41.957666Z"
    },
    "jupyter": {
     "source_hidden": true
    },
    "papermill": {
     "duration": 1.213654,
     "end_time": "2022-05-11T22:08:41.960275",
     "exception": false,
     "start_time": "2022-05-11T22:08:40.746621",
     "status": "completed"
    },
    "tags": [
     "remove_input"
    ]
   },
   "outputs": [],
   "source": [
    "df = catalog.competitive_route_variability.read()\n",
    "\n",
    "df = (df[(df.calitp_itp_id == itp_id) & \n",
    "         (df.route_group.notna())]\n",
    "      .rename(columns = {\"route_name_used\": \"route_name\"})\n",
    "      .reset_index(drop=True)\n",
    "     )\n",
    "\n",
    "if itp_id == 182:\n",
    "    df = df.assign(\n",
    "        route_id = df.route_id.str.replace('-13153', '').astype(int)\n",
    "    )"
   ]
  },
  {
   "cell_type": "code",
   "execution_count": 5,
   "id": "33ac4b06-f647-4dce-a625-8f2c1b37cc60",
   "metadata": {
    "execution": {
     "iopub.execute_input": "2022-05-11T22:08:41.988105Z",
     "iopub.status.busy": "2022-05-11T22:08:41.986920Z",
     "iopub.status.idle": "2022-05-11T22:08:41.994055Z",
     "shell.execute_reply": "2022-05-11T22:08:41.993282Z"
    },
    "jupyter": {
     "source_hidden": true
    },
    "papermill": {
     "duration": 0.023586,
     "end_time": "2022-05-11T22:08:41.996087",
     "exception": false,
     "start_time": "2022-05-11T22:08:41.972501",
     "status": "completed"
    },
    "tags": [
     "remove_input"
    ]
   },
   "outputs": [],
   "source": [
    "%%capture_parameters\n",
    "operator_name = df.name.iloc[0]\n",
    "district_number = f\"{df.caltrans_district.iloc[0].split('-')[0].strip()}\"\n",
    "district_name = f\"{df.caltrans_district.iloc[0].split('-')[1].strip().lower().replace(' ', '-')}\"\n",
    "\n",
    "itp_id, operator_name, district_number, district_name"
   ]
  },
  {
   "cell_type": "markdown",
   "id": "65bc6f5c-8348-42ee-b2dd-52057c406852",
   "metadata": {
    "papermill": {
     "duration": 0.012621,
     "end_time": "2022-05-11T22:08:42.021620",
     "exception": false,
     "start_time": "2022-05-11T22:08:42.008999",
     "status": "completed"
    },
    "tags": []
   },
   "source": [
    "# San Luis Obispo Regional Transit Authority  (ITP ID: 289)"
   ]
  },
  {
   "cell_type": "code",
   "execution_count": 6,
   "id": "a689c1ab-2c6c-4831-8d64-897f5986f571",
   "metadata": {
    "execution": {
     "iopub.execute_input": "2022-05-11T22:08:42.048469Z",
     "iopub.status.busy": "2022-05-11T22:08:42.047669Z",
     "iopub.status.idle": "2022-05-11T22:08:42.054249Z",
     "shell.execute_reply": "2022-05-11T22:08:42.053452Z"
    },
    "jupyter": {
     "source_hidden": true
    },
    "papermill": {
     "duration": 0.022563,
     "end_time": "2022-05-11T22:08:42.056322",
     "exception": false,
     "start_time": "2022-05-11T22:08:42.033759",
     "status": "completed"
    },
    "tags": [
     "remove_input"
    ]
   },
   "outputs": [
    {
     "data": {
      "text/html": [
       "<h1>Competitive & Parallel Routes</h1>"
      ],
      "text/plain": [
       "<IPython.core.display.HTML object>"
      ]
     },
     "metadata": {},
     "output_type": "display_data"
    }
   ],
   "source": [
    "display(HTML(\"<h1>Competitive & Parallel Routes</h1>\")) "
   ]
  },
  {
   "cell_type": "code",
   "execution_count": 7,
   "id": "2cb4d8d5-4760-40e4-85b1-cb833d8bb648",
   "metadata": {
    "execution": {
     "iopub.execute_input": "2022-05-11T22:08:42.090042Z",
     "iopub.status.busy": "2022-05-11T22:08:42.089186Z",
     "iopub.status.idle": "2022-05-11T22:08:52.068401Z",
     "shell.execute_reply": "2022-05-11T22:08:52.067742Z"
    },
    "jupyter": {
     "source_hidden": true
    },
    "papermill": {
     "duration": 9.999989,
     "end_time": "2022-05-11T22:08:52.070537",
     "exception": false,
     "start_time": "2022-05-11T22:08:42.070548",
     "status": "completed"
    },
    "tags": [
     "remove_input"
    ]
   },
   "outputs": [],
   "source": [
    "# Grab parameters for narrative text - clean up formatting here \n",
    "district = df.caltrans_district.iloc[0]\n",
    "formatted_date = pd.to_datetime(parallel_corridors_utils.SELECTED_DATE).strftime('%m-%d-%Y')\n",
    "\n",
    "PCT_COMPETITIVE_THRESHOLD = 0.75\n",
    "PCT_TRIPS_BELOW_CUTOFF = 0.50\n",
    "\n",
    "stats = parallel_corridors_utils.operator_parallel_competitive_stats(\n",
    "    itp_id, PCT_COMPETITIVE_THRESHOLD, PCT_TRIPS_BELOW_CUTOFF)\n",
    "\n",
    "pct_parallel = round(stats['parallel_routes'] / stats['num_routes'] * 100, 1 )\n",
    "pct_competitive =  round(stats['competitive_routes'] / stats['num_routes'] * 100, 1 )\n",
    "pct_viable =  round(stats['viable_competitive_routes'] / stats['num_routes'] * 100, 1 )"
   ]
  },
  {
   "cell_type": "code",
   "execution_count": 8,
   "id": "8bf30c8f-6aa5-47bb-82ae-a906732e81fd",
   "metadata": {
    "execution": {
     "iopub.execute_input": "2022-05-11T22:08:52.101410Z",
     "iopub.status.busy": "2022-05-11T22:08:52.100744Z",
     "iopub.status.idle": "2022-05-11T22:08:52.128489Z",
     "shell.execute_reply": "2022-05-11T22:08:52.127240Z"
    },
    "jupyter": {
     "source_hidden": true
    },
    "papermill": {
     "duration": 0.046824,
     "end_time": "2022-05-11T22:08:52.130723",
     "exception": false,
     "start_time": "2022-05-11T22:08:52.083899",
     "status": "completed"
    },
    "tags": [
     "remove_input"
    ]
   },
   "outputs": [],
   "source": [
    "# Display a table of route-level stats for each route_group\n",
    "# Displaying route_name makes chart too crowded\n",
    "\n",
    "# Get route stats (for entire df)\n",
    "route_stats = parallel_corridors_utils.competitive_route_level_stats(df)\n",
    "    \n",
    "def style_route_stats(df, top15_routes):\n",
    "    df = df[df.route_id.isin(top15_routes)]\n",
    "    \n",
    "    # Rename columns for display\n",
    "    rename_cols = {\n",
    "        \"route_id\": \"Route ID\",\n",
    "        \"route_name\": \"Route Name\",\n",
    "        \"route_group\": \"Route Group\",\n",
    "        \"num_trips\": \"# trips\",\n",
    "        \"daily_avg_freq\": \"Daily Avg Frequency (trips per hr)\",\n",
    "        \"pm_peak_freq\": \"PM Peak Avg Frequency (trips per hr)\",\n",
    "        \"percentiles\": \"25th, 50th, 75th ptile (hrs)\",\n",
    "    }\n",
    "    \n",
    "    # Style it\n",
    "    drop_cols = [\n",
    "        \"calitp_itp_id\", \"below_cutoff\", \"route_group\", \n",
    "        \"pct_trips_competitive\", \"pct_below_cutoff\",\n",
    "        \"p25\", \"p50\", \"p75\",\n",
    "    ]\n",
    "    \n",
    "    df_style = (df.sort_values(\n",
    "        [\"pct_trips_competitive\", \"below_cutoff\", \n",
    "        \"pct_below_cutoff\", \"route_id\"], \n",
    "        ascending=[False, False, False, True])\n",
    "           .drop(columns = drop_cols)\n",
    "           .rename(columns = rename_cols)\n",
    "           .style.format({\n",
    "               #'% trips within 2x car travel': '{:,.1%}', \n",
    "               'Daily Avg Frequency (trips per hr)': '{:,.3}',\n",
    "               'PM Peak Avg Frequency (trips per hr)': '{:,.3}',\n",
    "           })\n",
    "           .hide(axis=\"index\")\n",
    "           .to_html()\n",
    "          )\n",
    "    \n",
    "    display(HTML(\"<h4>Route Stats</h4>\"))\n",
    "    display(HTML(df_style))"
   ]
  },
  {
   "cell_type": "markdown",
   "id": "ab667928-5274-4490-82d9-4c39293209a4",
   "metadata": {
    "papermill": {
     "duration": 0.012593,
     "end_time": "2022-05-11T22:08:52.156330",
     "exception": false,
     "start_time": "2022-05-11T22:08:52.143737",
     "status": "completed"
    },
    "tags": []
   },
   "source": [
    "## Quick Stats"
   ]
  },
  {
   "cell_type": "code",
   "execution_count": 9,
   "id": "0416509d-dc62-4165-b62e-64f8b26e8b8e",
   "metadata": {
    "execution": {
     "iopub.execute_input": "2022-05-11T22:08:52.182911Z",
     "iopub.status.busy": "2022-05-11T22:08:52.182640Z",
     "iopub.status.idle": "2022-05-11T22:08:52.192906Z",
     "shell.execute_reply": "2022-05-11T22:08:52.191992Z"
    },
    "jupyter": {
     "source_hidden": true
    },
    "papermill": {
     "duration": 0.026881,
     "end_time": "2022-05-11T22:08:52.195606",
     "exception": false,
     "start_time": "2022-05-11T22:08:52.168725",
     "status": "completed"
    },
    "tags": [
     "remove_input"
    ]
   },
   "outputs": [
    {
     "data": {
      "text/markdown": [
       "**Bus routes in service: 16**<br>**Parallel routes** to State Highway Network (SHN): **12 routes (75.0%)**<br>**Competitive routes** against car travel (within 2x car travel time): **6 routes (37.5%)**<br>**Viable competitive routes** against car travel (within 2x car travel time and within 20, 30, or 40 min cut-off): **5 routes (31.2%)**"
      ],
      "text/plain": [
       "<IPython.core.display.Markdown object>"
      ]
     },
     "metadata": {},
     "output_type": "display_data"
    }
   ],
   "source": [
    "display(\n",
    "    Markdown(\n",
    "        f\"**Bus routes in service: {stats['num_routes']}**\"\n",
    "        \"<br>**Parallel routes** to State Highway Network (SHN): \"\n",
    "        f\"**{stats['parallel_routes']} routes ({pct_parallel}%)**\"\n",
    "        \"<br>**Competitive routes** against car travel (within 2x car travel time): \"\n",
    "        f\"**{stats['competitive_routes']} routes ({pct_competitive}%)**\"\n",
    "        \"<br>**Viable competitive routes** against car travel \"\n",
    "        \"(within 2x car travel time and within 20, 30, or 40 min cut-off): \"\n",
    "        f\"**{stats['viable_competitive_routes']} routes ({pct_viable}%)**\"\n",
    "    )\n",
    ")"
   ]
  },
  {
   "cell_type": "code",
   "execution_count": 10,
   "id": "f9d6ab58-f0ee-460c-b6de-657490e1f386",
   "metadata": {
    "execution": {
     "iopub.execute_input": "2022-05-11T22:08:52.223826Z",
     "iopub.status.busy": "2022-05-11T22:08:52.223568Z",
     "iopub.status.idle": "2022-05-11T22:08:52.229637Z",
     "shell.execute_reply": "2022-05-11T22:08:52.229133Z"
    },
    "jupyter": {
     "source_hidden": true
    },
    "papermill": {
     "duration": 0.02261,
     "end_time": "2022-05-11T22:08:52.231483",
     "exception": false,
     "start_time": "2022-05-11T22:08:52.208873",
     "status": "completed"
    },
    "tags": [
     "remove_input"
    ]
   },
   "outputs": [],
   "source": [
    "def set_yaxis_range(df, y_col):\n",
    "    Y_MIN = df[y_col].min()\n",
    "    Y_MAX = df[y_col].max()\n",
    "    \n",
    "    return Y_MIN, Y_MAX\n",
    "\n",
    "# Rather than set it according to the operator, which can vary,\n",
    "# just use set thresholds for each group\n",
    "def top15_routes(df, route_group):\n",
    "    # grab top 15 routes where majority of trips are below that cut-off \n",
    "    # but show 15 max, otherwise, show less, since these won't be as interesting to operators\n",
    "    df2 = (df[(df.route_group==route_group) &\n",
    "              (df.pct_below_cutoff >= PCT_TRIPS_BELOW_CUTOFF)]\n",
    "           .sort_values([\"calitp_itp_id\", \"below_cutoff\", \n",
    "                         \"pct_below_cutoff\", \"route_id\"],\n",
    "                        ascending = [True, False, False, True]\n",
    "                       )\n",
    "           .drop_duplicates(subset=[\"calitp_itp_id\", \"route_id\"])\n",
    "          ).head(15)\n",
    "    \n",
    "    return list(df2.route_id)"
   ]
  },
  {
   "cell_type": "code",
   "execution_count": 11,
   "id": "cf36d559-3349-4144-8086-8ac9ce937a5a",
   "metadata": {
    "execution": {
     "iopub.execute_input": "2022-05-11T22:08:52.261297Z",
     "iopub.status.busy": "2022-05-11T22:08:52.260645Z",
     "iopub.status.idle": "2022-05-11T22:08:52.267312Z",
     "shell.execute_reply": "2022-05-11T22:08:52.266592Z"
    },
    "jupyter": {
     "source_hidden": true
    },
    "papermill": {
     "duration": 0.022658,
     "end_time": "2022-05-11T22:08:52.269241",
     "exception": false,
     "start_time": "2022-05-11T22:08:52.246583",
     "status": "completed"
    },
    "tags": [
     "remove_input"
    ]
   },
   "outputs": [],
   "source": [
    "def caption_with_cutoff(cutoff):\n",
    "    sentence = (\n",
    "        f\"<br>These are routes that have **at least {int(PCT_TRIPS_BELOW_CUTOFF*100)}% \"\n",
    "        \"of their trips take no more than an \"\n",
    "        f\"additional {cutoff} min** compared to a car \"\n",
    "        \"(up to 15 routes) are shown.\"\n",
    "        \"<br>Within each route group, routes are sorted in descending order \"\n",
    "        \"by % competitive trips and # trips below the additional time cut-off.\"\n",
    "    )\n",
    "    return sentence\n",
    "\n",
    "CAPTIONS_DICT = {\n",
    "    \"short\": caption_with_cutoff(diff_cutoffs['short']),\n",
    "    \"medium\": caption_with_cutoff(diff_cutoffs['medium']),\n",
    "    \"long\": caption_with_cutoff(diff_cutoffs['long']),\n",
    "}"
   ]
  },
  {
   "cell_type": "code",
   "execution_count": 12,
   "id": "e4306d58-6944-47e9-afef-5d5b524c751f",
   "metadata": {
    "execution": {
     "iopub.execute_input": "2022-05-11T22:08:52.305675Z",
     "iopub.status.busy": "2022-05-11T22:08:52.305324Z",
     "iopub.status.idle": "2022-05-11T22:08:52.314055Z",
     "shell.execute_reply": "2022-05-11T22:08:52.313195Z"
    },
    "jupyter": {
     "source_hidden": true
    },
    "papermill": {
     "duration": 0.028041,
     "end_time": "2022-05-11T22:08:52.316499",
     "exception": false,
     "start_time": "2022-05-11T22:08:52.288458",
     "status": "completed"
    },
    "tags": [
     "remove_input"
    ]
   },
   "outputs": [],
   "source": [
    "def setup_charts(df, PCT_COMPETITIVE_THRESHOLD, route_group):\n",
    "    # Set up df for charting (cut-off at some threshold to show most competitive routes)\n",
    "    plot_me = (df[df.pct_trips_competitive > PCT_COMPETITIVE_THRESHOLD]\n",
    "           .drop(columns = \"geometry\")\n",
    "    )\n",
    "    \n",
    "    # Set y-ranges to be the same across route_groups, \n",
    "    # otherwise charts fluctuate too much, even within operator\n",
    "    y_col1 = \"bus_multiplier\"\n",
    "    Y_MIN1, Y_MAX1 = set_yaxis_range(plot_me, y_col1)\n",
    "\n",
    "    y_col2 = \"bus_difference\"\n",
    "    Y_MIN2, Y_MAX2 = set_yaxis_range(plot_me, y_col2)\n",
    "    \n",
    "    # Grab the routes to plot\n",
    "    subset_routes = top15_routes(plot_me, route_group)\n",
    "        \n",
    "    # Display charts\n",
    "    multiplier_chart = parallel_corridors_utils.make_stripplot(\n",
    "        plot_me[plot_me.route_id.isin(subset_routes)], \n",
    "        y_col1, Y_MIN = Y_MIN1, Y_MAX = Y_MAX1\n",
    "    )\n",
    "    \n",
    "    difference_chart = parallel_corridors_utils.make_stripplot(\n",
    "        plot_me[plot_me.route_id.isin(subset_routes)], \n",
    "        y_col2, Y_MIN = Y_MIN2, Y_MAX = Y_MAX2\n",
    "    )\n",
    "    \n",
    "    return subset_routes, multiplier_chart, difference_chart            "
   ]
  },
  {
   "cell_type": "code",
   "execution_count": 13,
   "id": "33a710e8-504c-4942-aa75-ff69f216956e",
   "metadata": {
    "execution": {
     "iopub.execute_input": "2022-05-11T22:08:52.346445Z",
     "iopub.status.busy": "2022-05-11T22:08:52.346169Z",
     "iopub.status.idle": "2022-05-11T22:08:52.351678Z",
     "shell.execute_reply": "2022-05-11T22:08:52.351164Z"
    },
    "jupyter": {
     "source_hidden": true
    },
    "papermill": {
     "duration": 0.022384,
     "end_time": "2022-05-11T22:08:52.353304",
     "exception": false,
     "start_time": "2022-05-11T22:08:52.330920",
     "status": "completed"
    },
    "tags": [
     "remove_input"
    ]
   },
   "outputs": [],
   "source": [
    "def display_charts_for_route_group(df, route_group):    \n",
    "    subset_routes, mult, diff  = setup_charts(df, PCT_COMPETITIVE_THRESHOLD, route_group)\n",
    "\n",
    "    if len(subset_routes) > 0:\n",
    "        display(Markdown(f\"{CAPTIONS_DICT[route_group]}\"))\n",
    "\n",
    "        display(mult)\n",
    "        display(diff)\n",
    "        \n",
    "        # Display route stats for just plotted routes\n",
    "        style_route_stats(route_stats, subset_routes)"
   ]
  },
  {
   "cell_type": "markdown",
   "id": "525f9b38-072b-46d1-96a8-1aa4b038357c",
   "metadata": {
    "papermill": {
     "duration": 0.013175,
     "end_time": "2022-05-11T22:08:52.381101",
     "exception": false,
     "start_time": "2022-05-11T22:08:52.367926",
     "status": "completed"
    },
    "tags": []
   },
   "source": [
    "## Viable Competitive Routes\n",
    "### Short Routes (< 1 hr)"
   ]
  },
  {
   "cell_type": "code",
   "execution_count": 14,
   "id": "57f7084c-2cf7-45c6-ba08-1609e0bd6ca5",
   "metadata": {
    "execution": {
     "iopub.execute_input": "2022-05-11T22:08:52.414115Z",
     "iopub.status.busy": "2022-05-11T22:08:52.413491Z",
     "iopub.status.idle": "2022-05-11T22:08:52.711279Z",
     "shell.execute_reply": "2022-05-11T22:08:52.710390Z"
    },
    "jupyter": {
     "source_hidden": true
    },
    "papermill": {
     "duration": 0.315385,
     "end_time": "2022-05-11T22:08:52.713242",
     "exception": false,
     "start_time": "2022-05-11T22:08:52.397857",
     "status": "completed"
    },
    "tags": [
     "remove_input"
    ]
   },
   "outputs": [
    {
     "data": {
      "text/markdown": [
       "<br>These are routes that have **at least 50% of their trips take no more than an additional 20 min** compared to a car (up to 15 routes) are shown.<br>Within each route group, routes are sorted in descending order by % competitive trips and # trips below the additional time cut-off."
      ],
      "text/plain": [
       "<IPython.core.display.Markdown object>"
      ]
     },
     "metadata": {},
     "output_type": "display_data"
    },
    {
     "data": {
      "text/html": [
       "\n",
       "<div id=\"altair-viz-52bbc2a13ded4a059eb2df3e84ef06b6\"></div>\n",
       "<script type=\"text/javascript\">\n",
       "  var VEGA_DEBUG = (typeof VEGA_DEBUG == \"undefined\") ? {} : VEGA_DEBUG;\n",
       "  (function(spec, embedOpt){\n",
       "    let outputDiv = document.currentScript.previousElementSibling;\n",
       "    if (outputDiv.id !== \"altair-viz-52bbc2a13ded4a059eb2df3e84ef06b6\") {\n",
       "      outputDiv = document.getElementById(\"altair-viz-52bbc2a13ded4a059eb2df3e84ef06b6\");\n",
       "    }\n",
       "    const paths = {\n",
       "      \"vega\": \"https://cdn.jsdelivr.net/npm//vega@5?noext\",\n",
       "      \"vega-lib\": \"https://cdn.jsdelivr.net/npm//vega-lib?noext\",\n",
       "      \"vega-lite\": \"https://cdn.jsdelivr.net/npm//vega-lite@4.17.0?noext\",\n",
       "      \"vega-embed\": \"https://cdn.jsdelivr.net/npm//vega-embed@6?noext\",\n",
       "    };\n",
       "\n",
       "    function maybeLoadScript(lib, version) {\n",
       "      var key = `${lib.replace(\"-\", \"\")}_version`;\n",
       "      return (VEGA_DEBUG[key] == version) ?\n",
       "        Promise.resolve(paths[lib]) :\n",
       "        new Promise(function(resolve, reject) {\n",
       "          var s = document.createElement('script');\n",
       "          document.getElementsByTagName(\"head\")[0].appendChild(s);\n",
       "          s.async = true;\n",
       "          s.onload = () => {\n",
       "            VEGA_DEBUG[key] = version;\n",
       "            return resolve(paths[lib]);\n",
       "          };\n",
       "          s.onerror = () => reject(`Error loading script: ${paths[lib]}`);\n",
       "          s.src = paths[lib];\n",
       "        });\n",
       "    }\n",
       "\n",
       "    function showError(err) {\n",
       "      outputDiv.innerHTML = `<div class=\"error\" style=\"color:red;\">${err}</div>`;\n",
       "      throw err;\n",
       "    }\n",
       "\n",
       "    function displayChart(vegaEmbed) {\n",
       "      vegaEmbed(outputDiv, spec, embedOpt)\n",
       "        .catch(err => showError(`Javascript Error: ${err.message}<br>This usually means there's a typo in your chart specification. See the javascript console for the full traceback.`));\n",
       "    }\n",
       "\n",
       "    if(typeof define === \"function\" && define.amd) {\n",
       "      requirejs.config({paths});\n",
       "      require([\"vega-embed\"], displayChart, err => showError(`Error loading script: ${err.message}`));\n",
       "    } else {\n",
       "      maybeLoadScript(\"vega\", \"5\")\n",
       "        .then(() => maybeLoadScript(\"vega-lite\", \"4.17.0\"))\n",
       "        .then(() => maybeLoadScript(\"vega-embed\", \"6\"))\n",
       "        .catch(showError)\n",
       "        .then(() => displayChart(vegaEmbed));\n",
       "    }\n",
       "  })({\"config\": {\"view\": {\"continuousWidth\": 400, \"continuousHeight\": 300, \"stroke\": null}, \"facet\": {\"spacing\": 0}}, \"data\": {\"name\": \"data-8cedc5d8641d002136d2b1bf653fb761\"}, \"facet\": {\"column\": {\"field\": \"route_id\", \"sort\": [\"12N\", \"15S\", \"15N\"], \"title\": \"Route ID\", \"type\": \"nominal\"}}, \"spec\": {\"layer\": [{\"mark\": \"rule\", \"encoding\": {\"color\": {\"value\": \"black\"}, \"y\": {\"field\": \"cutoff\", \"type\": \"quantitative\"}}, \"selection\": {\"selector001\": {\"type\": \"interval\", \"bind\": \"scales\", \"encodings\": [\"x\", \"y\"]}}}, {\"mark\": {\"type\": \"point\", \"opacity\": 0.65, \"size\": 12, \"strokeWidth\": 1.1}, \"encoding\": {\"color\": {\"field\": \"time_of_day\", \"scale\": {\"range\": [\"#136C97\", \"#E16B26\", \"#F6BF16\", \"#00896B\", \"#7790A3\", \"#5B559C\"]}, \"sort\": [\"AM Peak\", \"Midday\", \"PM Peak\", \"Owl Service\"], \"title\": \"Time of Day\", \"type\": \"nominal\"}, \"tooltip\": [{\"field\": \"route_id\", \"type\": \"nominal\"}, {\"field\": \"route_name\", \"type\": \"nominal\"}, {\"field\": \"trip_id\", \"type\": \"nominal\"}, {\"field\": \"service_hours\", \"type\": \"quantitative\"}, {\"field\": \"car_duration_hours\", \"type\": \"quantitative\"}, {\"field\": \"bus_multiplier\", \"type\": \"quantitative\"}, {\"field\": \"bus_difference\", \"type\": \"quantitative\"}, {\"field\": \"num_trips\", \"type\": \"quantitative\"}, {\"field\": \"num_competitive\", \"type\": \"quantitative\"}, {\"field\": \"pct_trips_competitive\", \"type\": \"quantitative\"}, {\"field\": \"p25\", \"type\": \"quantitative\"}, {\"field\": \"p50\", \"type\": \"quantitative\"}, {\"field\": \"p75\", \"type\": \"quantitative\"}], \"x\": {\"axis\": {\"grid\": false, \"labels\": false, \"ticks\": true, \"values\": [0]}, \"field\": \"jitter\", \"scale\": {}, \"title\": null, \"type\": \"quantitative\"}, \"y\": {\"field\": \"bus_multiplier\", \"scale\": {\"domain\": [-0.25, 3.0]}, \"title\": \"Ratio of Bus to Car Travel Time\", \"type\": \"quantitative\"}}, \"transform\": [{\"calculate\": \"sqrt(-2*log(random()))*cos(2*PI*random())\", \"as\": \"jitter\"}], \"width\": 50}, {\"layer\": [{\"mark\": {\"type\": \"point\", \"opacity\": 0.6, \"size\": 20, \"strokeWidth\": 1.3}, \"encoding\": {\"color\": {\"value\": \"#323434\"}, \"y\": {\"field\": \"bus_multiplier\", \"type\": \"quantitative\"}}, \"transform\": [{\"filter\": \"(datum.p50_trip === 1)\"}]}, {\"mark\": {\"type\": \"text\", \"align\": \"center\", \"baseline\": \"middle\"}, \"encoding\": {\"color\": {\"value\": \"black\"}, \"text\": {\"field\": \"pct_trips_competitive\", \"format\": \".0%\", \"type\": \"quantitative\"}, \"tooltip\": [{\"field\": \"route_id\", \"type\": \"nominal\"}, {\"field\": \"route_name\", \"type\": \"nominal\"}, {\"field\": \"trip_id\", \"type\": \"nominal\"}, {\"field\": \"service_hours\", \"type\": \"quantitative\"}, {\"field\": \"car_duration_hours\", \"type\": \"quantitative\"}, {\"field\": \"bus_multiplier\", \"type\": \"quantitative\"}, {\"field\": \"bus_difference\", \"type\": \"quantitative\"}, {\"field\": \"num_trips\", \"type\": \"quantitative\"}, {\"field\": \"num_competitive\", \"type\": \"quantitative\"}, {\"field\": \"pct_trips_competitive\", \"type\": \"quantitative\"}, {\"field\": \"p25\", \"type\": \"quantitative\"}, {\"field\": \"p50\", \"type\": \"quantitative\"}, {\"field\": \"p75\", \"type\": \"quantitative\"}], \"x\": {\"value\": 30}, \"y\": {\"value\": 15}}, \"transform\": [{\"calculate\": \"sqrt(-2*log(random()))*cos(2*PI*random())\", \"as\": \"jitter\"}, {\"filter\": \"(datum.fastest_trip === 1)\"}]}]}]}, \"resolve\": {\"scale\": {\"y\": \"shared\"}}, \"title\": \"Ratio of Bus to Car Travel Time\", \"$schema\": \"https://vega.github.io/schema/vega-lite/v4.17.0.json\", \"datasets\": {\"data-8cedc5d8641d002136d2b1bf653fb761\": [{\"calitp_itp_id\": 289, \"trip_key\": -2246579781802731718, \"trip_id\": \"389\", \"shape_id\": \"70\", \"route_id\": \"12N\", \"service_hours\": 0.57, \"trip_first_departure_ts\": 45180, \"trip_last_arrival_ts\": 47220, \"departure_hour\": 12, \"time_of_day\": \"Midday\", \"p25\": 0.57, \"p50\": 0.57, \"p75\": 0.57, \"p50_trip\": 1, \"fastest_trip\": 0, \"car_duration_hours\": 0.44, \"competitive_route\": 1, \"bus_multiplier\": 1.3, \"bus_difference\": 7.8, \"num_trips\": 15, \"num_competitive\": 15, \"pct_trips_competitive\": 1.0, \"bus_difference_spread\": 0.0, \"route_group\": \"short\", \"max_trip_hrs\": 0.57, \"max_trip_route_group\": 0.57, \"below_cutoff\": 15, \"pct_below_cutoff\": 1.0, \"name\": \"San Luis Obispo Regional Transit Authority \", \"caltrans_district\": \"05 - San Luis Obispo\", \"drmt_organization_name\": null, \"route_name\": \"Rta - San Luis Obispo / Morro Bay / Los Osos\", \"cutoff2\": 20, \"cutoff\": 2}, {\"calitp_itp_id\": 289, \"trip_key\": 4459675781329367969, \"trip_id\": \"405\", \"shape_id\": \"70\", \"route_id\": \"12N\", \"service_hours\": 0.57, \"trip_first_departure_ts\": 73980, \"trip_last_arrival_ts\": 76020, \"departure_hour\": 20, \"time_of_day\": \"Owl Service\", \"p25\": 0.57, \"p50\": 0.57, \"p75\": 0.57, \"p50_trip\": 1, \"fastest_trip\": 1, \"car_duration_hours\": 0.44, \"competitive_route\": 1, \"bus_multiplier\": 1.3, \"bus_difference\": 7.8, \"num_trips\": 15, \"num_competitive\": 15, \"pct_trips_competitive\": 1.0, \"bus_difference_spread\": 0.0, \"route_group\": \"short\", \"max_trip_hrs\": 0.57, \"max_trip_route_group\": 0.57, \"below_cutoff\": 15, \"pct_below_cutoff\": 1.0, \"name\": \"San Luis Obispo Regional Transit Authority \", \"caltrans_district\": \"05 - San Luis Obispo\", \"drmt_organization_name\": null, \"route_name\": \"Rta - San Luis Obispo / Morro Bay / Los Osos\", \"cutoff2\": 20, \"cutoff\": 2}, {\"calitp_itp_id\": 289, \"trip_key\": -3330270687214443731, \"trip_id\": \"402\", \"shape_id\": \"70\", \"route_id\": \"12N\", \"service_hours\": 0.57, \"trip_first_departure_ts\": 59580, \"trip_last_arrival_ts\": 61620, \"departure_hour\": 16, \"time_of_day\": \"Midday\", \"p25\": 0.57, \"p50\": 0.57, \"p75\": 0.57, \"p50_trip\": 1, \"fastest_trip\": 0, \"car_duration_hours\": 0.44, \"competitive_route\": 1, \"bus_multiplier\": 1.3, \"bus_difference\": 7.8, \"num_trips\": 15, \"num_competitive\": 15, \"pct_trips_competitive\": 1.0, \"bus_difference_spread\": 0.0, \"route_group\": \"short\", \"max_trip_hrs\": 0.57, \"max_trip_route_group\": 0.57, \"below_cutoff\": 15, \"pct_below_cutoff\": 1.0, \"name\": \"San Luis Obispo Regional Transit Authority \", \"caltrans_district\": \"05 - San Luis Obispo\", \"drmt_organization_name\": null, \"route_name\": \"Rta - San Luis Obispo / Morro Bay / Los Osos\", \"cutoff2\": 20, \"cutoff\": 2}, {\"calitp_itp_id\": 289, \"trip_key\": -7530315558145172130, \"trip_id\": \"387\", \"shape_id\": \"70\", \"route_id\": \"12N\", \"service_hours\": 0.57, \"trip_first_departure_ts\": 37980, \"trip_last_arrival_ts\": 40020, \"departure_hour\": 10, \"time_of_day\": \"Midday\", \"p25\": 0.57, \"p50\": 0.57, \"p75\": 0.57, \"p50_trip\": 1, \"fastest_trip\": 0, \"car_duration_hours\": 0.44, \"competitive_route\": 1, \"bus_multiplier\": 1.3, \"bus_difference\": 7.8, \"num_trips\": 15, \"num_competitive\": 15, \"pct_trips_competitive\": 1.0, \"bus_difference_spread\": 0.0, \"route_group\": \"short\", \"max_trip_hrs\": 0.57, \"max_trip_route_group\": 0.57, \"below_cutoff\": 15, \"pct_below_cutoff\": 1.0, \"name\": \"San Luis Obispo Regional Transit Authority \", \"caltrans_district\": \"05 - San Luis Obispo\", \"drmt_organization_name\": null, \"route_name\": \"Rta - San Luis Obispo / Morro Bay / Los Osos\", \"cutoff2\": 20, \"cutoff\": 2}, {\"calitp_itp_id\": 289, \"trip_key\": -8317253866287390273, \"trip_id\": \"381\", \"shape_id\": \"70\", \"route_id\": \"12N\", \"service_hours\": 0.57, \"trip_first_departure_ts\": 41580, \"trip_last_arrival_ts\": 43620, \"departure_hour\": 11, \"time_of_day\": \"Midday\", \"p25\": 0.57, \"p50\": 0.57, \"p75\": 0.57, \"p50_trip\": 1, \"fastest_trip\": 0, \"car_duration_hours\": 0.44, \"competitive_route\": 1, \"bus_multiplier\": 1.3, \"bus_difference\": 7.8, \"num_trips\": 15, \"num_competitive\": 15, \"pct_trips_competitive\": 1.0, \"bus_difference_spread\": 0.0, \"route_group\": \"short\", \"max_trip_hrs\": 0.57, \"max_trip_route_group\": 0.57, \"below_cutoff\": 15, \"pct_below_cutoff\": 1.0, \"name\": \"San Luis Obispo Regional Transit Authority \", \"caltrans_district\": \"05 - San Luis Obispo\", \"drmt_organization_name\": null, \"route_name\": \"Rta - San Luis Obispo / Morro Bay / Los Osos\", \"cutoff2\": 20, \"cutoff\": 2}, {\"calitp_itp_id\": 289, \"trip_key\": 8746897820544260048, \"trip_id\": \"379\", \"shape_id\": \"70\", \"route_id\": \"12N\", \"service_hours\": 0.57, \"trip_first_departure_ts\": 34380, \"trip_last_arrival_ts\": 36420, \"departure_hour\": 9, \"time_of_day\": \"AM Peak\", \"p25\": 0.57, \"p50\": 0.57, \"p75\": 0.57, \"p50_trip\": 1, \"fastest_trip\": 0, \"car_duration_hours\": 0.44, \"competitive_route\": 1, \"bus_multiplier\": 1.3, \"bus_difference\": 7.8, \"num_trips\": 15, \"num_competitive\": 15, \"pct_trips_competitive\": 1.0, \"bus_difference_spread\": 0.0, \"route_group\": \"short\", \"max_trip_hrs\": 0.57, \"max_trip_route_group\": 0.57, \"below_cutoff\": 15, \"pct_below_cutoff\": 1.0, \"name\": \"San Luis Obispo Regional Transit Authority \", \"caltrans_district\": \"05 - San Luis Obispo\", \"drmt_organization_name\": null, \"route_name\": \"Rta - San Luis Obispo / Morro Bay / Los Osos\", \"cutoff2\": 20, \"cutoff\": 2}, {\"calitp_itp_id\": 289, \"trip_key\": -2840202986529471773, \"trip_id\": \"383\", \"shape_id\": \"70\", \"route_id\": \"12N\", \"service_hours\": 0.57, \"trip_first_departure_ts\": 23580, \"trip_last_arrival_ts\": 25620, \"departure_hour\": 6, \"time_of_day\": \"Owl Service\", \"p25\": 0.57, \"p50\": 0.57, \"p75\": 0.57, \"p50_trip\": 1, \"fastest_trip\": 0, \"car_duration_hours\": 0.44, \"competitive_route\": 1, \"bus_multiplier\": 1.3, \"bus_difference\": 7.8, \"num_trips\": 15, \"num_competitive\": 15, \"pct_trips_competitive\": 1.0, \"bus_difference_spread\": 0.0, \"route_group\": \"short\", \"max_trip_hrs\": 0.57, \"max_trip_route_group\": 0.57, \"below_cutoff\": 15, \"pct_below_cutoff\": 1.0, \"name\": \"San Luis Obispo Regional Transit Authority \", \"caltrans_district\": \"05 - San Luis Obispo\", \"drmt_organization_name\": null, \"route_name\": \"Rta - San Luis Obispo / Morro Bay / Los Osos\", \"cutoff2\": 20, \"cutoff\": 2}, {\"calitp_itp_id\": 289, \"trip_key\": 3739449074221164088, \"trip_id\": \"395\", \"shape_id\": \"70\", \"route_id\": \"12N\", \"service_hours\": 0.57, \"trip_first_departure_ts\": 63180, \"trip_last_arrival_ts\": 65220, \"departure_hour\": 17, \"time_of_day\": \"PM Peak\", \"p25\": 0.57, \"p50\": 0.57, \"p75\": 0.57, \"p50_trip\": 1, \"fastest_trip\": 0, \"car_duration_hours\": 0.44, \"competitive_route\": 1, \"bus_multiplier\": 1.3, \"bus_difference\": 7.8, \"num_trips\": 15, \"num_competitive\": 15, \"pct_trips_competitive\": 1.0, \"bus_difference_spread\": 0.0, \"route_group\": \"short\", \"max_trip_hrs\": 0.57, \"max_trip_route_group\": 0.57, \"below_cutoff\": 15, \"pct_below_cutoff\": 1.0, \"name\": \"San Luis Obispo Regional Transit Authority \", \"caltrans_district\": \"05 - San Luis Obispo\", \"drmt_organization_name\": null, \"route_name\": \"Rta - San Luis Obispo / Morro Bay / Los Osos\", \"cutoff2\": 20, \"cutoff\": 2}, {\"calitp_itp_id\": 289, \"trip_key\": 954416520255967207, \"trip_id\": \"393\", \"shape_id\": \"70\", \"route_id\": \"12N\", \"service_hours\": 0.57, \"trip_first_departure_ts\": 55980, \"trip_last_arrival_ts\": 58020, \"departure_hour\": 15, \"time_of_day\": \"Midday\", \"p25\": 0.57, \"p50\": 0.57, \"p75\": 0.57, \"p50_trip\": 1, \"fastest_trip\": 0, \"car_duration_hours\": 0.44, \"competitive_route\": 1, \"bus_multiplier\": 1.3, \"bus_difference\": 7.8, \"num_trips\": 15, \"num_competitive\": 15, \"pct_trips_competitive\": 1.0, \"bus_difference_spread\": 0.0, \"route_group\": \"short\", \"max_trip_hrs\": 0.57, \"max_trip_route_group\": 0.57, \"below_cutoff\": 15, \"pct_below_cutoff\": 1.0, \"name\": \"San Luis Obispo Regional Transit Authority \", \"caltrans_district\": \"05 - San Luis Obispo\", \"drmt_organization_name\": null, \"route_name\": \"Rta - San Luis Obispo / Morro Bay / Los Osos\", \"cutoff2\": 20, \"cutoff\": 2}, {\"calitp_itp_id\": 289, \"trip_key\": -7133200235456066733, \"trip_id\": \"377\", \"shape_id\": \"70\", \"route_id\": \"12N\", \"service_hours\": 0.57, \"trip_first_departure_ts\": 27180, \"trip_last_arrival_ts\": 29220, \"departure_hour\": 7, \"time_of_day\": \"AM Peak\", \"p25\": 0.57, \"p50\": 0.57, \"p75\": 0.57, \"p50_trip\": 1, \"fastest_trip\": 0, \"car_duration_hours\": 0.44, \"competitive_route\": 1, \"bus_multiplier\": 1.3, \"bus_difference\": 7.8, \"num_trips\": 15, \"num_competitive\": 15, \"pct_trips_competitive\": 1.0, \"bus_difference_spread\": 0.0, \"route_group\": \"short\", \"max_trip_hrs\": 0.57, \"max_trip_route_group\": 0.57, \"below_cutoff\": 15, \"pct_below_cutoff\": 1.0, \"name\": \"San Luis Obispo Regional Transit Authority \", \"caltrans_district\": \"05 - San Luis Obispo\", \"drmt_organization_name\": null, \"route_name\": \"Rta - San Luis Obispo / Morro Bay / Los Osos\", \"cutoff2\": 20, \"cutoff\": 2}, {\"calitp_itp_id\": 289, \"trip_key\": -6015374649293254099, \"trip_id\": \"400\", \"shape_id\": \"70\", \"route_id\": \"12N\", \"service_hours\": 0.57, \"trip_first_departure_ts\": 52380, \"trip_last_arrival_ts\": 54420, \"departure_hour\": 14, \"time_of_day\": \"Midday\", \"p25\": 0.57, \"p50\": 0.57, \"p75\": 0.57, \"p50_trip\": 1, \"fastest_trip\": 0, \"car_duration_hours\": 0.44, \"competitive_route\": 1, \"bus_multiplier\": 1.3, \"bus_difference\": 7.8, \"num_trips\": 15, \"num_competitive\": 15, \"pct_trips_competitive\": 1.0, \"bus_difference_spread\": 0.0, \"route_group\": \"short\", \"max_trip_hrs\": 0.57, \"max_trip_route_group\": 0.57, \"below_cutoff\": 15, \"pct_below_cutoff\": 1.0, \"name\": \"San Luis Obispo Regional Transit Authority \", \"caltrans_district\": \"05 - San Luis Obispo\", \"drmt_organization_name\": null, \"route_name\": \"Rta - San Luis Obispo / Morro Bay / Los Osos\", \"cutoff2\": 20, \"cutoff\": 2}, {\"calitp_itp_id\": 289, \"trip_key\": -4886278028572274845, \"trip_id\": \"404\", \"shape_id\": \"70\", \"route_id\": \"12N\", \"service_hours\": 0.57, \"trip_first_departure_ts\": 66780, \"trip_last_arrival_ts\": 68820, \"departure_hour\": 18, \"time_of_day\": \"PM Peak\", \"p25\": 0.57, \"p50\": 0.57, \"p75\": 0.57, \"p50_trip\": 1, \"fastest_trip\": 0, \"car_duration_hours\": 0.44, \"competitive_route\": 1, \"bus_multiplier\": 1.3, \"bus_difference\": 7.8, \"num_trips\": 15, \"num_competitive\": 15, \"pct_trips_competitive\": 1.0, \"bus_difference_spread\": 0.0, \"route_group\": \"short\", \"max_trip_hrs\": 0.57, \"max_trip_route_group\": 0.57, \"below_cutoff\": 15, \"pct_below_cutoff\": 1.0, \"name\": \"San Luis Obispo Regional Transit Authority \", \"caltrans_district\": \"05 - San Luis Obispo\", \"drmt_organization_name\": null, \"route_name\": \"Rta - San Luis Obispo / Morro Bay / Los Osos\", \"cutoff2\": 20, \"cutoff\": 2}, {\"calitp_itp_id\": 289, \"trip_key\": 3271112421599002075, \"trip_id\": \"385\", \"shape_id\": \"70\", \"route_id\": \"12N\", \"service_hours\": 0.57, \"trip_first_departure_ts\": 30780, \"trip_last_arrival_ts\": 32820, \"departure_hour\": 8, \"time_of_day\": \"AM Peak\", \"p25\": 0.57, \"p50\": 0.57, \"p75\": 0.57, \"p50_trip\": 1, \"fastest_trip\": 0, \"car_duration_hours\": 0.44, \"competitive_route\": 1, \"bus_multiplier\": 1.3, \"bus_difference\": 7.8, \"num_trips\": 15, \"num_competitive\": 15, \"pct_trips_competitive\": 1.0, \"bus_difference_spread\": 0.0, \"route_group\": \"short\", \"max_trip_hrs\": 0.57, \"max_trip_route_group\": 0.57, \"below_cutoff\": 15, \"pct_below_cutoff\": 1.0, \"name\": \"San Luis Obispo Regional Transit Authority \", \"caltrans_district\": \"05 - San Luis Obispo\", \"drmt_organization_name\": null, \"route_name\": \"Rta - San Luis Obispo / Morro Bay / Los Osos\", \"cutoff2\": 20, \"cutoff\": 2}, {\"calitp_itp_id\": 289, \"trip_key\": 4883370532645296501, \"trip_id\": \"391\", \"shape_id\": \"70\", \"route_id\": \"12N\", \"service_hours\": 0.57, \"trip_first_departure_ts\": 48780, \"trip_last_arrival_ts\": 50820, \"departure_hour\": 13, \"time_of_day\": \"Midday\", \"p25\": 0.57, \"p50\": 0.57, \"p75\": 0.57, \"p50_trip\": 1, \"fastest_trip\": 0, \"car_duration_hours\": 0.44, \"competitive_route\": 1, \"bus_multiplier\": 1.3, \"bus_difference\": 7.8, \"num_trips\": 15, \"num_competitive\": 15, \"pct_trips_competitive\": 1.0, \"bus_difference_spread\": 0.0, \"route_group\": \"short\", \"max_trip_hrs\": 0.57, \"max_trip_route_group\": 0.57, \"below_cutoff\": 15, \"pct_below_cutoff\": 1.0, \"name\": \"San Luis Obispo Regional Transit Authority \", \"caltrans_district\": \"05 - San Luis Obispo\", \"drmt_organization_name\": null, \"route_name\": \"Rta - San Luis Obispo / Morro Bay / Los Osos\", \"cutoff2\": 20, \"cutoff\": 2}, {\"calitp_itp_id\": 289, \"trip_key\": -7762775760576108986, \"trip_id\": \"398\", \"shape_id\": \"70\", \"route_id\": \"12N\", \"service_hours\": 0.57, \"trip_first_departure_ts\": 70380, \"trip_last_arrival_ts\": 72420, \"departure_hour\": 19, \"time_of_day\": \"PM Peak\", \"p25\": 0.57, \"p50\": 0.57, \"p75\": 0.57, \"p50_trip\": 1, \"fastest_trip\": 0, \"car_duration_hours\": 0.44, \"competitive_route\": 1, \"bus_multiplier\": 1.3, \"bus_difference\": 7.8, \"num_trips\": 15, \"num_competitive\": 15, \"pct_trips_competitive\": 1.0, \"bus_difference_spread\": 0.0, \"route_group\": \"short\", \"max_trip_hrs\": 0.57, \"max_trip_route_group\": 0.57, \"below_cutoff\": 15, \"pct_below_cutoff\": 1.0, \"name\": \"San Luis Obispo Regional Transit Authority \", \"caltrans_district\": \"05 - San Luis Obispo\", \"drmt_organization_name\": null, \"route_name\": \"Rta - San Luis Obispo / Morro Bay / Los Osos\", \"cutoff2\": 20, \"cutoff\": 2}, {\"calitp_itp_id\": 289, \"trip_key\": -1642980166738371902, \"trip_id\": \"1006\", \"shape_id\": \"129\", \"route_id\": \"15N\", \"service_hours\": 0.73, \"trip_first_departure_ts\": 36000, \"trip_last_arrival_ts\": 38640, \"departure_hour\": 10, \"time_of_day\": \"Midday\", \"p25\": 0.73, \"p50\": 0.73, \"p75\": 0.73, \"p50_trip\": 1, \"fastest_trip\": 0, \"car_duration_hours\": 0.72, \"competitive_route\": 1, \"bus_multiplier\": 1.01, \"bus_difference\": 0.6, \"num_trips\": 5, \"num_competitive\": 5, \"pct_trips_competitive\": 1.0, \"bus_difference_spread\": 0.0, \"route_group\": \"short\", \"max_trip_hrs\": 0.73, \"max_trip_route_group\": 0.73, \"below_cutoff\": 5, \"pct_below_cutoff\": 1.0, \"name\": \"San Luis Obispo Regional Transit Authority \", \"caltrans_district\": \"05 - San Luis Obispo\", \"drmt_organization_name\": null, \"route_name\": \"Rta - Morro Bay / San Simeon\", \"cutoff2\": 20, \"cutoff\": 2}, {\"calitp_itp_id\": 289, \"trip_key\": 2301145435129059979, \"trip_id\": \"1008\", \"shape_id\": \"129\", \"route_id\": \"15N\", \"service_hours\": 0.73, \"trip_first_departure_ts\": 43200, \"trip_last_arrival_ts\": 45840, \"departure_hour\": 12, \"time_of_day\": \"Midday\", \"p25\": 0.73, \"p50\": 0.73, \"p75\": 0.73, \"p50_trip\": 1, \"fastest_trip\": 0, \"car_duration_hours\": 0.72, \"competitive_route\": 1, \"bus_multiplier\": 1.01, \"bus_difference\": 0.6, \"num_trips\": 5, \"num_competitive\": 5, \"pct_trips_competitive\": 1.0, \"bus_difference_spread\": 0.0, \"route_group\": \"short\", \"max_trip_hrs\": 0.73, \"max_trip_route_group\": 0.73, \"below_cutoff\": 5, \"pct_below_cutoff\": 1.0, \"name\": \"San Luis Obispo Regional Transit Authority \", \"caltrans_district\": \"05 - San Luis Obispo\", \"drmt_organization_name\": null, \"route_name\": \"Rta - Morro Bay / San Simeon\", \"cutoff2\": 20, \"cutoff\": 2}, {\"calitp_itp_id\": 289, \"trip_key\": 874518230174457969, \"trip_id\": \"1012\", \"shape_id\": \"129\", \"route_id\": \"15N\", \"service_hours\": 0.73, \"trip_first_departure_ts\": 64800, \"trip_last_arrival_ts\": 67440, \"departure_hour\": 18, \"time_of_day\": \"PM Peak\", \"p25\": 0.73, \"p50\": 0.73, \"p75\": 0.73, \"p50_trip\": 1, \"fastest_trip\": 1, \"car_duration_hours\": 0.72, \"competitive_route\": 1, \"bus_multiplier\": 1.01, \"bus_difference\": 0.6, \"num_trips\": 5, \"num_competitive\": 5, \"pct_trips_competitive\": 1.0, \"bus_difference_spread\": 0.0, \"route_group\": \"short\", \"max_trip_hrs\": 0.73, \"max_trip_route_group\": 0.73, \"below_cutoff\": 5, \"pct_below_cutoff\": 1.0, \"name\": \"San Luis Obispo Regional Transit Authority \", \"caltrans_district\": \"05 - San Luis Obispo\", \"drmt_organization_name\": null, \"route_name\": \"Rta - Morro Bay / San Simeon\", \"cutoff2\": 20, \"cutoff\": 2}, {\"calitp_itp_id\": 289, \"trip_key\": 8525825103426144789, \"trip_id\": \"1010\", \"shape_id\": \"129\", \"route_id\": \"15N\", \"service_hours\": 0.73, \"trip_first_departure_ts\": 54000, \"trip_last_arrival_ts\": 56640, \"departure_hour\": 15, \"time_of_day\": \"Midday\", \"p25\": 0.73, \"p50\": 0.73, \"p75\": 0.73, \"p50_trip\": 1, \"fastest_trip\": 0, \"car_duration_hours\": 0.72, \"competitive_route\": 1, \"bus_multiplier\": 1.01, \"bus_difference\": 0.6, \"num_trips\": 5, \"num_competitive\": 5, \"pct_trips_competitive\": 1.0, \"bus_difference_spread\": 0.0, \"route_group\": \"short\", \"max_trip_hrs\": 0.73, \"max_trip_route_group\": 0.73, \"below_cutoff\": 5, \"pct_below_cutoff\": 1.0, \"name\": \"San Luis Obispo Regional Transit Authority \", \"caltrans_district\": \"05 - San Luis Obispo\", \"drmt_organization_name\": null, \"route_name\": \"Rta - Morro Bay / San Simeon\", \"cutoff2\": 20, \"cutoff\": 2}, {\"calitp_itp_id\": 289, \"trip_key\": -3531124478440319766, \"trip_id\": \"1004\", \"shape_id\": \"129\", \"route_id\": \"15N\", \"service_hours\": 0.73, \"trip_first_departure_ts\": 25200, \"trip_last_arrival_ts\": 27840, \"departure_hour\": 7, \"time_of_day\": \"AM Peak\", \"p25\": 0.73, \"p50\": 0.73, \"p75\": 0.73, \"p50_trip\": 1, \"fastest_trip\": 0, \"car_duration_hours\": 0.72, \"competitive_route\": 1, \"bus_multiplier\": 1.01, \"bus_difference\": 0.6, \"num_trips\": 5, \"num_competitive\": 5, \"pct_trips_competitive\": 1.0, \"bus_difference_spread\": 0.0, \"route_group\": \"short\", \"max_trip_hrs\": 0.73, \"max_trip_route_group\": 0.73, \"below_cutoff\": 5, \"pct_below_cutoff\": 1.0, \"name\": \"San Luis Obispo Regional Transit Authority \", \"caltrans_district\": \"05 - San Luis Obispo\", \"drmt_organization_name\": null, \"route_name\": \"Rta - Morro Bay / San Simeon\", \"cutoff2\": 20, \"cutoff\": 2}, {\"calitp_itp_id\": 289, \"trip_key\": 4284993076453935883, \"trip_id\": \"1009\", \"shape_id\": \"126\", \"route_id\": \"15S\", \"service_hours\": 0.72, \"trip_first_departure_ts\": 49800, \"trip_last_arrival_ts\": 52380, \"departure_hour\": 13, \"time_of_day\": \"Midday\", \"p25\": 0.72, \"p50\": 0.72, \"p75\": 0.72, \"p50_trip\": 1, \"fastest_trip\": 0, \"car_duration_hours\": 0.7, \"competitive_route\": 1, \"bus_multiplier\": 1.03, \"bus_difference\": 1.2, \"num_trips\": 5, \"num_competitive\": 5, \"pct_trips_competitive\": 1.0, \"bus_difference_spread\": 0.0, \"route_group\": \"short\", \"max_trip_hrs\": 0.72, \"max_trip_route_group\": 0.72, \"below_cutoff\": 5, \"pct_below_cutoff\": 1.0, \"name\": \"San Luis Obispo Regional Transit Authority \", \"caltrans_district\": \"05 - San Luis Obispo\", \"drmt_organization_name\": null, \"route_name\": \"Rta - San Simeon / Morro Bay\", \"cutoff2\": 20, \"cutoff\": 2}, {\"calitp_itp_id\": 289, \"trip_key\": 2538646404492185224, \"trip_id\": \"1003\", \"shape_id\": \"126\", \"route_id\": \"15S\", \"service_hours\": 0.72, \"trip_first_departure_ts\": 21600, \"trip_last_arrival_ts\": 24180, \"departure_hour\": 6, \"time_of_day\": \"Owl Service\", \"p25\": 0.72, \"p50\": 0.72, \"p75\": 0.72, \"p50_trip\": 1, \"fastest_trip\": 0, \"car_duration_hours\": 0.7, \"competitive_route\": 1, \"bus_multiplier\": 1.03, \"bus_difference\": 1.2, \"num_trips\": 5, \"num_competitive\": 5, \"pct_trips_competitive\": 1.0, \"bus_difference_spread\": 0.0, \"route_group\": \"short\", \"max_trip_hrs\": 0.72, \"max_trip_route_group\": 0.72, \"below_cutoff\": 5, \"pct_below_cutoff\": 1.0, \"name\": \"San Luis Obispo Regional Transit Authority \", \"caltrans_district\": \"05 - San Luis Obispo\", \"drmt_organization_name\": null, \"route_name\": \"Rta - San Simeon / Morro Bay\", \"cutoff2\": 20, \"cutoff\": 2}, {\"calitp_itp_id\": 289, \"trip_key\": -9063332635397023573, \"trip_id\": \"1011\", \"shape_id\": \"126\", \"route_id\": \"15S\", \"service_hours\": 0.72, \"trip_first_departure_ts\": 60600, \"trip_last_arrival_ts\": 63180, \"departure_hour\": 16, \"time_of_day\": \"Midday\", \"p25\": 0.72, \"p50\": 0.72, \"p75\": 0.72, \"p50_trip\": 1, \"fastest_trip\": 1, \"car_duration_hours\": 0.7, \"competitive_route\": 1, \"bus_multiplier\": 1.03, \"bus_difference\": 1.2, \"num_trips\": 5, \"num_competitive\": 5, \"pct_trips_competitive\": 1.0, \"bus_difference_spread\": 0.0, \"route_group\": \"short\", \"max_trip_hrs\": 0.72, \"max_trip_route_group\": 0.72, \"below_cutoff\": 5, \"pct_below_cutoff\": 1.0, \"name\": \"San Luis Obispo Regional Transit Authority \", \"caltrans_district\": \"05 - San Luis Obispo\", \"drmt_organization_name\": null, \"route_name\": \"Rta - San Simeon / Morro Bay\", \"cutoff2\": 20, \"cutoff\": 2}, {\"calitp_itp_id\": 289, \"trip_key\": 8400463445688142578, \"trip_id\": \"1007\", \"shape_id\": \"126\", \"route_id\": \"15S\", \"service_hours\": 0.72, \"trip_first_departure_ts\": 39000, \"trip_last_arrival_ts\": 41580, \"departure_hour\": 10, \"time_of_day\": \"Midday\", \"p25\": 0.72, \"p50\": 0.72, \"p75\": 0.72, \"p50_trip\": 1, \"fastest_trip\": 0, \"car_duration_hours\": 0.7, \"competitive_route\": 1, \"bus_multiplier\": 1.03, \"bus_difference\": 1.2, \"num_trips\": 5, \"num_competitive\": 5, \"pct_trips_competitive\": 1.0, \"bus_difference_spread\": 0.0, \"route_group\": \"short\", \"max_trip_hrs\": 0.72, \"max_trip_route_group\": 0.72, \"below_cutoff\": 5, \"pct_below_cutoff\": 1.0, \"name\": \"San Luis Obispo Regional Transit Authority \", \"caltrans_district\": \"05 - San Luis Obispo\", \"drmt_organization_name\": null, \"route_name\": \"Rta - San Simeon / Morro Bay\", \"cutoff2\": 20, \"cutoff\": 2}, {\"calitp_itp_id\": 289, \"trip_key\": 6889099494772164731, \"trip_id\": \"1005\", \"shape_id\": \"126\", \"route_id\": \"15S\", \"service_hours\": 0.72, \"trip_first_departure_ts\": 28200, \"trip_last_arrival_ts\": 30780, \"departure_hour\": 7, \"time_of_day\": \"AM Peak\", \"p25\": 0.72, \"p50\": 0.72, \"p75\": 0.72, \"p50_trip\": 1, \"fastest_trip\": 0, \"car_duration_hours\": 0.7, \"competitive_route\": 1, \"bus_multiplier\": 1.03, \"bus_difference\": 1.2, \"num_trips\": 5, \"num_competitive\": 5, \"pct_trips_competitive\": 1.0, \"bus_difference_spread\": 0.0, \"route_group\": \"short\", \"max_trip_hrs\": 0.72, \"max_trip_route_group\": 0.72, \"below_cutoff\": 5, \"pct_below_cutoff\": 1.0, \"name\": \"San Luis Obispo Regional Transit Authority \", \"caltrans_district\": \"05 - San Luis Obispo\", \"drmt_organization_name\": null, \"route_name\": \"Rta - San Simeon / Morro Bay\", \"cutoff2\": 20, \"cutoff\": 2}]}}, {\"mode\": \"vega-lite\"});\n",
       "</script>"
      ],
      "text/plain": [
       "alt.FacetChart(...)"
      ]
     },
     "metadata": {},
     "output_type": "display_data"
    },
    {
     "data": {
      "text/html": [
       "\n",
       "<div id=\"altair-viz-ad7b26dd17f6449c92bc73e1bd2d06f5\"></div>\n",
       "<script type=\"text/javascript\">\n",
       "  var VEGA_DEBUG = (typeof VEGA_DEBUG == \"undefined\") ? {} : VEGA_DEBUG;\n",
       "  (function(spec, embedOpt){\n",
       "    let outputDiv = document.currentScript.previousElementSibling;\n",
       "    if (outputDiv.id !== \"altair-viz-ad7b26dd17f6449c92bc73e1bd2d06f5\") {\n",
       "      outputDiv = document.getElementById(\"altair-viz-ad7b26dd17f6449c92bc73e1bd2d06f5\");\n",
       "    }\n",
       "    const paths = {\n",
       "      \"vega\": \"https://cdn.jsdelivr.net/npm//vega@5?noext\",\n",
       "      \"vega-lib\": \"https://cdn.jsdelivr.net/npm//vega-lib?noext\",\n",
       "      \"vega-lite\": \"https://cdn.jsdelivr.net/npm//vega-lite@4.17.0?noext\",\n",
       "      \"vega-embed\": \"https://cdn.jsdelivr.net/npm//vega-embed@6?noext\",\n",
       "    };\n",
       "\n",
       "    function maybeLoadScript(lib, version) {\n",
       "      var key = `${lib.replace(\"-\", \"\")}_version`;\n",
       "      return (VEGA_DEBUG[key] == version) ?\n",
       "        Promise.resolve(paths[lib]) :\n",
       "        new Promise(function(resolve, reject) {\n",
       "          var s = document.createElement('script');\n",
       "          document.getElementsByTagName(\"head\")[0].appendChild(s);\n",
       "          s.async = true;\n",
       "          s.onload = () => {\n",
       "            VEGA_DEBUG[key] = version;\n",
       "            return resolve(paths[lib]);\n",
       "          };\n",
       "          s.onerror = () => reject(`Error loading script: ${paths[lib]}`);\n",
       "          s.src = paths[lib];\n",
       "        });\n",
       "    }\n",
       "\n",
       "    function showError(err) {\n",
       "      outputDiv.innerHTML = `<div class=\"error\" style=\"color:red;\">${err}</div>`;\n",
       "      throw err;\n",
       "    }\n",
       "\n",
       "    function displayChart(vegaEmbed) {\n",
       "      vegaEmbed(outputDiv, spec, embedOpt)\n",
       "        .catch(err => showError(`Javascript Error: ${err.message}<br>This usually means there's a typo in your chart specification. See the javascript console for the full traceback.`));\n",
       "    }\n",
       "\n",
       "    if(typeof define === \"function\" && define.amd) {\n",
       "      requirejs.config({paths});\n",
       "      require([\"vega-embed\"], displayChart, err => showError(`Error loading script: ${err.message}`));\n",
       "    } else {\n",
       "      maybeLoadScript(\"vega\", \"5\")\n",
       "        .then(() => maybeLoadScript(\"vega-lite\", \"4.17.0\"))\n",
       "        .then(() => maybeLoadScript(\"vega-embed\", \"6\"))\n",
       "        .catch(showError)\n",
       "        .then(() => displayChart(vegaEmbed));\n",
       "    }\n",
       "  })({\"config\": {\"view\": {\"continuousWidth\": 400, \"continuousHeight\": 300, \"stroke\": null}, \"facet\": {\"spacing\": 0}}, \"data\": {\"name\": \"data-7fb84463199ffb4a0339756ac9c58f4c\"}, \"facet\": {\"column\": {\"field\": \"route_id\", \"sort\": [\"12N\", \"15S\", \"15N\"], \"title\": \"Route ID\", \"type\": \"nominal\"}}, \"spec\": {\"layer\": [{\"mark\": \"rule\", \"encoding\": {\"color\": {\"value\": \"black\"}, \"y\": {\"field\": \"cutoff\", \"type\": \"quantitative\"}}, \"selection\": {\"selector002\": {\"type\": \"interval\", \"bind\": \"scales\", \"encodings\": [\"x\", \"y\"]}}}, {\"mark\": {\"type\": \"rule\", \"strokeDash\": [3, 3]}, \"encoding\": {\"color\": {\"value\": \"#323434\"}, \"y\": {\"field\": \"cutoff2\", \"type\": \"quantitative\"}}}, {\"mark\": {\"type\": \"point\", \"opacity\": 0.65, \"size\": 12, \"strokeWidth\": 1.1}, \"encoding\": {\"color\": {\"field\": \"time_of_day\", \"scale\": {\"range\": [\"#136C97\", \"#E16B26\", \"#F6BF16\", \"#00896B\", \"#7790A3\", \"#5B559C\"]}, \"sort\": [\"AM Peak\", \"Midday\", \"PM Peak\", \"Owl Service\"], \"title\": \"Time of Day\", \"type\": \"nominal\"}, \"tooltip\": [{\"field\": \"route_id\", \"type\": \"nominal\"}, {\"field\": \"route_name\", \"type\": \"nominal\"}, {\"field\": \"trip_id\", \"type\": \"nominal\"}, {\"field\": \"service_hours\", \"type\": \"quantitative\"}, {\"field\": \"car_duration_hours\", \"type\": \"quantitative\"}, {\"field\": \"bus_multiplier\", \"type\": \"quantitative\"}, {\"field\": \"bus_difference\", \"type\": \"quantitative\"}, {\"field\": \"num_trips\", \"type\": \"quantitative\"}, {\"field\": \"num_competitive\", \"type\": \"quantitative\"}, {\"field\": \"pct_trips_competitive\", \"type\": \"quantitative\"}, {\"field\": \"p25\", \"type\": \"quantitative\"}, {\"field\": \"p50\", \"type\": \"quantitative\"}, {\"field\": \"p75\", \"type\": \"quantitative\"}], \"x\": {\"axis\": {\"grid\": false, \"labels\": false, \"ticks\": true, \"values\": [0]}, \"field\": \"jitter\", \"scale\": {}, \"title\": null, \"type\": \"quantitative\"}, \"y\": {\"field\": \"bus_difference\", \"scale\": {\"domain\": [-5, 31.8]}, \"title\": \"Difference in Bus to Car Travel Time (min)\", \"type\": \"quantitative\"}}, \"transform\": [{\"calculate\": \"sqrt(-2*log(random()))*cos(2*PI*random())\", \"as\": \"jitter\"}], \"width\": 50}, {\"layer\": [{\"mark\": {\"type\": \"point\", \"opacity\": 0.6, \"size\": 20, \"strokeWidth\": 1.3}, \"encoding\": {\"color\": {\"value\": \"#323434\"}, \"y\": {\"field\": \"bus_difference\", \"type\": \"quantitative\"}}, \"transform\": [{\"filter\": \"(datum.p50_trip === 1)\"}]}, {\"mark\": {\"type\": \"text\", \"align\": \"center\", \"baseline\": \"middle\"}, \"encoding\": {\"color\": {\"value\": \"black\"}, \"text\": {\"field\": \"pct_trips_competitive\", \"format\": \".0%\", \"type\": \"quantitative\"}, \"tooltip\": [{\"field\": \"route_id\", \"type\": \"nominal\"}, {\"field\": \"route_name\", \"type\": \"nominal\"}, {\"field\": \"trip_id\", \"type\": \"nominal\"}, {\"field\": \"service_hours\", \"type\": \"quantitative\"}, {\"field\": \"car_duration_hours\", \"type\": \"quantitative\"}, {\"field\": \"bus_multiplier\", \"type\": \"quantitative\"}, {\"field\": \"bus_difference\", \"type\": \"quantitative\"}, {\"field\": \"num_trips\", \"type\": \"quantitative\"}, {\"field\": \"num_competitive\", \"type\": \"quantitative\"}, {\"field\": \"pct_trips_competitive\", \"type\": \"quantitative\"}, {\"field\": \"p25\", \"type\": \"quantitative\"}, {\"field\": \"p50\", \"type\": \"quantitative\"}, {\"field\": \"p75\", \"type\": \"quantitative\"}], \"x\": {\"value\": 30}, \"y\": {\"value\": 15}}, \"transform\": [{\"calculate\": \"sqrt(-2*log(random()))*cos(2*PI*random())\", \"as\": \"jitter\"}, {\"filter\": \"(datum.fastest_trip === 1)\"}]}]}]}, \"resolve\": {\"scale\": {\"y\": \"shared\"}}, \"title\": \"Difference in Bus to Car Travel Time (min)\", \"$schema\": \"https://vega.github.io/schema/vega-lite/v4.17.0.json\", \"datasets\": {\"data-7fb84463199ffb4a0339756ac9c58f4c\": [{\"calitp_itp_id\": 289, \"trip_key\": -2246579781802731718, \"trip_id\": \"389\", \"shape_id\": \"70\", \"route_id\": \"12N\", \"service_hours\": 0.57, \"trip_first_departure_ts\": 45180, \"trip_last_arrival_ts\": 47220, \"departure_hour\": 12, \"time_of_day\": \"Midday\", \"p25\": 0.57, \"p50\": 0.57, \"p75\": 0.57, \"p50_trip\": 1, \"fastest_trip\": 0, \"car_duration_hours\": 0.44, \"competitive_route\": 1, \"bus_multiplier\": 1.3, \"bus_difference\": 7.8, \"num_trips\": 15, \"num_competitive\": 15, \"pct_trips_competitive\": 1.0, \"bus_difference_spread\": 0.0, \"route_group\": \"short\", \"max_trip_hrs\": 0.57, \"max_trip_route_group\": 0.57, \"below_cutoff\": 15, \"pct_below_cutoff\": 1.0, \"name\": \"San Luis Obispo Regional Transit Authority \", \"caltrans_district\": \"05 - San Luis Obispo\", \"drmt_organization_name\": null, \"route_name\": \"Rta - San Luis Obispo / Morro Bay / Los Osos\", \"cutoff2\": 20, \"cutoff\": 0}, {\"calitp_itp_id\": 289, \"trip_key\": 4459675781329367969, \"trip_id\": \"405\", \"shape_id\": \"70\", \"route_id\": \"12N\", \"service_hours\": 0.57, \"trip_first_departure_ts\": 73980, \"trip_last_arrival_ts\": 76020, \"departure_hour\": 20, \"time_of_day\": \"Owl Service\", \"p25\": 0.57, \"p50\": 0.57, \"p75\": 0.57, \"p50_trip\": 1, \"fastest_trip\": 1, \"car_duration_hours\": 0.44, \"competitive_route\": 1, \"bus_multiplier\": 1.3, \"bus_difference\": 7.8, \"num_trips\": 15, \"num_competitive\": 15, \"pct_trips_competitive\": 1.0, \"bus_difference_spread\": 0.0, \"route_group\": \"short\", \"max_trip_hrs\": 0.57, \"max_trip_route_group\": 0.57, \"below_cutoff\": 15, \"pct_below_cutoff\": 1.0, \"name\": \"San Luis Obispo Regional Transit Authority \", \"caltrans_district\": \"05 - San Luis Obispo\", \"drmt_organization_name\": null, \"route_name\": \"Rta - San Luis Obispo / Morro Bay / Los Osos\", \"cutoff2\": 20, \"cutoff\": 0}, {\"calitp_itp_id\": 289, \"trip_key\": -3330270687214443731, \"trip_id\": \"402\", \"shape_id\": \"70\", \"route_id\": \"12N\", \"service_hours\": 0.57, \"trip_first_departure_ts\": 59580, \"trip_last_arrival_ts\": 61620, \"departure_hour\": 16, \"time_of_day\": \"Midday\", \"p25\": 0.57, \"p50\": 0.57, \"p75\": 0.57, \"p50_trip\": 1, \"fastest_trip\": 0, \"car_duration_hours\": 0.44, \"competitive_route\": 1, \"bus_multiplier\": 1.3, \"bus_difference\": 7.8, \"num_trips\": 15, \"num_competitive\": 15, \"pct_trips_competitive\": 1.0, \"bus_difference_spread\": 0.0, \"route_group\": \"short\", \"max_trip_hrs\": 0.57, \"max_trip_route_group\": 0.57, \"below_cutoff\": 15, \"pct_below_cutoff\": 1.0, \"name\": \"San Luis Obispo Regional Transit Authority \", \"caltrans_district\": \"05 - San Luis Obispo\", \"drmt_organization_name\": null, \"route_name\": \"Rta - San Luis Obispo / Morro Bay / Los Osos\", \"cutoff2\": 20, \"cutoff\": 0}, {\"calitp_itp_id\": 289, \"trip_key\": -7530315558145172130, \"trip_id\": \"387\", \"shape_id\": \"70\", \"route_id\": \"12N\", \"service_hours\": 0.57, \"trip_first_departure_ts\": 37980, \"trip_last_arrival_ts\": 40020, \"departure_hour\": 10, \"time_of_day\": \"Midday\", \"p25\": 0.57, \"p50\": 0.57, \"p75\": 0.57, \"p50_trip\": 1, \"fastest_trip\": 0, \"car_duration_hours\": 0.44, \"competitive_route\": 1, \"bus_multiplier\": 1.3, \"bus_difference\": 7.8, \"num_trips\": 15, \"num_competitive\": 15, \"pct_trips_competitive\": 1.0, \"bus_difference_spread\": 0.0, \"route_group\": \"short\", \"max_trip_hrs\": 0.57, \"max_trip_route_group\": 0.57, \"below_cutoff\": 15, \"pct_below_cutoff\": 1.0, \"name\": \"San Luis Obispo Regional Transit Authority \", \"caltrans_district\": \"05 - San Luis Obispo\", \"drmt_organization_name\": null, \"route_name\": \"Rta - San Luis Obispo / Morro Bay / Los Osos\", \"cutoff2\": 20, \"cutoff\": 0}, {\"calitp_itp_id\": 289, \"trip_key\": -8317253866287390273, \"trip_id\": \"381\", \"shape_id\": \"70\", \"route_id\": \"12N\", \"service_hours\": 0.57, \"trip_first_departure_ts\": 41580, \"trip_last_arrival_ts\": 43620, \"departure_hour\": 11, \"time_of_day\": \"Midday\", \"p25\": 0.57, \"p50\": 0.57, \"p75\": 0.57, \"p50_trip\": 1, \"fastest_trip\": 0, \"car_duration_hours\": 0.44, \"competitive_route\": 1, \"bus_multiplier\": 1.3, \"bus_difference\": 7.8, \"num_trips\": 15, \"num_competitive\": 15, \"pct_trips_competitive\": 1.0, \"bus_difference_spread\": 0.0, \"route_group\": \"short\", \"max_trip_hrs\": 0.57, \"max_trip_route_group\": 0.57, \"below_cutoff\": 15, \"pct_below_cutoff\": 1.0, \"name\": \"San Luis Obispo Regional Transit Authority \", \"caltrans_district\": \"05 - San Luis Obispo\", \"drmt_organization_name\": null, \"route_name\": \"Rta - San Luis Obispo / Morro Bay / Los Osos\", \"cutoff2\": 20, \"cutoff\": 0}, {\"calitp_itp_id\": 289, \"trip_key\": 8746897820544260048, \"trip_id\": \"379\", \"shape_id\": \"70\", \"route_id\": \"12N\", \"service_hours\": 0.57, \"trip_first_departure_ts\": 34380, \"trip_last_arrival_ts\": 36420, \"departure_hour\": 9, \"time_of_day\": \"AM Peak\", \"p25\": 0.57, \"p50\": 0.57, \"p75\": 0.57, \"p50_trip\": 1, \"fastest_trip\": 0, \"car_duration_hours\": 0.44, \"competitive_route\": 1, \"bus_multiplier\": 1.3, \"bus_difference\": 7.8, \"num_trips\": 15, \"num_competitive\": 15, \"pct_trips_competitive\": 1.0, \"bus_difference_spread\": 0.0, \"route_group\": \"short\", \"max_trip_hrs\": 0.57, \"max_trip_route_group\": 0.57, \"below_cutoff\": 15, \"pct_below_cutoff\": 1.0, \"name\": \"San Luis Obispo Regional Transit Authority \", \"caltrans_district\": \"05 - San Luis Obispo\", \"drmt_organization_name\": null, \"route_name\": \"Rta - San Luis Obispo / Morro Bay / Los Osos\", \"cutoff2\": 20, \"cutoff\": 0}, {\"calitp_itp_id\": 289, \"trip_key\": -2840202986529471773, \"trip_id\": \"383\", \"shape_id\": \"70\", \"route_id\": \"12N\", \"service_hours\": 0.57, \"trip_first_departure_ts\": 23580, \"trip_last_arrival_ts\": 25620, \"departure_hour\": 6, \"time_of_day\": \"Owl Service\", \"p25\": 0.57, \"p50\": 0.57, \"p75\": 0.57, \"p50_trip\": 1, \"fastest_trip\": 0, \"car_duration_hours\": 0.44, \"competitive_route\": 1, \"bus_multiplier\": 1.3, \"bus_difference\": 7.8, \"num_trips\": 15, \"num_competitive\": 15, \"pct_trips_competitive\": 1.0, \"bus_difference_spread\": 0.0, \"route_group\": \"short\", \"max_trip_hrs\": 0.57, \"max_trip_route_group\": 0.57, \"below_cutoff\": 15, \"pct_below_cutoff\": 1.0, \"name\": \"San Luis Obispo Regional Transit Authority \", \"caltrans_district\": \"05 - San Luis Obispo\", \"drmt_organization_name\": null, \"route_name\": \"Rta - San Luis Obispo / Morro Bay / Los Osos\", \"cutoff2\": 20, \"cutoff\": 0}, {\"calitp_itp_id\": 289, \"trip_key\": 3739449074221164088, \"trip_id\": \"395\", \"shape_id\": \"70\", \"route_id\": \"12N\", \"service_hours\": 0.57, \"trip_first_departure_ts\": 63180, \"trip_last_arrival_ts\": 65220, \"departure_hour\": 17, \"time_of_day\": \"PM Peak\", \"p25\": 0.57, \"p50\": 0.57, \"p75\": 0.57, \"p50_trip\": 1, \"fastest_trip\": 0, \"car_duration_hours\": 0.44, \"competitive_route\": 1, \"bus_multiplier\": 1.3, \"bus_difference\": 7.8, \"num_trips\": 15, \"num_competitive\": 15, \"pct_trips_competitive\": 1.0, \"bus_difference_spread\": 0.0, \"route_group\": \"short\", \"max_trip_hrs\": 0.57, \"max_trip_route_group\": 0.57, \"below_cutoff\": 15, \"pct_below_cutoff\": 1.0, \"name\": \"San Luis Obispo Regional Transit Authority \", \"caltrans_district\": \"05 - San Luis Obispo\", \"drmt_organization_name\": null, \"route_name\": \"Rta - San Luis Obispo / Morro Bay / Los Osos\", \"cutoff2\": 20, \"cutoff\": 0}, {\"calitp_itp_id\": 289, \"trip_key\": 954416520255967207, \"trip_id\": \"393\", \"shape_id\": \"70\", \"route_id\": \"12N\", \"service_hours\": 0.57, \"trip_first_departure_ts\": 55980, \"trip_last_arrival_ts\": 58020, \"departure_hour\": 15, \"time_of_day\": \"Midday\", \"p25\": 0.57, \"p50\": 0.57, \"p75\": 0.57, \"p50_trip\": 1, \"fastest_trip\": 0, \"car_duration_hours\": 0.44, \"competitive_route\": 1, \"bus_multiplier\": 1.3, \"bus_difference\": 7.8, \"num_trips\": 15, \"num_competitive\": 15, \"pct_trips_competitive\": 1.0, \"bus_difference_spread\": 0.0, \"route_group\": \"short\", \"max_trip_hrs\": 0.57, \"max_trip_route_group\": 0.57, \"below_cutoff\": 15, \"pct_below_cutoff\": 1.0, \"name\": \"San Luis Obispo Regional Transit Authority \", \"caltrans_district\": \"05 - San Luis Obispo\", \"drmt_organization_name\": null, \"route_name\": \"Rta - San Luis Obispo / Morro Bay / Los Osos\", \"cutoff2\": 20, \"cutoff\": 0}, {\"calitp_itp_id\": 289, \"trip_key\": -7133200235456066733, \"trip_id\": \"377\", \"shape_id\": \"70\", \"route_id\": \"12N\", \"service_hours\": 0.57, \"trip_first_departure_ts\": 27180, \"trip_last_arrival_ts\": 29220, \"departure_hour\": 7, \"time_of_day\": \"AM Peak\", \"p25\": 0.57, \"p50\": 0.57, \"p75\": 0.57, \"p50_trip\": 1, \"fastest_trip\": 0, \"car_duration_hours\": 0.44, \"competitive_route\": 1, \"bus_multiplier\": 1.3, \"bus_difference\": 7.8, \"num_trips\": 15, \"num_competitive\": 15, \"pct_trips_competitive\": 1.0, \"bus_difference_spread\": 0.0, \"route_group\": \"short\", \"max_trip_hrs\": 0.57, \"max_trip_route_group\": 0.57, \"below_cutoff\": 15, \"pct_below_cutoff\": 1.0, \"name\": \"San Luis Obispo Regional Transit Authority \", \"caltrans_district\": \"05 - San Luis Obispo\", \"drmt_organization_name\": null, \"route_name\": \"Rta - San Luis Obispo / Morro Bay / Los Osos\", \"cutoff2\": 20, \"cutoff\": 0}, {\"calitp_itp_id\": 289, \"trip_key\": -6015374649293254099, \"trip_id\": \"400\", \"shape_id\": \"70\", \"route_id\": \"12N\", \"service_hours\": 0.57, \"trip_first_departure_ts\": 52380, \"trip_last_arrival_ts\": 54420, \"departure_hour\": 14, \"time_of_day\": \"Midday\", \"p25\": 0.57, \"p50\": 0.57, \"p75\": 0.57, \"p50_trip\": 1, \"fastest_trip\": 0, \"car_duration_hours\": 0.44, \"competitive_route\": 1, \"bus_multiplier\": 1.3, \"bus_difference\": 7.8, \"num_trips\": 15, \"num_competitive\": 15, \"pct_trips_competitive\": 1.0, \"bus_difference_spread\": 0.0, \"route_group\": \"short\", \"max_trip_hrs\": 0.57, \"max_trip_route_group\": 0.57, \"below_cutoff\": 15, \"pct_below_cutoff\": 1.0, \"name\": \"San Luis Obispo Regional Transit Authority \", \"caltrans_district\": \"05 - San Luis Obispo\", \"drmt_organization_name\": null, \"route_name\": \"Rta - San Luis Obispo / Morro Bay / Los Osos\", \"cutoff2\": 20, \"cutoff\": 0}, {\"calitp_itp_id\": 289, \"trip_key\": -4886278028572274845, \"trip_id\": \"404\", \"shape_id\": \"70\", \"route_id\": \"12N\", \"service_hours\": 0.57, \"trip_first_departure_ts\": 66780, \"trip_last_arrival_ts\": 68820, \"departure_hour\": 18, \"time_of_day\": \"PM Peak\", \"p25\": 0.57, \"p50\": 0.57, \"p75\": 0.57, \"p50_trip\": 1, \"fastest_trip\": 0, \"car_duration_hours\": 0.44, \"competitive_route\": 1, \"bus_multiplier\": 1.3, \"bus_difference\": 7.8, \"num_trips\": 15, \"num_competitive\": 15, \"pct_trips_competitive\": 1.0, \"bus_difference_spread\": 0.0, \"route_group\": \"short\", \"max_trip_hrs\": 0.57, \"max_trip_route_group\": 0.57, \"below_cutoff\": 15, \"pct_below_cutoff\": 1.0, \"name\": \"San Luis Obispo Regional Transit Authority \", \"caltrans_district\": \"05 - San Luis Obispo\", \"drmt_organization_name\": null, \"route_name\": \"Rta - San Luis Obispo / Morro Bay / Los Osos\", \"cutoff2\": 20, \"cutoff\": 0}, {\"calitp_itp_id\": 289, \"trip_key\": 3271112421599002075, \"trip_id\": \"385\", \"shape_id\": \"70\", \"route_id\": \"12N\", \"service_hours\": 0.57, \"trip_first_departure_ts\": 30780, \"trip_last_arrival_ts\": 32820, \"departure_hour\": 8, \"time_of_day\": \"AM Peak\", \"p25\": 0.57, \"p50\": 0.57, \"p75\": 0.57, \"p50_trip\": 1, \"fastest_trip\": 0, \"car_duration_hours\": 0.44, \"competitive_route\": 1, \"bus_multiplier\": 1.3, \"bus_difference\": 7.8, \"num_trips\": 15, \"num_competitive\": 15, \"pct_trips_competitive\": 1.0, \"bus_difference_spread\": 0.0, \"route_group\": \"short\", \"max_trip_hrs\": 0.57, \"max_trip_route_group\": 0.57, \"below_cutoff\": 15, \"pct_below_cutoff\": 1.0, \"name\": \"San Luis Obispo Regional Transit Authority \", \"caltrans_district\": \"05 - San Luis Obispo\", \"drmt_organization_name\": null, \"route_name\": \"Rta - San Luis Obispo / Morro Bay / Los Osos\", \"cutoff2\": 20, \"cutoff\": 0}, {\"calitp_itp_id\": 289, \"trip_key\": 4883370532645296501, \"trip_id\": \"391\", \"shape_id\": \"70\", \"route_id\": \"12N\", \"service_hours\": 0.57, \"trip_first_departure_ts\": 48780, \"trip_last_arrival_ts\": 50820, \"departure_hour\": 13, \"time_of_day\": \"Midday\", \"p25\": 0.57, \"p50\": 0.57, \"p75\": 0.57, \"p50_trip\": 1, \"fastest_trip\": 0, \"car_duration_hours\": 0.44, \"competitive_route\": 1, \"bus_multiplier\": 1.3, \"bus_difference\": 7.8, \"num_trips\": 15, \"num_competitive\": 15, \"pct_trips_competitive\": 1.0, \"bus_difference_spread\": 0.0, \"route_group\": \"short\", \"max_trip_hrs\": 0.57, \"max_trip_route_group\": 0.57, \"below_cutoff\": 15, \"pct_below_cutoff\": 1.0, \"name\": \"San Luis Obispo Regional Transit Authority \", \"caltrans_district\": \"05 - San Luis Obispo\", \"drmt_organization_name\": null, \"route_name\": \"Rta - San Luis Obispo / Morro Bay / Los Osos\", \"cutoff2\": 20, \"cutoff\": 0}, {\"calitp_itp_id\": 289, \"trip_key\": -7762775760576108986, \"trip_id\": \"398\", \"shape_id\": \"70\", \"route_id\": \"12N\", \"service_hours\": 0.57, \"trip_first_departure_ts\": 70380, \"trip_last_arrival_ts\": 72420, \"departure_hour\": 19, \"time_of_day\": \"PM Peak\", \"p25\": 0.57, \"p50\": 0.57, \"p75\": 0.57, \"p50_trip\": 1, \"fastest_trip\": 0, \"car_duration_hours\": 0.44, \"competitive_route\": 1, \"bus_multiplier\": 1.3, \"bus_difference\": 7.8, \"num_trips\": 15, \"num_competitive\": 15, \"pct_trips_competitive\": 1.0, \"bus_difference_spread\": 0.0, \"route_group\": \"short\", \"max_trip_hrs\": 0.57, \"max_trip_route_group\": 0.57, \"below_cutoff\": 15, \"pct_below_cutoff\": 1.0, \"name\": \"San Luis Obispo Regional Transit Authority \", \"caltrans_district\": \"05 - San Luis Obispo\", \"drmt_organization_name\": null, \"route_name\": \"Rta - San Luis Obispo / Morro Bay / Los Osos\", \"cutoff2\": 20, \"cutoff\": 0}, {\"calitp_itp_id\": 289, \"trip_key\": -1642980166738371902, \"trip_id\": \"1006\", \"shape_id\": \"129\", \"route_id\": \"15N\", \"service_hours\": 0.73, \"trip_first_departure_ts\": 36000, \"trip_last_arrival_ts\": 38640, \"departure_hour\": 10, \"time_of_day\": \"Midday\", \"p25\": 0.73, \"p50\": 0.73, \"p75\": 0.73, \"p50_trip\": 1, \"fastest_trip\": 0, \"car_duration_hours\": 0.72, \"competitive_route\": 1, \"bus_multiplier\": 1.01, \"bus_difference\": 0.6, \"num_trips\": 5, \"num_competitive\": 5, \"pct_trips_competitive\": 1.0, \"bus_difference_spread\": 0.0, \"route_group\": \"short\", \"max_trip_hrs\": 0.73, \"max_trip_route_group\": 0.73, \"below_cutoff\": 5, \"pct_below_cutoff\": 1.0, \"name\": \"San Luis Obispo Regional Transit Authority \", \"caltrans_district\": \"05 - San Luis Obispo\", \"drmt_organization_name\": null, \"route_name\": \"Rta - Morro Bay / San Simeon\", \"cutoff2\": 20, \"cutoff\": 0}, {\"calitp_itp_id\": 289, \"trip_key\": 2301145435129059979, \"trip_id\": \"1008\", \"shape_id\": \"129\", \"route_id\": \"15N\", \"service_hours\": 0.73, \"trip_first_departure_ts\": 43200, \"trip_last_arrival_ts\": 45840, \"departure_hour\": 12, \"time_of_day\": \"Midday\", \"p25\": 0.73, \"p50\": 0.73, \"p75\": 0.73, \"p50_trip\": 1, \"fastest_trip\": 0, \"car_duration_hours\": 0.72, \"competitive_route\": 1, \"bus_multiplier\": 1.01, \"bus_difference\": 0.6, \"num_trips\": 5, \"num_competitive\": 5, \"pct_trips_competitive\": 1.0, \"bus_difference_spread\": 0.0, \"route_group\": \"short\", \"max_trip_hrs\": 0.73, \"max_trip_route_group\": 0.73, \"below_cutoff\": 5, \"pct_below_cutoff\": 1.0, \"name\": \"San Luis Obispo Regional Transit Authority \", \"caltrans_district\": \"05 - San Luis Obispo\", \"drmt_organization_name\": null, \"route_name\": \"Rta - Morro Bay / San Simeon\", \"cutoff2\": 20, \"cutoff\": 0}, {\"calitp_itp_id\": 289, \"trip_key\": 874518230174457969, \"trip_id\": \"1012\", \"shape_id\": \"129\", \"route_id\": \"15N\", \"service_hours\": 0.73, \"trip_first_departure_ts\": 64800, \"trip_last_arrival_ts\": 67440, \"departure_hour\": 18, \"time_of_day\": \"PM Peak\", \"p25\": 0.73, \"p50\": 0.73, \"p75\": 0.73, \"p50_trip\": 1, \"fastest_trip\": 1, \"car_duration_hours\": 0.72, \"competitive_route\": 1, \"bus_multiplier\": 1.01, \"bus_difference\": 0.6, \"num_trips\": 5, \"num_competitive\": 5, \"pct_trips_competitive\": 1.0, \"bus_difference_spread\": 0.0, \"route_group\": \"short\", \"max_trip_hrs\": 0.73, \"max_trip_route_group\": 0.73, \"below_cutoff\": 5, \"pct_below_cutoff\": 1.0, \"name\": \"San Luis Obispo Regional Transit Authority \", \"caltrans_district\": \"05 - San Luis Obispo\", \"drmt_organization_name\": null, \"route_name\": \"Rta - Morro Bay / San Simeon\", \"cutoff2\": 20, \"cutoff\": 0}, {\"calitp_itp_id\": 289, \"trip_key\": 8525825103426144789, \"trip_id\": \"1010\", \"shape_id\": \"129\", \"route_id\": \"15N\", \"service_hours\": 0.73, \"trip_first_departure_ts\": 54000, \"trip_last_arrival_ts\": 56640, \"departure_hour\": 15, \"time_of_day\": \"Midday\", \"p25\": 0.73, \"p50\": 0.73, \"p75\": 0.73, \"p50_trip\": 1, \"fastest_trip\": 0, \"car_duration_hours\": 0.72, \"competitive_route\": 1, \"bus_multiplier\": 1.01, \"bus_difference\": 0.6, \"num_trips\": 5, \"num_competitive\": 5, \"pct_trips_competitive\": 1.0, \"bus_difference_spread\": 0.0, \"route_group\": \"short\", \"max_trip_hrs\": 0.73, \"max_trip_route_group\": 0.73, \"below_cutoff\": 5, \"pct_below_cutoff\": 1.0, \"name\": \"San Luis Obispo Regional Transit Authority \", \"caltrans_district\": \"05 - San Luis Obispo\", \"drmt_organization_name\": null, \"route_name\": \"Rta - Morro Bay / San Simeon\", \"cutoff2\": 20, \"cutoff\": 0}, {\"calitp_itp_id\": 289, \"trip_key\": -3531124478440319766, \"trip_id\": \"1004\", \"shape_id\": \"129\", \"route_id\": \"15N\", \"service_hours\": 0.73, \"trip_first_departure_ts\": 25200, \"trip_last_arrival_ts\": 27840, \"departure_hour\": 7, \"time_of_day\": \"AM Peak\", \"p25\": 0.73, \"p50\": 0.73, \"p75\": 0.73, \"p50_trip\": 1, \"fastest_trip\": 0, \"car_duration_hours\": 0.72, \"competitive_route\": 1, \"bus_multiplier\": 1.01, \"bus_difference\": 0.6, \"num_trips\": 5, \"num_competitive\": 5, \"pct_trips_competitive\": 1.0, \"bus_difference_spread\": 0.0, \"route_group\": \"short\", \"max_trip_hrs\": 0.73, \"max_trip_route_group\": 0.73, \"below_cutoff\": 5, \"pct_below_cutoff\": 1.0, \"name\": \"San Luis Obispo Regional Transit Authority \", \"caltrans_district\": \"05 - San Luis Obispo\", \"drmt_organization_name\": null, \"route_name\": \"Rta - Morro Bay / San Simeon\", \"cutoff2\": 20, \"cutoff\": 0}, {\"calitp_itp_id\": 289, \"trip_key\": 4284993076453935883, \"trip_id\": \"1009\", \"shape_id\": \"126\", \"route_id\": \"15S\", \"service_hours\": 0.72, \"trip_first_departure_ts\": 49800, \"trip_last_arrival_ts\": 52380, \"departure_hour\": 13, \"time_of_day\": \"Midday\", \"p25\": 0.72, \"p50\": 0.72, \"p75\": 0.72, \"p50_trip\": 1, \"fastest_trip\": 0, \"car_duration_hours\": 0.7, \"competitive_route\": 1, \"bus_multiplier\": 1.03, \"bus_difference\": 1.2, \"num_trips\": 5, \"num_competitive\": 5, \"pct_trips_competitive\": 1.0, \"bus_difference_spread\": 0.0, \"route_group\": \"short\", \"max_trip_hrs\": 0.72, \"max_trip_route_group\": 0.72, \"below_cutoff\": 5, \"pct_below_cutoff\": 1.0, \"name\": \"San Luis Obispo Regional Transit Authority \", \"caltrans_district\": \"05 - San Luis Obispo\", \"drmt_organization_name\": null, \"route_name\": \"Rta - San Simeon / Morro Bay\", \"cutoff2\": 20, \"cutoff\": 0}, {\"calitp_itp_id\": 289, \"trip_key\": 2538646404492185224, \"trip_id\": \"1003\", \"shape_id\": \"126\", \"route_id\": \"15S\", \"service_hours\": 0.72, \"trip_first_departure_ts\": 21600, \"trip_last_arrival_ts\": 24180, \"departure_hour\": 6, \"time_of_day\": \"Owl Service\", \"p25\": 0.72, \"p50\": 0.72, \"p75\": 0.72, \"p50_trip\": 1, \"fastest_trip\": 0, \"car_duration_hours\": 0.7, \"competitive_route\": 1, \"bus_multiplier\": 1.03, \"bus_difference\": 1.2, \"num_trips\": 5, \"num_competitive\": 5, \"pct_trips_competitive\": 1.0, \"bus_difference_spread\": 0.0, \"route_group\": \"short\", \"max_trip_hrs\": 0.72, \"max_trip_route_group\": 0.72, \"below_cutoff\": 5, \"pct_below_cutoff\": 1.0, \"name\": \"San Luis Obispo Regional Transit Authority \", \"caltrans_district\": \"05 - San Luis Obispo\", \"drmt_organization_name\": null, \"route_name\": \"Rta - San Simeon / Morro Bay\", \"cutoff2\": 20, \"cutoff\": 0}, {\"calitp_itp_id\": 289, \"trip_key\": -9063332635397023573, \"trip_id\": \"1011\", \"shape_id\": \"126\", \"route_id\": \"15S\", \"service_hours\": 0.72, \"trip_first_departure_ts\": 60600, \"trip_last_arrival_ts\": 63180, \"departure_hour\": 16, \"time_of_day\": \"Midday\", \"p25\": 0.72, \"p50\": 0.72, \"p75\": 0.72, \"p50_trip\": 1, \"fastest_trip\": 1, \"car_duration_hours\": 0.7, \"competitive_route\": 1, \"bus_multiplier\": 1.03, \"bus_difference\": 1.2, \"num_trips\": 5, \"num_competitive\": 5, \"pct_trips_competitive\": 1.0, \"bus_difference_spread\": 0.0, \"route_group\": \"short\", \"max_trip_hrs\": 0.72, \"max_trip_route_group\": 0.72, \"below_cutoff\": 5, \"pct_below_cutoff\": 1.0, \"name\": \"San Luis Obispo Regional Transit Authority \", \"caltrans_district\": \"05 - San Luis Obispo\", \"drmt_organization_name\": null, \"route_name\": \"Rta - San Simeon / Morro Bay\", \"cutoff2\": 20, \"cutoff\": 0}, {\"calitp_itp_id\": 289, \"trip_key\": 8400463445688142578, \"trip_id\": \"1007\", \"shape_id\": \"126\", \"route_id\": \"15S\", \"service_hours\": 0.72, \"trip_first_departure_ts\": 39000, \"trip_last_arrival_ts\": 41580, \"departure_hour\": 10, \"time_of_day\": \"Midday\", \"p25\": 0.72, \"p50\": 0.72, \"p75\": 0.72, \"p50_trip\": 1, \"fastest_trip\": 0, \"car_duration_hours\": 0.7, \"competitive_route\": 1, \"bus_multiplier\": 1.03, \"bus_difference\": 1.2, \"num_trips\": 5, \"num_competitive\": 5, \"pct_trips_competitive\": 1.0, \"bus_difference_spread\": 0.0, \"route_group\": \"short\", \"max_trip_hrs\": 0.72, \"max_trip_route_group\": 0.72, \"below_cutoff\": 5, \"pct_below_cutoff\": 1.0, \"name\": \"San Luis Obispo Regional Transit Authority \", \"caltrans_district\": \"05 - San Luis Obispo\", \"drmt_organization_name\": null, \"route_name\": \"Rta - San Simeon / Morro Bay\", \"cutoff2\": 20, \"cutoff\": 0}, {\"calitp_itp_id\": 289, \"trip_key\": 6889099494772164731, \"trip_id\": \"1005\", \"shape_id\": \"126\", \"route_id\": \"15S\", \"service_hours\": 0.72, \"trip_first_departure_ts\": 28200, \"trip_last_arrival_ts\": 30780, \"departure_hour\": 7, \"time_of_day\": \"AM Peak\", \"p25\": 0.72, \"p50\": 0.72, \"p75\": 0.72, \"p50_trip\": 1, \"fastest_trip\": 0, \"car_duration_hours\": 0.7, \"competitive_route\": 1, \"bus_multiplier\": 1.03, \"bus_difference\": 1.2, \"num_trips\": 5, \"num_competitive\": 5, \"pct_trips_competitive\": 1.0, \"bus_difference_spread\": 0.0, \"route_group\": \"short\", \"max_trip_hrs\": 0.72, \"max_trip_route_group\": 0.72, \"below_cutoff\": 5, \"pct_below_cutoff\": 1.0, \"name\": \"San Luis Obispo Regional Transit Authority \", \"caltrans_district\": \"05 - San Luis Obispo\", \"drmt_organization_name\": null, \"route_name\": \"Rta - San Simeon / Morro Bay\", \"cutoff2\": 20, \"cutoff\": 0}]}}, {\"mode\": \"vega-lite\"});\n",
       "</script>"
      ],
      "text/plain": [
       "alt.FacetChart(...)"
      ]
     },
     "metadata": {},
     "output_type": "display_data"
    },
    {
     "data": {
      "text/html": [
       "<h4>Route Stats</h4>"
      ],
      "text/plain": [
       "<IPython.core.display.HTML object>"
      ]
     },
     "metadata": {},
     "output_type": "display_data"
    },
    {
     "data": {
      "text/html": [
       "<style type=\"text/css\">\n",
       "</style>\n",
       "<table id=\"T_4cacd\">\n",
       "  <thead>\n",
       "    <tr>\n",
       "      <th id=\"T_4cacd_level0_col0\" class=\"col_heading level0 col0\" >Route ID</th>\n",
       "      <th id=\"T_4cacd_level0_col1\" class=\"col_heading level0 col1\" >Route Name</th>\n",
       "      <th id=\"T_4cacd_level0_col2\" class=\"col_heading level0 col2\" ># trips</th>\n",
       "      <th id=\"T_4cacd_level0_col3\" class=\"col_heading level0 col3\" >Daily Avg Frequency (trips per hr)</th>\n",
       "      <th id=\"T_4cacd_level0_col4\" class=\"col_heading level0 col4\" >25th, 50th, 75th ptile (hrs)</th>\n",
       "      <th id=\"T_4cacd_level0_col5\" class=\"col_heading level0 col5\" >PM Peak Avg Frequency (trips per hr)</th>\n",
       "    </tr>\n",
       "  </thead>\n",
       "  <tbody>\n",
       "    <tr>\n",
       "      <td id=\"T_4cacd_row0_col0\" class=\"data row0 col0\" >12N</td>\n",
       "      <td id=\"T_4cacd_row0_col1\" class=\"data row0 col1\" >Rta - San Luis Obispo / Morro Bay / Los Osos</td>\n",
       "      <td id=\"T_4cacd_row0_col2\" class=\"data row0 col2\" >15</td>\n",
       "      <td id=\"T_4cacd_row0_col3\" class=\"data row0 col3\" >0.62</td>\n",
       "      <td id=\"T_4cacd_row0_col4\" class=\"data row0 col4\" >0.57, 0.57, 0.57</td>\n",
       "      <td id=\"T_4cacd_row0_col5\" class=\"data row0 col5\" >1.0</td>\n",
       "    </tr>\n",
       "    <tr>\n",
       "      <td id=\"T_4cacd_row1_col0\" class=\"data row1 col0\" >15N</td>\n",
       "      <td id=\"T_4cacd_row1_col1\" class=\"data row1 col1\" >Rta - Morro Bay / San Simeon</td>\n",
       "      <td id=\"T_4cacd_row1_col2\" class=\"data row1 col2\" >5</td>\n",
       "      <td id=\"T_4cacd_row1_col3\" class=\"data row1 col3\" >0.21</td>\n",
       "      <td id=\"T_4cacd_row1_col4\" class=\"data row1 col4\" >0.73, 0.73, 0.73</td>\n",
       "      <td id=\"T_4cacd_row1_col5\" class=\"data row1 col5\" >0.33</td>\n",
       "    </tr>\n",
       "    <tr>\n",
       "      <td id=\"T_4cacd_row2_col0\" class=\"data row2 col0\" >15S</td>\n",
       "      <td id=\"T_4cacd_row2_col1\" class=\"data row2 col1\" >Rta - San Simeon / Morro Bay</td>\n",
       "      <td id=\"T_4cacd_row2_col2\" class=\"data row2 col2\" >5</td>\n",
       "      <td id=\"T_4cacd_row2_col3\" class=\"data row2 col3\" >0.21</td>\n",
       "      <td id=\"T_4cacd_row2_col4\" class=\"data row2 col4\" >0.72, 0.72, 0.72</td>\n",
       "      <td id=\"T_4cacd_row2_col5\" class=\"data row2 col5\" >nan</td>\n",
       "    </tr>\n",
       "  </tbody>\n",
       "</table>\n"
      ],
      "text/plain": [
       "<IPython.core.display.HTML object>"
      ]
     },
     "metadata": {},
     "output_type": "display_data"
    }
   ],
   "source": [
    "# Allow for possibility that operator doesn't have routes that fall into certain route_groups\n",
    "# But, jupyterbook will not like markdown with f-string\n",
    "# separate out route_group and put in each cell, and use try/except + if to display...\n",
    "# but all 3 route groups must be displayed. just add sentence about why no routes were returned at the end\n",
    "route_group = \"short\"\n",
    "try:\n",
    "    display_charts_for_route_group(df, route_group)\n",
    "except:\n",
    "    print(\"No routes meet this criteria.\")"
   ]
  },
  {
   "cell_type": "markdown",
   "id": "c2931b6f-034d-4384-9e14-80b925e3b820",
   "metadata": {
    "papermill": {
     "duration": 0.018361,
     "end_time": "2022-05-11T22:08:52.750863",
     "exception": false,
     "start_time": "2022-05-11T22:08:52.732502",
     "status": "completed"
    },
    "tags": []
   },
   "source": [
    "### Medium Routes (1-1.5 hrs)"
   ]
  },
  {
   "cell_type": "code",
   "execution_count": 15,
   "id": "480edddc-4de0-48c2-ae4c-b0ceef8f28b5",
   "metadata": {
    "execution": {
     "iopub.execute_input": "2022-05-11T22:08:52.798888Z",
     "iopub.status.busy": "2022-05-11T22:08:52.798527Z",
     "iopub.status.idle": "2022-05-11T22:08:53.043172Z",
     "shell.execute_reply": "2022-05-11T22:08:53.042343Z"
    },
    "jupyter": {
     "source_hidden": true
    },
    "papermill": {
     "duration": 0.273835,
     "end_time": "2022-05-11T22:08:53.045182",
     "exception": false,
     "start_time": "2022-05-11T22:08:52.771347",
     "status": "completed"
    },
    "tags": [
     "remove_input"
    ]
   },
   "outputs": [
    {
     "data": {
      "text/markdown": [
       "<br>These are routes that have **at least 50% of their trips take no more than an additional 30 min** compared to a car (up to 15 routes) are shown.<br>Within each route group, routes are sorted in descending order by % competitive trips and # trips below the additional time cut-off."
      ],
      "text/plain": [
       "<IPython.core.display.Markdown object>"
      ]
     },
     "metadata": {},
     "output_type": "display_data"
    },
    {
     "data": {
      "text/html": [
       "\n",
       "<div id=\"altair-viz-5cb60b54afa9409c8d7b2fd2d52e2be5\"></div>\n",
       "<script type=\"text/javascript\">\n",
       "  var VEGA_DEBUG = (typeof VEGA_DEBUG == \"undefined\") ? {} : VEGA_DEBUG;\n",
       "  (function(spec, embedOpt){\n",
       "    let outputDiv = document.currentScript.previousElementSibling;\n",
       "    if (outputDiv.id !== \"altair-viz-5cb60b54afa9409c8d7b2fd2d52e2be5\") {\n",
       "      outputDiv = document.getElementById(\"altair-viz-5cb60b54afa9409c8d7b2fd2d52e2be5\");\n",
       "    }\n",
       "    const paths = {\n",
       "      \"vega\": \"https://cdn.jsdelivr.net/npm//vega@5?noext\",\n",
       "      \"vega-lib\": \"https://cdn.jsdelivr.net/npm//vega-lib?noext\",\n",
       "      \"vega-lite\": \"https://cdn.jsdelivr.net/npm//vega-lite@4.17.0?noext\",\n",
       "      \"vega-embed\": \"https://cdn.jsdelivr.net/npm//vega-embed@6?noext\",\n",
       "    };\n",
       "\n",
       "    function maybeLoadScript(lib, version) {\n",
       "      var key = `${lib.replace(\"-\", \"\")}_version`;\n",
       "      return (VEGA_DEBUG[key] == version) ?\n",
       "        Promise.resolve(paths[lib]) :\n",
       "        new Promise(function(resolve, reject) {\n",
       "          var s = document.createElement('script');\n",
       "          document.getElementsByTagName(\"head\")[0].appendChild(s);\n",
       "          s.async = true;\n",
       "          s.onload = () => {\n",
       "            VEGA_DEBUG[key] = version;\n",
       "            return resolve(paths[lib]);\n",
       "          };\n",
       "          s.onerror = () => reject(`Error loading script: ${paths[lib]}`);\n",
       "          s.src = paths[lib];\n",
       "        });\n",
       "    }\n",
       "\n",
       "    function showError(err) {\n",
       "      outputDiv.innerHTML = `<div class=\"error\" style=\"color:red;\">${err}</div>`;\n",
       "      throw err;\n",
       "    }\n",
       "\n",
       "    function displayChart(vegaEmbed) {\n",
       "      vegaEmbed(outputDiv, spec, embedOpt)\n",
       "        .catch(err => showError(`Javascript Error: ${err.message}<br>This usually means there's a typo in your chart specification. See the javascript console for the full traceback.`));\n",
       "    }\n",
       "\n",
       "    if(typeof define === \"function\" && define.amd) {\n",
       "      requirejs.config({paths});\n",
       "      require([\"vega-embed\"], displayChart, err => showError(`Error loading script: ${err.message}`));\n",
       "    } else {\n",
       "      maybeLoadScript(\"vega\", \"5\")\n",
       "        .then(() => maybeLoadScript(\"vega-lite\", \"4.17.0\"))\n",
       "        .then(() => maybeLoadScript(\"vega-embed\", \"6\"))\n",
       "        .catch(showError)\n",
       "        .then(() => displayChart(vegaEmbed));\n",
       "    }\n",
       "  })({\"config\": {\"view\": {\"continuousWidth\": 400, \"continuousHeight\": 300, \"stroke\": null}, \"facet\": {\"spacing\": 0}}, \"data\": {\"name\": \"data-48f810d263c1a157096da4c3d1f8f25f\"}, \"facet\": {\"column\": {\"field\": \"route_id\", \"sort\": [\"12S\", \"10S\"], \"title\": \"Route ID\", \"type\": \"nominal\"}}, \"spec\": {\"layer\": [{\"mark\": \"rule\", \"encoding\": {\"color\": {\"value\": \"black\"}, \"y\": {\"field\": \"cutoff\", \"type\": \"quantitative\"}}, \"selection\": {\"selector003\": {\"type\": \"interval\", \"bind\": \"scales\", \"encodings\": [\"x\", \"y\"]}}}, {\"mark\": {\"type\": \"point\", \"opacity\": 0.65, \"size\": 12, \"strokeWidth\": 1.1}, \"encoding\": {\"color\": {\"field\": \"time_of_day\", \"scale\": {\"range\": [\"#136C97\", \"#E16B26\", \"#F6BF16\", \"#00896B\", \"#7790A3\", \"#5B559C\"]}, \"sort\": [\"AM Peak\", \"Midday\", \"PM Peak\", \"Owl Service\"], \"title\": \"Time of Day\", \"type\": \"nominal\"}, \"tooltip\": [{\"field\": \"route_id\", \"type\": \"nominal\"}, {\"field\": \"route_name\", \"type\": \"nominal\"}, {\"field\": \"trip_id\", \"type\": \"nominal\"}, {\"field\": \"service_hours\", \"type\": \"quantitative\"}, {\"field\": \"car_duration_hours\", \"type\": \"quantitative\"}, {\"field\": \"bus_multiplier\", \"type\": \"quantitative\"}, {\"field\": \"bus_difference\", \"type\": \"quantitative\"}, {\"field\": \"num_trips\", \"type\": \"quantitative\"}, {\"field\": \"num_competitive\", \"type\": \"quantitative\"}, {\"field\": \"pct_trips_competitive\", \"type\": \"quantitative\"}, {\"field\": \"p25\", \"type\": \"quantitative\"}, {\"field\": \"p50\", \"type\": \"quantitative\"}, {\"field\": \"p75\", \"type\": \"quantitative\"}], \"x\": {\"axis\": {\"grid\": false, \"labels\": false, \"ticks\": true, \"values\": [0]}, \"field\": \"jitter\", \"scale\": {}, \"title\": null, \"type\": \"quantitative\"}, \"y\": {\"field\": \"bus_multiplier\", \"scale\": {\"domain\": [-0.25, 3.0]}, \"title\": \"Ratio of Bus to Car Travel Time\", \"type\": \"quantitative\"}}, \"transform\": [{\"calculate\": \"sqrt(-2*log(random()))*cos(2*PI*random())\", \"as\": \"jitter\"}], \"width\": 50}, {\"layer\": [{\"mark\": {\"type\": \"point\", \"opacity\": 0.6, \"size\": 20, \"strokeWidth\": 1.3}, \"encoding\": {\"color\": {\"value\": \"#323434\"}, \"y\": {\"field\": \"bus_multiplier\", \"type\": \"quantitative\"}}, \"transform\": [{\"filter\": \"(datum.p50_trip === 1)\"}]}, {\"mark\": {\"type\": \"text\", \"align\": \"center\", \"baseline\": \"middle\"}, \"encoding\": {\"color\": {\"value\": \"black\"}, \"text\": {\"field\": \"pct_trips_competitive\", \"format\": \".0%\", \"type\": \"quantitative\"}, \"tooltip\": [{\"field\": \"route_id\", \"type\": \"nominal\"}, {\"field\": \"route_name\", \"type\": \"nominal\"}, {\"field\": \"trip_id\", \"type\": \"nominal\"}, {\"field\": \"service_hours\", \"type\": \"quantitative\"}, {\"field\": \"car_duration_hours\", \"type\": \"quantitative\"}, {\"field\": \"bus_multiplier\", \"type\": \"quantitative\"}, {\"field\": \"bus_difference\", \"type\": \"quantitative\"}, {\"field\": \"num_trips\", \"type\": \"quantitative\"}, {\"field\": \"num_competitive\", \"type\": \"quantitative\"}, {\"field\": \"pct_trips_competitive\", \"type\": \"quantitative\"}, {\"field\": \"p25\", \"type\": \"quantitative\"}, {\"field\": \"p50\", \"type\": \"quantitative\"}, {\"field\": \"p75\", \"type\": \"quantitative\"}], \"x\": {\"value\": 30}, \"y\": {\"value\": 15}}, \"transform\": [{\"calculate\": \"sqrt(-2*log(random()))*cos(2*PI*random())\", \"as\": \"jitter\"}, {\"filter\": \"(datum.fastest_trip === 1)\"}]}]}]}, \"resolve\": {\"scale\": {\"y\": \"shared\"}}, \"title\": \"Ratio of Bus to Car Travel Time\", \"$schema\": \"https://vega.github.io/schema/vega-lite/v4.17.0.json\", \"datasets\": {\"data-48f810d263c1a157096da4c3d1f8f25f\": [{\"calitp_itp_id\": 289, \"trip_key\": -217978832266472708, \"trip_id\": \"373\", \"shape_id\": \"119\", \"route_id\": \"10S\", \"service_hours\": 1.17, \"trip_first_departure_ts\": 63180, \"trip_last_arrival_ts\": 67380, \"departure_hour\": 17, \"time_of_day\": \"PM Peak\", \"p25\": 1.17, \"p50\": 1.17, \"p75\": 1.17, \"p50_trip\": 1, \"fastest_trip\": 0, \"car_duration_hours\": 0.9, \"competitive_route\": 1, \"bus_multiplier\": 1.3, \"bus_difference\": 16.2, \"num_trips\": 15, \"num_competitive\": 15, \"pct_trips_competitive\": 1.0, \"bus_difference_spread\": 0.0, \"route_group\": \"medium\", \"max_trip_hrs\": 1.17, \"max_trip_route_group\": 1.17, \"below_cutoff\": 15, \"pct_below_cutoff\": 1.0, \"name\": \"San Luis Obispo Regional Transit Authority \", \"caltrans_district\": \"05 - San Luis Obispo\", \"drmt_organization_name\": null, \"route_name\": \"Rta - San Luis Obispo / Santa Maria\", \"cutoff2\": 30, \"cutoff\": 2}, {\"calitp_itp_id\": 289, \"trip_key\": -8076280335769285352, \"trip_id\": \"946\", \"shape_id\": \"119\", \"route_id\": \"10S\", \"service_hours\": 1.17, \"trip_first_departure_ts\": 37980, \"trip_last_arrival_ts\": 42180, \"departure_hour\": 10, \"time_of_day\": \"Midday\", \"p25\": 1.17, \"p50\": 1.17, \"p75\": 1.17, \"p50_trip\": 1, \"fastest_trip\": 0, \"car_duration_hours\": 0.9, \"competitive_route\": 1, \"bus_multiplier\": 1.3, \"bus_difference\": 16.2, \"num_trips\": 15, \"num_competitive\": 15, \"pct_trips_competitive\": 1.0, \"bus_difference_spread\": 0.0, \"route_group\": \"medium\", \"max_trip_hrs\": 1.17, \"max_trip_route_group\": 1.17, \"below_cutoff\": 15, \"pct_below_cutoff\": 1.0, \"name\": \"San Luis Obispo Regional Transit Authority \", \"caltrans_district\": \"05 - San Luis Obispo\", \"drmt_organization_name\": null, \"route_name\": \"Rta - San Luis Obispo / Santa Maria\", \"cutoff2\": 30, \"cutoff\": 2}, {\"calitp_itp_id\": 289, \"trip_key\": -3752104160203546169, \"trip_id\": \"354\", \"shape_id\": \"119\", \"route_id\": \"10S\", \"service_hours\": 1.17, \"trip_first_departure_ts\": 23580, \"trip_last_arrival_ts\": 27780, \"departure_hour\": 6, \"time_of_day\": \"Owl Service\", \"p25\": 1.17, \"p50\": 1.17, \"p75\": 1.17, \"p50_trip\": 1, \"fastest_trip\": 0, \"car_duration_hours\": 0.9, \"competitive_route\": 1, \"bus_multiplier\": 1.3, \"bus_difference\": 16.2, \"num_trips\": 15, \"num_competitive\": 15, \"pct_trips_competitive\": 1.0, \"bus_difference_spread\": 0.0, \"route_group\": \"medium\", \"max_trip_hrs\": 1.17, \"max_trip_route_group\": 1.17, \"below_cutoff\": 15, \"pct_below_cutoff\": 1.0, \"name\": \"San Luis Obispo Regional Transit Authority \", \"caltrans_district\": \"05 - San Luis Obispo\", \"drmt_organization_name\": null, \"route_name\": \"Rta - San Luis Obispo / Santa Maria\", \"cutoff2\": 30, \"cutoff\": 2}, {\"calitp_itp_id\": 289, \"trip_key\": 3419659743591932465, \"trip_id\": \"356\", \"shape_id\": \"119\", \"route_id\": \"10S\", \"service_hours\": 1.17, \"trip_first_departure_ts\": 34380, \"trip_last_arrival_ts\": 38580, \"departure_hour\": 9, \"time_of_day\": \"AM Peak\", \"p25\": 1.17, \"p50\": 1.17, \"p75\": 1.17, \"p50_trip\": 1, \"fastest_trip\": 0, \"car_duration_hours\": 0.9, \"competitive_route\": 1, \"bus_multiplier\": 1.3, \"bus_difference\": 16.2, \"num_trips\": 15, \"num_competitive\": 15, \"pct_trips_competitive\": 1.0, \"bus_difference_spread\": 0.0, \"route_group\": \"medium\", \"max_trip_hrs\": 1.17, \"max_trip_route_group\": 1.17, \"below_cutoff\": 15, \"pct_below_cutoff\": 1.0, \"name\": \"San Luis Obispo Regional Transit Authority \", \"caltrans_district\": \"05 - San Luis Obispo\", \"drmt_organization_name\": null, \"route_name\": \"Rta - San Luis Obispo / Santa Maria\", \"cutoff2\": 30, \"cutoff\": 2}, {\"calitp_itp_id\": 289, \"trip_key\": -571990138005095757, \"trip_id\": \"363\", \"shape_id\": \"119\", \"route_id\": \"10S\", \"service_hours\": 1.17, \"trip_first_departure_ts\": 55980, \"trip_last_arrival_ts\": 60180, \"departure_hour\": 15, \"time_of_day\": \"Midday\", \"p25\": 1.17, \"p50\": 1.17, \"p75\": 1.17, \"p50_trip\": 1, \"fastest_trip\": 0, \"car_duration_hours\": 0.9, \"competitive_route\": 1, \"bus_multiplier\": 1.3, \"bus_difference\": 16.2, \"num_trips\": 15, \"num_competitive\": 15, \"pct_trips_competitive\": 1.0, \"bus_difference_spread\": 0.0, \"route_group\": \"medium\", \"max_trip_hrs\": 1.17, \"max_trip_route_group\": 1.17, \"below_cutoff\": 15, \"pct_below_cutoff\": 1.0, \"name\": \"San Luis Obispo Regional Transit Authority \", \"caltrans_district\": \"05 - San Luis Obispo\", \"drmt_organization_name\": null, \"route_name\": \"Rta - San Luis Obispo / Santa Maria\", \"cutoff2\": 30, \"cutoff\": 2}, {\"calitp_itp_id\": 289, \"trip_key\": -4207254156873363879, \"trip_id\": \"361\", \"shape_id\": \"119\", \"route_id\": \"10S\", \"service_hours\": 1.17, \"trip_first_departure_ts\": 45180, \"trip_last_arrival_ts\": 49380, \"departure_hour\": 12, \"time_of_day\": \"Midday\", \"p25\": 1.17, \"p50\": 1.17, \"p75\": 1.17, \"p50_trip\": 1, \"fastest_trip\": 0, \"car_duration_hours\": 0.9, \"competitive_route\": 1, \"bus_multiplier\": 1.3, \"bus_difference\": 16.2, \"num_trips\": 15, \"num_competitive\": 15, \"pct_trips_competitive\": 1.0, \"bus_difference_spread\": 0.0, \"route_group\": \"medium\", \"max_trip_hrs\": 1.17, \"max_trip_route_group\": 1.17, \"below_cutoff\": 15, \"pct_below_cutoff\": 1.0, \"name\": \"San Luis Obispo Regional Transit Authority \", \"caltrans_district\": \"05 - San Luis Obispo\", \"drmt_organization_name\": null, \"route_name\": \"Rta - San Luis Obispo / Santa Maria\", \"cutoff2\": 30, \"cutoff\": 2}, {\"calitp_itp_id\": 289, \"trip_key\": 2607466519835211678, \"trip_id\": \"370\", \"shape_id\": \"119\", \"route_id\": \"10S\", \"service_hours\": 1.17, \"trip_first_departure_ts\": 70380, \"trip_last_arrival_ts\": 74580, \"departure_hour\": 19, \"time_of_day\": \"PM Peak\", \"p25\": 1.17, \"p50\": 1.17, \"p75\": 1.17, \"p50_trip\": 1, \"fastest_trip\": 0, \"car_duration_hours\": 0.9, \"competitive_route\": 1, \"bus_multiplier\": 1.3, \"bus_difference\": 16.2, \"num_trips\": 15, \"num_competitive\": 15, \"pct_trips_competitive\": 1.0, \"bus_difference_spread\": 0.0, \"route_group\": \"medium\", \"max_trip_hrs\": 1.17, \"max_trip_route_group\": 1.17, \"below_cutoff\": 15, \"pct_below_cutoff\": 1.0, \"name\": \"San Luis Obispo Regional Transit Authority \", \"caltrans_district\": \"05 - San Luis Obispo\", \"drmt_organization_name\": null, \"route_name\": \"Rta - San Luis Obispo / Santa Maria\", \"cutoff2\": 30, \"cutoff\": 2}, {\"calitp_itp_id\": 289, \"trip_key\": -5258782079856220781, \"trip_id\": \"375\", \"shape_id\": \"119\", \"route_id\": \"10S\", \"service_hours\": 1.17, \"trip_first_departure_ts\": 73980, \"trip_last_arrival_ts\": 78180, \"departure_hour\": 20, \"time_of_day\": \"Owl Service\", \"p25\": 1.17, \"p50\": 1.17, \"p75\": 1.17, \"p50_trip\": 1, \"fastest_trip\": 1, \"car_duration_hours\": 0.9, \"competitive_route\": 1, \"bus_multiplier\": 1.3, \"bus_difference\": 16.2, \"num_trips\": 15, \"num_competitive\": 15, \"pct_trips_competitive\": 1.0, \"bus_difference_spread\": 0.0, \"route_group\": \"medium\", \"max_trip_hrs\": 1.17, \"max_trip_route_group\": 1.17, \"below_cutoff\": 15, \"pct_below_cutoff\": 1.0, \"name\": \"San Luis Obispo Regional Transit Authority \", \"caltrans_district\": \"05 - San Luis Obispo\", \"drmt_organization_name\": null, \"route_name\": \"Rta - San Luis Obispo / Santa Maria\", \"cutoff2\": 30, \"cutoff\": 2}, {\"calitp_itp_id\": 289, \"trip_key\": -4622280952197654526, \"trip_id\": \"371\", \"shape_id\": \"119\", \"route_id\": \"10S\", \"service_hours\": 1.17, \"trip_first_departure_ts\": 52380, \"trip_last_arrival_ts\": 56580, \"departure_hour\": 14, \"time_of_day\": \"Midday\", \"p25\": 1.17, \"p50\": 1.17, \"p75\": 1.17, \"p50_trip\": 1, \"fastest_trip\": 0, \"car_duration_hours\": 0.9, \"competitive_route\": 1, \"bus_multiplier\": 1.3, \"bus_difference\": 16.2, \"num_trips\": 15, \"num_competitive\": 15, \"pct_trips_competitive\": 1.0, \"bus_difference_spread\": 0.0, \"route_group\": \"medium\", \"max_trip_hrs\": 1.17, \"max_trip_route_group\": 1.17, \"below_cutoff\": 15, \"pct_below_cutoff\": 1.0, \"name\": \"San Luis Obispo Regional Transit Authority \", \"caltrans_district\": \"05 - San Luis Obispo\", \"drmt_organization_name\": null, \"route_name\": \"Rta - San Luis Obispo / Santa Maria\", \"cutoff2\": 30, \"cutoff\": 2}, {\"calitp_itp_id\": 289, \"trip_key\": 1316801091930926258, \"trip_id\": \"366\", \"shape_id\": \"119\", \"route_id\": \"10S\", \"service_hours\": 1.17, \"trip_first_departure_ts\": 48780, \"trip_last_arrival_ts\": 52980, \"departure_hour\": 13, \"time_of_day\": \"Midday\", \"p25\": 1.17, \"p50\": 1.17, \"p75\": 1.17, \"p50_trip\": 1, \"fastest_trip\": 0, \"car_duration_hours\": 0.9, \"competitive_route\": 1, \"bus_multiplier\": 1.3, \"bus_difference\": 16.2, \"num_trips\": 15, \"num_competitive\": 15, \"pct_trips_competitive\": 1.0, \"bus_difference_spread\": 0.0, \"route_group\": \"medium\", \"max_trip_hrs\": 1.17, \"max_trip_route_group\": 1.17, \"below_cutoff\": 15, \"pct_below_cutoff\": 1.0, \"name\": \"San Luis Obispo Regional Transit Authority \", \"caltrans_district\": \"05 - San Luis Obispo\", \"drmt_organization_name\": null, \"route_name\": \"Rta - San Luis Obispo / Santa Maria\", \"cutoff2\": 30, \"cutoff\": 2}, {\"calitp_itp_id\": 289, \"trip_key\": 9159001500917859094, \"trip_id\": \"368\", \"shape_id\": \"119\", \"route_id\": \"10S\", \"service_hours\": 1.17, \"trip_first_departure_ts\": 59580, \"trip_last_arrival_ts\": 63780, \"departure_hour\": 16, \"time_of_day\": \"Midday\", \"p25\": 1.17, \"p50\": 1.17, \"p75\": 1.17, \"p50_trip\": 1, \"fastest_trip\": 0, \"car_duration_hours\": 0.9, \"competitive_route\": 1, \"bus_multiplier\": 1.3, \"bus_difference\": 16.2, \"num_trips\": 15, \"num_competitive\": 15, \"pct_trips_competitive\": 1.0, \"bus_difference_spread\": 0.0, \"route_group\": \"medium\", \"max_trip_hrs\": 1.17, \"max_trip_route_group\": 1.17, \"below_cutoff\": 15, \"pct_below_cutoff\": 1.0, \"name\": \"San Luis Obispo Regional Transit Authority \", \"caltrans_district\": \"05 - San Luis Obispo\", \"drmt_organization_name\": null, \"route_name\": \"Rta - San Luis Obispo / Santa Maria\", \"cutoff2\": 30, \"cutoff\": 2}, {\"calitp_itp_id\": 289, \"trip_key\": -3399655299364162076, \"trip_id\": \"365\", \"shape_id\": \"119\", \"route_id\": \"10S\", \"service_hours\": 1.17, \"trip_first_departure_ts\": 66780, \"trip_last_arrival_ts\": 70980, \"departure_hour\": 18, \"time_of_day\": \"PM Peak\", \"p25\": 1.17, \"p50\": 1.17, \"p75\": 1.17, \"p50_trip\": 1, \"fastest_trip\": 0, \"car_duration_hours\": 0.9, \"competitive_route\": 1, \"bus_multiplier\": 1.3, \"bus_difference\": 16.2, \"num_trips\": 15, \"num_competitive\": 15, \"pct_trips_competitive\": 1.0, \"bus_difference_spread\": 0.0, \"route_group\": \"medium\", \"max_trip_hrs\": 1.17, \"max_trip_route_group\": 1.17, \"below_cutoff\": 15, \"pct_below_cutoff\": 1.0, \"name\": \"San Luis Obispo Regional Transit Authority \", \"caltrans_district\": \"05 - San Luis Obispo\", \"drmt_organization_name\": null, \"route_name\": \"Rta - San Luis Obispo / Santa Maria\", \"cutoff2\": 30, \"cutoff\": 2}, {\"calitp_itp_id\": 289, \"trip_key\": -6323686424439162039, \"trip_id\": \"360\", \"shape_id\": \"119\", \"route_id\": \"10S\", \"service_hours\": 1.17, \"trip_first_departure_ts\": 41580, \"trip_last_arrival_ts\": 45780, \"departure_hour\": 11, \"time_of_day\": \"Midday\", \"p25\": 1.17, \"p50\": 1.17, \"p75\": 1.17, \"p50_trip\": 1, \"fastest_trip\": 0, \"car_duration_hours\": 0.9, \"competitive_route\": 1, \"bus_multiplier\": 1.3, \"bus_difference\": 16.2, \"num_trips\": 15, \"num_competitive\": 15, \"pct_trips_competitive\": 1.0, \"bus_difference_spread\": 0.0, \"route_group\": \"medium\", \"max_trip_hrs\": 1.17, \"max_trip_route_group\": 1.17, \"below_cutoff\": 15, \"pct_below_cutoff\": 1.0, \"name\": \"San Luis Obispo Regional Transit Authority \", \"caltrans_district\": \"05 - San Luis Obispo\", \"drmt_organization_name\": null, \"route_name\": \"Rta - San Luis Obispo / Santa Maria\", \"cutoff2\": 30, \"cutoff\": 2}, {\"calitp_itp_id\": 289, \"trip_key\": -1056786610625619433, \"trip_id\": \"358\", \"shape_id\": \"119\", \"route_id\": \"10S\", \"service_hours\": 1.17, \"trip_first_departure_ts\": 30780, \"trip_last_arrival_ts\": 34980, \"departure_hour\": 8, \"time_of_day\": \"AM Peak\", \"p25\": 1.17, \"p50\": 1.17, \"p75\": 1.17, \"p50_trip\": 1, \"fastest_trip\": 0, \"car_duration_hours\": 0.9, \"competitive_route\": 1, \"bus_multiplier\": 1.3, \"bus_difference\": 16.2, \"num_trips\": 15, \"num_competitive\": 15, \"pct_trips_competitive\": 1.0, \"bus_difference_spread\": 0.0, \"route_group\": \"medium\", \"max_trip_hrs\": 1.17, \"max_trip_route_group\": 1.17, \"below_cutoff\": 15, \"pct_below_cutoff\": 1.0, \"name\": \"San Luis Obispo Regional Transit Authority \", \"caltrans_district\": \"05 - San Luis Obispo\", \"drmt_organization_name\": null, \"route_name\": \"Rta - San Luis Obispo / Santa Maria\", \"cutoff2\": 30, \"cutoff\": 2}, {\"calitp_itp_id\": 289, \"trip_key\": 8536695527248159290, \"trip_id\": \"944\", \"shape_id\": \"119\", \"route_id\": \"10S\", \"service_hours\": 1.17, \"trip_first_departure_ts\": 27180, \"trip_last_arrival_ts\": 31380, \"departure_hour\": 7, \"time_of_day\": \"AM Peak\", \"p25\": 1.17, \"p50\": 1.17, \"p75\": 1.17, \"p50_trip\": 1, \"fastest_trip\": 0, \"car_duration_hours\": 0.9, \"competitive_route\": 1, \"bus_multiplier\": 1.3, \"bus_difference\": 16.2, \"num_trips\": 15, \"num_competitive\": 15, \"pct_trips_competitive\": 1.0, \"bus_difference_spread\": 0.0, \"route_group\": \"medium\", \"max_trip_hrs\": 1.17, \"max_trip_route_group\": 1.17, \"below_cutoff\": 15, \"pct_below_cutoff\": 1.0, \"name\": \"San Luis Obispo Regional Transit Authority \", \"caltrans_district\": \"05 - San Luis Obispo\", \"drmt_organization_name\": null, \"route_name\": \"Rta - San Luis Obispo / Santa Maria\", \"cutoff2\": 30, \"cutoff\": 2}, {\"calitp_itp_id\": 289, \"trip_key\": -902725178889451754, \"trip_id\": \"396\", \"shape_id\": \"40\", \"route_id\": \"12S\", \"service_hours\": 0.98, \"trip_first_departure_ts\": 65220, \"trip_last_arrival_ts\": 68760, \"departure_hour\": 18, \"time_of_day\": \"PM Peak\", \"p25\": 0.98, \"p50\": 0.98, \"p75\": 0.98, \"p50_trip\": 1, \"fastest_trip\": 0, \"car_duration_hours\": 0.69, \"competitive_route\": 1, \"bus_multiplier\": 1.42, \"bus_difference\": 17.4, \"num_trips\": 16, \"num_competitive\": 16, \"pct_trips_competitive\": 1.0, \"bus_difference_spread\": 5.400000000000002, \"route_group\": \"medium\", \"max_trip_hrs\": 1.07, \"max_trip_route_group\": 1.07, \"below_cutoff\": 16, \"pct_below_cutoff\": 1.0, \"name\": \"San Luis Obispo Regional Transit Authority \", \"caltrans_district\": \"05 - San Luis Obispo\", \"drmt_organization_name\": null, \"route_name\": \"Rta - Los Osos / Morro Bay / San Luis Obispo\", \"cutoff2\": 30, \"cutoff\": 2}, {\"calitp_itp_id\": 289, \"trip_key\": -490404982841053616, \"trip_id\": \"397\", \"shape_id\": \"40\", \"route_id\": \"12S\", \"service_hours\": 0.98, \"trip_first_departure_ts\": 68820, \"trip_last_arrival_ts\": 72360, \"departure_hour\": 19, \"time_of_day\": \"PM Peak\", \"p25\": 0.98, \"p50\": 0.98, \"p75\": 0.98, \"p50_trip\": 1, \"fastest_trip\": 0, \"car_duration_hours\": 0.69, \"competitive_route\": 1, \"bus_multiplier\": 1.42, \"bus_difference\": 17.4, \"num_trips\": 16, \"num_competitive\": 16, \"pct_trips_competitive\": 1.0, \"bus_difference_spread\": 5.400000000000002, \"route_group\": \"medium\", \"max_trip_hrs\": 1.07, \"max_trip_route_group\": 1.07, \"below_cutoff\": 16, \"pct_below_cutoff\": 1.0, \"name\": \"San Luis Obispo Regional Transit Authority \", \"caltrans_district\": \"05 - San Luis Obispo\", \"drmt_organization_name\": null, \"route_name\": \"Rta - Los Osos / Morro Bay / San Luis Obispo\", \"cutoff2\": 30, \"cutoff\": 2}, {\"calitp_itp_id\": 289, \"trip_key\": -2045283170317425624, \"trip_id\": \"401\", \"shape_id\": \"40\", \"route_id\": \"12S\", \"service_hours\": 0.98, \"trip_first_departure_ts\": 54420, \"trip_last_arrival_ts\": 57960, \"departure_hour\": 15, \"time_of_day\": \"Midday\", \"p25\": 0.98, \"p50\": 0.98, \"p75\": 0.98, \"p50_trip\": 1, \"fastest_trip\": 0, \"car_duration_hours\": 0.69, \"competitive_route\": 1, \"bus_multiplier\": 1.42, \"bus_difference\": 17.4, \"num_trips\": 16, \"num_competitive\": 16, \"pct_trips_competitive\": 1.0, \"bus_difference_spread\": 5.400000000000002, \"route_group\": \"medium\", \"max_trip_hrs\": 1.07, \"max_trip_route_group\": 1.07, \"below_cutoff\": 16, \"pct_below_cutoff\": 1.0, \"name\": \"San Luis Obispo Regional Transit Authority \", \"caltrans_district\": \"05 - San Luis Obispo\", \"drmt_organization_name\": null, \"route_name\": \"Rta - Los Osos / Morro Bay / San Luis Obispo\", \"cutoff2\": 30, \"cutoff\": 2}, {\"calitp_itp_id\": 289, \"trip_key\": 4230533606164430112, \"trip_id\": \"388\", \"shape_id\": \"40\", \"route_id\": \"12S\", \"service_hours\": 0.98, \"trip_first_departure_ts\": 40020, \"trip_last_arrival_ts\": 43560, \"departure_hour\": 11, \"time_of_day\": \"Midday\", \"p25\": 0.98, \"p50\": 0.98, \"p75\": 0.98, \"p50_trip\": 1, \"fastest_trip\": 0, \"car_duration_hours\": 0.69, \"competitive_route\": 1, \"bus_multiplier\": 1.42, \"bus_difference\": 17.4, \"num_trips\": 16, \"num_competitive\": 16, \"pct_trips_competitive\": 1.0, \"bus_difference_spread\": 5.400000000000002, \"route_group\": \"medium\", \"max_trip_hrs\": 1.07, \"max_trip_route_group\": 1.07, \"below_cutoff\": 16, \"pct_below_cutoff\": 1.0, \"name\": \"San Luis Obispo Regional Transit Authority \", \"caltrans_district\": \"05 - San Luis Obispo\", \"drmt_organization_name\": null, \"route_name\": \"Rta - Los Osos / Morro Bay / San Luis Obispo\", \"cutoff2\": 30, \"cutoff\": 2}, {\"calitp_itp_id\": 289, \"trip_key\": 7140058515224364709, \"trip_id\": \"403\", \"shape_id\": \"40\", \"route_id\": \"12S\", \"service_hours\": 0.98, \"trip_first_departure_ts\": 61620, \"trip_last_arrival_ts\": 65160, \"departure_hour\": 17, \"time_of_day\": \"PM Peak\", \"p25\": 0.98, \"p50\": 0.98, \"p75\": 0.98, \"p50_trip\": 1, \"fastest_trip\": 0, \"car_duration_hours\": 0.69, \"competitive_route\": 1, \"bus_multiplier\": 1.42, \"bus_difference\": 17.4, \"num_trips\": 16, \"num_competitive\": 16, \"pct_trips_competitive\": 1.0, \"bus_difference_spread\": 5.400000000000002, \"route_group\": \"medium\", \"max_trip_hrs\": 1.07, \"max_trip_route_group\": 1.07, \"below_cutoff\": 16, \"pct_below_cutoff\": 1.0, \"name\": \"San Luis Obispo Regional Transit Authority \", \"caltrans_district\": \"05 - San Luis Obispo\", \"drmt_organization_name\": null, \"route_name\": \"Rta - Los Osos / Morro Bay / San Luis Obispo\", \"cutoff2\": 30, \"cutoff\": 2}, {\"calitp_itp_id\": 289, \"trip_key\": -9071896620672618546, \"trip_id\": \"390\", \"shape_id\": \"40\", \"route_id\": \"12S\", \"service_hours\": 0.98, \"trip_first_departure_ts\": 47220, \"trip_last_arrival_ts\": 50760, \"departure_hour\": 13, \"time_of_day\": \"Midday\", \"p25\": 0.98, \"p50\": 0.98, \"p75\": 0.98, \"p50_trip\": 1, \"fastest_trip\": 0, \"car_duration_hours\": 0.69, \"competitive_route\": 1, \"bus_multiplier\": 1.42, \"bus_difference\": 17.4, \"num_trips\": 16, \"num_competitive\": 16, \"pct_trips_competitive\": 1.0, \"bus_difference_spread\": 5.400000000000002, \"route_group\": \"medium\", \"max_trip_hrs\": 1.07, \"max_trip_route_group\": 1.07, \"below_cutoff\": 16, \"pct_below_cutoff\": 1.0, \"name\": \"San Luis Obispo Regional Transit Authority \", \"caltrans_district\": \"05 - San Luis Obispo\", \"drmt_organization_name\": null, \"route_name\": \"Rta - Los Osos / Morro Bay / San Luis Obispo\", \"cutoff2\": 30, \"cutoff\": 2}, {\"calitp_itp_id\": 289, \"trip_key\": 4303130710267151022, \"trip_id\": \"378\", \"shape_id\": \"40\", \"route_id\": \"12S\", \"service_hours\": 0.98, \"trip_first_departure_ts\": 29220, \"trip_last_arrival_ts\": 32760, \"departure_hour\": 8, \"time_of_day\": \"AM Peak\", \"p25\": 0.98, \"p50\": 0.98, \"p75\": 0.98, \"p50_trip\": 1, \"fastest_trip\": 0, \"car_duration_hours\": 0.69, \"competitive_route\": 1, \"bus_multiplier\": 1.42, \"bus_difference\": 17.4, \"num_trips\": 16, \"num_competitive\": 16, \"pct_trips_competitive\": 1.0, \"bus_difference_spread\": 5.400000000000002, \"route_group\": \"medium\", \"max_trip_hrs\": 1.07, \"max_trip_route_group\": 1.07, \"below_cutoff\": 16, \"pct_below_cutoff\": 1.0, \"name\": \"San Luis Obispo Regional Transit Authority \", \"caltrans_district\": \"05 - San Luis Obispo\", \"drmt_organization_name\": null, \"route_name\": \"Rta - Los Osos / Morro Bay / San Luis Obispo\", \"cutoff2\": 30, \"cutoff\": 2}, {\"calitp_itp_id\": 289, \"trip_key\": 1560614880468304545, \"trip_id\": \"386\", \"shape_id\": \"40\", \"route_id\": \"12S\", \"service_hours\": 0.98, \"trip_first_departure_ts\": 32820, \"trip_last_arrival_ts\": 36360, \"departure_hour\": 9, \"time_of_day\": \"AM Peak\", \"p25\": 0.98, \"p50\": 0.98, \"p75\": 0.98, \"p50_trip\": 1, \"fastest_trip\": 0, \"car_duration_hours\": 0.69, \"competitive_route\": 1, \"bus_multiplier\": 1.42, \"bus_difference\": 17.4, \"num_trips\": 16, \"num_competitive\": 16, \"pct_trips_competitive\": 1.0, \"bus_difference_spread\": 5.400000000000002, \"route_group\": \"medium\", \"max_trip_hrs\": 1.07, \"max_trip_route_group\": 1.07, \"below_cutoff\": 16, \"pct_below_cutoff\": 1.0, \"name\": \"San Luis Obispo Regional Transit Authority \", \"caltrans_district\": \"05 - San Luis Obispo\", \"drmt_organization_name\": null, \"route_name\": \"Rta - Los Osos / Morro Bay / San Luis Obispo\", \"cutoff2\": 30, \"cutoff\": 2}, {\"calitp_itp_id\": 289, \"trip_key\": 2760626665496852148, \"trip_id\": \"394\", \"shape_id\": \"40\", \"route_id\": \"12S\", \"service_hours\": 0.98, \"trip_first_departure_ts\": 58020, \"trip_last_arrival_ts\": 61560, \"departure_hour\": 16, \"time_of_day\": \"Midday\", \"p25\": 0.98, \"p50\": 0.98, \"p75\": 0.98, \"p50_trip\": 1, \"fastest_trip\": 0, \"car_duration_hours\": 0.69, \"competitive_route\": 1, \"bus_multiplier\": 1.42, \"bus_difference\": 17.4, \"num_trips\": 16, \"num_competitive\": 16, \"pct_trips_competitive\": 1.0, \"bus_difference_spread\": 5.400000000000002, \"route_group\": \"medium\", \"max_trip_hrs\": 1.07, \"max_trip_route_group\": 1.07, \"below_cutoff\": 16, \"pct_below_cutoff\": 1.0, \"name\": \"San Luis Obispo Regional Transit Authority \", \"caltrans_district\": \"05 - San Luis Obispo\", \"drmt_organization_name\": null, \"route_name\": \"Rta - Los Osos / Morro Bay / San Luis Obispo\", \"cutoff2\": 30, \"cutoff\": 2}, {\"calitp_itp_id\": 289, \"trip_key\": -270175774703166854, \"trip_id\": \"392\", \"shape_id\": \"40\", \"route_id\": \"12S\", \"service_hours\": 0.98, \"trip_first_departure_ts\": 50820, \"trip_last_arrival_ts\": 54360, \"departure_hour\": 14, \"time_of_day\": \"Midday\", \"p25\": 0.98, \"p50\": 0.98, \"p75\": 0.98, \"p50_trip\": 1, \"fastest_trip\": 0, \"car_duration_hours\": 0.69, \"competitive_route\": 1, \"bus_multiplier\": 1.42, \"bus_difference\": 17.4, \"num_trips\": 16, \"num_competitive\": 16, \"pct_trips_competitive\": 1.0, \"bus_difference_spread\": 5.400000000000002, \"route_group\": \"medium\", \"max_trip_hrs\": 1.07, \"max_trip_route_group\": 1.07, \"below_cutoff\": 16, \"pct_below_cutoff\": 1.0, \"name\": \"San Luis Obispo Regional Transit Authority \", \"caltrans_district\": \"05 - San Luis Obispo\", \"drmt_organization_name\": null, \"route_name\": \"Rta - Los Osos / Morro Bay / San Luis Obispo\", \"cutoff2\": 30, \"cutoff\": 2}, {\"calitp_itp_id\": 289, \"trip_key\": -5567591704886540558, \"trip_id\": \"382\", \"shape_id\": \"40\", \"route_id\": \"12S\", \"service_hours\": 0.98, \"trip_first_departure_ts\": 43620, \"trip_last_arrival_ts\": 47160, \"departure_hour\": 12, \"time_of_day\": \"Midday\", \"p25\": 0.98, \"p50\": 0.98, \"p75\": 0.98, \"p50_trip\": 1, \"fastest_trip\": 0, \"car_duration_hours\": 0.69, \"competitive_route\": 1, \"bus_multiplier\": 1.42, \"bus_difference\": 17.4, \"num_trips\": 16, \"num_competitive\": 16, \"pct_trips_competitive\": 1.0, \"bus_difference_spread\": 5.400000000000002, \"route_group\": \"medium\", \"max_trip_hrs\": 1.07, \"max_trip_route_group\": 1.07, \"below_cutoff\": 16, \"pct_below_cutoff\": 1.0, \"name\": \"San Luis Obispo Regional Transit Authority \", \"caltrans_district\": \"05 - San Luis Obispo\", \"drmt_organization_name\": null, \"route_name\": \"Rta - Los Osos / Morro Bay / San Luis Obispo\", \"cutoff2\": 30, \"cutoff\": 2}, {\"calitp_itp_id\": 289, \"trip_key\": -8393856501472233478, \"trip_id\": \"384\", \"shape_id\": \"40\", \"route_id\": \"12S\", \"service_hours\": 0.98, \"trip_first_departure_ts\": 25620, \"trip_last_arrival_ts\": 29160, \"departure_hour\": 7, \"time_of_day\": \"AM Peak\", \"p25\": 0.98, \"p50\": 0.98, \"p75\": 0.98, \"p50_trip\": 1, \"fastest_trip\": 0, \"car_duration_hours\": 0.69, \"competitive_route\": 1, \"bus_multiplier\": 1.42, \"bus_difference\": 17.4, \"num_trips\": 16, \"num_competitive\": 16, \"pct_trips_competitive\": 1.0, \"bus_difference_spread\": 5.400000000000002, \"route_group\": \"medium\", \"max_trip_hrs\": 1.07, \"max_trip_route_group\": 1.07, \"below_cutoff\": 16, \"pct_below_cutoff\": 1.0, \"name\": \"San Luis Obispo Regional Transit Authority \", \"caltrans_district\": \"05 - San Luis Obispo\", \"drmt_organization_name\": null, \"route_name\": \"Rta - Los Osos / Morro Bay / San Luis Obispo\", \"cutoff2\": 30, \"cutoff\": 2}, {\"calitp_itp_id\": 289, \"trip_key\": 8246935712761499868, \"trip_id\": \"399\", \"shape_id\": \"40\", \"route_id\": \"12S\", \"service_hours\": 0.98, \"trip_first_departure_ts\": 72420, \"trip_last_arrival_ts\": 75960, \"departure_hour\": 20, \"time_of_day\": \"Owl Service\", \"p25\": 0.98, \"p50\": 0.98, \"p75\": 0.98, \"p50_trip\": 1, \"fastest_trip\": 0, \"car_duration_hours\": 0.69, \"competitive_route\": 1, \"bus_multiplier\": 1.42, \"bus_difference\": 17.4, \"num_trips\": 16, \"num_competitive\": 16, \"pct_trips_competitive\": 1.0, \"bus_difference_spread\": 5.400000000000002, \"route_group\": \"medium\", \"max_trip_hrs\": 1.07, \"max_trip_route_group\": 1.07, \"below_cutoff\": 16, \"pct_below_cutoff\": 1.0, \"name\": \"San Luis Obispo Regional Transit Authority \", \"caltrans_district\": \"05 - San Luis Obispo\", \"drmt_organization_name\": null, \"route_name\": \"Rta - Los Osos / Morro Bay / San Luis Obispo\", \"cutoff2\": 30, \"cutoff\": 2}, {\"calitp_itp_id\": 289, \"trip_key\": -7067380716828279325, \"trip_id\": \"406\", \"shape_id\": \"40\", \"route_id\": \"12S\", \"service_hours\": 0.98, \"trip_first_departure_ts\": 76020, \"trip_last_arrival_ts\": 79560, \"departure_hour\": 21, \"time_of_day\": \"Owl Service\", \"p25\": 0.98, \"p50\": 0.98, \"p75\": 0.98, \"p50_trip\": 1, \"fastest_trip\": 1, \"car_duration_hours\": 0.69, \"competitive_route\": 1, \"bus_multiplier\": 1.42, \"bus_difference\": 17.4, \"num_trips\": 16, \"num_competitive\": 16, \"pct_trips_competitive\": 1.0, \"bus_difference_spread\": 5.400000000000002, \"route_group\": \"medium\", \"max_trip_hrs\": 1.07, \"max_trip_route_group\": 1.07, \"below_cutoff\": 16, \"pct_below_cutoff\": 1.0, \"name\": \"San Luis Obispo Regional Transit Authority \", \"caltrans_district\": \"05 - San Luis Obispo\", \"drmt_organization_name\": null, \"route_name\": \"Rta - Los Osos / Morro Bay / San Luis Obispo\", \"cutoff2\": 30, \"cutoff\": 2}, {\"calitp_itp_id\": 289, \"trip_key\": 6102485461685384618, \"trip_id\": \"380\", \"shape_id\": \"40\", \"route_id\": \"12S\", \"service_hours\": 0.98, \"trip_first_departure_ts\": 36420, \"trip_last_arrival_ts\": 39960, \"departure_hour\": 10, \"time_of_day\": \"Midday\", \"p25\": 0.98, \"p50\": 0.98, \"p75\": 0.98, \"p50_trip\": 1, \"fastest_trip\": 0, \"car_duration_hours\": 0.69, \"competitive_route\": 1, \"bus_multiplier\": 1.42, \"bus_difference\": 17.4, \"num_trips\": 16, \"num_competitive\": 16, \"pct_trips_competitive\": 1.0, \"bus_difference_spread\": 5.400000000000002, \"route_group\": \"medium\", \"max_trip_hrs\": 1.07, \"max_trip_route_group\": 1.07, \"below_cutoff\": 16, \"pct_below_cutoff\": 1.0, \"name\": \"San Luis Obispo Regional Transit Authority \", \"caltrans_district\": \"05 - San Luis Obispo\", \"drmt_organization_name\": null, \"route_name\": \"Rta - Los Osos / Morro Bay / San Luis Obispo\", \"cutoff2\": 30, \"cutoff\": 2}, {\"calitp_itp_id\": 289, \"trip_key\": 5849554892198407452, \"trip_id\": \"376\", \"shape_id\": \"86\", \"route_id\": \"12S\", \"service_hours\": 1.07, \"trip_first_departure_ts\": 22980, \"trip_last_arrival_ts\": 26820, \"departure_hour\": 6, \"time_of_day\": \"Owl Service\", \"p25\": 0.98, \"p50\": 0.98, \"p75\": 0.98, \"p50_trip\": 0, \"fastest_trip\": 0, \"car_duration_hours\": 0.69, \"competitive_route\": 1, \"bus_multiplier\": 1.55, \"bus_difference\": 22.8, \"num_trips\": 16, \"num_competitive\": 16, \"pct_trips_competitive\": 1.0, \"bus_difference_spread\": 5.400000000000002, \"route_group\": \"medium\", \"max_trip_hrs\": 1.07, \"max_trip_route_group\": 1.07, \"below_cutoff\": 16, \"pct_below_cutoff\": 1.0, \"name\": \"San Luis Obispo Regional Transit Authority \", \"caltrans_district\": \"05 - San Luis Obispo\", \"drmt_organization_name\": null, \"route_name\": \"Rta - Los Osos / Morro Bay / San Luis Obispo\", \"cutoff2\": 30, \"cutoff\": 2}]}}, {\"mode\": \"vega-lite\"});\n",
       "</script>"
      ],
      "text/plain": [
       "alt.FacetChart(...)"
      ]
     },
     "metadata": {},
     "output_type": "display_data"
    },
    {
     "data": {
      "text/html": [
       "\n",
       "<div id=\"altair-viz-4dbc9587e3004e19b4039e618f3f507c\"></div>\n",
       "<script type=\"text/javascript\">\n",
       "  var VEGA_DEBUG = (typeof VEGA_DEBUG == \"undefined\") ? {} : VEGA_DEBUG;\n",
       "  (function(spec, embedOpt){\n",
       "    let outputDiv = document.currentScript.previousElementSibling;\n",
       "    if (outputDiv.id !== \"altair-viz-4dbc9587e3004e19b4039e618f3f507c\") {\n",
       "      outputDiv = document.getElementById(\"altair-viz-4dbc9587e3004e19b4039e618f3f507c\");\n",
       "    }\n",
       "    const paths = {\n",
       "      \"vega\": \"https://cdn.jsdelivr.net/npm//vega@5?noext\",\n",
       "      \"vega-lib\": \"https://cdn.jsdelivr.net/npm//vega-lib?noext\",\n",
       "      \"vega-lite\": \"https://cdn.jsdelivr.net/npm//vega-lite@4.17.0?noext\",\n",
       "      \"vega-embed\": \"https://cdn.jsdelivr.net/npm//vega-embed@6?noext\",\n",
       "    };\n",
       "\n",
       "    function maybeLoadScript(lib, version) {\n",
       "      var key = `${lib.replace(\"-\", \"\")}_version`;\n",
       "      return (VEGA_DEBUG[key] == version) ?\n",
       "        Promise.resolve(paths[lib]) :\n",
       "        new Promise(function(resolve, reject) {\n",
       "          var s = document.createElement('script');\n",
       "          document.getElementsByTagName(\"head\")[0].appendChild(s);\n",
       "          s.async = true;\n",
       "          s.onload = () => {\n",
       "            VEGA_DEBUG[key] = version;\n",
       "            return resolve(paths[lib]);\n",
       "          };\n",
       "          s.onerror = () => reject(`Error loading script: ${paths[lib]}`);\n",
       "          s.src = paths[lib];\n",
       "        });\n",
       "    }\n",
       "\n",
       "    function showError(err) {\n",
       "      outputDiv.innerHTML = `<div class=\"error\" style=\"color:red;\">${err}</div>`;\n",
       "      throw err;\n",
       "    }\n",
       "\n",
       "    function displayChart(vegaEmbed) {\n",
       "      vegaEmbed(outputDiv, spec, embedOpt)\n",
       "        .catch(err => showError(`Javascript Error: ${err.message}<br>This usually means there's a typo in your chart specification. See the javascript console for the full traceback.`));\n",
       "    }\n",
       "\n",
       "    if(typeof define === \"function\" && define.amd) {\n",
       "      requirejs.config({paths});\n",
       "      require([\"vega-embed\"], displayChart, err => showError(`Error loading script: ${err.message}`));\n",
       "    } else {\n",
       "      maybeLoadScript(\"vega\", \"5\")\n",
       "        .then(() => maybeLoadScript(\"vega-lite\", \"4.17.0\"))\n",
       "        .then(() => maybeLoadScript(\"vega-embed\", \"6\"))\n",
       "        .catch(showError)\n",
       "        .then(() => displayChart(vegaEmbed));\n",
       "    }\n",
       "  })({\"config\": {\"view\": {\"continuousWidth\": 400, \"continuousHeight\": 300, \"stroke\": null}, \"facet\": {\"spacing\": 0}}, \"data\": {\"name\": \"data-672c2180567d40f45657686ac862732d\"}, \"facet\": {\"column\": {\"field\": \"route_id\", \"sort\": [\"12S\", \"10S\"], \"title\": \"Route ID\", \"type\": \"nominal\"}}, \"spec\": {\"layer\": [{\"mark\": \"rule\", \"encoding\": {\"color\": {\"value\": \"black\"}, \"y\": {\"field\": \"cutoff\", \"type\": \"quantitative\"}}, \"selection\": {\"selector004\": {\"type\": \"interval\", \"bind\": \"scales\", \"encodings\": [\"x\", \"y\"]}}}, {\"mark\": {\"type\": \"rule\", \"strokeDash\": [3, 3]}, \"encoding\": {\"color\": {\"value\": \"#323434\"}, \"y\": {\"field\": \"cutoff2\", \"type\": \"quantitative\"}}}, {\"mark\": {\"type\": \"point\", \"opacity\": 0.65, \"size\": 12, \"strokeWidth\": 1.1}, \"encoding\": {\"color\": {\"field\": \"time_of_day\", \"scale\": {\"range\": [\"#136C97\", \"#E16B26\", \"#F6BF16\", \"#00896B\", \"#7790A3\", \"#5B559C\"]}, \"sort\": [\"AM Peak\", \"Midday\", \"PM Peak\", \"Owl Service\"], \"title\": \"Time of Day\", \"type\": \"nominal\"}, \"tooltip\": [{\"field\": \"route_id\", \"type\": \"nominal\"}, {\"field\": \"route_name\", \"type\": \"nominal\"}, {\"field\": \"trip_id\", \"type\": \"nominal\"}, {\"field\": \"service_hours\", \"type\": \"quantitative\"}, {\"field\": \"car_duration_hours\", \"type\": \"quantitative\"}, {\"field\": \"bus_multiplier\", \"type\": \"quantitative\"}, {\"field\": \"bus_difference\", \"type\": \"quantitative\"}, {\"field\": \"num_trips\", \"type\": \"quantitative\"}, {\"field\": \"num_competitive\", \"type\": \"quantitative\"}, {\"field\": \"pct_trips_competitive\", \"type\": \"quantitative\"}, {\"field\": \"p25\", \"type\": \"quantitative\"}, {\"field\": \"p50\", \"type\": \"quantitative\"}, {\"field\": \"p75\", \"type\": \"quantitative\"}], \"x\": {\"axis\": {\"grid\": false, \"labels\": false, \"ticks\": true, \"values\": [0]}, \"field\": \"jitter\", \"scale\": {}, \"title\": null, \"type\": \"quantitative\"}, \"y\": {\"field\": \"bus_difference\", \"scale\": {\"domain\": [-5, 35.0]}, \"title\": \"Difference in Bus to Car Travel Time (min)\", \"type\": \"quantitative\"}}, \"transform\": [{\"calculate\": \"sqrt(-2*log(random()))*cos(2*PI*random())\", \"as\": \"jitter\"}], \"width\": 50}, {\"layer\": [{\"mark\": {\"type\": \"point\", \"opacity\": 0.6, \"size\": 20, \"strokeWidth\": 1.3}, \"encoding\": {\"color\": {\"value\": \"#323434\"}, \"y\": {\"field\": \"bus_difference\", \"type\": \"quantitative\"}}, \"transform\": [{\"filter\": \"(datum.p50_trip === 1)\"}]}, {\"mark\": {\"type\": \"text\", \"align\": \"center\", \"baseline\": \"middle\"}, \"encoding\": {\"color\": {\"value\": \"black\"}, \"text\": {\"field\": \"pct_trips_competitive\", \"format\": \".0%\", \"type\": \"quantitative\"}, \"tooltip\": [{\"field\": \"route_id\", \"type\": \"nominal\"}, {\"field\": \"route_name\", \"type\": \"nominal\"}, {\"field\": \"trip_id\", \"type\": \"nominal\"}, {\"field\": \"service_hours\", \"type\": \"quantitative\"}, {\"field\": \"car_duration_hours\", \"type\": \"quantitative\"}, {\"field\": \"bus_multiplier\", \"type\": \"quantitative\"}, {\"field\": \"bus_difference\", \"type\": \"quantitative\"}, {\"field\": \"num_trips\", \"type\": \"quantitative\"}, {\"field\": \"num_competitive\", \"type\": \"quantitative\"}, {\"field\": \"pct_trips_competitive\", \"type\": \"quantitative\"}, {\"field\": \"p25\", \"type\": \"quantitative\"}, {\"field\": \"p50\", \"type\": \"quantitative\"}, {\"field\": \"p75\", \"type\": \"quantitative\"}], \"x\": {\"value\": 30}, \"y\": {\"value\": 15}}, \"transform\": [{\"calculate\": \"sqrt(-2*log(random()))*cos(2*PI*random())\", \"as\": \"jitter\"}, {\"filter\": \"(datum.fastest_trip === 1)\"}]}]}]}, \"resolve\": {\"scale\": {\"y\": \"shared\"}}, \"title\": \"Difference in Bus to Car Travel Time (min)\", \"$schema\": \"https://vega.github.io/schema/vega-lite/v4.17.0.json\", \"datasets\": {\"data-672c2180567d40f45657686ac862732d\": [{\"calitp_itp_id\": 289, \"trip_key\": -217978832266472708, \"trip_id\": \"373\", \"shape_id\": \"119\", \"route_id\": \"10S\", \"service_hours\": 1.17, \"trip_first_departure_ts\": 63180, \"trip_last_arrival_ts\": 67380, \"departure_hour\": 17, \"time_of_day\": \"PM Peak\", \"p25\": 1.17, \"p50\": 1.17, \"p75\": 1.17, \"p50_trip\": 1, \"fastest_trip\": 0, \"car_duration_hours\": 0.9, \"competitive_route\": 1, \"bus_multiplier\": 1.3, \"bus_difference\": 16.2, \"num_trips\": 15, \"num_competitive\": 15, \"pct_trips_competitive\": 1.0, \"bus_difference_spread\": 0.0, \"route_group\": \"medium\", \"max_trip_hrs\": 1.17, \"max_trip_route_group\": 1.17, \"below_cutoff\": 15, \"pct_below_cutoff\": 1.0, \"name\": \"San Luis Obispo Regional Transit Authority \", \"caltrans_district\": \"05 - San Luis Obispo\", \"drmt_organization_name\": null, \"route_name\": \"Rta - San Luis Obispo / Santa Maria\", \"cutoff2\": 30, \"cutoff\": 0}, {\"calitp_itp_id\": 289, \"trip_key\": -8076280335769285352, \"trip_id\": \"946\", \"shape_id\": \"119\", \"route_id\": \"10S\", \"service_hours\": 1.17, \"trip_first_departure_ts\": 37980, \"trip_last_arrival_ts\": 42180, \"departure_hour\": 10, \"time_of_day\": \"Midday\", \"p25\": 1.17, \"p50\": 1.17, \"p75\": 1.17, \"p50_trip\": 1, \"fastest_trip\": 0, \"car_duration_hours\": 0.9, \"competitive_route\": 1, \"bus_multiplier\": 1.3, \"bus_difference\": 16.2, \"num_trips\": 15, \"num_competitive\": 15, \"pct_trips_competitive\": 1.0, \"bus_difference_spread\": 0.0, \"route_group\": \"medium\", \"max_trip_hrs\": 1.17, \"max_trip_route_group\": 1.17, \"below_cutoff\": 15, \"pct_below_cutoff\": 1.0, \"name\": \"San Luis Obispo Regional Transit Authority \", \"caltrans_district\": \"05 - San Luis Obispo\", \"drmt_organization_name\": null, \"route_name\": \"Rta - San Luis Obispo / Santa Maria\", \"cutoff2\": 30, \"cutoff\": 0}, {\"calitp_itp_id\": 289, \"trip_key\": -3752104160203546169, \"trip_id\": \"354\", \"shape_id\": \"119\", \"route_id\": \"10S\", \"service_hours\": 1.17, \"trip_first_departure_ts\": 23580, \"trip_last_arrival_ts\": 27780, \"departure_hour\": 6, \"time_of_day\": \"Owl Service\", \"p25\": 1.17, \"p50\": 1.17, \"p75\": 1.17, \"p50_trip\": 1, \"fastest_trip\": 0, \"car_duration_hours\": 0.9, \"competitive_route\": 1, \"bus_multiplier\": 1.3, \"bus_difference\": 16.2, \"num_trips\": 15, \"num_competitive\": 15, \"pct_trips_competitive\": 1.0, \"bus_difference_spread\": 0.0, \"route_group\": \"medium\", \"max_trip_hrs\": 1.17, \"max_trip_route_group\": 1.17, \"below_cutoff\": 15, \"pct_below_cutoff\": 1.0, \"name\": \"San Luis Obispo Regional Transit Authority \", \"caltrans_district\": \"05 - San Luis Obispo\", \"drmt_organization_name\": null, \"route_name\": \"Rta - San Luis Obispo / Santa Maria\", \"cutoff2\": 30, \"cutoff\": 0}, {\"calitp_itp_id\": 289, \"trip_key\": 3419659743591932465, \"trip_id\": \"356\", \"shape_id\": \"119\", \"route_id\": \"10S\", \"service_hours\": 1.17, \"trip_first_departure_ts\": 34380, \"trip_last_arrival_ts\": 38580, \"departure_hour\": 9, \"time_of_day\": \"AM Peak\", \"p25\": 1.17, \"p50\": 1.17, \"p75\": 1.17, \"p50_trip\": 1, \"fastest_trip\": 0, \"car_duration_hours\": 0.9, \"competitive_route\": 1, \"bus_multiplier\": 1.3, \"bus_difference\": 16.2, \"num_trips\": 15, \"num_competitive\": 15, \"pct_trips_competitive\": 1.0, \"bus_difference_spread\": 0.0, \"route_group\": \"medium\", \"max_trip_hrs\": 1.17, \"max_trip_route_group\": 1.17, \"below_cutoff\": 15, \"pct_below_cutoff\": 1.0, \"name\": \"San Luis Obispo Regional Transit Authority \", \"caltrans_district\": \"05 - San Luis Obispo\", \"drmt_organization_name\": null, \"route_name\": \"Rta - San Luis Obispo / Santa Maria\", \"cutoff2\": 30, \"cutoff\": 0}, {\"calitp_itp_id\": 289, \"trip_key\": -571990138005095757, \"trip_id\": \"363\", \"shape_id\": \"119\", \"route_id\": \"10S\", \"service_hours\": 1.17, \"trip_first_departure_ts\": 55980, \"trip_last_arrival_ts\": 60180, \"departure_hour\": 15, \"time_of_day\": \"Midday\", \"p25\": 1.17, \"p50\": 1.17, \"p75\": 1.17, \"p50_trip\": 1, \"fastest_trip\": 0, \"car_duration_hours\": 0.9, \"competitive_route\": 1, \"bus_multiplier\": 1.3, \"bus_difference\": 16.2, \"num_trips\": 15, \"num_competitive\": 15, \"pct_trips_competitive\": 1.0, \"bus_difference_spread\": 0.0, \"route_group\": \"medium\", \"max_trip_hrs\": 1.17, \"max_trip_route_group\": 1.17, \"below_cutoff\": 15, \"pct_below_cutoff\": 1.0, \"name\": \"San Luis Obispo Regional Transit Authority \", \"caltrans_district\": \"05 - San Luis Obispo\", \"drmt_organization_name\": null, \"route_name\": \"Rta - San Luis Obispo / Santa Maria\", \"cutoff2\": 30, \"cutoff\": 0}, {\"calitp_itp_id\": 289, \"trip_key\": -4207254156873363879, \"trip_id\": \"361\", \"shape_id\": \"119\", \"route_id\": \"10S\", \"service_hours\": 1.17, \"trip_first_departure_ts\": 45180, \"trip_last_arrival_ts\": 49380, \"departure_hour\": 12, \"time_of_day\": \"Midday\", \"p25\": 1.17, \"p50\": 1.17, \"p75\": 1.17, \"p50_trip\": 1, \"fastest_trip\": 0, \"car_duration_hours\": 0.9, \"competitive_route\": 1, \"bus_multiplier\": 1.3, \"bus_difference\": 16.2, \"num_trips\": 15, \"num_competitive\": 15, \"pct_trips_competitive\": 1.0, \"bus_difference_spread\": 0.0, \"route_group\": \"medium\", \"max_trip_hrs\": 1.17, \"max_trip_route_group\": 1.17, \"below_cutoff\": 15, \"pct_below_cutoff\": 1.0, \"name\": \"San Luis Obispo Regional Transit Authority \", \"caltrans_district\": \"05 - San Luis Obispo\", \"drmt_organization_name\": null, \"route_name\": \"Rta - San Luis Obispo / Santa Maria\", \"cutoff2\": 30, \"cutoff\": 0}, {\"calitp_itp_id\": 289, \"trip_key\": 2607466519835211678, \"trip_id\": \"370\", \"shape_id\": \"119\", \"route_id\": \"10S\", \"service_hours\": 1.17, \"trip_first_departure_ts\": 70380, \"trip_last_arrival_ts\": 74580, \"departure_hour\": 19, \"time_of_day\": \"PM Peak\", \"p25\": 1.17, \"p50\": 1.17, \"p75\": 1.17, \"p50_trip\": 1, \"fastest_trip\": 0, \"car_duration_hours\": 0.9, \"competitive_route\": 1, \"bus_multiplier\": 1.3, \"bus_difference\": 16.2, \"num_trips\": 15, \"num_competitive\": 15, \"pct_trips_competitive\": 1.0, \"bus_difference_spread\": 0.0, \"route_group\": \"medium\", \"max_trip_hrs\": 1.17, \"max_trip_route_group\": 1.17, \"below_cutoff\": 15, \"pct_below_cutoff\": 1.0, \"name\": \"San Luis Obispo Regional Transit Authority \", \"caltrans_district\": \"05 - San Luis Obispo\", \"drmt_organization_name\": null, \"route_name\": \"Rta - San Luis Obispo / Santa Maria\", \"cutoff2\": 30, \"cutoff\": 0}, {\"calitp_itp_id\": 289, \"trip_key\": -5258782079856220781, \"trip_id\": \"375\", \"shape_id\": \"119\", \"route_id\": \"10S\", \"service_hours\": 1.17, \"trip_first_departure_ts\": 73980, \"trip_last_arrival_ts\": 78180, \"departure_hour\": 20, \"time_of_day\": \"Owl Service\", \"p25\": 1.17, \"p50\": 1.17, \"p75\": 1.17, \"p50_trip\": 1, \"fastest_trip\": 1, \"car_duration_hours\": 0.9, \"competitive_route\": 1, \"bus_multiplier\": 1.3, \"bus_difference\": 16.2, \"num_trips\": 15, \"num_competitive\": 15, \"pct_trips_competitive\": 1.0, \"bus_difference_spread\": 0.0, \"route_group\": \"medium\", \"max_trip_hrs\": 1.17, \"max_trip_route_group\": 1.17, \"below_cutoff\": 15, \"pct_below_cutoff\": 1.0, \"name\": \"San Luis Obispo Regional Transit Authority \", \"caltrans_district\": \"05 - San Luis Obispo\", \"drmt_organization_name\": null, \"route_name\": \"Rta - San Luis Obispo / Santa Maria\", \"cutoff2\": 30, \"cutoff\": 0}, {\"calitp_itp_id\": 289, \"trip_key\": -4622280952197654526, \"trip_id\": \"371\", \"shape_id\": \"119\", \"route_id\": \"10S\", \"service_hours\": 1.17, \"trip_first_departure_ts\": 52380, \"trip_last_arrival_ts\": 56580, \"departure_hour\": 14, \"time_of_day\": \"Midday\", \"p25\": 1.17, \"p50\": 1.17, \"p75\": 1.17, \"p50_trip\": 1, \"fastest_trip\": 0, \"car_duration_hours\": 0.9, \"competitive_route\": 1, \"bus_multiplier\": 1.3, \"bus_difference\": 16.2, \"num_trips\": 15, \"num_competitive\": 15, \"pct_trips_competitive\": 1.0, \"bus_difference_spread\": 0.0, \"route_group\": \"medium\", \"max_trip_hrs\": 1.17, \"max_trip_route_group\": 1.17, \"below_cutoff\": 15, \"pct_below_cutoff\": 1.0, \"name\": \"San Luis Obispo Regional Transit Authority \", \"caltrans_district\": \"05 - San Luis Obispo\", \"drmt_organization_name\": null, \"route_name\": \"Rta - San Luis Obispo / Santa Maria\", \"cutoff2\": 30, \"cutoff\": 0}, {\"calitp_itp_id\": 289, \"trip_key\": 1316801091930926258, \"trip_id\": \"366\", \"shape_id\": \"119\", \"route_id\": \"10S\", \"service_hours\": 1.17, \"trip_first_departure_ts\": 48780, \"trip_last_arrival_ts\": 52980, \"departure_hour\": 13, \"time_of_day\": \"Midday\", \"p25\": 1.17, \"p50\": 1.17, \"p75\": 1.17, \"p50_trip\": 1, \"fastest_trip\": 0, \"car_duration_hours\": 0.9, \"competitive_route\": 1, \"bus_multiplier\": 1.3, \"bus_difference\": 16.2, \"num_trips\": 15, \"num_competitive\": 15, \"pct_trips_competitive\": 1.0, \"bus_difference_spread\": 0.0, \"route_group\": \"medium\", \"max_trip_hrs\": 1.17, \"max_trip_route_group\": 1.17, \"below_cutoff\": 15, \"pct_below_cutoff\": 1.0, \"name\": \"San Luis Obispo Regional Transit Authority \", \"caltrans_district\": \"05 - San Luis Obispo\", \"drmt_organization_name\": null, \"route_name\": \"Rta - San Luis Obispo / Santa Maria\", \"cutoff2\": 30, \"cutoff\": 0}, {\"calitp_itp_id\": 289, \"trip_key\": 9159001500917859094, \"trip_id\": \"368\", \"shape_id\": \"119\", \"route_id\": \"10S\", \"service_hours\": 1.17, \"trip_first_departure_ts\": 59580, \"trip_last_arrival_ts\": 63780, \"departure_hour\": 16, \"time_of_day\": \"Midday\", \"p25\": 1.17, \"p50\": 1.17, \"p75\": 1.17, \"p50_trip\": 1, \"fastest_trip\": 0, \"car_duration_hours\": 0.9, \"competitive_route\": 1, \"bus_multiplier\": 1.3, \"bus_difference\": 16.2, \"num_trips\": 15, \"num_competitive\": 15, \"pct_trips_competitive\": 1.0, \"bus_difference_spread\": 0.0, \"route_group\": \"medium\", \"max_trip_hrs\": 1.17, \"max_trip_route_group\": 1.17, \"below_cutoff\": 15, \"pct_below_cutoff\": 1.0, \"name\": \"San Luis Obispo Regional Transit Authority \", \"caltrans_district\": \"05 - San Luis Obispo\", \"drmt_organization_name\": null, \"route_name\": \"Rta - San Luis Obispo / Santa Maria\", \"cutoff2\": 30, \"cutoff\": 0}, {\"calitp_itp_id\": 289, \"trip_key\": -3399655299364162076, \"trip_id\": \"365\", \"shape_id\": \"119\", \"route_id\": \"10S\", \"service_hours\": 1.17, \"trip_first_departure_ts\": 66780, \"trip_last_arrival_ts\": 70980, \"departure_hour\": 18, \"time_of_day\": \"PM Peak\", \"p25\": 1.17, \"p50\": 1.17, \"p75\": 1.17, \"p50_trip\": 1, \"fastest_trip\": 0, \"car_duration_hours\": 0.9, \"competitive_route\": 1, \"bus_multiplier\": 1.3, \"bus_difference\": 16.2, \"num_trips\": 15, \"num_competitive\": 15, \"pct_trips_competitive\": 1.0, \"bus_difference_spread\": 0.0, \"route_group\": \"medium\", \"max_trip_hrs\": 1.17, \"max_trip_route_group\": 1.17, \"below_cutoff\": 15, \"pct_below_cutoff\": 1.0, \"name\": \"San Luis Obispo Regional Transit Authority \", \"caltrans_district\": \"05 - San Luis Obispo\", \"drmt_organization_name\": null, \"route_name\": \"Rta - San Luis Obispo / Santa Maria\", \"cutoff2\": 30, \"cutoff\": 0}, {\"calitp_itp_id\": 289, \"trip_key\": -6323686424439162039, \"trip_id\": \"360\", \"shape_id\": \"119\", \"route_id\": \"10S\", \"service_hours\": 1.17, \"trip_first_departure_ts\": 41580, \"trip_last_arrival_ts\": 45780, \"departure_hour\": 11, \"time_of_day\": \"Midday\", \"p25\": 1.17, \"p50\": 1.17, \"p75\": 1.17, \"p50_trip\": 1, \"fastest_trip\": 0, \"car_duration_hours\": 0.9, \"competitive_route\": 1, \"bus_multiplier\": 1.3, \"bus_difference\": 16.2, \"num_trips\": 15, \"num_competitive\": 15, \"pct_trips_competitive\": 1.0, \"bus_difference_spread\": 0.0, \"route_group\": \"medium\", \"max_trip_hrs\": 1.17, \"max_trip_route_group\": 1.17, \"below_cutoff\": 15, \"pct_below_cutoff\": 1.0, \"name\": \"San Luis Obispo Regional Transit Authority \", \"caltrans_district\": \"05 - San Luis Obispo\", \"drmt_organization_name\": null, \"route_name\": \"Rta - San Luis Obispo / Santa Maria\", \"cutoff2\": 30, \"cutoff\": 0}, {\"calitp_itp_id\": 289, \"trip_key\": -1056786610625619433, \"trip_id\": \"358\", \"shape_id\": \"119\", \"route_id\": \"10S\", \"service_hours\": 1.17, \"trip_first_departure_ts\": 30780, \"trip_last_arrival_ts\": 34980, \"departure_hour\": 8, \"time_of_day\": \"AM Peak\", \"p25\": 1.17, \"p50\": 1.17, \"p75\": 1.17, \"p50_trip\": 1, \"fastest_trip\": 0, \"car_duration_hours\": 0.9, \"competitive_route\": 1, \"bus_multiplier\": 1.3, \"bus_difference\": 16.2, \"num_trips\": 15, \"num_competitive\": 15, \"pct_trips_competitive\": 1.0, \"bus_difference_spread\": 0.0, \"route_group\": \"medium\", \"max_trip_hrs\": 1.17, \"max_trip_route_group\": 1.17, \"below_cutoff\": 15, \"pct_below_cutoff\": 1.0, \"name\": \"San Luis Obispo Regional Transit Authority \", \"caltrans_district\": \"05 - San Luis Obispo\", \"drmt_organization_name\": null, \"route_name\": \"Rta - San Luis Obispo / Santa Maria\", \"cutoff2\": 30, \"cutoff\": 0}, {\"calitp_itp_id\": 289, \"trip_key\": 8536695527248159290, \"trip_id\": \"944\", \"shape_id\": \"119\", \"route_id\": \"10S\", \"service_hours\": 1.17, \"trip_first_departure_ts\": 27180, \"trip_last_arrival_ts\": 31380, \"departure_hour\": 7, \"time_of_day\": \"AM Peak\", \"p25\": 1.17, \"p50\": 1.17, \"p75\": 1.17, \"p50_trip\": 1, \"fastest_trip\": 0, \"car_duration_hours\": 0.9, \"competitive_route\": 1, \"bus_multiplier\": 1.3, \"bus_difference\": 16.2, \"num_trips\": 15, \"num_competitive\": 15, \"pct_trips_competitive\": 1.0, \"bus_difference_spread\": 0.0, \"route_group\": \"medium\", \"max_trip_hrs\": 1.17, \"max_trip_route_group\": 1.17, \"below_cutoff\": 15, \"pct_below_cutoff\": 1.0, \"name\": \"San Luis Obispo Regional Transit Authority \", \"caltrans_district\": \"05 - San Luis Obispo\", \"drmt_organization_name\": null, \"route_name\": \"Rta - San Luis Obispo / Santa Maria\", \"cutoff2\": 30, \"cutoff\": 0}, {\"calitp_itp_id\": 289, \"trip_key\": -902725178889451754, \"trip_id\": \"396\", \"shape_id\": \"40\", \"route_id\": \"12S\", \"service_hours\": 0.98, \"trip_first_departure_ts\": 65220, \"trip_last_arrival_ts\": 68760, \"departure_hour\": 18, \"time_of_day\": \"PM Peak\", \"p25\": 0.98, \"p50\": 0.98, \"p75\": 0.98, \"p50_trip\": 1, \"fastest_trip\": 0, \"car_duration_hours\": 0.69, \"competitive_route\": 1, \"bus_multiplier\": 1.42, \"bus_difference\": 17.4, \"num_trips\": 16, \"num_competitive\": 16, \"pct_trips_competitive\": 1.0, \"bus_difference_spread\": 5.400000000000002, \"route_group\": \"medium\", \"max_trip_hrs\": 1.07, \"max_trip_route_group\": 1.07, \"below_cutoff\": 16, \"pct_below_cutoff\": 1.0, \"name\": \"San Luis Obispo Regional Transit Authority \", \"caltrans_district\": \"05 - San Luis Obispo\", \"drmt_organization_name\": null, \"route_name\": \"Rta - Los Osos / Morro Bay / San Luis Obispo\", \"cutoff2\": 30, \"cutoff\": 0}, {\"calitp_itp_id\": 289, \"trip_key\": -490404982841053616, \"trip_id\": \"397\", \"shape_id\": \"40\", \"route_id\": \"12S\", \"service_hours\": 0.98, \"trip_first_departure_ts\": 68820, \"trip_last_arrival_ts\": 72360, \"departure_hour\": 19, \"time_of_day\": \"PM Peak\", \"p25\": 0.98, \"p50\": 0.98, \"p75\": 0.98, \"p50_trip\": 1, \"fastest_trip\": 0, \"car_duration_hours\": 0.69, \"competitive_route\": 1, \"bus_multiplier\": 1.42, \"bus_difference\": 17.4, \"num_trips\": 16, \"num_competitive\": 16, \"pct_trips_competitive\": 1.0, \"bus_difference_spread\": 5.400000000000002, \"route_group\": \"medium\", \"max_trip_hrs\": 1.07, \"max_trip_route_group\": 1.07, \"below_cutoff\": 16, \"pct_below_cutoff\": 1.0, \"name\": \"San Luis Obispo Regional Transit Authority \", \"caltrans_district\": \"05 - San Luis Obispo\", \"drmt_organization_name\": null, \"route_name\": \"Rta - Los Osos / Morro Bay / San Luis Obispo\", \"cutoff2\": 30, \"cutoff\": 0}, {\"calitp_itp_id\": 289, \"trip_key\": -2045283170317425624, \"trip_id\": \"401\", \"shape_id\": \"40\", \"route_id\": \"12S\", \"service_hours\": 0.98, \"trip_first_departure_ts\": 54420, \"trip_last_arrival_ts\": 57960, \"departure_hour\": 15, \"time_of_day\": \"Midday\", \"p25\": 0.98, \"p50\": 0.98, \"p75\": 0.98, \"p50_trip\": 1, \"fastest_trip\": 0, \"car_duration_hours\": 0.69, \"competitive_route\": 1, \"bus_multiplier\": 1.42, \"bus_difference\": 17.4, \"num_trips\": 16, \"num_competitive\": 16, \"pct_trips_competitive\": 1.0, \"bus_difference_spread\": 5.400000000000002, \"route_group\": \"medium\", \"max_trip_hrs\": 1.07, \"max_trip_route_group\": 1.07, \"below_cutoff\": 16, \"pct_below_cutoff\": 1.0, \"name\": \"San Luis Obispo Regional Transit Authority \", \"caltrans_district\": \"05 - San Luis Obispo\", \"drmt_organization_name\": null, \"route_name\": \"Rta - Los Osos / Morro Bay / San Luis Obispo\", \"cutoff2\": 30, \"cutoff\": 0}, {\"calitp_itp_id\": 289, \"trip_key\": 4230533606164430112, \"trip_id\": \"388\", \"shape_id\": \"40\", \"route_id\": \"12S\", \"service_hours\": 0.98, \"trip_first_departure_ts\": 40020, \"trip_last_arrival_ts\": 43560, \"departure_hour\": 11, \"time_of_day\": \"Midday\", \"p25\": 0.98, \"p50\": 0.98, \"p75\": 0.98, \"p50_trip\": 1, \"fastest_trip\": 0, \"car_duration_hours\": 0.69, \"competitive_route\": 1, \"bus_multiplier\": 1.42, \"bus_difference\": 17.4, \"num_trips\": 16, \"num_competitive\": 16, \"pct_trips_competitive\": 1.0, \"bus_difference_spread\": 5.400000000000002, \"route_group\": \"medium\", \"max_trip_hrs\": 1.07, \"max_trip_route_group\": 1.07, \"below_cutoff\": 16, \"pct_below_cutoff\": 1.0, \"name\": \"San Luis Obispo Regional Transit Authority \", \"caltrans_district\": \"05 - San Luis Obispo\", \"drmt_organization_name\": null, \"route_name\": \"Rta - Los Osos / Morro Bay / San Luis Obispo\", \"cutoff2\": 30, \"cutoff\": 0}, {\"calitp_itp_id\": 289, \"trip_key\": 7140058515224364709, \"trip_id\": \"403\", \"shape_id\": \"40\", \"route_id\": \"12S\", \"service_hours\": 0.98, \"trip_first_departure_ts\": 61620, \"trip_last_arrival_ts\": 65160, \"departure_hour\": 17, \"time_of_day\": \"PM Peak\", \"p25\": 0.98, \"p50\": 0.98, \"p75\": 0.98, \"p50_trip\": 1, \"fastest_trip\": 0, \"car_duration_hours\": 0.69, \"competitive_route\": 1, \"bus_multiplier\": 1.42, \"bus_difference\": 17.4, \"num_trips\": 16, \"num_competitive\": 16, \"pct_trips_competitive\": 1.0, \"bus_difference_spread\": 5.400000000000002, \"route_group\": \"medium\", \"max_trip_hrs\": 1.07, \"max_trip_route_group\": 1.07, \"below_cutoff\": 16, \"pct_below_cutoff\": 1.0, \"name\": \"San Luis Obispo Regional Transit Authority \", \"caltrans_district\": \"05 - San Luis Obispo\", \"drmt_organization_name\": null, \"route_name\": \"Rta - Los Osos / Morro Bay / San Luis Obispo\", \"cutoff2\": 30, \"cutoff\": 0}, {\"calitp_itp_id\": 289, \"trip_key\": -9071896620672618546, \"trip_id\": \"390\", \"shape_id\": \"40\", \"route_id\": \"12S\", \"service_hours\": 0.98, \"trip_first_departure_ts\": 47220, \"trip_last_arrival_ts\": 50760, \"departure_hour\": 13, \"time_of_day\": \"Midday\", \"p25\": 0.98, \"p50\": 0.98, \"p75\": 0.98, \"p50_trip\": 1, \"fastest_trip\": 0, \"car_duration_hours\": 0.69, \"competitive_route\": 1, \"bus_multiplier\": 1.42, \"bus_difference\": 17.4, \"num_trips\": 16, \"num_competitive\": 16, \"pct_trips_competitive\": 1.0, \"bus_difference_spread\": 5.400000000000002, \"route_group\": \"medium\", \"max_trip_hrs\": 1.07, \"max_trip_route_group\": 1.07, \"below_cutoff\": 16, \"pct_below_cutoff\": 1.0, \"name\": \"San Luis Obispo Regional Transit Authority \", \"caltrans_district\": \"05 - San Luis Obispo\", \"drmt_organization_name\": null, \"route_name\": \"Rta - Los Osos / Morro Bay / San Luis Obispo\", \"cutoff2\": 30, \"cutoff\": 0}, {\"calitp_itp_id\": 289, \"trip_key\": 4303130710267151022, \"trip_id\": \"378\", \"shape_id\": \"40\", \"route_id\": \"12S\", \"service_hours\": 0.98, \"trip_first_departure_ts\": 29220, \"trip_last_arrival_ts\": 32760, \"departure_hour\": 8, \"time_of_day\": \"AM Peak\", \"p25\": 0.98, \"p50\": 0.98, \"p75\": 0.98, \"p50_trip\": 1, \"fastest_trip\": 0, \"car_duration_hours\": 0.69, \"competitive_route\": 1, \"bus_multiplier\": 1.42, \"bus_difference\": 17.4, \"num_trips\": 16, \"num_competitive\": 16, \"pct_trips_competitive\": 1.0, \"bus_difference_spread\": 5.400000000000002, \"route_group\": \"medium\", \"max_trip_hrs\": 1.07, \"max_trip_route_group\": 1.07, \"below_cutoff\": 16, \"pct_below_cutoff\": 1.0, \"name\": \"San Luis Obispo Regional Transit Authority \", \"caltrans_district\": \"05 - San Luis Obispo\", \"drmt_organization_name\": null, \"route_name\": \"Rta - Los Osos / Morro Bay / San Luis Obispo\", \"cutoff2\": 30, \"cutoff\": 0}, {\"calitp_itp_id\": 289, \"trip_key\": 1560614880468304545, \"trip_id\": \"386\", \"shape_id\": \"40\", \"route_id\": \"12S\", \"service_hours\": 0.98, \"trip_first_departure_ts\": 32820, \"trip_last_arrival_ts\": 36360, \"departure_hour\": 9, \"time_of_day\": \"AM Peak\", \"p25\": 0.98, \"p50\": 0.98, \"p75\": 0.98, \"p50_trip\": 1, \"fastest_trip\": 0, \"car_duration_hours\": 0.69, \"competitive_route\": 1, \"bus_multiplier\": 1.42, \"bus_difference\": 17.4, \"num_trips\": 16, \"num_competitive\": 16, \"pct_trips_competitive\": 1.0, \"bus_difference_spread\": 5.400000000000002, \"route_group\": \"medium\", \"max_trip_hrs\": 1.07, \"max_trip_route_group\": 1.07, \"below_cutoff\": 16, \"pct_below_cutoff\": 1.0, \"name\": \"San Luis Obispo Regional Transit Authority \", \"caltrans_district\": \"05 - San Luis Obispo\", \"drmt_organization_name\": null, \"route_name\": \"Rta - Los Osos / Morro Bay / San Luis Obispo\", \"cutoff2\": 30, \"cutoff\": 0}, {\"calitp_itp_id\": 289, \"trip_key\": 2760626665496852148, \"trip_id\": \"394\", \"shape_id\": \"40\", \"route_id\": \"12S\", \"service_hours\": 0.98, \"trip_first_departure_ts\": 58020, \"trip_last_arrival_ts\": 61560, \"departure_hour\": 16, \"time_of_day\": \"Midday\", \"p25\": 0.98, \"p50\": 0.98, \"p75\": 0.98, \"p50_trip\": 1, \"fastest_trip\": 0, \"car_duration_hours\": 0.69, \"competitive_route\": 1, \"bus_multiplier\": 1.42, \"bus_difference\": 17.4, \"num_trips\": 16, \"num_competitive\": 16, \"pct_trips_competitive\": 1.0, \"bus_difference_spread\": 5.400000000000002, \"route_group\": \"medium\", \"max_trip_hrs\": 1.07, \"max_trip_route_group\": 1.07, \"below_cutoff\": 16, \"pct_below_cutoff\": 1.0, \"name\": \"San Luis Obispo Regional Transit Authority \", \"caltrans_district\": \"05 - San Luis Obispo\", \"drmt_organization_name\": null, \"route_name\": \"Rta - Los Osos / Morro Bay / San Luis Obispo\", \"cutoff2\": 30, \"cutoff\": 0}, {\"calitp_itp_id\": 289, \"trip_key\": -270175774703166854, \"trip_id\": \"392\", \"shape_id\": \"40\", \"route_id\": \"12S\", \"service_hours\": 0.98, \"trip_first_departure_ts\": 50820, \"trip_last_arrival_ts\": 54360, \"departure_hour\": 14, \"time_of_day\": \"Midday\", \"p25\": 0.98, \"p50\": 0.98, \"p75\": 0.98, \"p50_trip\": 1, \"fastest_trip\": 0, \"car_duration_hours\": 0.69, \"competitive_route\": 1, \"bus_multiplier\": 1.42, \"bus_difference\": 17.4, \"num_trips\": 16, \"num_competitive\": 16, \"pct_trips_competitive\": 1.0, \"bus_difference_spread\": 5.400000000000002, \"route_group\": \"medium\", \"max_trip_hrs\": 1.07, \"max_trip_route_group\": 1.07, \"below_cutoff\": 16, \"pct_below_cutoff\": 1.0, \"name\": \"San Luis Obispo Regional Transit Authority \", \"caltrans_district\": \"05 - San Luis Obispo\", \"drmt_organization_name\": null, \"route_name\": \"Rta - Los Osos / Morro Bay / San Luis Obispo\", \"cutoff2\": 30, \"cutoff\": 0}, {\"calitp_itp_id\": 289, \"trip_key\": -5567591704886540558, \"trip_id\": \"382\", \"shape_id\": \"40\", \"route_id\": \"12S\", \"service_hours\": 0.98, \"trip_first_departure_ts\": 43620, \"trip_last_arrival_ts\": 47160, \"departure_hour\": 12, \"time_of_day\": \"Midday\", \"p25\": 0.98, \"p50\": 0.98, \"p75\": 0.98, \"p50_trip\": 1, \"fastest_trip\": 0, \"car_duration_hours\": 0.69, \"competitive_route\": 1, \"bus_multiplier\": 1.42, \"bus_difference\": 17.4, \"num_trips\": 16, \"num_competitive\": 16, \"pct_trips_competitive\": 1.0, \"bus_difference_spread\": 5.400000000000002, \"route_group\": \"medium\", \"max_trip_hrs\": 1.07, \"max_trip_route_group\": 1.07, \"below_cutoff\": 16, \"pct_below_cutoff\": 1.0, \"name\": \"San Luis Obispo Regional Transit Authority \", \"caltrans_district\": \"05 - San Luis Obispo\", \"drmt_organization_name\": null, \"route_name\": \"Rta - Los Osos / Morro Bay / San Luis Obispo\", \"cutoff2\": 30, \"cutoff\": 0}, {\"calitp_itp_id\": 289, \"trip_key\": -8393856501472233478, \"trip_id\": \"384\", \"shape_id\": \"40\", \"route_id\": \"12S\", \"service_hours\": 0.98, \"trip_first_departure_ts\": 25620, \"trip_last_arrival_ts\": 29160, \"departure_hour\": 7, \"time_of_day\": \"AM Peak\", \"p25\": 0.98, \"p50\": 0.98, \"p75\": 0.98, \"p50_trip\": 1, \"fastest_trip\": 0, \"car_duration_hours\": 0.69, \"competitive_route\": 1, \"bus_multiplier\": 1.42, \"bus_difference\": 17.4, \"num_trips\": 16, \"num_competitive\": 16, \"pct_trips_competitive\": 1.0, \"bus_difference_spread\": 5.400000000000002, \"route_group\": \"medium\", \"max_trip_hrs\": 1.07, \"max_trip_route_group\": 1.07, \"below_cutoff\": 16, \"pct_below_cutoff\": 1.0, \"name\": \"San Luis Obispo Regional Transit Authority \", \"caltrans_district\": \"05 - San Luis Obispo\", \"drmt_organization_name\": null, \"route_name\": \"Rta - Los Osos / Morro Bay / San Luis Obispo\", \"cutoff2\": 30, \"cutoff\": 0}, {\"calitp_itp_id\": 289, \"trip_key\": 8246935712761499868, \"trip_id\": \"399\", \"shape_id\": \"40\", \"route_id\": \"12S\", \"service_hours\": 0.98, \"trip_first_departure_ts\": 72420, \"trip_last_arrival_ts\": 75960, \"departure_hour\": 20, \"time_of_day\": \"Owl Service\", \"p25\": 0.98, \"p50\": 0.98, \"p75\": 0.98, \"p50_trip\": 1, \"fastest_trip\": 0, \"car_duration_hours\": 0.69, \"competitive_route\": 1, \"bus_multiplier\": 1.42, \"bus_difference\": 17.4, \"num_trips\": 16, \"num_competitive\": 16, \"pct_trips_competitive\": 1.0, \"bus_difference_spread\": 5.400000000000002, \"route_group\": \"medium\", \"max_trip_hrs\": 1.07, \"max_trip_route_group\": 1.07, \"below_cutoff\": 16, \"pct_below_cutoff\": 1.0, \"name\": \"San Luis Obispo Regional Transit Authority \", \"caltrans_district\": \"05 - San Luis Obispo\", \"drmt_organization_name\": null, \"route_name\": \"Rta - Los Osos / Morro Bay / San Luis Obispo\", \"cutoff2\": 30, \"cutoff\": 0}, {\"calitp_itp_id\": 289, \"trip_key\": -7067380716828279325, \"trip_id\": \"406\", \"shape_id\": \"40\", \"route_id\": \"12S\", \"service_hours\": 0.98, \"trip_first_departure_ts\": 76020, \"trip_last_arrival_ts\": 79560, \"departure_hour\": 21, \"time_of_day\": \"Owl Service\", \"p25\": 0.98, \"p50\": 0.98, \"p75\": 0.98, \"p50_trip\": 1, \"fastest_trip\": 1, \"car_duration_hours\": 0.69, \"competitive_route\": 1, \"bus_multiplier\": 1.42, \"bus_difference\": 17.4, \"num_trips\": 16, \"num_competitive\": 16, \"pct_trips_competitive\": 1.0, \"bus_difference_spread\": 5.400000000000002, \"route_group\": \"medium\", \"max_trip_hrs\": 1.07, \"max_trip_route_group\": 1.07, \"below_cutoff\": 16, \"pct_below_cutoff\": 1.0, \"name\": \"San Luis Obispo Regional Transit Authority \", \"caltrans_district\": \"05 - San Luis Obispo\", \"drmt_organization_name\": null, \"route_name\": \"Rta - Los Osos / Morro Bay / San Luis Obispo\", \"cutoff2\": 30, \"cutoff\": 0}, {\"calitp_itp_id\": 289, \"trip_key\": 6102485461685384618, \"trip_id\": \"380\", \"shape_id\": \"40\", \"route_id\": \"12S\", \"service_hours\": 0.98, \"trip_first_departure_ts\": 36420, \"trip_last_arrival_ts\": 39960, \"departure_hour\": 10, \"time_of_day\": \"Midday\", \"p25\": 0.98, \"p50\": 0.98, \"p75\": 0.98, \"p50_trip\": 1, \"fastest_trip\": 0, \"car_duration_hours\": 0.69, \"competitive_route\": 1, \"bus_multiplier\": 1.42, \"bus_difference\": 17.4, \"num_trips\": 16, \"num_competitive\": 16, \"pct_trips_competitive\": 1.0, \"bus_difference_spread\": 5.400000000000002, \"route_group\": \"medium\", \"max_trip_hrs\": 1.07, \"max_trip_route_group\": 1.07, \"below_cutoff\": 16, \"pct_below_cutoff\": 1.0, \"name\": \"San Luis Obispo Regional Transit Authority \", \"caltrans_district\": \"05 - San Luis Obispo\", \"drmt_organization_name\": null, \"route_name\": \"Rta - Los Osos / Morro Bay / San Luis Obispo\", \"cutoff2\": 30, \"cutoff\": 0}, {\"calitp_itp_id\": 289, \"trip_key\": 5849554892198407452, \"trip_id\": \"376\", \"shape_id\": \"86\", \"route_id\": \"12S\", \"service_hours\": 1.07, \"trip_first_departure_ts\": 22980, \"trip_last_arrival_ts\": 26820, \"departure_hour\": 6, \"time_of_day\": \"Owl Service\", \"p25\": 0.98, \"p50\": 0.98, \"p75\": 0.98, \"p50_trip\": 0, \"fastest_trip\": 0, \"car_duration_hours\": 0.69, \"competitive_route\": 1, \"bus_multiplier\": 1.55, \"bus_difference\": 22.8, \"num_trips\": 16, \"num_competitive\": 16, \"pct_trips_competitive\": 1.0, \"bus_difference_spread\": 5.400000000000002, \"route_group\": \"medium\", \"max_trip_hrs\": 1.07, \"max_trip_route_group\": 1.07, \"below_cutoff\": 16, \"pct_below_cutoff\": 1.0, \"name\": \"San Luis Obispo Regional Transit Authority \", \"caltrans_district\": \"05 - San Luis Obispo\", \"drmt_organization_name\": null, \"route_name\": \"Rta - Los Osos / Morro Bay / San Luis Obispo\", \"cutoff2\": 30, \"cutoff\": 0}]}}, {\"mode\": \"vega-lite\"});\n",
       "</script>"
      ],
      "text/plain": [
       "alt.FacetChart(...)"
      ]
     },
     "metadata": {},
     "output_type": "display_data"
    },
    {
     "data": {
      "text/html": [
       "<h4>Route Stats</h4>"
      ],
      "text/plain": [
       "<IPython.core.display.HTML object>"
      ]
     },
     "metadata": {},
     "output_type": "display_data"
    },
    {
     "data": {
      "text/html": [
       "<style type=\"text/css\">\n",
       "</style>\n",
       "<table id=\"T_8e328\">\n",
       "  <thead>\n",
       "    <tr>\n",
       "      <th id=\"T_8e328_level0_col0\" class=\"col_heading level0 col0\" >Route ID</th>\n",
       "      <th id=\"T_8e328_level0_col1\" class=\"col_heading level0 col1\" >Route Name</th>\n",
       "      <th id=\"T_8e328_level0_col2\" class=\"col_heading level0 col2\" ># trips</th>\n",
       "      <th id=\"T_8e328_level0_col3\" class=\"col_heading level0 col3\" >Daily Avg Frequency (trips per hr)</th>\n",
       "      <th id=\"T_8e328_level0_col4\" class=\"col_heading level0 col4\" >25th, 50th, 75th ptile (hrs)</th>\n",
       "      <th id=\"T_8e328_level0_col5\" class=\"col_heading level0 col5\" >PM Peak Avg Frequency (trips per hr)</th>\n",
       "    </tr>\n",
       "  </thead>\n",
       "  <tbody>\n",
       "    <tr>\n",
       "      <td id=\"T_8e328_row0_col0\" class=\"data row0 col0\" >12S</td>\n",
       "      <td id=\"T_8e328_row0_col1\" class=\"data row0 col1\" >Rta - Los Osos / Morro Bay / San Luis Obispo</td>\n",
       "      <td id=\"T_8e328_row0_col2\" class=\"data row0 col2\" >16</td>\n",
       "      <td id=\"T_8e328_row0_col3\" class=\"data row0 col3\" >0.67</td>\n",
       "      <td id=\"T_8e328_row0_col4\" class=\"data row0 col4\" >0.98, 0.98, 0.98</td>\n",
       "      <td id=\"T_8e328_row0_col5\" class=\"data row0 col5\" >1.0</td>\n",
       "    </tr>\n",
       "    <tr>\n",
       "      <td id=\"T_8e328_row1_col0\" class=\"data row1 col0\" >10S</td>\n",
       "      <td id=\"T_8e328_row1_col1\" class=\"data row1 col1\" >Rta - San Luis Obispo / Santa Maria</td>\n",
       "      <td id=\"T_8e328_row1_col2\" class=\"data row1 col2\" >15</td>\n",
       "      <td id=\"T_8e328_row1_col3\" class=\"data row1 col3\" >0.62</td>\n",
       "      <td id=\"T_8e328_row1_col4\" class=\"data row1 col4\" >1.17, 1.17, 1.17</td>\n",
       "      <td id=\"T_8e328_row1_col5\" class=\"data row1 col5\" >1.0</td>\n",
       "    </tr>\n",
       "  </tbody>\n",
       "</table>\n"
      ],
      "text/plain": [
       "<IPython.core.display.HTML object>"
      ]
     },
     "metadata": {},
     "output_type": "display_data"
    }
   ],
   "source": [
    "route_group = \"medium\"\n",
    "try:\n",
    "    display_charts_for_route_group(df, route_group)\n",
    "except:\n",
    "    print(\"No routes meet this criteria.\")"
   ]
  },
  {
   "cell_type": "markdown",
   "id": "124b76d0-886c-4d03-92ac-f1bda3cda182",
   "metadata": {
    "papermill": {
     "duration": 0.035765,
     "end_time": "2022-05-11T22:08:53.112087",
     "exception": false,
     "start_time": "2022-05-11T22:08:53.076322",
     "status": "completed"
    },
    "tags": []
   },
   "source": [
    "### Long Routes (> 1.5 hrs)"
   ]
  },
  {
   "cell_type": "code",
   "execution_count": 16,
   "id": "ddc81b19-4c45-4c81-8b7a-5e0f394aa7a3",
   "metadata": {
    "execution": {
     "iopub.execute_input": "2022-05-11T22:08:53.154190Z",
     "iopub.status.busy": "2022-05-11T22:08:53.153885Z",
     "iopub.status.idle": "2022-05-11T22:08:53.166767Z",
     "shell.execute_reply": "2022-05-11T22:08:53.165865Z"
    },
    "jupyter": {
     "source_hidden": true
    },
    "papermill": {
     "duration": 0.038164,
     "end_time": "2022-05-11T22:08:53.170276",
     "exception": false,
     "start_time": "2022-05-11T22:08:53.132112",
     "status": "completed"
    },
    "tags": [
     "remove_input"
    ]
   },
   "outputs": [
    {
     "name": "stdout",
     "output_type": "stream",
     "text": [
      "No routes meet this criteria.\n"
     ]
    }
   ],
   "source": [
    "route_group = \"long\"\n",
    "try:\n",
    "    display_charts_for_route_group(df, route_group)\n",
    "except:\n",
    "    print(\"No routes meet this criteria.\")"
   ]
  },
  {
   "cell_type": "markdown",
   "id": "ace75b5f-0442-4fbe-aebd-6c3a13ae13a7",
   "metadata": {
    "papermill": {
     "duration": 0.020556,
     "end_time": "2022-05-11T22:08:53.224568",
     "exception": false,
     "start_time": "2022-05-11T22:08:53.204012",
     "status": "completed"
    },
    "tags": []
   },
   "source": [
    "### GTFS Real-Time Speedmaps"
   ]
  },
  {
   "cell_type": "code",
   "execution_count": 17,
   "id": "a0a114a1-e975-4027-9daf-50029f5ef59f",
   "metadata": {
    "execution": {
     "iopub.execute_input": "2022-05-11T22:08:53.268270Z",
     "iopub.status.busy": "2022-05-11T22:08:53.267368Z",
     "iopub.status.idle": "2022-05-11T22:08:53.296438Z",
     "shell.execute_reply": "2022-05-11T22:08:53.295583Z"
    },
    "jupyter": {
     "source_hidden": true
    },
    "papermill": {
     "duration": 0.053386,
     "end_time": "2022-05-11T22:08:53.299048",
     "exception": false,
     "start_time": "2022-05-11T22:08:53.245662",
     "status": "completed"
    },
    "tags": [
     "remove_input"
    ]
   },
   "outputs": [
    {
     "data": {
      "text/html": [
       "No GTFS RT data available."
      ],
      "text/plain": [
       "<IPython.core.display.HTML object>"
      ]
     },
     "metadata": {},
     "output_type": "display_data"
    }
   ],
   "source": [
    "RT_SITE_YAML = \"../portfolio/sites/rt.yml\"\n",
    "\n",
    "# Grab list of ITP IDs with GTFS RT speedmaps\n",
    "rt_itp_id = deploy_portfolio_yaml.check_if_rt_data_available(RT_SITE_YAML)\n",
    "\n",
    "# Construct the URL \n",
    "RT_URL = (\"https://analysis.calitp.org/rt/\"\n",
    "          f\"district_{district_number}-{district_name}/\"\n",
    "          f\"speedmaps__itp_id_{itp_id}.html\"\n",
    "         ) \n",
    "\n",
    "# If this ITP ID is found in RT analysis, give URL to that operator in analysis.calitp.org\n",
    "if itp_id in rt_itp_id:\n",
    "    display(HTML(f'''<a href={RT_URL}>GTFS RT speedmaps here.</a>'''))\n",
    "\n",
    "else:\n",
    "    display(HTML(\"No GTFS RT data available.\"))"
   ]
  },
  {
   "cell_type": "code",
   "execution_count": null,
   "id": "5b680565-2230-4f2e-817c-718fad48d64c",
   "metadata": {
    "jupyter": {
     "source_hidden": true
    },
    "papermill": {
     "duration": 0.020621,
     "end_time": "2022-05-11T22:08:53.349727",
     "exception": false,
     "start_time": "2022-05-11T22:08:53.329106",
     "status": "completed"
    },
    "tags": [
     "remove_input"
    ]
   },
   "outputs": [],
   "source": []
  }
 ],
 "metadata": {
  "kernelspec": {
   "display_name": "Python 3 (ipykernel)",
   "language": "python",
   "name": "python3"
  },
  "language_info": {
   "codemirror_mode": {
    "name": "ipython",
    "version": 3
   },
   "file_extension": ".py",
   "mimetype": "text/x-python",
   "name": "python",
   "nbconvert_exporter": "python",
   "pygments_lexer": "ipython3",
   "version": "3.9.12"
  },
  "papermill": {
   "default_parameters": {},
   "duration": 23.309316,
   "end_time": "2022-05-11T22:08:54.514882",
   "environment_variables": {},
   "exception": null,
   "input_path": "bus_service_increase/competitive-parallel-routes.ipynb",
   "output_path": "portfolio/parallel_corridors/district_05-san-luis-obispo/5__competitive-parallel-routes__district_05-san-luis-obispo__itp_id_289.ipynb",
   "parameters": {
    "district": "05 - San Luis Obispo",
    "itp_id": 289
   },
   "start_time": "2022-05-11T22:08:31.205566",
   "version": "2.3.4"
  }
 },
 "nbformat": 4,
 "nbformat_minor": 5
}