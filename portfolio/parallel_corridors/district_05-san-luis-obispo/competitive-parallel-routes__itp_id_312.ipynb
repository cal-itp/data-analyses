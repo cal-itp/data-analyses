{
 "cells": [
  {
   "cell_type": "code",
   "execution_count": 1,
   "id": "95d00857-6a20-4529-a519-2cc7182928a9",
   "metadata": {
    "execution": {
     "iopub.execute_input": "2022-05-09T16:54:49.867214Z",
     "iopub.status.busy": "2022-05-09T16:54:49.866788Z",
     "iopub.status.idle": "2022-05-09T16:54:59.150494Z",
     "shell.execute_reply": "2022-05-09T16:54:59.146751Z"
    },
    "jupyter": {
     "source_hidden": true
    },
    "papermill": {
     "duration": 9.302059,
     "end_time": "2022-05-09T16:54:59.153806",
     "exception": false,
     "start_time": "2022-05-09T16:54:49.851747",
     "status": "completed"
    },
    "tags": [
     "remove_input"
    ]
   },
   "outputs": [],
   "source": [
    "%%capture\n",
    "import warnings\n",
    "warnings.filterwarnings('ignore')\n",
    "\n",
    "import altair as alt\n",
    "import calitp.magics\n",
    "import geopandas as gpd\n",
    "import intake\n",
    "import pandas as pd\n",
    "\n",
    "from IPython.display import display, Markdown, HTML\n",
    "\n",
    "import parallel_corridors_utils\n",
    "from shared_utils import styleguide\n",
    "import deploy_portfolio_yaml\n",
    "\n",
    "catalog = intake.open_catalog(\"./*.yml\")\n",
    "alt.renderers.enable(\"html\")"
   ]
  },
  {
   "cell_type": "code",
   "execution_count": 2,
   "id": "8af2a0c1-f3da-408d-9bea-11d9fbf8695d",
   "metadata": {
    "execution": {
     "iopub.execute_input": "2022-05-09T16:54:59.182478Z",
     "iopub.status.busy": "2022-05-09T16:54:59.181769Z",
     "iopub.status.idle": "2022-05-09T16:54:59.186504Z",
     "shell.execute_reply": "2022-05-09T16:54:59.185768Z"
    },
    "jupyter": {
     "source_hidden": true
    },
    "papermill": {
     "duration": 0.021607,
     "end_time": "2022-05-09T16:54:59.188837",
     "exception": false,
     "start_time": "2022-05-09T16:54:59.167230",
     "status": "completed"
    },
    "tags": [
     "parameters",
     "remove_input"
    ]
   },
   "outputs": [],
   "source": [
    "# parameters cell\n",
    "itp_id = 182"
   ]
  },
  {
   "cell_type": "code",
   "execution_count": 3,
   "id": "5dcceb69",
   "metadata": {
    "execution": {
     "iopub.execute_input": "2022-05-09T16:54:59.222602Z",
     "iopub.status.busy": "2022-05-09T16:54:59.221844Z",
     "iopub.status.idle": "2022-05-09T16:54:59.226781Z",
     "shell.execute_reply": "2022-05-09T16:54:59.226087Z"
    },
    "jupyter": {
     "source_hidden": true
    },
    "papermill": {
     "duration": 0.023259,
     "end_time": "2022-05-09T16:54:59.228892",
     "exception": false,
     "start_time": "2022-05-09T16:54:59.205633",
     "status": "completed"
    },
    "tags": [
     "injected-parameters",
     "remove_input"
    ]
   },
   "outputs": [],
   "source": [
    "# Parameters\n",
    "district = \"05 - San Luis Obispo\"\n",
    "itp_id = 312\n"
   ]
  },
  {
   "cell_type": "code",
   "execution_count": 4,
   "id": "9582aaf4-79ff-412a-b248-8d8d693ebd4f",
   "metadata": {
    "execution": {
     "iopub.execute_input": "2022-05-09T16:54:59.256820Z",
     "iopub.status.busy": "2022-05-09T16:54:59.256098Z",
     "iopub.status.idle": "2022-05-09T16:55:00.500476Z",
     "shell.execute_reply": "2022-05-09T16:55:00.499311Z"
    },
    "jupyter": {
     "source_hidden": true
    },
    "papermill": {
     "duration": 1.261269,
     "end_time": "2022-05-09T16:55:00.502894",
     "exception": false,
     "start_time": "2022-05-09T16:54:59.241625",
     "status": "completed"
    },
    "tags": [
     "remove_input"
    ]
   },
   "outputs": [],
   "source": [
    "df = catalog.competitive_route_variability.read()\n",
    "\n",
    "df = (df[(df.calitp_itp_id == itp_id) & \n",
    "         (df.route_group.notna())]\n",
    "      .reset_index(drop=True)\n",
    "     )\n",
    "\n",
    "\n",
    "if itp_id == 182:\n",
    "    df = df.assign(\n",
    "        route_id = df.route_id.str.replace('-13153', '').astype(int)\n",
    "    )"
   ]
  },
  {
   "cell_type": "code",
   "execution_count": 5,
   "id": "33ac4b06-f647-4dce-a625-8f2c1b37cc60",
   "metadata": {
    "execution": {
     "iopub.execute_input": "2022-05-09T16:55:00.531875Z",
     "iopub.status.busy": "2022-05-09T16:55:00.531590Z",
     "iopub.status.idle": "2022-05-09T16:55:00.540037Z",
     "shell.execute_reply": "2022-05-09T16:55:00.539155Z"
    },
    "jupyter": {
     "source_hidden": true
    },
    "papermill": {
     "duration": 0.025535,
     "end_time": "2022-05-09T16:55:00.542558",
     "exception": false,
     "start_time": "2022-05-09T16:55:00.517023",
     "status": "completed"
    },
    "tags": [
     "remove_input"
    ]
   },
   "outputs": [],
   "source": [
    "%%capture_parameters\n",
    "operator_name = df.name.iloc[0]\n",
    "district_number = f\"{df.caltrans_district.iloc[0].split('-')[0].strip()}\"\n",
    "district_name = f\"{df.caltrans_district.iloc[0].split('-')[1].strip().lower().replace(' ', '-')}\"\n",
    "\n",
    "itp_id, operator_name, district_number, district_name"
   ]
  },
  {
   "cell_type": "markdown",
   "id": "65bc6f5c-8348-42ee-b2dd-52057c406852",
   "metadata": {
    "papermill": {
     "duration": 0.012081,
     "end_time": "2022-05-09T16:55:00.566580",
     "exception": false,
     "start_time": "2022-05-09T16:55:00.554499",
     "status": "completed"
    },
    "tags": []
   },
   "source": [
    "# City of Solvang (ITP ID: 312)"
   ]
  },
  {
   "cell_type": "code",
   "execution_count": 6,
   "id": "a689c1ab-2c6c-4831-8d64-897f5986f571",
   "metadata": {
    "execution": {
     "iopub.execute_input": "2022-05-09T16:55:00.593281Z",
     "iopub.status.busy": "2022-05-09T16:55:00.592760Z",
     "iopub.status.idle": "2022-05-09T16:55:00.598708Z",
     "shell.execute_reply": "2022-05-09T16:55:00.598115Z"
    },
    "jupyter": {
     "source_hidden": true
    },
    "papermill": {
     "duration": 0.027411,
     "end_time": "2022-05-09T16:55:00.606075",
     "exception": false,
     "start_time": "2022-05-09T16:55:00.578664",
     "status": "completed"
    },
    "tags": [
     "remove_input"
    ]
   },
   "outputs": [
    {
     "data": {
      "text/html": [
       "<h1>Competitive & Parallel Routes</h1>"
      ],
      "text/plain": [
       "<IPython.core.display.HTML object>"
      ]
     },
     "metadata": {},
     "output_type": "display_data"
    }
   ],
   "source": [
    "display(HTML(\"<h1>Competitive & Parallel Routes</h1>\")) "
   ]
  },
  {
   "cell_type": "code",
   "execution_count": 7,
   "id": "2cb4d8d5-4760-40e4-85b1-cb833d8bb648",
   "metadata": {
    "execution": {
     "iopub.execute_input": "2022-05-09T16:55:00.634194Z",
     "iopub.status.busy": "2022-05-09T16:55:00.633644Z",
     "iopub.status.idle": "2022-05-09T16:55:13.326735Z",
     "shell.execute_reply": "2022-05-09T16:55:13.323622Z"
    },
    "jupyter": {
     "source_hidden": true
    },
    "papermill": {
     "duration": 12.710244,
     "end_time": "2022-05-09T16:55:13.329584",
     "exception": false,
     "start_time": "2022-05-09T16:55:00.619340",
     "status": "completed"
    },
    "tags": [
     "remove_input"
    ]
   },
   "outputs": [],
   "source": [
    "# Grab parameters for narrative text - clean up formatting here \n",
    "district = df.caltrans_district.iloc[0]\n",
    "formatted_date = pd.to_datetime(parallel_corridors_utils.SELECTED_DATE).strftime('%m-%d-%Y')\n",
    "\n",
    "PCT_COMPETITIVE_THRESHOLD = 0.75\n",
    "\n",
    "stats = parallel_corridors_utils.operator_parallel_competitive_stats(\n",
    "    itp_id, PCT_COMPETITIVE_THRESHOLD)\n",
    "\n",
    "pct_parallel = round(stats['parallel_routes'] / stats['num_routes'] * 100,1 )\n",
    "pct_competitive =  round(stats['competitive_routes'] / stats['num_routes'] * 100,1 )"
   ]
  },
  {
   "cell_type": "markdown",
   "id": "ab667928-5274-4490-82d9-4c39293209a4",
   "metadata": {
    "papermill": {
     "duration": 0.014018,
     "end_time": "2022-05-09T16:55:13.358783",
     "exception": false,
     "start_time": "2022-05-09T16:55:13.344765",
     "status": "completed"
    },
    "tags": []
   },
   "source": [
    "## Quick Stats"
   ]
  },
  {
   "cell_type": "code",
   "execution_count": 8,
   "id": "0416509d-dc62-4165-b62e-64f8b26e8b8e",
   "metadata": {
    "execution": {
     "iopub.execute_input": "2022-05-09T16:55:13.394034Z",
     "iopub.status.busy": "2022-05-09T16:55:13.393664Z",
     "iopub.status.idle": "2022-05-09T16:55:13.410397Z",
     "shell.execute_reply": "2022-05-09T16:55:13.409213Z"
    },
    "jupyter": {
     "source_hidden": true
    },
    "papermill": {
     "duration": 0.035477,
     "end_time": "2022-05-09T16:55:13.413967",
     "exception": false,
     "start_time": "2022-05-09T16:55:13.378490",
     "status": "completed"
    },
    "tags": [
     "remove_input"
    ]
   },
   "outputs": [
    {
     "data": {
      "text/markdown": [
       "**Bus routes in service**: 2 <br>**Parallel routes** to State Highway Network (SHN): 2 routes (100.0%)<br>**Competitive routes** against car travel: 1 routes (50.0%)"
      ],
      "text/plain": [
       "<IPython.core.display.Markdown object>"
      ]
     },
     "metadata": {},
     "output_type": "display_data"
    }
   ],
   "source": [
    "display(\n",
    "    Markdown(\n",
    "        f\"**Bus routes in service**: {stats['num_routes']} \"\n",
    "        \"<br>**Parallel routes** to State Highway Network (SHN): \"\n",
    "        f\"{stats['parallel_routes']} routes ({pct_parallel}%)\"\n",
    "        f\"<br>**Competitive routes** against car travel: {stats['competitive_routes']} routes ({pct_competitive}%)\"\n",
    "    )\n",
    ")"
   ]
  },
  {
   "cell_type": "code",
   "execution_count": 9,
   "id": "f9d6ab58-f0ee-460c-b6de-657490e1f386",
   "metadata": {
    "execution": {
     "iopub.execute_input": "2022-05-09T16:55:13.443962Z",
     "iopub.status.busy": "2022-05-09T16:55:13.443618Z",
     "iopub.status.idle": "2022-05-09T16:55:13.455944Z",
     "shell.execute_reply": "2022-05-09T16:55:13.454714Z"
    },
    "jupyter": {
     "source_hidden": true
    },
    "papermill": {
     "duration": 0.031134,
     "end_time": "2022-05-09T16:55:13.458828",
     "exception": false,
     "start_time": "2022-05-09T16:55:13.427694",
     "status": "completed"
    },
    "tags": [
     "remove_input"
    ]
   },
   "outputs": [],
   "source": [
    "def set_yaxis_range(df, y_col):\n",
    "    Y_MIN = df[y_col].min()\n",
    "    Y_MAX = df[y_col].max()\n",
    "    \n",
    "    return Y_MIN, Y_MAX\n",
    "\n",
    "# Rather than set it according to the operator, which can vary,\n",
    "# just use set thresholds for each group\n",
    "diff_cutoffs = parallel_corridors_utils.diff_cutoffs\n",
    "\n",
    "PCT_TRIPS_BELOW_CUTOFF = 0.25\n",
    "\n",
    "def top15_routes(df, route_group):\n",
    "    df2 = (df[df.route_group==route_group])\n",
    "    # Set a cut-off to enable sorting, where most of the trips are \n",
    "    # below a certain time difference cut-off, \n",
    "    # grab top 15 routes where majority of trips are below that cut-off \n",
    "\n",
    "    route_cols = [\"calitp_itp_id\", \"route_id\"]\n",
    "\n",
    "    df2 = df2.assign(\n",
    "        below_cutoff = df2.apply(lambda x: 1 if x.bus_difference <= diff_cutoffs[route_group] \n",
    "                                 else 0, axis=1),\n",
    "        num_trips = df2.groupby(route_cols)[\"trip_id\"].transform(\"count\")\n",
    "    )\n",
    "\n",
    "    df2[\"below_cutoff\"] = df2.groupby(route_cols)[\"below_cutoff\"].transform(\"sum\")\n",
    "    df2[\"pct_below_cutoff\"] = df2.below_cutoff.divide(df2.num_trips)\n",
    "\n",
    "    # At least half the trips are below that cut-off\n",
    "    # but show 15 max, otherwise, show less, since these won't be as interesting to operators\n",
    "    df3 = (df2[df2.pct_below_cutoff >= PCT_TRIPS_BELOW_CUTOFF]\n",
    "           .sort_values([\"calitp_itp_id\", \"below_cutoff\", \n",
    "                         \"pct_below_cutoff\", \"route_id\"],\n",
    "                        ascending = [True, False, False, True]\n",
    "                       )\n",
    "           .drop_duplicates(subset=[\"calitp_itp_id\", \"route_id\"])\n",
    "          ).head(15)\n",
    "    \n",
    "    return list(df3.route_id)"
   ]
  },
  {
   "cell_type": "code",
   "execution_count": 10,
   "id": "cf36d559-3349-4144-8086-8ac9ce937a5a",
   "metadata": {
    "execution": {
     "iopub.execute_input": "2022-05-09T16:55:13.523559Z",
     "iopub.status.busy": "2022-05-09T16:55:13.523117Z",
     "iopub.status.idle": "2022-05-09T16:55:13.530306Z",
     "shell.execute_reply": "2022-05-09T16:55:13.529243Z"
    },
    "jupyter": {
     "source_hidden": true
    },
    "papermill": {
     "duration": 0.049442,
     "end_time": "2022-05-09T16:55:13.532973",
     "exception": false,
     "start_time": "2022-05-09T16:55:13.483531",
     "status": "completed"
    },
    "tags": [
     "remove_input"
    ]
   },
   "outputs": [],
   "source": [
    "def caption_with_cutoff(cutoff):\n",
    "    sentence = (\n",
    "        f\"<br>These are routes that have **at least {int(PCT_TRIPS_BELOW_CUTOFF*100)}% \"\n",
    "        \"of their trips take no more than an \"\n",
    "        f\"additional {cutoff} min** compared to a car \"\n",
    "        \"(up to 15 routes) are shown.\"\n",
    "        \"<br>Within each route group, routes are sorted in descending order \"\n",
    "        \"by % competitive trips and # trips below the additional time cut-off.\"\n",
    "    )\n",
    "    return sentence\n",
    "\n",
    "CAPTIONS_DICT = {\n",
    "    \"short\": caption_with_cutoff(diff_cutoffs['short']),\n",
    "    \"medium\": caption_with_cutoff(diff_cutoffs['medium']),\n",
    "    \"long\": caption_with_cutoff(diff_cutoffs['long']),\n",
    "}"
   ]
  },
  {
   "cell_type": "code",
   "execution_count": 11,
   "id": "e4306d58-6944-47e9-afef-5d5b524c751f",
   "metadata": {
    "execution": {
     "iopub.execute_input": "2022-05-09T16:55:13.573464Z",
     "iopub.status.busy": "2022-05-09T16:55:13.572359Z",
     "iopub.status.idle": "2022-05-09T16:55:13.580788Z",
     "shell.execute_reply": "2022-05-09T16:55:13.579737Z"
    },
    "jupyter": {
     "source_hidden": true
    },
    "papermill": {
     "duration": 0.029727,
     "end_time": "2022-05-09T16:55:13.582996",
     "exception": false,
     "start_time": "2022-05-09T16:55:13.553269",
     "status": "completed"
    },
    "tags": [
     "remove_input"
    ]
   },
   "outputs": [],
   "source": [
    "def setup_charts(df, PCT_COMPETITIVE_THRESHOLD, route_group):\n",
    "    # Set up df for charting (cut-off at some threshold to show most competitive routes)\n",
    "    plot_me = (df[df.pct_trips_competitive > PCT_COMPETITIVE_THRESHOLD]\n",
    "           .drop(columns = \"geometry\")\n",
    "    )\n",
    "    \n",
    "    y_col1 = \"bus_multiplier\"\n",
    "    Y_MIN1, Y_MAX1 = set_yaxis_range(plot_me, y_col1)\n",
    "\n",
    "    y_col2 = \"bus_difference\"\n",
    "    Y_MIN2, Y_MAX2 = set_yaxis_range(plot_me, y_col2)\n",
    "     \n",
    "    subset_routes = top15_routes(plot_me, route_group)\n",
    "    \n",
    "    multiplier_chart = parallel_corridors_utils.make_stripplot(\n",
    "        plot_me[plot_me.route_id.isin(subset_routes)], \n",
    "        y_col1, Y_MIN = Y_MIN1, Y_MAX = Y_MAX1\n",
    "    )\n",
    "    \n",
    "    difference_chart = parallel_corridors_utils.make_stripplot(\n",
    "        plot_me[plot_me.route_id.isin(subset_routes)], \n",
    "        y_col2, Y_MIN = Y_MIN2, Y_MAX = Y_MAX2\n",
    "    )\n",
    "    \n",
    "    return subset_routes, multiplier_chart, difference_chart            "
   ]
  },
  {
   "cell_type": "code",
   "execution_count": 12,
   "id": "33a710e8-504c-4942-aa75-ff69f216956e",
   "metadata": {
    "execution": {
     "iopub.execute_input": "2022-05-09T16:55:13.626351Z",
     "iopub.status.busy": "2022-05-09T16:55:13.625724Z",
     "iopub.status.idle": "2022-05-09T16:55:13.631669Z",
     "shell.execute_reply": "2022-05-09T16:55:13.630776Z"
    },
    "jupyter": {
     "source_hidden": true
    },
    "papermill": {
     "duration": 0.026537,
     "end_time": "2022-05-09T16:55:13.634136",
     "exception": false,
     "start_time": "2022-05-09T16:55:13.607599",
     "status": "completed"
    },
    "tags": [
     "remove_input"
    ]
   },
   "outputs": [],
   "source": [
    "def display_charts_for_route_group(df, route_group):    \n",
    "    subset_routes, mult, diff  = setup_charts(df, PCT_COMPETITIVE_THRESHOLD, route_group)\n",
    "\n",
    "    if len(subset_routes) > 0:\n",
    "        display(Markdown(f\"{CAPTIONS_DICT[route_group]}\"))\n",
    "\n",
    "        display(mult)\n",
    "        display(diff)"
   ]
  },
  {
   "cell_type": "markdown",
   "id": "525f9b38-072b-46d1-96a8-1aa4b038357c",
   "metadata": {
    "papermill": {
     "duration": 0.016503,
     "end_time": "2022-05-09T16:55:13.664526",
     "exception": false,
     "start_time": "2022-05-09T16:55:13.648023",
     "status": "completed"
    },
    "tags": []
   },
   "source": [
    "## Viable Competitive Routes\n",
    "### Short Routes (< 1 hr)"
   ]
  },
  {
   "cell_type": "code",
   "execution_count": 13,
   "id": "57f7084c-2cf7-45c6-ba08-1609e0bd6ca5",
   "metadata": {
    "execution": {
     "iopub.execute_input": "2022-05-09T16:55:13.696636Z",
     "iopub.status.busy": "2022-05-09T16:55:13.695982Z",
     "iopub.status.idle": "2022-05-09T16:55:13.982416Z",
     "shell.execute_reply": "2022-05-09T16:55:13.981429Z"
    },
    "jupyter": {
     "source_hidden": true
    },
    "papermill": {
     "duration": 0.306296,
     "end_time": "2022-05-09T16:55:13.984940",
     "exception": false,
     "start_time": "2022-05-09T16:55:13.678644",
     "status": "completed"
    },
    "tags": [
     "remove_input"
    ]
   },
   "outputs": [
    {
     "data": {
      "text/markdown": [
       "<br>These are routes that have **at least 25% of their trips take no more than an additional 20 min** compared to a car (up to 15 routes) are shown.<br>Within each route group, routes are sorted in descending order by % competitive trips and # trips below the additional time cut-off."
      ],
      "text/plain": [
       "<IPython.core.display.Markdown object>"
      ]
     },
     "metadata": {},
     "output_type": "display_data"
    },
    {
     "data": {
      "text/html": [
       "\n",
       "<div id=\"altair-viz-70f31cce10ce4ac6a077daab6d1e349a\"></div>\n",
       "<script type=\"text/javascript\">\n",
       "  var VEGA_DEBUG = (typeof VEGA_DEBUG == \"undefined\") ? {} : VEGA_DEBUG;\n",
       "  (function(spec, embedOpt){\n",
       "    let outputDiv = document.currentScript.previousElementSibling;\n",
       "    if (outputDiv.id !== \"altair-viz-70f31cce10ce4ac6a077daab6d1e349a\") {\n",
       "      outputDiv = document.getElementById(\"altair-viz-70f31cce10ce4ac6a077daab6d1e349a\");\n",
       "    }\n",
       "    const paths = {\n",
       "      \"vega\": \"https://cdn.jsdelivr.net/npm//vega@5?noext\",\n",
       "      \"vega-lib\": \"https://cdn.jsdelivr.net/npm//vega-lib?noext\",\n",
       "      \"vega-lite\": \"https://cdn.jsdelivr.net/npm//vega-lite@4.17.0?noext\",\n",
       "      \"vega-embed\": \"https://cdn.jsdelivr.net/npm//vega-embed@6?noext\",\n",
       "    };\n",
       "\n",
       "    function maybeLoadScript(lib, version) {\n",
       "      var key = `${lib.replace(\"-\", \"\")}_version`;\n",
       "      return (VEGA_DEBUG[key] == version) ?\n",
       "        Promise.resolve(paths[lib]) :\n",
       "        new Promise(function(resolve, reject) {\n",
       "          var s = document.createElement('script');\n",
       "          document.getElementsByTagName(\"head\")[0].appendChild(s);\n",
       "          s.async = true;\n",
       "          s.onload = () => {\n",
       "            VEGA_DEBUG[key] = version;\n",
       "            return resolve(paths[lib]);\n",
       "          };\n",
       "          s.onerror = () => reject(`Error loading script: ${paths[lib]}`);\n",
       "          s.src = paths[lib];\n",
       "        });\n",
       "    }\n",
       "\n",
       "    function showError(err) {\n",
       "      outputDiv.innerHTML = `<div class=\"error\" style=\"color:red;\">${err}</div>`;\n",
       "      throw err;\n",
       "    }\n",
       "\n",
       "    function displayChart(vegaEmbed) {\n",
       "      vegaEmbed(outputDiv, spec, embedOpt)\n",
       "        .catch(err => showError(`Javascript Error: ${err.message}<br>This usually means there's a typo in your chart specification. See the javascript console for the full traceback.`));\n",
       "    }\n",
       "\n",
       "    if(typeof define === \"function\" && define.amd) {\n",
       "      requirejs.config({paths});\n",
       "      require([\"vega-embed\"], displayChart, err => showError(`Error loading script: ${err.message}`));\n",
       "    } else {\n",
       "      maybeLoadScript(\"vega\", \"5\")\n",
       "        .then(() => maybeLoadScript(\"vega-lite\", \"4.17.0\"))\n",
       "        .then(() => maybeLoadScript(\"vega-embed\", \"6\"))\n",
       "        .catch(showError)\n",
       "        .then(() => displayChart(vegaEmbed));\n",
       "    }\n",
       "  })({\"config\": {\"view\": {\"continuousWidth\": 400, \"continuousHeight\": 300, \"stroke\": null}, \"facet\": {\"spacing\": 0}}, \"data\": {\"name\": \"data-926990757b9a9df19a06586a6dd9407c\"}, \"facet\": {\"column\": {\"field\": \"route_id\", \"sort\": [\"ROUTEB\"], \"title\": \"Route ID\", \"type\": \"nominal\"}}, \"spec\": {\"layer\": [{\"mark\": \"rule\", \"encoding\": {\"color\": {\"value\": \"black\"}, \"y\": {\"field\": \"cutoff\", \"type\": \"quantitative\"}}, \"selection\": {\"selector001\": {\"type\": \"interval\", \"bind\": \"scales\", \"encodings\": [\"x\", \"y\"]}}}, {\"mark\": {\"type\": \"point\", \"opacity\": 0.65, \"size\": 12, \"strokeWidth\": 1.1}, \"encoding\": {\"color\": {\"field\": \"time_of_day\", \"scale\": {\"range\": [\"#136C97\", \"#E16B26\", \"#F6BF16\", \"#00896B\", \"#7790A3\", \"#5B559C\"]}, \"sort\": [\"AM Peak\", \"Midday\", \"PM Peak\", \"Owl Service\"], \"title\": \"Time of Day\", \"type\": \"nominal\"}, \"tooltip\": [{\"field\": \"route_id\", \"type\": \"nominal\"}, {\"field\": \"trip_id\", \"type\": \"nominal\"}, {\"field\": \"service_hours\", \"type\": \"quantitative\"}, {\"field\": \"car_duration_hours\", \"type\": \"quantitative\"}, {\"field\": \"bus_multiplier\", \"type\": \"quantitative\"}, {\"field\": \"bus_difference\", \"type\": \"quantitative\"}, {\"field\": \"num_trips\", \"type\": \"quantitative\"}, {\"field\": \"num_competitive\", \"type\": \"quantitative\"}, {\"field\": \"pct_trips_competitive\", \"type\": \"quantitative\"}, {\"field\": \"p25\", \"type\": \"quantitative\"}, {\"field\": \"p50\", \"type\": \"quantitative\"}, {\"field\": \"p75\", \"type\": \"quantitative\"}], \"x\": {\"axis\": {\"grid\": false, \"labels\": false, \"ticks\": true, \"values\": [0]}, \"field\": \"jitter\", \"scale\": {}, \"title\": null, \"type\": \"quantitative\"}, \"y\": {\"field\": \"bus_multiplier\", \"scale\": {\"domain\": [-0.25, 2.5]}, \"title\": \"Ratio of Bus to Car Travel Time\", \"type\": \"quantitative\"}}, \"transform\": [{\"calculate\": \"sqrt(-2*log(random()))*cos(2*PI*random())\", \"as\": \"jitter\"}], \"width\": 50}, {\"layer\": [{\"mark\": {\"type\": \"point\", \"opacity\": 0.6, \"size\": 20, \"strokeWidth\": 1.3}, \"encoding\": {\"color\": {\"value\": \"#323434\"}, \"y\": {\"field\": \"bus_multiplier\", \"type\": \"quantitative\"}}, \"transform\": [{\"filter\": \"(datum.p50_trip === 1)\"}]}, {\"mark\": {\"type\": \"text\", \"align\": \"center\", \"baseline\": \"middle\"}, \"encoding\": {\"color\": {\"value\": \"black\"}, \"text\": {\"field\": \"pct_trips_competitive\", \"format\": \".0%\", \"type\": \"quantitative\"}, \"tooltip\": [{\"field\": \"route_id\", \"type\": \"nominal\"}, {\"field\": \"trip_id\", \"type\": \"nominal\"}, {\"field\": \"service_hours\", \"type\": \"quantitative\"}, {\"field\": \"car_duration_hours\", \"type\": \"quantitative\"}, {\"field\": \"bus_multiplier\", \"type\": \"quantitative\"}, {\"field\": \"bus_difference\", \"type\": \"quantitative\"}, {\"field\": \"num_trips\", \"type\": \"quantitative\"}, {\"field\": \"num_competitive\", \"type\": \"quantitative\"}, {\"field\": \"pct_trips_competitive\", \"type\": \"quantitative\"}, {\"field\": \"p25\", \"type\": \"quantitative\"}, {\"field\": \"p50\", \"type\": \"quantitative\"}, {\"field\": \"p75\", \"type\": \"quantitative\"}], \"x\": {\"value\": 30}, \"y\": {\"value\": 15}}, \"transform\": [{\"calculate\": \"sqrt(-2*log(random()))*cos(2*PI*random())\", \"as\": \"jitter\"}, {\"filter\": \"(datum.fastest_trip === 1)\"}]}]}]}, \"resolve\": {\"scale\": {\"y\": \"shared\"}}, \"title\": \"Ratio of Bus to Car Travel Time\", \"$schema\": \"https://vega.github.io/schema/vega-lite/v4.17.0.json\", \"datasets\": {\"data-926990757b9a9df19a06586a6dd9407c\": [{\"calitp_itp_id\": 312, \"trip_key\": -6355204926582847867, \"trip_id\": \"ROUTEB|11219343:T6|14:35:00\", \"shape_id\": \"ROUTEB:1\", \"route_id\": \"ROUTEB\", \"service_hours\": 0.78, \"trip_first_departure_ts\": 52500, \"trip_last_arrival_ts\": 55320, \"departure_hour\": 14, \"time_of_day\": \"Midday\", \"p25\": 0.78, \"p50\": 0.78, \"p75\": 0.78, \"p50_trip\": 1, \"fastest_trip\": 0, \"car_duration_hours\": 0.51, \"competitive_route\": 1, \"bus_multiplier\": 1.53, \"bus_difference\": 16.2, \"num_trips\": 8, \"num_competitive\": 8, \"pct_trips_competitive\": 1.0, \"bus_difference_spread\": 0.0, \"route_group\": \"short\", \"max_trip_hrs\": 0.78, \"max_trip_route_group\": 0.78, \"name\": \"City of Solvang\", \"caltrans_district\": \"05 - San Luis Obispo\", \"drmt_organization_name\": null, \"cutoff2\": 20, \"cutoff\": 2}, {\"calitp_itp_id\": 312, \"trip_key\": -6478907577908897350, \"trip_id\": \"ROUTEB|11219343:T2|8:05:00\", \"shape_id\": \"ROUTEB:1\", \"route_id\": \"ROUTEB\", \"service_hours\": 0.78, \"trip_first_departure_ts\": 29100, \"trip_last_arrival_ts\": 31920, \"departure_hour\": 8, \"time_of_day\": \"AM Peak\", \"p25\": 0.78, \"p50\": 0.78, \"p75\": 0.78, \"p50_trip\": 1, \"fastest_trip\": 0, \"car_duration_hours\": 0.51, \"competitive_route\": 1, \"bus_multiplier\": 1.53, \"bus_difference\": 16.2, \"num_trips\": 8, \"num_competitive\": 8, \"pct_trips_competitive\": 1.0, \"bus_difference_spread\": 0.0, \"route_group\": \"short\", \"max_trip_hrs\": 0.78, \"max_trip_route_group\": 0.78, \"name\": \"City of Solvang\", \"caltrans_district\": \"05 - San Luis Obispo\", \"drmt_organization_name\": null, \"cutoff2\": 20, \"cutoff\": 2}, {\"calitp_itp_id\": 312, \"trip_key\": 2051426434992042577, \"trip_id\": \"ROUTEB|11219343:T1|7:05:00\", \"shape_id\": \"ROUTEB:1\", \"route_id\": \"ROUTEB\", \"service_hours\": 0.78, \"trip_first_departure_ts\": 25500, \"trip_last_arrival_ts\": 28320, \"departure_hour\": 7, \"time_of_day\": \"AM Peak\", \"p25\": 0.78, \"p50\": 0.78, \"p75\": 0.78, \"p50_trip\": 1, \"fastest_trip\": 0, \"car_duration_hours\": 0.51, \"competitive_route\": 1, \"bus_multiplier\": 1.53, \"bus_difference\": 16.2, \"num_trips\": 8, \"num_competitive\": 8, \"pct_trips_competitive\": 1.0, \"bus_difference_spread\": 0.0, \"route_group\": \"short\", \"max_trip_hrs\": 0.78, \"max_trip_route_group\": 0.78, \"name\": \"City of Solvang\", \"caltrans_district\": \"05 - San Luis Obispo\", \"drmt_organization_name\": null, \"cutoff2\": 20, \"cutoff\": 2}, {\"calitp_itp_id\": 312, \"trip_key\": 3396300082846215706, \"trip_id\": \"ROUTEB|11219343:T7|15:35:00\", \"shape_id\": \"ROUTEB:1\", \"route_id\": \"ROUTEB\", \"service_hours\": 0.78, \"trip_first_departure_ts\": 56100, \"trip_last_arrival_ts\": 58920, \"departure_hour\": 15, \"time_of_day\": \"Midday\", \"p25\": 0.78, \"p50\": 0.78, \"p75\": 0.78, \"p50_trip\": 1, \"fastest_trip\": 0, \"car_duration_hours\": 0.51, \"competitive_route\": 1, \"bus_multiplier\": 1.53, \"bus_difference\": 16.2, \"num_trips\": 8, \"num_competitive\": 8, \"pct_trips_competitive\": 1.0, \"bus_difference_spread\": 0.0, \"route_group\": \"short\", \"max_trip_hrs\": 0.78, \"max_trip_route_group\": 0.78, \"name\": \"City of Solvang\", \"caltrans_district\": \"05 - San Luis Obispo\", \"drmt_organization_name\": null, \"cutoff2\": 20, \"cutoff\": 2}, {\"calitp_itp_id\": 312, \"trip_key\": 1960325446933206999, \"trip_id\": \"ROUTEB|11219343:T5|12:05:00\", \"shape_id\": \"ROUTEB:1\", \"route_id\": \"ROUTEB\", \"service_hours\": 0.78, \"trip_first_departure_ts\": 43500, \"trip_last_arrival_ts\": 46320, \"departure_hour\": 12, \"time_of_day\": \"Midday\", \"p25\": 0.78, \"p50\": 0.78, \"p75\": 0.78, \"p50_trip\": 1, \"fastest_trip\": 0, \"car_duration_hours\": 0.51, \"competitive_route\": 1, \"bus_multiplier\": 1.53, \"bus_difference\": 16.2, \"num_trips\": 8, \"num_competitive\": 8, \"pct_trips_competitive\": 1.0, \"bus_difference_spread\": 0.0, \"route_group\": \"short\", \"max_trip_hrs\": 0.78, \"max_trip_route_group\": 0.78, \"name\": \"City of Solvang\", \"caltrans_district\": \"05 - San Luis Obispo\", \"drmt_organization_name\": null, \"cutoff2\": 20, \"cutoff\": 2}, {\"calitp_itp_id\": 312, \"trip_key\": 5052500598827369770, \"trip_id\": \"ROUTEB|11219343:T3|9:05:00\", \"shape_id\": \"ROUTEB:1\", \"route_id\": \"ROUTEB\", \"service_hours\": 0.78, \"trip_first_departure_ts\": 32700, \"trip_last_arrival_ts\": 35520, \"departure_hour\": 9, \"time_of_day\": \"AM Peak\", \"p25\": 0.78, \"p50\": 0.78, \"p75\": 0.78, \"p50_trip\": 1, \"fastest_trip\": 0, \"car_duration_hours\": 0.51, \"competitive_route\": 1, \"bus_multiplier\": 1.53, \"bus_difference\": 16.2, \"num_trips\": 8, \"num_competitive\": 8, \"pct_trips_competitive\": 1.0, \"bus_difference_spread\": 0.0, \"route_group\": \"short\", \"max_trip_hrs\": 0.78, \"max_trip_route_group\": 0.78, \"name\": \"City of Solvang\", \"caltrans_district\": \"05 - San Luis Obispo\", \"drmt_organization_name\": null, \"cutoff2\": 20, \"cutoff\": 2}, {\"calitp_itp_id\": 312, \"trip_key\": 3295111670444333866, \"trip_id\": \"ROUTEB|11219343:T4|11:05:00\", \"shape_id\": \"ROUTEB:1\", \"route_id\": \"ROUTEB\", \"service_hours\": 0.78, \"trip_first_departure_ts\": 39900, \"trip_last_arrival_ts\": 42720, \"departure_hour\": 11, \"time_of_day\": \"Midday\", \"p25\": 0.78, \"p50\": 0.78, \"p75\": 0.78, \"p50_trip\": 1, \"fastest_trip\": 0, \"car_duration_hours\": 0.51, \"competitive_route\": 1, \"bus_multiplier\": 1.53, \"bus_difference\": 16.2, \"num_trips\": 8, \"num_competitive\": 8, \"pct_trips_competitive\": 1.0, \"bus_difference_spread\": 0.0, \"route_group\": \"short\", \"max_trip_hrs\": 0.78, \"max_trip_route_group\": 0.78, \"name\": \"City of Solvang\", \"caltrans_district\": \"05 - San Luis Obispo\", \"drmt_organization_name\": null, \"cutoff2\": 20, \"cutoff\": 2}, {\"calitp_itp_id\": 312, \"trip_key\": 8127507068313298348, \"trip_id\": \"ROUTEB|11219343:T8|17:35:00\", \"shape_id\": \"ROUTEB:1\", \"route_id\": \"ROUTEB\", \"service_hours\": 0.78, \"trip_first_departure_ts\": 63300, \"trip_last_arrival_ts\": 66120, \"departure_hour\": 17, \"time_of_day\": \"PM Peak\", \"p25\": 0.78, \"p50\": 0.78, \"p75\": 0.78, \"p50_trip\": 1, \"fastest_trip\": 1, \"car_duration_hours\": 0.51, \"competitive_route\": 1, \"bus_multiplier\": 1.53, \"bus_difference\": 16.2, \"num_trips\": 8, \"num_competitive\": 8, \"pct_trips_competitive\": 1.0, \"bus_difference_spread\": 0.0, \"route_group\": \"short\", \"max_trip_hrs\": 0.78, \"max_trip_route_group\": 0.78, \"name\": \"City of Solvang\", \"caltrans_district\": \"05 - San Luis Obispo\", \"drmt_organization_name\": null, \"cutoff2\": 20, \"cutoff\": 2}]}}, {\"mode\": \"vega-lite\"});\n",
       "</script>"
      ],
      "text/plain": [
       "alt.FacetChart(...)"
      ]
     },
     "metadata": {},
     "output_type": "display_data"
    },
    {
     "data": {
      "text/html": [
       "\n",
       "<div id=\"altair-viz-c9806981bcf34c49a3c7db185f7bfd11\"></div>\n",
       "<script type=\"text/javascript\">\n",
       "  var VEGA_DEBUG = (typeof VEGA_DEBUG == \"undefined\") ? {} : VEGA_DEBUG;\n",
       "  (function(spec, embedOpt){\n",
       "    let outputDiv = document.currentScript.previousElementSibling;\n",
       "    if (outputDiv.id !== \"altair-viz-c9806981bcf34c49a3c7db185f7bfd11\") {\n",
       "      outputDiv = document.getElementById(\"altair-viz-c9806981bcf34c49a3c7db185f7bfd11\");\n",
       "    }\n",
       "    const paths = {\n",
       "      \"vega\": \"https://cdn.jsdelivr.net/npm//vega@5?noext\",\n",
       "      \"vega-lib\": \"https://cdn.jsdelivr.net/npm//vega-lib?noext\",\n",
       "      \"vega-lite\": \"https://cdn.jsdelivr.net/npm//vega-lite@4.17.0?noext\",\n",
       "      \"vega-embed\": \"https://cdn.jsdelivr.net/npm//vega-embed@6?noext\",\n",
       "    };\n",
       "\n",
       "    function maybeLoadScript(lib, version) {\n",
       "      var key = `${lib.replace(\"-\", \"\")}_version`;\n",
       "      return (VEGA_DEBUG[key] == version) ?\n",
       "        Promise.resolve(paths[lib]) :\n",
       "        new Promise(function(resolve, reject) {\n",
       "          var s = document.createElement('script');\n",
       "          document.getElementsByTagName(\"head\")[0].appendChild(s);\n",
       "          s.async = true;\n",
       "          s.onload = () => {\n",
       "            VEGA_DEBUG[key] = version;\n",
       "            return resolve(paths[lib]);\n",
       "          };\n",
       "          s.onerror = () => reject(`Error loading script: ${paths[lib]}`);\n",
       "          s.src = paths[lib];\n",
       "        });\n",
       "    }\n",
       "\n",
       "    function showError(err) {\n",
       "      outputDiv.innerHTML = `<div class=\"error\" style=\"color:red;\">${err}</div>`;\n",
       "      throw err;\n",
       "    }\n",
       "\n",
       "    function displayChart(vegaEmbed) {\n",
       "      vegaEmbed(outputDiv, spec, embedOpt)\n",
       "        .catch(err => showError(`Javascript Error: ${err.message}<br>This usually means there's a typo in your chart specification. See the javascript console for the full traceback.`));\n",
       "    }\n",
       "\n",
       "    if(typeof define === \"function\" && define.amd) {\n",
       "      requirejs.config({paths});\n",
       "      require([\"vega-embed\"], displayChart, err => showError(`Error loading script: ${err.message}`));\n",
       "    } else {\n",
       "      maybeLoadScript(\"vega\", \"5\")\n",
       "        .then(() => maybeLoadScript(\"vega-lite\", \"4.17.0\"))\n",
       "        .then(() => maybeLoadScript(\"vega-embed\", \"6\"))\n",
       "        .catch(showError)\n",
       "        .then(() => displayChart(vegaEmbed));\n",
       "    }\n",
       "  })({\"config\": {\"view\": {\"continuousWidth\": 400, \"continuousHeight\": 300, \"stroke\": null}, \"facet\": {\"spacing\": 0}}, \"data\": {\"name\": \"data-a90154904ffe8a930c30dfa5e28708ad\"}, \"facet\": {\"column\": {\"field\": \"route_id\", \"sort\": [\"ROUTEB\"], \"title\": \"Route ID\", \"type\": \"nominal\"}}, \"spec\": {\"layer\": [{\"mark\": \"rule\", \"encoding\": {\"color\": {\"value\": \"black\"}, \"y\": {\"field\": \"cutoff\", \"type\": \"quantitative\"}}, \"selection\": {\"selector002\": {\"type\": \"interval\", \"bind\": \"scales\", \"encodings\": [\"x\", \"y\"]}}}, {\"mark\": {\"type\": \"rule\", \"strokeDash\": [3, 3]}, \"encoding\": {\"color\": {\"value\": \"#323434\"}, \"y\": {\"field\": \"cutoff2\", \"type\": \"quantitative\"}}}, {\"mark\": {\"type\": \"point\", \"opacity\": 0.65, \"size\": 12, \"strokeWidth\": 1.1}, \"encoding\": {\"color\": {\"field\": \"time_of_day\", \"scale\": {\"range\": [\"#136C97\", \"#E16B26\", \"#F6BF16\", \"#00896B\", \"#7790A3\", \"#5B559C\"]}, \"sort\": [\"AM Peak\", \"Midday\", \"PM Peak\", \"Owl Service\"], \"title\": \"Time of Day\", \"type\": \"nominal\"}, \"tooltip\": [{\"field\": \"route_id\", \"type\": \"nominal\"}, {\"field\": \"trip_id\", \"type\": \"nominal\"}, {\"field\": \"service_hours\", \"type\": \"quantitative\"}, {\"field\": \"car_duration_hours\", \"type\": \"quantitative\"}, {\"field\": \"bus_multiplier\", \"type\": \"quantitative\"}, {\"field\": \"bus_difference\", \"type\": \"quantitative\"}, {\"field\": \"num_trips\", \"type\": \"quantitative\"}, {\"field\": \"num_competitive\", \"type\": \"quantitative\"}, {\"field\": \"pct_trips_competitive\", \"type\": \"quantitative\"}, {\"field\": \"p25\", \"type\": \"quantitative\"}, {\"field\": \"p50\", \"type\": \"quantitative\"}, {\"field\": \"p75\", \"type\": \"quantitative\"}], \"x\": {\"axis\": {\"grid\": false, \"labels\": false, \"ticks\": true, \"values\": [0]}, \"field\": \"jitter\", \"scale\": {}, \"title\": null, \"type\": \"quantitative\"}, \"y\": {\"field\": \"bus_difference\", \"scale\": {\"domain\": [-5, 25.0]}, \"title\": \"Difference in Bus to Car Travel Time (min)\", \"type\": \"quantitative\"}}, \"transform\": [{\"calculate\": \"sqrt(-2*log(random()))*cos(2*PI*random())\", \"as\": \"jitter\"}], \"width\": 50}, {\"layer\": [{\"mark\": {\"type\": \"point\", \"opacity\": 0.6, \"size\": 20, \"strokeWidth\": 1.3}, \"encoding\": {\"color\": {\"value\": \"#323434\"}, \"y\": {\"field\": \"bus_difference\", \"type\": \"quantitative\"}}, \"transform\": [{\"filter\": \"(datum.p50_trip === 1)\"}]}, {\"mark\": {\"type\": \"text\", \"align\": \"center\", \"baseline\": \"middle\"}, \"encoding\": {\"color\": {\"value\": \"black\"}, \"text\": {\"field\": \"pct_trips_competitive\", \"format\": \".0%\", \"type\": \"quantitative\"}, \"tooltip\": [{\"field\": \"route_id\", \"type\": \"nominal\"}, {\"field\": \"trip_id\", \"type\": \"nominal\"}, {\"field\": \"service_hours\", \"type\": \"quantitative\"}, {\"field\": \"car_duration_hours\", \"type\": \"quantitative\"}, {\"field\": \"bus_multiplier\", \"type\": \"quantitative\"}, {\"field\": \"bus_difference\", \"type\": \"quantitative\"}, {\"field\": \"num_trips\", \"type\": \"quantitative\"}, {\"field\": \"num_competitive\", \"type\": \"quantitative\"}, {\"field\": \"pct_trips_competitive\", \"type\": \"quantitative\"}, {\"field\": \"p25\", \"type\": \"quantitative\"}, {\"field\": \"p50\", \"type\": \"quantitative\"}, {\"field\": \"p75\", \"type\": \"quantitative\"}], \"x\": {\"value\": 30}, \"y\": {\"value\": 15}}, \"transform\": [{\"calculate\": \"sqrt(-2*log(random()))*cos(2*PI*random())\", \"as\": \"jitter\"}, {\"filter\": \"(datum.fastest_trip === 1)\"}]}]}]}, \"resolve\": {\"scale\": {\"y\": \"shared\"}}, \"title\": \"Difference in Bus to Car Travel Time (min)\", \"$schema\": \"https://vega.github.io/schema/vega-lite/v4.17.0.json\", \"datasets\": {\"data-a90154904ffe8a930c30dfa5e28708ad\": [{\"calitp_itp_id\": 312, \"trip_key\": -6355204926582847867, \"trip_id\": \"ROUTEB|11219343:T6|14:35:00\", \"shape_id\": \"ROUTEB:1\", \"route_id\": \"ROUTEB\", \"service_hours\": 0.78, \"trip_first_departure_ts\": 52500, \"trip_last_arrival_ts\": 55320, \"departure_hour\": 14, \"time_of_day\": \"Midday\", \"p25\": 0.78, \"p50\": 0.78, \"p75\": 0.78, \"p50_trip\": 1, \"fastest_trip\": 0, \"car_duration_hours\": 0.51, \"competitive_route\": 1, \"bus_multiplier\": 1.53, \"bus_difference\": 16.2, \"num_trips\": 8, \"num_competitive\": 8, \"pct_trips_competitive\": 1.0, \"bus_difference_spread\": 0.0, \"route_group\": \"short\", \"max_trip_hrs\": 0.78, \"max_trip_route_group\": 0.78, \"name\": \"City of Solvang\", \"caltrans_district\": \"05 - San Luis Obispo\", \"drmt_organization_name\": null, \"cutoff2\": 20, \"cutoff\": 0}, {\"calitp_itp_id\": 312, \"trip_key\": -6478907577908897350, \"trip_id\": \"ROUTEB|11219343:T2|8:05:00\", \"shape_id\": \"ROUTEB:1\", \"route_id\": \"ROUTEB\", \"service_hours\": 0.78, \"trip_first_departure_ts\": 29100, \"trip_last_arrival_ts\": 31920, \"departure_hour\": 8, \"time_of_day\": \"AM Peak\", \"p25\": 0.78, \"p50\": 0.78, \"p75\": 0.78, \"p50_trip\": 1, \"fastest_trip\": 0, \"car_duration_hours\": 0.51, \"competitive_route\": 1, \"bus_multiplier\": 1.53, \"bus_difference\": 16.2, \"num_trips\": 8, \"num_competitive\": 8, \"pct_trips_competitive\": 1.0, \"bus_difference_spread\": 0.0, \"route_group\": \"short\", \"max_trip_hrs\": 0.78, \"max_trip_route_group\": 0.78, \"name\": \"City of Solvang\", \"caltrans_district\": \"05 - San Luis Obispo\", \"drmt_organization_name\": null, \"cutoff2\": 20, \"cutoff\": 0}, {\"calitp_itp_id\": 312, \"trip_key\": 2051426434992042577, \"trip_id\": \"ROUTEB|11219343:T1|7:05:00\", \"shape_id\": \"ROUTEB:1\", \"route_id\": \"ROUTEB\", \"service_hours\": 0.78, \"trip_first_departure_ts\": 25500, \"trip_last_arrival_ts\": 28320, \"departure_hour\": 7, \"time_of_day\": \"AM Peak\", \"p25\": 0.78, \"p50\": 0.78, \"p75\": 0.78, \"p50_trip\": 1, \"fastest_trip\": 0, \"car_duration_hours\": 0.51, \"competitive_route\": 1, \"bus_multiplier\": 1.53, \"bus_difference\": 16.2, \"num_trips\": 8, \"num_competitive\": 8, \"pct_trips_competitive\": 1.0, \"bus_difference_spread\": 0.0, \"route_group\": \"short\", \"max_trip_hrs\": 0.78, \"max_trip_route_group\": 0.78, \"name\": \"City of Solvang\", \"caltrans_district\": \"05 - San Luis Obispo\", \"drmt_organization_name\": null, \"cutoff2\": 20, \"cutoff\": 0}, {\"calitp_itp_id\": 312, \"trip_key\": 3396300082846215706, \"trip_id\": \"ROUTEB|11219343:T7|15:35:00\", \"shape_id\": \"ROUTEB:1\", \"route_id\": \"ROUTEB\", \"service_hours\": 0.78, \"trip_first_departure_ts\": 56100, \"trip_last_arrival_ts\": 58920, \"departure_hour\": 15, \"time_of_day\": \"Midday\", \"p25\": 0.78, \"p50\": 0.78, \"p75\": 0.78, \"p50_trip\": 1, \"fastest_trip\": 0, \"car_duration_hours\": 0.51, \"competitive_route\": 1, \"bus_multiplier\": 1.53, \"bus_difference\": 16.2, \"num_trips\": 8, \"num_competitive\": 8, \"pct_trips_competitive\": 1.0, \"bus_difference_spread\": 0.0, \"route_group\": \"short\", \"max_trip_hrs\": 0.78, \"max_trip_route_group\": 0.78, \"name\": \"City of Solvang\", \"caltrans_district\": \"05 - San Luis Obispo\", \"drmt_organization_name\": null, \"cutoff2\": 20, \"cutoff\": 0}, {\"calitp_itp_id\": 312, \"trip_key\": 1960325446933206999, \"trip_id\": \"ROUTEB|11219343:T5|12:05:00\", \"shape_id\": \"ROUTEB:1\", \"route_id\": \"ROUTEB\", \"service_hours\": 0.78, \"trip_first_departure_ts\": 43500, \"trip_last_arrival_ts\": 46320, \"departure_hour\": 12, \"time_of_day\": \"Midday\", \"p25\": 0.78, \"p50\": 0.78, \"p75\": 0.78, \"p50_trip\": 1, \"fastest_trip\": 0, \"car_duration_hours\": 0.51, \"competitive_route\": 1, \"bus_multiplier\": 1.53, \"bus_difference\": 16.2, \"num_trips\": 8, \"num_competitive\": 8, \"pct_trips_competitive\": 1.0, \"bus_difference_spread\": 0.0, \"route_group\": \"short\", \"max_trip_hrs\": 0.78, \"max_trip_route_group\": 0.78, \"name\": \"City of Solvang\", \"caltrans_district\": \"05 - San Luis Obispo\", \"drmt_organization_name\": null, \"cutoff2\": 20, \"cutoff\": 0}, {\"calitp_itp_id\": 312, \"trip_key\": 5052500598827369770, \"trip_id\": \"ROUTEB|11219343:T3|9:05:00\", \"shape_id\": \"ROUTEB:1\", \"route_id\": \"ROUTEB\", \"service_hours\": 0.78, \"trip_first_departure_ts\": 32700, \"trip_last_arrival_ts\": 35520, \"departure_hour\": 9, \"time_of_day\": \"AM Peak\", \"p25\": 0.78, \"p50\": 0.78, \"p75\": 0.78, \"p50_trip\": 1, \"fastest_trip\": 0, \"car_duration_hours\": 0.51, \"competitive_route\": 1, \"bus_multiplier\": 1.53, \"bus_difference\": 16.2, \"num_trips\": 8, \"num_competitive\": 8, \"pct_trips_competitive\": 1.0, \"bus_difference_spread\": 0.0, \"route_group\": \"short\", \"max_trip_hrs\": 0.78, \"max_trip_route_group\": 0.78, \"name\": \"City of Solvang\", \"caltrans_district\": \"05 - San Luis Obispo\", \"drmt_organization_name\": null, \"cutoff2\": 20, \"cutoff\": 0}, {\"calitp_itp_id\": 312, \"trip_key\": 3295111670444333866, \"trip_id\": \"ROUTEB|11219343:T4|11:05:00\", \"shape_id\": \"ROUTEB:1\", \"route_id\": \"ROUTEB\", \"service_hours\": 0.78, \"trip_first_departure_ts\": 39900, \"trip_last_arrival_ts\": 42720, \"departure_hour\": 11, \"time_of_day\": \"Midday\", \"p25\": 0.78, \"p50\": 0.78, \"p75\": 0.78, \"p50_trip\": 1, \"fastest_trip\": 0, \"car_duration_hours\": 0.51, \"competitive_route\": 1, \"bus_multiplier\": 1.53, \"bus_difference\": 16.2, \"num_trips\": 8, \"num_competitive\": 8, \"pct_trips_competitive\": 1.0, \"bus_difference_spread\": 0.0, \"route_group\": \"short\", \"max_trip_hrs\": 0.78, \"max_trip_route_group\": 0.78, \"name\": \"City of Solvang\", \"caltrans_district\": \"05 - San Luis Obispo\", \"drmt_organization_name\": null, \"cutoff2\": 20, \"cutoff\": 0}, {\"calitp_itp_id\": 312, \"trip_key\": 8127507068313298348, \"trip_id\": \"ROUTEB|11219343:T8|17:35:00\", \"shape_id\": \"ROUTEB:1\", \"route_id\": \"ROUTEB\", \"service_hours\": 0.78, \"trip_first_departure_ts\": 63300, \"trip_last_arrival_ts\": 66120, \"departure_hour\": 17, \"time_of_day\": \"PM Peak\", \"p25\": 0.78, \"p50\": 0.78, \"p75\": 0.78, \"p50_trip\": 1, \"fastest_trip\": 1, \"car_duration_hours\": 0.51, \"competitive_route\": 1, \"bus_multiplier\": 1.53, \"bus_difference\": 16.2, \"num_trips\": 8, \"num_competitive\": 8, \"pct_trips_competitive\": 1.0, \"bus_difference_spread\": 0.0, \"route_group\": \"short\", \"max_trip_hrs\": 0.78, \"max_trip_route_group\": 0.78, \"name\": \"City of Solvang\", \"caltrans_district\": \"05 - San Luis Obispo\", \"drmt_organization_name\": null, \"cutoff2\": 20, \"cutoff\": 0}]}}, {\"mode\": \"vega-lite\"});\n",
       "</script>"
      ],
      "text/plain": [
       "alt.FacetChart(...)"
      ]
     },
     "metadata": {},
     "output_type": "display_data"
    }
   ],
   "source": [
    "# Allow for possibility that operator doesn't have routes that fall into certain route_groups\n",
    "# But, jupyterbook will not like markdown with f-string\n",
    "# separate out route_group and put in each cell, and use try/except + if to display...\n",
    "# but all 3 route groups must be displayed. just add sentence about why no routes were returned at the end\n",
    "route_group = \"short\"\n",
    "try:\n",
    "    display_charts_for_route_group(df, route_group)\n",
    "except:\n",
    "    print(\"No routes meet this criteria.\")"
   ]
  },
  {
   "cell_type": "markdown",
   "id": "c2931b6f-034d-4384-9e14-80b925e3b820",
   "metadata": {
    "papermill": {
     "duration": 0.017008,
     "end_time": "2022-05-09T16:55:14.024274",
     "exception": false,
     "start_time": "2022-05-09T16:55:14.007266",
     "status": "completed"
    },
    "tags": []
   },
   "source": [
    "### Medium Routes (1-1.5 hrs)"
   ]
  },
  {
   "cell_type": "code",
   "execution_count": 14,
   "id": "480edddc-4de0-48c2-ae4c-b0ceef8f28b5",
   "metadata": {
    "execution": {
     "iopub.execute_input": "2022-05-09T16:55:14.059775Z",
     "iopub.status.busy": "2022-05-09T16:55:14.059430Z",
     "iopub.status.idle": "2022-05-09T16:55:14.074325Z",
     "shell.execute_reply": "2022-05-09T16:55:14.073376Z"
    },
    "jupyter": {
     "source_hidden": true
    },
    "papermill": {
     "duration": 0.035474,
     "end_time": "2022-05-09T16:55:14.076321",
     "exception": false,
     "start_time": "2022-05-09T16:55:14.040847",
     "status": "completed"
    },
    "tags": [
     "remove_input"
    ]
   },
   "outputs": [
    {
     "name": "stdout",
     "output_type": "stream",
     "text": [
      "No routes meet this criteria.\n"
     ]
    }
   ],
   "source": [
    "route_group = \"medium\"\n",
    "try:\n",
    "    display_charts_for_route_group(df, route_group)\n",
    "except:\n",
    "    print(\"No routes meet this criteria.\")"
   ]
  },
  {
   "cell_type": "markdown",
   "id": "124b76d0-886c-4d03-92ac-f1bda3cda182",
   "metadata": {
    "papermill": {
     "duration": 0.032634,
     "end_time": "2022-05-09T16:55:14.128313",
     "exception": false,
     "start_time": "2022-05-09T16:55:14.095679",
     "status": "completed"
    },
    "tags": []
   },
   "source": [
    "### Long Routes (> 1.5 hrs)"
   ]
  },
  {
   "cell_type": "code",
   "execution_count": 15,
   "id": "ddc81b19-4c45-4c81-8b7a-5e0f394aa7a3",
   "metadata": {
    "execution": {
     "iopub.execute_input": "2022-05-09T16:55:14.172934Z",
     "iopub.status.busy": "2022-05-09T16:55:14.172118Z",
     "iopub.status.idle": "2022-05-09T16:55:14.188396Z",
     "shell.execute_reply": "2022-05-09T16:55:14.187388Z"
    },
    "jupyter": {
     "source_hidden": true
    },
    "papermill": {
     "duration": 0.04411,
     "end_time": "2022-05-09T16:55:14.191788",
     "exception": false,
     "start_time": "2022-05-09T16:55:14.147678",
     "status": "completed"
    },
    "tags": [
     "remove_input"
    ]
   },
   "outputs": [
    {
     "name": "stdout",
     "output_type": "stream",
     "text": [
      "No routes meet this criteria.\n"
     ]
    }
   ],
   "source": [
    "route_group = \"long\"\n",
    "try:\n",
    "    display_charts_for_route_group(df, route_group)\n",
    "except:\n",
    "    print(\"No routes meet this criteria.\")"
   ]
  },
  {
   "cell_type": "markdown",
   "id": "ace75b5f-0442-4fbe-aebd-6c3a13ae13a7",
   "metadata": {
    "papermill": {
     "duration": 0.01695,
     "end_time": "2022-05-09T16:55:14.236485",
     "exception": false,
     "start_time": "2022-05-09T16:55:14.219535",
     "status": "completed"
    },
    "tags": []
   },
   "source": [
    "### GTFS Real-Time Speedmaps"
   ]
  },
  {
   "cell_type": "code",
   "execution_count": 16,
   "id": "3f06fdc4-d5a8-41f5-9b72-ed7e8a2dd2fc",
   "metadata": {
    "execution": {
     "iopub.execute_input": "2022-05-09T16:55:14.273458Z",
     "iopub.status.busy": "2022-05-09T16:55:14.272754Z",
     "iopub.status.idle": "2022-05-09T16:55:14.329810Z",
     "shell.execute_reply": "2022-05-09T16:55:14.328897Z"
    },
    "jupyter": {
     "source_hidden": true
    },
    "papermill": {
     "duration": 0.078987,
     "end_time": "2022-05-09T16:55:14.332395",
     "exception": false,
     "start_time": "2022-05-09T16:55:14.253408",
     "status": "completed"
    },
    "tags": [
     "remove_input"
    ]
   },
   "outputs": [
    {
     "data": {
      "text/html": [
       "No GTFS RT data available."
      ],
      "text/plain": [
       "<IPython.core.display.HTML object>"
      ]
     },
     "metadata": {},
     "output_type": "display_data"
    }
   ],
   "source": [
    "PORTFOLIO_SITE_YAML = \"../portfolio/analyses.yml\"\n",
    "\n",
    "# Grab list of ITP IDs with GTFS RT speedmaps\n",
    "rt_itp_id = deploy_portfolio_yaml.check_if_rt_data_available(PORTFOLIO_SITE_YAML)\n",
    "\n",
    "# Construct the URL \n",
    "RT_URL = (\"https://analysis.calitp.org/rt/\"\n",
    "          f\"district_{district_number}-{district_name}/\"\n",
    "          f\"speedmaps__itp_id_{itp_id}.html\"\n",
    "         ) \n",
    "\n",
    "if itp_id in rt_itp_id:\n",
    "    display(HTML('<a href=RT_URL>GTFS RT speedmaps here.</a>'))\n",
    "else:\n",
    "    display(HTML(\"No GTFS RT data available.\"))"
   ]
  },
  {
   "cell_type": "code",
   "execution_count": null,
   "id": "4664fe87-4e5e-4414-9602-a5c9c2a14072",
   "metadata": {
    "jupyter": {
     "source_hidden": true
    },
    "papermill": {
     "duration": 0.019808,
     "end_time": "2022-05-09T16:55:14.370498",
     "exception": false,
     "start_time": "2022-05-09T16:55:14.350690",
     "status": "completed"
    },
    "tags": [
     "remove_input"
    ]
   },
   "outputs": [],
   "source": []
  }
 ],
 "metadata": {
  "kernelspec": {
   "display_name": "Python 3 (ipykernel)",
   "language": "python",
   "name": "python3"
  },
  "language_info": {
   "codemirror_mode": {
    "name": "ipython",
    "version": 3
   },
   "file_extension": ".py",
   "mimetype": "text/x-python",
   "name": "python",
   "nbconvert_exporter": "python",
   "pygments_lexer": "ipython3",
   "version": "3.9.12"
  },
  "papermill": {
   "default_parameters": {},
   "duration": 28.100989,
   "end_time": "2022-05-09T16:55:16.728869",
   "environment_variables": {},
   "exception": null,
   "input_path": "bus_service_increase/competitive-parallel-routes.ipynb",
   "output_path": "portfolio/parallel_corridors/district_05-san-luis-obispo/competitive-parallel-routes__itp_id_312.ipynb",
   "parameters": {
    "district": "05 - San Luis Obispo",
    "itp_id": 312
   },
   "start_time": "2022-05-09T16:54:48.627880",
   "version": "2.3.4"
  }
 },
 "nbformat": 4,
 "nbformat_minor": 5
}