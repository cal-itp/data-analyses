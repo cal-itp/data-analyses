{
 "cells": [
  {
   "cell_type": "code",
   "execution_count": 1,
   "id": "95d00857-6a20-4529-a519-2cc7182928a9",
   "metadata": {
    "execution": {
     "iopub.execute_input": "2022-05-08T15:57:51.233897Z",
     "iopub.status.busy": "2022-05-08T15:57:51.233364Z",
     "iopub.status.idle": "2022-05-08T15:57:59.101747Z",
     "shell.execute_reply": "2022-05-08T15:57:59.100751Z"
    },
    "jupyter": {
     "source_hidden": true
    },
    "papermill": {
     "duration": 7.883002,
     "end_time": "2022-05-08T15:57:59.104167",
     "exception": false,
     "start_time": "2022-05-08T15:57:51.221165",
     "status": "completed"
    },
    "tags": [
     "remove_input"
    ]
   },
   "outputs": [],
   "source": [
    "%%capture\n",
    "import warnings\n",
    "warnings.filterwarnings('ignore')\n",
    "\n",
    "import altair as alt\n",
    "import calitp.magics\n",
    "import geopandas as gpd\n",
    "import intake\n",
    "import pandas as pd\n",
    "\n",
    "from IPython.display import display, Markdown, HTML\n",
    "\n",
    "import parallel_corridors_utils\n",
    "from shared_utils import styleguide\n",
    "\n",
    "catalog = intake.open_catalog(\"./*.yml\")\n",
    "alt.renderers.enable(\"html\")"
   ]
  },
  {
   "cell_type": "code",
   "execution_count": 2,
   "id": "8af2a0c1-f3da-408d-9bea-11d9fbf8695d",
   "metadata": {
    "execution": {
     "iopub.execute_input": "2022-05-08T15:57:59.129444Z",
     "iopub.status.busy": "2022-05-08T15:57:59.129188Z",
     "iopub.status.idle": "2022-05-08T15:57:59.133383Z",
     "shell.execute_reply": "2022-05-08T15:57:59.132415Z"
    },
    "jupyter": {
     "source_hidden": true
    },
    "papermill": {
     "duration": 0.019604,
     "end_time": "2022-05-08T15:57:59.136438",
     "exception": false,
     "start_time": "2022-05-08T15:57:59.116834",
     "status": "completed"
    },
    "tags": [
     "parameters",
     "remove_input"
    ]
   },
   "outputs": [],
   "source": [
    "# parameters cell\n",
    "itp_id = 182"
   ]
  },
  {
   "cell_type": "code",
   "execution_count": 3,
   "id": "b1d20b26",
   "metadata": {
    "execution": {
     "iopub.execute_input": "2022-05-08T15:57:59.157994Z",
     "iopub.status.busy": "2022-05-08T15:57:59.157751Z",
     "iopub.status.idle": "2022-05-08T15:57:59.161291Z",
     "shell.execute_reply": "2022-05-08T15:57:59.160561Z"
    },
    "jupyter": {
     "source_hidden": true
    },
    "papermill": {
     "duration": 0.016521,
     "end_time": "2022-05-08T15:57:59.162947",
     "exception": false,
     "start_time": "2022-05-08T15:57:59.146426",
     "status": "completed"
    },
    "tags": [
     "injected-parameters",
     "remove_input"
    ]
   },
   "outputs": [],
   "source": [
    "# Parameters\n",
    "district = \"05 - San Luis Obispo\"\n",
    "itp_id = 169\n"
   ]
  },
  {
   "cell_type": "code",
   "execution_count": 4,
   "id": "9582aaf4-79ff-412a-b248-8d8d693ebd4f",
   "metadata": {
    "execution": {
     "iopub.execute_input": "2022-05-08T15:57:59.183347Z",
     "iopub.status.busy": "2022-05-08T15:57:59.182742Z",
     "iopub.status.idle": "2022-05-08T15:58:00.367269Z",
     "shell.execute_reply": "2022-05-08T15:58:00.366408Z"
    },
    "jupyter": {
     "source_hidden": true
    },
    "papermill": {
     "duration": 1.197295,
     "end_time": "2022-05-08T15:58:00.369607",
     "exception": false,
     "start_time": "2022-05-08T15:57:59.172312",
     "status": "completed"
    },
    "tags": [
     "remove_input"
    ]
   },
   "outputs": [],
   "source": [
    "df = catalog.competitive_route_variability.read()\n",
    "\n",
    "df = (df[(df.calitp_itp_id == itp_id) & \n",
    "         (df.route_group.notna())]\n",
    "      .reset_index(drop=True)\n",
    "     )\n",
    "\n",
    "\n",
    "if itp_id == 182:\n",
    "    df = df.assign(\n",
    "        route_id = df.route_id.str.replace('-13153', '').astype(int)\n",
    "    )"
   ]
  },
  {
   "cell_type": "code",
   "execution_count": 5,
   "id": "33ac4b06-f647-4dce-a625-8f2c1b37cc60",
   "metadata": {
    "execution": {
     "iopub.execute_input": "2022-05-08T15:58:00.391721Z",
     "iopub.status.busy": "2022-05-08T15:58:00.391129Z",
     "iopub.status.idle": "2022-05-08T15:58:00.398321Z",
     "shell.execute_reply": "2022-05-08T15:58:00.397430Z"
    },
    "jupyter": {
     "source_hidden": true
    },
    "papermill": {
     "duration": 0.0201,
     "end_time": "2022-05-08T15:58:00.400113",
     "exception": false,
     "start_time": "2022-05-08T15:58:00.380013",
     "status": "completed"
    },
    "tags": [
     "remove_input"
    ]
   },
   "outputs": [],
   "source": [
    "%%capture_parameters\n",
    "operator_name = df.name.iloc[0]\n",
    "\n",
    "itp_id, operator_name"
   ]
  },
  {
   "cell_type": "markdown",
   "id": "65bc6f5c-8348-42ee-b2dd-52057c406852",
   "metadata": {
    "papermill": {
     "duration": 0.010241,
     "end_time": "2022-05-08T15:58:00.421224",
     "exception": false,
     "start_time": "2022-05-08T15:58:00.410983",
     "status": "completed"
    },
    "tags": []
   },
   "source": [
    "# City of Lompoc (ITP ID: 169)"
   ]
  },
  {
   "cell_type": "code",
   "execution_count": 6,
   "id": "a689c1ab-2c6c-4831-8d64-897f5986f571",
   "metadata": {
    "execution": {
     "iopub.execute_input": "2022-05-08T15:58:00.443203Z",
     "iopub.status.busy": "2022-05-08T15:58:00.442948Z",
     "iopub.status.idle": "2022-05-08T15:58:00.449080Z",
     "shell.execute_reply": "2022-05-08T15:58:00.448580Z"
    },
    "jupyter": {
     "source_hidden": true
    },
    "papermill": {
     "duration": 0.01958,
     "end_time": "2022-05-08T15:58:00.450706",
     "exception": false,
     "start_time": "2022-05-08T15:58:00.431126",
     "status": "completed"
    },
    "tags": [
     "remove_input"
    ]
   },
   "outputs": [
    {
     "data": {
      "text/html": [
       "<h1>Competitive & Parallel Routes</h1>"
      ],
      "text/plain": [
       "<IPython.core.display.HTML object>"
      ]
     },
     "metadata": {},
     "output_type": "display_data"
    }
   ],
   "source": [
    "display(HTML(\"<h1>Competitive & Parallel Routes</h1>\")) "
   ]
  },
  {
   "cell_type": "code",
   "execution_count": 7,
   "id": "2cb4d8d5-4760-40e4-85b1-cb833d8bb648",
   "metadata": {
    "execution": {
     "iopub.execute_input": "2022-05-08T15:58:00.473014Z",
     "iopub.status.busy": "2022-05-08T15:58:00.472573Z",
     "iopub.status.idle": "2022-05-08T15:58:10.450582Z",
     "shell.execute_reply": "2022-05-08T15:58:10.449965Z"
    },
    "jupyter": {
     "source_hidden": true
    },
    "papermill": {
     "duration": 9.991577,
     "end_time": "2022-05-08T15:58:10.452642",
     "exception": false,
     "start_time": "2022-05-08T15:58:00.461065",
     "status": "completed"
    },
    "tags": [
     "remove_input"
    ]
   },
   "outputs": [],
   "source": [
    "# Grab parameters for narrative text - clean up formatting here \n",
    "district = df.caltrans_district.iloc[0]\n",
    "formatted_date = pd.to_datetime(parallel_corridors_utils.SELECTED_DATE).strftime('%m-%d-%Y')\n",
    "\n",
    "PCT_COMPETITIVE_THRESHOLD = 0.75\n",
    "\n",
    "stats = parallel_corridors_utils.operator_parallel_competitive_stats(\n",
    "    itp_id, PCT_COMPETITIVE_THRESHOLD)\n",
    "\n",
    "pct_parallel = round(stats['parallel_routes'] / stats['num_routes'] * 100,1 )\n",
    "pct_competitive =  round(stats['competitive_routes'] / stats['num_routes'] * 100,1 )"
   ]
  },
  {
   "cell_type": "markdown",
   "id": "ab667928-5274-4490-82d9-4c39293209a4",
   "metadata": {
    "papermill": {
     "duration": 0.010812,
     "end_time": "2022-05-08T15:58:10.474895",
     "exception": false,
     "start_time": "2022-05-08T15:58:10.464083",
     "status": "completed"
    },
    "tags": []
   },
   "source": [
    "## Quick Stats"
   ]
  },
  {
   "cell_type": "code",
   "execution_count": 8,
   "id": "0416509d-dc62-4165-b62e-64f8b26e8b8e",
   "metadata": {
    "execution": {
     "iopub.execute_input": "2022-05-08T15:58:10.498287Z",
     "iopub.status.busy": "2022-05-08T15:58:10.497806Z",
     "iopub.status.idle": "2022-05-08T15:58:10.503797Z",
     "shell.execute_reply": "2022-05-08T15:58:10.503281Z"
    },
    "jupyter": {
     "source_hidden": true
    },
    "papermill": {
     "duration": 0.019748,
     "end_time": "2022-05-08T15:58:10.505376",
     "exception": false,
     "start_time": "2022-05-08T15:58:10.485628",
     "status": "completed"
    },
    "tags": [
     "remove_input"
    ]
   },
   "outputs": [
    {
     "data": {
      "text/markdown": [
       "**Bus routes in service**: 6 <br>**Parallel routes** to State Highway Network (SHN): 6 routes (100.0%)<br>**Competitive routes** against car travel: 2 routes (33.3%)"
      ],
      "text/plain": [
       "<IPython.core.display.Markdown object>"
      ]
     },
     "metadata": {},
     "output_type": "display_data"
    }
   ],
   "source": [
    "display(\n",
    "    Markdown(\n",
    "        f\"**Bus routes in service**: {stats['num_routes']} \"\n",
    "        \"<br>**Parallel routes** to State Highway Network (SHN): \"\n",
    "        f\"{stats['parallel_routes']} routes ({pct_parallel}%)\"\n",
    "        f\"<br>**Competitive routes** against car travel: {stats['competitive_routes']} routes ({pct_competitive}%)\"\n",
    "    )\n",
    ")"
   ]
  },
  {
   "cell_type": "code",
   "execution_count": 9,
   "id": "f9d6ab58-f0ee-460c-b6de-657490e1f386",
   "metadata": {
    "execution": {
     "iopub.execute_input": "2022-05-08T15:58:10.530130Z",
     "iopub.status.busy": "2022-05-08T15:58:10.529639Z",
     "iopub.status.idle": "2022-05-08T15:58:10.538157Z",
     "shell.execute_reply": "2022-05-08T15:58:10.537674Z"
    },
    "jupyter": {
     "source_hidden": true
    },
    "papermill": {
     "duration": 0.023623,
     "end_time": "2022-05-08T15:58:10.539874",
     "exception": false,
     "start_time": "2022-05-08T15:58:10.516251",
     "status": "completed"
    },
    "tags": [
     "remove_input"
    ]
   },
   "outputs": [],
   "source": [
    "def set_yaxis_range(df, y_col):\n",
    "    Y_MIN = df[y_col].min()\n",
    "    Y_MAX = df[y_col].max()\n",
    "    \n",
    "    return Y_MIN, Y_MAX\n",
    "\n",
    "# Rather than set it according to the operator, which can vary,\n",
    "# just use set thresholds for each group\n",
    "diff_cutoffs = parallel_corridors_utils.diff_cutoffs\n",
    "\n",
    "PCT_TRIPS_BELOW_CUTOFF = 0.25\n",
    "\n",
    "def top15_routes(df, route_group):\n",
    "    df2 = (df[df.route_group==route_group])\n",
    "    # Set a cut-off to enable sorting, where most of the trips are \n",
    "    # below a certain time difference cut-off, \n",
    "    # grab top 15 routes where majority of trips are below that cut-off \n",
    "\n",
    "    route_cols = [\"calitp_itp_id\", \"route_id\"]\n",
    "\n",
    "    df2 = df2.assign(\n",
    "        below_cutoff = df2.apply(lambda x: 1 if x.bus_difference <= diff_cutoffs[route_group] \n",
    "                                 else 0, axis=1),\n",
    "        num_trips = df2.groupby(route_cols)[\"trip_id\"].transform(\"count\")\n",
    "    )\n",
    "\n",
    "    df2[\"below_cutoff\"] = df2.groupby(route_cols)[\"below_cutoff\"].transform(\"sum\")\n",
    "    df2[\"pct_below_cutoff\"] = df2.below_cutoff.divide(df2.num_trips)\n",
    "\n",
    "    # At least half the trips are below that cut-off\n",
    "    # but show 15 max, otherwise, show less, since these won't be as interesting to operators\n",
    "    df3 = (df2[df2.pct_below_cutoff >= PCT_TRIPS_BELOW_CUTOFF]\n",
    "           .sort_values([\"calitp_itp_id\", \"below_cutoff\", \n",
    "                         \"pct_below_cutoff\", \"route_id\"],\n",
    "                        ascending = [True, False, False, True]\n",
    "                       )\n",
    "           .drop_duplicates(subset=[\"calitp_itp_id\", \"route_id\"])\n",
    "          ).head(15)\n",
    "    \n",
    "    return list(df3.route_id)"
   ]
  },
  {
   "cell_type": "code",
   "execution_count": 10,
   "id": "cf36d559-3349-4144-8086-8ac9ce937a5a",
   "metadata": {
    "execution": {
     "iopub.execute_input": "2022-05-08T15:58:10.565641Z",
     "iopub.status.busy": "2022-05-08T15:58:10.565114Z",
     "iopub.status.idle": "2022-05-08T15:58:10.570628Z",
     "shell.execute_reply": "2022-05-08T15:58:10.570047Z"
    },
    "jupyter": {
     "source_hidden": true
    },
    "papermill": {
     "duration": 0.021255,
     "end_time": "2022-05-08T15:58:10.572363",
     "exception": false,
     "start_time": "2022-05-08T15:58:10.551108",
     "status": "completed"
    },
    "tags": [
     "remove_input"
    ]
   },
   "outputs": [],
   "source": [
    "short_caption = (\n",
    "    f\"<br>These are routes that have at least {int(PCT_TRIPS_BELOW_CUTOFF*100)}% of their trips \"\n",
    "    f\"take no more than an additional {diff_cutoffs['short']} min compared to a car \"\n",
    "    \"(up to 15 routes) are shown.\"\n",
    ")\n",
    "\n",
    "med_caption = (\n",
    "    f\"<br>These are routes that have at least {int(PCT_TRIPS_BELOW_CUTOFF*100)}% of their trips \"\n",
    "    f\"take no more than an additional {diff_cutoffs['medium']} min compared to a car \"\n",
    "    \"(up to 15 routes) are shown.\"\n",
    ")\n",
    "\n",
    "long_caption = (\n",
    "    f\"<br>These are routes that have at least {int(PCT_TRIPS_BELOW_CUTOFF*100)}% of their trips \"\n",
    "    f\"take no more than an additional {diff_cutoffs['long']} min compared to a car \"\n",
    "    \"(up to 15 routes) are shown.\")\n",
    "\n",
    "\n",
    "CAPTIONS_DICT = {\n",
    "    \"short\": short_caption,\n",
    "    \"medium\": med_caption,\n",
    "    \"long\": long_caption,\n",
    "}"
   ]
  },
  {
   "cell_type": "code",
   "execution_count": 11,
   "id": "e4306d58-6944-47e9-afef-5d5b524c751f",
   "metadata": {
    "execution": {
     "iopub.execute_input": "2022-05-08T15:58:10.598359Z",
     "iopub.status.busy": "2022-05-08T15:58:10.597901Z",
     "iopub.status.idle": "2022-05-08T15:58:10.608762Z",
     "shell.execute_reply": "2022-05-08T15:58:10.603456Z"
    },
    "jupyter": {
     "source_hidden": true
    },
    "papermill": {
     "duration": 0.025638,
     "end_time": "2022-05-08T15:58:10.610498",
     "exception": false,
     "start_time": "2022-05-08T15:58:10.584860",
     "status": "completed"
    },
    "tags": [
     "remove_input"
    ]
   },
   "outputs": [],
   "source": [
    "def setup_charts(df, PCT_COMPETITIVE_THRESHOLD, route_group):\n",
    "    # Set up df for charting (cut-off at some threshold to show most competitive routes)\n",
    "    plot_me = (df[df.pct_trips_competitive > PCT_COMPETITIVE_THRESHOLD]\n",
    "           .drop(columns = \"geometry\")\n",
    "    )\n",
    "    \n",
    "    y_col1 = \"bus_multiplier\"\n",
    "    Y_MIN1, Y_MAX1 = set_yaxis_range(plot_me, y_col1)\n",
    "\n",
    "    y_col2 = \"bus_difference\"\n",
    "    Y_MIN2, Y_MAX2 = set_yaxis_range(plot_me, y_col2)\n",
    "     \n",
    "    subset_routes = top15_routes(plot_me, route_group)\n",
    "    \n",
    "    multiplier_chart = parallel_corridors_utils.make_stripplot(\n",
    "        plot_me[plot_me.route_id.isin(subset_routes)], \n",
    "        y_col1, Y_MIN = Y_MIN1, Y_MAX = Y_MAX1\n",
    "    )\n",
    "    \n",
    "    difference_chart = parallel_corridors_utils.make_stripplot(\n",
    "        plot_me[plot_me.route_id.isin(subset_routes)], \n",
    "        y_col2, Y_MIN = Y_MIN2, Y_MAX = Y_MAX2\n",
    "    )\n",
    "    \n",
    "    return subset_routes, multiplier_chart, difference_chart            "
   ]
  },
  {
   "cell_type": "markdown",
   "id": "525f9b38-072b-46d1-96a8-1aa4b038357c",
   "metadata": {
    "papermill": {
     "duration": 0.011171,
     "end_time": "2022-05-08T15:58:10.633072",
     "exception": false,
     "start_time": "2022-05-08T15:58:10.621901",
     "status": "completed"
    },
    "tags": []
   },
   "source": [
    "## Viable Competitive Routes\n",
    "### Short Routes (< 1 hr)"
   ]
  },
  {
   "cell_type": "code",
   "execution_count": 12,
   "id": "57f7084c-2cf7-45c6-ba08-1609e0bd6ca5",
   "metadata": {
    "execution": {
     "iopub.execute_input": "2022-05-08T15:58:10.656671Z",
     "iopub.status.busy": "2022-05-08T15:58:10.656227Z",
     "iopub.status.idle": "2022-05-08T15:58:10.929289Z",
     "shell.execute_reply": "2022-05-08T15:58:10.928409Z"
    },
    "jupyter": {
     "source_hidden": true
    },
    "papermill": {
     "duration": 0.287204,
     "end_time": "2022-05-08T15:58:10.931173",
     "exception": false,
     "start_time": "2022-05-08T15:58:10.643969",
     "status": "completed"
    },
    "tags": [
     "remove_input"
    ]
   },
   "outputs": [
    {
     "data": {
      "text/markdown": [
       "<br>These are routes that have at least 25% of their trips take no more than an additional 20 min compared to a car (up to 15 routes) are shown.Within each route group, routes are sorted in descending order by % competitive trips and # trips below the additional time cut-off."
      ],
      "text/plain": [
       "<IPython.core.display.Markdown object>"
      ]
     },
     "metadata": {},
     "output_type": "display_data"
    },
    {
     "data": {
      "text/html": [
       "\n",
       "<div id=\"altair-viz-b7ea7dffd4eb4db983ed01a9314921f7\"></div>\n",
       "<script type=\"text/javascript\">\n",
       "  var VEGA_DEBUG = (typeof VEGA_DEBUG == \"undefined\") ? {} : VEGA_DEBUG;\n",
       "  (function(spec, embedOpt){\n",
       "    let outputDiv = document.currentScript.previousElementSibling;\n",
       "    if (outputDiv.id !== \"altair-viz-b7ea7dffd4eb4db983ed01a9314921f7\") {\n",
       "      outputDiv = document.getElementById(\"altair-viz-b7ea7dffd4eb4db983ed01a9314921f7\");\n",
       "    }\n",
       "    const paths = {\n",
       "      \"vega\": \"https://cdn.jsdelivr.net/npm//vega@5?noext\",\n",
       "      \"vega-lib\": \"https://cdn.jsdelivr.net/npm//vega-lib?noext\",\n",
       "      \"vega-lite\": \"https://cdn.jsdelivr.net/npm//vega-lite@4.17.0?noext\",\n",
       "      \"vega-embed\": \"https://cdn.jsdelivr.net/npm//vega-embed@6?noext\",\n",
       "    };\n",
       "\n",
       "    function maybeLoadScript(lib, version) {\n",
       "      var key = `${lib.replace(\"-\", \"\")}_version`;\n",
       "      return (VEGA_DEBUG[key] == version) ?\n",
       "        Promise.resolve(paths[lib]) :\n",
       "        new Promise(function(resolve, reject) {\n",
       "          var s = document.createElement('script');\n",
       "          document.getElementsByTagName(\"head\")[0].appendChild(s);\n",
       "          s.async = true;\n",
       "          s.onload = () => {\n",
       "            VEGA_DEBUG[key] = version;\n",
       "            return resolve(paths[lib]);\n",
       "          };\n",
       "          s.onerror = () => reject(`Error loading script: ${paths[lib]}`);\n",
       "          s.src = paths[lib];\n",
       "        });\n",
       "    }\n",
       "\n",
       "    function showError(err) {\n",
       "      outputDiv.innerHTML = `<div class=\"error\" style=\"color:red;\">${err}</div>`;\n",
       "      throw err;\n",
       "    }\n",
       "\n",
       "    function displayChart(vegaEmbed) {\n",
       "      vegaEmbed(outputDiv, spec, embedOpt)\n",
       "        .catch(err => showError(`Javascript Error: ${err.message}<br>This usually means there's a typo in your chart specification. See the javascript console for the full traceback.`));\n",
       "    }\n",
       "\n",
       "    if(typeof define === \"function\" && define.amd) {\n",
       "      requirejs.config({paths});\n",
       "      require([\"vega-embed\"], displayChart, err => showError(`Error loading script: ${err.message}`));\n",
       "    } else {\n",
       "      maybeLoadScript(\"vega\", \"5\")\n",
       "        .then(() => maybeLoadScript(\"vega-lite\", \"4.17.0\"))\n",
       "        .then(() => maybeLoadScript(\"vega-embed\", \"6\"))\n",
       "        .catch(showError)\n",
       "        .then(() => displayChart(vegaEmbed));\n",
       "    }\n",
       "  })({\"config\": {\"view\": {\"continuousWidth\": 400, \"continuousHeight\": 300, \"stroke\": null}, \"facet\": {\"spacing\": 0}}, \"data\": {\"name\": \"data-9becced744aa04d4d682ed28c1d2c12c\"}, \"facet\": {\"column\": {\"field\": \"route_id\", \"sort\": [\"4\"], \"title\": \"Route ID\", \"type\": \"nominal\"}}, \"spec\": {\"layer\": [{\"mark\": {\"type\": \"point\", \"opacity\": 0.65, \"size\": 12, \"strokeWidth\": 1.1}, \"encoding\": {\"color\": {\"field\": \"time_of_day\", \"scale\": {\"range\": [\"#136C97\", \"#E16B26\", \"#F6BF16\", \"#00896B\", \"#7790A3\", \"#5B559C\"]}, \"sort\": [\"AM Peak\", \"Midday\", \"PM Peak\", \"Owl Service\"], \"title\": \"Time of Day\", \"type\": \"nominal\"}, \"tooltip\": [{\"field\": \"route_id\", \"type\": \"nominal\"}, {\"field\": \"trip_id\", \"type\": \"nominal\"}, {\"field\": \"service_hours\", \"type\": \"quantitative\"}, {\"field\": \"car_duration_hours\", \"type\": \"quantitative\"}, {\"field\": \"bus_multiplier\", \"type\": \"quantitative\"}, {\"field\": \"bus_difference\", \"type\": \"quantitative\"}, {\"field\": \"num_trips\", \"type\": \"quantitative\"}, {\"field\": \"num_competitive\", \"type\": \"quantitative\"}, {\"field\": \"pct_trips_competitive\", \"type\": \"quantitative\"}, {\"field\": \"p25\", \"type\": \"quantitative\"}, {\"field\": \"p50\", \"type\": \"quantitative\"}, {\"field\": \"p75\", \"type\": \"quantitative\"}], \"x\": {\"axis\": {\"grid\": false, \"labels\": false, \"ticks\": true, \"values\": [0]}, \"field\": \"jitter\", \"scale\": {}, \"title\": null, \"type\": \"quantitative\"}, \"y\": {\"field\": \"bus_multiplier\", \"scale\": {\"domain\": [-0.25, 2.5]}, \"title\": \"Ratio of Bus to Car Travel Time\", \"type\": \"quantitative\"}}, \"selection\": {\"selector001\": {\"type\": \"interval\", \"bind\": \"scales\", \"encodings\": [\"x\", \"y\"]}}, \"transform\": [{\"calculate\": \"sqrt(-2*log(random()))*cos(2*PI*random())\", \"as\": \"jitter\"}], \"width\": 60}, {\"layer\": [{\"mark\": {\"type\": \"point\", \"opacity\": 0.6, \"size\": 20, \"strokeWidth\": 1.3}, \"encoding\": {\"color\": {\"value\": \"#323434\"}, \"y\": {\"field\": \"bus_multiplier\", \"type\": \"quantitative\"}}, \"transform\": [{\"filter\": \"(datum.p50_trip === 1)\"}]}, {\"mark\": {\"type\": \"rule\", \"strokeDash\": [2, 3]}, \"encoding\": {\"color\": {\"value\": \"#323434\"}, \"y\": {\"field\": \"cutoff\", \"type\": \"quantitative\"}}}, {\"mark\": {\"type\": \"text\", \"align\": \"center\", \"baseline\": \"middle\"}, \"encoding\": {\"color\": {\"value\": \"black\"}, \"text\": {\"field\": \"pct_trips_competitive\", \"format\": \".0%\", \"type\": \"quantitative\"}, \"tooltip\": [{\"field\": \"route_id\", \"type\": \"nominal\"}, {\"field\": \"trip_id\", \"type\": \"nominal\"}, {\"field\": \"service_hours\", \"type\": \"quantitative\"}, {\"field\": \"car_duration_hours\", \"type\": \"quantitative\"}, {\"field\": \"bus_multiplier\", \"type\": \"quantitative\"}, {\"field\": \"bus_difference\", \"type\": \"quantitative\"}, {\"field\": \"num_trips\", \"type\": \"quantitative\"}, {\"field\": \"num_competitive\", \"type\": \"quantitative\"}, {\"field\": \"pct_trips_competitive\", \"type\": \"quantitative\"}, {\"field\": \"p25\", \"type\": \"quantitative\"}, {\"field\": \"p50\", \"type\": \"quantitative\"}, {\"field\": \"p75\", \"type\": \"quantitative\"}], \"x\": {\"value\": 30}, \"y\": {\"value\": 15}}, \"transform\": [{\"calculate\": \"sqrt(-2*log(random()))*cos(2*PI*random())\", \"as\": \"jitter\"}, {\"filter\": \"(datum.fastest_trip === 1)\"}]}]}]}, \"resolve\": {\"scale\": {\"y\": \"shared\"}}, \"title\": \"Ratio of Bus to Car Travel Time\", \"$schema\": \"https://vega.github.io/schema/vega-lite/v4.17.0.json\", \"datasets\": {\"data-9becced744aa04d4d682ed28c1d2c12c\": [{\"calitp_itp_id\": 169, \"trip_key\": 8504394683595840799, \"trip_id\": \"4WD4_0730\", \"shape_id\": \"4\", \"route_id\": \"4\", \"service_hours\": 0.67, \"trip_first_departure_ts\": 27000, \"trip_last_arrival_ts\": 29400, \"departure_hour\": 7, \"time_of_day\": \"AM Peak\", \"p25\": 0.67, \"p50\": 0.67, \"p75\": 0.67, \"p50_trip\": 1, \"fastest_trip\": 0, \"car_duration_hours\": 0.49, \"competitive_route\": 1, \"bus_multiplier\": 1.37, \"bus_difference\": 10.8, \"num_trips\": 13, \"num_competitive\": 13, \"pct_trips_competitive\": 1.0, \"bus_difference_spread\": 4.8, \"route_group\": \"short\", \"max_trip_hrs\": 0.75, \"max_trip_route_group\": 0.75, \"name\": \"City of Lompoc\", \"caltrans_district\": \"05 - San Luis Obispo\", \"drmt_organization_name\": null, \"cutoff2\": 20, \"cutoff\": 2}, {\"calitp_itp_id\": 169, \"trip_key\": -1319761161373192009, \"trip_id\": \"4WD4_1810\", \"shape_id\": \"4\", \"route_id\": \"4\", \"service_hours\": 0.67, \"trip_first_departure_ts\": 65400, \"trip_last_arrival_ts\": 67800, \"departure_hour\": 18, \"time_of_day\": \"PM Peak\", \"p25\": 0.67, \"p50\": 0.67, \"p75\": 0.67, \"p50_trip\": 1, \"fastest_trip\": 1, \"car_duration_hours\": 0.49, \"competitive_route\": 1, \"bus_multiplier\": 1.37, \"bus_difference\": 10.8, \"num_trips\": 13, \"num_competitive\": 13, \"pct_trips_competitive\": 1.0, \"bus_difference_spread\": 4.8, \"route_group\": \"short\", \"max_trip_hrs\": 0.75, \"max_trip_route_group\": 0.75, \"name\": \"City of Lompoc\", \"caltrans_district\": \"05 - San Luis Obispo\", \"drmt_organization_name\": null, \"cutoff2\": 20, \"cutoff\": 2}, {\"calitp_itp_id\": 169, \"trip_key\": 9154244766636679984, \"trip_id\": \"4WD4_1200\", \"shape_id\": \"4\", \"route_id\": \"4\", \"service_hours\": 0.67, \"trip_first_departure_ts\": 43200, \"trip_last_arrival_ts\": 45600, \"departure_hour\": 12, \"time_of_day\": \"Midday\", \"p25\": 0.67, \"p50\": 0.67, \"p75\": 0.67, \"p50_trip\": 1, \"fastest_trip\": 0, \"car_duration_hours\": 0.49, \"competitive_route\": 1, \"bus_multiplier\": 1.37, \"bus_difference\": 10.8, \"num_trips\": 13, \"num_competitive\": 13, \"pct_trips_competitive\": 1.0, \"bus_difference_spread\": 4.8, \"route_group\": \"short\", \"max_trip_hrs\": 0.75, \"max_trip_route_group\": 0.75, \"name\": \"City of Lompoc\", \"caltrans_district\": \"05 - San Luis Obispo\", \"drmt_organization_name\": null, \"cutoff2\": 20, \"cutoff\": 2}, {\"calitp_itp_id\": 169, \"trip_key\": 556556040370590171, \"trip_id\": \"4WD4_1410\", \"shape_id\": \"4\", \"route_id\": \"4\", \"service_hours\": 0.67, \"trip_first_departure_ts\": 51000, \"trip_last_arrival_ts\": 53400, \"departure_hour\": 14, \"time_of_day\": \"Midday\", \"p25\": 0.67, \"p50\": 0.67, \"p75\": 0.67, \"p50_trip\": 1, \"fastest_trip\": 0, \"car_duration_hours\": 0.49, \"competitive_route\": 1, \"bus_multiplier\": 1.37, \"bus_difference\": 10.8, \"num_trips\": 13, \"num_competitive\": 13, \"pct_trips_competitive\": 1.0, \"bus_difference_spread\": 4.8, \"route_group\": \"short\", \"max_trip_hrs\": 0.75, \"max_trip_route_group\": 0.75, \"name\": \"City of Lompoc\", \"caltrans_district\": \"05 - San Luis Obispo\", \"drmt_organization_name\": null, \"cutoff2\": 20, \"cutoff\": 2}, {\"calitp_itp_id\": 169, \"trip_key\": 2922932511440967982, \"trip_id\": \"4WD4_0920\", \"shape_id\": \"4\", \"route_id\": \"4\", \"service_hours\": 0.67, \"trip_first_departure_ts\": 33600, \"trip_last_arrival_ts\": 36000, \"departure_hour\": 9, \"time_of_day\": \"AM Peak\", \"p25\": 0.67, \"p50\": 0.67, \"p75\": 0.67, \"p50_trip\": 1, \"fastest_trip\": 0, \"car_duration_hours\": 0.49, \"competitive_route\": 1, \"bus_multiplier\": 1.37, \"bus_difference\": 10.8, \"num_trips\": 13, \"num_competitive\": 13, \"pct_trips_competitive\": 1.0, \"bus_difference_spread\": 4.8, \"route_group\": \"short\", \"max_trip_hrs\": 0.75, \"max_trip_route_group\": 0.75, \"name\": \"City of Lompoc\", \"caltrans_district\": \"05 - San Luis Obispo\", \"drmt_organization_name\": null, \"cutoff2\": 20, \"cutoff\": 2}, {\"calitp_itp_id\": 169, \"trip_key\": -9208915081489960036, \"trip_id\": \"4WD4_1605\", \"shape_id\": \"4\", \"route_id\": \"4\", \"service_hours\": 0.67, \"trip_first_departure_ts\": 57900, \"trip_last_arrival_ts\": 60300, \"departure_hour\": 16, \"time_of_day\": \"Midday\", \"p25\": 0.67, \"p50\": 0.67, \"p75\": 0.67, \"p50_trip\": 1, \"fastest_trip\": 0, \"car_duration_hours\": 0.49, \"competitive_route\": 1, \"bus_multiplier\": 1.37, \"bus_difference\": 10.8, \"num_trips\": 13, \"num_competitive\": 13, \"pct_trips_competitive\": 1.0, \"bus_difference_spread\": 4.8, \"route_group\": \"short\", \"max_trip_hrs\": 0.75, \"max_trip_route_group\": 0.75, \"name\": \"City of Lompoc\", \"caltrans_district\": \"05 - San Luis Obispo\", \"drmt_organization_name\": null, \"cutoff2\": 20, \"cutoff\": 2}, {\"calitp_itp_id\": 169, \"trip_key\": 4890501087560087340, \"trip_id\": \"4WD4_1705\", \"shape_id\": \"4\", \"route_id\": \"4\", \"service_hours\": 0.67, \"trip_first_departure_ts\": 61500, \"trip_last_arrival_ts\": 63900, \"departure_hour\": 17, \"time_of_day\": \"PM Peak\", \"p25\": 0.67, \"p50\": 0.67, \"p75\": 0.67, \"p50_trip\": 1, \"fastest_trip\": 0, \"car_duration_hours\": 0.49, \"competitive_route\": 1, \"bus_multiplier\": 1.37, \"bus_difference\": 10.8, \"num_trips\": 13, \"num_competitive\": 13, \"pct_trips_competitive\": 1.0, \"bus_difference_spread\": 4.8, \"route_group\": \"short\", \"max_trip_hrs\": 0.75, \"max_trip_route_group\": 0.75, \"name\": \"City of Lompoc\", \"caltrans_district\": \"05 - San Luis Obispo\", \"drmt_organization_name\": null, \"cutoff2\": 20, \"cutoff\": 2}, {\"calitp_itp_id\": 169, \"trip_key\": 3679126944593202499, \"trip_id\": \"4WD4_1300\", \"shape_id\": \"4\", \"route_id\": \"4\", \"service_hours\": 0.67, \"trip_first_departure_ts\": 46800, \"trip_last_arrival_ts\": 49200, \"departure_hour\": 13, \"time_of_day\": \"Midday\", \"p25\": 0.67, \"p50\": 0.67, \"p75\": 0.67, \"p50_trip\": 1, \"fastest_trip\": 0, \"car_duration_hours\": 0.49, \"competitive_route\": 1, \"bus_multiplier\": 1.37, \"bus_difference\": 10.8, \"num_trips\": 13, \"num_competitive\": 13, \"pct_trips_competitive\": 1.0, \"bus_difference_spread\": 4.8, \"route_group\": \"short\", \"max_trip_hrs\": 0.75, \"max_trip_route_group\": 0.75, \"name\": \"City of Lompoc\", \"caltrans_district\": \"05 - San Luis Obispo\", \"drmt_organization_name\": null, \"cutoff2\": 20, \"cutoff\": 2}, {\"calitp_itp_id\": 169, \"trip_key\": -1259858306519949312, \"trip_id\": \"4WD4_1010\", \"shape_id\": \"4\", \"route_id\": \"4\", \"service_hours\": 0.67, \"trip_first_departure_ts\": 36600, \"trip_last_arrival_ts\": 39000, \"departure_hour\": 10, \"time_of_day\": \"Midday\", \"p25\": 0.67, \"p50\": 0.67, \"p75\": 0.67, \"p50_trip\": 1, \"fastest_trip\": 0, \"car_duration_hours\": 0.49, \"competitive_route\": 1, \"bus_multiplier\": 1.37, \"bus_difference\": 10.8, \"num_trips\": 13, \"num_competitive\": 13, \"pct_trips_competitive\": 1.0, \"bus_difference_spread\": 4.8, \"route_group\": \"short\", \"max_trip_hrs\": 0.75, \"max_trip_route_group\": 0.75, \"name\": \"City of Lompoc\", \"caltrans_district\": \"05 - San Luis Obispo\", \"drmt_organization_name\": null, \"cutoff2\": 20, \"cutoff\": 2}, {\"calitp_itp_id\": 169, \"trip_key\": 4521865064862470904, \"trip_id\": \"4WD4_0830\", \"shape_id\": \"4\", \"route_id\": \"4\", \"service_hours\": 0.67, \"trip_first_departure_ts\": 30600, \"trip_last_arrival_ts\": 33000, \"departure_hour\": 8, \"time_of_day\": \"AM Peak\", \"p25\": 0.67, \"p50\": 0.67, \"p75\": 0.67, \"p50_trip\": 1, \"fastest_trip\": 0, \"car_duration_hours\": 0.49, \"competitive_route\": 1, \"bus_multiplier\": 1.37, \"bus_difference\": 10.8, \"num_trips\": 13, \"num_competitive\": 13, \"pct_trips_competitive\": 1.0, \"bus_difference_spread\": 4.8, \"route_group\": \"short\", \"max_trip_hrs\": 0.75, \"max_trip_route_group\": 0.75, \"name\": \"City of Lompoc\", \"caltrans_district\": \"05 - San Luis Obispo\", \"drmt_organization_name\": null, \"cutoff2\": 20, \"cutoff\": 2}, {\"calitp_itp_id\": 169, \"trip_key\": -3546659902049638393, \"trip_id\": \"4WD4_1505\", \"shape_id\": \"4\", \"route_id\": \"4\", \"service_hours\": 0.67, \"trip_first_departure_ts\": 54300, \"trip_last_arrival_ts\": 56700, \"departure_hour\": 15, \"time_of_day\": \"Midday\", \"p25\": 0.67, \"p50\": 0.67, \"p75\": 0.67, \"p50_trip\": 1, \"fastest_trip\": 0, \"car_duration_hours\": 0.49, \"competitive_route\": 1, \"bus_multiplier\": 1.37, \"bus_difference\": 10.8, \"num_trips\": 13, \"num_competitive\": 13, \"pct_trips_competitive\": 1.0, \"bus_difference_spread\": 4.8, \"route_group\": \"short\", \"max_trip_hrs\": 0.75, \"max_trip_route_group\": 0.75, \"name\": \"City of Lompoc\", \"caltrans_district\": \"05 - San Luis Obispo\", \"drmt_organization_name\": null, \"cutoff2\": 20, \"cutoff\": 2}, {\"calitp_itp_id\": 169, \"trip_key\": -8490789065852044950, \"trip_id\": \"4WD4_0645\", \"shape_id\": \"4\", \"route_id\": \"4\", \"service_hours\": 0.67, \"trip_first_departure_ts\": 24300, \"trip_last_arrival_ts\": 26700, \"departure_hour\": 6, \"time_of_day\": \"Owl Service\", \"p25\": 0.67, \"p50\": 0.67, \"p75\": 0.67, \"p50_trip\": 1, \"fastest_trip\": 0, \"car_duration_hours\": 0.49, \"competitive_route\": 1, \"bus_multiplier\": 1.37, \"bus_difference\": 10.8, \"num_trips\": 13, \"num_competitive\": 13, \"pct_trips_competitive\": 1.0, \"bus_difference_spread\": 4.8, \"route_group\": \"short\", \"max_trip_hrs\": 0.75, \"max_trip_route_group\": 0.75, \"name\": \"City of Lompoc\", \"caltrans_district\": \"05 - San Luis Obispo\", \"drmt_organization_name\": null, \"cutoff2\": 20, \"cutoff\": 2}, {\"calitp_itp_id\": 169, \"trip_key\": -3562724501317748380, \"trip_id\": \"4WD4_1105\", \"shape_id\": \"4\", \"route_id\": \"4\", \"service_hours\": 0.75, \"trip_first_departure_ts\": 39900, \"trip_last_arrival_ts\": 42600, \"departure_hour\": 11, \"time_of_day\": \"Midday\", \"p25\": 0.67, \"p50\": 0.67, \"p75\": 0.67, \"p50_trip\": 0, \"fastest_trip\": 0, \"car_duration_hours\": 0.49, \"competitive_route\": 1, \"bus_multiplier\": 1.53, \"bus_difference\": 15.6, \"num_trips\": 13, \"num_competitive\": 13, \"pct_trips_competitive\": 1.0, \"bus_difference_spread\": 4.8, \"route_group\": \"short\", \"max_trip_hrs\": 0.75, \"max_trip_route_group\": 0.75, \"name\": \"City of Lompoc\", \"caltrans_district\": \"05 - San Luis Obispo\", \"drmt_organization_name\": null, \"cutoff2\": 20, \"cutoff\": 2}]}}, {\"mode\": \"vega-lite\"});\n",
       "</script>"
      ],
      "text/plain": [
       "alt.FacetChart(...)"
      ]
     },
     "metadata": {},
     "output_type": "display_data"
    },
    {
     "data": {
      "text/html": [
       "\n",
       "<div id=\"altair-viz-7067d24070634aa29fc10c4272124413\"></div>\n",
       "<script type=\"text/javascript\">\n",
       "  var VEGA_DEBUG = (typeof VEGA_DEBUG == \"undefined\") ? {} : VEGA_DEBUG;\n",
       "  (function(spec, embedOpt){\n",
       "    let outputDiv = document.currentScript.previousElementSibling;\n",
       "    if (outputDiv.id !== \"altair-viz-7067d24070634aa29fc10c4272124413\") {\n",
       "      outputDiv = document.getElementById(\"altair-viz-7067d24070634aa29fc10c4272124413\");\n",
       "    }\n",
       "    const paths = {\n",
       "      \"vega\": \"https://cdn.jsdelivr.net/npm//vega@5?noext\",\n",
       "      \"vega-lib\": \"https://cdn.jsdelivr.net/npm//vega-lib?noext\",\n",
       "      \"vega-lite\": \"https://cdn.jsdelivr.net/npm//vega-lite@4.17.0?noext\",\n",
       "      \"vega-embed\": \"https://cdn.jsdelivr.net/npm//vega-embed@6?noext\",\n",
       "    };\n",
       "\n",
       "    function maybeLoadScript(lib, version) {\n",
       "      var key = `${lib.replace(\"-\", \"\")}_version`;\n",
       "      return (VEGA_DEBUG[key] == version) ?\n",
       "        Promise.resolve(paths[lib]) :\n",
       "        new Promise(function(resolve, reject) {\n",
       "          var s = document.createElement('script');\n",
       "          document.getElementsByTagName(\"head\")[0].appendChild(s);\n",
       "          s.async = true;\n",
       "          s.onload = () => {\n",
       "            VEGA_DEBUG[key] = version;\n",
       "            return resolve(paths[lib]);\n",
       "          };\n",
       "          s.onerror = () => reject(`Error loading script: ${paths[lib]}`);\n",
       "          s.src = paths[lib];\n",
       "        });\n",
       "    }\n",
       "\n",
       "    function showError(err) {\n",
       "      outputDiv.innerHTML = `<div class=\"error\" style=\"color:red;\">${err}</div>`;\n",
       "      throw err;\n",
       "    }\n",
       "\n",
       "    function displayChart(vegaEmbed) {\n",
       "      vegaEmbed(outputDiv, spec, embedOpt)\n",
       "        .catch(err => showError(`Javascript Error: ${err.message}<br>This usually means there's a typo in your chart specification. See the javascript console for the full traceback.`));\n",
       "    }\n",
       "\n",
       "    if(typeof define === \"function\" && define.amd) {\n",
       "      requirejs.config({paths});\n",
       "      require([\"vega-embed\"], displayChart, err => showError(`Error loading script: ${err.message}`));\n",
       "    } else {\n",
       "      maybeLoadScript(\"vega\", \"5\")\n",
       "        .then(() => maybeLoadScript(\"vega-lite\", \"4.17.0\"))\n",
       "        .then(() => maybeLoadScript(\"vega-embed\", \"6\"))\n",
       "        .catch(showError)\n",
       "        .then(() => displayChart(vegaEmbed));\n",
       "    }\n",
       "  })({\"config\": {\"view\": {\"continuousWidth\": 400, \"continuousHeight\": 300, \"stroke\": null}, \"facet\": {\"spacing\": 0}}, \"data\": {\"name\": \"data-e39052fdb4d5b41ba6a15b2e4e5371ba\"}, \"facet\": {\"column\": {\"field\": \"route_id\", \"sort\": [\"4\"], \"title\": \"Route ID\", \"type\": \"nominal\"}}, \"spec\": {\"layer\": [{\"mark\": {\"type\": \"point\", \"opacity\": 0.65, \"size\": 12, \"strokeWidth\": 1.1}, \"encoding\": {\"color\": {\"field\": \"time_of_day\", \"scale\": {\"range\": [\"#136C97\", \"#E16B26\", \"#F6BF16\", \"#00896B\", \"#7790A3\", \"#5B559C\"]}, \"sort\": [\"AM Peak\", \"Midday\", \"PM Peak\", \"Owl Service\"], \"title\": \"Time of Day\", \"type\": \"nominal\"}, \"tooltip\": [{\"field\": \"route_id\", \"type\": \"nominal\"}, {\"field\": \"trip_id\", \"type\": \"nominal\"}, {\"field\": \"service_hours\", \"type\": \"quantitative\"}, {\"field\": \"car_duration_hours\", \"type\": \"quantitative\"}, {\"field\": \"bus_multiplier\", \"type\": \"quantitative\"}, {\"field\": \"bus_difference\", \"type\": \"quantitative\"}, {\"field\": \"num_trips\", \"type\": \"quantitative\"}, {\"field\": \"num_competitive\", \"type\": \"quantitative\"}, {\"field\": \"pct_trips_competitive\", \"type\": \"quantitative\"}, {\"field\": \"p25\", \"type\": \"quantitative\"}, {\"field\": \"p50\", \"type\": \"quantitative\"}, {\"field\": \"p75\", \"type\": \"quantitative\"}], \"x\": {\"axis\": {\"grid\": false, \"labels\": false, \"ticks\": true, \"values\": [0]}, \"field\": \"jitter\", \"scale\": {}, \"title\": null, \"type\": \"quantitative\"}, \"y\": {\"field\": \"bus_difference\", \"scale\": {\"domain\": [-5, 27.6]}, \"title\": \"Difference in Bus to Car Travel Time (min)\", \"type\": \"quantitative\"}}, \"selection\": {\"selector002\": {\"type\": \"interval\", \"bind\": \"scales\", \"encodings\": [\"x\", \"y\"]}}, \"transform\": [{\"calculate\": \"sqrt(-2*log(random()))*cos(2*PI*random())\", \"as\": \"jitter\"}], \"width\": 60}, {\"layer\": [{\"mark\": {\"type\": \"point\", \"opacity\": 0.6, \"size\": 20, \"strokeWidth\": 1.3}, \"encoding\": {\"color\": {\"value\": \"#323434\"}, \"y\": {\"field\": \"bus_difference\", \"type\": \"quantitative\"}}, \"transform\": [{\"filter\": \"(datum.p50_trip === 1)\"}]}, {\"mark\": {\"type\": \"rule\", \"strokeDash\": [2, 3]}, \"encoding\": {\"color\": {\"value\": \"#323434\"}, \"y\": {\"field\": \"cutoff\", \"type\": \"quantitative\"}}}, {\"mark\": {\"type\": \"rule\", \"strokeDash\": [2, 3]}, \"encoding\": {\"color\": {\"value\": \"#136C97\"}, \"y\": {\"field\": \"cutoff2\", \"type\": \"quantitative\"}}}, {\"mark\": {\"type\": \"text\", \"align\": \"center\", \"baseline\": \"middle\"}, \"encoding\": {\"color\": {\"value\": \"black\"}, \"text\": {\"field\": \"pct_trips_competitive\", \"format\": \".0%\", \"type\": \"quantitative\"}, \"tooltip\": [{\"field\": \"route_id\", \"type\": \"nominal\"}, {\"field\": \"trip_id\", \"type\": \"nominal\"}, {\"field\": \"service_hours\", \"type\": \"quantitative\"}, {\"field\": \"car_duration_hours\", \"type\": \"quantitative\"}, {\"field\": \"bus_multiplier\", \"type\": \"quantitative\"}, {\"field\": \"bus_difference\", \"type\": \"quantitative\"}, {\"field\": \"num_trips\", \"type\": \"quantitative\"}, {\"field\": \"num_competitive\", \"type\": \"quantitative\"}, {\"field\": \"pct_trips_competitive\", \"type\": \"quantitative\"}, {\"field\": \"p25\", \"type\": \"quantitative\"}, {\"field\": \"p50\", \"type\": \"quantitative\"}, {\"field\": \"p75\", \"type\": \"quantitative\"}], \"x\": {\"value\": 30}, \"y\": {\"value\": 15}}, \"transform\": [{\"calculate\": \"sqrt(-2*log(random()))*cos(2*PI*random())\", \"as\": \"jitter\"}, {\"filter\": \"(datum.fastest_trip === 1)\"}]}]}]}, \"resolve\": {\"scale\": {\"y\": \"shared\"}}, \"title\": \"Difference in Bus to Car Travel Time (min)\", \"$schema\": \"https://vega.github.io/schema/vega-lite/v4.17.0.json\", \"datasets\": {\"data-e39052fdb4d5b41ba6a15b2e4e5371ba\": [{\"calitp_itp_id\": 169, \"trip_key\": 8504394683595840799, \"trip_id\": \"4WD4_0730\", \"shape_id\": \"4\", \"route_id\": \"4\", \"service_hours\": 0.67, \"trip_first_departure_ts\": 27000, \"trip_last_arrival_ts\": 29400, \"departure_hour\": 7, \"time_of_day\": \"AM Peak\", \"p25\": 0.67, \"p50\": 0.67, \"p75\": 0.67, \"p50_trip\": 1, \"fastest_trip\": 0, \"car_duration_hours\": 0.49, \"competitive_route\": 1, \"bus_multiplier\": 1.37, \"bus_difference\": 10.8, \"num_trips\": 13, \"num_competitive\": 13, \"pct_trips_competitive\": 1.0, \"bus_difference_spread\": 4.8, \"route_group\": \"short\", \"max_trip_hrs\": 0.75, \"max_trip_route_group\": 0.75, \"name\": \"City of Lompoc\", \"caltrans_district\": \"05 - San Luis Obispo\", \"drmt_organization_name\": null, \"cutoff2\": 20, \"cutoff\": 0}, {\"calitp_itp_id\": 169, \"trip_key\": -1319761161373192009, \"trip_id\": \"4WD4_1810\", \"shape_id\": \"4\", \"route_id\": \"4\", \"service_hours\": 0.67, \"trip_first_departure_ts\": 65400, \"trip_last_arrival_ts\": 67800, \"departure_hour\": 18, \"time_of_day\": \"PM Peak\", \"p25\": 0.67, \"p50\": 0.67, \"p75\": 0.67, \"p50_trip\": 1, \"fastest_trip\": 1, \"car_duration_hours\": 0.49, \"competitive_route\": 1, \"bus_multiplier\": 1.37, \"bus_difference\": 10.8, \"num_trips\": 13, \"num_competitive\": 13, \"pct_trips_competitive\": 1.0, \"bus_difference_spread\": 4.8, \"route_group\": \"short\", \"max_trip_hrs\": 0.75, \"max_trip_route_group\": 0.75, \"name\": \"City of Lompoc\", \"caltrans_district\": \"05 - San Luis Obispo\", \"drmt_organization_name\": null, \"cutoff2\": 20, \"cutoff\": 0}, {\"calitp_itp_id\": 169, \"trip_key\": 9154244766636679984, \"trip_id\": \"4WD4_1200\", \"shape_id\": \"4\", \"route_id\": \"4\", \"service_hours\": 0.67, \"trip_first_departure_ts\": 43200, \"trip_last_arrival_ts\": 45600, \"departure_hour\": 12, \"time_of_day\": \"Midday\", \"p25\": 0.67, \"p50\": 0.67, \"p75\": 0.67, \"p50_trip\": 1, \"fastest_trip\": 0, \"car_duration_hours\": 0.49, \"competitive_route\": 1, \"bus_multiplier\": 1.37, \"bus_difference\": 10.8, \"num_trips\": 13, \"num_competitive\": 13, \"pct_trips_competitive\": 1.0, \"bus_difference_spread\": 4.8, \"route_group\": \"short\", \"max_trip_hrs\": 0.75, \"max_trip_route_group\": 0.75, \"name\": \"City of Lompoc\", \"caltrans_district\": \"05 - San Luis Obispo\", \"drmt_organization_name\": null, \"cutoff2\": 20, \"cutoff\": 0}, {\"calitp_itp_id\": 169, \"trip_key\": 556556040370590171, \"trip_id\": \"4WD4_1410\", \"shape_id\": \"4\", \"route_id\": \"4\", \"service_hours\": 0.67, \"trip_first_departure_ts\": 51000, \"trip_last_arrival_ts\": 53400, \"departure_hour\": 14, \"time_of_day\": \"Midday\", \"p25\": 0.67, \"p50\": 0.67, \"p75\": 0.67, \"p50_trip\": 1, \"fastest_trip\": 0, \"car_duration_hours\": 0.49, \"competitive_route\": 1, \"bus_multiplier\": 1.37, \"bus_difference\": 10.8, \"num_trips\": 13, \"num_competitive\": 13, \"pct_trips_competitive\": 1.0, \"bus_difference_spread\": 4.8, \"route_group\": \"short\", \"max_trip_hrs\": 0.75, \"max_trip_route_group\": 0.75, \"name\": \"City of Lompoc\", \"caltrans_district\": \"05 - San Luis Obispo\", \"drmt_organization_name\": null, \"cutoff2\": 20, \"cutoff\": 0}, {\"calitp_itp_id\": 169, \"trip_key\": 2922932511440967982, \"trip_id\": \"4WD4_0920\", \"shape_id\": \"4\", \"route_id\": \"4\", \"service_hours\": 0.67, \"trip_first_departure_ts\": 33600, \"trip_last_arrival_ts\": 36000, \"departure_hour\": 9, \"time_of_day\": \"AM Peak\", \"p25\": 0.67, \"p50\": 0.67, \"p75\": 0.67, \"p50_trip\": 1, \"fastest_trip\": 0, \"car_duration_hours\": 0.49, \"competitive_route\": 1, \"bus_multiplier\": 1.37, \"bus_difference\": 10.8, \"num_trips\": 13, \"num_competitive\": 13, \"pct_trips_competitive\": 1.0, \"bus_difference_spread\": 4.8, \"route_group\": \"short\", \"max_trip_hrs\": 0.75, \"max_trip_route_group\": 0.75, \"name\": \"City of Lompoc\", \"caltrans_district\": \"05 - San Luis Obispo\", \"drmt_organization_name\": null, \"cutoff2\": 20, \"cutoff\": 0}, {\"calitp_itp_id\": 169, \"trip_key\": -9208915081489960036, \"trip_id\": \"4WD4_1605\", \"shape_id\": \"4\", \"route_id\": \"4\", \"service_hours\": 0.67, \"trip_first_departure_ts\": 57900, \"trip_last_arrival_ts\": 60300, \"departure_hour\": 16, \"time_of_day\": \"Midday\", \"p25\": 0.67, \"p50\": 0.67, \"p75\": 0.67, \"p50_trip\": 1, \"fastest_trip\": 0, \"car_duration_hours\": 0.49, \"competitive_route\": 1, \"bus_multiplier\": 1.37, \"bus_difference\": 10.8, \"num_trips\": 13, \"num_competitive\": 13, \"pct_trips_competitive\": 1.0, \"bus_difference_spread\": 4.8, \"route_group\": \"short\", \"max_trip_hrs\": 0.75, \"max_trip_route_group\": 0.75, \"name\": \"City of Lompoc\", \"caltrans_district\": \"05 - San Luis Obispo\", \"drmt_organization_name\": null, \"cutoff2\": 20, \"cutoff\": 0}, {\"calitp_itp_id\": 169, \"trip_key\": 4890501087560087340, \"trip_id\": \"4WD4_1705\", \"shape_id\": \"4\", \"route_id\": \"4\", \"service_hours\": 0.67, \"trip_first_departure_ts\": 61500, \"trip_last_arrival_ts\": 63900, \"departure_hour\": 17, \"time_of_day\": \"PM Peak\", \"p25\": 0.67, \"p50\": 0.67, \"p75\": 0.67, \"p50_trip\": 1, \"fastest_trip\": 0, \"car_duration_hours\": 0.49, \"competitive_route\": 1, \"bus_multiplier\": 1.37, \"bus_difference\": 10.8, \"num_trips\": 13, \"num_competitive\": 13, \"pct_trips_competitive\": 1.0, \"bus_difference_spread\": 4.8, \"route_group\": \"short\", \"max_trip_hrs\": 0.75, \"max_trip_route_group\": 0.75, \"name\": \"City of Lompoc\", \"caltrans_district\": \"05 - San Luis Obispo\", \"drmt_organization_name\": null, \"cutoff2\": 20, \"cutoff\": 0}, {\"calitp_itp_id\": 169, \"trip_key\": 3679126944593202499, \"trip_id\": \"4WD4_1300\", \"shape_id\": \"4\", \"route_id\": \"4\", \"service_hours\": 0.67, \"trip_first_departure_ts\": 46800, \"trip_last_arrival_ts\": 49200, \"departure_hour\": 13, \"time_of_day\": \"Midday\", \"p25\": 0.67, \"p50\": 0.67, \"p75\": 0.67, \"p50_trip\": 1, \"fastest_trip\": 0, \"car_duration_hours\": 0.49, \"competitive_route\": 1, \"bus_multiplier\": 1.37, \"bus_difference\": 10.8, \"num_trips\": 13, \"num_competitive\": 13, \"pct_trips_competitive\": 1.0, \"bus_difference_spread\": 4.8, \"route_group\": \"short\", \"max_trip_hrs\": 0.75, \"max_trip_route_group\": 0.75, \"name\": \"City of Lompoc\", \"caltrans_district\": \"05 - San Luis Obispo\", \"drmt_organization_name\": null, \"cutoff2\": 20, \"cutoff\": 0}, {\"calitp_itp_id\": 169, \"trip_key\": -1259858306519949312, \"trip_id\": \"4WD4_1010\", \"shape_id\": \"4\", \"route_id\": \"4\", \"service_hours\": 0.67, \"trip_first_departure_ts\": 36600, \"trip_last_arrival_ts\": 39000, \"departure_hour\": 10, \"time_of_day\": \"Midday\", \"p25\": 0.67, \"p50\": 0.67, \"p75\": 0.67, \"p50_trip\": 1, \"fastest_trip\": 0, \"car_duration_hours\": 0.49, \"competitive_route\": 1, \"bus_multiplier\": 1.37, \"bus_difference\": 10.8, \"num_trips\": 13, \"num_competitive\": 13, \"pct_trips_competitive\": 1.0, \"bus_difference_spread\": 4.8, \"route_group\": \"short\", \"max_trip_hrs\": 0.75, \"max_trip_route_group\": 0.75, \"name\": \"City of Lompoc\", \"caltrans_district\": \"05 - San Luis Obispo\", \"drmt_organization_name\": null, \"cutoff2\": 20, \"cutoff\": 0}, {\"calitp_itp_id\": 169, \"trip_key\": 4521865064862470904, \"trip_id\": \"4WD4_0830\", \"shape_id\": \"4\", \"route_id\": \"4\", \"service_hours\": 0.67, \"trip_first_departure_ts\": 30600, \"trip_last_arrival_ts\": 33000, \"departure_hour\": 8, \"time_of_day\": \"AM Peak\", \"p25\": 0.67, \"p50\": 0.67, \"p75\": 0.67, \"p50_trip\": 1, \"fastest_trip\": 0, \"car_duration_hours\": 0.49, \"competitive_route\": 1, \"bus_multiplier\": 1.37, \"bus_difference\": 10.8, \"num_trips\": 13, \"num_competitive\": 13, \"pct_trips_competitive\": 1.0, \"bus_difference_spread\": 4.8, \"route_group\": \"short\", \"max_trip_hrs\": 0.75, \"max_trip_route_group\": 0.75, \"name\": \"City of Lompoc\", \"caltrans_district\": \"05 - San Luis Obispo\", \"drmt_organization_name\": null, \"cutoff2\": 20, \"cutoff\": 0}, {\"calitp_itp_id\": 169, \"trip_key\": -3546659902049638393, \"trip_id\": \"4WD4_1505\", \"shape_id\": \"4\", \"route_id\": \"4\", \"service_hours\": 0.67, \"trip_first_departure_ts\": 54300, \"trip_last_arrival_ts\": 56700, \"departure_hour\": 15, \"time_of_day\": \"Midday\", \"p25\": 0.67, \"p50\": 0.67, \"p75\": 0.67, \"p50_trip\": 1, \"fastest_trip\": 0, \"car_duration_hours\": 0.49, \"competitive_route\": 1, \"bus_multiplier\": 1.37, \"bus_difference\": 10.8, \"num_trips\": 13, \"num_competitive\": 13, \"pct_trips_competitive\": 1.0, \"bus_difference_spread\": 4.8, \"route_group\": \"short\", \"max_trip_hrs\": 0.75, \"max_trip_route_group\": 0.75, \"name\": \"City of Lompoc\", \"caltrans_district\": \"05 - San Luis Obispo\", \"drmt_organization_name\": null, \"cutoff2\": 20, \"cutoff\": 0}, {\"calitp_itp_id\": 169, \"trip_key\": -8490789065852044950, \"trip_id\": \"4WD4_0645\", \"shape_id\": \"4\", \"route_id\": \"4\", \"service_hours\": 0.67, \"trip_first_departure_ts\": 24300, \"trip_last_arrival_ts\": 26700, \"departure_hour\": 6, \"time_of_day\": \"Owl Service\", \"p25\": 0.67, \"p50\": 0.67, \"p75\": 0.67, \"p50_trip\": 1, \"fastest_trip\": 0, \"car_duration_hours\": 0.49, \"competitive_route\": 1, \"bus_multiplier\": 1.37, \"bus_difference\": 10.8, \"num_trips\": 13, \"num_competitive\": 13, \"pct_trips_competitive\": 1.0, \"bus_difference_spread\": 4.8, \"route_group\": \"short\", \"max_trip_hrs\": 0.75, \"max_trip_route_group\": 0.75, \"name\": \"City of Lompoc\", \"caltrans_district\": \"05 - San Luis Obispo\", \"drmt_organization_name\": null, \"cutoff2\": 20, \"cutoff\": 0}, {\"calitp_itp_id\": 169, \"trip_key\": -3562724501317748380, \"trip_id\": \"4WD4_1105\", \"shape_id\": \"4\", \"route_id\": \"4\", \"service_hours\": 0.75, \"trip_first_departure_ts\": 39900, \"trip_last_arrival_ts\": 42600, \"departure_hour\": 11, \"time_of_day\": \"Midday\", \"p25\": 0.67, \"p50\": 0.67, \"p75\": 0.67, \"p50_trip\": 0, \"fastest_trip\": 0, \"car_duration_hours\": 0.49, \"competitive_route\": 1, \"bus_multiplier\": 1.53, \"bus_difference\": 15.6, \"num_trips\": 13, \"num_competitive\": 13, \"pct_trips_competitive\": 1.0, \"bus_difference_spread\": 4.8, \"route_group\": \"short\", \"max_trip_hrs\": 0.75, \"max_trip_route_group\": 0.75, \"name\": \"City of Lompoc\", \"caltrans_district\": \"05 - San Luis Obispo\", \"drmt_organization_name\": null, \"cutoff2\": 20, \"cutoff\": 0}]}}, {\"mode\": \"vega-lite\"});\n",
       "</script>"
      ],
      "text/plain": [
       "alt.FacetChart(...)"
      ]
     },
     "metadata": {},
     "output_type": "display_data"
    }
   ],
   "source": [
    "# Allow for possibility that operator doesn't have routes that fall into certain route_groups\n",
    "# But, jupyterbook will not like markdown with f-string\n",
    "# separate out route_group and put in each cell, and use try/except + if to display...\n",
    "# but all 3 route groups must be displayed. just add sentence about why no routes were returned at the end\n",
    "route_group = \"short\"\n",
    "try:\n",
    "    subset_routes, mult, diff  = setup_charts(df, PCT_COMPETITIVE_THRESHOLD, route_group)\n",
    "    \n",
    "    if len(subset_routes) > 0:\n",
    "        display(\n",
    "            Markdown(\n",
    "                f\"{CAPTIONS_DICT[route_group]}\"\n",
    "                \"Within each route group, routes are sorted in descending order \"\n",
    "                \"by % competitive trips and # trips below the additional time cut-off.\"\n",
    "            )\n",
    "        )\n",
    "\n",
    "        display(mult)\n",
    "        display(diff)\n",
    "except:\n",
    "    print(\"No routes meet this criteria.\")"
   ]
  },
  {
   "cell_type": "markdown",
   "id": "c2931b6f-034d-4384-9e14-80b925e3b820",
   "metadata": {
    "papermill": {
     "duration": 0.013416,
     "end_time": "2022-05-08T15:58:10.958671",
     "exception": false,
     "start_time": "2022-05-08T15:58:10.945255",
     "status": "completed"
    },
    "tags": []
   },
   "source": [
    "### Medium Routes (1-1.5 hrs)"
   ]
  },
  {
   "cell_type": "code",
   "execution_count": 13,
   "id": "480edddc-4de0-48c2-ae4c-b0ceef8f28b5",
   "metadata": {
    "execution": {
     "iopub.execute_input": "2022-05-08T15:58:10.987281Z",
     "iopub.status.busy": "2022-05-08T15:58:10.986402Z",
     "iopub.status.idle": "2022-05-08T15:58:11.185983Z",
     "shell.execute_reply": "2022-05-08T15:58:11.185455Z"
    },
    "jupyter": {
     "source_hidden": true
    },
    "papermill": {
     "duration": 0.216078,
     "end_time": "2022-05-08T15:58:11.187737",
     "exception": false,
     "start_time": "2022-05-08T15:58:10.971659",
     "status": "completed"
    },
    "tags": [
     "remove_input"
    ]
   },
   "outputs": [
    {
     "data": {
      "text/markdown": [
       "<br>These are routes that have at least 25% of their trips take no more than an additional 30 min compared to a car (up to 15 routes) are shown.Within each route group, routes are sorted in descending order by % competitive trips and # trips below the additional time cut-off."
      ],
      "text/plain": [
       "<IPython.core.display.Markdown object>"
      ]
     },
     "metadata": {},
     "output_type": "display_data"
    },
    {
     "data": {
      "text/html": [
       "\n",
       "<div id=\"altair-viz-fac42ea442b34fb7a0c49ecab24a1c7f\"></div>\n",
       "<script type=\"text/javascript\">\n",
       "  var VEGA_DEBUG = (typeof VEGA_DEBUG == \"undefined\") ? {} : VEGA_DEBUG;\n",
       "  (function(spec, embedOpt){\n",
       "    let outputDiv = document.currentScript.previousElementSibling;\n",
       "    if (outputDiv.id !== \"altair-viz-fac42ea442b34fb7a0c49ecab24a1c7f\") {\n",
       "      outputDiv = document.getElementById(\"altair-viz-fac42ea442b34fb7a0c49ecab24a1c7f\");\n",
       "    }\n",
       "    const paths = {\n",
       "      \"vega\": \"https://cdn.jsdelivr.net/npm//vega@5?noext\",\n",
       "      \"vega-lib\": \"https://cdn.jsdelivr.net/npm//vega-lib?noext\",\n",
       "      \"vega-lite\": \"https://cdn.jsdelivr.net/npm//vega-lite@4.17.0?noext\",\n",
       "      \"vega-embed\": \"https://cdn.jsdelivr.net/npm//vega-embed@6?noext\",\n",
       "    };\n",
       "\n",
       "    function maybeLoadScript(lib, version) {\n",
       "      var key = `${lib.replace(\"-\", \"\")}_version`;\n",
       "      return (VEGA_DEBUG[key] == version) ?\n",
       "        Promise.resolve(paths[lib]) :\n",
       "        new Promise(function(resolve, reject) {\n",
       "          var s = document.createElement('script');\n",
       "          document.getElementsByTagName(\"head\")[0].appendChild(s);\n",
       "          s.async = true;\n",
       "          s.onload = () => {\n",
       "            VEGA_DEBUG[key] = version;\n",
       "            return resolve(paths[lib]);\n",
       "          };\n",
       "          s.onerror = () => reject(`Error loading script: ${paths[lib]}`);\n",
       "          s.src = paths[lib];\n",
       "        });\n",
       "    }\n",
       "\n",
       "    function showError(err) {\n",
       "      outputDiv.innerHTML = `<div class=\"error\" style=\"color:red;\">${err}</div>`;\n",
       "      throw err;\n",
       "    }\n",
       "\n",
       "    function displayChart(vegaEmbed) {\n",
       "      vegaEmbed(outputDiv, spec, embedOpt)\n",
       "        .catch(err => showError(`Javascript Error: ${err.message}<br>This usually means there's a typo in your chart specification. See the javascript console for the full traceback.`));\n",
       "    }\n",
       "\n",
       "    if(typeof define === \"function\" && define.amd) {\n",
       "      requirejs.config({paths});\n",
       "      require([\"vega-embed\"], displayChart, err => showError(`Error loading script: ${err.message}`));\n",
       "    } else {\n",
       "      maybeLoadScript(\"vega\", \"5\")\n",
       "        .then(() => maybeLoadScript(\"vega-lite\", \"4.17.0\"))\n",
       "        .then(() => maybeLoadScript(\"vega-embed\", \"6\"))\n",
       "        .catch(showError)\n",
       "        .then(() => displayChart(vegaEmbed));\n",
       "    }\n",
       "  })({\"config\": {\"view\": {\"continuousWidth\": 400, \"continuousHeight\": 300, \"stroke\": null}, \"facet\": {\"spacing\": 0}}, \"data\": {\"name\": \"data-4be16a0f30022f8b45fa4d2267abdd32\"}, \"facet\": {\"column\": {\"field\": \"route_id\", \"sort\": [\"6\"], \"title\": \"Route ID\", \"type\": \"nominal\"}}, \"spec\": {\"layer\": [{\"mark\": {\"type\": \"point\", \"opacity\": 0.65, \"size\": 12, \"strokeWidth\": 1.1}, \"encoding\": {\"color\": {\"field\": \"time_of_day\", \"scale\": {\"range\": [\"#136C97\", \"#E16B26\", \"#F6BF16\", \"#00896B\", \"#7790A3\", \"#5B559C\"]}, \"sort\": [\"AM Peak\", \"Midday\", \"PM Peak\", \"Owl Service\"], \"title\": \"Time of Day\", \"type\": \"nominal\"}, \"tooltip\": [{\"field\": \"route_id\", \"type\": \"nominal\"}, {\"field\": \"trip_id\", \"type\": \"nominal\"}, {\"field\": \"service_hours\", \"type\": \"quantitative\"}, {\"field\": \"car_duration_hours\", \"type\": \"quantitative\"}, {\"field\": \"bus_multiplier\", \"type\": \"quantitative\"}, {\"field\": \"bus_difference\", \"type\": \"quantitative\"}, {\"field\": \"num_trips\", \"type\": \"quantitative\"}, {\"field\": \"num_competitive\", \"type\": \"quantitative\"}, {\"field\": \"pct_trips_competitive\", \"type\": \"quantitative\"}, {\"field\": \"p25\", \"type\": \"quantitative\"}, {\"field\": \"p50\", \"type\": \"quantitative\"}, {\"field\": \"p75\", \"type\": \"quantitative\"}], \"x\": {\"axis\": {\"grid\": false, \"labels\": false, \"ticks\": true, \"values\": [0]}, \"field\": \"jitter\", \"scale\": {}, \"title\": null, \"type\": \"quantitative\"}, \"y\": {\"field\": \"bus_multiplier\", \"scale\": {\"domain\": [-0.25, 2.5]}, \"title\": \"Ratio of Bus to Car Travel Time\", \"type\": \"quantitative\"}}, \"selection\": {\"selector003\": {\"type\": \"interval\", \"bind\": \"scales\", \"encodings\": [\"x\", \"y\"]}}, \"transform\": [{\"calculate\": \"sqrt(-2*log(random()))*cos(2*PI*random())\", \"as\": \"jitter\"}], \"width\": 60}, {\"layer\": [{\"mark\": {\"type\": \"point\", \"opacity\": 0.6, \"size\": 20, \"strokeWidth\": 1.3}, \"encoding\": {\"color\": {\"value\": \"#323434\"}, \"y\": {\"field\": \"bus_multiplier\", \"type\": \"quantitative\"}}, \"transform\": [{\"filter\": \"(datum.p50_trip === 1)\"}]}, {\"mark\": {\"type\": \"rule\", \"strokeDash\": [2, 3]}, \"encoding\": {\"color\": {\"value\": \"#323434\"}, \"y\": {\"field\": \"cutoff\", \"type\": \"quantitative\"}}}, {\"mark\": {\"type\": \"text\", \"align\": \"center\", \"baseline\": \"middle\"}, \"encoding\": {\"color\": {\"value\": \"black\"}, \"text\": {\"field\": \"pct_trips_competitive\", \"format\": \".0%\", \"type\": \"quantitative\"}, \"tooltip\": [{\"field\": \"route_id\", \"type\": \"nominal\"}, {\"field\": \"trip_id\", \"type\": \"nominal\"}, {\"field\": \"service_hours\", \"type\": \"quantitative\"}, {\"field\": \"car_duration_hours\", \"type\": \"quantitative\"}, {\"field\": \"bus_multiplier\", \"type\": \"quantitative\"}, {\"field\": \"bus_difference\", \"type\": \"quantitative\"}, {\"field\": \"num_trips\", \"type\": \"quantitative\"}, {\"field\": \"num_competitive\", \"type\": \"quantitative\"}, {\"field\": \"pct_trips_competitive\", \"type\": \"quantitative\"}, {\"field\": \"p25\", \"type\": \"quantitative\"}, {\"field\": \"p50\", \"type\": \"quantitative\"}, {\"field\": \"p75\", \"type\": \"quantitative\"}], \"x\": {\"value\": 30}, \"y\": {\"value\": 15}}, \"transform\": [{\"calculate\": \"sqrt(-2*log(random()))*cos(2*PI*random())\", \"as\": \"jitter\"}, {\"filter\": \"(datum.fastest_trip === 1)\"}]}]}]}, \"resolve\": {\"scale\": {\"y\": \"shared\"}}, \"title\": \"Ratio of Bus to Car Travel Time\", \"$schema\": \"https://vega.github.io/schema/vega-lite/v4.17.0.json\", \"datasets\": {\"data-4be16a0f30022f8b45fa4d2267abdd32\": [{\"calitp_itp_id\": 169, \"trip_key\": -9130655791526121727, \"trip_id\": \"6WD6_1645\", \"shape_id\": \"6\", \"route_id\": \"6\", \"service_hours\": 1.22, \"trip_first_departure_ts\": 60300, \"trip_last_arrival_ts\": 64680, \"departure_hour\": 16, \"time_of_day\": \"Midday\", \"p25\": 1.2349999999999999, \"p50\": 1.25, \"p75\": 1.275, \"p50_trip\": 0, \"fastest_trip\": 1, \"car_duration_hours\": 0.84, \"competitive_route\": 1, \"bus_multiplier\": 1.45, \"bus_difference\": 22.8, \"num_trips\": 3, \"num_competitive\": 3, \"pct_trips_competitive\": 1.0, \"bus_difference_spread\": 4.8, \"route_group\": \"medium\", \"max_trip_hrs\": 1.3, \"max_trip_route_group\": 1.3, \"name\": \"City of Lompoc\", \"caltrans_district\": \"05 - San Luis Obispo\", \"drmt_organization_name\": null, \"cutoff2\": 30, \"cutoff\": 2}, {\"calitp_itp_id\": 169, \"trip_key\": -2574567352452424182, \"trip_id\": \"6WD6_1300\", \"shape_id\": \"6\", \"route_id\": \"6\", \"service_hours\": 1.25, \"trip_first_departure_ts\": 46800, \"trip_last_arrival_ts\": 51300, \"departure_hour\": 13, \"time_of_day\": \"Midday\", \"p25\": 1.2349999999999999, \"p50\": 1.25, \"p75\": 1.275, \"p50_trip\": 1, \"fastest_trip\": 0, \"car_duration_hours\": 0.84, \"competitive_route\": 1, \"bus_multiplier\": 1.49, \"bus_difference\": 24.6, \"num_trips\": 3, \"num_competitive\": 3, \"pct_trips_competitive\": 1.0, \"bus_difference_spread\": 4.8, \"route_group\": \"medium\", \"max_trip_hrs\": 1.3, \"max_trip_route_group\": 1.3, \"name\": \"City of Lompoc\", \"caltrans_district\": \"05 - San Luis Obispo\", \"drmt_organization_name\": null, \"cutoff2\": 30, \"cutoff\": 2}, {\"calitp_itp_id\": 169, \"trip_key\": 2696374193022581807, \"trip_id\": \"6WD6_0715\", \"shape_id\": \"6\", \"route_id\": \"6\", \"service_hours\": 1.3, \"trip_first_departure_ts\": 26100, \"trip_last_arrival_ts\": 30780, \"departure_hour\": 7, \"time_of_day\": \"AM Peak\", \"p25\": 1.2349999999999999, \"p50\": 1.25, \"p75\": 1.275, \"p50_trip\": 0, \"fastest_trip\": 0, \"car_duration_hours\": 0.84, \"competitive_route\": 1, \"bus_multiplier\": 1.55, \"bus_difference\": 27.6, \"num_trips\": 3, \"num_competitive\": 3, \"pct_trips_competitive\": 1.0, \"bus_difference_spread\": 4.8, \"route_group\": \"medium\", \"max_trip_hrs\": 1.3, \"max_trip_route_group\": 1.3, \"name\": \"City of Lompoc\", \"caltrans_district\": \"05 - San Luis Obispo\", \"drmt_organization_name\": null, \"cutoff2\": 30, \"cutoff\": 2}]}}, {\"mode\": \"vega-lite\"});\n",
       "</script>"
      ],
      "text/plain": [
       "alt.FacetChart(...)"
      ]
     },
     "metadata": {},
     "output_type": "display_data"
    },
    {
     "data": {
      "text/html": [
       "\n",
       "<div id=\"altair-viz-642ee5ab8f594282877c6e4c0e7f3791\"></div>\n",
       "<script type=\"text/javascript\">\n",
       "  var VEGA_DEBUG = (typeof VEGA_DEBUG == \"undefined\") ? {} : VEGA_DEBUG;\n",
       "  (function(spec, embedOpt){\n",
       "    let outputDiv = document.currentScript.previousElementSibling;\n",
       "    if (outputDiv.id !== \"altair-viz-642ee5ab8f594282877c6e4c0e7f3791\") {\n",
       "      outputDiv = document.getElementById(\"altair-viz-642ee5ab8f594282877c6e4c0e7f3791\");\n",
       "    }\n",
       "    const paths = {\n",
       "      \"vega\": \"https://cdn.jsdelivr.net/npm//vega@5?noext\",\n",
       "      \"vega-lib\": \"https://cdn.jsdelivr.net/npm//vega-lib?noext\",\n",
       "      \"vega-lite\": \"https://cdn.jsdelivr.net/npm//vega-lite@4.17.0?noext\",\n",
       "      \"vega-embed\": \"https://cdn.jsdelivr.net/npm//vega-embed@6?noext\",\n",
       "    };\n",
       "\n",
       "    function maybeLoadScript(lib, version) {\n",
       "      var key = `${lib.replace(\"-\", \"\")}_version`;\n",
       "      return (VEGA_DEBUG[key] == version) ?\n",
       "        Promise.resolve(paths[lib]) :\n",
       "        new Promise(function(resolve, reject) {\n",
       "          var s = document.createElement('script');\n",
       "          document.getElementsByTagName(\"head\")[0].appendChild(s);\n",
       "          s.async = true;\n",
       "          s.onload = () => {\n",
       "            VEGA_DEBUG[key] = version;\n",
       "            return resolve(paths[lib]);\n",
       "          };\n",
       "          s.onerror = () => reject(`Error loading script: ${paths[lib]}`);\n",
       "          s.src = paths[lib];\n",
       "        });\n",
       "    }\n",
       "\n",
       "    function showError(err) {\n",
       "      outputDiv.innerHTML = `<div class=\"error\" style=\"color:red;\">${err}</div>`;\n",
       "      throw err;\n",
       "    }\n",
       "\n",
       "    function displayChart(vegaEmbed) {\n",
       "      vegaEmbed(outputDiv, spec, embedOpt)\n",
       "        .catch(err => showError(`Javascript Error: ${err.message}<br>This usually means there's a typo in your chart specification. See the javascript console for the full traceback.`));\n",
       "    }\n",
       "\n",
       "    if(typeof define === \"function\" && define.amd) {\n",
       "      requirejs.config({paths});\n",
       "      require([\"vega-embed\"], displayChart, err => showError(`Error loading script: ${err.message}`));\n",
       "    } else {\n",
       "      maybeLoadScript(\"vega\", \"5\")\n",
       "        .then(() => maybeLoadScript(\"vega-lite\", \"4.17.0\"))\n",
       "        .then(() => maybeLoadScript(\"vega-embed\", \"6\"))\n",
       "        .catch(showError)\n",
       "        .then(() => displayChart(vegaEmbed));\n",
       "    }\n",
       "  })({\"config\": {\"view\": {\"continuousWidth\": 400, \"continuousHeight\": 300, \"stroke\": null}, \"facet\": {\"spacing\": 0}}, \"data\": {\"name\": \"data-156c9d652bd91c1998af2fd01b28a4c7\"}, \"facet\": {\"column\": {\"field\": \"route_id\", \"sort\": [\"6\"], \"title\": \"Route ID\", \"type\": \"nominal\"}}, \"spec\": {\"layer\": [{\"mark\": {\"type\": \"point\", \"opacity\": 0.65, \"size\": 12, \"strokeWidth\": 1.1}, \"encoding\": {\"color\": {\"field\": \"time_of_day\", \"scale\": {\"range\": [\"#136C97\", \"#E16B26\", \"#F6BF16\", \"#00896B\", \"#7790A3\", \"#5B559C\"]}, \"sort\": [\"AM Peak\", \"Midday\", \"PM Peak\", \"Owl Service\"], \"title\": \"Time of Day\", \"type\": \"nominal\"}, \"tooltip\": [{\"field\": \"route_id\", \"type\": \"nominal\"}, {\"field\": \"trip_id\", \"type\": \"nominal\"}, {\"field\": \"service_hours\", \"type\": \"quantitative\"}, {\"field\": \"car_duration_hours\", \"type\": \"quantitative\"}, {\"field\": \"bus_multiplier\", \"type\": \"quantitative\"}, {\"field\": \"bus_difference\", \"type\": \"quantitative\"}, {\"field\": \"num_trips\", \"type\": \"quantitative\"}, {\"field\": \"num_competitive\", \"type\": \"quantitative\"}, {\"field\": \"pct_trips_competitive\", \"type\": \"quantitative\"}, {\"field\": \"p25\", \"type\": \"quantitative\"}, {\"field\": \"p50\", \"type\": \"quantitative\"}, {\"field\": \"p75\", \"type\": \"quantitative\"}], \"x\": {\"axis\": {\"grid\": false, \"labels\": false, \"ticks\": true, \"values\": [0]}, \"field\": \"jitter\", \"scale\": {}, \"title\": null, \"type\": \"quantitative\"}, \"y\": {\"field\": \"bus_difference\", \"scale\": {\"domain\": [-5, 35.0]}, \"title\": \"Difference in Bus to Car Travel Time (min)\", \"type\": \"quantitative\"}}, \"selection\": {\"selector004\": {\"type\": \"interval\", \"bind\": \"scales\", \"encodings\": [\"x\", \"y\"]}}, \"transform\": [{\"calculate\": \"sqrt(-2*log(random()))*cos(2*PI*random())\", \"as\": \"jitter\"}], \"width\": 60}, {\"layer\": [{\"mark\": {\"type\": \"point\", \"opacity\": 0.6, \"size\": 20, \"strokeWidth\": 1.3}, \"encoding\": {\"color\": {\"value\": \"#323434\"}, \"y\": {\"field\": \"bus_difference\", \"type\": \"quantitative\"}}, \"transform\": [{\"filter\": \"(datum.p50_trip === 1)\"}]}, {\"mark\": {\"type\": \"rule\", \"strokeDash\": [2, 3]}, \"encoding\": {\"color\": {\"value\": \"#323434\"}, \"y\": {\"field\": \"cutoff\", \"type\": \"quantitative\"}}}, {\"mark\": {\"type\": \"rule\", \"strokeDash\": [2, 3]}, \"encoding\": {\"color\": {\"value\": \"#136C97\"}, \"y\": {\"field\": \"cutoff2\", \"type\": \"quantitative\"}}}, {\"mark\": {\"type\": \"text\", \"align\": \"center\", \"baseline\": \"middle\"}, \"encoding\": {\"color\": {\"value\": \"black\"}, \"text\": {\"field\": \"pct_trips_competitive\", \"format\": \".0%\", \"type\": \"quantitative\"}, \"tooltip\": [{\"field\": \"route_id\", \"type\": \"nominal\"}, {\"field\": \"trip_id\", \"type\": \"nominal\"}, {\"field\": \"service_hours\", \"type\": \"quantitative\"}, {\"field\": \"car_duration_hours\", \"type\": \"quantitative\"}, {\"field\": \"bus_multiplier\", \"type\": \"quantitative\"}, {\"field\": \"bus_difference\", \"type\": \"quantitative\"}, {\"field\": \"num_trips\", \"type\": \"quantitative\"}, {\"field\": \"num_competitive\", \"type\": \"quantitative\"}, {\"field\": \"pct_trips_competitive\", \"type\": \"quantitative\"}, {\"field\": \"p25\", \"type\": \"quantitative\"}, {\"field\": \"p50\", \"type\": \"quantitative\"}, {\"field\": \"p75\", \"type\": \"quantitative\"}], \"x\": {\"value\": 30}, \"y\": {\"value\": 15}}, \"transform\": [{\"calculate\": \"sqrt(-2*log(random()))*cos(2*PI*random())\", \"as\": \"jitter\"}, {\"filter\": \"(datum.fastest_trip === 1)\"}]}]}]}, \"resolve\": {\"scale\": {\"y\": \"shared\"}}, \"title\": \"Difference in Bus to Car Travel Time (min)\", \"$schema\": \"https://vega.github.io/schema/vega-lite/v4.17.0.json\", \"datasets\": {\"data-156c9d652bd91c1998af2fd01b28a4c7\": [{\"calitp_itp_id\": 169, \"trip_key\": -9130655791526121727, \"trip_id\": \"6WD6_1645\", \"shape_id\": \"6\", \"route_id\": \"6\", \"service_hours\": 1.22, \"trip_first_departure_ts\": 60300, \"trip_last_arrival_ts\": 64680, \"departure_hour\": 16, \"time_of_day\": \"Midday\", \"p25\": 1.2349999999999999, \"p50\": 1.25, \"p75\": 1.275, \"p50_trip\": 0, \"fastest_trip\": 1, \"car_duration_hours\": 0.84, \"competitive_route\": 1, \"bus_multiplier\": 1.45, \"bus_difference\": 22.8, \"num_trips\": 3, \"num_competitive\": 3, \"pct_trips_competitive\": 1.0, \"bus_difference_spread\": 4.8, \"route_group\": \"medium\", \"max_trip_hrs\": 1.3, \"max_trip_route_group\": 1.3, \"name\": \"City of Lompoc\", \"caltrans_district\": \"05 - San Luis Obispo\", \"drmt_organization_name\": null, \"cutoff2\": 30, \"cutoff\": 0}, {\"calitp_itp_id\": 169, \"trip_key\": -2574567352452424182, \"trip_id\": \"6WD6_1300\", \"shape_id\": \"6\", \"route_id\": \"6\", \"service_hours\": 1.25, \"trip_first_departure_ts\": 46800, \"trip_last_arrival_ts\": 51300, \"departure_hour\": 13, \"time_of_day\": \"Midday\", \"p25\": 1.2349999999999999, \"p50\": 1.25, \"p75\": 1.275, \"p50_trip\": 1, \"fastest_trip\": 0, \"car_duration_hours\": 0.84, \"competitive_route\": 1, \"bus_multiplier\": 1.49, \"bus_difference\": 24.6, \"num_trips\": 3, \"num_competitive\": 3, \"pct_trips_competitive\": 1.0, \"bus_difference_spread\": 4.8, \"route_group\": \"medium\", \"max_trip_hrs\": 1.3, \"max_trip_route_group\": 1.3, \"name\": \"City of Lompoc\", \"caltrans_district\": \"05 - San Luis Obispo\", \"drmt_organization_name\": null, \"cutoff2\": 30, \"cutoff\": 0}, {\"calitp_itp_id\": 169, \"trip_key\": 2696374193022581807, \"trip_id\": \"6WD6_0715\", \"shape_id\": \"6\", \"route_id\": \"6\", \"service_hours\": 1.3, \"trip_first_departure_ts\": 26100, \"trip_last_arrival_ts\": 30780, \"departure_hour\": 7, \"time_of_day\": \"AM Peak\", \"p25\": 1.2349999999999999, \"p50\": 1.25, \"p75\": 1.275, \"p50_trip\": 0, \"fastest_trip\": 0, \"car_duration_hours\": 0.84, \"competitive_route\": 1, \"bus_multiplier\": 1.55, \"bus_difference\": 27.6, \"num_trips\": 3, \"num_competitive\": 3, \"pct_trips_competitive\": 1.0, \"bus_difference_spread\": 4.8, \"route_group\": \"medium\", \"max_trip_hrs\": 1.3, \"max_trip_route_group\": 1.3, \"name\": \"City of Lompoc\", \"caltrans_district\": \"05 - San Luis Obispo\", \"drmt_organization_name\": null, \"cutoff2\": 30, \"cutoff\": 0}]}}, {\"mode\": \"vega-lite\"});\n",
       "</script>"
      ],
      "text/plain": [
       "alt.FacetChart(...)"
      ]
     },
     "metadata": {},
     "output_type": "display_data"
    }
   ],
   "source": [
    "route_group = \"medium\"\n",
    "try:\n",
    "    subset_routes, mult, diff  = setup_charts(df, PCT_COMPETITIVE_THRESHOLD, route_group)\n",
    "    if len(subset_routes) > 0:\n",
    "        display(\n",
    "            Markdown(\n",
    "                f\"{CAPTIONS_DICT[route_group]}\"\n",
    "                \"Within each route group, routes are sorted in descending order \"\n",
    "                \"by % competitive trips and # trips below the additional time cut-off.\"\n",
    "            )\n",
    "        )\n",
    "\n",
    "        display(mult)\n",
    "        display(diff)\n",
    "except:\n",
    "    print(\"No routes meet this criteria.\")"
   ]
  },
  {
   "cell_type": "markdown",
   "id": "124b76d0-886c-4d03-92ac-f1bda3cda182",
   "metadata": {
    "papermill": {
     "duration": 0.019734,
     "end_time": "2022-05-08T15:58:11.222953",
     "exception": false,
     "start_time": "2022-05-08T15:58:11.203219",
     "status": "completed"
    },
    "tags": []
   },
   "source": [
    "### Long Routes (> 1.5 hrs)"
   ]
  },
  {
   "cell_type": "code",
   "execution_count": 14,
   "id": "ddc81b19-4c45-4c81-8b7a-5e0f394aa7a3",
   "metadata": {
    "execution": {
     "iopub.execute_input": "2022-05-08T15:58:11.254805Z",
     "iopub.status.busy": "2022-05-08T15:58:11.254336Z",
     "iopub.status.idle": "2022-05-08T15:58:11.265949Z",
     "shell.execute_reply": "2022-05-08T15:58:11.265372Z"
    },
    "jupyter": {
     "source_hidden": true
    },
    "papermill": {
     "duration": 0.029519,
     "end_time": "2022-05-08T15:58:11.267627",
     "exception": false,
     "start_time": "2022-05-08T15:58:11.238108",
     "status": "completed"
    },
    "tags": [
     "remove_input"
    ]
   },
   "outputs": [
    {
     "name": "stdout",
     "output_type": "stream",
     "text": [
      "No routes meet this criteria.\n"
     ]
    }
   ],
   "source": [
    "route_group = \"long\"\n",
    "try:\n",
    "    subset_routes, mult, diff  = setup_charts(df, PCT_COMPETITIVE_THRESHOLD, route_group)\n",
    "    if len(subset_routes) > 0:\n",
    "        display(\n",
    "            Markdown(\n",
    "                f\"{CAPTIONS_DICT[route_group]}\"\n",
    "                \"Within each route group, routes are sorted in descending order \"\n",
    "                \"by % competitive trips and # trips below the additional time cut-off.\"\n",
    "            )\n",
    "        )\n",
    "\n",
    "        display(mult)\n",
    "        display(diff)\n",
    "except:\n",
    "    print(\"No routes meet this criteria.\")"
   ]
  }
 ],
 "metadata": {
  "kernelspec": {
   "display_name": "Python 3 (ipykernel)",
   "language": "python",
   "name": "python3"
  },
  "language_info": {
   "codemirror_mode": {
    "name": "ipython",
    "version": 3
   },
   "file_extension": ".py",
   "mimetype": "text/x-python",
   "name": "python",
   "nbconvert_exporter": "python",
   "pygments_lexer": "ipython3",
   "version": "3.9.12"
  },
  "papermill": {
   "default_parameters": {},
   "duration": 22.508828,
   "end_time": "2022-05-08T15:58:12.405337",
   "environment_variables": {},
   "exception": null,
   "input_path": "bus_service_increase/competitive-parallel-routes.ipynb",
   "output_path": "portfolio/parallel_corridors/district_05-san-luis-obispo/competitive-parallel-routes__itp_id_169.ipynb",
   "parameters": {
    "district": "05 - San Luis Obispo",
    "itp_id": 169
   },
   "start_time": "2022-05-08T15:57:49.896509",
   "version": "2.3.4"
  }
 },
 "nbformat": 4,
 "nbformat_minor": 5
}