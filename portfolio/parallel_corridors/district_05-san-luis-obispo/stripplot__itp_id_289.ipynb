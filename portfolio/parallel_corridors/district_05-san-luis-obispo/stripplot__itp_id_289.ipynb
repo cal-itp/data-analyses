{
 "cells": [
  {
   "cell_type": "code",
   "execution_count": 1,
   "id": "95d00857-6a20-4529-a519-2cc7182928a9",
   "metadata": {
    "execution": {
     "iopub.execute_input": "2022-05-07T17:11:43.633380Z",
     "iopub.status.busy": "2022-05-07T17:11:43.633037Z",
     "iopub.status.idle": "2022-05-07T17:11:51.992294Z",
     "shell.execute_reply": "2022-05-07T17:11:51.991396Z"
    },
    "jupyter": {
     "source_hidden": true
    },
    "papermill": {
     "duration": 8.375254,
     "end_time": "2022-05-07T17:11:51.994774",
     "exception": false,
     "start_time": "2022-05-07T17:11:43.619520",
     "status": "completed"
    },
    "tags": [
     "remove_input"
    ]
   },
   "outputs": [],
   "source": [
    "%%capture\n",
    "import warnings\n",
    "warnings.filterwarnings('ignore')\n",
    "\n",
    "import altair as alt\n",
    "import calitp.magics\n",
    "import geopandas as gpd\n",
    "import intake\n",
    "import pandas as pd\n",
    "\n",
    "from IPython.display import display, Markdown, HTML\n",
    "\n",
    "import parallel_corridors_utils\n",
    "from shared_utils import styleguide\n",
    "\n",
    "catalog = intake.open_catalog(\"./*.yml\")\n",
    "alt.renderers.enable(\"html\")"
   ]
  },
  {
   "cell_type": "code",
   "execution_count": 2,
   "id": "8af2a0c1-f3da-408d-9bea-11d9fbf8695d",
   "metadata": {
    "execution": {
     "iopub.execute_input": "2022-05-07T17:11:52.017339Z",
     "iopub.status.busy": "2022-05-07T17:11:52.017081Z",
     "iopub.status.idle": "2022-05-07T17:11:52.020828Z",
     "shell.execute_reply": "2022-05-07T17:11:52.020046Z"
    },
    "jupyter": {
     "source_hidden": true
    },
    "papermill": {
     "duration": 0.01613,
     "end_time": "2022-05-07T17:11:52.022421",
     "exception": false,
     "start_time": "2022-05-07T17:11:52.006291",
     "status": "completed"
    },
    "tags": [
     "parameters",
     "remove_input"
    ]
   },
   "outputs": [],
   "source": [
    "# parameters cell\n",
    "itp_id = 182"
   ]
  },
  {
   "cell_type": "code",
   "execution_count": 3,
   "id": "fabe8c75",
   "metadata": {
    "execution": {
     "iopub.execute_input": "2022-05-07T17:11:52.045130Z",
     "iopub.status.busy": "2022-05-07T17:11:52.044746Z",
     "iopub.status.idle": "2022-05-07T17:11:52.048418Z",
     "shell.execute_reply": "2022-05-07T17:11:52.047942Z"
    },
    "jupyter": {
     "source_hidden": true
    },
    "papermill": {
     "duration": 0.016761,
     "end_time": "2022-05-07T17:11:52.050121",
     "exception": false,
     "start_time": "2022-05-07T17:11:52.033360",
     "status": "completed"
    },
    "tags": [
     "injected-parameters",
     "remove_input"
    ]
   },
   "outputs": [],
   "source": [
    "# Parameters\n",
    "district = \"05 - San Luis Obispo\"\n",
    "itp_id = 289\n"
   ]
  },
  {
   "cell_type": "code",
   "execution_count": 4,
   "id": "9582aaf4-79ff-412a-b248-8d8d693ebd4f",
   "metadata": {
    "execution": {
     "iopub.execute_input": "2022-05-07T17:11:52.082436Z",
     "iopub.status.busy": "2022-05-07T17:11:52.081796Z",
     "iopub.status.idle": "2022-05-07T17:11:53.494811Z",
     "shell.execute_reply": "2022-05-07T17:11:53.493882Z"
    },
    "jupyter": {
     "source_hidden": true
    },
    "papermill": {
     "duration": 1.432932,
     "end_time": "2022-05-07T17:11:53.496988",
     "exception": false,
     "start_time": "2022-05-07T17:11:52.064056",
     "status": "completed"
    },
    "tags": [
     "remove_input"
    ]
   },
   "outputs": [],
   "source": [
    "df = catalog.competitive_route_variability.read()\n",
    "\n",
    "df = (df[(df.calitp_itp_id == itp_id) & \n",
    "         (df.route_group.notna())]\n",
    "      .reset_index(drop=True)\n",
    "     )\n",
    "\n",
    "\n",
    "if itp_id == 182:\n",
    "    df = df.assign(\n",
    "        route_id = df.route_id.str.replace('-13153', '').astype(int)\n",
    "    )"
   ]
  },
  {
   "cell_type": "code",
   "execution_count": 5,
   "id": "33ac4b06-f647-4dce-a625-8f2c1b37cc60",
   "metadata": {
    "execution": {
     "iopub.execute_input": "2022-05-07T17:11:53.521563Z",
     "iopub.status.busy": "2022-05-07T17:11:53.520647Z",
     "iopub.status.idle": "2022-05-07T17:11:53.528640Z",
     "shell.execute_reply": "2022-05-07T17:11:53.527913Z"
    },
    "jupyter": {
     "source_hidden": true
    },
    "papermill": {
     "duration": 0.021142,
     "end_time": "2022-05-07T17:11:53.530409",
     "exception": false,
     "start_time": "2022-05-07T17:11:53.509267",
     "status": "completed"
    },
    "tags": [
     "remove_input"
    ]
   },
   "outputs": [],
   "source": [
    "%%capture_parameters\n",
    "operator_name = df.name.iloc[0]\n",
    "\n",
    "itp_id, operator_name"
   ]
  },
  {
   "cell_type": "markdown",
   "id": "65bc6f5c-8348-42ee-b2dd-52057c406852",
   "metadata": {
    "papermill": {
     "duration": 0.010111,
     "end_time": "2022-05-07T17:11:53.551092",
     "exception": false,
     "start_time": "2022-05-07T17:11:53.540981",
     "status": "completed"
    },
    "tags": []
   },
   "source": [
    "# San Luis Obispo Regional Transit Authority  (ITP ID: 289)"
   ]
  },
  {
   "cell_type": "code",
   "execution_count": 6,
   "id": "a689c1ab-2c6c-4831-8d64-897f5986f571",
   "metadata": {
    "execution": {
     "iopub.execute_input": "2022-05-07T17:11:53.574120Z",
     "iopub.status.busy": "2022-05-07T17:11:53.573770Z",
     "iopub.status.idle": "2022-05-07T17:11:53.580064Z",
     "shell.execute_reply": "2022-05-07T17:11:53.579347Z"
    },
    "jupyter": {
     "source_hidden": true
    },
    "papermill": {
     "duration": 0.020625,
     "end_time": "2022-05-07T17:11:53.581672",
     "exception": false,
     "start_time": "2022-05-07T17:11:53.561047",
     "status": "completed"
    },
    "tags": [
     "remove_input"
    ]
   },
   "outputs": [
    {
     "data": {
      "text/html": [
       "<h1>Competitive & Parallel Routes</h1>"
      ],
      "text/plain": [
       "<IPython.core.display.HTML object>"
      ]
     },
     "metadata": {},
     "output_type": "display_data"
    }
   ],
   "source": [
    "display(HTML(\"<h1>Competitive & Parallel Routes</h1>\")) "
   ]
  },
  {
   "cell_type": "code",
   "execution_count": 7,
   "id": "2cb4d8d5-4760-40e4-85b1-cb833d8bb648",
   "metadata": {
    "execution": {
     "iopub.execute_input": "2022-05-07T17:11:53.608757Z",
     "iopub.status.busy": "2022-05-07T17:11:53.604052Z",
     "iopub.status.idle": "2022-05-07T17:12:03.532202Z",
     "shell.execute_reply": "2022-05-07T17:12:03.531376Z"
    },
    "jupyter": {
     "source_hidden": true
    },
    "papermill": {
     "duration": 9.94244,
     "end_time": "2022-05-07T17:12:03.534447",
     "exception": false,
     "start_time": "2022-05-07T17:11:53.592007",
     "status": "completed"
    },
    "tags": [
     "remove_input"
    ]
   },
   "outputs": [],
   "source": [
    "# Grab parameters for narrative text - clean up formatting here \n",
    "district = df.caltrans_district.iloc[0]\n",
    "formatted_date = pd.to_datetime(parallel_corridors_utils.SELECTED_DATE).strftime('%m-%d-%Y')\n",
    "\n",
    "PCT_COMPETITIVE_THRESHOLD = 0.75\n",
    "\n",
    "stats = parallel_corridors_utils.operator_parallel_competitive_stats(\n",
    "    itp_id, PCT_COMPETITIVE_THRESHOLD)\n",
    "\n",
    "pct_parallel = round(stats['parallel_routes'] / stats['num_routes'] * 100,1 )\n",
    "pct_competitive =  round(stats['competitive_routes'] / stats['num_routes'] * 100,1 )"
   ]
  },
  {
   "cell_type": "markdown",
   "id": "ab667928-5274-4490-82d9-4c39293209a4",
   "metadata": {
    "papermill": {
     "duration": 0.011102,
     "end_time": "2022-05-07T17:12:03.557063",
     "exception": false,
     "start_time": "2022-05-07T17:12:03.545961",
     "status": "completed"
    },
    "tags": []
   },
   "source": [
    "## Quick Stats"
   ]
  },
  {
   "cell_type": "code",
   "execution_count": 8,
   "id": "0416509d-dc62-4165-b62e-64f8b26e8b8e",
   "metadata": {
    "execution": {
     "iopub.execute_input": "2022-05-07T17:12:03.579710Z",
     "iopub.status.busy": "2022-05-07T17:12:03.579403Z",
     "iopub.status.idle": "2022-05-07T17:12:03.585187Z",
     "shell.execute_reply": "2022-05-07T17:12:03.584428Z"
    },
    "jupyter": {
     "source_hidden": true
    },
    "papermill": {
     "duration": 0.019141,
     "end_time": "2022-05-07T17:12:03.586967",
     "exception": false,
     "start_time": "2022-05-07T17:12:03.567826",
     "status": "completed"
    },
    "tags": [
     "remove_input"
    ]
   },
   "outputs": [
    {
     "data": {
      "text/markdown": [
       "**Bus routes in service**: 16 <br>**Parallel routes** to State Highway Network (SHN): 12 routes (75.0%)<br>**Competitive routes** against car travel: 6 routes (37.5%)"
      ],
      "text/plain": [
       "<IPython.core.display.Markdown object>"
      ]
     },
     "metadata": {},
     "output_type": "display_data"
    }
   ],
   "source": [
    "display(\n",
    "    Markdown(\n",
    "        f\"**Bus routes in service**: {stats['num_routes']} \"\n",
    "        \"<br>**Parallel routes** to State Highway Network (SHN): \"\n",
    "        f\"{stats['parallel_routes']} routes ({pct_parallel}%)\"\n",
    "        f\"<br>**Competitive routes** against car travel: {stats['competitive_routes']} routes ({pct_competitive}%)\"\n",
    "    )\n",
    ")"
   ]
  },
  {
   "cell_type": "code",
   "execution_count": 9,
   "id": "f9d6ab58-f0ee-460c-b6de-657490e1f386",
   "metadata": {
    "execution": {
     "iopub.execute_input": "2022-05-07T17:12:03.615689Z",
     "iopub.status.busy": "2022-05-07T17:12:03.614848Z",
     "iopub.status.idle": "2022-05-07T17:12:03.624362Z",
     "shell.execute_reply": "2022-05-07T17:12:03.623491Z"
    },
    "jupyter": {
     "source_hidden": true
    },
    "papermill": {
     "duration": 0.028248,
     "end_time": "2022-05-07T17:12:03.626121",
     "exception": false,
     "start_time": "2022-05-07T17:12:03.597873",
     "status": "completed"
    },
    "tags": [
     "remove_input"
    ]
   },
   "outputs": [],
   "source": [
    "def set_yaxis_range(df, y_col):\n",
    "    Y_MIN = df[y_col].min()\n",
    "    Y_MAX = df[y_col].max()\n",
    "    \n",
    "    return Y_MIN, Y_MAX\n",
    "\n",
    "# Rather than set it according to the operator, which can vary,\n",
    "# just use set thresholds for each group\n",
    "diff_cutoffs = {\n",
    "    \"short\": 20,\n",
    "    \"medium\": 30,\n",
    "    \"long\": 40,\n",
    "}\n",
    "\n",
    "PCT_TRIPS_BELOW_CUTOFF = 0.25\n",
    "\n",
    "def top15_routes(df, route_group):\n",
    "    df2 = (df[df.route_group==route_group])\n",
    "    # Set a cut-off to enable sorting, where most of the trips are \n",
    "    # below a certain time difference cut-off, \n",
    "    # grab top 15 routes where majority of trips are below that cut-off \n",
    "\n",
    "    route_cols = [\"calitp_itp_id\", \"route_id\"]\n",
    "\n",
    "    df2 = df2.assign(\n",
    "        below_cutoff = df2.apply(lambda x: 1 if x.bus_difference <= diff_cutoffs[route_group] \n",
    "                                 else 0, axis=1),\n",
    "        num_trips = df2.groupby(route_cols)[\"trip_id\"].transform(\"count\")\n",
    "    )\n",
    "\n",
    "    df2[\"below_cutoff\"] = df2.groupby(route_cols)[\"below_cutoff\"].transform(\"sum\")\n",
    "    df2[\"pct_below_cutoff\"] = df2.below_cutoff.divide(df2.num_trips)\n",
    "\n",
    "    # At least half the trips are below that cut-off\n",
    "    # but show 15 max, otherwise, show less, since these won't be as interesting to operators\n",
    "    df3 = (df2[df2.pct_below_cutoff >= PCT_TRIPS_BELOW_CUTOFF]\n",
    "           .sort_values([\"calitp_itp_id\", \"below_cutoff\", \n",
    "                         \"pct_below_cutoff\", \"route_id\"],\n",
    "                        ascending = [True, False, False, True]\n",
    "                       )\n",
    "           .drop_duplicates(subset=[\"calitp_itp_id\", \"route_id\"])\n",
    "          ).head(15)\n",
    "    \n",
    "    return list(df3.route_id)"
   ]
  },
  {
   "cell_type": "code",
   "execution_count": 10,
   "id": "cf36d559-3349-4144-8086-8ac9ce937a5a",
   "metadata": {
    "execution": {
     "iopub.execute_input": "2022-05-07T17:12:03.651612Z",
     "iopub.status.busy": "2022-05-07T17:12:03.650777Z",
     "iopub.status.idle": "2022-05-07T17:12:03.656314Z",
     "shell.execute_reply": "2022-05-07T17:12:03.655848Z"
    },
    "jupyter": {
     "source_hidden": true
    },
    "papermill": {
     "duration": 0.019298,
     "end_time": "2022-05-07T17:12:03.657892",
     "exception": false,
     "start_time": "2022-05-07T17:12:03.638594",
     "status": "completed"
    },
    "tags": [
     "remove_input"
    ]
   },
   "outputs": [],
   "source": [
    "short_caption = (\n",
    "    f\"<br>These are routes that have at least {int(PCT_TRIPS_BELOW_CUTOFF*100)}% of their trips \"\n",
    "    f\"take no more than an additional {diff_cutoffs['short']} min compared to a car \"\n",
    "    \"(up to 15 routes) are shown.\"\n",
    ")\n",
    "\n",
    "med_caption = (\n",
    "    f\"<br>These are routes that have at least {int(PCT_TRIPS_BELOW_CUTOFF*100)}% of their trips \"\n",
    "    f\"take no more than an additional {diff_cutoffs['medium']} min compared to a car \"\n",
    "    \"(up to 15 routes) are shown.\"\n",
    ")\n",
    "\n",
    "long_caption = (\n",
    "    f\"<br>These are routes that have at least {int(PCT_TRIPS_BELOW_CUTOFF*100)}% of their trips \"\n",
    "    f\"take no more than an additional {diff_cutoffs['long']} min compared to a car \"\n",
    "    \"(up to 15 routes) are shown.\")\n",
    "\n",
    "\n",
    "CAPTIONS_DICT = {\n",
    "    \"short\": short_caption,\n",
    "    \"medium\": med_caption,\n",
    "    \"long\": long_caption,\n",
    "}"
   ]
  },
  {
   "cell_type": "code",
   "execution_count": 11,
   "id": "e4306d58-6944-47e9-afef-5d5b524c751f",
   "metadata": {
    "execution": {
     "iopub.execute_input": "2022-05-07T17:12:03.682597Z",
     "iopub.status.busy": "2022-05-07T17:12:03.682026Z",
     "iopub.status.idle": "2022-05-07T17:12:03.688749Z",
     "shell.execute_reply": "2022-05-07T17:12:03.688230Z"
    },
    "jupyter": {
     "source_hidden": true
    },
    "papermill": {
     "duration": 0.021412,
     "end_time": "2022-05-07T17:12:03.690317",
     "exception": false,
     "start_time": "2022-05-07T17:12:03.668905",
     "status": "completed"
    },
    "tags": [
     "remove_input"
    ]
   },
   "outputs": [],
   "source": [
    "def setup_charts(df, PCT_COMPETITIVE_THRESHOLD, route_group):\n",
    "    # Set up df for charting (cut-off at some threshold to show most competitive routes)\n",
    "    plot_me = (df[df.pct_trips_competitive > PCT_COMPETITIVE_THRESHOLD]\n",
    "           .drop(columns = \"geometry\")\n",
    "    )\n",
    "    \n",
    "    y_col1 = \"bus_multiplier\"\n",
    "    Y_MIN1, Y_MAX1 = set_yaxis_range(plot_me, y_col1)\n",
    "\n",
    "    y_col2 = \"bus_difference\"\n",
    "    Y_MIN2, Y_MAX2 = set_yaxis_range(plot_me, y_col2)\n",
    "     \n",
    "    subset_routes = top15_routes(plot_me, route_group)\n",
    "    \n",
    "    multiplier_chart = parallel_corridors_utils.make_stripplot(\n",
    "        plot_me[plot_me.route_id.isin(subset_routes)], \n",
    "        y_col1, Y_MIN = Y_MIN1, Y_MAX = Y_MAX1\n",
    "    )\n",
    "    \n",
    "    difference_chart = parallel_corridors_utils.make_stripplot(\n",
    "        plot_me[plot_me.route_id.isin(subset_routes)], \n",
    "        y_col2, Y_MIN = Y_MIN2, Y_MAX = Y_MAX2\n",
    "    )\n",
    "    \n",
    "    return subset_routes, multiplier_chart, difference_chart            "
   ]
  },
  {
   "cell_type": "markdown",
   "id": "525f9b38-072b-46d1-96a8-1aa4b038357c",
   "metadata": {
    "papermill": {
     "duration": 0.012002,
     "end_time": "2022-05-07T17:12:03.722390",
     "exception": false,
     "start_time": "2022-05-07T17:12:03.710388",
     "status": "completed"
    },
    "tags": []
   },
   "source": [
    "## Viable Competitive Routes\n",
    "### Short Routes (< 1 hr)"
   ]
  },
  {
   "cell_type": "code",
   "execution_count": 12,
   "id": "57f7084c-2cf7-45c6-ba08-1609e0bd6ca5",
   "metadata": {
    "execution": {
     "iopub.execute_input": "2022-05-07T17:12:03.746612Z",
     "iopub.status.busy": "2022-05-07T17:12:03.746016Z",
     "iopub.status.idle": "2022-05-07T17:12:03.979186Z",
     "shell.execute_reply": "2022-05-07T17:12:03.978509Z"
    },
    "jupyter": {
     "source_hidden": true
    },
    "papermill": {
     "duration": 0.248256,
     "end_time": "2022-05-07T17:12:03.981536",
     "exception": false,
     "start_time": "2022-05-07T17:12:03.733280",
     "status": "completed"
    },
    "tags": [
     "remove_input"
    ]
   },
   "outputs": [
    {
     "data": {
      "text/markdown": [
       "<br>These are routes that have at least 25% of their trips take no more than an additional 20 min compared to a car (up to 15 routes) are shown.Within each route group, routes are sorted in descending order by % competitive trips and # trips below the additional time cut-off."
      ],
      "text/plain": [
       "<IPython.core.display.Markdown object>"
      ]
     },
     "metadata": {},
     "output_type": "display_data"
    },
    {
     "data": {
      "text/html": [
       "\n",
       "<div id=\"altair-viz-14fd55d51cf14c25a8896980dbc59d34\"></div>\n",
       "<script type=\"text/javascript\">\n",
       "  var VEGA_DEBUG = (typeof VEGA_DEBUG == \"undefined\") ? {} : VEGA_DEBUG;\n",
       "  (function(spec, embedOpt){\n",
       "    let outputDiv = document.currentScript.previousElementSibling;\n",
       "    if (outputDiv.id !== \"altair-viz-14fd55d51cf14c25a8896980dbc59d34\") {\n",
       "      outputDiv = document.getElementById(\"altair-viz-14fd55d51cf14c25a8896980dbc59d34\");\n",
       "    }\n",
       "    const paths = {\n",
       "      \"vega\": \"https://cdn.jsdelivr.net/npm//vega@5?noext\",\n",
       "      \"vega-lib\": \"https://cdn.jsdelivr.net/npm//vega-lib?noext\",\n",
       "      \"vega-lite\": \"https://cdn.jsdelivr.net/npm//vega-lite@4.17.0?noext\",\n",
       "      \"vega-embed\": \"https://cdn.jsdelivr.net/npm//vega-embed@6?noext\",\n",
       "    };\n",
       "\n",
       "    function maybeLoadScript(lib, version) {\n",
       "      var key = `${lib.replace(\"-\", \"\")}_version`;\n",
       "      return (VEGA_DEBUG[key] == version) ?\n",
       "        Promise.resolve(paths[lib]) :\n",
       "        new Promise(function(resolve, reject) {\n",
       "          var s = document.createElement('script');\n",
       "          document.getElementsByTagName(\"head\")[0].appendChild(s);\n",
       "          s.async = true;\n",
       "          s.onload = () => {\n",
       "            VEGA_DEBUG[key] = version;\n",
       "            return resolve(paths[lib]);\n",
       "          };\n",
       "          s.onerror = () => reject(`Error loading script: ${paths[lib]}`);\n",
       "          s.src = paths[lib];\n",
       "        });\n",
       "    }\n",
       "\n",
       "    function showError(err) {\n",
       "      outputDiv.innerHTML = `<div class=\"error\" style=\"color:red;\">${err}</div>`;\n",
       "      throw err;\n",
       "    }\n",
       "\n",
       "    function displayChart(vegaEmbed) {\n",
       "      vegaEmbed(outputDiv, spec, embedOpt)\n",
       "        .catch(err => showError(`Javascript Error: ${err.message}<br>This usually means there's a typo in your chart specification. See the javascript console for the full traceback.`));\n",
       "    }\n",
       "\n",
       "    if(typeof define === \"function\" && define.amd) {\n",
       "      requirejs.config({paths});\n",
       "      require([\"vega-embed\"], displayChart, err => showError(`Error loading script: ${err.message}`));\n",
       "    } else {\n",
       "      maybeLoadScript(\"vega\", \"5\")\n",
       "        .then(() => maybeLoadScript(\"vega-lite\", \"4.17.0\"))\n",
       "        .then(() => maybeLoadScript(\"vega-embed\", \"6\"))\n",
       "        .catch(showError)\n",
       "        .then(() => displayChart(vegaEmbed));\n",
       "    }\n",
       "  })({\"config\": {\"view\": {\"continuousWidth\": 400, \"continuousHeight\": 300, \"stroke\": null}, \"facet\": {\"spacing\": 0}}, \"data\": {\"name\": \"data-da6e238624bee7994730ff78a4a89213\"}, \"facet\": {\"column\": {\"field\": \"route_id\", \"sort\": [\"12N\", \"15S\", \"15N\"], \"title\": \"Route ID\", \"type\": \"nominal\"}}, \"spec\": {\"layer\": [{\"mark\": {\"type\": \"point\", \"opacity\": 0.65, \"size\": 12, \"strokeWidth\": 1.1}, \"encoding\": {\"color\": {\"field\": \"time_of_day\", \"scale\": {\"range\": [\"#136C97\", \"#E16B26\", \"#F6BF16\", \"#00896B\", \"#7790A3\", \"#5B559C\"]}, \"sort\": [\"AM Peak\", \"Midday\", \"PM Peak\", \"Owl Service\"], \"title\": \"Time of Day\", \"type\": \"nominal\"}, \"tooltip\": [{\"field\": \"route_id\", \"type\": \"nominal\"}, {\"field\": \"trip_id\", \"type\": \"nominal\"}, {\"field\": \"service_hours\", \"type\": \"quantitative\"}, {\"field\": \"car_duration_hours\", \"type\": \"quantitative\"}, {\"field\": \"bus_multiplier\", \"type\": \"quantitative\"}, {\"field\": \"bus_difference\", \"type\": \"quantitative\"}, {\"field\": \"num_trips\", \"type\": \"quantitative\"}, {\"field\": \"num_competitive\", \"type\": \"quantitative\"}, {\"field\": \"pct_trips_competitive\", \"type\": \"quantitative\"}, {\"field\": \"p25\", \"type\": \"quantitative\"}, {\"field\": \"p50\", \"type\": \"quantitative\"}, {\"field\": \"p75\", \"type\": \"quantitative\"}], \"x\": {\"axis\": {\"grid\": false, \"labels\": false, \"ticks\": true, \"values\": [0]}, \"field\": \"jitter\", \"scale\": {}, \"title\": null, \"type\": \"quantitative\"}, \"y\": {\"field\": \"bus_multiplier\", \"scale\": {\"domain\": [-0.25, 2.5]}, \"title\": \"Ratio of Bus to Car Travel Time\", \"type\": \"quantitative\"}}, \"selection\": {\"selector001\": {\"type\": \"interval\", \"bind\": \"scales\", \"encodings\": [\"x\", \"y\"]}}, \"transform\": [{\"calculate\": \"sqrt(-2*log(random()))*cos(2*PI*random())\", \"as\": \"jitter\"}], \"width\": 60}, {\"layer\": [{\"mark\": {\"type\": \"point\", \"opacity\": 0.6, \"size\": 20, \"strokeWidth\": 1.3}, \"encoding\": {\"color\": {\"value\": \"#323434\"}, \"y\": {\"field\": \"bus_multiplier\", \"type\": \"quantitative\"}}, \"transform\": [{\"filter\": \"(datum.p50_trip === 1)\"}]}, {\"mark\": {\"type\": \"rule\", \"strokeDash\": [2, 3]}, \"encoding\": {\"color\": {\"value\": \"#323434\"}, \"y\": {\"field\": \"cutoff\", \"type\": \"quantitative\"}}}, {\"mark\": {\"type\": \"text\", \"align\": \"center\", \"baseline\": \"middle\"}, \"encoding\": {\"color\": {\"value\": \"black\"}, \"text\": {\"field\": \"pct_trips_competitive\", \"format\": \".0%\", \"type\": \"quantitative\"}, \"tooltip\": [{\"field\": \"route_id\", \"type\": \"nominal\"}, {\"field\": \"trip_id\", \"type\": \"nominal\"}, {\"field\": \"service_hours\", \"type\": \"quantitative\"}, {\"field\": \"car_duration_hours\", \"type\": \"quantitative\"}, {\"field\": \"bus_multiplier\", \"type\": \"quantitative\"}, {\"field\": \"bus_difference\", \"type\": \"quantitative\"}, {\"field\": \"num_trips\", \"type\": \"quantitative\"}, {\"field\": \"num_competitive\", \"type\": \"quantitative\"}, {\"field\": \"pct_trips_competitive\", \"type\": \"quantitative\"}, {\"field\": \"p25\", \"type\": \"quantitative\"}, {\"field\": \"p50\", \"type\": \"quantitative\"}, {\"field\": \"p75\", \"type\": \"quantitative\"}], \"x\": {\"value\": 30}, \"y\": {\"value\": 15}}, \"transform\": [{\"calculate\": \"sqrt(-2*log(random()))*cos(2*PI*random())\", \"as\": \"jitter\"}, {\"filter\": \"(datum.fastest_trip === 1)\"}]}]}]}, \"resolve\": {\"scale\": {\"y\": \"shared\"}}, \"title\": \"Ratio of Bus to Car Travel Time\", \"$schema\": \"https://vega.github.io/schema/vega-lite/v4.17.0.json\", \"datasets\": {\"data-da6e238624bee7994730ff78a4a89213\": [{\"calitp_itp_id\": 289, \"trip_key\": -2246579781802731718, \"trip_id\": \"389\", \"shape_id\": \"70\", \"route_id\": \"12N\", \"service_hours\": 0.57, \"trip_first_departure_ts\": 45180, \"trip_last_arrival_ts\": 47220, \"departure_hour\": 12, \"time_of_day\": \"Midday\", \"p25\": 0.57, \"p50\": 0.57, \"p75\": 0.57, \"p50_trip\": 1, \"fastest_trip\": 0, \"car_duration_hours\": 0.44, \"competitive_route\": 1, \"bus_multiplier\": 1.3, \"bus_difference\": 7.8, \"num_trips\": 15, \"num_competitive\": 15, \"pct_trips_competitive\": 1.0, \"bus_difference_spread\": 0.0, \"route_group\": \"short\", \"max_trip_hrs\": 0.57, \"max_trip_route_group\": 0.83, \"name\": \"San Luis Obispo Regional Transit Authority \", \"caltrans_district\": \"05 - San Luis Obispo\", \"drmt_organization_name\": null, \"cutoff2\": 12.45, \"cutoff\": 2}, {\"calitp_itp_id\": 289, \"trip_key\": 4459675781329367969, \"trip_id\": \"405\", \"shape_id\": \"70\", \"route_id\": \"12N\", \"service_hours\": 0.57, \"trip_first_departure_ts\": 73980, \"trip_last_arrival_ts\": 76020, \"departure_hour\": 20, \"time_of_day\": \"Owl Service\", \"p25\": 0.57, \"p50\": 0.57, \"p75\": 0.57, \"p50_trip\": 1, \"fastest_trip\": 1, \"car_duration_hours\": 0.44, \"competitive_route\": 1, \"bus_multiplier\": 1.3, \"bus_difference\": 7.8, \"num_trips\": 15, \"num_competitive\": 15, \"pct_trips_competitive\": 1.0, \"bus_difference_spread\": 0.0, \"route_group\": \"short\", \"max_trip_hrs\": 0.57, \"max_trip_route_group\": 0.83, \"name\": \"San Luis Obispo Regional Transit Authority \", \"caltrans_district\": \"05 - San Luis Obispo\", \"drmt_organization_name\": null, \"cutoff2\": 12.45, \"cutoff\": 2}, {\"calitp_itp_id\": 289, \"trip_key\": -3330270687214443731, \"trip_id\": \"402\", \"shape_id\": \"70\", \"route_id\": \"12N\", \"service_hours\": 0.57, \"trip_first_departure_ts\": 59580, \"trip_last_arrival_ts\": 61620, \"departure_hour\": 16, \"time_of_day\": \"Midday\", \"p25\": 0.57, \"p50\": 0.57, \"p75\": 0.57, \"p50_trip\": 1, \"fastest_trip\": 0, \"car_duration_hours\": 0.44, \"competitive_route\": 1, \"bus_multiplier\": 1.3, \"bus_difference\": 7.8, \"num_trips\": 15, \"num_competitive\": 15, \"pct_trips_competitive\": 1.0, \"bus_difference_spread\": 0.0, \"route_group\": \"short\", \"max_trip_hrs\": 0.57, \"max_trip_route_group\": 0.83, \"name\": \"San Luis Obispo Regional Transit Authority \", \"caltrans_district\": \"05 - San Luis Obispo\", \"drmt_organization_name\": null, \"cutoff2\": 12.45, \"cutoff\": 2}, {\"calitp_itp_id\": 289, \"trip_key\": -7530315558145172130, \"trip_id\": \"387\", \"shape_id\": \"70\", \"route_id\": \"12N\", \"service_hours\": 0.57, \"trip_first_departure_ts\": 37980, \"trip_last_arrival_ts\": 40020, \"departure_hour\": 10, \"time_of_day\": \"Midday\", \"p25\": 0.57, \"p50\": 0.57, \"p75\": 0.57, \"p50_trip\": 1, \"fastest_trip\": 0, \"car_duration_hours\": 0.44, \"competitive_route\": 1, \"bus_multiplier\": 1.3, \"bus_difference\": 7.8, \"num_trips\": 15, \"num_competitive\": 15, \"pct_trips_competitive\": 1.0, \"bus_difference_spread\": 0.0, \"route_group\": \"short\", \"max_trip_hrs\": 0.57, \"max_trip_route_group\": 0.83, \"name\": \"San Luis Obispo Regional Transit Authority \", \"caltrans_district\": \"05 - San Luis Obispo\", \"drmt_organization_name\": null, \"cutoff2\": 12.45, \"cutoff\": 2}, {\"calitp_itp_id\": 289, \"trip_key\": -8317253866287390273, \"trip_id\": \"381\", \"shape_id\": \"70\", \"route_id\": \"12N\", \"service_hours\": 0.57, \"trip_first_departure_ts\": 41580, \"trip_last_arrival_ts\": 43620, \"departure_hour\": 11, \"time_of_day\": \"Midday\", \"p25\": 0.57, \"p50\": 0.57, \"p75\": 0.57, \"p50_trip\": 1, \"fastest_trip\": 0, \"car_duration_hours\": 0.44, \"competitive_route\": 1, \"bus_multiplier\": 1.3, \"bus_difference\": 7.8, \"num_trips\": 15, \"num_competitive\": 15, \"pct_trips_competitive\": 1.0, \"bus_difference_spread\": 0.0, \"route_group\": \"short\", \"max_trip_hrs\": 0.57, \"max_trip_route_group\": 0.83, \"name\": \"San Luis Obispo Regional Transit Authority \", \"caltrans_district\": \"05 - San Luis Obispo\", \"drmt_organization_name\": null, \"cutoff2\": 12.45, \"cutoff\": 2}, {\"calitp_itp_id\": 289, \"trip_key\": 8746897820544260048, \"trip_id\": \"379\", \"shape_id\": \"70\", \"route_id\": \"12N\", \"service_hours\": 0.57, \"trip_first_departure_ts\": 34380, \"trip_last_arrival_ts\": 36420, \"departure_hour\": 9, \"time_of_day\": \"AM Peak\", \"p25\": 0.57, \"p50\": 0.57, \"p75\": 0.57, \"p50_trip\": 1, \"fastest_trip\": 0, \"car_duration_hours\": 0.44, \"competitive_route\": 1, \"bus_multiplier\": 1.3, \"bus_difference\": 7.8, \"num_trips\": 15, \"num_competitive\": 15, \"pct_trips_competitive\": 1.0, \"bus_difference_spread\": 0.0, \"route_group\": \"short\", \"max_trip_hrs\": 0.57, \"max_trip_route_group\": 0.83, \"name\": \"San Luis Obispo Regional Transit Authority \", \"caltrans_district\": \"05 - San Luis Obispo\", \"drmt_organization_name\": null, \"cutoff2\": 12.45, \"cutoff\": 2}, {\"calitp_itp_id\": 289, \"trip_key\": -2840202986529471773, \"trip_id\": \"383\", \"shape_id\": \"70\", \"route_id\": \"12N\", \"service_hours\": 0.57, \"trip_first_departure_ts\": 23580, \"trip_last_arrival_ts\": 25620, \"departure_hour\": 6, \"time_of_day\": \"Owl Service\", \"p25\": 0.57, \"p50\": 0.57, \"p75\": 0.57, \"p50_trip\": 1, \"fastest_trip\": 0, \"car_duration_hours\": 0.44, \"competitive_route\": 1, \"bus_multiplier\": 1.3, \"bus_difference\": 7.8, \"num_trips\": 15, \"num_competitive\": 15, \"pct_trips_competitive\": 1.0, \"bus_difference_spread\": 0.0, \"route_group\": \"short\", \"max_trip_hrs\": 0.57, \"max_trip_route_group\": 0.83, \"name\": \"San Luis Obispo Regional Transit Authority \", \"caltrans_district\": \"05 - San Luis Obispo\", \"drmt_organization_name\": null, \"cutoff2\": 12.45, \"cutoff\": 2}, {\"calitp_itp_id\": 289, \"trip_key\": 3739449074221164088, \"trip_id\": \"395\", \"shape_id\": \"70\", \"route_id\": \"12N\", \"service_hours\": 0.57, \"trip_first_departure_ts\": 63180, \"trip_last_arrival_ts\": 65220, \"departure_hour\": 17, \"time_of_day\": \"PM Peak\", \"p25\": 0.57, \"p50\": 0.57, \"p75\": 0.57, \"p50_trip\": 1, \"fastest_trip\": 0, \"car_duration_hours\": 0.44, \"competitive_route\": 1, \"bus_multiplier\": 1.3, \"bus_difference\": 7.8, \"num_trips\": 15, \"num_competitive\": 15, \"pct_trips_competitive\": 1.0, \"bus_difference_spread\": 0.0, \"route_group\": \"short\", \"max_trip_hrs\": 0.57, \"max_trip_route_group\": 0.83, \"name\": \"San Luis Obispo Regional Transit Authority \", \"caltrans_district\": \"05 - San Luis Obispo\", \"drmt_organization_name\": null, \"cutoff2\": 12.45, \"cutoff\": 2}, {\"calitp_itp_id\": 289, \"trip_key\": 954416520255967207, \"trip_id\": \"393\", \"shape_id\": \"70\", \"route_id\": \"12N\", \"service_hours\": 0.57, \"trip_first_departure_ts\": 55980, \"trip_last_arrival_ts\": 58020, \"departure_hour\": 15, \"time_of_day\": \"Midday\", \"p25\": 0.57, \"p50\": 0.57, \"p75\": 0.57, \"p50_trip\": 1, \"fastest_trip\": 0, \"car_duration_hours\": 0.44, \"competitive_route\": 1, \"bus_multiplier\": 1.3, \"bus_difference\": 7.8, \"num_trips\": 15, \"num_competitive\": 15, \"pct_trips_competitive\": 1.0, \"bus_difference_spread\": 0.0, \"route_group\": \"short\", \"max_trip_hrs\": 0.57, \"max_trip_route_group\": 0.83, \"name\": \"San Luis Obispo Regional Transit Authority \", \"caltrans_district\": \"05 - San Luis Obispo\", \"drmt_organization_name\": null, \"cutoff2\": 12.45, \"cutoff\": 2}, {\"calitp_itp_id\": 289, \"trip_key\": -7133200235456066733, \"trip_id\": \"377\", \"shape_id\": \"70\", \"route_id\": \"12N\", \"service_hours\": 0.57, \"trip_first_departure_ts\": 27180, \"trip_last_arrival_ts\": 29220, \"departure_hour\": 7, \"time_of_day\": \"AM Peak\", \"p25\": 0.57, \"p50\": 0.57, \"p75\": 0.57, \"p50_trip\": 1, \"fastest_trip\": 0, \"car_duration_hours\": 0.44, \"competitive_route\": 1, \"bus_multiplier\": 1.3, \"bus_difference\": 7.8, \"num_trips\": 15, \"num_competitive\": 15, \"pct_trips_competitive\": 1.0, \"bus_difference_spread\": 0.0, \"route_group\": \"short\", \"max_trip_hrs\": 0.57, \"max_trip_route_group\": 0.83, \"name\": \"San Luis Obispo Regional Transit Authority \", \"caltrans_district\": \"05 - San Luis Obispo\", \"drmt_organization_name\": null, \"cutoff2\": 12.45, \"cutoff\": 2}, {\"calitp_itp_id\": 289, \"trip_key\": -6015374649293254099, \"trip_id\": \"400\", \"shape_id\": \"70\", \"route_id\": \"12N\", \"service_hours\": 0.57, \"trip_first_departure_ts\": 52380, \"trip_last_arrival_ts\": 54420, \"departure_hour\": 14, \"time_of_day\": \"Midday\", \"p25\": 0.57, \"p50\": 0.57, \"p75\": 0.57, \"p50_trip\": 1, \"fastest_trip\": 0, \"car_duration_hours\": 0.44, \"competitive_route\": 1, \"bus_multiplier\": 1.3, \"bus_difference\": 7.8, \"num_trips\": 15, \"num_competitive\": 15, \"pct_trips_competitive\": 1.0, \"bus_difference_spread\": 0.0, \"route_group\": \"short\", \"max_trip_hrs\": 0.57, \"max_trip_route_group\": 0.83, \"name\": \"San Luis Obispo Regional Transit Authority \", \"caltrans_district\": \"05 - San Luis Obispo\", \"drmt_organization_name\": null, \"cutoff2\": 12.45, \"cutoff\": 2}, {\"calitp_itp_id\": 289, \"trip_key\": -4886278028572274845, \"trip_id\": \"404\", \"shape_id\": \"70\", \"route_id\": \"12N\", \"service_hours\": 0.57, \"trip_first_departure_ts\": 66780, \"trip_last_arrival_ts\": 68820, \"departure_hour\": 18, \"time_of_day\": \"PM Peak\", \"p25\": 0.57, \"p50\": 0.57, \"p75\": 0.57, \"p50_trip\": 1, \"fastest_trip\": 0, \"car_duration_hours\": 0.44, \"competitive_route\": 1, \"bus_multiplier\": 1.3, \"bus_difference\": 7.8, \"num_trips\": 15, \"num_competitive\": 15, \"pct_trips_competitive\": 1.0, \"bus_difference_spread\": 0.0, \"route_group\": \"short\", \"max_trip_hrs\": 0.57, \"max_trip_route_group\": 0.83, \"name\": \"San Luis Obispo Regional Transit Authority \", \"caltrans_district\": \"05 - San Luis Obispo\", \"drmt_organization_name\": null, \"cutoff2\": 12.45, \"cutoff\": 2}, {\"calitp_itp_id\": 289, \"trip_key\": 3271112421599002075, \"trip_id\": \"385\", \"shape_id\": \"70\", \"route_id\": \"12N\", \"service_hours\": 0.57, \"trip_first_departure_ts\": 30780, \"trip_last_arrival_ts\": 32820, \"departure_hour\": 8, \"time_of_day\": \"AM Peak\", \"p25\": 0.57, \"p50\": 0.57, \"p75\": 0.57, \"p50_trip\": 1, \"fastest_trip\": 0, \"car_duration_hours\": 0.44, \"competitive_route\": 1, \"bus_multiplier\": 1.3, \"bus_difference\": 7.8, \"num_trips\": 15, \"num_competitive\": 15, \"pct_trips_competitive\": 1.0, \"bus_difference_spread\": 0.0, \"route_group\": \"short\", \"max_trip_hrs\": 0.57, \"max_trip_route_group\": 0.83, \"name\": \"San Luis Obispo Regional Transit Authority \", \"caltrans_district\": \"05 - San Luis Obispo\", \"drmt_organization_name\": null, \"cutoff2\": 12.45, \"cutoff\": 2}, {\"calitp_itp_id\": 289, \"trip_key\": 4883370532645296501, \"trip_id\": \"391\", \"shape_id\": \"70\", \"route_id\": \"12N\", \"service_hours\": 0.57, \"trip_first_departure_ts\": 48780, \"trip_last_arrival_ts\": 50820, \"departure_hour\": 13, \"time_of_day\": \"Midday\", \"p25\": 0.57, \"p50\": 0.57, \"p75\": 0.57, \"p50_trip\": 1, \"fastest_trip\": 0, \"car_duration_hours\": 0.44, \"competitive_route\": 1, \"bus_multiplier\": 1.3, \"bus_difference\": 7.8, \"num_trips\": 15, \"num_competitive\": 15, \"pct_trips_competitive\": 1.0, \"bus_difference_spread\": 0.0, \"route_group\": \"short\", \"max_trip_hrs\": 0.57, \"max_trip_route_group\": 0.83, \"name\": \"San Luis Obispo Regional Transit Authority \", \"caltrans_district\": \"05 - San Luis Obispo\", \"drmt_organization_name\": null, \"cutoff2\": 12.45, \"cutoff\": 2}, {\"calitp_itp_id\": 289, \"trip_key\": -7762775760576108986, \"trip_id\": \"398\", \"shape_id\": \"70\", \"route_id\": \"12N\", \"service_hours\": 0.57, \"trip_first_departure_ts\": 70380, \"trip_last_arrival_ts\": 72420, \"departure_hour\": 19, \"time_of_day\": \"PM Peak\", \"p25\": 0.57, \"p50\": 0.57, \"p75\": 0.57, \"p50_trip\": 1, \"fastest_trip\": 0, \"car_duration_hours\": 0.44, \"competitive_route\": 1, \"bus_multiplier\": 1.3, \"bus_difference\": 7.8, \"num_trips\": 15, \"num_competitive\": 15, \"pct_trips_competitive\": 1.0, \"bus_difference_spread\": 0.0, \"route_group\": \"short\", \"max_trip_hrs\": 0.57, \"max_trip_route_group\": 0.83, \"name\": \"San Luis Obispo Regional Transit Authority \", \"caltrans_district\": \"05 - San Luis Obispo\", \"drmt_organization_name\": null, \"cutoff2\": 12.45, \"cutoff\": 2}, {\"calitp_itp_id\": 289, \"trip_key\": -1642980166738371902, \"trip_id\": \"1006\", \"shape_id\": \"129\", \"route_id\": \"15N\", \"service_hours\": 0.73, \"trip_first_departure_ts\": 36000, \"trip_last_arrival_ts\": 38640, \"departure_hour\": 10, \"time_of_day\": \"Midday\", \"p25\": 0.73, \"p50\": 0.73, \"p75\": 0.73, \"p50_trip\": 1, \"fastest_trip\": 0, \"car_duration_hours\": 0.72, \"competitive_route\": 1, \"bus_multiplier\": 1.01, \"bus_difference\": 0.6, \"num_trips\": 5, \"num_competitive\": 5, \"pct_trips_competitive\": 1.0, \"bus_difference_spread\": 0.0, \"route_group\": \"short\", \"max_trip_hrs\": 0.73, \"max_trip_route_group\": 0.83, \"name\": \"San Luis Obispo Regional Transit Authority \", \"caltrans_district\": \"05 - San Luis Obispo\", \"drmt_organization_name\": null, \"cutoff2\": 12.45, \"cutoff\": 2}, {\"calitp_itp_id\": 289, \"trip_key\": 2301145435129059979, \"trip_id\": \"1008\", \"shape_id\": \"129\", \"route_id\": \"15N\", \"service_hours\": 0.73, \"trip_first_departure_ts\": 43200, \"trip_last_arrival_ts\": 45840, \"departure_hour\": 12, \"time_of_day\": \"Midday\", \"p25\": 0.73, \"p50\": 0.73, \"p75\": 0.73, \"p50_trip\": 1, \"fastest_trip\": 0, \"car_duration_hours\": 0.72, \"competitive_route\": 1, \"bus_multiplier\": 1.01, \"bus_difference\": 0.6, \"num_trips\": 5, \"num_competitive\": 5, \"pct_trips_competitive\": 1.0, \"bus_difference_spread\": 0.0, \"route_group\": \"short\", \"max_trip_hrs\": 0.73, \"max_trip_route_group\": 0.83, \"name\": \"San Luis Obispo Regional Transit Authority \", \"caltrans_district\": \"05 - San Luis Obispo\", \"drmt_organization_name\": null, \"cutoff2\": 12.45, \"cutoff\": 2}, {\"calitp_itp_id\": 289, \"trip_key\": 874518230174457969, \"trip_id\": \"1012\", \"shape_id\": \"129\", \"route_id\": \"15N\", \"service_hours\": 0.73, \"trip_first_departure_ts\": 64800, \"trip_last_arrival_ts\": 67440, \"departure_hour\": 18, \"time_of_day\": \"PM Peak\", \"p25\": 0.73, \"p50\": 0.73, \"p75\": 0.73, \"p50_trip\": 1, \"fastest_trip\": 1, \"car_duration_hours\": 0.72, \"competitive_route\": 1, \"bus_multiplier\": 1.01, \"bus_difference\": 0.6, \"num_trips\": 5, \"num_competitive\": 5, \"pct_trips_competitive\": 1.0, \"bus_difference_spread\": 0.0, \"route_group\": \"short\", \"max_trip_hrs\": 0.73, \"max_trip_route_group\": 0.83, \"name\": \"San Luis Obispo Regional Transit Authority \", \"caltrans_district\": \"05 - San Luis Obispo\", \"drmt_organization_name\": null, \"cutoff2\": 12.45, \"cutoff\": 2}, {\"calitp_itp_id\": 289, \"trip_key\": 8525825103426144789, \"trip_id\": \"1010\", \"shape_id\": \"129\", \"route_id\": \"15N\", \"service_hours\": 0.73, \"trip_first_departure_ts\": 54000, \"trip_last_arrival_ts\": 56640, \"departure_hour\": 15, \"time_of_day\": \"Midday\", \"p25\": 0.73, \"p50\": 0.73, \"p75\": 0.73, \"p50_trip\": 1, \"fastest_trip\": 0, \"car_duration_hours\": 0.72, \"competitive_route\": 1, \"bus_multiplier\": 1.01, \"bus_difference\": 0.6, \"num_trips\": 5, \"num_competitive\": 5, \"pct_trips_competitive\": 1.0, \"bus_difference_spread\": 0.0, \"route_group\": \"short\", \"max_trip_hrs\": 0.73, \"max_trip_route_group\": 0.83, \"name\": \"San Luis Obispo Regional Transit Authority \", \"caltrans_district\": \"05 - San Luis Obispo\", \"drmt_organization_name\": null, \"cutoff2\": 12.45, \"cutoff\": 2}, {\"calitp_itp_id\": 289, \"trip_key\": -3531124478440319766, \"trip_id\": \"1004\", \"shape_id\": \"129\", \"route_id\": \"15N\", \"service_hours\": 0.73, \"trip_first_departure_ts\": 25200, \"trip_last_arrival_ts\": 27840, \"departure_hour\": 7, \"time_of_day\": \"AM Peak\", \"p25\": 0.73, \"p50\": 0.73, \"p75\": 0.73, \"p50_trip\": 1, \"fastest_trip\": 0, \"car_duration_hours\": 0.72, \"competitive_route\": 1, \"bus_multiplier\": 1.01, \"bus_difference\": 0.6, \"num_trips\": 5, \"num_competitive\": 5, \"pct_trips_competitive\": 1.0, \"bus_difference_spread\": 0.0, \"route_group\": \"short\", \"max_trip_hrs\": 0.73, \"max_trip_route_group\": 0.83, \"name\": \"San Luis Obispo Regional Transit Authority \", \"caltrans_district\": \"05 - San Luis Obispo\", \"drmt_organization_name\": null, \"cutoff2\": 12.45, \"cutoff\": 2}, {\"calitp_itp_id\": 289, \"trip_key\": 4284993076453935883, \"trip_id\": \"1009\", \"shape_id\": \"126\", \"route_id\": \"15S\", \"service_hours\": 0.72, \"trip_first_departure_ts\": 49800, \"trip_last_arrival_ts\": 52380, \"departure_hour\": 13, \"time_of_day\": \"Midday\", \"p25\": 0.72, \"p50\": 0.72, \"p75\": 0.72, \"p50_trip\": 1, \"fastest_trip\": 0, \"car_duration_hours\": 0.7, \"competitive_route\": 1, \"bus_multiplier\": 1.03, \"bus_difference\": 1.2, \"num_trips\": 5, \"num_competitive\": 5, \"pct_trips_competitive\": 1.0, \"bus_difference_spread\": 0.0, \"route_group\": \"short\", \"max_trip_hrs\": 0.72, \"max_trip_route_group\": 0.83, \"name\": \"San Luis Obispo Regional Transit Authority \", \"caltrans_district\": \"05 - San Luis Obispo\", \"drmt_organization_name\": null, \"cutoff2\": 12.45, \"cutoff\": 2}, {\"calitp_itp_id\": 289, \"trip_key\": 2538646404492185224, \"trip_id\": \"1003\", \"shape_id\": \"126\", \"route_id\": \"15S\", \"service_hours\": 0.72, \"trip_first_departure_ts\": 21600, \"trip_last_arrival_ts\": 24180, \"departure_hour\": 6, \"time_of_day\": \"Owl Service\", \"p25\": 0.72, \"p50\": 0.72, \"p75\": 0.72, \"p50_trip\": 1, \"fastest_trip\": 0, \"car_duration_hours\": 0.7, \"competitive_route\": 1, \"bus_multiplier\": 1.03, \"bus_difference\": 1.2, \"num_trips\": 5, \"num_competitive\": 5, \"pct_trips_competitive\": 1.0, \"bus_difference_spread\": 0.0, \"route_group\": \"short\", \"max_trip_hrs\": 0.72, \"max_trip_route_group\": 0.83, \"name\": \"San Luis Obispo Regional Transit Authority \", \"caltrans_district\": \"05 - San Luis Obispo\", \"drmt_organization_name\": null, \"cutoff2\": 12.45, \"cutoff\": 2}, {\"calitp_itp_id\": 289, \"trip_key\": -9063332635397023573, \"trip_id\": \"1011\", \"shape_id\": \"126\", \"route_id\": \"15S\", \"service_hours\": 0.72, \"trip_first_departure_ts\": 60600, \"trip_last_arrival_ts\": 63180, \"departure_hour\": 16, \"time_of_day\": \"Midday\", \"p25\": 0.72, \"p50\": 0.72, \"p75\": 0.72, \"p50_trip\": 1, \"fastest_trip\": 1, \"car_duration_hours\": 0.7, \"competitive_route\": 1, \"bus_multiplier\": 1.03, \"bus_difference\": 1.2, \"num_trips\": 5, \"num_competitive\": 5, \"pct_trips_competitive\": 1.0, \"bus_difference_spread\": 0.0, \"route_group\": \"short\", \"max_trip_hrs\": 0.72, \"max_trip_route_group\": 0.83, \"name\": \"San Luis Obispo Regional Transit Authority \", \"caltrans_district\": \"05 - San Luis Obispo\", \"drmt_organization_name\": null, \"cutoff2\": 12.45, \"cutoff\": 2}, {\"calitp_itp_id\": 289, \"trip_key\": 8400463445688142578, \"trip_id\": \"1007\", \"shape_id\": \"126\", \"route_id\": \"15S\", \"service_hours\": 0.72, \"trip_first_departure_ts\": 39000, \"trip_last_arrival_ts\": 41580, \"departure_hour\": 10, \"time_of_day\": \"Midday\", \"p25\": 0.72, \"p50\": 0.72, \"p75\": 0.72, \"p50_trip\": 1, \"fastest_trip\": 0, \"car_duration_hours\": 0.7, \"competitive_route\": 1, \"bus_multiplier\": 1.03, \"bus_difference\": 1.2, \"num_trips\": 5, \"num_competitive\": 5, \"pct_trips_competitive\": 1.0, \"bus_difference_spread\": 0.0, \"route_group\": \"short\", \"max_trip_hrs\": 0.72, \"max_trip_route_group\": 0.83, \"name\": \"San Luis Obispo Regional Transit Authority \", \"caltrans_district\": \"05 - San Luis Obispo\", \"drmt_organization_name\": null, \"cutoff2\": 12.45, \"cutoff\": 2}, {\"calitp_itp_id\": 289, \"trip_key\": 6889099494772164731, \"trip_id\": \"1005\", \"shape_id\": \"126\", \"route_id\": \"15S\", \"service_hours\": 0.72, \"trip_first_departure_ts\": 28200, \"trip_last_arrival_ts\": 30780, \"departure_hour\": 7, \"time_of_day\": \"AM Peak\", \"p25\": 0.72, \"p50\": 0.72, \"p75\": 0.72, \"p50_trip\": 1, \"fastest_trip\": 0, \"car_duration_hours\": 0.7, \"competitive_route\": 1, \"bus_multiplier\": 1.03, \"bus_difference\": 1.2, \"num_trips\": 5, \"num_competitive\": 5, \"pct_trips_competitive\": 1.0, \"bus_difference_spread\": 0.0, \"route_group\": \"short\", \"max_trip_hrs\": 0.72, \"max_trip_route_group\": 0.83, \"name\": \"San Luis Obispo Regional Transit Authority \", \"caltrans_district\": \"05 - San Luis Obispo\", \"drmt_organization_name\": null, \"cutoff2\": 12.45, \"cutoff\": 2}]}}, {\"mode\": \"vega-lite\"});\n",
       "</script>"
      ],
      "text/plain": [
       "alt.FacetChart(...)"
      ]
     },
     "metadata": {},
     "output_type": "display_data"
    },
    {
     "data": {
      "text/html": [
       "\n",
       "<div id=\"altair-viz-fa2f3148f1ff4bb3a51bdf7c674ce185\"></div>\n",
       "<script type=\"text/javascript\">\n",
       "  var VEGA_DEBUG = (typeof VEGA_DEBUG == \"undefined\") ? {} : VEGA_DEBUG;\n",
       "  (function(spec, embedOpt){\n",
       "    let outputDiv = document.currentScript.previousElementSibling;\n",
       "    if (outputDiv.id !== \"altair-viz-fa2f3148f1ff4bb3a51bdf7c674ce185\") {\n",
       "      outputDiv = document.getElementById(\"altair-viz-fa2f3148f1ff4bb3a51bdf7c674ce185\");\n",
       "    }\n",
       "    const paths = {\n",
       "      \"vega\": \"https://cdn.jsdelivr.net/npm//vega@5?noext\",\n",
       "      \"vega-lib\": \"https://cdn.jsdelivr.net/npm//vega-lib?noext\",\n",
       "      \"vega-lite\": \"https://cdn.jsdelivr.net/npm//vega-lite@4.17.0?noext\",\n",
       "      \"vega-embed\": \"https://cdn.jsdelivr.net/npm//vega-embed@6?noext\",\n",
       "    };\n",
       "\n",
       "    function maybeLoadScript(lib, version) {\n",
       "      var key = `${lib.replace(\"-\", \"\")}_version`;\n",
       "      return (VEGA_DEBUG[key] == version) ?\n",
       "        Promise.resolve(paths[lib]) :\n",
       "        new Promise(function(resolve, reject) {\n",
       "          var s = document.createElement('script');\n",
       "          document.getElementsByTagName(\"head\")[0].appendChild(s);\n",
       "          s.async = true;\n",
       "          s.onload = () => {\n",
       "            VEGA_DEBUG[key] = version;\n",
       "            return resolve(paths[lib]);\n",
       "          };\n",
       "          s.onerror = () => reject(`Error loading script: ${paths[lib]}`);\n",
       "          s.src = paths[lib];\n",
       "        });\n",
       "    }\n",
       "\n",
       "    function showError(err) {\n",
       "      outputDiv.innerHTML = `<div class=\"error\" style=\"color:red;\">${err}</div>`;\n",
       "      throw err;\n",
       "    }\n",
       "\n",
       "    function displayChart(vegaEmbed) {\n",
       "      vegaEmbed(outputDiv, spec, embedOpt)\n",
       "        .catch(err => showError(`Javascript Error: ${err.message}<br>This usually means there's a typo in your chart specification. See the javascript console for the full traceback.`));\n",
       "    }\n",
       "\n",
       "    if(typeof define === \"function\" && define.amd) {\n",
       "      requirejs.config({paths});\n",
       "      require([\"vega-embed\"], displayChart, err => showError(`Error loading script: ${err.message}`));\n",
       "    } else {\n",
       "      maybeLoadScript(\"vega\", \"5\")\n",
       "        .then(() => maybeLoadScript(\"vega-lite\", \"4.17.0\"))\n",
       "        .then(() => maybeLoadScript(\"vega-embed\", \"6\"))\n",
       "        .catch(showError)\n",
       "        .then(() => displayChart(vegaEmbed));\n",
       "    }\n",
       "  })({\"config\": {\"view\": {\"continuousWidth\": 400, \"continuousHeight\": 300, \"stroke\": null}, \"facet\": {\"spacing\": 0}}, \"data\": {\"name\": \"data-df4e095fcbeff7846a8efe43e6e3a15e\"}, \"facet\": {\"column\": {\"field\": \"route_id\", \"sort\": [\"12N\", \"15S\", \"15N\"], \"title\": \"Route ID\", \"type\": \"nominal\"}}, \"spec\": {\"layer\": [{\"mark\": {\"type\": \"point\", \"opacity\": 0.65, \"size\": 12, \"strokeWidth\": 1.1}, \"encoding\": {\"color\": {\"field\": \"time_of_day\", \"scale\": {\"range\": [\"#136C97\", \"#E16B26\", \"#F6BF16\", \"#00896B\", \"#7790A3\", \"#5B559C\"]}, \"sort\": [\"AM Peak\", \"Midday\", \"PM Peak\", \"Owl Service\"], \"title\": \"Time of Day\", \"type\": \"nominal\"}, \"tooltip\": [{\"field\": \"route_id\", \"type\": \"nominal\"}, {\"field\": \"trip_id\", \"type\": \"nominal\"}, {\"field\": \"service_hours\", \"type\": \"quantitative\"}, {\"field\": \"car_duration_hours\", \"type\": \"quantitative\"}, {\"field\": \"bus_multiplier\", \"type\": \"quantitative\"}, {\"field\": \"bus_difference\", \"type\": \"quantitative\"}, {\"field\": \"num_trips\", \"type\": \"quantitative\"}, {\"field\": \"num_competitive\", \"type\": \"quantitative\"}, {\"field\": \"pct_trips_competitive\", \"type\": \"quantitative\"}, {\"field\": \"p25\", \"type\": \"quantitative\"}, {\"field\": \"p50\", \"type\": \"quantitative\"}, {\"field\": \"p75\", \"type\": \"quantitative\"}], \"x\": {\"axis\": {\"grid\": false, \"labels\": false, \"ticks\": true, \"values\": [0]}, \"field\": \"jitter\", \"scale\": {}, \"title\": null, \"type\": \"quantitative\"}, \"y\": {\"field\": \"bus_difference\", \"scale\": {\"domain\": [-5, 31.8]}, \"title\": \"Difference in Bus to Car Travel Time (min)\", \"type\": \"quantitative\"}}, \"selection\": {\"selector002\": {\"type\": \"interval\", \"bind\": \"scales\", \"encodings\": [\"x\", \"y\"]}}, \"transform\": [{\"calculate\": \"sqrt(-2*log(random()))*cos(2*PI*random())\", \"as\": \"jitter\"}], \"width\": 60}, {\"layer\": [{\"mark\": {\"type\": \"point\", \"opacity\": 0.6, \"size\": 20, \"strokeWidth\": 1.3}, \"encoding\": {\"color\": {\"value\": \"#323434\"}, \"y\": {\"field\": \"bus_difference\", \"type\": \"quantitative\"}}, \"transform\": [{\"filter\": \"(datum.p50_trip === 1)\"}]}, {\"mark\": {\"type\": \"rule\", \"strokeDash\": [2, 3]}, \"encoding\": {\"color\": {\"value\": \"#323434\"}, \"y\": {\"field\": \"cutoff\", \"type\": \"quantitative\"}}}, {\"mark\": {\"type\": \"rule\", \"strokeDash\": [2, 3]}, \"encoding\": {\"color\": {\"value\": \"#136C97\"}, \"y\": {\"field\": \"cutoff2\", \"type\": \"quantitative\"}}}, {\"mark\": {\"type\": \"text\", \"align\": \"center\", \"baseline\": \"middle\"}, \"encoding\": {\"color\": {\"value\": \"black\"}, \"text\": {\"field\": \"pct_trips_competitive\", \"format\": \".0%\", \"type\": \"quantitative\"}, \"tooltip\": [{\"field\": \"route_id\", \"type\": \"nominal\"}, {\"field\": \"trip_id\", \"type\": \"nominal\"}, {\"field\": \"service_hours\", \"type\": \"quantitative\"}, {\"field\": \"car_duration_hours\", \"type\": \"quantitative\"}, {\"field\": \"bus_multiplier\", \"type\": \"quantitative\"}, {\"field\": \"bus_difference\", \"type\": \"quantitative\"}, {\"field\": \"num_trips\", \"type\": \"quantitative\"}, {\"field\": \"num_competitive\", \"type\": \"quantitative\"}, {\"field\": \"pct_trips_competitive\", \"type\": \"quantitative\"}, {\"field\": \"p25\", \"type\": \"quantitative\"}, {\"field\": \"p50\", \"type\": \"quantitative\"}, {\"field\": \"p75\", \"type\": \"quantitative\"}], \"x\": {\"value\": 30}, \"y\": {\"value\": 15}}, \"transform\": [{\"calculate\": \"sqrt(-2*log(random()))*cos(2*PI*random())\", \"as\": \"jitter\"}, {\"filter\": \"(datum.fastest_trip === 1)\"}]}]}]}, \"resolve\": {\"scale\": {\"y\": \"shared\"}}, \"title\": \"Difference in Bus to Car Travel Time (min)\", \"$schema\": \"https://vega.github.io/schema/vega-lite/v4.17.0.json\", \"datasets\": {\"data-df4e095fcbeff7846a8efe43e6e3a15e\": [{\"calitp_itp_id\": 289, \"trip_key\": -2246579781802731718, \"trip_id\": \"389\", \"shape_id\": \"70\", \"route_id\": \"12N\", \"service_hours\": 0.57, \"trip_first_departure_ts\": 45180, \"trip_last_arrival_ts\": 47220, \"departure_hour\": 12, \"time_of_day\": \"Midday\", \"p25\": 0.57, \"p50\": 0.57, \"p75\": 0.57, \"p50_trip\": 1, \"fastest_trip\": 0, \"car_duration_hours\": 0.44, \"competitive_route\": 1, \"bus_multiplier\": 1.3, \"bus_difference\": 7.8, \"num_trips\": 15, \"num_competitive\": 15, \"pct_trips_competitive\": 1.0, \"bus_difference_spread\": 0.0, \"route_group\": \"short\", \"max_trip_hrs\": 0.57, \"max_trip_route_group\": 0.83, \"name\": \"San Luis Obispo Regional Transit Authority \", \"caltrans_district\": \"05 - San Luis Obispo\", \"drmt_organization_name\": null, \"cutoff2\": 12.45, \"cutoff\": 0}, {\"calitp_itp_id\": 289, \"trip_key\": 4459675781329367969, \"trip_id\": \"405\", \"shape_id\": \"70\", \"route_id\": \"12N\", \"service_hours\": 0.57, \"trip_first_departure_ts\": 73980, \"trip_last_arrival_ts\": 76020, \"departure_hour\": 20, \"time_of_day\": \"Owl Service\", \"p25\": 0.57, \"p50\": 0.57, \"p75\": 0.57, \"p50_trip\": 1, \"fastest_trip\": 1, \"car_duration_hours\": 0.44, \"competitive_route\": 1, \"bus_multiplier\": 1.3, \"bus_difference\": 7.8, \"num_trips\": 15, \"num_competitive\": 15, \"pct_trips_competitive\": 1.0, \"bus_difference_spread\": 0.0, \"route_group\": \"short\", \"max_trip_hrs\": 0.57, \"max_trip_route_group\": 0.83, \"name\": \"San Luis Obispo Regional Transit Authority \", \"caltrans_district\": \"05 - San Luis Obispo\", \"drmt_organization_name\": null, \"cutoff2\": 12.45, \"cutoff\": 0}, {\"calitp_itp_id\": 289, \"trip_key\": -3330270687214443731, \"trip_id\": \"402\", \"shape_id\": \"70\", \"route_id\": \"12N\", \"service_hours\": 0.57, \"trip_first_departure_ts\": 59580, \"trip_last_arrival_ts\": 61620, \"departure_hour\": 16, \"time_of_day\": \"Midday\", \"p25\": 0.57, \"p50\": 0.57, \"p75\": 0.57, \"p50_trip\": 1, \"fastest_trip\": 0, \"car_duration_hours\": 0.44, \"competitive_route\": 1, \"bus_multiplier\": 1.3, \"bus_difference\": 7.8, \"num_trips\": 15, \"num_competitive\": 15, \"pct_trips_competitive\": 1.0, \"bus_difference_spread\": 0.0, \"route_group\": \"short\", \"max_trip_hrs\": 0.57, \"max_trip_route_group\": 0.83, \"name\": \"San Luis Obispo Regional Transit Authority \", \"caltrans_district\": \"05 - San Luis Obispo\", \"drmt_organization_name\": null, \"cutoff2\": 12.45, \"cutoff\": 0}, {\"calitp_itp_id\": 289, \"trip_key\": -7530315558145172130, \"trip_id\": \"387\", \"shape_id\": \"70\", \"route_id\": \"12N\", \"service_hours\": 0.57, \"trip_first_departure_ts\": 37980, \"trip_last_arrival_ts\": 40020, \"departure_hour\": 10, \"time_of_day\": \"Midday\", \"p25\": 0.57, \"p50\": 0.57, \"p75\": 0.57, \"p50_trip\": 1, \"fastest_trip\": 0, \"car_duration_hours\": 0.44, \"competitive_route\": 1, \"bus_multiplier\": 1.3, \"bus_difference\": 7.8, \"num_trips\": 15, \"num_competitive\": 15, \"pct_trips_competitive\": 1.0, \"bus_difference_spread\": 0.0, \"route_group\": \"short\", \"max_trip_hrs\": 0.57, \"max_trip_route_group\": 0.83, \"name\": \"San Luis Obispo Regional Transit Authority \", \"caltrans_district\": \"05 - San Luis Obispo\", \"drmt_organization_name\": null, \"cutoff2\": 12.45, \"cutoff\": 0}, {\"calitp_itp_id\": 289, \"trip_key\": -8317253866287390273, \"trip_id\": \"381\", \"shape_id\": \"70\", \"route_id\": \"12N\", \"service_hours\": 0.57, \"trip_first_departure_ts\": 41580, \"trip_last_arrival_ts\": 43620, \"departure_hour\": 11, \"time_of_day\": \"Midday\", \"p25\": 0.57, \"p50\": 0.57, \"p75\": 0.57, \"p50_trip\": 1, \"fastest_trip\": 0, \"car_duration_hours\": 0.44, \"competitive_route\": 1, \"bus_multiplier\": 1.3, \"bus_difference\": 7.8, \"num_trips\": 15, \"num_competitive\": 15, \"pct_trips_competitive\": 1.0, \"bus_difference_spread\": 0.0, \"route_group\": \"short\", \"max_trip_hrs\": 0.57, \"max_trip_route_group\": 0.83, \"name\": \"San Luis Obispo Regional Transit Authority \", \"caltrans_district\": \"05 - San Luis Obispo\", \"drmt_organization_name\": null, \"cutoff2\": 12.45, \"cutoff\": 0}, {\"calitp_itp_id\": 289, \"trip_key\": 8746897820544260048, \"trip_id\": \"379\", \"shape_id\": \"70\", \"route_id\": \"12N\", \"service_hours\": 0.57, \"trip_first_departure_ts\": 34380, \"trip_last_arrival_ts\": 36420, \"departure_hour\": 9, \"time_of_day\": \"AM Peak\", \"p25\": 0.57, \"p50\": 0.57, \"p75\": 0.57, \"p50_trip\": 1, \"fastest_trip\": 0, \"car_duration_hours\": 0.44, \"competitive_route\": 1, \"bus_multiplier\": 1.3, \"bus_difference\": 7.8, \"num_trips\": 15, \"num_competitive\": 15, \"pct_trips_competitive\": 1.0, \"bus_difference_spread\": 0.0, \"route_group\": \"short\", \"max_trip_hrs\": 0.57, \"max_trip_route_group\": 0.83, \"name\": \"San Luis Obispo Regional Transit Authority \", \"caltrans_district\": \"05 - San Luis Obispo\", \"drmt_organization_name\": null, \"cutoff2\": 12.45, \"cutoff\": 0}, {\"calitp_itp_id\": 289, \"trip_key\": -2840202986529471773, \"trip_id\": \"383\", \"shape_id\": \"70\", \"route_id\": \"12N\", \"service_hours\": 0.57, \"trip_first_departure_ts\": 23580, \"trip_last_arrival_ts\": 25620, \"departure_hour\": 6, \"time_of_day\": \"Owl Service\", \"p25\": 0.57, \"p50\": 0.57, \"p75\": 0.57, \"p50_trip\": 1, \"fastest_trip\": 0, \"car_duration_hours\": 0.44, \"competitive_route\": 1, \"bus_multiplier\": 1.3, \"bus_difference\": 7.8, \"num_trips\": 15, \"num_competitive\": 15, \"pct_trips_competitive\": 1.0, \"bus_difference_spread\": 0.0, \"route_group\": \"short\", \"max_trip_hrs\": 0.57, \"max_trip_route_group\": 0.83, \"name\": \"San Luis Obispo Regional Transit Authority \", \"caltrans_district\": \"05 - San Luis Obispo\", \"drmt_organization_name\": null, \"cutoff2\": 12.45, \"cutoff\": 0}, {\"calitp_itp_id\": 289, \"trip_key\": 3739449074221164088, \"trip_id\": \"395\", \"shape_id\": \"70\", \"route_id\": \"12N\", \"service_hours\": 0.57, \"trip_first_departure_ts\": 63180, \"trip_last_arrival_ts\": 65220, \"departure_hour\": 17, \"time_of_day\": \"PM Peak\", \"p25\": 0.57, \"p50\": 0.57, \"p75\": 0.57, \"p50_trip\": 1, \"fastest_trip\": 0, \"car_duration_hours\": 0.44, \"competitive_route\": 1, \"bus_multiplier\": 1.3, \"bus_difference\": 7.8, \"num_trips\": 15, \"num_competitive\": 15, \"pct_trips_competitive\": 1.0, \"bus_difference_spread\": 0.0, \"route_group\": \"short\", \"max_trip_hrs\": 0.57, \"max_trip_route_group\": 0.83, \"name\": \"San Luis Obispo Regional Transit Authority \", \"caltrans_district\": \"05 - San Luis Obispo\", \"drmt_organization_name\": null, \"cutoff2\": 12.45, \"cutoff\": 0}, {\"calitp_itp_id\": 289, \"trip_key\": 954416520255967207, \"trip_id\": \"393\", \"shape_id\": \"70\", \"route_id\": \"12N\", \"service_hours\": 0.57, \"trip_first_departure_ts\": 55980, \"trip_last_arrival_ts\": 58020, \"departure_hour\": 15, \"time_of_day\": \"Midday\", \"p25\": 0.57, \"p50\": 0.57, \"p75\": 0.57, \"p50_trip\": 1, \"fastest_trip\": 0, \"car_duration_hours\": 0.44, \"competitive_route\": 1, \"bus_multiplier\": 1.3, \"bus_difference\": 7.8, \"num_trips\": 15, \"num_competitive\": 15, \"pct_trips_competitive\": 1.0, \"bus_difference_spread\": 0.0, \"route_group\": \"short\", \"max_trip_hrs\": 0.57, \"max_trip_route_group\": 0.83, \"name\": \"San Luis Obispo Regional Transit Authority \", \"caltrans_district\": \"05 - San Luis Obispo\", \"drmt_organization_name\": null, \"cutoff2\": 12.45, \"cutoff\": 0}, {\"calitp_itp_id\": 289, \"trip_key\": -7133200235456066733, \"trip_id\": \"377\", \"shape_id\": \"70\", \"route_id\": \"12N\", \"service_hours\": 0.57, \"trip_first_departure_ts\": 27180, \"trip_last_arrival_ts\": 29220, \"departure_hour\": 7, \"time_of_day\": \"AM Peak\", \"p25\": 0.57, \"p50\": 0.57, \"p75\": 0.57, \"p50_trip\": 1, \"fastest_trip\": 0, \"car_duration_hours\": 0.44, \"competitive_route\": 1, \"bus_multiplier\": 1.3, \"bus_difference\": 7.8, \"num_trips\": 15, \"num_competitive\": 15, \"pct_trips_competitive\": 1.0, \"bus_difference_spread\": 0.0, \"route_group\": \"short\", \"max_trip_hrs\": 0.57, \"max_trip_route_group\": 0.83, \"name\": \"San Luis Obispo Regional Transit Authority \", \"caltrans_district\": \"05 - San Luis Obispo\", \"drmt_organization_name\": null, \"cutoff2\": 12.45, \"cutoff\": 0}, {\"calitp_itp_id\": 289, \"trip_key\": -6015374649293254099, \"trip_id\": \"400\", \"shape_id\": \"70\", \"route_id\": \"12N\", \"service_hours\": 0.57, \"trip_first_departure_ts\": 52380, \"trip_last_arrival_ts\": 54420, \"departure_hour\": 14, \"time_of_day\": \"Midday\", \"p25\": 0.57, \"p50\": 0.57, \"p75\": 0.57, \"p50_trip\": 1, \"fastest_trip\": 0, \"car_duration_hours\": 0.44, \"competitive_route\": 1, \"bus_multiplier\": 1.3, \"bus_difference\": 7.8, \"num_trips\": 15, \"num_competitive\": 15, \"pct_trips_competitive\": 1.0, \"bus_difference_spread\": 0.0, \"route_group\": \"short\", \"max_trip_hrs\": 0.57, \"max_trip_route_group\": 0.83, \"name\": \"San Luis Obispo Regional Transit Authority \", \"caltrans_district\": \"05 - San Luis Obispo\", \"drmt_organization_name\": null, \"cutoff2\": 12.45, \"cutoff\": 0}, {\"calitp_itp_id\": 289, \"trip_key\": -4886278028572274845, \"trip_id\": \"404\", \"shape_id\": \"70\", \"route_id\": \"12N\", \"service_hours\": 0.57, \"trip_first_departure_ts\": 66780, \"trip_last_arrival_ts\": 68820, \"departure_hour\": 18, \"time_of_day\": \"PM Peak\", \"p25\": 0.57, \"p50\": 0.57, \"p75\": 0.57, \"p50_trip\": 1, \"fastest_trip\": 0, \"car_duration_hours\": 0.44, \"competitive_route\": 1, \"bus_multiplier\": 1.3, \"bus_difference\": 7.8, \"num_trips\": 15, \"num_competitive\": 15, \"pct_trips_competitive\": 1.0, \"bus_difference_spread\": 0.0, \"route_group\": \"short\", \"max_trip_hrs\": 0.57, \"max_trip_route_group\": 0.83, \"name\": \"San Luis Obispo Regional Transit Authority \", \"caltrans_district\": \"05 - San Luis Obispo\", \"drmt_organization_name\": null, \"cutoff2\": 12.45, \"cutoff\": 0}, {\"calitp_itp_id\": 289, \"trip_key\": 3271112421599002075, \"trip_id\": \"385\", \"shape_id\": \"70\", \"route_id\": \"12N\", \"service_hours\": 0.57, \"trip_first_departure_ts\": 30780, \"trip_last_arrival_ts\": 32820, \"departure_hour\": 8, \"time_of_day\": \"AM Peak\", \"p25\": 0.57, \"p50\": 0.57, \"p75\": 0.57, \"p50_trip\": 1, \"fastest_trip\": 0, \"car_duration_hours\": 0.44, \"competitive_route\": 1, \"bus_multiplier\": 1.3, \"bus_difference\": 7.8, \"num_trips\": 15, \"num_competitive\": 15, \"pct_trips_competitive\": 1.0, \"bus_difference_spread\": 0.0, \"route_group\": \"short\", \"max_trip_hrs\": 0.57, \"max_trip_route_group\": 0.83, \"name\": \"San Luis Obispo Regional Transit Authority \", \"caltrans_district\": \"05 - San Luis Obispo\", \"drmt_organization_name\": null, \"cutoff2\": 12.45, \"cutoff\": 0}, {\"calitp_itp_id\": 289, \"trip_key\": 4883370532645296501, \"trip_id\": \"391\", \"shape_id\": \"70\", \"route_id\": \"12N\", \"service_hours\": 0.57, \"trip_first_departure_ts\": 48780, \"trip_last_arrival_ts\": 50820, \"departure_hour\": 13, \"time_of_day\": \"Midday\", \"p25\": 0.57, \"p50\": 0.57, \"p75\": 0.57, \"p50_trip\": 1, \"fastest_trip\": 0, \"car_duration_hours\": 0.44, \"competitive_route\": 1, \"bus_multiplier\": 1.3, \"bus_difference\": 7.8, \"num_trips\": 15, \"num_competitive\": 15, \"pct_trips_competitive\": 1.0, \"bus_difference_spread\": 0.0, \"route_group\": \"short\", \"max_trip_hrs\": 0.57, \"max_trip_route_group\": 0.83, \"name\": \"San Luis Obispo Regional Transit Authority \", \"caltrans_district\": \"05 - San Luis Obispo\", \"drmt_organization_name\": null, \"cutoff2\": 12.45, \"cutoff\": 0}, {\"calitp_itp_id\": 289, \"trip_key\": -7762775760576108986, \"trip_id\": \"398\", \"shape_id\": \"70\", \"route_id\": \"12N\", \"service_hours\": 0.57, \"trip_first_departure_ts\": 70380, \"trip_last_arrival_ts\": 72420, \"departure_hour\": 19, \"time_of_day\": \"PM Peak\", \"p25\": 0.57, \"p50\": 0.57, \"p75\": 0.57, \"p50_trip\": 1, \"fastest_trip\": 0, \"car_duration_hours\": 0.44, \"competitive_route\": 1, \"bus_multiplier\": 1.3, \"bus_difference\": 7.8, \"num_trips\": 15, \"num_competitive\": 15, \"pct_trips_competitive\": 1.0, \"bus_difference_spread\": 0.0, \"route_group\": \"short\", \"max_trip_hrs\": 0.57, \"max_trip_route_group\": 0.83, \"name\": \"San Luis Obispo Regional Transit Authority \", \"caltrans_district\": \"05 - San Luis Obispo\", \"drmt_organization_name\": null, \"cutoff2\": 12.45, \"cutoff\": 0}, {\"calitp_itp_id\": 289, \"trip_key\": -1642980166738371902, \"trip_id\": \"1006\", \"shape_id\": \"129\", \"route_id\": \"15N\", \"service_hours\": 0.73, \"trip_first_departure_ts\": 36000, \"trip_last_arrival_ts\": 38640, \"departure_hour\": 10, \"time_of_day\": \"Midday\", \"p25\": 0.73, \"p50\": 0.73, \"p75\": 0.73, \"p50_trip\": 1, \"fastest_trip\": 0, \"car_duration_hours\": 0.72, \"competitive_route\": 1, \"bus_multiplier\": 1.01, \"bus_difference\": 0.6, \"num_trips\": 5, \"num_competitive\": 5, \"pct_trips_competitive\": 1.0, \"bus_difference_spread\": 0.0, \"route_group\": \"short\", \"max_trip_hrs\": 0.73, \"max_trip_route_group\": 0.83, \"name\": \"San Luis Obispo Regional Transit Authority \", \"caltrans_district\": \"05 - San Luis Obispo\", \"drmt_organization_name\": null, \"cutoff2\": 12.45, \"cutoff\": 0}, {\"calitp_itp_id\": 289, \"trip_key\": 2301145435129059979, \"trip_id\": \"1008\", \"shape_id\": \"129\", \"route_id\": \"15N\", \"service_hours\": 0.73, \"trip_first_departure_ts\": 43200, \"trip_last_arrival_ts\": 45840, \"departure_hour\": 12, \"time_of_day\": \"Midday\", \"p25\": 0.73, \"p50\": 0.73, \"p75\": 0.73, \"p50_trip\": 1, \"fastest_trip\": 0, \"car_duration_hours\": 0.72, \"competitive_route\": 1, \"bus_multiplier\": 1.01, \"bus_difference\": 0.6, \"num_trips\": 5, \"num_competitive\": 5, \"pct_trips_competitive\": 1.0, \"bus_difference_spread\": 0.0, \"route_group\": \"short\", \"max_trip_hrs\": 0.73, \"max_trip_route_group\": 0.83, \"name\": \"San Luis Obispo Regional Transit Authority \", \"caltrans_district\": \"05 - San Luis Obispo\", \"drmt_organization_name\": null, \"cutoff2\": 12.45, \"cutoff\": 0}, {\"calitp_itp_id\": 289, \"trip_key\": 874518230174457969, \"trip_id\": \"1012\", \"shape_id\": \"129\", \"route_id\": \"15N\", \"service_hours\": 0.73, \"trip_first_departure_ts\": 64800, \"trip_last_arrival_ts\": 67440, \"departure_hour\": 18, \"time_of_day\": \"PM Peak\", \"p25\": 0.73, \"p50\": 0.73, \"p75\": 0.73, \"p50_trip\": 1, \"fastest_trip\": 1, \"car_duration_hours\": 0.72, \"competitive_route\": 1, \"bus_multiplier\": 1.01, \"bus_difference\": 0.6, \"num_trips\": 5, \"num_competitive\": 5, \"pct_trips_competitive\": 1.0, \"bus_difference_spread\": 0.0, \"route_group\": \"short\", \"max_trip_hrs\": 0.73, \"max_trip_route_group\": 0.83, \"name\": \"San Luis Obispo Regional Transit Authority \", \"caltrans_district\": \"05 - San Luis Obispo\", \"drmt_organization_name\": null, \"cutoff2\": 12.45, \"cutoff\": 0}, {\"calitp_itp_id\": 289, \"trip_key\": 8525825103426144789, \"trip_id\": \"1010\", \"shape_id\": \"129\", \"route_id\": \"15N\", \"service_hours\": 0.73, \"trip_first_departure_ts\": 54000, \"trip_last_arrival_ts\": 56640, \"departure_hour\": 15, \"time_of_day\": \"Midday\", \"p25\": 0.73, \"p50\": 0.73, \"p75\": 0.73, \"p50_trip\": 1, \"fastest_trip\": 0, \"car_duration_hours\": 0.72, \"competitive_route\": 1, \"bus_multiplier\": 1.01, \"bus_difference\": 0.6, \"num_trips\": 5, \"num_competitive\": 5, \"pct_trips_competitive\": 1.0, \"bus_difference_spread\": 0.0, \"route_group\": \"short\", \"max_trip_hrs\": 0.73, \"max_trip_route_group\": 0.83, \"name\": \"San Luis Obispo Regional Transit Authority \", \"caltrans_district\": \"05 - San Luis Obispo\", \"drmt_organization_name\": null, \"cutoff2\": 12.45, \"cutoff\": 0}, {\"calitp_itp_id\": 289, \"trip_key\": -3531124478440319766, \"trip_id\": \"1004\", \"shape_id\": \"129\", \"route_id\": \"15N\", \"service_hours\": 0.73, \"trip_first_departure_ts\": 25200, \"trip_last_arrival_ts\": 27840, \"departure_hour\": 7, \"time_of_day\": \"AM Peak\", \"p25\": 0.73, \"p50\": 0.73, \"p75\": 0.73, \"p50_trip\": 1, \"fastest_trip\": 0, \"car_duration_hours\": 0.72, \"competitive_route\": 1, \"bus_multiplier\": 1.01, \"bus_difference\": 0.6, \"num_trips\": 5, \"num_competitive\": 5, \"pct_trips_competitive\": 1.0, \"bus_difference_spread\": 0.0, \"route_group\": \"short\", \"max_trip_hrs\": 0.73, \"max_trip_route_group\": 0.83, \"name\": \"San Luis Obispo Regional Transit Authority \", \"caltrans_district\": \"05 - San Luis Obispo\", \"drmt_organization_name\": null, \"cutoff2\": 12.45, \"cutoff\": 0}, {\"calitp_itp_id\": 289, \"trip_key\": 4284993076453935883, \"trip_id\": \"1009\", \"shape_id\": \"126\", \"route_id\": \"15S\", \"service_hours\": 0.72, \"trip_first_departure_ts\": 49800, \"trip_last_arrival_ts\": 52380, \"departure_hour\": 13, \"time_of_day\": \"Midday\", \"p25\": 0.72, \"p50\": 0.72, \"p75\": 0.72, \"p50_trip\": 1, \"fastest_trip\": 0, \"car_duration_hours\": 0.7, \"competitive_route\": 1, \"bus_multiplier\": 1.03, \"bus_difference\": 1.2, \"num_trips\": 5, \"num_competitive\": 5, \"pct_trips_competitive\": 1.0, \"bus_difference_spread\": 0.0, \"route_group\": \"short\", \"max_trip_hrs\": 0.72, \"max_trip_route_group\": 0.83, \"name\": \"San Luis Obispo Regional Transit Authority \", \"caltrans_district\": \"05 - San Luis Obispo\", \"drmt_organization_name\": null, \"cutoff2\": 12.45, \"cutoff\": 0}, {\"calitp_itp_id\": 289, \"trip_key\": 2538646404492185224, \"trip_id\": \"1003\", \"shape_id\": \"126\", \"route_id\": \"15S\", \"service_hours\": 0.72, \"trip_first_departure_ts\": 21600, \"trip_last_arrival_ts\": 24180, \"departure_hour\": 6, \"time_of_day\": \"Owl Service\", \"p25\": 0.72, \"p50\": 0.72, \"p75\": 0.72, \"p50_trip\": 1, \"fastest_trip\": 0, \"car_duration_hours\": 0.7, \"competitive_route\": 1, \"bus_multiplier\": 1.03, \"bus_difference\": 1.2, \"num_trips\": 5, \"num_competitive\": 5, \"pct_trips_competitive\": 1.0, \"bus_difference_spread\": 0.0, \"route_group\": \"short\", \"max_trip_hrs\": 0.72, \"max_trip_route_group\": 0.83, \"name\": \"San Luis Obispo Regional Transit Authority \", \"caltrans_district\": \"05 - San Luis Obispo\", \"drmt_organization_name\": null, \"cutoff2\": 12.45, \"cutoff\": 0}, {\"calitp_itp_id\": 289, \"trip_key\": -9063332635397023573, \"trip_id\": \"1011\", \"shape_id\": \"126\", \"route_id\": \"15S\", \"service_hours\": 0.72, \"trip_first_departure_ts\": 60600, \"trip_last_arrival_ts\": 63180, \"departure_hour\": 16, \"time_of_day\": \"Midday\", \"p25\": 0.72, \"p50\": 0.72, \"p75\": 0.72, \"p50_trip\": 1, \"fastest_trip\": 1, \"car_duration_hours\": 0.7, \"competitive_route\": 1, \"bus_multiplier\": 1.03, \"bus_difference\": 1.2, \"num_trips\": 5, \"num_competitive\": 5, \"pct_trips_competitive\": 1.0, \"bus_difference_spread\": 0.0, \"route_group\": \"short\", \"max_trip_hrs\": 0.72, \"max_trip_route_group\": 0.83, \"name\": \"San Luis Obispo Regional Transit Authority \", \"caltrans_district\": \"05 - San Luis Obispo\", \"drmt_organization_name\": null, \"cutoff2\": 12.45, \"cutoff\": 0}, {\"calitp_itp_id\": 289, \"trip_key\": 8400463445688142578, \"trip_id\": \"1007\", \"shape_id\": \"126\", \"route_id\": \"15S\", \"service_hours\": 0.72, \"trip_first_departure_ts\": 39000, \"trip_last_arrival_ts\": 41580, \"departure_hour\": 10, \"time_of_day\": \"Midday\", \"p25\": 0.72, \"p50\": 0.72, \"p75\": 0.72, \"p50_trip\": 1, \"fastest_trip\": 0, \"car_duration_hours\": 0.7, \"competitive_route\": 1, \"bus_multiplier\": 1.03, \"bus_difference\": 1.2, \"num_trips\": 5, \"num_competitive\": 5, \"pct_trips_competitive\": 1.0, \"bus_difference_spread\": 0.0, \"route_group\": \"short\", \"max_trip_hrs\": 0.72, \"max_trip_route_group\": 0.83, \"name\": \"San Luis Obispo Regional Transit Authority \", \"caltrans_district\": \"05 - San Luis Obispo\", \"drmt_organization_name\": null, \"cutoff2\": 12.45, \"cutoff\": 0}, {\"calitp_itp_id\": 289, \"trip_key\": 6889099494772164731, \"trip_id\": \"1005\", \"shape_id\": \"126\", \"route_id\": \"15S\", \"service_hours\": 0.72, \"trip_first_departure_ts\": 28200, \"trip_last_arrival_ts\": 30780, \"departure_hour\": 7, \"time_of_day\": \"AM Peak\", \"p25\": 0.72, \"p50\": 0.72, \"p75\": 0.72, \"p50_trip\": 1, \"fastest_trip\": 0, \"car_duration_hours\": 0.7, \"competitive_route\": 1, \"bus_multiplier\": 1.03, \"bus_difference\": 1.2, \"num_trips\": 5, \"num_competitive\": 5, \"pct_trips_competitive\": 1.0, \"bus_difference_spread\": 0.0, \"route_group\": \"short\", \"max_trip_hrs\": 0.72, \"max_trip_route_group\": 0.83, \"name\": \"San Luis Obispo Regional Transit Authority \", \"caltrans_district\": \"05 - San Luis Obispo\", \"drmt_organization_name\": null, \"cutoff2\": 12.45, \"cutoff\": 0}]}}, {\"mode\": \"vega-lite\"});\n",
       "</script>"
      ],
      "text/plain": [
       "alt.FacetChart(...)"
      ]
     },
     "metadata": {},
     "output_type": "display_data"
    }
   ],
   "source": [
    "# Allow for possibility that operator doesn't have routes that fall into certain route_groups\n",
    "# But, jupyterbook will not like markdown with f-string\n",
    "# separate out route_group and put in each cell, and use try/except + if to display...\n",
    "# but all 3 route groups must be displayed. just add sentence about why no routes were returned at the end\n",
    "route_group = \"short\"\n",
    "try:\n",
    "    subset_routes, mult, diff  = setup_charts(df, PCT_COMPETITIVE_THRESHOLD, route_group)\n",
    "    \n",
    "    if len(subset_routes) > 0:\n",
    "        display(\n",
    "            Markdown(\n",
    "                f\"{CAPTIONS_DICT[route_group]}\"\n",
    "                \"Within each route group, routes are sorted in descending order \"\n",
    "                \"by % competitive trips and # trips below the additional time cut-off.\"\n",
    "            )\n",
    "        )\n",
    "\n",
    "        display(mult)\n",
    "        display(diff)\n",
    "except:\n",
    "    print(\"No routes meet this criteria.\")"
   ]
  },
  {
   "cell_type": "markdown",
   "id": "c2931b6f-034d-4384-9e14-80b925e3b820",
   "metadata": {
    "papermill": {
     "duration": 0.015047,
     "end_time": "2022-05-07T17:12:04.034960",
     "exception": false,
     "start_time": "2022-05-07T17:12:04.019913",
     "status": "completed"
    },
    "tags": []
   },
   "source": [
    "### Medium Routes (1-1.5 hrs)"
   ]
  },
  {
   "cell_type": "code",
   "execution_count": 13,
   "id": "480edddc-4de0-48c2-ae4c-b0ceef8f28b5",
   "metadata": {
    "execution": {
     "iopub.execute_input": "2022-05-07T17:12:04.065381Z",
     "iopub.status.busy": "2022-05-07T17:12:04.065093Z",
     "iopub.status.idle": "2022-05-07T17:12:04.289458Z",
     "shell.execute_reply": "2022-05-07T17:12:04.288671Z"
    },
    "jupyter": {
     "source_hidden": true
    },
    "papermill": {
     "duration": 0.242306,
     "end_time": "2022-05-07T17:12:04.291705",
     "exception": false,
     "start_time": "2022-05-07T17:12:04.049399",
     "status": "completed"
    },
    "tags": [
     "remove_input"
    ]
   },
   "outputs": [
    {
     "data": {
      "text/markdown": [
       "<br>These are routes that have at least 25% of their trips take no more than an additional 30 min compared to a car (up to 15 routes) are shown.Within each route group, routes are sorted in descending order by % competitive trips and # trips below the additional time cut-off."
      ],
      "text/plain": [
       "<IPython.core.display.Markdown object>"
      ]
     },
     "metadata": {},
     "output_type": "display_data"
    },
    {
     "data": {
      "text/html": [
       "\n",
       "<div id=\"altair-viz-a5181d5f7a5b4553a0c64f0abfd55091\"></div>\n",
       "<script type=\"text/javascript\">\n",
       "  var VEGA_DEBUG = (typeof VEGA_DEBUG == \"undefined\") ? {} : VEGA_DEBUG;\n",
       "  (function(spec, embedOpt){\n",
       "    let outputDiv = document.currentScript.previousElementSibling;\n",
       "    if (outputDiv.id !== \"altair-viz-a5181d5f7a5b4553a0c64f0abfd55091\") {\n",
       "      outputDiv = document.getElementById(\"altair-viz-a5181d5f7a5b4553a0c64f0abfd55091\");\n",
       "    }\n",
       "    const paths = {\n",
       "      \"vega\": \"https://cdn.jsdelivr.net/npm//vega@5?noext\",\n",
       "      \"vega-lib\": \"https://cdn.jsdelivr.net/npm//vega-lib?noext\",\n",
       "      \"vega-lite\": \"https://cdn.jsdelivr.net/npm//vega-lite@4.17.0?noext\",\n",
       "      \"vega-embed\": \"https://cdn.jsdelivr.net/npm//vega-embed@6?noext\",\n",
       "    };\n",
       "\n",
       "    function maybeLoadScript(lib, version) {\n",
       "      var key = `${lib.replace(\"-\", \"\")}_version`;\n",
       "      return (VEGA_DEBUG[key] == version) ?\n",
       "        Promise.resolve(paths[lib]) :\n",
       "        new Promise(function(resolve, reject) {\n",
       "          var s = document.createElement('script');\n",
       "          document.getElementsByTagName(\"head\")[0].appendChild(s);\n",
       "          s.async = true;\n",
       "          s.onload = () => {\n",
       "            VEGA_DEBUG[key] = version;\n",
       "            return resolve(paths[lib]);\n",
       "          };\n",
       "          s.onerror = () => reject(`Error loading script: ${paths[lib]}`);\n",
       "          s.src = paths[lib];\n",
       "        });\n",
       "    }\n",
       "\n",
       "    function showError(err) {\n",
       "      outputDiv.innerHTML = `<div class=\"error\" style=\"color:red;\">${err}</div>`;\n",
       "      throw err;\n",
       "    }\n",
       "\n",
       "    function displayChart(vegaEmbed) {\n",
       "      vegaEmbed(outputDiv, spec, embedOpt)\n",
       "        .catch(err => showError(`Javascript Error: ${err.message}<br>This usually means there's a typo in your chart specification. See the javascript console for the full traceback.`));\n",
       "    }\n",
       "\n",
       "    if(typeof define === \"function\" && define.amd) {\n",
       "      requirejs.config({paths});\n",
       "      require([\"vega-embed\"], displayChart, err => showError(`Error loading script: ${err.message}`));\n",
       "    } else {\n",
       "      maybeLoadScript(\"vega\", \"5\")\n",
       "        .then(() => maybeLoadScript(\"vega-lite\", \"4.17.0\"))\n",
       "        .then(() => maybeLoadScript(\"vega-embed\", \"6\"))\n",
       "        .catch(showError)\n",
       "        .then(() => displayChart(vegaEmbed));\n",
       "    }\n",
       "  })({\"config\": {\"view\": {\"continuousWidth\": 400, \"continuousHeight\": 300, \"stroke\": null}, \"facet\": {\"spacing\": 0}}, \"data\": {\"name\": \"data-0e8f8eaf27723d86ce60d10aef994610\"}, \"facet\": {\"column\": {\"field\": \"route_id\", \"sort\": [\"12S\", \"10S\"], \"title\": \"Route ID\", \"type\": \"nominal\"}}, \"spec\": {\"layer\": [{\"mark\": {\"type\": \"point\", \"opacity\": 0.65, \"size\": 12, \"strokeWidth\": 1.1}, \"encoding\": {\"color\": {\"field\": \"time_of_day\", \"scale\": {\"range\": [\"#136C97\", \"#E16B26\", \"#F6BF16\", \"#00896B\", \"#7790A3\", \"#5B559C\"]}, \"sort\": [\"AM Peak\", \"Midday\", \"PM Peak\", \"Owl Service\"], \"title\": \"Time of Day\", \"type\": \"nominal\"}, \"tooltip\": [{\"field\": \"route_id\", \"type\": \"nominal\"}, {\"field\": \"trip_id\", \"type\": \"nominal\"}, {\"field\": \"service_hours\", \"type\": \"quantitative\"}, {\"field\": \"car_duration_hours\", \"type\": \"quantitative\"}, {\"field\": \"bus_multiplier\", \"type\": \"quantitative\"}, {\"field\": \"bus_difference\", \"type\": \"quantitative\"}, {\"field\": \"num_trips\", \"type\": \"quantitative\"}, {\"field\": \"num_competitive\", \"type\": \"quantitative\"}, {\"field\": \"pct_trips_competitive\", \"type\": \"quantitative\"}, {\"field\": \"p25\", \"type\": \"quantitative\"}, {\"field\": \"p50\", \"type\": \"quantitative\"}, {\"field\": \"p75\", \"type\": \"quantitative\"}], \"x\": {\"axis\": {\"grid\": false, \"labels\": false, \"ticks\": true, \"values\": [0]}, \"field\": \"jitter\", \"scale\": {}, \"title\": null, \"type\": \"quantitative\"}, \"y\": {\"field\": \"bus_multiplier\", \"scale\": {\"domain\": [-0.25, 2.5]}, \"title\": \"Ratio of Bus to Car Travel Time\", \"type\": \"quantitative\"}}, \"selection\": {\"selector003\": {\"type\": \"interval\", \"bind\": \"scales\", \"encodings\": [\"x\", \"y\"]}}, \"transform\": [{\"calculate\": \"sqrt(-2*log(random()))*cos(2*PI*random())\", \"as\": \"jitter\"}], \"width\": 60}, {\"layer\": [{\"mark\": {\"type\": \"point\", \"opacity\": 0.6, \"size\": 20, \"strokeWidth\": 1.3}, \"encoding\": {\"color\": {\"value\": \"#323434\"}, \"y\": {\"field\": \"bus_multiplier\", \"type\": \"quantitative\"}}, \"transform\": [{\"filter\": \"(datum.p50_trip === 1)\"}]}, {\"mark\": {\"type\": \"rule\", \"strokeDash\": [2, 3]}, \"encoding\": {\"color\": {\"value\": \"#323434\"}, \"y\": {\"field\": \"cutoff\", \"type\": \"quantitative\"}}}, {\"mark\": {\"type\": \"text\", \"align\": \"center\", \"baseline\": \"middle\"}, \"encoding\": {\"color\": {\"value\": \"black\"}, \"text\": {\"field\": \"pct_trips_competitive\", \"format\": \".0%\", \"type\": \"quantitative\"}, \"tooltip\": [{\"field\": \"route_id\", \"type\": \"nominal\"}, {\"field\": \"trip_id\", \"type\": \"nominal\"}, {\"field\": \"service_hours\", \"type\": \"quantitative\"}, {\"field\": \"car_duration_hours\", \"type\": \"quantitative\"}, {\"field\": \"bus_multiplier\", \"type\": \"quantitative\"}, {\"field\": \"bus_difference\", \"type\": \"quantitative\"}, {\"field\": \"num_trips\", \"type\": \"quantitative\"}, {\"field\": \"num_competitive\", \"type\": \"quantitative\"}, {\"field\": \"pct_trips_competitive\", \"type\": \"quantitative\"}, {\"field\": \"p25\", \"type\": \"quantitative\"}, {\"field\": \"p50\", \"type\": \"quantitative\"}, {\"field\": \"p75\", \"type\": \"quantitative\"}], \"x\": {\"value\": 30}, \"y\": {\"value\": 15}}, \"transform\": [{\"calculate\": \"sqrt(-2*log(random()))*cos(2*PI*random())\", \"as\": \"jitter\"}, {\"filter\": \"(datum.fastest_trip === 1)\"}]}]}]}, \"resolve\": {\"scale\": {\"y\": \"shared\"}}, \"title\": \"Ratio of Bus to Car Travel Time\", \"$schema\": \"https://vega.github.io/schema/vega-lite/v4.17.0.json\", \"datasets\": {\"data-0e8f8eaf27723d86ce60d10aef994610\": [{\"calitp_itp_id\": 289, \"trip_key\": -217978832266472708, \"trip_id\": \"373\", \"shape_id\": \"119\", \"route_id\": \"10S\", \"service_hours\": 1.17, \"trip_first_departure_ts\": 63180, \"trip_last_arrival_ts\": 67380, \"departure_hour\": 17, \"time_of_day\": \"PM Peak\", \"p25\": 1.17, \"p50\": 1.17, \"p75\": 1.17, \"p50_trip\": 1, \"fastest_trip\": 0, \"car_duration_hours\": 0.9, \"competitive_route\": 1, \"bus_multiplier\": 1.3, \"bus_difference\": 16.2, \"num_trips\": 15, \"num_competitive\": 15, \"pct_trips_competitive\": 1.0, \"bus_difference_spread\": 0.0, \"route_group\": \"medium\", \"max_trip_hrs\": 1.17, \"max_trip_route_group\": 1.23, \"name\": \"San Luis Obispo Regional Transit Authority \", \"caltrans_district\": \"05 - San Luis Obispo\", \"drmt_organization_name\": null, \"cutoff2\": 18.45, \"cutoff\": 2}, {\"calitp_itp_id\": 289, \"trip_key\": -8076280335769285352, \"trip_id\": \"946\", \"shape_id\": \"119\", \"route_id\": \"10S\", \"service_hours\": 1.17, \"trip_first_departure_ts\": 37980, \"trip_last_arrival_ts\": 42180, \"departure_hour\": 10, \"time_of_day\": \"Midday\", \"p25\": 1.17, \"p50\": 1.17, \"p75\": 1.17, \"p50_trip\": 1, \"fastest_trip\": 0, \"car_duration_hours\": 0.9, \"competitive_route\": 1, \"bus_multiplier\": 1.3, \"bus_difference\": 16.2, \"num_trips\": 15, \"num_competitive\": 15, \"pct_trips_competitive\": 1.0, \"bus_difference_spread\": 0.0, \"route_group\": \"medium\", \"max_trip_hrs\": 1.17, \"max_trip_route_group\": 1.23, \"name\": \"San Luis Obispo Regional Transit Authority \", \"caltrans_district\": \"05 - San Luis Obispo\", \"drmt_organization_name\": null, \"cutoff2\": 18.45, \"cutoff\": 2}, {\"calitp_itp_id\": 289, \"trip_key\": -3752104160203546169, \"trip_id\": \"354\", \"shape_id\": \"119\", \"route_id\": \"10S\", \"service_hours\": 1.17, \"trip_first_departure_ts\": 23580, \"trip_last_arrival_ts\": 27780, \"departure_hour\": 6, \"time_of_day\": \"Owl Service\", \"p25\": 1.17, \"p50\": 1.17, \"p75\": 1.17, \"p50_trip\": 1, \"fastest_trip\": 0, \"car_duration_hours\": 0.9, \"competitive_route\": 1, \"bus_multiplier\": 1.3, \"bus_difference\": 16.2, \"num_trips\": 15, \"num_competitive\": 15, \"pct_trips_competitive\": 1.0, \"bus_difference_spread\": 0.0, \"route_group\": \"medium\", \"max_trip_hrs\": 1.17, \"max_trip_route_group\": 1.23, \"name\": \"San Luis Obispo Regional Transit Authority \", \"caltrans_district\": \"05 - San Luis Obispo\", \"drmt_organization_name\": null, \"cutoff2\": 18.45, \"cutoff\": 2}, {\"calitp_itp_id\": 289, \"trip_key\": 3419659743591932465, \"trip_id\": \"356\", \"shape_id\": \"119\", \"route_id\": \"10S\", \"service_hours\": 1.17, \"trip_first_departure_ts\": 34380, \"trip_last_arrival_ts\": 38580, \"departure_hour\": 9, \"time_of_day\": \"AM Peak\", \"p25\": 1.17, \"p50\": 1.17, \"p75\": 1.17, \"p50_trip\": 1, \"fastest_trip\": 0, \"car_duration_hours\": 0.9, \"competitive_route\": 1, \"bus_multiplier\": 1.3, \"bus_difference\": 16.2, \"num_trips\": 15, \"num_competitive\": 15, \"pct_trips_competitive\": 1.0, \"bus_difference_spread\": 0.0, \"route_group\": \"medium\", \"max_trip_hrs\": 1.17, \"max_trip_route_group\": 1.23, \"name\": \"San Luis Obispo Regional Transit Authority \", \"caltrans_district\": \"05 - San Luis Obispo\", \"drmt_organization_name\": null, \"cutoff2\": 18.45, \"cutoff\": 2}, {\"calitp_itp_id\": 289, \"trip_key\": -571990138005095757, \"trip_id\": \"363\", \"shape_id\": \"119\", \"route_id\": \"10S\", \"service_hours\": 1.17, \"trip_first_departure_ts\": 55980, \"trip_last_arrival_ts\": 60180, \"departure_hour\": 15, \"time_of_day\": \"Midday\", \"p25\": 1.17, \"p50\": 1.17, \"p75\": 1.17, \"p50_trip\": 1, \"fastest_trip\": 0, \"car_duration_hours\": 0.9, \"competitive_route\": 1, \"bus_multiplier\": 1.3, \"bus_difference\": 16.2, \"num_trips\": 15, \"num_competitive\": 15, \"pct_trips_competitive\": 1.0, \"bus_difference_spread\": 0.0, \"route_group\": \"medium\", \"max_trip_hrs\": 1.17, \"max_trip_route_group\": 1.23, \"name\": \"San Luis Obispo Regional Transit Authority \", \"caltrans_district\": \"05 - San Luis Obispo\", \"drmt_organization_name\": null, \"cutoff2\": 18.45, \"cutoff\": 2}, {\"calitp_itp_id\": 289, \"trip_key\": -4207254156873363879, \"trip_id\": \"361\", \"shape_id\": \"119\", \"route_id\": \"10S\", \"service_hours\": 1.17, \"trip_first_departure_ts\": 45180, \"trip_last_arrival_ts\": 49380, \"departure_hour\": 12, \"time_of_day\": \"Midday\", \"p25\": 1.17, \"p50\": 1.17, \"p75\": 1.17, \"p50_trip\": 1, \"fastest_trip\": 0, \"car_duration_hours\": 0.9, \"competitive_route\": 1, \"bus_multiplier\": 1.3, \"bus_difference\": 16.2, \"num_trips\": 15, \"num_competitive\": 15, \"pct_trips_competitive\": 1.0, \"bus_difference_spread\": 0.0, \"route_group\": \"medium\", \"max_trip_hrs\": 1.17, \"max_trip_route_group\": 1.23, \"name\": \"San Luis Obispo Regional Transit Authority \", \"caltrans_district\": \"05 - San Luis Obispo\", \"drmt_organization_name\": null, \"cutoff2\": 18.45, \"cutoff\": 2}, {\"calitp_itp_id\": 289, \"trip_key\": 2607466519835211678, \"trip_id\": \"370\", \"shape_id\": \"119\", \"route_id\": \"10S\", \"service_hours\": 1.17, \"trip_first_departure_ts\": 70380, \"trip_last_arrival_ts\": 74580, \"departure_hour\": 19, \"time_of_day\": \"PM Peak\", \"p25\": 1.17, \"p50\": 1.17, \"p75\": 1.17, \"p50_trip\": 1, \"fastest_trip\": 0, \"car_duration_hours\": 0.9, \"competitive_route\": 1, \"bus_multiplier\": 1.3, \"bus_difference\": 16.2, \"num_trips\": 15, \"num_competitive\": 15, \"pct_trips_competitive\": 1.0, \"bus_difference_spread\": 0.0, \"route_group\": \"medium\", \"max_trip_hrs\": 1.17, \"max_trip_route_group\": 1.23, \"name\": \"San Luis Obispo Regional Transit Authority \", \"caltrans_district\": \"05 - San Luis Obispo\", \"drmt_organization_name\": null, \"cutoff2\": 18.45, \"cutoff\": 2}, {\"calitp_itp_id\": 289, \"trip_key\": -5258782079856220781, \"trip_id\": \"375\", \"shape_id\": \"119\", \"route_id\": \"10S\", \"service_hours\": 1.17, \"trip_first_departure_ts\": 73980, \"trip_last_arrival_ts\": 78180, \"departure_hour\": 20, \"time_of_day\": \"Owl Service\", \"p25\": 1.17, \"p50\": 1.17, \"p75\": 1.17, \"p50_trip\": 1, \"fastest_trip\": 1, \"car_duration_hours\": 0.9, \"competitive_route\": 1, \"bus_multiplier\": 1.3, \"bus_difference\": 16.2, \"num_trips\": 15, \"num_competitive\": 15, \"pct_trips_competitive\": 1.0, \"bus_difference_spread\": 0.0, \"route_group\": \"medium\", \"max_trip_hrs\": 1.17, \"max_trip_route_group\": 1.23, \"name\": \"San Luis Obispo Regional Transit Authority \", \"caltrans_district\": \"05 - San Luis Obispo\", \"drmt_organization_name\": null, \"cutoff2\": 18.45, \"cutoff\": 2}, {\"calitp_itp_id\": 289, \"trip_key\": -4622280952197654526, \"trip_id\": \"371\", \"shape_id\": \"119\", \"route_id\": \"10S\", \"service_hours\": 1.17, \"trip_first_departure_ts\": 52380, \"trip_last_arrival_ts\": 56580, \"departure_hour\": 14, \"time_of_day\": \"Midday\", \"p25\": 1.17, \"p50\": 1.17, \"p75\": 1.17, \"p50_trip\": 1, \"fastest_trip\": 0, \"car_duration_hours\": 0.9, \"competitive_route\": 1, \"bus_multiplier\": 1.3, \"bus_difference\": 16.2, \"num_trips\": 15, \"num_competitive\": 15, \"pct_trips_competitive\": 1.0, \"bus_difference_spread\": 0.0, \"route_group\": \"medium\", \"max_trip_hrs\": 1.17, \"max_trip_route_group\": 1.23, \"name\": \"San Luis Obispo Regional Transit Authority \", \"caltrans_district\": \"05 - San Luis Obispo\", \"drmt_organization_name\": null, \"cutoff2\": 18.45, \"cutoff\": 2}, {\"calitp_itp_id\": 289, \"trip_key\": 1316801091930926258, \"trip_id\": \"366\", \"shape_id\": \"119\", \"route_id\": \"10S\", \"service_hours\": 1.17, \"trip_first_departure_ts\": 48780, \"trip_last_arrival_ts\": 52980, \"departure_hour\": 13, \"time_of_day\": \"Midday\", \"p25\": 1.17, \"p50\": 1.17, \"p75\": 1.17, \"p50_trip\": 1, \"fastest_trip\": 0, \"car_duration_hours\": 0.9, \"competitive_route\": 1, \"bus_multiplier\": 1.3, \"bus_difference\": 16.2, \"num_trips\": 15, \"num_competitive\": 15, \"pct_trips_competitive\": 1.0, \"bus_difference_spread\": 0.0, \"route_group\": \"medium\", \"max_trip_hrs\": 1.17, \"max_trip_route_group\": 1.23, \"name\": \"San Luis Obispo Regional Transit Authority \", \"caltrans_district\": \"05 - San Luis Obispo\", \"drmt_organization_name\": null, \"cutoff2\": 18.45, \"cutoff\": 2}, {\"calitp_itp_id\": 289, \"trip_key\": 9159001500917859094, \"trip_id\": \"368\", \"shape_id\": \"119\", \"route_id\": \"10S\", \"service_hours\": 1.17, \"trip_first_departure_ts\": 59580, \"trip_last_arrival_ts\": 63780, \"departure_hour\": 16, \"time_of_day\": \"Midday\", \"p25\": 1.17, \"p50\": 1.17, \"p75\": 1.17, \"p50_trip\": 1, \"fastest_trip\": 0, \"car_duration_hours\": 0.9, \"competitive_route\": 1, \"bus_multiplier\": 1.3, \"bus_difference\": 16.2, \"num_trips\": 15, \"num_competitive\": 15, \"pct_trips_competitive\": 1.0, \"bus_difference_spread\": 0.0, \"route_group\": \"medium\", \"max_trip_hrs\": 1.17, \"max_trip_route_group\": 1.23, \"name\": \"San Luis Obispo Regional Transit Authority \", \"caltrans_district\": \"05 - San Luis Obispo\", \"drmt_organization_name\": null, \"cutoff2\": 18.45, \"cutoff\": 2}, {\"calitp_itp_id\": 289, \"trip_key\": -3399655299364162076, \"trip_id\": \"365\", \"shape_id\": \"119\", \"route_id\": \"10S\", \"service_hours\": 1.17, \"trip_first_departure_ts\": 66780, \"trip_last_arrival_ts\": 70980, \"departure_hour\": 18, \"time_of_day\": \"PM Peak\", \"p25\": 1.17, \"p50\": 1.17, \"p75\": 1.17, \"p50_trip\": 1, \"fastest_trip\": 0, \"car_duration_hours\": 0.9, \"competitive_route\": 1, \"bus_multiplier\": 1.3, \"bus_difference\": 16.2, \"num_trips\": 15, \"num_competitive\": 15, \"pct_trips_competitive\": 1.0, \"bus_difference_spread\": 0.0, \"route_group\": \"medium\", \"max_trip_hrs\": 1.17, \"max_trip_route_group\": 1.23, \"name\": \"San Luis Obispo Regional Transit Authority \", \"caltrans_district\": \"05 - San Luis Obispo\", \"drmt_organization_name\": null, \"cutoff2\": 18.45, \"cutoff\": 2}, {\"calitp_itp_id\": 289, \"trip_key\": -6323686424439162039, \"trip_id\": \"360\", \"shape_id\": \"119\", \"route_id\": \"10S\", \"service_hours\": 1.17, \"trip_first_departure_ts\": 41580, \"trip_last_arrival_ts\": 45780, \"departure_hour\": 11, \"time_of_day\": \"Midday\", \"p25\": 1.17, \"p50\": 1.17, \"p75\": 1.17, \"p50_trip\": 1, \"fastest_trip\": 0, \"car_duration_hours\": 0.9, \"competitive_route\": 1, \"bus_multiplier\": 1.3, \"bus_difference\": 16.2, \"num_trips\": 15, \"num_competitive\": 15, \"pct_trips_competitive\": 1.0, \"bus_difference_spread\": 0.0, \"route_group\": \"medium\", \"max_trip_hrs\": 1.17, \"max_trip_route_group\": 1.23, \"name\": \"San Luis Obispo Regional Transit Authority \", \"caltrans_district\": \"05 - San Luis Obispo\", \"drmt_organization_name\": null, \"cutoff2\": 18.45, \"cutoff\": 2}, {\"calitp_itp_id\": 289, \"trip_key\": -1056786610625619433, \"trip_id\": \"358\", \"shape_id\": \"119\", \"route_id\": \"10S\", \"service_hours\": 1.17, \"trip_first_departure_ts\": 30780, \"trip_last_arrival_ts\": 34980, \"departure_hour\": 8, \"time_of_day\": \"AM Peak\", \"p25\": 1.17, \"p50\": 1.17, \"p75\": 1.17, \"p50_trip\": 1, \"fastest_trip\": 0, \"car_duration_hours\": 0.9, \"competitive_route\": 1, \"bus_multiplier\": 1.3, \"bus_difference\": 16.2, \"num_trips\": 15, \"num_competitive\": 15, \"pct_trips_competitive\": 1.0, \"bus_difference_spread\": 0.0, \"route_group\": \"medium\", \"max_trip_hrs\": 1.17, \"max_trip_route_group\": 1.23, \"name\": \"San Luis Obispo Regional Transit Authority \", \"caltrans_district\": \"05 - San Luis Obispo\", \"drmt_organization_name\": null, \"cutoff2\": 18.45, \"cutoff\": 2}, {\"calitp_itp_id\": 289, \"trip_key\": 8536695527248159290, \"trip_id\": \"944\", \"shape_id\": \"119\", \"route_id\": \"10S\", \"service_hours\": 1.17, \"trip_first_departure_ts\": 27180, \"trip_last_arrival_ts\": 31380, \"departure_hour\": 7, \"time_of_day\": \"AM Peak\", \"p25\": 1.17, \"p50\": 1.17, \"p75\": 1.17, \"p50_trip\": 1, \"fastest_trip\": 0, \"car_duration_hours\": 0.9, \"competitive_route\": 1, \"bus_multiplier\": 1.3, \"bus_difference\": 16.2, \"num_trips\": 15, \"num_competitive\": 15, \"pct_trips_competitive\": 1.0, \"bus_difference_spread\": 0.0, \"route_group\": \"medium\", \"max_trip_hrs\": 1.17, \"max_trip_route_group\": 1.23, \"name\": \"San Luis Obispo Regional Transit Authority \", \"caltrans_district\": \"05 - San Luis Obispo\", \"drmt_organization_name\": null, \"cutoff2\": 18.45, \"cutoff\": 2}, {\"calitp_itp_id\": 289, \"trip_key\": -902725178889451754, \"trip_id\": \"396\", \"shape_id\": \"40\", \"route_id\": \"12S\", \"service_hours\": 0.98, \"trip_first_departure_ts\": 65220, \"trip_last_arrival_ts\": 68760, \"departure_hour\": 18, \"time_of_day\": \"PM Peak\", \"p25\": 0.98, \"p50\": 0.98, \"p75\": 0.98, \"p50_trip\": 1, \"fastest_trip\": 0, \"car_duration_hours\": 0.69, \"competitive_route\": 1, \"bus_multiplier\": 1.42, \"bus_difference\": 17.4, \"num_trips\": 16, \"num_competitive\": 16, \"pct_trips_competitive\": 1.0, \"bus_difference_spread\": 5.4, \"route_group\": \"medium\", \"max_trip_hrs\": 1.07, \"max_trip_route_group\": 1.23, \"name\": \"San Luis Obispo Regional Transit Authority \", \"caltrans_district\": \"05 - San Luis Obispo\", \"drmt_organization_name\": null, \"cutoff2\": 18.45, \"cutoff\": 2}, {\"calitp_itp_id\": 289, \"trip_key\": -490404982841053616, \"trip_id\": \"397\", \"shape_id\": \"40\", \"route_id\": \"12S\", \"service_hours\": 0.98, \"trip_first_departure_ts\": 68820, \"trip_last_arrival_ts\": 72360, \"departure_hour\": 19, \"time_of_day\": \"PM Peak\", \"p25\": 0.98, \"p50\": 0.98, \"p75\": 0.98, \"p50_trip\": 1, \"fastest_trip\": 0, \"car_duration_hours\": 0.69, \"competitive_route\": 1, \"bus_multiplier\": 1.42, \"bus_difference\": 17.4, \"num_trips\": 16, \"num_competitive\": 16, \"pct_trips_competitive\": 1.0, \"bus_difference_spread\": 5.4, \"route_group\": \"medium\", \"max_trip_hrs\": 1.07, \"max_trip_route_group\": 1.23, \"name\": \"San Luis Obispo Regional Transit Authority \", \"caltrans_district\": \"05 - San Luis Obispo\", \"drmt_organization_name\": null, \"cutoff2\": 18.45, \"cutoff\": 2}, {\"calitp_itp_id\": 289, \"trip_key\": -2045283170317425624, \"trip_id\": \"401\", \"shape_id\": \"40\", \"route_id\": \"12S\", \"service_hours\": 0.98, \"trip_first_departure_ts\": 54420, \"trip_last_arrival_ts\": 57960, \"departure_hour\": 15, \"time_of_day\": \"Midday\", \"p25\": 0.98, \"p50\": 0.98, \"p75\": 0.98, \"p50_trip\": 1, \"fastest_trip\": 0, \"car_duration_hours\": 0.69, \"competitive_route\": 1, \"bus_multiplier\": 1.42, \"bus_difference\": 17.4, \"num_trips\": 16, \"num_competitive\": 16, \"pct_trips_competitive\": 1.0, \"bus_difference_spread\": 5.4, \"route_group\": \"medium\", \"max_trip_hrs\": 1.07, \"max_trip_route_group\": 1.23, \"name\": \"San Luis Obispo Regional Transit Authority \", \"caltrans_district\": \"05 - San Luis Obispo\", \"drmt_organization_name\": null, \"cutoff2\": 18.45, \"cutoff\": 2}, {\"calitp_itp_id\": 289, \"trip_key\": 4230533606164430112, \"trip_id\": \"388\", \"shape_id\": \"40\", \"route_id\": \"12S\", \"service_hours\": 0.98, \"trip_first_departure_ts\": 40020, \"trip_last_arrival_ts\": 43560, \"departure_hour\": 11, \"time_of_day\": \"Midday\", \"p25\": 0.98, \"p50\": 0.98, \"p75\": 0.98, \"p50_trip\": 1, \"fastest_trip\": 0, \"car_duration_hours\": 0.69, \"competitive_route\": 1, \"bus_multiplier\": 1.42, \"bus_difference\": 17.4, \"num_trips\": 16, \"num_competitive\": 16, \"pct_trips_competitive\": 1.0, \"bus_difference_spread\": 5.4, \"route_group\": \"medium\", \"max_trip_hrs\": 1.07, \"max_trip_route_group\": 1.23, \"name\": \"San Luis Obispo Regional Transit Authority \", \"caltrans_district\": \"05 - San Luis Obispo\", \"drmt_organization_name\": null, \"cutoff2\": 18.45, \"cutoff\": 2}, {\"calitp_itp_id\": 289, \"trip_key\": 7140058515224364709, \"trip_id\": \"403\", \"shape_id\": \"40\", \"route_id\": \"12S\", \"service_hours\": 0.98, \"trip_first_departure_ts\": 61620, \"trip_last_arrival_ts\": 65160, \"departure_hour\": 17, \"time_of_day\": \"PM Peak\", \"p25\": 0.98, \"p50\": 0.98, \"p75\": 0.98, \"p50_trip\": 1, \"fastest_trip\": 0, \"car_duration_hours\": 0.69, \"competitive_route\": 1, \"bus_multiplier\": 1.42, \"bus_difference\": 17.4, \"num_trips\": 16, \"num_competitive\": 16, \"pct_trips_competitive\": 1.0, \"bus_difference_spread\": 5.4, \"route_group\": \"medium\", \"max_trip_hrs\": 1.07, \"max_trip_route_group\": 1.23, \"name\": \"San Luis Obispo Regional Transit Authority \", \"caltrans_district\": \"05 - San Luis Obispo\", \"drmt_organization_name\": null, \"cutoff2\": 18.45, \"cutoff\": 2}, {\"calitp_itp_id\": 289, \"trip_key\": -9071896620672618546, \"trip_id\": \"390\", \"shape_id\": \"40\", \"route_id\": \"12S\", \"service_hours\": 0.98, \"trip_first_departure_ts\": 47220, \"trip_last_arrival_ts\": 50760, \"departure_hour\": 13, \"time_of_day\": \"Midday\", \"p25\": 0.98, \"p50\": 0.98, \"p75\": 0.98, \"p50_trip\": 1, \"fastest_trip\": 0, \"car_duration_hours\": 0.69, \"competitive_route\": 1, \"bus_multiplier\": 1.42, \"bus_difference\": 17.4, \"num_trips\": 16, \"num_competitive\": 16, \"pct_trips_competitive\": 1.0, \"bus_difference_spread\": 5.4, \"route_group\": \"medium\", \"max_trip_hrs\": 1.07, \"max_trip_route_group\": 1.23, \"name\": \"San Luis Obispo Regional Transit Authority \", \"caltrans_district\": \"05 - San Luis Obispo\", \"drmt_organization_name\": null, \"cutoff2\": 18.45, \"cutoff\": 2}, {\"calitp_itp_id\": 289, \"trip_key\": 4303130710267151022, \"trip_id\": \"378\", \"shape_id\": \"40\", \"route_id\": \"12S\", \"service_hours\": 0.98, \"trip_first_departure_ts\": 29220, \"trip_last_arrival_ts\": 32760, \"departure_hour\": 8, \"time_of_day\": \"AM Peak\", \"p25\": 0.98, \"p50\": 0.98, \"p75\": 0.98, \"p50_trip\": 1, \"fastest_trip\": 0, \"car_duration_hours\": 0.69, \"competitive_route\": 1, \"bus_multiplier\": 1.42, \"bus_difference\": 17.4, \"num_trips\": 16, \"num_competitive\": 16, \"pct_trips_competitive\": 1.0, \"bus_difference_spread\": 5.4, \"route_group\": \"medium\", \"max_trip_hrs\": 1.07, \"max_trip_route_group\": 1.23, \"name\": \"San Luis Obispo Regional Transit Authority \", \"caltrans_district\": \"05 - San Luis Obispo\", \"drmt_organization_name\": null, \"cutoff2\": 18.45, \"cutoff\": 2}, {\"calitp_itp_id\": 289, \"trip_key\": 1560614880468304545, \"trip_id\": \"386\", \"shape_id\": \"40\", \"route_id\": \"12S\", \"service_hours\": 0.98, \"trip_first_departure_ts\": 32820, \"trip_last_arrival_ts\": 36360, \"departure_hour\": 9, \"time_of_day\": \"AM Peak\", \"p25\": 0.98, \"p50\": 0.98, \"p75\": 0.98, \"p50_trip\": 1, \"fastest_trip\": 0, \"car_duration_hours\": 0.69, \"competitive_route\": 1, \"bus_multiplier\": 1.42, \"bus_difference\": 17.4, \"num_trips\": 16, \"num_competitive\": 16, \"pct_trips_competitive\": 1.0, \"bus_difference_spread\": 5.4, \"route_group\": \"medium\", \"max_trip_hrs\": 1.07, \"max_trip_route_group\": 1.23, \"name\": \"San Luis Obispo Regional Transit Authority \", \"caltrans_district\": \"05 - San Luis Obispo\", \"drmt_organization_name\": null, \"cutoff2\": 18.45, \"cutoff\": 2}, {\"calitp_itp_id\": 289, \"trip_key\": 2760626665496852148, \"trip_id\": \"394\", \"shape_id\": \"40\", \"route_id\": \"12S\", \"service_hours\": 0.98, \"trip_first_departure_ts\": 58020, \"trip_last_arrival_ts\": 61560, \"departure_hour\": 16, \"time_of_day\": \"Midday\", \"p25\": 0.98, \"p50\": 0.98, \"p75\": 0.98, \"p50_trip\": 1, \"fastest_trip\": 0, \"car_duration_hours\": 0.69, \"competitive_route\": 1, \"bus_multiplier\": 1.42, \"bus_difference\": 17.4, \"num_trips\": 16, \"num_competitive\": 16, \"pct_trips_competitive\": 1.0, \"bus_difference_spread\": 5.4, \"route_group\": \"medium\", \"max_trip_hrs\": 1.07, \"max_trip_route_group\": 1.23, \"name\": \"San Luis Obispo Regional Transit Authority \", \"caltrans_district\": \"05 - San Luis Obispo\", \"drmt_organization_name\": null, \"cutoff2\": 18.45, \"cutoff\": 2}, {\"calitp_itp_id\": 289, \"trip_key\": -270175774703166854, \"trip_id\": \"392\", \"shape_id\": \"40\", \"route_id\": \"12S\", \"service_hours\": 0.98, \"trip_first_departure_ts\": 50820, \"trip_last_arrival_ts\": 54360, \"departure_hour\": 14, \"time_of_day\": \"Midday\", \"p25\": 0.98, \"p50\": 0.98, \"p75\": 0.98, \"p50_trip\": 1, \"fastest_trip\": 0, \"car_duration_hours\": 0.69, \"competitive_route\": 1, \"bus_multiplier\": 1.42, \"bus_difference\": 17.4, \"num_trips\": 16, \"num_competitive\": 16, \"pct_trips_competitive\": 1.0, \"bus_difference_spread\": 5.4, \"route_group\": \"medium\", \"max_trip_hrs\": 1.07, \"max_trip_route_group\": 1.23, \"name\": \"San Luis Obispo Regional Transit Authority \", \"caltrans_district\": \"05 - San Luis Obispo\", \"drmt_organization_name\": null, \"cutoff2\": 18.45, \"cutoff\": 2}, {\"calitp_itp_id\": 289, \"trip_key\": -5567591704886540558, \"trip_id\": \"382\", \"shape_id\": \"40\", \"route_id\": \"12S\", \"service_hours\": 0.98, \"trip_first_departure_ts\": 43620, \"trip_last_arrival_ts\": 47160, \"departure_hour\": 12, \"time_of_day\": \"Midday\", \"p25\": 0.98, \"p50\": 0.98, \"p75\": 0.98, \"p50_trip\": 1, \"fastest_trip\": 0, \"car_duration_hours\": 0.69, \"competitive_route\": 1, \"bus_multiplier\": 1.42, \"bus_difference\": 17.4, \"num_trips\": 16, \"num_competitive\": 16, \"pct_trips_competitive\": 1.0, \"bus_difference_spread\": 5.4, \"route_group\": \"medium\", \"max_trip_hrs\": 1.07, \"max_trip_route_group\": 1.23, \"name\": \"San Luis Obispo Regional Transit Authority \", \"caltrans_district\": \"05 - San Luis Obispo\", \"drmt_organization_name\": null, \"cutoff2\": 18.45, \"cutoff\": 2}, {\"calitp_itp_id\": 289, \"trip_key\": -8393856501472233478, \"trip_id\": \"384\", \"shape_id\": \"40\", \"route_id\": \"12S\", \"service_hours\": 0.98, \"trip_first_departure_ts\": 25620, \"trip_last_arrival_ts\": 29160, \"departure_hour\": 7, \"time_of_day\": \"AM Peak\", \"p25\": 0.98, \"p50\": 0.98, \"p75\": 0.98, \"p50_trip\": 1, \"fastest_trip\": 0, \"car_duration_hours\": 0.69, \"competitive_route\": 1, \"bus_multiplier\": 1.42, \"bus_difference\": 17.4, \"num_trips\": 16, \"num_competitive\": 16, \"pct_trips_competitive\": 1.0, \"bus_difference_spread\": 5.4, \"route_group\": \"medium\", \"max_trip_hrs\": 1.07, \"max_trip_route_group\": 1.23, \"name\": \"San Luis Obispo Regional Transit Authority \", \"caltrans_district\": \"05 - San Luis Obispo\", \"drmt_organization_name\": null, \"cutoff2\": 18.45, \"cutoff\": 2}, {\"calitp_itp_id\": 289, \"trip_key\": 8246935712761499868, \"trip_id\": \"399\", \"shape_id\": \"40\", \"route_id\": \"12S\", \"service_hours\": 0.98, \"trip_first_departure_ts\": 72420, \"trip_last_arrival_ts\": 75960, \"departure_hour\": 20, \"time_of_day\": \"Owl Service\", \"p25\": 0.98, \"p50\": 0.98, \"p75\": 0.98, \"p50_trip\": 1, \"fastest_trip\": 0, \"car_duration_hours\": 0.69, \"competitive_route\": 1, \"bus_multiplier\": 1.42, \"bus_difference\": 17.4, \"num_trips\": 16, \"num_competitive\": 16, \"pct_trips_competitive\": 1.0, \"bus_difference_spread\": 5.4, \"route_group\": \"medium\", \"max_trip_hrs\": 1.07, \"max_trip_route_group\": 1.23, \"name\": \"San Luis Obispo Regional Transit Authority \", \"caltrans_district\": \"05 - San Luis Obispo\", \"drmt_organization_name\": null, \"cutoff2\": 18.45, \"cutoff\": 2}, {\"calitp_itp_id\": 289, \"trip_key\": -7067380716828279325, \"trip_id\": \"406\", \"shape_id\": \"40\", \"route_id\": \"12S\", \"service_hours\": 0.98, \"trip_first_departure_ts\": 76020, \"trip_last_arrival_ts\": 79560, \"departure_hour\": 21, \"time_of_day\": \"Owl Service\", \"p25\": 0.98, \"p50\": 0.98, \"p75\": 0.98, \"p50_trip\": 1, \"fastest_trip\": 1, \"car_duration_hours\": 0.69, \"competitive_route\": 1, \"bus_multiplier\": 1.42, \"bus_difference\": 17.4, \"num_trips\": 16, \"num_competitive\": 16, \"pct_trips_competitive\": 1.0, \"bus_difference_spread\": 5.4, \"route_group\": \"medium\", \"max_trip_hrs\": 1.07, \"max_trip_route_group\": 1.23, \"name\": \"San Luis Obispo Regional Transit Authority \", \"caltrans_district\": \"05 - San Luis Obispo\", \"drmt_organization_name\": null, \"cutoff2\": 18.45, \"cutoff\": 2}, {\"calitp_itp_id\": 289, \"trip_key\": 6102485461685384618, \"trip_id\": \"380\", \"shape_id\": \"40\", \"route_id\": \"12S\", \"service_hours\": 0.98, \"trip_first_departure_ts\": 36420, \"trip_last_arrival_ts\": 39960, \"departure_hour\": 10, \"time_of_day\": \"Midday\", \"p25\": 0.98, \"p50\": 0.98, \"p75\": 0.98, \"p50_trip\": 1, \"fastest_trip\": 0, \"car_duration_hours\": 0.69, \"competitive_route\": 1, \"bus_multiplier\": 1.42, \"bus_difference\": 17.4, \"num_trips\": 16, \"num_competitive\": 16, \"pct_trips_competitive\": 1.0, \"bus_difference_spread\": 5.4, \"route_group\": \"medium\", \"max_trip_hrs\": 1.07, \"max_trip_route_group\": 1.23, \"name\": \"San Luis Obispo Regional Transit Authority \", \"caltrans_district\": \"05 - San Luis Obispo\", \"drmt_organization_name\": null, \"cutoff2\": 18.45, \"cutoff\": 2}, {\"calitp_itp_id\": 289, \"trip_key\": 5849554892198407452, \"trip_id\": \"376\", \"shape_id\": \"86\", \"route_id\": \"12S\", \"service_hours\": 1.07, \"trip_first_departure_ts\": 22980, \"trip_last_arrival_ts\": 26820, \"departure_hour\": 6, \"time_of_day\": \"Owl Service\", \"p25\": 0.98, \"p50\": 0.98, \"p75\": 0.98, \"p50_trip\": 0, \"fastest_trip\": 0, \"car_duration_hours\": 0.69, \"competitive_route\": 1, \"bus_multiplier\": 1.55, \"bus_difference\": 22.8, \"num_trips\": 16, \"num_competitive\": 16, \"pct_trips_competitive\": 1.0, \"bus_difference_spread\": 5.4, \"route_group\": \"medium\", \"max_trip_hrs\": 1.07, \"max_trip_route_group\": 1.23, \"name\": \"San Luis Obispo Regional Transit Authority \", \"caltrans_district\": \"05 - San Luis Obispo\", \"drmt_organization_name\": null, \"cutoff2\": 18.45, \"cutoff\": 2}]}}, {\"mode\": \"vega-lite\"});\n",
       "</script>"
      ],
      "text/plain": [
       "alt.FacetChart(...)"
      ]
     },
     "metadata": {},
     "output_type": "display_data"
    },
    {
     "data": {
      "text/html": [
       "\n",
       "<div id=\"altair-viz-e2839e793c2b4f5f8db2e642290fd53c\"></div>\n",
       "<script type=\"text/javascript\">\n",
       "  var VEGA_DEBUG = (typeof VEGA_DEBUG == \"undefined\") ? {} : VEGA_DEBUG;\n",
       "  (function(spec, embedOpt){\n",
       "    let outputDiv = document.currentScript.previousElementSibling;\n",
       "    if (outputDiv.id !== \"altair-viz-e2839e793c2b4f5f8db2e642290fd53c\") {\n",
       "      outputDiv = document.getElementById(\"altair-viz-e2839e793c2b4f5f8db2e642290fd53c\");\n",
       "    }\n",
       "    const paths = {\n",
       "      \"vega\": \"https://cdn.jsdelivr.net/npm//vega@5?noext\",\n",
       "      \"vega-lib\": \"https://cdn.jsdelivr.net/npm//vega-lib?noext\",\n",
       "      \"vega-lite\": \"https://cdn.jsdelivr.net/npm//vega-lite@4.17.0?noext\",\n",
       "      \"vega-embed\": \"https://cdn.jsdelivr.net/npm//vega-embed@6?noext\",\n",
       "    };\n",
       "\n",
       "    function maybeLoadScript(lib, version) {\n",
       "      var key = `${lib.replace(\"-\", \"\")}_version`;\n",
       "      return (VEGA_DEBUG[key] == version) ?\n",
       "        Promise.resolve(paths[lib]) :\n",
       "        new Promise(function(resolve, reject) {\n",
       "          var s = document.createElement('script');\n",
       "          document.getElementsByTagName(\"head\")[0].appendChild(s);\n",
       "          s.async = true;\n",
       "          s.onload = () => {\n",
       "            VEGA_DEBUG[key] = version;\n",
       "            return resolve(paths[lib]);\n",
       "          };\n",
       "          s.onerror = () => reject(`Error loading script: ${paths[lib]}`);\n",
       "          s.src = paths[lib];\n",
       "        });\n",
       "    }\n",
       "\n",
       "    function showError(err) {\n",
       "      outputDiv.innerHTML = `<div class=\"error\" style=\"color:red;\">${err}</div>`;\n",
       "      throw err;\n",
       "    }\n",
       "\n",
       "    function displayChart(vegaEmbed) {\n",
       "      vegaEmbed(outputDiv, spec, embedOpt)\n",
       "        .catch(err => showError(`Javascript Error: ${err.message}<br>This usually means there's a typo in your chart specification. See the javascript console for the full traceback.`));\n",
       "    }\n",
       "\n",
       "    if(typeof define === \"function\" && define.amd) {\n",
       "      requirejs.config({paths});\n",
       "      require([\"vega-embed\"], displayChart, err => showError(`Error loading script: ${err.message}`));\n",
       "    } else {\n",
       "      maybeLoadScript(\"vega\", \"5\")\n",
       "        .then(() => maybeLoadScript(\"vega-lite\", \"4.17.0\"))\n",
       "        .then(() => maybeLoadScript(\"vega-embed\", \"6\"))\n",
       "        .catch(showError)\n",
       "        .then(() => displayChart(vegaEmbed));\n",
       "    }\n",
       "  })({\"config\": {\"view\": {\"continuousWidth\": 400, \"continuousHeight\": 300, \"stroke\": null}, \"facet\": {\"spacing\": 0}}, \"data\": {\"name\": \"data-faf0c8384bcb3132606921760a1c8727\"}, \"facet\": {\"column\": {\"field\": \"route_id\", \"sort\": [\"12S\", \"10S\"], \"title\": \"Route ID\", \"type\": \"nominal\"}}, \"spec\": {\"layer\": [{\"mark\": {\"type\": \"point\", \"opacity\": 0.65, \"size\": 12, \"strokeWidth\": 1.1}, \"encoding\": {\"color\": {\"field\": \"time_of_day\", \"scale\": {\"range\": [\"#136C97\", \"#E16B26\", \"#F6BF16\", \"#00896B\", \"#7790A3\", \"#5B559C\"]}, \"sort\": [\"AM Peak\", \"Midday\", \"PM Peak\", \"Owl Service\"], \"title\": \"Time of Day\", \"type\": \"nominal\"}, \"tooltip\": [{\"field\": \"route_id\", \"type\": \"nominal\"}, {\"field\": \"trip_id\", \"type\": \"nominal\"}, {\"field\": \"service_hours\", \"type\": \"quantitative\"}, {\"field\": \"car_duration_hours\", \"type\": \"quantitative\"}, {\"field\": \"bus_multiplier\", \"type\": \"quantitative\"}, {\"field\": \"bus_difference\", \"type\": \"quantitative\"}, {\"field\": \"num_trips\", \"type\": \"quantitative\"}, {\"field\": \"num_competitive\", \"type\": \"quantitative\"}, {\"field\": \"pct_trips_competitive\", \"type\": \"quantitative\"}, {\"field\": \"p25\", \"type\": \"quantitative\"}, {\"field\": \"p50\", \"type\": \"quantitative\"}, {\"field\": \"p75\", \"type\": \"quantitative\"}], \"x\": {\"axis\": {\"grid\": false, \"labels\": false, \"ticks\": true, \"values\": [0]}, \"field\": \"jitter\", \"scale\": {}, \"title\": null, \"type\": \"quantitative\"}, \"y\": {\"field\": \"bus_difference\", \"scale\": {\"domain\": [-5, 31.8]}, \"title\": \"Difference in Bus to Car Travel Time (min)\", \"type\": \"quantitative\"}}, \"selection\": {\"selector004\": {\"type\": \"interval\", \"bind\": \"scales\", \"encodings\": [\"x\", \"y\"]}}, \"transform\": [{\"calculate\": \"sqrt(-2*log(random()))*cos(2*PI*random())\", \"as\": \"jitter\"}], \"width\": 60}, {\"layer\": [{\"mark\": {\"type\": \"point\", \"opacity\": 0.6, \"size\": 20, \"strokeWidth\": 1.3}, \"encoding\": {\"color\": {\"value\": \"#323434\"}, \"y\": {\"field\": \"bus_difference\", \"type\": \"quantitative\"}}, \"transform\": [{\"filter\": \"(datum.p50_trip === 1)\"}]}, {\"mark\": {\"type\": \"rule\", \"strokeDash\": [2, 3]}, \"encoding\": {\"color\": {\"value\": \"#323434\"}, \"y\": {\"field\": \"cutoff\", \"type\": \"quantitative\"}}}, {\"mark\": {\"type\": \"rule\", \"strokeDash\": [2, 3]}, \"encoding\": {\"color\": {\"value\": \"#136C97\"}, \"y\": {\"field\": \"cutoff2\", \"type\": \"quantitative\"}}}, {\"mark\": {\"type\": \"text\", \"align\": \"center\", \"baseline\": \"middle\"}, \"encoding\": {\"color\": {\"value\": \"black\"}, \"text\": {\"field\": \"pct_trips_competitive\", \"format\": \".0%\", \"type\": \"quantitative\"}, \"tooltip\": [{\"field\": \"route_id\", \"type\": \"nominal\"}, {\"field\": \"trip_id\", \"type\": \"nominal\"}, {\"field\": \"service_hours\", \"type\": \"quantitative\"}, {\"field\": \"car_duration_hours\", \"type\": \"quantitative\"}, {\"field\": \"bus_multiplier\", \"type\": \"quantitative\"}, {\"field\": \"bus_difference\", \"type\": \"quantitative\"}, {\"field\": \"num_trips\", \"type\": \"quantitative\"}, {\"field\": \"num_competitive\", \"type\": \"quantitative\"}, {\"field\": \"pct_trips_competitive\", \"type\": \"quantitative\"}, {\"field\": \"p25\", \"type\": \"quantitative\"}, {\"field\": \"p50\", \"type\": \"quantitative\"}, {\"field\": \"p75\", \"type\": \"quantitative\"}], \"x\": {\"value\": 30}, \"y\": {\"value\": 15}}, \"transform\": [{\"calculate\": \"sqrt(-2*log(random()))*cos(2*PI*random())\", \"as\": \"jitter\"}, {\"filter\": \"(datum.fastest_trip === 1)\"}]}]}]}, \"resolve\": {\"scale\": {\"y\": \"shared\"}}, \"title\": \"Difference in Bus to Car Travel Time (min)\", \"$schema\": \"https://vega.github.io/schema/vega-lite/v4.17.0.json\", \"datasets\": {\"data-faf0c8384bcb3132606921760a1c8727\": [{\"calitp_itp_id\": 289, \"trip_key\": -217978832266472708, \"trip_id\": \"373\", \"shape_id\": \"119\", \"route_id\": \"10S\", \"service_hours\": 1.17, \"trip_first_departure_ts\": 63180, \"trip_last_arrival_ts\": 67380, \"departure_hour\": 17, \"time_of_day\": \"PM Peak\", \"p25\": 1.17, \"p50\": 1.17, \"p75\": 1.17, \"p50_trip\": 1, \"fastest_trip\": 0, \"car_duration_hours\": 0.9, \"competitive_route\": 1, \"bus_multiplier\": 1.3, \"bus_difference\": 16.2, \"num_trips\": 15, \"num_competitive\": 15, \"pct_trips_competitive\": 1.0, \"bus_difference_spread\": 0.0, \"route_group\": \"medium\", \"max_trip_hrs\": 1.17, \"max_trip_route_group\": 1.23, \"name\": \"San Luis Obispo Regional Transit Authority \", \"caltrans_district\": \"05 - San Luis Obispo\", \"drmt_organization_name\": null, \"cutoff2\": 18.45, \"cutoff\": 0}, {\"calitp_itp_id\": 289, \"trip_key\": -8076280335769285352, \"trip_id\": \"946\", \"shape_id\": \"119\", \"route_id\": \"10S\", \"service_hours\": 1.17, \"trip_first_departure_ts\": 37980, \"trip_last_arrival_ts\": 42180, \"departure_hour\": 10, \"time_of_day\": \"Midday\", \"p25\": 1.17, \"p50\": 1.17, \"p75\": 1.17, \"p50_trip\": 1, \"fastest_trip\": 0, \"car_duration_hours\": 0.9, \"competitive_route\": 1, \"bus_multiplier\": 1.3, \"bus_difference\": 16.2, \"num_trips\": 15, \"num_competitive\": 15, \"pct_trips_competitive\": 1.0, \"bus_difference_spread\": 0.0, \"route_group\": \"medium\", \"max_trip_hrs\": 1.17, \"max_trip_route_group\": 1.23, \"name\": \"San Luis Obispo Regional Transit Authority \", \"caltrans_district\": \"05 - San Luis Obispo\", \"drmt_organization_name\": null, \"cutoff2\": 18.45, \"cutoff\": 0}, {\"calitp_itp_id\": 289, \"trip_key\": -3752104160203546169, \"trip_id\": \"354\", \"shape_id\": \"119\", \"route_id\": \"10S\", \"service_hours\": 1.17, \"trip_first_departure_ts\": 23580, \"trip_last_arrival_ts\": 27780, \"departure_hour\": 6, \"time_of_day\": \"Owl Service\", \"p25\": 1.17, \"p50\": 1.17, \"p75\": 1.17, \"p50_trip\": 1, \"fastest_trip\": 0, \"car_duration_hours\": 0.9, \"competitive_route\": 1, \"bus_multiplier\": 1.3, \"bus_difference\": 16.2, \"num_trips\": 15, \"num_competitive\": 15, \"pct_trips_competitive\": 1.0, \"bus_difference_spread\": 0.0, \"route_group\": \"medium\", \"max_trip_hrs\": 1.17, \"max_trip_route_group\": 1.23, \"name\": \"San Luis Obispo Regional Transit Authority \", \"caltrans_district\": \"05 - San Luis Obispo\", \"drmt_organization_name\": null, \"cutoff2\": 18.45, \"cutoff\": 0}, {\"calitp_itp_id\": 289, \"trip_key\": 3419659743591932465, \"trip_id\": \"356\", \"shape_id\": \"119\", \"route_id\": \"10S\", \"service_hours\": 1.17, \"trip_first_departure_ts\": 34380, \"trip_last_arrival_ts\": 38580, \"departure_hour\": 9, \"time_of_day\": \"AM Peak\", \"p25\": 1.17, \"p50\": 1.17, \"p75\": 1.17, \"p50_trip\": 1, \"fastest_trip\": 0, \"car_duration_hours\": 0.9, \"competitive_route\": 1, \"bus_multiplier\": 1.3, \"bus_difference\": 16.2, \"num_trips\": 15, \"num_competitive\": 15, \"pct_trips_competitive\": 1.0, \"bus_difference_spread\": 0.0, \"route_group\": \"medium\", \"max_trip_hrs\": 1.17, \"max_trip_route_group\": 1.23, \"name\": \"San Luis Obispo Regional Transit Authority \", \"caltrans_district\": \"05 - San Luis Obispo\", \"drmt_organization_name\": null, \"cutoff2\": 18.45, \"cutoff\": 0}, {\"calitp_itp_id\": 289, \"trip_key\": -571990138005095757, \"trip_id\": \"363\", \"shape_id\": \"119\", \"route_id\": \"10S\", \"service_hours\": 1.17, \"trip_first_departure_ts\": 55980, \"trip_last_arrival_ts\": 60180, \"departure_hour\": 15, \"time_of_day\": \"Midday\", \"p25\": 1.17, \"p50\": 1.17, \"p75\": 1.17, \"p50_trip\": 1, \"fastest_trip\": 0, \"car_duration_hours\": 0.9, \"competitive_route\": 1, \"bus_multiplier\": 1.3, \"bus_difference\": 16.2, \"num_trips\": 15, \"num_competitive\": 15, \"pct_trips_competitive\": 1.0, \"bus_difference_spread\": 0.0, \"route_group\": \"medium\", \"max_trip_hrs\": 1.17, \"max_trip_route_group\": 1.23, \"name\": \"San Luis Obispo Regional Transit Authority \", \"caltrans_district\": \"05 - San Luis Obispo\", \"drmt_organization_name\": null, \"cutoff2\": 18.45, \"cutoff\": 0}, {\"calitp_itp_id\": 289, \"trip_key\": -4207254156873363879, \"trip_id\": \"361\", \"shape_id\": \"119\", \"route_id\": \"10S\", \"service_hours\": 1.17, \"trip_first_departure_ts\": 45180, \"trip_last_arrival_ts\": 49380, \"departure_hour\": 12, \"time_of_day\": \"Midday\", \"p25\": 1.17, \"p50\": 1.17, \"p75\": 1.17, \"p50_trip\": 1, \"fastest_trip\": 0, \"car_duration_hours\": 0.9, \"competitive_route\": 1, \"bus_multiplier\": 1.3, \"bus_difference\": 16.2, \"num_trips\": 15, \"num_competitive\": 15, \"pct_trips_competitive\": 1.0, \"bus_difference_spread\": 0.0, \"route_group\": \"medium\", \"max_trip_hrs\": 1.17, \"max_trip_route_group\": 1.23, \"name\": \"San Luis Obispo Regional Transit Authority \", \"caltrans_district\": \"05 - San Luis Obispo\", \"drmt_organization_name\": null, \"cutoff2\": 18.45, \"cutoff\": 0}, {\"calitp_itp_id\": 289, \"trip_key\": 2607466519835211678, \"trip_id\": \"370\", \"shape_id\": \"119\", \"route_id\": \"10S\", \"service_hours\": 1.17, \"trip_first_departure_ts\": 70380, \"trip_last_arrival_ts\": 74580, \"departure_hour\": 19, \"time_of_day\": \"PM Peak\", \"p25\": 1.17, \"p50\": 1.17, \"p75\": 1.17, \"p50_trip\": 1, \"fastest_trip\": 0, \"car_duration_hours\": 0.9, \"competitive_route\": 1, \"bus_multiplier\": 1.3, \"bus_difference\": 16.2, \"num_trips\": 15, \"num_competitive\": 15, \"pct_trips_competitive\": 1.0, \"bus_difference_spread\": 0.0, \"route_group\": \"medium\", \"max_trip_hrs\": 1.17, \"max_trip_route_group\": 1.23, \"name\": \"San Luis Obispo Regional Transit Authority \", \"caltrans_district\": \"05 - San Luis Obispo\", \"drmt_organization_name\": null, \"cutoff2\": 18.45, \"cutoff\": 0}, {\"calitp_itp_id\": 289, \"trip_key\": -5258782079856220781, \"trip_id\": \"375\", \"shape_id\": \"119\", \"route_id\": \"10S\", \"service_hours\": 1.17, \"trip_first_departure_ts\": 73980, \"trip_last_arrival_ts\": 78180, \"departure_hour\": 20, \"time_of_day\": \"Owl Service\", \"p25\": 1.17, \"p50\": 1.17, \"p75\": 1.17, \"p50_trip\": 1, \"fastest_trip\": 1, \"car_duration_hours\": 0.9, \"competitive_route\": 1, \"bus_multiplier\": 1.3, \"bus_difference\": 16.2, \"num_trips\": 15, \"num_competitive\": 15, \"pct_trips_competitive\": 1.0, \"bus_difference_spread\": 0.0, \"route_group\": \"medium\", \"max_trip_hrs\": 1.17, \"max_trip_route_group\": 1.23, \"name\": \"San Luis Obispo Regional Transit Authority \", \"caltrans_district\": \"05 - San Luis Obispo\", \"drmt_organization_name\": null, \"cutoff2\": 18.45, \"cutoff\": 0}, {\"calitp_itp_id\": 289, \"trip_key\": -4622280952197654526, \"trip_id\": \"371\", \"shape_id\": \"119\", \"route_id\": \"10S\", \"service_hours\": 1.17, \"trip_first_departure_ts\": 52380, \"trip_last_arrival_ts\": 56580, \"departure_hour\": 14, \"time_of_day\": \"Midday\", \"p25\": 1.17, \"p50\": 1.17, \"p75\": 1.17, \"p50_trip\": 1, \"fastest_trip\": 0, \"car_duration_hours\": 0.9, \"competitive_route\": 1, \"bus_multiplier\": 1.3, \"bus_difference\": 16.2, \"num_trips\": 15, \"num_competitive\": 15, \"pct_trips_competitive\": 1.0, \"bus_difference_spread\": 0.0, \"route_group\": \"medium\", \"max_trip_hrs\": 1.17, \"max_trip_route_group\": 1.23, \"name\": \"San Luis Obispo Regional Transit Authority \", \"caltrans_district\": \"05 - San Luis Obispo\", \"drmt_organization_name\": null, \"cutoff2\": 18.45, \"cutoff\": 0}, {\"calitp_itp_id\": 289, \"trip_key\": 1316801091930926258, \"trip_id\": \"366\", \"shape_id\": \"119\", \"route_id\": \"10S\", \"service_hours\": 1.17, \"trip_first_departure_ts\": 48780, \"trip_last_arrival_ts\": 52980, \"departure_hour\": 13, \"time_of_day\": \"Midday\", \"p25\": 1.17, \"p50\": 1.17, \"p75\": 1.17, \"p50_trip\": 1, \"fastest_trip\": 0, \"car_duration_hours\": 0.9, \"competitive_route\": 1, \"bus_multiplier\": 1.3, \"bus_difference\": 16.2, \"num_trips\": 15, \"num_competitive\": 15, \"pct_trips_competitive\": 1.0, \"bus_difference_spread\": 0.0, \"route_group\": \"medium\", \"max_trip_hrs\": 1.17, \"max_trip_route_group\": 1.23, \"name\": \"San Luis Obispo Regional Transit Authority \", \"caltrans_district\": \"05 - San Luis Obispo\", \"drmt_organization_name\": null, \"cutoff2\": 18.45, \"cutoff\": 0}, {\"calitp_itp_id\": 289, \"trip_key\": 9159001500917859094, \"trip_id\": \"368\", \"shape_id\": \"119\", \"route_id\": \"10S\", \"service_hours\": 1.17, \"trip_first_departure_ts\": 59580, \"trip_last_arrival_ts\": 63780, \"departure_hour\": 16, \"time_of_day\": \"Midday\", \"p25\": 1.17, \"p50\": 1.17, \"p75\": 1.17, \"p50_trip\": 1, \"fastest_trip\": 0, \"car_duration_hours\": 0.9, \"competitive_route\": 1, \"bus_multiplier\": 1.3, \"bus_difference\": 16.2, \"num_trips\": 15, \"num_competitive\": 15, \"pct_trips_competitive\": 1.0, \"bus_difference_spread\": 0.0, \"route_group\": \"medium\", \"max_trip_hrs\": 1.17, \"max_trip_route_group\": 1.23, \"name\": \"San Luis Obispo Regional Transit Authority \", \"caltrans_district\": \"05 - San Luis Obispo\", \"drmt_organization_name\": null, \"cutoff2\": 18.45, \"cutoff\": 0}, {\"calitp_itp_id\": 289, \"trip_key\": -3399655299364162076, \"trip_id\": \"365\", \"shape_id\": \"119\", \"route_id\": \"10S\", \"service_hours\": 1.17, \"trip_first_departure_ts\": 66780, \"trip_last_arrival_ts\": 70980, \"departure_hour\": 18, \"time_of_day\": \"PM Peak\", \"p25\": 1.17, \"p50\": 1.17, \"p75\": 1.17, \"p50_trip\": 1, \"fastest_trip\": 0, \"car_duration_hours\": 0.9, \"competitive_route\": 1, \"bus_multiplier\": 1.3, \"bus_difference\": 16.2, \"num_trips\": 15, \"num_competitive\": 15, \"pct_trips_competitive\": 1.0, \"bus_difference_spread\": 0.0, \"route_group\": \"medium\", \"max_trip_hrs\": 1.17, \"max_trip_route_group\": 1.23, \"name\": \"San Luis Obispo Regional Transit Authority \", \"caltrans_district\": \"05 - San Luis Obispo\", \"drmt_organization_name\": null, \"cutoff2\": 18.45, \"cutoff\": 0}, {\"calitp_itp_id\": 289, \"trip_key\": -6323686424439162039, \"trip_id\": \"360\", \"shape_id\": \"119\", \"route_id\": \"10S\", \"service_hours\": 1.17, \"trip_first_departure_ts\": 41580, \"trip_last_arrival_ts\": 45780, \"departure_hour\": 11, \"time_of_day\": \"Midday\", \"p25\": 1.17, \"p50\": 1.17, \"p75\": 1.17, \"p50_trip\": 1, \"fastest_trip\": 0, \"car_duration_hours\": 0.9, \"competitive_route\": 1, \"bus_multiplier\": 1.3, \"bus_difference\": 16.2, \"num_trips\": 15, \"num_competitive\": 15, \"pct_trips_competitive\": 1.0, \"bus_difference_spread\": 0.0, \"route_group\": \"medium\", \"max_trip_hrs\": 1.17, \"max_trip_route_group\": 1.23, \"name\": \"San Luis Obispo Regional Transit Authority \", \"caltrans_district\": \"05 - San Luis Obispo\", \"drmt_organization_name\": null, \"cutoff2\": 18.45, \"cutoff\": 0}, {\"calitp_itp_id\": 289, \"trip_key\": -1056786610625619433, \"trip_id\": \"358\", \"shape_id\": \"119\", \"route_id\": \"10S\", \"service_hours\": 1.17, \"trip_first_departure_ts\": 30780, \"trip_last_arrival_ts\": 34980, \"departure_hour\": 8, \"time_of_day\": \"AM Peak\", \"p25\": 1.17, \"p50\": 1.17, \"p75\": 1.17, \"p50_trip\": 1, \"fastest_trip\": 0, \"car_duration_hours\": 0.9, \"competitive_route\": 1, \"bus_multiplier\": 1.3, \"bus_difference\": 16.2, \"num_trips\": 15, \"num_competitive\": 15, \"pct_trips_competitive\": 1.0, \"bus_difference_spread\": 0.0, \"route_group\": \"medium\", \"max_trip_hrs\": 1.17, \"max_trip_route_group\": 1.23, \"name\": \"San Luis Obispo Regional Transit Authority \", \"caltrans_district\": \"05 - San Luis Obispo\", \"drmt_organization_name\": null, \"cutoff2\": 18.45, \"cutoff\": 0}, {\"calitp_itp_id\": 289, \"trip_key\": 8536695527248159290, \"trip_id\": \"944\", \"shape_id\": \"119\", \"route_id\": \"10S\", \"service_hours\": 1.17, \"trip_first_departure_ts\": 27180, \"trip_last_arrival_ts\": 31380, \"departure_hour\": 7, \"time_of_day\": \"AM Peak\", \"p25\": 1.17, \"p50\": 1.17, \"p75\": 1.17, \"p50_trip\": 1, \"fastest_trip\": 0, \"car_duration_hours\": 0.9, \"competitive_route\": 1, \"bus_multiplier\": 1.3, \"bus_difference\": 16.2, \"num_trips\": 15, \"num_competitive\": 15, \"pct_trips_competitive\": 1.0, \"bus_difference_spread\": 0.0, \"route_group\": \"medium\", \"max_trip_hrs\": 1.17, \"max_trip_route_group\": 1.23, \"name\": \"San Luis Obispo Regional Transit Authority \", \"caltrans_district\": \"05 - San Luis Obispo\", \"drmt_organization_name\": null, \"cutoff2\": 18.45, \"cutoff\": 0}, {\"calitp_itp_id\": 289, \"trip_key\": -902725178889451754, \"trip_id\": \"396\", \"shape_id\": \"40\", \"route_id\": \"12S\", \"service_hours\": 0.98, \"trip_first_departure_ts\": 65220, \"trip_last_arrival_ts\": 68760, \"departure_hour\": 18, \"time_of_day\": \"PM Peak\", \"p25\": 0.98, \"p50\": 0.98, \"p75\": 0.98, \"p50_trip\": 1, \"fastest_trip\": 0, \"car_duration_hours\": 0.69, \"competitive_route\": 1, \"bus_multiplier\": 1.42, \"bus_difference\": 17.4, \"num_trips\": 16, \"num_competitive\": 16, \"pct_trips_competitive\": 1.0, \"bus_difference_spread\": 5.4, \"route_group\": \"medium\", \"max_trip_hrs\": 1.07, \"max_trip_route_group\": 1.23, \"name\": \"San Luis Obispo Regional Transit Authority \", \"caltrans_district\": \"05 - San Luis Obispo\", \"drmt_organization_name\": null, \"cutoff2\": 18.45, \"cutoff\": 0}, {\"calitp_itp_id\": 289, \"trip_key\": -490404982841053616, \"trip_id\": \"397\", \"shape_id\": \"40\", \"route_id\": \"12S\", \"service_hours\": 0.98, \"trip_first_departure_ts\": 68820, \"trip_last_arrival_ts\": 72360, \"departure_hour\": 19, \"time_of_day\": \"PM Peak\", \"p25\": 0.98, \"p50\": 0.98, \"p75\": 0.98, \"p50_trip\": 1, \"fastest_trip\": 0, \"car_duration_hours\": 0.69, \"competitive_route\": 1, \"bus_multiplier\": 1.42, \"bus_difference\": 17.4, \"num_trips\": 16, \"num_competitive\": 16, \"pct_trips_competitive\": 1.0, \"bus_difference_spread\": 5.4, \"route_group\": \"medium\", \"max_trip_hrs\": 1.07, \"max_trip_route_group\": 1.23, \"name\": \"San Luis Obispo Regional Transit Authority \", \"caltrans_district\": \"05 - San Luis Obispo\", \"drmt_organization_name\": null, \"cutoff2\": 18.45, \"cutoff\": 0}, {\"calitp_itp_id\": 289, \"trip_key\": -2045283170317425624, \"trip_id\": \"401\", \"shape_id\": \"40\", \"route_id\": \"12S\", \"service_hours\": 0.98, \"trip_first_departure_ts\": 54420, \"trip_last_arrival_ts\": 57960, \"departure_hour\": 15, \"time_of_day\": \"Midday\", \"p25\": 0.98, \"p50\": 0.98, \"p75\": 0.98, \"p50_trip\": 1, \"fastest_trip\": 0, \"car_duration_hours\": 0.69, \"competitive_route\": 1, \"bus_multiplier\": 1.42, \"bus_difference\": 17.4, \"num_trips\": 16, \"num_competitive\": 16, \"pct_trips_competitive\": 1.0, \"bus_difference_spread\": 5.4, \"route_group\": \"medium\", \"max_trip_hrs\": 1.07, \"max_trip_route_group\": 1.23, \"name\": \"San Luis Obispo Regional Transit Authority \", \"caltrans_district\": \"05 - San Luis Obispo\", \"drmt_organization_name\": null, \"cutoff2\": 18.45, \"cutoff\": 0}, {\"calitp_itp_id\": 289, \"trip_key\": 4230533606164430112, \"trip_id\": \"388\", \"shape_id\": \"40\", \"route_id\": \"12S\", \"service_hours\": 0.98, \"trip_first_departure_ts\": 40020, \"trip_last_arrival_ts\": 43560, \"departure_hour\": 11, \"time_of_day\": \"Midday\", \"p25\": 0.98, \"p50\": 0.98, \"p75\": 0.98, \"p50_trip\": 1, \"fastest_trip\": 0, \"car_duration_hours\": 0.69, \"competitive_route\": 1, \"bus_multiplier\": 1.42, \"bus_difference\": 17.4, \"num_trips\": 16, \"num_competitive\": 16, \"pct_trips_competitive\": 1.0, \"bus_difference_spread\": 5.4, \"route_group\": \"medium\", \"max_trip_hrs\": 1.07, \"max_trip_route_group\": 1.23, \"name\": \"San Luis Obispo Regional Transit Authority \", \"caltrans_district\": \"05 - San Luis Obispo\", \"drmt_organization_name\": null, \"cutoff2\": 18.45, \"cutoff\": 0}, {\"calitp_itp_id\": 289, \"trip_key\": 7140058515224364709, \"trip_id\": \"403\", \"shape_id\": \"40\", \"route_id\": \"12S\", \"service_hours\": 0.98, \"trip_first_departure_ts\": 61620, \"trip_last_arrival_ts\": 65160, \"departure_hour\": 17, \"time_of_day\": \"PM Peak\", \"p25\": 0.98, \"p50\": 0.98, \"p75\": 0.98, \"p50_trip\": 1, \"fastest_trip\": 0, \"car_duration_hours\": 0.69, \"competitive_route\": 1, \"bus_multiplier\": 1.42, \"bus_difference\": 17.4, \"num_trips\": 16, \"num_competitive\": 16, \"pct_trips_competitive\": 1.0, \"bus_difference_spread\": 5.4, \"route_group\": \"medium\", \"max_trip_hrs\": 1.07, \"max_trip_route_group\": 1.23, \"name\": \"San Luis Obispo Regional Transit Authority \", \"caltrans_district\": \"05 - San Luis Obispo\", \"drmt_organization_name\": null, \"cutoff2\": 18.45, \"cutoff\": 0}, {\"calitp_itp_id\": 289, \"trip_key\": -9071896620672618546, \"trip_id\": \"390\", \"shape_id\": \"40\", \"route_id\": \"12S\", \"service_hours\": 0.98, \"trip_first_departure_ts\": 47220, \"trip_last_arrival_ts\": 50760, \"departure_hour\": 13, \"time_of_day\": \"Midday\", \"p25\": 0.98, \"p50\": 0.98, \"p75\": 0.98, \"p50_trip\": 1, \"fastest_trip\": 0, \"car_duration_hours\": 0.69, \"competitive_route\": 1, \"bus_multiplier\": 1.42, \"bus_difference\": 17.4, \"num_trips\": 16, \"num_competitive\": 16, \"pct_trips_competitive\": 1.0, \"bus_difference_spread\": 5.4, \"route_group\": \"medium\", \"max_trip_hrs\": 1.07, \"max_trip_route_group\": 1.23, \"name\": \"San Luis Obispo Regional Transit Authority \", \"caltrans_district\": \"05 - San Luis Obispo\", \"drmt_organization_name\": null, \"cutoff2\": 18.45, \"cutoff\": 0}, {\"calitp_itp_id\": 289, \"trip_key\": 4303130710267151022, \"trip_id\": \"378\", \"shape_id\": \"40\", \"route_id\": \"12S\", \"service_hours\": 0.98, \"trip_first_departure_ts\": 29220, \"trip_last_arrival_ts\": 32760, \"departure_hour\": 8, \"time_of_day\": \"AM Peak\", \"p25\": 0.98, \"p50\": 0.98, \"p75\": 0.98, \"p50_trip\": 1, \"fastest_trip\": 0, \"car_duration_hours\": 0.69, \"competitive_route\": 1, \"bus_multiplier\": 1.42, \"bus_difference\": 17.4, \"num_trips\": 16, \"num_competitive\": 16, \"pct_trips_competitive\": 1.0, \"bus_difference_spread\": 5.4, \"route_group\": \"medium\", \"max_trip_hrs\": 1.07, \"max_trip_route_group\": 1.23, \"name\": \"San Luis Obispo Regional Transit Authority \", \"caltrans_district\": \"05 - San Luis Obispo\", \"drmt_organization_name\": null, \"cutoff2\": 18.45, \"cutoff\": 0}, {\"calitp_itp_id\": 289, \"trip_key\": 1560614880468304545, \"trip_id\": \"386\", \"shape_id\": \"40\", \"route_id\": \"12S\", \"service_hours\": 0.98, \"trip_first_departure_ts\": 32820, \"trip_last_arrival_ts\": 36360, \"departure_hour\": 9, \"time_of_day\": \"AM Peak\", \"p25\": 0.98, \"p50\": 0.98, \"p75\": 0.98, \"p50_trip\": 1, \"fastest_trip\": 0, \"car_duration_hours\": 0.69, \"competitive_route\": 1, \"bus_multiplier\": 1.42, \"bus_difference\": 17.4, \"num_trips\": 16, \"num_competitive\": 16, \"pct_trips_competitive\": 1.0, \"bus_difference_spread\": 5.4, \"route_group\": \"medium\", \"max_trip_hrs\": 1.07, \"max_trip_route_group\": 1.23, \"name\": \"San Luis Obispo Regional Transit Authority \", \"caltrans_district\": \"05 - San Luis Obispo\", \"drmt_organization_name\": null, \"cutoff2\": 18.45, \"cutoff\": 0}, {\"calitp_itp_id\": 289, \"trip_key\": 2760626665496852148, \"trip_id\": \"394\", \"shape_id\": \"40\", \"route_id\": \"12S\", \"service_hours\": 0.98, \"trip_first_departure_ts\": 58020, \"trip_last_arrival_ts\": 61560, \"departure_hour\": 16, \"time_of_day\": \"Midday\", \"p25\": 0.98, \"p50\": 0.98, \"p75\": 0.98, \"p50_trip\": 1, \"fastest_trip\": 0, \"car_duration_hours\": 0.69, \"competitive_route\": 1, \"bus_multiplier\": 1.42, \"bus_difference\": 17.4, \"num_trips\": 16, \"num_competitive\": 16, \"pct_trips_competitive\": 1.0, \"bus_difference_spread\": 5.4, \"route_group\": \"medium\", \"max_trip_hrs\": 1.07, \"max_trip_route_group\": 1.23, \"name\": \"San Luis Obispo Regional Transit Authority \", \"caltrans_district\": \"05 - San Luis Obispo\", \"drmt_organization_name\": null, \"cutoff2\": 18.45, \"cutoff\": 0}, {\"calitp_itp_id\": 289, \"trip_key\": -270175774703166854, \"trip_id\": \"392\", \"shape_id\": \"40\", \"route_id\": \"12S\", \"service_hours\": 0.98, \"trip_first_departure_ts\": 50820, \"trip_last_arrival_ts\": 54360, \"departure_hour\": 14, \"time_of_day\": \"Midday\", \"p25\": 0.98, \"p50\": 0.98, \"p75\": 0.98, \"p50_trip\": 1, \"fastest_trip\": 0, \"car_duration_hours\": 0.69, \"competitive_route\": 1, \"bus_multiplier\": 1.42, \"bus_difference\": 17.4, \"num_trips\": 16, \"num_competitive\": 16, \"pct_trips_competitive\": 1.0, \"bus_difference_spread\": 5.4, \"route_group\": \"medium\", \"max_trip_hrs\": 1.07, \"max_trip_route_group\": 1.23, \"name\": \"San Luis Obispo Regional Transit Authority \", \"caltrans_district\": \"05 - San Luis Obispo\", \"drmt_organization_name\": null, \"cutoff2\": 18.45, \"cutoff\": 0}, {\"calitp_itp_id\": 289, \"trip_key\": -5567591704886540558, \"trip_id\": \"382\", \"shape_id\": \"40\", \"route_id\": \"12S\", \"service_hours\": 0.98, \"trip_first_departure_ts\": 43620, \"trip_last_arrival_ts\": 47160, \"departure_hour\": 12, \"time_of_day\": \"Midday\", \"p25\": 0.98, \"p50\": 0.98, \"p75\": 0.98, \"p50_trip\": 1, \"fastest_trip\": 0, \"car_duration_hours\": 0.69, \"competitive_route\": 1, \"bus_multiplier\": 1.42, \"bus_difference\": 17.4, \"num_trips\": 16, \"num_competitive\": 16, \"pct_trips_competitive\": 1.0, \"bus_difference_spread\": 5.4, \"route_group\": \"medium\", \"max_trip_hrs\": 1.07, \"max_trip_route_group\": 1.23, \"name\": \"San Luis Obispo Regional Transit Authority \", \"caltrans_district\": \"05 - San Luis Obispo\", \"drmt_organization_name\": null, \"cutoff2\": 18.45, \"cutoff\": 0}, {\"calitp_itp_id\": 289, \"trip_key\": -8393856501472233478, \"trip_id\": \"384\", \"shape_id\": \"40\", \"route_id\": \"12S\", \"service_hours\": 0.98, \"trip_first_departure_ts\": 25620, \"trip_last_arrival_ts\": 29160, \"departure_hour\": 7, \"time_of_day\": \"AM Peak\", \"p25\": 0.98, \"p50\": 0.98, \"p75\": 0.98, \"p50_trip\": 1, \"fastest_trip\": 0, \"car_duration_hours\": 0.69, \"competitive_route\": 1, \"bus_multiplier\": 1.42, \"bus_difference\": 17.4, \"num_trips\": 16, \"num_competitive\": 16, \"pct_trips_competitive\": 1.0, \"bus_difference_spread\": 5.4, \"route_group\": \"medium\", \"max_trip_hrs\": 1.07, \"max_trip_route_group\": 1.23, \"name\": \"San Luis Obispo Regional Transit Authority \", \"caltrans_district\": \"05 - San Luis Obispo\", \"drmt_organization_name\": null, \"cutoff2\": 18.45, \"cutoff\": 0}, {\"calitp_itp_id\": 289, \"trip_key\": 8246935712761499868, \"trip_id\": \"399\", \"shape_id\": \"40\", \"route_id\": \"12S\", \"service_hours\": 0.98, \"trip_first_departure_ts\": 72420, \"trip_last_arrival_ts\": 75960, \"departure_hour\": 20, \"time_of_day\": \"Owl Service\", \"p25\": 0.98, \"p50\": 0.98, \"p75\": 0.98, \"p50_trip\": 1, \"fastest_trip\": 0, \"car_duration_hours\": 0.69, \"competitive_route\": 1, \"bus_multiplier\": 1.42, \"bus_difference\": 17.4, \"num_trips\": 16, \"num_competitive\": 16, \"pct_trips_competitive\": 1.0, \"bus_difference_spread\": 5.4, \"route_group\": \"medium\", \"max_trip_hrs\": 1.07, \"max_trip_route_group\": 1.23, \"name\": \"San Luis Obispo Regional Transit Authority \", \"caltrans_district\": \"05 - San Luis Obispo\", \"drmt_organization_name\": null, \"cutoff2\": 18.45, \"cutoff\": 0}, {\"calitp_itp_id\": 289, \"trip_key\": -7067380716828279325, \"trip_id\": \"406\", \"shape_id\": \"40\", \"route_id\": \"12S\", \"service_hours\": 0.98, \"trip_first_departure_ts\": 76020, \"trip_last_arrival_ts\": 79560, \"departure_hour\": 21, \"time_of_day\": \"Owl Service\", \"p25\": 0.98, \"p50\": 0.98, \"p75\": 0.98, \"p50_trip\": 1, \"fastest_trip\": 1, \"car_duration_hours\": 0.69, \"competitive_route\": 1, \"bus_multiplier\": 1.42, \"bus_difference\": 17.4, \"num_trips\": 16, \"num_competitive\": 16, \"pct_trips_competitive\": 1.0, \"bus_difference_spread\": 5.4, \"route_group\": \"medium\", \"max_trip_hrs\": 1.07, \"max_trip_route_group\": 1.23, \"name\": \"San Luis Obispo Regional Transit Authority \", \"caltrans_district\": \"05 - San Luis Obispo\", \"drmt_organization_name\": null, \"cutoff2\": 18.45, \"cutoff\": 0}, {\"calitp_itp_id\": 289, \"trip_key\": 6102485461685384618, \"trip_id\": \"380\", \"shape_id\": \"40\", \"route_id\": \"12S\", \"service_hours\": 0.98, \"trip_first_departure_ts\": 36420, \"trip_last_arrival_ts\": 39960, \"departure_hour\": 10, \"time_of_day\": \"Midday\", \"p25\": 0.98, \"p50\": 0.98, \"p75\": 0.98, \"p50_trip\": 1, \"fastest_trip\": 0, \"car_duration_hours\": 0.69, \"competitive_route\": 1, \"bus_multiplier\": 1.42, \"bus_difference\": 17.4, \"num_trips\": 16, \"num_competitive\": 16, \"pct_trips_competitive\": 1.0, \"bus_difference_spread\": 5.4, \"route_group\": \"medium\", \"max_trip_hrs\": 1.07, \"max_trip_route_group\": 1.23, \"name\": \"San Luis Obispo Regional Transit Authority \", \"caltrans_district\": \"05 - San Luis Obispo\", \"drmt_organization_name\": null, \"cutoff2\": 18.45, \"cutoff\": 0}, {\"calitp_itp_id\": 289, \"trip_key\": 5849554892198407452, \"trip_id\": \"376\", \"shape_id\": \"86\", \"route_id\": \"12S\", \"service_hours\": 1.07, \"trip_first_departure_ts\": 22980, \"trip_last_arrival_ts\": 26820, \"departure_hour\": 6, \"time_of_day\": \"Owl Service\", \"p25\": 0.98, \"p50\": 0.98, \"p75\": 0.98, \"p50_trip\": 0, \"fastest_trip\": 0, \"car_duration_hours\": 0.69, \"competitive_route\": 1, \"bus_multiplier\": 1.55, \"bus_difference\": 22.8, \"num_trips\": 16, \"num_competitive\": 16, \"pct_trips_competitive\": 1.0, \"bus_difference_spread\": 5.4, \"route_group\": \"medium\", \"max_trip_hrs\": 1.07, \"max_trip_route_group\": 1.23, \"name\": \"San Luis Obispo Regional Transit Authority \", \"caltrans_district\": \"05 - San Luis Obispo\", \"drmt_organization_name\": null, \"cutoff2\": 18.45, \"cutoff\": 0}]}}, {\"mode\": \"vega-lite\"});\n",
       "</script>"
      ],
      "text/plain": [
       "alt.FacetChart(...)"
      ]
     },
     "metadata": {},
     "output_type": "display_data"
    }
   ],
   "source": [
    "route_group = \"medium\"\n",
    "try:\n",
    "    subset_routes, mult, diff  = setup_charts(df, PCT_COMPETITIVE_THRESHOLD, route_group)\n",
    "    if len(subset_routes) > 0:\n",
    "        display(\n",
    "            Markdown(\n",
    "                f\"{CAPTIONS_DICT[route_group]}\"\n",
    "                \"Within each route group, routes are sorted in descending order \"\n",
    "                \"by % competitive trips and # trips below the additional time cut-off.\"\n",
    "            )\n",
    "        )\n",
    "\n",
    "        display(mult)\n",
    "        display(diff)\n",
    "except:\n",
    "    print(\"No routes meet this criteria.\")"
   ]
  },
  {
   "cell_type": "markdown",
   "id": "124b76d0-886c-4d03-92ac-f1bda3cda182",
   "metadata": {
    "papermill": {
     "duration": 0.016712,
     "end_time": "2022-05-07T17:12:04.329817",
     "exception": false,
     "start_time": "2022-05-07T17:12:04.313105",
     "status": "completed"
    },
    "tags": []
   },
   "source": [
    "### Long Routes (> 1.5 hrs)"
   ]
  },
  {
   "cell_type": "code",
   "execution_count": 14,
   "id": "ddc81b19-4c45-4c81-8b7a-5e0f394aa7a3",
   "metadata": {
    "execution": {
     "iopub.execute_input": "2022-05-07T17:12:04.365688Z",
     "iopub.status.busy": "2022-05-07T17:12:04.364075Z",
     "iopub.status.idle": "2022-05-07T17:12:04.376257Z",
     "shell.execute_reply": "2022-05-07T17:12:04.375685Z"
    },
    "jupyter": {
     "source_hidden": true
    },
    "papermill": {
     "duration": 0.031628,
     "end_time": "2022-05-07T17:12:04.377913",
     "exception": false,
     "start_time": "2022-05-07T17:12:04.346285",
     "status": "completed"
    },
    "tags": [
     "remove_input"
    ]
   },
   "outputs": [
    {
     "name": "stdout",
     "output_type": "stream",
     "text": [
      "No routes meet this criteria.\n"
     ]
    }
   ],
   "source": [
    "route_group = \"long\"\n",
    "try:\n",
    "    subset_routes, mult, diff  = setup_charts(df, PCT_COMPETITIVE_THRESHOLD, route_group)\n",
    "    if len(subset_routes) > 0:\n",
    "        display(\n",
    "            Markdown(\n",
    "                f\"{CAPTIONS_DICT[route_group]}\"\n",
    "                \"Within each route group, routes are sorted in descending order \"\n",
    "                \"by % competitive trips and # trips below the additional time cut-off.\"\n",
    "            )\n",
    "        )\n",
    "\n",
    "        display(mult)\n",
    "        display(diff)\n",
    "except:\n",
    "    print(\"No routes meet this criteria.\")"
   ]
  }
 ],
 "metadata": {
  "kernelspec": {
   "display_name": "Python 3 (ipykernel)",
   "language": "python",
   "name": "python3"
  },
  "language_info": {
   "codemirror_mode": {
    "name": "ipython",
    "version": 3
   },
   "file_extension": ".py",
   "mimetype": "text/x-python",
   "name": "python",
   "nbconvert_exporter": "python",
   "pygments_lexer": "ipython3",
   "version": "3.9.12"
  },
  "papermill": {
   "default_parameters": {},
   "duration": 22.895945,
   "end_time": "2022-05-07T17:12:05.517629",
   "environment_variables": {},
   "exception": null,
   "input_path": "bus_service_increase/stripplot.ipynb",
   "output_path": "portfolio/parallel_corridors/district_05-san-luis-obispo/stripplot__itp_id_289.ipynb",
   "parameters": {
    "district": "05 - San Luis Obispo",
    "itp_id": 289
   },
   "start_time": "2022-05-07T17:11:42.621684",
   "version": "2.3.4"
  }
 },
 "nbformat": 4,
 "nbformat_minor": 5
}