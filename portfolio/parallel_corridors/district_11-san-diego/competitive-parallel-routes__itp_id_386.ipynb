{
 "cells": [
  {
   "cell_type": "code",
   "execution_count": 1,
   "id": "95d00857-6a20-4529-a519-2cc7182928a9",
   "metadata": {
    "execution": {
     "iopub.execute_input": "2022-05-09T17:20:27.789901Z",
     "iopub.status.busy": "2022-05-09T17:20:27.788688Z",
     "iopub.status.idle": "2022-05-09T17:20:37.558626Z",
     "shell.execute_reply": "2022-05-09T17:20:37.557705Z"
    },
    "jupyter": {
     "source_hidden": true
    },
    "papermill": {
     "duration": 9.79137,
     "end_time": "2022-05-09T17:20:37.561285",
     "exception": false,
     "start_time": "2022-05-09T17:20:27.769915",
     "status": "completed"
    },
    "tags": [
     "remove_input"
    ]
   },
   "outputs": [],
   "source": [
    "%%capture\n",
    "import warnings\n",
    "warnings.filterwarnings('ignore')\n",
    "\n",
    "import altair as alt\n",
    "import calitp.magics\n",
    "import geopandas as gpd\n",
    "import intake\n",
    "import pandas as pd\n",
    "\n",
    "from IPython.display import display, Markdown, HTML\n",
    "\n",
    "import parallel_corridors_utils\n",
    "from shared_utils import styleguide\n",
    "import deploy_portfolio_yaml\n",
    "\n",
    "catalog = intake.open_catalog(\"./*.yml\")\n",
    "alt.renderers.enable(\"html\")"
   ]
  },
  {
   "cell_type": "code",
   "execution_count": 2,
   "id": "8af2a0c1-f3da-408d-9bea-11d9fbf8695d",
   "metadata": {
    "execution": {
     "iopub.execute_input": "2022-05-09T17:20:37.590598Z",
     "iopub.status.busy": "2022-05-09T17:20:37.589716Z",
     "iopub.status.idle": "2022-05-09T17:20:37.595341Z",
     "shell.execute_reply": "2022-05-09T17:20:37.594237Z"
    },
    "jupyter": {
     "source_hidden": true
    },
    "papermill": {
     "duration": 0.023441,
     "end_time": "2022-05-09T17:20:37.598295",
     "exception": false,
     "start_time": "2022-05-09T17:20:37.574854",
     "status": "completed"
    },
    "tags": [
     "parameters",
     "remove_input"
    ]
   },
   "outputs": [],
   "source": [
    "# parameters cell\n",
    "itp_id = 182"
   ]
  },
  {
   "cell_type": "code",
   "execution_count": 3,
   "id": "1b1b7073",
   "metadata": {
    "execution": {
     "iopub.execute_input": "2022-05-09T17:20:37.625632Z",
     "iopub.status.busy": "2022-05-09T17:20:37.625297Z",
     "iopub.status.idle": "2022-05-09T17:20:37.629955Z",
     "shell.execute_reply": "2022-05-09T17:20:37.629186Z"
    },
    "jupyter": {
     "source_hidden": true
    },
    "papermill": {
     "duration": 0.021317,
     "end_time": "2022-05-09T17:20:37.631836",
     "exception": false,
     "start_time": "2022-05-09T17:20:37.610519",
     "status": "completed"
    },
    "tags": [
     "injected-parameters",
     "remove_input"
    ]
   },
   "outputs": [],
   "source": [
    "# Parameters\n",
    "district = \"11 - San Diego\"\n",
    "itp_id = 386\n"
   ]
  },
  {
   "cell_type": "code",
   "execution_count": 4,
   "id": "9582aaf4-79ff-412a-b248-8d8d693ebd4f",
   "metadata": {
    "execution": {
     "iopub.execute_input": "2022-05-09T17:20:37.658421Z",
     "iopub.status.busy": "2022-05-09T17:20:37.657437Z",
     "iopub.status.idle": "2022-05-09T17:20:39.074805Z",
     "shell.execute_reply": "2022-05-09T17:20:39.073669Z"
    },
    "jupyter": {
     "source_hidden": true
    },
    "papermill": {
     "duration": 1.43432,
     "end_time": "2022-05-09T17:20:39.077748",
     "exception": false,
     "start_time": "2022-05-09T17:20:37.643428",
     "status": "completed"
    },
    "tags": [
     "remove_input"
    ]
   },
   "outputs": [],
   "source": [
    "df = catalog.competitive_route_variability.read()\n",
    "\n",
    "df = (df[(df.calitp_itp_id == itp_id) & \n",
    "         (df.route_group.notna())]\n",
    "      .reset_index(drop=True)\n",
    "     )\n",
    "\n",
    "\n",
    "if itp_id == 182:\n",
    "    df = df.assign(\n",
    "        route_id = df.route_id.str.replace('-13153', '').astype(int)\n",
    "    )"
   ]
  },
  {
   "cell_type": "code",
   "execution_count": 5,
   "id": "33ac4b06-f647-4dce-a625-8f2c1b37cc60",
   "metadata": {
    "execution": {
     "iopub.execute_input": "2022-05-09T17:20:39.106765Z",
     "iopub.status.busy": "2022-05-09T17:20:39.106395Z",
     "iopub.status.idle": "2022-05-09T17:20:39.116500Z",
     "shell.execute_reply": "2022-05-09T17:20:39.115445Z"
    },
    "jupyter": {
     "source_hidden": true
    },
    "papermill": {
     "duration": 0.029012,
     "end_time": "2022-05-09T17:20:39.120873",
     "exception": false,
     "start_time": "2022-05-09T17:20:39.091861",
     "status": "completed"
    },
    "tags": [
     "remove_input"
    ]
   },
   "outputs": [],
   "source": [
    "%%capture_parameters\n",
    "operator_name = df.name.iloc[0]\n",
    "district_number = f\"{df.caltrans_district.iloc[0].split('-')[0].strip()}\"\n",
    "district_name = f\"{df.caltrans_district.iloc[0].split('-')[1].strip().lower().replace(' ', '-')}\"\n",
    "\n",
    "itp_id, operator_name, district_number, district_name"
   ]
  },
  {
   "cell_type": "markdown",
   "id": "65bc6f5c-8348-42ee-b2dd-52057c406852",
   "metadata": {
    "papermill": {
     "duration": 0.012888,
     "end_time": "2022-05-09T17:20:39.147681",
     "exception": false,
     "start_time": "2022-05-09T17:20:39.134793",
     "status": "completed"
    },
    "tags": []
   },
   "source": [
    "# Yuma County Intergovernmental Public Transportation Authority (ITP ID: 386)"
   ]
  },
  {
   "cell_type": "code",
   "execution_count": 6,
   "id": "a689c1ab-2c6c-4831-8d64-897f5986f571",
   "metadata": {
    "execution": {
     "iopub.execute_input": "2022-05-09T17:20:39.175273Z",
     "iopub.status.busy": "2022-05-09T17:20:39.174879Z",
     "iopub.status.idle": "2022-05-09T17:20:39.182731Z",
     "shell.execute_reply": "2022-05-09T17:20:39.181899Z"
    },
    "jupyter": {
     "source_hidden": true
    },
    "papermill": {
     "duration": 0.025207,
     "end_time": "2022-05-09T17:20:39.185315",
     "exception": false,
     "start_time": "2022-05-09T17:20:39.160108",
     "status": "completed"
    },
    "tags": [
     "remove_input"
    ]
   },
   "outputs": [
    {
     "data": {
      "text/html": [
       "<h1>Competitive & Parallel Routes</h1>"
      ],
      "text/plain": [
       "<IPython.core.display.HTML object>"
      ]
     },
     "metadata": {},
     "output_type": "display_data"
    }
   ],
   "source": [
    "display(HTML(\"<h1>Competitive & Parallel Routes</h1>\")) "
   ]
  },
  {
   "cell_type": "code",
   "execution_count": 7,
   "id": "2cb4d8d5-4760-40e4-85b1-cb833d8bb648",
   "metadata": {
    "execution": {
     "iopub.execute_input": "2022-05-09T17:20:39.221275Z",
     "iopub.status.busy": "2022-05-09T17:20:39.220668Z",
     "iopub.status.idle": "2022-05-09T17:20:51.600433Z",
     "shell.execute_reply": "2022-05-09T17:20:51.599382Z"
    },
    "jupyter": {
     "source_hidden": true
    },
    "papermill": {
     "duration": 12.404801,
     "end_time": "2022-05-09T17:20:51.603315",
     "exception": false,
     "start_time": "2022-05-09T17:20:39.198514",
     "status": "completed"
    },
    "tags": [
     "remove_input"
    ]
   },
   "outputs": [],
   "source": [
    "# Grab parameters for narrative text - clean up formatting here \n",
    "district = df.caltrans_district.iloc[0]\n",
    "formatted_date = pd.to_datetime(parallel_corridors_utils.SELECTED_DATE).strftime('%m-%d-%Y')\n",
    "\n",
    "PCT_COMPETITIVE_THRESHOLD = 0.75\n",
    "\n",
    "stats = parallel_corridors_utils.operator_parallel_competitive_stats(\n",
    "    itp_id, PCT_COMPETITIVE_THRESHOLD)\n",
    "\n",
    "pct_parallel = round(stats['parallel_routes'] / stats['num_routes'] * 100,1 )\n",
    "pct_competitive =  round(stats['competitive_routes'] / stats['num_routes'] * 100,1 )"
   ]
  },
  {
   "cell_type": "markdown",
   "id": "ab667928-5274-4490-82d9-4c39293209a4",
   "metadata": {
    "papermill": {
     "duration": 0.013357,
     "end_time": "2022-05-09T17:20:51.632295",
     "exception": false,
     "start_time": "2022-05-09T17:20:51.618938",
     "status": "completed"
    },
    "tags": []
   },
   "source": [
    "## Quick Stats"
   ]
  },
  {
   "cell_type": "code",
   "execution_count": 8,
   "id": "0416509d-dc62-4165-b62e-64f8b26e8b8e",
   "metadata": {
    "execution": {
     "iopub.execute_input": "2022-05-09T17:20:51.685617Z",
     "iopub.status.busy": "2022-05-09T17:20:51.684382Z",
     "iopub.status.idle": "2022-05-09T17:20:51.694302Z",
     "shell.execute_reply": "2022-05-09T17:20:51.693214Z"
    },
    "jupyter": {
     "source_hidden": true
    },
    "papermill": {
     "duration": 0.041088,
     "end_time": "2022-05-09T17:20:51.697306",
     "exception": false,
     "start_time": "2022-05-09T17:20:51.656218",
     "status": "completed"
    },
    "tags": [
     "remove_input"
    ]
   },
   "outputs": [
    {
     "data": {
      "text/markdown": [
       "**Bus routes in service**: 9 <br>**Parallel routes** to State Highway Network (SHN): 1 routes (11.1%)<br>**Competitive routes** against car travel: 1 routes (11.1%)"
      ],
      "text/plain": [
       "<IPython.core.display.Markdown object>"
      ]
     },
     "metadata": {},
     "output_type": "display_data"
    }
   ],
   "source": [
    "display(\n",
    "    Markdown(\n",
    "        f\"**Bus routes in service**: {stats['num_routes']} \"\n",
    "        \"<br>**Parallel routes** to State Highway Network (SHN): \"\n",
    "        f\"{stats['parallel_routes']} routes ({pct_parallel}%)\"\n",
    "        f\"<br>**Competitive routes** against car travel: {stats['competitive_routes']} routes ({pct_competitive}%)\"\n",
    "    )\n",
    ")"
   ]
  },
  {
   "cell_type": "code",
   "execution_count": 9,
   "id": "f9d6ab58-f0ee-460c-b6de-657490e1f386",
   "metadata": {
    "execution": {
     "iopub.execute_input": "2022-05-09T17:20:51.739799Z",
     "iopub.status.busy": "2022-05-09T17:20:51.739188Z",
     "iopub.status.idle": "2022-05-09T17:20:51.750629Z",
     "shell.execute_reply": "2022-05-09T17:20:51.749644Z"
    },
    "jupyter": {
     "source_hidden": true
    },
    "papermill": {
     "duration": 0.032244,
     "end_time": "2022-05-09T17:20:51.753125",
     "exception": false,
     "start_time": "2022-05-09T17:20:51.720881",
     "status": "completed"
    },
    "tags": [
     "remove_input"
    ]
   },
   "outputs": [],
   "source": [
    "def set_yaxis_range(df, y_col):\n",
    "    Y_MIN = df[y_col].min()\n",
    "    Y_MAX = df[y_col].max()\n",
    "    \n",
    "    return Y_MIN, Y_MAX\n",
    "\n",
    "# Rather than set it according to the operator, which can vary,\n",
    "# just use set thresholds for each group\n",
    "diff_cutoffs = parallel_corridors_utils.diff_cutoffs\n",
    "\n",
    "PCT_TRIPS_BELOW_CUTOFF = 0.25\n",
    "\n",
    "def top15_routes(df, route_group):\n",
    "    df2 = (df[df.route_group==route_group])\n",
    "    # Set a cut-off to enable sorting, where most of the trips are \n",
    "    # below a certain time difference cut-off, \n",
    "    # grab top 15 routes where majority of trips are below that cut-off \n",
    "\n",
    "    route_cols = [\"calitp_itp_id\", \"route_id\"]\n",
    "\n",
    "    df2 = df2.assign(\n",
    "        below_cutoff = df2.apply(lambda x: 1 if x.bus_difference <= diff_cutoffs[route_group] \n",
    "                                 else 0, axis=1),\n",
    "        num_trips = df2.groupby(route_cols)[\"trip_id\"].transform(\"count\")\n",
    "    )\n",
    "\n",
    "    df2[\"below_cutoff\"] = df2.groupby(route_cols)[\"below_cutoff\"].transform(\"sum\")\n",
    "    df2[\"pct_below_cutoff\"] = df2.below_cutoff.divide(df2.num_trips)\n",
    "\n",
    "    # At least half the trips are below that cut-off\n",
    "    # but show 15 max, otherwise, show less, since these won't be as interesting to operators\n",
    "    df3 = (df2[df2.pct_below_cutoff >= PCT_TRIPS_BELOW_CUTOFF]\n",
    "           .sort_values([\"calitp_itp_id\", \"below_cutoff\", \n",
    "                         \"pct_below_cutoff\", \"route_id\"],\n",
    "                        ascending = [True, False, False, True]\n",
    "                       )\n",
    "           .drop_duplicates(subset=[\"calitp_itp_id\", \"route_id\"])\n",
    "          ).head(15)\n",
    "    \n",
    "    return list(df3.route_id)"
   ]
  },
  {
   "cell_type": "code",
   "execution_count": 10,
   "id": "cf36d559-3349-4144-8086-8ac9ce937a5a",
   "metadata": {
    "execution": {
     "iopub.execute_input": "2022-05-09T17:20:51.785908Z",
     "iopub.status.busy": "2022-05-09T17:20:51.785348Z",
     "iopub.status.idle": "2022-05-09T17:20:51.792715Z",
     "shell.execute_reply": "2022-05-09T17:20:51.791837Z"
    },
    "jupyter": {
     "source_hidden": true
    },
    "papermill": {
     "duration": 0.026873,
     "end_time": "2022-05-09T17:20:51.795241",
     "exception": false,
     "start_time": "2022-05-09T17:20:51.768368",
     "status": "completed"
    },
    "tags": [
     "remove_input"
    ]
   },
   "outputs": [],
   "source": [
    "def caption_with_cutoff(cutoff):\n",
    "    sentence = (\n",
    "        f\"<br>These are routes that have **at least {int(PCT_TRIPS_BELOW_CUTOFF*100)}% \"\n",
    "        \"of their trips take no more than an \"\n",
    "        f\"additional {cutoff} min** compared to a car \"\n",
    "        \"(up to 15 routes) are shown.\"\n",
    "        \"<br>Within each route group, routes are sorted in descending order \"\n",
    "        \"by % competitive trips and # trips below the additional time cut-off.\"\n",
    "    )\n",
    "    return sentence\n",
    "\n",
    "CAPTIONS_DICT = {\n",
    "    \"short\": caption_with_cutoff(diff_cutoffs['short']),\n",
    "    \"medium\": caption_with_cutoff(diff_cutoffs['medium']),\n",
    "    \"long\": caption_with_cutoff(diff_cutoffs['long']),\n",
    "}"
   ]
  },
  {
   "cell_type": "code",
   "execution_count": 11,
   "id": "e4306d58-6944-47e9-afef-5d5b524c751f",
   "metadata": {
    "execution": {
     "iopub.execute_input": "2022-05-09T17:20:51.836052Z",
     "iopub.status.busy": "2022-05-09T17:20:51.835482Z",
     "iopub.status.idle": "2022-05-09T17:20:51.843863Z",
     "shell.execute_reply": "2022-05-09T17:20:51.843096Z"
    },
    "jupyter": {
     "source_hidden": true
    },
    "papermill": {
     "duration": 0.029469,
     "end_time": "2022-05-09T17:20:51.846308",
     "exception": false,
     "start_time": "2022-05-09T17:20:51.816839",
     "status": "completed"
    },
    "tags": [
     "remove_input"
    ]
   },
   "outputs": [],
   "source": [
    "def setup_charts(df, PCT_COMPETITIVE_THRESHOLD, route_group):\n",
    "    # Set up df for charting (cut-off at some threshold to show most competitive routes)\n",
    "    plot_me = (df[df.pct_trips_competitive > PCT_COMPETITIVE_THRESHOLD]\n",
    "           .drop(columns = \"geometry\")\n",
    "    )\n",
    "    \n",
    "    y_col1 = \"bus_multiplier\"\n",
    "    Y_MIN1, Y_MAX1 = set_yaxis_range(plot_me, y_col1)\n",
    "\n",
    "    y_col2 = \"bus_difference\"\n",
    "    Y_MIN2, Y_MAX2 = set_yaxis_range(plot_me, y_col2)\n",
    "     \n",
    "    subset_routes = top15_routes(plot_me, route_group)\n",
    "    \n",
    "    multiplier_chart = parallel_corridors_utils.make_stripplot(\n",
    "        plot_me[plot_me.route_id.isin(subset_routes)], \n",
    "        y_col1, Y_MIN = Y_MIN1, Y_MAX = Y_MAX1\n",
    "    )\n",
    "    \n",
    "    difference_chart = parallel_corridors_utils.make_stripplot(\n",
    "        plot_me[plot_me.route_id.isin(subset_routes)], \n",
    "        y_col2, Y_MIN = Y_MIN2, Y_MAX = Y_MAX2\n",
    "    )\n",
    "    \n",
    "    return subset_routes, multiplier_chart, difference_chart            "
   ]
  },
  {
   "cell_type": "code",
   "execution_count": 12,
   "id": "33a710e8-504c-4942-aa75-ff69f216956e",
   "metadata": {
    "execution": {
     "iopub.execute_input": "2022-05-09T17:20:51.878207Z",
     "iopub.status.busy": "2022-05-09T17:20:51.877796Z",
     "iopub.status.idle": "2022-05-09T17:20:51.883576Z",
     "shell.execute_reply": "2022-05-09T17:20:51.882577Z"
    },
    "jupyter": {
     "source_hidden": true
    },
    "papermill": {
     "duration": 0.025938,
     "end_time": "2022-05-09T17:20:51.885710",
     "exception": false,
     "start_time": "2022-05-09T17:20:51.859772",
     "status": "completed"
    },
    "tags": [
     "remove_input"
    ]
   },
   "outputs": [],
   "source": [
    "def display_charts_for_route_group(df, route_group):    \n",
    "    subset_routes, mult, diff  = setup_charts(df, PCT_COMPETITIVE_THRESHOLD, route_group)\n",
    "\n",
    "    if len(subset_routes) > 0:\n",
    "        display(Markdown(f\"{CAPTIONS_DICT[route_group]}\"))\n",
    "\n",
    "        display(mult)\n",
    "        display(diff)"
   ]
  },
  {
   "cell_type": "markdown",
   "id": "525f9b38-072b-46d1-96a8-1aa4b038357c",
   "metadata": {
    "papermill": {
     "duration": 0.020086,
     "end_time": "2022-05-09T17:20:51.919977",
     "exception": false,
     "start_time": "2022-05-09T17:20:51.899891",
     "status": "completed"
    },
    "tags": []
   },
   "source": [
    "## Viable Competitive Routes\n",
    "### Short Routes (< 1 hr)"
   ]
  },
  {
   "cell_type": "code",
   "execution_count": 13,
   "id": "57f7084c-2cf7-45c6-ba08-1609e0bd6ca5",
   "metadata": {
    "execution": {
     "iopub.execute_input": "2022-05-09T17:20:51.950569Z",
     "iopub.status.busy": "2022-05-09T17:20:51.949855Z",
     "iopub.status.idle": "2022-05-09T17:20:52.254696Z",
     "shell.execute_reply": "2022-05-09T17:20:52.253480Z"
    },
    "jupyter": {
     "source_hidden": true
    },
    "papermill": {
     "duration": 0.323774,
     "end_time": "2022-05-09T17:20:52.257541",
     "exception": false,
     "start_time": "2022-05-09T17:20:51.933767",
     "status": "completed"
    },
    "tags": [
     "remove_input"
    ]
   },
   "outputs": [
    {
     "data": {
      "text/markdown": [
       "<br>These are routes that have **at least 25% of their trips take no more than an additional 20 min** compared to a car (up to 15 routes) are shown.<br>Within each route group, routes are sorted in descending order by % competitive trips and # trips below the additional time cut-off."
      ],
      "text/plain": [
       "<IPython.core.display.Markdown object>"
      ]
     },
     "metadata": {},
     "output_type": "display_data"
    },
    {
     "data": {
      "text/html": [
       "\n",
       "<div id=\"altair-viz-462920bd889447a88c32f5655494a436\"></div>\n",
       "<script type=\"text/javascript\">\n",
       "  var VEGA_DEBUG = (typeof VEGA_DEBUG == \"undefined\") ? {} : VEGA_DEBUG;\n",
       "  (function(spec, embedOpt){\n",
       "    let outputDiv = document.currentScript.previousElementSibling;\n",
       "    if (outputDiv.id !== \"altair-viz-462920bd889447a88c32f5655494a436\") {\n",
       "      outputDiv = document.getElementById(\"altair-viz-462920bd889447a88c32f5655494a436\");\n",
       "    }\n",
       "    const paths = {\n",
       "      \"vega\": \"https://cdn.jsdelivr.net/npm//vega@5?noext\",\n",
       "      \"vega-lib\": \"https://cdn.jsdelivr.net/npm//vega-lib?noext\",\n",
       "      \"vega-lite\": \"https://cdn.jsdelivr.net/npm//vega-lite@4.17.0?noext\",\n",
       "      \"vega-embed\": \"https://cdn.jsdelivr.net/npm//vega-embed@6?noext\",\n",
       "    };\n",
       "\n",
       "    function maybeLoadScript(lib, version) {\n",
       "      var key = `${lib.replace(\"-\", \"\")}_version`;\n",
       "      return (VEGA_DEBUG[key] == version) ?\n",
       "        Promise.resolve(paths[lib]) :\n",
       "        new Promise(function(resolve, reject) {\n",
       "          var s = document.createElement('script');\n",
       "          document.getElementsByTagName(\"head\")[0].appendChild(s);\n",
       "          s.async = true;\n",
       "          s.onload = () => {\n",
       "            VEGA_DEBUG[key] = version;\n",
       "            return resolve(paths[lib]);\n",
       "          };\n",
       "          s.onerror = () => reject(`Error loading script: ${paths[lib]}`);\n",
       "          s.src = paths[lib];\n",
       "        });\n",
       "    }\n",
       "\n",
       "    function showError(err) {\n",
       "      outputDiv.innerHTML = `<div class=\"error\" style=\"color:red;\">${err}</div>`;\n",
       "      throw err;\n",
       "    }\n",
       "\n",
       "    function displayChart(vegaEmbed) {\n",
       "      vegaEmbed(outputDiv, spec, embedOpt)\n",
       "        .catch(err => showError(`Javascript Error: ${err.message}<br>This usually means there's a typo in your chart specification. See the javascript console for the full traceback.`));\n",
       "    }\n",
       "\n",
       "    if(typeof define === \"function\" && define.amd) {\n",
       "      requirejs.config({paths});\n",
       "      require([\"vega-embed\"], displayChart, err => showError(`Error loading script: ${err.message}`));\n",
       "    } else {\n",
       "      maybeLoadScript(\"vega\", \"5\")\n",
       "        .then(() => maybeLoadScript(\"vega-lite\", \"4.17.0\"))\n",
       "        .then(() => maybeLoadScript(\"vega-embed\", \"6\"))\n",
       "        .catch(showError)\n",
       "        .then(() => displayChart(vegaEmbed));\n",
       "    }\n",
       "  })({\"config\": {\"view\": {\"continuousWidth\": 400, \"continuousHeight\": 300, \"stroke\": null}, \"facet\": {\"spacing\": 0}}, \"data\": {\"name\": \"data-fe2d15cc22643aae760f56d2cdea3fc4\"}, \"facet\": {\"column\": {\"field\": \"route_id\", \"sort\": [\"21\"], \"title\": \"Route ID\", \"type\": \"nominal\"}}, \"spec\": {\"layer\": [{\"mark\": \"rule\", \"encoding\": {\"color\": {\"value\": \"black\"}, \"y\": {\"field\": \"cutoff\", \"type\": \"quantitative\"}}, \"selection\": {\"selector001\": {\"type\": \"interval\", \"bind\": \"scales\", \"encodings\": [\"x\", \"y\"]}}}, {\"mark\": {\"type\": \"point\", \"opacity\": 0.65, \"size\": 12, \"strokeWidth\": 1.1}, \"encoding\": {\"color\": {\"field\": \"time_of_day\", \"scale\": {\"range\": [\"#136C97\", \"#E16B26\", \"#F6BF16\", \"#00896B\", \"#7790A3\", \"#5B559C\"]}, \"sort\": [\"AM Peak\", \"Midday\", \"PM Peak\", \"Owl Service\"], \"title\": \"Time of Day\", \"type\": \"nominal\"}, \"tooltip\": [{\"field\": \"route_id\", \"type\": \"nominal\"}, {\"field\": \"trip_id\", \"type\": \"nominal\"}, {\"field\": \"service_hours\", \"type\": \"quantitative\"}, {\"field\": \"car_duration_hours\", \"type\": \"quantitative\"}, {\"field\": \"bus_multiplier\", \"type\": \"quantitative\"}, {\"field\": \"bus_difference\", \"type\": \"quantitative\"}, {\"field\": \"num_trips\", \"type\": \"quantitative\"}, {\"field\": \"num_competitive\", \"type\": \"quantitative\"}, {\"field\": \"pct_trips_competitive\", \"type\": \"quantitative\"}, {\"field\": \"p25\", \"type\": \"quantitative\"}, {\"field\": \"p50\", \"type\": \"quantitative\"}, {\"field\": \"p75\", \"type\": \"quantitative\"}], \"x\": {\"axis\": {\"grid\": false, \"labels\": false, \"ticks\": true, \"values\": [0]}, \"field\": \"jitter\", \"scale\": {}, \"title\": null, \"type\": \"quantitative\"}, \"y\": {\"field\": \"bus_multiplier\", \"scale\": {\"domain\": [-0.25, 2.5]}, \"title\": \"Ratio of Bus to Car Travel Time\", \"type\": \"quantitative\"}}, \"transform\": [{\"calculate\": \"sqrt(-2*log(random()))*cos(2*PI*random())\", \"as\": \"jitter\"}], \"width\": 50}, {\"layer\": [{\"mark\": {\"type\": \"point\", \"opacity\": 0.6, \"size\": 20, \"strokeWidth\": 1.3}, \"encoding\": {\"color\": {\"value\": \"#323434\"}, \"y\": {\"field\": \"bus_multiplier\", \"type\": \"quantitative\"}}, \"transform\": [{\"filter\": \"(datum.p50_trip === 1)\"}]}, {\"mark\": {\"type\": \"text\", \"align\": \"center\", \"baseline\": \"middle\"}, \"encoding\": {\"color\": {\"value\": \"black\"}, \"text\": {\"field\": \"pct_trips_competitive\", \"format\": \".0%\", \"type\": \"quantitative\"}, \"tooltip\": [{\"field\": \"route_id\", \"type\": \"nominal\"}, {\"field\": \"trip_id\", \"type\": \"nominal\"}, {\"field\": \"service_hours\", \"type\": \"quantitative\"}, {\"field\": \"car_duration_hours\", \"type\": \"quantitative\"}, {\"field\": \"bus_multiplier\", \"type\": \"quantitative\"}, {\"field\": \"bus_difference\", \"type\": \"quantitative\"}, {\"field\": \"num_trips\", \"type\": \"quantitative\"}, {\"field\": \"num_competitive\", \"type\": \"quantitative\"}, {\"field\": \"pct_trips_competitive\", \"type\": \"quantitative\"}, {\"field\": \"p25\", \"type\": \"quantitative\"}, {\"field\": \"p50\", \"type\": \"quantitative\"}, {\"field\": \"p75\", \"type\": \"quantitative\"}], \"x\": {\"value\": 30}, \"y\": {\"value\": 15}}, \"transform\": [{\"calculate\": \"sqrt(-2*log(random()))*cos(2*PI*random())\", \"as\": \"jitter\"}, {\"filter\": \"(datum.fastest_trip === 1)\"}]}]}]}, \"resolve\": {\"scale\": {\"y\": \"shared\"}}, \"title\": \"Ratio of Bus to Car Travel Time\", \"$schema\": \"https://vega.github.io/schema/vega-lite/v4.17.0.json\", \"datasets\": {\"data-fe2d15cc22643aae760f56d2cdea3fc4\": [{\"calitp_itp_id\": 386, \"trip_key\": 135583176533145866, \"trip_id\": \"214\", \"shape_id\": \"rt5-flex\", \"route_id\": \"21\", \"service_hours\": 0.82, \"trip_first_departure_ts\": 37500, \"trip_last_arrival_ts\": 40440, \"departure_hour\": 10, \"time_of_day\": \"Midday\", \"p25\": 0.82, \"p50\": 0.87, \"p75\": 0.87, \"p50_trip\": 0, \"fastest_trip\": 0, \"car_duration_hours\": 1.03, \"competitive_route\": 1, \"bus_multiplier\": 0.8, \"bus_difference\": -12.6, \"num_trips\": 11, \"num_competitive\": 11, \"pct_trips_competitive\": 1.0, \"bus_difference_spread\": 3.0, \"route_group\": \"short\", \"max_trip_hrs\": 0.87, \"max_trip_route_group\": 0.87, \"name\": \"Yuma County Intergovernmental Public Transportation Authority\", \"caltrans_district\": \"11 - San Diego\", \"drmt_organization_name\": null, \"cutoff2\": 20, \"cutoff\": 2}, {\"calitp_itp_id\": 386, \"trip_key\": -2783547571463305148, \"trip_id\": \"216\", \"shape_id\": \"rt5-flex\", \"route_id\": \"21\", \"service_hours\": 0.82, \"trip_first_departure_ts\": 44700, \"trip_last_arrival_ts\": 47640, \"departure_hour\": 12, \"time_of_day\": \"Midday\", \"p25\": 0.82, \"p50\": 0.87, \"p75\": 0.87, \"p50_trip\": 0, \"fastest_trip\": 0, \"car_duration_hours\": 1.03, \"competitive_route\": 1, \"bus_multiplier\": 0.8, \"bus_difference\": -12.6, \"num_trips\": 11, \"num_competitive\": 11, \"pct_trips_competitive\": 1.0, \"bus_difference_spread\": 3.0, \"route_group\": \"short\", \"max_trip_hrs\": 0.87, \"max_trip_route_group\": 0.87, \"name\": \"Yuma County Intergovernmental Public Transportation Authority\", \"caltrans_district\": \"11 - San Diego\", \"drmt_organization_name\": null, \"cutoff2\": 20, \"cutoff\": 2}, {\"calitp_itp_id\": 386, \"trip_key\": -7322591905005787761, \"trip_id\": \"218\", \"shape_id\": \"rt5-flex\", \"route_id\": \"21\", \"service_hours\": 0.82, \"trip_first_departure_ts\": 51900, \"trip_last_arrival_ts\": 54840, \"departure_hour\": 14, \"time_of_day\": \"Midday\", \"p25\": 0.82, \"p50\": 0.87, \"p75\": 0.87, \"p50_trip\": 0, \"fastest_trip\": 0, \"car_duration_hours\": 1.03, \"competitive_route\": 1, \"bus_multiplier\": 0.8, \"bus_difference\": -12.6, \"num_trips\": 11, \"num_competitive\": 11, \"pct_trips_competitive\": 1.0, \"bus_difference_spread\": 3.0, \"route_group\": \"short\", \"max_trip_hrs\": 0.87, \"max_trip_route_group\": 0.87, \"name\": \"Yuma County Intergovernmental Public Transportation Authority\", \"caltrans_district\": \"11 - San Diego\", \"drmt_organization_name\": null, \"cutoff2\": 20, \"cutoff\": 2}, {\"calitp_itp_id\": 386, \"trip_key\": -1060885577793769358, \"trip_id\": \"212\", \"shape_id\": \"rt5-flex\", \"route_id\": \"21\", \"service_hours\": 0.82, \"trip_first_departure_ts\": 30300, \"trip_last_arrival_ts\": 33240, \"departure_hour\": 8, \"time_of_day\": \"AM Peak\", \"p25\": 0.82, \"p50\": 0.87, \"p75\": 0.87, \"p50_trip\": 0, \"fastest_trip\": 0, \"car_duration_hours\": 1.03, \"competitive_route\": 1, \"bus_multiplier\": 0.8, \"bus_difference\": -12.6, \"num_trips\": 11, \"num_competitive\": 11, \"pct_trips_competitive\": 1.0, \"bus_difference_spread\": 3.0, \"route_group\": \"short\", \"max_trip_hrs\": 0.87, \"max_trip_route_group\": 0.87, \"name\": \"Yuma County Intergovernmental Public Transportation Authority\", \"caltrans_district\": \"11 - San Diego\", \"drmt_organization_name\": null, \"cutoff2\": 20, \"cutoff\": 2}, {\"calitp_itp_id\": 386, \"trip_key\": -3315453958807903674, \"trip_id\": \"220\", \"shape_id\": \"rt5-flex\", \"route_id\": \"21\", \"service_hours\": 0.82, \"trip_first_departure_ts\": 59100, \"trip_last_arrival_ts\": 62040, \"departure_hour\": 16, \"time_of_day\": \"Midday\", \"p25\": 0.82, \"p50\": 0.87, \"p75\": 0.87, \"p50_trip\": 0, \"fastest_trip\": 1, \"car_duration_hours\": 1.03, \"competitive_route\": 1, \"bus_multiplier\": 0.8, \"bus_difference\": -12.6, \"num_trips\": 11, \"num_competitive\": 11, \"pct_trips_competitive\": 1.0, \"bus_difference_spread\": 3.0, \"route_group\": \"short\", \"max_trip_hrs\": 0.87, \"max_trip_route_group\": 0.87, \"name\": \"Yuma County Intergovernmental Public Transportation Authority\", \"caltrans_district\": \"11 - San Diego\", \"drmt_organization_name\": null, \"cutoff2\": 20, \"cutoff\": 2}, {\"calitp_itp_id\": 386, \"trip_key\": -7703529417593090475, \"trip_id\": \"221\", \"shape_id\": \"rt5\", \"route_id\": \"21\", \"service_hours\": 0.87, \"trip_first_departure_ts\": 62700, \"trip_last_arrival_ts\": 65820, \"departure_hour\": 17, \"time_of_day\": \"PM Peak\", \"p25\": 0.82, \"p50\": 0.87, \"p75\": 0.87, \"p50_trip\": 1, \"fastest_trip\": 0, \"car_duration_hours\": 1.03, \"competitive_route\": 1, \"bus_multiplier\": 0.84, \"bus_difference\": -9.6, \"num_trips\": 11, \"num_competitive\": 11, \"pct_trips_competitive\": 1.0, \"bus_difference_spread\": 3.0, \"route_group\": \"short\", \"max_trip_hrs\": 0.87, \"max_trip_route_group\": 0.87, \"name\": \"Yuma County Intergovernmental Public Transportation Authority\", \"caltrans_district\": \"11 - San Diego\", \"drmt_organization_name\": null, \"cutoff2\": 20, \"cutoff\": 2}, {\"calitp_itp_id\": 386, \"trip_key\": -5592750184237272747, \"trip_id\": \"211\", \"shape_id\": \"rt5\", \"route_id\": \"21\", \"service_hours\": 0.87, \"trip_first_departure_ts\": 26700, \"trip_last_arrival_ts\": 29820, \"departure_hour\": 7, \"time_of_day\": \"AM Peak\", \"p25\": 0.82, \"p50\": 0.87, \"p75\": 0.87, \"p50_trip\": 1, \"fastest_trip\": 0, \"car_duration_hours\": 1.03, \"competitive_route\": 1, \"bus_multiplier\": 0.84, \"bus_difference\": -9.6, \"num_trips\": 11, \"num_competitive\": 11, \"pct_trips_competitive\": 1.0, \"bus_difference_spread\": 3.0, \"route_group\": \"short\", \"max_trip_hrs\": 0.87, \"max_trip_route_group\": 0.87, \"name\": \"Yuma County Intergovernmental Public Transportation Authority\", \"caltrans_district\": \"11 - San Diego\", \"drmt_organization_name\": null, \"cutoff2\": 20, \"cutoff\": 2}, {\"calitp_itp_id\": 386, \"trip_key\": -8434957992839405658, \"trip_id\": \"213\", \"shape_id\": \"rt5\", \"route_id\": \"21\", \"service_hours\": 0.87, \"trip_first_departure_ts\": 33900, \"trip_last_arrival_ts\": 37020, \"departure_hour\": 9, \"time_of_day\": \"AM Peak\", \"p25\": 0.82, \"p50\": 0.87, \"p75\": 0.87, \"p50_trip\": 1, \"fastest_trip\": 0, \"car_duration_hours\": 1.03, \"competitive_route\": 1, \"bus_multiplier\": 0.84, \"bus_difference\": -9.6, \"num_trips\": 11, \"num_competitive\": 11, \"pct_trips_competitive\": 1.0, \"bus_difference_spread\": 3.0, \"route_group\": \"short\", \"max_trip_hrs\": 0.87, \"max_trip_route_group\": 0.87, \"name\": \"Yuma County Intergovernmental Public Transportation Authority\", \"caltrans_district\": \"11 - San Diego\", \"drmt_organization_name\": null, \"cutoff2\": 20, \"cutoff\": 2}, {\"calitp_itp_id\": 386, \"trip_key\": -2453887450724018448, \"trip_id\": \"219\", \"shape_id\": \"rt5\", \"route_id\": \"21\", \"service_hours\": 0.87, \"trip_first_departure_ts\": 55500, \"trip_last_arrival_ts\": 58620, \"departure_hour\": 15, \"time_of_day\": \"Midday\", \"p25\": 0.82, \"p50\": 0.87, \"p75\": 0.87, \"p50_trip\": 1, \"fastest_trip\": 0, \"car_duration_hours\": 1.03, \"competitive_route\": 1, \"bus_multiplier\": 0.84, \"bus_difference\": -9.6, \"num_trips\": 11, \"num_competitive\": 11, \"pct_trips_competitive\": 1.0, \"bus_difference_spread\": 3.0, \"route_group\": \"short\", \"max_trip_hrs\": 0.87, \"max_trip_route_group\": 0.87, \"name\": \"Yuma County Intergovernmental Public Transportation Authority\", \"caltrans_district\": \"11 - San Diego\", \"drmt_organization_name\": null, \"cutoff2\": 20, \"cutoff\": 2}, {\"calitp_itp_id\": 386, \"trip_key\": 3710704863623228336, \"trip_id\": \"217\", \"shape_id\": \"rt5\", \"route_id\": \"21\", \"service_hours\": 0.87, \"trip_first_departure_ts\": 48300, \"trip_last_arrival_ts\": 51420, \"departure_hour\": 13, \"time_of_day\": \"Midday\", \"p25\": 0.82, \"p50\": 0.87, \"p75\": 0.87, \"p50_trip\": 1, \"fastest_trip\": 0, \"car_duration_hours\": 1.03, \"competitive_route\": 1, \"bus_multiplier\": 0.84, \"bus_difference\": -9.6, \"num_trips\": 11, \"num_competitive\": 11, \"pct_trips_competitive\": 1.0, \"bus_difference_spread\": 3.0, \"route_group\": \"short\", \"max_trip_hrs\": 0.87, \"max_trip_route_group\": 0.87, \"name\": \"Yuma County Intergovernmental Public Transportation Authority\", \"caltrans_district\": \"11 - San Diego\", \"drmt_organization_name\": null, \"cutoff2\": 20, \"cutoff\": 2}, {\"calitp_itp_id\": 386, \"trip_key\": -8790056341171231541, \"trip_id\": \"215\", \"shape_id\": \"rt5\", \"route_id\": \"21\", \"service_hours\": 0.87, \"trip_first_departure_ts\": 41100, \"trip_last_arrival_ts\": 44220, \"departure_hour\": 11, \"time_of_day\": \"Midday\", \"p25\": 0.82, \"p50\": 0.87, \"p75\": 0.87, \"p50_trip\": 1, \"fastest_trip\": 0, \"car_duration_hours\": 1.03, \"competitive_route\": 1, \"bus_multiplier\": 0.84, \"bus_difference\": -9.6, \"num_trips\": 11, \"num_competitive\": 11, \"pct_trips_competitive\": 1.0, \"bus_difference_spread\": 3.0, \"route_group\": \"short\", \"max_trip_hrs\": 0.87, \"max_trip_route_group\": 0.87, \"name\": \"Yuma County Intergovernmental Public Transportation Authority\", \"caltrans_district\": \"11 - San Diego\", \"drmt_organization_name\": null, \"cutoff2\": 20, \"cutoff\": 2}]}}, {\"mode\": \"vega-lite\"});\n",
       "</script>"
      ],
      "text/plain": [
       "alt.FacetChart(...)"
      ]
     },
     "metadata": {},
     "output_type": "display_data"
    },
    {
     "data": {
      "text/html": [
       "\n",
       "<div id=\"altair-viz-49aa4414884544f8971060fb86500960\"></div>\n",
       "<script type=\"text/javascript\">\n",
       "  var VEGA_DEBUG = (typeof VEGA_DEBUG == \"undefined\") ? {} : VEGA_DEBUG;\n",
       "  (function(spec, embedOpt){\n",
       "    let outputDiv = document.currentScript.previousElementSibling;\n",
       "    if (outputDiv.id !== \"altair-viz-49aa4414884544f8971060fb86500960\") {\n",
       "      outputDiv = document.getElementById(\"altair-viz-49aa4414884544f8971060fb86500960\");\n",
       "    }\n",
       "    const paths = {\n",
       "      \"vega\": \"https://cdn.jsdelivr.net/npm//vega@5?noext\",\n",
       "      \"vega-lib\": \"https://cdn.jsdelivr.net/npm//vega-lib?noext\",\n",
       "      \"vega-lite\": \"https://cdn.jsdelivr.net/npm//vega-lite@4.17.0?noext\",\n",
       "      \"vega-embed\": \"https://cdn.jsdelivr.net/npm//vega-embed@6?noext\",\n",
       "    };\n",
       "\n",
       "    function maybeLoadScript(lib, version) {\n",
       "      var key = `${lib.replace(\"-\", \"\")}_version`;\n",
       "      return (VEGA_DEBUG[key] == version) ?\n",
       "        Promise.resolve(paths[lib]) :\n",
       "        new Promise(function(resolve, reject) {\n",
       "          var s = document.createElement('script');\n",
       "          document.getElementsByTagName(\"head\")[0].appendChild(s);\n",
       "          s.async = true;\n",
       "          s.onload = () => {\n",
       "            VEGA_DEBUG[key] = version;\n",
       "            return resolve(paths[lib]);\n",
       "          };\n",
       "          s.onerror = () => reject(`Error loading script: ${paths[lib]}`);\n",
       "          s.src = paths[lib];\n",
       "        });\n",
       "    }\n",
       "\n",
       "    function showError(err) {\n",
       "      outputDiv.innerHTML = `<div class=\"error\" style=\"color:red;\">${err}</div>`;\n",
       "      throw err;\n",
       "    }\n",
       "\n",
       "    function displayChart(vegaEmbed) {\n",
       "      vegaEmbed(outputDiv, spec, embedOpt)\n",
       "        .catch(err => showError(`Javascript Error: ${err.message}<br>This usually means there's a typo in your chart specification. See the javascript console for the full traceback.`));\n",
       "    }\n",
       "\n",
       "    if(typeof define === \"function\" && define.amd) {\n",
       "      requirejs.config({paths});\n",
       "      require([\"vega-embed\"], displayChart, err => showError(`Error loading script: ${err.message}`));\n",
       "    } else {\n",
       "      maybeLoadScript(\"vega\", \"5\")\n",
       "        .then(() => maybeLoadScript(\"vega-lite\", \"4.17.0\"))\n",
       "        .then(() => maybeLoadScript(\"vega-embed\", \"6\"))\n",
       "        .catch(showError)\n",
       "        .then(() => displayChart(vegaEmbed));\n",
       "    }\n",
       "  })({\"config\": {\"view\": {\"continuousWidth\": 400, \"continuousHeight\": 300, \"stroke\": null}, \"facet\": {\"spacing\": 0}}, \"data\": {\"name\": \"data-ca54745f2a347dae7dd8eda7c8430fe1\"}, \"facet\": {\"column\": {\"field\": \"route_id\", \"sort\": [\"21\"], \"title\": \"Route ID\", \"type\": \"nominal\"}}, \"spec\": {\"layer\": [{\"mark\": \"rule\", \"encoding\": {\"color\": {\"value\": \"black\"}, \"y\": {\"field\": \"cutoff\", \"type\": \"quantitative\"}}, \"selection\": {\"selector002\": {\"type\": \"interval\", \"bind\": \"scales\", \"encodings\": [\"x\", \"y\"]}}}, {\"mark\": {\"type\": \"rule\", \"strokeDash\": [3, 3]}, \"encoding\": {\"color\": {\"value\": \"#323434\"}, \"y\": {\"field\": \"cutoff2\", \"type\": \"quantitative\"}}}, {\"mark\": {\"type\": \"point\", \"opacity\": 0.65, \"size\": 12, \"strokeWidth\": 1.1}, \"encoding\": {\"color\": {\"field\": \"time_of_day\", \"scale\": {\"range\": [\"#136C97\", \"#E16B26\", \"#F6BF16\", \"#00896B\", \"#7790A3\", \"#5B559C\"]}, \"sort\": [\"AM Peak\", \"Midday\", \"PM Peak\", \"Owl Service\"], \"title\": \"Time of Day\", \"type\": \"nominal\"}, \"tooltip\": [{\"field\": \"route_id\", \"type\": \"nominal\"}, {\"field\": \"trip_id\", \"type\": \"nominal\"}, {\"field\": \"service_hours\", \"type\": \"quantitative\"}, {\"field\": \"car_duration_hours\", \"type\": \"quantitative\"}, {\"field\": \"bus_multiplier\", \"type\": \"quantitative\"}, {\"field\": \"bus_difference\", \"type\": \"quantitative\"}, {\"field\": \"num_trips\", \"type\": \"quantitative\"}, {\"field\": \"num_competitive\", \"type\": \"quantitative\"}, {\"field\": \"pct_trips_competitive\", \"type\": \"quantitative\"}, {\"field\": \"p25\", \"type\": \"quantitative\"}, {\"field\": \"p50\", \"type\": \"quantitative\"}, {\"field\": \"p75\", \"type\": \"quantitative\"}], \"x\": {\"axis\": {\"grid\": false, \"labels\": false, \"ticks\": true, \"values\": [0]}, \"field\": \"jitter\", \"scale\": {}, \"title\": null, \"type\": \"quantitative\"}, \"y\": {\"field\": \"bus_difference\", \"scale\": {\"domain\": [-12.6, 25.0]}, \"title\": \"Difference in Bus to Car Travel Time (min)\", \"type\": \"quantitative\"}}, \"transform\": [{\"calculate\": \"sqrt(-2*log(random()))*cos(2*PI*random())\", \"as\": \"jitter\"}], \"width\": 50}, {\"layer\": [{\"mark\": {\"type\": \"point\", \"opacity\": 0.6, \"size\": 20, \"strokeWidth\": 1.3}, \"encoding\": {\"color\": {\"value\": \"#323434\"}, \"y\": {\"field\": \"bus_difference\", \"type\": \"quantitative\"}}, \"transform\": [{\"filter\": \"(datum.p50_trip === 1)\"}]}, {\"mark\": {\"type\": \"text\", \"align\": \"center\", \"baseline\": \"middle\"}, \"encoding\": {\"color\": {\"value\": \"black\"}, \"text\": {\"field\": \"pct_trips_competitive\", \"format\": \".0%\", \"type\": \"quantitative\"}, \"tooltip\": [{\"field\": \"route_id\", \"type\": \"nominal\"}, {\"field\": \"trip_id\", \"type\": \"nominal\"}, {\"field\": \"service_hours\", \"type\": \"quantitative\"}, {\"field\": \"car_duration_hours\", \"type\": \"quantitative\"}, {\"field\": \"bus_multiplier\", \"type\": \"quantitative\"}, {\"field\": \"bus_difference\", \"type\": \"quantitative\"}, {\"field\": \"num_trips\", \"type\": \"quantitative\"}, {\"field\": \"num_competitive\", \"type\": \"quantitative\"}, {\"field\": \"pct_trips_competitive\", \"type\": \"quantitative\"}, {\"field\": \"p25\", \"type\": \"quantitative\"}, {\"field\": \"p50\", \"type\": \"quantitative\"}, {\"field\": \"p75\", \"type\": \"quantitative\"}], \"x\": {\"value\": 30}, \"y\": {\"value\": 15}}, \"transform\": [{\"calculate\": \"sqrt(-2*log(random()))*cos(2*PI*random())\", \"as\": \"jitter\"}, {\"filter\": \"(datum.fastest_trip === 1)\"}]}]}]}, \"resolve\": {\"scale\": {\"y\": \"shared\"}}, \"title\": \"Difference in Bus to Car Travel Time (min)\", \"$schema\": \"https://vega.github.io/schema/vega-lite/v4.17.0.json\", \"datasets\": {\"data-ca54745f2a347dae7dd8eda7c8430fe1\": [{\"calitp_itp_id\": 386, \"trip_key\": 135583176533145866, \"trip_id\": \"214\", \"shape_id\": \"rt5-flex\", \"route_id\": \"21\", \"service_hours\": 0.82, \"trip_first_departure_ts\": 37500, \"trip_last_arrival_ts\": 40440, \"departure_hour\": 10, \"time_of_day\": \"Midday\", \"p25\": 0.82, \"p50\": 0.87, \"p75\": 0.87, \"p50_trip\": 0, \"fastest_trip\": 0, \"car_duration_hours\": 1.03, \"competitive_route\": 1, \"bus_multiplier\": 0.8, \"bus_difference\": -12.6, \"num_trips\": 11, \"num_competitive\": 11, \"pct_trips_competitive\": 1.0, \"bus_difference_spread\": 3.0, \"route_group\": \"short\", \"max_trip_hrs\": 0.87, \"max_trip_route_group\": 0.87, \"name\": \"Yuma County Intergovernmental Public Transportation Authority\", \"caltrans_district\": \"11 - San Diego\", \"drmt_organization_name\": null, \"cutoff2\": 20, \"cutoff\": 0}, {\"calitp_itp_id\": 386, \"trip_key\": -2783547571463305148, \"trip_id\": \"216\", \"shape_id\": \"rt5-flex\", \"route_id\": \"21\", \"service_hours\": 0.82, \"trip_first_departure_ts\": 44700, \"trip_last_arrival_ts\": 47640, \"departure_hour\": 12, \"time_of_day\": \"Midday\", \"p25\": 0.82, \"p50\": 0.87, \"p75\": 0.87, \"p50_trip\": 0, \"fastest_trip\": 0, \"car_duration_hours\": 1.03, \"competitive_route\": 1, \"bus_multiplier\": 0.8, \"bus_difference\": -12.6, \"num_trips\": 11, \"num_competitive\": 11, \"pct_trips_competitive\": 1.0, \"bus_difference_spread\": 3.0, \"route_group\": \"short\", \"max_trip_hrs\": 0.87, \"max_trip_route_group\": 0.87, \"name\": \"Yuma County Intergovernmental Public Transportation Authority\", \"caltrans_district\": \"11 - San Diego\", \"drmt_organization_name\": null, \"cutoff2\": 20, \"cutoff\": 0}, {\"calitp_itp_id\": 386, \"trip_key\": -7322591905005787761, \"trip_id\": \"218\", \"shape_id\": \"rt5-flex\", \"route_id\": \"21\", \"service_hours\": 0.82, \"trip_first_departure_ts\": 51900, \"trip_last_arrival_ts\": 54840, \"departure_hour\": 14, \"time_of_day\": \"Midday\", \"p25\": 0.82, \"p50\": 0.87, \"p75\": 0.87, \"p50_trip\": 0, \"fastest_trip\": 0, \"car_duration_hours\": 1.03, \"competitive_route\": 1, \"bus_multiplier\": 0.8, \"bus_difference\": -12.6, \"num_trips\": 11, \"num_competitive\": 11, \"pct_trips_competitive\": 1.0, \"bus_difference_spread\": 3.0, \"route_group\": \"short\", \"max_trip_hrs\": 0.87, \"max_trip_route_group\": 0.87, \"name\": \"Yuma County Intergovernmental Public Transportation Authority\", \"caltrans_district\": \"11 - San Diego\", \"drmt_organization_name\": null, \"cutoff2\": 20, \"cutoff\": 0}, {\"calitp_itp_id\": 386, \"trip_key\": -1060885577793769358, \"trip_id\": \"212\", \"shape_id\": \"rt5-flex\", \"route_id\": \"21\", \"service_hours\": 0.82, \"trip_first_departure_ts\": 30300, \"trip_last_arrival_ts\": 33240, \"departure_hour\": 8, \"time_of_day\": \"AM Peak\", \"p25\": 0.82, \"p50\": 0.87, \"p75\": 0.87, \"p50_trip\": 0, \"fastest_trip\": 0, \"car_duration_hours\": 1.03, \"competitive_route\": 1, \"bus_multiplier\": 0.8, \"bus_difference\": -12.6, \"num_trips\": 11, \"num_competitive\": 11, \"pct_trips_competitive\": 1.0, \"bus_difference_spread\": 3.0, \"route_group\": \"short\", \"max_trip_hrs\": 0.87, \"max_trip_route_group\": 0.87, \"name\": \"Yuma County Intergovernmental Public Transportation Authority\", \"caltrans_district\": \"11 - San Diego\", \"drmt_organization_name\": null, \"cutoff2\": 20, \"cutoff\": 0}, {\"calitp_itp_id\": 386, \"trip_key\": -3315453958807903674, \"trip_id\": \"220\", \"shape_id\": \"rt5-flex\", \"route_id\": \"21\", \"service_hours\": 0.82, \"trip_first_departure_ts\": 59100, \"trip_last_arrival_ts\": 62040, \"departure_hour\": 16, \"time_of_day\": \"Midday\", \"p25\": 0.82, \"p50\": 0.87, \"p75\": 0.87, \"p50_trip\": 0, \"fastest_trip\": 1, \"car_duration_hours\": 1.03, \"competitive_route\": 1, \"bus_multiplier\": 0.8, \"bus_difference\": -12.6, \"num_trips\": 11, \"num_competitive\": 11, \"pct_trips_competitive\": 1.0, \"bus_difference_spread\": 3.0, \"route_group\": \"short\", \"max_trip_hrs\": 0.87, \"max_trip_route_group\": 0.87, \"name\": \"Yuma County Intergovernmental Public Transportation Authority\", \"caltrans_district\": \"11 - San Diego\", \"drmt_organization_name\": null, \"cutoff2\": 20, \"cutoff\": 0}, {\"calitp_itp_id\": 386, \"trip_key\": -7703529417593090475, \"trip_id\": \"221\", \"shape_id\": \"rt5\", \"route_id\": \"21\", \"service_hours\": 0.87, \"trip_first_departure_ts\": 62700, \"trip_last_arrival_ts\": 65820, \"departure_hour\": 17, \"time_of_day\": \"PM Peak\", \"p25\": 0.82, \"p50\": 0.87, \"p75\": 0.87, \"p50_trip\": 1, \"fastest_trip\": 0, \"car_duration_hours\": 1.03, \"competitive_route\": 1, \"bus_multiplier\": 0.84, \"bus_difference\": -9.6, \"num_trips\": 11, \"num_competitive\": 11, \"pct_trips_competitive\": 1.0, \"bus_difference_spread\": 3.0, \"route_group\": \"short\", \"max_trip_hrs\": 0.87, \"max_trip_route_group\": 0.87, \"name\": \"Yuma County Intergovernmental Public Transportation Authority\", \"caltrans_district\": \"11 - San Diego\", \"drmt_organization_name\": null, \"cutoff2\": 20, \"cutoff\": 0}, {\"calitp_itp_id\": 386, \"trip_key\": -5592750184237272747, \"trip_id\": \"211\", \"shape_id\": \"rt5\", \"route_id\": \"21\", \"service_hours\": 0.87, \"trip_first_departure_ts\": 26700, \"trip_last_arrival_ts\": 29820, \"departure_hour\": 7, \"time_of_day\": \"AM Peak\", \"p25\": 0.82, \"p50\": 0.87, \"p75\": 0.87, \"p50_trip\": 1, \"fastest_trip\": 0, \"car_duration_hours\": 1.03, \"competitive_route\": 1, \"bus_multiplier\": 0.84, \"bus_difference\": -9.6, \"num_trips\": 11, \"num_competitive\": 11, \"pct_trips_competitive\": 1.0, \"bus_difference_spread\": 3.0, \"route_group\": \"short\", \"max_trip_hrs\": 0.87, \"max_trip_route_group\": 0.87, \"name\": \"Yuma County Intergovernmental Public Transportation Authority\", \"caltrans_district\": \"11 - San Diego\", \"drmt_organization_name\": null, \"cutoff2\": 20, \"cutoff\": 0}, {\"calitp_itp_id\": 386, \"trip_key\": -8434957992839405658, \"trip_id\": \"213\", \"shape_id\": \"rt5\", \"route_id\": \"21\", \"service_hours\": 0.87, \"trip_first_departure_ts\": 33900, \"trip_last_arrival_ts\": 37020, \"departure_hour\": 9, \"time_of_day\": \"AM Peak\", \"p25\": 0.82, \"p50\": 0.87, \"p75\": 0.87, \"p50_trip\": 1, \"fastest_trip\": 0, \"car_duration_hours\": 1.03, \"competitive_route\": 1, \"bus_multiplier\": 0.84, \"bus_difference\": -9.6, \"num_trips\": 11, \"num_competitive\": 11, \"pct_trips_competitive\": 1.0, \"bus_difference_spread\": 3.0, \"route_group\": \"short\", \"max_trip_hrs\": 0.87, \"max_trip_route_group\": 0.87, \"name\": \"Yuma County Intergovernmental Public Transportation Authority\", \"caltrans_district\": \"11 - San Diego\", \"drmt_organization_name\": null, \"cutoff2\": 20, \"cutoff\": 0}, {\"calitp_itp_id\": 386, \"trip_key\": -2453887450724018448, \"trip_id\": \"219\", \"shape_id\": \"rt5\", \"route_id\": \"21\", \"service_hours\": 0.87, \"trip_first_departure_ts\": 55500, \"trip_last_arrival_ts\": 58620, \"departure_hour\": 15, \"time_of_day\": \"Midday\", \"p25\": 0.82, \"p50\": 0.87, \"p75\": 0.87, \"p50_trip\": 1, \"fastest_trip\": 0, \"car_duration_hours\": 1.03, \"competitive_route\": 1, \"bus_multiplier\": 0.84, \"bus_difference\": -9.6, \"num_trips\": 11, \"num_competitive\": 11, \"pct_trips_competitive\": 1.0, \"bus_difference_spread\": 3.0, \"route_group\": \"short\", \"max_trip_hrs\": 0.87, \"max_trip_route_group\": 0.87, \"name\": \"Yuma County Intergovernmental Public Transportation Authority\", \"caltrans_district\": \"11 - San Diego\", \"drmt_organization_name\": null, \"cutoff2\": 20, \"cutoff\": 0}, {\"calitp_itp_id\": 386, \"trip_key\": 3710704863623228336, \"trip_id\": \"217\", \"shape_id\": \"rt5\", \"route_id\": \"21\", \"service_hours\": 0.87, \"trip_first_departure_ts\": 48300, \"trip_last_arrival_ts\": 51420, \"departure_hour\": 13, \"time_of_day\": \"Midday\", \"p25\": 0.82, \"p50\": 0.87, \"p75\": 0.87, \"p50_trip\": 1, \"fastest_trip\": 0, \"car_duration_hours\": 1.03, \"competitive_route\": 1, \"bus_multiplier\": 0.84, \"bus_difference\": -9.6, \"num_trips\": 11, \"num_competitive\": 11, \"pct_trips_competitive\": 1.0, \"bus_difference_spread\": 3.0, \"route_group\": \"short\", \"max_trip_hrs\": 0.87, \"max_trip_route_group\": 0.87, \"name\": \"Yuma County Intergovernmental Public Transportation Authority\", \"caltrans_district\": \"11 - San Diego\", \"drmt_organization_name\": null, \"cutoff2\": 20, \"cutoff\": 0}, {\"calitp_itp_id\": 386, \"trip_key\": -8790056341171231541, \"trip_id\": \"215\", \"shape_id\": \"rt5\", \"route_id\": \"21\", \"service_hours\": 0.87, \"trip_first_departure_ts\": 41100, \"trip_last_arrival_ts\": 44220, \"departure_hour\": 11, \"time_of_day\": \"Midday\", \"p25\": 0.82, \"p50\": 0.87, \"p75\": 0.87, \"p50_trip\": 1, \"fastest_trip\": 0, \"car_duration_hours\": 1.03, \"competitive_route\": 1, \"bus_multiplier\": 0.84, \"bus_difference\": -9.6, \"num_trips\": 11, \"num_competitive\": 11, \"pct_trips_competitive\": 1.0, \"bus_difference_spread\": 3.0, \"route_group\": \"short\", \"max_trip_hrs\": 0.87, \"max_trip_route_group\": 0.87, \"name\": \"Yuma County Intergovernmental Public Transportation Authority\", \"caltrans_district\": \"11 - San Diego\", \"drmt_organization_name\": null, \"cutoff2\": 20, \"cutoff\": 0}]}}, {\"mode\": \"vega-lite\"});\n",
       "</script>"
      ],
      "text/plain": [
       "alt.FacetChart(...)"
      ]
     },
     "metadata": {},
     "output_type": "display_data"
    }
   ],
   "source": [
    "# Allow for possibility that operator doesn't have routes that fall into certain route_groups\n",
    "# But, jupyterbook will not like markdown with f-string\n",
    "# separate out route_group and put in each cell, and use try/except + if to display...\n",
    "# but all 3 route groups must be displayed. just add sentence about why no routes were returned at the end\n",
    "route_group = \"short\"\n",
    "try:\n",
    "    display_charts_for_route_group(df, route_group)\n",
    "except:\n",
    "    print(\"No routes meet this criteria.\")"
   ]
  },
  {
   "cell_type": "markdown",
   "id": "c2931b6f-034d-4384-9e14-80b925e3b820",
   "metadata": {
    "papermill": {
     "duration": 0.016122,
     "end_time": "2022-05-09T17:20:52.289946",
     "exception": false,
     "start_time": "2022-05-09T17:20:52.273824",
     "status": "completed"
    },
    "tags": []
   },
   "source": [
    "### Medium Routes (1-1.5 hrs)"
   ]
  },
  {
   "cell_type": "code",
   "execution_count": 14,
   "id": "480edddc-4de0-48c2-ae4c-b0ceef8f28b5",
   "metadata": {
    "execution": {
     "iopub.execute_input": "2022-05-09T17:20:52.327135Z",
     "iopub.status.busy": "2022-05-09T17:20:52.326322Z",
     "iopub.status.idle": "2022-05-09T17:20:52.341171Z",
     "shell.execute_reply": "2022-05-09T17:20:52.340118Z"
    },
    "jupyter": {
     "source_hidden": true
    },
    "papermill": {
     "duration": 0.035746,
     "end_time": "2022-05-09T17:20:52.343447",
     "exception": false,
     "start_time": "2022-05-09T17:20:52.307701",
     "status": "completed"
    },
    "tags": [
     "remove_input"
    ]
   },
   "outputs": [
    {
     "name": "stdout",
     "output_type": "stream",
     "text": [
      "No routes meet this criteria.\n"
     ]
    }
   ],
   "source": [
    "route_group = \"medium\"\n",
    "try:\n",
    "    display_charts_for_route_group(df, route_group)\n",
    "except:\n",
    "    print(\"No routes meet this criteria.\")"
   ]
  },
  {
   "cell_type": "markdown",
   "id": "124b76d0-886c-4d03-92ac-f1bda3cda182",
   "metadata": {
    "papermill": {
     "duration": 0.016684,
     "end_time": "2022-05-09T17:20:52.377370",
     "exception": false,
     "start_time": "2022-05-09T17:20:52.360686",
     "status": "completed"
    },
    "tags": []
   },
   "source": [
    "### Long Routes (> 1.5 hrs)"
   ]
  },
  {
   "cell_type": "code",
   "execution_count": 15,
   "id": "ddc81b19-4c45-4c81-8b7a-5e0f394aa7a3",
   "metadata": {
    "execution": {
     "iopub.execute_input": "2022-05-09T17:20:52.423517Z",
     "iopub.status.busy": "2022-05-09T17:20:52.422600Z",
     "iopub.status.idle": "2022-05-09T17:20:52.436832Z",
     "shell.execute_reply": "2022-05-09T17:20:52.435884Z"
    },
    "jupyter": {
     "source_hidden": true
    },
    "papermill": {
     "duration": 0.045282,
     "end_time": "2022-05-09T17:20:52.438977",
     "exception": false,
     "start_time": "2022-05-09T17:20:52.393695",
     "status": "completed"
    },
    "tags": [
     "remove_input"
    ]
   },
   "outputs": [
    {
     "name": "stdout",
     "output_type": "stream",
     "text": [
      "No routes meet this criteria.\n"
     ]
    }
   ],
   "source": [
    "route_group = \"long\"\n",
    "try:\n",
    "    display_charts_for_route_group(df, route_group)\n",
    "except:\n",
    "    print(\"No routes meet this criteria.\")"
   ]
  },
  {
   "cell_type": "markdown",
   "id": "ace75b5f-0442-4fbe-aebd-6c3a13ae13a7",
   "metadata": {
    "papermill": {
     "duration": 0.018249,
     "end_time": "2022-05-09T17:20:52.475534",
     "exception": false,
     "start_time": "2022-05-09T17:20:52.457285",
     "status": "completed"
    },
    "tags": []
   },
   "source": [
    "### GTFS Real-Time Speedmaps"
   ]
  },
  {
   "cell_type": "code",
   "execution_count": 16,
   "id": "3f06fdc4-d5a8-41f5-9b72-ed7e8a2dd2fc",
   "metadata": {
    "execution": {
     "iopub.execute_input": "2022-05-09T17:20:52.521240Z",
     "iopub.status.busy": "2022-05-09T17:20:52.520415Z",
     "iopub.status.idle": "2022-05-09T17:20:52.571759Z",
     "shell.execute_reply": "2022-05-09T17:20:52.570890Z"
    },
    "jupyter": {
     "source_hidden": true
    },
    "papermill": {
     "duration": 0.082399,
     "end_time": "2022-05-09T17:20:52.574849",
     "exception": false,
     "start_time": "2022-05-09T17:20:52.492450",
     "status": "completed"
    },
    "tags": [
     "remove_input"
    ]
   },
   "outputs": [
    {
     "data": {
      "text/html": [
       "No GTFS RT data available."
      ],
      "text/plain": [
       "<IPython.core.display.HTML object>"
      ]
     },
     "metadata": {},
     "output_type": "display_data"
    }
   ],
   "source": [
    "PORTFOLIO_SITE_YAML = \"../portfolio/analyses.yml\"\n",
    "\n",
    "# Grab list of ITP IDs with GTFS RT speedmaps\n",
    "rt_itp_id = deploy_portfolio_yaml.check_if_rt_data_available(PORTFOLIO_SITE_YAML)\n",
    "\n",
    "# Construct the URL \n",
    "RT_URL = (\"https://analysis.calitp.org/rt/\"\n",
    "          f\"district_{district_number}-{district_name}/\"\n",
    "          f\"speedmaps__itp_id_{itp_id}.html\"\n",
    "         ) \n",
    "\n",
    "if itp_id in rt_itp_id:\n",
    "    display(HTML('<a href=RT_URL>GTFS RT speedmaps here.</a>'))\n",
    "else:\n",
    "    display(HTML(\"No GTFS RT data available.\"))"
   ]
  },
  {
   "cell_type": "code",
   "execution_count": null,
   "id": "4664fe87-4e5e-4414-9602-a5c9c2a14072",
   "metadata": {
    "jupyter": {
     "source_hidden": true
    },
    "papermill": {
     "duration": 0.023757,
     "end_time": "2022-05-09T17:20:52.616632",
     "exception": false,
     "start_time": "2022-05-09T17:20:52.592875",
     "status": "completed"
    },
    "tags": [
     "remove_input"
    ]
   },
   "outputs": [],
   "source": []
  }
 ],
 "metadata": {
  "kernelspec": {
   "display_name": "Python 3 (ipykernel)",
   "language": "python",
   "name": "python3"
  },
  "language_info": {
   "codemirror_mode": {
    "name": "ipython",
    "version": 3
   },
   "file_extension": ".py",
   "mimetype": "text/x-python",
   "name": "python",
   "nbconvert_exporter": "python",
   "pygments_lexer": "ipython3",
   "version": "3.9.12"
  },
  "papermill": {
   "default_parameters": {},
   "duration": 27.865748,
   "end_time": "2022-05-09T17:20:54.366542",
   "environment_variables": {},
   "exception": null,
   "input_path": "bus_service_increase/competitive-parallel-routes.ipynb",
   "output_path": "portfolio/parallel_corridors/district_11-san-diego/competitive-parallel-routes__itp_id_386.ipynb",
   "parameters": {
    "district": "11 - San Diego",
    "itp_id": 386
   },
   "start_time": "2022-05-09T17:20:26.500794",
   "version": "2.3.4"
  }
 },
 "nbformat": 4,
 "nbformat_minor": 5
}