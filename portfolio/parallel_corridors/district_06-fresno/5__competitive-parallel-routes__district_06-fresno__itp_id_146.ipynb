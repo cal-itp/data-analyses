{
 "cells": [
  {
   "cell_type": "code",
   "execution_count": 1,
   "id": "95d00857-6a20-4529-a519-2cc7182928a9",
   "metadata": {
    "execution": {
     "iopub.execute_input": "2022-05-12T02:16:06.933950Z",
     "iopub.status.busy": "2022-05-12T02:16:06.933501Z",
     "iopub.status.idle": "2022-05-12T02:16:15.246873Z",
     "shell.execute_reply": "2022-05-12T02:16:15.245982Z"
    },
    "jupyter": {
     "source_hidden": true
    },
    "papermill": {
     "duration": 8.329728,
     "end_time": "2022-05-12T02:16:15.249155",
     "exception": false,
     "start_time": "2022-05-12T02:16:06.919427",
     "status": "completed"
    },
    "tags": [
     "remove_input"
    ]
   },
   "outputs": [],
   "source": [
    "%%capture\n",
    "import warnings\n",
    "warnings.filterwarnings('ignore')\n",
    "\n",
    "import altair as alt\n",
    "import calitp.magics\n",
    "import geopandas as gpd\n",
    "import intake\n",
    "import pandas as pd\n",
    "\n",
    "from IPython.display import display, Markdown, HTML\n",
    "\n",
    "import parallel_corridors_utils\n",
    "import deploy_portfolio_yaml\n",
    "from shared_utils import styleguide, geography_utils\n",
    "from make_stripplot_data import diff_cutoffs\n",
    "\n",
    "catalog = intake.open_catalog(\"./*.yml\")\n",
    "alt.renderers.enable(\"html\")"
   ]
  },
  {
   "cell_type": "code",
   "execution_count": 2,
   "id": "8af2a0c1-f3da-408d-9bea-11d9fbf8695d",
   "metadata": {
    "execution": {
     "iopub.execute_input": "2022-05-12T02:16:15.276676Z",
     "iopub.status.busy": "2022-05-12T02:16:15.276031Z",
     "iopub.status.idle": "2022-05-12T02:16:15.280019Z",
     "shell.execute_reply": "2022-05-12T02:16:15.279547Z"
    },
    "jupyter": {
     "source_hidden": true
    },
    "papermill": {
     "duration": 0.019248,
     "end_time": "2022-05-12T02:16:15.281687",
     "exception": false,
     "start_time": "2022-05-12T02:16:15.262439",
     "status": "completed"
    },
    "tags": [
     "parameters",
     "remove_input"
    ]
   },
   "outputs": [],
   "source": [
    "# parameters cell\n",
    "itp_id = 182"
   ]
  },
  {
   "cell_type": "code",
   "execution_count": 3,
   "id": "33359b06",
   "metadata": {
    "execution": {
     "iopub.execute_input": "2022-05-12T02:16:15.310603Z",
     "iopub.status.busy": "2022-05-12T02:16:15.309813Z",
     "iopub.status.idle": "2022-05-12T02:16:15.314364Z",
     "shell.execute_reply": "2022-05-12T02:16:15.313657Z"
    },
    "jupyter": {
     "source_hidden": true
    },
    "papermill": {
     "duration": 0.019437,
     "end_time": "2022-05-12T02:16:15.316163",
     "exception": false,
     "start_time": "2022-05-12T02:16:15.296726",
     "status": "completed"
    },
    "tags": [
     "injected-parameters",
     "remove_input"
    ]
   },
   "outputs": [],
   "source": [
    "# Parameters\n",
    "district = \"06 - Fresno\"\n",
    "itp_id = 146\n"
   ]
  },
  {
   "cell_type": "code",
   "execution_count": 4,
   "id": "9582aaf4-79ff-412a-b248-8d8d693ebd4f",
   "metadata": {
    "execution": {
     "iopub.execute_input": "2022-05-12T02:16:15.341667Z",
     "iopub.status.busy": "2022-05-12T02:16:15.341409Z",
     "iopub.status.idle": "2022-05-12T02:16:16.646236Z",
     "shell.execute_reply": "2022-05-12T02:16:16.645315Z"
    },
    "jupyter": {
     "source_hidden": true
    },
    "papermill": {
     "duration": 1.320605,
     "end_time": "2022-05-12T02:16:16.648477",
     "exception": false,
     "start_time": "2022-05-12T02:16:15.327872",
     "status": "completed"
    },
    "tags": [
     "remove_input"
    ]
   },
   "outputs": [],
   "source": [
    "df = catalog.competitive_route_variability.read()\n",
    "\n",
    "df = (df[(df.calitp_itp_id == itp_id) & \n",
    "         (df.route_group.notna())]\n",
    "      .rename(columns = {\"route_name_used\": \"route_name\"})\n",
    "      .reset_index(drop=True)\n",
    "     )\n",
    "\n",
    "if itp_id == 182:\n",
    "    df = df.assign(\n",
    "        route_id = df.route_id.str.replace('-13153', '').astype(int)\n",
    "    )"
   ]
  },
  {
   "cell_type": "code",
   "execution_count": 5,
   "id": "33ac4b06-f647-4dce-a625-8f2c1b37cc60",
   "metadata": {
    "execution": {
     "iopub.execute_input": "2022-05-12T02:16:16.676151Z",
     "iopub.status.busy": "2022-05-12T02:16:16.675539Z",
     "iopub.status.idle": "2022-05-12T02:16:16.682424Z",
     "shell.execute_reply": "2022-05-12T02:16:16.681855Z"
    },
    "jupyter": {
     "source_hidden": true
    },
    "papermill": {
     "duration": 0.022837,
     "end_time": "2022-05-12T02:16:16.684120",
     "exception": false,
     "start_time": "2022-05-12T02:16:16.661283",
     "status": "completed"
    },
    "tags": [
     "remove_input"
    ]
   },
   "outputs": [],
   "source": [
    "%%capture_parameters\n",
    "operator_name = df.name.iloc[0]\n",
    "district_number = f\"{df.caltrans_district.iloc[0].split('-')[0].strip()}\"\n",
    "district_name = f\"{df.caltrans_district.iloc[0].split('-')[1].strip().lower().replace(' ', '-')}\"\n",
    "\n",
    "itp_id, operator_name, district_number, district_name"
   ]
  },
  {
   "cell_type": "markdown",
   "id": "65bc6f5c-8348-42ee-b2dd-52057c406852",
   "metadata": {
    "papermill": {
     "duration": 0.012887,
     "end_time": "2022-05-12T02:16:16.713224",
     "exception": false,
     "start_time": "2022-05-12T02:16:16.700337",
     "status": "completed"
    },
    "tags": []
   },
   "source": [
    "# Kern County (ITP ID: 146)"
   ]
  },
  {
   "cell_type": "code",
   "execution_count": 6,
   "id": "a689c1ab-2c6c-4831-8d64-897f5986f571",
   "metadata": {
    "execution": {
     "iopub.execute_input": "2022-05-12T02:16:16.740112Z",
     "iopub.status.busy": "2022-05-12T02:16:16.739602Z",
     "iopub.status.idle": "2022-05-12T02:16:16.745502Z",
     "shell.execute_reply": "2022-05-12T02:16:16.744975Z"
    },
    "jupyter": {
     "source_hidden": true
    },
    "papermill": {
     "duration": 0.02137,
     "end_time": "2022-05-12T02:16:16.747092",
     "exception": false,
     "start_time": "2022-05-12T02:16:16.725722",
     "status": "completed"
    },
    "tags": [
     "remove_input"
    ]
   },
   "outputs": [
    {
     "data": {
      "text/html": [
       "<h1>Competitive & Parallel Routes</h1>"
      ],
      "text/plain": [
       "<IPython.core.display.HTML object>"
      ]
     },
     "metadata": {},
     "output_type": "display_data"
    }
   ],
   "source": [
    "display(HTML(\"<h1>Competitive & Parallel Routes</h1>\")) "
   ]
  },
  {
   "cell_type": "code",
   "execution_count": 7,
   "id": "2cb4d8d5-4760-40e4-85b1-cb833d8bb648",
   "metadata": {
    "execution": {
     "iopub.execute_input": "2022-05-12T02:16:16.774847Z",
     "iopub.status.busy": "2022-05-12T02:16:16.774304Z",
     "iopub.status.idle": "2022-05-12T02:16:26.975783Z",
     "shell.execute_reply": "2022-05-12T02:16:26.974862Z"
    },
    "jupyter": {
     "source_hidden": true
    },
    "papermill": {
     "duration": 10.218828,
     "end_time": "2022-05-12T02:16:26.978510",
     "exception": false,
     "start_time": "2022-05-12T02:16:16.759682",
     "status": "completed"
    },
    "tags": [
     "remove_input"
    ]
   },
   "outputs": [],
   "source": [
    "# Grab parameters for narrative text - clean up formatting here \n",
    "district = df.caltrans_district.iloc[0]\n",
    "formatted_date = pd.to_datetime(parallel_corridors_utils.SELECTED_DATE).strftime('%m-%d-%Y')\n",
    "\n",
    "PCT_COMPETITIVE_THRESHOLD = 0.75\n",
    "PCT_TRIPS_BELOW_CUTOFF = 0.50\n",
    "\n",
    "stats = parallel_corridors_utils.operator_parallel_competitive_stats(\n",
    "    itp_id, PCT_COMPETITIVE_THRESHOLD, PCT_TRIPS_BELOW_CUTOFF)\n",
    "\n",
    "pct_parallel = round(stats['parallel_routes'] / stats['num_routes'] * 100, 1 )\n",
    "pct_competitive =  round(stats['competitive_routes'] / stats['num_routes'] * 100, 1 )\n",
    "pct_viable =  round(stats['viable_competitive_routes'] / stats['num_routes'] * 100, 1 )"
   ]
  },
  {
   "cell_type": "code",
   "execution_count": 8,
   "id": "8bf30c8f-6aa5-47bb-82ae-a906732e81fd",
   "metadata": {
    "execution": {
     "iopub.execute_input": "2022-05-12T02:16:27.010815Z",
     "iopub.status.busy": "2022-05-12T02:16:27.010544Z",
     "iopub.status.idle": "2022-05-12T02:16:27.042041Z",
     "shell.execute_reply": "2022-05-12T02:16:27.041178Z"
    },
    "jupyter": {
     "source_hidden": true
    },
    "papermill": {
     "duration": 0.049657,
     "end_time": "2022-05-12T02:16:27.044417",
     "exception": false,
     "start_time": "2022-05-12T02:16:26.994760",
     "status": "completed"
    },
    "tags": [
     "remove_input"
    ]
   },
   "outputs": [],
   "source": [
    "# Display a table of route-level stats for each route_group\n",
    "# Displaying route_name makes chart too crowded\n",
    "\n",
    "# Get route stats (for entire df)\n",
    "route_stats = parallel_corridors_utils.competitive_route_level_stats(df)\n",
    "    \n",
    "def style_route_stats(df, top15_routes):\n",
    "    df = df[df.route_id.isin(top15_routes)]\n",
    "    \n",
    "    # Rename columns for display\n",
    "    rename_cols = {\n",
    "        \"route_id\": \"Route ID\",\n",
    "        \"route_name\": \"Route Name\",\n",
    "        \"route_group\": \"Route Group\",\n",
    "        \"num_trips\": \"# trips\",\n",
    "        \"daily_avg_freq\": \"Daily Avg Freq (trips per hr)\",\n",
    "        \"pm_peak_freq\": \"PM Peak Avg Freq (trips per hr)\",\n",
    "        \"percentiles\": \"25th, 50th, 75th ptile (hrs)\",\n",
    "    }\n",
    "    \n",
    "    # Style it\n",
    "    drop_cols = [\n",
    "        \"calitp_itp_id\", \"below_cutoff\", \"route_group\", \n",
    "        \"pct_trips_competitive\", \"pct_below_cutoff\",\n",
    "        \"p25\", \"p50\", \"p75\",\n",
    "    ]\n",
    "    \n",
    "    # Change alignment for some columns\n",
    "    # https://stackoverflow.com/questions/59453091/left-align-the-first-column-and-center-align-the-other-columns-in-a-pandas-table\n",
    "    df_style = (df.sort_values(\n",
    "        [\"pct_trips_competitive\", \"below_cutoff\", \n",
    "        \"pct_below_cutoff\", \"route_id\"], \n",
    "        ascending=[False, False, False, True])\n",
    "           .drop(columns = drop_cols)\n",
    "           .rename(columns = rename_cols)\n",
    "           .style.format(\n",
    "               subset=['Daily Avg Freq (trips per hr)', \n",
    "                       'PM Peak Avg Freq (trips per hr)'], \n",
    "               **{'formatter': '{:,.3}'})\n",
    "                .set_properties(subset=['Route ID', 'Route Name'], \n",
    "                                **{'text-align': 'left'})\n",
    "                .set_properties(subset=['# trips', 'Daily Avg Freq (trips per hr)', \n",
    "                                       'PM Peak Avg Freq (trips per hr)'], \n",
    "                               **{'text-align': 'center'})\n",
    "                .set_table_styles([dict(selector='th', \n",
    "                                        props=[('text-align', 'center')])\n",
    "                                        ])\n",
    "           .hide(axis=\"index\")\n",
    "           .to_html()\n",
    "          )\n",
    "    \n",
    "    display(HTML(\"<h4>Route Stats</h4>\"))\n",
    "    display(HTML(df_style))"
   ]
  },
  {
   "cell_type": "markdown",
   "id": "ab667928-5274-4490-82d9-4c39293209a4",
   "metadata": {
    "papermill": {
     "duration": 0.013692,
     "end_time": "2022-05-12T02:16:27.071675",
     "exception": false,
     "start_time": "2022-05-12T02:16:27.057983",
     "status": "completed"
    },
    "tags": []
   },
   "source": [
    "## Quick Stats"
   ]
  },
  {
   "cell_type": "code",
   "execution_count": 9,
   "id": "0416509d-dc62-4165-b62e-64f8b26e8b8e",
   "metadata": {
    "execution": {
     "iopub.execute_input": "2022-05-12T02:16:27.102243Z",
     "iopub.status.busy": "2022-05-12T02:16:27.101922Z",
     "iopub.status.idle": "2022-05-12T02:16:27.110271Z",
     "shell.execute_reply": "2022-05-12T02:16:27.109542Z"
    },
    "jupyter": {
     "source_hidden": true
    },
    "papermill": {
     "duration": 0.027076,
     "end_time": "2022-05-12T02:16:27.112245",
     "exception": false,
     "start_time": "2022-05-12T02:16:27.085169",
     "status": "completed"
    },
    "tags": [
     "remove_input"
    ]
   },
   "outputs": [
    {
     "data": {
      "text/markdown": [
       "**Bus routes in service: 9**<br>**Parallel routes** to State Highway Network (SHN): **8 routes (88.9%)**<br>**Competitive routes** against car travel (within 2x car travel time): **6 routes (66.7%)**<br>**Viable competitive routes** against car travel (within 2x car travel time and within 20, 30, or 40 min cut-off): **3 routes (33.3%)**"
      ],
      "text/plain": [
       "<IPython.core.display.Markdown object>"
      ]
     },
     "metadata": {},
     "output_type": "display_data"
    }
   ],
   "source": [
    "display(\n",
    "    Markdown(\n",
    "        f\"**Bus routes in service: {stats['num_routes']}**\"\n",
    "        \"<br>**Parallel routes** to State Highway Network (SHN): \"\n",
    "        f\"**{stats['parallel_routes']} routes ({pct_parallel}%)**\"\n",
    "        \"<br>**Competitive routes** against car travel (within 2x car travel time): \"\n",
    "        f\"**{stats['competitive_routes']} routes ({pct_competitive}%)**\"\n",
    "        \"<br>**Viable competitive routes** against car travel \"\n",
    "        \"(within 2x car travel time and within 20, 30, or 40 min cut-off): \"\n",
    "        f\"**{stats['viable_competitive_routes']} routes ({pct_viable}%)**\"\n",
    "    )\n",
    ")"
   ]
  },
  {
   "cell_type": "code",
   "execution_count": 10,
   "id": "f9d6ab58-f0ee-460c-b6de-657490e1f386",
   "metadata": {
    "execution": {
     "iopub.execute_input": "2022-05-12T02:16:27.142004Z",
     "iopub.status.busy": "2022-05-12T02:16:27.141453Z",
     "iopub.status.idle": "2022-05-12T02:16:27.148297Z",
     "shell.execute_reply": "2022-05-12T02:16:27.147754Z"
    },
    "jupyter": {
     "source_hidden": true
    },
    "papermill": {
     "duration": 0.02361,
     "end_time": "2022-05-12T02:16:27.149973",
     "exception": false,
     "start_time": "2022-05-12T02:16:27.126363",
     "status": "completed"
    },
    "tags": [
     "remove_input"
    ]
   },
   "outputs": [],
   "source": [
    "def set_yaxis_range(df, y_col):\n",
    "    Y_MIN = df[y_col].min()\n",
    "    Y_MAX = df[y_col].max()\n",
    "    \n",
    "    return Y_MIN, Y_MAX\n",
    "\n",
    "# Rather than set it according to the operator, which can vary,\n",
    "# just use set thresholds for each group\n",
    "def top15_routes(df, route_group):\n",
    "    # grab top 15 routes where majority of trips are below that cut-off \n",
    "    # but show 15 max, otherwise, show less, since these won't be as interesting to operators\n",
    "    df2 = (df[(df.route_group==route_group) &\n",
    "              (df.pct_below_cutoff >= PCT_TRIPS_BELOW_CUTOFF)]\n",
    "           .sort_values([\"calitp_itp_id\", \"below_cutoff\", \n",
    "                         \"pct_below_cutoff\", \"route_id\"],\n",
    "                        ascending = [True, False, False, True]\n",
    "                       )\n",
    "           .drop_duplicates(subset=[\"calitp_itp_id\", \"route_id\"])\n",
    "          ).head(15)\n",
    "    \n",
    "    return list(df2.route_id)"
   ]
  },
  {
   "cell_type": "code",
   "execution_count": 11,
   "id": "cf36d559-3349-4144-8086-8ac9ce937a5a",
   "metadata": {
    "execution": {
     "iopub.execute_input": "2022-05-12T02:16:27.178805Z",
     "iopub.status.busy": "2022-05-12T02:16:27.178342Z",
     "iopub.status.idle": "2022-05-12T02:16:27.183456Z",
     "shell.execute_reply": "2022-05-12T02:16:27.182922Z"
    },
    "jupyter": {
     "source_hidden": true
    },
    "papermill": {
     "duration": 0.026121,
     "end_time": "2022-05-12T02:16:27.189645",
     "exception": false,
     "start_time": "2022-05-12T02:16:27.163524",
     "status": "completed"
    },
    "tags": [
     "remove_input"
    ]
   },
   "outputs": [],
   "source": [
    "def caption_with_cutoff(cutoff):\n",
    "    sentence = (\n",
    "        f\"<br>These are routes that have **at least {int(PCT_TRIPS_BELOW_CUTOFF*100)}% \"\n",
    "        \"of their trips take no more than an \"\n",
    "        f\"additional {cutoff} min** compared to a car \"\n",
    "        \"(up to 15 routes) are shown.\"\n",
    "        \"<br>Within each route group, routes are sorted in descending order \"\n",
    "        \"by % competitive trips and # trips below the additional time cut-off.\"\n",
    "    )\n",
    "    return sentence\n",
    "\n",
    "CAPTIONS_DICT = {\n",
    "    \"short\": caption_with_cutoff(diff_cutoffs['short']),\n",
    "    \"medium\": caption_with_cutoff(diff_cutoffs['medium']),\n",
    "    \"long\": caption_with_cutoff(diff_cutoffs['long']),\n",
    "}"
   ]
  },
  {
   "cell_type": "code",
   "execution_count": 12,
   "id": "e4306d58-6944-47e9-afef-5d5b524c751f",
   "metadata": {
    "execution": {
     "iopub.execute_input": "2022-05-12T02:16:27.220327Z",
     "iopub.status.busy": "2022-05-12T02:16:27.219721Z",
     "iopub.status.idle": "2022-05-12T02:16:27.226699Z",
     "shell.execute_reply": "2022-05-12T02:16:27.226227Z"
    },
    "jupyter": {
     "source_hidden": true
    },
    "papermill": {
     "duration": 0.024582,
     "end_time": "2022-05-12T02:16:27.228448",
     "exception": false,
     "start_time": "2022-05-12T02:16:27.203866",
     "status": "completed"
    },
    "tags": [
     "remove_input"
    ]
   },
   "outputs": [],
   "source": [
    "def setup_charts(df, PCT_COMPETITIVE_THRESHOLD, route_group):\n",
    "    # Set up df for charting (cut-off at some threshold to show most competitive routes)\n",
    "    plot_me = (df[df.pct_trips_competitive > PCT_COMPETITIVE_THRESHOLD]\n",
    "           .drop(columns = \"geometry\")\n",
    "    )\n",
    "    \n",
    "    # Set y-ranges to be the same across route_groups, \n",
    "    # otherwise charts fluctuate too much, even within operator\n",
    "    y_col1 = \"bus_multiplier\"\n",
    "    Y_MIN1, Y_MAX1 = set_yaxis_range(plot_me, y_col1)\n",
    "\n",
    "    y_col2 = \"bus_difference\"\n",
    "    Y_MIN2, Y_MAX2 = set_yaxis_range(plot_me, y_col2)\n",
    "    \n",
    "    # Grab the routes to plot\n",
    "    subset_routes = top15_routes(plot_me, route_group)\n",
    "        \n",
    "    # Display charts\n",
    "    multiplier_chart = parallel_corridors_utils.make_stripplot(\n",
    "        plot_me[plot_me.route_id.isin(subset_routes)], \n",
    "        y_col1, Y_MIN = Y_MIN1, Y_MAX = Y_MAX1\n",
    "    )\n",
    "    \n",
    "    difference_chart = parallel_corridors_utils.make_stripplot(\n",
    "        plot_me[plot_me.route_id.isin(subset_routes)], \n",
    "        y_col2, Y_MIN = Y_MIN2, Y_MAX = Y_MAX2\n",
    "    )\n",
    "    \n",
    "    return subset_routes, multiplier_chart, difference_chart            "
   ]
  },
  {
   "cell_type": "code",
   "execution_count": 13,
   "id": "33a710e8-504c-4942-aa75-ff69f216956e",
   "metadata": {
    "execution": {
     "iopub.execute_input": "2022-05-12T02:16:27.259450Z",
     "iopub.status.busy": "2022-05-12T02:16:27.258796Z",
     "iopub.status.idle": "2022-05-12T02:16:27.264211Z",
     "shell.execute_reply": "2022-05-12T02:16:27.263713Z"
    },
    "jupyter": {
     "source_hidden": true
    },
    "papermill": {
     "duration": 0.022852,
     "end_time": "2022-05-12T02:16:27.265856",
     "exception": false,
     "start_time": "2022-05-12T02:16:27.243004",
     "status": "completed"
    },
    "tags": [
     "remove_input"
    ]
   },
   "outputs": [],
   "source": [
    "def display_charts_for_route_group(df, route_group):    \n",
    "    subset_routes, mult, diff  = setup_charts(df, PCT_COMPETITIVE_THRESHOLD, route_group)\n",
    "\n",
    "    if len(subset_routes) > 0:\n",
    "        display(Markdown(f\"{CAPTIONS_DICT[route_group]}\"))\n",
    "\n",
    "        display(mult)\n",
    "        display(diff)\n",
    "        \n",
    "        # Display route stats for just plotted routes\n",
    "        style_route_stats(route_stats, subset_routes)"
   ]
  },
  {
   "cell_type": "markdown",
   "id": "525f9b38-072b-46d1-96a8-1aa4b038357c",
   "metadata": {
    "papermill": {
     "duration": 0.020555,
     "end_time": "2022-05-12T02:16:27.300714",
     "exception": false,
     "start_time": "2022-05-12T02:16:27.280159",
     "status": "completed"
    },
    "tags": []
   },
   "source": [
    "## Viable Competitive Routes\n",
    "### Short Routes (< 1 hr)"
   ]
  },
  {
   "cell_type": "code",
   "execution_count": 14,
   "id": "57f7084c-2cf7-45c6-ba08-1609e0bd6ca5",
   "metadata": {
    "execution": {
     "iopub.execute_input": "2022-05-12T02:16:27.332655Z",
     "iopub.status.busy": "2022-05-12T02:16:27.332055Z",
     "iopub.status.idle": "2022-05-12T02:16:27.654109Z",
     "shell.execute_reply": "2022-05-12T02:16:27.653386Z"
    },
    "jupyter": {
     "source_hidden": true
    },
    "papermill": {
     "duration": 0.339923,
     "end_time": "2022-05-12T02:16:27.656004",
     "exception": false,
     "start_time": "2022-05-12T02:16:27.316081",
     "status": "completed"
    },
    "tags": [
     "remove_input"
    ]
   },
   "outputs": [
    {
     "data": {
      "text/markdown": [
       "<br>These are routes that have **at least 50% of their trips take no more than an additional 20 min** compared to a car (up to 15 routes) are shown.<br>Within each route group, routes are sorted in descending order by % competitive trips and # trips below the additional time cut-off."
      ],
      "text/plain": [
       "<IPython.core.display.Markdown object>"
      ]
     },
     "metadata": {},
     "output_type": "display_data"
    },
    {
     "data": {
      "text/html": [
       "\n",
       "<div id=\"altair-viz-2138214bd66645099ad59413e5ffe188\"></div>\n",
       "<script type=\"text/javascript\">\n",
       "  var VEGA_DEBUG = (typeof VEGA_DEBUG == \"undefined\") ? {} : VEGA_DEBUG;\n",
       "  (function(spec, embedOpt){\n",
       "    let outputDiv = document.currentScript.previousElementSibling;\n",
       "    if (outputDiv.id !== \"altair-viz-2138214bd66645099ad59413e5ffe188\") {\n",
       "      outputDiv = document.getElementById(\"altair-viz-2138214bd66645099ad59413e5ffe188\");\n",
       "    }\n",
       "    const paths = {\n",
       "      \"vega\": \"https://cdn.jsdelivr.net/npm//vega@5?noext\",\n",
       "      \"vega-lib\": \"https://cdn.jsdelivr.net/npm//vega-lib?noext\",\n",
       "      \"vega-lite\": \"https://cdn.jsdelivr.net/npm//vega-lite@4.17.0?noext\",\n",
       "      \"vega-embed\": \"https://cdn.jsdelivr.net/npm//vega-embed@6?noext\",\n",
       "    };\n",
       "\n",
       "    function maybeLoadScript(lib, version) {\n",
       "      var key = `${lib.replace(\"-\", \"\")}_version`;\n",
       "      return (VEGA_DEBUG[key] == version) ?\n",
       "        Promise.resolve(paths[lib]) :\n",
       "        new Promise(function(resolve, reject) {\n",
       "          var s = document.createElement('script');\n",
       "          document.getElementsByTagName(\"head\")[0].appendChild(s);\n",
       "          s.async = true;\n",
       "          s.onload = () => {\n",
       "            VEGA_DEBUG[key] = version;\n",
       "            return resolve(paths[lib]);\n",
       "          };\n",
       "          s.onerror = () => reject(`Error loading script: ${paths[lib]}`);\n",
       "          s.src = paths[lib];\n",
       "        });\n",
       "    }\n",
       "\n",
       "    function showError(err) {\n",
       "      outputDiv.innerHTML = `<div class=\"error\" style=\"color:red;\">${err}</div>`;\n",
       "      throw err;\n",
       "    }\n",
       "\n",
       "    function displayChart(vegaEmbed) {\n",
       "      vegaEmbed(outputDiv, spec, embedOpt)\n",
       "        .catch(err => showError(`Javascript Error: ${err.message}<br>This usually means there's a typo in your chart specification. See the javascript console for the full traceback.`));\n",
       "    }\n",
       "\n",
       "    if(typeof define === \"function\" && define.amd) {\n",
       "      requirejs.config({paths});\n",
       "      require([\"vega-embed\"], displayChart, err => showError(`Error loading script: ${err.message}`));\n",
       "    } else {\n",
       "      maybeLoadScript(\"vega\", \"5\")\n",
       "        .then(() => maybeLoadScript(\"vega-lite\", \"4.17.0\"))\n",
       "        .then(() => maybeLoadScript(\"vega-embed\", \"6\"))\n",
       "        .catch(showError)\n",
       "        .then(() => displayChart(vegaEmbed));\n",
       "    }\n",
       "  })({\"config\": {\"view\": {\"continuousWidth\": 400, \"continuousHeight\": 300, \"stroke\": null}, \"facet\": {\"spacing\": 0}}, \"data\": {\"name\": \"data-45a87b04d4a685ac53e0ee671bb36884\"}, \"facet\": {\"column\": {\"field\": \"route_id\", \"sort\": [\"1366\"], \"title\": \"Route ID\", \"type\": \"nominal\"}}, \"spec\": {\"layer\": [{\"mark\": \"rule\", \"encoding\": {\"color\": {\"value\": \"black\"}, \"y\": {\"field\": \"cutoff\", \"type\": \"quantitative\"}}, \"selection\": {\"selector001\": {\"type\": \"interval\", \"bind\": \"scales\", \"encodings\": [\"x\", \"y\"]}}}, {\"mark\": {\"type\": \"point\", \"opacity\": 0.65, \"size\": 12, \"strokeWidth\": 1.1}, \"encoding\": {\"color\": {\"field\": \"time_of_day\", \"scale\": {\"range\": [\"#136C97\", \"#E16B26\", \"#F6BF16\", \"#00896B\", \"#7790A3\", \"#5B559C\"]}, \"sort\": [\"AM Peak\", \"Midday\", \"PM Peak\", \"Owl Service\"], \"title\": \"Time of Day\", \"type\": \"nominal\"}, \"tooltip\": [{\"field\": \"route_id\", \"type\": \"nominal\"}, {\"field\": \"route_name\", \"type\": \"nominal\"}, {\"field\": \"trip_id\", \"type\": \"nominal\"}, {\"field\": \"service_hours\", \"type\": \"quantitative\"}, {\"field\": \"car_duration_hours\", \"type\": \"quantitative\"}, {\"field\": \"bus_multiplier\", \"type\": \"quantitative\"}, {\"field\": \"bus_difference\", \"type\": \"quantitative\"}, {\"field\": \"num_trips\", \"type\": \"quantitative\"}, {\"field\": \"num_competitive\", \"type\": \"quantitative\"}, {\"field\": \"pct_trips_competitive\", \"type\": \"quantitative\"}, {\"field\": \"p25\", \"type\": \"quantitative\"}, {\"field\": \"p50\", \"type\": \"quantitative\"}, {\"field\": \"p75\", \"type\": \"quantitative\"}], \"x\": {\"axis\": {\"grid\": false, \"labels\": false, \"ticks\": true, \"values\": [0]}, \"field\": \"jitter\", \"scale\": {}, \"title\": null, \"type\": \"quantitative\"}, \"y\": {\"field\": \"bus_multiplier\", \"scale\": {\"domain\": [-0.25, 3.0]}, \"title\": \"Ratio of Bus to Car Travel Time\", \"type\": \"quantitative\"}}, \"transform\": [{\"calculate\": \"sqrt(-2*log(random()))*cos(2*PI*random())\", \"as\": \"jitter\"}], \"width\": 50}, {\"layer\": [{\"mark\": {\"type\": \"point\", \"opacity\": 0.6, \"size\": 20, \"strokeWidth\": 1.3}, \"encoding\": {\"color\": {\"value\": \"#323434\"}, \"y\": {\"field\": \"bus_multiplier\", \"type\": \"quantitative\"}}, \"transform\": [{\"filter\": \"(datum.p50_trip === 1)\"}]}, {\"mark\": {\"type\": \"text\", \"align\": \"center\", \"baseline\": \"middle\"}, \"encoding\": {\"color\": {\"value\": \"black\"}, \"text\": {\"field\": \"pct_trips_competitive\", \"format\": \".0%\", \"type\": \"quantitative\"}, \"tooltip\": [{\"field\": \"route_id\", \"type\": \"nominal\"}, {\"field\": \"route_name\", \"type\": \"nominal\"}, {\"field\": \"trip_id\", \"type\": \"nominal\"}, {\"field\": \"service_hours\", \"type\": \"quantitative\"}, {\"field\": \"car_duration_hours\", \"type\": \"quantitative\"}, {\"field\": \"bus_multiplier\", \"type\": \"quantitative\"}, {\"field\": \"bus_difference\", \"type\": \"quantitative\"}, {\"field\": \"num_trips\", \"type\": \"quantitative\"}, {\"field\": \"num_competitive\", \"type\": \"quantitative\"}, {\"field\": \"pct_trips_competitive\", \"type\": \"quantitative\"}, {\"field\": \"p25\", \"type\": \"quantitative\"}, {\"field\": \"p50\", \"type\": \"quantitative\"}, {\"field\": \"p75\", \"type\": \"quantitative\"}], \"x\": {\"value\": 30}, \"y\": {\"value\": 15}}, \"transform\": [{\"calculate\": \"sqrt(-2*log(random()))*cos(2*PI*random())\", \"as\": \"jitter\"}, {\"filter\": \"(datum.fastest_trip === 1)\"}]}]}]}, \"resolve\": {\"scale\": {\"y\": \"shared\"}}, \"title\": \"Ratio of Bus to Car Travel Time\", \"$schema\": \"https://vega.github.io/schema/vega-lite/v4.17.0.json\", \"datasets\": {\"data-45a87b04d4a685ac53e0ee671bb36884\": [{\"calitp_itp_id\": 146, \"trip_key\": 1560493323179131979, \"trip_id\": \"t_1244355_b_33402_tn_0\", \"shape_id\": \"p_3081\", \"route_id\": \"1366\", \"service_hours\": 0.83, \"trip_first_departure_ts\": 63000, \"trip_last_arrival_ts\": 66000, \"departure_hour\": 17, \"time_of_day\": \"PM Peak\", \"p25\": 0.83, \"p50\": 0.83, \"p75\": 0.83, \"p50_trip\": 1, \"fastest_trip\": 0, \"car_duration_hours\": 0.61, \"competitive_route\": 1, \"bus_multiplier\": 1.36, \"bus_difference\": 13.2, \"num_trips\": 8, \"num_competitive\": 8, \"pct_trips_competitive\": 1.0, \"bus_difference_spread\": 0.0, \"route_group\": \"short\", \"max_trip_hrs\": 0.83, \"max_trip_route_group\": 0.83, \"below_cutoff\": 8, \"pct_below_cutoff\": 1.0, \"name\": \"Kern County\", \"caltrans_district\": \"06 - Fresno\", \"drmt_organization_name\": null, \"route_name\": \"Lamont-Bakersfield South\", \"cutoff2\": 20, \"cutoff\": 2}, {\"calitp_itp_id\": 146, \"trip_key\": 6588636468876049749, \"trip_id\": \"t_1244360_b_33402_tn_0\", \"shape_id\": \"p_3043\", \"route_id\": \"1366\", \"service_hours\": 0.83, \"trip_first_departure_ts\": 33600, \"trip_last_arrival_ts\": 36600, \"departure_hour\": 9, \"time_of_day\": \"AM Peak\", \"p25\": 0.83, \"p50\": 0.83, \"p75\": 0.83, \"p50_trip\": 1, \"fastest_trip\": 0, \"car_duration_hours\": 0.61, \"competitive_route\": 1, \"bus_multiplier\": 1.36, \"bus_difference\": 13.2, \"num_trips\": 8, \"num_competitive\": 8, \"pct_trips_competitive\": 1.0, \"bus_difference_spread\": 0.0, \"route_group\": \"short\", \"max_trip_hrs\": 0.83, \"max_trip_route_group\": 0.83, \"below_cutoff\": 8, \"pct_below_cutoff\": 1.0, \"name\": \"Kern County\", \"caltrans_district\": \"06 - Fresno\", \"drmt_organization_name\": null, \"route_name\": \"Lamont-Bakersfield South\", \"cutoff2\": 20, \"cutoff\": 2}, {\"calitp_itp_id\": 146, \"trip_key\": 5172112710181939388, \"trip_id\": \"t_1244359_b_33402_tn_0\", \"shape_id\": \"p_3043\", \"route_id\": \"1366\", \"service_hours\": 0.83, \"trip_first_departure_ts\": 49800, \"trip_last_arrival_ts\": 52800, \"departure_hour\": 13, \"time_of_day\": \"Midday\", \"p25\": 0.83, \"p50\": 0.83, \"p75\": 0.83, \"p50_trip\": 1, \"fastest_trip\": 0, \"car_duration_hours\": 0.61, \"competitive_route\": 1, \"bus_multiplier\": 1.36, \"bus_difference\": 13.2, \"num_trips\": 8, \"num_competitive\": 8, \"pct_trips_competitive\": 1.0, \"bus_difference_spread\": 0.0, \"route_group\": \"short\", \"max_trip_hrs\": 0.83, \"max_trip_route_group\": 0.83, \"below_cutoff\": 8, \"pct_below_cutoff\": 1.0, \"name\": \"Kern County\", \"caltrans_district\": \"06 - Fresno\", \"drmt_organization_name\": null, \"route_name\": \"Lamont-Bakersfield South\", \"cutoff2\": 20, \"cutoff\": 2}, {\"calitp_itp_id\": 146, \"trip_key\": -4591111831172938466, \"trip_id\": \"t_1244362_b_33402_tn_0\", \"shape_id\": \"p_3081\", \"route_id\": \"1366\", \"service_hours\": 0.83, \"trip_first_departure_ts\": 45900, \"trip_last_arrival_ts\": 48900, \"departure_hour\": 12, \"time_of_day\": \"Midday\", \"p25\": 0.83, \"p50\": 0.83, \"p75\": 0.83, \"p50_trip\": 1, \"fastest_trip\": 0, \"car_duration_hours\": 0.61, \"competitive_route\": 1, \"bus_multiplier\": 1.36, \"bus_difference\": 13.2, \"num_trips\": 8, \"num_competitive\": 8, \"pct_trips_competitive\": 1.0, \"bus_difference_spread\": 0.0, \"route_group\": \"short\", \"max_trip_hrs\": 0.83, \"max_trip_route_group\": 0.83, \"below_cutoff\": 8, \"pct_below_cutoff\": 1.0, \"name\": \"Kern County\", \"caltrans_district\": \"06 - Fresno\", \"drmt_organization_name\": null, \"route_name\": \"Lamont-Bakersfield South\", \"cutoff2\": 20, \"cutoff\": 2}, {\"calitp_itp_id\": 146, \"trip_key\": -4526751177031150232, \"trip_id\": \"t_1244354_b_33402_tn_0\", \"shape_id\": \"p_3081\", \"route_id\": \"1366\", \"service_hours\": 0.83, \"trip_first_departure_ts\": 27900, \"trip_last_arrival_ts\": 30900, \"departure_hour\": 7, \"time_of_day\": \"AM Peak\", \"p25\": 0.83, \"p50\": 0.83, \"p75\": 0.83, \"p50_trip\": 1, \"fastest_trip\": 0, \"car_duration_hours\": 0.61, \"competitive_route\": 1, \"bus_multiplier\": 1.36, \"bus_difference\": 13.2, \"num_trips\": 8, \"num_competitive\": 8, \"pct_trips_competitive\": 1.0, \"bus_difference_spread\": 0.0, \"route_group\": \"short\", \"max_trip_hrs\": 0.83, \"max_trip_route_group\": 0.83, \"below_cutoff\": 8, \"pct_below_cutoff\": 1.0, \"name\": \"Kern County\", \"caltrans_district\": \"06 - Fresno\", \"drmt_organization_name\": null, \"route_name\": \"Lamont-Bakersfield South\", \"cutoff2\": 20, \"cutoff\": 2}, {\"calitp_itp_id\": 146, \"trip_key\": 8294262901469549474, \"trip_id\": \"t_1244357_b_33402_tn_0\", \"shape_id\": \"p_3043\", \"route_id\": \"1366\", \"service_hours\": 0.83, \"trip_first_departure_ts\": 59100, \"trip_last_arrival_ts\": 62100, \"departure_hour\": 16, \"time_of_day\": \"Midday\", \"p25\": 0.83, \"p50\": 0.83, \"p75\": 0.83, \"p50_trip\": 1, \"fastest_trip\": 0, \"car_duration_hours\": 0.61, \"competitive_route\": 1, \"bus_multiplier\": 1.36, \"bus_difference\": 13.2, \"num_trips\": 8, \"num_competitive\": 8, \"pct_trips_competitive\": 1.0, \"bus_difference_spread\": 0.0, \"route_group\": \"short\", \"max_trip_hrs\": 0.83, \"max_trip_route_group\": 0.83, \"below_cutoff\": 8, \"pct_below_cutoff\": 1.0, \"name\": \"Kern County\", \"caltrans_district\": \"06 - Fresno\", \"drmt_organization_name\": null, \"route_name\": \"Lamont-Bakersfield South\", \"cutoff2\": 20, \"cutoff\": 2}, {\"calitp_itp_id\": 146, \"trip_key\": -5170283710749819067, \"trip_id\": \"t_1244358_b_33402_tn_0\", \"shape_id\": \"p_3081\", \"route_id\": \"1366\", \"service_hours\": 0.83, \"trip_first_departure_ts\": 53700, \"trip_last_arrival_ts\": 56700, \"departure_hour\": 14, \"time_of_day\": \"Midday\", \"p25\": 0.83, \"p50\": 0.83, \"p75\": 0.83, \"p50_trip\": 1, \"fastest_trip\": 0, \"car_duration_hours\": 0.61, \"competitive_route\": 1, \"bus_multiplier\": 1.36, \"bus_difference\": 13.2, \"num_trips\": 8, \"num_competitive\": 8, \"pct_trips_competitive\": 1.0, \"bus_difference_spread\": 0.0, \"route_group\": \"short\", \"max_trip_hrs\": 0.83, \"max_trip_route_group\": 0.83, \"below_cutoff\": 8, \"pct_below_cutoff\": 1.0, \"name\": \"Kern County\", \"caltrans_district\": \"06 - Fresno\", \"drmt_organization_name\": null, \"route_name\": \"Lamont-Bakersfield South\", \"cutoff2\": 20, \"cutoff\": 2}, {\"calitp_itp_id\": 146, \"trip_key\": -7985887285849281878, \"trip_id\": \"t_2003617_b_33402_tn_0\", \"shape_id\": \"p_3043\", \"route_id\": \"1366\", \"service_hours\": 0.83, \"trip_first_departure_ts\": 66600, \"trip_last_arrival_ts\": 69600, \"departure_hour\": 18, \"time_of_day\": \"PM Peak\", \"p25\": 0.83, \"p50\": 0.83, \"p75\": 0.83, \"p50_trip\": 1, \"fastest_trip\": 1, \"car_duration_hours\": 0.61, \"competitive_route\": 1, \"bus_multiplier\": 1.36, \"bus_difference\": 13.2, \"num_trips\": 8, \"num_competitive\": 8, \"pct_trips_competitive\": 1.0, \"bus_difference_spread\": 0.0, \"route_group\": \"short\", \"max_trip_hrs\": 0.83, \"max_trip_route_group\": 0.83, \"below_cutoff\": 8, \"pct_below_cutoff\": 1.0, \"name\": \"Kern County\", \"caltrans_district\": \"06 - Fresno\", \"drmt_organization_name\": null, \"route_name\": \"Lamont-Bakersfield South\", \"cutoff2\": 20, \"cutoff\": 2}]}}, {\"mode\": \"vega-lite\"});\n",
       "</script>"
      ],
      "text/plain": [
       "alt.FacetChart(...)"
      ]
     },
     "metadata": {},
     "output_type": "display_data"
    },
    {
     "data": {
      "text/html": [
       "\n",
       "<div id=\"altair-viz-682e9257b6ad4e2ea66eb8e009a2789a\"></div>\n",
       "<script type=\"text/javascript\">\n",
       "  var VEGA_DEBUG = (typeof VEGA_DEBUG == \"undefined\") ? {} : VEGA_DEBUG;\n",
       "  (function(spec, embedOpt){\n",
       "    let outputDiv = document.currentScript.previousElementSibling;\n",
       "    if (outputDiv.id !== \"altair-viz-682e9257b6ad4e2ea66eb8e009a2789a\") {\n",
       "      outputDiv = document.getElementById(\"altair-viz-682e9257b6ad4e2ea66eb8e009a2789a\");\n",
       "    }\n",
       "    const paths = {\n",
       "      \"vega\": \"https://cdn.jsdelivr.net/npm//vega@5?noext\",\n",
       "      \"vega-lib\": \"https://cdn.jsdelivr.net/npm//vega-lib?noext\",\n",
       "      \"vega-lite\": \"https://cdn.jsdelivr.net/npm//vega-lite@4.17.0?noext\",\n",
       "      \"vega-embed\": \"https://cdn.jsdelivr.net/npm//vega-embed@6?noext\",\n",
       "    };\n",
       "\n",
       "    function maybeLoadScript(lib, version) {\n",
       "      var key = `${lib.replace(\"-\", \"\")}_version`;\n",
       "      return (VEGA_DEBUG[key] == version) ?\n",
       "        Promise.resolve(paths[lib]) :\n",
       "        new Promise(function(resolve, reject) {\n",
       "          var s = document.createElement('script');\n",
       "          document.getElementsByTagName(\"head\")[0].appendChild(s);\n",
       "          s.async = true;\n",
       "          s.onload = () => {\n",
       "            VEGA_DEBUG[key] = version;\n",
       "            return resolve(paths[lib]);\n",
       "          };\n",
       "          s.onerror = () => reject(`Error loading script: ${paths[lib]}`);\n",
       "          s.src = paths[lib];\n",
       "        });\n",
       "    }\n",
       "\n",
       "    function showError(err) {\n",
       "      outputDiv.innerHTML = `<div class=\"error\" style=\"color:red;\">${err}</div>`;\n",
       "      throw err;\n",
       "    }\n",
       "\n",
       "    function displayChart(vegaEmbed) {\n",
       "      vegaEmbed(outputDiv, spec, embedOpt)\n",
       "        .catch(err => showError(`Javascript Error: ${err.message}<br>This usually means there's a typo in your chart specification. See the javascript console for the full traceback.`));\n",
       "    }\n",
       "\n",
       "    if(typeof define === \"function\" && define.amd) {\n",
       "      requirejs.config({paths});\n",
       "      require([\"vega-embed\"], displayChart, err => showError(`Error loading script: ${err.message}`));\n",
       "    } else {\n",
       "      maybeLoadScript(\"vega\", \"5\")\n",
       "        .then(() => maybeLoadScript(\"vega-lite\", \"4.17.0\"))\n",
       "        .then(() => maybeLoadScript(\"vega-embed\", \"6\"))\n",
       "        .catch(showError)\n",
       "        .then(() => displayChart(vegaEmbed));\n",
       "    }\n",
       "  })({\"config\": {\"view\": {\"continuousWidth\": 400, \"continuousHeight\": 300, \"stroke\": null}, \"facet\": {\"spacing\": 0}}, \"data\": {\"name\": \"data-1045b7e1d46d877422ee99cb7c17e778\"}, \"facet\": {\"column\": {\"field\": \"route_id\", \"sort\": [\"1366\"], \"title\": \"Route ID\", \"type\": \"nominal\"}}, \"spec\": {\"layer\": [{\"mark\": \"rule\", \"encoding\": {\"color\": {\"value\": \"black\"}, \"y\": {\"field\": \"cutoff\", \"type\": \"quantitative\"}}, \"selection\": {\"selector002\": {\"type\": \"interval\", \"bind\": \"scales\", \"encodings\": [\"x\", \"y\"]}}}, {\"mark\": {\"type\": \"rule\", \"strokeDash\": [3, 3]}, \"encoding\": {\"color\": {\"value\": \"#323434\"}, \"y\": {\"field\": \"cutoff2\", \"type\": \"quantitative\"}}}, {\"mark\": {\"type\": \"point\", \"opacity\": 0.65, \"size\": 12, \"strokeWidth\": 1.1}, \"encoding\": {\"color\": {\"field\": \"time_of_day\", \"scale\": {\"range\": [\"#136C97\", \"#E16B26\", \"#F6BF16\", \"#00896B\", \"#7790A3\", \"#5B559C\"]}, \"sort\": [\"AM Peak\", \"Midday\", \"PM Peak\", \"Owl Service\"], \"title\": \"Time of Day\", \"type\": \"nominal\"}, \"tooltip\": [{\"field\": \"route_id\", \"type\": \"nominal\"}, {\"field\": \"route_name\", \"type\": \"nominal\"}, {\"field\": \"trip_id\", \"type\": \"nominal\"}, {\"field\": \"service_hours\", \"type\": \"quantitative\"}, {\"field\": \"car_duration_hours\", \"type\": \"quantitative\"}, {\"field\": \"bus_multiplier\", \"type\": \"quantitative\"}, {\"field\": \"bus_difference\", \"type\": \"quantitative\"}, {\"field\": \"num_trips\", \"type\": \"quantitative\"}, {\"field\": \"num_competitive\", \"type\": \"quantitative\"}, {\"field\": \"pct_trips_competitive\", \"type\": \"quantitative\"}, {\"field\": \"p25\", \"type\": \"quantitative\"}, {\"field\": \"p50\", \"type\": \"quantitative\"}, {\"field\": \"p75\", \"type\": \"quantitative\"}], \"x\": {\"axis\": {\"grid\": false, \"labels\": false, \"ticks\": true, \"values\": [0]}, \"field\": \"jitter\", \"scale\": {}, \"title\": null, \"type\": \"quantitative\"}, \"y\": {\"field\": \"bus_difference\", \"scale\": {\"domain\": [-5, 69.6]}, \"title\": \"Difference in Bus to Car Travel Time (min)\", \"type\": \"quantitative\"}}, \"transform\": [{\"calculate\": \"sqrt(-2*log(random()))*cos(2*PI*random())\", \"as\": \"jitter\"}], \"width\": 50}, {\"layer\": [{\"mark\": {\"type\": \"point\", \"opacity\": 0.6, \"size\": 20, \"strokeWidth\": 1.3}, \"encoding\": {\"color\": {\"value\": \"#323434\"}, \"y\": {\"field\": \"bus_difference\", \"type\": \"quantitative\"}}, \"transform\": [{\"filter\": \"(datum.p50_trip === 1)\"}]}, {\"mark\": {\"type\": \"text\", \"align\": \"center\", \"baseline\": \"middle\"}, \"encoding\": {\"color\": {\"value\": \"black\"}, \"text\": {\"field\": \"pct_trips_competitive\", \"format\": \".0%\", \"type\": \"quantitative\"}, \"tooltip\": [{\"field\": \"route_id\", \"type\": \"nominal\"}, {\"field\": \"route_name\", \"type\": \"nominal\"}, {\"field\": \"trip_id\", \"type\": \"nominal\"}, {\"field\": \"service_hours\", \"type\": \"quantitative\"}, {\"field\": \"car_duration_hours\", \"type\": \"quantitative\"}, {\"field\": \"bus_multiplier\", \"type\": \"quantitative\"}, {\"field\": \"bus_difference\", \"type\": \"quantitative\"}, {\"field\": \"num_trips\", \"type\": \"quantitative\"}, {\"field\": \"num_competitive\", \"type\": \"quantitative\"}, {\"field\": \"pct_trips_competitive\", \"type\": \"quantitative\"}, {\"field\": \"p25\", \"type\": \"quantitative\"}, {\"field\": \"p50\", \"type\": \"quantitative\"}, {\"field\": \"p75\", \"type\": \"quantitative\"}], \"x\": {\"value\": 30}, \"y\": {\"value\": 15}}, \"transform\": [{\"calculate\": \"sqrt(-2*log(random()))*cos(2*PI*random())\", \"as\": \"jitter\"}, {\"filter\": \"(datum.fastest_trip === 1)\"}]}]}]}, \"resolve\": {\"scale\": {\"y\": \"shared\"}}, \"title\": \"Difference in Bus to Car Travel Time (min)\", \"$schema\": \"https://vega.github.io/schema/vega-lite/v4.17.0.json\", \"datasets\": {\"data-1045b7e1d46d877422ee99cb7c17e778\": [{\"calitp_itp_id\": 146, \"trip_key\": 1560493323179131979, \"trip_id\": \"t_1244355_b_33402_tn_0\", \"shape_id\": \"p_3081\", \"route_id\": \"1366\", \"service_hours\": 0.83, \"trip_first_departure_ts\": 63000, \"trip_last_arrival_ts\": 66000, \"departure_hour\": 17, \"time_of_day\": \"PM Peak\", \"p25\": 0.83, \"p50\": 0.83, \"p75\": 0.83, \"p50_trip\": 1, \"fastest_trip\": 0, \"car_duration_hours\": 0.61, \"competitive_route\": 1, \"bus_multiplier\": 1.36, \"bus_difference\": 13.2, \"num_trips\": 8, \"num_competitive\": 8, \"pct_trips_competitive\": 1.0, \"bus_difference_spread\": 0.0, \"route_group\": \"short\", \"max_trip_hrs\": 0.83, \"max_trip_route_group\": 0.83, \"below_cutoff\": 8, \"pct_below_cutoff\": 1.0, \"name\": \"Kern County\", \"caltrans_district\": \"06 - Fresno\", \"drmt_organization_name\": null, \"route_name\": \"Lamont-Bakersfield South\", \"cutoff2\": 20, \"cutoff\": 0}, {\"calitp_itp_id\": 146, \"trip_key\": 6588636468876049749, \"trip_id\": \"t_1244360_b_33402_tn_0\", \"shape_id\": \"p_3043\", \"route_id\": \"1366\", \"service_hours\": 0.83, \"trip_first_departure_ts\": 33600, \"trip_last_arrival_ts\": 36600, \"departure_hour\": 9, \"time_of_day\": \"AM Peak\", \"p25\": 0.83, \"p50\": 0.83, \"p75\": 0.83, \"p50_trip\": 1, \"fastest_trip\": 0, \"car_duration_hours\": 0.61, \"competitive_route\": 1, \"bus_multiplier\": 1.36, \"bus_difference\": 13.2, \"num_trips\": 8, \"num_competitive\": 8, \"pct_trips_competitive\": 1.0, \"bus_difference_spread\": 0.0, \"route_group\": \"short\", \"max_trip_hrs\": 0.83, \"max_trip_route_group\": 0.83, \"below_cutoff\": 8, \"pct_below_cutoff\": 1.0, \"name\": \"Kern County\", \"caltrans_district\": \"06 - Fresno\", \"drmt_organization_name\": null, \"route_name\": \"Lamont-Bakersfield South\", \"cutoff2\": 20, \"cutoff\": 0}, {\"calitp_itp_id\": 146, \"trip_key\": 5172112710181939388, \"trip_id\": \"t_1244359_b_33402_tn_0\", \"shape_id\": \"p_3043\", \"route_id\": \"1366\", \"service_hours\": 0.83, \"trip_first_departure_ts\": 49800, \"trip_last_arrival_ts\": 52800, \"departure_hour\": 13, \"time_of_day\": \"Midday\", \"p25\": 0.83, \"p50\": 0.83, \"p75\": 0.83, \"p50_trip\": 1, \"fastest_trip\": 0, \"car_duration_hours\": 0.61, \"competitive_route\": 1, \"bus_multiplier\": 1.36, \"bus_difference\": 13.2, \"num_trips\": 8, \"num_competitive\": 8, \"pct_trips_competitive\": 1.0, \"bus_difference_spread\": 0.0, \"route_group\": \"short\", \"max_trip_hrs\": 0.83, \"max_trip_route_group\": 0.83, \"below_cutoff\": 8, \"pct_below_cutoff\": 1.0, \"name\": \"Kern County\", \"caltrans_district\": \"06 - Fresno\", \"drmt_organization_name\": null, \"route_name\": \"Lamont-Bakersfield South\", \"cutoff2\": 20, \"cutoff\": 0}, {\"calitp_itp_id\": 146, \"trip_key\": -4591111831172938466, \"trip_id\": \"t_1244362_b_33402_tn_0\", \"shape_id\": \"p_3081\", \"route_id\": \"1366\", \"service_hours\": 0.83, \"trip_first_departure_ts\": 45900, \"trip_last_arrival_ts\": 48900, \"departure_hour\": 12, \"time_of_day\": \"Midday\", \"p25\": 0.83, \"p50\": 0.83, \"p75\": 0.83, \"p50_trip\": 1, \"fastest_trip\": 0, \"car_duration_hours\": 0.61, \"competitive_route\": 1, \"bus_multiplier\": 1.36, \"bus_difference\": 13.2, \"num_trips\": 8, \"num_competitive\": 8, \"pct_trips_competitive\": 1.0, \"bus_difference_spread\": 0.0, \"route_group\": \"short\", \"max_trip_hrs\": 0.83, \"max_trip_route_group\": 0.83, \"below_cutoff\": 8, \"pct_below_cutoff\": 1.0, \"name\": \"Kern County\", \"caltrans_district\": \"06 - Fresno\", \"drmt_organization_name\": null, \"route_name\": \"Lamont-Bakersfield South\", \"cutoff2\": 20, \"cutoff\": 0}, {\"calitp_itp_id\": 146, \"trip_key\": -4526751177031150232, \"trip_id\": \"t_1244354_b_33402_tn_0\", \"shape_id\": \"p_3081\", \"route_id\": \"1366\", \"service_hours\": 0.83, \"trip_first_departure_ts\": 27900, \"trip_last_arrival_ts\": 30900, \"departure_hour\": 7, \"time_of_day\": \"AM Peak\", \"p25\": 0.83, \"p50\": 0.83, \"p75\": 0.83, \"p50_trip\": 1, \"fastest_trip\": 0, \"car_duration_hours\": 0.61, \"competitive_route\": 1, \"bus_multiplier\": 1.36, \"bus_difference\": 13.2, \"num_trips\": 8, \"num_competitive\": 8, \"pct_trips_competitive\": 1.0, \"bus_difference_spread\": 0.0, \"route_group\": \"short\", \"max_trip_hrs\": 0.83, \"max_trip_route_group\": 0.83, \"below_cutoff\": 8, \"pct_below_cutoff\": 1.0, \"name\": \"Kern County\", \"caltrans_district\": \"06 - Fresno\", \"drmt_organization_name\": null, \"route_name\": \"Lamont-Bakersfield South\", \"cutoff2\": 20, \"cutoff\": 0}, {\"calitp_itp_id\": 146, \"trip_key\": 8294262901469549474, \"trip_id\": \"t_1244357_b_33402_tn_0\", \"shape_id\": \"p_3043\", \"route_id\": \"1366\", \"service_hours\": 0.83, \"trip_first_departure_ts\": 59100, \"trip_last_arrival_ts\": 62100, \"departure_hour\": 16, \"time_of_day\": \"Midday\", \"p25\": 0.83, \"p50\": 0.83, \"p75\": 0.83, \"p50_trip\": 1, \"fastest_trip\": 0, \"car_duration_hours\": 0.61, \"competitive_route\": 1, \"bus_multiplier\": 1.36, \"bus_difference\": 13.2, \"num_trips\": 8, \"num_competitive\": 8, \"pct_trips_competitive\": 1.0, \"bus_difference_spread\": 0.0, \"route_group\": \"short\", \"max_trip_hrs\": 0.83, \"max_trip_route_group\": 0.83, \"below_cutoff\": 8, \"pct_below_cutoff\": 1.0, \"name\": \"Kern County\", \"caltrans_district\": \"06 - Fresno\", \"drmt_organization_name\": null, \"route_name\": \"Lamont-Bakersfield South\", \"cutoff2\": 20, \"cutoff\": 0}, {\"calitp_itp_id\": 146, \"trip_key\": -5170283710749819067, \"trip_id\": \"t_1244358_b_33402_tn_0\", \"shape_id\": \"p_3081\", \"route_id\": \"1366\", \"service_hours\": 0.83, \"trip_first_departure_ts\": 53700, \"trip_last_arrival_ts\": 56700, \"departure_hour\": 14, \"time_of_day\": \"Midday\", \"p25\": 0.83, \"p50\": 0.83, \"p75\": 0.83, \"p50_trip\": 1, \"fastest_trip\": 0, \"car_duration_hours\": 0.61, \"competitive_route\": 1, \"bus_multiplier\": 1.36, \"bus_difference\": 13.2, \"num_trips\": 8, \"num_competitive\": 8, \"pct_trips_competitive\": 1.0, \"bus_difference_spread\": 0.0, \"route_group\": \"short\", \"max_trip_hrs\": 0.83, \"max_trip_route_group\": 0.83, \"below_cutoff\": 8, \"pct_below_cutoff\": 1.0, \"name\": \"Kern County\", \"caltrans_district\": \"06 - Fresno\", \"drmt_organization_name\": null, \"route_name\": \"Lamont-Bakersfield South\", \"cutoff2\": 20, \"cutoff\": 0}, {\"calitp_itp_id\": 146, \"trip_key\": -7985887285849281878, \"trip_id\": \"t_2003617_b_33402_tn_0\", \"shape_id\": \"p_3043\", \"route_id\": \"1366\", \"service_hours\": 0.83, \"trip_first_departure_ts\": 66600, \"trip_last_arrival_ts\": 69600, \"departure_hour\": 18, \"time_of_day\": \"PM Peak\", \"p25\": 0.83, \"p50\": 0.83, \"p75\": 0.83, \"p50_trip\": 1, \"fastest_trip\": 1, \"car_duration_hours\": 0.61, \"competitive_route\": 1, \"bus_multiplier\": 1.36, \"bus_difference\": 13.2, \"num_trips\": 8, \"num_competitive\": 8, \"pct_trips_competitive\": 1.0, \"bus_difference_spread\": 0.0, \"route_group\": \"short\", \"max_trip_hrs\": 0.83, \"max_trip_route_group\": 0.83, \"below_cutoff\": 8, \"pct_below_cutoff\": 1.0, \"name\": \"Kern County\", \"caltrans_district\": \"06 - Fresno\", \"drmt_organization_name\": null, \"route_name\": \"Lamont-Bakersfield South\", \"cutoff2\": 20, \"cutoff\": 0}]}}, {\"mode\": \"vega-lite\"});\n",
       "</script>"
      ],
      "text/plain": [
       "alt.FacetChart(...)"
      ]
     },
     "metadata": {},
     "output_type": "display_data"
    },
    {
     "data": {
      "text/html": [
       "<h4>Route Stats</h4>"
      ],
      "text/plain": [
       "<IPython.core.display.HTML object>"
      ]
     },
     "metadata": {},
     "output_type": "display_data"
    },
    {
     "data": {
      "text/html": [
       "<style type=\"text/css\">\n",
       "#T_6c91b th {\n",
       "  text-align: center;\n",
       "}\n",
       "#T_6c91b_row0_col0, #T_6c91b_row0_col1 {\n",
       "  text-align: left;\n",
       "}\n",
       "#T_6c91b_row0_col2, #T_6c91b_row0_col3, #T_6c91b_row0_col5 {\n",
       "  text-align: center;\n",
       "}\n",
       "</style>\n",
       "<table id=\"T_6c91b\">\n",
       "  <thead>\n",
       "    <tr>\n",
       "      <th id=\"T_6c91b_level0_col0\" class=\"col_heading level0 col0\" >Route ID</th>\n",
       "      <th id=\"T_6c91b_level0_col1\" class=\"col_heading level0 col1\" >Route Name</th>\n",
       "      <th id=\"T_6c91b_level0_col2\" class=\"col_heading level0 col2\" ># trips</th>\n",
       "      <th id=\"T_6c91b_level0_col3\" class=\"col_heading level0 col3\" >Daily Avg Freq (trips per hr)</th>\n",
       "      <th id=\"T_6c91b_level0_col4\" class=\"col_heading level0 col4\" >25th, 50th, 75th ptile (hrs)</th>\n",
       "      <th id=\"T_6c91b_level0_col5\" class=\"col_heading level0 col5\" >PM Peak Avg Freq (trips per hr)</th>\n",
       "    </tr>\n",
       "  </thead>\n",
       "  <tbody>\n",
       "    <tr>\n",
       "      <td id=\"T_6c91b_row0_col0\" class=\"data row0 col0\" >1366</td>\n",
       "      <td id=\"T_6c91b_row0_col1\" class=\"data row0 col1\" >Lamont-Bakersfield South</td>\n",
       "      <td id=\"T_6c91b_row0_col2\" class=\"data row0 col2\" >8</td>\n",
       "      <td id=\"T_6c91b_row0_col3\" class=\"data row0 col3\" >0.33</td>\n",
       "      <td id=\"T_6c91b_row0_col4\" class=\"data row0 col4\" >0.83, 0.83, 0.83</td>\n",
       "      <td id=\"T_6c91b_row0_col5\" class=\"data row0 col5\" >0.67</td>\n",
       "    </tr>\n",
       "  </tbody>\n",
       "</table>\n"
      ],
      "text/plain": [
       "<IPython.core.display.HTML object>"
      ]
     },
     "metadata": {},
     "output_type": "display_data"
    }
   ],
   "source": [
    "# Allow for possibility that operator doesn't have routes that fall into certain route_groups\n",
    "# But, jupyterbook will not like markdown with f-string\n",
    "# separate out route_group and put in each cell, and use try/except + if to display...\n",
    "# but all 3 route groups must be displayed. just add sentence about why no routes were returned at the end\n",
    "route_group = \"short\"\n",
    "try:\n",
    "    display_charts_for_route_group(df, route_group)\n",
    "except:\n",
    "    print(\"No routes meet this criteria.\")"
   ]
  },
  {
   "cell_type": "markdown",
   "id": "c2931b6f-034d-4384-9e14-80b925e3b820",
   "metadata": {
    "papermill": {
     "duration": 0.029104,
     "end_time": "2022-05-12T02:16:27.702190",
     "exception": false,
     "start_time": "2022-05-12T02:16:27.673086",
     "status": "completed"
    },
    "tags": []
   },
   "source": [
    "### Medium Routes (1-1.5 hrs)"
   ]
  },
  {
   "cell_type": "code",
   "execution_count": 15,
   "id": "480edddc-4de0-48c2-ae4c-b0ceef8f28b5",
   "metadata": {
    "execution": {
     "iopub.execute_input": "2022-05-12T02:16:27.737389Z",
     "iopub.status.busy": "2022-05-12T02:16:27.737083Z",
     "iopub.status.idle": "2022-05-12T02:16:27.971920Z",
     "shell.execute_reply": "2022-05-12T02:16:27.971101Z"
    },
    "jupyter": {
     "source_hidden": true
    },
    "papermill": {
     "duration": 0.255467,
     "end_time": "2022-05-12T02:16:27.974072",
     "exception": false,
     "start_time": "2022-05-12T02:16:27.718605",
     "status": "completed"
    },
    "tags": [
     "remove_input"
    ]
   },
   "outputs": [
    {
     "data": {
      "text/markdown": [
       "<br>These are routes that have **at least 50% of their trips take no more than an additional 30 min** compared to a car (up to 15 routes) are shown.<br>Within each route group, routes are sorted in descending order by % competitive trips and # trips below the additional time cut-off."
      ],
      "text/plain": [
       "<IPython.core.display.Markdown object>"
      ]
     },
     "metadata": {},
     "output_type": "display_data"
    },
    {
     "data": {
      "text/html": [
       "\n",
       "<div id=\"altair-viz-f05b8509a3164be393f1787f680aa00e\"></div>\n",
       "<script type=\"text/javascript\">\n",
       "  var VEGA_DEBUG = (typeof VEGA_DEBUG == \"undefined\") ? {} : VEGA_DEBUG;\n",
       "  (function(spec, embedOpt){\n",
       "    let outputDiv = document.currentScript.previousElementSibling;\n",
       "    if (outputDiv.id !== \"altair-viz-f05b8509a3164be393f1787f680aa00e\") {\n",
       "      outputDiv = document.getElementById(\"altair-viz-f05b8509a3164be393f1787f680aa00e\");\n",
       "    }\n",
       "    const paths = {\n",
       "      \"vega\": \"https://cdn.jsdelivr.net/npm//vega@5?noext\",\n",
       "      \"vega-lib\": \"https://cdn.jsdelivr.net/npm//vega-lib?noext\",\n",
       "      \"vega-lite\": \"https://cdn.jsdelivr.net/npm//vega-lite@4.17.0?noext\",\n",
       "      \"vega-embed\": \"https://cdn.jsdelivr.net/npm//vega-embed@6?noext\",\n",
       "    };\n",
       "\n",
       "    function maybeLoadScript(lib, version) {\n",
       "      var key = `${lib.replace(\"-\", \"\")}_version`;\n",
       "      return (VEGA_DEBUG[key] == version) ?\n",
       "        Promise.resolve(paths[lib]) :\n",
       "        new Promise(function(resolve, reject) {\n",
       "          var s = document.createElement('script');\n",
       "          document.getElementsByTagName(\"head\")[0].appendChild(s);\n",
       "          s.async = true;\n",
       "          s.onload = () => {\n",
       "            VEGA_DEBUG[key] = version;\n",
       "            return resolve(paths[lib]);\n",
       "          };\n",
       "          s.onerror = () => reject(`Error loading script: ${paths[lib]}`);\n",
       "          s.src = paths[lib];\n",
       "        });\n",
       "    }\n",
       "\n",
       "    function showError(err) {\n",
       "      outputDiv.innerHTML = `<div class=\"error\" style=\"color:red;\">${err}</div>`;\n",
       "      throw err;\n",
       "    }\n",
       "\n",
       "    function displayChart(vegaEmbed) {\n",
       "      vegaEmbed(outputDiv, spec, embedOpt)\n",
       "        .catch(err => showError(`Javascript Error: ${err.message}<br>This usually means there's a typo in your chart specification. See the javascript console for the full traceback.`));\n",
       "    }\n",
       "\n",
       "    if(typeof define === \"function\" && define.amd) {\n",
       "      requirejs.config({paths});\n",
       "      require([\"vega-embed\"], displayChart, err => showError(`Error loading script: ${err.message}`));\n",
       "    } else {\n",
       "      maybeLoadScript(\"vega\", \"5\")\n",
       "        .then(() => maybeLoadScript(\"vega-lite\", \"4.17.0\"))\n",
       "        .then(() => maybeLoadScript(\"vega-embed\", \"6\"))\n",
       "        .catch(showError)\n",
       "        .then(() => displayChart(vegaEmbed));\n",
       "    }\n",
       "  })({\"config\": {\"view\": {\"continuousWidth\": 400, \"continuousHeight\": 300, \"stroke\": null}, \"facet\": {\"spacing\": 0}}, \"data\": {\"name\": \"data-a87b63d5d9e2e8b0957d0bfafbaf17ae\"}, \"facet\": {\"column\": {\"field\": \"route_id\", \"sort\": [\"1163\"], \"title\": \"Route ID\", \"type\": \"nominal\"}}, \"spec\": {\"layer\": [{\"mark\": \"rule\", \"encoding\": {\"color\": {\"value\": \"black\"}, \"y\": {\"field\": \"cutoff\", \"type\": \"quantitative\"}}, \"selection\": {\"selector003\": {\"type\": \"interval\", \"bind\": \"scales\", \"encodings\": [\"x\", \"y\"]}}}, {\"mark\": {\"type\": \"point\", \"opacity\": 0.65, \"size\": 12, \"strokeWidth\": 1.1}, \"encoding\": {\"color\": {\"field\": \"time_of_day\", \"scale\": {\"range\": [\"#136C97\", \"#E16B26\", \"#F6BF16\", \"#00896B\", \"#7790A3\", \"#5B559C\"]}, \"sort\": [\"AM Peak\", \"Midday\", \"PM Peak\", \"Owl Service\"], \"title\": \"Time of Day\", \"type\": \"nominal\"}, \"tooltip\": [{\"field\": \"route_id\", \"type\": \"nominal\"}, {\"field\": \"route_name\", \"type\": \"nominal\"}, {\"field\": \"trip_id\", \"type\": \"nominal\"}, {\"field\": \"service_hours\", \"type\": \"quantitative\"}, {\"field\": \"car_duration_hours\", \"type\": \"quantitative\"}, {\"field\": \"bus_multiplier\", \"type\": \"quantitative\"}, {\"field\": \"bus_difference\", \"type\": \"quantitative\"}, {\"field\": \"num_trips\", \"type\": \"quantitative\"}, {\"field\": \"num_competitive\", \"type\": \"quantitative\"}, {\"field\": \"pct_trips_competitive\", \"type\": \"quantitative\"}, {\"field\": \"p25\", \"type\": \"quantitative\"}, {\"field\": \"p50\", \"type\": \"quantitative\"}, {\"field\": \"p75\", \"type\": \"quantitative\"}], \"x\": {\"axis\": {\"grid\": false, \"labels\": false, \"ticks\": true, \"values\": [0]}, \"field\": \"jitter\", \"scale\": {}, \"title\": null, \"type\": \"quantitative\"}, \"y\": {\"field\": \"bus_multiplier\", \"scale\": {\"domain\": [-0.25, 3.0]}, \"title\": \"Ratio of Bus to Car Travel Time\", \"type\": \"quantitative\"}}, \"transform\": [{\"calculate\": \"sqrt(-2*log(random()))*cos(2*PI*random())\", \"as\": \"jitter\"}], \"width\": 50}, {\"layer\": [{\"mark\": {\"type\": \"point\", \"opacity\": 0.6, \"size\": 20, \"strokeWidth\": 1.3}, \"encoding\": {\"color\": {\"value\": \"#323434\"}, \"y\": {\"field\": \"bus_multiplier\", \"type\": \"quantitative\"}}, \"transform\": [{\"filter\": \"(datum.p50_trip === 1)\"}]}, {\"mark\": {\"type\": \"text\", \"align\": \"center\", \"baseline\": \"middle\"}, \"encoding\": {\"color\": {\"value\": \"black\"}, \"text\": {\"field\": \"pct_trips_competitive\", \"format\": \".0%\", \"type\": \"quantitative\"}, \"tooltip\": [{\"field\": \"route_id\", \"type\": \"nominal\"}, {\"field\": \"route_name\", \"type\": \"nominal\"}, {\"field\": \"trip_id\", \"type\": \"nominal\"}, {\"field\": \"service_hours\", \"type\": \"quantitative\"}, {\"field\": \"car_duration_hours\", \"type\": \"quantitative\"}, {\"field\": \"bus_multiplier\", \"type\": \"quantitative\"}, {\"field\": \"bus_difference\", \"type\": \"quantitative\"}, {\"field\": \"num_trips\", \"type\": \"quantitative\"}, {\"field\": \"num_competitive\", \"type\": \"quantitative\"}, {\"field\": \"pct_trips_competitive\", \"type\": \"quantitative\"}, {\"field\": \"p25\", \"type\": \"quantitative\"}, {\"field\": \"p50\", \"type\": \"quantitative\"}, {\"field\": \"p75\", \"type\": \"quantitative\"}], \"x\": {\"value\": 30}, \"y\": {\"value\": 15}}, \"transform\": [{\"calculate\": \"sqrt(-2*log(random()))*cos(2*PI*random())\", \"as\": \"jitter\"}, {\"filter\": \"(datum.fastest_trip === 1)\"}]}]}]}, \"resolve\": {\"scale\": {\"y\": \"shared\"}}, \"title\": \"Ratio of Bus to Car Travel Time\", \"$schema\": \"https://vega.github.io/schema/vega-lite/v4.17.0.json\", \"datasets\": {\"data-a87b63d5d9e2e8b0957d0bfafbaf17ae\": [{\"calitp_itp_id\": 146, \"trip_key\": 5211490308251541962, \"trip_id\": \"t_2002771_b_33402_tn_0\", \"shape_id\": \"p_3036\", \"route_id\": \"1163\", \"service_hours\": 1.08, \"trip_first_departure_ts\": 75600, \"trip_last_arrival_ts\": 79500, \"departure_hour\": 21, \"time_of_day\": \"Owl Service\", \"p25\": 1.25, \"p50\": 1.25, \"p75\": 1.33, \"p50_trip\": 0, \"fastest_trip\": 1, \"car_duration_hours\": 0.96, \"competitive_route\": 1, \"bus_multiplier\": 1.13, \"bus_difference\": 7.2, \"num_trips\": 13, \"num_competitive\": 13, \"pct_trips_competitive\": 1.0, \"bus_difference_spread\": 15.0, \"route_group\": \"medium\", \"max_trip_hrs\": 1.33, \"max_trip_route_group\": 1.33, \"below_cutoff\": 13, \"pct_below_cutoff\": 1.0, \"name\": \"Kern County\", \"caltrans_district\": \"06 - Fresno\", \"drmt_organization_name\": null, \"route_name\": \"Lamont - Bakersfield North\", \"cutoff2\": 30, \"cutoff\": 2}, {\"calitp_itp_id\": 146, \"trip_key\": 6782577905836505620, \"trip_id\": \"t_2002770_b_33402_tn_0\", \"shape_id\": \"p_3036\", \"route_id\": \"1163\", \"service_hours\": 1.08, \"trip_first_departure_ts\": 72000, \"trip_last_arrival_ts\": 75900, \"departure_hour\": 20, \"time_of_day\": \"Owl Service\", \"p25\": 1.25, \"p50\": 1.25, \"p75\": 1.33, \"p50_trip\": 0, \"fastest_trip\": 0, \"car_duration_hours\": 0.96, \"competitive_route\": 1, \"bus_multiplier\": 1.13, \"bus_difference\": 7.2, \"num_trips\": 13, \"num_competitive\": 13, \"pct_trips_competitive\": 1.0, \"bus_difference_spread\": 15.0, \"route_group\": \"medium\", \"max_trip_hrs\": 1.33, \"max_trip_route_group\": 1.33, \"below_cutoff\": 13, \"pct_below_cutoff\": 1.0, \"name\": \"Kern County\", \"caltrans_district\": \"06 - Fresno\", \"drmt_organization_name\": null, \"route_name\": \"Lamont - Bakersfield North\", \"cutoff2\": 30, \"cutoff\": 2}, {\"calitp_itp_id\": 146, \"trip_key\": -6591421217914379953, \"trip_id\": \"t_559714_b_33402_tn_0\", \"shape_id\": \"p_3013\", \"route_id\": \"1163\", \"service_hours\": 1.12, \"trip_first_departure_ts\": 21000, \"trip_last_arrival_ts\": 25020, \"departure_hour\": 5, \"time_of_day\": \"Owl Service\", \"p25\": 1.25, \"p50\": 1.25, \"p75\": 1.33, \"p50_trip\": 0, \"fastest_trip\": 0, \"car_duration_hours\": 0.96, \"competitive_route\": 1, \"bus_multiplier\": 1.17, \"bus_difference\": 9.6, \"num_trips\": 13, \"num_competitive\": 13, \"pct_trips_competitive\": 1.0, \"bus_difference_spread\": 15.0, \"route_group\": \"medium\", \"max_trip_hrs\": 1.33, \"max_trip_route_group\": 1.33, \"below_cutoff\": 13, \"pct_below_cutoff\": 1.0, \"name\": \"Kern County\", \"caltrans_district\": \"06 - Fresno\", \"drmt_organization_name\": null, \"route_name\": \"Lamont - Bakersfield North\", \"cutoff2\": 30, \"cutoff\": 2}, {\"calitp_itp_id\": 146, \"trip_key\": 4295720859202590599, \"trip_id\": \"t_2002779_b_33402_tn_0\", \"shape_id\": \"p_3034\", \"route_id\": \"1163\", \"service_hours\": 1.25, \"trip_first_departure_ts\": 39600, \"trip_last_arrival_ts\": 44100, \"departure_hour\": 11, \"time_of_day\": \"Midday\", \"p25\": 1.25, \"p50\": 1.25, \"p75\": 1.33, \"p50_trip\": 1, \"fastest_trip\": 0, \"car_duration_hours\": 0.96, \"competitive_route\": 1, \"bus_multiplier\": 1.3, \"bus_difference\": 17.4, \"num_trips\": 13, \"num_competitive\": 13, \"pct_trips_competitive\": 1.0, \"bus_difference_spread\": 15.0, \"route_group\": \"medium\", \"max_trip_hrs\": 1.33, \"max_trip_route_group\": 1.33, \"below_cutoff\": 13, \"pct_below_cutoff\": 1.0, \"name\": \"Kern County\", \"caltrans_district\": \"06 - Fresno\", \"drmt_organization_name\": null, \"route_name\": \"Lamont - Bakersfield North\", \"cutoff2\": 30, \"cutoff\": 2}, {\"calitp_itp_id\": 146, \"trip_key\": 1567663730242643159, \"trip_id\": \"t_2002778_b_33402_tn_0\", \"shape_id\": \"p_3034\", \"route_id\": \"1163\", \"service_hours\": 1.25, \"trip_first_departure_ts\": 26400, \"trip_last_arrival_ts\": 30900, \"departure_hour\": 7, \"time_of_day\": \"AM Peak\", \"p25\": 1.25, \"p50\": 1.25, \"p75\": 1.33, \"p50_trip\": 1, \"fastest_trip\": 0, \"car_duration_hours\": 0.96, \"competitive_route\": 1, \"bus_multiplier\": 1.3, \"bus_difference\": 17.4, \"num_trips\": 13, \"num_competitive\": 13, \"pct_trips_competitive\": 1.0, \"bus_difference_spread\": 15.0, \"route_group\": \"medium\", \"max_trip_hrs\": 1.33, \"max_trip_route_group\": 1.33, \"below_cutoff\": 13, \"pct_below_cutoff\": 1.0, \"name\": \"Kern County\", \"caltrans_district\": \"06 - Fresno\", \"drmt_organization_name\": null, \"route_name\": \"Lamont - Bakersfield North\", \"cutoff2\": 30, \"cutoff\": 2}, {\"calitp_itp_id\": 146, \"trip_key\": 8162709824957433861, \"trip_id\": \"t_2002776_b_33402_tn_0\", \"shape_id\": \"p_3034\", \"route_id\": \"1163\", \"service_hours\": 1.25, \"trip_first_departure_ts\": 60300, \"trip_last_arrival_ts\": 64800, \"departure_hour\": 16, \"time_of_day\": \"Midday\", \"p25\": 1.25, \"p50\": 1.25, \"p75\": 1.33, \"p50_trip\": 1, \"fastest_trip\": 0, \"car_duration_hours\": 0.96, \"competitive_route\": 1, \"bus_multiplier\": 1.3, \"bus_difference\": 17.4, \"num_trips\": 13, \"num_competitive\": 13, \"pct_trips_competitive\": 1.0, \"bus_difference_spread\": 15.0, \"route_group\": \"medium\", \"max_trip_hrs\": 1.33, \"max_trip_route_group\": 1.33, \"below_cutoff\": 13, \"pct_below_cutoff\": 1.0, \"name\": \"Kern County\", \"caltrans_district\": \"06 - Fresno\", \"drmt_organization_name\": null, \"route_name\": \"Lamont - Bakersfield North\", \"cutoff2\": 30, \"cutoff\": 2}, {\"calitp_itp_id\": 146, \"trip_key\": 6060769906077123396, \"trip_id\": \"t_2002772_b_33402_tn_0\", \"shape_id\": \"p_3034\", \"route_id\": \"1163\", \"service_hours\": 1.25, \"trip_first_departure_ts\": 53700, \"trip_last_arrival_ts\": 58200, \"departure_hour\": 14, \"time_of_day\": \"Midday\", \"p25\": 1.25, \"p50\": 1.25, \"p75\": 1.33, \"p50_trip\": 1, \"fastest_trip\": 0, \"car_duration_hours\": 0.96, \"competitive_route\": 1, \"bus_multiplier\": 1.3, \"bus_difference\": 17.4, \"num_trips\": 13, \"num_competitive\": 13, \"pct_trips_competitive\": 1.0, \"bus_difference_spread\": 15.0, \"route_group\": \"medium\", \"max_trip_hrs\": 1.33, \"max_trip_route_group\": 1.33, \"below_cutoff\": 13, \"pct_below_cutoff\": 1.0, \"name\": \"Kern County\", \"caltrans_district\": \"06 - Fresno\", \"drmt_organization_name\": null, \"route_name\": \"Lamont - Bakersfield North\", \"cutoff2\": 30, \"cutoff\": 2}, {\"calitp_itp_id\": 146, \"trip_key\": 3260627009146915986, \"trip_id\": \"t_2002787_b_33402_tn_0\", \"shape_id\": \"p_3034\", \"route_id\": \"1163\", \"service_hours\": 1.25, \"trip_first_departure_ts\": 65700, \"trip_last_arrival_ts\": 70200, \"departure_hour\": 18, \"time_of_day\": \"PM Peak\", \"p25\": 1.25, \"p50\": 1.25, \"p75\": 1.33, \"p50_trip\": 1, \"fastest_trip\": 0, \"car_duration_hours\": 0.96, \"competitive_route\": 1, \"bus_multiplier\": 1.3, \"bus_difference\": 17.4, \"num_trips\": 13, \"num_competitive\": 13, \"pct_trips_competitive\": 1.0, \"bus_difference_spread\": 15.0, \"route_group\": \"medium\", \"max_trip_hrs\": 1.33, \"max_trip_route_group\": 1.33, \"below_cutoff\": 13, \"pct_below_cutoff\": 1.0, \"name\": \"Kern County\", \"caltrans_district\": \"06 - Fresno\", \"drmt_organization_name\": null, \"route_name\": \"Lamont - Bakersfield North\", \"cutoff2\": 30, \"cutoff\": 2}, {\"calitp_itp_id\": 146, \"trip_key\": 5015425223725740371, \"trip_id\": \"t_2002775_b_33402_tn_0\", \"shape_id\": \"p_3013\", \"route_id\": \"1163\", \"service_hours\": 1.33, \"trip_first_departure_ts\": 54000, \"trip_last_arrival_ts\": 58800, \"departure_hour\": 15, \"time_of_day\": \"Midday\", \"p25\": 1.25, \"p50\": 1.25, \"p75\": 1.33, \"p50_trip\": 0, \"fastest_trip\": 0, \"car_duration_hours\": 0.96, \"competitive_route\": 1, \"bus_multiplier\": 1.39, \"bus_difference\": 22.2, \"num_trips\": 13, \"num_competitive\": 13, \"pct_trips_competitive\": 1.0, \"bus_difference_spread\": 15.0, \"route_group\": \"medium\", \"max_trip_hrs\": 1.33, \"max_trip_route_group\": 1.33, \"below_cutoff\": 13, \"pct_below_cutoff\": 1.0, \"name\": \"Kern County\", \"caltrans_district\": \"06 - Fresno\", \"drmt_organization_name\": null, \"route_name\": \"Lamont - Bakersfield North\", \"cutoff2\": 30, \"cutoff\": 2}, {\"calitp_itp_id\": 146, \"trip_key\": -7388566199753428065, \"trip_id\": \"t_2002807_b_33402_tn_0\", \"shape_id\": \"p_3013\", \"route_id\": \"1163\", \"service_hours\": 1.33, \"trip_first_departure_ts\": 34200, \"trip_last_arrival_ts\": 39000, \"departure_hour\": 9, \"time_of_day\": \"AM Peak\", \"p25\": 1.25, \"p50\": 1.25, \"p75\": 1.33, \"p50_trip\": 0, \"fastest_trip\": 0, \"car_duration_hours\": 0.96, \"competitive_route\": 1, \"bus_multiplier\": 1.39, \"bus_difference\": 22.2, \"num_trips\": 13, \"num_competitive\": 13, \"pct_trips_competitive\": 1.0, \"bus_difference_spread\": 15.0, \"route_group\": \"medium\", \"max_trip_hrs\": 1.33, \"max_trip_route_group\": 1.33, \"below_cutoff\": 13, \"pct_below_cutoff\": 1.0, \"name\": \"Kern County\", \"caltrans_district\": \"06 - Fresno\", \"drmt_organization_name\": null, \"route_name\": \"Lamont - Bakersfield North\", \"cutoff2\": 30, \"cutoff\": 2}, {\"calitp_itp_id\": 146, \"trip_key\": 1987559820588106096, \"trip_id\": \"t_2002777_b_33402_tn_0\", \"shape_id\": \"p_3013\", \"route_id\": \"1163\", \"service_hours\": 1.33, \"trip_first_departure_ts\": 66600, \"trip_last_arrival_ts\": 71400, \"departure_hour\": 18, \"time_of_day\": \"PM Peak\", \"p25\": 1.25, \"p50\": 1.25, \"p75\": 1.33, \"p50_trip\": 0, \"fastest_trip\": 0, \"car_duration_hours\": 0.96, \"competitive_route\": 1, \"bus_multiplier\": 1.39, \"bus_difference\": 22.2, \"num_trips\": 13, \"num_competitive\": 13, \"pct_trips_competitive\": 1.0, \"bus_difference_spread\": 15.0, \"route_group\": \"medium\", \"max_trip_hrs\": 1.33, \"max_trip_route_group\": 1.33, \"below_cutoff\": 13, \"pct_below_cutoff\": 1.0, \"name\": \"Kern County\", \"caltrans_district\": \"06 - Fresno\", \"drmt_organization_name\": null, \"route_name\": \"Lamont - Bakersfield North\", \"cutoff2\": 30, \"cutoff\": 2}, {\"calitp_itp_id\": 146, \"trip_key\": -1052382042662736337, \"trip_id\": \"t_559741_b_33402_tn_0\", \"shape_id\": \"p_3013\", \"route_id\": \"1163\", \"service_hours\": 1.33, \"trip_first_departure_ts\": 59400, \"trip_last_arrival_ts\": 64200, \"departure_hour\": 16, \"time_of_day\": \"Midday\", \"p25\": 1.25, \"p50\": 1.25, \"p75\": 1.33, \"p50_trip\": 0, \"fastest_trip\": 0, \"car_duration_hours\": 0.96, \"competitive_route\": 1, \"bus_multiplier\": 1.39, \"bus_difference\": 22.2, \"num_trips\": 13, \"num_competitive\": 13, \"pct_trips_competitive\": 1.0, \"bus_difference_spread\": 15.0, \"route_group\": \"medium\", \"max_trip_hrs\": 1.33, \"max_trip_route_group\": 1.33, \"below_cutoff\": 13, \"pct_below_cutoff\": 1.0, \"name\": \"Kern County\", \"caltrans_district\": \"06 - Fresno\", \"drmt_organization_name\": null, \"route_name\": \"Lamont - Bakersfield North\", \"cutoff2\": 30, \"cutoff\": 2}, {\"calitp_itp_id\": 146, \"trip_key\": 1418610618519928346, \"trip_id\": \"t_559598_b_33402_tn_0\", \"shape_id\": \"p_3013\", \"route_id\": \"1163\", \"service_hours\": 1.33, \"trip_first_departure_ts\": 46800, \"trip_last_arrival_ts\": 51600, \"departure_hour\": 13, \"time_of_day\": \"Midday\", \"p25\": 1.25, \"p50\": 1.25, \"p75\": 1.33, \"p50_trip\": 0, \"fastest_trip\": 0, \"car_duration_hours\": 0.96, \"competitive_route\": 1, \"bus_multiplier\": 1.39, \"bus_difference\": 22.2, \"num_trips\": 13, \"num_competitive\": 13, \"pct_trips_competitive\": 1.0, \"bus_difference_spread\": 15.0, \"route_group\": \"medium\", \"max_trip_hrs\": 1.33, \"max_trip_route_group\": 1.33, \"below_cutoff\": 13, \"pct_below_cutoff\": 1.0, \"name\": \"Kern County\", \"caltrans_district\": \"06 - Fresno\", \"drmt_organization_name\": null, \"route_name\": \"Lamont - Bakersfield North\", \"cutoff2\": 30, \"cutoff\": 2}]}}, {\"mode\": \"vega-lite\"});\n",
       "</script>"
      ],
      "text/plain": [
       "alt.FacetChart(...)"
      ]
     },
     "metadata": {},
     "output_type": "display_data"
    },
    {
     "data": {
      "text/html": [
       "\n",
       "<div id=\"altair-viz-99644648584c4790b8dce92a281cdb1f\"></div>\n",
       "<script type=\"text/javascript\">\n",
       "  var VEGA_DEBUG = (typeof VEGA_DEBUG == \"undefined\") ? {} : VEGA_DEBUG;\n",
       "  (function(spec, embedOpt){\n",
       "    let outputDiv = document.currentScript.previousElementSibling;\n",
       "    if (outputDiv.id !== \"altair-viz-99644648584c4790b8dce92a281cdb1f\") {\n",
       "      outputDiv = document.getElementById(\"altair-viz-99644648584c4790b8dce92a281cdb1f\");\n",
       "    }\n",
       "    const paths = {\n",
       "      \"vega\": \"https://cdn.jsdelivr.net/npm//vega@5?noext\",\n",
       "      \"vega-lib\": \"https://cdn.jsdelivr.net/npm//vega-lib?noext\",\n",
       "      \"vega-lite\": \"https://cdn.jsdelivr.net/npm//vega-lite@4.17.0?noext\",\n",
       "      \"vega-embed\": \"https://cdn.jsdelivr.net/npm//vega-embed@6?noext\",\n",
       "    };\n",
       "\n",
       "    function maybeLoadScript(lib, version) {\n",
       "      var key = `${lib.replace(\"-\", \"\")}_version`;\n",
       "      return (VEGA_DEBUG[key] == version) ?\n",
       "        Promise.resolve(paths[lib]) :\n",
       "        new Promise(function(resolve, reject) {\n",
       "          var s = document.createElement('script');\n",
       "          document.getElementsByTagName(\"head\")[0].appendChild(s);\n",
       "          s.async = true;\n",
       "          s.onload = () => {\n",
       "            VEGA_DEBUG[key] = version;\n",
       "            return resolve(paths[lib]);\n",
       "          };\n",
       "          s.onerror = () => reject(`Error loading script: ${paths[lib]}`);\n",
       "          s.src = paths[lib];\n",
       "        });\n",
       "    }\n",
       "\n",
       "    function showError(err) {\n",
       "      outputDiv.innerHTML = `<div class=\"error\" style=\"color:red;\">${err}</div>`;\n",
       "      throw err;\n",
       "    }\n",
       "\n",
       "    function displayChart(vegaEmbed) {\n",
       "      vegaEmbed(outputDiv, spec, embedOpt)\n",
       "        .catch(err => showError(`Javascript Error: ${err.message}<br>This usually means there's a typo in your chart specification. See the javascript console for the full traceback.`));\n",
       "    }\n",
       "\n",
       "    if(typeof define === \"function\" && define.amd) {\n",
       "      requirejs.config({paths});\n",
       "      require([\"vega-embed\"], displayChart, err => showError(`Error loading script: ${err.message}`));\n",
       "    } else {\n",
       "      maybeLoadScript(\"vega\", \"5\")\n",
       "        .then(() => maybeLoadScript(\"vega-lite\", \"4.17.0\"))\n",
       "        .then(() => maybeLoadScript(\"vega-embed\", \"6\"))\n",
       "        .catch(showError)\n",
       "        .then(() => displayChart(vegaEmbed));\n",
       "    }\n",
       "  })({\"config\": {\"view\": {\"continuousWidth\": 400, \"continuousHeight\": 300, \"stroke\": null}, \"facet\": {\"spacing\": 0}}, \"data\": {\"name\": \"data-2b139843f90126d78cbc785a28c428c9\"}, \"facet\": {\"column\": {\"field\": \"route_id\", \"sort\": [\"1163\"], \"title\": \"Route ID\", \"type\": \"nominal\"}}, \"spec\": {\"layer\": [{\"mark\": \"rule\", \"encoding\": {\"color\": {\"value\": \"black\"}, \"y\": {\"field\": \"cutoff\", \"type\": \"quantitative\"}}, \"selection\": {\"selector004\": {\"type\": \"interval\", \"bind\": \"scales\", \"encodings\": [\"x\", \"y\"]}}}, {\"mark\": {\"type\": \"rule\", \"strokeDash\": [3, 3]}, \"encoding\": {\"color\": {\"value\": \"#323434\"}, \"y\": {\"field\": \"cutoff2\", \"type\": \"quantitative\"}}}, {\"mark\": {\"type\": \"point\", \"opacity\": 0.65, \"size\": 12, \"strokeWidth\": 1.1}, \"encoding\": {\"color\": {\"field\": \"time_of_day\", \"scale\": {\"range\": [\"#136C97\", \"#E16B26\", \"#F6BF16\", \"#00896B\", \"#7790A3\", \"#5B559C\"]}, \"sort\": [\"AM Peak\", \"Midday\", \"PM Peak\", \"Owl Service\"], \"title\": \"Time of Day\", \"type\": \"nominal\"}, \"tooltip\": [{\"field\": \"route_id\", \"type\": \"nominal\"}, {\"field\": \"route_name\", \"type\": \"nominal\"}, {\"field\": \"trip_id\", \"type\": \"nominal\"}, {\"field\": \"service_hours\", \"type\": \"quantitative\"}, {\"field\": \"car_duration_hours\", \"type\": \"quantitative\"}, {\"field\": \"bus_multiplier\", \"type\": \"quantitative\"}, {\"field\": \"bus_difference\", \"type\": \"quantitative\"}, {\"field\": \"num_trips\", \"type\": \"quantitative\"}, {\"field\": \"num_competitive\", \"type\": \"quantitative\"}, {\"field\": \"pct_trips_competitive\", \"type\": \"quantitative\"}, {\"field\": \"p25\", \"type\": \"quantitative\"}, {\"field\": \"p50\", \"type\": \"quantitative\"}, {\"field\": \"p75\", \"type\": \"quantitative\"}], \"x\": {\"axis\": {\"grid\": false, \"labels\": false, \"ticks\": true, \"values\": [0]}, \"field\": \"jitter\", \"scale\": {}, \"title\": null, \"type\": \"quantitative\"}, \"y\": {\"field\": \"bus_difference\", \"scale\": {\"domain\": [-5, 69.6]}, \"title\": \"Difference in Bus to Car Travel Time (min)\", \"type\": \"quantitative\"}}, \"transform\": [{\"calculate\": \"sqrt(-2*log(random()))*cos(2*PI*random())\", \"as\": \"jitter\"}], \"width\": 50}, {\"layer\": [{\"mark\": {\"type\": \"point\", \"opacity\": 0.6, \"size\": 20, \"strokeWidth\": 1.3}, \"encoding\": {\"color\": {\"value\": \"#323434\"}, \"y\": {\"field\": \"bus_difference\", \"type\": \"quantitative\"}}, \"transform\": [{\"filter\": \"(datum.p50_trip === 1)\"}]}, {\"mark\": {\"type\": \"text\", \"align\": \"center\", \"baseline\": \"middle\"}, \"encoding\": {\"color\": {\"value\": \"black\"}, \"text\": {\"field\": \"pct_trips_competitive\", \"format\": \".0%\", \"type\": \"quantitative\"}, \"tooltip\": [{\"field\": \"route_id\", \"type\": \"nominal\"}, {\"field\": \"route_name\", \"type\": \"nominal\"}, {\"field\": \"trip_id\", \"type\": \"nominal\"}, {\"field\": \"service_hours\", \"type\": \"quantitative\"}, {\"field\": \"car_duration_hours\", \"type\": \"quantitative\"}, {\"field\": \"bus_multiplier\", \"type\": \"quantitative\"}, {\"field\": \"bus_difference\", \"type\": \"quantitative\"}, {\"field\": \"num_trips\", \"type\": \"quantitative\"}, {\"field\": \"num_competitive\", \"type\": \"quantitative\"}, {\"field\": \"pct_trips_competitive\", \"type\": \"quantitative\"}, {\"field\": \"p25\", \"type\": \"quantitative\"}, {\"field\": \"p50\", \"type\": \"quantitative\"}, {\"field\": \"p75\", \"type\": \"quantitative\"}], \"x\": {\"value\": 30}, \"y\": {\"value\": 15}}, \"transform\": [{\"calculate\": \"sqrt(-2*log(random()))*cos(2*PI*random())\", \"as\": \"jitter\"}, {\"filter\": \"(datum.fastest_trip === 1)\"}]}]}]}, \"resolve\": {\"scale\": {\"y\": \"shared\"}}, \"title\": \"Difference in Bus to Car Travel Time (min)\", \"$schema\": \"https://vega.github.io/schema/vega-lite/v4.17.0.json\", \"datasets\": {\"data-2b139843f90126d78cbc785a28c428c9\": [{\"calitp_itp_id\": 146, \"trip_key\": 5211490308251541962, \"trip_id\": \"t_2002771_b_33402_tn_0\", \"shape_id\": \"p_3036\", \"route_id\": \"1163\", \"service_hours\": 1.08, \"trip_first_departure_ts\": 75600, \"trip_last_arrival_ts\": 79500, \"departure_hour\": 21, \"time_of_day\": \"Owl Service\", \"p25\": 1.25, \"p50\": 1.25, \"p75\": 1.33, \"p50_trip\": 0, \"fastest_trip\": 1, \"car_duration_hours\": 0.96, \"competitive_route\": 1, \"bus_multiplier\": 1.13, \"bus_difference\": 7.2, \"num_trips\": 13, \"num_competitive\": 13, \"pct_trips_competitive\": 1.0, \"bus_difference_spread\": 15.0, \"route_group\": \"medium\", \"max_trip_hrs\": 1.33, \"max_trip_route_group\": 1.33, \"below_cutoff\": 13, \"pct_below_cutoff\": 1.0, \"name\": \"Kern County\", \"caltrans_district\": \"06 - Fresno\", \"drmt_organization_name\": null, \"route_name\": \"Lamont - Bakersfield North\", \"cutoff2\": 30, \"cutoff\": 0}, {\"calitp_itp_id\": 146, \"trip_key\": 6782577905836505620, \"trip_id\": \"t_2002770_b_33402_tn_0\", \"shape_id\": \"p_3036\", \"route_id\": \"1163\", \"service_hours\": 1.08, \"trip_first_departure_ts\": 72000, \"trip_last_arrival_ts\": 75900, \"departure_hour\": 20, \"time_of_day\": \"Owl Service\", \"p25\": 1.25, \"p50\": 1.25, \"p75\": 1.33, \"p50_trip\": 0, \"fastest_trip\": 0, \"car_duration_hours\": 0.96, \"competitive_route\": 1, \"bus_multiplier\": 1.13, \"bus_difference\": 7.2, \"num_trips\": 13, \"num_competitive\": 13, \"pct_trips_competitive\": 1.0, \"bus_difference_spread\": 15.0, \"route_group\": \"medium\", \"max_trip_hrs\": 1.33, \"max_trip_route_group\": 1.33, \"below_cutoff\": 13, \"pct_below_cutoff\": 1.0, \"name\": \"Kern County\", \"caltrans_district\": \"06 - Fresno\", \"drmt_organization_name\": null, \"route_name\": \"Lamont - Bakersfield North\", \"cutoff2\": 30, \"cutoff\": 0}, {\"calitp_itp_id\": 146, \"trip_key\": -6591421217914379953, \"trip_id\": \"t_559714_b_33402_tn_0\", \"shape_id\": \"p_3013\", \"route_id\": \"1163\", \"service_hours\": 1.12, \"trip_first_departure_ts\": 21000, \"trip_last_arrival_ts\": 25020, \"departure_hour\": 5, \"time_of_day\": \"Owl Service\", \"p25\": 1.25, \"p50\": 1.25, \"p75\": 1.33, \"p50_trip\": 0, \"fastest_trip\": 0, \"car_duration_hours\": 0.96, \"competitive_route\": 1, \"bus_multiplier\": 1.17, \"bus_difference\": 9.6, \"num_trips\": 13, \"num_competitive\": 13, \"pct_trips_competitive\": 1.0, \"bus_difference_spread\": 15.0, \"route_group\": \"medium\", \"max_trip_hrs\": 1.33, \"max_trip_route_group\": 1.33, \"below_cutoff\": 13, \"pct_below_cutoff\": 1.0, \"name\": \"Kern County\", \"caltrans_district\": \"06 - Fresno\", \"drmt_organization_name\": null, \"route_name\": \"Lamont - Bakersfield North\", \"cutoff2\": 30, \"cutoff\": 0}, {\"calitp_itp_id\": 146, \"trip_key\": 4295720859202590599, \"trip_id\": \"t_2002779_b_33402_tn_0\", \"shape_id\": \"p_3034\", \"route_id\": \"1163\", \"service_hours\": 1.25, \"trip_first_departure_ts\": 39600, \"trip_last_arrival_ts\": 44100, \"departure_hour\": 11, \"time_of_day\": \"Midday\", \"p25\": 1.25, \"p50\": 1.25, \"p75\": 1.33, \"p50_trip\": 1, \"fastest_trip\": 0, \"car_duration_hours\": 0.96, \"competitive_route\": 1, \"bus_multiplier\": 1.3, \"bus_difference\": 17.4, \"num_trips\": 13, \"num_competitive\": 13, \"pct_trips_competitive\": 1.0, \"bus_difference_spread\": 15.0, \"route_group\": \"medium\", \"max_trip_hrs\": 1.33, \"max_trip_route_group\": 1.33, \"below_cutoff\": 13, \"pct_below_cutoff\": 1.0, \"name\": \"Kern County\", \"caltrans_district\": \"06 - Fresno\", \"drmt_organization_name\": null, \"route_name\": \"Lamont - Bakersfield North\", \"cutoff2\": 30, \"cutoff\": 0}, {\"calitp_itp_id\": 146, \"trip_key\": 1567663730242643159, \"trip_id\": \"t_2002778_b_33402_tn_0\", \"shape_id\": \"p_3034\", \"route_id\": \"1163\", \"service_hours\": 1.25, \"trip_first_departure_ts\": 26400, \"trip_last_arrival_ts\": 30900, \"departure_hour\": 7, \"time_of_day\": \"AM Peak\", \"p25\": 1.25, \"p50\": 1.25, \"p75\": 1.33, \"p50_trip\": 1, \"fastest_trip\": 0, \"car_duration_hours\": 0.96, \"competitive_route\": 1, \"bus_multiplier\": 1.3, \"bus_difference\": 17.4, \"num_trips\": 13, \"num_competitive\": 13, \"pct_trips_competitive\": 1.0, \"bus_difference_spread\": 15.0, \"route_group\": \"medium\", \"max_trip_hrs\": 1.33, \"max_trip_route_group\": 1.33, \"below_cutoff\": 13, \"pct_below_cutoff\": 1.0, \"name\": \"Kern County\", \"caltrans_district\": \"06 - Fresno\", \"drmt_organization_name\": null, \"route_name\": \"Lamont - Bakersfield North\", \"cutoff2\": 30, \"cutoff\": 0}, {\"calitp_itp_id\": 146, \"trip_key\": 8162709824957433861, \"trip_id\": \"t_2002776_b_33402_tn_0\", \"shape_id\": \"p_3034\", \"route_id\": \"1163\", \"service_hours\": 1.25, \"trip_first_departure_ts\": 60300, \"trip_last_arrival_ts\": 64800, \"departure_hour\": 16, \"time_of_day\": \"Midday\", \"p25\": 1.25, \"p50\": 1.25, \"p75\": 1.33, \"p50_trip\": 1, \"fastest_trip\": 0, \"car_duration_hours\": 0.96, \"competitive_route\": 1, \"bus_multiplier\": 1.3, \"bus_difference\": 17.4, \"num_trips\": 13, \"num_competitive\": 13, \"pct_trips_competitive\": 1.0, \"bus_difference_spread\": 15.0, \"route_group\": \"medium\", \"max_trip_hrs\": 1.33, \"max_trip_route_group\": 1.33, \"below_cutoff\": 13, \"pct_below_cutoff\": 1.0, \"name\": \"Kern County\", \"caltrans_district\": \"06 - Fresno\", \"drmt_organization_name\": null, \"route_name\": \"Lamont - Bakersfield North\", \"cutoff2\": 30, \"cutoff\": 0}, {\"calitp_itp_id\": 146, \"trip_key\": 6060769906077123396, \"trip_id\": \"t_2002772_b_33402_tn_0\", \"shape_id\": \"p_3034\", \"route_id\": \"1163\", \"service_hours\": 1.25, \"trip_first_departure_ts\": 53700, \"trip_last_arrival_ts\": 58200, \"departure_hour\": 14, \"time_of_day\": \"Midday\", \"p25\": 1.25, \"p50\": 1.25, \"p75\": 1.33, \"p50_trip\": 1, \"fastest_trip\": 0, \"car_duration_hours\": 0.96, \"competitive_route\": 1, \"bus_multiplier\": 1.3, \"bus_difference\": 17.4, \"num_trips\": 13, \"num_competitive\": 13, \"pct_trips_competitive\": 1.0, \"bus_difference_spread\": 15.0, \"route_group\": \"medium\", \"max_trip_hrs\": 1.33, \"max_trip_route_group\": 1.33, \"below_cutoff\": 13, \"pct_below_cutoff\": 1.0, \"name\": \"Kern County\", \"caltrans_district\": \"06 - Fresno\", \"drmt_organization_name\": null, \"route_name\": \"Lamont - Bakersfield North\", \"cutoff2\": 30, \"cutoff\": 0}, {\"calitp_itp_id\": 146, \"trip_key\": 3260627009146915986, \"trip_id\": \"t_2002787_b_33402_tn_0\", \"shape_id\": \"p_3034\", \"route_id\": \"1163\", \"service_hours\": 1.25, \"trip_first_departure_ts\": 65700, \"trip_last_arrival_ts\": 70200, \"departure_hour\": 18, \"time_of_day\": \"PM Peak\", \"p25\": 1.25, \"p50\": 1.25, \"p75\": 1.33, \"p50_trip\": 1, \"fastest_trip\": 0, \"car_duration_hours\": 0.96, \"competitive_route\": 1, \"bus_multiplier\": 1.3, \"bus_difference\": 17.4, \"num_trips\": 13, \"num_competitive\": 13, \"pct_trips_competitive\": 1.0, \"bus_difference_spread\": 15.0, \"route_group\": \"medium\", \"max_trip_hrs\": 1.33, \"max_trip_route_group\": 1.33, \"below_cutoff\": 13, \"pct_below_cutoff\": 1.0, \"name\": \"Kern County\", \"caltrans_district\": \"06 - Fresno\", \"drmt_organization_name\": null, \"route_name\": \"Lamont - Bakersfield North\", \"cutoff2\": 30, \"cutoff\": 0}, {\"calitp_itp_id\": 146, \"trip_key\": 5015425223725740371, \"trip_id\": \"t_2002775_b_33402_tn_0\", \"shape_id\": \"p_3013\", \"route_id\": \"1163\", \"service_hours\": 1.33, \"trip_first_departure_ts\": 54000, \"trip_last_arrival_ts\": 58800, \"departure_hour\": 15, \"time_of_day\": \"Midday\", \"p25\": 1.25, \"p50\": 1.25, \"p75\": 1.33, \"p50_trip\": 0, \"fastest_trip\": 0, \"car_duration_hours\": 0.96, \"competitive_route\": 1, \"bus_multiplier\": 1.39, \"bus_difference\": 22.2, \"num_trips\": 13, \"num_competitive\": 13, \"pct_trips_competitive\": 1.0, \"bus_difference_spread\": 15.0, \"route_group\": \"medium\", \"max_trip_hrs\": 1.33, \"max_trip_route_group\": 1.33, \"below_cutoff\": 13, \"pct_below_cutoff\": 1.0, \"name\": \"Kern County\", \"caltrans_district\": \"06 - Fresno\", \"drmt_organization_name\": null, \"route_name\": \"Lamont - Bakersfield North\", \"cutoff2\": 30, \"cutoff\": 0}, {\"calitp_itp_id\": 146, \"trip_key\": -7388566199753428065, \"trip_id\": \"t_2002807_b_33402_tn_0\", \"shape_id\": \"p_3013\", \"route_id\": \"1163\", \"service_hours\": 1.33, \"trip_first_departure_ts\": 34200, \"trip_last_arrival_ts\": 39000, \"departure_hour\": 9, \"time_of_day\": \"AM Peak\", \"p25\": 1.25, \"p50\": 1.25, \"p75\": 1.33, \"p50_trip\": 0, \"fastest_trip\": 0, \"car_duration_hours\": 0.96, \"competitive_route\": 1, \"bus_multiplier\": 1.39, \"bus_difference\": 22.2, \"num_trips\": 13, \"num_competitive\": 13, \"pct_trips_competitive\": 1.0, \"bus_difference_spread\": 15.0, \"route_group\": \"medium\", \"max_trip_hrs\": 1.33, \"max_trip_route_group\": 1.33, \"below_cutoff\": 13, \"pct_below_cutoff\": 1.0, \"name\": \"Kern County\", \"caltrans_district\": \"06 - Fresno\", \"drmt_organization_name\": null, \"route_name\": \"Lamont - Bakersfield North\", \"cutoff2\": 30, \"cutoff\": 0}, {\"calitp_itp_id\": 146, \"trip_key\": 1987559820588106096, \"trip_id\": \"t_2002777_b_33402_tn_0\", \"shape_id\": \"p_3013\", \"route_id\": \"1163\", \"service_hours\": 1.33, \"trip_first_departure_ts\": 66600, \"trip_last_arrival_ts\": 71400, \"departure_hour\": 18, \"time_of_day\": \"PM Peak\", \"p25\": 1.25, \"p50\": 1.25, \"p75\": 1.33, \"p50_trip\": 0, \"fastest_trip\": 0, \"car_duration_hours\": 0.96, \"competitive_route\": 1, \"bus_multiplier\": 1.39, \"bus_difference\": 22.2, \"num_trips\": 13, \"num_competitive\": 13, \"pct_trips_competitive\": 1.0, \"bus_difference_spread\": 15.0, \"route_group\": \"medium\", \"max_trip_hrs\": 1.33, \"max_trip_route_group\": 1.33, \"below_cutoff\": 13, \"pct_below_cutoff\": 1.0, \"name\": \"Kern County\", \"caltrans_district\": \"06 - Fresno\", \"drmt_organization_name\": null, \"route_name\": \"Lamont - Bakersfield North\", \"cutoff2\": 30, \"cutoff\": 0}, {\"calitp_itp_id\": 146, \"trip_key\": -1052382042662736337, \"trip_id\": \"t_559741_b_33402_tn_0\", \"shape_id\": \"p_3013\", \"route_id\": \"1163\", \"service_hours\": 1.33, \"trip_first_departure_ts\": 59400, \"trip_last_arrival_ts\": 64200, \"departure_hour\": 16, \"time_of_day\": \"Midday\", \"p25\": 1.25, \"p50\": 1.25, \"p75\": 1.33, \"p50_trip\": 0, \"fastest_trip\": 0, \"car_duration_hours\": 0.96, \"competitive_route\": 1, \"bus_multiplier\": 1.39, \"bus_difference\": 22.2, \"num_trips\": 13, \"num_competitive\": 13, \"pct_trips_competitive\": 1.0, \"bus_difference_spread\": 15.0, \"route_group\": \"medium\", \"max_trip_hrs\": 1.33, \"max_trip_route_group\": 1.33, \"below_cutoff\": 13, \"pct_below_cutoff\": 1.0, \"name\": \"Kern County\", \"caltrans_district\": \"06 - Fresno\", \"drmt_organization_name\": null, \"route_name\": \"Lamont - Bakersfield North\", \"cutoff2\": 30, \"cutoff\": 0}, {\"calitp_itp_id\": 146, \"trip_key\": 1418610618519928346, \"trip_id\": \"t_559598_b_33402_tn_0\", \"shape_id\": \"p_3013\", \"route_id\": \"1163\", \"service_hours\": 1.33, \"trip_first_departure_ts\": 46800, \"trip_last_arrival_ts\": 51600, \"departure_hour\": 13, \"time_of_day\": \"Midday\", \"p25\": 1.25, \"p50\": 1.25, \"p75\": 1.33, \"p50_trip\": 0, \"fastest_trip\": 0, \"car_duration_hours\": 0.96, \"competitive_route\": 1, \"bus_multiplier\": 1.39, \"bus_difference\": 22.2, \"num_trips\": 13, \"num_competitive\": 13, \"pct_trips_competitive\": 1.0, \"bus_difference_spread\": 15.0, \"route_group\": \"medium\", \"max_trip_hrs\": 1.33, \"max_trip_route_group\": 1.33, \"below_cutoff\": 13, \"pct_below_cutoff\": 1.0, \"name\": \"Kern County\", \"caltrans_district\": \"06 - Fresno\", \"drmt_organization_name\": null, \"route_name\": \"Lamont - Bakersfield North\", \"cutoff2\": 30, \"cutoff\": 0}]}}, {\"mode\": \"vega-lite\"});\n",
       "</script>"
      ],
      "text/plain": [
       "alt.FacetChart(...)"
      ]
     },
     "metadata": {},
     "output_type": "display_data"
    },
    {
     "data": {
      "text/html": [
       "<h4>Route Stats</h4>"
      ],
      "text/plain": [
       "<IPython.core.display.HTML object>"
      ]
     },
     "metadata": {},
     "output_type": "display_data"
    },
    {
     "data": {
      "text/html": [
       "<style type=\"text/css\">\n",
       "#T_b83f6 th {\n",
       "  text-align: center;\n",
       "}\n",
       "#T_b83f6_row0_col0, #T_b83f6_row0_col1 {\n",
       "  text-align: left;\n",
       "}\n",
       "#T_b83f6_row0_col2, #T_b83f6_row0_col3, #T_b83f6_row0_col5 {\n",
       "  text-align: center;\n",
       "}\n",
       "</style>\n",
       "<table id=\"T_b83f6\">\n",
       "  <thead>\n",
       "    <tr>\n",
       "      <th id=\"T_b83f6_level0_col0\" class=\"col_heading level0 col0\" >Route ID</th>\n",
       "      <th id=\"T_b83f6_level0_col1\" class=\"col_heading level0 col1\" >Route Name</th>\n",
       "      <th id=\"T_b83f6_level0_col2\" class=\"col_heading level0 col2\" ># trips</th>\n",
       "      <th id=\"T_b83f6_level0_col3\" class=\"col_heading level0 col3\" >Daily Avg Freq (trips per hr)</th>\n",
       "      <th id=\"T_b83f6_level0_col4\" class=\"col_heading level0 col4\" >25th, 50th, 75th ptile (hrs)</th>\n",
       "      <th id=\"T_b83f6_level0_col5\" class=\"col_heading level0 col5\" >PM Peak Avg Freq (trips per hr)</th>\n",
       "    </tr>\n",
       "  </thead>\n",
       "  <tbody>\n",
       "    <tr>\n",
       "      <td id=\"T_b83f6_row0_col0\" class=\"data row0 col0\" >1163</td>\n",
       "      <td id=\"T_b83f6_row0_col1\" class=\"data row0 col1\" >Lamont - Bakersfield North</td>\n",
       "      <td id=\"T_b83f6_row0_col2\" class=\"data row0 col2\" >13</td>\n",
       "      <td id=\"T_b83f6_row0_col3\" class=\"data row0 col3\" >0.54</td>\n",
       "      <td id=\"T_b83f6_row0_col4\" class=\"data row0 col4\" >1.25, 1.25, 1.33</td>\n",
       "      <td id=\"T_b83f6_row0_col5\" class=\"data row0 col5\" >0.67</td>\n",
       "    </tr>\n",
       "  </tbody>\n",
       "</table>\n"
      ],
      "text/plain": [
       "<IPython.core.display.HTML object>"
      ]
     },
     "metadata": {},
     "output_type": "display_data"
    }
   ],
   "source": [
    "route_group = \"medium\"\n",
    "try:\n",
    "    display_charts_for_route_group(df, route_group)\n",
    "except:\n",
    "    print(\"No routes meet this criteria.\")"
   ]
  },
  {
   "cell_type": "markdown",
   "id": "124b76d0-886c-4d03-92ac-f1bda3cda182",
   "metadata": {
    "papermill": {
     "duration": 0.018807,
     "end_time": "2022-05-12T02:16:28.024268",
     "exception": false,
     "start_time": "2022-05-12T02:16:28.005461",
     "status": "completed"
    },
    "tags": []
   },
   "source": [
    "### Long Routes (> 1.5 hrs)"
   ]
  },
  {
   "cell_type": "code",
   "execution_count": 16,
   "id": "ddc81b19-4c45-4c81-8b7a-5e0f394aa7a3",
   "metadata": {
    "execution": {
     "iopub.execute_input": "2022-05-12T02:16:28.065735Z",
     "iopub.status.busy": "2022-05-12T02:16:28.065039Z",
     "iopub.status.idle": "2022-05-12T02:16:28.302959Z",
     "shell.execute_reply": "2022-05-12T02:16:28.302263Z"
    },
    "jupyter": {
     "source_hidden": true
    },
    "papermill": {
     "duration": 0.260153,
     "end_time": "2022-05-12T02:16:28.304837",
     "exception": false,
     "start_time": "2022-05-12T02:16:28.044684",
     "status": "completed"
    },
    "tags": [
     "remove_input"
    ]
   },
   "outputs": [
    {
     "data": {
      "text/markdown": [
       "<br>These are routes that have **at least 50% of their trips take no more than an additional 40 min** compared to a car (up to 15 routes) are shown.<br>Within each route group, routes are sorted in descending order by % competitive trips and # trips below the additional time cut-off."
      ],
      "text/plain": [
       "<IPython.core.display.Markdown object>"
      ]
     },
     "metadata": {},
     "output_type": "display_data"
    },
    {
     "data": {
      "text/html": [
       "\n",
       "<div id=\"altair-viz-d133b0f4d73f43509b099c021ea36c4f\"></div>\n",
       "<script type=\"text/javascript\">\n",
       "  var VEGA_DEBUG = (typeof VEGA_DEBUG == \"undefined\") ? {} : VEGA_DEBUG;\n",
       "  (function(spec, embedOpt){\n",
       "    let outputDiv = document.currentScript.previousElementSibling;\n",
       "    if (outputDiv.id !== \"altair-viz-d133b0f4d73f43509b099c021ea36c4f\") {\n",
       "      outputDiv = document.getElementById(\"altair-viz-d133b0f4d73f43509b099c021ea36c4f\");\n",
       "    }\n",
       "    const paths = {\n",
       "      \"vega\": \"https://cdn.jsdelivr.net/npm//vega@5?noext\",\n",
       "      \"vega-lib\": \"https://cdn.jsdelivr.net/npm//vega-lib?noext\",\n",
       "      \"vega-lite\": \"https://cdn.jsdelivr.net/npm//vega-lite@4.17.0?noext\",\n",
       "      \"vega-embed\": \"https://cdn.jsdelivr.net/npm//vega-embed@6?noext\",\n",
       "    };\n",
       "\n",
       "    function maybeLoadScript(lib, version) {\n",
       "      var key = `${lib.replace(\"-\", \"\")}_version`;\n",
       "      return (VEGA_DEBUG[key] == version) ?\n",
       "        Promise.resolve(paths[lib]) :\n",
       "        new Promise(function(resolve, reject) {\n",
       "          var s = document.createElement('script');\n",
       "          document.getElementsByTagName(\"head\")[0].appendChild(s);\n",
       "          s.async = true;\n",
       "          s.onload = () => {\n",
       "            VEGA_DEBUG[key] = version;\n",
       "            return resolve(paths[lib]);\n",
       "          };\n",
       "          s.onerror = () => reject(`Error loading script: ${paths[lib]}`);\n",
       "          s.src = paths[lib];\n",
       "        });\n",
       "    }\n",
       "\n",
       "    function showError(err) {\n",
       "      outputDiv.innerHTML = `<div class=\"error\" style=\"color:red;\">${err}</div>`;\n",
       "      throw err;\n",
       "    }\n",
       "\n",
       "    function displayChart(vegaEmbed) {\n",
       "      vegaEmbed(outputDiv, spec, embedOpt)\n",
       "        .catch(err => showError(`Javascript Error: ${err.message}<br>This usually means there's a typo in your chart specification. See the javascript console for the full traceback.`));\n",
       "    }\n",
       "\n",
       "    if(typeof define === \"function\" && define.amd) {\n",
       "      requirejs.config({paths});\n",
       "      require([\"vega-embed\"], displayChart, err => showError(`Error loading script: ${err.message}`));\n",
       "    } else {\n",
       "      maybeLoadScript(\"vega\", \"5\")\n",
       "        .then(() => maybeLoadScript(\"vega-lite\", \"4.17.0\"))\n",
       "        .then(() => maybeLoadScript(\"vega-embed\", \"6\"))\n",
       "        .catch(showError)\n",
       "        .then(() => displayChart(vegaEmbed));\n",
       "    }\n",
       "  })({\"config\": {\"view\": {\"continuousWidth\": 400, \"continuousHeight\": 300, \"stroke\": null}, \"facet\": {\"spacing\": 0}}, \"data\": {\"name\": \"data-59b2302dc6e4d3b7fe3033e1f94b8ee9\"}, \"facet\": {\"column\": {\"field\": \"route_id\", \"sort\": [\"1161\"], \"title\": \"Route ID\", \"type\": \"nominal\"}}, \"spec\": {\"layer\": [{\"mark\": \"rule\", \"encoding\": {\"color\": {\"value\": \"black\"}, \"y\": {\"field\": \"cutoff\", \"type\": \"quantitative\"}}, \"selection\": {\"selector005\": {\"type\": \"interval\", \"bind\": \"scales\", \"encodings\": [\"x\", \"y\"]}}}, {\"mark\": {\"type\": \"point\", \"opacity\": 0.65, \"size\": 12, \"strokeWidth\": 1.1}, \"encoding\": {\"color\": {\"field\": \"time_of_day\", \"scale\": {\"range\": [\"#136C97\", \"#E16B26\", \"#F6BF16\", \"#00896B\", \"#7790A3\", \"#5B559C\"]}, \"sort\": [\"AM Peak\", \"Midday\", \"PM Peak\", \"Owl Service\"], \"title\": \"Time of Day\", \"type\": \"nominal\"}, \"tooltip\": [{\"field\": \"route_id\", \"type\": \"nominal\"}, {\"field\": \"route_name\", \"type\": \"nominal\"}, {\"field\": \"trip_id\", \"type\": \"nominal\"}, {\"field\": \"service_hours\", \"type\": \"quantitative\"}, {\"field\": \"car_duration_hours\", \"type\": \"quantitative\"}, {\"field\": \"bus_multiplier\", \"type\": \"quantitative\"}, {\"field\": \"bus_difference\", \"type\": \"quantitative\"}, {\"field\": \"num_trips\", \"type\": \"quantitative\"}, {\"field\": \"num_competitive\", \"type\": \"quantitative\"}, {\"field\": \"pct_trips_competitive\", \"type\": \"quantitative\"}, {\"field\": \"p25\", \"type\": \"quantitative\"}, {\"field\": \"p50\", \"type\": \"quantitative\"}, {\"field\": \"p75\", \"type\": \"quantitative\"}], \"x\": {\"axis\": {\"grid\": false, \"labels\": false, \"ticks\": true, \"values\": [0]}, \"field\": \"jitter\", \"scale\": {}, \"title\": null, \"type\": \"quantitative\"}, \"y\": {\"field\": \"bus_multiplier\", \"scale\": {\"domain\": [-0.25, 3.0]}, \"title\": \"Ratio of Bus to Car Travel Time\", \"type\": \"quantitative\"}}, \"transform\": [{\"calculate\": \"sqrt(-2*log(random()))*cos(2*PI*random())\", \"as\": \"jitter\"}], \"width\": 50}, {\"layer\": [{\"mark\": {\"type\": \"point\", \"opacity\": 0.6, \"size\": 20, \"strokeWidth\": 1.3}, \"encoding\": {\"color\": {\"value\": \"#323434\"}, \"y\": {\"field\": \"bus_multiplier\", \"type\": \"quantitative\"}}, \"transform\": [{\"filter\": \"(datum.p50_trip === 1)\"}]}, {\"mark\": {\"type\": \"text\", \"align\": \"center\", \"baseline\": \"middle\"}, \"encoding\": {\"color\": {\"value\": \"black\"}, \"text\": {\"field\": \"pct_trips_competitive\", \"format\": \".0%\", \"type\": \"quantitative\"}, \"tooltip\": [{\"field\": \"route_id\", \"type\": \"nominal\"}, {\"field\": \"route_name\", \"type\": \"nominal\"}, {\"field\": \"trip_id\", \"type\": \"nominal\"}, {\"field\": \"service_hours\", \"type\": \"quantitative\"}, {\"field\": \"car_duration_hours\", \"type\": \"quantitative\"}, {\"field\": \"bus_multiplier\", \"type\": \"quantitative\"}, {\"field\": \"bus_difference\", \"type\": \"quantitative\"}, {\"field\": \"num_trips\", \"type\": \"quantitative\"}, {\"field\": \"num_competitive\", \"type\": \"quantitative\"}, {\"field\": \"pct_trips_competitive\", \"type\": \"quantitative\"}, {\"field\": \"p25\", \"type\": \"quantitative\"}, {\"field\": \"p50\", \"type\": \"quantitative\"}, {\"field\": \"p75\", \"type\": \"quantitative\"}], \"x\": {\"value\": 30}, \"y\": {\"value\": 15}}, \"transform\": [{\"calculate\": \"sqrt(-2*log(random()))*cos(2*PI*random())\", \"as\": \"jitter\"}, {\"filter\": \"(datum.fastest_trip === 1)\"}]}]}]}, \"resolve\": {\"scale\": {\"y\": \"shared\"}}, \"title\": \"Ratio of Bus to Car Travel Time\", \"$schema\": \"https://vega.github.io/schema/vega-lite/v4.17.0.json\", \"datasets\": {\"data-59b2302dc6e4d3b7fe3033e1f94b8ee9\": [{\"calitp_itp_id\": 146, \"trip_key\": -2938986463235106552, \"trip_id\": \"t_1270746_b_33402_tn_0\", \"shape_id\": \"p_3083\", \"route_id\": \"1161\", \"service_hours\": 1.3, \"trip_first_departure_ts\": 69900, \"trip_last_arrival_ts\": 74580, \"departure_hour\": 19, \"time_of_day\": \"PM Peak\", \"p25\": 1.48, \"p50\": 1.48, \"p75\": 1.55, \"p50_trip\": 0, \"fastest_trip\": 1, \"car_duration_hours\": 0.97, \"competitive_route\": 1, \"bus_multiplier\": 1.34, \"bus_difference\": 19.8, \"num_trips\": 9, \"num_competitive\": 9, \"pct_trips_competitive\": 1.0, \"bus_difference_spread\": 14.999999999999996, \"route_group\": \"long\", \"max_trip_hrs\": 1.55, \"max_trip_route_group\": 1.55, \"below_cutoff\": 9, \"pct_below_cutoff\": 1.0, \"name\": \"Kern County\", \"caltrans_district\": \"06 - Fresno\", \"drmt_organization_name\": null, \"route_name\": \"Delano - Bakersfield\", \"cutoff2\": 40, \"cutoff\": 2}, {\"calitp_itp_id\": 146, \"trip_key\": -27775948743421188, \"trip_id\": \"t_1270752_b_33402_tn_0\", \"shape_id\": \"p_787635\", \"route_id\": \"1161\", \"service_hours\": 1.37, \"trip_first_departure_ts\": 15600, \"trip_last_arrival_ts\": 20520, \"departure_hour\": 4, \"time_of_day\": \"Owl Service\", \"p25\": 1.48, \"p50\": 1.48, \"p75\": 1.55, \"p50_trip\": 0, \"fastest_trip\": 0, \"car_duration_hours\": 0.97, \"competitive_route\": 1, \"bus_multiplier\": 1.41, \"bus_difference\": 24.0, \"num_trips\": 9, \"num_competitive\": 9, \"pct_trips_competitive\": 1.0, \"bus_difference_spread\": 14.999999999999996, \"route_group\": \"long\", \"max_trip_hrs\": 1.55, \"max_trip_route_group\": 1.55, \"below_cutoff\": 9, \"pct_below_cutoff\": 1.0, \"name\": \"Kern County\", \"caltrans_district\": \"06 - Fresno\", \"drmt_organization_name\": null, \"route_name\": \"Delano - Bakersfield\", \"cutoff2\": 40, \"cutoff\": 2}, {\"calitp_itp_id\": 146, \"trip_key\": -7990793653844275569, \"trip_id\": \"t_1270743_b_33402_tn_0\", \"shape_id\": \"p_178359\", \"route_id\": \"1161\", \"service_hours\": 1.48, \"trip_first_departure_ts\": 35700, \"trip_last_arrival_ts\": 41040, \"departure_hour\": 9, \"time_of_day\": \"AM Peak\", \"p25\": 1.48, \"p50\": 1.48, \"p75\": 1.55, \"p50_trip\": 1, \"fastest_trip\": 0, \"car_duration_hours\": 0.97, \"competitive_route\": 1, \"bus_multiplier\": 1.53, \"bus_difference\": 30.6, \"num_trips\": 9, \"num_competitive\": 9, \"pct_trips_competitive\": 1.0, \"bus_difference_spread\": 14.999999999999996, \"route_group\": \"long\", \"max_trip_hrs\": 1.55, \"max_trip_route_group\": 1.55, \"below_cutoff\": 9, \"pct_below_cutoff\": 1.0, \"name\": \"Kern County\", \"caltrans_district\": \"06 - Fresno\", \"drmt_organization_name\": null, \"route_name\": \"Delano - Bakersfield\", \"cutoff2\": 40, \"cutoff\": 2}, {\"calitp_itp_id\": 146, \"trip_key\": 2981651922526876918, \"trip_id\": \"t_1270748_b_33402_tn_0\", \"shape_id\": \"p_178359\", \"route_id\": \"1161\", \"service_hours\": 1.48, \"trip_first_departure_ts\": 56100, \"trip_last_arrival_ts\": 61440, \"departure_hour\": 15, \"time_of_day\": \"Midday\", \"p25\": 1.48, \"p50\": 1.48, \"p75\": 1.55, \"p50_trip\": 1, \"fastest_trip\": 0, \"car_duration_hours\": 0.97, \"competitive_route\": 1, \"bus_multiplier\": 1.53, \"bus_difference\": 30.6, \"num_trips\": 9, \"num_competitive\": 9, \"pct_trips_competitive\": 1.0, \"bus_difference_spread\": 14.999999999999996, \"route_group\": \"long\", \"max_trip_hrs\": 1.55, \"max_trip_route_group\": 1.55, \"below_cutoff\": 9, \"pct_below_cutoff\": 1.0, \"name\": \"Kern County\", \"caltrans_district\": \"06 - Fresno\", \"drmt_organization_name\": null, \"route_name\": \"Delano - Bakersfield\", \"cutoff2\": 40, \"cutoff\": 2}, {\"calitp_itp_id\": 146, \"trip_key\": 8490347904405264088, \"trip_id\": \"t_1270741_b_33402_tn_0\", \"shape_id\": \"p_178359\", \"route_id\": \"1161\", \"service_hours\": 1.48, \"trip_first_departure_ts\": 21000, \"trip_last_arrival_ts\": 26340, \"departure_hour\": 5, \"time_of_day\": \"Owl Service\", \"p25\": 1.48, \"p50\": 1.48, \"p75\": 1.55, \"p50_trip\": 1, \"fastest_trip\": 0, \"car_duration_hours\": 0.97, \"competitive_route\": 1, \"bus_multiplier\": 1.53, \"bus_difference\": 30.6, \"num_trips\": 9, \"num_competitive\": 9, \"pct_trips_competitive\": 1.0, \"bus_difference_spread\": 14.999999999999996, \"route_group\": \"long\", \"max_trip_hrs\": 1.55, \"max_trip_route_group\": 1.55, \"below_cutoff\": 9, \"pct_below_cutoff\": 1.0, \"name\": \"Kern County\", \"caltrans_district\": \"06 - Fresno\", \"drmt_organization_name\": null, \"route_name\": \"Delano - Bakersfield\", \"cutoff2\": 40, \"cutoff\": 2}, {\"calitp_itp_id\": 146, \"trip_key\": 1262263643627312031, \"trip_id\": \"t_1270750_b_33402_tn_0\", \"shape_id\": \"p_111843\", \"route_id\": \"1161\", \"service_hours\": 1.55, \"trip_first_departure_ts\": 48900, \"trip_last_arrival_ts\": 54480, \"departure_hour\": 13, \"time_of_day\": \"Midday\", \"p25\": 1.48, \"p50\": 1.48, \"p75\": 1.55, \"p50_trip\": 0, \"fastest_trip\": 0, \"car_duration_hours\": 0.97, \"competitive_route\": 1, \"bus_multiplier\": 1.6, \"bus_difference\": 34.8, \"num_trips\": 9, \"num_competitive\": 9, \"pct_trips_competitive\": 1.0, \"bus_difference_spread\": 14.999999999999996, \"route_group\": \"long\", \"max_trip_hrs\": 1.55, \"max_trip_route_group\": 1.55, \"below_cutoff\": 9, \"pct_below_cutoff\": 1.0, \"name\": \"Kern County\", \"caltrans_district\": \"06 - Fresno\", \"drmt_organization_name\": null, \"route_name\": \"Delano - Bakersfield\", \"cutoff2\": 40, \"cutoff\": 2}, {\"calitp_itp_id\": 146, \"trip_key\": -8012276736357788588, \"trip_id\": \"t_1270747_b_33402_tn_0\", \"shape_id\": \"p_111843\", \"route_id\": \"1161\", \"service_hours\": 1.55, \"trip_first_departure_ts\": 63900, \"trip_last_arrival_ts\": 69480, \"departure_hour\": 17, \"time_of_day\": \"PM Peak\", \"p25\": 1.48, \"p50\": 1.48, \"p75\": 1.55, \"p50_trip\": 0, \"fastest_trip\": 0, \"car_duration_hours\": 0.97, \"competitive_route\": 1, \"bus_multiplier\": 1.6, \"bus_difference\": 34.8, \"num_trips\": 9, \"num_competitive\": 9, \"pct_trips_competitive\": 1.0, \"bus_difference_spread\": 14.999999999999996, \"route_group\": \"long\", \"max_trip_hrs\": 1.55, \"max_trip_route_group\": 1.55, \"below_cutoff\": 9, \"pct_below_cutoff\": 1.0, \"name\": \"Kern County\", \"caltrans_district\": \"06 - Fresno\", \"drmt_organization_name\": null, \"route_name\": \"Delano - Bakersfield\", \"cutoff2\": 40, \"cutoff\": 2}, {\"calitp_itp_id\": 146, \"trip_key\": -1436786589014759050, \"trip_id\": \"t_1270744_b_33402_tn_0\", \"shape_id\": \"p_111843\", \"route_id\": \"1161\", \"service_hours\": 1.55, \"trip_first_departure_ts\": 72900, \"trip_last_arrival_ts\": 78480, \"departure_hour\": 20, \"time_of_day\": \"Owl Service\", \"p25\": 1.48, \"p50\": 1.48, \"p75\": 1.55, \"p50_trip\": 0, \"fastest_trip\": 0, \"car_duration_hours\": 0.97, \"competitive_route\": 1, \"bus_multiplier\": 1.6, \"bus_difference\": 34.8, \"num_trips\": 9, \"num_competitive\": 9, \"pct_trips_competitive\": 1.0, \"bus_difference_spread\": 14.999999999999996, \"route_group\": \"long\", \"max_trip_hrs\": 1.55, \"max_trip_route_group\": 1.55, \"below_cutoff\": 9, \"pct_below_cutoff\": 1.0, \"name\": \"Kern County\", \"caltrans_district\": \"06 - Fresno\", \"drmt_organization_name\": null, \"route_name\": \"Delano - Bakersfield\", \"cutoff2\": 40, \"cutoff\": 2}, {\"calitp_itp_id\": 146, \"trip_key\": -3446891539184357635, \"trip_id\": \"t_1270740_b_33402_tn_0\", \"shape_id\": \"p_111843\", \"route_id\": \"1161\", \"service_hours\": 1.55, \"trip_first_departure_ts\": 28800, \"trip_last_arrival_ts\": 34380, \"departure_hour\": 8, \"time_of_day\": \"AM Peak\", \"p25\": 1.48, \"p50\": 1.48, \"p75\": 1.55, \"p50_trip\": 0, \"fastest_trip\": 0, \"car_duration_hours\": 0.97, \"competitive_route\": 1, \"bus_multiplier\": 1.6, \"bus_difference\": 34.8, \"num_trips\": 9, \"num_competitive\": 9, \"pct_trips_competitive\": 1.0, \"bus_difference_spread\": 14.999999999999996, \"route_group\": \"long\", \"max_trip_hrs\": 1.55, \"max_trip_route_group\": 1.55, \"below_cutoff\": 9, \"pct_below_cutoff\": 1.0, \"name\": \"Kern County\", \"caltrans_district\": \"06 - Fresno\", \"drmt_organization_name\": null, \"route_name\": \"Delano - Bakersfield\", \"cutoff2\": 40, \"cutoff\": 2}]}}, {\"mode\": \"vega-lite\"});\n",
       "</script>"
      ],
      "text/plain": [
       "alt.FacetChart(...)"
      ]
     },
     "metadata": {},
     "output_type": "display_data"
    },
    {
     "data": {
      "text/html": [
       "\n",
       "<div id=\"altair-viz-d226f98bac01444fa75eda887212a281\"></div>\n",
       "<script type=\"text/javascript\">\n",
       "  var VEGA_DEBUG = (typeof VEGA_DEBUG == \"undefined\") ? {} : VEGA_DEBUG;\n",
       "  (function(spec, embedOpt){\n",
       "    let outputDiv = document.currentScript.previousElementSibling;\n",
       "    if (outputDiv.id !== \"altair-viz-d226f98bac01444fa75eda887212a281\") {\n",
       "      outputDiv = document.getElementById(\"altair-viz-d226f98bac01444fa75eda887212a281\");\n",
       "    }\n",
       "    const paths = {\n",
       "      \"vega\": \"https://cdn.jsdelivr.net/npm//vega@5?noext\",\n",
       "      \"vega-lib\": \"https://cdn.jsdelivr.net/npm//vega-lib?noext\",\n",
       "      \"vega-lite\": \"https://cdn.jsdelivr.net/npm//vega-lite@4.17.0?noext\",\n",
       "      \"vega-embed\": \"https://cdn.jsdelivr.net/npm//vega-embed@6?noext\",\n",
       "    };\n",
       "\n",
       "    function maybeLoadScript(lib, version) {\n",
       "      var key = `${lib.replace(\"-\", \"\")}_version`;\n",
       "      return (VEGA_DEBUG[key] == version) ?\n",
       "        Promise.resolve(paths[lib]) :\n",
       "        new Promise(function(resolve, reject) {\n",
       "          var s = document.createElement('script');\n",
       "          document.getElementsByTagName(\"head\")[0].appendChild(s);\n",
       "          s.async = true;\n",
       "          s.onload = () => {\n",
       "            VEGA_DEBUG[key] = version;\n",
       "            return resolve(paths[lib]);\n",
       "          };\n",
       "          s.onerror = () => reject(`Error loading script: ${paths[lib]}`);\n",
       "          s.src = paths[lib];\n",
       "        });\n",
       "    }\n",
       "\n",
       "    function showError(err) {\n",
       "      outputDiv.innerHTML = `<div class=\"error\" style=\"color:red;\">${err}</div>`;\n",
       "      throw err;\n",
       "    }\n",
       "\n",
       "    function displayChart(vegaEmbed) {\n",
       "      vegaEmbed(outputDiv, spec, embedOpt)\n",
       "        .catch(err => showError(`Javascript Error: ${err.message}<br>This usually means there's a typo in your chart specification. See the javascript console for the full traceback.`));\n",
       "    }\n",
       "\n",
       "    if(typeof define === \"function\" && define.amd) {\n",
       "      requirejs.config({paths});\n",
       "      require([\"vega-embed\"], displayChart, err => showError(`Error loading script: ${err.message}`));\n",
       "    } else {\n",
       "      maybeLoadScript(\"vega\", \"5\")\n",
       "        .then(() => maybeLoadScript(\"vega-lite\", \"4.17.0\"))\n",
       "        .then(() => maybeLoadScript(\"vega-embed\", \"6\"))\n",
       "        .catch(showError)\n",
       "        .then(() => displayChart(vegaEmbed));\n",
       "    }\n",
       "  })({\"config\": {\"view\": {\"continuousWidth\": 400, \"continuousHeight\": 300, \"stroke\": null}, \"facet\": {\"spacing\": 0}}, \"data\": {\"name\": \"data-7fe5b8802313cfdac4aba6ffc6e5b3e6\"}, \"facet\": {\"column\": {\"field\": \"route_id\", \"sort\": [\"1161\"], \"title\": \"Route ID\", \"type\": \"nominal\"}}, \"spec\": {\"layer\": [{\"mark\": \"rule\", \"encoding\": {\"color\": {\"value\": \"black\"}, \"y\": {\"field\": \"cutoff\", \"type\": \"quantitative\"}}, \"selection\": {\"selector006\": {\"type\": \"interval\", \"bind\": \"scales\", \"encodings\": [\"x\", \"y\"]}}}, {\"mark\": {\"type\": \"rule\", \"strokeDash\": [3, 3]}, \"encoding\": {\"color\": {\"value\": \"#323434\"}, \"y\": {\"field\": \"cutoff2\", \"type\": \"quantitative\"}}}, {\"mark\": {\"type\": \"point\", \"opacity\": 0.65, \"size\": 12, \"strokeWidth\": 1.1}, \"encoding\": {\"color\": {\"field\": \"time_of_day\", \"scale\": {\"range\": [\"#136C97\", \"#E16B26\", \"#F6BF16\", \"#00896B\", \"#7790A3\", \"#5B559C\"]}, \"sort\": [\"AM Peak\", \"Midday\", \"PM Peak\", \"Owl Service\"], \"title\": \"Time of Day\", \"type\": \"nominal\"}, \"tooltip\": [{\"field\": \"route_id\", \"type\": \"nominal\"}, {\"field\": \"route_name\", \"type\": \"nominal\"}, {\"field\": \"trip_id\", \"type\": \"nominal\"}, {\"field\": \"service_hours\", \"type\": \"quantitative\"}, {\"field\": \"car_duration_hours\", \"type\": \"quantitative\"}, {\"field\": \"bus_multiplier\", \"type\": \"quantitative\"}, {\"field\": \"bus_difference\", \"type\": \"quantitative\"}, {\"field\": \"num_trips\", \"type\": \"quantitative\"}, {\"field\": \"num_competitive\", \"type\": \"quantitative\"}, {\"field\": \"pct_trips_competitive\", \"type\": \"quantitative\"}, {\"field\": \"p25\", \"type\": \"quantitative\"}, {\"field\": \"p50\", \"type\": \"quantitative\"}, {\"field\": \"p75\", \"type\": \"quantitative\"}], \"x\": {\"axis\": {\"grid\": false, \"labels\": false, \"ticks\": true, \"values\": [0]}, \"field\": \"jitter\", \"scale\": {}, \"title\": null, \"type\": \"quantitative\"}, \"y\": {\"field\": \"bus_difference\", \"scale\": {\"domain\": [-5, 69.6]}, \"title\": \"Difference in Bus to Car Travel Time (min)\", \"type\": \"quantitative\"}}, \"transform\": [{\"calculate\": \"sqrt(-2*log(random()))*cos(2*PI*random())\", \"as\": \"jitter\"}], \"width\": 50}, {\"layer\": [{\"mark\": {\"type\": \"point\", \"opacity\": 0.6, \"size\": 20, \"strokeWidth\": 1.3}, \"encoding\": {\"color\": {\"value\": \"#323434\"}, \"y\": {\"field\": \"bus_difference\", \"type\": \"quantitative\"}}, \"transform\": [{\"filter\": \"(datum.p50_trip === 1)\"}]}, {\"mark\": {\"type\": \"text\", \"align\": \"center\", \"baseline\": \"middle\"}, \"encoding\": {\"color\": {\"value\": \"black\"}, \"text\": {\"field\": \"pct_trips_competitive\", \"format\": \".0%\", \"type\": \"quantitative\"}, \"tooltip\": [{\"field\": \"route_id\", \"type\": \"nominal\"}, {\"field\": \"route_name\", \"type\": \"nominal\"}, {\"field\": \"trip_id\", \"type\": \"nominal\"}, {\"field\": \"service_hours\", \"type\": \"quantitative\"}, {\"field\": \"car_duration_hours\", \"type\": \"quantitative\"}, {\"field\": \"bus_multiplier\", \"type\": \"quantitative\"}, {\"field\": \"bus_difference\", \"type\": \"quantitative\"}, {\"field\": \"num_trips\", \"type\": \"quantitative\"}, {\"field\": \"num_competitive\", \"type\": \"quantitative\"}, {\"field\": \"pct_trips_competitive\", \"type\": \"quantitative\"}, {\"field\": \"p25\", \"type\": \"quantitative\"}, {\"field\": \"p50\", \"type\": \"quantitative\"}, {\"field\": \"p75\", \"type\": \"quantitative\"}], \"x\": {\"value\": 30}, \"y\": {\"value\": 15}}, \"transform\": [{\"calculate\": \"sqrt(-2*log(random()))*cos(2*PI*random())\", \"as\": \"jitter\"}, {\"filter\": \"(datum.fastest_trip === 1)\"}]}]}]}, \"resolve\": {\"scale\": {\"y\": \"shared\"}}, \"title\": \"Difference in Bus to Car Travel Time (min)\", \"$schema\": \"https://vega.github.io/schema/vega-lite/v4.17.0.json\", \"datasets\": {\"data-7fe5b8802313cfdac4aba6ffc6e5b3e6\": [{\"calitp_itp_id\": 146, \"trip_key\": -2938986463235106552, \"trip_id\": \"t_1270746_b_33402_tn_0\", \"shape_id\": \"p_3083\", \"route_id\": \"1161\", \"service_hours\": 1.3, \"trip_first_departure_ts\": 69900, \"trip_last_arrival_ts\": 74580, \"departure_hour\": 19, \"time_of_day\": \"PM Peak\", \"p25\": 1.48, \"p50\": 1.48, \"p75\": 1.55, \"p50_trip\": 0, \"fastest_trip\": 1, \"car_duration_hours\": 0.97, \"competitive_route\": 1, \"bus_multiplier\": 1.34, \"bus_difference\": 19.8, \"num_trips\": 9, \"num_competitive\": 9, \"pct_trips_competitive\": 1.0, \"bus_difference_spread\": 14.999999999999996, \"route_group\": \"long\", \"max_trip_hrs\": 1.55, \"max_trip_route_group\": 1.55, \"below_cutoff\": 9, \"pct_below_cutoff\": 1.0, \"name\": \"Kern County\", \"caltrans_district\": \"06 - Fresno\", \"drmt_organization_name\": null, \"route_name\": \"Delano - Bakersfield\", \"cutoff2\": 40, \"cutoff\": 0}, {\"calitp_itp_id\": 146, \"trip_key\": -27775948743421188, \"trip_id\": \"t_1270752_b_33402_tn_0\", \"shape_id\": \"p_787635\", \"route_id\": \"1161\", \"service_hours\": 1.37, \"trip_first_departure_ts\": 15600, \"trip_last_arrival_ts\": 20520, \"departure_hour\": 4, \"time_of_day\": \"Owl Service\", \"p25\": 1.48, \"p50\": 1.48, \"p75\": 1.55, \"p50_trip\": 0, \"fastest_trip\": 0, \"car_duration_hours\": 0.97, \"competitive_route\": 1, \"bus_multiplier\": 1.41, \"bus_difference\": 24.0, \"num_trips\": 9, \"num_competitive\": 9, \"pct_trips_competitive\": 1.0, \"bus_difference_spread\": 14.999999999999996, \"route_group\": \"long\", \"max_trip_hrs\": 1.55, \"max_trip_route_group\": 1.55, \"below_cutoff\": 9, \"pct_below_cutoff\": 1.0, \"name\": \"Kern County\", \"caltrans_district\": \"06 - Fresno\", \"drmt_organization_name\": null, \"route_name\": \"Delano - Bakersfield\", \"cutoff2\": 40, \"cutoff\": 0}, {\"calitp_itp_id\": 146, \"trip_key\": -7990793653844275569, \"trip_id\": \"t_1270743_b_33402_tn_0\", \"shape_id\": \"p_178359\", \"route_id\": \"1161\", \"service_hours\": 1.48, \"trip_first_departure_ts\": 35700, \"trip_last_arrival_ts\": 41040, \"departure_hour\": 9, \"time_of_day\": \"AM Peak\", \"p25\": 1.48, \"p50\": 1.48, \"p75\": 1.55, \"p50_trip\": 1, \"fastest_trip\": 0, \"car_duration_hours\": 0.97, \"competitive_route\": 1, \"bus_multiplier\": 1.53, \"bus_difference\": 30.6, \"num_trips\": 9, \"num_competitive\": 9, \"pct_trips_competitive\": 1.0, \"bus_difference_spread\": 14.999999999999996, \"route_group\": \"long\", \"max_trip_hrs\": 1.55, \"max_trip_route_group\": 1.55, \"below_cutoff\": 9, \"pct_below_cutoff\": 1.0, \"name\": \"Kern County\", \"caltrans_district\": \"06 - Fresno\", \"drmt_organization_name\": null, \"route_name\": \"Delano - Bakersfield\", \"cutoff2\": 40, \"cutoff\": 0}, {\"calitp_itp_id\": 146, \"trip_key\": 2981651922526876918, \"trip_id\": \"t_1270748_b_33402_tn_0\", \"shape_id\": \"p_178359\", \"route_id\": \"1161\", \"service_hours\": 1.48, \"trip_first_departure_ts\": 56100, \"trip_last_arrival_ts\": 61440, \"departure_hour\": 15, \"time_of_day\": \"Midday\", \"p25\": 1.48, \"p50\": 1.48, \"p75\": 1.55, \"p50_trip\": 1, \"fastest_trip\": 0, \"car_duration_hours\": 0.97, \"competitive_route\": 1, \"bus_multiplier\": 1.53, \"bus_difference\": 30.6, \"num_trips\": 9, \"num_competitive\": 9, \"pct_trips_competitive\": 1.0, \"bus_difference_spread\": 14.999999999999996, \"route_group\": \"long\", \"max_trip_hrs\": 1.55, \"max_trip_route_group\": 1.55, \"below_cutoff\": 9, \"pct_below_cutoff\": 1.0, \"name\": \"Kern County\", \"caltrans_district\": \"06 - Fresno\", \"drmt_organization_name\": null, \"route_name\": \"Delano - Bakersfield\", \"cutoff2\": 40, \"cutoff\": 0}, {\"calitp_itp_id\": 146, \"trip_key\": 8490347904405264088, \"trip_id\": \"t_1270741_b_33402_tn_0\", \"shape_id\": \"p_178359\", \"route_id\": \"1161\", \"service_hours\": 1.48, \"trip_first_departure_ts\": 21000, \"trip_last_arrival_ts\": 26340, \"departure_hour\": 5, \"time_of_day\": \"Owl Service\", \"p25\": 1.48, \"p50\": 1.48, \"p75\": 1.55, \"p50_trip\": 1, \"fastest_trip\": 0, \"car_duration_hours\": 0.97, \"competitive_route\": 1, \"bus_multiplier\": 1.53, \"bus_difference\": 30.6, \"num_trips\": 9, \"num_competitive\": 9, \"pct_trips_competitive\": 1.0, \"bus_difference_spread\": 14.999999999999996, \"route_group\": \"long\", \"max_trip_hrs\": 1.55, \"max_trip_route_group\": 1.55, \"below_cutoff\": 9, \"pct_below_cutoff\": 1.0, \"name\": \"Kern County\", \"caltrans_district\": \"06 - Fresno\", \"drmt_organization_name\": null, \"route_name\": \"Delano - Bakersfield\", \"cutoff2\": 40, \"cutoff\": 0}, {\"calitp_itp_id\": 146, \"trip_key\": 1262263643627312031, \"trip_id\": \"t_1270750_b_33402_tn_0\", \"shape_id\": \"p_111843\", \"route_id\": \"1161\", \"service_hours\": 1.55, \"trip_first_departure_ts\": 48900, \"trip_last_arrival_ts\": 54480, \"departure_hour\": 13, \"time_of_day\": \"Midday\", \"p25\": 1.48, \"p50\": 1.48, \"p75\": 1.55, \"p50_trip\": 0, \"fastest_trip\": 0, \"car_duration_hours\": 0.97, \"competitive_route\": 1, \"bus_multiplier\": 1.6, \"bus_difference\": 34.8, \"num_trips\": 9, \"num_competitive\": 9, \"pct_trips_competitive\": 1.0, \"bus_difference_spread\": 14.999999999999996, \"route_group\": \"long\", \"max_trip_hrs\": 1.55, \"max_trip_route_group\": 1.55, \"below_cutoff\": 9, \"pct_below_cutoff\": 1.0, \"name\": \"Kern County\", \"caltrans_district\": \"06 - Fresno\", \"drmt_organization_name\": null, \"route_name\": \"Delano - Bakersfield\", \"cutoff2\": 40, \"cutoff\": 0}, {\"calitp_itp_id\": 146, \"trip_key\": -8012276736357788588, \"trip_id\": \"t_1270747_b_33402_tn_0\", \"shape_id\": \"p_111843\", \"route_id\": \"1161\", \"service_hours\": 1.55, \"trip_first_departure_ts\": 63900, \"trip_last_arrival_ts\": 69480, \"departure_hour\": 17, \"time_of_day\": \"PM Peak\", \"p25\": 1.48, \"p50\": 1.48, \"p75\": 1.55, \"p50_trip\": 0, \"fastest_trip\": 0, \"car_duration_hours\": 0.97, \"competitive_route\": 1, \"bus_multiplier\": 1.6, \"bus_difference\": 34.8, \"num_trips\": 9, \"num_competitive\": 9, \"pct_trips_competitive\": 1.0, \"bus_difference_spread\": 14.999999999999996, \"route_group\": \"long\", \"max_trip_hrs\": 1.55, \"max_trip_route_group\": 1.55, \"below_cutoff\": 9, \"pct_below_cutoff\": 1.0, \"name\": \"Kern County\", \"caltrans_district\": \"06 - Fresno\", \"drmt_organization_name\": null, \"route_name\": \"Delano - Bakersfield\", \"cutoff2\": 40, \"cutoff\": 0}, {\"calitp_itp_id\": 146, \"trip_key\": -1436786589014759050, \"trip_id\": \"t_1270744_b_33402_tn_0\", \"shape_id\": \"p_111843\", \"route_id\": \"1161\", \"service_hours\": 1.55, \"trip_first_departure_ts\": 72900, \"trip_last_arrival_ts\": 78480, \"departure_hour\": 20, \"time_of_day\": \"Owl Service\", \"p25\": 1.48, \"p50\": 1.48, \"p75\": 1.55, \"p50_trip\": 0, \"fastest_trip\": 0, \"car_duration_hours\": 0.97, \"competitive_route\": 1, \"bus_multiplier\": 1.6, \"bus_difference\": 34.8, \"num_trips\": 9, \"num_competitive\": 9, \"pct_trips_competitive\": 1.0, \"bus_difference_spread\": 14.999999999999996, \"route_group\": \"long\", \"max_trip_hrs\": 1.55, \"max_trip_route_group\": 1.55, \"below_cutoff\": 9, \"pct_below_cutoff\": 1.0, \"name\": \"Kern County\", \"caltrans_district\": \"06 - Fresno\", \"drmt_organization_name\": null, \"route_name\": \"Delano - Bakersfield\", \"cutoff2\": 40, \"cutoff\": 0}, {\"calitp_itp_id\": 146, \"trip_key\": -3446891539184357635, \"trip_id\": \"t_1270740_b_33402_tn_0\", \"shape_id\": \"p_111843\", \"route_id\": \"1161\", \"service_hours\": 1.55, \"trip_first_departure_ts\": 28800, \"trip_last_arrival_ts\": 34380, \"departure_hour\": 8, \"time_of_day\": \"AM Peak\", \"p25\": 1.48, \"p50\": 1.48, \"p75\": 1.55, \"p50_trip\": 0, \"fastest_trip\": 0, \"car_duration_hours\": 0.97, \"competitive_route\": 1, \"bus_multiplier\": 1.6, \"bus_difference\": 34.8, \"num_trips\": 9, \"num_competitive\": 9, \"pct_trips_competitive\": 1.0, \"bus_difference_spread\": 14.999999999999996, \"route_group\": \"long\", \"max_trip_hrs\": 1.55, \"max_trip_route_group\": 1.55, \"below_cutoff\": 9, \"pct_below_cutoff\": 1.0, \"name\": \"Kern County\", \"caltrans_district\": \"06 - Fresno\", \"drmt_organization_name\": null, \"route_name\": \"Delano - Bakersfield\", \"cutoff2\": 40, \"cutoff\": 0}]}}, {\"mode\": \"vega-lite\"});\n",
       "</script>"
      ],
      "text/plain": [
       "alt.FacetChart(...)"
      ]
     },
     "metadata": {},
     "output_type": "display_data"
    },
    {
     "data": {
      "text/html": [
       "<h4>Route Stats</h4>"
      ],
      "text/plain": [
       "<IPython.core.display.HTML object>"
      ]
     },
     "metadata": {},
     "output_type": "display_data"
    },
    {
     "data": {
      "text/html": [
       "<style type=\"text/css\">\n",
       "#T_06d61 th {\n",
       "  text-align: center;\n",
       "}\n",
       "#T_06d61_row0_col0, #T_06d61_row0_col1 {\n",
       "  text-align: left;\n",
       "}\n",
       "#T_06d61_row0_col2, #T_06d61_row0_col3, #T_06d61_row0_col5 {\n",
       "  text-align: center;\n",
       "}\n",
       "</style>\n",
       "<table id=\"T_06d61\">\n",
       "  <thead>\n",
       "    <tr>\n",
       "      <th id=\"T_06d61_level0_col0\" class=\"col_heading level0 col0\" >Route ID</th>\n",
       "      <th id=\"T_06d61_level0_col1\" class=\"col_heading level0 col1\" >Route Name</th>\n",
       "      <th id=\"T_06d61_level0_col2\" class=\"col_heading level0 col2\" ># trips</th>\n",
       "      <th id=\"T_06d61_level0_col3\" class=\"col_heading level0 col3\" >Daily Avg Freq (trips per hr)</th>\n",
       "      <th id=\"T_06d61_level0_col4\" class=\"col_heading level0 col4\" >25th, 50th, 75th ptile (hrs)</th>\n",
       "      <th id=\"T_06d61_level0_col5\" class=\"col_heading level0 col5\" >PM Peak Avg Freq (trips per hr)</th>\n",
       "    </tr>\n",
       "  </thead>\n",
       "  <tbody>\n",
       "    <tr>\n",
       "      <td id=\"T_06d61_row0_col0\" class=\"data row0 col0\" >1161</td>\n",
       "      <td id=\"T_06d61_row0_col1\" class=\"data row0 col1\" >Delano - Bakersfield</td>\n",
       "      <td id=\"T_06d61_row0_col2\" class=\"data row0 col2\" >9</td>\n",
       "      <td id=\"T_06d61_row0_col3\" class=\"data row0 col3\" >0.38</td>\n",
       "      <td id=\"T_06d61_row0_col4\" class=\"data row0 col4\" >1.48, 1.48, 1.55</td>\n",
       "      <td id=\"T_06d61_row0_col5\" class=\"data row0 col5\" >0.67</td>\n",
       "    </tr>\n",
       "  </tbody>\n",
       "</table>\n"
      ],
      "text/plain": [
       "<IPython.core.display.HTML object>"
      ]
     },
     "metadata": {},
     "output_type": "display_data"
    }
   ],
   "source": [
    "route_group = \"long\"\n",
    "try:\n",
    "    display_charts_for_route_group(df, route_group)\n",
    "except:\n",
    "    print(\"No routes meet this criteria.\")"
   ]
  },
  {
   "cell_type": "markdown",
   "id": "ace75b5f-0442-4fbe-aebd-6c3a13ae13a7",
   "metadata": {
    "papermill": {
     "duration": 0.023312,
     "end_time": "2022-05-12T02:16:28.349918",
     "exception": false,
     "start_time": "2022-05-12T02:16:28.326606",
     "status": "completed"
    },
    "tags": []
   },
   "source": [
    "### GTFS Real-Time Speedmaps"
   ]
  },
  {
   "cell_type": "code",
   "execution_count": 17,
   "id": "a0a114a1-e975-4027-9daf-50029f5ef59f",
   "metadata": {
    "execution": {
     "iopub.execute_input": "2022-05-12T02:16:28.395730Z",
     "iopub.status.busy": "2022-05-12T02:16:28.395454Z",
     "iopub.status.idle": "2022-05-12T02:16:28.418016Z",
     "shell.execute_reply": "2022-05-12T02:16:28.417483Z"
    },
    "jupyter": {
     "source_hidden": true
    },
    "papermill": {
     "duration": 0.048563,
     "end_time": "2022-05-12T02:16:28.419709",
     "exception": false,
     "start_time": "2022-05-12T02:16:28.371146",
     "status": "completed"
    },
    "tags": [
     "remove_input"
    ]
   },
   "outputs": [
    {
     "data": {
      "text/html": [
       "No GTFS RT data available."
      ],
      "text/plain": [
       "<IPython.core.display.HTML object>"
      ]
     },
     "metadata": {},
     "output_type": "display_data"
    }
   ],
   "source": [
    "RT_SITE_YAML = \"../portfolio/sites/rt.yml\"\n",
    "\n",
    "# Grab list of ITP IDs with GTFS RT speedmaps\n",
    "rt_itp_id = deploy_portfolio_yaml.check_if_rt_data_available(RT_SITE_YAML)\n",
    "\n",
    "# Construct the URL \n",
    "RT_URL = (\"https://analysis.calitp.org/rt/\"\n",
    "          f\"district_{district_number}-{district_name}/\"\n",
    "          f\"speedmaps__itp_id_{itp_id}.html\"\n",
    "         ) \n",
    "\n",
    "# If this ITP ID is found in RT analysis, give URL to that operator in analysis.calitp.org\n",
    "if itp_id in rt_itp_id:\n",
    "    display(HTML(f'''<a href={RT_URL}>GTFS RT speedmaps here.</a>'''))\n",
    "\n",
    "else:\n",
    "    display(HTML(\"No GTFS RT data available.\"))"
   ]
  },
  {
   "cell_type": "code",
   "execution_count": null,
   "id": "5b680565-2230-4f2e-817c-718fad48d64c",
   "metadata": {
    "jupyter": {
     "source_hidden": true
    },
    "papermill": {
     "duration": 0.022055,
     "end_time": "2022-05-12T02:16:28.464432",
     "exception": false,
     "start_time": "2022-05-12T02:16:28.442377",
     "status": "completed"
    },
    "tags": [
     "remove_input"
    ]
   },
   "outputs": [],
   "source": []
  }
 ],
 "metadata": {
  "kernelspec": {
   "display_name": "Python 3 (ipykernel)",
   "language": "python",
   "name": "python3"
  },
  "language_info": {
   "codemirror_mode": {
    "name": "ipython",
    "version": 3
   },
   "file_extension": ".py",
   "mimetype": "text/x-python",
   "name": "python",
   "nbconvert_exporter": "python",
   "pygments_lexer": "ipython3",
   "version": "3.9.12"
  },
  "papermill": {
   "default_parameters": {},
   "duration": 25.118538,
   "end_time": "2022-05-12T02:16:30.704355",
   "environment_variables": {},
   "exception": null,
   "input_path": "bus_service_increase/competitive-parallel-routes.ipynb",
   "output_path": "portfolio/parallel_corridors/district_06-fresno/5__competitive-parallel-routes__district_06-fresno__itp_id_146.ipynb",
   "parameters": {
    "district": "06 - Fresno",
    "itp_id": 146
   },
   "start_time": "2022-05-12T02:16:05.585817",
   "version": "2.3.4"
  }
 },
 "nbformat": 4,
 "nbformat_minor": 5
}