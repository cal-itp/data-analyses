{
 "cells": [
  {
   "cell_type": "code",
   "execution_count": 1,
   "id": "95d00857-6a20-4529-a519-2cc7182928a9",
   "metadata": {
    "execution": {
     "iopub.execute_input": "2022-05-09T16:56:43.264495Z",
     "iopub.status.busy": "2022-05-09T16:56:43.263696Z",
     "iopub.status.idle": "2022-05-09T16:56:52.448025Z",
     "shell.execute_reply": "2022-05-09T16:56:52.447241Z"
    },
    "jupyter": {
     "source_hidden": true
    },
    "papermill": {
     "duration": 9.204841,
     "end_time": "2022-05-09T16:56:52.451662",
     "exception": false,
     "start_time": "2022-05-09T16:56:43.246821",
     "status": "completed"
    },
    "tags": [
     "remove_input"
    ]
   },
   "outputs": [],
   "source": [
    "%%capture\n",
    "import warnings\n",
    "warnings.filterwarnings('ignore')\n",
    "\n",
    "import altair as alt\n",
    "import calitp.magics\n",
    "import geopandas as gpd\n",
    "import intake\n",
    "import pandas as pd\n",
    "\n",
    "from IPython.display import display, Markdown, HTML\n",
    "\n",
    "import parallel_corridors_utils\n",
    "from shared_utils import styleguide\n",
    "import deploy_portfolio_yaml\n",
    "\n",
    "catalog = intake.open_catalog(\"./*.yml\")\n",
    "alt.renderers.enable(\"html\")"
   ]
  },
  {
   "cell_type": "code",
   "execution_count": 2,
   "id": "8af2a0c1-f3da-408d-9bea-11d9fbf8695d",
   "metadata": {
    "execution": {
     "iopub.execute_input": "2022-05-09T16:56:52.479214Z",
     "iopub.status.busy": "2022-05-09T16:56:52.478604Z",
     "iopub.status.idle": "2022-05-09T16:56:52.483823Z",
     "shell.execute_reply": "2022-05-09T16:56:52.482956Z"
    },
    "jupyter": {
     "source_hidden": true
    },
    "papermill": {
     "duration": 0.021511,
     "end_time": "2022-05-09T16:56:52.485767",
     "exception": false,
     "start_time": "2022-05-09T16:56:52.464256",
     "status": "completed"
    },
    "tags": [
     "parameters",
     "remove_input"
    ]
   },
   "outputs": [],
   "source": [
    "# parameters cell\n",
    "itp_id = 182"
   ]
  },
  {
   "cell_type": "code",
   "execution_count": 3,
   "id": "902a1fc8",
   "metadata": {
    "execution": {
     "iopub.execute_input": "2022-05-09T16:56:52.517099Z",
     "iopub.status.busy": "2022-05-09T16:56:52.516009Z",
     "iopub.status.idle": "2022-05-09T16:56:52.521409Z",
     "shell.execute_reply": "2022-05-09T16:56:52.520638Z"
    },
    "jupyter": {
     "source_hidden": true
    },
    "papermill": {
     "duration": 0.024782,
     "end_time": "2022-05-09T16:56:52.523748",
     "exception": false,
     "start_time": "2022-05-09T16:56:52.498966",
     "status": "completed"
    },
    "tags": [
     "injected-parameters",
     "remove_input"
    ]
   },
   "outputs": [],
   "source": [
    "# Parameters\n",
    "district = \"06 - Fresno\"\n",
    "itp_id = 126\n"
   ]
  },
  {
   "cell_type": "code",
   "execution_count": 4,
   "id": "9582aaf4-79ff-412a-b248-8d8d693ebd4f",
   "metadata": {
    "execution": {
     "iopub.execute_input": "2022-05-09T16:56:52.551419Z",
     "iopub.status.busy": "2022-05-09T16:56:52.550597Z",
     "iopub.status.idle": "2022-05-09T16:56:53.962661Z",
     "shell.execute_reply": "2022-05-09T16:56:53.961644Z"
    },
    "jupyter": {
     "source_hidden": true
    },
    "papermill": {
     "duration": 1.42932,
     "end_time": "2022-05-09T16:56:53.965915",
     "exception": false,
     "start_time": "2022-05-09T16:56:52.536595",
     "status": "completed"
    },
    "tags": [
     "remove_input"
    ]
   },
   "outputs": [],
   "source": [
    "df = catalog.competitive_route_variability.read()\n",
    "\n",
    "df = (df[(df.calitp_itp_id == itp_id) & \n",
    "         (df.route_group.notna())]\n",
    "      .reset_index(drop=True)\n",
    "     )\n",
    "\n",
    "\n",
    "if itp_id == 182:\n",
    "    df = df.assign(\n",
    "        route_id = df.route_id.str.replace('-13153', '').astype(int)\n",
    "    )"
   ]
  },
  {
   "cell_type": "code",
   "execution_count": 5,
   "id": "33ac4b06-f647-4dce-a625-8f2c1b37cc60",
   "metadata": {
    "execution": {
     "iopub.execute_input": "2022-05-09T16:56:53.995011Z",
     "iopub.status.busy": "2022-05-09T16:56:53.994667Z",
     "iopub.status.idle": "2022-05-09T16:56:54.007033Z",
     "shell.execute_reply": "2022-05-09T16:56:54.006022Z"
    },
    "jupyter": {
     "source_hidden": true
    },
    "papermill": {
     "duration": 0.03034,
     "end_time": "2022-05-09T16:56:54.010073",
     "exception": false,
     "start_time": "2022-05-09T16:56:53.979733",
     "status": "completed"
    },
    "tags": [
     "remove_input"
    ]
   },
   "outputs": [],
   "source": [
    "%%capture_parameters\n",
    "operator_name = df.name.iloc[0]\n",
    "district_number = f\"{df.caltrans_district.iloc[0].split('-')[0].strip()}\"\n",
    "district_name = f\"{df.caltrans_district.iloc[0].split('-')[1].strip().lower().replace(' ', '-')}\"\n",
    "\n",
    "itp_id, operator_name, district_number, district_name"
   ]
  },
  {
   "cell_type": "markdown",
   "id": "65bc6f5c-8348-42ee-b2dd-52057c406852",
   "metadata": {
    "papermill": {
     "duration": 0.013599,
     "end_time": "2022-05-09T16:56:54.037339",
     "exception": false,
     "start_time": "2022-05-09T16:56:54.023740",
     "status": "completed"
    },
    "tags": []
   },
   "source": [
    "# Golden Empire Transit District (ITP ID: 126)"
   ]
  },
  {
   "cell_type": "code",
   "execution_count": 6,
   "id": "a689c1ab-2c6c-4831-8d64-897f5986f571",
   "metadata": {
    "execution": {
     "iopub.execute_input": "2022-05-09T16:56:54.068045Z",
     "iopub.status.busy": "2022-05-09T16:56:54.067712Z",
     "iopub.status.idle": "2022-05-09T16:56:54.074244Z",
     "shell.execute_reply": "2022-05-09T16:56:54.073350Z"
    },
    "jupyter": {
     "source_hidden": true
    },
    "papermill": {
     "duration": 0.023141,
     "end_time": "2022-05-09T16:56:54.076129",
     "exception": false,
     "start_time": "2022-05-09T16:56:54.052988",
     "status": "completed"
    },
    "tags": [
     "remove_input"
    ]
   },
   "outputs": [
    {
     "data": {
      "text/html": [
       "<h1>Competitive & Parallel Routes</h1>"
      ],
      "text/plain": [
       "<IPython.core.display.HTML object>"
      ]
     },
     "metadata": {},
     "output_type": "display_data"
    }
   ],
   "source": [
    "display(HTML(\"<h1>Competitive & Parallel Routes</h1>\")) "
   ]
  },
  {
   "cell_type": "code",
   "execution_count": 7,
   "id": "2cb4d8d5-4760-40e4-85b1-cb833d8bb648",
   "metadata": {
    "execution": {
     "iopub.execute_input": "2022-05-09T16:56:54.111281Z",
     "iopub.status.busy": "2022-05-09T16:56:54.110281Z",
     "iopub.status.idle": "2022-05-09T16:57:05.639748Z",
     "shell.execute_reply": "2022-05-09T16:57:05.638729Z"
    },
    "jupyter": {
     "source_hidden": true
    },
    "papermill": {
     "duration": 11.554077,
     "end_time": "2022-05-09T16:57:05.643109",
     "exception": false,
     "start_time": "2022-05-09T16:56:54.089032",
     "status": "completed"
    },
    "tags": [
     "remove_input"
    ]
   },
   "outputs": [],
   "source": [
    "# Grab parameters for narrative text - clean up formatting here \n",
    "district = df.caltrans_district.iloc[0]\n",
    "formatted_date = pd.to_datetime(parallel_corridors_utils.SELECTED_DATE).strftime('%m-%d-%Y')\n",
    "\n",
    "PCT_COMPETITIVE_THRESHOLD = 0.75\n",
    "\n",
    "stats = parallel_corridors_utils.operator_parallel_competitive_stats(\n",
    "    itp_id, PCT_COMPETITIVE_THRESHOLD)\n",
    "\n",
    "pct_parallel = round(stats['parallel_routes'] / stats['num_routes'] * 100,1 )\n",
    "pct_competitive =  round(stats['competitive_routes'] / stats['num_routes'] * 100,1 )"
   ]
  },
  {
   "cell_type": "markdown",
   "id": "ab667928-5274-4490-82d9-4c39293209a4",
   "metadata": {
    "papermill": {
     "duration": 0.03298,
     "end_time": "2022-05-09T16:57:05.694087",
     "exception": false,
     "start_time": "2022-05-09T16:57:05.661107",
     "status": "completed"
    },
    "tags": []
   },
   "source": [
    "## Quick Stats"
   ]
  },
  {
   "cell_type": "code",
   "execution_count": 8,
   "id": "0416509d-dc62-4165-b62e-64f8b26e8b8e",
   "metadata": {
    "execution": {
     "iopub.execute_input": "2022-05-09T16:57:05.743772Z",
     "iopub.status.busy": "2022-05-09T16:57:05.743365Z",
     "iopub.status.idle": "2022-05-09T16:57:05.752507Z",
     "shell.execute_reply": "2022-05-09T16:57:05.751319Z"
    },
    "jupyter": {
     "source_hidden": true
    },
    "papermill": {
     "duration": 0.032386,
     "end_time": "2022-05-09T16:57:05.756863",
     "exception": false,
     "start_time": "2022-05-09T16:57:05.724477",
     "status": "completed"
    },
    "tags": [
     "remove_input"
    ]
   },
   "outputs": [
    {
     "data": {
      "text/markdown": [
       "**Bus routes in service**: 16 <br>**Parallel routes** to State Highway Network (SHN): 8 routes (50.0%)<br>**Competitive routes** against car travel: 3 routes (18.8%)"
      ],
      "text/plain": [
       "<IPython.core.display.Markdown object>"
      ]
     },
     "metadata": {},
     "output_type": "display_data"
    }
   ],
   "source": [
    "display(\n",
    "    Markdown(\n",
    "        f\"**Bus routes in service**: {stats['num_routes']} \"\n",
    "        \"<br>**Parallel routes** to State Highway Network (SHN): \"\n",
    "        f\"{stats['parallel_routes']} routes ({pct_parallel}%)\"\n",
    "        f\"<br>**Competitive routes** against car travel: {stats['competitive_routes']} routes ({pct_competitive}%)\"\n",
    "    )\n",
    ")"
   ]
  },
  {
   "cell_type": "code",
   "execution_count": 9,
   "id": "f9d6ab58-f0ee-460c-b6de-657490e1f386",
   "metadata": {
    "execution": {
     "iopub.execute_input": "2022-05-09T16:57:05.794820Z",
     "iopub.status.busy": "2022-05-09T16:57:05.794441Z",
     "iopub.status.idle": "2022-05-09T16:57:05.807014Z",
     "shell.execute_reply": "2022-05-09T16:57:05.806299Z"
    },
    "jupyter": {
     "source_hidden": true
    },
    "papermill": {
     "duration": 0.032806,
     "end_time": "2022-05-09T16:57:05.809082",
     "exception": false,
     "start_time": "2022-05-09T16:57:05.776276",
     "status": "completed"
    },
    "tags": [
     "remove_input"
    ]
   },
   "outputs": [],
   "source": [
    "def set_yaxis_range(df, y_col):\n",
    "    Y_MIN = df[y_col].min()\n",
    "    Y_MAX = df[y_col].max()\n",
    "    \n",
    "    return Y_MIN, Y_MAX\n",
    "\n",
    "# Rather than set it according to the operator, which can vary,\n",
    "# just use set thresholds for each group\n",
    "diff_cutoffs = parallel_corridors_utils.diff_cutoffs\n",
    "\n",
    "PCT_TRIPS_BELOW_CUTOFF = 0.25\n",
    "\n",
    "def top15_routes(df, route_group):\n",
    "    df2 = (df[df.route_group==route_group])\n",
    "    # Set a cut-off to enable sorting, where most of the trips are \n",
    "    # below a certain time difference cut-off, \n",
    "    # grab top 15 routes where majority of trips are below that cut-off \n",
    "\n",
    "    route_cols = [\"calitp_itp_id\", \"route_id\"]\n",
    "\n",
    "    df2 = df2.assign(\n",
    "        below_cutoff = df2.apply(lambda x: 1 if x.bus_difference <= diff_cutoffs[route_group] \n",
    "                                 else 0, axis=1),\n",
    "        num_trips = df2.groupby(route_cols)[\"trip_id\"].transform(\"count\")\n",
    "    )\n",
    "\n",
    "    df2[\"below_cutoff\"] = df2.groupby(route_cols)[\"below_cutoff\"].transform(\"sum\")\n",
    "    df2[\"pct_below_cutoff\"] = df2.below_cutoff.divide(df2.num_trips)\n",
    "\n",
    "    # At least half the trips are below that cut-off\n",
    "    # but show 15 max, otherwise, show less, since these won't be as interesting to operators\n",
    "    df3 = (df2[df2.pct_below_cutoff >= PCT_TRIPS_BELOW_CUTOFF]\n",
    "           .sort_values([\"calitp_itp_id\", \"below_cutoff\", \n",
    "                         \"pct_below_cutoff\", \"route_id\"],\n",
    "                        ascending = [True, False, False, True]\n",
    "                       )\n",
    "           .drop_duplicates(subset=[\"calitp_itp_id\", \"route_id\"])\n",
    "          ).head(15)\n",
    "    \n",
    "    return list(df3.route_id)"
   ]
  },
  {
   "cell_type": "code",
   "execution_count": 10,
   "id": "cf36d559-3349-4144-8086-8ac9ce937a5a",
   "metadata": {
    "execution": {
     "iopub.execute_input": "2022-05-09T16:57:05.842571Z",
     "iopub.status.busy": "2022-05-09T16:57:05.841583Z",
     "iopub.status.idle": "2022-05-09T16:57:05.848796Z",
     "shell.execute_reply": "2022-05-09T16:57:05.847827Z"
    },
    "jupyter": {
     "source_hidden": true
    },
    "papermill": {
     "duration": 0.026573,
     "end_time": "2022-05-09T16:57:05.851366",
     "exception": false,
     "start_time": "2022-05-09T16:57:05.824793",
     "status": "completed"
    },
    "tags": [
     "remove_input"
    ]
   },
   "outputs": [],
   "source": [
    "def caption_with_cutoff(cutoff):\n",
    "    sentence = (\n",
    "        f\"<br>These are routes that have **at least {int(PCT_TRIPS_BELOW_CUTOFF*100)}% \"\n",
    "        \"of their trips take no more than an \"\n",
    "        f\"additional {cutoff} min** compared to a car \"\n",
    "        \"(up to 15 routes) are shown.\"\n",
    "        \"<br>Within each route group, routes are sorted in descending order \"\n",
    "        \"by % competitive trips and # trips below the additional time cut-off.\"\n",
    "    )\n",
    "    return sentence\n",
    "\n",
    "CAPTIONS_DICT = {\n",
    "    \"short\": caption_with_cutoff(diff_cutoffs['short']),\n",
    "    \"medium\": caption_with_cutoff(diff_cutoffs['medium']),\n",
    "    \"long\": caption_with_cutoff(diff_cutoffs['long']),\n",
    "}"
   ]
  },
  {
   "cell_type": "code",
   "execution_count": 11,
   "id": "e4306d58-6944-47e9-afef-5d5b524c751f",
   "metadata": {
    "execution": {
     "iopub.execute_input": "2022-05-09T16:57:05.883831Z",
     "iopub.status.busy": "2022-05-09T16:57:05.883046Z",
     "iopub.status.idle": "2022-05-09T16:57:05.892400Z",
     "shell.execute_reply": "2022-05-09T16:57:05.891423Z"
    },
    "jupyter": {
     "source_hidden": true
    },
    "papermill": {
     "duration": 0.029158,
     "end_time": "2022-05-09T16:57:05.895009",
     "exception": false,
     "start_time": "2022-05-09T16:57:05.865851",
     "status": "completed"
    },
    "tags": [
     "remove_input"
    ]
   },
   "outputs": [],
   "source": [
    "def setup_charts(df, PCT_COMPETITIVE_THRESHOLD, route_group):\n",
    "    # Set up df for charting (cut-off at some threshold to show most competitive routes)\n",
    "    plot_me = (df[df.pct_trips_competitive > PCT_COMPETITIVE_THRESHOLD]\n",
    "           .drop(columns = \"geometry\")\n",
    "    )\n",
    "    \n",
    "    y_col1 = \"bus_multiplier\"\n",
    "    Y_MIN1, Y_MAX1 = set_yaxis_range(plot_me, y_col1)\n",
    "\n",
    "    y_col2 = \"bus_difference\"\n",
    "    Y_MIN2, Y_MAX2 = set_yaxis_range(plot_me, y_col2)\n",
    "     \n",
    "    subset_routes = top15_routes(plot_me, route_group)\n",
    "    \n",
    "    multiplier_chart = parallel_corridors_utils.make_stripplot(\n",
    "        plot_me[plot_me.route_id.isin(subset_routes)], \n",
    "        y_col1, Y_MIN = Y_MIN1, Y_MAX = Y_MAX1\n",
    "    )\n",
    "    \n",
    "    difference_chart = parallel_corridors_utils.make_stripplot(\n",
    "        plot_me[plot_me.route_id.isin(subset_routes)], \n",
    "        y_col2, Y_MIN = Y_MIN2, Y_MAX = Y_MAX2\n",
    "    )\n",
    "    \n",
    "    return subset_routes, multiplier_chart, difference_chart            "
   ]
  },
  {
   "cell_type": "code",
   "execution_count": 12,
   "id": "33a710e8-504c-4942-aa75-ff69f216956e",
   "metadata": {
    "execution": {
     "iopub.execute_input": "2022-05-09T16:57:05.931934Z",
     "iopub.status.busy": "2022-05-09T16:57:05.930790Z",
     "iopub.status.idle": "2022-05-09T16:57:05.937266Z",
     "shell.execute_reply": "2022-05-09T16:57:05.936473Z"
    },
    "jupyter": {
     "source_hidden": true
    },
    "papermill": {
     "duration": 0.027258,
     "end_time": "2022-05-09T16:57:05.939693",
     "exception": false,
     "start_time": "2022-05-09T16:57:05.912435",
     "status": "completed"
    },
    "tags": [
     "remove_input"
    ]
   },
   "outputs": [],
   "source": [
    "def display_charts_for_route_group(df, route_group):    \n",
    "    subset_routes, mult, diff  = setup_charts(df, PCT_COMPETITIVE_THRESHOLD, route_group)\n",
    "\n",
    "    if len(subset_routes) > 0:\n",
    "        display(Markdown(f\"{CAPTIONS_DICT[route_group]}\"))\n",
    "\n",
    "        display(mult)\n",
    "        display(diff)"
   ]
  },
  {
   "cell_type": "markdown",
   "id": "525f9b38-072b-46d1-96a8-1aa4b038357c",
   "metadata": {
    "papermill": {
     "duration": 0.021441,
     "end_time": "2022-05-09T16:57:05.978305",
     "exception": false,
     "start_time": "2022-05-09T16:57:05.956864",
     "status": "completed"
    },
    "tags": []
   },
   "source": [
    "## Viable Competitive Routes\n",
    "### Short Routes (< 1 hr)"
   ]
  },
  {
   "cell_type": "code",
   "execution_count": 13,
   "id": "57f7084c-2cf7-45c6-ba08-1609e0bd6ca5",
   "metadata": {
    "execution": {
     "iopub.execute_input": "2022-05-09T16:57:06.033976Z",
     "iopub.status.busy": "2022-05-09T16:57:06.033190Z",
     "iopub.status.idle": "2022-05-09T16:57:06.060378Z",
     "shell.execute_reply": "2022-05-09T16:57:06.059207Z"
    },
    "jupyter": {
     "source_hidden": true
    },
    "papermill": {
     "duration": 0.047591,
     "end_time": "2022-05-09T16:57:06.062964",
     "exception": false,
     "start_time": "2022-05-09T16:57:06.015373",
     "status": "completed"
    },
    "tags": [
     "remove_input"
    ]
   },
   "outputs": [
    {
     "name": "stdout",
     "output_type": "stream",
     "text": [
      "No routes meet this criteria.\n"
     ]
    }
   ],
   "source": [
    "# Allow for possibility that operator doesn't have routes that fall into certain route_groups\n",
    "# But, jupyterbook will not like markdown with f-string\n",
    "# separate out route_group and put in each cell, and use try/except + if to display...\n",
    "# but all 3 route groups must be displayed. just add sentence about why no routes were returned at the end\n",
    "route_group = \"short\"\n",
    "try:\n",
    "    display_charts_for_route_group(df, route_group)\n",
    "except:\n",
    "    print(\"No routes meet this criteria.\")"
   ]
  },
  {
   "cell_type": "markdown",
   "id": "c2931b6f-034d-4384-9e14-80b925e3b820",
   "metadata": {
    "papermill": {
     "duration": 0.015719,
     "end_time": "2022-05-09T16:57:06.093488",
     "exception": false,
     "start_time": "2022-05-09T16:57:06.077769",
     "status": "completed"
    },
    "tags": []
   },
   "source": [
    "### Medium Routes (1-1.5 hrs)"
   ]
  },
  {
   "cell_type": "code",
   "execution_count": 14,
   "id": "480edddc-4de0-48c2-ae4c-b0ceef8f28b5",
   "metadata": {
    "execution": {
     "iopub.execute_input": "2022-05-09T16:57:06.148267Z",
     "iopub.status.busy": "2022-05-09T16:57:06.147525Z",
     "iopub.status.idle": "2022-05-09T16:57:06.572721Z",
     "shell.execute_reply": "2022-05-09T16:57:06.571657Z"
    },
    "jupyter": {
     "source_hidden": true
    },
    "papermill": {
     "duration": 0.456137,
     "end_time": "2022-05-09T16:57:06.575566",
     "exception": false,
     "start_time": "2022-05-09T16:57:06.119429",
     "status": "completed"
    },
    "tags": [
     "remove_input"
    ]
   },
   "outputs": [
    {
     "data": {
      "text/markdown": [
       "<br>These are routes that have **at least 25% of their trips take no more than an additional 30 min** compared to a car (up to 15 routes) are shown.<br>Within each route group, routes are sorted in descending order by % competitive trips and # trips below the additional time cut-off."
      ],
      "text/plain": [
       "<IPython.core.display.Markdown object>"
      ]
     },
     "metadata": {},
     "output_type": "display_data"
    },
    {
     "data": {
      "text/html": [
       "\n",
       "<div id=\"altair-viz-9c06b61558b142b985b325bdcf374d52\"></div>\n",
       "<script type=\"text/javascript\">\n",
       "  var VEGA_DEBUG = (typeof VEGA_DEBUG == \"undefined\") ? {} : VEGA_DEBUG;\n",
       "  (function(spec, embedOpt){\n",
       "    let outputDiv = document.currentScript.previousElementSibling;\n",
       "    if (outputDiv.id !== \"altair-viz-9c06b61558b142b985b325bdcf374d52\") {\n",
       "      outputDiv = document.getElementById(\"altair-viz-9c06b61558b142b985b325bdcf374d52\");\n",
       "    }\n",
       "    const paths = {\n",
       "      \"vega\": \"https://cdn.jsdelivr.net/npm//vega@5?noext\",\n",
       "      \"vega-lib\": \"https://cdn.jsdelivr.net/npm//vega-lib?noext\",\n",
       "      \"vega-lite\": \"https://cdn.jsdelivr.net/npm//vega-lite@4.17.0?noext\",\n",
       "      \"vega-embed\": \"https://cdn.jsdelivr.net/npm//vega-embed@6?noext\",\n",
       "    };\n",
       "\n",
       "    function maybeLoadScript(lib, version) {\n",
       "      var key = `${lib.replace(\"-\", \"\")}_version`;\n",
       "      return (VEGA_DEBUG[key] == version) ?\n",
       "        Promise.resolve(paths[lib]) :\n",
       "        new Promise(function(resolve, reject) {\n",
       "          var s = document.createElement('script');\n",
       "          document.getElementsByTagName(\"head\")[0].appendChild(s);\n",
       "          s.async = true;\n",
       "          s.onload = () => {\n",
       "            VEGA_DEBUG[key] = version;\n",
       "            return resolve(paths[lib]);\n",
       "          };\n",
       "          s.onerror = () => reject(`Error loading script: ${paths[lib]}`);\n",
       "          s.src = paths[lib];\n",
       "        });\n",
       "    }\n",
       "\n",
       "    function showError(err) {\n",
       "      outputDiv.innerHTML = `<div class=\"error\" style=\"color:red;\">${err}</div>`;\n",
       "      throw err;\n",
       "    }\n",
       "\n",
       "    function displayChart(vegaEmbed) {\n",
       "      vegaEmbed(outputDiv, spec, embedOpt)\n",
       "        .catch(err => showError(`Javascript Error: ${err.message}<br>This usually means there's a typo in your chart specification. See the javascript console for the full traceback.`));\n",
       "    }\n",
       "\n",
       "    if(typeof define === \"function\" && define.amd) {\n",
       "      requirejs.config({paths});\n",
       "      require([\"vega-embed\"], displayChart, err => showError(`Error loading script: ${err.message}`));\n",
       "    } else {\n",
       "      maybeLoadScript(\"vega\", \"5\")\n",
       "        .then(() => maybeLoadScript(\"vega-lite\", \"4.17.0\"))\n",
       "        .then(() => maybeLoadScript(\"vega-embed\", \"6\"))\n",
       "        .catch(showError)\n",
       "        .then(() => displayChart(vegaEmbed));\n",
       "    }\n",
       "  })({\"config\": {\"view\": {\"continuousWidth\": 400, \"continuousHeight\": 300, \"stroke\": null}, \"facet\": {\"spacing\": 0}}, \"data\": {\"name\": \"data-ee0460503d486d1d5e25134d4a997ecb\"}, \"facet\": {\"column\": {\"field\": \"route_id\", \"sort\": [\"62\"], \"title\": \"Route ID\", \"type\": \"nominal\"}}, \"spec\": {\"layer\": [{\"mark\": \"rule\", \"encoding\": {\"color\": {\"value\": \"black\"}, \"y\": {\"field\": \"cutoff\", \"type\": \"quantitative\"}}, \"selection\": {\"selector001\": {\"type\": \"interval\", \"bind\": \"scales\", \"encodings\": [\"x\", \"y\"]}}}, {\"mark\": {\"type\": \"point\", \"opacity\": 0.65, \"size\": 12, \"strokeWidth\": 1.1}, \"encoding\": {\"color\": {\"field\": \"time_of_day\", \"scale\": {\"range\": [\"#136C97\", \"#E16B26\", \"#F6BF16\", \"#00896B\", \"#7790A3\", \"#5B559C\"]}, \"sort\": [\"AM Peak\", \"Midday\", \"PM Peak\", \"Owl Service\"], \"title\": \"Time of Day\", \"type\": \"nominal\"}, \"tooltip\": [{\"field\": \"route_id\", \"type\": \"nominal\"}, {\"field\": \"trip_id\", \"type\": \"nominal\"}, {\"field\": \"service_hours\", \"type\": \"quantitative\"}, {\"field\": \"car_duration_hours\", \"type\": \"quantitative\"}, {\"field\": \"bus_multiplier\", \"type\": \"quantitative\"}, {\"field\": \"bus_difference\", \"type\": \"quantitative\"}, {\"field\": \"num_trips\", \"type\": \"quantitative\"}, {\"field\": \"num_competitive\", \"type\": \"quantitative\"}, {\"field\": \"pct_trips_competitive\", \"type\": \"quantitative\"}, {\"field\": \"p25\", \"type\": \"quantitative\"}, {\"field\": \"p50\", \"type\": \"quantitative\"}, {\"field\": \"p75\", \"type\": \"quantitative\"}], \"x\": {\"axis\": {\"grid\": false, \"labels\": false, \"ticks\": true, \"values\": [0]}, \"field\": \"jitter\", \"scale\": {}, \"title\": null, \"type\": \"quantitative\"}, \"y\": {\"field\": \"bus_multiplier\", \"scale\": {\"domain\": [-0.25, 2.5]}, \"title\": \"Ratio of Bus to Car Travel Time\", \"type\": \"quantitative\"}}, \"transform\": [{\"calculate\": \"sqrt(-2*log(random()))*cos(2*PI*random())\", \"as\": \"jitter\"}], \"width\": 50}, {\"layer\": [{\"mark\": {\"type\": \"point\", \"opacity\": 0.6, \"size\": 20, \"strokeWidth\": 1.3}, \"encoding\": {\"color\": {\"value\": \"#323434\"}, \"y\": {\"field\": \"bus_multiplier\", \"type\": \"quantitative\"}}, \"transform\": [{\"filter\": \"(datum.p50_trip === 1)\"}]}, {\"mark\": {\"type\": \"text\", \"align\": \"center\", \"baseline\": \"middle\"}, \"encoding\": {\"color\": {\"value\": \"black\"}, \"text\": {\"field\": \"pct_trips_competitive\", \"format\": \".0%\", \"type\": \"quantitative\"}, \"tooltip\": [{\"field\": \"route_id\", \"type\": \"nominal\"}, {\"field\": \"trip_id\", \"type\": \"nominal\"}, {\"field\": \"service_hours\", \"type\": \"quantitative\"}, {\"field\": \"car_duration_hours\", \"type\": \"quantitative\"}, {\"field\": \"bus_multiplier\", \"type\": \"quantitative\"}, {\"field\": \"bus_difference\", \"type\": \"quantitative\"}, {\"field\": \"num_trips\", \"type\": \"quantitative\"}, {\"field\": \"num_competitive\", \"type\": \"quantitative\"}, {\"field\": \"pct_trips_competitive\", \"type\": \"quantitative\"}, {\"field\": \"p25\", \"type\": \"quantitative\"}, {\"field\": \"p50\", \"type\": \"quantitative\"}, {\"field\": \"p75\", \"type\": \"quantitative\"}], \"x\": {\"value\": 30}, \"y\": {\"value\": 15}}, \"transform\": [{\"calculate\": \"sqrt(-2*log(random()))*cos(2*PI*random())\", \"as\": \"jitter\"}, {\"filter\": \"(datum.fastest_trip === 1)\"}]}]}]}, \"resolve\": {\"scale\": {\"y\": \"shared\"}}, \"title\": \"Ratio of Bus to Car Travel Time\", \"$schema\": \"https://vega.github.io/schema/vega-lite/v4.17.0.json\", \"datasets\": {\"data-ee0460503d486d1d5e25134d4a997ecb\": [{\"calitp_itp_id\": 126, \"trip_key\": 5364581721970226587, \"trip_id\": \"1986\", \"shape_id\": \"56\", \"route_id\": \"62\", \"service_hours\": 0.92, \"trip_first_departure_ts\": 46800, \"trip_last_arrival_ts\": 50100, \"departure_hour\": 13, \"time_of_day\": \"Midday\", \"p25\": 0.92, \"p50\": 0.96, \"p75\": 1.08, \"p50_trip\": 1, \"fastest_trip\": 0, \"car_duration_hours\": 0.57, \"competitive_route\": 1, \"bus_multiplier\": 1.61, \"bus_difference\": 21.0, \"num_trips\": 24, \"num_competitive\": 24, \"pct_trips_competitive\": 1.0, \"bus_difference_spread\": 9.6, \"route_group\": \"medium\", \"max_trip_hrs\": 1.08, \"max_trip_route_group\": 1.28, \"name\": \"Golden Empire Transit District\", \"caltrans_district\": \"06 - Fresno\", \"drmt_organization_name\": null, \"cutoff2\": 30, \"cutoff\": 2}, {\"calitp_itp_id\": 126, \"trip_key\": -8824272478545795224, \"trip_id\": \"1985\", \"shape_id\": \"56\", \"route_id\": \"62\", \"service_hours\": 0.92, \"trip_first_departure_ts\": 43200, \"trip_last_arrival_ts\": 46500, \"departure_hour\": 12, \"time_of_day\": \"Midday\", \"p25\": 0.92, \"p50\": 0.96, \"p75\": 1.08, \"p50_trip\": 1, \"fastest_trip\": 0, \"car_duration_hours\": 0.57, \"competitive_route\": 1, \"bus_multiplier\": 1.61, \"bus_difference\": 21.0, \"num_trips\": 24, \"num_competitive\": 24, \"pct_trips_competitive\": 1.0, \"bus_difference_spread\": 9.6, \"route_group\": \"medium\", \"max_trip_hrs\": 1.08, \"max_trip_route_group\": 1.28, \"name\": \"Golden Empire Transit District\", \"caltrans_district\": \"06 - Fresno\", \"drmt_organization_name\": null, \"cutoff2\": 30, \"cutoff\": 2}, {\"calitp_itp_id\": 126, \"trip_key\": -5765002440222693223, \"trip_id\": \"1987\", \"shape_id\": \"56\", \"route_id\": \"62\", \"service_hours\": 0.92, \"trip_first_departure_ts\": 50400, \"trip_last_arrival_ts\": 53700, \"departure_hour\": 14, \"time_of_day\": \"Midday\", \"p25\": 0.92, \"p50\": 0.96, \"p75\": 1.08, \"p50_trip\": 1, \"fastest_trip\": 0, \"car_duration_hours\": 0.57, \"competitive_route\": 1, \"bus_multiplier\": 1.61, \"bus_difference\": 21.0, \"num_trips\": 24, \"num_competitive\": 24, \"pct_trips_competitive\": 1.0, \"bus_difference_spread\": 9.6, \"route_group\": \"medium\", \"max_trip_hrs\": 1.08, \"max_trip_route_group\": 1.28, \"name\": \"Golden Empire Transit District\", \"caltrans_district\": \"06 - Fresno\", \"drmt_organization_name\": null, \"cutoff2\": 30, \"cutoff\": 2}, {\"calitp_itp_id\": 126, \"trip_key\": -4121532990600785286, \"trip_id\": \"1982\", \"shape_id\": \"56\", \"route_id\": \"62\", \"service_hours\": 0.92, \"trip_first_departure_ts\": 32400, \"trip_last_arrival_ts\": 35700, \"departure_hour\": 9, \"time_of_day\": \"AM Peak\", \"p25\": 0.92, \"p50\": 0.96, \"p75\": 1.08, \"p50_trip\": 1, \"fastest_trip\": 0, \"car_duration_hours\": 0.57, \"competitive_route\": 1, \"bus_multiplier\": 1.61, \"bus_difference\": 21.0, \"num_trips\": 24, \"num_competitive\": 24, \"pct_trips_competitive\": 1.0, \"bus_difference_spread\": 9.6, \"route_group\": \"medium\", \"max_trip_hrs\": 1.08, \"max_trip_route_group\": 1.28, \"name\": \"Golden Empire Transit District\", \"caltrans_district\": \"06 - Fresno\", \"drmt_organization_name\": null, \"cutoff2\": 30, \"cutoff\": 2}, {\"calitp_itp_id\": 126, \"trip_key\": -8159425626889087600, \"trip_id\": \"1980\", \"shape_id\": \"56\", \"route_id\": \"62\", \"service_hours\": 0.92, \"trip_first_departure_ts\": 25200, \"trip_last_arrival_ts\": 28500, \"departure_hour\": 7, \"time_of_day\": \"AM Peak\", \"p25\": 0.92, \"p50\": 0.96, \"p75\": 1.08, \"p50_trip\": 1, \"fastest_trip\": 0, \"car_duration_hours\": 0.57, \"competitive_route\": 1, \"bus_multiplier\": 1.61, \"bus_difference\": 21.0, \"num_trips\": 24, \"num_competitive\": 24, \"pct_trips_competitive\": 1.0, \"bus_difference_spread\": 9.6, \"route_group\": \"medium\", \"max_trip_hrs\": 1.08, \"max_trip_route_group\": 1.28, \"name\": \"Golden Empire Transit District\", \"caltrans_district\": \"06 - Fresno\", \"drmt_organization_name\": null, \"cutoff2\": 30, \"cutoff\": 2}, {\"calitp_itp_id\": 126, \"trip_key\": -857406301910668562, \"trip_id\": \"1981\", \"shape_id\": \"56\", \"route_id\": \"62\", \"service_hours\": 0.92, \"trip_first_departure_ts\": 28800, \"trip_last_arrival_ts\": 32100, \"departure_hour\": 8, \"time_of_day\": \"AM Peak\", \"p25\": 0.92, \"p50\": 0.96, \"p75\": 1.08, \"p50_trip\": 1, \"fastest_trip\": 0, \"car_duration_hours\": 0.57, \"competitive_route\": 1, \"bus_multiplier\": 1.61, \"bus_difference\": 21.0, \"num_trips\": 24, \"num_competitive\": 24, \"pct_trips_competitive\": 1.0, \"bus_difference_spread\": 9.6, \"route_group\": \"medium\", \"max_trip_hrs\": 1.08, \"max_trip_route_group\": 1.28, \"name\": \"Golden Empire Transit District\", \"caltrans_district\": \"06 - Fresno\", \"drmt_organization_name\": null, \"cutoff2\": 30, \"cutoff\": 2}, {\"calitp_itp_id\": 126, \"trip_key\": -5968553136652973486, \"trip_id\": \"1984\", \"shape_id\": \"56\", \"route_id\": \"62\", \"service_hours\": 0.92, \"trip_first_departure_ts\": 39600, \"trip_last_arrival_ts\": 42900, \"departure_hour\": 11, \"time_of_day\": \"Midday\", \"p25\": 0.92, \"p50\": 0.96, \"p75\": 1.08, \"p50_trip\": 1, \"fastest_trip\": 0, \"car_duration_hours\": 0.57, \"competitive_route\": 1, \"bus_multiplier\": 1.61, \"bus_difference\": 21.0, \"num_trips\": 24, \"num_competitive\": 24, \"pct_trips_competitive\": 1.0, \"bus_difference_spread\": 9.6, \"route_group\": \"medium\", \"max_trip_hrs\": 1.08, \"max_trip_route_group\": 1.28, \"name\": \"Golden Empire Transit District\", \"caltrans_district\": \"06 - Fresno\", \"drmt_organization_name\": null, \"cutoff2\": 30, \"cutoff\": 2}, {\"calitp_itp_id\": 126, \"trip_key\": 1525772625152661822, \"trip_id\": \"1988\", \"shape_id\": \"56\", \"route_id\": \"62\", \"service_hours\": 0.92, \"trip_first_departure_ts\": 54000, \"trip_last_arrival_ts\": 57300, \"departure_hour\": 15, \"time_of_day\": \"Midday\", \"p25\": 0.92, \"p50\": 0.96, \"p75\": 1.08, \"p50_trip\": 1, \"fastest_trip\": 0, \"car_duration_hours\": 0.57, \"competitive_route\": 1, \"bus_multiplier\": 1.61, \"bus_difference\": 21.0, \"num_trips\": 24, \"num_competitive\": 24, \"pct_trips_competitive\": 1.0, \"bus_difference_spread\": 9.6, \"route_group\": \"medium\", \"max_trip_hrs\": 1.08, \"max_trip_route_group\": 1.28, \"name\": \"Golden Empire Transit District\", \"caltrans_district\": \"06 - Fresno\", \"drmt_organization_name\": null, \"cutoff2\": 30, \"cutoff\": 2}, {\"calitp_itp_id\": 126, \"trip_key\": 1784598322346742404, \"trip_id\": \"1991\", \"shape_id\": \"56\", \"route_id\": \"62\", \"service_hours\": 0.92, \"trip_first_departure_ts\": 64800, \"trip_last_arrival_ts\": 68100, \"departure_hour\": 18, \"time_of_day\": \"PM Peak\", \"p25\": 0.92, \"p50\": 0.96, \"p75\": 1.08, \"p50_trip\": 1, \"fastest_trip\": 1, \"car_duration_hours\": 0.57, \"competitive_route\": 1, \"bus_multiplier\": 1.61, \"bus_difference\": 21.0, \"num_trips\": 24, \"num_competitive\": 24, \"pct_trips_competitive\": 1.0, \"bus_difference_spread\": 9.6, \"route_group\": \"medium\", \"max_trip_hrs\": 1.08, \"max_trip_route_group\": 1.28, \"name\": \"Golden Empire Transit District\", \"caltrans_district\": \"06 - Fresno\", \"drmt_organization_name\": null, \"cutoff2\": 30, \"cutoff\": 2}, {\"calitp_itp_id\": 126, \"trip_key\": 8037778639050624470, \"trip_id\": \"1989\", \"shape_id\": \"56\", \"route_id\": \"62\", \"service_hours\": 0.92, \"trip_first_departure_ts\": 57600, \"trip_last_arrival_ts\": 60900, \"departure_hour\": 16, \"time_of_day\": \"Midday\", \"p25\": 0.92, \"p50\": 0.96, \"p75\": 1.08, \"p50_trip\": 1, \"fastest_trip\": 0, \"car_duration_hours\": 0.57, \"competitive_route\": 1, \"bus_multiplier\": 1.61, \"bus_difference\": 21.0, \"num_trips\": 24, \"num_competitive\": 24, \"pct_trips_competitive\": 1.0, \"bus_difference_spread\": 9.6, \"route_group\": \"medium\", \"max_trip_hrs\": 1.08, \"max_trip_route_group\": 1.28, \"name\": \"Golden Empire Transit District\", \"caltrans_district\": \"06 - Fresno\", \"drmt_organization_name\": null, \"cutoff2\": 30, \"cutoff\": 2}, {\"calitp_itp_id\": 126, \"trip_key\": 1734782686471856502, \"trip_id\": \"1990\", \"shape_id\": \"56\", \"route_id\": \"62\", \"service_hours\": 0.92, \"trip_first_departure_ts\": 61200, \"trip_last_arrival_ts\": 64500, \"departure_hour\": 17, \"time_of_day\": \"PM Peak\", \"p25\": 0.92, \"p50\": 0.96, \"p75\": 1.08, \"p50_trip\": 1, \"fastest_trip\": 0, \"car_duration_hours\": 0.57, \"competitive_route\": 1, \"bus_multiplier\": 1.61, \"bus_difference\": 21.0, \"num_trips\": 24, \"num_competitive\": 24, \"pct_trips_competitive\": 1.0, \"bus_difference_spread\": 9.6, \"route_group\": \"medium\", \"max_trip_hrs\": 1.08, \"max_trip_route_group\": 1.28, \"name\": \"Golden Empire Transit District\", \"caltrans_district\": \"06 - Fresno\", \"drmt_organization_name\": null, \"cutoff2\": 30, \"cutoff\": 2}, {\"calitp_itp_id\": 126, \"trip_key\": -1624281882188341956, \"trip_id\": \"1983\", \"shape_id\": \"56\", \"route_id\": \"62\", \"service_hours\": 0.92, \"trip_first_departure_ts\": 36000, \"trip_last_arrival_ts\": 39300, \"departure_hour\": 10, \"time_of_day\": \"Midday\", \"p25\": 0.92, \"p50\": 0.96, \"p75\": 1.08, \"p50_trip\": 1, \"fastest_trip\": 0, \"car_duration_hours\": 0.57, \"competitive_route\": 1, \"bus_multiplier\": 1.61, \"bus_difference\": 21.0, \"num_trips\": 24, \"num_competitive\": 24, \"pct_trips_competitive\": 1.0, \"bus_difference_spread\": 9.6, \"route_group\": \"medium\", \"max_trip_hrs\": 1.08, \"max_trip_route_group\": 1.28, \"name\": \"Golden Empire Transit District\", \"caltrans_district\": \"06 - Fresno\", \"drmt_organization_name\": null, \"cutoff2\": 30, \"cutoff\": 2}, {\"calitp_itp_id\": 126, \"trip_key\": 8857494238630096522, \"trip_id\": \"1979\", \"shape_id\": \"45\", \"route_id\": \"62\", \"service_hours\": 1.0, \"trip_first_departure_ts\": 64500, \"trip_last_arrival_ts\": 68100, \"departure_hour\": 17, \"time_of_day\": \"PM Peak\", \"p25\": 0.92, \"p50\": 0.96, \"p75\": 1.08, \"p50_trip\": 0, \"fastest_trip\": 0, \"car_duration_hours\": 0.57, \"competitive_route\": 1, \"bus_multiplier\": 1.75, \"bus_difference\": 25.8, \"num_trips\": 24, \"num_competitive\": 24, \"pct_trips_competitive\": 1.0, \"bus_difference_spread\": 9.6, \"route_group\": \"medium\", \"max_trip_hrs\": 1.08, \"max_trip_route_group\": 1.28, \"name\": \"Golden Empire Transit District\", \"caltrans_district\": \"06 - Fresno\", \"drmt_organization_name\": null, \"cutoff2\": 30, \"cutoff\": 2}, {\"calitp_itp_id\": 126, \"trip_key\": 4254431478989959981, \"trip_id\": \"1971\", \"shape_id\": \"45\", \"route_id\": \"62\", \"service_hours\": 1.08, \"trip_first_departure_ts\": 32100, \"trip_last_arrival_ts\": 36000, \"departure_hour\": 8, \"time_of_day\": \"AM Peak\", \"p25\": 0.92, \"p50\": 0.96, \"p75\": 1.08, \"p50_trip\": 0, \"fastest_trip\": 0, \"car_duration_hours\": 0.57, \"competitive_route\": 1, \"bus_multiplier\": 1.89, \"bus_difference\": 30.6, \"num_trips\": 24, \"num_competitive\": 24, \"pct_trips_competitive\": 1.0, \"bus_difference_spread\": 9.6, \"route_group\": \"medium\", \"max_trip_hrs\": 1.08, \"max_trip_route_group\": 1.28, \"name\": \"Golden Empire Transit District\", \"caltrans_district\": \"06 - Fresno\", \"drmt_organization_name\": null, \"cutoff2\": 30, \"cutoff\": 2}, {\"calitp_itp_id\": 126, \"trip_key\": 7562056509314122037, \"trip_id\": \"1973\", \"shape_id\": \"45\", \"route_id\": \"62\", \"service_hours\": 1.08, \"trip_first_departure_ts\": 39300, \"trip_last_arrival_ts\": 43200, \"departure_hour\": 10, \"time_of_day\": \"Midday\", \"p25\": 0.92, \"p50\": 0.96, \"p75\": 1.08, \"p50_trip\": 0, \"fastest_trip\": 0, \"car_duration_hours\": 0.57, \"competitive_route\": 1, \"bus_multiplier\": 1.89, \"bus_difference\": 30.6, \"num_trips\": 24, \"num_competitive\": 24, \"pct_trips_competitive\": 1.0, \"bus_difference_spread\": 9.6, \"route_group\": \"medium\", \"max_trip_hrs\": 1.08, \"max_trip_route_group\": 1.28, \"name\": \"Golden Empire Transit District\", \"caltrans_district\": \"06 - Fresno\", \"drmt_organization_name\": null, \"cutoff2\": 30, \"cutoff\": 2}, {\"calitp_itp_id\": 126, \"trip_key\": -1174315029956827544, \"trip_id\": \"1977\", \"shape_id\": \"45\", \"route_id\": \"62\", \"service_hours\": 1.08, \"trip_first_departure_ts\": 57300, \"trip_last_arrival_ts\": 61200, \"departure_hour\": 15, \"time_of_day\": \"Midday\", \"p25\": 0.92, \"p50\": 0.96, \"p75\": 1.08, \"p50_trip\": 0, \"fastest_trip\": 0, \"car_duration_hours\": 0.57, \"competitive_route\": 1, \"bus_multiplier\": 1.89, \"bus_difference\": 30.6, \"num_trips\": 24, \"num_competitive\": 24, \"pct_trips_competitive\": 1.0, \"bus_difference_spread\": 9.6, \"route_group\": \"medium\", \"max_trip_hrs\": 1.08, \"max_trip_route_group\": 1.28, \"name\": \"Golden Empire Transit District\", \"caltrans_district\": \"06 - Fresno\", \"drmt_organization_name\": null, \"cutoff2\": 30, \"cutoff\": 2}, {\"calitp_itp_id\": 126, \"trip_key\": -7913144978631141880, \"trip_id\": \"1969\", \"shape_id\": \"45\", \"route_id\": \"62\", \"service_hours\": 1.08, \"trip_first_departure_ts\": 24900, \"trip_last_arrival_ts\": 28800, \"departure_hour\": 6, \"time_of_day\": \"Owl Service\", \"p25\": 0.92, \"p50\": 0.96, \"p75\": 1.08, \"p50_trip\": 0, \"fastest_trip\": 0, \"car_duration_hours\": 0.57, \"competitive_route\": 1, \"bus_multiplier\": 1.89, \"bus_difference\": 30.6, \"num_trips\": 24, \"num_competitive\": 24, \"pct_trips_competitive\": 1.0, \"bus_difference_spread\": 9.6, \"route_group\": \"medium\", \"max_trip_hrs\": 1.08, \"max_trip_route_group\": 1.28, \"name\": \"Golden Empire Transit District\", \"caltrans_district\": \"06 - Fresno\", \"drmt_organization_name\": null, \"cutoff2\": 30, \"cutoff\": 2}, {\"calitp_itp_id\": 126, \"trip_key\": -6764356430060964619, \"trip_id\": \"1519\", \"shape_id\": \"45\", \"route_id\": \"62\", \"service_hours\": 1.08, \"trip_first_departure_ts\": 42900, \"trip_last_arrival_ts\": 46800, \"departure_hour\": 11, \"time_of_day\": \"Midday\", \"p25\": 0.92, \"p50\": 0.96, \"p75\": 1.08, \"p50_trip\": 0, \"fastest_trip\": 0, \"car_duration_hours\": 0.57, \"competitive_route\": 1, \"bus_multiplier\": 1.89, \"bus_difference\": 30.6, \"num_trips\": 24, \"num_competitive\": 24, \"pct_trips_competitive\": 1.0, \"bus_difference_spread\": 9.6, \"route_group\": \"medium\", \"max_trip_hrs\": 1.08, \"max_trip_route_group\": 1.28, \"name\": \"Golden Empire Transit District\", \"caltrans_district\": \"06 - Fresno\", \"drmt_organization_name\": null, \"cutoff2\": 30, \"cutoff\": 2}, {\"calitp_itp_id\": 126, \"trip_key\": -2734724785490573929, \"trip_id\": \"1974\", \"shape_id\": \"45\", \"route_id\": \"62\", \"service_hours\": 1.08, \"trip_first_departure_ts\": 46500, \"trip_last_arrival_ts\": 50400, \"departure_hour\": 12, \"time_of_day\": \"Midday\", \"p25\": 0.92, \"p50\": 0.96, \"p75\": 1.08, \"p50_trip\": 0, \"fastest_trip\": 0, \"car_duration_hours\": 0.57, \"competitive_route\": 1, \"bus_multiplier\": 1.89, \"bus_difference\": 30.6, \"num_trips\": 24, \"num_competitive\": 24, \"pct_trips_competitive\": 1.0, \"bus_difference_spread\": 9.6, \"route_group\": \"medium\", \"max_trip_hrs\": 1.08, \"max_trip_route_group\": 1.28, \"name\": \"Golden Empire Transit District\", \"caltrans_district\": \"06 - Fresno\", \"drmt_organization_name\": null, \"cutoff2\": 30, \"cutoff\": 2}, {\"calitp_itp_id\": 126, \"trip_key\": 6693152542659667484, \"trip_id\": \"1978\", \"shape_id\": \"45\", \"route_id\": \"62\", \"service_hours\": 1.08, \"trip_first_departure_ts\": 60900, \"trip_last_arrival_ts\": 64800, \"departure_hour\": 16, \"time_of_day\": \"Midday\", \"p25\": 0.92, \"p50\": 0.96, \"p75\": 1.08, \"p50_trip\": 0, \"fastest_trip\": 0, \"car_duration_hours\": 0.57, \"competitive_route\": 1, \"bus_multiplier\": 1.89, \"bus_difference\": 30.6, \"num_trips\": 24, \"num_competitive\": 24, \"pct_trips_competitive\": 1.0, \"bus_difference_spread\": 9.6, \"route_group\": \"medium\", \"max_trip_hrs\": 1.08, \"max_trip_route_group\": 1.28, \"name\": \"Golden Empire Transit District\", \"caltrans_district\": \"06 - Fresno\", \"drmt_organization_name\": null, \"cutoff2\": 30, \"cutoff\": 2}, {\"calitp_itp_id\": 126, \"trip_key\": -7900873824646436253, \"trip_id\": \"1975\", \"shape_id\": \"45\", \"route_id\": \"62\", \"service_hours\": 1.08, \"trip_first_departure_ts\": 50100, \"trip_last_arrival_ts\": 54000, \"departure_hour\": 13, \"time_of_day\": \"Midday\", \"p25\": 0.92, \"p50\": 0.96, \"p75\": 1.08, \"p50_trip\": 0, \"fastest_trip\": 0, \"car_duration_hours\": 0.57, \"competitive_route\": 1, \"bus_multiplier\": 1.89, \"bus_difference\": 30.6, \"num_trips\": 24, \"num_competitive\": 24, \"pct_trips_competitive\": 1.0, \"bus_difference_spread\": 9.6, \"route_group\": \"medium\", \"max_trip_hrs\": 1.08, \"max_trip_route_group\": 1.28, \"name\": \"Golden Empire Transit District\", \"caltrans_district\": \"06 - Fresno\", \"drmt_organization_name\": null, \"cutoff2\": 30, \"cutoff\": 2}, {\"calitp_itp_id\": 126, \"trip_key\": 4939210400697649146, \"trip_id\": \"1970\", \"shape_id\": \"45\", \"route_id\": \"62\", \"service_hours\": 1.08, \"trip_first_departure_ts\": 28500, \"trip_last_arrival_ts\": 32400, \"departure_hour\": 7, \"time_of_day\": \"AM Peak\", \"p25\": 0.92, \"p50\": 0.96, \"p75\": 1.08, \"p50_trip\": 0, \"fastest_trip\": 0, \"car_duration_hours\": 0.57, \"competitive_route\": 1, \"bus_multiplier\": 1.89, \"bus_difference\": 30.6, \"num_trips\": 24, \"num_competitive\": 24, \"pct_trips_competitive\": 1.0, \"bus_difference_spread\": 9.6, \"route_group\": \"medium\", \"max_trip_hrs\": 1.08, \"max_trip_route_group\": 1.28, \"name\": \"Golden Empire Transit District\", \"caltrans_district\": \"06 - Fresno\", \"drmt_organization_name\": null, \"cutoff2\": 30, \"cutoff\": 2}, {\"calitp_itp_id\": 126, \"trip_key\": -839532200645589971, \"trip_id\": \"1972\", \"shape_id\": \"45\", \"route_id\": \"62\", \"service_hours\": 1.08, \"trip_first_departure_ts\": 35700, \"trip_last_arrival_ts\": 39600, \"departure_hour\": 9, \"time_of_day\": \"AM Peak\", \"p25\": 0.92, \"p50\": 0.96, \"p75\": 1.08, \"p50_trip\": 0, \"fastest_trip\": 0, \"car_duration_hours\": 0.57, \"competitive_route\": 1, \"bus_multiplier\": 1.89, \"bus_difference\": 30.6, \"num_trips\": 24, \"num_competitive\": 24, \"pct_trips_competitive\": 1.0, \"bus_difference_spread\": 9.6, \"route_group\": \"medium\", \"max_trip_hrs\": 1.08, \"max_trip_route_group\": 1.28, \"name\": \"Golden Empire Transit District\", \"caltrans_district\": \"06 - Fresno\", \"drmt_organization_name\": null, \"cutoff2\": 30, \"cutoff\": 2}, {\"calitp_itp_id\": 126, \"trip_key\": -8417468646573950502, \"trip_id\": \"1976\", \"shape_id\": \"45\", \"route_id\": \"62\", \"service_hours\": 1.08, \"trip_first_departure_ts\": 53700, \"trip_last_arrival_ts\": 57600, \"departure_hour\": 14, \"time_of_day\": \"Midday\", \"p25\": 0.92, \"p50\": 0.96, \"p75\": 1.08, \"p50_trip\": 0, \"fastest_trip\": 0, \"car_duration_hours\": 0.57, \"competitive_route\": 1, \"bus_multiplier\": 1.89, \"bus_difference\": 30.6, \"num_trips\": 24, \"num_competitive\": 24, \"pct_trips_competitive\": 1.0, \"bus_difference_spread\": 9.6, \"route_group\": \"medium\", \"max_trip_hrs\": 1.08, \"max_trip_route_group\": 1.28, \"name\": \"Golden Empire Transit District\", \"caltrans_district\": \"06 - Fresno\", \"drmt_organization_name\": null, \"cutoff2\": 30, \"cutoff\": 2}]}}, {\"mode\": \"vega-lite\"});\n",
       "</script>"
      ],
      "text/plain": [
       "alt.FacetChart(...)"
      ]
     },
     "metadata": {},
     "output_type": "display_data"
    },
    {
     "data": {
      "text/html": [
       "\n",
       "<div id=\"altair-viz-e0d3ee0f67c44c97b8d5b36c37bb97d5\"></div>\n",
       "<script type=\"text/javascript\">\n",
       "  var VEGA_DEBUG = (typeof VEGA_DEBUG == \"undefined\") ? {} : VEGA_DEBUG;\n",
       "  (function(spec, embedOpt){\n",
       "    let outputDiv = document.currentScript.previousElementSibling;\n",
       "    if (outputDiv.id !== \"altair-viz-e0d3ee0f67c44c97b8d5b36c37bb97d5\") {\n",
       "      outputDiv = document.getElementById(\"altair-viz-e0d3ee0f67c44c97b8d5b36c37bb97d5\");\n",
       "    }\n",
       "    const paths = {\n",
       "      \"vega\": \"https://cdn.jsdelivr.net/npm//vega@5?noext\",\n",
       "      \"vega-lib\": \"https://cdn.jsdelivr.net/npm//vega-lib?noext\",\n",
       "      \"vega-lite\": \"https://cdn.jsdelivr.net/npm//vega-lite@4.17.0?noext\",\n",
       "      \"vega-embed\": \"https://cdn.jsdelivr.net/npm//vega-embed@6?noext\",\n",
       "    };\n",
       "\n",
       "    function maybeLoadScript(lib, version) {\n",
       "      var key = `${lib.replace(\"-\", \"\")}_version`;\n",
       "      return (VEGA_DEBUG[key] == version) ?\n",
       "        Promise.resolve(paths[lib]) :\n",
       "        new Promise(function(resolve, reject) {\n",
       "          var s = document.createElement('script');\n",
       "          document.getElementsByTagName(\"head\")[0].appendChild(s);\n",
       "          s.async = true;\n",
       "          s.onload = () => {\n",
       "            VEGA_DEBUG[key] = version;\n",
       "            return resolve(paths[lib]);\n",
       "          };\n",
       "          s.onerror = () => reject(`Error loading script: ${paths[lib]}`);\n",
       "          s.src = paths[lib];\n",
       "        });\n",
       "    }\n",
       "\n",
       "    function showError(err) {\n",
       "      outputDiv.innerHTML = `<div class=\"error\" style=\"color:red;\">${err}</div>`;\n",
       "      throw err;\n",
       "    }\n",
       "\n",
       "    function displayChart(vegaEmbed) {\n",
       "      vegaEmbed(outputDiv, spec, embedOpt)\n",
       "        .catch(err => showError(`Javascript Error: ${err.message}<br>This usually means there's a typo in your chart specification. See the javascript console for the full traceback.`));\n",
       "    }\n",
       "\n",
       "    if(typeof define === \"function\" && define.amd) {\n",
       "      requirejs.config({paths});\n",
       "      require([\"vega-embed\"], displayChart, err => showError(`Error loading script: ${err.message}`));\n",
       "    } else {\n",
       "      maybeLoadScript(\"vega\", \"5\")\n",
       "        .then(() => maybeLoadScript(\"vega-lite\", \"4.17.0\"))\n",
       "        .then(() => maybeLoadScript(\"vega-embed\", \"6\"))\n",
       "        .catch(showError)\n",
       "        .then(() => displayChart(vegaEmbed));\n",
       "    }\n",
       "  })({\"config\": {\"view\": {\"continuousWidth\": 400, \"continuousHeight\": 300, \"stroke\": null}, \"facet\": {\"spacing\": 0}}, \"data\": {\"name\": \"data-a3321e71c72a695e3291f65da6a5b65e\"}, \"facet\": {\"column\": {\"field\": \"route_id\", \"sort\": [\"62\"], \"title\": \"Route ID\", \"type\": \"nominal\"}}, \"spec\": {\"layer\": [{\"mark\": \"rule\", \"encoding\": {\"color\": {\"value\": \"black\"}, \"y\": {\"field\": \"cutoff\", \"type\": \"quantitative\"}}, \"selection\": {\"selector002\": {\"type\": \"interval\", \"bind\": \"scales\", \"encodings\": [\"x\", \"y\"]}}}, {\"mark\": {\"type\": \"rule\", \"strokeDash\": [3, 3]}, \"encoding\": {\"color\": {\"value\": \"#323434\"}, \"y\": {\"field\": \"cutoff2\", \"type\": \"quantitative\"}}}, {\"mark\": {\"type\": \"point\", \"opacity\": 0.65, \"size\": 12, \"strokeWidth\": 1.1}, \"encoding\": {\"color\": {\"field\": \"time_of_day\", \"scale\": {\"range\": [\"#136C97\", \"#E16B26\", \"#F6BF16\", \"#00896B\", \"#7790A3\", \"#5B559C\"]}, \"sort\": [\"AM Peak\", \"Midday\", \"PM Peak\", \"Owl Service\"], \"title\": \"Time of Day\", \"type\": \"nominal\"}, \"tooltip\": [{\"field\": \"route_id\", \"type\": \"nominal\"}, {\"field\": \"trip_id\", \"type\": \"nominal\"}, {\"field\": \"service_hours\", \"type\": \"quantitative\"}, {\"field\": \"car_duration_hours\", \"type\": \"quantitative\"}, {\"field\": \"bus_multiplier\", \"type\": \"quantitative\"}, {\"field\": \"bus_difference\", \"type\": \"quantitative\"}, {\"field\": \"num_trips\", \"type\": \"quantitative\"}, {\"field\": \"num_competitive\", \"type\": \"quantitative\"}, {\"field\": \"pct_trips_competitive\", \"type\": \"quantitative\"}, {\"field\": \"p25\", \"type\": \"quantitative\"}, {\"field\": \"p50\", \"type\": \"quantitative\"}, {\"field\": \"p75\", \"type\": \"quantitative\"}], \"x\": {\"axis\": {\"grid\": false, \"labels\": false, \"ticks\": true, \"values\": [0]}, \"field\": \"jitter\", \"scale\": {}, \"title\": null, \"type\": \"quantitative\"}, \"y\": {\"field\": \"bus_difference\", \"scale\": {\"domain\": [-5, 45.0]}, \"title\": \"Difference in Bus to Car Travel Time (min)\", \"type\": \"quantitative\"}}, \"transform\": [{\"calculate\": \"sqrt(-2*log(random()))*cos(2*PI*random())\", \"as\": \"jitter\"}], \"width\": 50}, {\"layer\": [{\"mark\": {\"type\": \"point\", \"opacity\": 0.6, \"size\": 20, \"strokeWidth\": 1.3}, \"encoding\": {\"color\": {\"value\": \"#323434\"}, \"y\": {\"field\": \"bus_difference\", \"type\": \"quantitative\"}}, \"transform\": [{\"filter\": \"(datum.p50_trip === 1)\"}]}, {\"mark\": {\"type\": \"text\", \"align\": \"center\", \"baseline\": \"middle\"}, \"encoding\": {\"color\": {\"value\": \"black\"}, \"text\": {\"field\": \"pct_trips_competitive\", \"format\": \".0%\", \"type\": \"quantitative\"}, \"tooltip\": [{\"field\": \"route_id\", \"type\": \"nominal\"}, {\"field\": \"trip_id\", \"type\": \"nominal\"}, {\"field\": \"service_hours\", \"type\": \"quantitative\"}, {\"field\": \"car_duration_hours\", \"type\": \"quantitative\"}, {\"field\": \"bus_multiplier\", \"type\": \"quantitative\"}, {\"field\": \"bus_difference\", \"type\": \"quantitative\"}, {\"field\": \"num_trips\", \"type\": \"quantitative\"}, {\"field\": \"num_competitive\", \"type\": \"quantitative\"}, {\"field\": \"pct_trips_competitive\", \"type\": \"quantitative\"}, {\"field\": \"p25\", \"type\": \"quantitative\"}, {\"field\": \"p50\", \"type\": \"quantitative\"}, {\"field\": \"p75\", \"type\": \"quantitative\"}], \"x\": {\"value\": 30}, \"y\": {\"value\": 15}}, \"transform\": [{\"calculate\": \"sqrt(-2*log(random()))*cos(2*PI*random())\", \"as\": \"jitter\"}, {\"filter\": \"(datum.fastest_trip === 1)\"}]}]}]}, \"resolve\": {\"scale\": {\"y\": \"shared\"}}, \"title\": \"Difference in Bus to Car Travel Time (min)\", \"$schema\": \"https://vega.github.io/schema/vega-lite/v4.17.0.json\", \"datasets\": {\"data-a3321e71c72a695e3291f65da6a5b65e\": [{\"calitp_itp_id\": 126, \"trip_key\": 5364581721970226587, \"trip_id\": \"1986\", \"shape_id\": \"56\", \"route_id\": \"62\", \"service_hours\": 0.92, \"trip_first_departure_ts\": 46800, \"trip_last_arrival_ts\": 50100, \"departure_hour\": 13, \"time_of_day\": \"Midday\", \"p25\": 0.92, \"p50\": 0.96, \"p75\": 1.08, \"p50_trip\": 1, \"fastest_trip\": 0, \"car_duration_hours\": 0.57, \"competitive_route\": 1, \"bus_multiplier\": 1.61, \"bus_difference\": 21.0, \"num_trips\": 24, \"num_competitive\": 24, \"pct_trips_competitive\": 1.0, \"bus_difference_spread\": 9.6, \"route_group\": \"medium\", \"max_trip_hrs\": 1.08, \"max_trip_route_group\": 1.28, \"name\": \"Golden Empire Transit District\", \"caltrans_district\": \"06 - Fresno\", \"drmt_organization_name\": null, \"cutoff2\": 30, \"cutoff\": 0}, {\"calitp_itp_id\": 126, \"trip_key\": -8824272478545795224, \"trip_id\": \"1985\", \"shape_id\": \"56\", \"route_id\": \"62\", \"service_hours\": 0.92, \"trip_first_departure_ts\": 43200, \"trip_last_arrival_ts\": 46500, \"departure_hour\": 12, \"time_of_day\": \"Midday\", \"p25\": 0.92, \"p50\": 0.96, \"p75\": 1.08, \"p50_trip\": 1, \"fastest_trip\": 0, \"car_duration_hours\": 0.57, \"competitive_route\": 1, \"bus_multiplier\": 1.61, \"bus_difference\": 21.0, \"num_trips\": 24, \"num_competitive\": 24, \"pct_trips_competitive\": 1.0, \"bus_difference_spread\": 9.6, \"route_group\": \"medium\", \"max_trip_hrs\": 1.08, \"max_trip_route_group\": 1.28, \"name\": \"Golden Empire Transit District\", \"caltrans_district\": \"06 - Fresno\", \"drmt_organization_name\": null, \"cutoff2\": 30, \"cutoff\": 0}, {\"calitp_itp_id\": 126, \"trip_key\": -5765002440222693223, \"trip_id\": \"1987\", \"shape_id\": \"56\", \"route_id\": \"62\", \"service_hours\": 0.92, \"trip_first_departure_ts\": 50400, \"trip_last_arrival_ts\": 53700, \"departure_hour\": 14, \"time_of_day\": \"Midday\", \"p25\": 0.92, \"p50\": 0.96, \"p75\": 1.08, \"p50_trip\": 1, \"fastest_trip\": 0, \"car_duration_hours\": 0.57, \"competitive_route\": 1, \"bus_multiplier\": 1.61, \"bus_difference\": 21.0, \"num_trips\": 24, \"num_competitive\": 24, \"pct_trips_competitive\": 1.0, \"bus_difference_spread\": 9.6, \"route_group\": \"medium\", \"max_trip_hrs\": 1.08, \"max_trip_route_group\": 1.28, \"name\": \"Golden Empire Transit District\", \"caltrans_district\": \"06 - Fresno\", \"drmt_organization_name\": null, \"cutoff2\": 30, \"cutoff\": 0}, {\"calitp_itp_id\": 126, \"trip_key\": -4121532990600785286, \"trip_id\": \"1982\", \"shape_id\": \"56\", \"route_id\": \"62\", \"service_hours\": 0.92, \"trip_first_departure_ts\": 32400, \"trip_last_arrival_ts\": 35700, \"departure_hour\": 9, \"time_of_day\": \"AM Peak\", \"p25\": 0.92, \"p50\": 0.96, \"p75\": 1.08, \"p50_trip\": 1, \"fastest_trip\": 0, \"car_duration_hours\": 0.57, \"competitive_route\": 1, \"bus_multiplier\": 1.61, \"bus_difference\": 21.0, \"num_trips\": 24, \"num_competitive\": 24, \"pct_trips_competitive\": 1.0, \"bus_difference_spread\": 9.6, \"route_group\": \"medium\", \"max_trip_hrs\": 1.08, \"max_trip_route_group\": 1.28, \"name\": \"Golden Empire Transit District\", \"caltrans_district\": \"06 - Fresno\", \"drmt_organization_name\": null, \"cutoff2\": 30, \"cutoff\": 0}, {\"calitp_itp_id\": 126, \"trip_key\": -8159425626889087600, \"trip_id\": \"1980\", \"shape_id\": \"56\", \"route_id\": \"62\", \"service_hours\": 0.92, \"trip_first_departure_ts\": 25200, \"trip_last_arrival_ts\": 28500, \"departure_hour\": 7, \"time_of_day\": \"AM Peak\", \"p25\": 0.92, \"p50\": 0.96, \"p75\": 1.08, \"p50_trip\": 1, \"fastest_trip\": 0, \"car_duration_hours\": 0.57, \"competitive_route\": 1, \"bus_multiplier\": 1.61, \"bus_difference\": 21.0, \"num_trips\": 24, \"num_competitive\": 24, \"pct_trips_competitive\": 1.0, \"bus_difference_spread\": 9.6, \"route_group\": \"medium\", \"max_trip_hrs\": 1.08, \"max_trip_route_group\": 1.28, \"name\": \"Golden Empire Transit District\", \"caltrans_district\": \"06 - Fresno\", \"drmt_organization_name\": null, \"cutoff2\": 30, \"cutoff\": 0}, {\"calitp_itp_id\": 126, \"trip_key\": -857406301910668562, \"trip_id\": \"1981\", \"shape_id\": \"56\", \"route_id\": \"62\", \"service_hours\": 0.92, \"trip_first_departure_ts\": 28800, \"trip_last_arrival_ts\": 32100, \"departure_hour\": 8, \"time_of_day\": \"AM Peak\", \"p25\": 0.92, \"p50\": 0.96, \"p75\": 1.08, \"p50_trip\": 1, \"fastest_trip\": 0, \"car_duration_hours\": 0.57, \"competitive_route\": 1, \"bus_multiplier\": 1.61, \"bus_difference\": 21.0, \"num_trips\": 24, \"num_competitive\": 24, \"pct_trips_competitive\": 1.0, \"bus_difference_spread\": 9.6, \"route_group\": \"medium\", \"max_trip_hrs\": 1.08, \"max_trip_route_group\": 1.28, \"name\": \"Golden Empire Transit District\", \"caltrans_district\": \"06 - Fresno\", \"drmt_organization_name\": null, \"cutoff2\": 30, \"cutoff\": 0}, {\"calitp_itp_id\": 126, \"trip_key\": -5968553136652973486, \"trip_id\": \"1984\", \"shape_id\": \"56\", \"route_id\": \"62\", \"service_hours\": 0.92, \"trip_first_departure_ts\": 39600, \"trip_last_arrival_ts\": 42900, \"departure_hour\": 11, \"time_of_day\": \"Midday\", \"p25\": 0.92, \"p50\": 0.96, \"p75\": 1.08, \"p50_trip\": 1, \"fastest_trip\": 0, \"car_duration_hours\": 0.57, \"competitive_route\": 1, \"bus_multiplier\": 1.61, \"bus_difference\": 21.0, \"num_trips\": 24, \"num_competitive\": 24, \"pct_trips_competitive\": 1.0, \"bus_difference_spread\": 9.6, \"route_group\": \"medium\", \"max_trip_hrs\": 1.08, \"max_trip_route_group\": 1.28, \"name\": \"Golden Empire Transit District\", \"caltrans_district\": \"06 - Fresno\", \"drmt_organization_name\": null, \"cutoff2\": 30, \"cutoff\": 0}, {\"calitp_itp_id\": 126, \"trip_key\": 1525772625152661822, \"trip_id\": \"1988\", \"shape_id\": \"56\", \"route_id\": \"62\", \"service_hours\": 0.92, \"trip_first_departure_ts\": 54000, \"trip_last_arrival_ts\": 57300, \"departure_hour\": 15, \"time_of_day\": \"Midday\", \"p25\": 0.92, \"p50\": 0.96, \"p75\": 1.08, \"p50_trip\": 1, \"fastest_trip\": 0, \"car_duration_hours\": 0.57, \"competitive_route\": 1, \"bus_multiplier\": 1.61, \"bus_difference\": 21.0, \"num_trips\": 24, \"num_competitive\": 24, \"pct_trips_competitive\": 1.0, \"bus_difference_spread\": 9.6, \"route_group\": \"medium\", \"max_trip_hrs\": 1.08, \"max_trip_route_group\": 1.28, \"name\": \"Golden Empire Transit District\", \"caltrans_district\": \"06 - Fresno\", \"drmt_organization_name\": null, \"cutoff2\": 30, \"cutoff\": 0}, {\"calitp_itp_id\": 126, \"trip_key\": 1784598322346742404, \"trip_id\": \"1991\", \"shape_id\": \"56\", \"route_id\": \"62\", \"service_hours\": 0.92, \"trip_first_departure_ts\": 64800, \"trip_last_arrival_ts\": 68100, \"departure_hour\": 18, \"time_of_day\": \"PM Peak\", \"p25\": 0.92, \"p50\": 0.96, \"p75\": 1.08, \"p50_trip\": 1, \"fastest_trip\": 1, \"car_duration_hours\": 0.57, \"competitive_route\": 1, \"bus_multiplier\": 1.61, \"bus_difference\": 21.0, \"num_trips\": 24, \"num_competitive\": 24, \"pct_trips_competitive\": 1.0, \"bus_difference_spread\": 9.6, \"route_group\": \"medium\", \"max_trip_hrs\": 1.08, \"max_trip_route_group\": 1.28, \"name\": \"Golden Empire Transit District\", \"caltrans_district\": \"06 - Fresno\", \"drmt_organization_name\": null, \"cutoff2\": 30, \"cutoff\": 0}, {\"calitp_itp_id\": 126, \"trip_key\": 8037778639050624470, \"trip_id\": \"1989\", \"shape_id\": \"56\", \"route_id\": \"62\", \"service_hours\": 0.92, \"trip_first_departure_ts\": 57600, \"trip_last_arrival_ts\": 60900, \"departure_hour\": 16, \"time_of_day\": \"Midday\", \"p25\": 0.92, \"p50\": 0.96, \"p75\": 1.08, \"p50_trip\": 1, \"fastest_trip\": 0, \"car_duration_hours\": 0.57, \"competitive_route\": 1, \"bus_multiplier\": 1.61, \"bus_difference\": 21.0, \"num_trips\": 24, \"num_competitive\": 24, \"pct_trips_competitive\": 1.0, \"bus_difference_spread\": 9.6, \"route_group\": \"medium\", \"max_trip_hrs\": 1.08, \"max_trip_route_group\": 1.28, \"name\": \"Golden Empire Transit District\", \"caltrans_district\": \"06 - Fresno\", \"drmt_organization_name\": null, \"cutoff2\": 30, \"cutoff\": 0}, {\"calitp_itp_id\": 126, \"trip_key\": 1734782686471856502, \"trip_id\": \"1990\", \"shape_id\": \"56\", \"route_id\": \"62\", \"service_hours\": 0.92, \"trip_first_departure_ts\": 61200, \"trip_last_arrival_ts\": 64500, \"departure_hour\": 17, \"time_of_day\": \"PM Peak\", \"p25\": 0.92, \"p50\": 0.96, \"p75\": 1.08, \"p50_trip\": 1, \"fastest_trip\": 0, \"car_duration_hours\": 0.57, \"competitive_route\": 1, \"bus_multiplier\": 1.61, \"bus_difference\": 21.0, \"num_trips\": 24, \"num_competitive\": 24, \"pct_trips_competitive\": 1.0, \"bus_difference_spread\": 9.6, \"route_group\": \"medium\", \"max_trip_hrs\": 1.08, \"max_trip_route_group\": 1.28, \"name\": \"Golden Empire Transit District\", \"caltrans_district\": \"06 - Fresno\", \"drmt_organization_name\": null, \"cutoff2\": 30, \"cutoff\": 0}, {\"calitp_itp_id\": 126, \"trip_key\": -1624281882188341956, \"trip_id\": \"1983\", \"shape_id\": \"56\", \"route_id\": \"62\", \"service_hours\": 0.92, \"trip_first_departure_ts\": 36000, \"trip_last_arrival_ts\": 39300, \"departure_hour\": 10, \"time_of_day\": \"Midday\", \"p25\": 0.92, \"p50\": 0.96, \"p75\": 1.08, \"p50_trip\": 1, \"fastest_trip\": 0, \"car_duration_hours\": 0.57, \"competitive_route\": 1, \"bus_multiplier\": 1.61, \"bus_difference\": 21.0, \"num_trips\": 24, \"num_competitive\": 24, \"pct_trips_competitive\": 1.0, \"bus_difference_spread\": 9.6, \"route_group\": \"medium\", \"max_trip_hrs\": 1.08, \"max_trip_route_group\": 1.28, \"name\": \"Golden Empire Transit District\", \"caltrans_district\": \"06 - Fresno\", \"drmt_organization_name\": null, \"cutoff2\": 30, \"cutoff\": 0}, {\"calitp_itp_id\": 126, \"trip_key\": 8857494238630096522, \"trip_id\": \"1979\", \"shape_id\": \"45\", \"route_id\": \"62\", \"service_hours\": 1.0, \"trip_first_departure_ts\": 64500, \"trip_last_arrival_ts\": 68100, \"departure_hour\": 17, \"time_of_day\": \"PM Peak\", \"p25\": 0.92, \"p50\": 0.96, \"p75\": 1.08, \"p50_trip\": 0, \"fastest_trip\": 0, \"car_duration_hours\": 0.57, \"competitive_route\": 1, \"bus_multiplier\": 1.75, \"bus_difference\": 25.8, \"num_trips\": 24, \"num_competitive\": 24, \"pct_trips_competitive\": 1.0, \"bus_difference_spread\": 9.6, \"route_group\": \"medium\", \"max_trip_hrs\": 1.08, \"max_trip_route_group\": 1.28, \"name\": \"Golden Empire Transit District\", \"caltrans_district\": \"06 - Fresno\", \"drmt_organization_name\": null, \"cutoff2\": 30, \"cutoff\": 0}, {\"calitp_itp_id\": 126, \"trip_key\": 4254431478989959981, \"trip_id\": \"1971\", \"shape_id\": \"45\", \"route_id\": \"62\", \"service_hours\": 1.08, \"trip_first_departure_ts\": 32100, \"trip_last_arrival_ts\": 36000, \"departure_hour\": 8, \"time_of_day\": \"AM Peak\", \"p25\": 0.92, \"p50\": 0.96, \"p75\": 1.08, \"p50_trip\": 0, \"fastest_trip\": 0, \"car_duration_hours\": 0.57, \"competitive_route\": 1, \"bus_multiplier\": 1.89, \"bus_difference\": 30.6, \"num_trips\": 24, \"num_competitive\": 24, \"pct_trips_competitive\": 1.0, \"bus_difference_spread\": 9.6, \"route_group\": \"medium\", \"max_trip_hrs\": 1.08, \"max_trip_route_group\": 1.28, \"name\": \"Golden Empire Transit District\", \"caltrans_district\": \"06 - Fresno\", \"drmt_organization_name\": null, \"cutoff2\": 30, \"cutoff\": 0}, {\"calitp_itp_id\": 126, \"trip_key\": 7562056509314122037, \"trip_id\": \"1973\", \"shape_id\": \"45\", \"route_id\": \"62\", \"service_hours\": 1.08, \"trip_first_departure_ts\": 39300, \"trip_last_arrival_ts\": 43200, \"departure_hour\": 10, \"time_of_day\": \"Midday\", \"p25\": 0.92, \"p50\": 0.96, \"p75\": 1.08, \"p50_trip\": 0, \"fastest_trip\": 0, \"car_duration_hours\": 0.57, \"competitive_route\": 1, \"bus_multiplier\": 1.89, \"bus_difference\": 30.6, \"num_trips\": 24, \"num_competitive\": 24, \"pct_trips_competitive\": 1.0, \"bus_difference_spread\": 9.6, \"route_group\": \"medium\", \"max_trip_hrs\": 1.08, \"max_trip_route_group\": 1.28, \"name\": \"Golden Empire Transit District\", \"caltrans_district\": \"06 - Fresno\", \"drmt_organization_name\": null, \"cutoff2\": 30, \"cutoff\": 0}, {\"calitp_itp_id\": 126, \"trip_key\": -1174315029956827544, \"trip_id\": \"1977\", \"shape_id\": \"45\", \"route_id\": \"62\", \"service_hours\": 1.08, \"trip_first_departure_ts\": 57300, \"trip_last_arrival_ts\": 61200, \"departure_hour\": 15, \"time_of_day\": \"Midday\", \"p25\": 0.92, \"p50\": 0.96, \"p75\": 1.08, \"p50_trip\": 0, \"fastest_trip\": 0, \"car_duration_hours\": 0.57, \"competitive_route\": 1, \"bus_multiplier\": 1.89, \"bus_difference\": 30.6, \"num_trips\": 24, \"num_competitive\": 24, \"pct_trips_competitive\": 1.0, \"bus_difference_spread\": 9.6, \"route_group\": \"medium\", \"max_trip_hrs\": 1.08, \"max_trip_route_group\": 1.28, \"name\": \"Golden Empire Transit District\", \"caltrans_district\": \"06 - Fresno\", \"drmt_organization_name\": null, \"cutoff2\": 30, \"cutoff\": 0}, {\"calitp_itp_id\": 126, \"trip_key\": -7913144978631141880, \"trip_id\": \"1969\", \"shape_id\": \"45\", \"route_id\": \"62\", \"service_hours\": 1.08, \"trip_first_departure_ts\": 24900, \"trip_last_arrival_ts\": 28800, \"departure_hour\": 6, \"time_of_day\": \"Owl Service\", \"p25\": 0.92, \"p50\": 0.96, \"p75\": 1.08, \"p50_trip\": 0, \"fastest_trip\": 0, \"car_duration_hours\": 0.57, \"competitive_route\": 1, \"bus_multiplier\": 1.89, \"bus_difference\": 30.6, \"num_trips\": 24, \"num_competitive\": 24, \"pct_trips_competitive\": 1.0, \"bus_difference_spread\": 9.6, \"route_group\": \"medium\", \"max_trip_hrs\": 1.08, \"max_trip_route_group\": 1.28, \"name\": \"Golden Empire Transit District\", \"caltrans_district\": \"06 - Fresno\", \"drmt_organization_name\": null, \"cutoff2\": 30, \"cutoff\": 0}, {\"calitp_itp_id\": 126, \"trip_key\": -6764356430060964619, \"trip_id\": \"1519\", \"shape_id\": \"45\", \"route_id\": \"62\", \"service_hours\": 1.08, \"trip_first_departure_ts\": 42900, \"trip_last_arrival_ts\": 46800, \"departure_hour\": 11, \"time_of_day\": \"Midday\", \"p25\": 0.92, \"p50\": 0.96, \"p75\": 1.08, \"p50_trip\": 0, \"fastest_trip\": 0, \"car_duration_hours\": 0.57, \"competitive_route\": 1, \"bus_multiplier\": 1.89, \"bus_difference\": 30.6, \"num_trips\": 24, \"num_competitive\": 24, \"pct_trips_competitive\": 1.0, \"bus_difference_spread\": 9.6, \"route_group\": \"medium\", \"max_trip_hrs\": 1.08, \"max_trip_route_group\": 1.28, \"name\": \"Golden Empire Transit District\", \"caltrans_district\": \"06 - Fresno\", \"drmt_organization_name\": null, \"cutoff2\": 30, \"cutoff\": 0}, {\"calitp_itp_id\": 126, \"trip_key\": -2734724785490573929, \"trip_id\": \"1974\", \"shape_id\": \"45\", \"route_id\": \"62\", \"service_hours\": 1.08, \"trip_first_departure_ts\": 46500, \"trip_last_arrival_ts\": 50400, \"departure_hour\": 12, \"time_of_day\": \"Midday\", \"p25\": 0.92, \"p50\": 0.96, \"p75\": 1.08, \"p50_trip\": 0, \"fastest_trip\": 0, \"car_duration_hours\": 0.57, \"competitive_route\": 1, \"bus_multiplier\": 1.89, \"bus_difference\": 30.6, \"num_trips\": 24, \"num_competitive\": 24, \"pct_trips_competitive\": 1.0, \"bus_difference_spread\": 9.6, \"route_group\": \"medium\", \"max_trip_hrs\": 1.08, \"max_trip_route_group\": 1.28, \"name\": \"Golden Empire Transit District\", \"caltrans_district\": \"06 - Fresno\", \"drmt_organization_name\": null, \"cutoff2\": 30, \"cutoff\": 0}, {\"calitp_itp_id\": 126, \"trip_key\": 6693152542659667484, \"trip_id\": \"1978\", \"shape_id\": \"45\", \"route_id\": \"62\", \"service_hours\": 1.08, \"trip_first_departure_ts\": 60900, \"trip_last_arrival_ts\": 64800, \"departure_hour\": 16, \"time_of_day\": \"Midday\", \"p25\": 0.92, \"p50\": 0.96, \"p75\": 1.08, \"p50_trip\": 0, \"fastest_trip\": 0, \"car_duration_hours\": 0.57, \"competitive_route\": 1, \"bus_multiplier\": 1.89, \"bus_difference\": 30.6, \"num_trips\": 24, \"num_competitive\": 24, \"pct_trips_competitive\": 1.0, \"bus_difference_spread\": 9.6, \"route_group\": \"medium\", \"max_trip_hrs\": 1.08, \"max_trip_route_group\": 1.28, \"name\": \"Golden Empire Transit District\", \"caltrans_district\": \"06 - Fresno\", \"drmt_organization_name\": null, \"cutoff2\": 30, \"cutoff\": 0}, {\"calitp_itp_id\": 126, \"trip_key\": -7900873824646436253, \"trip_id\": \"1975\", \"shape_id\": \"45\", \"route_id\": \"62\", \"service_hours\": 1.08, \"trip_first_departure_ts\": 50100, \"trip_last_arrival_ts\": 54000, \"departure_hour\": 13, \"time_of_day\": \"Midday\", \"p25\": 0.92, \"p50\": 0.96, \"p75\": 1.08, \"p50_trip\": 0, \"fastest_trip\": 0, \"car_duration_hours\": 0.57, \"competitive_route\": 1, \"bus_multiplier\": 1.89, \"bus_difference\": 30.6, \"num_trips\": 24, \"num_competitive\": 24, \"pct_trips_competitive\": 1.0, \"bus_difference_spread\": 9.6, \"route_group\": \"medium\", \"max_trip_hrs\": 1.08, \"max_trip_route_group\": 1.28, \"name\": \"Golden Empire Transit District\", \"caltrans_district\": \"06 - Fresno\", \"drmt_organization_name\": null, \"cutoff2\": 30, \"cutoff\": 0}, {\"calitp_itp_id\": 126, \"trip_key\": 4939210400697649146, \"trip_id\": \"1970\", \"shape_id\": \"45\", \"route_id\": \"62\", \"service_hours\": 1.08, \"trip_first_departure_ts\": 28500, \"trip_last_arrival_ts\": 32400, \"departure_hour\": 7, \"time_of_day\": \"AM Peak\", \"p25\": 0.92, \"p50\": 0.96, \"p75\": 1.08, \"p50_trip\": 0, \"fastest_trip\": 0, \"car_duration_hours\": 0.57, \"competitive_route\": 1, \"bus_multiplier\": 1.89, \"bus_difference\": 30.6, \"num_trips\": 24, \"num_competitive\": 24, \"pct_trips_competitive\": 1.0, \"bus_difference_spread\": 9.6, \"route_group\": \"medium\", \"max_trip_hrs\": 1.08, \"max_trip_route_group\": 1.28, \"name\": \"Golden Empire Transit District\", \"caltrans_district\": \"06 - Fresno\", \"drmt_organization_name\": null, \"cutoff2\": 30, \"cutoff\": 0}, {\"calitp_itp_id\": 126, \"trip_key\": -839532200645589971, \"trip_id\": \"1972\", \"shape_id\": \"45\", \"route_id\": \"62\", \"service_hours\": 1.08, \"trip_first_departure_ts\": 35700, \"trip_last_arrival_ts\": 39600, \"departure_hour\": 9, \"time_of_day\": \"AM Peak\", \"p25\": 0.92, \"p50\": 0.96, \"p75\": 1.08, \"p50_trip\": 0, \"fastest_trip\": 0, \"car_duration_hours\": 0.57, \"competitive_route\": 1, \"bus_multiplier\": 1.89, \"bus_difference\": 30.6, \"num_trips\": 24, \"num_competitive\": 24, \"pct_trips_competitive\": 1.0, \"bus_difference_spread\": 9.6, \"route_group\": \"medium\", \"max_trip_hrs\": 1.08, \"max_trip_route_group\": 1.28, \"name\": \"Golden Empire Transit District\", \"caltrans_district\": \"06 - Fresno\", \"drmt_organization_name\": null, \"cutoff2\": 30, \"cutoff\": 0}, {\"calitp_itp_id\": 126, \"trip_key\": -8417468646573950502, \"trip_id\": \"1976\", \"shape_id\": \"45\", \"route_id\": \"62\", \"service_hours\": 1.08, \"trip_first_departure_ts\": 53700, \"trip_last_arrival_ts\": 57600, \"departure_hour\": 14, \"time_of_day\": \"Midday\", \"p25\": 0.92, \"p50\": 0.96, \"p75\": 1.08, \"p50_trip\": 0, \"fastest_trip\": 0, \"car_duration_hours\": 0.57, \"competitive_route\": 1, \"bus_multiplier\": 1.89, \"bus_difference\": 30.6, \"num_trips\": 24, \"num_competitive\": 24, \"pct_trips_competitive\": 1.0, \"bus_difference_spread\": 9.6, \"route_group\": \"medium\", \"max_trip_hrs\": 1.08, \"max_trip_route_group\": 1.28, \"name\": \"Golden Empire Transit District\", \"caltrans_district\": \"06 - Fresno\", \"drmt_organization_name\": null, \"cutoff2\": 30, \"cutoff\": 0}]}}, {\"mode\": \"vega-lite\"});\n",
       "</script>"
      ],
      "text/plain": [
       "alt.FacetChart(...)"
      ]
     },
     "metadata": {},
     "output_type": "display_data"
    }
   ],
   "source": [
    "route_group = \"medium\"\n",
    "try:\n",
    "    display_charts_for_route_group(df, route_group)\n",
    "except:\n",
    "    print(\"No routes meet this criteria.\")"
   ]
  },
  {
   "cell_type": "markdown",
   "id": "124b76d0-886c-4d03-92ac-f1bda3cda182",
   "metadata": {
    "papermill": {
     "duration": 0.016856,
     "end_time": "2022-05-09T16:57:06.609601",
     "exception": false,
     "start_time": "2022-05-09T16:57:06.592745",
     "status": "completed"
    },
    "tags": []
   },
   "source": [
    "### Long Routes (> 1.5 hrs)"
   ]
  },
  {
   "cell_type": "code",
   "execution_count": 15,
   "id": "ddc81b19-4c45-4c81-8b7a-5e0f394aa7a3",
   "metadata": {
    "execution": {
     "iopub.execute_input": "2022-05-09T16:57:06.648441Z",
     "iopub.status.busy": "2022-05-09T16:57:06.647861Z",
     "iopub.status.idle": "2022-05-09T16:57:06.911267Z",
     "shell.execute_reply": "2022-05-09T16:57:06.910008Z"
    },
    "jupyter": {
     "source_hidden": true
    },
    "papermill": {
     "duration": 0.285385,
     "end_time": "2022-05-09T16:57:06.914226",
     "exception": false,
     "start_time": "2022-05-09T16:57:06.628841",
     "status": "completed"
    },
    "tags": [
     "remove_input"
    ]
   },
   "outputs": [
    {
     "data": {
      "text/markdown": [
       "<br>These are routes that have **at least 25% of their trips take no more than an additional 40 min** compared to a car (up to 15 routes) are shown.<br>Within each route group, routes are sorted in descending order by % competitive trips and # trips below the additional time cut-off."
      ],
      "text/plain": [
       "<IPython.core.display.Markdown object>"
      ]
     },
     "metadata": {},
     "output_type": "display_data"
    },
    {
     "data": {
      "text/html": [
       "\n",
       "<div id=\"altair-viz-37d09ac5d84b465e829a6e0bd5c95c00\"></div>\n",
       "<script type=\"text/javascript\">\n",
       "  var VEGA_DEBUG = (typeof VEGA_DEBUG == \"undefined\") ? {} : VEGA_DEBUG;\n",
       "  (function(spec, embedOpt){\n",
       "    let outputDiv = document.currentScript.previousElementSibling;\n",
       "    if (outputDiv.id !== \"altair-viz-37d09ac5d84b465e829a6e0bd5c95c00\") {\n",
       "      outputDiv = document.getElementById(\"altair-viz-37d09ac5d84b465e829a6e0bd5c95c00\");\n",
       "    }\n",
       "    const paths = {\n",
       "      \"vega\": \"https://cdn.jsdelivr.net/npm//vega@5?noext\",\n",
       "      \"vega-lib\": \"https://cdn.jsdelivr.net/npm//vega-lib?noext\",\n",
       "      \"vega-lite\": \"https://cdn.jsdelivr.net/npm//vega-lite@4.17.0?noext\",\n",
       "      \"vega-embed\": \"https://cdn.jsdelivr.net/npm//vega-embed@6?noext\",\n",
       "    };\n",
       "\n",
       "    function maybeLoadScript(lib, version) {\n",
       "      var key = `${lib.replace(\"-\", \"\")}_version`;\n",
       "      return (VEGA_DEBUG[key] == version) ?\n",
       "        Promise.resolve(paths[lib]) :\n",
       "        new Promise(function(resolve, reject) {\n",
       "          var s = document.createElement('script');\n",
       "          document.getElementsByTagName(\"head\")[0].appendChild(s);\n",
       "          s.async = true;\n",
       "          s.onload = () => {\n",
       "            VEGA_DEBUG[key] = version;\n",
       "            return resolve(paths[lib]);\n",
       "          };\n",
       "          s.onerror = () => reject(`Error loading script: ${paths[lib]}`);\n",
       "          s.src = paths[lib];\n",
       "        });\n",
       "    }\n",
       "\n",
       "    function showError(err) {\n",
       "      outputDiv.innerHTML = `<div class=\"error\" style=\"color:red;\">${err}</div>`;\n",
       "      throw err;\n",
       "    }\n",
       "\n",
       "    function displayChart(vegaEmbed) {\n",
       "      vegaEmbed(outputDiv, spec, embedOpt)\n",
       "        .catch(err => showError(`Javascript Error: ${err.message}<br>This usually means there's a typo in your chart specification. See the javascript console for the full traceback.`));\n",
       "    }\n",
       "\n",
       "    if(typeof define === \"function\" && define.amd) {\n",
       "      requirejs.config({paths});\n",
       "      require([\"vega-embed\"], displayChart, err => showError(`Error loading script: ${err.message}`));\n",
       "    } else {\n",
       "      maybeLoadScript(\"vega\", \"5\")\n",
       "        .then(() => maybeLoadScript(\"vega-lite\", \"4.17.0\"))\n",
       "        .then(() => maybeLoadScript(\"vega-embed\", \"6\"))\n",
       "        .catch(showError)\n",
       "        .then(() => displayChart(vegaEmbed));\n",
       "    }\n",
       "  })({\"config\": {\"view\": {\"continuousWidth\": 400, \"continuousHeight\": 300, \"stroke\": null}, \"facet\": {\"spacing\": 0}}, \"data\": {\"name\": \"data-f65b9ac092274bbd579238160a80ccbe\"}, \"facet\": {\"column\": {\"field\": \"route_id\", \"sort\": [\"41\"], \"title\": \"Route ID\", \"type\": \"nominal\"}}, \"spec\": {\"layer\": [{\"mark\": \"rule\", \"encoding\": {\"color\": {\"value\": \"black\"}, \"y\": {\"field\": \"cutoff\", \"type\": \"quantitative\"}}, \"selection\": {\"selector003\": {\"type\": \"interval\", \"bind\": \"scales\", \"encodings\": [\"x\", \"y\"]}}}, {\"mark\": {\"type\": \"point\", \"opacity\": 0.65, \"size\": 12, \"strokeWidth\": 1.1}, \"encoding\": {\"color\": {\"field\": \"time_of_day\", \"scale\": {\"range\": [\"#136C97\", \"#E16B26\", \"#F6BF16\", \"#00896B\", \"#7790A3\", \"#5B559C\"]}, \"sort\": [\"AM Peak\", \"Midday\", \"PM Peak\", \"Owl Service\"], \"title\": \"Time of Day\", \"type\": \"nominal\"}, \"tooltip\": [{\"field\": \"route_id\", \"type\": \"nominal\"}, {\"field\": \"trip_id\", \"type\": \"nominal\"}, {\"field\": \"service_hours\", \"type\": \"quantitative\"}, {\"field\": \"car_duration_hours\", \"type\": \"quantitative\"}, {\"field\": \"bus_multiplier\", \"type\": \"quantitative\"}, {\"field\": \"bus_difference\", \"type\": \"quantitative\"}, {\"field\": \"num_trips\", \"type\": \"quantitative\"}, {\"field\": \"num_competitive\", \"type\": \"quantitative\"}, {\"field\": \"pct_trips_competitive\", \"type\": \"quantitative\"}, {\"field\": \"p25\", \"type\": \"quantitative\"}, {\"field\": \"p50\", \"type\": \"quantitative\"}, {\"field\": \"p75\", \"type\": \"quantitative\"}], \"x\": {\"axis\": {\"grid\": false, \"labels\": false, \"ticks\": true, \"values\": [0]}, \"field\": \"jitter\", \"scale\": {}, \"title\": null, \"type\": \"quantitative\"}, \"y\": {\"field\": \"bus_multiplier\", \"scale\": {\"domain\": [-0.25, 2.5]}, \"title\": \"Ratio of Bus to Car Travel Time\", \"type\": \"quantitative\"}}, \"transform\": [{\"calculate\": \"sqrt(-2*log(random()))*cos(2*PI*random())\", \"as\": \"jitter\"}], \"width\": 50}, {\"layer\": [{\"mark\": {\"type\": \"point\", \"opacity\": 0.6, \"size\": 20, \"strokeWidth\": 1.3}, \"encoding\": {\"color\": {\"value\": \"#323434\"}, \"y\": {\"field\": \"bus_multiplier\", \"type\": \"quantitative\"}}, \"transform\": [{\"filter\": \"(datum.p50_trip === 1)\"}]}, {\"mark\": {\"type\": \"text\", \"align\": \"center\", \"baseline\": \"middle\"}, \"encoding\": {\"color\": {\"value\": \"black\"}, \"text\": {\"field\": \"pct_trips_competitive\", \"format\": \".0%\", \"type\": \"quantitative\"}, \"tooltip\": [{\"field\": \"route_id\", \"type\": \"nominal\"}, {\"field\": \"trip_id\", \"type\": \"nominal\"}, {\"field\": \"service_hours\", \"type\": \"quantitative\"}, {\"field\": \"car_duration_hours\", \"type\": \"quantitative\"}, {\"field\": \"bus_multiplier\", \"type\": \"quantitative\"}, {\"field\": \"bus_difference\", \"type\": \"quantitative\"}, {\"field\": \"num_trips\", \"type\": \"quantitative\"}, {\"field\": \"num_competitive\", \"type\": \"quantitative\"}, {\"field\": \"pct_trips_competitive\", \"type\": \"quantitative\"}, {\"field\": \"p25\", \"type\": \"quantitative\"}, {\"field\": \"p50\", \"type\": \"quantitative\"}, {\"field\": \"p75\", \"type\": \"quantitative\"}], \"x\": {\"value\": 30}, \"y\": {\"value\": 15}}, \"transform\": [{\"calculate\": \"sqrt(-2*log(random()))*cos(2*PI*random())\", \"as\": \"jitter\"}, {\"filter\": \"(datum.fastest_trip === 1)\"}]}]}]}, \"resolve\": {\"scale\": {\"y\": \"shared\"}}, \"title\": \"Ratio of Bus to Car Travel Time\", \"$schema\": \"https://vega.github.io/schema/vega-lite/v4.17.0.json\", \"datasets\": {\"data-f65b9ac092274bbd579238160a80ccbe\": [{\"calitp_itp_id\": 126, \"trip_key\": 5776538052279883279, \"trip_id\": \"1672\", \"shape_id\": \"79\", \"route_id\": \"41\", \"service_hours\": 1.35, \"trip_first_departure_ts\": 63000, \"trip_last_arrival_ts\": 67860, \"departure_hour\": 17, \"time_of_day\": \"PM Peak\", \"p25\": 1.45, \"p50\": 1.45, \"p75\": 1.55, \"p50_trip\": 0, \"fastest_trip\": 1, \"car_duration_hours\": 0.8, \"competitive_route\": 1, \"bus_multiplier\": 1.69, \"bus_difference\": 33.0, \"num_trips\": 45, \"num_competitive\": 45, \"pct_trips_competitive\": 1.0, \"bus_difference_spread\": 12.0, \"route_group\": \"long\", \"max_trip_hrs\": 1.55, \"max_trip_route_group\": 1.55, \"name\": \"Golden Empire Transit District\", \"caltrans_district\": \"06 - Fresno\", \"drmt_organization_name\": null, \"cutoff2\": 40, \"cutoff\": 2}, {\"calitp_itp_id\": 126, \"trip_key\": 6469954698833813641, \"trip_id\": \"1671\", \"shape_id\": \"79\", \"route_id\": \"41\", \"service_hours\": 1.35, \"trip_first_departure_ts\": 61200, \"trip_last_arrival_ts\": 66060, \"departure_hour\": 17, \"time_of_day\": \"PM Peak\", \"p25\": 1.45, \"p50\": 1.45, \"p75\": 1.55, \"p50_trip\": 0, \"fastest_trip\": 0, \"car_duration_hours\": 0.8, \"competitive_route\": 1, \"bus_multiplier\": 1.69, \"bus_difference\": 33.0, \"num_trips\": 45, \"num_competitive\": 45, \"pct_trips_competitive\": 1.0, \"bus_difference_spread\": 12.0, \"route_group\": \"long\", \"max_trip_hrs\": 1.55, \"max_trip_route_group\": 1.55, \"name\": \"Golden Empire Transit District\", \"caltrans_district\": \"06 - Fresno\", \"drmt_organization_name\": null, \"cutoff2\": 40, \"cutoff\": 2}, {\"calitp_itp_id\": 126, \"trip_key\": -4413477114220239056, \"trip_id\": \"3754\", \"shape_id\": \"78\", \"route_id\": \"41\", \"service_hours\": 1.43, \"trip_first_departure_ts\": 59220, \"trip_last_arrival_ts\": 64380, \"departure_hour\": 16, \"time_of_day\": \"Midday\", \"p25\": 1.45, \"p50\": 1.45, \"p75\": 1.55, \"p50_trip\": 0, \"fastest_trip\": 0, \"car_duration_hours\": 0.8, \"competitive_route\": 1, \"bus_multiplier\": 1.79, \"bus_difference\": 37.8, \"num_trips\": 45, \"num_competitive\": 45, \"pct_trips_competitive\": 1.0, \"bus_difference_spread\": 12.0, \"route_group\": \"long\", \"max_trip_hrs\": 1.55, \"max_trip_route_group\": 1.55, \"name\": \"Golden Empire Transit District\", \"caltrans_district\": \"06 - Fresno\", \"drmt_organization_name\": null, \"cutoff2\": 40, \"cutoff\": 2}, {\"calitp_itp_id\": 126, \"trip_key\": -695124153587898879, \"trip_id\": \"3756\", \"shape_id\": \"78\", \"route_id\": \"41\", \"service_hours\": 1.43, \"trip_first_departure_ts\": 62820, \"trip_last_arrival_ts\": 67980, \"departure_hour\": 17, \"time_of_day\": \"PM Peak\", \"p25\": 1.45, \"p50\": 1.45, \"p75\": 1.55, \"p50_trip\": 0, \"fastest_trip\": 0, \"car_duration_hours\": 0.8, \"competitive_route\": 1, \"bus_multiplier\": 1.79, \"bus_difference\": 37.8, \"num_trips\": 45, \"num_competitive\": 45, \"pct_trips_competitive\": 1.0, \"bus_difference_spread\": 12.0, \"route_group\": \"long\", \"max_trip_hrs\": 1.55, \"max_trip_route_group\": 1.55, \"name\": \"Golden Empire Transit District\", \"caltrans_district\": \"06 - Fresno\", \"drmt_organization_name\": null, \"cutoff2\": 40, \"cutoff\": 2}, {\"calitp_itp_id\": 126, \"trip_key\": -1731104395915060672, \"trip_id\": \"3755\", \"shape_id\": \"78\", \"route_id\": \"41\", \"service_hours\": 1.43, \"trip_first_departure_ts\": 61020, \"trip_last_arrival_ts\": 66180, \"departure_hour\": 16, \"time_of_day\": \"Midday\", \"p25\": 1.45, \"p50\": 1.45, \"p75\": 1.55, \"p50_trip\": 0, \"fastest_trip\": 0, \"car_duration_hours\": 0.8, \"competitive_route\": 1, \"bus_multiplier\": 1.79, \"bus_difference\": 37.8, \"num_trips\": 45, \"num_competitive\": 45, \"pct_trips_competitive\": 1.0, \"bus_difference_spread\": 12.0, \"route_group\": \"long\", \"max_trip_hrs\": 1.55, \"max_trip_route_group\": 1.55, \"name\": \"Golden Empire Transit District\", \"caltrans_district\": \"06 - Fresno\", \"drmt_organization_name\": null, \"cutoff2\": 40, \"cutoff\": 2}, {\"calitp_itp_id\": 126, \"trip_key\": 6389089163886931171, \"trip_id\": \"3757\", \"shape_id\": \"78\", \"route_id\": \"41\", \"service_hours\": 1.43, \"trip_first_departure_ts\": 64620, \"trip_last_arrival_ts\": 69780, \"departure_hour\": 17, \"time_of_day\": \"PM Peak\", \"p25\": 1.45, \"p50\": 1.45, \"p75\": 1.55, \"p50_trip\": 0, \"fastest_trip\": 0, \"car_duration_hours\": 0.8, \"competitive_route\": 1, \"bus_multiplier\": 1.79, \"bus_difference\": 37.8, \"num_trips\": 45, \"num_competitive\": 45, \"pct_trips_competitive\": 1.0, \"bus_difference_spread\": 12.0, \"route_group\": \"long\", \"max_trip_hrs\": 1.55, \"max_trip_route_group\": 1.55, \"name\": \"Golden Empire Transit District\", \"caltrans_district\": \"06 - Fresno\", \"drmt_organization_name\": null, \"cutoff2\": 40, \"cutoff\": 2}, {\"calitp_itp_id\": 126, \"trip_key\": -5206940515578354684, \"trip_id\": \"1667\", \"shape_id\": \"79\", \"route_id\": \"41\", \"service_hours\": 1.45, \"trip_first_departure_ts\": 54000, \"trip_last_arrival_ts\": 59220, \"departure_hour\": 15, \"time_of_day\": \"Midday\", \"p25\": 1.45, \"p50\": 1.45, \"p75\": 1.55, \"p50_trip\": 1, \"fastest_trip\": 0, \"car_duration_hours\": 0.8, \"competitive_route\": 1, \"bus_multiplier\": 1.81, \"bus_difference\": 39.0, \"num_trips\": 45, \"num_competitive\": 45, \"pct_trips_competitive\": 1.0, \"bus_difference_spread\": 12.0, \"route_group\": \"long\", \"max_trip_hrs\": 1.55, \"max_trip_route_group\": 1.55, \"name\": \"Golden Empire Transit District\", \"caltrans_district\": \"06 - Fresno\", \"drmt_organization_name\": null, \"cutoff2\": 40, \"cutoff\": 2}, {\"calitp_itp_id\": 126, \"trip_key\": 7497108670509890795, \"trip_id\": \"3768\", \"shape_id\": \"79\", \"route_id\": \"41\", \"service_hours\": 1.45, \"trip_first_departure_ts\": 43200, \"trip_last_arrival_ts\": 48420, \"departure_hour\": 12, \"time_of_day\": \"Midday\", \"p25\": 1.45, \"p50\": 1.45, \"p75\": 1.55, \"p50_trip\": 1, \"fastest_trip\": 0, \"car_duration_hours\": 0.8, \"competitive_route\": 1, \"bus_multiplier\": 1.81, \"bus_difference\": 39.0, \"num_trips\": 45, \"num_competitive\": 45, \"pct_trips_competitive\": 1.0, \"bus_difference_spread\": 12.0, \"route_group\": \"long\", \"max_trip_hrs\": 1.55, \"max_trip_route_group\": 1.55, \"name\": \"Golden Empire Transit District\", \"caltrans_district\": \"06 - Fresno\", \"drmt_organization_name\": null, \"cutoff2\": 40, \"cutoff\": 2}, {\"calitp_itp_id\": 126, \"trip_key\": -2766104624036821072, \"trip_id\": \"1669\", \"shape_id\": \"79\", \"route_id\": \"41\", \"service_hours\": 1.45, \"trip_first_departure_ts\": 57600, \"trip_last_arrival_ts\": 62820, \"departure_hour\": 16, \"time_of_day\": \"Midday\", \"p25\": 1.45, \"p50\": 1.45, \"p75\": 1.55, \"p50_trip\": 1, \"fastest_trip\": 0, \"car_duration_hours\": 0.8, \"competitive_route\": 1, \"bus_multiplier\": 1.81, \"bus_difference\": 39.0, \"num_trips\": 45, \"num_competitive\": 45, \"pct_trips_competitive\": 1.0, \"bus_difference_spread\": 12.0, \"route_group\": \"long\", \"max_trip_hrs\": 1.55, \"max_trip_route_group\": 1.55, \"name\": \"Golden Empire Transit District\", \"caltrans_district\": \"06 - Fresno\", \"drmt_organization_name\": null, \"cutoff2\": 40, \"cutoff\": 2}, {\"calitp_itp_id\": 126, \"trip_key\": -2623109568593173716, \"trip_id\": \"1668\", \"shape_id\": \"79\", \"route_id\": \"41\", \"service_hours\": 1.45, \"trip_first_departure_ts\": 55800, \"trip_last_arrival_ts\": 61020, \"departure_hour\": 15, \"time_of_day\": \"Midday\", \"p25\": 1.45, \"p50\": 1.45, \"p75\": 1.55, \"p50_trip\": 1, \"fastest_trip\": 0, \"car_duration_hours\": 0.8, \"competitive_route\": 1, \"bus_multiplier\": 1.81, \"bus_difference\": 39.0, \"num_trips\": 45, \"num_competitive\": 45, \"pct_trips_competitive\": 1.0, \"bus_difference_spread\": 12.0, \"route_group\": \"long\", \"max_trip_hrs\": 1.55, \"max_trip_route_group\": 1.55, \"name\": \"Golden Empire Transit District\", \"caltrans_district\": \"06 - Fresno\", \"drmt_organization_name\": null, \"cutoff2\": 40, \"cutoff\": 2}, {\"calitp_itp_id\": 126, \"trip_key\": 4595739502092105579, \"trip_id\": \"3767\", \"shape_id\": \"79\", \"route_id\": \"41\", \"service_hours\": 1.45, \"trip_first_departure_ts\": 41400, \"trip_last_arrival_ts\": 46620, \"departure_hour\": 11, \"time_of_day\": \"Midday\", \"p25\": 1.45, \"p50\": 1.45, \"p75\": 1.55, \"p50_trip\": 1, \"fastest_trip\": 0, \"car_duration_hours\": 0.8, \"competitive_route\": 1, \"bus_multiplier\": 1.81, \"bus_difference\": 39.0, \"num_trips\": 45, \"num_competitive\": 45, \"pct_trips_competitive\": 1.0, \"bus_difference_spread\": 12.0, \"route_group\": \"long\", \"max_trip_hrs\": 1.55, \"max_trip_route_group\": 1.55, \"name\": \"Golden Empire Transit District\", \"caltrans_district\": \"06 - Fresno\", \"drmt_organization_name\": null, \"cutoff2\": 40, \"cutoff\": 2}, {\"calitp_itp_id\": 126, \"trip_key\": -2929062652118405266, \"trip_id\": \"1670\", \"shape_id\": \"79\", \"route_id\": \"41\", \"service_hours\": 1.45, \"trip_first_departure_ts\": 59400, \"trip_last_arrival_ts\": 64620, \"departure_hour\": 16, \"time_of_day\": \"Midday\", \"p25\": 1.45, \"p50\": 1.45, \"p75\": 1.55, \"p50_trip\": 1, \"fastest_trip\": 0, \"car_duration_hours\": 0.8, \"competitive_route\": 1, \"bus_multiplier\": 1.81, \"bus_difference\": 39.0, \"num_trips\": 45, \"num_competitive\": 45, \"pct_trips_competitive\": 1.0, \"bus_difference_spread\": 12.0, \"route_group\": \"long\", \"max_trip_hrs\": 1.55, \"max_trip_route_group\": 1.55, \"name\": \"Golden Empire Transit District\", \"caltrans_district\": \"06 - Fresno\", \"drmt_organization_name\": null, \"cutoff2\": 40, \"cutoff\": 2}, {\"calitp_itp_id\": 126, \"trip_key\": 919333876661356962, \"trip_id\": \"3764\", \"shape_id\": \"79\", \"route_id\": \"41\", \"service_hours\": 1.45, \"trip_first_departure_ts\": 36000, \"trip_last_arrival_ts\": 41220, \"departure_hour\": 10, \"time_of_day\": \"Midday\", \"p25\": 1.45, \"p50\": 1.45, \"p75\": 1.55, \"p50_trip\": 1, \"fastest_trip\": 0, \"car_duration_hours\": 0.8, \"competitive_route\": 1, \"bus_multiplier\": 1.81, \"bus_difference\": 39.0, \"num_trips\": 45, \"num_competitive\": 45, \"pct_trips_competitive\": 1.0, \"bus_difference_spread\": 12.0, \"route_group\": \"long\", \"max_trip_hrs\": 1.55, \"max_trip_route_group\": 1.55, \"name\": \"Golden Empire Transit District\", \"caltrans_district\": \"06 - Fresno\", \"drmt_organization_name\": null, \"cutoff2\": 40, \"cutoff\": 2}, {\"calitp_itp_id\": 126, \"trip_key\": -1075485859789652750, \"trip_id\": \"1664\", \"shape_id\": \"79\", \"route_id\": \"41\", \"service_hours\": 1.45, \"trip_first_departure_ts\": 48600, \"trip_last_arrival_ts\": 53820, \"departure_hour\": 13, \"time_of_day\": \"Midday\", \"p25\": 1.45, \"p50\": 1.45, \"p75\": 1.55, \"p50_trip\": 1, \"fastest_trip\": 0, \"car_duration_hours\": 0.8, \"competitive_route\": 1, \"bus_multiplier\": 1.81, \"bus_difference\": 39.0, \"num_trips\": 45, \"num_competitive\": 45, \"pct_trips_competitive\": 1.0, \"bus_difference_spread\": 12.0, \"route_group\": \"long\", \"max_trip_hrs\": 1.55, \"max_trip_route_group\": 1.55, \"name\": \"Golden Empire Transit District\", \"caltrans_district\": \"06 - Fresno\", \"drmt_organization_name\": null, \"cutoff2\": 40, \"cutoff\": 2}, {\"calitp_itp_id\": 126, \"trip_key\": -52251744586674668, \"trip_id\": \"3759\", \"shape_id\": \"79\", \"route_id\": \"41\", \"service_hours\": 1.45, \"trip_first_departure_ts\": 27000, \"trip_last_arrival_ts\": 32220, \"departure_hour\": 7, \"time_of_day\": \"AM Peak\", \"p25\": 1.45, \"p50\": 1.45, \"p75\": 1.55, \"p50_trip\": 1, \"fastest_trip\": 0, \"car_duration_hours\": 0.8, \"competitive_route\": 1, \"bus_multiplier\": 1.81, \"bus_difference\": 39.0, \"num_trips\": 45, \"num_competitive\": 45, \"pct_trips_competitive\": 1.0, \"bus_difference_spread\": 12.0, \"route_group\": \"long\", \"max_trip_hrs\": 1.55, \"max_trip_route_group\": 1.55, \"name\": \"Golden Empire Transit District\", \"caltrans_district\": \"06 - Fresno\", \"drmt_organization_name\": null, \"cutoff2\": 40, \"cutoff\": 2}, {\"calitp_itp_id\": 126, \"trip_key\": -8632599654675507629, \"trip_id\": \"1665\", \"shape_id\": \"79\", \"route_id\": \"41\", \"service_hours\": 1.45, \"trip_first_departure_ts\": 50400, \"trip_last_arrival_ts\": 55620, \"departure_hour\": 14, \"time_of_day\": \"Midday\", \"p25\": 1.45, \"p50\": 1.45, \"p75\": 1.55, \"p50_trip\": 1, \"fastest_trip\": 0, \"car_duration_hours\": 0.8, \"competitive_route\": 1, \"bus_multiplier\": 1.81, \"bus_difference\": 39.0, \"num_trips\": 45, \"num_competitive\": 45, \"pct_trips_competitive\": 1.0, \"bus_difference_spread\": 12.0, \"route_group\": \"long\", \"max_trip_hrs\": 1.55, \"max_trip_route_group\": 1.55, \"name\": \"Golden Empire Transit District\", \"caltrans_district\": \"06 - Fresno\", \"drmt_organization_name\": null, \"cutoff2\": 40, \"cutoff\": 2}, {\"calitp_itp_id\": 126, \"trip_key\": -4313911544704650402, \"trip_id\": \"3762\", \"shape_id\": \"79\", \"route_id\": \"41\", \"service_hours\": 1.45, \"trip_first_departure_ts\": 32400, \"trip_last_arrival_ts\": 37620, \"departure_hour\": 9, \"time_of_day\": \"AM Peak\", \"p25\": 1.45, \"p50\": 1.45, \"p75\": 1.55, \"p50_trip\": 1, \"fastest_trip\": 0, \"car_duration_hours\": 0.8, \"competitive_route\": 1, \"bus_multiplier\": 1.81, \"bus_difference\": 39.0, \"num_trips\": 45, \"num_competitive\": 45, \"pct_trips_competitive\": 1.0, \"bus_difference_spread\": 12.0, \"route_group\": \"long\", \"max_trip_hrs\": 1.55, \"max_trip_route_group\": 1.55, \"name\": \"Golden Empire Transit District\", \"caltrans_district\": \"06 - Fresno\", \"drmt_organization_name\": null, \"cutoff2\": 40, \"cutoff\": 2}, {\"calitp_itp_id\": 126, \"trip_key\": 6392253989863255883, \"trip_id\": \"3763\", \"shape_id\": \"79\", \"route_id\": \"41\", \"service_hours\": 1.45, \"trip_first_departure_ts\": 34200, \"trip_last_arrival_ts\": 39420, \"departure_hour\": 9, \"time_of_day\": \"AM Peak\", \"p25\": 1.45, \"p50\": 1.45, \"p75\": 1.55, \"p50_trip\": 1, \"fastest_trip\": 0, \"car_duration_hours\": 0.8, \"competitive_route\": 1, \"bus_multiplier\": 1.81, \"bus_difference\": 39.0, \"num_trips\": 45, \"num_competitive\": 45, \"pct_trips_competitive\": 1.0, \"bus_difference_spread\": 12.0, \"route_group\": \"long\", \"max_trip_hrs\": 1.55, \"max_trip_route_group\": 1.55, \"name\": \"Golden Empire Transit District\", \"caltrans_district\": \"06 - Fresno\", \"drmt_organization_name\": null, \"cutoff2\": 40, \"cutoff\": 2}, {\"calitp_itp_id\": 126, \"trip_key\": 3411248475395932656, \"trip_id\": \"3765\", \"shape_id\": \"79\", \"route_id\": \"41\", \"service_hours\": 1.45, \"trip_first_departure_ts\": 37800, \"trip_last_arrival_ts\": 43020, \"departure_hour\": 10, \"time_of_day\": \"Midday\", \"p25\": 1.45, \"p50\": 1.45, \"p75\": 1.55, \"p50_trip\": 1, \"fastest_trip\": 0, \"car_duration_hours\": 0.8, \"competitive_route\": 1, \"bus_multiplier\": 1.81, \"bus_difference\": 39.0, \"num_trips\": 45, \"num_competitive\": 45, \"pct_trips_competitive\": 1.0, \"bus_difference_spread\": 12.0, \"route_group\": \"long\", \"max_trip_hrs\": 1.55, \"max_trip_route_group\": 1.55, \"name\": \"Golden Empire Transit District\", \"caltrans_district\": \"06 - Fresno\", \"drmt_organization_name\": null, \"cutoff2\": 40, \"cutoff\": 2}, {\"calitp_itp_id\": 126, \"trip_key\": -7072556819798405700, \"trip_id\": \"3761\", \"shape_id\": \"79\", \"route_id\": \"41\", \"service_hours\": 1.45, \"trip_first_departure_ts\": 30600, \"trip_last_arrival_ts\": 35820, \"departure_hour\": 8, \"time_of_day\": \"AM Peak\", \"p25\": 1.45, \"p50\": 1.45, \"p75\": 1.55, \"p50_trip\": 1, \"fastest_trip\": 0, \"car_duration_hours\": 0.8, \"competitive_route\": 1, \"bus_multiplier\": 1.81, \"bus_difference\": 39.0, \"num_trips\": 45, \"num_competitive\": 45, \"pct_trips_competitive\": 1.0, \"bus_difference_spread\": 12.0, \"route_group\": \"long\", \"max_trip_hrs\": 1.55, \"max_trip_route_group\": 1.55, \"name\": \"Golden Empire Transit District\", \"caltrans_district\": \"06 - Fresno\", \"drmt_organization_name\": null, \"cutoff2\": 40, \"cutoff\": 2}, {\"calitp_itp_id\": 126, \"trip_key\": 4830279098424700338, \"trip_id\": \"1666\", \"shape_id\": \"79\", \"route_id\": \"41\", \"service_hours\": 1.45, \"trip_first_departure_ts\": 52200, \"trip_last_arrival_ts\": 57420, \"departure_hour\": 14, \"time_of_day\": \"Midday\", \"p25\": 1.45, \"p50\": 1.45, \"p75\": 1.55, \"p50_trip\": 1, \"fastest_trip\": 0, \"car_duration_hours\": 0.8, \"competitive_route\": 1, \"bus_multiplier\": 1.81, \"bus_difference\": 39.0, \"num_trips\": 45, \"num_competitive\": 45, \"pct_trips_competitive\": 1.0, \"bus_difference_spread\": 12.0, \"route_group\": \"long\", \"max_trip_hrs\": 1.55, \"max_trip_route_group\": 1.55, \"name\": \"Golden Empire Transit District\", \"caltrans_district\": \"06 - Fresno\", \"drmt_organization_name\": null, \"cutoff2\": 40, \"cutoff\": 2}, {\"calitp_itp_id\": 126, \"trip_key\": -2360716236685420171, \"trip_id\": \"3758\", \"shape_id\": \"79\", \"route_id\": \"41\", \"service_hours\": 1.45, \"trip_first_departure_ts\": 25200, \"trip_last_arrival_ts\": 30420, \"departure_hour\": 7, \"time_of_day\": \"AM Peak\", \"p25\": 1.45, \"p50\": 1.45, \"p75\": 1.55, \"p50_trip\": 1, \"fastest_trip\": 0, \"car_duration_hours\": 0.8, \"competitive_route\": 1, \"bus_multiplier\": 1.81, \"bus_difference\": 39.0, \"num_trips\": 45, \"num_competitive\": 45, \"pct_trips_competitive\": 1.0, \"bus_difference_spread\": 12.0, \"route_group\": \"long\", \"max_trip_hrs\": 1.55, \"max_trip_route_group\": 1.55, \"name\": \"Golden Empire Transit District\", \"caltrans_district\": \"06 - Fresno\", \"drmt_organization_name\": null, \"cutoff2\": 40, \"cutoff\": 2}, {\"calitp_itp_id\": 126, \"trip_key\": -9077068888481348122, \"trip_id\": \"3769\", \"shape_id\": \"79\", \"route_id\": \"41\", \"service_hours\": 1.45, \"trip_first_departure_ts\": 45000, \"trip_last_arrival_ts\": 50220, \"departure_hour\": 12, \"time_of_day\": \"Midday\", \"p25\": 1.45, \"p50\": 1.45, \"p75\": 1.55, \"p50_trip\": 1, \"fastest_trip\": 0, \"car_duration_hours\": 0.8, \"competitive_route\": 1, \"bus_multiplier\": 1.81, \"bus_difference\": 39.0, \"num_trips\": 45, \"num_competitive\": 45, \"pct_trips_competitive\": 1.0, \"bus_difference_spread\": 12.0, \"route_group\": \"long\", \"max_trip_hrs\": 1.55, \"max_trip_route_group\": 1.55, \"name\": \"Golden Empire Transit District\", \"caltrans_district\": \"06 - Fresno\", \"drmt_organization_name\": null, \"cutoff2\": 40, \"cutoff\": 2}, {\"calitp_itp_id\": 126, \"trip_key\": 7722774300800139552, \"trip_id\": \"3766\", \"shape_id\": \"79\", \"route_id\": \"41\", \"service_hours\": 1.45, \"trip_first_departure_ts\": 39600, \"trip_last_arrival_ts\": 44820, \"departure_hour\": 11, \"time_of_day\": \"Midday\", \"p25\": 1.45, \"p50\": 1.45, \"p75\": 1.55, \"p50_trip\": 1, \"fastest_trip\": 0, \"car_duration_hours\": 0.8, \"competitive_route\": 1, \"bus_multiplier\": 1.81, \"bus_difference\": 39.0, \"num_trips\": 45, \"num_competitive\": 45, \"pct_trips_competitive\": 1.0, \"bus_difference_spread\": 12.0, \"route_group\": \"long\", \"max_trip_hrs\": 1.55, \"max_trip_route_group\": 1.55, \"name\": \"Golden Empire Transit District\", \"caltrans_district\": \"06 - Fresno\", \"drmt_organization_name\": null, \"cutoff2\": 40, \"cutoff\": 2}, {\"calitp_itp_id\": 126, \"trip_key\": -27000447531349206, \"trip_id\": \"1513\", \"shape_id\": \"79\", \"route_id\": \"41\", \"service_hours\": 1.45, \"trip_first_departure_ts\": 46800, \"trip_last_arrival_ts\": 52020, \"departure_hour\": 13, \"time_of_day\": \"Midday\", \"p25\": 1.45, \"p50\": 1.45, \"p75\": 1.55, \"p50_trip\": 1, \"fastest_trip\": 0, \"car_duration_hours\": 0.8, \"competitive_route\": 1, \"bus_multiplier\": 1.81, \"bus_difference\": 39.0, \"num_trips\": 45, \"num_competitive\": 45, \"pct_trips_competitive\": 1.0, \"bus_difference_spread\": 12.0, \"route_group\": \"long\", \"max_trip_hrs\": 1.55, \"max_trip_route_group\": 1.55, \"name\": \"Golden Empire Transit District\", \"caltrans_district\": \"06 - Fresno\", \"drmt_organization_name\": null, \"cutoff2\": 40, \"cutoff\": 2}, {\"calitp_itp_id\": 126, \"trip_key\": -634519358534191590, \"trip_id\": \"3760\", \"shape_id\": \"79\", \"route_id\": \"41\", \"service_hours\": 1.45, \"trip_first_departure_ts\": 28800, \"trip_last_arrival_ts\": 34020, \"departure_hour\": 8, \"time_of_day\": \"AM Peak\", \"p25\": 1.45, \"p50\": 1.45, \"p75\": 1.55, \"p50_trip\": 1, \"fastest_trip\": 0, \"car_duration_hours\": 0.8, \"competitive_route\": 1, \"bus_multiplier\": 1.81, \"bus_difference\": 39.0, \"num_trips\": 45, \"num_competitive\": 45, \"pct_trips_competitive\": 1.0, \"bus_difference_spread\": 12.0, \"route_group\": \"long\", \"max_trip_hrs\": 1.55, \"max_trip_route_group\": 1.55, \"name\": \"Golden Empire Transit District\", \"caltrans_district\": \"06 - Fresno\", \"drmt_organization_name\": null, \"cutoff2\": 40, \"cutoff\": 2}, {\"calitp_itp_id\": 126, \"trip_key\": -4088461551057439274, \"trip_id\": \"3746\", \"shape_id\": \"78\", \"route_id\": \"41\", \"service_hours\": 1.55, \"trip_first_departure_ts\": 44820, \"trip_last_arrival_ts\": 50400, \"departure_hour\": 12, \"time_of_day\": \"Midday\", \"p25\": 1.45, \"p50\": 1.45, \"p75\": 1.55, \"p50_trip\": 0, \"fastest_trip\": 0, \"car_duration_hours\": 0.8, \"competitive_route\": 1, \"bus_multiplier\": 1.94, \"bus_difference\": 45.0, \"num_trips\": 45, \"num_competitive\": 45, \"pct_trips_competitive\": 1.0, \"bus_difference_spread\": 12.0, \"route_group\": \"long\", \"max_trip_hrs\": 1.55, \"max_trip_route_group\": 1.55, \"name\": \"Golden Empire Transit District\", \"caltrans_district\": \"06 - Fresno\", \"drmt_organization_name\": null, \"cutoff2\": 40, \"cutoff\": 2}, {\"calitp_itp_id\": 126, \"trip_key\": -6363174918419727490, \"trip_id\": \"3751\", \"shape_id\": \"78\", \"route_id\": \"41\", \"service_hours\": 1.55, \"trip_first_departure_ts\": 53820, \"trip_last_arrival_ts\": 59400, \"departure_hour\": 14, \"time_of_day\": \"Midday\", \"p25\": 1.45, \"p50\": 1.45, \"p75\": 1.55, \"p50_trip\": 0, \"fastest_trip\": 0, \"car_duration_hours\": 0.8, \"competitive_route\": 1, \"bus_multiplier\": 1.94, \"bus_difference\": 45.0, \"num_trips\": 45, \"num_competitive\": 45, \"pct_trips_competitive\": 1.0, \"bus_difference_spread\": 12.0, \"route_group\": \"long\", \"max_trip_hrs\": 1.55, \"max_trip_route_group\": 1.55, \"name\": \"Golden Empire Transit District\", \"caltrans_district\": \"06 - Fresno\", \"drmt_organization_name\": null, \"cutoff2\": 40, \"cutoff\": 2}, {\"calitp_itp_id\": 126, \"trip_key\": -6879825001613676038, \"trip_id\": \"3744\", \"shape_id\": \"78\", \"route_id\": \"41\", \"service_hours\": 1.55, \"trip_first_departure_ts\": 41220, \"trip_last_arrival_ts\": 46800, \"departure_hour\": 11, \"time_of_day\": \"Midday\", \"p25\": 1.45, \"p50\": 1.45, \"p75\": 1.55, \"p50_trip\": 0, \"fastest_trip\": 0, \"car_duration_hours\": 0.8, \"competitive_route\": 1, \"bus_multiplier\": 1.94, \"bus_difference\": 45.0, \"num_trips\": 45, \"num_competitive\": 45, \"pct_trips_competitive\": 1.0, \"bus_difference_spread\": 12.0, \"route_group\": \"long\", \"max_trip_hrs\": 1.55, \"max_trip_route_group\": 1.55, \"name\": \"Golden Empire Transit District\", \"caltrans_district\": \"06 - Fresno\", \"drmt_organization_name\": null, \"cutoff2\": 40, \"cutoff\": 2}, {\"calitp_itp_id\": 126, \"trip_key\": -8905649343725834347, \"trip_id\": \"3736\", \"shape_id\": \"78\", \"route_id\": \"41\", \"service_hours\": 1.55, \"trip_first_departure_ts\": 26820, \"trip_last_arrival_ts\": 32400, \"departure_hour\": 7, \"time_of_day\": \"AM Peak\", \"p25\": 1.45, \"p50\": 1.45, \"p75\": 1.55, \"p50_trip\": 0, \"fastest_trip\": 0, \"car_duration_hours\": 0.8, \"competitive_route\": 1, \"bus_multiplier\": 1.94, \"bus_difference\": 45.0, \"num_trips\": 45, \"num_competitive\": 45, \"pct_trips_competitive\": 1.0, \"bus_difference_spread\": 12.0, \"route_group\": \"long\", \"max_trip_hrs\": 1.55, \"max_trip_route_group\": 1.55, \"name\": \"Golden Empire Transit District\", \"caltrans_district\": \"06 - Fresno\", \"drmt_organization_name\": null, \"cutoff2\": 40, \"cutoff\": 2}, {\"calitp_itp_id\": 126, \"trip_key\": 5215908523642987416, \"trip_id\": \"3739\", \"shape_id\": \"78\", \"route_id\": \"41\", \"service_hours\": 1.55, \"trip_first_departure_ts\": 32220, \"trip_last_arrival_ts\": 37800, \"departure_hour\": 8, \"time_of_day\": \"AM Peak\", \"p25\": 1.45, \"p50\": 1.45, \"p75\": 1.55, \"p50_trip\": 0, \"fastest_trip\": 0, \"car_duration_hours\": 0.8, \"competitive_route\": 1, \"bus_multiplier\": 1.94, \"bus_difference\": 45.0, \"num_trips\": 45, \"num_competitive\": 45, \"pct_trips_competitive\": 1.0, \"bus_difference_spread\": 12.0, \"route_group\": \"long\", \"max_trip_hrs\": 1.55, \"max_trip_route_group\": 1.55, \"name\": \"Golden Empire Transit District\", \"caltrans_district\": \"06 - Fresno\", \"drmt_organization_name\": null, \"cutoff2\": 40, \"cutoff\": 2}, {\"calitp_itp_id\": 126, \"trip_key\": -8074230223285233480, \"trip_id\": \"3742\", \"shape_id\": \"78\", \"route_id\": \"41\", \"service_hours\": 1.55, \"trip_first_departure_ts\": 37620, \"trip_last_arrival_ts\": 43200, \"departure_hour\": 10, \"time_of_day\": \"Midday\", \"p25\": 1.45, \"p50\": 1.45, \"p75\": 1.55, \"p50_trip\": 0, \"fastest_trip\": 0, \"car_duration_hours\": 0.8, \"competitive_route\": 1, \"bus_multiplier\": 1.94, \"bus_difference\": 45.0, \"num_trips\": 45, \"num_competitive\": 45, \"pct_trips_competitive\": 1.0, \"bus_difference_spread\": 12.0, \"route_group\": \"long\", \"max_trip_hrs\": 1.55, \"max_trip_route_group\": 1.55, \"name\": \"Golden Empire Transit District\", \"caltrans_district\": \"06 - Fresno\", \"drmt_organization_name\": null, \"cutoff2\": 40, \"cutoff\": 2}, {\"calitp_itp_id\": 126, \"trip_key\": -4382476451098257507, \"trip_id\": \"3735\", \"shape_id\": \"78\", \"route_id\": \"41\", \"service_hours\": 1.55, \"trip_first_departure_ts\": 25020, \"trip_last_arrival_ts\": 30600, \"departure_hour\": 6, \"time_of_day\": \"Owl Service\", \"p25\": 1.45, \"p50\": 1.45, \"p75\": 1.55, \"p50_trip\": 0, \"fastest_trip\": 0, \"car_duration_hours\": 0.8, \"competitive_route\": 1, \"bus_multiplier\": 1.94, \"bus_difference\": 45.0, \"num_trips\": 45, \"num_competitive\": 45, \"pct_trips_competitive\": 1.0, \"bus_difference_spread\": 12.0, \"route_group\": \"long\", \"max_trip_hrs\": 1.55, \"max_trip_route_group\": 1.55, \"name\": \"Golden Empire Transit District\", \"caltrans_district\": \"06 - Fresno\", \"drmt_organization_name\": null, \"cutoff2\": 40, \"cutoff\": 2}, {\"calitp_itp_id\": 126, \"trip_key\": -1118453596606840101, \"trip_id\": \"3737\", \"shape_id\": \"78\", \"route_id\": \"41\", \"service_hours\": 1.55, \"trip_first_departure_ts\": 28620, \"trip_last_arrival_ts\": 34200, \"departure_hour\": 7, \"time_of_day\": \"AM Peak\", \"p25\": 1.45, \"p50\": 1.45, \"p75\": 1.55, \"p50_trip\": 0, \"fastest_trip\": 0, \"car_duration_hours\": 0.8, \"competitive_route\": 1, \"bus_multiplier\": 1.94, \"bus_difference\": 45.0, \"num_trips\": 45, \"num_competitive\": 45, \"pct_trips_competitive\": 1.0, \"bus_difference_spread\": 12.0, \"route_group\": \"long\", \"max_trip_hrs\": 1.55, \"max_trip_route_group\": 1.55, \"name\": \"Golden Empire Transit District\", \"caltrans_district\": \"06 - Fresno\", \"drmt_organization_name\": null, \"cutoff2\": 40, \"cutoff\": 2}, {\"calitp_itp_id\": 126, \"trip_key\": 9130605149217231437, \"trip_id\": \"3753\", \"shape_id\": \"78\", \"route_id\": \"41\", \"service_hours\": 1.55, \"trip_first_departure_ts\": 57420, \"trip_last_arrival_ts\": 63000, \"departure_hour\": 15, \"time_of_day\": \"Midday\", \"p25\": 1.45, \"p50\": 1.45, \"p75\": 1.55, \"p50_trip\": 0, \"fastest_trip\": 0, \"car_duration_hours\": 0.8, \"competitive_route\": 1, \"bus_multiplier\": 1.94, \"bus_difference\": 45.0, \"num_trips\": 45, \"num_competitive\": 45, \"pct_trips_competitive\": 1.0, \"bus_difference_spread\": 12.0, \"route_group\": \"long\", \"max_trip_hrs\": 1.55, \"max_trip_route_group\": 1.55, \"name\": \"Golden Empire Transit District\", \"caltrans_district\": \"06 - Fresno\", \"drmt_organization_name\": null, \"cutoff2\": 40, \"cutoff\": 2}, {\"calitp_itp_id\": 126, \"trip_key\": 2968404579104872588, \"trip_id\": \"3743\", \"shape_id\": \"78\", \"route_id\": \"41\", \"service_hours\": 1.55, \"trip_first_departure_ts\": 39420, \"trip_last_arrival_ts\": 45000, \"departure_hour\": 10, \"time_of_day\": \"Midday\", \"p25\": 1.45, \"p50\": 1.45, \"p75\": 1.55, \"p50_trip\": 0, \"fastest_trip\": 0, \"car_duration_hours\": 0.8, \"competitive_route\": 1, \"bus_multiplier\": 1.94, \"bus_difference\": 45.0, \"num_trips\": 45, \"num_competitive\": 45, \"pct_trips_competitive\": 1.0, \"bus_difference_spread\": 12.0, \"route_group\": \"long\", \"max_trip_hrs\": 1.55, \"max_trip_route_group\": 1.55, \"name\": \"Golden Empire Transit District\", \"caltrans_district\": \"06 - Fresno\", \"drmt_organization_name\": null, \"cutoff2\": 40, \"cutoff\": 2}, {\"calitp_itp_id\": 126, \"trip_key\": 3019438299359060180, \"trip_id\": \"3752\", \"shape_id\": \"78\", \"route_id\": \"41\", \"service_hours\": 1.55, \"trip_first_departure_ts\": 55620, \"trip_last_arrival_ts\": 61200, \"departure_hour\": 15, \"time_of_day\": \"Midday\", \"p25\": 1.45, \"p50\": 1.45, \"p75\": 1.55, \"p50_trip\": 0, \"fastest_trip\": 0, \"car_duration_hours\": 0.8, \"competitive_route\": 1, \"bus_multiplier\": 1.94, \"bus_difference\": 45.0, \"num_trips\": 45, \"num_competitive\": 45, \"pct_trips_competitive\": 1.0, \"bus_difference_spread\": 12.0, \"route_group\": \"long\", \"max_trip_hrs\": 1.55, \"max_trip_route_group\": 1.55, \"name\": \"Golden Empire Transit District\", \"caltrans_district\": \"06 - Fresno\", \"drmt_organization_name\": null, \"cutoff2\": 40, \"cutoff\": 2}, {\"calitp_itp_id\": 126, \"trip_key\": 4529126544370445946, \"trip_id\": \"3749\", \"shape_id\": \"78\", \"route_id\": \"41\", \"service_hours\": 1.55, \"trip_first_departure_ts\": 50220, \"trip_last_arrival_ts\": 55800, \"departure_hour\": 13, \"time_of_day\": \"Midday\", \"p25\": 1.45, \"p50\": 1.45, \"p75\": 1.55, \"p50_trip\": 0, \"fastest_trip\": 0, \"car_duration_hours\": 0.8, \"competitive_route\": 1, \"bus_multiplier\": 1.94, \"bus_difference\": 45.0, \"num_trips\": 45, \"num_competitive\": 45, \"pct_trips_competitive\": 1.0, \"bus_difference_spread\": 12.0, \"route_group\": \"long\", \"max_trip_hrs\": 1.55, \"max_trip_route_group\": 1.55, \"name\": \"Golden Empire Transit District\", \"caltrans_district\": \"06 - Fresno\", \"drmt_organization_name\": null, \"cutoff2\": 40, \"cutoff\": 2}, {\"calitp_itp_id\": 126, \"trip_key\": -5362118131542335213, \"trip_id\": \"3741\", \"shape_id\": \"78\", \"route_id\": \"41\", \"service_hours\": 1.55, \"trip_first_departure_ts\": 35820, \"trip_last_arrival_ts\": 41400, \"departure_hour\": 9, \"time_of_day\": \"AM Peak\", \"p25\": 1.45, \"p50\": 1.45, \"p75\": 1.55, \"p50_trip\": 0, \"fastest_trip\": 0, \"car_duration_hours\": 0.8, \"competitive_route\": 1, \"bus_multiplier\": 1.94, \"bus_difference\": 45.0, \"num_trips\": 45, \"num_competitive\": 45, \"pct_trips_competitive\": 1.0, \"bus_difference_spread\": 12.0, \"route_group\": \"long\", \"max_trip_hrs\": 1.55, \"max_trip_route_group\": 1.55, \"name\": \"Golden Empire Transit District\", \"caltrans_district\": \"06 - Fresno\", \"drmt_organization_name\": null, \"cutoff2\": 40, \"cutoff\": 2}, {\"calitp_itp_id\": 126, \"trip_key\": -6464963909112186485, \"trip_id\": \"3738\", \"shape_id\": \"78\", \"route_id\": \"41\", \"service_hours\": 1.55, \"trip_first_departure_ts\": 30420, \"trip_last_arrival_ts\": 36000, \"departure_hour\": 8, \"time_of_day\": \"AM Peak\", \"p25\": 1.45, \"p50\": 1.45, \"p75\": 1.55, \"p50_trip\": 0, \"fastest_trip\": 0, \"car_duration_hours\": 0.8, \"competitive_route\": 1, \"bus_multiplier\": 1.94, \"bus_difference\": 45.0, \"num_trips\": 45, \"num_competitive\": 45, \"pct_trips_competitive\": 1.0, \"bus_difference_spread\": 12.0, \"route_group\": \"long\", \"max_trip_hrs\": 1.55, \"max_trip_route_group\": 1.55, \"name\": \"Golden Empire Transit District\", \"caltrans_district\": \"06 - Fresno\", \"drmt_organization_name\": null, \"cutoff2\": 40, \"cutoff\": 2}, {\"calitp_itp_id\": 126, \"trip_key\": 2067234379860168420, \"trip_id\": \"3748\", \"shape_id\": \"78\", \"route_id\": \"41\", \"service_hours\": 1.55, \"trip_first_departure_ts\": 48420, \"trip_last_arrival_ts\": 54000, \"departure_hour\": 13, \"time_of_day\": \"Midday\", \"p25\": 1.45, \"p50\": 1.45, \"p75\": 1.55, \"p50_trip\": 0, \"fastest_trip\": 0, \"car_duration_hours\": 0.8, \"competitive_route\": 1, \"bus_multiplier\": 1.94, \"bus_difference\": 45.0, \"num_trips\": 45, \"num_competitive\": 45, \"pct_trips_competitive\": 1.0, \"bus_difference_spread\": 12.0, \"route_group\": \"long\", \"max_trip_hrs\": 1.55, \"max_trip_route_group\": 1.55, \"name\": \"Golden Empire Transit District\", \"caltrans_district\": \"06 - Fresno\", \"drmt_organization_name\": null, \"cutoff2\": 40, \"cutoff\": 2}, {\"calitp_itp_id\": 126, \"trip_key\": -211985334436261053, \"trip_id\": \"3745\", \"shape_id\": \"78\", \"route_id\": \"41\", \"service_hours\": 1.55, \"trip_first_departure_ts\": 43020, \"trip_last_arrival_ts\": 48600, \"departure_hour\": 11, \"time_of_day\": \"Midday\", \"p25\": 1.45, \"p50\": 1.45, \"p75\": 1.55, \"p50_trip\": 0, \"fastest_trip\": 0, \"car_duration_hours\": 0.8, \"competitive_route\": 1, \"bus_multiplier\": 1.94, \"bus_difference\": 45.0, \"num_trips\": 45, \"num_competitive\": 45, \"pct_trips_competitive\": 1.0, \"bus_difference_spread\": 12.0, \"route_group\": \"long\", \"max_trip_hrs\": 1.55, \"max_trip_route_group\": 1.55, \"name\": \"Golden Empire Transit District\", \"caltrans_district\": \"06 - Fresno\", \"drmt_organization_name\": null, \"cutoff2\": 40, \"cutoff\": 2}, {\"calitp_itp_id\": 126, \"trip_key\": 8292425056513114435, \"trip_id\": \"3747\", \"shape_id\": \"78\", \"route_id\": \"41\", \"service_hours\": 1.55, \"trip_first_departure_ts\": 46620, \"trip_last_arrival_ts\": 52200, \"departure_hour\": 12, \"time_of_day\": \"Midday\", \"p25\": 1.45, \"p50\": 1.45, \"p75\": 1.55, \"p50_trip\": 0, \"fastest_trip\": 0, \"car_duration_hours\": 0.8, \"competitive_route\": 1, \"bus_multiplier\": 1.94, \"bus_difference\": 45.0, \"num_trips\": 45, \"num_competitive\": 45, \"pct_trips_competitive\": 1.0, \"bus_difference_spread\": 12.0, \"route_group\": \"long\", \"max_trip_hrs\": 1.55, \"max_trip_route_group\": 1.55, \"name\": \"Golden Empire Transit District\", \"caltrans_district\": \"06 - Fresno\", \"drmt_organization_name\": null, \"cutoff2\": 40, \"cutoff\": 2}, {\"calitp_itp_id\": 126, \"trip_key\": -2937402900677665452, \"trip_id\": \"3750\", \"shape_id\": \"78\", \"route_id\": \"41\", \"service_hours\": 1.55, \"trip_first_departure_ts\": 52020, \"trip_last_arrival_ts\": 57600, \"departure_hour\": 14, \"time_of_day\": \"Midday\", \"p25\": 1.45, \"p50\": 1.45, \"p75\": 1.55, \"p50_trip\": 0, \"fastest_trip\": 0, \"car_duration_hours\": 0.8, \"competitive_route\": 1, \"bus_multiplier\": 1.94, \"bus_difference\": 45.0, \"num_trips\": 45, \"num_competitive\": 45, \"pct_trips_competitive\": 1.0, \"bus_difference_spread\": 12.0, \"route_group\": \"long\", \"max_trip_hrs\": 1.55, \"max_trip_route_group\": 1.55, \"name\": \"Golden Empire Transit District\", \"caltrans_district\": \"06 - Fresno\", \"drmt_organization_name\": null, \"cutoff2\": 40, \"cutoff\": 2}, {\"calitp_itp_id\": 126, \"trip_key\": -942775710692938146, \"trip_id\": \"3740\", \"shape_id\": \"78\", \"route_id\": \"41\", \"service_hours\": 1.55, \"trip_first_departure_ts\": 34020, \"trip_last_arrival_ts\": 39600, \"departure_hour\": 9, \"time_of_day\": \"AM Peak\", \"p25\": 1.45, \"p50\": 1.45, \"p75\": 1.55, \"p50_trip\": 0, \"fastest_trip\": 0, \"car_duration_hours\": 0.8, \"competitive_route\": 1, \"bus_multiplier\": 1.94, \"bus_difference\": 45.0, \"num_trips\": 45, \"num_competitive\": 45, \"pct_trips_competitive\": 1.0, \"bus_difference_spread\": 12.0, \"route_group\": \"long\", \"max_trip_hrs\": 1.55, \"max_trip_route_group\": 1.55, \"name\": \"Golden Empire Transit District\", \"caltrans_district\": \"06 - Fresno\", \"drmt_organization_name\": null, \"cutoff2\": 40, \"cutoff\": 2}]}}, {\"mode\": \"vega-lite\"});\n",
       "</script>"
      ],
      "text/plain": [
       "alt.FacetChart(...)"
      ]
     },
     "metadata": {},
     "output_type": "display_data"
    },
    {
     "data": {
      "text/html": [
       "\n",
       "<div id=\"altair-viz-53c9cef98aa64368a80db8b93a566228\"></div>\n",
       "<script type=\"text/javascript\">\n",
       "  var VEGA_DEBUG = (typeof VEGA_DEBUG == \"undefined\") ? {} : VEGA_DEBUG;\n",
       "  (function(spec, embedOpt){\n",
       "    let outputDiv = document.currentScript.previousElementSibling;\n",
       "    if (outputDiv.id !== \"altair-viz-53c9cef98aa64368a80db8b93a566228\") {\n",
       "      outputDiv = document.getElementById(\"altair-viz-53c9cef98aa64368a80db8b93a566228\");\n",
       "    }\n",
       "    const paths = {\n",
       "      \"vega\": \"https://cdn.jsdelivr.net/npm//vega@5?noext\",\n",
       "      \"vega-lib\": \"https://cdn.jsdelivr.net/npm//vega-lib?noext\",\n",
       "      \"vega-lite\": \"https://cdn.jsdelivr.net/npm//vega-lite@4.17.0?noext\",\n",
       "      \"vega-embed\": \"https://cdn.jsdelivr.net/npm//vega-embed@6?noext\",\n",
       "    };\n",
       "\n",
       "    function maybeLoadScript(lib, version) {\n",
       "      var key = `${lib.replace(\"-\", \"\")}_version`;\n",
       "      return (VEGA_DEBUG[key] == version) ?\n",
       "        Promise.resolve(paths[lib]) :\n",
       "        new Promise(function(resolve, reject) {\n",
       "          var s = document.createElement('script');\n",
       "          document.getElementsByTagName(\"head\")[0].appendChild(s);\n",
       "          s.async = true;\n",
       "          s.onload = () => {\n",
       "            VEGA_DEBUG[key] = version;\n",
       "            return resolve(paths[lib]);\n",
       "          };\n",
       "          s.onerror = () => reject(`Error loading script: ${paths[lib]}`);\n",
       "          s.src = paths[lib];\n",
       "        });\n",
       "    }\n",
       "\n",
       "    function showError(err) {\n",
       "      outputDiv.innerHTML = `<div class=\"error\" style=\"color:red;\">${err}</div>`;\n",
       "      throw err;\n",
       "    }\n",
       "\n",
       "    function displayChart(vegaEmbed) {\n",
       "      vegaEmbed(outputDiv, spec, embedOpt)\n",
       "        .catch(err => showError(`Javascript Error: ${err.message}<br>This usually means there's a typo in your chart specification. See the javascript console for the full traceback.`));\n",
       "    }\n",
       "\n",
       "    if(typeof define === \"function\" && define.amd) {\n",
       "      requirejs.config({paths});\n",
       "      require([\"vega-embed\"], displayChart, err => showError(`Error loading script: ${err.message}`));\n",
       "    } else {\n",
       "      maybeLoadScript(\"vega\", \"5\")\n",
       "        .then(() => maybeLoadScript(\"vega-lite\", \"4.17.0\"))\n",
       "        .then(() => maybeLoadScript(\"vega-embed\", \"6\"))\n",
       "        .catch(showError)\n",
       "        .then(() => displayChart(vegaEmbed));\n",
       "    }\n",
       "  })({\"config\": {\"view\": {\"continuousWidth\": 400, \"continuousHeight\": 300, \"stroke\": null}, \"facet\": {\"spacing\": 0}}, \"data\": {\"name\": \"data-d096da99cc02eae21d024374069cb562\"}, \"facet\": {\"column\": {\"field\": \"route_id\", \"sort\": [\"41\"], \"title\": \"Route ID\", \"type\": \"nominal\"}}, \"spec\": {\"layer\": [{\"mark\": \"rule\", \"encoding\": {\"color\": {\"value\": \"black\"}, \"y\": {\"field\": \"cutoff\", \"type\": \"quantitative\"}}, \"selection\": {\"selector004\": {\"type\": \"interval\", \"bind\": \"scales\", \"encodings\": [\"x\", \"y\"]}}}, {\"mark\": {\"type\": \"rule\", \"strokeDash\": [3, 3]}, \"encoding\": {\"color\": {\"value\": \"#323434\"}, \"y\": {\"field\": \"cutoff2\", \"type\": \"quantitative\"}}}, {\"mark\": {\"type\": \"point\", \"opacity\": 0.65, \"size\": 12, \"strokeWidth\": 1.1}, \"encoding\": {\"color\": {\"field\": \"time_of_day\", \"scale\": {\"range\": [\"#136C97\", \"#E16B26\", \"#F6BF16\", \"#00896B\", \"#7790A3\", \"#5B559C\"]}, \"sort\": [\"AM Peak\", \"Midday\", \"PM Peak\", \"Owl Service\"], \"title\": \"Time of Day\", \"type\": \"nominal\"}, \"tooltip\": [{\"field\": \"route_id\", \"type\": \"nominal\"}, {\"field\": \"trip_id\", \"type\": \"nominal\"}, {\"field\": \"service_hours\", \"type\": \"quantitative\"}, {\"field\": \"car_duration_hours\", \"type\": \"quantitative\"}, {\"field\": \"bus_multiplier\", \"type\": \"quantitative\"}, {\"field\": \"bus_difference\", \"type\": \"quantitative\"}, {\"field\": \"num_trips\", \"type\": \"quantitative\"}, {\"field\": \"num_competitive\", \"type\": \"quantitative\"}, {\"field\": \"pct_trips_competitive\", \"type\": \"quantitative\"}, {\"field\": \"p25\", \"type\": \"quantitative\"}, {\"field\": \"p50\", \"type\": \"quantitative\"}, {\"field\": \"p75\", \"type\": \"quantitative\"}], \"x\": {\"axis\": {\"grid\": false, \"labels\": false, \"ticks\": true, \"values\": [0]}, \"field\": \"jitter\", \"scale\": {}, \"title\": null, \"type\": \"quantitative\"}, \"y\": {\"field\": \"bus_difference\", \"scale\": {\"domain\": [-5, 45.0]}, \"title\": \"Difference in Bus to Car Travel Time (min)\", \"type\": \"quantitative\"}}, \"transform\": [{\"calculate\": \"sqrt(-2*log(random()))*cos(2*PI*random())\", \"as\": \"jitter\"}], \"width\": 50}, {\"layer\": [{\"mark\": {\"type\": \"point\", \"opacity\": 0.6, \"size\": 20, \"strokeWidth\": 1.3}, \"encoding\": {\"color\": {\"value\": \"#323434\"}, \"y\": {\"field\": \"bus_difference\", \"type\": \"quantitative\"}}, \"transform\": [{\"filter\": \"(datum.p50_trip === 1)\"}]}, {\"mark\": {\"type\": \"text\", \"align\": \"center\", \"baseline\": \"middle\"}, \"encoding\": {\"color\": {\"value\": \"black\"}, \"text\": {\"field\": \"pct_trips_competitive\", \"format\": \".0%\", \"type\": \"quantitative\"}, \"tooltip\": [{\"field\": \"route_id\", \"type\": \"nominal\"}, {\"field\": \"trip_id\", \"type\": \"nominal\"}, {\"field\": \"service_hours\", \"type\": \"quantitative\"}, {\"field\": \"car_duration_hours\", \"type\": \"quantitative\"}, {\"field\": \"bus_multiplier\", \"type\": \"quantitative\"}, {\"field\": \"bus_difference\", \"type\": \"quantitative\"}, {\"field\": \"num_trips\", \"type\": \"quantitative\"}, {\"field\": \"num_competitive\", \"type\": \"quantitative\"}, {\"field\": \"pct_trips_competitive\", \"type\": \"quantitative\"}, {\"field\": \"p25\", \"type\": \"quantitative\"}, {\"field\": \"p50\", \"type\": \"quantitative\"}, {\"field\": \"p75\", \"type\": \"quantitative\"}], \"x\": {\"value\": 30}, \"y\": {\"value\": 15}}, \"transform\": [{\"calculate\": \"sqrt(-2*log(random()))*cos(2*PI*random())\", \"as\": \"jitter\"}, {\"filter\": \"(datum.fastest_trip === 1)\"}]}]}]}, \"resolve\": {\"scale\": {\"y\": \"shared\"}}, \"title\": \"Difference in Bus to Car Travel Time (min)\", \"$schema\": \"https://vega.github.io/schema/vega-lite/v4.17.0.json\", \"datasets\": {\"data-d096da99cc02eae21d024374069cb562\": [{\"calitp_itp_id\": 126, \"trip_key\": 5776538052279883279, \"trip_id\": \"1672\", \"shape_id\": \"79\", \"route_id\": \"41\", \"service_hours\": 1.35, \"trip_first_departure_ts\": 63000, \"trip_last_arrival_ts\": 67860, \"departure_hour\": 17, \"time_of_day\": \"PM Peak\", \"p25\": 1.45, \"p50\": 1.45, \"p75\": 1.55, \"p50_trip\": 0, \"fastest_trip\": 1, \"car_duration_hours\": 0.8, \"competitive_route\": 1, \"bus_multiplier\": 1.69, \"bus_difference\": 33.0, \"num_trips\": 45, \"num_competitive\": 45, \"pct_trips_competitive\": 1.0, \"bus_difference_spread\": 12.0, \"route_group\": \"long\", \"max_trip_hrs\": 1.55, \"max_trip_route_group\": 1.55, \"name\": \"Golden Empire Transit District\", \"caltrans_district\": \"06 - Fresno\", \"drmt_organization_name\": null, \"cutoff2\": 40, \"cutoff\": 0}, {\"calitp_itp_id\": 126, \"trip_key\": 6469954698833813641, \"trip_id\": \"1671\", \"shape_id\": \"79\", \"route_id\": \"41\", \"service_hours\": 1.35, \"trip_first_departure_ts\": 61200, \"trip_last_arrival_ts\": 66060, \"departure_hour\": 17, \"time_of_day\": \"PM Peak\", \"p25\": 1.45, \"p50\": 1.45, \"p75\": 1.55, \"p50_trip\": 0, \"fastest_trip\": 0, \"car_duration_hours\": 0.8, \"competitive_route\": 1, \"bus_multiplier\": 1.69, \"bus_difference\": 33.0, \"num_trips\": 45, \"num_competitive\": 45, \"pct_trips_competitive\": 1.0, \"bus_difference_spread\": 12.0, \"route_group\": \"long\", \"max_trip_hrs\": 1.55, \"max_trip_route_group\": 1.55, \"name\": \"Golden Empire Transit District\", \"caltrans_district\": \"06 - Fresno\", \"drmt_organization_name\": null, \"cutoff2\": 40, \"cutoff\": 0}, {\"calitp_itp_id\": 126, \"trip_key\": -4413477114220239056, \"trip_id\": \"3754\", \"shape_id\": \"78\", \"route_id\": \"41\", \"service_hours\": 1.43, \"trip_first_departure_ts\": 59220, \"trip_last_arrival_ts\": 64380, \"departure_hour\": 16, \"time_of_day\": \"Midday\", \"p25\": 1.45, \"p50\": 1.45, \"p75\": 1.55, \"p50_trip\": 0, \"fastest_trip\": 0, \"car_duration_hours\": 0.8, \"competitive_route\": 1, \"bus_multiplier\": 1.79, \"bus_difference\": 37.8, \"num_trips\": 45, \"num_competitive\": 45, \"pct_trips_competitive\": 1.0, \"bus_difference_spread\": 12.0, \"route_group\": \"long\", \"max_trip_hrs\": 1.55, \"max_trip_route_group\": 1.55, \"name\": \"Golden Empire Transit District\", \"caltrans_district\": \"06 - Fresno\", \"drmt_organization_name\": null, \"cutoff2\": 40, \"cutoff\": 0}, {\"calitp_itp_id\": 126, \"trip_key\": -695124153587898879, \"trip_id\": \"3756\", \"shape_id\": \"78\", \"route_id\": \"41\", \"service_hours\": 1.43, \"trip_first_departure_ts\": 62820, \"trip_last_arrival_ts\": 67980, \"departure_hour\": 17, \"time_of_day\": \"PM Peak\", \"p25\": 1.45, \"p50\": 1.45, \"p75\": 1.55, \"p50_trip\": 0, \"fastest_trip\": 0, \"car_duration_hours\": 0.8, \"competitive_route\": 1, \"bus_multiplier\": 1.79, \"bus_difference\": 37.8, \"num_trips\": 45, \"num_competitive\": 45, \"pct_trips_competitive\": 1.0, \"bus_difference_spread\": 12.0, \"route_group\": \"long\", \"max_trip_hrs\": 1.55, \"max_trip_route_group\": 1.55, \"name\": \"Golden Empire Transit District\", \"caltrans_district\": \"06 - Fresno\", \"drmt_organization_name\": null, \"cutoff2\": 40, \"cutoff\": 0}, {\"calitp_itp_id\": 126, \"trip_key\": -1731104395915060672, \"trip_id\": \"3755\", \"shape_id\": \"78\", \"route_id\": \"41\", \"service_hours\": 1.43, \"trip_first_departure_ts\": 61020, \"trip_last_arrival_ts\": 66180, \"departure_hour\": 16, \"time_of_day\": \"Midday\", \"p25\": 1.45, \"p50\": 1.45, \"p75\": 1.55, \"p50_trip\": 0, \"fastest_trip\": 0, \"car_duration_hours\": 0.8, \"competitive_route\": 1, \"bus_multiplier\": 1.79, \"bus_difference\": 37.8, \"num_trips\": 45, \"num_competitive\": 45, \"pct_trips_competitive\": 1.0, \"bus_difference_spread\": 12.0, \"route_group\": \"long\", \"max_trip_hrs\": 1.55, \"max_trip_route_group\": 1.55, \"name\": \"Golden Empire Transit District\", \"caltrans_district\": \"06 - Fresno\", \"drmt_organization_name\": null, \"cutoff2\": 40, \"cutoff\": 0}, {\"calitp_itp_id\": 126, \"trip_key\": 6389089163886931171, \"trip_id\": \"3757\", \"shape_id\": \"78\", \"route_id\": \"41\", \"service_hours\": 1.43, \"trip_first_departure_ts\": 64620, \"trip_last_arrival_ts\": 69780, \"departure_hour\": 17, \"time_of_day\": \"PM Peak\", \"p25\": 1.45, \"p50\": 1.45, \"p75\": 1.55, \"p50_trip\": 0, \"fastest_trip\": 0, \"car_duration_hours\": 0.8, \"competitive_route\": 1, \"bus_multiplier\": 1.79, \"bus_difference\": 37.8, \"num_trips\": 45, \"num_competitive\": 45, \"pct_trips_competitive\": 1.0, \"bus_difference_spread\": 12.0, \"route_group\": \"long\", \"max_trip_hrs\": 1.55, \"max_trip_route_group\": 1.55, \"name\": \"Golden Empire Transit District\", \"caltrans_district\": \"06 - Fresno\", \"drmt_organization_name\": null, \"cutoff2\": 40, \"cutoff\": 0}, {\"calitp_itp_id\": 126, \"trip_key\": -5206940515578354684, \"trip_id\": \"1667\", \"shape_id\": \"79\", \"route_id\": \"41\", \"service_hours\": 1.45, \"trip_first_departure_ts\": 54000, \"trip_last_arrival_ts\": 59220, \"departure_hour\": 15, \"time_of_day\": \"Midday\", \"p25\": 1.45, \"p50\": 1.45, \"p75\": 1.55, \"p50_trip\": 1, \"fastest_trip\": 0, \"car_duration_hours\": 0.8, \"competitive_route\": 1, \"bus_multiplier\": 1.81, \"bus_difference\": 39.0, \"num_trips\": 45, \"num_competitive\": 45, \"pct_trips_competitive\": 1.0, \"bus_difference_spread\": 12.0, \"route_group\": \"long\", \"max_trip_hrs\": 1.55, \"max_trip_route_group\": 1.55, \"name\": \"Golden Empire Transit District\", \"caltrans_district\": \"06 - Fresno\", \"drmt_organization_name\": null, \"cutoff2\": 40, \"cutoff\": 0}, {\"calitp_itp_id\": 126, \"trip_key\": 7497108670509890795, \"trip_id\": \"3768\", \"shape_id\": \"79\", \"route_id\": \"41\", \"service_hours\": 1.45, \"trip_first_departure_ts\": 43200, \"trip_last_arrival_ts\": 48420, \"departure_hour\": 12, \"time_of_day\": \"Midday\", \"p25\": 1.45, \"p50\": 1.45, \"p75\": 1.55, \"p50_trip\": 1, \"fastest_trip\": 0, \"car_duration_hours\": 0.8, \"competitive_route\": 1, \"bus_multiplier\": 1.81, \"bus_difference\": 39.0, \"num_trips\": 45, \"num_competitive\": 45, \"pct_trips_competitive\": 1.0, \"bus_difference_spread\": 12.0, \"route_group\": \"long\", \"max_trip_hrs\": 1.55, \"max_trip_route_group\": 1.55, \"name\": \"Golden Empire Transit District\", \"caltrans_district\": \"06 - Fresno\", \"drmt_organization_name\": null, \"cutoff2\": 40, \"cutoff\": 0}, {\"calitp_itp_id\": 126, \"trip_key\": -2766104624036821072, \"trip_id\": \"1669\", \"shape_id\": \"79\", \"route_id\": \"41\", \"service_hours\": 1.45, \"trip_first_departure_ts\": 57600, \"trip_last_arrival_ts\": 62820, \"departure_hour\": 16, \"time_of_day\": \"Midday\", \"p25\": 1.45, \"p50\": 1.45, \"p75\": 1.55, \"p50_trip\": 1, \"fastest_trip\": 0, \"car_duration_hours\": 0.8, \"competitive_route\": 1, \"bus_multiplier\": 1.81, \"bus_difference\": 39.0, \"num_trips\": 45, \"num_competitive\": 45, \"pct_trips_competitive\": 1.0, \"bus_difference_spread\": 12.0, \"route_group\": \"long\", \"max_trip_hrs\": 1.55, \"max_trip_route_group\": 1.55, \"name\": \"Golden Empire Transit District\", \"caltrans_district\": \"06 - Fresno\", \"drmt_organization_name\": null, \"cutoff2\": 40, \"cutoff\": 0}, {\"calitp_itp_id\": 126, \"trip_key\": -2623109568593173716, \"trip_id\": \"1668\", \"shape_id\": \"79\", \"route_id\": \"41\", \"service_hours\": 1.45, \"trip_first_departure_ts\": 55800, \"trip_last_arrival_ts\": 61020, \"departure_hour\": 15, \"time_of_day\": \"Midday\", \"p25\": 1.45, \"p50\": 1.45, \"p75\": 1.55, \"p50_trip\": 1, \"fastest_trip\": 0, \"car_duration_hours\": 0.8, \"competitive_route\": 1, \"bus_multiplier\": 1.81, \"bus_difference\": 39.0, \"num_trips\": 45, \"num_competitive\": 45, \"pct_trips_competitive\": 1.0, \"bus_difference_spread\": 12.0, \"route_group\": \"long\", \"max_trip_hrs\": 1.55, \"max_trip_route_group\": 1.55, \"name\": \"Golden Empire Transit District\", \"caltrans_district\": \"06 - Fresno\", \"drmt_organization_name\": null, \"cutoff2\": 40, \"cutoff\": 0}, {\"calitp_itp_id\": 126, \"trip_key\": 4595739502092105579, \"trip_id\": \"3767\", \"shape_id\": \"79\", \"route_id\": \"41\", \"service_hours\": 1.45, \"trip_first_departure_ts\": 41400, \"trip_last_arrival_ts\": 46620, \"departure_hour\": 11, \"time_of_day\": \"Midday\", \"p25\": 1.45, \"p50\": 1.45, \"p75\": 1.55, \"p50_trip\": 1, \"fastest_trip\": 0, \"car_duration_hours\": 0.8, \"competitive_route\": 1, \"bus_multiplier\": 1.81, \"bus_difference\": 39.0, \"num_trips\": 45, \"num_competitive\": 45, \"pct_trips_competitive\": 1.0, \"bus_difference_spread\": 12.0, \"route_group\": \"long\", \"max_trip_hrs\": 1.55, \"max_trip_route_group\": 1.55, \"name\": \"Golden Empire Transit District\", \"caltrans_district\": \"06 - Fresno\", \"drmt_organization_name\": null, \"cutoff2\": 40, \"cutoff\": 0}, {\"calitp_itp_id\": 126, \"trip_key\": -2929062652118405266, \"trip_id\": \"1670\", \"shape_id\": \"79\", \"route_id\": \"41\", \"service_hours\": 1.45, \"trip_first_departure_ts\": 59400, \"trip_last_arrival_ts\": 64620, \"departure_hour\": 16, \"time_of_day\": \"Midday\", \"p25\": 1.45, \"p50\": 1.45, \"p75\": 1.55, \"p50_trip\": 1, \"fastest_trip\": 0, \"car_duration_hours\": 0.8, \"competitive_route\": 1, \"bus_multiplier\": 1.81, \"bus_difference\": 39.0, \"num_trips\": 45, \"num_competitive\": 45, \"pct_trips_competitive\": 1.0, \"bus_difference_spread\": 12.0, \"route_group\": \"long\", \"max_trip_hrs\": 1.55, \"max_trip_route_group\": 1.55, \"name\": \"Golden Empire Transit District\", \"caltrans_district\": \"06 - Fresno\", \"drmt_organization_name\": null, \"cutoff2\": 40, \"cutoff\": 0}, {\"calitp_itp_id\": 126, \"trip_key\": 919333876661356962, \"trip_id\": \"3764\", \"shape_id\": \"79\", \"route_id\": \"41\", \"service_hours\": 1.45, \"trip_first_departure_ts\": 36000, \"trip_last_arrival_ts\": 41220, \"departure_hour\": 10, \"time_of_day\": \"Midday\", \"p25\": 1.45, \"p50\": 1.45, \"p75\": 1.55, \"p50_trip\": 1, \"fastest_trip\": 0, \"car_duration_hours\": 0.8, \"competitive_route\": 1, \"bus_multiplier\": 1.81, \"bus_difference\": 39.0, \"num_trips\": 45, \"num_competitive\": 45, \"pct_trips_competitive\": 1.0, \"bus_difference_spread\": 12.0, \"route_group\": \"long\", \"max_trip_hrs\": 1.55, \"max_trip_route_group\": 1.55, \"name\": \"Golden Empire Transit District\", \"caltrans_district\": \"06 - Fresno\", \"drmt_organization_name\": null, \"cutoff2\": 40, \"cutoff\": 0}, {\"calitp_itp_id\": 126, \"trip_key\": -1075485859789652750, \"trip_id\": \"1664\", \"shape_id\": \"79\", \"route_id\": \"41\", \"service_hours\": 1.45, \"trip_first_departure_ts\": 48600, \"trip_last_arrival_ts\": 53820, \"departure_hour\": 13, \"time_of_day\": \"Midday\", \"p25\": 1.45, \"p50\": 1.45, \"p75\": 1.55, \"p50_trip\": 1, \"fastest_trip\": 0, \"car_duration_hours\": 0.8, \"competitive_route\": 1, \"bus_multiplier\": 1.81, \"bus_difference\": 39.0, \"num_trips\": 45, \"num_competitive\": 45, \"pct_trips_competitive\": 1.0, \"bus_difference_spread\": 12.0, \"route_group\": \"long\", \"max_trip_hrs\": 1.55, \"max_trip_route_group\": 1.55, \"name\": \"Golden Empire Transit District\", \"caltrans_district\": \"06 - Fresno\", \"drmt_organization_name\": null, \"cutoff2\": 40, \"cutoff\": 0}, {\"calitp_itp_id\": 126, \"trip_key\": -52251744586674668, \"trip_id\": \"3759\", \"shape_id\": \"79\", \"route_id\": \"41\", \"service_hours\": 1.45, \"trip_first_departure_ts\": 27000, \"trip_last_arrival_ts\": 32220, \"departure_hour\": 7, \"time_of_day\": \"AM Peak\", \"p25\": 1.45, \"p50\": 1.45, \"p75\": 1.55, \"p50_trip\": 1, \"fastest_trip\": 0, \"car_duration_hours\": 0.8, \"competitive_route\": 1, \"bus_multiplier\": 1.81, \"bus_difference\": 39.0, \"num_trips\": 45, \"num_competitive\": 45, \"pct_trips_competitive\": 1.0, \"bus_difference_spread\": 12.0, \"route_group\": \"long\", \"max_trip_hrs\": 1.55, \"max_trip_route_group\": 1.55, \"name\": \"Golden Empire Transit District\", \"caltrans_district\": \"06 - Fresno\", \"drmt_organization_name\": null, \"cutoff2\": 40, \"cutoff\": 0}, {\"calitp_itp_id\": 126, \"trip_key\": -8632599654675507629, \"trip_id\": \"1665\", \"shape_id\": \"79\", \"route_id\": \"41\", \"service_hours\": 1.45, \"trip_first_departure_ts\": 50400, \"trip_last_arrival_ts\": 55620, \"departure_hour\": 14, \"time_of_day\": \"Midday\", \"p25\": 1.45, \"p50\": 1.45, \"p75\": 1.55, \"p50_trip\": 1, \"fastest_trip\": 0, \"car_duration_hours\": 0.8, \"competitive_route\": 1, \"bus_multiplier\": 1.81, \"bus_difference\": 39.0, \"num_trips\": 45, \"num_competitive\": 45, \"pct_trips_competitive\": 1.0, \"bus_difference_spread\": 12.0, \"route_group\": \"long\", \"max_trip_hrs\": 1.55, \"max_trip_route_group\": 1.55, \"name\": \"Golden Empire Transit District\", \"caltrans_district\": \"06 - Fresno\", \"drmt_organization_name\": null, \"cutoff2\": 40, \"cutoff\": 0}, {\"calitp_itp_id\": 126, \"trip_key\": -4313911544704650402, \"trip_id\": \"3762\", \"shape_id\": \"79\", \"route_id\": \"41\", \"service_hours\": 1.45, \"trip_first_departure_ts\": 32400, \"trip_last_arrival_ts\": 37620, \"departure_hour\": 9, \"time_of_day\": \"AM Peak\", \"p25\": 1.45, \"p50\": 1.45, \"p75\": 1.55, \"p50_trip\": 1, \"fastest_trip\": 0, \"car_duration_hours\": 0.8, \"competitive_route\": 1, \"bus_multiplier\": 1.81, \"bus_difference\": 39.0, \"num_trips\": 45, \"num_competitive\": 45, \"pct_trips_competitive\": 1.0, \"bus_difference_spread\": 12.0, \"route_group\": \"long\", \"max_trip_hrs\": 1.55, \"max_trip_route_group\": 1.55, \"name\": \"Golden Empire Transit District\", \"caltrans_district\": \"06 - Fresno\", \"drmt_organization_name\": null, \"cutoff2\": 40, \"cutoff\": 0}, {\"calitp_itp_id\": 126, \"trip_key\": 6392253989863255883, \"trip_id\": \"3763\", \"shape_id\": \"79\", \"route_id\": \"41\", \"service_hours\": 1.45, \"trip_first_departure_ts\": 34200, \"trip_last_arrival_ts\": 39420, \"departure_hour\": 9, \"time_of_day\": \"AM Peak\", \"p25\": 1.45, \"p50\": 1.45, \"p75\": 1.55, \"p50_trip\": 1, \"fastest_trip\": 0, \"car_duration_hours\": 0.8, \"competitive_route\": 1, \"bus_multiplier\": 1.81, \"bus_difference\": 39.0, \"num_trips\": 45, \"num_competitive\": 45, \"pct_trips_competitive\": 1.0, \"bus_difference_spread\": 12.0, \"route_group\": \"long\", \"max_trip_hrs\": 1.55, \"max_trip_route_group\": 1.55, \"name\": \"Golden Empire Transit District\", \"caltrans_district\": \"06 - Fresno\", \"drmt_organization_name\": null, \"cutoff2\": 40, \"cutoff\": 0}, {\"calitp_itp_id\": 126, \"trip_key\": 3411248475395932656, \"trip_id\": \"3765\", \"shape_id\": \"79\", \"route_id\": \"41\", \"service_hours\": 1.45, \"trip_first_departure_ts\": 37800, \"trip_last_arrival_ts\": 43020, \"departure_hour\": 10, \"time_of_day\": \"Midday\", \"p25\": 1.45, \"p50\": 1.45, \"p75\": 1.55, \"p50_trip\": 1, \"fastest_trip\": 0, \"car_duration_hours\": 0.8, \"competitive_route\": 1, \"bus_multiplier\": 1.81, \"bus_difference\": 39.0, \"num_trips\": 45, \"num_competitive\": 45, \"pct_trips_competitive\": 1.0, \"bus_difference_spread\": 12.0, \"route_group\": \"long\", \"max_trip_hrs\": 1.55, \"max_trip_route_group\": 1.55, \"name\": \"Golden Empire Transit District\", \"caltrans_district\": \"06 - Fresno\", \"drmt_organization_name\": null, \"cutoff2\": 40, \"cutoff\": 0}, {\"calitp_itp_id\": 126, \"trip_key\": -7072556819798405700, \"trip_id\": \"3761\", \"shape_id\": \"79\", \"route_id\": \"41\", \"service_hours\": 1.45, \"trip_first_departure_ts\": 30600, \"trip_last_arrival_ts\": 35820, \"departure_hour\": 8, \"time_of_day\": \"AM Peak\", \"p25\": 1.45, \"p50\": 1.45, \"p75\": 1.55, \"p50_trip\": 1, \"fastest_trip\": 0, \"car_duration_hours\": 0.8, \"competitive_route\": 1, \"bus_multiplier\": 1.81, \"bus_difference\": 39.0, \"num_trips\": 45, \"num_competitive\": 45, \"pct_trips_competitive\": 1.0, \"bus_difference_spread\": 12.0, \"route_group\": \"long\", \"max_trip_hrs\": 1.55, \"max_trip_route_group\": 1.55, \"name\": \"Golden Empire Transit District\", \"caltrans_district\": \"06 - Fresno\", \"drmt_organization_name\": null, \"cutoff2\": 40, \"cutoff\": 0}, {\"calitp_itp_id\": 126, \"trip_key\": 4830279098424700338, \"trip_id\": \"1666\", \"shape_id\": \"79\", \"route_id\": \"41\", \"service_hours\": 1.45, \"trip_first_departure_ts\": 52200, \"trip_last_arrival_ts\": 57420, \"departure_hour\": 14, \"time_of_day\": \"Midday\", \"p25\": 1.45, \"p50\": 1.45, \"p75\": 1.55, \"p50_trip\": 1, \"fastest_trip\": 0, \"car_duration_hours\": 0.8, \"competitive_route\": 1, \"bus_multiplier\": 1.81, \"bus_difference\": 39.0, \"num_trips\": 45, \"num_competitive\": 45, \"pct_trips_competitive\": 1.0, \"bus_difference_spread\": 12.0, \"route_group\": \"long\", \"max_trip_hrs\": 1.55, \"max_trip_route_group\": 1.55, \"name\": \"Golden Empire Transit District\", \"caltrans_district\": \"06 - Fresno\", \"drmt_organization_name\": null, \"cutoff2\": 40, \"cutoff\": 0}, {\"calitp_itp_id\": 126, \"trip_key\": -2360716236685420171, \"trip_id\": \"3758\", \"shape_id\": \"79\", \"route_id\": \"41\", \"service_hours\": 1.45, \"trip_first_departure_ts\": 25200, \"trip_last_arrival_ts\": 30420, \"departure_hour\": 7, \"time_of_day\": \"AM Peak\", \"p25\": 1.45, \"p50\": 1.45, \"p75\": 1.55, \"p50_trip\": 1, \"fastest_trip\": 0, \"car_duration_hours\": 0.8, \"competitive_route\": 1, \"bus_multiplier\": 1.81, \"bus_difference\": 39.0, \"num_trips\": 45, \"num_competitive\": 45, \"pct_trips_competitive\": 1.0, \"bus_difference_spread\": 12.0, \"route_group\": \"long\", \"max_trip_hrs\": 1.55, \"max_trip_route_group\": 1.55, \"name\": \"Golden Empire Transit District\", \"caltrans_district\": \"06 - Fresno\", \"drmt_organization_name\": null, \"cutoff2\": 40, \"cutoff\": 0}, {\"calitp_itp_id\": 126, \"trip_key\": -9077068888481348122, \"trip_id\": \"3769\", \"shape_id\": \"79\", \"route_id\": \"41\", \"service_hours\": 1.45, \"trip_first_departure_ts\": 45000, \"trip_last_arrival_ts\": 50220, \"departure_hour\": 12, \"time_of_day\": \"Midday\", \"p25\": 1.45, \"p50\": 1.45, \"p75\": 1.55, \"p50_trip\": 1, \"fastest_trip\": 0, \"car_duration_hours\": 0.8, \"competitive_route\": 1, \"bus_multiplier\": 1.81, \"bus_difference\": 39.0, \"num_trips\": 45, \"num_competitive\": 45, \"pct_trips_competitive\": 1.0, \"bus_difference_spread\": 12.0, \"route_group\": \"long\", \"max_trip_hrs\": 1.55, \"max_trip_route_group\": 1.55, \"name\": \"Golden Empire Transit District\", \"caltrans_district\": \"06 - Fresno\", \"drmt_organization_name\": null, \"cutoff2\": 40, \"cutoff\": 0}, {\"calitp_itp_id\": 126, \"trip_key\": 7722774300800139552, \"trip_id\": \"3766\", \"shape_id\": \"79\", \"route_id\": \"41\", \"service_hours\": 1.45, \"trip_first_departure_ts\": 39600, \"trip_last_arrival_ts\": 44820, \"departure_hour\": 11, \"time_of_day\": \"Midday\", \"p25\": 1.45, \"p50\": 1.45, \"p75\": 1.55, \"p50_trip\": 1, \"fastest_trip\": 0, \"car_duration_hours\": 0.8, \"competitive_route\": 1, \"bus_multiplier\": 1.81, \"bus_difference\": 39.0, \"num_trips\": 45, \"num_competitive\": 45, \"pct_trips_competitive\": 1.0, \"bus_difference_spread\": 12.0, \"route_group\": \"long\", \"max_trip_hrs\": 1.55, \"max_trip_route_group\": 1.55, \"name\": \"Golden Empire Transit District\", \"caltrans_district\": \"06 - Fresno\", \"drmt_organization_name\": null, \"cutoff2\": 40, \"cutoff\": 0}, {\"calitp_itp_id\": 126, \"trip_key\": -27000447531349206, \"trip_id\": \"1513\", \"shape_id\": \"79\", \"route_id\": \"41\", \"service_hours\": 1.45, \"trip_first_departure_ts\": 46800, \"trip_last_arrival_ts\": 52020, \"departure_hour\": 13, \"time_of_day\": \"Midday\", \"p25\": 1.45, \"p50\": 1.45, \"p75\": 1.55, \"p50_trip\": 1, \"fastest_trip\": 0, \"car_duration_hours\": 0.8, \"competitive_route\": 1, \"bus_multiplier\": 1.81, \"bus_difference\": 39.0, \"num_trips\": 45, \"num_competitive\": 45, \"pct_trips_competitive\": 1.0, \"bus_difference_spread\": 12.0, \"route_group\": \"long\", \"max_trip_hrs\": 1.55, \"max_trip_route_group\": 1.55, \"name\": \"Golden Empire Transit District\", \"caltrans_district\": \"06 - Fresno\", \"drmt_organization_name\": null, \"cutoff2\": 40, \"cutoff\": 0}, {\"calitp_itp_id\": 126, \"trip_key\": -634519358534191590, \"trip_id\": \"3760\", \"shape_id\": \"79\", \"route_id\": \"41\", \"service_hours\": 1.45, \"trip_first_departure_ts\": 28800, \"trip_last_arrival_ts\": 34020, \"departure_hour\": 8, \"time_of_day\": \"AM Peak\", \"p25\": 1.45, \"p50\": 1.45, \"p75\": 1.55, \"p50_trip\": 1, \"fastest_trip\": 0, \"car_duration_hours\": 0.8, \"competitive_route\": 1, \"bus_multiplier\": 1.81, \"bus_difference\": 39.0, \"num_trips\": 45, \"num_competitive\": 45, \"pct_trips_competitive\": 1.0, \"bus_difference_spread\": 12.0, \"route_group\": \"long\", \"max_trip_hrs\": 1.55, \"max_trip_route_group\": 1.55, \"name\": \"Golden Empire Transit District\", \"caltrans_district\": \"06 - Fresno\", \"drmt_organization_name\": null, \"cutoff2\": 40, \"cutoff\": 0}, {\"calitp_itp_id\": 126, \"trip_key\": -4088461551057439274, \"trip_id\": \"3746\", \"shape_id\": \"78\", \"route_id\": \"41\", \"service_hours\": 1.55, \"trip_first_departure_ts\": 44820, \"trip_last_arrival_ts\": 50400, \"departure_hour\": 12, \"time_of_day\": \"Midday\", \"p25\": 1.45, \"p50\": 1.45, \"p75\": 1.55, \"p50_trip\": 0, \"fastest_trip\": 0, \"car_duration_hours\": 0.8, \"competitive_route\": 1, \"bus_multiplier\": 1.94, \"bus_difference\": 45.0, \"num_trips\": 45, \"num_competitive\": 45, \"pct_trips_competitive\": 1.0, \"bus_difference_spread\": 12.0, \"route_group\": \"long\", \"max_trip_hrs\": 1.55, \"max_trip_route_group\": 1.55, \"name\": \"Golden Empire Transit District\", \"caltrans_district\": \"06 - Fresno\", \"drmt_organization_name\": null, \"cutoff2\": 40, \"cutoff\": 0}, {\"calitp_itp_id\": 126, \"trip_key\": -6363174918419727490, \"trip_id\": \"3751\", \"shape_id\": \"78\", \"route_id\": \"41\", \"service_hours\": 1.55, \"trip_first_departure_ts\": 53820, \"trip_last_arrival_ts\": 59400, \"departure_hour\": 14, \"time_of_day\": \"Midday\", \"p25\": 1.45, \"p50\": 1.45, \"p75\": 1.55, \"p50_trip\": 0, \"fastest_trip\": 0, \"car_duration_hours\": 0.8, \"competitive_route\": 1, \"bus_multiplier\": 1.94, \"bus_difference\": 45.0, \"num_trips\": 45, \"num_competitive\": 45, \"pct_trips_competitive\": 1.0, \"bus_difference_spread\": 12.0, \"route_group\": \"long\", \"max_trip_hrs\": 1.55, \"max_trip_route_group\": 1.55, \"name\": \"Golden Empire Transit District\", \"caltrans_district\": \"06 - Fresno\", \"drmt_organization_name\": null, \"cutoff2\": 40, \"cutoff\": 0}, {\"calitp_itp_id\": 126, \"trip_key\": -6879825001613676038, \"trip_id\": \"3744\", \"shape_id\": \"78\", \"route_id\": \"41\", \"service_hours\": 1.55, \"trip_first_departure_ts\": 41220, \"trip_last_arrival_ts\": 46800, \"departure_hour\": 11, \"time_of_day\": \"Midday\", \"p25\": 1.45, \"p50\": 1.45, \"p75\": 1.55, \"p50_trip\": 0, \"fastest_trip\": 0, \"car_duration_hours\": 0.8, \"competitive_route\": 1, \"bus_multiplier\": 1.94, \"bus_difference\": 45.0, \"num_trips\": 45, \"num_competitive\": 45, \"pct_trips_competitive\": 1.0, \"bus_difference_spread\": 12.0, \"route_group\": \"long\", \"max_trip_hrs\": 1.55, \"max_trip_route_group\": 1.55, \"name\": \"Golden Empire Transit District\", \"caltrans_district\": \"06 - Fresno\", \"drmt_organization_name\": null, \"cutoff2\": 40, \"cutoff\": 0}, {\"calitp_itp_id\": 126, \"trip_key\": -8905649343725834347, \"trip_id\": \"3736\", \"shape_id\": \"78\", \"route_id\": \"41\", \"service_hours\": 1.55, \"trip_first_departure_ts\": 26820, \"trip_last_arrival_ts\": 32400, \"departure_hour\": 7, \"time_of_day\": \"AM Peak\", \"p25\": 1.45, \"p50\": 1.45, \"p75\": 1.55, \"p50_trip\": 0, \"fastest_trip\": 0, \"car_duration_hours\": 0.8, \"competitive_route\": 1, \"bus_multiplier\": 1.94, \"bus_difference\": 45.0, \"num_trips\": 45, \"num_competitive\": 45, \"pct_trips_competitive\": 1.0, \"bus_difference_spread\": 12.0, \"route_group\": \"long\", \"max_trip_hrs\": 1.55, \"max_trip_route_group\": 1.55, \"name\": \"Golden Empire Transit District\", \"caltrans_district\": \"06 - Fresno\", \"drmt_organization_name\": null, \"cutoff2\": 40, \"cutoff\": 0}, {\"calitp_itp_id\": 126, \"trip_key\": 5215908523642987416, \"trip_id\": \"3739\", \"shape_id\": \"78\", \"route_id\": \"41\", \"service_hours\": 1.55, \"trip_first_departure_ts\": 32220, \"trip_last_arrival_ts\": 37800, \"departure_hour\": 8, \"time_of_day\": \"AM Peak\", \"p25\": 1.45, \"p50\": 1.45, \"p75\": 1.55, \"p50_trip\": 0, \"fastest_trip\": 0, \"car_duration_hours\": 0.8, \"competitive_route\": 1, \"bus_multiplier\": 1.94, \"bus_difference\": 45.0, \"num_trips\": 45, \"num_competitive\": 45, \"pct_trips_competitive\": 1.0, \"bus_difference_spread\": 12.0, \"route_group\": \"long\", \"max_trip_hrs\": 1.55, \"max_trip_route_group\": 1.55, \"name\": \"Golden Empire Transit District\", \"caltrans_district\": \"06 - Fresno\", \"drmt_organization_name\": null, \"cutoff2\": 40, \"cutoff\": 0}, {\"calitp_itp_id\": 126, \"trip_key\": -8074230223285233480, \"trip_id\": \"3742\", \"shape_id\": \"78\", \"route_id\": \"41\", \"service_hours\": 1.55, \"trip_first_departure_ts\": 37620, \"trip_last_arrival_ts\": 43200, \"departure_hour\": 10, \"time_of_day\": \"Midday\", \"p25\": 1.45, \"p50\": 1.45, \"p75\": 1.55, \"p50_trip\": 0, \"fastest_trip\": 0, \"car_duration_hours\": 0.8, \"competitive_route\": 1, \"bus_multiplier\": 1.94, \"bus_difference\": 45.0, \"num_trips\": 45, \"num_competitive\": 45, \"pct_trips_competitive\": 1.0, \"bus_difference_spread\": 12.0, \"route_group\": \"long\", \"max_trip_hrs\": 1.55, \"max_trip_route_group\": 1.55, \"name\": \"Golden Empire Transit District\", \"caltrans_district\": \"06 - Fresno\", \"drmt_organization_name\": null, \"cutoff2\": 40, \"cutoff\": 0}, {\"calitp_itp_id\": 126, \"trip_key\": -4382476451098257507, \"trip_id\": \"3735\", \"shape_id\": \"78\", \"route_id\": \"41\", \"service_hours\": 1.55, \"trip_first_departure_ts\": 25020, \"trip_last_arrival_ts\": 30600, \"departure_hour\": 6, \"time_of_day\": \"Owl Service\", \"p25\": 1.45, \"p50\": 1.45, \"p75\": 1.55, \"p50_trip\": 0, \"fastest_trip\": 0, \"car_duration_hours\": 0.8, \"competitive_route\": 1, \"bus_multiplier\": 1.94, \"bus_difference\": 45.0, \"num_trips\": 45, \"num_competitive\": 45, \"pct_trips_competitive\": 1.0, \"bus_difference_spread\": 12.0, \"route_group\": \"long\", \"max_trip_hrs\": 1.55, \"max_trip_route_group\": 1.55, \"name\": \"Golden Empire Transit District\", \"caltrans_district\": \"06 - Fresno\", \"drmt_organization_name\": null, \"cutoff2\": 40, \"cutoff\": 0}, {\"calitp_itp_id\": 126, \"trip_key\": -1118453596606840101, \"trip_id\": \"3737\", \"shape_id\": \"78\", \"route_id\": \"41\", \"service_hours\": 1.55, \"trip_first_departure_ts\": 28620, \"trip_last_arrival_ts\": 34200, \"departure_hour\": 7, \"time_of_day\": \"AM Peak\", \"p25\": 1.45, \"p50\": 1.45, \"p75\": 1.55, \"p50_trip\": 0, \"fastest_trip\": 0, \"car_duration_hours\": 0.8, \"competitive_route\": 1, \"bus_multiplier\": 1.94, \"bus_difference\": 45.0, \"num_trips\": 45, \"num_competitive\": 45, \"pct_trips_competitive\": 1.0, \"bus_difference_spread\": 12.0, \"route_group\": \"long\", \"max_trip_hrs\": 1.55, \"max_trip_route_group\": 1.55, \"name\": \"Golden Empire Transit District\", \"caltrans_district\": \"06 - Fresno\", \"drmt_organization_name\": null, \"cutoff2\": 40, \"cutoff\": 0}, {\"calitp_itp_id\": 126, \"trip_key\": 9130605149217231437, \"trip_id\": \"3753\", \"shape_id\": \"78\", \"route_id\": \"41\", \"service_hours\": 1.55, \"trip_first_departure_ts\": 57420, \"trip_last_arrival_ts\": 63000, \"departure_hour\": 15, \"time_of_day\": \"Midday\", \"p25\": 1.45, \"p50\": 1.45, \"p75\": 1.55, \"p50_trip\": 0, \"fastest_trip\": 0, \"car_duration_hours\": 0.8, \"competitive_route\": 1, \"bus_multiplier\": 1.94, \"bus_difference\": 45.0, \"num_trips\": 45, \"num_competitive\": 45, \"pct_trips_competitive\": 1.0, \"bus_difference_spread\": 12.0, \"route_group\": \"long\", \"max_trip_hrs\": 1.55, \"max_trip_route_group\": 1.55, \"name\": \"Golden Empire Transit District\", \"caltrans_district\": \"06 - Fresno\", \"drmt_organization_name\": null, \"cutoff2\": 40, \"cutoff\": 0}, {\"calitp_itp_id\": 126, \"trip_key\": 2968404579104872588, \"trip_id\": \"3743\", \"shape_id\": \"78\", \"route_id\": \"41\", \"service_hours\": 1.55, \"trip_first_departure_ts\": 39420, \"trip_last_arrival_ts\": 45000, \"departure_hour\": 10, \"time_of_day\": \"Midday\", \"p25\": 1.45, \"p50\": 1.45, \"p75\": 1.55, \"p50_trip\": 0, \"fastest_trip\": 0, \"car_duration_hours\": 0.8, \"competitive_route\": 1, \"bus_multiplier\": 1.94, \"bus_difference\": 45.0, \"num_trips\": 45, \"num_competitive\": 45, \"pct_trips_competitive\": 1.0, \"bus_difference_spread\": 12.0, \"route_group\": \"long\", \"max_trip_hrs\": 1.55, \"max_trip_route_group\": 1.55, \"name\": \"Golden Empire Transit District\", \"caltrans_district\": \"06 - Fresno\", \"drmt_organization_name\": null, \"cutoff2\": 40, \"cutoff\": 0}, {\"calitp_itp_id\": 126, \"trip_key\": 3019438299359060180, \"trip_id\": \"3752\", \"shape_id\": \"78\", \"route_id\": \"41\", \"service_hours\": 1.55, \"trip_first_departure_ts\": 55620, \"trip_last_arrival_ts\": 61200, \"departure_hour\": 15, \"time_of_day\": \"Midday\", \"p25\": 1.45, \"p50\": 1.45, \"p75\": 1.55, \"p50_trip\": 0, \"fastest_trip\": 0, \"car_duration_hours\": 0.8, \"competitive_route\": 1, \"bus_multiplier\": 1.94, \"bus_difference\": 45.0, \"num_trips\": 45, \"num_competitive\": 45, \"pct_trips_competitive\": 1.0, \"bus_difference_spread\": 12.0, \"route_group\": \"long\", \"max_trip_hrs\": 1.55, \"max_trip_route_group\": 1.55, \"name\": \"Golden Empire Transit District\", \"caltrans_district\": \"06 - Fresno\", \"drmt_organization_name\": null, \"cutoff2\": 40, \"cutoff\": 0}, {\"calitp_itp_id\": 126, \"trip_key\": 4529126544370445946, \"trip_id\": \"3749\", \"shape_id\": \"78\", \"route_id\": \"41\", \"service_hours\": 1.55, \"trip_first_departure_ts\": 50220, \"trip_last_arrival_ts\": 55800, \"departure_hour\": 13, \"time_of_day\": \"Midday\", \"p25\": 1.45, \"p50\": 1.45, \"p75\": 1.55, \"p50_trip\": 0, \"fastest_trip\": 0, \"car_duration_hours\": 0.8, \"competitive_route\": 1, \"bus_multiplier\": 1.94, \"bus_difference\": 45.0, \"num_trips\": 45, \"num_competitive\": 45, \"pct_trips_competitive\": 1.0, \"bus_difference_spread\": 12.0, \"route_group\": \"long\", \"max_trip_hrs\": 1.55, \"max_trip_route_group\": 1.55, \"name\": \"Golden Empire Transit District\", \"caltrans_district\": \"06 - Fresno\", \"drmt_organization_name\": null, \"cutoff2\": 40, \"cutoff\": 0}, {\"calitp_itp_id\": 126, \"trip_key\": -5362118131542335213, \"trip_id\": \"3741\", \"shape_id\": \"78\", \"route_id\": \"41\", \"service_hours\": 1.55, \"trip_first_departure_ts\": 35820, \"trip_last_arrival_ts\": 41400, \"departure_hour\": 9, \"time_of_day\": \"AM Peak\", \"p25\": 1.45, \"p50\": 1.45, \"p75\": 1.55, \"p50_trip\": 0, \"fastest_trip\": 0, \"car_duration_hours\": 0.8, \"competitive_route\": 1, \"bus_multiplier\": 1.94, \"bus_difference\": 45.0, \"num_trips\": 45, \"num_competitive\": 45, \"pct_trips_competitive\": 1.0, \"bus_difference_spread\": 12.0, \"route_group\": \"long\", \"max_trip_hrs\": 1.55, \"max_trip_route_group\": 1.55, \"name\": \"Golden Empire Transit District\", \"caltrans_district\": \"06 - Fresno\", \"drmt_organization_name\": null, \"cutoff2\": 40, \"cutoff\": 0}, {\"calitp_itp_id\": 126, \"trip_key\": -6464963909112186485, \"trip_id\": \"3738\", \"shape_id\": \"78\", \"route_id\": \"41\", \"service_hours\": 1.55, \"trip_first_departure_ts\": 30420, \"trip_last_arrival_ts\": 36000, \"departure_hour\": 8, \"time_of_day\": \"AM Peak\", \"p25\": 1.45, \"p50\": 1.45, \"p75\": 1.55, \"p50_trip\": 0, \"fastest_trip\": 0, \"car_duration_hours\": 0.8, \"competitive_route\": 1, \"bus_multiplier\": 1.94, \"bus_difference\": 45.0, \"num_trips\": 45, \"num_competitive\": 45, \"pct_trips_competitive\": 1.0, \"bus_difference_spread\": 12.0, \"route_group\": \"long\", \"max_trip_hrs\": 1.55, \"max_trip_route_group\": 1.55, \"name\": \"Golden Empire Transit District\", \"caltrans_district\": \"06 - Fresno\", \"drmt_organization_name\": null, \"cutoff2\": 40, \"cutoff\": 0}, {\"calitp_itp_id\": 126, \"trip_key\": 2067234379860168420, \"trip_id\": \"3748\", \"shape_id\": \"78\", \"route_id\": \"41\", \"service_hours\": 1.55, \"trip_first_departure_ts\": 48420, \"trip_last_arrival_ts\": 54000, \"departure_hour\": 13, \"time_of_day\": \"Midday\", \"p25\": 1.45, \"p50\": 1.45, \"p75\": 1.55, \"p50_trip\": 0, \"fastest_trip\": 0, \"car_duration_hours\": 0.8, \"competitive_route\": 1, \"bus_multiplier\": 1.94, \"bus_difference\": 45.0, \"num_trips\": 45, \"num_competitive\": 45, \"pct_trips_competitive\": 1.0, \"bus_difference_spread\": 12.0, \"route_group\": \"long\", \"max_trip_hrs\": 1.55, \"max_trip_route_group\": 1.55, \"name\": \"Golden Empire Transit District\", \"caltrans_district\": \"06 - Fresno\", \"drmt_organization_name\": null, \"cutoff2\": 40, \"cutoff\": 0}, {\"calitp_itp_id\": 126, \"trip_key\": -211985334436261053, \"trip_id\": \"3745\", \"shape_id\": \"78\", \"route_id\": \"41\", \"service_hours\": 1.55, \"trip_first_departure_ts\": 43020, \"trip_last_arrival_ts\": 48600, \"departure_hour\": 11, \"time_of_day\": \"Midday\", \"p25\": 1.45, \"p50\": 1.45, \"p75\": 1.55, \"p50_trip\": 0, \"fastest_trip\": 0, \"car_duration_hours\": 0.8, \"competitive_route\": 1, \"bus_multiplier\": 1.94, \"bus_difference\": 45.0, \"num_trips\": 45, \"num_competitive\": 45, \"pct_trips_competitive\": 1.0, \"bus_difference_spread\": 12.0, \"route_group\": \"long\", \"max_trip_hrs\": 1.55, \"max_trip_route_group\": 1.55, \"name\": \"Golden Empire Transit District\", \"caltrans_district\": \"06 - Fresno\", \"drmt_organization_name\": null, \"cutoff2\": 40, \"cutoff\": 0}, {\"calitp_itp_id\": 126, \"trip_key\": 8292425056513114435, \"trip_id\": \"3747\", \"shape_id\": \"78\", \"route_id\": \"41\", \"service_hours\": 1.55, \"trip_first_departure_ts\": 46620, \"trip_last_arrival_ts\": 52200, \"departure_hour\": 12, \"time_of_day\": \"Midday\", \"p25\": 1.45, \"p50\": 1.45, \"p75\": 1.55, \"p50_trip\": 0, \"fastest_trip\": 0, \"car_duration_hours\": 0.8, \"competitive_route\": 1, \"bus_multiplier\": 1.94, \"bus_difference\": 45.0, \"num_trips\": 45, \"num_competitive\": 45, \"pct_trips_competitive\": 1.0, \"bus_difference_spread\": 12.0, \"route_group\": \"long\", \"max_trip_hrs\": 1.55, \"max_trip_route_group\": 1.55, \"name\": \"Golden Empire Transit District\", \"caltrans_district\": \"06 - Fresno\", \"drmt_organization_name\": null, \"cutoff2\": 40, \"cutoff\": 0}, {\"calitp_itp_id\": 126, \"trip_key\": -2937402900677665452, \"trip_id\": \"3750\", \"shape_id\": \"78\", \"route_id\": \"41\", \"service_hours\": 1.55, \"trip_first_departure_ts\": 52020, \"trip_last_arrival_ts\": 57600, \"departure_hour\": 14, \"time_of_day\": \"Midday\", \"p25\": 1.45, \"p50\": 1.45, \"p75\": 1.55, \"p50_trip\": 0, \"fastest_trip\": 0, \"car_duration_hours\": 0.8, \"competitive_route\": 1, \"bus_multiplier\": 1.94, \"bus_difference\": 45.0, \"num_trips\": 45, \"num_competitive\": 45, \"pct_trips_competitive\": 1.0, \"bus_difference_spread\": 12.0, \"route_group\": \"long\", \"max_trip_hrs\": 1.55, \"max_trip_route_group\": 1.55, \"name\": \"Golden Empire Transit District\", \"caltrans_district\": \"06 - Fresno\", \"drmt_organization_name\": null, \"cutoff2\": 40, \"cutoff\": 0}, {\"calitp_itp_id\": 126, \"trip_key\": -942775710692938146, \"trip_id\": \"3740\", \"shape_id\": \"78\", \"route_id\": \"41\", \"service_hours\": 1.55, \"trip_first_departure_ts\": 34020, \"trip_last_arrival_ts\": 39600, \"departure_hour\": 9, \"time_of_day\": \"AM Peak\", \"p25\": 1.45, \"p50\": 1.45, \"p75\": 1.55, \"p50_trip\": 0, \"fastest_trip\": 0, \"car_duration_hours\": 0.8, \"competitive_route\": 1, \"bus_multiplier\": 1.94, \"bus_difference\": 45.0, \"num_trips\": 45, \"num_competitive\": 45, \"pct_trips_competitive\": 1.0, \"bus_difference_spread\": 12.0, \"route_group\": \"long\", \"max_trip_hrs\": 1.55, \"max_trip_route_group\": 1.55, \"name\": \"Golden Empire Transit District\", \"caltrans_district\": \"06 - Fresno\", \"drmt_organization_name\": null, \"cutoff2\": 40, \"cutoff\": 0}]}}, {\"mode\": \"vega-lite\"});\n",
       "</script>"
      ],
      "text/plain": [
       "alt.FacetChart(...)"
      ]
     },
     "metadata": {},
     "output_type": "display_data"
    }
   ],
   "source": [
    "route_group = \"long\"\n",
    "try:\n",
    "    display_charts_for_route_group(df, route_group)\n",
    "except:\n",
    "    print(\"No routes meet this criteria.\")"
   ]
  },
  {
   "cell_type": "markdown",
   "id": "ace75b5f-0442-4fbe-aebd-6c3a13ae13a7",
   "metadata": {
    "papermill": {
     "duration": 0.023524,
     "end_time": "2022-05-09T16:57:06.959901",
     "exception": false,
     "start_time": "2022-05-09T16:57:06.936377",
     "status": "completed"
    },
    "tags": []
   },
   "source": [
    "### GTFS Real-Time Speedmaps"
   ]
  },
  {
   "cell_type": "code",
   "execution_count": 16,
   "id": "3f06fdc4-d5a8-41f5-9b72-ed7e8a2dd2fc",
   "metadata": {
    "execution": {
     "iopub.execute_input": "2022-05-09T16:57:07.002257Z",
     "iopub.status.busy": "2022-05-09T16:57:07.001875Z",
     "iopub.status.idle": "2022-05-09T16:57:07.064902Z",
     "shell.execute_reply": "2022-05-09T16:57:07.063787Z"
    },
    "jupyter": {
     "source_hidden": true
    },
    "papermill": {
     "duration": 0.087893,
     "end_time": "2022-05-09T16:57:07.067545",
     "exception": false,
     "start_time": "2022-05-09T16:57:06.979652",
     "status": "completed"
    },
    "tags": [
     "remove_input"
    ]
   },
   "outputs": [
    {
     "data": {
      "text/html": [
       "<a href=RT_URL>GTFS RT speedmaps here.</a>"
      ],
      "text/plain": [
       "<IPython.core.display.HTML object>"
      ]
     },
     "metadata": {},
     "output_type": "display_data"
    }
   ],
   "source": [
    "PORTFOLIO_SITE_YAML = \"../portfolio/analyses.yml\"\n",
    "\n",
    "# Grab list of ITP IDs with GTFS RT speedmaps\n",
    "rt_itp_id = deploy_portfolio_yaml.check_if_rt_data_available(PORTFOLIO_SITE_YAML)\n",
    "\n",
    "# Construct the URL \n",
    "RT_URL = (\"https://analysis.calitp.org/rt/\"\n",
    "          f\"district_{district_number}-{district_name}/\"\n",
    "          f\"speedmaps__itp_id_{itp_id}.html\"\n",
    "         ) \n",
    "\n",
    "if itp_id in rt_itp_id:\n",
    "    display(HTML('<a href=RT_URL>GTFS RT speedmaps here.</a>'))\n",
    "else:\n",
    "    display(HTML(\"No GTFS RT data available.\"))"
   ]
  },
  {
   "cell_type": "code",
   "execution_count": null,
   "id": "4664fe87-4e5e-4414-9602-a5c9c2a14072",
   "metadata": {
    "jupyter": {
     "source_hidden": true
    },
    "papermill": {
     "duration": 0.021019,
     "end_time": "2022-05-09T16:57:07.110239",
     "exception": false,
     "start_time": "2022-05-09T16:57:07.089220",
     "status": "completed"
    },
    "tags": [
     "remove_input"
    ]
   },
   "outputs": [],
   "source": []
  }
 ],
 "metadata": {
  "kernelspec": {
   "display_name": "Python 3 (ipykernel)",
   "language": "python",
   "name": "python3"
  },
  "language_info": {
   "codemirror_mode": {
    "name": "ipython",
    "version": 3
   },
   "file_extension": ".py",
   "mimetype": "text/x-python",
   "name": "python",
   "nbconvert_exporter": "python",
   "pygments_lexer": "ipython3",
   "version": "3.9.12"
  },
  "papermill": {
   "default_parameters": {},
   "duration": 26.850712,
   "end_time": "2022-05-09T16:57:08.865413",
   "environment_variables": {},
   "exception": null,
   "input_path": "bus_service_increase/competitive-parallel-routes.ipynb",
   "output_path": "portfolio/parallel_corridors/district_06-fresno/competitive-parallel-routes__itp_id_126.ipynb",
   "parameters": {
    "district": "06 - Fresno",
    "itp_id": 126
   },
   "start_time": "2022-05-09T16:56:42.014701",
   "version": "2.3.4"
  }
 },
 "nbformat": 4,
 "nbformat_minor": 5
}