{
 "cells": [
  {
   "cell_type": "code",
   "execution_count": 1,
   "id": "95d00857-6a20-4529-a519-2cc7182928a9",
   "metadata": {
    "execution": {
     "iopub.execute_input": "2022-05-07T17:14:59.263085Z",
     "iopub.status.busy": "2022-05-07T17:14:59.262735Z",
     "iopub.status.idle": "2022-05-07T17:15:07.187758Z",
     "shell.execute_reply": "2022-05-07T17:15:07.187078Z"
    },
    "jupyter": {
     "source_hidden": true
    },
    "papermill": {
     "duration": 7.939469,
     "end_time": "2022-05-07T17:15:07.190208",
     "exception": false,
     "start_time": "2022-05-07T17:14:59.250739",
     "status": "completed"
    },
    "tags": [
     "remove_input"
    ]
   },
   "outputs": [],
   "source": [
    "%%capture\n",
    "import warnings\n",
    "warnings.filterwarnings('ignore')\n",
    "\n",
    "import altair as alt\n",
    "import calitp.magics\n",
    "import geopandas as gpd\n",
    "import intake\n",
    "import pandas as pd\n",
    "\n",
    "from IPython.display import display, Markdown, HTML\n",
    "\n",
    "import parallel_corridors_utils\n",
    "from shared_utils import styleguide\n",
    "\n",
    "catalog = intake.open_catalog(\"./*.yml\")\n",
    "alt.renderers.enable(\"html\")"
   ]
  },
  {
   "cell_type": "code",
   "execution_count": 2,
   "id": "8af2a0c1-f3da-408d-9bea-11d9fbf8695d",
   "metadata": {
    "execution": {
     "iopub.execute_input": "2022-05-07T17:15:07.213970Z",
     "iopub.status.busy": "2022-05-07T17:15:07.213454Z",
     "iopub.status.idle": "2022-05-07T17:15:07.217345Z",
     "shell.execute_reply": "2022-05-07T17:15:07.216835Z"
    },
    "jupyter": {
     "source_hidden": true
    },
    "papermill": {
     "duration": 0.017001,
     "end_time": "2022-05-07T17:15:07.218959",
     "exception": false,
     "start_time": "2022-05-07T17:15:07.201958",
     "status": "completed"
    },
    "tags": [
     "parameters",
     "remove_input"
    ]
   },
   "outputs": [],
   "source": [
    "# parameters cell\n",
    "itp_id = 182"
   ]
  },
  {
   "cell_type": "code",
   "execution_count": 3,
   "id": "a1ae1344",
   "metadata": {
    "execution": {
     "iopub.execute_input": "2022-05-07T17:15:07.240201Z",
     "iopub.status.busy": "2022-05-07T17:15:07.239739Z",
     "iopub.status.idle": "2022-05-07T17:15:07.243569Z",
     "shell.execute_reply": "2022-05-07T17:15:07.243036Z"
    },
    "jupyter": {
     "source_hidden": true
    },
    "papermill": {
     "duration": 0.016575,
     "end_time": "2022-05-07T17:15:07.245217",
     "exception": false,
     "start_time": "2022-05-07T17:15:07.228642",
     "status": "completed"
    },
    "tags": [
     "injected-parameters",
     "remove_input"
    ]
   },
   "outputs": [],
   "source": [
    "# Parameters\n",
    "district = \"06 - Fresno\"\n",
    "itp_id = 146\n"
   ]
  },
  {
   "cell_type": "code",
   "execution_count": 4,
   "id": "9582aaf4-79ff-412a-b248-8d8d693ebd4f",
   "metadata": {
    "execution": {
     "iopub.execute_input": "2022-05-07T17:15:07.266406Z",
     "iopub.status.busy": "2022-05-07T17:15:07.265912Z",
     "iopub.status.idle": "2022-05-07T17:15:08.479771Z",
     "shell.execute_reply": "2022-05-07T17:15:08.479140Z"
    },
    "jupyter": {
     "source_hidden": true
    },
    "papermill": {
     "duration": 1.226765,
     "end_time": "2022-05-07T17:15:08.481859",
     "exception": false,
     "start_time": "2022-05-07T17:15:07.255094",
     "status": "completed"
    },
    "tags": [
     "remove_input"
    ]
   },
   "outputs": [],
   "source": [
    "df = catalog.competitive_route_variability.read()\n",
    "\n",
    "df = (df[(df.calitp_itp_id == itp_id) & \n",
    "         (df.route_group.notna())]\n",
    "      .reset_index(drop=True)\n",
    "     )\n",
    "\n",
    "\n",
    "if itp_id == 182:\n",
    "    df = df.assign(\n",
    "        route_id = df.route_id.str.replace('-13153', '').astype(int)\n",
    "    )"
   ]
  },
  {
   "cell_type": "code",
   "execution_count": 5,
   "id": "33ac4b06-f647-4dce-a625-8f2c1b37cc60",
   "metadata": {
    "execution": {
     "iopub.execute_input": "2022-05-07T17:15:08.506125Z",
     "iopub.status.busy": "2022-05-07T17:15:08.505595Z",
     "iopub.status.idle": "2022-05-07T17:15:08.511680Z",
     "shell.execute_reply": "2022-05-07T17:15:08.511093Z"
    },
    "jupyter": {
     "source_hidden": true
    },
    "papermill": {
     "duration": 0.019178,
     "end_time": "2022-05-07T17:15:08.513307",
     "exception": false,
     "start_time": "2022-05-07T17:15:08.494129",
     "status": "completed"
    },
    "tags": [
     "remove_input"
    ]
   },
   "outputs": [],
   "source": [
    "%%capture_parameters\n",
    "operator_name = df.name.iloc[0]\n",
    "\n",
    "itp_id, operator_name"
   ]
  },
  {
   "cell_type": "markdown",
   "id": "65bc6f5c-8348-42ee-b2dd-52057c406852",
   "metadata": {
    "papermill": {
     "duration": 0.009888,
     "end_time": "2022-05-07T17:15:08.533939",
     "exception": false,
     "start_time": "2022-05-07T17:15:08.524051",
     "status": "completed"
    },
    "tags": []
   },
   "source": [
    "# Kern County (ITP ID: 146)"
   ]
  },
  {
   "cell_type": "code",
   "execution_count": 6,
   "id": "a689c1ab-2c6c-4831-8d64-897f5986f571",
   "metadata": {
    "execution": {
     "iopub.execute_input": "2022-05-07T17:15:08.556158Z",
     "iopub.status.busy": "2022-05-07T17:15:08.555621Z",
     "iopub.status.idle": "2022-05-07T17:15:08.561091Z",
     "shell.execute_reply": "2022-05-07T17:15:08.560594Z"
    },
    "jupyter": {
     "source_hidden": true
    },
    "papermill": {
     "duration": 0.018775,
     "end_time": "2022-05-07T17:15:08.562722",
     "exception": false,
     "start_time": "2022-05-07T17:15:08.543947",
     "status": "completed"
    },
    "tags": [
     "remove_input"
    ]
   },
   "outputs": [
    {
     "data": {
      "text/html": [
       "<h1>Competitive & Parallel Routes</h1>"
      ],
      "text/plain": [
       "<IPython.core.display.HTML object>"
      ]
     },
     "metadata": {},
     "output_type": "display_data"
    }
   ],
   "source": [
    "display(HTML(\"<h1>Competitive & Parallel Routes</h1>\")) "
   ]
  },
  {
   "cell_type": "code",
   "execution_count": 7,
   "id": "2cb4d8d5-4760-40e4-85b1-cb833d8bb648",
   "metadata": {
    "execution": {
     "iopub.execute_input": "2022-05-07T17:15:08.584752Z",
     "iopub.status.busy": "2022-05-07T17:15:08.584275Z",
     "iopub.status.idle": "2022-05-07T17:15:18.657970Z",
     "shell.execute_reply": "2022-05-07T17:15:18.657111Z"
    },
    "jupyter": {
     "source_hidden": true
    },
    "papermill": {
     "duration": 10.087309,
     "end_time": "2022-05-07T17:15:18.660154",
     "exception": false,
     "start_time": "2022-05-07T17:15:08.572845",
     "status": "completed"
    },
    "tags": [
     "remove_input"
    ]
   },
   "outputs": [],
   "source": [
    "# Grab parameters for narrative text - clean up formatting here \n",
    "district = df.caltrans_district.iloc[0]\n",
    "formatted_date = pd.to_datetime(parallel_corridors_utils.SELECTED_DATE).strftime('%m-%d-%Y')\n",
    "\n",
    "PCT_COMPETITIVE_THRESHOLD = 0.75\n",
    "\n",
    "stats = parallel_corridors_utils.operator_parallel_competitive_stats(\n",
    "    itp_id, PCT_COMPETITIVE_THRESHOLD)\n",
    "\n",
    "pct_parallel = round(stats['parallel_routes'] / stats['num_routes'] * 100,1 )\n",
    "pct_competitive =  round(stats['competitive_routes'] / stats['num_routes'] * 100,1 )"
   ]
  },
  {
   "cell_type": "markdown",
   "id": "ab667928-5274-4490-82d9-4c39293209a4",
   "metadata": {
    "papermill": {
     "duration": 0.011302,
     "end_time": "2022-05-07T17:15:18.682970",
     "exception": false,
     "start_time": "2022-05-07T17:15:18.671668",
     "status": "completed"
    },
    "tags": []
   },
   "source": [
    "## Quick Stats"
   ]
  },
  {
   "cell_type": "code",
   "execution_count": 8,
   "id": "0416509d-dc62-4165-b62e-64f8b26e8b8e",
   "metadata": {
    "execution": {
     "iopub.execute_input": "2022-05-07T17:15:18.709225Z",
     "iopub.status.busy": "2022-05-07T17:15:18.705369Z",
     "iopub.status.idle": "2022-05-07T17:15:18.714778Z",
     "shell.execute_reply": "2022-05-07T17:15:18.714184Z"
    },
    "jupyter": {
     "source_hidden": true
    },
    "papermill": {
     "duration": 0.023041,
     "end_time": "2022-05-07T17:15:18.716534",
     "exception": false,
     "start_time": "2022-05-07T17:15:18.693493",
     "status": "completed"
    },
    "tags": [
     "remove_input"
    ]
   },
   "outputs": [
    {
     "data": {
      "text/markdown": [
       "**Bus routes in service**: 9 <br>**Parallel routes** to State Highway Network (SHN): 8 routes (88.9%)<br>**Competitive routes** against car travel: 6 routes (66.7%)"
      ],
      "text/plain": [
       "<IPython.core.display.Markdown object>"
      ]
     },
     "metadata": {},
     "output_type": "display_data"
    }
   ],
   "source": [
    "display(\n",
    "    Markdown(\n",
    "        f\"**Bus routes in service**: {stats['num_routes']} \"\n",
    "        \"<br>**Parallel routes** to State Highway Network (SHN): \"\n",
    "        f\"{stats['parallel_routes']} routes ({pct_parallel}%)\"\n",
    "        f\"<br>**Competitive routes** against car travel: {stats['competitive_routes']} routes ({pct_competitive}%)\"\n",
    "    )\n",
    ")"
   ]
  },
  {
   "cell_type": "code",
   "execution_count": 9,
   "id": "f9d6ab58-f0ee-460c-b6de-657490e1f386",
   "metadata": {
    "execution": {
     "iopub.execute_input": "2022-05-07T17:15:18.740416Z",
     "iopub.status.busy": "2022-05-07T17:15:18.739907Z",
     "iopub.status.idle": "2022-05-07T17:15:18.748762Z",
     "shell.execute_reply": "2022-05-07T17:15:18.747970Z"
    },
    "jupyter": {
     "source_hidden": true
    },
    "papermill": {
     "duration": 0.022718,
     "end_time": "2022-05-07T17:15:18.750390",
     "exception": false,
     "start_time": "2022-05-07T17:15:18.727672",
     "status": "completed"
    },
    "tags": [
     "remove_input"
    ]
   },
   "outputs": [],
   "source": [
    "def set_yaxis_range(df, y_col):\n",
    "    Y_MIN = df[y_col].min()\n",
    "    Y_MAX = df[y_col].max()\n",
    "    \n",
    "    return Y_MIN, Y_MAX\n",
    "\n",
    "# Rather than set it according to the operator, which can vary,\n",
    "# just use set thresholds for each group\n",
    "diff_cutoffs = {\n",
    "    \"short\": 20,\n",
    "    \"medium\": 30,\n",
    "    \"long\": 40,\n",
    "}\n",
    "\n",
    "PCT_TRIPS_BELOW_CUTOFF = 0.25\n",
    "\n",
    "def top15_routes(df, route_group):\n",
    "    df2 = (df[df.route_group==route_group])\n",
    "    # Set a cut-off to enable sorting, where most of the trips are \n",
    "    # below a certain time difference cut-off, \n",
    "    # grab top 15 routes where majority of trips are below that cut-off \n",
    "\n",
    "    route_cols = [\"calitp_itp_id\", \"route_id\"]\n",
    "\n",
    "    df2 = df2.assign(\n",
    "        below_cutoff = df2.apply(lambda x: 1 if x.bus_difference <= diff_cutoffs[route_group] \n",
    "                                 else 0, axis=1),\n",
    "        num_trips = df2.groupby(route_cols)[\"trip_id\"].transform(\"count\")\n",
    "    )\n",
    "\n",
    "    df2[\"below_cutoff\"] = df2.groupby(route_cols)[\"below_cutoff\"].transform(\"sum\")\n",
    "    df2[\"pct_below_cutoff\"] = df2.below_cutoff.divide(df2.num_trips)\n",
    "\n",
    "    # At least half the trips are below that cut-off\n",
    "    # but show 15 max, otherwise, show less, since these won't be as interesting to operators\n",
    "    df3 = (df2[df2.pct_below_cutoff >= PCT_TRIPS_BELOW_CUTOFF]\n",
    "           .sort_values([\"calitp_itp_id\", \"below_cutoff\", \n",
    "                         \"pct_below_cutoff\", \"route_id\"],\n",
    "                        ascending = [True, False, False, True]\n",
    "                       )\n",
    "           .drop_duplicates(subset=[\"calitp_itp_id\", \"route_id\"])\n",
    "          ).head(15)\n",
    "    \n",
    "    return list(df3.route_id)"
   ]
  },
  {
   "cell_type": "code",
   "execution_count": 10,
   "id": "cf36d559-3349-4144-8086-8ac9ce937a5a",
   "metadata": {
    "execution": {
     "iopub.execute_input": "2022-05-07T17:15:18.774877Z",
     "iopub.status.busy": "2022-05-07T17:15:18.773904Z",
     "iopub.status.idle": "2022-05-07T17:15:18.779893Z",
     "shell.execute_reply": "2022-05-07T17:15:18.779261Z"
    },
    "jupyter": {
     "source_hidden": true
    },
    "papermill": {
     "duration": 0.020228,
     "end_time": "2022-05-07T17:15:18.781732",
     "exception": false,
     "start_time": "2022-05-07T17:15:18.761504",
     "status": "completed"
    },
    "tags": [
     "remove_input"
    ]
   },
   "outputs": [],
   "source": [
    "short_caption = (\n",
    "    f\"<br>These are routes that have at least {int(PCT_TRIPS_BELOW_CUTOFF*100)}% of their trips \"\n",
    "    f\"take no more than an additional {diff_cutoffs['short']} min compared to a car \"\n",
    "    \"(up to 15 routes) are shown.\"\n",
    ")\n",
    "\n",
    "med_caption = (\n",
    "    f\"<br>These are routes that have at least {int(PCT_TRIPS_BELOW_CUTOFF*100)}% of their trips \"\n",
    "    f\"take no more than an additional {diff_cutoffs['medium']} min compared to a car \"\n",
    "    \"(up to 15 routes) are shown.\"\n",
    ")\n",
    "\n",
    "long_caption = (\n",
    "    f\"<br>These are routes that have at least {int(PCT_TRIPS_BELOW_CUTOFF*100)}% of their trips \"\n",
    "    f\"take no more than an additional {diff_cutoffs['long']} min compared to a car \"\n",
    "    \"(up to 15 routes) are shown.\")\n",
    "\n",
    "\n",
    "CAPTIONS_DICT = {\n",
    "    \"short\": short_caption,\n",
    "    \"medium\": med_caption,\n",
    "    \"long\": long_caption,\n",
    "}"
   ]
  },
  {
   "cell_type": "code",
   "execution_count": 11,
   "id": "e4306d58-6944-47e9-afef-5d5b524c751f",
   "metadata": {
    "execution": {
     "iopub.execute_input": "2022-05-07T17:15:18.815488Z",
     "iopub.status.busy": "2022-05-07T17:15:18.814944Z",
     "iopub.status.idle": "2022-05-07T17:15:18.821620Z",
     "shell.execute_reply": "2022-05-07T17:15:18.821072Z"
    },
    "jupyter": {
     "source_hidden": true
    },
    "papermill": {
     "duration": 0.029465,
     "end_time": "2022-05-07T17:15:18.823354",
     "exception": false,
     "start_time": "2022-05-07T17:15:18.793889",
     "status": "completed"
    },
    "tags": [
     "remove_input"
    ]
   },
   "outputs": [],
   "source": [
    "def setup_charts(df, PCT_COMPETITIVE_THRESHOLD, route_group):\n",
    "    # Set up df for charting (cut-off at some threshold to show most competitive routes)\n",
    "    plot_me = (df[df.pct_trips_competitive > PCT_COMPETITIVE_THRESHOLD]\n",
    "           .drop(columns = \"geometry\")\n",
    "    )\n",
    "    \n",
    "    y_col1 = \"bus_multiplier\"\n",
    "    Y_MIN1, Y_MAX1 = set_yaxis_range(plot_me, y_col1)\n",
    "\n",
    "    y_col2 = \"bus_difference\"\n",
    "    Y_MIN2, Y_MAX2 = set_yaxis_range(plot_me, y_col2)\n",
    "     \n",
    "    subset_routes = top15_routes(plot_me, route_group)\n",
    "    \n",
    "    multiplier_chart = parallel_corridors_utils.make_stripplot(\n",
    "        plot_me[plot_me.route_id.isin(subset_routes)], \n",
    "        y_col1, Y_MIN = Y_MIN1, Y_MAX = Y_MAX1\n",
    "    )\n",
    "    \n",
    "    difference_chart = parallel_corridors_utils.make_stripplot(\n",
    "        plot_me[plot_me.route_id.isin(subset_routes)], \n",
    "        y_col2, Y_MIN = Y_MIN2, Y_MAX = Y_MAX2\n",
    "    )\n",
    "    \n",
    "    return subset_routes, multiplier_chart, difference_chart            "
   ]
  },
  {
   "cell_type": "markdown",
   "id": "525f9b38-072b-46d1-96a8-1aa4b038357c",
   "metadata": {
    "papermill": {
     "duration": 0.011713,
     "end_time": "2022-05-07T17:15:18.846573",
     "exception": false,
     "start_time": "2022-05-07T17:15:18.834860",
     "status": "completed"
    },
    "tags": []
   },
   "source": [
    "## Viable Competitive Routes\n",
    "### Short Routes (< 1 hr)"
   ]
  },
  {
   "cell_type": "code",
   "execution_count": 12,
   "id": "57f7084c-2cf7-45c6-ba08-1609e0bd6ca5",
   "metadata": {
    "execution": {
     "iopub.execute_input": "2022-05-07T17:15:18.871545Z",
     "iopub.status.busy": "2022-05-07T17:15:18.870971Z",
     "iopub.status.idle": "2022-05-07T17:15:19.129652Z",
     "shell.execute_reply": "2022-05-07T17:15:19.128849Z"
    },
    "jupyter": {
     "source_hidden": true
    },
    "papermill": {
     "duration": 0.27386,
     "end_time": "2022-05-07T17:15:19.131669",
     "exception": false,
     "start_time": "2022-05-07T17:15:18.857809",
     "status": "completed"
    },
    "tags": [
     "remove_input"
    ]
   },
   "outputs": [
    {
     "data": {
      "text/markdown": [
       "<br>These are routes that have at least 25% of their trips take no more than an additional 20 min compared to a car (up to 15 routes) are shown.Within each route group, routes are sorted in descending order by % competitive trips and # trips below the additional time cut-off."
      ],
      "text/plain": [
       "<IPython.core.display.Markdown object>"
      ]
     },
     "metadata": {},
     "output_type": "display_data"
    },
    {
     "data": {
      "text/html": [
       "\n",
       "<div id=\"altair-viz-ba9fa677d41c43a58853f5be9d7ed93a\"></div>\n",
       "<script type=\"text/javascript\">\n",
       "  var VEGA_DEBUG = (typeof VEGA_DEBUG == \"undefined\") ? {} : VEGA_DEBUG;\n",
       "  (function(spec, embedOpt){\n",
       "    let outputDiv = document.currentScript.previousElementSibling;\n",
       "    if (outputDiv.id !== \"altair-viz-ba9fa677d41c43a58853f5be9d7ed93a\") {\n",
       "      outputDiv = document.getElementById(\"altair-viz-ba9fa677d41c43a58853f5be9d7ed93a\");\n",
       "    }\n",
       "    const paths = {\n",
       "      \"vega\": \"https://cdn.jsdelivr.net/npm//vega@5?noext\",\n",
       "      \"vega-lib\": \"https://cdn.jsdelivr.net/npm//vega-lib?noext\",\n",
       "      \"vega-lite\": \"https://cdn.jsdelivr.net/npm//vega-lite@4.17.0?noext\",\n",
       "      \"vega-embed\": \"https://cdn.jsdelivr.net/npm//vega-embed@6?noext\",\n",
       "    };\n",
       "\n",
       "    function maybeLoadScript(lib, version) {\n",
       "      var key = `${lib.replace(\"-\", \"\")}_version`;\n",
       "      return (VEGA_DEBUG[key] == version) ?\n",
       "        Promise.resolve(paths[lib]) :\n",
       "        new Promise(function(resolve, reject) {\n",
       "          var s = document.createElement('script');\n",
       "          document.getElementsByTagName(\"head\")[0].appendChild(s);\n",
       "          s.async = true;\n",
       "          s.onload = () => {\n",
       "            VEGA_DEBUG[key] = version;\n",
       "            return resolve(paths[lib]);\n",
       "          };\n",
       "          s.onerror = () => reject(`Error loading script: ${paths[lib]}`);\n",
       "          s.src = paths[lib];\n",
       "        });\n",
       "    }\n",
       "\n",
       "    function showError(err) {\n",
       "      outputDiv.innerHTML = `<div class=\"error\" style=\"color:red;\">${err}</div>`;\n",
       "      throw err;\n",
       "    }\n",
       "\n",
       "    function displayChart(vegaEmbed) {\n",
       "      vegaEmbed(outputDiv, spec, embedOpt)\n",
       "        .catch(err => showError(`Javascript Error: ${err.message}<br>This usually means there's a typo in your chart specification. See the javascript console for the full traceback.`));\n",
       "    }\n",
       "\n",
       "    if(typeof define === \"function\" && define.amd) {\n",
       "      requirejs.config({paths});\n",
       "      require([\"vega-embed\"], displayChart, err => showError(`Error loading script: ${err.message}`));\n",
       "    } else {\n",
       "      maybeLoadScript(\"vega\", \"5\")\n",
       "        .then(() => maybeLoadScript(\"vega-lite\", \"4.17.0\"))\n",
       "        .then(() => maybeLoadScript(\"vega-embed\", \"6\"))\n",
       "        .catch(showError)\n",
       "        .then(() => displayChart(vegaEmbed));\n",
       "    }\n",
       "  })({\"config\": {\"view\": {\"continuousWidth\": 400, \"continuousHeight\": 300, \"stroke\": null}, \"facet\": {\"spacing\": 0}}, \"data\": {\"name\": \"data-1ca8c3d25b41b1e2d23ce731e24431fd\"}, \"facet\": {\"column\": {\"field\": \"route_id\", \"sort\": [\"1366\"], \"title\": \"Route ID\", \"type\": \"nominal\"}}, \"spec\": {\"layer\": [{\"mark\": {\"type\": \"point\", \"opacity\": 0.65, \"size\": 12, \"strokeWidth\": 1.1}, \"encoding\": {\"color\": {\"field\": \"time_of_day\", \"scale\": {\"range\": [\"#136C97\", \"#E16B26\", \"#F6BF16\", \"#00896B\", \"#7790A3\", \"#5B559C\"]}, \"sort\": [\"AM Peak\", \"Midday\", \"PM Peak\", \"Owl Service\"], \"title\": \"Time of Day\", \"type\": \"nominal\"}, \"tooltip\": [{\"field\": \"route_id\", \"type\": \"nominal\"}, {\"field\": \"trip_id\", \"type\": \"nominal\"}, {\"field\": \"service_hours\", \"type\": \"quantitative\"}, {\"field\": \"car_duration_hours\", \"type\": \"quantitative\"}, {\"field\": \"bus_multiplier\", \"type\": \"quantitative\"}, {\"field\": \"bus_difference\", \"type\": \"quantitative\"}, {\"field\": \"num_trips\", \"type\": \"quantitative\"}, {\"field\": \"num_competitive\", \"type\": \"quantitative\"}, {\"field\": \"pct_trips_competitive\", \"type\": \"quantitative\"}, {\"field\": \"p25\", \"type\": \"quantitative\"}, {\"field\": \"p50\", \"type\": \"quantitative\"}, {\"field\": \"p75\", \"type\": \"quantitative\"}], \"x\": {\"axis\": {\"grid\": false, \"labels\": false, \"ticks\": true, \"values\": [0]}, \"field\": \"jitter\", \"scale\": {}, \"title\": null, \"type\": \"quantitative\"}, \"y\": {\"field\": \"bus_multiplier\", \"scale\": {\"domain\": [-0.25, 2.5]}, \"title\": \"Ratio of Bus to Car Travel Time\", \"type\": \"quantitative\"}}, \"selection\": {\"selector001\": {\"type\": \"interval\", \"bind\": \"scales\", \"encodings\": [\"x\", \"y\"]}}, \"transform\": [{\"calculate\": \"sqrt(-2*log(random()))*cos(2*PI*random())\", \"as\": \"jitter\"}], \"width\": 60}, {\"layer\": [{\"mark\": {\"type\": \"point\", \"opacity\": 0.6, \"size\": 20, \"strokeWidth\": 1.3}, \"encoding\": {\"color\": {\"value\": \"#323434\"}, \"y\": {\"field\": \"bus_multiplier\", \"type\": \"quantitative\"}}, \"transform\": [{\"filter\": \"(datum.p50_trip === 1)\"}]}, {\"mark\": {\"type\": \"rule\", \"strokeDash\": [2, 3]}, \"encoding\": {\"color\": {\"value\": \"#323434\"}, \"y\": {\"field\": \"cutoff\", \"type\": \"quantitative\"}}}, {\"mark\": {\"type\": \"text\", \"align\": \"center\", \"baseline\": \"middle\"}, \"encoding\": {\"color\": {\"value\": \"black\"}, \"text\": {\"field\": \"pct_trips_competitive\", \"format\": \".0%\", \"type\": \"quantitative\"}, \"tooltip\": [{\"field\": \"route_id\", \"type\": \"nominal\"}, {\"field\": \"trip_id\", \"type\": \"nominal\"}, {\"field\": \"service_hours\", \"type\": \"quantitative\"}, {\"field\": \"car_duration_hours\", \"type\": \"quantitative\"}, {\"field\": \"bus_multiplier\", \"type\": \"quantitative\"}, {\"field\": \"bus_difference\", \"type\": \"quantitative\"}, {\"field\": \"num_trips\", \"type\": \"quantitative\"}, {\"field\": \"num_competitive\", \"type\": \"quantitative\"}, {\"field\": \"pct_trips_competitive\", \"type\": \"quantitative\"}, {\"field\": \"p25\", \"type\": \"quantitative\"}, {\"field\": \"p50\", \"type\": \"quantitative\"}, {\"field\": \"p75\", \"type\": \"quantitative\"}], \"x\": {\"value\": 30}, \"y\": {\"value\": 15}}, \"transform\": [{\"calculate\": \"sqrt(-2*log(random()))*cos(2*PI*random())\", \"as\": \"jitter\"}, {\"filter\": \"(datum.fastest_trip === 1)\"}]}]}]}, \"resolve\": {\"scale\": {\"y\": \"shared\"}}, \"title\": \"Ratio of Bus to Car Travel Time\", \"$schema\": \"https://vega.github.io/schema/vega-lite/v4.17.0.json\", \"datasets\": {\"data-1ca8c3d25b41b1e2d23ce731e24431fd\": [{\"calitp_itp_id\": 146, \"trip_key\": 1560493323179131979, \"trip_id\": \"t_1244355_b_33402_tn_0\", \"shape_id\": \"p_3081\", \"route_id\": \"1366\", \"service_hours\": 0.83, \"trip_first_departure_ts\": 63000, \"trip_last_arrival_ts\": 66000, \"departure_hour\": 17, \"time_of_day\": \"PM Peak\", \"p25\": 0.83, \"p50\": 0.83, \"p75\": 0.83, \"p50_trip\": 1, \"fastest_trip\": 0, \"car_duration_hours\": 0.61, \"competitive_route\": 1, \"bus_multiplier\": 1.36, \"bus_difference\": 13.2, \"num_trips\": 8, \"num_competitive\": 8, \"pct_trips_competitive\": 1.0, \"bus_difference_spread\": 0.0, \"route_group\": \"short\", \"max_trip_hrs\": 0.83, \"max_trip_route_group\": 0.83, \"name\": \"Kern County\", \"caltrans_district\": \"06 - Fresno\", \"drmt_organization_name\": null, \"cutoff2\": 12.45, \"cutoff\": 2}, {\"calitp_itp_id\": 146, \"trip_key\": 6588636468876049749, \"trip_id\": \"t_1244360_b_33402_tn_0\", \"shape_id\": \"p_3043\", \"route_id\": \"1366\", \"service_hours\": 0.83, \"trip_first_departure_ts\": 33600, \"trip_last_arrival_ts\": 36600, \"departure_hour\": 9, \"time_of_day\": \"AM Peak\", \"p25\": 0.83, \"p50\": 0.83, \"p75\": 0.83, \"p50_trip\": 1, \"fastest_trip\": 0, \"car_duration_hours\": 0.61, \"competitive_route\": 1, \"bus_multiplier\": 1.36, \"bus_difference\": 13.2, \"num_trips\": 8, \"num_competitive\": 8, \"pct_trips_competitive\": 1.0, \"bus_difference_spread\": 0.0, \"route_group\": \"short\", \"max_trip_hrs\": 0.83, \"max_trip_route_group\": 0.83, \"name\": \"Kern County\", \"caltrans_district\": \"06 - Fresno\", \"drmt_organization_name\": null, \"cutoff2\": 12.45, \"cutoff\": 2}, {\"calitp_itp_id\": 146, \"trip_key\": 5172112710181939388, \"trip_id\": \"t_1244359_b_33402_tn_0\", \"shape_id\": \"p_3043\", \"route_id\": \"1366\", \"service_hours\": 0.83, \"trip_first_departure_ts\": 49800, \"trip_last_arrival_ts\": 52800, \"departure_hour\": 13, \"time_of_day\": \"Midday\", \"p25\": 0.83, \"p50\": 0.83, \"p75\": 0.83, \"p50_trip\": 1, \"fastest_trip\": 0, \"car_duration_hours\": 0.61, \"competitive_route\": 1, \"bus_multiplier\": 1.36, \"bus_difference\": 13.2, \"num_trips\": 8, \"num_competitive\": 8, \"pct_trips_competitive\": 1.0, \"bus_difference_spread\": 0.0, \"route_group\": \"short\", \"max_trip_hrs\": 0.83, \"max_trip_route_group\": 0.83, \"name\": \"Kern County\", \"caltrans_district\": \"06 - Fresno\", \"drmt_organization_name\": null, \"cutoff2\": 12.45, \"cutoff\": 2}, {\"calitp_itp_id\": 146, \"trip_key\": -4591111831172938466, \"trip_id\": \"t_1244362_b_33402_tn_0\", \"shape_id\": \"p_3081\", \"route_id\": \"1366\", \"service_hours\": 0.83, \"trip_first_departure_ts\": 45900, \"trip_last_arrival_ts\": 48900, \"departure_hour\": 12, \"time_of_day\": \"Midday\", \"p25\": 0.83, \"p50\": 0.83, \"p75\": 0.83, \"p50_trip\": 1, \"fastest_trip\": 0, \"car_duration_hours\": 0.61, \"competitive_route\": 1, \"bus_multiplier\": 1.36, \"bus_difference\": 13.2, \"num_trips\": 8, \"num_competitive\": 8, \"pct_trips_competitive\": 1.0, \"bus_difference_spread\": 0.0, \"route_group\": \"short\", \"max_trip_hrs\": 0.83, \"max_trip_route_group\": 0.83, \"name\": \"Kern County\", \"caltrans_district\": \"06 - Fresno\", \"drmt_organization_name\": null, \"cutoff2\": 12.45, \"cutoff\": 2}, {\"calitp_itp_id\": 146, \"trip_key\": -4526751177031150232, \"trip_id\": \"t_1244354_b_33402_tn_0\", \"shape_id\": \"p_3081\", \"route_id\": \"1366\", \"service_hours\": 0.83, \"trip_first_departure_ts\": 27900, \"trip_last_arrival_ts\": 30900, \"departure_hour\": 7, \"time_of_day\": \"AM Peak\", \"p25\": 0.83, \"p50\": 0.83, \"p75\": 0.83, \"p50_trip\": 1, \"fastest_trip\": 0, \"car_duration_hours\": 0.61, \"competitive_route\": 1, \"bus_multiplier\": 1.36, \"bus_difference\": 13.2, \"num_trips\": 8, \"num_competitive\": 8, \"pct_trips_competitive\": 1.0, \"bus_difference_spread\": 0.0, \"route_group\": \"short\", \"max_trip_hrs\": 0.83, \"max_trip_route_group\": 0.83, \"name\": \"Kern County\", \"caltrans_district\": \"06 - Fresno\", \"drmt_organization_name\": null, \"cutoff2\": 12.45, \"cutoff\": 2}, {\"calitp_itp_id\": 146, \"trip_key\": 8294262901469549474, \"trip_id\": \"t_1244357_b_33402_tn_0\", \"shape_id\": \"p_3043\", \"route_id\": \"1366\", \"service_hours\": 0.83, \"trip_first_departure_ts\": 59100, \"trip_last_arrival_ts\": 62100, \"departure_hour\": 16, \"time_of_day\": \"Midday\", \"p25\": 0.83, \"p50\": 0.83, \"p75\": 0.83, \"p50_trip\": 1, \"fastest_trip\": 0, \"car_duration_hours\": 0.61, \"competitive_route\": 1, \"bus_multiplier\": 1.36, \"bus_difference\": 13.2, \"num_trips\": 8, \"num_competitive\": 8, \"pct_trips_competitive\": 1.0, \"bus_difference_spread\": 0.0, \"route_group\": \"short\", \"max_trip_hrs\": 0.83, \"max_trip_route_group\": 0.83, \"name\": \"Kern County\", \"caltrans_district\": \"06 - Fresno\", \"drmt_organization_name\": null, \"cutoff2\": 12.45, \"cutoff\": 2}, {\"calitp_itp_id\": 146, \"trip_key\": -5170283710749819067, \"trip_id\": \"t_1244358_b_33402_tn_0\", \"shape_id\": \"p_3081\", \"route_id\": \"1366\", \"service_hours\": 0.83, \"trip_first_departure_ts\": 53700, \"trip_last_arrival_ts\": 56700, \"departure_hour\": 14, \"time_of_day\": \"Midday\", \"p25\": 0.83, \"p50\": 0.83, \"p75\": 0.83, \"p50_trip\": 1, \"fastest_trip\": 0, \"car_duration_hours\": 0.61, \"competitive_route\": 1, \"bus_multiplier\": 1.36, \"bus_difference\": 13.2, \"num_trips\": 8, \"num_competitive\": 8, \"pct_trips_competitive\": 1.0, \"bus_difference_spread\": 0.0, \"route_group\": \"short\", \"max_trip_hrs\": 0.83, \"max_trip_route_group\": 0.83, \"name\": \"Kern County\", \"caltrans_district\": \"06 - Fresno\", \"drmt_organization_name\": null, \"cutoff2\": 12.45, \"cutoff\": 2}, {\"calitp_itp_id\": 146, \"trip_key\": -7985887285849281878, \"trip_id\": \"t_2003617_b_33402_tn_0\", \"shape_id\": \"p_3043\", \"route_id\": \"1366\", \"service_hours\": 0.83, \"trip_first_departure_ts\": 66600, \"trip_last_arrival_ts\": 69600, \"departure_hour\": 18, \"time_of_day\": \"PM Peak\", \"p25\": 0.83, \"p50\": 0.83, \"p75\": 0.83, \"p50_trip\": 1, \"fastest_trip\": 1, \"car_duration_hours\": 0.61, \"competitive_route\": 1, \"bus_multiplier\": 1.36, \"bus_difference\": 13.2, \"num_trips\": 8, \"num_competitive\": 8, \"pct_trips_competitive\": 1.0, \"bus_difference_spread\": 0.0, \"route_group\": \"short\", \"max_trip_hrs\": 0.83, \"max_trip_route_group\": 0.83, \"name\": \"Kern County\", \"caltrans_district\": \"06 - Fresno\", \"drmt_organization_name\": null, \"cutoff2\": 12.45, \"cutoff\": 2}]}}, {\"mode\": \"vega-lite\"});\n",
       "</script>"
      ],
      "text/plain": [
       "alt.FacetChart(...)"
      ]
     },
     "metadata": {},
     "output_type": "display_data"
    },
    {
     "data": {
      "text/html": [
       "\n",
       "<div id=\"altair-viz-acae93ee4e724bc48bf59bf173c586a5\"></div>\n",
       "<script type=\"text/javascript\">\n",
       "  var VEGA_DEBUG = (typeof VEGA_DEBUG == \"undefined\") ? {} : VEGA_DEBUG;\n",
       "  (function(spec, embedOpt){\n",
       "    let outputDiv = document.currentScript.previousElementSibling;\n",
       "    if (outputDiv.id !== \"altair-viz-acae93ee4e724bc48bf59bf173c586a5\") {\n",
       "      outputDiv = document.getElementById(\"altair-viz-acae93ee4e724bc48bf59bf173c586a5\");\n",
       "    }\n",
       "    const paths = {\n",
       "      \"vega\": \"https://cdn.jsdelivr.net/npm//vega@5?noext\",\n",
       "      \"vega-lib\": \"https://cdn.jsdelivr.net/npm//vega-lib?noext\",\n",
       "      \"vega-lite\": \"https://cdn.jsdelivr.net/npm//vega-lite@4.17.0?noext\",\n",
       "      \"vega-embed\": \"https://cdn.jsdelivr.net/npm//vega-embed@6?noext\",\n",
       "    };\n",
       "\n",
       "    function maybeLoadScript(lib, version) {\n",
       "      var key = `${lib.replace(\"-\", \"\")}_version`;\n",
       "      return (VEGA_DEBUG[key] == version) ?\n",
       "        Promise.resolve(paths[lib]) :\n",
       "        new Promise(function(resolve, reject) {\n",
       "          var s = document.createElement('script');\n",
       "          document.getElementsByTagName(\"head\")[0].appendChild(s);\n",
       "          s.async = true;\n",
       "          s.onload = () => {\n",
       "            VEGA_DEBUG[key] = version;\n",
       "            return resolve(paths[lib]);\n",
       "          };\n",
       "          s.onerror = () => reject(`Error loading script: ${paths[lib]}`);\n",
       "          s.src = paths[lib];\n",
       "        });\n",
       "    }\n",
       "\n",
       "    function showError(err) {\n",
       "      outputDiv.innerHTML = `<div class=\"error\" style=\"color:red;\">${err}</div>`;\n",
       "      throw err;\n",
       "    }\n",
       "\n",
       "    function displayChart(vegaEmbed) {\n",
       "      vegaEmbed(outputDiv, spec, embedOpt)\n",
       "        .catch(err => showError(`Javascript Error: ${err.message}<br>This usually means there's a typo in your chart specification. See the javascript console for the full traceback.`));\n",
       "    }\n",
       "\n",
       "    if(typeof define === \"function\" && define.amd) {\n",
       "      requirejs.config({paths});\n",
       "      require([\"vega-embed\"], displayChart, err => showError(`Error loading script: ${err.message}`));\n",
       "    } else {\n",
       "      maybeLoadScript(\"vega\", \"5\")\n",
       "        .then(() => maybeLoadScript(\"vega-lite\", \"4.17.0\"))\n",
       "        .then(() => maybeLoadScript(\"vega-embed\", \"6\"))\n",
       "        .catch(showError)\n",
       "        .then(() => displayChart(vegaEmbed));\n",
       "    }\n",
       "  })({\"config\": {\"view\": {\"continuousWidth\": 400, \"continuousHeight\": 300, \"stroke\": null}, \"facet\": {\"spacing\": 0}}, \"data\": {\"name\": \"data-2225caa943b5340f479f49340fc1a85f\"}, \"facet\": {\"column\": {\"field\": \"route_id\", \"sort\": [\"1366\"], \"title\": \"Route ID\", \"type\": \"nominal\"}}, \"spec\": {\"layer\": [{\"mark\": {\"type\": \"point\", \"opacity\": 0.65, \"size\": 12, \"strokeWidth\": 1.1}, \"encoding\": {\"color\": {\"field\": \"time_of_day\", \"scale\": {\"range\": [\"#136C97\", \"#E16B26\", \"#F6BF16\", \"#00896B\", \"#7790A3\", \"#5B559C\"]}, \"sort\": [\"AM Peak\", \"Midday\", \"PM Peak\", \"Owl Service\"], \"title\": \"Time of Day\", \"type\": \"nominal\"}, \"tooltip\": [{\"field\": \"route_id\", \"type\": \"nominal\"}, {\"field\": \"trip_id\", \"type\": \"nominal\"}, {\"field\": \"service_hours\", \"type\": \"quantitative\"}, {\"field\": \"car_duration_hours\", \"type\": \"quantitative\"}, {\"field\": \"bus_multiplier\", \"type\": \"quantitative\"}, {\"field\": \"bus_difference\", \"type\": \"quantitative\"}, {\"field\": \"num_trips\", \"type\": \"quantitative\"}, {\"field\": \"num_competitive\", \"type\": \"quantitative\"}, {\"field\": \"pct_trips_competitive\", \"type\": \"quantitative\"}, {\"field\": \"p25\", \"type\": \"quantitative\"}, {\"field\": \"p50\", \"type\": \"quantitative\"}, {\"field\": \"p75\", \"type\": \"quantitative\"}], \"x\": {\"axis\": {\"grid\": false, \"labels\": false, \"ticks\": true, \"values\": [0]}, \"field\": \"jitter\", \"scale\": {}, \"title\": null, \"type\": \"quantitative\"}, \"y\": {\"field\": \"bus_difference\", \"scale\": {\"domain\": [-5, 69.6]}, \"title\": \"Difference in Bus to Car Travel Time (min)\", \"type\": \"quantitative\"}}, \"selection\": {\"selector002\": {\"type\": \"interval\", \"bind\": \"scales\", \"encodings\": [\"x\", \"y\"]}}, \"transform\": [{\"calculate\": \"sqrt(-2*log(random()))*cos(2*PI*random())\", \"as\": \"jitter\"}], \"width\": 60}, {\"layer\": [{\"mark\": {\"type\": \"point\", \"opacity\": 0.6, \"size\": 20, \"strokeWidth\": 1.3}, \"encoding\": {\"color\": {\"value\": \"#323434\"}, \"y\": {\"field\": \"bus_difference\", \"type\": \"quantitative\"}}, \"transform\": [{\"filter\": \"(datum.p50_trip === 1)\"}]}, {\"mark\": {\"type\": \"rule\", \"strokeDash\": [2, 3]}, \"encoding\": {\"color\": {\"value\": \"#323434\"}, \"y\": {\"field\": \"cutoff\", \"type\": \"quantitative\"}}}, {\"mark\": {\"type\": \"rule\", \"strokeDash\": [2, 3]}, \"encoding\": {\"color\": {\"value\": \"#136C97\"}, \"y\": {\"field\": \"cutoff2\", \"type\": \"quantitative\"}}}, {\"mark\": {\"type\": \"text\", \"align\": \"center\", \"baseline\": \"middle\"}, \"encoding\": {\"color\": {\"value\": \"black\"}, \"text\": {\"field\": \"pct_trips_competitive\", \"format\": \".0%\", \"type\": \"quantitative\"}, \"tooltip\": [{\"field\": \"route_id\", \"type\": \"nominal\"}, {\"field\": \"trip_id\", \"type\": \"nominal\"}, {\"field\": \"service_hours\", \"type\": \"quantitative\"}, {\"field\": \"car_duration_hours\", \"type\": \"quantitative\"}, {\"field\": \"bus_multiplier\", \"type\": \"quantitative\"}, {\"field\": \"bus_difference\", \"type\": \"quantitative\"}, {\"field\": \"num_trips\", \"type\": \"quantitative\"}, {\"field\": \"num_competitive\", \"type\": \"quantitative\"}, {\"field\": \"pct_trips_competitive\", \"type\": \"quantitative\"}, {\"field\": \"p25\", \"type\": \"quantitative\"}, {\"field\": \"p50\", \"type\": \"quantitative\"}, {\"field\": \"p75\", \"type\": \"quantitative\"}], \"x\": {\"value\": 30}, \"y\": {\"value\": 15}}, \"transform\": [{\"calculate\": \"sqrt(-2*log(random()))*cos(2*PI*random())\", \"as\": \"jitter\"}, {\"filter\": \"(datum.fastest_trip === 1)\"}]}]}]}, \"resolve\": {\"scale\": {\"y\": \"shared\"}}, \"title\": \"Difference in Bus to Car Travel Time (min)\", \"$schema\": \"https://vega.github.io/schema/vega-lite/v4.17.0.json\", \"datasets\": {\"data-2225caa943b5340f479f49340fc1a85f\": [{\"calitp_itp_id\": 146, \"trip_key\": 1560493323179131979, \"trip_id\": \"t_1244355_b_33402_tn_0\", \"shape_id\": \"p_3081\", \"route_id\": \"1366\", \"service_hours\": 0.83, \"trip_first_departure_ts\": 63000, \"trip_last_arrival_ts\": 66000, \"departure_hour\": 17, \"time_of_day\": \"PM Peak\", \"p25\": 0.83, \"p50\": 0.83, \"p75\": 0.83, \"p50_trip\": 1, \"fastest_trip\": 0, \"car_duration_hours\": 0.61, \"competitive_route\": 1, \"bus_multiplier\": 1.36, \"bus_difference\": 13.2, \"num_trips\": 8, \"num_competitive\": 8, \"pct_trips_competitive\": 1.0, \"bus_difference_spread\": 0.0, \"route_group\": \"short\", \"max_trip_hrs\": 0.83, \"max_trip_route_group\": 0.83, \"name\": \"Kern County\", \"caltrans_district\": \"06 - Fresno\", \"drmt_organization_name\": null, \"cutoff2\": 12.45, \"cutoff\": 0}, {\"calitp_itp_id\": 146, \"trip_key\": 6588636468876049749, \"trip_id\": \"t_1244360_b_33402_tn_0\", \"shape_id\": \"p_3043\", \"route_id\": \"1366\", \"service_hours\": 0.83, \"trip_first_departure_ts\": 33600, \"trip_last_arrival_ts\": 36600, \"departure_hour\": 9, \"time_of_day\": \"AM Peak\", \"p25\": 0.83, \"p50\": 0.83, \"p75\": 0.83, \"p50_trip\": 1, \"fastest_trip\": 0, \"car_duration_hours\": 0.61, \"competitive_route\": 1, \"bus_multiplier\": 1.36, \"bus_difference\": 13.2, \"num_trips\": 8, \"num_competitive\": 8, \"pct_trips_competitive\": 1.0, \"bus_difference_spread\": 0.0, \"route_group\": \"short\", \"max_trip_hrs\": 0.83, \"max_trip_route_group\": 0.83, \"name\": \"Kern County\", \"caltrans_district\": \"06 - Fresno\", \"drmt_organization_name\": null, \"cutoff2\": 12.45, \"cutoff\": 0}, {\"calitp_itp_id\": 146, \"trip_key\": 5172112710181939388, \"trip_id\": \"t_1244359_b_33402_tn_0\", \"shape_id\": \"p_3043\", \"route_id\": \"1366\", \"service_hours\": 0.83, \"trip_first_departure_ts\": 49800, \"trip_last_arrival_ts\": 52800, \"departure_hour\": 13, \"time_of_day\": \"Midday\", \"p25\": 0.83, \"p50\": 0.83, \"p75\": 0.83, \"p50_trip\": 1, \"fastest_trip\": 0, \"car_duration_hours\": 0.61, \"competitive_route\": 1, \"bus_multiplier\": 1.36, \"bus_difference\": 13.2, \"num_trips\": 8, \"num_competitive\": 8, \"pct_trips_competitive\": 1.0, \"bus_difference_spread\": 0.0, \"route_group\": \"short\", \"max_trip_hrs\": 0.83, \"max_trip_route_group\": 0.83, \"name\": \"Kern County\", \"caltrans_district\": \"06 - Fresno\", \"drmt_organization_name\": null, \"cutoff2\": 12.45, \"cutoff\": 0}, {\"calitp_itp_id\": 146, \"trip_key\": -4591111831172938466, \"trip_id\": \"t_1244362_b_33402_tn_0\", \"shape_id\": \"p_3081\", \"route_id\": \"1366\", \"service_hours\": 0.83, \"trip_first_departure_ts\": 45900, \"trip_last_arrival_ts\": 48900, \"departure_hour\": 12, \"time_of_day\": \"Midday\", \"p25\": 0.83, \"p50\": 0.83, \"p75\": 0.83, \"p50_trip\": 1, \"fastest_trip\": 0, \"car_duration_hours\": 0.61, \"competitive_route\": 1, \"bus_multiplier\": 1.36, \"bus_difference\": 13.2, \"num_trips\": 8, \"num_competitive\": 8, \"pct_trips_competitive\": 1.0, \"bus_difference_spread\": 0.0, \"route_group\": \"short\", \"max_trip_hrs\": 0.83, \"max_trip_route_group\": 0.83, \"name\": \"Kern County\", \"caltrans_district\": \"06 - Fresno\", \"drmt_organization_name\": null, \"cutoff2\": 12.45, \"cutoff\": 0}, {\"calitp_itp_id\": 146, \"trip_key\": -4526751177031150232, \"trip_id\": \"t_1244354_b_33402_tn_0\", \"shape_id\": \"p_3081\", \"route_id\": \"1366\", \"service_hours\": 0.83, \"trip_first_departure_ts\": 27900, \"trip_last_arrival_ts\": 30900, \"departure_hour\": 7, \"time_of_day\": \"AM Peak\", \"p25\": 0.83, \"p50\": 0.83, \"p75\": 0.83, \"p50_trip\": 1, \"fastest_trip\": 0, \"car_duration_hours\": 0.61, \"competitive_route\": 1, \"bus_multiplier\": 1.36, \"bus_difference\": 13.2, \"num_trips\": 8, \"num_competitive\": 8, \"pct_trips_competitive\": 1.0, \"bus_difference_spread\": 0.0, \"route_group\": \"short\", \"max_trip_hrs\": 0.83, \"max_trip_route_group\": 0.83, \"name\": \"Kern County\", \"caltrans_district\": \"06 - Fresno\", \"drmt_organization_name\": null, \"cutoff2\": 12.45, \"cutoff\": 0}, {\"calitp_itp_id\": 146, \"trip_key\": 8294262901469549474, \"trip_id\": \"t_1244357_b_33402_tn_0\", \"shape_id\": \"p_3043\", \"route_id\": \"1366\", \"service_hours\": 0.83, \"trip_first_departure_ts\": 59100, \"trip_last_arrival_ts\": 62100, \"departure_hour\": 16, \"time_of_day\": \"Midday\", \"p25\": 0.83, \"p50\": 0.83, \"p75\": 0.83, \"p50_trip\": 1, \"fastest_trip\": 0, \"car_duration_hours\": 0.61, \"competitive_route\": 1, \"bus_multiplier\": 1.36, \"bus_difference\": 13.2, \"num_trips\": 8, \"num_competitive\": 8, \"pct_trips_competitive\": 1.0, \"bus_difference_spread\": 0.0, \"route_group\": \"short\", \"max_trip_hrs\": 0.83, \"max_trip_route_group\": 0.83, \"name\": \"Kern County\", \"caltrans_district\": \"06 - Fresno\", \"drmt_organization_name\": null, \"cutoff2\": 12.45, \"cutoff\": 0}, {\"calitp_itp_id\": 146, \"trip_key\": -5170283710749819067, \"trip_id\": \"t_1244358_b_33402_tn_0\", \"shape_id\": \"p_3081\", \"route_id\": \"1366\", \"service_hours\": 0.83, \"trip_first_departure_ts\": 53700, \"trip_last_arrival_ts\": 56700, \"departure_hour\": 14, \"time_of_day\": \"Midday\", \"p25\": 0.83, \"p50\": 0.83, \"p75\": 0.83, \"p50_trip\": 1, \"fastest_trip\": 0, \"car_duration_hours\": 0.61, \"competitive_route\": 1, \"bus_multiplier\": 1.36, \"bus_difference\": 13.2, \"num_trips\": 8, \"num_competitive\": 8, \"pct_trips_competitive\": 1.0, \"bus_difference_spread\": 0.0, \"route_group\": \"short\", \"max_trip_hrs\": 0.83, \"max_trip_route_group\": 0.83, \"name\": \"Kern County\", \"caltrans_district\": \"06 - Fresno\", \"drmt_organization_name\": null, \"cutoff2\": 12.45, \"cutoff\": 0}, {\"calitp_itp_id\": 146, \"trip_key\": -7985887285849281878, \"trip_id\": \"t_2003617_b_33402_tn_0\", \"shape_id\": \"p_3043\", \"route_id\": \"1366\", \"service_hours\": 0.83, \"trip_first_departure_ts\": 66600, \"trip_last_arrival_ts\": 69600, \"departure_hour\": 18, \"time_of_day\": \"PM Peak\", \"p25\": 0.83, \"p50\": 0.83, \"p75\": 0.83, \"p50_trip\": 1, \"fastest_trip\": 1, \"car_duration_hours\": 0.61, \"competitive_route\": 1, \"bus_multiplier\": 1.36, \"bus_difference\": 13.2, \"num_trips\": 8, \"num_competitive\": 8, \"pct_trips_competitive\": 1.0, \"bus_difference_spread\": 0.0, \"route_group\": \"short\", \"max_trip_hrs\": 0.83, \"max_trip_route_group\": 0.83, \"name\": \"Kern County\", \"caltrans_district\": \"06 - Fresno\", \"drmt_organization_name\": null, \"cutoff2\": 12.45, \"cutoff\": 0}]}}, {\"mode\": \"vega-lite\"});\n",
       "</script>"
      ],
      "text/plain": [
       "alt.FacetChart(...)"
      ]
     },
     "metadata": {},
     "output_type": "display_data"
    }
   ],
   "source": [
    "# Allow for possibility that operator doesn't have routes that fall into certain route_groups\n",
    "# But, jupyterbook will not like markdown with f-string\n",
    "# separate out route_group and put in each cell, and use try/except + if to display...\n",
    "# but all 3 route groups must be displayed. just add sentence about why no routes were returned at the end\n",
    "route_group = \"short\"\n",
    "try:\n",
    "    subset_routes, mult, diff  = setup_charts(df, PCT_COMPETITIVE_THRESHOLD, route_group)\n",
    "    \n",
    "    if len(subset_routes) > 0:\n",
    "        display(\n",
    "            Markdown(\n",
    "                f\"{CAPTIONS_DICT[route_group]}\"\n",
    "                \"Within each route group, routes are sorted in descending order \"\n",
    "                \"by % competitive trips and # trips below the additional time cut-off.\"\n",
    "            )\n",
    "        )\n",
    "\n",
    "        display(mult)\n",
    "        display(diff)\n",
    "except:\n",
    "    print(\"No routes meet this criteria.\")"
   ]
  },
  {
   "cell_type": "markdown",
   "id": "c2931b6f-034d-4384-9e14-80b925e3b820",
   "metadata": {
    "papermill": {
     "duration": 0.014146,
     "end_time": "2022-05-07T17:15:19.160405",
     "exception": false,
     "start_time": "2022-05-07T17:15:19.146259",
     "status": "completed"
    },
    "tags": []
   },
   "source": [
    "### Medium Routes (1-1.5 hrs)"
   ]
  },
  {
   "cell_type": "code",
   "execution_count": 13,
   "id": "480edddc-4de0-48c2-ae4c-b0ceef8f28b5",
   "metadata": {
    "execution": {
     "iopub.execute_input": "2022-05-07T17:15:19.189601Z",
     "iopub.status.busy": "2022-05-07T17:15:19.189108Z",
     "iopub.status.idle": "2022-05-07T17:15:19.435692Z",
     "shell.execute_reply": "2022-05-07T17:15:19.434886Z"
    },
    "jupyter": {
     "source_hidden": true
    },
    "papermill": {
     "duration": 0.264288,
     "end_time": "2022-05-07T17:15:19.437848",
     "exception": false,
     "start_time": "2022-05-07T17:15:19.173560",
     "status": "completed"
    },
    "tags": [
     "remove_input"
    ]
   },
   "outputs": [
    {
     "data": {
      "text/markdown": [
       "<br>These are routes that have at least 25% of their trips take no more than an additional 30 min compared to a car (up to 15 routes) are shown.Within each route group, routes are sorted in descending order by % competitive trips and # trips below the additional time cut-off."
      ],
      "text/plain": [
       "<IPython.core.display.Markdown object>"
      ]
     },
     "metadata": {},
     "output_type": "display_data"
    },
    {
     "data": {
      "text/html": [
       "\n",
       "<div id=\"altair-viz-ee48ad5b94f0422ebc6bf29b215b6182\"></div>\n",
       "<script type=\"text/javascript\">\n",
       "  var VEGA_DEBUG = (typeof VEGA_DEBUG == \"undefined\") ? {} : VEGA_DEBUG;\n",
       "  (function(spec, embedOpt){\n",
       "    let outputDiv = document.currentScript.previousElementSibling;\n",
       "    if (outputDiv.id !== \"altair-viz-ee48ad5b94f0422ebc6bf29b215b6182\") {\n",
       "      outputDiv = document.getElementById(\"altair-viz-ee48ad5b94f0422ebc6bf29b215b6182\");\n",
       "    }\n",
       "    const paths = {\n",
       "      \"vega\": \"https://cdn.jsdelivr.net/npm//vega@5?noext\",\n",
       "      \"vega-lib\": \"https://cdn.jsdelivr.net/npm//vega-lib?noext\",\n",
       "      \"vega-lite\": \"https://cdn.jsdelivr.net/npm//vega-lite@4.17.0?noext\",\n",
       "      \"vega-embed\": \"https://cdn.jsdelivr.net/npm//vega-embed@6?noext\",\n",
       "    };\n",
       "\n",
       "    function maybeLoadScript(lib, version) {\n",
       "      var key = `${lib.replace(\"-\", \"\")}_version`;\n",
       "      return (VEGA_DEBUG[key] == version) ?\n",
       "        Promise.resolve(paths[lib]) :\n",
       "        new Promise(function(resolve, reject) {\n",
       "          var s = document.createElement('script');\n",
       "          document.getElementsByTagName(\"head\")[0].appendChild(s);\n",
       "          s.async = true;\n",
       "          s.onload = () => {\n",
       "            VEGA_DEBUG[key] = version;\n",
       "            return resolve(paths[lib]);\n",
       "          };\n",
       "          s.onerror = () => reject(`Error loading script: ${paths[lib]}`);\n",
       "          s.src = paths[lib];\n",
       "        });\n",
       "    }\n",
       "\n",
       "    function showError(err) {\n",
       "      outputDiv.innerHTML = `<div class=\"error\" style=\"color:red;\">${err}</div>`;\n",
       "      throw err;\n",
       "    }\n",
       "\n",
       "    function displayChart(vegaEmbed) {\n",
       "      vegaEmbed(outputDiv, spec, embedOpt)\n",
       "        .catch(err => showError(`Javascript Error: ${err.message}<br>This usually means there's a typo in your chart specification. See the javascript console for the full traceback.`));\n",
       "    }\n",
       "\n",
       "    if(typeof define === \"function\" && define.amd) {\n",
       "      requirejs.config({paths});\n",
       "      require([\"vega-embed\"], displayChart, err => showError(`Error loading script: ${err.message}`));\n",
       "    } else {\n",
       "      maybeLoadScript(\"vega\", \"5\")\n",
       "        .then(() => maybeLoadScript(\"vega-lite\", \"4.17.0\"))\n",
       "        .then(() => maybeLoadScript(\"vega-embed\", \"6\"))\n",
       "        .catch(showError)\n",
       "        .then(() => displayChart(vegaEmbed));\n",
       "    }\n",
       "  })({\"config\": {\"view\": {\"continuousWidth\": 400, \"continuousHeight\": 300, \"stroke\": null}, \"facet\": {\"spacing\": 0}}, \"data\": {\"name\": \"data-c781606b54b657be4a36895546bd8471\"}, \"facet\": {\"column\": {\"field\": \"route_id\", \"sort\": [\"1163\", \"1368\"], \"title\": \"Route ID\", \"type\": \"nominal\"}}, \"spec\": {\"layer\": [{\"mark\": {\"type\": \"point\", \"opacity\": 0.65, \"size\": 12, \"strokeWidth\": 1.1}, \"encoding\": {\"color\": {\"field\": \"time_of_day\", \"scale\": {\"range\": [\"#136C97\", \"#E16B26\", \"#F6BF16\", \"#00896B\", \"#7790A3\", \"#5B559C\"]}, \"sort\": [\"AM Peak\", \"Midday\", \"PM Peak\", \"Owl Service\"], \"title\": \"Time of Day\", \"type\": \"nominal\"}, \"tooltip\": [{\"field\": \"route_id\", \"type\": \"nominal\"}, {\"field\": \"trip_id\", \"type\": \"nominal\"}, {\"field\": \"service_hours\", \"type\": \"quantitative\"}, {\"field\": \"car_duration_hours\", \"type\": \"quantitative\"}, {\"field\": \"bus_multiplier\", \"type\": \"quantitative\"}, {\"field\": \"bus_difference\", \"type\": \"quantitative\"}, {\"field\": \"num_trips\", \"type\": \"quantitative\"}, {\"field\": \"num_competitive\", \"type\": \"quantitative\"}, {\"field\": \"pct_trips_competitive\", \"type\": \"quantitative\"}, {\"field\": \"p25\", \"type\": \"quantitative\"}, {\"field\": \"p50\", \"type\": \"quantitative\"}, {\"field\": \"p75\", \"type\": \"quantitative\"}], \"x\": {\"axis\": {\"grid\": false, \"labels\": false, \"ticks\": true, \"values\": [0]}, \"field\": \"jitter\", \"scale\": {}, \"title\": null, \"type\": \"quantitative\"}, \"y\": {\"field\": \"bus_multiplier\", \"scale\": {\"domain\": [-0.25, 2.5]}, \"title\": \"Ratio of Bus to Car Travel Time\", \"type\": \"quantitative\"}}, \"selection\": {\"selector003\": {\"type\": \"interval\", \"bind\": \"scales\", \"encodings\": [\"x\", \"y\"]}}, \"transform\": [{\"calculate\": \"sqrt(-2*log(random()))*cos(2*PI*random())\", \"as\": \"jitter\"}], \"width\": 60}, {\"layer\": [{\"mark\": {\"type\": \"point\", \"opacity\": 0.6, \"size\": 20, \"strokeWidth\": 1.3}, \"encoding\": {\"color\": {\"value\": \"#323434\"}, \"y\": {\"field\": \"bus_multiplier\", \"type\": \"quantitative\"}}, \"transform\": [{\"filter\": \"(datum.p50_trip === 1)\"}]}, {\"mark\": {\"type\": \"rule\", \"strokeDash\": [2, 3]}, \"encoding\": {\"color\": {\"value\": \"#323434\"}, \"y\": {\"field\": \"cutoff\", \"type\": \"quantitative\"}}}, {\"mark\": {\"type\": \"text\", \"align\": \"center\", \"baseline\": \"middle\"}, \"encoding\": {\"color\": {\"value\": \"black\"}, \"text\": {\"field\": \"pct_trips_competitive\", \"format\": \".0%\", \"type\": \"quantitative\"}, \"tooltip\": [{\"field\": \"route_id\", \"type\": \"nominal\"}, {\"field\": \"trip_id\", \"type\": \"nominal\"}, {\"field\": \"service_hours\", \"type\": \"quantitative\"}, {\"field\": \"car_duration_hours\", \"type\": \"quantitative\"}, {\"field\": \"bus_multiplier\", \"type\": \"quantitative\"}, {\"field\": \"bus_difference\", \"type\": \"quantitative\"}, {\"field\": \"num_trips\", \"type\": \"quantitative\"}, {\"field\": \"num_competitive\", \"type\": \"quantitative\"}, {\"field\": \"pct_trips_competitive\", \"type\": \"quantitative\"}, {\"field\": \"p25\", \"type\": \"quantitative\"}, {\"field\": \"p50\", \"type\": \"quantitative\"}, {\"field\": \"p75\", \"type\": \"quantitative\"}], \"x\": {\"value\": 30}, \"y\": {\"value\": 15}}, \"transform\": [{\"calculate\": \"sqrt(-2*log(random()))*cos(2*PI*random())\", \"as\": \"jitter\"}, {\"filter\": \"(datum.fastest_trip === 1)\"}]}]}]}, \"resolve\": {\"scale\": {\"y\": \"shared\"}}, \"title\": \"Ratio of Bus to Car Travel Time\", \"$schema\": \"https://vega.github.io/schema/vega-lite/v4.17.0.json\", \"datasets\": {\"data-c781606b54b657be4a36895546bd8471\": [{\"calitp_itp_id\": 146, \"trip_key\": 5211490308251541962, \"trip_id\": \"t_2002771_b_33402_tn_0\", \"shape_id\": \"p_3036\", \"route_id\": \"1163\", \"service_hours\": 1.08, \"trip_first_departure_ts\": 75600, \"trip_last_arrival_ts\": 79500, \"departure_hour\": 21, \"time_of_day\": \"Owl Service\", \"p25\": 1.25, \"p50\": 1.25, \"p75\": 1.33, \"p50_trip\": 0, \"fastest_trip\": 1, \"car_duration_hours\": 0.96, \"competitive_route\": 1, \"bus_multiplier\": 1.13, \"bus_difference\": 7.2, \"num_trips\": 13, \"num_competitive\": 13, \"pct_trips_competitive\": 1.0, \"bus_difference_spread\": 15.0, \"route_group\": \"medium\", \"max_trip_hrs\": 1.33, \"max_trip_route_group\": 1.45, \"name\": \"Kern County\", \"caltrans_district\": \"06 - Fresno\", \"drmt_organization_name\": null, \"cutoff2\": 21.75, \"cutoff\": 2}, {\"calitp_itp_id\": 146, \"trip_key\": 6782577905836505620, \"trip_id\": \"t_2002770_b_33402_tn_0\", \"shape_id\": \"p_3036\", \"route_id\": \"1163\", \"service_hours\": 1.08, \"trip_first_departure_ts\": 72000, \"trip_last_arrival_ts\": 75900, \"departure_hour\": 20, \"time_of_day\": \"Owl Service\", \"p25\": 1.25, \"p50\": 1.25, \"p75\": 1.33, \"p50_trip\": 0, \"fastest_trip\": 0, \"car_duration_hours\": 0.96, \"competitive_route\": 1, \"bus_multiplier\": 1.13, \"bus_difference\": 7.2, \"num_trips\": 13, \"num_competitive\": 13, \"pct_trips_competitive\": 1.0, \"bus_difference_spread\": 15.0, \"route_group\": \"medium\", \"max_trip_hrs\": 1.33, \"max_trip_route_group\": 1.45, \"name\": \"Kern County\", \"caltrans_district\": \"06 - Fresno\", \"drmt_organization_name\": null, \"cutoff2\": 21.75, \"cutoff\": 2}, {\"calitp_itp_id\": 146, \"trip_key\": -6591421217914379953, \"trip_id\": \"t_559714_b_33402_tn_0\", \"shape_id\": \"p_3013\", \"route_id\": \"1163\", \"service_hours\": 1.12, \"trip_first_departure_ts\": 21000, \"trip_last_arrival_ts\": 25020, \"departure_hour\": 5, \"time_of_day\": \"Owl Service\", \"p25\": 1.25, \"p50\": 1.25, \"p75\": 1.33, \"p50_trip\": 0, \"fastest_trip\": 0, \"car_duration_hours\": 0.96, \"competitive_route\": 1, \"bus_multiplier\": 1.17, \"bus_difference\": 9.6, \"num_trips\": 13, \"num_competitive\": 13, \"pct_trips_competitive\": 1.0, \"bus_difference_spread\": 15.0, \"route_group\": \"medium\", \"max_trip_hrs\": 1.33, \"max_trip_route_group\": 1.45, \"name\": \"Kern County\", \"caltrans_district\": \"06 - Fresno\", \"drmt_organization_name\": null, \"cutoff2\": 21.75, \"cutoff\": 2}, {\"calitp_itp_id\": 146, \"trip_key\": 4295720859202590599, \"trip_id\": \"t_2002779_b_33402_tn_0\", \"shape_id\": \"p_3034\", \"route_id\": \"1163\", \"service_hours\": 1.25, \"trip_first_departure_ts\": 39600, \"trip_last_arrival_ts\": 44100, \"departure_hour\": 11, \"time_of_day\": \"Midday\", \"p25\": 1.25, \"p50\": 1.25, \"p75\": 1.33, \"p50_trip\": 1, \"fastest_trip\": 0, \"car_duration_hours\": 0.96, \"competitive_route\": 1, \"bus_multiplier\": 1.3, \"bus_difference\": 17.4, \"num_trips\": 13, \"num_competitive\": 13, \"pct_trips_competitive\": 1.0, \"bus_difference_spread\": 15.0, \"route_group\": \"medium\", \"max_trip_hrs\": 1.33, \"max_trip_route_group\": 1.45, \"name\": \"Kern County\", \"caltrans_district\": \"06 - Fresno\", \"drmt_organization_name\": null, \"cutoff2\": 21.75, \"cutoff\": 2}, {\"calitp_itp_id\": 146, \"trip_key\": 1567663730242643159, \"trip_id\": \"t_2002778_b_33402_tn_0\", \"shape_id\": \"p_3034\", \"route_id\": \"1163\", \"service_hours\": 1.25, \"trip_first_departure_ts\": 26400, \"trip_last_arrival_ts\": 30900, \"departure_hour\": 7, \"time_of_day\": \"AM Peak\", \"p25\": 1.25, \"p50\": 1.25, \"p75\": 1.33, \"p50_trip\": 1, \"fastest_trip\": 0, \"car_duration_hours\": 0.96, \"competitive_route\": 1, \"bus_multiplier\": 1.3, \"bus_difference\": 17.4, \"num_trips\": 13, \"num_competitive\": 13, \"pct_trips_competitive\": 1.0, \"bus_difference_spread\": 15.0, \"route_group\": \"medium\", \"max_trip_hrs\": 1.33, \"max_trip_route_group\": 1.45, \"name\": \"Kern County\", \"caltrans_district\": \"06 - Fresno\", \"drmt_organization_name\": null, \"cutoff2\": 21.75, \"cutoff\": 2}, {\"calitp_itp_id\": 146, \"trip_key\": 8162709824957433861, \"trip_id\": \"t_2002776_b_33402_tn_0\", \"shape_id\": \"p_3034\", \"route_id\": \"1163\", \"service_hours\": 1.25, \"trip_first_departure_ts\": 60300, \"trip_last_arrival_ts\": 64800, \"departure_hour\": 16, \"time_of_day\": \"Midday\", \"p25\": 1.25, \"p50\": 1.25, \"p75\": 1.33, \"p50_trip\": 1, \"fastest_trip\": 0, \"car_duration_hours\": 0.96, \"competitive_route\": 1, \"bus_multiplier\": 1.3, \"bus_difference\": 17.4, \"num_trips\": 13, \"num_competitive\": 13, \"pct_trips_competitive\": 1.0, \"bus_difference_spread\": 15.0, \"route_group\": \"medium\", \"max_trip_hrs\": 1.33, \"max_trip_route_group\": 1.45, \"name\": \"Kern County\", \"caltrans_district\": \"06 - Fresno\", \"drmt_organization_name\": null, \"cutoff2\": 21.75, \"cutoff\": 2}, {\"calitp_itp_id\": 146, \"trip_key\": 6060769906077123396, \"trip_id\": \"t_2002772_b_33402_tn_0\", \"shape_id\": \"p_3034\", \"route_id\": \"1163\", \"service_hours\": 1.25, \"trip_first_departure_ts\": 53700, \"trip_last_arrival_ts\": 58200, \"departure_hour\": 14, \"time_of_day\": \"Midday\", \"p25\": 1.25, \"p50\": 1.25, \"p75\": 1.33, \"p50_trip\": 1, \"fastest_trip\": 0, \"car_duration_hours\": 0.96, \"competitive_route\": 1, \"bus_multiplier\": 1.3, \"bus_difference\": 17.4, \"num_trips\": 13, \"num_competitive\": 13, \"pct_trips_competitive\": 1.0, \"bus_difference_spread\": 15.0, \"route_group\": \"medium\", \"max_trip_hrs\": 1.33, \"max_trip_route_group\": 1.45, \"name\": \"Kern County\", \"caltrans_district\": \"06 - Fresno\", \"drmt_organization_name\": null, \"cutoff2\": 21.75, \"cutoff\": 2}, {\"calitp_itp_id\": 146, \"trip_key\": 3260627009146915986, \"trip_id\": \"t_2002787_b_33402_tn_0\", \"shape_id\": \"p_3034\", \"route_id\": \"1163\", \"service_hours\": 1.25, \"trip_first_departure_ts\": 65700, \"trip_last_arrival_ts\": 70200, \"departure_hour\": 18, \"time_of_day\": \"PM Peak\", \"p25\": 1.25, \"p50\": 1.25, \"p75\": 1.33, \"p50_trip\": 1, \"fastest_trip\": 0, \"car_duration_hours\": 0.96, \"competitive_route\": 1, \"bus_multiplier\": 1.3, \"bus_difference\": 17.4, \"num_trips\": 13, \"num_competitive\": 13, \"pct_trips_competitive\": 1.0, \"bus_difference_spread\": 15.0, \"route_group\": \"medium\", \"max_trip_hrs\": 1.33, \"max_trip_route_group\": 1.45, \"name\": \"Kern County\", \"caltrans_district\": \"06 - Fresno\", \"drmt_organization_name\": null, \"cutoff2\": 21.75, \"cutoff\": 2}, {\"calitp_itp_id\": 146, \"trip_key\": 5015425223725740371, \"trip_id\": \"t_2002775_b_33402_tn_0\", \"shape_id\": \"p_3013\", \"route_id\": \"1163\", \"service_hours\": 1.33, \"trip_first_departure_ts\": 54000, \"trip_last_arrival_ts\": 58800, \"departure_hour\": 15, \"time_of_day\": \"Midday\", \"p25\": 1.25, \"p50\": 1.25, \"p75\": 1.33, \"p50_trip\": 0, \"fastest_trip\": 0, \"car_duration_hours\": 0.96, \"competitive_route\": 1, \"bus_multiplier\": 1.39, \"bus_difference\": 22.2, \"num_trips\": 13, \"num_competitive\": 13, \"pct_trips_competitive\": 1.0, \"bus_difference_spread\": 15.0, \"route_group\": \"medium\", \"max_trip_hrs\": 1.33, \"max_trip_route_group\": 1.45, \"name\": \"Kern County\", \"caltrans_district\": \"06 - Fresno\", \"drmt_organization_name\": null, \"cutoff2\": 21.75, \"cutoff\": 2}, {\"calitp_itp_id\": 146, \"trip_key\": -7388566199753428065, \"trip_id\": \"t_2002807_b_33402_tn_0\", \"shape_id\": \"p_3013\", \"route_id\": \"1163\", \"service_hours\": 1.33, \"trip_first_departure_ts\": 34200, \"trip_last_arrival_ts\": 39000, \"departure_hour\": 9, \"time_of_day\": \"AM Peak\", \"p25\": 1.25, \"p50\": 1.25, \"p75\": 1.33, \"p50_trip\": 0, \"fastest_trip\": 0, \"car_duration_hours\": 0.96, \"competitive_route\": 1, \"bus_multiplier\": 1.39, \"bus_difference\": 22.2, \"num_trips\": 13, \"num_competitive\": 13, \"pct_trips_competitive\": 1.0, \"bus_difference_spread\": 15.0, \"route_group\": \"medium\", \"max_trip_hrs\": 1.33, \"max_trip_route_group\": 1.45, \"name\": \"Kern County\", \"caltrans_district\": \"06 - Fresno\", \"drmt_organization_name\": null, \"cutoff2\": 21.75, \"cutoff\": 2}, {\"calitp_itp_id\": 146, \"trip_key\": 1987559820588106096, \"trip_id\": \"t_2002777_b_33402_tn_0\", \"shape_id\": \"p_3013\", \"route_id\": \"1163\", \"service_hours\": 1.33, \"trip_first_departure_ts\": 66600, \"trip_last_arrival_ts\": 71400, \"departure_hour\": 18, \"time_of_day\": \"PM Peak\", \"p25\": 1.25, \"p50\": 1.25, \"p75\": 1.33, \"p50_trip\": 0, \"fastest_trip\": 0, \"car_duration_hours\": 0.96, \"competitive_route\": 1, \"bus_multiplier\": 1.39, \"bus_difference\": 22.2, \"num_trips\": 13, \"num_competitive\": 13, \"pct_trips_competitive\": 1.0, \"bus_difference_spread\": 15.0, \"route_group\": \"medium\", \"max_trip_hrs\": 1.33, \"max_trip_route_group\": 1.45, \"name\": \"Kern County\", \"caltrans_district\": \"06 - Fresno\", \"drmt_organization_name\": null, \"cutoff2\": 21.75, \"cutoff\": 2}, {\"calitp_itp_id\": 146, \"trip_key\": -1052382042662736337, \"trip_id\": \"t_559741_b_33402_tn_0\", \"shape_id\": \"p_3013\", \"route_id\": \"1163\", \"service_hours\": 1.33, \"trip_first_departure_ts\": 59400, \"trip_last_arrival_ts\": 64200, \"departure_hour\": 16, \"time_of_day\": \"Midday\", \"p25\": 1.25, \"p50\": 1.25, \"p75\": 1.33, \"p50_trip\": 0, \"fastest_trip\": 0, \"car_duration_hours\": 0.96, \"competitive_route\": 1, \"bus_multiplier\": 1.39, \"bus_difference\": 22.2, \"num_trips\": 13, \"num_competitive\": 13, \"pct_trips_competitive\": 1.0, \"bus_difference_spread\": 15.0, \"route_group\": \"medium\", \"max_trip_hrs\": 1.33, \"max_trip_route_group\": 1.45, \"name\": \"Kern County\", \"caltrans_district\": \"06 - Fresno\", \"drmt_organization_name\": null, \"cutoff2\": 21.75, \"cutoff\": 2}, {\"calitp_itp_id\": 146, \"trip_key\": 1418610618519928346, \"trip_id\": \"t_559598_b_33402_tn_0\", \"shape_id\": \"p_3013\", \"route_id\": \"1163\", \"service_hours\": 1.33, \"trip_first_departure_ts\": 46800, \"trip_last_arrival_ts\": 51600, \"departure_hour\": 13, \"time_of_day\": \"Midday\", \"p25\": 1.25, \"p50\": 1.25, \"p75\": 1.33, \"p50_trip\": 0, \"fastest_trip\": 0, \"car_duration_hours\": 0.96, \"competitive_route\": 1, \"bus_multiplier\": 1.39, \"bus_difference\": 22.2, \"num_trips\": 13, \"num_competitive\": 13, \"pct_trips_competitive\": 1.0, \"bus_difference_spread\": 15.0, \"route_group\": \"medium\", \"max_trip_hrs\": 1.33, \"max_trip_route_group\": 1.45, \"name\": \"Kern County\", \"caltrans_district\": \"06 - Fresno\", \"drmt_organization_name\": null, \"cutoff2\": 21.75, \"cutoff\": 2}, {\"calitp_itp_id\": 146, \"trip_key\": 6856244579133650254, \"trip_id\": \"t_1000771_b_33402_tn_0\", \"shape_id\": \"p_3017\", \"route_id\": \"1368\", \"service_hours\": 1.08, \"trip_first_departure_ts\": 27600, \"trip_last_arrival_ts\": 31500, \"departure_hour\": 7, \"time_of_day\": \"AM Peak\", \"p25\": 1.3975, \"p50\": 1.42, \"p75\": 1.43, \"p50_trip\": 0, \"fastest_trip\": 1, \"car_duration_hours\": 0.86, \"competitive_route\": 1, \"bus_multiplier\": 1.26, \"bus_difference\": 13.2, \"num_trips\": 8, \"num_competitive\": 8, \"pct_trips_competitive\": 1.0, \"bus_difference_spread\": 21.0, \"route_group\": \"medium\", \"max_trip_hrs\": 1.43, \"max_trip_route_group\": 1.45, \"name\": \"Kern County\", \"caltrans_district\": \"06 - Fresno\", \"drmt_organization_name\": null, \"cutoff2\": 21.75, \"cutoff\": 2}, {\"calitp_itp_id\": 146, \"trip_key\": -534718886449455652, \"trip_id\": \"t_1000772_b_33402_tn_0\", \"shape_id\": \"p_899217\", \"route_id\": \"1368\", \"service_hours\": 1.33, \"trip_first_departure_ts\": 21600, \"trip_last_arrival_ts\": 26400, \"departure_hour\": 6, \"time_of_day\": \"Owl Service\", \"p25\": 1.3975, \"p50\": 1.42, \"p75\": 1.43, \"p50_trip\": 0, \"fastest_trip\": 0, \"car_duration_hours\": 0.86, \"competitive_route\": 1, \"bus_multiplier\": 1.55, \"bus_difference\": 28.2, \"num_trips\": 8, \"num_competitive\": 8, \"pct_trips_competitive\": 1.0, \"bus_difference_spread\": 21.0, \"route_group\": \"medium\", \"max_trip_hrs\": 1.43, \"max_trip_route_group\": 1.45, \"name\": \"Kern County\", \"caltrans_district\": \"06 - Fresno\", \"drmt_organization_name\": null, \"cutoff2\": 21.75, \"cutoff\": 2}, {\"calitp_itp_id\": 146, \"trip_key\": 1139510109855465168, \"trip_id\": \"t_1000770_b_33402_tn_0\", \"shape_id\": \"p_3079\", \"route_id\": \"1368\", \"service_hours\": 1.42, \"trip_first_departure_ts\": 35100, \"trip_last_arrival_ts\": 40200, \"departure_hour\": 9, \"time_of_day\": \"AM Peak\", \"p25\": 1.3975, \"p50\": 1.42, \"p75\": 1.43, \"p50_trip\": 1, \"fastest_trip\": 0, \"car_duration_hours\": 0.86, \"competitive_route\": 1, \"bus_multiplier\": 1.65, \"bus_difference\": 33.6, \"num_trips\": 8, \"num_competitive\": 8, \"pct_trips_competitive\": 1.0, \"bus_difference_spread\": 21.0, \"route_group\": \"medium\", \"max_trip_hrs\": 1.43, \"max_trip_route_group\": 1.45, \"name\": \"Kern County\", \"caltrans_district\": \"06 - Fresno\", \"drmt_organization_name\": null, \"cutoff2\": 21.75, \"cutoff\": 2}, {\"calitp_itp_id\": 146, \"trip_key\": 2119666496098928337, \"trip_id\": \"t_1000773_b_33402_tn_0\", \"shape_id\": \"p_3079\", \"route_id\": \"1368\", \"service_hours\": 1.42, \"trip_first_departure_ts\": 42300, \"trip_last_arrival_ts\": 47400, \"departure_hour\": 11, \"time_of_day\": \"Midday\", \"p25\": 1.3975, \"p50\": 1.42, \"p75\": 1.43, \"p50_trip\": 1, \"fastest_trip\": 0, \"car_duration_hours\": 0.86, \"competitive_route\": 1, \"bus_multiplier\": 1.65, \"bus_difference\": 33.6, \"num_trips\": 8, \"num_competitive\": 8, \"pct_trips_competitive\": 1.0, \"bus_difference_spread\": 21.0, \"route_group\": \"medium\", \"max_trip_hrs\": 1.43, \"max_trip_route_group\": 1.45, \"name\": \"Kern County\", \"caltrans_district\": \"06 - Fresno\", \"drmt_organization_name\": null, \"cutoff2\": 21.75, \"cutoff\": 2}, {\"calitp_itp_id\": 146, \"trip_key\": 5438637202440934147, \"trip_id\": \"t_1000767_b_33402_tn_0\", \"shape_id\": \"p_3079\", \"route_id\": \"1368\", \"service_hours\": 1.42, \"trip_first_departure_ts\": 57900, \"trip_last_arrival_ts\": 63000, \"departure_hour\": 16, \"time_of_day\": \"Midday\", \"p25\": 1.3975, \"p50\": 1.42, \"p75\": 1.43, \"p50_trip\": 1, \"fastest_trip\": 0, \"car_duration_hours\": 0.86, \"competitive_route\": 1, \"bus_multiplier\": 1.65, \"bus_difference\": 33.6, \"num_trips\": 8, \"num_competitive\": 8, \"pct_trips_competitive\": 1.0, \"bus_difference_spread\": 21.0, \"route_group\": \"medium\", \"max_trip_hrs\": 1.43, \"max_trip_route_group\": 1.45, \"name\": \"Kern County\", \"caltrans_district\": \"06 - Fresno\", \"drmt_organization_name\": null, \"cutoff2\": 21.75, \"cutoff\": 2}, {\"calitp_itp_id\": 146, \"trip_key\": -6187649095625325395, \"trip_id\": \"t_1000769_b_33402_tn_0\", \"shape_id\": \"p_3019\", \"route_id\": \"1368\", \"service_hours\": 1.43, \"trip_first_departure_ts\": 48600, \"trip_last_arrival_ts\": 53760, \"departure_hour\": 13, \"time_of_day\": \"Midday\", \"p25\": 1.3975, \"p50\": 1.42, \"p75\": 1.43, \"p50_trip\": 0, \"fastest_trip\": 0, \"car_duration_hours\": 0.86, \"competitive_route\": 1, \"bus_multiplier\": 1.66, \"bus_difference\": 34.2, \"num_trips\": 8, \"num_competitive\": 8, \"pct_trips_competitive\": 1.0, \"bus_difference_spread\": 21.0, \"route_group\": \"medium\", \"max_trip_hrs\": 1.43, \"max_trip_route_group\": 1.45, \"name\": \"Kern County\", \"caltrans_district\": \"06 - Fresno\", \"drmt_organization_name\": null, \"cutoff2\": 21.75, \"cutoff\": 2}, {\"calitp_itp_id\": 146, \"trip_key\": 2078968315892729280, \"trip_id\": \"t_1000768_b_33402_tn_0\", \"shape_id\": \"p_3019\", \"route_id\": \"1368\", \"service_hours\": 1.43, \"trip_first_departure_ts\": 42360, \"trip_last_arrival_ts\": 47520, \"departure_hour\": 11, \"time_of_day\": \"Midday\", \"p25\": 1.3975, \"p50\": 1.42, \"p75\": 1.43, \"p50_trip\": 0, \"fastest_trip\": 0, \"car_duration_hours\": 0.86, \"competitive_route\": 1, \"bus_multiplier\": 1.66, \"bus_difference\": 34.2, \"num_trips\": 8, \"num_competitive\": 8, \"pct_trips_competitive\": 1.0, \"bus_difference_spread\": 21.0, \"route_group\": \"medium\", \"max_trip_hrs\": 1.43, \"max_trip_route_group\": 1.45, \"name\": \"Kern County\", \"caltrans_district\": \"06 - Fresno\", \"drmt_organization_name\": null, \"cutoff2\": 21.75, \"cutoff\": 2}, {\"calitp_itp_id\": 146, \"trip_key\": 8634311857308263290, \"trip_id\": \"t_1000774_b_33402_tn_0\", \"shape_id\": \"p_3019\", \"route_id\": \"1368\", \"service_hours\": 1.43, \"trip_first_departure_ts\": 64320, \"trip_last_arrival_ts\": 69480, \"departure_hour\": 17, \"time_of_day\": \"PM Peak\", \"p25\": 1.3975, \"p50\": 1.42, \"p75\": 1.43, \"p50_trip\": 0, \"fastest_trip\": 0, \"car_duration_hours\": 0.86, \"competitive_route\": 1, \"bus_multiplier\": 1.66, \"bus_difference\": 34.2, \"num_trips\": 8, \"num_competitive\": 8, \"pct_trips_competitive\": 1.0, \"bus_difference_spread\": 21.0, \"route_group\": \"medium\", \"max_trip_hrs\": 1.43, \"max_trip_route_group\": 1.45, \"name\": \"Kern County\", \"caltrans_district\": \"06 - Fresno\", \"drmt_organization_name\": null, \"cutoff2\": 21.75, \"cutoff\": 2}]}}, {\"mode\": \"vega-lite\"});\n",
       "</script>"
      ],
      "text/plain": [
       "alt.FacetChart(...)"
      ]
     },
     "metadata": {},
     "output_type": "display_data"
    },
    {
     "data": {
      "text/html": [
       "\n",
       "<div id=\"altair-viz-6a501fc68e224466bf7e5c548fe93a5f\"></div>\n",
       "<script type=\"text/javascript\">\n",
       "  var VEGA_DEBUG = (typeof VEGA_DEBUG == \"undefined\") ? {} : VEGA_DEBUG;\n",
       "  (function(spec, embedOpt){\n",
       "    let outputDiv = document.currentScript.previousElementSibling;\n",
       "    if (outputDiv.id !== \"altair-viz-6a501fc68e224466bf7e5c548fe93a5f\") {\n",
       "      outputDiv = document.getElementById(\"altair-viz-6a501fc68e224466bf7e5c548fe93a5f\");\n",
       "    }\n",
       "    const paths = {\n",
       "      \"vega\": \"https://cdn.jsdelivr.net/npm//vega@5?noext\",\n",
       "      \"vega-lib\": \"https://cdn.jsdelivr.net/npm//vega-lib?noext\",\n",
       "      \"vega-lite\": \"https://cdn.jsdelivr.net/npm//vega-lite@4.17.0?noext\",\n",
       "      \"vega-embed\": \"https://cdn.jsdelivr.net/npm//vega-embed@6?noext\",\n",
       "    };\n",
       "\n",
       "    function maybeLoadScript(lib, version) {\n",
       "      var key = `${lib.replace(\"-\", \"\")}_version`;\n",
       "      return (VEGA_DEBUG[key] == version) ?\n",
       "        Promise.resolve(paths[lib]) :\n",
       "        new Promise(function(resolve, reject) {\n",
       "          var s = document.createElement('script');\n",
       "          document.getElementsByTagName(\"head\")[0].appendChild(s);\n",
       "          s.async = true;\n",
       "          s.onload = () => {\n",
       "            VEGA_DEBUG[key] = version;\n",
       "            return resolve(paths[lib]);\n",
       "          };\n",
       "          s.onerror = () => reject(`Error loading script: ${paths[lib]}`);\n",
       "          s.src = paths[lib];\n",
       "        });\n",
       "    }\n",
       "\n",
       "    function showError(err) {\n",
       "      outputDiv.innerHTML = `<div class=\"error\" style=\"color:red;\">${err}</div>`;\n",
       "      throw err;\n",
       "    }\n",
       "\n",
       "    function displayChart(vegaEmbed) {\n",
       "      vegaEmbed(outputDiv, spec, embedOpt)\n",
       "        .catch(err => showError(`Javascript Error: ${err.message}<br>This usually means there's a typo in your chart specification. See the javascript console for the full traceback.`));\n",
       "    }\n",
       "\n",
       "    if(typeof define === \"function\" && define.amd) {\n",
       "      requirejs.config({paths});\n",
       "      require([\"vega-embed\"], displayChart, err => showError(`Error loading script: ${err.message}`));\n",
       "    } else {\n",
       "      maybeLoadScript(\"vega\", \"5\")\n",
       "        .then(() => maybeLoadScript(\"vega-lite\", \"4.17.0\"))\n",
       "        .then(() => maybeLoadScript(\"vega-embed\", \"6\"))\n",
       "        .catch(showError)\n",
       "        .then(() => displayChart(vegaEmbed));\n",
       "    }\n",
       "  })({\"config\": {\"view\": {\"continuousWidth\": 400, \"continuousHeight\": 300, \"stroke\": null}, \"facet\": {\"spacing\": 0}}, \"data\": {\"name\": \"data-fb2408bf8479a31a89eb019563105634\"}, \"facet\": {\"column\": {\"field\": \"route_id\", \"sort\": [\"1163\", \"1368\"], \"title\": \"Route ID\", \"type\": \"nominal\"}}, \"spec\": {\"layer\": [{\"mark\": {\"type\": \"point\", \"opacity\": 0.65, \"size\": 12, \"strokeWidth\": 1.1}, \"encoding\": {\"color\": {\"field\": \"time_of_day\", \"scale\": {\"range\": [\"#136C97\", \"#E16B26\", \"#F6BF16\", \"#00896B\", \"#7790A3\", \"#5B559C\"]}, \"sort\": [\"AM Peak\", \"Midday\", \"PM Peak\", \"Owl Service\"], \"title\": \"Time of Day\", \"type\": \"nominal\"}, \"tooltip\": [{\"field\": \"route_id\", \"type\": \"nominal\"}, {\"field\": \"trip_id\", \"type\": \"nominal\"}, {\"field\": \"service_hours\", \"type\": \"quantitative\"}, {\"field\": \"car_duration_hours\", \"type\": \"quantitative\"}, {\"field\": \"bus_multiplier\", \"type\": \"quantitative\"}, {\"field\": \"bus_difference\", \"type\": \"quantitative\"}, {\"field\": \"num_trips\", \"type\": \"quantitative\"}, {\"field\": \"num_competitive\", \"type\": \"quantitative\"}, {\"field\": \"pct_trips_competitive\", \"type\": \"quantitative\"}, {\"field\": \"p25\", \"type\": \"quantitative\"}, {\"field\": \"p50\", \"type\": \"quantitative\"}, {\"field\": \"p75\", \"type\": \"quantitative\"}], \"x\": {\"axis\": {\"grid\": false, \"labels\": false, \"ticks\": true, \"values\": [0]}, \"field\": \"jitter\", \"scale\": {}, \"title\": null, \"type\": \"quantitative\"}, \"y\": {\"field\": \"bus_difference\", \"scale\": {\"domain\": [-5, 69.6]}, \"title\": \"Difference in Bus to Car Travel Time (min)\", \"type\": \"quantitative\"}}, \"selection\": {\"selector004\": {\"type\": \"interval\", \"bind\": \"scales\", \"encodings\": [\"x\", \"y\"]}}, \"transform\": [{\"calculate\": \"sqrt(-2*log(random()))*cos(2*PI*random())\", \"as\": \"jitter\"}], \"width\": 60}, {\"layer\": [{\"mark\": {\"type\": \"point\", \"opacity\": 0.6, \"size\": 20, \"strokeWidth\": 1.3}, \"encoding\": {\"color\": {\"value\": \"#323434\"}, \"y\": {\"field\": \"bus_difference\", \"type\": \"quantitative\"}}, \"transform\": [{\"filter\": \"(datum.p50_trip === 1)\"}]}, {\"mark\": {\"type\": \"rule\", \"strokeDash\": [2, 3]}, \"encoding\": {\"color\": {\"value\": \"#323434\"}, \"y\": {\"field\": \"cutoff\", \"type\": \"quantitative\"}}}, {\"mark\": {\"type\": \"rule\", \"strokeDash\": [2, 3]}, \"encoding\": {\"color\": {\"value\": \"#136C97\"}, \"y\": {\"field\": \"cutoff2\", \"type\": \"quantitative\"}}}, {\"mark\": {\"type\": \"text\", \"align\": \"center\", \"baseline\": \"middle\"}, \"encoding\": {\"color\": {\"value\": \"black\"}, \"text\": {\"field\": \"pct_trips_competitive\", \"format\": \".0%\", \"type\": \"quantitative\"}, \"tooltip\": [{\"field\": \"route_id\", \"type\": \"nominal\"}, {\"field\": \"trip_id\", \"type\": \"nominal\"}, {\"field\": \"service_hours\", \"type\": \"quantitative\"}, {\"field\": \"car_duration_hours\", \"type\": \"quantitative\"}, {\"field\": \"bus_multiplier\", \"type\": \"quantitative\"}, {\"field\": \"bus_difference\", \"type\": \"quantitative\"}, {\"field\": \"num_trips\", \"type\": \"quantitative\"}, {\"field\": \"num_competitive\", \"type\": \"quantitative\"}, {\"field\": \"pct_trips_competitive\", \"type\": \"quantitative\"}, {\"field\": \"p25\", \"type\": \"quantitative\"}, {\"field\": \"p50\", \"type\": \"quantitative\"}, {\"field\": \"p75\", \"type\": \"quantitative\"}], \"x\": {\"value\": 30}, \"y\": {\"value\": 15}}, \"transform\": [{\"calculate\": \"sqrt(-2*log(random()))*cos(2*PI*random())\", \"as\": \"jitter\"}, {\"filter\": \"(datum.fastest_trip === 1)\"}]}]}]}, \"resolve\": {\"scale\": {\"y\": \"shared\"}}, \"title\": \"Difference in Bus to Car Travel Time (min)\", \"$schema\": \"https://vega.github.io/schema/vega-lite/v4.17.0.json\", \"datasets\": {\"data-fb2408bf8479a31a89eb019563105634\": [{\"calitp_itp_id\": 146, \"trip_key\": 5211490308251541962, \"trip_id\": \"t_2002771_b_33402_tn_0\", \"shape_id\": \"p_3036\", \"route_id\": \"1163\", \"service_hours\": 1.08, \"trip_first_departure_ts\": 75600, \"trip_last_arrival_ts\": 79500, \"departure_hour\": 21, \"time_of_day\": \"Owl Service\", \"p25\": 1.25, \"p50\": 1.25, \"p75\": 1.33, \"p50_trip\": 0, \"fastest_trip\": 1, \"car_duration_hours\": 0.96, \"competitive_route\": 1, \"bus_multiplier\": 1.13, \"bus_difference\": 7.2, \"num_trips\": 13, \"num_competitive\": 13, \"pct_trips_competitive\": 1.0, \"bus_difference_spread\": 15.0, \"route_group\": \"medium\", \"max_trip_hrs\": 1.33, \"max_trip_route_group\": 1.45, \"name\": \"Kern County\", \"caltrans_district\": \"06 - Fresno\", \"drmt_organization_name\": null, \"cutoff2\": 21.75, \"cutoff\": 0}, {\"calitp_itp_id\": 146, \"trip_key\": 6782577905836505620, \"trip_id\": \"t_2002770_b_33402_tn_0\", \"shape_id\": \"p_3036\", \"route_id\": \"1163\", \"service_hours\": 1.08, \"trip_first_departure_ts\": 72000, \"trip_last_arrival_ts\": 75900, \"departure_hour\": 20, \"time_of_day\": \"Owl Service\", \"p25\": 1.25, \"p50\": 1.25, \"p75\": 1.33, \"p50_trip\": 0, \"fastest_trip\": 0, \"car_duration_hours\": 0.96, \"competitive_route\": 1, \"bus_multiplier\": 1.13, \"bus_difference\": 7.2, \"num_trips\": 13, \"num_competitive\": 13, \"pct_trips_competitive\": 1.0, \"bus_difference_spread\": 15.0, \"route_group\": \"medium\", \"max_trip_hrs\": 1.33, \"max_trip_route_group\": 1.45, \"name\": \"Kern County\", \"caltrans_district\": \"06 - Fresno\", \"drmt_organization_name\": null, \"cutoff2\": 21.75, \"cutoff\": 0}, {\"calitp_itp_id\": 146, \"trip_key\": -6591421217914379953, \"trip_id\": \"t_559714_b_33402_tn_0\", \"shape_id\": \"p_3013\", \"route_id\": \"1163\", \"service_hours\": 1.12, \"trip_first_departure_ts\": 21000, \"trip_last_arrival_ts\": 25020, \"departure_hour\": 5, \"time_of_day\": \"Owl Service\", \"p25\": 1.25, \"p50\": 1.25, \"p75\": 1.33, \"p50_trip\": 0, \"fastest_trip\": 0, \"car_duration_hours\": 0.96, \"competitive_route\": 1, \"bus_multiplier\": 1.17, \"bus_difference\": 9.6, \"num_trips\": 13, \"num_competitive\": 13, \"pct_trips_competitive\": 1.0, \"bus_difference_spread\": 15.0, \"route_group\": \"medium\", \"max_trip_hrs\": 1.33, \"max_trip_route_group\": 1.45, \"name\": \"Kern County\", \"caltrans_district\": \"06 - Fresno\", \"drmt_organization_name\": null, \"cutoff2\": 21.75, \"cutoff\": 0}, {\"calitp_itp_id\": 146, \"trip_key\": 4295720859202590599, \"trip_id\": \"t_2002779_b_33402_tn_0\", \"shape_id\": \"p_3034\", \"route_id\": \"1163\", \"service_hours\": 1.25, \"trip_first_departure_ts\": 39600, \"trip_last_arrival_ts\": 44100, \"departure_hour\": 11, \"time_of_day\": \"Midday\", \"p25\": 1.25, \"p50\": 1.25, \"p75\": 1.33, \"p50_trip\": 1, \"fastest_trip\": 0, \"car_duration_hours\": 0.96, \"competitive_route\": 1, \"bus_multiplier\": 1.3, \"bus_difference\": 17.4, \"num_trips\": 13, \"num_competitive\": 13, \"pct_trips_competitive\": 1.0, \"bus_difference_spread\": 15.0, \"route_group\": \"medium\", \"max_trip_hrs\": 1.33, \"max_trip_route_group\": 1.45, \"name\": \"Kern County\", \"caltrans_district\": \"06 - Fresno\", \"drmt_organization_name\": null, \"cutoff2\": 21.75, \"cutoff\": 0}, {\"calitp_itp_id\": 146, \"trip_key\": 1567663730242643159, \"trip_id\": \"t_2002778_b_33402_tn_0\", \"shape_id\": \"p_3034\", \"route_id\": \"1163\", \"service_hours\": 1.25, \"trip_first_departure_ts\": 26400, \"trip_last_arrival_ts\": 30900, \"departure_hour\": 7, \"time_of_day\": \"AM Peak\", \"p25\": 1.25, \"p50\": 1.25, \"p75\": 1.33, \"p50_trip\": 1, \"fastest_trip\": 0, \"car_duration_hours\": 0.96, \"competitive_route\": 1, \"bus_multiplier\": 1.3, \"bus_difference\": 17.4, \"num_trips\": 13, \"num_competitive\": 13, \"pct_trips_competitive\": 1.0, \"bus_difference_spread\": 15.0, \"route_group\": \"medium\", \"max_trip_hrs\": 1.33, \"max_trip_route_group\": 1.45, \"name\": \"Kern County\", \"caltrans_district\": \"06 - Fresno\", \"drmt_organization_name\": null, \"cutoff2\": 21.75, \"cutoff\": 0}, {\"calitp_itp_id\": 146, \"trip_key\": 8162709824957433861, \"trip_id\": \"t_2002776_b_33402_tn_0\", \"shape_id\": \"p_3034\", \"route_id\": \"1163\", \"service_hours\": 1.25, \"trip_first_departure_ts\": 60300, \"trip_last_arrival_ts\": 64800, \"departure_hour\": 16, \"time_of_day\": \"Midday\", \"p25\": 1.25, \"p50\": 1.25, \"p75\": 1.33, \"p50_trip\": 1, \"fastest_trip\": 0, \"car_duration_hours\": 0.96, \"competitive_route\": 1, \"bus_multiplier\": 1.3, \"bus_difference\": 17.4, \"num_trips\": 13, \"num_competitive\": 13, \"pct_trips_competitive\": 1.0, \"bus_difference_spread\": 15.0, \"route_group\": \"medium\", \"max_trip_hrs\": 1.33, \"max_trip_route_group\": 1.45, \"name\": \"Kern County\", \"caltrans_district\": \"06 - Fresno\", \"drmt_organization_name\": null, \"cutoff2\": 21.75, \"cutoff\": 0}, {\"calitp_itp_id\": 146, \"trip_key\": 6060769906077123396, \"trip_id\": \"t_2002772_b_33402_tn_0\", \"shape_id\": \"p_3034\", \"route_id\": \"1163\", \"service_hours\": 1.25, \"trip_first_departure_ts\": 53700, \"trip_last_arrival_ts\": 58200, \"departure_hour\": 14, \"time_of_day\": \"Midday\", \"p25\": 1.25, \"p50\": 1.25, \"p75\": 1.33, \"p50_trip\": 1, \"fastest_trip\": 0, \"car_duration_hours\": 0.96, \"competitive_route\": 1, \"bus_multiplier\": 1.3, \"bus_difference\": 17.4, \"num_trips\": 13, \"num_competitive\": 13, \"pct_trips_competitive\": 1.0, \"bus_difference_spread\": 15.0, \"route_group\": \"medium\", \"max_trip_hrs\": 1.33, \"max_trip_route_group\": 1.45, \"name\": \"Kern County\", \"caltrans_district\": \"06 - Fresno\", \"drmt_organization_name\": null, \"cutoff2\": 21.75, \"cutoff\": 0}, {\"calitp_itp_id\": 146, \"trip_key\": 3260627009146915986, \"trip_id\": \"t_2002787_b_33402_tn_0\", \"shape_id\": \"p_3034\", \"route_id\": \"1163\", \"service_hours\": 1.25, \"trip_first_departure_ts\": 65700, \"trip_last_arrival_ts\": 70200, \"departure_hour\": 18, \"time_of_day\": \"PM Peak\", \"p25\": 1.25, \"p50\": 1.25, \"p75\": 1.33, \"p50_trip\": 1, \"fastest_trip\": 0, \"car_duration_hours\": 0.96, \"competitive_route\": 1, \"bus_multiplier\": 1.3, \"bus_difference\": 17.4, \"num_trips\": 13, \"num_competitive\": 13, \"pct_trips_competitive\": 1.0, \"bus_difference_spread\": 15.0, \"route_group\": \"medium\", \"max_trip_hrs\": 1.33, \"max_trip_route_group\": 1.45, \"name\": \"Kern County\", \"caltrans_district\": \"06 - Fresno\", \"drmt_organization_name\": null, \"cutoff2\": 21.75, \"cutoff\": 0}, {\"calitp_itp_id\": 146, \"trip_key\": 5015425223725740371, \"trip_id\": \"t_2002775_b_33402_tn_0\", \"shape_id\": \"p_3013\", \"route_id\": \"1163\", \"service_hours\": 1.33, \"trip_first_departure_ts\": 54000, \"trip_last_arrival_ts\": 58800, \"departure_hour\": 15, \"time_of_day\": \"Midday\", \"p25\": 1.25, \"p50\": 1.25, \"p75\": 1.33, \"p50_trip\": 0, \"fastest_trip\": 0, \"car_duration_hours\": 0.96, \"competitive_route\": 1, \"bus_multiplier\": 1.39, \"bus_difference\": 22.2, \"num_trips\": 13, \"num_competitive\": 13, \"pct_trips_competitive\": 1.0, \"bus_difference_spread\": 15.0, \"route_group\": \"medium\", \"max_trip_hrs\": 1.33, \"max_trip_route_group\": 1.45, \"name\": \"Kern County\", \"caltrans_district\": \"06 - Fresno\", \"drmt_organization_name\": null, \"cutoff2\": 21.75, \"cutoff\": 0}, {\"calitp_itp_id\": 146, \"trip_key\": -7388566199753428065, \"trip_id\": \"t_2002807_b_33402_tn_0\", \"shape_id\": \"p_3013\", \"route_id\": \"1163\", \"service_hours\": 1.33, \"trip_first_departure_ts\": 34200, \"trip_last_arrival_ts\": 39000, \"departure_hour\": 9, \"time_of_day\": \"AM Peak\", \"p25\": 1.25, \"p50\": 1.25, \"p75\": 1.33, \"p50_trip\": 0, \"fastest_trip\": 0, \"car_duration_hours\": 0.96, \"competitive_route\": 1, \"bus_multiplier\": 1.39, \"bus_difference\": 22.2, \"num_trips\": 13, \"num_competitive\": 13, \"pct_trips_competitive\": 1.0, \"bus_difference_spread\": 15.0, \"route_group\": \"medium\", \"max_trip_hrs\": 1.33, \"max_trip_route_group\": 1.45, \"name\": \"Kern County\", \"caltrans_district\": \"06 - Fresno\", \"drmt_organization_name\": null, \"cutoff2\": 21.75, \"cutoff\": 0}, {\"calitp_itp_id\": 146, \"trip_key\": 1987559820588106096, \"trip_id\": \"t_2002777_b_33402_tn_0\", \"shape_id\": \"p_3013\", \"route_id\": \"1163\", \"service_hours\": 1.33, \"trip_first_departure_ts\": 66600, \"trip_last_arrival_ts\": 71400, \"departure_hour\": 18, \"time_of_day\": \"PM Peak\", \"p25\": 1.25, \"p50\": 1.25, \"p75\": 1.33, \"p50_trip\": 0, \"fastest_trip\": 0, \"car_duration_hours\": 0.96, \"competitive_route\": 1, \"bus_multiplier\": 1.39, \"bus_difference\": 22.2, \"num_trips\": 13, \"num_competitive\": 13, \"pct_trips_competitive\": 1.0, \"bus_difference_spread\": 15.0, \"route_group\": \"medium\", \"max_trip_hrs\": 1.33, \"max_trip_route_group\": 1.45, \"name\": \"Kern County\", \"caltrans_district\": \"06 - Fresno\", \"drmt_organization_name\": null, \"cutoff2\": 21.75, \"cutoff\": 0}, {\"calitp_itp_id\": 146, \"trip_key\": -1052382042662736337, \"trip_id\": \"t_559741_b_33402_tn_0\", \"shape_id\": \"p_3013\", \"route_id\": \"1163\", \"service_hours\": 1.33, \"trip_first_departure_ts\": 59400, \"trip_last_arrival_ts\": 64200, \"departure_hour\": 16, \"time_of_day\": \"Midday\", \"p25\": 1.25, \"p50\": 1.25, \"p75\": 1.33, \"p50_trip\": 0, \"fastest_trip\": 0, \"car_duration_hours\": 0.96, \"competitive_route\": 1, \"bus_multiplier\": 1.39, \"bus_difference\": 22.2, \"num_trips\": 13, \"num_competitive\": 13, \"pct_trips_competitive\": 1.0, \"bus_difference_spread\": 15.0, \"route_group\": \"medium\", \"max_trip_hrs\": 1.33, \"max_trip_route_group\": 1.45, \"name\": \"Kern County\", \"caltrans_district\": \"06 - Fresno\", \"drmt_organization_name\": null, \"cutoff2\": 21.75, \"cutoff\": 0}, {\"calitp_itp_id\": 146, \"trip_key\": 1418610618519928346, \"trip_id\": \"t_559598_b_33402_tn_0\", \"shape_id\": \"p_3013\", \"route_id\": \"1163\", \"service_hours\": 1.33, \"trip_first_departure_ts\": 46800, \"trip_last_arrival_ts\": 51600, \"departure_hour\": 13, \"time_of_day\": \"Midday\", \"p25\": 1.25, \"p50\": 1.25, \"p75\": 1.33, \"p50_trip\": 0, \"fastest_trip\": 0, \"car_duration_hours\": 0.96, \"competitive_route\": 1, \"bus_multiplier\": 1.39, \"bus_difference\": 22.2, \"num_trips\": 13, \"num_competitive\": 13, \"pct_trips_competitive\": 1.0, \"bus_difference_spread\": 15.0, \"route_group\": \"medium\", \"max_trip_hrs\": 1.33, \"max_trip_route_group\": 1.45, \"name\": \"Kern County\", \"caltrans_district\": \"06 - Fresno\", \"drmt_organization_name\": null, \"cutoff2\": 21.75, \"cutoff\": 0}, {\"calitp_itp_id\": 146, \"trip_key\": 6856244579133650254, \"trip_id\": \"t_1000771_b_33402_tn_0\", \"shape_id\": \"p_3017\", \"route_id\": \"1368\", \"service_hours\": 1.08, \"trip_first_departure_ts\": 27600, \"trip_last_arrival_ts\": 31500, \"departure_hour\": 7, \"time_of_day\": \"AM Peak\", \"p25\": 1.3975, \"p50\": 1.42, \"p75\": 1.43, \"p50_trip\": 0, \"fastest_trip\": 1, \"car_duration_hours\": 0.86, \"competitive_route\": 1, \"bus_multiplier\": 1.26, \"bus_difference\": 13.2, \"num_trips\": 8, \"num_competitive\": 8, \"pct_trips_competitive\": 1.0, \"bus_difference_spread\": 21.0, \"route_group\": \"medium\", \"max_trip_hrs\": 1.43, \"max_trip_route_group\": 1.45, \"name\": \"Kern County\", \"caltrans_district\": \"06 - Fresno\", \"drmt_organization_name\": null, \"cutoff2\": 21.75, \"cutoff\": 0}, {\"calitp_itp_id\": 146, \"trip_key\": -534718886449455652, \"trip_id\": \"t_1000772_b_33402_tn_0\", \"shape_id\": \"p_899217\", \"route_id\": \"1368\", \"service_hours\": 1.33, \"trip_first_departure_ts\": 21600, \"trip_last_arrival_ts\": 26400, \"departure_hour\": 6, \"time_of_day\": \"Owl Service\", \"p25\": 1.3975, \"p50\": 1.42, \"p75\": 1.43, \"p50_trip\": 0, \"fastest_trip\": 0, \"car_duration_hours\": 0.86, \"competitive_route\": 1, \"bus_multiplier\": 1.55, \"bus_difference\": 28.2, \"num_trips\": 8, \"num_competitive\": 8, \"pct_trips_competitive\": 1.0, \"bus_difference_spread\": 21.0, \"route_group\": \"medium\", \"max_trip_hrs\": 1.43, \"max_trip_route_group\": 1.45, \"name\": \"Kern County\", \"caltrans_district\": \"06 - Fresno\", \"drmt_organization_name\": null, \"cutoff2\": 21.75, \"cutoff\": 0}, {\"calitp_itp_id\": 146, \"trip_key\": 1139510109855465168, \"trip_id\": \"t_1000770_b_33402_tn_0\", \"shape_id\": \"p_3079\", \"route_id\": \"1368\", \"service_hours\": 1.42, \"trip_first_departure_ts\": 35100, \"trip_last_arrival_ts\": 40200, \"departure_hour\": 9, \"time_of_day\": \"AM Peak\", \"p25\": 1.3975, \"p50\": 1.42, \"p75\": 1.43, \"p50_trip\": 1, \"fastest_trip\": 0, \"car_duration_hours\": 0.86, \"competitive_route\": 1, \"bus_multiplier\": 1.65, \"bus_difference\": 33.6, \"num_trips\": 8, \"num_competitive\": 8, \"pct_trips_competitive\": 1.0, \"bus_difference_spread\": 21.0, \"route_group\": \"medium\", \"max_trip_hrs\": 1.43, \"max_trip_route_group\": 1.45, \"name\": \"Kern County\", \"caltrans_district\": \"06 - Fresno\", \"drmt_organization_name\": null, \"cutoff2\": 21.75, \"cutoff\": 0}, {\"calitp_itp_id\": 146, \"trip_key\": 2119666496098928337, \"trip_id\": \"t_1000773_b_33402_tn_0\", \"shape_id\": \"p_3079\", \"route_id\": \"1368\", \"service_hours\": 1.42, \"trip_first_departure_ts\": 42300, \"trip_last_arrival_ts\": 47400, \"departure_hour\": 11, \"time_of_day\": \"Midday\", \"p25\": 1.3975, \"p50\": 1.42, \"p75\": 1.43, \"p50_trip\": 1, \"fastest_trip\": 0, \"car_duration_hours\": 0.86, \"competitive_route\": 1, \"bus_multiplier\": 1.65, \"bus_difference\": 33.6, \"num_trips\": 8, \"num_competitive\": 8, \"pct_trips_competitive\": 1.0, \"bus_difference_spread\": 21.0, \"route_group\": \"medium\", \"max_trip_hrs\": 1.43, \"max_trip_route_group\": 1.45, \"name\": \"Kern County\", \"caltrans_district\": \"06 - Fresno\", \"drmt_organization_name\": null, \"cutoff2\": 21.75, \"cutoff\": 0}, {\"calitp_itp_id\": 146, \"trip_key\": 5438637202440934147, \"trip_id\": \"t_1000767_b_33402_tn_0\", \"shape_id\": \"p_3079\", \"route_id\": \"1368\", \"service_hours\": 1.42, \"trip_first_departure_ts\": 57900, \"trip_last_arrival_ts\": 63000, \"departure_hour\": 16, \"time_of_day\": \"Midday\", \"p25\": 1.3975, \"p50\": 1.42, \"p75\": 1.43, \"p50_trip\": 1, \"fastest_trip\": 0, \"car_duration_hours\": 0.86, \"competitive_route\": 1, \"bus_multiplier\": 1.65, \"bus_difference\": 33.6, \"num_trips\": 8, \"num_competitive\": 8, \"pct_trips_competitive\": 1.0, \"bus_difference_spread\": 21.0, \"route_group\": \"medium\", \"max_trip_hrs\": 1.43, \"max_trip_route_group\": 1.45, \"name\": \"Kern County\", \"caltrans_district\": \"06 - Fresno\", \"drmt_organization_name\": null, \"cutoff2\": 21.75, \"cutoff\": 0}, {\"calitp_itp_id\": 146, \"trip_key\": -6187649095625325395, \"trip_id\": \"t_1000769_b_33402_tn_0\", \"shape_id\": \"p_3019\", \"route_id\": \"1368\", \"service_hours\": 1.43, \"trip_first_departure_ts\": 48600, \"trip_last_arrival_ts\": 53760, \"departure_hour\": 13, \"time_of_day\": \"Midday\", \"p25\": 1.3975, \"p50\": 1.42, \"p75\": 1.43, \"p50_trip\": 0, \"fastest_trip\": 0, \"car_duration_hours\": 0.86, \"competitive_route\": 1, \"bus_multiplier\": 1.66, \"bus_difference\": 34.2, \"num_trips\": 8, \"num_competitive\": 8, \"pct_trips_competitive\": 1.0, \"bus_difference_spread\": 21.0, \"route_group\": \"medium\", \"max_trip_hrs\": 1.43, \"max_trip_route_group\": 1.45, \"name\": \"Kern County\", \"caltrans_district\": \"06 - Fresno\", \"drmt_organization_name\": null, \"cutoff2\": 21.75, \"cutoff\": 0}, {\"calitp_itp_id\": 146, \"trip_key\": 2078968315892729280, \"trip_id\": \"t_1000768_b_33402_tn_0\", \"shape_id\": \"p_3019\", \"route_id\": \"1368\", \"service_hours\": 1.43, \"trip_first_departure_ts\": 42360, \"trip_last_arrival_ts\": 47520, \"departure_hour\": 11, \"time_of_day\": \"Midday\", \"p25\": 1.3975, \"p50\": 1.42, \"p75\": 1.43, \"p50_trip\": 0, \"fastest_trip\": 0, \"car_duration_hours\": 0.86, \"competitive_route\": 1, \"bus_multiplier\": 1.66, \"bus_difference\": 34.2, \"num_trips\": 8, \"num_competitive\": 8, \"pct_trips_competitive\": 1.0, \"bus_difference_spread\": 21.0, \"route_group\": \"medium\", \"max_trip_hrs\": 1.43, \"max_trip_route_group\": 1.45, \"name\": \"Kern County\", \"caltrans_district\": \"06 - Fresno\", \"drmt_organization_name\": null, \"cutoff2\": 21.75, \"cutoff\": 0}, {\"calitp_itp_id\": 146, \"trip_key\": 8634311857308263290, \"trip_id\": \"t_1000774_b_33402_tn_0\", \"shape_id\": \"p_3019\", \"route_id\": \"1368\", \"service_hours\": 1.43, \"trip_first_departure_ts\": 64320, \"trip_last_arrival_ts\": 69480, \"departure_hour\": 17, \"time_of_day\": \"PM Peak\", \"p25\": 1.3975, \"p50\": 1.42, \"p75\": 1.43, \"p50_trip\": 0, \"fastest_trip\": 0, \"car_duration_hours\": 0.86, \"competitive_route\": 1, \"bus_multiplier\": 1.66, \"bus_difference\": 34.2, \"num_trips\": 8, \"num_competitive\": 8, \"pct_trips_competitive\": 1.0, \"bus_difference_spread\": 21.0, \"route_group\": \"medium\", \"max_trip_hrs\": 1.43, \"max_trip_route_group\": 1.45, \"name\": \"Kern County\", \"caltrans_district\": \"06 - Fresno\", \"drmt_organization_name\": null, \"cutoff2\": 21.75, \"cutoff\": 0}]}}, {\"mode\": \"vega-lite\"});\n",
       "</script>"
      ],
      "text/plain": [
       "alt.FacetChart(...)"
      ]
     },
     "metadata": {},
     "output_type": "display_data"
    }
   ],
   "source": [
    "route_group = \"medium\"\n",
    "try:\n",
    "    subset_routes, mult, diff  = setup_charts(df, PCT_COMPETITIVE_THRESHOLD, route_group)\n",
    "    if len(subset_routes) > 0:\n",
    "        display(\n",
    "            Markdown(\n",
    "                f\"{CAPTIONS_DICT[route_group]}\"\n",
    "                \"Within each route group, routes are sorted in descending order \"\n",
    "                \"by % competitive trips and # trips below the additional time cut-off.\"\n",
    "            )\n",
    "        )\n",
    "\n",
    "        display(mult)\n",
    "        display(diff)\n",
    "except:\n",
    "    print(\"No routes meet this criteria.\")"
   ]
  },
  {
   "cell_type": "markdown",
   "id": "124b76d0-886c-4d03-92ac-f1bda3cda182",
   "metadata": {
    "papermill": {
     "duration": 0.015978,
     "end_time": "2022-05-07T17:15:19.470609",
     "exception": false,
     "start_time": "2022-05-07T17:15:19.454631",
     "status": "completed"
    },
    "tags": []
   },
   "source": [
    "### Long Routes (> 1.5 hrs)"
   ]
  },
  {
   "cell_type": "code",
   "execution_count": 14,
   "id": "ddc81b19-4c45-4c81-8b7a-5e0f394aa7a3",
   "metadata": {
    "execution": {
     "iopub.execute_input": "2022-05-07T17:15:19.508717Z",
     "iopub.status.busy": "2022-05-07T17:15:19.508373Z",
     "iopub.status.idle": "2022-05-07T17:15:19.738330Z",
     "shell.execute_reply": "2022-05-07T17:15:19.737461Z"
    },
    "jupyter": {
     "source_hidden": true
    },
    "papermill": {
     "duration": 0.252808,
     "end_time": "2022-05-07T17:15:19.740386",
     "exception": false,
     "start_time": "2022-05-07T17:15:19.487578",
     "status": "completed"
    },
    "tags": [
     "remove_input"
    ]
   },
   "outputs": [
    {
     "data": {
      "text/markdown": [
       "<br>These are routes that have at least 25% of their trips take no more than an additional 40 min compared to a car (up to 15 routes) are shown.Within each route group, routes are sorted in descending order by % competitive trips and # trips below the additional time cut-off."
      ],
      "text/plain": [
       "<IPython.core.display.Markdown object>"
      ]
     },
     "metadata": {},
     "output_type": "display_data"
    },
    {
     "data": {
      "text/html": [
       "\n",
       "<div id=\"altair-viz-412b9923b4d7445ba4e33eb6f0858c1a\"></div>\n",
       "<script type=\"text/javascript\">\n",
       "  var VEGA_DEBUG = (typeof VEGA_DEBUG == \"undefined\") ? {} : VEGA_DEBUG;\n",
       "  (function(spec, embedOpt){\n",
       "    let outputDiv = document.currentScript.previousElementSibling;\n",
       "    if (outputDiv.id !== \"altair-viz-412b9923b4d7445ba4e33eb6f0858c1a\") {\n",
       "      outputDiv = document.getElementById(\"altair-viz-412b9923b4d7445ba4e33eb6f0858c1a\");\n",
       "    }\n",
       "    const paths = {\n",
       "      \"vega\": \"https://cdn.jsdelivr.net/npm//vega@5?noext\",\n",
       "      \"vega-lib\": \"https://cdn.jsdelivr.net/npm//vega-lib?noext\",\n",
       "      \"vega-lite\": \"https://cdn.jsdelivr.net/npm//vega-lite@4.17.0?noext\",\n",
       "      \"vega-embed\": \"https://cdn.jsdelivr.net/npm//vega-embed@6?noext\",\n",
       "    };\n",
       "\n",
       "    function maybeLoadScript(lib, version) {\n",
       "      var key = `${lib.replace(\"-\", \"\")}_version`;\n",
       "      return (VEGA_DEBUG[key] == version) ?\n",
       "        Promise.resolve(paths[lib]) :\n",
       "        new Promise(function(resolve, reject) {\n",
       "          var s = document.createElement('script');\n",
       "          document.getElementsByTagName(\"head\")[0].appendChild(s);\n",
       "          s.async = true;\n",
       "          s.onload = () => {\n",
       "            VEGA_DEBUG[key] = version;\n",
       "            return resolve(paths[lib]);\n",
       "          };\n",
       "          s.onerror = () => reject(`Error loading script: ${paths[lib]}`);\n",
       "          s.src = paths[lib];\n",
       "        });\n",
       "    }\n",
       "\n",
       "    function showError(err) {\n",
       "      outputDiv.innerHTML = `<div class=\"error\" style=\"color:red;\">${err}</div>`;\n",
       "      throw err;\n",
       "    }\n",
       "\n",
       "    function displayChart(vegaEmbed) {\n",
       "      vegaEmbed(outputDiv, spec, embedOpt)\n",
       "        .catch(err => showError(`Javascript Error: ${err.message}<br>This usually means there's a typo in your chart specification. See the javascript console for the full traceback.`));\n",
       "    }\n",
       "\n",
       "    if(typeof define === \"function\" && define.amd) {\n",
       "      requirejs.config({paths});\n",
       "      require([\"vega-embed\"], displayChart, err => showError(`Error loading script: ${err.message}`));\n",
       "    } else {\n",
       "      maybeLoadScript(\"vega\", \"5\")\n",
       "        .then(() => maybeLoadScript(\"vega-lite\", \"4.17.0\"))\n",
       "        .then(() => maybeLoadScript(\"vega-embed\", \"6\"))\n",
       "        .catch(showError)\n",
       "        .then(() => displayChart(vegaEmbed));\n",
       "    }\n",
       "  })({\"config\": {\"view\": {\"continuousWidth\": 400, \"continuousHeight\": 300, \"stroke\": null}, \"facet\": {\"spacing\": 0}}, \"data\": {\"name\": \"data-0f3a96ef774f0eae47c2ce407a7e792d\"}, \"facet\": {\"column\": {\"field\": \"route_id\", \"sort\": [\"1161\", \"1164\"], \"title\": \"Route ID\", \"type\": \"nominal\"}}, \"spec\": {\"layer\": [{\"mark\": {\"type\": \"point\", \"opacity\": 0.65, \"size\": 12, \"strokeWidth\": 1.1}, \"encoding\": {\"color\": {\"field\": \"time_of_day\", \"scale\": {\"range\": [\"#136C97\", \"#E16B26\", \"#F6BF16\", \"#00896B\", \"#7790A3\", \"#5B559C\"]}, \"sort\": [\"AM Peak\", \"Midday\", \"PM Peak\", \"Owl Service\"], \"title\": \"Time of Day\", \"type\": \"nominal\"}, \"tooltip\": [{\"field\": \"route_id\", \"type\": \"nominal\"}, {\"field\": \"trip_id\", \"type\": \"nominal\"}, {\"field\": \"service_hours\", \"type\": \"quantitative\"}, {\"field\": \"car_duration_hours\", \"type\": \"quantitative\"}, {\"field\": \"bus_multiplier\", \"type\": \"quantitative\"}, {\"field\": \"bus_difference\", \"type\": \"quantitative\"}, {\"field\": \"num_trips\", \"type\": \"quantitative\"}, {\"field\": \"num_competitive\", \"type\": \"quantitative\"}, {\"field\": \"pct_trips_competitive\", \"type\": \"quantitative\"}, {\"field\": \"p25\", \"type\": \"quantitative\"}, {\"field\": \"p50\", \"type\": \"quantitative\"}, {\"field\": \"p75\", \"type\": \"quantitative\"}], \"x\": {\"axis\": {\"grid\": false, \"labels\": false, \"ticks\": true, \"values\": [0]}, \"field\": \"jitter\", \"scale\": {}, \"title\": null, \"type\": \"quantitative\"}, \"y\": {\"field\": \"bus_multiplier\", \"scale\": {\"domain\": [-0.25, 2.5]}, \"title\": \"Ratio of Bus to Car Travel Time\", \"type\": \"quantitative\"}}, \"selection\": {\"selector005\": {\"type\": \"interval\", \"bind\": \"scales\", \"encodings\": [\"x\", \"y\"]}}, \"transform\": [{\"calculate\": \"sqrt(-2*log(random()))*cos(2*PI*random())\", \"as\": \"jitter\"}], \"width\": 60}, {\"layer\": [{\"mark\": {\"type\": \"point\", \"opacity\": 0.6, \"size\": 20, \"strokeWidth\": 1.3}, \"encoding\": {\"color\": {\"value\": \"#323434\"}, \"y\": {\"field\": \"bus_multiplier\", \"type\": \"quantitative\"}}, \"transform\": [{\"filter\": \"(datum.p50_trip === 1)\"}]}, {\"mark\": {\"type\": \"rule\", \"strokeDash\": [2, 3]}, \"encoding\": {\"color\": {\"value\": \"#323434\"}, \"y\": {\"field\": \"cutoff\", \"type\": \"quantitative\"}}}, {\"mark\": {\"type\": \"text\", \"align\": \"center\", \"baseline\": \"middle\"}, \"encoding\": {\"color\": {\"value\": \"black\"}, \"text\": {\"field\": \"pct_trips_competitive\", \"format\": \".0%\", \"type\": \"quantitative\"}, \"tooltip\": [{\"field\": \"route_id\", \"type\": \"nominal\"}, {\"field\": \"trip_id\", \"type\": \"nominal\"}, {\"field\": \"service_hours\", \"type\": \"quantitative\"}, {\"field\": \"car_duration_hours\", \"type\": \"quantitative\"}, {\"field\": \"bus_multiplier\", \"type\": \"quantitative\"}, {\"field\": \"bus_difference\", \"type\": \"quantitative\"}, {\"field\": \"num_trips\", \"type\": \"quantitative\"}, {\"field\": \"num_competitive\", \"type\": \"quantitative\"}, {\"field\": \"pct_trips_competitive\", \"type\": \"quantitative\"}, {\"field\": \"p25\", \"type\": \"quantitative\"}, {\"field\": \"p50\", \"type\": \"quantitative\"}, {\"field\": \"p75\", \"type\": \"quantitative\"}], \"x\": {\"value\": 30}, \"y\": {\"value\": 15}}, \"transform\": [{\"calculate\": \"sqrt(-2*log(random()))*cos(2*PI*random())\", \"as\": \"jitter\"}, {\"filter\": \"(datum.fastest_trip === 1)\"}]}]}]}, \"resolve\": {\"scale\": {\"y\": \"shared\"}}, \"title\": \"Ratio of Bus to Car Travel Time\", \"$schema\": \"https://vega.github.io/schema/vega-lite/v4.17.0.json\", \"datasets\": {\"data-0f3a96ef774f0eae47c2ce407a7e792d\": [{\"calitp_itp_id\": 146, \"trip_key\": -2938986463235106552, \"trip_id\": \"t_1270746_b_33402_tn_0\", \"shape_id\": \"p_3083\", \"route_id\": \"1161\", \"service_hours\": 1.3, \"trip_first_departure_ts\": 69900, \"trip_last_arrival_ts\": 74580, \"departure_hour\": 19, \"time_of_day\": \"PM Peak\", \"p25\": 1.48, \"p50\": 1.48, \"p75\": 1.55, \"p50_trip\": 0, \"fastest_trip\": 1, \"car_duration_hours\": 0.97, \"competitive_route\": 1, \"bus_multiplier\": 1.34, \"bus_difference\": 19.8, \"num_trips\": 9, \"num_competitive\": 9, \"pct_trips_competitive\": 1.0, \"bus_difference_spread\": 15.0, \"route_group\": \"long\", \"max_trip_hrs\": 1.55, \"max_trip_route_group\": 2.67, \"name\": \"Kern County\", \"caltrans_district\": \"06 - Fresno\", \"drmt_organization_name\": null, \"cutoff2\": 40.05, \"cutoff\": 2}, {\"calitp_itp_id\": 146, \"trip_key\": -27775948743421188, \"trip_id\": \"t_1270752_b_33402_tn_0\", \"shape_id\": \"p_787635\", \"route_id\": \"1161\", \"service_hours\": 1.37, \"trip_first_departure_ts\": 15600, \"trip_last_arrival_ts\": 20520, \"departure_hour\": 4, \"time_of_day\": \"Owl Service\", \"p25\": 1.48, \"p50\": 1.48, \"p75\": 1.55, \"p50_trip\": 0, \"fastest_trip\": 0, \"car_duration_hours\": 0.97, \"competitive_route\": 1, \"bus_multiplier\": 1.41, \"bus_difference\": 24.0, \"num_trips\": 9, \"num_competitive\": 9, \"pct_trips_competitive\": 1.0, \"bus_difference_spread\": 15.0, \"route_group\": \"long\", \"max_trip_hrs\": 1.55, \"max_trip_route_group\": 2.67, \"name\": \"Kern County\", \"caltrans_district\": \"06 - Fresno\", \"drmt_organization_name\": null, \"cutoff2\": 40.05, \"cutoff\": 2}, {\"calitp_itp_id\": 146, \"trip_key\": -7990793653844275569, \"trip_id\": \"t_1270743_b_33402_tn_0\", \"shape_id\": \"p_178359\", \"route_id\": \"1161\", \"service_hours\": 1.48, \"trip_first_departure_ts\": 35700, \"trip_last_arrival_ts\": 41040, \"departure_hour\": 9, \"time_of_day\": \"AM Peak\", \"p25\": 1.48, \"p50\": 1.48, \"p75\": 1.55, \"p50_trip\": 1, \"fastest_trip\": 0, \"car_duration_hours\": 0.97, \"competitive_route\": 1, \"bus_multiplier\": 1.53, \"bus_difference\": 30.6, \"num_trips\": 9, \"num_competitive\": 9, \"pct_trips_competitive\": 1.0, \"bus_difference_spread\": 15.0, \"route_group\": \"long\", \"max_trip_hrs\": 1.55, \"max_trip_route_group\": 2.67, \"name\": \"Kern County\", \"caltrans_district\": \"06 - Fresno\", \"drmt_organization_name\": null, \"cutoff2\": 40.05, \"cutoff\": 2}, {\"calitp_itp_id\": 146, \"trip_key\": 2981651922526876918, \"trip_id\": \"t_1270748_b_33402_tn_0\", \"shape_id\": \"p_178359\", \"route_id\": \"1161\", \"service_hours\": 1.48, \"trip_first_departure_ts\": 56100, \"trip_last_arrival_ts\": 61440, \"departure_hour\": 15, \"time_of_day\": \"Midday\", \"p25\": 1.48, \"p50\": 1.48, \"p75\": 1.55, \"p50_trip\": 1, \"fastest_trip\": 0, \"car_duration_hours\": 0.97, \"competitive_route\": 1, \"bus_multiplier\": 1.53, \"bus_difference\": 30.6, \"num_trips\": 9, \"num_competitive\": 9, \"pct_trips_competitive\": 1.0, \"bus_difference_spread\": 15.0, \"route_group\": \"long\", \"max_trip_hrs\": 1.55, \"max_trip_route_group\": 2.67, \"name\": \"Kern County\", \"caltrans_district\": \"06 - Fresno\", \"drmt_organization_name\": null, \"cutoff2\": 40.05, \"cutoff\": 2}, {\"calitp_itp_id\": 146, \"trip_key\": 8490347904405264088, \"trip_id\": \"t_1270741_b_33402_tn_0\", \"shape_id\": \"p_178359\", \"route_id\": \"1161\", \"service_hours\": 1.48, \"trip_first_departure_ts\": 21000, \"trip_last_arrival_ts\": 26340, \"departure_hour\": 5, \"time_of_day\": \"Owl Service\", \"p25\": 1.48, \"p50\": 1.48, \"p75\": 1.55, \"p50_trip\": 1, \"fastest_trip\": 0, \"car_duration_hours\": 0.97, \"competitive_route\": 1, \"bus_multiplier\": 1.53, \"bus_difference\": 30.6, \"num_trips\": 9, \"num_competitive\": 9, \"pct_trips_competitive\": 1.0, \"bus_difference_spread\": 15.0, \"route_group\": \"long\", \"max_trip_hrs\": 1.55, \"max_trip_route_group\": 2.67, \"name\": \"Kern County\", \"caltrans_district\": \"06 - Fresno\", \"drmt_organization_name\": null, \"cutoff2\": 40.05, \"cutoff\": 2}, {\"calitp_itp_id\": 146, \"trip_key\": 1262263643627312031, \"trip_id\": \"t_1270750_b_33402_tn_0\", \"shape_id\": \"p_111843\", \"route_id\": \"1161\", \"service_hours\": 1.55, \"trip_first_departure_ts\": 48900, \"trip_last_arrival_ts\": 54480, \"departure_hour\": 13, \"time_of_day\": \"Midday\", \"p25\": 1.48, \"p50\": 1.48, \"p75\": 1.55, \"p50_trip\": 0, \"fastest_trip\": 0, \"car_duration_hours\": 0.97, \"competitive_route\": 1, \"bus_multiplier\": 1.6, \"bus_difference\": 34.8, \"num_trips\": 9, \"num_competitive\": 9, \"pct_trips_competitive\": 1.0, \"bus_difference_spread\": 15.0, \"route_group\": \"long\", \"max_trip_hrs\": 1.55, \"max_trip_route_group\": 2.67, \"name\": \"Kern County\", \"caltrans_district\": \"06 - Fresno\", \"drmt_organization_name\": null, \"cutoff2\": 40.05, \"cutoff\": 2}, {\"calitp_itp_id\": 146, \"trip_key\": -8012276736357788588, \"trip_id\": \"t_1270747_b_33402_tn_0\", \"shape_id\": \"p_111843\", \"route_id\": \"1161\", \"service_hours\": 1.55, \"trip_first_departure_ts\": 63900, \"trip_last_arrival_ts\": 69480, \"departure_hour\": 17, \"time_of_day\": \"PM Peak\", \"p25\": 1.48, \"p50\": 1.48, \"p75\": 1.55, \"p50_trip\": 0, \"fastest_trip\": 0, \"car_duration_hours\": 0.97, \"competitive_route\": 1, \"bus_multiplier\": 1.6, \"bus_difference\": 34.8, \"num_trips\": 9, \"num_competitive\": 9, \"pct_trips_competitive\": 1.0, \"bus_difference_spread\": 15.0, \"route_group\": \"long\", \"max_trip_hrs\": 1.55, \"max_trip_route_group\": 2.67, \"name\": \"Kern County\", \"caltrans_district\": \"06 - Fresno\", \"drmt_organization_name\": null, \"cutoff2\": 40.05, \"cutoff\": 2}, {\"calitp_itp_id\": 146, \"trip_key\": -1436786589014759050, \"trip_id\": \"t_1270744_b_33402_tn_0\", \"shape_id\": \"p_111843\", \"route_id\": \"1161\", \"service_hours\": 1.55, \"trip_first_departure_ts\": 72900, \"trip_last_arrival_ts\": 78480, \"departure_hour\": 20, \"time_of_day\": \"Owl Service\", \"p25\": 1.48, \"p50\": 1.48, \"p75\": 1.55, \"p50_trip\": 0, \"fastest_trip\": 0, \"car_duration_hours\": 0.97, \"competitive_route\": 1, \"bus_multiplier\": 1.6, \"bus_difference\": 34.8, \"num_trips\": 9, \"num_competitive\": 9, \"pct_trips_competitive\": 1.0, \"bus_difference_spread\": 15.0, \"route_group\": \"long\", \"max_trip_hrs\": 1.55, \"max_trip_route_group\": 2.67, \"name\": \"Kern County\", \"caltrans_district\": \"06 - Fresno\", \"drmt_organization_name\": null, \"cutoff2\": 40.05, \"cutoff\": 2}, {\"calitp_itp_id\": 146, \"trip_key\": -3446891539184357635, \"trip_id\": \"t_1270740_b_33402_tn_0\", \"shape_id\": \"p_111843\", \"route_id\": \"1161\", \"service_hours\": 1.55, \"trip_first_departure_ts\": 28800, \"trip_last_arrival_ts\": 34380, \"departure_hour\": 8, \"time_of_day\": \"AM Peak\", \"p25\": 1.48, \"p50\": 1.48, \"p75\": 1.55, \"p50_trip\": 0, \"fastest_trip\": 0, \"car_duration_hours\": 0.97, \"competitive_route\": 1, \"bus_multiplier\": 1.6, \"bus_difference\": 34.8, \"num_trips\": 9, \"num_competitive\": 9, \"pct_trips_competitive\": 1.0, \"bus_difference_spread\": 15.0, \"route_group\": \"long\", \"max_trip_hrs\": 1.55, \"max_trip_route_group\": 2.67, \"name\": \"Kern County\", \"caltrans_district\": \"06 - Fresno\", \"drmt_organization_name\": null, \"cutoff2\": 40.05, \"cutoff\": 2}, {\"calitp_itp_id\": 146, \"trip_key\": -8590870193841586933, \"trip_id\": \"t_2002244_b_33402_tn_0\", \"shape_id\": \"p_531929\", \"route_id\": \"1164\", \"service_hours\": 1.67, \"trip_first_departure_ts\": 72000, \"trip_last_arrival_ts\": 78000, \"departure_hour\": 20, \"time_of_day\": \"Owl Service\", \"p25\": 1.835, \"p50\": 2.415, \"p75\": 2.5, \"p50_trip\": 0, \"fastest_trip\": 1, \"car_duration_hours\": 1.51, \"competitive_route\": 1, \"bus_multiplier\": 1.11, \"bus_difference\": 9.6, \"num_trips\": 6, \"num_competitive\": 6, \"pct_trips_competitive\": 1.0, \"bus_difference_spread\": 60.0, \"route_group\": \"long\", \"max_trip_hrs\": 2.67, \"max_trip_route_group\": 2.67, \"name\": \"Kern County\", \"caltrans_district\": \"06 - Fresno\", \"drmt_organization_name\": null, \"cutoff2\": 40.05, \"cutoff\": 2}, {\"calitp_itp_id\": 146, \"trip_key\": 5871427795504534946, \"trip_id\": \"t_2002253_b_33402_tn_0\", \"shape_id\": \"p_176613\", \"route_id\": \"1164\", \"service_hours\": 1.67, \"trip_first_departure_ts\": 16500, \"trip_last_arrival_ts\": 22500, \"departure_hour\": 4, \"time_of_day\": \"Owl Service\", \"p25\": 1.835, \"p50\": 2.415, \"p75\": 2.5, \"p50_trip\": 0, \"fastest_trip\": 0, \"car_duration_hours\": 1.51, \"competitive_route\": 1, \"bus_multiplier\": 1.11, \"bus_difference\": 9.6, \"num_trips\": 6, \"num_competitive\": 6, \"pct_trips_competitive\": 1.0, \"bus_difference_spread\": 60.0, \"route_group\": \"long\", \"max_trip_hrs\": 2.67, \"max_trip_route_group\": 2.67, \"name\": \"Kern County\", \"caltrans_district\": \"06 - Fresno\", \"drmt_organization_name\": null, \"cutoff2\": 40.05, \"cutoff\": 2}, {\"calitp_itp_id\": 146, \"trip_key\": 5459623371448546951, \"trip_id\": \"t_577178_b_33402_tn_0\", \"shape_id\": \"p_531898\", \"route_id\": \"1164\", \"service_hours\": 2.33, \"trip_first_departure_ts\": 61500, \"trip_last_arrival_ts\": 69900, \"departure_hour\": 17, \"time_of_day\": \"PM Peak\", \"p25\": 1.835, \"p50\": 2.415, \"p75\": 2.5, \"p50_trip\": 1, \"fastest_trip\": 0, \"car_duration_hours\": 1.51, \"competitive_route\": 1, \"bus_multiplier\": 1.54, \"bus_difference\": 49.2, \"num_trips\": 6, \"num_competitive\": 6, \"pct_trips_competitive\": 1.0, \"bus_difference_spread\": 60.0, \"route_group\": \"long\", \"max_trip_hrs\": 2.67, \"max_trip_route_group\": 2.67, \"name\": \"Kern County\", \"caltrans_district\": \"06 - Fresno\", \"drmt_organization_name\": null, \"cutoff2\": 40.05, \"cutoff\": 2}, {\"calitp_itp_id\": 146, \"trip_key\": -2595492361503989003, \"trip_id\": \"t_2002246_b_33402_tn_0\", \"shape_id\": \"p_1304184\", \"route_id\": \"1164\", \"service_hours\": 2.5, \"trip_first_departure_ts\": 27900, \"trip_last_arrival_ts\": 36900, \"departure_hour\": 7, \"time_of_day\": \"AM Peak\", \"p25\": 1.835, \"p50\": 2.415, \"p75\": 2.5, \"p50_trip\": 1, \"fastest_trip\": 0, \"car_duration_hours\": 1.51, \"competitive_route\": 1, \"bus_multiplier\": 1.66, \"bus_difference\": 59.4, \"num_trips\": 6, \"num_competitive\": 6, \"pct_trips_competitive\": 1.0, \"bus_difference_spread\": 60.0, \"route_group\": \"long\", \"max_trip_hrs\": 2.67, \"max_trip_route_group\": 2.67, \"name\": \"Kern County\", \"caltrans_district\": \"06 - Fresno\", \"drmt_organization_name\": null, \"cutoff2\": 40.05, \"cutoff\": 2}, {\"calitp_itp_id\": 146, \"trip_key\": 4555264788618060953, \"trip_id\": \"t_559817_b_33402_tn_0\", \"shape_id\": \"p_1304184\", \"route_id\": \"1164\", \"service_hours\": 2.5, \"trip_first_departure_ts\": 48300, \"trip_last_arrival_ts\": 57300, \"departure_hour\": 13, \"time_of_day\": \"Midday\", \"p25\": 1.835, \"p50\": 2.415, \"p75\": 2.5, \"p50_trip\": 1, \"fastest_trip\": 0, \"car_duration_hours\": 1.51, \"competitive_route\": 1, \"bus_multiplier\": 1.66, \"bus_difference\": 59.4, \"num_trips\": 6, \"num_competitive\": 6, \"pct_trips_competitive\": 1.0, \"bus_difference_spread\": 60.0, \"route_group\": \"long\", \"max_trip_hrs\": 2.67, \"max_trip_route_group\": 2.67, \"name\": \"Kern County\", \"caltrans_district\": \"06 - Fresno\", \"drmt_organization_name\": null, \"cutoff2\": 40.05, \"cutoff\": 2}, {\"calitp_itp_id\": 146, \"trip_key\": 2870020657017803320, \"trip_id\": \"t_2002242_b_33402_tn_0\", \"shape_id\": \"p_3037\", \"route_id\": \"1164\", \"service_hours\": 2.67, \"trip_first_departure_ts\": 36900, \"trip_last_arrival_ts\": 46500, \"departure_hour\": 10, \"time_of_day\": \"Midday\", \"p25\": 1.835, \"p50\": 2.415, \"p75\": 2.5, \"p50_trip\": 0, \"fastest_trip\": 0, \"car_duration_hours\": 1.51, \"competitive_route\": 1, \"bus_multiplier\": 1.77, \"bus_difference\": 69.6, \"num_trips\": 6, \"num_competitive\": 6, \"pct_trips_competitive\": 1.0, \"bus_difference_spread\": 60.0, \"route_group\": \"long\", \"max_trip_hrs\": 2.67, \"max_trip_route_group\": 2.67, \"name\": \"Kern County\", \"caltrans_district\": \"06 - Fresno\", \"drmt_organization_name\": null, \"cutoff2\": 40.05, \"cutoff\": 2}]}}, {\"mode\": \"vega-lite\"});\n",
       "</script>"
      ],
      "text/plain": [
       "alt.FacetChart(...)"
      ]
     },
     "metadata": {},
     "output_type": "display_data"
    },
    {
     "data": {
      "text/html": [
       "\n",
       "<div id=\"altair-viz-ad4ea3000e914061b6b4533ac5c0f812\"></div>\n",
       "<script type=\"text/javascript\">\n",
       "  var VEGA_DEBUG = (typeof VEGA_DEBUG == \"undefined\") ? {} : VEGA_DEBUG;\n",
       "  (function(spec, embedOpt){\n",
       "    let outputDiv = document.currentScript.previousElementSibling;\n",
       "    if (outputDiv.id !== \"altair-viz-ad4ea3000e914061b6b4533ac5c0f812\") {\n",
       "      outputDiv = document.getElementById(\"altair-viz-ad4ea3000e914061b6b4533ac5c0f812\");\n",
       "    }\n",
       "    const paths = {\n",
       "      \"vega\": \"https://cdn.jsdelivr.net/npm//vega@5?noext\",\n",
       "      \"vega-lib\": \"https://cdn.jsdelivr.net/npm//vega-lib?noext\",\n",
       "      \"vega-lite\": \"https://cdn.jsdelivr.net/npm//vega-lite@4.17.0?noext\",\n",
       "      \"vega-embed\": \"https://cdn.jsdelivr.net/npm//vega-embed@6?noext\",\n",
       "    };\n",
       "\n",
       "    function maybeLoadScript(lib, version) {\n",
       "      var key = `${lib.replace(\"-\", \"\")}_version`;\n",
       "      return (VEGA_DEBUG[key] == version) ?\n",
       "        Promise.resolve(paths[lib]) :\n",
       "        new Promise(function(resolve, reject) {\n",
       "          var s = document.createElement('script');\n",
       "          document.getElementsByTagName(\"head\")[0].appendChild(s);\n",
       "          s.async = true;\n",
       "          s.onload = () => {\n",
       "            VEGA_DEBUG[key] = version;\n",
       "            return resolve(paths[lib]);\n",
       "          };\n",
       "          s.onerror = () => reject(`Error loading script: ${paths[lib]}`);\n",
       "          s.src = paths[lib];\n",
       "        });\n",
       "    }\n",
       "\n",
       "    function showError(err) {\n",
       "      outputDiv.innerHTML = `<div class=\"error\" style=\"color:red;\">${err}</div>`;\n",
       "      throw err;\n",
       "    }\n",
       "\n",
       "    function displayChart(vegaEmbed) {\n",
       "      vegaEmbed(outputDiv, spec, embedOpt)\n",
       "        .catch(err => showError(`Javascript Error: ${err.message}<br>This usually means there's a typo in your chart specification. See the javascript console for the full traceback.`));\n",
       "    }\n",
       "\n",
       "    if(typeof define === \"function\" && define.amd) {\n",
       "      requirejs.config({paths});\n",
       "      require([\"vega-embed\"], displayChart, err => showError(`Error loading script: ${err.message}`));\n",
       "    } else {\n",
       "      maybeLoadScript(\"vega\", \"5\")\n",
       "        .then(() => maybeLoadScript(\"vega-lite\", \"4.17.0\"))\n",
       "        .then(() => maybeLoadScript(\"vega-embed\", \"6\"))\n",
       "        .catch(showError)\n",
       "        .then(() => displayChart(vegaEmbed));\n",
       "    }\n",
       "  })({\"config\": {\"view\": {\"continuousWidth\": 400, \"continuousHeight\": 300, \"stroke\": null}, \"facet\": {\"spacing\": 0}}, \"data\": {\"name\": \"data-0e9dc8dbb17be32b053f8f3181999d85\"}, \"facet\": {\"column\": {\"field\": \"route_id\", \"sort\": [\"1161\", \"1164\"], \"title\": \"Route ID\", \"type\": \"nominal\"}}, \"spec\": {\"layer\": [{\"mark\": {\"type\": \"point\", \"opacity\": 0.65, \"size\": 12, \"strokeWidth\": 1.1}, \"encoding\": {\"color\": {\"field\": \"time_of_day\", \"scale\": {\"range\": [\"#136C97\", \"#E16B26\", \"#F6BF16\", \"#00896B\", \"#7790A3\", \"#5B559C\"]}, \"sort\": [\"AM Peak\", \"Midday\", \"PM Peak\", \"Owl Service\"], \"title\": \"Time of Day\", \"type\": \"nominal\"}, \"tooltip\": [{\"field\": \"route_id\", \"type\": \"nominal\"}, {\"field\": \"trip_id\", \"type\": \"nominal\"}, {\"field\": \"service_hours\", \"type\": \"quantitative\"}, {\"field\": \"car_duration_hours\", \"type\": \"quantitative\"}, {\"field\": \"bus_multiplier\", \"type\": \"quantitative\"}, {\"field\": \"bus_difference\", \"type\": \"quantitative\"}, {\"field\": \"num_trips\", \"type\": \"quantitative\"}, {\"field\": \"num_competitive\", \"type\": \"quantitative\"}, {\"field\": \"pct_trips_competitive\", \"type\": \"quantitative\"}, {\"field\": \"p25\", \"type\": \"quantitative\"}, {\"field\": \"p50\", \"type\": \"quantitative\"}, {\"field\": \"p75\", \"type\": \"quantitative\"}], \"x\": {\"axis\": {\"grid\": false, \"labels\": false, \"ticks\": true, \"values\": [0]}, \"field\": \"jitter\", \"scale\": {}, \"title\": null, \"type\": \"quantitative\"}, \"y\": {\"field\": \"bus_difference\", \"scale\": {\"domain\": [-5, 69.6]}, \"title\": \"Difference in Bus to Car Travel Time (min)\", \"type\": \"quantitative\"}}, \"selection\": {\"selector006\": {\"type\": \"interval\", \"bind\": \"scales\", \"encodings\": [\"x\", \"y\"]}}, \"transform\": [{\"calculate\": \"sqrt(-2*log(random()))*cos(2*PI*random())\", \"as\": \"jitter\"}], \"width\": 60}, {\"layer\": [{\"mark\": {\"type\": \"point\", \"opacity\": 0.6, \"size\": 20, \"strokeWidth\": 1.3}, \"encoding\": {\"color\": {\"value\": \"#323434\"}, \"y\": {\"field\": \"bus_difference\", \"type\": \"quantitative\"}}, \"transform\": [{\"filter\": \"(datum.p50_trip === 1)\"}]}, {\"mark\": {\"type\": \"rule\", \"strokeDash\": [2, 3]}, \"encoding\": {\"color\": {\"value\": \"#323434\"}, \"y\": {\"field\": \"cutoff\", \"type\": \"quantitative\"}}}, {\"mark\": {\"type\": \"rule\", \"strokeDash\": [2, 3]}, \"encoding\": {\"color\": {\"value\": \"#136C97\"}, \"y\": {\"field\": \"cutoff2\", \"type\": \"quantitative\"}}}, {\"mark\": {\"type\": \"text\", \"align\": \"center\", \"baseline\": \"middle\"}, \"encoding\": {\"color\": {\"value\": \"black\"}, \"text\": {\"field\": \"pct_trips_competitive\", \"format\": \".0%\", \"type\": \"quantitative\"}, \"tooltip\": [{\"field\": \"route_id\", \"type\": \"nominal\"}, {\"field\": \"trip_id\", \"type\": \"nominal\"}, {\"field\": \"service_hours\", \"type\": \"quantitative\"}, {\"field\": \"car_duration_hours\", \"type\": \"quantitative\"}, {\"field\": \"bus_multiplier\", \"type\": \"quantitative\"}, {\"field\": \"bus_difference\", \"type\": \"quantitative\"}, {\"field\": \"num_trips\", \"type\": \"quantitative\"}, {\"field\": \"num_competitive\", \"type\": \"quantitative\"}, {\"field\": \"pct_trips_competitive\", \"type\": \"quantitative\"}, {\"field\": \"p25\", \"type\": \"quantitative\"}, {\"field\": \"p50\", \"type\": \"quantitative\"}, {\"field\": \"p75\", \"type\": \"quantitative\"}], \"x\": {\"value\": 30}, \"y\": {\"value\": 15}}, \"transform\": [{\"calculate\": \"sqrt(-2*log(random()))*cos(2*PI*random())\", \"as\": \"jitter\"}, {\"filter\": \"(datum.fastest_trip === 1)\"}]}]}]}, \"resolve\": {\"scale\": {\"y\": \"shared\"}}, \"title\": \"Difference in Bus to Car Travel Time (min)\", \"$schema\": \"https://vega.github.io/schema/vega-lite/v4.17.0.json\", \"datasets\": {\"data-0e9dc8dbb17be32b053f8f3181999d85\": [{\"calitp_itp_id\": 146, \"trip_key\": -2938986463235106552, \"trip_id\": \"t_1270746_b_33402_tn_0\", \"shape_id\": \"p_3083\", \"route_id\": \"1161\", \"service_hours\": 1.3, \"trip_first_departure_ts\": 69900, \"trip_last_arrival_ts\": 74580, \"departure_hour\": 19, \"time_of_day\": \"PM Peak\", \"p25\": 1.48, \"p50\": 1.48, \"p75\": 1.55, \"p50_trip\": 0, \"fastest_trip\": 1, \"car_duration_hours\": 0.97, \"competitive_route\": 1, \"bus_multiplier\": 1.34, \"bus_difference\": 19.8, \"num_trips\": 9, \"num_competitive\": 9, \"pct_trips_competitive\": 1.0, \"bus_difference_spread\": 15.0, \"route_group\": \"long\", \"max_trip_hrs\": 1.55, \"max_trip_route_group\": 2.67, \"name\": \"Kern County\", \"caltrans_district\": \"06 - Fresno\", \"drmt_organization_name\": null, \"cutoff2\": 40.05, \"cutoff\": 0}, {\"calitp_itp_id\": 146, \"trip_key\": -27775948743421188, \"trip_id\": \"t_1270752_b_33402_tn_0\", \"shape_id\": \"p_787635\", \"route_id\": \"1161\", \"service_hours\": 1.37, \"trip_first_departure_ts\": 15600, \"trip_last_arrival_ts\": 20520, \"departure_hour\": 4, \"time_of_day\": \"Owl Service\", \"p25\": 1.48, \"p50\": 1.48, \"p75\": 1.55, \"p50_trip\": 0, \"fastest_trip\": 0, \"car_duration_hours\": 0.97, \"competitive_route\": 1, \"bus_multiplier\": 1.41, \"bus_difference\": 24.0, \"num_trips\": 9, \"num_competitive\": 9, \"pct_trips_competitive\": 1.0, \"bus_difference_spread\": 15.0, \"route_group\": \"long\", \"max_trip_hrs\": 1.55, \"max_trip_route_group\": 2.67, \"name\": \"Kern County\", \"caltrans_district\": \"06 - Fresno\", \"drmt_organization_name\": null, \"cutoff2\": 40.05, \"cutoff\": 0}, {\"calitp_itp_id\": 146, \"trip_key\": -7990793653844275569, \"trip_id\": \"t_1270743_b_33402_tn_0\", \"shape_id\": \"p_178359\", \"route_id\": \"1161\", \"service_hours\": 1.48, \"trip_first_departure_ts\": 35700, \"trip_last_arrival_ts\": 41040, \"departure_hour\": 9, \"time_of_day\": \"AM Peak\", \"p25\": 1.48, \"p50\": 1.48, \"p75\": 1.55, \"p50_trip\": 1, \"fastest_trip\": 0, \"car_duration_hours\": 0.97, \"competitive_route\": 1, \"bus_multiplier\": 1.53, \"bus_difference\": 30.6, \"num_trips\": 9, \"num_competitive\": 9, \"pct_trips_competitive\": 1.0, \"bus_difference_spread\": 15.0, \"route_group\": \"long\", \"max_trip_hrs\": 1.55, \"max_trip_route_group\": 2.67, \"name\": \"Kern County\", \"caltrans_district\": \"06 - Fresno\", \"drmt_organization_name\": null, \"cutoff2\": 40.05, \"cutoff\": 0}, {\"calitp_itp_id\": 146, \"trip_key\": 2981651922526876918, \"trip_id\": \"t_1270748_b_33402_tn_0\", \"shape_id\": \"p_178359\", \"route_id\": \"1161\", \"service_hours\": 1.48, \"trip_first_departure_ts\": 56100, \"trip_last_arrival_ts\": 61440, \"departure_hour\": 15, \"time_of_day\": \"Midday\", \"p25\": 1.48, \"p50\": 1.48, \"p75\": 1.55, \"p50_trip\": 1, \"fastest_trip\": 0, \"car_duration_hours\": 0.97, \"competitive_route\": 1, \"bus_multiplier\": 1.53, \"bus_difference\": 30.6, \"num_trips\": 9, \"num_competitive\": 9, \"pct_trips_competitive\": 1.0, \"bus_difference_spread\": 15.0, \"route_group\": \"long\", \"max_trip_hrs\": 1.55, \"max_trip_route_group\": 2.67, \"name\": \"Kern County\", \"caltrans_district\": \"06 - Fresno\", \"drmt_organization_name\": null, \"cutoff2\": 40.05, \"cutoff\": 0}, {\"calitp_itp_id\": 146, \"trip_key\": 8490347904405264088, \"trip_id\": \"t_1270741_b_33402_tn_0\", \"shape_id\": \"p_178359\", \"route_id\": \"1161\", \"service_hours\": 1.48, \"trip_first_departure_ts\": 21000, \"trip_last_arrival_ts\": 26340, \"departure_hour\": 5, \"time_of_day\": \"Owl Service\", \"p25\": 1.48, \"p50\": 1.48, \"p75\": 1.55, \"p50_trip\": 1, \"fastest_trip\": 0, \"car_duration_hours\": 0.97, \"competitive_route\": 1, \"bus_multiplier\": 1.53, \"bus_difference\": 30.6, \"num_trips\": 9, \"num_competitive\": 9, \"pct_trips_competitive\": 1.0, \"bus_difference_spread\": 15.0, \"route_group\": \"long\", \"max_trip_hrs\": 1.55, \"max_trip_route_group\": 2.67, \"name\": \"Kern County\", \"caltrans_district\": \"06 - Fresno\", \"drmt_organization_name\": null, \"cutoff2\": 40.05, \"cutoff\": 0}, {\"calitp_itp_id\": 146, \"trip_key\": 1262263643627312031, \"trip_id\": \"t_1270750_b_33402_tn_0\", \"shape_id\": \"p_111843\", \"route_id\": \"1161\", \"service_hours\": 1.55, \"trip_first_departure_ts\": 48900, \"trip_last_arrival_ts\": 54480, \"departure_hour\": 13, \"time_of_day\": \"Midday\", \"p25\": 1.48, \"p50\": 1.48, \"p75\": 1.55, \"p50_trip\": 0, \"fastest_trip\": 0, \"car_duration_hours\": 0.97, \"competitive_route\": 1, \"bus_multiplier\": 1.6, \"bus_difference\": 34.8, \"num_trips\": 9, \"num_competitive\": 9, \"pct_trips_competitive\": 1.0, \"bus_difference_spread\": 15.0, \"route_group\": \"long\", \"max_trip_hrs\": 1.55, \"max_trip_route_group\": 2.67, \"name\": \"Kern County\", \"caltrans_district\": \"06 - Fresno\", \"drmt_organization_name\": null, \"cutoff2\": 40.05, \"cutoff\": 0}, {\"calitp_itp_id\": 146, \"trip_key\": -8012276736357788588, \"trip_id\": \"t_1270747_b_33402_tn_0\", \"shape_id\": \"p_111843\", \"route_id\": \"1161\", \"service_hours\": 1.55, \"trip_first_departure_ts\": 63900, \"trip_last_arrival_ts\": 69480, \"departure_hour\": 17, \"time_of_day\": \"PM Peak\", \"p25\": 1.48, \"p50\": 1.48, \"p75\": 1.55, \"p50_trip\": 0, \"fastest_trip\": 0, \"car_duration_hours\": 0.97, \"competitive_route\": 1, \"bus_multiplier\": 1.6, \"bus_difference\": 34.8, \"num_trips\": 9, \"num_competitive\": 9, \"pct_trips_competitive\": 1.0, \"bus_difference_spread\": 15.0, \"route_group\": \"long\", \"max_trip_hrs\": 1.55, \"max_trip_route_group\": 2.67, \"name\": \"Kern County\", \"caltrans_district\": \"06 - Fresno\", \"drmt_organization_name\": null, \"cutoff2\": 40.05, \"cutoff\": 0}, {\"calitp_itp_id\": 146, \"trip_key\": -1436786589014759050, \"trip_id\": \"t_1270744_b_33402_tn_0\", \"shape_id\": \"p_111843\", \"route_id\": \"1161\", \"service_hours\": 1.55, \"trip_first_departure_ts\": 72900, \"trip_last_arrival_ts\": 78480, \"departure_hour\": 20, \"time_of_day\": \"Owl Service\", \"p25\": 1.48, \"p50\": 1.48, \"p75\": 1.55, \"p50_trip\": 0, \"fastest_trip\": 0, \"car_duration_hours\": 0.97, \"competitive_route\": 1, \"bus_multiplier\": 1.6, \"bus_difference\": 34.8, \"num_trips\": 9, \"num_competitive\": 9, \"pct_trips_competitive\": 1.0, \"bus_difference_spread\": 15.0, \"route_group\": \"long\", \"max_trip_hrs\": 1.55, \"max_trip_route_group\": 2.67, \"name\": \"Kern County\", \"caltrans_district\": \"06 - Fresno\", \"drmt_organization_name\": null, \"cutoff2\": 40.05, \"cutoff\": 0}, {\"calitp_itp_id\": 146, \"trip_key\": -3446891539184357635, \"trip_id\": \"t_1270740_b_33402_tn_0\", \"shape_id\": \"p_111843\", \"route_id\": \"1161\", \"service_hours\": 1.55, \"trip_first_departure_ts\": 28800, \"trip_last_arrival_ts\": 34380, \"departure_hour\": 8, \"time_of_day\": \"AM Peak\", \"p25\": 1.48, \"p50\": 1.48, \"p75\": 1.55, \"p50_trip\": 0, \"fastest_trip\": 0, \"car_duration_hours\": 0.97, \"competitive_route\": 1, \"bus_multiplier\": 1.6, \"bus_difference\": 34.8, \"num_trips\": 9, \"num_competitive\": 9, \"pct_trips_competitive\": 1.0, \"bus_difference_spread\": 15.0, \"route_group\": \"long\", \"max_trip_hrs\": 1.55, \"max_trip_route_group\": 2.67, \"name\": \"Kern County\", \"caltrans_district\": \"06 - Fresno\", \"drmt_organization_name\": null, \"cutoff2\": 40.05, \"cutoff\": 0}, {\"calitp_itp_id\": 146, \"trip_key\": -8590870193841586933, \"trip_id\": \"t_2002244_b_33402_tn_0\", \"shape_id\": \"p_531929\", \"route_id\": \"1164\", \"service_hours\": 1.67, \"trip_first_departure_ts\": 72000, \"trip_last_arrival_ts\": 78000, \"departure_hour\": 20, \"time_of_day\": \"Owl Service\", \"p25\": 1.835, \"p50\": 2.415, \"p75\": 2.5, \"p50_trip\": 0, \"fastest_trip\": 1, \"car_duration_hours\": 1.51, \"competitive_route\": 1, \"bus_multiplier\": 1.11, \"bus_difference\": 9.6, \"num_trips\": 6, \"num_competitive\": 6, \"pct_trips_competitive\": 1.0, \"bus_difference_spread\": 60.0, \"route_group\": \"long\", \"max_trip_hrs\": 2.67, \"max_trip_route_group\": 2.67, \"name\": \"Kern County\", \"caltrans_district\": \"06 - Fresno\", \"drmt_organization_name\": null, \"cutoff2\": 40.05, \"cutoff\": 0}, {\"calitp_itp_id\": 146, \"trip_key\": 5871427795504534946, \"trip_id\": \"t_2002253_b_33402_tn_0\", \"shape_id\": \"p_176613\", \"route_id\": \"1164\", \"service_hours\": 1.67, \"trip_first_departure_ts\": 16500, \"trip_last_arrival_ts\": 22500, \"departure_hour\": 4, \"time_of_day\": \"Owl Service\", \"p25\": 1.835, \"p50\": 2.415, \"p75\": 2.5, \"p50_trip\": 0, \"fastest_trip\": 0, \"car_duration_hours\": 1.51, \"competitive_route\": 1, \"bus_multiplier\": 1.11, \"bus_difference\": 9.6, \"num_trips\": 6, \"num_competitive\": 6, \"pct_trips_competitive\": 1.0, \"bus_difference_spread\": 60.0, \"route_group\": \"long\", \"max_trip_hrs\": 2.67, \"max_trip_route_group\": 2.67, \"name\": \"Kern County\", \"caltrans_district\": \"06 - Fresno\", \"drmt_organization_name\": null, \"cutoff2\": 40.05, \"cutoff\": 0}, {\"calitp_itp_id\": 146, \"trip_key\": 5459623371448546951, \"trip_id\": \"t_577178_b_33402_tn_0\", \"shape_id\": \"p_531898\", \"route_id\": \"1164\", \"service_hours\": 2.33, \"trip_first_departure_ts\": 61500, \"trip_last_arrival_ts\": 69900, \"departure_hour\": 17, \"time_of_day\": \"PM Peak\", \"p25\": 1.835, \"p50\": 2.415, \"p75\": 2.5, \"p50_trip\": 1, \"fastest_trip\": 0, \"car_duration_hours\": 1.51, \"competitive_route\": 1, \"bus_multiplier\": 1.54, \"bus_difference\": 49.2, \"num_trips\": 6, \"num_competitive\": 6, \"pct_trips_competitive\": 1.0, \"bus_difference_spread\": 60.0, \"route_group\": \"long\", \"max_trip_hrs\": 2.67, \"max_trip_route_group\": 2.67, \"name\": \"Kern County\", \"caltrans_district\": \"06 - Fresno\", \"drmt_organization_name\": null, \"cutoff2\": 40.05, \"cutoff\": 0}, {\"calitp_itp_id\": 146, \"trip_key\": -2595492361503989003, \"trip_id\": \"t_2002246_b_33402_tn_0\", \"shape_id\": \"p_1304184\", \"route_id\": \"1164\", \"service_hours\": 2.5, \"trip_first_departure_ts\": 27900, \"trip_last_arrival_ts\": 36900, \"departure_hour\": 7, \"time_of_day\": \"AM Peak\", \"p25\": 1.835, \"p50\": 2.415, \"p75\": 2.5, \"p50_trip\": 1, \"fastest_trip\": 0, \"car_duration_hours\": 1.51, \"competitive_route\": 1, \"bus_multiplier\": 1.66, \"bus_difference\": 59.4, \"num_trips\": 6, \"num_competitive\": 6, \"pct_trips_competitive\": 1.0, \"bus_difference_spread\": 60.0, \"route_group\": \"long\", \"max_trip_hrs\": 2.67, \"max_trip_route_group\": 2.67, \"name\": \"Kern County\", \"caltrans_district\": \"06 - Fresno\", \"drmt_organization_name\": null, \"cutoff2\": 40.05, \"cutoff\": 0}, {\"calitp_itp_id\": 146, \"trip_key\": 4555264788618060953, \"trip_id\": \"t_559817_b_33402_tn_0\", \"shape_id\": \"p_1304184\", \"route_id\": \"1164\", \"service_hours\": 2.5, \"trip_first_departure_ts\": 48300, \"trip_last_arrival_ts\": 57300, \"departure_hour\": 13, \"time_of_day\": \"Midday\", \"p25\": 1.835, \"p50\": 2.415, \"p75\": 2.5, \"p50_trip\": 1, \"fastest_trip\": 0, \"car_duration_hours\": 1.51, \"competitive_route\": 1, \"bus_multiplier\": 1.66, \"bus_difference\": 59.4, \"num_trips\": 6, \"num_competitive\": 6, \"pct_trips_competitive\": 1.0, \"bus_difference_spread\": 60.0, \"route_group\": \"long\", \"max_trip_hrs\": 2.67, \"max_trip_route_group\": 2.67, \"name\": \"Kern County\", \"caltrans_district\": \"06 - Fresno\", \"drmt_organization_name\": null, \"cutoff2\": 40.05, \"cutoff\": 0}, {\"calitp_itp_id\": 146, \"trip_key\": 2870020657017803320, \"trip_id\": \"t_2002242_b_33402_tn_0\", \"shape_id\": \"p_3037\", \"route_id\": \"1164\", \"service_hours\": 2.67, \"trip_first_departure_ts\": 36900, \"trip_last_arrival_ts\": 46500, \"departure_hour\": 10, \"time_of_day\": \"Midday\", \"p25\": 1.835, \"p50\": 2.415, \"p75\": 2.5, \"p50_trip\": 0, \"fastest_trip\": 0, \"car_duration_hours\": 1.51, \"competitive_route\": 1, \"bus_multiplier\": 1.77, \"bus_difference\": 69.6, \"num_trips\": 6, \"num_competitive\": 6, \"pct_trips_competitive\": 1.0, \"bus_difference_spread\": 60.0, \"route_group\": \"long\", \"max_trip_hrs\": 2.67, \"max_trip_route_group\": 2.67, \"name\": \"Kern County\", \"caltrans_district\": \"06 - Fresno\", \"drmt_organization_name\": null, \"cutoff2\": 40.05, \"cutoff\": 0}]}}, {\"mode\": \"vega-lite\"});\n",
       "</script>"
      ],
      "text/plain": [
       "alt.FacetChart(...)"
      ]
     },
     "metadata": {},
     "output_type": "display_data"
    }
   ],
   "source": [
    "route_group = \"long\"\n",
    "try:\n",
    "    subset_routes, mult, diff  = setup_charts(df, PCT_COMPETITIVE_THRESHOLD, route_group)\n",
    "    if len(subset_routes) > 0:\n",
    "        display(\n",
    "            Markdown(\n",
    "                f\"{CAPTIONS_DICT[route_group]}\"\n",
    "                \"Within each route group, routes are sorted in descending order \"\n",
    "                \"by % competitive trips and # trips below the additional time cut-off.\"\n",
    "            )\n",
    "        )\n",
    "\n",
    "        display(mult)\n",
    "        display(diff)\n",
    "except:\n",
    "    print(\"No routes meet this criteria.\")"
   ]
  }
 ],
 "metadata": {
  "kernelspec": {
   "display_name": "Python 3 (ipykernel)",
   "language": "python",
   "name": "python3"
  },
  "language_info": {
   "codemirror_mode": {
    "name": "ipython",
    "version": 3
   },
   "file_extension": ".py",
   "mimetype": "text/x-python",
   "name": "python",
   "nbconvert_exporter": "python",
   "pygments_lexer": "ipython3",
   "version": "3.9.12"
  },
  "papermill": {
   "default_parameters": {},
   "duration": 22.678998,
   "end_time": "2022-05-07T17:15:20.882841",
   "environment_variables": {},
   "exception": null,
   "input_path": "bus_service_increase/stripplot.ipynb",
   "output_path": "portfolio/parallel_corridors/district_06-fresno/stripplot__itp_id_146.ipynb",
   "parameters": {
    "district": "06 - Fresno",
    "itp_id": 146
   },
   "start_time": "2022-05-07T17:14:58.203843",
   "version": "2.3.4"
  }
 },
 "nbformat": 4,
 "nbformat_minor": 5
}