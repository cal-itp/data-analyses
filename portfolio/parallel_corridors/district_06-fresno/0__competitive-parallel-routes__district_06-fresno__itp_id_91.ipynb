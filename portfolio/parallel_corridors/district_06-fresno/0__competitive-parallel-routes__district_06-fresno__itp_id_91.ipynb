{
 "cells": [
  {
   "cell_type": "code",
   "execution_count": 1,
   "id": "95d00857-6a20-4529-a519-2cc7182928a9",
   "metadata": {
    "execution": {
     "iopub.execute_input": "2022-06-03T22:00:56.389243Z",
     "iopub.status.busy": "2022-06-03T22:00:56.388201Z",
     "iopub.status.idle": "2022-06-03T22:01:05.349950Z",
     "shell.execute_reply": "2022-06-03T22:01:05.348249Z"
    },
    "jupyter": {
     "source_hidden": true
    },
    "papermill": {
     "duration": 8.982538,
     "end_time": "2022-06-03T22:01:05.352851",
     "exception": false,
     "start_time": "2022-06-03T22:00:56.370313",
     "status": "completed"
    },
    "tags": [
     "remove_input"
    ]
   },
   "outputs": [],
   "source": [
    "%%capture\n",
    "import warnings\n",
    "warnings.filterwarnings('ignore')\n",
    "\n",
    "import altair as alt\n",
    "import calitp.magics\n",
    "import geopandas as gpd\n",
    "import intake\n",
    "import pandas as pd\n",
    "\n",
    "from IPython.display import display, Markdown, HTML\n",
    "\n",
    "import parallel_corridors_utils\n",
    "import deploy_portfolio_yaml\n",
    "from shared_utils import styleguide, geography_utils\n",
    "from E5_make_stripplot_data import diff_cutoffs\n",
    "\n",
    "catalog = intake.open_catalog(\"./*.yml\")\n",
    "alt.renderers.enable(\"html\")"
   ]
  },
  {
   "cell_type": "code",
   "execution_count": 2,
   "id": "8af2a0c1-f3da-408d-9bea-11d9fbf8695d",
   "metadata": {
    "execution": {
     "iopub.execute_input": "2022-06-03T22:01:05.381717Z",
     "iopub.status.busy": "2022-06-03T22:01:05.381057Z",
     "iopub.status.idle": "2022-06-03T22:01:05.385674Z",
     "shell.execute_reply": "2022-06-03T22:01:05.385068Z"
    },
    "jupyter": {
     "source_hidden": true
    },
    "papermill": {
     "duration": 0.021028,
     "end_time": "2022-06-03T22:01:05.387501",
     "exception": false,
     "start_time": "2022-06-03T22:01:05.366473",
     "status": "completed"
    },
    "tags": [
     "parameters",
     "remove_input"
    ]
   },
   "outputs": [],
   "source": [
    "# parameters cell\n",
    "itp_id = 182"
   ]
  },
  {
   "cell_type": "code",
   "execution_count": 3,
   "id": "2c0759f4",
   "metadata": {
    "execution": {
     "iopub.execute_input": "2022-06-03T22:01:05.414616Z",
     "iopub.status.busy": "2022-06-03T22:01:05.414017Z",
     "iopub.status.idle": "2022-06-03T22:01:05.418096Z",
     "shell.execute_reply": "2022-06-03T22:01:05.417585Z"
    },
    "jupyter": {
     "source_hidden": true
    },
    "papermill": {
     "duration": 0.02025,
     "end_time": "2022-06-03T22:01:05.419848",
     "exception": false,
     "start_time": "2022-06-03T22:01:05.399598",
     "status": "completed"
    },
    "tags": [
     "injected-parameters",
     "remove_input"
    ]
   },
   "outputs": [],
   "source": [
    "# Parameters\n",
    "district = \"06 - Fresno\"\n",
    "itp_id = 91\n"
   ]
  },
  {
   "cell_type": "code",
   "execution_count": 4,
   "id": "9582aaf4-79ff-412a-b248-8d8d693ebd4f",
   "metadata": {
    "execution": {
     "iopub.execute_input": "2022-06-03T22:01:05.452456Z",
     "iopub.status.busy": "2022-06-03T22:01:05.451811Z",
     "iopub.status.idle": "2022-06-03T22:01:06.801719Z",
     "shell.execute_reply": "2022-06-03T22:01:06.800744Z"
    },
    "jupyter": {
     "source_hidden": true
    },
    "papermill": {
     "duration": 1.371603,
     "end_time": "2022-06-03T22:01:06.803927",
     "exception": false,
     "start_time": "2022-06-03T22:01:05.432324",
     "status": "completed"
    },
    "tags": [
     "remove_input"
    ]
   },
   "outputs": [],
   "source": [
    "df = catalog.competitive_route_variability.read()\n",
    "\n",
    "df = (df[(df.calitp_itp_id == itp_id) & \n",
    "         (df.route_group.notna())]\n",
    "      .rename(columns = {\"route_name_used\": \"route_name\"})\n",
    "      .reset_index(drop=True)\n",
    "     )\n",
    "\n",
    "\n",
    "if itp_id == 182:\n",
    "    df = df.assign(\n",
    "        route_id = df.route_id.str.replace('-13153', '')\n",
    "    )\n",
    "\n",
    "# Use route_short_name instead\n",
    "# But where route_short_name is missing, use route_id\n",
    "df = df.assign(\n",
    "    route_id2 = df.apply(lambda x: x.route_short_name if x.route_short_name is not None\n",
    "                        else x.route_id, axis=1),\n",
    ")"
   ]
  },
  {
   "cell_type": "code",
   "execution_count": 5,
   "id": "33ac4b06-f647-4dce-a625-8f2c1b37cc60",
   "metadata": {
    "execution": {
     "iopub.execute_input": "2022-06-03T22:01:06.834207Z",
     "iopub.status.busy": "2022-06-03T22:01:06.833880Z",
     "iopub.status.idle": "2022-06-03T22:01:06.842673Z",
     "shell.execute_reply": "2022-06-03T22:01:06.842025Z"
    },
    "jupyter": {
     "source_hidden": true
    },
    "papermill": {
     "duration": 0.026087,
     "end_time": "2022-06-03T22:01:06.844860",
     "exception": false,
     "start_time": "2022-06-03T22:01:06.818773",
     "status": "completed"
    },
    "tags": [
     "remove_input"
    ]
   },
   "outputs": [],
   "source": [
    "%%capture_parameters\n",
    "operator_name = df.calitp_agency_name.iloc[0]\n",
    "district_number = f\"{df.caltrans_district.iloc[0].split('-')[0].strip()}\"\n",
    "district_name = f\"{df.caltrans_district.iloc[0].split('-')[1].strip().lower().replace(' ', '-')}\"\n",
    "\n",
    "itp_id, operator_name, district_number, district_name"
   ]
  },
  {
   "cell_type": "markdown",
   "id": "65bc6f5c-8348-42ee-b2dd-52057c406852",
   "metadata": {
    "papermill": {
     "duration": 0.012875,
     "end_time": "2022-06-03T22:01:06.871179",
     "exception": false,
     "start_time": "2022-06-03T22:01:06.858304",
     "status": "completed"
    },
    "tags": []
   },
   "source": [
    "# Delano Area Rapid Transit"
   ]
  },
  {
   "cell_type": "code",
   "execution_count": 6,
   "id": "a689c1ab-2c6c-4831-8d64-897f5986f571",
   "metadata": {
    "execution": {
     "iopub.execute_input": "2022-06-03T22:01:06.901802Z",
     "iopub.status.busy": "2022-06-03T22:01:06.900851Z",
     "iopub.status.idle": "2022-06-03T22:01:06.908123Z",
     "shell.execute_reply": "2022-06-03T22:01:06.907529Z"
    },
    "jupyter": {
     "source_hidden": true
    },
    "papermill": {
     "duration": 0.024059,
     "end_time": "2022-06-03T22:01:06.909835",
     "exception": false,
     "start_time": "2022-06-03T22:01:06.885776",
     "status": "completed"
    },
    "tags": [
     "remove_input"
    ]
   },
   "outputs": [
    {
     "data": {
      "text/html": [
       "<h1>Competitive & Parallel Routes</h1>"
      ],
      "text/plain": [
       "<IPython.core.display.HTML object>"
      ]
     },
     "metadata": {},
     "output_type": "display_data"
    }
   ],
   "source": [
    "display(HTML(\"<h1>Competitive & Parallel Routes</h1>\")) "
   ]
  },
  {
   "cell_type": "code",
   "execution_count": 7,
   "id": "2cb4d8d5-4760-40e4-85b1-cb833d8bb648",
   "metadata": {
    "execution": {
     "iopub.execute_input": "2022-06-03T22:01:06.945819Z",
     "iopub.status.busy": "2022-06-03T22:01:06.944871Z",
     "iopub.status.idle": "2022-06-03T22:01:18.049225Z",
     "shell.execute_reply": "2022-06-03T22:01:18.048223Z"
    },
    "jupyter": {
     "source_hidden": true
    },
    "papermill": {
     "duration": 11.126522,
     "end_time": "2022-06-03T22:01:18.051626",
     "exception": false,
     "start_time": "2022-06-03T22:01:06.925104",
     "status": "completed"
    },
    "tags": [
     "remove_input"
    ]
   },
   "outputs": [],
   "source": [
    "# Grab parameters for narrative text - clean up formatting here \n",
    "district = df.caltrans_district.iloc[0]\n",
    "formatted_date = pd.to_datetime(parallel_corridors_utils.SELECTED_DATE).strftime('%m-%d-%Y')\n",
    "\n",
    "PCT_COMPETITIVE_THRESHOLD = parallel_corridors_utils.PCT_COMPETITIVE_THRESHOLD\n",
    "PCT_TRIPS_BELOW_CUTOFF = parallel_corridors_utils.PCT_TRIPS_BELOW_CUTOFF\n",
    "\n",
    "stats = parallel_corridors_utils.operator_parallel_competitive_stats(\n",
    "    itp_id, PCT_COMPETITIVE_THRESHOLD, PCT_TRIPS_BELOW_CUTOFF)\n",
    "\n",
    "pct_parallel = round(stats['parallel_routes'] / stats['num_routes'] * 100, 1 )\n",
    "pct_competitive =  round(stats['competitive_routes'] / stats['num_routes'] * 100, 1 )\n",
    "pct_viable =  round(stats['viable_competitive_routes'] / stats['num_routes'] * 100, 1 )"
   ]
  },
  {
   "cell_type": "code",
   "execution_count": 8,
   "id": "8bf30c8f-6aa5-47bb-82ae-a906732e81fd",
   "metadata": {
    "execution": {
     "iopub.execute_input": "2022-06-03T22:01:18.081153Z",
     "iopub.status.busy": "2022-06-03T22:01:18.080819Z",
     "iopub.status.idle": "2022-06-03T22:01:18.113533Z",
     "shell.execute_reply": "2022-06-03T22:01:18.112680Z"
    },
    "jupyter": {
     "source_hidden": true
    },
    "papermill": {
     "duration": 0.050734,
     "end_time": "2022-06-03T22:01:18.116680",
     "exception": false,
     "start_time": "2022-06-03T22:01:18.065946",
     "status": "completed"
    },
    "tags": [
     "remove_input"
    ]
   },
   "outputs": [],
   "source": [
    "# Display a table of route-level stats for each route_group\n",
    "# Displaying route_name makes chart too crowded\n",
    "\n",
    "# Get route stats (for entire df)\n",
    "route_stats = parallel_corridors_utils.competitive_route_level_stats(df)\n",
    "    \n",
    "def style_route_stats(df, top15_routes):\n",
    "    df = df[df.route_id.isin(top15_routes)]\n",
    "    \n",
    "    # Rename columns for display\n",
    "    rename_cols = {\n",
    "        \"route_id2\": \"Route ID\",\n",
    "        \"route_name\": \"Route Name\",\n",
    "        \"route_group\": \"Route Group\",\n",
    "        \"num_trips\": \"# trips\",\n",
    "        \"daily_avg_freq\": \"Daily Avg Freq (trips per hr)\",\n",
    "        \"pm_peak_freq\": \"PM Peak Avg Freq (trips per hr)\",\n",
    "        \"percentiles\": \"25th, 50th, 75th ptile (hrs)\",\n",
    "    }\n",
    "    \n",
    "    # Style it\n",
    "    drop_cols = [\n",
    "        \"calitp_itp_id\", \"route_id\", \"below_cutoff\", \"route_group\", \n",
    "        \"pct_trips_competitive\", \"pct_below_cutoff\",\n",
    "        \"p25\", \"p50\", \"p75\",\n",
    "    ]\n",
    "    \n",
    "    # Change alignment for some columns\n",
    "    # https://stackoverflow.com/questions/59453091/left-align-the-first-column-and-center-align-the-other-columns-in-a-pandas-table\n",
    "    df_style = (df.sort_values(\n",
    "        [\"pct_trips_competitive\", \"below_cutoff\", \n",
    "        \"pct_below_cutoff\", \"route_id2\"], \n",
    "        ascending=[False, False, False, True])\n",
    "           .drop(columns = drop_cols)\n",
    "           .rename(columns = rename_cols)\n",
    "           .style.format(\n",
    "               subset=['Daily Avg Freq (trips per hr)', \n",
    "                       'PM Peak Avg Freq (trips per hr)'], \n",
    "               **{'formatter': '{:,.3}'})\n",
    "                .set_properties(subset=['Route ID', 'Route Name'], \n",
    "                                **{'text-align': 'left'})\n",
    "                .set_properties(subset=['# trips', 'Daily Avg Freq (trips per hr)', \n",
    "                                       'PM Peak Avg Freq (trips per hr)'], \n",
    "                               **{'text-align': 'center'})\n",
    "                .set_table_styles([dict(selector='th', \n",
    "                                        props=[('text-align', 'center')])\n",
    "                                        ])\n",
    "           .hide(axis=\"index\")\n",
    "           .to_html()\n",
    "          )\n",
    "    \n",
    "    display(HTML(\"<h4>Route Stats</h4>\"))\n",
    "    display(HTML(df_style))"
   ]
  },
  {
   "cell_type": "markdown",
   "id": "ab667928-5274-4490-82d9-4c39293209a4",
   "metadata": {
    "papermill": {
     "duration": 0.014646,
     "end_time": "2022-06-03T22:01:18.166489",
     "exception": false,
     "start_time": "2022-06-03T22:01:18.151843",
     "status": "completed"
    },
    "tags": []
   },
   "source": [
    "## Quick Stats"
   ]
  },
  {
   "cell_type": "code",
   "execution_count": 9,
   "id": "0416509d-dc62-4165-b62e-64f8b26e8b8e",
   "metadata": {
    "execution": {
     "iopub.execute_input": "2022-06-03T22:01:18.196935Z",
     "iopub.status.busy": "2022-06-03T22:01:18.196586Z",
     "iopub.status.idle": "2022-06-03T22:01:18.206364Z",
     "shell.execute_reply": "2022-06-03T22:01:18.205220Z"
    },
    "jupyter": {
     "source_hidden": true
    },
    "papermill": {
     "duration": 0.027235,
     "end_time": "2022-06-03T22:01:18.208505",
     "exception": false,
     "start_time": "2022-06-03T22:01:18.181270",
     "status": "completed"
    },
    "tags": [
     "remove_input"
    ]
   },
   "outputs": [
    {
     "data": {
      "text/markdown": [
       "**Bus routes in service: 4**<br>**Parallel routes** to State Highway Network (SHN): **2 routes (50.0%)**<br>**Competitive routes** against car travel (within 2x car travel time): **2 routes (50.0%)**<br>**Viable competitive routes** against car travel (within 2x car travel time and within 20, 30, or 40 min cut-off): **2 routes (50.0%)**"
      ],
      "text/plain": [
       "<IPython.core.display.Markdown object>"
      ]
     },
     "metadata": {},
     "output_type": "display_data"
    }
   ],
   "source": [
    "display(\n",
    "    Markdown(\n",
    "        f\"**Bus routes in service: {stats['num_routes']}**\"\n",
    "        \"<br>**Parallel routes** to State Highway Network (SHN): \"\n",
    "        f\"**{stats['parallel_routes']} routes ({pct_parallel}%)**\"\n",
    "        \"<br>**Competitive routes** against car travel (within 2x car travel time): \"\n",
    "        f\"**{stats['competitive_routes']} routes ({pct_competitive}%)**\"\n",
    "        \"<br>**Viable competitive routes** against car travel \"\n",
    "        \"(within 2x car travel time and within 20, 30, or 40 min cut-off): \"\n",
    "        f\"**{stats['viable_competitive_routes']} routes ({pct_viable}%)**\"\n",
    "    )\n",
    ")"
   ]
  },
  {
   "cell_type": "code",
   "execution_count": 10,
   "id": "f9d6ab58-f0ee-460c-b6de-657490e1f386",
   "metadata": {
    "execution": {
     "iopub.execute_input": "2022-06-03T22:01:18.243877Z",
     "iopub.status.busy": "2022-06-03T22:01:18.243572Z",
     "iopub.status.idle": "2022-06-03T22:01:18.251412Z",
     "shell.execute_reply": "2022-06-03T22:01:18.250258Z"
    },
    "jupyter": {
     "source_hidden": true
    },
    "papermill": {
     "duration": 0.032945,
     "end_time": "2022-06-03T22:01:18.255139",
     "exception": false,
     "start_time": "2022-06-03T22:01:18.222194",
     "status": "completed"
    },
    "tags": [
     "remove_input"
    ]
   },
   "outputs": [],
   "source": [
    "def set_yaxis_range(df, y_col):\n",
    "    Y_MIN = df[y_col].min()\n",
    "    Y_MAX = df[y_col].max()\n",
    "    \n",
    "    return Y_MIN, Y_MAX\n",
    "\n",
    "# Rather than set it according to the operator, which can vary,\n",
    "# just use set thresholds for each group\n",
    "def top15_routes(df, route_group):\n",
    "    # grab top 15 routes where majority of trips are below that cut-off \n",
    "    # but show 15 max, otherwise, show less, since these won't be as interesting to operators\n",
    "    df2 = (df[(df.route_group==route_group) &\n",
    "              (df.pct_below_cutoff >= PCT_TRIPS_BELOW_CUTOFF)]\n",
    "           .sort_values([\"calitp_itp_id\", \"below_cutoff\", \n",
    "                         \"pct_below_cutoff\", \"route_id\"],\n",
    "                        ascending = [True, False, False, True]\n",
    "                       )\n",
    "           .drop_duplicates(subset=[\"calitp_itp_id\", \"route_id\"])\n",
    "          ).head(15)\n",
    "    \n",
    "    if len(df2) > 1:\n",
    "        return list(df2.route_id)"
   ]
  },
  {
   "cell_type": "code",
   "execution_count": 11,
   "id": "cf36d559-3349-4144-8086-8ac9ce937a5a",
   "metadata": {
    "execution": {
     "iopub.execute_input": "2022-06-03T22:01:18.288856Z",
     "iopub.status.busy": "2022-06-03T22:01:18.288190Z",
     "iopub.status.idle": "2022-06-03T22:01:18.294507Z",
     "shell.execute_reply": "2022-06-03T22:01:18.293546Z"
    },
    "jupyter": {
     "source_hidden": true
    },
    "papermill": {
     "duration": 0.024913,
     "end_time": "2022-06-03T22:01:18.297056",
     "exception": false,
     "start_time": "2022-06-03T22:01:18.272143",
     "status": "completed"
    },
    "tags": [
     "remove_input"
    ]
   },
   "outputs": [],
   "source": [
    "def caption_with_cutoff(cutoff):\n",
    "    sentence = (\n",
    "        f\"<br>These are routes that have **{int(PCT_TRIPS_BELOW_CUTOFF*100)}% \"\n",
    "        \"of their trips take no more than an \"\n",
    "        f\"additional {cutoff} min** compared to a car \"\n",
    "        \"(up to 15 routes) are shown.\"\n",
    "        \"<br>Within each route group, routes are sorted in descending order \"\n",
    "        \"by % competitive trips and # trips below the additional time cut-off.\"\n",
    "    )\n",
    "    return sentence\n",
    "\n",
    "CAPTIONS_DICT = {\n",
    "    \"short\": caption_with_cutoff(diff_cutoffs['short']),\n",
    "    \"medium\": caption_with_cutoff(diff_cutoffs['medium']),\n",
    "    \"long\": caption_with_cutoff(diff_cutoffs['long']),\n",
    "}"
   ]
  },
  {
   "cell_type": "code",
   "execution_count": 12,
   "id": "e4306d58-6944-47e9-afef-5d5b524c751f",
   "metadata": {
    "execution": {
     "iopub.execute_input": "2022-06-03T22:01:18.342293Z",
     "iopub.status.busy": "2022-06-03T22:01:18.341987Z",
     "iopub.status.idle": "2022-06-03T22:01:18.348896Z",
     "shell.execute_reply": "2022-06-03T22:01:18.348093Z"
    },
    "jupyter": {
     "source_hidden": true
    },
    "papermill": {
     "duration": 0.038535,
     "end_time": "2022-06-03T22:01:18.350818",
     "exception": false,
     "start_time": "2022-06-03T22:01:18.312283",
     "status": "completed"
    },
    "tags": [
     "remove_input"
    ]
   },
   "outputs": [],
   "source": [
    "def setup_charts(df, PCT_COMPETITIVE_THRESHOLD, route_group):\n",
    "    # Set up df for charting (cut-off at some threshold to show most competitive routes)\n",
    "    plot_me = (df[df.pct_trips_competitive > PCT_COMPETITIVE_THRESHOLD]\n",
    "           .drop(columns = \"geometry\")\n",
    "    )\n",
    "    \n",
    "    # Set y-ranges to be the same across route_groups, \n",
    "    # otherwise charts fluctuate too much, even within operator\n",
    "    y_col1 = \"bus_multiplier\"\n",
    "    Y_MIN1, Y_MAX1 = set_yaxis_range(plot_me, y_col1)\n",
    "\n",
    "    y_col2 = \"bus_difference\"\n",
    "    Y_MIN2, Y_MAX2 = set_yaxis_range(plot_me, y_col2)\n",
    "    \n",
    "    # Grab the routes to plot\n",
    "    subset_routes = top15_routes(plot_me, route_group)\n",
    "        \n",
    "    # Display charts\n",
    "    multiplier_chart = parallel_corridors_utils.make_stripplot(\n",
    "        plot_me[plot_me.route_id.isin(subset_routes)], \n",
    "        y_col1, Y_MIN = Y_MIN1, Y_MAX = Y_MAX1\n",
    "    )\n",
    "    \n",
    "    difference_chart = parallel_corridors_utils.make_stripplot(\n",
    "        plot_me[plot_me.route_id.isin(subset_routes)], \n",
    "        y_col2, Y_MIN = Y_MIN2, Y_MAX = Y_MAX2\n",
    "    )\n",
    "    \n",
    "    return subset_routes, multiplier_chart, difference_chart            "
   ]
  },
  {
   "cell_type": "code",
   "execution_count": 13,
   "id": "33a710e8-504c-4942-aa75-ff69f216956e",
   "metadata": {
    "execution": {
     "iopub.execute_input": "2022-06-03T22:01:18.382215Z",
     "iopub.status.busy": "2022-06-03T22:01:18.381856Z",
     "iopub.status.idle": "2022-06-03T22:01:18.390650Z",
     "shell.execute_reply": "2022-06-03T22:01:18.389540Z"
    },
    "jupyter": {
     "source_hidden": true
    },
    "papermill": {
     "duration": 0.027015,
     "end_time": "2022-06-03T22:01:18.392910",
     "exception": false,
     "start_time": "2022-06-03T22:01:18.365895",
     "status": "completed"
    },
    "tags": [
     "remove_input"
    ]
   },
   "outputs": [],
   "source": [
    "# Allow for possibility that operator doesn't have routes that fall into certain route_groups\n",
    "# But, jupyterbook will not like markdown with f-string\n",
    "# separate out route_group and put in each cell, and use try/except + if to display...\n",
    "# but all 3 route groups must be displayed. \n",
    "# just add sentence about why no routes were returned at the end\n",
    "# Change to fewer than 2 routes, instead of no routes, because we don't want to show just 1 route\n",
    "\n",
    "def display_charts_for_route_group(df, route_group):\n",
    "    try:\n",
    "        subset_routes, mult, diff  = setup_charts(df, PCT_COMPETITIVE_THRESHOLD, route_group)\n",
    "    \n",
    "        if len(subset_routes) > 1:\n",
    "            display(Markdown(f\"{CAPTIONS_DICT[route_group]}\"))\n",
    "\n",
    "            display(mult)\n",
    "            display(diff)\n",
    "\n",
    "            # Display route stats for just plotted routes\n",
    "            style_route_stats(route_stats, subset_routes)\n",
    "        else: \n",
    "            print(\"Fewer than 2 routes meet this criteria.\")\n",
    "    except:\n",
    "        print(\"No routes meet this criteria.\")"
   ]
  },
  {
   "cell_type": "markdown",
   "id": "525f9b38-072b-46d1-96a8-1aa4b038357c",
   "metadata": {
    "papermill": {
     "duration": 0.016353,
     "end_time": "2022-06-03T22:01:18.423813",
     "exception": false,
     "start_time": "2022-06-03T22:01:18.407460",
     "status": "completed"
    },
    "tags": []
   },
   "source": [
    "## Viable Competitive Routes\n",
    "### Short Routes (< 1 hr)"
   ]
  },
  {
   "cell_type": "code",
   "execution_count": 14,
   "id": "57f7084c-2cf7-45c6-ba08-1609e0bd6ca5",
   "metadata": {
    "execution": {
     "iopub.execute_input": "2022-06-03T22:01:18.460467Z",
     "iopub.status.busy": "2022-06-03T22:01:18.460190Z",
     "iopub.status.idle": "2022-06-03T22:01:18.890419Z",
     "shell.execute_reply": "2022-06-03T22:01:18.889423Z"
    },
    "jupyter": {
     "source_hidden": true
    },
    "papermill": {
     "duration": 0.449614,
     "end_time": "2022-06-03T22:01:18.892600",
     "exception": false,
     "start_time": "2022-06-03T22:01:18.442986",
     "status": "completed"
    },
    "tags": [
     "remove_input"
    ]
   },
   "outputs": [
    {
     "data": {
      "text/markdown": [
       "<br>These are routes that have **100% of their trips take no more than an additional 20 min** compared to a car (up to 15 routes) are shown.<br>Within each route group, routes are sorted in descending order by % competitive trips and # trips below the additional time cut-off."
      ],
      "text/plain": [
       "<IPython.core.display.Markdown object>"
      ]
     },
     "metadata": {},
     "output_type": "display_data"
    },
    {
     "data": {
      "text/html": [
       "\n",
       "<div id=\"altair-viz-9aa0f7aff3884b8698d6075391d265f5\"></div>\n",
       "<script type=\"text/javascript\">\n",
       "  var VEGA_DEBUG = (typeof VEGA_DEBUG == \"undefined\") ? {} : VEGA_DEBUG;\n",
       "  (function(spec, embedOpt){\n",
       "    let outputDiv = document.currentScript.previousElementSibling;\n",
       "    if (outputDiv.id !== \"altair-viz-9aa0f7aff3884b8698d6075391d265f5\") {\n",
       "      outputDiv = document.getElementById(\"altair-viz-9aa0f7aff3884b8698d6075391d265f5\");\n",
       "    }\n",
       "    const paths = {\n",
       "      \"vega\": \"https://cdn.jsdelivr.net/npm//vega@5?noext\",\n",
       "      \"vega-lib\": \"https://cdn.jsdelivr.net/npm//vega-lib?noext\",\n",
       "      \"vega-lite\": \"https://cdn.jsdelivr.net/npm//vega-lite@4.17.0?noext\",\n",
       "      \"vega-embed\": \"https://cdn.jsdelivr.net/npm//vega-embed@6?noext\",\n",
       "    };\n",
       "\n",
       "    function maybeLoadScript(lib, version) {\n",
       "      var key = `${lib.replace(\"-\", \"\")}_version`;\n",
       "      return (VEGA_DEBUG[key] == version) ?\n",
       "        Promise.resolve(paths[lib]) :\n",
       "        new Promise(function(resolve, reject) {\n",
       "          var s = document.createElement('script');\n",
       "          document.getElementsByTagName(\"head\")[0].appendChild(s);\n",
       "          s.async = true;\n",
       "          s.onload = () => {\n",
       "            VEGA_DEBUG[key] = version;\n",
       "            return resolve(paths[lib]);\n",
       "          };\n",
       "          s.onerror = () => reject(`Error loading script: ${paths[lib]}`);\n",
       "          s.src = paths[lib];\n",
       "        });\n",
       "    }\n",
       "\n",
       "    function showError(err) {\n",
       "      outputDiv.innerHTML = `<div class=\"error\" style=\"color:red;\">${err}</div>`;\n",
       "      throw err;\n",
       "    }\n",
       "\n",
       "    function displayChart(vegaEmbed) {\n",
       "      vegaEmbed(outputDiv, spec, embedOpt)\n",
       "        .catch(err => showError(`Javascript Error: ${err.message}<br>This usually means there's a typo in your chart specification. See the javascript console for the full traceback.`));\n",
       "    }\n",
       "\n",
       "    if(typeof define === \"function\" && define.amd) {\n",
       "      requirejs.config({paths});\n",
       "      require([\"vega-embed\"], displayChart, err => showError(`Error loading script: ${err.message}`));\n",
       "    } else {\n",
       "      maybeLoadScript(\"vega\", \"5\")\n",
       "        .then(() => maybeLoadScript(\"vega-lite\", \"4.17.0\"))\n",
       "        .then(() => maybeLoadScript(\"vega-embed\", \"6\"))\n",
       "        .catch(showError)\n",
       "        .then(() => displayChart(vegaEmbed));\n",
       "    }\n",
       "  })({\"config\": {\"view\": {\"continuousWidth\": 400, \"continuousHeight\": 300, \"stroke\": null}, \"facet\": {\"spacing\": 0}}, \"data\": {\"name\": \"data-bc0779adc76a48c2a5d039eb4373fc82\"}, \"facet\": {\"column\": {\"field\": \"route_id2\", \"sort\": [\"114\", \"17\"], \"title\": \"Route ID\", \"type\": \"nominal\"}}, \"spec\": {\"layer\": [{\"mark\": \"rule\", \"encoding\": {\"color\": {\"value\": \"black\"}, \"y\": {\"field\": \"cutoff\", \"type\": \"quantitative\"}}, \"selection\": {\"selector001\": {\"type\": \"interval\", \"bind\": \"scales\", \"encodings\": [\"x\", \"y\"]}}}, {\"mark\": {\"type\": \"point\", \"opacity\": 0.65, \"size\": 20, \"strokeWidth\": 1.1}, \"encoding\": {\"color\": {\"field\": \"time_of_day\", \"scale\": {\"range\": [\"#136C97\", \"#E16B26\", \"#F6BF16\", \"#00896B\", \"#7790A3\", \"#5B559C\"]}, \"sort\": [\"AM Peak\", \"Midday\", \"PM Peak\", \"Owl Service\"], \"title\": \"Time of Day\", \"type\": \"nominal\"}, \"tooltip\": [{\"field\": \"route_id2\", \"title\": \"route_id\", \"type\": \"nominal\"}, {\"field\": \"route_name\", \"type\": \"nominal\"}, {\"field\": \"trip_id\", \"type\": \"nominal\"}, {\"field\": \"service_hours\", \"type\": \"quantitative\"}, {\"field\": \"car_duration_hours\", \"type\": \"quantitative\"}, {\"field\": \"bus_multiplier\", \"type\": \"quantitative\"}, {\"field\": \"bus_difference\", \"type\": \"quantitative\"}, {\"field\": \"num_trips\", \"type\": \"quantitative\"}, {\"field\": \"num_competitive\", \"type\": \"quantitative\"}, {\"field\": \"pct_trips_competitive\", \"type\": \"quantitative\"}, {\"field\": \"pct_below_cutoff\", \"type\": \"quantitative\"}, {\"field\": \"p25\", \"type\": \"quantitative\"}, {\"field\": \"p50\", \"type\": \"quantitative\"}, {\"field\": \"p75\", \"type\": \"quantitative\"}], \"x\": {\"axis\": {\"grid\": false, \"labels\": false, \"ticks\": true, \"values\": [0]}, \"field\": \"jitter\", \"scale\": {}, \"title\": null, \"type\": \"quantitative\"}, \"y\": {\"field\": \"bus_multiplier\", \"scale\": {\"domain\": [0, 3.0]}, \"title\": \"Ratio of Bus to Car Travel Time\", \"type\": \"quantitative\"}}, \"transform\": [{\"calculate\": \"sqrt(-2*log(random()))*cos(2*PI*random())\", \"as\": \"jitter\"}], \"width\": 50}, {\"layer\": [{\"mark\": {\"type\": \"point\", \"opacity\": 0.6, \"size\": 20, \"strokeWidth\": 1.3}, \"encoding\": {\"color\": {\"value\": \"#323434\"}, \"y\": {\"field\": \"bus_multiplier\", \"type\": \"quantitative\"}}, \"transform\": [{\"filter\": \"(datum.p50_trip === 1)\"}]}, {\"mark\": {\"type\": \"text\", \"align\": \"center\", \"baseline\": \"middle\"}, \"encoding\": {\"color\": {\"value\": \"black\"}, \"text\": {\"field\": \"pct_trips_competitive\", \"format\": \".0%\", \"type\": \"quantitative\"}, \"tooltip\": [{\"field\": \"route_id2\", \"title\": \"route_id\", \"type\": \"nominal\"}, {\"field\": \"route_name\", \"type\": \"nominal\"}, {\"field\": \"trip_id\", \"type\": \"nominal\"}, {\"field\": \"service_hours\", \"type\": \"quantitative\"}, {\"field\": \"car_duration_hours\", \"type\": \"quantitative\"}, {\"field\": \"bus_multiplier\", \"type\": \"quantitative\"}, {\"field\": \"bus_difference\", \"type\": \"quantitative\"}, {\"field\": \"num_trips\", \"type\": \"quantitative\"}, {\"field\": \"num_competitive\", \"type\": \"quantitative\"}, {\"field\": \"pct_trips_competitive\", \"type\": \"quantitative\"}, {\"field\": \"pct_below_cutoff\", \"type\": \"quantitative\"}, {\"field\": \"p25\", \"type\": \"quantitative\"}, {\"field\": \"p50\", \"type\": \"quantitative\"}, {\"field\": \"p75\", \"type\": \"quantitative\"}], \"x\": {\"value\": 30}, \"y\": {\"value\": 15}}, \"transform\": [{\"calculate\": \"sqrt(-2*log(random()))*cos(2*PI*random())\", \"as\": \"jitter\"}, {\"filter\": \"(datum.fastest_trip === 1)\"}]}]}]}, \"resolve\": {\"scale\": {\"y\": \"shared\"}}, \"title\": \"Ratio of Bus to Car Travel Time\", \"$schema\": \"https://vega.github.io/schema/vega-lite/v4.17.0.json\", \"datasets\": {\"data-bc0779adc76a48c2a5d039eb4373fc82\": [{\"calitp_itp_id\": 91, \"trip_key\": -6170296090841359888, \"trip_id\": \"t_1240820_b_27223_tn_0\", \"shape_id\": \"p_178415\", \"route_id\": \"114\", \"service_hours\": 0.45, \"trip_first_departure_ts\": 54000, \"trip_last_arrival_ts\": 55620, \"departure_hour\": 15, \"time_of_day\": \"Midday\", \"p25\": 0.45, \"p50\": 0.45, \"p75\": 0.45, \"p50_trip\": 1, \"fastest_trip\": 0, \"car_duration_hours\": 0.32, \"competitive_route\": 1, \"bus_multiplier\": 1.41, \"bus_difference\": 7.8, \"num_trips\": 16, \"num_competitive\": 16, \"pct_trips_competitive\": 1.0, \"bus_difference_spread\": 0.0, \"route_group\": \"short\", \"max_trip_hrs\": 0.45, \"max_trip_route_group\": 0.45, \"below_cutoff\": 16, \"pct_below_cutoff\": 1.0, \"calitp_agency_name\": \"Delano Area Rapid Transit\", \"caltrans_district\": \"06 - Fresno\", \"route_name\": null, \"route_short_name\": null, \"route_id2\": \"114\", \"cutoff2\": 20, \"cutoff\": 2}, {\"calitp_itp_id\": 91, \"trip_key\": 4380192731545428437, \"trip_id\": \"t_1240816_b_27223_tn_0\", \"shape_id\": \"p_178415\", \"route_id\": \"114\", \"service_hours\": 0.45, \"trip_first_departure_ts\": 45000, \"trip_last_arrival_ts\": 46620, \"departure_hour\": 12, \"time_of_day\": \"Midday\", \"p25\": 0.45, \"p50\": 0.45, \"p75\": 0.45, \"p50_trip\": 1, \"fastest_trip\": 0, \"car_duration_hours\": 0.32, \"competitive_route\": 1, \"bus_multiplier\": 1.41, \"bus_difference\": 7.8, \"num_trips\": 16, \"num_competitive\": 16, \"pct_trips_competitive\": 1.0, \"bus_difference_spread\": 0.0, \"route_group\": \"short\", \"max_trip_hrs\": 0.45, \"max_trip_route_group\": 0.45, \"below_cutoff\": 16, \"pct_below_cutoff\": 1.0, \"calitp_agency_name\": \"Delano Area Rapid Transit\", \"caltrans_district\": \"06 - Fresno\", \"route_name\": null, \"route_short_name\": null, \"route_id2\": \"114\", \"cutoff2\": 20, \"cutoff\": 2}, {\"calitp_itp_id\": 91, \"trip_key\": -46371499948958925, \"trip_id\": \"t_1240817_b_27223_tn_0\", \"shape_id\": \"p_178415\", \"route_id\": \"114\", \"service_hours\": 0.45, \"trip_first_departure_ts\": 48600, \"trip_last_arrival_ts\": 50220, \"departure_hour\": 13, \"time_of_day\": \"Midday\", \"p25\": 0.45, \"p50\": 0.45, \"p75\": 0.45, \"p50_trip\": 1, \"fastest_trip\": 0, \"car_duration_hours\": 0.32, \"competitive_route\": 1, \"bus_multiplier\": 1.41, \"bus_difference\": 7.8, \"num_trips\": 16, \"num_competitive\": 16, \"pct_trips_competitive\": 1.0, \"bus_difference_spread\": 0.0, \"route_group\": \"short\", \"max_trip_hrs\": 0.45, \"max_trip_route_group\": 0.45, \"below_cutoff\": 16, \"pct_below_cutoff\": 1.0, \"calitp_agency_name\": \"Delano Area Rapid Transit\", \"caltrans_district\": \"06 - Fresno\", \"route_name\": null, \"route_short_name\": null, \"route_id2\": \"114\", \"cutoff2\": 20, \"cutoff\": 2}, {\"calitp_itp_id\": 91, \"trip_key\": 2313250746278373140, \"trip_id\": \"t_1240818_b_27223_tn_0\", \"shape_id\": \"p_178415\", \"route_id\": \"114\", \"service_hours\": 0.45, \"trip_first_departure_ts\": 50400, \"trip_last_arrival_ts\": 52020, \"departure_hour\": 14, \"time_of_day\": \"Midday\", \"p25\": 0.45, \"p50\": 0.45, \"p75\": 0.45, \"p50_trip\": 1, \"fastest_trip\": 0, \"car_duration_hours\": 0.32, \"competitive_route\": 1, \"bus_multiplier\": 1.41, \"bus_difference\": 7.8, \"num_trips\": 16, \"num_competitive\": 16, \"pct_trips_competitive\": 1.0, \"bus_difference_spread\": 0.0, \"route_group\": \"short\", \"max_trip_hrs\": 0.45, \"max_trip_route_group\": 0.45, \"below_cutoff\": 16, \"pct_below_cutoff\": 1.0, \"calitp_agency_name\": \"Delano Area Rapid Transit\", \"caltrans_district\": \"06 - Fresno\", \"route_name\": null, \"route_short_name\": null, \"route_id2\": \"114\", \"cutoff2\": 20, \"cutoff\": 2}, {\"calitp_itp_id\": 91, \"trip_key\": 3238346153735133009, \"trip_id\": \"t_1240812_b_27223_tn_0\", \"shape_id\": \"p_178415\", \"route_id\": \"114\", \"service_hours\": 0.45, \"trip_first_departure_ts\": 32400, \"trip_last_arrival_ts\": 34020, \"departure_hour\": 9, \"time_of_day\": \"AM Peak\", \"p25\": 0.45, \"p50\": 0.45, \"p75\": 0.45, \"p50_trip\": 1, \"fastest_trip\": 0, \"car_duration_hours\": 0.32, \"competitive_route\": 1, \"bus_multiplier\": 1.41, \"bus_difference\": 7.8, \"num_trips\": 16, \"num_competitive\": 16, \"pct_trips_competitive\": 1.0, \"bus_difference_spread\": 0.0, \"route_group\": \"short\", \"max_trip_hrs\": 0.45, \"max_trip_route_group\": 0.45, \"below_cutoff\": 16, \"pct_below_cutoff\": 1.0, \"calitp_agency_name\": \"Delano Area Rapid Transit\", \"caltrans_district\": \"06 - Fresno\", \"route_name\": null, \"route_short_name\": null, \"route_id2\": \"114\", \"cutoff2\": 20, \"cutoff\": 2}, {\"calitp_itp_id\": 91, \"trip_key\": -8654293806151774826, \"trip_id\": \"t_1240811_b_27223_tn_0\", \"shape_id\": \"p_178415\", \"route_id\": \"114\", \"service_hours\": 0.45, \"trip_first_departure_ts\": 30600, \"trip_last_arrival_ts\": 32220, \"departure_hour\": 8, \"time_of_day\": \"AM Peak\", \"p25\": 0.45, \"p50\": 0.45, \"p75\": 0.45, \"p50_trip\": 1, \"fastest_trip\": 0, \"car_duration_hours\": 0.32, \"competitive_route\": 1, \"bus_multiplier\": 1.41, \"bus_difference\": 7.8, \"num_trips\": 16, \"num_competitive\": 16, \"pct_trips_competitive\": 1.0, \"bus_difference_spread\": 0.0, \"route_group\": \"short\", \"max_trip_hrs\": 0.45, \"max_trip_route_group\": 0.45, \"below_cutoff\": 16, \"pct_below_cutoff\": 1.0, \"calitp_agency_name\": \"Delano Area Rapid Transit\", \"caltrans_district\": \"06 - Fresno\", \"route_name\": null, \"route_short_name\": null, \"route_id2\": \"114\", \"cutoff2\": 20, \"cutoff\": 2}, {\"calitp_itp_id\": 91, \"trip_key\": 1411681231837742745, \"trip_id\": \"t_1240808_b_27223_tn_0\", \"shape_id\": \"p_178415\", \"route_id\": \"114\", \"service_hours\": 0.45, \"trip_first_departure_ts\": 25200, \"trip_last_arrival_ts\": 26820, \"departure_hour\": 7, \"time_of_day\": \"AM Peak\", \"p25\": 0.45, \"p50\": 0.45, \"p75\": 0.45, \"p50_trip\": 1, \"fastest_trip\": 0, \"car_duration_hours\": 0.32, \"competitive_route\": 1, \"bus_multiplier\": 1.41, \"bus_difference\": 7.8, \"num_trips\": 16, \"num_competitive\": 16, \"pct_trips_competitive\": 1.0, \"bus_difference_spread\": 0.0, \"route_group\": \"short\", \"max_trip_hrs\": 0.45, \"max_trip_route_group\": 0.45, \"below_cutoff\": 16, \"pct_below_cutoff\": 1.0, \"calitp_agency_name\": \"Delano Area Rapid Transit\", \"caltrans_district\": \"06 - Fresno\", \"route_name\": null, \"route_short_name\": null, \"route_id2\": \"114\", \"cutoff2\": 20, \"cutoff\": 2}, {\"calitp_itp_id\": 91, \"trip_key\": 7884184038351812313, \"trip_id\": \"t_1240822_b_27223_tn_0\", \"shape_id\": \"p_178415\", \"route_id\": \"114\", \"service_hours\": 0.45, \"trip_first_departure_ts\": 57600, \"trip_last_arrival_ts\": 59220, \"departure_hour\": 16, \"time_of_day\": \"Midday\", \"p25\": 0.45, \"p50\": 0.45, \"p75\": 0.45, \"p50_trip\": 1, \"fastest_trip\": 1, \"car_duration_hours\": 0.32, \"competitive_route\": 1, \"bus_multiplier\": 1.41, \"bus_difference\": 7.8, \"num_trips\": 16, \"num_competitive\": 16, \"pct_trips_competitive\": 1.0, \"bus_difference_spread\": 0.0, \"route_group\": \"short\", \"max_trip_hrs\": 0.45, \"max_trip_route_group\": 0.45, \"below_cutoff\": 16, \"pct_below_cutoff\": 1.0, \"calitp_agency_name\": \"Delano Area Rapid Transit\", \"caltrans_district\": \"06 - Fresno\", \"route_name\": null, \"route_short_name\": null, \"route_id2\": \"114\", \"cutoff2\": 20, \"cutoff\": 2}, {\"calitp_itp_id\": 91, \"trip_key\": -238239319393606560, \"trip_id\": \"t_1240819_b_27223_tn_0\", \"shape_id\": \"p_178415\", \"route_id\": \"114\", \"service_hours\": 0.45, \"trip_first_departure_ts\": 52200, \"trip_last_arrival_ts\": 53820, \"departure_hour\": 14, \"time_of_day\": \"Midday\", \"p25\": 0.45, \"p50\": 0.45, \"p75\": 0.45, \"p50_trip\": 1, \"fastest_trip\": 0, \"car_duration_hours\": 0.32, \"competitive_route\": 1, \"bus_multiplier\": 1.41, \"bus_difference\": 7.8, \"num_trips\": 16, \"num_competitive\": 16, \"pct_trips_competitive\": 1.0, \"bus_difference_spread\": 0.0, \"route_group\": \"short\", \"max_trip_hrs\": 0.45, \"max_trip_route_group\": 0.45, \"below_cutoff\": 16, \"pct_below_cutoff\": 1.0, \"calitp_agency_name\": \"Delano Area Rapid Transit\", \"caltrans_district\": \"06 - Fresno\", \"route_name\": null, \"route_short_name\": null, \"route_id2\": \"114\", \"cutoff2\": 20, \"cutoff\": 2}, {\"calitp_itp_id\": 91, \"trip_key\": 7467056867574511818, \"trip_id\": \"t_1240809_b_27223_tn_0\", \"shape_id\": \"p_178415\", \"route_id\": \"114\", \"service_hours\": 0.45, \"trip_first_departure_ts\": 27000, \"trip_last_arrival_ts\": 28620, \"departure_hour\": 7, \"time_of_day\": \"AM Peak\", \"p25\": 0.45, \"p50\": 0.45, \"p75\": 0.45, \"p50_trip\": 1, \"fastest_trip\": 0, \"car_duration_hours\": 0.32, \"competitive_route\": 1, \"bus_multiplier\": 1.41, \"bus_difference\": 7.8, \"num_trips\": 16, \"num_competitive\": 16, \"pct_trips_competitive\": 1.0, \"bus_difference_spread\": 0.0, \"route_group\": \"short\", \"max_trip_hrs\": 0.45, \"max_trip_route_group\": 0.45, \"below_cutoff\": 16, \"pct_below_cutoff\": 1.0, \"calitp_agency_name\": \"Delano Area Rapid Transit\", \"caltrans_district\": \"06 - Fresno\", \"route_name\": null, \"route_short_name\": null, \"route_id2\": \"114\", \"cutoff2\": 20, \"cutoff\": 2}, {\"calitp_itp_id\": 91, \"trip_key\": -4689925491404244300, \"trip_id\": \"t_1240815_b_27223_tn_0\", \"shape_id\": \"p_178415\", \"route_id\": \"114\", \"service_hours\": 0.45, \"trip_first_departure_ts\": 41400, \"trip_last_arrival_ts\": 43020, \"departure_hour\": 11, \"time_of_day\": \"Midday\", \"p25\": 0.45, \"p50\": 0.45, \"p75\": 0.45, \"p50_trip\": 1, \"fastest_trip\": 0, \"car_duration_hours\": 0.32, \"competitive_route\": 1, \"bus_multiplier\": 1.41, \"bus_difference\": 7.8, \"num_trips\": 16, \"num_competitive\": 16, \"pct_trips_competitive\": 1.0, \"bus_difference_spread\": 0.0, \"route_group\": \"short\", \"max_trip_hrs\": 0.45, \"max_trip_route_group\": 0.45, \"below_cutoff\": 16, \"pct_below_cutoff\": 1.0, \"calitp_agency_name\": \"Delano Area Rapid Transit\", \"caltrans_district\": \"06 - Fresno\", \"route_name\": null, \"route_short_name\": null, \"route_id2\": \"114\", \"cutoff2\": 20, \"cutoff\": 2}, {\"calitp_itp_id\": 91, \"trip_key\": 1519064550764200059, \"trip_id\": \"t_1240813_b_27223_tn_0\", \"shape_id\": \"p_178415\", \"route_id\": \"114\", \"service_hours\": 0.45, \"trip_first_departure_ts\": 34200, \"trip_last_arrival_ts\": 35820, \"departure_hour\": 9, \"time_of_day\": \"AM Peak\", \"p25\": 0.45, \"p50\": 0.45, \"p75\": 0.45, \"p50_trip\": 1, \"fastest_trip\": 0, \"car_duration_hours\": 0.32, \"competitive_route\": 1, \"bus_multiplier\": 1.41, \"bus_difference\": 7.8, \"num_trips\": 16, \"num_competitive\": 16, \"pct_trips_competitive\": 1.0, \"bus_difference_spread\": 0.0, \"route_group\": \"short\", \"max_trip_hrs\": 0.45, \"max_trip_route_group\": 0.45, \"below_cutoff\": 16, \"pct_below_cutoff\": 1.0, \"calitp_agency_name\": \"Delano Area Rapid Transit\", \"caltrans_district\": \"06 - Fresno\", \"route_name\": null, \"route_short_name\": null, \"route_id2\": \"114\", \"cutoff2\": 20, \"cutoff\": 2}, {\"calitp_itp_id\": 91, \"trip_key\": -9157482204609228784, \"trip_id\": \"t_1240810_b_27223_tn_0\", \"shape_id\": \"p_178415\", \"route_id\": \"114\", \"service_hours\": 0.45, \"trip_first_departure_ts\": 28800, \"trip_last_arrival_ts\": 30420, \"departure_hour\": 8, \"time_of_day\": \"AM Peak\", \"p25\": 0.45, \"p50\": 0.45, \"p75\": 0.45, \"p50_trip\": 1, \"fastest_trip\": 0, \"car_duration_hours\": 0.32, \"competitive_route\": 1, \"bus_multiplier\": 1.41, \"bus_difference\": 7.8, \"num_trips\": 16, \"num_competitive\": 16, \"pct_trips_competitive\": 1.0, \"bus_difference_spread\": 0.0, \"route_group\": \"short\", \"max_trip_hrs\": 0.45, \"max_trip_route_group\": 0.45, \"below_cutoff\": 16, \"pct_below_cutoff\": 1.0, \"calitp_agency_name\": \"Delano Area Rapid Transit\", \"caltrans_district\": \"06 - Fresno\", \"route_name\": null, \"route_short_name\": null, \"route_id2\": \"114\", \"cutoff2\": 20, \"cutoff\": 2}, {\"calitp_itp_id\": 91, \"trip_key\": -9061046090506926668, \"trip_id\": \"t_1240823_b_27223_tn_0\", \"shape_id\": \"p_178415\", \"route_id\": \"114\", \"service_hours\": 0.45, \"trip_first_departure_ts\": 59400, \"trip_last_arrival_ts\": 61020, \"departure_hour\": 16, \"time_of_day\": \"Midday\", \"p25\": 0.45, \"p50\": 0.45, \"p75\": 0.45, \"p50_trip\": 1, \"fastest_trip\": 0, \"car_duration_hours\": 0.32, \"competitive_route\": 1, \"bus_multiplier\": 1.41, \"bus_difference\": 7.8, \"num_trips\": 16, \"num_competitive\": 16, \"pct_trips_competitive\": 1.0, \"bus_difference_spread\": 0.0, \"route_group\": \"short\", \"max_trip_hrs\": 0.45, \"max_trip_route_group\": 0.45, \"below_cutoff\": 16, \"pct_below_cutoff\": 1.0, \"calitp_agency_name\": \"Delano Area Rapid Transit\", \"caltrans_district\": \"06 - Fresno\", \"route_name\": null, \"route_short_name\": null, \"route_id2\": \"114\", \"cutoff2\": 20, \"cutoff\": 2}, {\"calitp_itp_id\": 91, \"trip_key\": 7885960360690765914, \"trip_id\": \"t_1240814_b_27223_tn_0\", \"shape_id\": \"p_178415\", \"route_id\": \"114\", \"service_hours\": 0.45, \"trip_first_departure_ts\": 37800, \"trip_last_arrival_ts\": 39420, \"departure_hour\": 10, \"time_of_day\": \"Midday\", \"p25\": 0.45, \"p50\": 0.45, \"p75\": 0.45, \"p50_trip\": 1, \"fastest_trip\": 0, \"car_duration_hours\": 0.32, \"competitive_route\": 1, \"bus_multiplier\": 1.41, \"bus_difference\": 7.8, \"num_trips\": 16, \"num_competitive\": 16, \"pct_trips_competitive\": 1.0, \"bus_difference_spread\": 0.0, \"route_group\": \"short\", \"max_trip_hrs\": 0.45, \"max_trip_route_group\": 0.45, \"below_cutoff\": 16, \"pct_below_cutoff\": 1.0, \"calitp_agency_name\": \"Delano Area Rapid Transit\", \"caltrans_district\": \"06 - Fresno\", \"route_name\": null, \"route_short_name\": null, \"route_id2\": \"114\", \"cutoff2\": 20, \"cutoff\": 2}, {\"calitp_itp_id\": 91, \"trip_key\": 5229068384769196212, \"trip_id\": \"t_1240821_b_27223_tn_0\", \"shape_id\": \"p_178415\", \"route_id\": \"114\", \"service_hours\": 0.45, \"trip_first_departure_ts\": 55800, \"trip_last_arrival_ts\": 57420, \"departure_hour\": 15, \"time_of_day\": \"Midday\", \"p25\": 0.45, \"p50\": 0.45, \"p75\": 0.45, \"p50_trip\": 1, \"fastest_trip\": 0, \"car_duration_hours\": 0.32, \"competitive_route\": 1, \"bus_multiplier\": 1.41, \"bus_difference\": 7.8, \"num_trips\": 16, \"num_competitive\": 16, \"pct_trips_competitive\": 1.0, \"bus_difference_spread\": 0.0, \"route_group\": \"short\", \"max_trip_hrs\": 0.45, \"max_trip_route_group\": 0.45, \"below_cutoff\": 16, \"pct_below_cutoff\": 1.0, \"calitp_agency_name\": \"Delano Area Rapid Transit\", \"caltrans_district\": \"06 - Fresno\", \"route_name\": null, \"route_short_name\": null, \"route_id2\": \"114\", \"cutoff2\": 20, \"cutoff\": 2}, {\"calitp_itp_id\": 91, \"trip_key\": -6331910482247002016, \"trip_id\": \"t_1239460_b_27223_tn_0\", \"shape_id\": \"p_900701\", \"route_id\": \"17\", \"service_hours\": 0.45, \"trip_first_departure_ts\": 39600, \"trip_last_arrival_ts\": 41220, \"departure_hour\": 11, \"time_of_day\": \"Midday\", \"p25\": 0.45, \"p50\": 0.45, \"p75\": 0.45, \"p50_trip\": 1, \"fastest_trip\": 0, \"car_duration_hours\": 0.29, \"competitive_route\": 1, \"bus_multiplier\": 1.55, \"bus_difference\": 9.6, \"num_trips\": 16, \"num_competitive\": 16, \"pct_trips_competitive\": 1.0, \"bus_difference_spread\": 0.0, \"route_group\": \"short\", \"max_trip_hrs\": 0.45, \"max_trip_route_group\": 0.45, \"below_cutoff\": 16, \"pct_below_cutoff\": 1.0, \"calitp_agency_name\": \"Delano Area Rapid Transit\", \"caltrans_district\": \"06 - Fresno\", \"route_name\": null, \"route_short_name\": null, \"route_id2\": \"17\", \"cutoff2\": 20, \"cutoff\": 2}, {\"calitp_itp_id\": 91, \"trip_key\": -5938118773600311175, \"trip_id\": \"t_1239468_b_27223_tn_0\", \"shape_id\": \"p_900701\", \"route_id\": \"17\", \"service_hours\": 0.45, \"trip_first_departure_ts\": 54000, \"trip_last_arrival_ts\": 55620, \"departure_hour\": 15, \"time_of_day\": \"Midday\", \"p25\": 0.45, \"p50\": 0.45, \"p75\": 0.45, \"p50_trip\": 1, \"fastest_trip\": 0, \"car_duration_hours\": 0.29, \"competitive_route\": 1, \"bus_multiplier\": 1.55, \"bus_difference\": 9.6, \"num_trips\": 16, \"num_competitive\": 16, \"pct_trips_competitive\": 1.0, \"bus_difference_spread\": 0.0, \"route_group\": \"short\", \"max_trip_hrs\": 0.45, \"max_trip_route_group\": 0.45, \"below_cutoff\": 16, \"pct_below_cutoff\": 1.0, \"calitp_agency_name\": \"Delano Area Rapid Transit\", \"caltrans_district\": \"06 - Fresno\", \"route_name\": null, \"route_short_name\": null, \"route_id2\": \"17\", \"cutoff2\": 20, \"cutoff\": 2}, {\"calitp_itp_id\": 91, \"trip_key\": -1913603712581029182, \"trip_id\": \"t_1239455_b_27223_tn_0\", \"shape_id\": \"p_900701\", \"route_id\": \"17\", \"service_hours\": 0.45, \"trip_first_departure_ts\": 30600, \"trip_last_arrival_ts\": 32220, \"departure_hour\": 8, \"time_of_day\": \"AM Peak\", \"p25\": 0.45, \"p50\": 0.45, \"p75\": 0.45, \"p50_trip\": 1, \"fastest_trip\": 0, \"car_duration_hours\": 0.29, \"competitive_route\": 1, \"bus_multiplier\": 1.55, \"bus_difference\": 9.6, \"num_trips\": 16, \"num_competitive\": 16, \"pct_trips_competitive\": 1.0, \"bus_difference_spread\": 0.0, \"route_group\": \"short\", \"max_trip_hrs\": 0.45, \"max_trip_route_group\": 0.45, \"below_cutoff\": 16, \"pct_below_cutoff\": 1.0, \"calitp_agency_name\": \"Delano Area Rapid Transit\", \"caltrans_district\": \"06 - Fresno\", \"route_name\": null, \"route_short_name\": null, \"route_id2\": \"17\", \"cutoff2\": 20, \"cutoff\": 2}, {\"calitp_itp_id\": 91, \"trip_key\": -9152987853767440429, \"trip_id\": \"t_1239458_b_27223_tn_0\", \"shape_id\": \"p_900701\", \"route_id\": \"17\", \"service_hours\": 0.45, \"trip_first_departure_ts\": 36000, \"trip_last_arrival_ts\": 37620, \"departure_hour\": 10, \"time_of_day\": \"Midday\", \"p25\": 0.45, \"p50\": 0.45, \"p75\": 0.45, \"p50_trip\": 1, \"fastest_trip\": 0, \"car_duration_hours\": 0.29, \"competitive_route\": 1, \"bus_multiplier\": 1.55, \"bus_difference\": 9.6, \"num_trips\": 16, \"num_competitive\": 16, \"pct_trips_competitive\": 1.0, \"bus_difference_spread\": 0.0, \"route_group\": \"short\", \"max_trip_hrs\": 0.45, \"max_trip_route_group\": 0.45, \"below_cutoff\": 16, \"pct_below_cutoff\": 1.0, \"calitp_agency_name\": \"Delano Area Rapid Transit\", \"caltrans_district\": \"06 - Fresno\", \"route_name\": null, \"route_short_name\": null, \"route_id2\": \"17\", \"cutoff2\": 20, \"cutoff\": 2}, {\"calitp_itp_id\": 91, \"trip_key\": -7566119181235198814, \"trip_id\": \"t_1239456_b_27223_tn_0\", \"shape_id\": \"p_900701\", \"route_id\": \"17\", \"service_hours\": 0.45, \"trip_first_departure_ts\": 32400, \"trip_last_arrival_ts\": 34020, \"departure_hour\": 9, \"time_of_day\": \"AM Peak\", \"p25\": 0.45, \"p50\": 0.45, \"p75\": 0.45, \"p50_trip\": 1, \"fastest_trip\": 0, \"car_duration_hours\": 0.29, \"competitive_route\": 1, \"bus_multiplier\": 1.55, \"bus_difference\": 9.6, \"num_trips\": 16, \"num_competitive\": 16, \"pct_trips_competitive\": 1.0, \"bus_difference_spread\": 0.0, \"route_group\": \"short\", \"max_trip_hrs\": 0.45, \"max_trip_route_group\": 0.45, \"below_cutoff\": 16, \"pct_below_cutoff\": 1.0, \"calitp_agency_name\": \"Delano Area Rapid Transit\", \"caltrans_district\": \"06 - Fresno\", \"route_name\": null, \"route_short_name\": null, \"route_id2\": \"17\", \"cutoff2\": 20, \"cutoff\": 2}, {\"calitp_itp_id\": 91, \"trip_key\": -5886507188815577667, \"trip_id\": \"t_1239453_b_27223_tn_0\", \"shape_id\": \"p_900701\", \"route_id\": \"17\", \"service_hours\": 0.45, \"trip_first_departure_ts\": 27000, \"trip_last_arrival_ts\": 28620, \"departure_hour\": 7, \"time_of_day\": \"AM Peak\", \"p25\": 0.45, \"p50\": 0.45, \"p75\": 0.45, \"p50_trip\": 1, \"fastest_trip\": 0, \"car_duration_hours\": 0.29, \"competitive_route\": 1, \"bus_multiplier\": 1.55, \"bus_difference\": 9.6, \"num_trips\": 16, \"num_competitive\": 16, \"pct_trips_competitive\": 1.0, \"bus_difference_spread\": 0.0, \"route_group\": \"short\", \"max_trip_hrs\": 0.45, \"max_trip_route_group\": 0.45, \"below_cutoff\": 16, \"pct_below_cutoff\": 1.0, \"calitp_agency_name\": \"Delano Area Rapid Transit\", \"caltrans_district\": \"06 - Fresno\", \"route_name\": null, \"route_short_name\": null, \"route_id2\": \"17\", \"cutoff2\": 20, \"cutoff\": 2}, {\"calitp_itp_id\": 91, \"trip_key\": 22489964404728966, \"trip_id\": \"t_1239464_b_27223_tn_0\", \"shape_id\": \"p_900701\", \"route_id\": \"17\", \"service_hours\": 0.45, \"trip_first_departure_ts\": 46800, \"trip_last_arrival_ts\": 48420, \"departure_hour\": 13, \"time_of_day\": \"Midday\", \"p25\": 0.45, \"p50\": 0.45, \"p75\": 0.45, \"p50_trip\": 1, \"fastest_trip\": 0, \"car_duration_hours\": 0.29, \"competitive_route\": 1, \"bus_multiplier\": 1.55, \"bus_difference\": 9.6, \"num_trips\": 16, \"num_competitive\": 16, \"pct_trips_competitive\": 1.0, \"bus_difference_spread\": 0.0, \"route_group\": \"short\", \"max_trip_hrs\": 0.45, \"max_trip_route_group\": 0.45, \"below_cutoff\": 16, \"pct_below_cutoff\": 1.0, \"calitp_agency_name\": \"Delano Area Rapid Transit\", \"caltrans_district\": \"06 - Fresno\", \"route_name\": null, \"route_short_name\": null, \"route_id2\": \"17\", \"cutoff2\": 20, \"cutoff\": 2}, {\"calitp_itp_id\": 91, \"trip_key\": -2437559224956991688, \"trip_id\": \"t_1239470_b_27223_tn_0\", \"shape_id\": \"p_900701\", \"route_id\": \"17\", \"service_hours\": 0.45, \"trip_first_departure_ts\": 57600, \"trip_last_arrival_ts\": 59220, \"departure_hour\": 16, \"time_of_day\": \"Midday\", \"p25\": 0.45, \"p50\": 0.45, \"p75\": 0.45, \"p50_trip\": 1, \"fastest_trip\": 1, \"car_duration_hours\": 0.29, \"competitive_route\": 1, \"bus_multiplier\": 1.55, \"bus_difference\": 9.6, \"num_trips\": 16, \"num_competitive\": 16, \"pct_trips_competitive\": 1.0, \"bus_difference_spread\": 0.0, \"route_group\": \"short\", \"max_trip_hrs\": 0.45, \"max_trip_route_group\": 0.45, \"below_cutoff\": 16, \"pct_below_cutoff\": 1.0, \"calitp_agency_name\": \"Delano Area Rapid Transit\", \"caltrans_district\": \"06 - Fresno\", \"route_name\": null, \"route_short_name\": null, \"route_id2\": \"17\", \"cutoff2\": 20, \"cutoff\": 2}, {\"calitp_itp_id\": 91, \"trip_key\": -8063091307827894344, \"trip_id\": \"t_1239469_b_27223_tn_0\", \"shape_id\": \"p_900701\", \"route_id\": \"17\", \"service_hours\": 0.45, \"trip_first_departure_ts\": 55800, \"trip_last_arrival_ts\": 57420, \"departure_hour\": 15, \"time_of_day\": \"Midday\", \"p25\": 0.45, \"p50\": 0.45, \"p75\": 0.45, \"p50_trip\": 1, \"fastest_trip\": 0, \"car_duration_hours\": 0.29, \"competitive_route\": 1, \"bus_multiplier\": 1.55, \"bus_difference\": 9.6, \"num_trips\": 16, \"num_competitive\": 16, \"pct_trips_competitive\": 1.0, \"bus_difference_spread\": 0.0, \"route_group\": \"short\", \"max_trip_hrs\": 0.45, \"max_trip_route_group\": 0.45, \"below_cutoff\": 16, \"pct_below_cutoff\": 1.0, \"calitp_agency_name\": \"Delano Area Rapid Transit\", \"caltrans_district\": \"06 - Fresno\", \"route_name\": null, \"route_short_name\": null, \"route_id2\": \"17\", \"cutoff2\": 20, \"cutoff\": 2}, {\"calitp_itp_id\": 91, \"trip_key\": 6215893417837299844, \"trip_id\": \"t_1239471_b_27223_tn_0\", \"shape_id\": \"p_900701\", \"route_id\": \"17\", \"service_hours\": 0.45, \"trip_first_departure_ts\": 59400, \"trip_last_arrival_ts\": 61020, \"departure_hour\": 16, \"time_of_day\": \"Midday\", \"p25\": 0.45, \"p50\": 0.45, \"p75\": 0.45, \"p50_trip\": 1, \"fastest_trip\": 0, \"car_duration_hours\": 0.29, \"competitive_route\": 1, \"bus_multiplier\": 1.55, \"bus_difference\": 9.6, \"num_trips\": 16, \"num_competitive\": 16, \"pct_trips_competitive\": 1.0, \"bus_difference_spread\": 0.0, \"route_group\": \"short\", \"max_trip_hrs\": 0.45, \"max_trip_route_group\": 0.45, \"below_cutoff\": 16, \"pct_below_cutoff\": 1.0, \"calitp_agency_name\": \"Delano Area Rapid Transit\", \"caltrans_district\": \"06 - Fresno\", \"route_name\": null, \"route_short_name\": null, \"route_id2\": \"17\", \"cutoff2\": 20, \"cutoff\": 2}, {\"calitp_itp_id\": 91, \"trip_key\": 4812402970193237974, \"trip_id\": \"t_1239457_b_27223_tn_0\", \"shape_id\": \"p_900701\", \"route_id\": \"17\", \"service_hours\": 0.45, \"trip_first_departure_ts\": 34200, \"trip_last_arrival_ts\": 35820, \"departure_hour\": 9, \"time_of_day\": \"AM Peak\", \"p25\": 0.45, \"p50\": 0.45, \"p75\": 0.45, \"p50_trip\": 1, \"fastest_trip\": 0, \"car_duration_hours\": 0.29, \"competitive_route\": 1, \"bus_multiplier\": 1.55, \"bus_difference\": 9.6, \"num_trips\": 16, \"num_competitive\": 16, \"pct_trips_competitive\": 1.0, \"bus_difference_spread\": 0.0, \"route_group\": \"short\", \"max_trip_hrs\": 0.45, \"max_trip_route_group\": 0.45, \"below_cutoff\": 16, \"pct_below_cutoff\": 1.0, \"calitp_agency_name\": \"Delano Area Rapid Transit\", \"caltrans_district\": \"06 - Fresno\", \"route_name\": null, \"route_short_name\": null, \"route_id2\": \"17\", \"cutoff2\": 20, \"cutoff\": 2}, {\"calitp_itp_id\": 91, \"trip_key\": 9145295621705125194, \"trip_id\": \"t_1239467_b_27223_tn_0\", \"shape_id\": \"p_900701\", \"route_id\": \"17\", \"service_hours\": 0.45, \"trip_first_departure_ts\": 52200, \"trip_last_arrival_ts\": 53820, \"departure_hour\": 14, \"time_of_day\": \"Midday\", \"p25\": 0.45, \"p50\": 0.45, \"p75\": 0.45, \"p50_trip\": 1, \"fastest_trip\": 0, \"car_duration_hours\": 0.29, \"competitive_route\": 1, \"bus_multiplier\": 1.55, \"bus_difference\": 9.6, \"num_trips\": 16, \"num_competitive\": 16, \"pct_trips_competitive\": 1.0, \"bus_difference_spread\": 0.0, \"route_group\": \"short\", \"max_trip_hrs\": 0.45, \"max_trip_route_group\": 0.45, \"below_cutoff\": 16, \"pct_below_cutoff\": 1.0, \"calitp_agency_name\": \"Delano Area Rapid Transit\", \"caltrans_district\": \"06 - Fresno\", \"route_name\": null, \"route_short_name\": null, \"route_id2\": \"17\", \"cutoff2\": 20, \"cutoff\": 2}, {\"calitp_itp_id\": 91, \"trip_key\": -9211050991580009440, \"trip_id\": \"t_1239454_b_27223_tn_0\", \"shape_id\": \"p_900701\", \"route_id\": \"17\", \"service_hours\": 0.45, \"trip_first_departure_ts\": 28800, \"trip_last_arrival_ts\": 30420, \"departure_hour\": 8, \"time_of_day\": \"AM Peak\", \"p25\": 0.45, \"p50\": 0.45, \"p75\": 0.45, \"p50_trip\": 1, \"fastest_trip\": 0, \"car_duration_hours\": 0.29, \"competitive_route\": 1, \"bus_multiplier\": 1.55, \"bus_difference\": 9.6, \"num_trips\": 16, \"num_competitive\": 16, \"pct_trips_competitive\": 1.0, \"bus_difference_spread\": 0.0, \"route_group\": \"short\", \"max_trip_hrs\": 0.45, \"max_trip_route_group\": 0.45, \"below_cutoff\": 16, \"pct_below_cutoff\": 1.0, \"calitp_agency_name\": \"Delano Area Rapid Transit\", \"caltrans_district\": \"06 - Fresno\", \"route_name\": null, \"route_short_name\": null, \"route_id2\": \"17\", \"cutoff2\": 20, \"cutoff\": 2}, {\"calitp_itp_id\": 91, \"trip_key\": 3499919047796925126, \"trip_id\": \"t_1239462_b_27223_tn_0\", \"shape_id\": \"p_900701\", \"route_id\": \"17\", \"service_hours\": 0.45, \"trip_first_departure_ts\": 43200, \"trip_last_arrival_ts\": 44820, \"departure_hour\": 12, \"time_of_day\": \"Midday\", \"p25\": 0.45, \"p50\": 0.45, \"p75\": 0.45, \"p50_trip\": 1, \"fastest_trip\": 0, \"car_duration_hours\": 0.29, \"competitive_route\": 1, \"bus_multiplier\": 1.55, \"bus_difference\": 9.6, \"num_trips\": 16, \"num_competitive\": 16, \"pct_trips_competitive\": 1.0, \"bus_difference_spread\": 0.0, \"route_group\": \"short\", \"max_trip_hrs\": 0.45, \"max_trip_route_group\": 0.45, \"below_cutoff\": 16, \"pct_below_cutoff\": 1.0, \"calitp_agency_name\": \"Delano Area Rapid Transit\", \"caltrans_district\": \"06 - Fresno\", \"route_name\": null, \"route_short_name\": null, \"route_id2\": \"17\", \"cutoff2\": 20, \"cutoff\": 2}, {\"calitp_itp_id\": 91, \"trip_key\": -2965405977341041911, \"trip_id\": \"t_1239452_b_27223_tn_0\", \"shape_id\": \"p_900701\", \"route_id\": \"17\", \"service_hours\": 0.45, \"trip_first_departure_ts\": 25200, \"trip_last_arrival_ts\": 26820, \"departure_hour\": 7, \"time_of_day\": \"AM Peak\", \"p25\": 0.45, \"p50\": 0.45, \"p75\": 0.45, \"p50_trip\": 1, \"fastest_trip\": 0, \"car_duration_hours\": 0.29, \"competitive_route\": 1, \"bus_multiplier\": 1.55, \"bus_difference\": 9.6, \"num_trips\": 16, \"num_competitive\": 16, \"pct_trips_competitive\": 1.0, \"bus_difference_spread\": 0.0, \"route_group\": \"short\", \"max_trip_hrs\": 0.45, \"max_trip_route_group\": 0.45, \"below_cutoff\": 16, \"pct_below_cutoff\": 1.0, \"calitp_agency_name\": \"Delano Area Rapid Transit\", \"caltrans_district\": \"06 - Fresno\", \"route_name\": null, \"route_short_name\": null, \"route_id2\": \"17\", \"cutoff2\": 20, \"cutoff\": 2}, {\"calitp_itp_id\": 91, \"trip_key\": -3022468821134918692, \"trip_id\": \"t_1239466_b_27223_tn_0\", \"shape_id\": \"p_900701\", \"route_id\": \"17\", \"service_hours\": 0.45, \"trip_first_departure_ts\": 50400, \"trip_last_arrival_ts\": 52020, \"departure_hour\": 14, \"time_of_day\": \"Midday\", \"p25\": 0.45, \"p50\": 0.45, \"p75\": 0.45, \"p50_trip\": 1, \"fastest_trip\": 0, \"car_duration_hours\": 0.29, \"competitive_route\": 1, \"bus_multiplier\": 1.55, \"bus_difference\": 9.6, \"num_trips\": 16, \"num_competitive\": 16, \"pct_trips_competitive\": 1.0, \"bus_difference_spread\": 0.0, \"route_group\": \"short\", \"max_trip_hrs\": 0.45, \"max_trip_route_group\": 0.45, \"below_cutoff\": 16, \"pct_below_cutoff\": 1.0, \"calitp_agency_name\": \"Delano Area Rapid Transit\", \"caltrans_district\": \"06 - Fresno\", \"route_name\": null, \"route_short_name\": null, \"route_id2\": \"17\", \"cutoff2\": 20, \"cutoff\": 2}]}}, {\"mode\": \"vega-lite\"});\n",
       "</script>"
      ],
      "text/plain": [
       "alt.FacetChart(...)"
      ]
     },
     "metadata": {},
     "output_type": "display_data"
    },
    {
     "data": {
      "text/html": [
       "\n",
       "<div id=\"altair-viz-f6d901e4107a4bbda1873f9c0bcbd7bc\"></div>\n",
       "<script type=\"text/javascript\">\n",
       "  var VEGA_DEBUG = (typeof VEGA_DEBUG == \"undefined\") ? {} : VEGA_DEBUG;\n",
       "  (function(spec, embedOpt){\n",
       "    let outputDiv = document.currentScript.previousElementSibling;\n",
       "    if (outputDiv.id !== \"altair-viz-f6d901e4107a4bbda1873f9c0bcbd7bc\") {\n",
       "      outputDiv = document.getElementById(\"altair-viz-f6d901e4107a4bbda1873f9c0bcbd7bc\");\n",
       "    }\n",
       "    const paths = {\n",
       "      \"vega\": \"https://cdn.jsdelivr.net/npm//vega@5?noext\",\n",
       "      \"vega-lib\": \"https://cdn.jsdelivr.net/npm//vega-lib?noext\",\n",
       "      \"vega-lite\": \"https://cdn.jsdelivr.net/npm//vega-lite@4.17.0?noext\",\n",
       "      \"vega-embed\": \"https://cdn.jsdelivr.net/npm//vega-embed@6?noext\",\n",
       "    };\n",
       "\n",
       "    function maybeLoadScript(lib, version) {\n",
       "      var key = `${lib.replace(\"-\", \"\")}_version`;\n",
       "      return (VEGA_DEBUG[key] == version) ?\n",
       "        Promise.resolve(paths[lib]) :\n",
       "        new Promise(function(resolve, reject) {\n",
       "          var s = document.createElement('script');\n",
       "          document.getElementsByTagName(\"head\")[0].appendChild(s);\n",
       "          s.async = true;\n",
       "          s.onload = () => {\n",
       "            VEGA_DEBUG[key] = version;\n",
       "            return resolve(paths[lib]);\n",
       "          };\n",
       "          s.onerror = () => reject(`Error loading script: ${paths[lib]}`);\n",
       "          s.src = paths[lib];\n",
       "        });\n",
       "    }\n",
       "\n",
       "    function showError(err) {\n",
       "      outputDiv.innerHTML = `<div class=\"error\" style=\"color:red;\">${err}</div>`;\n",
       "      throw err;\n",
       "    }\n",
       "\n",
       "    function displayChart(vegaEmbed) {\n",
       "      vegaEmbed(outputDiv, spec, embedOpt)\n",
       "        .catch(err => showError(`Javascript Error: ${err.message}<br>This usually means there's a typo in your chart specification. See the javascript console for the full traceback.`));\n",
       "    }\n",
       "\n",
       "    if(typeof define === \"function\" && define.amd) {\n",
       "      requirejs.config({paths});\n",
       "      require([\"vega-embed\"], displayChart, err => showError(`Error loading script: ${err.message}`));\n",
       "    } else {\n",
       "      maybeLoadScript(\"vega\", \"5\")\n",
       "        .then(() => maybeLoadScript(\"vega-lite\", \"4.17.0\"))\n",
       "        .then(() => maybeLoadScript(\"vega-embed\", \"6\"))\n",
       "        .catch(showError)\n",
       "        .then(() => displayChart(vegaEmbed));\n",
       "    }\n",
       "  })({\"config\": {\"view\": {\"continuousWidth\": 400, \"continuousHeight\": 300, \"stroke\": null}, \"facet\": {\"spacing\": 0}}, \"data\": {\"name\": \"data-9e5330511f62613aefac9ed336b9ce5b\"}, \"facet\": {\"column\": {\"field\": \"route_id2\", \"sort\": [\"114\", \"17\"], \"title\": \"Route ID\", \"type\": \"nominal\"}}, \"spec\": {\"layer\": [{\"mark\": \"rule\", \"encoding\": {\"color\": {\"value\": \"black\"}, \"y\": {\"field\": \"cutoff\", \"type\": \"quantitative\"}}, \"selection\": {\"selector002\": {\"type\": \"interval\", \"bind\": \"scales\", \"encodings\": [\"x\", \"y\"]}}}, {\"mark\": {\"type\": \"rule\", \"strokeDash\": [3, 3]}, \"encoding\": {\"color\": {\"value\": \"#323434\"}, \"y\": {\"field\": \"cutoff2\", \"type\": \"quantitative\"}}}, {\"mark\": {\"type\": \"point\", \"opacity\": 0.65, \"size\": 20, \"strokeWidth\": 1.1}, \"encoding\": {\"color\": {\"field\": \"time_of_day\", \"scale\": {\"range\": [\"#136C97\", \"#E16B26\", \"#F6BF16\", \"#00896B\", \"#7790A3\", \"#5B559C\"]}, \"sort\": [\"AM Peak\", \"Midday\", \"PM Peak\", \"Owl Service\"], \"title\": \"Time of Day\", \"type\": \"nominal\"}, \"tooltip\": [{\"field\": \"route_id2\", \"title\": \"route_id\", \"type\": \"nominal\"}, {\"field\": \"route_name\", \"type\": \"nominal\"}, {\"field\": \"trip_id\", \"type\": \"nominal\"}, {\"field\": \"service_hours\", \"type\": \"quantitative\"}, {\"field\": \"car_duration_hours\", \"type\": \"quantitative\"}, {\"field\": \"bus_multiplier\", \"type\": \"quantitative\"}, {\"field\": \"bus_difference\", \"type\": \"quantitative\"}, {\"field\": \"num_trips\", \"type\": \"quantitative\"}, {\"field\": \"num_competitive\", \"type\": \"quantitative\"}, {\"field\": \"pct_trips_competitive\", \"type\": \"quantitative\"}, {\"field\": \"pct_below_cutoff\", \"type\": \"quantitative\"}, {\"field\": \"p25\", \"type\": \"quantitative\"}, {\"field\": \"p50\", \"type\": \"quantitative\"}, {\"field\": \"p75\", \"type\": \"quantitative\"}], \"x\": {\"axis\": {\"grid\": false, \"labels\": false, \"ticks\": true, \"values\": [0]}, \"field\": \"jitter\", \"scale\": {}, \"title\": null, \"type\": \"quantitative\"}, \"y\": {\"field\": \"bus_difference\", \"scale\": {\"domain\": [-5, 25.0]}, \"title\": \"Difference in Bus to Car Travel Time (min)\", \"type\": \"quantitative\"}}, \"transform\": [{\"calculate\": \"sqrt(-2*log(random()))*cos(2*PI*random())\", \"as\": \"jitter\"}], \"width\": 50}, {\"layer\": [{\"mark\": {\"type\": \"point\", \"opacity\": 0.6, \"size\": 20, \"strokeWidth\": 1.3}, \"encoding\": {\"color\": {\"value\": \"#323434\"}, \"y\": {\"field\": \"bus_difference\", \"type\": \"quantitative\"}}, \"transform\": [{\"filter\": \"(datum.p50_trip === 1)\"}]}, {\"mark\": {\"type\": \"text\", \"align\": \"center\", \"baseline\": \"middle\"}, \"encoding\": {\"color\": {\"value\": \"black\"}, \"text\": {\"field\": \"pct_trips_competitive\", \"format\": \".0%\", \"type\": \"quantitative\"}, \"tooltip\": [{\"field\": \"route_id2\", \"title\": \"route_id\", \"type\": \"nominal\"}, {\"field\": \"route_name\", \"type\": \"nominal\"}, {\"field\": \"trip_id\", \"type\": \"nominal\"}, {\"field\": \"service_hours\", \"type\": \"quantitative\"}, {\"field\": \"car_duration_hours\", \"type\": \"quantitative\"}, {\"field\": \"bus_multiplier\", \"type\": \"quantitative\"}, {\"field\": \"bus_difference\", \"type\": \"quantitative\"}, {\"field\": \"num_trips\", \"type\": \"quantitative\"}, {\"field\": \"num_competitive\", \"type\": \"quantitative\"}, {\"field\": \"pct_trips_competitive\", \"type\": \"quantitative\"}, {\"field\": \"pct_below_cutoff\", \"type\": \"quantitative\"}, {\"field\": \"p25\", \"type\": \"quantitative\"}, {\"field\": \"p50\", \"type\": \"quantitative\"}, {\"field\": \"p75\", \"type\": \"quantitative\"}], \"x\": {\"value\": 30}, \"y\": {\"value\": 15}}, \"transform\": [{\"calculate\": \"sqrt(-2*log(random()))*cos(2*PI*random())\", \"as\": \"jitter\"}, {\"filter\": \"(datum.fastest_trip === 1)\"}]}]}]}, \"resolve\": {\"scale\": {\"y\": \"shared\"}}, \"title\": \"Difference in Bus to Car Travel Time (min)\", \"$schema\": \"https://vega.github.io/schema/vega-lite/v4.17.0.json\", \"datasets\": {\"data-9e5330511f62613aefac9ed336b9ce5b\": [{\"calitp_itp_id\": 91, \"trip_key\": -6170296090841359888, \"trip_id\": \"t_1240820_b_27223_tn_0\", \"shape_id\": \"p_178415\", \"route_id\": \"114\", \"service_hours\": 0.45, \"trip_first_departure_ts\": 54000, \"trip_last_arrival_ts\": 55620, \"departure_hour\": 15, \"time_of_day\": \"Midday\", \"p25\": 0.45, \"p50\": 0.45, \"p75\": 0.45, \"p50_trip\": 1, \"fastest_trip\": 0, \"car_duration_hours\": 0.32, \"competitive_route\": 1, \"bus_multiplier\": 1.41, \"bus_difference\": 7.8, \"num_trips\": 16, \"num_competitive\": 16, \"pct_trips_competitive\": 1.0, \"bus_difference_spread\": 0.0, \"route_group\": \"short\", \"max_trip_hrs\": 0.45, \"max_trip_route_group\": 0.45, \"below_cutoff\": 16, \"pct_below_cutoff\": 1.0, \"calitp_agency_name\": \"Delano Area Rapid Transit\", \"caltrans_district\": \"06 - Fresno\", \"route_name\": null, \"route_short_name\": null, \"route_id2\": \"114\", \"cutoff2\": 20, \"cutoff\": 0}, {\"calitp_itp_id\": 91, \"trip_key\": 4380192731545428437, \"trip_id\": \"t_1240816_b_27223_tn_0\", \"shape_id\": \"p_178415\", \"route_id\": \"114\", \"service_hours\": 0.45, \"trip_first_departure_ts\": 45000, \"trip_last_arrival_ts\": 46620, \"departure_hour\": 12, \"time_of_day\": \"Midday\", \"p25\": 0.45, \"p50\": 0.45, \"p75\": 0.45, \"p50_trip\": 1, \"fastest_trip\": 0, \"car_duration_hours\": 0.32, \"competitive_route\": 1, \"bus_multiplier\": 1.41, \"bus_difference\": 7.8, \"num_trips\": 16, \"num_competitive\": 16, \"pct_trips_competitive\": 1.0, \"bus_difference_spread\": 0.0, \"route_group\": \"short\", \"max_trip_hrs\": 0.45, \"max_trip_route_group\": 0.45, \"below_cutoff\": 16, \"pct_below_cutoff\": 1.0, \"calitp_agency_name\": \"Delano Area Rapid Transit\", \"caltrans_district\": \"06 - Fresno\", \"route_name\": null, \"route_short_name\": null, \"route_id2\": \"114\", \"cutoff2\": 20, \"cutoff\": 0}, {\"calitp_itp_id\": 91, \"trip_key\": -46371499948958925, \"trip_id\": \"t_1240817_b_27223_tn_0\", \"shape_id\": \"p_178415\", \"route_id\": \"114\", \"service_hours\": 0.45, \"trip_first_departure_ts\": 48600, \"trip_last_arrival_ts\": 50220, \"departure_hour\": 13, \"time_of_day\": \"Midday\", \"p25\": 0.45, \"p50\": 0.45, \"p75\": 0.45, \"p50_trip\": 1, \"fastest_trip\": 0, \"car_duration_hours\": 0.32, \"competitive_route\": 1, \"bus_multiplier\": 1.41, \"bus_difference\": 7.8, \"num_trips\": 16, \"num_competitive\": 16, \"pct_trips_competitive\": 1.0, \"bus_difference_spread\": 0.0, \"route_group\": \"short\", \"max_trip_hrs\": 0.45, \"max_trip_route_group\": 0.45, \"below_cutoff\": 16, \"pct_below_cutoff\": 1.0, \"calitp_agency_name\": \"Delano Area Rapid Transit\", \"caltrans_district\": \"06 - Fresno\", \"route_name\": null, \"route_short_name\": null, \"route_id2\": \"114\", \"cutoff2\": 20, \"cutoff\": 0}, {\"calitp_itp_id\": 91, \"trip_key\": 2313250746278373140, \"trip_id\": \"t_1240818_b_27223_tn_0\", \"shape_id\": \"p_178415\", \"route_id\": \"114\", \"service_hours\": 0.45, \"trip_first_departure_ts\": 50400, \"trip_last_arrival_ts\": 52020, \"departure_hour\": 14, \"time_of_day\": \"Midday\", \"p25\": 0.45, \"p50\": 0.45, \"p75\": 0.45, \"p50_trip\": 1, \"fastest_trip\": 0, \"car_duration_hours\": 0.32, \"competitive_route\": 1, \"bus_multiplier\": 1.41, \"bus_difference\": 7.8, \"num_trips\": 16, \"num_competitive\": 16, \"pct_trips_competitive\": 1.0, \"bus_difference_spread\": 0.0, \"route_group\": \"short\", \"max_trip_hrs\": 0.45, \"max_trip_route_group\": 0.45, \"below_cutoff\": 16, \"pct_below_cutoff\": 1.0, \"calitp_agency_name\": \"Delano Area Rapid Transit\", \"caltrans_district\": \"06 - Fresno\", \"route_name\": null, \"route_short_name\": null, \"route_id2\": \"114\", \"cutoff2\": 20, \"cutoff\": 0}, {\"calitp_itp_id\": 91, \"trip_key\": 3238346153735133009, \"trip_id\": \"t_1240812_b_27223_tn_0\", \"shape_id\": \"p_178415\", \"route_id\": \"114\", \"service_hours\": 0.45, \"trip_first_departure_ts\": 32400, \"trip_last_arrival_ts\": 34020, \"departure_hour\": 9, \"time_of_day\": \"AM Peak\", \"p25\": 0.45, \"p50\": 0.45, \"p75\": 0.45, \"p50_trip\": 1, \"fastest_trip\": 0, \"car_duration_hours\": 0.32, \"competitive_route\": 1, \"bus_multiplier\": 1.41, \"bus_difference\": 7.8, \"num_trips\": 16, \"num_competitive\": 16, \"pct_trips_competitive\": 1.0, \"bus_difference_spread\": 0.0, \"route_group\": \"short\", \"max_trip_hrs\": 0.45, \"max_trip_route_group\": 0.45, \"below_cutoff\": 16, \"pct_below_cutoff\": 1.0, \"calitp_agency_name\": \"Delano Area Rapid Transit\", \"caltrans_district\": \"06 - Fresno\", \"route_name\": null, \"route_short_name\": null, \"route_id2\": \"114\", \"cutoff2\": 20, \"cutoff\": 0}, {\"calitp_itp_id\": 91, \"trip_key\": -8654293806151774826, \"trip_id\": \"t_1240811_b_27223_tn_0\", \"shape_id\": \"p_178415\", \"route_id\": \"114\", \"service_hours\": 0.45, \"trip_first_departure_ts\": 30600, \"trip_last_arrival_ts\": 32220, \"departure_hour\": 8, \"time_of_day\": \"AM Peak\", \"p25\": 0.45, \"p50\": 0.45, \"p75\": 0.45, \"p50_trip\": 1, \"fastest_trip\": 0, \"car_duration_hours\": 0.32, \"competitive_route\": 1, \"bus_multiplier\": 1.41, \"bus_difference\": 7.8, \"num_trips\": 16, \"num_competitive\": 16, \"pct_trips_competitive\": 1.0, \"bus_difference_spread\": 0.0, \"route_group\": \"short\", \"max_trip_hrs\": 0.45, \"max_trip_route_group\": 0.45, \"below_cutoff\": 16, \"pct_below_cutoff\": 1.0, \"calitp_agency_name\": \"Delano Area Rapid Transit\", \"caltrans_district\": \"06 - Fresno\", \"route_name\": null, \"route_short_name\": null, \"route_id2\": \"114\", \"cutoff2\": 20, \"cutoff\": 0}, {\"calitp_itp_id\": 91, \"trip_key\": 1411681231837742745, \"trip_id\": \"t_1240808_b_27223_tn_0\", \"shape_id\": \"p_178415\", \"route_id\": \"114\", \"service_hours\": 0.45, \"trip_first_departure_ts\": 25200, \"trip_last_arrival_ts\": 26820, \"departure_hour\": 7, \"time_of_day\": \"AM Peak\", \"p25\": 0.45, \"p50\": 0.45, \"p75\": 0.45, \"p50_trip\": 1, \"fastest_trip\": 0, \"car_duration_hours\": 0.32, \"competitive_route\": 1, \"bus_multiplier\": 1.41, \"bus_difference\": 7.8, \"num_trips\": 16, \"num_competitive\": 16, \"pct_trips_competitive\": 1.0, \"bus_difference_spread\": 0.0, \"route_group\": \"short\", \"max_trip_hrs\": 0.45, \"max_trip_route_group\": 0.45, \"below_cutoff\": 16, \"pct_below_cutoff\": 1.0, \"calitp_agency_name\": \"Delano Area Rapid Transit\", \"caltrans_district\": \"06 - Fresno\", \"route_name\": null, \"route_short_name\": null, \"route_id2\": \"114\", \"cutoff2\": 20, \"cutoff\": 0}, {\"calitp_itp_id\": 91, \"trip_key\": 7884184038351812313, \"trip_id\": \"t_1240822_b_27223_tn_0\", \"shape_id\": \"p_178415\", \"route_id\": \"114\", \"service_hours\": 0.45, \"trip_first_departure_ts\": 57600, \"trip_last_arrival_ts\": 59220, \"departure_hour\": 16, \"time_of_day\": \"Midday\", \"p25\": 0.45, \"p50\": 0.45, \"p75\": 0.45, \"p50_trip\": 1, \"fastest_trip\": 1, \"car_duration_hours\": 0.32, \"competitive_route\": 1, \"bus_multiplier\": 1.41, \"bus_difference\": 7.8, \"num_trips\": 16, \"num_competitive\": 16, \"pct_trips_competitive\": 1.0, \"bus_difference_spread\": 0.0, \"route_group\": \"short\", \"max_trip_hrs\": 0.45, \"max_trip_route_group\": 0.45, \"below_cutoff\": 16, \"pct_below_cutoff\": 1.0, \"calitp_agency_name\": \"Delano Area Rapid Transit\", \"caltrans_district\": \"06 - Fresno\", \"route_name\": null, \"route_short_name\": null, \"route_id2\": \"114\", \"cutoff2\": 20, \"cutoff\": 0}, {\"calitp_itp_id\": 91, \"trip_key\": -238239319393606560, \"trip_id\": \"t_1240819_b_27223_tn_0\", \"shape_id\": \"p_178415\", \"route_id\": \"114\", \"service_hours\": 0.45, \"trip_first_departure_ts\": 52200, \"trip_last_arrival_ts\": 53820, \"departure_hour\": 14, \"time_of_day\": \"Midday\", \"p25\": 0.45, \"p50\": 0.45, \"p75\": 0.45, \"p50_trip\": 1, \"fastest_trip\": 0, \"car_duration_hours\": 0.32, \"competitive_route\": 1, \"bus_multiplier\": 1.41, \"bus_difference\": 7.8, \"num_trips\": 16, \"num_competitive\": 16, \"pct_trips_competitive\": 1.0, \"bus_difference_spread\": 0.0, \"route_group\": \"short\", \"max_trip_hrs\": 0.45, \"max_trip_route_group\": 0.45, \"below_cutoff\": 16, \"pct_below_cutoff\": 1.0, \"calitp_agency_name\": \"Delano Area Rapid Transit\", \"caltrans_district\": \"06 - Fresno\", \"route_name\": null, \"route_short_name\": null, \"route_id2\": \"114\", \"cutoff2\": 20, \"cutoff\": 0}, {\"calitp_itp_id\": 91, \"trip_key\": 7467056867574511818, \"trip_id\": \"t_1240809_b_27223_tn_0\", \"shape_id\": \"p_178415\", \"route_id\": \"114\", \"service_hours\": 0.45, \"trip_first_departure_ts\": 27000, \"trip_last_arrival_ts\": 28620, \"departure_hour\": 7, \"time_of_day\": \"AM Peak\", \"p25\": 0.45, \"p50\": 0.45, \"p75\": 0.45, \"p50_trip\": 1, \"fastest_trip\": 0, \"car_duration_hours\": 0.32, \"competitive_route\": 1, \"bus_multiplier\": 1.41, \"bus_difference\": 7.8, \"num_trips\": 16, \"num_competitive\": 16, \"pct_trips_competitive\": 1.0, \"bus_difference_spread\": 0.0, \"route_group\": \"short\", \"max_trip_hrs\": 0.45, \"max_trip_route_group\": 0.45, \"below_cutoff\": 16, \"pct_below_cutoff\": 1.0, \"calitp_agency_name\": \"Delano Area Rapid Transit\", \"caltrans_district\": \"06 - Fresno\", \"route_name\": null, \"route_short_name\": null, \"route_id2\": \"114\", \"cutoff2\": 20, \"cutoff\": 0}, {\"calitp_itp_id\": 91, \"trip_key\": -4689925491404244300, \"trip_id\": \"t_1240815_b_27223_tn_0\", \"shape_id\": \"p_178415\", \"route_id\": \"114\", \"service_hours\": 0.45, \"trip_first_departure_ts\": 41400, \"trip_last_arrival_ts\": 43020, \"departure_hour\": 11, \"time_of_day\": \"Midday\", \"p25\": 0.45, \"p50\": 0.45, \"p75\": 0.45, \"p50_trip\": 1, \"fastest_trip\": 0, \"car_duration_hours\": 0.32, \"competitive_route\": 1, \"bus_multiplier\": 1.41, \"bus_difference\": 7.8, \"num_trips\": 16, \"num_competitive\": 16, \"pct_trips_competitive\": 1.0, \"bus_difference_spread\": 0.0, \"route_group\": \"short\", \"max_trip_hrs\": 0.45, \"max_trip_route_group\": 0.45, \"below_cutoff\": 16, \"pct_below_cutoff\": 1.0, \"calitp_agency_name\": \"Delano Area Rapid Transit\", \"caltrans_district\": \"06 - Fresno\", \"route_name\": null, \"route_short_name\": null, \"route_id2\": \"114\", \"cutoff2\": 20, \"cutoff\": 0}, {\"calitp_itp_id\": 91, \"trip_key\": 1519064550764200059, \"trip_id\": \"t_1240813_b_27223_tn_0\", \"shape_id\": \"p_178415\", \"route_id\": \"114\", \"service_hours\": 0.45, \"trip_first_departure_ts\": 34200, \"trip_last_arrival_ts\": 35820, \"departure_hour\": 9, \"time_of_day\": \"AM Peak\", \"p25\": 0.45, \"p50\": 0.45, \"p75\": 0.45, \"p50_trip\": 1, \"fastest_trip\": 0, \"car_duration_hours\": 0.32, \"competitive_route\": 1, \"bus_multiplier\": 1.41, \"bus_difference\": 7.8, \"num_trips\": 16, \"num_competitive\": 16, \"pct_trips_competitive\": 1.0, \"bus_difference_spread\": 0.0, \"route_group\": \"short\", \"max_trip_hrs\": 0.45, \"max_trip_route_group\": 0.45, \"below_cutoff\": 16, \"pct_below_cutoff\": 1.0, \"calitp_agency_name\": \"Delano Area Rapid Transit\", \"caltrans_district\": \"06 - Fresno\", \"route_name\": null, \"route_short_name\": null, \"route_id2\": \"114\", \"cutoff2\": 20, \"cutoff\": 0}, {\"calitp_itp_id\": 91, \"trip_key\": -9157482204609228784, \"trip_id\": \"t_1240810_b_27223_tn_0\", \"shape_id\": \"p_178415\", \"route_id\": \"114\", \"service_hours\": 0.45, \"trip_first_departure_ts\": 28800, \"trip_last_arrival_ts\": 30420, \"departure_hour\": 8, \"time_of_day\": \"AM Peak\", \"p25\": 0.45, \"p50\": 0.45, \"p75\": 0.45, \"p50_trip\": 1, \"fastest_trip\": 0, \"car_duration_hours\": 0.32, \"competitive_route\": 1, \"bus_multiplier\": 1.41, \"bus_difference\": 7.8, \"num_trips\": 16, \"num_competitive\": 16, \"pct_trips_competitive\": 1.0, \"bus_difference_spread\": 0.0, \"route_group\": \"short\", \"max_trip_hrs\": 0.45, \"max_trip_route_group\": 0.45, \"below_cutoff\": 16, \"pct_below_cutoff\": 1.0, \"calitp_agency_name\": \"Delano Area Rapid Transit\", \"caltrans_district\": \"06 - Fresno\", \"route_name\": null, \"route_short_name\": null, \"route_id2\": \"114\", \"cutoff2\": 20, \"cutoff\": 0}, {\"calitp_itp_id\": 91, \"trip_key\": -9061046090506926668, \"trip_id\": \"t_1240823_b_27223_tn_0\", \"shape_id\": \"p_178415\", \"route_id\": \"114\", \"service_hours\": 0.45, \"trip_first_departure_ts\": 59400, \"trip_last_arrival_ts\": 61020, \"departure_hour\": 16, \"time_of_day\": \"Midday\", \"p25\": 0.45, \"p50\": 0.45, \"p75\": 0.45, \"p50_trip\": 1, \"fastest_trip\": 0, \"car_duration_hours\": 0.32, \"competitive_route\": 1, \"bus_multiplier\": 1.41, \"bus_difference\": 7.8, \"num_trips\": 16, \"num_competitive\": 16, \"pct_trips_competitive\": 1.0, \"bus_difference_spread\": 0.0, \"route_group\": \"short\", \"max_trip_hrs\": 0.45, \"max_trip_route_group\": 0.45, \"below_cutoff\": 16, \"pct_below_cutoff\": 1.0, \"calitp_agency_name\": \"Delano Area Rapid Transit\", \"caltrans_district\": \"06 - Fresno\", \"route_name\": null, \"route_short_name\": null, \"route_id2\": \"114\", \"cutoff2\": 20, \"cutoff\": 0}, {\"calitp_itp_id\": 91, \"trip_key\": 7885960360690765914, \"trip_id\": \"t_1240814_b_27223_tn_0\", \"shape_id\": \"p_178415\", \"route_id\": \"114\", \"service_hours\": 0.45, \"trip_first_departure_ts\": 37800, \"trip_last_arrival_ts\": 39420, \"departure_hour\": 10, \"time_of_day\": \"Midday\", \"p25\": 0.45, \"p50\": 0.45, \"p75\": 0.45, \"p50_trip\": 1, \"fastest_trip\": 0, \"car_duration_hours\": 0.32, \"competitive_route\": 1, \"bus_multiplier\": 1.41, \"bus_difference\": 7.8, \"num_trips\": 16, \"num_competitive\": 16, \"pct_trips_competitive\": 1.0, \"bus_difference_spread\": 0.0, \"route_group\": \"short\", \"max_trip_hrs\": 0.45, \"max_trip_route_group\": 0.45, \"below_cutoff\": 16, \"pct_below_cutoff\": 1.0, \"calitp_agency_name\": \"Delano Area Rapid Transit\", \"caltrans_district\": \"06 - Fresno\", \"route_name\": null, \"route_short_name\": null, \"route_id2\": \"114\", \"cutoff2\": 20, \"cutoff\": 0}, {\"calitp_itp_id\": 91, \"trip_key\": 5229068384769196212, \"trip_id\": \"t_1240821_b_27223_tn_0\", \"shape_id\": \"p_178415\", \"route_id\": \"114\", \"service_hours\": 0.45, \"trip_first_departure_ts\": 55800, \"trip_last_arrival_ts\": 57420, \"departure_hour\": 15, \"time_of_day\": \"Midday\", \"p25\": 0.45, \"p50\": 0.45, \"p75\": 0.45, \"p50_trip\": 1, \"fastest_trip\": 0, \"car_duration_hours\": 0.32, \"competitive_route\": 1, \"bus_multiplier\": 1.41, \"bus_difference\": 7.8, \"num_trips\": 16, \"num_competitive\": 16, \"pct_trips_competitive\": 1.0, \"bus_difference_spread\": 0.0, \"route_group\": \"short\", \"max_trip_hrs\": 0.45, \"max_trip_route_group\": 0.45, \"below_cutoff\": 16, \"pct_below_cutoff\": 1.0, \"calitp_agency_name\": \"Delano Area Rapid Transit\", \"caltrans_district\": \"06 - Fresno\", \"route_name\": null, \"route_short_name\": null, \"route_id2\": \"114\", \"cutoff2\": 20, \"cutoff\": 0}, {\"calitp_itp_id\": 91, \"trip_key\": -6331910482247002016, \"trip_id\": \"t_1239460_b_27223_tn_0\", \"shape_id\": \"p_900701\", \"route_id\": \"17\", \"service_hours\": 0.45, \"trip_first_departure_ts\": 39600, \"trip_last_arrival_ts\": 41220, \"departure_hour\": 11, \"time_of_day\": \"Midday\", \"p25\": 0.45, \"p50\": 0.45, \"p75\": 0.45, \"p50_trip\": 1, \"fastest_trip\": 0, \"car_duration_hours\": 0.29, \"competitive_route\": 1, \"bus_multiplier\": 1.55, \"bus_difference\": 9.6, \"num_trips\": 16, \"num_competitive\": 16, \"pct_trips_competitive\": 1.0, \"bus_difference_spread\": 0.0, \"route_group\": \"short\", \"max_trip_hrs\": 0.45, \"max_trip_route_group\": 0.45, \"below_cutoff\": 16, \"pct_below_cutoff\": 1.0, \"calitp_agency_name\": \"Delano Area Rapid Transit\", \"caltrans_district\": \"06 - Fresno\", \"route_name\": null, \"route_short_name\": null, \"route_id2\": \"17\", \"cutoff2\": 20, \"cutoff\": 0}, {\"calitp_itp_id\": 91, \"trip_key\": -5938118773600311175, \"trip_id\": \"t_1239468_b_27223_tn_0\", \"shape_id\": \"p_900701\", \"route_id\": \"17\", \"service_hours\": 0.45, \"trip_first_departure_ts\": 54000, \"trip_last_arrival_ts\": 55620, \"departure_hour\": 15, \"time_of_day\": \"Midday\", \"p25\": 0.45, \"p50\": 0.45, \"p75\": 0.45, \"p50_trip\": 1, \"fastest_trip\": 0, \"car_duration_hours\": 0.29, \"competitive_route\": 1, \"bus_multiplier\": 1.55, \"bus_difference\": 9.6, \"num_trips\": 16, \"num_competitive\": 16, \"pct_trips_competitive\": 1.0, \"bus_difference_spread\": 0.0, \"route_group\": \"short\", \"max_trip_hrs\": 0.45, \"max_trip_route_group\": 0.45, \"below_cutoff\": 16, \"pct_below_cutoff\": 1.0, \"calitp_agency_name\": \"Delano Area Rapid Transit\", \"caltrans_district\": \"06 - Fresno\", \"route_name\": null, \"route_short_name\": null, \"route_id2\": \"17\", \"cutoff2\": 20, \"cutoff\": 0}, {\"calitp_itp_id\": 91, \"trip_key\": -1913603712581029182, \"trip_id\": \"t_1239455_b_27223_tn_0\", \"shape_id\": \"p_900701\", \"route_id\": \"17\", \"service_hours\": 0.45, \"trip_first_departure_ts\": 30600, \"trip_last_arrival_ts\": 32220, \"departure_hour\": 8, \"time_of_day\": \"AM Peak\", \"p25\": 0.45, \"p50\": 0.45, \"p75\": 0.45, \"p50_trip\": 1, \"fastest_trip\": 0, \"car_duration_hours\": 0.29, \"competitive_route\": 1, \"bus_multiplier\": 1.55, \"bus_difference\": 9.6, \"num_trips\": 16, \"num_competitive\": 16, \"pct_trips_competitive\": 1.0, \"bus_difference_spread\": 0.0, \"route_group\": \"short\", \"max_trip_hrs\": 0.45, \"max_trip_route_group\": 0.45, \"below_cutoff\": 16, \"pct_below_cutoff\": 1.0, \"calitp_agency_name\": \"Delano Area Rapid Transit\", \"caltrans_district\": \"06 - Fresno\", \"route_name\": null, \"route_short_name\": null, \"route_id2\": \"17\", \"cutoff2\": 20, \"cutoff\": 0}, {\"calitp_itp_id\": 91, \"trip_key\": -9152987853767440429, \"trip_id\": \"t_1239458_b_27223_tn_0\", \"shape_id\": \"p_900701\", \"route_id\": \"17\", \"service_hours\": 0.45, \"trip_first_departure_ts\": 36000, \"trip_last_arrival_ts\": 37620, \"departure_hour\": 10, \"time_of_day\": \"Midday\", \"p25\": 0.45, \"p50\": 0.45, \"p75\": 0.45, \"p50_trip\": 1, \"fastest_trip\": 0, \"car_duration_hours\": 0.29, \"competitive_route\": 1, \"bus_multiplier\": 1.55, \"bus_difference\": 9.6, \"num_trips\": 16, \"num_competitive\": 16, \"pct_trips_competitive\": 1.0, \"bus_difference_spread\": 0.0, \"route_group\": \"short\", \"max_trip_hrs\": 0.45, \"max_trip_route_group\": 0.45, \"below_cutoff\": 16, \"pct_below_cutoff\": 1.0, \"calitp_agency_name\": \"Delano Area Rapid Transit\", \"caltrans_district\": \"06 - Fresno\", \"route_name\": null, \"route_short_name\": null, \"route_id2\": \"17\", \"cutoff2\": 20, \"cutoff\": 0}, {\"calitp_itp_id\": 91, \"trip_key\": -7566119181235198814, \"trip_id\": \"t_1239456_b_27223_tn_0\", \"shape_id\": \"p_900701\", \"route_id\": \"17\", \"service_hours\": 0.45, \"trip_first_departure_ts\": 32400, \"trip_last_arrival_ts\": 34020, \"departure_hour\": 9, \"time_of_day\": \"AM Peak\", \"p25\": 0.45, \"p50\": 0.45, \"p75\": 0.45, \"p50_trip\": 1, \"fastest_trip\": 0, \"car_duration_hours\": 0.29, \"competitive_route\": 1, \"bus_multiplier\": 1.55, \"bus_difference\": 9.6, \"num_trips\": 16, \"num_competitive\": 16, \"pct_trips_competitive\": 1.0, \"bus_difference_spread\": 0.0, \"route_group\": \"short\", \"max_trip_hrs\": 0.45, \"max_trip_route_group\": 0.45, \"below_cutoff\": 16, \"pct_below_cutoff\": 1.0, \"calitp_agency_name\": \"Delano Area Rapid Transit\", \"caltrans_district\": \"06 - Fresno\", \"route_name\": null, \"route_short_name\": null, \"route_id2\": \"17\", \"cutoff2\": 20, \"cutoff\": 0}, {\"calitp_itp_id\": 91, \"trip_key\": -5886507188815577667, \"trip_id\": \"t_1239453_b_27223_tn_0\", \"shape_id\": \"p_900701\", \"route_id\": \"17\", \"service_hours\": 0.45, \"trip_first_departure_ts\": 27000, \"trip_last_arrival_ts\": 28620, \"departure_hour\": 7, \"time_of_day\": \"AM Peak\", \"p25\": 0.45, \"p50\": 0.45, \"p75\": 0.45, \"p50_trip\": 1, \"fastest_trip\": 0, \"car_duration_hours\": 0.29, \"competitive_route\": 1, \"bus_multiplier\": 1.55, \"bus_difference\": 9.6, \"num_trips\": 16, \"num_competitive\": 16, \"pct_trips_competitive\": 1.0, \"bus_difference_spread\": 0.0, \"route_group\": \"short\", \"max_trip_hrs\": 0.45, \"max_trip_route_group\": 0.45, \"below_cutoff\": 16, \"pct_below_cutoff\": 1.0, \"calitp_agency_name\": \"Delano Area Rapid Transit\", \"caltrans_district\": \"06 - Fresno\", \"route_name\": null, \"route_short_name\": null, \"route_id2\": \"17\", \"cutoff2\": 20, \"cutoff\": 0}, {\"calitp_itp_id\": 91, \"trip_key\": 22489964404728966, \"trip_id\": \"t_1239464_b_27223_tn_0\", \"shape_id\": \"p_900701\", \"route_id\": \"17\", \"service_hours\": 0.45, \"trip_first_departure_ts\": 46800, \"trip_last_arrival_ts\": 48420, \"departure_hour\": 13, \"time_of_day\": \"Midday\", \"p25\": 0.45, \"p50\": 0.45, \"p75\": 0.45, \"p50_trip\": 1, \"fastest_trip\": 0, \"car_duration_hours\": 0.29, \"competitive_route\": 1, \"bus_multiplier\": 1.55, \"bus_difference\": 9.6, \"num_trips\": 16, \"num_competitive\": 16, \"pct_trips_competitive\": 1.0, \"bus_difference_spread\": 0.0, \"route_group\": \"short\", \"max_trip_hrs\": 0.45, \"max_trip_route_group\": 0.45, \"below_cutoff\": 16, \"pct_below_cutoff\": 1.0, \"calitp_agency_name\": \"Delano Area Rapid Transit\", \"caltrans_district\": \"06 - Fresno\", \"route_name\": null, \"route_short_name\": null, \"route_id2\": \"17\", \"cutoff2\": 20, \"cutoff\": 0}, {\"calitp_itp_id\": 91, \"trip_key\": -2437559224956991688, \"trip_id\": \"t_1239470_b_27223_tn_0\", \"shape_id\": \"p_900701\", \"route_id\": \"17\", \"service_hours\": 0.45, \"trip_first_departure_ts\": 57600, \"trip_last_arrival_ts\": 59220, \"departure_hour\": 16, \"time_of_day\": \"Midday\", \"p25\": 0.45, \"p50\": 0.45, \"p75\": 0.45, \"p50_trip\": 1, \"fastest_trip\": 1, \"car_duration_hours\": 0.29, \"competitive_route\": 1, \"bus_multiplier\": 1.55, \"bus_difference\": 9.6, \"num_trips\": 16, \"num_competitive\": 16, \"pct_trips_competitive\": 1.0, \"bus_difference_spread\": 0.0, \"route_group\": \"short\", \"max_trip_hrs\": 0.45, \"max_trip_route_group\": 0.45, \"below_cutoff\": 16, \"pct_below_cutoff\": 1.0, \"calitp_agency_name\": \"Delano Area Rapid Transit\", \"caltrans_district\": \"06 - Fresno\", \"route_name\": null, \"route_short_name\": null, \"route_id2\": \"17\", \"cutoff2\": 20, \"cutoff\": 0}, {\"calitp_itp_id\": 91, \"trip_key\": -8063091307827894344, \"trip_id\": \"t_1239469_b_27223_tn_0\", \"shape_id\": \"p_900701\", \"route_id\": \"17\", \"service_hours\": 0.45, \"trip_first_departure_ts\": 55800, \"trip_last_arrival_ts\": 57420, \"departure_hour\": 15, \"time_of_day\": \"Midday\", \"p25\": 0.45, \"p50\": 0.45, \"p75\": 0.45, \"p50_trip\": 1, \"fastest_trip\": 0, \"car_duration_hours\": 0.29, \"competitive_route\": 1, \"bus_multiplier\": 1.55, \"bus_difference\": 9.6, \"num_trips\": 16, \"num_competitive\": 16, \"pct_trips_competitive\": 1.0, \"bus_difference_spread\": 0.0, \"route_group\": \"short\", \"max_trip_hrs\": 0.45, \"max_trip_route_group\": 0.45, \"below_cutoff\": 16, \"pct_below_cutoff\": 1.0, \"calitp_agency_name\": \"Delano Area Rapid Transit\", \"caltrans_district\": \"06 - Fresno\", \"route_name\": null, \"route_short_name\": null, \"route_id2\": \"17\", \"cutoff2\": 20, \"cutoff\": 0}, {\"calitp_itp_id\": 91, \"trip_key\": 6215893417837299844, \"trip_id\": \"t_1239471_b_27223_tn_0\", \"shape_id\": \"p_900701\", \"route_id\": \"17\", \"service_hours\": 0.45, \"trip_first_departure_ts\": 59400, \"trip_last_arrival_ts\": 61020, \"departure_hour\": 16, \"time_of_day\": \"Midday\", \"p25\": 0.45, \"p50\": 0.45, \"p75\": 0.45, \"p50_trip\": 1, \"fastest_trip\": 0, \"car_duration_hours\": 0.29, \"competitive_route\": 1, \"bus_multiplier\": 1.55, \"bus_difference\": 9.6, \"num_trips\": 16, \"num_competitive\": 16, \"pct_trips_competitive\": 1.0, \"bus_difference_spread\": 0.0, \"route_group\": \"short\", \"max_trip_hrs\": 0.45, \"max_trip_route_group\": 0.45, \"below_cutoff\": 16, \"pct_below_cutoff\": 1.0, \"calitp_agency_name\": \"Delano Area Rapid Transit\", \"caltrans_district\": \"06 - Fresno\", \"route_name\": null, \"route_short_name\": null, \"route_id2\": \"17\", \"cutoff2\": 20, \"cutoff\": 0}, {\"calitp_itp_id\": 91, \"trip_key\": 4812402970193237974, \"trip_id\": \"t_1239457_b_27223_tn_0\", \"shape_id\": \"p_900701\", \"route_id\": \"17\", \"service_hours\": 0.45, \"trip_first_departure_ts\": 34200, \"trip_last_arrival_ts\": 35820, \"departure_hour\": 9, \"time_of_day\": \"AM Peak\", \"p25\": 0.45, \"p50\": 0.45, \"p75\": 0.45, \"p50_trip\": 1, \"fastest_trip\": 0, \"car_duration_hours\": 0.29, \"competitive_route\": 1, \"bus_multiplier\": 1.55, \"bus_difference\": 9.6, \"num_trips\": 16, \"num_competitive\": 16, \"pct_trips_competitive\": 1.0, \"bus_difference_spread\": 0.0, \"route_group\": \"short\", \"max_trip_hrs\": 0.45, \"max_trip_route_group\": 0.45, \"below_cutoff\": 16, \"pct_below_cutoff\": 1.0, \"calitp_agency_name\": \"Delano Area Rapid Transit\", \"caltrans_district\": \"06 - Fresno\", \"route_name\": null, \"route_short_name\": null, \"route_id2\": \"17\", \"cutoff2\": 20, \"cutoff\": 0}, {\"calitp_itp_id\": 91, \"trip_key\": 9145295621705125194, \"trip_id\": \"t_1239467_b_27223_tn_0\", \"shape_id\": \"p_900701\", \"route_id\": \"17\", \"service_hours\": 0.45, \"trip_first_departure_ts\": 52200, \"trip_last_arrival_ts\": 53820, \"departure_hour\": 14, \"time_of_day\": \"Midday\", \"p25\": 0.45, \"p50\": 0.45, \"p75\": 0.45, \"p50_trip\": 1, \"fastest_trip\": 0, \"car_duration_hours\": 0.29, \"competitive_route\": 1, \"bus_multiplier\": 1.55, \"bus_difference\": 9.6, \"num_trips\": 16, \"num_competitive\": 16, \"pct_trips_competitive\": 1.0, \"bus_difference_spread\": 0.0, \"route_group\": \"short\", \"max_trip_hrs\": 0.45, \"max_trip_route_group\": 0.45, \"below_cutoff\": 16, \"pct_below_cutoff\": 1.0, \"calitp_agency_name\": \"Delano Area Rapid Transit\", \"caltrans_district\": \"06 - Fresno\", \"route_name\": null, \"route_short_name\": null, \"route_id2\": \"17\", \"cutoff2\": 20, \"cutoff\": 0}, {\"calitp_itp_id\": 91, \"trip_key\": -9211050991580009440, \"trip_id\": \"t_1239454_b_27223_tn_0\", \"shape_id\": \"p_900701\", \"route_id\": \"17\", \"service_hours\": 0.45, \"trip_first_departure_ts\": 28800, \"trip_last_arrival_ts\": 30420, \"departure_hour\": 8, \"time_of_day\": \"AM Peak\", \"p25\": 0.45, \"p50\": 0.45, \"p75\": 0.45, \"p50_trip\": 1, \"fastest_trip\": 0, \"car_duration_hours\": 0.29, \"competitive_route\": 1, \"bus_multiplier\": 1.55, \"bus_difference\": 9.6, \"num_trips\": 16, \"num_competitive\": 16, \"pct_trips_competitive\": 1.0, \"bus_difference_spread\": 0.0, \"route_group\": \"short\", \"max_trip_hrs\": 0.45, \"max_trip_route_group\": 0.45, \"below_cutoff\": 16, \"pct_below_cutoff\": 1.0, \"calitp_agency_name\": \"Delano Area Rapid Transit\", \"caltrans_district\": \"06 - Fresno\", \"route_name\": null, \"route_short_name\": null, \"route_id2\": \"17\", \"cutoff2\": 20, \"cutoff\": 0}, {\"calitp_itp_id\": 91, \"trip_key\": 3499919047796925126, \"trip_id\": \"t_1239462_b_27223_tn_0\", \"shape_id\": \"p_900701\", \"route_id\": \"17\", \"service_hours\": 0.45, \"trip_first_departure_ts\": 43200, \"trip_last_arrival_ts\": 44820, \"departure_hour\": 12, \"time_of_day\": \"Midday\", \"p25\": 0.45, \"p50\": 0.45, \"p75\": 0.45, \"p50_trip\": 1, \"fastest_trip\": 0, \"car_duration_hours\": 0.29, \"competitive_route\": 1, \"bus_multiplier\": 1.55, \"bus_difference\": 9.6, \"num_trips\": 16, \"num_competitive\": 16, \"pct_trips_competitive\": 1.0, \"bus_difference_spread\": 0.0, \"route_group\": \"short\", \"max_trip_hrs\": 0.45, \"max_trip_route_group\": 0.45, \"below_cutoff\": 16, \"pct_below_cutoff\": 1.0, \"calitp_agency_name\": \"Delano Area Rapid Transit\", \"caltrans_district\": \"06 - Fresno\", \"route_name\": null, \"route_short_name\": null, \"route_id2\": \"17\", \"cutoff2\": 20, \"cutoff\": 0}, {\"calitp_itp_id\": 91, \"trip_key\": -2965405977341041911, \"trip_id\": \"t_1239452_b_27223_tn_0\", \"shape_id\": \"p_900701\", \"route_id\": \"17\", \"service_hours\": 0.45, \"trip_first_departure_ts\": 25200, \"trip_last_arrival_ts\": 26820, \"departure_hour\": 7, \"time_of_day\": \"AM Peak\", \"p25\": 0.45, \"p50\": 0.45, \"p75\": 0.45, \"p50_trip\": 1, \"fastest_trip\": 0, \"car_duration_hours\": 0.29, \"competitive_route\": 1, \"bus_multiplier\": 1.55, \"bus_difference\": 9.6, \"num_trips\": 16, \"num_competitive\": 16, \"pct_trips_competitive\": 1.0, \"bus_difference_spread\": 0.0, \"route_group\": \"short\", \"max_trip_hrs\": 0.45, \"max_trip_route_group\": 0.45, \"below_cutoff\": 16, \"pct_below_cutoff\": 1.0, \"calitp_agency_name\": \"Delano Area Rapid Transit\", \"caltrans_district\": \"06 - Fresno\", \"route_name\": null, \"route_short_name\": null, \"route_id2\": \"17\", \"cutoff2\": 20, \"cutoff\": 0}, {\"calitp_itp_id\": 91, \"trip_key\": -3022468821134918692, \"trip_id\": \"t_1239466_b_27223_tn_0\", \"shape_id\": \"p_900701\", \"route_id\": \"17\", \"service_hours\": 0.45, \"trip_first_departure_ts\": 50400, \"trip_last_arrival_ts\": 52020, \"departure_hour\": 14, \"time_of_day\": \"Midday\", \"p25\": 0.45, \"p50\": 0.45, \"p75\": 0.45, \"p50_trip\": 1, \"fastest_trip\": 0, \"car_duration_hours\": 0.29, \"competitive_route\": 1, \"bus_multiplier\": 1.55, \"bus_difference\": 9.6, \"num_trips\": 16, \"num_competitive\": 16, \"pct_trips_competitive\": 1.0, \"bus_difference_spread\": 0.0, \"route_group\": \"short\", \"max_trip_hrs\": 0.45, \"max_trip_route_group\": 0.45, \"below_cutoff\": 16, \"pct_below_cutoff\": 1.0, \"calitp_agency_name\": \"Delano Area Rapid Transit\", \"caltrans_district\": \"06 - Fresno\", \"route_name\": null, \"route_short_name\": null, \"route_id2\": \"17\", \"cutoff2\": 20, \"cutoff\": 0}]}}, {\"mode\": \"vega-lite\"});\n",
       "</script>"
      ],
      "text/plain": [
       "alt.FacetChart(...)"
      ]
     },
     "metadata": {},
     "output_type": "display_data"
    },
    {
     "data": {
      "text/html": [
       "<h4>Route Stats</h4>"
      ],
      "text/plain": [
       "<IPython.core.display.HTML object>"
      ]
     },
     "metadata": {},
     "output_type": "display_data"
    },
    {
     "data": {
      "text/html": [
       "<style type=\"text/css\">\n",
       "#T_6ecba th {\n",
       "  text-align: center;\n",
       "}\n",
       "#T_6ecba_row0_col0, #T_6ecba_row0_col1, #T_6ecba_row1_col0, #T_6ecba_row1_col1 {\n",
       "  text-align: left;\n",
       "}\n",
       "#T_6ecba_row0_col2, #T_6ecba_row0_col3, #T_6ecba_row0_col5, #T_6ecba_row1_col2, #T_6ecba_row1_col3, #T_6ecba_row1_col5 {\n",
       "  text-align: center;\n",
       "}\n",
       "</style>\n",
       "<table id=\"T_6ecba\">\n",
       "  <thead>\n",
       "    <tr>\n",
       "      <th id=\"T_6ecba_level0_col0\" class=\"col_heading level0 col0\" >Route ID</th>\n",
       "      <th id=\"T_6ecba_level0_col1\" class=\"col_heading level0 col1\" >Route Name</th>\n",
       "      <th id=\"T_6ecba_level0_col2\" class=\"col_heading level0 col2\" ># trips</th>\n",
       "      <th id=\"T_6ecba_level0_col3\" class=\"col_heading level0 col3\" >Daily Avg Freq (trips per hr)</th>\n",
       "      <th id=\"T_6ecba_level0_col4\" class=\"col_heading level0 col4\" >25th, 50th, 75th ptile (hrs)</th>\n",
       "      <th id=\"T_6ecba_level0_col5\" class=\"col_heading level0 col5\" >PM Peak Avg Freq (trips per hr)</th>\n",
       "    </tr>\n",
       "  </thead>\n",
       "  <tbody>\n",
       "    <tr>\n",
       "      <td id=\"T_6ecba_row0_col0\" class=\"data row0 col0\" >114</td>\n",
       "      <td id=\"T_6ecba_row0_col1\" class=\"data row0 col1\" >None</td>\n",
       "      <td id=\"T_6ecba_row0_col2\" class=\"data row0 col2\" >16</td>\n",
       "      <td id=\"T_6ecba_row0_col3\" class=\"data row0 col3\" >0.67</td>\n",
       "      <td id=\"T_6ecba_row0_col4\" class=\"data row0 col4\" >0.45, 0.45, 0.45</td>\n",
       "      <td id=\"T_6ecba_row0_col5\" class=\"data row0 col5\" >nan</td>\n",
       "    </tr>\n",
       "    <tr>\n",
       "      <td id=\"T_6ecba_row1_col0\" class=\"data row1 col0\" >17</td>\n",
       "      <td id=\"T_6ecba_row1_col1\" class=\"data row1 col1\" >None</td>\n",
       "      <td id=\"T_6ecba_row1_col2\" class=\"data row1 col2\" >16</td>\n",
       "      <td id=\"T_6ecba_row1_col3\" class=\"data row1 col3\" >0.67</td>\n",
       "      <td id=\"T_6ecba_row1_col4\" class=\"data row1 col4\" >0.45, 0.45, 0.45</td>\n",
       "      <td id=\"T_6ecba_row1_col5\" class=\"data row1 col5\" >nan</td>\n",
       "    </tr>\n",
       "  </tbody>\n",
       "</table>\n"
      ],
      "text/plain": [
       "<IPython.core.display.HTML object>"
      ]
     },
     "metadata": {},
     "output_type": "display_data"
    }
   ],
   "source": [
    "route_group = \"short\"\n",
    "display_charts_for_route_group(df, route_group)"
   ]
  },
  {
   "cell_type": "markdown",
   "id": "c2931b6f-034d-4384-9e14-80b925e3b820",
   "metadata": {
    "papermill": {
     "duration": 0.018906,
     "end_time": "2022-06-03T22:01:18.930890",
     "exception": false,
     "start_time": "2022-06-03T22:01:18.911984",
     "status": "completed"
    },
    "tags": []
   },
   "source": [
    "### Medium Routes (1-1.5 hrs)"
   ]
  },
  {
   "cell_type": "code",
   "execution_count": 15,
   "id": "480edddc-4de0-48c2-ae4c-b0ceef8f28b5",
   "metadata": {
    "execution": {
     "iopub.execute_input": "2022-06-03T22:01:18.970801Z",
     "iopub.status.busy": "2022-06-03T22:01:18.970513Z",
     "iopub.status.idle": "2022-06-03T22:01:18.984302Z",
     "shell.execute_reply": "2022-06-03T22:01:18.983376Z"
    },
    "jupyter": {
     "source_hidden": true
    },
    "papermill": {
     "duration": 0.03551,
     "end_time": "2022-06-03T22:01:18.986770",
     "exception": false,
     "start_time": "2022-06-03T22:01:18.951260",
     "status": "completed"
    },
    "tags": [
     "remove_input"
    ]
   },
   "outputs": [
    {
     "name": "stdout",
     "output_type": "stream",
     "text": [
      "No routes meet this criteria.\n"
     ]
    }
   ],
   "source": [
    "route_group = \"medium\"\n",
    "display_charts_for_route_group(df, route_group)"
   ]
  },
  {
   "cell_type": "markdown",
   "id": "124b76d0-886c-4d03-92ac-f1bda3cda182",
   "metadata": {
    "papermill": {
     "duration": 0.01838,
     "end_time": "2022-06-03T22:01:19.024031",
     "exception": false,
     "start_time": "2022-06-03T22:01:19.005651",
     "status": "completed"
    },
    "tags": []
   },
   "source": [
    "### Long Routes (> 1.5 hrs)"
   ]
  },
  {
   "cell_type": "code",
   "execution_count": 16,
   "id": "ddc81b19-4c45-4c81-8b7a-5e0f394aa7a3",
   "metadata": {
    "execution": {
     "iopub.execute_input": "2022-06-03T22:01:19.070198Z",
     "iopub.status.busy": "2022-06-03T22:01:19.069060Z",
     "iopub.status.idle": "2022-06-03T22:01:19.081244Z",
     "shell.execute_reply": "2022-06-03T22:01:19.080372Z"
    },
    "jupyter": {
     "source_hidden": true
    },
    "papermill": {
     "duration": 0.034907,
     "end_time": "2022-06-03T22:01:19.083186",
     "exception": false,
     "start_time": "2022-06-03T22:01:19.048279",
     "status": "completed"
    },
    "tags": [
     "remove_input"
    ]
   },
   "outputs": [
    {
     "name": "stdout",
     "output_type": "stream",
     "text": [
      "No routes meet this criteria.\n"
     ]
    }
   ],
   "source": [
    "route_group = \"long\"\n",
    "display_charts_for_route_group(df, route_group)"
   ]
  },
  {
   "cell_type": "markdown",
   "id": "ace75b5f-0442-4fbe-aebd-6c3a13ae13a7",
   "metadata": {
    "papermill": {
     "duration": 0.020005,
     "end_time": "2022-06-03T22:01:19.121239",
     "exception": false,
     "start_time": "2022-06-03T22:01:19.101234",
     "status": "completed"
    },
    "tags": []
   },
   "source": [
    "### GTFS Real-Time Speedmaps"
   ]
  },
  {
   "cell_type": "code",
   "execution_count": 17,
   "id": "a0a114a1-e975-4027-9daf-50029f5ef59f",
   "metadata": {
    "execution": {
     "iopub.execute_input": "2022-06-03T22:01:19.169045Z",
     "iopub.status.busy": "2022-06-03T22:01:19.168174Z",
     "iopub.status.idle": "2022-06-03T22:01:19.193095Z",
     "shell.execute_reply": "2022-06-03T22:01:19.192143Z"
    },
    "jupyter": {
     "source_hidden": true
    },
    "papermill": {
     "duration": 0.048164,
     "end_time": "2022-06-03T22:01:19.195524",
     "exception": false,
     "start_time": "2022-06-03T22:01:19.147360",
     "status": "completed"
    },
    "tags": [
     "remove_input"
    ]
   },
   "outputs": [
    {
     "data": {
      "text/html": [
       "No GTFS RT data available."
      ],
      "text/plain": [
       "<IPython.core.display.HTML object>"
      ]
     },
     "metadata": {},
     "output_type": "display_data"
    }
   ],
   "source": [
    "RT_SITE_YAML = \"../portfolio/sites/rt.yml\"\n",
    "\n",
    "# Grab list of ITP IDs with GTFS RT speedmaps\n",
    "rt_itp_id = deploy_portfolio_yaml.check_if_rt_data_available(RT_SITE_YAML)\n",
    "\n",
    "# Construct the URL \n",
    "RT_URL = (\"https://analysis.calitp.org/rt/\"\n",
    "          f\"district_{district_number}-{district_name}/\"\n",
    "          f\"speedmaps__itp_id_{itp_id}.html\"\n",
    "         ) \n",
    "\n",
    "# If this ITP ID is found in RT analysis, give URL to that operator in analysis.calitp.org\n",
    "if itp_id in rt_itp_id:\n",
    "    display(HTML(f'''<a href={RT_URL}>GTFS RT speedmaps here.</a>'''))\n",
    "\n",
    "else:\n",
    "    display(HTML(\"No GTFS RT data available.\"))"
   ]
  },
  {
   "cell_type": "code",
   "execution_count": null,
   "id": "5b680565-2230-4f2e-817c-718fad48d64c",
   "metadata": {
    "jupyter": {
     "source_hidden": true
    },
    "papermill": {
     "duration": 0.025078,
     "end_time": "2022-06-03T22:01:19.241830",
     "exception": false,
     "start_time": "2022-06-03T22:01:19.216752",
     "status": "completed"
    },
    "tags": [
     "remove_input"
    ]
   },
   "outputs": [],
   "source": []
  }
 ],
 "metadata": {
  "kernelspec": {
   "display_name": "Python 3 (ipykernel)",
   "language": "python",
   "name": "python3"
  },
  "language_info": {
   "codemirror_mode": {
    "name": "ipython",
    "version": 3
   },
   "file_extension": ".py",
   "mimetype": "text/x-python",
   "name": "python",
   "nbconvert_exporter": "python",
   "pygments_lexer": "ipython3",
   "version": "3.9.12"
  },
  "papermill": {
   "default_parameters": {},
   "duration": 25.545005,
   "end_time": "2022-06-03T22:01:20.587171",
   "environment_variables": {},
   "exception": null,
   "input_path": "bus_service_increase/competitive-parallel-routes.ipynb",
   "output_path": "portfolio/parallel_corridors/district_06-fresno/0__competitive-parallel-routes__district_06-fresno__itp_id_91.ipynb",
   "parameters": {
    "district": "06 - Fresno",
    "itp_id": 91
   },
   "start_time": "2022-06-03T22:00:55.042166",
   "version": "2.3.4"
  }
 },
 "nbformat": 4,
 "nbformat_minor": 5
}