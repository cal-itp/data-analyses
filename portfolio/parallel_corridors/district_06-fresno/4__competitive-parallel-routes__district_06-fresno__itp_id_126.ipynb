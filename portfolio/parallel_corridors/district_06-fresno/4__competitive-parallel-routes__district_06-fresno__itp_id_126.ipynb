{
 "cells": [
  {
   "cell_type": "code",
   "execution_count": 1,
   "id": "95d00857-6a20-4529-a519-2cc7182928a9",
   "metadata": {
    "execution": {
     "iopub.execute_input": "2022-05-12T02:15:43.461106Z",
     "iopub.status.busy": "2022-05-12T02:15:43.460575Z",
     "iopub.status.idle": "2022-05-12T02:15:51.589046Z",
     "shell.execute_reply": "2022-05-12T02:15:51.588068Z"
    },
    "jupyter": {
     "source_hidden": true
    },
    "papermill": {
     "duration": 8.145742,
     "end_time": "2022-05-12T02:15:51.592007",
     "exception": false,
     "start_time": "2022-05-12T02:15:43.446265",
     "status": "completed"
    },
    "tags": [
     "remove_input"
    ]
   },
   "outputs": [],
   "source": [
    "%%capture\n",
    "import warnings\n",
    "warnings.filterwarnings('ignore')\n",
    "\n",
    "import altair as alt\n",
    "import calitp.magics\n",
    "import geopandas as gpd\n",
    "import intake\n",
    "import pandas as pd\n",
    "\n",
    "from IPython.display import display, Markdown, HTML\n",
    "\n",
    "import parallel_corridors_utils\n",
    "import deploy_portfolio_yaml\n",
    "from shared_utils import styleguide, geography_utils\n",
    "from make_stripplot_data import diff_cutoffs\n",
    "\n",
    "catalog = intake.open_catalog(\"./*.yml\")\n",
    "alt.renderers.enable(\"html\")"
   ]
  },
  {
   "cell_type": "code",
   "execution_count": 2,
   "id": "8af2a0c1-f3da-408d-9bea-11d9fbf8695d",
   "metadata": {
    "execution": {
     "iopub.execute_input": "2022-05-12T02:15:51.618448Z",
     "iopub.status.busy": "2022-05-12T02:15:51.618170Z",
     "iopub.status.idle": "2022-05-12T02:15:51.622307Z",
     "shell.execute_reply": "2022-05-12T02:15:51.621379Z"
    },
    "jupyter": {
     "source_hidden": true
    },
    "papermill": {
     "duration": 0.019914,
     "end_time": "2022-05-12T02:15:51.624475",
     "exception": false,
     "start_time": "2022-05-12T02:15:51.604561",
     "status": "completed"
    },
    "tags": [
     "parameters",
     "remove_input"
    ]
   },
   "outputs": [],
   "source": [
    "# parameters cell\n",
    "itp_id = 182"
   ]
  },
  {
   "cell_type": "code",
   "execution_count": 3,
   "id": "8c5f047f",
   "metadata": {
    "execution": {
     "iopub.execute_input": "2022-05-12T02:15:51.649951Z",
     "iopub.status.busy": "2022-05-12T02:15:51.649687Z",
     "iopub.status.idle": "2022-05-12T02:15:51.653203Z",
     "shell.execute_reply": "2022-05-12T02:15:51.652418Z"
    },
    "jupyter": {
     "source_hidden": true
    },
    "papermill": {
     "duration": 0.018476,
     "end_time": "2022-05-12T02:15:51.655101",
     "exception": false,
     "start_time": "2022-05-12T02:15:51.636625",
     "status": "completed"
    },
    "tags": [
     "injected-parameters",
     "remove_input"
    ]
   },
   "outputs": [],
   "source": [
    "# Parameters\n",
    "district = \"06 - Fresno\"\n",
    "itp_id = 126\n"
   ]
  },
  {
   "cell_type": "code",
   "execution_count": 4,
   "id": "9582aaf4-79ff-412a-b248-8d8d693ebd4f",
   "metadata": {
    "execution": {
     "iopub.execute_input": "2022-05-12T02:15:51.680654Z",
     "iopub.status.busy": "2022-05-12T02:15:51.679964Z",
     "iopub.status.idle": "2022-05-12T02:15:52.984002Z",
     "shell.execute_reply": "2022-05-12T02:15:52.983176Z"
    },
    "jupyter": {
     "source_hidden": true
    },
    "papermill": {
     "duration": 1.320217,
     "end_time": "2022-05-12T02:15:52.986936",
     "exception": false,
     "start_time": "2022-05-12T02:15:51.666719",
     "status": "completed"
    },
    "tags": [
     "remove_input"
    ]
   },
   "outputs": [],
   "source": [
    "df = catalog.competitive_route_variability.read()\n",
    "\n",
    "df = (df[(df.calitp_itp_id == itp_id) & \n",
    "         (df.route_group.notna())]\n",
    "      .rename(columns = {\"route_name_used\": \"route_name\"})\n",
    "      .reset_index(drop=True)\n",
    "     )\n",
    "\n",
    "if itp_id == 182:\n",
    "    df = df.assign(\n",
    "        route_id = df.route_id.str.replace('-13153', '').astype(int)\n",
    "    )"
   ]
  },
  {
   "cell_type": "code",
   "execution_count": 5,
   "id": "33ac4b06-f647-4dce-a625-8f2c1b37cc60",
   "metadata": {
    "execution": {
     "iopub.execute_input": "2022-05-12T02:15:53.013549Z",
     "iopub.status.busy": "2022-05-12T02:15:53.013273Z",
     "iopub.status.idle": "2022-05-12T02:15:53.020376Z",
     "shell.execute_reply": "2022-05-12T02:15:53.019818Z"
    },
    "jupyter": {
     "source_hidden": true
    },
    "papermill": {
     "duration": 0.022399,
     "end_time": "2022-05-12T02:15:53.022108",
     "exception": false,
     "start_time": "2022-05-12T02:15:52.999709",
     "status": "completed"
    },
    "tags": [
     "remove_input"
    ]
   },
   "outputs": [],
   "source": [
    "%%capture_parameters\n",
    "operator_name = df.name.iloc[0]\n",
    "district_number = f\"{df.caltrans_district.iloc[0].split('-')[0].strip()}\"\n",
    "district_name = f\"{df.caltrans_district.iloc[0].split('-')[1].strip().lower().replace(' ', '-')}\"\n",
    "\n",
    "itp_id, operator_name, district_number, district_name"
   ]
  },
  {
   "cell_type": "markdown",
   "id": "65bc6f5c-8348-42ee-b2dd-52057c406852",
   "metadata": {
    "papermill": {
     "duration": 0.012381,
     "end_time": "2022-05-12T02:15:53.046775",
     "exception": false,
     "start_time": "2022-05-12T02:15:53.034394",
     "status": "completed"
    },
    "tags": []
   },
   "source": [
    "# Golden Empire Transit District (ITP ID: 126)"
   ]
  },
  {
   "cell_type": "code",
   "execution_count": 6,
   "id": "a689c1ab-2c6c-4831-8d64-897f5986f571",
   "metadata": {
    "execution": {
     "iopub.execute_input": "2022-05-12T02:15:53.074605Z",
     "iopub.status.busy": "2022-05-12T02:15:53.073794Z",
     "iopub.status.idle": "2022-05-12T02:15:53.080021Z",
     "shell.execute_reply": "2022-05-12T02:15:53.079379Z"
    },
    "jupyter": {
     "source_hidden": true
    },
    "papermill": {
     "duration": 0.021759,
     "end_time": "2022-05-12T02:15:53.081927",
     "exception": false,
     "start_time": "2022-05-12T02:15:53.060168",
     "status": "completed"
    },
    "tags": [
     "remove_input"
    ]
   },
   "outputs": [
    {
     "data": {
      "text/html": [
       "<h1>Competitive & Parallel Routes</h1>"
      ],
      "text/plain": [
       "<IPython.core.display.HTML object>"
      ]
     },
     "metadata": {},
     "output_type": "display_data"
    }
   ],
   "source": [
    "display(HTML(\"<h1>Competitive & Parallel Routes</h1>\")) "
   ]
  },
  {
   "cell_type": "code",
   "execution_count": 7,
   "id": "2cb4d8d5-4760-40e4-85b1-cb833d8bb648",
   "metadata": {
    "execution": {
     "iopub.execute_input": "2022-05-12T02:15:53.117318Z",
     "iopub.status.busy": "2022-05-12T02:15:53.115737Z",
     "iopub.status.idle": "2022-05-12T02:16:03.060064Z",
     "shell.execute_reply": "2022-05-12T02:16:03.059223Z"
    },
    "jupyter": {
     "source_hidden": true
    },
    "papermill": {
     "duration": 9.961163,
     "end_time": "2022-05-12T02:16:03.062389",
     "exception": false,
     "start_time": "2022-05-12T02:15:53.101226",
     "status": "completed"
    },
    "tags": [
     "remove_input"
    ]
   },
   "outputs": [],
   "source": [
    "# Grab parameters for narrative text - clean up formatting here \n",
    "district = df.caltrans_district.iloc[0]\n",
    "formatted_date = pd.to_datetime(parallel_corridors_utils.SELECTED_DATE).strftime('%m-%d-%Y')\n",
    "\n",
    "PCT_COMPETITIVE_THRESHOLD = 0.75\n",
    "PCT_TRIPS_BELOW_CUTOFF = 0.50\n",
    "\n",
    "stats = parallel_corridors_utils.operator_parallel_competitive_stats(\n",
    "    itp_id, PCT_COMPETITIVE_THRESHOLD, PCT_TRIPS_BELOW_CUTOFF)\n",
    "\n",
    "pct_parallel = round(stats['parallel_routes'] / stats['num_routes'] * 100, 1 )\n",
    "pct_competitive =  round(stats['competitive_routes'] / stats['num_routes'] * 100, 1 )\n",
    "pct_viable =  round(stats['viable_competitive_routes'] / stats['num_routes'] * 100, 1 )"
   ]
  },
  {
   "cell_type": "code",
   "execution_count": 8,
   "id": "8bf30c8f-6aa5-47bb-82ae-a906732e81fd",
   "metadata": {
    "execution": {
     "iopub.execute_input": "2022-05-12T02:16:03.107574Z",
     "iopub.status.busy": "2022-05-12T02:16:03.106945Z",
     "iopub.status.idle": "2022-05-12T02:16:03.134697Z",
     "shell.execute_reply": "2022-05-12T02:16:03.133922Z"
    },
    "jupyter": {
     "source_hidden": true
    },
    "papermill": {
     "duration": 0.048632,
     "end_time": "2022-05-12T02:16:03.136725",
     "exception": false,
     "start_time": "2022-05-12T02:16:03.088093",
     "status": "completed"
    },
    "tags": [
     "remove_input"
    ]
   },
   "outputs": [],
   "source": [
    "# Display a table of route-level stats for each route_group\n",
    "# Displaying route_name makes chart too crowded\n",
    "\n",
    "# Get route stats (for entire df)\n",
    "route_stats = parallel_corridors_utils.competitive_route_level_stats(df)\n",
    "    \n",
    "def style_route_stats(df, top15_routes):\n",
    "    df = df[df.route_id.isin(top15_routes)]\n",
    "    \n",
    "    # Rename columns for display\n",
    "    rename_cols = {\n",
    "        \"route_id\": \"Route ID\",\n",
    "        \"route_name\": \"Route Name\",\n",
    "        \"route_group\": \"Route Group\",\n",
    "        \"num_trips\": \"# trips\",\n",
    "        \"daily_avg_freq\": \"Daily Avg Freq (trips per hr)\",\n",
    "        \"pm_peak_freq\": \"PM Peak Avg Freq (trips per hr)\",\n",
    "        \"percentiles\": \"25th, 50th, 75th ptile (hrs)\",\n",
    "    }\n",
    "    \n",
    "    # Style it\n",
    "    drop_cols = [\n",
    "        \"calitp_itp_id\", \"below_cutoff\", \"route_group\", \n",
    "        \"pct_trips_competitive\", \"pct_below_cutoff\",\n",
    "        \"p25\", \"p50\", \"p75\",\n",
    "    ]\n",
    "    \n",
    "    # Change alignment for some columns\n",
    "    # https://stackoverflow.com/questions/59453091/left-align-the-first-column-and-center-align-the-other-columns-in-a-pandas-table\n",
    "    df_style = (df.sort_values(\n",
    "        [\"pct_trips_competitive\", \"below_cutoff\", \n",
    "        \"pct_below_cutoff\", \"route_id\"], \n",
    "        ascending=[False, False, False, True])\n",
    "           .drop(columns = drop_cols)\n",
    "           .rename(columns = rename_cols)\n",
    "           .style.format(\n",
    "               subset=['Daily Avg Freq (trips per hr)', \n",
    "                       'PM Peak Avg Freq (trips per hr)'], \n",
    "               **{'formatter': '{:,.3}'})\n",
    "                .set_properties(subset=['Route ID', 'Route Name'], \n",
    "                                **{'text-align': 'left'})\n",
    "                .set_properties(subset=['# trips', 'Daily Avg Freq (trips per hr)', \n",
    "                                       'PM Peak Avg Freq (trips per hr)'], \n",
    "                               **{'text-align': 'center'})\n",
    "                .set_table_styles([dict(selector='th', \n",
    "                                        props=[('text-align', 'center')])\n",
    "                                        ])\n",
    "           .hide(axis=\"index\")\n",
    "           .to_html()\n",
    "          )\n",
    "    \n",
    "    display(HTML(\"<h4>Route Stats</h4>\"))\n",
    "    display(HTML(df_style))"
   ]
  },
  {
   "cell_type": "markdown",
   "id": "ab667928-5274-4490-82d9-4c39293209a4",
   "metadata": {
    "papermill": {
     "duration": 0.014013,
     "end_time": "2022-05-12T02:16:03.163756",
     "exception": false,
     "start_time": "2022-05-12T02:16:03.149743",
     "status": "completed"
    },
    "tags": []
   },
   "source": [
    "## Quick Stats"
   ]
  },
  {
   "cell_type": "code",
   "execution_count": 9,
   "id": "0416509d-dc62-4165-b62e-64f8b26e8b8e",
   "metadata": {
    "execution": {
     "iopub.execute_input": "2022-05-12T02:16:03.211946Z",
     "iopub.status.busy": "2022-05-12T02:16:03.211110Z",
     "iopub.status.idle": "2022-05-12T02:16:03.217889Z",
     "shell.execute_reply": "2022-05-12T02:16:03.217173Z"
    },
    "jupyter": {
     "source_hidden": true
    },
    "papermill": {
     "duration": 0.026209,
     "end_time": "2022-05-12T02:16:03.219512",
     "exception": false,
     "start_time": "2022-05-12T02:16:03.193303",
     "status": "completed"
    },
    "tags": [
     "remove_input"
    ]
   },
   "outputs": [
    {
     "data": {
      "text/markdown": [
       "**Bus routes in service: 16**<br>**Parallel routes** to State Highway Network (SHN): **8 routes (50.0%)**<br>**Competitive routes** against car travel (within 2x car travel time): **3 routes (18.8%)**<br>**Viable competitive routes** against car travel (within 2x car travel time and within 20, 30, or 40 min cut-off): **2 routes (12.5%)**"
      ],
      "text/plain": [
       "<IPython.core.display.Markdown object>"
      ]
     },
     "metadata": {},
     "output_type": "display_data"
    }
   ],
   "source": [
    "display(\n",
    "    Markdown(\n",
    "        f\"**Bus routes in service: {stats['num_routes']}**\"\n",
    "        \"<br>**Parallel routes** to State Highway Network (SHN): \"\n",
    "        f\"**{stats['parallel_routes']} routes ({pct_parallel}%)**\"\n",
    "        \"<br>**Competitive routes** against car travel (within 2x car travel time): \"\n",
    "        f\"**{stats['competitive_routes']} routes ({pct_competitive}%)**\"\n",
    "        \"<br>**Viable competitive routes** against car travel \"\n",
    "        \"(within 2x car travel time and within 20, 30, or 40 min cut-off): \"\n",
    "        f\"**{stats['viable_competitive_routes']} routes ({pct_viable}%)**\"\n",
    "    )\n",
    ")"
   ]
  },
  {
   "cell_type": "code",
   "execution_count": 10,
   "id": "f9d6ab58-f0ee-460c-b6de-657490e1f386",
   "metadata": {
    "execution": {
     "iopub.execute_input": "2022-05-12T02:16:03.248231Z",
     "iopub.status.busy": "2022-05-12T02:16:03.247345Z",
     "iopub.status.idle": "2022-05-12T02:16:03.253907Z",
     "shell.execute_reply": "2022-05-12T02:16:03.253438Z"
    },
    "jupyter": {
     "source_hidden": true
    },
    "papermill": {
     "duration": 0.022674,
     "end_time": "2022-05-12T02:16:03.255519",
     "exception": false,
     "start_time": "2022-05-12T02:16:03.232845",
     "status": "completed"
    },
    "tags": [
     "remove_input"
    ]
   },
   "outputs": [],
   "source": [
    "def set_yaxis_range(df, y_col):\n",
    "    Y_MIN = df[y_col].min()\n",
    "    Y_MAX = df[y_col].max()\n",
    "    \n",
    "    return Y_MIN, Y_MAX\n",
    "\n",
    "# Rather than set it according to the operator, which can vary,\n",
    "# just use set thresholds for each group\n",
    "def top15_routes(df, route_group):\n",
    "    # grab top 15 routes where majority of trips are below that cut-off \n",
    "    # but show 15 max, otherwise, show less, since these won't be as interesting to operators\n",
    "    df2 = (df[(df.route_group==route_group) &\n",
    "              (df.pct_below_cutoff >= PCT_TRIPS_BELOW_CUTOFF)]\n",
    "           .sort_values([\"calitp_itp_id\", \"below_cutoff\", \n",
    "                         \"pct_below_cutoff\", \"route_id\"],\n",
    "                        ascending = [True, False, False, True]\n",
    "                       )\n",
    "           .drop_duplicates(subset=[\"calitp_itp_id\", \"route_id\"])\n",
    "          ).head(15)\n",
    "    \n",
    "    return list(df2.route_id)"
   ]
  },
  {
   "cell_type": "code",
   "execution_count": 11,
   "id": "cf36d559-3349-4144-8086-8ac9ce937a5a",
   "metadata": {
    "execution": {
     "iopub.execute_input": "2022-05-12T02:16:03.301034Z",
     "iopub.status.busy": "2022-05-12T02:16:03.300516Z",
     "iopub.status.idle": "2022-05-12T02:16:03.305819Z",
     "shell.execute_reply": "2022-05-12T02:16:03.305333Z"
    },
    "jupyter": {
     "source_hidden": true
    },
    "papermill": {
     "duration": 0.038388,
     "end_time": "2022-05-12T02:16:03.307542",
     "exception": false,
     "start_time": "2022-05-12T02:16:03.269154",
     "status": "completed"
    },
    "tags": [
     "remove_input"
    ]
   },
   "outputs": [],
   "source": [
    "def caption_with_cutoff(cutoff):\n",
    "    sentence = (\n",
    "        f\"<br>These are routes that have **at least {int(PCT_TRIPS_BELOW_CUTOFF*100)}% \"\n",
    "        \"of their trips take no more than an \"\n",
    "        f\"additional {cutoff} min** compared to a car \"\n",
    "        \"(up to 15 routes) are shown.\"\n",
    "        \"<br>Within each route group, routes are sorted in descending order \"\n",
    "        \"by % competitive trips and # trips below the additional time cut-off.\"\n",
    "    )\n",
    "    return sentence\n",
    "\n",
    "CAPTIONS_DICT = {\n",
    "    \"short\": caption_with_cutoff(diff_cutoffs['short']),\n",
    "    \"medium\": caption_with_cutoff(diff_cutoffs['medium']),\n",
    "    \"long\": caption_with_cutoff(diff_cutoffs['long']),\n",
    "}"
   ]
  },
  {
   "cell_type": "code",
   "execution_count": 12,
   "id": "e4306d58-6944-47e9-afef-5d5b524c751f",
   "metadata": {
    "execution": {
     "iopub.execute_input": "2022-05-12T02:16:03.336937Z",
     "iopub.status.busy": "2022-05-12T02:16:03.336051Z",
     "iopub.status.idle": "2022-05-12T02:16:03.342956Z",
     "shell.execute_reply": "2022-05-12T02:16:03.342447Z"
    },
    "jupyter": {
     "source_hidden": true
    },
    "papermill": {
     "duration": 0.023631,
     "end_time": "2022-05-12T02:16:03.344587",
     "exception": false,
     "start_time": "2022-05-12T02:16:03.320956",
     "status": "completed"
    },
    "tags": [
     "remove_input"
    ]
   },
   "outputs": [],
   "source": [
    "def setup_charts(df, PCT_COMPETITIVE_THRESHOLD, route_group):\n",
    "    # Set up df for charting (cut-off at some threshold to show most competitive routes)\n",
    "    plot_me = (df[df.pct_trips_competitive > PCT_COMPETITIVE_THRESHOLD]\n",
    "           .drop(columns = \"geometry\")\n",
    "    )\n",
    "    \n",
    "    # Set y-ranges to be the same across route_groups, \n",
    "    # otherwise charts fluctuate too much, even within operator\n",
    "    y_col1 = \"bus_multiplier\"\n",
    "    Y_MIN1, Y_MAX1 = set_yaxis_range(plot_me, y_col1)\n",
    "\n",
    "    y_col2 = \"bus_difference\"\n",
    "    Y_MIN2, Y_MAX2 = set_yaxis_range(plot_me, y_col2)\n",
    "    \n",
    "    # Grab the routes to plot\n",
    "    subset_routes = top15_routes(plot_me, route_group)\n",
    "        \n",
    "    # Display charts\n",
    "    multiplier_chart = parallel_corridors_utils.make_stripplot(\n",
    "        plot_me[plot_me.route_id.isin(subset_routes)], \n",
    "        y_col1, Y_MIN = Y_MIN1, Y_MAX = Y_MAX1\n",
    "    )\n",
    "    \n",
    "    difference_chart = parallel_corridors_utils.make_stripplot(\n",
    "        plot_me[plot_me.route_id.isin(subset_routes)], \n",
    "        y_col2, Y_MIN = Y_MIN2, Y_MAX = Y_MAX2\n",
    "    )\n",
    "    \n",
    "    return subset_routes, multiplier_chart, difference_chart            "
   ]
  },
  {
   "cell_type": "code",
   "execution_count": 13,
   "id": "33a710e8-504c-4942-aa75-ff69f216956e",
   "metadata": {
    "execution": {
     "iopub.execute_input": "2022-05-12T02:16:03.379411Z",
     "iopub.status.busy": "2022-05-12T02:16:03.378645Z",
     "iopub.status.idle": "2022-05-12T02:16:03.390929Z",
     "shell.execute_reply": "2022-05-12T02:16:03.390193Z"
    },
    "jupyter": {
     "source_hidden": true
    },
    "papermill": {
     "duration": 0.034946,
     "end_time": "2022-05-12T02:16:03.393925",
     "exception": false,
     "start_time": "2022-05-12T02:16:03.358979",
     "status": "completed"
    },
    "tags": [
     "remove_input"
    ]
   },
   "outputs": [],
   "source": [
    "def display_charts_for_route_group(df, route_group):    \n",
    "    subset_routes, mult, diff  = setup_charts(df, PCT_COMPETITIVE_THRESHOLD, route_group)\n",
    "\n",
    "    if len(subset_routes) > 0:\n",
    "        display(Markdown(f\"{CAPTIONS_DICT[route_group]}\"))\n",
    "\n",
    "        display(mult)\n",
    "        display(diff)\n",
    "        \n",
    "        # Display route stats for just plotted routes\n",
    "        style_route_stats(route_stats, subset_routes)"
   ]
  },
  {
   "cell_type": "markdown",
   "id": "525f9b38-072b-46d1-96a8-1aa4b038357c",
   "metadata": {
    "papermill": {
     "duration": 0.014709,
     "end_time": "2022-05-12T02:16:03.425608",
     "exception": false,
     "start_time": "2022-05-12T02:16:03.410899",
     "status": "completed"
    },
    "tags": []
   },
   "source": [
    "## Viable Competitive Routes\n",
    "### Short Routes (< 1 hr)"
   ]
  },
  {
   "cell_type": "code",
   "execution_count": 14,
   "id": "57f7084c-2cf7-45c6-ba08-1609e0bd6ca5",
   "metadata": {
    "execution": {
     "iopub.execute_input": "2022-05-12T02:16:03.454880Z",
     "iopub.status.busy": "2022-05-12T02:16:03.454002Z",
     "iopub.status.idle": "2022-05-12T02:16:03.465812Z",
     "shell.execute_reply": "2022-05-12T02:16:03.465245Z"
    },
    "jupyter": {
     "source_hidden": true
    },
    "papermill": {
     "duration": 0.028359,
     "end_time": "2022-05-12T02:16:03.467476",
     "exception": false,
     "start_time": "2022-05-12T02:16:03.439117",
     "status": "completed"
    },
    "tags": [
     "remove_input"
    ]
   },
   "outputs": [
    {
     "name": "stdout",
     "output_type": "stream",
     "text": [
      "No routes meet this criteria.\n"
     ]
    }
   ],
   "source": [
    "# Allow for possibility that operator doesn't have routes that fall into certain route_groups\n",
    "# But, jupyterbook will not like markdown with f-string\n",
    "# separate out route_group and put in each cell, and use try/except + if to display...\n",
    "# but all 3 route groups must be displayed. just add sentence about why no routes were returned at the end\n",
    "route_group = \"short\"\n",
    "try:\n",
    "    display_charts_for_route_group(df, route_group)\n",
    "except:\n",
    "    print(\"No routes meet this criteria.\")"
   ]
  },
  {
   "cell_type": "markdown",
   "id": "c2931b6f-034d-4384-9e14-80b925e3b820",
   "metadata": {
    "papermill": {
     "duration": 0.014274,
     "end_time": "2022-05-12T02:16:03.503852",
     "exception": false,
     "start_time": "2022-05-12T02:16:03.489578",
     "status": "completed"
    },
    "tags": []
   },
   "source": [
    "### Medium Routes (1-1.5 hrs)"
   ]
  },
  {
   "cell_type": "code",
   "execution_count": 15,
   "id": "480edddc-4de0-48c2-ae4c-b0ceef8f28b5",
   "metadata": {
    "execution": {
     "iopub.execute_input": "2022-05-12T02:16:03.538320Z",
     "iopub.status.busy": "2022-05-12T02:16:03.537697Z",
     "iopub.status.idle": "2022-05-12T02:16:03.852902Z",
     "shell.execute_reply": "2022-05-12T02:16:03.851959Z"
    },
    "jupyter": {
     "source_hidden": true
    },
    "papermill": {
     "duration": 0.332989,
     "end_time": "2022-05-12T02:16:03.854755",
     "exception": false,
     "start_time": "2022-05-12T02:16:03.521766",
     "status": "completed"
    },
    "tags": [
     "remove_input"
    ]
   },
   "outputs": [
    {
     "data": {
      "text/markdown": [
       "<br>These are routes that have **at least 50% of their trips take no more than an additional 30 min** compared to a car (up to 15 routes) are shown.<br>Within each route group, routes are sorted in descending order by % competitive trips and # trips below the additional time cut-off."
      ],
      "text/plain": [
       "<IPython.core.display.Markdown object>"
      ]
     },
     "metadata": {},
     "output_type": "display_data"
    },
    {
     "data": {
      "text/html": [
       "\n",
       "<div id=\"altair-viz-060413acd82143fea34f51cc1daf73f1\"></div>\n",
       "<script type=\"text/javascript\">\n",
       "  var VEGA_DEBUG = (typeof VEGA_DEBUG == \"undefined\") ? {} : VEGA_DEBUG;\n",
       "  (function(spec, embedOpt){\n",
       "    let outputDiv = document.currentScript.previousElementSibling;\n",
       "    if (outputDiv.id !== \"altair-viz-060413acd82143fea34f51cc1daf73f1\") {\n",
       "      outputDiv = document.getElementById(\"altair-viz-060413acd82143fea34f51cc1daf73f1\");\n",
       "    }\n",
       "    const paths = {\n",
       "      \"vega\": \"https://cdn.jsdelivr.net/npm//vega@5?noext\",\n",
       "      \"vega-lib\": \"https://cdn.jsdelivr.net/npm//vega-lib?noext\",\n",
       "      \"vega-lite\": \"https://cdn.jsdelivr.net/npm//vega-lite@4.17.0?noext\",\n",
       "      \"vega-embed\": \"https://cdn.jsdelivr.net/npm//vega-embed@6?noext\",\n",
       "    };\n",
       "\n",
       "    function maybeLoadScript(lib, version) {\n",
       "      var key = `${lib.replace(\"-\", \"\")}_version`;\n",
       "      return (VEGA_DEBUG[key] == version) ?\n",
       "        Promise.resolve(paths[lib]) :\n",
       "        new Promise(function(resolve, reject) {\n",
       "          var s = document.createElement('script');\n",
       "          document.getElementsByTagName(\"head\")[0].appendChild(s);\n",
       "          s.async = true;\n",
       "          s.onload = () => {\n",
       "            VEGA_DEBUG[key] = version;\n",
       "            return resolve(paths[lib]);\n",
       "          };\n",
       "          s.onerror = () => reject(`Error loading script: ${paths[lib]}`);\n",
       "          s.src = paths[lib];\n",
       "        });\n",
       "    }\n",
       "\n",
       "    function showError(err) {\n",
       "      outputDiv.innerHTML = `<div class=\"error\" style=\"color:red;\">${err}</div>`;\n",
       "      throw err;\n",
       "    }\n",
       "\n",
       "    function displayChart(vegaEmbed) {\n",
       "      vegaEmbed(outputDiv, spec, embedOpt)\n",
       "        .catch(err => showError(`Javascript Error: ${err.message}<br>This usually means there's a typo in your chart specification. See the javascript console for the full traceback.`));\n",
       "    }\n",
       "\n",
       "    if(typeof define === \"function\" && define.amd) {\n",
       "      requirejs.config({paths});\n",
       "      require([\"vega-embed\"], displayChart, err => showError(`Error loading script: ${err.message}`));\n",
       "    } else {\n",
       "      maybeLoadScript(\"vega\", \"5\")\n",
       "        .then(() => maybeLoadScript(\"vega-lite\", \"4.17.0\"))\n",
       "        .then(() => maybeLoadScript(\"vega-embed\", \"6\"))\n",
       "        .catch(showError)\n",
       "        .then(() => displayChart(vegaEmbed));\n",
       "    }\n",
       "  })({\"config\": {\"view\": {\"continuousWidth\": 400, \"continuousHeight\": 300, \"stroke\": null}, \"facet\": {\"spacing\": 0}}, \"data\": {\"name\": \"data-0e7a3033d7f7abc7ce53c2c83f3b5354\"}, \"facet\": {\"column\": {\"field\": \"route_id\", \"sort\": [\"62\"], \"title\": \"Route ID\", \"type\": \"nominal\"}}, \"spec\": {\"layer\": [{\"mark\": \"rule\", \"encoding\": {\"color\": {\"value\": \"black\"}, \"y\": {\"field\": \"cutoff\", \"type\": \"quantitative\"}}, \"selection\": {\"selector001\": {\"type\": \"interval\", \"bind\": \"scales\", \"encodings\": [\"x\", \"y\"]}}}, {\"mark\": {\"type\": \"point\", \"opacity\": 0.65, \"size\": 12, \"strokeWidth\": 1.1}, \"encoding\": {\"color\": {\"field\": \"time_of_day\", \"scale\": {\"range\": [\"#136C97\", \"#E16B26\", \"#F6BF16\", \"#00896B\", \"#7790A3\", \"#5B559C\"]}, \"sort\": [\"AM Peak\", \"Midday\", \"PM Peak\", \"Owl Service\"], \"title\": \"Time of Day\", \"type\": \"nominal\"}, \"tooltip\": [{\"field\": \"route_id\", \"type\": \"nominal\"}, {\"field\": \"route_name\", \"type\": \"nominal\"}, {\"field\": \"trip_id\", \"type\": \"nominal\"}, {\"field\": \"service_hours\", \"type\": \"quantitative\"}, {\"field\": \"car_duration_hours\", \"type\": \"quantitative\"}, {\"field\": \"bus_multiplier\", \"type\": \"quantitative\"}, {\"field\": \"bus_difference\", \"type\": \"quantitative\"}, {\"field\": \"num_trips\", \"type\": \"quantitative\"}, {\"field\": \"num_competitive\", \"type\": \"quantitative\"}, {\"field\": \"pct_trips_competitive\", \"type\": \"quantitative\"}, {\"field\": \"p25\", \"type\": \"quantitative\"}, {\"field\": \"p50\", \"type\": \"quantitative\"}, {\"field\": \"p75\", \"type\": \"quantitative\"}], \"x\": {\"axis\": {\"grid\": false, \"labels\": false, \"ticks\": true, \"values\": [0]}, \"field\": \"jitter\", \"scale\": {}, \"title\": null, \"type\": \"quantitative\"}, \"y\": {\"field\": \"bus_multiplier\", \"scale\": {\"domain\": [-0.25, 3.0]}, \"title\": \"Ratio of Bus to Car Travel Time\", \"type\": \"quantitative\"}}, \"transform\": [{\"calculate\": \"sqrt(-2*log(random()))*cos(2*PI*random())\", \"as\": \"jitter\"}], \"width\": 50}, {\"layer\": [{\"mark\": {\"type\": \"point\", \"opacity\": 0.6, \"size\": 20, \"strokeWidth\": 1.3}, \"encoding\": {\"color\": {\"value\": \"#323434\"}, \"y\": {\"field\": \"bus_multiplier\", \"type\": \"quantitative\"}}, \"transform\": [{\"filter\": \"(datum.p50_trip === 1)\"}]}, {\"mark\": {\"type\": \"text\", \"align\": \"center\", \"baseline\": \"middle\"}, \"encoding\": {\"color\": {\"value\": \"black\"}, \"text\": {\"field\": \"pct_trips_competitive\", \"format\": \".0%\", \"type\": \"quantitative\"}, \"tooltip\": [{\"field\": \"route_id\", \"type\": \"nominal\"}, {\"field\": \"route_name\", \"type\": \"nominal\"}, {\"field\": \"trip_id\", \"type\": \"nominal\"}, {\"field\": \"service_hours\", \"type\": \"quantitative\"}, {\"field\": \"car_duration_hours\", \"type\": \"quantitative\"}, {\"field\": \"bus_multiplier\", \"type\": \"quantitative\"}, {\"field\": \"bus_difference\", \"type\": \"quantitative\"}, {\"field\": \"num_trips\", \"type\": \"quantitative\"}, {\"field\": \"num_competitive\", \"type\": \"quantitative\"}, {\"field\": \"pct_trips_competitive\", \"type\": \"quantitative\"}, {\"field\": \"p25\", \"type\": \"quantitative\"}, {\"field\": \"p50\", \"type\": \"quantitative\"}, {\"field\": \"p75\", \"type\": \"quantitative\"}], \"x\": {\"value\": 30}, \"y\": {\"value\": 15}}, \"transform\": [{\"calculate\": \"sqrt(-2*log(random()))*cos(2*PI*random())\", \"as\": \"jitter\"}, {\"filter\": \"(datum.fastest_trip === 1)\"}]}]}]}, \"resolve\": {\"scale\": {\"y\": \"shared\"}}, \"title\": \"Ratio of Bus to Car Travel Time\", \"$schema\": \"https://vega.github.io/schema/vega-lite/v4.17.0.json\", \"datasets\": {\"data-0e7a3033d7f7abc7ce53c2c83f3b5354\": [{\"calitp_itp_id\": 126, \"trip_key\": 5364581721970226587, \"trip_id\": \"1986\", \"shape_id\": \"56\", \"route_id\": \"62\", \"service_hours\": 0.92, \"trip_first_departure_ts\": 46800, \"trip_last_arrival_ts\": 50100, \"departure_hour\": 13, \"time_of_day\": \"Midday\", \"p25\": 0.92, \"p50\": 0.96, \"p75\": 1.08, \"p50_trip\": 1, \"fastest_trip\": 0, \"car_duration_hours\": 0.57, \"competitive_route\": 1, \"bus_multiplier\": 1.61, \"bus_difference\": 21.0, \"num_trips\": 24, \"num_competitive\": 24, \"pct_trips_competitive\": 1.0, \"bus_difference_spread\": 9.600000000000001, \"route_group\": \"medium\", \"max_trip_hrs\": 1.08, \"max_trip_route_group\": 1.08, \"below_cutoff\": 13, \"pct_below_cutoff\": 0.5416666666666666, \"name\": \"Golden Empire Transit District\", \"caltrans_district\": \"06 - Fresno\", \"drmt_organization_name\": null, \"route_name\": \"Akers Panama/Valley Plaza\", \"cutoff2\": 30, \"cutoff\": 2}, {\"calitp_itp_id\": 126, \"trip_key\": -8824272478545795224, \"trip_id\": \"1985\", \"shape_id\": \"56\", \"route_id\": \"62\", \"service_hours\": 0.92, \"trip_first_departure_ts\": 43200, \"trip_last_arrival_ts\": 46500, \"departure_hour\": 12, \"time_of_day\": \"Midday\", \"p25\": 0.92, \"p50\": 0.96, \"p75\": 1.08, \"p50_trip\": 1, \"fastest_trip\": 0, \"car_duration_hours\": 0.57, \"competitive_route\": 1, \"bus_multiplier\": 1.61, \"bus_difference\": 21.0, \"num_trips\": 24, \"num_competitive\": 24, \"pct_trips_competitive\": 1.0, \"bus_difference_spread\": 9.600000000000001, \"route_group\": \"medium\", \"max_trip_hrs\": 1.08, \"max_trip_route_group\": 1.08, \"below_cutoff\": 13, \"pct_below_cutoff\": 0.5416666666666666, \"name\": \"Golden Empire Transit District\", \"caltrans_district\": \"06 - Fresno\", \"drmt_organization_name\": null, \"route_name\": \"Akers Panama/Valley Plaza\", \"cutoff2\": 30, \"cutoff\": 2}, {\"calitp_itp_id\": 126, \"trip_key\": -5765002440222693223, \"trip_id\": \"1987\", \"shape_id\": \"56\", \"route_id\": \"62\", \"service_hours\": 0.92, \"trip_first_departure_ts\": 50400, \"trip_last_arrival_ts\": 53700, \"departure_hour\": 14, \"time_of_day\": \"Midday\", \"p25\": 0.92, \"p50\": 0.96, \"p75\": 1.08, \"p50_trip\": 1, \"fastest_trip\": 0, \"car_duration_hours\": 0.57, \"competitive_route\": 1, \"bus_multiplier\": 1.61, \"bus_difference\": 21.0, \"num_trips\": 24, \"num_competitive\": 24, \"pct_trips_competitive\": 1.0, \"bus_difference_spread\": 9.600000000000001, \"route_group\": \"medium\", \"max_trip_hrs\": 1.08, \"max_trip_route_group\": 1.08, \"below_cutoff\": 13, \"pct_below_cutoff\": 0.5416666666666666, \"name\": \"Golden Empire Transit District\", \"caltrans_district\": \"06 - Fresno\", \"drmt_organization_name\": null, \"route_name\": \"Akers Panama/Valley Plaza\", \"cutoff2\": 30, \"cutoff\": 2}, {\"calitp_itp_id\": 126, \"trip_key\": -4121532990600785286, \"trip_id\": \"1982\", \"shape_id\": \"56\", \"route_id\": \"62\", \"service_hours\": 0.92, \"trip_first_departure_ts\": 32400, \"trip_last_arrival_ts\": 35700, \"departure_hour\": 9, \"time_of_day\": \"AM Peak\", \"p25\": 0.92, \"p50\": 0.96, \"p75\": 1.08, \"p50_trip\": 1, \"fastest_trip\": 0, \"car_duration_hours\": 0.57, \"competitive_route\": 1, \"bus_multiplier\": 1.61, \"bus_difference\": 21.0, \"num_trips\": 24, \"num_competitive\": 24, \"pct_trips_competitive\": 1.0, \"bus_difference_spread\": 9.600000000000001, \"route_group\": \"medium\", \"max_trip_hrs\": 1.08, \"max_trip_route_group\": 1.08, \"below_cutoff\": 13, \"pct_below_cutoff\": 0.5416666666666666, \"name\": \"Golden Empire Transit District\", \"caltrans_district\": \"06 - Fresno\", \"drmt_organization_name\": null, \"route_name\": \"Akers Panama/Valley Plaza\", \"cutoff2\": 30, \"cutoff\": 2}, {\"calitp_itp_id\": 126, \"trip_key\": -8159425626889087600, \"trip_id\": \"1980\", \"shape_id\": \"56\", \"route_id\": \"62\", \"service_hours\": 0.92, \"trip_first_departure_ts\": 25200, \"trip_last_arrival_ts\": 28500, \"departure_hour\": 7, \"time_of_day\": \"AM Peak\", \"p25\": 0.92, \"p50\": 0.96, \"p75\": 1.08, \"p50_trip\": 1, \"fastest_trip\": 0, \"car_duration_hours\": 0.57, \"competitive_route\": 1, \"bus_multiplier\": 1.61, \"bus_difference\": 21.0, \"num_trips\": 24, \"num_competitive\": 24, \"pct_trips_competitive\": 1.0, \"bus_difference_spread\": 9.600000000000001, \"route_group\": \"medium\", \"max_trip_hrs\": 1.08, \"max_trip_route_group\": 1.08, \"below_cutoff\": 13, \"pct_below_cutoff\": 0.5416666666666666, \"name\": \"Golden Empire Transit District\", \"caltrans_district\": \"06 - Fresno\", \"drmt_organization_name\": null, \"route_name\": \"Akers Panama/Valley Plaza\", \"cutoff2\": 30, \"cutoff\": 2}, {\"calitp_itp_id\": 126, \"trip_key\": -857406301910668562, \"trip_id\": \"1981\", \"shape_id\": \"56\", \"route_id\": \"62\", \"service_hours\": 0.92, \"trip_first_departure_ts\": 28800, \"trip_last_arrival_ts\": 32100, \"departure_hour\": 8, \"time_of_day\": \"AM Peak\", \"p25\": 0.92, \"p50\": 0.96, \"p75\": 1.08, \"p50_trip\": 1, \"fastest_trip\": 0, \"car_duration_hours\": 0.57, \"competitive_route\": 1, \"bus_multiplier\": 1.61, \"bus_difference\": 21.0, \"num_trips\": 24, \"num_competitive\": 24, \"pct_trips_competitive\": 1.0, \"bus_difference_spread\": 9.600000000000001, \"route_group\": \"medium\", \"max_trip_hrs\": 1.08, \"max_trip_route_group\": 1.08, \"below_cutoff\": 13, \"pct_below_cutoff\": 0.5416666666666666, \"name\": \"Golden Empire Transit District\", \"caltrans_district\": \"06 - Fresno\", \"drmt_organization_name\": null, \"route_name\": \"Akers Panama/Valley Plaza\", \"cutoff2\": 30, \"cutoff\": 2}, {\"calitp_itp_id\": 126, \"trip_key\": -5968553136652973486, \"trip_id\": \"1984\", \"shape_id\": \"56\", \"route_id\": \"62\", \"service_hours\": 0.92, \"trip_first_departure_ts\": 39600, \"trip_last_arrival_ts\": 42900, \"departure_hour\": 11, \"time_of_day\": \"Midday\", \"p25\": 0.92, \"p50\": 0.96, \"p75\": 1.08, \"p50_trip\": 1, \"fastest_trip\": 0, \"car_duration_hours\": 0.57, \"competitive_route\": 1, \"bus_multiplier\": 1.61, \"bus_difference\": 21.0, \"num_trips\": 24, \"num_competitive\": 24, \"pct_trips_competitive\": 1.0, \"bus_difference_spread\": 9.600000000000001, \"route_group\": \"medium\", \"max_trip_hrs\": 1.08, \"max_trip_route_group\": 1.08, \"below_cutoff\": 13, \"pct_below_cutoff\": 0.5416666666666666, \"name\": \"Golden Empire Transit District\", \"caltrans_district\": \"06 - Fresno\", \"drmt_organization_name\": null, \"route_name\": \"Akers Panama/Valley Plaza\", \"cutoff2\": 30, \"cutoff\": 2}, {\"calitp_itp_id\": 126, \"trip_key\": 1525772625152661822, \"trip_id\": \"1988\", \"shape_id\": \"56\", \"route_id\": \"62\", \"service_hours\": 0.92, \"trip_first_departure_ts\": 54000, \"trip_last_arrival_ts\": 57300, \"departure_hour\": 15, \"time_of_day\": \"Midday\", \"p25\": 0.92, \"p50\": 0.96, \"p75\": 1.08, \"p50_trip\": 1, \"fastest_trip\": 0, \"car_duration_hours\": 0.57, \"competitive_route\": 1, \"bus_multiplier\": 1.61, \"bus_difference\": 21.0, \"num_trips\": 24, \"num_competitive\": 24, \"pct_trips_competitive\": 1.0, \"bus_difference_spread\": 9.600000000000001, \"route_group\": \"medium\", \"max_trip_hrs\": 1.08, \"max_trip_route_group\": 1.08, \"below_cutoff\": 13, \"pct_below_cutoff\": 0.5416666666666666, \"name\": \"Golden Empire Transit District\", \"caltrans_district\": \"06 - Fresno\", \"drmt_organization_name\": null, \"route_name\": \"Akers Panama/Valley Plaza\", \"cutoff2\": 30, \"cutoff\": 2}, {\"calitp_itp_id\": 126, \"trip_key\": 1784598322346742404, \"trip_id\": \"1991\", \"shape_id\": \"56\", \"route_id\": \"62\", \"service_hours\": 0.92, \"trip_first_departure_ts\": 64800, \"trip_last_arrival_ts\": 68100, \"departure_hour\": 18, \"time_of_day\": \"PM Peak\", \"p25\": 0.92, \"p50\": 0.96, \"p75\": 1.08, \"p50_trip\": 1, \"fastest_trip\": 1, \"car_duration_hours\": 0.57, \"competitive_route\": 1, \"bus_multiplier\": 1.61, \"bus_difference\": 21.0, \"num_trips\": 24, \"num_competitive\": 24, \"pct_trips_competitive\": 1.0, \"bus_difference_spread\": 9.600000000000001, \"route_group\": \"medium\", \"max_trip_hrs\": 1.08, \"max_trip_route_group\": 1.08, \"below_cutoff\": 13, \"pct_below_cutoff\": 0.5416666666666666, \"name\": \"Golden Empire Transit District\", \"caltrans_district\": \"06 - Fresno\", \"drmt_organization_name\": null, \"route_name\": \"Akers Panama/Valley Plaza\", \"cutoff2\": 30, \"cutoff\": 2}, {\"calitp_itp_id\": 126, \"trip_key\": 8037778639050624470, \"trip_id\": \"1989\", \"shape_id\": \"56\", \"route_id\": \"62\", \"service_hours\": 0.92, \"trip_first_departure_ts\": 57600, \"trip_last_arrival_ts\": 60900, \"departure_hour\": 16, \"time_of_day\": \"Midday\", \"p25\": 0.92, \"p50\": 0.96, \"p75\": 1.08, \"p50_trip\": 1, \"fastest_trip\": 0, \"car_duration_hours\": 0.57, \"competitive_route\": 1, \"bus_multiplier\": 1.61, \"bus_difference\": 21.0, \"num_trips\": 24, \"num_competitive\": 24, \"pct_trips_competitive\": 1.0, \"bus_difference_spread\": 9.600000000000001, \"route_group\": \"medium\", \"max_trip_hrs\": 1.08, \"max_trip_route_group\": 1.08, \"below_cutoff\": 13, \"pct_below_cutoff\": 0.5416666666666666, \"name\": \"Golden Empire Transit District\", \"caltrans_district\": \"06 - Fresno\", \"drmt_organization_name\": null, \"route_name\": \"Akers Panama/Valley Plaza\", \"cutoff2\": 30, \"cutoff\": 2}, {\"calitp_itp_id\": 126, \"trip_key\": 1734782686471856502, \"trip_id\": \"1990\", \"shape_id\": \"56\", \"route_id\": \"62\", \"service_hours\": 0.92, \"trip_first_departure_ts\": 61200, \"trip_last_arrival_ts\": 64500, \"departure_hour\": 17, \"time_of_day\": \"PM Peak\", \"p25\": 0.92, \"p50\": 0.96, \"p75\": 1.08, \"p50_trip\": 1, \"fastest_trip\": 0, \"car_duration_hours\": 0.57, \"competitive_route\": 1, \"bus_multiplier\": 1.61, \"bus_difference\": 21.0, \"num_trips\": 24, \"num_competitive\": 24, \"pct_trips_competitive\": 1.0, \"bus_difference_spread\": 9.600000000000001, \"route_group\": \"medium\", \"max_trip_hrs\": 1.08, \"max_trip_route_group\": 1.08, \"below_cutoff\": 13, \"pct_below_cutoff\": 0.5416666666666666, \"name\": \"Golden Empire Transit District\", \"caltrans_district\": \"06 - Fresno\", \"drmt_organization_name\": null, \"route_name\": \"Akers Panama/Valley Plaza\", \"cutoff2\": 30, \"cutoff\": 2}, {\"calitp_itp_id\": 126, \"trip_key\": -1624281882188341956, \"trip_id\": \"1983\", \"shape_id\": \"56\", \"route_id\": \"62\", \"service_hours\": 0.92, \"trip_first_departure_ts\": 36000, \"trip_last_arrival_ts\": 39300, \"departure_hour\": 10, \"time_of_day\": \"Midday\", \"p25\": 0.92, \"p50\": 0.96, \"p75\": 1.08, \"p50_trip\": 1, \"fastest_trip\": 0, \"car_duration_hours\": 0.57, \"competitive_route\": 1, \"bus_multiplier\": 1.61, \"bus_difference\": 21.0, \"num_trips\": 24, \"num_competitive\": 24, \"pct_trips_competitive\": 1.0, \"bus_difference_spread\": 9.600000000000001, \"route_group\": \"medium\", \"max_trip_hrs\": 1.08, \"max_trip_route_group\": 1.08, \"below_cutoff\": 13, \"pct_below_cutoff\": 0.5416666666666666, \"name\": \"Golden Empire Transit District\", \"caltrans_district\": \"06 - Fresno\", \"drmt_organization_name\": null, \"route_name\": \"Akers Panama/Valley Plaza\", \"cutoff2\": 30, \"cutoff\": 2}, {\"calitp_itp_id\": 126, \"trip_key\": 8857494238630096522, \"trip_id\": \"1979\", \"shape_id\": \"45\", \"route_id\": \"62\", \"service_hours\": 1.0, \"trip_first_departure_ts\": 64500, \"trip_last_arrival_ts\": 68100, \"departure_hour\": 17, \"time_of_day\": \"PM Peak\", \"p25\": 0.92, \"p50\": 0.96, \"p75\": 1.08, \"p50_trip\": 0, \"fastest_trip\": 0, \"car_duration_hours\": 0.57, \"competitive_route\": 1, \"bus_multiplier\": 1.75, \"bus_difference\": 25.8, \"num_trips\": 24, \"num_competitive\": 24, \"pct_trips_competitive\": 1.0, \"bus_difference_spread\": 9.600000000000001, \"route_group\": \"medium\", \"max_trip_hrs\": 1.08, \"max_trip_route_group\": 1.08, \"below_cutoff\": 13, \"pct_below_cutoff\": 0.5416666666666666, \"name\": \"Golden Empire Transit District\", \"caltrans_district\": \"06 - Fresno\", \"drmt_organization_name\": null, \"route_name\": \"Akers Panama/Valley Plaza\", \"cutoff2\": 30, \"cutoff\": 2}, {\"calitp_itp_id\": 126, \"trip_key\": 4254431478989959981, \"trip_id\": \"1971\", \"shape_id\": \"45\", \"route_id\": \"62\", \"service_hours\": 1.08, \"trip_first_departure_ts\": 32100, \"trip_last_arrival_ts\": 36000, \"departure_hour\": 8, \"time_of_day\": \"AM Peak\", \"p25\": 0.92, \"p50\": 0.96, \"p75\": 1.08, \"p50_trip\": 0, \"fastest_trip\": 0, \"car_duration_hours\": 0.57, \"competitive_route\": 1, \"bus_multiplier\": 1.89, \"bus_difference\": 30.6, \"num_trips\": 24, \"num_competitive\": 24, \"pct_trips_competitive\": 1.0, \"bus_difference_spread\": 9.600000000000001, \"route_group\": \"medium\", \"max_trip_hrs\": 1.08, \"max_trip_route_group\": 1.08, \"below_cutoff\": 13, \"pct_below_cutoff\": 0.5416666666666666, \"name\": \"Golden Empire Transit District\", \"caltrans_district\": \"06 - Fresno\", \"drmt_organization_name\": null, \"route_name\": \"Akers Panama/Valley Plaza\", \"cutoff2\": 30, \"cutoff\": 2}, {\"calitp_itp_id\": 126, \"trip_key\": 7562056509314122037, \"trip_id\": \"1973\", \"shape_id\": \"45\", \"route_id\": \"62\", \"service_hours\": 1.08, \"trip_first_departure_ts\": 39300, \"trip_last_arrival_ts\": 43200, \"departure_hour\": 10, \"time_of_day\": \"Midday\", \"p25\": 0.92, \"p50\": 0.96, \"p75\": 1.08, \"p50_trip\": 0, \"fastest_trip\": 0, \"car_duration_hours\": 0.57, \"competitive_route\": 1, \"bus_multiplier\": 1.89, \"bus_difference\": 30.6, \"num_trips\": 24, \"num_competitive\": 24, \"pct_trips_competitive\": 1.0, \"bus_difference_spread\": 9.600000000000001, \"route_group\": \"medium\", \"max_trip_hrs\": 1.08, \"max_trip_route_group\": 1.08, \"below_cutoff\": 13, \"pct_below_cutoff\": 0.5416666666666666, \"name\": \"Golden Empire Transit District\", \"caltrans_district\": \"06 - Fresno\", \"drmt_organization_name\": null, \"route_name\": \"Akers Panama/Valley Plaza\", \"cutoff2\": 30, \"cutoff\": 2}, {\"calitp_itp_id\": 126, \"trip_key\": -1174315029956827544, \"trip_id\": \"1977\", \"shape_id\": \"45\", \"route_id\": \"62\", \"service_hours\": 1.08, \"trip_first_departure_ts\": 57300, \"trip_last_arrival_ts\": 61200, \"departure_hour\": 15, \"time_of_day\": \"Midday\", \"p25\": 0.92, \"p50\": 0.96, \"p75\": 1.08, \"p50_trip\": 0, \"fastest_trip\": 0, \"car_duration_hours\": 0.57, \"competitive_route\": 1, \"bus_multiplier\": 1.89, \"bus_difference\": 30.6, \"num_trips\": 24, \"num_competitive\": 24, \"pct_trips_competitive\": 1.0, \"bus_difference_spread\": 9.600000000000001, \"route_group\": \"medium\", \"max_trip_hrs\": 1.08, \"max_trip_route_group\": 1.08, \"below_cutoff\": 13, \"pct_below_cutoff\": 0.5416666666666666, \"name\": \"Golden Empire Transit District\", \"caltrans_district\": \"06 - Fresno\", \"drmt_organization_name\": null, \"route_name\": \"Akers Panama/Valley Plaza\", \"cutoff2\": 30, \"cutoff\": 2}, {\"calitp_itp_id\": 126, \"trip_key\": -7913144978631141880, \"trip_id\": \"1969\", \"shape_id\": \"45\", \"route_id\": \"62\", \"service_hours\": 1.08, \"trip_first_departure_ts\": 24900, \"trip_last_arrival_ts\": 28800, \"departure_hour\": 6, \"time_of_day\": \"Owl Service\", \"p25\": 0.92, \"p50\": 0.96, \"p75\": 1.08, \"p50_trip\": 0, \"fastest_trip\": 0, \"car_duration_hours\": 0.57, \"competitive_route\": 1, \"bus_multiplier\": 1.89, \"bus_difference\": 30.6, \"num_trips\": 24, \"num_competitive\": 24, \"pct_trips_competitive\": 1.0, \"bus_difference_spread\": 9.600000000000001, \"route_group\": \"medium\", \"max_trip_hrs\": 1.08, \"max_trip_route_group\": 1.08, \"below_cutoff\": 13, \"pct_below_cutoff\": 0.5416666666666666, \"name\": \"Golden Empire Transit District\", \"caltrans_district\": \"06 - Fresno\", \"drmt_organization_name\": null, \"route_name\": \"Akers Panama/Valley Plaza\", \"cutoff2\": 30, \"cutoff\": 2}, {\"calitp_itp_id\": 126, \"trip_key\": -6764356430060964619, \"trip_id\": \"1519\", \"shape_id\": \"45\", \"route_id\": \"62\", \"service_hours\": 1.08, \"trip_first_departure_ts\": 42900, \"trip_last_arrival_ts\": 46800, \"departure_hour\": 11, \"time_of_day\": \"Midday\", \"p25\": 0.92, \"p50\": 0.96, \"p75\": 1.08, \"p50_trip\": 0, \"fastest_trip\": 0, \"car_duration_hours\": 0.57, \"competitive_route\": 1, \"bus_multiplier\": 1.89, \"bus_difference\": 30.6, \"num_trips\": 24, \"num_competitive\": 24, \"pct_trips_competitive\": 1.0, \"bus_difference_spread\": 9.600000000000001, \"route_group\": \"medium\", \"max_trip_hrs\": 1.08, \"max_trip_route_group\": 1.08, \"below_cutoff\": 13, \"pct_below_cutoff\": 0.5416666666666666, \"name\": \"Golden Empire Transit District\", \"caltrans_district\": \"06 - Fresno\", \"drmt_organization_name\": null, \"route_name\": \"Akers Panama/Valley Plaza\", \"cutoff2\": 30, \"cutoff\": 2}, {\"calitp_itp_id\": 126, \"trip_key\": -2734724785490573929, \"trip_id\": \"1974\", \"shape_id\": \"45\", \"route_id\": \"62\", \"service_hours\": 1.08, \"trip_first_departure_ts\": 46500, \"trip_last_arrival_ts\": 50400, \"departure_hour\": 12, \"time_of_day\": \"Midday\", \"p25\": 0.92, \"p50\": 0.96, \"p75\": 1.08, \"p50_trip\": 0, \"fastest_trip\": 0, \"car_duration_hours\": 0.57, \"competitive_route\": 1, \"bus_multiplier\": 1.89, \"bus_difference\": 30.6, \"num_trips\": 24, \"num_competitive\": 24, \"pct_trips_competitive\": 1.0, \"bus_difference_spread\": 9.600000000000001, \"route_group\": \"medium\", \"max_trip_hrs\": 1.08, \"max_trip_route_group\": 1.08, \"below_cutoff\": 13, \"pct_below_cutoff\": 0.5416666666666666, \"name\": \"Golden Empire Transit District\", \"caltrans_district\": \"06 - Fresno\", \"drmt_organization_name\": null, \"route_name\": \"Akers Panama/Valley Plaza\", \"cutoff2\": 30, \"cutoff\": 2}, {\"calitp_itp_id\": 126, \"trip_key\": 6693152542659667484, \"trip_id\": \"1978\", \"shape_id\": \"45\", \"route_id\": \"62\", \"service_hours\": 1.08, \"trip_first_departure_ts\": 60900, \"trip_last_arrival_ts\": 64800, \"departure_hour\": 16, \"time_of_day\": \"Midday\", \"p25\": 0.92, \"p50\": 0.96, \"p75\": 1.08, \"p50_trip\": 0, \"fastest_trip\": 0, \"car_duration_hours\": 0.57, \"competitive_route\": 1, \"bus_multiplier\": 1.89, \"bus_difference\": 30.6, \"num_trips\": 24, \"num_competitive\": 24, \"pct_trips_competitive\": 1.0, \"bus_difference_spread\": 9.600000000000001, \"route_group\": \"medium\", \"max_trip_hrs\": 1.08, \"max_trip_route_group\": 1.08, \"below_cutoff\": 13, \"pct_below_cutoff\": 0.5416666666666666, \"name\": \"Golden Empire Transit District\", \"caltrans_district\": \"06 - Fresno\", \"drmt_organization_name\": null, \"route_name\": \"Akers Panama/Valley Plaza\", \"cutoff2\": 30, \"cutoff\": 2}, {\"calitp_itp_id\": 126, \"trip_key\": -7900873824646436253, \"trip_id\": \"1975\", \"shape_id\": \"45\", \"route_id\": \"62\", \"service_hours\": 1.08, \"trip_first_departure_ts\": 50100, \"trip_last_arrival_ts\": 54000, \"departure_hour\": 13, \"time_of_day\": \"Midday\", \"p25\": 0.92, \"p50\": 0.96, \"p75\": 1.08, \"p50_trip\": 0, \"fastest_trip\": 0, \"car_duration_hours\": 0.57, \"competitive_route\": 1, \"bus_multiplier\": 1.89, \"bus_difference\": 30.6, \"num_trips\": 24, \"num_competitive\": 24, \"pct_trips_competitive\": 1.0, \"bus_difference_spread\": 9.600000000000001, \"route_group\": \"medium\", \"max_trip_hrs\": 1.08, \"max_trip_route_group\": 1.08, \"below_cutoff\": 13, \"pct_below_cutoff\": 0.5416666666666666, \"name\": \"Golden Empire Transit District\", \"caltrans_district\": \"06 - Fresno\", \"drmt_organization_name\": null, \"route_name\": \"Akers Panama/Valley Plaza\", \"cutoff2\": 30, \"cutoff\": 2}, {\"calitp_itp_id\": 126, \"trip_key\": 4939210400697649146, \"trip_id\": \"1970\", \"shape_id\": \"45\", \"route_id\": \"62\", \"service_hours\": 1.08, \"trip_first_departure_ts\": 28500, \"trip_last_arrival_ts\": 32400, \"departure_hour\": 7, \"time_of_day\": \"AM Peak\", \"p25\": 0.92, \"p50\": 0.96, \"p75\": 1.08, \"p50_trip\": 0, \"fastest_trip\": 0, \"car_duration_hours\": 0.57, \"competitive_route\": 1, \"bus_multiplier\": 1.89, \"bus_difference\": 30.6, \"num_trips\": 24, \"num_competitive\": 24, \"pct_trips_competitive\": 1.0, \"bus_difference_spread\": 9.600000000000001, \"route_group\": \"medium\", \"max_trip_hrs\": 1.08, \"max_trip_route_group\": 1.08, \"below_cutoff\": 13, \"pct_below_cutoff\": 0.5416666666666666, \"name\": \"Golden Empire Transit District\", \"caltrans_district\": \"06 - Fresno\", \"drmt_organization_name\": null, \"route_name\": \"Akers Panama/Valley Plaza\", \"cutoff2\": 30, \"cutoff\": 2}, {\"calitp_itp_id\": 126, \"trip_key\": -839532200645589971, \"trip_id\": \"1972\", \"shape_id\": \"45\", \"route_id\": \"62\", \"service_hours\": 1.08, \"trip_first_departure_ts\": 35700, \"trip_last_arrival_ts\": 39600, \"departure_hour\": 9, \"time_of_day\": \"AM Peak\", \"p25\": 0.92, \"p50\": 0.96, \"p75\": 1.08, \"p50_trip\": 0, \"fastest_trip\": 0, \"car_duration_hours\": 0.57, \"competitive_route\": 1, \"bus_multiplier\": 1.89, \"bus_difference\": 30.6, \"num_trips\": 24, \"num_competitive\": 24, \"pct_trips_competitive\": 1.0, \"bus_difference_spread\": 9.600000000000001, \"route_group\": \"medium\", \"max_trip_hrs\": 1.08, \"max_trip_route_group\": 1.08, \"below_cutoff\": 13, \"pct_below_cutoff\": 0.5416666666666666, \"name\": \"Golden Empire Transit District\", \"caltrans_district\": \"06 - Fresno\", \"drmt_organization_name\": null, \"route_name\": \"Akers Panama/Valley Plaza\", \"cutoff2\": 30, \"cutoff\": 2}, {\"calitp_itp_id\": 126, \"trip_key\": -8417468646573950502, \"trip_id\": \"1976\", \"shape_id\": \"45\", \"route_id\": \"62\", \"service_hours\": 1.08, \"trip_first_departure_ts\": 53700, \"trip_last_arrival_ts\": 57600, \"departure_hour\": 14, \"time_of_day\": \"Midday\", \"p25\": 0.92, \"p50\": 0.96, \"p75\": 1.08, \"p50_trip\": 0, \"fastest_trip\": 0, \"car_duration_hours\": 0.57, \"competitive_route\": 1, \"bus_multiplier\": 1.89, \"bus_difference\": 30.6, \"num_trips\": 24, \"num_competitive\": 24, \"pct_trips_competitive\": 1.0, \"bus_difference_spread\": 9.600000000000001, \"route_group\": \"medium\", \"max_trip_hrs\": 1.08, \"max_trip_route_group\": 1.08, \"below_cutoff\": 13, \"pct_below_cutoff\": 0.5416666666666666, \"name\": \"Golden Empire Transit District\", \"caltrans_district\": \"06 - Fresno\", \"drmt_organization_name\": null, \"route_name\": \"Akers Panama/Valley Plaza\", \"cutoff2\": 30, \"cutoff\": 2}]}}, {\"mode\": \"vega-lite\"});\n",
       "</script>"
      ],
      "text/plain": [
       "alt.FacetChart(...)"
      ]
     },
     "metadata": {},
     "output_type": "display_data"
    },
    {
     "data": {
      "text/html": [
       "\n",
       "<div id=\"altair-viz-e5b5eb16c55a4e35b15759fe51508aa2\"></div>\n",
       "<script type=\"text/javascript\">\n",
       "  var VEGA_DEBUG = (typeof VEGA_DEBUG == \"undefined\") ? {} : VEGA_DEBUG;\n",
       "  (function(spec, embedOpt){\n",
       "    let outputDiv = document.currentScript.previousElementSibling;\n",
       "    if (outputDiv.id !== \"altair-viz-e5b5eb16c55a4e35b15759fe51508aa2\") {\n",
       "      outputDiv = document.getElementById(\"altair-viz-e5b5eb16c55a4e35b15759fe51508aa2\");\n",
       "    }\n",
       "    const paths = {\n",
       "      \"vega\": \"https://cdn.jsdelivr.net/npm//vega@5?noext\",\n",
       "      \"vega-lib\": \"https://cdn.jsdelivr.net/npm//vega-lib?noext\",\n",
       "      \"vega-lite\": \"https://cdn.jsdelivr.net/npm//vega-lite@4.17.0?noext\",\n",
       "      \"vega-embed\": \"https://cdn.jsdelivr.net/npm//vega-embed@6?noext\",\n",
       "    };\n",
       "\n",
       "    function maybeLoadScript(lib, version) {\n",
       "      var key = `${lib.replace(\"-\", \"\")}_version`;\n",
       "      return (VEGA_DEBUG[key] == version) ?\n",
       "        Promise.resolve(paths[lib]) :\n",
       "        new Promise(function(resolve, reject) {\n",
       "          var s = document.createElement('script');\n",
       "          document.getElementsByTagName(\"head\")[0].appendChild(s);\n",
       "          s.async = true;\n",
       "          s.onload = () => {\n",
       "            VEGA_DEBUG[key] = version;\n",
       "            return resolve(paths[lib]);\n",
       "          };\n",
       "          s.onerror = () => reject(`Error loading script: ${paths[lib]}`);\n",
       "          s.src = paths[lib];\n",
       "        });\n",
       "    }\n",
       "\n",
       "    function showError(err) {\n",
       "      outputDiv.innerHTML = `<div class=\"error\" style=\"color:red;\">${err}</div>`;\n",
       "      throw err;\n",
       "    }\n",
       "\n",
       "    function displayChart(vegaEmbed) {\n",
       "      vegaEmbed(outputDiv, spec, embedOpt)\n",
       "        .catch(err => showError(`Javascript Error: ${err.message}<br>This usually means there's a typo in your chart specification. See the javascript console for the full traceback.`));\n",
       "    }\n",
       "\n",
       "    if(typeof define === \"function\" && define.amd) {\n",
       "      requirejs.config({paths});\n",
       "      require([\"vega-embed\"], displayChart, err => showError(`Error loading script: ${err.message}`));\n",
       "    } else {\n",
       "      maybeLoadScript(\"vega\", \"5\")\n",
       "        .then(() => maybeLoadScript(\"vega-lite\", \"4.17.0\"))\n",
       "        .then(() => maybeLoadScript(\"vega-embed\", \"6\"))\n",
       "        .catch(showError)\n",
       "        .then(() => displayChart(vegaEmbed));\n",
       "    }\n",
       "  })({\"config\": {\"view\": {\"continuousWidth\": 400, \"continuousHeight\": 300, \"stroke\": null}, \"facet\": {\"spacing\": 0}}, \"data\": {\"name\": \"data-486b23d492fffa2f5021d78682257394\"}, \"facet\": {\"column\": {\"field\": \"route_id\", \"sort\": [\"62\"], \"title\": \"Route ID\", \"type\": \"nominal\"}}, \"spec\": {\"layer\": [{\"mark\": \"rule\", \"encoding\": {\"color\": {\"value\": \"black\"}, \"y\": {\"field\": \"cutoff\", \"type\": \"quantitative\"}}, \"selection\": {\"selector002\": {\"type\": \"interval\", \"bind\": \"scales\", \"encodings\": [\"x\", \"y\"]}}}, {\"mark\": {\"type\": \"rule\", \"strokeDash\": [3, 3]}, \"encoding\": {\"color\": {\"value\": \"#323434\"}, \"y\": {\"field\": \"cutoff2\", \"type\": \"quantitative\"}}}, {\"mark\": {\"type\": \"point\", \"opacity\": 0.65, \"size\": 12, \"strokeWidth\": 1.1}, \"encoding\": {\"color\": {\"field\": \"time_of_day\", \"scale\": {\"range\": [\"#136C97\", \"#E16B26\", \"#F6BF16\", \"#00896B\", \"#7790A3\", \"#5B559C\"]}, \"sort\": [\"AM Peak\", \"Midday\", \"PM Peak\", \"Owl Service\"], \"title\": \"Time of Day\", \"type\": \"nominal\"}, \"tooltip\": [{\"field\": \"route_id\", \"type\": \"nominal\"}, {\"field\": \"route_name\", \"type\": \"nominal\"}, {\"field\": \"trip_id\", \"type\": \"nominal\"}, {\"field\": \"service_hours\", \"type\": \"quantitative\"}, {\"field\": \"car_duration_hours\", \"type\": \"quantitative\"}, {\"field\": \"bus_multiplier\", \"type\": \"quantitative\"}, {\"field\": \"bus_difference\", \"type\": \"quantitative\"}, {\"field\": \"num_trips\", \"type\": \"quantitative\"}, {\"field\": \"num_competitive\", \"type\": \"quantitative\"}, {\"field\": \"pct_trips_competitive\", \"type\": \"quantitative\"}, {\"field\": \"p25\", \"type\": \"quantitative\"}, {\"field\": \"p50\", \"type\": \"quantitative\"}, {\"field\": \"p75\", \"type\": \"quantitative\"}], \"x\": {\"axis\": {\"grid\": false, \"labels\": false, \"ticks\": true, \"values\": [0]}, \"field\": \"jitter\", \"scale\": {}, \"title\": null, \"type\": \"quantitative\"}, \"y\": {\"field\": \"bus_difference\", \"scale\": {\"domain\": [-5, 45.0]}, \"title\": \"Difference in Bus to Car Travel Time (min)\", \"type\": \"quantitative\"}}, \"transform\": [{\"calculate\": \"sqrt(-2*log(random()))*cos(2*PI*random())\", \"as\": \"jitter\"}], \"width\": 50}, {\"layer\": [{\"mark\": {\"type\": \"point\", \"opacity\": 0.6, \"size\": 20, \"strokeWidth\": 1.3}, \"encoding\": {\"color\": {\"value\": \"#323434\"}, \"y\": {\"field\": \"bus_difference\", \"type\": \"quantitative\"}}, \"transform\": [{\"filter\": \"(datum.p50_trip === 1)\"}]}, {\"mark\": {\"type\": \"text\", \"align\": \"center\", \"baseline\": \"middle\"}, \"encoding\": {\"color\": {\"value\": \"black\"}, \"text\": {\"field\": \"pct_trips_competitive\", \"format\": \".0%\", \"type\": \"quantitative\"}, \"tooltip\": [{\"field\": \"route_id\", \"type\": \"nominal\"}, {\"field\": \"route_name\", \"type\": \"nominal\"}, {\"field\": \"trip_id\", \"type\": \"nominal\"}, {\"field\": \"service_hours\", \"type\": \"quantitative\"}, {\"field\": \"car_duration_hours\", \"type\": \"quantitative\"}, {\"field\": \"bus_multiplier\", \"type\": \"quantitative\"}, {\"field\": \"bus_difference\", \"type\": \"quantitative\"}, {\"field\": \"num_trips\", \"type\": \"quantitative\"}, {\"field\": \"num_competitive\", \"type\": \"quantitative\"}, {\"field\": \"pct_trips_competitive\", \"type\": \"quantitative\"}, {\"field\": \"p25\", \"type\": \"quantitative\"}, {\"field\": \"p50\", \"type\": \"quantitative\"}, {\"field\": \"p75\", \"type\": \"quantitative\"}], \"x\": {\"value\": 30}, \"y\": {\"value\": 15}}, \"transform\": [{\"calculate\": \"sqrt(-2*log(random()))*cos(2*PI*random())\", \"as\": \"jitter\"}, {\"filter\": \"(datum.fastest_trip === 1)\"}]}]}]}, \"resolve\": {\"scale\": {\"y\": \"shared\"}}, \"title\": \"Difference in Bus to Car Travel Time (min)\", \"$schema\": \"https://vega.github.io/schema/vega-lite/v4.17.0.json\", \"datasets\": {\"data-486b23d492fffa2f5021d78682257394\": [{\"calitp_itp_id\": 126, \"trip_key\": 5364581721970226587, \"trip_id\": \"1986\", \"shape_id\": \"56\", \"route_id\": \"62\", \"service_hours\": 0.92, \"trip_first_departure_ts\": 46800, \"trip_last_arrival_ts\": 50100, \"departure_hour\": 13, \"time_of_day\": \"Midday\", \"p25\": 0.92, \"p50\": 0.96, \"p75\": 1.08, \"p50_trip\": 1, \"fastest_trip\": 0, \"car_duration_hours\": 0.57, \"competitive_route\": 1, \"bus_multiplier\": 1.61, \"bus_difference\": 21.0, \"num_trips\": 24, \"num_competitive\": 24, \"pct_trips_competitive\": 1.0, \"bus_difference_spread\": 9.600000000000001, \"route_group\": \"medium\", \"max_trip_hrs\": 1.08, \"max_trip_route_group\": 1.08, \"below_cutoff\": 13, \"pct_below_cutoff\": 0.5416666666666666, \"name\": \"Golden Empire Transit District\", \"caltrans_district\": \"06 - Fresno\", \"drmt_organization_name\": null, \"route_name\": \"Akers Panama/Valley Plaza\", \"cutoff2\": 30, \"cutoff\": 0}, {\"calitp_itp_id\": 126, \"trip_key\": -8824272478545795224, \"trip_id\": \"1985\", \"shape_id\": \"56\", \"route_id\": \"62\", \"service_hours\": 0.92, \"trip_first_departure_ts\": 43200, \"trip_last_arrival_ts\": 46500, \"departure_hour\": 12, \"time_of_day\": \"Midday\", \"p25\": 0.92, \"p50\": 0.96, \"p75\": 1.08, \"p50_trip\": 1, \"fastest_trip\": 0, \"car_duration_hours\": 0.57, \"competitive_route\": 1, \"bus_multiplier\": 1.61, \"bus_difference\": 21.0, \"num_trips\": 24, \"num_competitive\": 24, \"pct_trips_competitive\": 1.0, \"bus_difference_spread\": 9.600000000000001, \"route_group\": \"medium\", \"max_trip_hrs\": 1.08, \"max_trip_route_group\": 1.08, \"below_cutoff\": 13, \"pct_below_cutoff\": 0.5416666666666666, \"name\": \"Golden Empire Transit District\", \"caltrans_district\": \"06 - Fresno\", \"drmt_organization_name\": null, \"route_name\": \"Akers Panama/Valley Plaza\", \"cutoff2\": 30, \"cutoff\": 0}, {\"calitp_itp_id\": 126, \"trip_key\": -5765002440222693223, \"trip_id\": \"1987\", \"shape_id\": \"56\", \"route_id\": \"62\", \"service_hours\": 0.92, \"trip_first_departure_ts\": 50400, \"trip_last_arrival_ts\": 53700, \"departure_hour\": 14, \"time_of_day\": \"Midday\", \"p25\": 0.92, \"p50\": 0.96, \"p75\": 1.08, \"p50_trip\": 1, \"fastest_trip\": 0, \"car_duration_hours\": 0.57, \"competitive_route\": 1, \"bus_multiplier\": 1.61, \"bus_difference\": 21.0, \"num_trips\": 24, \"num_competitive\": 24, \"pct_trips_competitive\": 1.0, \"bus_difference_spread\": 9.600000000000001, \"route_group\": \"medium\", \"max_trip_hrs\": 1.08, \"max_trip_route_group\": 1.08, \"below_cutoff\": 13, \"pct_below_cutoff\": 0.5416666666666666, \"name\": \"Golden Empire Transit District\", \"caltrans_district\": \"06 - Fresno\", \"drmt_organization_name\": null, \"route_name\": \"Akers Panama/Valley Plaza\", \"cutoff2\": 30, \"cutoff\": 0}, {\"calitp_itp_id\": 126, \"trip_key\": -4121532990600785286, \"trip_id\": \"1982\", \"shape_id\": \"56\", \"route_id\": \"62\", \"service_hours\": 0.92, \"trip_first_departure_ts\": 32400, \"trip_last_arrival_ts\": 35700, \"departure_hour\": 9, \"time_of_day\": \"AM Peak\", \"p25\": 0.92, \"p50\": 0.96, \"p75\": 1.08, \"p50_trip\": 1, \"fastest_trip\": 0, \"car_duration_hours\": 0.57, \"competitive_route\": 1, \"bus_multiplier\": 1.61, \"bus_difference\": 21.0, \"num_trips\": 24, \"num_competitive\": 24, \"pct_trips_competitive\": 1.0, \"bus_difference_spread\": 9.600000000000001, \"route_group\": \"medium\", \"max_trip_hrs\": 1.08, \"max_trip_route_group\": 1.08, \"below_cutoff\": 13, \"pct_below_cutoff\": 0.5416666666666666, \"name\": \"Golden Empire Transit District\", \"caltrans_district\": \"06 - Fresno\", \"drmt_organization_name\": null, \"route_name\": \"Akers Panama/Valley Plaza\", \"cutoff2\": 30, \"cutoff\": 0}, {\"calitp_itp_id\": 126, \"trip_key\": -8159425626889087600, \"trip_id\": \"1980\", \"shape_id\": \"56\", \"route_id\": \"62\", \"service_hours\": 0.92, \"trip_first_departure_ts\": 25200, \"trip_last_arrival_ts\": 28500, \"departure_hour\": 7, \"time_of_day\": \"AM Peak\", \"p25\": 0.92, \"p50\": 0.96, \"p75\": 1.08, \"p50_trip\": 1, \"fastest_trip\": 0, \"car_duration_hours\": 0.57, \"competitive_route\": 1, \"bus_multiplier\": 1.61, \"bus_difference\": 21.0, \"num_trips\": 24, \"num_competitive\": 24, \"pct_trips_competitive\": 1.0, \"bus_difference_spread\": 9.600000000000001, \"route_group\": \"medium\", \"max_trip_hrs\": 1.08, \"max_trip_route_group\": 1.08, \"below_cutoff\": 13, \"pct_below_cutoff\": 0.5416666666666666, \"name\": \"Golden Empire Transit District\", \"caltrans_district\": \"06 - Fresno\", \"drmt_organization_name\": null, \"route_name\": \"Akers Panama/Valley Plaza\", \"cutoff2\": 30, \"cutoff\": 0}, {\"calitp_itp_id\": 126, \"trip_key\": -857406301910668562, \"trip_id\": \"1981\", \"shape_id\": \"56\", \"route_id\": \"62\", \"service_hours\": 0.92, \"trip_first_departure_ts\": 28800, \"trip_last_arrival_ts\": 32100, \"departure_hour\": 8, \"time_of_day\": \"AM Peak\", \"p25\": 0.92, \"p50\": 0.96, \"p75\": 1.08, \"p50_trip\": 1, \"fastest_trip\": 0, \"car_duration_hours\": 0.57, \"competitive_route\": 1, \"bus_multiplier\": 1.61, \"bus_difference\": 21.0, \"num_trips\": 24, \"num_competitive\": 24, \"pct_trips_competitive\": 1.0, \"bus_difference_spread\": 9.600000000000001, \"route_group\": \"medium\", \"max_trip_hrs\": 1.08, \"max_trip_route_group\": 1.08, \"below_cutoff\": 13, \"pct_below_cutoff\": 0.5416666666666666, \"name\": \"Golden Empire Transit District\", \"caltrans_district\": \"06 - Fresno\", \"drmt_organization_name\": null, \"route_name\": \"Akers Panama/Valley Plaza\", \"cutoff2\": 30, \"cutoff\": 0}, {\"calitp_itp_id\": 126, \"trip_key\": -5968553136652973486, \"trip_id\": \"1984\", \"shape_id\": \"56\", \"route_id\": \"62\", \"service_hours\": 0.92, \"trip_first_departure_ts\": 39600, \"trip_last_arrival_ts\": 42900, \"departure_hour\": 11, \"time_of_day\": \"Midday\", \"p25\": 0.92, \"p50\": 0.96, \"p75\": 1.08, \"p50_trip\": 1, \"fastest_trip\": 0, \"car_duration_hours\": 0.57, \"competitive_route\": 1, \"bus_multiplier\": 1.61, \"bus_difference\": 21.0, \"num_trips\": 24, \"num_competitive\": 24, \"pct_trips_competitive\": 1.0, \"bus_difference_spread\": 9.600000000000001, \"route_group\": \"medium\", \"max_trip_hrs\": 1.08, \"max_trip_route_group\": 1.08, \"below_cutoff\": 13, \"pct_below_cutoff\": 0.5416666666666666, \"name\": \"Golden Empire Transit District\", \"caltrans_district\": \"06 - Fresno\", \"drmt_organization_name\": null, \"route_name\": \"Akers Panama/Valley Plaza\", \"cutoff2\": 30, \"cutoff\": 0}, {\"calitp_itp_id\": 126, \"trip_key\": 1525772625152661822, \"trip_id\": \"1988\", \"shape_id\": \"56\", \"route_id\": \"62\", \"service_hours\": 0.92, \"trip_first_departure_ts\": 54000, \"trip_last_arrival_ts\": 57300, \"departure_hour\": 15, \"time_of_day\": \"Midday\", \"p25\": 0.92, \"p50\": 0.96, \"p75\": 1.08, \"p50_trip\": 1, \"fastest_trip\": 0, \"car_duration_hours\": 0.57, \"competitive_route\": 1, \"bus_multiplier\": 1.61, \"bus_difference\": 21.0, \"num_trips\": 24, \"num_competitive\": 24, \"pct_trips_competitive\": 1.0, \"bus_difference_spread\": 9.600000000000001, \"route_group\": \"medium\", \"max_trip_hrs\": 1.08, \"max_trip_route_group\": 1.08, \"below_cutoff\": 13, \"pct_below_cutoff\": 0.5416666666666666, \"name\": \"Golden Empire Transit District\", \"caltrans_district\": \"06 - Fresno\", \"drmt_organization_name\": null, \"route_name\": \"Akers Panama/Valley Plaza\", \"cutoff2\": 30, \"cutoff\": 0}, {\"calitp_itp_id\": 126, \"trip_key\": 1784598322346742404, \"trip_id\": \"1991\", \"shape_id\": \"56\", \"route_id\": \"62\", \"service_hours\": 0.92, \"trip_first_departure_ts\": 64800, \"trip_last_arrival_ts\": 68100, \"departure_hour\": 18, \"time_of_day\": \"PM Peak\", \"p25\": 0.92, \"p50\": 0.96, \"p75\": 1.08, \"p50_trip\": 1, \"fastest_trip\": 1, \"car_duration_hours\": 0.57, \"competitive_route\": 1, \"bus_multiplier\": 1.61, \"bus_difference\": 21.0, \"num_trips\": 24, \"num_competitive\": 24, \"pct_trips_competitive\": 1.0, \"bus_difference_spread\": 9.600000000000001, \"route_group\": \"medium\", \"max_trip_hrs\": 1.08, \"max_trip_route_group\": 1.08, \"below_cutoff\": 13, \"pct_below_cutoff\": 0.5416666666666666, \"name\": \"Golden Empire Transit District\", \"caltrans_district\": \"06 - Fresno\", \"drmt_organization_name\": null, \"route_name\": \"Akers Panama/Valley Plaza\", \"cutoff2\": 30, \"cutoff\": 0}, {\"calitp_itp_id\": 126, \"trip_key\": 8037778639050624470, \"trip_id\": \"1989\", \"shape_id\": \"56\", \"route_id\": \"62\", \"service_hours\": 0.92, \"trip_first_departure_ts\": 57600, \"trip_last_arrival_ts\": 60900, \"departure_hour\": 16, \"time_of_day\": \"Midday\", \"p25\": 0.92, \"p50\": 0.96, \"p75\": 1.08, \"p50_trip\": 1, \"fastest_trip\": 0, \"car_duration_hours\": 0.57, \"competitive_route\": 1, \"bus_multiplier\": 1.61, \"bus_difference\": 21.0, \"num_trips\": 24, \"num_competitive\": 24, \"pct_trips_competitive\": 1.0, \"bus_difference_spread\": 9.600000000000001, \"route_group\": \"medium\", \"max_trip_hrs\": 1.08, \"max_trip_route_group\": 1.08, \"below_cutoff\": 13, \"pct_below_cutoff\": 0.5416666666666666, \"name\": \"Golden Empire Transit District\", \"caltrans_district\": \"06 - Fresno\", \"drmt_organization_name\": null, \"route_name\": \"Akers Panama/Valley Plaza\", \"cutoff2\": 30, \"cutoff\": 0}, {\"calitp_itp_id\": 126, \"trip_key\": 1734782686471856502, \"trip_id\": \"1990\", \"shape_id\": \"56\", \"route_id\": \"62\", \"service_hours\": 0.92, \"trip_first_departure_ts\": 61200, \"trip_last_arrival_ts\": 64500, \"departure_hour\": 17, \"time_of_day\": \"PM Peak\", \"p25\": 0.92, \"p50\": 0.96, \"p75\": 1.08, \"p50_trip\": 1, \"fastest_trip\": 0, \"car_duration_hours\": 0.57, \"competitive_route\": 1, \"bus_multiplier\": 1.61, \"bus_difference\": 21.0, \"num_trips\": 24, \"num_competitive\": 24, \"pct_trips_competitive\": 1.0, \"bus_difference_spread\": 9.600000000000001, \"route_group\": \"medium\", \"max_trip_hrs\": 1.08, \"max_trip_route_group\": 1.08, \"below_cutoff\": 13, \"pct_below_cutoff\": 0.5416666666666666, \"name\": \"Golden Empire Transit District\", \"caltrans_district\": \"06 - Fresno\", \"drmt_organization_name\": null, \"route_name\": \"Akers Panama/Valley Plaza\", \"cutoff2\": 30, \"cutoff\": 0}, {\"calitp_itp_id\": 126, \"trip_key\": -1624281882188341956, \"trip_id\": \"1983\", \"shape_id\": \"56\", \"route_id\": \"62\", \"service_hours\": 0.92, \"trip_first_departure_ts\": 36000, \"trip_last_arrival_ts\": 39300, \"departure_hour\": 10, \"time_of_day\": \"Midday\", \"p25\": 0.92, \"p50\": 0.96, \"p75\": 1.08, \"p50_trip\": 1, \"fastest_trip\": 0, \"car_duration_hours\": 0.57, \"competitive_route\": 1, \"bus_multiplier\": 1.61, \"bus_difference\": 21.0, \"num_trips\": 24, \"num_competitive\": 24, \"pct_trips_competitive\": 1.0, \"bus_difference_spread\": 9.600000000000001, \"route_group\": \"medium\", \"max_trip_hrs\": 1.08, \"max_trip_route_group\": 1.08, \"below_cutoff\": 13, \"pct_below_cutoff\": 0.5416666666666666, \"name\": \"Golden Empire Transit District\", \"caltrans_district\": \"06 - Fresno\", \"drmt_organization_name\": null, \"route_name\": \"Akers Panama/Valley Plaza\", \"cutoff2\": 30, \"cutoff\": 0}, {\"calitp_itp_id\": 126, \"trip_key\": 8857494238630096522, \"trip_id\": \"1979\", \"shape_id\": \"45\", \"route_id\": \"62\", \"service_hours\": 1.0, \"trip_first_departure_ts\": 64500, \"trip_last_arrival_ts\": 68100, \"departure_hour\": 17, \"time_of_day\": \"PM Peak\", \"p25\": 0.92, \"p50\": 0.96, \"p75\": 1.08, \"p50_trip\": 0, \"fastest_trip\": 0, \"car_duration_hours\": 0.57, \"competitive_route\": 1, \"bus_multiplier\": 1.75, \"bus_difference\": 25.8, \"num_trips\": 24, \"num_competitive\": 24, \"pct_trips_competitive\": 1.0, \"bus_difference_spread\": 9.600000000000001, \"route_group\": \"medium\", \"max_trip_hrs\": 1.08, \"max_trip_route_group\": 1.08, \"below_cutoff\": 13, \"pct_below_cutoff\": 0.5416666666666666, \"name\": \"Golden Empire Transit District\", \"caltrans_district\": \"06 - Fresno\", \"drmt_organization_name\": null, \"route_name\": \"Akers Panama/Valley Plaza\", \"cutoff2\": 30, \"cutoff\": 0}, {\"calitp_itp_id\": 126, \"trip_key\": 4254431478989959981, \"trip_id\": \"1971\", \"shape_id\": \"45\", \"route_id\": \"62\", \"service_hours\": 1.08, \"trip_first_departure_ts\": 32100, \"trip_last_arrival_ts\": 36000, \"departure_hour\": 8, \"time_of_day\": \"AM Peak\", \"p25\": 0.92, \"p50\": 0.96, \"p75\": 1.08, \"p50_trip\": 0, \"fastest_trip\": 0, \"car_duration_hours\": 0.57, \"competitive_route\": 1, \"bus_multiplier\": 1.89, \"bus_difference\": 30.6, \"num_trips\": 24, \"num_competitive\": 24, \"pct_trips_competitive\": 1.0, \"bus_difference_spread\": 9.600000000000001, \"route_group\": \"medium\", \"max_trip_hrs\": 1.08, \"max_trip_route_group\": 1.08, \"below_cutoff\": 13, \"pct_below_cutoff\": 0.5416666666666666, \"name\": \"Golden Empire Transit District\", \"caltrans_district\": \"06 - Fresno\", \"drmt_organization_name\": null, \"route_name\": \"Akers Panama/Valley Plaza\", \"cutoff2\": 30, \"cutoff\": 0}, {\"calitp_itp_id\": 126, \"trip_key\": 7562056509314122037, \"trip_id\": \"1973\", \"shape_id\": \"45\", \"route_id\": \"62\", \"service_hours\": 1.08, \"trip_first_departure_ts\": 39300, \"trip_last_arrival_ts\": 43200, \"departure_hour\": 10, \"time_of_day\": \"Midday\", \"p25\": 0.92, \"p50\": 0.96, \"p75\": 1.08, \"p50_trip\": 0, \"fastest_trip\": 0, \"car_duration_hours\": 0.57, \"competitive_route\": 1, \"bus_multiplier\": 1.89, \"bus_difference\": 30.6, \"num_trips\": 24, \"num_competitive\": 24, \"pct_trips_competitive\": 1.0, \"bus_difference_spread\": 9.600000000000001, \"route_group\": \"medium\", \"max_trip_hrs\": 1.08, \"max_trip_route_group\": 1.08, \"below_cutoff\": 13, \"pct_below_cutoff\": 0.5416666666666666, \"name\": \"Golden Empire Transit District\", \"caltrans_district\": \"06 - Fresno\", \"drmt_organization_name\": null, \"route_name\": \"Akers Panama/Valley Plaza\", \"cutoff2\": 30, \"cutoff\": 0}, {\"calitp_itp_id\": 126, \"trip_key\": -1174315029956827544, \"trip_id\": \"1977\", \"shape_id\": \"45\", \"route_id\": \"62\", \"service_hours\": 1.08, \"trip_first_departure_ts\": 57300, \"trip_last_arrival_ts\": 61200, \"departure_hour\": 15, \"time_of_day\": \"Midday\", \"p25\": 0.92, \"p50\": 0.96, \"p75\": 1.08, \"p50_trip\": 0, \"fastest_trip\": 0, \"car_duration_hours\": 0.57, \"competitive_route\": 1, \"bus_multiplier\": 1.89, \"bus_difference\": 30.6, \"num_trips\": 24, \"num_competitive\": 24, \"pct_trips_competitive\": 1.0, \"bus_difference_spread\": 9.600000000000001, \"route_group\": \"medium\", \"max_trip_hrs\": 1.08, \"max_trip_route_group\": 1.08, \"below_cutoff\": 13, \"pct_below_cutoff\": 0.5416666666666666, \"name\": \"Golden Empire Transit District\", \"caltrans_district\": \"06 - Fresno\", \"drmt_organization_name\": null, \"route_name\": \"Akers Panama/Valley Plaza\", \"cutoff2\": 30, \"cutoff\": 0}, {\"calitp_itp_id\": 126, \"trip_key\": -7913144978631141880, \"trip_id\": \"1969\", \"shape_id\": \"45\", \"route_id\": \"62\", \"service_hours\": 1.08, \"trip_first_departure_ts\": 24900, \"trip_last_arrival_ts\": 28800, \"departure_hour\": 6, \"time_of_day\": \"Owl Service\", \"p25\": 0.92, \"p50\": 0.96, \"p75\": 1.08, \"p50_trip\": 0, \"fastest_trip\": 0, \"car_duration_hours\": 0.57, \"competitive_route\": 1, \"bus_multiplier\": 1.89, \"bus_difference\": 30.6, \"num_trips\": 24, \"num_competitive\": 24, \"pct_trips_competitive\": 1.0, \"bus_difference_spread\": 9.600000000000001, \"route_group\": \"medium\", \"max_trip_hrs\": 1.08, \"max_trip_route_group\": 1.08, \"below_cutoff\": 13, \"pct_below_cutoff\": 0.5416666666666666, \"name\": \"Golden Empire Transit District\", \"caltrans_district\": \"06 - Fresno\", \"drmt_organization_name\": null, \"route_name\": \"Akers Panama/Valley Plaza\", \"cutoff2\": 30, \"cutoff\": 0}, {\"calitp_itp_id\": 126, \"trip_key\": -6764356430060964619, \"trip_id\": \"1519\", \"shape_id\": \"45\", \"route_id\": \"62\", \"service_hours\": 1.08, \"trip_first_departure_ts\": 42900, \"trip_last_arrival_ts\": 46800, \"departure_hour\": 11, \"time_of_day\": \"Midday\", \"p25\": 0.92, \"p50\": 0.96, \"p75\": 1.08, \"p50_trip\": 0, \"fastest_trip\": 0, \"car_duration_hours\": 0.57, \"competitive_route\": 1, \"bus_multiplier\": 1.89, \"bus_difference\": 30.6, \"num_trips\": 24, \"num_competitive\": 24, \"pct_trips_competitive\": 1.0, \"bus_difference_spread\": 9.600000000000001, \"route_group\": \"medium\", \"max_trip_hrs\": 1.08, \"max_trip_route_group\": 1.08, \"below_cutoff\": 13, \"pct_below_cutoff\": 0.5416666666666666, \"name\": \"Golden Empire Transit District\", \"caltrans_district\": \"06 - Fresno\", \"drmt_organization_name\": null, \"route_name\": \"Akers Panama/Valley Plaza\", \"cutoff2\": 30, \"cutoff\": 0}, {\"calitp_itp_id\": 126, \"trip_key\": -2734724785490573929, \"trip_id\": \"1974\", \"shape_id\": \"45\", \"route_id\": \"62\", \"service_hours\": 1.08, \"trip_first_departure_ts\": 46500, \"trip_last_arrival_ts\": 50400, \"departure_hour\": 12, \"time_of_day\": \"Midday\", \"p25\": 0.92, \"p50\": 0.96, \"p75\": 1.08, \"p50_trip\": 0, \"fastest_trip\": 0, \"car_duration_hours\": 0.57, \"competitive_route\": 1, \"bus_multiplier\": 1.89, \"bus_difference\": 30.6, \"num_trips\": 24, \"num_competitive\": 24, \"pct_trips_competitive\": 1.0, \"bus_difference_spread\": 9.600000000000001, \"route_group\": \"medium\", \"max_trip_hrs\": 1.08, \"max_trip_route_group\": 1.08, \"below_cutoff\": 13, \"pct_below_cutoff\": 0.5416666666666666, \"name\": \"Golden Empire Transit District\", \"caltrans_district\": \"06 - Fresno\", \"drmt_organization_name\": null, \"route_name\": \"Akers Panama/Valley Plaza\", \"cutoff2\": 30, \"cutoff\": 0}, {\"calitp_itp_id\": 126, \"trip_key\": 6693152542659667484, \"trip_id\": \"1978\", \"shape_id\": \"45\", \"route_id\": \"62\", \"service_hours\": 1.08, \"trip_first_departure_ts\": 60900, \"trip_last_arrival_ts\": 64800, \"departure_hour\": 16, \"time_of_day\": \"Midday\", \"p25\": 0.92, \"p50\": 0.96, \"p75\": 1.08, \"p50_trip\": 0, \"fastest_trip\": 0, \"car_duration_hours\": 0.57, \"competitive_route\": 1, \"bus_multiplier\": 1.89, \"bus_difference\": 30.6, \"num_trips\": 24, \"num_competitive\": 24, \"pct_trips_competitive\": 1.0, \"bus_difference_spread\": 9.600000000000001, \"route_group\": \"medium\", \"max_trip_hrs\": 1.08, \"max_trip_route_group\": 1.08, \"below_cutoff\": 13, \"pct_below_cutoff\": 0.5416666666666666, \"name\": \"Golden Empire Transit District\", \"caltrans_district\": \"06 - Fresno\", \"drmt_organization_name\": null, \"route_name\": \"Akers Panama/Valley Plaza\", \"cutoff2\": 30, \"cutoff\": 0}, {\"calitp_itp_id\": 126, \"trip_key\": -7900873824646436253, \"trip_id\": \"1975\", \"shape_id\": \"45\", \"route_id\": \"62\", \"service_hours\": 1.08, \"trip_first_departure_ts\": 50100, \"trip_last_arrival_ts\": 54000, \"departure_hour\": 13, \"time_of_day\": \"Midday\", \"p25\": 0.92, \"p50\": 0.96, \"p75\": 1.08, \"p50_trip\": 0, \"fastest_trip\": 0, \"car_duration_hours\": 0.57, \"competitive_route\": 1, \"bus_multiplier\": 1.89, \"bus_difference\": 30.6, \"num_trips\": 24, \"num_competitive\": 24, \"pct_trips_competitive\": 1.0, \"bus_difference_spread\": 9.600000000000001, \"route_group\": \"medium\", \"max_trip_hrs\": 1.08, \"max_trip_route_group\": 1.08, \"below_cutoff\": 13, \"pct_below_cutoff\": 0.5416666666666666, \"name\": \"Golden Empire Transit District\", \"caltrans_district\": \"06 - Fresno\", \"drmt_organization_name\": null, \"route_name\": \"Akers Panama/Valley Plaza\", \"cutoff2\": 30, \"cutoff\": 0}, {\"calitp_itp_id\": 126, \"trip_key\": 4939210400697649146, \"trip_id\": \"1970\", \"shape_id\": \"45\", \"route_id\": \"62\", \"service_hours\": 1.08, \"trip_first_departure_ts\": 28500, \"trip_last_arrival_ts\": 32400, \"departure_hour\": 7, \"time_of_day\": \"AM Peak\", \"p25\": 0.92, \"p50\": 0.96, \"p75\": 1.08, \"p50_trip\": 0, \"fastest_trip\": 0, \"car_duration_hours\": 0.57, \"competitive_route\": 1, \"bus_multiplier\": 1.89, \"bus_difference\": 30.6, \"num_trips\": 24, \"num_competitive\": 24, \"pct_trips_competitive\": 1.0, \"bus_difference_spread\": 9.600000000000001, \"route_group\": \"medium\", \"max_trip_hrs\": 1.08, \"max_trip_route_group\": 1.08, \"below_cutoff\": 13, \"pct_below_cutoff\": 0.5416666666666666, \"name\": \"Golden Empire Transit District\", \"caltrans_district\": \"06 - Fresno\", \"drmt_organization_name\": null, \"route_name\": \"Akers Panama/Valley Plaza\", \"cutoff2\": 30, \"cutoff\": 0}, {\"calitp_itp_id\": 126, \"trip_key\": -839532200645589971, \"trip_id\": \"1972\", \"shape_id\": \"45\", \"route_id\": \"62\", \"service_hours\": 1.08, \"trip_first_departure_ts\": 35700, \"trip_last_arrival_ts\": 39600, \"departure_hour\": 9, \"time_of_day\": \"AM Peak\", \"p25\": 0.92, \"p50\": 0.96, \"p75\": 1.08, \"p50_trip\": 0, \"fastest_trip\": 0, \"car_duration_hours\": 0.57, \"competitive_route\": 1, \"bus_multiplier\": 1.89, \"bus_difference\": 30.6, \"num_trips\": 24, \"num_competitive\": 24, \"pct_trips_competitive\": 1.0, \"bus_difference_spread\": 9.600000000000001, \"route_group\": \"medium\", \"max_trip_hrs\": 1.08, \"max_trip_route_group\": 1.08, \"below_cutoff\": 13, \"pct_below_cutoff\": 0.5416666666666666, \"name\": \"Golden Empire Transit District\", \"caltrans_district\": \"06 - Fresno\", \"drmt_organization_name\": null, \"route_name\": \"Akers Panama/Valley Plaza\", \"cutoff2\": 30, \"cutoff\": 0}, {\"calitp_itp_id\": 126, \"trip_key\": -8417468646573950502, \"trip_id\": \"1976\", \"shape_id\": \"45\", \"route_id\": \"62\", \"service_hours\": 1.08, \"trip_first_departure_ts\": 53700, \"trip_last_arrival_ts\": 57600, \"departure_hour\": 14, \"time_of_day\": \"Midday\", \"p25\": 0.92, \"p50\": 0.96, \"p75\": 1.08, \"p50_trip\": 0, \"fastest_trip\": 0, \"car_duration_hours\": 0.57, \"competitive_route\": 1, \"bus_multiplier\": 1.89, \"bus_difference\": 30.6, \"num_trips\": 24, \"num_competitive\": 24, \"pct_trips_competitive\": 1.0, \"bus_difference_spread\": 9.600000000000001, \"route_group\": \"medium\", \"max_trip_hrs\": 1.08, \"max_trip_route_group\": 1.08, \"below_cutoff\": 13, \"pct_below_cutoff\": 0.5416666666666666, \"name\": \"Golden Empire Transit District\", \"caltrans_district\": \"06 - Fresno\", \"drmt_organization_name\": null, \"route_name\": \"Akers Panama/Valley Plaza\", \"cutoff2\": 30, \"cutoff\": 0}]}}, {\"mode\": \"vega-lite\"});\n",
       "</script>"
      ],
      "text/plain": [
       "alt.FacetChart(...)"
      ]
     },
     "metadata": {},
     "output_type": "display_data"
    },
    {
     "data": {
      "text/html": [
       "<h4>Route Stats</h4>"
      ],
      "text/plain": [
       "<IPython.core.display.HTML object>"
      ]
     },
     "metadata": {},
     "output_type": "display_data"
    },
    {
     "data": {
      "text/html": [
       "<style type=\"text/css\">\n",
       "#T_eaa97 th {\n",
       "  text-align: center;\n",
       "}\n",
       "#T_eaa97_row0_col0, #T_eaa97_row0_col1 {\n",
       "  text-align: left;\n",
       "}\n",
       "#T_eaa97_row0_col2, #T_eaa97_row0_col3, #T_eaa97_row0_col5 {\n",
       "  text-align: center;\n",
       "}\n",
       "</style>\n",
       "<table id=\"T_eaa97\">\n",
       "  <thead>\n",
       "    <tr>\n",
       "      <th id=\"T_eaa97_level0_col0\" class=\"col_heading level0 col0\" >Route ID</th>\n",
       "      <th id=\"T_eaa97_level0_col1\" class=\"col_heading level0 col1\" >Route Name</th>\n",
       "      <th id=\"T_eaa97_level0_col2\" class=\"col_heading level0 col2\" ># trips</th>\n",
       "      <th id=\"T_eaa97_level0_col3\" class=\"col_heading level0 col3\" >Daily Avg Freq (trips per hr)</th>\n",
       "      <th id=\"T_eaa97_level0_col4\" class=\"col_heading level0 col4\" >25th, 50th, 75th ptile (hrs)</th>\n",
       "      <th id=\"T_eaa97_level0_col5\" class=\"col_heading level0 col5\" >PM Peak Avg Freq (trips per hr)</th>\n",
       "    </tr>\n",
       "  </thead>\n",
       "  <tbody>\n",
       "    <tr>\n",
       "      <td id=\"T_eaa97_row0_col0\" class=\"data row0 col0\" >62</td>\n",
       "      <td id=\"T_eaa97_row0_col1\" class=\"data row0 col1\" >Akers Panama/Valley Plaza</td>\n",
       "      <td id=\"T_eaa97_row0_col2\" class=\"data row0 col2\" >24</td>\n",
       "      <td id=\"T_eaa97_row0_col3\" class=\"data row0 col3\" >1.0</td>\n",
       "      <td id=\"T_eaa97_row0_col4\" class=\"data row0 col4\" >0.92, 0.96, 1.08</td>\n",
       "      <td id=\"T_eaa97_row0_col5\" class=\"data row0 col5\" >1.0</td>\n",
       "    </tr>\n",
       "  </tbody>\n",
       "</table>\n"
      ],
      "text/plain": [
       "<IPython.core.display.HTML object>"
      ]
     },
     "metadata": {},
     "output_type": "display_data"
    }
   ],
   "source": [
    "route_group = \"medium\"\n",
    "try:\n",
    "    display_charts_for_route_group(df, route_group)\n",
    "except:\n",
    "    print(\"No routes meet this criteria.\")"
   ]
  },
  {
   "cell_type": "markdown",
   "id": "124b76d0-886c-4d03-92ac-f1bda3cda182",
   "metadata": {
    "papermill": {
     "duration": 0.026804,
     "end_time": "2022-05-12T02:16:03.899664",
     "exception": false,
     "start_time": "2022-05-12T02:16:03.872860",
     "status": "completed"
    },
    "tags": []
   },
   "source": [
    "### Long Routes (> 1.5 hrs)"
   ]
  },
  {
   "cell_type": "code",
   "execution_count": 16,
   "id": "ddc81b19-4c45-4c81-8b7a-5e0f394aa7a3",
   "metadata": {
    "execution": {
     "iopub.execute_input": "2022-05-12T02:16:03.938656Z",
     "iopub.status.busy": "2022-05-12T02:16:03.938380Z",
     "iopub.status.idle": "2022-05-12T02:16:04.190327Z",
     "shell.execute_reply": "2022-05-12T02:16:04.189761Z"
    },
    "jupyter": {
     "source_hidden": true
    },
    "papermill": {
     "duration": 0.274271,
     "end_time": "2022-05-12T02:16:04.191999",
     "exception": false,
     "start_time": "2022-05-12T02:16:03.917728",
     "status": "completed"
    },
    "tags": [
     "remove_input"
    ]
   },
   "outputs": [
    {
     "data": {
      "text/markdown": [
       "<br>These are routes that have **at least 50% of their trips take no more than an additional 40 min** compared to a car (up to 15 routes) are shown.<br>Within each route group, routes are sorted in descending order by % competitive trips and # trips below the additional time cut-off."
      ],
      "text/plain": [
       "<IPython.core.display.Markdown object>"
      ]
     },
     "metadata": {},
     "output_type": "display_data"
    },
    {
     "data": {
      "text/html": [
       "\n",
       "<div id=\"altair-viz-25066a7ae89348a9a8b58eb91a1c56fa\"></div>\n",
       "<script type=\"text/javascript\">\n",
       "  var VEGA_DEBUG = (typeof VEGA_DEBUG == \"undefined\") ? {} : VEGA_DEBUG;\n",
       "  (function(spec, embedOpt){\n",
       "    let outputDiv = document.currentScript.previousElementSibling;\n",
       "    if (outputDiv.id !== \"altair-viz-25066a7ae89348a9a8b58eb91a1c56fa\") {\n",
       "      outputDiv = document.getElementById(\"altair-viz-25066a7ae89348a9a8b58eb91a1c56fa\");\n",
       "    }\n",
       "    const paths = {\n",
       "      \"vega\": \"https://cdn.jsdelivr.net/npm//vega@5?noext\",\n",
       "      \"vega-lib\": \"https://cdn.jsdelivr.net/npm//vega-lib?noext\",\n",
       "      \"vega-lite\": \"https://cdn.jsdelivr.net/npm//vega-lite@4.17.0?noext\",\n",
       "      \"vega-embed\": \"https://cdn.jsdelivr.net/npm//vega-embed@6?noext\",\n",
       "    };\n",
       "\n",
       "    function maybeLoadScript(lib, version) {\n",
       "      var key = `${lib.replace(\"-\", \"\")}_version`;\n",
       "      return (VEGA_DEBUG[key] == version) ?\n",
       "        Promise.resolve(paths[lib]) :\n",
       "        new Promise(function(resolve, reject) {\n",
       "          var s = document.createElement('script');\n",
       "          document.getElementsByTagName(\"head\")[0].appendChild(s);\n",
       "          s.async = true;\n",
       "          s.onload = () => {\n",
       "            VEGA_DEBUG[key] = version;\n",
       "            return resolve(paths[lib]);\n",
       "          };\n",
       "          s.onerror = () => reject(`Error loading script: ${paths[lib]}`);\n",
       "          s.src = paths[lib];\n",
       "        });\n",
       "    }\n",
       "\n",
       "    function showError(err) {\n",
       "      outputDiv.innerHTML = `<div class=\"error\" style=\"color:red;\">${err}</div>`;\n",
       "      throw err;\n",
       "    }\n",
       "\n",
       "    function displayChart(vegaEmbed) {\n",
       "      vegaEmbed(outputDiv, spec, embedOpt)\n",
       "        .catch(err => showError(`Javascript Error: ${err.message}<br>This usually means there's a typo in your chart specification. See the javascript console for the full traceback.`));\n",
       "    }\n",
       "\n",
       "    if(typeof define === \"function\" && define.amd) {\n",
       "      requirejs.config({paths});\n",
       "      require([\"vega-embed\"], displayChart, err => showError(`Error loading script: ${err.message}`));\n",
       "    } else {\n",
       "      maybeLoadScript(\"vega\", \"5\")\n",
       "        .then(() => maybeLoadScript(\"vega-lite\", \"4.17.0\"))\n",
       "        .then(() => maybeLoadScript(\"vega-embed\", \"6\"))\n",
       "        .catch(showError)\n",
       "        .then(() => displayChart(vegaEmbed));\n",
       "    }\n",
       "  })({\"config\": {\"view\": {\"continuousWidth\": 400, \"continuousHeight\": 300, \"stroke\": null}, \"facet\": {\"spacing\": 0}}, \"data\": {\"name\": \"data-a3cfe2ab002d04367cd20af6daee0daf\"}, \"facet\": {\"column\": {\"field\": \"route_id\", \"sort\": [\"41\"], \"title\": \"Route ID\", \"type\": \"nominal\"}}, \"spec\": {\"layer\": [{\"mark\": \"rule\", \"encoding\": {\"color\": {\"value\": \"black\"}, \"y\": {\"field\": \"cutoff\", \"type\": \"quantitative\"}}, \"selection\": {\"selector003\": {\"type\": \"interval\", \"bind\": \"scales\", \"encodings\": [\"x\", \"y\"]}}}, {\"mark\": {\"type\": \"point\", \"opacity\": 0.65, \"size\": 12, \"strokeWidth\": 1.1}, \"encoding\": {\"color\": {\"field\": \"time_of_day\", \"scale\": {\"range\": [\"#136C97\", \"#E16B26\", \"#F6BF16\", \"#00896B\", \"#7790A3\", \"#5B559C\"]}, \"sort\": [\"AM Peak\", \"Midday\", \"PM Peak\", \"Owl Service\"], \"title\": \"Time of Day\", \"type\": \"nominal\"}, \"tooltip\": [{\"field\": \"route_id\", \"type\": \"nominal\"}, {\"field\": \"route_name\", \"type\": \"nominal\"}, {\"field\": \"trip_id\", \"type\": \"nominal\"}, {\"field\": \"service_hours\", \"type\": \"quantitative\"}, {\"field\": \"car_duration_hours\", \"type\": \"quantitative\"}, {\"field\": \"bus_multiplier\", \"type\": \"quantitative\"}, {\"field\": \"bus_difference\", \"type\": \"quantitative\"}, {\"field\": \"num_trips\", \"type\": \"quantitative\"}, {\"field\": \"num_competitive\", \"type\": \"quantitative\"}, {\"field\": \"pct_trips_competitive\", \"type\": \"quantitative\"}, {\"field\": \"p25\", \"type\": \"quantitative\"}, {\"field\": \"p50\", \"type\": \"quantitative\"}, {\"field\": \"p75\", \"type\": \"quantitative\"}], \"x\": {\"axis\": {\"grid\": false, \"labels\": false, \"ticks\": true, \"values\": [0]}, \"field\": \"jitter\", \"scale\": {}, \"title\": null, \"type\": \"quantitative\"}, \"y\": {\"field\": \"bus_multiplier\", \"scale\": {\"domain\": [-0.25, 3.0]}, \"title\": \"Ratio of Bus to Car Travel Time\", \"type\": \"quantitative\"}}, \"transform\": [{\"calculate\": \"sqrt(-2*log(random()))*cos(2*PI*random())\", \"as\": \"jitter\"}], \"width\": 50}, {\"layer\": [{\"mark\": {\"type\": \"point\", \"opacity\": 0.6, \"size\": 20, \"strokeWidth\": 1.3}, \"encoding\": {\"color\": {\"value\": \"#323434\"}, \"y\": {\"field\": \"bus_multiplier\", \"type\": \"quantitative\"}}, \"transform\": [{\"filter\": \"(datum.p50_trip === 1)\"}]}, {\"mark\": {\"type\": \"text\", \"align\": \"center\", \"baseline\": \"middle\"}, \"encoding\": {\"color\": {\"value\": \"black\"}, \"text\": {\"field\": \"pct_trips_competitive\", \"format\": \".0%\", \"type\": \"quantitative\"}, \"tooltip\": [{\"field\": \"route_id\", \"type\": \"nominal\"}, {\"field\": \"route_name\", \"type\": \"nominal\"}, {\"field\": \"trip_id\", \"type\": \"nominal\"}, {\"field\": \"service_hours\", \"type\": \"quantitative\"}, {\"field\": \"car_duration_hours\", \"type\": \"quantitative\"}, {\"field\": \"bus_multiplier\", \"type\": \"quantitative\"}, {\"field\": \"bus_difference\", \"type\": \"quantitative\"}, {\"field\": \"num_trips\", \"type\": \"quantitative\"}, {\"field\": \"num_competitive\", \"type\": \"quantitative\"}, {\"field\": \"pct_trips_competitive\", \"type\": \"quantitative\"}, {\"field\": \"p25\", \"type\": \"quantitative\"}, {\"field\": \"p50\", \"type\": \"quantitative\"}, {\"field\": \"p75\", \"type\": \"quantitative\"}], \"x\": {\"value\": 30}, \"y\": {\"value\": 15}}, \"transform\": [{\"calculate\": \"sqrt(-2*log(random()))*cos(2*PI*random())\", \"as\": \"jitter\"}, {\"filter\": \"(datum.fastest_trip === 1)\"}]}]}]}, \"resolve\": {\"scale\": {\"y\": \"shared\"}}, \"title\": \"Ratio of Bus to Car Travel Time\", \"$schema\": \"https://vega.github.io/schema/vega-lite/v4.17.0.json\", \"datasets\": {\"data-a3cfe2ab002d04367cd20af6daee0daf\": [{\"calitp_itp_id\": 126, \"trip_key\": 5776538052279883279, \"trip_id\": \"1672\", \"shape_id\": \"79\", \"route_id\": \"41\", \"service_hours\": 1.35, \"trip_first_departure_ts\": 63000, \"trip_last_arrival_ts\": 67860, \"departure_hour\": 17, \"time_of_day\": \"PM Peak\", \"p25\": 1.45, \"p50\": 1.45, \"p75\": 1.55, \"p50_trip\": 0, \"fastest_trip\": 1, \"car_duration_hours\": 0.8, \"competitive_route\": 1, \"bus_multiplier\": 1.69, \"bus_difference\": 33.0, \"num_trips\": 45, \"num_competitive\": 45, \"pct_trips_competitive\": 1.0, \"bus_difference_spread\": 12.0, \"route_group\": \"long\", \"max_trip_hrs\": 1.55, \"max_trip_route_group\": 1.55, \"below_cutoff\": 26, \"pct_below_cutoff\": 0.5777777777777777, \"name\": \"Golden Empire Transit District\", \"caltrans_district\": \"06 - Fresno\", \"drmt_organization_name\": null, \"route_name\": \"Valley Plaza/Bakersfield College\", \"cutoff2\": 40, \"cutoff\": 2}, {\"calitp_itp_id\": 126, \"trip_key\": 6469954698833813641, \"trip_id\": \"1671\", \"shape_id\": \"79\", \"route_id\": \"41\", \"service_hours\": 1.35, \"trip_first_departure_ts\": 61200, \"trip_last_arrival_ts\": 66060, \"departure_hour\": 17, \"time_of_day\": \"PM Peak\", \"p25\": 1.45, \"p50\": 1.45, \"p75\": 1.55, \"p50_trip\": 0, \"fastest_trip\": 0, \"car_duration_hours\": 0.8, \"competitive_route\": 1, \"bus_multiplier\": 1.69, \"bus_difference\": 33.0, \"num_trips\": 45, \"num_competitive\": 45, \"pct_trips_competitive\": 1.0, \"bus_difference_spread\": 12.0, \"route_group\": \"long\", \"max_trip_hrs\": 1.55, \"max_trip_route_group\": 1.55, \"below_cutoff\": 26, \"pct_below_cutoff\": 0.5777777777777777, \"name\": \"Golden Empire Transit District\", \"caltrans_district\": \"06 - Fresno\", \"drmt_organization_name\": null, \"route_name\": \"Valley Plaza/Bakersfield College\", \"cutoff2\": 40, \"cutoff\": 2}, {\"calitp_itp_id\": 126, \"trip_key\": -4413477114220239056, \"trip_id\": \"3754\", \"shape_id\": \"78\", \"route_id\": \"41\", \"service_hours\": 1.43, \"trip_first_departure_ts\": 59220, \"trip_last_arrival_ts\": 64380, \"departure_hour\": 16, \"time_of_day\": \"Midday\", \"p25\": 1.45, \"p50\": 1.45, \"p75\": 1.55, \"p50_trip\": 0, \"fastest_trip\": 0, \"car_duration_hours\": 0.8, \"competitive_route\": 1, \"bus_multiplier\": 1.79, \"bus_difference\": 37.8, \"num_trips\": 45, \"num_competitive\": 45, \"pct_trips_competitive\": 1.0, \"bus_difference_spread\": 12.0, \"route_group\": \"long\", \"max_trip_hrs\": 1.55, \"max_trip_route_group\": 1.55, \"below_cutoff\": 26, \"pct_below_cutoff\": 0.5777777777777777, \"name\": \"Golden Empire Transit District\", \"caltrans_district\": \"06 - Fresno\", \"drmt_organization_name\": null, \"route_name\": \"Valley Plaza/Bakersfield College\", \"cutoff2\": 40, \"cutoff\": 2}, {\"calitp_itp_id\": 126, \"trip_key\": -695124153587898879, \"trip_id\": \"3756\", \"shape_id\": \"78\", \"route_id\": \"41\", \"service_hours\": 1.43, \"trip_first_departure_ts\": 62820, \"trip_last_arrival_ts\": 67980, \"departure_hour\": 17, \"time_of_day\": \"PM Peak\", \"p25\": 1.45, \"p50\": 1.45, \"p75\": 1.55, \"p50_trip\": 0, \"fastest_trip\": 0, \"car_duration_hours\": 0.8, \"competitive_route\": 1, \"bus_multiplier\": 1.79, \"bus_difference\": 37.8, \"num_trips\": 45, \"num_competitive\": 45, \"pct_trips_competitive\": 1.0, \"bus_difference_spread\": 12.0, \"route_group\": \"long\", \"max_trip_hrs\": 1.55, \"max_trip_route_group\": 1.55, \"below_cutoff\": 26, \"pct_below_cutoff\": 0.5777777777777777, \"name\": \"Golden Empire Transit District\", \"caltrans_district\": \"06 - Fresno\", \"drmt_organization_name\": null, \"route_name\": \"Valley Plaza/Bakersfield College\", \"cutoff2\": 40, \"cutoff\": 2}, {\"calitp_itp_id\": 126, \"trip_key\": -1731104395915060672, \"trip_id\": \"3755\", \"shape_id\": \"78\", \"route_id\": \"41\", \"service_hours\": 1.43, \"trip_first_departure_ts\": 61020, \"trip_last_arrival_ts\": 66180, \"departure_hour\": 16, \"time_of_day\": \"Midday\", \"p25\": 1.45, \"p50\": 1.45, \"p75\": 1.55, \"p50_trip\": 0, \"fastest_trip\": 0, \"car_duration_hours\": 0.8, \"competitive_route\": 1, \"bus_multiplier\": 1.79, \"bus_difference\": 37.8, \"num_trips\": 45, \"num_competitive\": 45, \"pct_trips_competitive\": 1.0, \"bus_difference_spread\": 12.0, \"route_group\": \"long\", \"max_trip_hrs\": 1.55, \"max_trip_route_group\": 1.55, \"below_cutoff\": 26, \"pct_below_cutoff\": 0.5777777777777777, \"name\": \"Golden Empire Transit District\", \"caltrans_district\": \"06 - Fresno\", \"drmt_organization_name\": null, \"route_name\": \"Valley Plaza/Bakersfield College\", \"cutoff2\": 40, \"cutoff\": 2}, {\"calitp_itp_id\": 126, \"trip_key\": 6389089163886931171, \"trip_id\": \"3757\", \"shape_id\": \"78\", \"route_id\": \"41\", \"service_hours\": 1.43, \"trip_first_departure_ts\": 64620, \"trip_last_arrival_ts\": 69780, \"departure_hour\": 17, \"time_of_day\": \"PM Peak\", \"p25\": 1.45, \"p50\": 1.45, \"p75\": 1.55, \"p50_trip\": 0, \"fastest_trip\": 0, \"car_duration_hours\": 0.8, \"competitive_route\": 1, \"bus_multiplier\": 1.79, \"bus_difference\": 37.8, \"num_trips\": 45, \"num_competitive\": 45, \"pct_trips_competitive\": 1.0, \"bus_difference_spread\": 12.0, \"route_group\": \"long\", \"max_trip_hrs\": 1.55, \"max_trip_route_group\": 1.55, \"below_cutoff\": 26, \"pct_below_cutoff\": 0.5777777777777777, \"name\": \"Golden Empire Transit District\", \"caltrans_district\": \"06 - Fresno\", \"drmt_organization_name\": null, \"route_name\": \"Valley Plaza/Bakersfield College\", \"cutoff2\": 40, \"cutoff\": 2}, {\"calitp_itp_id\": 126, \"trip_key\": -5206940515578354684, \"trip_id\": \"1667\", \"shape_id\": \"79\", \"route_id\": \"41\", \"service_hours\": 1.45, \"trip_first_departure_ts\": 54000, \"trip_last_arrival_ts\": 59220, \"departure_hour\": 15, \"time_of_day\": \"Midday\", \"p25\": 1.45, \"p50\": 1.45, \"p75\": 1.55, \"p50_trip\": 1, \"fastest_trip\": 0, \"car_duration_hours\": 0.8, \"competitive_route\": 1, \"bus_multiplier\": 1.81, \"bus_difference\": 39.0, \"num_trips\": 45, \"num_competitive\": 45, \"pct_trips_competitive\": 1.0, \"bus_difference_spread\": 12.0, \"route_group\": \"long\", \"max_trip_hrs\": 1.55, \"max_trip_route_group\": 1.55, \"below_cutoff\": 26, \"pct_below_cutoff\": 0.5777777777777777, \"name\": \"Golden Empire Transit District\", \"caltrans_district\": \"06 - Fresno\", \"drmt_organization_name\": null, \"route_name\": \"Valley Plaza/Bakersfield College\", \"cutoff2\": 40, \"cutoff\": 2}, {\"calitp_itp_id\": 126, \"trip_key\": 7497108670509890795, \"trip_id\": \"3768\", \"shape_id\": \"79\", \"route_id\": \"41\", \"service_hours\": 1.45, \"trip_first_departure_ts\": 43200, \"trip_last_arrival_ts\": 48420, \"departure_hour\": 12, \"time_of_day\": \"Midday\", \"p25\": 1.45, \"p50\": 1.45, \"p75\": 1.55, \"p50_trip\": 1, \"fastest_trip\": 0, \"car_duration_hours\": 0.8, \"competitive_route\": 1, \"bus_multiplier\": 1.81, \"bus_difference\": 39.0, \"num_trips\": 45, \"num_competitive\": 45, \"pct_trips_competitive\": 1.0, \"bus_difference_spread\": 12.0, \"route_group\": \"long\", \"max_trip_hrs\": 1.55, \"max_trip_route_group\": 1.55, \"below_cutoff\": 26, \"pct_below_cutoff\": 0.5777777777777777, \"name\": \"Golden Empire Transit District\", \"caltrans_district\": \"06 - Fresno\", \"drmt_organization_name\": null, \"route_name\": \"Valley Plaza/Bakersfield College\", \"cutoff2\": 40, \"cutoff\": 2}, {\"calitp_itp_id\": 126, \"trip_key\": -2766104624036821072, \"trip_id\": \"1669\", \"shape_id\": \"79\", \"route_id\": \"41\", \"service_hours\": 1.45, \"trip_first_departure_ts\": 57600, \"trip_last_arrival_ts\": 62820, \"departure_hour\": 16, \"time_of_day\": \"Midday\", \"p25\": 1.45, \"p50\": 1.45, \"p75\": 1.55, \"p50_trip\": 1, \"fastest_trip\": 0, \"car_duration_hours\": 0.8, \"competitive_route\": 1, \"bus_multiplier\": 1.81, \"bus_difference\": 39.0, \"num_trips\": 45, \"num_competitive\": 45, \"pct_trips_competitive\": 1.0, \"bus_difference_spread\": 12.0, \"route_group\": \"long\", \"max_trip_hrs\": 1.55, \"max_trip_route_group\": 1.55, \"below_cutoff\": 26, \"pct_below_cutoff\": 0.5777777777777777, \"name\": \"Golden Empire Transit District\", \"caltrans_district\": \"06 - Fresno\", \"drmt_organization_name\": null, \"route_name\": \"Valley Plaza/Bakersfield College\", \"cutoff2\": 40, \"cutoff\": 2}, {\"calitp_itp_id\": 126, \"trip_key\": -2623109568593173716, \"trip_id\": \"1668\", \"shape_id\": \"79\", \"route_id\": \"41\", \"service_hours\": 1.45, \"trip_first_departure_ts\": 55800, \"trip_last_arrival_ts\": 61020, \"departure_hour\": 15, \"time_of_day\": \"Midday\", \"p25\": 1.45, \"p50\": 1.45, \"p75\": 1.55, \"p50_trip\": 1, \"fastest_trip\": 0, \"car_duration_hours\": 0.8, \"competitive_route\": 1, \"bus_multiplier\": 1.81, \"bus_difference\": 39.0, \"num_trips\": 45, \"num_competitive\": 45, \"pct_trips_competitive\": 1.0, \"bus_difference_spread\": 12.0, \"route_group\": \"long\", \"max_trip_hrs\": 1.55, \"max_trip_route_group\": 1.55, \"below_cutoff\": 26, \"pct_below_cutoff\": 0.5777777777777777, \"name\": \"Golden Empire Transit District\", \"caltrans_district\": \"06 - Fresno\", \"drmt_organization_name\": null, \"route_name\": \"Valley Plaza/Bakersfield College\", \"cutoff2\": 40, \"cutoff\": 2}, {\"calitp_itp_id\": 126, \"trip_key\": 4595739502092105579, \"trip_id\": \"3767\", \"shape_id\": \"79\", \"route_id\": \"41\", \"service_hours\": 1.45, \"trip_first_departure_ts\": 41400, \"trip_last_arrival_ts\": 46620, \"departure_hour\": 11, \"time_of_day\": \"Midday\", \"p25\": 1.45, \"p50\": 1.45, \"p75\": 1.55, \"p50_trip\": 1, \"fastest_trip\": 0, \"car_duration_hours\": 0.8, \"competitive_route\": 1, \"bus_multiplier\": 1.81, \"bus_difference\": 39.0, \"num_trips\": 45, \"num_competitive\": 45, \"pct_trips_competitive\": 1.0, \"bus_difference_spread\": 12.0, \"route_group\": \"long\", \"max_trip_hrs\": 1.55, \"max_trip_route_group\": 1.55, \"below_cutoff\": 26, \"pct_below_cutoff\": 0.5777777777777777, \"name\": \"Golden Empire Transit District\", \"caltrans_district\": \"06 - Fresno\", \"drmt_organization_name\": null, \"route_name\": \"Valley Plaza/Bakersfield College\", \"cutoff2\": 40, \"cutoff\": 2}, {\"calitp_itp_id\": 126, \"trip_key\": -2929062652118405266, \"trip_id\": \"1670\", \"shape_id\": \"79\", \"route_id\": \"41\", \"service_hours\": 1.45, \"trip_first_departure_ts\": 59400, \"trip_last_arrival_ts\": 64620, \"departure_hour\": 16, \"time_of_day\": \"Midday\", \"p25\": 1.45, \"p50\": 1.45, \"p75\": 1.55, \"p50_trip\": 1, \"fastest_trip\": 0, \"car_duration_hours\": 0.8, \"competitive_route\": 1, \"bus_multiplier\": 1.81, \"bus_difference\": 39.0, \"num_trips\": 45, \"num_competitive\": 45, \"pct_trips_competitive\": 1.0, \"bus_difference_spread\": 12.0, \"route_group\": \"long\", \"max_trip_hrs\": 1.55, \"max_trip_route_group\": 1.55, \"below_cutoff\": 26, \"pct_below_cutoff\": 0.5777777777777777, \"name\": \"Golden Empire Transit District\", \"caltrans_district\": \"06 - Fresno\", \"drmt_organization_name\": null, \"route_name\": \"Valley Plaza/Bakersfield College\", \"cutoff2\": 40, \"cutoff\": 2}, {\"calitp_itp_id\": 126, \"trip_key\": 919333876661356962, \"trip_id\": \"3764\", \"shape_id\": \"79\", \"route_id\": \"41\", \"service_hours\": 1.45, \"trip_first_departure_ts\": 36000, \"trip_last_arrival_ts\": 41220, \"departure_hour\": 10, \"time_of_day\": \"Midday\", \"p25\": 1.45, \"p50\": 1.45, \"p75\": 1.55, \"p50_trip\": 1, \"fastest_trip\": 0, \"car_duration_hours\": 0.8, \"competitive_route\": 1, \"bus_multiplier\": 1.81, \"bus_difference\": 39.0, \"num_trips\": 45, \"num_competitive\": 45, \"pct_trips_competitive\": 1.0, \"bus_difference_spread\": 12.0, \"route_group\": \"long\", \"max_trip_hrs\": 1.55, \"max_trip_route_group\": 1.55, \"below_cutoff\": 26, \"pct_below_cutoff\": 0.5777777777777777, \"name\": \"Golden Empire Transit District\", \"caltrans_district\": \"06 - Fresno\", \"drmt_organization_name\": null, \"route_name\": \"Valley Plaza/Bakersfield College\", \"cutoff2\": 40, \"cutoff\": 2}, {\"calitp_itp_id\": 126, \"trip_key\": -1075485859789652750, \"trip_id\": \"1664\", \"shape_id\": \"79\", \"route_id\": \"41\", \"service_hours\": 1.45, \"trip_first_departure_ts\": 48600, \"trip_last_arrival_ts\": 53820, \"departure_hour\": 13, \"time_of_day\": \"Midday\", \"p25\": 1.45, \"p50\": 1.45, \"p75\": 1.55, \"p50_trip\": 1, \"fastest_trip\": 0, \"car_duration_hours\": 0.8, \"competitive_route\": 1, \"bus_multiplier\": 1.81, \"bus_difference\": 39.0, \"num_trips\": 45, \"num_competitive\": 45, \"pct_trips_competitive\": 1.0, \"bus_difference_spread\": 12.0, \"route_group\": \"long\", \"max_trip_hrs\": 1.55, \"max_trip_route_group\": 1.55, \"below_cutoff\": 26, \"pct_below_cutoff\": 0.5777777777777777, \"name\": \"Golden Empire Transit District\", \"caltrans_district\": \"06 - Fresno\", \"drmt_organization_name\": null, \"route_name\": \"Valley Plaza/Bakersfield College\", \"cutoff2\": 40, \"cutoff\": 2}, {\"calitp_itp_id\": 126, \"trip_key\": -52251744586674668, \"trip_id\": \"3759\", \"shape_id\": \"79\", \"route_id\": \"41\", \"service_hours\": 1.45, \"trip_first_departure_ts\": 27000, \"trip_last_arrival_ts\": 32220, \"departure_hour\": 7, \"time_of_day\": \"AM Peak\", \"p25\": 1.45, \"p50\": 1.45, \"p75\": 1.55, \"p50_trip\": 1, \"fastest_trip\": 0, \"car_duration_hours\": 0.8, \"competitive_route\": 1, \"bus_multiplier\": 1.81, \"bus_difference\": 39.0, \"num_trips\": 45, \"num_competitive\": 45, \"pct_trips_competitive\": 1.0, \"bus_difference_spread\": 12.0, \"route_group\": \"long\", \"max_trip_hrs\": 1.55, \"max_trip_route_group\": 1.55, \"below_cutoff\": 26, \"pct_below_cutoff\": 0.5777777777777777, \"name\": \"Golden Empire Transit District\", \"caltrans_district\": \"06 - Fresno\", \"drmt_organization_name\": null, \"route_name\": \"Valley Plaza/Bakersfield College\", \"cutoff2\": 40, \"cutoff\": 2}, {\"calitp_itp_id\": 126, \"trip_key\": -8632599654675507629, \"trip_id\": \"1665\", \"shape_id\": \"79\", \"route_id\": \"41\", \"service_hours\": 1.45, \"trip_first_departure_ts\": 50400, \"trip_last_arrival_ts\": 55620, \"departure_hour\": 14, \"time_of_day\": \"Midday\", \"p25\": 1.45, \"p50\": 1.45, \"p75\": 1.55, \"p50_trip\": 1, \"fastest_trip\": 0, \"car_duration_hours\": 0.8, \"competitive_route\": 1, \"bus_multiplier\": 1.81, \"bus_difference\": 39.0, \"num_trips\": 45, \"num_competitive\": 45, \"pct_trips_competitive\": 1.0, \"bus_difference_spread\": 12.0, \"route_group\": \"long\", \"max_trip_hrs\": 1.55, \"max_trip_route_group\": 1.55, \"below_cutoff\": 26, \"pct_below_cutoff\": 0.5777777777777777, \"name\": \"Golden Empire Transit District\", \"caltrans_district\": \"06 - Fresno\", \"drmt_organization_name\": null, \"route_name\": \"Valley Plaza/Bakersfield College\", \"cutoff2\": 40, \"cutoff\": 2}, {\"calitp_itp_id\": 126, \"trip_key\": -4313911544704650402, \"trip_id\": \"3762\", \"shape_id\": \"79\", \"route_id\": \"41\", \"service_hours\": 1.45, \"trip_first_departure_ts\": 32400, \"trip_last_arrival_ts\": 37620, \"departure_hour\": 9, \"time_of_day\": \"AM Peak\", \"p25\": 1.45, \"p50\": 1.45, \"p75\": 1.55, \"p50_trip\": 1, \"fastest_trip\": 0, \"car_duration_hours\": 0.8, \"competitive_route\": 1, \"bus_multiplier\": 1.81, \"bus_difference\": 39.0, \"num_trips\": 45, \"num_competitive\": 45, \"pct_trips_competitive\": 1.0, \"bus_difference_spread\": 12.0, \"route_group\": \"long\", \"max_trip_hrs\": 1.55, \"max_trip_route_group\": 1.55, \"below_cutoff\": 26, \"pct_below_cutoff\": 0.5777777777777777, \"name\": \"Golden Empire Transit District\", \"caltrans_district\": \"06 - Fresno\", \"drmt_organization_name\": null, \"route_name\": \"Valley Plaza/Bakersfield College\", \"cutoff2\": 40, \"cutoff\": 2}, {\"calitp_itp_id\": 126, \"trip_key\": 6392253989863255883, \"trip_id\": \"3763\", \"shape_id\": \"79\", \"route_id\": \"41\", \"service_hours\": 1.45, \"trip_first_departure_ts\": 34200, \"trip_last_arrival_ts\": 39420, \"departure_hour\": 9, \"time_of_day\": \"AM Peak\", \"p25\": 1.45, \"p50\": 1.45, \"p75\": 1.55, \"p50_trip\": 1, \"fastest_trip\": 0, \"car_duration_hours\": 0.8, \"competitive_route\": 1, \"bus_multiplier\": 1.81, \"bus_difference\": 39.0, \"num_trips\": 45, \"num_competitive\": 45, \"pct_trips_competitive\": 1.0, \"bus_difference_spread\": 12.0, \"route_group\": \"long\", \"max_trip_hrs\": 1.55, \"max_trip_route_group\": 1.55, \"below_cutoff\": 26, \"pct_below_cutoff\": 0.5777777777777777, \"name\": \"Golden Empire Transit District\", \"caltrans_district\": \"06 - Fresno\", \"drmt_organization_name\": null, \"route_name\": \"Valley Plaza/Bakersfield College\", \"cutoff2\": 40, \"cutoff\": 2}, {\"calitp_itp_id\": 126, \"trip_key\": 3411248475395932656, \"trip_id\": \"3765\", \"shape_id\": \"79\", \"route_id\": \"41\", \"service_hours\": 1.45, \"trip_first_departure_ts\": 37800, \"trip_last_arrival_ts\": 43020, \"departure_hour\": 10, \"time_of_day\": \"Midday\", \"p25\": 1.45, \"p50\": 1.45, \"p75\": 1.55, \"p50_trip\": 1, \"fastest_trip\": 0, \"car_duration_hours\": 0.8, \"competitive_route\": 1, \"bus_multiplier\": 1.81, \"bus_difference\": 39.0, \"num_trips\": 45, \"num_competitive\": 45, \"pct_trips_competitive\": 1.0, \"bus_difference_spread\": 12.0, \"route_group\": \"long\", \"max_trip_hrs\": 1.55, \"max_trip_route_group\": 1.55, \"below_cutoff\": 26, \"pct_below_cutoff\": 0.5777777777777777, \"name\": \"Golden Empire Transit District\", \"caltrans_district\": \"06 - Fresno\", \"drmt_organization_name\": null, \"route_name\": \"Valley Plaza/Bakersfield College\", \"cutoff2\": 40, \"cutoff\": 2}, {\"calitp_itp_id\": 126, \"trip_key\": -7072556819798405700, \"trip_id\": \"3761\", \"shape_id\": \"79\", \"route_id\": \"41\", \"service_hours\": 1.45, \"trip_first_departure_ts\": 30600, \"trip_last_arrival_ts\": 35820, \"departure_hour\": 8, \"time_of_day\": \"AM Peak\", \"p25\": 1.45, \"p50\": 1.45, \"p75\": 1.55, \"p50_trip\": 1, \"fastest_trip\": 0, \"car_duration_hours\": 0.8, \"competitive_route\": 1, \"bus_multiplier\": 1.81, \"bus_difference\": 39.0, \"num_trips\": 45, \"num_competitive\": 45, \"pct_trips_competitive\": 1.0, \"bus_difference_spread\": 12.0, \"route_group\": \"long\", \"max_trip_hrs\": 1.55, \"max_trip_route_group\": 1.55, \"below_cutoff\": 26, \"pct_below_cutoff\": 0.5777777777777777, \"name\": \"Golden Empire Transit District\", \"caltrans_district\": \"06 - Fresno\", \"drmt_organization_name\": null, \"route_name\": \"Valley Plaza/Bakersfield College\", \"cutoff2\": 40, \"cutoff\": 2}, {\"calitp_itp_id\": 126, \"trip_key\": 4830279098424700338, \"trip_id\": \"1666\", \"shape_id\": \"79\", \"route_id\": \"41\", \"service_hours\": 1.45, \"trip_first_departure_ts\": 52200, \"trip_last_arrival_ts\": 57420, \"departure_hour\": 14, \"time_of_day\": \"Midday\", \"p25\": 1.45, \"p50\": 1.45, \"p75\": 1.55, \"p50_trip\": 1, \"fastest_trip\": 0, \"car_duration_hours\": 0.8, \"competitive_route\": 1, \"bus_multiplier\": 1.81, \"bus_difference\": 39.0, \"num_trips\": 45, \"num_competitive\": 45, \"pct_trips_competitive\": 1.0, \"bus_difference_spread\": 12.0, \"route_group\": \"long\", \"max_trip_hrs\": 1.55, \"max_trip_route_group\": 1.55, \"below_cutoff\": 26, \"pct_below_cutoff\": 0.5777777777777777, \"name\": \"Golden Empire Transit District\", \"caltrans_district\": \"06 - Fresno\", \"drmt_organization_name\": null, \"route_name\": \"Valley Plaza/Bakersfield College\", \"cutoff2\": 40, \"cutoff\": 2}, {\"calitp_itp_id\": 126, \"trip_key\": -2360716236685420171, \"trip_id\": \"3758\", \"shape_id\": \"79\", \"route_id\": \"41\", \"service_hours\": 1.45, \"trip_first_departure_ts\": 25200, \"trip_last_arrival_ts\": 30420, \"departure_hour\": 7, \"time_of_day\": \"AM Peak\", \"p25\": 1.45, \"p50\": 1.45, \"p75\": 1.55, \"p50_trip\": 1, \"fastest_trip\": 0, \"car_duration_hours\": 0.8, \"competitive_route\": 1, \"bus_multiplier\": 1.81, \"bus_difference\": 39.0, \"num_trips\": 45, \"num_competitive\": 45, \"pct_trips_competitive\": 1.0, \"bus_difference_spread\": 12.0, \"route_group\": \"long\", \"max_trip_hrs\": 1.55, \"max_trip_route_group\": 1.55, \"below_cutoff\": 26, \"pct_below_cutoff\": 0.5777777777777777, \"name\": \"Golden Empire Transit District\", \"caltrans_district\": \"06 - Fresno\", \"drmt_organization_name\": null, \"route_name\": \"Valley Plaza/Bakersfield College\", \"cutoff2\": 40, \"cutoff\": 2}, {\"calitp_itp_id\": 126, \"trip_key\": -9077068888481348122, \"trip_id\": \"3769\", \"shape_id\": \"79\", \"route_id\": \"41\", \"service_hours\": 1.45, \"trip_first_departure_ts\": 45000, \"trip_last_arrival_ts\": 50220, \"departure_hour\": 12, \"time_of_day\": \"Midday\", \"p25\": 1.45, \"p50\": 1.45, \"p75\": 1.55, \"p50_trip\": 1, \"fastest_trip\": 0, \"car_duration_hours\": 0.8, \"competitive_route\": 1, \"bus_multiplier\": 1.81, \"bus_difference\": 39.0, \"num_trips\": 45, \"num_competitive\": 45, \"pct_trips_competitive\": 1.0, \"bus_difference_spread\": 12.0, \"route_group\": \"long\", \"max_trip_hrs\": 1.55, \"max_trip_route_group\": 1.55, \"below_cutoff\": 26, \"pct_below_cutoff\": 0.5777777777777777, \"name\": \"Golden Empire Transit District\", \"caltrans_district\": \"06 - Fresno\", \"drmt_organization_name\": null, \"route_name\": \"Valley Plaza/Bakersfield College\", \"cutoff2\": 40, \"cutoff\": 2}, {\"calitp_itp_id\": 126, \"trip_key\": 7722774300800139552, \"trip_id\": \"3766\", \"shape_id\": \"79\", \"route_id\": \"41\", \"service_hours\": 1.45, \"trip_first_departure_ts\": 39600, \"trip_last_arrival_ts\": 44820, \"departure_hour\": 11, \"time_of_day\": \"Midday\", \"p25\": 1.45, \"p50\": 1.45, \"p75\": 1.55, \"p50_trip\": 1, \"fastest_trip\": 0, \"car_duration_hours\": 0.8, \"competitive_route\": 1, \"bus_multiplier\": 1.81, \"bus_difference\": 39.0, \"num_trips\": 45, \"num_competitive\": 45, \"pct_trips_competitive\": 1.0, \"bus_difference_spread\": 12.0, \"route_group\": \"long\", \"max_trip_hrs\": 1.55, \"max_trip_route_group\": 1.55, \"below_cutoff\": 26, \"pct_below_cutoff\": 0.5777777777777777, \"name\": \"Golden Empire Transit District\", \"caltrans_district\": \"06 - Fresno\", \"drmt_organization_name\": null, \"route_name\": \"Valley Plaza/Bakersfield College\", \"cutoff2\": 40, \"cutoff\": 2}, {\"calitp_itp_id\": 126, \"trip_key\": -27000447531349206, \"trip_id\": \"1513\", \"shape_id\": \"79\", \"route_id\": \"41\", \"service_hours\": 1.45, \"trip_first_departure_ts\": 46800, \"trip_last_arrival_ts\": 52020, \"departure_hour\": 13, \"time_of_day\": \"Midday\", \"p25\": 1.45, \"p50\": 1.45, \"p75\": 1.55, \"p50_trip\": 1, \"fastest_trip\": 0, \"car_duration_hours\": 0.8, \"competitive_route\": 1, \"bus_multiplier\": 1.81, \"bus_difference\": 39.0, \"num_trips\": 45, \"num_competitive\": 45, \"pct_trips_competitive\": 1.0, \"bus_difference_spread\": 12.0, \"route_group\": \"long\", \"max_trip_hrs\": 1.55, \"max_trip_route_group\": 1.55, \"below_cutoff\": 26, \"pct_below_cutoff\": 0.5777777777777777, \"name\": \"Golden Empire Transit District\", \"caltrans_district\": \"06 - Fresno\", \"drmt_organization_name\": null, \"route_name\": \"Valley Plaza/Bakersfield College\", \"cutoff2\": 40, \"cutoff\": 2}, {\"calitp_itp_id\": 126, \"trip_key\": -634519358534191590, \"trip_id\": \"3760\", \"shape_id\": \"79\", \"route_id\": \"41\", \"service_hours\": 1.45, \"trip_first_departure_ts\": 28800, \"trip_last_arrival_ts\": 34020, \"departure_hour\": 8, \"time_of_day\": \"AM Peak\", \"p25\": 1.45, \"p50\": 1.45, \"p75\": 1.55, \"p50_trip\": 1, \"fastest_trip\": 0, \"car_duration_hours\": 0.8, \"competitive_route\": 1, \"bus_multiplier\": 1.81, \"bus_difference\": 39.0, \"num_trips\": 45, \"num_competitive\": 45, \"pct_trips_competitive\": 1.0, \"bus_difference_spread\": 12.0, \"route_group\": \"long\", \"max_trip_hrs\": 1.55, \"max_trip_route_group\": 1.55, \"below_cutoff\": 26, \"pct_below_cutoff\": 0.5777777777777777, \"name\": \"Golden Empire Transit District\", \"caltrans_district\": \"06 - Fresno\", \"drmt_organization_name\": null, \"route_name\": \"Valley Plaza/Bakersfield College\", \"cutoff2\": 40, \"cutoff\": 2}, {\"calitp_itp_id\": 126, \"trip_key\": -4088461551057439274, \"trip_id\": \"3746\", \"shape_id\": \"78\", \"route_id\": \"41\", \"service_hours\": 1.55, \"trip_first_departure_ts\": 44820, \"trip_last_arrival_ts\": 50400, \"departure_hour\": 12, \"time_of_day\": \"Midday\", \"p25\": 1.45, \"p50\": 1.45, \"p75\": 1.55, \"p50_trip\": 0, \"fastest_trip\": 0, \"car_duration_hours\": 0.8, \"competitive_route\": 1, \"bus_multiplier\": 1.94, \"bus_difference\": 45.0, \"num_trips\": 45, \"num_competitive\": 45, \"pct_trips_competitive\": 1.0, \"bus_difference_spread\": 12.0, \"route_group\": \"long\", \"max_trip_hrs\": 1.55, \"max_trip_route_group\": 1.55, \"below_cutoff\": 26, \"pct_below_cutoff\": 0.5777777777777777, \"name\": \"Golden Empire Transit District\", \"caltrans_district\": \"06 - Fresno\", \"drmt_organization_name\": null, \"route_name\": \"Valley Plaza/Bakersfield College\", \"cutoff2\": 40, \"cutoff\": 2}, {\"calitp_itp_id\": 126, \"trip_key\": -6363174918419727490, \"trip_id\": \"3751\", \"shape_id\": \"78\", \"route_id\": \"41\", \"service_hours\": 1.55, \"trip_first_departure_ts\": 53820, \"trip_last_arrival_ts\": 59400, \"departure_hour\": 14, \"time_of_day\": \"Midday\", \"p25\": 1.45, \"p50\": 1.45, \"p75\": 1.55, \"p50_trip\": 0, \"fastest_trip\": 0, \"car_duration_hours\": 0.8, \"competitive_route\": 1, \"bus_multiplier\": 1.94, \"bus_difference\": 45.0, \"num_trips\": 45, \"num_competitive\": 45, \"pct_trips_competitive\": 1.0, \"bus_difference_spread\": 12.0, \"route_group\": \"long\", \"max_trip_hrs\": 1.55, \"max_trip_route_group\": 1.55, \"below_cutoff\": 26, \"pct_below_cutoff\": 0.5777777777777777, \"name\": \"Golden Empire Transit District\", \"caltrans_district\": \"06 - Fresno\", \"drmt_organization_name\": null, \"route_name\": \"Valley Plaza/Bakersfield College\", \"cutoff2\": 40, \"cutoff\": 2}, {\"calitp_itp_id\": 126, \"trip_key\": -6879825001613676038, \"trip_id\": \"3744\", \"shape_id\": \"78\", \"route_id\": \"41\", \"service_hours\": 1.55, \"trip_first_departure_ts\": 41220, \"trip_last_arrival_ts\": 46800, \"departure_hour\": 11, \"time_of_day\": \"Midday\", \"p25\": 1.45, \"p50\": 1.45, \"p75\": 1.55, \"p50_trip\": 0, \"fastest_trip\": 0, \"car_duration_hours\": 0.8, \"competitive_route\": 1, \"bus_multiplier\": 1.94, \"bus_difference\": 45.0, \"num_trips\": 45, \"num_competitive\": 45, \"pct_trips_competitive\": 1.0, \"bus_difference_spread\": 12.0, \"route_group\": \"long\", \"max_trip_hrs\": 1.55, \"max_trip_route_group\": 1.55, \"below_cutoff\": 26, \"pct_below_cutoff\": 0.5777777777777777, \"name\": \"Golden Empire Transit District\", \"caltrans_district\": \"06 - Fresno\", \"drmt_organization_name\": null, \"route_name\": \"Valley Plaza/Bakersfield College\", \"cutoff2\": 40, \"cutoff\": 2}, {\"calitp_itp_id\": 126, \"trip_key\": -8905649343725834347, \"trip_id\": \"3736\", \"shape_id\": \"78\", \"route_id\": \"41\", \"service_hours\": 1.55, \"trip_first_departure_ts\": 26820, \"trip_last_arrival_ts\": 32400, \"departure_hour\": 7, \"time_of_day\": \"AM Peak\", \"p25\": 1.45, \"p50\": 1.45, \"p75\": 1.55, \"p50_trip\": 0, \"fastest_trip\": 0, \"car_duration_hours\": 0.8, \"competitive_route\": 1, \"bus_multiplier\": 1.94, \"bus_difference\": 45.0, \"num_trips\": 45, \"num_competitive\": 45, \"pct_trips_competitive\": 1.0, \"bus_difference_spread\": 12.0, \"route_group\": \"long\", \"max_trip_hrs\": 1.55, \"max_trip_route_group\": 1.55, \"below_cutoff\": 26, \"pct_below_cutoff\": 0.5777777777777777, \"name\": \"Golden Empire Transit District\", \"caltrans_district\": \"06 - Fresno\", \"drmt_organization_name\": null, \"route_name\": \"Valley Plaza/Bakersfield College\", \"cutoff2\": 40, \"cutoff\": 2}, {\"calitp_itp_id\": 126, \"trip_key\": 5215908523642987416, \"trip_id\": \"3739\", \"shape_id\": \"78\", \"route_id\": \"41\", \"service_hours\": 1.55, \"trip_first_departure_ts\": 32220, \"trip_last_arrival_ts\": 37800, \"departure_hour\": 8, \"time_of_day\": \"AM Peak\", \"p25\": 1.45, \"p50\": 1.45, \"p75\": 1.55, \"p50_trip\": 0, \"fastest_trip\": 0, \"car_duration_hours\": 0.8, \"competitive_route\": 1, \"bus_multiplier\": 1.94, \"bus_difference\": 45.0, \"num_trips\": 45, \"num_competitive\": 45, \"pct_trips_competitive\": 1.0, \"bus_difference_spread\": 12.0, \"route_group\": \"long\", \"max_trip_hrs\": 1.55, \"max_trip_route_group\": 1.55, \"below_cutoff\": 26, \"pct_below_cutoff\": 0.5777777777777777, \"name\": \"Golden Empire Transit District\", \"caltrans_district\": \"06 - Fresno\", \"drmt_organization_name\": null, \"route_name\": \"Valley Plaza/Bakersfield College\", \"cutoff2\": 40, \"cutoff\": 2}, {\"calitp_itp_id\": 126, \"trip_key\": -8074230223285233480, \"trip_id\": \"3742\", \"shape_id\": \"78\", \"route_id\": \"41\", \"service_hours\": 1.55, \"trip_first_departure_ts\": 37620, \"trip_last_arrival_ts\": 43200, \"departure_hour\": 10, \"time_of_day\": \"Midday\", \"p25\": 1.45, \"p50\": 1.45, \"p75\": 1.55, \"p50_trip\": 0, \"fastest_trip\": 0, \"car_duration_hours\": 0.8, \"competitive_route\": 1, \"bus_multiplier\": 1.94, \"bus_difference\": 45.0, \"num_trips\": 45, \"num_competitive\": 45, \"pct_trips_competitive\": 1.0, \"bus_difference_spread\": 12.0, \"route_group\": \"long\", \"max_trip_hrs\": 1.55, \"max_trip_route_group\": 1.55, \"below_cutoff\": 26, \"pct_below_cutoff\": 0.5777777777777777, \"name\": \"Golden Empire Transit District\", \"caltrans_district\": \"06 - Fresno\", \"drmt_organization_name\": null, \"route_name\": \"Valley Plaza/Bakersfield College\", \"cutoff2\": 40, \"cutoff\": 2}, {\"calitp_itp_id\": 126, \"trip_key\": -4382476451098257507, \"trip_id\": \"3735\", \"shape_id\": \"78\", \"route_id\": \"41\", \"service_hours\": 1.55, \"trip_first_departure_ts\": 25020, \"trip_last_arrival_ts\": 30600, \"departure_hour\": 6, \"time_of_day\": \"Owl Service\", \"p25\": 1.45, \"p50\": 1.45, \"p75\": 1.55, \"p50_trip\": 0, \"fastest_trip\": 0, \"car_duration_hours\": 0.8, \"competitive_route\": 1, \"bus_multiplier\": 1.94, \"bus_difference\": 45.0, \"num_trips\": 45, \"num_competitive\": 45, \"pct_trips_competitive\": 1.0, \"bus_difference_spread\": 12.0, \"route_group\": \"long\", \"max_trip_hrs\": 1.55, \"max_trip_route_group\": 1.55, \"below_cutoff\": 26, \"pct_below_cutoff\": 0.5777777777777777, \"name\": \"Golden Empire Transit District\", \"caltrans_district\": \"06 - Fresno\", \"drmt_organization_name\": null, \"route_name\": \"Valley Plaza/Bakersfield College\", \"cutoff2\": 40, \"cutoff\": 2}, {\"calitp_itp_id\": 126, \"trip_key\": -1118453596606840101, \"trip_id\": \"3737\", \"shape_id\": \"78\", \"route_id\": \"41\", \"service_hours\": 1.55, \"trip_first_departure_ts\": 28620, \"trip_last_arrival_ts\": 34200, \"departure_hour\": 7, \"time_of_day\": \"AM Peak\", \"p25\": 1.45, \"p50\": 1.45, \"p75\": 1.55, \"p50_trip\": 0, \"fastest_trip\": 0, \"car_duration_hours\": 0.8, \"competitive_route\": 1, \"bus_multiplier\": 1.94, \"bus_difference\": 45.0, \"num_trips\": 45, \"num_competitive\": 45, \"pct_trips_competitive\": 1.0, \"bus_difference_spread\": 12.0, \"route_group\": \"long\", \"max_trip_hrs\": 1.55, \"max_trip_route_group\": 1.55, \"below_cutoff\": 26, \"pct_below_cutoff\": 0.5777777777777777, \"name\": \"Golden Empire Transit District\", \"caltrans_district\": \"06 - Fresno\", \"drmt_organization_name\": null, \"route_name\": \"Valley Plaza/Bakersfield College\", \"cutoff2\": 40, \"cutoff\": 2}, {\"calitp_itp_id\": 126, \"trip_key\": 9130605149217231437, \"trip_id\": \"3753\", \"shape_id\": \"78\", \"route_id\": \"41\", \"service_hours\": 1.55, \"trip_first_departure_ts\": 57420, \"trip_last_arrival_ts\": 63000, \"departure_hour\": 15, \"time_of_day\": \"Midday\", \"p25\": 1.45, \"p50\": 1.45, \"p75\": 1.55, \"p50_trip\": 0, \"fastest_trip\": 0, \"car_duration_hours\": 0.8, \"competitive_route\": 1, \"bus_multiplier\": 1.94, \"bus_difference\": 45.0, \"num_trips\": 45, \"num_competitive\": 45, \"pct_trips_competitive\": 1.0, \"bus_difference_spread\": 12.0, \"route_group\": \"long\", \"max_trip_hrs\": 1.55, \"max_trip_route_group\": 1.55, \"below_cutoff\": 26, \"pct_below_cutoff\": 0.5777777777777777, \"name\": \"Golden Empire Transit District\", \"caltrans_district\": \"06 - Fresno\", \"drmt_organization_name\": null, \"route_name\": \"Valley Plaza/Bakersfield College\", \"cutoff2\": 40, \"cutoff\": 2}, {\"calitp_itp_id\": 126, \"trip_key\": 2968404579104872588, \"trip_id\": \"3743\", \"shape_id\": \"78\", \"route_id\": \"41\", \"service_hours\": 1.55, \"trip_first_departure_ts\": 39420, \"trip_last_arrival_ts\": 45000, \"departure_hour\": 10, \"time_of_day\": \"Midday\", \"p25\": 1.45, \"p50\": 1.45, \"p75\": 1.55, \"p50_trip\": 0, \"fastest_trip\": 0, \"car_duration_hours\": 0.8, \"competitive_route\": 1, \"bus_multiplier\": 1.94, \"bus_difference\": 45.0, \"num_trips\": 45, \"num_competitive\": 45, \"pct_trips_competitive\": 1.0, \"bus_difference_spread\": 12.0, \"route_group\": \"long\", \"max_trip_hrs\": 1.55, \"max_trip_route_group\": 1.55, \"below_cutoff\": 26, \"pct_below_cutoff\": 0.5777777777777777, \"name\": \"Golden Empire Transit District\", \"caltrans_district\": \"06 - Fresno\", \"drmt_organization_name\": null, \"route_name\": \"Valley Plaza/Bakersfield College\", \"cutoff2\": 40, \"cutoff\": 2}, {\"calitp_itp_id\": 126, \"trip_key\": 3019438299359060180, \"trip_id\": \"3752\", \"shape_id\": \"78\", \"route_id\": \"41\", \"service_hours\": 1.55, \"trip_first_departure_ts\": 55620, \"trip_last_arrival_ts\": 61200, \"departure_hour\": 15, \"time_of_day\": \"Midday\", \"p25\": 1.45, \"p50\": 1.45, \"p75\": 1.55, \"p50_trip\": 0, \"fastest_trip\": 0, \"car_duration_hours\": 0.8, \"competitive_route\": 1, \"bus_multiplier\": 1.94, \"bus_difference\": 45.0, \"num_trips\": 45, \"num_competitive\": 45, \"pct_trips_competitive\": 1.0, \"bus_difference_spread\": 12.0, \"route_group\": \"long\", \"max_trip_hrs\": 1.55, \"max_trip_route_group\": 1.55, \"below_cutoff\": 26, \"pct_below_cutoff\": 0.5777777777777777, \"name\": \"Golden Empire Transit District\", \"caltrans_district\": \"06 - Fresno\", \"drmt_organization_name\": null, \"route_name\": \"Valley Plaza/Bakersfield College\", \"cutoff2\": 40, \"cutoff\": 2}, {\"calitp_itp_id\": 126, \"trip_key\": 4529126544370445946, \"trip_id\": \"3749\", \"shape_id\": \"78\", \"route_id\": \"41\", \"service_hours\": 1.55, \"trip_first_departure_ts\": 50220, \"trip_last_arrival_ts\": 55800, \"departure_hour\": 13, \"time_of_day\": \"Midday\", \"p25\": 1.45, \"p50\": 1.45, \"p75\": 1.55, \"p50_trip\": 0, \"fastest_trip\": 0, \"car_duration_hours\": 0.8, \"competitive_route\": 1, \"bus_multiplier\": 1.94, \"bus_difference\": 45.0, \"num_trips\": 45, \"num_competitive\": 45, \"pct_trips_competitive\": 1.0, \"bus_difference_spread\": 12.0, \"route_group\": \"long\", \"max_trip_hrs\": 1.55, \"max_trip_route_group\": 1.55, \"below_cutoff\": 26, \"pct_below_cutoff\": 0.5777777777777777, \"name\": \"Golden Empire Transit District\", \"caltrans_district\": \"06 - Fresno\", \"drmt_organization_name\": null, \"route_name\": \"Valley Plaza/Bakersfield College\", \"cutoff2\": 40, \"cutoff\": 2}, {\"calitp_itp_id\": 126, \"trip_key\": -5362118131542335213, \"trip_id\": \"3741\", \"shape_id\": \"78\", \"route_id\": \"41\", \"service_hours\": 1.55, \"trip_first_departure_ts\": 35820, \"trip_last_arrival_ts\": 41400, \"departure_hour\": 9, \"time_of_day\": \"AM Peak\", \"p25\": 1.45, \"p50\": 1.45, \"p75\": 1.55, \"p50_trip\": 0, \"fastest_trip\": 0, \"car_duration_hours\": 0.8, \"competitive_route\": 1, \"bus_multiplier\": 1.94, \"bus_difference\": 45.0, \"num_trips\": 45, \"num_competitive\": 45, \"pct_trips_competitive\": 1.0, \"bus_difference_spread\": 12.0, \"route_group\": \"long\", \"max_trip_hrs\": 1.55, \"max_trip_route_group\": 1.55, \"below_cutoff\": 26, \"pct_below_cutoff\": 0.5777777777777777, \"name\": \"Golden Empire Transit District\", \"caltrans_district\": \"06 - Fresno\", \"drmt_organization_name\": null, \"route_name\": \"Valley Plaza/Bakersfield College\", \"cutoff2\": 40, \"cutoff\": 2}, {\"calitp_itp_id\": 126, \"trip_key\": -6464963909112186485, \"trip_id\": \"3738\", \"shape_id\": \"78\", \"route_id\": \"41\", \"service_hours\": 1.55, \"trip_first_departure_ts\": 30420, \"trip_last_arrival_ts\": 36000, \"departure_hour\": 8, \"time_of_day\": \"AM Peak\", \"p25\": 1.45, \"p50\": 1.45, \"p75\": 1.55, \"p50_trip\": 0, \"fastest_trip\": 0, \"car_duration_hours\": 0.8, \"competitive_route\": 1, \"bus_multiplier\": 1.94, \"bus_difference\": 45.0, \"num_trips\": 45, \"num_competitive\": 45, \"pct_trips_competitive\": 1.0, \"bus_difference_spread\": 12.0, \"route_group\": \"long\", \"max_trip_hrs\": 1.55, \"max_trip_route_group\": 1.55, \"below_cutoff\": 26, \"pct_below_cutoff\": 0.5777777777777777, \"name\": \"Golden Empire Transit District\", \"caltrans_district\": \"06 - Fresno\", \"drmt_organization_name\": null, \"route_name\": \"Valley Plaza/Bakersfield College\", \"cutoff2\": 40, \"cutoff\": 2}, {\"calitp_itp_id\": 126, \"trip_key\": 2067234379860168420, \"trip_id\": \"3748\", \"shape_id\": \"78\", \"route_id\": \"41\", \"service_hours\": 1.55, \"trip_first_departure_ts\": 48420, \"trip_last_arrival_ts\": 54000, \"departure_hour\": 13, \"time_of_day\": \"Midday\", \"p25\": 1.45, \"p50\": 1.45, \"p75\": 1.55, \"p50_trip\": 0, \"fastest_trip\": 0, \"car_duration_hours\": 0.8, \"competitive_route\": 1, \"bus_multiplier\": 1.94, \"bus_difference\": 45.0, \"num_trips\": 45, \"num_competitive\": 45, \"pct_trips_competitive\": 1.0, \"bus_difference_spread\": 12.0, \"route_group\": \"long\", \"max_trip_hrs\": 1.55, \"max_trip_route_group\": 1.55, \"below_cutoff\": 26, \"pct_below_cutoff\": 0.5777777777777777, \"name\": \"Golden Empire Transit District\", \"caltrans_district\": \"06 - Fresno\", \"drmt_organization_name\": null, \"route_name\": \"Valley Plaza/Bakersfield College\", \"cutoff2\": 40, \"cutoff\": 2}, {\"calitp_itp_id\": 126, \"trip_key\": -211985334436261053, \"trip_id\": \"3745\", \"shape_id\": \"78\", \"route_id\": \"41\", \"service_hours\": 1.55, \"trip_first_departure_ts\": 43020, \"trip_last_arrival_ts\": 48600, \"departure_hour\": 11, \"time_of_day\": \"Midday\", \"p25\": 1.45, \"p50\": 1.45, \"p75\": 1.55, \"p50_trip\": 0, \"fastest_trip\": 0, \"car_duration_hours\": 0.8, \"competitive_route\": 1, \"bus_multiplier\": 1.94, \"bus_difference\": 45.0, \"num_trips\": 45, \"num_competitive\": 45, \"pct_trips_competitive\": 1.0, \"bus_difference_spread\": 12.0, \"route_group\": \"long\", \"max_trip_hrs\": 1.55, \"max_trip_route_group\": 1.55, \"below_cutoff\": 26, \"pct_below_cutoff\": 0.5777777777777777, \"name\": \"Golden Empire Transit District\", \"caltrans_district\": \"06 - Fresno\", \"drmt_organization_name\": null, \"route_name\": \"Valley Plaza/Bakersfield College\", \"cutoff2\": 40, \"cutoff\": 2}, {\"calitp_itp_id\": 126, \"trip_key\": 8292425056513114435, \"trip_id\": \"3747\", \"shape_id\": \"78\", \"route_id\": \"41\", \"service_hours\": 1.55, \"trip_first_departure_ts\": 46620, \"trip_last_arrival_ts\": 52200, \"departure_hour\": 12, \"time_of_day\": \"Midday\", \"p25\": 1.45, \"p50\": 1.45, \"p75\": 1.55, \"p50_trip\": 0, \"fastest_trip\": 0, \"car_duration_hours\": 0.8, \"competitive_route\": 1, \"bus_multiplier\": 1.94, \"bus_difference\": 45.0, \"num_trips\": 45, \"num_competitive\": 45, \"pct_trips_competitive\": 1.0, \"bus_difference_spread\": 12.0, \"route_group\": \"long\", \"max_trip_hrs\": 1.55, \"max_trip_route_group\": 1.55, \"below_cutoff\": 26, \"pct_below_cutoff\": 0.5777777777777777, \"name\": \"Golden Empire Transit District\", \"caltrans_district\": \"06 - Fresno\", \"drmt_organization_name\": null, \"route_name\": \"Valley Plaza/Bakersfield College\", \"cutoff2\": 40, \"cutoff\": 2}, {\"calitp_itp_id\": 126, \"trip_key\": -2937402900677665452, \"trip_id\": \"3750\", \"shape_id\": \"78\", \"route_id\": \"41\", \"service_hours\": 1.55, \"trip_first_departure_ts\": 52020, \"trip_last_arrival_ts\": 57600, \"departure_hour\": 14, \"time_of_day\": \"Midday\", \"p25\": 1.45, \"p50\": 1.45, \"p75\": 1.55, \"p50_trip\": 0, \"fastest_trip\": 0, \"car_duration_hours\": 0.8, \"competitive_route\": 1, \"bus_multiplier\": 1.94, \"bus_difference\": 45.0, \"num_trips\": 45, \"num_competitive\": 45, \"pct_trips_competitive\": 1.0, \"bus_difference_spread\": 12.0, \"route_group\": \"long\", \"max_trip_hrs\": 1.55, \"max_trip_route_group\": 1.55, \"below_cutoff\": 26, \"pct_below_cutoff\": 0.5777777777777777, \"name\": \"Golden Empire Transit District\", \"caltrans_district\": \"06 - Fresno\", \"drmt_organization_name\": null, \"route_name\": \"Valley Plaza/Bakersfield College\", \"cutoff2\": 40, \"cutoff\": 2}, {\"calitp_itp_id\": 126, \"trip_key\": -942775710692938146, \"trip_id\": \"3740\", \"shape_id\": \"78\", \"route_id\": \"41\", \"service_hours\": 1.55, \"trip_first_departure_ts\": 34020, \"trip_last_arrival_ts\": 39600, \"departure_hour\": 9, \"time_of_day\": \"AM Peak\", \"p25\": 1.45, \"p50\": 1.45, \"p75\": 1.55, \"p50_trip\": 0, \"fastest_trip\": 0, \"car_duration_hours\": 0.8, \"competitive_route\": 1, \"bus_multiplier\": 1.94, \"bus_difference\": 45.0, \"num_trips\": 45, \"num_competitive\": 45, \"pct_trips_competitive\": 1.0, \"bus_difference_spread\": 12.0, \"route_group\": \"long\", \"max_trip_hrs\": 1.55, \"max_trip_route_group\": 1.55, \"below_cutoff\": 26, \"pct_below_cutoff\": 0.5777777777777777, \"name\": \"Golden Empire Transit District\", \"caltrans_district\": \"06 - Fresno\", \"drmt_organization_name\": null, \"route_name\": \"Valley Plaza/Bakersfield College\", \"cutoff2\": 40, \"cutoff\": 2}]}}, {\"mode\": \"vega-lite\"});\n",
       "</script>"
      ],
      "text/plain": [
       "alt.FacetChart(...)"
      ]
     },
     "metadata": {},
     "output_type": "display_data"
    },
    {
     "data": {
      "text/html": [
       "\n",
       "<div id=\"altair-viz-e0255531a13240c9b3032d4c684c4c8c\"></div>\n",
       "<script type=\"text/javascript\">\n",
       "  var VEGA_DEBUG = (typeof VEGA_DEBUG == \"undefined\") ? {} : VEGA_DEBUG;\n",
       "  (function(spec, embedOpt){\n",
       "    let outputDiv = document.currentScript.previousElementSibling;\n",
       "    if (outputDiv.id !== \"altair-viz-e0255531a13240c9b3032d4c684c4c8c\") {\n",
       "      outputDiv = document.getElementById(\"altair-viz-e0255531a13240c9b3032d4c684c4c8c\");\n",
       "    }\n",
       "    const paths = {\n",
       "      \"vega\": \"https://cdn.jsdelivr.net/npm//vega@5?noext\",\n",
       "      \"vega-lib\": \"https://cdn.jsdelivr.net/npm//vega-lib?noext\",\n",
       "      \"vega-lite\": \"https://cdn.jsdelivr.net/npm//vega-lite@4.17.0?noext\",\n",
       "      \"vega-embed\": \"https://cdn.jsdelivr.net/npm//vega-embed@6?noext\",\n",
       "    };\n",
       "\n",
       "    function maybeLoadScript(lib, version) {\n",
       "      var key = `${lib.replace(\"-\", \"\")}_version`;\n",
       "      return (VEGA_DEBUG[key] == version) ?\n",
       "        Promise.resolve(paths[lib]) :\n",
       "        new Promise(function(resolve, reject) {\n",
       "          var s = document.createElement('script');\n",
       "          document.getElementsByTagName(\"head\")[0].appendChild(s);\n",
       "          s.async = true;\n",
       "          s.onload = () => {\n",
       "            VEGA_DEBUG[key] = version;\n",
       "            return resolve(paths[lib]);\n",
       "          };\n",
       "          s.onerror = () => reject(`Error loading script: ${paths[lib]}`);\n",
       "          s.src = paths[lib];\n",
       "        });\n",
       "    }\n",
       "\n",
       "    function showError(err) {\n",
       "      outputDiv.innerHTML = `<div class=\"error\" style=\"color:red;\">${err}</div>`;\n",
       "      throw err;\n",
       "    }\n",
       "\n",
       "    function displayChart(vegaEmbed) {\n",
       "      vegaEmbed(outputDiv, spec, embedOpt)\n",
       "        .catch(err => showError(`Javascript Error: ${err.message}<br>This usually means there's a typo in your chart specification. See the javascript console for the full traceback.`));\n",
       "    }\n",
       "\n",
       "    if(typeof define === \"function\" && define.amd) {\n",
       "      requirejs.config({paths});\n",
       "      require([\"vega-embed\"], displayChart, err => showError(`Error loading script: ${err.message}`));\n",
       "    } else {\n",
       "      maybeLoadScript(\"vega\", \"5\")\n",
       "        .then(() => maybeLoadScript(\"vega-lite\", \"4.17.0\"))\n",
       "        .then(() => maybeLoadScript(\"vega-embed\", \"6\"))\n",
       "        .catch(showError)\n",
       "        .then(() => displayChart(vegaEmbed));\n",
       "    }\n",
       "  })({\"config\": {\"view\": {\"continuousWidth\": 400, \"continuousHeight\": 300, \"stroke\": null}, \"facet\": {\"spacing\": 0}}, \"data\": {\"name\": \"data-acee32adf17cb02f4d9df30898fbdb2c\"}, \"facet\": {\"column\": {\"field\": \"route_id\", \"sort\": [\"41\"], \"title\": \"Route ID\", \"type\": \"nominal\"}}, \"spec\": {\"layer\": [{\"mark\": \"rule\", \"encoding\": {\"color\": {\"value\": \"black\"}, \"y\": {\"field\": \"cutoff\", \"type\": \"quantitative\"}}, \"selection\": {\"selector004\": {\"type\": \"interval\", \"bind\": \"scales\", \"encodings\": [\"x\", \"y\"]}}}, {\"mark\": {\"type\": \"rule\", \"strokeDash\": [3, 3]}, \"encoding\": {\"color\": {\"value\": \"#323434\"}, \"y\": {\"field\": \"cutoff2\", \"type\": \"quantitative\"}}}, {\"mark\": {\"type\": \"point\", \"opacity\": 0.65, \"size\": 12, \"strokeWidth\": 1.1}, \"encoding\": {\"color\": {\"field\": \"time_of_day\", \"scale\": {\"range\": [\"#136C97\", \"#E16B26\", \"#F6BF16\", \"#00896B\", \"#7790A3\", \"#5B559C\"]}, \"sort\": [\"AM Peak\", \"Midday\", \"PM Peak\", \"Owl Service\"], \"title\": \"Time of Day\", \"type\": \"nominal\"}, \"tooltip\": [{\"field\": \"route_id\", \"type\": \"nominal\"}, {\"field\": \"route_name\", \"type\": \"nominal\"}, {\"field\": \"trip_id\", \"type\": \"nominal\"}, {\"field\": \"service_hours\", \"type\": \"quantitative\"}, {\"field\": \"car_duration_hours\", \"type\": \"quantitative\"}, {\"field\": \"bus_multiplier\", \"type\": \"quantitative\"}, {\"field\": \"bus_difference\", \"type\": \"quantitative\"}, {\"field\": \"num_trips\", \"type\": \"quantitative\"}, {\"field\": \"num_competitive\", \"type\": \"quantitative\"}, {\"field\": \"pct_trips_competitive\", \"type\": \"quantitative\"}, {\"field\": \"p25\", \"type\": \"quantitative\"}, {\"field\": \"p50\", \"type\": \"quantitative\"}, {\"field\": \"p75\", \"type\": \"quantitative\"}], \"x\": {\"axis\": {\"grid\": false, \"labels\": false, \"ticks\": true, \"values\": [0]}, \"field\": \"jitter\", \"scale\": {}, \"title\": null, \"type\": \"quantitative\"}, \"y\": {\"field\": \"bus_difference\", \"scale\": {\"domain\": [-5, 45.0]}, \"title\": \"Difference in Bus to Car Travel Time (min)\", \"type\": \"quantitative\"}}, \"transform\": [{\"calculate\": \"sqrt(-2*log(random()))*cos(2*PI*random())\", \"as\": \"jitter\"}], \"width\": 50}, {\"layer\": [{\"mark\": {\"type\": \"point\", \"opacity\": 0.6, \"size\": 20, \"strokeWidth\": 1.3}, \"encoding\": {\"color\": {\"value\": \"#323434\"}, \"y\": {\"field\": \"bus_difference\", \"type\": \"quantitative\"}}, \"transform\": [{\"filter\": \"(datum.p50_trip === 1)\"}]}, {\"mark\": {\"type\": \"text\", \"align\": \"center\", \"baseline\": \"middle\"}, \"encoding\": {\"color\": {\"value\": \"black\"}, \"text\": {\"field\": \"pct_trips_competitive\", \"format\": \".0%\", \"type\": \"quantitative\"}, \"tooltip\": [{\"field\": \"route_id\", \"type\": \"nominal\"}, {\"field\": \"route_name\", \"type\": \"nominal\"}, {\"field\": \"trip_id\", \"type\": \"nominal\"}, {\"field\": \"service_hours\", \"type\": \"quantitative\"}, {\"field\": \"car_duration_hours\", \"type\": \"quantitative\"}, {\"field\": \"bus_multiplier\", \"type\": \"quantitative\"}, {\"field\": \"bus_difference\", \"type\": \"quantitative\"}, {\"field\": \"num_trips\", \"type\": \"quantitative\"}, {\"field\": \"num_competitive\", \"type\": \"quantitative\"}, {\"field\": \"pct_trips_competitive\", \"type\": \"quantitative\"}, {\"field\": \"p25\", \"type\": \"quantitative\"}, {\"field\": \"p50\", \"type\": \"quantitative\"}, {\"field\": \"p75\", \"type\": \"quantitative\"}], \"x\": {\"value\": 30}, \"y\": {\"value\": 15}}, \"transform\": [{\"calculate\": \"sqrt(-2*log(random()))*cos(2*PI*random())\", \"as\": \"jitter\"}, {\"filter\": \"(datum.fastest_trip === 1)\"}]}]}]}, \"resolve\": {\"scale\": {\"y\": \"shared\"}}, \"title\": \"Difference in Bus to Car Travel Time (min)\", \"$schema\": \"https://vega.github.io/schema/vega-lite/v4.17.0.json\", \"datasets\": {\"data-acee32adf17cb02f4d9df30898fbdb2c\": [{\"calitp_itp_id\": 126, \"trip_key\": 5776538052279883279, \"trip_id\": \"1672\", \"shape_id\": \"79\", \"route_id\": \"41\", \"service_hours\": 1.35, \"trip_first_departure_ts\": 63000, \"trip_last_arrival_ts\": 67860, \"departure_hour\": 17, \"time_of_day\": \"PM Peak\", \"p25\": 1.45, \"p50\": 1.45, \"p75\": 1.55, \"p50_trip\": 0, \"fastest_trip\": 1, \"car_duration_hours\": 0.8, \"competitive_route\": 1, \"bus_multiplier\": 1.69, \"bus_difference\": 33.0, \"num_trips\": 45, \"num_competitive\": 45, \"pct_trips_competitive\": 1.0, \"bus_difference_spread\": 12.0, \"route_group\": \"long\", \"max_trip_hrs\": 1.55, \"max_trip_route_group\": 1.55, \"below_cutoff\": 26, \"pct_below_cutoff\": 0.5777777777777777, \"name\": \"Golden Empire Transit District\", \"caltrans_district\": \"06 - Fresno\", \"drmt_organization_name\": null, \"route_name\": \"Valley Plaza/Bakersfield College\", \"cutoff2\": 40, \"cutoff\": 0}, {\"calitp_itp_id\": 126, \"trip_key\": 6469954698833813641, \"trip_id\": \"1671\", \"shape_id\": \"79\", \"route_id\": \"41\", \"service_hours\": 1.35, \"trip_first_departure_ts\": 61200, \"trip_last_arrival_ts\": 66060, \"departure_hour\": 17, \"time_of_day\": \"PM Peak\", \"p25\": 1.45, \"p50\": 1.45, \"p75\": 1.55, \"p50_trip\": 0, \"fastest_trip\": 0, \"car_duration_hours\": 0.8, \"competitive_route\": 1, \"bus_multiplier\": 1.69, \"bus_difference\": 33.0, \"num_trips\": 45, \"num_competitive\": 45, \"pct_trips_competitive\": 1.0, \"bus_difference_spread\": 12.0, \"route_group\": \"long\", \"max_trip_hrs\": 1.55, \"max_trip_route_group\": 1.55, \"below_cutoff\": 26, \"pct_below_cutoff\": 0.5777777777777777, \"name\": \"Golden Empire Transit District\", \"caltrans_district\": \"06 - Fresno\", \"drmt_organization_name\": null, \"route_name\": \"Valley Plaza/Bakersfield College\", \"cutoff2\": 40, \"cutoff\": 0}, {\"calitp_itp_id\": 126, \"trip_key\": -4413477114220239056, \"trip_id\": \"3754\", \"shape_id\": \"78\", \"route_id\": \"41\", \"service_hours\": 1.43, \"trip_first_departure_ts\": 59220, \"trip_last_arrival_ts\": 64380, \"departure_hour\": 16, \"time_of_day\": \"Midday\", \"p25\": 1.45, \"p50\": 1.45, \"p75\": 1.55, \"p50_trip\": 0, \"fastest_trip\": 0, \"car_duration_hours\": 0.8, \"competitive_route\": 1, \"bus_multiplier\": 1.79, \"bus_difference\": 37.8, \"num_trips\": 45, \"num_competitive\": 45, \"pct_trips_competitive\": 1.0, \"bus_difference_spread\": 12.0, \"route_group\": \"long\", \"max_trip_hrs\": 1.55, \"max_trip_route_group\": 1.55, \"below_cutoff\": 26, \"pct_below_cutoff\": 0.5777777777777777, \"name\": \"Golden Empire Transit District\", \"caltrans_district\": \"06 - Fresno\", \"drmt_organization_name\": null, \"route_name\": \"Valley Plaza/Bakersfield College\", \"cutoff2\": 40, \"cutoff\": 0}, {\"calitp_itp_id\": 126, \"trip_key\": -695124153587898879, \"trip_id\": \"3756\", \"shape_id\": \"78\", \"route_id\": \"41\", \"service_hours\": 1.43, \"trip_first_departure_ts\": 62820, \"trip_last_arrival_ts\": 67980, \"departure_hour\": 17, \"time_of_day\": \"PM Peak\", \"p25\": 1.45, \"p50\": 1.45, \"p75\": 1.55, \"p50_trip\": 0, \"fastest_trip\": 0, \"car_duration_hours\": 0.8, \"competitive_route\": 1, \"bus_multiplier\": 1.79, \"bus_difference\": 37.8, \"num_trips\": 45, \"num_competitive\": 45, \"pct_trips_competitive\": 1.0, \"bus_difference_spread\": 12.0, \"route_group\": \"long\", \"max_trip_hrs\": 1.55, \"max_trip_route_group\": 1.55, \"below_cutoff\": 26, \"pct_below_cutoff\": 0.5777777777777777, \"name\": \"Golden Empire Transit District\", \"caltrans_district\": \"06 - Fresno\", \"drmt_organization_name\": null, \"route_name\": \"Valley Plaza/Bakersfield College\", \"cutoff2\": 40, \"cutoff\": 0}, {\"calitp_itp_id\": 126, \"trip_key\": -1731104395915060672, \"trip_id\": \"3755\", \"shape_id\": \"78\", \"route_id\": \"41\", \"service_hours\": 1.43, \"trip_first_departure_ts\": 61020, \"trip_last_arrival_ts\": 66180, \"departure_hour\": 16, \"time_of_day\": \"Midday\", \"p25\": 1.45, \"p50\": 1.45, \"p75\": 1.55, \"p50_trip\": 0, \"fastest_trip\": 0, \"car_duration_hours\": 0.8, \"competitive_route\": 1, \"bus_multiplier\": 1.79, \"bus_difference\": 37.8, \"num_trips\": 45, \"num_competitive\": 45, \"pct_trips_competitive\": 1.0, \"bus_difference_spread\": 12.0, \"route_group\": \"long\", \"max_trip_hrs\": 1.55, \"max_trip_route_group\": 1.55, \"below_cutoff\": 26, \"pct_below_cutoff\": 0.5777777777777777, \"name\": \"Golden Empire Transit District\", \"caltrans_district\": \"06 - Fresno\", \"drmt_organization_name\": null, \"route_name\": \"Valley Plaza/Bakersfield College\", \"cutoff2\": 40, \"cutoff\": 0}, {\"calitp_itp_id\": 126, \"trip_key\": 6389089163886931171, \"trip_id\": \"3757\", \"shape_id\": \"78\", \"route_id\": \"41\", \"service_hours\": 1.43, \"trip_first_departure_ts\": 64620, \"trip_last_arrival_ts\": 69780, \"departure_hour\": 17, \"time_of_day\": \"PM Peak\", \"p25\": 1.45, \"p50\": 1.45, \"p75\": 1.55, \"p50_trip\": 0, \"fastest_trip\": 0, \"car_duration_hours\": 0.8, \"competitive_route\": 1, \"bus_multiplier\": 1.79, \"bus_difference\": 37.8, \"num_trips\": 45, \"num_competitive\": 45, \"pct_trips_competitive\": 1.0, \"bus_difference_spread\": 12.0, \"route_group\": \"long\", \"max_trip_hrs\": 1.55, \"max_trip_route_group\": 1.55, \"below_cutoff\": 26, \"pct_below_cutoff\": 0.5777777777777777, \"name\": \"Golden Empire Transit District\", \"caltrans_district\": \"06 - Fresno\", \"drmt_organization_name\": null, \"route_name\": \"Valley Plaza/Bakersfield College\", \"cutoff2\": 40, \"cutoff\": 0}, {\"calitp_itp_id\": 126, \"trip_key\": -5206940515578354684, \"trip_id\": \"1667\", \"shape_id\": \"79\", \"route_id\": \"41\", \"service_hours\": 1.45, \"trip_first_departure_ts\": 54000, \"trip_last_arrival_ts\": 59220, \"departure_hour\": 15, \"time_of_day\": \"Midday\", \"p25\": 1.45, \"p50\": 1.45, \"p75\": 1.55, \"p50_trip\": 1, \"fastest_trip\": 0, \"car_duration_hours\": 0.8, \"competitive_route\": 1, \"bus_multiplier\": 1.81, \"bus_difference\": 39.0, \"num_trips\": 45, \"num_competitive\": 45, \"pct_trips_competitive\": 1.0, \"bus_difference_spread\": 12.0, \"route_group\": \"long\", \"max_trip_hrs\": 1.55, \"max_trip_route_group\": 1.55, \"below_cutoff\": 26, \"pct_below_cutoff\": 0.5777777777777777, \"name\": \"Golden Empire Transit District\", \"caltrans_district\": \"06 - Fresno\", \"drmt_organization_name\": null, \"route_name\": \"Valley Plaza/Bakersfield College\", \"cutoff2\": 40, \"cutoff\": 0}, {\"calitp_itp_id\": 126, \"trip_key\": 7497108670509890795, \"trip_id\": \"3768\", \"shape_id\": \"79\", \"route_id\": \"41\", \"service_hours\": 1.45, \"trip_first_departure_ts\": 43200, \"trip_last_arrival_ts\": 48420, \"departure_hour\": 12, \"time_of_day\": \"Midday\", \"p25\": 1.45, \"p50\": 1.45, \"p75\": 1.55, \"p50_trip\": 1, \"fastest_trip\": 0, \"car_duration_hours\": 0.8, \"competitive_route\": 1, \"bus_multiplier\": 1.81, \"bus_difference\": 39.0, \"num_trips\": 45, \"num_competitive\": 45, \"pct_trips_competitive\": 1.0, \"bus_difference_spread\": 12.0, \"route_group\": \"long\", \"max_trip_hrs\": 1.55, \"max_trip_route_group\": 1.55, \"below_cutoff\": 26, \"pct_below_cutoff\": 0.5777777777777777, \"name\": \"Golden Empire Transit District\", \"caltrans_district\": \"06 - Fresno\", \"drmt_organization_name\": null, \"route_name\": \"Valley Plaza/Bakersfield College\", \"cutoff2\": 40, \"cutoff\": 0}, {\"calitp_itp_id\": 126, \"trip_key\": -2766104624036821072, \"trip_id\": \"1669\", \"shape_id\": \"79\", \"route_id\": \"41\", \"service_hours\": 1.45, \"trip_first_departure_ts\": 57600, \"trip_last_arrival_ts\": 62820, \"departure_hour\": 16, \"time_of_day\": \"Midday\", \"p25\": 1.45, \"p50\": 1.45, \"p75\": 1.55, \"p50_trip\": 1, \"fastest_trip\": 0, \"car_duration_hours\": 0.8, \"competitive_route\": 1, \"bus_multiplier\": 1.81, \"bus_difference\": 39.0, \"num_trips\": 45, \"num_competitive\": 45, \"pct_trips_competitive\": 1.0, \"bus_difference_spread\": 12.0, \"route_group\": \"long\", \"max_trip_hrs\": 1.55, \"max_trip_route_group\": 1.55, \"below_cutoff\": 26, \"pct_below_cutoff\": 0.5777777777777777, \"name\": \"Golden Empire Transit District\", \"caltrans_district\": \"06 - Fresno\", \"drmt_organization_name\": null, \"route_name\": \"Valley Plaza/Bakersfield College\", \"cutoff2\": 40, \"cutoff\": 0}, {\"calitp_itp_id\": 126, \"trip_key\": -2623109568593173716, \"trip_id\": \"1668\", \"shape_id\": \"79\", \"route_id\": \"41\", \"service_hours\": 1.45, \"trip_first_departure_ts\": 55800, \"trip_last_arrival_ts\": 61020, \"departure_hour\": 15, \"time_of_day\": \"Midday\", \"p25\": 1.45, \"p50\": 1.45, \"p75\": 1.55, \"p50_trip\": 1, \"fastest_trip\": 0, \"car_duration_hours\": 0.8, \"competitive_route\": 1, \"bus_multiplier\": 1.81, \"bus_difference\": 39.0, \"num_trips\": 45, \"num_competitive\": 45, \"pct_trips_competitive\": 1.0, \"bus_difference_spread\": 12.0, \"route_group\": \"long\", \"max_trip_hrs\": 1.55, \"max_trip_route_group\": 1.55, \"below_cutoff\": 26, \"pct_below_cutoff\": 0.5777777777777777, \"name\": \"Golden Empire Transit District\", \"caltrans_district\": \"06 - Fresno\", \"drmt_organization_name\": null, \"route_name\": \"Valley Plaza/Bakersfield College\", \"cutoff2\": 40, \"cutoff\": 0}, {\"calitp_itp_id\": 126, \"trip_key\": 4595739502092105579, \"trip_id\": \"3767\", \"shape_id\": \"79\", \"route_id\": \"41\", \"service_hours\": 1.45, \"trip_first_departure_ts\": 41400, \"trip_last_arrival_ts\": 46620, \"departure_hour\": 11, \"time_of_day\": \"Midday\", \"p25\": 1.45, \"p50\": 1.45, \"p75\": 1.55, \"p50_trip\": 1, \"fastest_trip\": 0, \"car_duration_hours\": 0.8, \"competitive_route\": 1, \"bus_multiplier\": 1.81, \"bus_difference\": 39.0, \"num_trips\": 45, \"num_competitive\": 45, \"pct_trips_competitive\": 1.0, \"bus_difference_spread\": 12.0, \"route_group\": \"long\", \"max_trip_hrs\": 1.55, \"max_trip_route_group\": 1.55, \"below_cutoff\": 26, \"pct_below_cutoff\": 0.5777777777777777, \"name\": \"Golden Empire Transit District\", \"caltrans_district\": \"06 - Fresno\", \"drmt_organization_name\": null, \"route_name\": \"Valley Plaza/Bakersfield College\", \"cutoff2\": 40, \"cutoff\": 0}, {\"calitp_itp_id\": 126, \"trip_key\": -2929062652118405266, \"trip_id\": \"1670\", \"shape_id\": \"79\", \"route_id\": \"41\", \"service_hours\": 1.45, \"trip_first_departure_ts\": 59400, \"trip_last_arrival_ts\": 64620, \"departure_hour\": 16, \"time_of_day\": \"Midday\", \"p25\": 1.45, \"p50\": 1.45, \"p75\": 1.55, \"p50_trip\": 1, \"fastest_trip\": 0, \"car_duration_hours\": 0.8, \"competitive_route\": 1, \"bus_multiplier\": 1.81, \"bus_difference\": 39.0, \"num_trips\": 45, \"num_competitive\": 45, \"pct_trips_competitive\": 1.0, \"bus_difference_spread\": 12.0, \"route_group\": \"long\", \"max_trip_hrs\": 1.55, \"max_trip_route_group\": 1.55, \"below_cutoff\": 26, \"pct_below_cutoff\": 0.5777777777777777, \"name\": \"Golden Empire Transit District\", \"caltrans_district\": \"06 - Fresno\", \"drmt_organization_name\": null, \"route_name\": \"Valley Plaza/Bakersfield College\", \"cutoff2\": 40, \"cutoff\": 0}, {\"calitp_itp_id\": 126, \"trip_key\": 919333876661356962, \"trip_id\": \"3764\", \"shape_id\": \"79\", \"route_id\": \"41\", \"service_hours\": 1.45, \"trip_first_departure_ts\": 36000, \"trip_last_arrival_ts\": 41220, \"departure_hour\": 10, \"time_of_day\": \"Midday\", \"p25\": 1.45, \"p50\": 1.45, \"p75\": 1.55, \"p50_trip\": 1, \"fastest_trip\": 0, \"car_duration_hours\": 0.8, \"competitive_route\": 1, \"bus_multiplier\": 1.81, \"bus_difference\": 39.0, \"num_trips\": 45, \"num_competitive\": 45, \"pct_trips_competitive\": 1.0, \"bus_difference_spread\": 12.0, \"route_group\": \"long\", \"max_trip_hrs\": 1.55, \"max_trip_route_group\": 1.55, \"below_cutoff\": 26, \"pct_below_cutoff\": 0.5777777777777777, \"name\": \"Golden Empire Transit District\", \"caltrans_district\": \"06 - Fresno\", \"drmt_organization_name\": null, \"route_name\": \"Valley Plaza/Bakersfield College\", \"cutoff2\": 40, \"cutoff\": 0}, {\"calitp_itp_id\": 126, \"trip_key\": -1075485859789652750, \"trip_id\": \"1664\", \"shape_id\": \"79\", \"route_id\": \"41\", \"service_hours\": 1.45, \"trip_first_departure_ts\": 48600, \"trip_last_arrival_ts\": 53820, \"departure_hour\": 13, \"time_of_day\": \"Midday\", \"p25\": 1.45, \"p50\": 1.45, \"p75\": 1.55, \"p50_trip\": 1, \"fastest_trip\": 0, \"car_duration_hours\": 0.8, \"competitive_route\": 1, \"bus_multiplier\": 1.81, \"bus_difference\": 39.0, \"num_trips\": 45, \"num_competitive\": 45, \"pct_trips_competitive\": 1.0, \"bus_difference_spread\": 12.0, \"route_group\": \"long\", \"max_trip_hrs\": 1.55, \"max_trip_route_group\": 1.55, \"below_cutoff\": 26, \"pct_below_cutoff\": 0.5777777777777777, \"name\": \"Golden Empire Transit District\", \"caltrans_district\": \"06 - Fresno\", \"drmt_organization_name\": null, \"route_name\": \"Valley Plaza/Bakersfield College\", \"cutoff2\": 40, \"cutoff\": 0}, {\"calitp_itp_id\": 126, \"trip_key\": -52251744586674668, \"trip_id\": \"3759\", \"shape_id\": \"79\", \"route_id\": \"41\", \"service_hours\": 1.45, \"trip_first_departure_ts\": 27000, \"trip_last_arrival_ts\": 32220, \"departure_hour\": 7, \"time_of_day\": \"AM Peak\", \"p25\": 1.45, \"p50\": 1.45, \"p75\": 1.55, \"p50_trip\": 1, \"fastest_trip\": 0, \"car_duration_hours\": 0.8, \"competitive_route\": 1, \"bus_multiplier\": 1.81, \"bus_difference\": 39.0, \"num_trips\": 45, \"num_competitive\": 45, \"pct_trips_competitive\": 1.0, \"bus_difference_spread\": 12.0, \"route_group\": \"long\", \"max_trip_hrs\": 1.55, \"max_trip_route_group\": 1.55, \"below_cutoff\": 26, \"pct_below_cutoff\": 0.5777777777777777, \"name\": \"Golden Empire Transit District\", \"caltrans_district\": \"06 - Fresno\", \"drmt_organization_name\": null, \"route_name\": \"Valley Plaza/Bakersfield College\", \"cutoff2\": 40, \"cutoff\": 0}, {\"calitp_itp_id\": 126, \"trip_key\": -8632599654675507629, \"trip_id\": \"1665\", \"shape_id\": \"79\", \"route_id\": \"41\", \"service_hours\": 1.45, \"trip_first_departure_ts\": 50400, \"trip_last_arrival_ts\": 55620, \"departure_hour\": 14, \"time_of_day\": \"Midday\", \"p25\": 1.45, \"p50\": 1.45, \"p75\": 1.55, \"p50_trip\": 1, \"fastest_trip\": 0, \"car_duration_hours\": 0.8, \"competitive_route\": 1, \"bus_multiplier\": 1.81, \"bus_difference\": 39.0, \"num_trips\": 45, \"num_competitive\": 45, \"pct_trips_competitive\": 1.0, \"bus_difference_spread\": 12.0, \"route_group\": \"long\", \"max_trip_hrs\": 1.55, \"max_trip_route_group\": 1.55, \"below_cutoff\": 26, \"pct_below_cutoff\": 0.5777777777777777, \"name\": \"Golden Empire Transit District\", \"caltrans_district\": \"06 - Fresno\", \"drmt_organization_name\": null, \"route_name\": \"Valley Plaza/Bakersfield College\", \"cutoff2\": 40, \"cutoff\": 0}, {\"calitp_itp_id\": 126, \"trip_key\": -4313911544704650402, \"trip_id\": \"3762\", \"shape_id\": \"79\", \"route_id\": \"41\", \"service_hours\": 1.45, \"trip_first_departure_ts\": 32400, \"trip_last_arrival_ts\": 37620, \"departure_hour\": 9, \"time_of_day\": \"AM Peak\", \"p25\": 1.45, \"p50\": 1.45, \"p75\": 1.55, \"p50_trip\": 1, \"fastest_trip\": 0, \"car_duration_hours\": 0.8, \"competitive_route\": 1, \"bus_multiplier\": 1.81, \"bus_difference\": 39.0, \"num_trips\": 45, \"num_competitive\": 45, \"pct_trips_competitive\": 1.0, \"bus_difference_spread\": 12.0, \"route_group\": \"long\", \"max_trip_hrs\": 1.55, \"max_trip_route_group\": 1.55, \"below_cutoff\": 26, \"pct_below_cutoff\": 0.5777777777777777, \"name\": \"Golden Empire Transit District\", \"caltrans_district\": \"06 - Fresno\", \"drmt_organization_name\": null, \"route_name\": \"Valley Plaza/Bakersfield College\", \"cutoff2\": 40, \"cutoff\": 0}, {\"calitp_itp_id\": 126, \"trip_key\": 6392253989863255883, \"trip_id\": \"3763\", \"shape_id\": \"79\", \"route_id\": \"41\", \"service_hours\": 1.45, \"trip_first_departure_ts\": 34200, \"trip_last_arrival_ts\": 39420, \"departure_hour\": 9, \"time_of_day\": \"AM Peak\", \"p25\": 1.45, \"p50\": 1.45, \"p75\": 1.55, \"p50_trip\": 1, \"fastest_trip\": 0, \"car_duration_hours\": 0.8, \"competitive_route\": 1, \"bus_multiplier\": 1.81, \"bus_difference\": 39.0, \"num_trips\": 45, \"num_competitive\": 45, \"pct_trips_competitive\": 1.0, \"bus_difference_spread\": 12.0, \"route_group\": \"long\", \"max_trip_hrs\": 1.55, \"max_trip_route_group\": 1.55, \"below_cutoff\": 26, \"pct_below_cutoff\": 0.5777777777777777, \"name\": \"Golden Empire Transit District\", \"caltrans_district\": \"06 - Fresno\", \"drmt_organization_name\": null, \"route_name\": \"Valley Plaza/Bakersfield College\", \"cutoff2\": 40, \"cutoff\": 0}, {\"calitp_itp_id\": 126, \"trip_key\": 3411248475395932656, \"trip_id\": \"3765\", \"shape_id\": \"79\", \"route_id\": \"41\", \"service_hours\": 1.45, \"trip_first_departure_ts\": 37800, \"trip_last_arrival_ts\": 43020, \"departure_hour\": 10, \"time_of_day\": \"Midday\", \"p25\": 1.45, \"p50\": 1.45, \"p75\": 1.55, \"p50_trip\": 1, \"fastest_trip\": 0, \"car_duration_hours\": 0.8, \"competitive_route\": 1, \"bus_multiplier\": 1.81, \"bus_difference\": 39.0, \"num_trips\": 45, \"num_competitive\": 45, \"pct_trips_competitive\": 1.0, \"bus_difference_spread\": 12.0, \"route_group\": \"long\", \"max_trip_hrs\": 1.55, \"max_trip_route_group\": 1.55, \"below_cutoff\": 26, \"pct_below_cutoff\": 0.5777777777777777, \"name\": \"Golden Empire Transit District\", \"caltrans_district\": \"06 - Fresno\", \"drmt_organization_name\": null, \"route_name\": \"Valley Plaza/Bakersfield College\", \"cutoff2\": 40, \"cutoff\": 0}, {\"calitp_itp_id\": 126, \"trip_key\": -7072556819798405700, \"trip_id\": \"3761\", \"shape_id\": \"79\", \"route_id\": \"41\", \"service_hours\": 1.45, \"trip_first_departure_ts\": 30600, \"trip_last_arrival_ts\": 35820, \"departure_hour\": 8, \"time_of_day\": \"AM Peak\", \"p25\": 1.45, \"p50\": 1.45, \"p75\": 1.55, \"p50_trip\": 1, \"fastest_trip\": 0, \"car_duration_hours\": 0.8, \"competitive_route\": 1, \"bus_multiplier\": 1.81, \"bus_difference\": 39.0, \"num_trips\": 45, \"num_competitive\": 45, \"pct_trips_competitive\": 1.0, \"bus_difference_spread\": 12.0, \"route_group\": \"long\", \"max_trip_hrs\": 1.55, \"max_trip_route_group\": 1.55, \"below_cutoff\": 26, \"pct_below_cutoff\": 0.5777777777777777, \"name\": \"Golden Empire Transit District\", \"caltrans_district\": \"06 - Fresno\", \"drmt_organization_name\": null, \"route_name\": \"Valley Plaza/Bakersfield College\", \"cutoff2\": 40, \"cutoff\": 0}, {\"calitp_itp_id\": 126, \"trip_key\": 4830279098424700338, \"trip_id\": \"1666\", \"shape_id\": \"79\", \"route_id\": \"41\", \"service_hours\": 1.45, \"trip_first_departure_ts\": 52200, \"trip_last_arrival_ts\": 57420, \"departure_hour\": 14, \"time_of_day\": \"Midday\", \"p25\": 1.45, \"p50\": 1.45, \"p75\": 1.55, \"p50_trip\": 1, \"fastest_trip\": 0, \"car_duration_hours\": 0.8, \"competitive_route\": 1, \"bus_multiplier\": 1.81, \"bus_difference\": 39.0, \"num_trips\": 45, \"num_competitive\": 45, \"pct_trips_competitive\": 1.0, \"bus_difference_spread\": 12.0, \"route_group\": \"long\", \"max_trip_hrs\": 1.55, \"max_trip_route_group\": 1.55, \"below_cutoff\": 26, \"pct_below_cutoff\": 0.5777777777777777, \"name\": \"Golden Empire Transit District\", \"caltrans_district\": \"06 - Fresno\", \"drmt_organization_name\": null, \"route_name\": \"Valley Plaza/Bakersfield College\", \"cutoff2\": 40, \"cutoff\": 0}, {\"calitp_itp_id\": 126, \"trip_key\": -2360716236685420171, \"trip_id\": \"3758\", \"shape_id\": \"79\", \"route_id\": \"41\", \"service_hours\": 1.45, \"trip_first_departure_ts\": 25200, \"trip_last_arrival_ts\": 30420, \"departure_hour\": 7, \"time_of_day\": \"AM Peak\", \"p25\": 1.45, \"p50\": 1.45, \"p75\": 1.55, \"p50_trip\": 1, \"fastest_trip\": 0, \"car_duration_hours\": 0.8, \"competitive_route\": 1, \"bus_multiplier\": 1.81, \"bus_difference\": 39.0, \"num_trips\": 45, \"num_competitive\": 45, \"pct_trips_competitive\": 1.0, \"bus_difference_spread\": 12.0, \"route_group\": \"long\", \"max_trip_hrs\": 1.55, \"max_trip_route_group\": 1.55, \"below_cutoff\": 26, \"pct_below_cutoff\": 0.5777777777777777, \"name\": \"Golden Empire Transit District\", \"caltrans_district\": \"06 - Fresno\", \"drmt_organization_name\": null, \"route_name\": \"Valley Plaza/Bakersfield College\", \"cutoff2\": 40, \"cutoff\": 0}, {\"calitp_itp_id\": 126, \"trip_key\": -9077068888481348122, \"trip_id\": \"3769\", \"shape_id\": \"79\", \"route_id\": \"41\", \"service_hours\": 1.45, \"trip_first_departure_ts\": 45000, \"trip_last_arrival_ts\": 50220, \"departure_hour\": 12, \"time_of_day\": \"Midday\", \"p25\": 1.45, \"p50\": 1.45, \"p75\": 1.55, \"p50_trip\": 1, \"fastest_trip\": 0, \"car_duration_hours\": 0.8, \"competitive_route\": 1, \"bus_multiplier\": 1.81, \"bus_difference\": 39.0, \"num_trips\": 45, \"num_competitive\": 45, \"pct_trips_competitive\": 1.0, \"bus_difference_spread\": 12.0, \"route_group\": \"long\", \"max_trip_hrs\": 1.55, \"max_trip_route_group\": 1.55, \"below_cutoff\": 26, \"pct_below_cutoff\": 0.5777777777777777, \"name\": \"Golden Empire Transit District\", \"caltrans_district\": \"06 - Fresno\", \"drmt_organization_name\": null, \"route_name\": \"Valley Plaza/Bakersfield College\", \"cutoff2\": 40, \"cutoff\": 0}, {\"calitp_itp_id\": 126, \"trip_key\": 7722774300800139552, \"trip_id\": \"3766\", \"shape_id\": \"79\", \"route_id\": \"41\", \"service_hours\": 1.45, \"trip_first_departure_ts\": 39600, \"trip_last_arrival_ts\": 44820, \"departure_hour\": 11, \"time_of_day\": \"Midday\", \"p25\": 1.45, \"p50\": 1.45, \"p75\": 1.55, \"p50_trip\": 1, \"fastest_trip\": 0, \"car_duration_hours\": 0.8, \"competitive_route\": 1, \"bus_multiplier\": 1.81, \"bus_difference\": 39.0, \"num_trips\": 45, \"num_competitive\": 45, \"pct_trips_competitive\": 1.0, \"bus_difference_spread\": 12.0, \"route_group\": \"long\", \"max_trip_hrs\": 1.55, \"max_trip_route_group\": 1.55, \"below_cutoff\": 26, \"pct_below_cutoff\": 0.5777777777777777, \"name\": \"Golden Empire Transit District\", \"caltrans_district\": \"06 - Fresno\", \"drmt_organization_name\": null, \"route_name\": \"Valley Plaza/Bakersfield College\", \"cutoff2\": 40, \"cutoff\": 0}, {\"calitp_itp_id\": 126, \"trip_key\": -27000447531349206, \"trip_id\": \"1513\", \"shape_id\": \"79\", \"route_id\": \"41\", \"service_hours\": 1.45, \"trip_first_departure_ts\": 46800, \"trip_last_arrival_ts\": 52020, \"departure_hour\": 13, \"time_of_day\": \"Midday\", \"p25\": 1.45, \"p50\": 1.45, \"p75\": 1.55, \"p50_trip\": 1, \"fastest_trip\": 0, \"car_duration_hours\": 0.8, \"competitive_route\": 1, \"bus_multiplier\": 1.81, \"bus_difference\": 39.0, \"num_trips\": 45, \"num_competitive\": 45, \"pct_trips_competitive\": 1.0, \"bus_difference_spread\": 12.0, \"route_group\": \"long\", \"max_trip_hrs\": 1.55, \"max_trip_route_group\": 1.55, \"below_cutoff\": 26, \"pct_below_cutoff\": 0.5777777777777777, \"name\": \"Golden Empire Transit District\", \"caltrans_district\": \"06 - Fresno\", \"drmt_organization_name\": null, \"route_name\": \"Valley Plaza/Bakersfield College\", \"cutoff2\": 40, \"cutoff\": 0}, {\"calitp_itp_id\": 126, \"trip_key\": -634519358534191590, \"trip_id\": \"3760\", \"shape_id\": \"79\", \"route_id\": \"41\", \"service_hours\": 1.45, \"trip_first_departure_ts\": 28800, \"trip_last_arrival_ts\": 34020, \"departure_hour\": 8, \"time_of_day\": \"AM Peak\", \"p25\": 1.45, \"p50\": 1.45, \"p75\": 1.55, \"p50_trip\": 1, \"fastest_trip\": 0, \"car_duration_hours\": 0.8, \"competitive_route\": 1, \"bus_multiplier\": 1.81, \"bus_difference\": 39.0, \"num_trips\": 45, \"num_competitive\": 45, \"pct_trips_competitive\": 1.0, \"bus_difference_spread\": 12.0, \"route_group\": \"long\", \"max_trip_hrs\": 1.55, \"max_trip_route_group\": 1.55, \"below_cutoff\": 26, \"pct_below_cutoff\": 0.5777777777777777, \"name\": \"Golden Empire Transit District\", \"caltrans_district\": \"06 - Fresno\", \"drmt_organization_name\": null, \"route_name\": \"Valley Plaza/Bakersfield College\", \"cutoff2\": 40, \"cutoff\": 0}, {\"calitp_itp_id\": 126, \"trip_key\": -4088461551057439274, \"trip_id\": \"3746\", \"shape_id\": \"78\", \"route_id\": \"41\", \"service_hours\": 1.55, \"trip_first_departure_ts\": 44820, \"trip_last_arrival_ts\": 50400, \"departure_hour\": 12, \"time_of_day\": \"Midday\", \"p25\": 1.45, \"p50\": 1.45, \"p75\": 1.55, \"p50_trip\": 0, \"fastest_trip\": 0, \"car_duration_hours\": 0.8, \"competitive_route\": 1, \"bus_multiplier\": 1.94, \"bus_difference\": 45.0, \"num_trips\": 45, \"num_competitive\": 45, \"pct_trips_competitive\": 1.0, \"bus_difference_spread\": 12.0, \"route_group\": \"long\", \"max_trip_hrs\": 1.55, \"max_trip_route_group\": 1.55, \"below_cutoff\": 26, \"pct_below_cutoff\": 0.5777777777777777, \"name\": \"Golden Empire Transit District\", \"caltrans_district\": \"06 - Fresno\", \"drmt_organization_name\": null, \"route_name\": \"Valley Plaza/Bakersfield College\", \"cutoff2\": 40, \"cutoff\": 0}, {\"calitp_itp_id\": 126, \"trip_key\": -6363174918419727490, \"trip_id\": \"3751\", \"shape_id\": \"78\", \"route_id\": \"41\", \"service_hours\": 1.55, \"trip_first_departure_ts\": 53820, \"trip_last_arrival_ts\": 59400, \"departure_hour\": 14, \"time_of_day\": \"Midday\", \"p25\": 1.45, \"p50\": 1.45, \"p75\": 1.55, \"p50_trip\": 0, \"fastest_trip\": 0, \"car_duration_hours\": 0.8, \"competitive_route\": 1, \"bus_multiplier\": 1.94, \"bus_difference\": 45.0, \"num_trips\": 45, \"num_competitive\": 45, \"pct_trips_competitive\": 1.0, \"bus_difference_spread\": 12.0, \"route_group\": \"long\", \"max_trip_hrs\": 1.55, \"max_trip_route_group\": 1.55, \"below_cutoff\": 26, \"pct_below_cutoff\": 0.5777777777777777, \"name\": \"Golden Empire Transit District\", \"caltrans_district\": \"06 - Fresno\", \"drmt_organization_name\": null, \"route_name\": \"Valley Plaza/Bakersfield College\", \"cutoff2\": 40, \"cutoff\": 0}, {\"calitp_itp_id\": 126, \"trip_key\": -6879825001613676038, \"trip_id\": \"3744\", \"shape_id\": \"78\", \"route_id\": \"41\", \"service_hours\": 1.55, \"trip_first_departure_ts\": 41220, \"trip_last_arrival_ts\": 46800, \"departure_hour\": 11, \"time_of_day\": \"Midday\", \"p25\": 1.45, \"p50\": 1.45, \"p75\": 1.55, \"p50_trip\": 0, \"fastest_trip\": 0, \"car_duration_hours\": 0.8, \"competitive_route\": 1, \"bus_multiplier\": 1.94, \"bus_difference\": 45.0, \"num_trips\": 45, \"num_competitive\": 45, \"pct_trips_competitive\": 1.0, \"bus_difference_spread\": 12.0, \"route_group\": \"long\", \"max_trip_hrs\": 1.55, \"max_trip_route_group\": 1.55, \"below_cutoff\": 26, \"pct_below_cutoff\": 0.5777777777777777, \"name\": \"Golden Empire Transit District\", \"caltrans_district\": \"06 - Fresno\", \"drmt_organization_name\": null, \"route_name\": \"Valley Plaza/Bakersfield College\", \"cutoff2\": 40, \"cutoff\": 0}, {\"calitp_itp_id\": 126, \"trip_key\": -8905649343725834347, \"trip_id\": \"3736\", \"shape_id\": \"78\", \"route_id\": \"41\", \"service_hours\": 1.55, \"trip_first_departure_ts\": 26820, \"trip_last_arrival_ts\": 32400, \"departure_hour\": 7, \"time_of_day\": \"AM Peak\", \"p25\": 1.45, \"p50\": 1.45, \"p75\": 1.55, \"p50_trip\": 0, \"fastest_trip\": 0, \"car_duration_hours\": 0.8, \"competitive_route\": 1, \"bus_multiplier\": 1.94, \"bus_difference\": 45.0, \"num_trips\": 45, \"num_competitive\": 45, \"pct_trips_competitive\": 1.0, \"bus_difference_spread\": 12.0, \"route_group\": \"long\", \"max_trip_hrs\": 1.55, \"max_trip_route_group\": 1.55, \"below_cutoff\": 26, \"pct_below_cutoff\": 0.5777777777777777, \"name\": \"Golden Empire Transit District\", \"caltrans_district\": \"06 - Fresno\", \"drmt_organization_name\": null, \"route_name\": \"Valley Plaza/Bakersfield College\", \"cutoff2\": 40, \"cutoff\": 0}, {\"calitp_itp_id\": 126, \"trip_key\": 5215908523642987416, \"trip_id\": \"3739\", \"shape_id\": \"78\", \"route_id\": \"41\", \"service_hours\": 1.55, \"trip_first_departure_ts\": 32220, \"trip_last_arrival_ts\": 37800, \"departure_hour\": 8, \"time_of_day\": \"AM Peak\", \"p25\": 1.45, \"p50\": 1.45, \"p75\": 1.55, \"p50_trip\": 0, \"fastest_trip\": 0, \"car_duration_hours\": 0.8, \"competitive_route\": 1, \"bus_multiplier\": 1.94, \"bus_difference\": 45.0, \"num_trips\": 45, \"num_competitive\": 45, \"pct_trips_competitive\": 1.0, \"bus_difference_spread\": 12.0, \"route_group\": \"long\", \"max_trip_hrs\": 1.55, \"max_trip_route_group\": 1.55, \"below_cutoff\": 26, \"pct_below_cutoff\": 0.5777777777777777, \"name\": \"Golden Empire Transit District\", \"caltrans_district\": \"06 - Fresno\", \"drmt_organization_name\": null, \"route_name\": \"Valley Plaza/Bakersfield College\", \"cutoff2\": 40, \"cutoff\": 0}, {\"calitp_itp_id\": 126, \"trip_key\": -8074230223285233480, \"trip_id\": \"3742\", \"shape_id\": \"78\", \"route_id\": \"41\", \"service_hours\": 1.55, \"trip_first_departure_ts\": 37620, \"trip_last_arrival_ts\": 43200, \"departure_hour\": 10, \"time_of_day\": \"Midday\", \"p25\": 1.45, \"p50\": 1.45, \"p75\": 1.55, \"p50_trip\": 0, \"fastest_trip\": 0, \"car_duration_hours\": 0.8, \"competitive_route\": 1, \"bus_multiplier\": 1.94, \"bus_difference\": 45.0, \"num_trips\": 45, \"num_competitive\": 45, \"pct_trips_competitive\": 1.0, \"bus_difference_spread\": 12.0, \"route_group\": \"long\", \"max_trip_hrs\": 1.55, \"max_trip_route_group\": 1.55, \"below_cutoff\": 26, \"pct_below_cutoff\": 0.5777777777777777, \"name\": \"Golden Empire Transit District\", \"caltrans_district\": \"06 - Fresno\", \"drmt_organization_name\": null, \"route_name\": \"Valley Plaza/Bakersfield College\", \"cutoff2\": 40, \"cutoff\": 0}, {\"calitp_itp_id\": 126, \"trip_key\": -4382476451098257507, \"trip_id\": \"3735\", \"shape_id\": \"78\", \"route_id\": \"41\", \"service_hours\": 1.55, \"trip_first_departure_ts\": 25020, \"trip_last_arrival_ts\": 30600, \"departure_hour\": 6, \"time_of_day\": \"Owl Service\", \"p25\": 1.45, \"p50\": 1.45, \"p75\": 1.55, \"p50_trip\": 0, \"fastest_trip\": 0, \"car_duration_hours\": 0.8, \"competitive_route\": 1, \"bus_multiplier\": 1.94, \"bus_difference\": 45.0, \"num_trips\": 45, \"num_competitive\": 45, \"pct_trips_competitive\": 1.0, \"bus_difference_spread\": 12.0, \"route_group\": \"long\", \"max_trip_hrs\": 1.55, \"max_trip_route_group\": 1.55, \"below_cutoff\": 26, \"pct_below_cutoff\": 0.5777777777777777, \"name\": \"Golden Empire Transit District\", \"caltrans_district\": \"06 - Fresno\", \"drmt_organization_name\": null, \"route_name\": \"Valley Plaza/Bakersfield College\", \"cutoff2\": 40, \"cutoff\": 0}, {\"calitp_itp_id\": 126, \"trip_key\": -1118453596606840101, \"trip_id\": \"3737\", \"shape_id\": \"78\", \"route_id\": \"41\", \"service_hours\": 1.55, \"trip_first_departure_ts\": 28620, \"trip_last_arrival_ts\": 34200, \"departure_hour\": 7, \"time_of_day\": \"AM Peak\", \"p25\": 1.45, \"p50\": 1.45, \"p75\": 1.55, \"p50_trip\": 0, \"fastest_trip\": 0, \"car_duration_hours\": 0.8, \"competitive_route\": 1, \"bus_multiplier\": 1.94, \"bus_difference\": 45.0, \"num_trips\": 45, \"num_competitive\": 45, \"pct_trips_competitive\": 1.0, \"bus_difference_spread\": 12.0, \"route_group\": \"long\", \"max_trip_hrs\": 1.55, \"max_trip_route_group\": 1.55, \"below_cutoff\": 26, \"pct_below_cutoff\": 0.5777777777777777, \"name\": \"Golden Empire Transit District\", \"caltrans_district\": \"06 - Fresno\", \"drmt_organization_name\": null, \"route_name\": \"Valley Plaza/Bakersfield College\", \"cutoff2\": 40, \"cutoff\": 0}, {\"calitp_itp_id\": 126, \"trip_key\": 9130605149217231437, \"trip_id\": \"3753\", \"shape_id\": \"78\", \"route_id\": \"41\", \"service_hours\": 1.55, \"trip_first_departure_ts\": 57420, \"trip_last_arrival_ts\": 63000, \"departure_hour\": 15, \"time_of_day\": \"Midday\", \"p25\": 1.45, \"p50\": 1.45, \"p75\": 1.55, \"p50_trip\": 0, \"fastest_trip\": 0, \"car_duration_hours\": 0.8, \"competitive_route\": 1, \"bus_multiplier\": 1.94, \"bus_difference\": 45.0, \"num_trips\": 45, \"num_competitive\": 45, \"pct_trips_competitive\": 1.0, \"bus_difference_spread\": 12.0, \"route_group\": \"long\", \"max_trip_hrs\": 1.55, \"max_trip_route_group\": 1.55, \"below_cutoff\": 26, \"pct_below_cutoff\": 0.5777777777777777, \"name\": \"Golden Empire Transit District\", \"caltrans_district\": \"06 - Fresno\", \"drmt_organization_name\": null, \"route_name\": \"Valley Plaza/Bakersfield College\", \"cutoff2\": 40, \"cutoff\": 0}, {\"calitp_itp_id\": 126, \"trip_key\": 2968404579104872588, \"trip_id\": \"3743\", \"shape_id\": \"78\", \"route_id\": \"41\", \"service_hours\": 1.55, \"trip_first_departure_ts\": 39420, \"trip_last_arrival_ts\": 45000, \"departure_hour\": 10, \"time_of_day\": \"Midday\", \"p25\": 1.45, \"p50\": 1.45, \"p75\": 1.55, \"p50_trip\": 0, \"fastest_trip\": 0, \"car_duration_hours\": 0.8, \"competitive_route\": 1, \"bus_multiplier\": 1.94, \"bus_difference\": 45.0, \"num_trips\": 45, \"num_competitive\": 45, \"pct_trips_competitive\": 1.0, \"bus_difference_spread\": 12.0, \"route_group\": \"long\", \"max_trip_hrs\": 1.55, \"max_trip_route_group\": 1.55, \"below_cutoff\": 26, \"pct_below_cutoff\": 0.5777777777777777, \"name\": \"Golden Empire Transit District\", \"caltrans_district\": \"06 - Fresno\", \"drmt_organization_name\": null, \"route_name\": \"Valley Plaza/Bakersfield College\", \"cutoff2\": 40, \"cutoff\": 0}, {\"calitp_itp_id\": 126, \"trip_key\": 3019438299359060180, \"trip_id\": \"3752\", \"shape_id\": \"78\", \"route_id\": \"41\", \"service_hours\": 1.55, \"trip_first_departure_ts\": 55620, \"trip_last_arrival_ts\": 61200, \"departure_hour\": 15, \"time_of_day\": \"Midday\", \"p25\": 1.45, \"p50\": 1.45, \"p75\": 1.55, \"p50_trip\": 0, \"fastest_trip\": 0, \"car_duration_hours\": 0.8, \"competitive_route\": 1, \"bus_multiplier\": 1.94, \"bus_difference\": 45.0, \"num_trips\": 45, \"num_competitive\": 45, \"pct_trips_competitive\": 1.0, \"bus_difference_spread\": 12.0, \"route_group\": \"long\", \"max_trip_hrs\": 1.55, \"max_trip_route_group\": 1.55, \"below_cutoff\": 26, \"pct_below_cutoff\": 0.5777777777777777, \"name\": \"Golden Empire Transit District\", \"caltrans_district\": \"06 - Fresno\", \"drmt_organization_name\": null, \"route_name\": \"Valley Plaza/Bakersfield College\", \"cutoff2\": 40, \"cutoff\": 0}, {\"calitp_itp_id\": 126, \"trip_key\": 4529126544370445946, \"trip_id\": \"3749\", \"shape_id\": \"78\", \"route_id\": \"41\", \"service_hours\": 1.55, \"trip_first_departure_ts\": 50220, \"trip_last_arrival_ts\": 55800, \"departure_hour\": 13, \"time_of_day\": \"Midday\", \"p25\": 1.45, \"p50\": 1.45, \"p75\": 1.55, \"p50_trip\": 0, \"fastest_trip\": 0, \"car_duration_hours\": 0.8, \"competitive_route\": 1, \"bus_multiplier\": 1.94, \"bus_difference\": 45.0, \"num_trips\": 45, \"num_competitive\": 45, \"pct_trips_competitive\": 1.0, \"bus_difference_spread\": 12.0, \"route_group\": \"long\", \"max_trip_hrs\": 1.55, \"max_trip_route_group\": 1.55, \"below_cutoff\": 26, \"pct_below_cutoff\": 0.5777777777777777, \"name\": \"Golden Empire Transit District\", \"caltrans_district\": \"06 - Fresno\", \"drmt_organization_name\": null, \"route_name\": \"Valley Plaza/Bakersfield College\", \"cutoff2\": 40, \"cutoff\": 0}, {\"calitp_itp_id\": 126, \"trip_key\": -5362118131542335213, \"trip_id\": \"3741\", \"shape_id\": \"78\", \"route_id\": \"41\", \"service_hours\": 1.55, \"trip_first_departure_ts\": 35820, \"trip_last_arrival_ts\": 41400, \"departure_hour\": 9, \"time_of_day\": \"AM Peak\", \"p25\": 1.45, \"p50\": 1.45, \"p75\": 1.55, \"p50_trip\": 0, \"fastest_trip\": 0, \"car_duration_hours\": 0.8, \"competitive_route\": 1, \"bus_multiplier\": 1.94, \"bus_difference\": 45.0, \"num_trips\": 45, \"num_competitive\": 45, \"pct_trips_competitive\": 1.0, \"bus_difference_spread\": 12.0, \"route_group\": \"long\", \"max_trip_hrs\": 1.55, \"max_trip_route_group\": 1.55, \"below_cutoff\": 26, \"pct_below_cutoff\": 0.5777777777777777, \"name\": \"Golden Empire Transit District\", \"caltrans_district\": \"06 - Fresno\", \"drmt_organization_name\": null, \"route_name\": \"Valley Plaza/Bakersfield College\", \"cutoff2\": 40, \"cutoff\": 0}, {\"calitp_itp_id\": 126, \"trip_key\": -6464963909112186485, \"trip_id\": \"3738\", \"shape_id\": \"78\", \"route_id\": \"41\", \"service_hours\": 1.55, \"trip_first_departure_ts\": 30420, \"trip_last_arrival_ts\": 36000, \"departure_hour\": 8, \"time_of_day\": \"AM Peak\", \"p25\": 1.45, \"p50\": 1.45, \"p75\": 1.55, \"p50_trip\": 0, \"fastest_trip\": 0, \"car_duration_hours\": 0.8, \"competitive_route\": 1, \"bus_multiplier\": 1.94, \"bus_difference\": 45.0, \"num_trips\": 45, \"num_competitive\": 45, \"pct_trips_competitive\": 1.0, \"bus_difference_spread\": 12.0, \"route_group\": \"long\", \"max_trip_hrs\": 1.55, \"max_trip_route_group\": 1.55, \"below_cutoff\": 26, \"pct_below_cutoff\": 0.5777777777777777, \"name\": \"Golden Empire Transit District\", \"caltrans_district\": \"06 - Fresno\", \"drmt_organization_name\": null, \"route_name\": \"Valley Plaza/Bakersfield College\", \"cutoff2\": 40, \"cutoff\": 0}, {\"calitp_itp_id\": 126, \"trip_key\": 2067234379860168420, \"trip_id\": \"3748\", \"shape_id\": \"78\", \"route_id\": \"41\", \"service_hours\": 1.55, \"trip_first_departure_ts\": 48420, \"trip_last_arrival_ts\": 54000, \"departure_hour\": 13, \"time_of_day\": \"Midday\", \"p25\": 1.45, \"p50\": 1.45, \"p75\": 1.55, \"p50_trip\": 0, \"fastest_trip\": 0, \"car_duration_hours\": 0.8, \"competitive_route\": 1, \"bus_multiplier\": 1.94, \"bus_difference\": 45.0, \"num_trips\": 45, \"num_competitive\": 45, \"pct_trips_competitive\": 1.0, \"bus_difference_spread\": 12.0, \"route_group\": \"long\", \"max_trip_hrs\": 1.55, \"max_trip_route_group\": 1.55, \"below_cutoff\": 26, \"pct_below_cutoff\": 0.5777777777777777, \"name\": \"Golden Empire Transit District\", \"caltrans_district\": \"06 - Fresno\", \"drmt_organization_name\": null, \"route_name\": \"Valley Plaza/Bakersfield College\", \"cutoff2\": 40, \"cutoff\": 0}, {\"calitp_itp_id\": 126, \"trip_key\": -211985334436261053, \"trip_id\": \"3745\", \"shape_id\": \"78\", \"route_id\": \"41\", \"service_hours\": 1.55, \"trip_first_departure_ts\": 43020, \"trip_last_arrival_ts\": 48600, \"departure_hour\": 11, \"time_of_day\": \"Midday\", \"p25\": 1.45, \"p50\": 1.45, \"p75\": 1.55, \"p50_trip\": 0, \"fastest_trip\": 0, \"car_duration_hours\": 0.8, \"competitive_route\": 1, \"bus_multiplier\": 1.94, \"bus_difference\": 45.0, \"num_trips\": 45, \"num_competitive\": 45, \"pct_trips_competitive\": 1.0, \"bus_difference_spread\": 12.0, \"route_group\": \"long\", \"max_trip_hrs\": 1.55, \"max_trip_route_group\": 1.55, \"below_cutoff\": 26, \"pct_below_cutoff\": 0.5777777777777777, \"name\": \"Golden Empire Transit District\", \"caltrans_district\": \"06 - Fresno\", \"drmt_organization_name\": null, \"route_name\": \"Valley Plaza/Bakersfield College\", \"cutoff2\": 40, \"cutoff\": 0}, {\"calitp_itp_id\": 126, \"trip_key\": 8292425056513114435, \"trip_id\": \"3747\", \"shape_id\": \"78\", \"route_id\": \"41\", \"service_hours\": 1.55, \"trip_first_departure_ts\": 46620, \"trip_last_arrival_ts\": 52200, \"departure_hour\": 12, \"time_of_day\": \"Midday\", \"p25\": 1.45, \"p50\": 1.45, \"p75\": 1.55, \"p50_trip\": 0, \"fastest_trip\": 0, \"car_duration_hours\": 0.8, \"competitive_route\": 1, \"bus_multiplier\": 1.94, \"bus_difference\": 45.0, \"num_trips\": 45, \"num_competitive\": 45, \"pct_trips_competitive\": 1.0, \"bus_difference_spread\": 12.0, \"route_group\": \"long\", \"max_trip_hrs\": 1.55, \"max_trip_route_group\": 1.55, \"below_cutoff\": 26, \"pct_below_cutoff\": 0.5777777777777777, \"name\": \"Golden Empire Transit District\", \"caltrans_district\": \"06 - Fresno\", \"drmt_organization_name\": null, \"route_name\": \"Valley Plaza/Bakersfield College\", \"cutoff2\": 40, \"cutoff\": 0}, {\"calitp_itp_id\": 126, \"trip_key\": -2937402900677665452, \"trip_id\": \"3750\", \"shape_id\": \"78\", \"route_id\": \"41\", \"service_hours\": 1.55, \"trip_first_departure_ts\": 52020, \"trip_last_arrival_ts\": 57600, \"departure_hour\": 14, \"time_of_day\": \"Midday\", \"p25\": 1.45, \"p50\": 1.45, \"p75\": 1.55, \"p50_trip\": 0, \"fastest_trip\": 0, \"car_duration_hours\": 0.8, \"competitive_route\": 1, \"bus_multiplier\": 1.94, \"bus_difference\": 45.0, \"num_trips\": 45, \"num_competitive\": 45, \"pct_trips_competitive\": 1.0, \"bus_difference_spread\": 12.0, \"route_group\": \"long\", \"max_trip_hrs\": 1.55, \"max_trip_route_group\": 1.55, \"below_cutoff\": 26, \"pct_below_cutoff\": 0.5777777777777777, \"name\": \"Golden Empire Transit District\", \"caltrans_district\": \"06 - Fresno\", \"drmt_organization_name\": null, \"route_name\": \"Valley Plaza/Bakersfield College\", \"cutoff2\": 40, \"cutoff\": 0}, {\"calitp_itp_id\": 126, \"trip_key\": -942775710692938146, \"trip_id\": \"3740\", \"shape_id\": \"78\", \"route_id\": \"41\", \"service_hours\": 1.55, \"trip_first_departure_ts\": 34020, \"trip_last_arrival_ts\": 39600, \"departure_hour\": 9, \"time_of_day\": \"AM Peak\", \"p25\": 1.45, \"p50\": 1.45, \"p75\": 1.55, \"p50_trip\": 0, \"fastest_trip\": 0, \"car_duration_hours\": 0.8, \"competitive_route\": 1, \"bus_multiplier\": 1.94, \"bus_difference\": 45.0, \"num_trips\": 45, \"num_competitive\": 45, \"pct_trips_competitive\": 1.0, \"bus_difference_spread\": 12.0, \"route_group\": \"long\", \"max_trip_hrs\": 1.55, \"max_trip_route_group\": 1.55, \"below_cutoff\": 26, \"pct_below_cutoff\": 0.5777777777777777, \"name\": \"Golden Empire Transit District\", \"caltrans_district\": \"06 - Fresno\", \"drmt_organization_name\": null, \"route_name\": \"Valley Plaza/Bakersfield College\", \"cutoff2\": 40, \"cutoff\": 0}]}}, {\"mode\": \"vega-lite\"});\n",
       "</script>"
      ],
      "text/plain": [
       "alt.FacetChart(...)"
      ]
     },
     "metadata": {},
     "output_type": "display_data"
    },
    {
     "data": {
      "text/html": [
       "<h4>Route Stats</h4>"
      ],
      "text/plain": [
       "<IPython.core.display.HTML object>"
      ]
     },
     "metadata": {},
     "output_type": "display_data"
    },
    {
     "data": {
      "text/html": [
       "<style type=\"text/css\">\n",
       "#T_d15b1 th {\n",
       "  text-align: center;\n",
       "}\n",
       "#T_d15b1_row0_col0, #T_d15b1_row0_col1 {\n",
       "  text-align: left;\n",
       "}\n",
       "#T_d15b1_row0_col2, #T_d15b1_row0_col3, #T_d15b1_row0_col5 {\n",
       "  text-align: center;\n",
       "}\n",
       "</style>\n",
       "<table id=\"T_d15b1\">\n",
       "  <thead>\n",
       "    <tr>\n",
       "      <th id=\"T_d15b1_level0_col0\" class=\"col_heading level0 col0\" >Route ID</th>\n",
       "      <th id=\"T_d15b1_level0_col1\" class=\"col_heading level0 col1\" >Route Name</th>\n",
       "      <th id=\"T_d15b1_level0_col2\" class=\"col_heading level0 col2\" ># trips</th>\n",
       "      <th id=\"T_d15b1_level0_col3\" class=\"col_heading level0 col3\" >Daily Avg Freq (trips per hr)</th>\n",
       "      <th id=\"T_d15b1_level0_col4\" class=\"col_heading level0 col4\" >25th, 50th, 75th ptile (hrs)</th>\n",
       "      <th id=\"T_d15b1_level0_col5\" class=\"col_heading level0 col5\" >PM Peak Avg Freq (trips per hr)</th>\n",
       "    </tr>\n",
       "  </thead>\n",
       "  <tbody>\n",
       "    <tr>\n",
       "      <td id=\"T_d15b1_row0_col0\" class=\"data row0 col0\" >41</td>\n",
       "      <td id=\"T_d15b1_row0_col1\" class=\"data row0 col1\" >Valley Plaza/Bakersfield College</td>\n",
       "      <td id=\"T_d15b1_row0_col2\" class=\"data row0 col2\" >45</td>\n",
       "      <td id=\"T_d15b1_row0_col3\" class=\"data row0 col3\" >1.88</td>\n",
       "      <td id=\"T_d15b1_row0_col4\" class=\"data row0 col4\" >1.45, 1.45, 1.55</td>\n",
       "      <td id=\"T_d15b1_row0_col5\" class=\"data row0 col5\" >1.33</td>\n",
       "    </tr>\n",
       "  </tbody>\n",
       "</table>\n"
      ],
      "text/plain": [
       "<IPython.core.display.HTML object>"
      ]
     },
     "metadata": {},
     "output_type": "display_data"
    }
   ],
   "source": [
    "route_group = \"long\"\n",
    "try:\n",
    "    display_charts_for_route_group(df, route_group)\n",
    "except:\n",
    "    print(\"No routes meet this criteria.\")"
   ]
  },
  {
   "cell_type": "markdown",
   "id": "ace75b5f-0442-4fbe-aebd-6c3a13ae13a7",
   "metadata": {
    "papermill": {
     "duration": 0.021822,
     "end_time": "2022-05-12T02:16:04.234927",
     "exception": false,
     "start_time": "2022-05-12T02:16:04.213105",
     "status": "completed"
    },
    "tags": []
   },
   "source": [
    "### GTFS Real-Time Speedmaps"
   ]
  },
  {
   "cell_type": "code",
   "execution_count": 17,
   "id": "a0a114a1-e975-4027-9daf-50029f5ef59f",
   "metadata": {
    "execution": {
     "iopub.execute_input": "2022-05-12T02:16:04.279010Z",
     "iopub.status.busy": "2022-05-12T02:16:04.278107Z",
     "iopub.status.idle": "2022-05-12T02:16:04.306923Z",
     "shell.execute_reply": "2022-05-12T02:16:04.306341Z"
    },
    "jupyter": {
     "source_hidden": true
    },
    "papermill": {
     "duration": 0.052846,
     "end_time": "2022-05-12T02:16:04.308597",
     "exception": false,
     "start_time": "2022-05-12T02:16:04.255751",
     "status": "completed"
    },
    "tags": [
     "remove_input"
    ]
   },
   "outputs": [
    {
     "data": {
      "text/html": [
       "<a href=https://analysis.calitp.org/rt/district_06-fresno/speedmaps__itp_id_126.html>GTFS RT speedmaps here.</a>"
      ],
      "text/plain": [
       "<IPython.core.display.HTML object>"
      ]
     },
     "metadata": {},
     "output_type": "display_data"
    }
   ],
   "source": [
    "RT_SITE_YAML = \"../portfolio/sites/rt.yml\"\n",
    "\n",
    "# Grab list of ITP IDs with GTFS RT speedmaps\n",
    "rt_itp_id = deploy_portfolio_yaml.check_if_rt_data_available(RT_SITE_YAML)\n",
    "\n",
    "# Construct the URL \n",
    "RT_URL = (\"https://analysis.calitp.org/rt/\"\n",
    "          f\"district_{district_number}-{district_name}/\"\n",
    "          f\"speedmaps__itp_id_{itp_id}.html\"\n",
    "         ) \n",
    "\n",
    "# If this ITP ID is found in RT analysis, give URL to that operator in analysis.calitp.org\n",
    "if itp_id in rt_itp_id:\n",
    "    display(HTML(f'''<a href={RT_URL}>GTFS RT speedmaps here.</a>'''))\n",
    "\n",
    "else:\n",
    "    display(HTML(\"No GTFS RT data available.\"))"
   ]
  },
  {
   "cell_type": "code",
   "execution_count": null,
   "id": "5b680565-2230-4f2e-817c-718fad48d64c",
   "metadata": {
    "jupyter": {
     "source_hidden": true
    },
    "papermill": {
     "duration": 0.021505,
     "end_time": "2022-05-12T02:16:04.351672",
     "exception": false,
     "start_time": "2022-05-12T02:16:04.330167",
     "status": "completed"
    },
    "tags": [
     "remove_input"
    ]
   },
   "outputs": [],
   "source": []
  }
 ],
 "metadata": {
  "kernelspec": {
   "display_name": "Python 3 (ipykernel)",
   "language": "python",
   "name": "python3"
  },
  "language_info": {
   "codemirror_mode": {
    "name": "ipython",
    "version": 3
   },
   "file_extension": ".py",
   "mimetype": "text/x-python",
   "name": "python",
   "nbconvert_exporter": "python",
   "pygments_lexer": "ipython3",
   "version": "3.9.12"
  },
  "papermill": {
   "default_parameters": {},
   "duration": 23.340402,
   "end_time": "2022-05-12T02:16:05.496767",
   "environment_variables": {},
   "exception": null,
   "input_path": "bus_service_increase/competitive-parallel-routes.ipynb",
   "output_path": "portfolio/parallel_corridors/district_06-fresno/4__competitive-parallel-routes__district_06-fresno__itp_id_126.ipynb",
   "parameters": {
    "district": "06 - Fresno",
    "itp_id": 126
   },
   "start_time": "2022-05-12T02:15:42.156365",
   "version": "2.3.4"
  }
 },
 "nbformat": 4,
 "nbformat_minor": 5
}