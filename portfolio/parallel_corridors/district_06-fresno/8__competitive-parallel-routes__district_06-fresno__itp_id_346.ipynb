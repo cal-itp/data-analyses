{
 "cells": [
  {
   "cell_type": "code",
   "execution_count": 1,
   "id": "95d00857-6a20-4529-a519-2cc7182928a9",
   "metadata": {
    "execution": {
     "iopub.execute_input": "2022-05-12T19:27:32.758578Z",
     "iopub.status.busy": "2022-05-12T19:27:32.758260Z",
     "iopub.status.idle": "2022-05-12T19:27:40.794361Z",
     "shell.execute_reply": "2022-05-12T19:27:40.793453Z"
    },
    "jupyter": {
     "source_hidden": true
    },
    "papermill": {
     "duration": 8.053923,
     "end_time": "2022-05-12T19:27:40.797499",
     "exception": false,
     "start_time": "2022-05-12T19:27:32.743576",
     "status": "completed"
    },
    "tags": [
     "remove_input"
    ]
   },
   "outputs": [],
   "source": [
    "%%capture\n",
    "import warnings\n",
    "warnings.filterwarnings('ignore')\n",
    "\n",
    "import altair as alt\n",
    "import calitp.magics\n",
    "import geopandas as gpd\n",
    "import intake\n",
    "import pandas as pd\n",
    "\n",
    "from IPython.display import display, Markdown, HTML\n",
    "\n",
    "import parallel_corridors_utils\n",
    "import deploy_portfolio_yaml\n",
    "from shared_utils import styleguide, geography_utils\n",
    "from make_stripplot_data import diff_cutoffs\n",
    "\n",
    "catalog = intake.open_catalog(\"./*.yml\")\n",
    "alt.renderers.enable(\"html\")"
   ]
  },
  {
   "cell_type": "code",
   "execution_count": 2,
   "id": "8af2a0c1-f3da-408d-9bea-11d9fbf8695d",
   "metadata": {
    "execution": {
     "iopub.execute_input": "2022-05-12T19:27:40.826235Z",
     "iopub.status.busy": "2022-05-12T19:27:40.825949Z",
     "iopub.status.idle": "2022-05-12T19:27:40.829915Z",
     "shell.execute_reply": "2022-05-12T19:27:40.829017Z"
    },
    "jupyter": {
     "source_hidden": true
    },
    "papermill": {
     "duration": 0.020477,
     "end_time": "2022-05-12T19:27:40.832209",
     "exception": false,
     "start_time": "2022-05-12T19:27:40.811732",
     "status": "completed"
    },
    "tags": [
     "parameters",
     "remove_input"
    ]
   },
   "outputs": [],
   "source": [
    "# parameters cell\n",
    "itp_id = 182"
   ]
  },
  {
   "cell_type": "code",
   "execution_count": 3,
   "id": "7c055846",
   "metadata": {
    "execution": {
     "iopub.execute_input": "2022-05-12T19:27:40.858474Z",
     "iopub.status.busy": "2022-05-12T19:27:40.857626Z",
     "iopub.status.idle": "2022-05-12T19:27:40.862147Z",
     "shell.execute_reply": "2022-05-12T19:27:40.861566Z"
    },
    "jupyter": {
     "source_hidden": true
    },
    "papermill": {
     "duration": 0.01988,
     "end_time": "2022-05-12T19:27:40.864030",
     "exception": false,
     "start_time": "2022-05-12T19:27:40.844150",
     "status": "completed"
    },
    "tags": [
     "injected-parameters",
     "remove_input"
    ]
   },
   "outputs": [],
   "source": [
    "# Parameters\n",
    "district = \"06 - Fresno\"\n",
    "itp_id = 346\n"
   ]
  },
  {
   "cell_type": "code",
   "execution_count": 4,
   "id": "9582aaf4-79ff-412a-b248-8d8d693ebd4f",
   "metadata": {
    "execution": {
     "iopub.execute_input": "2022-05-12T19:27:40.896049Z",
     "iopub.status.busy": "2022-05-12T19:27:40.895815Z",
     "iopub.status.idle": "2022-05-12T19:27:42.139745Z",
     "shell.execute_reply": "2022-05-12T19:27:42.139119Z"
    },
    "jupyter": {
     "source_hidden": true
    },
    "papermill": {
     "duration": 1.265562,
     "end_time": "2022-05-12T19:27:42.141984",
     "exception": false,
     "start_time": "2022-05-12T19:27:40.876422",
     "status": "completed"
    },
    "tags": [
     "remove_input"
    ]
   },
   "outputs": [],
   "source": [
    "df = catalog.competitive_route_variability.read()\n",
    "\n",
    "df = (df[(df.calitp_itp_id == itp_id) & \n",
    "         (df.route_group.notna())]\n",
    "      .rename(columns = {\"route_name_used\": \"route_name\"})\n",
    "      .reset_index(drop=True)\n",
    "     )\n",
    "\n",
    "if itp_id == 182:\n",
    "    df = df.assign(\n",
    "        route_id = df.route_id.str.replace('-13153', '').astype(int)\n",
    "    )"
   ]
  },
  {
   "cell_type": "code",
   "execution_count": 5,
   "id": "33ac4b06-f647-4dce-a625-8f2c1b37cc60",
   "metadata": {
    "execution": {
     "iopub.execute_input": "2022-05-12T19:27:42.169920Z",
     "iopub.status.busy": "2022-05-12T19:27:42.169032Z",
     "iopub.status.idle": "2022-05-12T19:27:42.176348Z",
     "shell.execute_reply": "2022-05-12T19:27:42.175725Z"
    },
    "jupyter": {
     "source_hidden": true
    },
    "papermill": {
     "duration": 0.022986,
     "end_time": "2022-05-12T19:27:42.177986",
     "exception": false,
     "start_time": "2022-05-12T19:27:42.155000",
     "status": "completed"
    },
    "tags": [
     "remove_input"
    ]
   },
   "outputs": [],
   "source": [
    "%%capture_parameters\n",
    "operator_name = df.name.iloc[0]\n",
    "district_number = f\"{df.caltrans_district.iloc[0].split('-')[0].strip()}\"\n",
    "district_name = f\"{df.caltrans_district.iloc[0].split('-')[1].strip().lower().replace(' ', '-')}\"\n",
    "\n",
    "itp_id, operator_name, district_number, district_name"
   ]
  },
  {
   "cell_type": "markdown",
   "id": "65bc6f5c-8348-42ee-b2dd-52057c406852",
   "metadata": {
    "papermill": {
     "duration": 0.013798,
     "end_time": "2022-05-12T19:27:42.206884",
     "exception": false,
     "start_time": "2022-05-12T19:27:42.193086",
     "status": "completed"
    },
    "tags": []
   },
   "source": [
    "# Tulare County Area Transit (ITP ID: 346)"
   ]
  },
  {
   "cell_type": "code",
   "execution_count": 6,
   "id": "a689c1ab-2c6c-4831-8d64-897f5986f571",
   "metadata": {
    "execution": {
     "iopub.execute_input": "2022-05-12T19:27:42.237583Z",
     "iopub.status.busy": "2022-05-12T19:27:42.236830Z",
     "iopub.status.idle": "2022-05-12T19:27:42.242843Z",
     "shell.execute_reply": "2022-05-12T19:27:42.242270Z"
    },
    "jupyter": {
     "source_hidden": true
    },
    "papermill": {
     "duration": 0.022892,
     "end_time": "2022-05-12T19:27:42.244541",
     "exception": false,
     "start_time": "2022-05-12T19:27:42.221649",
     "status": "completed"
    },
    "tags": [
     "remove_input"
    ]
   },
   "outputs": [
    {
     "data": {
      "text/html": [
       "<h1>Competitive & Parallel Routes</h1>"
      ],
      "text/plain": [
       "<IPython.core.display.HTML object>"
      ]
     },
     "metadata": {},
     "output_type": "display_data"
    }
   ],
   "source": [
    "display(HTML(\"<h1>Competitive & Parallel Routes</h1>\")) "
   ]
  },
  {
   "cell_type": "code",
   "execution_count": 7,
   "id": "2cb4d8d5-4760-40e4-85b1-cb833d8bb648",
   "metadata": {
    "execution": {
     "iopub.execute_input": "2022-05-12T19:27:42.274707Z",
     "iopub.status.busy": "2022-05-12T19:27:42.274114Z",
     "iopub.status.idle": "2022-05-12T19:27:52.719544Z",
     "shell.execute_reply": "2022-05-12T19:27:52.718945Z"
    },
    "jupyter": {
     "source_hidden": true
    },
    "papermill": {
     "duration": 10.463173,
     "end_time": "2022-05-12T19:27:52.721560",
     "exception": false,
     "start_time": "2022-05-12T19:27:42.258387",
     "status": "completed"
    },
    "tags": [
     "remove_input"
    ]
   },
   "outputs": [],
   "source": [
    "# Grab parameters for narrative text - clean up formatting here \n",
    "district = df.caltrans_district.iloc[0]\n",
    "formatted_date = pd.to_datetime(parallel_corridors_utils.SELECTED_DATE).strftime('%m-%d-%Y')\n",
    "\n",
    "PCT_COMPETITIVE_THRESHOLD = 0.75\n",
    "PCT_TRIPS_BELOW_CUTOFF = 1.0\n",
    "\n",
    "stats = parallel_corridors_utils.operator_parallel_competitive_stats(\n",
    "    itp_id, PCT_COMPETITIVE_THRESHOLD, PCT_TRIPS_BELOW_CUTOFF)\n",
    "\n",
    "pct_parallel = round(stats['parallel_routes'] / stats['num_routes'] * 100, 1 )\n",
    "pct_competitive =  round(stats['competitive_routes'] / stats['num_routes'] * 100, 1 )\n",
    "pct_viable =  round(stats['viable_competitive_routes'] / stats['num_routes'] * 100, 1 )"
   ]
  },
  {
   "cell_type": "code",
   "execution_count": 8,
   "id": "8bf30c8f-6aa5-47bb-82ae-a906732e81fd",
   "metadata": {
    "execution": {
     "iopub.execute_input": "2022-05-12T19:27:52.756751Z",
     "iopub.status.busy": "2022-05-12T19:27:52.756460Z",
     "iopub.status.idle": "2022-05-12T19:27:52.809054Z",
     "shell.execute_reply": "2022-05-12T19:27:52.808266Z"
    },
    "jupyter": {
     "source_hidden": true
    },
    "papermill": {
     "duration": 0.072913,
     "end_time": "2022-05-12T19:27:52.811012",
     "exception": false,
     "start_time": "2022-05-12T19:27:52.738099",
     "status": "completed"
    },
    "tags": [
     "remove_input"
    ]
   },
   "outputs": [],
   "source": [
    "# Display a table of route-level stats for each route_group\n",
    "# Displaying route_name makes chart too crowded\n",
    "\n",
    "# Get route stats (for entire df)\n",
    "route_stats = parallel_corridors_utils.competitive_route_level_stats(df)\n",
    "    \n",
    "def style_route_stats(df, top15_routes):\n",
    "    df = df[df.route_id.isin(top15_routes)]\n",
    "    \n",
    "    # Rename columns for display\n",
    "    rename_cols = {\n",
    "        \"route_id\": \"Route ID\",\n",
    "        \"route_name\": \"Route Name\",\n",
    "        \"route_group\": \"Route Group\",\n",
    "        \"num_trips\": \"# trips\",\n",
    "        \"daily_avg_freq\": \"Daily Avg Freq (trips per hr)\",\n",
    "        \"pm_peak_freq\": \"PM Peak Avg Freq (trips per hr)\",\n",
    "        \"percentiles\": \"25th, 50th, 75th ptile (hrs)\",\n",
    "    }\n",
    "    \n",
    "    # Style it\n",
    "    drop_cols = [\n",
    "        \"calitp_itp_id\", \"below_cutoff\", \"route_group\", \n",
    "        \"pct_trips_competitive\", \"pct_below_cutoff\",\n",
    "        \"p25\", \"p50\", \"p75\",\n",
    "    ]\n",
    "    \n",
    "    # Change alignment for some columns\n",
    "    # https://stackoverflow.com/questions/59453091/left-align-the-first-column-and-center-align-the-other-columns-in-a-pandas-table\n",
    "    df_style = (df.sort_values(\n",
    "        [\"pct_trips_competitive\", \"below_cutoff\", \n",
    "        \"pct_below_cutoff\", \"route_id\"], \n",
    "        ascending=[False, False, False, True])\n",
    "           .drop(columns = drop_cols)\n",
    "           .rename(columns = rename_cols)\n",
    "           .style.format(\n",
    "               subset=['Daily Avg Freq (trips per hr)', \n",
    "                       'PM Peak Avg Freq (trips per hr)'], \n",
    "               **{'formatter': '{:,.3}'})\n",
    "                .set_properties(subset=['Route ID', 'Route Name'], \n",
    "                                **{'text-align': 'left'})\n",
    "                .set_properties(subset=['# trips', 'Daily Avg Freq (trips per hr)', \n",
    "                                       'PM Peak Avg Freq (trips per hr)'], \n",
    "                               **{'text-align': 'center'})\n",
    "                .set_table_styles([dict(selector='th', \n",
    "                                        props=[('text-align', 'center')])\n",
    "                                        ])\n",
    "           .hide(axis=\"index\")\n",
    "           .to_html()\n",
    "          )\n",
    "    \n",
    "    display(HTML(\"<h4>Route Stats</h4>\"))\n",
    "    display(HTML(df_style))"
   ]
  },
  {
   "cell_type": "markdown",
   "id": "ab667928-5274-4490-82d9-4c39293209a4",
   "metadata": {
    "papermill": {
     "duration": 0.013371,
     "end_time": "2022-05-12T19:27:52.838248",
     "exception": false,
     "start_time": "2022-05-12T19:27:52.824877",
     "status": "completed"
    },
    "tags": []
   },
   "source": [
    "## Quick Stats"
   ]
  },
  {
   "cell_type": "code",
   "execution_count": 9,
   "id": "0416509d-dc62-4165-b62e-64f8b26e8b8e",
   "metadata": {
    "execution": {
     "iopub.execute_input": "2022-05-12T19:27:52.866909Z",
     "iopub.status.busy": "2022-05-12T19:27:52.866063Z",
     "iopub.status.idle": "2022-05-12T19:27:52.872516Z",
     "shell.execute_reply": "2022-05-12T19:27:52.871932Z"
    },
    "jupyter": {
     "source_hidden": true
    },
    "papermill": {
     "duration": 0.022239,
     "end_time": "2022-05-12T19:27:52.874119",
     "exception": false,
     "start_time": "2022-05-12T19:27:52.851880",
     "status": "completed"
    },
    "tags": [
     "remove_input"
    ]
   },
   "outputs": [
    {
     "data": {
      "text/markdown": [
       "**Bus routes in service: 10**<br>**Parallel routes** to State Highway Network (SHN): **7 routes (70.0%)**<br>**Competitive routes** against car travel (within 2x car travel time): **6 routes (60.0%)**<br>**Viable competitive routes** against car travel (within 2x car travel time and within 20, 30, or 40 min cut-off): **3 routes (30.0%)**"
      ],
      "text/plain": [
       "<IPython.core.display.Markdown object>"
      ]
     },
     "metadata": {},
     "output_type": "display_data"
    }
   ],
   "source": [
    "display(\n",
    "    Markdown(\n",
    "        f\"**Bus routes in service: {stats['num_routes']}**\"\n",
    "        \"<br>**Parallel routes** to State Highway Network (SHN): \"\n",
    "        f\"**{stats['parallel_routes']} routes ({pct_parallel}%)**\"\n",
    "        \"<br>**Competitive routes** against car travel (within 2x car travel time): \"\n",
    "        f\"**{stats['competitive_routes']} routes ({pct_competitive}%)**\"\n",
    "        \"<br>**Viable competitive routes** against car travel \"\n",
    "        \"(within 2x car travel time and within 20, 30, or 40 min cut-off): \"\n",
    "        f\"**{stats['viable_competitive_routes']} routes ({pct_viable}%)**\"\n",
    "    )\n",
    ")"
   ]
  },
  {
   "cell_type": "code",
   "execution_count": 10,
   "id": "f9d6ab58-f0ee-460c-b6de-657490e1f386",
   "metadata": {
    "execution": {
     "iopub.execute_input": "2022-05-12T19:27:52.933317Z",
     "iopub.status.busy": "2022-05-12T19:27:52.933006Z",
     "iopub.status.idle": "2022-05-12T19:27:52.941227Z",
     "shell.execute_reply": "2022-05-12T19:27:52.940165Z"
    },
    "jupyter": {
     "source_hidden": true
    },
    "papermill": {
     "duration": 0.036662,
     "end_time": "2022-05-12T19:27:52.943492",
     "exception": false,
     "start_time": "2022-05-12T19:27:52.906830",
     "status": "completed"
    },
    "tags": [
     "remove_input"
    ]
   },
   "outputs": [],
   "source": [
    "def set_yaxis_range(df, y_col):\n",
    "    Y_MIN = df[y_col].min()\n",
    "    Y_MAX = df[y_col].max()\n",
    "    \n",
    "    return Y_MIN, Y_MAX\n",
    "\n",
    "# Rather than set it according to the operator, which can vary,\n",
    "# just use set thresholds for each group\n",
    "def top15_routes(df, route_group):\n",
    "    # grab top 15 routes where majority of trips are below that cut-off \n",
    "    # but show 15 max, otherwise, show less, since these won't be as interesting to operators\n",
    "    df2 = (df[(df.route_group==route_group) &\n",
    "              (df.pct_below_cutoff >= PCT_TRIPS_BELOW_CUTOFF)]\n",
    "           .sort_values([\"calitp_itp_id\", \"below_cutoff\", \n",
    "                         \"pct_below_cutoff\", \"route_id\"],\n",
    "                        ascending = [True, False, False, True]\n",
    "                       )\n",
    "           .drop_duplicates(subset=[\"calitp_itp_id\", \"route_id\"])\n",
    "          ).head(15)\n",
    "    \n",
    "    return list(df2.route_id)"
   ]
  },
  {
   "cell_type": "code",
   "execution_count": 11,
   "id": "cf36d559-3349-4144-8086-8ac9ce937a5a",
   "metadata": {
    "execution": {
     "iopub.execute_input": "2022-05-12T19:27:52.977236Z",
     "iopub.status.busy": "2022-05-12T19:27:52.976934Z",
     "iopub.status.idle": "2022-05-12T19:27:52.989158Z",
     "shell.execute_reply": "2022-05-12T19:27:52.988083Z"
    },
    "jupyter": {
     "source_hidden": true
    },
    "papermill": {
     "duration": 0.03071,
     "end_time": "2022-05-12T19:27:52.991301",
     "exception": false,
     "start_time": "2022-05-12T19:27:52.960591",
     "status": "completed"
    },
    "tags": [
     "remove_input"
    ]
   },
   "outputs": [],
   "source": [
    "def caption_with_cutoff(cutoff):\n",
    "    sentence = (\n",
    "        f\"<br>These are routes that have **{int(PCT_TRIPS_BELOW_CUTOFF*100)}% \"\n",
    "        \"of their trips take no more than an \"\n",
    "        f\"additional {cutoff} min** compared to a car \"\n",
    "        \"(up to 15 routes) are shown.\"\n",
    "        \"<br>Within each route group, routes are sorted in descending order \"\n",
    "        \"by % competitive trips and # trips below the additional time cut-off.\"\n",
    "    )\n",
    "    return sentence\n",
    "\n",
    "CAPTIONS_DICT = {\n",
    "    \"short\": caption_with_cutoff(diff_cutoffs['short']),\n",
    "    \"medium\": caption_with_cutoff(diff_cutoffs['medium']),\n",
    "    \"long\": caption_with_cutoff(diff_cutoffs['long']),\n",
    "}"
   ]
  },
  {
   "cell_type": "code",
   "execution_count": 12,
   "id": "e4306d58-6944-47e9-afef-5d5b524c751f",
   "metadata": {
    "execution": {
     "iopub.execute_input": "2022-05-12T19:27:53.023921Z",
     "iopub.status.busy": "2022-05-12T19:27:53.023299Z",
     "iopub.status.idle": "2022-05-12T19:27:53.030164Z",
     "shell.execute_reply": "2022-05-12T19:27:53.029241Z"
    },
    "jupyter": {
     "source_hidden": true
    },
    "papermill": {
     "duration": 0.025926,
     "end_time": "2022-05-12T19:27:53.032434",
     "exception": false,
     "start_time": "2022-05-12T19:27:53.006508",
     "status": "completed"
    },
    "tags": [
     "remove_input"
    ]
   },
   "outputs": [],
   "source": [
    "def setup_charts(df, PCT_COMPETITIVE_THRESHOLD, route_group):\n",
    "    # Set up df for charting (cut-off at some threshold to show most competitive routes)\n",
    "    plot_me = (df[df.pct_trips_competitive > PCT_COMPETITIVE_THRESHOLD]\n",
    "           .drop(columns = \"geometry\")\n",
    "    )\n",
    "    \n",
    "    # Set y-ranges to be the same across route_groups, \n",
    "    # otherwise charts fluctuate too much, even within operator\n",
    "    y_col1 = \"bus_multiplier\"\n",
    "    Y_MIN1, Y_MAX1 = set_yaxis_range(plot_me, y_col1)\n",
    "\n",
    "    y_col2 = \"bus_difference\"\n",
    "    Y_MIN2, Y_MAX2 = set_yaxis_range(plot_me, y_col2)\n",
    "    \n",
    "    # Grab the routes to plot\n",
    "    subset_routes = top15_routes(plot_me, route_group)\n",
    "        \n",
    "    # Display charts\n",
    "    multiplier_chart = parallel_corridors_utils.make_stripplot(\n",
    "        plot_me[plot_me.route_id.isin(subset_routes)], \n",
    "        y_col1, Y_MIN = Y_MIN1, Y_MAX = Y_MAX1\n",
    "    )\n",
    "    \n",
    "    difference_chart = parallel_corridors_utils.make_stripplot(\n",
    "        plot_me[plot_me.route_id.isin(subset_routes)], \n",
    "        y_col2, Y_MIN = Y_MIN2, Y_MAX = Y_MAX2\n",
    "    )\n",
    "    \n",
    "    return subset_routes, multiplier_chart, difference_chart            "
   ]
  },
  {
   "cell_type": "code",
   "execution_count": 13,
   "id": "33a710e8-504c-4942-aa75-ff69f216956e",
   "metadata": {
    "execution": {
     "iopub.execute_input": "2022-05-12T19:27:53.065224Z",
     "iopub.status.busy": "2022-05-12T19:27:53.064925Z",
     "iopub.status.idle": "2022-05-12T19:27:53.070470Z",
     "shell.execute_reply": "2022-05-12T19:27:53.069609Z"
    },
    "jupyter": {
     "source_hidden": true
    },
    "papermill": {
     "duration": 0.024028,
     "end_time": "2022-05-12T19:27:53.072140",
     "exception": false,
     "start_time": "2022-05-12T19:27:53.048112",
     "status": "completed"
    },
    "tags": [
     "remove_input"
    ]
   },
   "outputs": [],
   "source": [
    "def display_charts_for_route_group(df, route_group):    \n",
    "    subset_routes, mult, diff  = setup_charts(df, PCT_COMPETITIVE_THRESHOLD, route_group)\n",
    "\n",
    "    if len(subset_routes) > 0:\n",
    "        display(Markdown(f\"{CAPTIONS_DICT[route_group]}\"))\n",
    "\n",
    "        display(mult)\n",
    "        display(diff)\n",
    "        \n",
    "        # Display route stats for just plotted routes\n",
    "        style_route_stats(route_stats, subset_routes)"
   ]
  },
  {
   "cell_type": "markdown",
   "id": "525f9b38-072b-46d1-96a8-1aa4b038357c",
   "metadata": {
    "papermill": {
     "duration": 0.014212,
     "end_time": "2022-05-12T19:27:53.104826",
     "exception": false,
     "start_time": "2022-05-12T19:27:53.090614",
     "status": "completed"
    },
    "tags": []
   },
   "source": [
    "## Viable Competitive Routes\n",
    "### Short Routes (< 1 hr)"
   ]
  },
  {
   "cell_type": "code",
   "execution_count": 14,
   "id": "57f7084c-2cf7-45c6-ba08-1609e0bd6ca5",
   "metadata": {
    "execution": {
     "iopub.execute_input": "2022-05-12T19:27:53.133738Z",
     "iopub.status.busy": "2022-05-12T19:27:53.133311Z",
     "iopub.status.idle": "2022-05-12T19:27:53.410402Z",
     "shell.execute_reply": "2022-05-12T19:27:53.409826Z"
    },
    "jupyter": {
     "source_hidden": true
    },
    "papermill": {
     "duration": 0.293726,
     "end_time": "2022-05-12T19:27:53.412144",
     "exception": false,
     "start_time": "2022-05-12T19:27:53.118418",
     "status": "completed"
    },
    "tags": [
     "remove_input"
    ]
   },
   "outputs": [
    {
     "data": {
      "text/markdown": [
       "<br>These are routes that have **100% of their trips take no more than an additional 20 min** compared to a car (up to 15 routes) are shown.<br>Within each route group, routes are sorted in descending order by % competitive trips and # trips below the additional time cut-off."
      ],
      "text/plain": [
       "<IPython.core.display.Markdown object>"
      ]
     },
     "metadata": {},
     "output_type": "display_data"
    },
    {
     "data": {
      "text/html": [
       "\n",
       "<div id=\"altair-viz-ed83e03918a74dcb9b434f7bc2440a26\"></div>\n",
       "<script type=\"text/javascript\">\n",
       "  var VEGA_DEBUG = (typeof VEGA_DEBUG == \"undefined\") ? {} : VEGA_DEBUG;\n",
       "  (function(spec, embedOpt){\n",
       "    let outputDiv = document.currentScript.previousElementSibling;\n",
       "    if (outputDiv.id !== \"altair-viz-ed83e03918a74dcb9b434f7bc2440a26\") {\n",
       "      outputDiv = document.getElementById(\"altair-viz-ed83e03918a74dcb9b434f7bc2440a26\");\n",
       "    }\n",
       "    const paths = {\n",
       "      \"vega\": \"https://cdn.jsdelivr.net/npm//vega@5?noext\",\n",
       "      \"vega-lib\": \"https://cdn.jsdelivr.net/npm//vega-lib?noext\",\n",
       "      \"vega-lite\": \"https://cdn.jsdelivr.net/npm//vega-lite@4.17.0?noext\",\n",
       "      \"vega-embed\": \"https://cdn.jsdelivr.net/npm//vega-embed@6?noext\",\n",
       "    };\n",
       "\n",
       "    function maybeLoadScript(lib, version) {\n",
       "      var key = `${lib.replace(\"-\", \"\")}_version`;\n",
       "      return (VEGA_DEBUG[key] == version) ?\n",
       "        Promise.resolve(paths[lib]) :\n",
       "        new Promise(function(resolve, reject) {\n",
       "          var s = document.createElement('script');\n",
       "          document.getElementsByTagName(\"head\")[0].appendChild(s);\n",
       "          s.async = true;\n",
       "          s.onload = () => {\n",
       "            VEGA_DEBUG[key] = version;\n",
       "            return resolve(paths[lib]);\n",
       "          };\n",
       "          s.onerror = () => reject(`Error loading script: ${paths[lib]}`);\n",
       "          s.src = paths[lib];\n",
       "        });\n",
       "    }\n",
       "\n",
       "    function showError(err) {\n",
       "      outputDiv.innerHTML = `<div class=\"error\" style=\"color:red;\">${err}</div>`;\n",
       "      throw err;\n",
       "    }\n",
       "\n",
       "    function displayChart(vegaEmbed) {\n",
       "      vegaEmbed(outputDiv, spec, embedOpt)\n",
       "        .catch(err => showError(`Javascript Error: ${err.message}<br>This usually means there's a typo in your chart specification. See the javascript console for the full traceback.`));\n",
       "    }\n",
       "\n",
       "    if(typeof define === \"function\" && define.amd) {\n",
       "      requirejs.config({paths});\n",
       "      require([\"vega-embed\"], displayChart, err => showError(`Error loading script: ${err.message}`));\n",
       "    } else {\n",
       "      maybeLoadScript(\"vega\", \"5\")\n",
       "        .then(() => maybeLoadScript(\"vega-lite\", \"4.17.0\"))\n",
       "        .then(() => maybeLoadScript(\"vega-embed\", \"6\"))\n",
       "        .catch(showError)\n",
       "        .then(() => displayChart(vegaEmbed));\n",
       "    }\n",
       "  })({\"config\": {\"view\": {\"continuousWidth\": 400, \"continuousHeight\": 300, \"stroke\": null}, \"facet\": {\"spacing\": 0}}, \"data\": {\"name\": \"data-8e81f60a4ee75f1827c580cf99fec2bb\"}, \"facet\": {\"column\": {\"field\": \"route_id\", \"sort\": [\"12176\", \"12182\", \"12181\"], \"title\": \"Route ID\", \"type\": \"nominal\"}}, \"spec\": {\"layer\": [{\"mark\": \"rule\", \"encoding\": {\"color\": {\"value\": \"black\"}, \"y\": {\"field\": \"cutoff\", \"type\": \"quantitative\"}}, \"selection\": {\"selector001\": {\"type\": \"interval\", \"bind\": \"scales\", \"encodings\": [\"x\", \"y\"]}}}, {\"mark\": {\"type\": \"point\", \"opacity\": 0.65, \"size\": 12, \"strokeWidth\": 1.1}, \"encoding\": {\"color\": {\"field\": \"time_of_day\", \"scale\": {\"range\": [\"#136C97\", \"#E16B26\", \"#F6BF16\", \"#00896B\", \"#7790A3\", \"#5B559C\"]}, \"sort\": [\"AM Peak\", \"Midday\", \"PM Peak\", \"Owl Service\"], \"title\": \"Time of Day\", \"type\": \"nominal\"}, \"tooltip\": [{\"field\": \"route_id\", \"type\": \"nominal\"}, {\"field\": \"route_name\", \"type\": \"nominal\"}, {\"field\": \"trip_id\", \"type\": \"nominal\"}, {\"field\": \"service_hours\", \"type\": \"quantitative\"}, {\"field\": \"car_duration_hours\", \"type\": \"quantitative\"}, {\"field\": \"bus_multiplier\", \"type\": \"quantitative\"}, {\"field\": \"bus_difference\", \"type\": \"quantitative\"}, {\"field\": \"num_trips\", \"type\": \"quantitative\"}, {\"field\": \"num_competitive\", \"type\": \"quantitative\"}, {\"field\": \"pct_trips_competitive\", \"type\": \"quantitative\"}, {\"field\": \"pct_below_cutoff\", \"type\": \"quantitative\"}, {\"field\": \"p25\", \"type\": \"quantitative\"}, {\"field\": \"p50\", \"type\": \"quantitative\"}, {\"field\": \"p75\", \"type\": \"quantitative\"}], \"x\": {\"axis\": {\"grid\": false, \"labels\": false, \"ticks\": true, \"values\": [0]}, \"field\": \"jitter\", \"scale\": {}, \"title\": null, \"type\": \"quantitative\"}, \"y\": {\"field\": \"bus_multiplier\", \"scale\": {\"domain\": [0, 4.07]}, \"title\": \"Ratio of Bus to Car Travel Time\", \"type\": \"quantitative\"}}, \"transform\": [{\"calculate\": \"sqrt(-2*log(random()))*cos(2*PI*random())\", \"as\": \"jitter\"}], \"width\": 50}, {\"layer\": [{\"mark\": {\"type\": \"point\", \"opacity\": 0.6, \"size\": 20, \"strokeWidth\": 1.3}, \"encoding\": {\"color\": {\"value\": \"#323434\"}, \"y\": {\"field\": \"bus_multiplier\", \"type\": \"quantitative\"}}, \"transform\": [{\"filter\": \"(datum.p50_trip === 1)\"}]}, {\"mark\": {\"type\": \"text\", \"align\": \"center\", \"baseline\": \"middle\"}, \"encoding\": {\"color\": {\"value\": \"black\"}, \"text\": {\"field\": \"pct_trips_competitive\", \"format\": \".0%\", \"type\": \"quantitative\"}, \"tooltip\": [{\"field\": \"route_id\", \"type\": \"nominal\"}, {\"field\": \"route_name\", \"type\": \"nominal\"}, {\"field\": \"trip_id\", \"type\": \"nominal\"}, {\"field\": \"service_hours\", \"type\": \"quantitative\"}, {\"field\": \"car_duration_hours\", \"type\": \"quantitative\"}, {\"field\": \"bus_multiplier\", \"type\": \"quantitative\"}, {\"field\": \"bus_difference\", \"type\": \"quantitative\"}, {\"field\": \"num_trips\", \"type\": \"quantitative\"}, {\"field\": \"num_competitive\", \"type\": \"quantitative\"}, {\"field\": \"pct_trips_competitive\", \"type\": \"quantitative\"}, {\"field\": \"pct_below_cutoff\", \"type\": \"quantitative\"}, {\"field\": \"p25\", \"type\": \"quantitative\"}, {\"field\": \"p50\", \"type\": \"quantitative\"}, {\"field\": \"p75\", \"type\": \"quantitative\"}], \"x\": {\"value\": 30}, \"y\": {\"value\": 15}}, \"transform\": [{\"calculate\": \"sqrt(-2*log(random()))*cos(2*PI*random())\", \"as\": \"jitter\"}, {\"filter\": \"(datum.fastest_trip === 1)\"}]}]}]}, \"resolve\": {\"scale\": {\"y\": \"shared\"}}, \"title\": \"Ratio of Bus to Car Travel Time\", \"$schema\": \"https://vega.github.io/schema/vega-lite/v4.17.0.json\", \"datasets\": {\"data-8e81f60a4ee75f1827c580cf99fec2bb\": [{\"calitp_itp_id\": 346, \"trip_key\": 3635018133532397629, \"trip_id\": \"t_500120_b_17398_tn_0\", \"shape_id\": \"p_499964\", \"route_id\": \"12176\", \"service_hours\": 1.0, \"trip_first_departure_ts\": 55200, \"trip_last_arrival_ts\": 58800, \"departure_hour\": 15, \"time_of_day\": \"Midday\", \"p25\": 1.0, \"p50\": 1.0, \"p75\": 1.0, \"p50_trip\": 1, \"fastest_trip\": 0, \"car_duration_hours\": 0.85, \"competitive_route\": 1, \"bus_multiplier\": 1.18, \"bus_difference\": 9.0, \"num_trips\": 24, \"num_competitive\": 24, \"pct_trips_competitive\": 1.0, \"bus_difference_spread\": 0.0, \"route_group\": \"short\", \"max_trip_hrs\": 1.0, \"max_trip_route_group\": 1.0, \"below_cutoff\": 24, \"pct_below_cutoff\": 1.0, \"name\": \"Tulare County Area Transit\", \"caltrans_district\": \"06 - Fresno\", \"drmt_organization_name\": null, \"route_name\": \"Porterville To Visalia\", \"cutoff2\": 20, \"cutoff\": 2}, {\"calitp_itp_id\": 346, \"trip_key\": 6123095150718780648, \"trip_id\": \"t_500088_b_17398_tn_0\", \"shape_id\": \"p_499962\", \"route_id\": \"12176\", \"service_hours\": 1.0, \"trip_first_departure_ts\": 59700, \"trip_last_arrival_ts\": 63300, \"departure_hour\": 16, \"time_of_day\": \"Midday\", \"p25\": 1.0, \"p50\": 1.0, \"p75\": 1.0, \"p50_trip\": 1, \"fastest_trip\": 0, \"car_duration_hours\": 0.85, \"competitive_route\": 1, \"bus_multiplier\": 1.18, \"bus_difference\": 9.0, \"num_trips\": 24, \"num_competitive\": 24, \"pct_trips_competitive\": 1.0, \"bus_difference_spread\": 0.0, \"route_group\": \"short\", \"max_trip_hrs\": 1.0, \"max_trip_route_group\": 1.0, \"below_cutoff\": 24, \"pct_below_cutoff\": 1.0, \"name\": \"Tulare County Area Transit\", \"caltrans_district\": \"06 - Fresno\", \"drmt_organization_name\": null, \"route_name\": \"Porterville To Visalia\", \"cutoff2\": 20, \"cutoff\": 2}, {\"calitp_itp_id\": 346, \"trip_key\": 8844100933880447275, \"trip_id\": \"t_500116_b_17398_tn_0\", \"shape_id\": \"p_499964\", \"route_id\": \"12176\", \"service_hours\": 1.0, \"trip_first_departure_ts\": 51300, \"trip_last_arrival_ts\": 54900, \"departure_hour\": 14, \"time_of_day\": \"Midday\", \"p25\": 1.0, \"p50\": 1.0, \"p75\": 1.0, \"p50_trip\": 1, \"fastest_trip\": 0, \"car_duration_hours\": 0.85, \"competitive_route\": 1, \"bus_multiplier\": 1.18, \"bus_difference\": 9.0, \"num_trips\": 24, \"num_competitive\": 24, \"pct_trips_competitive\": 1.0, \"bus_difference_spread\": 0.0, \"route_group\": \"short\", \"max_trip_hrs\": 1.0, \"max_trip_route_group\": 1.0, \"below_cutoff\": 24, \"pct_below_cutoff\": 1.0, \"name\": \"Tulare County Area Transit\", \"caltrans_district\": \"06 - Fresno\", \"drmt_organization_name\": null, \"route_name\": \"Porterville To Visalia\", \"cutoff2\": 20, \"cutoff\": 2}, {\"calitp_itp_id\": 346, \"trip_key\": -8618555785617384534, \"trip_id\": \"t_500122_b_17398_tn_0\", \"shape_id\": \"p_499964\", \"route_id\": \"12176\", \"service_hours\": 1.0, \"trip_first_departure_ts\": 27300, \"trip_last_arrival_ts\": 30900, \"departure_hour\": 7, \"time_of_day\": \"AM Peak\", \"p25\": 1.0, \"p50\": 1.0, \"p75\": 1.0, \"p50_trip\": 1, \"fastest_trip\": 0, \"car_duration_hours\": 0.85, \"competitive_route\": 1, \"bus_multiplier\": 1.18, \"bus_difference\": 9.0, \"num_trips\": 24, \"num_competitive\": 24, \"pct_trips_competitive\": 1.0, \"bus_difference_spread\": 0.0, \"route_group\": \"short\", \"max_trip_hrs\": 1.0, \"max_trip_route_group\": 1.0, \"below_cutoff\": 24, \"pct_below_cutoff\": 1.0, \"name\": \"Tulare County Area Transit\", \"caltrans_district\": \"06 - Fresno\", \"drmt_organization_name\": null, \"route_name\": \"Porterville To Visalia\", \"cutoff2\": 20, \"cutoff\": 2}, {\"calitp_itp_id\": 346, \"trip_key\": -5472278900519860126, \"trip_id\": \"t_500089_b_17398_tn_0\", \"shape_id\": \"p_499962\", \"route_id\": \"12176\", \"service_hours\": 1.0, \"trip_first_departure_ts\": 63600, \"trip_last_arrival_ts\": 67200, \"departure_hour\": 17, \"time_of_day\": \"PM Peak\", \"p25\": 1.0, \"p50\": 1.0, \"p75\": 1.0, \"p50_trip\": 1, \"fastest_trip\": 0, \"car_duration_hours\": 0.85, \"competitive_route\": 1, \"bus_multiplier\": 1.18, \"bus_difference\": 9.0, \"num_trips\": 24, \"num_competitive\": 24, \"pct_trips_competitive\": 1.0, \"bus_difference_spread\": 0.0, \"route_group\": \"short\", \"max_trip_hrs\": 1.0, \"max_trip_route_group\": 1.0, \"below_cutoff\": 24, \"pct_below_cutoff\": 1.0, \"name\": \"Tulare County Area Transit\", \"caltrans_district\": \"06 - Fresno\", \"drmt_organization_name\": null, \"route_name\": \"Porterville To Visalia\", \"cutoff2\": 20, \"cutoff\": 2}, {\"calitp_itp_id\": 346, \"trip_key\": -5412216903870809975, \"trip_id\": \"t_500123_b_17398_tn_0\", \"shape_id\": \"p_499964\", \"route_id\": \"12176\", \"service_hours\": 1.0, \"trip_first_departure_ts\": 31200, \"trip_last_arrival_ts\": 34800, \"departure_hour\": 8, \"time_of_day\": \"AM Peak\", \"p25\": 1.0, \"p50\": 1.0, \"p75\": 1.0, \"p50_trip\": 1, \"fastest_trip\": 0, \"car_duration_hours\": 0.85, \"competitive_route\": 1, \"bus_multiplier\": 1.18, \"bus_difference\": 9.0, \"num_trips\": 24, \"num_competitive\": 24, \"pct_trips_competitive\": 1.0, \"bus_difference_spread\": 0.0, \"route_group\": \"short\", \"max_trip_hrs\": 1.0, \"max_trip_route_group\": 1.0, \"below_cutoff\": 24, \"pct_below_cutoff\": 1.0, \"name\": \"Tulare County Area Transit\", \"caltrans_district\": \"06 - Fresno\", \"drmt_organization_name\": null, \"route_name\": \"Porterville To Visalia\", \"cutoff2\": 20, \"cutoff\": 2}, {\"calitp_itp_id\": 346, \"trip_key\": -757159069014569317, \"trip_id\": \"t_500085_b_17398_tn_0\", \"shape_id\": \"p_499962\", \"route_id\": \"12176\", \"service_hours\": 1.0, \"trip_first_departure_ts\": 47400, \"trip_last_arrival_ts\": 51000, \"departure_hour\": 13, \"time_of_day\": \"Midday\", \"p25\": 1.0, \"p50\": 1.0, \"p75\": 1.0, \"p50_trip\": 1, \"fastest_trip\": 0, \"car_duration_hours\": 0.85, \"competitive_route\": 1, \"bus_multiplier\": 1.18, \"bus_difference\": 9.0, \"num_trips\": 24, \"num_competitive\": 24, \"pct_trips_competitive\": 1.0, \"bus_difference_spread\": 0.0, \"route_group\": \"short\", \"max_trip_hrs\": 1.0, \"max_trip_route_group\": 1.0, \"below_cutoff\": 24, \"pct_below_cutoff\": 1.0, \"name\": \"Tulare County Area Transit\", \"caltrans_district\": \"06 - Fresno\", \"drmt_organization_name\": null, \"route_name\": \"Porterville To Visalia\", \"cutoff2\": 20, \"cutoff\": 2}, {\"calitp_itp_id\": 346, \"trip_key\": -4625468040257566598, \"trip_id\": \"t_500115_b_17398_tn_0\", \"shape_id\": \"p_499964\", \"route_id\": \"12176\", \"service_hours\": 1.0, \"trip_first_departure_ts\": 47400, \"trip_last_arrival_ts\": 51000, \"departure_hour\": 13, \"time_of_day\": \"Midday\", \"p25\": 1.0, \"p50\": 1.0, \"p75\": 1.0, \"p50_trip\": 1, \"fastest_trip\": 0, \"car_duration_hours\": 0.85, \"competitive_route\": 1, \"bus_multiplier\": 1.18, \"bus_difference\": 9.0, \"num_trips\": 24, \"num_competitive\": 24, \"pct_trips_competitive\": 1.0, \"bus_difference_spread\": 0.0, \"route_group\": \"short\", \"max_trip_hrs\": 1.0, \"max_trip_route_group\": 1.0, \"below_cutoff\": 24, \"pct_below_cutoff\": 1.0, \"name\": \"Tulare County Area Transit\", \"caltrans_district\": \"06 - Fresno\", \"drmt_organization_name\": null, \"route_name\": \"Porterville To Visalia\", \"cutoff2\": 20, \"cutoff\": 2}, {\"calitp_itp_id\": 346, \"trip_key\": 2522777758647020542, \"trip_id\": \"t_500079_b_17398_tn_0\", \"shape_id\": \"p_499962\", \"route_id\": \"12176\", \"service_hours\": 1.0, \"trip_first_departure_ts\": 27300, \"trip_last_arrival_ts\": 30900, \"departure_hour\": 7, \"time_of_day\": \"AM Peak\", \"p25\": 1.0, \"p50\": 1.0, \"p75\": 1.0, \"p50_trip\": 1, \"fastest_trip\": 0, \"car_duration_hours\": 0.85, \"competitive_route\": 1, \"bus_multiplier\": 1.18, \"bus_difference\": 9.0, \"num_trips\": 24, \"num_competitive\": 24, \"pct_trips_competitive\": 1.0, \"bus_difference_spread\": 0.0, \"route_group\": \"short\", \"max_trip_hrs\": 1.0, \"max_trip_route_group\": 1.0, \"below_cutoff\": 24, \"pct_below_cutoff\": 1.0, \"name\": \"Tulare County Area Transit\", \"caltrans_district\": \"06 - Fresno\", \"drmt_organization_name\": null, \"route_name\": \"Porterville To Visalia\", \"cutoff2\": 20, \"cutoff\": 2}, {\"calitp_itp_id\": 346, \"trip_key\": -7053576655635302747, \"trip_id\": \"t_500083_b_17398_tn_0\", \"shape_id\": \"p_499962\", \"route_id\": \"12176\", \"service_hours\": 1.0, \"trip_first_departure_ts\": 36600, \"trip_last_arrival_ts\": 40200, \"departure_hour\": 10, \"time_of_day\": \"Midday\", \"p25\": 1.0, \"p50\": 1.0, \"p75\": 1.0, \"p50_trip\": 1, \"fastest_trip\": 0, \"car_duration_hours\": 0.85, \"competitive_route\": 1, \"bus_multiplier\": 1.18, \"bus_difference\": 9.0, \"num_trips\": 24, \"num_competitive\": 24, \"pct_trips_competitive\": 1.0, \"bus_difference_spread\": 0.0, \"route_group\": \"short\", \"max_trip_hrs\": 1.0, \"max_trip_route_group\": 1.0, \"below_cutoff\": 24, \"pct_below_cutoff\": 1.0, \"name\": \"Tulare County Area Transit\", \"caltrans_district\": \"06 - Fresno\", \"drmt_organization_name\": null, \"route_name\": \"Porterville To Visalia\", \"cutoff2\": 20, \"cutoff\": 2}, {\"calitp_itp_id\": 346, \"trip_key\": -1549930987774960835, \"trip_id\": \"t_500125_b_17398_tn_0\", \"shape_id\": \"p_499964\", \"route_id\": \"12176\", \"service_hours\": 1.0, \"trip_first_departure_ts\": 40500, \"trip_last_arrival_ts\": 44100, \"departure_hour\": 11, \"time_of_day\": \"Midday\", \"p25\": 1.0, \"p50\": 1.0, \"p75\": 1.0, \"p50_trip\": 1, \"fastest_trip\": 0, \"car_duration_hours\": 0.85, \"competitive_route\": 1, \"bus_multiplier\": 1.18, \"bus_difference\": 9.0, \"num_trips\": 24, \"num_competitive\": 24, \"pct_trips_competitive\": 1.0, \"bus_difference_spread\": 0.0, \"route_group\": \"short\", \"max_trip_hrs\": 1.0, \"max_trip_route_group\": 1.0, \"below_cutoff\": 24, \"pct_below_cutoff\": 1.0, \"name\": \"Tulare County Area Transit\", \"caltrans_district\": \"06 - Fresno\", \"drmt_organization_name\": null, \"route_name\": \"Porterville To Visalia\", \"cutoff2\": 20, \"cutoff\": 2}, {\"calitp_itp_id\": 346, \"trip_key\": 1842132103230328378, \"trip_id\": \"t_500117_b_17398_tn_0\", \"shape_id\": \"p_499964\", \"route_id\": \"12176\", \"service_hours\": 1.0, \"trip_first_departure_ts\": 59700, \"trip_last_arrival_ts\": 63300, \"departure_hour\": 16, \"time_of_day\": \"Midday\", \"p25\": 1.0, \"p50\": 1.0, \"p75\": 1.0, \"p50_trip\": 1, \"fastest_trip\": 0, \"car_duration_hours\": 0.85, \"competitive_route\": 1, \"bus_multiplier\": 1.18, \"bus_difference\": 9.0, \"num_trips\": 24, \"num_competitive\": 24, \"pct_trips_competitive\": 1.0, \"bus_difference_spread\": 0.0, \"route_group\": \"short\", \"max_trip_hrs\": 1.0, \"max_trip_route_group\": 1.0, \"below_cutoff\": 24, \"pct_below_cutoff\": 1.0, \"name\": \"Tulare County Area Transit\", \"caltrans_district\": \"06 - Fresno\", \"drmt_organization_name\": null, \"route_name\": \"Porterville To Visalia\", \"cutoff2\": 20, \"cutoff\": 2}, {\"calitp_itp_id\": 346, \"trip_key\": -3669451985458913058, \"trip_id\": \"t_500082_b_17398_tn_0\", \"shape_id\": \"p_499962\", \"route_id\": \"12176\", \"service_hours\": 1.0, \"trip_first_departure_ts\": 31200, \"trip_last_arrival_ts\": 34800, \"departure_hour\": 8, \"time_of_day\": \"AM Peak\", \"p25\": 1.0, \"p50\": 1.0, \"p75\": 1.0, \"p50_trip\": 1, \"fastest_trip\": 0, \"car_duration_hours\": 0.85, \"competitive_route\": 1, \"bus_multiplier\": 1.18, \"bus_difference\": 9.0, \"num_trips\": 24, \"num_competitive\": 24, \"pct_trips_competitive\": 1.0, \"bus_difference_spread\": 0.0, \"route_group\": \"short\", \"max_trip_hrs\": 1.0, \"max_trip_route_group\": 1.0, \"below_cutoff\": 24, \"pct_below_cutoff\": 1.0, \"name\": \"Tulare County Area Transit\", \"caltrans_district\": \"06 - Fresno\", \"drmt_organization_name\": null, \"route_name\": \"Porterville To Visalia\", \"cutoff2\": 20, \"cutoff\": 2}, {\"calitp_itp_id\": 346, \"trip_key\": -5193700342022861050, \"trip_id\": \"t_500118_b_17398_tn_0\", \"shape_id\": \"p_499964\", \"route_id\": \"12176\", \"service_hours\": 1.0, \"trip_first_departure_ts\": 63600, \"trip_last_arrival_ts\": 67200, \"departure_hour\": 17, \"time_of_day\": \"PM Peak\", \"p25\": 1.0, \"p50\": 1.0, \"p75\": 1.0, \"p50_trip\": 1, \"fastest_trip\": 0, \"car_duration_hours\": 0.85, \"competitive_route\": 1, \"bus_multiplier\": 1.18, \"bus_difference\": 9.0, \"num_trips\": 24, \"num_competitive\": 24, \"pct_trips_competitive\": 1.0, \"bus_difference_spread\": 0.0, \"route_group\": \"short\", \"max_trip_hrs\": 1.0, \"max_trip_route_group\": 1.0, \"below_cutoff\": 24, \"pct_below_cutoff\": 1.0, \"name\": \"Tulare County Area Transit\", \"caltrans_district\": \"06 - Fresno\", \"drmt_organization_name\": null, \"route_name\": \"Porterville To Visalia\", \"cutoff2\": 20, \"cutoff\": 2}, {\"calitp_itp_id\": 346, \"trip_key\": 4102419972835778672, \"trip_id\": \"t_500086_b_17398_tn_0\", \"shape_id\": \"p_499962\", \"route_id\": \"12176\", \"service_hours\": 1.0, \"trip_first_departure_ts\": 51300, \"trip_last_arrival_ts\": 54900, \"departure_hour\": 14, \"time_of_day\": \"Midday\", \"p25\": 1.0, \"p50\": 1.0, \"p75\": 1.0, \"p50_trip\": 1, \"fastest_trip\": 0, \"car_duration_hours\": 0.85, \"competitive_route\": 1, \"bus_multiplier\": 1.18, \"bus_difference\": 9.0, \"num_trips\": 24, \"num_competitive\": 24, \"pct_trips_competitive\": 1.0, \"bus_difference_spread\": 0.0, \"route_group\": \"short\", \"max_trip_hrs\": 1.0, \"max_trip_route_group\": 1.0, \"below_cutoff\": 24, \"pct_below_cutoff\": 1.0, \"name\": \"Tulare County Area Transit\", \"caltrans_district\": \"06 - Fresno\", \"drmt_organization_name\": null, \"route_name\": \"Porterville To Visalia\", \"cutoff2\": 20, \"cutoff\": 2}, {\"calitp_itp_id\": 346, \"trip_key\": 3481768745216626254, \"trip_id\": \"t_500121_b_17398_tn_0\", \"shape_id\": \"p_499964\", \"route_id\": \"12176\", \"service_hours\": 1.0, \"trip_first_departure_ts\": 23400, \"trip_last_arrival_ts\": 27000, \"departure_hour\": 6, \"time_of_day\": \"Owl Service\", \"p25\": 1.0, \"p50\": 1.0, \"p75\": 1.0, \"p50_trip\": 1, \"fastest_trip\": 0, \"car_duration_hours\": 0.85, \"competitive_route\": 1, \"bus_multiplier\": 1.18, \"bus_difference\": 9.0, \"num_trips\": 24, \"num_competitive\": 24, \"pct_trips_competitive\": 1.0, \"bus_difference_spread\": 0.0, \"route_group\": \"short\", \"max_trip_hrs\": 1.0, \"max_trip_route_group\": 1.0, \"below_cutoff\": 24, \"pct_below_cutoff\": 1.0, \"name\": \"Tulare County Area Transit\", \"caltrans_district\": \"06 - Fresno\", \"drmt_organization_name\": null, \"route_name\": \"Porterville To Visalia\", \"cutoff2\": 20, \"cutoff\": 2}, {\"calitp_itp_id\": 346, \"trip_key\": 8314101309508683309, \"trip_id\": \"t_500087_b_17398_tn_0\", \"shape_id\": \"p_499962\", \"route_id\": \"12176\", \"service_hours\": 1.0, \"trip_first_departure_ts\": 55200, \"trip_last_arrival_ts\": 58800, \"departure_hour\": 15, \"time_of_day\": \"Midday\", \"p25\": 1.0, \"p50\": 1.0, \"p75\": 1.0, \"p50_trip\": 1, \"fastest_trip\": 0, \"car_duration_hours\": 0.85, \"competitive_route\": 1, \"bus_multiplier\": 1.18, \"bus_difference\": 9.0, \"num_trips\": 24, \"num_competitive\": 24, \"pct_trips_competitive\": 1.0, \"bus_difference_spread\": 0.0, \"route_group\": \"short\", \"max_trip_hrs\": 1.0, \"max_trip_route_group\": 1.0, \"below_cutoff\": 24, \"pct_below_cutoff\": 1.0, \"name\": \"Tulare County Area Transit\", \"caltrans_district\": \"06 - Fresno\", \"drmt_organization_name\": null, \"route_name\": \"Porterville To Visalia\", \"cutoff2\": 20, \"cutoff\": 2}, {\"calitp_itp_id\": 346, \"trip_key\": -7027944131050854572, \"trip_id\": \"t_500090_b_17398_tn_0\", \"shape_id\": \"p_499962\", \"route_id\": \"12176\", \"service_hours\": 1.0, \"trip_first_departure_ts\": 67980, \"trip_last_arrival_ts\": 71580, \"departure_hour\": 18, \"time_of_day\": \"PM Peak\", \"p25\": 1.0, \"p50\": 1.0, \"p75\": 1.0, \"p50_trip\": 1, \"fastest_trip\": 1, \"car_duration_hours\": 0.85, \"competitive_route\": 1, \"bus_multiplier\": 1.18, \"bus_difference\": 9.0, \"num_trips\": 24, \"num_competitive\": 24, \"pct_trips_competitive\": 1.0, \"bus_difference_spread\": 0.0, \"route_group\": \"short\", \"max_trip_hrs\": 1.0, \"max_trip_route_group\": 1.0, \"below_cutoff\": 24, \"pct_below_cutoff\": 1.0, \"name\": \"Tulare County Area Transit\", \"caltrans_district\": \"06 - Fresno\", \"drmt_organization_name\": null, \"route_name\": \"Porterville To Visalia\", \"cutoff2\": 20, \"cutoff\": 2}, {\"calitp_itp_id\": 346, \"trip_key\": -4588754416592947856, \"trip_id\": \"t_500114_b_17398_tn_0\", \"shape_id\": \"p_499964\", \"route_id\": \"12176\", \"service_hours\": 1.0, \"trip_first_departure_ts\": 19500, \"trip_last_arrival_ts\": 23100, \"departure_hour\": 5, \"time_of_day\": \"Owl Service\", \"p25\": 1.0, \"p50\": 1.0, \"p75\": 1.0, \"p50_trip\": 1, \"fastest_trip\": 0, \"car_duration_hours\": 0.85, \"competitive_route\": 1, \"bus_multiplier\": 1.18, \"bus_difference\": 9.0, \"num_trips\": 24, \"num_competitive\": 24, \"pct_trips_competitive\": 1.0, \"bus_difference_spread\": 0.0, \"route_group\": \"short\", \"max_trip_hrs\": 1.0, \"max_trip_route_group\": 1.0, \"below_cutoff\": 24, \"pct_below_cutoff\": 1.0, \"name\": \"Tulare County Area Transit\", \"caltrans_district\": \"06 - Fresno\", \"drmt_organization_name\": null, \"route_name\": \"Porterville To Visalia\", \"cutoff2\": 20, \"cutoff\": 2}, {\"calitp_itp_id\": 346, \"trip_key\": 6112727150865454334, \"trip_id\": \"t_500080_b_17398_tn_0\", \"shape_id\": \"p_499962\", \"route_id\": \"12176\", \"service_hours\": 1.0, \"trip_first_departure_ts\": 19500, \"trip_last_arrival_ts\": 23100, \"departure_hour\": 5, \"time_of_day\": \"Owl Service\", \"p25\": 1.0, \"p50\": 1.0, \"p75\": 1.0, \"p50_trip\": 1, \"fastest_trip\": 0, \"car_duration_hours\": 0.85, \"competitive_route\": 1, \"bus_multiplier\": 1.18, \"bus_difference\": 9.0, \"num_trips\": 24, \"num_competitive\": 24, \"pct_trips_competitive\": 1.0, \"bus_difference_spread\": 0.0, \"route_group\": \"short\", \"max_trip_hrs\": 1.0, \"max_trip_route_group\": 1.0, \"below_cutoff\": 24, \"pct_below_cutoff\": 1.0, \"name\": \"Tulare County Area Transit\", \"caltrans_district\": \"06 - Fresno\", \"drmt_organization_name\": null, \"route_name\": \"Porterville To Visalia\", \"cutoff2\": 20, \"cutoff\": 2}, {\"calitp_itp_id\": 346, \"trip_key\": -7664958625237909348, \"trip_id\": \"t_500124_b_17398_tn_0\", \"shape_id\": \"p_499964\", \"route_id\": \"12176\", \"service_hours\": 1.0, \"trip_first_departure_ts\": 36600, \"trip_last_arrival_ts\": 40200, \"departure_hour\": 10, \"time_of_day\": \"Midday\", \"p25\": 1.0, \"p50\": 1.0, \"p75\": 1.0, \"p50_trip\": 1, \"fastest_trip\": 0, \"car_duration_hours\": 0.85, \"competitive_route\": 1, \"bus_multiplier\": 1.18, \"bus_difference\": 9.0, \"num_trips\": 24, \"num_competitive\": 24, \"pct_trips_competitive\": 1.0, \"bus_difference_spread\": 0.0, \"route_group\": \"short\", \"max_trip_hrs\": 1.0, \"max_trip_route_group\": 1.0, \"below_cutoff\": 24, \"pct_below_cutoff\": 1.0, \"name\": \"Tulare County Area Transit\", \"caltrans_district\": \"06 - Fresno\", \"drmt_organization_name\": null, \"route_name\": \"Porterville To Visalia\", \"cutoff2\": 20, \"cutoff\": 2}, {\"calitp_itp_id\": 346, \"trip_key\": -6713784561649114602, \"trip_id\": \"t_500119_b_17398_tn_0\", \"shape_id\": \"p_499964\", \"route_id\": \"12176\", \"service_hours\": 1.0, \"trip_first_departure_ts\": 67500, \"trip_last_arrival_ts\": 71100, \"departure_hour\": 18, \"time_of_day\": \"PM Peak\", \"p25\": 1.0, \"p50\": 1.0, \"p75\": 1.0, \"p50_trip\": 1, \"fastest_trip\": 0, \"car_duration_hours\": 0.85, \"competitive_route\": 1, \"bus_multiplier\": 1.18, \"bus_difference\": 9.0, \"num_trips\": 24, \"num_competitive\": 24, \"pct_trips_competitive\": 1.0, \"bus_difference_spread\": 0.0, \"route_group\": \"short\", \"max_trip_hrs\": 1.0, \"max_trip_route_group\": 1.0, \"below_cutoff\": 24, \"pct_below_cutoff\": 1.0, \"name\": \"Tulare County Area Transit\", \"caltrans_district\": \"06 - Fresno\", \"drmt_organization_name\": null, \"route_name\": \"Porterville To Visalia\", \"cutoff2\": 20, \"cutoff\": 2}, {\"calitp_itp_id\": 346, \"trip_key\": -7045637655746196127, \"trip_id\": \"t_500081_b_17398_tn_0\", \"shape_id\": \"p_499962\", \"route_id\": \"12176\", \"service_hours\": 1.0, \"trip_first_departure_ts\": 23400, \"trip_last_arrival_ts\": 27000, \"departure_hour\": 6, \"time_of_day\": \"Owl Service\", \"p25\": 1.0, \"p50\": 1.0, \"p75\": 1.0, \"p50_trip\": 1, \"fastest_trip\": 0, \"car_duration_hours\": 0.85, \"competitive_route\": 1, \"bus_multiplier\": 1.18, \"bus_difference\": 9.0, \"num_trips\": 24, \"num_competitive\": 24, \"pct_trips_competitive\": 1.0, \"bus_difference_spread\": 0.0, \"route_group\": \"short\", \"max_trip_hrs\": 1.0, \"max_trip_route_group\": 1.0, \"below_cutoff\": 24, \"pct_below_cutoff\": 1.0, \"name\": \"Tulare County Area Transit\", \"caltrans_district\": \"06 - Fresno\", \"drmt_organization_name\": null, \"route_name\": \"Porterville To Visalia\", \"cutoff2\": 20, \"cutoff\": 2}, {\"calitp_itp_id\": 346, \"trip_key\": 5937347612052816118, \"trip_id\": \"t_500084_b_17398_tn_0\", \"shape_id\": \"p_499962\", \"route_id\": \"12176\", \"service_hours\": 1.0, \"trip_first_departure_ts\": 40500, \"trip_last_arrival_ts\": 44100, \"departure_hour\": 11, \"time_of_day\": \"Midday\", \"p25\": 1.0, \"p50\": 1.0, \"p75\": 1.0, \"p50_trip\": 1, \"fastest_trip\": 0, \"car_duration_hours\": 0.85, \"competitive_route\": 1, \"bus_multiplier\": 1.18, \"bus_difference\": 9.0, \"num_trips\": 24, \"num_competitive\": 24, \"pct_trips_competitive\": 1.0, \"bus_difference_spread\": 0.0, \"route_group\": \"short\", \"max_trip_hrs\": 1.0, \"max_trip_route_group\": 1.0, \"below_cutoff\": 24, \"pct_below_cutoff\": 1.0, \"name\": \"Tulare County Area Transit\", \"caltrans_district\": \"06 - Fresno\", \"drmt_organization_name\": null, \"route_name\": \"Porterville To Visalia\", \"cutoff2\": 20, \"cutoff\": 2}, {\"calitp_itp_id\": 346, \"trip_key\": 162832854836044158, \"trip_id\": \"t_819708_b_17398_tn_0\", \"shape_id\": \"p_786980\", \"route_id\": \"12181\", \"service_hours\": 0.43, \"trip_first_departure_ts\": 54540, \"trip_last_arrival_ts\": 56100, \"departure_hour\": 15, \"time_of_day\": \"Midday\", \"p25\": 0.4825, \"p50\": 0.5, \"p75\": 0.505, \"p50_trip\": 0, \"fastest_trip\": 1, \"car_duration_hours\": 0.4, \"competitive_route\": 1, \"bus_multiplier\": 1.08, \"bus_difference\": 1.8, \"num_trips\": 4, \"num_competitive\": 4, \"pct_trips_competitive\": 1.0, \"bus_difference_spread\": 5.4, \"route_group\": \"short\", \"max_trip_hrs\": 0.52, \"max_trip_route_group\": 0.52, \"below_cutoff\": 4, \"pct_below_cutoff\": 1.0, \"name\": \"Tulare County Area Transit\", \"caltrans_district\": \"06 - Fresno\", \"drmt_organization_name\": null, \"route_name\": \"Porterville To Springville Loop\", \"cutoff2\": 20, \"cutoff\": 2}, {\"calitp_itp_id\": 346, \"trip_key\": -5108747123102182320, \"trip_id\": \"t_819684_b_17398_tn_0\", \"shape_id\": \"p_786979\", \"route_id\": \"12181\", \"service_hours\": 0.5, \"trip_first_departure_ts\": 31380, \"trip_last_arrival_ts\": 33180, \"departure_hour\": 8, \"time_of_day\": \"AM Peak\", \"p25\": 0.4825, \"p50\": 0.5, \"p75\": 0.505, \"p50_trip\": 1, \"fastest_trip\": 0, \"car_duration_hours\": 0.4, \"competitive_route\": 1, \"bus_multiplier\": 1.25, \"bus_difference\": 6.0, \"num_trips\": 4, \"num_competitive\": 4, \"pct_trips_competitive\": 1.0, \"bus_difference_spread\": 5.4, \"route_group\": \"short\", \"max_trip_hrs\": 0.52, \"max_trip_route_group\": 0.52, \"below_cutoff\": 4, \"pct_below_cutoff\": 1.0, \"name\": \"Tulare County Area Transit\", \"caltrans_district\": \"06 - Fresno\", \"drmt_organization_name\": null, \"route_name\": \"Porterville To Springville Loop\", \"cutoff2\": 20, \"cutoff\": 2}, {\"calitp_itp_id\": 346, \"trip_key\": -4702858191340267110, \"trip_id\": \"t_819707_b_17398_tn_0\", \"shape_id\": \"p_786980\", \"route_id\": \"12181\", \"service_hours\": 0.5, \"trip_first_departure_ts\": 33480, \"trip_last_arrival_ts\": 35280, \"departure_hour\": 9, \"time_of_day\": \"AM Peak\", \"p25\": 0.4825, \"p50\": 0.5, \"p75\": 0.505, \"p50_trip\": 1, \"fastest_trip\": 0, \"car_duration_hours\": 0.4, \"competitive_route\": 1, \"bus_multiplier\": 1.25, \"bus_difference\": 6.0, \"num_trips\": 4, \"num_competitive\": 4, \"pct_trips_competitive\": 1.0, \"bus_difference_spread\": 5.4, \"route_group\": \"short\", \"max_trip_hrs\": 0.52, \"max_trip_route_group\": 0.52, \"below_cutoff\": 4, \"pct_below_cutoff\": 1.0, \"name\": \"Tulare County Area Transit\", \"caltrans_district\": \"06 - Fresno\", \"drmt_organization_name\": null, \"route_name\": \"Porterville To Springville Loop\", \"cutoff2\": 20, \"cutoff\": 2}, {\"calitp_itp_id\": 346, \"trip_key\": -4157165752352400068, \"trip_id\": \"t_819683_b_17398_tn_0\", \"shape_id\": \"p_786979\", \"route_id\": \"12181\", \"service_hours\": 0.52, \"trip_first_departure_ts\": 52380, \"trip_last_arrival_ts\": 54240, \"departure_hour\": 14, \"time_of_day\": \"Midday\", \"p25\": 0.4825, \"p50\": 0.5, \"p75\": 0.505, \"p50_trip\": 0, \"fastest_trip\": 0, \"car_duration_hours\": 0.4, \"competitive_route\": 1, \"bus_multiplier\": 1.3, \"bus_difference\": 7.2, \"num_trips\": 4, \"num_competitive\": 4, \"pct_trips_competitive\": 1.0, \"bus_difference_spread\": 5.4, \"route_group\": \"short\", \"max_trip_hrs\": 0.52, \"max_trip_route_group\": 0.52, \"below_cutoff\": 4, \"pct_below_cutoff\": 1.0, \"name\": \"Tulare County Area Transit\", \"caltrans_district\": \"06 - Fresno\", \"drmt_organization_name\": null, \"route_name\": \"Porterville To Springville Loop\", \"cutoff2\": 20, \"cutoff\": 2}, {\"calitp_itp_id\": 346, \"trip_key\": -2014617936069782422, \"trip_id\": \"t_819681_b_17398_tn_0\", \"shape_id\": \"p_786978\", \"route_id\": \"12182\", \"service_hours\": 0.38, \"trip_first_departure_ts\": 35580, \"trip_last_arrival_ts\": 36960, \"departure_hour\": 9, \"time_of_day\": \"AM Peak\", \"p25\": 0.395, \"p50\": 0.435, \"p75\": 0.4725, \"p50_trip\": 0, \"fastest_trip\": 1, \"car_duration_hours\": 0.31, \"competitive_route\": 1, \"bus_multiplier\": 1.23, \"bus_difference\": 4.2, \"num_trips\": 4, \"num_competitive\": 4, \"pct_trips_competitive\": 1.0, \"bus_difference_spread\": 5.999999999999999, \"route_group\": \"short\", \"max_trip_hrs\": 0.48, \"max_trip_route_group\": 0.48, \"below_cutoff\": 4, \"pct_below_cutoff\": 1.0, \"name\": \"Tulare County Area Transit\", \"caltrans_district\": \"06 - Fresno\", \"drmt_organization_name\": null, \"route_name\": \"Porterville To Terra Bella Loop\", \"cutoff2\": 20, \"cutoff\": 2}, {\"calitp_itp_id\": 346, \"trip_key\": -6760626856355390799, \"trip_id\": \"t_819682_b_17398_tn_0\", \"shape_id\": \"p_786978\", \"route_id\": \"12182\", \"service_hours\": 0.4, \"trip_first_departure_ts\": 56400, \"trip_last_arrival_ts\": 57840, \"departure_hour\": 15, \"time_of_day\": \"Midday\", \"p25\": 0.395, \"p50\": 0.435, \"p75\": 0.4725, \"p50_trip\": 1, \"fastest_trip\": 0, \"car_duration_hours\": 0.31, \"competitive_route\": 1, \"bus_multiplier\": 1.29, \"bus_difference\": 5.4, \"num_trips\": 4, \"num_competitive\": 4, \"pct_trips_competitive\": 1.0, \"bus_difference_spread\": 5.999999999999999, \"route_group\": \"short\", \"max_trip_hrs\": 0.48, \"max_trip_route_group\": 0.48, \"below_cutoff\": 4, \"pct_below_cutoff\": 1.0, \"name\": \"Tulare County Area Transit\", \"caltrans_district\": \"06 - Fresno\", \"drmt_organization_name\": null, \"route_name\": \"Porterville To Terra Bella Loop\", \"cutoff2\": 20, \"cutoff\": 2}, {\"calitp_itp_id\": 346, \"trip_key\": -6265703907299379208, \"trip_id\": \"t_819710_b_17398_tn_0\", \"shape_id\": \"p_786981\", \"route_id\": \"12182\", \"service_hours\": 0.47, \"trip_first_departure_ts\": 57840, \"trip_last_arrival_ts\": 59520, \"departure_hour\": 16, \"time_of_day\": \"Midday\", \"p25\": 0.395, \"p50\": 0.435, \"p75\": 0.4725, \"p50_trip\": 1, \"fastest_trip\": 0, \"car_duration_hours\": 0.31, \"competitive_route\": 1, \"bus_multiplier\": 1.52, \"bus_difference\": 9.6, \"num_trips\": 4, \"num_competitive\": 4, \"pct_trips_competitive\": 1.0, \"bus_difference_spread\": 5.999999999999999, \"route_group\": \"short\", \"max_trip_hrs\": 0.48, \"max_trip_route_group\": 0.48, \"below_cutoff\": 4, \"pct_below_cutoff\": 1.0, \"name\": \"Tulare County Area Transit\", \"caltrans_district\": \"06 - Fresno\", \"drmt_organization_name\": null, \"route_name\": \"Porterville To Terra Bella Loop\", \"cutoff2\": 20, \"cutoff\": 2}, {\"calitp_itp_id\": 346, \"trip_key\": -6777290730226303276, \"trip_id\": \"t_819709_b_17398_tn_0\", \"shape_id\": \"p_786981\", \"route_id\": \"12182\", \"service_hours\": 0.48, \"trip_first_departure_ts\": 36960, \"trip_last_arrival_ts\": 38700, \"departure_hour\": 10, \"time_of_day\": \"Midday\", \"p25\": 0.395, \"p50\": 0.435, \"p75\": 0.4725, \"p50_trip\": 0, \"fastest_trip\": 0, \"car_duration_hours\": 0.31, \"competitive_route\": 1, \"bus_multiplier\": 1.55, \"bus_difference\": 10.2, \"num_trips\": 4, \"num_competitive\": 4, \"pct_trips_competitive\": 1.0, \"bus_difference_spread\": 5.999999999999999, \"route_group\": \"short\", \"max_trip_hrs\": 0.48, \"max_trip_route_group\": 0.48, \"below_cutoff\": 4, \"pct_below_cutoff\": 1.0, \"name\": \"Tulare County Area Transit\", \"caltrans_district\": \"06 - Fresno\", \"drmt_organization_name\": null, \"route_name\": \"Porterville To Terra Bella Loop\", \"cutoff2\": 20, \"cutoff\": 2}]}}, {\"mode\": \"vega-lite\"});\n",
       "</script>"
      ],
      "text/plain": [
       "alt.FacetChart(...)"
      ]
     },
     "metadata": {},
     "output_type": "display_data"
    },
    {
     "data": {
      "text/html": [
       "\n",
       "<div id=\"altair-viz-5bd8c661e49942889abcc2bf6d7df294\"></div>\n",
       "<script type=\"text/javascript\">\n",
       "  var VEGA_DEBUG = (typeof VEGA_DEBUG == \"undefined\") ? {} : VEGA_DEBUG;\n",
       "  (function(spec, embedOpt){\n",
       "    let outputDiv = document.currentScript.previousElementSibling;\n",
       "    if (outputDiv.id !== \"altair-viz-5bd8c661e49942889abcc2bf6d7df294\") {\n",
       "      outputDiv = document.getElementById(\"altair-viz-5bd8c661e49942889abcc2bf6d7df294\");\n",
       "    }\n",
       "    const paths = {\n",
       "      \"vega\": \"https://cdn.jsdelivr.net/npm//vega@5?noext\",\n",
       "      \"vega-lib\": \"https://cdn.jsdelivr.net/npm//vega-lib?noext\",\n",
       "      \"vega-lite\": \"https://cdn.jsdelivr.net/npm//vega-lite@4.17.0?noext\",\n",
       "      \"vega-embed\": \"https://cdn.jsdelivr.net/npm//vega-embed@6?noext\",\n",
       "    };\n",
       "\n",
       "    function maybeLoadScript(lib, version) {\n",
       "      var key = `${lib.replace(\"-\", \"\")}_version`;\n",
       "      return (VEGA_DEBUG[key] == version) ?\n",
       "        Promise.resolve(paths[lib]) :\n",
       "        new Promise(function(resolve, reject) {\n",
       "          var s = document.createElement('script');\n",
       "          document.getElementsByTagName(\"head\")[0].appendChild(s);\n",
       "          s.async = true;\n",
       "          s.onload = () => {\n",
       "            VEGA_DEBUG[key] = version;\n",
       "            return resolve(paths[lib]);\n",
       "          };\n",
       "          s.onerror = () => reject(`Error loading script: ${paths[lib]}`);\n",
       "          s.src = paths[lib];\n",
       "        });\n",
       "    }\n",
       "\n",
       "    function showError(err) {\n",
       "      outputDiv.innerHTML = `<div class=\"error\" style=\"color:red;\">${err}</div>`;\n",
       "      throw err;\n",
       "    }\n",
       "\n",
       "    function displayChart(vegaEmbed) {\n",
       "      vegaEmbed(outputDiv, spec, embedOpt)\n",
       "        .catch(err => showError(`Javascript Error: ${err.message}<br>This usually means there's a typo in your chart specification. See the javascript console for the full traceback.`));\n",
       "    }\n",
       "\n",
       "    if(typeof define === \"function\" && define.amd) {\n",
       "      requirejs.config({paths});\n",
       "      require([\"vega-embed\"], displayChart, err => showError(`Error loading script: ${err.message}`));\n",
       "    } else {\n",
       "      maybeLoadScript(\"vega\", \"5\")\n",
       "        .then(() => maybeLoadScript(\"vega-lite\", \"4.17.0\"))\n",
       "        .then(() => maybeLoadScript(\"vega-embed\", \"6\"))\n",
       "        .catch(showError)\n",
       "        .then(() => displayChart(vegaEmbed));\n",
       "    }\n",
       "  })({\"config\": {\"view\": {\"continuousWidth\": 400, \"continuousHeight\": 300, \"stroke\": null}, \"facet\": {\"spacing\": 0}}, \"data\": {\"name\": \"data-28b3214779f33d4ebb26a9aae5fb7cd9\"}, \"facet\": {\"column\": {\"field\": \"route_id\", \"sort\": [\"12176\", \"12182\", \"12181\"], \"title\": \"Route ID\", \"type\": \"nominal\"}}, \"spec\": {\"layer\": [{\"mark\": \"rule\", \"encoding\": {\"color\": {\"value\": \"black\"}, \"y\": {\"field\": \"cutoff\", \"type\": \"quantitative\"}}, \"selection\": {\"selector002\": {\"type\": \"interval\", \"bind\": \"scales\", \"encodings\": [\"x\", \"y\"]}}}, {\"mark\": {\"type\": \"rule\", \"strokeDash\": [3, 3]}, \"encoding\": {\"color\": {\"value\": \"#323434\"}, \"y\": {\"field\": \"cutoff2\", \"type\": \"quantitative\"}}}, {\"mark\": {\"type\": \"point\", \"opacity\": 0.65, \"size\": 12, \"strokeWidth\": 1.1}, \"encoding\": {\"color\": {\"field\": \"time_of_day\", \"scale\": {\"range\": [\"#136C97\", \"#E16B26\", \"#F6BF16\", \"#00896B\", \"#7790A3\", \"#5B559C\"]}, \"sort\": [\"AM Peak\", \"Midday\", \"PM Peak\", \"Owl Service\"], \"title\": \"Time of Day\", \"type\": \"nominal\"}, \"tooltip\": [{\"field\": \"route_id\", \"type\": \"nominal\"}, {\"field\": \"route_name\", \"type\": \"nominal\"}, {\"field\": \"trip_id\", \"type\": \"nominal\"}, {\"field\": \"service_hours\", \"type\": \"quantitative\"}, {\"field\": \"car_duration_hours\", \"type\": \"quantitative\"}, {\"field\": \"bus_multiplier\", \"type\": \"quantitative\"}, {\"field\": \"bus_difference\", \"type\": \"quantitative\"}, {\"field\": \"num_trips\", \"type\": \"quantitative\"}, {\"field\": \"num_competitive\", \"type\": \"quantitative\"}, {\"field\": \"pct_trips_competitive\", \"type\": \"quantitative\"}, {\"field\": \"pct_below_cutoff\", \"type\": \"quantitative\"}, {\"field\": \"p25\", \"type\": \"quantitative\"}, {\"field\": \"p50\", \"type\": \"quantitative\"}, {\"field\": \"p75\", \"type\": \"quantitative\"}], \"x\": {\"axis\": {\"grid\": false, \"labels\": false, \"ticks\": true, \"values\": [0]}, \"field\": \"jitter\", \"scale\": {}, \"title\": null, \"type\": \"quantitative\"}, \"y\": {\"field\": \"bus_difference\", \"scale\": {\"domain\": [-5, 79.2]}, \"title\": \"Difference in Bus to Car Travel Time (min)\", \"type\": \"quantitative\"}}, \"transform\": [{\"calculate\": \"sqrt(-2*log(random()))*cos(2*PI*random())\", \"as\": \"jitter\"}], \"width\": 50}, {\"layer\": [{\"mark\": {\"type\": \"point\", \"opacity\": 0.6, \"size\": 20, \"strokeWidth\": 1.3}, \"encoding\": {\"color\": {\"value\": \"#323434\"}, \"y\": {\"field\": \"bus_difference\", \"type\": \"quantitative\"}}, \"transform\": [{\"filter\": \"(datum.p50_trip === 1)\"}]}, {\"mark\": {\"type\": \"text\", \"align\": \"center\", \"baseline\": \"middle\"}, \"encoding\": {\"color\": {\"value\": \"black\"}, \"text\": {\"field\": \"pct_trips_competitive\", \"format\": \".0%\", \"type\": \"quantitative\"}, \"tooltip\": [{\"field\": \"route_id\", \"type\": \"nominal\"}, {\"field\": \"route_name\", \"type\": \"nominal\"}, {\"field\": \"trip_id\", \"type\": \"nominal\"}, {\"field\": \"service_hours\", \"type\": \"quantitative\"}, {\"field\": \"car_duration_hours\", \"type\": \"quantitative\"}, {\"field\": \"bus_multiplier\", \"type\": \"quantitative\"}, {\"field\": \"bus_difference\", \"type\": \"quantitative\"}, {\"field\": \"num_trips\", \"type\": \"quantitative\"}, {\"field\": \"num_competitive\", \"type\": \"quantitative\"}, {\"field\": \"pct_trips_competitive\", \"type\": \"quantitative\"}, {\"field\": \"pct_below_cutoff\", \"type\": \"quantitative\"}, {\"field\": \"p25\", \"type\": \"quantitative\"}, {\"field\": \"p50\", \"type\": \"quantitative\"}, {\"field\": \"p75\", \"type\": \"quantitative\"}], \"x\": {\"value\": 30}, \"y\": {\"value\": 15}}, \"transform\": [{\"calculate\": \"sqrt(-2*log(random()))*cos(2*PI*random())\", \"as\": \"jitter\"}, {\"filter\": \"(datum.fastest_trip === 1)\"}]}]}]}, \"resolve\": {\"scale\": {\"y\": \"shared\"}}, \"title\": \"Difference in Bus to Car Travel Time (min)\", \"$schema\": \"https://vega.github.io/schema/vega-lite/v4.17.0.json\", \"datasets\": {\"data-28b3214779f33d4ebb26a9aae5fb7cd9\": [{\"calitp_itp_id\": 346, \"trip_key\": 3635018133532397629, \"trip_id\": \"t_500120_b_17398_tn_0\", \"shape_id\": \"p_499964\", \"route_id\": \"12176\", \"service_hours\": 1.0, \"trip_first_departure_ts\": 55200, \"trip_last_arrival_ts\": 58800, \"departure_hour\": 15, \"time_of_day\": \"Midday\", \"p25\": 1.0, \"p50\": 1.0, \"p75\": 1.0, \"p50_trip\": 1, \"fastest_trip\": 0, \"car_duration_hours\": 0.85, \"competitive_route\": 1, \"bus_multiplier\": 1.18, \"bus_difference\": 9.0, \"num_trips\": 24, \"num_competitive\": 24, \"pct_trips_competitive\": 1.0, \"bus_difference_spread\": 0.0, \"route_group\": \"short\", \"max_trip_hrs\": 1.0, \"max_trip_route_group\": 1.0, \"below_cutoff\": 24, \"pct_below_cutoff\": 1.0, \"name\": \"Tulare County Area Transit\", \"caltrans_district\": \"06 - Fresno\", \"drmt_organization_name\": null, \"route_name\": \"Porterville To Visalia\", \"cutoff2\": 20, \"cutoff\": 0}, {\"calitp_itp_id\": 346, \"trip_key\": 6123095150718780648, \"trip_id\": \"t_500088_b_17398_tn_0\", \"shape_id\": \"p_499962\", \"route_id\": \"12176\", \"service_hours\": 1.0, \"trip_first_departure_ts\": 59700, \"trip_last_arrival_ts\": 63300, \"departure_hour\": 16, \"time_of_day\": \"Midday\", \"p25\": 1.0, \"p50\": 1.0, \"p75\": 1.0, \"p50_trip\": 1, \"fastest_trip\": 0, \"car_duration_hours\": 0.85, \"competitive_route\": 1, \"bus_multiplier\": 1.18, \"bus_difference\": 9.0, \"num_trips\": 24, \"num_competitive\": 24, \"pct_trips_competitive\": 1.0, \"bus_difference_spread\": 0.0, \"route_group\": \"short\", \"max_trip_hrs\": 1.0, \"max_trip_route_group\": 1.0, \"below_cutoff\": 24, \"pct_below_cutoff\": 1.0, \"name\": \"Tulare County Area Transit\", \"caltrans_district\": \"06 - Fresno\", \"drmt_organization_name\": null, \"route_name\": \"Porterville To Visalia\", \"cutoff2\": 20, \"cutoff\": 0}, {\"calitp_itp_id\": 346, \"trip_key\": 8844100933880447275, \"trip_id\": \"t_500116_b_17398_tn_0\", \"shape_id\": \"p_499964\", \"route_id\": \"12176\", \"service_hours\": 1.0, \"trip_first_departure_ts\": 51300, \"trip_last_arrival_ts\": 54900, \"departure_hour\": 14, \"time_of_day\": \"Midday\", \"p25\": 1.0, \"p50\": 1.0, \"p75\": 1.0, \"p50_trip\": 1, \"fastest_trip\": 0, \"car_duration_hours\": 0.85, \"competitive_route\": 1, \"bus_multiplier\": 1.18, \"bus_difference\": 9.0, \"num_trips\": 24, \"num_competitive\": 24, \"pct_trips_competitive\": 1.0, \"bus_difference_spread\": 0.0, \"route_group\": \"short\", \"max_trip_hrs\": 1.0, \"max_trip_route_group\": 1.0, \"below_cutoff\": 24, \"pct_below_cutoff\": 1.0, \"name\": \"Tulare County Area Transit\", \"caltrans_district\": \"06 - Fresno\", \"drmt_organization_name\": null, \"route_name\": \"Porterville To Visalia\", \"cutoff2\": 20, \"cutoff\": 0}, {\"calitp_itp_id\": 346, \"trip_key\": -8618555785617384534, \"trip_id\": \"t_500122_b_17398_tn_0\", \"shape_id\": \"p_499964\", \"route_id\": \"12176\", \"service_hours\": 1.0, \"trip_first_departure_ts\": 27300, \"trip_last_arrival_ts\": 30900, \"departure_hour\": 7, \"time_of_day\": \"AM Peak\", \"p25\": 1.0, \"p50\": 1.0, \"p75\": 1.0, \"p50_trip\": 1, \"fastest_trip\": 0, \"car_duration_hours\": 0.85, \"competitive_route\": 1, \"bus_multiplier\": 1.18, \"bus_difference\": 9.0, \"num_trips\": 24, \"num_competitive\": 24, \"pct_trips_competitive\": 1.0, \"bus_difference_spread\": 0.0, \"route_group\": \"short\", \"max_trip_hrs\": 1.0, \"max_trip_route_group\": 1.0, \"below_cutoff\": 24, \"pct_below_cutoff\": 1.0, \"name\": \"Tulare County Area Transit\", \"caltrans_district\": \"06 - Fresno\", \"drmt_organization_name\": null, \"route_name\": \"Porterville To Visalia\", \"cutoff2\": 20, \"cutoff\": 0}, {\"calitp_itp_id\": 346, \"trip_key\": -5472278900519860126, \"trip_id\": \"t_500089_b_17398_tn_0\", \"shape_id\": \"p_499962\", \"route_id\": \"12176\", \"service_hours\": 1.0, \"trip_first_departure_ts\": 63600, \"trip_last_arrival_ts\": 67200, \"departure_hour\": 17, \"time_of_day\": \"PM Peak\", \"p25\": 1.0, \"p50\": 1.0, \"p75\": 1.0, \"p50_trip\": 1, \"fastest_trip\": 0, \"car_duration_hours\": 0.85, \"competitive_route\": 1, \"bus_multiplier\": 1.18, \"bus_difference\": 9.0, \"num_trips\": 24, \"num_competitive\": 24, \"pct_trips_competitive\": 1.0, \"bus_difference_spread\": 0.0, \"route_group\": \"short\", \"max_trip_hrs\": 1.0, \"max_trip_route_group\": 1.0, \"below_cutoff\": 24, \"pct_below_cutoff\": 1.0, \"name\": \"Tulare County Area Transit\", \"caltrans_district\": \"06 - Fresno\", \"drmt_organization_name\": null, \"route_name\": \"Porterville To Visalia\", \"cutoff2\": 20, \"cutoff\": 0}, {\"calitp_itp_id\": 346, \"trip_key\": -5412216903870809975, \"trip_id\": \"t_500123_b_17398_tn_0\", \"shape_id\": \"p_499964\", \"route_id\": \"12176\", \"service_hours\": 1.0, \"trip_first_departure_ts\": 31200, \"trip_last_arrival_ts\": 34800, \"departure_hour\": 8, \"time_of_day\": \"AM Peak\", \"p25\": 1.0, \"p50\": 1.0, \"p75\": 1.0, \"p50_trip\": 1, \"fastest_trip\": 0, \"car_duration_hours\": 0.85, \"competitive_route\": 1, \"bus_multiplier\": 1.18, \"bus_difference\": 9.0, \"num_trips\": 24, \"num_competitive\": 24, \"pct_trips_competitive\": 1.0, \"bus_difference_spread\": 0.0, \"route_group\": \"short\", \"max_trip_hrs\": 1.0, \"max_trip_route_group\": 1.0, \"below_cutoff\": 24, \"pct_below_cutoff\": 1.0, \"name\": \"Tulare County Area Transit\", \"caltrans_district\": \"06 - Fresno\", \"drmt_organization_name\": null, \"route_name\": \"Porterville To Visalia\", \"cutoff2\": 20, \"cutoff\": 0}, {\"calitp_itp_id\": 346, \"trip_key\": -757159069014569317, \"trip_id\": \"t_500085_b_17398_tn_0\", \"shape_id\": \"p_499962\", \"route_id\": \"12176\", \"service_hours\": 1.0, \"trip_first_departure_ts\": 47400, \"trip_last_arrival_ts\": 51000, \"departure_hour\": 13, \"time_of_day\": \"Midday\", \"p25\": 1.0, \"p50\": 1.0, \"p75\": 1.0, \"p50_trip\": 1, \"fastest_trip\": 0, \"car_duration_hours\": 0.85, \"competitive_route\": 1, \"bus_multiplier\": 1.18, \"bus_difference\": 9.0, \"num_trips\": 24, \"num_competitive\": 24, \"pct_trips_competitive\": 1.0, \"bus_difference_spread\": 0.0, \"route_group\": \"short\", \"max_trip_hrs\": 1.0, \"max_trip_route_group\": 1.0, \"below_cutoff\": 24, \"pct_below_cutoff\": 1.0, \"name\": \"Tulare County Area Transit\", \"caltrans_district\": \"06 - Fresno\", \"drmt_organization_name\": null, \"route_name\": \"Porterville To Visalia\", \"cutoff2\": 20, \"cutoff\": 0}, {\"calitp_itp_id\": 346, \"trip_key\": -4625468040257566598, \"trip_id\": \"t_500115_b_17398_tn_0\", \"shape_id\": \"p_499964\", \"route_id\": \"12176\", \"service_hours\": 1.0, \"trip_first_departure_ts\": 47400, \"trip_last_arrival_ts\": 51000, \"departure_hour\": 13, \"time_of_day\": \"Midday\", \"p25\": 1.0, \"p50\": 1.0, \"p75\": 1.0, \"p50_trip\": 1, \"fastest_trip\": 0, \"car_duration_hours\": 0.85, \"competitive_route\": 1, \"bus_multiplier\": 1.18, \"bus_difference\": 9.0, \"num_trips\": 24, \"num_competitive\": 24, \"pct_trips_competitive\": 1.0, \"bus_difference_spread\": 0.0, \"route_group\": \"short\", \"max_trip_hrs\": 1.0, \"max_trip_route_group\": 1.0, \"below_cutoff\": 24, \"pct_below_cutoff\": 1.0, \"name\": \"Tulare County Area Transit\", \"caltrans_district\": \"06 - Fresno\", \"drmt_organization_name\": null, \"route_name\": \"Porterville To Visalia\", \"cutoff2\": 20, \"cutoff\": 0}, {\"calitp_itp_id\": 346, \"trip_key\": 2522777758647020542, \"trip_id\": \"t_500079_b_17398_tn_0\", \"shape_id\": \"p_499962\", \"route_id\": \"12176\", \"service_hours\": 1.0, \"trip_first_departure_ts\": 27300, \"trip_last_arrival_ts\": 30900, \"departure_hour\": 7, \"time_of_day\": \"AM Peak\", \"p25\": 1.0, \"p50\": 1.0, \"p75\": 1.0, \"p50_trip\": 1, \"fastest_trip\": 0, \"car_duration_hours\": 0.85, \"competitive_route\": 1, \"bus_multiplier\": 1.18, \"bus_difference\": 9.0, \"num_trips\": 24, \"num_competitive\": 24, \"pct_trips_competitive\": 1.0, \"bus_difference_spread\": 0.0, \"route_group\": \"short\", \"max_trip_hrs\": 1.0, \"max_trip_route_group\": 1.0, \"below_cutoff\": 24, \"pct_below_cutoff\": 1.0, \"name\": \"Tulare County Area Transit\", \"caltrans_district\": \"06 - Fresno\", \"drmt_organization_name\": null, \"route_name\": \"Porterville To Visalia\", \"cutoff2\": 20, \"cutoff\": 0}, {\"calitp_itp_id\": 346, \"trip_key\": -7053576655635302747, \"trip_id\": \"t_500083_b_17398_tn_0\", \"shape_id\": \"p_499962\", \"route_id\": \"12176\", \"service_hours\": 1.0, \"trip_first_departure_ts\": 36600, \"trip_last_arrival_ts\": 40200, \"departure_hour\": 10, \"time_of_day\": \"Midday\", \"p25\": 1.0, \"p50\": 1.0, \"p75\": 1.0, \"p50_trip\": 1, \"fastest_trip\": 0, \"car_duration_hours\": 0.85, \"competitive_route\": 1, \"bus_multiplier\": 1.18, \"bus_difference\": 9.0, \"num_trips\": 24, \"num_competitive\": 24, \"pct_trips_competitive\": 1.0, \"bus_difference_spread\": 0.0, \"route_group\": \"short\", \"max_trip_hrs\": 1.0, \"max_trip_route_group\": 1.0, \"below_cutoff\": 24, \"pct_below_cutoff\": 1.0, \"name\": \"Tulare County Area Transit\", \"caltrans_district\": \"06 - Fresno\", \"drmt_organization_name\": null, \"route_name\": \"Porterville To Visalia\", \"cutoff2\": 20, \"cutoff\": 0}, {\"calitp_itp_id\": 346, \"trip_key\": -1549930987774960835, \"trip_id\": \"t_500125_b_17398_tn_0\", \"shape_id\": \"p_499964\", \"route_id\": \"12176\", \"service_hours\": 1.0, \"trip_first_departure_ts\": 40500, \"trip_last_arrival_ts\": 44100, \"departure_hour\": 11, \"time_of_day\": \"Midday\", \"p25\": 1.0, \"p50\": 1.0, \"p75\": 1.0, \"p50_trip\": 1, \"fastest_trip\": 0, \"car_duration_hours\": 0.85, \"competitive_route\": 1, \"bus_multiplier\": 1.18, \"bus_difference\": 9.0, \"num_trips\": 24, \"num_competitive\": 24, \"pct_trips_competitive\": 1.0, \"bus_difference_spread\": 0.0, \"route_group\": \"short\", \"max_trip_hrs\": 1.0, \"max_trip_route_group\": 1.0, \"below_cutoff\": 24, \"pct_below_cutoff\": 1.0, \"name\": \"Tulare County Area Transit\", \"caltrans_district\": \"06 - Fresno\", \"drmt_organization_name\": null, \"route_name\": \"Porterville To Visalia\", \"cutoff2\": 20, \"cutoff\": 0}, {\"calitp_itp_id\": 346, \"trip_key\": 1842132103230328378, \"trip_id\": \"t_500117_b_17398_tn_0\", \"shape_id\": \"p_499964\", \"route_id\": \"12176\", \"service_hours\": 1.0, \"trip_first_departure_ts\": 59700, \"trip_last_arrival_ts\": 63300, \"departure_hour\": 16, \"time_of_day\": \"Midday\", \"p25\": 1.0, \"p50\": 1.0, \"p75\": 1.0, \"p50_trip\": 1, \"fastest_trip\": 0, \"car_duration_hours\": 0.85, \"competitive_route\": 1, \"bus_multiplier\": 1.18, \"bus_difference\": 9.0, \"num_trips\": 24, \"num_competitive\": 24, \"pct_trips_competitive\": 1.0, \"bus_difference_spread\": 0.0, \"route_group\": \"short\", \"max_trip_hrs\": 1.0, \"max_trip_route_group\": 1.0, \"below_cutoff\": 24, \"pct_below_cutoff\": 1.0, \"name\": \"Tulare County Area Transit\", \"caltrans_district\": \"06 - Fresno\", \"drmt_organization_name\": null, \"route_name\": \"Porterville To Visalia\", \"cutoff2\": 20, \"cutoff\": 0}, {\"calitp_itp_id\": 346, \"trip_key\": -3669451985458913058, \"trip_id\": \"t_500082_b_17398_tn_0\", \"shape_id\": \"p_499962\", \"route_id\": \"12176\", \"service_hours\": 1.0, \"trip_first_departure_ts\": 31200, \"trip_last_arrival_ts\": 34800, \"departure_hour\": 8, \"time_of_day\": \"AM Peak\", \"p25\": 1.0, \"p50\": 1.0, \"p75\": 1.0, \"p50_trip\": 1, \"fastest_trip\": 0, \"car_duration_hours\": 0.85, \"competitive_route\": 1, \"bus_multiplier\": 1.18, \"bus_difference\": 9.0, \"num_trips\": 24, \"num_competitive\": 24, \"pct_trips_competitive\": 1.0, \"bus_difference_spread\": 0.0, \"route_group\": \"short\", \"max_trip_hrs\": 1.0, \"max_trip_route_group\": 1.0, \"below_cutoff\": 24, \"pct_below_cutoff\": 1.0, \"name\": \"Tulare County Area Transit\", \"caltrans_district\": \"06 - Fresno\", \"drmt_organization_name\": null, \"route_name\": \"Porterville To Visalia\", \"cutoff2\": 20, \"cutoff\": 0}, {\"calitp_itp_id\": 346, \"trip_key\": -5193700342022861050, \"trip_id\": \"t_500118_b_17398_tn_0\", \"shape_id\": \"p_499964\", \"route_id\": \"12176\", \"service_hours\": 1.0, \"trip_first_departure_ts\": 63600, \"trip_last_arrival_ts\": 67200, \"departure_hour\": 17, \"time_of_day\": \"PM Peak\", \"p25\": 1.0, \"p50\": 1.0, \"p75\": 1.0, \"p50_trip\": 1, \"fastest_trip\": 0, \"car_duration_hours\": 0.85, \"competitive_route\": 1, \"bus_multiplier\": 1.18, \"bus_difference\": 9.0, \"num_trips\": 24, \"num_competitive\": 24, \"pct_trips_competitive\": 1.0, \"bus_difference_spread\": 0.0, \"route_group\": \"short\", \"max_trip_hrs\": 1.0, \"max_trip_route_group\": 1.0, \"below_cutoff\": 24, \"pct_below_cutoff\": 1.0, \"name\": \"Tulare County Area Transit\", \"caltrans_district\": \"06 - Fresno\", \"drmt_organization_name\": null, \"route_name\": \"Porterville To Visalia\", \"cutoff2\": 20, \"cutoff\": 0}, {\"calitp_itp_id\": 346, \"trip_key\": 4102419972835778672, \"trip_id\": \"t_500086_b_17398_tn_0\", \"shape_id\": \"p_499962\", \"route_id\": \"12176\", \"service_hours\": 1.0, \"trip_first_departure_ts\": 51300, \"trip_last_arrival_ts\": 54900, \"departure_hour\": 14, \"time_of_day\": \"Midday\", \"p25\": 1.0, \"p50\": 1.0, \"p75\": 1.0, \"p50_trip\": 1, \"fastest_trip\": 0, \"car_duration_hours\": 0.85, \"competitive_route\": 1, \"bus_multiplier\": 1.18, \"bus_difference\": 9.0, \"num_trips\": 24, \"num_competitive\": 24, \"pct_trips_competitive\": 1.0, \"bus_difference_spread\": 0.0, \"route_group\": \"short\", \"max_trip_hrs\": 1.0, \"max_trip_route_group\": 1.0, \"below_cutoff\": 24, \"pct_below_cutoff\": 1.0, \"name\": \"Tulare County Area Transit\", \"caltrans_district\": \"06 - Fresno\", \"drmt_organization_name\": null, \"route_name\": \"Porterville To Visalia\", \"cutoff2\": 20, \"cutoff\": 0}, {\"calitp_itp_id\": 346, \"trip_key\": 3481768745216626254, \"trip_id\": \"t_500121_b_17398_tn_0\", \"shape_id\": \"p_499964\", \"route_id\": \"12176\", \"service_hours\": 1.0, \"trip_first_departure_ts\": 23400, \"trip_last_arrival_ts\": 27000, \"departure_hour\": 6, \"time_of_day\": \"Owl Service\", \"p25\": 1.0, \"p50\": 1.0, \"p75\": 1.0, \"p50_trip\": 1, \"fastest_trip\": 0, \"car_duration_hours\": 0.85, \"competitive_route\": 1, \"bus_multiplier\": 1.18, \"bus_difference\": 9.0, \"num_trips\": 24, \"num_competitive\": 24, \"pct_trips_competitive\": 1.0, \"bus_difference_spread\": 0.0, \"route_group\": \"short\", \"max_trip_hrs\": 1.0, \"max_trip_route_group\": 1.0, \"below_cutoff\": 24, \"pct_below_cutoff\": 1.0, \"name\": \"Tulare County Area Transit\", \"caltrans_district\": \"06 - Fresno\", \"drmt_organization_name\": null, \"route_name\": \"Porterville To Visalia\", \"cutoff2\": 20, \"cutoff\": 0}, {\"calitp_itp_id\": 346, \"trip_key\": 8314101309508683309, \"trip_id\": \"t_500087_b_17398_tn_0\", \"shape_id\": \"p_499962\", \"route_id\": \"12176\", \"service_hours\": 1.0, \"trip_first_departure_ts\": 55200, \"trip_last_arrival_ts\": 58800, \"departure_hour\": 15, \"time_of_day\": \"Midday\", \"p25\": 1.0, \"p50\": 1.0, \"p75\": 1.0, \"p50_trip\": 1, \"fastest_trip\": 0, \"car_duration_hours\": 0.85, \"competitive_route\": 1, \"bus_multiplier\": 1.18, \"bus_difference\": 9.0, \"num_trips\": 24, \"num_competitive\": 24, \"pct_trips_competitive\": 1.0, \"bus_difference_spread\": 0.0, \"route_group\": \"short\", \"max_trip_hrs\": 1.0, \"max_trip_route_group\": 1.0, \"below_cutoff\": 24, \"pct_below_cutoff\": 1.0, \"name\": \"Tulare County Area Transit\", \"caltrans_district\": \"06 - Fresno\", \"drmt_organization_name\": null, \"route_name\": \"Porterville To Visalia\", \"cutoff2\": 20, \"cutoff\": 0}, {\"calitp_itp_id\": 346, \"trip_key\": -7027944131050854572, \"trip_id\": \"t_500090_b_17398_tn_0\", \"shape_id\": \"p_499962\", \"route_id\": \"12176\", \"service_hours\": 1.0, \"trip_first_departure_ts\": 67980, \"trip_last_arrival_ts\": 71580, \"departure_hour\": 18, \"time_of_day\": \"PM Peak\", \"p25\": 1.0, \"p50\": 1.0, \"p75\": 1.0, \"p50_trip\": 1, \"fastest_trip\": 1, \"car_duration_hours\": 0.85, \"competitive_route\": 1, \"bus_multiplier\": 1.18, \"bus_difference\": 9.0, \"num_trips\": 24, \"num_competitive\": 24, \"pct_trips_competitive\": 1.0, \"bus_difference_spread\": 0.0, \"route_group\": \"short\", \"max_trip_hrs\": 1.0, \"max_trip_route_group\": 1.0, \"below_cutoff\": 24, \"pct_below_cutoff\": 1.0, \"name\": \"Tulare County Area Transit\", \"caltrans_district\": \"06 - Fresno\", \"drmt_organization_name\": null, \"route_name\": \"Porterville To Visalia\", \"cutoff2\": 20, \"cutoff\": 0}, {\"calitp_itp_id\": 346, \"trip_key\": -4588754416592947856, \"trip_id\": \"t_500114_b_17398_tn_0\", \"shape_id\": \"p_499964\", \"route_id\": \"12176\", \"service_hours\": 1.0, \"trip_first_departure_ts\": 19500, \"trip_last_arrival_ts\": 23100, \"departure_hour\": 5, \"time_of_day\": \"Owl Service\", \"p25\": 1.0, \"p50\": 1.0, \"p75\": 1.0, \"p50_trip\": 1, \"fastest_trip\": 0, \"car_duration_hours\": 0.85, \"competitive_route\": 1, \"bus_multiplier\": 1.18, \"bus_difference\": 9.0, \"num_trips\": 24, \"num_competitive\": 24, \"pct_trips_competitive\": 1.0, \"bus_difference_spread\": 0.0, \"route_group\": \"short\", \"max_trip_hrs\": 1.0, \"max_trip_route_group\": 1.0, \"below_cutoff\": 24, \"pct_below_cutoff\": 1.0, \"name\": \"Tulare County Area Transit\", \"caltrans_district\": \"06 - Fresno\", \"drmt_organization_name\": null, \"route_name\": \"Porterville To Visalia\", \"cutoff2\": 20, \"cutoff\": 0}, {\"calitp_itp_id\": 346, \"trip_key\": 6112727150865454334, \"trip_id\": \"t_500080_b_17398_tn_0\", \"shape_id\": \"p_499962\", \"route_id\": \"12176\", \"service_hours\": 1.0, \"trip_first_departure_ts\": 19500, \"trip_last_arrival_ts\": 23100, \"departure_hour\": 5, \"time_of_day\": \"Owl Service\", \"p25\": 1.0, \"p50\": 1.0, \"p75\": 1.0, \"p50_trip\": 1, \"fastest_trip\": 0, \"car_duration_hours\": 0.85, \"competitive_route\": 1, \"bus_multiplier\": 1.18, \"bus_difference\": 9.0, \"num_trips\": 24, \"num_competitive\": 24, \"pct_trips_competitive\": 1.0, \"bus_difference_spread\": 0.0, \"route_group\": \"short\", \"max_trip_hrs\": 1.0, \"max_trip_route_group\": 1.0, \"below_cutoff\": 24, \"pct_below_cutoff\": 1.0, \"name\": \"Tulare County Area Transit\", \"caltrans_district\": \"06 - Fresno\", \"drmt_organization_name\": null, \"route_name\": \"Porterville To Visalia\", \"cutoff2\": 20, \"cutoff\": 0}, {\"calitp_itp_id\": 346, \"trip_key\": -7664958625237909348, \"trip_id\": \"t_500124_b_17398_tn_0\", \"shape_id\": \"p_499964\", \"route_id\": \"12176\", \"service_hours\": 1.0, \"trip_first_departure_ts\": 36600, \"trip_last_arrival_ts\": 40200, \"departure_hour\": 10, \"time_of_day\": \"Midday\", \"p25\": 1.0, \"p50\": 1.0, \"p75\": 1.0, \"p50_trip\": 1, \"fastest_trip\": 0, \"car_duration_hours\": 0.85, \"competitive_route\": 1, \"bus_multiplier\": 1.18, \"bus_difference\": 9.0, \"num_trips\": 24, \"num_competitive\": 24, \"pct_trips_competitive\": 1.0, \"bus_difference_spread\": 0.0, \"route_group\": \"short\", \"max_trip_hrs\": 1.0, \"max_trip_route_group\": 1.0, \"below_cutoff\": 24, \"pct_below_cutoff\": 1.0, \"name\": \"Tulare County Area Transit\", \"caltrans_district\": \"06 - Fresno\", \"drmt_organization_name\": null, \"route_name\": \"Porterville To Visalia\", \"cutoff2\": 20, \"cutoff\": 0}, {\"calitp_itp_id\": 346, \"trip_key\": -6713784561649114602, \"trip_id\": \"t_500119_b_17398_tn_0\", \"shape_id\": \"p_499964\", \"route_id\": \"12176\", \"service_hours\": 1.0, \"trip_first_departure_ts\": 67500, \"trip_last_arrival_ts\": 71100, \"departure_hour\": 18, \"time_of_day\": \"PM Peak\", \"p25\": 1.0, \"p50\": 1.0, \"p75\": 1.0, \"p50_trip\": 1, \"fastest_trip\": 0, \"car_duration_hours\": 0.85, \"competitive_route\": 1, \"bus_multiplier\": 1.18, \"bus_difference\": 9.0, \"num_trips\": 24, \"num_competitive\": 24, \"pct_trips_competitive\": 1.0, \"bus_difference_spread\": 0.0, \"route_group\": \"short\", \"max_trip_hrs\": 1.0, \"max_trip_route_group\": 1.0, \"below_cutoff\": 24, \"pct_below_cutoff\": 1.0, \"name\": \"Tulare County Area Transit\", \"caltrans_district\": \"06 - Fresno\", \"drmt_organization_name\": null, \"route_name\": \"Porterville To Visalia\", \"cutoff2\": 20, \"cutoff\": 0}, {\"calitp_itp_id\": 346, \"trip_key\": -7045637655746196127, \"trip_id\": \"t_500081_b_17398_tn_0\", \"shape_id\": \"p_499962\", \"route_id\": \"12176\", \"service_hours\": 1.0, \"trip_first_departure_ts\": 23400, \"trip_last_arrival_ts\": 27000, \"departure_hour\": 6, \"time_of_day\": \"Owl Service\", \"p25\": 1.0, \"p50\": 1.0, \"p75\": 1.0, \"p50_trip\": 1, \"fastest_trip\": 0, \"car_duration_hours\": 0.85, \"competitive_route\": 1, \"bus_multiplier\": 1.18, \"bus_difference\": 9.0, \"num_trips\": 24, \"num_competitive\": 24, \"pct_trips_competitive\": 1.0, \"bus_difference_spread\": 0.0, \"route_group\": \"short\", \"max_trip_hrs\": 1.0, \"max_trip_route_group\": 1.0, \"below_cutoff\": 24, \"pct_below_cutoff\": 1.0, \"name\": \"Tulare County Area Transit\", \"caltrans_district\": \"06 - Fresno\", \"drmt_organization_name\": null, \"route_name\": \"Porterville To Visalia\", \"cutoff2\": 20, \"cutoff\": 0}, {\"calitp_itp_id\": 346, \"trip_key\": 5937347612052816118, \"trip_id\": \"t_500084_b_17398_tn_0\", \"shape_id\": \"p_499962\", \"route_id\": \"12176\", \"service_hours\": 1.0, \"trip_first_departure_ts\": 40500, \"trip_last_arrival_ts\": 44100, \"departure_hour\": 11, \"time_of_day\": \"Midday\", \"p25\": 1.0, \"p50\": 1.0, \"p75\": 1.0, \"p50_trip\": 1, \"fastest_trip\": 0, \"car_duration_hours\": 0.85, \"competitive_route\": 1, \"bus_multiplier\": 1.18, \"bus_difference\": 9.0, \"num_trips\": 24, \"num_competitive\": 24, \"pct_trips_competitive\": 1.0, \"bus_difference_spread\": 0.0, \"route_group\": \"short\", \"max_trip_hrs\": 1.0, \"max_trip_route_group\": 1.0, \"below_cutoff\": 24, \"pct_below_cutoff\": 1.0, \"name\": \"Tulare County Area Transit\", \"caltrans_district\": \"06 - Fresno\", \"drmt_organization_name\": null, \"route_name\": \"Porterville To Visalia\", \"cutoff2\": 20, \"cutoff\": 0}, {\"calitp_itp_id\": 346, \"trip_key\": 162832854836044158, \"trip_id\": \"t_819708_b_17398_tn_0\", \"shape_id\": \"p_786980\", \"route_id\": \"12181\", \"service_hours\": 0.43, \"trip_first_departure_ts\": 54540, \"trip_last_arrival_ts\": 56100, \"departure_hour\": 15, \"time_of_day\": \"Midday\", \"p25\": 0.4825, \"p50\": 0.5, \"p75\": 0.505, \"p50_trip\": 0, \"fastest_trip\": 1, \"car_duration_hours\": 0.4, \"competitive_route\": 1, \"bus_multiplier\": 1.08, \"bus_difference\": 1.8, \"num_trips\": 4, \"num_competitive\": 4, \"pct_trips_competitive\": 1.0, \"bus_difference_spread\": 5.4, \"route_group\": \"short\", \"max_trip_hrs\": 0.52, \"max_trip_route_group\": 0.52, \"below_cutoff\": 4, \"pct_below_cutoff\": 1.0, \"name\": \"Tulare County Area Transit\", \"caltrans_district\": \"06 - Fresno\", \"drmt_organization_name\": null, \"route_name\": \"Porterville To Springville Loop\", \"cutoff2\": 20, \"cutoff\": 0}, {\"calitp_itp_id\": 346, \"trip_key\": -5108747123102182320, \"trip_id\": \"t_819684_b_17398_tn_0\", \"shape_id\": \"p_786979\", \"route_id\": \"12181\", \"service_hours\": 0.5, \"trip_first_departure_ts\": 31380, \"trip_last_arrival_ts\": 33180, \"departure_hour\": 8, \"time_of_day\": \"AM Peak\", \"p25\": 0.4825, \"p50\": 0.5, \"p75\": 0.505, \"p50_trip\": 1, \"fastest_trip\": 0, \"car_duration_hours\": 0.4, \"competitive_route\": 1, \"bus_multiplier\": 1.25, \"bus_difference\": 6.0, \"num_trips\": 4, \"num_competitive\": 4, \"pct_trips_competitive\": 1.0, \"bus_difference_spread\": 5.4, \"route_group\": \"short\", \"max_trip_hrs\": 0.52, \"max_trip_route_group\": 0.52, \"below_cutoff\": 4, \"pct_below_cutoff\": 1.0, \"name\": \"Tulare County Area Transit\", \"caltrans_district\": \"06 - Fresno\", \"drmt_organization_name\": null, \"route_name\": \"Porterville To Springville Loop\", \"cutoff2\": 20, \"cutoff\": 0}, {\"calitp_itp_id\": 346, \"trip_key\": -4702858191340267110, \"trip_id\": \"t_819707_b_17398_tn_0\", \"shape_id\": \"p_786980\", \"route_id\": \"12181\", \"service_hours\": 0.5, \"trip_first_departure_ts\": 33480, \"trip_last_arrival_ts\": 35280, \"departure_hour\": 9, \"time_of_day\": \"AM Peak\", \"p25\": 0.4825, \"p50\": 0.5, \"p75\": 0.505, \"p50_trip\": 1, \"fastest_trip\": 0, \"car_duration_hours\": 0.4, \"competitive_route\": 1, \"bus_multiplier\": 1.25, \"bus_difference\": 6.0, \"num_trips\": 4, \"num_competitive\": 4, \"pct_trips_competitive\": 1.0, \"bus_difference_spread\": 5.4, \"route_group\": \"short\", \"max_trip_hrs\": 0.52, \"max_trip_route_group\": 0.52, \"below_cutoff\": 4, \"pct_below_cutoff\": 1.0, \"name\": \"Tulare County Area Transit\", \"caltrans_district\": \"06 - Fresno\", \"drmt_organization_name\": null, \"route_name\": \"Porterville To Springville Loop\", \"cutoff2\": 20, \"cutoff\": 0}, {\"calitp_itp_id\": 346, \"trip_key\": -4157165752352400068, \"trip_id\": \"t_819683_b_17398_tn_0\", \"shape_id\": \"p_786979\", \"route_id\": \"12181\", \"service_hours\": 0.52, \"trip_first_departure_ts\": 52380, \"trip_last_arrival_ts\": 54240, \"departure_hour\": 14, \"time_of_day\": \"Midday\", \"p25\": 0.4825, \"p50\": 0.5, \"p75\": 0.505, \"p50_trip\": 0, \"fastest_trip\": 0, \"car_duration_hours\": 0.4, \"competitive_route\": 1, \"bus_multiplier\": 1.3, \"bus_difference\": 7.2, \"num_trips\": 4, \"num_competitive\": 4, \"pct_trips_competitive\": 1.0, \"bus_difference_spread\": 5.4, \"route_group\": \"short\", \"max_trip_hrs\": 0.52, \"max_trip_route_group\": 0.52, \"below_cutoff\": 4, \"pct_below_cutoff\": 1.0, \"name\": \"Tulare County Area Transit\", \"caltrans_district\": \"06 - Fresno\", \"drmt_organization_name\": null, \"route_name\": \"Porterville To Springville Loop\", \"cutoff2\": 20, \"cutoff\": 0}, {\"calitp_itp_id\": 346, \"trip_key\": -2014617936069782422, \"trip_id\": \"t_819681_b_17398_tn_0\", \"shape_id\": \"p_786978\", \"route_id\": \"12182\", \"service_hours\": 0.38, \"trip_first_departure_ts\": 35580, \"trip_last_arrival_ts\": 36960, \"departure_hour\": 9, \"time_of_day\": \"AM Peak\", \"p25\": 0.395, \"p50\": 0.435, \"p75\": 0.4725, \"p50_trip\": 0, \"fastest_trip\": 1, \"car_duration_hours\": 0.31, \"competitive_route\": 1, \"bus_multiplier\": 1.23, \"bus_difference\": 4.2, \"num_trips\": 4, \"num_competitive\": 4, \"pct_trips_competitive\": 1.0, \"bus_difference_spread\": 5.999999999999999, \"route_group\": \"short\", \"max_trip_hrs\": 0.48, \"max_trip_route_group\": 0.48, \"below_cutoff\": 4, \"pct_below_cutoff\": 1.0, \"name\": \"Tulare County Area Transit\", \"caltrans_district\": \"06 - Fresno\", \"drmt_organization_name\": null, \"route_name\": \"Porterville To Terra Bella Loop\", \"cutoff2\": 20, \"cutoff\": 0}, {\"calitp_itp_id\": 346, \"trip_key\": -6760626856355390799, \"trip_id\": \"t_819682_b_17398_tn_0\", \"shape_id\": \"p_786978\", \"route_id\": \"12182\", \"service_hours\": 0.4, \"trip_first_departure_ts\": 56400, \"trip_last_arrival_ts\": 57840, \"departure_hour\": 15, \"time_of_day\": \"Midday\", \"p25\": 0.395, \"p50\": 0.435, \"p75\": 0.4725, \"p50_trip\": 1, \"fastest_trip\": 0, \"car_duration_hours\": 0.31, \"competitive_route\": 1, \"bus_multiplier\": 1.29, \"bus_difference\": 5.4, \"num_trips\": 4, \"num_competitive\": 4, \"pct_trips_competitive\": 1.0, \"bus_difference_spread\": 5.999999999999999, \"route_group\": \"short\", \"max_trip_hrs\": 0.48, \"max_trip_route_group\": 0.48, \"below_cutoff\": 4, \"pct_below_cutoff\": 1.0, \"name\": \"Tulare County Area Transit\", \"caltrans_district\": \"06 - Fresno\", \"drmt_organization_name\": null, \"route_name\": \"Porterville To Terra Bella Loop\", \"cutoff2\": 20, \"cutoff\": 0}, {\"calitp_itp_id\": 346, \"trip_key\": -6265703907299379208, \"trip_id\": \"t_819710_b_17398_tn_0\", \"shape_id\": \"p_786981\", \"route_id\": \"12182\", \"service_hours\": 0.47, \"trip_first_departure_ts\": 57840, \"trip_last_arrival_ts\": 59520, \"departure_hour\": 16, \"time_of_day\": \"Midday\", \"p25\": 0.395, \"p50\": 0.435, \"p75\": 0.4725, \"p50_trip\": 1, \"fastest_trip\": 0, \"car_duration_hours\": 0.31, \"competitive_route\": 1, \"bus_multiplier\": 1.52, \"bus_difference\": 9.6, \"num_trips\": 4, \"num_competitive\": 4, \"pct_trips_competitive\": 1.0, \"bus_difference_spread\": 5.999999999999999, \"route_group\": \"short\", \"max_trip_hrs\": 0.48, \"max_trip_route_group\": 0.48, \"below_cutoff\": 4, \"pct_below_cutoff\": 1.0, \"name\": \"Tulare County Area Transit\", \"caltrans_district\": \"06 - Fresno\", \"drmt_organization_name\": null, \"route_name\": \"Porterville To Terra Bella Loop\", \"cutoff2\": 20, \"cutoff\": 0}, {\"calitp_itp_id\": 346, \"trip_key\": -6777290730226303276, \"trip_id\": \"t_819709_b_17398_tn_0\", \"shape_id\": \"p_786981\", \"route_id\": \"12182\", \"service_hours\": 0.48, \"trip_first_departure_ts\": 36960, \"trip_last_arrival_ts\": 38700, \"departure_hour\": 10, \"time_of_day\": \"Midday\", \"p25\": 0.395, \"p50\": 0.435, \"p75\": 0.4725, \"p50_trip\": 0, \"fastest_trip\": 0, \"car_duration_hours\": 0.31, \"competitive_route\": 1, \"bus_multiplier\": 1.55, \"bus_difference\": 10.2, \"num_trips\": 4, \"num_competitive\": 4, \"pct_trips_competitive\": 1.0, \"bus_difference_spread\": 5.999999999999999, \"route_group\": \"short\", \"max_trip_hrs\": 0.48, \"max_trip_route_group\": 0.48, \"below_cutoff\": 4, \"pct_below_cutoff\": 1.0, \"name\": \"Tulare County Area Transit\", \"caltrans_district\": \"06 - Fresno\", \"drmt_organization_name\": null, \"route_name\": \"Porterville To Terra Bella Loop\", \"cutoff2\": 20, \"cutoff\": 0}]}}, {\"mode\": \"vega-lite\"});\n",
       "</script>"
      ],
      "text/plain": [
       "alt.FacetChart(...)"
      ]
     },
     "metadata": {},
     "output_type": "display_data"
    },
    {
     "data": {
      "text/html": [
       "<h4>Route Stats</h4>"
      ],
      "text/plain": [
       "<IPython.core.display.HTML object>"
      ]
     },
     "metadata": {},
     "output_type": "display_data"
    },
    {
     "data": {
      "text/html": [
       "<style type=\"text/css\">\n",
       "#T_f4b55 th {\n",
       "  text-align: center;\n",
       "}\n",
       "#T_f4b55_row0_col0, #T_f4b55_row0_col1, #T_f4b55_row1_col0, #T_f4b55_row1_col1, #T_f4b55_row2_col0, #T_f4b55_row2_col1 {\n",
       "  text-align: left;\n",
       "}\n",
       "#T_f4b55_row0_col2, #T_f4b55_row0_col3, #T_f4b55_row0_col5, #T_f4b55_row1_col2, #T_f4b55_row1_col3, #T_f4b55_row1_col5, #T_f4b55_row2_col2, #T_f4b55_row2_col3, #T_f4b55_row2_col5 {\n",
       "  text-align: center;\n",
       "}\n",
       "</style>\n",
       "<table id=\"T_f4b55\">\n",
       "  <thead>\n",
       "    <tr>\n",
       "      <th id=\"T_f4b55_level0_col0\" class=\"col_heading level0 col0\" >Route ID</th>\n",
       "      <th id=\"T_f4b55_level0_col1\" class=\"col_heading level0 col1\" >Route Name</th>\n",
       "      <th id=\"T_f4b55_level0_col2\" class=\"col_heading level0 col2\" ># trips</th>\n",
       "      <th id=\"T_f4b55_level0_col3\" class=\"col_heading level0 col3\" >Daily Avg Freq (trips per hr)</th>\n",
       "      <th id=\"T_f4b55_level0_col4\" class=\"col_heading level0 col4\" >25th, 50th, 75th ptile (hrs)</th>\n",
       "      <th id=\"T_f4b55_level0_col5\" class=\"col_heading level0 col5\" >PM Peak Avg Freq (trips per hr)</th>\n",
       "    </tr>\n",
       "  </thead>\n",
       "  <tbody>\n",
       "    <tr>\n",
       "      <td id=\"T_f4b55_row0_col0\" class=\"data row0 col0\" >12176</td>\n",
       "      <td id=\"T_f4b55_row0_col1\" class=\"data row0 col1\" >Porterville To Visalia</td>\n",
       "      <td id=\"T_f4b55_row0_col2\" class=\"data row0 col2\" >24</td>\n",
       "      <td id=\"T_f4b55_row0_col3\" class=\"data row0 col3\" >1.0</td>\n",
       "      <td id=\"T_f4b55_row0_col4\" class=\"data row0 col4\" >1.0, 1.0, 1.0</td>\n",
       "      <td id=\"T_f4b55_row0_col5\" class=\"data row0 col5\" >1.33</td>\n",
       "    </tr>\n",
       "    <tr>\n",
       "      <td id=\"T_f4b55_row1_col0\" class=\"data row1 col0\" >12181</td>\n",
       "      <td id=\"T_f4b55_row1_col1\" class=\"data row1 col1\" >Porterville To Springville Loop</td>\n",
       "      <td id=\"T_f4b55_row1_col2\" class=\"data row1 col2\" >4</td>\n",
       "      <td id=\"T_f4b55_row1_col3\" class=\"data row1 col3\" >0.17</td>\n",
       "      <td id=\"T_f4b55_row1_col4\" class=\"data row1 col4\" >0.48, 0.5, 0.5</td>\n",
       "      <td id=\"T_f4b55_row1_col5\" class=\"data row1 col5\" >nan</td>\n",
       "    </tr>\n",
       "    <tr>\n",
       "      <td id=\"T_f4b55_row2_col0\" class=\"data row2 col0\" >12182</td>\n",
       "      <td id=\"T_f4b55_row2_col1\" class=\"data row2 col1\" >Porterville To Terra Bella Loop</td>\n",
       "      <td id=\"T_f4b55_row2_col2\" class=\"data row2 col2\" >4</td>\n",
       "      <td id=\"T_f4b55_row2_col3\" class=\"data row2 col3\" >0.17</td>\n",
       "      <td id=\"T_f4b55_row2_col4\" class=\"data row2 col4\" >0.4, 0.44, 0.47</td>\n",
       "      <td id=\"T_f4b55_row2_col5\" class=\"data row2 col5\" >nan</td>\n",
       "    </tr>\n",
       "  </tbody>\n",
       "</table>\n"
      ],
      "text/plain": [
       "<IPython.core.display.HTML object>"
      ]
     },
     "metadata": {},
     "output_type": "display_data"
    }
   ],
   "source": [
    "# Allow for possibility that operator doesn't have routes that fall into certain route_groups\n",
    "# But, jupyterbook will not like markdown with f-string\n",
    "# separate out route_group and put in each cell, and use try/except + if to display...\n",
    "# but all 3 route groups must be displayed. just add sentence about why no routes were returned at the end\n",
    "route_group = \"short\"\n",
    "try:\n",
    "    display_charts_for_route_group(df, route_group)\n",
    "except:\n",
    "    print(\"No routes meet this criteria.\")"
   ]
  },
  {
   "cell_type": "markdown",
   "id": "c2931b6f-034d-4384-9e14-80b925e3b820",
   "metadata": {
    "papermill": {
     "duration": 0.018272,
     "end_time": "2022-05-12T19:27:53.448516",
     "exception": false,
     "start_time": "2022-05-12T19:27:53.430244",
     "status": "completed"
    },
    "tags": []
   },
   "source": [
    "### Medium Routes (1-1.5 hrs)"
   ]
  },
  {
   "cell_type": "code",
   "execution_count": 15,
   "id": "480edddc-4de0-48c2-ae4c-b0ceef8f28b5",
   "metadata": {
    "execution": {
     "iopub.execute_input": "2022-05-12T19:27:53.488400Z",
     "iopub.status.busy": "2022-05-12T19:27:53.485507Z",
     "iopub.status.idle": "2022-05-12T19:27:53.498861Z",
     "shell.execute_reply": "2022-05-12T19:27:53.498307Z"
    },
    "jupyter": {
     "source_hidden": true
    },
    "papermill": {
     "duration": 0.034438,
     "end_time": "2022-05-12T19:27:53.500584",
     "exception": false,
     "start_time": "2022-05-12T19:27:53.466146",
     "status": "completed"
    },
    "tags": [
     "remove_input"
    ]
   },
   "outputs": [
    {
     "name": "stdout",
     "output_type": "stream",
     "text": [
      "No routes meet this criteria.\n"
     ]
    }
   ],
   "source": [
    "route_group = \"medium\"\n",
    "try:\n",
    "    display_charts_for_route_group(df, route_group)\n",
    "except:\n",
    "    print(\"No routes meet this criteria.\")"
   ]
  },
  {
   "cell_type": "markdown",
   "id": "124b76d0-886c-4d03-92ac-f1bda3cda182",
   "metadata": {
    "papermill": {
     "duration": 0.020297,
     "end_time": "2022-05-12T19:27:53.537833",
     "exception": false,
     "start_time": "2022-05-12T19:27:53.517536",
     "status": "completed"
    },
    "tags": []
   },
   "source": [
    "### Long Routes (> 1.5 hrs)"
   ]
  },
  {
   "cell_type": "code",
   "execution_count": 16,
   "id": "ddc81b19-4c45-4c81-8b7a-5e0f394aa7a3",
   "metadata": {
    "execution": {
     "iopub.execute_input": "2022-05-12T19:27:53.579167Z",
     "iopub.status.busy": "2022-05-12T19:27:53.578681Z",
     "iopub.status.idle": "2022-05-12T19:27:53.600389Z",
     "shell.execute_reply": "2022-05-12T19:27:53.599638Z"
    },
    "jupyter": {
     "source_hidden": true
    },
    "papermill": {
     "duration": 0.046412,
     "end_time": "2022-05-12T19:27:53.602761",
     "exception": false,
     "start_time": "2022-05-12T19:27:53.556349",
     "status": "completed"
    },
    "tags": [
     "remove_input"
    ]
   },
   "outputs": [
    {
     "name": "stdout",
     "output_type": "stream",
     "text": [
      "No routes meet this criteria.\n"
     ]
    }
   ],
   "source": [
    "route_group = \"long\"\n",
    "try:\n",
    "    display_charts_for_route_group(df, route_group)\n",
    "except:\n",
    "    print(\"No routes meet this criteria.\")"
   ]
  },
  {
   "cell_type": "markdown",
   "id": "ace75b5f-0442-4fbe-aebd-6c3a13ae13a7",
   "metadata": {
    "papermill": {
     "duration": 0.019455,
     "end_time": "2022-05-12T19:27:53.642093",
     "exception": false,
     "start_time": "2022-05-12T19:27:53.622638",
     "status": "completed"
    },
    "tags": []
   },
   "source": [
    "### GTFS Real-Time Speedmaps"
   ]
  },
  {
   "cell_type": "code",
   "execution_count": 17,
   "id": "a0a114a1-e975-4027-9daf-50029f5ef59f",
   "metadata": {
    "execution": {
     "iopub.execute_input": "2022-05-12T19:27:53.685665Z",
     "iopub.status.busy": "2022-05-12T19:27:53.685390Z",
     "iopub.status.idle": "2022-05-12T19:27:53.710264Z",
     "shell.execute_reply": "2022-05-12T19:27:53.709455Z"
    },
    "jupyter": {
     "source_hidden": true
    },
    "papermill": {
     "duration": 0.049991,
     "end_time": "2022-05-12T19:27:53.712057",
     "exception": false,
     "start_time": "2022-05-12T19:27:53.662066",
     "status": "completed"
    },
    "tags": [
     "remove_input"
    ]
   },
   "outputs": [
    {
     "data": {
      "text/html": [
       "No GTFS RT data available."
      ],
      "text/plain": [
       "<IPython.core.display.HTML object>"
      ]
     },
     "metadata": {},
     "output_type": "display_data"
    }
   ],
   "source": [
    "RT_SITE_YAML = \"../portfolio/sites/rt.yml\"\n",
    "\n",
    "# Grab list of ITP IDs with GTFS RT speedmaps\n",
    "rt_itp_id = deploy_portfolio_yaml.check_if_rt_data_available(RT_SITE_YAML)\n",
    "\n",
    "# Construct the URL \n",
    "RT_URL = (\"https://analysis.calitp.org/rt/\"\n",
    "          f\"district_{district_number}-{district_name}/\"\n",
    "          f\"speedmaps__itp_id_{itp_id}.html\"\n",
    "         ) \n",
    "\n",
    "# If this ITP ID is found in RT analysis, give URL to that operator in analysis.calitp.org\n",
    "if itp_id in rt_itp_id:\n",
    "    display(HTML(f'''<a href={RT_URL}>GTFS RT speedmaps here.</a>'''))\n",
    "\n",
    "else:\n",
    "    display(HTML(\"No GTFS RT data available.\"))"
   ]
  },
  {
   "cell_type": "code",
   "execution_count": null,
   "id": "5b680565-2230-4f2e-817c-718fad48d64c",
   "metadata": {
    "jupyter": {
     "source_hidden": true
    },
    "papermill": {
     "duration": 0.021152,
     "end_time": "2022-05-12T19:27:53.752910",
     "exception": false,
     "start_time": "2022-05-12T19:27:53.731758",
     "status": "completed"
    },
    "tags": [
     "remove_input"
    ]
   },
   "outputs": [],
   "source": []
  }
 ],
 "metadata": {
  "kernelspec": {
   "display_name": "Python 3 (ipykernel)",
   "language": "python",
   "name": "python3"
  },
  "language_info": {
   "codemirror_mode": {
    "name": "ipython",
    "version": 3
   },
   "file_extension": ".py",
   "mimetype": "text/x-python",
   "name": "python",
   "nbconvert_exporter": "python",
   "pygments_lexer": "ipython3",
   "version": "3.9.12"
  },
  "papermill": {
   "default_parameters": {},
   "duration": 23.417923,
   "end_time": "2022-05-12T19:27:54.894352",
   "environment_variables": {},
   "exception": null,
   "input_path": "bus_service_increase/competitive-parallel-routes.ipynb",
   "output_path": "portfolio/parallel_corridors/district_06-fresno/8__competitive-parallel-routes__district_06-fresno__itp_id_346.ipynb",
   "parameters": {
    "district": "06 - Fresno",
    "itp_id": 346
   },
   "start_time": "2022-05-12T19:27:31.476429",
   "version": "2.3.4"
  }
 },
 "nbformat": 4,
 "nbformat_minor": 5
}