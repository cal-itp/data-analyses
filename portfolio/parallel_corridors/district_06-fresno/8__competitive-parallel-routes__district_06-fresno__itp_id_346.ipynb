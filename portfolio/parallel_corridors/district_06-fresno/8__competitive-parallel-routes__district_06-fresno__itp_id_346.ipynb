{
 "cells": [
  {
   "cell_type": "code",
   "execution_count": 1,
   "id": "95d00857-6a20-4529-a519-2cc7182928a9",
   "metadata": {
    "execution": {
     "iopub.execute_input": "2022-05-12T02:17:19.382190Z",
     "iopub.status.busy": "2022-05-12T02:17:19.381812Z",
     "iopub.status.idle": "2022-05-12T02:17:27.783995Z",
     "shell.execute_reply": "2022-05-12T02:17:27.783338Z"
    },
    "jupyter": {
     "source_hidden": true
    },
    "papermill": {
     "duration": 8.418713,
     "end_time": "2022-05-12T02:17:27.786320",
     "exception": false,
     "start_time": "2022-05-12T02:17:19.367607",
     "status": "completed"
    },
    "tags": [
     "remove_input"
    ]
   },
   "outputs": [],
   "source": [
    "%%capture\n",
    "import warnings\n",
    "warnings.filterwarnings('ignore')\n",
    "\n",
    "import altair as alt\n",
    "import calitp.magics\n",
    "import geopandas as gpd\n",
    "import intake\n",
    "import pandas as pd\n",
    "\n",
    "from IPython.display import display, Markdown, HTML\n",
    "\n",
    "import parallel_corridors_utils\n",
    "import deploy_portfolio_yaml\n",
    "from shared_utils import styleguide, geography_utils\n",
    "from make_stripplot_data import diff_cutoffs\n",
    "\n",
    "catalog = intake.open_catalog(\"./*.yml\")\n",
    "alt.renderers.enable(\"html\")"
   ]
  },
  {
   "cell_type": "code",
   "execution_count": 2,
   "id": "8af2a0c1-f3da-408d-9bea-11d9fbf8695d",
   "metadata": {
    "execution": {
     "iopub.execute_input": "2022-05-12T02:17:27.813385Z",
     "iopub.status.busy": "2022-05-12T02:17:27.813041Z",
     "iopub.status.idle": "2022-05-12T02:17:27.817162Z",
     "shell.execute_reply": "2022-05-12T02:17:27.816271Z"
    },
    "jupyter": {
     "source_hidden": true
    },
    "papermill": {
     "duration": 0.020131,
     "end_time": "2022-05-12T02:17:27.819270",
     "exception": false,
     "start_time": "2022-05-12T02:17:27.799139",
     "status": "completed"
    },
    "tags": [
     "parameters",
     "remove_input"
    ]
   },
   "outputs": [],
   "source": [
    "# parameters cell\n",
    "itp_id = 182"
   ]
  },
  {
   "cell_type": "code",
   "execution_count": 3,
   "id": "94b7f32d",
   "metadata": {
    "execution": {
     "iopub.execute_input": "2022-05-12T02:17:27.844201Z",
     "iopub.status.busy": "2022-05-12T02:17:27.843923Z",
     "iopub.status.idle": "2022-05-12T02:17:27.847782Z",
     "shell.execute_reply": "2022-05-12T02:17:27.846898Z"
    },
    "jupyter": {
     "source_hidden": true
    },
    "papermill": {
     "duration": 0.019139,
     "end_time": "2022-05-12T02:17:27.849830",
     "exception": false,
     "start_time": "2022-05-12T02:17:27.830691",
     "status": "completed"
    },
    "tags": [
     "injected-parameters",
     "remove_input"
    ]
   },
   "outputs": [],
   "source": [
    "# Parameters\n",
    "district = \"06 - Fresno\"\n",
    "itp_id = 346\n"
   ]
  },
  {
   "cell_type": "code",
   "execution_count": 4,
   "id": "9582aaf4-79ff-412a-b248-8d8d693ebd4f",
   "metadata": {
    "execution": {
     "iopub.execute_input": "2022-05-12T02:17:27.875171Z",
     "iopub.status.busy": "2022-05-12T02:17:27.874805Z",
     "iopub.status.idle": "2022-05-12T02:17:29.162537Z",
     "shell.execute_reply": "2022-05-12T02:17:29.161794Z"
    },
    "jupyter": {
     "source_hidden": true
    },
    "papermill": {
     "duration": 1.303171,
     "end_time": "2022-05-12T02:17:29.164519",
     "exception": false,
     "start_time": "2022-05-12T02:17:27.861348",
     "status": "completed"
    },
    "tags": [
     "remove_input"
    ]
   },
   "outputs": [],
   "source": [
    "df = catalog.competitive_route_variability.read()\n",
    "\n",
    "df = (df[(df.calitp_itp_id == itp_id) & \n",
    "         (df.route_group.notna())]\n",
    "      .rename(columns = {\"route_name_used\": \"route_name\"})\n",
    "      .reset_index(drop=True)\n",
    "     )\n",
    "\n",
    "if itp_id == 182:\n",
    "    df = df.assign(\n",
    "        route_id = df.route_id.str.replace('-13153', '').astype(int)\n",
    "    )"
   ]
  },
  {
   "cell_type": "code",
   "execution_count": 5,
   "id": "33ac4b06-f647-4dce-a625-8f2c1b37cc60",
   "metadata": {
    "execution": {
     "iopub.execute_input": "2022-05-12T02:17:29.190923Z",
     "iopub.status.busy": "2022-05-12T02:17:29.190671Z",
     "iopub.status.idle": "2022-05-12T02:17:29.197601Z",
     "shell.execute_reply": "2022-05-12T02:17:29.196837Z"
    },
    "jupyter": {
     "source_hidden": true
    },
    "papermill": {
     "duration": 0.022807,
     "end_time": "2022-05-12T02:17:29.199572",
     "exception": false,
     "start_time": "2022-05-12T02:17:29.176765",
     "status": "completed"
    },
    "tags": [
     "remove_input"
    ]
   },
   "outputs": [],
   "source": [
    "%%capture_parameters\n",
    "operator_name = df.name.iloc[0]\n",
    "district_number = f\"{df.caltrans_district.iloc[0].split('-')[0].strip()}\"\n",
    "district_name = f\"{df.caltrans_district.iloc[0].split('-')[1].strip().lower().replace(' ', '-')}\"\n",
    "\n",
    "itp_id, operator_name, district_number, district_name"
   ]
  },
  {
   "cell_type": "markdown",
   "id": "65bc6f5c-8348-42ee-b2dd-52057c406852",
   "metadata": {
    "papermill": {
     "duration": 0.012173,
     "end_time": "2022-05-12T02:17:29.224655",
     "exception": false,
     "start_time": "2022-05-12T02:17:29.212482",
     "status": "completed"
    },
    "tags": []
   },
   "source": [
    "# Tulare County Area Transit (ITP ID: 346)"
   ]
  },
  {
   "cell_type": "code",
   "execution_count": 6,
   "id": "a689c1ab-2c6c-4831-8d64-897f5986f571",
   "metadata": {
    "execution": {
     "iopub.execute_input": "2022-05-12T02:17:29.252228Z",
     "iopub.status.busy": "2022-05-12T02:17:29.251574Z",
     "iopub.status.idle": "2022-05-12T02:17:29.257396Z",
     "shell.execute_reply": "2022-05-12T02:17:29.256828Z"
    },
    "jupyter": {
     "source_hidden": true
    },
    "papermill": {
     "duration": 0.021649,
     "end_time": "2022-05-12T02:17:29.259009",
     "exception": false,
     "start_time": "2022-05-12T02:17:29.237360",
     "status": "completed"
    },
    "tags": [
     "remove_input"
    ]
   },
   "outputs": [
    {
     "data": {
      "text/html": [
       "<h1>Competitive & Parallel Routes</h1>"
      ],
      "text/plain": [
       "<IPython.core.display.HTML object>"
      ]
     },
     "metadata": {},
     "output_type": "display_data"
    }
   ],
   "source": [
    "display(HTML(\"<h1>Competitive & Parallel Routes</h1>\")) "
   ]
  },
  {
   "cell_type": "code",
   "execution_count": 7,
   "id": "2cb4d8d5-4760-40e4-85b1-cb833d8bb648",
   "metadata": {
    "execution": {
     "iopub.execute_input": "2022-05-12T02:17:29.293025Z",
     "iopub.status.busy": "2022-05-12T02:17:29.292495Z",
     "iopub.status.idle": "2022-05-12T02:17:39.645848Z",
     "shell.execute_reply": "2022-05-12T02:17:39.645305Z"
    },
    "jupyter": {
     "source_hidden": true
    },
    "papermill": {
     "duration": 10.376568,
     "end_time": "2022-05-12T02:17:39.647929",
     "exception": false,
     "start_time": "2022-05-12T02:17:29.271361",
     "status": "completed"
    },
    "tags": [
     "remove_input"
    ]
   },
   "outputs": [],
   "source": [
    "# Grab parameters for narrative text - clean up formatting here \n",
    "district = df.caltrans_district.iloc[0]\n",
    "formatted_date = pd.to_datetime(parallel_corridors_utils.SELECTED_DATE).strftime('%m-%d-%Y')\n",
    "\n",
    "PCT_COMPETITIVE_THRESHOLD = 0.75\n",
    "PCT_TRIPS_BELOW_CUTOFF = 0.50\n",
    "\n",
    "stats = parallel_corridors_utils.operator_parallel_competitive_stats(\n",
    "    itp_id, PCT_COMPETITIVE_THRESHOLD, PCT_TRIPS_BELOW_CUTOFF)\n",
    "\n",
    "pct_parallel = round(stats['parallel_routes'] / stats['num_routes'] * 100, 1 )\n",
    "pct_competitive =  round(stats['competitive_routes'] / stats['num_routes'] * 100, 1 )\n",
    "pct_viable =  round(stats['viable_competitive_routes'] / stats['num_routes'] * 100, 1 )"
   ]
  },
  {
   "cell_type": "code",
   "execution_count": 8,
   "id": "8bf30c8f-6aa5-47bb-82ae-a906732e81fd",
   "metadata": {
    "execution": {
     "iopub.execute_input": "2022-05-12T02:17:39.676180Z",
     "iopub.status.busy": "2022-05-12T02:17:39.675666Z",
     "iopub.status.idle": "2022-05-12T02:17:39.705533Z",
     "shell.execute_reply": "2022-05-12T02:17:39.704940Z"
    },
    "jupyter": {
     "source_hidden": true
    },
    "papermill": {
     "duration": 0.046211,
     "end_time": "2022-05-12T02:17:39.707483",
     "exception": false,
     "start_time": "2022-05-12T02:17:39.661272",
     "status": "completed"
    },
    "tags": [
     "remove_input"
    ]
   },
   "outputs": [],
   "source": [
    "# Display a table of route-level stats for each route_group\n",
    "# Displaying route_name makes chart too crowded\n",
    "\n",
    "# Get route stats (for entire df)\n",
    "route_stats = parallel_corridors_utils.competitive_route_level_stats(df)\n",
    "    \n",
    "def style_route_stats(df, top15_routes):\n",
    "    df = df[df.route_id.isin(top15_routes)]\n",
    "    \n",
    "    # Rename columns for display\n",
    "    rename_cols = {\n",
    "        \"route_id\": \"Route ID\",\n",
    "        \"route_name\": \"Route Name\",\n",
    "        \"route_group\": \"Route Group\",\n",
    "        \"num_trips\": \"# trips\",\n",
    "        \"daily_avg_freq\": \"Daily Avg Freq (trips per hr)\",\n",
    "        \"pm_peak_freq\": \"PM Peak Avg Freq (trips per hr)\",\n",
    "        \"percentiles\": \"25th, 50th, 75th ptile (hrs)\",\n",
    "    }\n",
    "    \n",
    "    # Style it\n",
    "    drop_cols = [\n",
    "        \"calitp_itp_id\", \"below_cutoff\", \"route_group\", \n",
    "        \"pct_trips_competitive\", \"pct_below_cutoff\",\n",
    "        \"p25\", \"p50\", \"p75\",\n",
    "    ]\n",
    "    \n",
    "    # Change alignment for some columns\n",
    "    # https://stackoverflow.com/questions/59453091/left-align-the-first-column-and-center-align-the-other-columns-in-a-pandas-table\n",
    "    df_style = (df.sort_values(\n",
    "        [\"pct_trips_competitive\", \"below_cutoff\", \n",
    "        \"pct_below_cutoff\", \"route_id\"], \n",
    "        ascending=[False, False, False, True])\n",
    "           .drop(columns = drop_cols)\n",
    "           .rename(columns = rename_cols)\n",
    "           .style.format(\n",
    "               subset=['Daily Avg Freq (trips per hr)', \n",
    "                       'PM Peak Avg Freq (trips per hr)'], \n",
    "               **{'formatter': '{:,.3}'})\n",
    "                .set_properties(subset=['Route ID', 'Route Name'], \n",
    "                                **{'text-align': 'left'})\n",
    "                .set_properties(subset=['# trips', 'Daily Avg Freq (trips per hr)', \n",
    "                                       'PM Peak Avg Freq (trips per hr)'], \n",
    "                               **{'text-align': 'center'})\n",
    "                .set_table_styles([dict(selector='th', \n",
    "                                        props=[('text-align', 'center')])\n",
    "                                        ])\n",
    "           .hide(axis=\"index\")\n",
    "           .to_html()\n",
    "          )\n",
    "    \n",
    "    display(HTML(\"<h4>Route Stats</h4>\"))\n",
    "    display(HTML(df_style))"
   ]
  },
  {
   "cell_type": "markdown",
   "id": "ab667928-5274-4490-82d9-4c39293209a4",
   "metadata": {
    "papermill": {
     "duration": 0.013201,
     "end_time": "2022-05-12T02:17:39.733439",
     "exception": false,
     "start_time": "2022-05-12T02:17:39.720238",
     "status": "completed"
    },
    "tags": []
   },
   "source": [
    "## Quick Stats"
   ]
  },
  {
   "cell_type": "code",
   "execution_count": 9,
   "id": "0416509d-dc62-4165-b62e-64f8b26e8b8e",
   "metadata": {
    "execution": {
     "iopub.execute_input": "2022-05-12T02:17:39.761215Z",
     "iopub.status.busy": "2022-05-12T02:17:39.760677Z",
     "iopub.status.idle": "2022-05-12T02:17:39.766921Z",
     "shell.execute_reply": "2022-05-12T02:17:39.766435Z"
    },
    "jupyter": {
     "source_hidden": true
    },
    "papermill": {
     "duration": 0.022609,
     "end_time": "2022-05-12T02:17:39.768500",
     "exception": false,
     "start_time": "2022-05-12T02:17:39.745891",
     "status": "completed"
    },
    "tags": [
     "remove_input"
    ]
   },
   "outputs": [
    {
     "data": {
      "text/markdown": [
       "**Bus routes in service: 10**<br>**Parallel routes** to State Highway Network (SHN): **7 routes (70.0%)**<br>**Competitive routes** against car travel (within 2x car travel time): **6 routes (60.0%)**<br>**Viable competitive routes** against car travel (within 2x car travel time and within 20, 30, or 40 min cut-off): **6 routes (60.0%)**"
      ],
      "text/plain": [
       "<IPython.core.display.Markdown object>"
      ]
     },
     "metadata": {},
     "output_type": "display_data"
    }
   ],
   "source": [
    "display(\n",
    "    Markdown(\n",
    "        f\"**Bus routes in service: {stats['num_routes']}**\"\n",
    "        \"<br>**Parallel routes** to State Highway Network (SHN): \"\n",
    "        f\"**{stats['parallel_routes']} routes ({pct_parallel}%)**\"\n",
    "        \"<br>**Competitive routes** against car travel (within 2x car travel time): \"\n",
    "        f\"**{stats['competitive_routes']} routes ({pct_competitive}%)**\"\n",
    "        \"<br>**Viable competitive routes** against car travel \"\n",
    "        \"(within 2x car travel time and within 20, 30, or 40 min cut-off): \"\n",
    "        f\"**{stats['viable_competitive_routes']} routes ({pct_viable}%)**\"\n",
    "    )\n",
    ")"
   ]
  },
  {
   "cell_type": "code",
   "execution_count": 10,
   "id": "f9d6ab58-f0ee-460c-b6de-657490e1f386",
   "metadata": {
    "execution": {
     "iopub.execute_input": "2022-05-12T02:17:39.804267Z",
     "iopub.status.busy": "2022-05-12T02:17:39.803450Z",
     "iopub.status.idle": "2022-05-12T02:17:39.813350Z",
     "shell.execute_reply": "2022-05-12T02:17:39.812539Z"
    },
    "jupyter": {
     "source_hidden": true
    },
    "papermill": {
     "duration": 0.033815,
     "end_time": "2022-05-12T02:17:39.815472",
     "exception": false,
     "start_time": "2022-05-12T02:17:39.781657",
     "status": "completed"
    },
    "tags": [
     "remove_input"
    ]
   },
   "outputs": [],
   "source": [
    "def set_yaxis_range(df, y_col):\n",
    "    Y_MIN = df[y_col].min()\n",
    "    Y_MAX = df[y_col].max()\n",
    "    \n",
    "    return Y_MIN, Y_MAX\n",
    "\n",
    "# Rather than set it according to the operator, which can vary,\n",
    "# just use set thresholds for each group\n",
    "def top15_routes(df, route_group):\n",
    "    # grab top 15 routes where majority of trips are below that cut-off \n",
    "    # but show 15 max, otherwise, show less, since these won't be as interesting to operators\n",
    "    df2 = (df[(df.route_group==route_group) &\n",
    "              (df.pct_below_cutoff >= PCT_TRIPS_BELOW_CUTOFF)]\n",
    "           .sort_values([\"calitp_itp_id\", \"below_cutoff\", \n",
    "                         \"pct_below_cutoff\", \"route_id\"],\n",
    "                        ascending = [True, False, False, True]\n",
    "                       )\n",
    "           .drop_duplicates(subset=[\"calitp_itp_id\", \"route_id\"])\n",
    "          ).head(15)\n",
    "    \n",
    "    return list(df2.route_id)"
   ]
  },
  {
   "cell_type": "code",
   "execution_count": 11,
   "id": "cf36d559-3349-4144-8086-8ac9ce937a5a",
   "metadata": {
    "execution": {
     "iopub.execute_input": "2022-05-12T02:17:39.846328Z",
     "iopub.status.busy": "2022-05-12T02:17:39.846030Z",
     "iopub.status.idle": "2022-05-12T02:17:39.851006Z",
     "shell.execute_reply": "2022-05-12T02:17:39.850169Z"
    },
    "jupyter": {
     "source_hidden": true
    },
    "papermill": {
     "duration": 0.022481,
     "end_time": "2022-05-12T02:17:39.853904",
     "exception": false,
     "start_time": "2022-05-12T02:17:39.831423",
     "status": "completed"
    },
    "tags": [
     "remove_input"
    ]
   },
   "outputs": [],
   "source": [
    "def caption_with_cutoff(cutoff):\n",
    "    sentence = (\n",
    "        f\"<br>These are routes that have **at least {int(PCT_TRIPS_BELOW_CUTOFF*100)}% \"\n",
    "        \"of their trips take no more than an \"\n",
    "        f\"additional {cutoff} min** compared to a car \"\n",
    "        \"(up to 15 routes) are shown.\"\n",
    "        \"<br>Within each route group, routes are sorted in descending order \"\n",
    "        \"by % competitive trips and # trips below the additional time cut-off.\"\n",
    "    )\n",
    "    return sentence\n",
    "\n",
    "CAPTIONS_DICT = {\n",
    "    \"short\": caption_with_cutoff(diff_cutoffs['short']),\n",
    "    \"medium\": caption_with_cutoff(diff_cutoffs['medium']),\n",
    "    \"long\": caption_with_cutoff(diff_cutoffs['long']),\n",
    "}"
   ]
  },
  {
   "cell_type": "code",
   "execution_count": 12,
   "id": "e4306d58-6944-47e9-afef-5d5b524c751f",
   "metadata": {
    "execution": {
     "iopub.execute_input": "2022-05-12T02:17:39.911095Z",
     "iopub.status.busy": "2022-05-12T02:17:39.910718Z",
     "iopub.status.idle": "2022-05-12T02:17:39.917603Z",
     "shell.execute_reply": "2022-05-12T02:17:39.916659Z"
    },
    "jupyter": {
     "source_hidden": true
    },
    "papermill": {
     "duration": 0.024106,
     "end_time": "2022-05-12T02:17:39.919888",
     "exception": false,
     "start_time": "2022-05-12T02:17:39.895782",
     "status": "completed"
    },
    "tags": [
     "remove_input"
    ]
   },
   "outputs": [],
   "source": [
    "def setup_charts(df, PCT_COMPETITIVE_THRESHOLD, route_group):\n",
    "    # Set up df for charting (cut-off at some threshold to show most competitive routes)\n",
    "    plot_me = (df[df.pct_trips_competitive > PCT_COMPETITIVE_THRESHOLD]\n",
    "           .drop(columns = \"geometry\")\n",
    "    )\n",
    "    \n",
    "    # Set y-ranges to be the same across route_groups, \n",
    "    # otherwise charts fluctuate too much, even within operator\n",
    "    y_col1 = \"bus_multiplier\"\n",
    "    Y_MIN1, Y_MAX1 = set_yaxis_range(plot_me, y_col1)\n",
    "\n",
    "    y_col2 = \"bus_difference\"\n",
    "    Y_MIN2, Y_MAX2 = set_yaxis_range(plot_me, y_col2)\n",
    "    \n",
    "    # Grab the routes to plot\n",
    "    subset_routes = top15_routes(plot_me, route_group)\n",
    "        \n",
    "    # Display charts\n",
    "    multiplier_chart = parallel_corridors_utils.make_stripplot(\n",
    "        plot_me[plot_me.route_id.isin(subset_routes)], \n",
    "        y_col1, Y_MIN = Y_MIN1, Y_MAX = Y_MAX1\n",
    "    )\n",
    "    \n",
    "    difference_chart = parallel_corridors_utils.make_stripplot(\n",
    "        plot_me[plot_me.route_id.isin(subset_routes)], \n",
    "        y_col2, Y_MIN = Y_MIN2, Y_MAX = Y_MAX2\n",
    "    )\n",
    "    \n",
    "    return subset_routes, multiplier_chart, difference_chart            "
   ]
  },
  {
   "cell_type": "code",
   "execution_count": 13,
   "id": "33a710e8-504c-4942-aa75-ff69f216956e",
   "metadata": {
    "execution": {
     "iopub.execute_input": "2022-05-12T02:17:39.948816Z",
     "iopub.status.busy": "2022-05-12T02:17:39.948544Z",
     "iopub.status.idle": "2022-05-12T02:17:39.953791Z",
     "shell.execute_reply": "2022-05-12T02:17:39.953149Z"
    },
    "jupyter": {
     "source_hidden": true
    },
    "papermill": {
     "duration": 0.021904,
     "end_time": "2022-05-12T02:17:39.955393",
     "exception": false,
     "start_time": "2022-05-12T02:17:39.933489",
     "status": "completed"
    },
    "tags": [
     "remove_input"
    ]
   },
   "outputs": [],
   "source": [
    "def display_charts_for_route_group(df, route_group):    \n",
    "    subset_routes, mult, diff  = setup_charts(df, PCT_COMPETITIVE_THRESHOLD, route_group)\n",
    "\n",
    "    if len(subset_routes) > 0:\n",
    "        display(Markdown(f\"{CAPTIONS_DICT[route_group]}\"))\n",
    "\n",
    "        display(mult)\n",
    "        display(diff)\n",
    "        \n",
    "        # Display route stats for just plotted routes\n",
    "        style_route_stats(route_stats, subset_routes)"
   ]
  },
  {
   "cell_type": "markdown",
   "id": "525f9b38-072b-46d1-96a8-1aa4b038357c",
   "metadata": {
    "papermill": {
     "duration": 0.020814,
     "end_time": "2022-05-12T02:17:39.990063",
     "exception": false,
     "start_time": "2022-05-12T02:17:39.969249",
     "status": "completed"
    },
    "tags": []
   },
   "source": [
    "## Viable Competitive Routes\n",
    "### Short Routes (< 1 hr)"
   ]
  },
  {
   "cell_type": "code",
   "execution_count": 14,
   "id": "57f7084c-2cf7-45c6-ba08-1609e0bd6ca5",
   "metadata": {
    "execution": {
     "iopub.execute_input": "2022-05-12T02:17:40.021446Z",
     "iopub.status.busy": "2022-05-12T02:17:40.020918Z",
     "iopub.status.idle": "2022-05-12T02:17:40.319388Z",
     "shell.execute_reply": "2022-05-12T02:17:40.318503Z"
    },
    "jupyter": {
     "source_hidden": true
    },
    "papermill": {
     "duration": 0.315875,
     "end_time": "2022-05-12T02:17:40.321734",
     "exception": false,
     "start_time": "2022-05-12T02:17:40.005859",
     "status": "completed"
    },
    "tags": [
     "remove_input"
    ]
   },
   "outputs": [
    {
     "data": {
      "text/markdown": [
       "<br>These are routes that have **at least 50% of their trips take no more than an additional 20 min** compared to a car (up to 15 routes) are shown.<br>Within each route group, routes are sorted in descending order by % competitive trips and # trips below the additional time cut-off."
      ],
      "text/plain": [
       "<IPython.core.display.Markdown object>"
      ]
     },
     "metadata": {},
     "output_type": "display_data"
    },
    {
     "data": {
      "text/html": [
       "\n",
       "<div id=\"altair-viz-9bde15c0ffc74c1db748b2a98ed2ba77\"></div>\n",
       "<script type=\"text/javascript\">\n",
       "  var VEGA_DEBUG = (typeof VEGA_DEBUG == \"undefined\") ? {} : VEGA_DEBUG;\n",
       "  (function(spec, embedOpt){\n",
       "    let outputDiv = document.currentScript.previousElementSibling;\n",
       "    if (outputDiv.id !== \"altair-viz-9bde15c0ffc74c1db748b2a98ed2ba77\") {\n",
       "      outputDiv = document.getElementById(\"altair-viz-9bde15c0ffc74c1db748b2a98ed2ba77\");\n",
       "    }\n",
       "    const paths = {\n",
       "      \"vega\": \"https://cdn.jsdelivr.net/npm//vega@5?noext\",\n",
       "      \"vega-lib\": \"https://cdn.jsdelivr.net/npm//vega-lib?noext\",\n",
       "      \"vega-lite\": \"https://cdn.jsdelivr.net/npm//vega-lite@4.17.0?noext\",\n",
       "      \"vega-embed\": \"https://cdn.jsdelivr.net/npm//vega-embed@6?noext\",\n",
       "    };\n",
       "\n",
       "    function maybeLoadScript(lib, version) {\n",
       "      var key = `${lib.replace(\"-\", \"\")}_version`;\n",
       "      return (VEGA_DEBUG[key] == version) ?\n",
       "        Promise.resolve(paths[lib]) :\n",
       "        new Promise(function(resolve, reject) {\n",
       "          var s = document.createElement('script');\n",
       "          document.getElementsByTagName(\"head\")[0].appendChild(s);\n",
       "          s.async = true;\n",
       "          s.onload = () => {\n",
       "            VEGA_DEBUG[key] = version;\n",
       "            return resolve(paths[lib]);\n",
       "          };\n",
       "          s.onerror = () => reject(`Error loading script: ${paths[lib]}`);\n",
       "          s.src = paths[lib];\n",
       "        });\n",
       "    }\n",
       "\n",
       "    function showError(err) {\n",
       "      outputDiv.innerHTML = `<div class=\"error\" style=\"color:red;\">${err}</div>`;\n",
       "      throw err;\n",
       "    }\n",
       "\n",
       "    function displayChart(vegaEmbed) {\n",
       "      vegaEmbed(outputDiv, spec, embedOpt)\n",
       "        .catch(err => showError(`Javascript Error: ${err.message}<br>This usually means there's a typo in your chart specification. See the javascript console for the full traceback.`));\n",
       "    }\n",
       "\n",
       "    if(typeof define === \"function\" && define.amd) {\n",
       "      requirejs.config({paths});\n",
       "      require([\"vega-embed\"], displayChart, err => showError(`Error loading script: ${err.message}`));\n",
       "    } else {\n",
       "      maybeLoadScript(\"vega\", \"5\")\n",
       "        .then(() => maybeLoadScript(\"vega-lite\", \"4.17.0\"))\n",
       "        .then(() => maybeLoadScript(\"vega-embed\", \"6\"))\n",
       "        .catch(showError)\n",
       "        .then(() => displayChart(vegaEmbed));\n",
       "    }\n",
       "  })({\"config\": {\"view\": {\"continuousWidth\": 400, \"continuousHeight\": 300, \"stroke\": null}, \"facet\": {\"spacing\": 0}}, \"data\": {\"name\": \"data-e3d6fe3bdf98bc7bad249205c3cc959a\"}, \"facet\": {\"column\": {\"field\": \"route_id\", \"sort\": [\"12183\", \"12176\", \"12182\", \"12181\"], \"title\": \"Route ID\", \"type\": \"nominal\"}}, \"spec\": {\"layer\": [{\"mark\": \"rule\", \"encoding\": {\"color\": {\"value\": \"black\"}, \"y\": {\"field\": \"cutoff\", \"type\": \"quantitative\"}}, \"selection\": {\"selector001\": {\"type\": \"interval\", \"bind\": \"scales\", \"encodings\": [\"x\", \"y\"]}}}, {\"mark\": {\"type\": \"point\", \"opacity\": 0.65, \"size\": 12, \"strokeWidth\": 1.1}, \"encoding\": {\"color\": {\"field\": \"time_of_day\", \"scale\": {\"range\": [\"#136C97\", \"#E16B26\", \"#F6BF16\", \"#00896B\", \"#7790A3\", \"#5B559C\"]}, \"sort\": [\"AM Peak\", \"Midday\", \"PM Peak\", \"Owl Service\"], \"title\": \"Time of Day\", \"type\": \"nominal\"}, \"tooltip\": [{\"field\": \"route_id\", \"type\": \"nominal\"}, {\"field\": \"route_name\", \"type\": \"nominal\"}, {\"field\": \"trip_id\", \"type\": \"nominal\"}, {\"field\": \"service_hours\", \"type\": \"quantitative\"}, {\"field\": \"car_duration_hours\", \"type\": \"quantitative\"}, {\"field\": \"bus_multiplier\", \"type\": \"quantitative\"}, {\"field\": \"bus_difference\", \"type\": \"quantitative\"}, {\"field\": \"num_trips\", \"type\": \"quantitative\"}, {\"field\": \"num_competitive\", \"type\": \"quantitative\"}, {\"field\": \"pct_trips_competitive\", \"type\": \"quantitative\"}, {\"field\": \"p25\", \"type\": \"quantitative\"}, {\"field\": \"p50\", \"type\": \"quantitative\"}, {\"field\": \"p75\", \"type\": \"quantitative\"}], \"x\": {\"axis\": {\"grid\": false, \"labels\": false, \"ticks\": true, \"values\": [0]}, \"field\": \"jitter\", \"scale\": {}, \"title\": null, \"type\": \"quantitative\"}, \"y\": {\"field\": \"bus_multiplier\", \"scale\": {\"domain\": [-0.25, 4.07]}, \"title\": \"Ratio of Bus to Car Travel Time\", \"type\": \"quantitative\"}}, \"transform\": [{\"calculate\": \"sqrt(-2*log(random()))*cos(2*PI*random())\", \"as\": \"jitter\"}], \"width\": 50}, {\"layer\": [{\"mark\": {\"type\": \"point\", \"opacity\": 0.6, \"size\": 20, \"strokeWidth\": 1.3}, \"encoding\": {\"color\": {\"value\": \"#323434\"}, \"y\": {\"field\": \"bus_multiplier\", \"type\": \"quantitative\"}}, \"transform\": [{\"filter\": \"(datum.p50_trip === 1)\"}]}, {\"mark\": {\"type\": \"text\", \"align\": \"center\", \"baseline\": \"middle\"}, \"encoding\": {\"color\": {\"value\": \"black\"}, \"text\": {\"field\": \"pct_trips_competitive\", \"format\": \".0%\", \"type\": \"quantitative\"}, \"tooltip\": [{\"field\": \"route_id\", \"type\": \"nominal\"}, {\"field\": \"route_name\", \"type\": \"nominal\"}, {\"field\": \"trip_id\", \"type\": \"nominal\"}, {\"field\": \"service_hours\", \"type\": \"quantitative\"}, {\"field\": \"car_duration_hours\", \"type\": \"quantitative\"}, {\"field\": \"bus_multiplier\", \"type\": \"quantitative\"}, {\"field\": \"bus_difference\", \"type\": \"quantitative\"}, {\"field\": \"num_trips\", \"type\": \"quantitative\"}, {\"field\": \"num_competitive\", \"type\": \"quantitative\"}, {\"field\": \"pct_trips_competitive\", \"type\": \"quantitative\"}, {\"field\": \"p25\", \"type\": \"quantitative\"}, {\"field\": \"p50\", \"type\": \"quantitative\"}, {\"field\": \"p75\", \"type\": \"quantitative\"}], \"x\": {\"value\": 30}, \"y\": {\"value\": 15}}, \"transform\": [{\"calculate\": \"sqrt(-2*log(random()))*cos(2*PI*random())\", \"as\": \"jitter\"}, {\"filter\": \"(datum.fastest_trip === 1)\"}]}]}]}, \"resolve\": {\"scale\": {\"y\": \"shared\"}}, \"title\": \"Ratio of Bus to Car Travel Time\", \"$schema\": \"https://vega.github.io/schema/vega-lite/v4.17.0.json\", \"datasets\": {\"data-e3d6fe3bdf98bc7bad249205c3cc959a\": [{\"calitp_itp_id\": 346, \"trip_key\": 3635018133532397629, \"trip_id\": \"t_500120_b_17398_tn_0\", \"shape_id\": \"p_499964\", \"route_id\": \"12176\", \"service_hours\": 1.0, \"trip_first_departure_ts\": 55200, \"trip_last_arrival_ts\": 58800, \"departure_hour\": 15, \"time_of_day\": \"Midday\", \"p25\": 1.0, \"p50\": 1.0, \"p75\": 1.0, \"p50_trip\": 1, \"fastest_trip\": 0, \"car_duration_hours\": 0.85, \"competitive_route\": 1, \"bus_multiplier\": 1.18, \"bus_difference\": 9.0, \"num_trips\": 24, \"num_competitive\": 24, \"pct_trips_competitive\": 1.0, \"bus_difference_spread\": 0.0, \"route_group\": \"short\", \"max_trip_hrs\": 1.0, \"max_trip_route_group\": 1.0, \"below_cutoff\": 24, \"pct_below_cutoff\": 1.0, \"name\": \"Tulare County Area Transit\", \"caltrans_district\": \"06 - Fresno\", \"drmt_organization_name\": null, \"route_name\": \"Porterville To Visalia\", \"cutoff2\": 20, \"cutoff\": 2}, {\"calitp_itp_id\": 346, \"trip_key\": 6123095150718780648, \"trip_id\": \"t_500088_b_17398_tn_0\", \"shape_id\": \"p_499962\", \"route_id\": \"12176\", \"service_hours\": 1.0, \"trip_first_departure_ts\": 59700, \"trip_last_arrival_ts\": 63300, \"departure_hour\": 16, \"time_of_day\": \"Midday\", \"p25\": 1.0, \"p50\": 1.0, \"p75\": 1.0, \"p50_trip\": 1, \"fastest_trip\": 0, \"car_duration_hours\": 0.85, \"competitive_route\": 1, \"bus_multiplier\": 1.18, \"bus_difference\": 9.0, \"num_trips\": 24, \"num_competitive\": 24, \"pct_trips_competitive\": 1.0, \"bus_difference_spread\": 0.0, \"route_group\": \"short\", \"max_trip_hrs\": 1.0, \"max_trip_route_group\": 1.0, \"below_cutoff\": 24, \"pct_below_cutoff\": 1.0, \"name\": \"Tulare County Area Transit\", \"caltrans_district\": \"06 - Fresno\", \"drmt_organization_name\": null, \"route_name\": \"Porterville To Visalia\", \"cutoff2\": 20, \"cutoff\": 2}, {\"calitp_itp_id\": 346, \"trip_key\": 8844100933880447275, \"trip_id\": \"t_500116_b_17398_tn_0\", \"shape_id\": \"p_499964\", \"route_id\": \"12176\", \"service_hours\": 1.0, \"trip_first_departure_ts\": 51300, \"trip_last_arrival_ts\": 54900, \"departure_hour\": 14, \"time_of_day\": \"Midday\", \"p25\": 1.0, \"p50\": 1.0, \"p75\": 1.0, \"p50_trip\": 1, \"fastest_trip\": 0, \"car_duration_hours\": 0.85, \"competitive_route\": 1, \"bus_multiplier\": 1.18, \"bus_difference\": 9.0, \"num_trips\": 24, \"num_competitive\": 24, \"pct_trips_competitive\": 1.0, \"bus_difference_spread\": 0.0, \"route_group\": \"short\", \"max_trip_hrs\": 1.0, \"max_trip_route_group\": 1.0, \"below_cutoff\": 24, \"pct_below_cutoff\": 1.0, \"name\": \"Tulare County Area Transit\", \"caltrans_district\": \"06 - Fresno\", \"drmt_organization_name\": null, \"route_name\": \"Porterville To Visalia\", \"cutoff2\": 20, \"cutoff\": 2}, {\"calitp_itp_id\": 346, \"trip_key\": -8618555785617384534, \"trip_id\": \"t_500122_b_17398_tn_0\", \"shape_id\": \"p_499964\", \"route_id\": \"12176\", \"service_hours\": 1.0, \"trip_first_departure_ts\": 27300, \"trip_last_arrival_ts\": 30900, \"departure_hour\": 7, \"time_of_day\": \"AM Peak\", \"p25\": 1.0, \"p50\": 1.0, \"p75\": 1.0, \"p50_trip\": 1, \"fastest_trip\": 0, \"car_duration_hours\": 0.85, \"competitive_route\": 1, \"bus_multiplier\": 1.18, \"bus_difference\": 9.0, \"num_trips\": 24, \"num_competitive\": 24, \"pct_trips_competitive\": 1.0, \"bus_difference_spread\": 0.0, \"route_group\": \"short\", \"max_trip_hrs\": 1.0, \"max_trip_route_group\": 1.0, \"below_cutoff\": 24, \"pct_below_cutoff\": 1.0, \"name\": \"Tulare County Area Transit\", \"caltrans_district\": \"06 - Fresno\", \"drmt_organization_name\": null, \"route_name\": \"Porterville To Visalia\", \"cutoff2\": 20, \"cutoff\": 2}, {\"calitp_itp_id\": 346, \"trip_key\": -5472278900519860126, \"trip_id\": \"t_500089_b_17398_tn_0\", \"shape_id\": \"p_499962\", \"route_id\": \"12176\", \"service_hours\": 1.0, \"trip_first_departure_ts\": 63600, \"trip_last_arrival_ts\": 67200, \"departure_hour\": 17, \"time_of_day\": \"PM Peak\", \"p25\": 1.0, \"p50\": 1.0, \"p75\": 1.0, \"p50_trip\": 1, \"fastest_trip\": 0, \"car_duration_hours\": 0.85, \"competitive_route\": 1, \"bus_multiplier\": 1.18, \"bus_difference\": 9.0, \"num_trips\": 24, \"num_competitive\": 24, \"pct_trips_competitive\": 1.0, \"bus_difference_spread\": 0.0, \"route_group\": \"short\", \"max_trip_hrs\": 1.0, \"max_trip_route_group\": 1.0, \"below_cutoff\": 24, \"pct_below_cutoff\": 1.0, \"name\": \"Tulare County Area Transit\", \"caltrans_district\": \"06 - Fresno\", \"drmt_organization_name\": null, \"route_name\": \"Porterville To Visalia\", \"cutoff2\": 20, \"cutoff\": 2}, {\"calitp_itp_id\": 346, \"trip_key\": -5412216903870809975, \"trip_id\": \"t_500123_b_17398_tn_0\", \"shape_id\": \"p_499964\", \"route_id\": \"12176\", \"service_hours\": 1.0, \"trip_first_departure_ts\": 31200, \"trip_last_arrival_ts\": 34800, \"departure_hour\": 8, \"time_of_day\": \"AM Peak\", \"p25\": 1.0, \"p50\": 1.0, \"p75\": 1.0, \"p50_trip\": 1, \"fastest_trip\": 0, \"car_duration_hours\": 0.85, \"competitive_route\": 1, \"bus_multiplier\": 1.18, \"bus_difference\": 9.0, \"num_trips\": 24, \"num_competitive\": 24, \"pct_trips_competitive\": 1.0, \"bus_difference_spread\": 0.0, \"route_group\": \"short\", \"max_trip_hrs\": 1.0, \"max_trip_route_group\": 1.0, \"below_cutoff\": 24, \"pct_below_cutoff\": 1.0, \"name\": \"Tulare County Area Transit\", \"caltrans_district\": \"06 - Fresno\", \"drmt_organization_name\": null, \"route_name\": \"Porterville To Visalia\", \"cutoff2\": 20, \"cutoff\": 2}, {\"calitp_itp_id\": 346, \"trip_key\": -757159069014569317, \"trip_id\": \"t_500085_b_17398_tn_0\", \"shape_id\": \"p_499962\", \"route_id\": \"12176\", \"service_hours\": 1.0, \"trip_first_departure_ts\": 47400, \"trip_last_arrival_ts\": 51000, \"departure_hour\": 13, \"time_of_day\": \"Midday\", \"p25\": 1.0, \"p50\": 1.0, \"p75\": 1.0, \"p50_trip\": 1, \"fastest_trip\": 0, \"car_duration_hours\": 0.85, \"competitive_route\": 1, \"bus_multiplier\": 1.18, \"bus_difference\": 9.0, \"num_trips\": 24, \"num_competitive\": 24, \"pct_trips_competitive\": 1.0, \"bus_difference_spread\": 0.0, \"route_group\": \"short\", \"max_trip_hrs\": 1.0, \"max_trip_route_group\": 1.0, \"below_cutoff\": 24, \"pct_below_cutoff\": 1.0, \"name\": \"Tulare County Area Transit\", \"caltrans_district\": \"06 - Fresno\", \"drmt_organization_name\": null, \"route_name\": \"Porterville To Visalia\", \"cutoff2\": 20, \"cutoff\": 2}, {\"calitp_itp_id\": 346, \"trip_key\": -4625468040257566598, \"trip_id\": \"t_500115_b_17398_tn_0\", \"shape_id\": \"p_499964\", \"route_id\": \"12176\", \"service_hours\": 1.0, \"trip_first_departure_ts\": 47400, \"trip_last_arrival_ts\": 51000, \"departure_hour\": 13, \"time_of_day\": \"Midday\", \"p25\": 1.0, \"p50\": 1.0, \"p75\": 1.0, \"p50_trip\": 1, \"fastest_trip\": 0, \"car_duration_hours\": 0.85, \"competitive_route\": 1, \"bus_multiplier\": 1.18, \"bus_difference\": 9.0, \"num_trips\": 24, \"num_competitive\": 24, \"pct_trips_competitive\": 1.0, \"bus_difference_spread\": 0.0, \"route_group\": \"short\", \"max_trip_hrs\": 1.0, \"max_trip_route_group\": 1.0, \"below_cutoff\": 24, \"pct_below_cutoff\": 1.0, \"name\": \"Tulare County Area Transit\", \"caltrans_district\": \"06 - Fresno\", \"drmt_organization_name\": null, \"route_name\": \"Porterville To Visalia\", \"cutoff2\": 20, \"cutoff\": 2}, {\"calitp_itp_id\": 346, \"trip_key\": 2522777758647020542, \"trip_id\": \"t_500079_b_17398_tn_0\", \"shape_id\": \"p_499962\", \"route_id\": \"12176\", \"service_hours\": 1.0, \"trip_first_departure_ts\": 27300, \"trip_last_arrival_ts\": 30900, \"departure_hour\": 7, \"time_of_day\": \"AM Peak\", \"p25\": 1.0, \"p50\": 1.0, \"p75\": 1.0, \"p50_trip\": 1, \"fastest_trip\": 0, \"car_duration_hours\": 0.85, \"competitive_route\": 1, \"bus_multiplier\": 1.18, \"bus_difference\": 9.0, \"num_trips\": 24, \"num_competitive\": 24, \"pct_trips_competitive\": 1.0, \"bus_difference_spread\": 0.0, \"route_group\": \"short\", \"max_trip_hrs\": 1.0, \"max_trip_route_group\": 1.0, \"below_cutoff\": 24, \"pct_below_cutoff\": 1.0, \"name\": \"Tulare County Area Transit\", \"caltrans_district\": \"06 - Fresno\", \"drmt_organization_name\": null, \"route_name\": \"Porterville To Visalia\", \"cutoff2\": 20, \"cutoff\": 2}, {\"calitp_itp_id\": 346, \"trip_key\": -7053576655635302747, \"trip_id\": \"t_500083_b_17398_tn_0\", \"shape_id\": \"p_499962\", \"route_id\": \"12176\", \"service_hours\": 1.0, \"trip_first_departure_ts\": 36600, \"trip_last_arrival_ts\": 40200, \"departure_hour\": 10, \"time_of_day\": \"Midday\", \"p25\": 1.0, \"p50\": 1.0, \"p75\": 1.0, \"p50_trip\": 1, \"fastest_trip\": 0, \"car_duration_hours\": 0.85, \"competitive_route\": 1, \"bus_multiplier\": 1.18, \"bus_difference\": 9.0, \"num_trips\": 24, \"num_competitive\": 24, \"pct_trips_competitive\": 1.0, \"bus_difference_spread\": 0.0, \"route_group\": \"short\", \"max_trip_hrs\": 1.0, \"max_trip_route_group\": 1.0, \"below_cutoff\": 24, \"pct_below_cutoff\": 1.0, \"name\": \"Tulare County Area Transit\", \"caltrans_district\": \"06 - Fresno\", \"drmt_organization_name\": null, \"route_name\": \"Porterville To Visalia\", \"cutoff2\": 20, \"cutoff\": 2}, {\"calitp_itp_id\": 346, \"trip_key\": -1549930987774960835, \"trip_id\": \"t_500125_b_17398_tn_0\", \"shape_id\": \"p_499964\", \"route_id\": \"12176\", \"service_hours\": 1.0, \"trip_first_departure_ts\": 40500, \"trip_last_arrival_ts\": 44100, \"departure_hour\": 11, \"time_of_day\": \"Midday\", \"p25\": 1.0, \"p50\": 1.0, \"p75\": 1.0, \"p50_trip\": 1, \"fastest_trip\": 0, \"car_duration_hours\": 0.85, \"competitive_route\": 1, \"bus_multiplier\": 1.18, \"bus_difference\": 9.0, \"num_trips\": 24, \"num_competitive\": 24, \"pct_trips_competitive\": 1.0, \"bus_difference_spread\": 0.0, \"route_group\": \"short\", \"max_trip_hrs\": 1.0, \"max_trip_route_group\": 1.0, \"below_cutoff\": 24, \"pct_below_cutoff\": 1.0, \"name\": \"Tulare County Area Transit\", \"caltrans_district\": \"06 - Fresno\", \"drmt_organization_name\": null, \"route_name\": \"Porterville To Visalia\", \"cutoff2\": 20, \"cutoff\": 2}, {\"calitp_itp_id\": 346, \"trip_key\": 1842132103230328378, \"trip_id\": \"t_500117_b_17398_tn_0\", \"shape_id\": \"p_499964\", \"route_id\": \"12176\", \"service_hours\": 1.0, \"trip_first_departure_ts\": 59700, \"trip_last_arrival_ts\": 63300, \"departure_hour\": 16, \"time_of_day\": \"Midday\", \"p25\": 1.0, \"p50\": 1.0, \"p75\": 1.0, \"p50_trip\": 1, \"fastest_trip\": 0, \"car_duration_hours\": 0.85, \"competitive_route\": 1, \"bus_multiplier\": 1.18, \"bus_difference\": 9.0, \"num_trips\": 24, \"num_competitive\": 24, \"pct_trips_competitive\": 1.0, \"bus_difference_spread\": 0.0, \"route_group\": \"short\", \"max_trip_hrs\": 1.0, \"max_trip_route_group\": 1.0, \"below_cutoff\": 24, \"pct_below_cutoff\": 1.0, \"name\": \"Tulare County Area Transit\", \"caltrans_district\": \"06 - Fresno\", \"drmt_organization_name\": null, \"route_name\": \"Porterville To Visalia\", \"cutoff2\": 20, \"cutoff\": 2}, {\"calitp_itp_id\": 346, \"trip_key\": -3669451985458913058, \"trip_id\": \"t_500082_b_17398_tn_0\", \"shape_id\": \"p_499962\", \"route_id\": \"12176\", \"service_hours\": 1.0, \"trip_first_departure_ts\": 31200, \"trip_last_arrival_ts\": 34800, \"departure_hour\": 8, \"time_of_day\": \"AM Peak\", \"p25\": 1.0, \"p50\": 1.0, \"p75\": 1.0, \"p50_trip\": 1, \"fastest_trip\": 0, \"car_duration_hours\": 0.85, \"competitive_route\": 1, \"bus_multiplier\": 1.18, \"bus_difference\": 9.0, \"num_trips\": 24, \"num_competitive\": 24, \"pct_trips_competitive\": 1.0, \"bus_difference_spread\": 0.0, \"route_group\": \"short\", \"max_trip_hrs\": 1.0, \"max_trip_route_group\": 1.0, \"below_cutoff\": 24, \"pct_below_cutoff\": 1.0, \"name\": \"Tulare County Area Transit\", \"caltrans_district\": \"06 - Fresno\", \"drmt_organization_name\": null, \"route_name\": \"Porterville To Visalia\", \"cutoff2\": 20, \"cutoff\": 2}, {\"calitp_itp_id\": 346, \"trip_key\": -5193700342022861050, \"trip_id\": \"t_500118_b_17398_tn_0\", \"shape_id\": \"p_499964\", \"route_id\": \"12176\", \"service_hours\": 1.0, \"trip_first_departure_ts\": 63600, \"trip_last_arrival_ts\": 67200, \"departure_hour\": 17, \"time_of_day\": \"PM Peak\", \"p25\": 1.0, \"p50\": 1.0, \"p75\": 1.0, \"p50_trip\": 1, \"fastest_trip\": 0, \"car_duration_hours\": 0.85, \"competitive_route\": 1, \"bus_multiplier\": 1.18, \"bus_difference\": 9.0, \"num_trips\": 24, \"num_competitive\": 24, \"pct_trips_competitive\": 1.0, \"bus_difference_spread\": 0.0, \"route_group\": \"short\", \"max_trip_hrs\": 1.0, \"max_trip_route_group\": 1.0, \"below_cutoff\": 24, \"pct_below_cutoff\": 1.0, \"name\": \"Tulare County Area Transit\", \"caltrans_district\": \"06 - Fresno\", \"drmt_organization_name\": null, \"route_name\": \"Porterville To Visalia\", \"cutoff2\": 20, \"cutoff\": 2}, {\"calitp_itp_id\": 346, \"trip_key\": 4102419972835778672, \"trip_id\": \"t_500086_b_17398_tn_0\", \"shape_id\": \"p_499962\", \"route_id\": \"12176\", \"service_hours\": 1.0, \"trip_first_departure_ts\": 51300, \"trip_last_arrival_ts\": 54900, \"departure_hour\": 14, \"time_of_day\": \"Midday\", \"p25\": 1.0, \"p50\": 1.0, \"p75\": 1.0, \"p50_trip\": 1, \"fastest_trip\": 0, \"car_duration_hours\": 0.85, \"competitive_route\": 1, \"bus_multiplier\": 1.18, \"bus_difference\": 9.0, \"num_trips\": 24, \"num_competitive\": 24, \"pct_trips_competitive\": 1.0, \"bus_difference_spread\": 0.0, \"route_group\": \"short\", \"max_trip_hrs\": 1.0, \"max_trip_route_group\": 1.0, \"below_cutoff\": 24, \"pct_below_cutoff\": 1.0, \"name\": \"Tulare County Area Transit\", \"caltrans_district\": \"06 - Fresno\", \"drmt_organization_name\": null, \"route_name\": \"Porterville To Visalia\", \"cutoff2\": 20, \"cutoff\": 2}, {\"calitp_itp_id\": 346, \"trip_key\": 3481768745216626254, \"trip_id\": \"t_500121_b_17398_tn_0\", \"shape_id\": \"p_499964\", \"route_id\": \"12176\", \"service_hours\": 1.0, \"trip_first_departure_ts\": 23400, \"trip_last_arrival_ts\": 27000, \"departure_hour\": 6, \"time_of_day\": \"Owl Service\", \"p25\": 1.0, \"p50\": 1.0, \"p75\": 1.0, \"p50_trip\": 1, \"fastest_trip\": 0, \"car_duration_hours\": 0.85, \"competitive_route\": 1, \"bus_multiplier\": 1.18, \"bus_difference\": 9.0, \"num_trips\": 24, \"num_competitive\": 24, \"pct_trips_competitive\": 1.0, \"bus_difference_spread\": 0.0, \"route_group\": \"short\", \"max_trip_hrs\": 1.0, \"max_trip_route_group\": 1.0, \"below_cutoff\": 24, \"pct_below_cutoff\": 1.0, \"name\": \"Tulare County Area Transit\", \"caltrans_district\": \"06 - Fresno\", \"drmt_organization_name\": null, \"route_name\": \"Porterville To Visalia\", \"cutoff2\": 20, \"cutoff\": 2}, {\"calitp_itp_id\": 346, \"trip_key\": 8314101309508683309, \"trip_id\": \"t_500087_b_17398_tn_0\", \"shape_id\": \"p_499962\", \"route_id\": \"12176\", \"service_hours\": 1.0, \"trip_first_departure_ts\": 55200, \"trip_last_arrival_ts\": 58800, \"departure_hour\": 15, \"time_of_day\": \"Midday\", \"p25\": 1.0, \"p50\": 1.0, \"p75\": 1.0, \"p50_trip\": 1, \"fastest_trip\": 0, \"car_duration_hours\": 0.85, \"competitive_route\": 1, \"bus_multiplier\": 1.18, \"bus_difference\": 9.0, \"num_trips\": 24, \"num_competitive\": 24, \"pct_trips_competitive\": 1.0, \"bus_difference_spread\": 0.0, \"route_group\": \"short\", \"max_trip_hrs\": 1.0, \"max_trip_route_group\": 1.0, \"below_cutoff\": 24, \"pct_below_cutoff\": 1.0, \"name\": \"Tulare County Area Transit\", \"caltrans_district\": \"06 - Fresno\", \"drmt_organization_name\": null, \"route_name\": \"Porterville To Visalia\", \"cutoff2\": 20, \"cutoff\": 2}, {\"calitp_itp_id\": 346, \"trip_key\": -7027944131050854572, \"trip_id\": \"t_500090_b_17398_tn_0\", \"shape_id\": \"p_499962\", \"route_id\": \"12176\", \"service_hours\": 1.0, \"trip_first_departure_ts\": 67980, \"trip_last_arrival_ts\": 71580, \"departure_hour\": 18, \"time_of_day\": \"PM Peak\", \"p25\": 1.0, \"p50\": 1.0, \"p75\": 1.0, \"p50_trip\": 1, \"fastest_trip\": 1, \"car_duration_hours\": 0.85, \"competitive_route\": 1, \"bus_multiplier\": 1.18, \"bus_difference\": 9.0, \"num_trips\": 24, \"num_competitive\": 24, \"pct_trips_competitive\": 1.0, \"bus_difference_spread\": 0.0, \"route_group\": \"short\", \"max_trip_hrs\": 1.0, \"max_trip_route_group\": 1.0, \"below_cutoff\": 24, \"pct_below_cutoff\": 1.0, \"name\": \"Tulare County Area Transit\", \"caltrans_district\": \"06 - Fresno\", \"drmt_organization_name\": null, \"route_name\": \"Porterville To Visalia\", \"cutoff2\": 20, \"cutoff\": 2}, {\"calitp_itp_id\": 346, \"trip_key\": -4588754416592947856, \"trip_id\": \"t_500114_b_17398_tn_0\", \"shape_id\": \"p_499964\", \"route_id\": \"12176\", \"service_hours\": 1.0, \"trip_first_departure_ts\": 19500, \"trip_last_arrival_ts\": 23100, \"departure_hour\": 5, \"time_of_day\": \"Owl Service\", \"p25\": 1.0, \"p50\": 1.0, \"p75\": 1.0, \"p50_trip\": 1, \"fastest_trip\": 0, \"car_duration_hours\": 0.85, \"competitive_route\": 1, \"bus_multiplier\": 1.18, \"bus_difference\": 9.0, \"num_trips\": 24, \"num_competitive\": 24, \"pct_trips_competitive\": 1.0, \"bus_difference_spread\": 0.0, \"route_group\": \"short\", \"max_trip_hrs\": 1.0, \"max_trip_route_group\": 1.0, \"below_cutoff\": 24, \"pct_below_cutoff\": 1.0, \"name\": \"Tulare County Area Transit\", \"caltrans_district\": \"06 - Fresno\", \"drmt_organization_name\": null, \"route_name\": \"Porterville To Visalia\", \"cutoff2\": 20, \"cutoff\": 2}, {\"calitp_itp_id\": 346, \"trip_key\": 6112727150865454334, \"trip_id\": \"t_500080_b_17398_tn_0\", \"shape_id\": \"p_499962\", \"route_id\": \"12176\", \"service_hours\": 1.0, \"trip_first_departure_ts\": 19500, \"trip_last_arrival_ts\": 23100, \"departure_hour\": 5, \"time_of_day\": \"Owl Service\", \"p25\": 1.0, \"p50\": 1.0, \"p75\": 1.0, \"p50_trip\": 1, \"fastest_trip\": 0, \"car_duration_hours\": 0.85, \"competitive_route\": 1, \"bus_multiplier\": 1.18, \"bus_difference\": 9.0, \"num_trips\": 24, \"num_competitive\": 24, \"pct_trips_competitive\": 1.0, \"bus_difference_spread\": 0.0, \"route_group\": \"short\", \"max_trip_hrs\": 1.0, \"max_trip_route_group\": 1.0, \"below_cutoff\": 24, \"pct_below_cutoff\": 1.0, \"name\": \"Tulare County Area Transit\", \"caltrans_district\": \"06 - Fresno\", \"drmt_organization_name\": null, \"route_name\": \"Porterville To Visalia\", \"cutoff2\": 20, \"cutoff\": 2}, {\"calitp_itp_id\": 346, \"trip_key\": -7664958625237909348, \"trip_id\": \"t_500124_b_17398_tn_0\", \"shape_id\": \"p_499964\", \"route_id\": \"12176\", \"service_hours\": 1.0, \"trip_first_departure_ts\": 36600, \"trip_last_arrival_ts\": 40200, \"departure_hour\": 10, \"time_of_day\": \"Midday\", \"p25\": 1.0, \"p50\": 1.0, \"p75\": 1.0, \"p50_trip\": 1, \"fastest_trip\": 0, \"car_duration_hours\": 0.85, \"competitive_route\": 1, \"bus_multiplier\": 1.18, \"bus_difference\": 9.0, \"num_trips\": 24, \"num_competitive\": 24, \"pct_trips_competitive\": 1.0, \"bus_difference_spread\": 0.0, \"route_group\": \"short\", \"max_trip_hrs\": 1.0, \"max_trip_route_group\": 1.0, \"below_cutoff\": 24, \"pct_below_cutoff\": 1.0, \"name\": \"Tulare County Area Transit\", \"caltrans_district\": \"06 - Fresno\", \"drmt_organization_name\": null, \"route_name\": \"Porterville To Visalia\", \"cutoff2\": 20, \"cutoff\": 2}, {\"calitp_itp_id\": 346, \"trip_key\": -6713784561649114602, \"trip_id\": \"t_500119_b_17398_tn_0\", \"shape_id\": \"p_499964\", \"route_id\": \"12176\", \"service_hours\": 1.0, \"trip_first_departure_ts\": 67500, \"trip_last_arrival_ts\": 71100, \"departure_hour\": 18, \"time_of_day\": \"PM Peak\", \"p25\": 1.0, \"p50\": 1.0, \"p75\": 1.0, \"p50_trip\": 1, \"fastest_trip\": 0, \"car_duration_hours\": 0.85, \"competitive_route\": 1, \"bus_multiplier\": 1.18, \"bus_difference\": 9.0, \"num_trips\": 24, \"num_competitive\": 24, \"pct_trips_competitive\": 1.0, \"bus_difference_spread\": 0.0, \"route_group\": \"short\", \"max_trip_hrs\": 1.0, \"max_trip_route_group\": 1.0, \"below_cutoff\": 24, \"pct_below_cutoff\": 1.0, \"name\": \"Tulare County Area Transit\", \"caltrans_district\": \"06 - Fresno\", \"drmt_organization_name\": null, \"route_name\": \"Porterville To Visalia\", \"cutoff2\": 20, \"cutoff\": 2}, {\"calitp_itp_id\": 346, \"trip_key\": -7045637655746196127, \"trip_id\": \"t_500081_b_17398_tn_0\", \"shape_id\": \"p_499962\", \"route_id\": \"12176\", \"service_hours\": 1.0, \"trip_first_departure_ts\": 23400, \"trip_last_arrival_ts\": 27000, \"departure_hour\": 6, \"time_of_day\": \"Owl Service\", \"p25\": 1.0, \"p50\": 1.0, \"p75\": 1.0, \"p50_trip\": 1, \"fastest_trip\": 0, \"car_duration_hours\": 0.85, \"competitive_route\": 1, \"bus_multiplier\": 1.18, \"bus_difference\": 9.0, \"num_trips\": 24, \"num_competitive\": 24, \"pct_trips_competitive\": 1.0, \"bus_difference_spread\": 0.0, \"route_group\": \"short\", \"max_trip_hrs\": 1.0, \"max_trip_route_group\": 1.0, \"below_cutoff\": 24, \"pct_below_cutoff\": 1.0, \"name\": \"Tulare County Area Transit\", \"caltrans_district\": \"06 - Fresno\", \"drmt_organization_name\": null, \"route_name\": \"Porterville To Visalia\", \"cutoff2\": 20, \"cutoff\": 2}, {\"calitp_itp_id\": 346, \"trip_key\": 5937347612052816118, \"trip_id\": \"t_500084_b_17398_tn_0\", \"shape_id\": \"p_499962\", \"route_id\": \"12176\", \"service_hours\": 1.0, \"trip_first_departure_ts\": 40500, \"trip_last_arrival_ts\": 44100, \"departure_hour\": 11, \"time_of_day\": \"Midday\", \"p25\": 1.0, \"p50\": 1.0, \"p75\": 1.0, \"p50_trip\": 1, \"fastest_trip\": 0, \"car_duration_hours\": 0.85, \"competitive_route\": 1, \"bus_multiplier\": 1.18, \"bus_difference\": 9.0, \"num_trips\": 24, \"num_competitive\": 24, \"pct_trips_competitive\": 1.0, \"bus_difference_spread\": 0.0, \"route_group\": \"short\", \"max_trip_hrs\": 1.0, \"max_trip_route_group\": 1.0, \"below_cutoff\": 24, \"pct_below_cutoff\": 1.0, \"name\": \"Tulare County Area Transit\", \"caltrans_district\": \"06 - Fresno\", \"drmt_organization_name\": null, \"route_name\": \"Porterville To Visalia\", \"cutoff2\": 20, \"cutoff\": 2}, {\"calitp_itp_id\": 346, \"trip_key\": 162832854836044158, \"trip_id\": \"t_819708_b_17398_tn_0\", \"shape_id\": \"p_786980\", \"route_id\": \"12181\", \"service_hours\": 0.43, \"trip_first_departure_ts\": 54540, \"trip_last_arrival_ts\": 56100, \"departure_hour\": 15, \"time_of_day\": \"Midday\", \"p25\": 0.4825, \"p50\": 0.5, \"p75\": 0.505, \"p50_trip\": 0, \"fastest_trip\": 1, \"car_duration_hours\": 0.4, \"competitive_route\": 1, \"bus_multiplier\": 1.08, \"bus_difference\": 1.8, \"num_trips\": 4, \"num_competitive\": 4, \"pct_trips_competitive\": 1.0, \"bus_difference_spread\": 5.4, \"route_group\": \"short\", \"max_trip_hrs\": 0.52, \"max_trip_route_group\": 0.52, \"below_cutoff\": 4, \"pct_below_cutoff\": 1.0, \"name\": \"Tulare County Area Transit\", \"caltrans_district\": \"06 - Fresno\", \"drmt_organization_name\": null, \"route_name\": \"Porterville To Springville Loop\", \"cutoff2\": 20, \"cutoff\": 2}, {\"calitp_itp_id\": 346, \"trip_key\": -5108747123102182320, \"trip_id\": \"t_819684_b_17398_tn_0\", \"shape_id\": \"p_786979\", \"route_id\": \"12181\", \"service_hours\": 0.5, \"trip_first_departure_ts\": 31380, \"trip_last_arrival_ts\": 33180, \"departure_hour\": 8, \"time_of_day\": \"AM Peak\", \"p25\": 0.4825, \"p50\": 0.5, \"p75\": 0.505, \"p50_trip\": 1, \"fastest_trip\": 0, \"car_duration_hours\": 0.4, \"competitive_route\": 1, \"bus_multiplier\": 1.25, \"bus_difference\": 6.0, \"num_trips\": 4, \"num_competitive\": 4, \"pct_trips_competitive\": 1.0, \"bus_difference_spread\": 5.4, \"route_group\": \"short\", \"max_trip_hrs\": 0.52, \"max_trip_route_group\": 0.52, \"below_cutoff\": 4, \"pct_below_cutoff\": 1.0, \"name\": \"Tulare County Area Transit\", \"caltrans_district\": \"06 - Fresno\", \"drmt_organization_name\": null, \"route_name\": \"Porterville To Springville Loop\", \"cutoff2\": 20, \"cutoff\": 2}, {\"calitp_itp_id\": 346, \"trip_key\": -4702858191340267110, \"trip_id\": \"t_819707_b_17398_tn_0\", \"shape_id\": \"p_786980\", \"route_id\": \"12181\", \"service_hours\": 0.5, \"trip_first_departure_ts\": 33480, \"trip_last_arrival_ts\": 35280, \"departure_hour\": 9, \"time_of_day\": \"AM Peak\", \"p25\": 0.4825, \"p50\": 0.5, \"p75\": 0.505, \"p50_trip\": 1, \"fastest_trip\": 0, \"car_duration_hours\": 0.4, \"competitive_route\": 1, \"bus_multiplier\": 1.25, \"bus_difference\": 6.0, \"num_trips\": 4, \"num_competitive\": 4, \"pct_trips_competitive\": 1.0, \"bus_difference_spread\": 5.4, \"route_group\": \"short\", \"max_trip_hrs\": 0.52, \"max_trip_route_group\": 0.52, \"below_cutoff\": 4, \"pct_below_cutoff\": 1.0, \"name\": \"Tulare County Area Transit\", \"caltrans_district\": \"06 - Fresno\", \"drmt_organization_name\": null, \"route_name\": \"Porterville To Springville Loop\", \"cutoff2\": 20, \"cutoff\": 2}, {\"calitp_itp_id\": 346, \"trip_key\": -4157165752352400068, \"trip_id\": \"t_819683_b_17398_tn_0\", \"shape_id\": \"p_786979\", \"route_id\": \"12181\", \"service_hours\": 0.52, \"trip_first_departure_ts\": 52380, \"trip_last_arrival_ts\": 54240, \"departure_hour\": 14, \"time_of_day\": \"Midday\", \"p25\": 0.4825, \"p50\": 0.5, \"p75\": 0.505, \"p50_trip\": 0, \"fastest_trip\": 0, \"car_duration_hours\": 0.4, \"competitive_route\": 1, \"bus_multiplier\": 1.3, \"bus_difference\": 7.2, \"num_trips\": 4, \"num_competitive\": 4, \"pct_trips_competitive\": 1.0, \"bus_difference_spread\": 5.4, \"route_group\": \"short\", \"max_trip_hrs\": 0.52, \"max_trip_route_group\": 0.52, \"below_cutoff\": 4, \"pct_below_cutoff\": 1.0, \"name\": \"Tulare County Area Transit\", \"caltrans_district\": \"06 - Fresno\", \"drmt_organization_name\": null, \"route_name\": \"Porterville To Springville Loop\", \"cutoff2\": 20, \"cutoff\": 2}, {\"calitp_itp_id\": 346, \"trip_key\": -2014617936069782422, \"trip_id\": \"t_819681_b_17398_tn_0\", \"shape_id\": \"p_786978\", \"route_id\": \"12182\", \"service_hours\": 0.38, \"trip_first_departure_ts\": 35580, \"trip_last_arrival_ts\": 36960, \"departure_hour\": 9, \"time_of_day\": \"AM Peak\", \"p25\": 0.395, \"p50\": 0.435, \"p75\": 0.4725, \"p50_trip\": 0, \"fastest_trip\": 1, \"car_duration_hours\": 0.31, \"competitive_route\": 1, \"bus_multiplier\": 1.23, \"bus_difference\": 4.2, \"num_trips\": 4, \"num_competitive\": 4, \"pct_trips_competitive\": 1.0, \"bus_difference_spread\": 5.999999999999999, \"route_group\": \"short\", \"max_trip_hrs\": 0.48, \"max_trip_route_group\": 0.48, \"below_cutoff\": 4, \"pct_below_cutoff\": 1.0, \"name\": \"Tulare County Area Transit\", \"caltrans_district\": \"06 - Fresno\", \"drmt_organization_name\": null, \"route_name\": \"Porterville To Terra Bella Loop\", \"cutoff2\": 20, \"cutoff\": 2}, {\"calitp_itp_id\": 346, \"trip_key\": -6760626856355390799, \"trip_id\": \"t_819682_b_17398_tn_0\", \"shape_id\": \"p_786978\", \"route_id\": \"12182\", \"service_hours\": 0.4, \"trip_first_departure_ts\": 56400, \"trip_last_arrival_ts\": 57840, \"departure_hour\": 15, \"time_of_day\": \"Midday\", \"p25\": 0.395, \"p50\": 0.435, \"p75\": 0.4725, \"p50_trip\": 1, \"fastest_trip\": 0, \"car_duration_hours\": 0.31, \"competitive_route\": 1, \"bus_multiplier\": 1.29, \"bus_difference\": 5.4, \"num_trips\": 4, \"num_competitive\": 4, \"pct_trips_competitive\": 1.0, \"bus_difference_spread\": 5.999999999999999, \"route_group\": \"short\", \"max_trip_hrs\": 0.48, \"max_trip_route_group\": 0.48, \"below_cutoff\": 4, \"pct_below_cutoff\": 1.0, \"name\": \"Tulare County Area Transit\", \"caltrans_district\": \"06 - Fresno\", \"drmt_organization_name\": null, \"route_name\": \"Porterville To Terra Bella Loop\", \"cutoff2\": 20, \"cutoff\": 2}, {\"calitp_itp_id\": 346, \"trip_key\": -6265703907299379208, \"trip_id\": \"t_819710_b_17398_tn_0\", \"shape_id\": \"p_786981\", \"route_id\": \"12182\", \"service_hours\": 0.47, \"trip_first_departure_ts\": 57840, \"trip_last_arrival_ts\": 59520, \"departure_hour\": 16, \"time_of_day\": \"Midday\", \"p25\": 0.395, \"p50\": 0.435, \"p75\": 0.4725, \"p50_trip\": 1, \"fastest_trip\": 0, \"car_duration_hours\": 0.31, \"competitive_route\": 1, \"bus_multiplier\": 1.52, \"bus_difference\": 9.6, \"num_trips\": 4, \"num_competitive\": 4, \"pct_trips_competitive\": 1.0, \"bus_difference_spread\": 5.999999999999999, \"route_group\": \"short\", \"max_trip_hrs\": 0.48, \"max_trip_route_group\": 0.48, \"below_cutoff\": 4, \"pct_below_cutoff\": 1.0, \"name\": \"Tulare County Area Transit\", \"caltrans_district\": \"06 - Fresno\", \"drmt_organization_name\": null, \"route_name\": \"Porterville To Terra Bella Loop\", \"cutoff2\": 20, \"cutoff\": 2}, {\"calitp_itp_id\": 346, \"trip_key\": -6777290730226303276, \"trip_id\": \"t_819709_b_17398_tn_0\", \"shape_id\": \"p_786981\", \"route_id\": \"12182\", \"service_hours\": 0.48, \"trip_first_departure_ts\": 36960, \"trip_last_arrival_ts\": 38700, \"departure_hour\": 10, \"time_of_day\": \"Midday\", \"p25\": 0.395, \"p50\": 0.435, \"p75\": 0.4725, \"p50_trip\": 0, \"fastest_trip\": 0, \"car_duration_hours\": 0.31, \"competitive_route\": 1, \"bus_multiplier\": 1.55, \"bus_difference\": 10.2, \"num_trips\": 4, \"num_competitive\": 4, \"pct_trips_competitive\": 1.0, \"bus_difference_spread\": 5.999999999999999, \"route_group\": \"short\", \"max_trip_hrs\": 0.48, \"max_trip_route_group\": 0.48, \"below_cutoff\": 4, \"pct_below_cutoff\": 1.0, \"name\": \"Tulare County Area Transit\", \"caltrans_district\": \"06 - Fresno\", \"drmt_organization_name\": null, \"route_name\": \"Porterville To Terra Bella Loop\", \"cutoff2\": 20, \"cutoff\": 2}, {\"calitp_itp_id\": 346, \"trip_key\": -9211871739792671571, \"trip_id\": \"t_500003_b_17398_tn_0\", \"shape_id\": \"p_499943\", \"route_id\": \"12183\", \"service_hours\": 0.75, \"trip_first_departure_ts\": 62100, \"trip_last_arrival_ts\": 64800, \"departure_hour\": 17, \"time_of_day\": \"PM Peak\", \"p25\": 0.83, \"p50\": 0.83, \"p75\": 0.9225000000000001, \"p50_trip\": 0, \"fastest_trip\": 1, \"car_duration_hours\": 0.62, \"competitive_route\": 1, \"bus_multiplier\": 1.21, \"bus_difference\": 7.8, \"num_trips\": 24, \"num_competitive\": 24, \"pct_trips_competitive\": 1.0, \"bus_difference_spread\": 15.0, \"route_group\": \"short\", \"max_trip_hrs\": 1.0, \"max_trip_route_group\": 1.0, \"below_cutoff\": 21, \"pct_below_cutoff\": 0.875, \"name\": \"Tulare County Area Transit\", \"caltrans_district\": \"06 - Fresno\", \"drmt_organization_name\": null, \"route_name\": \"Visalia To Dinuba\", \"cutoff2\": 20, \"cutoff\": 2}, {\"calitp_itp_id\": 346, \"trip_key\": 4804976936530476058, \"trip_id\": \"t_500044_b_17398_tn_0\", \"shape_id\": \"p_499951\", \"route_id\": \"12183\", \"service_hours\": 0.82, \"trip_first_departure_ts\": 22500, \"trip_last_arrival_ts\": 25440, \"departure_hour\": 6, \"time_of_day\": \"Owl Service\", \"p25\": 0.83, \"p50\": 0.83, \"p75\": 0.9225000000000001, \"p50_trip\": 0, \"fastest_trip\": 0, \"car_duration_hours\": 0.62, \"competitive_route\": 1, \"bus_multiplier\": 1.32, \"bus_difference\": 12.0, \"num_trips\": 24, \"num_competitive\": 24, \"pct_trips_competitive\": 1.0, \"bus_difference_spread\": 15.0, \"route_group\": \"short\", \"max_trip_hrs\": 1.0, \"max_trip_route_group\": 1.0, \"below_cutoff\": 21, \"pct_below_cutoff\": 0.875, \"name\": \"Tulare County Area Transit\", \"caltrans_district\": \"06 - Fresno\", \"drmt_organization_name\": null, \"route_name\": \"Visalia To Dinuba\", \"cutoff2\": 20, \"cutoff\": 2}, {\"calitp_itp_id\": 346, \"trip_key\": -7472140972250013070, \"trip_id\": \"t_500043_b_17398_tn_0\", \"shape_id\": \"p_499951\", \"route_id\": \"12183\", \"service_hours\": 0.82, \"trip_first_departure_ts\": 47700, \"trip_last_arrival_ts\": 50640, \"departure_hour\": 13, \"time_of_day\": \"Midday\", \"p25\": 0.83, \"p50\": 0.83, \"p75\": 0.9225000000000001, \"p50_trip\": 0, \"fastest_trip\": 0, \"car_duration_hours\": 0.62, \"competitive_route\": 1, \"bus_multiplier\": 1.32, \"bus_difference\": 12.0, \"num_trips\": 24, \"num_competitive\": 24, \"pct_trips_competitive\": 1.0, \"bus_difference_spread\": 15.0, \"route_group\": \"short\", \"max_trip_hrs\": 1.0, \"max_trip_route_group\": 1.0, \"below_cutoff\": 21, \"pct_below_cutoff\": 0.875, \"name\": \"Tulare County Area Transit\", \"caltrans_district\": \"06 - Fresno\", \"drmt_organization_name\": null, \"route_name\": \"Visalia To Dinuba\", \"cutoff2\": 20, \"cutoff\": 2}, {\"calitp_itp_id\": 346, \"trip_key\": -1132176165616634290, \"trip_id\": \"t_500045_b_17398_tn_0\", \"shape_id\": \"p_499951\", \"route_id\": \"12183\", \"service_hours\": 0.82, \"trip_first_departure_ts\": 54900, \"trip_last_arrival_ts\": 57840, \"departure_hour\": 15, \"time_of_day\": \"Midday\", \"p25\": 0.83, \"p50\": 0.83, \"p75\": 0.9225000000000001, \"p50_trip\": 0, \"fastest_trip\": 0, \"car_duration_hours\": 0.62, \"competitive_route\": 1, \"bus_multiplier\": 1.32, \"bus_difference\": 12.0, \"num_trips\": 24, \"num_competitive\": 24, \"pct_trips_competitive\": 1.0, \"bus_difference_spread\": 15.0, \"route_group\": \"short\", \"max_trip_hrs\": 1.0, \"max_trip_route_group\": 1.0, \"below_cutoff\": 21, \"pct_below_cutoff\": 0.875, \"name\": \"Tulare County Area Transit\", \"caltrans_district\": \"06 - Fresno\", \"drmt_organization_name\": null, \"route_name\": \"Visalia To Dinuba\", \"cutoff2\": 20, \"cutoff\": 2}, {\"calitp_itp_id\": 346, \"trip_key\": 4069166921862369364, \"trip_id\": \"t_500046_b_17398_tn_0\", \"shape_id\": \"p_499951\", \"route_id\": \"12183\", \"service_hours\": 0.82, \"trip_first_departure_ts\": 58500, \"trip_last_arrival_ts\": 61440, \"departure_hour\": 16, \"time_of_day\": \"Midday\", \"p25\": 0.83, \"p50\": 0.83, \"p75\": 0.9225000000000001, \"p50_trip\": 0, \"fastest_trip\": 0, \"car_duration_hours\": 0.62, \"competitive_route\": 1, \"bus_multiplier\": 1.32, \"bus_difference\": 12.0, \"num_trips\": 24, \"num_competitive\": 24, \"pct_trips_competitive\": 1.0, \"bus_difference_spread\": 15.0, \"route_group\": \"short\", \"max_trip_hrs\": 1.0, \"max_trip_route_group\": 1.0, \"below_cutoff\": 21, \"pct_below_cutoff\": 0.875, \"name\": \"Tulare County Area Transit\", \"caltrans_district\": \"06 - Fresno\", \"drmt_organization_name\": null, \"route_name\": \"Visalia To Dinuba\", \"cutoff2\": 20, \"cutoff\": 2}, {\"calitp_itp_id\": 346, \"trip_key\": 7126182278466399455, \"trip_id\": \"t_500012_b_17398_tn_0\", \"shape_id\": \"p_499947\", \"route_id\": \"12183\", \"service_hours\": 0.83, \"trip_first_departure_ts\": 33300, \"trip_last_arrival_ts\": 36300, \"departure_hour\": 9, \"time_of_day\": \"AM Peak\", \"p25\": 0.83, \"p50\": 0.83, \"p75\": 0.9225000000000001, \"p50_trip\": 1, \"fastest_trip\": 0, \"car_duration_hours\": 0.62, \"competitive_route\": 1, \"bus_multiplier\": 1.34, \"bus_difference\": 12.6, \"num_trips\": 24, \"num_competitive\": 24, \"pct_trips_competitive\": 1.0, \"bus_difference_spread\": 15.0, \"route_group\": \"short\", \"max_trip_hrs\": 1.0, \"max_trip_route_group\": 1.0, \"below_cutoff\": 21, \"pct_below_cutoff\": 0.875, \"name\": \"Tulare County Area Transit\", \"caltrans_district\": \"06 - Fresno\", \"drmt_organization_name\": null, \"route_name\": \"Visalia To Dinuba\", \"cutoff2\": 20, \"cutoff\": 2}, {\"calitp_itp_id\": 346, \"trip_key\": -8253690889989041538, \"trip_id\": \"t_500017_b_17398_tn_0\", \"shape_id\": \"p_499947\", \"route_id\": \"12183\", \"service_hours\": 0.83, \"trip_first_departure_ts\": 58500, \"trip_last_arrival_ts\": 61500, \"departure_hour\": 16, \"time_of_day\": \"Midday\", \"p25\": 0.83, \"p50\": 0.83, \"p75\": 0.9225000000000001, \"p50_trip\": 1, \"fastest_trip\": 0, \"car_duration_hours\": 0.62, \"competitive_route\": 1, \"bus_multiplier\": 1.34, \"bus_difference\": 12.6, \"num_trips\": 24, \"num_competitive\": 24, \"pct_trips_competitive\": 1.0, \"bus_difference_spread\": 15.0, \"route_group\": \"short\", \"max_trip_hrs\": 1.0, \"max_trip_route_group\": 1.0, \"below_cutoff\": 21, \"pct_below_cutoff\": 0.875, \"name\": \"Tulare County Area Transit\", \"caltrans_district\": \"06 - Fresno\", \"drmt_organization_name\": null, \"route_name\": \"Visalia To Dinuba\", \"cutoff2\": 20, \"cutoff\": 2}, {\"calitp_itp_id\": 346, \"trip_key\": -1688340253715771665, \"trip_id\": \"t_500000_b_17398_tn_0\", \"shape_id\": \"p_499941\", \"route_id\": \"12183\", \"service_hours\": 0.83, \"trip_first_departure_ts\": 65700, \"trip_last_arrival_ts\": 68700, \"departure_hour\": 18, \"time_of_day\": \"PM Peak\", \"p25\": 0.83, \"p50\": 0.83, \"p75\": 0.9225000000000001, \"p50_trip\": 1, \"fastest_trip\": 0, \"car_duration_hours\": 0.62, \"competitive_route\": 1, \"bus_multiplier\": 1.34, \"bus_difference\": 12.6, \"num_trips\": 24, \"num_competitive\": 24, \"pct_trips_competitive\": 1.0, \"bus_difference_spread\": 15.0, \"route_group\": \"short\", \"max_trip_hrs\": 1.0, \"max_trip_route_group\": 1.0, \"below_cutoff\": 21, \"pct_below_cutoff\": 0.875, \"name\": \"Tulare County Area Transit\", \"caltrans_district\": \"06 - Fresno\", \"drmt_organization_name\": null, \"route_name\": \"Visalia To Dinuba\", \"cutoff2\": 20, \"cutoff\": 2}, {\"calitp_itp_id\": 346, \"trip_key\": -8360297207936546673, \"trip_id\": \"t_499966_b_17398_tn_0\", \"shape_id\": \"p_499927\", \"route_id\": \"12183\", \"service_hours\": 0.83, \"trip_first_departure_ts\": 65700, \"trip_last_arrival_ts\": 68700, \"departure_hour\": 18, \"time_of_day\": \"PM Peak\", \"p25\": 0.83, \"p50\": 0.83, \"p75\": 0.9225000000000001, \"p50_trip\": 1, \"fastest_trip\": 0, \"car_duration_hours\": 0.62, \"competitive_route\": 1, \"bus_multiplier\": 1.34, \"bus_difference\": 12.6, \"num_trips\": 24, \"num_competitive\": 24, \"pct_trips_competitive\": 1.0, \"bus_difference_spread\": 15.0, \"route_group\": \"short\", \"max_trip_hrs\": 1.0, \"max_trip_route_group\": 1.0, \"below_cutoff\": 21, \"pct_below_cutoff\": 0.875, \"name\": \"Tulare County Area Transit\", \"caltrans_district\": \"06 - Fresno\", \"drmt_organization_name\": null, \"route_name\": \"Visalia To Dinuba\", \"cutoff2\": 20, \"cutoff\": 2}, {\"calitp_itp_id\": 346, \"trip_key\": 7339743680709412027, \"trip_id\": \"t_500015_b_17398_tn_0\", \"shape_id\": \"p_499947\", \"route_id\": \"12183\", \"service_hours\": 0.83, \"trip_first_departure_ts\": 51300, \"trip_last_arrival_ts\": 54300, \"departure_hour\": 14, \"time_of_day\": \"Midday\", \"p25\": 0.83, \"p50\": 0.83, \"p75\": 0.9225000000000001, \"p50_trip\": 1, \"fastest_trip\": 0, \"car_duration_hours\": 0.62, \"competitive_route\": 1, \"bus_multiplier\": 1.34, \"bus_difference\": 12.6, \"num_trips\": 24, \"num_competitive\": 24, \"pct_trips_competitive\": 1.0, \"bus_difference_spread\": 15.0, \"route_group\": \"short\", \"max_trip_hrs\": 1.0, \"max_trip_route_group\": 1.0, \"below_cutoff\": 21, \"pct_below_cutoff\": 0.875, \"name\": \"Tulare County Area Transit\", \"caltrans_district\": \"06 - Fresno\", \"drmt_organization_name\": null, \"route_name\": \"Visalia To Dinuba\", \"cutoff2\": 20, \"cutoff\": 2}, {\"calitp_itp_id\": 346, \"trip_key\": -5946554786179607007, \"trip_id\": \"t_500047_b_17398_tn_0\", \"shape_id\": \"p_499951\", \"route_id\": \"12183\", \"service_hours\": 0.83, \"trip_first_departure_ts\": 40500, \"trip_last_arrival_ts\": 43500, \"departure_hour\": 11, \"time_of_day\": \"Midday\", \"p25\": 0.83, \"p50\": 0.83, \"p75\": 0.9225000000000001, \"p50_trip\": 1, \"fastest_trip\": 0, \"car_duration_hours\": 0.62, \"competitive_route\": 1, \"bus_multiplier\": 1.34, \"bus_difference\": 12.6, \"num_trips\": 24, \"num_competitive\": 24, \"pct_trips_competitive\": 1.0, \"bus_difference_spread\": 15.0, \"route_group\": \"short\", \"max_trip_hrs\": 1.0, \"max_trip_route_group\": 1.0, \"below_cutoff\": 21, \"pct_below_cutoff\": 0.875, \"name\": \"Tulare County Area Transit\", \"caltrans_district\": \"06 - Fresno\", \"drmt_organization_name\": null, \"route_name\": \"Visalia To Dinuba\", \"cutoff2\": 20, \"cutoff\": 2}, {\"calitp_itp_id\": 346, \"trip_key\": 7490957518271247602, \"trip_id\": \"t_500014_b_17398_tn_0\", \"shape_id\": \"p_499947\", \"route_id\": \"12183\", \"service_hours\": 0.83, \"trip_first_departure_ts\": 40500, \"trip_last_arrival_ts\": 43500, \"departure_hour\": 11, \"time_of_day\": \"Midday\", \"p25\": 0.83, \"p50\": 0.83, \"p75\": 0.9225000000000001, \"p50_trip\": 1, \"fastest_trip\": 0, \"car_duration_hours\": 0.62, \"competitive_route\": 1, \"bus_multiplier\": 1.34, \"bus_difference\": 12.6, \"num_trips\": 24, \"num_competitive\": 24, \"pct_trips_competitive\": 1.0, \"bus_difference_spread\": 15.0, \"route_group\": \"short\", \"max_trip_hrs\": 1.0, \"max_trip_route_group\": 1.0, \"below_cutoff\": 21, \"pct_below_cutoff\": 0.875, \"name\": \"Tulare County Area Transit\", \"caltrans_district\": \"06 - Fresno\", \"drmt_organization_name\": null, \"route_name\": \"Visalia To Dinuba\", \"cutoff2\": 20, \"cutoff\": 2}, {\"calitp_itp_id\": 346, \"trip_key\": -5030189339351989280, \"trip_id\": \"t_500048_b_17398_tn_0\", \"shape_id\": \"p_499951\", \"route_id\": \"12183\", \"service_hours\": 0.83, \"trip_first_departure_ts\": 26100, \"trip_last_arrival_ts\": 29100, \"departure_hour\": 7, \"time_of_day\": \"AM Peak\", \"p25\": 0.83, \"p50\": 0.83, \"p75\": 0.9225000000000001, \"p50_trip\": 1, \"fastest_trip\": 0, \"car_duration_hours\": 0.62, \"competitive_route\": 1, \"bus_multiplier\": 1.34, \"bus_difference\": 12.6, \"num_trips\": 24, \"num_competitive\": 24, \"pct_trips_competitive\": 1.0, \"bus_difference_spread\": 15.0, \"route_group\": \"short\", \"max_trip_hrs\": 1.0, \"max_trip_route_group\": 1.0, \"below_cutoff\": 21, \"pct_below_cutoff\": 0.875, \"name\": \"Tulare County Area Transit\", \"caltrans_district\": \"06 - Fresno\", \"drmt_organization_name\": null, \"route_name\": \"Visalia To Dinuba\", \"cutoff2\": 20, \"cutoff\": 2}, {\"calitp_itp_id\": 346, \"trip_key\": 4843069353299716595, \"trip_id\": \"t_500010_b_17398_tn_0\", \"shape_id\": \"p_499947\", \"route_id\": \"12183\", \"service_hours\": 0.83, \"trip_first_departure_ts\": 22500, \"trip_last_arrival_ts\": 25500, \"departure_hour\": 6, \"time_of_day\": \"Owl Service\", \"p25\": 0.83, \"p50\": 0.83, \"p75\": 0.9225000000000001, \"p50_trip\": 1, \"fastest_trip\": 0, \"car_duration_hours\": 0.62, \"competitive_route\": 1, \"bus_multiplier\": 1.34, \"bus_difference\": 12.6, \"num_trips\": 24, \"num_competitive\": 24, \"pct_trips_competitive\": 1.0, \"bus_difference_spread\": 15.0, \"route_group\": \"short\", \"max_trip_hrs\": 1.0, \"max_trip_route_group\": 1.0, \"below_cutoff\": 21, \"pct_below_cutoff\": 0.875, \"name\": \"Tulare County Area Transit\", \"caltrans_district\": \"06 - Fresno\", \"drmt_organization_name\": null, \"route_name\": \"Visalia To Dinuba\", \"cutoff2\": 20, \"cutoff\": 2}, {\"calitp_itp_id\": 346, \"trip_key\": 4088920039853690522, \"trip_id\": \"t_500011_b_17398_tn_0\", \"shape_id\": \"p_499947\", \"route_id\": \"12183\", \"service_hours\": 0.83, \"trip_first_departure_ts\": 29700, \"trip_last_arrival_ts\": 32700, \"departure_hour\": 8, \"time_of_day\": \"AM Peak\", \"p25\": 0.83, \"p50\": 0.83, \"p75\": 0.9225000000000001, \"p50_trip\": 1, \"fastest_trip\": 0, \"car_duration_hours\": 0.62, \"competitive_route\": 1, \"bus_multiplier\": 1.34, \"bus_difference\": 12.6, \"num_trips\": 24, \"num_competitive\": 24, \"pct_trips_competitive\": 1.0, \"bus_difference_spread\": 15.0, \"route_group\": \"short\", \"max_trip_hrs\": 1.0, \"max_trip_route_group\": 1.0, \"below_cutoff\": 21, \"pct_below_cutoff\": 0.875, \"name\": \"Tulare County Area Transit\", \"caltrans_district\": \"06 - Fresno\", \"drmt_organization_name\": null, \"route_name\": \"Visalia To Dinuba\", \"cutoff2\": 20, \"cutoff\": 2}, {\"calitp_itp_id\": 346, \"trip_key\": -3862313462469032169, \"trip_id\": \"t_500013_b_17398_tn_0\", \"shape_id\": \"p_499947\", \"route_id\": \"12183\", \"service_hours\": 0.83, \"trip_first_departure_ts\": 36900, \"trip_last_arrival_ts\": 39900, \"departure_hour\": 10, \"time_of_day\": \"Midday\", \"p25\": 0.83, \"p50\": 0.83, \"p75\": 0.9225000000000001, \"p50_trip\": 1, \"fastest_trip\": 0, \"car_duration_hours\": 0.62, \"competitive_route\": 1, \"bus_multiplier\": 1.34, \"bus_difference\": 12.6, \"num_trips\": 24, \"num_competitive\": 24, \"pct_trips_competitive\": 1.0, \"bus_difference_spread\": 15.0, \"route_group\": \"short\", \"max_trip_hrs\": 1.0, \"max_trip_route_group\": 1.0, \"below_cutoff\": 21, \"pct_below_cutoff\": 0.875, \"name\": \"Tulare County Area Transit\", \"caltrans_district\": \"06 - Fresno\", \"drmt_organization_name\": null, \"route_name\": \"Visalia To Dinuba\", \"cutoff2\": 20, \"cutoff\": 2}, {\"calitp_itp_id\": 346, \"trip_key\": 5547098070139653316, \"trip_id\": \"t_500004_b_17398_tn_0\", \"shape_id\": \"p_499944\", \"route_id\": \"12183\", \"service_hours\": 0.9, \"trip_first_departure_ts\": 29700, \"trip_last_arrival_ts\": 32940, \"departure_hour\": 8, \"time_of_day\": \"AM Peak\", \"p25\": 0.83, \"p50\": 0.83, \"p75\": 0.9225000000000001, \"p50_trip\": 0, \"fastest_trip\": 0, \"car_duration_hours\": 0.62, \"competitive_route\": 1, \"bus_multiplier\": 1.45, \"bus_difference\": 16.8, \"num_trips\": 24, \"num_competitive\": 24, \"pct_trips_competitive\": 1.0, \"bus_difference_spread\": 15.0, \"route_group\": \"short\", \"max_trip_hrs\": 1.0, \"max_trip_route_group\": 1.0, \"below_cutoff\": 21, \"pct_below_cutoff\": 0.875, \"name\": \"Tulare County Area Transit\", \"caltrans_district\": \"06 - Fresno\", \"drmt_organization_name\": null, \"route_name\": \"Visalia To Dinuba\", \"cutoff2\": 20, \"cutoff\": 2}, {\"calitp_itp_id\": 346, \"trip_key\": -3391349520340919918, \"trip_id\": \"t_500074_b_17398_tn_0\", \"shape_id\": \"p_499961\", \"route_id\": \"12183\", \"service_hours\": 0.92, \"trip_first_departure_ts\": 62100, \"trip_last_arrival_ts\": 65400, \"departure_hour\": 17, \"time_of_day\": \"PM Peak\", \"p25\": 0.83, \"p50\": 0.83, \"p75\": 0.9225000000000001, \"p50_trip\": 0, \"fastest_trip\": 0, \"car_duration_hours\": 0.62, \"competitive_route\": 1, \"bus_multiplier\": 1.48, \"bus_difference\": 18.0, \"num_trips\": 24, \"num_competitive\": 24, \"pct_trips_competitive\": 1.0, \"bus_difference_spread\": 15.0, \"route_group\": \"short\", \"max_trip_hrs\": 1.0, \"max_trip_route_group\": 1.0, \"below_cutoff\": 21, \"pct_below_cutoff\": 0.875, \"name\": \"Tulare County Area Transit\", \"caltrans_district\": \"06 - Fresno\", \"drmt_organization_name\": null, \"route_name\": \"Visalia To Dinuba\", \"cutoff2\": 20, \"cutoff\": 2}, {\"calitp_itp_id\": 346, \"trip_key\": -422197922241008592, \"trip_id\": \"t_500001_b_17398_tn_0\", \"shape_id\": \"p_499942\", \"route_id\": \"12183\", \"service_hours\": 0.93, \"trip_first_departure_ts\": 47100, \"trip_last_arrival_ts\": 50460, \"departure_hour\": 13, \"time_of_day\": \"Midday\", \"p25\": 0.83, \"p50\": 0.83, \"p75\": 0.9225000000000001, \"p50_trip\": 0, \"fastest_trip\": 0, \"car_duration_hours\": 0.62, \"competitive_route\": 1, \"bus_multiplier\": 1.5, \"bus_difference\": 18.6, \"num_trips\": 24, \"num_competitive\": 24, \"pct_trips_competitive\": 1.0, \"bus_difference_spread\": 15.0, \"route_group\": \"short\", \"max_trip_hrs\": 1.0, \"max_trip_route_group\": 1.0, \"below_cutoff\": 21, \"pct_below_cutoff\": 0.875, \"name\": \"Tulare County Area Transit\", \"caltrans_district\": \"06 - Fresno\", \"drmt_organization_name\": null, \"route_name\": \"Visalia To Dinuba\", \"cutoff2\": 20, \"cutoff\": 2}, {\"calitp_itp_id\": 346, \"trip_key\": -6983556126863293573, \"trip_id\": \"t_500005_b_17398_tn_0\", \"shape_id\": \"p_499944\", \"route_id\": \"12183\", \"service_hours\": 0.93, \"trip_first_departure_ts\": 36900, \"trip_last_arrival_ts\": 40260, \"departure_hour\": 10, \"time_of_day\": \"Midday\", \"p25\": 0.83, \"p50\": 0.83, \"p75\": 0.9225000000000001, \"p50_trip\": 0, \"fastest_trip\": 0, \"car_duration_hours\": 0.62, \"competitive_route\": 1, \"bus_multiplier\": 1.5, \"bus_difference\": 18.6, \"num_trips\": 24, \"num_competitive\": 24, \"pct_trips_competitive\": 1.0, \"bus_difference_spread\": 15.0, \"route_group\": \"short\", \"max_trip_hrs\": 1.0, \"max_trip_route_group\": 1.0, \"below_cutoff\": 21, \"pct_below_cutoff\": 0.875, \"name\": \"Tulare County Area Transit\", \"caltrans_district\": \"06 - Fresno\", \"drmt_organization_name\": null, \"route_name\": \"Visalia To Dinuba\", \"cutoff2\": 20, \"cutoff\": 2}, {\"calitp_itp_id\": 346, \"trip_key\": 3839426773463782588, \"trip_id\": \"t_500002_b_17398_tn_0\", \"shape_id\": \"p_499942\", \"route_id\": \"12183\", \"service_hours\": 0.95, \"trip_first_departure_ts\": 54900, \"trip_last_arrival_ts\": 58320, \"departure_hour\": 15, \"time_of_day\": \"Midday\", \"p25\": 0.83, \"p50\": 0.83, \"p75\": 0.9225000000000001, \"p50_trip\": 0, \"fastest_trip\": 0, \"car_duration_hours\": 0.62, \"competitive_route\": 1, \"bus_multiplier\": 1.53, \"bus_difference\": 19.8, \"num_trips\": 24, \"num_competitive\": 24, \"pct_trips_competitive\": 1.0, \"bus_difference_spread\": 15.0, \"route_group\": \"short\", \"max_trip_hrs\": 1.0, \"max_trip_route_group\": 1.0, \"below_cutoff\": 21, \"pct_below_cutoff\": 0.875, \"name\": \"Tulare County Area Transit\", \"caltrans_district\": \"06 - Fresno\", \"drmt_organization_name\": null, \"route_name\": \"Visalia To Dinuba\", \"cutoff2\": 20, \"cutoff\": 2}, {\"calitp_itp_id\": 346, \"trip_key\": 5708886212424041482, \"trip_id\": \"t_499994_b_17398_tn_0\", \"shape_id\": \"p_499938\", \"route_id\": \"12183\", \"service_hours\": 0.98, \"trip_first_departure_ts\": 33000, \"trip_last_arrival_ts\": 36540, \"departure_hour\": 9, \"time_of_day\": \"AM Peak\", \"p25\": 0.83, \"p50\": 0.83, \"p75\": 0.9225000000000001, \"p50_trip\": 0, \"fastest_trip\": 0, \"car_duration_hours\": 0.62, \"competitive_route\": 1, \"bus_multiplier\": 1.58, \"bus_difference\": 21.6, \"num_trips\": 24, \"num_competitive\": 24, \"pct_trips_competitive\": 1.0, \"bus_difference_spread\": 15.0, \"route_group\": \"short\", \"max_trip_hrs\": 1.0, \"max_trip_route_group\": 1.0, \"below_cutoff\": 21, \"pct_below_cutoff\": 0.875, \"name\": \"Tulare County Area Transit\", \"caltrans_district\": \"06 - Fresno\", \"drmt_organization_name\": null, \"route_name\": \"Visalia To Dinuba\", \"cutoff2\": 20, \"cutoff\": 2}, {\"calitp_itp_id\": 346, \"trip_key\": 8097126179348339927, \"trip_id\": \"t_499995_b_17398_tn_0\", \"shape_id\": \"p_499938\", \"route_id\": \"12183\", \"service_hours\": 0.98, \"trip_first_departure_ts\": 51000, \"trip_last_arrival_ts\": 54540, \"departure_hour\": 14, \"time_of_day\": \"Midday\", \"p25\": 0.83, \"p50\": 0.83, \"p75\": 0.9225000000000001, \"p50_trip\": 0, \"fastest_trip\": 0, \"car_duration_hours\": 0.62, \"competitive_route\": 1, \"bus_multiplier\": 1.58, \"bus_difference\": 21.6, \"num_trips\": 24, \"num_competitive\": 24, \"pct_trips_competitive\": 1.0, \"bus_difference_spread\": 15.0, \"route_group\": \"short\", \"max_trip_hrs\": 1.0, \"max_trip_route_group\": 1.0, \"below_cutoff\": 21, \"pct_below_cutoff\": 0.875, \"name\": \"Tulare County Area Transit\", \"caltrans_district\": \"06 - Fresno\", \"drmt_organization_name\": null, \"route_name\": \"Visalia To Dinuba\", \"cutoff2\": 20, \"cutoff\": 2}, {\"calitp_itp_id\": 346, \"trip_key\": 6881832321300861013, \"trip_id\": \"t_500073_b_17398_tn_0\", \"shape_id\": \"p_499960\", \"route_id\": \"12183\", \"service_hours\": 1.0, \"trip_first_departure_ts\": 25800, \"trip_last_arrival_ts\": 29400, \"departure_hour\": 7, \"time_of_day\": \"AM Peak\", \"p25\": 0.83, \"p50\": 0.83, \"p75\": 0.9225000000000001, \"p50_trip\": 0, \"fastest_trip\": 0, \"car_duration_hours\": 0.62, \"competitive_route\": 1, \"bus_multiplier\": 1.61, \"bus_difference\": 22.8, \"num_trips\": 24, \"num_competitive\": 24, \"pct_trips_competitive\": 1.0, \"bus_difference_spread\": 15.0, \"route_group\": \"short\", \"max_trip_hrs\": 1.0, \"max_trip_route_group\": 1.0, \"below_cutoff\": 21, \"pct_below_cutoff\": 0.875, \"name\": \"Tulare County Area Transit\", \"caltrans_district\": \"06 - Fresno\", \"drmt_organization_name\": null, \"route_name\": \"Visalia To Dinuba\", \"cutoff2\": 20, \"cutoff\": 2}]}}, {\"mode\": \"vega-lite\"});\n",
       "</script>"
      ],
      "text/plain": [
       "alt.FacetChart(...)"
      ]
     },
     "metadata": {},
     "output_type": "display_data"
    },
    {
     "data": {
      "text/html": [
       "\n",
       "<div id=\"altair-viz-abb45d8887a44ccc847c829190c88e93\"></div>\n",
       "<script type=\"text/javascript\">\n",
       "  var VEGA_DEBUG = (typeof VEGA_DEBUG == \"undefined\") ? {} : VEGA_DEBUG;\n",
       "  (function(spec, embedOpt){\n",
       "    let outputDiv = document.currentScript.previousElementSibling;\n",
       "    if (outputDiv.id !== \"altair-viz-abb45d8887a44ccc847c829190c88e93\") {\n",
       "      outputDiv = document.getElementById(\"altair-viz-abb45d8887a44ccc847c829190c88e93\");\n",
       "    }\n",
       "    const paths = {\n",
       "      \"vega\": \"https://cdn.jsdelivr.net/npm//vega@5?noext\",\n",
       "      \"vega-lib\": \"https://cdn.jsdelivr.net/npm//vega-lib?noext\",\n",
       "      \"vega-lite\": \"https://cdn.jsdelivr.net/npm//vega-lite@4.17.0?noext\",\n",
       "      \"vega-embed\": \"https://cdn.jsdelivr.net/npm//vega-embed@6?noext\",\n",
       "    };\n",
       "\n",
       "    function maybeLoadScript(lib, version) {\n",
       "      var key = `${lib.replace(\"-\", \"\")}_version`;\n",
       "      return (VEGA_DEBUG[key] == version) ?\n",
       "        Promise.resolve(paths[lib]) :\n",
       "        new Promise(function(resolve, reject) {\n",
       "          var s = document.createElement('script');\n",
       "          document.getElementsByTagName(\"head\")[0].appendChild(s);\n",
       "          s.async = true;\n",
       "          s.onload = () => {\n",
       "            VEGA_DEBUG[key] = version;\n",
       "            return resolve(paths[lib]);\n",
       "          };\n",
       "          s.onerror = () => reject(`Error loading script: ${paths[lib]}`);\n",
       "          s.src = paths[lib];\n",
       "        });\n",
       "    }\n",
       "\n",
       "    function showError(err) {\n",
       "      outputDiv.innerHTML = `<div class=\"error\" style=\"color:red;\">${err}</div>`;\n",
       "      throw err;\n",
       "    }\n",
       "\n",
       "    function displayChart(vegaEmbed) {\n",
       "      vegaEmbed(outputDiv, spec, embedOpt)\n",
       "        .catch(err => showError(`Javascript Error: ${err.message}<br>This usually means there's a typo in your chart specification. See the javascript console for the full traceback.`));\n",
       "    }\n",
       "\n",
       "    if(typeof define === \"function\" && define.amd) {\n",
       "      requirejs.config({paths});\n",
       "      require([\"vega-embed\"], displayChart, err => showError(`Error loading script: ${err.message}`));\n",
       "    } else {\n",
       "      maybeLoadScript(\"vega\", \"5\")\n",
       "        .then(() => maybeLoadScript(\"vega-lite\", \"4.17.0\"))\n",
       "        .then(() => maybeLoadScript(\"vega-embed\", \"6\"))\n",
       "        .catch(showError)\n",
       "        .then(() => displayChart(vegaEmbed));\n",
       "    }\n",
       "  })({\"config\": {\"view\": {\"continuousWidth\": 400, \"continuousHeight\": 300, \"stroke\": null}, \"facet\": {\"spacing\": 0}}, \"data\": {\"name\": \"data-3907f544902b91fd5ff96d3caa2e644c\"}, \"facet\": {\"column\": {\"field\": \"route_id\", \"sort\": [\"12183\", \"12176\", \"12182\", \"12181\"], \"title\": \"Route ID\", \"type\": \"nominal\"}}, \"spec\": {\"layer\": [{\"mark\": \"rule\", \"encoding\": {\"color\": {\"value\": \"black\"}, \"y\": {\"field\": \"cutoff\", \"type\": \"quantitative\"}}, \"selection\": {\"selector002\": {\"type\": \"interval\", \"bind\": \"scales\", \"encodings\": [\"x\", \"y\"]}}}, {\"mark\": {\"type\": \"rule\", \"strokeDash\": [3, 3]}, \"encoding\": {\"color\": {\"value\": \"#323434\"}, \"y\": {\"field\": \"cutoff2\", \"type\": \"quantitative\"}}}, {\"mark\": {\"type\": \"point\", \"opacity\": 0.65, \"size\": 12, \"strokeWidth\": 1.1}, \"encoding\": {\"color\": {\"field\": \"time_of_day\", \"scale\": {\"range\": [\"#136C97\", \"#E16B26\", \"#F6BF16\", \"#00896B\", \"#7790A3\", \"#5B559C\"]}, \"sort\": [\"AM Peak\", \"Midday\", \"PM Peak\", \"Owl Service\"], \"title\": \"Time of Day\", \"type\": \"nominal\"}, \"tooltip\": [{\"field\": \"route_id\", \"type\": \"nominal\"}, {\"field\": \"route_name\", \"type\": \"nominal\"}, {\"field\": \"trip_id\", \"type\": \"nominal\"}, {\"field\": \"service_hours\", \"type\": \"quantitative\"}, {\"field\": \"car_duration_hours\", \"type\": \"quantitative\"}, {\"field\": \"bus_multiplier\", \"type\": \"quantitative\"}, {\"field\": \"bus_difference\", \"type\": \"quantitative\"}, {\"field\": \"num_trips\", \"type\": \"quantitative\"}, {\"field\": \"num_competitive\", \"type\": \"quantitative\"}, {\"field\": \"pct_trips_competitive\", \"type\": \"quantitative\"}, {\"field\": \"p25\", \"type\": \"quantitative\"}, {\"field\": \"p50\", \"type\": \"quantitative\"}, {\"field\": \"p75\", \"type\": \"quantitative\"}], \"x\": {\"axis\": {\"grid\": false, \"labels\": false, \"ticks\": true, \"values\": [0]}, \"field\": \"jitter\", \"scale\": {}, \"title\": null, \"type\": \"quantitative\"}, \"y\": {\"field\": \"bus_difference\", \"scale\": {\"domain\": [-5, 79.2]}, \"title\": \"Difference in Bus to Car Travel Time (min)\", \"type\": \"quantitative\"}}, \"transform\": [{\"calculate\": \"sqrt(-2*log(random()))*cos(2*PI*random())\", \"as\": \"jitter\"}], \"width\": 50}, {\"layer\": [{\"mark\": {\"type\": \"point\", \"opacity\": 0.6, \"size\": 20, \"strokeWidth\": 1.3}, \"encoding\": {\"color\": {\"value\": \"#323434\"}, \"y\": {\"field\": \"bus_difference\", \"type\": \"quantitative\"}}, \"transform\": [{\"filter\": \"(datum.p50_trip === 1)\"}]}, {\"mark\": {\"type\": \"text\", \"align\": \"center\", \"baseline\": \"middle\"}, \"encoding\": {\"color\": {\"value\": \"black\"}, \"text\": {\"field\": \"pct_trips_competitive\", \"format\": \".0%\", \"type\": \"quantitative\"}, \"tooltip\": [{\"field\": \"route_id\", \"type\": \"nominal\"}, {\"field\": \"route_name\", \"type\": \"nominal\"}, {\"field\": \"trip_id\", \"type\": \"nominal\"}, {\"field\": \"service_hours\", \"type\": \"quantitative\"}, {\"field\": \"car_duration_hours\", \"type\": \"quantitative\"}, {\"field\": \"bus_multiplier\", \"type\": \"quantitative\"}, {\"field\": \"bus_difference\", \"type\": \"quantitative\"}, {\"field\": \"num_trips\", \"type\": \"quantitative\"}, {\"field\": \"num_competitive\", \"type\": \"quantitative\"}, {\"field\": \"pct_trips_competitive\", \"type\": \"quantitative\"}, {\"field\": \"p25\", \"type\": \"quantitative\"}, {\"field\": \"p50\", \"type\": \"quantitative\"}, {\"field\": \"p75\", \"type\": \"quantitative\"}], \"x\": {\"value\": 30}, \"y\": {\"value\": 15}}, \"transform\": [{\"calculate\": \"sqrt(-2*log(random()))*cos(2*PI*random())\", \"as\": \"jitter\"}, {\"filter\": \"(datum.fastest_trip === 1)\"}]}]}]}, \"resolve\": {\"scale\": {\"y\": \"shared\"}}, \"title\": \"Difference in Bus to Car Travel Time (min)\", \"$schema\": \"https://vega.github.io/schema/vega-lite/v4.17.0.json\", \"datasets\": {\"data-3907f544902b91fd5ff96d3caa2e644c\": [{\"calitp_itp_id\": 346, \"trip_key\": 3635018133532397629, \"trip_id\": \"t_500120_b_17398_tn_0\", \"shape_id\": \"p_499964\", \"route_id\": \"12176\", \"service_hours\": 1.0, \"trip_first_departure_ts\": 55200, \"trip_last_arrival_ts\": 58800, \"departure_hour\": 15, \"time_of_day\": \"Midday\", \"p25\": 1.0, \"p50\": 1.0, \"p75\": 1.0, \"p50_trip\": 1, \"fastest_trip\": 0, \"car_duration_hours\": 0.85, \"competitive_route\": 1, \"bus_multiplier\": 1.18, \"bus_difference\": 9.0, \"num_trips\": 24, \"num_competitive\": 24, \"pct_trips_competitive\": 1.0, \"bus_difference_spread\": 0.0, \"route_group\": \"short\", \"max_trip_hrs\": 1.0, \"max_trip_route_group\": 1.0, \"below_cutoff\": 24, \"pct_below_cutoff\": 1.0, \"name\": \"Tulare County Area Transit\", \"caltrans_district\": \"06 - Fresno\", \"drmt_organization_name\": null, \"route_name\": \"Porterville To Visalia\", \"cutoff2\": 20, \"cutoff\": 0}, {\"calitp_itp_id\": 346, \"trip_key\": 6123095150718780648, \"trip_id\": \"t_500088_b_17398_tn_0\", \"shape_id\": \"p_499962\", \"route_id\": \"12176\", \"service_hours\": 1.0, \"trip_first_departure_ts\": 59700, \"trip_last_arrival_ts\": 63300, \"departure_hour\": 16, \"time_of_day\": \"Midday\", \"p25\": 1.0, \"p50\": 1.0, \"p75\": 1.0, \"p50_trip\": 1, \"fastest_trip\": 0, \"car_duration_hours\": 0.85, \"competitive_route\": 1, \"bus_multiplier\": 1.18, \"bus_difference\": 9.0, \"num_trips\": 24, \"num_competitive\": 24, \"pct_trips_competitive\": 1.0, \"bus_difference_spread\": 0.0, \"route_group\": \"short\", \"max_trip_hrs\": 1.0, \"max_trip_route_group\": 1.0, \"below_cutoff\": 24, \"pct_below_cutoff\": 1.0, \"name\": \"Tulare County Area Transit\", \"caltrans_district\": \"06 - Fresno\", \"drmt_organization_name\": null, \"route_name\": \"Porterville To Visalia\", \"cutoff2\": 20, \"cutoff\": 0}, {\"calitp_itp_id\": 346, \"trip_key\": 8844100933880447275, \"trip_id\": \"t_500116_b_17398_tn_0\", \"shape_id\": \"p_499964\", \"route_id\": \"12176\", \"service_hours\": 1.0, \"trip_first_departure_ts\": 51300, \"trip_last_arrival_ts\": 54900, \"departure_hour\": 14, \"time_of_day\": \"Midday\", \"p25\": 1.0, \"p50\": 1.0, \"p75\": 1.0, \"p50_trip\": 1, \"fastest_trip\": 0, \"car_duration_hours\": 0.85, \"competitive_route\": 1, \"bus_multiplier\": 1.18, \"bus_difference\": 9.0, \"num_trips\": 24, \"num_competitive\": 24, \"pct_trips_competitive\": 1.0, \"bus_difference_spread\": 0.0, \"route_group\": \"short\", \"max_trip_hrs\": 1.0, \"max_trip_route_group\": 1.0, \"below_cutoff\": 24, \"pct_below_cutoff\": 1.0, \"name\": \"Tulare County Area Transit\", \"caltrans_district\": \"06 - Fresno\", \"drmt_organization_name\": null, \"route_name\": \"Porterville To Visalia\", \"cutoff2\": 20, \"cutoff\": 0}, {\"calitp_itp_id\": 346, \"trip_key\": -8618555785617384534, \"trip_id\": \"t_500122_b_17398_tn_0\", \"shape_id\": \"p_499964\", \"route_id\": \"12176\", \"service_hours\": 1.0, \"trip_first_departure_ts\": 27300, \"trip_last_arrival_ts\": 30900, \"departure_hour\": 7, \"time_of_day\": \"AM Peak\", \"p25\": 1.0, \"p50\": 1.0, \"p75\": 1.0, \"p50_trip\": 1, \"fastest_trip\": 0, \"car_duration_hours\": 0.85, \"competitive_route\": 1, \"bus_multiplier\": 1.18, \"bus_difference\": 9.0, \"num_trips\": 24, \"num_competitive\": 24, \"pct_trips_competitive\": 1.0, \"bus_difference_spread\": 0.0, \"route_group\": \"short\", \"max_trip_hrs\": 1.0, \"max_trip_route_group\": 1.0, \"below_cutoff\": 24, \"pct_below_cutoff\": 1.0, \"name\": \"Tulare County Area Transit\", \"caltrans_district\": \"06 - Fresno\", \"drmt_organization_name\": null, \"route_name\": \"Porterville To Visalia\", \"cutoff2\": 20, \"cutoff\": 0}, {\"calitp_itp_id\": 346, \"trip_key\": -5472278900519860126, \"trip_id\": \"t_500089_b_17398_tn_0\", \"shape_id\": \"p_499962\", \"route_id\": \"12176\", \"service_hours\": 1.0, \"trip_first_departure_ts\": 63600, \"trip_last_arrival_ts\": 67200, \"departure_hour\": 17, \"time_of_day\": \"PM Peak\", \"p25\": 1.0, \"p50\": 1.0, \"p75\": 1.0, \"p50_trip\": 1, \"fastest_trip\": 0, \"car_duration_hours\": 0.85, \"competitive_route\": 1, \"bus_multiplier\": 1.18, \"bus_difference\": 9.0, \"num_trips\": 24, \"num_competitive\": 24, \"pct_trips_competitive\": 1.0, \"bus_difference_spread\": 0.0, \"route_group\": \"short\", \"max_trip_hrs\": 1.0, \"max_trip_route_group\": 1.0, \"below_cutoff\": 24, \"pct_below_cutoff\": 1.0, \"name\": \"Tulare County Area Transit\", \"caltrans_district\": \"06 - Fresno\", \"drmt_organization_name\": null, \"route_name\": \"Porterville To Visalia\", \"cutoff2\": 20, \"cutoff\": 0}, {\"calitp_itp_id\": 346, \"trip_key\": -5412216903870809975, \"trip_id\": \"t_500123_b_17398_tn_0\", \"shape_id\": \"p_499964\", \"route_id\": \"12176\", \"service_hours\": 1.0, \"trip_first_departure_ts\": 31200, \"trip_last_arrival_ts\": 34800, \"departure_hour\": 8, \"time_of_day\": \"AM Peak\", \"p25\": 1.0, \"p50\": 1.0, \"p75\": 1.0, \"p50_trip\": 1, \"fastest_trip\": 0, \"car_duration_hours\": 0.85, \"competitive_route\": 1, \"bus_multiplier\": 1.18, \"bus_difference\": 9.0, \"num_trips\": 24, \"num_competitive\": 24, \"pct_trips_competitive\": 1.0, \"bus_difference_spread\": 0.0, \"route_group\": \"short\", \"max_trip_hrs\": 1.0, \"max_trip_route_group\": 1.0, \"below_cutoff\": 24, \"pct_below_cutoff\": 1.0, \"name\": \"Tulare County Area Transit\", \"caltrans_district\": \"06 - Fresno\", \"drmt_organization_name\": null, \"route_name\": \"Porterville To Visalia\", \"cutoff2\": 20, \"cutoff\": 0}, {\"calitp_itp_id\": 346, \"trip_key\": -757159069014569317, \"trip_id\": \"t_500085_b_17398_tn_0\", \"shape_id\": \"p_499962\", \"route_id\": \"12176\", \"service_hours\": 1.0, \"trip_first_departure_ts\": 47400, \"trip_last_arrival_ts\": 51000, \"departure_hour\": 13, \"time_of_day\": \"Midday\", \"p25\": 1.0, \"p50\": 1.0, \"p75\": 1.0, \"p50_trip\": 1, \"fastest_trip\": 0, \"car_duration_hours\": 0.85, \"competitive_route\": 1, \"bus_multiplier\": 1.18, \"bus_difference\": 9.0, \"num_trips\": 24, \"num_competitive\": 24, \"pct_trips_competitive\": 1.0, \"bus_difference_spread\": 0.0, \"route_group\": \"short\", \"max_trip_hrs\": 1.0, \"max_trip_route_group\": 1.0, \"below_cutoff\": 24, \"pct_below_cutoff\": 1.0, \"name\": \"Tulare County Area Transit\", \"caltrans_district\": \"06 - Fresno\", \"drmt_organization_name\": null, \"route_name\": \"Porterville To Visalia\", \"cutoff2\": 20, \"cutoff\": 0}, {\"calitp_itp_id\": 346, \"trip_key\": -4625468040257566598, \"trip_id\": \"t_500115_b_17398_tn_0\", \"shape_id\": \"p_499964\", \"route_id\": \"12176\", \"service_hours\": 1.0, \"trip_first_departure_ts\": 47400, \"trip_last_arrival_ts\": 51000, \"departure_hour\": 13, \"time_of_day\": \"Midday\", \"p25\": 1.0, \"p50\": 1.0, \"p75\": 1.0, \"p50_trip\": 1, \"fastest_trip\": 0, \"car_duration_hours\": 0.85, \"competitive_route\": 1, \"bus_multiplier\": 1.18, \"bus_difference\": 9.0, \"num_trips\": 24, \"num_competitive\": 24, \"pct_trips_competitive\": 1.0, \"bus_difference_spread\": 0.0, \"route_group\": \"short\", \"max_trip_hrs\": 1.0, \"max_trip_route_group\": 1.0, \"below_cutoff\": 24, \"pct_below_cutoff\": 1.0, \"name\": \"Tulare County Area Transit\", \"caltrans_district\": \"06 - Fresno\", \"drmt_organization_name\": null, \"route_name\": \"Porterville To Visalia\", \"cutoff2\": 20, \"cutoff\": 0}, {\"calitp_itp_id\": 346, \"trip_key\": 2522777758647020542, \"trip_id\": \"t_500079_b_17398_tn_0\", \"shape_id\": \"p_499962\", \"route_id\": \"12176\", \"service_hours\": 1.0, \"trip_first_departure_ts\": 27300, \"trip_last_arrival_ts\": 30900, \"departure_hour\": 7, \"time_of_day\": \"AM Peak\", \"p25\": 1.0, \"p50\": 1.0, \"p75\": 1.0, \"p50_trip\": 1, \"fastest_trip\": 0, \"car_duration_hours\": 0.85, \"competitive_route\": 1, \"bus_multiplier\": 1.18, \"bus_difference\": 9.0, \"num_trips\": 24, \"num_competitive\": 24, \"pct_trips_competitive\": 1.0, \"bus_difference_spread\": 0.0, \"route_group\": \"short\", \"max_trip_hrs\": 1.0, \"max_trip_route_group\": 1.0, \"below_cutoff\": 24, \"pct_below_cutoff\": 1.0, \"name\": \"Tulare County Area Transit\", \"caltrans_district\": \"06 - Fresno\", \"drmt_organization_name\": null, \"route_name\": \"Porterville To Visalia\", \"cutoff2\": 20, \"cutoff\": 0}, {\"calitp_itp_id\": 346, \"trip_key\": -7053576655635302747, \"trip_id\": \"t_500083_b_17398_tn_0\", \"shape_id\": \"p_499962\", \"route_id\": \"12176\", \"service_hours\": 1.0, \"trip_first_departure_ts\": 36600, \"trip_last_arrival_ts\": 40200, \"departure_hour\": 10, \"time_of_day\": \"Midday\", \"p25\": 1.0, \"p50\": 1.0, \"p75\": 1.0, \"p50_trip\": 1, \"fastest_trip\": 0, \"car_duration_hours\": 0.85, \"competitive_route\": 1, \"bus_multiplier\": 1.18, \"bus_difference\": 9.0, \"num_trips\": 24, \"num_competitive\": 24, \"pct_trips_competitive\": 1.0, \"bus_difference_spread\": 0.0, \"route_group\": \"short\", \"max_trip_hrs\": 1.0, \"max_trip_route_group\": 1.0, \"below_cutoff\": 24, \"pct_below_cutoff\": 1.0, \"name\": \"Tulare County Area Transit\", \"caltrans_district\": \"06 - Fresno\", \"drmt_organization_name\": null, \"route_name\": \"Porterville To Visalia\", \"cutoff2\": 20, \"cutoff\": 0}, {\"calitp_itp_id\": 346, \"trip_key\": -1549930987774960835, \"trip_id\": \"t_500125_b_17398_tn_0\", \"shape_id\": \"p_499964\", \"route_id\": \"12176\", \"service_hours\": 1.0, \"trip_first_departure_ts\": 40500, \"trip_last_arrival_ts\": 44100, \"departure_hour\": 11, \"time_of_day\": \"Midday\", \"p25\": 1.0, \"p50\": 1.0, \"p75\": 1.0, \"p50_trip\": 1, \"fastest_trip\": 0, \"car_duration_hours\": 0.85, \"competitive_route\": 1, \"bus_multiplier\": 1.18, \"bus_difference\": 9.0, \"num_trips\": 24, \"num_competitive\": 24, \"pct_trips_competitive\": 1.0, \"bus_difference_spread\": 0.0, \"route_group\": \"short\", \"max_trip_hrs\": 1.0, \"max_trip_route_group\": 1.0, \"below_cutoff\": 24, \"pct_below_cutoff\": 1.0, \"name\": \"Tulare County Area Transit\", \"caltrans_district\": \"06 - Fresno\", \"drmt_organization_name\": null, \"route_name\": \"Porterville To Visalia\", \"cutoff2\": 20, \"cutoff\": 0}, {\"calitp_itp_id\": 346, \"trip_key\": 1842132103230328378, \"trip_id\": \"t_500117_b_17398_tn_0\", \"shape_id\": \"p_499964\", \"route_id\": \"12176\", \"service_hours\": 1.0, \"trip_first_departure_ts\": 59700, \"trip_last_arrival_ts\": 63300, \"departure_hour\": 16, \"time_of_day\": \"Midday\", \"p25\": 1.0, \"p50\": 1.0, \"p75\": 1.0, \"p50_trip\": 1, \"fastest_trip\": 0, \"car_duration_hours\": 0.85, \"competitive_route\": 1, \"bus_multiplier\": 1.18, \"bus_difference\": 9.0, \"num_trips\": 24, \"num_competitive\": 24, \"pct_trips_competitive\": 1.0, \"bus_difference_spread\": 0.0, \"route_group\": \"short\", \"max_trip_hrs\": 1.0, \"max_trip_route_group\": 1.0, \"below_cutoff\": 24, \"pct_below_cutoff\": 1.0, \"name\": \"Tulare County Area Transit\", \"caltrans_district\": \"06 - Fresno\", \"drmt_organization_name\": null, \"route_name\": \"Porterville To Visalia\", \"cutoff2\": 20, \"cutoff\": 0}, {\"calitp_itp_id\": 346, \"trip_key\": -3669451985458913058, \"trip_id\": \"t_500082_b_17398_tn_0\", \"shape_id\": \"p_499962\", \"route_id\": \"12176\", \"service_hours\": 1.0, \"trip_first_departure_ts\": 31200, \"trip_last_arrival_ts\": 34800, \"departure_hour\": 8, \"time_of_day\": \"AM Peak\", \"p25\": 1.0, \"p50\": 1.0, \"p75\": 1.0, \"p50_trip\": 1, \"fastest_trip\": 0, \"car_duration_hours\": 0.85, \"competitive_route\": 1, \"bus_multiplier\": 1.18, \"bus_difference\": 9.0, \"num_trips\": 24, \"num_competitive\": 24, \"pct_trips_competitive\": 1.0, \"bus_difference_spread\": 0.0, \"route_group\": \"short\", \"max_trip_hrs\": 1.0, \"max_trip_route_group\": 1.0, \"below_cutoff\": 24, \"pct_below_cutoff\": 1.0, \"name\": \"Tulare County Area Transit\", \"caltrans_district\": \"06 - Fresno\", \"drmt_organization_name\": null, \"route_name\": \"Porterville To Visalia\", \"cutoff2\": 20, \"cutoff\": 0}, {\"calitp_itp_id\": 346, \"trip_key\": -5193700342022861050, \"trip_id\": \"t_500118_b_17398_tn_0\", \"shape_id\": \"p_499964\", \"route_id\": \"12176\", \"service_hours\": 1.0, \"trip_first_departure_ts\": 63600, \"trip_last_arrival_ts\": 67200, \"departure_hour\": 17, \"time_of_day\": \"PM Peak\", \"p25\": 1.0, \"p50\": 1.0, \"p75\": 1.0, \"p50_trip\": 1, \"fastest_trip\": 0, \"car_duration_hours\": 0.85, \"competitive_route\": 1, \"bus_multiplier\": 1.18, \"bus_difference\": 9.0, \"num_trips\": 24, \"num_competitive\": 24, \"pct_trips_competitive\": 1.0, \"bus_difference_spread\": 0.0, \"route_group\": \"short\", \"max_trip_hrs\": 1.0, \"max_trip_route_group\": 1.0, \"below_cutoff\": 24, \"pct_below_cutoff\": 1.0, \"name\": \"Tulare County Area Transit\", \"caltrans_district\": \"06 - Fresno\", \"drmt_organization_name\": null, \"route_name\": \"Porterville To Visalia\", \"cutoff2\": 20, \"cutoff\": 0}, {\"calitp_itp_id\": 346, \"trip_key\": 4102419972835778672, \"trip_id\": \"t_500086_b_17398_tn_0\", \"shape_id\": \"p_499962\", \"route_id\": \"12176\", \"service_hours\": 1.0, \"trip_first_departure_ts\": 51300, \"trip_last_arrival_ts\": 54900, \"departure_hour\": 14, \"time_of_day\": \"Midday\", \"p25\": 1.0, \"p50\": 1.0, \"p75\": 1.0, \"p50_trip\": 1, \"fastest_trip\": 0, \"car_duration_hours\": 0.85, \"competitive_route\": 1, \"bus_multiplier\": 1.18, \"bus_difference\": 9.0, \"num_trips\": 24, \"num_competitive\": 24, \"pct_trips_competitive\": 1.0, \"bus_difference_spread\": 0.0, \"route_group\": \"short\", \"max_trip_hrs\": 1.0, \"max_trip_route_group\": 1.0, \"below_cutoff\": 24, \"pct_below_cutoff\": 1.0, \"name\": \"Tulare County Area Transit\", \"caltrans_district\": \"06 - Fresno\", \"drmt_organization_name\": null, \"route_name\": \"Porterville To Visalia\", \"cutoff2\": 20, \"cutoff\": 0}, {\"calitp_itp_id\": 346, \"trip_key\": 3481768745216626254, \"trip_id\": \"t_500121_b_17398_tn_0\", \"shape_id\": \"p_499964\", \"route_id\": \"12176\", \"service_hours\": 1.0, \"trip_first_departure_ts\": 23400, \"trip_last_arrival_ts\": 27000, \"departure_hour\": 6, \"time_of_day\": \"Owl Service\", \"p25\": 1.0, \"p50\": 1.0, \"p75\": 1.0, \"p50_trip\": 1, \"fastest_trip\": 0, \"car_duration_hours\": 0.85, \"competitive_route\": 1, \"bus_multiplier\": 1.18, \"bus_difference\": 9.0, \"num_trips\": 24, \"num_competitive\": 24, \"pct_trips_competitive\": 1.0, \"bus_difference_spread\": 0.0, \"route_group\": \"short\", \"max_trip_hrs\": 1.0, \"max_trip_route_group\": 1.0, \"below_cutoff\": 24, \"pct_below_cutoff\": 1.0, \"name\": \"Tulare County Area Transit\", \"caltrans_district\": \"06 - Fresno\", \"drmt_organization_name\": null, \"route_name\": \"Porterville To Visalia\", \"cutoff2\": 20, \"cutoff\": 0}, {\"calitp_itp_id\": 346, \"trip_key\": 8314101309508683309, \"trip_id\": \"t_500087_b_17398_tn_0\", \"shape_id\": \"p_499962\", \"route_id\": \"12176\", \"service_hours\": 1.0, \"trip_first_departure_ts\": 55200, \"trip_last_arrival_ts\": 58800, \"departure_hour\": 15, \"time_of_day\": \"Midday\", \"p25\": 1.0, \"p50\": 1.0, \"p75\": 1.0, \"p50_trip\": 1, \"fastest_trip\": 0, \"car_duration_hours\": 0.85, \"competitive_route\": 1, \"bus_multiplier\": 1.18, \"bus_difference\": 9.0, \"num_trips\": 24, \"num_competitive\": 24, \"pct_trips_competitive\": 1.0, \"bus_difference_spread\": 0.0, \"route_group\": \"short\", \"max_trip_hrs\": 1.0, \"max_trip_route_group\": 1.0, \"below_cutoff\": 24, \"pct_below_cutoff\": 1.0, \"name\": \"Tulare County Area Transit\", \"caltrans_district\": \"06 - Fresno\", \"drmt_organization_name\": null, \"route_name\": \"Porterville To Visalia\", \"cutoff2\": 20, \"cutoff\": 0}, {\"calitp_itp_id\": 346, \"trip_key\": -7027944131050854572, \"trip_id\": \"t_500090_b_17398_tn_0\", \"shape_id\": \"p_499962\", \"route_id\": \"12176\", \"service_hours\": 1.0, \"trip_first_departure_ts\": 67980, \"trip_last_arrival_ts\": 71580, \"departure_hour\": 18, \"time_of_day\": \"PM Peak\", \"p25\": 1.0, \"p50\": 1.0, \"p75\": 1.0, \"p50_trip\": 1, \"fastest_trip\": 1, \"car_duration_hours\": 0.85, \"competitive_route\": 1, \"bus_multiplier\": 1.18, \"bus_difference\": 9.0, \"num_trips\": 24, \"num_competitive\": 24, \"pct_trips_competitive\": 1.0, \"bus_difference_spread\": 0.0, \"route_group\": \"short\", \"max_trip_hrs\": 1.0, \"max_trip_route_group\": 1.0, \"below_cutoff\": 24, \"pct_below_cutoff\": 1.0, \"name\": \"Tulare County Area Transit\", \"caltrans_district\": \"06 - Fresno\", \"drmt_organization_name\": null, \"route_name\": \"Porterville To Visalia\", \"cutoff2\": 20, \"cutoff\": 0}, {\"calitp_itp_id\": 346, \"trip_key\": -4588754416592947856, \"trip_id\": \"t_500114_b_17398_tn_0\", \"shape_id\": \"p_499964\", \"route_id\": \"12176\", \"service_hours\": 1.0, \"trip_first_departure_ts\": 19500, \"trip_last_arrival_ts\": 23100, \"departure_hour\": 5, \"time_of_day\": \"Owl Service\", \"p25\": 1.0, \"p50\": 1.0, \"p75\": 1.0, \"p50_trip\": 1, \"fastest_trip\": 0, \"car_duration_hours\": 0.85, \"competitive_route\": 1, \"bus_multiplier\": 1.18, \"bus_difference\": 9.0, \"num_trips\": 24, \"num_competitive\": 24, \"pct_trips_competitive\": 1.0, \"bus_difference_spread\": 0.0, \"route_group\": \"short\", \"max_trip_hrs\": 1.0, \"max_trip_route_group\": 1.0, \"below_cutoff\": 24, \"pct_below_cutoff\": 1.0, \"name\": \"Tulare County Area Transit\", \"caltrans_district\": \"06 - Fresno\", \"drmt_organization_name\": null, \"route_name\": \"Porterville To Visalia\", \"cutoff2\": 20, \"cutoff\": 0}, {\"calitp_itp_id\": 346, \"trip_key\": 6112727150865454334, \"trip_id\": \"t_500080_b_17398_tn_0\", \"shape_id\": \"p_499962\", \"route_id\": \"12176\", \"service_hours\": 1.0, \"trip_first_departure_ts\": 19500, \"trip_last_arrival_ts\": 23100, \"departure_hour\": 5, \"time_of_day\": \"Owl Service\", \"p25\": 1.0, \"p50\": 1.0, \"p75\": 1.0, \"p50_trip\": 1, \"fastest_trip\": 0, \"car_duration_hours\": 0.85, \"competitive_route\": 1, \"bus_multiplier\": 1.18, \"bus_difference\": 9.0, \"num_trips\": 24, \"num_competitive\": 24, \"pct_trips_competitive\": 1.0, \"bus_difference_spread\": 0.0, \"route_group\": \"short\", \"max_trip_hrs\": 1.0, \"max_trip_route_group\": 1.0, \"below_cutoff\": 24, \"pct_below_cutoff\": 1.0, \"name\": \"Tulare County Area Transit\", \"caltrans_district\": \"06 - Fresno\", \"drmt_organization_name\": null, \"route_name\": \"Porterville To Visalia\", \"cutoff2\": 20, \"cutoff\": 0}, {\"calitp_itp_id\": 346, \"trip_key\": -7664958625237909348, \"trip_id\": \"t_500124_b_17398_tn_0\", \"shape_id\": \"p_499964\", \"route_id\": \"12176\", \"service_hours\": 1.0, \"trip_first_departure_ts\": 36600, \"trip_last_arrival_ts\": 40200, \"departure_hour\": 10, \"time_of_day\": \"Midday\", \"p25\": 1.0, \"p50\": 1.0, \"p75\": 1.0, \"p50_trip\": 1, \"fastest_trip\": 0, \"car_duration_hours\": 0.85, \"competitive_route\": 1, \"bus_multiplier\": 1.18, \"bus_difference\": 9.0, \"num_trips\": 24, \"num_competitive\": 24, \"pct_trips_competitive\": 1.0, \"bus_difference_spread\": 0.0, \"route_group\": \"short\", \"max_trip_hrs\": 1.0, \"max_trip_route_group\": 1.0, \"below_cutoff\": 24, \"pct_below_cutoff\": 1.0, \"name\": \"Tulare County Area Transit\", \"caltrans_district\": \"06 - Fresno\", \"drmt_organization_name\": null, \"route_name\": \"Porterville To Visalia\", \"cutoff2\": 20, \"cutoff\": 0}, {\"calitp_itp_id\": 346, \"trip_key\": -6713784561649114602, \"trip_id\": \"t_500119_b_17398_tn_0\", \"shape_id\": \"p_499964\", \"route_id\": \"12176\", \"service_hours\": 1.0, \"trip_first_departure_ts\": 67500, \"trip_last_arrival_ts\": 71100, \"departure_hour\": 18, \"time_of_day\": \"PM Peak\", \"p25\": 1.0, \"p50\": 1.0, \"p75\": 1.0, \"p50_trip\": 1, \"fastest_trip\": 0, \"car_duration_hours\": 0.85, \"competitive_route\": 1, \"bus_multiplier\": 1.18, \"bus_difference\": 9.0, \"num_trips\": 24, \"num_competitive\": 24, \"pct_trips_competitive\": 1.0, \"bus_difference_spread\": 0.0, \"route_group\": \"short\", \"max_trip_hrs\": 1.0, \"max_trip_route_group\": 1.0, \"below_cutoff\": 24, \"pct_below_cutoff\": 1.0, \"name\": \"Tulare County Area Transit\", \"caltrans_district\": \"06 - Fresno\", \"drmt_organization_name\": null, \"route_name\": \"Porterville To Visalia\", \"cutoff2\": 20, \"cutoff\": 0}, {\"calitp_itp_id\": 346, \"trip_key\": -7045637655746196127, \"trip_id\": \"t_500081_b_17398_tn_0\", \"shape_id\": \"p_499962\", \"route_id\": \"12176\", \"service_hours\": 1.0, \"trip_first_departure_ts\": 23400, \"trip_last_arrival_ts\": 27000, \"departure_hour\": 6, \"time_of_day\": \"Owl Service\", \"p25\": 1.0, \"p50\": 1.0, \"p75\": 1.0, \"p50_trip\": 1, \"fastest_trip\": 0, \"car_duration_hours\": 0.85, \"competitive_route\": 1, \"bus_multiplier\": 1.18, \"bus_difference\": 9.0, \"num_trips\": 24, \"num_competitive\": 24, \"pct_trips_competitive\": 1.0, \"bus_difference_spread\": 0.0, \"route_group\": \"short\", \"max_trip_hrs\": 1.0, \"max_trip_route_group\": 1.0, \"below_cutoff\": 24, \"pct_below_cutoff\": 1.0, \"name\": \"Tulare County Area Transit\", \"caltrans_district\": \"06 - Fresno\", \"drmt_organization_name\": null, \"route_name\": \"Porterville To Visalia\", \"cutoff2\": 20, \"cutoff\": 0}, {\"calitp_itp_id\": 346, \"trip_key\": 5937347612052816118, \"trip_id\": \"t_500084_b_17398_tn_0\", \"shape_id\": \"p_499962\", \"route_id\": \"12176\", \"service_hours\": 1.0, \"trip_first_departure_ts\": 40500, \"trip_last_arrival_ts\": 44100, \"departure_hour\": 11, \"time_of_day\": \"Midday\", \"p25\": 1.0, \"p50\": 1.0, \"p75\": 1.0, \"p50_trip\": 1, \"fastest_trip\": 0, \"car_duration_hours\": 0.85, \"competitive_route\": 1, \"bus_multiplier\": 1.18, \"bus_difference\": 9.0, \"num_trips\": 24, \"num_competitive\": 24, \"pct_trips_competitive\": 1.0, \"bus_difference_spread\": 0.0, \"route_group\": \"short\", \"max_trip_hrs\": 1.0, \"max_trip_route_group\": 1.0, \"below_cutoff\": 24, \"pct_below_cutoff\": 1.0, \"name\": \"Tulare County Area Transit\", \"caltrans_district\": \"06 - Fresno\", \"drmt_organization_name\": null, \"route_name\": \"Porterville To Visalia\", \"cutoff2\": 20, \"cutoff\": 0}, {\"calitp_itp_id\": 346, \"trip_key\": 162832854836044158, \"trip_id\": \"t_819708_b_17398_tn_0\", \"shape_id\": \"p_786980\", \"route_id\": \"12181\", \"service_hours\": 0.43, \"trip_first_departure_ts\": 54540, \"trip_last_arrival_ts\": 56100, \"departure_hour\": 15, \"time_of_day\": \"Midday\", \"p25\": 0.4825, \"p50\": 0.5, \"p75\": 0.505, \"p50_trip\": 0, \"fastest_trip\": 1, \"car_duration_hours\": 0.4, \"competitive_route\": 1, \"bus_multiplier\": 1.08, \"bus_difference\": 1.8, \"num_trips\": 4, \"num_competitive\": 4, \"pct_trips_competitive\": 1.0, \"bus_difference_spread\": 5.4, \"route_group\": \"short\", \"max_trip_hrs\": 0.52, \"max_trip_route_group\": 0.52, \"below_cutoff\": 4, \"pct_below_cutoff\": 1.0, \"name\": \"Tulare County Area Transit\", \"caltrans_district\": \"06 - Fresno\", \"drmt_organization_name\": null, \"route_name\": \"Porterville To Springville Loop\", \"cutoff2\": 20, \"cutoff\": 0}, {\"calitp_itp_id\": 346, \"trip_key\": -5108747123102182320, \"trip_id\": \"t_819684_b_17398_tn_0\", \"shape_id\": \"p_786979\", \"route_id\": \"12181\", \"service_hours\": 0.5, \"trip_first_departure_ts\": 31380, \"trip_last_arrival_ts\": 33180, \"departure_hour\": 8, \"time_of_day\": \"AM Peak\", \"p25\": 0.4825, \"p50\": 0.5, \"p75\": 0.505, \"p50_trip\": 1, \"fastest_trip\": 0, \"car_duration_hours\": 0.4, \"competitive_route\": 1, \"bus_multiplier\": 1.25, \"bus_difference\": 6.0, \"num_trips\": 4, \"num_competitive\": 4, \"pct_trips_competitive\": 1.0, \"bus_difference_spread\": 5.4, \"route_group\": \"short\", \"max_trip_hrs\": 0.52, \"max_trip_route_group\": 0.52, \"below_cutoff\": 4, \"pct_below_cutoff\": 1.0, \"name\": \"Tulare County Area Transit\", \"caltrans_district\": \"06 - Fresno\", \"drmt_organization_name\": null, \"route_name\": \"Porterville To Springville Loop\", \"cutoff2\": 20, \"cutoff\": 0}, {\"calitp_itp_id\": 346, \"trip_key\": -4702858191340267110, \"trip_id\": \"t_819707_b_17398_tn_0\", \"shape_id\": \"p_786980\", \"route_id\": \"12181\", \"service_hours\": 0.5, \"trip_first_departure_ts\": 33480, \"trip_last_arrival_ts\": 35280, \"departure_hour\": 9, \"time_of_day\": \"AM Peak\", \"p25\": 0.4825, \"p50\": 0.5, \"p75\": 0.505, \"p50_trip\": 1, \"fastest_trip\": 0, \"car_duration_hours\": 0.4, \"competitive_route\": 1, \"bus_multiplier\": 1.25, \"bus_difference\": 6.0, \"num_trips\": 4, \"num_competitive\": 4, \"pct_trips_competitive\": 1.0, \"bus_difference_spread\": 5.4, \"route_group\": \"short\", \"max_trip_hrs\": 0.52, \"max_trip_route_group\": 0.52, \"below_cutoff\": 4, \"pct_below_cutoff\": 1.0, \"name\": \"Tulare County Area Transit\", \"caltrans_district\": \"06 - Fresno\", \"drmt_organization_name\": null, \"route_name\": \"Porterville To Springville Loop\", \"cutoff2\": 20, \"cutoff\": 0}, {\"calitp_itp_id\": 346, \"trip_key\": -4157165752352400068, \"trip_id\": \"t_819683_b_17398_tn_0\", \"shape_id\": \"p_786979\", \"route_id\": \"12181\", \"service_hours\": 0.52, \"trip_first_departure_ts\": 52380, \"trip_last_arrival_ts\": 54240, \"departure_hour\": 14, \"time_of_day\": \"Midday\", \"p25\": 0.4825, \"p50\": 0.5, \"p75\": 0.505, \"p50_trip\": 0, \"fastest_trip\": 0, \"car_duration_hours\": 0.4, \"competitive_route\": 1, \"bus_multiplier\": 1.3, \"bus_difference\": 7.2, \"num_trips\": 4, \"num_competitive\": 4, \"pct_trips_competitive\": 1.0, \"bus_difference_spread\": 5.4, \"route_group\": \"short\", \"max_trip_hrs\": 0.52, \"max_trip_route_group\": 0.52, \"below_cutoff\": 4, \"pct_below_cutoff\": 1.0, \"name\": \"Tulare County Area Transit\", \"caltrans_district\": \"06 - Fresno\", \"drmt_organization_name\": null, \"route_name\": \"Porterville To Springville Loop\", \"cutoff2\": 20, \"cutoff\": 0}, {\"calitp_itp_id\": 346, \"trip_key\": -2014617936069782422, \"trip_id\": \"t_819681_b_17398_tn_0\", \"shape_id\": \"p_786978\", \"route_id\": \"12182\", \"service_hours\": 0.38, \"trip_first_departure_ts\": 35580, \"trip_last_arrival_ts\": 36960, \"departure_hour\": 9, \"time_of_day\": \"AM Peak\", \"p25\": 0.395, \"p50\": 0.435, \"p75\": 0.4725, \"p50_trip\": 0, \"fastest_trip\": 1, \"car_duration_hours\": 0.31, \"competitive_route\": 1, \"bus_multiplier\": 1.23, \"bus_difference\": 4.2, \"num_trips\": 4, \"num_competitive\": 4, \"pct_trips_competitive\": 1.0, \"bus_difference_spread\": 5.999999999999999, \"route_group\": \"short\", \"max_trip_hrs\": 0.48, \"max_trip_route_group\": 0.48, \"below_cutoff\": 4, \"pct_below_cutoff\": 1.0, \"name\": \"Tulare County Area Transit\", \"caltrans_district\": \"06 - Fresno\", \"drmt_organization_name\": null, \"route_name\": \"Porterville To Terra Bella Loop\", \"cutoff2\": 20, \"cutoff\": 0}, {\"calitp_itp_id\": 346, \"trip_key\": -6760626856355390799, \"trip_id\": \"t_819682_b_17398_tn_0\", \"shape_id\": \"p_786978\", \"route_id\": \"12182\", \"service_hours\": 0.4, \"trip_first_departure_ts\": 56400, \"trip_last_arrival_ts\": 57840, \"departure_hour\": 15, \"time_of_day\": \"Midday\", \"p25\": 0.395, \"p50\": 0.435, \"p75\": 0.4725, \"p50_trip\": 1, \"fastest_trip\": 0, \"car_duration_hours\": 0.31, \"competitive_route\": 1, \"bus_multiplier\": 1.29, \"bus_difference\": 5.4, \"num_trips\": 4, \"num_competitive\": 4, \"pct_trips_competitive\": 1.0, \"bus_difference_spread\": 5.999999999999999, \"route_group\": \"short\", \"max_trip_hrs\": 0.48, \"max_trip_route_group\": 0.48, \"below_cutoff\": 4, \"pct_below_cutoff\": 1.0, \"name\": \"Tulare County Area Transit\", \"caltrans_district\": \"06 - Fresno\", \"drmt_organization_name\": null, \"route_name\": \"Porterville To Terra Bella Loop\", \"cutoff2\": 20, \"cutoff\": 0}, {\"calitp_itp_id\": 346, \"trip_key\": -6265703907299379208, \"trip_id\": \"t_819710_b_17398_tn_0\", \"shape_id\": \"p_786981\", \"route_id\": \"12182\", \"service_hours\": 0.47, \"trip_first_departure_ts\": 57840, \"trip_last_arrival_ts\": 59520, \"departure_hour\": 16, \"time_of_day\": \"Midday\", \"p25\": 0.395, \"p50\": 0.435, \"p75\": 0.4725, \"p50_trip\": 1, \"fastest_trip\": 0, \"car_duration_hours\": 0.31, \"competitive_route\": 1, \"bus_multiplier\": 1.52, \"bus_difference\": 9.6, \"num_trips\": 4, \"num_competitive\": 4, \"pct_trips_competitive\": 1.0, \"bus_difference_spread\": 5.999999999999999, \"route_group\": \"short\", \"max_trip_hrs\": 0.48, \"max_trip_route_group\": 0.48, \"below_cutoff\": 4, \"pct_below_cutoff\": 1.0, \"name\": \"Tulare County Area Transit\", \"caltrans_district\": \"06 - Fresno\", \"drmt_organization_name\": null, \"route_name\": \"Porterville To Terra Bella Loop\", \"cutoff2\": 20, \"cutoff\": 0}, {\"calitp_itp_id\": 346, \"trip_key\": -6777290730226303276, \"trip_id\": \"t_819709_b_17398_tn_0\", \"shape_id\": \"p_786981\", \"route_id\": \"12182\", \"service_hours\": 0.48, \"trip_first_departure_ts\": 36960, \"trip_last_arrival_ts\": 38700, \"departure_hour\": 10, \"time_of_day\": \"Midday\", \"p25\": 0.395, \"p50\": 0.435, \"p75\": 0.4725, \"p50_trip\": 0, \"fastest_trip\": 0, \"car_duration_hours\": 0.31, \"competitive_route\": 1, \"bus_multiplier\": 1.55, \"bus_difference\": 10.2, \"num_trips\": 4, \"num_competitive\": 4, \"pct_trips_competitive\": 1.0, \"bus_difference_spread\": 5.999999999999999, \"route_group\": \"short\", \"max_trip_hrs\": 0.48, \"max_trip_route_group\": 0.48, \"below_cutoff\": 4, \"pct_below_cutoff\": 1.0, \"name\": \"Tulare County Area Transit\", \"caltrans_district\": \"06 - Fresno\", \"drmt_organization_name\": null, \"route_name\": \"Porterville To Terra Bella Loop\", \"cutoff2\": 20, \"cutoff\": 0}, {\"calitp_itp_id\": 346, \"trip_key\": -9211871739792671571, \"trip_id\": \"t_500003_b_17398_tn_0\", \"shape_id\": \"p_499943\", \"route_id\": \"12183\", \"service_hours\": 0.75, \"trip_first_departure_ts\": 62100, \"trip_last_arrival_ts\": 64800, \"departure_hour\": 17, \"time_of_day\": \"PM Peak\", \"p25\": 0.83, \"p50\": 0.83, \"p75\": 0.9225000000000001, \"p50_trip\": 0, \"fastest_trip\": 1, \"car_duration_hours\": 0.62, \"competitive_route\": 1, \"bus_multiplier\": 1.21, \"bus_difference\": 7.8, \"num_trips\": 24, \"num_competitive\": 24, \"pct_trips_competitive\": 1.0, \"bus_difference_spread\": 15.0, \"route_group\": \"short\", \"max_trip_hrs\": 1.0, \"max_trip_route_group\": 1.0, \"below_cutoff\": 21, \"pct_below_cutoff\": 0.875, \"name\": \"Tulare County Area Transit\", \"caltrans_district\": \"06 - Fresno\", \"drmt_organization_name\": null, \"route_name\": \"Visalia To Dinuba\", \"cutoff2\": 20, \"cutoff\": 0}, {\"calitp_itp_id\": 346, \"trip_key\": 4804976936530476058, \"trip_id\": \"t_500044_b_17398_tn_0\", \"shape_id\": \"p_499951\", \"route_id\": \"12183\", \"service_hours\": 0.82, \"trip_first_departure_ts\": 22500, \"trip_last_arrival_ts\": 25440, \"departure_hour\": 6, \"time_of_day\": \"Owl Service\", \"p25\": 0.83, \"p50\": 0.83, \"p75\": 0.9225000000000001, \"p50_trip\": 0, \"fastest_trip\": 0, \"car_duration_hours\": 0.62, \"competitive_route\": 1, \"bus_multiplier\": 1.32, \"bus_difference\": 12.0, \"num_trips\": 24, \"num_competitive\": 24, \"pct_trips_competitive\": 1.0, \"bus_difference_spread\": 15.0, \"route_group\": \"short\", \"max_trip_hrs\": 1.0, \"max_trip_route_group\": 1.0, \"below_cutoff\": 21, \"pct_below_cutoff\": 0.875, \"name\": \"Tulare County Area Transit\", \"caltrans_district\": \"06 - Fresno\", \"drmt_organization_name\": null, \"route_name\": \"Visalia To Dinuba\", \"cutoff2\": 20, \"cutoff\": 0}, {\"calitp_itp_id\": 346, \"trip_key\": -7472140972250013070, \"trip_id\": \"t_500043_b_17398_tn_0\", \"shape_id\": \"p_499951\", \"route_id\": \"12183\", \"service_hours\": 0.82, \"trip_first_departure_ts\": 47700, \"trip_last_arrival_ts\": 50640, \"departure_hour\": 13, \"time_of_day\": \"Midday\", \"p25\": 0.83, \"p50\": 0.83, \"p75\": 0.9225000000000001, \"p50_trip\": 0, \"fastest_trip\": 0, \"car_duration_hours\": 0.62, \"competitive_route\": 1, \"bus_multiplier\": 1.32, \"bus_difference\": 12.0, \"num_trips\": 24, \"num_competitive\": 24, \"pct_trips_competitive\": 1.0, \"bus_difference_spread\": 15.0, \"route_group\": \"short\", \"max_trip_hrs\": 1.0, \"max_trip_route_group\": 1.0, \"below_cutoff\": 21, \"pct_below_cutoff\": 0.875, \"name\": \"Tulare County Area Transit\", \"caltrans_district\": \"06 - Fresno\", \"drmt_organization_name\": null, \"route_name\": \"Visalia To Dinuba\", \"cutoff2\": 20, \"cutoff\": 0}, {\"calitp_itp_id\": 346, \"trip_key\": -1132176165616634290, \"trip_id\": \"t_500045_b_17398_tn_0\", \"shape_id\": \"p_499951\", \"route_id\": \"12183\", \"service_hours\": 0.82, \"trip_first_departure_ts\": 54900, \"trip_last_arrival_ts\": 57840, \"departure_hour\": 15, \"time_of_day\": \"Midday\", \"p25\": 0.83, \"p50\": 0.83, \"p75\": 0.9225000000000001, \"p50_trip\": 0, \"fastest_trip\": 0, \"car_duration_hours\": 0.62, \"competitive_route\": 1, \"bus_multiplier\": 1.32, \"bus_difference\": 12.0, \"num_trips\": 24, \"num_competitive\": 24, \"pct_trips_competitive\": 1.0, \"bus_difference_spread\": 15.0, \"route_group\": \"short\", \"max_trip_hrs\": 1.0, \"max_trip_route_group\": 1.0, \"below_cutoff\": 21, \"pct_below_cutoff\": 0.875, \"name\": \"Tulare County Area Transit\", \"caltrans_district\": \"06 - Fresno\", \"drmt_organization_name\": null, \"route_name\": \"Visalia To Dinuba\", \"cutoff2\": 20, \"cutoff\": 0}, {\"calitp_itp_id\": 346, \"trip_key\": 4069166921862369364, \"trip_id\": \"t_500046_b_17398_tn_0\", \"shape_id\": \"p_499951\", \"route_id\": \"12183\", \"service_hours\": 0.82, \"trip_first_departure_ts\": 58500, \"trip_last_arrival_ts\": 61440, \"departure_hour\": 16, \"time_of_day\": \"Midday\", \"p25\": 0.83, \"p50\": 0.83, \"p75\": 0.9225000000000001, \"p50_trip\": 0, \"fastest_trip\": 0, \"car_duration_hours\": 0.62, \"competitive_route\": 1, \"bus_multiplier\": 1.32, \"bus_difference\": 12.0, \"num_trips\": 24, \"num_competitive\": 24, \"pct_trips_competitive\": 1.0, \"bus_difference_spread\": 15.0, \"route_group\": \"short\", \"max_trip_hrs\": 1.0, \"max_trip_route_group\": 1.0, \"below_cutoff\": 21, \"pct_below_cutoff\": 0.875, \"name\": \"Tulare County Area Transit\", \"caltrans_district\": \"06 - Fresno\", \"drmt_organization_name\": null, \"route_name\": \"Visalia To Dinuba\", \"cutoff2\": 20, \"cutoff\": 0}, {\"calitp_itp_id\": 346, \"trip_key\": 7126182278466399455, \"trip_id\": \"t_500012_b_17398_tn_0\", \"shape_id\": \"p_499947\", \"route_id\": \"12183\", \"service_hours\": 0.83, \"trip_first_departure_ts\": 33300, \"trip_last_arrival_ts\": 36300, \"departure_hour\": 9, \"time_of_day\": \"AM Peak\", \"p25\": 0.83, \"p50\": 0.83, \"p75\": 0.9225000000000001, \"p50_trip\": 1, \"fastest_trip\": 0, \"car_duration_hours\": 0.62, \"competitive_route\": 1, \"bus_multiplier\": 1.34, \"bus_difference\": 12.6, \"num_trips\": 24, \"num_competitive\": 24, \"pct_trips_competitive\": 1.0, \"bus_difference_spread\": 15.0, \"route_group\": \"short\", \"max_trip_hrs\": 1.0, \"max_trip_route_group\": 1.0, \"below_cutoff\": 21, \"pct_below_cutoff\": 0.875, \"name\": \"Tulare County Area Transit\", \"caltrans_district\": \"06 - Fresno\", \"drmt_organization_name\": null, \"route_name\": \"Visalia To Dinuba\", \"cutoff2\": 20, \"cutoff\": 0}, {\"calitp_itp_id\": 346, \"trip_key\": -8253690889989041538, \"trip_id\": \"t_500017_b_17398_tn_0\", \"shape_id\": \"p_499947\", \"route_id\": \"12183\", \"service_hours\": 0.83, \"trip_first_departure_ts\": 58500, \"trip_last_arrival_ts\": 61500, \"departure_hour\": 16, \"time_of_day\": \"Midday\", \"p25\": 0.83, \"p50\": 0.83, \"p75\": 0.9225000000000001, \"p50_trip\": 1, \"fastest_trip\": 0, \"car_duration_hours\": 0.62, \"competitive_route\": 1, \"bus_multiplier\": 1.34, \"bus_difference\": 12.6, \"num_trips\": 24, \"num_competitive\": 24, \"pct_trips_competitive\": 1.0, \"bus_difference_spread\": 15.0, \"route_group\": \"short\", \"max_trip_hrs\": 1.0, \"max_trip_route_group\": 1.0, \"below_cutoff\": 21, \"pct_below_cutoff\": 0.875, \"name\": \"Tulare County Area Transit\", \"caltrans_district\": \"06 - Fresno\", \"drmt_organization_name\": null, \"route_name\": \"Visalia To Dinuba\", \"cutoff2\": 20, \"cutoff\": 0}, {\"calitp_itp_id\": 346, \"trip_key\": -1688340253715771665, \"trip_id\": \"t_500000_b_17398_tn_0\", \"shape_id\": \"p_499941\", \"route_id\": \"12183\", \"service_hours\": 0.83, \"trip_first_departure_ts\": 65700, \"trip_last_arrival_ts\": 68700, \"departure_hour\": 18, \"time_of_day\": \"PM Peak\", \"p25\": 0.83, \"p50\": 0.83, \"p75\": 0.9225000000000001, \"p50_trip\": 1, \"fastest_trip\": 0, \"car_duration_hours\": 0.62, \"competitive_route\": 1, \"bus_multiplier\": 1.34, \"bus_difference\": 12.6, \"num_trips\": 24, \"num_competitive\": 24, \"pct_trips_competitive\": 1.0, \"bus_difference_spread\": 15.0, \"route_group\": \"short\", \"max_trip_hrs\": 1.0, \"max_trip_route_group\": 1.0, \"below_cutoff\": 21, \"pct_below_cutoff\": 0.875, \"name\": \"Tulare County Area Transit\", \"caltrans_district\": \"06 - Fresno\", \"drmt_organization_name\": null, \"route_name\": \"Visalia To Dinuba\", \"cutoff2\": 20, \"cutoff\": 0}, {\"calitp_itp_id\": 346, \"trip_key\": -8360297207936546673, \"trip_id\": \"t_499966_b_17398_tn_0\", \"shape_id\": \"p_499927\", \"route_id\": \"12183\", \"service_hours\": 0.83, \"trip_first_departure_ts\": 65700, \"trip_last_arrival_ts\": 68700, \"departure_hour\": 18, \"time_of_day\": \"PM Peak\", \"p25\": 0.83, \"p50\": 0.83, \"p75\": 0.9225000000000001, \"p50_trip\": 1, \"fastest_trip\": 0, \"car_duration_hours\": 0.62, \"competitive_route\": 1, \"bus_multiplier\": 1.34, \"bus_difference\": 12.6, \"num_trips\": 24, \"num_competitive\": 24, \"pct_trips_competitive\": 1.0, \"bus_difference_spread\": 15.0, \"route_group\": \"short\", \"max_trip_hrs\": 1.0, \"max_trip_route_group\": 1.0, \"below_cutoff\": 21, \"pct_below_cutoff\": 0.875, \"name\": \"Tulare County Area Transit\", \"caltrans_district\": \"06 - Fresno\", \"drmt_organization_name\": null, \"route_name\": \"Visalia To Dinuba\", \"cutoff2\": 20, \"cutoff\": 0}, {\"calitp_itp_id\": 346, \"trip_key\": 7339743680709412027, \"trip_id\": \"t_500015_b_17398_tn_0\", \"shape_id\": \"p_499947\", \"route_id\": \"12183\", \"service_hours\": 0.83, \"trip_first_departure_ts\": 51300, \"trip_last_arrival_ts\": 54300, \"departure_hour\": 14, \"time_of_day\": \"Midday\", \"p25\": 0.83, \"p50\": 0.83, \"p75\": 0.9225000000000001, \"p50_trip\": 1, \"fastest_trip\": 0, \"car_duration_hours\": 0.62, \"competitive_route\": 1, \"bus_multiplier\": 1.34, \"bus_difference\": 12.6, \"num_trips\": 24, \"num_competitive\": 24, \"pct_trips_competitive\": 1.0, \"bus_difference_spread\": 15.0, \"route_group\": \"short\", \"max_trip_hrs\": 1.0, \"max_trip_route_group\": 1.0, \"below_cutoff\": 21, \"pct_below_cutoff\": 0.875, \"name\": \"Tulare County Area Transit\", \"caltrans_district\": \"06 - Fresno\", \"drmt_organization_name\": null, \"route_name\": \"Visalia To Dinuba\", \"cutoff2\": 20, \"cutoff\": 0}, {\"calitp_itp_id\": 346, \"trip_key\": -5946554786179607007, \"trip_id\": \"t_500047_b_17398_tn_0\", \"shape_id\": \"p_499951\", \"route_id\": \"12183\", \"service_hours\": 0.83, \"trip_first_departure_ts\": 40500, \"trip_last_arrival_ts\": 43500, \"departure_hour\": 11, \"time_of_day\": \"Midday\", \"p25\": 0.83, \"p50\": 0.83, \"p75\": 0.9225000000000001, \"p50_trip\": 1, \"fastest_trip\": 0, \"car_duration_hours\": 0.62, \"competitive_route\": 1, \"bus_multiplier\": 1.34, \"bus_difference\": 12.6, \"num_trips\": 24, \"num_competitive\": 24, \"pct_trips_competitive\": 1.0, \"bus_difference_spread\": 15.0, \"route_group\": \"short\", \"max_trip_hrs\": 1.0, \"max_trip_route_group\": 1.0, \"below_cutoff\": 21, \"pct_below_cutoff\": 0.875, \"name\": \"Tulare County Area Transit\", \"caltrans_district\": \"06 - Fresno\", \"drmt_organization_name\": null, \"route_name\": \"Visalia To Dinuba\", \"cutoff2\": 20, \"cutoff\": 0}, {\"calitp_itp_id\": 346, \"trip_key\": 7490957518271247602, \"trip_id\": \"t_500014_b_17398_tn_0\", \"shape_id\": \"p_499947\", \"route_id\": \"12183\", \"service_hours\": 0.83, \"trip_first_departure_ts\": 40500, \"trip_last_arrival_ts\": 43500, \"departure_hour\": 11, \"time_of_day\": \"Midday\", \"p25\": 0.83, \"p50\": 0.83, \"p75\": 0.9225000000000001, \"p50_trip\": 1, \"fastest_trip\": 0, \"car_duration_hours\": 0.62, \"competitive_route\": 1, \"bus_multiplier\": 1.34, \"bus_difference\": 12.6, \"num_trips\": 24, \"num_competitive\": 24, \"pct_trips_competitive\": 1.0, \"bus_difference_spread\": 15.0, \"route_group\": \"short\", \"max_trip_hrs\": 1.0, \"max_trip_route_group\": 1.0, \"below_cutoff\": 21, \"pct_below_cutoff\": 0.875, \"name\": \"Tulare County Area Transit\", \"caltrans_district\": \"06 - Fresno\", \"drmt_organization_name\": null, \"route_name\": \"Visalia To Dinuba\", \"cutoff2\": 20, \"cutoff\": 0}, {\"calitp_itp_id\": 346, \"trip_key\": -5030189339351989280, \"trip_id\": \"t_500048_b_17398_tn_0\", \"shape_id\": \"p_499951\", \"route_id\": \"12183\", \"service_hours\": 0.83, \"trip_first_departure_ts\": 26100, \"trip_last_arrival_ts\": 29100, \"departure_hour\": 7, \"time_of_day\": \"AM Peak\", \"p25\": 0.83, \"p50\": 0.83, \"p75\": 0.9225000000000001, \"p50_trip\": 1, \"fastest_trip\": 0, \"car_duration_hours\": 0.62, \"competitive_route\": 1, \"bus_multiplier\": 1.34, \"bus_difference\": 12.6, \"num_trips\": 24, \"num_competitive\": 24, \"pct_trips_competitive\": 1.0, \"bus_difference_spread\": 15.0, \"route_group\": \"short\", \"max_trip_hrs\": 1.0, \"max_trip_route_group\": 1.0, \"below_cutoff\": 21, \"pct_below_cutoff\": 0.875, \"name\": \"Tulare County Area Transit\", \"caltrans_district\": \"06 - Fresno\", \"drmt_organization_name\": null, \"route_name\": \"Visalia To Dinuba\", \"cutoff2\": 20, \"cutoff\": 0}, {\"calitp_itp_id\": 346, \"trip_key\": 4843069353299716595, \"trip_id\": \"t_500010_b_17398_tn_0\", \"shape_id\": \"p_499947\", \"route_id\": \"12183\", \"service_hours\": 0.83, \"trip_first_departure_ts\": 22500, \"trip_last_arrival_ts\": 25500, \"departure_hour\": 6, \"time_of_day\": \"Owl Service\", \"p25\": 0.83, \"p50\": 0.83, \"p75\": 0.9225000000000001, \"p50_trip\": 1, \"fastest_trip\": 0, \"car_duration_hours\": 0.62, \"competitive_route\": 1, \"bus_multiplier\": 1.34, \"bus_difference\": 12.6, \"num_trips\": 24, \"num_competitive\": 24, \"pct_trips_competitive\": 1.0, \"bus_difference_spread\": 15.0, \"route_group\": \"short\", \"max_trip_hrs\": 1.0, \"max_trip_route_group\": 1.0, \"below_cutoff\": 21, \"pct_below_cutoff\": 0.875, \"name\": \"Tulare County Area Transit\", \"caltrans_district\": \"06 - Fresno\", \"drmt_organization_name\": null, \"route_name\": \"Visalia To Dinuba\", \"cutoff2\": 20, \"cutoff\": 0}, {\"calitp_itp_id\": 346, \"trip_key\": 4088920039853690522, \"trip_id\": \"t_500011_b_17398_tn_0\", \"shape_id\": \"p_499947\", \"route_id\": \"12183\", \"service_hours\": 0.83, \"trip_first_departure_ts\": 29700, \"trip_last_arrival_ts\": 32700, \"departure_hour\": 8, \"time_of_day\": \"AM Peak\", \"p25\": 0.83, \"p50\": 0.83, \"p75\": 0.9225000000000001, \"p50_trip\": 1, \"fastest_trip\": 0, \"car_duration_hours\": 0.62, \"competitive_route\": 1, \"bus_multiplier\": 1.34, \"bus_difference\": 12.6, \"num_trips\": 24, \"num_competitive\": 24, \"pct_trips_competitive\": 1.0, \"bus_difference_spread\": 15.0, \"route_group\": \"short\", \"max_trip_hrs\": 1.0, \"max_trip_route_group\": 1.0, \"below_cutoff\": 21, \"pct_below_cutoff\": 0.875, \"name\": \"Tulare County Area Transit\", \"caltrans_district\": \"06 - Fresno\", \"drmt_organization_name\": null, \"route_name\": \"Visalia To Dinuba\", \"cutoff2\": 20, \"cutoff\": 0}, {\"calitp_itp_id\": 346, \"trip_key\": -3862313462469032169, \"trip_id\": \"t_500013_b_17398_tn_0\", \"shape_id\": \"p_499947\", \"route_id\": \"12183\", \"service_hours\": 0.83, \"trip_first_departure_ts\": 36900, \"trip_last_arrival_ts\": 39900, \"departure_hour\": 10, \"time_of_day\": \"Midday\", \"p25\": 0.83, \"p50\": 0.83, \"p75\": 0.9225000000000001, \"p50_trip\": 1, \"fastest_trip\": 0, \"car_duration_hours\": 0.62, \"competitive_route\": 1, \"bus_multiplier\": 1.34, \"bus_difference\": 12.6, \"num_trips\": 24, \"num_competitive\": 24, \"pct_trips_competitive\": 1.0, \"bus_difference_spread\": 15.0, \"route_group\": \"short\", \"max_trip_hrs\": 1.0, \"max_trip_route_group\": 1.0, \"below_cutoff\": 21, \"pct_below_cutoff\": 0.875, \"name\": \"Tulare County Area Transit\", \"caltrans_district\": \"06 - Fresno\", \"drmt_organization_name\": null, \"route_name\": \"Visalia To Dinuba\", \"cutoff2\": 20, \"cutoff\": 0}, {\"calitp_itp_id\": 346, \"trip_key\": 5547098070139653316, \"trip_id\": \"t_500004_b_17398_tn_0\", \"shape_id\": \"p_499944\", \"route_id\": \"12183\", \"service_hours\": 0.9, \"trip_first_departure_ts\": 29700, \"trip_last_arrival_ts\": 32940, \"departure_hour\": 8, \"time_of_day\": \"AM Peak\", \"p25\": 0.83, \"p50\": 0.83, \"p75\": 0.9225000000000001, \"p50_trip\": 0, \"fastest_trip\": 0, \"car_duration_hours\": 0.62, \"competitive_route\": 1, \"bus_multiplier\": 1.45, \"bus_difference\": 16.8, \"num_trips\": 24, \"num_competitive\": 24, \"pct_trips_competitive\": 1.0, \"bus_difference_spread\": 15.0, \"route_group\": \"short\", \"max_trip_hrs\": 1.0, \"max_trip_route_group\": 1.0, \"below_cutoff\": 21, \"pct_below_cutoff\": 0.875, \"name\": \"Tulare County Area Transit\", \"caltrans_district\": \"06 - Fresno\", \"drmt_organization_name\": null, \"route_name\": \"Visalia To Dinuba\", \"cutoff2\": 20, \"cutoff\": 0}, {\"calitp_itp_id\": 346, \"trip_key\": -3391349520340919918, \"trip_id\": \"t_500074_b_17398_tn_0\", \"shape_id\": \"p_499961\", \"route_id\": \"12183\", \"service_hours\": 0.92, \"trip_first_departure_ts\": 62100, \"trip_last_arrival_ts\": 65400, \"departure_hour\": 17, \"time_of_day\": \"PM Peak\", \"p25\": 0.83, \"p50\": 0.83, \"p75\": 0.9225000000000001, \"p50_trip\": 0, \"fastest_trip\": 0, \"car_duration_hours\": 0.62, \"competitive_route\": 1, \"bus_multiplier\": 1.48, \"bus_difference\": 18.0, \"num_trips\": 24, \"num_competitive\": 24, \"pct_trips_competitive\": 1.0, \"bus_difference_spread\": 15.0, \"route_group\": \"short\", \"max_trip_hrs\": 1.0, \"max_trip_route_group\": 1.0, \"below_cutoff\": 21, \"pct_below_cutoff\": 0.875, \"name\": \"Tulare County Area Transit\", \"caltrans_district\": \"06 - Fresno\", \"drmt_organization_name\": null, \"route_name\": \"Visalia To Dinuba\", \"cutoff2\": 20, \"cutoff\": 0}, {\"calitp_itp_id\": 346, \"trip_key\": -422197922241008592, \"trip_id\": \"t_500001_b_17398_tn_0\", \"shape_id\": \"p_499942\", \"route_id\": \"12183\", \"service_hours\": 0.93, \"trip_first_departure_ts\": 47100, \"trip_last_arrival_ts\": 50460, \"departure_hour\": 13, \"time_of_day\": \"Midday\", \"p25\": 0.83, \"p50\": 0.83, \"p75\": 0.9225000000000001, \"p50_trip\": 0, \"fastest_trip\": 0, \"car_duration_hours\": 0.62, \"competitive_route\": 1, \"bus_multiplier\": 1.5, \"bus_difference\": 18.6, \"num_trips\": 24, \"num_competitive\": 24, \"pct_trips_competitive\": 1.0, \"bus_difference_spread\": 15.0, \"route_group\": \"short\", \"max_trip_hrs\": 1.0, \"max_trip_route_group\": 1.0, \"below_cutoff\": 21, \"pct_below_cutoff\": 0.875, \"name\": \"Tulare County Area Transit\", \"caltrans_district\": \"06 - Fresno\", \"drmt_organization_name\": null, \"route_name\": \"Visalia To Dinuba\", \"cutoff2\": 20, \"cutoff\": 0}, {\"calitp_itp_id\": 346, \"trip_key\": -6983556126863293573, \"trip_id\": \"t_500005_b_17398_tn_0\", \"shape_id\": \"p_499944\", \"route_id\": \"12183\", \"service_hours\": 0.93, \"trip_first_departure_ts\": 36900, \"trip_last_arrival_ts\": 40260, \"departure_hour\": 10, \"time_of_day\": \"Midday\", \"p25\": 0.83, \"p50\": 0.83, \"p75\": 0.9225000000000001, \"p50_trip\": 0, \"fastest_trip\": 0, \"car_duration_hours\": 0.62, \"competitive_route\": 1, \"bus_multiplier\": 1.5, \"bus_difference\": 18.6, \"num_trips\": 24, \"num_competitive\": 24, \"pct_trips_competitive\": 1.0, \"bus_difference_spread\": 15.0, \"route_group\": \"short\", \"max_trip_hrs\": 1.0, \"max_trip_route_group\": 1.0, \"below_cutoff\": 21, \"pct_below_cutoff\": 0.875, \"name\": \"Tulare County Area Transit\", \"caltrans_district\": \"06 - Fresno\", \"drmt_organization_name\": null, \"route_name\": \"Visalia To Dinuba\", \"cutoff2\": 20, \"cutoff\": 0}, {\"calitp_itp_id\": 346, \"trip_key\": 3839426773463782588, \"trip_id\": \"t_500002_b_17398_tn_0\", \"shape_id\": \"p_499942\", \"route_id\": \"12183\", \"service_hours\": 0.95, \"trip_first_departure_ts\": 54900, \"trip_last_arrival_ts\": 58320, \"departure_hour\": 15, \"time_of_day\": \"Midday\", \"p25\": 0.83, \"p50\": 0.83, \"p75\": 0.9225000000000001, \"p50_trip\": 0, \"fastest_trip\": 0, \"car_duration_hours\": 0.62, \"competitive_route\": 1, \"bus_multiplier\": 1.53, \"bus_difference\": 19.8, \"num_trips\": 24, \"num_competitive\": 24, \"pct_trips_competitive\": 1.0, \"bus_difference_spread\": 15.0, \"route_group\": \"short\", \"max_trip_hrs\": 1.0, \"max_trip_route_group\": 1.0, \"below_cutoff\": 21, \"pct_below_cutoff\": 0.875, \"name\": \"Tulare County Area Transit\", \"caltrans_district\": \"06 - Fresno\", \"drmt_organization_name\": null, \"route_name\": \"Visalia To Dinuba\", \"cutoff2\": 20, \"cutoff\": 0}, {\"calitp_itp_id\": 346, \"trip_key\": 5708886212424041482, \"trip_id\": \"t_499994_b_17398_tn_0\", \"shape_id\": \"p_499938\", \"route_id\": \"12183\", \"service_hours\": 0.98, \"trip_first_departure_ts\": 33000, \"trip_last_arrival_ts\": 36540, \"departure_hour\": 9, \"time_of_day\": \"AM Peak\", \"p25\": 0.83, \"p50\": 0.83, \"p75\": 0.9225000000000001, \"p50_trip\": 0, \"fastest_trip\": 0, \"car_duration_hours\": 0.62, \"competitive_route\": 1, \"bus_multiplier\": 1.58, \"bus_difference\": 21.6, \"num_trips\": 24, \"num_competitive\": 24, \"pct_trips_competitive\": 1.0, \"bus_difference_spread\": 15.0, \"route_group\": \"short\", \"max_trip_hrs\": 1.0, \"max_trip_route_group\": 1.0, \"below_cutoff\": 21, \"pct_below_cutoff\": 0.875, \"name\": \"Tulare County Area Transit\", \"caltrans_district\": \"06 - Fresno\", \"drmt_organization_name\": null, \"route_name\": \"Visalia To Dinuba\", \"cutoff2\": 20, \"cutoff\": 0}, {\"calitp_itp_id\": 346, \"trip_key\": 8097126179348339927, \"trip_id\": \"t_499995_b_17398_tn_0\", \"shape_id\": \"p_499938\", \"route_id\": \"12183\", \"service_hours\": 0.98, \"trip_first_departure_ts\": 51000, \"trip_last_arrival_ts\": 54540, \"departure_hour\": 14, \"time_of_day\": \"Midday\", \"p25\": 0.83, \"p50\": 0.83, \"p75\": 0.9225000000000001, \"p50_trip\": 0, \"fastest_trip\": 0, \"car_duration_hours\": 0.62, \"competitive_route\": 1, \"bus_multiplier\": 1.58, \"bus_difference\": 21.6, \"num_trips\": 24, \"num_competitive\": 24, \"pct_trips_competitive\": 1.0, \"bus_difference_spread\": 15.0, \"route_group\": \"short\", \"max_trip_hrs\": 1.0, \"max_trip_route_group\": 1.0, \"below_cutoff\": 21, \"pct_below_cutoff\": 0.875, \"name\": \"Tulare County Area Transit\", \"caltrans_district\": \"06 - Fresno\", \"drmt_organization_name\": null, \"route_name\": \"Visalia To Dinuba\", \"cutoff2\": 20, \"cutoff\": 0}, {\"calitp_itp_id\": 346, \"trip_key\": 6881832321300861013, \"trip_id\": \"t_500073_b_17398_tn_0\", \"shape_id\": \"p_499960\", \"route_id\": \"12183\", \"service_hours\": 1.0, \"trip_first_departure_ts\": 25800, \"trip_last_arrival_ts\": 29400, \"departure_hour\": 7, \"time_of_day\": \"AM Peak\", \"p25\": 0.83, \"p50\": 0.83, \"p75\": 0.9225000000000001, \"p50_trip\": 0, \"fastest_trip\": 0, \"car_duration_hours\": 0.62, \"competitive_route\": 1, \"bus_multiplier\": 1.61, \"bus_difference\": 22.8, \"num_trips\": 24, \"num_competitive\": 24, \"pct_trips_competitive\": 1.0, \"bus_difference_spread\": 15.0, \"route_group\": \"short\", \"max_trip_hrs\": 1.0, \"max_trip_route_group\": 1.0, \"below_cutoff\": 21, \"pct_below_cutoff\": 0.875, \"name\": \"Tulare County Area Transit\", \"caltrans_district\": \"06 - Fresno\", \"drmt_organization_name\": null, \"route_name\": \"Visalia To Dinuba\", \"cutoff2\": 20, \"cutoff\": 0}]}}, {\"mode\": \"vega-lite\"});\n",
       "</script>"
      ],
      "text/plain": [
       "alt.FacetChart(...)"
      ]
     },
     "metadata": {},
     "output_type": "display_data"
    },
    {
     "data": {
      "text/html": [
       "<h4>Route Stats</h4>"
      ],
      "text/plain": [
       "<IPython.core.display.HTML object>"
      ]
     },
     "metadata": {},
     "output_type": "display_data"
    },
    {
     "data": {
      "text/html": [
       "<style type=\"text/css\">\n",
       "#T_1391c th {\n",
       "  text-align: center;\n",
       "}\n",
       "#T_1391c_row0_col0, #T_1391c_row0_col1, #T_1391c_row1_col0, #T_1391c_row1_col1, #T_1391c_row2_col0, #T_1391c_row2_col1, #T_1391c_row3_col0, #T_1391c_row3_col1 {\n",
       "  text-align: left;\n",
       "}\n",
       "#T_1391c_row0_col2, #T_1391c_row0_col3, #T_1391c_row0_col5, #T_1391c_row1_col2, #T_1391c_row1_col3, #T_1391c_row1_col5, #T_1391c_row2_col2, #T_1391c_row2_col3, #T_1391c_row2_col5, #T_1391c_row3_col2, #T_1391c_row3_col3, #T_1391c_row3_col5 {\n",
       "  text-align: center;\n",
       "}\n",
       "</style>\n",
       "<table id=\"T_1391c\">\n",
       "  <thead>\n",
       "    <tr>\n",
       "      <th id=\"T_1391c_level0_col0\" class=\"col_heading level0 col0\" >Route ID</th>\n",
       "      <th id=\"T_1391c_level0_col1\" class=\"col_heading level0 col1\" >Route Name</th>\n",
       "      <th id=\"T_1391c_level0_col2\" class=\"col_heading level0 col2\" ># trips</th>\n",
       "      <th id=\"T_1391c_level0_col3\" class=\"col_heading level0 col3\" >Daily Avg Freq (trips per hr)</th>\n",
       "      <th id=\"T_1391c_level0_col4\" class=\"col_heading level0 col4\" >25th, 50th, 75th ptile (hrs)</th>\n",
       "      <th id=\"T_1391c_level0_col5\" class=\"col_heading level0 col5\" >PM Peak Avg Freq (trips per hr)</th>\n",
       "    </tr>\n",
       "  </thead>\n",
       "  <tbody>\n",
       "    <tr>\n",
       "      <td id=\"T_1391c_row0_col0\" class=\"data row0 col0\" >12176</td>\n",
       "      <td id=\"T_1391c_row0_col1\" class=\"data row0 col1\" >Porterville To Visalia</td>\n",
       "      <td id=\"T_1391c_row0_col2\" class=\"data row0 col2\" >24</td>\n",
       "      <td id=\"T_1391c_row0_col3\" class=\"data row0 col3\" >1.0</td>\n",
       "      <td id=\"T_1391c_row0_col4\" class=\"data row0 col4\" >1.0, 1.0, 1.0</td>\n",
       "      <td id=\"T_1391c_row0_col5\" class=\"data row0 col5\" >1.33</td>\n",
       "    </tr>\n",
       "    <tr>\n",
       "      <td id=\"T_1391c_row1_col0\" class=\"data row1 col0\" >12183</td>\n",
       "      <td id=\"T_1391c_row1_col1\" class=\"data row1 col1\" >Visalia To Dinuba</td>\n",
       "      <td id=\"T_1391c_row1_col2\" class=\"data row1 col2\" >24</td>\n",
       "      <td id=\"T_1391c_row1_col3\" class=\"data row1 col3\" >1.0</td>\n",
       "      <td id=\"T_1391c_row1_col4\" class=\"data row1 col4\" >0.83, 0.83, 0.92</td>\n",
       "      <td id=\"T_1391c_row1_col5\" class=\"data row1 col5\" >1.33</td>\n",
       "    </tr>\n",
       "    <tr>\n",
       "      <td id=\"T_1391c_row2_col0\" class=\"data row2 col0\" >12181</td>\n",
       "      <td id=\"T_1391c_row2_col1\" class=\"data row2 col1\" >Porterville To Springville Loop</td>\n",
       "      <td id=\"T_1391c_row2_col2\" class=\"data row2 col2\" >4</td>\n",
       "      <td id=\"T_1391c_row2_col3\" class=\"data row2 col3\" >0.17</td>\n",
       "      <td id=\"T_1391c_row2_col4\" class=\"data row2 col4\" >0.48, 0.5, 0.5</td>\n",
       "      <td id=\"T_1391c_row2_col5\" class=\"data row2 col5\" >nan</td>\n",
       "    </tr>\n",
       "    <tr>\n",
       "      <td id=\"T_1391c_row3_col0\" class=\"data row3 col0\" >12182</td>\n",
       "      <td id=\"T_1391c_row3_col1\" class=\"data row3 col1\" >Porterville To Terra Bella Loop</td>\n",
       "      <td id=\"T_1391c_row3_col2\" class=\"data row3 col2\" >4</td>\n",
       "      <td id=\"T_1391c_row3_col3\" class=\"data row3 col3\" >0.17</td>\n",
       "      <td id=\"T_1391c_row3_col4\" class=\"data row3 col4\" >0.4, 0.44, 0.47</td>\n",
       "      <td id=\"T_1391c_row3_col5\" class=\"data row3 col5\" >nan</td>\n",
       "    </tr>\n",
       "  </tbody>\n",
       "</table>\n"
      ],
      "text/plain": [
       "<IPython.core.display.HTML object>"
      ]
     },
     "metadata": {},
     "output_type": "display_data"
    }
   ],
   "source": [
    "# Allow for possibility that operator doesn't have routes that fall into certain route_groups\n",
    "# But, jupyterbook will not like markdown with f-string\n",
    "# separate out route_group and put in each cell, and use try/except + if to display...\n",
    "# but all 3 route groups must be displayed. just add sentence about why no routes were returned at the end\n",
    "route_group = \"short\"\n",
    "try:\n",
    "    display_charts_for_route_group(df, route_group)\n",
    "except:\n",
    "    print(\"No routes meet this criteria.\")"
   ]
  },
  {
   "cell_type": "markdown",
   "id": "c2931b6f-034d-4384-9e14-80b925e3b820",
   "metadata": {
    "papermill": {
     "duration": 0.019548,
     "end_time": "2022-05-12T02:17:40.359476",
     "exception": false,
     "start_time": "2022-05-12T02:17:40.339928",
     "status": "completed"
    },
    "tags": []
   },
   "source": [
    "### Medium Routes (1-1.5 hrs)"
   ]
  },
  {
   "cell_type": "code",
   "execution_count": 15,
   "id": "480edddc-4de0-48c2-ae4c-b0ceef8f28b5",
   "metadata": {
    "execution": {
     "iopub.execute_input": "2022-05-12T02:17:40.402920Z",
     "iopub.status.busy": "2022-05-12T02:17:40.402236Z",
     "iopub.status.idle": "2022-05-12T02:17:40.416179Z",
     "shell.execute_reply": "2022-05-12T02:17:40.415358Z"
    },
    "jupyter": {
     "source_hidden": true
    },
    "papermill": {
     "duration": 0.040145,
     "end_time": "2022-05-12T02:17:40.417981",
     "exception": false,
     "start_time": "2022-05-12T02:17:40.377836",
     "status": "completed"
    },
    "tags": [
     "remove_input"
    ]
   },
   "outputs": [
    {
     "name": "stdout",
     "output_type": "stream",
     "text": [
      "No routes meet this criteria.\n"
     ]
    }
   ],
   "source": [
    "route_group = \"medium\"\n",
    "try:\n",
    "    display_charts_for_route_group(df, route_group)\n",
    "except:\n",
    "    print(\"No routes meet this criteria.\")"
   ]
  },
  {
   "cell_type": "markdown",
   "id": "124b76d0-886c-4d03-92ac-f1bda3cda182",
   "metadata": {
    "papermill": {
     "duration": 0.020957,
     "end_time": "2022-05-12T02:17:40.457682",
     "exception": false,
     "start_time": "2022-05-12T02:17:40.436725",
     "status": "completed"
    },
    "tags": []
   },
   "source": [
    "### Long Routes (> 1.5 hrs)"
   ]
  },
  {
   "cell_type": "code",
   "execution_count": 16,
   "id": "ddc81b19-4c45-4c81-8b7a-5e0f394aa7a3",
   "metadata": {
    "execution": {
     "iopub.execute_input": "2022-05-12T02:17:40.503589Z",
     "iopub.status.busy": "2022-05-12T02:17:40.502955Z",
     "iopub.status.idle": "2022-05-12T02:17:40.739353Z",
     "shell.execute_reply": "2022-05-12T02:17:40.738548Z"
    },
    "jupyter": {
     "source_hidden": true
    },
    "papermill": {
     "duration": 0.265147,
     "end_time": "2022-05-12T02:17:40.741105",
     "exception": false,
     "start_time": "2022-05-12T02:17:40.475958",
     "status": "completed"
    },
    "tags": [
     "remove_input"
    ]
   },
   "outputs": [
    {
     "data": {
      "text/markdown": [
       "<br>These are routes that have **at least 50% of their trips take no more than an additional 40 min** compared to a car (up to 15 routes) are shown.<br>Within each route group, routes are sorted in descending order by % competitive trips and # trips below the additional time cut-off."
      ],
      "text/plain": [
       "<IPython.core.display.Markdown object>"
      ]
     },
     "metadata": {},
     "output_type": "display_data"
    },
    {
     "data": {
      "text/html": [
       "\n",
       "<div id=\"altair-viz-d9c350a05a50458db9300b6940a77cc5\"></div>\n",
       "<script type=\"text/javascript\">\n",
       "  var VEGA_DEBUG = (typeof VEGA_DEBUG == \"undefined\") ? {} : VEGA_DEBUG;\n",
       "  (function(spec, embedOpt){\n",
       "    let outputDiv = document.currentScript.previousElementSibling;\n",
       "    if (outputDiv.id !== \"altair-viz-d9c350a05a50458db9300b6940a77cc5\") {\n",
       "      outputDiv = document.getElementById(\"altair-viz-d9c350a05a50458db9300b6940a77cc5\");\n",
       "    }\n",
       "    const paths = {\n",
       "      \"vega\": \"https://cdn.jsdelivr.net/npm//vega@5?noext\",\n",
       "      \"vega-lib\": \"https://cdn.jsdelivr.net/npm//vega-lib?noext\",\n",
       "      \"vega-lite\": \"https://cdn.jsdelivr.net/npm//vega-lite@4.17.0?noext\",\n",
       "      \"vega-embed\": \"https://cdn.jsdelivr.net/npm//vega-embed@6?noext\",\n",
       "    };\n",
       "\n",
       "    function maybeLoadScript(lib, version) {\n",
       "      var key = `${lib.replace(\"-\", \"\")}_version`;\n",
       "      return (VEGA_DEBUG[key] == version) ?\n",
       "        Promise.resolve(paths[lib]) :\n",
       "        new Promise(function(resolve, reject) {\n",
       "          var s = document.createElement('script');\n",
       "          document.getElementsByTagName(\"head\")[0].appendChild(s);\n",
       "          s.async = true;\n",
       "          s.onload = () => {\n",
       "            VEGA_DEBUG[key] = version;\n",
       "            return resolve(paths[lib]);\n",
       "          };\n",
       "          s.onerror = () => reject(`Error loading script: ${paths[lib]}`);\n",
       "          s.src = paths[lib];\n",
       "        });\n",
       "    }\n",
       "\n",
       "    function showError(err) {\n",
       "      outputDiv.innerHTML = `<div class=\"error\" style=\"color:red;\">${err}</div>`;\n",
       "      throw err;\n",
       "    }\n",
       "\n",
       "    function displayChart(vegaEmbed) {\n",
       "      vegaEmbed(outputDiv, spec, embedOpt)\n",
       "        .catch(err => showError(`Javascript Error: ${err.message}<br>This usually means there's a typo in your chart specification. See the javascript console for the full traceback.`));\n",
       "    }\n",
       "\n",
       "    if(typeof define === \"function\" && define.amd) {\n",
       "      requirejs.config({paths});\n",
       "      require([\"vega-embed\"], displayChart, err => showError(`Error loading script: ${err.message}`));\n",
       "    } else {\n",
       "      maybeLoadScript(\"vega\", \"5\")\n",
       "        .then(() => maybeLoadScript(\"vega-lite\", \"4.17.0\"))\n",
       "        .then(() => maybeLoadScript(\"vega-embed\", \"6\"))\n",
       "        .catch(showError)\n",
       "        .then(() => displayChart(vegaEmbed));\n",
       "    }\n",
       "  })({\"config\": {\"view\": {\"continuousWidth\": 400, \"continuousHeight\": 300, \"stroke\": null}, \"facet\": {\"spacing\": 0}}, \"data\": {\"name\": \"data-d7710d7254646a5fa9f8e192b2e7d3b4\"}, \"facet\": {\"column\": {\"field\": \"route_id\", \"sort\": [\"12187\", \"12185\"], \"title\": \"Route ID\", \"type\": \"nominal\"}}, \"spec\": {\"layer\": [{\"mark\": \"rule\", \"encoding\": {\"color\": {\"value\": \"black\"}, \"y\": {\"field\": \"cutoff\", \"type\": \"quantitative\"}}, \"selection\": {\"selector003\": {\"type\": \"interval\", \"bind\": \"scales\", \"encodings\": [\"x\", \"y\"]}}}, {\"mark\": {\"type\": \"point\", \"opacity\": 0.65, \"size\": 12, \"strokeWidth\": 1.1}, \"encoding\": {\"color\": {\"field\": \"time_of_day\", \"scale\": {\"range\": [\"#136C97\", \"#E16B26\", \"#F6BF16\", \"#00896B\", \"#7790A3\", \"#5B559C\"]}, \"sort\": [\"AM Peak\", \"Midday\", \"PM Peak\", \"Owl Service\"], \"title\": \"Time of Day\", \"type\": \"nominal\"}, \"tooltip\": [{\"field\": \"route_id\", \"type\": \"nominal\"}, {\"field\": \"route_name\", \"type\": \"nominal\"}, {\"field\": \"trip_id\", \"type\": \"nominal\"}, {\"field\": \"service_hours\", \"type\": \"quantitative\"}, {\"field\": \"car_duration_hours\", \"type\": \"quantitative\"}, {\"field\": \"bus_multiplier\", \"type\": \"quantitative\"}, {\"field\": \"bus_difference\", \"type\": \"quantitative\"}, {\"field\": \"num_trips\", \"type\": \"quantitative\"}, {\"field\": \"num_competitive\", \"type\": \"quantitative\"}, {\"field\": \"pct_trips_competitive\", \"type\": \"quantitative\"}, {\"field\": \"p25\", \"type\": \"quantitative\"}, {\"field\": \"p50\", \"type\": \"quantitative\"}, {\"field\": \"p75\", \"type\": \"quantitative\"}], \"x\": {\"axis\": {\"grid\": false, \"labels\": false, \"ticks\": true, \"values\": [0]}, \"field\": \"jitter\", \"scale\": {}, \"title\": null, \"type\": \"quantitative\"}, \"y\": {\"field\": \"bus_multiplier\", \"scale\": {\"domain\": [-0.25, 4.07]}, \"title\": \"Ratio of Bus to Car Travel Time\", \"type\": \"quantitative\"}}, \"transform\": [{\"calculate\": \"sqrt(-2*log(random()))*cos(2*PI*random())\", \"as\": \"jitter\"}], \"width\": 50}, {\"layer\": [{\"mark\": {\"type\": \"point\", \"opacity\": 0.6, \"size\": 20, \"strokeWidth\": 1.3}, \"encoding\": {\"color\": {\"value\": \"#323434\"}, \"y\": {\"field\": \"bus_multiplier\", \"type\": \"quantitative\"}}, \"transform\": [{\"filter\": \"(datum.p50_trip === 1)\"}]}, {\"mark\": {\"type\": \"text\", \"align\": \"center\", \"baseline\": \"middle\"}, \"encoding\": {\"color\": {\"value\": \"black\"}, \"text\": {\"field\": \"pct_trips_competitive\", \"format\": \".0%\", \"type\": \"quantitative\"}, \"tooltip\": [{\"field\": \"route_id\", \"type\": \"nominal\"}, {\"field\": \"route_name\", \"type\": \"nominal\"}, {\"field\": \"trip_id\", \"type\": \"nominal\"}, {\"field\": \"service_hours\", \"type\": \"quantitative\"}, {\"field\": \"car_duration_hours\", \"type\": \"quantitative\"}, {\"field\": \"bus_multiplier\", \"type\": \"quantitative\"}, {\"field\": \"bus_difference\", \"type\": \"quantitative\"}, {\"field\": \"num_trips\", \"type\": \"quantitative\"}, {\"field\": \"num_competitive\", \"type\": \"quantitative\"}, {\"field\": \"pct_trips_competitive\", \"type\": \"quantitative\"}, {\"field\": \"p25\", \"type\": \"quantitative\"}, {\"field\": \"p50\", \"type\": \"quantitative\"}, {\"field\": \"p75\", \"type\": \"quantitative\"}], \"x\": {\"value\": 30}, \"y\": {\"value\": 15}}, \"transform\": [{\"calculate\": \"sqrt(-2*log(random()))*cos(2*PI*random())\", \"as\": \"jitter\"}, {\"filter\": \"(datum.fastest_trip === 1)\"}]}]}]}, \"resolve\": {\"scale\": {\"y\": \"shared\"}}, \"title\": \"Ratio of Bus to Car Travel Time\", \"$schema\": \"https://vega.github.io/schema/vega-lite/v4.17.0.json\", \"datasets\": {\"data-d7710d7254646a5fa9f8e192b2e7d3b4\": [{\"calitp_itp_id\": 346, \"trip_key\": -6231106525838156485, \"trip_id\": \"t_499992_b_17398_tn_0\", \"shape_id\": \"p_499936\", \"route_id\": \"12185\", \"service_hours\": 0.78, \"trip_first_departure_ts\": 23700, \"trip_last_arrival_ts\": 26520, \"departure_hour\": 6, \"time_of_day\": \"Owl Service\", \"p25\": 1.1, \"p50\": 1.165, \"p75\": 1.18, \"p50_trip\": 0, \"fastest_trip\": 1, \"car_duration_hours\": 0.65, \"competitive_route\": 1, \"bus_multiplier\": 1.2, \"bus_difference\": 7.8, \"num_trips\": 20, \"num_competitive\": 17, \"pct_trips_competitive\": 0.85, \"bus_difference_spread\": 44.400000000000006, \"route_group\": \"long\", \"max_trip_hrs\": 1.52, \"max_trip_route_group\": 1.52, \"below_cutoff\": 17, \"pct_below_cutoff\": 0.85, \"name\": \"Tulare County Area Transit\", \"caltrans_district\": \"06 - Fresno\", \"drmt_organization_name\": null, \"route_name\": \"Tulare To Richgrove\", \"cutoff2\": 40, \"cutoff\": 2}, {\"calitp_itp_id\": 346, \"trip_key\": -268204411534660920, \"trip_id\": \"t_500042_b_17398_tn_0\", \"shape_id\": \"p_499950\", \"route_id\": \"12185\", \"service_hours\": 0.83, \"trip_first_departure_ts\": 20700, \"trip_last_arrival_ts\": 23700, \"departure_hour\": 5, \"time_of_day\": \"Owl Service\", \"p25\": 1.1, \"p50\": 1.165, \"p75\": 1.18, \"p50_trip\": 0, \"fastest_trip\": 0, \"car_duration_hours\": 0.65, \"competitive_route\": 1, \"bus_multiplier\": 1.28, \"bus_difference\": 10.8, \"num_trips\": 20, \"num_competitive\": 17, \"pct_trips_competitive\": 0.85, \"bus_difference_spread\": 44.400000000000006, \"route_group\": \"long\", \"max_trip_hrs\": 1.52, \"max_trip_route_group\": 1.52, \"below_cutoff\": 17, \"pct_below_cutoff\": 0.85, \"name\": \"Tulare County Area Transit\", \"caltrans_district\": \"06 - Fresno\", \"drmt_organization_name\": null, \"route_name\": \"Tulare To Richgrove\", \"cutoff2\": 40, \"cutoff\": 2}, {\"calitp_itp_id\": 346, \"trip_key\": -9088647220709889103, \"trip_id\": \"t_499972_b_17398_tn_0\", \"shape_id\": \"p_499928\", \"route_id\": \"12185\", \"service_hours\": 1.1, \"trip_first_departure_ts\": 68880, \"trip_last_arrival_ts\": 72840, \"departure_hour\": 19, \"time_of_day\": \"PM Peak\", \"p25\": 1.1, \"p50\": 1.165, \"p75\": 1.18, \"p50_trip\": 0, \"fastest_trip\": 0, \"car_duration_hours\": 0.65, \"competitive_route\": 1, \"bus_multiplier\": 1.69, \"bus_difference\": 27.0, \"num_trips\": 20, \"num_competitive\": 17, \"pct_trips_competitive\": 0.85, \"bus_difference_spread\": 44.400000000000006, \"route_group\": \"long\", \"max_trip_hrs\": 1.52, \"max_trip_route_group\": 1.52, \"below_cutoff\": 17, \"pct_below_cutoff\": 0.85, \"name\": \"Tulare County Area Transit\", \"caltrans_district\": \"06 - Fresno\", \"drmt_organization_name\": null, \"route_name\": \"Tulare To Richgrove\", \"cutoff2\": 40, \"cutoff\": 2}, {\"calitp_itp_id\": 346, \"trip_key\": 5372852154647898465, \"trip_id\": \"t_499973_b_17398_tn_0\", \"shape_id\": \"p_499928\", \"route_id\": \"12185\", \"service_hours\": 1.1, \"trip_first_departure_ts\": 28380, \"trip_last_arrival_ts\": 32340, \"departure_hour\": 7, \"time_of_day\": \"AM Peak\", \"p25\": 1.1, \"p50\": 1.165, \"p75\": 1.18, \"p50_trip\": 0, \"fastest_trip\": 0, \"car_duration_hours\": 0.65, \"competitive_route\": 1, \"bus_multiplier\": 1.69, \"bus_difference\": 27.0, \"num_trips\": 20, \"num_competitive\": 17, \"pct_trips_competitive\": 0.85, \"bus_difference_spread\": 44.400000000000006, \"route_group\": \"long\", \"max_trip_hrs\": 1.52, \"max_trip_route_group\": 1.52, \"below_cutoff\": 17, \"pct_below_cutoff\": 0.85, \"name\": \"Tulare County Area Transit\", \"caltrans_district\": \"06 - Fresno\", \"drmt_organization_name\": null, \"route_name\": \"Tulare To Richgrove\", \"cutoff2\": 40, \"cutoff\": 2}, {\"calitp_itp_id\": 346, \"trip_key\": -1721271939036658096, \"trip_id\": \"t_499974_b_17398_tn_0\", \"shape_id\": \"p_499928\", \"route_id\": \"12185\", \"service_hours\": 1.1, \"trip_first_departure_ts\": 30900, \"trip_last_arrival_ts\": 34860, \"departure_hour\": 8, \"time_of_day\": \"AM Peak\", \"p25\": 1.1, \"p50\": 1.165, \"p75\": 1.18, \"p50_trip\": 0, \"fastest_trip\": 0, \"car_duration_hours\": 0.65, \"competitive_route\": 1, \"bus_multiplier\": 1.69, \"bus_difference\": 27.0, \"num_trips\": 20, \"num_competitive\": 17, \"pct_trips_competitive\": 0.85, \"bus_difference_spread\": 44.400000000000006, \"route_group\": \"long\", \"max_trip_hrs\": 1.52, \"max_trip_route_group\": 1.52, \"below_cutoff\": 17, \"pct_below_cutoff\": 0.85, \"name\": \"Tulare County Area Transit\", \"caltrans_district\": \"06 - Fresno\", \"drmt_organization_name\": null, \"route_name\": \"Tulare To Richgrove\", \"cutoff2\": 40, \"cutoff\": 2}, {\"calitp_itp_id\": 346, \"trip_key\": 6356511705974902498, \"trip_id\": \"t_499975_b_17398_tn_0\", \"shape_id\": \"p_499928\", \"route_id\": \"12185\", \"service_hours\": 1.1, \"trip_first_departure_ts\": 36720, \"trip_last_arrival_ts\": 40680, \"departure_hour\": 10, \"time_of_day\": \"Midday\", \"p25\": 1.1, \"p50\": 1.165, \"p75\": 1.18, \"p50_trip\": 0, \"fastest_trip\": 0, \"car_duration_hours\": 0.65, \"competitive_route\": 1, \"bus_multiplier\": 1.69, \"bus_difference\": 27.0, \"num_trips\": 20, \"num_competitive\": 17, \"pct_trips_competitive\": 0.85, \"bus_difference_spread\": 44.400000000000006, \"route_group\": \"long\", \"max_trip_hrs\": 1.52, \"max_trip_route_group\": 1.52, \"below_cutoff\": 17, \"pct_below_cutoff\": 0.85, \"name\": \"Tulare County Area Transit\", \"caltrans_district\": \"06 - Fresno\", \"drmt_organization_name\": null, \"route_name\": \"Tulare To Richgrove\", \"cutoff2\": 40, \"cutoff\": 2}, {\"calitp_itp_id\": 346, \"trip_key\": -8376432585681060628, \"trip_id\": \"t_499971_b_17398_tn_0\", \"shape_id\": \"p_499928\", \"route_id\": \"12185\", \"service_hours\": 1.1, \"trip_first_departure_ts\": 64860, \"trip_last_arrival_ts\": 68820, \"departure_hour\": 18, \"time_of_day\": \"PM Peak\", \"p25\": 1.1, \"p50\": 1.165, \"p75\": 1.18, \"p50_trip\": 0, \"fastest_trip\": 0, \"car_duration_hours\": 0.65, \"competitive_route\": 1, \"bus_multiplier\": 1.69, \"bus_difference\": 27.0, \"num_trips\": 20, \"num_competitive\": 17, \"pct_trips_competitive\": 0.85, \"bus_difference_spread\": 44.400000000000006, \"route_group\": \"long\", \"max_trip_hrs\": 1.52, \"max_trip_route_group\": 1.52, \"below_cutoff\": 17, \"pct_below_cutoff\": 0.85, \"name\": \"Tulare County Area Transit\", \"caltrans_district\": \"06 - Fresno\", \"drmt_organization_name\": null, \"route_name\": \"Tulare To Richgrove\", \"cutoff2\": 40, \"cutoff\": 2}, {\"calitp_itp_id\": 346, \"trip_key\": -3396834284039892919, \"trip_id\": \"t_499976_b_17398_tn_0\", \"shape_id\": \"p_499928\", \"route_id\": \"12185\", \"service_hours\": 1.1, \"trip_first_departure_ts\": 48360, \"trip_last_arrival_ts\": 52320, \"departure_hour\": 13, \"time_of_day\": \"Midday\", \"p25\": 1.1, \"p50\": 1.165, \"p75\": 1.18, \"p50_trip\": 0, \"fastest_trip\": 0, \"car_duration_hours\": 0.65, \"competitive_route\": 1, \"bus_multiplier\": 1.69, \"bus_difference\": 27.0, \"num_trips\": 20, \"num_competitive\": 17, \"pct_trips_competitive\": 0.85, \"bus_difference_spread\": 44.400000000000006, \"route_group\": \"long\", \"max_trip_hrs\": 1.52, \"max_trip_route_group\": 1.52, \"below_cutoff\": 17, \"pct_below_cutoff\": 0.85, \"name\": \"Tulare County Area Transit\", \"caltrans_district\": \"06 - Fresno\", \"drmt_organization_name\": null, \"route_name\": \"Tulare To Richgrove\", \"cutoff2\": 40, \"cutoff\": 2}, {\"calitp_itp_id\": 346, \"trip_key\": 2751071795873552926, \"trip_id\": \"t_499977_b_17398_tn_0\", \"shape_id\": \"p_499928\", \"route_id\": \"12185\", \"service_hours\": 1.1, \"trip_first_departure_ts\": 56700, \"trip_last_arrival_ts\": 60660, \"departure_hour\": 15, \"time_of_day\": \"Midday\", \"p25\": 1.1, \"p50\": 1.165, \"p75\": 1.18, \"p50_trip\": 0, \"fastest_trip\": 0, \"car_duration_hours\": 0.65, \"competitive_route\": 1, \"bus_multiplier\": 1.69, \"bus_difference\": 27.0, \"num_trips\": 20, \"num_competitive\": 17, \"pct_trips_competitive\": 0.85, \"bus_difference_spread\": 44.400000000000006, \"route_group\": \"long\", \"max_trip_hrs\": 1.52, \"max_trip_route_group\": 1.52, \"below_cutoff\": 17, \"pct_below_cutoff\": 0.85, \"name\": \"Tulare County Area Transit\", \"caltrans_district\": \"06 - Fresno\", \"drmt_organization_name\": null, \"route_name\": \"Tulare To Richgrove\", \"cutoff2\": 40, \"cutoff\": 2}, {\"calitp_itp_id\": 346, \"trip_key\": -4245156280481242420, \"trip_id\": \"t_499991_b_17398_tn_0\", \"shape_id\": \"p_499935\", \"route_id\": \"12185\", \"service_hours\": 1.15, \"trip_first_departure_ts\": 54840, \"trip_last_arrival_ts\": 58980, \"departure_hour\": 15, \"time_of_day\": \"Midday\", \"p25\": 1.1, \"p50\": 1.165, \"p75\": 1.18, \"p50_trip\": 0, \"fastest_trip\": 0, \"car_duration_hours\": 0.65, \"competitive_route\": 1, \"bus_multiplier\": 1.77, \"bus_difference\": 30.0, \"num_trips\": 20, \"num_competitive\": 17, \"pct_trips_competitive\": 0.85, \"bus_difference_spread\": 44.400000000000006, \"route_group\": \"long\", \"max_trip_hrs\": 1.52, \"max_trip_route_group\": 1.52, \"below_cutoff\": 17, \"pct_below_cutoff\": 0.85, \"name\": \"Tulare County Area Transit\", \"caltrans_district\": \"06 - Fresno\", \"drmt_organization_name\": null, \"route_name\": \"Tulare To Richgrove\", \"cutoff2\": 40, \"cutoff\": 2}, {\"calitp_itp_id\": 346, \"trip_key\": -7001544599832442745, \"trip_id\": \"t_500063_b_17398_tn_0\", \"shape_id\": \"p_499954\", \"route_id\": \"12185\", \"service_hours\": 1.18, \"trip_first_departure_ts\": 44280, \"trip_last_arrival_ts\": 48540, \"departure_hour\": 12, \"time_of_day\": \"Midday\", \"p25\": 1.1, \"p50\": 1.165, \"p75\": 1.18, \"p50_trip\": 1, \"fastest_trip\": 0, \"car_duration_hours\": 0.65, \"competitive_route\": 1, \"bus_multiplier\": 1.82, \"bus_difference\": 31.8, \"num_trips\": 20, \"num_competitive\": 17, \"pct_trips_competitive\": 0.85, \"bus_difference_spread\": 44.400000000000006, \"route_group\": \"long\", \"max_trip_hrs\": 1.52, \"max_trip_route_group\": 1.52, \"below_cutoff\": 17, \"pct_below_cutoff\": 0.85, \"name\": \"Tulare County Area Transit\", \"caltrans_district\": \"06 - Fresno\", \"drmt_organization_name\": null, \"route_name\": \"Tulare To Richgrove\", \"cutoff2\": 40, \"cutoff\": 2}, {\"calitp_itp_id\": 346, \"trip_key\": 884156607493867378, \"trip_id\": \"t_500060_b_17398_tn_0\", \"shape_id\": \"p_499954\", \"route_id\": \"12185\", \"service_hours\": 1.18, \"trip_first_departure_ts\": 24300, \"trip_last_arrival_ts\": 28560, \"departure_hour\": 6, \"time_of_day\": \"Owl Service\", \"p25\": 1.1, \"p50\": 1.165, \"p75\": 1.18, \"p50_trip\": 1, \"fastest_trip\": 0, \"car_duration_hours\": 0.65, \"competitive_route\": 1, \"bus_multiplier\": 1.82, \"bus_difference\": 31.8, \"num_trips\": 20, \"num_competitive\": 17, \"pct_trips_competitive\": 0.85, \"bus_difference_spread\": 44.400000000000006, \"route_group\": \"long\", \"max_trip_hrs\": 1.52, \"max_trip_route_group\": 1.52, \"below_cutoff\": 17, \"pct_below_cutoff\": 0.85, \"name\": \"Tulare County Area Transit\", \"caltrans_district\": \"06 - Fresno\", \"drmt_organization_name\": null, \"route_name\": \"Tulare To Richgrove\", \"cutoff2\": 40, \"cutoff\": 2}, {\"calitp_itp_id\": 346, \"trip_key\": 1252710446853905457, \"trip_id\": \"t_500059_b_17398_tn_0\", \"shape_id\": \"p_499954\", \"route_id\": \"12185\", \"service_hours\": 1.18, \"trip_first_departure_ts\": 52620, \"trip_last_arrival_ts\": 56880, \"departure_hour\": 14, \"time_of_day\": \"Midday\", \"p25\": 1.1, \"p50\": 1.165, \"p75\": 1.18, \"p50_trip\": 1, \"fastest_trip\": 0, \"car_duration_hours\": 0.65, \"competitive_route\": 1, \"bus_multiplier\": 1.82, \"bus_difference\": 31.8, \"num_trips\": 20, \"num_competitive\": 17, \"pct_trips_competitive\": 0.85, \"bus_difference_spread\": 44.400000000000006, \"route_group\": \"long\", \"max_trip_hrs\": 1.52, \"max_trip_route_group\": 1.52, \"below_cutoff\": 17, \"pct_below_cutoff\": 0.85, \"name\": \"Tulare County Area Transit\", \"caltrans_district\": \"06 - Fresno\", \"drmt_organization_name\": null, \"route_name\": \"Tulare To Richgrove\", \"cutoff2\": 40, \"cutoff\": 2}, {\"calitp_itp_id\": 346, \"trip_key\": 5252472125846067678, \"trip_id\": \"t_500062_b_17398_tn_0\", \"shape_id\": \"p_499954\", \"route_id\": \"12185\", \"service_hours\": 1.18, \"trip_first_departure_ts\": 60780, \"trip_last_arrival_ts\": 65040, \"departure_hour\": 16, \"time_of_day\": \"Midday\", \"p25\": 1.1, \"p50\": 1.165, \"p75\": 1.18, \"p50_trip\": 1, \"fastest_trip\": 0, \"car_duration_hours\": 0.65, \"competitive_route\": 1, \"bus_multiplier\": 1.82, \"bus_difference\": 31.8, \"num_trips\": 20, \"num_competitive\": 17, \"pct_trips_competitive\": 0.85, \"bus_difference_spread\": 44.400000000000006, \"route_group\": \"long\", \"max_trip_hrs\": 1.52, \"max_trip_route_group\": 1.52, \"below_cutoff\": 17, \"pct_below_cutoff\": 0.85, \"name\": \"Tulare County Area Transit\", \"caltrans_district\": \"06 - Fresno\", \"drmt_organization_name\": null, \"route_name\": \"Tulare To Richgrove\", \"cutoff2\": 40, \"cutoff\": 2}, {\"calitp_itp_id\": 346, \"trip_key\": -2312215827856453063, \"trip_id\": \"t_500065_b_17398_tn_0\", \"shape_id\": \"p_499954\", \"route_id\": \"12185\", \"service_hours\": 1.18, \"trip_first_departure_ts\": 32640, \"trip_last_arrival_ts\": 36900, \"departure_hour\": 9, \"time_of_day\": \"AM Peak\", \"p25\": 1.1, \"p50\": 1.165, \"p75\": 1.18, \"p50_trip\": 1, \"fastest_trip\": 0, \"car_duration_hours\": 0.65, \"competitive_route\": 1, \"bus_multiplier\": 1.82, \"bus_difference\": 31.8, \"num_trips\": 20, \"num_competitive\": 17, \"pct_trips_competitive\": 0.85, \"bus_difference_spread\": 44.400000000000006, \"route_group\": \"long\", \"max_trip_hrs\": 1.52, \"max_trip_route_group\": 1.52, \"below_cutoff\": 17, \"pct_below_cutoff\": 0.85, \"name\": \"Tulare County Area Transit\", \"caltrans_district\": \"06 - Fresno\", \"drmt_organization_name\": null, \"route_name\": \"Tulare To Richgrove\", \"cutoff2\": 40, \"cutoff\": 2}, {\"calitp_itp_id\": 346, \"trip_key\": 4028909976259704930, \"trip_id\": \"t_500064_b_17398_tn_0\", \"shape_id\": \"p_499954\", \"route_id\": \"12185\", \"service_hours\": 1.18, \"trip_first_departure_ts\": 26820, \"trip_last_arrival_ts\": 31080, \"departure_hour\": 7, \"time_of_day\": \"AM Peak\", \"p25\": 1.1, \"p50\": 1.165, \"p75\": 1.18, \"p50_trip\": 1, \"fastest_trip\": 0, \"car_duration_hours\": 0.65, \"competitive_route\": 1, \"bus_multiplier\": 1.82, \"bus_difference\": 31.8, \"num_trips\": 20, \"num_competitive\": 17, \"pct_trips_competitive\": 0.85, \"bus_difference_spread\": 44.400000000000006, \"route_group\": \"long\", \"max_trip_hrs\": 1.52, \"max_trip_route_group\": 1.52, \"below_cutoff\": 17, \"pct_below_cutoff\": 0.85, \"name\": \"Tulare County Area Transit\", \"caltrans_district\": \"06 - Fresno\", \"drmt_organization_name\": null, \"route_name\": \"Tulare To Richgrove\", \"cutoff2\": 40, \"cutoff\": 2}, {\"calitp_itp_id\": 346, \"trip_key\": -3196521619989340594, \"trip_id\": \"t_500061_b_17398_tn_0\", \"shape_id\": \"p_499954\", \"route_id\": \"12185\", \"service_hours\": 1.18, \"trip_first_departure_ts\": 64800, \"trip_last_arrival_ts\": 69060, \"departure_hour\": 18, \"time_of_day\": \"PM Peak\", \"p25\": 1.1, \"p50\": 1.165, \"p75\": 1.18, \"p50_trip\": 1, \"fastest_trip\": 0, \"car_duration_hours\": 0.65, \"competitive_route\": 1, \"bus_multiplier\": 1.82, \"bus_difference\": 31.8, \"num_trips\": 20, \"num_competitive\": 17, \"pct_trips_competitive\": 0.85, \"bus_difference_spread\": 44.400000000000006, \"route_group\": \"long\", \"max_trip_hrs\": 1.52, \"max_trip_route_group\": 1.52, \"below_cutoff\": 17, \"pct_below_cutoff\": 0.85, \"name\": \"Tulare County Area Transit\", \"caltrans_district\": \"06 - Fresno\", \"drmt_organization_name\": null, \"route_name\": \"Tulare To Richgrove\", \"cutoff2\": 40, \"cutoff\": 2}, {\"calitp_itp_id\": 346, \"trip_key\": -8317580468412163354, \"trip_id\": \"t_500071_b_17398_tn_0\", \"shape_id\": \"p_499959\", \"route_id\": \"12185\", \"service_hours\": 1.43, \"trip_first_departure_ts\": 43920, \"trip_last_arrival_ts\": 49080, \"departure_hour\": 12, \"time_of_day\": \"Midday\", \"p25\": 1.1, \"p50\": 1.165, \"p75\": 1.18, \"p50_trip\": 0, \"fastest_trip\": 0, \"car_duration_hours\": 0.65, \"competitive_route\": 1, \"bus_multiplier\": 2.2, \"bus_difference\": 46.8, \"num_trips\": 20, \"num_competitive\": 17, \"pct_trips_competitive\": 0.85, \"bus_difference_spread\": 44.400000000000006, \"route_group\": \"long\", \"max_trip_hrs\": 1.52, \"max_trip_route_group\": 1.52, \"below_cutoff\": 17, \"pct_below_cutoff\": 0.85, \"name\": \"Tulare County Area Transit\", \"caltrans_district\": \"06 - Fresno\", \"drmt_organization_name\": null, \"route_name\": \"Tulare To Richgrove\", \"cutoff2\": 40, \"cutoff\": 2}, {\"calitp_itp_id\": 346, \"trip_key\": 4287662030404221229, \"trip_id\": \"t_499978_b_17398_tn_0\", \"shape_id\": \"p_499929\", \"route_id\": \"12185\", \"service_hours\": 1.52, \"trip_first_departure_ts\": 38460, \"trip_last_arrival_ts\": 43920, \"departure_hour\": 10, \"time_of_day\": \"Midday\", \"p25\": 1.1, \"p50\": 1.165, \"p75\": 1.18, \"p50_trip\": 0, \"fastest_trip\": 0, \"car_duration_hours\": 0.65, \"competitive_route\": 1, \"bus_multiplier\": 2.34, \"bus_difference\": 52.2, \"num_trips\": 20, \"num_competitive\": 17, \"pct_trips_competitive\": 0.85, \"bus_difference_spread\": 44.400000000000006, \"route_group\": \"long\", \"max_trip_hrs\": 1.52, \"max_trip_route_group\": 1.52, \"below_cutoff\": 17, \"pct_below_cutoff\": 0.85, \"name\": \"Tulare County Area Transit\", \"caltrans_district\": \"06 - Fresno\", \"drmt_organization_name\": null, \"route_name\": \"Tulare To Richgrove\", \"cutoff2\": 40, \"cutoff\": 2}, {\"calitp_itp_id\": 346, \"trip_key\": -8834810455370013830, \"trip_id\": \"t_499979_b_17398_tn_0\", \"shape_id\": \"p_499929\", \"route_id\": \"12185\", \"service_hours\": 1.52, \"trip_first_departure_ts\": 49380, \"trip_last_arrival_ts\": 54840, \"departure_hour\": 13, \"time_of_day\": \"Midday\", \"p25\": 1.1, \"p50\": 1.165, \"p75\": 1.18, \"p50_trip\": 0, \"fastest_trip\": 0, \"car_duration_hours\": 0.65, \"competitive_route\": 1, \"bus_multiplier\": 2.34, \"bus_difference\": 52.2, \"num_trips\": 20, \"num_competitive\": 17, \"pct_trips_competitive\": 0.85, \"bus_difference_spread\": 44.400000000000006, \"route_group\": \"long\", \"max_trip_hrs\": 1.52, \"max_trip_route_group\": 1.52, \"below_cutoff\": 17, \"pct_below_cutoff\": 0.85, \"name\": \"Tulare County Area Transit\", \"caltrans_district\": \"06 - Fresno\", \"drmt_organization_name\": null, \"route_name\": \"Tulare To Richgrove\", \"cutoff2\": 40, \"cutoff\": 2}, {\"calitp_itp_id\": 346, \"trip_key\": -8432830587981262233, \"trip_id\": \"t_500032_b_17398_tn_0\", \"shape_id\": \"p_499948\", \"route_id\": \"12187\", \"service_hours\": 0.5, \"trip_first_departure_ts\": 64800, \"trip_last_arrival_ts\": 66600, \"departure_hour\": 18, \"time_of_day\": \"PM Peak\", \"p25\": 0.5, \"p50\": 0.5, \"p75\": 0.5, \"p50_trip\": 1, \"fastest_trip\": 1, \"car_duration_hours\": 0.43, \"competitive_route\": 1, \"bus_multiplier\": 1.16, \"bus_difference\": 4.2, \"num_trips\": 35, \"num_competitive\": 31, \"pct_trips_competitive\": 0.886, \"bus_difference_spread\": 75.0, \"route_group\": \"long\", \"max_trip_hrs\": 1.75, \"max_trip_route_group\": 1.75, \"below_cutoff\": 31, \"pct_below_cutoff\": 0.8857142857142857, \"name\": \"Tulare County Area Transit\", \"caltrans_district\": \"06 - Fresno\", \"drmt_organization_name\": null, \"route_name\": \"Visalia To Woodlake (And Sometimes To Three Rivers)\", \"cutoff2\": 40, \"cutoff\": 2}, {\"calitp_itp_id\": 346, \"trip_key\": 2105157296740736383, \"trip_id\": \"t_500018_b_17398_tn_0\", \"shape_id\": \"p_499948\", \"route_id\": \"12187\", \"service_hours\": 0.5, \"trip_first_departure_ts\": 25500, \"trip_last_arrival_ts\": 27300, \"departure_hour\": 7, \"time_of_day\": \"AM Peak\", \"p25\": 0.5, \"p50\": 0.5, \"p75\": 0.5, \"p50_trip\": 1, \"fastest_trip\": 0, \"car_duration_hours\": 0.43, \"competitive_route\": 1, \"bus_multiplier\": 1.16, \"bus_difference\": 4.2, \"num_trips\": 35, \"num_competitive\": 31, \"pct_trips_competitive\": 0.886, \"bus_difference_spread\": 75.0, \"route_group\": \"long\", \"max_trip_hrs\": 1.75, \"max_trip_route_group\": 1.75, \"below_cutoff\": 31, \"pct_below_cutoff\": 0.8857142857142857, \"name\": \"Tulare County Area Transit\", \"caltrans_district\": \"06 - Fresno\", \"drmt_organization_name\": null, \"route_name\": \"Visalia To Woodlake (And Sometimes To Three Rivers)\", \"cutoff2\": 40, \"cutoff\": 2}, {\"calitp_itp_id\": 346, \"trip_key\": 1177901736673964356, \"trip_id\": \"t_500026_b_17398_tn_0\", \"shape_id\": \"p_499948\", \"route_id\": \"12187\", \"service_hours\": 0.5, \"trip_first_departure_ts\": 29700, \"trip_last_arrival_ts\": 31500, \"departure_hour\": 8, \"time_of_day\": \"AM Peak\", \"p25\": 0.5, \"p50\": 0.5, \"p75\": 0.5, \"p50_trip\": 1, \"fastest_trip\": 0, \"car_duration_hours\": 0.43, \"competitive_route\": 1, \"bus_multiplier\": 1.16, \"bus_difference\": 4.2, \"num_trips\": 35, \"num_competitive\": 31, \"pct_trips_competitive\": 0.886, \"bus_difference_spread\": 75.0, \"route_group\": \"long\", \"max_trip_hrs\": 1.75, \"max_trip_route_group\": 1.75, \"below_cutoff\": 31, \"pct_below_cutoff\": 0.8857142857142857, \"name\": \"Tulare County Area Transit\", \"caltrans_district\": \"06 - Fresno\", \"drmt_organization_name\": null, \"route_name\": \"Visalia To Woodlake (And Sometimes To Three Rivers)\", \"cutoff2\": 40, \"cutoff\": 2}, {\"calitp_itp_id\": 346, \"trip_key\": -7528436072757165176, \"trip_id\": \"t_500101_b_17398_tn_0\", \"shape_id\": \"p_499963\", \"route_id\": \"12187\", \"service_hours\": 0.5, \"trip_first_departure_ts\": 41400, \"trip_last_arrival_ts\": 43200, \"departure_hour\": 11, \"time_of_day\": \"Midday\", \"p25\": 0.5, \"p50\": 0.5, \"p75\": 0.5, \"p50_trip\": 1, \"fastest_trip\": 0, \"car_duration_hours\": 0.43, \"competitive_route\": 1, \"bus_multiplier\": 1.16, \"bus_difference\": 4.2, \"num_trips\": 35, \"num_competitive\": 31, \"pct_trips_competitive\": 0.886, \"bus_difference_spread\": 75.0, \"route_group\": \"long\", \"max_trip_hrs\": 1.75, \"max_trip_route_group\": 1.75, \"below_cutoff\": 31, \"pct_below_cutoff\": 0.8857142857142857, \"name\": \"Tulare County Area Transit\", \"caltrans_district\": \"06 - Fresno\", \"drmt_organization_name\": null, \"route_name\": \"Visalia To Woodlake (And Sometimes To Three Rivers)\", \"cutoff2\": 40, \"cutoff\": 2}, {\"calitp_itp_id\": 346, \"trip_key\": -7942280123417955555, \"trip_id\": \"t_500098_b_17398_tn_0\", \"shape_id\": \"p_499963\", \"route_id\": \"12187\", \"service_hours\": 0.5, \"trip_first_departure_ts\": 29700, \"trip_last_arrival_ts\": 31500, \"departure_hour\": 8, \"time_of_day\": \"AM Peak\", \"p25\": 0.5, \"p50\": 0.5, \"p75\": 0.5, \"p50_trip\": 1, \"fastest_trip\": 0, \"car_duration_hours\": 0.43, \"competitive_route\": 1, \"bus_multiplier\": 1.16, \"bus_difference\": 4.2, \"num_trips\": 35, \"num_competitive\": 31, \"pct_trips_competitive\": 0.886, \"bus_difference_spread\": 75.0, \"route_group\": \"long\", \"max_trip_hrs\": 1.75, \"max_trip_route_group\": 1.75, \"below_cutoff\": 31, \"pct_below_cutoff\": 0.8857142857142857, \"name\": \"Tulare County Area Transit\", \"caltrans_district\": \"06 - Fresno\", \"drmt_organization_name\": null, \"route_name\": \"Visalia To Woodlake (And Sometimes To Three Rivers)\", \"cutoff2\": 40, \"cutoff\": 2}, {\"calitp_itp_id\": 346, \"trip_key\": 5301357823829065525, \"trip_id\": \"t_500025_b_17398_tn_0\", \"shape_id\": \"p_499948\", \"route_id\": \"12187\", \"service_hours\": 0.5, \"trip_first_departure_ts\": 27600, \"trip_last_arrival_ts\": 29400, \"departure_hour\": 7, \"time_of_day\": \"AM Peak\", \"p25\": 0.5, \"p50\": 0.5, \"p75\": 0.5, \"p50_trip\": 1, \"fastest_trip\": 0, \"car_duration_hours\": 0.43, \"competitive_route\": 1, \"bus_multiplier\": 1.16, \"bus_difference\": 4.2, \"num_trips\": 35, \"num_competitive\": 31, \"pct_trips_competitive\": 0.886, \"bus_difference_spread\": 75.0, \"route_group\": \"long\", \"max_trip_hrs\": 1.75, \"max_trip_route_group\": 1.75, \"below_cutoff\": 31, \"pct_below_cutoff\": 0.8857142857142857, \"name\": \"Tulare County Area Transit\", \"caltrans_district\": \"06 - Fresno\", \"drmt_organization_name\": null, \"route_name\": \"Visalia To Woodlake (And Sometimes To Three Rivers)\", \"cutoff2\": 40, \"cutoff\": 2}, {\"calitp_itp_id\": 346, \"trip_key\": -8749661368514629044, \"trip_id\": \"t_500040_b_17398_tn_0\", \"shape_id\": \"p_499948\", \"route_id\": \"12187\", \"service_hours\": 0.5, \"trip_first_departure_ts\": 43500, \"trip_last_arrival_ts\": 45300, \"departure_hour\": 12, \"time_of_day\": \"Midday\", \"p25\": 0.5, \"p50\": 0.5, \"p75\": 0.5, \"p50_trip\": 1, \"fastest_trip\": 0, \"car_duration_hours\": 0.43, \"competitive_route\": 1, \"bus_multiplier\": 1.16, \"bus_difference\": 4.2, \"num_trips\": 35, \"num_competitive\": 31, \"pct_trips_competitive\": 0.886, \"bus_difference_spread\": 75.0, \"route_group\": \"long\", \"max_trip_hrs\": 1.75, \"max_trip_route_group\": 1.75, \"below_cutoff\": 31, \"pct_below_cutoff\": 0.8857142857142857, \"name\": \"Tulare County Area Transit\", \"caltrans_district\": \"06 - Fresno\", \"drmt_organization_name\": null, \"route_name\": \"Visalia To Woodlake (And Sometimes To Three Rivers)\", \"cutoff2\": 40, \"cutoff\": 2}, {\"calitp_itp_id\": 346, \"trip_key\": 3584395481113801201, \"trip_id\": \"t_500027_b_17398_tn_0\", \"shape_id\": \"p_499948\", \"route_id\": \"12187\", \"service_hours\": 0.5, \"trip_first_departure_ts\": 31800, \"trip_last_arrival_ts\": 33600, \"departure_hour\": 8, \"time_of_day\": \"AM Peak\", \"p25\": 0.5, \"p50\": 0.5, \"p75\": 0.5, \"p50_trip\": 1, \"fastest_trip\": 0, \"car_duration_hours\": 0.43, \"competitive_route\": 1, \"bus_multiplier\": 1.16, \"bus_difference\": 4.2, \"num_trips\": 35, \"num_competitive\": 31, \"pct_trips_competitive\": 0.886, \"bus_difference_spread\": 75.0, \"route_group\": \"long\", \"max_trip_hrs\": 1.75, \"max_trip_route_group\": 1.75, \"below_cutoff\": 31, \"pct_below_cutoff\": 0.8857142857142857, \"name\": \"Tulare County Area Transit\", \"caltrans_district\": \"06 - Fresno\", \"drmt_organization_name\": null, \"route_name\": \"Visalia To Woodlake (And Sometimes To Three Rivers)\", \"cutoff2\": 40, \"cutoff\": 2}, {\"calitp_itp_id\": 346, \"trip_key\": 1649991098577311217, \"trip_id\": \"t_500102_b_17398_tn_0\", \"shape_id\": \"p_499963\", \"route_id\": \"12187\", \"service_hours\": 0.5, \"trip_first_departure_ts\": 45600, \"trip_last_arrival_ts\": 47400, \"departure_hour\": 12, \"time_of_day\": \"Midday\", \"p25\": 0.5, \"p50\": 0.5, \"p75\": 0.5, \"p50_trip\": 1, \"fastest_trip\": 0, \"car_duration_hours\": 0.43, \"competitive_route\": 1, \"bus_multiplier\": 1.16, \"bus_difference\": 4.2, \"num_trips\": 35, \"num_competitive\": 31, \"pct_trips_competitive\": 0.886, \"bus_difference_spread\": 75.0, \"route_group\": \"long\", \"max_trip_hrs\": 1.75, \"max_trip_route_group\": 1.75, \"below_cutoff\": 31, \"pct_below_cutoff\": 0.8857142857142857, \"name\": \"Tulare County Area Transit\", \"caltrans_district\": \"06 - Fresno\", \"drmt_organization_name\": null, \"route_name\": \"Visalia To Woodlake (And Sometimes To Three Rivers)\", \"cutoff2\": 40, \"cutoff\": 2}, {\"calitp_itp_id\": 346, \"trip_key\": 5473119264829984541, \"trip_id\": \"t_500107_b_17398_tn_0\", \"shape_id\": \"p_499963\", \"route_id\": \"12187\", \"service_hours\": 0.5, \"trip_first_departure_ts\": 62700, \"trip_last_arrival_ts\": 64500, \"departure_hour\": 17, \"time_of_day\": \"PM Peak\", \"p25\": 0.5, \"p50\": 0.5, \"p75\": 0.5, \"p50_trip\": 1, \"fastest_trip\": 0, \"car_duration_hours\": 0.43, \"competitive_route\": 1, \"bus_multiplier\": 1.16, \"bus_difference\": 4.2, \"num_trips\": 35, \"num_competitive\": 31, \"pct_trips_competitive\": 0.886, \"bus_difference_spread\": 75.0, \"route_group\": \"long\", \"max_trip_hrs\": 1.75, \"max_trip_route_group\": 1.75, \"below_cutoff\": 31, \"pct_below_cutoff\": 0.8857142857142857, \"name\": \"Tulare County Area Transit\", \"caltrans_district\": \"06 - Fresno\", \"drmt_organization_name\": null, \"route_name\": \"Visalia To Woodlake (And Sometimes To Three Rivers)\", \"cutoff2\": 40, \"cutoff\": 2}, {\"calitp_itp_id\": 346, \"trip_key\": -3705973910600368404, \"trip_id\": \"t_500038_b_17398_tn_0\", \"shape_id\": \"p_499948\", \"route_id\": \"12187\", \"service_hours\": 0.5, \"trip_first_departure_ts\": 58200, \"trip_last_arrival_ts\": 60000, \"departure_hour\": 16, \"time_of_day\": \"Midday\", \"p25\": 0.5, \"p50\": 0.5, \"p75\": 0.5, \"p50_trip\": 1, \"fastest_trip\": 0, \"car_duration_hours\": 0.43, \"competitive_route\": 1, \"bus_multiplier\": 1.16, \"bus_difference\": 4.2, \"num_trips\": 35, \"num_competitive\": 31, \"pct_trips_competitive\": 0.886, \"bus_difference_spread\": 75.0, \"route_group\": \"long\", \"max_trip_hrs\": 1.75, \"max_trip_route_group\": 1.75, \"below_cutoff\": 31, \"pct_below_cutoff\": 0.8857142857142857, \"name\": \"Tulare County Area Transit\", \"caltrans_district\": \"06 - Fresno\", \"drmt_organization_name\": null, \"route_name\": \"Visalia To Woodlake (And Sometimes To Three Rivers)\", \"cutoff2\": 40, \"cutoff\": 2}, {\"calitp_itp_id\": 346, \"trip_key\": -8722440282343383904, \"trip_id\": \"t_500039_b_17398_tn_0\", \"shape_id\": \"p_499948\", \"route_id\": \"12187\", \"service_hours\": 0.5, \"trip_first_departure_ts\": 60600, \"trip_last_arrival_ts\": 62400, \"departure_hour\": 16, \"time_of_day\": \"Midday\", \"p25\": 0.5, \"p50\": 0.5, \"p75\": 0.5, \"p50_trip\": 1, \"fastest_trip\": 0, \"car_duration_hours\": 0.43, \"competitive_route\": 1, \"bus_multiplier\": 1.16, \"bus_difference\": 4.2, \"num_trips\": 35, \"num_competitive\": 31, \"pct_trips_competitive\": 0.886, \"bus_difference_spread\": 75.0, \"route_group\": \"long\", \"max_trip_hrs\": 1.75, \"max_trip_route_group\": 1.75, \"below_cutoff\": 31, \"pct_below_cutoff\": 0.8857142857142857, \"name\": \"Tulare County Area Transit\", \"caltrans_district\": \"06 - Fresno\", \"drmt_organization_name\": null, \"route_name\": \"Visalia To Woodlake (And Sometimes To Three Rivers)\", \"cutoff2\": 40, \"cutoff\": 2}, {\"calitp_itp_id\": 346, \"trip_key\": -577210567552791629, \"trip_id\": \"t_500033_b_17398_tn_0\", \"shape_id\": \"p_499948\", \"route_id\": \"12187\", \"service_hours\": 0.5, \"trip_first_departure_ts\": 66900, \"trip_last_arrival_ts\": 68700, \"departure_hour\": 18, \"time_of_day\": \"PM Peak\", \"p25\": 0.5, \"p50\": 0.5, \"p75\": 0.5, \"p50_trip\": 1, \"fastest_trip\": 0, \"car_duration_hours\": 0.43, \"competitive_route\": 1, \"bus_multiplier\": 1.16, \"bus_difference\": 4.2, \"num_trips\": 35, \"num_competitive\": 31, \"pct_trips_competitive\": 0.886, \"bus_difference_spread\": 75.0, \"route_group\": \"long\", \"max_trip_hrs\": 1.75, \"max_trip_route_group\": 1.75, \"below_cutoff\": 31, \"pct_below_cutoff\": 0.8857142857142857, \"name\": \"Tulare County Area Transit\", \"caltrans_district\": \"06 - Fresno\", \"drmt_organization_name\": null, \"route_name\": \"Visalia To Woodlake (And Sometimes To Three Rivers)\", \"cutoff2\": 40, \"cutoff\": 2}, {\"calitp_itp_id\": 346, \"trip_key\": -4970014678345042589, \"trip_id\": \"t_500036_b_17398_tn_0\", \"shape_id\": \"p_499948\", \"route_id\": \"12187\", \"service_hours\": 0.5, \"trip_first_departure_ts\": 51900, \"trip_last_arrival_ts\": 53700, \"departure_hour\": 14, \"time_of_day\": \"Midday\", \"p25\": 0.5, \"p50\": 0.5, \"p75\": 0.5, \"p50_trip\": 1, \"fastest_trip\": 0, \"car_duration_hours\": 0.43, \"competitive_route\": 1, \"bus_multiplier\": 1.16, \"bus_difference\": 4.2, \"num_trips\": 35, \"num_competitive\": 31, \"pct_trips_competitive\": 0.886, \"bus_difference_spread\": 75.0, \"route_group\": \"long\", \"max_trip_hrs\": 1.75, \"max_trip_route_group\": 1.75, \"below_cutoff\": 31, \"pct_below_cutoff\": 0.8857142857142857, \"name\": \"Tulare County Area Transit\", \"caltrans_district\": \"06 - Fresno\", \"drmt_organization_name\": null, \"route_name\": \"Visalia To Woodlake (And Sometimes To Three Rivers)\", \"cutoff2\": 40, \"cutoff\": 2}, {\"calitp_itp_id\": 346, \"trip_key\": -8362027453870517827, \"trip_id\": \"t_500031_b_17398_tn_0\", \"shape_id\": \"p_499948\", \"route_id\": \"12187\", \"service_hours\": 0.5, \"trip_first_departure_ts\": 62700, \"trip_last_arrival_ts\": 64500, \"departure_hour\": 17, \"time_of_day\": \"PM Peak\", \"p25\": 0.5, \"p50\": 0.5, \"p75\": 0.5, \"p50_trip\": 1, \"fastest_trip\": 0, \"car_duration_hours\": 0.43, \"competitive_route\": 1, \"bus_multiplier\": 1.16, \"bus_difference\": 4.2, \"num_trips\": 35, \"num_competitive\": 31, \"pct_trips_competitive\": 0.886, \"bus_difference_spread\": 75.0, \"route_group\": \"long\", \"max_trip_hrs\": 1.75, \"max_trip_route_group\": 1.75, \"below_cutoff\": 31, \"pct_below_cutoff\": 0.8857142857142857, \"name\": \"Tulare County Area Transit\", \"caltrans_district\": \"06 - Fresno\", \"drmt_organization_name\": null, \"route_name\": \"Visalia To Woodlake (And Sometimes To Three Rivers)\", \"cutoff2\": 40, \"cutoff\": 2}, {\"calitp_itp_id\": 346, \"trip_key\": 2662154235925804882, \"trip_id\": \"t_500104_b_17398_tn_0\", \"shape_id\": \"p_499963\", \"route_id\": \"12187\", \"service_hours\": 0.5, \"trip_first_departure_ts\": 49800, \"trip_last_arrival_ts\": 51600, \"departure_hour\": 13, \"time_of_day\": \"Midday\", \"p25\": 0.5, \"p50\": 0.5, \"p75\": 0.5, \"p50_trip\": 1, \"fastest_trip\": 0, \"car_duration_hours\": 0.43, \"competitive_route\": 1, \"bus_multiplier\": 1.16, \"bus_difference\": 4.2, \"num_trips\": 35, \"num_competitive\": 31, \"pct_trips_competitive\": 0.886, \"bus_difference_spread\": 75.0, \"route_group\": \"long\", \"max_trip_hrs\": 1.75, \"max_trip_route_group\": 1.75, \"below_cutoff\": 31, \"pct_below_cutoff\": 0.8857142857142857, \"name\": \"Tulare County Area Transit\", \"caltrans_district\": \"06 - Fresno\", \"drmt_organization_name\": null, \"route_name\": \"Visalia To Woodlake (And Sometimes To Three Rivers)\", \"cutoff2\": 40, \"cutoff\": 2}, {\"calitp_itp_id\": 346, \"trip_key\": -5521688296905674584, \"trip_id\": \"t_500103_b_17398_tn_0\", \"shape_id\": \"p_499963\", \"route_id\": \"12187\", \"service_hours\": 0.5, \"trip_first_departure_ts\": 46800, \"trip_last_arrival_ts\": 48600, \"departure_hour\": 13, \"time_of_day\": \"Midday\", \"p25\": 0.5, \"p50\": 0.5, \"p75\": 0.5, \"p50_trip\": 1, \"fastest_trip\": 0, \"car_duration_hours\": 0.43, \"competitive_route\": 1, \"bus_multiplier\": 1.16, \"bus_difference\": 4.2, \"num_trips\": 35, \"num_competitive\": 31, \"pct_trips_competitive\": 0.886, \"bus_difference_spread\": 75.0, \"route_group\": \"long\", \"max_trip_hrs\": 1.75, \"max_trip_route_group\": 1.75, \"below_cutoff\": 31, \"pct_below_cutoff\": 0.8857142857142857, \"name\": \"Tulare County Area Transit\", \"caltrans_district\": \"06 - Fresno\", \"drmt_organization_name\": null, \"route_name\": \"Visalia To Woodlake (And Sometimes To Three Rivers)\", \"cutoff2\": 40, \"cutoff\": 2}, {\"calitp_itp_id\": 346, \"trip_key\": -8095630384976376612, \"trip_id\": \"t_500100_b_17398_tn_0\", \"shape_id\": \"p_499963\", \"route_id\": \"12187\", \"service_hours\": 0.5, \"trip_first_departure_ts\": 39300, \"trip_last_arrival_ts\": 41100, \"departure_hour\": 10, \"time_of_day\": \"Midday\", \"p25\": 0.5, \"p50\": 0.5, \"p75\": 0.5, \"p50_trip\": 1, \"fastest_trip\": 0, \"car_duration_hours\": 0.43, \"competitive_route\": 1, \"bus_multiplier\": 1.16, \"bus_difference\": 4.2, \"num_trips\": 35, \"num_competitive\": 31, \"pct_trips_competitive\": 0.886, \"bus_difference_spread\": 75.0, \"route_group\": \"long\", \"max_trip_hrs\": 1.75, \"max_trip_route_group\": 1.75, \"below_cutoff\": 31, \"pct_below_cutoff\": 0.8857142857142857, \"name\": \"Tulare County Area Transit\", \"caltrans_district\": \"06 - Fresno\", \"drmt_organization_name\": null, \"route_name\": \"Visalia To Woodlake (And Sometimes To Three Rivers)\", \"cutoff2\": 40, \"cutoff\": 2}, {\"calitp_itp_id\": 346, \"trip_key\": 5219313365488839997, \"trip_id\": \"t_500106_b_17398_tn_0\", \"shape_id\": \"p_499963\", \"route_id\": \"12187\", \"service_hours\": 0.5, \"trip_first_departure_ts\": 58500, \"trip_last_arrival_ts\": 60300, \"departure_hour\": 16, \"time_of_day\": \"Midday\", \"p25\": 0.5, \"p50\": 0.5, \"p75\": 0.5, \"p50_trip\": 1, \"fastest_trip\": 0, \"car_duration_hours\": 0.43, \"competitive_route\": 1, \"bus_multiplier\": 1.16, \"bus_difference\": 4.2, \"num_trips\": 35, \"num_competitive\": 31, \"pct_trips_competitive\": 0.886, \"bus_difference_spread\": 75.0, \"route_group\": \"long\", \"max_trip_hrs\": 1.75, \"max_trip_route_group\": 1.75, \"below_cutoff\": 31, \"pct_below_cutoff\": 0.8857142857142857, \"name\": \"Tulare County Area Transit\", \"caltrans_district\": \"06 - Fresno\", \"drmt_organization_name\": null, \"route_name\": \"Visalia To Woodlake (And Sometimes To Three Rivers)\", \"cutoff2\": 40, \"cutoff\": 2}, {\"calitp_itp_id\": 346, \"trip_key\": 5445266399218648720, \"trip_id\": \"t_500030_b_17398_tn_0\", \"shape_id\": \"p_499948\", \"route_id\": \"12187\", \"service_hours\": 0.5, \"trip_first_departure_ts\": 41400, \"trip_last_arrival_ts\": 43200, \"departure_hour\": 11, \"time_of_day\": \"Midday\", \"p25\": 0.5, \"p50\": 0.5, \"p75\": 0.5, \"p50_trip\": 1, \"fastest_trip\": 0, \"car_duration_hours\": 0.43, \"competitive_route\": 1, \"bus_multiplier\": 1.16, \"bus_difference\": 4.2, \"num_trips\": 35, \"num_competitive\": 31, \"pct_trips_competitive\": 0.886, \"bus_difference_spread\": 75.0, \"route_group\": \"long\", \"max_trip_hrs\": 1.75, \"max_trip_route_group\": 1.75, \"below_cutoff\": 31, \"pct_below_cutoff\": 0.8857142857142857, \"name\": \"Tulare County Area Transit\", \"caltrans_district\": \"06 - Fresno\", \"drmt_organization_name\": null, \"route_name\": \"Visalia To Woodlake (And Sometimes To Three Rivers)\", \"cutoff2\": 40, \"cutoff\": 2}, {\"calitp_itp_id\": 346, \"trip_key\": -4458242953264619027, \"trip_id\": \"t_500108_b_17398_tn_0\", \"shape_id\": \"p_499963\", \"route_id\": \"12187\", \"service_hours\": 0.5, \"trip_first_departure_ts\": 64800, \"trip_last_arrival_ts\": 66600, \"departure_hour\": 18, \"time_of_day\": \"PM Peak\", \"p25\": 0.5, \"p50\": 0.5, \"p75\": 0.5, \"p50_trip\": 1, \"fastest_trip\": 0, \"car_duration_hours\": 0.43, \"competitive_route\": 1, \"bus_multiplier\": 1.16, \"bus_difference\": 4.2, \"num_trips\": 35, \"num_competitive\": 31, \"pct_trips_competitive\": 0.886, \"bus_difference_spread\": 75.0, \"route_group\": \"long\", \"max_trip_hrs\": 1.75, \"max_trip_route_group\": 1.75, \"below_cutoff\": 31, \"pct_below_cutoff\": 0.8857142857142857, \"name\": \"Tulare County Area Transit\", \"caltrans_district\": \"06 - Fresno\", \"drmt_organization_name\": null, \"route_name\": \"Visalia To Woodlake (And Sometimes To Three Rivers)\", \"cutoff2\": 40, \"cutoff\": 2}, {\"calitp_itp_id\": 346, \"trip_key\": 5329013245896550591, \"trip_id\": \"t_500096_b_17398_tn_0\", \"shape_id\": \"p_499963\", \"route_id\": \"12187\", \"service_hours\": 0.5, \"trip_first_departure_ts\": 25500, \"trip_last_arrival_ts\": 27300, \"departure_hour\": 7, \"time_of_day\": \"AM Peak\", \"p25\": 0.5, \"p50\": 0.5, \"p75\": 0.5, \"p50_trip\": 1, \"fastest_trip\": 0, \"car_duration_hours\": 0.43, \"competitive_route\": 1, \"bus_multiplier\": 1.16, \"bus_difference\": 4.2, \"num_trips\": 35, \"num_competitive\": 31, \"pct_trips_competitive\": 0.886, \"bus_difference_spread\": 75.0, \"route_group\": \"long\", \"max_trip_hrs\": 1.75, \"max_trip_route_group\": 1.75, \"below_cutoff\": 31, \"pct_below_cutoff\": 0.8857142857142857, \"name\": \"Tulare County Area Transit\", \"caltrans_district\": \"06 - Fresno\", \"drmt_organization_name\": null, \"route_name\": \"Visalia To Woodlake (And Sometimes To Three Rivers)\", \"cutoff2\": 40, \"cutoff\": 2}, {\"calitp_itp_id\": 346, \"trip_key\": 1625272561138410195, \"trip_id\": \"t_814003_b_17398_tn_0\", \"shape_id\": \"p_499948\", \"route_id\": \"12187\", \"service_hours\": 0.5, \"trip_first_departure_ts\": 37200, \"trip_last_arrival_ts\": 39000, \"departure_hour\": 10, \"time_of_day\": \"Midday\", \"p25\": 0.5, \"p50\": 0.5, \"p75\": 0.5, \"p50_trip\": 1, \"fastest_trip\": 0, \"car_duration_hours\": 0.43, \"competitive_route\": 1, \"bus_multiplier\": 1.16, \"bus_difference\": 4.2, \"num_trips\": 35, \"num_competitive\": 31, \"pct_trips_competitive\": 0.886, \"bus_difference_spread\": 75.0, \"route_group\": \"long\", \"max_trip_hrs\": 1.75, \"max_trip_route_group\": 1.75, \"below_cutoff\": 31, \"pct_below_cutoff\": 0.8857142857142857, \"name\": \"Tulare County Area Transit\", \"caltrans_district\": \"06 - Fresno\", \"drmt_organization_name\": null, \"route_name\": \"Visalia To Woodlake (And Sometimes To Three Rivers)\", \"cutoff2\": 40, \"cutoff\": 2}, {\"calitp_itp_id\": 346, \"trip_key\": -5565090890552336788, \"trip_id\": \"t_500034_b_17398_tn_0\", \"shape_id\": \"p_499948\", \"route_id\": \"12187\", \"service_hours\": 0.5, \"trip_first_departure_ts\": 47700, \"trip_last_arrival_ts\": 49500, \"departure_hour\": 13, \"time_of_day\": \"Midday\", \"p25\": 0.5, \"p50\": 0.5, \"p75\": 0.5, \"p50_trip\": 1, \"fastest_trip\": 0, \"car_duration_hours\": 0.43, \"competitive_route\": 1, \"bus_multiplier\": 1.16, \"bus_difference\": 4.2, \"num_trips\": 35, \"num_competitive\": 31, \"pct_trips_competitive\": 0.886, \"bus_difference_spread\": 75.0, \"route_group\": \"long\", \"max_trip_hrs\": 1.75, \"max_trip_route_group\": 1.75, \"below_cutoff\": 31, \"pct_below_cutoff\": 0.8857142857142857, \"name\": \"Tulare County Area Transit\", \"caltrans_district\": \"06 - Fresno\", \"drmt_organization_name\": null, \"route_name\": \"Visalia To Woodlake (And Sometimes To Three Rivers)\", \"cutoff2\": 40, \"cutoff\": 2}, {\"calitp_itp_id\": 346, \"trip_key\": 2415741356440030567, \"trip_id\": \"t_500035_b_17398_tn_0\", \"shape_id\": \"p_499948\", \"route_id\": \"12187\", \"service_hours\": 0.5, \"trip_first_departure_ts\": 48900, \"trip_last_arrival_ts\": 50700, \"departure_hour\": 13, \"time_of_day\": \"Midday\", \"p25\": 0.5, \"p50\": 0.5, \"p75\": 0.5, \"p50_trip\": 1, \"fastest_trip\": 0, \"car_duration_hours\": 0.43, \"competitive_route\": 1, \"bus_multiplier\": 1.16, \"bus_difference\": 4.2, \"num_trips\": 35, \"num_competitive\": 31, \"pct_trips_competitive\": 0.886, \"bus_difference_spread\": 75.0, \"route_group\": \"long\", \"max_trip_hrs\": 1.75, \"max_trip_route_group\": 1.75, \"below_cutoff\": 31, \"pct_below_cutoff\": 0.8857142857142857, \"name\": \"Tulare County Area Transit\", \"caltrans_district\": \"06 - Fresno\", \"drmt_organization_name\": null, \"route_name\": \"Visalia To Woodlake (And Sometimes To Three Rivers)\", \"cutoff2\": 40, \"cutoff\": 2}, {\"calitp_itp_id\": 346, \"trip_key\": 3269186138341439741, \"trip_id\": \"t_500097_b_17398_tn_0\", \"shape_id\": \"p_499963\", \"route_id\": \"12187\", \"service_hours\": 0.5, \"trip_first_departure_ts\": 27600, \"trip_last_arrival_ts\": 29400, \"departure_hour\": 7, \"time_of_day\": \"AM Peak\", \"p25\": 0.5, \"p50\": 0.5, \"p75\": 0.5, \"p50_trip\": 1, \"fastest_trip\": 0, \"car_duration_hours\": 0.43, \"competitive_route\": 1, \"bus_multiplier\": 1.16, \"bus_difference\": 4.2, \"num_trips\": 35, \"num_competitive\": 31, \"pct_trips_competitive\": 0.886, \"bus_difference_spread\": 75.0, \"route_group\": \"long\", \"max_trip_hrs\": 1.75, \"max_trip_route_group\": 1.75, \"below_cutoff\": 31, \"pct_below_cutoff\": 0.8857142857142857, \"name\": \"Tulare County Area Transit\", \"caltrans_district\": \"06 - Fresno\", \"drmt_organization_name\": null, \"route_name\": \"Visalia To Woodlake (And Sometimes To Three Rivers)\", \"cutoff2\": 40, \"cutoff\": 2}, {\"calitp_itp_id\": 346, \"trip_key\": 484918781909703366, \"trip_id\": \"t_500099_b_17398_tn_0\", \"shape_id\": \"p_499963\", \"route_id\": \"12187\", \"service_hours\": 0.5, \"trip_first_departure_ts\": 33900, \"trip_last_arrival_ts\": 35700, \"departure_hour\": 9, \"time_of_day\": \"AM Peak\", \"p25\": 0.5, \"p50\": 0.5, \"p75\": 0.5, \"p50_trip\": 1, \"fastest_trip\": 0, \"car_duration_hours\": 0.43, \"competitive_route\": 1, \"bus_multiplier\": 1.16, \"bus_difference\": 4.2, \"num_trips\": 35, \"num_competitive\": 31, \"pct_trips_competitive\": 0.886, \"bus_difference_spread\": 75.0, \"route_group\": \"long\", \"max_trip_hrs\": 1.75, \"max_trip_route_group\": 1.75, \"below_cutoff\": 31, \"pct_below_cutoff\": 0.8857142857142857, \"name\": \"Tulare County Area Transit\", \"caltrans_district\": \"06 - Fresno\", \"drmt_organization_name\": null, \"route_name\": \"Visalia To Woodlake (And Sometimes To Three Rivers)\", \"cutoff2\": 40, \"cutoff\": 2}, {\"calitp_itp_id\": 346, \"trip_key\": 4142938409753614336, \"trip_id\": \"t_814005_b_17398_tn_0\", \"shape_id\": \"p_499948\", \"route_id\": \"12187\", \"service_hours\": 0.5, \"trip_first_departure_ts\": 56400, \"trip_last_arrival_ts\": 58200, \"departure_hour\": 15, \"time_of_day\": \"Midday\", \"p25\": 0.5, \"p50\": 0.5, \"p75\": 0.5, \"p50_trip\": 1, \"fastest_trip\": 0, \"car_duration_hours\": 0.43, \"competitive_route\": 1, \"bus_multiplier\": 1.16, \"bus_difference\": 4.2, \"num_trips\": 35, \"num_competitive\": 31, \"pct_trips_competitive\": 0.886, \"bus_difference_spread\": 75.0, \"route_group\": \"long\", \"max_trip_hrs\": 1.75, \"max_trip_route_group\": 1.75, \"below_cutoff\": 31, \"pct_below_cutoff\": 0.8857142857142857, \"name\": \"Tulare County Area Transit\", \"caltrans_district\": \"06 - Fresno\", \"drmt_organization_name\": null, \"route_name\": \"Visalia To Woodlake (And Sometimes To Three Rivers)\", \"cutoff2\": 40, \"cutoff\": 2}, {\"calitp_itp_id\": 346, \"trip_key\": 5910837833767519635, \"trip_id\": \"t_500105_b_17398_tn_0\", \"shape_id\": \"p_499963\", \"route_id\": \"12187\", \"service_hours\": 0.5, \"trip_first_departure_ts\": 56100, \"trip_last_arrival_ts\": 57900, \"departure_hour\": 15, \"time_of_day\": \"Midday\", \"p25\": 0.5, \"p50\": 0.5, \"p75\": 0.5, \"p50_trip\": 1, \"fastest_trip\": 0, \"car_duration_hours\": 0.43, \"competitive_route\": 1, \"bus_multiplier\": 1.16, \"bus_difference\": 4.2, \"num_trips\": 35, \"num_competitive\": 31, \"pct_trips_competitive\": 0.886, \"bus_difference_spread\": 75.0, \"route_group\": \"long\", \"max_trip_hrs\": 1.75, \"max_trip_route_group\": 1.75, \"below_cutoff\": 31, \"pct_below_cutoff\": 0.8857142857142857, \"name\": \"Tulare County Area Transit\", \"caltrans_district\": \"06 - Fresno\", \"drmt_organization_name\": null, \"route_name\": \"Visalia To Woodlake (And Sometimes To Three Rivers)\", \"cutoff2\": 40, \"cutoff\": 2}, {\"calitp_itp_id\": 346, \"trip_key\": 2313036954112041700, \"trip_id\": \"t_500028_b_17398_tn_0\", \"shape_id\": \"p_499948\", \"route_id\": \"12187\", \"service_hours\": 0.5, \"trip_first_departure_ts\": 36000, \"trip_last_arrival_ts\": 37800, \"departure_hour\": 10, \"time_of_day\": \"Midday\", \"p25\": 0.5, \"p50\": 0.5, \"p75\": 0.5, \"p50_trip\": 1, \"fastest_trip\": 0, \"car_duration_hours\": 0.43, \"competitive_route\": 1, \"bus_multiplier\": 1.16, \"bus_difference\": 4.2, \"num_trips\": 35, \"num_competitive\": 31, \"pct_trips_competitive\": 0.886, \"bus_difference_spread\": 75.0, \"route_group\": \"long\", \"max_trip_hrs\": 1.75, \"max_trip_route_group\": 1.75, \"below_cutoff\": 31, \"pct_below_cutoff\": 0.8857142857142857, \"name\": \"Tulare County Area Transit\", \"caltrans_district\": \"06 - Fresno\", \"drmt_organization_name\": null, \"route_name\": \"Visalia To Woodlake (And Sometimes To Three Rivers)\", \"cutoff2\": 40, \"cutoff\": 2}, {\"calitp_itp_id\": 346, \"trip_key\": -7850320173875327827, \"trip_id\": \"t_500109_b_17398_tn_0\", \"shape_id\": \"p_499963\", \"route_id\": \"12187\", \"service_hours\": 0.58, \"trip_first_departure_ts\": 60300, \"trip_last_arrival_ts\": 62400, \"departure_hour\": 16, \"time_of_day\": \"Midday\", \"p25\": 0.5, \"p50\": 0.5, \"p75\": 0.5, \"p50_trip\": 0, \"fastest_trip\": 0, \"car_duration_hours\": 0.43, \"competitive_route\": 1, \"bus_multiplier\": 1.35, \"bus_difference\": 9.0, \"num_trips\": 35, \"num_competitive\": 31, \"pct_trips_competitive\": 0.886, \"bus_difference_spread\": 75.0, \"route_group\": \"long\", \"max_trip_hrs\": 1.75, \"max_trip_route_group\": 1.75, \"below_cutoff\": 31, \"pct_below_cutoff\": 0.8857142857142857, \"name\": \"Tulare County Area Transit\", \"caltrans_district\": \"06 - Fresno\", \"drmt_organization_name\": null, \"route_name\": \"Visalia To Woodlake (And Sometimes To Three Rivers)\", \"cutoff2\": 40, \"cutoff\": 2}, {\"calitp_itp_id\": 346, \"trip_key\": -8208579256527534209, \"trip_id\": \"t_499989_b_17398_tn_0\", \"shape_id\": \"p_499934\", \"route_id\": \"12187\", \"service_hours\": 1.5, \"trip_first_departure_ts\": 31800, \"trip_last_arrival_ts\": 37200, \"departure_hour\": 8, \"time_of_day\": \"AM Peak\", \"p25\": 0.5, \"p50\": 0.5, \"p75\": 0.5, \"p50_trip\": 0, \"fastest_trip\": 0, \"car_duration_hours\": 0.43, \"competitive_route\": 1, \"bus_multiplier\": 3.49, \"bus_difference\": 64.2, \"num_trips\": 35, \"num_competitive\": 31, \"pct_trips_competitive\": 0.886, \"bus_difference_spread\": 75.0, \"route_group\": \"long\", \"max_trip_hrs\": 1.75, \"max_trip_route_group\": 1.75, \"below_cutoff\": 31, \"pct_below_cutoff\": 0.8857142857142857, \"name\": \"Tulare County Area Transit\", \"caltrans_district\": \"06 - Fresno\", \"drmt_organization_name\": null, \"route_name\": \"Visalia To Woodlake (And Sometimes To Three Rivers)\", \"cutoff2\": 40, \"cutoff\": 2}, {\"calitp_itp_id\": 346, \"trip_key\": -8963389994411961672, \"trip_id\": \"t_499990_b_17398_tn_0\", \"shape_id\": \"p_499934\", \"route_id\": \"12187\", \"service_hours\": 1.5, \"trip_first_departure_ts\": 51000, \"trip_last_arrival_ts\": 56400, \"departure_hour\": 14, \"time_of_day\": \"Midday\", \"p25\": 0.5, \"p50\": 0.5, \"p75\": 0.5, \"p50_trip\": 0, \"fastest_trip\": 0, \"car_duration_hours\": 0.43, \"competitive_route\": 1, \"bus_multiplier\": 3.49, \"bus_difference\": 64.2, \"num_trips\": 35, \"num_competitive\": 31, \"pct_trips_competitive\": 0.886, \"bus_difference_spread\": 75.0, \"route_group\": \"long\", \"max_trip_hrs\": 1.75, \"max_trip_route_group\": 1.75, \"below_cutoff\": 31, \"pct_below_cutoff\": 0.8857142857142857, \"name\": \"Tulare County Area Transit\", \"caltrans_district\": \"06 - Fresno\", \"drmt_organization_name\": null, \"route_name\": \"Visalia To Woodlake (And Sometimes To Three Rivers)\", \"cutoff2\": 40, \"cutoff\": 2}, {\"calitp_itp_id\": 346, \"trip_key\": 3799018733880058923, \"trip_id\": \"t_500068_b_17398_tn_0\", \"shape_id\": \"p_499956\", \"route_id\": \"12187\", \"service_hours\": 1.67, \"trip_first_departure_ts\": 66900, \"trip_last_arrival_ts\": 72900, \"departure_hour\": 18, \"time_of_day\": \"PM Peak\", \"p25\": 0.5, \"p50\": 0.5, \"p75\": 0.5, \"p50_trip\": 0, \"fastest_trip\": 0, \"car_duration_hours\": 0.43, \"competitive_route\": 1, \"bus_multiplier\": 3.88, \"bus_difference\": 74.4, \"num_trips\": 35, \"num_competitive\": 31, \"pct_trips_competitive\": 0.886, \"bus_difference_spread\": 75.0, \"route_group\": \"long\", \"max_trip_hrs\": 1.75, \"max_trip_route_group\": 1.75, \"below_cutoff\": 31, \"pct_below_cutoff\": 0.8857142857142857, \"name\": \"Tulare County Area Transit\", \"caltrans_district\": \"06 - Fresno\", \"drmt_organization_name\": null, \"route_name\": \"Visalia To Woodlake (And Sometimes To Three Rivers)\", \"cutoff2\": 40, \"cutoff\": 2}, {\"calitp_itp_id\": 346, \"trip_key\": 2862620654904119796, \"trip_id\": \"t_499993_b_17398_tn_0\", \"shape_id\": \"p_499937\", \"route_id\": \"12187\", \"service_hours\": 1.75, \"trip_first_departure_ts\": 18900, \"trip_last_arrival_ts\": 25200, \"departure_hour\": 5, \"time_of_day\": \"Owl Service\", \"p25\": 0.5, \"p50\": 0.5, \"p75\": 0.5, \"p50_trip\": 0, \"fastest_trip\": 0, \"car_duration_hours\": 0.43, \"competitive_route\": 1, \"bus_multiplier\": 4.07, \"bus_difference\": 79.2, \"num_trips\": 35, \"num_competitive\": 31, \"pct_trips_competitive\": 0.886, \"bus_difference_spread\": 75.0, \"route_group\": \"long\", \"max_trip_hrs\": 1.75, \"max_trip_route_group\": 1.75, \"below_cutoff\": 31, \"pct_below_cutoff\": 0.8857142857142857, \"name\": \"Tulare County Area Transit\", \"caltrans_district\": \"06 - Fresno\", \"drmt_organization_name\": null, \"route_name\": \"Visalia To Woodlake (And Sometimes To Three Rivers)\", \"cutoff2\": 40, \"cutoff\": 2}]}}, {\"mode\": \"vega-lite\"});\n",
       "</script>"
      ],
      "text/plain": [
       "alt.FacetChart(...)"
      ]
     },
     "metadata": {},
     "output_type": "display_data"
    },
    {
     "data": {
      "text/html": [
       "\n",
       "<div id=\"altair-viz-c18aace877bc4be9a42779781fb5edb1\"></div>\n",
       "<script type=\"text/javascript\">\n",
       "  var VEGA_DEBUG = (typeof VEGA_DEBUG == \"undefined\") ? {} : VEGA_DEBUG;\n",
       "  (function(spec, embedOpt){\n",
       "    let outputDiv = document.currentScript.previousElementSibling;\n",
       "    if (outputDiv.id !== \"altair-viz-c18aace877bc4be9a42779781fb5edb1\") {\n",
       "      outputDiv = document.getElementById(\"altair-viz-c18aace877bc4be9a42779781fb5edb1\");\n",
       "    }\n",
       "    const paths = {\n",
       "      \"vega\": \"https://cdn.jsdelivr.net/npm//vega@5?noext\",\n",
       "      \"vega-lib\": \"https://cdn.jsdelivr.net/npm//vega-lib?noext\",\n",
       "      \"vega-lite\": \"https://cdn.jsdelivr.net/npm//vega-lite@4.17.0?noext\",\n",
       "      \"vega-embed\": \"https://cdn.jsdelivr.net/npm//vega-embed@6?noext\",\n",
       "    };\n",
       "\n",
       "    function maybeLoadScript(lib, version) {\n",
       "      var key = `${lib.replace(\"-\", \"\")}_version`;\n",
       "      return (VEGA_DEBUG[key] == version) ?\n",
       "        Promise.resolve(paths[lib]) :\n",
       "        new Promise(function(resolve, reject) {\n",
       "          var s = document.createElement('script');\n",
       "          document.getElementsByTagName(\"head\")[0].appendChild(s);\n",
       "          s.async = true;\n",
       "          s.onload = () => {\n",
       "            VEGA_DEBUG[key] = version;\n",
       "            return resolve(paths[lib]);\n",
       "          };\n",
       "          s.onerror = () => reject(`Error loading script: ${paths[lib]}`);\n",
       "          s.src = paths[lib];\n",
       "        });\n",
       "    }\n",
       "\n",
       "    function showError(err) {\n",
       "      outputDiv.innerHTML = `<div class=\"error\" style=\"color:red;\">${err}</div>`;\n",
       "      throw err;\n",
       "    }\n",
       "\n",
       "    function displayChart(vegaEmbed) {\n",
       "      vegaEmbed(outputDiv, spec, embedOpt)\n",
       "        .catch(err => showError(`Javascript Error: ${err.message}<br>This usually means there's a typo in your chart specification. See the javascript console for the full traceback.`));\n",
       "    }\n",
       "\n",
       "    if(typeof define === \"function\" && define.amd) {\n",
       "      requirejs.config({paths});\n",
       "      require([\"vega-embed\"], displayChart, err => showError(`Error loading script: ${err.message}`));\n",
       "    } else {\n",
       "      maybeLoadScript(\"vega\", \"5\")\n",
       "        .then(() => maybeLoadScript(\"vega-lite\", \"4.17.0\"))\n",
       "        .then(() => maybeLoadScript(\"vega-embed\", \"6\"))\n",
       "        .catch(showError)\n",
       "        .then(() => displayChart(vegaEmbed));\n",
       "    }\n",
       "  })({\"config\": {\"view\": {\"continuousWidth\": 400, \"continuousHeight\": 300, \"stroke\": null}, \"facet\": {\"spacing\": 0}}, \"data\": {\"name\": \"data-ee8076ca2cb1262960bcd575bcf867e1\"}, \"facet\": {\"column\": {\"field\": \"route_id\", \"sort\": [\"12187\", \"12185\"], \"title\": \"Route ID\", \"type\": \"nominal\"}}, \"spec\": {\"layer\": [{\"mark\": \"rule\", \"encoding\": {\"color\": {\"value\": \"black\"}, \"y\": {\"field\": \"cutoff\", \"type\": \"quantitative\"}}, \"selection\": {\"selector004\": {\"type\": \"interval\", \"bind\": \"scales\", \"encodings\": [\"x\", \"y\"]}}}, {\"mark\": {\"type\": \"rule\", \"strokeDash\": [3, 3]}, \"encoding\": {\"color\": {\"value\": \"#323434\"}, \"y\": {\"field\": \"cutoff2\", \"type\": \"quantitative\"}}}, {\"mark\": {\"type\": \"point\", \"opacity\": 0.65, \"size\": 12, \"strokeWidth\": 1.1}, \"encoding\": {\"color\": {\"field\": \"time_of_day\", \"scale\": {\"range\": [\"#136C97\", \"#E16B26\", \"#F6BF16\", \"#00896B\", \"#7790A3\", \"#5B559C\"]}, \"sort\": [\"AM Peak\", \"Midday\", \"PM Peak\", \"Owl Service\"], \"title\": \"Time of Day\", \"type\": \"nominal\"}, \"tooltip\": [{\"field\": \"route_id\", \"type\": \"nominal\"}, {\"field\": \"route_name\", \"type\": \"nominal\"}, {\"field\": \"trip_id\", \"type\": \"nominal\"}, {\"field\": \"service_hours\", \"type\": \"quantitative\"}, {\"field\": \"car_duration_hours\", \"type\": \"quantitative\"}, {\"field\": \"bus_multiplier\", \"type\": \"quantitative\"}, {\"field\": \"bus_difference\", \"type\": \"quantitative\"}, {\"field\": \"num_trips\", \"type\": \"quantitative\"}, {\"field\": \"num_competitive\", \"type\": \"quantitative\"}, {\"field\": \"pct_trips_competitive\", \"type\": \"quantitative\"}, {\"field\": \"p25\", \"type\": \"quantitative\"}, {\"field\": \"p50\", \"type\": \"quantitative\"}, {\"field\": \"p75\", \"type\": \"quantitative\"}], \"x\": {\"axis\": {\"grid\": false, \"labels\": false, \"ticks\": true, \"values\": [0]}, \"field\": \"jitter\", \"scale\": {}, \"title\": null, \"type\": \"quantitative\"}, \"y\": {\"field\": \"bus_difference\", \"scale\": {\"domain\": [-5, 79.2]}, \"title\": \"Difference in Bus to Car Travel Time (min)\", \"type\": \"quantitative\"}}, \"transform\": [{\"calculate\": \"sqrt(-2*log(random()))*cos(2*PI*random())\", \"as\": \"jitter\"}], \"width\": 50}, {\"layer\": [{\"mark\": {\"type\": \"point\", \"opacity\": 0.6, \"size\": 20, \"strokeWidth\": 1.3}, \"encoding\": {\"color\": {\"value\": \"#323434\"}, \"y\": {\"field\": \"bus_difference\", \"type\": \"quantitative\"}}, \"transform\": [{\"filter\": \"(datum.p50_trip === 1)\"}]}, {\"mark\": {\"type\": \"text\", \"align\": \"center\", \"baseline\": \"middle\"}, \"encoding\": {\"color\": {\"value\": \"black\"}, \"text\": {\"field\": \"pct_trips_competitive\", \"format\": \".0%\", \"type\": \"quantitative\"}, \"tooltip\": [{\"field\": \"route_id\", \"type\": \"nominal\"}, {\"field\": \"route_name\", \"type\": \"nominal\"}, {\"field\": \"trip_id\", \"type\": \"nominal\"}, {\"field\": \"service_hours\", \"type\": \"quantitative\"}, {\"field\": \"car_duration_hours\", \"type\": \"quantitative\"}, {\"field\": \"bus_multiplier\", \"type\": \"quantitative\"}, {\"field\": \"bus_difference\", \"type\": \"quantitative\"}, {\"field\": \"num_trips\", \"type\": \"quantitative\"}, {\"field\": \"num_competitive\", \"type\": \"quantitative\"}, {\"field\": \"pct_trips_competitive\", \"type\": \"quantitative\"}, {\"field\": \"p25\", \"type\": \"quantitative\"}, {\"field\": \"p50\", \"type\": \"quantitative\"}, {\"field\": \"p75\", \"type\": \"quantitative\"}], \"x\": {\"value\": 30}, \"y\": {\"value\": 15}}, \"transform\": [{\"calculate\": \"sqrt(-2*log(random()))*cos(2*PI*random())\", \"as\": \"jitter\"}, {\"filter\": \"(datum.fastest_trip === 1)\"}]}]}]}, \"resolve\": {\"scale\": {\"y\": \"shared\"}}, \"title\": \"Difference in Bus to Car Travel Time (min)\", \"$schema\": \"https://vega.github.io/schema/vega-lite/v4.17.0.json\", \"datasets\": {\"data-ee8076ca2cb1262960bcd575bcf867e1\": [{\"calitp_itp_id\": 346, \"trip_key\": -6231106525838156485, \"trip_id\": \"t_499992_b_17398_tn_0\", \"shape_id\": \"p_499936\", \"route_id\": \"12185\", \"service_hours\": 0.78, \"trip_first_departure_ts\": 23700, \"trip_last_arrival_ts\": 26520, \"departure_hour\": 6, \"time_of_day\": \"Owl Service\", \"p25\": 1.1, \"p50\": 1.165, \"p75\": 1.18, \"p50_trip\": 0, \"fastest_trip\": 1, \"car_duration_hours\": 0.65, \"competitive_route\": 1, \"bus_multiplier\": 1.2, \"bus_difference\": 7.8, \"num_trips\": 20, \"num_competitive\": 17, \"pct_trips_competitive\": 0.85, \"bus_difference_spread\": 44.400000000000006, \"route_group\": \"long\", \"max_trip_hrs\": 1.52, \"max_trip_route_group\": 1.52, \"below_cutoff\": 17, \"pct_below_cutoff\": 0.85, \"name\": \"Tulare County Area Transit\", \"caltrans_district\": \"06 - Fresno\", \"drmt_organization_name\": null, \"route_name\": \"Tulare To Richgrove\", \"cutoff2\": 40, \"cutoff\": 0}, {\"calitp_itp_id\": 346, \"trip_key\": -268204411534660920, \"trip_id\": \"t_500042_b_17398_tn_0\", \"shape_id\": \"p_499950\", \"route_id\": \"12185\", \"service_hours\": 0.83, \"trip_first_departure_ts\": 20700, \"trip_last_arrival_ts\": 23700, \"departure_hour\": 5, \"time_of_day\": \"Owl Service\", \"p25\": 1.1, \"p50\": 1.165, \"p75\": 1.18, \"p50_trip\": 0, \"fastest_trip\": 0, \"car_duration_hours\": 0.65, \"competitive_route\": 1, \"bus_multiplier\": 1.28, \"bus_difference\": 10.8, \"num_trips\": 20, \"num_competitive\": 17, \"pct_trips_competitive\": 0.85, \"bus_difference_spread\": 44.400000000000006, \"route_group\": \"long\", \"max_trip_hrs\": 1.52, \"max_trip_route_group\": 1.52, \"below_cutoff\": 17, \"pct_below_cutoff\": 0.85, \"name\": \"Tulare County Area Transit\", \"caltrans_district\": \"06 - Fresno\", \"drmt_organization_name\": null, \"route_name\": \"Tulare To Richgrove\", \"cutoff2\": 40, \"cutoff\": 0}, {\"calitp_itp_id\": 346, \"trip_key\": -9088647220709889103, \"trip_id\": \"t_499972_b_17398_tn_0\", \"shape_id\": \"p_499928\", \"route_id\": \"12185\", \"service_hours\": 1.1, \"trip_first_departure_ts\": 68880, \"trip_last_arrival_ts\": 72840, \"departure_hour\": 19, \"time_of_day\": \"PM Peak\", \"p25\": 1.1, \"p50\": 1.165, \"p75\": 1.18, \"p50_trip\": 0, \"fastest_trip\": 0, \"car_duration_hours\": 0.65, \"competitive_route\": 1, \"bus_multiplier\": 1.69, \"bus_difference\": 27.0, \"num_trips\": 20, \"num_competitive\": 17, \"pct_trips_competitive\": 0.85, \"bus_difference_spread\": 44.400000000000006, \"route_group\": \"long\", \"max_trip_hrs\": 1.52, \"max_trip_route_group\": 1.52, \"below_cutoff\": 17, \"pct_below_cutoff\": 0.85, \"name\": \"Tulare County Area Transit\", \"caltrans_district\": \"06 - Fresno\", \"drmt_organization_name\": null, \"route_name\": \"Tulare To Richgrove\", \"cutoff2\": 40, \"cutoff\": 0}, {\"calitp_itp_id\": 346, \"trip_key\": 5372852154647898465, \"trip_id\": \"t_499973_b_17398_tn_0\", \"shape_id\": \"p_499928\", \"route_id\": \"12185\", \"service_hours\": 1.1, \"trip_first_departure_ts\": 28380, \"trip_last_arrival_ts\": 32340, \"departure_hour\": 7, \"time_of_day\": \"AM Peak\", \"p25\": 1.1, \"p50\": 1.165, \"p75\": 1.18, \"p50_trip\": 0, \"fastest_trip\": 0, \"car_duration_hours\": 0.65, \"competitive_route\": 1, \"bus_multiplier\": 1.69, \"bus_difference\": 27.0, \"num_trips\": 20, \"num_competitive\": 17, \"pct_trips_competitive\": 0.85, \"bus_difference_spread\": 44.400000000000006, \"route_group\": \"long\", \"max_trip_hrs\": 1.52, \"max_trip_route_group\": 1.52, \"below_cutoff\": 17, \"pct_below_cutoff\": 0.85, \"name\": \"Tulare County Area Transit\", \"caltrans_district\": \"06 - Fresno\", \"drmt_organization_name\": null, \"route_name\": \"Tulare To Richgrove\", \"cutoff2\": 40, \"cutoff\": 0}, {\"calitp_itp_id\": 346, \"trip_key\": -1721271939036658096, \"trip_id\": \"t_499974_b_17398_tn_0\", \"shape_id\": \"p_499928\", \"route_id\": \"12185\", \"service_hours\": 1.1, \"trip_first_departure_ts\": 30900, \"trip_last_arrival_ts\": 34860, \"departure_hour\": 8, \"time_of_day\": \"AM Peak\", \"p25\": 1.1, \"p50\": 1.165, \"p75\": 1.18, \"p50_trip\": 0, \"fastest_trip\": 0, \"car_duration_hours\": 0.65, \"competitive_route\": 1, \"bus_multiplier\": 1.69, \"bus_difference\": 27.0, \"num_trips\": 20, \"num_competitive\": 17, \"pct_trips_competitive\": 0.85, \"bus_difference_spread\": 44.400000000000006, \"route_group\": \"long\", \"max_trip_hrs\": 1.52, \"max_trip_route_group\": 1.52, \"below_cutoff\": 17, \"pct_below_cutoff\": 0.85, \"name\": \"Tulare County Area Transit\", \"caltrans_district\": \"06 - Fresno\", \"drmt_organization_name\": null, \"route_name\": \"Tulare To Richgrove\", \"cutoff2\": 40, \"cutoff\": 0}, {\"calitp_itp_id\": 346, \"trip_key\": 6356511705974902498, \"trip_id\": \"t_499975_b_17398_tn_0\", \"shape_id\": \"p_499928\", \"route_id\": \"12185\", \"service_hours\": 1.1, \"trip_first_departure_ts\": 36720, \"trip_last_arrival_ts\": 40680, \"departure_hour\": 10, \"time_of_day\": \"Midday\", \"p25\": 1.1, \"p50\": 1.165, \"p75\": 1.18, \"p50_trip\": 0, \"fastest_trip\": 0, \"car_duration_hours\": 0.65, \"competitive_route\": 1, \"bus_multiplier\": 1.69, \"bus_difference\": 27.0, \"num_trips\": 20, \"num_competitive\": 17, \"pct_trips_competitive\": 0.85, \"bus_difference_spread\": 44.400000000000006, \"route_group\": \"long\", \"max_trip_hrs\": 1.52, \"max_trip_route_group\": 1.52, \"below_cutoff\": 17, \"pct_below_cutoff\": 0.85, \"name\": \"Tulare County Area Transit\", \"caltrans_district\": \"06 - Fresno\", \"drmt_organization_name\": null, \"route_name\": \"Tulare To Richgrove\", \"cutoff2\": 40, \"cutoff\": 0}, {\"calitp_itp_id\": 346, \"trip_key\": -8376432585681060628, \"trip_id\": \"t_499971_b_17398_tn_0\", \"shape_id\": \"p_499928\", \"route_id\": \"12185\", \"service_hours\": 1.1, \"trip_first_departure_ts\": 64860, \"trip_last_arrival_ts\": 68820, \"departure_hour\": 18, \"time_of_day\": \"PM Peak\", \"p25\": 1.1, \"p50\": 1.165, \"p75\": 1.18, \"p50_trip\": 0, \"fastest_trip\": 0, \"car_duration_hours\": 0.65, \"competitive_route\": 1, \"bus_multiplier\": 1.69, \"bus_difference\": 27.0, \"num_trips\": 20, \"num_competitive\": 17, \"pct_trips_competitive\": 0.85, \"bus_difference_spread\": 44.400000000000006, \"route_group\": \"long\", \"max_trip_hrs\": 1.52, \"max_trip_route_group\": 1.52, \"below_cutoff\": 17, \"pct_below_cutoff\": 0.85, \"name\": \"Tulare County Area Transit\", \"caltrans_district\": \"06 - Fresno\", \"drmt_organization_name\": null, \"route_name\": \"Tulare To Richgrove\", \"cutoff2\": 40, \"cutoff\": 0}, {\"calitp_itp_id\": 346, \"trip_key\": -3396834284039892919, \"trip_id\": \"t_499976_b_17398_tn_0\", \"shape_id\": \"p_499928\", \"route_id\": \"12185\", \"service_hours\": 1.1, \"trip_first_departure_ts\": 48360, \"trip_last_arrival_ts\": 52320, \"departure_hour\": 13, \"time_of_day\": \"Midday\", \"p25\": 1.1, \"p50\": 1.165, \"p75\": 1.18, \"p50_trip\": 0, \"fastest_trip\": 0, \"car_duration_hours\": 0.65, \"competitive_route\": 1, \"bus_multiplier\": 1.69, \"bus_difference\": 27.0, \"num_trips\": 20, \"num_competitive\": 17, \"pct_trips_competitive\": 0.85, \"bus_difference_spread\": 44.400000000000006, \"route_group\": \"long\", \"max_trip_hrs\": 1.52, \"max_trip_route_group\": 1.52, \"below_cutoff\": 17, \"pct_below_cutoff\": 0.85, \"name\": \"Tulare County Area Transit\", \"caltrans_district\": \"06 - Fresno\", \"drmt_organization_name\": null, \"route_name\": \"Tulare To Richgrove\", \"cutoff2\": 40, \"cutoff\": 0}, {\"calitp_itp_id\": 346, \"trip_key\": 2751071795873552926, \"trip_id\": \"t_499977_b_17398_tn_0\", \"shape_id\": \"p_499928\", \"route_id\": \"12185\", \"service_hours\": 1.1, \"trip_first_departure_ts\": 56700, \"trip_last_arrival_ts\": 60660, \"departure_hour\": 15, \"time_of_day\": \"Midday\", \"p25\": 1.1, \"p50\": 1.165, \"p75\": 1.18, \"p50_trip\": 0, \"fastest_trip\": 0, \"car_duration_hours\": 0.65, \"competitive_route\": 1, \"bus_multiplier\": 1.69, \"bus_difference\": 27.0, \"num_trips\": 20, \"num_competitive\": 17, \"pct_trips_competitive\": 0.85, \"bus_difference_spread\": 44.400000000000006, \"route_group\": \"long\", \"max_trip_hrs\": 1.52, \"max_trip_route_group\": 1.52, \"below_cutoff\": 17, \"pct_below_cutoff\": 0.85, \"name\": \"Tulare County Area Transit\", \"caltrans_district\": \"06 - Fresno\", \"drmt_organization_name\": null, \"route_name\": \"Tulare To Richgrove\", \"cutoff2\": 40, \"cutoff\": 0}, {\"calitp_itp_id\": 346, \"trip_key\": -4245156280481242420, \"trip_id\": \"t_499991_b_17398_tn_0\", \"shape_id\": \"p_499935\", \"route_id\": \"12185\", \"service_hours\": 1.15, \"trip_first_departure_ts\": 54840, \"trip_last_arrival_ts\": 58980, \"departure_hour\": 15, \"time_of_day\": \"Midday\", \"p25\": 1.1, \"p50\": 1.165, \"p75\": 1.18, \"p50_trip\": 0, \"fastest_trip\": 0, \"car_duration_hours\": 0.65, \"competitive_route\": 1, \"bus_multiplier\": 1.77, \"bus_difference\": 30.0, \"num_trips\": 20, \"num_competitive\": 17, \"pct_trips_competitive\": 0.85, \"bus_difference_spread\": 44.400000000000006, \"route_group\": \"long\", \"max_trip_hrs\": 1.52, \"max_trip_route_group\": 1.52, \"below_cutoff\": 17, \"pct_below_cutoff\": 0.85, \"name\": \"Tulare County Area Transit\", \"caltrans_district\": \"06 - Fresno\", \"drmt_organization_name\": null, \"route_name\": \"Tulare To Richgrove\", \"cutoff2\": 40, \"cutoff\": 0}, {\"calitp_itp_id\": 346, \"trip_key\": -7001544599832442745, \"trip_id\": \"t_500063_b_17398_tn_0\", \"shape_id\": \"p_499954\", \"route_id\": \"12185\", \"service_hours\": 1.18, \"trip_first_departure_ts\": 44280, \"trip_last_arrival_ts\": 48540, \"departure_hour\": 12, \"time_of_day\": \"Midday\", \"p25\": 1.1, \"p50\": 1.165, \"p75\": 1.18, \"p50_trip\": 1, \"fastest_trip\": 0, \"car_duration_hours\": 0.65, \"competitive_route\": 1, \"bus_multiplier\": 1.82, \"bus_difference\": 31.8, \"num_trips\": 20, \"num_competitive\": 17, \"pct_trips_competitive\": 0.85, \"bus_difference_spread\": 44.400000000000006, \"route_group\": \"long\", \"max_trip_hrs\": 1.52, \"max_trip_route_group\": 1.52, \"below_cutoff\": 17, \"pct_below_cutoff\": 0.85, \"name\": \"Tulare County Area Transit\", \"caltrans_district\": \"06 - Fresno\", \"drmt_organization_name\": null, \"route_name\": \"Tulare To Richgrove\", \"cutoff2\": 40, \"cutoff\": 0}, {\"calitp_itp_id\": 346, \"trip_key\": 884156607493867378, \"trip_id\": \"t_500060_b_17398_tn_0\", \"shape_id\": \"p_499954\", \"route_id\": \"12185\", \"service_hours\": 1.18, \"trip_first_departure_ts\": 24300, \"trip_last_arrival_ts\": 28560, \"departure_hour\": 6, \"time_of_day\": \"Owl Service\", \"p25\": 1.1, \"p50\": 1.165, \"p75\": 1.18, \"p50_trip\": 1, \"fastest_trip\": 0, \"car_duration_hours\": 0.65, \"competitive_route\": 1, \"bus_multiplier\": 1.82, \"bus_difference\": 31.8, \"num_trips\": 20, \"num_competitive\": 17, \"pct_trips_competitive\": 0.85, \"bus_difference_spread\": 44.400000000000006, \"route_group\": \"long\", \"max_trip_hrs\": 1.52, \"max_trip_route_group\": 1.52, \"below_cutoff\": 17, \"pct_below_cutoff\": 0.85, \"name\": \"Tulare County Area Transit\", \"caltrans_district\": \"06 - Fresno\", \"drmt_organization_name\": null, \"route_name\": \"Tulare To Richgrove\", \"cutoff2\": 40, \"cutoff\": 0}, {\"calitp_itp_id\": 346, \"trip_key\": 1252710446853905457, \"trip_id\": \"t_500059_b_17398_tn_0\", \"shape_id\": \"p_499954\", \"route_id\": \"12185\", \"service_hours\": 1.18, \"trip_first_departure_ts\": 52620, \"trip_last_arrival_ts\": 56880, \"departure_hour\": 14, \"time_of_day\": \"Midday\", \"p25\": 1.1, \"p50\": 1.165, \"p75\": 1.18, \"p50_trip\": 1, \"fastest_trip\": 0, \"car_duration_hours\": 0.65, \"competitive_route\": 1, \"bus_multiplier\": 1.82, \"bus_difference\": 31.8, \"num_trips\": 20, \"num_competitive\": 17, \"pct_trips_competitive\": 0.85, \"bus_difference_spread\": 44.400000000000006, \"route_group\": \"long\", \"max_trip_hrs\": 1.52, \"max_trip_route_group\": 1.52, \"below_cutoff\": 17, \"pct_below_cutoff\": 0.85, \"name\": \"Tulare County Area Transit\", \"caltrans_district\": \"06 - Fresno\", \"drmt_organization_name\": null, \"route_name\": \"Tulare To Richgrove\", \"cutoff2\": 40, \"cutoff\": 0}, {\"calitp_itp_id\": 346, \"trip_key\": 5252472125846067678, \"trip_id\": \"t_500062_b_17398_tn_0\", \"shape_id\": \"p_499954\", \"route_id\": \"12185\", \"service_hours\": 1.18, \"trip_first_departure_ts\": 60780, \"trip_last_arrival_ts\": 65040, \"departure_hour\": 16, \"time_of_day\": \"Midday\", \"p25\": 1.1, \"p50\": 1.165, \"p75\": 1.18, \"p50_trip\": 1, \"fastest_trip\": 0, \"car_duration_hours\": 0.65, \"competitive_route\": 1, \"bus_multiplier\": 1.82, \"bus_difference\": 31.8, \"num_trips\": 20, \"num_competitive\": 17, \"pct_trips_competitive\": 0.85, \"bus_difference_spread\": 44.400000000000006, \"route_group\": \"long\", \"max_trip_hrs\": 1.52, \"max_trip_route_group\": 1.52, \"below_cutoff\": 17, \"pct_below_cutoff\": 0.85, \"name\": \"Tulare County Area Transit\", \"caltrans_district\": \"06 - Fresno\", \"drmt_organization_name\": null, \"route_name\": \"Tulare To Richgrove\", \"cutoff2\": 40, \"cutoff\": 0}, {\"calitp_itp_id\": 346, \"trip_key\": -2312215827856453063, \"trip_id\": \"t_500065_b_17398_tn_0\", \"shape_id\": \"p_499954\", \"route_id\": \"12185\", \"service_hours\": 1.18, \"trip_first_departure_ts\": 32640, \"trip_last_arrival_ts\": 36900, \"departure_hour\": 9, \"time_of_day\": \"AM Peak\", \"p25\": 1.1, \"p50\": 1.165, \"p75\": 1.18, \"p50_trip\": 1, \"fastest_trip\": 0, \"car_duration_hours\": 0.65, \"competitive_route\": 1, \"bus_multiplier\": 1.82, \"bus_difference\": 31.8, \"num_trips\": 20, \"num_competitive\": 17, \"pct_trips_competitive\": 0.85, \"bus_difference_spread\": 44.400000000000006, \"route_group\": \"long\", \"max_trip_hrs\": 1.52, \"max_trip_route_group\": 1.52, \"below_cutoff\": 17, \"pct_below_cutoff\": 0.85, \"name\": \"Tulare County Area Transit\", \"caltrans_district\": \"06 - Fresno\", \"drmt_organization_name\": null, \"route_name\": \"Tulare To Richgrove\", \"cutoff2\": 40, \"cutoff\": 0}, {\"calitp_itp_id\": 346, \"trip_key\": 4028909976259704930, \"trip_id\": \"t_500064_b_17398_tn_0\", \"shape_id\": \"p_499954\", \"route_id\": \"12185\", \"service_hours\": 1.18, \"trip_first_departure_ts\": 26820, \"trip_last_arrival_ts\": 31080, \"departure_hour\": 7, \"time_of_day\": \"AM Peak\", \"p25\": 1.1, \"p50\": 1.165, \"p75\": 1.18, \"p50_trip\": 1, \"fastest_trip\": 0, \"car_duration_hours\": 0.65, \"competitive_route\": 1, \"bus_multiplier\": 1.82, \"bus_difference\": 31.8, \"num_trips\": 20, \"num_competitive\": 17, \"pct_trips_competitive\": 0.85, \"bus_difference_spread\": 44.400000000000006, \"route_group\": \"long\", \"max_trip_hrs\": 1.52, \"max_trip_route_group\": 1.52, \"below_cutoff\": 17, \"pct_below_cutoff\": 0.85, \"name\": \"Tulare County Area Transit\", \"caltrans_district\": \"06 - Fresno\", \"drmt_organization_name\": null, \"route_name\": \"Tulare To Richgrove\", \"cutoff2\": 40, \"cutoff\": 0}, {\"calitp_itp_id\": 346, \"trip_key\": -3196521619989340594, \"trip_id\": \"t_500061_b_17398_tn_0\", \"shape_id\": \"p_499954\", \"route_id\": \"12185\", \"service_hours\": 1.18, \"trip_first_departure_ts\": 64800, \"trip_last_arrival_ts\": 69060, \"departure_hour\": 18, \"time_of_day\": \"PM Peak\", \"p25\": 1.1, \"p50\": 1.165, \"p75\": 1.18, \"p50_trip\": 1, \"fastest_trip\": 0, \"car_duration_hours\": 0.65, \"competitive_route\": 1, \"bus_multiplier\": 1.82, \"bus_difference\": 31.8, \"num_trips\": 20, \"num_competitive\": 17, \"pct_trips_competitive\": 0.85, \"bus_difference_spread\": 44.400000000000006, \"route_group\": \"long\", \"max_trip_hrs\": 1.52, \"max_trip_route_group\": 1.52, \"below_cutoff\": 17, \"pct_below_cutoff\": 0.85, \"name\": \"Tulare County Area Transit\", \"caltrans_district\": \"06 - Fresno\", \"drmt_organization_name\": null, \"route_name\": \"Tulare To Richgrove\", \"cutoff2\": 40, \"cutoff\": 0}, {\"calitp_itp_id\": 346, \"trip_key\": -8317580468412163354, \"trip_id\": \"t_500071_b_17398_tn_0\", \"shape_id\": \"p_499959\", \"route_id\": \"12185\", \"service_hours\": 1.43, \"trip_first_departure_ts\": 43920, \"trip_last_arrival_ts\": 49080, \"departure_hour\": 12, \"time_of_day\": \"Midday\", \"p25\": 1.1, \"p50\": 1.165, \"p75\": 1.18, \"p50_trip\": 0, \"fastest_trip\": 0, \"car_duration_hours\": 0.65, \"competitive_route\": 1, \"bus_multiplier\": 2.2, \"bus_difference\": 46.8, \"num_trips\": 20, \"num_competitive\": 17, \"pct_trips_competitive\": 0.85, \"bus_difference_spread\": 44.400000000000006, \"route_group\": \"long\", \"max_trip_hrs\": 1.52, \"max_trip_route_group\": 1.52, \"below_cutoff\": 17, \"pct_below_cutoff\": 0.85, \"name\": \"Tulare County Area Transit\", \"caltrans_district\": \"06 - Fresno\", \"drmt_organization_name\": null, \"route_name\": \"Tulare To Richgrove\", \"cutoff2\": 40, \"cutoff\": 0}, {\"calitp_itp_id\": 346, \"trip_key\": 4287662030404221229, \"trip_id\": \"t_499978_b_17398_tn_0\", \"shape_id\": \"p_499929\", \"route_id\": \"12185\", \"service_hours\": 1.52, \"trip_first_departure_ts\": 38460, \"trip_last_arrival_ts\": 43920, \"departure_hour\": 10, \"time_of_day\": \"Midday\", \"p25\": 1.1, \"p50\": 1.165, \"p75\": 1.18, \"p50_trip\": 0, \"fastest_trip\": 0, \"car_duration_hours\": 0.65, \"competitive_route\": 1, \"bus_multiplier\": 2.34, \"bus_difference\": 52.2, \"num_trips\": 20, \"num_competitive\": 17, \"pct_trips_competitive\": 0.85, \"bus_difference_spread\": 44.400000000000006, \"route_group\": \"long\", \"max_trip_hrs\": 1.52, \"max_trip_route_group\": 1.52, \"below_cutoff\": 17, \"pct_below_cutoff\": 0.85, \"name\": \"Tulare County Area Transit\", \"caltrans_district\": \"06 - Fresno\", \"drmt_organization_name\": null, \"route_name\": \"Tulare To Richgrove\", \"cutoff2\": 40, \"cutoff\": 0}, {\"calitp_itp_id\": 346, \"trip_key\": -8834810455370013830, \"trip_id\": \"t_499979_b_17398_tn_0\", \"shape_id\": \"p_499929\", \"route_id\": \"12185\", \"service_hours\": 1.52, \"trip_first_departure_ts\": 49380, \"trip_last_arrival_ts\": 54840, \"departure_hour\": 13, \"time_of_day\": \"Midday\", \"p25\": 1.1, \"p50\": 1.165, \"p75\": 1.18, \"p50_trip\": 0, \"fastest_trip\": 0, \"car_duration_hours\": 0.65, \"competitive_route\": 1, \"bus_multiplier\": 2.34, \"bus_difference\": 52.2, \"num_trips\": 20, \"num_competitive\": 17, \"pct_trips_competitive\": 0.85, \"bus_difference_spread\": 44.400000000000006, \"route_group\": \"long\", \"max_trip_hrs\": 1.52, \"max_trip_route_group\": 1.52, \"below_cutoff\": 17, \"pct_below_cutoff\": 0.85, \"name\": \"Tulare County Area Transit\", \"caltrans_district\": \"06 - Fresno\", \"drmt_organization_name\": null, \"route_name\": \"Tulare To Richgrove\", \"cutoff2\": 40, \"cutoff\": 0}, {\"calitp_itp_id\": 346, \"trip_key\": -8432830587981262233, \"trip_id\": \"t_500032_b_17398_tn_0\", \"shape_id\": \"p_499948\", \"route_id\": \"12187\", \"service_hours\": 0.5, \"trip_first_departure_ts\": 64800, \"trip_last_arrival_ts\": 66600, \"departure_hour\": 18, \"time_of_day\": \"PM Peak\", \"p25\": 0.5, \"p50\": 0.5, \"p75\": 0.5, \"p50_trip\": 1, \"fastest_trip\": 1, \"car_duration_hours\": 0.43, \"competitive_route\": 1, \"bus_multiplier\": 1.16, \"bus_difference\": 4.2, \"num_trips\": 35, \"num_competitive\": 31, \"pct_trips_competitive\": 0.886, \"bus_difference_spread\": 75.0, \"route_group\": \"long\", \"max_trip_hrs\": 1.75, \"max_trip_route_group\": 1.75, \"below_cutoff\": 31, \"pct_below_cutoff\": 0.8857142857142857, \"name\": \"Tulare County Area Transit\", \"caltrans_district\": \"06 - Fresno\", \"drmt_organization_name\": null, \"route_name\": \"Visalia To Woodlake (And Sometimes To Three Rivers)\", \"cutoff2\": 40, \"cutoff\": 0}, {\"calitp_itp_id\": 346, \"trip_key\": 2105157296740736383, \"trip_id\": \"t_500018_b_17398_tn_0\", \"shape_id\": \"p_499948\", \"route_id\": \"12187\", \"service_hours\": 0.5, \"trip_first_departure_ts\": 25500, \"trip_last_arrival_ts\": 27300, \"departure_hour\": 7, \"time_of_day\": \"AM Peak\", \"p25\": 0.5, \"p50\": 0.5, \"p75\": 0.5, \"p50_trip\": 1, \"fastest_trip\": 0, \"car_duration_hours\": 0.43, \"competitive_route\": 1, \"bus_multiplier\": 1.16, \"bus_difference\": 4.2, \"num_trips\": 35, \"num_competitive\": 31, \"pct_trips_competitive\": 0.886, \"bus_difference_spread\": 75.0, \"route_group\": \"long\", \"max_trip_hrs\": 1.75, \"max_trip_route_group\": 1.75, \"below_cutoff\": 31, \"pct_below_cutoff\": 0.8857142857142857, \"name\": \"Tulare County Area Transit\", \"caltrans_district\": \"06 - Fresno\", \"drmt_organization_name\": null, \"route_name\": \"Visalia To Woodlake (And Sometimes To Three Rivers)\", \"cutoff2\": 40, \"cutoff\": 0}, {\"calitp_itp_id\": 346, \"trip_key\": 1177901736673964356, \"trip_id\": \"t_500026_b_17398_tn_0\", \"shape_id\": \"p_499948\", \"route_id\": \"12187\", \"service_hours\": 0.5, \"trip_first_departure_ts\": 29700, \"trip_last_arrival_ts\": 31500, \"departure_hour\": 8, \"time_of_day\": \"AM Peak\", \"p25\": 0.5, \"p50\": 0.5, \"p75\": 0.5, \"p50_trip\": 1, \"fastest_trip\": 0, \"car_duration_hours\": 0.43, \"competitive_route\": 1, \"bus_multiplier\": 1.16, \"bus_difference\": 4.2, \"num_trips\": 35, \"num_competitive\": 31, \"pct_trips_competitive\": 0.886, \"bus_difference_spread\": 75.0, \"route_group\": \"long\", \"max_trip_hrs\": 1.75, \"max_trip_route_group\": 1.75, \"below_cutoff\": 31, \"pct_below_cutoff\": 0.8857142857142857, \"name\": \"Tulare County Area Transit\", \"caltrans_district\": \"06 - Fresno\", \"drmt_organization_name\": null, \"route_name\": \"Visalia To Woodlake (And Sometimes To Three Rivers)\", \"cutoff2\": 40, \"cutoff\": 0}, {\"calitp_itp_id\": 346, \"trip_key\": -7528436072757165176, \"trip_id\": \"t_500101_b_17398_tn_0\", \"shape_id\": \"p_499963\", \"route_id\": \"12187\", \"service_hours\": 0.5, \"trip_first_departure_ts\": 41400, \"trip_last_arrival_ts\": 43200, \"departure_hour\": 11, \"time_of_day\": \"Midday\", \"p25\": 0.5, \"p50\": 0.5, \"p75\": 0.5, \"p50_trip\": 1, \"fastest_trip\": 0, \"car_duration_hours\": 0.43, \"competitive_route\": 1, \"bus_multiplier\": 1.16, \"bus_difference\": 4.2, \"num_trips\": 35, \"num_competitive\": 31, \"pct_trips_competitive\": 0.886, \"bus_difference_spread\": 75.0, \"route_group\": \"long\", \"max_trip_hrs\": 1.75, \"max_trip_route_group\": 1.75, \"below_cutoff\": 31, \"pct_below_cutoff\": 0.8857142857142857, \"name\": \"Tulare County Area Transit\", \"caltrans_district\": \"06 - Fresno\", \"drmt_organization_name\": null, \"route_name\": \"Visalia To Woodlake (And Sometimes To Three Rivers)\", \"cutoff2\": 40, \"cutoff\": 0}, {\"calitp_itp_id\": 346, \"trip_key\": -7942280123417955555, \"trip_id\": \"t_500098_b_17398_tn_0\", \"shape_id\": \"p_499963\", \"route_id\": \"12187\", \"service_hours\": 0.5, \"trip_first_departure_ts\": 29700, \"trip_last_arrival_ts\": 31500, \"departure_hour\": 8, \"time_of_day\": \"AM Peak\", \"p25\": 0.5, \"p50\": 0.5, \"p75\": 0.5, \"p50_trip\": 1, \"fastest_trip\": 0, \"car_duration_hours\": 0.43, \"competitive_route\": 1, \"bus_multiplier\": 1.16, \"bus_difference\": 4.2, \"num_trips\": 35, \"num_competitive\": 31, \"pct_trips_competitive\": 0.886, \"bus_difference_spread\": 75.0, \"route_group\": \"long\", \"max_trip_hrs\": 1.75, \"max_trip_route_group\": 1.75, \"below_cutoff\": 31, \"pct_below_cutoff\": 0.8857142857142857, \"name\": \"Tulare County Area Transit\", \"caltrans_district\": \"06 - Fresno\", \"drmt_organization_name\": null, \"route_name\": \"Visalia To Woodlake (And Sometimes To Three Rivers)\", \"cutoff2\": 40, \"cutoff\": 0}, {\"calitp_itp_id\": 346, \"trip_key\": 5301357823829065525, \"trip_id\": \"t_500025_b_17398_tn_0\", \"shape_id\": \"p_499948\", \"route_id\": \"12187\", \"service_hours\": 0.5, \"trip_first_departure_ts\": 27600, \"trip_last_arrival_ts\": 29400, \"departure_hour\": 7, \"time_of_day\": \"AM Peak\", \"p25\": 0.5, \"p50\": 0.5, \"p75\": 0.5, \"p50_trip\": 1, \"fastest_trip\": 0, \"car_duration_hours\": 0.43, \"competitive_route\": 1, \"bus_multiplier\": 1.16, \"bus_difference\": 4.2, \"num_trips\": 35, \"num_competitive\": 31, \"pct_trips_competitive\": 0.886, \"bus_difference_spread\": 75.0, \"route_group\": \"long\", \"max_trip_hrs\": 1.75, \"max_trip_route_group\": 1.75, \"below_cutoff\": 31, \"pct_below_cutoff\": 0.8857142857142857, \"name\": \"Tulare County Area Transit\", \"caltrans_district\": \"06 - Fresno\", \"drmt_organization_name\": null, \"route_name\": \"Visalia To Woodlake (And Sometimes To Three Rivers)\", \"cutoff2\": 40, \"cutoff\": 0}, {\"calitp_itp_id\": 346, \"trip_key\": -8749661368514629044, \"trip_id\": \"t_500040_b_17398_tn_0\", \"shape_id\": \"p_499948\", \"route_id\": \"12187\", \"service_hours\": 0.5, \"trip_first_departure_ts\": 43500, \"trip_last_arrival_ts\": 45300, \"departure_hour\": 12, \"time_of_day\": \"Midday\", \"p25\": 0.5, \"p50\": 0.5, \"p75\": 0.5, \"p50_trip\": 1, \"fastest_trip\": 0, \"car_duration_hours\": 0.43, \"competitive_route\": 1, \"bus_multiplier\": 1.16, \"bus_difference\": 4.2, \"num_trips\": 35, \"num_competitive\": 31, \"pct_trips_competitive\": 0.886, \"bus_difference_spread\": 75.0, \"route_group\": \"long\", \"max_trip_hrs\": 1.75, \"max_trip_route_group\": 1.75, \"below_cutoff\": 31, \"pct_below_cutoff\": 0.8857142857142857, \"name\": \"Tulare County Area Transit\", \"caltrans_district\": \"06 - Fresno\", \"drmt_organization_name\": null, \"route_name\": \"Visalia To Woodlake (And Sometimes To Three Rivers)\", \"cutoff2\": 40, \"cutoff\": 0}, {\"calitp_itp_id\": 346, \"trip_key\": 3584395481113801201, \"trip_id\": \"t_500027_b_17398_tn_0\", \"shape_id\": \"p_499948\", \"route_id\": \"12187\", \"service_hours\": 0.5, \"trip_first_departure_ts\": 31800, \"trip_last_arrival_ts\": 33600, \"departure_hour\": 8, \"time_of_day\": \"AM Peak\", \"p25\": 0.5, \"p50\": 0.5, \"p75\": 0.5, \"p50_trip\": 1, \"fastest_trip\": 0, \"car_duration_hours\": 0.43, \"competitive_route\": 1, \"bus_multiplier\": 1.16, \"bus_difference\": 4.2, \"num_trips\": 35, \"num_competitive\": 31, \"pct_trips_competitive\": 0.886, \"bus_difference_spread\": 75.0, \"route_group\": \"long\", \"max_trip_hrs\": 1.75, \"max_trip_route_group\": 1.75, \"below_cutoff\": 31, \"pct_below_cutoff\": 0.8857142857142857, \"name\": \"Tulare County Area Transit\", \"caltrans_district\": \"06 - Fresno\", \"drmt_organization_name\": null, \"route_name\": \"Visalia To Woodlake (And Sometimes To Three Rivers)\", \"cutoff2\": 40, \"cutoff\": 0}, {\"calitp_itp_id\": 346, \"trip_key\": 1649991098577311217, \"trip_id\": \"t_500102_b_17398_tn_0\", \"shape_id\": \"p_499963\", \"route_id\": \"12187\", \"service_hours\": 0.5, \"trip_first_departure_ts\": 45600, \"trip_last_arrival_ts\": 47400, \"departure_hour\": 12, \"time_of_day\": \"Midday\", \"p25\": 0.5, \"p50\": 0.5, \"p75\": 0.5, \"p50_trip\": 1, \"fastest_trip\": 0, \"car_duration_hours\": 0.43, \"competitive_route\": 1, \"bus_multiplier\": 1.16, \"bus_difference\": 4.2, \"num_trips\": 35, \"num_competitive\": 31, \"pct_trips_competitive\": 0.886, \"bus_difference_spread\": 75.0, \"route_group\": \"long\", \"max_trip_hrs\": 1.75, \"max_trip_route_group\": 1.75, \"below_cutoff\": 31, \"pct_below_cutoff\": 0.8857142857142857, \"name\": \"Tulare County Area Transit\", \"caltrans_district\": \"06 - Fresno\", \"drmt_organization_name\": null, \"route_name\": \"Visalia To Woodlake (And Sometimes To Three Rivers)\", \"cutoff2\": 40, \"cutoff\": 0}, {\"calitp_itp_id\": 346, \"trip_key\": 5473119264829984541, \"trip_id\": \"t_500107_b_17398_tn_0\", \"shape_id\": \"p_499963\", \"route_id\": \"12187\", \"service_hours\": 0.5, \"trip_first_departure_ts\": 62700, \"trip_last_arrival_ts\": 64500, \"departure_hour\": 17, \"time_of_day\": \"PM Peak\", \"p25\": 0.5, \"p50\": 0.5, \"p75\": 0.5, \"p50_trip\": 1, \"fastest_trip\": 0, \"car_duration_hours\": 0.43, \"competitive_route\": 1, \"bus_multiplier\": 1.16, \"bus_difference\": 4.2, \"num_trips\": 35, \"num_competitive\": 31, \"pct_trips_competitive\": 0.886, \"bus_difference_spread\": 75.0, \"route_group\": \"long\", \"max_trip_hrs\": 1.75, \"max_trip_route_group\": 1.75, \"below_cutoff\": 31, \"pct_below_cutoff\": 0.8857142857142857, \"name\": \"Tulare County Area Transit\", \"caltrans_district\": \"06 - Fresno\", \"drmt_organization_name\": null, \"route_name\": \"Visalia To Woodlake (And Sometimes To Three Rivers)\", \"cutoff2\": 40, \"cutoff\": 0}, {\"calitp_itp_id\": 346, \"trip_key\": -3705973910600368404, \"trip_id\": \"t_500038_b_17398_tn_0\", \"shape_id\": \"p_499948\", \"route_id\": \"12187\", \"service_hours\": 0.5, \"trip_first_departure_ts\": 58200, \"trip_last_arrival_ts\": 60000, \"departure_hour\": 16, \"time_of_day\": \"Midday\", \"p25\": 0.5, \"p50\": 0.5, \"p75\": 0.5, \"p50_trip\": 1, \"fastest_trip\": 0, \"car_duration_hours\": 0.43, \"competitive_route\": 1, \"bus_multiplier\": 1.16, \"bus_difference\": 4.2, \"num_trips\": 35, \"num_competitive\": 31, \"pct_trips_competitive\": 0.886, \"bus_difference_spread\": 75.0, \"route_group\": \"long\", \"max_trip_hrs\": 1.75, \"max_trip_route_group\": 1.75, \"below_cutoff\": 31, \"pct_below_cutoff\": 0.8857142857142857, \"name\": \"Tulare County Area Transit\", \"caltrans_district\": \"06 - Fresno\", \"drmt_organization_name\": null, \"route_name\": \"Visalia To Woodlake (And Sometimes To Three Rivers)\", \"cutoff2\": 40, \"cutoff\": 0}, {\"calitp_itp_id\": 346, \"trip_key\": -8722440282343383904, \"trip_id\": \"t_500039_b_17398_tn_0\", \"shape_id\": \"p_499948\", \"route_id\": \"12187\", \"service_hours\": 0.5, \"trip_first_departure_ts\": 60600, \"trip_last_arrival_ts\": 62400, \"departure_hour\": 16, \"time_of_day\": \"Midday\", \"p25\": 0.5, \"p50\": 0.5, \"p75\": 0.5, \"p50_trip\": 1, \"fastest_trip\": 0, \"car_duration_hours\": 0.43, \"competitive_route\": 1, \"bus_multiplier\": 1.16, \"bus_difference\": 4.2, \"num_trips\": 35, \"num_competitive\": 31, \"pct_trips_competitive\": 0.886, \"bus_difference_spread\": 75.0, \"route_group\": \"long\", \"max_trip_hrs\": 1.75, \"max_trip_route_group\": 1.75, \"below_cutoff\": 31, \"pct_below_cutoff\": 0.8857142857142857, \"name\": \"Tulare County Area Transit\", \"caltrans_district\": \"06 - Fresno\", \"drmt_organization_name\": null, \"route_name\": \"Visalia To Woodlake (And Sometimes To Three Rivers)\", \"cutoff2\": 40, \"cutoff\": 0}, {\"calitp_itp_id\": 346, \"trip_key\": -577210567552791629, \"trip_id\": \"t_500033_b_17398_tn_0\", \"shape_id\": \"p_499948\", \"route_id\": \"12187\", \"service_hours\": 0.5, \"trip_first_departure_ts\": 66900, \"trip_last_arrival_ts\": 68700, \"departure_hour\": 18, \"time_of_day\": \"PM Peak\", \"p25\": 0.5, \"p50\": 0.5, \"p75\": 0.5, \"p50_trip\": 1, \"fastest_trip\": 0, \"car_duration_hours\": 0.43, \"competitive_route\": 1, \"bus_multiplier\": 1.16, \"bus_difference\": 4.2, \"num_trips\": 35, \"num_competitive\": 31, \"pct_trips_competitive\": 0.886, \"bus_difference_spread\": 75.0, \"route_group\": \"long\", \"max_trip_hrs\": 1.75, \"max_trip_route_group\": 1.75, \"below_cutoff\": 31, \"pct_below_cutoff\": 0.8857142857142857, \"name\": \"Tulare County Area Transit\", \"caltrans_district\": \"06 - Fresno\", \"drmt_organization_name\": null, \"route_name\": \"Visalia To Woodlake (And Sometimes To Three Rivers)\", \"cutoff2\": 40, \"cutoff\": 0}, {\"calitp_itp_id\": 346, \"trip_key\": -4970014678345042589, \"trip_id\": \"t_500036_b_17398_tn_0\", \"shape_id\": \"p_499948\", \"route_id\": \"12187\", \"service_hours\": 0.5, \"trip_first_departure_ts\": 51900, \"trip_last_arrival_ts\": 53700, \"departure_hour\": 14, \"time_of_day\": \"Midday\", \"p25\": 0.5, \"p50\": 0.5, \"p75\": 0.5, \"p50_trip\": 1, \"fastest_trip\": 0, \"car_duration_hours\": 0.43, \"competitive_route\": 1, \"bus_multiplier\": 1.16, \"bus_difference\": 4.2, \"num_trips\": 35, \"num_competitive\": 31, \"pct_trips_competitive\": 0.886, \"bus_difference_spread\": 75.0, \"route_group\": \"long\", \"max_trip_hrs\": 1.75, \"max_trip_route_group\": 1.75, \"below_cutoff\": 31, \"pct_below_cutoff\": 0.8857142857142857, \"name\": \"Tulare County Area Transit\", \"caltrans_district\": \"06 - Fresno\", \"drmt_organization_name\": null, \"route_name\": \"Visalia To Woodlake (And Sometimes To Three Rivers)\", \"cutoff2\": 40, \"cutoff\": 0}, {\"calitp_itp_id\": 346, \"trip_key\": -8362027453870517827, \"trip_id\": \"t_500031_b_17398_tn_0\", \"shape_id\": \"p_499948\", \"route_id\": \"12187\", \"service_hours\": 0.5, \"trip_first_departure_ts\": 62700, \"trip_last_arrival_ts\": 64500, \"departure_hour\": 17, \"time_of_day\": \"PM Peak\", \"p25\": 0.5, \"p50\": 0.5, \"p75\": 0.5, \"p50_trip\": 1, \"fastest_trip\": 0, \"car_duration_hours\": 0.43, \"competitive_route\": 1, \"bus_multiplier\": 1.16, \"bus_difference\": 4.2, \"num_trips\": 35, \"num_competitive\": 31, \"pct_trips_competitive\": 0.886, \"bus_difference_spread\": 75.0, \"route_group\": \"long\", \"max_trip_hrs\": 1.75, \"max_trip_route_group\": 1.75, \"below_cutoff\": 31, \"pct_below_cutoff\": 0.8857142857142857, \"name\": \"Tulare County Area Transit\", \"caltrans_district\": \"06 - Fresno\", \"drmt_organization_name\": null, \"route_name\": \"Visalia To Woodlake (And Sometimes To Three Rivers)\", \"cutoff2\": 40, \"cutoff\": 0}, {\"calitp_itp_id\": 346, \"trip_key\": 2662154235925804882, \"trip_id\": \"t_500104_b_17398_tn_0\", \"shape_id\": \"p_499963\", \"route_id\": \"12187\", \"service_hours\": 0.5, \"trip_first_departure_ts\": 49800, \"trip_last_arrival_ts\": 51600, \"departure_hour\": 13, \"time_of_day\": \"Midday\", \"p25\": 0.5, \"p50\": 0.5, \"p75\": 0.5, \"p50_trip\": 1, \"fastest_trip\": 0, \"car_duration_hours\": 0.43, \"competitive_route\": 1, \"bus_multiplier\": 1.16, \"bus_difference\": 4.2, \"num_trips\": 35, \"num_competitive\": 31, \"pct_trips_competitive\": 0.886, \"bus_difference_spread\": 75.0, \"route_group\": \"long\", \"max_trip_hrs\": 1.75, \"max_trip_route_group\": 1.75, \"below_cutoff\": 31, \"pct_below_cutoff\": 0.8857142857142857, \"name\": \"Tulare County Area Transit\", \"caltrans_district\": \"06 - Fresno\", \"drmt_organization_name\": null, \"route_name\": \"Visalia To Woodlake (And Sometimes To Three Rivers)\", \"cutoff2\": 40, \"cutoff\": 0}, {\"calitp_itp_id\": 346, \"trip_key\": -5521688296905674584, \"trip_id\": \"t_500103_b_17398_tn_0\", \"shape_id\": \"p_499963\", \"route_id\": \"12187\", \"service_hours\": 0.5, \"trip_first_departure_ts\": 46800, \"trip_last_arrival_ts\": 48600, \"departure_hour\": 13, \"time_of_day\": \"Midday\", \"p25\": 0.5, \"p50\": 0.5, \"p75\": 0.5, \"p50_trip\": 1, \"fastest_trip\": 0, \"car_duration_hours\": 0.43, \"competitive_route\": 1, \"bus_multiplier\": 1.16, \"bus_difference\": 4.2, \"num_trips\": 35, \"num_competitive\": 31, \"pct_trips_competitive\": 0.886, \"bus_difference_spread\": 75.0, \"route_group\": \"long\", \"max_trip_hrs\": 1.75, \"max_trip_route_group\": 1.75, \"below_cutoff\": 31, \"pct_below_cutoff\": 0.8857142857142857, \"name\": \"Tulare County Area Transit\", \"caltrans_district\": \"06 - Fresno\", \"drmt_organization_name\": null, \"route_name\": \"Visalia To Woodlake (And Sometimes To Three Rivers)\", \"cutoff2\": 40, \"cutoff\": 0}, {\"calitp_itp_id\": 346, \"trip_key\": -8095630384976376612, \"trip_id\": \"t_500100_b_17398_tn_0\", \"shape_id\": \"p_499963\", \"route_id\": \"12187\", \"service_hours\": 0.5, \"trip_first_departure_ts\": 39300, \"trip_last_arrival_ts\": 41100, \"departure_hour\": 10, \"time_of_day\": \"Midday\", \"p25\": 0.5, \"p50\": 0.5, \"p75\": 0.5, \"p50_trip\": 1, \"fastest_trip\": 0, \"car_duration_hours\": 0.43, \"competitive_route\": 1, \"bus_multiplier\": 1.16, \"bus_difference\": 4.2, \"num_trips\": 35, \"num_competitive\": 31, \"pct_trips_competitive\": 0.886, \"bus_difference_spread\": 75.0, \"route_group\": \"long\", \"max_trip_hrs\": 1.75, \"max_trip_route_group\": 1.75, \"below_cutoff\": 31, \"pct_below_cutoff\": 0.8857142857142857, \"name\": \"Tulare County Area Transit\", \"caltrans_district\": \"06 - Fresno\", \"drmt_organization_name\": null, \"route_name\": \"Visalia To Woodlake (And Sometimes To Three Rivers)\", \"cutoff2\": 40, \"cutoff\": 0}, {\"calitp_itp_id\": 346, \"trip_key\": 5219313365488839997, \"trip_id\": \"t_500106_b_17398_tn_0\", \"shape_id\": \"p_499963\", \"route_id\": \"12187\", \"service_hours\": 0.5, \"trip_first_departure_ts\": 58500, \"trip_last_arrival_ts\": 60300, \"departure_hour\": 16, \"time_of_day\": \"Midday\", \"p25\": 0.5, \"p50\": 0.5, \"p75\": 0.5, \"p50_trip\": 1, \"fastest_trip\": 0, \"car_duration_hours\": 0.43, \"competitive_route\": 1, \"bus_multiplier\": 1.16, \"bus_difference\": 4.2, \"num_trips\": 35, \"num_competitive\": 31, \"pct_trips_competitive\": 0.886, \"bus_difference_spread\": 75.0, \"route_group\": \"long\", \"max_trip_hrs\": 1.75, \"max_trip_route_group\": 1.75, \"below_cutoff\": 31, \"pct_below_cutoff\": 0.8857142857142857, \"name\": \"Tulare County Area Transit\", \"caltrans_district\": \"06 - Fresno\", \"drmt_organization_name\": null, \"route_name\": \"Visalia To Woodlake (And Sometimes To Three Rivers)\", \"cutoff2\": 40, \"cutoff\": 0}, {\"calitp_itp_id\": 346, \"trip_key\": 5445266399218648720, \"trip_id\": \"t_500030_b_17398_tn_0\", \"shape_id\": \"p_499948\", \"route_id\": \"12187\", \"service_hours\": 0.5, \"trip_first_departure_ts\": 41400, \"trip_last_arrival_ts\": 43200, \"departure_hour\": 11, \"time_of_day\": \"Midday\", \"p25\": 0.5, \"p50\": 0.5, \"p75\": 0.5, \"p50_trip\": 1, \"fastest_trip\": 0, \"car_duration_hours\": 0.43, \"competitive_route\": 1, \"bus_multiplier\": 1.16, \"bus_difference\": 4.2, \"num_trips\": 35, \"num_competitive\": 31, \"pct_trips_competitive\": 0.886, \"bus_difference_spread\": 75.0, \"route_group\": \"long\", \"max_trip_hrs\": 1.75, \"max_trip_route_group\": 1.75, \"below_cutoff\": 31, \"pct_below_cutoff\": 0.8857142857142857, \"name\": \"Tulare County Area Transit\", \"caltrans_district\": \"06 - Fresno\", \"drmt_organization_name\": null, \"route_name\": \"Visalia To Woodlake (And Sometimes To Three Rivers)\", \"cutoff2\": 40, \"cutoff\": 0}, {\"calitp_itp_id\": 346, \"trip_key\": -4458242953264619027, \"trip_id\": \"t_500108_b_17398_tn_0\", \"shape_id\": \"p_499963\", \"route_id\": \"12187\", \"service_hours\": 0.5, \"trip_first_departure_ts\": 64800, \"trip_last_arrival_ts\": 66600, \"departure_hour\": 18, \"time_of_day\": \"PM Peak\", \"p25\": 0.5, \"p50\": 0.5, \"p75\": 0.5, \"p50_trip\": 1, \"fastest_trip\": 0, \"car_duration_hours\": 0.43, \"competitive_route\": 1, \"bus_multiplier\": 1.16, \"bus_difference\": 4.2, \"num_trips\": 35, \"num_competitive\": 31, \"pct_trips_competitive\": 0.886, \"bus_difference_spread\": 75.0, \"route_group\": \"long\", \"max_trip_hrs\": 1.75, \"max_trip_route_group\": 1.75, \"below_cutoff\": 31, \"pct_below_cutoff\": 0.8857142857142857, \"name\": \"Tulare County Area Transit\", \"caltrans_district\": \"06 - Fresno\", \"drmt_organization_name\": null, \"route_name\": \"Visalia To Woodlake (And Sometimes To Three Rivers)\", \"cutoff2\": 40, \"cutoff\": 0}, {\"calitp_itp_id\": 346, \"trip_key\": 5329013245896550591, \"trip_id\": \"t_500096_b_17398_tn_0\", \"shape_id\": \"p_499963\", \"route_id\": \"12187\", \"service_hours\": 0.5, \"trip_first_departure_ts\": 25500, \"trip_last_arrival_ts\": 27300, \"departure_hour\": 7, \"time_of_day\": \"AM Peak\", \"p25\": 0.5, \"p50\": 0.5, \"p75\": 0.5, \"p50_trip\": 1, \"fastest_trip\": 0, \"car_duration_hours\": 0.43, \"competitive_route\": 1, \"bus_multiplier\": 1.16, \"bus_difference\": 4.2, \"num_trips\": 35, \"num_competitive\": 31, \"pct_trips_competitive\": 0.886, \"bus_difference_spread\": 75.0, \"route_group\": \"long\", \"max_trip_hrs\": 1.75, \"max_trip_route_group\": 1.75, \"below_cutoff\": 31, \"pct_below_cutoff\": 0.8857142857142857, \"name\": \"Tulare County Area Transit\", \"caltrans_district\": \"06 - Fresno\", \"drmt_organization_name\": null, \"route_name\": \"Visalia To Woodlake (And Sometimes To Three Rivers)\", \"cutoff2\": 40, \"cutoff\": 0}, {\"calitp_itp_id\": 346, \"trip_key\": 1625272561138410195, \"trip_id\": \"t_814003_b_17398_tn_0\", \"shape_id\": \"p_499948\", \"route_id\": \"12187\", \"service_hours\": 0.5, \"trip_first_departure_ts\": 37200, \"trip_last_arrival_ts\": 39000, \"departure_hour\": 10, \"time_of_day\": \"Midday\", \"p25\": 0.5, \"p50\": 0.5, \"p75\": 0.5, \"p50_trip\": 1, \"fastest_trip\": 0, \"car_duration_hours\": 0.43, \"competitive_route\": 1, \"bus_multiplier\": 1.16, \"bus_difference\": 4.2, \"num_trips\": 35, \"num_competitive\": 31, \"pct_trips_competitive\": 0.886, \"bus_difference_spread\": 75.0, \"route_group\": \"long\", \"max_trip_hrs\": 1.75, \"max_trip_route_group\": 1.75, \"below_cutoff\": 31, \"pct_below_cutoff\": 0.8857142857142857, \"name\": \"Tulare County Area Transit\", \"caltrans_district\": \"06 - Fresno\", \"drmt_organization_name\": null, \"route_name\": \"Visalia To Woodlake (And Sometimes To Three Rivers)\", \"cutoff2\": 40, \"cutoff\": 0}, {\"calitp_itp_id\": 346, \"trip_key\": -5565090890552336788, \"trip_id\": \"t_500034_b_17398_tn_0\", \"shape_id\": \"p_499948\", \"route_id\": \"12187\", \"service_hours\": 0.5, \"trip_first_departure_ts\": 47700, \"trip_last_arrival_ts\": 49500, \"departure_hour\": 13, \"time_of_day\": \"Midday\", \"p25\": 0.5, \"p50\": 0.5, \"p75\": 0.5, \"p50_trip\": 1, \"fastest_trip\": 0, \"car_duration_hours\": 0.43, \"competitive_route\": 1, \"bus_multiplier\": 1.16, \"bus_difference\": 4.2, \"num_trips\": 35, \"num_competitive\": 31, \"pct_trips_competitive\": 0.886, \"bus_difference_spread\": 75.0, \"route_group\": \"long\", \"max_trip_hrs\": 1.75, \"max_trip_route_group\": 1.75, \"below_cutoff\": 31, \"pct_below_cutoff\": 0.8857142857142857, \"name\": \"Tulare County Area Transit\", \"caltrans_district\": \"06 - Fresno\", \"drmt_organization_name\": null, \"route_name\": \"Visalia To Woodlake (And Sometimes To Three Rivers)\", \"cutoff2\": 40, \"cutoff\": 0}, {\"calitp_itp_id\": 346, \"trip_key\": 2415741356440030567, \"trip_id\": \"t_500035_b_17398_tn_0\", \"shape_id\": \"p_499948\", \"route_id\": \"12187\", \"service_hours\": 0.5, \"trip_first_departure_ts\": 48900, \"trip_last_arrival_ts\": 50700, \"departure_hour\": 13, \"time_of_day\": \"Midday\", \"p25\": 0.5, \"p50\": 0.5, \"p75\": 0.5, \"p50_trip\": 1, \"fastest_trip\": 0, \"car_duration_hours\": 0.43, \"competitive_route\": 1, \"bus_multiplier\": 1.16, \"bus_difference\": 4.2, \"num_trips\": 35, \"num_competitive\": 31, \"pct_trips_competitive\": 0.886, \"bus_difference_spread\": 75.0, \"route_group\": \"long\", \"max_trip_hrs\": 1.75, \"max_trip_route_group\": 1.75, \"below_cutoff\": 31, \"pct_below_cutoff\": 0.8857142857142857, \"name\": \"Tulare County Area Transit\", \"caltrans_district\": \"06 - Fresno\", \"drmt_organization_name\": null, \"route_name\": \"Visalia To Woodlake (And Sometimes To Three Rivers)\", \"cutoff2\": 40, \"cutoff\": 0}, {\"calitp_itp_id\": 346, \"trip_key\": 3269186138341439741, \"trip_id\": \"t_500097_b_17398_tn_0\", \"shape_id\": \"p_499963\", \"route_id\": \"12187\", \"service_hours\": 0.5, \"trip_first_departure_ts\": 27600, \"trip_last_arrival_ts\": 29400, \"departure_hour\": 7, \"time_of_day\": \"AM Peak\", \"p25\": 0.5, \"p50\": 0.5, \"p75\": 0.5, \"p50_trip\": 1, \"fastest_trip\": 0, \"car_duration_hours\": 0.43, \"competitive_route\": 1, \"bus_multiplier\": 1.16, \"bus_difference\": 4.2, \"num_trips\": 35, \"num_competitive\": 31, \"pct_trips_competitive\": 0.886, \"bus_difference_spread\": 75.0, \"route_group\": \"long\", \"max_trip_hrs\": 1.75, \"max_trip_route_group\": 1.75, \"below_cutoff\": 31, \"pct_below_cutoff\": 0.8857142857142857, \"name\": \"Tulare County Area Transit\", \"caltrans_district\": \"06 - Fresno\", \"drmt_organization_name\": null, \"route_name\": \"Visalia To Woodlake (And Sometimes To Three Rivers)\", \"cutoff2\": 40, \"cutoff\": 0}, {\"calitp_itp_id\": 346, \"trip_key\": 484918781909703366, \"trip_id\": \"t_500099_b_17398_tn_0\", \"shape_id\": \"p_499963\", \"route_id\": \"12187\", \"service_hours\": 0.5, \"trip_first_departure_ts\": 33900, \"trip_last_arrival_ts\": 35700, \"departure_hour\": 9, \"time_of_day\": \"AM Peak\", \"p25\": 0.5, \"p50\": 0.5, \"p75\": 0.5, \"p50_trip\": 1, \"fastest_trip\": 0, \"car_duration_hours\": 0.43, \"competitive_route\": 1, \"bus_multiplier\": 1.16, \"bus_difference\": 4.2, \"num_trips\": 35, \"num_competitive\": 31, \"pct_trips_competitive\": 0.886, \"bus_difference_spread\": 75.0, \"route_group\": \"long\", \"max_trip_hrs\": 1.75, \"max_trip_route_group\": 1.75, \"below_cutoff\": 31, \"pct_below_cutoff\": 0.8857142857142857, \"name\": \"Tulare County Area Transit\", \"caltrans_district\": \"06 - Fresno\", \"drmt_organization_name\": null, \"route_name\": \"Visalia To Woodlake (And Sometimes To Three Rivers)\", \"cutoff2\": 40, \"cutoff\": 0}, {\"calitp_itp_id\": 346, \"trip_key\": 4142938409753614336, \"trip_id\": \"t_814005_b_17398_tn_0\", \"shape_id\": \"p_499948\", \"route_id\": \"12187\", \"service_hours\": 0.5, \"trip_first_departure_ts\": 56400, \"trip_last_arrival_ts\": 58200, \"departure_hour\": 15, \"time_of_day\": \"Midday\", \"p25\": 0.5, \"p50\": 0.5, \"p75\": 0.5, \"p50_trip\": 1, \"fastest_trip\": 0, \"car_duration_hours\": 0.43, \"competitive_route\": 1, \"bus_multiplier\": 1.16, \"bus_difference\": 4.2, \"num_trips\": 35, \"num_competitive\": 31, \"pct_trips_competitive\": 0.886, \"bus_difference_spread\": 75.0, \"route_group\": \"long\", \"max_trip_hrs\": 1.75, \"max_trip_route_group\": 1.75, \"below_cutoff\": 31, \"pct_below_cutoff\": 0.8857142857142857, \"name\": \"Tulare County Area Transit\", \"caltrans_district\": \"06 - Fresno\", \"drmt_organization_name\": null, \"route_name\": \"Visalia To Woodlake (And Sometimes To Three Rivers)\", \"cutoff2\": 40, \"cutoff\": 0}, {\"calitp_itp_id\": 346, \"trip_key\": 5910837833767519635, \"trip_id\": \"t_500105_b_17398_tn_0\", \"shape_id\": \"p_499963\", \"route_id\": \"12187\", \"service_hours\": 0.5, \"trip_first_departure_ts\": 56100, \"trip_last_arrival_ts\": 57900, \"departure_hour\": 15, \"time_of_day\": \"Midday\", \"p25\": 0.5, \"p50\": 0.5, \"p75\": 0.5, \"p50_trip\": 1, \"fastest_trip\": 0, \"car_duration_hours\": 0.43, \"competitive_route\": 1, \"bus_multiplier\": 1.16, \"bus_difference\": 4.2, \"num_trips\": 35, \"num_competitive\": 31, \"pct_trips_competitive\": 0.886, \"bus_difference_spread\": 75.0, \"route_group\": \"long\", \"max_trip_hrs\": 1.75, \"max_trip_route_group\": 1.75, \"below_cutoff\": 31, \"pct_below_cutoff\": 0.8857142857142857, \"name\": \"Tulare County Area Transit\", \"caltrans_district\": \"06 - Fresno\", \"drmt_organization_name\": null, \"route_name\": \"Visalia To Woodlake (And Sometimes To Three Rivers)\", \"cutoff2\": 40, \"cutoff\": 0}, {\"calitp_itp_id\": 346, \"trip_key\": 2313036954112041700, \"trip_id\": \"t_500028_b_17398_tn_0\", \"shape_id\": \"p_499948\", \"route_id\": \"12187\", \"service_hours\": 0.5, \"trip_first_departure_ts\": 36000, \"trip_last_arrival_ts\": 37800, \"departure_hour\": 10, \"time_of_day\": \"Midday\", \"p25\": 0.5, \"p50\": 0.5, \"p75\": 0.5, \"p50_trip\": 1, \"fastest_trip\": 0, \"car_duration_hours\": 0.43, \"competitive_route\": 1, \"bus_multiplier\": 1.16, \"bus_difference\": 4.2, \"num_trips\": 35, \"num_competitive\": 31, \"pct_trips_competitive\": 0.886, \"bus_difference_spread\": 75.0, \"route_group\": \"long\", \"max_trip_hrs\": 1.75, \"max_trip_route_group\": 1.75, \"below_cutoff\": 31, \"pct_below_cutoff\": 0.8857142857142857, \"name\": \"Tulare County Area Transit\", \"caltrans_district\": \"06 - Fresno\", \"drmt_organization_name\": null, \"route_name\": \"Visalia To Woodlake (And Sometimes To Three Rivers)\", \"cutoff2\": 40, \"cutoff\": 0}, {\"calitp_itp_id\": 346, \"trip_key\": -7850320173875327827, \"trip_id\": \"t_500109_b_17398_tn_0\", \"shape_id\": \"p_499963\", \"route_id\": \"12187\", \"service_hours\": 0.58, \"trip_first_departure_ts\": 60300, \"trip_last_arrival_ts\": 62400, \"departure_hour\": 16, \"time_of_day\": \"Midday\", \"p25\": 0.5, \"p50\": 0.5, \"p75\": 0.5, \"p50_trip\": 0, \"fastest_trip\": 0, \"car_duration_hours\": 0.43, \"competitive_route\": 1, \"bus_multiplier\": 1.35, \"bus_difference\": 9.0, \"num_trips\": 35, \"num_competitive\": 31, \"pct_trips_competitive\": 0.886, \"bus_difference_spread\": 75.0, \"route_group\": \"long\", \"max_trip_hrs\": 1.75, \"max_trip_route_group\": 1.75, \"below_cutoff\": 31, \"pct_below_cutoff\": 0.8857142857142857, \"name\": \"Tulare County Area Transit\", \"caltrans_district\": \"06 - Fresno\", \"drmt_organization_name\": null, \"route_name\": \"Visalia To Woodlake (And Sometimes To Three Rivers)\", \"cutoff2\": 40, \"cutoff\": 0}, {\"calitp_itp_id\": 346, \"trip_key\": -8208579256527534209, \"trip_id\": \"t_499989_b_17398_tn_0\", \"shape_id\": \"p_499934\", \"route_id\": \"12187\", \"service_hours\": 1.5, \"trip_first_departure_ts\": 31800, \"trip_last_arrival_ts\": 37200, \"departure_hour\": 8, \"time_of_day\": \"AM Peak\", \"p25\": 0.5, \"p50\": 0.5, \"p75\": 0.5, \"p50_trip\": 0, \"fastest_trip\": 0, \"car_duration_hours\": 0.43, \"competitive_route\": 1, \"bus_multiplier\": 3.49, \"bus_difference\": 64.2, \"num_trips\": 35, \"num_competitive\": 31, \"pct_trips_competitive\": 0.886, \"bus_difference_spread\": 75.0, \"route_group\": \"long\", \"max_trip_hrs\": 1.75, \"max_trip_route_group\": 1.75, \"below_cutoff\": 31, \"pct_below_cutoff\": 0.8857142857142857, \"name\": \"Tulare County Area Transit\", \"caltrans_district\": \"06 - Fresno\", \"drmt_organization_name\": null, \"route_name\": \"Visalia To Woodlake (And Sometimes To Three Rivers)\", \"cutoff2\": 40, \"cutoff\": 0}, {\"calitp_itp_id\": 346, \"trip_key\": -8963389994411961672, \"trip_id\": \"t_499990_b_17398_tn_0\", \"shape_id\": \"p_499934\", \"route_id\": \"12187\", \"service_hours\": 1.5, \"trip_first_departure_ts\": 51000, \"trip_last_arrival_ts\": 56400, \"departure_hour\": 14, \"time_of_day\": \"Midday\", \"p25\": 0.5, \"p50\": 0.5, \"p75\": 0.5, \"p50_trip\": 0, \"fastest_trip\": 0, \"car_duration_hours\": 0.43, \"competitive_route\": 1, \"bus_multiplier\": 3.49, \"bus_difference\": 64.2, \"num_trips\": 35, \"num_competitive\": 31, \"pct_trips_competitive\": 0.886, \"bus_difference_spread\": 75.0, \"route_group\": \"long\", \"max_trip_hrs\": 1.75, \"max_trip_route_group\": 1.75, \"below_cutoff\": 31, \"pct_below_cutoff\": 0.8857142857142857, \"name\": \"Tulare County Area Transit\", \"caltrans_district\": \"06 - Fresno\", \"drmt_organization_name\": null, \"route_name\": \"Visalia To Woodlake (And Sometimes To Three Rivers)\", \"cutoff2\": 40, \"cutoff\": 0}, {\"calitp_itp_id\": 346, \"trip_key\": 3799018733880058923, \"trip_id\": \"t_500068_b_17398_tn_0\", \"shape_id\": \"p_499956\", \"route_id\": \"12187\", \"service_hours\": 1.67, \"trip_first_departure_ts\": 66900, \"trip_last_arrival_ts\": 72900, \"departure_hour\": 18, \"time_of_day\": \"PM Peak\", \"p25\": 0.5, \"p50\": 0.5, \"p75\": 0.5, \"p50_trip\": 0, \"fastest_trip\": 0, \"car_duration_hours\": 0.43, \"competitive_route\": 1, \"bus_multiplier\": 3.88, \"bus_difference\": 74.4, \"num_trips\": 35, \"num_competitive\": 31, \"pct_trips_competitive\": 0.886, \"bus_difference_spread\": 75.0, \"route_group\": \"long\", \"max_trip_hrs\": 1.75, \"max_trip_route_group\": 1.75, \"below_cutoff\": 31, \"pct_below_cutoff\": 0.8857142857142857, \"name\": \"Tulare County Area Transit\", \"caltrans_district\": \"06 - Fresno\", \"drmt_organization_name\": null, \"route_name\": \"Visalia To Woodlake (And Sometimes To Three Rivers)\", \"cutoff2\": 40, \"cutoff\": 0}, {\"calitp_itp_id\": 346, \"trip_key\": 2862620654904119796, \"trip_id\": \"t_499993_b_17398_tn_0\", \"shape_id\": \"p_499937\", \"route_id\": \"12187\", \"service_hours\": 1.75, \"trip_first_departure_ts\": 18900, \"trip_last_arrival_ts\": 25200, \"departure_hour\": 5, \"time_of_day\": \"Owl Service\", \"p25\": 0.5, \"p50\": 0.5, \"p75\": 0.5, \"p50_trip\": 0, \"fastest_trip\": 0, \"car_duration_hours\": 0.43, \"competitive_route\": 1, \"bus_multiplier\": 4.07, \"bus_difference\": 79.2, \"num_trips\": 35, \"num_competitive\": 31, \"pct_trips_competitive\": 0.886, \"bus_difference_spread\": 75.0, \"route_group\": \"long\", \"max_trip_hrs\": 1.75, \"max_trip_route_group\": 1.75, \"below_cutoff\": 31, \"pct_below_cutoff\": 0.8857142857142857, \"name\": \"Tulare County Area Transit\", \"caltrans_district\": \"06 - Fresno\", \"drmt_organization_name\": null, \"route_name\": \"Visalia To Woodlake (And Sometimes To Three Rivers)\", \"cutoff2\": 40, \"cutoff\": 0}]}}, {\"mode\": \"vega-lite\"});\n",
       "</script>"
      ],
      "text/plain": [
       "alt.FacetChart(...)"
      ]
     },
     "metadata": {},
     "output_type": "display_data"
    },
    {
     "data": {
      "text/html": [
       "<h4>Route Stats</h4>"
      ],
      "text/plain": [
       "<IPython.core.display.HTML object>"
      ]
     },
     "metadata": {},
     "output_type": "display_data"
    },
    {
     "data": {
      "text/html": [
       "<style type=\"text/css\">\n",
       "#T_02488 th {\n",
       "  text-align: center;\n",
       "}\n",
       "#T_02488_row0_col0, #T_02488_row0_col1, #T_02488_row1_col0, #T_02488_row1_col1 {\n",
       "  text-align: left;\n",
       "}\n",
       "#T_02488_row0_col2, #T_02488_row0_col3, #T_02488_row0_col5, #T_02488_row1_col2, #T_02488_row1_col3, #T_02488_row1_col5 {\n",
       "  text-align: center;\n",
       "}\n",
       "</style>\n",
       "<table id=\"T_02488\">\n",
       "  <thead>\n",
       "    <tr>\n",
       "      <th id=\"T_02488_level0_col0\" class=\"col_heading level0 col0\" >Route ID</th>\n",
       "      <th id=\"T_02488_level0_col1\" class=\"col_heading level0 col1\" >Route Name</th>\n",
       "      <th id=\"T_02488_level0_col2\" class=\"col_heading level0 col2\" ># trips</th>\n",
       "      <th id=\"T_02488_level0_col3\" class=\"col_heading level0 col3\" >Daily Avg Freq (trips per hr)</th>\n",
       "      <th id=\"T_02488_level0_col4\" class=\"col_heading level0 col4\" >25th, 50th, 75th ptile (hrs)</th>\n",
       "      <th id=\"T_02488_level0_col5\" class=\"col_heading level0 col5\" >PM Peak Avg Freq (trips per hr)</th>\n",
       "    </tr>\n",
       "  </thead>\n",
       "  <tbody>\n",
       "    <tr>\n",
       "      <td id=\"T_02488_row0_col0\" class=\"data row0 col0\" >12187</td>\n",
       "      <td id=\"T_02488_row0_col1\" class=\"data row0 col1\" >Visalia To Woodlake (And Sometimes To Three Rivers)</td>\n",
       "      <td id=\"T_02488_row0_col2\" class=\"data row0 col2\" >35</td>\n",
       "      <td id=\"T_02488_row0_col3\" class=\"data row0 col3\" >1.46</td>\n",
       "      <td id=\"T_02488_row0_col4\" class=\"data row0 col4\" >0.5, 0.5, 0.5</td>\n",
       "      <td id=\"T_02488_row0_col5\" class=\"data row0 col5\" >2.0</td>\n",
       "    </tr>\n",
       "    <tr>\n",
       "      <td id=\"T_02488_row1_col0\" class=\"data row1 col0\" >12185</td>\n",
       "      <td id=\"T_02488_row1_col1\" class=\"data row1 col1\" >Tulare To Richgrove</td>\n",
       "      <td id=\"T_02488_row1_col2\" class=\"data row1 col2\" >20</td>\n",
       "      <td id=\"T_02488_row1_col3\" class=\"data row1 col3\" >0.83</td>\n",
       "      <td id=\"T_02488_row1_col4\" class=\"data row1 col4\" >1.1, 1.16, 1.18</td>\n",
       "      <td id=\"T_02488_row1_col5\" class=\"data row1 col5\" >1.0</td>\n",
       "    </tr>\n",
       "  </tbody>\n",
       "</table>\n"
      ],
      "text/plain": [
       "<IPython.core.display.HTML object>"
      ]
     },
     "metadata": {},
     "output_type": "display_data"
    }
   ],
   "source": [
    "route_group = \"long\"\n",
    "try:\n",
    "    display_charts_for_route_group(df, route_group)\n",
    "except:\n",
    "    print(\"No routes meet this criteria.\")"
   ]
  },
  {
   "cell_type": "markdown",
   "id": "ace75b5f-0442-4fbe-aebd-6c3a13ae13a7",
   "metadata": {
    "papermill": {
     "duration": 0.027547,
     "end_time": "2022-05-12T02:17:40.792312",
     "exception": false,
     "start_time": "2022-05-12T02:17:40.764765",
     "status": "completed"
    },
    "tags": []
   },
   "source": [
    "### GTFS Real-Time Speedmaps"
   ]
  },
  {
   "cell_type": "code",
   "execution_count": 17,
   "id": "a0a114a1-e975-4027-9daf-50029f5ef59f",
   "metadata": {
    "execution": {
     "iopub.execute_input": "2022-05-12T02:17:40.840321Z",
     "iopub.status.busy": "2022-05-12T02:17:40.839509Z",
     "iopub.status.idle": "2022-05-12T02:17:40.861761Z",
     "shell.execute_reply": "2022-05-12T02:17:40.861105Z"
    },
    "jupyter": {
     "source_hidden": true
    },
    "papermill": {
     "duration": 0.047936,
     "end_time": "2022-05-12T02:17:40.863619",
     "exception": false,
     "start_time": "2022-05-12T02:17:40.815683",
     "status": "completed"
    },
    "tags": [
     "remove_input"
    ]
   },
   "outputs": [
    {
     "data": {
      "text/html": [
       "No GTFS RT data available."
      ],
      "text/plain": [
       "<IPython.core.display.HTML object>"
      ]
     },
     "metadata": {},
     "output_type": "display_data"
    }
   ],
   "source": [
    "RT_SITE_YAML = \"../portfolio/sites/rt.yml\"\n",
    "\n",
    "# Grab list of ITP IDs with GTFS RT speedmaps\n",
    "rt_itp_id = deploy_portfolio_yaml.check_if_rt_data_available(RT_SITE_YAML)\n",
    "\n",
    "# Construct the URL \n",
    "RT_URL = (\"https://analysis.calitp.org/rt/\"\n",
    "          f\"district_{district_number}-{district_name}/\"\n",
    "          f\"speedmaps__itp_id_{itp_id}.html\"\n",
    "         ) \n",
    "\n",
    "# If this ITP ID is found in RT analysis, give URL to that operator in analysis.calitp.org\n",
    "if itp_id in rt_itp_id:\n",
    "    display(HTML(f'''<a href={RT_URL}>GTFS RT speedmaps here.</a>'''))\n",
    "\n",
    "else:\n",
    "    display(HTML(\"No GTFS RT data available.\"))"
   ]
  },
  {
   "cell_type": "code",
   "execution_count": null,
   "id": "5b680565-2230-4f2e-817c-718fad48d64c",
   "metadata": {
    "jupyter": {
     "source_hidden": true
    },
    "papermill": {
     "duration": 0.023691,
     "end_time": "2022-05-12T02:17:40.916547",
     "exception": false,
     "start_time": "2022-05-12T02:17:40.892856",
     "status": "completed"
    },
    "tags": [
     "remove_input"
    ]
   },
   "outputs": [],
   "source": []
  }
 ],
 "metadata": {
  "kernelspec": {
   "display_name": "Python 3 (ipykernel)",
   "language": "python",
   "name": "python3"
  },
  "language_info": {
   "codemirror_mode": {
    "name": "ipython",
    "version": 3
   },
   "file_extension": ".py",
   "mimetype": "text/x-python",
   "name": "python",
   "nbconvert_exporter": "python",
   "pygments_lexer": "ipython3",
   "version": "3.9.12"
  },
  "papermill": {
   "default_parameters": {},
   "duration": 24.006824,
   "end_time": "2022-05-12T02:17:42.162670",
   "environment_variables": {},
   "exception": null,
   "input_path": "bus_service_increase/competitive-parallel-routes.ipynb",
   "output_path": "portfolio/parallel_corridors/district_06-fresno/8__competitive-parallel-routes__district_06-fresno__itp_id_346.ipynb",
   "parameters": {
    "district": "06 - Fresno",
    "itp_id": 346
   },
   "start_time": "2022-05-12T02:17:18.155846",
   "version": "2.3.4"
  }
 },
 "nbformat": 4,
 "nbformat_minor": 5
}