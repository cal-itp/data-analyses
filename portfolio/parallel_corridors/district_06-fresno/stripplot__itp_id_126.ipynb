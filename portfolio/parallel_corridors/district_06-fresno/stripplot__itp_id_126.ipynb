{
 "cells": [
  {
   "cell_type": "code",
   "execution_count": 1,
   "id": "95d00857-6a20-4529-a519-2cc7182928a9",
   "metadata": {
    "execution": {
     "iopub.execute_input": "2022-05-07T17:14:36.355177Z",
     "iopub.status.busy": "2022-05-07T17:14:36.354569Z",
     "iopub.status.idle": "2022-05-07T17:14:44.518646Z",
     "shell.execute_reply": "2022-05-07T17:14:44.517734Z"
    },
    "jupyter": {
     "source_hidden": true
    },
    "papermill": {
     "duration": 8.179384,
     "end_time": "2022-05-07T17:14:44.521656",
     "exception": false,
     "start_time": "2022-05-07T17:14:36.342272",
     "status": "completed"
    },
    "tags": [
     "remove_input"
    ]
   },
   "outputs": [],
   "source": [
    "%%capture\n",
    "import warnings\n",
    "warnings.filterwarnings('ignore')\n",
    "\n",
    "import altair as alt\n",
    "import calitp.magics\n",
    "import geopandas as gpd\n",
    "import intake\n",
    "import pandas as pd\n",
    "\n",
    "from IPython.display import display, Markdown, HTML\n",
    "\n",
    "import parallel_corridors_utils\n",
    "from shared_utils import styleguide\n",
    "\n",
    "catalog = intake.open_catalog(\"./*.yml\")\n",
    "alt.renderers.enable(\"html\")"
   ]
  },
  {
   "cell_type": "code",
   "execution_count": 2,
   "id": "8af2a0c1-f3da-408d-9bea-11d9fbf8695d",
   "metadata": {
    "execution": {
     "iopub.execute_input": "2022-05-07T17:14:44.544098Z",
     "iopub.status.busy": "2022-05-07T17:14:44.543666Z",
     "iopub.status.idle": "2022-05-07T17:14:44.547616Z",
     "shell.execute_reply": "2022-05-07T17:14:44.546822Z"
    },
    "jupyter": {
     "source_hidden": true
    },
    "papermill": {
     "duration": 0.017396,
     "end_time": "2022-05-07T17:14:44.549991",
     "exception": false,
     "start_time": "2022-05-07T17:14:44.532595",
     "status": "completed"
    },
    "tags": [
     "parameters",
     "remove_input"
    ]
   },
   "outputs": [],
   "source": [
    "# parameters cell\n",
    "itp_id = 182"
   ]
  },
  {
   "cell_type": "code",
   "execution_count": 3,
   "id": "445e8a95",
   "metadata": {
    "execution": {
     "iopub.execute_input": "2022-05-07T17:14:44.570295Z",
     "iopub.status.busy": "2022-05-07T17:14:44.570026Z",
     "iopub.status.idle": "2022-05-07T17:14:44.574214Z",
     "shell.execute_reply": "2022-05-07T17:14:44.573236Z"
    },
    "jupyter": {
     "source_hidden": true
    },
    "papermill": {
     "duration": 0.017086,
     "end_time": "2022-05-07T17:14:44.576339",
     "exception": false,
     "start_time": "2022-05-07T17:14:44.559253",
     "status": "completed"
    },
    "tags": [
     "injected-parameters",
     "remove_input"
    ]
   },
   "outputs": [],
   "source": [
    "# Parameters\n",
    "district = \"06 - Fresno\"\n",
    "itp_id = 126\n"
   ]
  },
  {
   "cell_type": "code",
   "execution_count": 4,
   "id": "9582aaf4-79ff-412a-b248-8d8d693ebd4f",
   "metadata": {
    "execution": {
     "iopub.execute_input": "2022-05-07T17:14:44.597190Z",
     "iopub.status.busy": "2022-05-07T17:14:44.596957Z",
     "iopub.status.idle": "2022-05-07T17:14:45.814103Z",
     "shell.execute_reply": "2022-05-07T17:14:45.813103Z"
    },
    "jupyter": {
     "source_hidden": true
    },
    "papermill": {
     "duration": 1.230759,
     "end_time": "2022-05-07T17:14:45.816620",
     "exception": false,
     "start_time": "2022-05-07T17:14:44.585861",
     "status": "completed"
    },
    "tags": [
     "remove_input"
    ]
   },
   "outputs": [],
   "source": [
    "df = catalog.competitive_route_variability.read()\n",
    "\n",
    "df = (df[(df.calitp_itp_id == itp_id) & \n",
    "         (df.route_group.notna())]\n",
    "      .reset_index(drop=True)\n",
    "     )\n",
    "\n",
    "\n",
    "if itp_id == 182:\n",
    "    df = df.assign(\n",
    "        route_id = df.route_id.str.replace('-13153', '').astype(int)\n",
    "    )"
   ]
  },
  {
   "cell_type": "code",
   "execution_count": 5,
   "id": "33ac4b06-f647-4dce-a625-8f2c1b37cc60",
   "metadata": {
    "execution": {
     "iopub.execute_input": "2022-05-07T17:14:45.838839Z",
     "iopub.status.busy": "2022-05-07T17:14:45.838579Z",
     "iopub.status.idle": "2022-05-07T17:14:45.844519Z",
     "shell.execute_reply": "2022-05-07T17:14:45.843575Z"
    },
    "jupyter": {
     "source_hidden": true
    },
    "papermill": {
     "duration": 0.019817,
     "end_time": "2022-05-07T17:14:45.847311",
     "exception": false,
     "start_time": "2022-05-07T17:14:45.827494",
     "status": "completed"
    },
    "tags": [
     "remove_input"
    ]
   },
   "outputs": [],
   "source": [
    "%%capture_parameters\n",
    "operator_name = df.name.iloc[0]\n",
    "\n",
    "itp_id, operator_name"
   ]
  },
  {
   "cell_type": "markdown",
   "id": "65bc6f5c-8348-42ee-b2dd-52057c406852",
   "metadata": {
    "papermill": {
     "duration": 0.009675,
     "end_time": "2022-05-07T17:14:45.866862",
     "exception": false,
     "start_time": "2022-05-07T17:14:45.857187",
     "status": "completed"
    },
    "tags": []
   },
   "source": [
    "# Golden Empire Transit District (ITP ID: 126)"
   ]
  },
  {
   "cell_type": "code",
   "execution_count": 6,
   "id": "a689c1ab-2c6c-4831-8d64-897f5986f571",
   "metadata": {
    "execution": {
     "iopub.execute_input": "2022-05-07T17:14:45.889341Z",
     "iopub.status.busy": "2022-05-07T17:14:45.889080Z",
     "iopub.status.idle": "2022-05-07T17:14:45.895353Z",
     "shell.execute_reply": "2022-05-07T17:14:45.894595Z"
    },
    "jupyter": {
     "source_hidden": true
    },
    "papermill": {
     "duration": 0.020018,
     "end_time": "2022-05-07T17:14:45.896913",
     "exception": false,
     "start_time": "2022-05-07T17:14:45.876895",
     "status": "completed"
    },
    "tags": [
     "remove_input"
    ]
   },
   "outputs": [
    {
     "data": {
      "text/html": [
       "<h1>Competitive & Parallel Routes</h1>"
      ],
      "text/plain": [
       "<IPython.core.display.HTML object>"
      ]
     },
     "metadata": {},
     "output_type": "display_data"
    }
   ],
   "source": [
    "display(HTML(\"<h1>Competitive & Parallel Routes</h1>\")) "
   ]
  },
  {
   "cell_type": "code",
   "execution_count": 7,
   "id": "2cb4d8d5-4760-40e4-85b1-cb833d8bb648",
   "metadata": {
    "execution": {
     "iopub.execute_input": "2022-05-07T17:14:45.924122Z",
     "iopub.status.busy": "2022-05-07T17:14:45.923184Z",
     "iopub.status.idle": "2022-05-07T17:14:56.179566Z",
     "shell.execute_reply": "2022-05-07T17:14:56.178707Z"
    },
    "jupyter": {
     "source_hidden": true
    },
    "papermill": {
     "duration": 10.270749,
     "end_time": "2022-05-07T17:14:56.182148",
     "exception": false,
     "start_time": "2022-05-07T17:14:45.911399",
     "status": "completed"
    },
    "tags": [
     "remove_input"
    ]
   },
   "outputs": [],
   "source": [
    "# Grab parameters for narrative text - clean up formatting here \n",
    "district = df.caltrans_district.iloc[0]\n",
    "formatted_date = pd.to_datetime(parallel_corridors_utils.SELECTED_DATE).strftime('%m-%d-%Y')\n",
    "\n",
    "PCT_COMPETITIVE_THRESHOLD = 0.75\n",
    "\n",
    "stats = parallel_corridors_utils.operator_parallel_competitive_stats(\n",
    "    itp_id, PCT_COMPETITIVE_THRESHOLD)\n",
    "\n",
    "pct_parallel = round(stats['parallel_routes'] / stats['num_routes'] * 100,1 )\n",
    "pct_competitive =  round(stats['competitive_routes'] / stats['num_routes'] * 100,1 )"
   ]
  },
  {
   "cell_type": "markdown",
   "id": "ab667928-5274-4490-82d9-4c39293209a4",
   "metadata": {
    "papermill": {
     "duration": 0.0106,
     "end_time": "2022-05-07T17:14:56.204297",
     "exception": false,
     "start_time": "2022-05-07T17:14:56.193697",
     "status": "completed"
    },
    "tags": []
   },
   "source": [
    "## Quick Stats"
   ]
  },
  {
   "cell_type": "code",
   "execution_count": 8,
   "id": "0416509d-dc62-4165-b62e-64f8b26e8b8e",
   "metadata": {
    "execution": {
     "iopub.execute_input": "2022-05-07T17:14:56.227837Z",
     "iopub.status.busy": "2022-05-07T17:14:56.227561Z",
     "iopub.status.idle": "2022-05-07T17:14:56.234934Z",
     "shell.execute_reply": "2022-05-07T17:14:56.234436Z"
    },
    "jupyter": {
     "source_hidden": true
    },
    "papermill": {
     "duration": 0.021098,
     "end_time": "2022-05-07T17:14:56.236515",
     "exception": false,
     "start_time": "2022-05-07T17:14:56.215417",
     "status": "completed"
    },
    "tags": [
     "remove_input"
    ]
   },
   "outputs": [
    {
     "data": {
      "text/markdown": [
       "**Bus routes in service**: 16 <br>**Parallel routes** to State Highway Network (SHN): 8 routes (50.0%)<br>**Competitive routes** against car travel: 3 routes (18.8%)"
      ],
      "text/plain": [
       "<IPython.core.display.Markdown object>"
      ]
     },
     "metadata": {},
     "output_type": "display_data"
    }
   ],
   "source": [
    "display(\n",
    "    Markdown(\n",
    "        f\"**Bus routes in service**: {stats['num_routes']} \"\n",
    "        \"<br>**Parallel routes** to State Highway Network (SHN): \"\n",
    "        f\"{stats['parallel_routes']} routes ({pct_parallel}%)\"\n",
    "        f\"<br>**Competitive routes** against car travel: {stats['competitive_routes']} routes ({pct_competitive}%)\"\n",
    "    )\n",
    ")"
   ]
  },
  {
   "cell_type": "code",
   "execution_count": 9,
   "id": "f9d6ab58-f0ee-460c-b6de-657490e1f386",
   "metadata": {
    "execution": {
     "iopub.execute_input": "2022-05-07T17:14:56.260809Z",
     "iopub.status.busy": "2022-05-07T17:14:56.260023Z",
     "iopub.status.idle": "2022-05-07T17:14:56.269727Z",
     "shell.execute_reply": "2022-05-07T17:14:56.268916Z"
    },
    "jupyter": {
     "source_hidden": true
    },
    "papermill": {
     "duration": 0.02345,
     "end_time": "2022-05-07T17:14:56.271432",
     "exception": false,
     "start_time": "2022-05-07T17:14:56.247982",
     "status": "completed"
    },
    "tags": [
     "remove_input"
    ]
   },
   "outputs": [],
   "source": [
    "def set_yaxis_range(df, y_col):\n",
    "    Y_MIN = df[y_col].min()\n",
    "    Y_MAX = df[y_col].max()\n",
    "    \n",
    "    return Y_MIN, Y_MAX\n",
    "\n",
    "# Rather than set it according to the operator, which can vary,\n",
    "# just use set thresholds for each group\n",
    "diff_cutoffs = {\n",
    "    \"short\": 20,\n",
    "    \"medium\": 30,\n",
    "    \"long\": 40,\n",
    "}\n",
    "\n",
    "PCT_TRIPS_BELOW_CUTOFF = 0.25\n",
    "\n",
    "def top15_routes(df, route_group):\n",
    "    df2 = (df[df.route_group==route_group])\n",
    "    # Set a cut-off to enable sorting, where most of the trips are \n",
    "    # below a certain time difference cut-off, \n",
    "    # grab top 15 routes where majority of trips are below that cut-off \n",
    "\n",
    "    route_cols = [\"calitp_itp_id\", \"route_id\"]\n",
    "\n",
    "    df2 = df2.assign(\n",
    "        below_cutoff = df2.apply(lambda x: 1 if x.bus_difference <= diff_cutoffs[route_group] \n",
    "                                 else 0, axis=1),\n",
    "        num_trips = df2.groupby(route_cols)[\"trip_id\"].transform(\"count\")\n",
    "    )\n",
    "\n",
    "    df2[\"below_cutoff\"] = df2.groupby(route_cols)[\"below_cutoff\"].transform(\"sum\")\n",
    "    df2[\"pct_below_cutoff\"] = df2.below_cutoff.divide(df2.num_trips)\n",
    "\n",
    "    # At least half the trips are below that cut-off\n",
    "    # but show 15 max, otherwise, show less, since these won't be as interesting to operators\n",
    "    df3 = (df2[df2.pct_below_cutoff >= PCT_TRIPS_BELOW_CUTOFF]\n",
    "           .sort_values([\"calitp_itp_id\", \"below_cutoff\", \n",
    "                         \"pct_below_cutoff\", \"route_id\"],\n",
    "                        ascending = [True, False, False, True]\n",
    "                       )\n",
    "           .drop_duplicates(subset=[\"calitp_itp_id\", \"route_id\"])\n",
    "          ).head(15)\n",
    "    \n",
    "    return list(df3.route_id)"
   ]
  },
  {
   "cell_type": "code",
   "execution_count": 10,
   "id": "cf36d559-3349-4144-8086-8ac9ce937a5a",
   "metadata": {
    "execution": {
     "iopub.execute_input": "2022-05-07T17:14:56.295135Z",
     "iopub.status.busy": "2022-05-07T17:14:56.294888Z",
     "iopub.status.idle": "2022-05-07T17:14:56.301281Z",
     "shell.execute_reply": "2022-05-07T17:14:56.299214Z"
    },
    "jupyter": {
     "source_hidden": true
    },
    "papermill": {
     "duration": 0.020717,
     "end_time": "2022-05-07T17:14:56.303413",
     "exception": false,
     "start_time": "2022-05-07T17:14:56.282696",
     "status": "completed"
    },
    "tags": [
     "remove_input"
    ]
   },
   "outputs": [],
   "source": [
    "short_caption = (\n",
    "    f\"<br>These are routes that have at least {int(PCT_TRIPS_BELOW_CUTOFF*100)}% of their trips \"\n",
    "    f\"take no more than an additional {diff_cutoffs['short']} min compared to a car \"\n",
    "    \"(up to 15 routes) are shown.\"\n",
    ")\n",
    "\n",
    "med_caption = (\n",
    "    f\"<br>These are routes that have at least {int(PCT_TRIPS_BELOW_CUTOFF*100)}% of their trips \"\n",
    "    f\"take no more than an additional {diff_cutoffs['medium']} min compared to a car \"\n",
    "    \"(up to 15 routes) are shown.\"\n",
    ")\n",
    "\n",
    "long_caption = (\n",
    "    f\"<br>These are routes that have at least {int(PCT_TRIPS_BELOW_CUTOFF*100)}% of their trips \"\n",
    "    f\"take no more than an additional {diff_cutoffs['long']} min compared to a car \"\n",
    "    \"(up to 15 routes) are shown.\")\n",
    "\n",
    "\n",
    "CAPTIONS_DICT = {\n",
    "    \"short\": short_caption,\n",
    "    \"medium\": med_caption,\n",
    "    \"long\": long_caption,\n",
    "}"
   ]
  },
  {
   "cell_type": "code",
   "execution_count": 11,
   "id": "e4306d58-6944-47e9-afef-5d5b524c751f",
   "metadata": {
    "execution": {
     "iopub.execute_input": "2022-05-07T17:14:56.332794Z",
     "iopub.status.busy": "2022-05-07T17:14:56.332350Z",
     "iopub.status.idle": "2022-05-07T17:14:56.339057Z",
     "shell.execute_reply": "2022-05-07T17:14:56.338133Z"
    },
    "jupyter": {
     "source_hidden": true
    },
    "papermill": {
     "duration": 0.021392,
     "end_time": "2022-05-07T17:14:56.341022",
     "exception": false,
     "start_time": "2022-05-07T17:14:56.319630",
     "status": "completed"
    },
    "tags": [
     "remove_input"
    ]
   },
   "outputs": [],
   "source": [
    "def setup_charts(df, PCT_COMPETITIVE_THRESHOLD, route_group):\n",
    "    # Set up df for charting (cut-off at some threshold to show most competitive routes)\n",
    "    plot_me = (df[df.pct_trips_competitive > PCT_COMPETITIVE_THRESHOLD]\n",
    "           .drop(columns = \"geometry\")\n",
    "    )\n",
    "    \n",
    "    y_col1 = \"bus_multiplier\"\n",
    "    Y_MIN1, Y_MAX1 = set_yaxis_range(plot_me, y_col1)\n",
    "\n",
    "    y_col2 = \"bus_difference\"\n",
    "    Y_MIN2, Y_MAX2 = set_yaxis_range(plot_me, y_col2)\n",
    "     \n",
    "    subset_routes = top15_routes(plot_me, route_group)\n",
    "    \n",
    "    multiplier_chart = parallel_corridors_utils.make_stripplot(\n",
    "        plot_me[plot_me.route_id.isin(subset_routes)], \n",
    "        y_col1, Y_MIN = Y_MIN1, Y_MAX = Y_MAX1\n",
    "    )\n",
    "    \n",
    "    difference_chart = parallel_corridors_utils.make_stripplot(\n",
    "        plot_me[plot_me.route_id.isin(subset_routes)], \n",
    "        y_col2, Y_MIN = Y_MIN2, Y_MAX = Y_MAX2\n",
    "    )\n",
    "    \n",
    "    return subset_routes, multiplier_chart, difference_chart            "
   ]
  },
  {
   "cell_type": "markdown",
   "id": "525f9b38-072b-46d1-96a8-1aa4b038357c",
   "metadata": {
    "papermill": {
     "duration": 0.011236,
     "end_time": "2022-05-07T17:14:56.363452",
     "exception": false,
     "start_time": "2022-05-07T17:14:56.352216",
     "status": "completed"
    },
    "tags": []
   },
   "source": [
    "## Viable Competitive Routes\n",
    "### Short Routes (< 1 hr)"
   ]
  },
  {
   "cell_type": "code",
   "execution_count": 12,
   "id": "57f7084c-2cf7-45c6-ba08-1609e0bd6ca5",
   "metadata": {
    "execution": {
     "iopub.execute_input": "2022-05-07T17:14:56.387880Z",
     "iopub.status.busy": "2022-05-07T17:14:56.387597Z",
     "iopub.status.idle": "2022-05-07T17:14:56.419263Z",
     "shell.execute_reply": "2022-05-07T17:14:56.418316Z"
    },
    "jupyter": {
     "source_hidden": true
    },
    "papermill": {
     "duration": 0.046039,
     "end_time": "2022-05-07T17:14:56.421104",
     "exception": false,
     "start_time": "2022-05-07T17:14:56.375065",
     "status": "completed"
    },
    "tags": [
     "remove_input"
    ]
   },
   "outputs": [
    {
     "name": "stdout",
     "output_type": "stream",
     "text": [
      "No routes meet this criteria.\n"
     ]
    }
   ],
   "source": [
    "# Allow for possibility that operator doesn't have routes that fall into certain route_groups\n",
    "# But, jupyterbook will not like markdown with f-string\n",
    "# separate out route_group and put in each cell, and use try/except + if to display...\n",
    "# but all 3 route groups must be displayed. just add sentence about why no routes were returned at the end\n",
    "route_group = \"short\"\n",
    "try:\n",
    "    subset_routes, mult, diff  = setup_charts(df, PCT_COMPETITIVE_THRESHOLD, route_group)\n",
    "    \n",
    "    if len(subset_routes) > 0:\n",
    "        display(\n",
    "            Markdown(\n",
    "                f\"{CAPTIONS_DICT[route_group]}\"\n",
    "                \"Within each route group, routes are sorted in descending order \"\n",
    "                \"by % competitive trips and # trips below the additional time cut-off.\"\n",
    "            )\n",
    "        )\n",
    "\n",
    "        display(mult)\n",
    "        display(diff)\n",
    "except:\n",
    "    print(\"No routes meet this criteria.\")"
   ]
  },
  {
   "cell_type": "markdown",
   "id": "c2931b6f-034d-4384-9e14-80b925e3b820",
   "metadata": {
    "papermill": {
     "duration": 0.011821,
     "end_time": "2022-05-07T17:14:56.444790",
     "exception": false,
     "start_time": "2022-05-07T17:14:56.432969",
     "status": "completed"
    },
    "tags": []
   },
   "source": [
    "### Medium Routes (1-1.5 hrs)"
   ]
  },
  {
   "cell_type": "code",
   "execution_count": 13,
   "id": "480edddc-4de0-48c2-ae4c-b0ceef8f28b5",
   "metadata": {
    "execution": {
     "iopub.execute_input": "2022-05-07T17:14:56.470811Z",
     "iopub.status.busy": "2022-05-07T17:14:56.470526Z",
     "iopub.status.idle": "2022-05-07T17:14:56.715089Z",
     "shell.execute_reply": "2022-05-07T17:14:56.714300Z"
    },
    "jupyter": {
     "source_hidden": true
    },
    "papermill": {
     "duration": 0.259858,
     "end_time": "2022-05-07T17:14:56.717201",
     "exception": false,
     "start_time": "2022-05-07T17:14:56.457343",
     "status": "completed"
    },
    "tags": [
     "remove_input"
    ]
   },
   "outputs": [
    {
     "data": {
      "text/markdown": [
       "<br>These are routes that have at least 25% of their trips take no more than an additional 30 min compared to a car (up to 15 routes) are shown.Within each route group, routes are sorted in descending order by % competitive trips and # trips below the additional time cut-off."
      ],
      "text/plain": [
       "<IPython.core.display.Markdown object>"
      ]
     },
     "metadata": {},
     "output_type": "display_data"
    },
    {
     "data": {
      "text/html": [
       "\n",
       "<div id=\"altair-viz-3d69efe2dd4d472c839493b22f56f992\"></div>\n",
       "<script type=\"text/javascript\">\n",
       "  var VEGA_DEBUG = (typeof VEGA_DEBUG == \"undefined\") ? {} : VEGA_DEBUG;\n",
       "  (function(spec, embedOpt){\n",
       "    let outputDiv = document.currentScript.previousElementSibling;\n",
       "    if (outputDiv.id !== \"altair-viz-3d69efe2dd4d472c839493b22f56f992\") {\n",
       "      outputDiv = document.getElementById(\"altair-viz-3d69efe2dd4d472c839493b22f56f992\");\n",
       "    }\n",
       "    const paths = {\n",
       "      \"vega\": \"https://cdn.jsdelivr.net/npm//vega@5?noext\",\n",
       "      \"vega-lib\": \"https://cdn.jsdelivr.net/npm//vega-lib?noext\",\n",
       "      \"vega-lite\": \"https://cdn.jsdelivr.net/npm//vega-lite@4.17.0?noext\",\n",
       "      \"vega-embed\": \"https://cdn.jsdelivr.net/npm//vega-embed@6?noext\",\n",
       "    };\n",
       "\n",
       "    function maybeLoadScript(lib, version) {\n",
       "      var key = `${lib.replace(\"-\", \"\")}_version`;\n",
       "      return (VEGA_DEBUG[key] == version) ?\n",
       "        Promise.resolve(paths[lib]) :\n",
       "        new Promise(function(resolve, reject) {\n",
       "          var s = document.createElement('script');\n",
       "          document.getElementsByTagName(\"head\")[0].appendChild(s);\n",
       "          s.async = true;\n",
       "          s.onload = () => {\n",
       "            VEGA_DEBUG[key] = version;\n",
       "            return resolve(paths[lib]);\n",
       "          };\n",
       "          s.onerror = () => reject(`Error loading script: ${paths[lib]}`);\n",
       "          s.src = paths[lib];\n",
       "        });\n",
       "    }\n",
       "\n",
       "    function showError(err) {\n",
       "      outputDiv.innerHTML = `<div class=\"error\" style=\"color:red;\">${err}</div>`;\n",
       "      throw err;\n",
       "    }\n",
       "\n",
       "    function displayChart(vegaEmbed) {\n",
       "      vegaEmbed(outputDiv, spec, embedOpt)\n",
       "        .catch(err => showError(`Javascript Error: ${err.message}<br>This usually means there's a typo in your chart specification. See the javascript console for the full traceback.`));\n",
       "    }\n",
       "\n",
       "    if(typeof define === \"function\" && define.amd) {\n",
       "      requirejs.config({paths});\n",
       "      require([\"vega-embed\"], displayChart, err => showError(`Error loading script: ${err.message}`));\n",
       "    } else {\n",
       "      maybeLoadScript(\"vega\", \"5\")\n",
       "        .then(() => maybeLoadScript(\"vega-lite\", \"4.17.0\"))\n",
       "        .then(() => maybeLoadScript(\"vega-embed\", \"6\"))\n",
       "        .catch(showError)\n",
       "        .then(() => displayChart(vegaEmbed));\n",
       "    }\n",
       "  })({\"config\": {\"view\": {\"continuousWidth\": 400, \"continuousHeight\": 300, \"stroke\": null}, \"facet\": {\"spacing\": 0}}, \"data\": {\"name\": \"data-e3a203613e6f03f9b1020e975f023285\"}, \"facet\": {\"column\": {\"field\": \"route_id\", \"sort\": [\"62\"], \"title\": \"Route ID\", \"type\": \"nominal\"}}, \"spec\": {\"layer\": [{\"mark\": {\"type\": \"point\", \"opacity\": 0.65, \"size\": 12, \"strokeWidth\": 1.1}, \"encoding\": {\"color\": {\"field\": \"time_of_day\", \"scale\": {\"range\": [\"#136C97\", \"#E16B26\", \"#F6BF16\", \"#00896B\", \"#7790A3\", \"#5B559C\"]}, \"sort\": [\"AM Peak\", \"Midday\", \"PM Peak\", \"Owl Service\"], \"title\": \"Time of Day\", \"type\": \"nominal\"}, \"tooltip\": [{\"field\": \"route_id\", \"type\": \"nominal\"}, {\"field\": \"trip_id\", \"type\": \"nominal\"}, {\"field\": \"service_hours\", \"type\": \"quantitative\"}, {\"field\": \"car_duration_hours\", \"type\": \"quantitative\"}, {\"field\": \"bus_multiplier\", \"type\": \"quantitative\"}, {\"field\": \"bus_difference\", \"type\": \"quantitative\"}, {\"field\": \"num_trips\", \"type\": \"quantitative\"}, {\"field\": \"num_competitive\", \"type\": \"quantitative\"}, {\"field\": \"pct_trips_competitive\", \"type\": \"quantitative\"}, {\"field\": \"p25\", \"type\": \"quantitative\"}, {\"field\": \"p50\", \"type\": \"quantitative\"}, {\"field\": \"p75\", \"type\": \"quantitative\"}], \"x\": {\"axis\": {\"grid\": false, \"labels\": false, \"ticks\": true, \"values\": [0]}, \"field\": \"jitter\", \"scale\": {}, \"title\": null, \"type\": \"quantitative\"}, \"y\": {\"field\": \"bus_multiplier\", \"scale\": {\"domain\": [-0.25, 2.5]}, \"title\": \"Ratio of Bus to Car Travel Time\", \"type\": \"quantitative\"}}, \"selection\": {\"selector001\": {\"type\": \"interval\", \"bind\": \"scales\", \"encodings\": [\"x\", \"y\"]}}, \"transform\": [{\"calculate\": \"sqrt(-2*log(random()))*cos(2*PI*random())\", \"as\": \"jitter\"}], \"width\": 60}, {\"layer\": [{\"mark\": {\"type\": \"point\", \"opacity\": 0.6, \"size\": 20, \"strokeWidth\": 1.3}, \"encoding\": {\"color\": {\"value\": \"#323434\"}, \"y\": {\"field\": \"bus_multiplier\", \"type\": \"quantitative\"}}, \"transform\": [{\"filter\": \"(datum.p50_trip === 1)\"}]}, {\"mark\": {\"type\": \"rule\", \"strokeDash\": [2, 3]}, \"encoding\": {\"color\": {\"value\": \"#323434\"}, \"y\": {\"field\": \"cutoff\", \"type\": \"quantitative\"}}}, {\"mark\": {\"type\": \"text\", \"align\": \"center\", \"baseline\": \"middle\"}, \"encoding\": {\"color\": {\"value\": \"black\"}, \"text\": {\"field\": \"pct_trips_competitive\", \"format\": \".0%\", \"type\": \"quantitative\"}, \"tooltip\": [{\"field\": \"route_id\", \"type\": \"nominal\"}, {\"field\": \"trip_id\", \"type\": \"nominal\"}, {\"field\": \"service_hours\", \"type\": \"quantitative\"}, {\"field\": \"car_duration_hours\", \"type\": \"quantitative\"}, {\"field\": \"bus_multiplier\", \"type\": \"quantitative\"}, {\"field\": \"bus_difference\", \"type\": \"quantitative\"}, {\"field\": \"num_trips\", \"type\": \"quantitative\"}, {\"field\": \"num_competitive\", \"type\": \"quantitative\"}, {\"field\": \"pct_trips_competitive\", \"type\": \"quantitative\"}, {\"field\": \"p25\", \"type\": \"quantitative\"}, {\"field\": \"p50\", \"type\": \"quantitative\"}, {\"field\": \"p75\", \"type\": \"quantitative\"}], \"x\": {\"value\": 30}, \"y\": {\"value\": 15}}, \"transform\": [{\"calculate\": \"sqrt(-2*log(random()))*cos(2*PI*random())\", \"as\": \"jitter\"}, {\"filter\": \"(datum.fastest_trip === 1)\"}]}]}]}, \"resolve\": {\"scale\": {\"y\": \"shared\"}}, \"title\": \"Ratio of Bus to Car Travel Time\", \"$schema\": \"https://vega.github.io/schema/vega-lite/v4.17.0.json\", \"datasets\": {\"data-e3a203613e6f03f9b1020e975f023285\": [{\"calitp_itp_id\": 126, \"trip_key\": 5364581721970226587, \"trip_id\": \"1986\", \"shape_id\": \"56\", \"route_id\": \"62\", \"service_hours\": 0.92, \"trip_first_departure_ts\": 46800, \"trip_last_arrival_ts\": 50100, \"departure_hour\": 13, \"time_of_day\": \"Midday\", \"p25\": 0.92, \"p50\": 0.96, \"p75\": 1.08, \"p50_trip\": 1, \"fastest_trip\": 0, \"car_duration_hours\": 0.57, \"competitive_route\": 1, \"bus_multiplier\": 1.61, \"bus_difference\": 21.0, \"num_trips\": 24, \"num_competitive\": 24, \"pct_trips_competitive\": 1.0, \"bus_difference_spread\": 9.6, \"route_group\": \"medium\", \"max_trip_hrs\": 1.08, \"max_trip_route_group\": 1.28, \"name\": \"Golden Empire Transit District\", \"caltrans_district\": \"06 - Fresno\", \"drmt_organization_name\": null, \"cutoff2\": 19.2, \"cutoff\": 2}, {\"calitp_itp_id\": 126, \"trip_key\": -8824272478545795224, \"trip_id\": \"1985\", \"shape_id\": \"56\", \"route_id\": \"62\", \"service_hours\": 0.92, \"trip_first_departure_ts\": 43200, \"trip_last_arrival_ts\": 46500, \"departure_hour\": 12, \"time_of_day\": \"Midday\", \"p25\": 0.92, \"p50\": 0.96, \"p75\": 1.08, \"p50_trip\": 1, \"fastest_trip\": 0, \"car_duration_hours\": 0.57, \"competitive_route\": 1, \"bus_multiplier\": 1.61, \"bus_difference\": 21.0, \"num_trips\": 24, \"num_competitive\": 24, \"pct_trips_competitive\": 1.0, \"bus_difference_spread\": 9.6, \"route_group\": \"medium\", \"max_trip_hrs\": 1.08, \"max_trip_route_group\": 1.28, \"name\": \"Golden Empire Transit District\", \"caltrans_district\": \"06 - Fresno\", \"drmt_organization_name\": null, \"cutoff2\": 19.2, \"cutoff\": 2}, {\"calitp_itp_id\": 126, \"trip_key\": -5765002440222693223, \"trip_id\": \"1987\", \"shape_id\": \"56\", \"route_id\": \"62\", \"service_hours\": 0.92, \"trip_first_departure_ts\": 50400, \"trip_last_arrival_ts\": 53700, \"departure_hour\": 14, \"time_of_day\": \"Midday\", \"p25\": 0.92, \"p50\": 0.96, \"p75\": 1.08, \"p50_trip\": 1, \"fastest_trip\": 0, \"car_duration_hours\": 0.57, \"competitive_route\": 1, \"bus_multiplier\": 1.61, \"bus_difference\": 21.0, \"num_trips\": 24, \"num_competitive\": 24, \"pct_trips_competitive\": 1.0, \"bus_difference_spread\": 9.6, \"route_group\": \"medium\", \"max_trip_hrs\": 1.08, \"max_trip_route_group\": 1.28, \"name\": \"Golden Empire Transit District\", \"caltrans_district\": \"06 - Fresno\", \"drmt_organization_name\": null, \"cutoff2\": 19.2, \"cutoff\": 2}, {\"calitp_itp_id\": 126, \"trip_key\": -4121532990600785286, \"trip_id\": \"1982\", \"shape_id\": \"56\", \"route_id\": \"62\", \"service_hours\": 0.92, \"trip_first_departure_ts\": 32400, \"trip_last_arrival_ts\": 35700, \"departure_hour\": 9, \"time_of_day\": \"AM Peak\", \"p25\": 0.92, \"p50\": 0.96, \"p75\": 1.08, \"p50_trip\": 1, \"fastest_trip\": 0, \"car_duration_hours\": 0.57, \"competitive_route\": 1, \"bus_multiplier\": 1.61, \"bus_difference\": 21.0, \"num_trips\": 24, \"num_competitive\": 24, \"pct_trips_competitive\": 1.0, \"bus_difference_spread\": 9.6, \"route_group\": \"medium\", \"max_trip_hrs\": 1.08, \"max_trip_route_group\": 1.28, \"name\": \"Golden Empire Transit District\", \"caltrans_district\": \"06 - Fresno\", \"drmt_organization_name\": null, \"cutoff2\": 19.2, \"cutoff\": 2}, {\"calitp_itp_id\": 126, \"trip_key\": -8159425626889087600, \"trip_id\": \"1980\", \"shape_id\": \"56\", \"route_id\": \"62\", \"service_hours\": 0.92, \"trip_first_departure_ts\": 25200, \"trip_last_arrival_ts\": 28500, \"departure_hour\": 7, \"time_of_day\": \"AM Peak\", \"p25\": 0.92, \"p50\": 0.96, \"p75\": 1.08, \"p50_trip\": 1, \"fastest_trip\": 0, \"car_duration_hours\": 0.57, \"competitive_route\": 1, \"bus_multiplier\": 1.61, \"bus_difference\": 21.0, \"num_trips\": 24, \"num_competitive\": 24, \"pct_trips_competitive\": 1.0, \"bus_difference_spread\": 9.6, \"route_group\": \"medium\", \"max_trip_hrs\": 1.08, \"max_trip_route_group\": 1.28, \"name\": \"Golden Empire Transit District\", \"caltrans_district\": \"06 - Fresno\", \"drmt_organization_name\": null, \"cutoff2\": 19.2, \"cutoff\": 2}, {\"calitp_itp_id\": 126, \"trip_key\": -857406301910668562, \"trip_id\": \"1981\", \"shape_id\": \"56\", \"route_id\": \"62\", \"service_hours\": 0.92, \"trip_first_departure_ts\": 28800, \"trip_last_arrival_ts\": 32100, \"departure_hour\": 8, \"time_of_day\": \"AM Peak\", \"p25\": 0.92, \"p50\": 0.96, \"p75\": 1.08, \"p50_trip\": 1, \"fastest_trip\": 0, \"car_duration_hours\": 0.57, \"competitive_route\": 1, \"bus_multiplier\": 1.61, \"bus_difference\": 21.0, \"num_trips\": 24, \"num_competitive\": 24, \"pct_trips_competitive\": 1.0, \"bus_difference_spread\": 9.6, \"route_group\": \"medium\", \"max_trip_hrs\": 1.08, \"max_trip_route_group\": 1.28, \"name\": \"Golden Empire Transit District\", \"caltrans_district\": \"06 - Fresno\", \"drmt_organization_name\": null, \"cutoff2\": 19.2, \"cutoff\": 2}, {\"calitp_itp_id\": 126, \"trip_key\": -5968553136652973486, \"trip_id\": \"1984\", \"shape_id\": \"56\", \"route_id\": \"62\", \"service_hours\": 0.92, \"trip_first_departure_ts\": 39600, \"trip_last_arrival_ts\": 42900, \"departure_hour\": 11, \"time_of_day\": \"Midday\", \"p25\": 0.92, \"p50\": 0.96, \"p75\": 1.08, \"p50_trip\": 1, \"fastest_trip\": 0, \"car_duration_hours\": 0.57, \"competitive_route\": 1, \"bus_multiplier\": 1.61, \"bus_difference\": 21.0, \"num_trips\": 24, \"num_competitive\": 24, \"pct_trips_competitive\": 1.0, \"bus_difference_spread\": 9.6, \"route_group\": \"medium\", \"max_trip_hrs\": 1.08, \"max_trip_route_group\": 1.28, \"name\": \"Golden Empire Transit District\", \"caltrans_district\": \"06 - Fresno\", \"drmt_organization_name\": null, \"cutoff2\": 19.2, \"cutoff\": 2}, {\"calitp_itp_id\": 126, \"trip_key\": 1525772625152661822, \"trip_id\": \"1988\", \"shape_id\": \"56\", \"route_id\": \"62\", \"service_hours\": 0.92, \"trip_first_departure_ts\": 54000, \"trip_last_arrival_ts\": 57300, \"departure_hour\": 15, \"time_of_day\": \"Midday\", \"p25\": 0.92, \"p50\": 0.96, \"p75\": 1.08, \"p50_trip\": 1, \"fastest_trip\": 0, \"car_duration_hours\": 0.57, \"competitive_route\": 1, \"bus_multiplier\": 1.61, \"bus_difference\": 21.0, \"num_trips\": 24, \"num_competitive\": 24, \"pct_trips_competitive\": 1.0, \"bus_difference_spread\": 9.6, \"route_group\": \"medium\", \"max_trip_hrs\": 1.08, \"max_trip_route_group\": 1.28, \"name\": \"Golden Empire Transit District\", \"caltrans_district\": \"06 - Fresno\", \"drmt_organization_name\": null, \"cutoff2\": 19.2, \"cutoff\": 2}, {\"calitp_itp_id\": 126, \"trip_key\": 1784598322346742404, \"trip_id\": \"1991\", \"shape_id\": \"56\", \"route_id\": \"62\", \"service_hours\": 0.92, \"trip_first_departure_ts\": 64800, \"trip_last_arrival_ts\": 68100, \"departure_hour\": 18, \"time_of_day\": \"PM Peak\", \"p25\": 0.92, \"p50\": 0.96, \"p75\": 1.08, \"p50_trip\": 1, \"fastest_trip\": 1, \"car_duration_hours\": 0.57, \"competitive_route\": 1, \"bus_multiplier\": 1.61, \"bus_difference\": 21.0, \"num_trips\": 24, \"num_competitive\": 24, \"pct_trips_competitive\": 1.0, \"bus_difference_spread\": 9.6, \"route_group\": \"medium\", \"max_trip_hrs\": 1.08, \"max_trip_route_group\": 1.28, \"name\": \"Golden Empire Transit District\", \"caltrans_district\": \"06 - Fresno\", \"drmt_organization_name\": null, \"cutoff2\": 19.2, \"cutoff\": 2}, {\"calitp_itp_id\": 126, \"trip_key\": 8037778639050624470, \"trip_id\": \"1989\", \"shape_id\": \"56\", \"route_id\": \"62\", \"service_hours\": 0.92, \"trip_first_departure_ts\": 57600, \"trip_last_arrival_ts\": 60900, \"departure_hour\": 16, \"time_of_day\": \"Midday\", \"p25\": 0.92, \"p50\": 0.96, \"p75\": 1.08, \"p50_trip\": 1, \"fastest_trip\": 0, \"car_duration_hours\": 0.57, \"competitive_route\": 1, \"bus_multiplier\": 1.61, \"bus_difference\": 21.0, \"num_trips\": 24, \"num_competitive\": 24, \"pct_trips_competitive\": 1.0, \"bus_difference_spread\": 9.6, \"route_group\": \"medium\", \"max_trip_hrs\": 1.08, \"max_trip_route_group\": 1.28, \"name\": \"Golden Empire Transit District\", \"caltrans_district\": \"06 - Fresno\", \"drmt_organization_name\": null, \"cutoff2\": 19.2, \"cutoff\": 2}, {\"calitp_itp_id\": 126, \"trip_key\": 1734782686471856502, \"trip_id\": \"1990\", \"shape_id\": \"56\", \"route_id\": \"62\", \"service_hours\": 0.92, \"trip_first_departure_ts\": 61200, \"trip_last_arrival_ts\": 64500, \"departure_hour\": 17, \"time_of_day\": \"PM Peak\", \"p25\": 0.92, \"p50\": 0.96, \"p75\": 1.08, \"p50_trip\": 1, \"fastest_trip\": 0, \"car_duration_hours\": 0.57, \"competitive_route\": 1, \"bus_multiplier\": 1.61, \"bus_difference\": 21.0, \"num_trips\": 24, \"num_competitive\": 24, \"pct_trips_competitive\": 1.0, \"bus_difference_spread\": 9.6, \"route_group\": \"medium\", \"max_trip_hrs\": 1.08, \"max_trip_route_group\": 1.28, \"name\": \"Golden Empire Transit District\", \"caltrans_district\": \"06 - Fresno\", \"drmt_organization_name\": null, \"cutoff2\": 19.2, \"cutoff\": 2}, {\"calitp_itp_id\": 126, \"trip_key\": -1624281882188341956, \"trip_id\": \"1983\", \"shape_id\": \"56\", \"route_id\": \"62\", \"service_hours\": 0.92, \"trip_first_departure_ts\": 36000, \"trip_last_arrival_ts\": 39300, \"departure_hour\": 10, \"time_of_day\": \"Midday\", \"p25\": 0.92, \"p50\": 0.96, \"p75\": 1.08, \"p50_trip\": 1, \"fastest_trip\": 0, \"car_duration_hours\": 0.57, \"competitive_route\": 1, \"bus_multiplier\": 1.61, \"bus_difference\": 21.0, \"num_trips\": 24, \"num_competitive\": 24, \"pct_trips_competitive\": 1.0, \"bus_difference_spread\": 9.6, \"route_group\": \"medium\", \"max_trip_hrs\": 1.08, \"max_trip_route_group\": 1.28, \"name\": \"Golden Empire Transit District\", \"caltrans_district\": \"06 - Fresno\", \"drmt_organization_name\": null, \"cutoff2\": 19.2, \"cutoff\": 2}, {\"calitp_itp_id\": 126, \"trip_key\": 8857494238630096522, \"trip_id\": \"1979\", \"shape_id\": \"45\", \"route_id\": \"62\", \"service_hours\": 1.0, \"trip_first_departure_ts\": 64500, \"trip_last_arrival_ts\": 68100, \"departure_hour\": 17, \"time_of_day\": \"PM Peak\", \"p25\": 0.92, \"p50\": 0.96, \"p75\": 1.08, \"p50_trip\": 0, \"fastest_trip\": 0, \"car_duration_hours\": 0.57, \"competitive_route\": 1, \"bus_multiplier\": 1.75, \"bus_difference\": 25.8, \"num_trips\": 24, \"num_competitive\": 24, \"pct_trips_competitive\": 1.0, \"bus_difference_spread\": 9.6, \"route_group\": \"medium\", \"max_trip_hrs\": 1.08, \"max_trip_route_group\": 1.28, \"name\": \"Golden Empire Transit District\", \"caltrans_district\": \"06 - Fresno\", \"drmt_organization_name\": null, \"cutoff2\": 19.2, \"cutoff\": 2}, {\"calitp_itp_id\": 126, \"trip_key\": 4254431478989959981, \"trip_id\": \"1971\", \"shape_id\": \"45\", \"route_id\": \"62\", \"service_hours\": 1.08, \"trip_first_departure_ts\": 32100, \"trip_last_arrival_ts\": 36000, \"departure_hour\": 8, \"time_of_day\": \"AM Peak\", \"p25\": 0.92, \"p50\": 0.96, \"p75\": 1.08, \"p50_trip\": 0, \"fastest_trip\": 0, \"car_duration_hours\": 0.57, \"competitive_route\": 1, \"bus_multiplier\": 1.89, \"bus_difference\": 30.6, \"num_trips\": 24, \"num_competitive\": 24, \"pct_trips_competitive\": 1.0, \"bus_difference_spread\": 9.6, \"route_group\": \"medium\", \"max_trip_hrs\": 1.08, \"max_trip_route_group\": 1.28, \"name\": \"Golden Empire Transit District\", \"caltrans_district\": \"06 - Fresno\", \"drmt_organization_name\": null, \"cutoff2\": 19.2, \"cutoff\": 2}, {\"calitp_itp_id\": 126, \"trip_key\": 7562056509314122037, \"trip_id\": \"1973\", \"shape_id\": \"45\", \"route_id\": \"62\", \"service_hours\": 1.08, \"trip_first_departure_ts\": 39300, \"trip_last_arrival_ts\": 43200, \"departure_hour\": 10, \"time_of_day\": \"Midday\", \"p25\": 0.92, \"p50\": 0.96, \"p75\": 1.08, \"p50_trip\": 0, \"fastest_trip\": 0, \"car_duration_hours\": 0.57, \"competitive_route\": 1, \"bus_multiplier\": 1.89, \"bus_difference\": 30.6, \"num_trips\": 24, \"num_competitive\": 24, \"pct_trips_competitive\": 1.0, \"bus_difference_spread\": 9.6, \"route_group\": \"medium\", \"max_trip_hrs\": 1.08, \"max_trip_route_group\": 1.28, \"name\": \"Golden Empire Transit District\", \"caltrans_district\": \"06 - Fresno\", \"drmt_organization_name\": null, \"cutoff2\": 19.2, \"cutoff\": 2}, {\"calitp_itp_id\": 126, \"trip_key\": -1174315029956827544, \"trip_id\": \"1977\", \"shape_id\": \"45\", \"route_id\": \"62\", \"service_hours\": 1.08, \"trip_first_departure_ts\": 57300, \"trip_last_arrival_ts\": 61200, \"departure_hour\": 15, \"time_of_day\": \"Midday\", \"p25\": 0.92, \"p50\": 0.96, \"p75\": 1.08, \"p50_trip\": 0, \"fastest_trip\": 0, \"car_duration_hours\": 0.57, \"competitive_route\": 1, \"bus_multiplier\": 1.89, \"bus_difference\": 30.6, \"num_trips\": 24, \"num_competitive\": 24, \"pct_trips_competitive\": 1.0, \"bus_difference_spread\": 9.6, \"route_group\": \"medium\", \"max_trip_hrs\": 1.08, \"max_trip_route_group\": 1.28, \"name\": \"Golden Empire Transit District\", \"caltrans_district\": \"06 - Fresno\", \"drmt_organization_name\": null, \"cutoff2\": 19.2, \"cutoff\": 2}, {\"calitp_itp_id\": 126, \"trip_key\": -7913144978631141880, \"trip_id\": \"1969\", \"shape_id\": \"45\", \"route_id\": \"62\", \"service_hours\": 1.08, \"trip_first_departure_ts\": 24900, \"trip_last_arrival_ts\": 28800, \"departure_hour\": 6, \"time_of_day\": \"Owl Service\", \"p25\": 0.92, \"p50\": 0.96, \"p75\": 1.08, \"p50_trip\": 0, \"fastest_trip\": 0, \"car_duration_hours\": 0.57, \"competitive_route\": 1, \"bus_multiplier\": 1.89, \"bus_difference\": 30.6, \"num_trips\": 24, \"num_competitive\": 24, \"pct_trips_competitive\": 1.0, \"bus_difference_spread\": 9.6, \"route_group\": \"medium\", \"max_trip_hrs\": 1.08, \"max_trip_route_group\": 1.28, \"name\": \"Golden Empire Transit District\", \"caltrans_district\": \"06 - Fresno\", \"drmt_organization_name\": null, \"cutoff2\": 19.2, \"cutoff\": 2}, {\"calitp_itp_id\": 126, \"trip_key\": -6764356430060964619, \"trip_id\": \"1519\", \"shape_id\": \"45\", \"route_id\": \"62\", \"service_hours\": 1.08, \"trip_first_departure_ts\": 42900, \"trip_last_arrival_ts\": 46800, \"departure_hour\": 11, \"time_of_day\": \"Midday\", \"p25\": 0.92, \"p50\": 0.96, \"p75\": 1.08, \"p50_trip\": 0, \"fastest_trip\": 0, \"car_duration_hours\": 0.57, \"competitive_route\": 1, \"bus_multiplier\": 1.89, \"bus_difference\": 30.6, \"num_trips\": 24, \"num_competitive\": 24, \"pct_trips_competitive\": 1.0, \"bus_difference_spread\": 9.6, \"route_group\": \"medium\", \"max_trip_hrs\": 1.08, \"max_trip_route_group\": 1.28, \"name\": \"Golden Empire Transit District\", \"caltrans_district\": \"06 - Fresno\", \"drmt_organization_name\": null, \"cutoff2\": 19.2, \"cutoff\": 2}, {\"calitp_itp_id\": 126, \"trip_key\": -2734724785490573929, \"trip_id\": \"1974\", \"shape_id\": \"45\", \"route_id\": \"62\", \"service_hours\": 1.08, \"trip_first_departure_ts\": 46500, \"trip_last_arrival_ts\": 50400, \"departure_hour\": 12, \"time_of_day\": \"Midday\", \"p25\": 0.92, \"p50\": 0.96, \"p75\": 1.08, \"p50_trip\": 0, \"fastest_trip\": 0, \"car_duration_hours\": 0.57, \"competitive_route\": 1, \"bus_multiplier\": 1.89, \"bus_difference\": 30.6, \"num_trips\": 24, \"num_competitive\": 24, \"pct_trips_competitive\": 1.0, \"bus_difference_spread\": 9.6, \"route_group\": \"medium\", \"max_trip_hrs\": 1.08, \"max_trip_route_group\": 1.28, \"name\": \"Golden Empire Transit District\", \"caltrans_district\": \"06 - Fresno\", \"drmt_organization_name\": null, \"cutoff2\": 19.2, \"cutoff\": 2}, {\"calitp_itp_id\": 126, \"trip_key\": 6693152542659667484, \"trip_id\": \"1978\", \"shape_id\": \"45\", \"route_id\": \"62\", \"service_hours\": 1.08, \"trip_first_departure_ts\": 60900, \"trip_last_arrival_ts\": 64800, \"departure_hour\": 16, \"time_of_day\": \"Midday\", \"p25\": 0.92, \"p50\": 0.96, \"p75\": 1.08, \"p50_trip\": 0, \"fastest_trip\": 0, \"car_duration_hours\": 0.57, \"competitive_route\": 1, \"bus_multiplier\": 1.89, \"bus_difference\": 30.6, \"num_trips\": 24, \"num_competitive\": 24, \"pct_trips_competitive\": 1.0, \"bus_difference_spread\": 9.6, \"route_group\": \"medium\", \"max_trip_hrs\": 1.08, \"max_trip_route_group\": 1.28, \"name\": \"Golden Empire Transit District\", \"caltrans_district\": \"06 - Fresno\", \"drmt_organization_name\": null, \"cutoff2\": 19.2, \"cutoff\": 2}, {\"calitp_itp_id\": 126, \"trip_key\": -7900873824646436253, \"trip_id\": \"1975\", \"shape_id\": \"45\", \"route_id\": \"62\", \"service_hours\": 1.08, \"trip_first_departure_ts\": 50100, \"trip_last_arrival_ts\": 54000, \"departure_hour\": 13, \"time_of_day\": \"Midday\", \"p25\": 0.92, \"p50\": 0.96, \"p75\": 1.08, \"p50_trip\": 0, \"fastest_trip\": 0, \"car_duration_hours\": 0.57, \"competitive_route\": 1, \"bus_multiplier\": 1.89, \"bus_difference\": 30.6, \"num_trips\": 24, \"num_competitive\": 24, \"pct_trips_competitive\": 1.0, \"bus_difference_spread\": 9.6, \"route_group\": \"medium\", \"max_trip_hrs\": 1.08, \"max_trip_route_group\": 1.28, \"name\": \"Golden Empire Transit District\", \"caltrans_district\": \"06 - Fresno\", \"drmt_organization_name\": null, \"cutoff2\": 19.2, \"cutoff\": 2}, {\"calitp_itp_id\": 126, \"trip_key\": 4939210400697649146, \"trip_id\": \"1970\", \"shape_id\": \"45\", \"route_id\": \"62\", \"service_hours\": 1.08, \"trip_first_departure_ts\": 28500, \"trip_last_arrival_ts\": 32400, \"departure_hour\": 7, \"time_of_day\": \"AM Peak\", \"p25\": 0.92, \"p50\": 0.96, \"p75\": 1.08, \"p50_trip\": 0, \"fastest_trip\": 0, \"car_duration_hours\": 0.57, \"competitive_route\": 1, \"bus_multiplier\": 1.89, \"bus_difference\": 30.6, \"num_trips\": 24, \"num_competitive\": 24, \"pct_trips_competitive\": 1.0, \"bus_difference_spread\": 9.6, \"route_group\": \"medium\", \"max_trip_hrs\": 1.08, \"max_trip_route_group\": 1.28, \"name\": \"Golden Empire Transit District\", \"caltrans_district\": \"06 - Fresno\", \"drmt_organization_name\": null, \"cutoff2\": 19.2, \"cutoff\": 2}, {\"calitp_itp_id\": 126, \"trip_key\": -839532200645589971, \"trip_id\": \"1972\", \"shape_id\": \"45\", \"route_id\": \"62\", \"service_hours\": 1.08, \"trip_first_departure_ts\": 35700, \"trip_last_arrival_ts\": 39600, \"departure_hour\": 9, \"time_of_day\": \"AM Peak\", \"p25\": 0.92, \"p50\": 0.96, \"p75\": 1.08, \"p50_trip\": 0, \"fastest_trip\": 0, \"car_duration_hours\": 0.57, \"competitive_route\": 1, \"bus_multiplier\": 1.89, \"bus_difference\": 30.6, \"num_trips\": 24, \"num_competitive\": 24, \"pct_trips_competitive\": 1.0, \"bus_difference_spread\": 9.6, \"route_group\": \"medium\", \"max_trip_hrs\": 1.08, \"max_trip_route_group\": 1.28, \"name\": \"Golden Empire Transit District\", \"caltrans_district\": \"06 - Fresno\", \"drmt_organization_name\": null, \"cutoff2\": 19.2, \"cutoff\": 2}, {\"calitp_itp_id\": 126, \"trip_key\": -8417468646573950502, \"trip_id\": \"1976\", \"shape_id\": \"45\", \"route_id\": \"62\", \"service_hours\": 1.08, \"trip_first_departure_ts\": 53700, \"trip_last_arrival_ts\": 57600, \"departure_hour\": 14, \"time_of_day\": \"Midday\", \"p25\": 0.92, \"p50\": 0.96, \"p75\": 1.08, \"p50_trip\": 0, \"fastest_trip\": 0, \"car_duration_hours\": 0.57, \"competitive_route\": 1, \"bus_multiplier\": 1.89, \"bus_difference\": 30.6, \"num_trips\": 24, \"num_competitive\": 24, \"pct_trips_competitive\": 1.0, \"bus_difference_spread\": 9.6, \"route_group\": \"medium\", \"max_trip_hrs\": 1.08, \"max_trip_route_group\": 1.28, \"name\": \"Golden Empire Transit District\", \"caltrans_district\": \"06 - Fresno\", \"drmt_organization_name\": null, \"cutoff2\": 19.2, \"cutoff\": 2}]}}, {\"mode\": \"vega-lite\"});\n",
       "</script>"
      ],
      "text/plain": [
       "alt.FacetChart(...)"
      ]
     },
     "metadata": {},
     "output_type": "display_data"
    },
    {
     "data": {
      "text/html": [
       "\n",
       "<div id=\"altair-viz-c1a37d2f458c4139b1dd227481ea7ef2\"></div>\n",
       "<script type=\"text/javascript\">\n",
       "  var VEGA_DEBUG = (typeof VEGA_DEBUG == \"undefined\") ? {} : VEGA_DEBUG;\n",
       "  (function(spec, embedOpt){\n",
       "    let outputDiv = document.currentScript.previousElementSibling;\n",
       "    if (outputDiv.id !== \"altair-viz-c1a37d2f458c4139b1dd227481ea7ef2\") {\n",
       "      outputDiv = document.getElementById(\"altair-viz-c1a37d2f458c4139b1dd227481ea7ef2\");\n",
       "    }\n",
       "    const paths = {\n",
       "      \"vega\": \"https://cdn.jsdelivr.net/npm//vega@5?noext\",\n",
       "      \"vega-lib\": \"https://cdn.jsdelivr.net/npm//vega-lib?noext\",\n",
       "      \"vega-lite\": \"https://cdn.jsdelivr.net/npm//vega-lite@4.17.0?noext\",\n",
       "      \"vega-embed\": \"https://cdn.jsdelivr.net/npm//vega-embed@6?noext\",\n",
       "    };\n",
       "\n",
       "    function maybeLoadScript(lib, version) {\n",
       "      var key = `${lib.replace(\"-\", \"\")}_version`;\n",
       "      return (VEGA_DEBUG[key] == version) ?\n",
       "        Promise.resolve(paths[lib]) :\n",
       "        new Promise(function(resolve, reject) {\n",
       "          var s = document.createElement('script');\n",
       "          document.getElementsByTagName(\"head\")[0].appendChild(s);\n",
       "          s.async = true;\n",
       "          s.onload = () => {\n",
       "            VEGA_DEBUG[key] = version;\n",
       "            return resolve(paths[lib]);\n",
       "          };\n",
       "          s.onerror = () => reject(`Error loading script: ${paths[lib]}`);\n",
       "          s.src = paths[lib];\n",
       "        });\n",
       "    }\n",
       "\n",
       "    function showError(err) {\n",
       "      outputDiv.innerHTML = `<div class=\"error\" style=\"color:red;\">${err}</div>`;\n",
       "      throw err;\n",
       "    }\n",
       "\n",
       "    function displayChart(vegaEmbed) {\n",
       "      vegaEmbed(outputDiv, spec, embedOpt)\n",
       "        .catch(err => showError(`Javascript Error: ${err.message}<br>This usually means there's a typo in your chart specification. See the javascript console for the full traceback.`));\n",
       "    }\n",
       "\n",
       "    if(typeof define === \"function\" && define.amd) {\n",
       "      requirejs.config({paths});\n",
       "      require([\"vega-embed\"], displayChart, err => showError(`Error loading script: ${err.message}`));\n",
       "    } else {\n",
       "      maybeLoadScript(\"vega\", \"5\")\n",
       "        .then(() => maybeLoadScript(\"vega-lite\", \"4.17.0\"))\n",
       "        .then(() => maybeLoadScript(\"vega-embed\", \"6\"))\n",
       "        .catch(showError)\n",
       "        .then(() => displayChart(vegaEmbed));\n",
       "    }\n",
       "  })({\"config\": {\"view\": {\"continuousWidth\": 400, \"continuousHeight\": 300, \"stroke\": null}, \"facet\": {\"spacing\": 0}}, \"data\": {\"name\": \"data-06c0c4f4a123a720bcd8b933b486fde2\"}, \"facet\": {\"column\": {\"field\": \"route_id\", \"sort\": [\"62\"], \"title\": \"Route ID\", \"type\": \"nominal\"}}, \"spec\": {\"layer\": [{\"mark\": {\"type\": \"point\", \"opacity\": 0.65, \"size\": 12, \"strokeWidth\": 1.1}, \"encoding\": {\"color\": {\"field\": \"time_of_day\", \"scale\": {\"range\": [\"#136C97\", \"#E16B26\", \"#F6BF16\", \"#00896B\", \"#7790A3\", \"#5B559C\"]}, \"sort\": [\"AM Peak\", \"Midday\", \"PM Peak\", \"Owl Service\"], \"title\": \"Time of Day\", \"type\": \"nominal\"}, \"tooltip\": [{\"field\": \"route_id\", \"type\": \"nominal\"}, {\"field\": \"trip_id\", \"type\": \"nominal\"}, {\"field\": \"service_hours\", \"type\": \"quantitative\"}, {\"field\": \"car_duration_hours\", \"type\": \"quantitative\"}, {\"field\": \"bus_multiplier\", \"type\": \"quantitative\"}, {\"field\": \"bus_difference\", \"type\": \"quantitative\"}, {\"field\": \"num_trips\", \"type\": \"quantitative\"}, {\"field\": \"num_competitive\", \"type\": \"quantitative\"}, {\"field\": \"pct_trips_competitive\", \"type\": \"quantitative\"}, {\"field\": \"p25\", \"type\": \"quantitative\"}, {\"field\": \"p50\", \"type\": \"quantitative\"}, {\"field\": \"p75\", \"type\": \"quantitative\"}], \"x\": {\"axis\": {\"grid\": false, \"labels\": false, \"ticks\": true, \"values\": [0]}, \"field\": \"jitter\", \"scale\": {}, \"title\": null, \"type\": \"quantitative\"}, \"y\": {\"field\": \"bus_difference\", \"scale\": {\"domain\": [-5, 45.0]}, \"title\": \"Difference in Bus to Car Travel Time (min)\", \"type\": \"quantitative\"}}, \"selection\": {\"selector002\": {\"type\": \"interval\", \"bind\": \"scales\", \"encodings\": [\"x\", \"y\"]}}, \"transform\": [{\"calculate\": \"sqrt(-2*log(random()))*cos(2*PI*random())\", \"as\": \"jitter\"}], \"width\": 60}, {\"layer\": [{\"mark\": {\"type\": \"point\", \"opacity\": 0.6, \"size\": 20, \"strokeWidth\": 1.3}, \"encoding\": {\"color\": {\"value\": \"#323434\"}, \"y\": {\"field\": \"bus_difference\", \"type\": \"quantitative\"}}, \"transform\": [{\"filter\": \"(datum.p50_trip === 1)\"}]}, {\"mark\": {\"type\": \"rule\", \"strokeDash\": [2, 3]}, \"encoding\": {\"color\": {\"value\": \"#323434\"}, \"y\": {\"field\": \"cutoff\", \"type\": \"quantitative\"}}}, {\"mark\": {\"type\": \"rule\", \"strokeDash\": [2, 3]}, \"encoding\": {\"color\": {\"value\": \"#136C97\"}, \"y\": {\"field\": \"cutoff2\", \"type\": \"quantitative\"}}}, {\"mark\": {\"type\": \"text\", \"align\": \"center\", \"baseline\": \"middle\"}, \"encoding\": {\"color\": {\"value\": \"black\"}, \"text\": {\"field\": \"pct_trips_competitive\", \"format\": \".0%\", \"type\": \"quantitative\"}, \"tooltip\": [{\"field\": \"route_id\", \"type\": \"nominal\"}, {\"field\": \"trip_id\", \"type\": \"nominal\"}, {\"field\": \"service_hours\", \"type\": \"quantitative\"}, {\"field\": \"car_duration_hours\", \"type\": \"quantitative\"}, {\"field\": \"bus_multiplier\", \"type\": \"quantitative\"}, {\"field\": \"bus_difference\", \"type\": \"quantitative\"}, {\"field\": \"num_trips\", \"type\": \"quantitative\"}, {\"field\": \"num_competitive\", \"type\": \"quantitative\"}, {\"field\": \"pct_trips_competitive\", \"type\": \"quantitative\"}, {\"field\": \"p25\", \"type\": \"quantitative\"}, {\"field\": \"p50\", \"type\": \"quantitative\"}, {\"field\": \"p75\", \"type\": \"quantitative\"}], \"x\": {\"value\": 30}, \"y\": {\"value\": 15}}, \"transform\": [{\"calculate\": \"sqrt(-2*log(random()))*cos(2*PI*random())\", \"as\": \"jitter\"}, {\"filter\": \"(datum.fastest_trip === 1)\"}]}]}]}, \"resolve\": {\"scale\": {\"y\": \"shared\"}}, \"title\": \"Difference in Bus to Car Travel Time (min)\", \"$schema\": \"https://vega.github.io/schema/vega-lite/v4.17.0.json\", \"datasets\": {\"data-06c0c4f4a123a720bcd8b933b486fde2\": [{\"calitp_itp_id\": 126, \"trip_key\": 5364581721970226587, \"trip_id\": \"1986\", \"shape_id\": \"56\", \"route_id\": \"62\", \"service_hours\": 0.92, \"trip_first_departure_ts\": 46800, \"trip_last_arrival_ts\": 50100, \"departure_hour\": 13, \"time_of_day\": \"Midday\", \"p25\": 0.92, \"p50\": 0.96, \"p75\": 1.08, \"p50_trip\": 1, \"fastest_trip\": 0, \"car_duration_hours\": 0.57, \"competitive_route\": 1, \"bus_multiplier\": 1.61, \"bus_difference\": 21.0, \"num_trips\": 24, \"num_competitive\": 24, \"pct_trips_competitive\": 1.0, \"bus_difference_spread\": 9.6, \"route_group\": \"medium\", \"max_trip_hrs\": 1.08, \"max_trip_route_group\": 1.28, \"name\": \"Golden Empire Transit District\", \"caltrans_district\": \"06 - Fresno\", \"drmt_organization_name\": null, \"cutoff2\": 19.2, \"cutoff\": 0}, {\"calitp_itp_id\": 126, \"trip_key\": -8824272478545795224, \"trip_id\": \"1985\", \"shape_id\": \"56\", \"route_id\": \"62\", \"service_hours\": 0.92, \"trip_first_departure_ts\": 43200, \"trip_last_arrival_ts\": 46500, \"departure_hour\": 12, \"time_of_day\": \"Midday\", \"p25\": 0.92, \"p50\": 0.96, \"p75\": 1.08, \"p50_trip\": 1, \"fastest_trip\": 0, \"car_duration_hours\": 0.57, \"competitive_route\": 1, \"bus_multiplier\": 1.61, \"bus_difference\": 21.0, \"num_trips\": 24, \"num_competitive\": 24, \"pct_trips_competitive\": 1.0, \"bus_difference_spread\": 9.6, \"route_group\": \"medium\", \"max_trip_hrs\": 1.08, \"max_trip_route_group\": 1.28, \"name\": \"Golden Empire Transit District\", \"caltrans_district\": \"06 - Fresno\", \"drmt_organization_name\": null, \"cutoff2\": 19.2, \"cutoff\": 0}, {\"calitp_itp_id\": 126, \"trip_key\": -5765002440222693223, \"trip_id\": \"1987\", \"shape_id\": \"56\", \"route_id\": \"62\", \"service_hours\": 0.92, \"trip_first_departure_ts\": 50400, \"trip_last_arrival_ts\": 53700, \"departure_hour\": 14, \"time_of_day\": \"Midday\", \"p25\": 0.92, \"p50\": 0.96, \"p75\": 1.08, \"p50_trip\": 1, \"fastest_trip\": 0, \"car_duration_hours\": 0.57, \"competitive_route\": 1, \"bus_multiplier\": 1.61, \"bus_difference\": 21.0, \"num_trips\": 24, \"num_competitive\": 24, \"pct_trips_competitive\": 1.0, \"bus_difference_spread\": 9.6, \"route_group\": \"medium\", \"max_trip_hrs\": 1.08, \"max_trip_route_group\": 1.28, \"name\": \"Golden Empire Transit District\", \"caltrans_district\": \"06 - Fresno\", \"drmt_organization_name\": null, \"cutoff2\": 19.2, \"cutoff\": 0}, {\"calitp_itp_id\": 126, \"trip_key\": -4121532990600785286, \"trip_id\": \"1982\", \"shape_id\": \"56\", \"route_id\": \"62\", \"service_hours\": 0.92, \"trip_first_departure_ts\": 32400, \"trip_last_arrival_ts\": 35700, \"departure_hour\": 9, \"time_of_day\": \"AM Peak\", \"p25\": 0.92, \"p50\": 0.96, \"p75\": 1.08, \"p50_trip\": 1, \"fastest_trip\": 0, \"car_duration_hours\": 0.57, \"competitive_route\": 1, \"bus_multiplier\": 1.61, \"bus_difference\": 21.0, \"num_trips\": 24, \"num_competitive\": 24, \"pct_trips_competitive\": 1.0, \"bus_difference_spread\": 9.6, \"route_group\": \"medium\", \"max_trip_hrs\": 1.08, \"max_trip_route_group\": 1.28, \"name\": \"Golden Empire Transit District\", \"caltrans_district\": \"06 - Fresno\", \"drmt_organization_name\": null, \"cutoff2\": 19.2, \"cutoff\": 0}, {\"calitp_itp_id\": 126, \"trip_key\": -8159425626889087600, \"trip_id\": \"1980\", \"shape_id\": \"56\", \"route_id\": \"62\", \"service_hours\": 0.92, \"trip_first_departure_ts\": 25200, \"trip_last_arrival_ts\": 28500, \"departure_hour\": 7, \"time_of_day\": \"AM Peak\", \"p25\": 0.92, \"p50\": 0.96, \"p75\": 1.08, \"p50_trip\": 1, \"fastest_trip\": 0, \"car_duration_hours\": 0.57, \"competitive_route\": 1, \"bus_multiplier\": 1.61, \"bus_difference\": 21.0, \"num_trips\": 24, \"num_competitive\": 24, \"pct_trips_competitive\": 1.0, \"bus_difference_spread\": 9.6, \"route_group\": \"medium\", \"max_trip_hrs\": 1.08, \"max_trip_route_group\": 1.28, \"name\": \"Golden Empire Transit District\", \"caltrans_district\": \"06 - Fresno\", \"drmt_organization_name\": null, \"cutoff2\": 19.2, \"cutoff\": 0}, {\"calitp_itp_id\": 126, \"trip_key\": -857406301910668562, \"trip_id\": \"1981\", \"shape_id\": \"56\", \"route_id\": \"62\", \"service_hours\": 0.92, \"trip_first_departure_ts\": 28800, \"trip_last_arrival_ts\": 32100, \"departure_hour\": 8, \"time_of_day\": \"AM Peak\", \"p25\": 0.92, \"p50\": 0.96, \"p75\": 1.08, \"p50_trip\": 1, \"fastest_trip\": 0, \"car_duration_hours\": 0.57, \"competitive_route\": 1, \"bus_multiplier\": 1.61, \"bus_difference\": 21.0, \"num_trips\": 24, \"num_competitive\": 24, \"pct_trips_competitive\": 1.0, \"bus_difference_spread\": 9.6, \"route_group\": \"medium\", \"max_trip_hrs\": 1.08, \"max_trip_route_group\": 1.28, \"name\": \"Golden Empire Transit District\", \"caltrans_district\": \"06 - Fresno\", \"drmt_organization_name\": null, \"cutoff2\": 19.2, \"cutoff\": 0}, {\"calitp_itp_id\": 126, \"trip_key\": -5968553136652973486, \"trip_id\": \"1984\", \"shape_id\": \"56\", \"route_id\": \"62\", \"service_hours\": 0.92, \"trip_first_departure_ts\": 39600, \"trip_last_arrival_ts\": 42900, \"departure_hour\": 11, \"time_of_day\": \"Midday\", \"p25\": 0.92, \"p50\": 0.96, \"p75\": 1.08, \"p50_trip\": 1, \"fastest_trip\": 0, \"car_duration_hours\": 0.57, \"competitive_route\": 1, \"bus_multiplier\": 1.61, \"bus_difference\": 21.0, \"num_trips\": 24, \"num_competitive\": 24, \"pct_trips_competitive\": 1.0, \"bus_difference_spread\": 9.6, \"route_group\": \"medium\", \"max_trip_hrs\": 1.08, \"max_trip_route_group\": 1.28, \"name\": \"Golden Empire Transit District\", \"caltrans_district\": \"06 - Fresno\", \"drmt_organization_name\": null, \"cutoff2\": 19.2, \"cutoff\": 0}, {\"calitp_itp_id\": 126, \"trip_key\": 1525772625152661822, \"trip_id\": \"1988\", \"shape_id\": \"56\", \"route_id\": \"62\", \"service_hours\": 0.92, \"trip_first_departure_ts\": 54000, \"trip_last_arrival_ts\": 57300, \"departure_hour\": 15, \"time_of_day\": \"Midday\", \"p25\": 0.92, \"p50\": 0.96, \"p75\": 1.08, \"p50_trip\": 1, \"fastest_trip\": 0, \"car_duration_hours\": 0.57, \"competitive_route\": 1, \"bus_multiplier\": 1.61, \"bus_difference\": 21.0, \"num_trips\": 24, \"num_competitive\": 24, \"pct_trips_competitive\": 1.0, \"bus_difference_spread\": 9.6, \"route_group\": \"medium\", \"max_trip_hrs\": 1.08, \"max_trip_route_group\": 1.28, \"name\": \"Golden Empire Transit District\", \"caltrans_district\": \"06 - Fresno\", \"drmt_organization_name\": null, \"cutoff2\": 19.2, \"cutoff\": 0}, {\"calitp_itp_id\": 126, \"trip_key\": 1784598322346742404, \"trip_id\": \"1991\", \"shape_id\": \"56\", \"route_id\": \"62\", \"service_hours\": 0.92, \"trip_first_departure_ts\": 64800, \"trip_last_arrival_ts\": 68100, \"departure_hour\": 18, \"time_of_day\": \"PM Peak\", \"p25\": 0.92, \"p50\": 0.96, \"p75\": 1.08, \"p50_trip\": 1, \"fastest_trip\": 1, \"car_duration_hours\": 0.57, \"competitive_route\": 1, \"bus_multiplier\": 1.61, \"bus_difference\": 21.0, \"num_trips\": 24, \"num_competitive\": 24, \"pct_trips_competitive\": 1.0, \"bus_difference_spread\": 9.6, \"route_group\": \"medium\", \"max_trip_hrs\": 1.08, \"max_trip_route_group\": 1.28, \"name\": \"Golden Empire Transit District\", \"caltrans_district\": \"06 - Fresno\", \"drmt_organization_name\": null, \"cutoff2\": 19.2, \"cutoff\": 0}, {\"calitp_itp_id\": 126, \"trip_key\": 8037778639050624470, \"trip_id\": \"1989\", \"shape_id\": \"56\", \"route_id\": \"62\", \"service_hours\": 0.92, \"trip_first_departure_ts\": 57600, \"trip_last_arrival_ts\": 60900, \"departure_hour\": 16, \"time_of_day\": \"Midday\", \"p25\": 0.92, \"p50\": 0.96, \"p75\": 1.08, \"p50_trip\": 1, \"fastest_trip\": 0, \"car_duration_hours\": 0.57, \"competitive_route\": 1, \"bus_multiplier\": 1.61, \"bus_difference\": 21.0, \"num_trips\": 24, \"num_competitive\": 24, \"pct_trips_competitive\": 1.0, \"bus_difference_spread\": 9.6, \"route_group\": \"medium\", \"max_trip_hrs\": 1.08, \"max_trip_route_group\": 1.28, \"name\": \"Golden Empire Transit District\", \"caltrans_district\": \"06 - Fresno\", \"drmt_organization_name\": null, \"cutoff2\": 19.2, \"cutoff\": 0}, {\"calitp_itp_id\": 126, \"trip_key\": 1734782686471856502, \"trip_id\": \"1990\", \"shape_id\": \"56\", \"route_id\": \"62\", \"service_hours\": 0.92, \"trip_first_departure_ts\": 61200, \"trip_last_arrival_ts\": 64500, \"departure_hour\": 17, \"time_of_day\": \"PM Peak\", \"p25\": 0.92, \"p50\": 0.96, \"p75\": 1.08, \"p50_trip\": 1, \"fastest_trip\": 0, \"car_duration_hours\": 0.57, \"competitive_route\": 1, \"bus_multiplier\": 1.61, \"bus_difference\": 21.0, \"num_trips\": 24, \"num_competitive\": 24, \"pct_trips_competitive\": 1.0, \"bus_difference_spread\": 9.6, \"route_group\": \"medium\", \"max_trip_hrs\": 1.08, \"max_trip_route_group\": 1.28, \"name\": \"Golden Empire Transit District\", \"caltrans_district\": \"06 - Fresno\", \"drmt_organization_name\": null, \"cutoff2\": 19.2, \"cutoff\": 0}, {\"calitp_itp_id\": 126, \"trip_key\": -1624281882188341956, \"trip_id\": \"1983\", \"shape_id\": \"56\", \"route_id\": \"62\", \"service_hours\": 0.92, \"trip_first_departure_ts\": 36000, \"trip_last_arrival_ts\": 39300, \"departure_hour\": 10, \"time_of_day\": \"Midday\", \"p25\": 0.92, \"p50\": 0.96, \"p75\": 1.08, \"p50_trip\": 1, \"fastest_trip\": 0, \"car_duration_hours\": 0.57, \"competitive_route\": 1, \"bus_multiplier\": 1.61, \"bus_difference\": 21.0, \"num_trips\": 24, \"num_competitive\": 24, \"pct_trips_competitive\": 1.0, \"bus_difference_spread\": 9.6, \"route_group\": \"medium\", \"max_trip_hrs\": 1.08, \"max_trip_route_group\": 1.28, \"name\": \"Golden Empire Transit District\", \"caltrans_district\": \"06 - Fresno\", \"drmt_organization_name\": null, \"cutoff2\": 19.2, \"cutoff\": 0}, {\"calitp_itp_id\": 126, \"trip_key\": 8857494238630096522, \"trip_id\": \"1979\", \"shape_id\": \"45\", \"route_id\": \"62\", \"service_hours\": 1.0, \"trip_first_departure_ts\": 64500, \"trip_last_arrival_ts\": 68100, \"departure_hour\": 17, \"time_of_day\": \"PM Peak\", \"p25\": 0.92, \"p50\": 0.96, \"p75\": 1.08, \"p50_trip\": 0, \"fastest_trip\": 0, \"car_duration_hours\": 0.57, \"competitive_route\": 1, \"bus_multiplier\": 1.75, \"bus_difference\": 25.8, \"num_trips\": 24, \"num_competitive\": 24, \"pct_trips_competitive\": 1.0, \"bus_difference_spread\": 9.6, \"route_group\": \"medium\", \"max_trip_hrs\": 1.08, \"max_trip_route_group\": 1.28, \"name\": \"Golden Empire Transit District\", \"caltrans_district\": \"06 - Fresno\", \"drmt_organization_name\": null, \"cutoff2\": 19.2, \"cutoff\": 0}, {\"calitp_itp_id\": 126, \"trip_key\": 4254431478989959981, \"trip_id\": \"1971\", \"shape_id\": \"45\", \"route_id\": \"62\", \"service_hours\": 1.08, \"trip_first_departure_ts\": 32100, \"trip_last_arrival_ts\": 36000, \"departure_hour\": 8, \"time_of_day\": \"AM Peak\", \"p25\": 0.92, \"p50\": 0.96, \"p75\": 1.08, \"p50_trip\": 0, \"fastest_trip\": 0, \"car_duration_hours\": 0.57, \"competitive_route\": 1, \"bus_multiplier\": 1.89, \"bus_difference\": 30.6, \"num_trips\": 24, \"num_competitive\": 24, \"pct_trips_competitive\": 1.0, \"bus_difference_spread\": 9.6, \"route_group\": \"medium\", \"max_trip_hrs\": 1.08, \"max_trip_route_group\": 1.28, \"name\": \"Golden Empire Transit District\", \"caltrans_district\": \"06 - Fresno\", \"drmt_organization_name\": null, \"cutoff2\": 19.2, \"cutoff\": 0}, {\"calitp_itp_id\": 126, \"trip_key\": 7562056509314122037, \"trip_id\": \"1973\", \"shape_id\": \"45\", \"route_id\": \"62\", \"service_hours\": 1.08, \"trip_first_departure_ts\": 39300, \"trip_last_arrival_ts\": 43200, \"departure_hour\": 10, \"time_of_day\": \"Midday\", \"p25\": 0.92, \"p50\": 0.96, \"p75\": 1.08, \"p50_trip\": 0, \"fastest_trip\": 0, \"car_duration_hours\": 0.57, \"competitive_route\": 1, \"bus_multiplier\": 1.89, \"bus_difference\": 30.6, \"num_trips\": 24, \"num_competitive\": 24, \"pct_trips_competitive\": 1.0, \"bus_difference_spread\": 9.6, \"route_group\": \"medium\", \"max_trip_hrs\": 1.08, \"max_trip_route_group\": 1.28, \"name\": \"Golden Empire Transit District\", \"caltrans_district\": \"06 - Fresno\", \"drmt_organization_name\": null, \"cutoff2\": 19.2, \"cutoff\": 0}, {\"calitp_itp_id\": 126, \"trip_key\": -1174315029956827544, \"trip_id\": \"1977\", \"shape_id\": \"45\", \"route_id\": \"62\", \"service_hours\": 1.08, \"trip_first_departure_ts\": 57300, \"trip_last_arrival_ts\": 61200, \"departure_hour\": 15, \"time_of_day\": \"Midday\", \"p25\": 0.92, \"p50\": 0.96, \"p75\": 1.08, \"p50_trip\": 0, \"fastest_trip\": 0, \"car_duration_hours\": 0.57, \"competitive_route\": 1, \"bus_multiplier\": 1.89, \"bus_difference\": 30.6, \"num_trips\": 24, \"num_competitive\": 24, \"pct_trips_competitive\": 1.0, \"bus_difference_spread\": 9.6, \"route_group\": \"medium\", \"max_trip_hrs\": 1.08, \"max_trip_route_group\": 1.28, \"name\": \"Golden Empire Transit District\", \"caltrans_district\": \"06 - Fresno\", \"drmt_organization_name\": null, \"cutoff2\": 19.2, \"cutoff\": 0}, {\"calitp_itp_id\": 126, \"trip_key\": -7913144978631141880, \"trip_id\": \"1969\", \"shape_id\": \"45\", \"route_id\": \"62\", \"service_hours\": 1.08, \"trip_first_departure_ts\": 24900, \"trip_last_arrival_ts\": 28800, \"departure_hour\": 6, \"time_of_day\": \"Owl Service\", \"p25\": 0.92, \"p50\": 0.96, \"p75\": 1.08, \"p50_trip\": 0, \"fastest_trip\": 0, \"car_duration_hours\": 0.57, \"competitive_route\": 1, \"bus_multiplier\": 1.89, \"bus_difference\": 30.6, \"num_trips\": 24, \"num_competitive\": 24, \"pct_trips_competitive\": 1.0, \"bus_difference_spread\": 9.6, \"route_group\": \"medium\", \"max_trip_hrs\": 1.08, \"max_trip_route_group\": 1.28, \"name\": \"Golden Empire Transit District\", \"caltrans_district\": \"06 - Fresno\", \"drmt_organization_name\": null, \"cutoff2\": 19.2, \"cutoff\": 0}, {\"calitp_itp_id\": 126, \"trip_key\": -6764356430060964619, \"trip_id\": \"1519\", \"shape_id\": \"45\", \"route_id\": \"62\", \"service_hours\": 1.08, \"trip_first_departure_ts\": 42900, \"trip_last_arrival_ts\": 46800, \"departure_hour\": 11, \"time_of_day\": \"Midday\", \"p25\": 0.92, \"p50\": 0.96, \"p75\": 1.08, \"p50_trip\": 0, \"fastest_trip\": 0, \"car_duration_hours\": 0.57, \"competitive_route\": 1, \"bus_multiplier\": 1.89, \"bus_difference\": 30.6, \"num_trips\": 24, \"num_competitive\": 24, \"pct_trips_competitive\": 1.0, \"bus_difference_spread\": 9.6, \"route_group\": \"medium\", \"max_trip_hrs\": 1.08, \"max_trip_route_group\": 1.28, \"name\": \"Golden Empire Transit District\", \"caltrans_district\": \"06 - Fresno\", \"drmt_organization_name\": null, \"cutoff2\": 19.2, \"cutoff\": 0}, {\"calitp_itp_id\": 126, \"trip_key\": -2734724785490573929, \"trip_id\": \"1974\", \"shape_id\": \"45\", \"route_id\": \"62\", \"service_hours\": 1.08, \"trip_first_departure_ts\": 46500, \"trip_last_arrival_ts\": 50400, \"departure_hour\": 12, \"time_of_day\": \"Midday\", \"p25\": 0.92, \"p50\": 0.96, \"p75\": 1.08, \"p50_trip\": 0, \"fastest_trip\": 0, \"car_duration_hours\": 0.57, \"competitive_route\": 1, \"bus_multiplier\": 1.89, \"bus_difference\": 30.6, \"num_trips\": 24, \"num_competitive\": 24, \"pct_trips_competitive\": 1.0, \"bus_difference_spread\": 9.6, \"route_group\": \"medium\", \"max_trip_hrs\": 1.08, \"max_trip_route_group\": 1.28, \"name\": \"Golden Empire Transit District\", \"caltrans_district\": \"06 - Fresno\", \"drmt_organization_name\": null, \"cutoff2\": 19.2, \"cutoff\": 0}, {\"calitp_itp_id\": 126, \"trip_key\": 6693152542659667484, \"trip_id\": \"1978\", \"shape_id\": \"45\", \"route_id\": \"62\", \"service_hours\": 1.08, \"trip_first_departure_ts\": 60900, \"trip_last_arrival_ts\": 64800, \"departure_hour\": 16, \"time_of_day\": \"Midday\", \"p25\": 0.92, \"p50\": 0.96, \"p75\": 1.08, \"p50_trip\": 0, \"fastest_trip\": 0, \"car_duration_hours\": 0.57, \"competitive_route\": 1, \"bus_multiplier\": 1.89, \"bus_difference\": 30.6, \"num_trips\": 24, \"num_competitive\": 24, \"pct_trips_competitive\": 1.0, \"bus_difference_spread\": 9.6, \"route_group\": \"medium\", \"max_trip_hrs\": 1.08, \"max_trip_route_group\": 1.28, \"name\": \"Golden Empire Transit District\", \"caltrans_district\": \"06 - Fresno\", \"drmt_organization_name\": null, \"cutoff2\": 19.2, \"cutoff\": 0}, {\"calitp_itp_id\": 126, \"trip_key\": -7900873824646436253, \"trip_id\": \"1975\", \"shape_id\": \"45\", \"route_id\": \"62\", \"service_hours\": 1.08, \"trip_first_departure_ts\": 50100, \"trip_last_arrival_ts\": 54000, \"departure_hour\": 13, \"time_of_day\": \"Midday\", \"p25\": 0.92, \"p50\": 0.96, \"p75\": 1.08, \"p50_trip\": 0, \"fastest_trip\": 0, \"car_duration_hours\": 0.57, \"competitive_route\": 1, \"bus_multiplier\": 1.89, \"bus_difference\": 30.6, \"num_trips\": 24, \"num_competitive\": 24, \"pct_trips_competitive\": 1.0, \"bus_difference_spread\": 9.6, \"route_group\": \"medium\", \"max_trip_hrs\": 1.08, \"max_trip_route_group\": 1.28, \"name\": \"Golden Empire Transit District\", \"caltrans_district\": \"06 - Fresno\", \"drmt_organization_name\": null, \"cutoff2\": 19.2, \"cutoff\": 0}, {\"calitp_itp_id\": 126, \"trip_key\": 4939210400697649146, \"trip_id\": \"1970\", \"shape_id\": \"45\", \"route_id\": \"62\", \"service_hours\": 1.08, \"trip_first_departure_ts\": 28500, \"trip_last_arrival_ts\": 32400, \"departure_hour\": 7, \"time_of_day\": \"AM Peak\", \"p25\": 0.92, \"p50\": 0.96, \"p75\": 1.08, \"p50_trip\": 0, \"fastest_trip\": 0, \"car_duration_hours\": 0.57, \"competitive_route\": 1, \"bus_multiplier\": 1.89, \"bus_difference\": 30.6, \"num_trips\": 24, \"num_competitive\": 24, \"pct_trips_competitive\": 1.0, \"bus_difference_spread\": 9.6, \"route_group\": \"medium\", \"max_trip_hrs\": 1.08, \"max_trip_route_group\": 1.28, \"name\": \"Golden Empire Transit District\", \"caltrans_district\": \"06 - Fresno\", \"drmt_organization_name\": null, \"cutoff2\": 19.2, \"cutoff\": 0}, {\"calitp_itp_id\": 126, \"trip_key\": -839532200645589971, \"trip_id\": \"1972\", \"shape_id\": \"45\", \"route_id\": \"62\", \"service_hours\": 1.08, \"trip_first_departure_ts\": 35700, \"trip_last_arrival_ts\": 39600, \"departure_hour\": 9, \"time_of_day\": \"AM Peak\", \"p25\": 0.92, \"p50\": 0.96, \"p75\": 1.08, \"p50_trip\": 0, \"fastest_trip\": 0, \"car_duration_hours\": 0.57, \"competitive_route\": 1, \"bus_multiplier\": 1.89, \"bus_difference\": 30.6, \"num_trips\": 24, \"num_competitive\": 24, \"pct_trips_competitive\": 1.0, \"bus_difference_spread\": 9.6, \"route_group\": \"medium\", \"max_trip_hrs\": 1.08, \"max_trip_route_group\": 1.28, \"name\": \"Golden Empire Transit District\", \"caltrans_district\": \"06 - Fresno\", \"drmt_organization_name\": null, \"cutoff2\": 19.2, \"cutoff\": 0}, {\"calitp_itp_id\": 126, \"trip_key\": -8417468646573950502, \"trip_id\": \"1976\", \"shape_id\": \"45\", \"route_id\": \"62\", \"service_hours\": 1.08, \"trip_first_departure_ts\": 53700, \"trip_last_arrival_ts\": 57600, \"departure_hour\": 14, \"time_of_day\": \"Midday\", \"p25\": 0.92, \"p50\": 0.96, \"p75\": 1.08, \"p50_trip\": 0, \"fastest_trip\": 0, \"car_duration_hours\": 0.57, \"competitive_route\": 1, \"bus_multiplier\": 1.89, \"bus_difference\": 30.6, \"num_trips\": 24, \"num_competitive\": 24, \"pct_trips_competitive\": 1.0, \"bus_difference_spread\": 9.6, \"route_group\": \"medium\", \"max_trip_hrs\": 1.08, \"max_trip_route_group\": 1.28, \"name\": \"Golden Empire Transit District\", \"caltrans_district\": \"06 - Fresno\", \"drmt_organization_name\": null, \"cutoff2\": 19.2, \"cutoff\": 0}]}}, {\"mode\": \"vega-lite\"});\n",
       "</script>"
      ],
      "text/plain": [
       "alt.FacetChart(...)"
      ]
     },
     "metadata": {},
     "output_type": "display_data"
    }
   ],
   "source": [
    "route_group = \"medium\"\n",
    "try:\n",
    "    subset_routes, mult, diff  = setup_charts(df, PCT_COMPETITIVE_THRESHOLD, route_group)\n",
    "    if len(subset_routes) > 0:\n",
    "        display(\n",
    "            Markdown(\n",
    "                f\"{CAPTIONS_DICT[route_group]}\"\n",
    "                \"Within each route group, routes are sorted in descending order \"\n",
    "                \"by % competitive trips and # trips below the additional time cut-off.\"\n",
    "            )\n",
    "        )\n",
    "\n",
    "        display(mult)\n",
    "        display(diff)\n",
    "except:\n",
    "    print(\"No routes meet this criteria.\")"
   ]
  },
  {
   "cell_type": "markdown",
   "id": "124b76d0-886c-4d03-92ac-f1bda3cda182",
   "metadata": {
    "papermill": {
     "duration": 0.013655,
     "end_time": "2022-05-07T17:14:56.745598",
     "exception": false,
     "start_time": "2022-05-07T17:14:56.731943",
     "status": "completed"
    },
    "tags": []
   },
   "source": [
    "### Long Routes (> 1.5 hrs)"
   ]
  },
  {
   "cell_type": "code",
   "execution_count": 14,
   "id": "ddc81b19-4c45-4c81-8b7a-5e0f394aa7a3",
   "metadata": {
    "execution": {
     "iopub.execute_input": "2022-05-07T17:14:56.776342Z",
     "iopub.status.busy": "2022-05-07T17:14:56.775406Z",
     "iopub.status.idle": "2022-05-07T17:14:57.013191Z",
     "shell.execute_reply": "2022-05-07T17:14:57.012245Z"
    },
    "jupyter": {
     "source_hidden": true
    },
    "papermill": {
     "duration": 0.25576,
     "end_time": "2022-05-07T17:14:57.015736",
     "exception": false,
     "start_time": "2022-05-07T17:14:56.759976",
     "status": "completed"
    },
    "tags": [
     "remove_input"
    ]
   },
   "outputs": [
    {
     "data": {
      "text/markdown": [
       "<br>These are routes that have at least 25% of their trips take no more than an additional 40 min compared to a car (up to 15 routes) are shown.Within each route group, routes are sorted in descending order by % competitive trips and # trips below the additional time cut-off."
      ],
      "text/plain": [
       "<IPython.core.display.Markdown object>"
      ]
     },
     "metadata": {},
     "output_type": "display_data"
    },
    {
     "data": {
      "text/html": [
       "\n",
       "<div id=\"altair-viz-c825309e78394524a42d8aa59e94b7ef\"></div>\n",
       "<script type=\"text/javascript\">\n",
       "  var VEGA_DEBUG = (typeof VEGA_DEBUG == \"undefined\") ? {} : VEGA_DEBUG;\n",
       "  (function(spec, embedOpt){\n",
       "    let outputDiv = document.currentScript.previousElementSibling;\n",
       "    if (outputDiv.id !== \"altair-viz-c825309e78394524a42d8aa59e94b7ef\") {\n",
       "      outputDiv = document.getElementById(\"altair-viz-c825309e78394524a42d8aa59e94b7ef\");\n",
       "    }\n",
       "    const paths = {\n",
       "      \"vega\": \"https://cdn.jsdelivr.net/npm//vega@5?noext\",\n",
       "      \"vega-lib\": \"https://cdn.jsdelivr.net/npm//vega-lib?noext\",\n",
       "      \"vega-lite\": \"https://cdn.jsdelivr.net/npm//vega-lite@4.17.0?noext\",\n",
       "      \"vega-embed\": \"https://cdn.jsdelivr.net/npm//vega-embed@6?noext\",\n",
       "    };\n",
       "\n",
       "    function maybeLoadScript(lib, version) {\n",
       "      var key = `${lib.replace(\"-\", \"\")}_version`;\n",
       "      return (VEGA_DEBUG[key] == version) ?\n",
       "        Promise.resolve(paths[lib]) :\n",
       "        new Promise(function(resolve, reject) {\n",
       "          var s = document.createElement('script');\n",
       "          document.getElementsByTagName(\"head\")[0].appendChild(s);\n",
       "          s.async = true;\n",
       "          s.onload = () => {\n",
       "            VEGA_DEBUG[key] = version;\n",
       "            return resolve(paths[lib]);\n",
       "          };\n",
       "          s.onerror = () => reject(`Error loading script: ${paths[lib]}`);\n",
       "          s.src = paths[lib];\n",
       "        });\n",
       "    }\n",
       "\n",
       "    function showError(err) {\n",
       "      outputDiv.innerHTML = `<div class=\"error\" style=\"color:red;\">${err}</div>`;\n",
       "      throw err;\n",
       "    }\n",
       "\n",
       "    function displayChart(vegaEmbed) {\n",
       "      vegaEmbed(outputDiv, spec, embedOpt)\n",
       "        .catch(err => showError(`Javascript Error: ${err.message}<br>This usually means there's a typo in your chart specification. See the javascript console for the full traceback.`));\n",
       "    }\n",
       "\n",
       "    if(typeof define === \"function\" && define.amd) {\n",
       "      requirejs.config({paths});\n",
       "      require([\"vega-embed\"], displayChart, err => showError(`Error loading script: ${err.message}`));\n",
       "    } else {\n",
       "      maybeLoadScript(\"vega\", \"5\")\n",
       "        .then(() => maybeLoadScript(\"vega-lite\", \"4.17.0\"))\n",
       "        .then(() => maybeLoadScript(\"vega-embed\", \"6\"))\n",
       "        .catch(showError)\n",
       "        .then(() => displayChart(vegaEmbed));\n",
       "    }\n",
       "  })({\"config\": {\"view\": {\"continuousWidth\": 400, \"continuousHeight\": 300, \"stroke\": null}, \"facet\": {\"spacing\": 0}}, \"data\": {\"name\": \"data-1f6c19d45cb9450c7fce9ef411d0adcb\"}, \"facet\": {\"column\": {\"field\": \"route_id\", \"sort\": [\"41\"], \"title\": \"Route ID\", \"type\": \"nominal\"}}, \"spec\": {\"layer\": [{\"mark\": {\"type\": \"point\", \"opacity\": 0.65, \"size\": 12, \"strokeWidth\": 1.1}, \"encoding\": {\"color\": {\"field\": \"time_of_day\", \"scale\": {\"range\": [\"#136C97\", \"#E16B26\", \"#F6BF16\", \"#00896B\", \"#7790A3\", \"#5B559C\"]}, \"sort\": [\"AM Peak\", \"Midday\", \"PM Peak\", \"Owl Service\"], \"title\": \"Time of Day\", \"type\": \"nominal\"}, \"tooltip\": [{\"field\": \"route_id\", \"type\": \"nominal\"}, {\"field\": \"trip_id\", \"type\": \"nominal\"}, {\"field\": \"service_hours\", \"type\": \"quantitative\"}, {\"field\": \"car_duration_hours\", \"type\": \"quantitative\"}, {\"field\": \"bus_multiplier\", \"type\": \"quantitative\"}, {\"field\": \"bus_difference\", \"type\": \"quantitative\"}, {\"field\": \"num_trips\", \"type\": \"quantitative\"}, {\"field\": \"num_competitive\", \"type\": \"quantitative\"}, {\"field\": \"pct_trips_competitive\", \"type\": \"quantitative\"}, {\"field\": \"p25\", \"type\": \"quantitative\"}, {\"field\": \"p50\", \"type\": \"quantitative\"}, {\"field\": \"p75\", \"type\": \"quantitative\"}], \"x\": {\"axis\": {\"grid\": false, \"labels\": false, \"ticks\": true, \"values\": [0]}, \"field\": \"jitter\", \"scale\": {}, \"title\": null, \"type\": \"quantitative\"}, \"y\": {\"field\": \"bus_multiplier\", \"scale\": {\"domain\": [-0.25, 2.5]}, \"title\": \"Ratio of Bus to Car Travel Time\", \"type\": \"quantitative\"}}, \"selection\": {\"selector003\": {\"type\": \"interval\", \"bind\": \"scales\", \"encodings\": [\"x\", \"y\"]}}, \"transform\": [{\"calculate\": \"sqrt(-2*log(random()))*cos(2*PI*random())\", \"as\": \"jitter\"}], \"width\": 60}, {\"layer\": [{\"mark\": {\"type\": \"point\", \"opacity\": 0.6, \"size\": 20, \"strokeWidth\": 1.3}, \"encoding\": {\"color\": {\"value\": \"#323434\"}, \"y\": {\"field\": \"bus_multiplier\", \"type\": \"quantitative\"}}, \"transform\": [{\"filter\": \"(datum.p50_trip === 1)\"}]}, {\"mark\": {\"type\": \"rule\", \"strokeDash\": [2, 3]}, \"encoding\": {\"color\": {\"value\": \"#323434\"}, \"y\": {\"field\": \"cutoff\", \"type\": \"quantitative\"}}}, {\"mark\": {\"type\": \"text\", \"align\": \"center\", \"baseline\": \"middle\"}, \"encoding\": {\"color\": {\"value\": \"black\"}, \"text\": {\"field\": \"pct_trips_competitive\", \"format\": \".0%\", \"type\": \"quantitative\"}, \"tooltip\": [{\"field\": \"route_id\", \"type\": \"nominal\"}, {\"field\": \"trip_id\", \"type\": \"nominal\"}, {\"field\": \"service_hours\", \"type\": \"quantitative\"}, {\"field\": \"car_duration_hours\", \"type\": \"quantitative\"}, {\"field\": \"bus_multiplier\", \"type\": \"quantitative\"}, {\"field\": \"bus_difference\", \"type\": \"quantitative\"}, {\"field\": \"num_trips\", \"type\": \"quantitative\"}, {\"field\": \"num_competitive\", \"type\": \"quantitative\"}, {\"field\": \"pct_trips_competitive\", \"type\": \"quantitative\"}, {\"field\": \"p25\", \"type\": \"quantitative\"}, {\"field\": \"p50\", \"type\": \"quantitative\"}, {\"field\": \"p75\", \"type\": \"quantitative\"}], \"x\": {\"value\": 30}, \"y\": {\"value\": 15}}, \"transform\": [{\"calculate\": \"sqrt(-2*log(random()))*cos(2*PI*random())\", \"as\": \"jitter\"}, {\"filter\": \"(datum.fastest_trip === 1)\"}]}]}]}, \"resolve\": {\"scale\": {\"y\": \"shared\"}}, \"title\": \"Ratio of Bus to Car Travel Time\", \"$schema\": \"https://vega.github.io/schema/vega-lite/v4.17.0.json\", \"datasets\": {\"data-1f6c19d45cb9450c7fce9ef411d0adcb\": [{\"calitp_itp_id\": 126, \"trip_key\": 5776538052279883279, \"trip_id\": \"1672\", \"shape_id\": \"79\", \"route_id\": \"41\", \"service_hours\": 1.35, \"trip_first_departure_ts\": 63000, \"trip_last_arrival_ts\": 67860, \"departure_hour\": 17, \"time_of_day\": \"PM Peak\", \"p25\": 1.45, \"p50\": 1.45, \"p75\": 1.55, \"p50_trip\": 0, \"fastest_trip\": 1, \"car_duration_hours\": 0.8, \"competitive_route\": 1, \"bus_multiplier\": 1.69, \"bus_difference\": 33.0, \"num_trips\": 45, \"num_competitive\": 45, \"pct_trips_competitive\": 1.0, \"bus_difference_spread\": 12.0, \"route_group\": \"long\", \"max_trip_hrs\": 1.55, \"max_trip_route_group\": 1.55, \"name\": \"Golden Empire Transit District\", \"caltrans_district\": \"06 - Fresno\", \"drmt_organization_name\": null, \"cutoff2\": 23.25, \"cutoff\": 2}, {\"calitp_itp_id\": 126, \"trip_key\": 6469954698833813641, \"trip_id\": \"1671\", \"shape_id\": \"79\", \"route_id\": \"41\", \"service_hours\": 1.35, \"trip_first_departure_ts\": 61200, \"trip_last_arrival_ts\": 66060, \"departure_hour\": 17, \"time_of_day\": \"PM Peak\", \"p25\": 1.45, \"p50\": 1.45, \"p75\": 1.55, \"p50_trip\": 0, \"fastest_trip\": 0, \"car_duration_hours\": 0.8, \"competitive_route\": 1, \"bus_multiplier\": 1.69, \"bus_difference\": 33.0, \"num_trips\": 45, \"num_competitive\": 45, \"pct_trips_competitive\": 1.0, \"bus_difference_spread\": 12.0, \"route_group\": \"long\", \"max_trip_hrs\": 1.55, \"max_trip_route_group\": 1.55, \"name\": \"Golden Empire Transit District\", \"caltrans_district\": \"06 - Fresno\", \"drmt_organization_name\": null, \"cutoff2\": 23.25, \"cutoff\": 2}, {\"calitp_itp_id\": 126, \"trip_key\": -4413477114220239056, \"trip_id\": \"3754\", \"shape_id\": \"78\", \"route_id\": \"41\", \"service_hours\": 1.43, \"trip_first_departure_ts\": 59220, \"trip_last_arrival_ts\": 64380, \"departure_hour\": 16, \"time_of_day\": \"Midday\", \"p25\": 1.45, \"p50\": 1.45, \"p75\": 1.55, \"p50_trip\": 0, \"fastest_trip\": 0, \"car_duration_hours\": 0.8, \"competitive_route\": 1, \"bus_multiplier\": 1.79, \"bus_difference\": 37.8, \"num_trips\": 45, \"num_competitive\": 45, \"pct_trips_competitive\": 1.0, \"bus_difference_spread\": 12.0, \"route_group\": \"long\", \"max_trip_hrs\": 1.55, \"max_trip_route_group\": 1.55, \"name\": \"Golden Empire Transit District\", \"caltrans_district\": \"06 - Fresno\", \"drmt_organization_name\": null, \"cutoff2\": 23.25, \"cutoff\": 2}, {\"calitp_itp_id\": 126, \"trip_key\": -695124153587898879, \"trip_id\": \"3756\", \"shape_id\": \"78\", \"route_id\": \"41\", \"service_hours\": 1.43, \"trip_first_departure_ts\": 62820, \"trip_last_arrival_ts\": 67980, \"departure_hour\": 17, \"time_of_day\": \"PM Peak\", \"p25\": 1.45, \"p50\": 1.45, \"p75\": 1.55, \"p50_trip\": 0, \"fastest_trip\": 0, \"car_duration_hours\": 0.8, \"competitive_route\": 1, \"bus_multiplier\": 1.79, \"bus_difference\": 37.8, \"num_trips\": 45, \"num_competitive\": 45, \"pct_trips_competitive\": 1.0, \"bus_difference_spread\": 12.0, \"route_group\": \"long\", \"max_trip_hrs\": 1.55, \"max_trip_route_group\": 1.55, \"name\": \"Golden Empire Transit District\", \"caltrans_district\": \"06 - Fresno\", \"drmt_organization_name\": null, \"cutoff2\": 23.25, \"cutoff\": 2}, {\"calitp_itp_id\": 126, \"trip_key\": -1731104395915060672, \"trip_id\": \"3755\", \"shape_id\": \"78\", \"route_id\": \"41\", \"service_hours\": 1.43, \"trip_first_departure_ts\": 61020, \"trip_last_arrival_ts\": 66180, \"departure_hour\": 16, \"time_of_day\": \"Midday\", \"p25\": 1.45, \"p50\": 1.45, \"p75\": 1.55, \"p50_trip\": 0, \"fastest_trip\": 0, \"car_duration_hours\": 0.8, \"competitive_route\": 1, \"bus_multiplier\": 1.79, \"bus_difference\": 37.8, \"num_trips\": 45, \"num_competitive\": 45, \"pct_trips_competitive\": 1.0, \"bus_difference_spread\": 12.0, \"route_group\": \"long\", \"max_trip_hrs\": 1.55, \"max_trip_route_group\": 1.55, \"name\": \"Golden Empire Transit District\", \"caltrans_district\": \"06 - Fresno\", \"drmt_organization_name\": null, \"cutoff2\": 23.25, \"cutoff\": 2}, {\"calitp_itp_id\": 126, \"trip_key\": 6389089163886931171, \"trip_id\": \"3757\", \"shape_id\": \"78\", \"route_id\": \"41\", \"service_hours\": 1.43, \"trip_first_departure_ts\": 64620, \"trip_last_arrival_ts\": 69780, \"departure_hour\": 17, \"time_of_day\": \"PM Peak\", \"p25\": 1.45, \"p50\": 1.45, \"p75\": 1.55, \"p50_trip\": 0, \"fastest_trip\": 0, \"car_duration_hours\": 0.8, \"competitive_route\": 1, \"bus_multiplier\": 1.79, \"bus_difference\": 37.8, \"num_trips\": 45, \"num_competitive\": 45, \"pct_trips_competitive\": 1.0, \"bus_difference_spread\": 12.0, \"route_group\": \"long\", \"max_trip_hrs\": 1.55, \"max_trip_route_group\": 1.55, \"name\": \"Golden Empire Transit District\", \"caltrans_district\": \"06 - Fresno\", \"drmt_organization_name\": null, \"cutoff2\": 23.25, \"cutoff\": 2}, {\"calitp_itp_id\": 126, \"trip_key\": -5206940515578354684, \"trip_id\": \"1667\", \"shape_id\": \"79\", \"route_id\": \"41\", \"service_hours\": 1.45, \"trip_first_departure_ts\": 54000, \"trip_last_arrival_ts\": 59220, \"departure_hour\": 15, \"time_of_day\": \"Midday\", \"p25\": 1.45, \"p50\": 1.45, \"p75\": 1.55, \"p50_trip\": 1, \"fastest_trip\": 0, \"car_duration_hours\": 0.8, \"competitive_route\": 1, \"bus_multiplier\": 1.81, \"bus_difference\": 39.0, \"num_trips\": 45, \"num_competitive\": 45, \"pct_trips_competitive\": 1.0, \"bus_difference_spread\": 12.0, \"route_group\": \"long\", \"max_trip_hrs\": 1.55, \"max_trip_route_group\": 1.55, \"name\": \"Golden Empire Transit District\", \"caltrans_district\": \"06 - Fresno\", \"drmt_organization_name\": null, \"cutoff2\": 23.25, \"cutoff\": 2}, {\"calitp_itp_id\": 126, \"trip_key\": 7497108670509890795, \"trip_id\": \"3768\", \"shape_id\": \"79\", \"route_id\": \"41\", \"service_hours\": 1.45, \"trip_first_departure_ts\": 43200, \"trip_last_arrival_ts\": 48420, \"departure_hour\": 12, \"time_of_day\": \"Midday\", \"p25\": 1.45, \"p50\": 1.45, \"p75\": 1.55, \"p50_trip\": 1, \"fastest_trip\": 0, \"car_duration_hours\": 0.8, \"competitive_route\": 1, \"bus_multiplier\": 1.81, \"bus_difference\": 39.0, \"num_trips\": 45, \"num_competitive\": 45, \"pct_trips_competitive\": 1.0, \"bus_difference_spread\": 12.0, \"route_group\": \"long\", \"max_trip_hrs\": 1.55, \"max_trip_route_group\": 1.55, \"name\": \"Golden Empire Transit District\", \"caltrans_district\": \"06 - Fresno\", \"drmt_organization_name\": null, \"cutoff2\": 23.25, \"cutoff\": 2}, {\"calitp_itp_id\": 126, \"trip_key\": -2766104624036821072, \"trip_id\": \"1669\", \"shape_id\": \"79\", \"route_id\": \"41\", \"service_hours\": 1.45, \"trip_first_departure_ts\": 57600, \"trip_last_arrival_ts\": 62820, \"departure_hour\": 16, \"time_of_day\": \"Midday\", \"p25\": 1.45, \"p50\": 1.45, \"p75\": 1.55, \"p50_trip\": 1, \"fastest_trip\": 0, \"car_duration_hours\": 0.8, \"competitive_route\": 1, \"bus_multiplier\": 1.81, \"bus_difference\": 39.0, \"num_trips\": 45, \"num_competitive\": 45, \"pct_trips_competitive\": 1.0, \"bus_difference_spread\": 12.0, \"route_group\": \"long\", \"max_trip_hrs\": 1.55, \"max_trip_route_group\": 1.55, \"name\": \"Golden Empire Transit District\", \"caltrans_district\": \"06 - Fresno\", \"drmt_organization_name\": null, \"cutoff2\": 23.25, \"cutoff\": 2}, {\"calitp_itp_id\": 126, \"trip_key\": -2623109568593173716, \"trip_id\": \"1668\", \"shape_id\": \"79\", \"route_id\": \"41\", \"service_hours\": 1.45, \"trip_first_departure_ts\": 55800, \"trip_last_arrival_ts\": 61020, \"departure_hour\": 15, \"time_of_day\": \"Midday\", \"p25\": 1.45, \"p50\": 1.45, \"p75\": 1.55, \"p50_trip\": 1, \"fastest_trip\": 0, \"car_duration_hours\": 0.8, \"competitive_route\": 1, \"bus_multiplier\": 1.81, \"bus_difference\": 39.0, \"num_trips\": 45, \"num_competitive\": 45, \"pct_trips_competitive\": 1.0, \"bus_difference_spread\": 12.0, \"route_group\": \"long\", \"max_trip_hrs\": 1.55, \"max_trip_route_group\": 1.55, \"name\": \"Golden Empire Transit District\", \"caltrans_district\": \"06 - Fresno\", \"drmt_organization_name\": null, \"cutoff2\": 23.25, \"cutoff\": 2}, {\"calitp_itp_id\": 126, \"trip_key\": 4595739502092105579, \"trip_id\": \"3767\", \"shape_id\": \"79\", \"route_id\": \"41\", \"service_hours\": 1.45, \"trip_first_departure_ts\": 41400, \"trip_last_arrival_ts\": 46620, \"departure_hour\": 11, \"time_of_day\": \"Midday\", \"p25\": 1.45, \"p50\": 1.45, \"p75\": 1.55, \"p50_trip\": 1, \"fastest_trip\": 0, \"car_duration_hours\": 0.8, \"competitive_route\": 1, \"bus_multiplier\": 1.81, \"bus_difference\": 39.0, \"num_trips\": 45, \"num_competitive\": 45, \"pct_trips_competitive\": 1.0, \"bus_difference_spread\": 12.0, \"route_group\": \"long\", \"max_trip_hrs\": 1.55, \"max_trip_route_group\": 1.55, \"name\": \"Golden Empire Transit District\", \"caltrans_district\": \"06 - Fresno\", \"drmt_organization_name\": null, \"cutoff2\": 23.25, \"cutoff\": 2}, {\"calitp_itp_id\": 126, \"trip_key\": -2929062652118405266, \"trip_id\": \"1670\", \"shape_id\": \"79\", \"route_id\": \"41\", \"service_hours\": 1.45, \"trip_first_departure_ts\": 59400, \"trip_last_arrival_ts\": 64620, \"departure_hour\": 16, \"time_of_day\": \"Midday\", \"p25\": 1.45, \"p50\": 1.45, \"p75\": 1.55, \"p50_trip\": 1, \"fastest_trip\": 0, \"car_duration_hours\": 0.8, \"competitive_route\": 1, \"bus_multiplier\": 1.81, \"bus_difference\": 39.0, \"num_trips\": 45, \"num_competitive\": 45, \"pct_trips_competitive\": 1.0, \"bus_difference_spread\": 12.0, \"route_group\": \"long\", \"max_trip_hrs\": 1.55, \"max_trip_route_group\": 1.55, \"name\": \"Golden Empire Transit District\", \"caltrans_district\": \"06 - Fresno\", \"drmt_organization_name\": null, \"cutoff2\": 23.25, \"cutoff\": 2}, {\"calitp_itp_id\": 126, \"trip_key\": 919333876661356962, \"trip_id\": \"3764\", \"shape_id\": \"79\", \"route_id\": \"41\", \"service_hours\": 1.45, \"trip_first_departure_ts\": 36000, \"trip_last_arrival_ts\": 41220, \"departure_hour\": 10, \"time_of_day\": \"Midday\", \"p25\": 1.45, \"p50\": 1.45, \"p75\": 1.55, \"p50_trip\": 1, \"fastest_trip\": 0, \"car_duration_hours\": 0.8, \"competitive_route\": 1, \"bus_multiplier\": 1.81, \"bus_difference\": 39.0, \"num_trips\": 45, \"num_competitive\": 45, \"pct_trips_competitive\": 1.0, \"bus_difference_spread\": 12.0, \"route_group\": \"long\", \"max_trip_hrs\": 1.55, \"max_trip_route_group\": 1.55, \"name\": \"Golden Empire Transit District\", \"caltrans_district\": \"06 - Fresno\", \"drmt_organization_name\": null, \"cutoff2\": 23.25, \"cutoff\": 2}, {\"calitp_itp_id\": 126, \"trip_key\": -1075485859789652750, \"trip_id\": \"1664\", \"shape_id\": \"79\", \"route_id\": \"41\", \"service_hours\": 1.45, \"trip_first_departure_ts\": 48600, \"trip_last_arrival_ts\": 53820, \"departure_hour\": 13, \"time_of_day\": \"Midday\", \"p25\": 1.45, \"p50\": 1.45, \"p75\": 1.55, \"p50_trip\": 1, \"fastest_trip\": 0, \"car_duration_hours\": 0.8, \"competitive_route\": 1, \"bus_multiplier\": 1.81, \"bus_difference\": 39.0, \"num_trips\": 45, \"num_competitive\": 45, \"pct_trips_competitive\": 1.0, \"bus_difference_spread\": 12.0, \"route_group\": \"long\", \"max_trip_hrs\": 1.55, \"max_trip_route_group\": 1.55, \"name\": \"Golden Empire Transit District\", \"caltrans_district\": \"06 - Fresno\", \"drmt_organization_name\": null, \"cutoff2\": 23.25, \"cutoff\": 2}, {\"calitp_itp_id\": 126, \"trip_key\": -52251744586674668, \"trip_id\": \"3759\", \"shape_id\": \"79\", \"route_id\": \"41\", \"service_hours\": 1.45, \"trip_first_departure_ts\": 27000, \"trip_last_arrival_ts\": 32220, \"departure_hour\": 7, \"time_of_day\": \"AM Peak\", \"p25\": 1.45, \"p50\": 1.45, \"p75\": 1.55, \"p50_trip\": 1, \"fastest_trip\": 0, \"car_duration_hours\": 0.8, \"competitive_route\": 1, \"bus_multiplier\": 1.81, \"bus_difference\": 39.0, \"num_trips\": 45, \"num_competitive\": 45, \"pct_trips_competitive\": 1.0, \"bus_difference_spread\": 12.0, \"route_group\": \"long\", \"max_trip_hrs\": 1.55, \"max_trip_route_group\": 1.55, \"name\": \"Golden Empire Transit District\", \"caltrans_district\": \"06 - Fresno\", \"drmt_organization_name\": null, \"cutoff2\": 23.25, \"cutoff\": 2}, {\"calitp_itp_id\": 126, \"trip_key\": -8632599654675507629, \"trip_id\": \"1665\", \"shape_id\": \"79\", \"route_id\": \"41\", \"service_hours\": 1.45, \"trip_first_departure_ts\": 50400, \"trip_last_arrival_ts\": 55620, \"departure_hour\": 14, \"time_of_day\": \"Midday\", \"p25\": 1.45, \"p50\": 1.45, \"p75\": 1.55, \"p50_trip\": 1, \"fastest_trip\": 0, \"car_duration_hours\": 0.8, \"competitive_route\": 1, \"bus_multiplier\": 1.81, \"bus_difference\": 39.0, \"num_trips\": 45, \"num_competitive\": 45, \"pct_trips_competitive\": 1.0, \"bus_difference_spread\": 12.0, \"route_group\": \"long\", \"max_trip_hrs\": 1.55, \"max_trip_route_group\": 1.55, \"name\": \"Golden Empire Transit District\", \"caltrans_district\": \"06 - Fresno\", \"drmt_organization_name\": null, \"cutoff2\": 23.25, \"cutoff\": 2}, {\"calitp_itp_id\": 126, \"trip_key\": -4313911544704650402, \"trip_id\": \"3762\", \"shape_id\": \"79\", \"route_id\": \"41\", \"service_hours\": 1.45, \"trip_first_departure_ts\": 32400, \"trip_last_arrival_ts\": 37620, \"departure_hour\": 9, \"time_of_day\": \"AM Peak\", \"p25\": 1.45, \"p50\": 1.45, \"p75\": 1.55, \"p50_trip\": 1, \"fastest_trip\": 0, \"car_duration_hours\": 0.8, \"competitive_route\": 1, \"bus_multiplier\": 1.81, \"bus_difference\": 39.0, \"num_trips\": 45, \"num_competitive\": 45, \"pct_trips_competitive\": 1.0, \"bus_difference_spread\": 12.0, \"route_group\": \"long\", \"max_trip_hrs\": 1.55, \"max_trip_route_group\": 1.55, \"name\": \"Golden Empire Transit District\", \"caltrans_district\": \"06 - Fresno\", \"drmt_organization_name\": null, \"cutoff2\": 23.25, \"cutoff\": 2}, {\"calitp_itp_id\": 126, \"trip_key\": 6392253989863255883, \"trip_id\": \"3763\", \"shape_id\": \"79\", \"route_id\": \"41\", \"service_hours\": 1.45, \"trip_first_departure_ts\": 34200, \"trip_last_arrival_ts\": 39420, \"departure_hour\": 9, \"time_of_day\": \"AM Peak\", \"p25\": 1.45, \"p50\": 1.45, \"p75\": 1.55, \"p50_trip\": 1, \"fastest_trip\": 0, \"car_duration_hours\": 0.8, \"competitive_route\": 1, \"bus_multiplier\": 1.81, \"bus_difference\": 39.0, \"num_trips\": 45, \"num_competitive\": 45, \"pct_trips_competitive\": 1.0, \"bus_difference_spread\": 12.0, \"route_group\": \"long\", \"max_trip_hrs\": 1.55, \"max_trip_route_group\": 1.55, \"name\": \"Golden Empire Transit District\", \"caltrans_district\": \"06 - Fresno\", \"drmt_organization_name\": null, \"cutoff2\": 23.25, \"cutoff\": 2}, {\"calitp_itp_id\": 126, \"trip_key\": 3411248475395932656, \"trip_id\": \"3765\", \"shape_id\": \"79\", \"route_id\": \"41\", \"service_hours\": 1.45, \"trip_first_departure_ts\": 37800, \"trip_last_arrival_ts\": 43020, \"departure_hour\": 10, \"time_of_day\": \"Midday\", \"p25\": 1.45, \"p50\": 1.45, \"p75\": 1.55, \"p50_trip\": 1, \"fastest_trip\": 0, \"car_duration_hours\": 0.8, \"competitive_route\": 1, \"bus_multiplier\": 1.81, \"bus_difference\": 39.0, \"num_trips\": 45, \"num_competitive\": 45, \"pct_trips_competitive\": 1.0, \"bus_difference_spread\": 12.0, \"route_group\": \"long\", \"max_trip_hrs\": 1.55, \"max_trip_route_group\": 1.55, \"name\": \"Golden Empire Transit District\", \"caltrans_district\": \"06 - Fresno\", \"drmt_organization_name\": null, \"cutoff2\": 23.25, \"cutoff\": 2}, {\"calitp_itp_id\": 126, \"trip_key\": -7072556819798405700, \"trip_id\": \"3761\", \"shape_id\": \"79\", \"route_id\": \"41\", \"service_hours\": 1.45, \"trip_first_departure_ts\": 30600, \"trip_last_arrival_ts\": 35820, \"departure_hour\": 8, \"time_of_day\": \"AM Peak\", \"p25\": 1.45, \"p50\": 1.45, \"p75\": 1.55, \"p50_trip\": 1, \"fastest_trip\": 0, \"car_duration_hours\": 0.8, \"competitive_route\": 1, \"bus_multiplier\": 1.81, \"bus_difference\": 39.0, \"num_trips\": 45, \"num_competitive\": 45, \"pct_trips_competitive\": 1.0, \"bus_difference_spread\": 12.0, \"route_group\": \"long\", \"max_trip_hrs\": 1.55, \"max_trip_route_group\": 1.55, \"name\": \"Golden Empire Transit District\", \"caltrans_district\": \"06 - Fresno\", \"drmt_organization_name\": null, \"cutoff2\": 23.25, \"cutoff\": 2}, {\"calitp_itp_id\": 126, \"trip_key\": 4830279098424700338, \"trip_id\": \"1666\", \"shape_id\": \"79\", \"route_id\": \"41\", \"service_hours\": 1.45, \"trip_first_departure_ts\": 52200, \"trip_last_arrival_ts\": 57420, \"departure_hour\": 14, \"time_of_day\": \"Midday\", \"p25\": 1.45, \"p50\": 1.45, \"p75\": 1.55, \"p50_trip\": 1, \"fastest_trip\": 0, \"car_duration_hours\": 0.8, \"competitive_route\": 1, \"bus_multiplier\": 1.81, \"bus_difference\": 39.0, \"num_trips\": 45, \"num_competitive\": 45, \"pct_trips_competitive\": 1.0, \"bus_difference_spread\": 12.0, \"route_group\": \"long\", \"max_trip_hrs\": 1.55, \"max_trip_route_group\": 1.55, \"name\": \"Golden Empire Transit District\", \"caltrans_district\": \"06 - Fresno\", \"drmt_organization_name\": null, \"cutoff2\": 23.25, \"cutoff\": 2}, {\"calitp_itp_id\": 126, \"trip_key\": -2360716236685420171, \"trip_id\": \"3758\", \"shape_id\": \"79\", \"route_id\": \"41\", \"service_hours\": 1.45, \"trip_first_departure_ts\": 25200, \"trip_last_arrival_ts\": 30420, \"departure_hour\": 7, \"time_of_day\": \"AM Peak\", \"p25\": 1.45, \"p50\": 1.45, \"p75\": 1.55, \"p50_trip\": 1, \"fastest_trip\": 0, \"car_duration_hours\": 0.8, \"competitive_route\": 1, \"bus_multiplier\": 1.81, \"bus_difference\": 39.0, \"num_trips\": 45, \"num_competitive\": 45, \"pct_trips_competitive\": 1.0, \"bus_difference_spread\": 12.0, \"route_group\": \"long\", \"max_trip_hrs\": 1.55, \"max_trip_route_group\": 1.55, \"name\": \"Golden Empire Transit District\", \"caltrans_district\": \"06 - Fresno\", \"drmt_organization_name\": null, \"cutoff2\": 23.25, \"cutoff\": 2}, {\"calitp_itp_id\": 126, \"trip_key\": -9077068888481348122, \"trip_id\": \"3769\", \"shape_id\": \"79\", \"route_id\": \"41\", \"service_hours\": 1.45, \"trip_first_departure_ts\": 45000, \"trip_last_arrival_ts\": 50220, \"departure_hour\": 12, \"time_of_day\": \"Midday\", \"p25\": 1.45, \"p50\": 1.45, \"p75\": 1.55, \"p50_trip\": 1, \"fastest_trip\": 0, \"car_duration_hours\": 0.8, \"competitive_route\": 1, \"bus_multiplier\": 1.81, \"bus_difference\": 39.0, \"num_trips\": 45, \"num_competitive\": 45, \"pct_trips_competitive\": 1.0, \"bus_difference_spread\": 12.0, \"route_group\": \"long\", \"max_trip_hrs\": 1.55, \"max_trip_route_group\": 1.55, \"name\": \"Golden Empire Transit District\", \"caltrans_district\": \"06 - Fresno\", \"drmt_organization_name\": null, \"cutoff2\": 23.25, \"cutoff\": 2}, {\"calitp_itp_id\": 126, \"trip_key\": 7722774300800139552, \"trip_id\": \"3766\", \"shape_id\": \"79\", \"route_id\": \"41\", \"service_hours\": 1.45, \"trip_first_departure_ts\": 39600, \"trip_last_arrival_ts\": 44820, \"departure_hour\": 11, \"time_of_day\": \"Midday\", \"p25\": 1.45, \"p50\": 1.45, \"p75\": 1.55, \"p50_trip\": 1, \"fastest_trip\": 0, \"car_duration_hours\": 0.8, \"competitive_route\": 1, \"bus_multiplier\": 1.81, \"bus_difference\": 39.0, \"num_trips\": 45, \"num_competitive\": 45, \"pct_trips_competitive\": 1.0, \"bus_difference_spread\": 12.0, \"route_group\": \"long\", \"max_trip_hrs\": 1.55, \"max_trip_route_group\": 1.55, \"name\": \"Golden Empire Transit District\", \"caltrans_district\": \"06 - Fresno\", \"drmt_organization_name\": null, \"cutoff2\": 23.25, \"cutoff\": 2}, {\"calitp_itp_id\": 126, \"trip_key\": -27000447531349206, \"trip_id\": \"1513\", \"shape_id\": \"79\", \"route_id\": \"41\", \"service_hours\": 1.45, \"trip_first_departure_ts\": 46800, \"trip_last_arrival_ts\": 52020, \"departure_hour\": 13, \"time_of_day\": \"Midday\", \"p25\": 1.45, \"p50\": 1.45, \"p75\": 1.55, \"p50_trip\": 1, \"fastest_trip\": 0, \"car_duration_hours\": 0.8, \"competitive_route\": 1, \"bus_multiplier\": 1.81, \"bus_difference\": 39.0, \"num_trips\": 45, \"num_competitive\": 45, \"pct_trips_competitive\": 1.0, \"bus_difference_spread\": 12.0, \"route_group\": \"long\", \"max_trip_hrs\": 1.55, \"max_trip_route_group\": 1.55, \"name\": \"Golden Empire Transit District\", \"caltrans_district\": \"06 - Fresno\", \"drmt_organization_name\": null, \"cutoff2\": 23.25, \"cutoff\": 2}, {\"calitp_itp_id\": 126, \"trip_key\": -634519358534191590, \"trip_id\": \"3760\", \"shape_id\": \"79\", \"route_id\": \"41\", \"service_hours\": 1.45, \"trip_first_departure_ts\": 28800, \"trip_last_arrival_ts\": 34020, \"departure_hour\": 8, \"time_of_day\": \"AM Peak\", \"p25\": 1.45, \"p50\": 1.45, \"p75\": 1.55, \"p50_trip\": 1, \"fastest_trip\": 0, \"car_duration_hours\": 0.8, \"competitive_route\": 1, \"bus_multiplier\": 1.81, \"bus_difference\": 39.0, \"num_trips\": 45, \"num_competitive\": 45, \"pct_trips_competitive\": 1.0, \"bus_difference_spread\": 12.0, \"route_group\": \"long\", \"max_trip_hrs\": 1.55, \"max_trip_route_group\": 1.55, \"name\": \"Golden Empire Transit District\", \"caltrans_district\": \"06 - Fresno\", \"drmt_organization_name\": null, \"cutoff2\": 23.25, \"cutoff\": 2}, {\"calitp_itp_id\": 126, \"trip_key\": -4088461551057439274, \"trip_id\": \"3746\", \"shape_id\": \"78\", \"route_id\": \"41\", \"service_hours\": 1.55, \"trip_first_departure_ts\": 44820, \"trip_last_arrival_ts\": 50400, \"departure_hour\": 12, \"time_of_day\": \"Midday\", \"p25\": 1.45, \"p50\": 1.45, \"p75\": 1.55, \"p50_trip\": 0, \"fastest_trip\": 0, \"car_duration_hours\": 0.8, \"competitive_route\": 1, \"bus_multiplier\": 1.94, \"bus_difference\": 45.0, \"num_trips\": 45, \"num_competitive\": 45, \"pct_trips_competitive\": 1.0, \"bus_difference_spread\": 12.0, \"route_group\": \"long\", \"max_trip_hrs\": 1.55, \"max_trip_route_group\": 1.55, \"name\": \"Golden Empire Transit District\", \"caltrans_district\": \"06 - Fresno\", \"drmt_organization_name\": null, \"cutoff2\": 23.25, \"cutoff\": 2}, {\"calitp_itp_id\": 126, \"trip_key\": -6363174918419727490, \"trip_id\": \"3751\", \"shape_id\": \"78\", \"route_id\": \"41\", \"service_hours\": 1.55, \"trip_first_departure_ts\": 53820, \"trip_last_arrival_ts\": 59400, \"departure_hour\": 14, \"time_of_day\": \"Midday\", \"p25\": 1.45, \"p50\": 1.45, \"p75\": 1.55, \"p50_trip\": 0, \"fastest_trip\": 0, \"car_duration_hours\": 0.8, \"competitive_route\": 1, \"bus_multiplier\": 1.94, \"bus_difference\": 45.0, \"num_trips\": 45, \"num_competitive\": 45, \"pct_trips_competitive\": 1.0, \"bus_difference_spread\": 12.0, \"route_group\": \"long\", \"max_trip_hrs\": 1.55, \"max_trip_route_group\": 1.55, \"name\": \"Golden Empire Transit District\", \"caltrans_district\": \"06 - Fresno\", \"drmt_organization_name\": null, \"cutoff2\": 23.25, \"cutoff\": 2}, {\"calitp_itp_id\": 126, \"trip_key\": -6879825001613676038, \"trip_id\": \"3744\", \"shape_id\": \"78\", \"route_id\": \"41\", \"service_hours\": 1.55, \"trip_first_departure_ts\": 41220, \"trip_last_arrival_ts\": 46800, \"departure_hour\": 11, \"time_of_day\": \"Midday\", \"p25\": 1.45, \"p50\": 1.45, \"p75\": 1.55, \"p50_trip\": 0, \"fastest_trip\": 0, \"car_duration_hours\": 0.8, \"competitive_route\": 1, \"bus_multiplier\": 1.94, \"bus_difference\": 45.0, \"num_trips\": 45, \"num_competitive\": 45, \"pct_trips_competitive\": 1.0, \"bus_difference_spread\": 12.0, \"route_group\": \"long\", \"max_trip_hrs\": 1.55, \"max_trip_route_group\": 1.55, \"name\": \"Golden Empire Transit District\", \"caltrans_district\": \"06 - Fresno\", \"drmt_organization_name\": null, \"cutoff2\": 23.25, \"cutoff\": 2}, {\"calitp_itp_id\": 126, \"trip_key\": -8905649343725834347, \"trip_id\": \"3736\", \"shape_id\": \"78\", \"route_id\": \"41\", \"service_hours\": 1.55, \"trip_first_departure_ts\": 26820, \"trip_last_arrival_ts\": 32400, \"departure_hour\": 7, \"time_of_day\": \"AM Peak\", \"p25\": 1.45, \"p50\": 1.45, \"p75\": 1.55, \"p50_trip\": 0, \"fastest_trip\": 0, \"car_duration_hours\": 0.8, \"competitive_route\": 1, \"bus_multiplier\": 1.94, \"bus_difference\": 45.0, \"num_trips\": 45, \"num_competitive\": 45, \"pct_trips_competitive\": 1.0, \"bus_difference_spread\": 12.0, \"route_group\": \"long\", \"max_trip_hrs\": 1.55, \"max_trip_route_group\": 1.55, \"name\": \"Golden Empire Transit District\", \"caltrans_district\": \"06 - Fresno\", \"drmt_organization_name\": null, \"cutoff2\": 23.25, \"cutoff\": 2}, {\"calitp_itp_id\": 126, \"trip_key\": 5215908523642987416, \"trip_id\": \"3739\", \"shape_id\": \"78\", \"route_id\": \"41\", \"service_hours\": 1.55, \"trip_first_departure_ts\": 32220, \"trip_last_arrival_ts\": 37800, \"departure_hour\": 8, \"time_of_day\": \"AM Peak\", \"p25\": 1.45, \"p50\": 1.45, \"p75\": 1.55, \"p50_trip\": 0, \"fastest_trip\": 0, \"car_duration_hours\": 0.8, \"competitive_route\": 1, \"bus_multiplier\": 1.94, \"bus_difference\": 45.0, \"num_trips\": 45, \"num_competitive\": 45, \"pct_trips_competitive\": 1.0, \"bus_difference_spread\": 12.0, \"route_group\": \"long\", \"max_trip_hrs\": 1.55, \"max_trip_route_group\": 1.55, \"name\": \"Golden Empire Transit District\", \"caltrans_district\": \"06 - Fresno\", \"drmt_organization_name\": null, \"cutoff2\": 23.25, \"cutoff\": 2}, {\"calitp_itp_id\": 126, \"trip_key\": -8074230223285233480, \"trip_id\": \"3742\", \"shape_id\": \"78\", \"route_id\": \"41\", \"service_hours\": 1.55, \"trip_first_departure_ts\": 37620, \"trip_last_arrival_ts\": 43200, \"departure_hour\": 10, \"time_of_day\": \"Midday\", \"p25\": 1.45, \"p50\": 1.45, \"p75\": 1.55, \"p50_trip\": 0, \"fastest_trip\": 0, \"car_duration_hours\": 0.8, \"competitive_route\": 1, \"bus_multiplier\": 1.94, \"bus_difference\": 45.0, \"num_trips\": 45, \"num_competitive\": 45, \"pct_trips_competitive\": 1.0, \"bus_difference_spread\": 12.0, \"route_group\": \"long\", \"max_trip_hrs\": 1.55, \"max_trip_route_group\": 1.55, \"name\": \"Golden Empire Transit District\", \"caltrans_district\": \"06 - Fresno\", \"drmt_organization_name\": null, \"cutoff2\": 23.25, \"cutoff\": 2}, {\"calitp_itp_id\": 126, \"trip_key\": -4382476451098257507, \"trip_id\": \"3735\", \"shape_id\": \"78\", \"route_id\": \"41\", \"service_hours\": 1.55, \"trip_first_departure_ts\": 25020, \"trip_last_arrival_ts\": 30600, \"departure_hour\": 6, \"time_of_day\": \"Owl Service\", \"p25\": 1.45, \"p50\": 1.45, \"p75\": 1.55, \"p50_trip\": 0, \"fastest_trip\": 0, \"car_duration_hours\": 0.8, \"competitive_route\": 1, \"bus_multiplier\": 1.94, \"bus_difference\": 45.0, \"num_trips\": 45, \"num_competitive\": 45, \"pct_trips_competitive\": 1.0, \"bus_difference_spread\": 12.0, \"route_group\": \"long\", \"max_trip_hrs\": 1.55, \"max_trip_route_group\": 1.55, \"name\": \"Golden Empire Transit District\", \"caltrans_district\": \"06 - Fresno\", \"drmt_organization_name\": null, \"cutoff2\": 23.25, \"cutoff\": 2}, {\"calitp_itp_id\": 126, \"trip_key\": -1118453596606840101, \"trip_id\": \"3737\", \"shape_id\": \"78\", \"route_id\": \"41\", \"service_hours\": 1.55, \"trip_first_departure_ts\": 28620, \"trip_last_arrival_ts\": 34200, \"departure_hour\": 7, \"time_of_day\": \"AM Peak\", \"p25\": 1.45, \"p50\": 1.45, \"p75\": 1.55, \"p50_trip\": 0, \"fastest_trip\": 0, \"car_duration_hours\": 0.8, \"competitive_route\": 1, \"bus_multiplier\": 1.94, \"bus_difference\": 45.0, \"num_trips\": 45, \"num_competitive\": 45, \"pct_trips_competitive\": 1.0, \"bus_difference_spread\": 12.0, \"route_group\": \"long\", \"max_trip_hrs\": 1.55, \"max_trip_route_group\": 1.55, \"name\": \"Golden Empire Transit District\", \"caltrans_district\": \"06 - Fresno\", \"drmt_organization_name\": null, \"cutoff2\": 23.25, \"cutoff\": 2}, {\"calitp_itp_id\": 126, \"trip_key\": 9130605149217231437, \"trip_id\": \"3753\", \"shape_id\": \"78\", \"route_id\": \"41\", \"service_hours\": 1.55, \"trip_first_departure_ts\": 57420, \"trip_last_arrival_ts\": 63000, \"departure_hour\": 15, \"time_of_day\": \"Midday\", \"p25\": 1.45, \"p50\": 1.45, \"p75\": 1.55, \"p50_trip\": 0, \"fastest_trip\": 0, \"car_duration_hours\": 0.8, \"competitive_route\": 1, \"bus_multiplier\": 1.94, \"bus_difference\": 45.0, \"num_trips\": 45, \"num_competitive\": 45, \"pct_trips_competitive\": 1.0, \"bus_difference_spread\": 12.0, \"route_group\": \"long\", \"max_trip_hrs\": 1.55, \"max_trip_route_group\": 1.55, \"name\": \"Golden Empire Transit District\", \"caltrans_district\": \"06 - Fresno\", \"drmt_organization_name\": null, \"cutoff2\": 23.25, \"cutoff\": 2}, {\"calitp_itp_id\": 126, \"trip_key\": 2968404579104872588, \"trip_id\": \"3743\", \"shape_id\": \"78\", \"route_id\": \"41\", \"service_hours\": 1.55, \"trip_first_departure_ts\": 39420, \"trip_last_arrival_ts\": 45000, \"departure_hour\": 10, \"time_of_day\": \"Midday\", \"p25\": 1.45, \"p50\": 1.45, \"p75\": 1.55, \"p50_trip\": 0, \"fastest_trip\": 0, \"car_duration_hours\": 0.8, \"competitive_route\": 1, \"bus_multiplier\": 1.94, \"bus_difference\": 45.0, \"num_trips\": 45, \"num_competitive\": 45, \"pct_trips_competitive\": 1.0, \"bus_difference_spread\": 12.0, \"route_group\": \"long\", \"max_trip_hrs\": 1.55, \"max_trip_route_group\": 1.55, \"name\": \"Golden Empire Transit District\", \"caltrans_district\": \"06 - Fresno\", \"drmt_organization_name\": null, \"cutoff2\": 23.25, \"cutoff\": 2}, {\"calitp_itp_id\": 126, \"trip_key\": 3019438299359060180, \"trip_id\": \"3752\", \"shape_id\": \"78\", \"route_id\": \"41\", \"service_hours\": 1.55, \"trip_first_departure_ts\": 55620, \"trip_last_arrival_ts\": 61200, \"departure_hour\": 15, \"time_of_day\": \"Midday\", \"p25\": 1.45, \"p50\": 1.45, \"p75\": 1.55, \"p50_trip\": 0, \"fastest_trip\": 0, \"car_duration_hours\": 0.8, \"competitive_route\": 1, \"bus_multiplier\": 1.94, \"bus_difference\": 45.0, \"num_trips\": 45, \"num_competitive\": 45, \"pct_trips_competitive\": 1.0, \"bus_difference_spread\": 12.0, \"route_group\": \"long\", \"max_trip_hrs\": 1.55, \"max_trip_route_group\": 1.55, \"name\": \"Golden Empire Transit District\", \"caltrans_district\": \"06 - Fresno\", \"drmt_organization_name\": null, \"cutoff2\": 23.25, \"cutoff\": 2}, {\"calitp_itp_id\": 126, \"trip_key\": 4529126544370445946, \"trip_id\": \"3749\", \"shape_id\": \"78\", \"route_id\": \"41\", \"service_hours\": 1.55, \"trip_first_departure_ts\": 50220, \"trip_last_arrival_ts\": 55800, \"departure_hour\": 13, \"time_of_day\": \"Midday\", \"p25\": 1.45, \"p50\": 1.45, \"p75\": 1.55, \"p50_trip\": 0, \"fastest_trip\": 0, \"car_duration_hours\": 0.8, \"competitive_route\": 1, \"bus_multiplier\": 1.94, \"bus_difference\": 45.0, \"num_trips\": 45, \"num_competitive\": 45, \"pct_trips_competitive\": 1.0, \"bus_difference_spread\": 12.0, \"route_group\": \"long\", \"max_trip_hrs\": 1.55, \"max_trip_route_group\": 1.55, \"name\": \"Golden Empire Transit District\", \"caltrans_district\": \"06 - Fresno\", \"drmt_organization_name\": null, \"cutoff2\": 23.25, \"cutoff\": 2}, {\"calitp_itp_id\": 126, \"trip_key\": -5362118131542335213, \"trip_id\": \"3741\", \"shape_id\": \"78\", \"route_id\": \"41\", \"service_hours\": 1.55, \"trip_first_departure_ts\": 35820, \"trip_last_arrival_ts\": 41400, \"departure_hour\": 9, \"time_of_day\": \"AM Peak\", \"p25\": 1.45, \"p50\": 1.45, \"p75\": 1.55, \"p50_trip\": 0, \"fastest_trip\": 0, \"car_duration_hours\": 0.8, \"competitive_route\": 1, \"bus_multiplier\": 1.94, \"bus_difference\": 45.0, \"num_trips\": 45, \"num_competitive\": 45, \"pct_trips_competitive\": 1.0, \"bus_difference_spread\": 12.0, \"route_group\": \"long\", \"max_trip_hrs\": 1.55, \"max_trip_route_group\": 1.55, \"name\": \"Golden Empire Transit District\", \"caltrans_district\": \"06 - Fresno\", \"drmt_organization_name\": null, \"cutoff2\": 23.25, \"cutoff\": 2}, {\"calitp_itp_id\": 126, \"trip_key\": -6464963909112186485, \"trip_id\": \"3738\", \"shape_id\": \"78\", \"route_id\": \"41\", \"service_hours\": 1.55, \"trip_first_departure_ts\": 30420, \"trip_last_arrival_ts\": 36000, \"departure_hour\": 8, \"time_of_day\": \"AM Peak\", \"p25\": 1.45, \"p50\": 1.45, \"p75\": 1.55, \"p50_trip\": 0, \"fastest_trip\": 0, \"car_duration_hours\": 0.8, \"competitive_route\": 1, \"bus_multiplier\": 1.94, \"bus_difference\": 45.0, \"num_trips\": 45, \"num_competitive\": 45, \"pct_trips_competitive\": 1.0, \"bus_difference_spread\": 12.0, \"route_group\": \"long\", \"max_trip_hrs\": 1.55, \"max_trip_route_group\": 1.55, \"name\": \"Golden Empire Transit District\", \"caltrans_district\": \"06 - Fresno\", \"drmt_organization_name\": null, \"cutoff2\": 23.25, \"cutoff\": 2}, {\"calitp_itp_id\": 126, \"trip_key\": 2067234379860168420, \"trip_id\": \"3748\", \"shape_id\": \"78\", \"route_id\": \"41\", \"service_hours\": 1.55, \"trip_first_departure_ts\": 48420, \"trip_last_arrival_ts\": 54000, \"departure_hour\": 13, \"time_of_day\": \"Midday\", \"p25\": 1.45, \"p50\": 1.45, \"p75\": 1.55, \"p50_trip\": 0, \"fastest_trip\": 0, \"car_duration_hours\": 0.8, \"competitive_route\": 1, \"bus_multiplier\": 1.94, \"bus_difference\": 45.0, \"num_trips\": 45, \"num_competitive\": 45, \"pct_trips_competitive\": 1.0, \"bus_difference_spread\": 12.0, \"route_group\": \"long\", \"max_trip_hrs\": 1.55, \"max_trip_route_group\": 1.55, \"name\": \"Golden Empire Transit District\", \"caltrans_district\": \"06 - Fresno\", \"drmt_organization_name\": null, \"cutoff2\": 23.25, \"cutoff\": 2}, {\"calitp_itp_id\": 126, \"trip_key\": -211985334436261053, \"trip_id\": \"3745\", \"shape_id\": \"78\", \"route_id\": \"41\", \"service_hours\": 1.55, \"trip_first_departure_ts\": 43020, \"trip_last_arrival_ts\": 48600, \"departure_hour\": 11, \"time_of_day\": \"Midday\", \"p25\": 1.45, \"p50\": 1.45, \"p75\": 1.55, \"p50_trip\": 0, \"fastest_trip\": 0, \"car_duration_hours\": 0.8, \"competitive_route\": 1, \"bus_multiplier\": 1.94, \"bus_difference\": 45.0, \"num_trips\": 45, \"num_competitive\": 45, \"pct_trips_competitive\": 1.0, \"bus_difference_spread\": 12.0, \"route_group\": \"long\", \"max_trip_hrs\": 1.55, \"max_trip_route_group\": 1.55, \"name\": \"Golden Empire Transit District\", \"caltrans_district\": \"06 - Fresno\", \"drmt_organization_name\": null, \"cutoff2\": 23.25, \"cutoff\": 2}, {\"calitp_itp_id\": 126, \"trip_key\": 8292425056513114435, \"trip_id\": \"3747\", \"shape_id\": \"78\", \"route_id\": \"41\", \"service_hours\": 1.55, \"trip_first_departure_ts\": 46620, \"trip_last_arrival_ts\": 52200, \"departure_hour\": 12, \"time_of_day\": \"Midday\", \"p25\": 1.45, \"p50\": 1.45, \"p75\": 1.55, \"p50_trip\": 0, \"fastest_trip\": 0, \"car_duration_hours\": 0.8, \"competitive_route\": 1, \"bus_multiplier\": 1.94, \"bus_difference\": 45.0, \"num_trips\": 45, \"num_competitive\": 45, \"pct_trips_competitive\": 1.0, \"bus_difference_spread\": 12.0, \"route_group\": \"long\", \"max_trip_hrs\": 1.55, \"max_trip_route_group\": 1.55, \"name\": \"Golden Empire Transit District\", \"caltrans_district\": \"06 - Fresno\", \"drmt_organization_name\": null, \"cutoff2\": 23.25, \"cutoff\": 2}, {\"calitp_itp_id\": 126, \"trip_key\": -2937402900677665452, \"trip_id\": \"3750\", \"shape_id\": \"78\", \"route_id\": \"41\", \"service_hours\": 1.55, \"trip_first_departure_ts\": 52020, \"trip_last_arrival_ts\": 57600, \"departure_hour\": 14, \"time_of_day\": \"Midday\", \"p25\": 1.45, \"p50\": 1.45, \"p75\": 1.55, \"p50_trip\": 0, \"fastest_trip\": 0, \"car_duration_hours\": 0.8, \"competitive_route\": 1, \"bus_multiplier\": 1.94, \"bus_difference\": 45.0, \"num_trips\": 45, \"num_competitive\": 45, \"pct_trips_competitive\": 1.0, \"bus_difference_spread\": 12.0, \"route_group\": \"long\", \"max_trip_hrs\": 1.55, \"max_trip_route_group\": 1.55, \"name\": \"Golden Empire Transit District\", \"caltrans_district\": \"06 - Fresno\", \"drmt_organization_name\": null, \"cutoff2\": 23.25, \"cutoff\": 2}, {\"calitp_itp_id\": 126, \"trip_key\": -942775710692938146, \"trip_id\": \"3740\", \"shape_id\": \"78\", \"route_id\": \"41\", \"service_hours\": 1.55, \"trip_first_departure_ts\": 34020, \"trip_last_arrival_ts\": 39600, \"departure_hour\": 9, \"time_of_day\": \"AM Peak\", \"p25\": 1.45, \"p50\": 1.45, \"p75\": 1.55, \"p50_trip\": 0, \"fastest_trip\": 0, \"car_duration_hours\": 0.8, \"competitive_route\": 1, \"bus_multiplier\": 1.94, \"bus_difference\": 45.0, \"num_trips\": 45, \"num_competitive\": 45, \"pct_trips_competitive\": 1.0, \"bus_difference_spread\": 12.0, \"route_group\": \"long\", \"max_trip_hrs\": 1.55, \"max_trip_route_group\": 1.55, \"name\": \"Golden Empire Transit District\", \"caltrans_district\": \"06 - Fresno\", \"drmt_organization_name\": null, \"cutoff2\": 23.25, \"cutoff\": 2}]}}, {\"mode\": \"vega-lite\"});\n",
       "</script>"
      ],
      "text/plain": [
       "alt.FacetChart(...)"
      ]
     },
     "metadata": {},
     "output_type": "display_data"
    },
    {
     "data": {
      "text/html": [
       "\n",
       "<div id=\"altair-viz-1a1f3b5bcee648608164b2f704b2c849\"></div>\n",
       "<script type=\"text/javascript\">\n",
       "  var VEGA_DEBUG = (typeof VEGA_DEBUG == \"undefined\") ? {} : VEGA_DEBUG;\n",
       "  (function(spec, embedOpt){\n",
       "    let outputDiv = document.currentScript.previousElementSibling;\n",
       "    if (outputDiv.id !== \"altair-viz-1a1f3b5bcee648608164b2f704b2c849\") {\n",
       "      outputDiv = document.getElementById(\"altair-viz-1a1f3b5bcee648608164b2f704b2c849\");\n",
       "    }\n",
       "    const paths = {\n",
       "      \"vega\": \"https://cdn.jsdelivr.net/npm//vega@5?noext\",\n",
       "      \"vega-lib\": \"https://cdn.jsdelivr.net/npm//vega-lib?noext\",\n",
       "      \"vega-lite\": \"https://cdn.jsdelivr.net/npm//vega-lite@4.17.0?noext\",\n",
       "      \"vega-embed\": \"https://cdn.jsdelivr.net/npm//vega-embed@6?noext\",\n",
       "    };\n",
       "\n",
       "    function maybeLoadScript(lib, version) {\n",
       "      var key = `${lib.replace(\"-\", \"\")}_version`;\n",
       "      return (VEGA_DEBUG[key] == version) ?\n",
       "        Promise.resolve(paths[lib]) :\n",
       "        new Promise(function(resolve, reject) {\n",
       "          var s = document.createElement('script');\n",
       "          document.getElementsByTagName(\"head\")[0].appendChild(s);\n",
       "          s.async = true;\n",
       "          s.onload = () => {\n",
       "            VEGA_DEBUG[key] = version;\n",
       "            return resolve(paths[lib]);\n",
       "          };\n",
       "          s.onerror = () => reject(`Error loading script: ${paths[lib]}`);\n",
       "          s.src = paths[lib];\n",
       "        });\n",
       "    }\n",
       "\n",
       "    function showError(err) {\n",
       "      outputDiv.innerHTML = `<div class=\"error\" style=\"color:red;\">${err}</div>`;\n",
       "      throw err;\n",
       "    }\n",
       "\n",
       "    function displayChart(vegaEmbed) {\n",
       "      vegaEmbed(outputDiv, spec, embedOpt)\n",
       "        .catch(err => showError(`Javascript Error: ${err.message}<br>This usually means there's a typo in your chart specification. See the javascript console for the full traceback.`));\n",
       "    }\n",
       "\n",
       "    if(typeof define === \"function\" && define.amd) {\n",
       "      requirejs.config({paths});\n",
       "      require([\"vega-embed\"], displayChart, err => showError(`Error loading script: ${err.message}`));\n",
       "    } else {\n",
       "      maybeLoadScript(\"vega\", \"5\")\n",
       "        .then(() => maybeLoadScript(\"vega-lite\", \"4.17.0\"))\n",
       "        .then(() => maybeLoadScript(\"vega-embed\", \"6\"))\n",
       "        .catch(showError)\n",
       "        .then(() => displayChart(vegaEmbed));\n",
       "    }\n",
       "  })({\"config\": {\"view\": {\"continuousWidth\": 400, \"continuousHeight\": 300, \"stroke\": null}, \"facet\": {\"spacing\": 0}}, \"data\": {\"name\": \"data-9fbbdcca9606dadefe1dbad2cf1d33f6\"}, \"facet\": {\"column\": {\"field\": \"route_id\", \"sort\": [\"41\"], \"title\": \"Route ID\", \"type\": \"nominal\"}}, \"spec\": {\"layer\": [{\"mark\": {\"type\": \"point\", \"opacity\": 0.65, \"size\": 12, \"strokeWidth\": 1.1}, \"encoding\": {\"color\": {\"field\": \"time_of_day\", \"scale\": {\"range\": [\"#136C97\", \"#E16B26\", \"#F6BF16\", \"#00896B\", \"#7790A3\", \"#5B559C\"]}, \"sort\": [\"AM Peak\", \"Midday\", \"PM Peak\", \"Owl Service\"], \"title\": \"Time of Day\", \"type\": \"nominal\"}, \"tooltip\": [{\"field\": \"route_id\", \"type\": \"nominal\"}, {\"field\": \"trip_id\", \"type\": \"nominal\"}, {\"field\": \"service_hours\", \"type\": \"quantitative\"}, {\"field\": \"car_duration_hours\", \"type\": \"quantitative\"}, {\"field\": \"bus_multiplier\", \"type\": \"quantitative\"}, {\"field\": \"bus_difference\", \"type\": \"quantitative\"}, {\"field\": \"num_trips\", \"type\": \"quantitative\"}, {\"field\": \"num_competitive\", \"type\": \"quantitative\"}, {\"field\": \"pct_trips_competitive\", \"type\": \"quantitative\"}, {\"field\": \"p25\", \"type\": \"quantitative\"}, {\"field\": \"p50\", \"type\": \"quantitative\"}, {\"field\": \"p75\", \"type\": \"quantitative\"}], \"x\": {\"axis\": {\"grid\": false, \"labels\": false, \"ticks\": true, \"values\": [0]}, \"field\": \"jitter\", \"scale\": {}, \"title\": null, \"type\": \"quantitative\"}, \"y\": {\"field\": \"bus_difference\", \"scale\": {\"domain\": [-5, 45.0]}, \"title\": \"Difference in Bus to Car Travel Time (min)\", \"type\": \"quantitative\"}}, \"selection\": {\"selector004\": {\"type\": \"interval\", \"bind\": \"scales\", \"encodings\": [\"x\", \"y\"]}}, \"transform\": [{\"calculate\": \"sqrt(-2*log(random()))*cos(2*PI*random())\", \"as\": \"jitter\"}], \"width\": 60}, {\"layer\": [{\"mark\": {\"type\": \"point\", \"opacity\": 0.6, \"size\": 20, \"strokeWidth\": 1.3}, \"encoding\": {\"color\": {\"value\": \"#323434\"}, \"y\": {\"field\": \"bus_difference\", \"type\": \"quantitative\"}}, \"transform\": [{\"filter\": \"(datum.p50_trip === 1)\"}]}, {\"mark\": {\"type\": \"rule\", \"strokeDash\": [2, 3]}, \"encoding\": {\"color\": {\"value\": \"#323434\"}, \"y\": {\"field\": \"cutoff\", \"type\": \"quantitative\"}}}, {\"mark\": {\"type\": \"rule\", \"strokeDash\": [2, 3]}, \"encoding\": {\"color\": {\"value\": \"#136C97\"}, \"y\": {\"field\": \"cutoff2\", \"type\": \"quantitative\"}}}, {\"mark\": {\"type\": \"text\", \"align\": \"center\", \"baseline\": \"middle\"}, \"encoding\": {\"color\": {\"value\": \"black\"}, \"text\": {\"field\": \"pct_trips_competitive\", \"format\": \".0%\", \"type\": \"quantitative\"}, \"tooltip\": [{\"field\": \"route_id\", \"type\": \"nominal\"}, {\"field\": \"trip_id\", \"type\": \"nominal\"}, {\"field\": \"service_hours\", \"type\": \"quantitative\"}, {\"field\": \"car_duration_hours\", \"type\": \"quantitative\"}, {\"field\": \"bus_multiplier\", \"type\": \"quantitative\"}, {\"field\": \"bus_difference\", \"type\": \"quantitative\"}, {\"field\": \"num_trips\", \"type\": \"quantitative\"}, {\"field\": \"num_competitive\", \"type\": \"quantitative\"}, {\"field\": \"pct_trips_competitive\", \"type\": \"quantitative\"}, {\"field\": \"p25\", \"type\": \"quantitative\"}, {\"field\": \"p50\", \"type\": \"quantitative\"}, {\"field\": \"p75\", \"type\": \"quantitative\"}], \"x\": {\"value\": 30}, \"y\": {\"value\": 15}}, \"transform\": [{\"calculate\": \"sqrt(-2*log(random()))*cos(2*PI*random())\", \"as\": \"jitter\"}, {\"filter\": \"(datum.fastest_trip === 1)\"}]}]}]}, \"resolve\": {\"scale\": {\"y\": \"shared\"}}, \"title\": \"Difference in Bus to Car Travel Time (min)\", \"$schema\": \"https://vega.github.io/schema/vega-lite/v4.17.0.json\", \"datasets\": {\"data-9fbbdcca9606dadefe1dbad2cf1d33f6\": [{\"calitp_itp_id\": 126, \"trip_key\": 5776538052279883279, \"trip_id\": \"1672\", \"shape_id\": \"79\", \"route_id\": \"41\", \"service_hours\": 1.35, \"trip_first_departure_ts\": 63000, \"trip_last_arrival_ts\": 67860, \"departure_hour\": 17, \"time_of_day\": \"PM Peak\", \"p25\": 1.45, \"p50\": 1.45, \"p75\": 1.55, \"p50_trip\": 0, \"fastest_trip\": 1, \"car_duration_hours\": 0.8, \"competitive_route\": 1, \"bus_multiplier\": 1.69, \"bus_difference\": 33.0, \"num_trips\": 45, \"num_competitive\": 45, \"pct_trips_competitive\": 1.0, \"bus_difference_spread\": 12.0, \"route_group\": \"long\", \"max_trip_hrs\": 1.55, \"max_trip_route_group\": 1.55, \"name\": \"Golden Empire Transit District\", \"caltrans_district\": \"06 - Fresno\", \"drmt_organization_name\": null, \"cutoff2\": 23.25, \"cutoff\": 0}, {\"calitp_itp_id\": 126, \"trip_key\": 6469954698833813641, \"trip_id\": \"1671\", \"shape_id\": \"79\", \"route_id\": \"41\", \"service_hours\": 1.35, \"trip_first_departure_ts\": 61200, \"trip_last_arrival_ts\": 66060, \"departure_hour\": 17, \"time_of_day\": \"PM Peak\", \"p25\": 1.45, \"p50\": 1.45, \"p75\": 1.55, \"p50_trip\": 0, \"fastest_trip\": 0, \"car_duration_hours\": 0.8, \"competitive_route\": 1, \"bus_multiplier\": 1.69, \"bus_difference\": 33.0, \"num_trips\": 45, \"num_competitive\": 45, \"pct_trips_competitive\": 1.0, \"bus_difference_spread\": 12.0, \"route_group\": \"long\", \"max_trip_hrs\": 1.55, \"max_trip_route_group\": 1.55, \"name\": \"Golden Empire Transit District\", \"caltrans_district\": \"06 - Fresno\", \"drmt_organization_name\": null, \"cutoff2\": 23.25, \"cutoff\": 0}, {\"calitp_itp_id\": 126, \"trip_key\": -4413477114220239056, \"trip_id\": \"3754\", \"shape_id\": \"78\", \"route_id\": \"41\", \"service_hours\": 1.43, \"trip_first_departure_ts\": 59220, \"trip_last_arrival_ts\": 64380, \"departure_hour\": 16, \"time_of_day\": \"Midday\", \"p25\": 1.45, \"p50\": 1.45, \"p75\": 1.55, \"p50_trip\": 0, \"fastest_trip\": 0, \"car_duration_hours\": 0.8, \"competitive_route\": 1, \"bus_multiplier\": 1.79, \"bus_difference\": 37.8, \"num_trips\": 45, \"num_competitive\": 45, \"pct_trips_competitive\": 1.0, \"bus_difference_spread\": 12.0, \"route_group\": \"long\", \"max_trip_hrs\": 1.55, \"max_trip_route_group\": 1.55, \"name\": \"Golden Empire Transit District\", \"caltrans_district\": \"06 - Fresno\", \"drmt_organization_name\": null, \"cutoff2\": 23.25, \"cutoff\": 0}, {\"calitp_itp_id\": 126, \"trip_key\": -695124153587898879, \"trip_id\": \"3756\", \"shape_id\": \"78\", \"route_id\": \"41\", \"service_hours\": 1.43, \"trip_first_departure_ts\": 62820, \"trip_last_arrival_ts\": 67980, \"departure_hour\": 17, \"time_of_day\": \"PM Peak\", \"p25\": 1.45, \"p50\": 1.45, \"p75\": 1.55, \"p50_trip\": 0, \"fastest_trip\": 0, \"car_duration_hours\": 0.8, \"competitive_route\": 1, \"bus_multiplier\": 1.79, \"bus_difference\": 37.8, \"num_trips\": 45, \"num_competitive\": 45, \"pct_trips_competitive\": 1.0, \"bus_difference_spread\": 12.0, \"route_group\": \"long\", \"max_trip_hrs\": 1.55, \"max_trip_route_group\": 1.55, \"name\": \"Golden Empire Transit District\", \"caltrans_district\": \"06 - Fresno\", \"drmt_organization_name\": null, \"cutoff2\": 23.25, \"cutoff\": 0}, {\"calitp_itp_id\": 126, \"trip_key\": -1731104395915060672, \"trip_id\": \"3755\", \"shape_id\": \"78\", \"route_id\": \"41\", \"service_hours\": 1.43, \"trip_first_departure_ts\": 61020, \"trip_last_arrival_ts\": 66180, \"departure_hour\": 16, \"time_of_day\": \"Midday\", \"p25\": 1.45, \"p50\": 1.45, \"p75\": 1.55, \"p50_trip\": 0, \"fastest_trip\": 0, \"car_duration_hours\": 0.8, \"competitive_route\": 1, \"bus_multiplier\": 1.79, \"bus_difference\": 37.8, \"num_trips\": 45, \"num_competitive\": 45, \"pct_trips_competitive\": 1.0, \"bus_difference_spread\": 12.0, \"route_group\": \"long\", \"max_trip_hrs\": 1.55, \"max_trip_route_group\": 1.55, \"name\": \"Golden Empire Transit District\", \"caltrans_district\": \"06 - Fresno\", \"drmt_organization_name\": null, \"cutoff2\": 23.25, \"cutoff\": 0}, {\"calitp_itp_id\": 126, \"trip_key\": 6389089163886931171, \"trip_id\": \"3757\", \"shape_id\": \"78\", \"route_id\": \"41\", \"service_hours\": 1.43, \"trip_first_departure_ts\": 64620, \"trip_last_arrival_ts\": 69780, \"departure_hour\": 17, \"time_of_day\": \"PM Peak\", \"p25\": 1.45, \"p50\": 1.45, \"p75\": 1.55, \"p50_trip\": 0, \"fastest_trip\": 0, \"car_duration_hours\": 0.8, \"competitive_route\": 1, \"bus_multiplier\": 1.79, \"bus_difference\": 37.8, \"num_trips\": 45, \"num_competitive\": 45, \"pct_trips_competitive\": 1.0, \"bus_difference_spread\": 12.0, \"route_group\": \"long\", \"max_trip_hrs\": 1.55, \"max_trip_route_group\": 1.55, \"name\": \"Golden Empire Transit District\", \"caltrans_district\": \"06 - Fresno\", \"drmt_organization_name\": null, \"cutoff2\": 23.25, \"cutoff\": 0}, {\"calitp_itp_id\": 126, \"trip_key\": -5206940515578354684, \"trip_id\": \"1667\", \"shape_id\": \"79\", \"route_id\": \"41\", \"service_hours\": 1.45, \"trip_first_departure_ts\": 54000, \"trip_last_arrival_ts\": 59220, \"departure_hour\": 15, \"time_of_day\": \"Midday\", \"p25\": 1.45, \"p50\": 1.45, \"p75\": 1.55, \"p50_trip\": 1, \"fastest_trip\": 0, \"car_duration_hours\": 0.8, \"competitive_route\": 1, \"bus_multiplier\": 1.81, \"bus_difference\": 39.0, \"num_trips\": 45, \"num_competitive\": 45, \"pct_trips_competitive\": 1.0, \"bus_difference_spread\": 12.0, \"route_group\": \"long\", \"max_trip_hrs\": 1.55, \"max_trip_route_group\": 1.55, \"name\": \"Golden Empire Transit District\", \"caltrans_district\": \"06 - Fresno\", \"drmt_organization_name\": null, \"cutoff2\": 23.25, \"cutoff\": 0}, {\"calitp_itp_id\": 126, \"trip_key\": 7497108670509890795, \"trip_id\": \"3768\", \"shape_id\": \"79\", \"route_id\": \"41\", \"service_hours\": 1.45, \"trip_first_departure_ts\": 43200, \"trip_last_arrival_ts\": 48420, \"departure_hour\": 12, \"time_of_day\": \"Midday\", \"p25\": 1.45, \"p50\": 1.45, \"p75\": 1.55, \"p50_trip\": 1, \"fastest_trip\": 0, \"car_duration_hours\": 0.8, \"competitive_route\": 1, \"bus_multiplier\": 1.81, \"bus_difference\": 39.0, \"num_trips\": 45, \"num_competitive\": 45, \"pct_trips_competitive\": 1.0, \"bus_difference_spread\": 12.0, \"route_group\": \"long\", \"max_trip_hrs\": 1.55, \"max_trip_route_group\": 1.55, \"name\": \"Golden Empire Transit District\", \"caltrans_district\": \"06 - Fresno\", \"drmt_organization_name\": null, \"cutoff2\": 23.25, \"cutoff\": 0}, {\"calitp_itp_id\": 126, \"trip_key\": -2766104624036821072, \"trip_id\": \"1669\", \"shape_id\": \"79\", \"route_id\": \"41\", \"service_hours\": 1.45, \"trip_first_departure_ts\": 57600, \"trip_last_arrival_ts\": 62820, \"departure_hour\": 16, \"time_of_day\": \"Midday\", \"p25\": 1.45, \"p50\": 1.45, \"p75\": 1.55, \"p50_trip\": 1, \"fastest_trip\": 0, \"car_duration_hours\": 0.8, \"competitive_route\": 1, \"bus_multiplier\": 1.81, \"bus_difference\": 39.0, \"num_trips\": 45, \"num_competitive\": 45, \"pct_trips_competitive\": 1.0, \"bus_difference_spread\": 12.0, \"route_group\": \"long\", \"max_trip_hrs\": 1.55, \"max_trip_route_group\": 1.55, \"name\": \"Golden Empire Transit District\", \"caltrans_district\": \"06 - Fresno\", \"drmt_organization_name\": null, \"cutoff2\": 23.25, \"cutoff\": 0}, {\"calitp_itp_id\": 126, \"trip_key\": -2623109568593173716, \"trip_id\": \"1668\", \"shape_id\": \"79\", \"route_id\": \"41\", \"service_hours\": 1.45, \"trip_first_departure_ts\": 55800, \"trip_last_arrival_ts\": 61020, \"departure_hour\": 15, \"time_of_day\": \"Midday\", \"p25\": 1.45, \"p50\": 1.45, \"p75\": 1.55, \"p50_trip\": 1, \"fastest_trip\": 0, \"car_duration_hours\": 0.8, \"competitive_route\": 1, \"bus_multiplier\": 1.81, \"bus_difference\": 39.0, \"num_trips\": 45, \"num_competitive\": 45, \"pct_trips_competitive\": 1.0, \"bus_difference_spread\": 12.0, \"route_group\": \"long\", \"max_trip_hrs\": 1.55, \"max_trip_route_group\": 1.55, \"name\": \"Golden Empire Transit District\", \"caltrans_district\": \"06 - Fresno\", \"drmt_organization_name\": null, \"cutoff2\": 23.25, \"cutoff\": 0}, {\"calitp_itp_id\": 126, \"trip_key\": 4595739502092105579, \"trip_id\": \"3767\", \"shape_id\": \"79\", \"route_id\": \"41\", \"service_hours\": 1.45, \"trip_first_departure_ts\": 41400, \"trip_last_arrival_ts\": 46620, \"departure_hour\": 11, \"time_of_day\": \"Midday\", \"p25\": 1.45, \"p50\": 1.45, \"p75\": 1.55, \"p50_trip\": 1, \"fastest_trip\": 0, \"car_duration_hours\": 0.8, \"competitive_route\": 1, \"bus_multiplier\": 1.81, \"bus_difference\": 39.0, \"num_trips\": 45, \"num_competitive\": 45, \"pct_trips_competitive\": 1.0, \"bus_difference_spread\": 12.0, \"route_group\": \"long\", \"max_trip_hrs\": 1.55, \"max_trip_route_group\": 1.55, \"name\": \"Golden Empire Transit District\", \"caltrans_district\": \"06 - Fresno\", \"drmt_organization_name\": null, \"cutoff2\": 23.25, \"cutoff\": 0}, {\"calitp_itp_id\": 126, \"trip_key\": -2929062652118405266, \"trip_id\": \"1670\", \"shape_id\": \"79\", \"route_id\": \"41\", \"service_hours\": 1.45, \"trip_first_departure_ts\": 59400, \"trip_last_arrival_ts\": 64620, \"departure_hour\": 16, \"time_of_day\": \"Midday\", \"p25\": 1.45, \"p50\": 1.45, \"p75\": 1.55, \"p50_trip\": 1, \"fastest_trip\": 0, \"car_duration_hours\": 0.8, \"competitive_route\": 1, \"bus_multiplier\": 1.81, \"bus_difference\": 39.0, \"num_trips\": 45, \"num_competitive\": 45, \"pct_trips_competitive\": 1.0, \"bus_difference_spread\": 12.0, \"route_group\": \"long\", \"max_trip_hrs\": 1.55, \"max_trip_route_group\": 1.55, \"name\": \"Golden Empire Transit District\", \"caltrans_district\": \"06 - Fresno\", \"drmt_organization_name\": null, \"cutoff2\": 23.25, \"cutoff\": 0}, {\"calitp_itp_id\": 126, \"trip_key\": 919333876661356962, \"trip_id\": \"3764\", \"shape_id\": \"79\", \"route_id\": \"41\", \"service_hours\": 1.45, \"trip_first_departure_ts\": 36000, \"trip_last_arrival_ts\": 41220, \"departure_hour\": 10, \"time_of_day\": \"Midday\", \"p25\": 1.45, \"p50\": 1.45, \"p75\": 1.55, \"p50_trip\": 1, \"fastest_trip\": 0, \"car_duration_hours\": 0.8, \"competitive_route\": 1, \"bus_multiplier\": 1.81, \"bus_difference\": 39.0, \"num_trips\": 45, \"num_competitive\": 45, \"pct_trips_competitive\": 1.0, \"bus_difference_spread\": 12.0, \"route_group\": \"long\", \"max_trip_hrs\": 1.55, \"max_trip_route_group\": 1.55, \"name\": \"Golden Empire Transit District\", \"caltrans_district\": \"06 - Fresno\", \"drmt_organization_name\": null, \"cutoff2\": 23.25, \"cutoff\": 0}, {\"calitp_itp_id\": 126, \"trip_key\": -1075485859789652750, \"trip_id\": \"1664\", \"shape_id\": \"79\", \"route_id\": \"41\", \"service_hours\": 1.45, \"trip_first_departure_ts\": 48600, \"trip_last_arrival_ts\": 53820, \"departure_hour\": 13, \"time_of_day\": \"Midday\", \"p25\": 1.45, \"p50\": 1.45, \"p75\": 1.55, \"p50_trip\": 1, \"fastest_trip\": 0, \"car_duration_hours\": 0.8, \"competitive_route\": 1, \"bus_multiplier\": 1.81, \"bus_difference\": 39.0, \"num_trips\": 45, \"num_competitive\": 45, \"pct_trips_competitive\": 1.0, \"bus_difference_spread\": 12.0, \"route_group\": \"long\", \"max_trip_hrs\": 1.55, \"max_trip_route_group\": 1.55, \"name\": \"Golden Empire Transit District\", \"caltrans_district\": \"06 - Fresno\", \"drmt_organization_name\": null, \"cutoff2\": 23.25, \"cutoff\": 0}, {\"calitp_itp_id\": 126, \"trip_key\": -52251744586674668, \"trip_id\": \"3759\", \"shape_id\": \"79\", \"route_id\": \"41\", \"service_hours\": 1.45, \"trip_first_departure_ts\": 27000, \"trip_last_arrival_ts\": 32220, \"departure_hour\": 7, \"time_of_day\": \"AM Peak\", \"p25\": 1.45, \"p50\": 1.45, \"p75\": 1.55, \"p50_trip\": 1, \"fastest_trip\": 0, \"car_duration_hours\": 0.8, \"competitive_route\": 1, \"bus_multiplier\": 1.81, \"bus_difference\": 39.0, \"num_trips\": 45, \"num_competitive\": 45, \"pct_trips_competitive\": 1.0, \"bus_difference_spread\": 12.0, \"route_group\": \"long\", \"max_trip_hrs\": 1.55, \"max_trip_route_group\": 1.55, \"name\": \"Golden Empire Transit District\", \"caltrans_district\": \"06 - Fresno\", \"drmt_organization_name\": null, \"cutoff2\": 23.25, \"cutoff\": 0}, {\"calitp_itp_id\": 126, \"trip_key\": -8632599654675507629, \"trip_id\": \"1665\", \"shape_id\": \"79\", \"route_id\": \"41\", \"service_hours\": 1.45, \"trip_first_departure_ts\": 50400, \"trip_last_arrival_ts\": 55620, \"departure_hour\": 14, \"time_of_day\": \"Midday\", \"p25\": 1.45, \"p50\": 1.45, \"p75\": 1.55, \"p50_trip\": 1, \"fastest_trip\": 0, \"car_duration_hours\": 0.8, \"competitive_route\": 1, \"bus_multiplier\": 1.81, \"bus_difference\": 39.0, \"num_trips\": 45, \"num_competitive\": 45, \"pct_trips_competitive\": 1.0, \"bus_difference_spread\": 12.0, \"route_group\": \"long\", \"max_trip_hrs\": 1.55, \"max_trip_route_group\": 1.55, \"name\": \"Golden Empire Transit District\", \"caltrans_district\": \"06 - Fresno\", \"drmt_organization_name\": null, \"cutoff2\": 23.25, \"cutoff\": 0}, {\"calitp_itp_id\": 126, \"trip_key\": -4313911544704650402, \"trip_id\": \"3762\", \"shape_id\": \"79\", \"route_id\": \"41\", \"service_hours\": 1.45, \"trip_first_departure_ts\": 32400, \"trip_last_arrival_ts\": 37620, \"departure_hour\": 9, \"time_of_day\": \"AM Peak\", \"p25\": 1.45, \"p50\": 1.45, \"p75\": 1.55, \"p50_trip\": 1, \"fastest_trip\": 0, \"car_duration_hours\": 0.8, \"competitive_route\": 1, \"bus_multiplier\": 1.81, \"bus_difference\": 39.0, \"num_trips\": 45, \"num_competitive\": 45, \"pct_trips_competitive\": 1.0, \"bus_difference_spread\": 12.0, \"route_group\": \"long\", \"max_trip_hrs\": 1.55, \"max_trip_route_group\": 1.55, \"name\": \"Golden Empire Transit District\", \"caltrans_district\": \"06 - Fresno\", \"drmt_organization_name\": null, \"cutoff2\": 23.25, \"cutoff\": 0}, {\"calitp_itp_id\": 126, \"trip_key\": 6392253989863255883, \"trip_id\": \"3763\", \"shape_id\": \"79\", \"route_id\": \"41\", \"service_hours\": 1.45, \"trip_first_departure_ts\": 34200, \"trip_last_arrival_ts\": 39420, \"departure_hour\": 9, \"time_of_day\": \"AM Peak\", \"p25\": 1.45, \"p50\": 1.45, \"p75\": 1.55, \"p50_trip\": 1, \"fastest_trip\": 0, \"car_duration_hours\": 0.8, \"competitive_route\": 1, \"bus_multiplier\": 1.81, \"bus_difference\": 39.0, \"num_trips\": 45, \"num_competitive\": 45, \"pct_trips_competitive\": 1.0, \"bus_difference_spread\": 12.0, \"route_group\": \"long\", \"max_trip_hrs\": 1.55, \"max_trip_route_group\": 1.55, \"name\": \"Golden Empire Transit District\", \"caltrans_district\": \"06 - Fresno\", \"drmt_organization_name\": null, \"cutoff2\": 23.25, \"cutoff\": 0}, {\"calitp_itp_id\": 126, \"trip_key\": 3411248475395932656, \"trip_id\": \"3765\", \"shape_id\": \"79\", \"route_id\": \"41\", \"service_hours\": 1.45, \"trip_first_departure_ts\": 37800, \"trip_last_arrival_ts\": 43020, \"departure_hour\": 10, \"time_of_day\": \"Midday\", \"p25\": 1.45, \"p50\": 1.45, \"p75\": 1.55, \"p50_trip\": 1, \"fastest_trip\": 0, \"car_duration_hours\": 0.8, \"competitive_route\": 1, \"bus_multiplier\": 1.81, \"bus_difference\": 39.0, \"num_trips\": 45, \"num_competitive\": 45, \"pct_trips_competitive\": 1.0, \"bus_difference_spread\": 12.0, \"route_group\": \"long\", \"max_trip_hrs\": 1.55, \"max_trip_route_group\": 1.55, \"name\": \"Golden Empire Transit District\", \"caltrans_district\": \"06 - Fresno\", \"drmt_organization_name\": null, \"cutoff2\": 23.25, \"cutoff\": 0}, {\"calitp_itp_id\": 126, \"trip_key\": -7072556819798405700, \"trip_id\": \"3761\", \"shape_id\": \"79\", \"route_id\": \"41\", \"service_hours\": 1.45, \"trip_first_departure_ts\": 30600, \"trip_last_arrival_ts\": 35820, \"departure_hour\": 8, \"time_of_day\": \"AM Peak\", \"p25\": 1.45, \"p50\": 1.45, \"p75\": 1.55, \"p50_trip\": 1, \"fastest_trip\": 0, \"car_duration_hours\": 0.8, \"competitive_route\": 1, \"bus_multiplier\": 1.81, \"bus_difference\": 39.0, \"num_trips\": 45, \"num_competitive\": 45, \"pct_trips_competitive\": 1.0, \"bus_difference_spread\": 12.0, \"route_group\": \"long\", \"max_trip_hrs\": 1.55, \"max_trip_route_group\": 1.55, \"name\": \"Golden Empire Transit District\", \"caltrans_district\": \"06 - Fresno\", \"drmt_organization_name\": null, \"cutoff2\": 23.25, \"cutoff\": 0}, {\"calitp_itp_id\": 126, \"trip_key\": 4830279098424700338, \"trip_id\": \"1666\", \"shape_id\": \"79\", \"route_id\": \"41\", \"service_hours\": 1.45, \"trip_first_departure_ts\": 52200, \"trip_last_arrival_ts\": 57420, \"departure_hour\": 14, \"time_of_day\": \"Midday\", \"p25\": 1.45, \"p50\": 1.45, \"p75\": 1.55, \"p50_trip\": 1, \"fastest_trip\": 0, \"car_duration_hours\": 0.8, \"competitive_route\": 1, \"bus_multiplier\": 1.81, \"bus_difference\": 39.0, \"num_trips\": 45, \"num_competitive\": 45, \"pct_trips_competitive\": 1.0, \"bus_difference_spread\": 12.0, \"route_group\": \"long\", \"max_trip_hrs\": 1.55, \"max_trip_route_group\": 1.55, \"name\": \"Golden Empire Transit District\", \"caltrans_district\": \"06 - Fresno\", \"drmt_organization_name\": null, \"cutoff2\": 23.25, \"cutoff\": 0}, {\"calitp_itp_id\": 126, \"trip_key\": -2360716236685420171, \"trip_id\": \"3758\", \"shape_id\": \"79\", \"route_id\": \"41\", \"service_hours\": 1.45, \"trip_first_departure_ts\": 25200, \"trip_last_arrival_ts\": 30420, \"departure_hour\": 7, \"time_of_day\": \"AM Peak\", \"p25\": 1.45, \"p50\": 1.45, \"p75\": 1.55, \"p50_trip\": 1, \"fastest_trip\": 0, \"car_duration_hours\": 0.8, \"competitive_route\": 1, \"bus_multiplier\": 1.81, \"bus_difference\": 39.0, \"num_trips\": 45, \"num_competitive\": 45, \"pct_trips_competitive\": 1.0, \"bus_difference_spread\": 12.0, \"route_group\": \"long\", \"max_trip_hrs\": 1.55, \"max_trip_route_group\": 1.55, \"name\": \"Golden Empire Transit District\", \"caltrans_district\": \"06 - Fresno\", \"drmt_organization_name\": null, \"cutoff2\": 23.25, \"cutoff\": 0}, {\"calitp_itp_id\": 126, \"trip_key\": -9077068888481348122, \"trip_id\": \"3769\", \"shape_id\": \"79\", \"route_id\": \"41\", \"service_hours\": 1.45, \"trip_first_departure_ts\": 45000, \"trip_last_arrival_ts\": 50220, \"departure_hour\": 12, \"time_of_day\": \"Midday\", \"p25\": 1.45, \"p50\": 1.45, \"p75\": 1.55, \"p50_trip\": 1, \"fastest_trip\": 0, \"car_duration_hours\": 0.8, \"competitive_route\": 1, \"bus_multiplier\": 1.81, \"bus_difference\": 39.0, \"num_trips\": 45, \"num_competitive\": 45, \"pct_trips_competitive\": 1.0, \"bus_difference_spread\": 12.0, \"route_group\": \"long\", \"max_trip_hrs\": 1.55, \"max_trip_route_group\": 1.55, \"name\": \"Golden Empire Transit District\", \"caltrans_district\": \"06 - Fresno\", \"drmt_organization_name\": null, \"cutoff2\": 23.25, \"cutoff\": 0}, {\"calitp_itp_id\": 126, \"trip_key\": 7722774300800139552, \"trip_id\": \"3766\", \"shape_id\": \"79\", \"route_id\": \"41\", \"service_hours\": 1.45, \"trip_first_departure_ts\": 39600, \"trip_last_arrival_ts\": 44820, \"departure_hour\": 11, \"time_of_day\": \"Midday\", \"p25\": 1.45, \"p50\": 1.45, \"p75\": 1.55, \"p50_trip\": 1, \"fastest_trip\": 0, \"car_duration_hours\": 0.8, \"competitive_route\": 1, \"bus_multiplier\": 1.81, \"bus_difference\": 39.0, \"num_trips\": 45, \"num_competitive\": 45, \"pct_trips_competitive\": 1.0, \"bus_difference_spread\": 12.0, \"route_group\": \"long\", \"max_trip_hrs\": 1.55, \"max_trip_route_group\": 1.55, \"name\": \"Golden Empire Transit District\", \"caltrans_district\": \"06 - Fresno\", \"drmt_organization_name\": null, \"cutoff2\": 23.25, \"cutoff\": 0}, {\"calitp_itp_id\": 126, \"trip_key\": -27000447531349206, \"trip_id\": \"1513\", \"shape_id\": \"79\", \"route_id\": \"41\", \"service_hours\": 1.45, \"trip_first_departure_ts\": 46800, \"trip_last_arrival_ts\": 52020, \"departure_hour\": 13, \"time_of_day\": \"Midday\", \"p25\": 1.45, \"p50\": 1.45, \"p75\": 1.55, \"p50_trip\": 1, \"fastest_trip\": 0, \"car_duration_hours\": 0.8, \"competitive_route\": 1, \"bus_multiplier\": 1.81, \"bus_difference\": 39.0, \"num_trips\": 45, \"num_competitive\": 45, \"pct_trips_competitive\": 1.0, \"bus_difference_spread\": 12.0, \"route_group\": \"long\", \"max_trip_hrs\": 1.55, \"max_trip_route_group\": 1.55, \"name\": \"Golden Empire Transit District\", \"caltrans_district\": \"06 - Fresno\", \"drmt_organization_name\": null, \"cutoff2\": 23.25, \"cutoff\": 0}, {\"calitp_itp_id\": 126, \"trip_key\": -634519358534191590, \"trip_id\": \"3760\", \"shape_id\": \"79\", \"route_id\": \"41\", \"service_hours\": 1.45, \"trip_first_departure_ts\": 28800, \"trip_last_arrival_ts\": 34020, \"departure_hour\": 8, \"time_of_day\": \"AM Peak\", \"p25\": 1.45, \"p50\": 1.45, \"p75\": 1.55, \"p50_trip\": 1, \"fastest_trip\": 0, \"car_duration_hours\": 0.8, \"competitive_route\": 1, \"bus_multiplier\": 1.81, \"bus_difference\": 39.0, \"num_trips\": 45, \"num_competitive\": 45, \"pct_trips_competitive\": 1.0, \"bus_difference_spread\": 12.0, \"route_group\": \"long\", \"max_trip_hrs\": 1.55, \"max_trip_route_group\": 1.55, \"name\": \"Golden Empire Transit District\", \"caltrans_district\": \"06 - Fresno\", \"drmt_organization_name\": null, \"cutoff2\": 23.25, \"cutoff\": 0}, {\"calitp_itp_id\": 126, \"trip_key\": -4088461551057439274, \"trip_id\": \"3746\", \"shape_id\": \"78\", \"route_id\": \"41\", \"service_hours\": 1.55, \"trip_first_departure_ts\": 44820, \"trip_last_arrival_ts\": 50400, \"departure_hour\": 12, \"time_of_day\": \"Midday\", \"p25\": 1.45, \"p50\": 1.45, \"p75\": 1.55, \"p50_trip\": 0, \"fastest_trip\": 0, \"car_duration_hours\": 0.8, \"competitive_route\": 1, \"bus_multiplier\": 1.94, \"bus_difference\": 45.0, \"num_trips\": 45, \"num_competitive\": 45, \"pct_trips_competitive\": 1.0, \"bus_difference_spread\": 12.0, \"route_group\": \"long\", \"max_trip_hrs\": 1.55, \"max_trip_route_group\": 1.55, \"name\": \"Golden Empire Transit District\", \"caltrans_district\": \"06 - Fresno\", \"drmt_organization_name\": null, \"cutoff2\": 23.25, \"cutoff\": 0}, {\"calitp_itp_id\": 126, \"trip_key\": -6363174918419727490, \"trip_id\": \"3751\", \"shape_id\": \"78\", \"route_id\": \"41\", \"service_hours\": 1.55, \"trip_first_departure_ts\": 53820, \"trip_last_arrival_ts\": 59400, \"departure_hour\": 14, \"time_of_day\": \"Midday\", \"p25\": 1.45, \"p50\": 1.45, \"p75\": 1.55, \"p50_trip\": 0, \"fastest_trip\": 0, \"car_duration_hours\": 0.8, \"competitive_route\": 1, \"bus_multiplier\": 1.94, \"bus_difference\": 45.0, \"num_trips\": 45, \"num_competitive\": 45, \"pct_trips_competitive\": 1.0, \"bus_difference_spread\": 12.0, \"route_group\": \"long\", \"max_trip_hrs\": 1.55, \"max_trip_route_group\": 1.55, \"name\": \"Golden Empire Transit District\", \"caltrans_district\": \"06 - Fresno\", \"drmt_organization_name\": null, \"cutoff2\": 23.25, \"cutoff\": 0}, {\"calitp_itp_id\": 126, \"trip_key\": -6879825001613676038, \"trip_id\": \"3744\", \"shape_id\": \"78\", \"route_id\": \"41\", \"service_hours\": 1.55, \"trip_first_departure_ts\": 41220, \"trip_last_arrival_ts\": 46800, \"departure_hour\": 11, \"time_of_day\": \"Midday\", \"p25\": 1.45, \"p50\": 1.45, \"p75\": 1.55, \"p50_trip\": 0, \"fastest_trip\": 0, \"car_duration_hours\": 0.8, \"competitive_route\": 1, \"bus_multiplier\": 1.94, \"bus_difference\": 45.0, \"num_trips\": 45, \"num_competitive\": 45, \"pct_trips_competitive\": 1.0, \"bus_difference_spread\": 12.0, \"route_group\": \"long\", \"max_trip_hrs\": 1.55, \"max_trip_route_group\": 1.55, \"name\": \"Golden Empire Transit District\", \"caltrans_district\": \"06 - Fresno\", \"drmt_organization_name\": null, \"cutoff2\": 23.25, \"cutoff\": 0}, {\"calitp_itp_id\": 126, \"trip_key\": -8905649343725834347, \"trip_id\": \"3736\", \"shape_id\": \"78\", \"route_id\": \"41\", \"service_hours\": 1.55, \"trip_first_departure_ts\": 26820, \"trip_last_arrival_ts\": 32400, \"departure_hour\": 7, \"time_of_day\": \"AM Peak\", \"p25\": 1.45, \"p50\": 1.45, \"p75\": 1.55, \"p50_trip\": 0, \"fastest_trip\": 0, \"car_duration_hours\": 0.8, \"competitive_route\": 1, \"bus_multiplier\": 1.94, \"bus_difference\": 45.0, \"num_trips\": 45, \"num_competitive\": 45, \"pct_trips_competitive\": 1.0, \"bus_difference_spread\": 12.0, \"route_group\": \"long\", \"max_trip_hrs\": 1.55, \"max_trip_route_group\": 1.55, \"name\": \"Golden Empire Transit District\", \"caltrans_district\": \"06 - Fresno\", \"drmt_organization_name\": null, \"cutoff2\": 23.25, \"cutoff\": 0}, {\"calitp_itp_id\": 126, \"trip_key\": 5215908523642987416, \"trip_id\": \"3739\", \"shape_id\": \"78\", \"route_id\": \"41\", \"service_hours\": 1.55, \"trip_first_departure_ts\": 32220, \"trip_last_arrival_ts\": 37800, \"departure_hour\": 8, \"time_of_day\": \"AM Peak\", \"p25\": 1.45, \"p50\": 1.45, \"p75\": 1.55, \"p50_trip\": 0, \"fastest_trip\": 0, \"car_duration_hours\": 0.8, \"competitive_route\": 1, \"bus_multiplier\": 1.94, \"bus_difference\": 45.0, \"num_trips\": 45, \"num_competitive\": 45, \"pct_trips_competitive\": 1.0, \"bus_difference_spread\": 12.0, \"route_group\": \"long\", \"max_trip_hrs\": 1.55, \"max_trip_route_group\": 1.55, \"name\": \"Golden Empire Transit District\", \"caltrans_district\": \"06 - Fresno\", \"drmt_organization_name\": null, \"cutoff2\": 23.25, \"cutoff\": 0}, {\"calitp_itp_id\": 126, \"trip_key\": -8074230223285233480, \"trip_id\": \"3742\", \"shape_id\": \"78\", \"route_id\": \"41\", \"service_hours\": 1.55, \"trip_first_departure_ts\": 37620, \"trip_last_arrival_ts\": 43200, \"departure_hour\": 10, \"time_of_day\": \"Midday\", \"p25\": 1.45, \"p50\": 1.45, \"p75\": 1.55, \"p50_trip\": 0, \"fastest_trip\": 0, \"car_duration_hours\": 0.8, \"competitive_route\": 1, \"bus_multiplier\": 1.94, \"bus_difference\": 45.0, \"num_trips\": 45, \"num_competitive\": 45, \"pct_trips_competitive\": 1.0, \"bus_difference_spread\": 12.0, \"route_group\": \"long\", \"max_trip_hrs\": 1.55, \"max_trip_route_group\": 1.55, \"name\": \"Golden Empire Transit District\", \"caltrans_district\": \"06 - Fresno\", \"drmt_organization_name\": null, \"cutoff2\": 23.25, \"cutoff\": 0}, {\"calitp_itp_id\": 126, \"trip_key\": -4382476451098257507, \"trip_id\": \"3735\", \"shape_id\": \"78\", \"route_id\": \"41\", \"service_hours\": 1.55, \"trip_first_departure_ts\": 25020, \"trip_last_arrival_ts\": 30600, \"departure_hour\": 6, \"time_of_day\": \"Owl Service\", \"p25\": 1.45, \"p50\": 1.45, \"p75\": 1.55, \"p50_trip\": 0, \"fastest_trip\": 0, \"car_duration_hours\": 0.8, \"competitive_route\": 1, \"bus_multiplier\": 1.94, \"bus_difference\": 45.0, \"num_trips\": 45, \"num_competitive\": 45, \"pct_trips_competitive\": 1.0, \"bus_difference_spread\": 12.0, \"route_group\": \"long\", \"max_trip_hrs\": 1.55, \"max_trip_route_group\": 1.55, \"name\": \"Golden Empire Transit District\", \"caltrans_district\": \"06 - Fresno\", \"drmt_organization_name\": null, \"cutoff2\": 23.25, \"cutoff\": 0}, {\"calitp_itp_id\": 126, \"trip_key\": -1118453596606840101, \"trip_id\": \"3737\", \"shape_id\": \"78\", \"route_id\": \"41\", \"service_hours\": 1.55, \"trip_first_departure_ts\": 28620, \"trip_last_arrival_ts\": 34200, \"departure_hour\": 7, \"time_of_day\": \"AM Peak\", \"p25\": 1.45, \"p50\": 1.45, \"p75\": 1.55, \"p50_trip\": 0, \"fastest_trip\": 0, \"car_duration_hours\": 0.8, \"competitive_route\": 1, \"bus_multiplier\": 1.94, \"bus_difference\": 45.0, \"num_trips\": 45, \"num_competitive\": 45, \"pct_trips_competitive\": 1.0, \"bus_difference_spread\": 12.0, \"route_group\": \"long\", \"max_trip_hrs\": 1.55, \"max_trip_route_group\": 1.55, \"name\": \"Golden Empire Transit District\", \"caltrans_district\": \"06 - Fresno\", \"drmt_organization_name\": null, \"cutoff2\": 23.25, \"cutoff\": 0}, {\"calitp_itp_id\": 126, \"trip_key\": 9130605149217231437, \"trip_id\": \"3753\", \"shape_id\": \"78\", \"route_id\": \"41\", \"service_hours\": 1.55, \"trip_first_departure_ts\": 57420, \"trip_last_arrival_ts\": 63000, \"departure_hour\": 15, \"time_of_day\": \"Midday\", \"p25\": 1.45, \"p50\": 1.45, \"p75\": 1.55, \"p50_trip\": 0, \"fastest_trip\": 0, \"car_duration_hours\": 0.8, \"competitive_route\": 1, \"bus_multiplier\": 1.94, \"bus_difference\": 45.0, \"num_trips\": 45, \"num_competitive\": 45, \"pct_trips_competitive\": 1.0, \"bus_difference_spread\": 12.0, \"route_group\": \"long\", \"max_trip_hrs\": 1.55, \"max_trip_route_group\": 1.55, \"name\": \"Golden Empire Transit District\", \"caltrans_district\": \"06 - Fresno\", \"drmt_organization_name\": null, \"cutoff2\": 23.25, \"cutoff\": 0}, {\"calitp_itp_id\": 126, \"trip_key\": 2968404579104872588, \"trip_id\": \"3743\", \"shape_id\": \"78\", \"route_id\": \"41\", \"service_hours\": 1.55, \"trip_first_departure_ts\": 39420, \"trip_last_arrival_ts\": 45000, \"departure_hour\": 10, \"time_of_day\": \"Midday\", \"p25\": 1.45, \"p50\": 1.45, \"p75\": 1.55, \"p50_trip\": 0, \"fastest_trip\": 0, \"car_duration_hours\": 0.8, \"competitive_route\": 1, \"bus_multiplier\": 1.94, \"bus_difference\": 45.0, \"num_trips\": 45, \"num_competitive\": 45, \"pct_trips_competitive\": 1.0, \"bus_difference_spread\": 12.0, \"route_group\": \"long\", \"max_trip_hrs\": 1.55, \"max_trip_route_group\": 1.55, \"name\": \"Golden Empire Transit District\", \"caltrans_district\": \"06 - Fresno\", \"drmt_organization_name\": null, \"cutoff2\": 23.25, \"cutoff\": 0}, {\"calitp_itp_id\": 126, \"trip_key\": 3019438299359060180, \"trip_id\": \"3752\", \"shape_id\": \"78\", \"route_id\": \"41\", \"service_hours\": 1.55, \"trip_first_departure_ts\": 55620, \"trip_last_arrival_ts\": 61200, \"departure_hour\": 15, \"time_of_day\": \"Midday\", \"p25\": 1.45, \"p50\": 1.45, \"p75\": 1.55, \"p50_trip\": 0, \"fastest_trip\": 0, \"car_duration_hours\": 0.8, \"competitive_route\": 1, \"bus_multiplier\": 1.94, \"bus_difference\": 45.0, \"num_trips\": 45, \"num_competitive\": 45, \"pct_trips_competitive\": 1.0, \"bus_difference_spread\": 12.0, \"route_group\": \"long\", \"max_trip_hrs\": 1.55, \"max_trip_route_group\": 1.55, \"name\": \"Golden Empire Transit District\", \"caltrans_district\": \"06 - Fresno\", \"drmt_organization_name\": null, \"cutoff2\": 23.25, \"cutoff\": 0}, {\"calitp_itp_id\": 126, \"trip_key\": 4529126544370445946, \"trip_id\": \"3749\", \"shape_id\": \"78\", \"route_id\": \"41\", \"service_hours\": 1.55, \"trip_first_departure_ts\": 50220, \"trip_last_arrival_ts\": 55800, \"departure_hour\": 13, \"time_of_day\": \"Midday\", \"p25\": 1.45, \"p50\": 1.45, \"p75\": 1.55, \"p50_trip\": 0, \"fastest_trip\": 0, \"car_duration_hours\": 0.8, \"competitive_route\": 1, \"bus_multiplier\": 1.94, \"bus_difference\": 45.0, \"num_trips\": 45, \"num_competitive\": 45, \"pct_trips_competitive\": 1.0, \"bus_difference_spread\": 12.0, \"route_group\": \"long\", \"max_trip_hrs\": 1.55, \"max_trip_route_group\": 1.55, \"name\": \"Golden Empire Transit District\", \"caltrans_district\": \"06 - Fresno\", \"drmt_organization_name\": null, \"cutoff2\": 23.25, \"cutoff\": 0}, {\"calitp_itp_id\": 126, \"trip_key\": -5362118131542335213, \"trip_id\": \"3741\", \"shape_id\": \"78\", \"route_id\": \"41\", \"service_hours\": 1.55, \"trip_first_departure_ts\": 35820, \"trip_last_arrival_ts\": 41400, \"departure_hour\": 9, \"time_of_day\": \"AM Peak\", \"p25\": 1.45, \"p50\": 1.45, \"p75\": 1.55, \"p50_trip\": 0, \"fastest_trip\": 0, \"car_duration_hours\": 0.8, \"competitive_route\": 1, \"bus_multiplier\": 1.94, \"bus_difference\": 45.0, \"num_trips\": 45, \"num_competitive\": 45, \"pct_trips_competitive\": 1.0, \"bus_difference_spread\": 12.0, \"route_group\": \"long\", \"max_trip_hrs\": 1.55, \"max_trip_route_group\": 1.55, \"name\": \"Golden Empire Transit District\", \"caltrans_district\": \"06 - Fresno\", \"drmt_organization_name\": null, \"cutoff2\": 23.25, \"cutoff\": 0}, {\"calitp_itp_id\": 126, \"trip_key\": -6464963909112186485, \"trip_id\": \"3738\", \"shape_id\": \"78\", \"route_id\": \"41\", \"service_hours\": 1.55, \"trip_first_departure_ts\": 30420, \"trip_last_arrival_ts\": 36000, \"departure_hour\": 8, \"time_of_day\": \"AM Peak\", \"p25\": 1.45, \"p50\": 1.45, \"p75\": 1.55, \"p50_trip\": 0, \"fastest_trip\": 0, \"car_duration_hours\": 0.8, \"competitive_route\": 1, \"bus_multiplier\": 1.94, \"bus_difference\": 45.0, \"num_trips\": 45, \"num_competitive\": 45, \"pct_trips_competitive\": 1.0, \"bus_difference_spread\": 12.0, \"route_group\": \"long\", \"max_trip_hrs\": 1.55, \"max_trip_route_group\": 1.55, \"name\": \"Golden Empire Transit District\", \"caltrans_district\": \"06 - Fresno\", \"drmt_organization_name\": null, \"cutoff2\": 23.25, \"cutoff\": 0}, {\"calitp_itp_id\": 126, \"trip_key\": 2067234379860168420, \"trip_id\": \"3748\", \"shape_id\": \"78\", \"route_id\": \"41\", \"service_hours\": 1.55, \"trip_first_departure_ts\": 48420, \"trip_last_arrival_ts\": 54000, \"departure_hour\": 13, \"time_of_day\": \"Midday\", \"p25\": 1.45, \"p50\": 1.45, \"p75\": 1.55, \"p50_trip\": 0, \"fastest_trip\": 0, \"car_duration_hours\": 0.8, \"competitive_route\": 1, \"bus_multiplier\": 1.94, \"bus_difference\": 45.0, \"num_trips\": 45, \"num_competitive\": 45, \"pct_trips_competitive\": 1.0, \"bus_difference_spread\": 12.0, \"route_group\": \"long\", \"max_trip_hrs\": 1.55, \"max_trip_route_group\": 1.55, \"name\": \"Golden Empire Transit District\", \"caltrans_district\": \"06 - Fresno\", \"drmt_organization_name\": null, \"cutoff2\": 23.25, \"cutoff\": 0}, {\"calitp_itp_id\": 126, \"trip_key\": -211985334436261053, \"trip_id\": \"3745\", \"shape_id\": \"78\", \"route_id\": \"41\", \"service_hours\": 1.55, \"trip_first_departure_ts\": 43020, \"trip_last_arrival_ts\": 48600, \"departure_hour\": 11, \"time_of_day\": \"Midday\", \"p25\": 1.45, \"p50\": 1.45, \"p75\": 1.55, \"p50_trip\": 0, \"fastest_trip\": 0, \"car_duration_hours\": 0.8, \"competitive_route\": 1, \"bus_multiplier\": 1.94, \"bus_difference\": 45.0, \"num_trips\": 45, \"num_competitive\": 45, \"pct_trips_competitive\": 1.0, \"bus_difference_spread\": 12.0, \"route_group\": \"long\", \"max_trip_hrs\": 1.55, \"max_trip_route_group\": 1.55, \"name\": \"Golden Empire Transit District\", \"caltrans_district\": \"06 - Fresno\", \"drmt_organization_name\": null, \"cutoff2\": 23.25, \"cutoff\": 0}, {\"calitp_itp_id\": 126, \"trip_key\": 8292425056513114435, \"trip_id\": \"3747\", \"shape_id\": \"78\", \"route_id\": \"41\", \"service_hours\": 1.55, \"trip_first_departure_ts\": 46620, \"trip_last_arrival_ts\": 52200, \"departure_hour\": 12, \"time_of_day\": \"Midday\", \"p25\": 1.45, \"p50\": 1.45, \"p75\": 1.55, \"p50_trip\": 0, \"fastest_trip\": 0, \"car_duration_hours\": 0.8, \"competitive_route\": 1, \"bus_multiplier\": 1.94, \"bus_difference\": 45.0, \"num_trips\": 45, \"num_competitive\": 45, \"pct_trips_competitive\": 1.0, \"bus_difference_spread\": 12.0, \"route_group\": \"long\", \"max_trip_hrs\": 1.55, \"max_trip_route_group\": 1.55, \"name\": \"Golden Empire Transit District\", \"caltrans_district\": \"06 - Fresno\", \"drmt_organization_name\": null, \"cutoff2\": 23.25, \"cutoff\": 0}, {\"calitp_itp_id\": 126, \"trip_key\": -2937402900677665452, \"trip_id\": \"3750\", \"shape_id\": \"78\", \"route_id\": \"41\", \"service_hours\": 1.55, \"trip_first_departure_ts\": 52020, \"trip_last_arrival_ts\": 57600, \"departure_hour\": 14, \"time_of_day\": \"Midday\", \"p25\": 1.45, \"p50\": 1.45, \"p75\": 1.55, \"p50_trip\": 0, \"fastest_trip\": 0, \"car_duration_hours\": 0.8, \"competitive_route\": 1, \"bus_multiplier\": 1.94, \"bus_difference\": 45.0, \"num_trips\": 45, \"num_competitive\": 45, \"pct_trips_competitive\": 1.0, \"bus_difference_spread\": 12.0, \"route_group\": \"long\", \"max_trip_hrs\": 1.55, \"max_trip_route_group\": 1.55, \"name\": \"Golden Empire Transit District\", \"caltrans_district\": \"06 - Fresno\", \"drmt_organization_name\": null, \"cutoff2\": 23.25, \"cutoff\": 0}, {\"calitp_itp_id\": 126, \"trip_key\": -942775710692938146, \"trip_id\": \"3740\", \"shape_id\": \"78\", \"route_id\": \"41\", \"service_hours\": 1.55, \"trip_first_departure_ts\": 34020, \"trip_last_arrival_ts\": 39600, \"departure_hour\": 9, \"time_of_day\": \"AM Peak\", \"p25\": 1.45, \"p50\": 1.45, \"p75\": 1.55, \"p50_trip\": 0, \"fastest_trip\": 0, \"car_duration_hours\": 0.8, \"competitive_route\": 1, \"bus_multiplier\": 1.94, \"bus_difference\": 45.0, \"num_trips\": 45, \"num_competitive\": 45, \"pct_trips_competitive\": 1.0, \"bus_difference_spread\": 12.0, \"route_group\": \"long\", \"max_trip_hrs\": 1.55, \"max_trip_route_group\": 1.55, \"name\": \"Golden Empire Transit District\", \"caltrans_district\": \"06 - Fresno\", \"drmt_organization_name\": null, \"cutoff2\": 23.25, \"cutoff\": 0}]}}, {\"mode\": \"vega-lite\"});\n",
       "</script>"
      ],
      "text/plain": [
       "alt.FacetChart(...)"
      ]
     },
     "metadata": {},
     "output_type": "display_data"
    }
   ],
   "source": [
    "route_group = \"long\"\n",
    "try:\n",
    "    subset_routes, mult, diff  = setup_charts(df, PCT_COMPETITIVE_THRESHOLD, route_group)\n",
    "    if len(subset_routes) > 0:\n",
    "        display(\n",
    "            Markdown(\n",
    "                f\"{CAPTIONS_DICT[route_group]}\"\n",
    "                \"Within each route group, routes are sorted in descending order \"\n",
    "                \"by % competitive trips and # trips below the additional time cut-off.\"\n",
    "            )\n",
    "        )\n",
    "\n",
    "        display(mult)\n",
    "        display(diff)\n",
    "except:\n",
    "    print(\"No routes meet this criteria.\")"
   ]
  }
 ],
 "metadata": {
  "kernelspec": {
   "display_name": "Python 3 (ipykernel)",
   "language": "python",
   "name": "python3"
  },
  "language_info": {
   "codemirror_mode": {
    "name": "ipython",
    "version": 3
   },
   "file_extension": ".py",
   "mimetype": "text/x-python",
   "name": "python",
   "nbconvert_exporter": "python",
   "pygments_lexer": "ipython3",
   "version": "3.9.12"
  },
  "papermill": {
   "default_parameters": {},
   "duration": 22.861182,
   "end_time": "2022-05-07T17:14:58.155714",
   "environment_variables": {},
   "exception": null,
   "input_path": "bus_service_increase/stripplot.ipynb",
   "output_path": "portfolio/parallel_corridors/district_06-fresno/stripplot__itp_id_126.ipynb",
   "parameters": {
    "district": "06 - Fresno",
    "itp_id": 126
   },
   "start_time": "2022-05-07T17:14:35.294532",
   "version": "2.3.4"
  }
 },
 "nbformat": 4,
 "nbformat_minor": 5
}