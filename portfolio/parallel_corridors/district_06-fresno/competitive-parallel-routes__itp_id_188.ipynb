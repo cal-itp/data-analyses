{
 "cells": [
  {
   "cell_type": "code",
   "execution_count": 1,
   "id": "95d00857-6a20-4529-a519-2cc7182928a9",
   "metadata": {
    "execution": {
     "iopub.execute_input": "2022-05-09T19:58:57.262767Z",
     "iopub.status.busy": "2022-05-09T19:58:57.261974Z",
     "iopub.status.idle": "2022-05-09T19:59:07.093392Z",
     "shell.execute_reply": "2022-05-09T19:59:07.092511Z"
    },
    "jupyter": {
     "source_hidden": true
    },
    "papermill": {
     "duration": 9.851198,
     "end_time": "2022-05-09T19:59:07.096137",
     "exception": false,
     "start_time": "2022-05-09T19:58:57.244939",
     "status": "completed"
    },
    "tags": [
     "remove_input"
    ]
   },
   "outputs": [],
   "source": [
    "%%capture\n",
    "import warnings\n",
    "warnings.filterwarnings('ignore')\n",
    "\n",
    "import altair as alt\n",
    "import calitp.magics\n",
    "import geopandas as gpd\n",
    "import intake\n",
    "import pandas as pd\n",
    "\n",
    "from IPython.display import display, Markdown, HTML\n",
    "\n",
    "import parallel_corridors_utils\n",
    "from shared_utils import styleguide\n",
    "import deploy_portfolio_yaml\n",
    "\n",
    "catalog = intake.open_catalog(\"./*.yml\")\n",
    "alt.renderers.enable(\"html\")"
   ]
  },
  {
   "cell_type": "code",
   "execution_count": 2,
   "id": "8af2a0c1-f3da-408d-9bea-11d9fbf8695d",
   "metadata": {
    "execution": {
     "iopub.execute_input": "2022-05-09T19:59:07.126117Z",
     "iopub.status.busy": "2022-05-09T19:59:07.125409Z",
     "iopub.status.idle": "2022-05-09T19:59:07.130400Z",
     "shell.execute_reply": "2022-05-09T19:59:07.129584Z"
    },
    "jupyter": {
     "source_hidden": true
    },
    "papermill": {
     "duration": 0.022468,
     "end_time": "2022-05-09T19:59:07.132596",
     "exception": false,
     "start_time": "2022-05-09T19:59:07.110128",
     "status": "completed"
    },
    "tags": [
     "parameters",
     "remove_input"
    ]
   },
   "outputs": [],
   "source": [
    "# parameters cell\n",
    "itp_id = 182"
   ]
  },
  {
   "cell_type": "code",
   "execution_count": 3,
   "id": "ab06bcab",
   "metadata": {
    "execution": {
     "iopub.execute_input": "2022-05-09T19:59:07.159373Z",
     "iopub.status.busy": "2022-05-09T19:59:07.158687Z",
     "iopub.status.idle": "2022-05-09T19:59:07.163431Z",
     "shell.execute_reply": "2022-05-09T19:59:07.162651Z"
    },
    "jupyter": {
     "source_hidden": true
    },
    "papermill": {
     "duration": 0.021067,
     "end_time": "2022-05-09T19:59:07.165627",
     "exception": false,
     "start_time": "2022-05-09T19:59:07.144560",
     "status": "completed"
    },
    "tags": [
     "injected-parameters",
     "remove_input"
    ]
   },
   "outputs": [],
   "source": [
    "# Parameters\n",
    "district = \"06 - Fresno\"\n",
    "itp_id = 188\n"
   ]
  },
  {
   "cell_type": "code",
   "execution_count": 4,
   "id": "9582aaf4-79ff-412a-b248-8d8d693ebd4f",
   "metadata": {
    "execution": {
     "iopub.execute_input": "2022-05-09T19:59:07.195976Z",
     "iopub.status.busy": "2022-05-09T19:59:07.195110Z",
     "iopub.status.idle": "2022-05-09T19:59:08.474634Z",
     "shell.execute_reply": "2022-05-09T19:59:08.473669Z"
    },
    "jupyter": {
     "source_hidden": true
    },
    "papermill": {
     "duration": 1.29836,
     "end_time": "2022-05-09T19:59:08.477131",
     "exception": false,
     "start_time": "2022-05-09T19:59:07.178771",
     "status": "completed"
    },
    "tags": [
     "remove_input"
    ]
   },
   "outputs": [],
   "source": [
    "df = catalog.competitive_route_variability.read()\n",
    "\n",
    "df = (df[(df.calitp_itp_id == itp_id) & \n",
    "         (df.route_group.notna())]\n",
    "      .reset_index(drop=True)\n",
    "     )\n",
    "\n",
    "\n",
    "if itp_id == 182:\n",
    "    df = df.assign(\n",
    "        route_id = df.route_id.str.replace('-13153', '').astype(int)\n",
    "    )"
   ]
  },
  {
   "cell_type": "code",
   "execution_count": 5,
   "id": "33ac4b06-f647-4dce-a625-8f2c1b37cc60",
   "metadata": {
    "execution": {
     "iopub.execute_input": "2022-05-09T19:59:08.504750Z",
     "iopub.status.busy": "2022-05-09T19:59:08.504140Z",
     "iopub.status.idle": "2022-05-09T19:59:08.511572Z",
     "shell.execute_reply": "2022-05-09T19:59:08.510932Z"
    },
    "jupyter": {
     "source_hidden": true
    },
    "papermill": {
     "duration": 0.023406,
     "end_time": "2022-05-09T19:59:08.513359",
     "exception": false,
     "start_time": "2022-05-09T19:59:08.489953",
     "status": "completed"
    },
    "tags": [
     "remove_input"
    ]
   },
   "outputs": [],
   "source": [
    "%%capture_parameters\n",
    "operator_name = df.name.iloc[0]\n",
    "district_number = f\"{df.caltrans_district.iloc[0].split('-')[0].strip()}\"\n",
    "district_name = f\"{df.caltrans_district.iloc[0].split('-')[1].strip().lower().replace(' ', '-')}\"\n",
    "\n",
    "itp_id, operator_name, district_number, district_name"
   ]
  },
  {
   "cell_type": "markdown",
   "id": "65bc6f5c-8348-42ee-b2dd-52057c406852",
   "metadata": {
    "papermill": {
     "duration": 0.01234,
     "end_time": "2022-05-09T19:59:08.537944",
     "exception": false,
     "start_time": "2022-05-09T19:59:08.525604",
     "status": "completed"
    },
    "tags": []
   },
   "source": [
    "# City of Madera (ITP ID: 188)"
   ]
  },
  {
   "cell_type": "code",
   "execution_count": 6,
   "id": "a689c1ab-2c6c-4831-8d64-897f5986f571",
   "metadata": {
    "execution": {
     "iopub.execute_input": "2022-05-09T19:59:08.564172Z",
     "iopub.status.busy": "2022-05-09T19:59:08.563588Z",
     "iopub.status.idle": "2022-05-09T19:59:08.569446Z",
     "shell.execute_reply": "2022-05-09T19:59:08.568901Z"
    },
    "jupyter": {
     "source_hidden": true
    },
    "papermill": {
     "duration": 0.021389,
     "end_time": "2022-05-09T19:59:08.571228",
     "exception": false,
     "start_time": "2022-05-09T19:59:08.549839",
     "status": "completed"
    },
    "tags": [
     "remove_input"
    ]
   },
   "outputs": [
    {
     "data": {
      "text/html": [
       "<h1>Competitive & Parallel Routes</h1>"
      ],
      "text/plain": [
       "<IPython.core.display.HTML object>"
      ]
     },
     "metadata": {},
     "output_type": "display_data"
    }
   ],
   "source": [
    "display(HTML(\"<h1>Competitive & Parallel Routes</h1>\")) "
   ]
  },
  {
   "cell_type": "code",
   "execution_count": 7,
   "id": "2cb4d8d5-4760-40e4-85b1-cb833d8bb648",
   "metadata": {
    "execution": {
     "iopub.execute_input": "2022-05-09T19:59:08.597855Z",
     "iopub.status.busy": "2022-05-09T19:59:08.597299Z",
     "iopub.status.idle": "2022-05-09T19:59:21.217970Z",
     "shell.execute_reply": "2022-05-09T19:59:21.217056Z"
    },
    "jupyter": {
     "source_hidden": true
    },
    "papermill": {
     "duration": 12.636714,
     "end_time": "2022-05-09T19:59:21.220270",
     "exception": false,
     "start_time": "2022-05-09T19:59:08.583556",
     "status": "completed"
    },
    "tags": [
     "remove_input"
    ]
   },
   "outputs": [],
   "source": [
    "# Grab parameters for narrative text - clean up formatting here \n",
    "district = df.caltrans_district.iloc[0]\n",
    "formatted_date = pd.to_datetime(parallel_corridors_utils.SELECTED_DATE).strftime('%m-%d-%Y')\n",
    "\n",
    "PCT_COMPETITIVE_THRESHOLD = 0.75\n",
    "\n",
    "stats = parallel_corridors_utils.operator_parallel_competitive_stats(\n",
    "    itp_id, PCT_COMPETITIVE_THRESHOLD)\n",
    "\n",
    "pct_parallel = round(stats['parallel_routes'] / stats['num_routes'] * 100,1 )\n",
    "pct_competitive =  round(stats['competitive_routes'] / stats['num_routes'] * 100,1 )"
   ]
  },
  {
   "cell_type": "markdown",
   "id": "ab667928-5274-4490-82d9-4c39293209a4",
   "metadata": {
    "papermill": {
     "duration": 0.012834,
     "end_time": "2022-05-09T19:59:21.246555",
     "exception": false,
     "start_time": "2022-05-09T19:59:21.233721",
     "status": "completed"
    },
    "tags": []
   },
   "source": [
    "## Quick Stats"
   ]
  },
  {
   "cell_type": "code",
   "execution_count": 8,
   "id": "0416509d-dc62-4165-b62e-64f8b26e8b8e",
   "metadata": {
    "execution": {
     "iopub.execute_input": "2022-05-09T19:59:21.273644Z",
     "iopub.status.busy": "2022-05-09T19:59:21.273370Z",
     "iopub.status.idle": "2022-05-09T19:59:21.283287Z",
     "shell.execute_reply": "2022-05-09T19:59:21.282430Z"
    },
    "jupyter": {
     "source_hidden": true
    },
    "papermill": {
     "duration": 0.026749,
     "end_time": "2022-05-09T19:59:21.286007",
     "exception": false,
     "start_time": "2022-05-09T19:59:21.259258",
     "status": "completed"
    },
    "tags": [
     "remove_input"
    ]
   },
   "outputs": [
    {
     "data": {
      "text/markdown": [
       "**Bus routes in service**: 3 <br>**Parallel routes** to State Highway Network (SHN): 2 routes (66.7%)<br>**Competitive routes** against car travel: 2 routes (66.7%)"
      ],
      "text/plain": [
       "<IPython.core.display.Markdown object>"
      ]
     },
     "metadata": {},
     "output_type": "display_data"
    }
   ],
   "source": [
    "display(\n",
    "    Markdown(\n",
    "        f\"**Bus routes in service**: {stats['num_routes']} \"\n",
    "        \"<br>**Parallel routes** to State Highway Network (SHN): \"\n",
    "        f\"{stats['parallel_routes']} routes ({pct_parallel}%)\"\n",
    "        f\"<br>**Competitive routes** against car travel: {stats['competitive_routes']} routes ({pct_competitive}%)\"\n",
    "    )\n",
    ")"
   ]
  },
  {
   "cell_type": "code",
   "execution_count": 9,
   "id": "f9d6ab58-f0ee-460c-b6de-657490e1f386",
   "metadata": {
    "execution": {
     "iopub.execute_input": "2022-05-09T19:59:21.326109Z",
     "iopub.status.busy": "2022-05-09T19:59:21.325109Z",
     "iopub.status.idle": "2022-05-09T19:59:21.334688Z",
     "shell.execute_reply": "2022-05-09T19:59:21.333966Z"
    },
    "jupyter": {
     "source_hidden": true
    },
    "papermill": {
     "duration": 0.026098,
     "end_time": "2022-05-09T19:59:21.336663",
     "exception": false,
     "start_time": "2022-05-09T19:59:21.310565",
     "status": "completed"
    },
    "tags": [
     "remove_input"
    ]
   },
   "outputs": [],
   "source": [
    "def set_yaxis_range(df, y_col):\n",
    "    Y_MIN = df[y_col].min()\n",
    "    Y_MAX = df[y_col].max()\n",
    "    \n",
    "    return Y_MIN, Y_MAX\n",
    "\n",
    "# Rather than set it according to the operator, which can vary,\n",
    "# just use set thresholds for each group\n",
    "diff_cutoffs = parallel_corridors_utils.diff_cutoffs\n",
    "\n",
    "PCT_TRIPS_BELOW_CUTOFF = 0.25\n",
    "\n",
    "def top15_routes(df, route_group):\n",
    "    df2 = (df[df.route_group==route_group])\n",
    "    # Set a cut-off to enable sorting, where most of the trips are \n",
    "    # below a certain time difference cut-off, \n",
    "    # grab top 15 routes where majority of trips are below that cut-off \n",
    "\n",
    "    route_cols = [\"calitp_itp_id\", \"route_id\"]\n",
    "\n",
    "    df2 = df2.assign(\n",
    "        below_cutoff = df2.apply(lambda x: 1 if x.bus_difference <= diff_cutoffs[route_group] \n",
    "                                 else 0, axis=1),\n",
    "        num_trips = df2.groupby(route_cols)[\"trip_id\"].transform(\"count\")\n",
    "    )\n",
    "\n",
    "    df2[\"below_cutoff\"] = df2.groupby(route_cols)[\"below_cutoff\"].transform(\"sum\")\n",
    "    df2[\"pct_below_cutoff\"] = df2.below_cutoff.divide(df2.num_trips)\n",
    "\n",
    "    # At least half the trips are below that cut-off\n",
    "    # but show 15 max, otherwise, show less, since these won't be as interesting to operators\n",
    "    df3 = (df2[df2.pct_below_cutoff >= PCT_TRIPS_BELOW_CUTOFF]\n",
    "           .sort_values([\"calitp_itp_id\", \"below_cutoff\", \n",
    "                         \"pct_below_cutoff\", \"route_id\"],\n",
    "                        ascending = [True, False, False, True]\n",
    "                       )\n",
    "           .drop_duplicates(subset=[\"calitp_itp_id\", \"route_id\"])\n",
    "          ).head(15)\n",
    "    \n",
    "    return list(df3.route_id)"
   ]
  },
  {
   "cell_type": "code",
   "execution_count": 10,
   "id": "cf36d559-3349-4144-8086-8ac9ce937a5a",
   "metadata": {
    "execution": {
     "iopub.execute_input": "2022-05-09T19:59:21.365717Z",
     "iopub.status.busy": "2022-05-09T19:59:21.364881Z",
     "iopub.status.idle": "2022-05-09T19:59:21.370834Z",
     "shell.execute_reply": "2022-05-09T19:59:21.370162Z"
    },
    "jupyter": {
     "source_hidden": true
    },
    "papermill": {
     "duration": 0.023838,
     "end_time": "2022-05-09T19:59:21.373713",
     "exception": false,
     "start_time": "2022-05-09T19:59:21.349875",
     "status": "completed"
    },
    "tags": [
     "remove_input"
    ]
   },
   "outputs": [],
   "source": [
    "def caption_with_cutoff(cutoff):\n",
    "    sentence = (\n",
    "        f\"<br>These are routes that have **at least {int(PCT_TRIPS_BELOW_CUTOFF*100)}% \"\n",
    "        \"of their trips take no more than an \"\n",
    "        f\"additional {cutoff} min** compared to a car \"\n",
    "        \"(up to 15 routes) are shown.\"\n",
    "        \"<br>Within each route group, routes are sorted in descending order \"\n",
    "        \"by % competitive trips and # trips below the additional time cut-off.\"\n",
    "    )\n",
    "    return sentence\n",
    "\n",
    "CAPTIONS_DICT = {\n",
    "    \"short\": caption_with_cutoff(diff_cutoffs['short']),\n",
    "    \"medium\": caption_with_cutoff(diff_cutoffs['medium']),\n",
    "    \"long\": caption_with_cutoff(diff_cutoffs['long']),\n",
    "}"
   ]
  },
  {
   "cell_type": "code",
   "execution_count": 11,
   "id": "e4306d58-6944-47e9-afef-5d5b524c751f",
   "metadata": {
    "execution": {
     "iopub.execute_input": "2022-05-09T19:59:21.429247Z",
     "iopub.status.busy": "2022-05-09T19:59:21.428931Z",
     "iopub.status.idle": "2022-05-09T19:59:21.436115Z",
     "shell.execute_reply": "2022-05-09T19:59:21.435099Z"
    },
    "jupyter": {
     "source_hidden": true
    },
    "papermill": {
     "duration": 0.024311,
     "end_time": "2022-05-09T19:59:21.438390",
     "exception": false,
     "start_time": "2022-05-09T19:59:21.414079",
     "status": "completed"
    },
    "tags": [
     "remove_input"
    ]
   },
   "outputs": [],
   "source": [
    "def setup_charts(df, PCT_COMPETITIVE_THRESHOLD, route_group):\n",
    "    # Set up df for charting (cut-off at some threshold to show most competitive routes)\n",
    "    plot_me = (df[df.pct_trips_competitive > PCT_COMPETITIVE_THRESHOLD]\n",
    "           .drop(columns = \"geometry\")\n",
    "    )\n",
    "    \n",
    "    y_col1 = \"bus_multiplier\"\n",
    "    Y_MIN1, Y_MAX1 = set_yaxis_range(plot_me, y_col1)\n",
    "\n",
    "    y_col2 = \"bus_difference\"\n",
    "    Y_MIN2, Y_MAX2 = set_yaxis_range(plot_me, y_col2)\n",
    "     \n",
    "    subset_routes = top15_routes(plot_me, route_group)\n",
    "    \n",
    "    multiplier_chart = parallel_corridors_utils.make_stripplot(\n",
    "        plot_me[plot_me.route_id.isin(subset_routes)], \n",
    "        y_col1, Y_MIN = Y_MIN1, Y_MAX = Y_MAX1\n",
    "    )\n",
    "    \n",
    "    difference_chart = parallel_corridors_utils.make_stripplot(\n",
    "        plot_me[plot_me.route_id.isin(subset_routes)], \n",
    "        y_col2, Y_MIN = Y_MIN2, Y_MAX = Y_MAX2\n",
    "    )\n",
    "    \n",
    "    return subset_routes, multiplier_chart, difference_chart            "
   ]
  },
  {
   "cell_type": "code",
   "execution_count": 12,
   "id": "33a710e8-504c-4942-aa75-ff69f216956e",
   "metadata": {
    "execution": {
     "iopub.execute_input": "2022-05-09T19:59:21.468482Z",
     "iopub.status.busy": "2022-05-09T19:59:21.467512Z",
     "iopub.status.idle": "2022-05-09T19:59:21.476951Z",
     "shell.execute_reply": "2022-05-09T19:59:21.476102Z"
    },
    "jupyter": {
     "source_hidden": true
    },
    "papermill": {
     "duration": 0.031033,
     "end_time": "2022-05-09T19:59:21.483670",
     "exception": false,
     "start_time": "2022-05-09T19:59:21.452637",
     "status": "completed"
    },
    "tags": [
     "remove_input"
    ]
   },
   "outputs": [],
   "source": [
    "def display_charts_for_route_group(df, route_group):    \n",
    "    subset_routes, mult, diff  = setup_charts(df, PCT_COMPETITIVE_THRESHOLD, route_group)\n",
    "\n",
    "    if len(subset_routes) > 0:\n",
    "        display(Markdown(f\"{CAPTIONS_DICT[route_group]}\"))\n",
    "\n",
    "        display(mult)\n",
    "        display(diff)"
   ]
  },
  {
   "cell_type": "markdown",
   "id": "525f9b38-072b-46d1-96a8-1aa4b038357c",
   "metadata": {
    "papermill": {
     "duration": 0.024004,
     "end_time": "2022-05-09T19:59:21.543610",
     "exception": false,
     "start_time": "2022-05-09T19:59:21.519606",
     "status": "completed"
    },
    "tags": []
   },
   "source": [
    "## Viable Competitive Routes\n",
    "### Short Routes (< 1 hr)"
   ]
  },
  {
   "cell_type": "code",
   "execution_count": 13,
   "id": "57f7084c-2cf7-45c6-ba08-1609e0bd6ca5",
   "metadata": {
    "execution": {
     "iopub.execute_input": "2022-05-09T19:59:21.593722Z",
     "iopub.status.busy": "2022-05-09T19:59:21.593418Z",
     "iopub.status.idle": "2022-05-09T19:59:21.860881Z",
     "shell.execute_reply": "2022-05-09T19:59:21.860221Z"
    },
    "jupyter": {
     "source_hidden": true
    },
    "papermill": {
     "duration": 0.293927,
     "end_time": "2022-05-09T19:59:21.862789",
     "exception": false,
     "start_time": "2022-05-09T19:59:21.568862",
     "status": "completed"
    },
    "tags": [
     "remove_input"
    ]
   },
   "outputs": [
    {
     "data": {
      "text/markdown": [
       "<br>These are routes that have **at least 25% of their trips take no more than an additional 20 min** compared to a car (up to 15 routes) are shown.<br>Within each route group, routes are sorted in descending order by % competitive trips and # trips below the additional time cut-off."
      ],
      "text/plain": [
       "<IPython.core.display.Markdown object>"
      ]
     },
     "metadata": {},
     "output_type": "display_data"
    },
    {
     "data": {
      "text/html": [
       "\n",
       "<div id=\"altair-viz-0cb44f3e7726480d9893d9e3dc8df348\"></div>\n",
       "<script type=\"text/javascript\">\n",
       "  var VEGA_DEBUG = (typeof VEGA_DEBUG == \"undefined\") ? {} : VEGA_DEBUG;\n",
       "  (function(spec, embedOpt){\n",
       "    let outputDiv = document.currentScript.previousElementSibling;\n",
       "    if (outputDiv.id !== \"altair-viz-0cb44f3e7726480d9893d9e3dc8df348\") {\n",
       "      outputDiv = document.getElementById(\"altair-viz-0cb44f3e7726480d9893d9e3dc8df348\");\n",
       "    }\n",
       "    const paths = {\n",
       "      \"vega\": \"https://cdn.jsdelivr.net/npm//vega@5?noext\",\n",
       "      \"vega-lib\": \"https://cdn.jsdelivr.net/npm//vega-lib?noext\",\n",
       "      \"vega-lite\": \"https://cdn.jsdelivr.net/npm//vega-lite@4.17.0?noext\",\n",
       "      \"vega-embed\": \"https://cdn.jsdelivr.net/npm//vega-embed@6?noext\",\n",
       "    };\n",
       "\n",
       "    function maybeLoadScript(lib, version) {\n",
       "      var key = `${lib.replace(\"-\", \"\")}_version`;\n",
       "      return (VEGA_DEBUG[key] == version) ?\n",
       "        Promise.resolve(paths[lib]) :\n",
       "        new Promise(function(resolve, reject) {\n",
       "          var s = document.createElement('script');\n",
       "          document.getElementsByTagName(\"head\")[0].appendChild(s);\n",
       "          s.async = true;\n",
       "          s.onload = () => {\n",
       "            VEGA_DEBUG[key] = version;\n",
       "            return resolve(paths[lib]);\n",
       "          };\n",
       "          s.onerror = () => reject(`Error loading script: ${paths[lib]}`);\n",
       "          s.src = paths[lib];\n",
       "        });\n",
       "    }\n",
       "\n",
       "    function showError(err) {\n",
       "      outputDiv.innerHTML = `<div class=\"error\" style=\"color:red;\">${err}</div>`;\n",
       "      throw err;\n",
       "    }\n",
       "\n",
       "    function displayChart(vegaEmbed) {\n",
       "      vegaEmbed(outputDiv, spec, embedOpt)\n",
       "        .catch(err => showError(`Javascript Error: ${err.message}<br>This usually means there's a typo in your chart specification. See the javascript console for the full traceback.`));\n",
       "    }\n",
       "\n",
       "    if(typeof define === \"function\" && define.amd) {\n",
       "      requirejs.config({paths});\n",
       "      require([\"vega-embed\"], displayChart, err => showError(`Error loading script: ${err.message}`));\n",
       "    } else {\n",
       "      maybeLoadScript(\"vega\", \"5\")\n",
       "        .then(() => maybeLoadScript(\"vega-lite\", \"4.17.0\"))\n",
       "        .then(() => maybeLoadScript(\"vega-embed\", \"6\"))\n",
       "        .catch(showError)\n",
       "        .then(() => displayChart(vegaEmbed));\n",
       "    }\n",
       "  })({\"config\": {\"view\": {\"continuousWidth\": 400, \"continuousHeight\": 300, \"stroke\": null}, \"facet\": {\"spacing\": 0}}, \"data\": {\"name\": \"data-71b245d6a18ed6e36379326cd77f2de1\"}, \"facet\": {\"column\": {\"field\": \"route_id\", \"sort\": [\"578\"], \"title\": \"Route ID\", \"type\": \"nominal\"}}, \"spec\": {\"layer\": [{\"mark\": \"rule\", \"encoding\": {\"color\": {\"value\": \"black\"}, \"y\": {\"field\": \"cutoff\", \"type\": \"quantitative\"}}, \"selection\": {\"selector001\": {\"type\": \"interval\", \"bind\": \"scales\", \"encodings\": [\"x\", \"y\"]}}}, {\"mark\": {\"type\": \"point\", \"opacity\": 0.65, \"size\": 12, \"strokeWidth\": 1.1}, \"encoding\": {\"color\": {\"field\": \"time_of_day\", \"scale\": {\"range\": [\"#136C97\", \"#E16B26\", \"#F6BF16\", \"#00896B\", \"#7790A3\", \"#5B559C\"]}, \"sort\": [\"AM Peak\", \"Midday\", \"PM Peak\", \"Owl Service\"], \"title\": \"Time of Day\", \"type\": \"nominal\"}, \"tooltip\": [{\"field\": \"route_id\", \"type\": \"nominal\"}, {\"field\": \"trip_id\", \"type\": \"nominal\"}, {\"field\": \"service_hours\", \"type\": \"quantitative\"}, {\"field\": \"car_duration_hours\", \"type\": \"quantitative\"}, {\"field\": \"bus_multiplier\", \"type\": \"quantitative\"}, {\"field\": \"bus_difference\", \"type\": \"quantitative\"}, {\"field\": \"num_trips\", \"type\": \"quantitative\"}, {\"field\": \"num_competitive\", \"type\": \"quantitative\"}, {\"field\": \"pct_trips_competitive\", \"type\": \"quantitative\"}, {\"field\": \"p25\", \"type\": \"quantitative\"}, {\"field\": \"p50\", \"type\": \"quantitative\"}, {\"field\": \"p75\", \"type\": \"quantitative\"}], \"x\": {\"axis\": {\"grid\": false, \"labels\": false, \"ticks\": true, \"values\": [0]}, \"field\": \"jitter\", \"scale\": {}, \"title\": null, \"type\": \"quantitative\"}, \"y\": {\"field\": \"bus_multiplier\", \"scale\": {\"domain\": [-0.25, 2.5]}, \"title\": \"Ratio of Bus to Car Travel Time\", \"type\": \"quantitative\"}}, \"transform\": [{\"calculate\": \"sqrt(-2*log(random()))*cos(2*PI*random())\", \"as\": \"jitter\"}], \"width\": 50}, {\"layer\": [{\"mark\": {\"type\": \"point\", \"opacity\": 0.6, \"size\": 20, \"strokeWidth\": 1.3}, \"encoding\": {\"color\": {\"value\": \"#323434\"}, \"y\": {\"field\": \"bus_multiplier\", \"type\": \"quantitative\"}}, \"transform\": [{\"filter\": \"(datum.p50_trip === 1)\"}]}, {\"mark\": {\"type\": \"text\", \"align\": \"center\", \"baseline\": \"middle\"}, \"encoding\": {\"color\": {\"value\": \"black\"}, \"text\": {\"field\": \"pct_trips_competitive\", \"format\": \".0%\", \"type\": \"quantitative\"}, \"tooltip\": [{\"field\": \"route_id\", \"type\": \"nominal\"}, {\"field\": \"trip_id\", \"type\": \"nominal\"}, {\"field\": \"service_hours\", \"type\": \"quantitative\"}, {\"field\": \"car_duration_hours\", \"type\": \"quantitative\"}, {\"field\": \"bus_multiplier\", \"type\": \"quantitative\"}, {\"field\": \"bus_difference\", \"type\": \"quantitative\"}, {\"field\": \"num_trips\", \"type\": \"quantitative\"}, {\"field\": \"num_competitive\", \"type\": \"quantitative\"}, {\"field\": \"pct_trips_competitive\", \"type\": \"quantitative\"}, {\"field\": \"p25\", \"type\": \"quantitative\"}, {\"field\": \"p50\", \"type\": \"quantitative\"}, {\"field\": \"p75\", \"type\": \"quantitative\"}], \"x\": {\"value\": 30}, \"y\": {\"value\": 15}}, \"transform\": [{\"calculate\": \"sqrt(-2*log(random()))*cos(2*PI*random())\", \"as\": \"jitter\"}, {\"filter\": \"(datum.fastest_trip === 1)\"}]}]}]}, \"resolve\": {\"scale\": {\"y\": \"shared\"}}, \"title\": \"Ratio of Bus to Car Travel Time\", \"$schema\": \"https://vega.github.io/schema/vega-lite/v4.17.0.json\", \"datasets\": {\"data-71b245d6a18ed6e36379326cd77f2de1\": [{\"calitp_itp_id\": 188, \"trip_key\": -2641669920132545549, \"trip_id\": \"t_1132977_b_26467_tn_0\", \"shape_id\": \"p_1067\", \"route_id\": \"578\", \"service_hours\": 0.55, \"trip_first_departure_ts\": 25200, \"trip_last_arrival_ts\": 27180, \"departure_hour\": 7, \"time_of_day\": \"AM Peak\", \"p25\": 0.72, \"p50\": 0.745, \"p75\": 0.77, \"p50_trip\": 0, \"fastest_trip\": 1, \"car_duration_hours\": 0.39, \"competitive_route\": 1, \"bus_multiplier\": 1.41, \"bus_difference\": 9.6, \"num_trips\": 10, \"num_competitive\": 9, \"pct_trips_competitive\": 0.9, \"bus_difference_spread\": 16.8, \"route_group\": \"short\", \"max_trip_hrs\": 0.83, \"max_trip_route_group\": 0.83, \"name\": \"City of Madera\", \"caltrans_district\": \"06 - Fresno\", \"drmt_organization_name\": null, \"cutoff2\": 20, \"cutoff\": 2}, {\"calitp_itp_id\": 188, \"trip_key\": -2393327093126611726, \"trip_id\": \"t_1132963_b_26467_tn_0\", \"shape_id\": \"p_1064\", \"route_id\": \"578\", \"service_hours\": 0.72, \"trip_first_departure_ts\": 30540, \"trip_last_arrival_ts\": 33120, \"departure_hour\": 8, \"time_of_day\": \"AM Peak\", \"p25\": 0.72, \"p50\": 0.745, \"p75\": 0.77, \"p50_trip\": 1, \"fastest_trip\": 0, \"car_duration_hours\": 0.39, \"competitive_route\": 1, \"bus_multiplier\": 1.85, \"bus_difference\": 19.8, \"num_trips\": 10, \"num_competitive\": 9, \"pct_trips_competitive\": 0.9, \"bus_difference_spread\": 16.8, \"route_group\": \"short\", \"max_trip_hrs\": 0.83, \"max_trip_route_group\": 0.83, \"name\": \"City of Madera\", \"caltrans_district\": \"06 - Fresno\", \"drmt_organization_name\": null, \"cutoff2\": 20, \"cutoff\": 2}, {\"calitp_itp_id\": 188, \"trip_key\": -2566914439044457099, \"trip_id\": \"t_1132954_b_26467_tn_0\", \"shape_id\": \"p_1064\", \"route_id\": \"578\", \"service_hours\": 0.72, \"trip_first_departure_ts\": 42900, \"trip_last_arrival_ts\": 45480, \"departure_hour\": 11, \"time_of_day\": \"Midday\", \"p25\": 0.72, \"p50\": 0.745, \"p75\": 0.77, \"p50_trip\": 1, \"fastest_trip\": 0, \"car_duration_hours\": 0.39, \"competitive_route\": 1, \"bus_multiplier\": 1.85, \"bus_difference\": 19.8, \"num_trips\": 10, \"num_competitive\": 9, \"pct_trips_competitive\": 0.9, \"bus_difference_spread\": 16.8, \"route_group\": \"short\", \"max_trip_hrs\": 0.83, \"max_trip_route_group\": 0.83, \"name\": \"City of Madera\", \"caltrans_district\": \"06 - Fresno\", \"drmt_organization_name\": null, \"cutoff2\": 20, \"cutoff\": 2}, {\"calitp_itp_id\": 188, \"trip_key\": 40965869242350615, \"trip_id\": \"t_1132953_b_26467_tn_0\", \"shape_id\": \"p_1064\", \"route_id\": \"578\", \"service_hours\": 0.72, \"trip_first_departure_ts\": 61800, \"trip_last_arrival_ts\": 64380, \"departure_hour\": 17, \"time_of_day\": \"PM Peak\", \"p25\": 0.72, \"p50\": 0.745, \"p75\": 0.77, \"p50_trip\": 1, \"fastest_trip\": 0, \"car_duration_hours\": 0.39, \"competitive_route\": 1, \"bus_multiplier\": 1.85, \"bus_difference\": 19.8, \"num_trips\": 10, \"num_competitive\": 9, \"pct_trips_competitive\": 0.9, \"bus_difference_spread\": 16.8, \"route_group\": \"short\", \"max_trip_hrs\": 0.83, \"max_trip_route_group\": 0.83, \"name\": \"City of Madera\", \"caltrans_district\": \"06 - Fresno\", \"drmt_organization_name\": null, \"cutoff2\": 20, \"cutoff\": 2}, {\"calitp_itp_id\": 188, \"trip_key\": -5925132304342137618, \"trip_id\": \"t_1132980_b_26467_tn_0\", \"shape_id\": \"p_1064\", \"route_id\": \"578\", \"service_hours\": 0.72, \"trip_first_departure_ts\": 48960, \"trip_last_arrival_ts\": 51540, \"departure_hour\": 13, \"time_of_day\": \"Midday\", \"p25\": 0.72, \"p50\": 0.745, \"p75\": 0.77, \"p50_trip\": 1, \"fastest_trip\": 0, \"car_duration_hours\": 0.39, \"competitive_route\": 1, \"bus_multiplier\": 1.85, \"bus_difference\": 19.8, \"num_trips\": 10, \"num_competitive\": 9, \"pct_trips_competitive\": 0.9, \"bus_difference_spread\": 16.8, \"route_group\": \"short\", \"max_trip_hrs\": 0.83, \"max_trip_route_group\": 0.83, \"name\": \"City of Madera\", \"caltrans_district\": \"06 - Fresno\", \"drmt_organization_name\": null, \"cutoff2\": 20, \"cutoff\": 2}, {\"calitp_itp_id\": 188, \"trip_key\": 7845038673665587593, \"trip_id\": \"t_1132976_b_26467_tn_0\", \"shape_id\": \"p_1073\", \"route_id\": \"578\", \"service_hours\": 0.77, \"trip_first_departure_ts\": 46080, \"trip_last_arrival_ts\": 48840, \"departure_hour\": 12, \"time_of_day\": \"Midday\", \"p25\": 0.72, \"p50\": 0.745, \"p75\": 0.77, \"p50_trip\": 1, \"fastest_trip\": 0, \"car_duration_hours\": 0.39, \"competitive_route\": 1, \"bus_multiplier\": 1.97, \"bus_difference\": 22.8, \"num_trips\": 10, \"num_competitive\": 9, \"pct_trips_competitive\": 0.9, \"bus_difference_spread\": 16.8, \"route_group\": \"short\", \"max_trip_hrs\": 0.83, \"max_trip_route_group\": 0.83, \"name\": \"City of Madera\", \"caltrans_district\": \"06 - Fresno\", \"drmt_organization_name\": null, \"cutoff2\": 20, \"cutoff\": 2}, {\"calitp_itp_id\": 188, \"trip_key\": -3855198465341216613, \"trip_id\": \"t_1132955_b_26467_tn_0\", \"shape_id\": \"p_1073\", \"route_id\": \"578\", \"service_hours\": 0.77, \"trip_first_departure_ts\": 64980, \"trip_last_arrival_ts\": 67740, \"departure_hour\": 18, \"time_of_day\": \"PM Peak\", \"p25\": 0.72, \"p50\": 0.745, \"p75\": 0.77, \"p50_trip\": 1, \"fastest_trip\": 0, \"car_duration_hours\": 0.39, \"competitive_route\": 1, \"bus_multiplier\": 1.97, \"bus_difference\": 22.8, \"num_trips\": 10, \"num_competitive\": 9, \"pct_trips_competitive\": 0.9, \"bus_difference_spread\": 16.8, \"route_group\": \"short\", \"max_trip_hrs\": 0.83, \"max_trip_route_group\": 0.83, \"name\": \"City of Madera\", \"caltrans_district\": \"06 - Fresno\", \"drmt_organization_name\": null, \"cutoff2\": 20, \"cutoff\": 2}, {\"calitp_itp_id\": 188, \"trip_key\": 279413631006152187, \"trip_id\": \"t_1132962_b_26467_tn_0\", \"shape_id\": \"p_1073\", \"route_id\": \"578\", \"service_hours\": 0.77, \"trip_first_departure_ts\": 52140, \"trip_last_arrival_ts\": 54900, \"departure_hour\": 14, \"time_of_day\": \"Midday\", \"p25\": 0.72, \"p50\": 0.745, \"p75\": 0.77, \"p50_trip\": 1, \"fastest_trip\": 0, \"car_duration_hours\": 0.39, \"competitive_route\": 1, \"bus_multiplier\": 1.97, \"bus_difference\": 22.8, \"num_trips\": 10, \"num_competitive\": 9, \"pct_trips_competitive\": 0.9, \"bus_difference_spread\": 16.8, \"route_group\": \"short\", \"max_trip_hrs\": 0.83, \"max_trip_route_group\": 0.83, \"name\": \"City of Madera\", \"caltrans_district\": \"06 - Fresno\", \"drmt_organization_name\": null, \"cutoff2\": 20, \"cutoff\": 2}, {\"calitp_itp_id\": 188, \"trip_key\": -2894225209790042046, \"trip_id\": \"t_1132958_b_26467_tn_0\", \"shape_id\": \"p_1073\", \"route_id\": \"578\", \"service_hours\": 0.77, \"trip_first_departure_ts\": 27780, \"trip_last_arrival_ts\": 30540, \"departure_hour\": 7, \"time_of_day\": \"AM Peak\", \"p25\": 0.72, \"p50\": 0.745, \"p75\": 0.77, \"p50_trip\": 1, \"fastest_trip\": 0, \"car_duration_hours\": 0.39, \"competitive_route\": 1, \"bus_multiplier\": 1.97, \"bus_difference\": 22.8, \"num_trips\": 10, \"num_competitive\": 9, \"pct_trips_competitive\": 0.9, \"bus_difference_spread\": 16.8, \"route_group\": \"short\", \"max_trip_hrs\": 0.83, \"max_trip_route_group\": 0.83, \"name\": \"City of Madera\", \"caltrans_district\": \"06 - Fresno\", \"drmt_organization_name\": null, \"cutoff2\": 20, \"cutoff\": 2}, {\"calitp_itp_id\": 188, \"trip_key\": -9171099014416481053, \"trip_id\": \"t_1132961_b_26467_tn_0\", \"shape_id\": \"p_1073\", \"route_id\": \"578\", \"service_hours\": 0.83, \"trip_first_departure_ts\": 33720, \"trip_last_arrival_ts\": 36720, \"departure_hour\": 9, \"time_of_day\": \"AM Peak\", \"p25\": 0.72, \"p50\": 0.745, \"p75\": 0.77, \"p50_trip\": 0, \"fastest_trip\": 0, \"car_duration_hours\": 0.39, \"competitive_route\": 1, \"bus_multiplier\": 2.13, \"bus_difference\": 26.4, \"num_trips\": 10, \"num_competitive\": 9, \"pct_trips_competitive\": 0.9, \"bus_difference_spread\": 16.8, \"route_group\": \"short\", \"max_trip_hrs\": 0.83, \"max_trip_route_group\": 0.83, \"name\": \"City of Madera\", \"caltrans_district\": \"06 - Fresno\", \"drmt_organization_name\": null, \"cutoff2\": 20, \"cutoff\": 2}]}}, {\"mode\": \"vega-lite\"});\n",
       "</script>"
      ],
      "text/plain": [
       "alt.FacetChart(...)"
      ]
     },
     "metadata": {},
     "output_type": "display_data"
    },
    {
     "data": {
      "text/html": [
       "\n",
       "<div id=\"altair-viz-28c1b1a6f43d4a8eaf068f6c8a984db9\"></div>\n",
       "<script type=\"text/javascript\">\n",
       "  var VEGA_DEBUG = (typeof VEGA_DEBUG == \"undefined\") ? {} : VEGA_DEBUG;\n",
       "  (function(spec, embedOpt){\n",
       "    let outputDiv = document.currentScript.previousElementSibling;\n",
       "    if (outputDiv.id !== \"altair-viz-28c1b1a6f43d4a8eaf068f6c8a984db9\") {\n",
       "      outputDiv = document.getElementById(\"altair-viz-28c1b1a6f43d4a8eaf068f6c8a984db9\");\n",
       "    }\n",
       "    const paths = {\n",
       "      \"vega\": \"https://cdn.jsdelivr.net/npm//vega@5?noext\",\n",
       "      \"vega-lib\": \"https://cdn.jsdelivr.net/npm//vega-lib?noext\",\n",
       "      \"vega-lite\": \"https://cdn.jsdelivr.net/npm//vega-lite@4.17.0?noext\",\n",
       "      \"vega-embed\": \"https://cdn.jsdelivr.net/npm//vega-embed@6?noext\",\n",
       "    };\n",
       "\n",
       "    function maybeLoadScript(lib, version) {\n",
       "      var key = `${lib.replace(\"-\", \"\")}_version`;\n",
       "      return (VEGA_DEBUG[key] == version) ?\n",
       "        Promise.resolve(paths[lib]) :\n",
       "        new Promise(function(resolve, reject) {\n",
       "          var s = document.createElement('script');\n",
       "          document.getElementsByTagName(\"head\")[0].appendChild(s);\n",
       "          s.async = true;\n",
       "          s.onload = () => {\n",
       "            VEGA_DEBUG[key] = version;\n",
       "            return resolve(paths[lib]);\n",
       "          };\n",
       "          s.onerror = () => reject(`Error loading script: ${paths[lib]}`);\n",
       "          s.src = paths[lib];\n",
       "        });\n",
       "    }\n",
       "\n",
       "    function showError(err) {\n",
       "      outputDiv.innerHTML = `<div class=\"error\" style=\"color:red;\">${err}</div>`;\n",
       "      throw err;\n",
       "    }\n",
       "\n",
       "    function displayChart(vegaEmbed) {\n",
       "      vegaEmbed(outputDiv, spec, embedOpt)\n",
       "        .catch(err => showError(`Javascript Error: ${err.message}<br>This usually means there's a typo in your chart specification. See the javascript console for the full traceback.`));\n",
       "    }\n",
       "\n",
       "    if(typeof define === \"function\" && define.amd) {\n",
       "      requirejs.config({paths});\n",
       "      require([\"vega-embed\"], displayChart, err => showError(`Error loading script: ${err.message}`));\n",
       "    } else {\n",
       "      maybeLoadScript(\"vega\", \"5\")\n",
       "        .then(() => maybeLoadScript(\"vega-lite\", \"4.17.0\"))\n",
       "        .then(() => maybeLoadScript(\"vega-embed\", \"6\"))\n",
       "        .catch(showError)\n",
       "        .then(() => displayChart(vegaEmbed));\n",
       "    }\n",
       "  })({\"config\": {\"view\": {\"continuousWidth\": 400, \"continuousHeight\": 300, \"stroke\": null}, \"facet\": {\"spacing\": 0}}, \"data\": {\"name\": \"data-5a9ea582ab3f66b185387ef275aff0c8\"}, \"facet\": {\"column\": {\"field\": \"route_id\", \"sort\": [\"578\"], \"title\": \"Route ID\", \"type\": \"nominal\"}}, \"spec\": {\"layer\": [{\"mark\": \"rule\", \"encoding\": {\"color\": {\"value\": \"black\"}, \"y\": {\"field\": \"cutoff\", \"type\": \"quantitative\"}}, \"selection\": {\"selector002\": {\"type\": \"interval\", \"bind\": \"scales\", \"encodings\": [\"x\", \"y\"]}}}, {\"mark\": {\"type\": \"rule\", \"strokeDash\": [3, 3]}, \"encoding\": {\"color\": {\"value\": \"#323434\"}, \"y\": {\"field\": \"cutoff2\", \"type\": \"quantitative\"}}}, {\"mark\": {\"type\": \"point\", \"opacity\": 0.65, \"size\": 12, \"strokeWidth\": 1.1}, \"encoding\": {\"color\": {\"field\": \"time_of_day\", \"scale\": {\"range\": [\"#136C97\", \"#E16B26\", \"#F6BF16\", \"#00896B\", \"#7790A3\", \"#5B559C\"]}, \"sort\": [\"AM Peak\", \"Midday\", \"PM Peak\", \"Owl Service\"], \"title\": \"Time of Day\", \"type\": \"nominal\"}, \"tooltip\": [{\"field\": \"route_id\", \"type\": \"nominal\"}, {\"field\": \"trip_id\", \"type\": \"nominal\"}, {\"field\": \"service_hours\", \"type\": \"quantitative\"}, {\"field\": \"car_duration_hours\", \"type\": \"quantitative\"}, {\"field\": \"bus_multiplier\", \"type\": \"quantitative\"}, {\"field\": \"bus_difference\", \"type\": \"quantitative\"}, {\"field\": \"num_trips\", \"type\": \"quantitative\"}, {\"field\": \"num_competitive\", \"type\": \"quantitative\"}, {\"field\": \"pct_trips_competitive\", \"type\": \"quantitative\"}, {\"field\": \"p25\", \"type\": \"quantitative\"}, {\"field\": \"p50\", \"type\": \"quantitative\"}, {\"field\": \"p75\", \"type\": \"quantitative\"}], \"x\": {\"axis\": {\"grid\": false, \"labels\": false, \"ticks\": true, \"values\": [0]}, \"field\": \"jitter\", \"scale\": {}, \"title\": null, \"type\": \"quantitative\"}, \"y\": {\"field\": \"bus_difference\", \"scale\": {\"domain\": [-5, 65.4]}, \"title\": \"Difference in Bus to Car Travel Time (min)\", \"type\": \"quantitative\"}}, \"transform\": [{\"calculate\": \"sqrt(-2*log(random()))*cos(2*PI*random())\", \"as\": \"jitter\"}], \"width\": 50}, {\"layer\": [{\"mark\": {\"type\": \"point\", \"opacity\": 0.6, \"size\": 20, \"strokeWidth\": 1.3}, \"encoding\": {\"color\": {\"value\": \"#323434\"}, \"y\": {\"field\": \"bus_difference\", \"type\": \"quantitative\"}}, \"transform\": [{\"filter\": \"(datum.p50_trip === 1)\"}]}, {\"mark\": {\"type\": \"text\", \"align\": \"center\", \"baseline\": \"middle\"}, \"encoding\": {\"color\": {\"value\": \"black\"}, \"text\": {\"field\": \"pct_trips_competitive\", \"format\": \".0%\", \"type\": \"quantitative\"}, \"tooltip\": [{\"field\": \"route_id\", \"type\": \"nominal\"}, {\"field\": \"trip_id\", \"type\": \"nominal\"}, {\"field\": \"service_hours\", \"type\": \"quantitative\"}, {\"field\": \"car_duration_hours\", \"type\": \"quantitative\"}, {\"field\": \"bus_multiplier\", \"type\": \"quantitative\"}, {\"field\": \"bus_difference\", \"type\": \"quantitative\"}, {\"field\": \"num_trips\", \"type\": \"quantitative\"}, {\"field\": \"num_competitive\", \"type\": \"quantitative\"}, {\"field\": \"pct_trips_competitive\", \"type\": \"quantitative\"}, {\"field\": \"p25\", \"type\": \"quantitative\"}, {\"field\": \"p50\", \"type\": \"quantitative\"}, {\"field\": \"p75\", \"type\": \"quantitative\"}], \"x\": {\"value\": 30}, \"y\": {\"value\": 15}}, \"transform\": [{\"calculate\": \"sqrt(-2*log(random()))*cos(2*PI*random())\", \"as\": \"jitter\"}, {\"filter\": \"(datum.fastest_trip === 1)\"}]}]}]}, \"resolve\": {\"scale\": {\"y\": \"shared\"}}, \"title\": \"Difference in Bus to Car Travel Time (min)\", \"$schema\": \"https://vega.github.io/schema/vega-lite/v4.17.0.json\", \"datasets\": {\"data-5a9ea582ab3f66b185387ef275aff0c8\": [{\"calitp_itp_id\": 188, \"trip_key\": -2641669920132545549, \"trip_id\": \"t_1132977_b_26467_tn_0\", \"shape_id\": \"p_1067\", \"route_id\": \"578\", \"service_hours\": 0.55, \"trip_first_departure_ts\": 25200, \"trip_last_arrival_ts\": 27180, \"departure_hour\": 7, \"time_of_day\": \"AM Peak\", \"p25\": 0.72, \"p50\": 0.745, \"p75\": 0.77, \"p50_trip\": 0, \"fastest_trip\": 1, \"car_duration_hours\": 0.39, \"competitive_route\": 1, \"bus_multiplier\": 1.41, \"bus_difference\": 9.6, \"num_trips\": 10, \"num_competitive\": 9, \"pct_trips_competitive\": 0.9, \"bus_difference_spread\": 16.8, \"route_group\": \"short\", \"max_trip_hrs\": 0.83, \"max_trip_route_group\": 0.83, \"name\": \"City of Madera\", \"caltrans_district\": \"06 - Fresno\", \"drmt_organization_name\": null, \"cutoff2\": 20, \"cutoff\": 0}, {\"calitp_itp_id\": 188, \"trip_key\": -2393327093126611726, \"trip_id\": \"t_1132963_b_26467_tn_0\", \"shape_id\": \"p_1064\", \"route_id\": \"578\", \"service_hours\": 0.72, \"trip_first_departure_ts\": 30540, \"trip_last_arrival_ts\": 33120, \"departure_hour\": 8, \"time_of_day\": \"AM Peak\", \"p25\": 0.72, \"p50\": 0.745, \"p75\": 0.77, \"p50_trip\": 1, \"fastest_trip\": 0, \"car_duration_hours\": 0.39, \"competitive_route\": 1, \"bus_multiplier\": 1.85, \"bus_difference\": 19.8, \"num_trips\": 10, \"num_competitive\": 9, \"pct_trips_competitive\": 0.9, \"bus_difference_spread\": 16.8, \"route_group\": \"short\", \"max_trip_hrs\": 0.83, \"max_trip_route_group\": 0.83, \"name\": \"City of Madera\", \"caltrans_district\": \"06 - Fresno\", \"drmt_organization_name\": null, \"cutoff2\": 20, \"cutoff\": 0}, {\"calitp_itp_id\": 188, \"trip_key\": -2566914439044457099, \"trip_id\": \"t_1132954_b_26467_tn_0\", \"shape_id\": \"p_1064\", \"route_id\": \"578\", \"service_hours\": 0.72, \"trip_first_departure_ts\": 42900, \"trip_last_arrival_ts\": 45480, \"departure_hour\": 11, \"time_of_day\": \"Midday\", \"p25\": 0.72, \"p50\": 0.745, \"p75\": 0.77, \"p50_trip\": 1, \"fastest_trip\": 0, \"car_duration_hours\": 0.39, \"competitive_route\": 1, \"bus_multiplier\": 1.85, \"bus_difference\": 19.8, \"num_trips\": 10, \"num_competitive\": 9, \"pct_trips_competitive\": 0.9, \"bus_difference_spread\": 16.8, \"route_group\": \"short\", \"max_trip_hrs\": 0.83, \"max_trip_route_group\": 0.83, \"name\": \"City of Madera\", \"caltrans_district\": \"06 - Fresno\", \"drmt_organization_name\": null, \"cutoff2\": 20, \"cutoff\": 0}, {\"calitp_itp_id\": 188, \"trip_key\": 40965869242350615, \"trip_id\": \"t_1132953_b_26467_tn_0\", \"shape_id\": \"p_1064\", \"route_id\": \"578\", \"service_hours\": 0.72, \"trip_first_departure_ts\": 61800, \"trip_last_arrival_ts\": 64380, \"departure_hour\": 17, \"time_of_day\": \"PM Peak\", \"p25\": 0.72, \"p50\": 0.745, \"p75\": 0.77, \"p50_trip\": 1, \"fastest_trip\": 0, \"car_duration_hours\": 0.39, \"competitive_route\": 1, \"bus_multiplier\": 1.85, \"bus_difference\": 19.8, \"num_trips\": 10, \"num_competitive\": 9, \"pct_trips_competitive\": 0.9, \"bus_difference_spread\": 16.8, \"route_group\": \"short\", \"max_trip_hrs\": 0.83, \"max_trip_route_group\": 0.83, \"name\": \"City of Madera\", \"caltrans_district\": \"06 - Fresno\", \"drmt_organization_name\": null, \"cutoff2\": 20, \"cutoff\": 0}, {\"calitp_itp_id\": 188, \"trip_key\": -5925132304342137618, \"trip_id\": \"t_1132980_b_26467_tn_0\", \"shape_id\": \"p_1064\", \"route_id\": \"578\", \"service_hours\": 0.72, \"trip_first_departure_ts\": 48960, \"trip_last_arrival_ts\": 51540, \"departure_hour\": 13, \"time_of_day\": \"Midday\", \"p25\": 0.72, \"p50\": 0.745, \"p75\": 0.77, \"p50_trip\": 1, \"fastest_trip\": 0, \"car_duration_hours\": 0.39, \"competitive_route\": 1, \"bus_multiplier\": 1.85, \"bus_difference\": 19.8, \"num_trips\": 10, \"num_competitive\": 9, \"pct_trips_competitive\": 0.9, \"bus_difference_spread\": 16.8, \"route_group\": \"short\", \"max_trip_hrs\": 0.83, \"max_trip_route_group\": 0.83, \"name\": \"City of Madera\", \"caltrans_district\": \"06 - Fresno\", \"drmt_organization_name\": null, \"cutoff2\": 20, \"cutoff\": 0}, {\"calitp_itp_id\": 188, \"trip_key\": 7845038673665587593, \"trip_id\": \"t_1132976_b_26467_tn_0\", \"shape_id\": \"p_1073\", \"route_id\": \"578\", \"service_hours\": 0.77, \"trip_first_departure_ts\": 46080, \"trip_last_arrival_ts\": 48840, \"departure_hour\": 12, \"time_of_day\": \"Midday\", \"p25\": 0.72, \"p50\": 0.745, \"p75\": 0.77, \"p50_trip\": 1, \"fastest_trip\": 0, \"car_duration_hours\": 0.39, \"competitive_route\": 1, \"bus_multiplier\": 1.97, \"bus_difference\": 22.8, \"num_trips\": 10, \"num_competitive\": 9, \"pct_trips_competitive\": 0.9, \"bus_difference_spread\": 16.8, \"route_group\": \"short\", \"max_trip_hrs\": 0.83, \"max_trip_route_group\": 0.83, \"name\": \"City of Madera\", \"caltrans_district\": \"06 - Fresno\", \"drmt_organization_name\": null, \"cutoff2\": 20, \"cutoff\": 0}, {\"calitp_itp_id\": 188, \"trip_key\": -3855198465341216613, \"trip_id\": \"t_1132955_b_26467_tn_0\", \"shape_id\": \"p_1073\", \"route_id\": \"578\", \"service_hours\": 0.77, \"trip_first_departure_ts\": 64980, \"trip_last_arrival_ts\": 67740, \"departure_hour\": 18, \"time_of_day\": \"PM Peak\", \"p25\": 0.72, \"p50\": 0.745, \"p75\": 0.77, \"p50_trip\": 1, \"fastest_trip\": 0, \"car_duration_hours\": 0.39, \"competitive_route\": 1, \"bus_multiplier\": 1.97, \"bus_difference\": 22.8, \"num_trips\": 10, \"num_competitive\": 9, \"pct_trips_competitive\": 0.9, \"bus_difference_spread\": 16.8, \"route_group\": \"short\", \"max_trip_hrs\": 0.83, \"max_trip_route_group\": 0.83, \"name\": \"City of Madera\", \"caltrans_district\": \"06 - Fresno\", \"drmt_organization_name\": null, \"cutoff2\": 20, \"cutoff\": 0}, {\"calitp_itp_id\": 188, \"trip_key\": 279413631006152187, \"trip_id\": \"t_1132962_b_26467_tn_0\", \"shape_id\": \"p_1073\", \"route_id\": \"578\", \"service_hours\": 0.77, \"trip_first_departure_ts\": 52140, \"trip_last_arrival_ts\": 54900, \"departure_hour\": 14, \"time_of_day\": \"Midday\", \"p25\": 0.72, \"p50\": 0.745, \"p75\": 0.77, \"p50_trip\": 1, \"fastest_trip\": 0, \"car_duration_hours\": 0.39, \"competitive_route\": 1, \"bus_multiplier\": 1.97, \"bus_difference\": 22.8, \"num_trips\": 10, \"num_competitive\": 9, \"pct_trips_competitive\": 0.9, \"bus_difference_spread\": 16.8, \"route_group\": \"short\", \"max_trip_hrs\": 0.83, \"max_trip_route_group\": 0.83, \"name\": \"City of Madera\", \"caltrans_district\": \"06 - Fresno\", \"drmt_organization_name\": null, \"cutoff2\": 20, \"cutoff\": 0}, {\"calitp_itp_id\": 188, \"trip_key\": -2894225209790042046, \"trip_id\": \"t_1132958_b_26467_tn_0\", \"shape_id\": \"p_1073\", \"route_id\": \"578\", \"service_hours\": 0.77, \"trip_first_departure_ts\": 27780, \"trip_last_arrival_ts\": 30540, \"departure_hour\": 7, \"time_of_day\": \"AM Peak\", \"p25\": 0.72, \"p50\": 0.745, \"p75\": 0.77, \"p50_trip\": 1, \"fastest_trip\": 0, \"car_duration_hours\": 0.39, \"competitive_route\": 1, \"bus_multiplier\": 1.97, \"bus_difference\": 22.8, \"num_trips\": 10, \"num_competitive\": 9, \"pct_trips_competitive\": 0.9, \"bus_difference_spread\": 16.8, \"route_group\": \"short\", \"max_trip_hrs\": 0.83, \"max_trip_route_group\": 0.83, \"name\": \"City of Madera\", \"caltrans_district\": \"06 - Fresno\", \"drmt_organization_name\": null, \"cutoff2\": 20, \"cutoff\": 0}, {\"calitp_itp_id\": 188, \"trip_key\": -9171099014416481053, \"trip_id\": \"t_1132961_b_26467_tn_0\", \"shape_id\": \"p_1073\", \"route_id\": \"578\", \"service_hours\": 0.83, \"trip_first_departure_ts\": 33720, \"trip_last_arrival_ts\": 36720, \"departure_hour\": 9, \"time_of_day\": \"AM Peak\", \"p25\": 0.72, \"p50\": 0.745, \"p75\": 0.77, \"p50_trip\": 0, \"fastest_trip\": 0, \"car_duration_hours\": 0.39, \"competitive_route\": 1, \"bus_multiplier\": 2.13, \"bus_difference\": 26.4, \"num_trips\": 10, \"num_competitive\": 9, \"pct_trips_competitive\": 0.9, \"bus_difference_spread\": 16.8, \"route_group\": \"short\", \"max_trip_hrs\": 0.83, \"max_trip_route_group\": 0.83, \"name\": \"City of Madera\", \"caltrans_district\": \"06 - Fresno\", \"drmt_organization_name\": null, \"cutoff2\": 20, \"cutoff\": 0}]}}, {\"mode\": \"vega-lite\"});\n",
       "</script>"
      ],
      "text/plain": [
       "alt.FacetChart(...)"
      ]
     },
     "metadata": {},
     "output_type": "display_data"
    }
   ],
   "source": [
    "# Allow for possibility that operator doesn't have routes that fall into certain route_groups\n",
    "# But, jupyterbook will not like markdown with f-string\n",
    "# separate out route_group and put in each cell, and use try/except + if to display...\n",
    "# but all 3 route groups must be displayed. just add sentence about why no routes were returned at the end\n",
    "route_group = \"short\"\n",
    "try:\n",
    "    display_charts_for_route_group(df, route_group)\n",
    "except:\n",
    "    print(\"No routes meet this criteria.\")"
   ]
  },
  {
   "cell_type": "markdown",
   "id": "c2931b6f-034d-4384-9e14-80b925e3b820",
   "metadata": {
    "papermill": {
     "duration": 0.016616,
     "end_time": "2022-05-09T19:59:21.895932",
     "exception": false,
     "start_time": "2022-05-09T19:59:21.879316",
     "status": "completed"
    },
    "tags": []
   },
   "source": [
    "### Medium Routes (1-1.5 hrs)"
   ]
  },
  {
   "cell_type": "code",
   "execution_count": 14,
   "id": "480edddc-4de0-48c2-ae4c-b0ceef8f28b5",
   "metadata": {
    "execution": {
     "iopub.execute_input": "2022-05-09T19:59:21.948258Z",
     "iopub.status.busy": "2022-05-09T19:59:21.947857Z",
     "iopub.status.idle": "2022-05-09T19:59:21.963628Z",
     "shell.execute_reply": "2022-05-09T19:59:21.962587Z"
    },
    "jupyter": {
     "source_hidden": true
    },
    "papermill": {
     "duration": 0.038341,
     "end_time": "2022-05-09T19:59:21.967579",
     "exception": false,
     "start_time": "2022-05-09T19:59:21.929238",
     "status": "completed"
    },
    "tags": [
     "remove_input"
    ]
   },
   "outputs": [
    {
     "name": "stdout",
     "output_type": "stream",
     "text": [
      "No routes meet this criteria.\n"
     ]
    }
   ],
   "source": [
    "route_group = \"medium\"\n",
    "try:\n",
    "    display_charts_for_route_group(df, route_group)\n",
    "except:\n",
    "    print(\"No routes meet this criteria.\")"
   ]
  },
  {
   "cell_type": "markdown",
   "id": "124b76d0-886c-4d03-92ac-f1bda3cda182",
   "metadata": {
    "papermill": {
     "duration": 0.020059,
     "end_time": "2022-05-09T19:59:22.008874",
     "exception": false,
     "start_time": "2022-05-09T19:59:21.988815",
     "status": "completed"
    },
    "tags": []
   },
   "source": [
    "### Long Routes (> 1.5 hrs)"
   ]
  },
  {
   "cell_type": "code",
   "execution_count": 15,
   "id": "ddc81b19-4c45-4c81-8b7a-5e0f394aa7a3",
   "metadata": {
    "execution": {
     "iopub.execute_input": "2022-05-09T19:59:22.051398Z",
     "iopub.status.busy": "2022-05-09T19:59:22.050688Z",
     "iopub.status.idle": "2022-05-09T19:59:22.076227Z",
     "shell.execute_reply": "2022-05-09T19:59:22.075130Z"
    },
    "jupyter": {
     "source_hidden": true
    },
    "papermill": {
     "duration": 0.048893,
     "end_time": "2022-05-09T19:59:22.078615",
     "exception": false,
     "start_time": "2022-05-09T19:59:22.029722",
     "status": "completed"
    },
    "tags": [
     "remove_input"
    ]
   },
   "outputs": [
    {
     "name": "stdout",
     "output_type": "stream",
     "text": [
      "No routes meet this criteria.\n"
     ]
    }
   ],
   "source": [
    "route_group = \"long\"\n",
    "try:\n",
    "    display_charts_for_route_group(df, route_group)\n",
    "except:\n",
    "    print(\"No routes meet this criteria.\")"
   ]
  },
  {
   "cell_type": "markdown",
   "id": "ace75b5f-0442-4fbe-aebd-6c3a13ae13a7",
   "metadata": {
    "papermill": {
     "duration": 0.019579,
     "end_time": "2022-05-09T19:59:22.115769",
     "exception": false,
     "start_time": "2022-05-09T19:59:22.096190",
     "status": "completed"
    },
    "tags": []
   },
   "source": [
    "### GTFS Real-Time Speedmaps"
   ]
  },
  {
   "cell_type": "code",
   "execution_count": 16,
   "id": "a0a114a1-e975-4027-9daf-50029f5ef59f",
   "metadata": {
    "execution": {
     "iopub.execute_input": "2022-05-09T19:59:22.156039Z",
     "iopub.status.busy": "2022-05-09T19:59:22.155697Z",
     "iopub.status.idle": "2022-05-09T19:59:22.212762Z",
     "shell.execute_reply": "2022-05-09T19:59:22.211832Z"
    },
    "jupyter": {
     "source_hidden": true
    },
    "papermill": {
     "duration": 0.079468,
     "end_time": "2022-05-09T19:59:22.215036",
     "exception": false,
     "start_time": "2022-05-09T19:59:22.135568",
     "status": "completed"
    },
    "tags": [
     "remove_input"
    ]
   },
   "outputs": [
    {
     "data": {
      "text/html": [
       "<a href=https://analysis.calitp.org/rt/district_06-fresno/speedmaps__itp_id_188.html>GTFS RT speedmaps here.</a>"
      ],
      "text/plain": [
       "<IPython.core.display.HTML object>"
      ]
     },
     "metadata": {},
     "output_type": "display_data"
    }
   ],
   "source": [
    "PORTFOLIO_SITE_YAML = \"../portfolio/analyses.yml\"\n",
    "\n",
    "# Grab list of ITP IDs with GTFS RT speedmaps\n",
    "rt_itp_id = deploy_portfolio_yaml.check_if_rt_data_available(PORTFOLIO_SITE_YAML)\n",
    "\n",
    "# Construct the URL \n",
    "RT_URL = (\"https://analysis.calitp.org/rt/\"\n",
    "          f\"district_{district_number}-{district_name}/\"\n",
    "          f\"speedmaps__itp_id_{itp_id}.html\"\n",
    "         ) \n",
    "\n",
    "if itp_id in rt_itp_id:\n",
    "    display(HTML(f'''<a href={RT_URL}>GTFS RT speedmaps here.</a>'''))\n",
    "\n",
    "else:\n",
    "    display(HTML(\"No GTFS RT data available.\"))"
   ]
  },
  {
   "cell_type": "code",
   "execution_count": null,
   "id": "5b680565-2230-4f2e-817c-718fad48d64c",
   "metadata": {
    "jupyter": {
     "source_hidden": true
    },
    "papermill": {
     "duration": 0.018229,
     "end_time": "2022-05-09T19:59:22.252176",
     "exception": false,
     "start_time": "2022-05-09T19:59:22.233947",
     "status": "completed"
    },
    "tags": [
     "remove_input"
    ]
   },
   "outputs": [],
   "source": []
  }
 ],
 "metadata": {
  "kernelspec": {
   "display_name": "Python 3 (ipykernel)",
   "language": "python",
   "name": "python3"
  },
  "language_info": {
   "codemirror_mode": {
    "name": "ipython",
    "version": 3
   },
   "file_extension": ".py",
   "mimetype": "text/x-python",
   "name": "python",
   "nbconvert_exporter": "python",
   "pygments_lexer": "ipython3",
   "version": "3.9.12"
  },
  "papermill": {
   "default_parameters": {},
   "duration": 29.082997,
   "end_time": "2022-05-09T19:59:24.922094",
   "environment_variables": {},
   "exception": null,
   "input_path": "bus_service_increase/competitive-parallel-routes.ipynb",
   "output_path": "portfolio/parallel_corridors/district_06-fresno/competitive-parallel-routes__itp_id_188.ipynb",
   "parameters": {
    "district": "06 - Fresno",
    "itp_id": 188
   },
   "start_time": "2022-05-09T19:58:55.839097",
   "version": "2.3.4"
  }
 },
 "nbformat": 4,
 "nbformat_minor": 5
}