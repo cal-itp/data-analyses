{
 "cells": [
  {
   "cell_type": "code",
   "execution_count": 1,
   "id": "95d00857-6a20-4529-a519-2cc7182928a9",
   "metadata": {
    "execution": {
     "iopub.execute_input": "2022-05-09T16:55:18.385081Z",
     "iopub.status.busy": "2022-05-09T16:55:18.384675Z",
     "iopub.status.idle": "2022-05-09T16:55:28.024574Z",
     "shell.execute_reply": "2022-05-09T16:55:28.023303Z"
    },
    "jupyter": {
     "source_hidden": true
    },
    "papermill": {
     "duration": 9.660919,
     "end_time": "2022-05-09T16:55:28.027841",
     "exception": false,
     "start_time": "2022-05-09T16:55:18.366922",
     "status": "completed"
    },
    "tags": [
     "remove_input"
    ]
   },
   "outputs": [],
   "source": [
    "%%capture\n",
    "import warnings\n",
    "warnings.filterwarnings('ignore')\n",
    "\n",
    "import altair as alt\n",
    "import calitp.magics\n",
    "import geopandas as gpd\n",
    "import intake\n",
    "import pandas as pd\n",
    "\n",
    "from IPython.display import display, Markdown, HTML\n",
    "\n",
    "import parallel_corridors_utils\n",
    "from shared_utils import styleguide\n",
    "import deploy_portfolio_yaml\n",
    "\n",
    "catalog = intake.open_catalog(\"./*.yml\")\n",
    "alt.renderers.enable(\"html\")"
   ]
  },
  {
   "cell_type": "code",
   "execution_count": 2,
   "id": "8af2a0c1-f3da-408d-9bea-11d9fbf8695d",
   "metadata": {
    "execution": {
     "iopub.execute_input": "2022-05-09T16:55:28.058126Z",
     "iopub.status.busy": "2022-05-09T16:55:28.057425Z",
     "iopub.status.idle": "2022-05-09T16:55:28.062492Z",
     "shell.execute_reply": "2022-05-09T16:55:28.061604Z"
    },
    "jupyter": {
     "source_hidden": true
    },
    "papermill": {
     "duration": 0.022614,
     "end_time": "2022-05-09T16:55:28.064908",
     "exception": false,
     "start_time": "2022-05-09T16:55:28.042294",
     "status": "completed"
    },
    "tags": [
     "parameters",
     "remove_input"
    ]
   },
   "outputs": [],
   "source": [
    "# parameters cell\n",
    "itp_id = 182"
   ]
  },
  {
   "cell_type": "code",
   "execution_count": 3,
   "id": "ac4b76be",
   "metadata": {
    "execution": {
     "iopub.execute_input": "2022-05-09T16:55:28.092955Z",
     "iopub.status.busy": "2022-05-09T16:55:28.092615Z",
     "iopub.status.idle": "2022-05-09T16:55:28.097264Z",
     "shell.execute_reply": "2022-05-09T16:55:28.096104Z"
    },
    "jupyter": {
     "source_hidden": true
    },
    "papermill": {
     "duration": 0.029739,
     "end_time": "2022-05-09T16:55:28.107502",
     "exception": false,
     "start_time": "2022-05-09T16:55:28.077763",
     "status": "completed"
    },
    "tags": [
     "injected-parameters",
     "remove_input"
    ]
   },
   "outputs": [],
   "source": [
    "# Parameters\n",
    "district = \"06 - Fresno\"\n",
    "itp_id = 71\n"
   ]
  },
  {
   "cell_type": "code",
   "execution_count": 4,
   "id": "9582aaf4-79ff-412a-b248-8d8d693ebd4f",
   "metadata": {
    "execution": {
     "iopub.execute_input": "2022-05-09T16:55:28.134066Z",
     "iopub.status.busy": "2022-05-09T16:55:28.133739Z",
     "iopub.status.idle": "2022-05-09T16:55:29.378513Z",
     "shell.execute_reply": "2022-05-09T16:55:29.377710Z"
    },
    "jupyter": {
     "source_hidden": true
    },
    "papermill": {
     "duration": 1.261353,
     "end_time": "2022-05-09T16:55:29.380908",
     "exception": false,
     "start_time": "2022-05-09T16:55:28.119555",
     "status": "completed"
    },
    "tags": [
     "remove_input"
    ]
   },
   "outputs": [],
   "source": [
    "df = catalog.competitive_route_variability.read()\n",
    "\n",
    "df = (df[(df.calitp_itp_id == itp_id) & \n",
    "         (df.route_group.notna())]\n",
    "      .reset_index(drop=True)\n",
    "     )\n",
    "\n",
    "\n",
    "if itp_id == 182:\n",
    "    df = df.assign(\n",
    "        route_id = df.route_id.str.replace('-13153', '').astype(int)\n",
    "    )"
   ]
  },
  {
   "cell_type": "code",
   "execution_count": 5,
   "id": "33ac4b06-f647-4dce-a625-8f2c1b37cc60",
   "metadata": {
    "execution": {
     "iopub.execute_input": "2022-05-09T16:55:29.409873Z",
     "iopub.status.busy": "2022-05-09T16:55:29.409565Z",
     "iopub.status.idle": "2022-05-09T16:55:29.419991Z",
     "shell.execute_reply": "2022-05-09T16:55:29.419173Z"
    },
    "jupyter": {
     "source_hidden": true
    },
    "papermill": {
     "duration": 0.025385,
     "end_time": "2022-05-09T16:55:29.421920",
     "exception": false,
     "start_time": "2022-05-09T16:55:29.396535",
     "status": "completed"
    },
    "tags": [
     "remove_input"
    ]
   },
   "outputs": [],
   "source": [
    "%%capture_parameters\n",
    "operator_name = df.name.iloc[0]\n",
    "district_number = f\"{df.caltrans_district.iloc[0].split('-')[0].strip()}\"\n",
    "district_name = f\"{df.caltrans_district.iloc[0].split('-')[1].strip().lower().replace(' ', '-')}\"\n",
    "\n",
    "itp_id, operator_name, district_number, district_name"
   ]
  },
  {
   "cell_type": "markdown",
   "id": "65bc6f5c-8348-42ee-b2dd-52057c406852",
   "metadata": {
    "papermill": {
     "duration": 0.011803,
     "end_time": "2022-05-09T16:55:29.445311",
     "exception": false,
     "start_time": "2022-05-09T16:55:29.433508",
     "status": "completed"
    },
    "tags": []
   },
   "source": [
    "# City of Clovis (ITP ID: 71)"
   ]
  },
  {
   "cell_type": "code",
   "execution_count": 6,
   "id": "a689c1ab-2c6c-4831-8d64-897f5986f571",
   "metadata": {
    "execution": {
     "iopub.execute_input": "2022-05-09T16:55:29.470964Z",
     "iopub.status.busy": "2022-05-09T16:55:29.470090Z",
     "iopub.status.idle": "2022-05-09T16:55:29.476923Z",
     "shell.execute_reply": "2022-05-09T16:55:29.476407Z"
    },
    "jupyter": {
     "source_hidden": true
    },
    "papermill": {
     "duration": 0.021785,
     "end_time": "2022-05-09T16:55:29.478533",
     "exception": false,
     "start_time": "2022-05-09T16:55:29.456748",
     "status": "completed"
    },
    "tags": [
     "remove_input"
    ]
   },
   "outputs": [
    {
     "data": {
      "text/html": [
       "<h1>Competitive & Parallel Routes</h1>"
      ],
      "text/plain": [
       "<IPython.core.display.HTML object>"
      ]
     },
     "metadata": {},
     "output_type": "display_data"
    }
   ],
   "source": [
    "display(HTML(\"<h1>Competitive & Parallel Routes</h1>\")) "
   ]
  },
  {
   "cell_type": "code",
   "execution_count": 7,
   "id": "2cb4d8d5-4760-40e4-85b1-cb833d8bb648",
   "metadata": {
    "execution": {
     "iopub.execute_input": "2022-05-09T16:55:29.507484Z",
     "iopub.status.busy": "2022-05-09T16:55:29.506629Z",
     "iopub.status.idle": "2022-05-09T16:55:41.957308Z",
     "shell.execute_reply": "2022-05-09T16:55:41.956234Z"
    },
    "jupyter": {
     "source_hidden": true
    },
    "papermill": {
     "duration": 12.469339,
     "end_time": "2022-05-09T16:55:41.960332",
     "exception": false,
     "start_time": "2022-05-09T16:55:29.490993",
     "status": "completed"
    },
    "tags": [
     "remove_input"
    ]
   },
   "outputs": [],
   "source": [
    "# Grab parameters for narrative text - clean up formatting here \n",
    "district = df.caltrans_district.iloc[0]\n",
    "formatted_date = pd.to_datetime(parallel_corridors_utils.SELECTED_DATE).strftime('%m-%d-%Y')\n",
    "\n",
    "PCT_COMPETITIVE_THRESHOLD = 0.75\n",
    "\n",
    "stats = parallel_corridors_utils.operator_parallel_competitive_stats(\n",
    "    itp_id, PCT_COMPETITIVE_THRESHOLD)\n",
    "\n",
    "pct_parallel = round(stats['parallel_routes'] / stats['num_routes'] * 100,1 )\n",
    "pct_competitive =  round(stats['competitive_routes'] / stats['num_routes'] * 100,1 )"
   ]
  },
  {
   "cell_type": "markdown",
   "id": "ab667928-5274-4490-82d9-4c39293209a4",
   "metadata": {
    "papermill": {
     "duration": 0.0135,
     "end_time": "2022-05-09T16:55:41.988672",
     "exception": false,
     "start_time": "2022-05-09T16:55:41.975172",
     "status": "completed"
    },
    "tags": []
   },
   "source": [
    "## Quick Stats"
   ]
  },
  {
   "cell_type": "code",
   "execution_count": 8,
   "id": "0416509d-dc62-4165-b62e-64f8b26e8b8e",
   "metadata": {
    "execution": {
     "iopub.execute_input": "2022-05-09T16:55:42.021852Z",
     "iopub.status.busy": "2022-05-09T16:55:42.021495Z",
     "iopub.status.idle": "2022-05-09T16:55:42.029121Z",
     "shell.execute_reply": "2022-05-09T16:55:42.028083Z"
    },
    "jupyter": {
     "source_hidden": true
    },
    "papermill": {
     "duration": 0.028176,
     "end_time": "2022-05-09T16:55:42.031882",
     "exception": false,
     "start_time": "2022-05-09T16:55:42.003706",
     "status": "completed"
    },
    "tags": [
     "remove_input"
    ]
   },
   "outputs": [
    {
     "data": {
      "text/markdown": [
       "**Bus routes in service**: 2 <br>**Parallel routes** to State Highway Network (SHN): 1 routes (50.0%)<br>**Competitive routes** against car travel: 0 routes (0.0%)"
      ],
      "text/plain": [
       "<IPython.core.display.Markdown object>"
      ]
     },
     "metadata": {},
     "output_type": "display_data"
    }
   ],
   "source": [
    "display(\n",
    "    Markdown(\n",
    "        f\"**Bus routes in service**: {stats['num_routes']} \"\n",
    "        \"<br>**Parallel routes** to State Highway Network (SHN): \"\n",
    "        f\"{stats['parallel_routes']} routes ({pct_parallel}%)\"\n",
    "        f\"<br>**Competitive routes** against car travel: {stats['competitive_routes']} routes ({pct_competitive}%)\"\n",
    "    )\n",
    ")"
   ]
  },
  {
   "cell_type": "code",
   "execution_count": 9,
   "id": "f9d6ab58-f0ee-460c-b6de-657490e1f386",
   "metadata": {
    "execution": {
     "iopub.execute_input": "2022-05-09T16:55:42.063740Z",
     "iopub.status.busy": "2022-05-09T16:55:42.062615Z",
     "iopub.status.idle": "2022-05-09T16:55:42.074005Z",
     "shell.execute_reply": "2022-05-09T16:55:42.073057Z"
    },
    "jupyter": {
     "source_hidden": true
    },
    "papermill": {
     "duration": 0.029897,
     "end_time": "2022-05-09T16:55:42.076026",
     "exception": false,
     "start_time": "2022-05-09T16:55:42.046129",
     "status": "completed"
    },
    "tags": [
     "remove_input"
    ]
   },
   "outputs": [],
   "source": [
    "def set_yaxis_range(df, y_col):\n",
    "    Y_MIN = df[y_col].min()\n",
    "    Y_MAX = df[y_col].max()\n",
    "    \n",
    "    return Y_MIN, Y_MAX\n",
    "\n",
    "# Rather than set it according to the operator, which can vary,\n",
    "# just use set thresholds for each group\n",
    "diff_cutoffs = parallel_corridors_utils.diff_cutoffs\n",
    "\n",
    "PCT_TRIPS_BELOW_CUTOFF = 0.25\n",
    "\n",
    "def top15_routes(df, route_group):\n",
    "    df2 = (df[df.route_group==route_group])\n",
    "    # Set a cut-off to enable sorting, where most of the trips are \n",
    "    # below a certain time difference cut-off, \n",
    "    # grab top 15 routes where majority of trips are below that cut-off \n",
    "\n",
    "    route_cols = [\"calitp_itp_id\", \"route_id\"]\n",
    "\n",
    "    df2 = df2.assign(\n",
    "        below_cutoff = df2.apply(lambda x: 1 if x.bus_difference <= diff_cutoffs[route_group] \n",
    "                                 else 0, axis=1),\n",
    "        num_trips = df2.groupby(route_cols)[\"trip_id\"].transform(\"count\")\n",
    "    )\n",
    "\n",
    "    df2[\"below_cutoff\"] = df2.groupby(route_cols)[\"below_cutoff\"].transform(\"sum\")\n",
    "    df2[\"pct_below_cutoff\"] = df2.below_cutoff.divide(df2.num_trips)\n",
    "\n",
    "    # At least half the trips are below that cut-off\n",
    "    # but show 15 max, otherwise, show less, since these won't be as interesting to operators\n",
    "    df3 = (df2[df2.pct_below_cutoff >= PCT_TRIPS_BELOW_CUTOFF]\n",
    "           .sort_values([\"calitp_itp_id\", \"below_cutoff\", \n",
    "                         \"pct_below_cutoff\", \"route_id\"],\n",
    "                        ascending = [True, False, False, True]\n",
    "                       )\n",
    "           .drop_duplicates(subset=[\"calitp_itp_id\", \"route_id\"])\n",
    "          ).head(15)\n",
    "    \n",
    "    return list(df3.route_id)"
   ]
  },
  {
   "cell_type": "code",
   "execution_count": 10,
   "id": "cf36d559-3349-4144-8086-8ac9ce937a5a",
   "metadata": {
    "execution": {
     "iopub.execute_input": "2022-05-09T16:55:42.117301Z",
     "iopub.status.busy": "2022-05-09T16:55:42.116651Z",
     "iopub.status.idle": "2022-05-09T16:55:42.123478Z",
     "shell.execute_reply": "2022-05-09T16:55:42.122661Z"
    },
    "jupyter": {
     "source_hidden": true
    },
    "papermill": {
     "duration": 0.034471,
     "end_time": "2022-05-09T16:55:42.125605",
     "exception": false,
     "start_time": "2022-05-09T16:55:42.091134",
     "status": "completed"
    },
    "tags": [
     "remove_input"
    ]
   },
   "outputs": [],
   "source": [
    "def caption_with_cutoff(cutoff):\n",
    "    sentence = (\n",
    "        f\"<br>These are routes that have **at least {int(PCT_TRIPS_BELOW_CUTOFF*100)}% \"\n",
    "        \"of their trips take no more than an \"\n",
    "        f\"additional {cutoff} min** compared to a car \"\n",
    "        \"(up to 15 routes) are shown.\"\n",
    "        \"<br>Within each route group, routes are sorted in descending order \"\n",
    "        \"by % competitive trips and # trips below the additional time cut-off.\"\n",
    "    )\n",
    "    return sentence\n",
    "\n",
    "CAPTIONS_DICT = {\n",
    "    \"short\": caption_with_cutoff(diff_cutoffs['short']),\n",
    "    \"medium\": caption_with_cutoff(diff_cutoffs['medium']),\n",
    "    \"long\": caption_with_cutoff(diff_cutoffs['long']),\n",
    "}"
   ]
  },
  {
   "cell_type": "code",
   "execution_count": 11,
   "id": "e4306d58-6944-47e9-afef-5d5b524c751f",
   "metadata": {
    "execution": {
     "iopub.execute_input": "2022-05-09T16:55:42.158415Z",
     "iopub.status.busy": "2022-05-09T16:55:42.158041Z",
     "iopub.status.idle": "2022-05-09T16:55:42.166664Z",
     "shell.execute_reply": "2022-05-09T16:55:42.165477Z"
    },
    "jupyter": {
     "source_hidden": true
    },
    "papermill": {
     "duration": 0.028145,
     "end_time": "2022-05-09T16:55:42.168707",
     "exception": false,
     "start_time": "2022-05-09T16:55:42.140562",
     "status": "completed"
    },
    "tags": [
     "remove_input"
    ]
   },
   "outputs": [],
   "source": [
    "def setup_charts(df, PCT_COMPETITIVE_THRESHOLD, route_group):\n",
    "    # Set up df for charting (cut-off at some threshold to show most competitive routes)\n",
    "    plot_me = (df[df.pct_trips_competitive > PCT_COMPETITIVE_THRESHOLD]\n",
    "           .drop(columns = \"geometry\")\n",
    "    )\n",
    "    \n",
    "    y_col1 = \"bus_multiplier\"\n",
    "    Y_MIN1, Y_MAX1 = set_yaxis_range(plot_me, y_col1)\n",
    "\n",
    "    y_col2 = \"bus_difference\"\n",
    "    Y_MIN2, Y_MAX2 = set_yaxis_range(plot_me, y_col2)\n",
    "     \n",
    "    subset_routes = top15_routes(plot_me, route_group)\n",
    "    \n",
    "    multiplier_chart = parallel_corridors_utils.make_stripplot(\n",
    "        plot_me[plot_me.route_id.isin(subset_routes)], \n",
    "        y_col1, Y_MIN = Y_MIN1, Y_MAX = Y_MAX1\n",
    "    )\n",
    "    \n",
    "    difference_chart = parallel_corridors_utils.make_stripplot(\n",
    "        plot_me[plot_me.route_id.isin(subset_routes)], \n",
    "        y_col2, Y_MIN = Y_MIN2, Y_MAX = Y_MAX2\n",
    "    )\n",
    "    \n",
    "    return subset_routes, multiplier_chart, difference_chart            "
   ]
  },
  {
   "cell_type": "code",
   "execution_count": 12,
   "id": "33a710e8-504c-4942-aa75-ff69f216956e",
   "metadata": {
    "execution": {
     "iopub.execute_input": "2022-05-09T16:55:42.207118Z",
     "iopub.status.busy": "2022-05-09T16:55:42.206590Z",
     "iopub.status.idle": "2022-05-09T16:55:42.212833Z",
     "shell.execute_reply": "2022-05-09T16:55:42.211711Z"
    },
    "jupyter": {
     "source_hidden": true
    },
    "papermill": {
     "duration": 0.032636,
     "end_time": "2022-05-09T16:55:42.215707",
     "exception": false,
     "start_time": "2022-05-09T16:55:42.183071",
     "status": "completed"
    },
    "tags": [
     "remove_input"
    ]
   },
   "outputs": [],
   "source": [
    "def display_charts_for_route_group(df, route_group):    \n",
    "    subset_routes, mult, diff  = setup_charts(df, PCT_COMPETITIVE_THRESHOLD, route_group)\n",
    "\n",
    "    if len(subset_routes) > 0:\n",
    "        display(Markdown(f\"{CAPTIONS_DICT[route_group]}\"))\n",
    "\n",
    "        display(mult)\n",
    "        display(diff)"
   ]
  },
  {
   "cell_type": "markdown",
   "id": "525f9b38-072b-46d1-96a8-1aa4b038357c",
   "metadata": {
    "papermill": {
     "duration": 0.013647,
     "end_time": "2022-05-09T16:55:42.244239",
     "exception": false,
     "start_time": "2022-05-09T16:55:42.230592",
     "status": "completed"
    },
    "tags": []
   },
   "source": [
    "## Viable Competitive Routes\n",
    "### Short Routes (< 1 hr)"
   ]
  },
  {
   "cell_type": "code",
   "execution_count": 13,
   "id": "57f7084c-2cf7-45c6-ba08-1609e0bd6ca5",
   "metadata": {
    "execution": {
     "iopub.execute_input": "2022-05-09T16:55:42.274733Z",
     "iopub.status.busy": "2022-05-09T16:55:42.274374Z",
     "iopub.status.idle": "2022-05-09T16:55:42.289488Z",
     "shell.execute_reply": "2022-05-09T16:55:42.288175Z"
    },
    "jupyter": {
     "source_hidden": true
    },
    "papermill": {
     "duration": 0.033339,
     "end_time": "2022-05-09T16:55:42.291764",
     "exception": false,
     "start_time": "2022-05-09T16:55:42.258425",
     "status": "completed"
    },
    "tags": [
     "remove_input"
    ]
   },
   "outputs": [
    {
     "name": "stdout",
     "output_type": "stream",
     "text": [
      "No routes meet this criteria.\n"
     ]
    }
   ],
   "source": [
    "# Allow for possibility that operator doesn't have routes that fall into certain route_groups\n",
    "# But, jupyterbook will not like markdown with f-string\n",
    "# separate out route_group and put in each cell, and use try/except + if to display...\n",
    "# but all 3 route groups must be displayed. just add sentence about why no routes were returned at the end\n",
    "route_group = \"short\"\n",
    "try:\n",
    "    display_charts_for_route_group(df, route_group)\n",
    "except:\n",
    "    print(\"No routes meet this criteria.\")"
   ]
  },
  {
   "cell_type": "markdown",
   "id": "c2931b6f-034d-4384-9e14-80b925e3b820",
   "metadata": {
    "papermill": {
     "duration": 0.015472,
     "end_time": "2022-05-09T16:55:42.333544",
     "exception": false,
     "start_time": "2022-05-09T16:55:42.318072",
     "status": "completed"
    },
    "tags": []
   },
   "source": [
    "### Medium Routes (1-1.5 hrs)"
   ]
  },
  {
   "cell_type": "code",
   "execution_count": 14,
   "id": "480edddc-4de0-48c2-ae4c-b0ceef8f28b5",
   "metadata": {
    "execution": {
     "iopub.execute_input": "2022-05-09T16:55:42.365890Z",
     "iopub.status.busy": "2022-05-09T16:55:42.364797Z",
     "iopub.status.idle": "2022-05-09T16:55:42.378644Z",
     "shell.execute_reply": "2022-05-09T16:55:42.377680Z"
    },
    "jupyter": {
     "source_hidden": true
    },
    "papermill": {
     "duration": 0.032593,
     "end_time": "2022-05-09T16:55:42.380880",
     "exception": false,
     "start_time": "2022-05-09T16:55:42.348287",
     "status": "completed"
    },
    "tags": [
     "remove_input"
    ]
   },
   "outputs": [
    {
     "name": "stdout",
     "output_type": "stream",
     "text": [
      "No routes meet this criteria.\n"
     ]
    }
   ],
   "source": [
    "route_group = \"medium\"\n",
    "try:\n",
    "    display_charts_for_route_group(df, route_group)\n",
    "except:\n",
    "    print(\"No routes meet this criteria.\")"
   ]
  },
  {
   "cell_type": "markdown",
   "id": "124b76d0-886c-4d03-92ac-f1bda3cda182",
   "metadata": {
    "papermill": {
     "duration": 0.021055,
     "end_time": "2022-05-09T16:55:42.416822",
     "exception": false,
     "start_time": "2022-05-09T16:55:42.395767",
     "status": "completed"
    },
    "tags": []
   },
   "source": [
    "### Long Routes (> 1.5 hrs)"
   ]
  },
  {
   "cell_type": "code",
   "execution_count": 15,
   "id": "ddc81b19-4c45-4c81-8b7a-5e0f394aa7a3",
   "metadata": {
    "execution": {
     "iopub.execute_input": "2022-05-09T16:55:42.450568Z",
     "iopub.status.busy": "2022-05-09T16:55:42.449474Z",
     "iopub.status.idle": "2022-05-09T16:55:42.464103Z",
     "shell.execute_reply": "2022-05-09T16:55:42.463290Z"
    },
    "jupyter": {
     "source_hidden": true
    },
    "papermill": {
     "duration": 0.035143,
     "end_time": "2022-05-09T16:55:42.466947",
     "exception": false,
     "start_time": "2022-05-09T16:55:42.431804",
     "status": "completed"
    },
    "tags": [
     "remove_input"
    ]
   },
   "outputs": [
    {
     "name": "stdout",
     "output_type": "stream",
     "text": [
      "No routes meet this criteria.\n"
     ]
    }
   ],
   "source": [
    "route_group = \"long\"\n",
    "try:\n",
    "    display_charts_for_route_group(df, route_group)\n",
    "except:\n",
    "    print(\"No routes meet this criteria.\")"
   ]
  },
  {
   "cell_type": "markdown",
   "id": "ace75b5f-0442-4fbe-aebd-6c3a13ae13a7",
   "metadata": {
    "papermill": {
     "duration": 0.027504,
     "end_time": "2022-05-09T16:55:42.511908",
     "exception": false,
     "start_time": "2022-05-09T16:55:42.484404",
     "status": "completed"
    },
    "tags": []
   },
   "source": [
    "### GTFS Real-Time Speedmaps"
   ]
  },
  {
   "cell_type": "code",
   "execution_count": 16,
   "id": "3f06fdc4-d5a8-41f5-9b72-ed7e8a2dd2fc",
   "metadata": {
    "execution": {
     "iopub.execute_input": "2022-05-09T16:55:42.545617Z",
     "iopub.status.busy": "2022-05-09T16:55:42.545244Z",
     "iopub.status.idle": "2022-05-09T16:55:42.616423Z",
     "shell.execute_reply": "2022-05-09T16:55:42.615061Z"
    },
    "jupyter": {
     "source_hidden": true
    },
    "papermill": {
     "duration": 0.092129,
     "end_time": "2022-05-09T16:55:42.619712",
     "exception": false,
     "start_time": "2022-05-09T16:55:42.527583",
     "status": "completed"
    },
    "tags": [
     "remove_input"
    ]
   },
   "outputs": [
    {
     "data": {
      "text/html": [
       "No GTFS RT data available."
      ],
      "text/plain": [
       "<IPython.core.display.HTML object>"
      ]
     },
     "metadata": {},
     "output_type": "display_data"
    }
   ],
   "source": [
    "PORTFOLIO_SITE_YAML = \"../portfolio/analyses.yml\"\n",
    "\n",
    "# Grab list of ITP IDs with GTFS RT speedmaps\n",
    "rt_itp_id = deploy_portfolio_yaml.check_if_rt_data_available(PORTFOLIO_SITE_YAML)\n",
    "\n",
    "# Construct the URL \n",
    "RT_URL = (\"https://analysis.calitp.org/rt/\"\n",
    "          f\"district_{district_number}-{district_name}/\"\n",
    "          f\"speedmaps__itp_id_{itp_id}.html\"\n",
    "         ) \n",
    "\n",
    "if itp_id in rt_itp_id:\n",
    "    display(HTML('<a href=RT_URL>GTFS RT speedmaps here.</a>'))\n",
    "else:\n",
    "    display(HTML(\"No GTFS RT data available.\"))"
   ]
  },
  {
   "cell_type": "code",
   "execution_count": null,
   "id": "4664fe87-4e5e-4414-9602-a5c9c2a14072",
   "metadata": {
    "jupyter": {
     "source_hidden": true
    },
    "papermill": {
     "duration": 0.015685,
     "end_time": "2022-05-09T16:55:42.655091",
     "exception": false,
     "start_time": "2022-05-09T16:55:42.639406",
     "status": "completed"
    },
    "tags": [
     "remove_input"
    ]
   },
   "outputs": [],
   "source": []
  }
 ],
 "metadata": {
  "kernelspec": {
   "display_name": "Python 3 (ipykernel)",
   "language": "python",
   "name": "python3"
  },
  "language_info": {
   "codemirror_mode": {
    "name": "ipython",
    "version": 3
   },
   "file_extension": ".py",
   "mimetype": "text/x-python",
   "name": "python",
   "nbconvert_exporter": "python",
   "pygments_lexer": "ipython3",
   "version": "3.9.12"
  },
  "papermill": {
   "default_parameters": {},
   "duration": 28.073636,
   "end_time": "2022-05-09T16:55:45.032965",
   "environment_variables": {},
   "exception": null,
   "input_path": "bus_service_increase/competitive-parallel-routes.ipynb",
   "output_path": "portfolio/parallel_corridors/district_06-fresno/competitive-parallel-routes__itp_id_71.ipynb",
   "parameters": {
    "district": "06 - Fresno",
    "itp_id": 71
   },
   "start_time": "2022-05-09T16:55:16.959329",
   "version": "2.3.4"
  }
 },
 "nbformat": 4,
 "nbformat_minor": 5
}